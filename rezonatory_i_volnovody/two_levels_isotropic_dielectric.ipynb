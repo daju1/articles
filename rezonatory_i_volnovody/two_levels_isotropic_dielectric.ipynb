{
 "cells": [
  {
   "cell_type": "markdown",
   "metadata": {},
   "source": [
    "two_levels_isotropic_dielectric"
   ]
  },
  {
   "cell_type": "code",
   "execution_count": 1,
   "metadata": {},
   "outputs": [],
   "source": [
    "from IPython.display import display, Math, Latex\n",
    "\n",
    "k = var ('k')\n",
    "\n",
    "a = var('a')\n",
    "assume(a>0)\n",
    "\n",
    "x = var('x')\n",
    "y = var('y')\n",
    "z = var('z')\n",
    "\n",
    "c = var('c')\n",
    "assume(c>0)\n",
    "omega = var('omega')"
   ]
  },
  {
   "cell_type": "markdown",
   "metadata": {},
   "source": [
    "rot E = mu * i * omega / c * H\n",
    "\n",
    "rot H = - i * omega / c * epsilon_ab * E\n",
    "\n",
    "Laplasian E + mu * epsilon_ab * omega^2 / c^2 * E - grad div E = 0\n",
    "\n",
    "уравнение Даламбера\n",
    "\n",
    "mu * epsilon_ab / c^2 * diff(E, t, 2) - Laplasian E = 0\n",
    "\n",
    "Ищем решение в виде\n",
    "\n",
    "E = E(x) * exp(I * k * z) * exp(-I * omega * t)\n",
    "\n",
    "подставляя в уравнение Даламбера приходим к обыкновенному дифференциальному уравнению\n",
    "\n",
    "diff (E(x), x, 2) + (mu * epsilon * omega^2 / c^2 - k^2) * E(x) = 0\n",
    "\n",
    "для диэлектрика\n",
    "\n",
    "kappa^2 = (mu * epsilon * omega^2 / c^2 - k^2)\n",
    "\n",
    "diff (E(x), x, 2) + kappa^2 * E(x) = 0"
   ]
  },
  {
   "cell_type": "code",
   "execution_count": 2,
   "metadata": {},
   "outputs": [
    {
     "data": {
      "text/latex": [
       "$$\\left[\\kappa_{0}, \\kappa_{1}\\right]$$"
      ],
      "text/plain": [
       "<IPython.core.display.Math object>"
      ]
     },
     "metadata": {},
     "output_type": "display_data"
    }
   ],
   "source": [
    "n_layers = 2\n",
    "\n",
    "kappa = []\n",
    "for i in range(n_layers):\n",
    "    exec (\"kappa_\" + str(i) + \" = var ('kappa_\" + str(i) + \"') \")\n",
    "    exec (\"assume(kappa_\" + str(i) + \" > 0)\")\n",
    "    exec (\"kappa += [kappa_\" + str(i) + \"]\")\n",
    "\n",
    "display(Math(latex(kappa)))"
   ]
  },
  {
   "cell_type": "code",
   "execution_count": 3,
   "metadata": {},
   "outputs": [
    {
     "data": {
      "text/latex": [
       "$$\\left[\\epsilon_{0}, \\epsilon_{1}\\right]$$"
      ],
      "text/plain": [
       "<IPython.core.display.Math object>"
      ]
     },
     "metadata": {},
     "output_type": "display_data"
    }
   ],
   "source": [
    "epsilon = []\n",
    "for i in range(n_layers):\n",
    "    exec (\"epsilon_\" + str(i) + \" = var ('epsilon_\" + str(i) + \"') \")\n",
    "    exec (\"assume(epsilon_\" + str(i) + \" > 0)\")\n",
    "    exec (\"epsilon += [epsilon_\" + str(i) + \"]\")\n",
    "\n",
    "display(Math(latex(epsilon)))"
   ]
  },
  {
   "cell_type": "code",
   "execution_count": 4,
   "metadata": {},
   "outputs": [
    {
     "data": {
      "text/latex": [
       "$$\\left[\\mu_{0}, \\mu_{1}\\right]$$"
      ],
      "text/plain": [
       "<IPython.core.display.Math object>"
      ]
     },
     "metadata": {},
     "output_type": "display_data"
    }
   ],
   "source": [
    "mu = []\n",
    "for i in range(n_layers):\n",
    "    exec (\"mu_\" + str(i) + \" = var ('mu_\" + str(i) + \"') \")\n",
    "    exec (\"assume(mu_\" + str(i) + \" > 0)\")\n",
    "    exec (\"mu += [mu_\" + str(i) + \"]\")\n",
    "\n",
    "display(Math(latex(mu)))"
   ]
  },
  {
   "cell_type": "code",
   "execution_count": 5,
   "metadata": {},
   "outputs": [
    {
     "data": {
      "text/latex": [
       "$$\\left[-k^{2} + \\frac{\\epsilon_{0} \\mu_{0} \\omega^{2}}{c^{2}} = \\kappa_{0}^{2}, -k^{2} + \\frac{\\epsilon_{1} \\mu_{1} \\omega^{2}}{c^{2}} = \\kappa_{1}^{2}\\right]$$"
      ],
      "text/plain": [
       "<IPython.core.display.Math object>"
      ]
     },
     "metadata": {},
     "output_type": "display_data"
    }
   ],
   "source": [
    "# исходя из вида дифференциальных уравнений для диэлектрика\n",
    "# записываем соотнощения для волнового вектора в виде уравнений\n",
    "eq_kappa = []\n",
    "for i in range(n_layers):\n",
    "    eq_kappa += [mu[i] * epsilon[i] * omega^2 / c^2 - k^2 == kappa[i]^2]\n",
    "\n",
    "display(Math(latex(eq_kappa)))"
   ]
  },
  {
   "cell_type": "code",
   "execution_count": 6,
   "metadata": {},
   "outputs": [
    {
     "data": {
      "text/latex": [
       "$$K_{2} \\cos\\left(\\kappa_{1} x\\right) + K_{1} \\sin\\left(\\kappa_{1} x\\right)$$"
      ],
      "text/plain": [
       "<IPython.core.display.Math object>"
      ]
     },
     "metadata": {},
     "output_type": "display_data"
    }
   ],
   "source": [
    "# решаем полученные обыкновенные дифференциальные уравнения\n",
    "E_x = function('E_x')(x)\n",
    "\n",
    "de_dielectric_x = diff (E_x, x, 2) + kappa[i]^2 * E_x == 0\n",
    "E_dielectric_x = desolve(de_dielectric_x, E_x, ivar = x)\n",
    "\n",
    "\n",
    "# получая таким образом выражения для электрического поля в диэлектрике\n",
    "display(Math(latex(E_dielectric_x)))\n",
    "# _K2*cos(kappa*x) + _K1*sin(kappa*x)"
   ]
  },
  {
   "cell_type": "code",
   "execution_count": 7,
   "metadata": {},
   "outputs": [
    {
     "data": {
      "text/latex": [
       "$$\\left[\\mathit{Ax}_{0}, \\mathit{Ax}_{1}\\right]$$"
      ],
      "text/plain": [
       "<IPython.core.display.Math object>"
      ]
     },
     "metadata": {},
     "output_type": "display_data"
    },
    {
     "data": {
      "text/latex": [
       "$$\\left[\\mathit{Az}_{0}, \\mathit{Az}_{1}\\right]$$"
      ],
      "text/plain": [
       "<IPython.core.display.Math object>"
      ]
     },
     "metadata": {},
     "output_type": "display_data"
    },
    {
     "data": {
      "text/latex": [
       "$$\\left[\\mathit{Bx}_{0}, \\mathit{Bx}_{1}\\right]$$"
      ],
      "text/plain": [
       "<IPython.core.display.Math object>"
      ]
     },
     "metadata": {},
     "output_type": "display_data"
    },
    {
     "data": {
      "text/latex": [
       "$$\\left[\\mathit{Bz}_{0}, \\mathit{Bz}_{1}\\right]$$"
      ],
      "text/plain": [
       "<IPython.core.display.Math object>"
      ]
     },
     "metadata": {},
     "output_type": "display_data"
    }
   ],
   "source": [
    "Ax = []\n",
    "Az = []\n",
    "Bx = []\n",
    "Bz = []\n",
    "for i in range(n_layers):\n",
    "    exec (\"Ax_\" + str(i) + \" = var ('Ax_\" + str(i) + \"') \")\n",
    "    exec (\"Az_\" + str(i) + \" = var ('Az_\" + str(i) + \"') \")\n",
    "    exec (\"Bx_\" + str(i) + \" = var ('Bx_\" + str(i) + \"') \")\n",
    "    exec (\"Bz_\" + str(i) + \" = var ('Bz_\" + str(i) + \"') \")\n",
    "    exec (\"Ax += [Ax_\" + str(i) + \"]\")\n",
    "    exec (\"Bx += [Bx_\" + str(i) + \"]\")\n",
    "    exec (\"Az += [Az_\" + str(i) + \"]\")\n",
    "    exec (\"Bz += [Bz_\" + str(i) + \"]\")\n",
    "\n",
    "display(Math(latex(Ax)))\n",
    "display(Math(latex(Az)))\n",
    "display(Math(latex(Bx)))\n",
    "display(Math(latex(Bz)))"
   ]
  },
  {
   "cell_type": "code",
   "execution_count": 8,
   "metadata": {},
   "outputs": [
    {
     "data": {
      "text/latex": [
       "$$\\mathit{Ax}_{0} \\cos\\left(\\kappa_{0} x\\right) + \\mathit{Bx}_{0} \\sin\\left(\\kappa_{0} x\\right)$$"
      ],
      "text/plain": [
       "<IPython.core.display.Math object>"
      ]
     },
     "metadata": {},
     "output_type": "display_data"
    },
    {
     "data": {
      "text/latex": [
       "$$\\mathit{Az}_{0} \\cos\\left(\\kappa_{0} x\\right) + \\mathit{Bz}_{0} \\sin\\left(\\kappa_{0} x\\right)$$"
      ],
      "text/plain": [
       "<IPython.core.display.Math object>"
      ]
     },
     "metadata": {},
     "output_type": "display_data"
    },
    {
     "name": "stdout",
     "output_type": "stream",
     "text": [
      "\n"
     ]
    },
    {
     "data": {
      "text/latex": [
       "$$\\mathit{Ax}_{1} \\cos\\left(\\kappa_{1} x\\right) + \\mathit{Bx}_{1} \\sin\\left(\\kappa_{1} x\\right)$$"
      ],
      "text/plain": [
       "<IPython.core.display.Math object>"
      ]
     },
     "metadata": {},
     "output_type": "display_data"
    },
    {
     "data": {
      "text/latex": [
       "$$\\mathit{Az}_{1} \\cos\\left(\\kappa_{1} x\\right) + \\mathit{Bz}_{1} \\sin\\left(\\kappa_{1} x\\right)$$"
      ],
      "text/plain": [
       "<IPython.core.display.Math object>"
      ]
     },
     "metadata": {},
     "output_type": "display_data"
    },
    {
     "name": "stdout",
     "output_type": "stream",
     "text": [
      "\n"
     ]
    }
   ],
   "source": [
    "Ex = []\n",
    "Ez = []\n",
    "for i in range(n_layers):\n",
    "    Ex += [ lambda x, i=i : Ax[i] * cos(kappa[i] * x) + Bx[i] * sin(kappa[i] * x)]\n",
    "    Ez += [ lambda x, i=i : Az[i] * cos(kappa[i] * x) + Bz[i] * sin(kappa[i] * x)]\n",
    "\n",
    "for i in range(n_layers):\n",
    "    display(Math(latex(Ex[i](x))))\n",
    "    display(Math(latex(Ez[i](x))))\n",
    "    print(\"\")"
   ]
  },
  {
   "cell_type": "code",
   "execution_count": 9,
   "metadata": {},
   "outputs": [
    {
     "data": {
      "text/latex": [
       "$$-\\mathit{Bz}_{0} \\kappa_{0} \\cos\\left(\\kappa_{0} x\\right) + \\mathit{Az}_{0} \\kappa_{0} \\sin\\left(\\kappa_{0} x\\right) + i \\, {\\left(\\mathit{Ax}_{0} \\cos\\left(\\kappa_{0} x\\right) + \\mathit{Bx}_{0} \\sin\\left(\\kappa_{0} x\\right)\\right)} k$$"
      ],
      "text/plain": [
       "<IPython.core.display.Math object>"
      ]
     },
     "metadata": {},
     "output_type": "display_data"
    },
    {
     "data": {
      "text/latex": [
       "$$-\\mathit{Bz}_{0} \\kappa_{0} \\cos\\left(\\kappa_{0} x\\right) + \\mathit{Az}_{0} \\kappa_{0} \\sin\\left(\\kappa_{0} x\\right) + {\\left(i \\, \\mathit{Ax}_{0} \\cos\\left(\\kappa_{0} x\\right) + i \\, \\mathit{Bx}_{0} \\sin\\left(\\kappa_{0} x\\right)\\right)} k$$"
      ],
      "text/plain": [
       "<IPython.core.display.Math object>"
      ]
     },
     "metadata": {},
     "output_type": "display_data"
    },
    {
     "name": "stdout",
     "output_type": "stream",
     "text": [
      "\n"
     ]
    },
    {
     "data": {
      "text/latex": [
       "$$\\frac{i \\, {\\left(\\mathit{Bz}_{0} \\kappa_{0} \\cos\\left(\\kappa_{0} x\\right) - \\mathit{Az}_{0} \\kappa_{0} \\sin\\left(\\kappa_{0} x\\right) - {\\left(i \\, \\mathit{Ax}_{0} \\cos\\left(\\kappa_{0} x\\right) + i \\, \\mathit{Bx}_{0} \\sin\\left(\\kappa_{0} x\\right)\\right)} k\\right)} c}{\\mu_{0} \\omega}$$"
      ],
      "text/plain": [
       "<IPython.core.display.Math object>"
      ]
     },
     "metadata": {},
     "output_type": "display_data"
    },
    {
     "name": "stdout",
     "output_type": "stream",
     "text": [
      "\n"
     ]
    },
    {
     "data": {
      "text/latex": [
       "$$-\\mathit{Bz}_{1} \\kappa_{1} \\cos\\left(\\kappa_{1} x\\right) + \\mathit{Az}_{1} \\kappa_{1} \\sin\\left(\\kappa_{1} x\\right) + i \\, {\\left(\\mathit{Ax}_{1} \\cos\\left(\\kappa_{1} x\\right) + \\mathit{Bx}_{1} \\sin\\left(\\kappa_{1} x\\right)\\right)} k$$"
      ],
      "text/plain": [
       "<IPython.core.display.Math object>"
      ]
     },
     "metadata": {},
     "output_type": "display_data"
    },
    {
     "data": {
      "text/latex": [
       "$$-\\mathit{Bz}_{1} \\kappa_{1} \\cos\\left(\\kappa_{1} x\\right) + \\mathit{Az}_{1} \\kappa_{1} \\sin\\left(\\kappa_{1} x\\right) + {\\left(i \\, \\mathit{Ax}_{1} \\cos\\left(\\kappa_{1} x\\right) + i \\, \\mathit{Bx}_{1} \\sin\\left(\\kappa_{1} x\\right)\\right)} k$$"
      ],
      "text/plain": [
       "<IPython.core.display.Math object>"
      ]
     },
     "metadata": {},
     "output_type": "display_data"
    },
    {
     "name": "stdout",
     "output_type": "stream",
     "text": [
      "\n"
     ]
    },
    {
     "data": {
      "text/latex": [
       "$$\\frac{i \\, {\\left(\\mathit{Bz}_{1} \\kappa_{1} \\cos\\left(\\kappa_{1} x\\right) - \\mathit{Az}_{1} \\kappa_{1} \\sin\\left(\\kappa_{1} x\\right) - {\\left(i \\, \\mathit{Ax}_{1} \\cos\\left(\\kappa_{1} x\\right) + i \\, \\mathit{Bx}_{1} \\sin\\left(\\kappa_{1} x\\right)\\right)} k\\right)} c}{\\mu_{1} \\omega}$$"
      ],
      "text/plain": [
       "<IPython.core.display.Math object>"
      ]
     },
     "metadata": {},
     "output_type": "display_data"
    },
    {
     "name": "stdout",
     "output_type": "stream",
     "text": [
      "\n"
     ]
    }
   ],
   "source": [
    "rot_E_y = []\n",
    "rotE_y = []\n",
    "Hy = []\n",
    "for i in range(n_layers):\n",
    "    rot_E_y += [lambda x, i=i : (I * k * Ex[i](x) - diff(Ez[i](x), x))]\n",
    "    exec (\"rotE_y += [lambda x, i=i :\"+ str(rot_E_y[i](x)) + \"]\")\n",
    "    Hy      += [lambda x, i=i : c / (mu[i] * I * omega) * rotE_y[i](x)]\n",
    "\n",
    "    display(Math(latex(rot_E_y[i](x))))\n",
    "    display(Math(latex(rotE_y[i](x))))\n",
    "    print(\"\")\n",
    "    display(Math(latex(Hy[i](x))))\n",
    "    print(\"\")"
   ]
  },
  {
   "cell_type": "code",
   "execution_count": 10,
   "metadata": {},
   "outputs": [
    {
     "data": {
      "text/latex": [
       "$$\\frac{{\\left(\\mathit{Bz}_{0} \\kappa_{0} \\cos\\left(\\kappa_{0} x\\right) - \\mathit{Az}_{0} \\kappa_{0} \\sin\\left(\\kappa_{0} x\\right) - {\\left(i \\, \\mathit{Ax}_{0} \\cos\\left(\\kappa_{0} x\\right) + i \\, \\mathit{Bx}_{0} \\sin\\left(\\kappa_{0} x\\right)\\right)} k\\right)} c k}{\\mu_{0} \\omega}$$"
      ],
      "text/plain": [
       "<IPython.core.display.Math object>"
      ]
     },
     "metadata": {},
     "output_type": "display_data"
    },
    {
     "data": {
      "text/latex": [
       "$$-\\frac{i \\, {\\left(\\mathit{Az}_{0} \\kappa_{0}^{2} \\cos\\left(\\kappa_{0} x\\right) + \\mathit{Bz}_{0} \\kappa_{0}^{2} \\sin\\left(\\kappa_{0} x\\right) + {\\left(i \\, \\mathit{Bx}_{0} \\kappa_{0} \\cos\\left(\\kappa_{0} x\\right) - i \\, \\mathit{Ax}_{0} \\kappa_{0} \\sin\\left(\\kappa_{0} x\\right)\\right)} k\\right)} c}{\\mu_{0} \\omega}$$"
      ],
      "text/plain": [
       "<IPython.core.display.Math object>"
      ]
     },
     "metadata": {},
     "output_type": "display_data"
    },
    {
     "name": "stdout",
     "output_type": "stream",
     "text": [
      "\n"
     ]
    },
    {
     "data": {
      "text/latex": [
       "$$\\frac{{\\left(\\mathit{Bz}_{1} \\kappa_{1} \\cos\\left(\\kappa_{1} x\\right) - \\mathit{Az}_{1} \\kappa_{1} \\sin\\left(\\kappa_{1} x\\right) - {\\left(i \\, \\mathit{Ax}_{1} \\cos\\left(\\kappa_{1} x\\right) + i \\, \\mathit{Bx}_{1} \\sin\\left(\\kappa_{1} x\\right)\\right)} k\\right)} c k}{\\mu_{1} \\omega}$$"
      ],
      "text/plain": [
       "<IPython.core.display.Math object>"
      ]
     },
     "metadata": {},
     "output_type": "display_data"
    },
    {
     "data": {
      "text/latex": [
       "$$-\\frac{i \\, {\\left(\\mathit{Az}_{1} \\kappa_{1}^{2} \\cos\\left(\\kappa_{1} x\\right) + \\mathit{Bz}_{1} \\kappa_{1}^{2} \\sin\\left(\\kappa_{1} x\\right) + {\\left(i \\, \\mathit{Bx}_{1} \\kappa_{1} \\cos\\left(\\kappa_{1} x\\right) - i \\, \\mathit{Ax}_{1} \\kappa_{1} \\sin\\left(\\kappa_{1} x\\right)\\right)} k\\right)} c}{\\mu_{1} \\omega}$$"
      ],
      "text/plain": [
       "<IPython.core.display.Math object>"
      ]
     },
     "metadata": {},
     "output_type": "display_data"
    },
    {
     "name": "stdout",
     "output_type": "stream",
     "text": [
      "\n"
     ]
    }
   ],
   "source": [
    "rot_H_x = []\n",
    "rot_H_z = []\n",
    "for i in range(n_layers):\n",
    "    rot_H_x += [lambda x, i=i : -I * k * Hy[i](x)]\n",
    "    rot_H_z += [lambda x, i=i : diff(Hy[i](x), x)]\n",
    "\n",
    "    display(Math(latex(rot_H_x[i](x))))\n",
    "    display(Math(latex(rot_H_z[i](x))))\n",
    "    print(\"\")"
   ]
  },
  {
   "cell_type": "code",
   "execution_count": 11,
   "metadata": {},
   "outputs": [
    {
     "data": {
      "text/latex": [
       "$$\\frac{{\\left(\\mathit{Bz}_{0} \\kappa_{0} \\cos\\left(\\kappa_{0} x\\right) - \\mathit{Az}_{0} \\kappa_{0} \\sin\\left(\\kappa_{0} x\\right) - {\\left(i \\, \\mathit{Ax}_{0} \\cos\\left(\\kappa_{0} x\\right) + i \\, \\mathit{Bx}_{0} \\sin\\left(\\kappa_{0} x\\right)\\right)} k\\right)} c k}{\\mu_{0} \\omega} = -\\frac{i \\, {\\left(\\mathit{Ax}_{0} \\cos\\left(\\kappa_{0} x\\right) + \\mathit{Bx}_{0} \\sin\\left(\\kappa_{0} x\\right)\\right)} \\epsilon_{0} \\omega}{c}$$"
      ],
      "text/plain": [
       "<IPython.core.display.Math object>"
      ]
     },
     "metadata": {},
     "output_type": "display_data"
    },
    {
     "name": "stdout",
     "output_type": "stream",
     "text": [
      "\n"
     ]
    },
    {
     "data": {
      "text/latex": [
       "$$-\\frac{i \\, {\\left(\\mathit{Az}_{0} \\kappa_{0}^{2} \\cos\\left(\\kappa_{0} x\\right) + \\mathit{Bz}_{0} \\kappa_{0}^{2} \\sin\\left(\\kappa_{0} x\\right) + {\\left(i \\, \\mathit{Bx}_{0} \\kappa_{0} \\cos\\left(\\kappa_{0} x\\right) - i \\, \\mathit{Ax}_{0} \\kappa_{0} \\sin\\left(\\kappa_{0} x\\right)\\right)} k\\right)} c}{\\mu_{0} \\omega} = -\\frac{i \\, {\\left(\\mathit{Az}_{0} \\cos\\left(\\kappa_{0} x\\right) + \\mathit{Bz}_{0} \\sin\\left(\\kappa_{0} x\\right)\\right)} \\epsilon_{0} \\omega}{c}$$"
      ],
      "text/plain": [
       "<IPython.core.display.Math object>"
      ]
     },
     "metadata": {},
     "output_type": "display_data"
    },
    {
     "name": "stdout",
     "output_type": "stream",
     "text": [
      "\n"
     ]
    },
    {
     "data": {
      "text/latex": [
       "$$\\frac{{\\left(\\mathit{Bz}_{1} \\kappa_{1} \\cos\\left(\\kappa_{1} x\\right) - \\mathit{Az}_{1} \\kappa_{1} \\sin\\left(\\kappa_{1} x\\right) - {\\left(i \\, \\mathit{Ax}_{1} \\cos\\left(\\kappa_{1} x\\right) + i \\, \\mathit{Bx}_{1} \\sin\\left(\\kappa_{1} x\\right)\\right)} k\\right)} c k}{\\mu_{1} \\omega} = -\\frac{i \\, {\\left(\\mathit{Ax}_{1} \\cos\\left(\\kappa_{1} x\\right) + \\mathit{Bx}_{1} \\sin\\left(\\kappa_{1} x\\right)\\right)} \\epsilon_{1} \\omega}{c}$$"
      ],
      "text/plain": [
       "<IPython.core.display.Math object>"
      ]
     },
     "metadata": {},
     "output_type": "display_data"
    },
    {
     "name": "stdout",
     "output_type": "stream",
     "text": [
      "\n"
     ]
    },
    {
     "data": {
      "text/latex": [
       "$$-\\frac{i \\, {\\left(\\mathit{Az}_{1} \\kappa_{1}^{2} \\cos\\left(\\kappa_{1} x\\right) + \\mathit{Bz}_{1} \\kappa_{1}^{2} \\sin\\left(\\kappa_{1} x\\right) + {\\left(i \\, \\mathit{Bx}_{1} \\kappa_{1} \\cos\\left(\\kappa_{1} x\\right) - i \\, \\mathit{Ax}_{1} \\kappa_{1} \\sin\\left(\\kappa_{1} x\\right)\\right)} k\\right)} c}{\\mu_{1} \\omega} = -\\frac{i \\, {\\left(\\mathit{Az}_{1} \\cos\\left(\\kappa_{1} x\\right) + \\mathit{Bz}_{1} \\sin\\left(\\kappa_{1} x\\right)\\right)} \\epsilon_{1} \\omega}{c}$$"
      ],
      "text/plain": [
       "<IPython.core.display.Math object>"
      ]
     },
     "metadata": {},
     "output_type": "display_data"
    },
    {
     "name": "stdout",
     "output_type": "stream",
     "text": [
      "\n"
     ]
    }
   ],
   "source": [
    "# rot H = (1/c) * dD/dt\n",
    "eq_rot_H_x = []\n",
    "eq_rot_H_z = []\n",
    "for i in range(n_layers):\n",
    "    eq_rot_H_x += [rot_H_x[i](x) == (1/c) *(-I * omega) * epsilon[i] * Ex[i](x)]\n",
    "    eq_rot_H_z += [rot_H_z[i](x) == (1/c) *(-I * omega) * epsilon[i] * Ez[i](x)]\n",
    "\n",
    "    display(Math(latex(eq_rot_H_x[i])))\n",
    "    print(\"\")\n",
    "    display(Math(latex(eq_rot_H_z[i])))\n",
    "    print(\"\")"
   ]
  },
  {
   "cell_type": "code",
   "execution_count": 12,
   "metadata": {},
   "outputs": [
    {
     "data": {
      "text/plain": [
       "[Az_0, Az_1]"
      ]
     },
     "execution_count": 12,
     "metadata": {},
     "output_type": "execute_result"
    }
   ],
   "source": [
    "exclude_vars = [Az[0], Az[n_layers - 1]]\n",
    "exclude_vars"
   ]
  },
  {
   "cell_type": "code",
   "execution_count": 13,
   "metadata": {},
   "outputs": [
    {
     "data": {
      "text/latex": [
       "$$\\left[\\mathit{Az}_{0} = 0.000000000000000, \\mathit{Az}_{1} \\cos\\left(2 \\, a \\kappa_{1}\\right) + \\mathit{Bz}_{1} \\sin\\left(2 \\, a \\kappa_{1}\\right) = 0.000000000000000\\right]$$"
      ],
      "text/plain": [
       "<IPython.core.display.Math object>"
      ]
     },
     "metadata": {},
     "output_type": "display_data"
    },
    {
     "data": {
      "text/latex": [
       "$$\\mathit{Az}_{0} = 0$$"
      ],
      "text/plain": [
       "<IPython.core.display.Math object>"
      ]
     },
     "metadata": {},
     "output_type": "display_data"
    },
    {
     "data": {
      "text/latex": [
       "$$\\mathit{Az}_{1} = -\\frac{\\mathit{Bz}_{1} \\sin\\left(2 \\, a \\kappa_{1}\\right)}{\\cos\\left(2 \\, a \\kappa_{1}\\right)}$$"
      ],
      "text/plain": [
       "<IPython.core.display.Math object>"
      ]
     },
     "metadata": {},
     "output_type": "display_data"
    },
    {
     "data": {
      "text/latex": [
       "$$\\left[\\mathit{Az}_{0} = 0, \\mathit{Az}_{1} = -\\frac{\\mathit{Bz}_{1} \\sin\\left(2 \\, a \\kappa_{1}\\right)}{\\cos\\left(2 \\, a \\kappa_{1}\\right)}\\right]$$"
      ],
      "text/plain": [
       "<IPython.core.display.Math object>"
      ]
     },
     "metadata": {},
     "output_type": "display_data"
    }
   ],
   "source": [
    "# граничные условия\n",
    "# тангенциальная компонента электрического поля\n",
    "eq_Ez_superconductor_boundary_conditions = []\n",
    "eq_Ez_superconductor_boundary_conditions += [Ez[0](0) == 0.0]\n",
    "eq_Ez_superconductor_boundary_conditions += [Ez[n_layers - 1](a*n_layers) == 0.0]\n",
    "\n",
    "display(Math(latex(eq_Ez_superconductor_boundary_conditions)))\n",
    "\n",
    "boundary_subs_begin = solve(eq_Ez_superconductor_boundary_conditions[0], Az[0])[0]\n",
    "boundary_subs_end = solve(eq_Ez_superconductor_boundary_conditions[1], Az[n_layers - 1])[0]\n",
    "\n",
    "display(Math(latex(boundary_subs_begin)))\n",
    "display(Math(latex(boundary_subs_end)))\n",
    "\n",
    "boundary_subs = [boundary_subs_begin, boundary_subs_end]\n",
    "display(Math(latex(boundary_subs)))"
   ]
  },
  {
   "cell_type": "code",
   "execution_count": 14,
   "metadata": {},
   "outputs": [
    {
     "data": {
      "text/latex": [
       "$$\\mathit{Az}_{0} \\cos\\left(a \\kappa_{0}\\right) + \\mathit{Bz}_{0} \\sin\\left(a \\kappa_{0}\\right) = \\mathit{Az}_{1} \\cos\\left(a \\kappa_{1}\\right) + \\mathit{Bz}_{1} \\sin\\left(a \\kappa_{1}\\right)$$"
      ],
      "text/plain": [
       "<IPython.core.display.Math object>"
      ]
     },
     "metadata": {},
     "output_type": "display_data"
    },
    {
     "name": "stdout",
     "output_type": "stream",
     "text": [
      "\n"
     ]
    }
   ],
   "source": [
    "# граничные условия на гринице диэлектрика и диэлектрика\n",
    "# тангенциальная компонента электрического поля\n",
    "eq_Ez_boundary_conditions = []\n",
    "for i in range(n_layers - 1):\n",
    "    eq_Ez_boundary_conditions += [Ez[i] (a*(i+1)) == Ez[i+1](a*(i+1))]\n",
    "\n",
    "    display(Math(latex(eq_Ez_boundary_conditions[i])))\n",
    "    print(\"\")"
   ]
  },
  {
   "cell_type": "code",
   "execution_count": 15,
   "metadata": {},
   "outputs": [
    {
     "data": {
      "text/latex": [
       "$${\\left(\\mathit{Ax}_{0} \\cos\\left(a \\kappa_{0}\\right) + \\mathit{Bx}_{0} \\sin\\left(a \\kappa_{0}\\right)\\right)} \\epsilon_{0} = {\\left(\\mathit{Ax}_{1} \\cos\\left(a \\kappa_{1}\\right) + \\mathit{Bx}_{1} \\sin\\left(a \\kappa_{1}\\right)\\right)} \\epsilon_{1}$$"
      ],
      "text/plain": [
       "<IPython.core.display.Math object>"
      ]
     },
     "metadata": {},
     "output_type": "display_data"
    },
    {
     "name": "stdout",
     "output_type": "stream",
     "text": [
      "\n"
     ]
    }
   ],
   "source": [
    "# граничные условия на гринице диэлектрика и диэлектрика\n",
    "# нормальная компонента электрического смещения\n",
    "eq_Ex_boundary_conditions = []\n",
    "for i in range(n_layers - 1):\n",
    "    eq_Ex_boundary_conditions += [epsilon[i] * Ex[i](a*(i+1)) == epsilon[i+1] * Ex[i+1](a*(i+1))]\n",
    "\n",
    "    display(Math(latex(eq_Ex_boundary_conditions[i])))\n",
    "    print(\"\")"
   ]
  },
  {
   "cell_type": "code",
   "execution_count": 16,
   "metadata": {},
   "outputs": [
    {
     "data": {
      "text/latex": [
       "$$\\frac{i \\, {\\left(\\mathit{Bz}_{0} \\kappa_{0} \\cos\\left(a \\kappa_{0}\\right) - \\mathit{Az}_{0} \\kappa_{0} \\sin\\left(a \\kappa_{0}\\right) - {\\left(i \\, \\mathit{Ax}_{0} \\cos\\left(a \\kappa_{0}\\right) + i \\, \\mathit{Bx}_{0} \\sin\\left(a \\kappa_{0}\\right)\\right)} k\\right)} c}{\\mu_{0} \\omega} = \\frac{i \\, {\\left(\\mathit{Bz}_{1} \\kappa_{1} \\cos\\left(a \\kappa_{1}\\right) - \\mathit{Az}_{1} \\kappa_{1} \\sin\\left(a \\kappa_{1}\\right) - {\\left(i \\, \\mathit{Ax}_{1} \\cos\\left(a \\kappa_{1}\\right) + i \\, \\mathit{Bx}_{1} \\sin\\left(a \\kappa_{1}\\right)\\right)} k\\right)} c}{\\mu_{1} \\omega}$$"
      ],
      "text/plain": [
       "<IPython.core.display.Math object>"
      ]
     },
     "metadata": {},
     "output_type": "display_data"
    },
    {
     "name": "stdout",
     "output_type": "stream",
     "text": [
      "\n"
     ]
    }
   ],
   "source": [
    "# граничные условия на гринице диэлектрика и диэлектрика\n",
    "# тангенциальная компонента поля H\n",
    "eq_Hy_boundary_conditions = []\n",
    "for i in range(n_layers - 1):\n",
    "    eq_Hy_boundary_conditions += [Hy[i] (a*(i+1)) == Hy[i+1](a*(i+1))]\n",
    "\n",
    "    display(Math(latex(eq_Hy_boundary_conditions[i])))\n",
    "    print(\"\")"
   ]
  },
  {
   "cell_type": "code",
   "execution_count": 17,
   "metadata": {},
   "outputs": [],
   "source": [
    "def GenerateMatrix(equsys, vars):\n",
    "    A=matrix(SR, [[(equ.lhs() - equ.rhs()).coefficient(v) for v in vars] for equ in equsys])\n",
    "    return A\n",
    "\n",
    "def GenerateMatrixMult(equsys, vars):\n",
    "    A=matrix(SR, [[(equ.lhs() - equ.rhs()).coefficient(v) * v for v in vars] for equ in equsys])\n",
    "    return A\n",
    "\n",
    "def reduceDependedRows(M):\n",
    "    print (\"\")\n",
    "    print (\"M.nrows()\", M.nrows())\n",
    "    print (\"M.ncols()\", M.ncols())\n",
    "    print (\"M.rank()\", M.rank())\n",
    "\n",
    "    M_pivot_rows = M.pivot_rows()\n",
    "    print (\"M.pivot_rows() =\", M_pivot_rows)\n",
    "\n",
    "    M_rows = M.rows()\n",
    "    for row in M_rows:\n",
    "        print(\"row =\")\n",
    "        display(Math(latex(row)))\n",
    "\n",
    "    reduced_list = []\n",
    "    for r in M_pivot_rows:\n",
    "        print (\"M_rows[\", r, \"] =\")\n",
    "        display(Math(latex(M_rows[r])))\n",
    "        reduced_list.append(M_rows[r])\n",
    "\n",
    "    reduced_M = matrix(SR, len(M_pivot_rows), M.ncols(), reduced_list)\n",
    "    if reduced_M.nrows() == reduced_M.ncols():\n",
    "        reduced_M_det = reduced_M.det()\n",
    "        print (\"\")\n",
    "        print (\"reduced_M.det() =\")\n",
    "        display(Math(latex(reduced_M_det)))\n",
    "    return reduced_M"
   ]
  },
  {
   "cell_type": "code",
   "execution_count": 18,
   "metadata": {},
   "outputs": [],
   "source": [
    "def rot_H_solve(M_rotH, vars, eq_kappa, kappa):\n",
    "    if (M_rotH.nrows() != 2):\n",
    "        return\n",
    "    if (M_rotH.ncols() != len(vars)):\n",
    "        return\n",
    "    xx = vector(SR, vars)\n",
    "    yy = vector(SR, [0, 0])\n",
    "    print(\"eqns =\")\n",
    "    eqns = [(M_rotH*xx)[index] == yy[index] for index in [0,1]]\n",
    "    display(Math(latex(eqns)))\n",
    "    res = []\n",
    "\n",
    "    for index in [0,1]:\n",
    "        row_M = M_rotH[index]\n",
    "        print(\"row_M =\")\n",
    "        display(Math(latex(row_M)))\n",
    "        eq = eqns[index].full_simplify()\n",
    "        print (\"eq =\")\n",
    "        display(Math(latex(eq)))\n",
    "        print (\"\")\n",
    "        \n",
    "        eq2 = (eq / cos(kappa * x)).full_simplify().expand()\n",
    "        print (\"eq2 =\")\n",
    "        display(Math(latex(eq2)))\n",
    "        \n",
    "        tg_kappa_x_coeff = eq2.lhs().coefficient(sin(kappa * x) / cos(kappa * x))\n",
    "        print (\"tg_kappa_x_coeff =\")\n",
    "        display(Math(latex(tg_kappa_x_coeff)))\n",
    "        \n",
    "        eq_tg_kappa_x_coeff = tg_kappa_x_coeff == 0\n",
    "        for var in vars:\n",
    "            print (\"var =\")\n",
    "            display(Math(latex(var)))\n",
    "            sol_tg_kappa_x_coeff = solve(eq_tg_kappa_x_coeff, var)\n",
    "            print(\"sol_tg_kappa_x_coeff=\")\n",
    "            display(Math(latex(sol_tg_kappa_x_coeff)))\n",
    "            if len(sol_tg_kappa_x_coeff) > 0:\n",
    "                res += sol_tg_kappa_x_coeff            \n",
    "            \n",
    "                eq4 = eq.subs(sol_tg_kappa_x_coeff)\n",
    "                print (\"eq4 =\")\n",
    "                display(Math(latex(eq4)))\n",
    "\n",
    "                eq4 = eq4.full_simplify()\n",
    "                print (\"eq4 =\")\n",
    "                display(Math(latex(eq4)))\n",
    "\n",
    "                for var in vars:\n",
    "                    print (\"var =\")\n",
    "                    display(Math(latex(var)))\n",
    "                    print (\"\")\n",
    "                    sol = solve(eq4, var)\n",
    "                    print(\"sol=\")\n",
    "                    display(Math(latex(sol)))\n",
    "                    print (\"\")\n",
    "                    res += sol\n",
    "    return res"
   ]
  },
  {
   "cell_type": "code",
   "execution_count": 19,
   "metadata": {},
   "outputs": [
    {
     "name": "stdout",
     "output_type": "stream",
     "text": [
      "eq_rot_H_x = \n"
     ]
    },
    {
     "data": {
      "text/latex": [
       "$$-\\frac{\\mathit{Bx}_{0} k^{2} \\sin\\left(\\kappa_{0} x\\right) + {\\left(\\mathit{Ax}_{0} k^{2} + i \\, \\mathit{Bz}_{0} k \\kappa_{0}\\right)} \\cos\\left(\\kappa_{0} x\\right)}{\\mu_{0}} = -\\frac{{\\left(\\mathit{Ax}_{0} k^{2} + \\mathit{Ax}_{0} \\kappa_{0}^{2}\\right)} \\cos\\left(\\kappa_{0} x\\right) + {\\left(\\mathit{Bx}_{0} k^{2} + \\mathit{Bx}_{0} \\kappa_{0}^{2}\\right)} \\sin\\left(\\kappa_{0} x\\right)}{\\mu_{0}}$$"
      ],
      "text/plain": [
       "<IPython.core.display.Math object>"
      ]
     },
     "metadata": {},
     "output_type": "display_data"
    },
    {
     "name": "stdout",
     "output_type": "stream",
     "text": [
      "eq_rot_H_z = \n"
     ]
    },
    {
     "data": {
      "text/latex": [
       "$$\\frac{-i \\, \\mathit{Bx}_{0} k \\kappa_{0} \\cos\\left(\\kappa_{0} x\\right) + {\\left(i \\, \\mathit{Ax}_{0} k \\kappa_{0} - \\mathit{Bz}_{0} \\kappa_{0}^{2}\\right)} \\sin\\left(\\kappa_{0} x\\right)}{\\mu_{0}} = -\\frac{{\\left(\\mathit{Bz}_{0} k^{2} + \\mathit{Bz}_{0} \\kappa_{0}^{2}\\right)} \\sin\\left(\\kappa_{0} x\\right)}{\\mu_{0}}$$"
      ],
      "text/plain": [
       "<IPython.core.display.Math object>"
      ]
     },
     "metadata": {},
     "output_type": "display_data"
    },
    {
     "name": "stdout",
     "output_type": "stream",
     "text": [
      "\n"
     ]
    },
    {
     "data": {
      "text/latex": [
       "$$\\left[\\mathit{Ax}_{0}, \\mathit{Bx}_{0}, \\mathit{Bz}_{0}\\right]$$"
      ],
      "text/plain": [
       "<IPython.core.display.Math object>"
      ]
     },
     "metadata": {},
     "output_type": "display_data"
    },
    {
     "name": "stdout",
     "output_type": "stream",
     "text": [
      "M_rotH =\n"
     ]
    },
    {
     "data": {
      "text/latex": [
       "$$\\left(\\begin{array}{rrr}\n",
       "-\\frac{k^{2} \\cos\\left(\\kappa_{0} x\\right)}{\\mu_{0}} + \\frac{{\\left(k^{2} + \\kappa_{0}^{2}\\right)} \\cos\\left(\\kappa_{0} x\\right)}{\\mu_{0}} & -\\frac{k^{2} \\sin\\left(\\kappa_{0} x\\right)}{\\mu_{0}} + \\frac{{\\left(k^{2} + \\kappa_{0}^{2}\\right)} \\sin\\left(\\kappa_{0} x\\right)}{\\mu_{0}} & -\\frac{i \\, k \\kappa_{0} \\cos\\left(\\kappa_{0} x\\right)}{\\mu_{0}} \\\\\n",
       "\\frac{i \\, k \\kappa_{0} \\sin\\left(\\kappa_{0} x\\right)}{\\mu_{0}} & -\\frac{i \\, k \\kappa_{0} \\cos\\left(\\kappa_{0} x\\right)}{\\mu_{0}} & -\\frac{\\kappa_{0}^{2} \\sin\\left(\\kappa_{0} x\\right)}{\\mu_{0}} + \\frac{{\\left(k^{2} + \\kappa_{0}^{2}\\right)} \\sin\\left(\\kappa_{0} x\\right)}{\\mu_{0}}\n",
       "\\end{array}\\right)$$"
      ],
      "text/plain": [
       "<IPython.core.display.Math object>"
      ]
     },
     "metadata": {},
     "output_type": "display_data"
    },
    {
     "name": "stdout",
     "output_type": "stream",
     "text": [
      "M_rotH.nrows = 2\n",
      "M_rotH.ncols = 3\n",
      "M_rotH.rank = 2\n",
      "eqns =\n"
     ]
    },
    {
     "data": {
      "text/latex": [
       "$$\\left[-\\frac{i \\, \\mathit{Bz}_{0} k \\kappa_{0} \\cos\\left(\\kappa_{0} x\\right)}{\\mu_{0}} - {\\left(\\frac{k^{2} \\cos\\left(\\kappa_{0} x\\right)}{\\mu_{0}} - \\frac{{\\left(k^{2} + \\kappa_{0}^{2}\\right)} \\cos\\left(\\kappa_{0} x\\right)}{\\mu_{0}}\\right)} \\mathit{Ax}_{0} - {\\left(\\frac{k^{2} \\sin\\left(\\kappa_{0} x\\right)}{\\mu_{0}} - \\frac{{\\left(k^{2} + \\kappa_{0}^{2}\\right)} \\sin\\left(\\kappa_{0} x\\right)}{\\mu_{0}}\\right)} \\mathit{Bx}_{0} = 0, -\\frac{i \\, \\mathit{Bx}_{0} k \\kappa_{0} \\cos\\left(\\kappa_{0} x\\right)}{\\mu_{0}} + \\frac{i \\, \\mathit{Ax}_{0} k \\kappa_{0} \\sin\\left(\\kappa_{0} x\\right)}{\\mu_{0}} - {\\left(\\frac{\\kappa_{0}^{2} \\sin\\left(\\kappa_{0} x\\right)}{\\mu_{0}} - \\frac{{\\left(k^{2} + \\kappa_{0}^{2}\\right)} \\sin\\left(\\kappa_{0} x\\right)}{\\mu_{0}}\\right)} \\mathit{Bz}_{0} = 0\\right]$$"
      ],
      "text/plain": [
       "<IPython.core.display.Math object>"
      ]
     },
     "metadata": {},
     "output_type": "display_data"
    },
    {
     "name": "stdout",
     "output_type": "stream",
     "text": [
      "row_M =\n"
     ]
    },
    {
     "data": {
      "text/latex": [
       "$$\\left(-\\frac{k^{2} \\cos\\left(\\kappa_{0} x\\right)}{\\mu_{0}} + \\frac{{\\left(k^{2} + \\kappa_{0}^{2}\\right)} \\cos\\left(\\kappa_{0} x\\right)}{\\mu_{0}},\\,-\\frac{k^{2} \\sin\\left(\\kappa_{0} x\\right)}{\\mu_{0}} + \\frac{{\\left(k^{2} + \\kappa_{0}^{2}\\right)} \\sin\\left(\\kappa_{0} x\\right)}{\\mu_{0}},\\,-\\frac{i \\, k \\kappa_{0} \\cos\\left(\\kappa_{0} x\\right)}{\\mu_{0}}\\right)$$"
      ],
      "text/plain": [
       "<IPython.core.display.Math object>"
      ]
     },
     "metadata": {},
     "output_type": "display_data"
    },
    {
     "name": "stdout",
     "output_type": "stream",
     "text": [
      "eq =\n"
     ]
    },
    {
     "data": {
      "text/latex": [
       "$$\\frac{\\mathit{Bx}_{0} \\kappa_{0}^{2} \\sin\\left(\\kappa_{0} x\\right) + {\\left(-i \\, \\mathit{Bz}_{0} k \\kappa_{0} + \\mathit{Ax}_{0} \\kappa_{0}^{2}\\right)} \\cos\\left(\\kappa_{0} x\\right)}{\\mu_{0}} = 0$$"
      ],
      "text/plain": [
       "<IPython.core.display.Math object>"
      ]
     },
     "metadata": {},
     "output_type": "display_data"
    },
    {
     "name": "stdout",
     "output_type": "stream",
     "text": [
      "\n",
      "eq2 =\n"
     ]
    },
    {
     "data": {
      "text/latex": [
       "$$-\\frac{i \\, \\mathit{Bz}_{0} k \\kappa_{0}}{\\mu_{0}} + \\frac{\\mathit{Ax}_{0} \\kappa_{0}^{2}}{\\mu_{0}} + \\frac{\\mathit{Bx}_{0} \\kappa_{0}^{2} \\sin\\left(\\kappa_{0} x\\right)}{\\mu_{0} \\cos\\left(\\kappa_{0} x\\right)} = 0$$"
      ],
      "text/plain": [
       "<IPython.core.display.Math object>"
      ]
     },
     "metadata": {},
     "output_type": "display_data"
    },
    {
     "name": "stdout",
     "output_type": "stream",
     "text": [
      "tg_kappa_x_coeff =\n"
     ]
    },
    {
     "data": {
      "text/latex": [
       "$$\\frac{\\mathit{Bx}_{0} \\kappa_{0}^{2}}{\\mu_{0}}$$"
      ],
      "text/plain": [
       "<IPython.core.display.Math object>"
      ]
     },
     "metadata": {},
     "output_type": "display_data"
    },
    {
     "name": "stdout",
     "output_type": "stream",
     "text": [
      "var =\n"
     ]
    },
    {
     "data": {
      "text/latex": [
       "$$\\mathit{Ax}_{0}$$"
      ],
      "text/plain": [
       "<IPython.core.display.Math object>"
      ]
     },
     "metadata": {},
     "output_type": "display_data"
    },
    {
     "name": "stdout",
     "output_type": "stream",
     "text": [
      "sol_tg_kappa_x_coeff=\n"
     ]
    },
    {
     "data": {
      "text/latex": [
       "$$\\left[\\right]$$"
      ],
      "text/plain": [
       "<IPython.core.display.Math object>"
      ]
     },
     "metadata": {},
     "output_type": "display_data"
    },
    {
     "name": "stdout",
     "output_type": "stream",
     "text": [
      "var =\n"
     ]
    },
    {
     "data": {
      "text/latex": [
       "$$\\mathit{Bx}_{0}$$"
      ],
      "text/plain": [
       "<IPython.core.display.Math object>"
      ]
     },
     "metadata": {},
     "output_type": "display_data"
    },
    {
     "name": "stdout",
     "output_type": "stream",
     "text": [
      "sol_tg_kappa_x_coeff=\n"
     ]
    },
    {
     "data": {
      "text/latex": [
       "$$\\left[\\mathit{Bx}_{0} = 0\\right]$$"
      ],
      "text/plain": [
       "<IPython.core.display.Math object>"
      ]
     },
     "metadata": {},
     "output_type": "display_data"
    },
    {
     "name": "stdout",
     "output_type": "stream",
     "text": [
      "eq4 =\n"
     ]
    },
    {
     "data": {
      "text/latex": [
       "$$\\frac{{\\left(-i \\, \\mathit{Bz}_{0} k \\kappa_{0} + \\mathit{Ax}_{0} \\kappa_{0}^{2}\\right)} \\cos\\left(\\kappa_{0} x\\right)}{\\mu_{0}} = 0$$"
      ],
      "text/plain": [
       "<IPython.core.display.Math object>"
      ]
     },
     "metadata": {},
     "output_type": "display_data"
    },
    {
     "name": "stdout",
     "output_type": "stream",
     "text": [
      "eq4 =\n"
     ]
    },
    {
     "data": {
      "text/latex": [
       "$$\\frac{{\\left(-i \\, \\mathit{Bz}_{0} k \\kappa_{0} + \\mathit{Ax}_{0} \\kappa_{0}^{2}\\right)} \\cos\\left(\\kappa_{0} x\\right)}{\\mu_{0}} = 0$$"
      ],
      "text/plain": [
       "<IPython.core.display.Math object>"
      ]
     },
     "metadata": {},
     "output_type": "display_data"
    },
    {
     "name": "stdout",
     "output_type": "stream",
     "text": [
      "var =\n"
     ]
    },
    {
     "data": {
      "text/latex": [
       "$$\\mathit{Ax}_{0}$$"
      ],
      "text/plain": [
       "<IPython.core.display.Math object>"
      ]
     },
     "metadata": {},
     "output_type": "display_data"
    },
    {
     "name": "stdout",
     "output_type": "stream",
     "text": [
      "\n",
      "sol=\n"
     ]
    },
    {
     "data": {
      "text/latex": [
       "$$\\left[\\mathit{Ax}_{0} = \\frac{i \\, \\mathit{Bz}_{0} k}{\\kappa_{0}}\\right]$$"
      ],
      "text/plain": [
       "<IPython.core.display.Math object>"
      ]
     },
     "metadata": {},
     "output_type": "display_data"
    },
    {
     "name": "stdout",
     "output_type": "stream",
     "text": [
      "\n",
      "var =\n"
     ]
    },
    {
     "data": {
      "text/latex": [
       "$$\\mathit{Bx}_{0}$$"
      ],
      "text/plain": [
       "<IPython.core.display.Math object>"
      ]
     },
     "metadata": {},
     "output_type": "display_data"
    },
    {
     "name": "stdout",
     "output_type": "stream",
     "text": [
      "\n",
      "sol=\n"
     ]
    },
    {
     "data": {
      "text/latex": [
       "$$\\left[\\right]$$"
      ],
      "text/plain": [
       "<IPython.core.display.Math object>"
      ]
     },
     "metadata": {},
     "output_type": "display_data"
    },
    {
     "name": "stdout",
     "output_type": "stream",
     "text": [
      "\n",
      "var =\n"
     ]
    },
    {
     "data": {
      "text/latex": [
       "$$\\mathit{Bz}_{0}$$"
      ],
      "text/plain": [
       "<IPython.core.display.Math object>"
      ]
     },
     "metadata": {},
     "output_type": "display_data"
    },
    {
     "name": "stdout",
     "output_type": "stream",
     "text": [
      "\n",
      "sol=\n"
     ]
    },
    {
     "data": {
      "text/latex": [
       "$$\\left[\\mathit{Bz}_{0} = -\\frac{i \\, \\mathit{Ax}_{0} \\kappa_{0}}{k}\\right]$$"
      ],
      "text/plain": [
       "<IPython.core.display.Math object>"
      ]
     },
     "metadata": {},
     "output_type": "display_data"
    },
    {
     "name": "stdout",
     "output_type": "stream",
     "text": [
      "\n",
      "var =\n"
     ]
    },
    {
     "data": {
      "text/latex": [
       "$$\\mathit{Bz}_{0}$$"
      ],
      "text/plain": [
       "<IPython.core.display.Math object>"
      ]
     },
     "metadata": {},
     "output_type": "display_data"
    },
    {
     "name": "stdout",
     "output_type": "stream",
     "text": [
      "sol_tg_kappa_x_coeff=\n"
     ]
    },
    {
     "data": {
      "text/latex": [
       "$$\\left[\\right]$$"
      ],
      "text/plain": [
       "<IPython.core.display.Math object>"
      ]
     },
     "metadata": {},
     "output_type": "display_data"
    },
    {
     "name": "stdout",
     "output_type": "stream",
     "text": [
      "row_M =\n"
     ]
    },
    {
     "data": {
      "text/latex": [
       "$$\\left(\\frac{i \\, k \\kappa_{0} \\sin\\left(\\kappa_{0} x\\right)}{\\mu_{0}},\\,-\\frac{i \\, k \\kappa_{0} \\cos\\left(\\kappa_{0} x\\right)}{\\mu_{0}},\\,-\\frac{\\kappa_{0}^{2} \\sin\\left(\\kappa_{0} x\\right)}{\\mu_{0}} + \\frac{{\\left(k^{2} + \\kappa_{0}^{2}\\right)} \\sin\\left(\\kappa_{0} x\\right)}{\\mu_{0}}\\right)$$"
      ],
      "text/plain": [
       "<IPython.core.display.Math object>"
      ]
     },
     "metadata": {},
     "output_type": "display_data"
    },
    {
     "name": "stdout",
     "output_type": "stream",
     "text": [
      "eq =\n"
     ]
    },
    {
     "data": {
      "text/latex": [
       "$$\\frac{-i \\, \\mathit{Bx}_{0} k \\kappa_{0} \\cos\\left(\\kappa_{0} x\\right) + {\\left(\\mathit{Bz}_{0} k^{2} + i \\, \\mathit{Ax}_{0} k \\kappa_{0}\\right)} \\sin\\left(\\kappa_{0} x\\right)}{\\mu_{0}} = 0$$"
      ],
      "text/plain": [
       "<IPython.core.display.Math object>"
      ]
     },
     "metadata": {},
     "output_type": "display_data"
    },
    {
     "name": "stdout",
     "output_type": "stream",
     "text": [
      "\n",
      "eq2 =\n"
     ]
    },
    {
     "data": {
      "text/latex": [
       "$$-\\frac{i \\, \\mathit{Bx}_{0} k \\kappa_{0}}{\\mu_{0}} + \\frac{\\mathit{Bz}_{0} k^{2} \\sin\\left(\\kappa_{0} x\\right)}{\\mu_{0} \\cos\\left(\\kappa_{0} x\\right)} + \\frac{i \\, \\mathit{Ax}_{0} k \\kappa_{0} \\sin\\left(\\kappa_{0} x\\right)}{\\mu_{0} \\cos\\left(\\kappa_{0} x\\right)} = 0$$"
      ],
      "text/plain": [
       "<IPython.core.display.Math object>"
      ]
     },
     "metadata": {},
     "output_type": "display_data"
    },
    {
     "name": "stdout",
     "output_type": "stream",
     "text": [
      "tg_kappa_x_coeff =\n"
     ]
    },
    {
     "data": {
      "text/latex": [
       "$$\\frac{\\mathit{Bz}_{0} k^{2}}{\\mu_{0}} + \\frac{i \\, \\mathit{Ax}_{0} k \\kappa_{0}}{\\mu_{0}}$$"
      ],
      "text/plain": [
       "<IPython.core.display.Math object>"
      ]
     },
     "metadata": {},
     "output_type": "display_data"
    },
    {
     "name": "stdout",
     "output_type": "stream",
     "text": [
      "var =\n"
     ]
    },
    {
     "data": {
      "text/latex": [
       "$$\\mathit{Ax}_{0}$$"
      ],
      "text/plain": [
       "<IPython.core.display.Math object>"
      ]
     },
     "metadata": {},
     "output_type": "display_data"
    },
    {
     "name": "stdout",
     "output_type": "stream",
     "text": [
      "sol_tg_kappa_x_coeff=\n"
     ]
    },
    {
     "data": {
      "text/latex": [
       "$$\\left[\\mathit{Ax}_{0} = \\frac{i \\, \\mathit{Bz}_{0} k}{\\kappa_{0}}\\right]$$"
      ],
      "text/plain": [
       "<IPython.core.display.Math object>"
      ]
     },
     "metadata": {},
     "output_type": "display_data"
    },
    {
     "name": "stdout",
     "output_type": "stream",
     "text": [
      "eq4 =\n"
     ]
    },
    {
     "data": {
      "text/latex": [
       "$$-\\frac{i \\, \\mathit{Bx}_{0} k \\kappa_{0} \\cos\\left(\\kappa_{0} x\\right)}{\\mu_{0}} = 0$$"
      ],
      "text/plain": [
       "<IPython.core.display.Math object>"
      ]
     },
     "metadata": {},
     "output_type": "display_data"
    },
    {
     "name": "stdout",
     "output_type": "stream",
     "text": [
      "eq4 =\n"
     ]
    },
    {
     "data": {
      "text/latex": [
       "$$-\\frac{i \\, \\mathit{Bx}_{0} k \\kappa_{0} \\cos\\left(\\kappa_{0} x\\right)}{\\mu_{0}} = 0$$"
      ],
      "text/plain": [
       "<IPython.core.display.Math object>"
      ]
     },
     "metadata": {},
     "output_type": "display_data"
    },
    {
     "name": "stdout",
     "output_type": "stream",
     "text": [
      "var =\n"
     ]
    },
    {
     "data": {
      "text/latex": [
       "$$\\mathit{Ax}_{0}$$"
      ],
      "text/plain": [
       "<IPython.core.display.Math object>"
      ]
     },
     "metadata": {},
     "output_type": "display_data"
    },
    {
     "name": "stdout",
     "output_type": "stream",
     "text": [
      "\n",
      "sol=\n"
     ]
    },
    {
     "data": {
      "text/latex": [
       "$$\\left[\\right]$$"
      ],
      "text/plain": [
       "<IPython.core.display.Math object>"
      ]
     },
     "metadata": {},
     "output_type": "display_data"
    },
    {
     "name": "stdout",
     "output_type": "stream",
     "text": [
      "\n",
      "var =\n"
     ]
    },
    {
     "data": {
      "text/latex": [
       "$$\\mathit{Bx}_{0}$$"
      ],
      "text/plain": [
       "<IPython.core.display.Math object>"
      ]
     },
     "metadata": {},
     "output_type": "display_data"
    },
    {
     "name": "stdout",
     "output_type": "stream",
     "text": [
      "\n",
      "sol=\n"
     ]
    },
    {
     "data": {
      "text/latex": [
       "$$\\left[\\mathit{Bx}_{0} = 0\\right]$$"
      ],
      "text/plain": [
       "<IPython.core.display.Math object>"
      ]
     },
     "metadata": {},
     "output_type": "display_data"
    },
    {
     "name": "stdout",
     "output_type": "stream",
     "text": [
      "\n",
      "var =\n"
     ]
    },
    {
     "data": {
      "text/latex": [
       "$$\\mathit{Bz}_{0}$$"
      ],
      "text/plain": [
       "<IPython.core.display.Math object>"
      ]
     },
     "metadata": {},
     "output_type": "display_data"
    },
    {
     "name": "stdout",
     "output_type": "stream",
     "text": [
      "\n",
      "sol=\n"
     ]
    },
    {
     "data": {
      "text/latex": [
       "$$\\left[\\right]$$"
      ],
      "text/plain": [
       "<IPython.core.display.Math object>"
      ]
     },
     "metadata": {},
     "output_type": "display_data"
    },
    {
     "name": "stdout",
     "output_type": "stream",
     "text": [
      "\n",
      "var =\n"
     ]
    },
    {
     "data": {
      "text/latex": [
       "$$\\mathit{Bx}_{0}$$"
      ],
      "text/plain": [
       "<IPython.core.display.Math object>"
      ]
     },
     "metadata": {},
     "output_type": "display_data"
    },
    {
     "name": "stdout",
     "output_type": "stream",
     "text": [
      "sol_tg_kappa_x_coeff=\n"
     ]
    },
    {
     "data": {
      "text/latex": [
       "$$\\left[\\right]$$"
      ],
      "text/plain": [
       "<IPython.core.display.Math object>"
      ]
     },
     "metadata": {},
     "output_type": "display_data"
    },
    {
     "name": "stdout",
     "output_type": "stream",
     "text": [
      "var =\n"
     ]
    },
    {
     "data": {
      "text/latex": [
       "$$\\mathit{Bz}_{0}$$"
      ],
      "text/plain": [
       "<IPython.core.display.Math object>"
      ]
     },
     "metadata": {},
     "output_type": "display_data"
    },
    {
     "name": "stdout",
     "output_type": "stream",
     "text": [
      "sol_tg_kappa_x_coeff=\n"
     ]
    },
    {
     "data": {
      "text/latex": [
       "$$\\left[\\mathit{Bz}_{0} = -\\frac{i \\, \\mathit{Ax}_{0} \\kappa_{0}}{k}\\right]$$"
      ],
      "text/plain": [
       "<IPython.core.display.Math object>"
      ]
     },
     "metadata": {},
     "output_type": "display_data"
    },
    {
     "name": "stdout",
     "output_type": "stream",
     "text": [
      "eq4 =\n"
     ]
    },
    {
     "data": {
      "text/latex": [
       "$$-\\frac{i \\, \\mathit{Bx}_{0} k \\kappa_{0} \\cos\\left(\\kappa_{0} x\\right)}{\\mu_{0}} = 0$$"
      ],
      "text/plain": [
       "<IPython.core.display.Math object>"
      ]
     },
     "metadata": {},
     "output_type": "display_data"
    },
    {
     "name": "stdout",
     "output_type": "stream",
     "text": [
      "eq4 =\n"
     ]
    },
    {
     "data": {
      "text/latex": [
       "$$-\\frac{i \\, \\mathit{Bx}_{0} k \\kappa_{0} \\cos\\left(\\kappa_{0} x\\right)}{\\mu_{0}} = 0$$"
      ],
      "text/plain": [
       "<IPython.core.display.Math object>"
      ]
     },
     "metadata": {},
     "output_type": "display_data"
    },
    {
     "name": "stdout",
     "output_type": "stream",
     "text": [
      "var =\n"
     ]
    },
    {
     "data": {
      "text/latex": [
       "$$\\mathit{Ax}_{0}$$"
      ],
      "text/plain": [
       "<IPython.core.display.Math object>"
      ]
     },
     "metadata": {},
     "output_type": "display_data"
    },
    {
     "name": "stdout",
     "output_type": "stream",
     "text": [
      "\n",
      "sol=\n"
     ]
    },
    {
     "data": {
      "text/latex": [
       "$$\\left[\\right]$$"
      ],
      "text/plain": [
       "<IPython.core.display.Math object>"
      ]
     },
     "metadata": {},
     "output_type": "display_data"
    },
    {
     "name": "stdout",
     "output_type": "stream",
     "text": [
      "\n",
      "var =\n"
     ]
    },
    {
     "data": {
      "text/latex": [
       "$$\\mathit{Bx}_{0}$$"
      ],
      "text/plain": [
       "<IPython.core.display.Math object>"
      ]
     },
     "metadata": {},
     "output_type": "display_data"
    },
    {
     "name": "stdout",
     "output_type": "stream",
     "text": [
      "\n",
      "sol=\n"
     ]
    },
    {
     "data": {
      "text/latex": [
       "$$\\left[\\mathit{Bx}_{0} = 0\\right]$$"
      ],
      "text/plain": [
       "<IPython.core.display.Math object>"
      ]
     },
     "metadata": {},
     "output_type": "display_data"
    },
    {
     "name": "stdout",
     "output_type": "stream",
     "text": [
      "\n",
      "var =\n"
     ]
    },
    {
     "data": {
      "text/latex": [
       "$$\\mathit{Bz}_{0}$$"
      ],
      "text/plain": [
       "<IPython.core.display.Math object>"
      ]
     },
     "metadata": {},
     "output_type": "display_data"
    },
    {
     "name": "stdout",
     "output_type": "stream",
     "text": [
      "\n",
      "sol=\n"
     ]
    },
    {
     "data": {
      "text/latex": [
       "$$\\left[\\right]$$"
      ],
      "text/plain": [
       "<IPython.core.display.Math object>"
      ]
     },
     "metadata": {},
     "output_type": "display_data"
    },
    {
     "name": "stdout",
     "output_type": "stream",
     "text": [
      "\n",
      "eq_rot_H_x = \n"
     ]
    },
    {
     "data": {
      "text/latex": [
       "$$\\frac{{\\left(\\mathit{Ax}_{1} k^{2} + i \\, \\mathit{Bz}_{1} k \\kappa_{1} - {\\left(2 \\, \\mathit{Ax}_{1} k^{2} + 2 i \\, \\mathit{Bz}_{1} k \\kappa_{1}\\right)} \\cos\\left(a \\kappa_{1}\\right)^{2}\\right)} \\cos\\left(\\kappa_{1} x\\right) - {\\left(2 \\, \\mathit{Bx}_{1} k^{2} \\cos\\left(a \\kappa_{1}\\right)^{2} + 2 i \\, \\mathit{Bz}_{1} k \\kappa_{1} \\cos\\left(a \\kappa_{1}\\right) \\sin\\left(a \\kappa_{1}\\right) - \\mathit{Bx}_{1} k^{2}\\right)} \\sin\\left(\\kappa_{1} x\\right)}{{\\left(2 \\, \\cos\\left(a \\kappa_{1}\\right)^{2} - 1\\right)} \\mu_{1}} = -\\frac{{\\left(\\mathit{Ax}_{1} k^{2} + \\mathit{Ax}_{1} \\kappa_{1}^{2}\\right)} \\cos\\left(\\kappa_{1} x\\right) + {\\left(\\mathit{Bx}_{1} k^{2} + \\mathit{Bx}_{1} \\kappa_{1}^{2}\\right)} \\sin\\left(\\kappa_{1} x\\right)}{\\mu_{1}}$$"
      ],
      "text/plain": [
       "<IPython.core.display.Math object>"
      ]
     },
     "metadata": {},
     "output_type": "display_data"
    },
    {
     "name": "stdout",
     "output_type": "stream",
     "text": [
      "eq_rot_H_z = \n"
     ]
    },
    {
     "data": {
      "text/latex": [
       "$$-\\frac{{\\left(2 \\, \\mathit{Bz}_{1} \\kappa_{1}^{2} \\cos\\left(a \\kappa_{1}\\right) \\sin\\left(a \\kappa_{1}\\right) + 2 i \\, \\mathit{Bx}_{1} k \\kappa_{1} \\sin\\left(a \\kappa_{1}\\right)^{2} - i \\, \\mathit{Bx}_{1} k \\kappa_{1}\\right)} \\cos\\left(\\kappa_{1} x\\right) + {\\left(i \\, \\mathit{Ax}_{1} k \\kappa_{1} - \\mathit{Bz}_{1} \\kappa_{1}^{2} + {\\left(-2 i \\, \\mathit{Ax}_{1} k \\kappa_{1} + 2 \\, \\mathit{Bz}_{1} \\kappa_{1}^{2}\\right)} \\sin\\left(a \\kappa_{1}\\right)^{2}\\right)} \\sin\\left(\\kappa_{1} x\\right)}{{\\left(2 \\, \\sin\\left(a \\kappa_{1}\\right)^{2} - 1\\right)} \\mu_{1}} = -\\frac{2 \\, {\\left(\\mathit{Bz}_{1} k^{2} + \\mathit{Bz}_{1} \\kappa_{1}^{2}\\right)} \\cos\\left(a \\kappa_{1}\\right) \\cos\\left(\\kappa_{1} x\\right) \\sin\\left(a \\kappa_{1}\\right) - {\\left(\\mathit{Bz}_{1} k^{2} + \\mathit{Bz}_{1} \\kappa_{1}^{2} - 2 \\, {\\left(\\mathit{Bz}_{1} k^{2} + \\mathit{Bz}_{1} \\kappa_{1}^{2}\\right)} \\sin\\left(a \\kappa_{1}\\right)^{2}\\right)} \\sin\\left(\\kappa_{1} x\\right)}{{\\left(2 \\, \\sin\\left(a \\kappa_{1}\\right)^{2} - 1\\right)} \\mu_{1}}$$"
      ],
      "text/plain": [
       "<IPython.core.display.Math object>"
      ]
     },
     "metadata": {},
     "output_type": "display_data"
    },
    {
     "name": "stdout",
     "output_type": "stream",
     "text": [
      "\n"
     ]
    },
    {
     "data": {
      "text/latex": [
       "$$\\left[\\mathit{Ax}_{1}, \\mathit{Bx}_{1}, \\mathit{Bz}_{1}\\right]$$"
      ],
      "text/plain": [
       "<IPython.core.display.Math object>"
      ]
     },
     "metadata": {},
     "output_type": "display_data"
    },
    {
     "name": "stdout",
     "output_type": "stream",
     "text": [
      "M_rotH =\n"
     ]
    },
    {
     "data": {
      "text/latex": [
       "$$\\left(\\begin{array}{rrr}\n",
       "\\frac{{\\left(k^{2} + \\kappa_{1}^{2}\\right)} \\cos\\left(\\kappa_{1} x\\right)}{\\mu_{1}} - \\frac{{\\left(2 \\, k^{2} \\cos\\left(a \\kappa_{1}\\right)^{2} - k^{2}\\right)} \\cos\\left(\\kappa_{1} x\\right)}{{\\left(2 \\, \\cos\\left(a \\kappa_{1}\\right)^{2} - 1\\right)} \\mu_{1}} & \\frac{{\\left(k^{2} + \\kappa_{1}^{2}\\right)} \\sin\\left(\\kappa_{1} x\\right)}{\\mu_{1}} - \\frac{{\\left(2 \\, k^{2} \\cos\\left(a \\kappa_{1}\\right)^{2} - k^{2}\\right)} \\sin\\left(\\kappa_{1} x\\right)}{{\\left(2 \\, \\cos\\left(a \\kappa_{1}\\right)^{2} - 1\\right)} \\mu_{1}} & \\frac{-2 i \\, k \\kappa_{1} \\cos\\left(a \\kappa_{1}\\right) \\sin\\left(a \\kappa_{1}\\right) \\sin\\left(\\kappa_{1} x\\right) + {\\left(-2 i \\, k \\kappa_{1} \\cos\\left(a \\kappa_{1}\\right)^{2} + i \\, k \\kappa_{1}\\right)} \\cos\\left(\\kappa_{1} x\\right)}{{\\left(2 \\, \\cos\\left(a \\kappa_{1}\\right)^{2} - 1\\right)} \\mu_{1}} \\\\\n",
       "-\\frac{{\\left(-2 i \\, k \\kappa_{1} \\sin\\left(a \\kappa_{1}\\right)^{2} + i \\, k \\kappa_{1}\\right)} \\sin\\left(\\kappa_{1} x\\right)}{{\\left(2 \\, \\sin\\left(a \\kappa_{1}\\right)^{2} - 1\\right)} \\mu_{1}} & -\\frac{{\\left(2 i \\, k \\kappa_{1} \\sin\\left(a \\kappa_{1}\\right)^{2} - i \\, k \\kappa_{1}\\right)} \\cos\\left(\\kappa_{1} x\\right)}{{\\left(2 \\, \\sin\\left(a \\kappa_{1}\\right)^{2} - 1\\right)} \\mu_{1}} & -\\frac{2 \\, \\kappa_{1}^{2} \\cos\\left(a \\kappa_{1}\\right) \\cos\\left(\\kappa_{1} x\\right) \\sin\\left(a \\kappa_{1}\\right) + {\\left(2 \\, \\kappa_{1}^{2} \\sin\\left(a \\kappa_{1}\\right)^{2} - \\kappa_{1}^{2}\\right)} \\sin\\left(\\kappa_{1} x\\right)}{{\\left(2 \\, \\sin\\left(a \\kappa_{1}\\right)^{2} - 1\\right)} \\mu_{1}} + \\frac{2 \\, {\\left(k^{2} + \\kappa_{1}^{2}\\right)} \\cos\\left(a \\kappa_{1}\\right) \\cos\\left(\\kappa_{1} x\\right) \\sin\\left(a \\kappa_{1}\\right) + {\\left(2 \\, {\\left(k^{2} + \\kappa_{1}^{2}\\right)} \\sin\\left(a \\kappa_{1}\\right)^{2} - k^{2} - \\kappa_{1}^{2}\\right)} \\sin\\left(\\kappa_{1} x\\right)}{{\\left(2 \\, \\sin\\left(a \\kappa_{1}\\right)^{2} - 1\\right)} \\mu_{1}}\n",
       "\\end{array}\\right)$$"
      ],
      "text/plain": [
       "<IPython.core.display.Math object>"
      ]
     },
     "metadata": {},
     "output_type": "display_data"
    },
    {
     "name": "stdout",
     "output_type": "stream",
     "text": [
      "M_rotH.nrows = 2\n",
      "M_rotH.ncols = 3\n",
      "M_rotH.rank = 2\n",
      "eqns =\n"
     ]
    },
    {
     "data": {
      "text/latex": [
       "$$\\left[\\mathit{Ax}_{1} {\\left(\\frac{{\\left(k^{2} + \\kappa_{1}^{2}\\right)} \\cos\\left(\\kappa_{1} x\\right)}{\\mu_{1}} - \\frac{{\\left(2 \\, k^{2} \\cos\\left(a \\kappa_{1}\\right)^{2} - k^{2}\\right)} \\cos\\left(\\kappa_{1} x\\right)}{{\\left(2 \\, \\cos\\left(a \\kappa_{1}\\right)^{2} - 1\\right)} \\mu_{1}}\\right)} + \\mathit{Bx}_{1} {\\left(\\frac{{\\left(k^{2} + \\kappa_{1}^{2}\\right)} \\sin\\left(\\kappa_{1} x\\right)}{\\mu_{1}} - \\frac{{\\left(2 \\, k^{2} \\cos\\left(a \\kappa_{1}\\right)^{2} - k^{2}\\right)} \\sin\\left(\\kappa_{1} x\\right)}{{\\left(2 \\, \\cos\\left(a \\kappa_{1}\\right)^{2} - 1\\right)} \\mu_{1}}\\right)} + \\frac{{\\left(-2 i \\, k \\kappa_{1} \\cos\\left(a \\kappa_{1}\\right) \\sin\\left(a \\kappa_{1}\\right) \\sin\\left(\\kappa_{1} x\\right) + {\\left(-2 i \\, k \\kappa_{1} \\cos\\left(a \\kappa_{1}\\right)^{2} + i \\, k \\kappa_{1}\\right)} \\cos\\left(\\kappa_{1} x\\right)\\right)} \\mathit{Bz}_{1}}{{\\left(2 \\, \\cos\\left(a \\kappa_{1}\\right)^{2} - 1\\right)} \\mu_{1}} = 0, -\\mathit{Bz}_{1} {\\left(\\frac{2 \\, \\kappa_{1}^{2} \\cos\\left(a \\kappa_{1}\\right) \\cos\\left(\\kappa_{1} x\\right) \\sin\\left(a \\kappa_{1}\\right) + {\\left(2 \\, \\kappa_{1}^{2} \\sin\\left(a \\kappa_{1}\\right)^{2} - \\kappa_{1}^{2}\\right)} \\sin\\left(\\kappa_{1} x\\right)}{{\\left(2 \\, \\sin\\left(a \\kappa_{1}\\right)^{2} - 1\\right)} \\mu_{1}} - \\frac{2 \\, {\\left(k^{2} + \\kappa_{1}^{2}\\right)} \\cos\\left(a \\kappa_{1}\\right) \\cos\\left(\\kappa_{1} x\\right) \\sin\\left(a \\kappa_{1}\\right) + {\\left(2 \\, {\\left(k^{2} + \\kappa_{1}^{2}\\right)} \\sin\\left(a \\kappa_{1}\\right)^{2} - k^{2} - \\kappa_{1}^{2}\\right)} \\sin\\left(\\kappa_{1} x\\right)}{{\\left(2 \\, \\sin\\left(a \\kappa_{1}\\right)^{2} - 1\\right)} \\mu_{1}}\\right)} - \\frac{{\\left(2 i \\, k \\kappa_{1} \\sin\\left(a \\kappa_{1}\\right)^{2} - i \\, k \\kappa_{1}\\right)} \\mathit{Bx}_{1} \\cos\\left(\\kappa_{1} x\\right)}{{\\left(2 \\, \\sin\\left(a \\kappa_{1}\\right)^{2} - 1\\right)} \\mu_{1}} - \\frac{{\\left(-2 i \\, k \\kappa_{1} \\sin\\left(a \\kappa_{1}\\right)^{2} + i \\, k \\kappa_{1}\\right)} \\mathit{Ax}_{1} \\sin\\left(\\kappa_{1} x\\right)}{{\\left(2 \\, \\sin\\left(a \\kappa_{1}\\right)^{2} - 1\\right)} \\mu_{1}} = 0\\right]$$"
      ],
      "text/plain": [
       "<IPython.core.display.Math object>"
      ]
     },
     "metadata": {},
     "output_type": "display_data"
    },
    {
     "name": "stdout",
     "output_type": "stream",
     "text": [
      "row_M =\n"
     ]
    },
    {
     "data": {
      "text/latex": [
       "$$\\left(\\frac{{\\left(k^{2} + \\kappa_{1}^{2}\\right)} \\cos\\left(\\kappa_{1} x\\right)}{\\mu_{1}} - \\frac{{\\left(2 \\, k^{2} \\cos\\left(a \\kappa_{1}\\right)^{2} - k^{2}\\right)} \\cos\\left(\\kappa_{1} x\\right)}{{\\left(2 \\, \\cos\\left(a \\kappa_{1}\\right)^{2} - 1\\right)} \\mu_{1}},\\,\\frac{{\\left(k^{2} + \\kappa_{1}^{2}\\right)} \\sin\\left(\\kappa_{1} x\\right)}{\\mu_{1}} - \\frac{{\\left(2 \\, k^{2} \\cos\\left(a \\kappa_{1}\\right)^{2} - k^{2}\\right)} \\sin\\left(\\kappa_{1} x\\right)}{{\\left(2 \\, \\cos\\left(a \\kappa_{1}\\right)^{2} - 1\\right)} \\mu_{1}},\\,\\frac{-2 i \\, k \\kappa_{1} \\cos\\left(a \\kappa_{1}\\right) \\sin\\left(a \\kappa_{1}\\right) \\sin\\left(\\kappa_{1} x\\right) + {\\left(-2 i \\, k \\kappa_{1} \\cos\\left(a \\kappa_{1}\\right)^{2} + i \\, k \\kappa_{1}\\right)} \\cos\\left(\\kappa_{1} x\\right)}{{\\left(2 \\, \\cos\\left(a \\kappa_{1}\\right)^{2} - 1\\right)} \\mu_{1}}\\right)$$"
      ],
      "text/plain": [
       "<IPython.core.display.Math object>"
      ]
     },
     "metadata": {},
     "output_type": "display_data"
    },
    {
     "name": "stdout",
     "output_type": "stream",
     "text": [
      "eq =\n"
     ]
    },
    {
     "data": {
      "text/latex": [
       "$$\\frac{{\\left(i \\, \\mathit{Bz}_{1} k \\kappa_{1} - \\mathit{Ax}_{1} \\kappa_{1}^{2} + {\\left(-2 i \\, \\mathit{Bz}_{1} k \\kappa_{1} + 2 \\, \\mathit{Ax}_{1} \\kappa_{1}^{2}\\right)} \\sin\\left(a \\kappa_{1}\\right)^{2}\\right)} \\cos\\left(\\kappa_{1} x\\right) + {\\left(2 i \\, \\mathit{Bz}_{1} k \\kappa_{1} \\cos\\left(a \\kappa_{1}\\right) \\sin\\left(a \\kappa_{1}\\right) + 2 \\, \\mathit{Bx}_{1} \\kappa_{1}^{2} \\sin\\left(a \\kappa_{1}\\right)^{2} - \\mathit{Bx}_{1} \\kappa_{1}^{2}\\right)} \\sin\\left(\\kappa_{1} x\\right)}{{\\left(2 \\, \\sin\\left(a \\kappa_{1}\\right)^{2} - 1\\right)} \\mu_{1}} = 0$$"
      ],
      "text/plain": [
       "<IPython.core.display.Math object>"
      ]
     },
     "metadata": {},
     "output_type": "display_data"
    },
    {
     "name": "stdout",
     "output_type": "stream",
     "text": [
      "\n",
      "eq2 =\n"
     ]
    },
    {
     "data": {
      "text/latex": [
       "$$-\\frac{2 i \\, \\mathit{Bz}_{1} k \\kappa_{1} \\sin\\left(a \\kappa_{1}\\right)^{2}}{{\\left(2 \\, \\sin\\left(a \\kappa_{1}\\right)^{2} - 1\\right)} \\mu_{1}} + \\frac{2 \\, \\mathit{Ax}_{1} \\kappa_{1}^{2} \\sin\\left(a \\kappa_{1}\\right)^{2}}{{\\left(2 \\, \\sin\\left(a \\kappa_{1}\\right)^{2} - 1\\right)} \\mu_{1}} + \\frac{2 i \\, \\mathit{Bz}_{1} k \\kappa_{1} \\cos\\left(a \\kappa_{1}\\right) \\sin\\left(a \\kappa_{1}\\right) \\sin\\left(\\kappa_{1} x\\right)}{{\\left(2 \\, \\sin\\left(a \\kappa_{1}\\right)^{2} - 1\\right)} \\mu_{1} \\cos\\left(\\kappa_{1} x\\right)} + \\frac{2 \\, \\mathit{Bx}_{1} \\kappa_{1}^{2} \\sin\\left(a \\kappa_{1}\\right)^{2} \\sin\\left(\\kappa_{1} x\\right)}{{\\left(2 \\, \\sin\\left(a \\kappa_{1}\\right)^{2} - 1\\right)} \\mu_{1} \\cos\\left(\\kappa_{1} x\\right)} + \\frac{i \\, \\mathit{Bz}_{1} k \\kappa_{1}}{{\\left(2 \\, \\sin\\left(a \\kappa_{1}\\right)^{2} - 1\\right)} \\mu_{1}} - \\frac{\\mathit{Ax}_{1} \\kappa_{1}^{2}}{{\\left(2 \\, \\sin\\left(a \\kappa_{1}\\right)^{2} - 1\\right)} \\mu_{1}} - \\frac{\\mathit{Bx}_{1} \\kappa_{1}^{2} \\sin\\left(\\kappa_{1} x\\right)}{{\\left(2 \\, \\sin\\left(a \\kappa_{1}\\right)^{2} - 1\\right)} \\mu_{1} \\cos\\left(\\kappa_{1} x\\right)} = 0$$"
      ],
      "text/plain": [
       "<IPython.core.display.Math object>"
      ]
     },
     "metadata": {},
     "output_type": "display_data"
    },
    {
     "name": "stdout",
     "output_type": "stream",
     "text": [
      "tg_kappa_x_coeff =\n"
     ]
    },
    {
     "data": {
      "text/latex": [
       "$$\\frac{2 i \\, \\mathit{Bz}_{1} k \\kappa_{1} \\cos\\left(a \\kappa_{1}\\right) \\sin\\left(a \\kappa_{1}\\right)}{{\\left(2 \\, \\sin\\left(a \\kappa_{1}\\right)^{2} - 1\\right)} \\mu_{1}} + \\frac{2 \\, \\mathit{Bx}_{1} \\kappa_{1}^{2} \\sin\\left(a \\kappa_{1}\\right)^{2}}{{\\left(2 \\, \\sin\\left(a \\kappa_{1}\\right)^{2} - 1\\right)} \\mu_{1}} - \\frac{\\mathit{Bx}_{1} \\kappa_{1}^{2}}{{\\left(2 \\, \\sin\\left(a \\kappa_{1}\\right)^{2} - 1\\right)} \\mu_{1}}$$"
      ],
      "text/plain": [
       "<IPython.core.display.Math object>"
      ]
     },
     "metadata": {},
     "output_type": "display_data"
    },
    {
     "name": "stdout",
     "output_type": "stream",
     "text": [
      "var =\n"
     ]
    },
    {
     "data": {
      "text/latex": [
       "$$\\mathit{Ax}_{1}$$"
      ],
      "text/plain": [
       "<IPython.core.display.Math object>"
      ]
     },
     "metadata": {},
     "output_type": "display_data"
    },
    {
     "name": "stdout",
     "output_type": "stream",
     "text": [
      "sol_tg_kappa_x_coeff=\n"
     ]
    },
    {
     "data": {
      "text/latex": [
       "$$\\left[\\right]$$"
      ],
      "text/plain": [
       "<IPython.core.display.Math object>"
      ]
     },
     "metadata": {},
     "output_type": "display_data"
    },
    {
     "name": "stdout",
     "output_type": "stream",
     "text": [
      "var =\n"
     ]
    },
    {
     "data": {
      "text/latex": [
       "$$\\mathit{Bx}_{1}$$"
      ],
      "text/plain": [
       "<IPython.core.display.Math object>"
      ]
     },
     "metadata": {},
     "output_type": "display_data"
    },
    {
     "name": "stdout",
     "output_type": "stream",
     "text": [
      "sol_tg_kappa_x_coeff=\n"
     ]
    },
    {
     "data": {
      "text/latex": [
       "$$\\left[\\mathit{Bx}_{1} = -\\frac{2 i \\, \\mathit{Bz}_{1} k \\cos\\left(a \\kappa_{1}\\right) \\sin\\left(a \\kappa_{1}\\right)}{2 \\, \\kappa_{1} \\sin\\left(a \\kappa_{1}\\right)^{2} - \\kappa_{1}}\\right]$$"
      ],
      "text/plain": [
       "<IPython.core.display.Math object>"
      ]
     },
     "metadata": {},
     "output_type": "display_data"
    },
    {
     "name": "stdout",
     "output_type": "stream",
     "text": [
      "eq4 =\n"
     ]
    },
    {
     "data": {
      "text/latex": [
       "$$\\frac{{\\left(i \\, \\mathit{Bz}_{1} k \\kappa_{1} - \\mathit{Ax}_{1} \\kappa_{1}^{2} + {\\left(-2 i \\, \\mathit{Bz}_{1} k \\kappa_{1} + 2 \\, \\mathit{Ax}_{1} \\kappa_{1}^{2}\\right)} \\sin\\left(a \\kappa_{1}\\right)^{2}\\right)} \\cos\\left(\\kappa_{1} x\\right) + {\\left(-\\frac{4 i \\, \\mathit{Bz}_{1} k \\kappa_{1}^{2} \\cos\\left(a \\kappa_{1}\\right) \\sin\\left(a \\kappa_{1}\\right)^{3}}{2 \\, \\kappa_{1} \\sin\\left(a \\kappa_{1}\\right)^{2} - \\kappa_{1}} + 2 i \\, \\mathit{Bz}_{1} k \\kappa_{1} \\cos\\left(a \\kappa_{1}\\right) \\sin\\left(a \\kappa_{1}\\right) + \\frac{2 i \\, \\mathit{Bz}_{1} k \\kappa_{1}^{2} \\cos\\left(a \\kappa_{1}\\right) \\sin\\left(a \\kappa_{1}\\right)}{2 \\, \\kappa_{1} \\sin\\left(a \\kappa_{1}\\right)^{2} - \\kappa_{1}}\\right)} \\sin\\left(\\kappa_{1} x\\right)}{{\\left(2 \\, \\sin\\left(a \\kappa_{1}\\right)^{2} - 1\\right)} \\mu_{1}} = 0$$"
      ],
      "text/plain": [
       "<IPython.core.display.Math object>"
      ]
     },
     "metadata": {},
     "output_type": "display_data"
    },
    {
     "name": "stdout",
     "output_type": "stream",
     "text": [
      "eq4 =\n"
     ]
    },
    {
     "data": {
      "text/latex": [
       "$$\\frac{{\\left(-i \\, \\mathit{Bz}_{1} k \\kappa_{1} + \\mathit{Ax}_{1} \\kappa_{1}^{2}\\right)} \\cos\\left(\\kappa_{1} x\\right)}{\\mu_{1}} = 0$$"
      ],
      "text/plain": [
       "<IPython.core.display.Math object>"
      ]
     },
     "metadata": {},
     "output_type": "display_data"
    },
    {
     "name": "stdout",
     "output_type": "stream",
     "text": [
      "var =\n"
     ]
    },
    {
     "data": {
      "text/latex": [
       "$$\\mathit{Ax}_{1}$$"
      ],
      "text/plain": [
       "<IPython.core.display.Math object>"
      ]
     },
     "metadata": {},
     "output_type": "display_data"
    },
    {
     "name": "stdout",
     "output_type": "stream",
     "text": [
      "\n",
      "sol=\n"
     ]
    },
    {
     "data": {
      "text/latex": [
       "$$\\left[\\mathit{Ax}_{1} = \\frac{i \\, \\mathit{Bz}_{1} k}{\\kappa_{1}}\\right]$$"
      ],
      "text/plain": [
       "<IPython.core.display.Math object>"
      ]
     },
     "metadata": {},
     "output_type": "display_data"
    },
    {
     "name": "stdout",
     "output_type": "stream",
     "text": [
      "\n",
      "var =\n"
     ]
    },
    {
     "data": {
      "text/latex": [
       "$$\\mathit{Bx}_{1}$$"
      ],
      "text/plain": [
       "<IPython.core.display.Math object>"
      ]
     },
     "metadata": {},
     "output_type": "display_data"
    },
    {
     "name": "stdout",
     "output_type": "stream",
     "text": [
      "\n",
      "sol=\n"
     ]
    },
    {
     "data": {
      "text/latex": [
       "$$\\left[\\right]$$"
      ],
      "text/plain": [
       "<IPython.core.display.Math object>"
      ]
     },
     "metadata": {},
     "output_type": "display_data"
    },
    {
     "name": "stdout",
     "output_type": "stream",
     "text": [
      "\n",
      "var =\n"
     ]
    },
    {
     "data": {
      "text/latex": [
       "$$\\mathit{Bz}_{1}$$"
      ],
      "text/plain": [
       "<IPython.core.display.Math object>"
      ]
     },
     "metadata": {},
     "output_type": "display_data"
    },
    {
     "name": "stdout",
     "output_type": "stream",
     "text": [
      "\n",
      "sol=\n"
     ]
    },
    {
     "data": {
      "text/latex": [
       "$$\\left[\\mathit{Bz}_{1} = -\\frac{i \\, \\mathit{Ax}_{1} \\kappa_{1}}{k}\\right]$$"
      ],
      "text/plain": [
       "<IPython.core.display.Math object>"
      ]
     },
     "metadata": {},
     "output_type": "display_data"
    },
    {
     "name": "stdout",
     "output_type": "stream",
     "text": [
      "\n",
      "var =\n"
     ]
    },
    {
     "data": {
      "text/latex": [
       "$$\\mathit{Bz}_{1}$$"
      ],
      "text/plain": [
       "<IPython.core.display.Math object>"
      ]
     },
     "metadata": {},
     "output_type": "display_data"
    },
    {
     "name": "stdout",
     "output_type": "stream",
     "text": [
      "sol_tg_kappa_x_coeff=\n"
     ]
    },
    {
     "data": {
      "text/latex": [
       "$$\\left[\\mathit{Bz}_{1} = \\frac{2 i \\, \\mathit{Bx}_{1} \\kappa_{1} \\sin\\left(a \\kappa_{1}\\right)^{2} - i \\, \\mathit{Bx}_{1} \\kappa_{1}}{2 \\, k \\cos\\left(a \\kappa_{1}\\right) \\sin\\left(a \\kappa_{1}\\right)}\\right]$$"
      ],
      "text/plain": [
       "<IPython.core.display.Math object>"
      ]
     },
     "metadata": {},
     "output_type": "display_data"
    },
    {
     "name": "stdout",
     "output_type": "stream",
     "text": [
      "eq4 =\n"
     ]
    },
    {
     "data": {
      "text/latex": [
       "$$-\\frac{{\\left(2 \\, \\mathit{Ax}_{1} \\kappa_{1}^{2} - 2 \\, {\\left(2 \\, \\mathit{Ax}_{1} \\kappa_{1}^{2} - \\frac{i \\, {\\left(2 i \\, \\mathit{Bx}_{1} \\kappa_{1} \\sin\\left(a \\kappa_{1}\\right)^{2} - i \\, \\mathit{Bx}_{1} \\kappa_{1}\\right)} \\kappa_{1}}{\\cos\\left(a \\kappa_{1}\\right) \\sin\\left(a \\kappa_{1}\\right)}\\right)} \\sin\\left(a \\kappa_{1}\\right)^{2} - \\frac{i \\, {\\left(2 i \\, \\mathit{Bx}_{1} \\kappa_{1} \\sin\\left(a \\kappa_{1}\\right)^{2} - i \\, \\mathit{Bx}_{1} \\kappa_{1}\\right)} \\kappa_{1}}{\\cos\\left(a \\kappa_{1}\\right) \\sin\\left(a \\kappa_{1}\\right)}\\right)} \\cos\\left(\\kappa_{1} x\\right) - 2 \\, {\\left(2 \\, \\mathit{Bx}_{1} \\kappa_{1}^{2} \\sin\\left(a \\kappa_{1}\\right)^{2} - \\mathit{Bx}_{1} \\kappa_{1}^{2} + i \\, {\\left(2 i \\, \\mathit{Bx}_{1} \\kappa_{1} \\sin\\left(a \\kappa_{1}\\right)^{2} - i \\, \\mathit{Bx}_{1} \\kappa_{1}\\right)} \\kappa_{1}\\right)} \\sin\\left(\\kappa_{1} x\\right)}{2 \\, {\\left(2 \\, \\sin\\left(a \\kappa_{1}\\right)^{2} - 1\\right)} \\mu_{1}} = 0$$"
      ],
      "text/plain": [
       "<IPython.core.display.Math object>"
      ]
     },
     "metadata": {},
     "output_type": "display_data"
    },
    {
     "name": "stdout",
     "output_type": "stream",
     "text": [
      "eq4 =\n"
     ]
    },
    {
     "data": {
      "text/latex": [
       "$$\\frac{{\\left(2 \\, \\mathit{Ax}_{1} \\kappa_{1}^{2} \\cos\\left(a \\kappa_{1}\\right) \\sin\\left(a \\kappa_{1}\\right) + 2 \\, \\mathit{Bx}_{1} \\kappa_{1}^{2} \\sin\\left(a \\kappa_{1}\\right)^{2} - \\mathit{Bx}_{1} \\kappa_{1}^{2}\\right)} \\cos\\left(\\kappa_{1} x\\right)}{2 \\, \\mu_{1} \\cos\\left(a \\kappa_{1}\\right) \\sin\\left(a \\kappa_{1}\\right)} = 0$$"
      ],
      "text/plain": [
       "<IPython.core.display.Math object>"
      ]
     },
     "metadata": {},
     "output_type": "display_data"
    },
    {
     "name": "stdout",
     "output_type": "stream",
     "text": [
      "var =\n"
     ]
    },
    {
     "data": {
      "text/latex": [
       "$$\\mathit{Ax}_{1}$$"
      ],
      "text/plain": [
       "<IPython.core.display.Math object>"
      ]
     },
     "metadata": {},
     "output_type": "display_data"
    },
    {
     "name": "stdout",
     "output_type": "stream",
     "text": [
      "\n",
      "sol=\n"
     ]
    },
    {
     "data": {
      "text/latex": [
       "$$\\left[\\mathit{Ax}_{1} = -\\frac{2 \\, \\mathit{Bx}_{1} \\sin\\left(a \\kappa_{1}\\right)^{2} - \\mathit{Bx}_{1}}{2 \\, \\cos\\left(a \\kappa_{1}\\right) \\sin\\left(a \\kappa_{1}\\right)}\\right]$$"
      ],
      "text/plain": [
       "<IPython.core.display.Math object>"
      ]
     },
     "metadata": {},
     "output_type": "display_data"
    },
    {
     "name": "stdout",
     "output_type": "stream",
     "text": [
      "\n",
      "var =\n"
     ]
    },
    {
     "data": {
      "text/latex": [
       "$$\\mathit{Bx}_{1}$$"
      ],
      "text/plain": [
       "<IPython.core.display.Math object>"
      ]
     },
     "metadata": {},
     "output_type": "display_data"
    },
    {
     "name": "stdout",
     "output_type": "stream",
     "text": [
      "\n",
      "sol=\n"
     ]
    },
    {
     "data": {
      "text/latex": [
       "$$\\left[\\mathit{Bx}_{1} = -\\frac{2 \\, \\mathit{Ax}_{1} \\cos\\left(a \\kappa_{1}\\right) \\sin\\left(a \\kappa_{1}\\right)}{2 \\, \\sin\\left(a \\kappa_{1}\\right)^{2} - 1}\\right]$$"
      ],
      "text/plain": [
       "<IPython.core.display.Math object>"
      ]
     },
     "metadata": {},
     "output_type": "display_data"
    },
    {
     "name": "stdout",
     "output_type": "stream",
     "text": [
      "\n",
      "var =\n"
     ]
    },
    {
     "data": {
      "text/latex": [
       "$$\\mathit{Bz}_{1}$$"
      ],
      "text/plain": [
       "<IPython.core.display.Math object>"
      ]
     },
     "metadata": {},
     "output_type": "display_data"
    },
    {
     "name": "stdout",
     "output_type": "stream",
     "text": [
      "\n",
      "sol=\n"
     ]
    },
    {
     "data": {
      "text/latex": [
       "$$\\left[\\right]$$"
      ],
      "text/plain": [
       "<IPython.core.display.Math object>"
      ]
     },
     "metadata": {},
     "output_type": "display_data"
    },
    {
     "name": "stdout",
     "output_type": "stream",
     "text": [
      "\n",
      "row_M =\n"
     ]
    },
    {
     "data": {
      "text/latex": [
       "$$\\left(-\\frac{{\\left(-2 i \\, k \\kappa_{1} \\sin\\left(a \\kappa_{1}\\right)^{2} + i \\, k \\kappa_{1}\\right)} \\sin\\left(\\kappa_{1} x\\right)}{{\\left(2 \\, \\sin\\left(a \\kappa_{1}\\right)^{2} - 1\\right)} \\mu_{1}},\\,-\\frac{{\\left(2 i \\, k \\kappa_{1} \\sin\\left(a \\kappa_{1}\\right)^{2} - i \\, k \\kappa_{1}\\right)} \\cos\\left(\\kappa_{1} x\\right)}{{\\left(2 \\, \\sin\\left(a \\kappa_{1}\\right)^{2} - 1\\right)} \\mu_{1}},\\,-\\frac{2 \\, \\kappa_{1}^{2} \\cos\\left(a \\kappa_{1}\\right) \\cos\\left(\\kappa_{1} x\\right) \\sin\\left(a \\kappa_{1}\\right) + {\\left(2 \\, \\kappa_{1}^{2} \\sin\\left(a \\kappa_{1}\\right)^{2} - \\kappa_{1}^{2}\\right)} \\sin\\left(\\kappa_{1} x\\right)}{{\\left(2 \\, \\sin\\left(a \\kappa_{1}\\right)^{2} - 1\\right)} \\mu_{1}} + \\frac{2 \\, {\\left(k^{2} + \\kappa_{1}^{2}\\right)} \\cos\\left(a \\kappa_{1}\\right) \\cos\\left(\\kappa_{1} x\\right) \\sin\\left(a \\kappa_{1}\\right) + {\\left(2 \\, {\\left(k^{2} + \\kappa_{1}^{2}\\right)} \\sin\\left(a \\kappa_{1}\\right)^{2} - k^{2} - \\kappa_{1}^{2}\\right)} \\sin\\left(\\kappa_{1} x\\right)}{{\\left(2 \\, \\sin\\left(a \\kappa_{1}\\right)^{2} - 1\\right)} \\mu_{1}}\\right)$$"
      ],
      "text/plain": [
       "<IPython.core.display.Math object>"
      ]
     },
     "metadata": {},
     "output_type": "display_data"
    },
    {
     "name": "stdout",
     "output_type": "stream",
     "text": [
      "eq =\n"
     ]
    },
    {
     "data": {
      "text/latex": [
       "$$\\frac{{\\left(2 \\, \\mathit{Bz}_{1} k^{2} \\cos\\left(a \\kappa_{1}\\right) \\sin\\left(a \\kappa_{1}\\right) - 2 i \\, \\mathit{Bx}_{1} k \\kappa_{1} \\sin\\left(a \\kappa_{1}\\right)^{2} + i \\, \\mathit{Bx}_{1} k \\kappa_{1}\\right)} \\cos\\left(\\kappa_{1} x\\right) - {\\left(\\mathit{Bz}_{1} k^{2} + i \\, \\mathit{Ax}_{1} k \\kappa_{1} - 2 \\, {\\left(\\mathit{Bz}_{1} k^{2} + i \\, \\mathit{Ax}_{1} k \\kappa_{1}\\right)} \\sin\\left(a \\kappa_{1}\\right)^{2}\\right)} \\sin\\left(\\kappa_{1} x\\right)}{{\\left(2 \\, \\sin\\left(a \\kappa_{1}\\right)^{2} - 1\\right)} \\mu_{1}} = 0$$"
      ],
      "text/plain": [
       "<IPython.core.display.Math object>"
      ]
     },
     "metadata": {},
     "output_type": "display_data"
    },
    {
     "name": "stdout",
     "output_type": "stream",
     "text": [
      "\n",
      "eq2 =\n"
     ]
    },
    {
     "data": {
      "text/latex": [
       "$$\\frac{2 \\, \\mathit{Bz}_{1} k^{2} \\cos\\left(a \\kappa_{1}\\right) \\sin\\left(a \\kappa_{1}\\right)}{{\\left(2 \\, \\sin\\left(a \\kappa_{1}\\right)^{2} - 1\\right)} \\mu_{1}} - \\frac{2 i \\, \\mathit{Bx}_{1} k \\kappa_{1} \\sin\\left(a \\kappa_{1}\\right)^{2}}{{\\left(2 \\, \\sin\\left(a \\kappa_{1}\\right)^{2} - 1\\right)} \\mu_{1}} + \\frac{2 \\, \\mathit{Bz}_{1} k^{2} \\sin\\left(a \\kappa_{1}\\right)^{2} \\sin\\left(\\kappa_{1} x\\right)}{{\\left(2 \\, \\sin\\left(a \\kappa_{1}\\right)^{2} - 1\\right)} \\mu_{1} \\cos\\left(\\kappa_{1} x\\right)} + \\frac{2 i \\, \\mathit{Ax}_{1} k \\kappa_{1} \\sin\\left(a \\kappa_{1}\\right)^{2} \\sin\\left(\\kappa_{1} x\\right)}{{\\left(2 \\, \\sin\\left(a \\kappa_{1}\\right)^{2} - 1\\right)} \\mu_{1} \\cos\\left(\\kappa_{1} x\\right)} + \\frac{i \\, \\mathit{Bx}_{1} k \\kappa_{1}}{{\\left(2 \\, \\sin\\left(a \\kappa_{1}\\right)^{2} - 1\\right)} \\mu_{1}} - \\frac{\\mathit{Bz}_{1} k^{2} \\sin\\left(\\kappa_{1} x\\right)}{{\\left(2 \\, \\sin\\left(a \\kappa_{1}\\right)^{2} - 1\\right)} \\mu_{1} \\cos\\left(\\kappa_{1} x\\right)} - \\frac{i \\, \\mathit{Ax}_{1} k \\kappa_{1} \\sin\\left(\\kappa_{1} x\\right)}{{\\left(2 \\, \\sin\\left(a \\kappa_{1}\\right)^{2} - 1\\right)} \\mu_{1} \\cos\\left(\\kappa_{1} x\\right)} = 0$$"
      ],
      "text/plain": [
       "<IPython.core.display.Math object>"
      ]
     },
     "metadata": {},
     "output_type": "display_data"
    },
    {
     "name": "stdout",
     "output_type": "stream",
     "text": [
      "tg_kappa_x_coeff =\n"
     ]
    },
    {
     "data": {
      "text/latex": [
       "$$\\frac{2 \\, \\mathit{Bz}_{1} k^{2} \\sin\\left(a \\kappa_{1}\\right)^{2}}{{\\left(2 \\, \\sin\\left(a \\kappa_{1}\\right)^{2} - 1\\right)} \\mu_{1}} + \\frac{2 i \\, \\mathit{Ax}_{1} k \\kappa_{1} \\sin\\left(a \\kappa_{1}\\right)^{2}}{{\\left(2 \\, \\sin\\left(a \\kappa_{1}\\right)^{2} - 1\\right)} \\mu_{1}} - \\frac{\\mathit{Bz}_{1} k^{2}}{{\\left(2 \\, \\sin\\left(a \\kappa_{1}\\right)^{2} - 1\\right)} \\mu_{1}} - \\frac{i \\, \\mathit{Ax}_{1} k \\kappa_{1}}{{\\left(2 \\, \\sin\\left(a \\kappa_{1}\\right)^{2} - 1\\right)} \\mu_{1}}$$"
      ],
      "text/plain": [
       "<IPython.core.display.Math object>"
      ]
     },
     "metadata": {},
     "output_type": "display_data"
    },
    {
     "name": "stdout",
     "output_type": "stream",
     "text": [
      "var =\n"
     ]
    },
    {
     "data": {
      "text/latex": [
       "$$\\mathit{Ax}_{1}$$"
      ],
      "text/plain": [
       "<IPython.core.display.Math object>"
      ]
     },
     "metadata": {},
     "output_type": "display_data"
    },
    {
     "name": "stdout",
     "output_type": "stream",
     "text": [
      "sol_tg_kappa_x_coeff=\n"
     ]
    },
    {
     "data": {
      "text/latex": [
       "$$\\left[\\mathit{Ax}_{1} = \\frac{i \\, \\mathit{Bz}_{1} k}{\\kappa_{1}}\\right]$$"
      ],
      "text/plain": [
       "<IPython.core.display.Math object>"
      ]
     },
     "metadata": {},
     "output_type": "display_data"
    },
    {
     "name": "stdout",
     "output_type": "stream",
     "text": [
      "eq4 =\n"
     ]
    },
    {
     "data": {
      "text/latex": [
       "$$\\frac{{\\left(2 \\, \\mathit{Bz}_{1} k^{2} \\cos\\left(a \\kappa_{1}\\right) \\sin\\left(a \\kappa_{1}\\right) - 2 i \\, \\mathit{Bx}_{1} k \\kappa_{1} \\sin\\left(a \\kappa_{1}\\right)^{2} + i \\, \\mathit{Bx}_{1} k \\kappa_{1}\\right)} \\cos\\left(\\kappa_{1} x\\right)}{{\\left(2 \\, \\sin\\left(a \\kappa_{1}\\right)^{2} - 1\\right)} \\mu_{1}} = 0$$"
      ],
      "text/plain": [
       "<IPython.core.display.Math object>"
      ]
     },
     "metadata": {},
     "output_type": "display_data"
    },
    {
     "name": "stdout",
     "output_type": "stream",
     "text": [
      "eq4 =\n"
     ]
    },
    {
     "data": {
      "text/latex": [
       "$$-\\frac{{\\left(2 i \\, \\mathit{Bx}_{1} k \\kappa_{1} \\cos\\left(a \\kappa_{1}\\right)^{2} + 2 \\, \\mathit{Bz}_{1} k^{2} \\cos\\left(a \\kappa_{1}\\right) \\sin\\left(a \\kappa_{1}\\right) - i \\, \\mathit{Bx}_{1} k \\kappa_{1}\\right)} \\cos\\left(\\kappa_{1} x\\right)}{{\\left(2 \\, \\cos\\left(a \\kappa_{1}\\right)^{2} - 1\\right)} \\mu_{1}} = 0$$"
      ],
      "text/plain": [
       "<IPython.core.display.Math object>"
      ]
     },
     "metadata": {},
     "output_type": "display_data"
    },
    {
     "name": "stdout",
     "output_type": "stream",
     "text": [
      "var =\n"
     ]
    },
    {
     "data": {
      "text/latex": [
       "$$\\mathit{Ax}_{1}$$"
      ],
      "text/plain": [
       "<IPython.core.display.Math object>"
      ]
     },
     "metadata": {},
     "output_type": "display_data"
    },
    {
     "name": "stdout",
     "output_type": "stream",
     "text": [
      "\n",
      "sol=\n"
     ]
    },
    {
     "data": {
      "text/latex": [
       "$$\\left[\\right]$$"
      ],
      "text/plain": [
       "<IPython.core.display.Math object>"
      ]
     },
     "metadata": {},
     "output_type": "display_data"
    },
    {
     "name": "stdout",
     "output_type": "stream",
     "text": [
      "\n",
      "var =\n"
     ]
    },
    {
     "data": {
      "text/latex": [
       "$$\\mathit{Bx}_{1}$$"
      ],
      "text/plain": [
       "<IPython.core.display.Math object>"
      ]
     },
     "metadata": {},
     "output_type": "display_data"
    },
    {
     "name": "stdout",
     "output_type": "stream",
     "text": [
      "\n",
      "sol=\n"
     ]
    },
    {
     "data": {
      "text/latex": [
       "$$\\left[\\mathit{Bx}_{1} = -\\frac{2 \\, \\mathit{Bz}_{1} k \\cos\\left(a \\kappa_{1}\\right) \\sin\\left(a \\kappa_{1}\\right)}{2 i \\, \\kappa_{1} \\cos\\left(a \\kappa_{1}\\right)^{2} - i \\, \\kappa_{1}}\\right]$$"
      ],
      "text/plain": [
       "<IPython.core.display.Math object>"
      ]
     },
     "metadata": {},
     "output_type": "display_data"
    },
    {
     "name": "stdout",
     "output_type": "stream",
     "text": [
      "\n",
      "var =\n"
     ]
    },
    {
     "data": {
      "text/latex": [
       "$$\\mathit{Bz}_{1}$$"
      ],
      "text/plain": [
       "<IPython.core.display.Math object>"
      ]
     },
     "metadata": {},
     "output_type": "display_data"
    },
    {
     "name": "stdout",
     "output_type": "stream",
     "text": [
      "\n",
      "sol=\n"
     ]
    },
    {
     "data": {
      "text/latex": [
       "$$\\left[\\mathit{Bz}_{1} = \\frac{-2 i \\, \\mathit{Bx}_{1} \\kappa_{1} \\cos\\left(a \\kappa_{1}\\right)^{2} + i \\, \\mathit{Bx}_{1} \\kappa_{1}}{2 \\, k \\cos\\left(a \\kappa_{1}\\right) \\sin\\left(a \\kappa_{1}\\right)}\\right]$$"
      ],
      "text/plain": [
       "<IPython.core.display.Math object>"
      ]
     },
     "metadata": {},
     "output_type": "display_data"
    },
    {
     "name": "stdout",
     "output_type": "stream",
     "text": [
      "\n",
      "var =\n"
     ]
    },
    {
     "data": {
      "text/latex": [
       "$$\\mathit{Bx}_{1}$$"
      ],
      "text/plain": [
       "<IPython.core.display.Math object>"
      ]
     },
     "metadata": {},
     "output_type": "display_data"
    },
    {
     "name": "stdout",
     "output_type": "stream",
     "text": [
      "sol_tg_kappa_x_coeff=\n"
     ]
    },
    {
     "data": {
      "text/latex": [
       "$$\\left[\\right]$$"
      ],
      "text/plain": [
       "<IPython.core.display.Math object>"
      ]
     },
     "metadata": {},
     "output_type": "display_data"
    },
    {
     "name": "stdout",
     "output_type": "stream",
     "text": [
      "var =\n"
     ]
    },
    {
     "data": {
      "text/latex": [
       "$$\\mathit{Bz}_{1}$$"
      ],
      "text/plain": [
       "<IPython.core.display.Math object>"
      ]
     },
     "metadata": {},
     "output_type": "display_data"
    },
    {
     "name": "stdout",
     "output_type": "stream",
     "text": [
      "sol_tg_kappa_x_coeff=\n"
     ]
    },
    {
     "data": {
      "text/latex": [
       "$$\\left[\\mathit{Bz}_{1} = -\\frac{i \\, \\mathit{Ax}_{1} \\kappa_{1}}{k}\\right]$$"
      ],
      "text/plain": [
       "<IPython.core.display.Math object>"
      ]
     },
     "metadata": {},
     "output_type": "display_data"
    },
    {
     "name": "stdout",
     "output_type": "stream",
     "text": [
      "eq4 =\n"
     ]
    },
    {
     "data": {
      "text/latex": [
       "$$\\frac{{\\left(-2 i \\, \\mathit{Ax}_{1} k \\kappa_{1} \\cos\\left(a \\kappa_{1}\\right) \\sin\\left(a \\kappa_{1}\\right) - 2 i \\, \\mathit{Bx}_{1} k \\kappa_{1} \\sin\\left(a \\kappa_{1}\\right)^{2} + i \\, \\mathit{Bx}_{1} k \\kappa_{1}\\right)} \\cos\\left(\\kappa_{1} x\\right)}{{\\left(2 \\, \\sin\\left(a \\kappa_{1}\\right)^{2} - 1\\right)} \\mu_{1}} = 0$$"
      ],
      "text/plain": [
       "<IPython.core.display.Math object>"
      ]
     },
     "metadata": {},
     "output_type": "display_data"
    },
    {
     "name": "stdout",
     "output_type": "stream",
     "text": [
      "eq4 =\n"
     ]
    },
    {
     "data": {
      "text/latex": [
       "$$\\frac{{\\left(-2 i \\, \\mathit{Bx}_{1} k \\kappa_{1} \\cos\\left(a \\kappa_{1}\\right)^{2} + 2 i \\, \\mathit{Ax}_{1} k \\kappa_{1} \\cos\\left(a \\kappa_{1}\\right) \\sin\\left(a \\kappa_{1}\\right) + i \\, \\mathit{Bx}_{1} k \\kappa_{1}\\right)} \\cos\\left(\\kappa_{1} x\\right)}{{\\left(2 \\, \\cos\\left(a \\kappa_{1}\\right)^{2} - 1\\right)} \\mu_{1}} = 0$$"
      ],
      "text/plain": [
       "<IPython.core.display.Math object>"
      ]
     },
     "metadata": {},
     "output_type": "display_data"
    },
    {
     "name": "stdout",
     "output_type": "stream",
     "text": [
      "var =\n"
     ]
    },
    {
     "data": {
      "text/latex": [
       "$$\\mathit{Ax}_{1}$$"
      ],
      "text/plain": [
       "<IPython.core.display.Math object>"
      ]
     },
     "metadata": {},
     "output_type": "display_data"
    },
    {
     "name": "stdout",
     "output_type": "stream",
     "text": [
      "\n",
      "sol=\n"
     ]
    },
    {
     "data": {
      "text/latex": [
       "$$\\left[\\mathit{Ax}_{1} = \\frac{2 \\, \\mathit{Bx}_{1} \\cos\\left(a \\kappa_{1}\\right)^{2} - \\mathit{Bx}_{1}}{2 \\, \\cos\\left(a \\kappa_{1}\\right) \\sin\\left(a \\kappa_{1}\\right)}\\right]$$"
      ],
      "text/plain": [
       "<IPython.core.display.Math object>"
      ]
     },
     "metadata": {},
     "output_type": "display_data"
    },
    {
     "name": "stdout",
     "output_type": "stream",
     "text": [
      "\n",
      "var =\n"
     ]
    },
    {
     "data": {
      "text/latex": [
       "$$\\mathit{Bx}_{1}$$"
      ],
      "text/plain": [
       "<IPython.core.display.Math object>"
      ]
     },
     "metadata": {},
     "output_type": "display_data"
    },
    {
     "name": "stdout",
     "output_type": "stream",
     "text": [
      "\n",
      "sol=\n"
     ]
    },
    {
     "data": {
      "text/latex": [
       "$$\\left[\\mathit{Bx}_{1} = \\frac{2 \\, \\mathit{Ax}_{1} \\cos\\left(a \\kappa_{1}\\right) \\sin\\left(a \\kappa_{1}\\right)}{2 \\, \\cos\\left(a \\kappa_{1}\\right)^{2} - 1}\\right]$$"
      ],
      "text/plain": [
       "<IPython.core.display.Math object>"
      ]
     },
     "metadata": {},
     "output_type": "display_data"
    },
    {
     "name": "stdout",
     "output_type": "stream",
     "text": [
      "\n",
      "var =\n"
     ]
    },
    {
     "data": {
      "text/latex": [
       "$$\\mathit{Bz}_{1}$$"
      ],
      "text/plain": [
       "<IPython.core.display.Math object>"
      ]
     },
     "metadata": {},
     "output_type": "display_data"
    },
    {
     "name": "stdout",
     "output_type": "stream",
     "text": [
      "\n",
      "sol=\n"
     ]
    },
    {
     "data": {
      "text/latex": [
       "$$\\left[\\right]$$"
      ],
      "text/plain": [
       "<IPython.core.display.Math object>"
      ]
     },
     "metadata": {},
     "output_type": "display_data"
    },
    {
     "name": "stdout",
     "output_type": "stream",
     "text": [
      "\n"
     ]
    }
   ],
   "source": [
    "res_rot_H = []\n",
    "for i in range(n_layers):\n",
    "    eqs_rotH = [(eq_rot_H_x[i]*(-I)*omega/c)\n",
    "                     .subs(solve(eq_kappa[i], omega^2))\n",
    "                     .subs(boundary_subs_begin).subs(boundary_subs_end)\n",
    "                     .full_simplify(),\n",
    "                (eq_rot_H_z[i]*(-I)*omega/c)\n",
    "                     .subs(solve(eq_kappa[i], omega^2))\n",
    "                     .subs(boundary_subs_begin).subs(boundary_subs_end)\n",
    "                     .full_simplify(),\n",
    "               ]\n",
    "\n",
    "    print(\"eq_rot_H_x = \")\n",
    "    display(Math(latex(eqs_rotH[0])))\n",
    "    print(\"eq_rot_H_z = \")\n",
    "    display(Math(latex(eqs_rotH[1])))\n",
    "    print(\"\")\n",
    "    \n",
    "    vars_dielectric = [Ax[i], Az[i], Bx[i], Bz[i]]\n",
    "    \n",
    "    vars_dielectric = [var for var in vars_dielectric if var not in exclude_vars]\n",
    "    display(Math(latex(vars_dielectric)))\n",
    "    M_rotH = GenerateMatrix(eqs_rotH, vars_dielectric)\n",
    "    print (\"M_rotH =\")\n",
    "    display(Math(latex(M_rotH)))\n",
    "    print (\"M_rotH.nrows =\", M_rotH.nrows())\n",
    "    print (\"M_rotH.ncols =\", M_rotH.ncols())\n",
    "    print (\"M_rotH.rank =\", M_rotH.rank())\n",
    "    res_rot_H += rot_H_solve(M_rotH, vars_dielectric, eq_kappa[i], kappa[i])"
   ]
  },
  {
   "cell_type": "code",
   "execution_count": 20,
   "metadata": {},
   "outputs": [
    {
     "data": {
      "text/latex": [
       "$$\\left[\\mathit{Bx}_{0} = 0, \\mathit{Ax}_{0} = \\frac{i \\, \\mathit{Bz}_{0} k}{\\kappa_{0}}, \\mathit{Bz}_{0} = -\\frac{i \\, \\mathit{Ax}_{0} \\kappa_{0}}{k}, \\mathit{Ax}_{0} = \\frac{i \\, \\mathit{Bz}_{0} k}{\\kappa_{0}}, \\mathit{Bx}_{0} = 0, \\mathit{Bz}_{0} = -\\frac{i \\, \\mathit{Ax}_{0} \\kappa_{0}}{k}, \\mathit{Bx}_{0} = 0, \\mathit{Bx}_{1} = -\\frac{2 i \\, \\mathit{Bz}_{1} k \\cos\\left(a \\kappa_{1}\\right) \\sin\\left(a \\kappa_{1}\\right)}{2 \\, \\kappa_{1} \\sin\\left(a \\kappa_{1}\\right)^{2} - \\kappa_{1}}, \\mathit{Ax}_{1} = \\frac{i \\, \\mathit{Bz}_{1} k}{\\kappa_{1}}, \\mathit{Bz}_{1} = -\\frac{i \\, \\mathit{Ax}_{1} \\kappa_{1}}{k}, \\mathit{Bz}_{1} = \\frac{2 i \\, \\mathit{Bx}_{1} \\kappa_{1} \\sin\\left(a \\kappa_{1}\\right)^{2} - i \\, \\mathit{Bx}_{1} \\kappa_{1}}{2 \\, k \\cos\\left(a \\kappa_{1}\\right) \\sin\\left(a \\kappa_{1}\\right)}, \\mathit{Ax}_{1} = -\\frac{2 \\, \\mathit{Bx}_{1} \\sin\\left(a \\kappa_{1}\\right)^{2} - \\mathit{Bx}_{1}}{2 \\, \\cos\\left(a \\kappa_{1}\\right) \\sin\\left(a \\kappa_{1}\\right)}, \\mathit{Bx}_{1} = -\\frac{2 \\, \\mathit{Ax}_{1} \\cos\\left(a \\kappa_{1}\\right) \\sin\\left(a \\kappa_{1}\\right)}{2 \\, \\sin\\left(a \\kappa_{1}\\right)^{2} - 1}, \\mathit{Ax}_{1} = \\frac{i \\, \\mathit{Bz}_{1} k}{\\kappa_{1}}, \\mathit{Bx}_{1} = -\\frac{2 \\, \\mathit{Bz}_{1} k \\cos\\left(a \\kappa_{1}\\right) \\sin\\left(a \\kappa_{1}\\right)}{2 i \\, \\kappa_{1} \\cos\\left(a \\kappa_{1}\\right)^{2} - i \\, \\kappa_{1}}, \\mathit{Bz}_{1} = \\frac{-2 i \\, \\mathit{Bx}_{1} \\kappa_{1} \\cos\\left(a \\kappa_{1}\\right)^{2} + i \\, \\mathit{Bx}_{1} \\kappa_{1}}{2 \\, k \\cos\\left(a \\kappa_{1}\\right) \\sin\\left(a \\kappa_{1}\\right)}, \\mathit{Bz}_{1} = -\\frac{i \\, \\mathit{Ax}_{1} \\kappa_{1}}{k}, \\mathit{Ax}_{1} = \\frac{2 \\, \\mathit{Bx}_{1} \\cos\\left(a \\kappa_{1}\\right)^{2} - \\mathit{Bx}_{1}}{2 \\, \\cos\\left(a \\kappa_{1}\\right) \\sin\\left(a \\kappa_{1}\\right)}, \\mathit{Bx}_{1} = \\frac{2 \\, \\mathit{Ax}_{1} \\cos\\left(a \\kappa_{1}\\right) \\sin\\left(a \\kappa_{1}\\right)}{2 \\, \\cos\\left(a \\kappa_{1}\\right)^{2} - 1}\\right]$$"
      ],
      "text/plain": [
       "<IPython.core.display.Math object>"
      ]
     },
     "metadata": {},
     "output_type": "display_data"
    }
   ],
   "source": [
    "display(Math(latex(res_rot_H)))"
   ]
  },
  {
   "cell_type": "code",
   "execution_count": 21,
   "metadata": {},
   "outputs": [
    {
     "data": {
      "text/plain": [
       "[Ax_0, Ax_1, Az_0, Az_1, Bx_0, Bx_1, Bz_0, Bz_1]"
      ]
     },
     "execution_count": 21,
     "metadata": {},
     "output_type": "execute_result"
    }
   ],
   "source": [
    "vars = Ax + Az + Bx + Bz\n",
    "vars"
   ]
  },
  {
   "cell_type": "code",
   "execution_count": 22,
   "metadata": {},
   "outputs": [
    {
     "data": {
      "text/latex": [
       "$$\\left(\\begin{array}{rrrrrrrr}\n",
       "0 & 0 & 0 & 0 & 1 & 0 & 0 & 0 \\\\\n",
       "1 & 0 & 0 & 0 & 0 & 0 & -\\frac{i \\, k}{\\kappa_{0}} & 0 \\\\\n",
       "\\frac{i \\, \\kappa_{0}}{k} & 0 & 0 & 0 & 0 & 0 & 1 & 0 \\\\\n",
       "1 & 0 & 0 & 0 & 0 & 0 & -\\frac{i \\, k}{\\kappa_{0}} & 0 \\\\\n",
       "0 & 0 & 0 & 0 & 1 & 0 & 0 & 0 \\\\\n",
       "\\frac{i \\, \\kappa_{0}}{k} & 0 & 0 & 0 & 0 & 0 & 1 & 0 \\\\\n",
       "0 & 0 & 0 & 0 & 1 & 0 & 0 & 0 \\\\\n",
       "0 & 0 & 0 & 0 & 0 & 1 & 0 & \\frac{2 i \\, k \\cos\\left(a \\kappa_{1}\\right) \\sin\\left(a \\kappa_{1}\\right)}{2 \\, \\kappa_{1} \\sin\\left(a \\kappa_{1}\\right)^{2} - \\kappa_{1}} \\\\\n",
       "0 & 1 & 0 & 0 & 0 & 0 & 0 & -\\frac{i \\, k}{\\kappa_{1}} \\\\\n",
       "0 & \\frac{i \\, \\kappa_{1}}{k} & 0 & 0 & 0 & 0 & 0 & 1 \\\\\n",
       "0 & 0 & 0 & 0 & 0 & -\\frac{2 i \\, \\kappa_{1} \\sin\\left(a \\kappa_{1}\\right)^{2} - i \\, \\kappa_{1}}{2 \\, k \\cos\\left(a \\kappa_{1}\\right) \\sin\\left(a \\kappa_{1}\\right)} & 0 & 1 \\\\\n",
       "0 & 1 & 0 & 0 & 0 & \\frac{2 \\, \\sin\\left(a \\kappa_{1}\\right)^{2} - 1}{2 \\, \\cos\\left(a \\kappa_{1}\\right) \\sin\\left(a \\kappa_{1}\\right)} & 0 & 0 \\\\\n",
       "0 & \\frac{2 \\, \\cos\\left(a \\kappa_{1}\\right) \\sin\\left(a \\kappa_{1}\\right)}{2 \\, \\sin\\left(a \\kappa_{1}\\right)^{2} - 1} & 0 & 0 & 0 & 1 & 0 & 0 \\\\\n",
       "0 & 1 & 0 & 0 & 0 & 0 & 0 & -\\frac{i \\, k}{\\kappa_{1}} \\\\\n",
       "0 & 0 & 0 & 0 & 0 & 1 & 0 & \\frac{2 \\, k \\cos\\left(a \\kappa_{1}\\right) \\sin\\left(a \\kappa_{1}\\right)}{2 i \\, \\kappa_{1} \\cos\\left(a \\kappa_{1}\\right)^{2} - i \\, \\kappa_{1}} \\\\\n",
       "0 & 0 & 0 & 0 & 0 & -\\frac{-2 i \\, \\kappa_{1} \\cos\\left(a \\kappa_{1}\\right)^{2} + i \\, \\kappa_{1}}{2 \\, k \\cos\\left(a \\kappa_{1}\\right) \\sin\\left(a \\kappa_{1}\\right)} & 0 & 1 \\\\\n",
       "0 & \\frac{i \\, \\kappa_{1}}{k} & 0 & 0 & 0 & 0 & 0 & 1 \\\\\n",
       "0 & 1 & 0 & 0 & 0 & -\\frac{2 \\, \\cos\\left(a \\kappa_{1}\\right)^{2} - 1}{2 \\, \\cos\\left(a \\kappa_{1}\\right) \\sin\\left(a \\kappa_{1}\\right)} & 0 & 0 \\\\\n",
       "0 & -\\frac{2 \\, \\cos\\left(a \\kappa_{1}\\right) \\sin\\left(a \\kappa_{1}\\right)}{2 \\, \\cos\\left(a \\kappa_{1}\\right)^{2} - 1} & 0 & 0 & 0 & 1 & 0 & 0\n",
       "\\end{array}\\right)$$"
      ],
      "text/plain": [
       "<IPython.core.display.Math object>"
      ]
     },
     "metadata": {},
     "output_type": "display_data"
    }
   ],
   "source": [
    "M_res_rot_H = GenerateMatrix(res_rot_H, vars)\n",
    "display(Math(latex(M_res_rot_H)))"
   ]
  },
  {
   "cell_type": "code",
   "execution_count": 23,
   "metadata": {},
   "outputs": [
    {
     "name": "stdout",
     "output_type": "stream",
     "text": [
      "\n",
      "M.nrows() 19\n",
      "M.ncols() 8\n",
      "M.rank() 4\n",
      "M.pivot_rows() = (0, 1, 7, 8)\n",
      "row =\n"
     ]
    },
    {
     "data": {
      "text/latex": [
       "$$\\left(0,\\,0,\\,0,\\,0,\\,1,\\,0,\\,0,\\,0\\right)$$"
      ],
      "text/plain": [
       "<IPython.core.display.Math object>"
      ]
     },
     "metadata": {},
     "output_type": "display_data"
    },
    {
     "name": "stdout",
     "output_type": "stream",
     "text": [
      "row =\n"
     ]
    },
    {
     "data": {
      "text/latex": [
       "$$\\left(1,\\,0,\\,0,\\,0,\\,0,\\,0,\\,-\\frac{i \\, k}{\\kappa_{0}},\\,0\\right)$$"
      ],
      "text/plain": [
       "<IPython.core.display.Math object>"
      ]
     },
     "metadata": {},
     "output_type": "display_data"
    },
    {
     "name": "stdout",
     "output_type": "stream",
     "text": [
      "row =\n"
     ]
    },
    {
     "data": {
      "text/latex": [
       "$$\\left(\\frac{i \\, \\kappa_{0}}{k},\\,0,\\,0,\\,0,\\,0,\\,0,\\,1,\\,0\\right)$$"
      ],
      "text/plain": [
       "<IPython.core.display.Math object>"
      ]
     },
     "metadata": {},
     "output_type": "display_data"
    },
    {
     "name": "stdout",
     "output_type": "stream",
     "text": [
      "row =\n"
     ]
    },
    {
     "data": {
      "text/latex": [
       "$$\\left(1,\\,0,\\,0,\\,0,\\,0,\\,0,\\,-\\frac{i \\, k}{\\kappa_{0}},\\,0\\right)$$"
      ],
      "text/plain": [
       "<IPython.core.display.Math object>"
      ]
     },
     "metadata": {},
     "output_type": "display_data"
    },
    {
     "name": "stdout",
     "output_type": "stream",
     "text": [
      "row =\n"
     ]
    },
    {
     "data": {
      "text/latex": [
       "$$\\left(0,\\,0,\\,0,\\,0,\\,1,\\,0,\\,0,\\,0\\right)$$"
      ],
      "text/plain": [
       "<IPython.core.display.Math object>"
      ]
     },
     "metadata": {},
     "output_type": "display_data"
    },
    {
     "name": "stdout",
     "output_type": "stream",
     "text": [
      "row =\n"
     ]
    },
    {
     "data": {
      "text/latex": [
       "$$\\left(\\frac{i \\, \\kappa_{0}}{k},\\,0,\\,0,\\,0,\\,0,\\,0,\\,1,\\,0\\right)$$"
      ],
      "text/plain": [
       "<IPython.core.display.Math object>"
      ]
     },
     "metadata": {},
     "output_type": "display_data"
    },
    {
     "name": "stdout",
     "output_type": "stream",
     "text": [
      "row =\n"
     ]
    },
    {
     "data": {
      "text/latex": [
       "$$\\left(0,\\,0,\\,0,\\,0,\\,1,\\,0,\\,0,\\,0\\right)$$"
      ],
      "text/plain": [
       "<IPython.core.display.Math object>"
      ]
     },
     "metadata": {},
     "output_type": "display_data"
    },
    {
     "name": "stdout",
     "output_type": "stream",
     "text": [
      "row =\n"
     ]
    },
    {
     "data": {
      "text/latex": [
       "$$\\left(0,\\,0,\\,0,\\,0,\\,0,\\,1,\\,0,\\,\\frac{2 i \\, k \\cos\\left(a \\kappa_{1}\\right) \\sin\\left(a \\kappa_{1}\\right)}{2 \\, \\kappa_{1} \\sin\\left(a \\kappa_{1}\\right)^{2} - \\kappa_{1}}\\right)$$"
      ],
      "text/plain": [
       "<IPython.core.display.Math object>"
      ]
     },
     "metadata": {},
     "output_type": "display_data"
    },
    {
     "name": "stdout",
     "output_type": "stream",
     "text": [
      "row =\n"
     ]
    },
    {
     "data": {
      "text/latex": [
       "$$\\left(0,\\,1,\\,0,\\,0,\\,0,\\,0,\\,0,\\,-\\frac{i \\, k}{\\kappa_{1}}\\right)$$"
      ],
      "text/plain": [
       "<IPython.core.display.Math object>"
      ]
     },
     "metadata": {},
     "output_type": "display_data"
    },
    {
     "name": "stdout",
     "output_type": "stream",
     "text": [
      "row =\n"
     ]
    },
    {
     "data": {
      "text/latex": [
       "$$\\left(0,\\,\\frac{i \\, \\kappa_{1}}{k},\\,0,\\,0,\\,0,\\,0,\\,0,\\,1\\right)$$"
      ],
      "text/plain": [
       "<IPython.core.display.Math object>"
      ]
     },
     "metadata": {},
     "output_type": "display_data"
    },
    {
     "name": "stdout",
     "output_type": "stream",
     "text": [
      "row =\n"
     ]
    },
    {
     "data": {
      "text/latex": [
       "$$\\left(0,\\,0,\\,0,\\,0,\\,0,\\,-\\frac{2 i \\, \\kappa_{1} \\sin\\left(a \\kappa_{1}\\right)^{2} - i \\, \\kappa_{1}}{2 \\, k \\cos\\left(a \\kappa_{1}\\right) \\sin\\left(a \\kappa_{1}\\right)},\\,0,\\,1\\right)$$"
      ],
      "text/plain": [
       "<IPython.core.display.Math object>"
      ]
     },
     "metadata": {},
     "output_type": "display_data"
    },
    {
     "name": "stdout",
     "output_type": "stream",
     "text": [
      "row =\n"
     ]
    },
    {
     "data": {
      "text/latex": [
       "$$\\left(0,\\,1,\\,0,\\,0,\\,0,\\,\\frac{2 \\, \\sin\\left(a \\kappa_{1}\\right)^{2} - 1}{2 \\, \\cos\\left(a \\kappa_{1}\\right) \\sin\\left(a \\kappa_{1}\\right)},\\,0,\\,0\\right)$$"
      ],
      "text/plain": [
       "<IPython.core.display.Math object>"
      ]
     },
     "metadata": {},
     "output_type": "display_data"
    },
    {
     "name": "stdout",
     "output_type": "stream",
     "text": [
      "row =\n"
     ]
    },
    {
     "data": {
      "text/latex": [
       "$$\\left(0,\\,\\frac{2 \\, \\cos\\left(a \\kappa_{1}\\right) \\sin\\left(a \\kappa_{1}\\right)}{2 \\, \\sin\\left(a \\kappa_{1}\\right)^{2} - 1},\\,0,\\,0,\\,0,\\,1,\\,0,\\,0\\right)$$"
      ],
      "text/plain": [
       "<IPython.core.display.Math object>"
      ]
     },
     "metadata": {},
     "output_type": "display_data"
    },
    {
     "name": "stdout",
     "output_type": "stream",
     "text": [
      "row =\n"
     ]
    },
    {
     "data": {
      "text/latex": [
       "$$\\left(0,\\,1,\\,0,\\,0,\\,0,\\,0,\\,0,\\,-\\frac{i \\, k}{\\kappa_{1}}\\right)$$"
      ],
      "text/plain": [
       "<IPython.core.display.Math object>"
      ]
     },
     "metadata": {},
     "output_type": "display_data"
    },
    {
     "name": "stdout",
     "output_type": "stream",
     "text": [
      "row =\n"
     ]
    },
    {
     "data": {
      "text/latex": [
       "$$\\left(0,\\,0,\\,0,\\,0,\\,0,\\,1,\\,0,\\,\\frac{2 \\, k \\cos\\left(a \\kappa_{1}\\right) \\sin\\left(a \\kappa_{1}\\right)}{2 i \\, \\kappa_{1} \\cos\\left(a \\kappa_{1}\\right)^{2} - i \\, \\kappa_{1}}\\right)$$"
      ],
      "text/plain": [
       "<IPython.core.display.Math object>"
      ]
     },
     "metadata": {},
     "output_type": "display_data"
    },
    {
     "name": "stdout",
     "output_type": "stream",
     "text": [
      "row =\n"
     ]
    },
    {
     "data": {
      "text/latex": [
       "$$\\left(0,\\,0,\\,0,\\,0,\\,0,\\,-\\frac{-2 i \\, \\kappa_{1} \\cos\\left(a \\kappa_{1}\\right)^{2} + i \\, \\kappa_{1}}{2 \\, k \\cos\\left(a \\kappa_{1}\\right) \\sin\\left(a \\kappa_{1}\\right)},\\,0,\\,1\\right)$$"
      ],
      "text/plain": [
       "<IPython.core.display.Math object>"
      ]
     },
     "metadata": {},
     "output_type": "display_data"
    },
    {
     "name": "stdout",
     "output_type": "stream",
     "text": [
      "row =\n"
     ]
    },
    {
     "data": {
      "text/latex": [
       "$$\\left(0,\\,\\frac{i \\, \\kappa_{1}}{k},\\,0,\\,0,\\,0,\\,0,\\,0,\\,1\\right)$$"
      ],
      "text/plain": [
       "<IPython.core.display.Math object>"
      ]
     },
     "metadata": {},
     "output_type": "display_data"
    },
    {
     "name": "stdout",
     "output_type": "stream",
     "text": [
      "row =\n"
     ]
    },
    {
     "data": {
      "text/latex": [
       "$$\\left(0,\\,1,\\,0,\\,0,\\,0,\\,-\\frac{2 \\, \\cos\\left(a \\kappa_{1}\\right)^{2} - 1}{2 \\, \\cos\\left(a \\kappa_{1}\\right) \\sin\\left(a \\kappa_{1}\\right)},\\,0,\\,0\\right)$$"
      ],
      "text/plain": [
       "<IPython.core.display.Math object>"
      ]
     },
     "metadata": {},
     "output_type": "display_data"
    },
    {
     "name": "stdout",
     "output_type": "stream",
     "text": [
      "row =\n"
     ]
    },
    {
     "data": {
      "text/latex": [
       "$$\\left(0,\\,-\\frac{2 \\, \\cos\\left(a \\kappa_{1}\\right) \\sin\\left(a \\kappa_{1}\\right)}{2 \\, \\cos\\left(a \\kappa_{1}\\right)^{2} - 1},\\,0,\\,0,\\,0,\\,1,\\,0,\\,0\\right)$$"
      ],
      "text/plain": [
       "<IPython.core.display.Math object>"
      ]
     },
     "metadata": {},
     "output_type": "display_data"
    },
    {
     "name": "stdout",
     "output_type": "stream",
     "text": [
      "M_rows[ 0 ] =\n"
     ]
    },
    {
     "data": {
      "text/latex": [
       "$$\\left(0,\\,0,\\,0,\\,0,\\,1,\\,0,\\,0,\\,0\\right)$$"
      ],
      "text/plain": [
       "<IPython.core.display.Math object>"
      ]
     },
     "metadata": {},
     "output_type": "display_data"
    },
    {
     "name": "stdout",
     "output_type": "stream",
     "text": [
      "M_rows[ 1 ] =\n"
     ]
    },
    {
     "data": {
      "text/latex": [
       "$$\\left(1,\\,0,\\,0,\\,0,\\,0,\\,0,\\,-\\frac{i \\, k}{\\kappa_{0}},\\,0\\right)$$"
      ],
      "text/plain": [
       "<IPython.core.display.Math object>"
      ]
     },
     "metadata": {},
     "output_type": "display_data"
    },
    {
     "name": "stdout",
     "output_type": "stream",
     "text": [
      "M_rows[ 7 ] =\n"
     ]
    },
    {
     "data": {
      "text/latex": [
       "$$\\left(0,\\,0,\\,0,\\,0,\\,0,\\,1,\\,0,\\,\\frac{2 i \\, k \\cos\\left(a \\kappa_{1}\\right) \\sin\\left(a \\kappa_{1}\\right)}{2 \\, \\kappa_{1} \\sin\\left(a \\kappa_{1}\\right)^{2} - \\kappa_{1}}\\right)$$"
      ],
      "text/plain": [
       "<IPython.core.display.Math object>"
      ]
     },
     "metadata": {},
     "output_type": "display_data"
    },
    {
     "name": "stdout",
     "output_type": "stream",
     "text": [
      "M_rows[ 8 ] =\n"
     ]
    },
    {
     "data": {
      "text/latex": [
       "$$\\left(0,\\,1,\\,0,\\,0,\\,0,\\,0,\\,0,\\,-\\frac{i \\, k}{\\kappa_{1}}\\right)$$"
      ],
      "text/plain": [
       "<IPython.core.display.Math object>"
      ]
     },
     "metadata": {},
     "output_type": "display_data"
    }
   ],
   "source": [
    "reduced_M_res_rot_H = reduceDependedRows(M_res_rot_H)"
   ]
  },
  {
   "cell_type": "code",
   "execution_count": 24,
   "metadata": {},
   "outputs": [
    {
     "data": {
      "text/latex": [
       "$$\\left(\\begin{array}{rrrrrrrr}\n",
       "0 & 0 & 0 & 0 & 1 & 0 & 0 & 0 \\\\\n",
       "1 & 0 & 0 & 0 & 0 & 0 & -\\frac{i \\, k}{\\kappa_{0}} & 0 \\\\\n",
       "0 & 0 & 0 & 0 & 0 & 1 & 0 & \\frac{2 i \\, k \\cos\\left(a \\kappa_{1}\\right) \\sin\\left(a \\kappa_{1}\\right)}{2 \\, \\kappa_{1} \\sin\\left(a \\kappa_{1}\\right)^{2} - \\kappa_{1}} \\\\\n",
       "0 & 1 & 0 & 0 & 0 & 0 & 0 & -\\frac{i \\, k}{\\kappa_{1}}\n",
       "\\end{array}\\right)$$"
      ],
      "text/plain": [
       "<IPython.core.display.Math object>"
      ]
     },
     "metadata": {},
     "output_type": "display_data"
    }
   ],
   "source": [
    "display(Math(latex(reduced_M_res_rot_H)))"
   ]
  },
  {
   "cell_type": "code",
   "execution_count": 25,
   "metadata": {},
   "outputs": [],
   "source": [
    "def make_eqsys_from_reduced_M(M_rotH, vars):\n",
    "    xx = vector(SR, vars)\n",
    "    print(\"eqns =\")\n",
    "    eqns = [(M_rotH*xx)[index] == 0 for index in range(M_rotH.nrows())]\n",
    "    display(Math(latex(eqns)))\n",
    "    return (eqns)"
   ]
  },
  {
   "cell_type": "code",
   "execution_count": 26,
   "metadata": {},
   "outputs": [
    {
     "name": "stdout",
     "output_type": "stream",
     "text": [
      "eqns =\n"
     ]
    },
    {
     "data": {
      "text/latex": [
       "$$\\left[\\mathit{Bx}_{0} = 0, \\mathit{Ax}_{0} - \\frac{i \\, \\mathit{Bz}_{0} k}{\\kappa_{0}} = 0, \\frac{2 i \\, \\mathit{Bz}_{1} k \\cos\\left(a \\kappa_{1}\\right) \\sin\\left(a \\kappa_{1}\\right)}{2 \\, \\kappa_{1} \\sin\\left(a \\kappa_{1}\\right)^{2} - \\kappa_{1}} + \\mathit{Bx}_{1} = 0, \\mathit{Ax}_{1} - \\frac{i \\, \\mathit{Bz}_{1} k}{\\kappa_{1}} = 0\\right]$$"
      ],
      "text/plain": [
       "<IPython.core.display.Math object>"
      ]
     },
     "metadata": {},
     "output_type": "display_data"
    }
   ],
   "source": [
    "eqsys_rotH_simplified = make_eqsys_from_reduced_M(reduced_M_res_rot_H, vars)"
   ]
  },
  {
   "cell_type": "code",
   "execution_count": 27,
   "metadata": {},
   "outputs": [
    {
     "data": {
      "text/latex": [
       "$$\\left[\\mathit{Bx}_{0} = 0, \\mathit{Ax}_{0} = \\frac{i \\, \\mathit{Bz}_{0} k}{\\kappa_{0}}, \\mathit{Bx}_{1} = -\\frac{2 i \\, \\mathit{Bz}_{1} k \\cos\\left(a \\kappa_{1}\\right) \\sin\\left(a \\kappa_{1}\\right)}{2 \\, \\kappa_{1} \\sin\\left(a \\kappa_{1}\\right)^{2} - \\kappa_{1}}, \\mathit{Ax}_{1} = \\frac{i \\, \\mathit{Bz}_{1} k}{\\kappa_{1}}\\right]$$"
      ],
      "text/plain": [
       "<IPython.core.display.Math object>"
      ]
     },
     "metadata": {},
     "output_type": "display_data"
    }
   ],
   "source": [
    "eqsys_rotH_subs = []\n",
    "for eq_rotH_simplified in eqsys_rotH_simplified:\n",
    "    for var in Ax + Bx:\n",
    "        if var in eq_rotH_simplified.variables():\n",
    "            eqsys_rotH_subs += solve (eq_rotH_simplified, var)\n",
    "\n",
    "display(Math(latex(eqsys_rotH_subs)))"
   ]
  },
  {
   "cell_type": "code",
   "execution_count": 28,
   "metadata": {},
   "outputs": [
    {
     "data": {
      "text/latex": [
       "$$\\left[\\mathit{Az}_{0} \\cos\\left(a \\kappa_{0}\\right) + \\mathit{Bz}_{0} \\sin\\left(a \\kappa_{0}\\right) = \\mathit{Az}_{1} \\cos\\left(a \\kappa_{1}\\right) + \\mathit{Bz}_{1} \\sin\\left(a \\kappa_{1}\\right), {\\left(\\mathit{Ax}_{0} \\cos\\left(a \\kappa_{0}\\right) + \\mathit{Bx}_{0} \\sin\\left(a \\kappa_{0}\\right)\\right)} \\epsilon_{0} = {\\left(\\mathit{Ax}_{1} \\cos\\left(a \\kappa_{1}\\right) + \\mathit{Bx}_{1} \\sin\\left(a \\kappa_{1}\\right)\\right)} \\epsilon_{1}, \\mathit{Bx}_{0} = 0, \\mathit{Ax}_{0} - \\frac{i \\, \\mathit{Bz}_{0} k}{\\kappa_{0}} = 0, \\frac{2 i \\, \\mathit{Bz}_{1} k \\cos\\left(a \\kappa_{1}\\right) \\sin\\left(a \\kappa_{1}\\right)}{2 \\, \\kappa_{1} \\sin\\left(a \\kappa_{1}\\right)^{2} - \\kappa_{1}} + \\mathit{Bx}_{1} = 0, \\mathit{Ax}_{1} - \\frac{i \\, \\mathit{Bz}_{1} k}{\\kappa_{1}} = 0\\right]$$"
      ],
      "text/plain": [
       "<IPython.core.display.Math object>"
      ]
     },
     "metadata": {},
     "output_type": "display_data"
    }
   ],
   "source": [
    "        # + eq_Hy_boundary_conditions \\\n",
    "all_eqs = eq_Ez_boundary_conditions \\\n",
    "        + eq_Ex_boundary_conditions \\\n",
    "        + eqsys_rotH_simplified\n",
    "display(Math(latex(all_eqs)))"
   ]
  },
  {
   "cell_type": "code",
   "execution_count": 29,
   "metadata": {},
   "outputs": [
    {
     "data": {
      "text/latex": [
       "$$\\left[\\mathit{Az}_{0} \\cos\\left(a \\kappa_{0}\\right) + \\mathit{Bz}_{0} \\sin\\left(a \\kappa_{0}\\right) = \\mathit{Az}_{1} \\cos\\left(a \\kappa_{1}\\right) + \\mathit{Bz}_{1} \\sin\\left(a \\kappa_{1}\\right), {\\left(\\mathit{Ax}_{0} \\cos\\left(a \\kappa_{0}\\right) + \\mathit{Bx}_{0} \\sin\\left(a \\kappa_{0}\\right)\\right)} \\epsilon_{0} = {\\left(\\mathit{Ax}_{1} \\cos\\left(a \\kappa_{1}\\right) + \\mathit{Bx}_{1} \\sin\\left(a \\kappa_{1}\\right)\\right)} \\epsilon_{1}, \\mathit{Bx}_{0} = 0, \\mathit{Ax}_{0} - \\frac{i \\, \\mathit{Bz}_{0} k}{\\kappa_{0}} = 0, \\frac{2 i \\, \\mathit{Bz}_{1} k \\cos\\left(a \\kappa_{1}\\right) \\sin\\left(a \\kappa_{1}\\right)}{2 \\, \\kappa_{1} \\sin\\left(a \\kappa_{1}\\right)^{2} - \\kappa_{1}} + \\mathit{Bx}_{1} = 0, \\mathit{Ax}_{1} - \\frac{i \\, \\mathit{Bz}_{1} k}{\\kappa_{1}} = 0, \\mathit{Az}_{0} = 0.000000000000000, \\mathit{Az}_{1} \\cos\\left(2 \\, a \\kappa_{1}\\right) + \\mathit{Bz}_{1} \\sin\\left(2 \\, a \\kappa_{1}\\right) = 0.000000000000000\\right]$$"
      ],
      "text/plain": [
       "<IPython.core.display.Math object>"
      ]
     },
     "metadata": {},
     "output_type": "display_data"
    }
   ],
   "source": [
    "all_eqs += eq_Ez_superconductor_boundary_conditions\n",
    "display(Math(latex(all_eqs)))"
   ]
  },
  {
   "cell_type": "code",
   "execution_count": 30,
   "metadata": {},
   "outputs": [
    {
     "data": {
      "text/plain": [
       "8"
      ]
     },
     "execution_count": 30,
     "metadata": {},
     "output_type": "execute_result"
    }
   ],
   "source": [
    "len(all_eqs)"
   ]
  },
  {
   "cell_type": "code",
   "execution_count": 31,
   "metadata": {},
   "outputs": [
    {
     "data": {
      "text/latex": [
       "$$\\left(\\begin{array}{rrrrrrrr}\n",
       "0 & 0 & \\cos\\left(a \\kappa_{0}\\right) & -\\cos\\left(a \\kappa_{1}\\right) & 0 & 0 & \\sin\\left(a \\kappa_{0}\\right) & -\\sin\\left(a \\kappa_{1}\\right) \\\\\n",
       "\\epsilon_{0} \\cos\\left(a \\kappa_{0}\\right) & -\\epsilon_{1} \\cos\\left(a \\kappa_{1}\\right) & 0 & 0 & \\epsilon_{0} \\sin\\left(a \\kappa_{0}\\right) & -\\epsilon_{1} \\sin\\left(a \\kappa_{1}\\right) & 0 & 0 \\\\\n",
       "0 & 0 & 0 & 0 & 1 & 0 & 0 & 0 \\\\\n",
       "1 & 0 & 0 & 0 & 0 & 0 & -\\frac{i \\, k}{\\kappa_{0}} & 0 \\\\\n",
       "0 & 0 & 0 & 0 & 0 & 1 & 0 & \\frac{2 i \\, k \\cos\\left(a \\kappa_{1}\\right) \\sin\\left(a \\kappa_{1}\\right)}{2 \\, \\kappa_{1} \\sin\\left(a \\kappa_{1}\\right)^{2} - \\kappa_{1}} \\\\\n",
       "0 & 1 & 0 & 0 & 0 & 0 & 0 & -\\frac{i \\, k}{\\kappa_{1}} \\\\\n",
       "0 & 0 & 1 & 0 & 0 & 0 & 0 & 0 \\\\\n",
       "0 & 0 & 0 & \\cos\\left(2 \\, a \\kappa_{1}\\right) & 0 & 0 & 0 & \\sin\\left(2 \\, a \\kappa_{1}\\right)\n",
       "\\end{array}\\right)$$"
      ],
      "text/plain": [
       "<IPython.core.display.Math object>"
      ]
     },
     "metadata": {},
     "output_type": "display_data"
    }
   ],
   "source": [
    "M = GenerateMatrix(all_eqs, vars)\n",
    "display(Math(latex(M)))"
   ]
  },
  {
   "cell_type": "code",
   "execution_count": 32,
   "metadata": {},
   "outputs": [
    {
     "name": "stdout",
     "output_type": "stream",
     "text": [
      "\n",
      "M.nrows() 8\n",
      "M.ncols() 8\n",
      "M.rank() 8\n",
      "M.pivot_rows() = (0, 1, 2, 3, 4, 5, 6, 7)\n",
      "row =\n"
     ]
    },
    {
     "data": {
      "text/latex": [
       "$$\\left(0,\\,0,\\,\\cos\\left(a \\kappa_{0}\\right),\\,-\\cos\\left(a \\kappa_{1}\\right),\\,0,\\,0,\\,\\sin\\left(a \\kappa_{0}\\right),\\,-\\sin\\left(a \\kappa_{1}\\right)\\right)$$"
      ],
      "text/plain": [
       "<IPython.core.display.Math object>"
      ]
     },
     "metadata": {},
     "output_type": "display_data"
    },
    {
     "name": "stdout",
     "output_type": "stream",
     "text": [
      "row =\n"
     ]
    },
    {
     "data": {
      "text/latex": [
       "$$\\left(\\epsilon_{0} \\cos\\left(a \\kappa_{0}\\right),\\,-\\epsilon_{1} \\cos\\left(a \\kappa_{1}\\right),\\,0,\\,0,\\,\\epsilon_{0} \\sin\\left(a \\kappa_{0}\\right),\\,-\\epsilon_{1} \\sin\\left(a \\kappa_{1}\\right),\\,0,\\,0\\right)$$"
      ],
      "text/plain": [
       "<IPython.core.display.Math object>"
      ]
     },
     "metadata": {},
     "output_type": "display_data"
    },
    {
     "name": "stdout",
     "output_type": "stream",
     "text": [
      "row =\n"
     ]
    },
    {
     "data": {
      "text/latex": [
       "$$\\left(0,\\,0,\\,0,\\,0,\\,1,\\,0,\\,0,\\,0\\right)$$"
      ],
      "text/plain": [
       "<IPython.core.display.Math object>"
      ]
     },
     "metadata": {},
     "output_type": "display_data"
    },
    {
     "name": "stdout",
     "output_type": "stream",
     "text": [
      "row =\n"
     ]
    },
    {
     "data": {
      "text/latex": [
       "$$\\left(1,\\,0,\\,0,\\,0,\\,0,\\,0,\\,-\\frac{i \\, k}{\\kappa_{0}},\\,0\\right)$$"
      ],
      "text/plain": [
       "<IPython.core.display.Math object>"
      ]
     },
     "metadata": {},
     "output_type": "display_data"
    },
    {
     "name": "stdout",
     "output_type": "stream",
     "text": [
      "row =\n"
     ]
    },
    {
     "data": {
      "text/latex": [
       "$$\\left(0,\\,0,\\,0,\\,0,\\,0,\\,1,\\,0,\\,\\frac{2 i \\, k \\cos\\left(a \\kappa_{1}\\right) \\sin\\left(a \\kappa_{1}\\right)}{2 \\, \\kappa_{1} \\sin\\left(a \\kappa_{1}\\right)^{2} - \\kappa_{1}}\\right)$$"
      ],
      "text/plain": [
       "<IPython.core.display.Math object>"
      ]
     },
     "metadata": {},
     "output_type": "display_data"
    },
    {
     "name": "stdout",
     "output_type": "stream",
     "text": [
      "row =\n"
     ]
    },
    {
     "data": {
      "text/latex": [
       "$$\\left(0,\\,1,\\,0,\\,0,\\,0,\\,0,\\,0,\\,-\\frac{i \\, k}{\\kappa_{1}}\\right)$$"
      ],
      "text/plain": [
       "<IPython.core.display.Math object>"
      ]
     },
     "metadata": {},
     "output_type": "display_data"
    },
    {
     "name": "stdout",
     "output_type": "stream",
     "text": [
      "row =\n"
     ]
    },
    {
     "data": {
      "text/latex": [
       "$$\\left(0,\\,0,\\,1,\\,0,\\,0,\\,0,\\,0,\\,0\\right)$$"
      ],
      "text/plain": [
       "<IPython.core.display.Math object>"
      ]
     },
     "metadata": {},
     "output_type": "display_data"
    },
    {
     "name": "stdout",
     "output_type": "stream",
     "text": [
      "row =\n"
     ]
    },
    {
     "data": {
      "text/latex": [
       "$$\\left(0,\\,0,\\,0,\\,\\cos\\left(2 \\, a \\kappa_{1}\\right),\\,0,\\,0,\\,0,\\,\\sin\\left(2 \\, a \\kappa_{1}\\right)\\right)$$"
      ],
      "text/plain": [
       "<IPython.core.display.Math object>"
      ]
     },
     "metadata": {},
     "output_type": "display_data"
    },
    {
     "name": "stdout",
     "output_type": "stream",
     "text": [
      "M_rows[ 0 ] =\n"
     ]
    },
    {
     "data": {
      "text/latex": [
       "$$\\left(0,\\,0,\\,\\cos\\left(a \\kappa_{0}\\right),\\,-\\cos\\left(a \\kappa_{1}\\right),\\,0,\\,0,\\,\\sin\\left(a \\kappa_{0}\\right),\\,-\\sin\\left(a \\kappa_{1}\\right)\\right)$$"
      ],
      "text/plain": [
       "<IPython.core.display.Math object>"
      ]
     },
     "metadata": {},
     "output_type": "display_data"
    },
    {
     "name": "stdout",
     "output_type": "stream",
     "text": [
      "M_rows[ 1 ] =\n"
     ]
    },
    {
     "data": {
      "text/latex": [
       "$$\\left(\\epsilon_{0} \\cos\\left(a \\kappa_{0}\\right),\\,-\\epsilon_{1} \\cos\\left(a \\kappa_{1}\\right),\\,0,\\,0,\\,\\epsilon_{0} \\sin\\left(a \\kappa_{0}\\right),\\,-\\epsilon_{1} \\sin\\left(a \\kappa_{1}\\right),\\,0,\\,0\\right)$$"
      ],
      "text/plain": [
       "<IPython.core.display.Math object>"
      ]
     },
     "metadata": {},
     "output_type": "display_data"
    },
    {
     "name": "stdout",
     "output_type": "stream",
     "text": [
      "M_rows[ 2 ] =\n"
     ]
    },
    {
     "data": {
      "text/latex": [
       "$$\\left(0,\\,0,\\,0,\\,0,\\,1,\\,0,\\,0,\\,0\\right)$$"
      ],
      "text/plain": [
       "<IPython.core.display.Math object>"
      ]
     },
     "metadata": {},
     "output_type": "display_data"
    },
    {
     "name": "stdout",
     "output_type": "stream",
     "text": [
      "M_rows[ 3 ] =\n"
     ]
    },
    {
     "data": {
      "text/latex": [
       "$$\\left(1,\\,0,\\,0,\\,0,\\,0,\\,0,\\,-\\frac{i \\, k}{\\kappa_{0}},\\,0\\right)$$"
      ],
      "text/plain": [
       "<IPython.core.display.Math object>"
      ]
     },
     "metadata": {},
     "output_type": "display_data"
    },
    {
     "name": "stdout",
     "output_type": "stream",
     "text": [
      "M_rows[ 4 ] =\n"
     ]
    },
    {
     "data": {
      "text/latex": [
       "$$\\left(0,\\,0,\\,0,\\,0,\\,0,\\,1,\\,0,\\,\\frac{2 i \\, k \\cos\\left(a \\kappa_{1}\\right) \\sin\\left(a \\kappa_{1}\\right)}{2 \\, \\kappa_{1} \\sin\\left(a \\kappa_{1}\\right)^{2} - \\kappa_{1}}\\right)$$"
      ],
      "text/plain": [
       "<IPython.core.display.Math object>"
      ]
     },
     "metadata": {},
     "output_type": "display_data"
    },
    {
     "name": "stdout",
     "output_type": "stream",
     "text": [
      "M_rows[ 5 ] =\n"
     ]
    },
    {
     "data": {
      "text/latex": [
       "$$\\left(0,\\,1,\\,0,\\,0,\\,0,\\,0,\\,0,\\,-\\frac{i \\, k}{\\kappa_{1}}\\right)$$"
      ],
      "text/plain": [
       "<IPython.core.display.Math object>"
      ]
     },
     "metadata": {},
     "output_type": "display_data"
    },
    {
     "name": "stdout",
     "output_type": "stream",
     "text": [
      "M_rows[ 6 ] =\n"
     ]
    },
    {
     "data": {
      "text/latex": [
       "$$\\left(0,\\,0,\\,1,\\,0,\\,0,\\,0,\\,0,\\,0\\right)$$"
      ],
      "text/plain": [
       "<IPython.core.display.Math object>"
      ]
     },
     "metadata": {},
     "output_type": "display_data"
    },
    {
     "name": "stdout",
     "output_type": "stream",
     "text": [
      "M_rows[ 7 ] =\n"
     ]
    },
    {
     "data": {
      "text/latex": [
       "$$\\left(0,\\,0,\\,0,\\,\\cos\\left(2 \\, a \\kappa_{1}\\right),\\,0,\\,0,\\,0,\\,\\sin\\left(2 \\, a \\kappa_{1}\\right)\\right)$$"
      ],
      "text/plain": [
       "<IPython.core.display.Math object>"
      ]
     },
     "metadata": {},
     "output_type": "display_data"
    },
    {
     "name": "stdout",
     "output_type": "stream",
     "text": [
      "\n",
      "reduced_M.det() =\n"
     ]
    },
    {
     "data": {
      "text/latex": [
       "$$-\\frac{2 i \\, \\epsilon_{1} k \\cos\\left(2 \\, a \\kappa_{1}\\right) \\cos\\left(a \\kappa_{1}\\right) \\sin\\left(a \\kappa_{0}\\right) \\sin\\left(a \\kappa_{1}\\right)^{2}}{2 \\, \\kappa_{1} \\sin\\left(a \\kappa_{1}\\right)^{2} - \\kappa_{1}} + \\frac{i \\, \\epsilon_{1} k \\cos\\left(2 \\, a \\kappa_{1}\\right) \\cos\\left(a \\kappa_{1}\\right) \\sin\\left(a \\kappa_{0}\\right)}{\\kappa_{1}} + \\frac{i \\, \\epsilon_{0} k \\cos\\left(a \\kappa_{0}\\right) \\cos\\left(a \\kappa_{1}\\right) \\sin\\left(2 \\, a \\kappa_{1}\\right)}{\\kappa_{0}} - \\frac{i \\, \\epsilon_{0} k \\cos\\left(a \\kappa_{0}\\right) \\cos\\left(2 \\, a \\kappa_{1}\\right) \\sin\\left(a \\kappa_{1}\\right)}{\\kappa_{0}}$$"
      ],
      "text/plain": [
       "<IPython.core.display.Math object>"
      ]
     },
     "metadata": {},
     "output_type": "display_data"
    }
   ],
   "source": [
    "reduced_M = reduceDependedRows(M)"
   ]
  },
  {
   "cell_type": "code",
   "execution_count": 33,
   "metadata": {
    "scrolled": true
   },
   "outputs": [
    {
     "data": {
      "text/latex": [
       "$$\\left(\\begin{array}{rrrrrrrr}\n",
       "0 & 0 & \\cos\\left(a \\kappa_{0}\\right) & -\\cos\\left(a \\kappa_{1}\\right) & 0 & 0 & \\sin\\left(a \\kappa_{0}\\right) & -\\sin\\left(a \\kappa_{1}\\right) \\\\\n",
       "\\epsilon_{0} \\cos\\left(a \\kappa_{0}\\right) & -\\epsilon_{1} \\cos\\left(a \\kappa_{1}\\right) & 0 & 0 & \\epsilon_{0} \\sin\\left(a \\kappa_{0}\\right) & -\\epsilon_{1} \\sin\\left(a \\kappa_{1}\\right) & 0 & 0 \\\\\n",
       "0 & 0 & 0 & 0 & 1 & 0 & 0 & 0 \\\\\n",
       "1 & 0 & 0 & 0 & 0 & 0 & -\\frac{i \\, k}{\\kappa_{0}} & 0 \\\\\n",
       "0 & 0 & 0 & 0 & 0 & 1 & 0 & \\frac{2 i \\, k \\cos\\left(a \\kappa_{1}\\right) \\sin\\left(a \\kappa_{1}\\right)}{2 \\, \\kappa_{1} \\sin\\left(a \\kappa_{1}\\right)^{2} - \\kappa_{1}} \\\\\n",
       "0 & 1 & 0 & 0 & 0 & 0 & 0 & -\\frac{i \\, k}{\\kappa_{1}} \\\\\n",
       "0 & 0 & 1 & 0 & 0 & 0 & 0 & 0 \\\\\n",
       "0 & 0 & 0 & \\cos\\left(2 \\, a \\kappa_{1}\\right) & 0 & 0 & 0 & \\sin\\left(2 \\, a \\kappa_{1}\\right)\n",
       "\\end{array}\\right)$$"
      ],
      "text/plain": [
       "<IPython.core.display.Math object>"
      ]
     },
     "metadata": {},
     "output_type": "display_data"
    }
   ],
   "source": [
    "display(Math(latex(reduced_M)))"
   ]
  },
  {
   "cell_type": "code",
   "execution_count": 34,
   "metadata": {},
   "outputs": [
    {
     "data": {
      "text/latex": [
       "$$\\left[\\mathit{Ax}_{0}, \\mathit{Ax}_{1}, \\mathit{Az}_{0}, \\mathit{Az}_{1}, \\mathit{Bx}_{0}, \\mathit{Bx}_{1}, \\mathit{Bz}_{0}, \\mathit{Bz}_{1}\\right]$$"
      ],
      "text/plain": [
       "<IPython.core.display.Math object>"
      ]
     },
     "metadata": {},
     "output_type": "display_data"
    }
   ],
   "source": [
    "display(Math(latex(vars)))"
   ]
  },
  {
   "cell_type": "code",
   "execution_count": 35,
   "metadata": {},
   "outputs": [
    {
     "name": "stdout",
     "output_type": "stream",
     "text": [
      "eqns =\n"
     ]
    },
    {
     "data": {
      "text/latex": [
       "$$\\left[\\mathit{Az}_{0} \\cos\\left(a \\kappa_{0}\\right) - \\mathit{Az}_{1} \\cos\\left(a \\kappa_{1}\\right) + \\mathit{Bz}_{0} \\sin\\left(a \\kappa_{0}\\right) - \\mathit{Bz}_{1} \\sin\\left(a \\kappa_{1}\\right) = 0, \\mathit{Ax}_{0} \\epsilon_{0} \\cos\\left(a \\kappa_{0}\\right) - \\mathit{Ax}_{1} \\epsilon_{1} \\cos\\left(a \\kappa_{1}\\right) + \\mathit{Bx}_{0} \\epsilon_{0} \\sin\\left(a \\kappa_{0}\\right) - \\mathit{Bx}_{1} \\epsilon_{1} \\sin\\left(a \\kappa_{1}\\right) = 0, \\mathit{Bx}_{0} = 0, \\mathit{Ax}_{0} - \\frac{i \\, \\mathit{Bz}_{0} k}{\\kappa_{0}} = 0, \\frac{2 i \\, \\mathit{Bz}_{1} k \\cos\\left(a \\kappa_{1}\\right) \\sin\\left(a \\kappa_{1}\\right)}{2 \\, \\kappa_{1} \\sin\\left(a \\kappa_{1}\\right)^{2} - \\kappa_{1}} + \\mathit{Bx}_{1} = 0, \\mathit{Ax}_{1} - \\frac{i \\, \\mathit{Bz}_{1} k}{\\kappa_{1}} = 0, \\mathit{Az}_{0} = 0, \\mathit{Az}_{1} \\cos\\left(2 \\, a \\kappa_{1}\\right) + \\mathit{Bz}_{1} \\sin\\left(2 \\, a \\kappa_{1}\\right) = 0\\right]$$"
      ],
      "text/plain": [
       "<IPython.core.display.Math object>"
      ]
     },
     "metadata": {},
     "output_type": "display_data"
    }
   ],
   "source": [
    "eqsys_simplified = make_eqsys_from_reduced_M(reduced_M, vars)"
   ]
  },
  {
   "cell_type": "code",
   "execution_count": 36,
   "metadata": {},
   "outputs": [
    {
     "data": {
      "text/latex": [
       "$$-\\frac{2 i \\, \\epsilon_{1} k \\cos\\left(2 \\, a \\kappa_{1}\\right) \\cos\\left(a \\kappa_{1}\\right) \\sin\\left(a \\kappa_{0}\\right) \\sin\\left(a \\kappa_{1}\\right)^{2}}{2 \\, \\kappa_{1} \\sin\\left(a \\kappa_{1}\\right)^{2} - \\kappa_{1}} + \\frac{i \\, \\epsilon_{1} k \\cos\\left(2 \\, a \\kappa_{1}\\right) \\cos\\left(a \\kappa_{1}\\right) \\sin\\left(a \\kappa_{0}\\right)}{\\kappa_{1}} + \\frac{i \\, \\epsilon_{0} k \\cos\\left(a \\kappa_{0}\\right) \\cos\\left(a \\kappa_{1}\\right) \\sin\\left(2 \\, a \\kappa_{1}\\right)}{\\kappa_{0}} - \\frac{i \\, \\epsilon_{0} k \\cos\\left(a \\kappa_{0}\\right) \\cos\\left(2 \\, a \\kappa_{1}\\right) \\sin\\left(a \\kappa_{1}\\right)}{\\kappa_{0}}$$"
      ],
      "text/plain": [
       "<IPython.core.display.Math object>"
      ]
     },
     "metadata": {},
     "output_type": "display_data"
    }
   ],
   "source": [
    "reduced_M_det = reduced_M.det()\n",
    "display(Math(latex(reduced_M_det)))"
   ]
  },
  {
   "cell_type": "code",
   "execution_count": 37,
   "metadata": {},
   "outputs": [
    {
     "data": {
      "text/latex": [
       "$$\\frac{i \\, \\epsilon_{1} k \\kappa_{0} \\cos\\left(a \\kappa_{1}\\right) \\sin\\left(a \\kappa_{0}\\right) + i \\, \\epsilon_{0} k \\kappa_{1} \\cos\\left(a \\kappa_{0}\\right) \\sin\\left(a \\kappa_{1}\\right)}{\\kappa_{0} \\kappa_{1}} = 0$$"
      ],
      "text/plain": [
       "<IPython.core.display.Math object>"
      ]
     },
     "metadata": {},
     "output_type": "display_data"
    }
   ],
   "source": [
    "disp_eq = (reduced_M_det == 0).full_simplify()\n",
    "display(Math(latex(disp_eq)))"
   ]
  },
  {
   "cell_type": "code",
   "execution_count": 38,
   "metadata": {},
   "outputs": [
    {
     "data": {
      "text/latex": [
       "$$\\frac{\\epsilon_{1} \\kappa_{0} \\cos\\left(a \\kappa_{1}\\right) \\sin\\left(a \\kappa_{0}\\right) + \\epsilon_{0} \\kappa_{1} \\cos\\left(a \\kappa_{0}\\right) \\sin\\left(a \\kappa_{1}\\right)}{\\kappa_{0} \\kappa_{1}} = 0$$"
      ],
      "text/plain": [
       "<IPython.core.display.Math object>"
      ]
     },
     "metadata": {},
     "output_type": "display_data"
    }
   ],
   "source": [
    "disp_eq = (disp_eq / I / k).full_simplify()\n",
    "display(Math(latex(disp_eq)))"
   ]
  },
  {
   "cell_type": "code",
   "execution_count": 39,
   "metadata": {},
   "outputs": [
    {
     "data": {
      "text/latex": [
       "$$\\frac{\\kappa_{0} \\sin\\left(a \\kappa_{0}\\right)}{\\epsilon_{0} \\cos\\left(a \\kappa_{0}\\right)} + \\frac{\\kappa_{1} \\sin\\left(a \\kappa_{1}\\right)}{\\epsilon_{1} \\cos\\left(a \\kappa_{1}\\right)} = 0$$"
      ],
      "text/plain": [
       "<IPython.core.display.Math object>"
      ]
     },
     "metadata": {},
     "output_type": "display_data"
    }
   ],
   "source": [
    "for i in range(n_layers):\n",
    "    disp_eq = (disp_eq*kappa[i]/cos(a*kappa[i])/epsilon[i]).full_simplify().expand()\n",
    "display(Math(latex(disp_eq)))"
   ]
  },
  {
   "cell_type": "code",
   "execution_count": 40,
   "metadata": {},
   "outputs": [
    {
     "data": {
      "text/latex": [
       "$$\\left[\\frac{\\omega^{2}}{c^{2}} = \\frac{\\kappa_{0}^{2} - \\kappa_{1}^{2}}{\\epsilon_{0} \\mu_{0} - \\epsilon_{1} \\mu_{1}}\\right]$$"
      ],
      "text/plain": [
       "<IPython.core.display.Math object>"
      ]
     },
     "metadata": {},
     "output_type": "display_data"
    }
   ],
   "source": [
    "# исходя из вида дифференциальных уравнений для диэлектрика\n",
    "# записываем соотнощения для волнового вектора в виде уравнений\n",
    "eq_kappa_kappa = []\n",
    "eq_kappa2_kappa2 = []\n",
    "\n",
    "for i in range(n_layers - 1):\n",
    "    # eq_kappa_s = eq_kappa.subs(solve(eq_s, k^2)).full_simplify()\n",
    "    eq_kappa_kappa += [eq_kappa[i].subs(solve(eq_kappa[i+1], k^2)).full_simplify()]\n",
    "    eq_kappa2_kappa2 += [(solve(eq_kappa_kappa[i], omega^2)[0]/c^2).full_simplify()]\n",
    "\n",
    "# display(Math(latex(eq_kappa_kappa)))\n",
    "display(Math(latex(eq_kappa2_kappa2)))"
   ]
  },
  {
   "cell_type": "code",
   "execution_count": 41,
   "metadata": {},
   "outputs": [
    {
     "name": "stdout",
     "output_type": "stream",
     "text": [
      "eqs_kappa [ 0 ] =\n"
     ]
    },
    {
     "data": {
      "text/latex": [
       "$$\\frac{\\kappa_{0} \\sin\\left(a \\kappa_{0}\\right)}{\\epsilon_{0} \\cos\\left(a \\kappa_{0}\\right)} + \\frac{\\sqrt{c^{2} \\kappa_{0}^{2} - \\epsilon_{0} \\mu_{0} \\omega^{2} + \\epsilon_{1} \\mu_{1} \\omega^{2}} \\sin\\left(\\frac{\\sqrt{c^{2} \\kappa_{0}^{2} - \\epsilon_{0} \\mu_{0} \\omega^{2} + \\epsilon_{1} \\mu_{1} \\omega^{2}} a}{c}\\right)}{c \\epsilon_{1} \\cos\\left(\\frac{\\sqrt{c^{2} \\kappa_{0}^{2} - \\epsilon_{0} \\mu_{0} \\omega^{2} + \\epsilon_{1} \\mu_{1} \\omega^{2}} a}{c}\\right)} = 0$$"
      ],
      "text/plain": [
       "<IPython.core.display.Math object>"
      ]
     },
     "metadata": {},
     "output_type": "display_data"
    },
    {
     "name": "stdout",
     "output_type": "stream",
     "text": [
      "eqs_kappa [ 1 ] =\n"
     ]
    },
    {
     "data": {
      "text/latex": [
       "$$\\frac{\\kappa_{1} \\sin\\left(a \\kappa_{1}\\right)}{\\epsilon_{1} \\cos\\left(a \\kappa_{1}\\right)} + \\frac{\\sqrt{c^{2} \\kappa_{1}^{2} + \\epsilon_{0} \\mu_{0} \\omega^{2} - \\epsilon_{1} \\mu_{1} \\omega^{2}} \\sin\\left(\\frac{\\sqrt{c^{2} \\kappa_{1}^{2} + \\epsilon_{0} \\mu_{0} \\omega^{2} - \\epsilon_{1} \\mu_{1} \\omega^{2}} a}{c}\\right)}{c \\epsilon_{0} \\cos\\left(\\frac{\\sqrt{c^{2} \\kappa_{1}^{2} + \\epsilon_{0} \\mu_{0} \\omega^{2} - \\epsilon_{1} \\mu_{1} \\omega^{2}} a}{c}\\right)} = 0$$"
      ],
      "text/plain": [
       "<IPython.core.display.Math object>"
      ]
     },
     "metadata": {},
     "output_type": "display_data"
    }
   ],
   "source": [
    "eqs_kappa = []\n",
    "for i in range(n_layers):\n",
    "    eqs_kappa += [disp_eq]\n",
    "    for j in range(0, i):\n",
    "        eqs_kappa[i] = eqs_kappa[i].subs(solve(eq_kappa2_kappa2[j], kappa[j]))\n",
    "\n",
    "    for j in range(n_layers-1, i,-1):\n",
    "        eqs_kappa[i] = eqs_kappa[i].subs(solve(eq_kappa2_kappa2[j-1], kappa[j]))\n",
    "        \n",
    "    print (\"eqs_kappa [\", i, \"] =\")\n",
    "    display(Math(latex(eqs_kappa[i])))"
   ]
  },
  {
   "cell_type": "code",
   "execution_count": 42,
   "metadata": {},
   "outputs": [
    {
     "data": {
      "text/latex": [
       "$$\\left[\\kappa_{0} = \\frac{\\pi}{2 \\, a}, \\kappa_{0} = \\frac{\\sqrt{4 \\, a^{2} \\epsilon_{0} \\mu_{0} \\omega^{2} - 4 \\, a^{2} \\epsilon_{1} \\mu_{1} \\omega^{2} + \\pi^{2} c^{2}}}{2 \\, a c}\\right]$$"
      ],
      "text/plain": [
       "<IPython.core.display.Math object>"
      ]
     },
     "metadata": {},
     "output_type": "display_data"
    },
    {
     "data": {
      "text/latex": [
       "$$\\left[\\kappa_{1} = \\frac{\\pi}{2 \\, a}, \\kappa_{1} = \\frac{\\sqrt{-4 \\, a^{2} \\epsilon_{0} \\mu_{0} \\omega^{2} + 4 \\, a^{2} \\epsilon_{1} \\mu_{1} \\omega^{2} + \\pi^{2} c^{2}}}{2 \\, a c}\\right]$$"
      ],
      "text/plain": [
       "<IPython.core.display.Math object>"
      ]
     },
     "metadata": {},
     "output_type": "display_data"
    },
    {
     "data": {
      "text/latex": [
       "$$\\left[\\left[\\kappa_{0} = \\frac{\\pi}{2 \\, a}, \\kappa_{0} = \\frac{\\sqrt{4 \\, a^{2} \\epsilon_{0} \\mu_{0} \\omega^{2} - 4 \\, a^{2} \\epsilon_{1} \\mu_{1} \\omega^{2} + \\pi^{2} c^{2}}}{2 \\, a c}\\right], \\left[\\kappa_{1} = \\frac{\\pi}{2 \\, a}, \\kappa_{1} = \\frac{\\sqrt{-4 \\, a^{2} \\epsilon_{0} \\mu_{0} \\omega^{2} + 4 \\, a^{2} \\epsilon_{1} \\mu_{1} \\omega^{2} + \\pi^{2} c^{2}}}{2 \\, a c}\\right]\\right]$$"
      ],
      "text/plain": [
       "<IPython.core.display.Math object>"
      ]
     },
     "metadata": {},
     "output_type": "display_data"
    }
   ],
   "source": [
    "kappa_den_zeros = []\n",
    "for i in range(n_layers):\n",
    "    kappa_den_zeros += [[]]\n",
    "    \n",
    "for i in range(n_layers):\n",
    "    terms = eqs_kappa[i].lhs().expand().operands()\n",
    "    \n",
    "    kappa_i_den_zeros = []\n",
    "    for term in terms:\n",
    "        kappa_i_den_zeros += solve(term.denominator(), kappa[i])\n",
    "       \n",
    "    kappa_den_zeros[i] += kappa_i_den_zeros\n",
    "        \n",
    "    display(Math(latex(kappa_i_den_zeros)))\n",
    "    \n",
    "display(Math(latex(kappa_den_zeros)))"
   ]
  },
  {
   "cell_type": "code",
   "execution_count": 43,
   "metadata": {},
   "outputs": [
    {
     "name": "stdout",
     "output_type": "stream",
     "text": [
      "[omega == 6.28318530717959e11, c == 29979245800, mu_0 == 1, epsilon_0 == 2, mu_1 == 1, epsilon_1 == 4]\n"
     ]
    }
   ],
   "source": [
    "# sgs\n",
    "A = 0.1\n",
    "digit_values = [omega == 2*pi.n()*10^11, c == 299792458 * 100]\n",
    "for i in range(n_layers):\n",
    "    digit_values += [mu[i] == 1]\n",
    "    digit_values += [epsilon[i] == 2*(i+1)]\n",
    "print (digit_values)"
   ]
  },
  {
   "cell_type": "code",
   "execution_count": 44,
   "metadata": {},
   "outputs": [
    {
     "name": "stdout",
     "output_type": "stream",
     "text": [
      "eqs_kappa_d = 1/2*kappa_0*sin(0.100000000000000*kappa_0)/cos(0.100000000000000*kappa_0) + 1/119916983200*sqrt(898755178736817640000*kappa_0^2 + 7.89568352087149e23)*sin((3.33564095198152e-12)*sqrt(898755178736817640000*kappa_0^2 + 7.89568352087149e23))/cos((3.33564095198152e-12)*sqrt(898755178736817640000*kappa_0^2 + 7.89568352087149e23)) == 0\n",
      "\n",
      "eqs_kappa_d = 1/4*kappa_1*sin(0.100000000000000*kappa_1)/cos(0.100000000000000*kappa_1) + 1/59958491600*sqrt(898755178736817640000*kappa_1^2 - 7.89568352087149e23)*sin((3.33564095198152e-12)*sqrt(898755178736817640000*kappa_1^2 - 7.89568352087149e23))/cos((3.33564095198152e-12)*sqrt(898755178736817640000*kappa_1^2 - 7.89568352087149e23)) == 0\n",
      "\n"
     ]
    }
   ],
   "source": [
    "eqs_kappa_d = []\n",
    "for i in range(n_layers):\n",
    "    eqs_kappa_d += [eqs_kappa[i].subs(digit_values).subs(a == A)]\n",
    "    print(\"eqs_kappa_d =\", eqs_kappa_d[i])\n",
    "    print(\"\")"
   ]
  },
  {
   "cell_type": "code",
   "execution_count": 45,
   "metadata": {},
   "outputs": [
    {
     "name": "stdout",
     "output_type": "stream",
     "text": [
      "[[15.7079632679490], [15.7079632679490, 33.5447966342794]]\n",
      "[[15.7079632679490], [15.7079632679490, 33.5447966342794]]\n"
     ]
    }
   ],
   "source": [
    "kappa_den_zeros_d = []\n",
    "for i in range(n_layers):\n",
    "    kappa_den_zeros_d += [[]]\n",
    "    for kappa_den_zero in kappa_den_zeros[i]:\n",
    "        kappa_den_zero_d = kappa_den_zero.rhs().subs(digit_values).subs(a == A).n()\n",
    "        if kappa_den_zero_d.is_real() and kappa_den_zero_d > 0:\n",
    "            if not kappa_den_zero_d in kappa_den_zeros_d[i]:\n",
    "                kappa_den_zeros_d[i] += [kappa_den_zero_d]\n",
    "                \n",
    "print(kappa_den_zeros_d)\n",
    "\n",
    "for i in range(n_layers):\n",
    "    kappa_den_zeros_d[i] = sorted(kappa_den_zeros_d[i])\n",
    "\n",
    "print(kappa_den_zeros_d)"
   ]
  },
  {
   "cell_type": "code",
   "execution_count": 46,
   "metadata": {},
   "outputs": [
    {
     "name": "stdout",
     "output_type": "stream",
     "text": [
      "i = 0\n",
      "1/2*kappa_0*sin(0.100000000000000*kappa_0)/cos(0.100000000000000*kappa_0) + 1/119916983200*sqrt(898755178736817640000*kappa_0^2 + 7.89568352087149e23)*sin((3.33564095198152e-12)*sqrt(898755178736817640000*kappa_0^2 + 7.89568352087149e23))/cos((3.33564095198152e-12)*sqrt(898755178736817640000*kappa_0^2 + 7.89568352087149e23))\n",
      "0.000000000000000 15.6079632679490\n"
     ]
    },
    {
     "data": {
      "image/png": "[encoded data removed]",
      "text/plain": [
       "Graphics object consisting of 1 graphics primitive"
      ]
     },
     "metadata": {},
     "output_type": "display_data"
    },
    {
     "name": "stdout",
     "output_type": "stream",
     "text": [
      "1/2*kappa_0*sin(0.100000000000000*kappa_0)/cos(0.100000000000000*kappa_0) + 1/119916983200*sqrt(898755178736817640000*kappa_0^2 + 7.89568352087149e23)*sin((3.33564095198152e-12)*sqrt(898755178736817640000*kappa_0^2 + 7.89568352087149e23))/cos((3.33564095198152e-12)*sqrt(898755178736817640000*kappa_0^2 + 7.89568352087149e23))\n",
      "15.8079632679490 31.6159265358979\n"
     ]
    },
    {
     "data": {
      "image/png": "[encoded data removed]",
      "text/plain": [
       "Graphics object consisting of 1 graphics primitive"
      ]
     },
     "metadata": {},
     "output_type": "display_data"
    },
    {
     "name": "stdout",
     "output_type": "stream",
     "text": [
      "i = 1\n",
      "1/4*kappa_1*sin(0.100000000000000*kappa_1)/cos(0.100000000000000*kappa_1) + 1/59958491600*sqrt(898755178736817640000*kappa_1^2 - 7.89568352087149e23)*sin((3.33564095198152e-12)*sqrt(898755178736817640000*kappa_1^2 - 7.89568352087149e23))/cos((3.33564095198152e-12)*sqrt(898755178736817640000*kappa_1^2 - 7.89568352087149e23))\n",
      "0.000000000000000 15.6079632679490\n"
     ]
    },
    {
     "data": {
      "image/png": "[encoded data removed]",
      "text/plain": [
       "Graphics object consisting of 1 graphics primitive"
      ]
     },
     "metadata": {},
     "output_type": "display_data"
    },
    {
     "name": "stdout",
     "output_type": "stream",
     "text": [
      "1/4*kappa_1*sin(0.100000000000000*kappa_1)/cos(0.100000000000000*kappa_1) + 1/59958491600*sqrt(898755178736817640000*kappa_1^2 - 7.89568352087149e23)*sin((3.33564095198152e-12)*sqrt(898755178736817640000*kappa_1^2 - 7.89568352087149e23))/cos((3.33564095198152e-12)*sqrt(898755178736817640000*kappa_1^2 - 7.89568352087149e23))\n",
      "15.8079632679490 33.4447966342794\n"
     ]
    },
    {
     "data": {
      "image/png": "[encoded data removed]",
      "text/plain": [
       "Graphics object consisting of 1 graphics primitive"
      ]
     },
     "metadata": {},
     "output_type": "display_data"
    },
    {
     "name": "stdout",
     "output_type": "stream",
     "text": [
      "1/4*kappa_1*sin(0.100000000000000*kappa_1)/cos(0.100000000000000*kappa_1) + 1/59958491600*sqrt(898755178736817640000*kappa_1^2 - 7.89568352087149e23)*sin((3.33564095198152e-12)*sqrt(898755178736817640000*kappa_1^2 - 7.89568352087149e23))/cos((3.33564095198152e-12)*sqrt(898755178736817640000*kappa_1^2 - 7.89568352087149e23))\n",
      "33.6447966342794 67.2895932685588\n"
     ]
    },
    {
     "data": {
      "image/png": "[encoded data removed]",
      "text/plain": [
       "Graphics object consisting of 1 graphics primitive"
      ]
     },
     "metadata": {},
     "output_type": "display_data"
    }
   ],
   "source": [
    "eps = 0.1\n",
    "for i in range(n_layers):\n",
    "    print (\"i =\", i)\n",
    "    ai = 0.0\n",
    "    for kappa_den_zero_d in kappa_den_zeros_d[i]:\n",
    "        bi = kappa_den_zero_d - eps\n",
    "        print(eqs_kappa_d[i].lhs())\n",
    "        print(ai, bi)\n",
    "        plot(eqs_kappa_d[i].lhs(), ai, bi).show()\n",
    "        ai = kappa_den_zero_d + eps\n",
    "    bi = ai * 2\n",
    "    print(eqs_kappa_d[i].lhs())\n",
    "    print(ai, bi)\n",
    "    plot(eqs_kappa_d[i].lhs(), ai, bi).show()"
   ]
  },
  {
   "cell_type": "code",
   "execution_count": 47,
   "metadata": {},
   "outputs": [
    {
     "name": "stdout",
     "output_type": "stream",
     "text": [
      "ai = 0.100000000000000 bi = 15.6079632679490\n",
      "eq_kappa_f(ai) = -1.32954997601207 eq_kappa_f(bi) = 782.141502830934\n"
     ]
    },
    {
     "data": {
      "image/png": "[encoded data removed]",
      "text/plain": [
       "Graphics object consisting of 1 graphics primitive"
      ]
     },
     "metadata": {},
     "output_type": "display_data"
    },
    {
     "name": "stdout",
     "output_type": "stream",
     "text": [
      "kappa_0 = 4.495641989954285\n",
      "ai = 15.8079632679490 bi = 18.9695559215388\n",
      "eq_kappa_f(ai) = -788.515191468747 eq_kappa_f(bi) = -24.5538831956633\n"
     ]
    },
    {
     "data": {
      "image/png": "[encoded data removed]",
      "text/plain": [
       "Graphics object consisting of 1 graphics primitive"
      ]
     },
     "metadata": {},
     "output_type": "display_data"
    },
    {
     "name": "stdout",
     "output_type": "stream",
     "text": [
      "f(a) and f(b) must have different signs\n",
      "\n",
      "ai = 0.100000000000000 bi = 15.6079632679490\n",
      "eq_kappa_f(ai) = -14.7407767256690 eq_kappa_f(bi) = 377.749575097968\n"
     ]
    },
    {
     "data": {
      "image/png": "[encoded data removed]",
      "text/plain": [
       "Graphics object consisting of 1 graphics primitive"
      ]
     },
     "metadata": {},
     "output_type": "display_data"
    },
    {
     "name": "stdout",
     "output_type": "stream",
     "text": [
      "kappa_1 = 13.238442066068558\n",
      "ai = 15.8079632679490 bi = 33.4447966342794\n",
      "eq_kappa_f(ai) = -407.556660328669 eq_kappa_f(bi) = 362.473430244932\n"
     ]
    },
    {
     "data": {
      "image/png": "[encoded data removed]",
      "text/plain": [
       "Graphics object consisting of 1 graphics primitive"
      ]
     },
     "metadata": {},
     "output_type": "display_data"
    },
    {
     "name": "stdout",
     "output_type": "stream",
     "text": [
      "kappa_1 = 29.978726926101608\n",
      "ai = 33.6447966342794 bi = 40.3737559611353\n",
      "eq_kappa_f(ai) = -372.750070618136 eq_kappa_f(bi) = 6.81140220826753\n"
     ]
    },
    {
     "data": {
      "image/png": "[encoded data removed]",
      "text/plain": [
       "Graphics object consisting of 1 graphics primitive"
      ]
     },
     "metadata": {},
     "output_type": "display_data"
    },
    {
     "name": "stdout",
     "output_type": "stream",
     "text": [
      "kappa_1 = 38.9011826240613\n",
      "\n"
     ]
    }
   ],
   "source": [
    "kappa_d = []\n",
    "for i in range(n_layers):\n",
    "    kappa_d += [[]]\n",
    "\n",
    "eps = 0.1\n",
    "from scipy.optimize import fsolve, root, brentq\n",
    "for i in range(n_layers):\n",
    "    ai = 0.0 + eps\n",
    "    for kappa_den_zero_d in kappa_den_zeros_d[i]:\n",
    "        bi = kappa_den_zero_d - eps\n",
    "        exec(preparse( \"eq_kappa_f = lambda x :\" + str(eqs_kappa_d[i].lhs().subs(kappa[i] == x))))\n",
    "        print (\"ai =\", ai, \"bi =\", bi)\n",
    "        print (\"eq_kappa_f(ai) =\", eq_kappa_f(ai), \"eq_kappa_f(bi) =\", eq_kappa_f(bi))\n",
    "        plot(eq_kappa_f, ai, bi).show()\n",
    "        try:\n",
    "            kappa_root = brentq(eq_kappa_f, ai, bi)\n",
    "            kappa_d[i] += [kappa_root]\n",
    "            print (kappa[i], \"=\", kappa_root)\n",
    "        except Exception as ex:\n",
    "            print (ex)\n",
    "        ai = kappa_den_zero_d + eps\n",
    "    bi = ai * 1.2\n",
    "\n",
    "    exec(preparse( \"eq_kappa_f = lambda x :\" + str(eqs_kappa_d[i].lhs().subs(kappa[i] == x))))\n",
    "    print (\"ai =\", ai, \"bi =\", bi)\n",
    "    print (\"eq_kappa_f(ai) =\", eq_kappa_f(ai), \"eq_kappa_f(bi) =\", eq_kappa_f(bi))\n",
    "    plot(eq_kappa_f, ai, bi).show()\n",
    "    try:\n",
    "        kappa_root = brentq(eq_kappa_f, ai, bi)\n",
    "        kappa_d[i] += [kappa_root]\n",
    "        print (kappa[i], \"=\", kappa_root)\n",
    "    except Exception as ex:\n",
    "        print (ex)\n",
    "\n",
    "    print(\"\") "
   ]
  },
  {
   "cell_type": "code",
   "execution_count": 48,
   "metadata": {},
   "outputs": [
    {
     "name": "stdout",
     "output_type": "stream",
     "text": [
      "[[4.495641989954285], [13.238442066068558, 29.978726926101608, 38.9011826240613]]\n"
     ]
    }
   ],
   "source": [
    "print (kappa_d)"
   ]
  },
  {
   "cell_type": "code",
   "execution_count": 49,
   "metadata": {},
   "outputs": [
    {
     "name": "stdout",
     "output_type": "stream",
     "text": [
      "digit_kappa_i [ 0 ] = [kappa_0 == 4.495641989954285]\n",
      "j 1\n",
      "[\n",
      "kappa_1 == sqrt(c^2*kappa_0^2 - epsilon_0*mu_0*omega^2 + epsilon_1*mu_1*omega^2)/c\n",
      "]\n",
      "digit_kappa_i_j [ 0 , 1 ] = kappa_1 == 29.9787269261016\n",
      "digit_kappa_i_j [ 0 , 1 ].is_real() = True\n",
      "digit_kappa_i [ 0 ] = [kappa_0 == 4.495641989954285, kappa_1 == 29.9787269261016]\n",
      "\n",
      "digit_kappa_i [ 1 ] = [kappa_1 == 13.238442066068558]\n",
      "j 0\n",
      "[\n",
      "kappa_0 == sqrt(c^2*kappa_1^2 + epsilon_0*mu_0*omega^2 - epsilon_1*mu_1*omega^2)/c\n",
      "]\n",
      "digit_kappa_i_j [ 1 , 0 ] = kappa_0 == (1.62381991751000e-15 + 26.5189917393417*I)\n",
      "digit_kappa_i_j [ 1 , 0 ].is_real() = False\n",
      "digit_kappa_i [ 1 ] = [kappa_1 == 13.238442066068558]\n",
      "\n",
      "digit_kappa_i [ 1 ] = [kappa_1 == 29.978726926101608]\n",
      "j 0\n",
      "[\n",
      "kappa_0 == sqrt(c^2*kappa_1^2 + epsilon_0*mu_0*omega^2 - epsilon_1*mu_1*omega^2)/c\n",
      "]\n",
      "digit_kappa_i_j [ 1 , 0 ] = kappa_0 == 4.49564198995433\n",
      "digit_kappa_i_j [ 1 , 0 ].is_real() = True\n",
      "digit_kappa_i [ 1 ] = [kappa_1 == 29.978726926101608, kappa_0 == 4.49564198995433]\n",
      "\n",
      "digit_kappa_i [ 1 ] = [kappa_1 == 38.9011826240613]\n",
      "j 0\n",
      "[\n",
      "kappa_0 == sqrt(c^2*kappa_1^2 + epsilon_0*mu_0*omega^2 - epsilon_1*mu_1*omega^2)/c\n",
      "]\n",
      "digit_kappa_i_j [ 1 , 0 ] = kappa_0 == 25.1950141564286\n",
      "digit_kappa_i_j [ 1 , 0 ].is_real() = True\n",
      "digit_kappa_i [ 1 ] = [kappa_1 == 38.9011826240613, kappa_0 == 25.1950141564286]\n",
      "\n"
     ]
    }
   ],
   "source": [
    "digit_kappas = []\n",
    "for i in range(n_layers):\n",
    "    for kk in range(len(kappa_d[i])):\n",
    "        digit_kappa_i = [kappa[i] == kappa_d[i][kk]]\n",
    "        print(\"digit_kappa_i [\", i, \"] =\", digit_kappa_i)\n",
    "        \n",
    "        # for j in range(0, i):\n",
    "        for j in range(i-1, -1, -1):\n",
    "            print (\"j\", j)\n",
    "            print(solve(eq_kappa2_kappa2[j], kappa[j]))\n",
    "            digit_kappa_i_j = solve(eq_kappa2_kappa2[j], kappa[j])[0].subs(digit_kappa_i).subs(digit_values)\n",
    "            print(\"digit_kappa_i_j [\", i, \",\", j, \"] =\", digit_kappa_i_j)\n",
    "            print(\"digit_kappa_i_j [\", i, \",\", j, \"].is_real() =\", digit_kappa_i_j.rhs().is_real())\n",
    "            if digit_kappa_i_j.rhs().is_real():\n",
    "                digit_kappa_i += [digit_kappa_i_j]\n",
    "            print(\"digit_kappa_i [\", i, \"] =\", digit_kappa_i)\n",
    "\n",
    "        # for j in range(n_layers-1, i,-1):\n",
    "        for j in range(i+1, n_layers):\n",
    "            print (\"j\", j)\n",
    "            print(solve(eq_kappa2_kappa2[j-1], kappa[j]))\n",
    "            digit_kappa_i_j = solve(eq_kappa2_kappa2[j-1], kappa[j])[0].subs(digit_kappa_i).subs(digit_values)\n",
    "            print(\"digit_kappa_i_j [\", i, \",\", j, \"] =\", digit_kappa_i_j)\n",
    "            print(\"digit_kappa_i_j [\", i, \",\", j, \"].is_real() =\", digit_kappa_i_j.rhs().is_real())\n",
    "            if digit_kappa_i_j.rhs().is_real():\n",
    "                digit_kappa_i += [digit_kappa_i_j]\n",
    "            print(\"digit_kappa_i [\", i, \"] =\", digit_kappa_i)\n",
    "        \n",
    "        print(\"\")\n",
    "        if len(digit_kappa_i) == n_layers:\n",
    "            digit_kappas += [digit_kappa_i]"
   ]
  },
  {
   "cell_type": "code",
   "execution_count": 50,
   "metadata": {},
   "outputs": [
    {
     "name": "stdout",
     "output_type": "stream",
     "text": [
      "[[kappa_0 == 4.495641989954285, kappa_1 == 29.9787269261016], [kappa_1 == 29.978726926101608, kappa_0 == 4.49564198995433], [kappa_1 == 38.9011826240613, kappa_0 == 25.1950141564286]]\n"
     ]
    }
   ],
   "source": [
    "print(digit_kappas)"
   ]
  },
  {
   "cell_type": "code",
   "execution_count": 51,
   "metadata": {},
   "outputs": [
    {
     "name": "stdout",
     "output_type": "stream",
     "text": [
      "-k^2 + 878.513271207929 == 20.210796901840123 <class 'sage.symbolic.expression.Expression'>\n",
      "[\n",
      "k == -1/1050638*sqrt(901765195)*sqrt(1050638),\n",
      "k == 1/1050638*sqrt(901765195)*sqrt(1050638)\n",
      "]\n",
      "-k^2 + 878.513271207929 == 20.2107969018405 <class 'sage.symbolic.expression.Expression'>\n",
      "[\n",
      "k == -1/1050638*sqrt(901765195)*sqrt(1050638),\n",
      "k == 1/1050638*sqrt(901765195)*sqrt(1050638)\n",
      "]\n",
      "-k^2 + 878.513271207929 == 634.788738342640 <class 'sage.symbolic.expression.Expression'>\n",
      "[\n",
      "k == -1/595385*sqrt(145109931)*sqrt(595385),\n",
      "k == 1/595385*sqrt(145109931)*sqrt(595385)\n",
      "]\n"
     ]
    }
   ],
   "source": [
    "for j in range(len(digit_kappas)):\n",
    "    for i in range(n_layers - 1):\n",
    "        eq = eq_kappa[i].subs(digit_kappas[j]).subs(digit_values)\n",
    "        print (eq, type(eq))\n",
    "        digit_k_j = solve(eq, k)\n",
    "        print (digit_k_j)"
   ]
  },
  {
   "cell_type": "code",
   "execution_count": 52,
   "metadata": {},
   "outputs": [
    {
     "data": {
      "text/latex": [
       "$$-k^{2} + \\frac{\\epsilon_{0} \\mu_{0} \\omega^{2}}{c^{2}} = \\kappa_{0}^{2}$$"
      ],
      "text/plain": [
       "<IPython.core.display.Math object>"
      ]
     },
     "metadata": {},
     "output_type": "display_data"
    },
    {
     "data": {
      "text/latex": [
       "$$-k^{2} + \\frac{\\epsilon_{1} \\mu_{1} \\omega^{2}}{c^{2}} = \\kappa_{1}^{2}$$"
      ],
      "text/plain": [
       "<IPython.core.display.Math object>"
      ]
     },
     "metadata": {},
     "output_type": "display_data"
    },
    {
     "name": "stdout",
     "output_type": "stream",
     "text": [
      "\n"
     ]
    },
    {
     "data": {
      "text/latex": [
       "$$\\kappa_{0} = 4.495641989954285$$"
      ],
      "text/plain": [
       "<IPython.core.display.Math object>"
      ]
     },
     "metadata": {},
     "output_type": "display_data"
    },
    {
     "data": {
      "text/latex": [
       "$$\\kappa_{1} = 29.978726926101608$$"
      ],
      "text/plain": [
       "<IPython.core.display.Math object>"
      ]
     },
     "metadata": {},
     "output_type": "display_data"
    },
    {
     "name": "stdout",
     "output_type": "stream",
     "text": [
      "\n"
     ]
    },
    {
     "data": {
      "text/latex": [
       "$$-k^{2} + \\frac{\\epsilon_{0} \\mu_{0} \\omega^{2}}{c^{2}} = 20.210796901840123$$"
      ],
      "text/plain": [
       "<IPython.core.display.Math object>"
      ]
     },
     "metadata": {},
     "output_type": "display_data"
    },
    {
     "data": {
      "text/latex": [
       "$$-k^{2} + \\frac{\\epsilon_{1} \\mu_{1} \\omega^{2}}{c^{2}} = 898.7240681097695$$"
      ],
      "text/plain": [
       "<IPython.core.display.Math object>"
      ]
     },
     "metadata": {},
     "output_type": "display_data"
    },
    {
     "name": "stdout",
     "output_type": "stream",
     "text": [
      "\n"
     ]
    },
    {
     "data": {
      "text/latex": [
       "$$-k^{2} + 878.513271207929 = 20.210796901840123$$"
      ],
      "text/plain": [
       "<IPython.core.display.Math object>"
      ]
     },
     "metadata": {},
     "output_type": "display_data"
    },
    {
     "data": {
      "text/latex": [
       "$$-k^{2} + 1757.02654241586 = 898.7240681097695$$"
      ],
      "text/plain": [
       "<IPython.core.display.Math object>"
      ]
     },
     "metadata": {},
     "output_type": "display_data"
    },
    {
     "name": "stdout",
     "output_type": "stream",
     "text": [
      "\n"
     ]
    },
    {
     "data": {
      "text/latex": [
       "$$\\left[k = -\\frac{1}{1050638} \\, \\sqrt{901765195} \\sqrt{1050638}, k = \\frac{1}{1050638} \\, \\sqrt{901765195} \\sqrt{1050638}\\right]$$"
      ],
      "text/plain": [
       "<IPython.core.display.Math object>"
      ]
     },
     "metadata": {},
     "output_type": "display_data"
    },
    {
     "data": {
      "text/latex": [
       "$$\\left[k = -\\frac{1}{1050638} \\, \\sqrt{901765195} \\sqrt{1050638}, k = \\frac{1}{1050638} \\, \\sqrt{901765195} \\sqrt{1050638}\\right]$$"
      ],
      "text/plain": [
       "<IPython.core.display.Math object>"
      ]
     },
     "metadata": {},
     "output_type": "display_data"
    },
    {
     "name": "stdout",
     "output_type": "stream",
     "text": [
      "digit_k = [k == 29.2967997280605]\n"
     ]
    }
   ],
   "source": [
    "digit_k = []\n",
    "for i in range(n_layers - 1):\n",
    "    display(Math(latex(eq_kappa[i])))\n",
    "    display(Math(latex(eq_kappa[i+1])))\n",
    "    print (\"\")\n",
    "    for j in range(min((len(kappa_d[i]), len(kappa_d[i+1])))):\n",
    "        display(Math(latex(kappa[i  ] == kappa_d[i  ][j  ])))\n",
    "        display(Math(latex(kappa[i+1] == kappa_d[i+1][j+1])))\n",
    "        print (\"\")\n",
    "\n",
    "        display(Math(latex(eq_kappa[i  ].subs(kappa[i  ] == kappa_d[i  ][j  ]))))\n",
    "        display(Math(latex(eq_kappa[i+1].subs(kappa[i+1] == kappa_d[i+1][j+1]))))\n",
    "        print (\"\")\n",
    "        \n",
    "        display(Math(latex(eq_kappa[i  ].subs(kappa[i  ] == kappa_d[i  ][j  ]).subs(digit_values))))\n",
    "        display(Math(latex(eq_kappa[i+1].subs(kappa[i+1] == kappa_d[i+1][j+1]).subs(digit_values))))\n",
    "        print (\"\")\n",
    "        \n",
    "        display(Math(latex(solve(eq_kappa[i  ].subs(kappa[i]   == kappa_d[i][j]    ).subs(digit_values), k))))\n",
    "        display(Math(latex(solve(eq_kappa[i+1].subs(kappa[i+1] == kappa_d[i+1][j+1]).subs(digit_values), k))))\n",
    "        \n",
    "    for j in (0,):\n",
    "        digit_k += solve(eq_kappa[i  ].subs(kappa[i  ] == kappa_d[i  ][j  ]).subs(digit_values), k)\n",
    "        digit_k += solve(eq_kappa[i+1].subs(kappa[i+1] == kappa_d[i+1][j+1]).subs(digit_values), k)\n",
    "\n",
    "digit_k = [k == v.rhs().n() for v in digit_k if v.rhs() > 0]\n",
    "digit_k = [digit_k[0]]\n",
    "print (\"digit_k =\", digit_k)"
   ]
  },
  {
   "cell_type": "code",
   "execution_count": 53,
   "metadata": {},
   "outputs": [
    {
     "data": {
      "text/latex": [
       "$$\\mathit{Bz}_{1} = \\frac{{\\left(2 \\, {\\left(\\mathit{Bz}_{0} k^{2} + \\mathit{Bz}_{0} \\kappa_{0}^{2}\\right)} \\kappa_{1} \\cos\\left(a \\kappa_{0}\\right) \\cos\\left(a \\kappa_{1}\\right)^{2} - {\\left(\\mathit{Bz}_{0} k^{2} + \\mathit{Bz}_{0} \\kappa_{0}^{2}\\right)} \\kappa_{1} \\cos\\left(a \\kappa_{0}\\right)\\right)} \\mu_{1}}{{\\left(k^{2} \\kappa_{0} + \\kappa_{0} \\kappa_{1}^{2}\\right)} \\mu_{0} \\cos\\left(a \\kappa_{1}\\right)}$$"
      ],
      "text/plain": [
       "<IPython.core.display.Math object>"
      ]
     },
     "metadata": {},
     "output_type": "display_data"
    }
   ],
   "source": [
    "# граничные условия на гринице диэлектрика и диэлектрика\n",
    "# тангенциальная компонента поля H\n",
    "# eq_Hy_boundary_conditions = []\n",
    "Bz_eqs = []\n",
    "for i in range(n_layers - 1):\n",
    "    # eq_Hy_boundary_conditions += [Hy[i] (a*(i+1)) == Hy[i+1](a*(i+1))]\n",
    "    eq_Hy_bound_cond = eq_Hy_boundary_conditions[i].subs(eqsys_rotH_subs).subs(boundary_subs).full_simplify().expand()\n",
    "    Bz_eqs += solve(eq_Hy_bound_cond, Bz[i+1])\n",
    "    display(Math(latex(Bz_eqs[i])))"
   ]
  },
  {
   "cell_type": "code",
   "execution_count": 54,
   "metadata": {},
   "outputs": [
    {
     "name": "stdout",
     "output_type": "stream",
     "text": [
      "Ex[ 0 ]=\n"
     ]
    },
    {
     "data": {
      "text/latex": [
       "$$\\frac{i \\, \\mathit{Bz}_{0} k \\cos\\left(\\kappa_{0} x\\right)}{\\kappa_{0}}$$"
      ],
      "text/plain": [
       "<IPython.core.display.Math object>"
      ]
     },
     "metadata": {},
     "output_type": "display_data"
    },
    {
     "name": "stdout",
     "output_type": "stream",
     "text": [
      "Ez[ 0 ]=\n"
     ]
    },
    {
     "data": {
      "text/latex": [
       "$$\\mathit{Bz}_{0} \\sin\\left(\\kappa_{0} x\\right)$$"
      ],
      "text/plain": [
       "<IPython.core.display.Math object>"
      ]
     },
     "metadata": {},
     "output_type": "display_data"
    },
    {
     "name": "stdout",
     "output_type": "stream",
     "text": [
      "\n",
      "Ex[ 1 ]=\n"
     ]
    },
    {
     "data": {
      "text/latex": [
       "$$-\\frac{2 i \\, \\mathit{Bz}_{1} k \\cos\\left(a \\kappa_{1}\\right)^{2} \\cos\\left(\\kappa_{1} x\\right)}{2 \\, \\kappa_{1} \\sin\\left(a \\kappa_{1}\\right)^{2} - \\kappa_{1}} - \\frac{2 i \\, \\mathit{Bz}_{1} k \\cos\\left(a \\kappa_{1}\\right) \\sin\\left(a \\kappa_{1}\\right) \\sin\\left(\\kappa_{1} x\\right)}{2 \\, \\kappa_{1} \\sin\\left(a \\kappa_{1}\\right)^{2} - \\kappa_{1}} + \\frac{i \\, \\mathit{Bz}_{1} k \\cos\\left(\\kappa_{1} x\\right)}{2 \\, \\kappa_{1} \\sin\\left(a \\kappa_{1}\\right)^{2} - \\kappa_{1}}$$"
      ],
      "text/plain": [
       "<IPython.core.display.Math object>"
      ]
     },
     "metadata": {},
     "output_type": "display_data"
    },
    {
     "name": "stdout",
     "output_type": "stream",
     "text": [
      "Ez[ 1 ]=\n"
     ]
    },
    {
     "data": {
      "text/latex": [
       "$$\\frac{2 \\, \\mathit{Bz}_{1} \\cos\\left(a \\kappa_{1}\\right) \\cos\\left(\\kappa_{1} x\\right) \\sin\\left(a \\kappa_{1}\\right)}{2 \\, \\sin\\left(a \\kappa_{1}\\right)^{2} - 1} - \\frac{2 \\, \\mathit{Bz}_{1} \\cos\\left(a \\kappa_{1}\\right)^{2} \\sin\\left(\\kappa_{1} x\\right)}{2 \\, \\sin\\left(a \\kappa_{1}\\right)^{2} - 1} + \\frac{\\mathit{Bz}_{1} \\sin\\left(\\kappa_{1} x\\right)}{2 \\, \\sin\\left(a \\kappa_{1}\\right)^{2} - 1}$$"
      ],
      "text/plain": [
       "<IPython.core.display.Math object>"
      ]
     },
     "metadata": {},
     "output_type": "display_data"
    },
    {
     "name": "stdout",
     "output_type": "stream",
     "text": [
      "\n",
      "\n",
      "Ex[ 1 ]=\n"
     ]
    },
    {
     "data": {
      "text/latex": [
       "$$\\frac{2 i \\, \\mathit{Bz}_{0} k^{3} \\mu_{1} \\cos\\left(a \\kappa_{0}\\right) \\cos\\left(a \\kappa_{1}\\right) \\cos\\left(\\kappa_{1} x\\right)}{{\\left(k^{2} \\kappa_{0} + \\kappa_{0} \\kappa_{1}^{2}\\right)} \\mu_{0}} + \\frac{2 i \\, \\mathit{Bz}_{0} k \\kappa_{0}^{2} \\mu_{1} \\cos\\left(a \\kappa_{0}\\right) \\cos\\left(a \\kappa_{1}\\right) \\cos\\left(\\kappa_{1} x\\right)}{{\\left(k^{2} \\kappa_{0} + \\kappa_{0} \\kappa_{1}^{2}\\right)} \\mu_{0}} + \\frac{2 i \\, \\mathit{Bz}_{0} k^{3} \\mu_{1} \\cos\\left(a \\kappa_{0}\\right) \\sin\\left(a \\kappa_{1}\\right) \\sin\\left(\\kappa_{1} x\\right)}{{\\left(k^{2} \\kappa_{0} + \\kappa_{0} \\kappa_{1}^{2}\\right)} \\mu_{0}} + \\frac{2 i \\, \\mathit{Bz}_{0} k \\kappa_{0}^{2} \\mu_{1} \\cos\\left(a \\kappa_{0}\\right) \\sin\\left(a \\kappa_{1}\\right) \\sin\\left(\\kappa_{1} x\\right)}{{\\left(k^{2} \\kappa_{0} + \\kappa_{0} \\kappa_{1}^{2}\\right)} \\mu_{0}} - \\frac{i \\, \\mathit{Bz}_{0} k^{3} \\mu_{1} \\cos\\left(a \\kappa_{0}\\right) \\cos\\left(\\kappa_{1} x\\right)}{{\\left(k^{2} \\kappa_{0} + \\kappa_{0} \\kappa_{1}^{2}\\right)} \\mu_{0} \\cos\\left(a \\kappa_{1}\\right)} - \\frac{i \\, \\mathit{Bz}_{0} k \\kappa_{0}^{2} \\mu_{1} \\cos\\left(a \\kappa_{0}\\right) \\cos\\left(\\kappa_{1} x\\right)}{{\\left(k^{2} \\kappa_{0} + \\kappa_{0} \\kappa_{1}^{2}\\right)} \\mu_{0} \\cos\\left(a \\kappa_{1}\\right)}$$"
      ],
      "text/plain": [
       "<IPython.core.display.Math object>"
      ]
     },
     "metadata": {},
     "output_type": "display_data"
    },
    {
     "name": "stdout",
     "output_type": "stream",
     "text": [
      "Ez[ 1 ]=\n"
     ]
    },
    {
     "data": {
      "text/latex": [
       "$$-\\frac{2 \\, \\mathit{Bz}_{0} k^{2} \\kappa_{1} \\mu_{1} \\cos\\left(a \\kappa_{0}\\right) \\cos\\left(\\kappa_{1} x\\right) \\sin\\left(a \\kappa_{1}\\right)}{{\\left(k^{2} \\kappa_{0} + \\kappa_{0} \\kappa_{1}^{2}\\right)} \\mu_{0}} - \\frac{2 \\, \\mathit{Bz}_{0} \\kappa_{0}^{2} \\kappa_{1} \\mu_{1} \\cos\\left(a \\kappa_{0}\\right) \\cos\\left(\\kappa_{1} x\\right) \\sin\\left(a \\kappa_{1}\\right)}{{\\left(k^{2} \\kappa_{0} + \\kappa_{0} \\kappa_{1}^{2}\\right)} \\mu_{0}} + \\frac{2 \\, \\mathit{Bz}_{0} k^{2} \\kappa_{1} \\mu_{1} \\cos\\left(a \\kappa_{0}\\right) \\cos\\left(a \\kappa_{1}\\right) \\sin\\left(\\kappa_{1} x\\right)}{{\\left(k^{2} \\kappa_{0} + \\kappa_{0} \\kappa_{1}^{2}\\right)} \\mu_{0}} + \\frac{2 \\, \\mathit{Bz}_{0} \\kappa_{0}^{2} \\kappa_{1} \\mu_{1} \\cos\\left(a \\kappa_{0}\\right) \\cos\\left(a \\kappa_{1}\\right) \\sin\\left(\\kappa_{1} x\\right)}{{\\left(k^{2} \\kappa_{0} + \\kappa_{0} \\kappa_{1}^{2}\\right)} \\mu_{0}} - \\frac{\\mathit{Bz}_{0} k^{2} \\kappa_{1} \\mu_{1} \\cos\\left(a \\kappa_{0}\\right) \\sin\\left(\\kappa_{1} x\\right)}{{\\left(k^{2} \\kappa_{0} + \\kappa_{0} \\kappa_{1}^{2}\\right)} \\mu_{0} \\cos\\left(a \\kappa_{1}\\right)} - \\frac{\\mathit{Bz}_{0} \\kappa_{0}^{2} \\kappa_{1} \\mu_{1} \\cos\\left(a \\kappa_{0}\\right) \\sin\\left(\\kappa_{1} x\\right)}{{\\left(k^{2} \\kappa_{0} + \\kappa_{0} \\kappa_{1}^{2}\\right)} \\mu_{0} \\cos\\left(a \\kappa_{1}\\right)}$$"
      ],
      "text/plain": [
       "<IPython.core.display.Math object>"
      ]
     },
     "metadata": {},
     "output_type": "display_data"
    },
    {
     "name": "stdout",
     "output_type": "stream",
     "text": [
      "\n"
     ]
    }
   ],
   "source": [
    "Ex_res = []\n",
    "Ez_res = []\n",
    "for i in range(n_layers):\n",
    "    Ex_res += [ lambda x, i=i : Ex[i](x).subs(eqsys_rotH_subs).subs(boundary_subs).full_simplify().expand()]\n",
    "    Ez_res += [ lambda x, i=i : Ez[i](x).subs(eqsys_rotH_subs).subs(boundary_subs).full_simplify().expand()]\n",
    "\n",
    "for i in range(n_layers):\n",
    "    print (\"Ex[\", i, \"]=\")\n",
    "    display(Math(latex(Ex_res[i](x))))\n",
    "    print (\"Ez[\", i, \"]=\")\n",
    "    display(Math(latex(Ez_res[i](x))))\n",
    "    print(\"\")\n",
    "    \n",
    "for i in range(n_layers):\n",
    "    if i > 0:\n",
    "        print (\"Ex[\", i, \"]=\")\n",
    "        display(Math(latex(Ex_res[i](x).subs(Bz_eqs[i-1]).full_simplify().expand())))\n",
    "        print (\"Ez[\", i, \"]=\")\n",
    "        display(Math(latex(Ez_res[i](x).subs(Bz_eqs[i-1]).full_simplify().expand())))\n",
    "    print(\"\")"
   ]
  },
  {
   "cell_type": "code",
   "execution_count": 55,
   "metadata": {},
   "outputs": [
    {
     "name": "stdout",
     "output_type": "stream",
     "text": [
      "Hy[ 0 ]=\n"
     ]
    },
    {
     "data": {
      "text/latex": [
       "$$\\frac{{\\left(i \\, \\mathit{Bz}_{0} c k^{2} + i \\, \\mathit{Bz}_{0} c \\kappa_{0}^{2}\\right)} \\cos\\left(\\kappa_{0} x\\right)}{\\kappa_{0} \\mu_{0} \\omega}$$"
      ],
      "text/plain": [
       "<IPython.core.display.Math object>"
      ]
     },
     "metadata": {},
     "output_type": "display_data"
    },
    {
     "name": "stdout",
     "output_type": "stream",
     "text": [
      "\n",
      "Hy[ 1 ]=\n"
     ]
    },
    {
     "data": {
      "text/latex": [
       "$$\\frac{{\\left({\\left(4 i \\, \\mathit{Bz}_{1} c k^{2} + 4 i \\, \\mathit{Bz}_{1} c \\kappa_{1}^{2}\\right)} \\cos\\left(a \\kappa_{1}\\right)^{3} + {\\left(-2 i \\, \\mathit{Bz}_{1} c k^{2} - 2 i \\, \\mathit{Bz}_{1} c \\kappa_{1}^{2}\\right)} \\cos\\left(a \\kappa_{1}\\right)\\right)} \\sin\\left(a \\kappa_{1}\\right) \\sin\\left(\\kappa_{1} x\\right) + {\\left({\\left(4 i \\, \\mathit{Bz}_{1} c k^{2} + 4 i \\, \\mathit{Bz}_{1} c \\kappa_{1}^{2}\\right)} \\cos\\left(a \\kappa_{1}\\right)^{4} + i \\, \\mathit{Bz}_{1} c k^{2} + i \\, \\mathit{Bz}_{1} c \\kappa_{1}^{2} + {\\left(-4 i \\, \\mathit{Bz}_{1} c k^{2} - 4 i \\, \\mathit{Bz}_{1} c \\kappa_{1}^{2}\\right)} \\cos\\left(a \\kappa_{1}\\right)^{2}\\right)} \\cos\\left(\\kappa_{1} x\\right)}{{\\left(4 \\, \\kappa_{1} \\sin\\left(a \\kappa_{1}\\right)^{4} - 4 \\, \\kappa_{1} \\sin\\left(a \\kappa_{1}\\right)^{2} + \\kappa_{1}\\right)} \\mu_{1} \\omega}$$"
      ],
      "text/plain": [
       "<IPython.core.display.Math object>"
      ]
     },
     "metadata": {},
     "output_type": "display_data"
    },
    {
     "name": "stdout",
     "output_type": "stream",
     "text": [
      "Hy[ 1 ]=\n"
     ]
    },
    {
     "data": {
      "text/latex": [
       "$$\\frac{2 i \\, \\mathit{Bz}_{0} c k^{2} \\cos\\left(a \\kappa_{0}\\right) \\cos\\left(a \\kappa_{1}\\right) \\cos\\left(\\kappa_{1} x\\right)}{\\kappa_{0} \\mu_{0} \\omega} + \\frac{2 i \\, \\mathit{Bz}_{0} c \\kappa_{0} \\cos\\left(a \\kappa_{0}\\right) \\cos\\left(a \\kappa_{1}\\right) \\cos\\left(\\kappa_{1} x\\right)}{\\mu_{0} \\omega} + \\frac{2 i \\, \\mathit{Bz}_{0} c k^{2} \\cos\\left(a \\kappa_{0}\\right) \\sin\\left(a \\kappa_{1}\\right) \\sin\\left(\\kappa_{1} x\\right)}{\\kappa_{0} \\mu_{0} \\omega} + \\frac{2 i \\, \\mathit{Bz}_{0} c \\kappa_{0} \\cos\\left(a \\kappa_{0}\\right) \\sin\\left(a \\kappa_{1}\\right) \\sin\\left(\\kappa_{1} x\\right)}{\\mu_{0} \\omega} - \\frac{i \\, \\mathit{Bz}_{0} c k^{2} \\cos\\left(a \\kappa_{0}\\right) \\cos\\left(\\kappa_{1} x\\right)}{\\kappa_{0} \\mu_{0} \\omega \\cos\\left(a \\kappa_{1}\\right)} - \\frac{i \\, \\mathit{Bz}_{0} c \\kappa_{0} \\cos\\left(a \\kappa_{0}\\right) \\cos\\left(\\kappa_{1} x\\right)}{\\mu_{0} \\omega \\cos\\left(a \\kappa_{1}\\right)}$$"
      ],
      "text/plain": [
       "<IPython.core.display.Math object>"
      ]
     },
     "metadata": {},
     "output_type": "display_data"
    },
    {
     "name": "stdout",
     "output_type": "stream",
     "text": [
      "\n"
     ]
    }
   ],
   "source": [
    "Hy_res = []\n",
    "for i in range(n_layers):\n",
    "    Hy_res  += [lambda x, i=i : Hy[i](x).subs(eqsys_rotH_subs).subs(boundary_subs).full_simplify()]\n",
    "    print (\"Hy[\", i, \"]=\")\n",
    "    display(Math(latex(Hy_res[i](x))))\n",
    "    if i > 0:\n",
    "        print (\"Hy[\", i, \"]=\")\n",
    "        display(Math(latex(Hy_res[i](x).subs(Bz_eqs[i-1]).full_simplify().expand())))\n",
    "\n",
    "    print(\"\")"
   ]
  },
  {
   "cell_type": "code",
   "execution_count": 56,
   "metadata": {},
   "outputs": [
    {
     "name": "stdout",
     "output_type": "stream",
     "text": [
      "Ex[ 0 ]=\n"
     ]
    },
    {
     "ename": "ValueError",
     "evalue": "duplicate substitution for kappa_0, got values 4.495641989954285 and 4.49564198995433",
     "output_type": "error",
     "traceback": [
      "\u001b[0;31m---------------------------------------------------------------------------\u001b[0m",
      "\u001b[0;31mValueError\u001b[0m                                Traceback (most recent call last)",
      "\u001b[0;32m<ipython-input-56-f3b91784bda4>\u001b[0m in \u001b[0;36m<module>\u001b[0;34m()\u001b[0m\n\u001b[1;32m     14\u001b[0m \u001b[0;32mfor\u001b[0m \u001b[0mi\u001b[0m \u001b[0;32min\u001b[0m \u001b[0mrange\u001b[0m\u001b[0;34m(\u001b[0m\u001b[0mn_layers\u001b[0m\u001b[0;34m)\u001b[0m\u001b[0;34m:\u001b[0m\u001b[0;34m\u001b[0m\u001b[0;34m\u001b[0m\u001b[0m\n\u001b[1;32m     15\u001b[0m     \u001b[0mprint\u001b[0m \u001b[0;34m(\u001b[0m\u001b[0;34m\"Ex[\"\u001b[0m\u001b[0;34m,\u001b[0m \u001b[0mi\u001b[0m\u001b[0;34m,\u001b[0m \u001b[0;34m\"]=\"\u001b[0m\u001b[0;34m)\u001b[0m\u001b[0;34m\u001b[0m\u001b[0;34m\u001b[0m\u001b[0m\n\u001b[0;32m---> 16\u001b[0;31m     \u001b[0mdisplay\u001b[0m\u001b[0;34m(\u001b[0m\u001b[0mMath\u001b[0m\u001b[0;34m(\u001b[0m\u001b[0mlatex\u001b[0m\u001b[0;34m(\u001b[0m\u001b[0mEx_d\u001b[0m\u001b[0;34m[\u001b[0m\u001b[0mi\u001b[0m\u001b[0;34m]\u001b[0m\u001b[0;34m(\u001b[0m\u001b[0mx\u001b[0m\u001b[0;34m)\u001b[0m\u001b[0;34m)\u001b[0m\u001b[0;34m)\u001b[0m\u001b[0;34m)\u001b[0m\u001b[0;34m\u001b[0m\u001b[0;34m\u001b[0m\u001b[0m\n\u001b[0m\u001b[1;32m     17\u001b[0m     \u001b[0mprint\u001b[0m \u001b[0;34m(\u001b[0m\u001b[0;34m\"Ez[\"\u001b[0m\u001b[0;34m,\u001b[0m \u001b[0mi\u001b[0m\u001b[0;34m,\u001b[0m \u001b[0;34m\"]=\"\u001b[0m\u001b[0;34m)\u001b[0m\u001b[0;34m\u001b[0m\u001b[0;34m\u001b[0m\u001b[0m\n\u001b[1;32m     18\u001b[0m     \u001b[0mdisplay\u001b[0m\u001b[0;34m(\u001b[0m\u001b[0mMath\u001b[0m\u001b[0;34m(\u001b[0m\u001b[0mlatex\u001b[0m\u001b[0;34m(\u001b[0m\u001b[0mEz_d\u001b[0m\u001b[0;34m[\u001b[0m\u001b[0mi\u001b[0m\u001b[0;34m]\u001b[0m\u001b[0;34m(\u001b[0m\u001b[0mx\u001b[0m\u001b[0;34m)\u001b[0m\u001b[0;34m)\u001b[0m\u001b[0;34m)\u001b[0m\u001b[0;34m)\u001b[0m\u001b[0;34m\u001b[0m\u001b[0;34m\u001b[0m\u001b[0m\n",
      "\u001b[0;32m<ipython-input-56-f3b91784bda4>\u001b[0m in \u001b[0;36m<lambda>\u001b[0;34m(x, i)\u001b[0m\n\u001b[1;32m      8\u001b[0m         \u001b[0mHy_d\u001b[0m \u001b[0;34m+=\u001b[0m \u001b[0;34m[\u001b[0m \u001b[0;32mlambda\u001b[0m \u001b[0mx\u001b[0m\u001b[0;34m,\u001b[0m \u001b[0mi\u001b[0m\u001b[0;34m=\u001b[0m\u001b[0mi\u001b[0m \u001b[0;34m:\u001b[0m \u001b[0mHy_res\u001b[0m\u001b[0;34m[\u001b[0m\u001b[0mi\u001b[0m\u001b[0;34m]\u001b[0m\u001b[0;34m(\u001b[0m\u001b[0mx\u001b[0m\u001b[0;34m)\u001b[0m\u001b[0;34m.\u001b[0m\u001b[0msubs\u001b[0m\u001b[0;34m(\u001b[0m\u001b[0mBz_eqs\u001b[0m\u001b[0;34m[\u001b[0m\u001b[0mi\u001b[0m\u001b[0;34m-\u001b[0m\u001b[0mInteger\u001b[0m\u001b[0;34m(\u001b[0m\u001b[0;36m1\u001b[0m\u001b[0;34m)\u001b[0m\u001b[0;34m]\u001b[0m\u001b[0;34m)\u001b[0m\u001b[0;34m.\u001b[0m\u001b[0msubs\u001b[0m\u001b[0;34m(\u001b[0m\u001b[0mdigit_values\u001b[0m\u001b[0;34m)\u001b[0m\u001b[0;34m.\u001b[0m\u001b[0msubs\u001b[0m\u001b[0;34m(\u001b[0m\u001b[0ma\u001b[0m\u001b[0;34m==\u001b[0m\u001b[0mA\u001b[0m\u001b[0;34m,\u001b[0m\u001b[0mBz_0\u001b[0m\u001b[0;34m==\u001b[0m\u001b[0mInteger\u001b[0m\u001b[0;34m(\u001b[0m\u001b[0;36m1\u001b[0m\u001b[0;34m)\u001b[0m\u001b[0;34m)\u001b[0m\u001b[0;34m.\u001b[0m\u001b[0msubs\u001b[0m\u001b[0;34m(\u001b[0m\u001b[0mdigit_kappas\u001b[0m\u001b[0;34m)\u001b[0m\u001b[0;34m.\u001b[0m\u001b[0msubs\u001b[0m\u001b[0;34m(\u001b[0m\u001b[0mdigit_k\u001b[0m\u001b[0;34m)\u001b[0m\u001b[0;34m]\u001b[0m\u001b[0;34m\u001b[0m\u001b[0;34m\u001b[0m\u001b[0m\n\u001b[1;32m      9\u001b[0m     \u001b[0;32melse\u001b[0m\u001b[0;34m:\u001b[0m\u001b[0;34m\u001b[0m\u001b[0;34m\u001b[0m\u001b[0m\n\u001b[0;32m---> 10\u001b[0;31m         \u001b[0mEx_d\u001b[0m \u001b[0;34m+=\u001b[0m \u001b[0;34m[\u001b[0m \u001b[0;32mlambda\u001b[0m \u001b[0mx\u001b[0m\u001b[0;34m,\u001b[0m \u001b[0mi\u001b[0m\u001b[0;34m=\u001b[0m\u001b[0mi\u001b[0m \u001b[0;34m:\u001b[0m \u001b[0mEx_res\u001b[0m\u001b[0;34m[\u001b[0m\u001b[0mi\u001b[0m\u001b[0;34m]\u001b[0m\u001b[0;34m(\u001b[0m\u001b[0mx\u001b[0m\u001b[0;34m)\u001b[0m\u001b[0;34m.\u001b[0m\u001b[0msubs\u001b[0m\u001b[0;34m(\u001b[0m\u001b[0mdigit_values\u001b[0m\u001b[0;34m)\u001b[0m\u001b[0;34m.\u001b[0m\u001b[0msubs\u001b[0m\u001b[0;34m(\u001b[0m\u001b[0ma\u001b[0m\u001b[0;34m==\u001b[0m\u001b[0mA\u001b[0m\u001b[0;34m,\u001b[0m\u001b[0mBz_0\u001b[0m\u001b[0;34m==\u001b[0m\u001b[0mInteger\u001b[0m\u001b[0;34m(\u001b[0m\u001b[0;36m1\u001b[0m\u001b[0;34m)\u001b[0m\u001b[0;34m)\u001b[0m\u001b[0;34m.\u001b[0m\u001b[0msubs\u001b[0m\u001b[0;34m(\u001b[0m\u001b[0mdigit_kappas\u001b[0m\u001b[0;34m)\u001b[0m\u001b[0;34m.\u001b[0m\u001b[0msubs\u001b[0m\u001b[0;34m(\u001b[0m\u001b[0mdigit_k\u001b[0m\u001b[0;34m)\u001b[0m\u001b[0;34m]\u001b[0m\u001b[0;34m\u001b[0m\u001b[0;34m\u001b[0m\u001b[0m\n\u001b[0m\u001b[1;32m     11\u001b[0m         \u001b[0mEz_d\u001b[0m \u001b[0;34m+=\u001b[0m \u001b[0;34m[\u001b[0m \u001b[0;32mlambda\u001b[0m \u001b[0mx\u001b[0m\u001b[0;34m,\u001b[0m \u001b[0mi\u001b[0m\u001b[0;34m=\u001b[0m\u001b[0mi\u001b[0m \u001b[0;34m:\u001b[0m \u001b[0mEz_res\u001b[0m\u001b[0;34m[\u001b[0m\u001b[0mi\u001b[0m\u001b[0;34m]\u001b[0m\u001b[0;34m(\u001b[0m\u001b[0mx\u001b[0m\u001b[0;34m)\u001b[0m\u001b[0;34m.\u001b[0m\u001b[0msubs\u001b[0m\u001b[0;34m(\u001b[0m\u001b[0mdigit_values\u001b[0m\u001b[0;34m)\u001b[0m\u001b[0;34m.\u001b[0m\u001b[0msubs\u001b[0m\u001b[0;34m(\u001b[0m\u001b[0ma\u001b[0m\u001b[0;34m==\u001b[0m\u001b[0mA\u001b[0m\u001b[0;34m,\u001b[0m\u001b[0mBz_0\u001b[0m\u001b[0;34m==\u001b[0m\u001b[0mInteger\u001b[0m\u001b[0;34m(\u001b[0m\u001b[0;36m1\u001b[0m\u001b[0;34m)\u001b[0m\u001b[0;34m)\u001b[0m\u001b[0;34m.\u001b[0m\u001b[0msubs\u001b[0m\u001b[0;34m(\u001b[0m\u001b[0mdigit_kappas\u001b[0m\u001b[0;34m)\u001b[0m\u001b[0;34m.\u001b[0m\u001b[0msubs\u001b[0m\u001b[0;34m(\u001b[0m\u001b[0mdigit_k\u001b[0m\u001b[0;34m)\u001b[0m\u001b[0;34m]\u001b[0m\u001b[0;34m\u001b[0m\u001b[0;34m\u001b[0m\u001b[0m\n\u001b[1;32m     12\u001b[0m         \u001b[0mHy_d\u001b[0m \u001b[0;34m+=\u001b[0m \u001b[0;34m[\u001b[0m \u001b[0;32mlambda\u001b[0m \u001b[0mx\u001b[0m\u001b[0;34m,\u001b[0m \u001b[0mi\u001b[0m\u001b[0;34m=\u001b[0m\u001b[0mi\u001b[0m \u001b[0;34m:\u001b[0m \u001b[0mHy_res\u001b[0m\u001b[0;34m[\u001b[0m\u001b[0mi\u001b[0m\u001b[0;34m]\u001b[0m\u001b[0;34m(\u001b[0m\u001b[0mx\u001b[0m\u001b[0;34m)\u001b[0m\u001b[0;34m.\u001b[0m\u001b[0msubs\u001b[0m\u001b[0;34m(\u001b[0m\u001b[0mdigit_values\u001b[0m\u001b[0;34m)\u001b[0m\u001b[0;34m.\u001b[0m\u001b[0msubs\u001b[0m\u001b[0;34m(\u001b[0m\u001b[0ma\u001b[0m\u001b[0;34m==\u001b[0m\u001b[0mA\u001b[0m\u001b[0;34m,\u001b[0m\u001b[0mBz_0\u001b[0m\u001b[0;34m==\u001b[0m\u001b[0mInteger\u001b[0m\u001b[0;34m(\u001b[0m\u001b[0;36m1\u001b[0m\u001b[0;34m)\u001b[0m\u001b[0;34m)\u001b[0m\u001b[0;34m.\u001b[0m\u001b[0msubs\u001b[0m\u001b[0;34m(\u001b[0m\u001b[0mdigit_kappas\u001b[0m\u001b[0;34m)\u001b[0m\u001b[0;34m.\u001b[0m\u001b[0msubs\u001b[0m\u001b[0;34m(\u001b[0m\u001b[0mdigit_k\u001b[0m\u001b[0;34m)\u001b[0m\u001b[0;34m]\u001b[0m\u001b[0;34m\u001b[0m\u001b[0;34m\u001b[0m\u001b[0m\n",
      "\u001b[0;32m/opt/sagemath-9.0/local/lib/python3.7/site-packages/sage/symbolic/expression.pyx\u001b[0m in \u001b[0;36msage.symbolic.expression.Expression.substitute (build/cythonized/sage/symbolic/expression.cpp:30471)\u001b[0;34m()\u001b[0m\n\u001b[1;32m   5321\u001b[0m             \u001b[0;31m# (see ticket #12834)\u001b[0m\u001b[0;34m\u001b[0m\u001b[0;34m\u001b[0m\u001b[0;34m\u001b[0m\u001b[0m\n\u001b[1;32m   5322\u001b[0m             \u001b[0margs\u001b[0m \u001b[0;34m=\u001b[0m \u001b[0margs\u001b[0m\u001b[0;34m[\u001b[0m\u001b[0;36m1\u001b[0m\u001b[0;34m:\u001b[0m\u001b[0;34m]\u001b[0m\u001b[0;34m\u001b[0m\u001b[0;34m\u001b[0m\u001b[0m\n\u001b[0;32m-> 5323\u001b[0;31m \u001b[0;34m\u001b[0m\u001b[0m\n\u001b[0m\u001b[1;32m   5324\u001b[0m         \u001b[0;32mfor\u001b[0m \u001b[0ma\u001b[0m \u001b[0;32min\u001b[0m \u001b[0margs\u001b[0m\u001b[0;34m:\u001b[0m\u001b[0;34m\u001b[0m\u001b[0;34m\u001b[0m\u001b[0m\n\u001b[1;32m   5325\u001b[0m             \u001b[0m_dict_update_check_duplicate\u001b[0m\u001b[0;34m(\u001b[0m\u001b[0msdict\u001b[0m\u001b[0;34m,\u001b[0m \u001b[0m_subs_make_dict\u001b[0m\u001b[0;34m(\u001b[0m\u001b[0ma\u001b[0m\u001b[0;34m)\u001b[0m\u001b[0;34m)\u001b[0m\u001b[0;34m\u001b[0m\u001b[0;34m\u001b[0m\u001b[0m\n",
      "\u001b[0;32m/opt/sagemath-9.0/local/lib/python3.7/site-packages/sage/symbolic/expression.pyx\u001b[0m in \u001b[0;36msage.symbolic.expression._subs_make_dict (build/cythonized/sage/symbolic/expression.cpp:5694)\u001b[0;34m()\u001b[0m\n\u001b[1;32m    363\u001b[0m         \u001b[0mresult\u001b[0m \u001b[0;34m=\u001b[0m \u001b[0;34m{\u001b[0m\u001b[0;34m}\u001b[0m\u001b[0;34m\u001b[0m\u001b[0;34m\u001b[0m\u001b[0m\n\u001b[1;32m    364\u001b[0m         \u001b[0;32mfor\u001b[0m \u001b[0md\u001b[0m \u001b[0;32min\u001b[0m \u001b[0ms\u001b[0m\u001b[0;34m:\u001b[0m\u001b[0;34m\u001b[0m\u001b[0;34m\u001b[0m\u001b[0m\n\u001b[0;32m--> 365\u001b[0;31m             \u001b[0m_dict_update_check_duplicate\u001b[0m\u001b[0;34m(\u001b[0m\u001b[0mresult\u001b[0m\u001b[0;34m,\u001b[0m \u001b[0m_subs_make_dict\u001b[0m\u001b[0;34m(\u001b[0m\u001b[0md\u001b[0m\u001b[0;34m)\u001b[0m\u001b[0;34m)\u001b[0m\u001b[0;34m\u001b[0m\u001b[0;34m\u001b[0m\u001b[0m\n\u001b[0m\u001b[1;32m    366\u001b[0m         \u001b[0;32mreturn\u001b[0m \u001b[0mresult\u001b[0m\u001b[0;34m\u001b[0m\u001b[0;34m\u001b[0m\u001b[0m\n\u001b[1;32m    367\u001b[0m     \u001b[0;32melse\u001b[0m\u001b[0;34m:\u001b[0m\u001b[0;34m\u001b[0m\u001b[0;34m\u001b[0m\u001b[0m\n",
      "\u001b[0;32m/opt/sagemath-9.0/local/lib/python3.7/site-packages/sage/symbolic/expression.pyx\u001b[0m in \u001b[0;36msage.symbolic.expression._dict_update_check_duplicate (build/cythonized/sage/symbolic/expression.cpp:5253)\u001b[0;34m()\u001b[0m\n\u001b[1;32m    289\u001b[0m         \u001b[0;32mif\u001b[0m \u001b[0mk\u001b[0m \u001b[0;32min\u001b[0m \u001b[0md1\u001b[0m\u001b[0;34m:\u001b[0m\u001b[0;34m\u001b[0m\u001b[0;34m\u001b[0m\u001b[0m\n\u001b[1;32m    290\u001b[0m             \u001b[0mmsg\u001b[0m \u001b[0;34m=\u001b[0m \u001b[0;34m\"duplicate substitution for {}, got values {} and {}\"\u001b[0m\u001b[0;34m\u001b[0m\u001b[0;34m\u001b[0m\u001b[0m\n\u001b[0;32m--> 291\u001b[0;31m             \u001b[0;32mraise\u001b[0m \u001b[0mValueError\u001b[0m\u001b[0;34m(\u001b[0m\u001b[0mmsg\u001b[0m\u001b[0;34m.\u001b[0m\u001b[0mformat\u001b[0m\u001b[0;34m(\u001b[0m\u001b[0mk\u001b[0m\u001b[0;34m,\u001b[0m \u001b[0md1\u001b[0m\u001b[0;34m[\u001b[0m\u001b[0mk\u001b[0m\u001b[0;34m]\u001b[0m\u001b[0;34m,\u001b[0m \u001b[0md2\u001b[0m\u001b[0;34m[\u001b[0m\u001b[0mk\u001b[0m\u001b[0;34m]\u001b[0m\u001b[0;34m)\u001b[0m\u001b[0;34m)\u001b[0m\u001b[0;34m\u001b[0m\u001b[0;34m\u001b[0m\u001b[0m\n\u001b[0m\u001b[1;32m    292\u001b[0m \u001b[0;34m\u001b[0m\u001b[0m\n\u001b[1;32m    293\u001b[0m     \u001b[0md1\u001b[0m\u001b[0;34m.\u001b[0m\u001b[0mupdate\u001b[0m\u001b[0;34m(\u001b[0m\u001b[0md2\u001b[0m\u001b[0;34m)\u001b[0m\u001b[0;34m\u001b[0m\u001b[0;34m\u001b[0m\u001b[0m\n",
      "\u001b[0;31mValueError\u001b[0m: duplicate substitution for kappa_0, got values 4.495641989954285 and 4.49564198995433"
     ]
    }
   ],
   "source": [
    "Ex_d = []\n",
    "Ez_d = []\n",
    "Hy_d = []\n",
    "for i in range(n_layers):\n",
    "    if i > 0:\n",
    "        Ex_d += [ lambda x, i=i : Ex_res[i](x).subs(Bz_eqs[i-1]).subs(digit_values).subs(a==A,Bz_0==1).subs(digit_kappas).subs(digit_k)]\n",
    "        Ez_d += [ lambda x, i=i : Ez_res[i](x).subs(Bz_eqs[i-1]).subs(digit_values).subs(a==A,Bz_0==1).subs(digit_kappas).subs(digit_k)]\n",
    "        Hy_d += [ lambda x, i=i : Hy_res[i](x).subs(Bz_eqs[i-1]).subs(digit_values).subs(a==A,Bz_0==1).subs(digit_kappas).subs(digit_k)]\n",
    "    else:\n",
    "        Ex_d += [ lambda x, i=i : Ex_res[i](x).subs(digit_values).subs(a==A,Bz_0==1).subs(digit_kappas).subs(digit_k)]\n",
    "        Ez_d += [ lambda x, i=i : Ez_res[i](x).subs(digit_values).subs(a==A,Bz_0==1).subs(digit_kappas).subs(digit_k)]\n",
    "        Hy_d += [ lambda x, i=i : Hy_res[i](x).subs(digit_values).subs(a==A,Bz_0==1).subs(digit_kappas).subs(digit_k)]\n",
    "        \n",
    "for i in range(n_layers):\n",
    "    print (\"Ex[\", i, \"]=\")\n",
    "    display(Math(latex(Ex_d[i](x))))\n",
    "    print (\"Ez[\", i, \"]=\")\n",
    "    display(Math(latex(Ez_d[i](x))))\n",
    "    print (\"Hy[\", i, \"]=\")\n",
    "    display(Math(latex(Hy_d[i](x))))\n",
    "    print(\"\")"
   ]
  },
  {
   "cell_type": "code",
   "execution_count": null,
   "metadata": {},
   "outputs": [],
   "source": [
    "p = sage.plot.graphics.Graphics()\n",
    "for i in range(n_layers):\n",
    "    p += plot(Ez_d[i] (x), (x, i*A, (i+1)*A))\n",
    "\n",
    "p.show()"
   ]
  },
  {
   "cell_type": "code",
   "execution_count": null,
   "metadata": {},
   "outputs": [],
   "source": [
    "p = sage.plot.graphics.Graphics()\n",
    "for i in range(n_layers):\n",
    "    p += plot(Ex_d[i] (x).imag(), (x, i*A, (i+1)*A))\n",
    "\n",
    "p.show()"
   ]
  },
  {
   "cell_type": "code",
   "execution_count": null,
   "metadata": {},
   "outputs": [],
   "source": [
    "p = sage.plot.graphics.Graphics()\n",
    "for i in range(n_layers):\n",
    "    p += plot(epsilon[i].subs(digit_values) * (Ex_d[i] (x).imag()), (x, i*A, (i+1)*A))\n",
    "\n",
    "p.show()"
   ]
  },
  {
   "cell_type": "code",
   "execution_count": null,
   "metadata": {},
   "outputs": [],
   "source": [
    "p = sage.plot.graphics.Graphics()\n",
    "for i in range(n_layers):\n",
    "    p += plot(Hy_d[i] (x).imag(), (x, i*A, (i+1)*A))\n",
    "\n",
    "p.show()"
   ]
  },
  {
   "cell_type": "markdown",
   "metadata": {},
   "source": [
    "Решение получено.\n",
    "\n",
    "Теперь посчитаем:\n",
    "\n",
    "1) силу Абрагама, приложенную к диэлектрику\n",
    "\n",
    "2) пондемоторную силу, приложенную к идеальному проводнику"
   ]
  },
  {
   "cell_type": "code",
   "execution_count": null,
   "metadata": {},
   "outputs": [],
   "source": [
    "# Abraham force\n",
    "# (epsilon * mu - 1) / (4 * pi * c) * ([E x H]).diff(t)\n",
    "# (epsilon * mu - 1) / (4 * pi * c) * ([E.diff(t) x H] + [E x H.diff(t)])\n",
    "# ([a x b])_x = a_y * b_z - a_z * b_y\n",
    "# f_x = (epsilon * mu - 1) / (4 * pi * c) * (-E_z.diff(t) * H_y - E_z * H_y.diff(t))\n",
    "# E_z.diff(t) = -I * omega * E_z\n",
    "# H_y.diff(t) = -I * omega * H_y\n",
    "# f_x = (epsilon * mu - 1) / (4 * pi * c) * (E_z * H_y + E_z * H_y) * I * omega\n",
    "# f_x = (epsilon * mu - 1) / (2 * pi * c) * (E_z * H_y) * I * omega\n",
    "\n",
    "Abraham_f_x = []\n",
    "Abraham_f_x_d = []\n",
    "for i in range(n_layers):\n",
    "    Abraham_f_x   += [ lambda x, i=i : ((epsilon[i] * mu[i] - 1) / (2 * pi * c) * (Ez_res[i] (x) * Hy_res[i] (x)) * I * omega).full_simplify()]\n",
    "    Abraham_f_x_d += [ lambda x, i=i : ((epsilon[i] * mu[i] - 1) / (2 * pi * c) * (Ez_d[i] (x) * Hy_d[i] (x)) * I * omega).subs(digit_values) ]\n",
    "    \n",
    "    print(\"Abraham_f_x =\")\n",
    "    display(Math(latex(Abraham_f_x[i](x))))\n",
    "    display(Math(latex(Abraham_f_x_d[i](x))))"
   ]
  },
  {
   "cell_type": "code",
   "execution_count": null,
   "metadata": {},
   "outputs": [],
   "source": [
    "p = sage.plot.graphics.Graphics()\n",
    "for i in range(n_layers):\n",
    "    p += plot(Abraham_f_x_d[i] (x), (x, i*A, (i+1)*A))\n",
    "\n",
    "p.show()"
   ]
  },
  {
   "cell_type": "code",
   "execution_count": null,
   "metadata": {},
   "outputs": [],
   "source": [
    "Abraham_F_x = 0\n",
    "for i in range(n_layers):\n",
    "    Abraham_F_x_i = integrate(Abraham_f_x_d[i] (x), (x, i*A, (i+1)*A))\n",
    "    print(\"Abraham_F_x[\", i, \"]=\", Abraham_F_x_i)\n",
    "    Abraham_F_x += Abraham_F_x_i\n",
    "print(\"Abraham_F_x =\", Abraham_F_x)"
   ]
  },
  {
   "cell_type": "code",
   "execution_count": null,
   "metadata": {},
   "outputs": [],
   "source": [
    "print(Hy_d[0] (0))"
   ]
  },
  {
   "cell_type": "code",
   "execution_count": null,
   "metadata": {},
   "outputs": [],
   "source": [
    "print(Hy_d[n_layers-1] (n_layers * A))"
   ]
  },
  {
   "cell_type": "code",
   "execution_count": null,
   "metadata": {},
   "outputs": [],
   "source": [
    "# superconductor force\n",
    "f_superconductor_down = - abs(((Hy_d[0] (0))^2) / (8* pi))\n",
    "f_superconductor_up   = + abs(((Hy_d[n_layers-1] (n_layers * A))^2) / (8* pi))\n",
    "f_superconductor = f_superconductor_down + f_superconductor_up\n",
    "print(\"f_superconductor_down =\", f_superconductor_down)\n",
    "print(\"f_superconductor_up =\", f_superconductor_up)\n",
    "print(\"f_superconductor =\", f_superconductor)"
   ]
  },
  {
   "cell_type": "code",
   "execution_count": null,
   "metadata": {},
   "outputs": [],
   "source": [
    "f_sum = Abraham_F_x + f_superconductor\n",
    "print(\"f_sum =\", f_sum)"
   ]
  },
  {
   "cell_type": "code",
   "execution_count": null,
   "metadata": {},
   "outputs": [],
   "source": []
  }
 ],
 "metadata": {
  "kernelspec": {
   "display_name": "SageMath 9.0",
   "language": "sage",
   "name": "sagemath"
  },
  "language_info": {
   "codemirror_mode": {
    "name": "ipython",
    "version": 3
   },
   "file_extension": ".py",
   "mimetype": "text/x-python",
   "name": "python",
   "nbconvert_exporter": "python",
   "pygments_lexer": "ipython3",
   "version": "3.7.3"
  }
 },
 "nbformat": 4,
 "nbformat_minor": 2
}
