{
 "cells": [
  {
   "cell_type": "code",
   "execution_count": 24,
   "metadata": {},
   "outputs": [],
   "source": [
    "from IPython.display import display, Math, Latex\n",
    "\n",
    "def disp(ex):\n",
    "    display(Math(latex(ex)))\n",
    "\n",
    "def displ(tex):\n",
    "    display(Math(tex))"
   ]
  },
  {
   "cell_type": "code",
   "execution_count": 25,
   "metadata": {},
   "outputs": [],
   "source": [
    "# расмотрим модель заряженной частицы имеющей сферическую симметрию распределения заряда с плотностью rho_q(r)\n",
    "# задача : найти коэффициент самоиндукции такой частицы L\n",
    "# 1/(J^2)*integral(integral(vector_j*vector_j/R, dV), dV)\n",
    "# предположение : величина 1/c^2 * L * J^2 / 2 представляет собой кинетическую энергию частицы\n",
    "# обоснование 1/c^2 * L * J^2 / 2 - энергия магнитного поля, которая равна кинетической энергии (по Николаеву)\n",
    "# поскольку vector_j = rho_q(r) * vector_v, интеграл\n",
    "# vector_v*vector_v * integral(rho_q(ra) * integral(rho_q(rq)/R, dVq), dVa)\n",
    "# по своей форме очень напоминает выражение для кинетической энергии в случае малых скоростей\n",
    "# m * v^2 / 2 = 1/c^2 * v * v * integral(integral(rho_q(ra)*rho_q(rq)/R, dVq), dVa) / 2\n",
    "# в котором роль инертной массы играет\n",
    "# m = 1/c^2 * integral(rho_q(ra) * integral(rho_q(rq)/R, dVq), dVa)\n",
    "# таким образом отыскав выражение этого интеграла мы можем получить зависимость инертной массы частицы\n",
    "# от объёмного распределения ее электрического заряда\n",
    "\n",
    "# для случая больших скоростей в знаменателе нужно использовать радиус Лиенара Вихерта\n",
    "# R_lw = R - vector_v / c * vector_R\n",
    "\n",
    "# будем производить вычисления в сферической системе координат, расположенной таким образом,\n",
    "# что вектор скорости частицы сонаправлен вектору z сферической системы координат\n",
    "\n",
    "# следуя Тамму, обозначим индексом q координату заряда а индексом a координату точки наблюдения\n",
    "# vector_R направлен от q к a\n",
    "# vector_v / c * vector_R = v / c * vector_ort_z * vector_R = v / c * Rz = v / c * (za - zq)\n",
    "\n",
    "# радиальная координната заряда\n",
    "# rq = var(\"rq\")\n",
    "# радиальная координата точки наблюдения\n",
    "# ra = var(\"ra\")\n",
    "\n",
    "# assume(rq>0)\n",
    "# assume(ra>0)\n",
    "\n",
    "# азимутальная координата заряда\n",
    "# phi_q = var(\"theta_q\")\n",
    "\n",
    "# азимутальная координата точки наблюдения\n",
    "# phi_a = var(\"theta_a\")\n",
    "\n",
    "# полярная координата заряда\n",
    "# theta_q = var(\"theta_q\")\n",
    "\n",
    "# полярная координата точки наблюдения\n",
    "# theta_a = var(\"theta_a\")\n",
    "\n",
    "# z - координаты заряда и точки наблюдения"
   ]
  },
  {
   "cell_type": "code",
   "execution_count": 26,
   "metadata": {},
   "outputs": [],
   "source": [
    "zq = lambda rq, theta_q : rq*cos(theta_q)\n",
    "za = lambda ra, theta_a : ra*cos(theta_a)"
   ]
  },
  {
   "cell_type": "code",
   "execution_count": 27,
   "metadata": {},
   "outputs": [],
   "source": [
    "# физический смысл первого интегрирования по dVq есть отыскание векторного потенциала\n",
    "# создаваемого движущимся распределённым зарядом частицы в ее объёме\n",
    "\n",
    "# ввиду сферической симметрии векторный потенциал не зависит от угла phi_a\n",
    "# следовательно при вычислении векторного потенциала мы можем положить phi_a = 0\n",
    "\n",
    "# введём вспомогательные переменные - цилиндрический радиус\n",
    "# как координата r точки при переходе в цилиндрическую систему коорденат с тем же направлением оси z\n"
   ]
  },
  {
   "cell_type": "code",
   "execution_count": 28,
   "metadata": {},
   "outputs": [],
   "source": [
    "rcq = lambda rq, theta_q : rq*sin(theta_q)\n",
    "rca = lambda ra, theta_a : ra*sin(theta_a)"
   ]
  },
  {
   "cell_type": "code",
   "execution_count": 29,
   "metadata": {},
   "outputs": [],
   "source": [
    "# выражение для расстояния между точкой заряда и точкой наблюдения примет вид\n",
    "# R0 = lambda ra, theta_a, rq, theta_q, phi_q : sqrt(rca^2+rcq^2+(za-zq)^2-2*rca*rcq*cos(phi_q))\n",
    "R0 = lambda ra, theta_a, rq, theta_q, phi_q : sqrt(rca(ra, theta_a)^2+rcq(rq, theta_q)^2+(za(ra, theta_a)-zq(rq, theta_q))^2-2*rca(ra, theta_a)*rcq(rq, theta_q)*cos(phi_q))\n"
   ]
  },
  {
   "cell_type": "code",
   "execution_count": 30,
   "metadata": {},
   "outputs": [],
   "source": [
    "# поскольку по условию задачи распределение плотности заряда частицы сферически симметрично,\n",
    "# мы можем вынести rho_q(rq) за знак интегрирования по phi_q\n",
    "# интегрируя 1/R по phi_q от 0 до 2*pi запишем\n",
    "\n",
    "# rcqa2 = (rcq-rca)^2+(zq-za)^2\n",
    "# module = - 4*rcq*rca / rcqa2\n",
    "# Iphi=4*elliptic_kc(module) / sqrt(rcqa2)\n",
    "\n",
    "rcqa2  = lambda ra, theta_a, rq, theta_q : (rcq(rq,theta_q)-rca(ra,theta_a))^2+(zq(rq, theta_q)-za(ra, theta_a))^2;\n",
    "module = lambda ra, theta_a, rq, theta_q : - 4*rcq(rq,theta_q)*rca(ra,theta_a) / rcqa2(ra, theta_a, rq, theta_q);\n",
    "Iphi   = lambda ra, theta_a, rq, theta_q : 4*elliptic_kc(module(ra, theta_a, rq, theta_q)) / sqrt(rcqa2(ra, theta_a, rq, theta_q));\n"
   ]
  },
  {
   "cell_type": "code",
   "execution_count": 31,
   "metadata": {},
   "outputs": [],
   "source": [
    "# http://maths.cnam.fr/Membres/wilk/MathMax/help/Maxima/maxima_17.html\n",
    "# Function: elliptic_kc (m)\n",
    "# The complete elliptic integral of the first kind, defined as\n",
    "# integrate(1/sqrt(1 - m*sin(x)^2), x, 0, %pi/2)\n",
    "\n",
    "# https://www.math.aau.at/user/cheuberg/sage/doc/6.5.beta2-4-g2e57cf9/en/reference/functions/sage/functions/special.html\n",
    "# class sage.functions.special.EllipticKC\n",
    "# Bases: sage.functions.special.MaximaFunction\n",
    "# This returns the value of the “complete elliptic integral of the first kind,”\n"
   ]
  },
  {
   "cell_type": "code",
   "execution_count": 32,
   "metadata": {},
   "outputs": [],
   "source": [
    "# print \"Iphi =\", Iphi(ra, theta_a, rq, theta_q)\n",
    "# Iphi = 4*elliptic_kc(-4*ra*rq*sin(theta_a)*sin(theta_q)/((ra*cos(theta_a) - rq*cos(theta_q))^2 + (ra*sin(theta_a) - rq*sin(theta_q))^2))/sqrt((ra*cos(theta_a) - rq*cos(theta_q))^2 + (ra*sin(theta_a) - rq*sin(theta_q))^2)\n"
   ]
  },
  {
   "cell_type": "code",
   "execution_count": 33,
   "metadata": {},
   "outputs": [],
   "source": [
    "def my_numerical_integral1(f, a, b):\n",
    "    print (\"f = \", f)\n",
    "    print (\"f(x) = \", f(x))\n",
    "    print (\"a = \", a)\n",
    "    print (\"b = \", b)\n",
    "    integral = numerical_integral(f, a, b)\n",
    "    print (\"integral = \", integral)\n",
    "    result = integral[0]\n",
    "    print (\"result = \", result)\n",
    "    return result\n",
    "\n",
    "def my_numerical_integral(f, a, b):\n",
    "    #print (\"f = \", f)\n",
    "    #print (\"f(x) = \", f(x))\n",
    "    #print (\"a = \", a)\n",
    "    #print (\"b = \", b)\n",
    "    from scipy import integrate\n",
    "    #import ctypes\n",
    "    try:\n",
    "        integral = integrate.quad(f, a, b)\n",
    "        #print \"integral = \", integral\n",
    "        result = integral[0]\n",
    "        #print \"result = \", result\n",
    "        return result\n",
    "    except Exception as ex:\n",
    "        print (\"ex = \", str(ex))\n",
    "        print (\"f = \", f)\n",
    "        #print (\"f(x) = \", f(x))\n",
    "        print (\"a = \", a)\n",
    "        print (\"b = \", b)\n",
    "        raise ex\n",
    "        integral = numerical_integral(f, a, b)\n",
    "        print (\"integral = \", integral)\n",
    "        result = integral[0]\n",
    "        print (\"result = \", result)\n",
    "        return result"
   ]
  },
  {
   "cell_type": "code",
   "execution_count": 34,
   "metadata": {},
   "outputs": [
    {
     "name": "stdout",
     "output_type": "stream",
     "text": [
      "(0.504792217873184, 5.604319429344074e-15, 21, 0)\n",
      "0.504792217873184\n",
      "<function <lambda> at 0x7f55d4366560>\n"
     ]
    }
   ],
   "source": [
    "print (exp(-1/x).nintegral(x, 1, 2))\n",
    "\n",
    "print (my_numerical_integral(lambda x : exp(-1/x), 1, 2))\n",
    "\n",
    "print ( lambda phi_q : 1 / R0 (ra, theta_a, rq, theta_q, phi_q) )\n"
   ]
  },
  {
   "cell_type": "code",
   "execution_count": 35,
   "metadata": {},
   "outputs": [],
   "source": [
    "def calc1_m():\n",
    "    rq, ra, theta_a, theta_q, phi_q = var(\"rq, ra, theta_a, theta_q, phi_q\")\n",
    "    I1 = lambda ra, theta_a, rq, theta_q : ( 1 / R0 (ra, theta_a, rq, theta_q, phi_q) )   .nintegral(phi_q, 0, 2*pi)\n",
    "\n",
    "    I2 = lambda ra, theta_a, rq          : ( I1(ra, theta_a, rq, theta_q) * sin(theta_q) ).nintegral(theta_q, 0, pi)\n",
    "    #I2 = lambda ra, theta_a, rq          : ( Iphi(ra, theta_a, rq, theta_q) * sin(theta_q) ).nintegral(theta_q, 0, pi)\n",
    "\n",
    "    # распределение заряда ядра приближённо выражается распределением Ферми\n",
    "    # http://nuclphys.sinp.msu.ru/ndb/ndb102.htm\n",
    "\n",
    "    rho_q = lambda rho0, Rq, aq, r : rho0 / (1 + exp( (r - Rq) / aq) )\n",
    "\n",
    "    I3 = lambda rho0, Rq, aq, ra, theta_a : ( rho_q(rho0, Rq, aq, rq) * rq^2 * I2(ra, theta_a, rq) ).nintegral(rq, 0, infinity)\n",
    "\n",
    "    I4 = lambda rho0, Rq, aq, ra, theta_a : 2 * pi * I3(rho0, Rq, aq, ra, theta_a)\n",
    "\n",
    "    I5 = lambda rho0, Rq, aq, ra : ( I4(rho0, Rq, aq, ra, theta_a) * sin(theta_a)).nintegral(theta_a, 0, pi)\n",
    "\n",
    "    I6 = lambda rho0, Rq, aq : ( rho_q(rho0, Rq, aq, ra) * ra^2 * I5(rho0, Rq, aq, ra)).nintegral(ra, 0, infinity)\n",
    "\n",
    "    I6(1, 1, 1)\n",
    "\n",
    "    #m = (mju_0 / (4 * pi)) * I6(rho0, Rq, aq)"
   ]
  },
  {
   "cell_type": "code",
   "execution_count": 36,
   "metadata": {},
   "outputs": [],
   "source": [
    "# calc1_m()\n",
    "# ECL says: Error executing code in Maxima: quad_qags: Cannot numerically evaluate errexp1 at 3.141592653589793"
   ]
  },
  {
   "cell_type": "code",
   "execution_count": 37,
   "metadata": {},
   "outputs": [],
   "source": [
    "def calc2_m():\n",
    "    I1 = lambda ra, theta_a, rq, theta_q : my_numerical_integral( lambda phi_q : 1 / R0 (ra, theta_a, rq, theta_q, phi_q), 0, 2*pi)\n",
    "\n",
    "    # I2 = lambda ra, theta_a, rq          : my_numerical_integral( lambda theta_q : I1(ra, theta_a, rq, theta_q) * sin(theta_q), 0, pi)\n",
    "    I2 = lambda ra, theta_a, rq          : my_numerical_integral( lambda theta_q : Iphi(ra, theta_a, rq, theta_q) * sin(theta_q), 0, pi)\n",
    "\n",
    "    # распределение заряда ядра приближённо выражается распределением Ферми\n",
    "    # http://nuclphys.sinp.msu.ru/ndb/ndb102.htm\n",
    "\n",
    "    rho_q = lambda rho0, Rq, aq, r : rho0 / (1 + exp( (r - Rq) / aq) )\n",
    "\n",
    "    I3 = lambda rho0, Rq, aq, ra, theta_a : my_numerical_integral( lambda rq : rho_q(rho0, Rq, aq, rq) * rq^2 * I2(ra, theta_a, rq),  0, infinity)\n",
    "\n",
    "    I4 = lambda rho0, Rq, aq, ra, theta_a : 2 * pi * I3(rho0, Rq, aq, ra, theta_a)\n",
    "\n",
    "    I5 = lambda rho0, Rq, aq, ra : my_numerical_integral( lambda theta_a : I4(rho0, Rq, aq, ra, theta_a) * sin(theta_a), 0, pi)\n",
    "\n",
    "    I6 = lambda rho0, Rq, aq : my_numerical_integral( lambda ra : rho_q(rho0, Rq, aq, ra) * ra^2 * I5(rho0, Rq, aq, ra), 0, infinity)\n",
    "\n",
    "    # I6(rho0, Rq, aq)\n",
    "\n",
    "    I7 = I6(1, 1, 1)\n",
    "    print (\"I6(1, 1, 1) = \", I7)\n",
    "\n",
    "    # using Iphi\n",
    "    # integral =  (820.1392952900268, 0.0004965284196251068)\n",
    "    # result =  820.13929529\n",
    "    # I6(1, 1, 1) =  820.13929529\n",
    "    # m = (mju_0 / (4 * pi)) * I6(rho0, Rq, aq)\n",
    "\n",
    "    # using I1\n",
    "    # float division by zero\n",
    "    # ...\n",
    "    # float division by zero\n",
    "    # integral =  (17.077164899361996, 0.0721483434946714)\n",
    "    # result =  17.0771648994\n",
    "    # ex =  float division by zero\n",
    "    # f =  <function <lambda> at 0x7fcf9034a7d0>\n",
    "    # f(x) =  1/sqrt(-10.595854716776243*cos(x) + 10.595854716776243)\n",
    "    # a =  0\n",
    "    # b =  2*pi\n",
    "    # float division by zero\n",
    "    # ....\n",
    "    # float division by zero\n",
    "    # integral =  (17.07716489912273, 0.07214834349503378)\n",
    "    # result =  17.0771648991\n",
    "    # math range error\n",
    "    # math range error\n",
    "    # math range error\n",
    "    # Killed"
   ]
  },
  {
   "cell_type": "code",
   "execution_count": 38,
   "metadata": {},
   "outputs": [],
   "source": [
    "# calc2_m()"
   ]
  },
  {
   "cell_type": "code",
   "execution_count": 39,
   "metadata": {},
   "outputs": [],
   "source": [
    "def calc3_scalar_potential():\n",
    "    # распределение заряда ядра приближённо выражается распределением Ферми\n",
    "    # http://nuclphys.sinp.msu.ru/ndb/ndb102.htm\n",
    "    import numpy as np\n",
    "\n",
    "    rho_q = lambda rho0, Rq, aq, r : rho0 / (1 + np.exp( (r - Rq) / aq) )\n",
    "\n",
    "    Ir = lambda rho0, Rq, aq, theta_a, ra, phi_q, theta_q : my_numerical_integral( lambda rq : rho_q(rho0, Rq, aq, rq) * rq^2 * sin(theta_q) / R0 (ra, theta_a, rq, theta_q, phi_q),  0, infinity)\n",
    "\n",
    "    I2 = lambda rho0, Rq, aq, theta_a, ra, phi_q : my_numerical_integral( lambda theta_q : Ir(rho0, Rq, aq, theta_a, ra, phi_q, theta_q), 0, pi)\n",
    "\n",
    "    I3 = lambda rho0, Rq, aq, theta_a, ra : my_numerical_integral( lambda phi_q : I2(rho0, Rq, aq, theta_a, ra, phi_q), 0, 2*pi)\n",
    "\n",
    "    # scalar_potential = I3(1, 1, 1, 0.5, pi/4)\n",
    "    # print \"I3(1, 1, 1, 0.5, pi/4) = \", scalar_potential\n",
    "    # I3(1, 1, 1, 0.5, pi/4) =  21.8634904207\n",
    "\n",
    "    I4 = lambda rho0, Rq, aq, theta_a, ra : 2 * pi * I3(rho0, Rq, aq, theta_a, ra)\n",
    "\n",
    "    I5 = lambda rho0, Rq, aq, theta_a : my_numerical_integral( lambda ra : rho_q(rho0, Rq, aq, ra) * I4(rho0, Rq, aq, theta_a, ra) * sin(theta_a) * ra^2, 0, infinity)\n",
    "\n",
    "    I6 = lambda rho0, Rq, aq : my_numerical_integral( lambda theta_a : I5 (rho0, Rq, aq, theta_a), 0, pi)\n",
    "\n",
    "    # I6(rho0, Rq, aq)\n",
    "\n",
    "    I7 = I6(1, 1, 1)\n",
    "    print (\"I6(1, 1, 1) = \", I7)\n",
    "    # sage/src/bin/sage-ipython:220: RuntimeWarning: overflow encountered in exp\n",
    "    # I6(1, 1, 1) =  820.139143519\n"
   ]
  },
  {
   "cell_type": "code",
   "execution_count": 40,
   "metadata": {},
   "outputs": [],
   "source": [
    "#calc3_scalar_potential()"
   ]
  },
  {
   "cell_type": "code",
   "execution_count": 41,
   "metadata": {},
   "outputs": [],
   "source": [
    "def calc_proton_mass():\n",
    "    # http://www.actaphys.uj.edu.pl/fulltext?series=Reg&vol=30&page=119\n",
    "    # the rms charge radius of the proton being\n",
    "    # rp_rms = 0.8\n",
    "    # r0 = 2/3 * rp_rms\n",
    "    # the charge distribution of the proton\n",
    "    # g(r) = exp(-r^2/r__0^2)/(r__0^3*sqrt(pi)^3)\n",
    "\n",
    "    rho_q = lambda r0, r : exp(-r^2/r0^2)/(r0^3*sqrt(pi)^3)\n",
    "\n",
    "    Ir = lambda r0, theta_a, ra, phi_q, theta_q : my_numerical_integral( lambda rq : rho_q(r0, rq) * rq^2 * sin(theta_q) / R0 (ra, theta_a, rq, theta_q, phi_q),  0, infinity)\n",
    "\n",
    "    I2 = lambda r0, theta_a, ra, phi_q : my_numerical_integral( lambda theta_q : Ir(r0, theta_a, ra, phi_q, theta_q), 0, pi)\n",
    "\n",
    "    I3 = lambda r0, theta_a, ra : my_numerical_integral( lambda phi_q : I2(r0, theta_a, ra, phi_q), 0, 2*pi)\n",
    "\n",
    "    I4 = lambda r0, theta_a, ra : 2 * pi * I3(r0, theta_a, ra)\n",
    "\n",
    "    I5 = lambda r0, theta_a : my_numerical_integral( lambda ra : rho_q(r0, ra) * I4(r0, theta_a, ra) * sin(theta_a) * ra^2, 0, infinity)\n",
    "\n",
    "    I6 = lambda r0 : my_numerical_integral( lambda theta_a : I5 (r0, theta_a), 0, pi)\n",
    "\n",
    "    I7 = I6(2/3 * 0.8)\n",
    "    print (\"I6(2/3 * 0.8) = \", I7)\n",
    "    # Killed\n"
   ]
  },
  {
   "cell_type": "code",
   "execution_count": 42,
   "metadata": {},
   "outputs": [],
   "source": [
    "def calc_neutron_mass():\n",
    "    # http://www.actaphys.uj.edu.pl/fulltext?series=Reg&vol=30&page=119\n",
    "\n",
    "    # the rms value of g__n\n",
    "    # r2 := -0.113\n",
    "\n",
    "    # The third parameter r1 is a scaling parameter, which is necessary to define\n",
    "    # a dimensionless quantity (r/r1) in the Gaussian exponent. The results of\n",
    "    # QCD-calculations of the charge density distribution inside the neutron [2]\n",
    "    # are best reproduced by choosing:\n",
    "    # r1 = 0.71*sqrt(2/5) # fm\n",
    "\n",
    "    # the charge density distribution within the neutron\n",
    "    # gn(r) = (-2/3)*(r2 / (r1^2 * (r1*sqrt(pi))^3)) * (r/r1)^2 * (1 - (2/5)*r^2/r1^2) * exp(-r^2/r1^2)\n",
    "\n",
    "    rho_q = lambda r1, r2, r : (-2/3)*(r2 / (r1^2 * (r1*sqrt(pi))^3)) * (r/r1)^2 * (1 - (2/5)*r^2/r1^2) * exp(-r^2/r1^2)\n",
    "\n",
    "    Ir = lambda r1, r2, theta_a, ra, phi_q, theta_q : my_numerical_integral( lambda rq : rho_q(r1, r2, rq) * rq^2 * sin(theta_q) / R0 (ra, theta_a, rq, theta_q, phi_q),  0, infinity)\n",
    "\n",
    "    I2 = lambda r1, r2, theta_a, ra, phi_q : my_numerical_integral( lambda theta_q : Ir(r1, r2, theta_a, ra, phi_q, theta_q), 0, pi)\n",
    "\n",
    "    I3 = lambda r1, r2, theta_a, ra : my_numerical_integral( lambda phi_q : I2(r1, r2, theta_a, ra, phi_q), 0, 2*pi)\n",
    "\n",
    "    I4 = lambda r1, r2, theta_a, ra : 2 * pi * I3(r1, r2, theta_a, ra)\n",
    "\n",
    "    I5 = lambda r1, r2, theta_a : my_numerical_integral( lambda ra : rho_q(r1, r2, ra) * I4(r1, r2, theta_a, ra) * sin(theta_a) * ra^2, 0, infinity)\n",
    "\n",
    "    I6 = lambda r1, r2 : my_numerical_integral( lambda theta_a : I5 (r1, r2, theta_a), 0, pi)\n",
    "\n",
    "    I7 = I6(0.71*sqrt(2/5), -0.113)\n",
    "\n",
    "    print (\"I6(0.71*sqrt(2/5), -0.113) = \", I7)\n",
    "    # Killed\n"
   ]
  },
  {
   "cell_type": "code",
   "execution_count": 19,
   "metadata": {},
   "outputs": [],
   "source": [
    "nquad_default_opts = \\\n",
    "           { 'epsabs' : 1.49e-08,\n",
    "             'epsrel' : 1.49e-08,\n",
    "             'limit'  : 50 }\n",
    "\n",
    "nquad_opts = { 'epsabs' : 1.49e-03,\n",
    "               'epsrel' : 1.49e-03,\n",
    "               'limit'  : 20 }"
   ]
  },
  {
   "cell_type": "code",
   "execution_count": 20,
   "metadata": {},
   "outputs": [],
   "source": [
    "from IPython.display import display, Math, Latex\n",
    "\n",
    "def disp(eq):\n",
    "    display(Math(latex(eq)))\n",
    "\n",
    "def displ(tex):\n",
    "    display(Math(tex))"
   ]
  },
  {
   "cell_type": "code",
   "execution_count": 45,
   "metadata": {},
   "outputs": [],
   "source": [
    "def calc_proton_mass2():\n",
    "    # http://www.actaphys.uj.edu.pl/fulltext?series=Reg&vol=30&page=119\n",
    "    # the rms charge radius of the proton being\n",
    "    # rp_rms = 0.8\n",
    "    # r0 = 2/3 * rp_rms\n",
    "    # the charge distribution of the proton\n",
    "    # g(r) = exp(-r^2/r__0^2)/(r__0^3*sqrt(pi)^3)\n",
    "\n",
    "    file = open('calc_proton_mass2.txt', 'a')\n",
    "    file.write('http://www.actaphys.uj.edu.pl/fulltext?series=Reg&vol=30&page=119\\n')\n",
    "    file.write('the rms charge radius of the proton being\\n')\n",
    "    file.write('rp_rms = 0.8\\n')\n",
    "    file.write('r0 = 2/3 * rp_rms\\n')\n",
    "    file.write('the charge distribution of the proton\\n')\n",
    "    file.write('g(r) = exp(-r^2/r__0^2)/(r__0^3*sqrt(pi)^3)\\n')\n",
    "    file.close()\n",
    "\n",
    "    rho_q = lambda r0, r : exp(-r^2/r0^2)/(r0^3*sqrt(pi)^3)\n",
    "\n",
    "    Ir = lambda r0, theta_a, ra, phi_q, theta_q, rq : rho_q(r0, rq) * rq^2 * sin(theta_q) / R0 (ra, theta_a, rq, theta_q, phi_q)    # (rq,  0, infinity)\n",
    "\n",
    "    I2 = lambda r0, theta_a, ra, phi_q, theta_q, rq : Ir(r0, theta_a, ra, phi_q, theta_q, rq)                                       # (theta_q, 0, pi)\n",
    "\n",
    "    I3 = lambda r0, theta_a, ra, phi_q, theta_q, rq : I2(r0, theta_a, ra, phi_q, theta_q, rq)                                       # (phi_q, 0, 2*pi)\n",
    "\n",
    "    I4 = lambda r0, theta_a, ra, phi_q, theta_q, rq : 2 * pi * I3(r0, theta_a, ra, phi_q, theta_q, rq)\n",
    "\n",
    "    I5 = lambda r0, theta_a, ra, phi_q, theta_q, rq : rho_q(r0, ra) * I4(r0, theta_a, ra, phi_q, theta_q, rq) * sin(theta_a) * ra^2 # (ra, 0, infinity)\n",
    "\n",
    "    I6 = lambda r0, theta_a, ra, phi_q, theta_q, rq : I5 (r0, theta_a, ra, phi_q, theta_q, rq)                                      # (theta_a, 0, pi)\n",
    "\n",
    "    I7 = lambda theta_a, ra, phi_q, theta_q, rq : I6(2/3 * 0.8, theta_a, ra, phi_q, theta_q, rq)\n",
    "\n",
    "    from scipy import integrate\n",
    "    #                              theta_a, ra,            phi_q,      theta_q,  rq\n",
    "    answer = integrate.nquad(I7, [ [0, pi], [0, infinity], [0, 2*pi],  [0, pi],  [0, infinity]], opts=nquad_opts)\n",
    "\n",
    "    print (\"I6(2/3 * 0.8) = \", answer)\n",
    "    # I6(2/3 * 0.8) =  (1.4960348943817992, 0.0026474827067254846)\n",
    "\n",
    "    # Elementary charge, coulombs\n",
    "    e = 1.60217662e-19\n",
    "    mju0 = 4*pi*10^(-7) # H/m\n",
    "    k = mju0 / (4 * pi) * e^2 / 10^-15\n",
    "    m = k * answer[0]\n",
    "    print (\"m = \", m)\n",
    "    # 3.84027657565375e-30\n",
    "\n",
    "    me = 9.1093837015e-31\n",
    "    print (\"m / me = \", m / me)\n",
    "    # 4.21573698231790\n",
    "\n",
    "    file = open('calc_proton_mass2.txt', 'a')\n",
    "    file.write('\\n')\n",
    "    file.write('I6(2/3 * 0.8) = ')\n",
    "    file.write(str(answer))\n",
    "    file.write('\\n')\n",
    "    file.write('m = ')\n",
    "    file.write(str(m))\n",
    "    file.write('\\n\\n')\n",
    "    file.close()"
   ]
  },
  {
   "cell_type": "code",
   "execution_count": 46,
   "metadata": {},
   "outputs": [],
   "source": [
    "#calc_proton_mass2()"
   ]
  },
  {
   "cell_type": "code",
   "execution_count": 47,
   "metadata": {},
   "outputs": [],
   "source": [
    "def calc_neutron_mass2():\n",
    "    # http://www.actaphys.uj.edu.pl/fulltext?series=Reg&vol=30&page=119\n",
    "\n",
    "    # the rms value of g__n\n",
    "    # r2 := -0.113\n",
    "\n",
    "    # The third parameter r1 is a scaling parameter, which is necessary to define\n",
    "    # a dimensionless quantity (r/r1) in the Gaussian exponent. The results of\n",
    "    # QCD-calculations of the charge density distribution inside the neutron [2]\n",
    "    # are best reproduced by choosing:\n",
    "    # r1 = 0.71*sqrt(2/5) # fm\n",
    "\n",
    "    # the charge density distribution within the neutron\n",
    "    # gn(r) = (-2/3)*(r2 / (r1^2 * (r1*sqrt(pi))^3)) * (r/r1)^2 * (1 - (2/5)*r^2/r1^2) * exp(-r^2/r1^2)\n",
    "\n",
    "    file = open('calc_neutron_mass2.txt', 'a')\n",
    "    file.write('http://www.actaphys.uj.edu.pl/fulltext?series=Reg&vol=30&page=119\\n')\n",
    "    file.write('the rms value of g__n\\n')\n",
    "    file.write('r2 := -0.113\\n')\n",
    "    file.write('\\n')\n",
    "    file.write('The third parameter r1 is a scaling parameter, which is necessary to define\\n')\n",
    "    file.write('a dimensionless quantity (r/r1) in the Gaussian exponent. The results of\\n')\n",
    "    file.write('QCD-calculations of the charge density distribution inside the neutron [2]\\n')\n",
    "    file.write('are best reproduced by choosing:\\n')\n",
    "    file.write('r1 = 0.71*sqrt(2/5) # fm\\n')\n",
    "    file.write('\\n')\n",
    "    file.write('the charge density distribution within the neutron\\n')\n",
    "    file.write('gn(r) = (-2/3)*(r2 / (r1^2 * (r1*sqrt(pi))^3)) * (r/r1)^2 * (1 - (2/5)*r^2/r1^2) * exp(-r^2/r1^2)\\n')\n",
    "    file.close()\n",
    "\n",
    "    rho_q = lambda r1, r2, r : (-2/3)*(r2 / (r1^2 * (r1*sqrt(pi))^3)) * (r/r1)^2 * (1 - (2/5)*r^2/r1^2) * exp(-r^2/r1^2)\n",
    "\n",
    "    Ir = lambda r1, r2, theta_a, ra, phi_q, theta_q, rq : rho_q(r1, r2, rq) * rq^2 * sin(theta_q) / R0 (ra, theta_a, rq, theta_q, phi_q)              # (rq, 0, infinity)\n",
    "\n",
    "    I2 = lambda r1, r2, theta_a, ra, phi_q, theta_q, rq : Ir(r1, r2, theta_a, ra, phi_q, theta_q, rq)                                                     # (theta_q, 0, pi)\n",
    "\n",
    "    I3 = lambda r1, r2, theta_a, ra, phi_q, theta_q, rq : I2(r1, r2, theta_a, ra, phi_q, theta_q, rq)                                                              # (phi_q, 0, 2*pi)\n",
    "\n",
    "    I4 = lambda r1, r2, theta_a, ra, phi_q, theta_q, rq : 2 * pi * I3(r1, r2, theta_a, ra, phi_q, theta_q, rq)\n",
    "\n",
    "    I5 = lambda r1, r2, theta_a, ra, phi_q, theta_q, rq : rho_q(r1, r2, ra) * I4(r1, r2, theta_a, ra, phi_q, theta_q, rq) * sin(theta_a) * ra^2       # (ra, 0, infinity)\n",
    "\n",
    "    I6 = lambda r1, r2, theta_a, ra, phi_q, theta_q, rq : I5 (r1, r2, theta_a, ra, phi_q, theta_q, rq )                                               # (theta_a, 0, pi)\n",
    "\n",
    "    I7 = lambda theta_a, ra, phi_q, theta_q, rq  : I6(0.71*sqrt(2/5), -0.113, theta_a, ra, phi_q, theta_q, rq)\n",
    "\n",
    "    from scipy import integrate\n",
    "    #                              theta_a, ra,            phi_q,      theta_q,  rq\n",
    "    answer = integrate.nquad(I7, [ [0, pi], [0, infinity], [0, 2*pi],  [0, pi],  [0, infinity]], opts=nquad_opts)\n",
    "\n",
    "    print (\"I6(0.71*sqrt(2/5), -0.113) = \", answer)\n",
    "\n",
    "    file = open('calc_neutron_mass2.txt', 'a')\n",
    "    file.write('\\n')\n",
    "    file.write('I6(0.71*sqrt(2/5), -0.113) = ')\n",
    "    file.write(str(answer))\n",
    "    file.write('\\n\\n')\n",
    "    file.close()\n",
    "    # Killed\n"
   ]
  },
  {
   "cell_type": "code",
   "execution_count": 15,
   "metadata": {},
   "outputs": [],
   "source": [
    "def calc_sphere_mass():\n",
    "\n",
    "    file = open('calc_sphere_mass.txt', 'a')\n",
    "    file.close()\n",
    "\n",
    "    rho_q = lambda r0, q : 3*q / (4*pi*r0^3)\n",
    "\n",
    "    # (rq, 0, r0)\n",
    "    Ir = lambda r0, q, theta_a, ra, phi_q, theta_q, rq : rho_q(r0, q) * rq^2 * sin(theta_q) / R0 (ra, theta_a, rq, theta_q, phi_q)\n",
    "\n",
    "    # (theta_q, 0, pi)\n",
    "    I2 = lambda r0, q, theta_a, ra, phi_q, theta_q, rq : Ir(r0, q, theta_a, ra, phi_q, theta_q, rq)\n",
    "\n",
    "    # (phi_q, 0, 2*pi)\n",
    "    I3 = lambda r0, q, theta_a, ra, phi_q, theta_q, rq : I2(r0, q, theta_a, ra, phi_q, theta_q, rq)\n",
    "\n",
    "    I4 = lambda r0, q, theta_a, ra, phi_q, theta_q, rq : 2 * pi * I3(r0, q, theta_a, ra, phi_q, theta_q, rq)\n",
    "\n",
    "    # (ra, 0, r0)\n",
    "    I5 = lambda r0, q, theta_a, ra, phi_q, theta_q, rq : rho_q(r0, q) * I4(r0, q, theta_a, ra, phi_q, theta_q, rq) * sin(theta_a) * ra^2\n",
    "\n",
    "    # (theta_a, 0, pi)\n",
    "    I6 = lambda r0, q, theta_a, ra, phi_q, theta_q, rq : I5 (r0, q, theta_a, ra, phi_q, theta_q, rq)\n",
    "\n",
    "    if True: \n",
    "        forget()\n",
    "\n",
    "        theta_q, phi_q = var('theta_q, phi_q')\n",
    "        assume(theta_q, 'real')\n",
    "        assume(phi_q, 'real')\n",
    "\n",
    "        theta_a, phi_a = var('theta_a, phi_a')\n",
    "        assume(theta_a, 'real')\n",
    "        assume(phi_a, 'real')\n",
    "\n",
    "        r_q, r_a, r0, q = var(\"r_q, r_a, r_0, q\")\n",
    "        disp(I6(r0, q, theta_a, r_a, phi_q, theta_q, r_q))\n",
    "\n",
    "        return\n",
    "\n",
    "    Iq1 = lambda r0, theta_a, ra, phi_q, theta_q, rq : I6(r0, 1, theta_a, ra, phi_q, theta_q, rq)\n",
    "\n",
    "    from scipy import integrate\n",
    "    Ir0 = lambda r0 : integrate.nquad(lambda theta_a, ra, phi_q, theta_q, rq : \\\n",
    "                                      Iq1(r0, theta_a, ra, phi_q, theta_q, rq), \\\n",
    "                                      [ [0, pi], [0, r0], [0, 2*pi],  [0, pi],  [0, r0]], opts=nquad_opts)\n",
    "    #                                   theta_a,  ra,      phi_q,     theta_q,   rq\n",
    "\n",
    "    # answer = Ir0(0.1)\n",
    "    # print \"Ir0(0.1) = \", answer\n",
    "    # Killed\n",
    "\n",
    "    answer = Ir0(1.0)\n",
    "    print (\"Ir0(1) = \", answer)\n",
    "    # Ir0(1) =  (1.1999998963704677, 0.005411660477958158)\n",
    "\n",
    "    file = open('calc_sphere_mass.txt', 'a')\n",
    "    file.write('\\n')\n",
    "    file.write('Ir0(1) = ')\n",
    "    file.write(str(answer))\n",
    "    file.close()\n"
   ]
  },
  {
   "cell_type": "code",
   "execution_count": 48,
   "metadata": {},
   "outputs": [
    {
     "data": {
      "text/latex": [
       "$\\displaystyle \\frac{9 \\, q^{2} r_{a}^{2} r_{q}^{2} \\sin\\left(\\theta_{a}\\right) \\sin\\left(\\theta_{q}\\right)}{8 \\, \\pi \\sqrt{-2 \\, r_{a} r_{q} \\cos\\left(\\phi_{q}\\right) \\sin\\left(\\theta_{a}\\right) \\sin\\left(\\theta_{q}\\right) + r_{a}^{2} \\sin\\left(\\theta_{a}\\right)^{2} + r_{q}^{2} \\sin\\left(\\theta_{q}\\right)^{2} + {\\left(r_{a} \\cos\\left(\\theta_{a}\\right) - r_{q} \\cos\\left(\\theta_{q}\\right)\\right)}^{2}} r_{0}^{6}}$"
      ],
      "text/plain": [
       "<IPython.core.display.Math object>"
      ]
     },
     "metadata": {},
     "output_type": "display_data"
    }
   ],
   "source": [
    "calc_sphere_mass()"
   ]
  },
  {
   "cell_type": "code",
   "execution_count": 1,
   "metadata": {},
   "outputs": [],
   "source": [
    "%%cython\n",
    "cdef extern from \"numerical_integrators/cuba/calc_gradient_coulomb_sphere_mass.c\":\n",
    "    # интегрирование по координатам точек наблюдения\n",
    "    double Ia (double r0, double q, double theta_a, double ra, double phi_q, double theta_q, double rq)\n",
    "\n",
    "def gradient_coulomb_sphere_mass_integrand(r0, q, theta_a, ra, phi_q, theta_q, rq):\n",
    "    cdef double _r0      = r0\n",
    "    cdef double _q       = q\n",
    "    cdef double _theta_a = theta_a\n",
    "    cdef double _ra      = ra\n",
    "    cdef double _phi_q   = phi_q\n",
    "    cdef double _theta_q = theta_q\n",
    "    cdef double _rq      = rq\n",
    "    return Ia(_r0, _q, _theta_a, _ra, _phi_q, _theta_q, _rq)"
   ]
  },
  {
   "cell_type": "code",
   "execution_count": 2,
   "metadata": {},
   "outputs": [],
   "source": [
    "%%cython\n",
    "cdef extern from \"numerical_integrators/cuba/calc_gradient_sphere_mass.c\":\n",
    "    # интегрирование по координатам точек наблюдения\n",
    "    double Ia (double r0, double q, double theta_a, double ra, double phi_q, double theta_q, double rq)\n",
    "\n",
    "def gradient_sphere_mass_integrand(r0, q, theta_a, ra, phi_q, theta_q, rq):\n",
    "    cdef double _r0      = r0\n",
    "    cdef double _q       = q\n",
    "    cdef double _theta_a = theta_a\n",
    "    cdef double _ra      = ra\n",
    "    cdef double _phi_q   = phi_q\n",
    "    cdef double _theta_q = theta_q\n",
    "    cdef double _rq      = rq\n",
    "    return Ia(_r0, _q, _theta_a, _ra, _phi_q, _theta_q, _rq)"
   ]
  },
  {
   "cell_type": "code",
   "execution_count": 3,
   "metadata": {},
   "outputs": [],
   "source": [
    "%%cython\n",
    "cdef extern from \"numerical_integrators/cuba/calc_gradient_sphere_mass_a.c\":\n",
    "    # интегрирование по координатам точек наблюдения\n",
    "    double Ia (double r0, double q, double theta_a, double ra, double phi_q, double theta_q, double rq, double c, double a)\n",
    "\n",
    "def gradient_sphere_mass_a_integrand(r0, q, c, a, theta_a, ra, phi_q, theta_q, rq):\n",
    "    cdef double _r0      = r0\n",
    "    cdef double _q       = q\n",
    "    cdef double _theta_a = theta_a\n",
    "    cdef double _ra      = ra\n",
    "    cdef double _phi_q   = phi_q\n",
    "    cdef double _theta_q = theta_q\n",
    "    cdef double _rq      = rq\n",
    "    cdef double _c       = c\n",
    "    cdef double _a       = a\n",
    "\n",
    "    return Ia(_r0, _q, _theta_a, _ra, _phi_q, _theta_q, _rq, _c, _a)"
   ]
  },
  {
   "cell_type": "code",
   "execution_count": 4,
   "metadata": {},
   "outputs": [],
   "source": [
    "%%cython\n",
    "cdef extern from \"numerical_integrators/cuba/calc_gradient_sphere_mass_fermi.c\":\n",
    "    # интегрирование по координатам точек наблюдения\n",
    "    double Ia (double r0, double q, double theta_a, double ra, double phi_q, double theta_q, double rq, double c, double a)\n",
    "\n",
    "def gradient_sphere_mass_fermi_integrand(r0, q, c, a, theta_a, ra, phi_q, theta_q, rq):\n",
    "    cdef double _r0      = r0\n",
    "    cdef double _q       = q\n",
    "    cdef double _theta_a = theta_a\n",
    "    cdef double _ra      = ra\n",
    "    cdef double _phi_q   = phi_q\n",
    "    cdef double _theta_q = theta_q\n",
    "    cdef double _rq      = rq\n",
    "    cdef double _c       = c\n",
    "    cdef double _a       = a\n",
    "\n",
    "    return Ia(_r0, _q, _theta_a, _ra, _phi_q, _theta_q, _rq, _c, _a)"
   ]
  },
  {
   "cell_type": "code",
   "execution_count": 5,
   "metadata": {},
   "outputs": [],
   "source": [
    "%%cython\n",
    "cdef extern from \"numerical_integrators/cuba/calc_inductive_sphere_mass.c\":\n",
    "    # интегрирование по координатам точек наблюдения\n",
    "    double Ia (double r0, double q, double theta_a, double ra, double phi_q, double theta_q, double rq)\n",
    "\n",
    "def inductive_sphere_mass_integrand(r0, q, theta_a, ra, phi_q, theta_q, rq):\n",
    "    cdef double _r0      = r0\n",
    "    cdef double _q       = q\n",
    "    cdef double _theta_a = theta_a\n",
    "    cdef double _ra      = ra\n",
    "    cdef double _phi_q   = phi_q\n",
    "    cdef double _theta_q = theta_q\n",
    "    cdef double _rq      = rq\n",
    "    return Ia(_r0, _q, _theta_a, _ra, _phi_q, _theta_q, _rq)"
   ]
  },
  {
   "cell_type": "code",
   "execution_count": 6,
   "metadata": {},
   "outputs": [],
   "source": [
    "%%cython\n",
    "# Приближение малых скоростей с учётом запаздывания\n",
    "cdef extern from \"numerical_integrators/cuba/calc_inductive_sphere_mass_a.c\":\n",
    "    # интегрирование по координатам точек наблюдения\n",
    "    double Ia (double r0, double q, double theta_a, double ra, double phi_q, double theta_q, double rq, double c, double a)\n",
    "\n",
    "def inductive_sphere_mass_a_integrand(r0, q, c, a, theta_a, ra, phi_q, theta_q, rq):\n",
    "    cdef double _r0      = r0\n",
    "    cdef double _q       = q\n",
    "    cdef double _theta_a = theta_a\n",
    "    cdef double _ra      = ra\n",
    "    cdef double _phi_q   = phi_q\n",
    "    cdef double _theta_q = theta_q\n",
    "    cdef double _rq      = rq\n",
    "    cdef double _c       = c\n",
    "    cdef double _a       = a\n",
    "    return Ia(_r0, _q, _theta_a, _ra, _phi_q, _theta_q, _rq, _c, _a)"
   ]
  },
  {
   "cell_type": "code",
   "execution_count": 7,
   "metadata": {},
   "outputs": [],
   "source": [
    "%%cython\n",
    "# Приближение малых скоростей с учётом запаздывания\n",
    "cdef extern from \"numerical_integrators/cuba/calc_inductive_sphere_mass_fermi.c\":\n",
    "    # интегрирование по координатам точек наблюдения\n",
    "    double Ia (double r0, double q, double theta_a, double ra, double phi_q, double theta_q, double rq, double c, double a)\n",
    "\n",
    "def inductive_sphere_mass_fermi_integrand(r0, q, c, a, theta_a, ra, phi_q, theta_q, rq):\n",
    "    cdef double _r0      = r0\n",
    "    cdef double _q       = q\n",
    "    cdef double _theta_a = theta_a\n",
    "    cdef double _ra      = ra\n",
    "    cdef double _phi_q   = phi_q\n",
    "    cdef double _theta_q = theta_q\n",
    "    cdef double _rq      = rq\n",
    "    cdef double _c       = c\n",
    "    cdef double _a       = a\n",
    "    return Ia(_r0, _q, _theta_a, _ra, _phi_q, _theta_q, _rq, _c, _a)"
   ]
  },
  {
   "cell_type": "code",
   "execution_count": 8,
   "metadata": {},
   "outputs": [],
   "source": [
    "from scipy import integrate as scipy_integrate\n",
    "import numpy as np\n",
    "gradient_coulomb_sphere_mass = lambda r0, q : scipy_integrate.nquad(lambda theta_a, ra, phi_q, theta_q, rq : \\\n",
    "                                  gradient_coulomb_sphere_mass_integrand(r0, q, theta_a, ra, phi_q, theta_q, rq), \\\n",
    "                                  [ [0, np.pi], [0, r0], [0, 2*np.pi],  [0, np.pi],  [0, r0]])#, opts=nquad_opts)\n",
    "#                                    theta_a,    ra,       phi_q,        theta_q,      rq"
   ]
  },
  {
   "cell_type": "code",
   "execution_count": 9,
   "metadata": {},
   "outputs": [],
   "source": [
    "from scipy import integrate as scipy_integrate\n",
    "import numpy as np\n",
    "gradient_sphere_mass = lambda r0, q : scipy_integrate.nquad(lambda theta_a, ra, phi_q, theta_q, rq : \\\n",
    "                                  gradient_sphere_mass_integrand(r0, q, theta_a, ra, phi_q, theta_q, rq), \\\n",
    "                                  [ [0, np.pi], [0, r0], [0, 2*np.pi],  [0, np.pi],  [0, r0]])#, opts=nquad_opts)\n",
    "#                                    theta_a,    ra,       phi_q,        theta_q,      rq"
   ]
  },
  {
   "cell_type": "code",
   "execution_count": 10,
   "metadata": {},
   "outputs": [],
   "source": [
    "from scipy import integrate as scipy_integrate\n",
    "import numpy as np\n",
    "gradient_sphere_mass_on_a = lambda r0, q, c, a : scipy_integrate.nquad(lambda theta_a, ra, phi_q, theta_q, rq : \\\n",
    "                                  gradient_sphere_mass_a_integrand(r0, q, c, a, theta_a, ra, phi_q, theta_q, rq), \\\n",
    "                                  [ [0, np.pi], [0, r0], [0, 2*np.pi],  [0, np.pi],  [0, r0]])#, opts=nquad_opts)\n",
    "#                                    theta_a,    ra,       phi_q,        theta_q,      rq"
   ]
  },
  {
   "cell_type": "code",
   "execution_count": 11,
   "metadata": {},
   "outputs": [],
   "source": [
    "from scipy import integrate as scipy_integrate\n",
    "import numpy as np\n",
    "gradient_sphere_mass_fermi = lambda r0, q, c, a : scipy_integrate.nquad(lambda theta_a, ra, phi_q, theta_q, rq : \\\n",
    "                                  gradient_sphere_mass_fermi_integrand(r0, q, c, a, theta_a, ra, phi_q, theta_q, rq), \\\n",
    "                                  [ [0, np.pi], [0, r0], [0, 2*np.pi],  [0, np.pi],  [0, r0]])#, opts=nquad_opts)\n",
    "#                                    theta_a,    ra,       phi_q,        theta_q,      rq"
   ]
  },
  {
   "cell_type": "code",
   "execution_count": 12,
   "metadata": {},
   "outputs": [],
   "source": [
    "from scipy import integrate as scipy_integrate\n",
    "import numpy as np\n",
    "inductive_sphere_mass = lambda r0, q : scipy_integrate.nquad(lambda theta_a, ra, phi_q, theta_q, rq : \\\n",
    "                                  inductive_sphere_mass_integrand(r0, q, theta_a, ra, phi_q, theta_q, rq), \\\n",
    "                                  [ [0, np.pi], [0, r0], [0, 2*np.pi],  [0, np.pi],  [0, r0]])#, opts=nquad_opts)\n",
    "#                                    theta_a,    ra,       phi_q,        theta_q,      rq"
   ]
  },
  {
   "cell_type": "code",
   "execution_count": 13,
   "metadata": {},
   "outputs": [],
   "source": [
    "from scipy import integrate as scipy_integrate\n",
    "inductive_sphere_mass_on_a = lambda r0, q, c, a : scipy_integrate.nquad(lambda theta_a, ra, phi_q, theta_q, rq : \\\n",
    "                                  inductive_sphere_mass_a_integrand(r0, q, c, a, theta_a, ra, phi_q, theta_q, rq), \\\n",
    "                                  [ [0, np.pi], [0, r0], [0, 2*np.pi],  [0, np.pi],  [0, r0]], opts=nquad_opts)\n",
    "#                                    theta_a,    ra,       phi_q,        theta_q,      rq"
   ]
  },
  {
   "cell_type": "code",
   "execution_count": 14,
   "metadata": {},
   "outputs": [],
   "source": [
    "from scipy import integrate as scipy_integrate\n",
    "inductive_sphere_mass_fermi = lambda r0, q, c, a : scipy_integrate.nquad(lambda theta_a, ra, phi_q, theta_q, rq : \\\n",
    "                                  inductive_sphere_mass_fermi_integrand(r0, q, c, a, theta_a, ra, phi_q, theta_q, rq), \\\n",
    "                                  [ [0, np.pi], [0, r0], [0, 2*np.pi],  [0, np.pi],  [0, r0]], opts=nquad_opts)\n",
    "#                                    theta_a,    ra,       phi_q,        theta_q,      rq"
   ]
  },
  {
   "cell_type": "code",
   "execution_count": 60,
   "metadata": {},
   "outputs": [
    {
     "name": "stderr",
     "output_type": "stream",
     "text": [
      "/usr3/articles/sagemath_docker_build/sage/local/lib/python3.10/site-packages/scipy/integrate/quadpack.py:879: IntegrationWarning: The algorithm does not converge.  Roundoff error is detected\n",
      "  in the extrapolation table.  It is assumed that the requested tolerance\n",
      "  cannot be achieved, and that the returned result (if full_output = 1) is \n",
      "  the best which can be obtained.\n",
      "  quad_r = quad(f, low, high, args=args, full_output=self.full_output,\n"
     ]
    },
    {
     "data": {
      "text/plain": [
       "(0.3999999998324903, 4.54804878027501e-07)"
      ]
     },
     "execution_count": 60,
     "metadata": {},
     "output_type": "execute_result"
    }
   ],
   "source": [
    "gradient_sphere_mass(1,1)"
   ]
  },
  {
   "cell_type": "code",
   "execution_count": 65,
   "metadata": {},
   "outputs": [
    {
     "data": {
      "text/plain": [
       "1.33333333333333"
      ]
     },
     "execution_count": 65,
     "metadata": {},
     "output_type": "execute_result"
    }
   ],
   "source": [
    "_gradient_sphere_mass = 0.4\n",
    "_inductive_sphere_mass = 1.2\n",
    "_electrostatic_energy = 1.2\n",
    "(0.4+1.2)/1.2"
   ]
  },
  {
   "cell_type": "code",
   "execution_count": 63,
   "metadata": {},
   "outputs": [
    {
     "data": {
      "text/plain": [
       "4/3"
      ]
     },
     "execution_count": 63,
     "metadata": {},
     "output_type": "execute_result"
    }
   ],
   "source": [
    "(4+12)/12"
   ]
  },
  {
   "cell_type": "markdown",
   "metadata": {},
   "source": [
    "$^3$ Обычно говорят, что электромагнитная масса равномерно заряженного сферического слоя с общим зарадом $e$ и радиусом $r$ равна $\\frac{2}{3} \\frac{e^2}{r c^2}$; если же заметить, что электростатическая энергия $u = \\frac{1}{2} \\frac{e^2}{r}$, то для массы находим как раз $\\left(\\frac{4}{3}\\right) \\frac{u}{c^2}$."
   ]
  },
  {
   "cell_type": "markdown",
   "metadata": {},
   "source": [
    "$^3$ Обычно говорят, что электромагнитная масса равномерно заряженной сферы с общим зарадом $e$ и радиусом $r$ равна $\\frac{8}{5} \\frac{e^2}{r c^2}$; если же заметить, что электростатическая энергия $u = \\frac{6}{5} \\frac{e^2}{r}$, то для массы находим как раз $\\left(\\frac{4}{3}\\right) \\frac{u}{c^2}$."
   ]
  },
  {
   "cell_type": "code",
   "execution_count": 56,
   "metadata": {},
   "outputs": [
    {
     "data": {
      "text/plain": [
       "(1.1999999997980622, 8.128824378894617e-08)"
      ]
     },
     "execution_count": 56,
     "metadata": {},
     "output_type": "execute_result"
    }
   ],
   "source": [
    "inductive_sphere_mass(1,1)\n",
    "# (1.1999998963704677, 0.005411660477942615)\n",
    "# (1.1999999997980622, 8.128824378894617e-08)"
   ]
  },
  {
   "cell_type": "code",
   "execution_count": 16,
   "metadata": {},
   "outputs": [
    {
     "name": "stderr",
     "output_type": "stream",
     "text": [
      "/usr3/articles/sagemath_docker_build/sage/local/lib/python3.10/site-packages/scipy/integrate/quadpack.py:879: IntegrationWarning: The algorithm does not converge.  Roundoff error is detected\n",
      "  in the extrapolation table.  It is assumed that the requested tolerance\n",
      "  cannot be achieved, and that the returned result (if full_output = 1) is \n",
      "  the best which can be obtained.\n",
      "  quad_r = quad(f, low, high, args=args, full_output=self.full_output,\n"
     ]
    },
    {
     "data": {
      "text/plain": [
       "(0.3999999998324903, 4.54804878027501e-07)"
      ]
     },
     "execution_count": 16,
     "metadata": {},
     "output_type": "execute_result"
    }
   ],
   "source": [
    "gradient_sphere_mass(1,1)"
   ]
  },
  {
   "cell_type": "raw",
   "metadata": {},
   "source": [
    "gradient_coulomb_sphere_mass(1,1)"
   ]
  },
  {
   "cell_type": "code",
   "execution_count": 64,
   "metadata": {},
   "outputs": [
    {
     "data": {
      "text/plain": [
       "(1.1999998963704677, 0.005411660477942615)"
      ]
     },
     "execution_count": 64,
     "metadata": {},
     "output_type": "execute_result"
    }
   ],
   "source": [
    "inductive_sphere_mass(1,1)\n",
    "# (1.1999998963704677, 0.005411660477942615)"
   ]
  },
  {
   "cell_type": "code",
   "execution_count": 22,
   "metadata": {},
   "outputs": [
    {
     "name": "stdout",
     "output_type": "stream",
     "text": [
      "m_grad_coulomb_fermi =  0.400000000000000\n"
     ]
    }
   ],
   "source": [
    "# m_grad_coulomb_fermi = gradient_sphere_mass(r0 = 1, q = 1)[0]\n",
    "m_grad_coulomb_fermi = 0.4\n",
    "print(\"m_grad_coulomb_fermi = \", m_grad_coulomb_fermi)"
   ]
  },
  {
   "cell_type": "code",
   "execution_count": 23,
   "metadata": {},
   "outputs": [],
   "source": [
    "def mass_hysteresis(a):\n",
    "    print(\"a =\", a)\n",
    "    m_ind = inductive_sphere_mass_on_a(r0 = 1, q = 1, c = 1, a = a)\n",
    "    print(\"m_ind = \",  m_ind)\n",
    "    m_grad = gradient_sphere_mass_on_a(r0 = 1, q = 1, c = 1, a = a)\n",
    "    print(\"m_grad = \", m_grad)\n",
    "    m = (m_ind[0] + m_grad[0] - m_grad_coulomb_fermi) / 6 * 5\n",
    "    print(\"a =\", a, \"m =\", m)\n",
    "    return m"
   ]
  },
  {
   "cell_type": "code",
   "execution_count": 24,
   "metadata": {},
   "outputs": [],
   "source": [
    "def mass_hysteresis_fermi(a):\n",
    "    # print(\"a =\", a)\n",
    "    m_ind_fermi = inductive_sphere_mass_fermi(r0 = 1, q = 1, c = 1, a = a)\n",
    "    print(\"m_ind_fermi = \",  m_ind_fermi)\n",
    "    m_grad_fermi = gradient_sphere_mass_fermi(r0 = 1, q = 1, c = 1, a = a)\n",
    "    print(\"m_grad_fermi = \", m_grad_fermi)\n",
    "    m = (m_ind_fermi[0] + m_grad_fermi[0] - m_grad_coulomb_fermi) / 6 * 5\n",
    "    print(\"a =\", a, \"m =\", m)\n",
    "    return m"
   ]
  },
  {
   "cell_type": "raw",
   "metadata": {},
   "source": [
    "mass_hysteresis_fermi_array = []\n",
    "for a in [0.05, 0.06, 0.07, 0.08, 0.09, 0.1, 0.11, 0.12, 0.13, 0.14, 0.15, 0.2, 0.25]:\n",
    "    m_f = mass_hysteresis_fermi(a)\n",
    "    mass_hysteresis_fermi_array += [(a, m_f)]"
   ]
  },
  {
   "cell_type": "code",
   "execution_count": 25,
   "metadata": {},
   "outputs": [
    {
     "name": "stdout",
     "output_type": "stream",
     "text": [
      "a = 0.0500000000000000\n",
      "m_ind =  (1.1995701225903943, 0.005411670190957452)\n",
      "m_grad =  (0.3998709652299156, 3.255951022947786e-05)\n",
      "a = 0.0500000000000000 m = 0.999534239850258\n",
      "m_ind_fermi =  (1.1991408320910102, 0.005411670850874906)\n",
      "m_grad_fermi =  (0.39909926222040615, 3.2559115862621964e-05)\n",
      "a = 0.0500000000000000 m = 0.998533411926180\n",
      "a = 0.0600000000000000\n",
      "m_ind =  (1.1993802561474989, 0.005411663560736635)\n",
      "m_grad =  (0.3998138928211004, 1.317235598346435e-05)\n",
      "a = 0.0600000000000000 m = 0.999328457473833\n",
      "m_ind_fermi =  (1.198761617732484, 0.005411664511406844)\n",
      "m_grad_fermi =  (0.3987024644518463, 1.3172284822050604e-05)\n",
      "a = 0.0600000000000000 m = 0.997886735153609\n",
      "a = 0.0700000000000000\n",
      "m_ind =  (1.1991552545400774, 0.005411665456307002)\n",
      "m_grad =  (0.39974620539208905, 8.393910613574253e-06)\n",
      "a = 0.0700000000000000 m = 0.999084549943472\n",
      "m_ind_fermi =  (1.1983124741199478, 0.005411666750468225)\n",
      "m_grad_fermi =  (0.3982331423376702, 8.39380534920578e-06)\n",
      "a = 0.0700000000000000 m = 0.997121347048015\n",
      "a = 0.0800000000000000\n",
      "m_ind =  (1.1988948019023131, 0.005411665018240086)\n",
      "m_grad =  (0.3996677793443576, 8.386621997517323e-06)\n",
      "a = 0.0800000000000000 m = 0.998802151038892\n",
      "m_ind_fermi =  (1.1977928965388092, 0.005411666708227791)\n",
      "m_grad_fermi =  (0.39769109910585815, 8.386601351472752e-06)\n",
      "a = 0.0800000000000000 m = 0.996236663037223\n",
      "a = 0.0900000000000000\n",
      "m_ind =  (1.1985985235960306, 0.005411660075696378)\n",
      "m_grad =  (0.399578468293125, 5.676251895371013e-06)\n",
      "a = 0.0900000000000000 m = 0.998480826574296\n",
      "m_ind_fermi =  (1.1972022885649987, 0.005411662216554092)\n",
      "m_grad_fermi =  (0.39707610189920983, 5.676181000338429e-06)\n",
      "a = 0.0900000000000000 m = 0.995231992053507\n",
      "a = 0.100000000000000\n",
      "m_ind =  (1.1982659892561969, 0.005411660537869789)\n",
      "m_grad =  (0.39947810151789714, 4.4437358672138336e-06)\n",
      "a = 0.100000000000000 m = 0.998120075645079\n",
      "m_ind_fermi =  (1.1965399591803991, 0.005411663180552306)\n",
      "m_grad_fermi =  (0.3963878789970253, 4.4437535411935865e-06)\n",
      "a = 0.100000000000000 m = 0.994106531814520\n",
      "a = 0.110000000000000\n",
      "m_ind =  (1.1978966987004844, 0.005411663449196524)\n",
      "m_grad =  (0.39936648154491894, 2.7784828631723927e-06)\n",
      "a = 0.110000000000000 m = 0.997719316871170\n",
      "m_ind_fermi =  (1.195805114585354, 0.00541166664692927)\n",
      "m_grad_fermi =  (0.3956261163224023, 2.778462627354663e-06)\n",
      "a = 0.110000000000000 m = 0.992859359089797\n",
      "a = 0.120000000000000\n",
      "m_ind =  (1.1974900838143854, 0.005411662279436236)\n",
      "m_grad =  (0.39924338156297917, 2.706367400336144e-06)\n",
      "a = 0.120000000000000 m = 0.997277887814471\n",
      "m_ind_fermi =  (1.194996849869706, 0.0054116660843517295)\n",
      "m_grad_fermi =  (0.39479045326978807, 2.7063235413034173e-06)\n",
      "a = 0.120000000000000 m = 0.991489419282912\n",
      "a = 0.130000000000000\n",
      "m_ind =  (1.1970454987130035, 0.005411664729052745)\n",
      "m_grad =  (0.39910854215277786, 2.1624016118701877e-06)\n",
      "a = 0.130000000000000 m = 0.996795034054818\n",
      "m_ind_fermi =  (1.1941141364890326, 0.005411669194820501)\n",
      "m_grad_fermi =  (0.39388047750743027, 2.1623701442335286e-06)\n",
      "a = 0.130000000000000 m = 0.989995511663719\n",
      "a = 0.140000000000000\n",
      "m_ind =  (1.1965622131034968, 0.00541166289263062)\n",
      "m_grad =  (0.3989616672360388, 1.688943830779669e-06)\n",
      "a = 0.140000000000000 m = 0.996269900282946\n",
      "m_ind_fermi =  (1.1931558142791236, 0.005411668071548803)\n",
      "m_grad_fermi =  (0.3928957187473106, 1.6889848585403305e-06)\n",
      "a = 0.140000000000000 m = 0.988376277522028\n",
      "a = 0.150000000000000\n",
      "m_ind =  (1.1960394008521256, 0.005411663293528157)\n",
      "m_grad =  (0.39880241910983405, 1.0322689017596194e-06)\n",
      "a = 0.150000000000000 m = 0.995701516634966\n",
      "m_ind_fermi =  (1.19212056598166, 0.005411669239311134)\n",
      "m_grad_fermi =  (0.39183564088138906, 1.0322692439080733e-06)\n",
      "a = 0.150000000000000 m = 0.986630172385874\n",
      "a = 0.200000000000000\n",
      "m_ind =  (1.1927949914577507, 0.005411664969900087)\n",
      "m_grad =  (0.39780490139544106, 4.54808978062049e-07)\n",
      "a = 0.200000000000000 m = 0.992166577377660\n",
      "m_ind_fermi =  (1.185731268570488, 0.005411675540608396)\n",
      "m_grad_fermi =  (0.3853806229848659, 4.548060077089189e-07)\n",
      "a = 0.200000000000000 m = 0.975926576296128\n",
      "a = 0.250000000000000\n",
      "m_ind =  (1.1883474248035728, 0.005411667719436686)\n",
      "m_grad =  (0.3964043334136757, 4.54809892448671e-07)\n",
      "a = 0.250000000000000 m = 0.987293131847707\n",
      "m_ind_fermi =  (1.1770802270999738, 0.005411684235890668)\n",
      "m_grad_fermi =  (0.37689470566837635, 4.54806179120415e-07)\n",
      "a = 0.250000000000000 m = 0.961645777306959\n"
     ]
    }
   ],
   "source": [
    "mass_hysteresis_array = []\n",
    "mass_hysteresis_lw_array = []\n",
    "mass_hysteresis_fermi_array = []\n",
    "for a in [0.05, 0.06, 0.07, 0.08, 0.09, 0.1, 0.11, 0.12, 0.13, 0.14, 0.15, 0.2, 0.25]:\n",
    "    m = mass_hysteresis(a)\n",
    "    m_f = mass_hysteresis_fermi(a)\n",
    "    mass_hysteresis_array += [(a, m, m_f)]\n",
    "    mass_hysteresis_lw_array += [(a, m)]\n",
    "    mass_hysteresis_fermi_array += [(a, m_f)]"
   ]
  },
  {
   "cell_type": "code",
   "execution_count": 27,
   "metadata": {},
   "outputs": [
    {
     "data": {
      "text/plain": [
       "[(0.0500000000000000, 0.999534239850258, 0.998533411926180),\n",
       " (0.0600000000000000, 0.999328457473833, 0.997886735153609),\n",
       " (0.0700000000000000, 0.999084549943472, 0.997121347048015),\n",
       " (0.0800000000000000, 0.998802151038892, 0.996236663037223),\n",
       " (0.0900000000000000, 0.998480826574296, 0.995231992053507),\n",
       " (0.100000000000000, 0.998120075645079, 0.994106531814520),\n",
       " (0.110000000000000, 0.997719316871170, 0.992859359089797),\n",
       " (0.120000000000000, 0.997277887814471, 0.991489419282912),\n",
       " (0.130000000000000, 0.996795034054818, 0.989995511663719),\n",
       " (0.140000000000000, 0.996269900282946, 0.988376277522028),\n",
       " (0.150000000000000, 0.995701516634966, 0.986630172385874),\n",
       " (0.200000000000000, 0.992166577377660, 0.975926576296128),\n",
       " (0.250000000000000, 0.987293131847707, 0.961645777306959)]"
      ]
     },
     "execution_count": 27,
     "metadata": {},
     "output_type": "execute_result"
    }
   ],
   "source": [
    "mass_hysteresis_array"
   ]
  },
  {
   "cell_type": "code",
   "execution_count": 30,
   "metadata": {},
   "outputs": [
    {
     "data": {
      "image/png": "[encoded data removed]",
      "text/plain": [
       "Graphics object consisting of 2 graphics primitives"
      ]
     },
     "execution_count": 30,
     "metadata": {},
     "output_type": "execute_result"
    }
   ],
   "source": [
    "list_plot(mass_hysteresis_lw_array) + list_plot(mass_hysteresis_fermi_array, color=\"green\")"
   ]
  },
  {
   "cell_type": "code",
   "execution_count": 76,
   "metadata": {},
   "outputs": [],
   "source": [
    "va = [ \n",
    "    0.0001,\n",
    "     0.001,\n",
    "     0.01,\n",
    "     0.1,\n",
    "     0.2,\n",
    "     0.3,\n",
    "     0.4,\n",
    "     0.5,\n",
    "     0.6,\n",
    "     0.7,\n",
    "     0.8,\n",
    "     0.9,\n",
    "     1.0,\n",
    "     2.0,\n",
    "     5.0,\n",
    "     10.0,\n",
    "     100.0,\n",
    "     1000.0,\n",
    "     1250.0,\n",
    "     1500.0,\n",
    "     1750.0,\n",
    "     2000.0,\n",
    "     2100.0\n",
    "    ]"
   ]
  },
  {
   "cell_type": "code",
   "execution_count": null,
   "metadata": {},
   "outputs": [
    {
     "name": "stdout",
     "output_type": "stream",
     "text": [
      "0.000100000000000000 (inf, inf)\n",
      "0.00100000000000000 (inf, inf)\n",
      "0.0100000000000000 (inf, inf)\n",
      "0.100000000000000 (1.1982659892561969, 0.005411660537869789)\n",
      "0.200000000000000 (1.1927949914577507, 0.005411664969900087)\n"
     ]
    },
    {
     "name": "stderr",
     "output_type": "stream",
     "text": [
      "/usr3/articles/sagemath_docker_build/sage/local/lib/python3.10/site-packages/scipy/integrate/quadpack.py:879: IntegrationWarning: The maximum number of subdivisions (20) has been achieved.\n",
      "  If increasing the limit yields no improvement it is advised to analyze \n",
      "  the integrand in order to determine the difficulties.  If the position of a \n",
      "  local difficulty can be determined (singularity, discontinuity) one will \n",
      "  probably gain from splitting up the interval and calling the integrator \n",
      "  on the subranges.  Perhaps a special-purpose integrator should be used.\n",
      "  quad_r = quad(f, low, high, args=args, full_output=self.full_output,\n"
     ]
    },
    {
     "name": "stdout",
     "output_type": "stream",
     "text": [
      "0.300000000000000 (nan, 0.00665065085663652)\n"
     ]
    }
   ],
   "source": [
    "for a in va:\n",
    "    print(a, inductive_sphere_mass_on_a(1,1,1,a))"
   ]
  },
  {
   "cell_type": "code",
   "execution_count": 29,
   "metadata": {},
   "outputs": [
    {
     "name": "stderr",
     "output_type": "stream",
     "text": [
      "/usr3/articles/sagemath_docker_build/sage/local/lib/python3.10/site-packages/scipy/integrate/quadpack.py:879: IntegrationWarning: The occurrence of roundoff error is detected, which prevents \n",
      "  the requested tolerance from being achieved.  The error may be \n",
      "  underestimated.\n",
      "  quad_r = quad(f, low, high, args=args, full_output=self.full_output,\n",
      "/usr3/articles/sagemath_docker_build/sage/local/lib/python3.10/site-packages/scipy/integrate/quadpack.py:879: IntegrationWarning: The maximum number of subdivisions (50) has been achieved.\n",
      "  If increasing the limit yields no improvement it is advised to analyze \n",
      "  the integrand in order to determine the difficulties.  If the position of a \n",
      "  local difficulty can be determined (singularity, discontinuity) one will \n",
      "  probably gain from splitting up the interval and calling the integrator \n",
      "  on the subranges.  Perhaps a special-purpose integrator should be used.\n",
      "  quad_r = quad(f, low, high, args=args, full_output=self.full_output,\n",
      "/usr3/articles/sagemath_docker_build/sage/local/lib/python3.10/site-packages/scipy/integrate/quadpack.py:879: IntegrationWarning: The algorithm does not converge.  Roundoff error is detected\n",
      "  in the extrapolation table.  It is assumed that the requested tolerance\n",
      "  cannot be achieved, and that the returned result (if full_output = 1) is \n",
      "  the best which can be obtained.\n",
      "  quad_r = quad(f, low, high, args=args, full_output=self.full_output,\n"
     ]
    },
    {
     "name": "stdout",
     "output_type": "stream",
     "text": [
      "-0.200000000000000 (-0.3853806229848659, 5.061357680252008e-07)\n",
      "-0.100000000000000 (-0.3963878789970252, 4.23679882968413e-06)\n",
      "0.100000000000000 (0.3963878789970253, 4.4437535411935865e-06)\n",
      "0.200000000000000 (0.3853806229848659, 4.548060077089189e-07)\n"
     ]
    }
   ],
   "source": [
    "for a in [-0.2,-0.1, 0.1, 0.2]:\n",
    "    print(a, gradient_sphere_mass_fermi(1,1,1,a))"
   ]
  },
  {
   "cell_type": "code",
   "execution_count": null,
   "metadata": {},
   "outputs": [
    {
     "name": "stderr",
     "output_type": "stream",
     "text": [
      "/usr3/articles/sagemath_docker_build/sage/local/lib/python3.10/site-packages/scipy/integrate/quadpack.py:879: IntegrationWarning: The occurrence of roundoff error is detected, which prevents \n",
      "  the requested tolerance from being achieved.  The error may be \n",
      "  underestimated.\n",
      "  quad_r = quad(f, low, high, args=args, full_output=self.full_output,\n",
      "/usr3/articles/sagemath_docker_build/sage/local/lib/python3.10/site-packages/scipy/integrate/quadpack.py:879: IntegrationWarning: The maximum number of subdivisions (50) has been achieved.\n",
      "  If increasing the limit yields no improvement it is advised to analyze \n",
      "  the integrand in order to determine the difficulties.  If the position of a \n",
      "  local difficulty can be determined (singularity, discontinuity) one will \n",
      "  probably gain from splitting up the interval and calling the integrator \n",
      "  on the subranges.  Perhaps a special-purpose integrator should be used.\n",
      "  quad_r = quad(f, low, high, args=args, full_output=self.full_output,\n",
      "/usr3/articles/sagemath_docker_build/sage/local/lib/python3.10/site-packages/scipy/integrate/quadpack.py:879: IntegrationWarning: The algorithm does not converge.  Roundoff error is detected\n",
      "  in the extrapolation table.  It is assumed that the requested tolerance\n",
      "  cannot be achieved, and that the returned result (if full_output = 1) is \n",
      "  the best which can be obtained.\n",
      "  quad_r = quad(f, low, high, args=args, full_output=self.full_output,\n"
     ]
    },
    {
     "name": "stdout",
     "output_type": "stream",
     "text": [
      "-0.200000000000000 (-0.397804901395441, 5.061631976670979e-07)\n",
      "-0.100000000000000 (-0.3994781015178971, 4.236751755173836e-06)\n"
     ]
    }
   ],
   "source": [
    "for a in [-0.2,-0.1, 0.1, 0.2]:\n",
    "    print(a, gradient_sphere_mass_on_a(1,1,1,a))"
   ]
  },
  {
   "cell_type": "code",
   "execution_count": 11,
   "metadata": {},
   "outputs": [
    {
     "name": "stdout",
     "output_type": "stream",
     "text": [
      "-0.200000000000000 (-1.1927949914577507, 0.005411664970004448)\n",
      "-0.100000000000000 (-1.1982659892561969, 0.005411660536732477)\n",
      "0.100000000000000 (1.1982659892561969, 0.005411660537869789)\n",
      "0.200000000000000 (1.1927949914577507, 0.005411664969900087)\n"
     ]
    }
   ],
   "source": [
    "for a in [-0.2,-0.1, 0.1, 0.2]:\n",
    "    print(a, inductive_sphere_mass_on_a(1,1,1,a))"
   ]
  },
  {
   "cell_type": "code",
   "execution_count": 28,
   "metadata": {},
   "outputs": [
    {
     "name": "stdout",
     "output_type": "stream",
     "text": [
      "-0.200000000000000 (-1.1857312685704882, 0.005411675540702543)\n",
      "-0.100000000000000 (-1.1965399591803991, 0.0054116631793981185)\n",
      "0.100000000000000 (1.1965399591803991, 0.005411663180552306)\n",
      "0.200000000000000 (1.185731268570488, 0.005411675540608396)\n"
     ]
    }
   ],
   "source": [
    "for a in [-0.2,-0.1, 0.1, 0.2]:\n",
    "    print(a, inductive_sphere_mass_fermi(1,1,1,a))"
   ]
  },
  {
   "cell_type": "code",
   "execution_count": null,
   "metadata": {},
   "outputs": [],
   "source": [
    "for a in [-0.4, -0.3, -0.2, -0.1, 0.1, 0.2, 0.3, 0.4]:\n",
    "    print(a, inductive_sphere_mass_fermi(1,1,1,a))"
   ]
  },
  {
   "cell_type": "code",
   "execution_count": null,
   "metadata": {},
   "outputs": [],
   "source": [
    "# 0.000100000000000000 (inf, inf)\n",
    "# 0.00100000000000000 (inf, inf)\n",
    "# 0.0100000000000000 (inf, inf)\n",
    "# 0.100000000000000 (1.1982659892561969, 0.005411660537869789)\n",
    "# 0.200000000000000 (1.1927949914577507, 0.005411664969900087)"
   ]
  },
  {
   "cell_type": "markdown",
   "metadata": {},
   "source": [
    "\n",
    "Поскольку расстояние между координатами заряда и точки наблюдения ${{R}_{0}}=\\left|\\overrightarrow{r_{q}} - \\overrightarrow{r_{a}}\\right|$ находится в знаменателе, то в сферической системе координат можно применить разложение по сферическим гармоникам следующего вида  \\cite{flugge} если $\\left( {{r}_{q}}<{{r}_{a}} \\right)$ то\n",
    "\n",
    "$\\frac{1}{\\left| \\overrightarrow{{{r}_{q}}}-\\overrightarrow{{{r}_{a}}} \\right|}=\\frac{1}{{{r}_{a}}}\\sum\\limits_{l=0}^{\\infty }{{{\\left( \\frac{{{r}_{q}}}{{{r}_{a}}} \\right)}^{l}}{{P}_{l}} \\cos \\left( \\gamma  \\right)}$\n",
    "\n",
    "и если $\\left( {{r}_{a}}<{{r}_{q}} \\right)$ то\n",
    "\n",
    "$\\frac{1}{\\left| \\overrightarrow{{{r}_{q}}}-\\overrightarrow{{{r}_{a}}} \\right|}=\\frac{1}{{{r}_{q}}}\\sum\\limits_{l=0}^{\\infty }{{{\\left( \\frac{{{r}_{a}}}{{{r}_{q}}} \\right)}^{l}}{{P}_{l}} \\cos \\left( \\gamma  \\right)}$\n",
    "\n",
    "В данной формуле ${{P}_{l}} \\cos \\left( \\gamma  \\right)$ это полиномы Лежандра аргумент которых $\\gamma$ есть угол между векторами ${{r}_{q}}$  и ${{r}_{a}}$. Применяя формулу, известную как теорему сложения\n",
    "\n",
    "${{P}_{l}}\\cos \\left( \\gamma  \\right)=\\frac{4\\pi }{2l+1}\\sum\\limits_{m=-l}^{l}{Y_{l,m}^{*}\\left( {{\\theta }_{a}},{{\\varphi }_{a}} \\right)}\\ {{Y}_{l,m}}\\left( {{\\theta }_{q}},{{\\varphi }_{q}} \\right)$\n",
    "\n",
    "получаем способ аналитического вычисления интеграла индукционной компоненты инертной электромагнитной массы.\n"
   ]
  },
  {
   "cell_type": "code",
   "execution_count": 1,
   "metadata": {},
   "outputs": [],
   "source": [
    "# З.Флюгге Задачи по квантовой механике, том 2, стр. 299 формула (24)\n",
    "def legendre_summ(l, theta_q, phi_q, theta_a, phi_a):\n",
    "    from sage.functions.special import spherical_harmonic\n",
    "    m = var(\"m\")\n",
    "    f = lambda l, m, theta_q, phi_q, theta_a, phi_a \\\n",
    "        : spherical_harmonic(l, m, theta_q, phi_q) \\\n",
    "        * conjugate(spherical_harmonic(l, m, theta_a, phi_a))\n",
    "    return 4 * pi / (2*l + 1) * sum(f(l, m, theta_q, phi_q, theta_a, phi_a), m, -l, l)"
   ]
  },
  {
   "cell_type": "code",
   "execution_count": 13,
   "metadata": {},
   "outputs": [],
   "source": [
    "# З.Флюгге Задачи по квантовой механике, том 2, стр. 299 формула (24)\n",
    "def legendre_sym(l):\n",
    "    from sage.functions.special import spherical_harmonic\n",
    "    P_l = function(\"P_l\")(l,x)\n",
    "    gamma = var(\"gamma\")\n",
    "    return P_l(l=l, x=cos(gamma))"
   ]
  },
  {
   "cell_type": "raw",
   "metadata": {},
   "source": [
    "for l in range(3):\n",
    "    theta_q, phi_q = var('theta_q, phi_q')\n",
    "    assume(theta_q, 'real')\n",
    "    assume(phi_q, 'real')\n",
    "\n",
    "    theta_a, phi_a = var('theta_a, phi_a')\n",
    "    assume(theta_a, 'real')\n",
    "    assume(phi_a, 'real')\n",
    "    \n",
    "    l_s = legendre_sym(l)\n",
    "    print(\"l =\", l)\n",
    "    show(l_s)\n",
    "    \n",
    "    r_q, r_a = var(\"r_q, r_a\")\n",
    "    R = var(\"R\")\n",
    "    rho_q = var(\"rho\")\n",
    "    \n",
    "    # З.Флюгге Задачи по квантовой механике, том 2, стр. 300 формула (29)\n",
    "\n",
    "    # if r_q < r_a\n",
    "    potential_1 = ((1/r_a)*((r_q/r_a)^l) * legendre_sym(l))\n",
    "\n",
    "    # if r_a < r_q\n",
    "    potential_2 = ((1/r_q)*((r_a/r_q)^l) * legendre_sym(l))\n",
    "\n",
    "    show(potential_1)\n",
    "    show(potential_2)"
   ]
  },
  {
   "cell_type": "code",
   "execution_count": 26,
   "metadata": {},
   "outputs": [],
   "source": [
    "def legendre_summ_of_inductive_mass_of_proton(l):\n",
    "    # http://www.actaphys.uj.edu.pl/fulltext?series=Reg&vol=30&page=119\n",
    "    # the rms charge radius of the proton being\n",
    "    # rp_rms = 0.8\n",
    "    # r0 = 2/3 * rp_rms\n",
    "    # the charge distribution of the proton\n",
    "    # g(r) = exp(-r^2/r__0^2)/(r__0^3*sqrt(pi)^3)\n",
    "\n",
    "    forget()\n",
    "\n",
    "    theta_q, phi_q = var('theta_q, phi_q')\n",
    "    assume(theta_q, 'real')\n",
    "    assume(phi_q, 'real')\n",
    "\n",
    "    theta_a, phi_a = var('theta_a, phi_a')\n",
    "    assume(theta_a, 'real')\n",
    "    assume(phi_a, 'real')\n",
    "\n",
    "    r_q, r_a = var(\"r_q, r_a\")\n",
    "    R = var(\"R\")\n",
    "\n",
    "    rho_q = lambda r0, r : exp(-r^2/r0^2)/(r0^3*sqrt(pi)^3)\n",
    "\n",
    "    print (latex(rho_q(var(\"r0\"), r_q)))\n",
    "\n",
    "    assume(r_a>0)\n",
    "    assume(r_a<R)\n",
    "    #assume(R>0)\n",
    "\n",
    "    R = infinity\n",
    "    rp_rms = 0.8\n",
    "    r0 = 2/3 * rp_rms\n",
    "\n",
    "    # З.Флюгге Задачи по квантовой механике, том 2, стр. 300 формула (29)\n",
    "\n",
    "    # if r_q < r_a\n",
    "    potential_1 = ((1/r_a)*((r_q/r_a)^l)*rho_q(r0, r_q)*sin(theta_q)*(r_q^2) \\\n",
    "                   * legendre_summ(l, theta_q, phi_q, theta_a, phi_a)) \\\n",
    "                       .integrate(theta_q, 0, pi).integrate(phi_q, 0, 2*pi).integrate(r_q, 0, r_a)\n",
    "\n",
    "    # if r_a < r_q\n",
    "    potential_2 = ((1/r_q)*((r_a/r_q)^l)*rho_q(r0, r_q)*sin(theta_q)*(r_q^2) \\\n",
    "                   * legendre_summ(l, theta_q, phi_q, theta_a, phi_a))\n",
    "                       .integrate(theta_q, 0, pi).integrate(phi_q, 0, 2*pi).integrate(r_q, r_a, R)\n",
    "\n",
    "    potential = potential_1 + potential_2\n",
    "\n",
    "    return (potential * rho_q(r0, r_a) * sin(theta_a) * r_a^2) \\\n",
    "        .integrate(r_a, 0, R).integrate(theta_a, 0, pi).integrate(phi_a, 0, 2*pi)"
   ]
  },
  {
   "cell_type": "code",
   "execution_count": 27,
   "metadata": {},
   "outputs": [],
   "source": [
    "def legendre_summ_of_inductive_mass_of_neutron(l):\n",
    "    # http://www.actaphys.uj.edu.pl/fulltext?series=Reg&vol=30&page=119\n",
    "\n",
    "    # the rms value of g__n\n",
    "    r2 = -0.113\n",
    "\n",
    "    # The third parameter r1 is a scaling parameter, which is necessary to define\n",
    "    # a dimensionless quantity (r/r1) in the Gaussian exponent. The results of\n",
    "    # QCD-calculations of the charge density distribution inside the neutron [2]\n",
    "    # are best reproduced by choosing:\n",
    "    r1 = 0.71*sqrt(2/5) # fm\n",
    "\n",
    "    # the charge density distribution within the neutron\n",
    "    # gn(r) = (-2/3)*(r2 / (r1^2 * (r1*sqrt(pi))^3)) * (r/r1)^2 * (1 - (2/5)*r^2/r1^2) * exp(-r^2/r1^2)\n",
    "    \n",
    "    forget()\n",
    "\n",
    "    theta_q, phi_q = var('theta_q, phi_q')\n",
    "    assume(theta_q, 'real')\n",
    "    assume(phi_q, 'real')\n",
    "\n",
    "    theta_a, phi_a = var('theta_a, phi_a')\n",
    "    assume(theta_a, 'real')\n",
    "    assume(phi_a, 'real')\n",
    "\n",
    "    r_q, r_a = var(\"r_q, r_a\")\n",
    "    R = var(\"R\")\n",
    "\n",
    "    rho_q = lambda r1, r2, r : (-2/3)*(r2 / (r1^2 * (r1*sqrt(pi))^3)) * (r/r1)^2 * (1 - (2/5)*r^2/r1^2) * exp(-r^2/r1^2)\n",
    "\n",
    "    print (latex(rho_q(var(\"r1\"), var(\"r2\"), r_q)))\n",
    "\n",
    "    assume(r_a>0)\n",
    "    assume(r_a<R)\n",
    "    #assume(R>0)\n",
    "\n",
    "    R = infinity\n",
    "\n",
    "    # if r_q < r_a\n",
    "    potential_1 = ((1/r_a)*((r_q/r_a)^l)*rho_q(r1, r2, r_q)*sin(theta_q)*(r_q^2) \\\n",
    "                   *legendre_summ(l, theta_q, phi_q, theta_a, phi_a)) \\\n",
    "        .integrate(theta_q, 0, pi).integrate(phi_q, 0, 2*pi).integrate(r_q, 0, r_a)\n",
    "\n",
    "    # if r_a < r_q\n",
    "    potential_2 = ((1/r_q)*((r_a/r_q)^l)*rho_q(r1, r2, r_q)*sin(theta_q)*(r_q^2) \\\n",
    "                   *legendre_summ(l, theta_q, phi_q, theta_a, phi_a)) \\\n",
    "        .integrate(theta_q, 0, pi).integrate(phi_q, 0, 2*pi).integrate(r_q, r_a, R)\n",
    "\n",
    "    potential = potential_1 + potential_2\n",
    "\n",
    "    return (potential * rho_q(r1, r2, r_a) * sin(theta_a) * r_a^2) \\\n",
    "        .integrate(r_a, 0, R).integrate(theta_a, 0, pi).integrate(phi_a, 0, 2*pi)"
   ]
  },
  {
   "cell_type": "markdown",
   "metadata": {},
   "source": [
    "\n",
    "\\section{Рассчёт Мисюченко через индуктивность}\n",
    "\n",
    "В работе \\cite{misyuchenko} приводится способ вычисления инертной электромагнитной массы электрона исходя из коэффициента самоиндукции сферы и производной тока сферы по времени. Результат вычислений электромагнитной массы электрона авторы приводят следующий $m =\\frac{{{\\mu }_{0}}}{8\\pi }\\frac{e^2}{{{r}_{0}}}$ (СИ) то есть в два раза меньший, чем полученный в данной работе.\n",
    "\n",
    "Анализ показывает, что приведенная авторами формула коэффициента самоиндукции сферы $L =\\frac{{{\\mu }_{0}}{r}_{0}}{2\\pi }$ (СИ) в 2 раза занижена. Автором данной работы было произведено вычисление коэффициента самоиндукции сферической поверхности с равномерно распределённым поверхностным зарядом. Получена формула $L =\\frac{{{\\mu }_{0}}{r}_{0}}{\\pi }$ (СИ) .\n",
    "\n",
    "Далее авторы  работы \\cite{misyuchenko} пишут, \"Отметим тот важный факт, что выведенная из закона самоиндукции масса полностью совпадает с Эйнштейновской массой $m=\\frac{U}{c^2}$ , если под полной энергией электрона U понимать собственную энергию его электрического поля.\"\n",
    "\n",
    "Однако с учётом исправленного значения коэффициента самоиндукции сферы данное утверждение становится неверным.\n"
   ]
  },
  {
   "cell_type": "code",
   "execution_count": 5,
   "metadata": {},
   "outputs": [],
   "source": [
    "def legendre_summ_of_inductivity_of_sphere(l):\n",
    "    forget()\n",
    "    theta_q, phi_q = var('theta_q, phi_q')\n",
    "    assume(theta_q, 'real')\n",
    "    assume(phi_q, 'real')\n",
    "\n",
    "    theta_a, phi_a = var('theta_a, phi_a')\n",
    "    assume(theta_a, 'real')\n",
    "    assume(phi_a, 'real')\n",
    "\n",
    "    r_q, r_a = var(\"r_q, r_a\")\n",
    "    R = var(\"R\")\n",
    "    rho = var(\"rho\")\n",
    "\n",
    "    assume(r_a>0)\n",
    "    assume(r_a<R)\n",
    "    #assume(R>0)\n",
    "\n",
    "    v = var(\"v\")\n",
    "\n",
    "    # if r_q < r_a\n",
    "    A_1 = ((1/r_a)*((r_q/r_a)^var(\"l\"))*rho*v*sin(theta_q)*(r_q^2) \\\n",
    "        * legendre_summ(var(\"l\"), theta_q, phi_q, theta_a, phi_a)) \\\n",
    "            .integrate(theta_q, 0, pi, hold=True) \\\n",
    "            .integrate(phi_q, 0, 2*pi, hold=True) \\\n",
    "            .integrate(r_q, 0, r_a, hold=True)\n",
    "    \n",
    "    displ(\"A_1=\" + latex(A_1))\n",
    "    \n",
    "    A1 = ((1/r_a)*((r_q/r_a)^l)*rho*v*sin(theta_q)*(r_q^2) \\\n",
    "        * legendre_summ(l, theta_q, phi_q, theta_a, phi_a)) \\\n",
    "            .integrate(theta_q, 0, pi).integrate(phi_q, 0, 2*pi).integrate(r_q, 0, r_a)\n",
    "    \n",
    "    disp(A1)\n",
    "\n",
    "    # if r_a < r_q\n",
    "    A_2 = ((1/r_q)*((r_a/r_q)^var(\"l\"))*rho*v*sin(theta_q)*(r_q^2) \\\n",
    "        * legendre_summ(var(\"l\"), theta_q, phi_q, theta_a, phi_a)) \\\n",
    "            .integrate(theta_q, 0, pi, hold=True) \\\n",
    "            .integrate(phi_q, 0, 2*pi, hold=True) \\\n",
    "            .integrate(r_q, r_a, R, hold=True)\n",
    "    \n",
    "    displ(\"A_2=\" + latex(A_2))\n",
    "\n",
    "    # if r_a < r_q\n",
    "    A2 = ((1/r_q)*((r_a/r_q)^l)*rho*v*sin(theta_q)*(r_q^2) \\\n",
    "        * legendre_summ(l, theta_q, phi_q, theta_a, phi_a)) \\\n",
    "            .integrate(theta_q, 0, pi).integrate(phi_q, 0, 2*pi).integrate(r_q, r_a, R)\n",
    "    \n",
    "    disp(A2)\n",
    "\n",
    "    A = A1 + A2\n",
    "\n",
    "    V = 4/3 * pi * R^3\n",
    "    q = rho * V\n",
    "    # J = (rho*v).integrate(dS) -> (mean) -> (rho*v).integrate(dV) / (2*R) = q*v / (2 * R)\n",
    "    J = q * v / (2 * R)\n",
    "\n",
    "    return var(\"mu_0\") / (4*pi) * (A * rho * v * sin(theta_a) * r_a^2) \\\n",
    "        .integrate(r_a, 0, R).integrate(theta_a, 0, pi).integrate(phi_a, 0, 2*pi) / (J^2)"
   ]
  },
  {
   "cell_type": "code",
   "execution_count": 38,
   "metadata": {},
   "outputs": [
    {
     "data": {
      "text/latex": [
       "$\\displaystyle A_1= \\int_{0}^{r_{a}} \\int_{0}^{2 \\, \\pi} \\int_{0}^{\\pi} \\frac{4 \\, \\pi r_{q}^{2} \\rho v \\left(\\frac{r_{q}}{r_{a}}\\right)^{l} \\sin\\left(\\theta_{q}\\right) {\\sum_{m=-l}^{l} \\overline{Y_{l}^{m}\\left(\\theta_{a}, \\phi_{a}\\right)} Y_{l}^{m}\\left(\\theta_{q}, \\phi_{q}\\right)}}{{\\left(2 \\, l + 1\\right)} r_{a}}\\,{d \\theta_{q}}\\,{d \\phi_{q}}\\,{d r_{q}}$"
      ],
      "text/plain": [
       "<IPython.core.display.Math object>"
      ]
     },
     "metadata": {},
     "output_type": "display_data"
    },
    {
     "data": {
      "text/latex": [
       "$\\displaystyle \\frac{4}{3} \\, \\pi r_{a}^{2} \\rho v$"
      ],
      "text/plain": [
       "<IPython.core.display.Math object>"
      ]
     },
     "metadata": {},
     "output_type": "display_data"
    },
    {
     "data": {
      "text/latex": [
       "$\\displaystyle A_2= \\int_{r_{a}}^{R} \\int_{0}^{2 \\, \\pi} \\int_{0}^{\\pi} \\frac{4 \\, \\pi r_{q} \\rho v \\left(\\frac{r_{a}}{r_{q}}\\right)^{l} \\sin\\left(\\theta_{q}\\right) {\\sum_{m=-l}^{l} \\overline{Y_{l}^{m}\\left(\\theta_{a}, \\phi_{a}\\right)} Y_{l}^{m}\\left(\\theta_{q}, \\phi_{q}\\right)}}{2 \\, l + 1}\\,{d \\theta_{q}}\\,{d \\phi_{q}}\\,{d r_{q}}$"
      ],
      "text/plain": [
       "<IPython.core.display.Math object>"
      ]
     },
     "metadata": {},
     "output_type": "display_data"
    },
    {
     "data": {
      "text/latex": [
       "$\\displaystyle 2 \\, \\pi {\\left(R^{2} - r_{a}^{2}\\right)} \\rho v$"
      ],
      "text/plain": [
       "<IPython.core.display.Math object>"
      ]
     },
     "metadata": {},
     "output_type": "display_data"
    },
    {
     "data": {
      "text/latex": [
       "$\\displaystyle \\frac{6 \\, R \\mu_{0}}{5 \\, \\pi}$"
      ],
      "text/plain": [
       "<IPython.core.display.Math object>"
      ]
     },
     "metadata": {},
     "output_type": "display_data"
    }
   ],
   "source": [
    "disp(legendre_summ_of_inductivity_of_sphere(0))"
   ]
  },
  {
   "cell_type": "code",
   "execution_count": 6,
   "metadata": {},
   "outputs": [],
   "source": [
    "def legendre_summ_of_gradient_mass_of_sphere_1(l):\n",
    "    forget()\n",
    "    theta_q, phi_q = var('theta_q, phi_q')\n",
    "    assume(theta_q, 'real')\n",
    "    assume(phi_q, 'real')\n",
    "\n",
    "    theta_a, phi_a = var('theta_a, phi_a')\n",
    "    assume(theta_a, 'real')\n",
    "    assume(phi_a, 'real')\n",
    "\n",
    "    r_q, r_a = var(\"r_q, r_a\")\n",
    "    R = var(\"R\")\n",
    "    rho = var(\"rho\")\n",
    "\n",
    "    assume(r_a>0)\n",
    "    assume(r_a<R)\n",
    "    #assume(R>0)\n",
    "    \n",
    "    za_minus_zq = r_a*cos(theta_a) - r_q*cos(theta_q)\n",
    "    # https://math.stackexchange.com/questions/2700052/expressing-angle-between-two-vectors-in-3d-in-terms-of-spherical-polar-coordinat\n",
    "    # vec_r_a = r_a * sin(theta_a)*cos(phi_a) * i + r_a * sin(theta_a)*sin(phi_a) * j + r_a * cos(theta_a)\n",
    "    # vec_r_q = r_q * sin(theta_q)*cos(phi_q) * i + r_q * sin(theta_q)*sin(phi_q) * j + r_a * cos(theta_q)\n",
    "    # vec_r_a_dot_vec_r_q = r_a * r_q *\n",
    "    #                     ( sin(theta_a)*cos(phi_a)*sin(theta_q)*cos(phi_q)\n",
    "    #                     + sin(theta_a)*sin(phi_a)*sin(theta_q)*sin(phi_q)\n",
    "    #                     + cos(theta_a) * cos(theta_q))\n",
    "    #                     )\n",
    "    cos_gamma = sin(theta_a)*cos(phi_a)*sin(theta_q)*cos(phi_q) \\\n",
    "              + sin(theta_a)*sin(phi_a)*sin(theta_q)*sin(phi_q) \\\n",
    "              + cos(theta_a) * cos(theta_q)\n",
    "\n",
    "    # if r_q < r_a\n",
    "    # one_per_R_1 = ((1/r_a)*((r_q/r_a)^l)*legendre_summ(l, theta_q, phi_q, theta_a, phi_a))\n",
    "    one_per_R3_1 = ((l/(r_a^3*(cos_gamma - (r_q/r_a))))*((r_q/r_a)^(l-1))*legendre_summ(l, theta_q, phi_q, theta_a, phi_a))\n",
    "    integrand_1 = (za_minus_zq * one_per_R3_1*sin(theta_q)*(r_q^2))\n",
    "    integral_1  = integrand_1.integrate(theta_q, 0, pi).integrate(phi_q, 0, 2*pi).integrate(r_q, 0, r_a)\n",
    "\n",
    "    # if r_a < r_q\n",
    "    # one_per_R_2 = ((1/r_q)*((r_a/r_q)^l)*legendre_summ(l, theta_q, phi_q, theta_a, phi_a))\n",
    "    one_per_R3_2 = ((l/(r_q^3*(cos_gamma - (r_a/r_q))))*((r_a/r_q)^(l-1))*legendre_summ(l, theta_q, phi_q, theta_a, phi_a))\n",
    "    integrand_2 = (za_minus_zq * one_per_R3_2*sin(theta_q)*(r_q^2))\n",
    "    integral_2  = integrand_2.integrate(theta_q, 0, pi).integrate(phi_q, 0, 2*pi).integrate(r_q, r_a, R)\n",
    "\n",
    "    field = rho * (integral_1 + integral_2)\n",
    "\n",
    "    return ( field * rho * sin(theta_a) * r_a^2).integrate(r_a, 0, R).integrate(theta_a, 0, pi).integrate(phi_a, 0, 2*pi)\n"
   ]
  },
  {
   "cell_type": "code",
   "execution_count": 39,
   "metadata": {},
   "outputs": [
    {
     "data": {
      "text/plain": [
       "0"
      ]
     },
     "execution_count": 39,
     "metadata": {},
     "output_type": "execute_result"
    }
   ],
   "source": [
    "legendre_summ_of_gradient_mass_of_sphere_1(0)"
   ]
  },
  {
   "cell_type": "code",
   "execution_count": 7,
   "metadata": {},
   "outputs": [],
   "source": [
    "def legendre_summ_of_gradient_mass_of_sphere(l):\n",
    "    forget()\n",
    "    theta_q, phi_q = var('theta_q, phi_q')\n",
    "    assume(theta_q, 'real')\n",
    "    assume(phi_q, 'real')\n",
    "\n",
    "    theta_a, phi_a = var('theta_a, phi_a')\n",
    "    assume(theta_a, 'real')\n",
    "    assume(phi_a, 'real')\n",
    "\n",
    "    r_q, r_a = var(\"r_q, r_a\")\n",
    "    assume(r_a, 'real')\n",
    "    assume(r_q, 'real')\n",
    "    R = var(\"R\")\n",
    "    rho = var(\"rho\")\n",
    "    assume(R, 'real')\n",
    "    assume(rho, 'real')\n",
    "\n",
    "    assume(r_a>0)\n",
    "    assume(r_a<R)\n",
    "    assume(r_q>0)\n",
    "    assume(r_q<R)\n",
    "    assume(R>0)\n",
    "    \n",
    "    \n",
    "    #ValueError: Computation failed since Maxima requested additional constraints; \n",
    "    #using the 'assume' command before evaluation *may* help (example of legal syntax is '\n",
    "    #assume((4*sin(phi_a)^2*sin(phi_q)^2\n",
    "    #    +8*cos(phi_a)*sin(phi_a)*cos(phi_q)\n",
    "    #      *sin(phi_q)+4*cos(phi_a)^2*cos(phi_q)^2)\n",
    "    #      *r_a^2*sin(theta_a)^2\n",
    "    #    +4*r_a^2*cos(theta_a)^2-4*r_q^2 > 0)\n",
    "    \n",
    "    assume((4*sin(phi_a)^2*sin(phi_q)^2 +8*cos(phi_a)*sin(phi_a)*cos(phi_q)*sin(phi_q)+4*cos(phi_a)^2*cos(phi_q)^2) * r_a^2*sin(theta_a)^2 + 4*r_a^2*cos(theta_a)^2-4*r_q^2 > 0)\n",
    "    \n",
    "    za_minus_zq = r_a*cos(theta_a) - r_q*cos(theta_q)\n",
    "    # https://math.stackexchange.com/questions/2700052/expressing-angle-between-two-vectors-in-3d-in-terms-of-spherical-polar-coordinat\n",
    "    # vec_r_a = r_a * sin(theta_a)*cos(phi_a) * i + r_a * sin(theta_a)*sin(phi_a) * j + r_a * cos(theta_a)\n",
    "    # vec_r_q = r_q * sin(theta_q)*cos(phi_q) * i + r_q * sin(theta_q)*sin(phi_q) * j + r_a * cos(theta_q)\n",
    "    # vec_r_a_dot_vec_r_q = r_a * r_q *\n",
    "    #                     ( sin(theta_a)*cos(phi_a)*sin(theta_q)*cos(phi_q)\n",
    "    #                     + sin(theta_a)*sin(phi_a)*sin(theta_q)*sin(phi_q)\n",
    "    #                     + cos(theta_a) * cos(theta_q))\n",
    "    #                     )\n",
    "    cos_gamma = sin(theta_a)*cos(phi_a)*sin(theta_q)*cos(phi_q) \\\n",
    "              + sin(theta_a)*sin(phi_a)*sin(theta_q)*sin(phi_q) \\\n",
    "              + cos(theta_a) * cos(theta_q)\n",
    "\n",
    "    # if r_q < r_a\n",
    "    #one_per_R_1 = ((1/r_a)*((r_q/r_a)^l)*legendre_summ(l, theta_q, phi_q, theta_a, phi_a))\n",
    "    one_per_R3_1 = ((l/(r_a^3*(cos_gamma - (r_q/r_a))))*((r_q/r_a)^(l-1))*legendre_summ(l, theta_q, phi_q, theta_a, phi_a))\n",
    "    integrand_1 = (za_minus_zq^2 * one_per_R3_1*sin(theta_q)*(r_q^2))\n",
    "    print(\"integrand_1\", integrand_1)\n",
    "    integrand_1 = integrand_1.subs(phi_a == 0)\n",
    "    print(\"integrand_1\", integrand_1)\n",
    "    \n",
    "    assume(r_q < r_a)\n",
    "    #integral_1  = integrand_1.integrate(theta_q, 0, pi).integrate(phi_q, 0, 2*pi).integrate(r_q, 0, r_a)\n",
    "    integral_1  = integrand_1.integrate(theta_q, 0, pi)\n",
    "    integral_1  = integral_1.integrate(phi_q, 0, 2*pi)\n",
    "    integral_1  = integral_1.integrate(r_q, 0, r_a)\n",
    "    \n",
    "    #Is cos(phi_q)^2*r_a^2*sin(theta_a)^2 + r_a^2*cos(theta_a)^2-r_q^2\n",
    "    #positive or negative?\n",
    "    \n",
    "    # if r_a < r_q\n",
    "    #one_per_R_2 = ((1/r_q)*((r_a/r_q)^l)*legendre_summ(l, theta_q, phi_q, theta_a, phi_a))\n",
    "    one_per_R3_2 = ((l/(r_q^3*(cos_gamma - (r_a/r_q))))*((r_a/r_q)^(l-1))*legendre_summ(l, theta_q, phi_q, theta_a, phi_a))\n",
    "    integrand_2 = (za_minus_zq^2 * one_per_R3_2*sin(theta_q)*(r_q^2))\n",
    "    print(\"integrand_2\", integrand_2)\n",
    "    integrand_2 = integrand_2.expand()\n",
    "    print(\"integrand_2\", integrand_2)\n",
    "    #integral_2  = integrand_2.integrate(theta_q, 0, pi).integrate(phi_q, 0, 2*pi).integrate(r_q, r_a, R)\n",
    "    integral_2  = integrand_2.integrate(phi_q, 0, 2*pi).integrate(r_q, r_a, R).integrate(theta_q, 0, pi)\n",
    "\n",
    "    field = rho * (integral_1 + integral_2)\n",
    "\n",
    "    return ( field * rho * sin(theta_a) * r_a^2).integrate(r_a, 0, R).integrate(theta_a, 0, pi).integrate(phi_a, 0, 2*pi)\n"
   ]
  },
  {
   "cell_type": "code",
   "execution_count": 8,
   "metadata": {},
   "outputs": [],
   "source": [
    "def legendre_summ_of_inductive_mass_of_sphere(l):\n",
    "    forget()\n",
    "    theta_q, phi_q = var('theta_q, phi_q')\n",
    "    assume(theta_q, 'real')\n",
    "    assume(phi_q, 'real')\n",
    "\n",
    "    theta_a, phi_a = var('theta_a, phi_a')\n",
    "    assume(theta_a, 'real')\n",
    "    assume(phi_a, 'real')\n",
    "\n",
    "    r_q, r_a = var(\"r_q, r_a\")\n",
    "    R = var(\"R\")\n",
    "    rho = var(\"rho\")\n",
    "\n",
    "    assume(r_a>0)\n",
    "    assume(r_a<R)\n",
    "    #assume(R>0)\n",
    "\n",
    "    # if r_q < r_a\n",
    "    potential_1 = ((1/r_a)*((r_q/r_a)^l)*rho*sin(theta_q)*(r_q^2)*legendre_summ(l, theta_q, phi_q, theta_a, phi_a)).integrate(theta_q, 0, pi).integrate(phi_q, 0, 2*pi).integrate(r_q, 0, r_a)\n",
    "    # if r_a < r_q\n",
    "    potential_2 = ((1/r_q)*((r_a/r_q)^l)*rho*sin(theta_q)*(r_q^2)*legendre_summ(l, theta_q, phi_q, theta_a, phi_a)).integrate(theta_q, 0, pi).integrate(phi_q, 0, 2*pi).integrate(r_q, r_a, R)\n",
    "\n",
    "    potential = potential_1 + potential_2\n",
    "\n",
    "    return (potential * rho * sin(theta_a) * r_a^2).integrate(r_a, 0, R).integrate(theta_a, 0, pi).integrate(phi_a, 0, 2*pi)"
   ]
  },
  {
   "cell_type": "code",
   "execution_count": 9,
   "metadata": {},
   "outputs": [],
   "source": [
    "def legendre_summ_of_inductivity_of_spherical_shell(l):\n",
    "    forget()\n",
    "    theta_q, phi_q = var('theta_q, phi_q')\n",
    "    assume(theta_q, 'real')\n",
    "    assume(phi_q, 'real')\n",
    "\n",
    "    theta_a, phi_a = var('theta_a, phi_a')\n",
    "    assume(theta_a, 'real')\n",
    "    assume(phi_a, 'real')\n",
    "\n",
    "    R = var(\"R\")\n",
    "    assume(R>0)\n",
    "    \n",
    "    # rho = var(\"q\")/(4*pi*R^2)*dirac_delta(r_a-R)\n",
    "    sigma = var(\"q\")/(4*pi*R^2)\n",
    "    \n",
    "    v = var(\"v\")\n",
    "\n",
    "\n",
    "    A = (1/R)*(sigma*v*sin(theta_q)*(R^2)*legendre_summ(l, theta_q, phi_q, theta_a, phi_a)).integrate(theta_q, 0, pi).integrate(phi_q, 0, 2*pi)\n",
    "\n",
    "    # S = 4*pi*R^2\n",
    "    # q = rho*V\n",
    "\n",
    "    # J = (sigma*v).integrate(dl) -> (mean) -> (sigma*v).integrate(dS) / (2*R)\n",
    "    J = q * v / (2 * R)\n",
    "    J = (sigma*v*sin(theta_q)*(R^2)).integrate(theta_q, 0, pi).integrate(phi_q, 0, 2*pi) / (2 * R)\n",
    "    print (\"J =\", J)\n",
    "\n",
    "    return var(\"mju0\")/(4*pi) * (A * sigma * v * sin(theta_a) * R^2).integrate(theta_a, 0, pi).integrate(phi_a, 0, 2*pi) / (J^2)"
   ]
  },
  {
   "cell_type": "code",
   "execution_count": 10,
   "metadata": {},
   "outputs": [
    {
     "name": "stdout",
     "output_type": "stream",
     "text": [
      "J = 1/2*q*v/R\n"
     ]
    },
    {
     "data": {
      "text/plain": [
       "R*mju0/pi"
      ]
     },
     "execution_count": 10,
     "metadata": {},
     "output_type": "execute_result"
    }
   ],
   "source": [
    "legendre_summ_of_inductivity_of_spherical_shell(0)"
   ]
  },
  {
   "cell_type": "code",
   "execution_count": 13,
   "metadata": {},
   "outputs": [],
   "source": [
    "def legendre_summ_of_inductive_mass_of_spherical_shell(l):\n",
    "    forget()\n",
    "    theta_q, phi_q = var('theta_q, phi_q')\n",
    "    assume(theta_q, 'real')\n",
    "    assume(phi_q, 'real')\n",
    "\n",
    "    theta_a, phi_a = var('theta_a, phi_a')\n",
    "    assume(theta_a, 'real')\n",
    "    assume(phi_a, 'real')\n",
    "\n",
    "    R = var(\"R\")\n",
    "    # rho = var(\"q\")/(4*pi*R^2)*dirac_delta(r_a-R)\n",
    "    sigma = var(\"q\")/(4*pi*R^2)\n",
    "\n",
    "    assume(R>0)\n",
    "\n",
    "    potential = ((1/R)*sigma*sin(theta_q)*(R^2)*legendre_summ(l, theta_q, phi_q, theta_a, phi_a)).integrate(theta_q, 0, pi).integrate(phi_q, 0, 2*pi)\n",
    "\n",
    "    return (potential * sigma * sin(theta_a) * R^2).integrate(theta_a, 0, pi).integrate(phi_a, 0, 2*pi)"
   ]
  },
  {
   "cell_type": "code",
   "execution_count": 34,
   "metadata": {},
   "outputs": [],
   "source": [
    "def make_spherical_plot3d(f):\n",
    "    # Color plots on surface of sphere\n",
    "    var('x,y')\n",
    "    cm = colormaps.spring\n",
    "    cf = lambda x,y: (sin(x) + cos(y)) % 1\n",
    "    return spherical_plot3d(f, (phi_a,0,2*pi), (theta_a,0,pi), color=(cf,cm))"
   ]
  },
  {
   "cell_type": "code",
   "execution_count": 35,
   "metadata": {},
   "outputs": [],
   "source": [
    "def calc_inductivity_of_spherical_shell():\n",
    "    from sage.functions.special import spherical_harmonic\n",
    "    forget()\n",
    "    theta_q, phi_q = var('theta_q, phi_q')\n",
    "    assume(theta_q, 'real')\n",
    "    assume(phi_q, 'real')\n",
    "\n",
    "    theta_a, phi_a = var('theta_a, phi_a')\n",
    "    assume(theta_a, 'real')\n",
    "    assume(phi_a, 'real')\n",
    "\n",
    "    l,m = var('l,m')\n",
    "    f = spherical_harmonic(l, m, theta_q, phi_q) * conjugate(spherical_harmonic(l, m, theta_a, phi_a))\n",
    "    print (sum(f, m, -l, l))\n",
    "    print (legendre_summ(l, theta_q, phi_q, theta_a, phi_a))\n",
    "\n",
    "    for l in range(0, 4):\n",
    "        print (\"l =\", str(l), \" legendre_summ = \", legendre_summ(l, theta_q, phi_q, theta_a, phi_a).simplify())\n",
    "        print (\"l =\", str(l), \" legendre_summ.integral = \", (sin(theta_q)*legendre_summ(l, theta_q, phi_q, theta_a, phi_a)).integrate(theta_q, 0, pi))\n",
    "        print (\"l =\", str(l), \" legendre_summ.integral = \", (sin(theta_a)*(sin(theta_q)*legendre_summ(l, theta_q, phi_q, theta_a, phi_a)).integrate(theta_q, 0, pi)).integrate(theta_a, 0, pi))\n",
    "        print (\"l =\", str(l), \" legendre_summ.integral = \", (sin(theta_a)*(sin(theta_q)*legendre_summ(l, theta_q, phi_q, theta_a, phi_a)).integrate(theta_q, 0, pi)).integrate(theta_a, 0, pi).integrate(phi_q, 0, 2*pi))\n",
    "        print (\"l =\", str(l), \" legendre_summ.integral = \", (sin(theta_a)*(sin(theta_q)*legendre_summ(l, theta_q, phi_q, theta_a, phi_a)).integrate(theta_q, 0, pi)).integrate(theta_a, 0, pi).integrate(phi_q, 0, 2*pi).integrate(phi_a, 0, 2*pi))\n",
    "        print (\"legendre_summ_of_inductivity_of_sphere(\", l, \") =\", legendre_summ_of_inductivity_of_sphere(l))\n",
    "        L = legendre_summ_of_inductivity_of_spherical_shell(l)\n",
    "        print (\"legendre_summ_of_inductivity_of_spherical_shell(\", l, \") =\", L)\n",
    "\n",
    "    # legendre_summ_of_inductivity_of_sphere( 0 ) = 6/5*R*mju0/pi\n",
    "    # legendre_summ_of_inductivity_of_spherical_shell( 0 ) = R*mju0/pi"
   ]
  },
  {
   "cell_type": "code",
   "execution_count": 36,
   "metadata": {},
   "outputs": [
    {
     "name": "stdout",
     "output_type": "stream",
     "text": [
      "sum(conjugate(spherical_harmonic(l, m, theta_a, phi_a))*spherical_harmonic(l, m, theta_q, phi_q), m, -l, l)\n",
      "4*pi*sum(conjugate(spherical_harmonic(l, m, theta_a, phi_a))*spherical_harmonic(l, m, theta_q, phi_q), m, -l, l)/(2*l + 1)\n",
      "l = 0  legendre_summ =  1\n",
      "l = 0  legendre_summ.integral =  2\n",
      "l = 0  legendre_summ.integral =  4\n",
      "l = 0  legendre_summ.integral =  8*pi\n",
      "l = 0  legendre_summ.integral =  16*pi^2\n",
      "legendre_summ_of_inductivity_of_sphere( 0 ) = 6/5*R*mju0/pi\n",
      "J = 1/2*q*v/R\n",
      "legendre_summ_of_inductivity_of_spherical_shell( 0 ) = R*mju0/pi\n",
      "l = 1  legendre_summ =  1/2*(2*cos(theta_a)*cos(theta_q)*e^(I*phi_a + I*phi_q) + (e^(2*I*phi_a) + e^(2*I*phi_q))*sin(theta_a)*sin(theta_q))*e^(-I*phi_a - I*phi_q)\n",
      "l = 1  legendre_summ.integral =  1/4*(pi*e^(2*I*phi_a) + pi*e^(2*I*phi_q))*e^(-I*phi_a - I*phi_q)*sin(theta_a)\n",
      "l = 1  legendre_summ.integral =  1/8*pi*(pi*e^(2*I*phi_a) + pi*e^(2*I*phi_q))*e^(-I*phi_a - I*phi_q)\n",
      "l = 1  legendre_summ.integral =  0\n",
      "l = 1  legendre_summ.integral =  0\n",
      "legendre_summ_of_inductivity_of_sphere( 1 ) = 0\n",
      "J = 1/2*q*v/R\n",
      "legendre_summ_of_inductivity_of_spherical_shell( 1 ) = 0\n",
      "l = 2  legendre_summ =  1/8*(12*(e^(3*I*phi_a + I*phi_q) + e^(I*phi_a + 3*I*phi_q))*cos(theta_a)*cos(theta_q)*sin(theta_a)*sin(theta_q) + 3*(e^(4*I*phi_a) + e^(4*I*phi_q))*sin(theta_a)^2*sin(theta_q)^2 + 6*(3*cos(theta_a)^2*e^(2*I*phi_a + 2*I*phi_q) - e^(2*I*phi_a + 2*I*phi_q))*cos(theta_q)^2 - 6*cos(theta_a)^2*e^(2*I*phi_a + 2*I*phi_q) + 2*e^(2*I*phi_a + 2*I*phi_q))*e^(-2*I*phi_a - 2*I*phi_q)\n",
      "l = 2  legendre_summ.integral =  1/2*(e^(4*I*phi_a) + e^(4*I*phi_q))*e^(-2*I*phi_a - 2*I*phi_q)*sin(theta_a)^2\n",
      "l = 2  legendre_summ.integral =  2/3*(e^(4*I*phi_a) + e^(4*I*phi_q))*e^(-2*I*phi_a - 2*I*phi_q)\n",
      "l = 2  legendre_summ.integral =  0\n",
      "l = 2  legendre_summ.integral =  0\n",
      "legendre_summ_of_inductivity_of_sphere( 2 ) = 0\n",
      "J = 1/2*q*v/R\n",
      "legendre_summ_of_inductivity_of_spherical_shell( 2 ) = 0\n",
      "l = 3  legendre_summ =  1/16*(30*(e^(5*I*phi_a + I*phi_q) + e^(I*phi_a + 5*I*phi_q))*cos(theta_a)*cos(theta_q)*sin(theta_a)^2*sin(theta_q)^2 + 5*(e^(6*I*phi_a) + e^(6*I*phi_q))*sin(theta_a)^3*sin(theta_q)^3 + 20*(5*cos(theta_a)^3*e^(3*I*phi_a + 3*I*phi_q) - 3*cos(theta_a)*e^(3*I*phi_a + 3*I*phi_q))*cos(theta_q)^3 - 12*(5*cos(theta_a)^3*e^(3*I*phi_a + 3*I*phi_q) - 3*cos(theta_a)*e^(3*I*phi_a + 3*I*phi_q))*cos(theta_q) + 3*(5*(5*(e^(4*I*phi_a + 2*I*phi_q) + e^(2*I*phi_a + 4*I*phi_q))*cos(theta_a)^2 - e^(4*I*phi_a + 2*I*phi_q) - e^(2*I*phi_a + 4*I*phi_q))*cos(theta_q)^2*sin(theta_a) - (5*(e^(4*I*phi_a + 2*I*phi_q) + e^(2*I*phi_a + 4*I*phi_q))*cos(theta_a)^2 - e^(4*I*phi_a + 2*I*phi_q) - e^(2*I*phi_a + 4*I*phi_q))*sin(theta_a))*sin(theta_q))*e^(-3*I*phi_a - 3*I*phi_q)\n",
      "l = 3  legendre_summ.integral =  3/128*(5*(pi*e^(6*I*phi_a) + pi*e^(6*I*phi_q))*sin(theta_a)^3 + (5*(pi*e^(4*I*phi_a + 2*I*phi_q) + pi*e^(2*I*phi_a + 4*I*phi_q))*cos(theta_a)^2 - pi*e^(4*I*phi_a + 2*I*phi_q) - pi*e^(2*I*phi_a + 4*I*phi_q))*sin(theta_a))*e^(-3*I*phi_a - 3*I*phi_q)\n",
      "l = 3  legendre_summ.integral =  3/1024*(15*pi^2*cos(6*phi_a) + pi^2*cos(4*phi_a + 2*phi_q) + pi^2*cos(2*phi_a + 4*phi_q) + 15*pi^2*cos(6*phi_q) + 15*I*pi^2*sin(6*phi_a) + I*pi^2*sin(4*phi_a + 2*phi_q) + I*pi^2*sin(2*phi_a + 4*phi_q) + 15*I*pi^2*sin(6*phi_q))*e^(-3*I*phi_a - 3*I*phi_q)\n",
      "l = 3  legendre_summ.integral =  0\n",
      "l = 3  legendre_summ.integral =  0\n",
      "legendre_summ_of_inductivity_of_sphere( 3 ) = 0\n",
      "J = 1/2*q*v/R\n",
      "legendre_summ_of_inductivity_of_spherical_shell( 3 ) = 0\n"
     ]
    }
   ],
   "source": [
    "calc_inductivity_of_spherical_shell()"
   ]
  },
  {
   "cell_type": "code",
   "execution_count": 37,
   "metadata": {},
   "outputs": [],
   "source": [
    "def calc_inductive_mass_of_sphere():\n",
    "    forget()\n",
    "    q = var(\"q\")\n",
    "    print (\"\\ncalc_inductive_mass_of_sphere\")\n",
    "    # https://en.wikipedia.org/wiki/Electromagnetic_mass\n",
    "    m = legendre_summ_of_inductive_mass_of_sphere(0)\n",
    "    print (\"m =\", m)\n",
    "    # m = 32/15*pi^2*R^5*rho^2\n",
    "\n",
    "    V = 4/3*pi*R^3\n",
    "    m = m.subs(rho = q/V)\n",
    "    print (\"m =\", m)\n",
    "    # m = 6/5*q^2/R\n",
    "\n",
    "    m = var(\"mju0\")/(4*pi) * m\n",
    "    print (\"m =\", m)\n",
    "    # m = 3/10*mju0*q^2/(pi*R)\n",
    "\n",
    "    # Classical electron radius\n",
    "    # https://en.wikipedia.org/wiki/\n",
    "    # Классический радиус электрона равен радиусу полой сферы,\n",
    "    # на которой равномерно распределён заряд,\n",
    "    # если этот заряд равен заряду электрона,\n",
    "    # а потенциальная энергия электростатического поля {\\displaystyle U_{0}\\ } U_{0}\\\n",
    "    # полностью эквивалентна половине массы электрона (без учета квантовых эффектов):\n",
    "    # {\\displaystyle U_{0}={\\frac {1}{2}}{\\frac {1}{4\\pi \\varepsilon _{0}}}\\cdot {\\frac {e^{2}}{r_{0}}}={\\frac {1}{2}}m_{0}c^{2}}.\n",
    "    r_e = 1/(4*pi*var(\"epsilon_0\"))*q^2/(var(\"m_e\")*var(\"c\")^2)\n",
    "    print (\"r_e =\", r_e)\n",
    "\n",
    "    # собственная электрическая энергия заряженного шара\n",
    "    # радиуса r_0 равна 3/5 * e^2/r_0, \n",
    "    # если заряд равномерно распределён по всему объёму шара (Тамм, стр.88)\n",
    "    # для такой модели электрона классический радиус будет иметь уже другое значение\n",
    "    # U = 3/5 * 1/(4*pi*epsilon_0) * e^2/r_0 = 1/2*m*c^2\n",
    "\n",
    "    r_e = 3/5 * 1/(4*pi*var(\"epsilon_0\"))*q^2/((1/2)*var(\"m_e\")*var(\"c\")^2)\n",
    "    print (\"r_e =\", r_e)\n",
    "\n",
    "    m = m.subs(R = r_e)\n",
    "    print (\"m =\", m)\n",
    "    # m = 6/5*c^2*epsilon_0*m_e*mju0\n",
    "    # для классического радиуса перерасчитанного в модели заряда распределённого по всему объёму шара\n",
    "    # m = c^2*epsilon_0*m_e*mju0\n",
    "\n",
    "    # https://en.wikipedia.org/wiki/Vacuum_permittivity\n",
    "    m = m.subs(epsilon_0 = 1/(mju0*c^2))\n",
    "    print (\"m =\", m)\n",
    "    # m = 6/5*m_e\n",
    "    # для классического радиуса перерасчитанного в модели заряда распределённого по всему объёму шара\n",
    "    # m = m_e"
   ]
  },
  {
   "cell_type": "code",
   "execution_count": 38,
   "metadata": {},
   "outputs": [],
   "source": [
    "def calc_gradient_mass_of_sphere():\n",
    "    forget()\n",
    "    q = var(\"q\")\n",
    "    print (\"\\ncalc_gradient_mass_of_sphere\")\n",
    "    # https://en.wikipedia.org/wiki/Electromagnetic_mass\n",
    "    m0 = legendre_summ_of_gradient_mass_of_sphere(0)\n",
    "    print (\"m0 =\", m0)\n",
    "    m1 = legendre_summ_of_gradient_mass_of_sphere(1)\n",
    "    print (\"m1 =\", m1)\n",
    "    #m2 = legendre_summ_of_gradient_mass_of_sphere(2)\n",
    "    #print (\"m2 =\", m2)\n",
    "    #m3 = legendre_summ_of_gradient_mass_of_sphere(3)\n",
    "    #print (\"m3 =\", m3)\n",
    "    #m4 = legendre_summ_of_gradient_mass_of_sphere(4)\n",
    "    #print (\"m4 =\", m4)\n",
    "    m = m0 + m1 #+ m2 + m3 + m4\n",
    "\n",
    "    V = 4/3*pi*R^3\n",
    "    m = m.subs(rho = q/V)\n",
    "    print (\"m =\", m)\n",
    "\n",
    "\n",
    "    m = var(\"mju0\")/(4*pi) * m\n",
    "    print (\"m =\", m)\n",
    "\n",
    "\n",
    "    # Classical electron radius\n",
    "    # https://en.wikipedia.org/wiki/\n",
    "    # Классический радиус электрона равен радиусу полой сферы, на которой равномерно распределён заряд, если этот заряд равен заряду электрона, а потенциальная энергия электростатического поля {\\displaystyle U_{0}\\ } U_{0}\\ полностью эквивалентна половине массы электрона (без учета квантовых эффектов):\n",
    "    # {\\displaystyle U_{0}={\\frac {1}{2}}{\\frac {1}{4\\pi \\varepsilon _{0}}}\\cdot {\\frac {e^{2}}{r_{0}}}={\\frac {1}{2}}m_{0}c^{2}}.\n",
    "    r_e = 1/(4*pi*var(\"epsilon_0\"))*q^2/(var(\"m_e\")*var(\"c\")^2)\n",
    "    print (\"r_e =\", r_e)\n",
    "\n",
    "    # собственная электрическая энергия заряженного шара радиуса r_0 равна 3/5 * e^2/r_0, \n",
    "    # если заряд равномерно распределён по всему объёму шара (Тамм, стр.88)\n",
    "    # для такой модели электрона классический радиус будет иметь уже другое значение\n",
    "    # U = 3/5 * 1/(4*pi*epsilon_0) * e^2/r_0 = 1/2*m*c^2\n",
    "\n",
    "    r_e = 3/5 * 1/(4*pi*var(\"epsilon_0\"))*q^2/((1/2)*var(\"m_e\")*var(\"c\")^2)\n",
    "    print (\"r_e =\", r_e)\n",
    "\n",
    "    m = m.subs(R = r_e)\n",
    "    print (\"m =\", m)\n",
    "    # m = 6/5*c^2*epsilon_0*m_e*mju0\n",
    "    # для классического радиуса перерасчитанного в модели заряда распределённого по всему объёму шара\n",
    "    # m = c^2*epsilon_0*m_e*mju0\n",
    "\n",
    "    # https://en.wikipedia.org/wiki/Vacuum_permittivity\n",
    "    m = m.subs(epsilon_0 = 1/(mju0*c^2))\n",
    "    print (\"m =\", m)\n",
    "    # m = 6/5*m_e\n",
    "    # для классического радиуса перерасчитанного в модели заряда распределённого по всему объёму шара\n",
    "    # m = m_e"
   ]
  },
  {
   "cell_type": "code",
   "execution_count": 1,
   "metadata": {},
   "outputs": [],
   "source": [
    "def calc_inductive_mass_of_spherical_shell():\n",
    "    print (\"\\ncalc_inductive_mass_of_spherical_shell\")\n",
    "    # https://en.wikipedia.org/wiki/Electromagnetic_mass\n",
    "    m = legendre_summ_of_inductive_mass_of_spherical_shell(0)\n",
    "    print (\"m =\", m)\n",
    "    # m = q^2/R\n",
    "\n",
    "    m = var(\"mju0\")/(4*pi) * m\n",
    "    print (\"m =\", m)\n",
    "    # m = 1/4*mju0*q^2/(pi*R)\n",
    "\n",
    "    # Classical electron radius\n",
    "    # https://en.wikipedia.org/wiki/\n",
    "    # Классический радиус электрона равен радиусу полой сферы, на которой равномерно распределён заряд, \n",
    "    # если этот заряд равен заряду электрона, а потенциальная энергия электростатического поля \n",
    "    # {\\displaystyle U_{0}\\ } U_{0}\\ полностью эквивалентна половине массы электрона \n",
    "    # (без учета квантовых эффектов):\n",
    "    # {\\displaystyle U_{0}={\\frac {1}{2}}{\\frac {1}{4\\pi \\varepsilon _{0}}}\\cdot {\\frac {e^{2}}{r_{0}}}={\\frac {1}{2}}m_{0}c^{2}}.\n",
    "    \n",
    "    # U = 1/2 * 1/(4*pi*epsilon_0) * e^2/r_0 = 1/2*m*c^2\n",
    "    # собственная электрическая энергия заряженного шара радиуса r_0 равна 1/2 * e^2/r_0, \n",
    "    # если заряд распределён по поверхности шара (Тамм, стр.88)\n",
    "\n",
    "    r_e = 1/(4*pi*var(\"epsilon_0\"))*q^2/(var(\"m_e\")*var(\"c\")^2)\n",
    "    print (\"r_e =\", r_e)\n",
    "\n",
    "    m = m.subs(R = r_e)\n",
    "    print (\"m =\", m)\n",
    "    # m = c^2*epsilon_0*m_e*mju0\n",
    "\n",
    "    # https://en.wikipedia.org/wiki/Vacuum_permittivity\n",
    "    m = m.subs(epsilon_0 = 1/(mju0*c^2))\n",
    "    print (\"m =\", m)\n",
    "    # m = m_e"
   ]
  },
  {
   "cell_type": "code",
   "execution_count": null,
   "metadata": {},
   "outputs": [],
   "source": [
    "calc_gradient_mass_of_sphere()"
   ]
  },
  {
   "cell_type": "code",
   "execution_count": null,
   "metadata": {},
   "outputs": [],
   "source": [
    "calc_inductive_mass_of_sphere()\n"
   ]
  },
  {
   "cell_type": "code",
   "execution_count": 14,
   "metadata": {},
   "outputs": [
    {
     "name": "stdout",
     "output_type": "stream",
     "text": [
      "\n",
      "calc_inductive_mass_of_spherical_shell\n",
      "m = q^2/R\n",
      "m = 1/4*mju0*q^2/(pi*R)\n",
      "r_e = 1/4*q^2/(pi*c^2*epsilon_0*m_e)\n",
      "m = c^2*epsilon_0*m_e*mju0\n",
      "m = m_e\n"
     ]
    }
   ],
   "source": [
    "calc_inductive_mass_of_spherical_shell()"
   ]
  },
  {
   "cell_type": "code",
   "execution_count": null,
   "metadata": {},
   "outputs": [],
   "source": [
    "(6/5-16/25)"
   ]
  },
  {
   "cell_type": "code",
   "execution_count": null,
   "metadata": {},
   "outputs": [],
   "source": [
    "(6/5-4/10)"
   ]
  },
  {
   "cell_type": "code",
   "execution_count": null,
   "metadata": {},
   "outputs": [],
   "source": [
    "def calc_inductive_mass_of_proton():\n",
    "    print (\"\\ncalc_mass_of_proton\")\n",
    "    m0 = legendre_summ_of_inductive_mass_of_proton(0)\n",
    "    print (\"legendre_summ_of_mass_of_proton(0) =\", m0, m0.n())\n",
    "\n",
    "    m1 = legendre_summ_of_inductive_mass_of_proton(1)\n",
    "    print (\"legendre_summ_of_mass_of_proton(1) =\", m1)\n",
    "\n",
    "    m2 = legendre_summ_of_inductive_mass_of_proton(2)\n",
    "    print (\"legendre_summ_of_mass_of_proton(2) =\", m2)\n",
    "\n",
    "    print (latex(m0))\n",
    "\n",
    "    # legendre_summ_of_mass_of_proton(0) = 1.875*sqrt(2)/sqrt(pi) 1.49603355150537\n",
    "    # legendre_summ_of_mass_of_proton(1) = 0\n",
    "    # legendre_summ_of_mass_of_proton(2) = 0\n",
    "    # VEGAS RESULT:   1.49695439 +- 0.00345851        p = 0.006\n",
    "    # SUAVE RESULT:   1.49424975 +- 0.00149158        p = 1.000\n",
    "    # scipy integrate.quad calc_proton_mass results (for comparing):\n",
    "    # I6(2/3 * 0.8) =  (1.4960348943817992, 0.0026474827067254846)\n",
    "\n",
    "    # Elementary charge, coulombs\n",
    "    e = 1.60217662e-19\n",
    "    mju0 = 4*pi*10^(-7) # H/m\n",
    "    k = mju0 / (4 * pi) * e^2 / 10^-15\n",
    "    m = k * m0\n",
    "    print (\"m = \", m, m.n())\n",
    "    print (latex(m))\n",
    "    # 3.84027312853036e-30\n",
    "    # 3.84027657565375e-30 - scipy integrate.nquad result\n",
    "\n",
    "\n",
    "    me = 9.1093837015e-31\n",
    "    print (\"m / me = \", m / me, (m / me).n())\n",
    "    # 4.21573319817234\n",
    "    # 4.21573698231790 - scipy integrate.nquad result\n"
   ]
  },
  {
   "cell_type": "code",
   "execution_count": null,
   "metadata": {},
   "outputs": [],
   "source": [
    "def calc_inductive_mass_of_neutron():\n",
    "    print (\"\\ncalc_inductive_mass_of_neutron\")\n",
    "    m0 = legendre_summ_of_inductive_mass_of_neutron(0)\n",
    "    print (\"legendre_summ_of_mass_of_neutron(0) =\", m0)\n",
    "    print (\"legendre_summ_of_mass_of_neutron(0) =\", m0.n())\n",
    "\n",
    "    m1 = legendre_summ_of_inductive_mass_of_neutron(1)\n",
    "    print (\"legendre_summ_of_mass_of_neutron(1) =\", m1)\n",
    "\n",
    "    m2 = legendre_summ_of_inductive_mass_of_neutron(2)\n",
    "    print (\"legendre_summ_of_mass_of_neutron(2) =\", m2)\n",
    "\n",
    "    print (latex(m0))\n",
    "\n",
    "    # legendre_summ_of_mass_of_neutron(0) = (4.48918680252563e-28)*sqrt(5)*sqrt(2)*(1824320471*sqrt(10)*sqrt(5) + 14369256122481640385175552*sqrt(2))/sqrt(pi)\n",
    "    # legendre_summ_of_mass_of_neutron(0) = 0.0162757880193542\n",
    "    # legendre_summ_of_mass_of_neutron(1) = 0\n",
    "    # legendre_summ_of_mass_of_neutron(2) = 0\n",
    "    # VEGAS RESULT:   0.00183803 +- 0.00000179        p = 0.000\n",
    "    # SUAVE RESULT:   0.00183606 +- 0.00000183        p = 1.000\n",
    "    # Elementary charge, coulombs\n",
    "    e = 1.60217662e-19\n",
    "    mju0 = 4*pi*10^(-7) # H/m\n",
    "    k = mju0 / (4 * pi) * e^2 / 10^-15\n",
    "    m = k * m0\n",
    "    print (\"m = \", m)\n",
    "    print (\"m = \", m.n())\n",
    "    # m =  (1.1523607494861974e-57)*sqrt(5)*sqrt(2)*(1824320471*sqrt(10)*sqrt(5) + 14369256122481640385175552*sqrt(2))/sqrt(pi) 4.17794582972344e-32\n",
    "    # m / me =  (1.2650260294738088e-27)*sqrt(5)*sqrt(2)*(1824320471*sqrt(10)*sqrt(5) + 14369256122481640385175552*sqrt(2))/sqrt(pi) 0.0458641985739987\n",
    "\n",
    "    print (latex(m))\n",
    "\n",
    "    me = 9.1093837015e-31\n",
    "    print (\"m / me = \", m / me, (m / me).n())\n"
   ]
  },
  {
   "cell_type": "code",
   "execution_count": null,
   "metadata": {},
   "outputs": [],
   "source": [
    "calc_inductive_mass_of_proton()\n",
    "calc_inductive_mass_of_neutron()"
   ]
  },
  {
   "cell_type": "code",
   "execution_count": null,
   "metadata": {},
   "outputs": [],
   "source": [
    "def legendre_summ_of_vector_potencial_of_rotated_sphere(l):\n",
    "    forget()\n",
    "    theta_q, phi_q = var('theta_q, phi_q')\n",
    "    assume(theta_q, 'real')\n",
    "    assume(phi_q, 'real')\n",
    "\n",
    "    theta_a, phi_a = var('theta_a, phi_a')\n",
    "    assume(theta_a, 'real')\n",
    "    assume(phi_a, 'real')\n",
    "    phi_a = 0\n",
    "\n",
    "    r_q, r_a = var(\"r_q, r_a\")\n",
    "    R = var(\"R\")\n",
    "    v = var(\"v\")\n",
    "    rho = var(\"rho\")\n",
    "\n",
    "    assume(r_a>0)\n",
    "    assume(r_a<R)\n",
    "    assume(R>0)\n",
    "\n",
    "    # if r_q < r_a\n",
    "    A1 = ((1/r_a)*((r_q/r_a)^l)*rho*v*cos(phi_q)*sin(theta_q)*(r_q^2)*legendre_summ(l, theta_q, phi_q, theta_a, phi_a)).integrate(theta_q, 0, pi).integrate(phi_q, 0, 2*pi).integrate(r_q, 0, r_a)\n",
    "    # if r_a < r_q\n",
    "    A2 = ((1/r_q)*((r_a/r_q)^l)*rho*v*cos(phi_q)*sin(theta_q)*(r_q^2)*legendre_summ(l, theta_q, phi_q, theta_a, phi_a)).integrate(theta_q, 0, pi).integrate(phi_q, 0, 2*pi).integrate(r_q, r_a, R)\n",
    "\n",
    "    return A1 + A2"
   ]
  },
  {
   "cell_type": "code",
   "execution_count": null,
   "metadata": {},
   "outputs": [],
   "source": [
    "def legendre_summ_of_vector_potencial_of_rotated_solid_sphere(l, bInner):\n",
    "    forget()\n",
    "    theta_q, phi_q = var('theta_q, phi_q')\n",
    "    assume(theta_q, 'real')\n",
    "    assume(phi_q, 'real')\n",
    "\n",
    "    theta_a, phi_a = var('theta_a, phi_a')\n",
    "    assume(theta_a, 'real')\n",
    "    assume(phi_a, 'real')\n",
    "\n",
    "    phi_a = 0\n",
    "\n",
    "    r_a = var(\"r_a\")\n",
    "    r_q = var(\"r_q\")\n",
    "    omega = var(\"omega\")\n",
    "    R = var(\"R\")\n",
    "    v = omega*r_q*sin(theta_q)\n",
    "    rho = var(\"rho\")\n",
    "\n",
    "    assume(r_a, 'real')\n",
    "    assume(r_q, 'real')\n",
    "    assume(R, 'real')\n",
    "    assume(r_q>0)\n",
    "    assume(r_a>0)\n",
    "    if True == bInner:\n",
    "        #assume(R>0)\n",
    "        assume(r_a<R)\n",
    "        # if r_q < r_a\n",
    "        A1 = ((1/r_a)*((r_q/r_a)^l)*rho*v*cos(phi_q)*sin(theta_q)*(r_q^2)*legendre_summ(l, theta_q, phi_q, theta_a, phi_a)).integrate(theta_q, 0, pi).integrate(phi_q, 0, 2*pi).integrate(r_q, 0, r_a)\n",
    "        # if r_a < r_q\n",
    "        A2 = ((1/r_q)*((r_a/r_q)^l)*rho*v*cos(phi_q)*sin(theta_q)*(r_q^2)*legendre_summ(l, theta_q, phi_q, theta_a, phi_a)).integrate(theta_q, 0, pi).integrate(phi_q, 0, 2*pi).integrate(r_q, r_a, R)\n",
    "        A = A1 + A2\n",
    "    else:\n",
    "        assume(r_a>R)\n",
    "        #assume(R>0)\n",
    "        # if r_q < r_a\n",
    "        A = ((1/r_a)*((r_q/r_a)^l)*rho*v*cos(phi_q)*sin(theta_q)*(r_q^2)*legendre_summ(l, theta_q, phi_q, theta_a, phi_a)).integrate(theta_q, 0, pi).integrate(phi_q, 0, 2*pi).integrate(r_q, 0, R)\n",
    "       \n",
    "    return A"
   ]
  },
  {
   "cell_type": "code",
   "execution_count": null,
   "metadata": {},
   "outputs": [],
   "source": [
    "def calc_A_solid(bInner):\n",
    "    A_solid = legendre_summ_of_vector_potencial_of_rotated_solid_sphere(0, bInner = bInner)\n",
    "    print (\"A_solid = \", A_solid)\n",
    "    l_max = 5\n",
    "    for l in range(1, l_max+1):\n",
    "        print (\"l = \", l)\n",
    "        dA_solid = legendre_summ_of_vector_potencial_of_rotated_solid_sphere(l, bInner = bInner)\n",
    "        print (\"dA_solid = \", dA_solid)\n",
    "        A_solid += dA_solid\n",
    "    print (\"A_solid = \", A_solid)\n",
    "    # make_spherical_plot3d(A_solid.real()).show(aspect_ratio=(1,1,1))\n",
    "    A_solid = A_solid.subs(phi_a=0)\n",
    "    print (\"A_solid = \", A_solid)\n",
    "    A_solid = A_solid.subs(theta_a=pi/2).expand()\n",
    "    print (\"A_solid = \", A_solid)\n",
    "    return A_solid"
   ]
  },
  {
   "cell_type": "code",
   "execution_count": null,
   "metadata": {},
   "outputs": [],
   "source": [
    "A_solid_Inner = calc_A_solid(bInner=True)\n",
    "A_solid_Outer = calc_A_solid(bInner=False)"
   ]
  },
  {
   "cell_type": "code",
   "execution_count": null,
   "metadata": {},
   "outputs": [],
   "source": [
    "plt  = plot(A_solid_Inner.subs(rho == 1, omega == 1, R == 1), (r_a, 0, 1), color='red') \n",
    "plt += plot(A_solid_Outer.subs(rho == 1, omega == 1, R == 1), (r_a, 1, 3), color='green')\n",
    "plt.show()"
   ]
  },
  {
   "cell_type": "code",
   "execution_count": null,
   "metadata": {},
   "outputs": [],
   "source": [
    "def magnetic_moment(v, rho, R):\n",
    "    return 2*pi * (r_a^2 * (sin(theta_a))^3 * v * rho).integrate(r_a, 0, R).integrate(theta_a, 0, pi)\n",
    "def angular_momentum(A, rho, R):\n",
    "    return 2*pi * (r_a^2 * (sin(theta_a))^3 * A * rho).integrate(r_a, 0, R).integrate(theta_a, 0, pi)\n",
    "def orbital_angular_momentum(v, rho_m, R):\n",
    "    return 2*pi * (r_a^2 * (sin(theta_a))^3 * v * rho_m).integrate(r_a, 0, R).integrate(theta_a, 0, pi)\n"
   ]
  },
  {
   "cell_type": "code",
   "execution_count": null,
   "metadata": {},
   "outputs": [],
   "source": [
    "def calc_gyromagnetic_ratio_of_sphere():\n",
    "    # the ratio of its magnetic moment to its angular momentum\n",
    "    #for l in range(0, 4):\n",
    "    #    print \"l =\", str(l), \" legendre_summ = \", legendre_summ(l, theta_q, phi_q, theta_a, phi_a).simplify()\n",
    "    #    print \"l =\", str(l), \" legendre_summ.integral theta_q = \", (cos(phi_q)*sin(theta_q)*legendre_summ(l, theta_q, phi_q, theta_a, phi_a)).integrate(theta_q, 0, pi)\n",
    "    #    print \"l =\", str(l), \" legendre_summ.integral phi_q = \", (cos(phi_q)*sin(theta_q)*legendre_summ(l, theta_q, phi_q, theta_a, phi_a)).integrate(theta_q, 0, pi).integrate(phi_q, 0, 2*pi)\n",
    "\n",
    "    l_max = 5\n",
    "\n",
    "    A = legendre_summ_of_vector_potencial_of_rotated_sphere(0)\n",
    "    for l in range(1, l_max+1):\n",
    "        print (\"l = \", l)\n",
    "        dA = legendre_summ_of_vector_potencial_of_rotated_sphere(l)\n",
    "        print (\"dA = \", dA)\n",
    "        A += dA\n",
    "    print (\"A = \", A)\n",
    "    # make_spherical_plot3d(A.real()).show(aspect_ratio=(1,1,1))\n",
    "    A = A.subs(phi_a=0)\n",
    "    print (\"A = \", A)\n",
    "\n",
    "    rho = var(\"rho\")\n",
    "\n",
    "    mass = legendre_summ_of_mass_of_sphere(0)\n",
    "    print (\"mass =\", mass)\n",
    "\n",
    "    rho_m = mass/(4/3*pi*R^3)\n",
    "    print (\"rho_m =\", rho_m)\n",
    "\n",
    "    M_orbital = orbital_angular_momentum(v, rho_m, R)\n",
    "    print (\"M_orbital =\", M_orbital)\n",
    "\n",
    "    M = angular_momentum(A, rho, R)\n",
    "    print (\"M =\", M)\n",
    "\n",
    "    m = magnetic_moment(v, rho, R)\n",
    "    print (\"m =\", m)\n",
    "\n",
    "    g = m/M\n",
    "    print (\"g =\", g)\n",
    "\n",
    "    g_orbital = m/M_orbital\n",
    "    print (\"g_orbital =\", g_orbital)\n",
    "\n",
    "    # plot3d(A.subs(v = 1, rho = 1, R = 1), (r_a, 0, 1), (theta_a,0,pi)).show(aspect_ratio=(1,1,1))\n",
    "    p = plot(A.subs(v = 1, rho = 1, R = 1, theta_a=pi/2), (r_a, 0, 1))\n",
    "    p.save(\"A.png\")\n",
    "\n",
    "\n",
    "    A_solid = legendre_summ_of_vector_potencial_of_rotated_solid_sphere(0)\n",
    "    for l in range(1, l_max+1):\n",
    "        print (\"l = \", l)\n",
    "        dA_solid = legendre_summ_of_vector_potencial_of_rotated_solid_sphere(l)\n",
    "        print (\"dA_solid = \", dA_solid)\n",
    "        A_solid += dA_solid\n",
    "    print (\"A_solid = \", A_solid)\n",
    "    # make_spherical_plot3d(A_solid.real()).show(aspect_ratio=(1,1,1))\n",
    "    A_solid = A_solid.subs(phi_a=0)\n",
    "    print (\"A_solid = \", A_solid)\n",
    "\n",
    "    v_solid = omega*r_a*sin(theta_a)\n",
    "    Mo_solid = orbital_angular_momentum(v_solid, rho_m, R)\n",
    "    print (\"Mo_solid =\", Mo_solid)\n",
    "\n",
    "    M_orbital_solid = orbital_angular_momentum(v_solid, rho_m, R)\n",
    "    print (\"M_orbital_solid =\", M_orbital_solid)\n",
    "\n",
    "    M_solid = angular_momentum(A_solid, rho, R)\n",
    "    print (\"M_solid =\", M_solid)\n",
    "\n",
    "    m_solid = magnetic_moment(v_solid, rho, R)\n",
    "    print (\"m_solid =\", m_solid)\n",
    "\n",
    "    g_solid = m_solid/M_solid\n",
    "    print (\"g_solid =\", g_solid)\n",
    "\n",
    "    g_orbital_solid = m_solid/M_orbital_solid\n",
    "    print (\"g_orbital_solid =\", g_orbital_solid)\n",
    "\n",
    "    print (\"g =\", g)\n",
    "    print (\"g_solid =\", (g_solid*rho*R^2).n()/(rho*R^2))\n",
    "    print (\"g =\", (g*rho*R^2).n()/(rho*R^2))\n",
    "    print (\"g_orbital_solid =\", (g_orbital_solid*rho*R^2).n()/(rho*R^2))\n",
    "    print (\"g_orbital =\", (g_orbital*rho*R^2).n()/(rho*R^2))\n",
    "\n",
    "    rho_uniform = var(\"q\")/(4/3*pi*R^3)\n",
    "    g = g.subs(rho = rho_uniform)\n",
    "    g_solid = g_solid.subs(rho = rho_uniform)\n",
    "    g_orbital = g_orbital.subs(rho = rho_uniform)\n",
    "    g_orbital_solid = g_orbital_solid.subs(rho = rho_uniform)\n",
    "\n",
    "    print (\"g/g_orbital =\", g/g_orbital)\n",
    "    print (\"g_solid/g_orbital_solid =\", g_solid/g_orbital_solid)\n",
    "\n",
    "    print (\"g_solid =\", g_solid)\n",
    "    print (\"g =\", g)\n",
    "    print (\"g_orbital_solid =\", g_orbital_solid)\n",
    "    print (\"g_orbital =\", g_orbital)\n",
    "\n",
    "    print (\"g_solid =\", (g_solid*q/R).n()/(q/R))\n",
    "    print (\"g =\", (g*q/R).n()/(q/R))\n",
    "    print (\"g_orbital_solid =\", (g_orbital_solid*q/R).n()/(q/R))\n",
    "    print (\"g_orbital =\", (g_orbital*q/R).n()/(q/R))\n",
    "\n",
    "    print (\"g/g_orbital =\", (g/g_orbital).n())\n",
    "    print (\"g_solid/g_orbital_solid =\", (g_solid/g_orbital_solid).n())\n",
    "\n",
    "    # plot3d(A_solid.subs(omega = 1, rho = 1, R = 1), (r_a, 0, 1), (theta_a,0,pi)).show(aspect_ratio=(1,1,1))\n",
    "    p = plot(A_solid.subs(omega = 1, rho = 1, R = 1, theta_a=pi/2), (r_a, 0, 1))\n",
    "    p.save(\"A_solid.png\")\n",
    "\n",
    "    # p = make_spherical_plot3d(spherical_harmonic(1, 0, theta_a, phi_a).real())\n",
    "    #p = make_spherical_plot3d(legendre_summ_of_vector_potencial_of_rotated_sphere(0).real())\n",
    "    #p += make_spherical_plot3d(legendre_summ_of_vector_potencial_of_rotated_sphere(1).real())\n",
    "    #p += make_spherical_plot3d(legendre_summ_of_vector_potencial_of_rotated_sphere(2).real())\n",
    "    #p += make_spherical_plot3d(legendre_summ_of_vector_potencial_of_rotated_sphere(3).real())\n",
    "    #p += make_spherical_plot3d(legendre_summ_of_vector_potencial_of_rotated_sphere(4).real())\n",
    "    #p += make_spherical_plot3d(legendre_summ_of_vector_potencial_of_rotated_sphere(5).real())\n",
    "    #p.show(aspect_ratio=(1,1,1))\n"
   ]
  },
  {
   "cell_type": "code",
   "execution_count": null,
   "metadata": {},
   "outputs": [],
   "source": [
    "Sq = function('Sq') # x^2\n",
    "Cb = function('Cb') # x^3\n",
    "Qu = function('Qu') # x^4\n",
    "Fi = function('Fi') # x^5\n",
    "Si = function('Si') # x^6\n",
    "Se = function('Si') # x^7\n",
    "Ei = function('Ei') # x^8\n",
    "Ni = function('Ni') # x^9"
   ]
  },
  {
   "cell_type": "code",
   "execution_count": null,
   "metadata": {},
   "outputs": [],
   "source": [
    "def replace_powers(res):\n",
    "    return res.subs({\n",
    "        R_0^2 : Sq(R_0),\n",
    "        dz^2  : Sq(dz),\n",
    "        c^2   : Sq(c),\n",
    "        v^2   : Sq(v),\n",
    "        a^2   : Sq(a),\n",
    "\n",
    "        1/(a^2)  : (1/Sq(a)),\n",
    "\n",
    "        R_0^3 : Cb(R_0),\n",
    "        dz^3  : Cb(dz),\n",
    "        c^3   : Cb(c),\n",
    "        v^3   : Cb(v),\n",
    "        a^3   : Cb(a),\n",
    "\n",
    "        1/(a^3)  : (1/Cb(a)),\n",
    "\n",
    "        R_0^4 : Qu(R_0),\n",
    "        dz^4  : Qu(dz),\n",
    "        c^4   : Qu(c),\n",
    "        v^4   : Qu(v),\n",
    "        a^4   : Qu(a),\n",
    "\n",
    "        1/(a^4)  : (1/Qu(a)),\n",
    "\n",
    "        R_0^5 : Fi(R_0),\n",
    "        dz^5  : Fi(dz),\n",
    "        c^5   : Fi(c),\n",
    "        v^5   : Fi(v),\n",
    "        a^5   : Fi(a),\n",
    "\n",
    "        1/(a^5)  : (1/Fi(a)),\n",
    "\n",
    "        R_0^6 : Si(R_0),\n",
    "        dz^6  : Si(dz),\n",
    "        c^6   : Si(c),\n",
    "        v^6   : Si(v),\n",
    "        a^6   : Si(a),\n",
    "\n",
    "        1/(a^6)  : (1/Si(a)),\n",
    "\n",
    "        R_0^7 : Se(R_0),\n",
    "        dz^7  : Se(dz),\n",
    "        c^7   : Se(c),\n",
    "        v^7   : Se(v),\n",
    "        a^7   : Se(a),\n",
    "\n",
    "        1/(a^7)  : (1/Se(a)),\n",
    "\n",
    "        R_0^8 : Ei(R_0),\n",
    "        dz^8  : Ei(dz),\n",
    "        c^8   : Ei(c),\n",
    "        v^8   : Ei(v),\n",
    "        a^8   : Ei(a),\n",
    "\n",
    "        1/(a^8)  : (1/Ei(a)),\n",
    "\n",
    "        R_0^9 : Ni(R_0),\n",
    "        dz^9  : Ni(dz),\n",
    "        c^9   : Ni(c),\n",
    "        v^9   : Ni(v),\n",
    "        a^9   : Ni(a),\n",
    "      })"
   ]
  },
  {
   "cell_type": "code",
   "execution_count": null,
   "metadata": {},
   "outputs": [],
   "source": [
    "def replase_integer_frac(r):\n",
    "    s = str(r)\n",
    "    import re\n",
    "    digits_re = r'\\d+\\/'\n",
    "    s_double_frac = re.sub(r'([1-9]+)\\/([1-9]+)', r'\\1.0/\\2.0', s)\n",
    "    return s_double_frac"
   ]
  },
  {
   "cell_type": "code",
   "execution_count": null,
   "metadata": {},
   "outputs": [],
   "source": [
    "def solve_lagging():\n",
    "    # Чтобы учесть запаздывание следует решить систему уравнений\n",
    "    # s = v*(t-t') + a/2*(t-t')^2\n",
    "    # и\n",
    "    # R = c*(t-t')\n",
    "    # Учитывая, что по теореме косинусов\n",
    "    # R^2 = R_0^2 + s^2 - 2*R_0*s*cos(alpha)\n",
    "    #     = R_0^2 + s^2 - 2*R_0*s*(z_q-z_a) / R_0\n",
    "    #     = R_0^2 + s^2 + 2*s*(z_a-z_q)\n",
    "    # где R_0 расстояние от точки источника заряда к точке наблюдения без учёта запаздывания.\n",
    "    # R^2 = c^2*( t-t')^2 = R_0^2 + s^2 + 2*s*(z_a-z_q)\n",
    "\n",
    "    # (t-t') = dt\n",
    "    # (z_a-z_q) = dz\n",
    "\n",
    "\n",
    "    dt = var(\"dt\")\n",
    "    dz = var(\"dz\")\n",
    "    a = var(\"a\")\n",
    "    v = var(\"v\")\n",
    "    c = var(\"c\")\n",
    "    z_q, z_a = var(\"z_q, z_a\")\n",
    "    R_0 = var(\"R_0\")\n",
    "    s = var(\"s\")\n",
    "\n",
    "    assume(dz <= R_0)\n",
    "\n",
    "    # eq = c^2*dt^2 - (R_0^2 + s^2 + 2*s*(z_a-z_q))\n",
    "    eq = c^2*dt^2 - (R_0^2 + s^2 + 2*s*dz)\n",
    "    print (\"eq = \", eq)\n",
    "    eq2 = eq.subs(s = (v*dt + a/2*dt^2))\n",
    "    print (\"eq2 = \", eq2)\n",
    "\n",
    "    res2 = solve(eq2, dt)\n",
    "    # print \"res2 = \", res2\n",
    "\n",
    "    eq3 = eq2.subs(v = 0)\n",
    "    # print \"eq3 = \", eq3\n",
    "    print (\"eq3 = \", latex(eq3))\n",
    "\n",
    "    res3 = solve(eq3, dt)\n",
    "    # print \"res3 = \", res3\n",
    "\n",
    "    for i in range (0, len(res3)):\n",
    "        # print \"\\n\"\n",
    "        r = simplify(c*res3[i])\n",
    "        # print r\n",
    "        # print latex(r)\n",
    "        r3 = replace_powers(r)\n",
    "        s3 = replase_integer_frac(r3)\n",
    "        print (\"res3 =\",  s3)\n",
    "\n",
    "    eq4 = eq2.subs(a = 0)\n",
    "    print (\"eq4 = \", eq4)\n",
    "    print (\"eq4 = \", latex(eq4))\n",
    "\n",
    "\n",
    "    print (latex((z_a-z_q) - dz))\n",
    "\n",
    "    res4 = solve(eq4, dt)\n",
    "    print (\"res4 = \", res4)\n",
    "    print (\"res4 = \", latex(res4))\n",
    "\n",
    "    for i in range (0, len(res4)):\n",
    "        r4 = replace_powers(c*res4[i])\n",
    "        s4 = replase_integer_frac(r4)\n",
    "        print (s4)\n",
    "\n",
    "    for i in range (0, len(res2)):\n",
    "        # print \"\\n\"\n",
    "        # print c*res2[i]\n",
    "        print (\"\\n\")\n",
    "        r2 = replace_powers(c*res2[i])\n",
    "        s2 = replase_integer_frac(r2)\n",
    "        # print s2"
   ]
  },
  {
   "cell_type": "code",
   "execution_count": null,
   "metadata": {},
   "outputs": [],
   "source": [
    "#calc1_m()\n",
    "#calc2_m()\n",
    "#test()\n",
    "#calc3_scalar_potential()\n",
    "\n",
    "# calc_proton_mass2()\n",
    "# calc_neutron_mass2()\n",
    "# calc_sphere_mass()\n",
    "\n",
    "#calc_inductivity_of_sphere()\n",
    "#calc_gyromagnetic_ratio_of_sphere()\n",
    "#calc_mass_of_sphere()\n",
    "#calc_mass_of_spherical_shell()\n",
    "\n",
    "#calc_mass_of_proton()\n",
    "#calc_mass_of_neutron()\n",
    "\n",
    "solve_lagging()"
   ]
  },
  {
   "cell_type": "code",
   "execution_count": null,
   "metadata": {},
   "outputs": [],
   "source": []
  },
  {
   "cell_type": "code",
   "execution_count": null,
   "metadata": {},
   "outputs": [],
   "source": []
  }
 ],
 "metadata": {
  "kernelspec": {
   "display_name": "SageMath 9.6.beta7",
   "language": "sage",
   "name": "sagemath"
  },
  "language_info": {
   "codemirror_mode": {
    "name": "ipython",
    "version": 3
   },
   "file_extension": ".py",
   "mimetype": "text/x-python",
   "name": "python",
   "nbconvert_exporter": "python",
   "pygments_lexer": "ipython3",
   "version": "3.10.3"
  }
 },
 "nbformat": 4,
 "nbformat_minor": 2
}
