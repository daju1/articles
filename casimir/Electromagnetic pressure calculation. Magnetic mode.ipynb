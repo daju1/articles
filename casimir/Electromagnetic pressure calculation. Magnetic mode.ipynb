{
 "cells": [
  {
   "cell_type": "markdown",
   "metadata": {},
   "source": [
    "# Appendix B. Electromagnetic pressure calculation. magnetic mode"
   ]
  },
  {
   "cell_type": "markdown",
   "metadata": {},
   "source": [
    "Let's consider rectangular resonator with size $a \\times b \\times h$."
   ]
  },
  {
   "cell_type": "code",
   "execution_count": 1,
   "metadata": {},
   "outputs": [],
   "source": [
    "from IPython.display import display, Math, Latex\n",
    "\n",
    "def disp(ex):\n",
    "    latex_ex = latex(ex)\n",
    "    display(Math(latex_ex))\n",
    "\n",
    "mu = var('mu')\n",
    "assume(mu, 'real')\n",
    "assume(mu>0)\n",
    "\n",
    "epsilon = var('epsilon')\n",
    "assume(epsilon, 'real')\n",
    "assume(epsilon>0)\n",
    "\n",
    "k_1 = var ('k_x')\n",
    "assume(k_1, 'real')\n",
    "\n",
    "k_2 = var ('k_y')\n",
    "assume(k_2, 'real')\n",
    "\n",
    "k_3 = var ('k_z')\n",
    "assume(k_3, 'real')\n",
    "\n",
    "n_1 = var ('n_x')\n",
    "assume(n_1, 'real')\n",
    "assume(n_1, 'integer')\n",
    "\n",
    "n_2 = var ('n_y')\n",
    "assume(n_2, 'real')\n",
    "assume(n_2, 'integer')\n",
    "\n",
    "n_3 = var ('n_z')\n",
    "assume(n_3, 'real')\n",
    "assume(n_3, 'integer')\n",
    "\n",
    "a = var('a')\n",
    "assume(a, 'real')\n",
    "assume(a>0)\n",
    "\n",
    "b = var('b')\n",
    "assume(b, 'real')\n",
    "assume(b>0)\n",
    "\n",
    "h = var('h')\n",
    "assume(h, 'real')\n",
    "assume(h>0)\n",
    "\n",
    "x = var('x')\n",
    "y = var('y')\n",
    "z = var('z')\n",
    "\n",
    "assume(x, 'real')\n",
    "assume(y, 'real')\n",
    "assume(z, 'real')\n",
    "\n",
    "c = var('c')\n",
    "assume(c, 'real')\n",
    "assume(c>0)\n",
    "\n",
    "omega = var('omega')\n",
    "assume(omega, 'real')"
   ]
  },
  {
   "cell_type": "code",
   "execution_count": 2,
   "metadata": {},
   "outputs": [],
   "source": [
    "k_subs_z = [k_3 == n_3 * pi / h]"
   ]
  },
  {
   "cell_type": "code",
   "execution_count": 3,
   "metadata": {},
   "outputs": [],
   "source": [
    "k_subs_xy = [k_1 == n_1 * pi / a, k_2 == n_2 * pi / b]"
   ]
  },
  {
   "cell_type": "markdown",
   "metadata": {},
   "source": [
    "In magnetic mode $\\nabla\\,\\vec{H} + \\frac{\\omega^2}{c^2}\\,\\vec{H} = 0$ we have the following solution"
   ]
  },
  {
   "cell_type": "code",
   "execution_count": 4,
   "metadata": {},
   "outputs": [],
   "source": [
    "B_1 = var ('B_1')\n",
    "B_2 = var ('B_2')\n",
    "B_3 = var ('B_3')"
   ]
  },
  {
   "cell_type": "code",
   "execution_count": 5,
   "metadata": {},
   "outputs": [],
   "source": [
    "# выражения для магнитного поля\n",
    "\n",
    "h_x = sin(k_1*x)*cos(k_2*y)*cos(k_3*z)\n",
    "h_y = cos(k_1*x)*sin(k_2*y)*cos(k_3*z)\n",
    "h_z = cos(k_1*x)*cos(k_2*y)*sin(k_3*z)"
   ]
  },
  {
   "cell_type": "code",
   "execution_count": 6,
   "metadata": {},
   "outputs": [],
   "source": [
    "# выражения для магнитного поля\n",
    "\n",
    "H_x = B_1*h_x\n",
    "H_y = B_2*h_y\n",
    "H_z = B_3*h_z"
   ]
  },
  {
   "cell_type": "code",
   "execution_count": 7,
   "metadata": {},
   "outputs": [
    {
     "data": {
      "text/latex": [
       "$\\displaystyle B_{1} \\cos\\left(\\frac{\\pi n_{y} y}{b}\\right) \\cos\\left(k_{z} z\\right) \\sin\\left(\\frac{\\pi n_{x} x}{a}\\right)$"
      ],
      "text/plain": [
       "<IPython.core.display.Math object>"
      ]
     },
     "metadata": {},
     "output_type": "display_data"
    },
    {
     "data": {
      "text/latex": [
       "$\\displaystyle B_{2} \\cos\\left(\\frac{\\pi n_{x} x}{a}\\right) \\cos\\left(k_{z} z\\right) \\sin\\left(\\frac{\\pi n_{y} y}{b}\\right)$"
      ],
      "text/plain": [
       "<IPython.core.display.Math object>"
      ]
     },
     "metadata": {},
     "output_type": "display_data"
    },
    {
     "data": {
      "text/latex": [
       "$\\displaystyle B_{3} \\cos\\left(\\frac{\\pi n_{x} x}{a}\\right) \\cos\\left(\\frac{\\pi n_{y} y}{b}\\right) \\sin\\left(k_{z} z\\right)$"
      ],
      "text/plain": [
       "<IPython.core.display.Math object>"
      ]
     },
     "metadata": {},
     "output_type": "display_data"
    }
   ],
   "source": [
    "disp(H_x.subs(k_subs_xy))\n",
    "disp(H_y.subs(k_subs_xy))\n",
    "disp(H_z.subs(k_subs_xy))"
   ]
  },
  {
   "cell_type": "markdown",
   "metadata": {},
   "source": [
    "$$H_{x} = B_{1} \\cos\\left(\\frac{\\pi n_{y} y}{b}\\right) \\cos\\left(k_{z} z\\right) \\sin\\left(\\frac{\\pi n_{x} x}{a}\\right)$$\n",
    "$$H_{y} = B_{2} \\cos\\left(\\frac{\\pi n_{x} x}{a}\\right) \\cos\\left(k_{z} z\\right) \\sin\\left(\\frac{\\pi n_{y} y}{b}\\right)$$\n",
    "$$H_{z} = B_{3} \\cos\\left(\\frac{\\pi n_{x} x}{a}\\right) \\cos\\left(\\frac{\\pi n_{y} y}{b}\\right) \\sin\\left(k_{z} z\\right)$$"
   ]
  },
  {
   "cell_type": "markdown",
   "metadata": {},
   "source": [
    "$rot\\,\\vec{H} = - \\frac{i\\,\\omega}{c} \\epsilon \\vec{E}$"
   ]
  },
  {
   "cell_type": "code",
   "execution_count": 8,
   "metadata": {},
   "outputs": [],
   "source": [
    "rotH_x = H_z.diff(y) - H_y.diff(z)\n",
    "rotH_y = H_x.diff(z) - H_z.diff(x)\n",
    "rotH_z = H_y.diff(x) - H_x.diff(y)"
   ]
  },
  {
   "cell_type": "code",
   "execution_count": 9,
   "metadata": {},
   "outputs": [],
   "source": [
    "E_x = - c / (I * omega * mu) * rotH_x\n",
    "E_y = - c / (I * omega * mu) * rotH_y\n",
    "E_z = - c / (I * omega * mu) * rotH_z"
   ]
  },
  {
   "cell_type": "code",
   "execution_count": 10,
   "metadata": {},
   "outputs": [],
   "source": [
    "E_x = E_x.full_simplify().factor()\n",
    "E_y = E_y.full_simplify().factor()\n",
    "E_z = E_z.full_simplify().factor()"
   ]
  },
  {
   "cell_type": "code",
   "execution_count": 11,
   "metadata": {},
   "outputs": [
    {
     "data": {
      "text/latex": [
       "$\\displaystyle \\frac{i \\, {\\left(B_{2} k_{z} - \\frac{\\pi B_{3} n_{y}}{b}\\right)} c \\cos\\left(\\frac{\\pi n_{x} x}{a}\\right) \\sin\\left(\\frac{\\pi n_{y} y}{b}\\right) \\sin\\left(k_{z} z\\right)}{\\mu \\omega}$"
      ],
      "text/plain": [
       "<IPython.core.display.Math object>"
      ]
     },
     "metadata": {},
     "output_type": "display_data"
    },
    {
     "data": {
      "text/latex": [
       "$\\displaystyle -\\frac{i \\, {\\left(B_{1} k_{z} - \\frac{\\pi B_{3} n_{x}}{a}\\right)} c \\cos\\left(\\frac{\\pi n_{y} y}{b}\\right) \\sin\\left(\\frac{\\pi n_{x} x}{a}\\right) \\sin\\left(k_{z} z\\right)}{\\mu \\omega}$"
      ],
      "text/plain": [
       "<IPython.core.display.Math object>"
      ]
     },
     "metadata": {},
     "output_type": "display_data"
    },
    {
     "data": {
      "text/latex": [
       "$\\displaystyle -\\frac{i \\, {\\left(\\frac{\\pi B_{2} n_{x}}{a} - \\frac{\\pi B_{1} n_{y}}{b}\\right)} c \\cos\\left(k_{z} z\\right) \\sin\\left(\\frac{\\pi n_{x} x}{a}\\right) \\sin\\left(\\frac{\\pi n_{y} y}{b}\\right)}{\\mu \\omega}$"
      ],
      "text/plain": [
       "<IPython.core.display.Math object>"
      ]
     },
     "metadata": {},
     "output_type": "display_data"
    }
   ],
   "source": [
    "display(Math(latex(E_x.subs(k_subs_xy))))\n",
    "display(Math(latex(E_y.subs(k_subs_xy))))\n",
    "display(Math(latex(E_z.subs(k_subs_xy))))"
   ]
  },
  {
   "cell_type": "markdown",
   "metadata": {},
   "source": [
    "and \n",
    "\n",
    "$$E_{x} = \\frac{i \\, {\\left(B_{2} k_{z} - \\frac{\\pi B_{3} n_{y}}{b}\\right)} c \\cos\\left(\\frac{\\pi n_{x} x}{a}\\right) \\sin\\left(\\frac{\\pi n_{y} y}{b}\\right) \\sin\\left(k_{z} z\\right)}{\\mu \\omega}$$\n",
    "$$E_{y} = -\\frac{i \\, {\\left(B_{1} k_{z} - \\frac{\\pi B_{3} n_{x}}{a}\\right)} c \\cos\\left(\\frac{\\pi n_{y} y}{b}\\right) \\sin\\left(\\frac{\\pi n_{x} x}{a}\\right) \\sin\\left(k_{z} z\\right)}{\\mu \\omega}$$\n",
    "$$E_{z} = -\\frac{i \\, {\\left(\\frac{\\pi B_{2} n_{x}}{a} - \\frac{\\pi B_{1} n_{y}}{b}\\right)} c \\cos\\left(k_{z} z\\right) \\sin\\left(\\frac{\\pi n_{x} x}{a}\\right) \\sin\\left(\\frac{\\pi n_{y} y}{b}\\right)}{\\mu \\omega}$$"
   ]
  },
  {
   "cell_type": "code",
   "execution_count": 12,
   "metadata": {},
   "outputs": [],
   "source": [
    "eqE_x = E_x.diff(x,2) + E_x.diff(y,2) + E_x.diff(z,2) + mu*epsilon*omega^2/c^2 * E_x == 0\n",
    "eqE_y = E_y.diff(x,2) + E_y.diff(y,2) + E_y.diff(z,2) + mu*epsilon*omega^2/c^2 * E_y == 0\n",
    "eqE_z = E_z.diff(x,2) + E_z.diff(y,2) + E_z.diff(z,2) + mu*epsilon*omega^2/c^2 * E_z == 0"
   ]
  },
  {
   "cell_type": "code",
   "execution_count": 13,
   "metadata": {},
   "outputs": [],
   "source": [
    "eqH_x = H_x.diff(x,2) + H_x.diff(y,2) + H_x.diff(z,2) + mu*epsilon*omega^2/c^2 * H_x == 0\n",
    "eqH_y = H_y.diff(x,2) + H_y.diff(y,2) + H_y.diff(z,2) + mu*epsilon*omega^2/c^2 * H_y == 0\n",
    "eqH_z = H_z.diff(x,2) + H_z.diff(y,2) + H_z.diff(z,2) + mu*epsilon*omega^2/c^2 * H_z == 0"
   ]
  },
  {
   "cell_type": "code",
   "execution_count": 14,
   "metadata": {},
   "outputs": [
    {
     "data": {
      "text/latex": [
       "$\\displaystyle k_{x}^{2} + k_{y}^{2} + k_{z}^{2} - \\frac{\\epsilon \\mu \\omega^{2}}{c^{2}} = 0$"
      ],
      "text/plain": [
       "<IPython.core.display.Math object>"
      ]
     },
     "metadata": {},
     "output_type": "display_data"
    }
   ],
   "source": [
    "dispersion_eqH = (eqH_z.full_simplify().factor().lhs().operands()[0]/c^2).expand() == 0\n",
    "disp(dispersion_eqH)"
   ]
  },
  {
   "cell_type": "code",
   "execution_count": 15,
   "metadata": {},
   "outputs": [
    {
     "data": {
      "text/latex": [
       "$\\displaystyle k_{x}^{2} + k_{y}^{2} + k_{z}^{2} - \\frac{\\epsilon \\mu \\omega^{2}}{c^{2}} = 0$"
      ],
      "text/plain": [
       "<IPython.core.display.Math object>"
      ]
     },
     "metadata": {},
     "output_type": "display_data"
    }
   ],
   "source": [
    "dispersion_eqE = (eqE_z.full_simplify().factor().lhs().operands()[0]/c^2).expand() == 0\n",
    "disp(dispersion_eqE)"
   ]
  },
  {
   "cell_type": "markdown",
   "metadata": {},
   "source": [
    "with\n",
    "\n",
    "$$k_{z}^{2} + \\frac{\\pi^{2} n_{x}^{2}}{a^{2}} + \\frac{\\pi^{2} n_{y}^{2}}{b^{2}} - \\frac{\\omega^{2}}{c^{2}} = 0$$"
   ]
  },
  {
   "cell_type": "markdown",
   "metadata": {},
   "source": [
    "using $div\\,\\vec{H} = 0$ we have"
   ]
  },
  {
   "cell_type": "code",
   "execution_count": 16,
   "metadata": {},
   "outputs": [
    {
     "data": {
      "text/latex": [
       "$\\displaystyle B_{1} k_{x} + B_{2} k_{y} + B_{3} k_{z} = 0$"
      ],
      "text/plain": [
       "<IPython.core.display.Math object>"
      ]
     },
     "metadata": {},
     "output_type": "display_data"
    }
   ],
   "source": [
    "div_H = H_x.diff(x) + H_y.diff(y) + H_z.diff(z)\n",
    "eq_B = div_H.full_simplify().factor().operands()[0] == 0\n",
    "disp(eq_B)"
   ]
  },
  {
   "cell_type": "code",
   "execution_count": 17,
   "metadata": {},
   "outputs": [
    {
     "data": {
      "text/latex": [
       "$\\displaystyle B_{3} k_{z} + \\frac{\\pi B_{1} n_{x}}{a} + \\frac{\\pi B_{2} n_{y}}{b} = 0$"
      ],
      "text/plain": [
       "<IPython.core.display.Math object>"
      ]
     },
     "metadata": {},
     "output_type": "display_data"
    }
   ],
   "source": [
    "eq_B = eq_B.subs(k_subs_xy)\n",
    "disp(eq_B)"
   ]
  },
  {
   "cell_type": "markdown",
   "metadata": {},
   "source": [
    "\n",
    "$$B_{3} k_{z} + \\frac{\\pi B_{1} n_{x}}{a} + \\frac{\\pi B_{2} n_{y}}{b} = 0$$"
   ]
  },
  {
   "cell_type": "code",
   "execution_count": 18,
   "metadata": {},
   "outputs": [
    {
     "data": {
      "text/latex": [
       "$\\displaystyle \\omega^{2} = \\frac{c^{2} k_{x}^{2} + c^{2} k_{y}^{2} + c^{2} k_{z}^{2}}{\\epsilon \\mu}$"
      ],
      "text/plain": [
       "<IPython.core.display.Math object>"
      ]
     },
     "metadata": {},
     "output_type": "display_data"
    }
   ],
   "source": [
    "omega_2 = solve(eqE_x, omega^2)[0]\n",
    "disp(omega_2)"
   ]
  },
  {
   "cell_type": "code",
   "execution_count": 19,
   "metadata": {},
   "outputs": [
    {
     "data": {
      "text/latex": [
       "$\\displaystyle \\omega = c \\sqrt{\\frac{k_{x}^{2}}{\\epsilon \\mu} + \\frac{k_{y}^{2}}{\\epsilon \\mu} + \\frac{k_{z}^{2}}{\\epsilon \\mu}}$"
      ],
      "text/plain": [
       "<IPython.core.display.Math object>"
      ]
     },
     "metadata": {},
     "output_type": "display_data"
    }
   ],
   "source": [
    "omega_2 = solve(eqE_x, omega^2)[0]\n",
    "omega_1 = solve(eqE_x, omega)[1]\n",
    "disp(omega_1)"
   ]
  },
  {
   "cell_type": "markdown",
   "metadata": {},
   "source": [
    "Field energy density $\\left({\\int \\frac{H_x^2+H_y^2+H_z^2}{8 \\pi}dV}\\right)\\big/{V}$ is"
   ]
  },
  {
   "cell_type": "code",
   "execution_count": 20,
   "metadata": {},
   "outputs": [
    {
     "data": {
      "text/latex": [
       "$\\displaystyle \\frac{B_{1}^{2} + B_{2}^{2} + B_{3}^{2}}{64 \\, \\pi}$"
      ],
      "text/plain": [
       "<IPython.core.display.Math object>"
      ]
     },
     "metadata": {},
     "output_type": "display_data"
    }
   ],
   "source": [
    "E_H = (((H_x^2+H_y^2+H_z^2)/(8*pi)) \\\n",
    "       .subs(omega_1).subs(k_subs_xy).subs(k_subs_z) \\\n",
    "       .subs(epsilon == 1, mu == 1) \\\n",
    "       .integrate(x, 0, a).integrate(y, 0, b).integrate(z, 0, h) \\\n",
    "       .subs(omega_2)/(a*b*h)).expand().full_simplify()\n",
    "disp(E_H)"
   ]
  },
  {
   "cell_type": "markdown",
   "metadata": {},
   "source": [
    "$$\\frac{E}{V} = \\frac{{\\left(B_{1}^{2} + B_{2}^{2} + B_{3}^{2}\\right)}}{64 \\, \\pi}$$"
   ]
  },
  {
   "cell_type": "markdown",
   "metadata": {},
   "source": [
    "Full field energy density $\\left(\\int \\frac{E_x^2+E_y^2+E_z^2}{8 \\pi}dV + \\int \\frac{H_x^2+H_y^2+H_z^2}{8 \\pi}dV\\right)\\big/{V}$ is"
   ]
  },
  {
   "cell_type": "markdown",
   "metadata": {},
   "source": [
    "$$\\frac{E}{V} = \\frac{{\\left(B_{1}^{2} + B_{2}^{2} + B_{3}^{2}\\right)}}{32 \\, \\pi}$$"
   ]
  },
  {
   "cell_type": "markdown",
   "metadata": {},
   "source": [
    "Electromagnetic pressure $\\frac{\\int \\frac {H_x^2+H_y^2}{8 \\pi} dS}{S}$ on $xy$ plate is"
   ]
  },
  {
   "cell_type": "code",
   "execution_count": 21,
   "metadata": {},
   "outputs": [
    {
     "data": {
      "text/latex": [
       "$\\displaystyle \\frac{B_{1}^{2} + B_{2}^{2}}{32 \\, \\pi}$"
      ],
      "text/plain": [
       "<IPython.core.display.Math object>"
      ]
     },
     "metadata": {},
     "output_type": "display_data"
    },
    {
     "name": "stdout",
     "output_type": "stream",
     "text": [
      "\\frac{f_z}{S} = \\frac{B_{1}^{2} + B_{2}^{2}}{32 \\, \\pi}\n"
     ]
    }
   ],
   "source": [
    "F_z = (((H_x^2+H_y^2)/(8*pi)) \\\n",
    "       .subs(omega_1).subs(omega_2).subs(k_subs_xy) \\\n",
    "       .subs(epsilon == 1, mu == 1) \\\n",
    "       .integrate(x, 0, a).integrate(y, 0, b).subs(z == 0) \\\n",
    "       /(a*b)).factor().full_simplify()\n",
    "disp(F_z)\n",
    "print (\"\\\\frac{f_z}{S} = \"+latex(F_z))"
   ]
  },
  {
   "cell_type": "markdown",
   "metadata": {},
   "source": [
    "$$\\frac{f_z}{S}=\\frac{{\\left(B_{1}^{2} + B_{2}^{2}\\right)}}{32 \\, \\pi}$$"
   ]
  },
  {
   "cell_type": "markdown",
   "metadata": {},
   "source": [
    "Their relation $\\frac{f_z/S}{E/V}$ is"
   ]
  },
  {
   "cell_type": "code",
   "execution_count": 22,
   "metadata": {},
   "outputs": [
    {
     "data": {
      "text/latex": [
       "$\\displaystyle \\frac{B_{1}^{2} + B_{2}^{2}}{B_{1}^{2} + B_{2}^{2} + B_{3}^{2}}$"
      ],
      "text/plain": [
       "<IPython.core.display.Math object>"
      ]
     },
     "metadata": {},
     "output_type": "display_data"
    },
    {
     "name": "stdout",
     "output_type": "stream",
     "text": [
      "\\frac{f_z/S}{E/V} = \\frac{B_{1}^{2} + B_{2}^{2}}{B_{1}^{2} + B_{2}^{2} + B_{3}^{2}}\n"
     ]
    }
   ],
   "source": [
    "F_z_E = F_z / (E_H) / 2\n",
    "disp(F_z_E)\n",
    "print (\"\\\\frac{f_z/S}{E/V} = \"+latex(F_z_E))"
   ]
  },
  {
   "cell_type": "markdown",
   "metadata": {},
   "source": [
    "$$\\frac{f_z/S}{E/V} = \\frac{{B_{1}^{2} + B_{2}^{2}}}{B_{1}^{2} + B_{2}^{2} + B_{3}^{2}}$$"
   ]
  },
  {
   "cell_type": "markdown",
   "metadata": {},
   "source": [
    "Considering terms with wave propagation in $z$ direction we have $E_z = 0$ which give:"
   ]
  },
  {
   "cell_type": "code",
   "execution_count": 23,
   "metadata": {},
   "outputs": [],
   "source": [
    "eq_Ez0 = E_z == 0"
   ]
  },
  {
   "cell_type": "code",
   "execution_count": 24,
   "metadata": {},
   "outputs": [],
   "source": [
    "eq_Ez_0 = eq_Ez0.lhs().numerator().operands()[0] == 0"
   ]
  },
  {
   "cell_type": "code",
   "execution_count": 26,
   "metadata": {},
   "outputs": [
    {
     "data": {
      "text/latex": [
       "$\\displaystyle \\frac{\\pi B_{2} n_{x}}{a} - \\frac{\\pi B_{1} n_{y}}{b} = 0$"
      ],
      "text/plain": [
       "<IPython.core.display.Math object>"
      ]
     },
     "metadata": {},
     "output_type": "display_data"
    },
    {
     "name": "stdout",
     "output_type": "stream",
     "text": [
      "\\frac{\\pi B_{2} n_{x}}{a} - \\frac{\\pi B_{1} n_{y}}{b} = 0\n"
     ]
    }
   ],
   "source": [
    "eq_Ez_0 = eq_Ez_0.subs(k_subs_xy)\n",
    "disp(eq_Ez_0)\n",
    "print (latex(eq_Ez_0))"
   ]
  },
  {
   "cell_type": "markdown",
   "metadata": {},
   "source": [
    "$$\\frac{\\pi B_{2} n_{x}}{a} - \\frac{\\pi B_{1} n_{y}}{a} = 0$$"
   ]
  },
  {
   "cell_type": "code",
   "execution_count": 27,
   "metadata": {},
   "outputs": [
    {
     "data": {
      "text/latex": [
       "$\\displaystyle -\\frac{B_{3} a b^{2} k_{z} n_{x}}{\\pi b^{2} n_{x}^{2} + \\pi a^{2} n_{y}^{2}}$"
      ],
      "text/plain": [
       "<IPython.core.display.Math object>"
      ]
     },
     "metadata": {},
     "output_type": "display_data"
    },
    {
     "data": {
      "text/latex": [
       "$\\displaystyle -\\frac{B_{3} a^{2} b k_{z} n_{y}}{\\pi b^{2} n_{x}^{2} + \\pi a^{2} n_{y}^{2}}$"
      ],
      "text/plain": [
       "<IPython.core.display.Math object>"
      ]
     },
     "metadata": {},
     "output_type": "display_data"
    },
    {
     "name": "stdout",
     "output_type": "stream",
     "text": [
      "B_{1} = -\\frac{B_{3} a b^{2} k_{z} n_{x}}{\\pi b^{2} n_{x}^{2} + \\pi a^{2} n_{y}^{2}}\n",
      "B_{2} = -\\frac{B_{3} a^{2} b k_{z} n_{y}}{\\pi b^{2} n_{x}^{2} + \\pi a^{2} n_{y}^{2}}\n"
     ]
    }
   ],
   "source": [
    "B1_sol_z = solve(eq_B.subs(solve(eq_Ez_0, B_2)), B_1)[0].rhs()\n",
    "B2_sol_z = solve(eq_B.subs(solve(eq_Ez_0, B_1)), B_2)[0].rhs()\n",
    "disp(B1_sol_z)\n",
    "disp(B2_sol_z)\n",
    "print (latex(B_1 == B1_sol_z))\n",
    "print (latex(B_2 == B2_sol_z))"
   ]
  },
  {
   "cell_type": "markdown",
   "metadata": {},
   "source": [
    "$$B_1 = -\\frac{B_{3} a k_{z} n_{x}}{\\pi n_{x}^{2} + \\pi n_{y}^{2}}$$\n",
    "$$B_2 = -\\frac{B_{3} a k_{z} n_{y}}{\\pi n_{x}^{2} + \\pi n_{y}^{2}}$$"
   ]
  },
  {
   "cell_type": "markdown",
   "metadata": {},
   "source": [
    "Relation of electromagnetic pressure per field energy density in this case is"
   ]
  },
  {
   "cell_type": "code",
   "execution_count": 28,
   "metadata": {},
   "outputs": [
    {
     "data": {
      "text/latex": [
       "$\\displaystyle \\frac{a^{2} b^{2} k_{z}^{2}}{a^{2} b^{2} k_{z}^{2} + \\pi^{2} b^{2} n_{x}^{2} + \\pi^{2} a^{2} n_{y}^{2}}$"
      ],
      "text/plain": [
       "<IPython.core.display.Math object>"
      ]
     },
     "metadata": {},
     "output_type": "display_data"
    }
   ],
   "source": [
    "F_z_E_z = F_z_E.subs(B_1 == B1_sol_z, B_2 = B2_sol_z).factor()\n",
    "disp(F_z_E_z)"
   ]
  },
  {
   "cell_type": "code",
   "execution_count": 29,
   "metadata": {},
   "outputs": [
    {
     "data": {
      "text/latex": [
       "$\\displaystyle \\frac{a^{2} k_{z}^{2}}{a^{2} k_{z}^{2} + \\pi^{2} n_{x}^{2} + \\pi^{2} n_{y}^{2}}$"
      ],
      "text/plain": [
       "<IPython.core.display.Math object>"
      ]
     },
     "metadata": {},
     "output_type": "display_data"
    }
   ],
   "source": [
    "p_z_E_z = F_z_E_z.subs(b == a).full_simplify()\n",
    "disp(p_z_E_z)"
   ]
  },
  {
   "cell_type": "markdown",
   "metadata": {},
   "source": [
    "$$\\frac{f_z/S}{E/V} = \\frac{a^{2} k_{z}^{2}}{a^{2} k_{z}^{2} + \\pi^{2} n_{x}^{2} + \\pi^{2} n_{y}^{2}}$$"
   ]
  },
  {
   "cell_type": "markdown",
   "metadata": {},
   "source": [
    "Considering terms with wave propagation in $x$ direction we have $E_x = 0$ which give:"
   ]
  },
  {
   "cell_type": "code",
   "execution_count": 30,
   "metadata": {},
   "outputs": [
    {
     "data": {
      "text/latex": [
       "$\\displaystyle \\frac{\\pi B_{2} n_{x}}{a} - \\frac{\\pi B_{1} n_{y}}{b} = 0$"
      ],
      "text/plain": [
       "<IPython.core.display.Math object>"
      ]
     },
     "metadata": {},
     "output_type": "display_data"
    }
   ],
   "source": [
    "eq_Ex0 = E_x == 0\n",
    "eq_Ex_0 = eq_Ex0.lhs().numerator().operands()[0] == 0\n",
    "eq_Ez_0 = eq_Ez_0.subs(k_subs_xy)\n",
    "disp(eq_Ez_0)"
   ]
  },
  {
   "cell_type": "code",
   "execution_count": 31,
   "metadata": {},
   "outputs": [
    {
     "data": {
      "text/latex": [
       "$\\displaystyle -\\frac{\\pi B_{1} b k_{z} n_{x}}{a b k_{z}^{2} + \\pi a k_{y} n_{y}}$"
      ],
      "text/plain": [
       "<IPython.core.display.Math object>"
      ]
     },
     "metadata": {},
     "output_type": "display_data"
    },
    {
     "data": {
      "text/latex": [
       "$\\displaystyle -\\frac{\\pi B_{1} b k_{y} n_{x}}{a b k_{z}^{2} + \\pi a k_{y} n_{y}}$"
      ],
      "text/plain": [
       "<IPython.core.display.Math object>"
      ]
     },
     "metadata": {},
     "output_type": "display_data"
    },
    {
     "name": "stdout",
     "output_type": "stream",
     "text": [
      "B_{3} = -\\frac{\\pi B_{1} b k_{z} n_{x}}{a b k_{z}^{2} + \\pi a k_{y} n_{y}}\n",
      "B_{2} = -\\frac{\\pi B_{1} b k_{y} n_{x}}{a b k_{z}^{2} + \\pi a k_{y} n_{y}}\n"
     ]
    }
   ],
   "source": [
    "B3_sol_x = solve(eq_B.subs(solve(eq_Ex_0, B_2)), B_3)[0].rhs()\n",
    "B2_sol_x = solve(eq_B.subs(solve(eq_Ex_0, B_3)), B_2)[0].rhs()\n",
    "disp(B3_sol_x)\n",
    "disp(B2_sol_x)\n",
    "print (latex(B_3 == B3_sol_x))\n",
    "print (latex(B_2 == B2_sol_x))"
   ]
  },
  {
   "cell_type": "markdown",
   "metadata": {},
   "source": [
    "$$B_3 = -\\frac{\\pi B_{1} a k_{z} n_{x}}{a^{2} k_{z}^{2} + \\pi^{2} n_{y}^{2}}, \n",
    "B_2 = -\\frac{\\pi^{2} B_{1} n_{x} n_{y}}{a^{2} k_{z}^{2} + \\pi^{2} n_{y}^{2}}$$"
   ]
  },
  {
   "cell_type": "markdown",
   "metadata": {},
   "source": [
    "Relation of electromagnetic pressure per field energy density in this case is"
   ]
  },
  {
   "cell_type": "code",
   "execution_count": 32,
   "metadata": {},
   "outputs": [
    {
     "data": {
      "text/latex": [
       "$\\displaystyle \\frac{a^{2} b^{4} k_{z}^{4} + 2 \\, \\pi^{2} a^{2} b^{2} k_{z}^{2} n_{y}^{2} + \\pi^{4} b^{2} n_{x}^{2} n_{y}^{2} + \\pi^{4} a^{2} n_{y}^{4}}{{\\left(a^{2} b^{2} k_{z}^{2} + \\pi^{2} b^{2} n_{x}^{2} + \\pi^{2} a^{2} n_{y}^{2}\\right)} {\\left(b^{2} k_{z}^{2} + \\pi^{2} n_{y}^{2}\\right)}}$"
      ],
      "text/plain": [
       "<IPython.core.display.Math object>"
      ]
     },
     "metadata": {},
     "output_type": "display_data"
    },
    {
     "name": "stdout",
     "output_type": "stream",
     "text": [
      "\\frac{f_z/S}{E/V} = \\frac{a^{2} b^{4} k_{z}^{4} + 2 \\, \\pi^{2} a^{2} b^{2} k_{z}^{2} n_{y}^{2} + \\pi^{4} b^{2} n_{x}^{2} n_{y}^{2} + \\pi^{4} a^{2} n_{y}^{4}}{{\\left(a^{2} b^{2} k_{z}^{2} + \\pi^{2} b^{2} n_{x}^{2} + \\pi^{2} a^{2} n_{y}^{2}\\right)} {\\left(b^{2} k_{z}^{2} + \\pi^{2} n_{y}^{2}\\right)}}\n"
     ]
    }
   ],
   "source": [
    "F_z_E_x = F_z_E.subs(B_3 == B3_sol_x, B_2 == B2_sol_x).subs(k_subs_xy).factor()\n",
    "disp(F_z_E_x)\n",
    "print(\"\\\\frac{f_z/S}{E/V} = \"+latex(F_z_E_x))"
   ]
  },
  {
   "cell_type": "markdown",
   "metadata": {},
   "source": [
    "$$\\frac{f_z/S}{E/V} = \\frac{a^{2} b^{4} k_{z}^{4} + 2 \\, \\pi^{2} a^{2} b^{2} k_{z}^{2} n_{y}^{2} + \\pi^{4} b^{2} n_{x}^{2} n_{y}^{2} + \\pi^{4} a^{2} n_{y}^{4}}{{\\left(a^{2} b^{2} k_{z}^{2} + \\pi^{2} b^{2} n_{x}^{2} + \\pi^{2} a^{2} n_{y}^{2}\\right)} {\\left(b^{2} k_{z}^{2} + \\pi^{2} n_{y}^{2}\\right)}}$$"
   ]
  },
  {
   "cell_type": "code",
   "execution_count": 33,
   "metadata": {},
   "outputs": [
    {
     "data": {
      "text/latex": [
       "$\\displaystyle \\frac{a^{4} k_{z}^{4} + \\pi^{4} n_{y}^{4} + {\\left(2 \\, \\pi^{2} a^{2} k_{z}^{2} + \\pi^{4} n_{x}^{2}\\right)} n_{y}^{2}}{a^{4} k_{z}^{4} + \\pi^{2} a^{2} k_{z}^{2} n_{x}^{2} + \\pi^{4} n_{y}^{4} + {\\left(2 \\, \\pi^{2} a^{2} k_{z}^{2} + \\pi^{4} n_{x}^{2}\\right)} n_{y}^{2}}$"
      ],
      "text/plain": [
       "<IPython.core.display.Math object>"
      ]
     },
     "metadata": {},
     "output_type": "display_data"
    }
   ],
   "source": [
    "p_z_E_x = F_z_E_x.subs(b == a).full_simplify()\n",
    "disp(p_z_E_x)"
   ]
  },
  {
   "cell_type": "markdown",
   "metadata": {},
   "source": [
    "Considering terms with wave propagation in $y$ direction $E_y = 0$ is similar to them in $x$ direction"
   ]
  },
  {
   "cell_type": "code",
   "execution_count": 34,
   "metadata": {},
   "outputs": [
    {
     "data": {
      "text/latex": [
       "$\\displaystyle \\frac{i \\, {\\left(B_{3} k_{x} - B_{1} k_{z}\\right)} c \\cos\\left(k_{y} y\\right) \\sin\\left(k_{x} x\\right) \\sin\\left(k_{z} z\\right)}{\\mu \\omega} = 0$"
      ],
      "text/plain": [
       "<IPython.core.display.Math object>"
      ]
     },
     "metadata": {},
     "output_type": "display_data"
    },
    {
     "data": {
      "text/latex": [
       "$\\displaystyle B_{3} k_{x} - B_{1} k_{z} = 0$"
      ],
      "text/plain": [
       "<IPython.core.display.Math object>"
      ]
     },
     "metadata": {},
     "output_type": "display_data"
    },
    {
     "data": {
      "text/latex": [
       "$\\displaystyle -B_{1} k_{z} + \\frac{\\pi B_{3} n_{x}}{a} = 0$"
      ],
      "text/plain": [
       "<IPython.core.display.Math object>"
      ]
     },
     "metadata": {},
     "output_type": "display_data"
    }
   ],
   "source": [
    "eq_Ey0 = E_y == 0\n",
    "disp(eq_Ey0)\n",
    "eq_Ey_0 = eq_Ey0.lhs().numerator().operands()[0] == 0\n",
    "disp(eq_Ey_0)\n",
    "eq_Ey_0 = eq_Ey_0.subs(k_subs_xy)\n",
    "disp(eq_Ey_0)"
   ]
  },
  {
   "cell_type": "code",
   "execution_count": 35,
   "metadata": {},
   "outputs": [
    {
     "data": {
      "text/latex": [
       "$\\displaystyle -\\frac{\\pi^{2} B_{2} a n_{x} n_{y}}{a^{2} b k_{z}^{2} + \\pi^{2} b n_{x}^{2}}$"
      ],
      "text/plain": [
       "<IPython.core.display.Math object>"
      ]
     },
     "metadata": {},
     "output_type": "display_data"
    },
    {
     "data": {
      "text/latex": [
       "$\\displaystyle -\\frac{\\pi B_{2} a^{2} k_{z} n_{y}}{a^{2} b k_{z}^{2} + \\pi^{2} b n_{x}^{2}}$"
      ],
      "text/plain": [
       "<IPython.core.display.Math object>"
      ]
     },
     "metadata": {},
     "output_type": "display_data"
    },
    {
     "name": "stdout",
     "output_type": "stream",
     "text": [
      "B_{1} = -\\frac{\\pi^{2} B_{2} a n_{x} n_{y}}{a^{2} b k_{z}^{2} + \\pi^{2} b n_{x}^{2}}\n",
      "B_{3} = -\\frac{\\pi B_{2} a^{2} k_{z} n_{y}}{a^{2} b k_{z}^{2} + \\pi^{2} b n_{x}^{2}}\n"
     ]
    }
   ],
   "source": [
    "B1_sol_y = solve(eq_B.subs(solve(eq_Ey_0, B_3)), B_1)[0].rhs()\n",
    "B3_sol_y = solve(eq_B.subs(solve(eq_Ey_0, B_1)), B_3)[0].rhs()\n",
    "disp(B1_sol_y)\n",
    "disp(B3_sol_y)\n",
    "print (latex(B_1 == B1_sol_y))\n",
    "print (latex(B_3 == B3_sol_y))"
   ]
  },
  {
   "cell_type": "markdown",
   "metadata": {},
   "source": [
    "$$B_3 = -\\frac{\\pi B_{2} a k_{z} n_{y}}{a^{2} k_{z}^{2} + \\pi^{2} n_{x}^{2}}, \n",
    "B_1 = -\\frac{\\pi^{2} B_{2} n_{x} n_{y}}{a^{2} k_{z}^{2} + \\pi^{2} n_{x}^{2}}$$"
   ]
  },
  {
   "cell_type": "markdown",
   "metadata": {},
   "source": [
    "Relation of electromagnetic pressure per field energy density in this case is"
   ]
  },
  {
   "cell_type": "code",
   "execution_count": 36,
   "metadata": {},
   "outputs": [
    {
     "data": {
      "text/latex": [
       "$\\displaystyle \\frac{a^{4} b^{2} k_{z}^{4} + 2 \\, \\pi^{2} a^{2} b^{2} k_{z}^{2} n_{x}^{2} + \\pi^{4} b^{2} n_{x}^{4} + \\pi^{4} a^{2} n_{x}^{2} n_{y}^{2}}{{\\left(a^{2} b^{2} k_{z}^{2} + \\pi^{2} b^{2} n_{x}^{2} + \\pi^{2} a^{2} n_{y}^{2}\\right)} {\\left(a^{2} k_{z}^{2} + \\pi^{2} n_{x}^{2}\\right)}}$"
      ],
      "text/plain": [
       "<IPython.core.display.Math object>"
      ]
     },
     "metadata": {},
     "output_type": "display_data"
    },
    {
     "name": "stdout",
     "output_type": "stream",
     "text": [
      "\\frac{f_z/S}{E/V} = \\frac{a^{4} b^{2} k_{z}^{4} + 2 \\, \\pi^{2} a^{2} b^{2} k_{z}^{2} n_{x}^{2} + \\pi^{4} b^{2} n_{x}^{4} + \\pi^{4} a^{2} n_{x}^{2} n_{y}^{2}}{{\\left(a^{2} b^{2} k_{z}^{2} + \\pi^{2} b^{2} n_{x}^{2} + \\pi^{2} a^{2} n_{y}^{2}\\right)} {\\left(a^{2} k_{z}^{2} + \\pi^{2} n_{x}^{2}\\right)}}\n"
     ]
    }
   ],
   "source": [
    "F_z_E_y = F_z_E.subs(B_1 == B1_sol_y, B_3 = B3_sol_y).subs(k_subs_xy).factor()\n",
    "disp(F_z_E_y)\n",
    "print(\"\\\\frac{f_z/S}{E/V} = \"+latex(F_z_E_y))"
   ]
  },
  {
   "cell_type": "markdown",
   "metadata": {},
   "source": [
    "$$\\frac{f_z/S}{E/V} = \\frac{a^{4} b^{2} k_{z}^{4} + 2 \\, \\pi^{2} a^{2} b^{2} k_{z}^{2} n_{x}^{2} + \\pi^{4} b^{2} n_{x}^{4} + \\pi^{4} a^{2} n_{x}^{2} n_{y}^{2}}{{\\left(a^{2} b^{2} k_{z}^{2} + \\pi^{2} b^{2} n_{x}^{2} + \\pi^{2} a^{2} n_{y}^{2}\\right)} {\\left(a^{2} k_{z}^{2} + \\pi^{2} n_{x}^{2}\\right)}}$$"
   ]
  },
  {
   "cell_type": "code",
   "execution_count": 37,
   "metadata": {},
   "outputs": [
    {
     "data": {
      "text/latex": [
       "$\\displaystyle \\frac{a^{4} k_{z}^{4} + 2 \\, \\pi^{2} a^{2} k_{z}^{2} n_{x}^{2} + \\pi^{4} n_{x}^{4} + \\pi^{4} n_{x}^{2} n_{y}^{2}}{a^{4} k_{z}^{4} + 2 \\, \\pi^{2} a^{2} k_{z}^{2} n_{x}^{2} + \\pi^{4} n_{x}^{4} + {\\left(\\pi^{2} a^{2} k_{z}^{2} + \\pi^{4} n_{x}^{2}\\right)} n_{y}^{2}}$"
      ],
      "text/plain": [
       "<IPython.core.display.Math object>"
      ]
     },
     "metadata": {},
     "output_type": "display_data"
    }
   ],
   "source": [
    "disp((F_z_E_y.subs(b == a)).full_simplify())"
   ]
  },
  {
   "cell_type": "code",
   "execution_count": 38,
   "metadata": {},
   "outputs": [
    {
     "data": {
      "text/plain": [
       "a^2*k_z^2/(a^2*k_z^2 + 2*pi^2)"
      ]
     },
     "execution_count": 38,
     "metadata": {},
     "output_type": "execute_result"
    }
   ],
   "source": [
    "p_z_E_z.subs(n_x == 1, n_y == 1)"
   ]
  },
  {
   "cell_type": "code",
   "execution_count": 39,
   "metadata": {},
   "outputs": [
    {
     "data": {
      "image/png": "[encoded data removed]",
      "text/plain": [
       "Graphics object consisting of 1 graphics primitive"
      ]
     },
     "execution_count": 39,
     "metadata": {},
     "output_type": "execute_result"
    }
   ],
   "source": [
    "plot(p_z_E_z.subs(a == 1, n_x == 1, n_y == 100), k_z, 0, 1000)"
   ]
  },
  {
   "cell_type": "code",
   "execution_count": 40,
   "metadata": {},
   "outputs": [
    {
     "data": {
      "image/png": "[encoded data removed]",
      "text/plain": [
       "Graphics object consisting of 1 graphics primitive"
      ]
     },
     "execution_count": 40,
     "metadata": {},
     "output_type": "execute_result"
    }
   ],
   "source": [
    "plot(p_z_E_x.subs(a == 0.0001, n_x == 1000, n_y == 1000), k_z, 0, 1000000000)"
   ]
  },
  {
   "cell_type": "code",
   "execution_count": 41,
   "metadata": {},
   "outputs": [
    {
     "data": {
      "text/plain": [
       "1"
      ]
     },
     "execution_count": 41,
     "metadata": {},
     "output_type": "execute_result"
    }
   ],
   "source": [
    "limit(F_z_E_x, k_z=Infinity)"
   ]
  },
  {
   "cell_type": "code",
   "execution_count": 42,
   "metadata": {},
   "outputs": [
    {
     "data": {
      "text/plain": [
       "1"
      ]
     },
     "execution_count": 42,
     "metadata": {},
     "output_type": "execute_result"
    }
   ],
   "source": [
    "limit(F_z_E_y, k_z=Infinity)"
   ]
  },
  {
   "cell_type": "code",
   "execution_count": 43,
   "metadata": {},
   "outputs": [
    {
     "data": {
      "text/plain": [
       "1"
      ]
     },
     "execution_count": 43,
     "metadata": {},
     "output_type": "execute_result"
    }
   ],
   "source": [
    "limit(F_z_E_z, k_z=Infinity)"
   ]
  }
 ],
 "metadata": {
  "kernelspec": {
   "display_name": "SageMath 9.6.beta7",
   "language": "sage",
   "name": "sagemath"
  },
  "language_info": {
   "codemirror_mode": {
    "name": "ipython",
    "version": 3
   },
   "file_extension": ".py",
   "mimetype": "text/x-python",
   "name": "python",
   "nbconvert_exporter": "python",
   "pygments_lexer": "ipython3",
   "version": "3.10.3"
  }
 },
 "nbformat": 4,
 "nbformat_minor": 2
}
