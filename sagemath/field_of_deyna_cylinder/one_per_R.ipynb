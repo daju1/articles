{
 "cells": [
  {
   "cell_type": "code",
   "execution_count": 1,
   "metadata": {},
   "outputs": [],
   "source": [
    "from IPython.display import display, Math, Latex\n",
    "\n",
    "phi_j = var(\"phi_j\")\n",
    "Rja2       = lambda rj, ra, zj, za, phi_j : rj^2 + ra^2 - 2*rj*ra*cos(phi_j) + (zj-za)^2\n",
    "one_per_R  = lambda rj, ra, zj, za, phi_j : 1 / sqrt(Rja2(rj, ra, zj, za, phi_j))"
   ]
  },
  {
   "cell_type": "code",
   "execution_count": 2,
   "metadata": {},
   "outputs": [],
   "source": [
    "z_j = var(\"z_j\")\n",
    "z_a = var(\"z_a\")\n",
    "r_j = var(\"r_j\")\n",
    "r_a = var(\"r_a\")\n",
    "phi = var(\"phi\")\n",
    "\n",
    "assume(r_j>0)\n",
    "assume(r_a>0)"
   ]
  },
  {
   "cell_type": "code",
   "execution_count": 3,
   "metadata": {},
   "outputs": [],
   "source": [
    "m = var(\"m\")\n",
    "k = var(\"k\")\n",
    "#assume(zj-za>0)\n",
    "one_per_R_bessel_integral  = lambda m, rj, ra, zj, za : integrate(bessel_J(m,k*rj)*bessel_J(m,k*ra)*exp(-k*abs(zj-za)), (k,0,infinity), hold=True)\n",
    "one_per_R_bessel_integral_dummy  = lambda m, rj, ra, zj, za : function(\"f\")(m, rj, ra, zj, za)\n",
    "\n",
    "#one_per_R_bessel  = lambda rj, ra, zj, za, phi_j : sum(exp(I*m*phi_j)*integrate(bessel_J(m,k*rj)*bessel_J(m,k*ra)*exp(-k*abs(zj-za)), (k,0,infinity), hold=True), m, -infinity, infinity, hold=True)\n",
    "\n",
    "one_per_R_bessel  = lambda rj, ra, zj, za, phi_j : sum(exp(I*m*phi_j)*one_per_R_bessel_integral(m, rj, ra, zj, za), m, -infinity, infinity, hold=True)\n",
    "one_per_R_bessel_dummy  = lambda rj, ra, zj, za, phi_j : sum(exp(I*m*phi_j)*one_per_R_bessel_integral_dummy(m, rj, ra, zj, za), m, -infinity, infinity, hold=True)\n",
    "one_per_R_bessel_dummy_one  = lambda rj, ra, zj, za, phi_j : exp(I*m*phi_j)*one_per_R_bessel_integral_dummy(m, rj, ra, zj, za)"
   ]
  },
  {
   "cell_type": "code",
   "execution_count": 4,
   "metadata": {},
   "outputs": [
    {
     "data": {
      "text/plain": [
       "sum(e^(I*m*phi_j)*integrate(bessel_J(m, k*r_a)*bessel_J(m, k*r_j)*e^(-k*abs(-z_a + z_j)), k, 0, +Infinity), m, -Infinity, +Infinity)"
      ]
     },
     "execution_count": 4,
     "metadata": {},
     "output_type": "execute_result"
    }
   ],
   "source": [
    "one_per_R_bessel(r_j, r_a, z_j, z_a, phi_j)"
   ]
  },
  {
   "cell_type": "code",
   "execution_count": 5,
   "metadata": {},
   "outputs": [
    {
     "data": {
      "text/latex": [
       "$${\\sum_{m=-\\infty}^{+\\infty} e^{\\left(i \\, m \\phi_{j}\\right)} \\int_{0}^{+\\infty} J_{m}(k r_{a}) J_{m}(k r_{j}) e^{\\left(-k {\\left| -z_{a} + z_{j} \\right|}\\right)}\\,{d k}}$$"
      ],
      "text/plain": [
       "<IPython.core.display.Math object>"
      ]
     },
     "metadata": {},
     "output_type": "display_data"
    }
   ],
   "source": [
    "display(Math(latex(one_per_R_bessel(r_j, r_a, z_j, z_a, phi_j))))"
   ]
  },
  {
   "cell_type": "code",
   "execution_count": 6,
   "metadata": {},
   "outputs": [
    {
     "data": {
      "text/latex": [
       "$${\\sum_{m=-\\infty}^{+\\infty} e^{\\left(i \\, m \\phi_{j}\\right)} f\\left(m, r_{j}, r_{a}, z_{j}, z_{a}\\right)}$$"
      ],
      "text/plain": [
       "<IPython.core.display.Math object>"
      ]
     },
     "metadata": {},
     "output_type": "display_data"
    }
   ],
   "source": [
    "display(Math(latex(one_per_R_bessel_dummy(r_j, r_a, z_j, z_a, phi_j))))"
   ]
  },
  {
   "cell_type": "code",
   "execution_count": 7,
   "metadata": {},
   "outputs": [
    {
     "data": {
      "text/latex": [
       "$$\\int_{0}^{+\\infty} J_{m}(k r_{a}) J_{m}(k r_{j}) e^{\\left(-k {\\left| -z_{a} + z_{j} \\right|}\\right)}\\,{d k}$$"
      ],
      "text/plain": [
       "<IPython.core.display.Math object>"
      ]
     },
     "metadata": {},
     "output_type": "display_data"
    }
   ],
   "source": [
    "\n",
    "display(Math(latex(one_per_R_bessel_integral(m, r_j, r_a, z_j, z_a))))"
   ]
  },
  {
   "cell_type": "code",
   "execution_count": 8,
   "metadata": {},
   "outputs": [],
   "source": [
    "#display(Math(\"$$one_per_R_bessel = \" + latex(one_per_R_bessel(r_j, r_a, z_j, z_a, phi_j)) + \"$$\"))"
   ]
  },
  {
   "cell_type": "code",
   "execution_count": 9,
   "metadata": {},
   "outputs": [
    {
     "data": {
      "text/plain": [
       "sin(m*phi_j)/m"
      ]
     },
     "execution_count": 9,
     "metadata": {},
     "output_type": "execute_result"
    }
   ],
   "source": [
    "integrate(exp(I*m*phi_j).real(),phi_j)"
   ]
  },
  {
   "cell_type": "code",
   "execution_count": 10,
   "metadata": {},
   "outputs": [
    {
     "data": {
      "text/plain": [
       "sin(2*pi*m)/m"
      ]
     },
     "execution_count": 10,
     "metadata": {},
     "output_type": "execute_result"
    }
   ],
   "source": [
    "integrate(exp(I*m*phi_j).real(),(phi_j, 0, 2*pi))"
   ]
  },
  {
   "cell_type": "code",
   "execution_count": 11,
   "metadata": {},
   "outputs": [],
   "source": [
    "one_per_R_bessel_int_phi = lambda rj, ra, zj, za : sum(sin(2*pi*m)/m*one_per_R_bessel_integral(m, rj, ra, zj, za), m, -infinity, infinity, hold=True)"
   ]
  },
  {
   "cell_type": "code",
   "execution_count": 12,
   "metadata": {},
   "outputs": [
    {
     "data": {
      "text/plain": [
       "sum(integrate(bessel_J(m, k*r_a)*bessel_J(m, k*r_j)*e^(-k*abs(-z_a + z_j)), k, 0, +Infinity)*sin(2*pi*m)/m, m, -Infinity, +Infinity)"
      ]
     },
     "execution_count": 12,
     "metadata": {},
     "output_type": "execute_result"
    }
   ],
   "source": [
    "one_per_R_bessel_int_phi(r_j, r_a, z_j, z_a)"
   ]
  },
  {
   "cell_type": "code",
   "execution_count": 13,
   "metadata": {},
   "outputs": [
    {
     "data": {
      "text/plain": [
       "sum(integrate(bessel_J(m, k*r_a)*bessel_J(m, k*r_j)*e^(-k*abs(-z_a + z_j)), k, 0, +Infinity)*sin(2*pi*m)/m, m, -Infinity, +Infinity)"
      ]
     },
     "execution_count": 13,
     "metadata": {},
     "output_type": "execute_result"
    }
   ],
   "source": [
    "sum(integrate(bessel_J(m, k*r_a)*bessel_J(m, k*r_j)*e^(-k*abs(-z_a + z_j)), k, 0, +Infinity, hold=True)*sin(2*pi*m)/m, m, -Infinity, +Infinity, hold=True)"
   ]
  },
  {
   "cell_type": "code",
   "execution_count": 14,
   "metadata": {},
   "outputs": [
    {
     "data": {
      "text/latex": [
       "$$\\int_{0}^{+\\infty} \\frac{J_{m}(k r_{a}) J_{m}(k r_{j}) e^{\\left(-k {\\left| -z_{a} + z_{j} \\right|}\\right)} \\sin\\left(2 \\, \\pi m\\right)}{m}\\,{d k}$$"
      ],
      "text/plain": [
       "<IPython.core.display.Math object>"
      ]
     },
     "metadata": {},
     "output_type": "display_data"
    }
   ],
   "source": [
    "display(Math(latex(integrate(bessel_J(m, k*r_a)*bessel_J(m, k*r_j)*e^(-k*abs(-z_a + z_j))*sin(2*pi*m)/m, k, 0, +Infinity, hold=True))))"
   ]
  },
  {
   "cell_type": "code",
   "execution_count": 15,
   "metadata": {},
   "outputs": [
    {
     "data": {
      "text/latex": [
       "$$2 \\, \\pi \\int_{0}^{+\\infty} J_{0}(k r_{a}) J_{0}(k r_{j}) e^{\\left(-k {\\left| -z_{a} + z_{j} \\right|}\\right)}\\,{d k}$$"
      ],
      "text/plain": [
       "<IPython.core.display.Math object>"
      ]
     },
     "metadata": {},
     "output_type": "display_data"
    }
   ],
   "source": [
    "display(Math(latex(2*pi*integrate(bessel_J(0, k*r_a)*bessel_J(0, k*r_j)*e^(-k*abs(-z_a + z_j)), k, 0, +Infinity, hold=True))))"
   ]
  },
  {
   "cell_type": "code",
   "execution_count": 16,
   "metadata": {},
   "outputs": [],
   "source": [
    "def get_integrand_view(f):\n",
    "    return f(x)\n",
    "\n",
    "class my_dummy_integral:\n",
    "    f = None\n",
    "    a = None\n",
    "    b = None\n",
    "    def __init__(self, f, a, b):\n",
    "        print (\"my_dummy_integral \", f, a, b)\n",
    "        self.f = f\n",
    "        self.a = a\n",
    "        self.b = b\n",
    "\n",
    "def num_int(f, a, b):\n",
    "    from scipy import integrate\n",
    "\n",
    "    to_call_integration = True\n",
    "\n",
    "    if type(f) is my_dummy_integral:\n",
    "        to_call_integration = False\n",
    "\n",
    "    import inspect\n",
    "    stack = inspect.stack()\n",
    "    for frame in stack:\n",
    "        func_name = frame[3]\n",
    "        # print (\"func_name = \", func_name)\n",
    "        if ('get_integrand_view' == func_name):\n",
    "            to_call_integration = False\n",
    "            break;\n",
    "\n",
    "    if not to_call_integration:\n",
    "        return my_dummy_integral(f,a,b)\n",
    "\n",
    "    try:\n",
    "        integral = integrate.quad(f, a, b)\n",
    "\n",
    "        result = integral[0]\n",
    "        return result\n",
    "\n",
    "    except Exception as ex:\n",
    "\n",
    "        print (\"Exception ex = \", str(ex))\n",
    "        print (\"f = \", f)\n",
    "        try:\n",
    "            print (\"integrand = \", get_integrand_view(f))\n",
    "        except Exception as ex2:\n",
    "            print (\"Exception ex2 = \", ex2)\n",
    "        print (\"a = \", a)\n",
    "        print (\"b = \", b)\n",
    "\n",
    "        raise ex\n",
    "\n",
    "        integral = numerical_integral(f, a, b)\n",
    "\n",
    "        print (\"integral = \", integral)\n",
    "\n",
    "        result = integral[0]\n",
    "        print (\"result = \", result)\n",
    "        return result\n"
   ]
  },
  {
   "cell_type": "code",
   "execution_count": 17,
   "metadata": {},
   "outputs": [
    {
     "data": {
      "text/latex": [
       "$$IR_{\\varphi} = 2 \\, \\pi \\int_{0}^{+\\infty} J_{0}(k r_{a}) J_{0}(k r_{j}) e^{\\left(-k {\\left| -z_{a} + z_{j} \\right|}\\right)}\\,{d k} $$"
      ],
      "text/plain": [
       "<IPython.core.display.Math object>"
      ]
     },
     "metadata": {},
     "output_type": "display_data"
    }
   ],
   "source": [
    "one_per_R_bessel_int_phi = lambda rj, ra, zj, za : 2*pi*integrate(bessel_J(0, k*ra)*bessel_J(0, k*rj)*e^(-k*abs(-za + zj)), k, 0, +Infinity, hold=True)\n",
    "display(Math(\"$$IR_{\\\\varphi} =\" + latex(one_per_R_bessel_int_phi(r_j, r_a, z_j, z_a)) + \"$$\"))"
   ]
  },
  {
   "cell_type": "code",
   "execution_count": 18,
   "metadata": {},
   "outputs": [],
   "source": [
    "one_per_R_bessel_int_phi = lambda rj, ra, zj, za : num_int(lambda k : 2*pi*bessel_J(0, k*ra)*bessel_J(0, k*rj)*e^(-k*abs(-za + zj)), 0, +Infinity)\n",
    "#display(Math(\"$$IRb_{\\\\varphi} =\" + latex(one_per_R_bessel_int_phi(r_j, r_a, z_j, z_a)) + \"$$\"))"
   ]
  },
  {
   "cell_type": "code",
   "execution_count": 19,
   "metadata": {},
   "outputs": [
    {
     "data": {
      "text/latex": [
       "$$IR_{\\varphi} = \\frac{4 \\, K\\left(-\\frac{4 \\, r_{a} r_{j}}{{\\left(r_{a} - r_{j}\\right)}^{2} + {\\left(z_{a} - z_{j}\\right)}^{2}}\\right)}{\\sqrt{{\\left(r_{a} - r_{j}\\right)}^{2} + {\\left(z_{a} - z_{j}\\right)}^{2}}} $$"
      ],
      "text/plain": [
       "<IPython.core.display.Math object>"
      ]
     },
     "metadata": {},
     "output_type": "display_data"
    }
   ],
   "source": [
    "rja2   = lambda rj, ra, zj, za : (rj-ra)^2+(zj-za)^2\n",
    "module = lambda rj, ra, zj, za : - 4*rj*ra / rja2(rj, ra, zj, za)\n",
    "IRphi  = lambda rj, ra, zj, za : 4*elliptic_kc(module(rj, ra, zj, za)) / sqrt(rja2(rj, ra, zj, za))\n",
    "display(Math(\"$$IR_{\\\\varphi} =\" + latex(IRphi(r_j, r_a, z_j, z_a)) + \"$$\"))"
   ]
  },
  {
   "cell_type": "code",
   "execution_count": 20,
   "metadata": {},
   "outputs": [
    {
     "data": {
      "text/plain": [
       "2.85516399176746"
      ]
     },
     "execution_count": 20,
     "metadata": {},
     "output_type": "execute_result"
    }
   ],
   "source": [
    "IRphi(rj = 1, ra = 2, zj = 0, za = 1).n()"
   ]
  },
  {
   "cell_type": "code",
   "execution_count": 21,
   "metadata": {},
   "outputs": [
    {
     "data": {
      "text/plain": [
       "2.8551639917674607"
      ]
     },
     "execution_count": 21,
     "metadata": {},
     "output_type": "execute_result"
    }
   ],
   "source": [
    "one_per_R_bessel_int_phi(rj = 1, ra = 2, zj = 0, za = 1)"
   ]
  },
  {
   "cell_type": "code",
   "execution_count": null,
   "metadata": {},
   "outputs": [],
   "source": []
  },
  {
   "cell_type": "code",
   "execution_count": 22,
   "metadata": {},
   "outputs": [
    {
     "data": {
      "text/plain": [
       "2.18168672927974"
      ]
     },
     "execution_count": 22,
     "metadata": {},
     "output_type": "execute_result"
    }
   ],
   "source": [
    "IRphi(rj = 1, ra = 2, zj = 0, za = 2).n()"
   ]
  },
  {
   "cell_type": "code",
   "execution_count": 23,
   "metadata": {},
   "outputs": [
    {
     "data": {
      "text/plain": [
       "2.181686729279743"
      ]
     },
     "execution_count": 23,
     "metadata": {},
     "output_type": "execute_result"
    }
   ],
   "source": [
    "one_per_R_bessel_int_phi(rj = 1, ra = 2, zj = 0, za = 2)"
   ]
  },
  {
   "cell_type": "code",
   "execution_count": 24,
   "metadata": {},
   "outputs": [],
   "source": [
    "c = var(\"c\")                   # скорость света\n",
    "kappa = var(\"kappa\")           # Магнитная восприимчивость\n",
    "J = var(\"J\")                   # ток\n",
    "js(J, kappa, r) = 2*J*kappa/r  # плотность поверхностного тока на внутренней и внешней цилиндрической поверхностях цилиндра\n",
    "                               # js(rj1) = - 2*J*kappa/rji\n",
    "                               # js(rj2) = + 2*J*kappa/rj2\n",
    "jt(J, kappa, r) = 2*J*kappa/r  # плотность поверхностного тока на торцах цилиндра\n",
    "                               # jt(rj) = + 2*J*kappa/rj # zj1\n",
    "                               # jt(rj) = - 2*J*kappa/rj # zj2\n",
    "jv(J, kappa, r) = 0            # плотность объёмного тока"
   ]
  },
  {
   "cell_type": "code",
   "execution_count": 25,
   "metadata": {},
   "outputs": [
    {
     "data": {
      "text/latex": [
       "$$A_s = \\frac{2 \\, J \\kappa {\\sum_{m=-\\infty}^{+\\infty} e^{\\left(i \\, m \\phi_{j}\\right)} \\int_{0}^{+\\infty} J_{m}(k r_{a}) J_{m}(k r_{j}) e^{\\left(-k {\\left| -z_{a} + z_{j} \\right|}\\right)}\\,{d k}}}{c} $$"
      ],
      "text/plain": [
       "<IPython.core.display.Math object>"
      ]
     },
     "metadata": {},
     "output_type": "display_data"
    },
    {
     "data": {
      "text/latex": [
       "$$A_t = \\frac{2 \\, J \\kappa \\cos\\left(\\phi_{j}\\right) {\\sum_{m=-\\infty}^{+\\infty} e^{\\left(i \\, m \\phi_{j}\\right)} \\int_{0}^{+\\infty} J_{m}(k r_{a}) J_{m}(k r_{j}) e^{\\left(-k {\\left| -z_{a} + z_{j} \\right|}\\right)}\\,{d k}}}{c} $$"
      ],
      "text/plain": [
       "<IPython.core.display.Math object>"
      ]
     },
     "metadata": {},
     "output_type": "display_data"
    },
    {
     "data": {
      "text/latex": [
       "$$A_v = 0 $$"
      ],
      "text/plain": [
       "<IPython.core.display.Math object>"
      ]
     },
     "metadata": {},
     "output_type": "display_data"
    }
   ],
   "source": [
    "As = lambda J, c, kappa, rj, ra, zj, za, phi_j : one_per_R_bessel(rj, ra, zj, za, phi_j) * js(J, kappa, rj)*rj/c\n",
    "display(Math(\"$$A_s =\" + latex(As(J, c, kappa, r_j, r_a, z_j, z_a, phi_j)) + \"$$\"))\n",
    "\n",
    "At = lambda J, c, kappa, rj, ra, zj, za, phi_j : one_per_R_bessel(rj, ra, zj, za, phi_j) * jt(J, kappa, rj)*rj/c * cos(phi_j)\n",
    "display(Math(\"$$A_t =\" + latex(At(J, c, kappa, r_j, r_a, z_j, z_a, phi_j)) + \"$$\"))\n",
    "\n",
    "Av = lambda J, c, kappa, rj, ra, zj, za, phi_j : one_per_R_bessel(rj, ra, zj, za, phi_j) * jv(J, kappa, rj)*rj/c\n",
    "display(Math(\"$$A_v =\" + latex(Av(J, c, kappa, r_j, r_a, z_j, z_a, phi_j)) + \"$$\"))"
   ]
  },
  {
   "cell_type": "code",
   "execution_count": 26,
   "metadata": {},
   "outputs": [],
   "source": [
    "At_diff_za_ = lambda J, c, kappa, rj, ra, zj, za, phi_j : diff(At(J, c, kappa, rj, ra, zj, za, phi_j), za)"
   ]
  },
  {
   "cell_type": "code",
   "execution_count": 27,
   "metadata": {},
   "outputs": [
    {
     "ename": "ValueError",
     "evalue": "Computation failed since Maxima requested additional constraints; using the 'assume' command before evaluation *may* help (example of legal syntax is 'assume(z_j-z_a>0)', see `assume?` for more details)\nIs z_j-z_a zero or nonzero?",
     "output_type": "error",
     "traceback": [
      "\u001b[0;31m---------------------------------------------------------------------------\u001b[0m",
      "\u001b[0;31mRuntimeError\u001b[0m                              Traceback (most recent call last)",
      "\u001b[0;32m/usr3/articles/sagemath_docker_build/sage-9.1/local/lib/python3.7/site-packages/sage/interfaces/maxima_lib.py\u001b[0m in \u001b[0;36msr_integral\u001b[0;34m(self, *args)\u001b[0m\n\u001b[1;32m    789\u001b[0m         \u001b[0;32mtry\u001b[0m\u001b[0;34m:\u001b[0m\u001b[0;34m\u001b[0m\u001b[0;34m\u001b[0m\u001b[0m\n\u001b[0;32m--> 790\u001b[0;31m             \u001b[0;32mreturn\u001b[0m \u001b[0mmax_to_sr\u001b[0m\u001b[0;34m(\u001b[0m\u001b[0mmaxima_eval\u001b[0m\u001b[0;34m(\u001b[0m\u001b[0;34m(\u001b[0m\u001b[0;34m[\u001b[0m\u001b[0mmax_integrate\u001b[0m\u001b[0;34m]\u001b[0m\u001b[0;34m,\u001b[0m\u001b[0;34m[\u001b[0m\u001b[0msr_to_max\u001b[0m\u001b[0;34m(\u001b[0m\u001b[0mSR\u001b[0m\u001b[0;34m(\u001b[0m\u001b[0ma\u001b[0m\u001b[0;34m)\u001b[0m\u001b[0;34m)\u001b[0m \u001b[0;32mfor\u001b[0m \u001b[0ma\u001b[0m \u001b[0;32min\u001b[0m \u001b[0margs\u001b[0m\u001b[0;34m]\u001b[0m\u001b[0;34m)\u001b[0m\u001b[0;34m)\u001b[0m\u001b[0;34m)\u001b[0m\u001b[0;34m\u001b[0m\u001b[0;34m\u001b[0m\u001b[0m\n\u001b[0m\u001b[1;32m    791\u001b[0m         \u001b[0;32mexcept\u001b[0m \u001b[0mRuntimeError\u001b[0m \u001b[0;32mas\u001b[0m \u001b[0merror\u001b[0m\u001b[0;34m:\u001b[0m\u001b[0;34m\u001b[0m\u001b[0;34m\u001b[0m\u001b[0m\n",
      "\u001b[0;32m/usr3/articles/sagemath_docker_build/sage-9.1/local/lib/python3.7/site-packages/sage/libs/ecl.pyx\u001b[0m in \u001b[0;36msage.libs.ecl.EclObject.__call__ (build/cythonized/sage/libs/ecl.c:7792)\u001b[0;34m()\u001b[0m\n\u001b[1;32m    804\u001b[0m         \u001b[0mlispargs\u001b[0m \u001b[0;34m=\u001b[0m \u001b[0mEclObject\u001b[0m\u001b[0;34m(\u001b[0m\u001b[0mlist\u001b[0m\u001b[0;34m(\u001b[0m\u001b[0margs\u001b[0m\u001b[0;34m)\u001b[0m\u001b[0;34m)\u001b[0m\u001b[0;34m\u001b[0m\u001b[0;34m\u001b[0m\u001b[0m\n\u001b[0;32m--> 805\u001b[0;31m         \u001b[0;32mreturn\u001b[0m \u001b[0mecl_wrap\u001b[0m\u001b[0;34m(\u001b[0m\u001b[0mecl_safe_apply\u001b[0m\u001b[0;34m(\u001b[0m\u001b[0mself\u001b[0m\u001b[0;34m.\u001b[0m\u001b[0mobj\u001b[0m\u001b[0;34m,\u001b[0m\u001b[0;34m(\u001b[0m\u001b[0;34m<\u001b[0m\u001b[0mEclObject\u001b[0m\u001b[0;34m>\u001b[0m\u001b[0mlispargs\u001b[0m\u001b[0;34m)\u001b[0m\u001b[0;34m.\u001b[0m\u001b[0mobj\u001b[0m\u001b[0;34m)\u001b[0m\u001b[0;34m)\u001b[0m\u001b[0;34m\u001b[0m\u001b[0;34m\u001b[0m\u001b[0m\n\u001b[0m\u001b[1;32m    806\u001b[0m \u001b[0;34m\u001b[0m\u001b[0m\n",
      "\u001b[0;32m/usr3/articles/sagemath_docker_build/sage-9.1/local/lib/python3.7/site-packages/sage/libs/ecl.pyx\u001b[0m in \u001b[0;36msage.libs.ecl.ecl_safe_apply (build/cythonized/sage/libs/ecl.c:5454)\u001b[0;34m()\u001b[0m\n\u001b[1;32m    376\u001b[0m         \u001b[0ms\u001b[0m \u001b[0;34m=\u001b[0m \u001b[0msi_coerce_to_base_string\u001b[0m\u001b[0;34m(\u001b[0m\u001b[0mecl_values\u001b[0m\u001b[0;34m(\u001b[0m\u001b[0;36m1\u001b[0m\u001b[0;34m)\u001b[0m\u001b[0;34m)\u001b[0m\u001b[0;34m\u001b[0m\u001b[0;34m\u001b[0m\u001b[0m\n\u001b[0;32m--> 377\u001b[0;31m         raise RuntimeError(\"ECL says: {}\".format(\n\u001b[0m\u001b[1;32m    378\u001b[0m             char_to_str(ecl_base_string_pointer_safe(s))))\n",
      "\u001b[0;31mRuntimeError\u001b[0m: ECL says: Maxima asks: Is _SAGE_VAR_z_j-_SAGE_VAR_z_a zero or nonzero?",
      "\nDuring handling of the above exception, another exception occurred:\n",
      "\u001b[0;31mValueError\u001b[0m                                Traceback (most recent call last)",
      "\u001b[0;32m<ipython-input-27-d5f3cc17415b>\u001b[0m in \u001b[0;36m<module>\u001b[0;34m()\u001b[0m\n\u001b[1;32m      1\u001b[0m \u001b[0;31m#assume(z_j-z_a>0)\u001b[0m\u001b[0;34m\u001b[0m\u001b[0;34m\u001b[0m\u001b[0;34m\u001b[0m\u001b[0m\n\u001b[0;32m----> 2\u001b[0;31m \u001b[0mdisplay\u001b[0m\u001b[0;34m(\u001b[0m\u001b[0mMath\u001b[0m\u001b[0;34m(\u001b[0m\u001b[0;34m\"$$\\\\frac{\\\\partial}{\\\\partial z_a} A_t(J, c, \\\\kappa, r_j, r_a, z_j, z_a) = \"\u001b[0m \u001b[0;34m+\u001b[0m \u001b[0mlatex\u001b[0m\u001b[0;34m(\u001b[0m\u001b[0mAt_diff_za_\u001b[0m\u001b[0;34m(\u001b[0m\u001b[0mJ\u001b[0m\u001b[0;34m,\u001b[0m \u001b[0mc\u001b[0m\u001b[0;34m,\u001b[0m \u001b[0mkappa\u001b[0m\u001b[0;34m,\u001b[0m \u001b[0mr_j\u001b[0m\u001b[0;34m,\u001b[0m \u001b[0mr_a\u001b[0m\u001b[0;34m,\u001b[0m \u001b[0mz_j\u001b[0m\u001b[0;34m,\u001b[0m \u001b[0mz_a\u001b[0m\u001b[0;34m,\u001b[0m \u001b[0mphi_j\u001b[0m\u001b[0;34m)\u001b[0m\u001b[0;34m)\u001b[0m \u001b[0;34m+\u001b[0m \u001b[0;34m\"$$\"\u001b[0m\u001b[0;34m)\u001b[0m\u001b[0;34m)\u001b[0m\u001b[0;34m\u001b[0m\u001b[0;34m\u001b[0m\u001b[0m\n\u001b[0m",
      "\u001b[0;32m<ipython-input-26-f89deb04e97d>\u001b[0m in \u001b[0;36m<lambda>\u001b[0;34m(J, c, kappa, rj, ra, zj, za, phi_j)\u001b[0m\n\u001b[0;32m----> 1\u001b[0;31m \u001b[0mAt_diff_za_\u001b[0m \u001b[0;34m=\u001b[0m \u001b[0;32mlambda\u001b[0m \u001b[0mJ\u001b[0m\u001b[0;34m,\u001b[0m \u001b[0mc\u001b[0m\u001b[0;34m,\u001b[0m \u001b[0mkappa\u001b[0m\u001b[0;34m,\u001b[0m \u001b[0mrj\u001b[0m\u001b[0;34m,\u001b[0m \u001b[0mra\u001b[0m\u001b[0;34m,\u001b[0m \u001b[0mzj\u001b[0m\u001b[0;34m,\u001b[0m \u001b[0mza\u001b[0m\u001b[0;34m,\u001b[0m \u001b[0mphi_j\u001b[0m \u001b[0;34m:\u001b[0m \u001b[0mdiff\u001b[0m\u001b[0;34m(\u001b[0m\u001b[0mAt\u001b[0m\u001b[0;34m(\u001b[0m\u001b[0mJ\u001b[0m\u001b[0;34m,\u001b[0m \u001b[0mc\u001b[0m\u001b[0;34m,\u001b[0m \u001b[0mkappa\u001b[0m\u001b[0;34m,\u001b[0m \u001b[0mrj\u001b[0m\u001b[0;34m,\u001b[0m \u001b[0mra\u001b[0m\u001b[0;34m,\u001b[0m \u001b[0mzj\u001b[0m\u001b[0;34m,\u001b[0m \u001b[0mza\u001b[0m\u001b[0;34m,\u001b[0m \u001b[0mphi_j\u001b[0m\u001b[0;34m)\u001b[0m\u001b[0;34m,\u001b[0m \u001b[0mza\u001b[0m\u001b[0;34m)\u001b[0m\u001b[0;34m\u001b[0m\u001b[0;34m\u001b[0m\u001b[0m\n\u001b[0m",
      "\u001b[0;32m/usr3/articles/sagemath_docker_build/sage-9.1/local/lib/python3.7/site-packages/sage/calculus/functional.py\u001b[0m in \u001b[0;36mderivative\u001b[0;34m(f, *args, **kwds)\u001b[0m\n\u001b[1;32m    129\u001b[0m     \"\"\"\n\u001b[1;32m    130\u001b[0m     \u001b[0;32mtry\u001b[0m\u001b[0;34m:\u001b[0m\u001b[0;34m\u001b[0m\u001b[0;34m\u001b[0m\u001b[0m\n\u001b[0;32m--> 131\u001b[0;31m         \u001b[0;32mreturn\u001b[0m \u001b[0mf\u001b[0m\u001b[0;34m.\u001b[0m\u001b[0mderivative\u001b[0m\u001b[0;34m(\u001b[0m\u001b[0;34m*\u001b[0m\u001b[0margs\u001b[0m\u001b[0;34m,\u001b[0m \u001b[0;34m**\u001b[0m\u001b[0mkwds\u001b[0m\u001b[0;34m)\u001b[0m\u001b[0;34m\u001b[0m\u001b[0;34m\u001b[0m\u001b[0m\n\u001b[0m\u001b[1;32m    132\u001b[0m     \u001b[0;32mexcept\u001b[0m \u001b[0mAttributeError\u001b[0m\u001b[0;34m:\u001b[0m\u001b[0;34m\u001b[0m\u001b[0;34m\u001b[0m\u001b[0m\n\u001b[1;32m    133\u001b[0m         \u001b[0;32mpass\u001b[0m\u001b[0;34m\u001b[0m\u001b[0;34m\u001b[0m\u001b[0m\n",
      "\u001b[0;32m/usr3/articles/sagemath_docker_build/sage-9.1/local/lib/python3.7/site-packages/sage/symbolic/expression.pyx\u001b[0m in \u001b[0;36msage.symbolic.expression.Expression.derivative (build/cythonized/sage/symbolic/expression.cpp:25704)\u001b[0;34m()\u001b[0m\n\u001b[1;32m   4231\u001b[0m             \u001b[0mValueError\u001b[0m\u001b[0;34m:\u001b[0m \u001b[0mNo\u001b[0m \u001b[0mdifferentiation\u001b[0m \u001b[0mvariable\u001b[0m \u001b[0mspecified\u001b[0m\u001b[0;34m.\u001b[0m\u001b[0;34m\u001b[0m\u001b[0;34m\u001b[0m\u001b[0m\n\u001b[1;32m   4232\u001b[0m         \"\"\"\n\u001b[0;32m-> 4233\u001b[0;31m         \u001b[0;32mreturn\u001b[0m \u001b[0mmulti_derivative\u001b[0m\u001b[0;34m(\u001b[0m\u001b[0mself\u001b[0m\u001b[0;34m,\u001b[0m \u001b[0margs\u001b[0m\u001b[0;34m)\u001b[0m\u001b[0;34m\u001b[0m\u001b[0;34m\u001b[0m\u001b[0m\n\u001b[0m\u001b[1;32m   4234\u001b[0m \u001b[0;34m\u001b[0m\u001b[0m\n\u001b[1;32m   4235\u001b[0m     \u001b[0mdiff\u001b[0m \u001b[0;34m=\u001b[0m \u001b[0mdifferentiate\u001b[0m \u001b[0;34m=\u001b[0m \u001b[0mderivative\u001b[0m\u001b[0;34m\u001b[0m\u001b[0;34m\u001b[0m\u001b[0m\n",
      "\u001b[0;32m/usr3/articles/sagemath_docker_build/sage-9.1/local/lib/python3.7/site-packages/sage/misc/derivative.pyx\u001b[0m in \u001b[0;36msage.misc.derivative.multi_derivative (build/cythonized/sage/misc/derivative.c:3117)\u001b[0;34m()\u001b[0m\n\u001b[1;32m    220\u001b[0m \u001b[0;34m\u001b[0m\u001b[0m\n\u001b[1;32m    221\u001b[0m     \u001b[0;32mfor\u001b[0m \u001b[0marg\u001b[0m \u001b[0;32min\u001b[0m \u001b[0mderivative_parse\u001b[0m\u001b[0;34m(\u001b[0m\u001b[0margs\u001b[0m\u001b[0;34m)\u001b[0m\u001b[0;34m:\u001b[0m\u001b[0;34m\u001b[0m\u001b[0;34m\u001b[0m\u001b[0m\n\u001b[0;32m--> 222\u001b[0;31m         \u001b[0mF\u001b[0m \u001b[0;34m=\u001b[0m \u001b[0mF\u001b[0m\u001b[0;34m.\u001b[0m\u001b[0m_derivative\u001b[0m\u001b[0;34m(\u001b[0m\u001b[0marg\u001b[0m\u001b[0;34m)\u001b[0m\u001b[0;34m\u001b[0m\u001b[0;34m\u001b[0m\u001b[0m\n\u001b[0m\u001b[1;32m    223\u001b[0m     \u001b[0;32mreturn\u001b[0m \u001b[0mF\u001b[0m\u001b[0;34m\u001b[0m\u001b[0;34m\u001b[0m\u001b[0m\n\u001b[1;32m    224\u001b[0m \u001b[0;34m\u001b[0m\u001b[0m\n",
      "\u001b[0;32m/usr3/articles/sagemath_docker_build/sage-9.1/local/lib/python3.7/site-packages/sage/symbolic/expression.pyx\u001b[0m in \u001b[0;36msage.symbolic.expression.Expression._derivative (build/cythonized/sage/symbolic/expression.cpp:26221)\u001b[0;34m()\u001b[0m\n\u001b[1;32m   4303\u001b[0m         \u001b[0msig_on\u001b[0m\u001b[0;34m(\u001b[0m\u001b[0;34m)\u001b[0m\u001b[0;34m\u001b[0m\u001b[0;34m\u001b[0m\u001b[0m\n\u001b[1;32m   4304\u001b[0m         \u001b[0;32mtry\u001b[0m\u001b[0;34m:\u001b[0m\u001b[0;34m\u001b[0m\u001b[0;34m\u001b[0m\u001b[0m\n\u001b[0;32m-> 4305\u001b[0;31m             \u001b[0mx\u001b[0m \u001b[0;34m=\u001b[0m \u001b[0mself\u001b[0m\u001b[0;34m.\u001b[0m\u001b[0m_gobj\u001b[0m\u001b[0;34m.\u001b[0m\u001b[0mdiff\u001b[0m\u001b[0;34m(\u001b[0m\u001b[0mex_to_symbol\u001b[0m\u001b[0;34m(\u001b[0m\u001b[0msymbol\u001b[0m\u001b[0;34m.\u001b[0m\u001b[0m_gobj\u001b[0m\u001b[0;34m)\u001b[0m\u001b[0;34m,\u001b[0m \u001b[0mdeg\u001b[0m\u001b[0;34m)\u001b[0m\u001b[0;34m\u001b[0m\u001b[0;34m\u001b[0m\u001b[0m\n\u001b[0m\u001b[1;32m   4306\u001b[0m         \u001b[0;32mfinally\u001b[0m\u001b[0;34m:\u001b[0m\u001b[0;34m\u001b[0m\u001b[0;34m\u001b[0m\u001b[0m\n\u001b[1;32m   4307\u001b[0m             \u001b[0msig_off\u001b[0m\u001b[0;34m(\u001b[0m\u001b[0;34m)\u001b[0m\u001b[0;34m\u001b[0m\u001b[0;34m\u001b[0m\u001b[0m\n",
      "\u001b[0;32m/usr3/articles/sagemath_docker_build/sage-9.1/local/lib/python3.7/site-packages/sage/symbolic/integration/integral.py\u001b[0m in \u001b[0;36m_tderivative_\u001b[0;34m(self, f, x, a, b, diff_param)\u001b[0m\n\u001b[1;32m    258\u001b[0m         \u001b[0;32mif\u001b[0m \u001b[0;32mnot\u001b[0m \u001b[0mx\u001b[0m\u001b[0;34m.\u001b[0m\u001b[0mhas\u001b[0m\u001b[0;34m(\u001b[0m\u001b[0mdiff_param\u001b[0m\u001b[0;34m)\u001b[0m\u001b[0;34m:\u001b[0m\u001b[0;34m\u001b[0m\u001b[0;34m\u001b[0m\u001b[0m\n\u001b[1;32m    259\u001b[0m             \u001b[0;31m# integration variable != differentiation variable\u001b[0m\u001b[0;34m\u001b[0m\u001b[0;34m\u001b[0m\u001b[0;34m\u001b[0m\u001b[0m\n\u001b[0;32m--> 260\u001b[0;31m             \u001b[0mans\u001b[0m \u001b[0;34m=\u001b[0m \u001b[0mdefinite_integral\u001b[0m\u001b[0;34m(\u001b[0m\u001b[0mf\u001b[0m\u001b[0;34m.\u001b[0m\u001b[0mdiff\u001b[0m\u001b[0;34m(\u001b[0m\u001b[0mdiff_param\u001b[0m\u001b[0;34m)\u001b[0m\u001b[0;34m,\u001b[0m \u001b[0mx\u001b[0m\u001b[0;34m,\u001b[0m \u001b[0ma\u001b[0m\u001b[0;34m,\u001b[0m \u001b[0mb\u001b[0m\u001b[0;34m)\u001b[0m\u001b[0;34m\u001b[0m\u001b[0;34m\u001b[0m\u001b[0m\n\u001b[0m\u001b[1;32m    261\u001b[0m         \u001b[0;32melse\u001b[0m\u001b[0;34m:\u001b[0m\u001b[0;34m\u001b[0m\u001b[0;34m\u001b[0m\u001b[0m\n\u001b[1;32m    262\u001b[0m             \u001b[0mans\u001b[0m \u001b[0;34m=\u001b[0m \u001b[0mSR\u001b[0m\u001b[0;34m.\u001b[0m\u001b[0mzero\u001b[0m\u001b[0;34m(\u001b[0m\u001b[0;34m)\u001b[0m\u001b[0;34m\u001b[0m\u001b[0;34m\u001b[0m\u001b[0m\n",
      "\u001b[0;32m/usr3/articles/sagemath_docker_build/sage-9.1/local/lib/python3.7/site-packages/sage/symbolic/function.pyx\u001b[0m in \u001b[0;36msage.symbolic.function.BuiltinFunction.__call__ (build/cythonized/sage/symbolic/function.cpp:12260)\u001b[0;34m()\u001b[0m\n\u001b[1;32m   1136\u001b[0m             \u001b[0mres\u001b[0m \u001b[0;34m=\u001b[0m \u001b[0mself\u001b[0m\u001b[0;34m.\u001b[0m\u001b[0m_evalf_try_\u001b[0m\u001b[0;34m(\u001b[0m\u001b[0;34m*\u001b[0m\u001b[0margs\u001b[0m\u001b[0;34m)\u001b[0m\u001b[0;34m\u001b[0m\u001b[0;34m\u001b[0m\u001b[0m\n\u001b[1;32m   1137\u001b[0m             \u001b[0;32mif\u001b[0m \u001b[0mres\u001b[0m \u001b[0;32mis\u001b[0m \u001b[0;32mNone\u001b[0m\u001b[0;34m:\u001b[0m\u001b[0;34m\u001b[0m\u001b[0;34m\u001b[0m\u001b[0m\n\u001b[0;32m-> 1138\u001b[0;31m                 res = super(BuiltinFunction, self).__call__(\n\u001b[0m\u001b[1;32m   1139\u001b[0m                         *args, coerce=coerce, hold=hold)\n\u001b[1;32m   1140\u001b[0m \u001b[0;34m\u001b[0m\u001b[0m\n",
      "\u001b[0;32m/usr3/articles/sagemath_docker_build/sage-9.1/local/lib/python3.7/site-packages/sage/symbolic/function.pyx\u001b[0m in \u001b[0;36msage.symbolic.function.Function.__call__ (build/cythonized/sage/symbolic/function.cpp:6936)\u001b[0;34m()\u001b[0m\n\u001b[1;32m    595\u001b[0m             \u001b[0;32mfor\u001b[0m \u001b[0mi\u001b[0m \u001b[0;32mfrom\u001b[0m \u001b[0;36m0\u001b[0m \u001b[0;34m<=\u001b[0m \u001b[0mi\u001b[0m \u001b[0;34m<\u001b[0m \u001b[0mlen\u001b[0m\u001b[0;34m(\u001b[0m\u001b[0margs\u001b[0m\u001b[0;34m)\u001b[0m\u001b[0;34m:\u001b[0m\u001b[0;34m\u001b[0m\u001b[0;34m\u001b[0m\u001b[0m\n\u001b[1;32m    596\u001b[0m                 \u001b[0mvec\u001b[0m\u001b[0;34m.\u001b[0m\u001b[0mpush_back\u001b[0m\u001b[0;34m(\u001b[0m\u001b[0;34m(\u001b[0m\u001b[0;34m<\u001b[0m\u001b[0mExpression\u001b[0m\u001b[0;34m>\u001b[0m\u001b[0margs\u001b[0m\u001b[0;34m[\u001b[0m\u001b[0mi\u001b[0m\u001b[0;34m]\u001b[0m\u001b[0;34m)\u001b[0m\u001b[0;34m.\u001b[0m\u001b[0m_gobj\u001b[0m\u001b[0;34m)\u001b[0m\u001b[0;34m\u001b[0m\u001b[0;34m\u001b[0m\u001b[0m\n\u001b[0;32m--> 597\u001b[0;31m             \u001b[0mres\u001b[0m \u001b[0;34m=\u001b[0m \u001b[0mg_function_evalv\u001b[0m\u001b[0;34m(\u001b[0m\u001b[0mself\u001b[0m\u001b[0;34m.\u001b[0m\u001b[0m_serial\u001b[0m\u001b[0;34m,\u001b[0m \u001b[0mvec\u001b[0m\u001b[0;34m,\u001b[0m \u001b[0mhold\u001b[0m\u001b[0;34m)\u001b[0m\u001b[0;34m\u001b[0m\u001b[0;34m\u001b[0m\u001b[0m\n\u001b[0m\u001b[1;32m    598\u001b[0m         \u001b[0;32melif\u001b[0m \u001b[0mself\u001b[0m\u001b[0;34m.\u001b[0m\u001b[0m_nargs\u001b[0m \u001b[0;34m==\u001b[0m \u001b[0;36m1\u001b[0m\u001b[0;34m:\u001b[0m\u001b[0;34m\u001b[0m\u001b[0;34m\u001b[0m\u001b[0m\n\u001b[1;32m    599\u001b[0m             res = g_function_eval1(self._serial,\n",
      "\u001b[0;32m/usr3/articles/sagemath_docker_build/sage-9.1/local/lib/python3.7/site-packages/sage/symbolic/function.pyx\u001b[0m in \u001b[0;36msage.symbolic.function.BuiltinFunction._evalf_or_eval_ (build/cythonized/sage/symbolic/function.cpp:13410)\u001b[0;34m()\u001b[0m\n\u001b[1;32m   1224\u001b[0m         \u001b[0mres\u001b[0m \u001b[0;34m=\u001b[0m \u001b[0mself\u001b[0m\u001b[0;34m.\u001b[0m\u001b[0m_evalf_try_\u001b[0m\u001b[0;34m(\u001b[0m\u001b[0;34m*\u001b[0m\u001b[0margs\u001b[0m\u001b[0;34m)\u001b[0m\u001b[0;34m\u001b[0m\u001b[0;34m\u001b[0m\u001b[0m\n\u001b[1;32m   1225\u001b[0m         \u001b[0;32mif\u001b[0m \u001b[0mres\u001b[0m \u001b[0;32mis\u001b[0m \u001b[0;32mNone\u001b[0m\u001b[0;34m:\u001b[0m\u001b[0;34m\u001b[0m\u001b[0;34m\u001b[0m\u001b[0m\n\u001b[0;32m-> 1226\u001b[0;31m             \u001b[0;32mreturn\u001b[0m \u001b[0mself\u001b[0m\u001b[0;34m.\u001b[0m\u001b[0m_eval0_\u001b[0m\u001b[0;34m(\u001b[0m\u001b[0;34m*\u001b[0m\u001b[0margs\u001b[0m\u001b[0;34m)\u001b[0m\u001b[0;34m\u001b[0m\u001b[0;34m\u001b[0m\u001b[0m\n\u001b[0m\u001b[1;32m   1227\u001b[0m         \u001b[0;32melse\u001b[0m\u001b[0;34m:\u001b[0m\u001b[0;34m\u001b[0m\u001b[0;34m\u001b[0m\u001b[0m\n\u001b[1;32m   1228\u001b[0m             \u001b[0;32mreturn\u001b[0m \u001b[0mres\u001b[0m\u001b[0;34m\u001b[0m\u001b[0;34m\u001b[0m\u001b[0m\n",
      "\u001b[0;32m/usr3/articles/sagemath_docker_build/sage-9.1/local/lib/python3.7/site-packages/sage/symbolic/integration/integral.py\u001b[0m in \u001b[0;36m_eval_\u001b[0;34m(self, f, x, a, b)\u001b[0m\n\u001b[1;32m    203\u001b[0m         \u001b[0;32mfor\u001b[0m \u001b[0mintegrator\u001b[0m \u001b[0;32min\u001b[0m \u001b[0mself\u001b[0m\u001b[0;34m.\u001b[0m\u001b[0mintegrators\u001b[0m\u001b[0;34m:\u001b[0m\u001b[0;34m\u001b[0m\u001b[0;34m\u001b[0m\u001b[0m\n\u001b[1;32m    204\u001b[0m             \u001b[0;32mtry\u001b[0m\u001b[0;34m:\u001b[0m\u001b[0;34m\u001b[0m\u001b[0;34m\u001b[0m\u001b[0m\n\u001b[0;32m--> 205\u001b[0;31m                 \u001b[0mA\u001b[0m \u001b[0;34m=\u001b[0m \u001b[0mintegrator\u001b[0m\u001b[0;34m(\u001b[0m\u001b[0;34m*\u001b[0m\u001b[0margs\u001b[0m\u001b[0;34m)\u001b[0m\u001b[0;34m\u001b[0m\u001b[0;34m\u001b[0m\u001b[0m\n\u001b[0m\u001b[1;32m    206\u001b[0m             \u001b[0;32mexcept\u001b[0m \u001b[0;34m(\u001b[0m\u001b[0mNotImplementedError\u001b[0m\u001b[0;34m,\u001b[0m \u001b[0mTypeError\u001b[0m\u001b[0;34m,\u001b[0m \u001b[0mAttributeError\u001b[0m\u001b[0;34m)\u001b[0m\u001b[0;34m:\u001b[0m\u001b[0;34m\u001b[0m\u001b[0;34m\u001b[0m\u001b[0m\n\u001b[1;32m    207\u001b[0m                 \u001b[0;32mpass\u001b[0m\u001b[0;34m\u001b[0m\u001b[0;34m\u001b[0m\u001b[0m\n",
      "\u001b[0;32m/usr3/articles/sagemath_docker_build/sage-9.1/local/lib/python3.7/site-packages/sage/symbolic/integration/external.py\u001b[0m in \u001b[0;36mmaxima_integrator\u001b[0;34m(expression, v, a, b)\u001b[0m\n\u001b[1;32m     44\u001b[0m         \u001b[0mresult\u001b[0m \u001b[0;34m=\u001b[0m \u001b[0mmaxima\u001b[0m\u001b[0;34m.\u001b[0m\u001b[0msr_integral\u001b[0m\u001b[0;34m(\u001b[0m\u001b[0mexpression\u001b[0m\u001b[0;34m,\u001b[0m\u001b[0mv\u001b[0m\u001b[0;34m)\u001b[0m\u001b[0;34m\u001b[0m\u001b[0;34m\u001b[0m\u001b[0m\n\u001b[1;32m     45\u001b[0m     \u001b[0;32melse\u001b[0m\u001b[0;34m:\u001b[0m\u001b[0;34m\u001b[0m\u001b[0;34m\u001b[0m\u001b[0m\n\u001b[0;32m---> 46\u001b[0;31m         \u001b[0mresult\u001b[0m \u001b[0;34m=\u001b[0m \u001b[0mmaxima\u001b[0m\u001b[0;34m.\u001b[0m\u001b[0msr_integral\u001b[0m\u001b[0;34m(\u001b[0m\u001b[0mexpression\u001b[0m\u001b[0;34m,\u001b[0m \u001b[0mv\u001b[0m\u001b[0;34m,\u001b[0m \u001b[0ma\u001b[0m\u001b[0;34m,\u001b[0m \u001b[0mb\u001b[0m\u001b[0;34m)\u001b[0m\u001b[0;34m\u001b[0m\u001b[0;34m\u001b[0m\u001b[0m\n\u001b[0m\u001b[1;32m     47\u001b[0m     \u001b[0;32mreturn\u001b[0m \u001b[0mresult\u001b[0m\u001b[0;34m.\u001b[0m\u001b[0m_sage_\u001b[0m\u001b[0;34m(\u001b[0m\u001b[0;34m)\u001b[0m\u001b[0;34m\u001b[0m\u001b[0;34m\u001b[0m\u001b[0m\n\u001b[1;32m     48\u001b[0m \u001b[0;34m\u001b[0m\u001b[0m\n",
      "\u001b[0;32m/usr3/articles/sagemath_docker_build/sage-9.1/local/lib/python3.7/site-packages/sage/interfaces/maxima_lib.py\u001b[0m in \u001b[0;36msr_integral\u001b[0;34m(self, *args)\u001b[0m\n\u001b[1;32m    796\u001b[0m                 \u001b[0;32mraise\u001b[0m \u001b[0mValueError\u001b[0m\u001b[0;34m(\u001b[0m\u001b[0;34m\"Integral is divergent.\"\u001b[0m\u001b[0;34m)\u001b[0m\u001b[0;34m\u001b[0m\u001b[0;34m\u001b[0m\u001b[0m\n\u001b[1;32m    797\u001b[0m             \u001b[0;32melif\u001b[0m \u001b[0;34m\"Is\"\u001b[0m \u001b[0;32min\u001b[0m \u001b[0ms\u001b[0m\u001b[0;34m:\u001b[0m \u001b[0;31m# Maxima asked for a condition\u001b[0m\u001b[0;34m\u001b[0m\u001b[0;34m\u001b[0m\u001b[0m\n\u001b[0;32m--> 798\u001b[0;31m                 \u001b[0mself\u001b[0m\u001b[0;34m.\u001b[0m\u001b[0m_missing_assumption\u001b[0m\u001b[0;34m(\u001b[0m\u001b[0ms\u001b[0m\u001b[0;34m)\u001b[0m\u001b[0;34m\u001b[0m\u001b[0;34m\u001b[0m\u001b[0m\n\u001b[0m\u001b[1;32m    799\u001b[0m             \u001b[0;32melse\u001b[0m\u001b[0;34m:\u001b[0m\u001b[0;34m\u001b[0m\u001b[0;34m\u001b[0m\u001b[0m\n\u001b[1;32m    800\u001b[0m                 \u001b[0;32mraise\u001b[0m\u001b[0;34m\u001b[0m\u001b[0;34m\u001b[0m\u001b[0m\n",
      "\u001b[0;32m/usr3/articles/sagemath_docker_build/sage-9.1/local/lib/python3.7/site-packages/sage/interfaces/maxima_lib.py\u001b[0m in \u001b[0;36m_missing_assumption\u001b[0;34m(self, errstr)\u001b[0m\n\u001b[1;32m   1032\u001b[0m              \u001b[0;34m+\u001b[0m \u001b[0merrstr\u001b[0m\u001b[0;34m[\u001b[0m\u001b[0mjj\u001b[0m\u001b[0;34m+\u001b[0m\u001b[0;36m1\u001b[0m\u001b[0;34m:\u001b[0m\u001b[0mk\u001b[0m\u001b[0;34m]\u001b[0m \u001b[0;34m+\u001b[0m\u001b[0;34m\">0)', see `assume?` for more details)\\n\"\u001b[0m \u001b[0;34m+\u001b[0m \u001b[0merrstr\u001b[0m\u001b[0;34m\u001b[0m\u001b[0;34m\u001b[0m\u001b[0m\n\u001b[1;32m   1033\u001b[0m         \u001b[0moutstr\u001b[0m \u001b[0;34m=\u001b[0m \u001b[0moutstr\u001b[0m\u001b[0;34m.\u001b[0m\u001b[0mreplace\u001b[0m\u001b[0;34m(\u001b[0m\u001b[0;34m'_SAGE_VAR_'\u001b[0m\u001b[0;34m,\u001b[0m\u001b[0;34m''\u001b[0m\u001b[0;34m)\u001b[0m\u001b[0;34m\u001b[0m\u001b[0;34m\u001b[0m\u001b[0m\n\u001b[0;32m-> 1034\u001b[0;31m         \u001b[0;32mraise\u001b[0m \u001b[0mValueError\u001b[0m\u001b[0;34m(\u001b[0m\u001b[0moutstr\u001b[0m\u001b[0;34m)\u001b[0m\u001b[0;34m\u001b[0m\u001b[0;34m\u001b[0m\u001b[0m\n\u001b[0m\u001b[1;32m   1035\u001b[0m \u001b[0;34m\u001b[0m\u001b[0m\n\u001b[1;32m   1036\u001b[0m \u001b[0;32mdef\u001b[0m \u001b[0mis_MaximaLibElement\u001b[0m\u001b[0;34m(\u001b[0m\u001b[0mx\u001b[0m\u001b[0;34m)\u001b[0m\u001b[0;34m:\u001b[0m\u001b[0;34m\u001b[0m\u001b[0;34m\u001b[0m\u001b[0m\n",
      "\u001b[0;31mValueError\u001b[0m: Computation failed since Maxima requested additional constraints; using the 'assume' command before evaluation *may* help (example of legal syntax is 'assume(z_j-z_a>0)', see `assume?` for more details)\nIs z_j-z_a zero or nonzero?"
     ]
    }
   ],
   "source": [
    "#assume(z_j-z_a>0)\n",
    "display(Math(\"$$\\\\frac{\\\\partial}{\\\\partial z_a} A_t(J, c, \\\\kappa, r_j, r_a, z_j, z_a) = \" + latex(At_diff_za_(J, c, kappa, r_j, r_a, z_j, z_a, phi_j)) + \"$$\"))"
   ]
  },
  {
   "cell_type": "code",
   "execution_count": null,
   "metadata": {},
   "outputs": [],
   "source": [
    "IRphi_     = lambda rj, ra, zj, za : integrate(one_per_R_bessel(rj, ra, zj, za, phi_j),(phi_j,0,2*pi))"
   ]
  },
  {
   "cell_type": "code",
   "execution_count": null,
   "metadata": {},
   "outputs": [],
   "source": []
  }
 ],
 "metadata": {
  "kernelspec": {
   "display_name": "SageMath 9.1",
   "language": "sage",
   "name": "sagemath"
  },
  "language_info": {
   "codemirror_mode": {
    "name": "ipython",
    "version": 3
   },
   "file_extension": ".py",
   "mimetype": "text/x-python",
   "name": "python",
   "nbconvert_exporter": "python",
   "pygments_lexer": "ipython3",
   "version": "3.7.9"
  }
 },
 "nbformat": 4,
 "nbformat_minor": 2
}
