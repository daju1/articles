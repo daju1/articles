{
 "cells": [
  {
   "cell_type": "markdown",
   "metadata": {},
   "source": [
    "# Моя попытка вывести потенциал Лиенара Вихерта\n",
    "\n",
    "Изоповерхность запаздывающего момента $t'$ есть геометрическое место точек в которых электрический потенциал обусловлен положением заряда в момент $t'$. \n",
    "\n",
    "\n",
    "Для покоящегося заряда густота изолиний запаздывающего момента \n",
    "\n",
    "$R'=c(t-t')$\n",
    "\n",
    "$$\\Delta R' = c(t'_{0} -t'_{1})$$\n",
    "\n",
    "собственно густота изолиний\n",
    "\n",
    "$$\\frac{\\Delta t'}{\\Delta R'} = \\frac{1}{c}$$\n",
    "\n",
    "но какой в этом физический смысл?\n",
    "\n",
    "поскольку электрический заряд как известно является источником потока электрического смещения $\\vec D$ мы можем посчитать поток электрического смещения через сегмент телесного угла $d \\Omega$\n",
    "\n",
    "плотность потока электрического смещения через сферическую поверхность радиуса $R$ равна $\\frac{q}{4\\pi R^2}$\n",
    "\n",
    "Выражаем в сферической системе координат сегмент телесного угла $d \\Omega = d \\theta  d \\phi$\n",
    "\n",
    "площадь сегмента на сферической поверхности радиуса $R$ равна $d S = R^2 d \\phi d \\theta$\n",
    "\n",
    "поток  $\\vec D$ через телесный угол $d \\Omega$ равен\n",
    "\n",
    "$$P_{\\vec D} = \\frac{q}{4\\pi R^2} R^2 cos \\theta d \\phi d \\theta = \\frac{q}{4\\pi} cos \\theta d \\phi d\\theta= \\frac{q d\\Omega}{4 \\pi}$$\n",
    "\n",
    "плотность потока $\\vec D$ равна\n",
    "\n",
    "$$p_{\\vec D} = \\frac{q}{4\\pi}$$\n",
    "\n",
    "Давайте здесь воспользуемся гидродинамической аналогией: если имеется плотность потока электрического смещения через некоторую поверхность то умножая ее на $dS dt$  получим выражение для \"массы\" прошедшей через элемент поверхности $dS$ за время $dt$ потока элетрического смещения\n",
    "\n",
    "Возможно применительно к потоку электрического смещения такая гидродинамическая аналогия покажется кому-то смешной и совершенно неприменимой, но я могу показать что такая аналогия имеет вполне определенный с точки зрения современной науки физический смысл\n",
    "\n",
    "Механистическая гидродинамическая аналогия заключается в том что заряд каждую единицу времени как бы испускает электрическое смещение, которое распространяется во всех направлениях со скоростью света, независимо от скорости самого заряда. Покоящийся заряд делает то же самое: потенциал покоящегося заряда запаздывает в той же мере как и потенциал движущегося заряда.\n",
    "\n",
    "Вообразив, что поток электрического смещения это поток некоторой условной сжимаемой \"жидкости \", \"газа \" или иной \"среды \", истекаемой из заряда можно вычислить \"массу \", \"обьем \" или иную меру \"количества \" этой \"среды \" электрического смещения находящегося в обьеме пространства, ограниченном изоповерхностями того или иного запаздывающего момента и сектором телесного угла ограниченным линиями перпендикулярными изоповерхностям запаздывающего момента\n",
    "\n",
    "Вычислим теперь \"количество \" \"среды \" электрического смещения для покоящегося заряда в обьеме пространства, ограниченном изоповерхностями запаздывающих моментов  $t'_{1}$ и $t'_{2}$ в секторе телесного угла $d\\Omega$.\n",
    "\n",
    "$$m_{\\vec D} = \\int\\limits_{t'_{1}}^{t'_{2}}\\frac{q}{4\\pi}d\\Omega d t'$$\n",
    "\n",
    "обьем пространства, ограниченный изоповерхностями запаздывающих моментов  $t'_{1}$ и $t'_{2}$ в секторе телесного угла $d\\Omega$.\n",
    "\n",
    "$$V_{\\vec D} = \\int\\limits_{R'_{1}}^{R'_{2}}{R'}^2 d\\Omega d R' $$\n",
    "\n",
    "%$$R' = c (t-t')$$\n",
    "\n",
    "$$d R' = c d t'$$\n",
    "\n",
    "$$V_{\\vec D} = \\int\\limits_{t'_{2}}^{t'_{1}}{R'}^2 d \\Omega c d t'$$\n",
    "\n",
    "\n",
    "\"плотность\" потока электрического смещения в случае покоящегося заряда\n",
    "\n",
    "$$\\rho_{\\vec D} = \\frac{q}{4\\pi {R'}^2 c} =  \\frac{q}{4\\pi {R'}^2}\\frac{\\Delta t'}{\\Delta R'} = E\\frac{\\Delta t'}{\\Delta R'}$$\n",
    "\n",
    "пропорциональна электрическому полю.\n",
    "\n",
    "Теперь интересен вопрос как вычислить плотность потока электрического смещения для движущегося заряда\n",
    "\n",
    "Расчёт объёма пространства между изоповерхностями запаздывающего момента.\n",
    "\n",
    "При вычислении обьема между изоповерхностями запаздывающего момента возникает вопрос: из какой запаздываюшей координаты проводить телесный угол, внутри которого вычислять искомый обьем? При исследовании этого вопроса становится ясно, что использование прямого телесного угла приведет к ошибкам, независимо от того из какой точки этот телесный угол, проводить, ибо заряд находится в движении. \n",
    "\n",
    "Решение заключается в том, чтобы ограничить телесный угол искривленными поверхностями такими, чтобы поверхность телесного обьема была нормальна изоповерхности текущего запаздывающего момента\n",
    "\n",
    "Для построения оных прибегнем к следующим соображениям \n",
    "\n",
    "Отметим на изоповерхности запаздывающего момента $t'=0$ в сферической системе отсчета, связанной с запаздывающей координатой некую точку с координатами $(\\theta, \\phi)$.\n",
    "\n",
    "При изменении запаздывающего момента на малую величину запаздывания координата смещается на величину $v dt'$\n",
    "\n",
    "На ту же величину смещается центр сферической системы координат, связанный уже с новой запаздывающей координатой.\n",
    "\n",
    "Радиус изоповерхности изменяется от $c(t-t'_{0})$ до $c(t-(t'_{0} + d t'))$\n",
    "\n",
    "Отметим на смещенной вместе с запаздывающей координатой сферической системе координат точку с теми же координатами $(\\theta, \\phi)$\n",
    "\n",
    "При последовательном изменении запаздывающего момента от $t'=0$ до $t'=t$ точка с координатами $\\theta, \\phi$ на сферической изоповерхности запаздывающего момента опишет некоторую кривую, нормальную изоповерхностям запаздывающего момента\n",
    "\n",
    "https://nbviewer.org/github/daju1/articles/blob/master/sagemath/electric\\_field\\_density/field\\_of\\_directions\\_of\\_propagation\\_of\\_electric\\_potential.ipynb\n"
   ]
  },
  {
   "cell_type": "code",
   "execution_count": 3,
   "metadata": {},
   "outputs": [],
   "source": [
    "from IPython.display import display, Math, Latex\n",
    "\n",
    "def disp(ex):\n",
    "    display(Math(latex(ex)))\n",
    "\n",
    "v = var(\"v\")\n",
    "c = var(\"c\")\n",
    "x = var(\"x\")\n",
    "z = var(\"z\")\n",
    "r0 = var(\"r0\")\n",
    "t = var('t')\n",
    "t_z = var('t_z')\n",
    "tau_z = var('tau_z')\n",
    "tau = var('tau')\n",
    "tau_1 = var('tau_1')\n",
    "tau_2 = var('tau_2')\n",
    "\n",
    "C_0 = var(\"C_0\")\n",
    "theta_0 = var(\"theta_0\")\n",
    "theta_z = var(\"theta_z\")\n",
    "theta_1 = var(\"theta_1\")\n",
    "theta_2 = var(\"theta_2\")\n",
    "\n",
    "assume(v > 0, c > 0, v < c)\n",
    "#Is tau_z positive, negative or zero?\n",
    "assume(tau_z>0)\n",
    "# Is c*tauz+r0 positive, negative or zero?\n",
    "#assume(c*tauz+r0>0)\n",
    "# Is r0 positive, negative or zero?\n",
    "assume(r0>0)\n",
    "#Is theta_1-theta_0 positive, negative or zero?\n",
    "assume(theta_1<theta_0)\n",
    "#Is theta_0 positive, negative or zero?\n",
    "assume(theta_0>0)\n",
    "assume(theta_0<pi)\n",
    "#Is theta_1 positive, negative or zero?\n",
    "assume(theta_1>0)\n",
    "#assume(theta_1<pi)\n",
    "\n",
    "assume((c*tau_1+r0)>0)\n",
    "assume((c*tau_2+r0)>0)"
   ]
  },
  {
   "cell_type": "code",
   "execution_count": 4,
   "metadata": {},
   "outputs": [
    {
     "name": "stdout",
     "output_type": "stream",
     "text": [
      "eq  = v*(log(c*tau_z + r0)/c - log(r0)/c) - C_0 + 1/2*log(cos(theta_0) + 1) - 1/2*log(-cos(theta_0) + 1) - 1/2*log(cos(theta_1) + 1) + 1/2*log(-cos(theta_1) + 1)\n"
     ]
    },
    {
     "data": {
      "text/latex": [
       "$\\displaystyle v {\\left(\\frac{\\log\\left(c \\tau_{z} + r_{0}\\right)}{c} - \\frac{\\log\\left(r_{0}\\right)}{c}\\right)} - C_{0} + \\frac{1}{2} \\, \\log\\left(\\cos\\left(\\theta_{0}\\right) + 1\\right) - \\frac{1}{2} \\, \\log\\left(-\\cos\\left(\\theta_{0}\\right) + 1\\right) - \\frac{1}{2} \\, \\log\\left(\\cos\\left(\\theta_{1}\\right) + 1\\right) + \\frac{1}{2} \\, \\log\\left(-\\cos\\left(\\theta_{1}\\right) + 1\\right)$"
      ],
      "text/plain": [
       "<IPython.core.display.Math object>"
      ]
     },
     "metadata": {},
     "output_type": "display_data"
    }
   ],
   "source": [
    "eq = integral( (v / (r0 + c*tau)), tau, 0, tau_z) + integral( (sin(theta_z) + ((cos(theta_z))^2) / sin(theta_z)), theta_z, theta_0, theta_1) - C_0\n",
    "print (\"eq  =\", eq)\n",
    "disp(eq)"
   ]
  },
  {
   "cell_type": "code",
   "execution_count": 5,
   "metadata": {},
   "outputs": [
    {
     "name": "stdout",
     "output_type": "stream",
     "text": [
      "eq1  = ((c*tau_z + r0)/r0)^(2*v/c)*(cos(theta_0) + 1)*(cos(theta_1) - 1)/((cos(theta_0) - 1)*(cos(theta_1) + 1)) - 1\n"
     ]
    },
    {
     "data": {
      "text/latex": [
       "$\\displaystyle \\frac{\\left(\\frac{c \\tau_{z} + r_{0}}{r_{0}}\\right)^{\\frac{2 \\, v}{c}} {\\left(\\cos\\left(\\theta_{0}\\right) + 1\\right)} {\\left(\\cos\\left(\\theta_{1}\\right) - 1\\right)}}{{\\left(\\cos\\left(\\theta_{0}\\right) - 1\\right)} {\\left(\\cos\\left(\\theta_{1}\\right) + 1\\right)}} - 1$"
      ],
      "text/plain": [
       "<IPython.core.display.Math object>"
      ]
     },
     "metadata": {},
     "output_type": "display_data"
    }
   ],
   "source": [
    "eq1 = (((c*tau_z + r0) / r0) ^ (2*v/c)) * (1+cos(theta_0)) / (1-cos(theta_0)) * (1-cos(theta_1)) / (1+cos(theta_1))-1\n",
    "print (\"eq1  =\", eq1)\n",
    "disp(eq1)"
   ]
  },
  {
   "cell_type": "code",
   "execution_count": 6,
   "metadata": {},
   "outputs": [
    {
     "name": "stdout",
     "output_type": "stream",
     "text": [
      "th1  = [\n",
      "theta_1 == arccos((c*tau_z/r0 + 1)^(2*v/c)*cos(theta_0)/((c*tau_z/r0 + 1)^(2*v/c)*cos(theta_0) + (c*tau_z/r0 + 1)^(2*v/c) - cos(theta_0) + 1) + (c*tau_z/r0 + 1)^(2*v/c)/((c*tau_z/r0 + 1)^(2*v/c)*cos(theta_0) + (c*tau_z/r0 + 1)^(2*v/c) - cos(theta_0) + 1) + cos(theta_0)/((c*tau_z/r0 + 1)^(2*v/c)*cos(theta_0) + (c*tau_z/r0 + 1)^(2*v/c) - cos(theta_0) + 1) - 1/((c*tau_z/r0 + 1)^(2*v/c)*cos(theta_0) + (c*tau_z/r0 + 1)^(2*v/c) - cos(theta_0) + 1))\n",
      "]\n"
     ]
    },
    {
     "data": {
      "text/latex": [
       "$\\displaystyle \\left[\\theta_{1} = \\arccos\\left(\\frac{{\\left(\\frac{c \\tau_{z}}{r_{0}} + 1\\right)}^{\\frac{2 \\, v}{c}} \\cos\\left(\\theta_{0}\\right)}{{\\left(\\frac{c \\tau_{z}}{r_{0}} + 1\\right)}^{\\frac{2 \\, v}{c}} \\cos\\left(\\theta_{0}\\right) + {\\left(\\frac{c \\tau_{z}}{r_{0}} + 1\\right)}^{\\frac{2 \\, v}{c}} - \\cos\\left(\\theta_{0}\\right) + 1} + \\frac{{\\left(\\frac{c \\tau_{z}}{r_{0}} + 1\\right)}^{\\frac{2 \\, v}{c}}}{{\\left(\\frac{c \\tau_{z}}{r_{0}} + 1\\right)}^{\\frac{2 \\, v}{c}} \\cos\\left(\\theta_{0}\\right) + {\\left(\\frac{c \\tau_{z}}{r_{0}} + 1\\right)}^{\\frac{2 \\, v}{c}} - \\cos\\left(\\theta_{0}\\right) + 1} + \\frac{\\cos\\left(\\theta_{0}\\right)}{{\\left(\\frac{c \\tau_{z}}{r_{0}} + 1\\right)}^{\\frac{2 \\, v}{c}} \\cos\\left(\\theta_{0}\\right) + {\\left(\\frac{c \\tau_{z}}{r_{0}} + 1\\right)}^{\\frac{2 \\, v}{c}} - \\cos\\left(\\theta_{0}\\right) + 1} - \\frac{1}{{\\left(\\frac{c \\tau_{z}}{r_{0}} + 1\\right)}^{\\frac{2 \\, v}{c}} \\cos\\left(\\theta_{0}\\right) + {\\left(\\frac{c \\tau_{z}}{r_{0}} + 1\\right)}^{\\frac{2 \\, v}{c}} - \\cos\\left(\\theta_{0}\\right) + 1}\\right)\\right]$"
      ],
      "text/plain": [
       "<IPython.core.display.Math object>"
      ]
     },
     "metadata": {},
     "output_type": "display_data"
    }
   ],
   "source": [
    "th1 = solve(eq1, theta_1)\n",
    "print (\"th1  =\", th1)\n",
    "disp(th1)"
   ]
  },
  {
   "cell_type": "markdown",
   "metadata": {},
   "source": [
    "$\\theta_1$ - координатный угол криволинейной сиситемы координат, определяемый углом наклона кривой направления распространения электрического потенциала в момент времени $\\tau_1$\n",
    "\n",
    "$\\theta_2$ - текущий угол наклона кривой направления распространения электрического потенциала в момент времени $\\tau_2$"
   ]
  },
  {
   "cell_type": "code",
   "execution_count": 8,
   "metadata": {},
   "outputs": [],
   "source": [
    "# интеграл дифференциального уравнения кривой направления распространения электрического потенциала\n",
    "tan_theta_2_half = tan(theta_1 / 2) * ( (r0+c*tau_1) / (r0+c*tau_2) ) ^ (v / c)"
   ]
  },
  {
   "cell_type": "code",
   "execution_count": 9,
   "metadata": {},
   "outputs": [],
   "source": [
    "# синус и косинус текущего угла наклона  кривой направления распространения электрического потенциала\n",
    "sin_theta_2  = 2 * tan_theta_2_half / (1 + tan_theta_2_half ^2)\n",
    "cos_theta_2  = (1 - tan_theta_2_half ^2) / (1 + tan_theta_2_half ^2)"
   ]
  },
  {
   "cell_type": "code",
   "execution_count": 11,
   "metadata": {},
   "outputs": [],
   "source": [
    "# декартовы координаты кривой направления распространения электрического потенциала\n",
    "x2 = (r0 + c * tau_2) * sin_theta_2\n",
    "z2 = (r0 + c * tau_2) * cos_theta_2 - v * tau_2"
   ]
  },
  {
   "cell_type": "code",
   "execution_count": 12,
   "metadata": {},
   "outputs": [
    {
     "name": "stdout",
     "output_type": "stream",
     "text": [
      "\n",
      "tan_theta_2_half = \n"
     ]
    },
    {
     "data": {
      "text/latex": [
       "$\\displaystyle \\left(\\frac{c \\tau_{1} + r_{0}}{c \\tau_{2} + r_{0}}\\right)^{\\frac{v}{c}} \\tan\\left(\\frac{1}{2} \\, \\theta_{1}\\right)$"
      ],
      "text/plain": [
       "<IPython.core.display.Math object>"
      ]
     },
     "metadata": {},
     "output_type": "display_data"
    },
    {
     "name": "stdout",
     "output_type": "stream",
     "text": [
      "\n",
      "sin_theta_2 = \n"
     ]
    },
    {
     "data": {
      "text/latex": [
       "$\\displaystyle \\frac{2 \\, \\left(\\frac{c \\tau_{1} + r_{0}}{c \\tau_{2} + r_{0}}\\right)^{\\frac{v}{c}} \\tan\\left(\\frac{1}{2} \\, \\theta_{1}\\right)}{\\left(\\frac{c \\tau_{1} + r_{0}}{c \\tau_{2} + r_{0}}\\right)^{\\frac{2 \\, v}{c}} \\tan\\left(\\frac{1}{2} \\, \\theta_{1}\\right)^{2} + 1}$"
      ],
      "text/plain": [
       "<IPython.core.display.Math object>"
      ]
     },
     "metadata": {},
     "output_type": "display_data"
    },
    {
     "name": "stdout",
     "output_type": "stream",
     "text": [
      "\n",
      "cos_theta_2 = \n"
     ]
    },
    {
     "data": {
      "text/latex": [
       "$\\displaystyle -\\frac{\\left(\\frac{c \\tau_{1} + r_{0}}{c \\tau_{2} + r_{0}}\\right)^{\\frac{2 \\, v}{c}} \\tan\\left(\\frac{1}{2} \\, \\theta_{1}\\right)^{2} - 1}{\\left(\\frac{c \\tau_{1} + r_{0}}{c \\tau_{2} + r_{0}}\\right)^{\\frac{2 \\, v}{c}} \\tan\\left(\\frac{1}{2} \\, \\theta_{1}\\right)^{2} + 1}$"
      ],
      "text/plain": [
       "<IPython.core.display.Math object>"
      ]
     },
     "metadata": {},
     "output_type": "display_data"
    },
    {
     "name": "stdout",
     "output_type": "stream",
     "text": [
      "\n",
      "x2 = \n"
     ]
    },
    {
     "data": {
      "text/latex": [
       "$\\displaystyle \\frac{2 \\, {\\left(c \\tau_{2} + r_{0}\\right)} \\left(\\frac{c \\tau_{1} + r_{0}}{c \\tau_{2} + r_{0}}\\right)^{\\frac{v}{c}} \\tan\\left(\\frac{1}{2} \\, \\theta_{1}\\right)}{\\left(\\frac{c \\tau_{1} + r_{0}}{c \\tau_{2} + r_{0}}\\right)^{\\frac{2 \\, v}{c}} \\tan\\left(\\frac{1}{2} \\, \\theta_{1}\\right)^{2} + 1}$"
      ],
      "text/plain": [
       "<IPython.core.display.Math object>"
      ]
     },
     "metadata": {},
     "output_type": "display_data"
    },
    {
     "name": "stdout",
     "output_type": "stream",
     "text": [
      "\n",
      "z2 = \n"
     ]
    },
    {
     "data": {
      "text/latex": [
       "$\\displaystyle -\\tau_{2} v - \\frac{{\\left(\\left(\\frac{c \\tau_{1} + r_{0}}{c \\tau_{2} + r_{0}}\\right)^{\\frac{2 \\, v}{c}} \\tan\\left(\\frac{1}{2} \\, \\theta_{1}\\right)^{2} - 1\\right)} {\\left(c \\tau_{2} + r_{0}\\right)}}{\\left(\\frac{c \\tau_{1} + r_{0}}{c \\tau_{2} + r_{0}}\\right)^{\\frac{2 \\, v}{c}} \\tan\\left(\\frac{1}{2} \\, \\theta_{1}\\right)^{2} + 1}$"
      ],
      "text/plain": [
       "<IPython.core.display.Math object>"
      ]
     },
     "metadata": {},
     "output_type": "display_data"
    }
   ],
   "source": [
    "print (\"\\ntan_theta_2_half = \")\n",
    "disp(tan_theta_2_half)\n",
    "print (\"\\nsin_theta_2 = \")\n",
    "disp(sin_theta_2)\n",
    "print (\"\\ncos_theta_2 = \")\n",
    "disp(cos_theta_2)\n",
    "print (\"\\nx2 = \")\n",
    "disp(x2)\n",
    "print (\"\\nz2 = \")\n",
    "disp(z2)"
   ]
  },
  {
   "cell_type": "code",
   "execution_count": 13,
   "metadata": {},
   "outputs": [],
   "source": [
    "# tan_theta_2_half =  ((c*tau1 + r0)/(c*tau2 + r0))^(v/c)*tan(1/2*theta_1)\n",
    "# sin_theta_2 =  2*((c*tau1 + r0)/(c*tau2 + r0))^(v/c)*tan(1/2*theta_1)/(((c*tau1 + r0)/(c*tau2 + r0))^(2*v/c)*tan(1/2*theta_1)^2 + 1)\n",
    "# cos_theta_2 =  -(((c*tau1 + r0)/(c*tau2 + r0))^(2*v/c)*tan(1/2*theta_1)^2 - 1)/(((c*tau1 + r0)/(c*tau2 + r0))^(2*v/c)*tan(1/2*theta_1)^2 + 1)\n",
    "# x2 =  2*(c*tau2 + r0)*((c*tau1 + r0)/(c*tau2 + r0))^(v/c)*tan(1/2*theta_1)/(((c*tau1 + r0)/(c*tau2 + r0))^(2*v/c)*tan(1/2*theta_1)^2 + 1)\n",
    "# z2 =  -tau2*v - (((c*tau1 + r0)/(c*tau2 + r0))^(2*v/c)*tan(1/2*theta_1)^2 - 1)*(c*tau2 + r0)/(((c*tau1 + r0)/(c*tau2 + r0))^(2*v/c)*tan(1/2*theta_1)^2 + 1)"
   ]
  },
  {
   "cell_type": "code",
   "execution_count": 14,
   "metadata": {},
   "outputs": [],
   "source": [
    "# составляем якобиан криволинейной системы координат\n",
    "# как определитель матрицы производных декартовых координат x2 и z2 по криволинейным координатам  tau2 и theta_1\n",
    "dx2_dtau2 = derivative(x2, tau_2)\n",
    "dz2_dtau2 = derivative(z2, tau_2)"
   ]
  },
  {
   "cell_type": "code",
   "execution_count": 15,
   "metadata": {},
   "outputs": [],
   "source": [
    "dx2_dtheta_1 = derivative(x2, theta_1)\n",
    "dz2_dtheta_1 = derivative(z2, theta_1)"
   ]
  },
  {
   "cell_type": "code",
   "execution_count": 16,
   "metadata": {},
   "outputs": [
    {
     "name": "stdout",
     "output_type": "stream",
     "text": [
      "\n",
      "dx2_dtau2 = \n"
     ]
    },
    {
     "data": {
      "text/latex": [
       "$\\displaystyle \\frac{4 \\, {\\left(c \\tau_{1} + r_{0}\\right)} v \\left(\\frac{c \\tau_{1} + r_{0}}{c \\tau_{2} + r_{0}}\\right)^{\\frac{2 \\, v}{c} - 1} \\left(\\frac{c \\tau_{1} + r_{0}}{c \\tau_{2} + r_{0}}\\right)^{\\frac{v}{c}} \\tan\\left(\\frac{1}{2} \\, \\theta_{1}\\right)^{3}}{{\\left(\\left(\\frac{c \\tau_{1} + r_{0}}{c \\tau_{2} + r_{0}}\\right)^{\\frac{2 \\, v}{c}} \\tan\\left(\\frac{1}{2} \\, \\theta_{1}\\right)^{2} + 1\\right)}^{2} {\\left(c \\tau_{2} + r_{0}\\right)}} - \\frac{2 \\, {\\left(c \\tau_{1} + r_{0}\\right)} v \\left(\\frac{c \\tau_{1} + r_{0}}{c \\tau_{2} + r_{0}}\\right)^{\\frac{v}{c} - 1} \\tan\\left(\\frac{1}{2} \\, \\theta_{1}\\right)}{{\\left(\\left(\\frac{c \\tau_{1} + r_{0}}{c \\tau_{2} + r_{0}}\\right)^{\\frac{2 \\, v}{c}} \\tan\\left(\\frac{1}{2} \\, \\theta_{1}\\right)^{2} + 1\\right)} {\\left(c \\tau_{2} + r_{0}\\right)}} + \\frac{2 \\, c \\left(\\frac{c \\tau_{1} + r_{0}}{c \\tau_{2} + r_{0}}\\right)^{\\frac{v}{c}} \\tan\\left(\\frac{1}{2} \\, \\theta_{1}\\right)}{\\left(\\frac{c \\tau_{1} + r_{0}}{c \\tau_{2} + r_{0}}\\right)^{\\frac{2 \\, v}{c}} \\tan\\left(\\frac{1}{2} \\, \\theta_{1}\\right)^{2} + 1}$"
      ],
      "text/plain": [
       "<IPython.core.display.Math object>"
      ]
     },
     "metadata": {},
     "output_type": "display_data"
    },
    {
     "name": "stdout",
     "output_type": "stream",
     "text": [
      "\n",
      "dz2_dtau2 = \n"
     ]
    },
    {
     "data": {
      "text/latex": [
       "$\\displaystyle \\frac{2 \\, {\\left(c \\tau_{1} + r_{0}\\right)} v \\left(\\frac{c \\tau_{1} + r_{0}}{c \\tau_{2} + r_{0}}\\right)^{\\frac{2 \\, v}{c} - 1} \\tan\\left(\\frac{1}{2} \\, \\theta_{1}\\right)^{2}}{{\\left(\\left(\\frac{c \\tau_{1} + r_{0}}{c \\tau_{2} + r_{0}}\\right)^{\\frac{2 \\, v}{c}} \\tan\\left(\\frac{1}{2} \\, \\theta_{1}\\right)^{2} + 1\\right)} {\\left(c \\tau_{2} + r_{0}\\right)}} - \\frac{2 \\, {\\left(\\left(\\frac{c \\tau_{1} + r_{0}}{c \\tau_{2} + r_{0}}\\right)^{\\frac{2 \\, v}{c}} \\tan\\left(\\frac{1}{2} \\, \\theta_{1}\\right)^{2} - 1\\right)} {\\left(c \\tau_{1} + r_{0}\\right)} v \\left(\\frac{c \\tau_{1} + r_{0}}{c \\tau_{2} + r_{0}}\\right)^{\\frac{2 \\, v}{c} - 1} \\tan\\left(\\frac{1}{2} \\, \\theta_{1}\\right)^{2}}{{\\left(\\left(\\frac{c \\tau_{1} + r_{0}}{c \\tau_{2} + r_{0}}\\right)^{\\frac{2 \\, v}{c}} \\tan\\left(\\frac{1}{2} \\, \\theta_{1}\\right)^{2} + 1\\right)}^{2} {\\left(c \\tau_{2} + r_{0}\\right)}} - \\frac{{\\left(\\left(\\frac{c \\tau_{1} + r_{0}}{c \\tau_{2} + r_{0}}\\right)^{\\frac{2 \\, v}{c}} \\tan\\left(\\frac{1}{2} \\, \\theta_{1}\\right)^{2} - 1\\right)} c}{\\left(\\frac{c \\tau_{1} + r_{0}}{c \\tau_{2} + r_{0}}\\right)^{\\frac{2 \\, v}{c}} \\tan\\left(\\frac{1}{2} \\, \\theta_{1}\\right)^{2} + 1} - v$"
      ],
      "text/plain": [
       "<IPython.core.display.Math object>"
      ]
     },
     "metadata": {},
     "output_type": "display_data"
    }
   ],
   "source": [
    "print (\"\\ndx2_dtau2 = \")\n",
    "disp(dx2_dtau2)\n",
    "print (\"\\ndz2_dtau2 = \")\n",
    "disp(dz2_dtau2)"
   ]
  },
  {
   "cell_type": "code",
   "execution_count": 17,
   "metadata": {},
   "outputs": [
    {
     "name": "stdout",
     "output_type": "stream",
     "text": [
      "\n",
      "dx2_dtheta_1 = \n"
     ]
    },
    {
     "data": {
      "text/latex": [
       "$\\displaystyle -\\frac{2 \\, {\\left(c \\tau_{2} + r_{0}\\right)} {\\left(\\tan\\left(\\frac{1}{2} \\, \\theta_{1}\\right)^{2} + 1\\right)} \\left(\\frac{c \\tau_{1} + r_{0}}{c \\tau_{2} + r_{0}}\\right)^{\\frac{2 \\, v}{c}} \\left(\\frac{c \\tau_{1} + r_{0}}{c \\tau_{2} + r_{0}}\\right)^{\\frac{v}{c}} \\tan\\left(\\frac{1}{2} \\, \\theta_{1}\\right)^{2}}{{\\left(\\left(\\frac{c \\tau_{1} + r_{0}}{c \\tau_{2} + r_{0}}\\right)^{\\frac{2 \\, v}{c}} \\tan\\left(\\frac{1}{2} \\, \\theta_{1}\\right)^{2} + 1\\right)}^{2}} + \\frac{{\\left(c \\tau_{2} + r_{0}\\right)} {\\left(\\tan\\left(\\frac{1}{2} \\, \\theta_{1}\\right)^{2} + 1\\right)} \\left(\\frac{c \\tau_{1} + r_{0}}{c \\tau_{2} + r_{0}}\\right)^{\\frac{v}{c}}}{\\left(\\frac{c \\tau_{1} + r_{0}}{c \\tau_{2} + r_{0}}\\right)^{\\frac{2 \\, v}{c}} \\tan\\left(\\frac{1}{2} \\, \\theta_{1}\\right)^{2} + 1}$"
      ],
      "text/plain": [
       "<IPython.core.display.Math object>"
      ]
     },
     "metadata": {},
     "output_type": "display_data"
    },
    {
     "name": "stdout",
     "output_type": "stream",
     "text": [
      "\n",
      "dz2_dtheta_1 = \n"
     ]
    },
    {
     "data": {
      "text/latex": [
       "$\\displaystyle -\\frac{{\\left(c \\tau_{2} + r_{0}\\right)} {\\left(\\tan\\left(\\frac{1}{2} \\, \\theta_{1}\\right)^{2} + 1\\right)} \\left(\\frac{c \\tau_{1} + r_{0}}{c \\tau_{2} + r_{0}}\\right)^{\\frac{2 \\, v}{c}} \\tan\\left(\\frac{1}{2} \\, \\theta_{1}\\right)}{\\left(\\frac{c \\tau_{1} + r_{0}}{c \\tau_{2} + r_{0}}\\right)^{\\frac{2 \\, v}{c}} \\tan\\left(\\frac{1}{2} \\, \\theta_{1}\\right)^{2} + 1} + \\frac{{\\left(\\left(\\frac{c \\tau_{1} + r_{0}}{c \\tau_{2} + r_{0}}\\right)^{\\frac{2 \\, v}{c}} \\tan\\left(\\frac{1}{2} \\, \\theta_{1}\\right)^{2} - 1\\right)} {\\left(c \\tau_{2} + r_{0}\\right)} {\\left(\\tan\\left(\\frac{1}{2} \\, \\theta_{1}\\right)^{2} + 1\\right)} \\left(\\frac{c \\tau_{1} + r_{0}}{c \\tau_{2} + r_{0}}\\right)^{\\frac{2 \\, v}{c}} \\tan\\left(\\frac{1}{2} \\, \\theta_{1}\\right)}{{\\left(\\left(\\frac{c \\tau_{1} + r_{0}}{c \\tau_{2} + r_{0}}\\right)^{\\frac{2 \\, v}{c}} \\tan\\left(\\frac{1}{2} \\, \\theta_{1}\\right)^{2} + 1\\right)}^{2}}$"
      ],
      "text/plain": [
       "<IPython.core.display.Math object>"
      ]
     },
     "metadata": {},
     "output_type": "display_data"
    }
   ],
   "source": [
    "print (\"\\ndx2_dtheta_1 = \")\n",
    "disp(dx2_dtheta_1)\n",
    "print (\"\\ndz2_dtheta_1 = \")\n",
    "disp(dz2_dtheta_1)"
   ]
  },
  {
   "cell_type": "code",
   "execution_count": 18,
   "metadata": {},
   "outputs": [],
   "source": [
    "# dx2_dtau2 =  4*(c*tau1 + r0)*v*((c*tau1 + r0)/(c*tau2 + r0))^(2*v/c - 1)*((c*tau1 + r0)/(c*tau2 + r0))^(v/c)*tan(1/2*theta_1)^3/((((c*tau1 + r0)/(c*tau2 + r0))^(2*v/c)*tan(1/2*theta_1)^2 + 1)^2*(c*tau2 + r0)) - 2*(c*tau1 + r0)*v*((c*tau1 + r0)/(c*tau2 + r0))^(v/c - 1)*tan(1/2*theta_1)/((((c*tau1 + r0)/(c*tau2 + r0))^(2*v/c)*tan(1/2*theta_1)^2 + 1)*(c*tau2 + r0)) + 2*c*((c*tau1 + r0)/(c*tau2 + r0))^(v/c)*tan(1/2*theta_1)/(((c*tau1 + r0)/(c*tau2 + r0))^(2*v/c)*tan(1/2*theta_1)^2 + 1)\n",
    "# dz2_dtau2 =  2*(c*tau1 + r0)*v*((c*tau1 + r0)/(c*tau2 + r0))^(2*v/c - 1)*tan(1/2*theta_1)^2/((((c*tau1 + r0)/(c*tau2 + r0))^(2*v/c)*tan(1/2*theta_1)^2 + 1)*(c*tau2 + r0)) - 2*(((c*tau1 + r0)/(c*tau2 + r0))^(2*v/c)*tan(1/2*theta_1)^2 - 1)*(c*tau1 + r0)*v*((c*tau1 + r0)/(c*tau2 + r0))^(2*v/c - 1)*tan(1/2*theta_1)^2/((((c*tau1 + r0)/(c*tau2 + r0))^(2*v/c)*tan(1/2*theta_1)^2 + 1)^2*(c*tau2 + r0)) - (((c*tau1 + r0)/(c*tau2 + r0))^(2*v/c)*tan(1/2*theta_1)^2 - 1)*c/(((c*tau1 + r0)/(c*tau2 + r0))^(2*v/c)*tan(1/2*theta_1)^2 + 1) - v\n",
    "# dx2_dtheta_1 =  -2*(c*tau2 + r0)*(tan(1/2*theta_1)^2 + 1)*((c*tau1 + r0)/(c*tau2 + r0))^(2*v/c)*((c*tau1 + r0)/(c*tau2 + r0))^(v/c)*tan(1/2*theta_1)^2/(((c*tau1 + r0)/(c*tau2 + r0))^(2*v/c)*tan(1/2*theta_1)^2 + 1)^2 + (c*tau2 + r0)*(tan(1/2*theta_1)^2 + 1)*((c*tau1 + r0)/(c*tau2 + r0))^(v/c)/(((c*tau1 + r0)/(c*tau2 + r0))^(2*v/c)*tan(1/2*theta_1)^2 + 1)\n",
    "# dz2_dtheta_1 =  -(c*tau2 + r0)*(tan(1/2*theta_1)^2 + 1)*((c*tau1 + r0)/(c*tau2 + r0))^(2*v/c)*tan(1/2*theta_1)/(((c*tau1 + r0)/(c*tau2 + r0))^(2*v/c)*tan(1/2*theta_1)^2 + 1) + (((c*tau1 + r0)/(c*tau2 + r0))^(2*v/c)*tan(1/2*theta_1)^2 - 1)*(c*tau2 + r0)*(tan(1/2*theta_1)^2 + 1)*((c*tau1 + r0)/(c*tau2 + r0))^(2*v/c)*tan(1/2*theta_1)/(((c*tau1 + r0)/(c*tau2 + r0))^(2*v/c)*tan(1/2*theta_1)^2 + 1)^2"
   ]
  },
  {
   "cell_type": "code",
   "execution_count": 19,
   "metadata": {},
   "outputs": [
    {
     "name": "stdout",
     "output_type": "stream",
     "text": [
      "\n",
      "J =  -2*(2*(c*tau_1 + r0)*v*((c*tau_1 + r0)/(c*tau_2 + r0))^(2*v/c - 1)*((c*tau_1 + r0)/(c*tau_2 + r0))^(v/c)*tan(1/2*theta_1)^3/((((c*tau_1 + r0)/(c*tau_2 + r0))^(2*v/c)*tan(1/2*theta_1)^2 + 1)^2*(c*tau_2 + r0)) - (c*tau_1 + r0)*v*((c*tau_1 + r0)/(c*tau_2 + r0))^(v/c - 1)*tan(1/2*theta_1)/((((c*tau_1 + r0)/(c*tau_2 + r0))^(2*v/c)*tan(1/2*theta_1)^2 + 1)*(c*tau_2 + r0)) + c*((c*tau_1 + r0)/(c*tau_2 + r0))^(v/c)*tan(1/2*theta_1)/(((c*tau_1 + r0)/(c*tau_2 + r0))^(2*v/c)*tan(1/2*theta_1)^2 + 1))*((c*tau_2 + r0)*(tan(1/2*theta_1)^2 + 1)*((c*tau_1 + r0)/(c*tau_2 + r0))^(2*v/c)*tan(1/2*theta_1)/(((c*tau_1 + r0)/(c*tau_2 + r0))^(2*v/c)*tan(1/2*theta_1)^2 + 1) - (((c*tau_1 + r0)/(c*tau_2 + r0))^(2*v/c)*tan(1/2*theta_1)^2 - 1)*(c*tau_2 + r0)*(tan(1/2*theta_1)^2 + 1)*((c*tau_1 + r0)/(c*tau_2 + r0))^(2*v/c)*tan(1/2*theta_1)/(((c*tau_1 + r0)/(c*tau_2 + r0))^(2*v/c)*tan(1/2*theta_1)^2 + 1)^2) + (2*(c*tau_2 + r0)*(tan(1/2*theta_1)^2 + 1)*((c*tau_1 + r0)/(c*tau_2 + r0))^(2*v/c)*((c*tau_1 + r0)/(c*tau_2 + r0))^(v/c)*tan(1/2*theta_1)^2/(((c*tau_1 + r0)/(c*tau_2 + r0))^(2*v/c)*tan(1/2*theta_1)^2 + 1)^2 - (c*tau_2 + r0)*(tan(1/2*theta_1)^2 + 1)*((c*tau_1 + r0)/(c*tau_2 + r0))^(v/c)/(((c*tau_1 + r0)/(c*tau_2 + r0))^(2*v/c)*tan(1/2*theta_1)^2 + 1))*(2*(c*tau_1 + r0)*v*((c*tau_1 + r0)/(c*tau_2 + r0))^(2*v/c - 1)*tan(1/2*theta_1)^2/((((c*tau_1 + r0)/(c*tau_2 + r0))^(2*v/c)*tan(1/2*theta_1)^2 + 1)*(c*tau_2 + r0)) - 2*(((c*tau_1 + r0)/(c*tau_2 + r0))^(2*v/c)*tan(1/2*theta_1)^2 - 1)*(c*tau_1 + r0)*v*((c*tau_1 + r0)/(c*tau_2 + r0))^(2*v/c - 1)*tan(1/2*theta_1)^2/((((c*tau_1 + r0)/(c*tau_2 + r0))^(2*v/c)*tan(1/2*theta_1)^2 + 1)^2*(c*tau_2 + r0)) - (((c*tau_1 + r0)/(c*tau_2 + r0))^(2*v/c)*tan(1/2*theta_1)^2 - 1)*c/(((c*tau_1 + r0)/(c*tau_2 + r0))^(2*v/c)*tan(1/2*theta_1)^2 + 1) - v)\n"
     ]
    }
   ],
   "source": [
    "# якобиан криволинейной системы координат\n",
    "J = dx2_dtau2 * dz2_dtheta_1 - dx2_dtheta_1 * dz2_dtau2\n",
    "print (\"\\nJ = \", J)"
   ]
  },
  {
   "cell_type": "code",
   "execution_count": 20,
   "metadata": {},
   "outputs": [],
   "source": [
    "# J =  -2*(2*(c*tau1 + r0)*v*((c*tau1 + r0)/(c*tau2 + r0))^(2*v/c - 1)*((c*tau1 + r0)/(c*tau2 + r0))^(v/c)*tan(1/2*theta_1)^3/((((c*tau1 + r0)/(c*tau2 + r0))^(2*v/c)*tan(1/2*theta_1)^2 + 1)^2*(c*tau2 + r0)) - (c*tau1 + r0)*v*((c*tau1 + r0)/(c*tau2 + r0))^(v/c - 1)*tan(1/2*theta_1)/((((c*tau1 + r0)/(c*tau2 + r0))^(2*v/c)*tan(1/2*theta_1)^2 + 1)*(c*tau2 + r0)) + c*((c*tau1 + r0)/(c*tau2 + r0))^(v/c)*tan(1/2*theta_1)/(((c*tau1 + r0)/(c*tau2 + r0))^(2*v/c)*tan(1/2*theta_1)^2 + 1))*((c*tau2 + r0)*(tan(1/2*theta_1)^2 + 1)*((c*tau1 + r0)/(c*tau2 + r0))^(2*v/c)*tan(1/2*theta_1)/(((c*tau1 + r0)/(c*tau2 + r0))^(2*v/c)*tan(1/2*theta_1)^2 + 1) - (((c*tau1 + r0)/(c*tau2 + r0))^(2*v/c)*tan(1/2*theta_1)^2 - 1)*(c*tau2 + r0)*(tan(1/2*theta_1)^2 + 1)*((c*tau1 + r0)/(c*tau2 + r0))^(2*v/c)*tan(1/2*theta_1)/(((c*tau1 + r0)/(c*tau2 + r0))^(2*v/c)*tan(1/2*theta_1)^2 + 1)^2) + (2*(c*tau2 + r0)*(tan(1/2*theta_1)^2 + 1)*((c*tau1 + r0)/(c*tau2 + r0))^(2*v/c)*((c*tau1 + r0)/(c*tau2 + r0))^(v/c)*tan(1/2*theta_1)^2/(((c*tau1 + r0)/(c*tau2 + r0))^(2*v/c)*tan(1/2*theta_1)^2 + 1)^2 - (c*tau2 + r0)*(tan(1/2*theta_1)^2 + 1)*((c*tau1 + r0)/(c*tau2 + r0))^(v/c)/(((c*tau1 + r0)/(c*tau2 + r0))^(2*v/c)*tan(1/2*theta_1)^2 + 1))*(2*(c*tau1 + r0)*v*((c*tau1 + r0)/(c*tau2 + r0))^(2*v/c - 1)*tan(1/2*theta_1)^2/((((c*tau1 + r0)/(c*tau2 + r0))^(2*v/c)*tan(1/2*theta_1)^2 + 1)*(c*tau2 + r0)) - 2*(((c*tau1 + r0)/(c*tau2 + r0))^(2*v/c)*tan(1/2*theta_1)^2 - 1)*(c*tau1 + r0)*v*((c*tau1 + r0)/(c*tau2 + r0))^(2*v/c - 1)*tan(1/2*theta_1)^2/((((c*tau1 + r0)/(c*tau2 + r0))^(2*v/c)*tan(1/2*theta_1)^2 + 1)^2*(c*tau2 + r0)) - (((c*tau1 + r0)/(c*tau2 + r0))^(2*v/c)*tan(1/2*theta_1)^2 - 1)*c/(((c*tau1 + r0)/(c*tau2 + r0))^(2*v/c)*tan(1/2*theta_1)^2 + 1) - v"
   ]
  },
  {
   "cell_type": "code",
   "execution_count": 21,
   "metadata": {},
   "outputs": [
    {
     "name": "stdout",
     "output_type": "stream",
     "text": [
      "\n",
      "J =  -2*(((c*tau_2 - (c*tau_2 + r0)*cos(theta_1) + r0)*((c*tau_1 + r0)/(c*tau_2 + r0))^(3*v/c) - (c*tau_2 + (c*tau_2 + r0)*cos(theta_1) + r0)*((c*tau_1 + r0)/(c*tau_2 + r0))^(v/c))*v + (c^2*tau_2 + c*r0 - (c^2*tau_2 + c*r0)*cos(theta_1))*((c*tau_1 + r0)/(c*tau_2 + r0))^(3*v/c) + (c^2*tau_2 + c*r0 + (c^2*tau_2 + c*r0)*cos(theta_1))*((c*tau_1 + r0)/(c*tau_2 + r0))^(v/c))/(2*((c*tau_1 + r0)/(c*tau_2 + r0))^(2*v/c)*sin(theta_1)^2 - (sin(theta_1)^2 + 2*cos(theta_1) - 2)*((c*tau_1 + r0)/(c*tau_2 + r0))^(4*v/c) - sin(theta_1)^2 + 2*cos(theta_1) + 2)\n"
     ]
    },
    {
     "data": {
      "text/latex": [
       "$\\displaystyle -\\frac{2 \\, {\\left({\\left({\\left(c \\tau_{2} - {\\left(c \\tau_{2} + r_{0}\\right)} \\cos\\left(\\theta_{1}\\right) + r_{0}\\right)} \\left(\\frac{c \\tau_{1} + r_{0}}{c \\tau_{2} + r_{0}}\\right)^{\\frac{3 \\, v}{c}} - {\\left(c \\tau_{2} + {\\left(c \\tau_{2} + r_{0}\\right)} \\cos\\left(\\theta_{1}\\right) + r_{0}\\right)} \\left(\\frac{c \\tau_{1} + r_{0}}{c \\tau_{2} + r_{0}}\\right)^{\\frac{v}{c}}\\right)} v + {\\left(c^{2} \\tau_{2} + c r_{0} - {\\left(c^{2} \\tau_{2} + c r_{0}\\right)} \\cos\\left(\\theta_{1}\\right)\\right)} \\left(\\frac{c \\tau_{1} + r_{0}}{c \\tau_{2} + r_{0}}\\right)^{\\frac{3 \\, v}{c}} + {\\left(c^{2} \\tau_{2} + c r_{0} + {\\left(c^{2} \\tau_{2} + c r_{0}\\right)} \\cos\\left(\\theta_{1}\\right)\\right)} \\left(\\frac{c \\tau_{1} + r_{0}}{c \\tau_{2} + r_{0}}\\right)^{\\frac{v}{c}}\\right)}}{2 \\, \\left(\\frac{c \\tau_{1} + r_{0}}{c \\tau_{2} + r_{0}}\\right)^{\\frac{2 \\, v}{c}} \\sin\\left(\\theta_{1}\\right)^{2} - {\\left(\\sin\\left(\\theta_{1}\\right)^{2} + 2 \\, \\cos\\left(\\theta_{1}\\right) - 2\\right)} \\left(\\frac{c \\tau_{1} + r_{0}}{c \\tau_{2} + r_{0}}\\right)^{\\frac{4 \\, v}{c}} - \\sin\\left(\\theta_{1}\\right)^{2} + 2 \\, \\cos\\left(\\theta_{1}\\right) + 2}$"
      ],
      "text/plain": [
       "<IPython.core.display.Math object>"
      ]
     },
     "metadata": {},
     "output_type": "display_data"
    }
   ],
   "source": [
    "J = J.substitute(tan(1/2*theta_1) == sqrt((1-cos(theta_1))/(1+cos(theta_1))) ).full_simplify()\n",
    "print (\"\\nJ = \", J)\n",
    "disp(J)"
   ]
  },
  {
   "cell_type": "code",
   "execution_count": 22,
   "metadata": {},
   "outputs": [],
   "source": [
    "# J =  -2*(((c*tau2 - (c*tau2 + r0)*cos(theta_1) + r0)*((c*tau1 + r0)/(c*tau2 + r0))^(3*v/c) - (c*tau2 + (c*tau2 + r0)*cos(theta_1) + r0)*((c*tau1 + r0)/(c*tau2 + r0))^(v/c))*v + (c^2*tau2 + c*r0 - (c^2*tau2 + c*r0)*cos(theta_1))*((c*tau1 + r0)/(c*tau2 + r0))^(3*v/c) + (c^2*tau2 + c*r0 + (c^2*tau2 + c*r0)*cos(theta_1))*((c*tau1 + r0)/(c*tau2 + r0))^(v/c))/(2*((c*tau1 + r0)/(c*tau2 + r0))^(2*v/c)*sin(theta_1)^2 - (sin(theta_1)^2 + 2*cos(theta_1) - 2)*((c*tau1 + r0)/(c*tau2 + r0))^(4*v/c) - sin(theta_1)^2 + 2*cos(theta_1) + 2)"
   ]
  },
  {
   "cell_type": "markdown",
   "metadata": {},
   "source": [
    "предел якобиана при устремлении разности текущего момента и запаздывающего момента в точке наблюдения\n",
    "\n",
    "$\\tau_2 = t - t_{{zap}_2}$\n",
    "\n",
    "к разности текущего момента и момента начала движения заряда\n",
    "\n",
    "$\\tau_1 = t - t_{{zap}_1}$\n"
   ]
  },
  {
   "cell_type": "code",
   "execution_count": 26,
   "metadata": {},
   "outputs": [
    {
     "name": "stdout",
     "output_type": "stream",
     "text": [
      "\n",
      "J0 =  c*tau_1*v*cos(theta_1) - c^2*tau_1 + r0*v*cos(theta_1) - c*r0\n"
     ]
    },
    {
     "data": {
      "text/latex": [
       "$\\displaystyle c \\tau_{1} v \\cos\\left(\\theta_{1}\\right) - c^{2} \\tau_{1} + r_{0} v \\cos\\left(\\theta_{1}\\right) - c r_{0}$"
      ],
      "text/plain": [
       "<IPython.core.display.Math object>"
      ]
     },
     "metadata": {},
     "output_type": "display_data"
    }
   ],
   "source": [
    "J0 = J.limit(tau_2 = tau_1)\n",
    "print (\"\\nJ0 = \")\n",
    "disp(J0)"
   ]
  },
  {
   "cell_type": "code",
   "execution_count": 27,
   "metadata": {},
   "outputs": [],
   "source": [
    "# J0 =  -(c*r0*tan(1/2*theta_1)^2 + c*r0 + (c^2*tan(1/2*theta_1)^2 + c^2)*tau1 + (r0*tan(1/2*theta_1)^2 + (c*tan(1/2*theta_1)^2 - c)*tau1 - r0)*v)/(tan(1/2*theta_1)^2 + 1)"
   ]
  },
  {
   "cell_type": "code",
   "execution_count": 28,
   "metadata": {},
   "outputs": [
    {
     "name": "stdout",
     "output_type": "stream",
     "text": [
      "\n",
      "J0 =  -c^2*tau_1 + (c*tau_1 + r0)*v*cos(theta_1) - c*r0\n"
     ]
    },
    {
     "data": {
      "text/latex": [
       "$\\displaystyle -c^{2} \\tau_{1} + {\\left(c \\tau_{1} + r_{0}\\right)} v \\cos\\left(\\theta_{1}\\right) - c r_{0}$"
      ],
      "text/plain": [
       "<IPython.core.display.Math object>"
      ]
     },
     "metadata": {},
     "output_type": "display_data"
    }
   ],
   "source": [
    "J0 = J0.substitute(tan(1/2*theta_1) == sqrt((1-cos(theta_1))/(1+cos(theta_1))) ).full_simplify()\n",
    "print (\"\\nJ0 = \")\n",
    "# J0 =  -c^2*tau1 + (c*tau1 + r0)*v*cos(theta_1) - c*r0\n",
    "disp(J0)"
   ]
  },
  {
   "cell_type": "code",
   "execution_count": 30,
   "metadata": {},
   "outputs": [
    {
     "name": "stdout",
     "output_type": "stream",
     "text": [
      "\n",
      "J0 =  -c^2*tau_1 + (c*tau_1 + r0)*v*cos(theta_1) - c*r0\n"
     ]
    }
   ],
   "source": [
    "J0 = J0.collect(r0+c*tau_1)\n",
    "print (\"\\nJ0 = \")\n",
    "disp(J0)"
   ]
  },
  {
   "cell_type": "code",
   "execution_count": 32,
   "metadata": {
    "scrolled": true
   },
   "outputs": [
    {
     "name": "stdout",
     "output_type": "stream",
     "text": [
      "\n",
      "J0 =  -c^2*tau_1 + R_zap_1*v*cos(theta_1) - c*r0\n"
     ]
    }
   ],
   "source": [
    "R_zap_1 = var(\"R_zap_1\")\n",
    "J0 = J0.substitute((c*tau_1 + r0)==R_zap_1)\n",
    "print (\"\\nJ0 = \")\n",
    "disp(J0)"
   ]
  },
  {
   "cell_type": "code",
   "execution_count": 33,
   "metadata": {},
   "outputs": [],
   "source": [
    "# J0 = - (r0+c*tau1) * (c - v * cos(theta_1)"
   ]
  },
  {
   "cell_type": "code",
   "execution_count": 34,
   "metadata": {},
   "outputs": [],
   "source": [
    "# метрический тензор\n",
    "# x_1 = tau\n",
    "# x_2 = theta_1"
   ]
  },
  {
   "cell_type": "code",
   "execution_count": 35,
   "metadata": {},
   "outputs": [],
   "source": [
    "g11 = dx2_dtau2    * dx2_dtau2    + dz2_dtau2    * dz2_dtau2\n",
    "g22 = dx2_dtheta_1 * dx2_dtheta_1 + dz2_dtheta_1 * dz2_dtheta_1"
   ]
  },
  {
   "cell_type": "code",
   "execution_count": 36,
   "metadata": {},
   "outputs": [],
   "source": [
    "g12 = dx2_dtau2    * dx2_dtheta_1 + dz2_dtau2    * dz2_dtheta_1\n",
    "g21 = dx2_dtheta_1 * dx2_dtau2    + dz2_dtheta_1 * dz2_dtau2"
   ]
  },
  {
   "cell_type": "code",
   "execution_count": 37,
   "metadata": {},
   "outputs": [
    {
     "name": "stdout",
     "output_type": "stream",
     "text": [
      "\n",
      "g11 =  4*(2*(c*tau_1 + r0)*v*((c*tau_1 + r0)/(c*tau_2 + r0))^(2*v/c - 1)*((c*tau_1 + r0)/(c*tau_2 + r0))^(v/c)*tan(1/2*theta_1)^3/((((c*tau_1 + r0)/(c*tau_2 + r0))^(2*v/c)*tan(1/2*theta_1)^2 + 1)^2*(c*tau_2 + r0)) - (c*tau_1 + r0)*v*((c*tau_1 + r0)/(c*tau_2 + r0))^(v/c - 1)*tan(1/2*theta_1)/((((c*tau_1 + r0)/(c*tau_2 + r0))^(2*v/c)*tan(1/2*theta_1)^2 + 1)*(c*tau_2 + r0)) + c*((c*tau_1 + r0)/(c*tau_2 + r0))^(v/c)*tan(1/2*theta_1)/(((c*tau_1 + r0)/(c*tau_2 + r0))^(2*v/c)*tan(1/2*theta_1)^2 + 1))^2 + (2*(c*tau_1 + r0)*v*((c*tau_1 + r0)/(c*tau_2 + r0))^(2*v/c - 1)*tan(1/2*theta_1)^2/((((c*tau_1 + r0)/(c*tau_2 + r0))^(2*v/c)*tan(1/2*theta_1)^2 + 1)*(c*tau_2 + r0)) - 2*(((c*tau_1 + r0)/(c*tau_2 + r0))^(2*v/c)*tan(1/2*theta_1)^2 - 1)*(c*tau_1 + r0)*v*((c*tau_1 + r0)/(c*tau_2 + r0))^(2*v/c - 1)*tan(1/2*theta_1)^2/((((c*tau_1 + r0)/(c*tau_2 + r0))^(2*v/c)*tan(1/2*theta_1)^2 + 1)^2*(c*tau_2 + r0)) - (((c*tau_1 + r0)/(c*tau_2 + r0))^(2*v/c)*tan(1/2*theta_1)^2 - 1)*c/(((c*tau_1 + r0)/(c*tau_2 + r0))^(2*v/c)*tan(1/2*theta_1)^2 + 1) - v)^2\n",
      "\n",
      "g22 =  (2*(c*tau_2 + r0)*(tan(1/2*theta_1)^2 + 1)*((c*tau_1 + r0)/(c*tau_2 + r0))^(2*v/c)*((c*tau_1 + r0)/(c*tau_2 + r0))^(v/c)*tan(1/2*theta_1)^2/(((c*tau_1 + r0)/(c*tau_2 + r0))^(2*v/c)*tan(1/2*theta_1)^2 + 1)^2 - (c*tau_2 + r0)*(tan(1/2*theta_1)^2 + 1)*((c*tau_1 + r0)/(c*tau_2 + r0))^(v/c)/(((c*tau_1 + r0)/(c*tau_2 + r0))^(2*v/c)*tan(1/2*theta_1)^2 + 1))^2 + ((c*tau_2 + r0)*(tan(1/2*theta_1)^2 + 1)*((c*tau_1 + r0)/(c*tau_2 + r0))^(2*v/c)*tan(1/2*theta_1)/(((c*tau_1 + r0)/(c*tau_2 + r0))^(2*v/c)*tan(1/2*theta_1)^2 + 1) - (((c*tau_1 + r0)/(c*tau_2 + r0))^(2*v/c)*tan(1/2*theta_1)^2 - 1)*(c*tau_2 + r0)*(tan(1/2*theta_1)^2 + 1)*((c*tau_1 + r0)/(c*tau_2 + r0))^(2*v/c)*tan(1/2*theta_1)/(((c*tau_1 + r0)/(c*tau_2 + r0))^(2*v/c)*tan(1/2*theta_1)^2 + 1)^2)^2\n",
      "\n",
      "g12 =  -2*(2*(c*tau_2 + r0)*(tan(1/2*theta_1)^2 + 1)*((c*tau_1 + r0)/(c*tau_2 + r0))^(2*v/c)*((c*tau_1 + r0)/(c*tau_2 + r0))^(v/c)*tan(1/2*theta_1)^2/(((c*tau_1 + r0)/(c*tau_2 + r0))^(2*v/c)*tan(1/2*theta_1)^2 + 1)^2 - (c*tau_2 + r0)*(tan(1/2*theta_1)^2 + 1)*((c*tau_1 + r0)/(c*tau_2 + r0))^(v/c)/(((c*tau_1 + r0)/(c*tau_2 + r0))^(2*v/c)*tan(1/2*theta_1)^2 + 1))*(2*(c*tau_1 + r0)*v*((c*tau_1 + r0)/(c*tau_2 + r0))^(2*v/c - 1)*((c*tau_1 + r0)/(c*tau_2 + r0))^(v/c)*tan(1/2*theta_1)^3/((((c*tau_1 + r0)/(c*tau_2 + r0))^(2*v/c)*tan(1/2*theta_1)^2 + 1)^2*(c*tau_2 + r0)) - (c*tau_1 + r0)*v*((c*tau_1 + r0)/(c*tau_2 + r0))^(v/c - 1)*tan(1/2*theta_1)/((((c*tau_1 + r0)/(c*tau_2 + r0))^(2*v/c)*tan(1/2*theta_1)^2 + 1)*(c*tau_2 + r0)) + c*((c*tau_1 + r0)/(c*tau_2 + r0))^(v/c)*tan(1/2*theta_1)/(((c*tau_1 + r0)/(c*tau_2 + r0))^(2*v/c)*tan(1/2*theta_1)^2 + 1)) - ((c*tau_2 + r0)*(tan(1/2*theta_1)^2 + 1)*((c*tau_1 + r0)/(c*tau_2 + r0))^(2*v/c)*tan(1/2*theta_1)/(((c*tau_1 + r0)/(c*tau_2 + r0))^(2*v/c)*tan(1/2*theta_1)^2 + 1) - (((c*tau_1 + r0)/(c*tau_2 + r0))^(2*v/c)*tan(1/2*theta_1)^2 - 1)*(c*tau_2 + r0)*(tan(1/2*theta_1)^2 + 1)*((c*tau_1 + r0)/(c*tau_2 + r0))^(2*v/c)*tan(1/2*theta_1)/(((c*tau_1 + r0)/(c*tau_2 + r0))^(2*v/c)*tan(1/2*theta_1)^2 + 1)^2)*(2*(c*tau_1 + r0)*v*((c*tau_1 + r0)/(c*tau_2 + r0))^(2*v/c - 1)*tan(1/2*theta_1)^2/((((c*tau_1 + r0)/(c*tau_2 + r0))^(2*v/c)*tan(1/2*theta_1)^2 + 1)*(c*tau_2 + r0)) - 2*(((c*tau_1 + r0)/(c*tau_2 + r0))^(2*v/c)*tan(1/2*theta_1)^2 - 1)*(c*tau_1 + r0)*v*((c*tau_1 + r0)/(c*tau_2 + r0))^(2*v/c - 1)*tan(1/2*theta_1)^2/((((c*tau_1 + r0)/(c*tau_2 + r0))^(2*v/c)*tan(1/2*theta_1)^2 + 1)^2*(c*tau_2 + r0)) - (((c*tau_1 + r0)/(c*tau_2 + r0))^(2*v/c)*tan(1/2*theta_1)^2 - 1)*c/(((c*tau_1 + r0)/(c*tau_2 + r0))^(2*v/c)*tan(1/2*theta_1)^2 + 1) - v)\n",
      "\n",
      "g21 =  -2*(2*(c*tau_2 + r0)*(tan(1/2*theta_1)^2 + 1)*((c*tau_1 + r0)/(c*tau_2 + r0))^(2*v/c)*((c*tau_1 + r0)/(c*tau_2 + r0))^(v/c)*tan(1/2*theta_1)^2/(((c*tau_1 + r0)/(c*tau_2 + r0))^(2*v/c)*tan(1/2*theta_1)^2 + 1)^2 - (c*tau_2 + r0)*(tan(1/2*theta_1)^2 + 1)*((c*tau_1 + r0)/(c*tau_2 + r0))^(v/c)/(((c*tau_1 + r0)/(c*tau_2 + r0))^(2*v/c)*tan(1/2*theta_1)^2 + 1))*(2*(c*tau_1 + r0)*v*((c*tau_1 + r0)/(c*tau_2 + r0))^(2*v/c - 1)*((c*tau_1 + r0)/(c*tau_2 + r0))^(v/c)*tan(1/2*theta_1)^3/((((c*tau_1 + r0)/(c*tau_2 + r0))^(2*v/c)*tan(1/2*theta_1)^2 + 1)^2*(c*tau_2 + r0)) - (c*tau_1 + r0)*v*((c*tau_1 + r0)/(c*tau_2 + r0))^(v/c - 1)*tan(1/2*theta_1)/((((c*tau_1 + r0)/(c*tau_2 + r0))^(2*v/c)*tan(1/2*theta_1)^2 + 1)*(c*tau_2 + r0)) + c*((c*tau_1 + r0)/(c*tau_2 + r0))^(v/c)*tan(1/2*theta_1)/(((c*tau_1 + r0)/(c*tau_2 + r0))^(2*v/c)*tan(1/2*theta_1)^2 + 1)) - ((c*tau_2 + r0)*(tan(1/2*theta_1)^2 + 1)*((c*tau_1 + r0)/(c*tau_2 + r0))^(2*v/c)*tan(1/2*theta_1)/(((c*tau_1 + r0)/(c*tau_2 + r0))^(2*v/c)*tan(1/2*theta_1)^2 + 1) - (((c*tau_1 + r0)/(c*tau_2 + r0))^(2*v/c)*tan(1/2*theta_1)^2 - 1)*(c*tau_2 + r0)*(tan(1/2*theta_1)^2 + 1)*((c*tau_1 + r0)/(c*tau_2 + r0))^(2*v/c)*tan(1/2*theta_1)/(((c*tau_1 + r0)/(c*tau_2 + r0))^(2*v/c)*tan(1/2*theta_1)^2 + 1)^2)*(2*(c*tau_1 + r0)*v*((c*tau_1 + r0)/(c*tau_2 + r0))^(2*v/c - 1)*tan(1/2*theta_1)^2/((((c*tau_1 + r0)/(c*tau_2 + r0))^(2*v/c)*tan(1/2*theta_1)^2 + 1)*(c*tau_2 + r0)) - 2*(((c*tau_1 + r0)/(c*tau_2 + r0))^(2*v/c)*tan(1/2*theta_1)^2 - 1)*(c*tau_1 + r0)*v*((c*tau_1 + r0)/(c*tau_2 + r0))^(2*v/c - 1)*tan(1/2*theta_1)^2/((((c*tau_1 + r0)/(c*tau_2 + r0))^(2*v/c)*tan(1/2*theta_1)^2 + 1)^2*(c*tau_2 + r0)) - (((c*tau_1 + r0)/(c*tau_2 + r0))^(2*v/c)*tan(1/2*theta_1)^2 - 1)*c/(((c*tau_1 + r0)/(c*tau_2 + r0))^(2*v/c)*tan(1/2*theta_1)^2 + 1) - v)\n"
     ]
    }
   ],
   "source": [
    "print (\"\\ng11 = \")\n",
    "disp(g11)\n",
    "print (\"\\ng22 = \")\n",
    "disp(g22)\n",
    "print (\"\\ng12 = \")\n",
    "disp(g12)\n",
    "print (\"\\ng21 = \")\n",
    "disp(g21)"
   ]
  },
  {
   "cell_type": "code",
   "execution_count": 38,
   "metadata": {},
   "outputs": [],
   "source": [
    "g11 = g11.substitute(tan(1/2*theta_1) == sqrt((1-cos(theta_1))/(1+cos(theta_1))) ).full_simplify()\n",
    "g22 = g22.substitute(tan(1/2*theta_1) == sqrt((1-cos(theta_1))/(1+cos(theta_1))) ).full_simplify()\n",
    "g12 = g12.substitute(tan(1/2*theta_1) == sqrt((1-cos(theta_1))/(1+cos(theta_1))) ).full_simplify()\n",
    "g21 = g21.substitute(tan(1/2*theta_1) == sqrt((1-cos(theta_1))/(1+cos(theta_1))) ).full_simplify()"
   ]
  },
  {
   "cell_type": "code",
   "execution_count": 39,
   "metadata": {},
   "outputs": [
    {
     "name": "stdout",
     "output_type": "stream",
     "text": [
      "\n",
      "g11 =  (2*c^2*((c*tau_1 + r0)/(c*tau_2 + r0))^(2*v/c)*sin(theta_1)^2 - c^2*sin(theta_1)^2 - (2*((c*tau_1 + r0)/(c*tau_2 + r0))^(2*v/c)*sin(theta_1)^2 + (sin(theta_1)^2 + 2*cos(theta_1) - 2)*((c*tau_1 + r0)/(c*tau_2 + r0))^(4*v/c) + sin(theta_1)^2 - 2*cos(theta_1) - 2)*v^2 + 2*c^2*cos(theta_1) + 2*c^2 + 2*(c*sin(theta_1)^2 - (c*sin(theta_1)^2 + 2*c*cos(theta_1) - 2*c)*((c*tau_1 + r0)/(c*tau_2 + r0))^(4*v/c) - 2*c*cos(theta_1) - 2*c)*v - (c^2*sin(theta_1)^2 + 2*c^2*cos(theta_1) - 2*c^2)*((c*tau_1 + r0)/(c*tau_2 + r0))^(4*v/c))/(2*((c*tau_1 + r0)/(c*tau_2 + r0))^(2*v/c)*sin(theta_1)^2 - (sin(theta_1)^2 + 2*cos(theta_1) - 2)*((c*tau_1 + r0)/(c*tau_2 + r0))^(4*v/c) - sin(theta_1)^2 + 2*cos(theta_1) + 2)\n",
      "\n",
      "g22 =  4*(c^2*tau_2^2 + 2*c*r0*tau_2 + r0^2)*((c*tau_1 + r0)/(c*tau_2 + r0))^(2*v/c)/(2*((c*tau_1 + r0)/(c*tau_2 + r0))^(2*v/c)*sin(theta_1)^2 - (sin(theta_1)^2 + 2*cos(theta_1) - 2)*((c*tau_1 + r0)/(c*tau_2 + r0))^(4*v/c) - sin(theta_1)^2 + 2*cos(theta_1) + 2)\n",
      "\n",
      "g12 =  -8*(((c*tau_2 + (c*tau_2 + r0)*cos(theta_1) + r0)*(-(cos(theta_1) - 1)/(cos(theta_1) + 1))^(3/2) - (c*tau_2 - (c*tau_2 + r0)*cos(theta_1) + r0)*sqrt(-(cos(theta_1) - 1)/(cos(theta_1) + 1)))*((c*tau_1 + r0)/(c*tau_2 + r0))^(6*v/c)*sin(theta_1)^2 + (((3*c*tau_2 + (c*tau_2 + r0)*cos(theta_1) + 3*r0)*(-(cos(theta_1) - 1)/(cos(theta_1) + 1))^(3/2) + (c*tau_2 + (c*tau_2 + r0)*cos(theta_1) + r0)*sqrt(-(cos(theta_1) - 1)/(cos(theta_1) + 1)))*sin(theta_1)^2 - 4*(c*tau_2 + (c*tau_2 + r0)*cos(theta_1) + r0)*(-(cos(theta_1) - 1)/(cos(theta_1) + 1))^(3/2))*((c*tau_1 + r0)/(c*tau_2 + r0))^(4*v/c))*v/(6*((c*tau_1 + r0)/(c*tau_2 + r0))^(4*v/c)*sin(theta_1)^4 + sin(theta_1)^4 - 4*(cos(theta_1) + 2)*sin(theta_1)^2 + (sin(theta_1)^4 + 4*(cos(theta_1) - 2)*sin(theta_1)^2 - 8*cos(theta_1) + 8)*((c*tau_1 + r0)/(c*tau_2 + r0))^(8*v/c) - 4*(sin(theta_1)^4 + 2*(cos(theta_1) - 1)*sin(theta_1)^2)*((c*tau_1 + r0)/(c*tau_2 + r0))^(6*v/c) - 4*(sin(theta_1)^4 - 2*(cos(theta_1) + 1)*sin(theta_1)^2)*((c*tau_1 + r0)/(c*tau_2 + r0))^(2*v/c) + 8*cos(theta_1) + 8)\n",
      "\n",
      "g21 =  -8*(((c*tau_2 + (c*tau_2 + r0)*cos(theta_1) + r0)*(-(cos(theta_1) - 1)/(cos(theta_1) + 1))^(3/2) - (c*tau_2 - (c*tau_2 + r0)*cos(theta_1) + r0)*sqrt(-(cos(theta_1) - 1)/(cos(theta_1) + 1)))*((c*tau_1 + r0)/(c*tau_2 + r0))^(6*v/c)*sin(theta_1)^2 + (((3*c*tau_2 + (c*tau_2 + r0)*cos(theta_1) + 3*r0)*(-(cos(theta_1) - 1)/(cos(theta_1) + 1))^(3/2) + (c*tau_2 + (c*tau_2 + r0)*cos(theta_1) + r0)*sqrt(-(cos(theta_1) - 1)/(cos(theta_1) + 1)))*sin(theta_1)^2 - 4*(c*tau_2 + (c*tau_2 + r0)*cos(theta_1) + r0)*(-(cos(theta_1) - 1)/(cos(theta_1) + 1))^(3/2))*((c*tau_1 + r0)/(c*tau_2 + r0))^(4*v/c))*v/(6*((c*tau_1 + r0)/(c*tau_2 + r0))^(4*v/c)*sin(theta_1)^4 + sin(theta_1)^4 - 4*(cos(theta_1) + 2)*sin(theta_1)^2 + (sin(theta_1)^4 + 4*(cos(theta_1) - 2)*sin(theta_1)^2 - 8*cos(theta_1) + 8)*((c*tau_1 + r0)/(c*tau_2 + r0))^(8*v/c) - 4*(sin(theta_1)^4 + 2*(cos(theta_1) - 1)*sin(theta_1)^2)*((c*tau_1 + r0)/(c*tau_2 + r0))^(6*v/c) - 4*(sin(theta_1)^4 - 2*(cos(theta_1) + 1)*sin(theta_1)^2)*((c*tau_1 + r0)/(c*tau_2 + r0))^(2*v/c) + 8*cos(theta_1) + 8)\n"
     ]
    }
   ],
   "source": [
    "print (\"\\ng11 = \")\n",
    "disp(g11)\n",
    "print (\"\\ng22 = \")\n",
    "disp(g22)\n",
    "print (\"\\ng12 = \")\n",
    "disp(g12)\n",
    "print (\"\\ng21 = \")\n",
    "disp(g21)"
   ]
  },
  {
   "cell_type": "code",
   "execution_count": 40,
   "metadata": {},
   "outputs": [],
   "source": [
    "# g11 =  (2*c^2*((c*tau1 + r0)/(c*tau2 + r0))^(2*v/c)*sin(theta_1)^2 - c^2*sin(theta_1)^2 - (2*((c*tau1 + r0)/(c*tau2 + r0))^(2*v/c)*sin(theta_1)^2 + (sin(theta_1)^2 + 2*cos(theta_1) - 2)*((c*tau1 + r0)/(c*tau2 + r0))^(4*v/c) + sin(theta_1)^2 - 2*cos(theta_1) - 2)*v^2 + 2*c^2*cos(theta_1) + 2*c^2 + 2*(c*sin(theta_1)^2 - (c*sin(theta_1)^2 + 2*c*cos(theta_1) - 2*c)*((c*tau1 + r0)/(c*tau2 + r0))^(4*v/c) - 2*c*cos(theta_1) - 2*c)*v - (c^2*sin(theta_1)^2 + 2*c^2*cos(theta_1) - 2*c^2)*((c*tau1 + r0)/(c*tau2 + r0))^(4*v/c))/(2*((c*tau1 + r0)/(c*tau2 + r0))^(2*v/c)*sin(theta_1)^2 - (sin(theta_1)^2 + 2*cos(theta_1) - 2)*((c*tau1 + r0)/(c*tau2 + r0))^(4*v/c) - sin(theta_1)^2 + 2*cos(theta_1) + 2)\n",
    "\n",
    "# g22 =  4*(c^2*tau2^2 + 2*c*r0*tau2 + r0^2)*((c*tau1 + r0)/(c*tau2 + r0))^(2*v/c)/(2*((c*tau1 + r0)/(c*tau2 + r0))^(2*v/c)*sin(theta_1)^2 - (sin(theta_1)^2 + 2*cos(theta_1) - 2)*((c*tau1 + r0)/(c*tau2 + r0))^(4*v/c) - sin(theta_1)^2 + 2*cos(theta_1) + 2)\n",
    "\n",
    "# g12 =  -8*(((c*tau2 + (c*tau2 + r0)*cos(theta_1) + r0)*(-(cos(theta_1) - 1)/(cos(theta_1) + 1))^(3/2) - (c*tau2 - (c*tau2 + r0)*cos(theta_1) + r0)*sqrt(-(cos(theta_1) - 1)/(cos(theta_1) + 1)))*((c*tau1 + r0)/(c*tau2 + r0))^(6*v/c)*sin(theta_1)^2 + (((3*c*tau2 + (c*tau2 + r0)*cos(theta_1) + 3*r0)*(-(cos(theta_1) - 1)/(cos(theta_1) + 1))^(3/2) + (c*tau2 + (c*tau2 + r0)*cos(theta_1) + r0)*sqrt(-(cos(theta_1) - 1)/(cos(theta_1) + 1)))*sin(theta_1)^2 - 4*(c*tau2 + (c*tau2 + r0)*cos(theta_1) + r0)*(-(cos(theta_1) - 1)/(cos(theta_1) + 1))^(3/2))*((c*tau1 + r0)/(c*tau2 + r0))^(4*v/c))*v/(6*((c*tau1 + r0)/(c*tau2 + r0))^(4*v/c)*sin(theta_1)^4 + sin(theta_1)^4 - 4*(cos(theta_1) + 2)*sin(theta_1)^2 + (sin(theta_1)^4 + 4*(cos(theta_1) - 2)*sin(theta_1)^2 - 8*cos(theta_1) + 8)*((c*tau1 + r0)/(c*tau2 + r0))^(8*v/c) - 4*(sin(theta_1)^4 + 2*(cos(theta_1) - 1)*sin(theta_1)^2)*((c*tau1 + r0)/(c*tau2 + r0))^(6*v/c) - 4*(sin(theta_1)^4 - 2*(cos(theta_1) + 1)*sin(theta_1)^2)*((c*tau1 + r0)/(c*tau2 + r0))^(2*v/c) + 8*cos(theta_1) + 8)\n",
    "\n",
    "# g21 =  -8*(((c*tau2 + (c*tau2 + r0)*cos(theta_1) + r0)*(-(cos(theta_1) - 1)/(cos(theta_1) + 1))^(3/2) - (c*tau2 - (c*tau2 + r0)*cos(theta_1) + r0)*sqrt(-(cos(theta_1) - 1)/(cos(theta_1) + 1)))*((c*tau1 + r0)/(c*tau2 + r0))^(6*v/c)*sin(theta_1)^2 + (((3*c*tau2 + (c*tau2 + r0)*cos(theta_1) + 3*r0)*(-(cos(theta_1) - 1)/(cos(theta_1) + 1))^(3/2) + (c*tau2 + (c*tau2 + r0)*cos(theta_1) + r0)*sqrt(-(cos(theta_1) - 1)/(cos(theta_1) + 1)))*sin(theta_1)^2 - 4*(c*tau2 + (c*tau2 + r0)*cos(theta_1) + r0)*(-(cos(theta_1) - 1)/(cos(theta_1) + 1))^(3/2))*((c*tau1 + r0)/(c*tau2 + r0))^(4*v/c))*v/(6*((c*tau1 + r0)/(c*tau2 + r0))^(4*v/c)*sin(theta_1)^4 + sin(theta_1)^4 - 4*(cos(theta_1) + 2)*sin(theta_1)^2 + (sin(theta_1)^4 + 4*(cos(theta_1) - 2)*sin(theta_1)^2 - 8*cos(theta_1) + 8)*((c*tau1 + r0)/(c*tau2 + r0))^(8*v/c) - 4*(sin(theta_1)^4 + 2*(cos(theta_1) - 1)*sin(theta_1)^2)*((c*tau1 + r0)/(c*tau2 + r0))^(6*v/c) - 4*(sin(theta_1)^4 - 2*(cos(theta_1) + 1)*sin(theta_1)^2)*((c*tau1 + r0)/(c*tau2 + r0))^(2*v/c) + 8*cos(theta_1) + 8)"
   ]
  },
  {
   "cell_type": "code",
   "execution_count": 41,
   "metadata": {},
   "outputs": [],
   "source": [
    "# длина дуги координатной кривой tau2 в пределах theta_1 от theta_min до theta_max\n",
    "theta_min = var(\"theta_min\")\n",
    "theta_max = var(\"theta_max\")\n",
    "assume(theta_max-theta_min>0)\n",
    "assume(pi-theta_max>0)"
   ]
  },
  {
   "cell_type": "code",
   "execution_count": 42,
   "metadata": {},
   "outputs": [
    {
     "name": "stdout",
     "output_type": "stream",
     "text": [
      "\n",
      "L =  2*c*tau_2*arctan((c*tau_1 + r0)^(v/c)*sin(theta_max)/((c*tau_2 + r0)^(v/c)*(cos(theta_max) + 1))) - 2*c*tau_2*arctan((c*tau_1 + r0)^(v/c)*sin(theta_min)/((c*tau_2 + r0)^(v/c)*(cos(theta_min) + 1))) + 2*r0*arctan((c*tau_1 + r0)^(v/c)*sin(theta_max)/((c*tau_2 + r0)^(v/c)*(cos(theta_max) + 1))) - 2*r0*arctan((c*tau_1 + r0)^(v/c)*sin(theta_min)/((c*tau_2 + r0)^(v/c)*(cos(theta_min) + 1)))\n"
     ]
    }
   ],
   "source": [
    "L = integral( sqrt(g22), (theta_1, theta_min, theta_max) )\n",
    "print (\"\\nL = \", L)\n",
    "disp(L)"
   ]
  },
  {
   "cell_type": "code",
   "execution_count": 43,
   "metadata": {},
   "outputs": [],
   "source": [
    "# L =  2*c*tau2*arctan((c*tau1 + r0)^(v/c)*sin(theta_max)/((c*tau2 + r0)^(v/c)*(cos(theta_max) + 1))) - 2*c*tau2*arctan((c*tau1 + r0)^(v/c)*sin(theta_min)/((c*tau2 + r0)^(v/c)*(cos(theta_min) + 1))) + 2*r0*arctan((c*tau1 + r0)^(v/c)*sin(theta_max)/((c*tau2 + r0)^(v/c)*(cos(theta_max) + 1))) - 2*r0*arctan((c*tau1 + r0)^(v/c)*sin(theta_min)/((c*tau2 + r0)^(v/c)*(cos(theta_min) + 1)))"
   ]
  },
  {
   "cell_type": "code",
   "execution_count": 45,
   "metadata": {},
   "outputs": [
    {
     "name": "stdout",
     "output_type": "stream",
     "text": [
      "\n",
      "p =  2*(c*tau_2*arctan((c*tau_1 + r0)^(v/c)*sin(theta_max)/((c*tau_2 + r0)^(v/c)*(cos(theta_max) + 1))) - c*tau_2*arctan((c*tau_1 + r0)^(v/c)*sin(theta_min)/((c*tau_2 + r0)^(v/c)*(cos(theta_min) + 1))) + r0*arctan((c*tau_1 + r0)^(v/c)*sin(theta_max)/((c*tau_2 + r0)^(v/c)*(cos(theta_max) + 1))) - r0*arctan((c*tau_1 + r0)^(v/c)*sin(theta_min)/((c*tau_2 + r0)^(v/c)*(cos(theta_min) + 1))))/((c*tau_2 + r0)*(theta_max - theta_min))\n"
     ]
    }
   ],
   "source": [
    "# отношение длины дуги координатной кривой tau2 в пределах theta_1 от theta_min до theta_max к запаздывающему радиусу и к разности коррдинатных углов (theta_max-theta_min)\n",
    "p = L/((c*tau_2 + r0)*(theta_max-theta_min))\n",
    "print (\"\\np = \", p)\n",
    "disp(p)"
   ]
  },
  {
   "cell_type": "code",
   "execution_count": 46,
   "metadata": {},
   "outputs": [],
   "source": [
    "# p =  2*(c*tau2*arctan((c*tau1 + r0)^(v/c)*sin(theta_max)/((c*tau2 + r0)^(v/c)*(cos(theta_max) + 1))) - c*tau2*arctan((c*tau1 + r0)^(v/c)*sin(theta_min)/((c*tau2 + r0)^(v/c)*(cos(theta_min) + 1))) + r0*arctan((c*tau1 + r0)^(v/c)*sin(theta_max)/((c*tau2 + r0)^(v/c)*(cos(theta_max) + 1))) - r0*arctan((c*tau1 + r0)^(v/c)*sin(theta_min)/((c*tau2 + r0)^(v/c)*(cos(theta_min) + 1))))/((c*tau2 + r0)*(theta_max - theta_min))"
   ]
  },
  {
   "cell_type": "code",
   "execution_count": 47,
   "metadata": {},
   "outputs": [
    {
     "name": "stdout",
     "output_type": "stream",
     "text": [
      "\n",
      "p =  2*(arctan((c*tau_1 + r0)^(v/c)*sin(theta_max)/((c*tau_2 + r0)^(v/c)*(cos(theta_max) + 1))) - arctan((c*tau_1 + r0)^(v/c)*sin(theta_min)/((c*tau_2 + r0)^(v/c)*(cos(theta_min) + 1))))/(theta_max - theta_min)\n"
     ]
    }
   ],
   "source": [
    "p = p.full_simplify()\n",
    "print (\"\\np = \", p)"
   ]
  },
  {
   "cell_type": "code",
   "execution_count": 48,
   "metadata": {},
   "outputs": [],
   "source": [
    "# p =  2*(arctan((c*tau1 + r0)^(v/c)*sin(theta_max)/((c*tau2 + r0)^(v/c)*(cos(theta_max) + 1))) - arctan((c*tau1 + r0)^(v/c)*sin(theta_min)/((c*tau2 + r0)^(v/c)*(cos(theta_min) + 1))))/(theta_max - theta_min)"
   ]
  },
  {
   "cell_type": "code",
   "execution_count": 49,
   "metadata": {},
   "outputs": [],
   "source": [
    "# вычисление площади криволинейной клетки образованной координатными кривыми"
   ]
  },
  {
   "cell_type": "code",
   "execution_count": 50,
   "metadata": {},
   "outputs": [],
   "source": [
    "tau_min = var(\"tau_min\")\n",
    "tau_max = var(\"tau_max\")\n",
    "\n",
    "assume(tau_max-tau_min>0)"
   ]
  },
  {
   "cell_type": "code",
   "execution_count": 54,
   "metadata": {},
   "outputs": [
    {
     "name": "stdout",
     "output_type": "stream",
     "text": [
      "\n",
      "A = \n"
     ]
    },
    {
     "data": {
      "text/latex": [
       "$\\displaystyle \\int_{\\tau_{\\mathit{min}}}^{\\tau_{\\mathit{max}}} -\\frac{2 \\, {\\left({\\left({\\left(c \\tau_{2} - {\\left(c \\tau_{2} + r_{0}\\right)} \\cos\\left(\\theta_{1}\\right) + r_{0}\\right)} \\left(\\frac{c \\tau_{1} + r_{0}}{c \\tau_{2} + r_{0}}\\right)^{\\frac{3 \\, v}{c}} - {\\left(c \\tau_{2} + {\\left(c \\tau_{2} + r_{0}\\right)} \\cos\\left(\\theta_{1}\\right) + r_{0}\\right)} \\left(\\frac{c \\tau_{1} + r_{0}}{c \\tau_{2} + r_{0}}\\right)^{\\frac{v}{c}}\\right)} v + {\\left(c^{2} \\tau_{2} + c r_{0} - {\\left(c^{2} \\tau_{2} + c r_{0}\\right)} \\cos\\left(\\theta_{1}\\right)\\right)} \\left(\\frac{c \\tau_{1} + r_{0}}{c \\tau_{2} + r_{0}}\\right)^{\\frac{3 \\, v}{c}} + {\\left(c^{2} \\tau_{2} + c r_{0} + {\\left(c^{2} \\tau_{2} + c r_{0}\\right)} \\cos\\left(\\theta_{1}\\right)\\right)} \\left(\\frac{c \\tau_{1} + r_{0}}{c \\tau_{2} + r_{0}}\\right)^{\\frac{v}{c}}\\right)}}{2 \\, \\left(\\frac{c \\tau_{1} + r_{0}}{c \\tau_{2} + r_{0}}\\right)^{\\frac{2 \\, v}{c}} \\sin\\left(\\theta_{1}\\right)^{2} - {\\left(\\sin\\left(\\theta_{1}\\right)^{2} + 2 \\, \\cos\\left(\\theta_{1}\\right) - 2\\right)} \\left(\\frac{c \\tau_{1} + r_{0}}{c \\tau_{2} + r_{0}}\\right)^{\\frac{4 \\, v}{c}} - \\sin\\left(\\theta_{1}\\right)^{2} + 2 \\, \\cos\\left(\\theta_{1}\\right) + 2}\\,{d \\tau_{2}}$"
      ],
      "text/plain": [
       "<IPython.core.display.Math object>"
      ]
     },
     "metadata": {},
     "output_type": "display_data"
    }
   ],
   "source": [
    "from sage.symbolic.integration.integral import definite_integral\n",
    "A = definite_integral(J, tau_2, tau_min, tau_max, hold = True)\n",
    "print (\"\\nA = \")\n",
    "disp(A)"
   ]
  },
  {
   "cell_type": "code",
   "execution_count": 56,
   "metadata": {},
   "outputs": [
    {
     "name": "stdout",
     "output_type": "stream",
     "text": [
      "\n",
      "A = \n"
     ]
    },
    {
     "data": {
      "text/latex": [
       "$\\displaystyle \\int -\\frac{2 \\, {\\left({\\left({\\left(c \\tau_{2} - {\\left(c \\tau_{2} + r_{0}\\right)} \\cos\\left(\\theta_{1}\\right) + r_{0}\\right)} \\left(\\frac{c \\tau_{1} + r_{0}}{c \\tau_{2} + r_{0}}\\right)^{\\frac{3 \\, v}{c}} - {\\left(c \\tau_{2} + {\\left(c \\tau_{2} + r_{0}\\right)} \\cos\\left(\\theta_{1}\\right) + r_{0}\\right)} \\left(\\frac{c \\tau_{1} + r_{0}}{c \\tau_{2} + r_{0}}\\right)^{\\frac{v}{c}}\\right)} v + {\\left(c^{2} \\tau_{2} + c r_{0} - {\\left(c^{2} \\tau_{2} + c r_{0}\\right)} \\cos\\left(\\theta_{1}\\right)\\right)} \\left(\\frac{c \\tau_{1} + r_{0}}{c \\tau_{2} + r_{0}}\\right)^{\\frac{3 \\, v}{c}} + {\\left(c^{2} \\tau_{2} + c r_{0} + {\\left(c^{2} \\tau_{2} + c r_{0}\\right)} \\cos\\left(\\theta_{1}\\right)\\right)} \\left(\\frac{c \\tau_{1} + r_{0}}{c \\tau_{2} + r_{0}}\\right)^{\\frac{v}{c}}\\right)}}{2 \\, \\left(\\frac{c \\tau_{1} + r_{0}}{c \\tau_{2} + r_{0}}\\right)^{\\frac{2 \\, v}{c}} \\sin\\left(\\theta_{1}\\right)^{2} - {\\left(\\sin\\left(\\theta_{1}\\right)^{2} + 2 \\, \\cos\\left(\\theta_{1}\\right) - 2\\right)} \\left(\\frac{c \\tau_{1} + r_{0}}{c \\tau_{2} + r_{0}}\\right)^{\\frac{4 \\, v}{c}} - \\sin\\left(\\theta_{1}\\right)^{2} + 2 \\, \\cos\\left(\\theta_{1}\\right) + 2}\\,{d \\tau_{2}}$"
      ],
      "text/plain": [
       "<IPython.core.display.Math object>"
      ]
     },
     "metadata": {},
     "output_type": "display_data"
    }
   ],
   "source": [
    "from sage.symbolic.integration.integral import indefinite_integral\n",
    "A = indefinite_integral(J, tau_2, hold = True)\n",
    "print (\"\\nA = \")\n",
    "disp(A)"
   ]
  },
  {
   "cell_type": "code",
   "execution_count": 58,
   "metadata": {},
   "outputs": [
    {
     "name": "stdout",
     "output_type": "stream",
     "text": [
      "\n",
      "A = \n"
     ]
    },
    {
     "data": {
      "text/latex": [
       "$\\displaystyle \\int_{\\tau_{\\mathit{min}}}^{\\tau_{\\mathit{max}}} -\\frac{2 \\, {\\left({\\left({\\left(c \\tau_{2} - {\\left(c \\tau_{2} + r_{0}\\right)} \\cos\\left(\\theta_{1}\\right) + r_{0}\\right)} \\left(\\frac{c \\tau_{1} + r_{0}}{c \\tau_{2} + r_{0}}\\right)^{\\frac{3 \\, v}{c}} - {\\left(c \\tau_{2} + {\\left(c \\tau_{2} + r_{0}\\right)} \\cos\\left(\\theta_{1}\\right) + r_{0}\\right)} \\left(\\frac{c \\tau_{1} + r_{0}}{c \\tau_{2} + r_{0}}\\right)^{\\frac{v}{c}}\\right)} v + {\\left(c^{2} \\tau_{2} + c r_{0} - {\\left(c^{2} \\tau_{2} + c r_{0}\\right)} \\cos\\left(\\theta_{1}\\right)\\right)} \\left(\\frac{c \\tau_{1} + r_{0}}{c \\tau_{2} + r_{0}}\\right)^{\\frac{3 \\, v}{c}} + {\\left(c^{2} \\tau_{2} + c r_{0} + {\\left(c^{2} \\tau_{2} + c r_{0}\\right)} \\cos\\left(\\theta_{1}\\right)\\right)} \\left(\\frac{c \\tau_{1} + r_{0}}{c \\tau_{2} + r_{0}}\\right)^{\\frac{v}{c}}\\right)}}{2 \\, \\left(\\frac{c \\tau_{1} + r_{0}}{c \\tau_{2} + r_{0}}\\right)^{\\frac{2 \\, v}{c}} \\sin\\left(\\theta_{1}\\right)^{2} - {\\left(\\sin\\left(\\theta_{1}\\right)^{2} + 2 \\, \\cos\\left(\\theta_{1}\\right) - 2\\right)} \\left(\\frac{c \\tau_{1} + r_{0}}{c \\tau_{2} + r_{0}}\\right)^{\\frac{4 \\, v}{c}} - \\sin\\left(\\theta_{1}\\right)^{2} + 2 \\, \\cos\\left(\\theta_{1}\\right) + 2}\\,{d \\tau_{2}}$"
      ],
      "text/plain": [
       "<IPython.core.display.Math object>"
      ]
     },
     "metadata": {},
     "output_type": "display_data"
    }
   ],
   "source": [
    "A = integral (J, (tau_2, tau_min, tau_max), hold = True)\n",
    "print (\"\\nA = \")\n",
    "disp(A)"
   ]
  },
  {
   "cell_type": "code",
   "execution_count": 59,
   "metadata": {},
   "outputs": [
    {
     "name": "stdout",
     "output_type": "stream",
     "text": [
      "\n",
      "T =  -2*((2*c^2*tau_2 - (c^2*tau_2 + c*r0)*sin(theta_max)^2 + 2*c*r0 + 2*(c^2*tau_2 + c*r0)*cos(theta_max))*arctan(((c*tau_1 + r0)/(c*tau_2 + r0))^(v/c)*sin(theta_max)/(cos(theta_max) + 1))*cos(theta_min)^2 + 2*(2*c^2*tau_2 - (c^2*tau_2 + c*r0)*sin(theta_max)^2 + 2*c*r0 + 2*(c^2*tau_2 + c*r0)*cos(theta_max))*arctan(((c*tau_1 + r0)/(c*tau_2 + r0))^(v/c)*sin(theta_max)/(cos(theta_max) + 1))*cos(theta_min) - (((c*tau_2 + (c*tau_2 + r0)*cos(theta_max) + r0)*sin(theta_max)*sin(theta_min)^2 - ((c*tau_2 + r0)*cos(theta_min)*sin(theta_max)^2 + (c*tau_2 + r0)*sin(theta_max)^2)*sin(theta_min))*((c*tau_1 + r0)/(c*tau_2 + r0))^(3*v/c) + ((c*tau_2 + (c*tau_2 + r0)*cos(theta_max) + r0)*cos(theta_min)^2*sin(theta_max) + 2*(c*tau_2 + (c*tau_2 + r0)*cos(theta_max) + r0)*cos(theta_min)*sin(theta_max) + (c*tau_2 + (c*tau_2 + r0)*cos(theta_max) + r0)*sin(theta_max) - ((c*tau_2 + r0)*cos(theta_max)^2 + c*tau_2 + 2*(c*tau_2 + r0)*cos(theta_max) + ((c*tau_2 + r0)*cos(theta_max)^2 + c*tau_2 + 2*(c*tau_2 + r0)*cos(theta_max) + r0)*cos(theta_min) + r0)*sin(theta_min))*((c*tau_1 + r0)/(c*tau_2 + r0))^(v/c))*v + ((c^2*tau_2 + c*r0)*arctan(((c*tau_1 + r0)/(c*tau_2 + r0))^(v/c)*sin(theta_max)/(cos(theta_max) + 1))*sin(theta_max)^2*sin(theta_min)^2 - (c^2*tau_2 + c*r0)*arctan(((c*tau_1 + r0)/(c*tau_2 + r0))^(v/c)*sin(theta_min)/(cos(theta_min) + 1))*sin(theta_max)^2*sin(theta_min)^2)*((c*tau_1 + r0)/(c*tau_2 + r0))^(4*v/c) + ((c^2*tau_2 + c*r0)*arctan(((c*tau_1 + r0)/(c*tau_2 + r0))^(v/c)*sin(theta_max)/(cos(theta_max) + 1))*cos(theta_min)^2*sin(theta_max)^2 + 2*(c^2*tau_2 + c*r0)*arctan(((c*tau_1 + r0)/(c*tau_2 + r0))^(v/c)*sin(theta_max)/(cos(theta_max) + 1))*cos(theta_min)*sin(theta_max)^2 + (c^2*tau_2 + c*r0)*arctan(((c*tau_1 + r0)/(c*tau_2 + r0))^(v/c)*sin(theta_max)/(cos(theta_max) + 1))*sin(theta_max)^2 + (2*c^2*tau_2 - (c^2*tau_2 + c*r0)*sin(theta_max)^2 + 2*c*r0 + 2*(c^2*tau_2 + c*r0)*cos(theta_max))*arctan(((c*tau_1 + r0)/(c*tau_2 + r0))^(v/c)*sin(theta_max)/(cos(theta_max) + 1))*sin(theta_min)^2 - (2*(c^2*tau_2 + c*r0)*cos(theta_min)*sin(theta_max)^2 + 2*(c^2*tau_2 + c*r0)*sin(theta_max)^2 + (c^2*tau_2 + (c^2*tau_2 + c*r0)*cos(theta_max)^2 - (c^2*tau_2 + c*r0)*sin(theta_max)^2 + c*r0 + 2*(c^2*tau_2 + c*r0)*cos(theta_max))*sin(theta_min)^2)*arctan(((c*tau_1 + r0)/(c*tau_2 + r0))^(v/c)*sin(theta_min)/(cos(theta_min) + 1)))*((c*tau_1 + r0)/(c*tau_2 + r0))^(2*v/c) + (2*c^2*tau_2 - (c^2*tau_2 + c*r0)*sin(theta_max)^2 + 2*c*r0 + 2*(c^2*tau_2 + c*r0)*cos(theta_max))*arctan(((c*tau_1 + r0)/(c*tau_2 + r0))^(v/c)*sin(theta_max)/(cos(theta_max) + 1)) - (2*c^2*tau_2 + 2*(c^2*tau_2 + c*r0)*cos(theta_max)^2 - (c^2*tau_2 + (c^2*tau_2 + c*r0)*cos(theta_max)^2 + c*r0 + 2*(c^2*tau_2 + c*r0)*cos(theta_max))*sin(theta_min)^2 + 2*c*r0 + 4*(c^2*tau_2 + c*r0)*cos(theta_max) + 2*(c^2*tau_2 + (c^2*tau_2 + c*r0)*cos(theta_max)^2 + c*r0 + 2*(c^2*tau_2 + c*r0)*cos(theta_max))*cos(theta_min))*arctan(((c*tau_1 + r0)/(c*tau_2 + r0))^(v/c)*sin(theta_min)/(cos(theta_min) + 1)))/(((c*tau_1 + r0)/(c*tau_2 + r0))^(4*v/c)*sin(theta_max)^2*sin(theta_min)^2 + (cos(theta_max)^2 + 2*cos(theta_max) + 1)*cos(theta_min)^2 + (cos(theta_min)^2*sin(theta_max)^2 + 2*cos(theta_min)*sin(theta_max)^2 + (cos(theta_max)^2 + 2*cos(theta_max) + 1)*sin(theta_min)^2 + sin(theta_max)^2)*((c*tau_1 + r0)/(c*tau_2 + r0))^(2*v/c) + cos(theta_max)^2 + 2*(cos(theta_max)^2 + 2*cos(theta_max) + 1)*cos(theta_min) + 2*cos(theta_max) + 1)\n"
     ]
    }
   ],
   "source": [
    "T = integral( J, (theta_1, theta_min, theta_max) )\n",
    "print (\"\\nT = \", T)"
   ]
  },
  {
   "cell_type": "code",
   "execution_count": 61,
   "metadata": {},
   "outputs": [],
   "source": [
    "# T =  -2*((2*c^2*tau2 - (c^2*tau2 + c*r0)*sin(theta_max)^2 + 2*c*r0 + 2*(c^2*tau2 + c*r0)*cos(theta_max))*arctan(((c*tau1 + r0)/(c*tau2 + r0))^(v/c)*sin(theta_max)/(cos(theta_max) + 1))*cos(theta_min)^2 + 2*(2*c^2*tau2 - (c^2*tau2 + c*r0)*sin(theta_max)^2 + 2*c*r0 + 2*(c^2*tau2 + c*r0)*cos(theta_max))*arctan(((c*tau1 + r0)/(c*tau2 + r0))^(v/c)*sin(theta_max)/(cos(theta_max) + 1))*cos(theta_min) - (((c*tau2 + (c*tau2 + r0)*cos(theta_max) + r0)*sin(theta_max)*sin(theta_min)^2 - ((c*tau2 + r0)*cos(theta_min)*sin(theta_max)^2 + (c*tau2 + r0)*sin(theta_max)^2)*sin(theta_min))*((c*tau1 + r0)/(c*tau2 + r0))^(3*v/c) + ((c*tau2 + (c*tau2 + r0)*cos(theta_max) + r0)*cos(theta_min)^2*sin(theta_max) + 2*(c*tau2 + (c*tau2 + r0)*cos(theta_max) + r0)*cos(theta_min)*sin(theta_max) + (c*tau2 + (c*tau2 + r0)*cos(theta_max) + r0)*sin(theta_max) - ((c*tau2 + r0)*cos(theta_max)^2 + c*tau2 + 2*(c*tau2 + r0)*cos(theta_max) + ((c*tau2 + r0)*cos(theta_max)^2 + c*tau2 + 2*(c*tau2 + r0)*cos(theta_max) + r0)*cos(theta_min) + r0)*sin(theta_min))*((c*tau1 + r0)/(c*tau2 + r0))^(v/c))*v + ((c^2*tau2 + c*r0)*arctan(((c*tau1 + r0)/(c*tau2 + r0))^(v/c)*sin(theta_max)/(cos(theta_max) + 1))*sin(theta_max)^2*sin(theta_min)^2 - (c^2*tau2 + c*r0)*arctan(((c*tau1 + r0)/(c*tau2 + r0))^(v/c)*sin(theta_min)/(cos(theta_min) + 1))*sin(theta_max)^2*sin(theta_min)^2)*((c*tau1 + r0)/(c*tau2 + r0))^(4*v/c) + ((c^2*tau2 + c*r0)*arctan(((c*tau1 + r0)/(c*tau2 + r0))^(v/c)*sin(theta_max)/(cos(theta_max) + 1))*cos(theta_min)^2*sin(theta_max)^2 + 2*(c^2*tau2 + c*r0)*arctan(((c*tau1 + r0)/(c*tau2 + r0))^(v/c)*sin(theta_max)/(cos(theta_max) + 1))*cos(theta_min)*sin(theta_max)^2 + (c^2*tau2 + c*r0)*arctan(((c*tau1 + r0)/(c*tau2 + r0))^(v/c)*sin(theta_max)/(cos(theta_max) + 1))*sin(theta_max)^2 + (2*c^2*tau2 - (c^2*tau2 + c*r0)*sin(theta_max)^2 + 2*c*r0 + 2*(c^2*tau2 + c*r0)*cos(theta_max))*arctan(((c*tau1 + r0)/(c*tau2 + r0))^(v/c)*sin(theta_max)/(cos(theta_max) + 1))*sin(theta_min)^2 - (2*(c^2*tau2 + c*r0)*cos(theta_min)*sin(theta_max)^2 + 2*(c^2*tau2 + c*r0)*sin(theta_max)^2 + (c^2*tau2 + (c^2*tau2 + c*r0)*cos(theta_max)^2 - (c^2*tau2 + c*r0)*sin(theta_max)^2 + c*r0 + 2*(c^2*tau2 + c*r0)*cos(theta_max))*sin(theta_min)^2)*arctan(((c*tau1 + r0)/(c*tau2 + r0))^(v/c)*sin(theta_min)/(cos(theta_min) + 1)))*((c*tau1 + r0)/(c*tau2 + r0))^(2*v/c) + (2*c^2*tau2 - (c^2*tau2 + c*r0)*sin(theta_max)^2 + 2*c*r0 + 2*(c^2*tau2 + c*r0)*cos(theta_max))*arctan(((c*tau1 + r0)/(c*tau2 + r0))^(v/c)*sin(theta_max)/(cos(theta_max) + 1)) - (2*c^2*tau2 + 2*(c^2*tau2 + c*r0)*cos(theta_max)^2 - (c^2*tau2 + (c^2*tau2 + c*r0)*cos(theta_max)^2 + c*r0 + 2*(c^2*tau2 + c*r0)*cos(theta_max))*sin(theta_min)^2 + 2*c*r0 + 4*(c^2*tau2 + c*r0)*cos(theta_max) + 2*(c^2*tau2 + (c^2*tau2 + c*r0)*cos(theta_max)^2 + c*r0 + 2*(c^2*tau2 + c*r0)*cos(theta_max))*cos(theta_min))*arctan(((c*tau1 + r0)/(c*tau2 + r0))^(v/c)*sin(theta_min)/(cos(theta_min) + 1)))/(((c*tau1 + r0)/(c*tau2 + r0))^(4*v/c)*sin(theta_max)^2*sin(theta_min)^2 + (cos(theta_max)^2 + 2*cos(theta_max) + 1)*cos(theta_min)^2 + (cos(theta_min)^2*sin(theta_max)^2 + 2*cos(theta_min)*sin(theta_max)^2 + (cos(theta_max)^2 + 2*cos(theta_max) + 1)*sin(theta_min)^2 + sin(theta_max)^2)*((c*tau1 + r0)/(c*tau2 + r0))^(2*v/c) + cos(theta_max)^2 + 2*(cos(theta_max)^2 + 2*cos(theta_max) + 1)*cos(theta_min) + 2*cos(theta_max) + 1)"
   ]
  },
  {
   "cell_type": "code",
   "execution_count": 62,
   "metadata": {},
   "outputs": [
    {
     "name": "stdout",
     "output_type": "stream",
     "text": [
      "\n",
      "T =  2*((2*c^2*tau_2 - (c^2*tau_2 + c*r0)*sin(theta_max)^2 + 2*c*r0 + 2*(c^2*tau_2 + c*r0)*cos(theta_max))*arctan(((c*tau_1 + r0)/(c*tau_2 + r0))^(v/c)*sin(theta_max)/(cos(theta_max) + 1))*sin(theta_min)^2 - 2*(2*c^2*tau_2 - (c^2*tau_2 + c*r0)*sin(theta_max)^2 + 2*c*r0 + 2*(c^2*tau_2 + c*r0)*cos(theta_max))*arctan(((c*tau_1 + r0)/(c*tau_2 + r0))^(v/c)*sin(theta_max)/(cos(theta_max) + 1))*cos(theta_min) + (((c*tau_2 + (c*tau_2 + r0)*cos(theta_max) + r0)*sin(theta_max)*sin(theta_min)^2 - ((c*tau_2 + r0)*cos(theta_min)*sin(theta_max)^2 + (c*tau_2 + r0)*sin(theta_max)^2)*sin(theta_min))*((c*tau_1 + r0)/(c*tau_2 + r0))^(3*v/c) - ((c*tau_2 + (c*tau_2 + r0)*cos(theta_max) + r0)*sin(theta_max)*sin(theta_min)^2 - 2*(c*tau_2 + (c*tau_2 + r0)*cos(theta_max) + r0)*cos(theta_min)*sin(theta_max) - 2*(c*tau_2 + (c*tau_2 + r0)*cos(theta_max) + r0)*sin(theta_max) - ((c*tau_2 + r0)*sin(theta_max)^2 - 2*c*tau_2 - 2*(c*tau_2 + r0)*cos(theta_max) + ((c*tau_2 + r0)*sin(theta_max)^2 - 2*c*tau_2 - 2*(c*tau_2 + r0)*cos(theta_max) - 2*r0)*cos(theta_min) - 2*r0)*sin(theta_min))*((c*tau_1 + r0)/(c*tau_2 + r0))^(v/c))*v - ((c^2*tau_2 + c*r0)*arctan(((c*tau_1 + r0)/(c*tau_2 + r0))^(v/c)*sin(theta_max)/(cos(theta_max) + 1))*sin(theta_max)^2*sin(theta_min)^2 - (c^2*tau_2 + c*r0)*arctan(((c*tau_1 + r0)/(c*tau_2 + r0))^(v/c)*sin(theta_min)/(cos(theta_min) + 1))*sin(theta_max)^2*sin(theta_min)^2)*((c*tau_1 + r0)/(c*tau_2 + r0))^(4*v/c) - 2*((c^2*tau_2 + c*r0)*arctan(((c*tau_1 + r0)/(c*tau_2 + r0))^(v/c)*sin(theta_max)/(cos(theta_max) + 1))*cos(theta_min)*sin(theta_max)^2 + (c^2*tau_2 + c*r0)*arctan(((c*tau_1 + r0)/(c*tau_2 + r0))^(v/c)*sin(theta_max)/(cos(theta_max) + 1))*sin(theta_max)^2 + (c^2*tau_2 - (c^2*tau_2 + c*r0)*sin(theta_max)^2 + c*r0 + (c^2*tau_2 + c*r0)*cos(theta_max))*arctan(((c*tau_1 + r0)/(c*tau_2 + r0))^(v/c)*sin(theta_max)/(cos(theta_max) + 1))*sin(theta_min)^2 - ((c^2*tau_2 + c*r0)*cos(theta_min)*sin(theta_max)^2 + (c^2*tau_2 + c*r0)*sin(theta_max)^2 + (c^2*tau_2 - (c^2*tau_2 + c*r0)*sin(theta_max)^2 + c*r0 + (c^2*tau_2 + c*r0)*cos(theta_max))*sin(theta_min)^2)*arctan(((c*tau_1 + r0)/(c*tau_2 + r0))^(v/c)*sin(theta_min)/(cos(theta_min) + 1)))*((c*tau_1 + r0)/(c*tau_2 + r0))^(2*v/c) - 2*(2*c^2*tau_2 - (c^2*tau_2 + c*r0)*sin(theta_max)^2 + 2*c*r0 + 2*(c^2*tau_2 + c*r0)*cos(theta_max))*arctan(((c*tau_1 + r0)/(c*tau_2 + r0))^(v/c)*sin(theta_max)/(cos(theta_max) + 1)) + (4*c^2*tau_2 - 2*(c^2*tau_2 + c*r0)*sin(theta_max)^2 - (2*c^2*tau_2 - (c^2*tau_2 + c*r0)*sin(theta_max)^2 + 2*c*r0 + 2*(c^2*tau_2 + c*r0)*cos(theta_max))*sin(theta_min)^2 + 4*c*r0 + 4*(c^2*tau_2 + c*r0)*cos(theta_max) + 2*(2*c^2*tau_2 - (c^2*tau_2 + c*r0)*sin(theta_max)^2 + 2*c*r0 + 2*(c^2*tau_2 + c*r0)*cos(theta_max))*cos(theta_min))*arctan(((c*tau_1 + r0)/(c*tau_2 + r0))^(v/c)*sin(theta_min)/(cos(theta_min) + 1)))/(((c*tau_1 + r0)/(c*tau_2 + r0))^(4*v/c)*sin(theta_max)^2*sin(theta_min)^2 + (cos(theta_max)^2 + 2*cos(theta_max) + 1)*cos(theta_min)^2 + (cos(theta_min)^2*sin(theta_max)^2 + 2*cos(theta_min)*sin(theta_max)^2 + (cos(theta_max)^2 + 2*cos(theta_max) + 1)*sin(theta_min)^2 + sin(theta_max)^2)*((c*tau_1 + r0)/(c*tau_2 + r0))^(2*v/c) + cos(theta_max)^2 + 2*(cos(theta_max)^2 + 2*cos(theta_max) + 1)*cos(theta_min) + 2*cos(theta_max) + 1)\n"
     ]
    }
   ],
   "source": [
    "T = T.full_simplify()\n",
    "print (\"\\nT = \", T)"
   ]
  },
  {
   "cell_type": "code",
   "execution_count": 64,
   "metadata": {},
   "outputs": [],
   "source": [
    "# T =  2*((2*c^2*tau2 - (c^2*tau2 + c*r0)*sin(theta_max)^2 + 2*c*r0 + 2*(c^2*tau2 + c*r0)*cos(theta_max))*arctan(((c*tau1 + r0)/(c*tau2 + r0))^(v/c)*sin(theta_max)/(cos(theta_max) + 1))*sin(theta_min)^2 - 2*(2*c^2*tau2 - (c^2*tau2 + c*r0)*sin(theta_max)^2 + 2*c*r0 + 2*(c^2*tau2 + c*r0)*cos(theta_max))*arctan(((c*tau1 + r0)/(c*tau2 + r0))^(v/c)*sin(theta_max)/(cos(theta_max) + 1))*cos(theta_min) + (((c*tau2 + (c*tau2 + r0)*cos(theta_max) + r0)*sin(theta_max)*sin(theta_min)^2 - ((c*tau2 + r0)*cos(theta_min)*sin(theta_max)^2 + (c*tau2 + r0)*sin(theta_max)^2)*sin(theta_min))*((c*tau1 + r0)/(c*tau2 + r0))^(3*v/c) - ((c*tau2 + (c*tau2 + r0)*cos(theta_max) + r0)*sin(theta_max)*sin(theta_min)^2 - 2*(c*tau2 + (c*tau2 + r0)*cos(theta_max) + r0)*cos(theta_min)*sin(theta_max) - 2*(c*tau2 + (c*tau2 + r0)*cos(theta_max) + r0)*sin(theta_max) - ((c*tau2 + r0)*sin(theta_max)^2 - 2*c*tau2 - 2*(c*tau2 + r0)*cos(theta_max) + ((c*tau2 + r0)*sin(theta_max)^2 - 2*c*tau2 - 2*(c*tau2 + r0)*cos(theta_max) - 2*r0)*cos(theta_min) - 2*r0)*sin(theta_min))*((c*tau1 + r0)/(c*tau2 + r0))^(v/c))*v - ((c^2*tau2 + c*r0)*arctan(((c*tau1 + r0)/(c*tau2 + r0))^(v/c)*sin(theta_max)/(cos(theta_max) + 1))*sin(theta_max)^2*sin(theta_min)^2 - (c^2*tau2 + c*r0)*arctan(((c*tau1 + r0)/(c*tau2 + r0))^(v/c)*sin(theta_min)/(cos(theta_min) + 1))*sin(theta_max)^2*sin(theta_min)^2)*((c*tau1 + r0)/(c*tau2 + r0))^(4*v/c) - 2*((c^2*tau2 + c*r0)*arctan(((c*tau1 + r0)/(c*tau2 + r0))^(v/c)*sin(theta_max)/(cos(theta_max) + 1))*cos(theta_min)*sin(theta_max)^2 + (c^2*tau2 + c*r0)*arctan(((c*tau1 + r0)/(c*tau2 + r0))^(v/c)*sin(theta_max)/(cos(theta_max) + 1))*sin(theta_max)^2 + (c^2*tau2 - (c^2*tau2 + c*r0)*sin(theta_max)^2 + c*r0 + (c^2*tau2 + c*r0)*cos(theta_max))*arctan(((c*tau1 + r0)/(c*tau2 + r0))^(v/c)*sin(theta_max)/(cos(theta_max) + 1))*sin(theta_min)^2 - ((c^2*tau2 + c*r0)*cos(theta_min)*sin(theta_max)^2 + (c^2*tau2 + c*r0)*sin(theta_max)^2 + (c^2*tau2 - (c^2*tau2 + c*r0)*sin(theta_max)^2 + c*r0 + (c^2*tau2 + c*r0)*cos(theta_max))*sin(theta_min)^2)*arctan(((c*tau1 + r0)/(c*tau2 + r0))^(v/c)*sin(theta_min)/(cos(theta_min) + 1)))*((c*tau1 + r0)/(c*tau2 + r0))^(2*v/c) - 2*(2*c^2*tau2 - (c^2*tau2 + c*r0)*sin(theta_max)^2 + 2*c*r0 + 2*(c^2*tau2 + c*r0)*cos(theta_max))*arctan(((c*tau1 + r0)/(c*tau2 + r0))^(v/c)*sin(theta_max)/(cos(theta_max) + 1)) + (4*c^2*tau2 - 2*(c^2*tau2 + c*r0)*sin(theta_max)^2 - (2*c^2*tau2 - (c^2*tau2 + c*r0)*sin(theta_max)^2 + 2*c*r0 + 2*(c^2*tau2 + c*r0)*cos(theta_max))*sin(theta_min)^2 + 4*c*r0 + 4*(c^2*tau2 + c*r0)*cos(theta_max) + 2*(2*c^2*tau2 - (c^2*tau2 + c*r0)*sin(theta_max)^2 + 2*c*r0 + 2*(c^2*tau2 + c*r0)*cos(theta_max))*cos(theta_min))*arctan(((c*tau1 + r0)/(c*tau2 + r0))^(v/c)*sin(theta_min)/(cos(theta_min) + 1)))/(((c*tau1 + r0)/(c*tau2 + r0))^(4*v/c)*sin(theta_max)^2*sin(theta_min)^2 + (cos(theta_max)^2 + 2*cos(theta_max) + 1)*cos(theta_min)^2 + (cos(theta_min)^2*sin(theta_max)^2 + 2*cos(theta_min)*sin(theta_max)^2 + (cos(theta_max)^2 + 2*cos(theta_max) + 1)*sin(theta_min)^2 + sin(theta_max)^2)*((c*tau1 + r0)/(c*tau2 + r0))^(2*v/c) + cos(theta_max)^2 + 2*(cos(theta_max)^2 + 2*cos(theta_max) + 1)*cos(theta_min) + 2*cos(theta_max) + 1)"
   ]
  },
  {
   "cell_type": "code",
   "execution_count": 65,
   "metadata": {},
   "outputs": [],
   "source": [
    "#S = integral (T, tau2 )\n",
    "#print \"\\nS = \", S\n",
    "\n",
    "\n",
    "#S = integral (T, (tau2, tau_min, tau_max) )\n",
    "#print \"\\nS = \", S"
   ]
  },
  {
   "cell_type": "code",
   "execution_count": null,
   "metadata": {},
   "outputs": [],
   "source": [
    "# график кривых распространения электрического потенциала движущегося заряда и изоповерхностей запаздывающего момента\n",
    "from sage.plot.circle import Circle\n",
    "g = Graphics()\n",
    "\n",
    "dt = 0.2\n",
    "r0 = 0.2\n",
    "c = 1\n",
    "v = 0.9\n",
    "\n",
    "tau1 = 5\n",
    "\n",
    "tau1 = 25\n",
    "dt_circle = 1\n",
    "dr_color = 5\n",
    "\n",
    "tau1 = 125\n",
    "dt_circle = 5\n",
    "dr_color = 25\n",
    "\n",
    "tau1 = 625\n",
    "dt_circle = 25\n",
    "dr_color = 125\n",
    "\n",
    "g += circle((0, 0), r0, rgbcolor=hue(r0/500))\n",
    "\n",
    "for theta_i in np.arange(0, 360, 15):\n",
    "    theta_1 = theta_i * pi / 180.0\n",
    "    plot_data = []\n",
    "    for tau_i in np.arange(0, tau1-r0/c+dt, dt):\n",
    "        tau2 = tau_i\n",
    "        x2 =  2*(c*tau2 + r0)*((c*tau1 + r0)/(c*tau2 + r0))^(v/c)*tan(1/2*theta_1)/(((c*tau1 + r0)/(c*tau2 + r0))^(2*v/c)*tan(1/2*theta_1)^2 + 1)\n",
    "        z2 =  -tau2*v - (((c*tau1 + r0)/(c*tau2 + r0))^(2*v/c)*tan(1/2*theta_1)^2 - 1)*(c*tau2 + r0)/(((c*tau1 + r0)/(c*tau2 + r0))^(2*v/c)*tan(1/2*theta_1)^2 + 1)\n",
    "        \n",
    "        plot_data += [(x2, z2)]\n",
    "        \n",
    "        if (dt/2 > (tau2+r0/c) % dt_circle and theta_i == 0):\n",
    "            zq = tau2*v\n",
    "            rr = c*tau2 + r0\n",
    "            g += circle((0, -zq), rr, rgbcolor=hue(rr/dr_color))\n",
    "        \n",
    "    g += list_plot(plot_data,size=2)"
   ]
  },
  {
   "cell_type": "code",
   "execution_count": 89,
   "metadata": {},
   "outputs": [],
   "source": [
    "import numpy as np\n",
    "\n",
    "def float_formatting(float_value):\n",
    "    #print (\"float_value =\", float_value)\n",
    "    decimal_part = abs(float_value - int(float_value))\n",
    "    #print (\"decimal_part =\", decimal_part)\n",
    "    if 0 == decimal_part:\n",
    "        digits_after_point = 0\n",
    "    else:\n",
    "        #print \"decimal_part=\", decimal_part\n",
    "        #print (\"log(decimal_part)=\", log(decimal_part))\n",
    "        #print (\"log(10.0)=\", log(10.0))\n",
    "        #print (\"log(decimal_part)/log(10.0)=\", log(decimal_part)/log(10.0))\n",
    "        #print (\"floor(log(decimal_part)/log(10.0)=\", floor(log(decimal_part)/log(10.0)))\n",
    "        digits_after_point = 0 - floor(log(decimal_part)/log(10.0))\n",
    "    #print (\"digits_after_point=\", digits_after_point)\n",
    "    format_string_float_value = \"str_float_value = '%1.\" + str(digits_after_point) + \"f' % (\" + str(float_value) + \")\"\n",
    "    format_string = \"{:1_\" + str(digits_after_point) + \"f}\"\n",
    "    format_string = \"%1.\" + str(digits_after_point) + \"f\"\n",
    "    print (\"format_string =\", format_string)\n",
    "    res = format_string.format(float_value)\n",
    "    res = format_string % (float_value)\n",
    "    #print (\"res =\", res)\n",
    "    return res\n",
    "\n",
    "def suffix(t, r0, a0):\n",
    "    return \"_r0=\" + float_formatting(r0) + \"_a0=\" + float_formatting(a0) + \"_t=\" + float_formatting(t)\n"
   ]
  },
  {
   "cell_type": "code",
   "execution_count": 91,
   "metadata": {},
   "outputs": [
    {
     "name": "stdout",
     "output_type": "stream",
     "text": [
      "format_string = %1.1f\n",
      "results/field_of_directions_of_propagation_of_electric_potential_tau1=625_v=0_9.png\n"
     ]
    }
   ],
   "source": [
    "pname = \"results/field_of_directions_of_propagation_of_electric_potential\" \\\n",
    "      + \"_tau1=\" + str(tau1) + \"_v=\" + float_formatting(v).replace(\".\",\"_\") + \".png\"\n",
    "print (pname)\n",
    "g.save(pname)"
   ]
  },
  {
   "cell_type": "code",
   "execution_count": 92,
   "metadata": {},
   "outputs": [
    {
     "data": {
      "image/png": "[encoded data removed]",
      "text/plain": [
       "Graphics object consisting of 50 graphics primitives"
      ]
     },
     "metadata": {},
     "output_type": "display_data"
    }
   ],
   "source": [
    "g.show(title = pname)"
   ]
  },
  {
   "cell_type": "markdown",
   "metadata": {},
   "source": [
    "график отношения длины дуги координатной кривой $\\tau_2$ в пределах $\\theta_1$ от $\\theta_{min}$ до $\\theta_{max}$ к запаздывающему радиусу и к разности коррдинатных углов ($\\theta_{max}-\\theta_{min}$)"
   ]
  },
  {
   "cell_type": "code",
   "execution_count": 76,
   "metadata": {},
   "outputs": [],
   "source": [
    "g2 = Graphics()\n",
    "\n",
    "theta_min = 0\n",
    "for theta_i in np.arange(5, 180-5, 5):\n",
    "    theta_max = theta_i * pi / 180.0\n",
    "    plot_data = []\n",
    "    for tau_i in np.arange(0, tau1-r0/c+dt, dt):\n",
    "        tau2 = tau_i\n",
    "        #print (\"\\ntau2 = \", tau2)\n",
    "        #print (\"\\ntheta_min = \", theta_min)\n",
    "        #print (\"\\ntheta_max = \", theta_max)\n",
    "\n",
    "        p = 2*(arctan((c*tau1 + r0)^(v/c)*sin(theta_max)/((c*tau2 + r0)^(v/c)*(cos(theta_max) + 1))) - arctan((c*tau1 + r0)^(v/c)*sin(theta_min)/((c*tau2 + r0)^(v/c)*(cos(theta_min) + 1))))/(theta_max - theta_min)\n",
    "        #print (\"\\np = \", p)\n",
    "        p = p.n()\n",
    "        #print (\"\\np = \", p)\n",
    "\n",
    "        plot_data += [(tau2, p)]\n",
    "\n",
    "    g2 += list_plot(plot_data,size=2)\n",
    "    theta_min = theta_max\n",
    "\n",
    "pname2 = \"results/relation_L_per_R_and_delta_theta.png\"\n",
    "#print (pname2)\n",
    "g2.save(pname2)"
   ]
  },
  {
   "cell_type": "code",
   "execution_count": 77,
   "metadata": {},
   "outputs": [
    {
     "data": {
      "image/png": "[encoded data removed]",
      "text/plain": [
       "Graphics object consisting of 34 graphics primitives"
      ]
     },
     "metadata": {},
     "output_type": "display_data"
    }
   ],
   "source": [
    "g2.show(title = pname2)"
   ]
  },
  {
   "cell_type": "code",
   "execution_count": null,
   "metadata": {},
   "outputs": [],
   "source": []
  }
 ],
 "metadata": {
  "kernelspec": {
   "display_name": "SageMath 9.6.beta7",
   "language": "sage",
   "name": "sagemath"
  },
  "language_info": {
   "codemirror_mode": {
    "name": "ipython",
    "version": 3
   },
   "file_extension": ".py",
   "mimetype": "text/x-python",
   "name": "python",
   "nbconvert_exporter": "python",
   "pygments_lexer": "ipython3",
   "version": "3.10.3"
  }
 },
 "nbformat": 4,
 "nbformat_minor": 2
}
