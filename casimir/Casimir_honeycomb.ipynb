{
 "cells": [
  {
   "cell_type": "markdown",
   "metadata": {},
   "source": [
    "https://www.dwc.knaw.nl/DL/publications/PU00018547.pdf\n",
    "\n",
    "Mathematics.\n",
    "\n",
    "# On the force to perfectly conducting honeycomb on a plate.\n",
    "\n",
    "By A. Ju. Drozdov\n",
    "\n",
    "(Feb 14. 2021. - Feb 09. 2022) "
   ]
  },
  {
   "cell_type": "markdown",
   "metadata": {},
   "source": [
    "Let us consider a cubic cavity of volume $L^3$ bounded by perfectly conducting walls and let a perfectly conducting square plate with side $L$ be\n",
    "placed in this cavity parallel to the $xy$ face and let us compare the\n",
    "situation in whieh this plate is at a very large, say $L/2$ distance a from the $xy$ face. \n",
    "\n",
    "One side of this perfectly conducting square plate is a pure plane and other is covered by perfectly conducting honeycomb.\n",
    "\n",
    "On both sided of the the plate\n",
    "expressions $\\frac{1}{2}\\sum\\,\\hbar\\omega$ where the summation extends over all possible\n",
    "resonance frequencies of the cavity $L/2\\times L\\times L$ (large cavity beetween pure plane and $xy$ face) and the cavity $L/2\\times a\\times a$ (small cavity, one honeycomb) are divergent and devoid of physical\n",
    "meaning but the difference between these sums on the opposite sides,\n",
    "$\\frac{1}{2\\,V_{I}}\\left(\\sum\\,\\,\\hbar\\omega\\right)_{I} - \\frac{1}{2\\,V_{II}}\\left(\\sum\\,\\,\\hbar\\omega\\right)_{II}$, will be shown to have a weIl defined value and this\n",
    "value will be interpreted as the interaction between the plate and the both\n",
    "$xy$ faces."
   ]
  },
  {
   "cell_type": "markdown",
   "metadata": {},
   "source": [
    "The possible vibrations of the cavities defined by "
   ]
  },
  {
   "cell_type": "markdown",
   "metadata": {},
   "source": [
    "$0<=x<=L$, $0<=y<=L$, $0<=z<=L/2$ (large cavity beetween pure plane and $xy$ face)"
   ]
  },
  {
   "cell_type": "markdown",
   "metadata": {},
   "source": [
    "and"
   ]
  },
  {
   "cell_type": "markdown",
   "metadata": {},
   "source": [
    "$0<=x<=a$, $0<=y<=a$, $0<=z<=L/2$ (small cavity, one honeycomb)"
   ]
  },
  {
   "cell_type": "markdown",
   "metadata": {},
   "source": [
    "have wave numbers "
   ]
  },
  {
   "cell_type": "markdown",
   "metadata": {},
   "source": [
    "$k_x = \\frac{\\pi}{L}\\,n_x$, $k_y = \\frac{\\pi}{L}\\,n_y$, $k_z = \\frac{\\pi}{L/2}\\,n_z$ (large cavity beetween pure plane and $xy$ face),"
   ]
  },
  {
   "cell_type": "markdown",
   "metadata": {},
   "source": [
    "and"
   ]
  },
  {
   "cell_type": "markdown",
   "metadata": {},
   "source": [
    "$k_x = \\frac{\\pi}{a}\\,n_x$, $k_y = \\frac{\\pi}{a}\\,n_y$, $k_z = \\frac{\\pi}{L/2}\\,n_z$ (small cavity, one honeycomb),\n",
    "\n",
    "where $n_x$. $n_y$, $n_z$:\n",
    "\n",
    "are positive integers;"
   ]
  },
  {
   "cell_type": "markdown",
   "metadata": {},
   "source": [
    "$k = \\sqrt{k_x^2+k_y^2+k_z^2} = \\sqrt{\\kappa^2+k_z^2}$. "
   ]
  },
  {
   "cell_type": "markdown",
   "metadata": {},
   "source": [
    "$E = \\frac{1}{2}\\sum\\,\\hbar\\omega = \\hbar\\,c\\frac{1}{2}\\sum\\limits_{n_x}^{}\\sum\\limits_{n_y}^{}\\sum\\limits_{n_z}^{}k$"
   ]
  },
  {
   "cell_type": "markdown",
   "metadata": {},
   "source": [
    "To every $k_x$, $k_y$, $k_z$ correspond two standing waves unless one of the $n_i$\n",
    "is zero, when there is only one."
   ]
  },
  {
   "cell_type": "markdown",
   "metadata": {},
   "source": [
    "In case of one honeycomb cavity for $k_z$ this is without importance since\n",
    "for very large $L/2$ we may regard $k_z$ as continuous variable. Thus we\n",
    "find "
   ]
  },
  {
   "cell_type": "markdown",
   "metadata": {},
   "source": [
    "$\\frac{1}{2}\\sum\\,\\hbar\\omega = \\hbar\\,c\\frac{1}{2}\\int\\limits_{0}^{\\infty}\\left[{\\sqrt{k_z^2}+2\\sum\\limits_{n_x=1}^{\\infty}\\sum\\limits_{n_y=1}^{\\infty}\\sqrt{n_x^2\\frac{\\pi^2}{a^2}+n_y^2\\frac{\\pi^2}{a^2}+k_z^2}}\\right]d{n_z}$  (small cavity, one honeycomb),"
   ]
  },
  {
   "cell_type": "markdown",
   "metadata": {},
   "source": [
    "$dn_z = \\frac{L/2}{\\pi}\\,dk_z$,"
   ]
  },
  {
   "cell_type": "markdown",
   "metadata": {},
   "source": [
    "$\\frac{1}{2\\,V}\\sum\\,\\hbar\\omega = \\frac{1}{a^2\\,L/2}\\hbar\\,c\\frac{1}{2}\\int\\limits_{0}^{\\infty}\\left[{\\sqrt{k_z^2}+2\\sum\\limits_{n_x=1}^{\\infty}\\sum\\limits_{n_y=1}^{\\infty}\\sqrt{n_x^2\\frac{\\pi^2}{a^2}+n_y^2\\frac{\\pi^2}{a^2}+k_z^2}}\\right]\\frac{L/2}{\\pi}\\,dk_z$  (small cavity, one honeycomb),"
   ]
  },
  {
   "cell_type": "markdown",
   "metadata": {},
   "source": [
    "$\\frac{1}{2\\,V}\\sum\\,\\hbar\\omega = \\frac{1}{a^2\\,\\pi}\\hbar\\,c\\int\\limits_{0}^{\\infty}\\left[{\\frac{1}{2}\\sqrt{k_z^2}+\\sum\\limits_{n_x=1}^{\\infty}\\sum\\limits_{n_y=1}^{\\infty}\\sqrt{n_x^2\\frac{\\pi^2}{a^2}+n_y^2\\frac{\\pi^2}{a^2}+k_z^2}}\\right]\\,dk_z$  (small cavity, one honeycomb),"
   ]
  },
  {
   "cell_type": "markdown",
   "metadata": {},
   "source": [
    "$\\frac{1}{2\\,V}\\sum\\,\\hbar\\omega = \\frac{1}{a^2\\,\\pi}\\hbar\\,c\\int\\limits_{0}^{\\infty}\\left[{\\sum\\limits_{n_x=(0)1}^{\\infty}\\sum\\limits_{n_y=(0)1}^{\\infty}\\sqrt{n_x^2\\frac{\\pi^2}{a^2}+n_y^2\\frac{\\pi^2}{a^2}+k_z^2}}\\right]\\,dk_z$  (small cavity, one honeycomb),"
   ]
  },
  {
   "cell_type": "markdown",
   "metadata": {},
   "source": [
    "where the notation $\\left(0\\right) 1$ is meant to indicate that the term with $n_x = 0$ and $n_y = 0$\n",
    "has to be multiplied by $\\frac{1}{2}$. "
   ]
  },
  {
   "cell_type": "markdown",
   "metadata": {},
   "source": [
    "$\\frac{1}{2\\,V}\\sum\\,\\hbar\\omega = \\frac{1}{a^2\\,\\pi}\\hbar\\,c\\sum\\limits_{n_x=(0)1}^{\\infty}\\sum\\limits_{n_y=(0)1}^{\\infty}\\left[\\int\\limits_{0}^{\\infty}\\sqrt{n_x^2\\frac{\\pi^2}{a^2}+n_y^2\\frac{\\pi^2}{a^2}+k_z^2}\\,dk_z\\right]$  (small cavity, one honeycomb),"
   ]
  },
  {
   "cell_type": "code",
   "execution_count": null,
   "metadata": {},
   "outputs": [],
   "source": []
  },
  {
   "cell_type": "markdown",
   "metadata": {},
   "source": [
    "And in case of large cavity for $k_x$, $k_y$ this is without importance since\n",
    "for very large $L$ we may regard $k_x$, $k_y$ as continuous variables. Thus we\n",
    "find "
   ]
  },
  {
   "cell_type": "markdown",
   "metadata": {},
   "source": [
    "$\\frac{1}{2}\\sum\\,\\hbar\\omega = \\hbar\\,c\\frac{1}{2}\\int\\limits_{0}^{\\infty}\\int\\limits_{0}^{\\infty}\\left[{\\sqrt{k_x^2+k_y^2}+2\\sum\\limits_{n_z=1}^{\\infty}\\sqrt{n_z^2\\frac{\\pi^2}{(L/2)^2}+k_x^2+k_y^2}}\\right]d{n_x}d{n_y}$ (large cavity beetween pure plane and $xy$ face),"
   ]
  },
  {
   "cell_type": "markdown",
   "metadata": {},
   "source": [
    "For very large $L/2$ also this last summation may\n",
    "be replaced by an integral and it is therefore easily seen that our interaction energy is given by "
   ]
  },
  {
   "cell_type": "markdown",
   "metadata": {},
   "source": [
    "$\\frac{1}{2}\\sum\\,\\hbar\\omega = \\hbar\\,c\\int\\limits_{0}^{\\infty}\\int\\limits_{0}^{\\infty}\\int\\limits_{0}^{\\infty}\\sqrt{k_z^2+k_x^2+k_y^2}\\,d{n_x}\\,d{n_y}\\,d{n_z}$ (large cavity beetween pure plane and $xy$ face),"
   ]
  },
  {
   "cell_type": "markdown",
   "metadata": {},
   "source": [
    "$dn_x = \\frac{L}{\\pi}\\,dk_x$, $dn_y = \\frac{L}{\\pi}\\,dk_y$, $dn_z = \\frac{L/2}{\\pi}\\,dk_z$,"
   ]
  },
  {
   "cell_type": "markdown",
   "metadata": {},
   "source": [
    "$\\frac{1}{2\\,V}\\sum\\,\\hbar\\omega = \\frac{1}{L^3/2}\\hbar\\,c\\int\\limits_{0}^{\\infty}\\int\\limits_{0}^{\\infty}\\int\\limits_{0}^{\\infty}\\sqrt{k_z^2+k_x^2+k_y^2}\\,dn_x\\,dn_y\\,\\frac{L/2}{\\pi}\\,dk_z$ (large cavity beetween pure plane and $xy$ face),"
   ]
  },
  {
   "cell_type": "markdown",
   "metadata": {},
   "source": [
    "$\\frac{1}{2\\,V}\\sum\\,\\hbar\\omega = \\frac{1}{L^2\\,\\pi}\\hbar\\,c\\int\\limits_{0}^{\\infty}\\int\\limits_{0}^{\\infty}\\left[\\,\\int\\limits_{0}^{\\infty}\\sqrt{k_z^2+k_x^2+k_y^2}\\,dk_z\\right]\\,dn_x\\,dn_y$ (large cavity beetween pure plane and $xy$ face),"
   ]
  },
  {
   "cell_type": "code",
   "execution_count": null,
   "metadata": {},
   "outputs": [],
   "source": []
  },
  {
   "cell_type": "markdown",
   "metadata": {},
   "source": [
    "$\\frac{1}{2\\,V}\\sum\\,\\hbar\\omega = \\frac{1}{a^2\\,\\pi}\\hbar\\,c\\sum\\limits_{n_x=(0)1}^{\\infty}\\sum\\limits_{n_y=(0)1}^{\\infty}\\left[\\,\\int\\limits_{0}^{\\infty}\\sqrt{n_x^2\\frac{\\pi^2}{a^2}+n_y^2\\frac{\\pi^2}{a^2}+k_z^2}\\,dk_z\\right]$  (small cavity, one honeycomb),"
   ]
  },
  {
   "cell_type": "markdown",
   "metadata": {},
   "source": [
    "$\\frac{1}{2\\,V}\\sum\\,\\hbar\\omega = \\frac{1}{L^2\\,\\pi}\\hbar\\,c\\int\\limits_{0}^{\\infty}\\int\\limits_{0}^{\\infty}\\left[\\,\\int\\limits_{0}^{\\infty}\\sqrt{k_x^2+k_y^2+k_z^2}\\,dk_z\\right]\\,dn_x\\,dn_y$ (large cavity beetween pure plane and $xy$ face),"
   ]
  },
  {
   "cell_type": "markdown",
   "metadata": {},
   "source": [
    "$\\frac{1}{2\\,V}\\sum\\,\\hbar\\omega = \\frac{1}{L^2\\,\\pi}\\hbar\\,c\\int\\limits_{0}^{\\infty}\\int\\limits_{0}^{\\infty}\\left[\\,\\int\\limits_{0}^{\\infty}\\sqrt{k_x^2+k_y^2+k_z^2}\\,dk_z\\right]\\,\\left(\\frac{L}{\\pi}dk_x\\right)\\,\\left(\\frac{L}{\\pi}dk_y\\right)$ (large cavity beetween pure plane and $xy$ face),"
   ]
  },
  {
   "cell_type": "markdown",
   "metadata": {},
   "source": [
    "$\\frac{a^2}{2\\,V}\\sum\\,\\hbar\\omega = \\frac{1}{\\pi}\\hbar\\,c\\int\\limits_{0}^{\\infty}\\int\\limits_{0}^{\\infty}\\left[\\,\\int\\limits_{0}^{\\infty}\\sqrt{k_x^2+k_y^2+k_z^2}\\,dk_z\\right]\\,\\left(\\frac{a}{\\pi}dk_x\\right)\\,\\left(\\frac{a}{\\pi}dk_y\\right)$ (large cavity beetween pure plane and $xy$ face),"
   ]
  },
  {
   "cell_type": "markdown",
   "metadata": {},
   "source": [
    "$\\frac{1}{2\\,V}\\sum\\,\\hbar\\omega = \\frac{1}{a^2\\,\\pi}\\hbar\\,c\\int\\limits_{0}^{\\infty}\\int\\limits_{0}^{\\infty}\\left[\\,\\int\\limits_{0}^{\\infty}\\sqrt{k_x^2+k_y^2+k_z^2}\\,dk_z\\right]\\,\\left(\\frac{a}{\\pi}dk_x\\right)\\,\\left(\\frac{a}{\\pi}dk_y\\right)$ (large cavity beetween pure plane and $xy$ face),"
   ]
  },
  {
   "cell_type": "markdown",
   "metadata": {},
   "source": [
    "it is therefore easily seen that our interaction energy is given by "
   ]
  },
  {
   "cell_type": "markdown",
   "metadata": {},
   "source": [
    "$\\delta\\,\\frac{E}{V} = \\frac{1}{a^2\\,\\pi}\\hbar\\,c\\left\\{\\sum\\limits_{n_x=(0)1}^{\\infty}\\sum\\limits_{n_y=(0)1}^{\\infty}\\left[\\,\\int\\limits_{0}^{\\infty}\\sqrt{n_x^2\\frac{\\pi^2}{a^2}+n_y^2\\frac{\\pi^2}{a^2}+k_z^2}\\,dk_z\\right] - \\int\\limits_{0}^{\\infty}\\int\\limits_{0}^{\\infty}\\left[\\,\\int\\limits_{0}^{\\infty}\\sqrt{k_x^2+k_y^2+k_z^2}\\,dk_z\\right]\\,\\left(\\frac{a}{\\pi}dk_x\\right)\\,\\left(\\frac{a}{\\pi}dk_y\\right)\\right\\}$"
   ]
  },
  {
   "cell_type": "markdown",
   "metadata": {},
   "source": [
    "$\\delta\\,\\frac{E}{V} = \\frac{1}{a^2\\,\\pi}\\hbar\\,c\\left\\{\\sum\\limits_{n_x=(0)1}^{\\infty}\\sum\\limits_{n_y=(0)1}^{\\infty}\\left[\\,\\int\\limits_{0}^{\\infty}\\sqrt{n_x^2\\frac{\\pi^2}{a^2}+n_y^2\\frac{\\pi^2}{a^2}+k_z^2}\\,dk_z\\right] - \\int\\limits_{0}^{\\infty}\\int\\limits_{0}^{\\infty}\\left[\\,\\int\\limits_{0}^{\\infty}\\sqrt{k_x^2+k_y^2+k_z^2}\\,dk_z\\right]\\,dn_x\\,dn_y\\right\\}$"
   ]
  },
  {
   "cell_type": "code",
   "execution_count": null,
   "metadata": {},
   "outputs": [],
   "source": []
  },
  {
   "cell_type": "markdown",
   "metadata": {},
   "source": [
    "${\\left(\\frac{E}{V}\\right)_{small\\,cavity} = \\frac{1}{a^2}\\hbar \\, \\sum\\limits_{n_x=(0)1}^{\\infty}\\sum\\limits_{n_y=(0)1}^{\\infty}\\,\\int\\limits_{0}^{\\infty} {\\frac {dk_{z}}{\\pi}}\\omega _{n_x,n_y}.}$"
   ]
  },
  {
   "cell_type": "markdown",
   "metadata": {},
   "source": [
    "where $\\omega _{n_x,n_y} = c\\,\\sqrt{n_x^2\\frac{\\pi^2}{a^2}+n_y^2\\frac{\\pi^2}{a^2}+k_z^2}$"
   ]
  },
  {
   "cell_type": "markdown",
   "metadata": {},
   "source": [
    "This expression is clearly infinite, and to proceed with the calculation, it is convenient to introduce a regulator."
   ]
  },
  {
   "cell_type": "markdown",
   "metadata": {},
   "source": [
    "In order to obtain a finite result it is necessary to multiply the integrands\n",
    "by a function $f(k/k_m)$ which is unity for $k << k_m$ but tends to zero sufficiently rapidly for $(k/k_m)\\, \\rightarrow\\,\\infty$. where km may be defined by $f(1) = \\frac{1}{2}$.\n",
    "The physical meaning is obvious: for very short waves (X~rays e.g.)\n",
    "our plate is hardly an obstacle at all and therefore the zero point energy\n",
    "of these waves will not be influenced by the position of this plate. "
   ]
  },
  {
   "cell_type": "markdown",
   "metadata": {},
   "source": [
    "The regulator will serve to make the expression finite, and in the end will be removed. The regulated version of the energy per unit-area of the plate is"
   ]
  },
  {
   "cell_type": "markdown",
   "metadata": {},
   "source": [
    "Introducing the variable $u^2 = a^2\\,k_z^2/\\pi^2$"
   ]
  },
  {
   "cell_type": "markdown",
   "metadata": {},
   "source": [
    "$du = a/\\pi\\,dk_z$"
   ]
  },
  {
   "cell_type": "markdown",
   "metadata": {},
   "source": [
    "\\begin{equation}\n",
    "\\delta\\,\\frac{E}{V} = \\frac{\\hbar\\,c\\,\\pi}{a^4}\\left\\{\n",
    "\\sum\\limits_{n_x=\\left(0\\right)\\,1}^{\\infty}\n",
    "\\sum\\limits_{n_y=\\left(0\\right)\\,1}^{\\infty}\n",
    "\\int\\limits_{0}^{\\infty}\n",
    "{\\sqrt{n_x^2 + n_y^2 + u^2}}\n",
    "f\\left(\\frac{\\pi\\sqrt{n_x^2 + n_y^2 + u^2}}{a\\,k_m}\\right)\n",
    "\\,d{u}\n",
    "-\n",
    "\\int\\limits_{0}^{\\infty}\n",
    "\\int\\limits_{0}^{\\infty}\n",
    "\\int\\limits_{0}^{\\infty}\n",
    "{\\sqrt{n_x^2 + n_y^2 + u^2}}\n",
    "f\\left(\\frac{\\pi\\sqrt{n_x^2 + n_y^2 + u^2}}{a\\,k_m}\\right)\n",
    "\\,d{u}\\,d{n_x}\\,d{n_y}\n",
    "\\right\\}\n",
    "\\end{equation}"
   ]
  },
  {
   "cell_type": "markdown",
   "metadata": {},
   "source": [
    "\\begin{equation}\n",
    "F\\left(n_x, n_y\\right) = \n",
    "\\int\\limits_{0}^{\\infty}{\\sqrt{n_x^2 + n_y^2+u^2}}\n",
    "f\\left(\\frac{\\pi\\sqrt{n_x^2 + n_y^2+u^2}}{a\\,k_m}\\right)\\,d{u}\n",
    "\\end{equation}"
   ]
  },
  {
   "cell_type": "markdown",
   "metadata": {},
   "source": [
    "\\begin{equation}\n",
    "\\delta\\,\\frac{E}{V} = \\frac{\\hbar\\,c\\,\\pi}{a^4}\\left\\{\n",
    "\\sum\\limits_{n_x=\\left(0\\right)\\,1}^{\\infty}\n",
    "\\sum\\limits_{n_y=\\left(0\\right)\\,1}^{\\infty}\n",
    "F\\left(n_x, n_y\\right)\n",
    "-\n",
    "\\int\\limits_{0}^{\\infty}\n",
    "\\int\\limits_{0}^{\\infty}\n",
    "F\\left(n_x, n_y\\right)\\,d{n_x}\\,d{n_y}\n",
    "\\right\\}\n",
    "\\end{equation}"
   ]
  },
  {
   "cell_type": "markdown",
   "metadata": {},
   "source": [
    "Introducing $w^2 = u^2 + n_x^2 + n_y^2$ we have "
   ]
  },
  {
   "cell_type": "code",
   "execution_count": 1,
   "metadata": {},
   "outputs": [],
   "source": [
    "from IPython.display import display, Math, Latex"
   ]
  },
  {
   "cell_type": "code",
   "execution_count": 2,
   "metadata": {},
   "outputs": [],
   "source": [
    "n_x = var(\"n_x\")\n",
    "assume(n_x, \"real\")\n",
    "assume(n_x > 0)\n",
    "n_y = var(\"n_y\")\n",
    "assume(n_y, \"real\")\n",
    "assume(n_y > 0)\n",
    "n_z = var(\"n_z\")"
   ]
  },
  {
   "cell_type": "code",
   "execution_count": 3,
   "metadata": {},
   "outputs": [],
   "source": [
    "#u = a*k_z/(pi)\n",
    "u = var(\"u\")"
   ]
  },
  {
   "cell_type": "code",
   "execution_count": 4,
   "metadata": {},
   "outputs": [],
   "source": [
    "# w^2 = u^2 + n_x^2 + n_y^2\n",
    "w = var(\"w\")\n",
    "assume(w > sqrt(n_x^2 + n_y^2))"
   ]
  },
  {
   "cell_type": "code",
   "execution_count": 5,
   "metadata": {},
   "outputs": [],
   "source": [
    "eq_w2 = w^2 == u^2 - n_x^2 - n_y^2"
   ]
  },
  {
   "cell_type": "code",
   "execution_count": 6,
   "metadata": {},
   "outputs": [
    {
     "data": {
      "text/plain": [
       "[u == -sqrt(n_x^2 + n_y^2 + w^2), u == sqrt(n_x^2 + n_y^2 + w^2)]"
      ]
     },
     "execution_count": 6,
     "metadata": {},
     "output_type": "execute_result"
    }
   ],
   "source": [
    "uu = solve(eq_w2, u)\n",
    "uu"
   ]
  },
  {
   "cell_type": "code",
   "execution_count": 7,
   "metadata": {},
   "outputs": [
    {
     "data": {
      "text/latex": [
       "$\\displaystyle u = \\sqrt{n_{x}^{2} + n_{y}^{2} + w^{2}}$"
      ],
      "text/plain": [
       "<IPython.core.display.Math object>"
      ]
     },
     "metadata": {},
     "output_type": "display_data"
    }
   ],
   "source": [
    "display(Math(latex(uu[1])))"
   ]
  },
  {
   "cell_type": "markdown",
   "metadata": {},
   "source": [
    "\\begin{equation}\n",
    "u = \\sqrt{w^2 - \\left( n_x^2 + n_y^2 \\right)}\n",
    "\\end{equation}"
   ]
  },
  {
   "cell_type": "code",
   "execution_count": 8,
   "metadata": {},
   "outputs": [
    {
     "data": {
      "text/plain": [
       "w/sqrt(n_x^2 + n_y^2 + w^2)"
      ]
     },
     "execution_count": 8,
     "metadata": {},
     "output_type": "execute_result"
    }
   ],
   "source": [
    "dudw = diff(uu[1].rhs(), w)\n",
    "dudw"
   ]
  },
  {
   "cell_type": "code",
   "execution_count": 9,
   "metadata": {},
   "outputs": [
    {
     "data": {
      "text/latex": [
       "$\\displaystyle \\frac{w}{\\sqrt{n_{x}^{2} + n_{y}^{2} + w^{2}}}$"
      ],
      "text/plain": [
       "<IPython.core.display.Math object>"
      ]
     },
     "metadata": {},
     "output_type": "display_data"
    }
   ],
   "source": [
    "display(Math(latex(dudw)))"
   ]
  },
  {
   "cell_type": "markdown",
   "metadata": {},
   "source": [
    "\\begin{equation}\n",
    "du = \\frac{w {d w}}{\\sqrt{w^2 - (n_x^2 + n_y^2)}}\n",
    "\\end{equation}"
   ]
  },
  {
   "cell_type": "markdown",
   "metadata": {},
   "source": [
    "\\begin{equation}\n",
    "F\\left(n_x, n_y\\right) = \n",
    "\\int\\limits_{0}^{\\infty}{w}\n",
    "f\\left(\\frac{\\pi\\,w}{a\\,k_m}\\right)\\,d{u}\n",
    "\\end{equation}"
   ]
  },
  {
   "cell_type": "markdown",
   "metadata": {},
   "source": [
    "\\begin{equation}\n",
    "F\\left(n_x, n_y\\right) =\n",
    "\\int\\limits_{n_x^2 + n_y^2}^{\\infty}\n",
    "\\frac{{w^2}f\\left(\\frac{\\pi w}{a\\,k_m}\\right)}{\\sqrt{w^2 - (n_x^2 + n_y^2)}}\\,{d w}\n",
    "\\end{equation}"
   ]
  },
  {
   "cell_type": "code",
   "execution_count": 10,
   "metadata": {},
   "outputs": [],
   "source": [
    "a = var(\"a\")\n",
    "assume(a, 'real')\n",
    "assume(a>0)\n",
    "\n",
    "L = var(\"L\")\n",
    "\n",
    "k_x = var(\"k_x\")\n",
    "k_y = var(\"k_y\")\n",
    "k_z = var(\"k_z\")"
   ]
  },
  {
   "cell_type": "code",
   "execution_count": 11,
   "metadata": {},
   "outputs": [],
   "source": [
    "k_x = pi * n_x / a\n",
    "k_y = pi * n_y / a\n",
    "k_z = pi * n_z / (L/2)"
   ]
  },
  {
   "cell_type": "code",
   "execution_count": 12,
   "metadata": {},
   "outputs": [],
   "source": [
    "k_m = var(\"k_m\")\n",
    "assume(k_m, 'real')\n",
    "assume(k_m > 0)"
   ]
  },
  {
   "cell_type": "code",
   "execution_count": 13,
   "metadata": {},
   "outputs": [],
   "source": [
    "#f = function('f')(var(\"k_km\"))\n",
    "f = lambda k_km : 1 / (exp(k_km)-1)\n",
    "f = lambda k_km : 1 / (exp(k_km)+1)\n",
    "f = lambda k_km : 1 / (1 + (k_km)^2)"
   ]
  },
  {
   "cell_type": "code",
   "execution_count": 14,
   "metadata": {},
   "outputs": [
    {
     "data": {
      "image/png": "[encoded data removed]",
      "text/plain": [
       "Graphics object consisting of 1 graphics primitive"
      ]
     },
     "execution_count": 14,
     "metadata": {},
     "output_type": "execute_result"
    }
   ],
   "source": [
    "plot(f(x), (x, 0, 3))"
   ]
  },
  {
   "cell_type": "code",
   "execution_count": 15,
   "metadata": {},
   "outputs": [
    {
     "data": {
      "text/latex": [
       "$\\displaystyle \\frac{w^{2}}{\\sqrt{n_{x}^{2} + n_{y}^{2} + w^{2}} {\\left(\\frac{\\pi^{2} w^{2}}{a^{2} k_{m}^{2}} + 1\\right)}}$"
      ],
      "text/plain": [
       "<IPython.core.display.Math object>"
      ]
     },
     "metadata": {},
     "output_type": "display_data"
    },
    {
     "data": {
      "text/plain": [
       "w^2/(sqrt(n_x^2 + n_y^2 + w^2)*(pi^2*w^2/(a^2*k_m^2) + 1))"
      ]
     },
     "execution_count": 15,
     "metadata": {},
     "output_type": "execute_result"
    }
   ],
   "source": [
    "integrand_w = w*f(pi*w/(a*k_m))*dudw\n",
    "display(Math(latex(integrand_w)))\n",
    "integrand_w"
   ]
  },
  {
   "cell_type": "code",
   "execution_count": 16,
   "metadata": {},
   "outputs": [
    {
     "data": {
      "text/plain": [
       "w^2/((pi^2*w^2 + 1)*sqrt(w^2 + 2))"
      ]
     },
     "execution_count": 16,
     "metadata": {},
     "output_type": "execute_result"
    }
   ],
   "source": [
    "integrand_w.subs(n_x == 1, n_y == 1, a == 1, k_m == 1)"
   ]
  },
  {
   "cell_type": "code",
   "execution_count": 17,
   "metadata": {},
   "outputs": [
    {
     "data": {
      "image/png": "[encoded data removed]",
      "text/plain": [
       "Graphics object consisting of 1 graphics primitive"
      ]
     },
     "execution_count": 17,
     "metadata": {},
     "output_type": "execute_result"
    }
   ],
   "source": [
    "plot(integrand_w.subs(n_x == 1, n_y == 1, a == 1, k_m == 1), w, 0, 10)"
   ]
  },
  {
   "cell_type": "code",
   "execution_count": 18,
   "metadata": {},
   "outputs": [
    {
     "data": {
      "text/latex": [
       "$\\displaystyle \\frac{t^{2}}{\\sqrt{n_{x}^{2} + n_{y}^{2} + t^{2}} {\\left(\\frac{\\pi^{2} t^{2}}{a^{2} k_{m}^{2}} + 1\\right)}}$"
      ],
      "text/plain": [
       "<IPython.core.display.Math object>"
      ]
     },
     "metadata": {},
     "output_type": "display_data"
    },
    {
     "data": {
      "text/plain": [
       "t^2/(sqrt(n_x^2 + n_y^2 + t^2)*(pi^2*t^2/(a^2*k_m^2) + 1))"
      ]
     },
     "execution_count": 18,
     "metadata": {},
     "output_type": "execute_result"
    }
   ],
   "source": [
    "t = var(\"t\")\n",
    "integrand_t = integrand_w.subs(w = t)\n",
    "display(Math(latex(integrand_t)))\n",
    "integrand_t"
   ]
  },
  {
   "cell_type": "code",
   "execution_count": 19,
   "metadata": {},
   "outputs": [],
   "source": [
    "# AttributeError: 'Or' object has no attribute '_sage_'\n",
    "# https://trac.sagemath.org/ticket/31911\n",
    "# https://git.sagemath.org/sage.git/log/?h=u/mkoeppe/boolean_symbolic_expressions"
   ]
  },
  {
   "cell_type": "code",
   "execution_count": 20,
   "metadata": {},
   "outputs": [
    {
     "name": "stdout",
     "output_type": "stream",
     "text": [
      "n 0\n",
      "M_Q\n"
     ]
    },
    {
     "data": {
      "text/latex": [
       "$\\displaystyle \\left(\\begin{array}{r}\n",
       "2 \\, a^{2} k_{m}^{2} \\int_{0}^{+\\infty} \\frac{t^{2}}{\\sqrt{n_{x}^{2} + n_{y}^{2} + t^{2}} a^{2} k_{m}^{2} e^{t} + \\pi^{2} \\sqrt{n_{x}^{2} + n_{y}^{2} + t^{2}} t^{2} e^{t}}\\,{d t}\n",
       "\\end{array}\\right)$"
      ],
      "text/plain": [
       "<IPython.core.display.Math object>"
      ]
     },
     "metadata": {},
     "output_type": "display_data"
    },
    {
     "name": "stdout",
     "output_type": "stream",
     "text": [
      "det_M_Q\n"
     ]
    },
    {
     "data": {
      "text/latex": [
       "$\\displaystyle 2 \\, a^{2} k_{m}^{2} \\int_{0}^{+\\infty} \\frac{t^{2}}{\\sqrt{n_{x}^{2} + n_{y}^{2} + t^{2}} a^{2} k_{m}^{2} e^{t} + \\pi^{2} \\sqrt{n_{x}^{2} + n_{y}^{2} + t^{2}} t^{2} e^{t}}\\,{d t}$"
      ],
      "text/plain": [
       "<IPython.core.display.Math object>"
      ]
     },
     "metadata": {},
     "output_type": "display_data"
    },
    {
     "name": "stdout",
     "output_type": "stream",
     "text": [
      "n 1\n",
      "M_Q\n"
     ]
    },
    {
     "data": {
      "text/latex": [
       "$\\displaystyle \\left(\\begin{array}{rr}\n",
       "-2 \\, a^{2} k_{m}^{2} {\\left(\\int_{0}^{+\\infty} \\frac{4 \\, t^{3}}{\\sqrt{n_{x}^{2} + n_{y}^{2} + t^{2}} a^{2} k_{m}^{2} e^{t} + \\pi^{2} \\sqrt{n_{x}^{2} + n_{y}^{2} + t^{2}} t^{2} e^{t}}\\,{d t} + \\int_{0}^{+\\infty} -\\frac{t^{2}}{\\sqrt{n_{x}^{2} + n_{y}^{2} + t^{2}} a^{2} k_{m}^{2} e^{t} + \\pi^{2} \\sqrt{n_{x}^{2} + n_{y}^{2} + t^{2}} t^{2} e^{t}}\\,{d t}\\right)} & 2 \\, a^{2} k_{m}^{2} \\int_{0}^{+\\infty} \\frac{t^{2}}{\\sqrt{n_{x}^{2} + n_{y}^{2} + t^{2}} a^{2} k_{m}^{2} e^{t} + \\pi^{2} \\sqrt{n_{x}^{2} + n_{y}^{2} + t^{2}} t^{2} e^{t}}\\,{d t} \\\\\n",
       "2 \\, a^{2} k_{m}^{2} {\\left(\\int_{0}^{+\\infty} \\frac{8 \\, t^{4}}{\\sqrt{n_{x}^{2} + n_{y}^{2} + t^{2}} a^{2} k_{m}^{2} e^{t} + \\pi^{2} \\sqrt{n_{x}^{2} + n_{y}^{2} + t^{2}} t^{2} e^{t}}\\,{d t} + \\int_{0}^{+\\infty} -\\frac{8 \\, t^{3}}{\\sqrt{n_{x}^{2} + n_{y}^{2} + t^{2}} a^{2} k_{m}^{2} e^{t} + \\pi^{2} \\sqrt{n_{x}^{2} + n_{y}^{2} + t^{2}} t^{2} e^{t}}\\,{d t} + \\int_{0}^{+\\infty} \\frac{t^{2}}{\\sqrt{n_{x}^{2} + n_{y}^{2} + t^{2}} a^{2} k_{m}^{2} e^{t} + \\pi^{2} \\sqrt{n_{x}^{2} + n_{y}^{2} + t^{2}} t^{2} e^{t}}\\,{d t}\\right)} & -2 \\, a^{2} k_{m}^{2} {\\left(\\int_{0}^{+\\infty} \\frac{4 \\, t^{3}}{\\sqrt{n_{x}^{2} + n_{y}^{2} + t^{2}} a^{2} k_{m}^{2} e^{t} + \\pi^{2} \\sqrt{n_{x}^{2} + n_{y}^{2} + t^{2}} t^{2} e^{t}}\\,{d t} + \\int_{0}^{+\\infty} -\\frac{t^{2}}{\\sqrt{n_{x}^{2} + n_{y}^{2} + t^{2}} a^{2} k_{m}^{2} e^{t} + \\pi^{2} \\sqrt{n_{x}^{2} + n_{y}^{2} + t^{2}} t^{2} e^{t}}\\,{d t}\\right)}\n",
       "\\end{array}\\right)$"
      ],
      "text/plain": [
       "<IPython.core.display.Math object>"
      ]
     },
     "metadata": {},
     "output_type": "display_data"
    },
    {
     "name": "stdout",
     "output_type": "stream",
     "text": [
      "det_M_Q\n"
     ]
    },
    {
     "data": {
      "text/latex": [
       "$\\displaystyle 4 \\, a^{4} k_{m}^{4} {\\left(\\int_{0}^{+\\infty} \\frac{4 \\, t^{3}}{\\sqrt{n_{x}^{2} + n_{y}^{2} + t^{2}} a^{2} k_{m}^{2} e^{t} + \\pi^{2} \\sqrt{n_{x}^{2} + n_{y}^{2} + t^{2}} t^{2} e^{t}}\\,{d t} + \\int_{0}^{+\\infty} -\\frac{t^{2}}{\\sqrt{n_{x}^{2} + n_{y}^{2} + t^{2}} a^{2} k_{m}^{2} e^{t} + \\pi^{2} \\sqrt{n_{x}^{2} + n_{y}^{2} + t^{2}} t^{2} e^{t}}\\,{d t}\\right)}^{2} - 4 \\, a^{4} k_{m}^{4} {\\left(\\int_{0}^{+\\infty} \\frac{8 \\, t^{4}}{\\sqrt{n_{x}^{2} + n_{y}^{2} + t^{2}} a^{2} k_{m}^{2} e^{t} + \\pi^{2} \\sqrt{n_{x}^{2} + n_{y}^{2} + t^{2}} t^{2} e^{t}}\\,{d t} + \\int_{0}^{+\\infty} -\\frac{8 \\, t^{3}}{\\sqrt{n_{x}^{2} + n_{y}^{2} + t^{2}} a^{2} k_{m}^{2} e^{t} + \\pi^{2} \\sqrt{n_{x}^{2} + n_{y}^{2} + t^{2}} t^{2} e^{t}}\\,{d t} + \\int_{0}^{+\\infty} \\frac{t^{2}}{\\sqrt{n_{x}^{2} + n_{y}^{2} + t^{2}} a^{2} k_{m}^{2} e^{t} + \\pi^{2} \\sqrt{n_{x}^{2} + n_{y}^{2} + t^{2}} t^{2} e^{t}}\\,{d t}\\right)} \\int_{0}^{+\\infty} \\frac{t^{2}}{\\sqrt{n_{x}^{2} + n_{y}^{2} + t^{2}} a^{2} k_{m}^{2} e^{t} + \\pi^{2} \\sqrt{n_{x}^{2} + n_{y}^{2} + t^{2}} t^{2} e^{t}}\\,{d t}$"
      ],
      "text/plain": [
       "<IPython.core.display.Math object>"
      ]
     },
     "metadata": {},
     "output_type": "display_data"
    },
    {
     "name": "stdout",
     "output_type": "stream",
     "text": [
      "n 2\n",
      "M_Q\n"
     ]
    },
    {
     "data": {
      "text/latex": [
       "$\\displaystyle \\left(\\begin{array}{rrr}\n",
       "2 \\, a^{2} k_{m}^{2} {\\left(\\int_{0}^{+\\infty} \\frac{8 \\, t^{4}}{\\sqrt{n_{x}^{2} + n_{y}^{2} + t^{2}} a^{2} k_{m}^{2} e^{t} + \\pi^{2} \\sqrt{n_{x}^{2} + n_{y}^{2} + t^{2}} t^{2} e^{t}}\\,{d t} + \\int_{0}^{+\\infty} -\\frac{8 \\, t^{3}}{\\sqrt{n_{x}^{2} + n_{y}^{2} + t^{2}} a^{2} k_{m}^{2} e^{t} + \\pi^{2} \\sqrt{n_{x}^{2} + n_{y}^{2} + t^{2}} t^{2} e^{t}}\\,{d t} + \\int_{0}^{+\\infty} \\frac{t^{2}}{\\sqrt{n_{x}^{2} + n_{y}^{2} + t^{2}} a^{2} k_{m}^{2} e^{t} + \\pi^{2} \\sqrt{n_{x}^{2} + n_{y}^{2} + t^{2}} t^{2} e^{t}}\\,{d t}\\right)} & -2 \\, a^{2} k_{m}^{2} {\\left(\\int_{0}^{+\\infty} \\frac{4 \\, t^{3}}{\\sqrt{n_{x}^{2} + n_{y}^{2} + t^{2}} a^{2} k_{m}^{2} e^{t} + \\pi^{2} \\sqrt{n_{x}^{2} + n_{y}^{2} + t^{2}} t^{2} e^{t}}\\,{d t} + \\int_{0}^{+\\infty} -\\frac{t^{2}}{\\sqrt{n_{x}^{2} + n_{y}^{2} + t^{2}} a^{2} k_{m}^{2} e^{t} + \\pi^{2} \\sqrt{n_{x}^{2} + n_{y}^{2} + t^{2}} t^{2} e^{t}}\\,{d t}\\right)} & 2 \\, a^{2} k_{m}^{2} \\int_{0}^{+\\infty} \\frac{t^{2}}{\\sqrt{n_{x}^{2} + n_{y}^{2} + t^{2}} a^{2} k_{m}^{2} e^{t} + \\pi^{2} \\sqrt{n_{x}^{2} + n_{y}^{2} + t^{2}} t^{2} e^{t}}\\,{d t} \\\\\n",
       "-\\frac{2}{3} \\, a^{2} k_{m}^{2} {\\left(\\int_{0}^{+\\infty} \\frac{32 \\, t^{5}}{\\sqrt{n_{x}^{2} + n_{y}^{2} + t^{2}} a^{2} k_{m}^{2} e^{t} + \\pi^{2} \\sqrt{n_{x}^{2} + n_{y}^{2} + t^{2}} t^{2} e^{t}}\\,{d t} + \\int_{0}^{+\\infty} -\\frac{72 \\, t^{4}}{\\sqrt{n_{x}^{2} + n_{y}^{2} + t^{2}} a^{2} k_{m}^{2} e^{t} + \\pi^{2} \\sqrt{n_{x}^{2} + n_{y}^{2} + t^{2}} t^{2} e^{t}}\\,{d t} + \\int_{0}^{+\\infty} \\frac{36 \\, t^{3}}{\\sqrt{n_{x}^{2} + n_{y}^{2} + t^{2}} a^{2} k_{m}^{2} e^{t} + \\pi^{2} \\sqrt{n_{x}^{2} + n_{y}^{2} + t^{2}} t^{2} e^{t}}\\,{d t} + \\int_{0}^{+\\infty} -\\frac{3 \\, t^{2}}{\\sqrt{n_{x}^{2} + n_{y}^{2} + t^{2}} a^{2} k_{m}^{2} e^{t} + \\pi^{2} \\sqrt{n_{x}^{2} + n_{y}^{2} + t^{2}} t^{2} e^{t}}\\,{d t}\\right)} & 2 \\, a^{2} k_{m}^{2} {\\left(\\int_{0}^{+\\infty} \\frac{8 \\, t^{4}}{\\sqrt{n_{x}^{2} + n_{y}^{2} + t^{2}} a^{2} k_{m}^{2} e^{t} + \\pi^{2} \\sqrt{n_{x}^{2} + n_{y}^{2} + t^{2}} t^{2} e^{t}}\\,{d t} + \\int_{0}^{+\\infty} -\\frac{8 \\, t^{3}}{\\sqrt{n_{x}^{2} + n_{y}^{2} + t^{2}} a^{2} k_{m}^{2} e^{t} + \\pi^{2} \\sqrt{n_{x}^{2} + n_{y}^{2} + t^{2}} t^{2} e^{t}}\\,{d t} + \\int_{0}^{+\\infty} \\frac{t^{2}}{\\sqrt{n_{x}^{2} + n_{y}^{2} + t^{2}} a^{2} k_{m}^{2} e^{t} + \\pi^{2} \\sqrt{n_{x}^{2} + n_{y}^{2} + t^{2}} t^{2} e^{t}}\\,{d t}\\right)} & -2 \\, a^{2} k_{m}^{2} {\\left(\\int_{0}^{+\\infty} \\frac{4 \\, t^{3}}{\\sqrt{n_{x}^{2} + n_{y}^{2} + t^{2}} a^{2} k_{m}^{2} e^{t} + \\pi^{2} \\sqrt{n_{x}^{2} + n_{y}^{2} + t^{2}} t^{2} e^{t}}\\,{d t} + \\int_{0}^{+\\infty} -\\frac{t^{2}}{\\sqrt{n_{x}^{2} + n_{y}^{2} + t^{2}} a^{2} k_{m}^{2} e^{t} + \\pi^{2} \\sqrt{n_{x}^{2} + n_{y}^{2} + t^{2}} t^{2} e^{t}}\\,{d t}\\right)} \\\\\n",
       "\\frac{2}{3} \\, a^{2} k_{m}^{2} {\\left(\\int_{0}^{+\\infty} \\frac{32 \\, t^{6}}{\\sqrt{n_{x}^{2} + n_{y}^{2} + t^{2}} a^{2} k_{m}^{2} e^{t} + \\pi^{2} \\sqrt{n_{x}^{2} + n_{y}^{2} + t^{2}} t^{2} e^{t}}\\,{d t} + \\int_{0}^{+\\infty} -\\frac{128 \\, t^{5}}{\\sqrt{n_{x}^{2} + n_{y}^{2} + t^{2}} a^{2} k_{m}^{2} e^{t} + \\pi^{2} \\sqrt{n_{x}^{2} + n_{y}^{2} + t^{2}} t^{2} e^{t}}\\,{d t} + \\int_{0}^{+\\infty} \\frac{144 \\, t^{4}}{\\sqrt{n_{x}^{2} + n_{y}^{2} + t^{2}} a^{2} k_{m}^{2} e^{t} + \\pi^{2} \\sqrt{n_{x}^{2} + n_{y}^{2} + t^{2}} t^{2} e^{t}}\\,{d t} + \\int_{0}^{+\\infty} -\\frac{48 \\, t^{3}}{\\sqrt{n_{x}^{2} + n_{y}^{2} + t^{2}} a^{2} k_{m}^{2} e^{t} + \\pi^{2} \\sqrt{n_{x}^{2} + n_{y}^{2} + t^{2}} t^{2} e^{t}}\\,{d t} + \\int_{0}^{+\\infty} \\frac{3 \\, t^{2}}{\\sqrt{n_{x}^{2} + n_{y}^{2} + t^{2}} a^{2} k_{m}^{2} e^{t} + \\pi^{2} \\sqrt{n_{x}^{2} + n_{y}^{2} + t^{2}} t^{2} e^{t}}\\,{d t}\\right)} & -\\frac{2}{3} \\, a^{2} k_{m}^{2} {\\left(\\int_{0}^{+\\infty} \\frac{32 \\, t^{5}}{\\sqrt{n_{x}^{2} + n_{y}^{2} + t^{2}} a^{2} k_{m}^{2} e^{t} + \\pi^{2} \\sqrt{n_{x}^{2} + n_{y}^{2} + t^{2}} t^{2} e^{t}}\\,{d t} + \\int_{0}^{+\\infty} -\\frac{72 \\, t^{4}}{\\sqrt{n_{x}^{2} + n_{y}^{2} + t^{2}} a^{2} k_{m}^{2} e^{t} + \\pi^{2} \\sqrt{n_{x}^{2} + n_{y}^{2} + t^{2}} t^{2} e^{t}}\\,{d t} + \\int_{0}^{+\\infty} \\frac{36 \\, t^{3}}{\\sqrt{n_{x}^{2} + n_{y}^{2} + t^{2}} a^{2} k_{m}^{2} e^{t} + \\pi^{2} \\sqrt{n_{x}^{2} + n_{y}^{2} + t^{2}} t^{2} e^{t}}\\,{d t} + \\int_{0}^{+\\infty} -\\frac{3 \\, t^{2}}{\\sqrt{n_{x}^{2} + n_{y}^{2} + t^{2}} a^{2} k_{m}^{2} e^{t} + \\pi^{2} \\sqrt{n_{x}^{2} + n_{y}^{2} + t^{2}} t^{2} e^{t}}\\,{d t}\\right)} & 2 \\, a^{2} k_{m}^{2} {\\left(\\int_{0}^{+\\infty} \\frac{8 \\, t^{4}}{\\sqrt{n_{x}^{2} + n_{y}^{2} + t^{2}} a^{2} k_{m}^{2} e^{t} + \\pi^{2} \\sqrt{n_{x}^{2} + n_{y}^{2} + t^{2}} t^{2} e^{t}}\\,{d t} + \\int_{0}^{+\\infty} -\\frac{8 \\, t^{3}}{\\sqrt{n_{x}^{2} + n_{y}^{2} + t^{2}} a^{2} k_{m}^{2} e^{t} + \\pi^{2} \\sqrt{n_{x}^{2} + n_{y}^{2} + t^{2}} t^{2} e^{t}}\\,{d t} + \\int_{0}^{+\\infty} \\frac{t^{2}}{\\sqrt{n_{x}^{2} + n_{y}^{2} + t^{2}} a^{2} k_{m}^{2} e^{t} + \\pi^{2} \\sqrt{n_{x}^{2} + n_{y}^{2} + t^{2}} t^{2} e^{t}}\\,{d t}\\right)}\n",
       "\\end{array}\\right)$"
      ],
      "text/plain": [
       "<IPython.core.display.Math object>"
      ]
     },
     "metadata": {},
     "output_type": "display_data"
    },
    {
     "name": "stdout",
     "output_type": "stream",
     "text": [
      "det_M_Q\n"
     ]
    },
    {
     "data": {
      "text/latex": [
       "$\\displaystyle \\frac{8}{3} \\, {\\left(a^{4} k_{m}^{4} {\\left(\\int_{0}^{+\\infty} \\frac{4 \\, t^{3}}{\\sqrt{n_{x}^{2} + n_{y}^{2} + t^{2}} a^{2} k_{m}^{2} e^{t} + \\pi^{2} \\sqrt{n_{x}^{2} + n_{y}^{2} + t^{2}} t^{2} e^{t}}\\,{d t} + \\int_{0}^{+\\infty} -\\frac{t^{2}}{\\sqrt{n_{x}^{2} + n_{y}^{2} + t^{2}} a^{2} k_{m}^{2} e^{t} + \\pi^{2} \\sqrt{n_{x}^{2} + n_{y}^{2} + t^{2}} t^{2} e^{t}}\\,{d t}\\right)}^{2} - a^{4} k_{m}^{4} {\\left(\\int_{0}^{+\\infty} \\frac{8 \\, t^{4}}{\\sqrt{n_{x}^{2} + n_{y}^{2} + t^{2}} a^{2} k_{m}^{2} e^{t} + \\pi^{2} \\sqrt{n_{x}^{2} + n_{y}^{2} + t^{2}} t^{2} e^{t}}\\,{d t} + \\int_{0}^{+\\infty} -\\frac{8 \\, t^{3}}{\\sqrt{n_{x}^{2} + n_{y}^{2} + t^{2}} a^{2} k_{m}^{2} e^{t} + \\pi^{2} \\sqrt{n_{x}^{2} + n_{y}^{2} + t^{2}} t^{2} e^{t}}\\,{d t} + \\int_{0}^{+\\infty} \\frac{t^{2}}{\\sqrt{n_{x}^{2} + n_{y}^{2} + t^{2}} a^{2} k_{m}^{2} e^{t} + \\pi^{2} \\sqrt{n_{x}^{2} + n_{y}^{2} + t^{2}} t^{2} e^{t}}\\,{d t}\\right)} \\int_{0}^{+\\infty} \\frac{t^{2}}{\\sqrt{n_{x}^{2} + n_{y}^{2} + t^{2}} a^{2} k_{m}^{2} e^{t} + \\pi^{2} \\sqrt{n_{x}^{2} + n_{y}^{2} + t^{2}} t^{2} e^{t}}\\,{d t}\\right)} a^{2} k_{m}^{2} {\\left(\\int_{0}^{+\\infty} \\frac{32 \\, t^{6}}{\\sqrt{n_{x}^{2} + n_{y}^{2} + t^{2}} a^{2} k_{m}^{2} e^{t} + \\pi^{2} \\sqrt{n_{x}^{2} + n_{y}^{2} + t^{2}} t^{2} e^{t}}\\,{d t} + \\int_{0}^{+\\infty} -\\frac{128 \\, t^{5}}{\\sqrt{n_{x}^{2} + n_{y}^{2} + t^{2}} a^{2} k_{m}^{2} e^{t} + \\pi^{2} \\sqrt{n_{x}^{2} + n_{y}^{2} + t^{2}} t^{2} e^{t}}\\,{d t} + \\int_{0}^{+\\infty} \\frac{144 \\, t^{4}}{\\sqrt{n_{x}^{2} + n_{y}^{2} + t^{2}} a^{2} k_{m}^{2} e^{t} + \\pi^{2} \\sqrt{n_{x}^{2} + n_{y}^{2} + t^{2}} t^{2} e^{t}}\\,{d t} + \\int_{0}^{+\\infty} -\\frac{48 \\, t^{3}}{\\sqrt{n_{x}^{2} + n_{y}^{2} + t^{2}} a^{2} k_{m}^{2} e^{t} + \\pi^{2} \\sqrt{n_{x}^{2} + n_{y}^{2} + t^{2}} t^{2} e^{t}}\\,{d t} + \\int_{0}^{+\\infty} \\frac{3 \\, t^{2}}{\\sqrt{n_{x}^{2} + n_{y}^{2} + t^{2}} a^{2} k_{m}^{2} e^{t} + \\pi^{2} \\sqrt{n_{x}^{2} + n_{y}^{2} + t^{2}} t^{2} e^{t}}\\,{d t}\\right)} - \\frac{8}{9} \\, {\\left(3 \\, a^{4} k_{m}^{4} {\\left(\\int_{0}^{+\\infty} \\frac{8 \\, t^{4}}{\\sqrt{n_{x}^{2} + n_{y}^{2} + t^{2}} a^{2} k_{m}^{2} e^{t} + \\pi^{2} \\sqrt{n_{x}^{2} + n_{y}^{2} + t^{2}} t^{2} e^{t}}\\,{d t} + \\int_{0}^{+\\infty} -\\frac{8 \\, t^{3}}{\\sqrt{n_{x}^{2} + n_{y}^{2} + t^{2}} a^{2} k_{m}^{2} e^{t} + \\pi^{2} \\sqrt{n_{x}^{2} + n_{y}^{2} + t^{2}} t^{2} e^{t}}\\,{d t} + \\int_{0}^{+\\infty} \\frac{t^{2}}{\\sqrt{n_{x}^{2} + n_{y}^{2} + t^{2}} a^{2} k_{m}^{2} e^{t} + \\pi^{2} \\sqrt{n_{x}^{2} + n_{y}^{2} + t^{2}} t^{2} e^{t}}\\,{d t}\\right)} {\\left(\\int_{0}^{+\\infty} \\frac{4 \\, t^{3}}{\\sqrt{n_{x}^{2} + n_{y}^{2} + t^{2}} a^{2} k_{m}^{2} e^{t} + \\pi^{2} \\sqrt{n_{x}^{2} + n_{y}^{2} + t^{2}} t^{2} e^{t}}\\,{d t} + \\int_{0}^{+\\infty} -\\frac{t^{2}}{\\sqrt{n_{x}^{2} + n_{y}^{2} + t^{2}} a^{2} k_{m}^{2} e^{t} + \\pi^{2} \\sqrt{n_{x}^{2} + n_{y}^{2} + t^{2}} t^{2} e^{t}}\\,{d t}\\right)} - a^{4} k_{m}^{4} {\\left(\\int_{0}^{+\\infty} \\frac{32 \\, t^{5}}{\\sqrt{n_{x}^{2} + n_{y}^{2} + t^{2}} a^{2} k_{m}^{2} e^{t} + \\pi^{2} \\sqrt{n_{x}^{2} + n_{y}^{2} + t^{2}} t^{2} e^{t}}\\,{d t} + \\int_{0}^{+\\infty} -\\frac{72 \\, t^{4}}{\\sqrt{n_{x}^{2} + n_{y}^{2} + t^{2}} a^{2} k_{m}^{2} e^{t} + \\pi^{2} \\sqrt{n_{x}^{2} + n_{y}^{2} + t^{2}} t^{2} e^{t}}\\,{d t} + \\int_{0}^{+\\infty} \\frac{36 \\, t^{3}}{\\sqrt{n_{x}^{2} + n_{y}^{2} + t^{2}} a^{2} k_{m}^{2} e^{t} + \\pi^{2} \\sqrt{n_{x}^{2} + n_{y}^{2} + t^{2}} t^{2} e^{t}}\\,{d t} + \\int_{0}^{+\\infty} -\\frac{3 \\, t^{2}}{\\sqrt{n_{x}^{2} + n_{y}^{2} + t^{2}} a^{2} k_{m}^{2} e^{t} + \\pi^{2} \\sqrt{n_{x}^{2} + n_{y}^{2} + t^{2}} t^{2} e^{t}}\\,{d t}\\right)} \\int_{0}^{+\\infty} \\frac{t^{2}}{\\sqrt{n_{x}^{2} + n_{y}^{2} + t^{2}} a^{2} k_{m}^{2} e^{t} + \\pi^{2} \\sqrt{n_{x}^{2} + n_{y}^{2} + t^{2}} t^{2} e^{t}}\\,{d t}\\right)} a^{2} k_{m}^{2} {\\left(\\int_{0}^{+\\infty} \\frac{32 \\, t^{5}}{\\sqrt{n_{x}^{2} + n_{y}^{2} + t^{2}} a^{2} k_{m}^{2} e^{t} + \\pi^{2} \\sqrt{n_{x}^{2} + n_{y}^{2} + t^{2}} t^{2} e^{t}}\\,{d t} + \\int_{0}^{+\\infty} -\\frac{72 \\, t^{4}}{\\sqrt{n_{x}^{2} + n_{y}^{2} + t^{2}} a^{2} k_{m}^{2} e^{t} + \\pi^{2} \\sqrt{n_{x}^{2} + n_{y}^{2} + t^{2}} t^{2} e^{t}}\\,{d t} + \\int_{0}^{+\\infty} \\frac{36 \\, t^{3}}{\\sqrt{n_{x}^{2} + n_{y}^{2} + t^{2}} a^{2} k_{m}^{2} e^{t} + \\pi^{2} \\sqrt{n_{x}^{2} + n_{y}^{2} + t^{2}} t^{2} e^{t}}\\,{d t} + \\int_{0}^{+\\infty} -\\frac{3 \\, t^{2}}{\\sqrt{n_{x}^{2} + n_{y}^{2} + t^{2}} a^{2} k_{m}^{2} e^{t} + \\pi^{2} \\sqrt{n_{x}^{2} + n_{y}^{2} + t^{2}} t^{2} e^{t}}\\,{d t}\\right)} + \\frac{8}{3} \\, {\\left(3 \\, a^{4} k_{m}^{4} {\\left(\\int_{0}^{+\\infty} \\frac{8 \\, t^{4}}{\\sqrt{n_{x}^{2} + n_{y}^{2} + t^{2}} a^{2} k_{m}^{2} e^{t} + \\pi^{2} \\sqrt{n_{x}^{2} + n_{y}^{2} + t^{2}} t^{2} e^{t}}\\,{d t} + \\int_{0}^{+\\infty} -\\frac{8 \\, t^{3}}{\\sqrt{n_{x}^{2} + n_{y}^{2} + t^{2}} a^{2} k_{m}^{2} e^{t} + \\pi^{2} \\sqrt{n_{x}^{2} + n_{y}^{2} + t^{2}} t^{2} e^{t}}\\,{d t} + \\int_{0}^{+\\infty} \\frac{t^{2}}{\\sqrt{n_{x}^{2} + n_{y}^{2} + t^{2}} a^{2} k_{m}^{2} e^{t} + \\pi^{2} \\sqrt{n_{x}^{2} + n_{y}^{2} + t^{2}} t^{2} e^{t}}\\,{d t}\\right)}^{2} - a^{4} k_{m}^{4} {\\left(\\int_{0}^{+\\infty} \\frac{32 \\, t^{5}}{\\sqrt{n_{x}^{2} + n_{y}^{2} + t^{2}} a^{2} k_{m}^{2} e^{t} + \\pi^{2} \\sqrt{n_{x}^{2} + n_{y}^{2} + t^{2}} t^{2} e^{t}}\\,{d t} + \\int_{0}^{+\\infty} -\\frac{72 \\, t^{4}}{\\sqrt{n_{x}^{2} + n_{y}^{2} + t^{2}} a^{2} k_{m}^{2} e^{t} + \\pi^{2} \\sqrt{n_{x}^{2} + n_{y}^{2} + t^{2}} t^{2} e^{t}}\\,{d t} + \\int_{0}^{+\\infty} \\frac{36 \\, t^{3}}{\\sqrt{n_{x}^{2} + n_{y}^{2} + t^{2}} a^{2} k_{m}^{2} e^{t} + \\pi^{2} \\sqrt{n_{x}^{2} + n_{y}^{2} + t^{2}} t^{2} e^{t}}\\,{d t} + \\int_{0}^{+\\infty} -\\frac{3 \\, t^{2}}{\\sqrt{n_{x}^{2} + n_{y}^{2} + t^{2}} a^{2} k_{m}^{2} e^{t} + \\pi^{2} \\sqrt{n_{x}^{2} + n_{y}^{2} + t^{2}} t^{2} e^{t}}\\,{d t}\\right)} {\\left(\\int_{0}^{+\\infty} \\frac{4 \\, t^{3}}{\\sqrt{n_{x}^{2} + n_{y}^{2} + t^{2}} a^{2} k_{m}^{2} e^{t} + \\pi^{2} \\sqrt{n_{x}^{2} + n_{y}^{2} + t^{2}} t^{2} e^{t}}\\,{d t} + \\int_{0}^{+\\infty} -\\frac{t^{2}}{\\sqrt{n_{x}^{2} + n_{y}^{2} + t^{2}} a^{2} k_{m}^{2} e^{t} + \\pi^{2} \\sqrt{n_{x}^{2} + n_{y}^{2} + t^{2}} t^{2} e^{t}}\\,{d t}\\right)}\\right)} a^{2} k_{m}^{2} {\\left(\\int_{0}^{+\\infty} \\frac{8 \\, t^{4}}{\\sqrt{n_{x}^{2} + n_{y}^{2} + t^{2}} a^{2} k_{m}^{2} e^{t} + \\pi^{2} \\sqrt{n_{x}^{2} + n_{y}^{2} + t^{2}} t^{2} e^{t}}\\,{d t} + \\int_{0}^{+\\infty} -\\frac{8 \\, t^{3}}{\\sqrt{n_{x}^{2} + n_{y}^{2} + t^{2}} a^{2} k_{m}^{2} e^{t} + \\pi^{2} \\sqrt{n_{x}^{2} + n_{y}^{2} + t^{2}} t^{2} e^{t}}\\,{d t} + \\int_{0}^{+\\infty} \\frac{t^{2}}{\\sqrt{n_{x}^{2} + n_{y}^{2} + t^{2}} a^{2} k_{m}^{2} e^{t} + \\pi^{2} \\sqrt{n_{x}^{2} + n_{y}^{2} + t^{2}} t^{2} e^{t}}\\,{d t}\\right)}$"
      ],
      "text/plain": [
       "<IPython.core.display.Math object>"
      ]
     },
     "metadata": {},
     "output_type": "display_data"
    },
    {
     "name": "stdout",
     "output_type": "stream",
     "text": [
      "n 3\n",
      "M_Q\n"
     ]
    },
    {
     "data": {
      "text/latex": [
       "$\\displaystyle \\left(\\begin{array}{rrrr}\n",
       "-\\frac{2}{3} \\, a^{2} k_{m}^{2} {\\left(\\int_{0}^{+\\infty} \\frac{32 \\, t^{5}}{\\sqrt{n_{x}^{2} + n_{y}^{2} + t^{2}} a^{2} k_{m}^{2} e^{t} + \\pi^{2} \\sqrt{n_{x}^{2} + n_{y}^{2} + t^{2}} t^{2} e^{t}}\\,{d t} + \\int_{0}^{+\\infty} -\\frac{72 \\, t^{4}}{\\sqrt{n_{x}^{2} + n_{y}^{2} + t^{2}} a^{2} k_{m}^{2} e^{t} + \\pi^{2} \\sqrt{n_{x}^{2} + n_{y}^{2} + t^{2}} t^{2} e^{t}}\\,{d t} + \\int_{0}^{+\\infty} \\frac{36 \\, t^{3}}{\\sqrt{n_{x}^{2} + n_{y}^{2} + t^{2}} a^{2} k_{m}^{2} e^{t} + \\pi^{2} \\sqrt{n_{x}^{2} + n_{y}^{2} + t^{2}} t^{2} e^{t}}\\,{d t} + \\int_{0}^{+\\infty} -\\frac{3 \\, t^{2}}{\\sqrt{n_{x}^{2} + n_{y}^{2} + t^{2}} a^{2} k_{m}^{2} e^{t} + \\pi^{2} \\sqrt{n_{x}^{2} + n_{y}^{2} + t^{2}} t^{2} e^{t}}\\,{d t}\\right)} & 2 \\, a^{2} k_{m}^{2} {\\left(\\int_{0}^{+\\infty} \\frac{8 \\, t^{4}}{\\sqrt{n_{x}^{2} + n_{y}^{2} + t^{2}} a^{2} k_{m}^{2} e^{t} + \\pi^{2} \\sqrt{n_{x}^{2} + n_{y}^{2} + t^{2}} t^{2} e^{t}}\\,{d t} + \\int_{0}^{+\\infty} -\\frac{8 \\, t^{3}}{\\sqrt{n_{x}^{2} + n_{y}^{2} + t^{2}} a^{2} k_{m}^{2} e^{t} + \\pi^{2} \\sqrt{n_{x}^{2} + n_{y}^{2} + t^{2}} t^{2} e^{t}}\\,{d t} + \\int_{0}^{+\\infty} \\frac{t^{2}}{\\sqrt{n_{x}^{2} + n_{y}^{2} + t^{2}} a^{2} k_{m}^{2} e^{t} + \\pi^{2} \\sqrt{n_{x}^{2} + n_{y}^{2} + t^{2}} t^{2} e^{t}}\\,{d t}\\right)} & -2 \\, a^{2} k_{m}^{2} {\\left(\\int_{0}^{+\\infty} \\frac{4 \\, t^{3}}{\\sqrt{n_{x}^{2} + n_{y}^{2} + t^{2}} a^{2} k_{m}^{2} e^{t} + \\pi^{2} \\sqrt{n_{x}^{2} + n_{y}^{2} + t^{2}} t^{2} e^{t}}\\,{d t} + \\int_{0}^{+\\infty} -\\frac{t^{2}}{\\sqrt{n_{x}^{2} + n_{y}^{2} + t^{2}} a^{2} k_{m}^{2} e^{t} + \\pi^{2} \\sqrt{n_{x}^{2} + n_{y}^{2} + t^{2}} t^{2} e^{t}}\\,{d t}\\right)} & 2 \\, a^{2} k_{m}^{2} \\int_{0}^{+\\infty} \\frac{t^{2}}{\\sqrt{n_{x}^{2} + n_{y}^{2} + t^{2}} a^{2} k_{m}^{2} e^{t} + \\pi^{2} \\sqrt{n_{x}^{2} + n_{y}^{2} + t^{2}} t^{2} e^{t}}\\,{d t} \\\\\n",
       "\\frac{2}{3} \\, a^{2} k_{m}^{2} {\\left(\\int_{0}^{+\\infty} \\frac{32 \\, t^{6}}{\\sqrt{n_{x}^{2} + n_{y}^{2} + t^{2}} a^{2} k_{m}^{2} e^{t} + \\pi^{2} \\sqrt{n_{x}^{2} + n_{y}^{2} + t^{2}} t^{2} e^{t}}\\,{d t} + \\int_{0}^{+\\infty} -\\frac{128 \\, t^{5}}{\\sqrt{n_{x}^{2} + n_{y}^{2} + t^{2}} a^{2} k_{m}^{2} e^{t} + \\pi^{2} \\sqrt{n_{x}^{2} + n_{y}^{2} + t^{2}} t^{2} e^{t}}\\,{d t} + \\int_{0}^{+\\infty} \\frac{144 \\, t^{4}}{\\sqrt{n_{x}^{2} + n_{y}^{2} + t^{2}} a^{2} k_{m}^{2} e^{t} + \\pi^{2} \\sqrt{n_{x}^{2} + n_{y}^{2} + t^{2}} t^{2} e^{t}}\\,{d t} + \\int_{0}^{+\\infty} -\\frac{48 \\, t^{3}}{\\sqrt{n_{x}^{2} + n_{y}^{2} + t^{2}} a^{2} k_{m}^{2} e^{t} + \\pi^{2} \\sqrt{n_{x}^{2} + n_{y}^{2} + t^{2}} t^{2} e^{t}}\\,{d t} + \\int_{0}^{+\\infty} \\frac{3 \\, t^{2}}{\\sqrt{n_{x}^{2} + n_{y}^{2} + t^{2}} a^{2} k_{m}^{2} e^{t} + \\pi^{2} \\sqrt{n_{x}^{2} + n_{y}^{2} + t^{2}} t^{2} e^{t}}\\,{d t}\\right)} & -\\frac{2}{3} \\, a^{2} k_{m}^{2} {\\left(\\int_{0}^{+\\infty} \\frac{32 \\, t^{5}}{\\sqrt{n_{x}^{2} + n_{y}^{2} + t^{2}} a^{2} k_{m}^{2} e^{t} + \\pi^{2} \\sqrt{n_{x}^{2} + n_{y}^{2} + t^{2}} t^{2} e^{t}}\\,{d t} + \\int_{0}^{+\\infty} -\\frac{72 \\, t^{4}}{\\sqrt{n_{x}^{2} + n_{y}^{2} + t^{2}} a^{2} k_{m}^{2} e^{t} + \\pi^{2} \\sqrt{n_{x}^{2} + n_{y}^{2} + t^{2}} t^{2} e^{t}}\\,{d t} + \\int_{0}^{+\\infty} \\frac{36 \\, t^{3}}{\\sqrt{n_{x}^{2} + n_{y}^{2} + t^{2}} a^{2} k_{m}^{2} e^{t} + \\pi^{2} \\sqrt{n_{x}^{2} + n_{y}^{2} + t^{2}} t^{2} e^{t}}\\,{d t} + \\int_{0}^{+\\infty} -\\frac{3 \\, t^{2}}{\\sqrt{n_{x}^{2} + n_{y}^{2} + t^{2}} a^{2} k_{m}^{2} e^{t} + \\pi^{2} \\sqrt{n_{x}^{2} + n_{y}^{2} + t^{2}} t^{2} e^{t}}\\,{d t}\\right)} & 2 \\, a^{2} k_{m}^{2} {\\left(\\int_{0}^{+\\infty} \\frac{8 \\, t^{4}}{\\sqrt{n_{x}^{2} + n_{y}^{2} + t^{2}} a^{2} k_{m}^{2} e^{t} + \\pi^{2} \\sqrt{n_{x}^{2} + n_{y}^{2} + t^{2}} t^{2} e^{t}}\\,{d t} + \\int_{0}^{+\\infty} -\\frac{8 \\, t^{3}}{\\sqrt{n_{x}^{2} + n_{y}^{2} + t^{2}} a^{2} k_{m}^{2} e^{t} + \\pi^{2} \\sqrt{n_{x}^{2} + n_{y}^{2} + t^{2}} t^{2} e^{t}}\\,{d t} + \\int_{0}^{+\\infty} \\frac{t^{2}}{\\sqrt{n_{x}^{2} + n_{y}^{2} + t^{2}} a^{2} k_{m}^{2} e^{t} + \\pi^{2} \\sqrt{n_{x}^{2} + n_{y}^{2} + t^{2}} t^{2} e^{t}}\\,{d t}\\right)} & -2 \\, a^{2} k_{m}^{2} {\\left(\\int_{0}^{+\\infty} \\frac{4 \\, t^{3}}{\\sqrt{n_{x}^{2} + n_{y}^{2} + t^{2}} a^{2} k_{m}^{2} e^{t} + \\pi^{2} \\sqrt{n_{x}^{2} + n_{y}^{2} + t^{2}} t^{2} e^{t}}\\,{d t} + \\int_{0}^{+\\infty} -\\frac{t^{2}}{\\sqrt{n_{x}^{2} + n_{y}^{2} + t^{2}} a^{2} k_{m}^{2} e^{t} + \\pi^{2} \\sqrt{n_{x}^{2} + n_{y}^{2} + t^{2}} t^{2} e^{t}}\\,{d t}\\right)} \\\\\n",
       "-\\frac{2}{15} \\, a^{2} k_{m}^{2} {\\left(\\int_{0}^{+\\infty} \\frac{128 \\, t^{7}}{\\sqrt{n_{x}^{2} + n_{y}^{2} + t^{2}} a^{2} k_{m}^{2} e^{t} + \\pi^{2} \\sqrt{n_{x}^{2} + n_{y}^{2} + t^{2}} t^{2} e^{t}}\\,{d t} + \\int_{0}^{+\\infty} -\\frac{800 \\, t^{6}}{\\sqrt{n_{x}^{2} + n_{y}^{2} + t^{2}} a^{2} k_{m}^{2} e^{t} + \\pi^{2} \\sqrt{n_{x}^{2} + n_{y}^{2} + t^{2}} t^{2} e^{t}}\\,{d t} + \\int_{0}^{+\\infty} \\frac{1600 \\, t^{5}}{\\sqrt{n_{x}^{2} + n_{y}^{2} + t^{2}} a^{2} k_{m}^{2} e^{t} + \\pi^{2} \\sqrt{n_{x}^{2} + n_{y}^{2} + t^{2}} t^{2} e^{t}}\\,{d t} + \\int_{0}^{+\\infty} -\\frac{1200 \\, t^{4}}{\\sqrt{n_{x}^{2} + n_{y}^{2} + t^{2}} a^{2} k_{m}^{2} e^{t} + \\pi^{2} \\sqrt{n_{x}^{2} + n_{y}^{2} + t^{2}} t^{2} e^{t}}\\,{d t} + \\int_{0}^{+\\infty} \\frac{300 \\, t^{3}}{\\sqrt{n_{x}^{2} + n_{y}^{2} + t^{2}} a^{2} k_{m}^{2} e^{t} + \\pi^{2} \\sqrt{n_{x}^{2} + n_{y}^{2} + t^{2}} t^{2} e^{t}}\\,{d t} + \\int_{0}^{+\\infty} -\\frac{15 \\, t^{2}}{\\sqrt{n_{x}^{2} + n_{y}^{2} + t^{2}} a^{2} k_{m}^{2} e^{t} + \\pi^{2} \\sqrt{n_{x}^{2} + n_{y}^{2} + t^{2}} t^{2} e^{t}}\\,{d t}\\right)} & \\frac{2}{3} \\, a^{2} k_{m}^{2} {\\left(\\int_{0}^{+\\infty} \\frac{32 \\, t^{6}}{\\sqrt{n_{x}^{2} + n_{y}^{2} + t^{2}} a^{2} k_{m}^{2} e^{t} + \\pi^{2} \\sqrt{n_{x}^{2} + n_{y}^{2} + t^{2}} t^{2} e^{t}}\\,{d t} + \\int_{0}^{+\\infty} -\\frac{128 \\, t^{5}}{\\sqrt{n_{x}^{2} + n_{y}^{2} + t^{2}} a^{2} k_{m}^{2} e^{t} + \\pi^{2} \\sqrt{n_{x}^{2} + n_{y}^{2} + t^{2}} t^{2} e^{t}}\\,{d t} + \\int_{0}^{+\\infty} \\frac{144 \\, t^{4}}{\\sqrt{n_{x}^{2} + n_{y}^{2} + t^{2}} a^{2} k_{m}^{2} e^{t} + \\pi^{2} \\sqrt{n_{x}^{2} + n_{y}^{2} + t^{2}} t^{2} e^{t}}\\,{d t} + \\int_{0}^{+\\infty} -\\frac{48 \\, t^{3}}{\\sqrt{n_{x}^{2} + n_{y}^{2} + t^{2}} a^{2} k_{m}^{2} e^{t} + \\pi^{2} \\sqrt{n_{x}^{2} + n_{y}^{2} + t^{2}} t^{2} e^{t}}\\,{d t} + \\int_{0}^{+\\infty} \\frac{3 \\, t^{2}}{\\sqrt{n_{x}^{2} + n_{y}^{2} + t^{2}} a^{2} k_{m}^{2} e^{t} + \\pi^{2} \\sqrt{n_{x}^{2} + n_{y}^{2} + t^{2}} t^{2} e^{t}}\\,{d t}\\right)} & -\\frac{2}{3} \\, a^{2} k_{m}^{2} {\\left(\\int_{0}^{+\\infty} \\frac{32 \\, t^{5}}{\\sqrt{n_{x}^{2} + n_{y}^{2} + t^{2}} a^{2} k_{m}^{2} e^{t} + \\pi^{2} \\sqrt{n_{x}^{2} + n_{y}^{2} + t^{2}} t^{2} e^{t}}\\,{d t} + \\int_{0}^{+\\infty} -\\frac{72 \\, t^{4}}{\\sqrt{n_{x}^{2} + n_{y}^{2} + t^{2}} a^{2} k_{m}^{2} e^{t} + \\pi^{2} \\sqrt{n_{x}^{2} + n_{y}^{2} + t^{2}} t^{2} e^{t}}\\,{d t} + \\int_{0}^{+\\infty} \\frac{36 \\, t^{3}}{\\sqrt{n_{x}^{2} + n_{y}^{2} + t^{2}} a^{2} k_{m}^{2} e^{t} + \\pi^{2} \\sqrt{n_{x}^{2} + n_{y}^{2} + t^{2}} t^{2} e^{t}}\\,{d t} + \\int_{0}^{+\\infty} -\\frac{3 \\, t^{2}}{\\sqrt{n_{x}^{2} + n_{y}^{2} + t^{2}} a^{2} k_{m}^{2} e^{t} + \\pi^{2} \\sqrt{n_{x}^{2} + n_{y}^{2} + t^{2}} t^{2} e^{t}}\\,{d t}\\right)} & 2 \\, a^{2} k_{m}^{2} {\\left(\\int_{0}^{+\\infty} \\frac{8 \\, t^{4}}{\\sqrt{n_{x}^{2} + n_{y}^{2} + t^{2}} a^{2} k_{m}^{2} e^{t} + \\pi^{2} \\sqrt{n_{x}^{2} + n_{y}^{2} + t^{2}} t^{2} e^{t}}\\,{d t} + \\int_{0}^{+\\infty} -\\frac{8 \\, t^{3}}{\\sqrt{n_{x}^{2} + n_{y}^{2} + t^{2}} a^{2} k_{m}^{2} e^{t} + \\pi^{2} \\sqrt{n_{x}^{2} + n_{y}^{2} + t^{2}} t^{2} e^{t}}\\,{d t} + \\int_{0}^{+\\infty} \\frac{t^{2}}{\\sqrt{n_{x}^{2} + n_{y}^{2} + t^{2}} a^{2} k_{m}^{2} e^{t} + \\pi^{2} \\sqrt{n_{x}^{2} + n_{y}^{2} + t^{2}} t^{2} e^{t}}\\,{d t}\\right)} \\\\\n",
       "\\frac{2}{45} \\, a^{2} k_{m}^{2} {\\left(\\int_{0}^{+\\infty} \\frac{256 \\, t^{8}}{\\sqrt{n_{x}^{2} + n_{y}^{2} + t^{2}} a^{2} k_{m}^{2} e^{t} + \\pi^{2} \\sqrt{n_{x}^{2} + n_{y}^{2} + t^{2}} t^{2} e^{t}}\\,{d t} + \\int_{0}^{+\\infty} -\\frac{2304 \\, t^{7}}{\\sqrt{n_{x}^{2} + n_{y}^{2} + t^{2}} a^{2} k_{m}^{2} e^{t} + \\pi^{2} \\sqrt{n_{x}^{2} + n_{y}^{2} + t^{2}} t^{2} e^{t}}\\,{d t} + \\int_{0}^{+\\infty} \\frac{7200 \\, t^{6}}{\\sqrt{n_{x}^{2} + n_{y}^{2} + t^{2}} a^{2} k_{m}^{2} e^{t} + \\pi^{2} \\sqrt{n_{x}^{2} + n_{y}^{2} + t^{2}} t^{2} e^{t}}\\,{d t} + \\int_{0}^{+\\infty} -\\frac{9600 \\, t^{5}}{\\sqrt{n_{x}^{2} + n_{y}^{2} + t^{2}} a^{2} k_{m}^{2} e^{t} + \\pi^{2} \\sqrt{n_{x}^{2} + n_{y}^{2} + t^{2}} t^{2} e^{t}}\\,{d t} + \\int_{0}^{+\\infty} \\frac{5400 \\, t^{4}}{\\sqrt{n_{x}^{2} + n_{y}^{2} + t^{2}} a^{2} k_{m}^{2} e^{t} + \\pi^{2} \\sqrt{n_{x}^{2} + n_{y}^{2} + t^{2}} t^{2} e^{t}}\\,{d t} + \\int_{0}^{+\\infty} -\\frac{1080 \\, t^{3}}{\\sqrt{n_{x}^{2} + n_{y}^{2} + t^{2}} a^{2} k_{m}^{2} e^{t} + \\pi^{2} \\sqrt{n_{x}^{2} + n_{y}^{2} + t^{2}} t^{2} e^{t}}\\,{d t} + \\int_{0}^{+\\infty} \\frac{45 \\, t^{2}}{\\sqrt{n_{x}^{2} + n_{y}^{2} + t^{2}} a^{2} k_{m}^{2} e^{t} + \\pi^{2} \\sqrt{n_{x}^{2} + n_{y}^{2} + t^{2}} t^{2} e^{t}}\\,{d t}\\right)} & -\\frac{2}{15} \\, a^{2} k_{m}^{2} {\\left(\\int_{0}^{+\\infty} \\frac{128 \\, t^{7}}{\\sqrt{n_{x}^{2} + n_{y}^{2} + t^{2}} a^{2} k_{m}^{2} e^{t} + \\pi^{2} \\sqrt{n_{x}^{2} + n_{y}^{2} + t^{2}} t^{2} e^{t}}\\,{d t} + \\int_{0}^{+\\infty} -\\frac{800 \\, t^{6}}{\\sqrt{n_{x}^{2} + n_{y}^{2} + t^{2}} a^{2} k_{m}^{2} e^{t} + \\pi^{2} \\sqrt{n_{x}^{2} + n_{y}^{2} + t^{2}} t^{2} e^{t}}\\,{d t} + \\int_{0}^{+\\infty} \\frac{1600 \\, t^{5}}{\\sqrt{n_{x}^{2} + n_{y}^{2} + t^{2}} a^{2} k_{m}^{2} e^{t} + \\pi^{2} \\sqrt{n_{x}^{2} + n_{y}^{2} + t^{2}} t^{2} e^{t}}\\,{d t} + \\int_{0}^{+\\infty} -\\frac{1200 \\, t^{4}}{\\sqrt{n_{x}^{2} + n_{y}^{2} + t^{2}} a^{2} k_{m}^{2} e^{t} + \\pi^{2} \\sqrt{n_{x}^{2} + n_{y}^{2} + t^{2}} t^{2} e^{t}}\\,{d t} + \\int_{0}^{+\\infty} \\frac{300 \\, t^{3}}{\\sqrt{n_{x}^{2} + n_{y}^{2} + t^{2}} a^{2} k_{m}^{2} e^{t} + \\pi^{2} \\sqrt{n_{x}^{2} + n_{y}^{2} + t^{2}} t^{2} e^{t}}\\,{d t} + \\int_{0}^{+\\infty} -\\frac{15 \\, t^{2}}{\\sqrt{n_{x}^{2} + n_{y}^{2} + t^{2}} a^{2} k_{m}^{2} e^{t} + \\pi^{2} \\sqrt{n_{x}^{2} + n_{y}^{2} + t^{2}} t^{2} e^{t}}\\,{d t}\\right)} & \\frac{2}{3} \\, a^{2} k_{m}^{2} {\\left(\\int_{0}^{+\\infty} \\frac{32 \\, t^{6}}{\\sqrt{n_{x}^{2} + n_{y}^{2} + t^{2}} a^{2} k_{m}^{2} e^{t} + \\pi^{2} \\sqrt{n_{x}^{2} + n_{y}^{2} + t^{2}} t^{2} e^{t}}\\,{d t} + \\int_{0}^{+\\infty} -\\frac{128 \\, t^{5}}{\\sqrt{n_{x}^{2} + n_{y}^{2} + t^{2}} a^{2} k_{m}^{2} e^{t} + \\pi^{2} \\sqrt{n_{x}^{2} + n_{y}^{2} + t^{2}} t^{2} e^{t}}\\,{d t} + \\int_{0}^{+\\infty} \\frac{144 \\, t^{4}}{\\sqrt{n_{x}^{2} + n_{y}^{2} + t^{2}} a^{2} k_{m}^{2} e^{t} + \\pi^{2} \\sqrt{n_{x}^{2} + n_{y}^{2} + t^{2}} t^{2} e^{t}}\\,{d t} + \\int_{0}^{+\\infty} -\\frac{48 \\, t^{3}}{\\sqrt{n_{x}^{2} + n_{y}^{2} + t^{2}} a^{2} k_{m}^{2} e^{t} + \\pi^{2} \\sqrt{n_{x}^{2} + n_{y}^{2} + t^{2}} t^{2} e^{t}}\\,{d t} + \\int_{0}^{+\\infty} \\frac{3 \\, t^{2}}{\\sqrt{n_{x}^{2} + n_{y}^{2} + t^{2}} a^{2} k_{m}^{2} e^{t} + \\pi^{2} \\sqrt{n_{x}^{2} + n_{y}^{2} + t^{2}} t^{2} e^{t}}\\,{d t}\\right)} & -\\frac{2}{3} \\, a^{2} k_{m}^{2} {\\left(\\int_{0}^{+\\infty} \\frac{32 \\, t^{5}}{\\sqrt{n_{x}^{2} + n_{y}^{2} + t^{2}} a^{2} k_{m}^{2} e^{t} + \\pi^{2} \\sqrt{n_{x}^{2} + n_{y}^{2} + t^{2}} t^{2} e^{t}}\\,{d t} + \\int_{0}^{+\\infty} -\\frac{72 \\, t^{4}}{\\sqrt{n_{x}^{2} + n_{y}^{2} + t^{2}} a^{2} k_{m}^{2} e^{t} + \\pi^{2} \\sqrt{n_{x}^{2} + n_{y}^{2} + t^{2}} t^{2} e^{t}}\\,{d t} + \\int_{0}^{+\\infty} \\frac{36 \\, t^{3}}{\\sqrt{n_{x}^{2} + n_{y}^{2} + t^{2}} a^{2} k_{m}^{2} e^{t} + \\pi^{2} \\sqrt{n_{x}^{2} + n_{y}^{2} + t^{2}} t^{2} e^{t}}\\,{d t} + \\int_{0}^{+\\infty} -\\frac{3 \\, t^{2}}{\\sqrt{n_{x}^{2} + n_{y}^{2} + t^{2}} a^{2} k_{m}^{2} e^{t} + \\pi^{2} \\sqrt{n_{x}^{2} + n_{y}^{2} + t^{2}} t^{2} e^{t}}\\,{d t}\\right)}\n",
       "\\end{array}\\right)$"
      ],
      "text/plain": [
       "<IPython.core.display.Math object>"
      ]
     },
     "metadata": {},
     "output_type": "display_data"
    },
    {
     "name": "stderr",
     "output_type": "stream",
     "text": [
      "// Giac share root-directory:/usr3/articles/sagemath_docker_build/sage/local/share/giac/\n",
      "// Giac share root-directory:/usr3/articles/sagemath_docker_build/sage/local/share/giac/\n",
      "Help file /usr3/articles/sagemath_docker_build/sage/local/share/giac/doc/fr/aide_cas not found\n",
      "Added 0 synonyms\n"
     ]
    },
    {
     "name": "stdout",
     "output_type": "stream",
     "text": [
      "det_M_Q\n"
     ]
    },
    {
     "data": {
      "text/latex": [
       "$\\displaystyle \\frac{16777216}{81} \\, a^{8} k_{m}^{8} \\int_{0}^{+\\infty} \\frac{t^{5} e^{\\left(-t\\right)}}{{\\left(a^{2} k_{m}^{2} + \\pi^{2} t^{2}\\right)} \\sqrt{n_{x}^{2} + n_{y}^{2} + t^{2}}}\\,{d t}^{4} - \\frac{4194304}{9} \\, a^{8} k_{m}^{8} \\int_{0}^{+\\infty} \\frac{t^{6} e^{\\left(-t\\right)}}{{\\left(a^{2} k_{m}^{2} + \\pi^{2} t^{2}\\right)} \\sqrt{n_{x}^{2} + n_{y}^{2} + t^{2}}}\\,{d t} \\int_{0}^{+\\infty} \\frac{t^{5} e^{\\left(-t\\right)}}{{\\left(a^{2} k_{m}^{2} + \\pi^{2} t^{2}\\right)} \\sqrt{n_{x}^{2} + n_{y}^{2} + t^{2}}}\\,{d t}^{2} \\int_{0}^{+\\infty} \\frac{t^{4} e^{\\left(-t\\right)}}{{\\left(a^{2} k_{m}^{2} + \\pi^{2} t^{2}\\right)} \\sqrt{n_{x}^{2} + n_{y}^{2} + t^{2}}}\\,{d t} + \\frac{1048576}{9} \\, a^{8} k_{m}^{8} \\int_{0}^{+\\infty} \\frac{t^{6} e^{\\left(-t\\right)}}{{\\left(a^{2} k_{m}^{2} + \\pi^{2} t^{2}\\right)} \\sqrt{n_{x}^{2} + n_{y}^{2} + t^{2}}}\\,{d t}^{2} \\int_{0}^{+\\infty} \\frac{t^{4} e^{\\left(-t\\right)}}{{\\left(a^{2} k_{m}^{2} + \\pi^{2} t^{2}\\right)} \\sqrt{n_{x}^{2} + n_{y}^{2} + t^{2}}}\\,{d t}^{2} + \\frac{8388608}{45} \\, a^{8} k_{m}^{8} \\int_{0}^{+\\infty} \\frac{t^{7} e^{\\left(-t\\right)}}{{\\left(a^{2} k_{m}^{2} + \\pi^{2} t^{2}\\right)} \\sqrt{n_{x}^{2} + n_{y}^{2} + t^{2}}}\\,{d t} \\int_{0}^{+\\infty} \\frac{t^{5} e^{\\left(-t\\right)}}{{\\left(a^{2} k_{m}^{2} + \\pi^{2} t^{2}\\right)} \\sqrt{n_{x}^{2} + n_{y}^{2} + t^{2}}}\\,{d t} \\int_{0}^{+\\infty} \\frac{t^{4} e^{\\left(-t\\right)}}{{\\left(a^{2} k_{m}^{2} + \\pi^{2} t^{2}\\right)} \\sqrt{n_{x}^{2} + n_{y}^{2} + t^{2}}}\\,{d t}^{2} - \\frac{2097152}{45} \\, a^{8} k_{m}^{8} \\int_{0}^{+\\infty} \\frac{t^{8} e^{\\left(-t\\right)}}{{\\left(a^{2} k_{m}^{2} + \\pi^{2} t^{2}\\right)} \\sqrt{n_{x}^{2} + n_{y}^{2} + t^{2}}}\\,{d t} \\int_{0}^{+\\infty} \\frac{t^{4} e^{\\left(-t\\right)}}{{\\left(a^{2} k_{m}^{2} + \\pi^{2} t^{2}\\right)} \\sqrt{n_{x}^{2} + n_{y}^{2} + t^{2}}}\\,{d t}^{3} + \\frac{4194304}{27} \\, a^{8} k_{m}^{8} \\int_{0}^{+\\infty} \\frac{t^{6} e^{\\left(-t\\right)}}{{\\left(a^{2} k_{m}^{2} + \\pi^{2} t^{2}\\right)} \\sqrt{n_{x}^{2} + n_{y}^{2} + t^{2}}}\\,{d t}^{2} \\int_{0}^{+\\infty} \\frac{t^{5} e^{\\left(-t\\right)}}{{\\left(a^{2} k_{m}^{2} + \\pi^{2} t^{2}\\right)} \\sqrt{n_{x}^{2} + n_{y}^{2} + t^{2}}}\\,{d t} \\int_{0}^{+\\infty} \\frac{t^{3} e^{\\left(-t\\right)}}{{\\left(a^{2} k_{m}^{2} + \\pi^{2} t^{2}\\right)} \\sqrt{n_{x}^{2} + n_{y}^{2} + t^{2}}}\\,{d t} - \\frac{16777216}{135} \\, a^{8} k_{m}^{8} \\int_{0}^{+\\infty} \\frac{t^{7} e^{\\left(-t\\right)}}{{\\left(a^{2} k_{m}^{2} + \\pi^{2} t^{2}\\right)} \\sqrt{n_{x}^{2} + n_{y}^{2} + t^{2}}}\\,{d t} \\int_{0}^{+\\infty} \\frac{t^{5} e^{\\left(-t\\right)}}{{\\left(a^{2} k_{m}^{2} + \\pi^{2} t^{2}\\right)} \\sqrt{n_{x}^{2} + n_{y}^{2} + t^{2}}}\\,{d t}^{2} \\int_{0}^{+\\infty} \\frac{t^{3} e^{\\left(-t\\right)}}{{\\left(a^{2} k_{m}^{2} + \\pi^{2} t^{2}\\right)} \\sqrt{n_{x}^{2} + n_{y}^{2} + t^{2}}}\\,{d t} - \\frac{4194304}{45} \\, a^{8} k_{m}^{8} \\int_{0}^{+\\infty} \\frac{t^{7} e^{\\left(-t\\right)}}{{\\left(a^{2} k_{m}^{2} + \\pi^{2} t^{2}\\right)} \\sqrt{n_{x}^{2} + n_{y}^{2} + t^{2}}}\\,{d t} \\int_{0}^{+\\infty} \\frac{t^{6} e^{\\left(-t\\right)}}{{\\left(a^{2} k_{m}^{2} + \\pi^{2} t^{2}\\right)} \\sqrt{n_{x}^{2} + n_{y}^{2} + t^{2}}}\\,{d t} \\int_{0}^{+\\infty} \\frac{t^{4} e^{\\left(-t\\right)}}{{\\left(a^{2} k_{m}^{2} + \\pi^{2} t^{2}\\right)} \\sqrt{n_{x}^{2} + n_{y}^{2} + t^{2}}}\\,{d t} \\int_{0}^{+\\infty} \\frac{t^{3} e^{\\left(-t\\right)}}{{\\left(a^{2} k_{m}^{2} + \\pi^{2} t^{2}\\right)} \\sqrt{n_{x}^{2} + n_{y}^{2} + t^{2}}}\\,{d t} + \\frac{8388608}{135} \\, a^{8} k_{m}^{8} \\int_{0}^{+\\infty} \\frac{t^{8} e^{\\left(-t\\right)}}{{\\left(a^{2} k_{m}^{2} + \\pi^{2} t^{2}\\right)} \\sqrt{n_{x}^{2} + n_{y}^{2} + t^{2}}}\\,{d t} \\int_{0}^{+\\infty} \\frac{t^{5} e^{\\left(-t\\right)}}{{\\left(a^{2} k_{m}^{2} + \\pi^{2} t^{2}\\right)} \\sqrt{n_{x}^{2} + n_{y}^{2} + t^{2}}}\\,{d t} \\int_{0}^{+\\infty} \\frac{t^{4} e^{\\left(-t\\right)}}{{\\left(a^{2} k_{m}^{2} + \\pi^{2} t^{2}\\right)} \\sqrt{n_{x}^{2} + n_{y}^{2} + t^{2}}}\\,{d t} \\int_{0}^{+\\infty} \\frac{t^{3} e^{\\left(-t\\right)}}{{\\left(a^{2} k_{m}^{2} + \\pi^{2} t^{2}\\right)} \\sqrt{n_{x}^{2} + n_{y}^{2} + t^{2}}}\\,{d t} + \\frac{4194304}{225} \\, a^{8} k_{m}^{8} \\int_{0}^{+\\infty} \\frac{t^{7} e^{\\left(-t\\right)}}{{\\left(a^{2} k_{m}^{2} + \\pi^{2} t^{2}\\right)} \\sqrt{n_{x}^{2} + n_{y}^{2} + t^{2}}}\\,{d t}^{2} \\int_{0}^{+\\infty} \\frac{t^{3} e^{\\left(-t\\right)}}{{\\left(a^{2} k_{m}^{2} + \\pi^{2} t^{2}\\right)} \\sqrt{n_{x}^{2} + n_{y}^{2} + t^{2}}}\\,{d t}^{2} - \\frac{2097152}{135} \\, a^{8} k_{m}^{8} \\int_{0}^{+\\infty} \\frac{t^{8} e^{\\left(-t\\right)}}{{\\left(a^{2} k_{m}^{2} + \\pi^{2} t^{2}\\right)} \\sqrt{n_{x}^{2} + n_{y}^{2} + t^{2}}}\\,{d t} \\int_{0}^{+\\infty} \\frac{t^{6} e^{\\left(-t\\right)}}{{\\left(a^{2} k_{m}^{2} + \\pi^{2} t^{2}\\right)} \\sqrt{n_{x}^{2} + n_{y}^{2} + t^{2}}}\\,{d t} \\int_{0}^{+\\infty} \\frac{t^{3} e^{\\left(-t\\right)}}{{\\left(a^{2} k_{m}^{2} + \\pi^{2} t^{2}\\right)} \\sqrt{n_{x}^{2} + n_{y}^{2} + t^{2}}}\\,{d t}^{2} - \\frac{524288}{27} \\, a^{8} k_{m}^{8} \\int_{0}^{+\\infty} \\frac{t^{6} e^{\\left(-t\\right)}}{{\\left(a^{2} k_{m}^{2} + \\pi^{2} t^{2}\\right)} \\sqrt{n_{x}^{2} + n_{y}^{2} + t^{2}}}\\,{d t}^{3} \\int_{0}^{+\\infty} \\frac{t^{2} e^{\\left(-t\\right)}}{{\\left(a^{2} k_{m}^{2} + \\pi^{2} t^{2}\\right)} \\sqrt{n_{x}^{2} + n_{y}^{2} + t^{2}}}\\,{d t} + \\frac{4194304}{135} \\, a^{8} k_{m}^{8} \\int_{0}^{+\\infty} \\frac{t^{7} e^{\\left(-t\\right)}}{{\\left(a^{2} k_{m}^{2} + \\pi^{2} t^{2}\\right)} \\sqrt{n_{x}^{2} + n_{y}^{2} + t^{2}}}\\,{d t} \\int_{0}^{+\\infty} \\frac{t^{6} e^{\\left(-t\\right)}}{{\\left(a^{2} k_{m}^{2} + \\pi^{2} t^{2}\\right)} \\sqrt{n_{x}^{2} + n_{y}^{2} + t^{2}}}\\,{d t} \\int_{0}^{+\\infty} \\frac{t^{5} e^{\\left(-t\\right)}}{{\\left(a^{2} k_{m}^{2} + \\pi^{2} t^{2}\\right)} \\sqrt{n_{x}^{2} + n_{y}^{2} + t^{2}}}\\,{d t} \\int_{0}^{+\\infty} \\frac{t^{2} e^{\\left(-t\\right)}}{{\\left(a^{2} k_{m}^{2} + \\pi^{2} t^{2}\\right)} \\sqrt{n_{x}^{2} + n_{y}^{2} + t^{2}}}\\,{d t} - \\frac{4194304}{405} \\, a^{8} k_{m}^{8} \\int_{0}^{+\\infty} \\frac{t^{8} e^{\\left(-t\\right)}}{{\\left(a^{2} k_{m}^{2} + \\pi^{2} t^{2}\\right)} \\sqrt{n_{x}^{2} + n_{y}^{2} + t^{2}}}\\,{d t} \\int_{0}^{+\\infty} \\frac{t^{5} e^{\\left(-t\\right)}}{{\\left(a^{2} k_{m}^{2} + \\pi^{2} t^{2}\\right)} \\sqrt{n_{x}^{2} + n_{y}^{2} + t^{2}}}\\,{d t}^{2} \\int_{0}^{+\\infty} \\frac{t^{2} e^{\\left(-t\\right)}}{{\\left(a^{2} k_{m}^{2} + \\pi^{2} t^{2}\\right)} \\sqrt{n_{x}^{2} + n_{y}^{2} + t^{2}}}\\,{d t} - \\frac{2097152}{225} \\, a^{8} k_{m}^{8} \\int_{0}^{+\\infty} \\frac{t^{7} e^{\\left(-t\\right)}}{{\\left(a^{2} k_{m}^{2} + \\pi^{2} t^{2}\\right)} \\sqrt{n_{x}^{2} + n_{y}^{2} + t^{2}}}\\,{d t}^{2} \\int_{0}^{+\\infty} \\frac{t^{4} e^{\\left(-t\\right)}}{{\\left(a^{2} k_{m}^{2} + \\pi^{2} t^{2}\\right)} \\sqrt{n_{x}^{2} + n_{y}^{2} + t^{2}}}\\,{d t} \\int_{0}^{+\\infty} \\frac{t^{2} e^{\\left(-t\\right)}}{{\\left(a^{2} k_{m}^{2} + \\pi^{2} t^{2}\\right)} \\sqrt{n_{x}^{2} + n_{y}^{2} + t^{2}}}\\,{d t} + \\frac{1048576}{135} \\, a^{8} k_{m}^{8} \\int_{0}^{+\\infty} \\frac{t^{8} e^{\\left(-t\\right)}}{{\\left(a^{2} k_{m}^{2} + \\pi^{2} t^{2}\\right)} \\sqrt{n_{x}^{2} + n_{y}^{2} + t^{2}}}\\,{d t} \\int_{0}^{+\\infty} \\frac{t^{6} e^{\\left(-t\\right)}}{{\\left(a^{2} k_{m}^{2} + \\pi^{2} t^{2}\\right)} \\sqrt{n_{x}^{2} + n_{y}^{2} + t^{2}}}\\,{d t} \\int_{0}^{+\\infty} \\frac{t^{4} e^{\\left(-t\\right)}}{{\\left(a^{2} k_{m}^{2} + \\pi^{2} t^{2}\\right)} \\sqrt{n_{x}^{2} + n_{y}^{2} + t^{2}}}\\,{d t} \\int_{0}^{+\\infty} \\frac{t^{2} e^{\\left(-t\\right)}}{{\\left(a^{2} k_{m}^{2} + \\pi^{2} t^{2}\\right)} \\sqrt{n_{x}^{2} + n_{y}^{2} + t^{2}}}\\,{d t}$"
      ],
      "text/plain": [
       "<IPython.core.display.Math object>"
      ]
     },
     "metadata": {},
     "output_type": "display_data"
    },
    {
     "name": "stdout",
     "output_type": "stream",
     "text": [
      "M_Q [                                                                                                                                                                                                                                                                                                                                                                                     -2/3*a^2*k_m^2*(integrate(32*t^5/(sqrt(n_x^2 + n_y^2 + t^2)*a^2*k_m^2*e^t + pi^2*sqrt(n_x^2 + n_y^2 + t^2)*t^2*e^t), t, 0, +Infinity) + integrate(-72*t^4/(sqrt(n_x^2 + n_y^2 + t^2)*a^2*k_m^2*e^t + pi^2*sqrt(n_x^2 + n_y^2 + t^2)*t^2*e^t), t, 0, +Infinity) + integrate(36*t^3/(sqrt(n_x^2 + n_y^2 + t^2)*a^2*k_m^2*e^t + pi^2*sqrt(n_x^2 + n_y^2 + t^2)*t^2*e^t), t, 0, +Infinity) + integrate(-3*t^2/(sqrt(n_x^2 + n_y^2 + t^2)*a^2*k_m^2*e^t + pi^2*sqrt(n_x^2 + n_y^2 + t^2)*t^2*e^t), t, 0, +Infinity))                                                                                                                                                                                                                                                                                                                                                                                                                                                                                                                      2*a^2*k_m^2*(integrate(8*t^4/(sqrt(n_x^2 + n_y^2 + t^2)*a^2*k_m^2*e^t + pi^2*sqrt(n_x^2 + n_y^2 + t^2)*t^2*e^t), t, 0, +Infinity) + integrate(-8*t^3/(sqrt(n_x^2 + n_y^2 + t^2)*a^2*k_m^2*e^t + pi^2*sqrt(n_x^2 + n_y^2 + t^2)*t^2*e^t), t, 0, +Infinity) + integrate(t^2/(sqrt(n_x^2 + n_y^2 + t^2)*a^2*k_m^2*e^t + pi^2*sqrt(n_x^2 + n_y^2 + t^2)*t^2*e^t), t, 0, +Infinity))                                                                                                                                                                                                                                                                                                                                                                                                                                                                                                                                                                                                                                            -2*a^2*k_m^2*(integrate(4*t^3/(sqrt(n_x^2 + n_y^2 + t^2)*a^2*k_m^2*e^t + pi^2*sqrt(n_x^2 + n_y^2 + t^2)*t^2*e^t), t, 0, +Infinity) + integrate(-t^2/(sqrt(n_x^2 + n_y^2 + t^2)*a^2*k_m^2*e^t + pi^2*sqrt(n_x^2 + n_y^2 + t^2)*t^2*e^t), t, 0, +Infinity))                                                                                                                                                                                                                                                                                                                                                                                                                                                                                                                                                                                                                                                                                                                                                                       2*a^2*k_m^2*integrate(t^2/(sqrt(n_x^2 + n_y^2 + t^2)*a^2*k_m^2*e^t + pi^2*sqrt(n_x^2 + n_y^2 + t^2)*t^2*e^t), t, 0, +Infinity)]\n",
      "[                                                                                                                                                                                                                                                            2/3*a^2*k_m^2*(integrate(32*t^6/(sqrt(n_x^2 + n_y^2 + t^2)*a^2*k_m^2*e^t + pi^2*sqrt(n_x^2 + n_y^2 + t^2)*t^2*e^t), t, 0, +Infinity) + integrate(-128*t^5/(sqrt(n_x^2 + n_y^2 + t^2)*a^2*k_m^2*e^t + pi^2*sqrt(n_x^2 + n_y^2 + t^2)*t^2*e^t), t, 0, +Infinity) + integrate(144*t^4/(sqrt(n_x^2 + n_y^2 + t^2)*a^2*k_m^2*e^t + pi^2*sqrt(n_x^2 + n_y^2 + t^2)*t^2*e^t), t, 0, +Infinity) + integrate(-48*t^3/(sqrt(n_x^2 + n_y^2 + t^2)*a^2*k_m^2*e^t + pi^2*sqrt(n_x^2 + n_y^2 + t^2)*t^2*e^t), t, 0, +Infinity) + integrate(3*t^2/(sqrt(n_x^2 + n_y^2 + t^2)*a^2*k_m^2*e^t + pi^2*sqrt(n_x^2 + n_y^2 + t^2)*t^2*e^t), t, 0, +Infinity))                                                                                                                                                                                                                                                                                                                                                                                      -2/3*a^2*k_m^2*(integrate(32*t^5/(sqrt(n_x^2 + n_y^2 + t^2)*a^2*k_m^2*e^t + pi^2*sqrt(n_x^2 + n_y^2 + t^2)*t^2*e^t), t, 0, +Infinity) + integrate(-72*t^4/(sqrt(n_x^2 + n_y^2 + t^2)*a^2*k_m^2*e^t + pi^2*sqrt(n_x^2 + n_y^2 + t^2)*t^2*e^t), t, 0, +Infinity) + integrate(36*t^3/(sqrt(n_x^2 + n_y^2 + t^2)*a^2*k_m^2*e^t + pi^2*sqrt(n_x^2 + n_y^2 + t^2)*t^2*e^t), t, 0, +Infinity) + integrate(-3*t^2/(sqrt(n_x^2 + n_y^2 + t^2)*a^2*k_m^2*e^t + pi^2*sqrt(n_x^2 + n_y^2 + t^2)*t^2*e^t), t, 0, +Infinity))                                                                                                                                                                                                                                                                                                                                                                                                                                                                                                                      2*a^2*k_m^2*(integrate(8*t^4/(sqrt(n_x^2 + n_y^2 + t^2)*a^2*k_m^2*e^t + pi^2*sqrt(n_x^2 + n_y^2 + t^2)*t^2*e^t), t, 0, +Infinity) + integrate(-8*t^3/(sqrt(n_x^2 + n_y^2 + t^2)*a^2*k_m^2*e^t + pi^2*sqrt(n_x^2 + n_y^2 + t^2)*t^2*e^t), t, 0, +Infinity) + integrate(t^2/(sqrt(n_x^2 + n_y^2 + t^2)*a^2*k_m^2*e^t + pi^2*sqrt(n_x^2 + n_y^2 + t^2)*t^2*e^t), t, 0, +Infinity))                                                                                                                                                                                                                                                                                                                                                                                                                                                                                                                                                                                                                                            -2*a^2*k_m^2*(integrate(4*t^3/(sqrt(n_x^2 + n_y^2 + t^2)*a^2*k_m^2*e^t + pi^2*sqrt(n_x^2 + n_y^2 + t^2)*t^2*e^t), t, 0, +Infinity) + integrate(-t^2/(sqrt(n_x^2 + n_y^2 + t^2)*a^2*k_m^2*e^t + pi^2*sqrt(n_x^2 + n_y^2 + t^2)*t^2*e^t), t, 0, +Infinity))]\n",
      "[                                                                                                                           -2/15*a^2*k_m^2*(integrate(128*t^7/(sqrt(n_x^2 + n_y^2 + t^2)*a^2*k_m^2*e^t + pi^2*sqrt(n_x^2 + n_y^2 + t^2)*t^2*e^t), t, 0, +Infinity) + integrate(-800*t^6/(sqrt(n_x^2 + n_y^2 + t^2)*a^2*k_m^2*e^t + pi^2*sqrt(n_x^2 + n_y^2 + t^2)*t^2*e^t), t, 0, +Infinity) + integrate(1600*t^5/(sqrt(n_x^2 + n_y^2 + t^2)*a^2*k_m^2*e^t + pi^2*sqrt(n_x^2 + n_y^2 + t^2)*t^2*e^t), t, 0, +Infinity) + integrate(-1200*t^4/(sqrt(n_x^2 + n_y^2 + t^2)*a^2*k_m^2*e^t + pi^2*sqrt(n_x^2 + n_y^2 + t^2)*t^2*e^t), t, 0, +Infinity) + integrate(300*t^3/(sqrt(n_x^2 + n_y^2 + t^2)*a^2*k_m^2*e^t + pi^2*sqrt(n_x^2 + n_y^2 + t^2)*t^2*e^t), t, 0, +Infinity) + integrate(-15*t^2/(sqrt(n_x^2 + n_y^2 + t^2)*a^2*k_m^2*e^t + pi^2*sqrt(n_x^2 + n_y^2 + t^2)*t^2*e^t), t, 0, +Infinity))                                                                                                                                                                                                                                                             2/3*a^2*k_m^2*(integrate(32*t^6/(sqrt(n_x^2 + n_y^2 + t^2)*a^2*k_m^2*e^t + pi^2*sqrt(n_x^2 + n_y^2 + t^2)*t^2*e^t), t, 0, +Infinity) + integrate(-128*t^5/(sqrt(n_x^2 + n_y^2 + t^2)*a^2*k_m^2*e^t + pi^2*sqrt(n_x^2 + n_y^2 + t^2)*t^2*e^t), t, 0, +Infinity) + integrate(144*t^4/(sqrt(n_x^2 + n_y^2 + t^2)*a^2*k_m^2*e^t + pi^2*sqrt(n_x^2 + n_y^2 + t^2)*t^2*e^t), t, 0, +Infinity) + integrate(-48*t^3/(sqrt(n_x^2 + n_y^2 + t^2)*a^2*k_m^2*e^t + pi^2*sqrt(n_x^2 + n_y^2 + t^2)*t^2*e^t), t, 0, +Infinity) + integrate(3*t^2/(sqrt(n_x^2 + n_y^2 + t^2)*a^2*k_m^2*e^t + pi^2*sqrt(n_x^2 + n_y^2 + t^2)*t^2*e^t), t, 0, +Infinity))                                                                                                                                                                                                                                                                                                                                                                                      -2/3*a^2*k_m^2*(integrate(32*t^5/(sqrt(n_x^2 + n_y^2 + t^2)*a^2*k_m^2*e^t + pi^2*sqrt(n_x^2 + n_y^2 + t^2)*t^2*e^t), t, 0, +Infinity) + integrate(-72*t^4/(sqrt(n_x^2 + n_y^2 + t^2)*a^2*k_m^2*e^t + pi^2*sqrt(n_x^2 + n_y^2 + t^2)*t^2*e^t), t, 0, +Infinity) + integrate(36*t^3/(sqrt(n_x^2 + n_y^2 + t^2)*a^2*k_m^2*e^t + pi^2*sqrt(n_x^2 + n_y^2 + t^2)*t^2*e^t), t, 0, +Infinity) + integrate(-3*t^2/(sqrt(n_x^2 + n_y^2 + t^2)*a^2*k_m^2*e^t + pi^2*sqrt(n_x^2 + n_y^2 + t^2)*t^2*e^t), t, 0, +Infinity))                                                                                                                                                                                                                                                                                                                                                                                                                                                                                                                      2*a^2*k_m^2*(integrate(8*t^4/(sqrt(n_x^2 + n_y^2 + t^2)*a^2*k_m^2*e^t + pi^2*sqrt(n_x^2 + n_y^2 + t^2)*t^2*e^t), t, 0, +Infinity) + integrate(-8*t^3/(sqrt(n_x^2 + n_y^2 + t^2)*a^2*k_m^2*e^t + pi^2*sqrt(n_x^2 + n_y^2 + t^2)*t^2*e^t), t, 0, +Infinity) + integrate(t^2/(sqrt(n_x^2 + n_y^2 + t^2)*a^2*k_m^2*e^t + pi^2*sqrt(n_x^2 + n_y^2 + t^2)*t^2*e^t), t, 0, +Infinity))]\n",
      "[2/45*a^2*k_m^2*(integrate(256*t^8/(sqrt(n_x^2 + n_y^2 + t^2)*a^2*k_m^2*e^t + pi^2*sqrt(n_x^2 + n_y^2 + t^2)*t^2*e^t), t, 0, +Infinity) + integrate(-2304*t^7/(sqrt(n_x^2 + n_y^2 + t^2)*a^2*k_m^2*e^t + pi^2*sqrt(n_x^2 + n_y^2 + t^2)*t^2*e^t), t, 0, +Infinity) + integrate(7200*t^6/(sqrt(n_x^2 + n_y^2 + t^2)*a^2*k_m^2*e^t + pi^2*sqrt(n_x^2 + n_y^2 + t^2)*t^2*e^t), t, 0, +Infinity) + integrate(-9600*t^5/(sqrt(n_x^2 + n_y^2 + t^2)*a^2*k_m^2*e^t + pi^2*sqrt(n_x^2 + n_y^2 + t^2)*t^2*e^t), t, 0, +Infinity) + integrate(5400*t^4/(sqrt(n_x^2 + n_y^2 + t^2)*a^2*k_m^2*e^t + pi^2*sqrt(n_x^2 + n_y^2 + t^2)*t^2*e^t), t, 0, +Infinity) + integrate(-1080*t^3/(sqrt(n_x^2 + n_y^2 + t^2)*a^2*k_m^2*e^t + pi^2*sqrt(n_x^2 + n_y^2 + t^2)*t^2*e^t), t, 0, +Infinity) + integrate(45*t^2/(sqrt(n_x^2 + n_y^2 + t^2)*a^2*k_m^2*e^t + pi^2*sqrt(n_x^2 + n_y^2 + t^2)*t^2*e^t), t, 0, +Infinity))                                                                                                                            -2/15*a^2*k_m^2*(integrate(128*t^7/(sqrt(n_x^2 + n_y^2 + t^2)*a^2*k_m^2*e^t + pi^2*sqrt(n_x^2 + n_y^2 + t^2)*t^2*e^t), t, 0, +Infinity) + integrate(-800*t^6/(sqrt(n_x^2 + n_y^2 + t^2)*a^2*k_m^2*e^t + pi^2*sqrt(n_x^2 + n_y^2 + t^2)*t^2*e^t), t, 0, +Infinity) + integrate(1600*t^5/(sqrt(n_x^2 + n_y^2 + t^2)*a^2*k_m^2*e^t + pi^2*sqrt(n_x^2 + n_y^2 + t^2)*t^2*e^t), t, 0, +Infinity) + integrate(-1200*t^4/(sqrt(n_x^2 + n_y^2 + t^2)*a^2*k_m^2*e^t + pi^2*sqrt(n_x^2 + n_y^2 + t^2)*t^2*e^t), t, 0, +Infinity) + integrate(300*t^3/(sqrt(n_x^2 + n_y^2 + t^2)*a^2*k_m^2*e^t + pi^2*sqrt(n_x^2 + n_y^2 + t^2)*t^2*e^t), t, 0, +Infinity) + integrate(-15*t^2/(sqrt(n_x^2 + n_y^2 + t^2)*a^2*k_m^2*e^t + pi^2*sqrt(n_x^2 + n_y^2 + t^2)*t^2*e^t), t, 0, +Infinity))                                                                                                                                                                                                                                                             2/3*a^2*k_m^2*(integrate(32*t^6/(sqrt(n_x^2 + n_y^2 + t^2)*a^2*k_m^2*e^t + pi^2*sqrt(n_x^2 + n_y^2 + t^2)*t^2*e^t), t, 0, +Infinity) + integrate(-128*t^5/(sqrt(n_x^2 + n_y^2 + t^2)*a^2*k_m^2*e^t + pi^2*sqrt(n_x^2 + n_y^2 + t^2)*t^2*e^t), t, 0, +Infinity) + integrate(144*t^4/(sqrt(n_x^2 + n_y^2 + t^2)*a^2*k_m^2*e^t + pi^2*sqrt(n_x^2 + n_y^2 + t^2)*t^2*e^t), t, 0, +Infinity) + integrate(-48*t^3/(sqrt(n_x^2 + n_y^2 + t^2)*a^2*k_m^2*e^t + pi^2*sqrt(n_x^2 + n_y^2 + t^2)*t^2*e^t), t, 0, +Infinity) + integrate(3*t^2/(sqrt(n_x^2 + n_y^2 + t^2)*a^2*k_m^2*e^t + pi^2*sqrt(n_x^2 + n_y^2 + t^2)*t^2*e^t), t, 0, +Infinity))                                                                                                                                                                                                                                                                                                                                                                                      -2/3*a^2*k_m^2*(integrate(32*t^5/(sqrt(n_x^2 + n_y^2 + t^2)*a^2*k_m^2*e^t + pi^2*sqrt(n_x^2 + n_y^2 + t^2)*t^2*e^t), t, 0, +Infinity) + integrate(-72*t^4/(sqrt(n_x^2 + n_y^2 + t^2)*a^2*k_m^2*e^t + pi^2*sqrt(n_x^2 + n_y^2 + t^2)*t^2*e^t), t, 0, +Infinity) + integrate(36*t^3/(sqrt(n_x^2 + n_y^2 + t^2)*a^2*k_m^2*e^t + pi^2*sqrt(n_x^2 + n_y^2 + t^2)*t^2*e^t), t, 0, +Infinity) + integrate(-3*t^2/(sqrt(n_x^2 + n_y^2 + t^2)*a^2*k_m^2*e^t + pi^2*sqrt(n_x^2 + n_y^2 + t^2)*t^2*e^t), t, 0, +Infinity))]\n"
     ]
    },
    {
     "ename": "TypeError",
     "evalue": "unsupported operand parent(s) for *: 'Full MatrixSpace of 4 by 4 dense matrices over Symbolic Ring' and 'Vector space of dimension 5 over Symbolic Ring'",
     "output_type": "error",
     "traceback": [
      "\u001b[0;31m---------------------------------------------------------------------------\u001b[0m",
      "\u001b[0;31mTypeError\u001b[0m                                 Traceback (most recent call last)",
      "\u001b[0;32m/tmp/ipykernel_871/1826060299.py\u001b[0m in \u001b[0;36m<module>\u001b[0;34m\u001b[0m\n\u001b[1;32m     97\u001b[0m \u001b[0;34m\u001b[0m\u001b[0m\n\u001b[1;32m     98\u001b[0m \u001b[0;31m#M_Q_RU_X = M_Q_RU*vbeta_i\u001b[0m\u001b[0;34m\u001b[0m\u001b[0;34m\u001b[0m\u001b[0m\n\u001b[0;32m---> 99\u001b[0;31m \u001b[0mM_Q_X\u001b[0m \u001b[0;34m=\u001b[0m \u001b[0mM_Q\u001b[0m\u001b[0;34m*\u001b[0m\u001b[0mvbeta_i\u001b[0m\u001b[0;34m\u001b[0m\u001b[0;34m\u001b[0m\u001b[0m\n\u001b[0m\u001b[1;32m    100\u001b[0m \u001b[0;34m\u001b[0m\u001b[0m\n\u001b[1;32m    101\u001b[0m \u001b[0mbeta_i_0_d\u001b[0m \u001b[0;34m=\u001b[0m \u001b[0mInteger\u001b[0m\u001b[0;34m(\u001b[0m\u001b[0;36m1\u001b[0m\u001b[0;34m)\u001b[0m\u001b[0;34m\u001b[0m\u001b[0;34m\u001b[0m\u001b[0m\n",
      "\u001b[0;32m/usr3/articles/sagemath_docker_build/sage/local/lib/python3.9/site-packages/sage/structure/element.pyx\u001b[0m in \u001b[0;36msage.structure.element.Matrix.__mul__ (build/cythonized/sage/structure/element.c:23996)\u001b[0;34m()\u001b[0m\n\u001b[1;32m   3824\u001b[0m \u001b[0;34m\u001b[0m\u001b[0m\n\u001b[1;32m   3825\u001b[0m         \u001b[0;32mif\u001b[0m \u001b[0mBOTH_ARE_ELEMENT\u001b[0m\u001b[0;34m(\u001b[0m\u001b[0mcl\u001b[0m\u001b[0;34m)\u001b[0m\u001b[0;34m:\u001b[0m\u001b[0;34m\u001b[0m\u001b[0;34m\u001b[0m\u001b[0m\n\u001b[0;32m-> 3826\u001b[0;31m             \u001b[0;32mreturn\u001b[0m \u001b[0mcoercion_model\u001b[0m\u001b[0;34m.\u001b[0m\u001b[0mbin_op\u001b[0m\u001b[0;34m(\u001b[0m\u001b[0mleft\u001b[0m\u001b[0;34m,\u001b[0m \u001b[0mright\u001b[0m\u001b[0;34m,\u001b[0m \u001b[0mmul\u001b[0m\u001b[0;34m)\u001b[0m\u001b[0;34m\u001b[0m\u001b[0;34m\u001b[0m\u001b[0m\n\u001b[0m\u001b[1;32m   3827\u001b[0m \u001b[0;34m\u001b[0m\u001b[0m\n\u001b[1;32m   3828\u001b[0m         \u001b[0mcdef\u001b[0m \u001b[0mlong\u001b[0m \u001b[0mvalue\u001b[0m\u001b[0;34m\u001b[0m\u001b[0;34m\u001b[0m\u001b[0m\n",
      "\u001b[0;32m/usr3/articles/sagemath_docker_build/sage/local/lib/python3.9/site-packages/sage/structure/coerce.pyx\u001b[0m in \u001b[0;36msage.structure.coerce.CoercionModel.bin_op (build/cythonized/sage/structure/coerce.c:11751)\u001b[0;34m()\u001b[0m\n\u001b[1;32m   1246\u001b[0m         \u001b[0;31m# We should really include the underlying error.\u001b[0m\u001b[0;34m\u001b[0m\u001b[0;34m\u001b[0m\u001b[0m\n\u001b[1;32m   1247\u001b[0m         \u001b[0;31m# This causes so much headache.\u001b[0m\u001b[0;34m\u001b[0m\u001b[0;34m\u001b[0m\u001b[0m\n\u001b[0;32m-> 1248\u001b[0;31m         \u001b[0;32mraise\u001b[0m \u001b[0mbin_op_exception\u001b[0m\u001b[0;34m(\u001b[0m\u001b[0mop\u001b[0m\u001b[0;34m,\u001b[0m \u001b[0mx\u001b[0m\u001b[0;34m,\u001b[0m \u001b[0my\u001b[0m\u001b[0;34m)\u001b[0m\u001b[0;34m\u001b[0m\u001b[0;34m\u001b[0m\u001b[0m\n\u001b[0m\u001b[1;32m   1249\u001b[0m \u001b[0;34m\u001b[0m\u001b[0m\n\u001b[1;32m   1250\u001b[0m     \u001b[0mcpdef\u001b[0m \u001b[0mcanonical_coercion\u001b[0m\u001b[0;34m(\u001b[0m\u001b[0mself\u001b[0m\u001b[0;34m,\u001b[0m \u001b[0mx\u001b[0m\u001b[0;34m,\u001b[0m \u001b[0my\u001b[0m\u001b[0;34m)\u001b[0m\u001b[0;34m:\u001b[0m\u001b[0;34m\u001b[0m\u001b[0;34m\u001b[0m\u001b[0m\n",
      "\u001b[0;31mTypeError\u001b[0m: unsupported operand parent(s) for *: 'Full MatrixSpace of 4 by 4 dense matrices over Symbolic Ring' and 'Vector space of dimension 5 over Symbolic Ring'"
     ]
    }
   ],
   "source": [
    "from sympy import integrate as sympy_integrate\n",
    "\n",
    "alpha,beta = var(\"alpha,beta\")\n",
    "\n",
    "assume(alpha>0)\n",
    "assume(alpha-beta>0)\n",
    "\n",
    "w = lambda t, beta : exp(2*beta*t)\n",
    "\n",
    "Generalized_Laguerre_Rodrigues = lambda n, alpha, beta, t : (sqrt(2*alpha) / factorial(n) * \\\n",
    "                                                             exp((alpha-beta)*t) * \\\n",
    "                                                             diff(exp(-2*alpha*t)*t^n, t, n)).factor()\n",
    "\n",
    "Q = lambda F, k, alpha, beta : sympy_integrate(F(t=t) * \\\n",
    "                                            Generalized_Laguerre_Rodrigues(k, alpha, beta, t) * \\\n",
    "                                            w(t, beta), (t, 0, Infinity))\n",
    "\n",
    "def det_Q(F, n, alpha, beta):\n",
    "    m = [[Q(F, n+k1-k2, alpha, beta) for k2 in range (n+1)] for k1 in range (n+1)]\n",
    "    return matrix(SR, m)\n",
    "\n",
    "# https://www.pythonpool.com/gaussian-elimination-python/\n",
    "\n",
    "#gaussian elimination of M_Q in symbolic form\n",
    "def gaussian_elimination(n, M_Q):\n",
    "    rows = n\n",
    "    cols = n\n",
    "    ma = [[] for _ in range(n)]\n",
    "\n",
    "    for i in range(rows):# row\n",
    "        for j in range(cols): # col\n",
    "            ma[i] += [M_Q[i][j]]\n",
    "\n",
    "    for i in range(cols):\n",
    "        row_to_change = -1\n",
    "        #ii_abs = abs(ma[i][i].subs(digit_values).subs(k_z_sol).n())\n",
    "        ii_abs = abs(ma[i][i].n())\n",
    "\n",
    "        for r in range(i+1, rows):\n",
    "            #ri_abs = abs(ma[r][i].subs(digit_values).subs(k_z_sol).n())\n",
    "            ri_abs = abs(ma[r][i].n())\n",
    "            if ri_abs > ii_abs:\n",
    "                row_to_change = r\n",
    "                cur_abs = ri_abs\n",
    "                print(\"row_to_change\", row_to_change)\n",
    "\n",
    "        if row_to_change > -1:\n",
    "            for col in range(i, cols):#+1):\n",
    "                tmp = ma[i][col]\n",
    "                ma[i][col] = ma[row_to_change][col]\n",
    "                ma[row_to_change][col] = tmp\n",
    "\n",
    "        for j in range(i+1, rows):\n",
    "            ratio = ma[j][i]/ma[i][i]\n",
    "\n",
    "            for k in range(cols):#+1):\n",
    "                ma[j][k] = ma[j][k] - ratio * ma[i][k]\n",
    "\n",
    "    # Формирование верхнетреугольной матрицы\n",
    "    # RU - Right Upper\n",
    "    M_RU = matrix(ma)\n",
    "    return M_RU\n",
    "\n",
    "alpha_d = 2\n",
    "beta_d = 1\n",
    "\n",
    "n = 0\n",
    "\n",
    "while(n <= 3):\n",
    "    print(\"n\", n)\n",
    "    M_Q = det_Q(integrand_t, n, alpha_d, beta_d)\n",
    "    print(\"M_Q\")\n",
    "    display(Math(latex(M_Q)))\n",
    "    det_M_Q = M_Q.det()\n",
    "    print(\"det_M_Q\")\n",
    "    display(Math(latex(det_M_Q)))\n",
    "    #M_Q_RU = gaussian_elimination(n+1, M_Q)\n",
    "    #display(Math(latex(M_Q_RU)))\n",
    "    if abs(det_M_Q) < 1e-7:\n",
    "        break\n",
    "    n = n + 1\n",
    "\n",
    "print(\"M_Q\", M_Q)\n",
    "\n",
    "beta_i = []\n",
    "for i in range(n+1):\n",
    "    exec(\"beta_i_\" + str(i) + \"= var('beta_i_\" + str(i) + \"')\")\n",
    "    exec(\"beta_i += [beta_i_\" + str(i) +\"]\")\n",
    "\n",
    "alpha_i = []\n",
    "for i in range(n):\n",
    "    exec(\"alpha_i_\" + str(i) + \"= var('alpha_i_\" + str(i) + \"')\")\n",
    "    exec(\"alpha_i += [alpha_i_\" + str(i) +\"]\")\n",
    "\n",
    "beta1_i = []\n",
    "for i in range(1, n+1):\n",
    "    exec(\"beta1_i += [beta_i_\" + str(i) +\"]\")\n",
    "\n",
    "vbeta_i = vector(beta_i)\n",
    "vbeta1_i = vector(beta1_i)\n",
    "\n",
    "#M_Q_RU_X = M_Q_RU*vbeta_i\n",
    "M_Q_X = M_Q*vbeta_i\n",
    "\n",
    "beta_i_0_d = 1\n",
    "\n",
    "#M_Q_RU_B = []\n",
    "#eq_sys_RU = []\n",
    "#for i in range(n+1):\n",
    "#    M_Q_RU_B_i = - (M_Q_RU_X[i]).coefficient(beta_i_0).n() * beta_i_0_d\n",
    "#    print(M_Q_RU_B_i)\n",
    "#    M_Q_RU_B += [M_Q_RU_B_i]\n",
    "#    eq_sys_RU += [M_Q_RU_X[i].subs(beta_i_0 == 0) == M_Q_RU_B_i]\n",
    "\n",
    "#print(\"eq_sys_RU =\", eq_sys_RU)\n",
    "    \n",
    "M_Q_B = []\n",
    "eq_sys = []\n",
    "for i in range(n+1):\n",
    "    M_Q_B_i = - (M_Q_X[i]).coefficient(beta_i_0).n() * beta_i_0_d\n",
    "    print(M_Q_B_i)\n",
    "    M_Q_B += [M_Q_B_i]\n",
    "    eq_sys += [M_Q_X[i].subs(beta_i_0 == 0) == M_Q_B_i]\n",
    "\n",
    "print(\"eq_sys =\", eq_sys)\n",
    "\n",
    "def GenerateMatrix(equsys, vars):\n",
    "    A=matrix(SR, [[(equ.lhs() - equ.rhs()).coefficient(v) for v in vars] for equ in equsys])\n",
    "    return A\n",
    "\n",
    "#eq_sys_RU_M = GenerateMatrix(eq_sys_RU, vbeta1_i)\n",
    "eq_sys_M = GenerateMatrix(eq_sys, vbeta1_i)\n",
    "\n",
    "#eq_sys_RU_M_sol = eq_sys_RU_M.solve_right(vector(M_Q_RU_B))\n",
    "eq_sys_M_sol = eq_sys_M.solve_right(vector(M_Q_B))\n",
    "\n",
    "#coeffs_beta_i = [beta_i_0 == beta_i_0_d]\n",
    "#for i in range(n):\n",
    "#    eq_sys_RU_M_sol_i = eq_sys_RU_M_sol[i]\n",
    "#    print(eq_sys_RU_M_sol_i)\n",
    "#    coeffs_beta_i += [vbeta1_i[i] == eq_sys_RU_M_sol_i]\n",
    "\n",
    "coeffs_beta_i = [beta_i_0 == beta_i_0_d]\n",
    "for i in range(n):\n",
    "    eq_sys_M_sol_i = eq_sys_M_sol[i]\n",
    "    print(eq_sys_M_sol_i)\n",
    "    coeffs_beta_i += [vbeta1_i[i] == eq_sys_M_sol_i]\n",
    "\n",
    "print(\"coeffs_beta_i =\", coeffs_beta_i)\n",
    "print(\"M_Q\", M_Q)\n",
    "\n",
    "valpha_i = []\n",
    "for i in range(n):\n",
    "    alpha__i = 0\n",
    "    print(i)\n",
    "    for j in range(0,i+1):\n",
    "        print(j, M_Q[0][n-j], i-j, beta_i[i-j])\n",
    "        alpha__i += M_Q[0][n-j] * beta_i[i-j]\n",
    "    alpha__i *= sqrt(2 * alpha)\n",
    "    valpha_i += [alpha_i[i] == alpha__i]\n",
    "\n",
    "print(\"valpha_i =\", valpha_i)\n",
    "\n",
    "coeffs_alpha_i = []\n",
    "for i in range(n):\n",
    "    coeffs_alpha_i += [alpha_i[i] == valpha_i[i].rhs().subs(coeffs_beta_i).subs(alpha == alpha_d)]\n",
    "print(\"coeffs_alpha_i =\", coeffs_alpha_i)\n",
    "\n",
    "delta, S = var(\"delta, S\")\n",
    "F_delta = sum([alpha_i[i]*delta^i for i in range(n)])/sum([beta_i[i]*delta^i for i in range(n+1)])\n",
    "F_delta_d = F_delta.subs(coeffs_alpha_i).subs(coeffs_beta_i)\n",
    "F_delta_d_1_delta_2_alpha = (1 - delta)/(2*alpha)*F_delta_d\n",
    "F_delta_d_1_delta_2_alpha_d = F_delta_d_1_delta_2_alpha.subs(alpha == alpha_d)\n",
    "print(\"F_delta_d_1_delta_2_alpha_d =\", F_delta_d_1_delta_2_alpha_d)\n",
    "\n",
    "F_S = F_delta_d_1_delta_2_alpha.subs(delta == (S - alpha + beta) / (S + alpha + beta)).factor()\n",
    "F_S_d = F_S.subs(alpha == alpha_d, beta == beta_d)\n",
    "print(\"F_S_d =\", F_S_d)\n",
    "display(Math(latex(F_S_d)))\n",
    "\n",
    "\n",
    "F_S_d_num = F_S_d.numerator()\n",
    "F_S_d_den = F_S_d.denominator()\n",
    "\n",
    "\n",
    "print(\"F_S_d_num =\", F_S_d_num)\n",
    "display(Math(latex(F_S_d_num)))\n",
    "\n",
    "print(\"F_S_d_den =\", F_S_d_den)\n",
    "display(Math(latex(F_S_d_den)))\n",
    "\n",
    "\n",
    "rec_R = lambda t : inverse_laplace(F_S_d, S, t)\n",
    "print(\"\")\n",
    "print(\"rec_R(t) =\", rec_R(t))\n",
    "print(\"R(t) =\", R(t))"
   ]
  },
  {
   "cell_type": "code",
   "execution_count": null,
   "metadata": {},
   "outputs": [],
   "source": [
    "def my_taylor(f, v, a, n):\n",
    "    s = 0\n",
    "    #print(\"f\", f)\n",
    "    #print(\"v\", v)\n",
    "    for i in range(n):\n",
    "        fdiff_i = lambda v : diff(f, v, i)\n",
    "        #print(\"fdiff_i\", fdiff_i(v))\n",
    "        fact_i = factorial(i)\n",
    "        fdiff_i_a = fdiff_i(v).subs(v == a)\n",
    "        #print(\"fdiff_i(a)\", fdiff_i_a)\n",
    "        term = fdiff_i_a/fact_i*(v-a)^i\n",
    "        #print(\"term\", term)\n",
    "        s += term\n",
    "    return s"
   ]
  },
  {
   "cell_type": "code",
   "execution_count": null,
   "metadata": {},
   "outputs": [],
   "source": [
    "integrand_w_taylor = my_taylor(integrand_w, w, sqrt(2), 2)\n",
    "display(Math(latex(integrand_w_taylor)))\n",
    "integrand_w_taylor"
   ]
  },
  {
   "cell_type": "code",
   "execution_count": null,
   "metadata": {},
   "outputs": [],
   "source": [
    "integrand_w_taylor = integrand_w.taylor(w, sqrt(2), 2)\n",
    "display(Math(latex(integrand_w_taylor)))\n",
    "integrand_w_taylor"
   ]
  },
  {
   "cell_type": "code",
   "execution_count": null,
   "metadata": {},
   "outputs": [],
   "source": [
    "plot(integrand_w_taylor.subs(n_x == 1, n_y == 1, a == 1, k_m == 1), w, 0, 1)"
   ]
  },
  {
   "cell_type": "raw",
   "metadata": {},
   "source": [
    "F_w(n_x, n_y) = integrate(integrand_w_taylor, w, n_y^2+n_x^2, Infinity, algorithm=\"sympy\")\n",
    "F_w(n_x, n_y)"
   ]
  },
  {
   "cell_type": "code",
   "execution_count": null,
   "metadata": {},
   "outputs": [],
   "source": []
  },
  {
   "cell_type": "code",
   "execution_count": null,
   "metadata": {},
   "outputs": [],
   "source": [
    "# below should be reworked"
   ]
  },
  {
   "cell_type": "code",
   "execution_count": null,
   "metadata": {},
   "outputs": [],
   "source": []
  },
  {
   "cell_type": "markdown",
   "metadata": {},
   "source": [
    "$F\\left(n\\right) = \\int\\limits_{n^2}^{\\infty}{\\sqrt{w}}f\\left(\\pi\\sqrt{w}/\\left(a\\,k_m\\right)\\right)\\,d{w}$"
   ]
  },
  {
   "cell_type": "markdown",
   "metadata": {},
   "source": [
    "whence"
   ]
  },
  {
   "cell_type": "markdown",
   "metadata": {},
   "source": [
    "$F'\\left(n\\right) = -2\\,n^2f\\left(\\pi\\,n/\\left(a\\,k_m\\right)\\right)$"
   ]
  },
  {
   "cell_type": "markdown",
   "metadata": {},
   "source": [
    "$F'\\left(0\\right) = 0$"
   ]
  },
  {
   "cell_type": "markdown",
   "metadata": {},
   "source": [
    "$F'''\\left(0\\right) = -4$"
   ]
  },
  {
   "cell_type": "markdown",
   "metadata": {},
   "source": [
    "The higher derivatives will contain powers of $(\\pi/(a\\,k_m))$ . Thus we find"
   ]
  },
  {
   "cell_type": "markdown",
   "metadata": {},
   "source": [
    "We apply the EULER-MACLAURIN 2D formula:"
   ]
  },
  {
   "cell_type": "markdown",
   "metadata": {},
   "source": [
    "$\\sum\\limits_{\\left(0\\right)\\,1}^{\\infty}\\sum\\limits_{\\left(0\\right)\\,1}^{\\infty}{F\\left(n_x, n_y\\right)}-\\int\\limits_{0}^{\\infty}\\int\\limits_{0}^{\\infty}{F\\left(n_x, n_y\\right)} =  - \\frac{1}{12} \\, \\int_{0}^{\\infty} \\frac{\\partial}{\\partial n_{x}}F\\left(0, n_y\\right)\\,{d n_y} - \\frac{1}{12} \\, \\int_{0}^{\\infty} \\frac{\\partial}{\\partial n_{y}}F\\left(n_x, 0\\right)\\,{d n_x} + \\frac{1}{144} \\, \\frac{\\partial^{2}}{\\partial n_{x}\\partial n_{y}}F\\left(0, 0\\right) \\,+\\,...$"
   ]
  },
  {
   "cell_type": "markdown",
   "metadata": {},
   "source": [
    "or using more terms in the EULER-MACLAURIN 2D formula:"
   ]
  },
  {
   "cell_type": "markdown",
   "metadata": {},
   "source": [
    "$\\sum\\limits_{\\left(0\\right)\\,1}^{\\infty}\\sum\\limits_{\\left(0\\right)\\,1}^{\\infty}{F\\left(n_x, n_y\\right)}-\\int\\limits_{0}^{\\infty}\\int\\limits_{0}^{\\infty}{F\\left(n_x, n_y\\right)} = - \\frac{1}{12} \\, \\int_{0}^{\\infty}  \\, \\frac{\\partial}{\\partial n_{x}}F\\left(0, n_y\\right)\\,{d n_y} + \\frac{1}{720} \\, \\int_{0}^{\\infty} \\frac{\\partial^{3}}{(\\partial n_{x})^{3}}F\\left(0, y\\right)\\,{d n_y} - \\frac{1}{12} \\, \\int_{0}^{\\infty} \\frac{\\partial}{\\partial n_{y}}F\\left(n_x, 0\\right)\\,{d n_x} + \\frac{1}{720} \\, \\int_{0}^{\\infty} \\frac{\\partial^{3}}{(\\partial n_{y})^{3}}F\\left(n_x, 0\\right)\\,{d n_x} - \\frac{1}{8640} \\, \\frac{\\partial^{4}}{(\\partial n_{x})^{3}\\partial n_{y}}F\\left(0, 0\\right) + \\frac{1}{518400} \\, \\frac{\\partial^{6}}{(\\partial n_{x})^{3}(\\partial n_{y})^{3}}F\\left(0, 0\\right) + \\frac{1}{144} \\, \\frac{\\partial^{2}}{\\partial n_{x}\\partial n_{y}}F\\left(0, 0\\right) - \\frac{1}{8640} \\, \\frac{\\partial^{4}}{\\partial n_{x}(\\partial n_{y})^{3}}F\\left(0, 0\\right)\\,+\\,...$"
   ]
  },
  {
   "cell_type": "markdown",
   "metadata": {},
   "source": [
    "$\\delta\\,E/L^2 = \\hbar\\,c\\frac{\\pi^2}{4\\,a^3}\\left\\{\\frac{-4}{24\\times30}\\right\\}$"
   ]
  },
  {
   "cell_type": "markdown",
   "metadata": {},
   "source": [
    "a formula which holds as long as $a\\,k_m\\,»\\,1$. For the force per $cm^2$ we find"
   ]
  },
  {
   "cell_type": "markdown",
   "metadata": {},
   "source": [
    "$F = \\hbar\\,c\\frac{\\pi^2}{240}\\frac{1}{a^4}\\,=\\,0.013\\,\\frac{1}{a_{\\mu}^4}\\,dyne/cm^2$"
   ]
  },
  {
   "cell_type": "markdown",
   "metadata": {},
   "source": [
    "where $a_{\\mu}$ is the distance measured in microns. "
   ]
  },
  {
   "cell_type": "markdown",
   "metadata": {},
   "source": [
    "We are thus led to the following conclusions. There exists an attractive\n",
    "force between two metal plates which is independent of the material of\n",
    "the plates as long as the distance is so large that for wave . lengths\n",
    "comparable with that distance the penetration depth is small compared with\n",
    "the distance. This force may be interpreted as a zero point pressure of\n",
    "electromagnetic waves."
   ]
  },
  {
   "cell_type": "markdown",
   "metadata": {},
   "source": [
    "Although the effect is smalI, an experimental confirmation seems not\n",
    "unfeasable and might be of a certain interest. "
   ]
  },
  {
   "cell_type": "markdown",
   "metadata": {},
   "source": [
    "Natuurkundig Laboratorium der N.V. Philips'\n",
    "Gloeilampenfabrieken. Eindhoven .) "
   ]
  },
  {
   "cell_type": "markdown",
   "metadata": {},
   "source": [
    "30 January 2019\n",
    "\n",
    "Metal nano-honeycomb fabricated by colloidal assembly and femtosecond-laser annealing\n",
    "\n",
    "https://www.spiedigitallibrary.org/conference-proceedings-of-spie/10841/108410A/Metal-nano-honeycomb-fabricated-by-colloidal-assembly-and-femtosecond-laser/10.1117/12.2508593.full?SSO=1"
   ]
  },
  {
   "cell_type": "markdown",
   "metadata": {},
   "source": [
    "Bio-Inspired Engineering of Honeycomb Structure - Using Nature to Inspire Human Innovation\n",
    "\n",
    "https://www.researchgate.net/figure/Mechanical-behavior-of-micro-and-nano-honeycomb-materials_tbl1_280239925"
   ]
  },
  {
   "cell_type": "markdown",
   "metadata": {},
   "source": [
    "Nano-honeycomb structures for optimal energy absorption: numerical analysis and experiments\n",
    "\n",
    "https://www.alliedacademies.org/articles/nanohoneycomb-structures-for-optimal-energy-absorption-numerical-analysisand-experiments-8375.html"
   ]
  },
  {
   "cell_type": "code",
   "execution_count": null,
   "metadata": {},
   "outputs": [],
   "source": [
    "#kappa = sqrt(k_x^2+k_y^2)\n",
    "kappa = var(\"kappa\")"
   ]
  },
  {
   "cell_type": "code",
   "execution_count": null,
   "metadata": {},
   "outputs": [],
   "source": [
    "k = sqrt(kappa^2+k_z^2)\n",
    "k"
   ]
  },
  {
   "cell_type": "markdown",
   "metadata": {},
   "source": [
    "$F\\left(n_x, n_y\\right) = \\int\\limits_{n_x^2 + n_y^2}^{\\infty}\\frac{{w^2}f\\left(\\pi w/\\left(a\\,k_m\\right)\\right)}{\\sqrt{w^2 - (n_x^2 + n_y^2)}}\\,{d w}$"
   ]
  },
  {
   "cell_type": "code",
   "execution_count": null,
   "metadata": {},
   "outputs": [],
   "source": [
    "N = var (\"N\") # Infinity\n",
    "forget()\n",
    "\n",
    "\n",
    "from sage.symbolic.integration.integral import definite_integral\n",
    "#F_w(n_x, n_y) = definite_integral(integrand_w, w, n_y^2+n_x^2, Infinity)\n"
   ]
  },
  {
   "cell_type": "code",
   "execution_count": null,
   "metadata": {},
   "outputs": [],
   "source": [
    "def definite_integral_derivative(f, x, a, b, diff_param=None):\n",
    "    \"\"\"\n",
    "    Return the derivative of symbolic integration\n",
    "\n",
    "    EXAMPLES::\n",
    "\n",
    "        sage: from sage.symbolic.integration.integral import definite_integral\n",
    "        sage: f = function('f'); a,b=var('a,b')\n",
    "        sage: h = definite_integral(f(x), x,a,b)\n",
    "        sage: h.diff(x) # indirect doctest\n",
    "        0\n",
    "        sage: h.diff(a)\n",
    "        -f(a)\n",
    "        sage: h.diff(b)\n",
    "        f(b)\n",
    "    \"\"\"\n",
    "    if not x.has(diff_param):\n",
    "        # integration variable != differentiation variable\n",
    "        #ans = definite_integral(f.diff(diff_param), x, a, b)\n",
    "        ans = integrate(f.diff(diff_param), x, a, b, algorithm=\"sympy\")\n",
    "    else:\n",
    "        ans = SR.zero()\n",
    "\n",
    "    if hasattr(b, 'diff'):\n",
    "        if b.diff(diff_param) != 0:\n",
    "            ans += f.subs(x == b) * b.diff(diff_param)\n",
    "    if hasattr(a, 'diff'):\n",
    "        if a.diff(diff_param) != 0:\n",
    "            ans -= f.subs(x == a) * a.diff(diff_param)\n",
    "\n",
    "    return ans"
   ]
  },
  {
   "cell_type": "code",
   "execution_count": null,
   "metadata": {},
   "outputs": [],
   "source": [
    "dFdnx(n_x, n_y) = definite_integral_derivative(integrand_w, w, n_y^2+n_x^2, Infinity, n_x)\n",
    "display(Math(latex(dFdnx(n_x, n_y))))"
   ]
  },
  {
   "cell_type": "raw",
   "metadata": {},
   "source": [
    "int_dFdnx = integrate(dFdnx(n_x, n_y), (n_y, 0, Infinity), algorithm=\"sympy\")\n",
    "display(Math(latex(int_dFdnx)))"
   ]
  },
  {
   "cell_type": "raw",
   "metadata": {},
   "source": [
    "d2Fdnxdny = dFdnx(n_x, n_y).diff(n_y)\n",
    "display(Math(latex(d2Fdnxdny)))"
   ]
  },
  {
   "cell_type": "raw",
   "metadata": {},
   "source": [
    "display(Math(latex(d2Fdnxdny.subs(n_x == 0.0000001, n_y = 0.0000001))))"
   ]
  },
  {
   "cell_type": "raw",
   "metadata": {},
   "source": [
    "d3Fdnx3 = dFdnx(n_x, n_y).diff(n_x, 2)\n",
    "display(Math(latex(d3Fdnx3.subs(n_x == 0.0000001, n_y = 0.0000001))))"
   ]
  },
  {
   "cell_type": "raw",
   "metadata": {},
   "source": [
    "display(Math(latex(d3Fdnx3.subs(n_x == 0.0000001))))"
   ]
  },
  {
   "cell_type": "raw",
   "metadata": {},
   "source": [
    "try:\n",
    "    display(Math(latex((d3Fdnx3).expand().subs(n_x == 0, n_y = 0))))\n",
    "except Exception as ex:\n",
    "    print(ex)\n",
    "    pass"
   ]
  },
  {
   "cell_type": "raw",
   "metadata": {},
   "source": [
    "try:\n",
    "    int_d3Fdnx3 = integrate(d3Fdnx3, n_y, 0, Infinity)\n",
    "    display(Math(latex(int_d3Fdnx3)))\n",
    "except Exception as ex:\n",
    "    print(ex)\n",
    "    # Can't calculate derivative wrt pi*(n_x**2 + n_y**2)/(a*k_m).\n",
    "    pass"
   ]
  },
  {
   "cell_type": "code",
   "execution_count": null,
   "metadata": {},
   "outputs": [],
   "source": [
    "#display(Math(latex(int_d3Fdnx3.expand().subs(n_x == 0.0000001, n_y = 0.0000001))))"
   ]
  },
  {
   "cell_type": "raw",
   "metadata": {},
   "source": [
    "try:\n",
    "    display(Math(latex(int_d3Fdnx3.expand().subs(n_x == 0, n_y = 0))))\n",
    "except Exception as ex:\n",
    "    print(ex)\n",
    "    pass"
   ]
  },
  {
   "cell_type": "raw",
   "metadata": {},
   "source": [
    "display(Math(latex((d3Fdnx3).expand().subs(n_x == 0.0000001, n_y = 0.0000001))))"
   ]
  },
  {
   "cell_type": "raw",
   "metadata": {},
   "source": [
    "d4Fdnx3dny1 = d3Fdnx3.diff(n_y, 1)\n",
    "try:\n",
    "    display(Math(latex(d4Fdnx3dny1.expand().subs(n_x == 0, n_y = 0))))\n",
    "except Exception as ex:\n",
    "    print(ex)\n",
    "    pass"
   ]
  },
  {
   "cell_type": "raw",
   "metadata": {},
   "source": [
    "d4Fdnx3dny1 = d3Fdnx3.diff(n_y, 1)\n",
    "display(Math(latex(d4Fdnx3dny1.expand().subs(n_x == 0.0000001, n_y = 0.0000001))))"
   ]
  },
  {
   "cell_type": "raw",
   "metadata": {},
   "source": [
    "d6Fdnx3dny3 = d3Fdnx3.diff(n_y, 3)\n",
    "display(Math(latex(d6Fdnx3dny3.expand().subs(n_x == 0.0000001, n_y = 0.0000001))))"
   ]
  },
  {
   "cell_type": "raw",
   "metadata": {},
   "source": [
    "try:\n",
    "    display(Math(latex(d6Fdnx3dny3.expand().subs(n_x == 0, n_y = 0))))\n",
    "except Exception as ex:\n",
    "    print(ex)\n",
    "    pass"
   ]
  },
  {
   "cell_type": "raw",
   "metadata": {},
   "source": [
    "# https://ask.sagemath.org/question/10215/lazy-evaluation-of-derivatives-of-an-unknown-function/\n",
    "from sage.symbolic.operators import FDerivativeOperator\n",
    "class Dclass(object):\n",
    "    def __init__(self,L=None):\n",
    "        if L is None:\n",
    "            self.L=[]\n",
    "        else:\n",
    "            self.L=L\n",
    "    def __getitem__(self,index):\n",
    "        if isinstance(index,tuple):\n",
    "            index=list(index)\n",
    "        elif not(isinstance(index,list)):\n",
    "            index=[index]\n",
    "        return Dclass(self.L+index)\n",
    "    def __call__(self,arg):\n",
    "        return FDerivativeOperator(arg,self.L)\n",
    "    def __repr__(self):\n",
    "        return \"D\"+str(self.L)\n",
    "D=Dclass()"
   ]
  }
 ],
 "metadata": {
  "kernelspec": {
   "display_name": "SageMath 9.5",
   "language": "sage",
   "name": "sagemath"
  },
  "language_info": {
   "codemirror_mode": {
    "name": "ipython",
    "version": 3
   },
   "file_extension": ".py",
   "mimetype": "text/x-python",
   "name": "python",
   "nbconvert_exporter": "python",
   "pygments_lexer": "ipython3",
   "version": "3.9.9"
  }
 },
 "nbformat": 4,
 "nbformat_minor": 2
}
