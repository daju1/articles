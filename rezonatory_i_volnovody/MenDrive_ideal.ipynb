{
 "cells": [
  {
   "cell_type": "markdown",
   "metadata": {},
   "source": [
    "# Электродинамический расчёт волнового двигателя с внутренним расходом энергии Ф.Ф.Менде (MenDrive)\n",
    "\n",
    "А.Ю.Дроздов"
   ]
  },
  {
   "cell_type": "markdown",
   "metadata": {},
   "source": [
    "опираясь на выкладки из параграфа 20 Электродинамики Зоммерфельда"
   ]
  },
  {
   "cell_type": "markdown",
   "metadata": {},
   "source": [
    "рассчитаем тягу в\n",
    "\n",
    "http://fmnauka.narod.ru/dvigatel_emdrive.pdf\n",
    "\n",
    "Ф.Ф. МЕНДЕ, ВОЛНОВОЙ ДВИГАТЕЛЬ С ВНУТРЕННИМ РАСХОДОМ ЭНЕРГИИ ЭЛЕКТРОМАГНИТНЫХ КОЛЕБАНИЙ"
   ]
  },
  {
   "cell_type": "markdown",
   "metadata": {},
   "source": [
    "геометрия задачи следующая: \n",
    "\n",
    "поверхность идеального проводника $x<=-a$\n",
    "\n",
    "вакуум внутри резонатора заполняет область $-a<=x<=0$\n",
    "\n",
    "В области $x>0$ - плохой проводник"
   ]
  },
  {
   "cell_type": "markdown",
   "metadata": {},
   "source": [
    "По признанию самого автора изложенному в сообщениях форума\n",
    "\n",
    "http://www.forum.za-nauku.ru/index.php/topic,4911.0.html\n",
    "\n",
    "в статье Менде \"есть скрытая ошибка\" и \"такой двигатель работать не будет\".\n",
    "\n",
    "```\n",
    "Найти ошибку в представленной мной работе нетрудно. Рассмотрите случай, когда из волновода выбрасываются в разные стороны не ЭМ волны, а два одинаковых шара с одинаковыми скоростями, положив, что от одной стенки шар упруго отражается, а по отношению к другой стенке удар является неупругим.\n",
    "```\n",
    "```\n",
    "Вы имеете в виду что на полностью поглощающую поверхность падают на самом деле две (а не одна, как в Вашей работе) падающие волны: одна суть отраженная от полностью отражающей поверхности, а другая от источника подводимой электромагнитной энергии?\n",
    "```\n",
    "\n",
    "```\n",
    "Вот именно.\n",
    "```"
   ]
  },
  {
   "cell_type": "markdown",
   "metadata": {},
   "source": [
    "В ходе нижеприведенного расчёта действительно было установлено, что если резонатор состоит из только лишь идеального проводника с одной стороны и обычного проводника с омическими потерями с другой стороны, то результирующая пондеромоторная очень и очень мало отличается от нуля.\n",
    "\n",
    "Но если вместо плохого проводника произвести моделирование с материалом который обладает не только лишь проводимостью, но также и достаточно заметными диагонально-тензорными диэлектрической и магнитными проницаемостями тогда формируется конфигурация поля приводящая к заметным и весьма интересным с практической точки зрения значениям пондеромоторной силы имеющих в моих расчётах порядок 0.39 ньютонов на киловатт"
   ]
  },
  {
   "cell_type": "markdown",
   "metadata": {},
   "source": [
    "Таблица результатов\n",
    "\n",
    "$$\\begin{array}{c|c|c|c|c|c|c|c|c}\n",
    "\\begin{array}{rcl}\\epsilon_{xx} & & \\\\ & \\epsilon_{yy} & \\\\ & & \\epsilon_{zz} \\end{array}  &\n",
    "\\begin{array}{rcl}\\mu_{xx} & & \\\\ & \\mu_{yy} & \\\\ & & \\mu_{zz}\\end{array} &\n",
    "\\begin{array}{rcl}{\\sigma_{e_{xx}}} & & \\\\ & {\\sigma_{e_{yy}}} & \\\\ & &{\\sigma_{e_{zz}}}\\end{array} &\n",
    "\\begin{array}{rcl}{\\sigma_{m_{xx}}} & & \\\\ & {\\sigma_{m_{yy}}} & \\\\ & &{\\sigma_{m_{zz}}}\\end{array} &\n",
    "\\frac{N}{kW} &\n",
    "k_z\\\\ \\hline\n",
    "\\begin{array}{rcl}1000 & & \\\\& 1000 & \\\\ & & 1000 \\end{array} &\n",
    "\\begin{array}{rcl}1000 & & \\\\& 1000 & \\\\ & & 1000 \\end{array} &\n",
    "\\begin{array}{rcl}5.625e11 & & \\\\& 5.625e11 & \\\\ & & 5.625e11 \\end{array} &\n",
    "\\begin{array}{rcl}5.625e11 & & \\\\& 5.625e11 & \\\\ & & 5.625e11 \\end{array} &\n",
    "0.392977483614124 &\n",
    "6.371356933617039e-05 - 15.707963233171068 i\\\\ \\hline\n",
    "\\begin{array}{rcl}1 & & \\\\& 1000 & \\\\ & & 1000 \\end{array} &\n",
    "\\begin{array}{rcl}1000 & & \\\\& 1000 & \\\\ & & 1000 \\end{array} &\n",
    "\\begin{array}{rcl}5.625e11 & & \\\\& 5.625e11 & \\\\ & & 5.625e11 \\end{array} &\n",
    "\\begin{array}{rcl}5.625e11 & & \\\\& 5.625e11 & \\\\ & & 5.625e11 \\end{array} &\n",
    "0.435098683298623 &\n",
    "5.997190128614029e-05 - 15.707951239926999 i)\\\\ \\hline\n",
    "\\begin{array}{rcl}1 & & \\\\& 1000 & \\\\ & & 1000 \\end{array} &\n",
    "\\begin{array}{rcl}1000 & & \\\\& 1000 & \\\\ & & 1000 \\end{array} &\n",
    "\\begin{array}{rcl}1.8e11 & & \\\\& 1.8e11 & \\\\ & & 1.8e11 \\end{array} &\n",
    "\\begin{array}{rcl}1.8e11 & & \\\\& 1.8e11 & \\\\ & & 1.8e11 \\end{array} &\n",
    "0.221175131544733 &\n",
    "-4.7152942173032584e-05 + 15.7079401640355 i)\\\\ \\hline\n",
    "\\begin{array}{rcl}1 & & \\\\& 1000 & \\\\ & & 1000 \\end{array} &\n",
    "\\begin{array}{rcl}1000 & & \\\\& 1000 & \\\\ & & 1000 \\end{array} &\n",
    "\\begin{array}{rcl}5.625e11 & & \\\\& 5.625e11 & \\\\ & & 5.625e11 \\end{array} &\n",
    "\\begin{array}{rcl}5.625e11 & & \\\\& 5.625e11 & \\\\ & & 5.625e11 \\end{array} &\n",
    "0.423840864411736 &\n",
    "3.058812689054996e-05 - 31.415920398676366 i)\\\\ \\hline\n",
    "\\begin{array}{rcl}1 & & \\\\& 1000 & \\\\ & & 1000 \\end{array} &\n",
    "\\begin{array}{rcl}1 & & \\\\& 1000 & \\\\ & & 1000 \\end{array} &\n",
    "\\begin{array}{rcl}5.625e10 & & \\\\& 5.625e11 & \\\\ & & 5.625e11 \\end{array} &\n",
    "\\begin{array}{rcl}5.625e10 & & \\\\& 5.625e11 & \\\\ & & 5.625e11 \\end{array} &\n",
    "0.32781367752944314342\\\\ \\hline\n",
    "\\begin{array}{rcl}1 & & \\\\& 1000 & \\\\ & & 1000 \\end{array} &\n",
    "\\begin{array}{rcl}1 & & \\\\& 1000 & \\\\ & & 1000 \\end{array} &\n",
    "\\begin{array}{rcl}5.625e11 & & \\\\& 5.625e11 & \\\\ & & 5.625e11 \\end{array} &\n",
    "\\begin{array}{rcl}5.625e11 & & \\\\& 5.625e11 & \\\\ & & 5.625e11 \\end{array} &\n",
    "0.3455178766628406543\\\\ \\hline\n",
    "\\begin{array}{rcl}1 & & \\\\& 1000 & \\\\ & & 1000 \\end{array} &\n",
    "\\begin{array}{rcl}100000 & & \\\\& 1000 & \\\\ & & 1000 \\end{array} &\n",
    "\\begin{array}{rcl}5.625e11 & & \\\\& 5.625e11 & \\\\ & & 5.625e11 \\end{array} &\n",
    "\\begin{array}{rcl}5.625e11 & & \\\\& 5.625e11 & \\\\ & & 5.625e11 \\end{array} &\n",
    "0.34551773552869222318\\\\ \\hline\n",
    "\\end{array}$$"
   ]
  },
  {
   "cell_type": "markdown",
   "metadata": {},
   "source": [
    "Итак начинаем расчёт с записи первой пары уравнений Максвелла"
   ]
  },
  {
   "cell_type": "markdown",
   "metadata": {},
   "source": [
    "$$rot\\,\\vec{E} = -\\frac{1}{c}\\frac{\\partial \\vec B}{\\partial t} - \\frac{4\\pi}{c}\\vec j_m = \\mu\\,\\frac{i\\,\\omega}{c}\\,\\vec{H} - \\frac{4\\pi}{c}\\sigma_m \\vec H $$\n",
    "\n",
    "$$rot\\,\\vec{H} = \\frac{1}{c}\\frac{\\partial \\vec D}{\\partial t} + \\frac{4\\pi}{c} \\vec j_e = - \\frac{i\\,\\omega}{c} \\epsilon \\vec{E} + \\frac{4\\pi}{c}\\sigma_e \\vec E$$"
   ]
  },
  {
   "cell_type": "markdown",
   "metadata": {},
   "source": [
    "ищем решение в виде позволяющем разделить переменные\n",
    "\n",
    "$$\\vec{E}(t) = \\vec{E}(x, y)\\,e^{i\\,K_z\\,z}\\,e^{-i\\,\\omega\\,t}$$\n",
    "\n",
    "$$\\vec{E} = \\vec{E}(x, y)\\,e^{i\\,K_z\\,z}$$"
   ]
  },
  {
   "cell_type": "markdown",
   "metadata": {},
   "source": [
    "$$\\vec{H}(t) = \\vec{H}(x, y)\\,e^{i\\,K_z\\,z}\\,e^{-i\\,\\omega\\,t}$$\n",
    "\n",
    "$$\\vec{H} = \\vec{H}(x, y)\\,e^{i\\,K_z\\,z}$$"
   ]
  },
  {
   "cell_type": "markdown",
   "metadata": {},
   "source": [
    "расписываем ротор через производные"
   ]
  },
  {
   "cell_type": "markdown",
   "metadata": {},
   "source": [
    "$$\\mu\\,\\frac{i\\,\\omega}{c}\\,\\vec{H} - \\frac{4\\pi}{c}\\sigma_m \\vec H = {\\displaystyle {\\text{rot}}\\vec {E} =\\left({\\frac {\\partial E_{z}}{\\partial y}}-{\\frac {\\partial E_{y}}{\\partial z}}\\right)\\mathbf {i} +\\left({\\frac {\\partial E_{x}}{\\partial z}}-{\\frac {\\partial E_{z}}{\\partial x}}\\right)\\mathbf {j} +\\left({\\frac {\\partial E_{y}}{\\partial x}}-{\\frac {\\partial E_{x}}{\\partial y}}\\right)\\mathbf {k} }$$"
   ]
  },
  {
   "cell_type": "markdown",
   "metadata": {},
   "source": [
    "$$ - \\frac{i\\,\\omega}{c} \\epsilon \\vec{E} + \\frac{4\\pi}{c}\\sigma_e \\vec E = {\\displaystyle {\\text{rot}}\\vec {H} =\\left({\\frac {\\partial H_{z}}{\\partial y}}-{\\frac {\\partial H_{y}}{\\partial z}}\\right)\\mathbf {i} +\\left({\\frac {\\partial H_{x}}{\\partial z}}-{\\frac {\\partial H_{z}}{\\partial x}}\\right)\\mathbf {j} +\\left({\\frac {\\partial H_{y}}{\\partial x}}-{\\frac {\\partial H_{x}}{\\partial y}}\\right)\\mathbf {k} }$$"
   ]
  },
  {
   "cell_type": "markdown",
   "metadata": {},
   "source": [
    "учитывая, что дифференцирование по $z$ приводит к умножению на $i K_z$"
   ]
  },
  {
   "cell_type": "markdown",
   "metadata": {},
   "source": [
    "$$\\left(\\mu\\,\\frac{i\\,\\omega}{c} - \\frac{4\\pi}{c}\\sigma_m \\right) \\vec H = { \\left({\\frac {\\partial E_{z}}{\\partial y}}-i K_z E_{y}\\right)\\mathbf {i} +\\left(i K_z E_{x}-{\\frac {\\partial E_{z}}{\\partial x}}\\right)\\mathbf {j} +\\left({\\frac {\\partial E_{y}}{\\partial x}}-{\\frac {\\partial E_{x}}{\\partial y}}\\right)\\mathbf {k} }$$"
   ]
  },
  {
   "cell_type": "markdown",
   "metadata": {},
   "source": [
    "$$ \\left(- \\frac{i\\,\\omega}{c} \\epsilon + \\frac{4\\pi}{c}\\sigma_e \\right) \\vec E = \\left({\\frac {\\partial H_{z}}{\\partial y}}-i K_z H_{y}\\right)\\mathbf {i} +\\left(i K_z H_{x}-{\\frac {\\partial H_{z}}{\\partial x}}\\right)\\mathbf {j} +\\left({\\frac {\\partial H_{y}}{\\partial x}}-{\\frac {\\partial H_{x}}{\\partial y}}\\right)\\mathbf {k} $$"
   ]
  },
  {
   "cell_type": "markdown",
   "metadata": {},
   "source": [
    "$$\\frac{i\\,\\omega}{c}\\left(\\mu + i \\frac{4\\pi}{\\omega}\\sigma_m \\right) \\vec H = { \\left({\\frac {\\partial E_{z}}{\\partial y}}-i K_z E_{y}\\right)\\mathbf {i} +\\left(i K_z E_{x}-{\\frac {\\partial E_{z}}{\\partial x}}\\right)\\mathbf {j} +\\left({\\frac {\\partial E_{y}}{\\partial x}}-{\\frac {\\partial E_{x}}{\\partial y}}\\right)\\mathbf {k} }$$"
   ]
  },
  {
   "cell_type": "markdown",
   "metadata": {},
   "source": [
    "$$ - \\frac{i\\,\\omega}{c}\\left( \\epsilon + i \\frac{4\\pi}{\\omega}\\sigma_e \\right) \\vec E = \\left({\\frac {\\partial H_{z}}{\\partial y}}-i K_z H_{y}\\right)\\mathbf {i} +\\left(i K_z H_{x}-{\\frac {\\partial H_{z}}{\\partial x}}\\right)\\mathbf {j} +\\left({\\frac {\\partial H_{y}}{\\partial x}}-{\\frac {\\partial H_{x}}{\\partial y}}\\right)\\mathbf {k} $$"
   ]
  },
  {
   "cell_type": "markdown",
   "metadata": {},
   "source": [
    "принимая модель комплексного представления магнитной проницаемости $\\mu' = \\mu + \\frac{4\\pi\\,\\sigma_m}{\\omega}\\,i$ (магнитный проводник)"
   ]
  },
  {
   "cell_type": "markdown",
   "metadata": {},
   "source": [
    "и комплексного представления диэлектрической проницаемости $\\epsilon' = \\epsilon + \\frac{4\\pi\\,\\sigma}{\\omega}\\,i$ (плохой проводник)"
   ]
  },
  {
   "cell_type": "markdown",
   "metadata": {},
   "source": [
    "$$\\frac{i\\,\\omega}{c}\\mu' \\vec H = { \\left({\\frac {\\partial E_{z}}{\\partial y}}-i K_z E_{y}\\right)\\mathbf {i} +\\left(i K_z E_{x}-{\\frac {\\partial E_{z}}{\\partial x}}\\right)\\mathbf {j} +\\left({\\frac {\\partial E_{y}}{\\partial x}}-{\\frac {\\partial E_{x}}{\\partial y}}\\right)\\mathbf {k} }$$"
   ]
  },
  {
   "cell_type": "markdown",
   "metadata": {},
   "source": [
    "$$ - \\frac{i\\,\\omega}{c} \\epsilon' \\vec E = \\left({\\frac {\\partial H_{z}}{\\partial y}}-i K_z H_{y}\\right)\\mathbf {i} +\\left(i K_z H_{x}-{\\frac {\\partial H_{z}}{\\partial x}}\\right)\\mathbf {j} +\\left({\\frac {\\partial H_{y}}{\\partial x}}-{\\frac {\\partial H_{x}}{\\partial y}}\\right)\\mathbf {k} $$"
   ]
  },
  {
   "cell_type": "markdown",
   "metadata": {},
   "source": [
    "Покомпонентно (если тензоры магнитной и электрической проницаемостей диагональны)"
   ]
  },
  {
   "cell_type": "markdown",
   "metadata": {},
   "source": [
    "$$\\frac{i\\,\\omega}{c}{{\\mu'}_{xx}} H_x = \\frac {\\partial E_{z}}{\\partial y}-i K_z E_{y}$$"
   ]
  },
  {
   "cell_type": "markdown",
   "metadata": {},
   "source": [
    "$$\\frac{i\\,\\omega}{c}{\\mu'}_{yy} H_y = i K_z E_{x}-{\\frac {\\partial E_{z}}{\\partial x}}$$"
   ]
  },
  {
   "cell_type": "markdown",
   "metadata": {},
   "source": [
    "$$\\frac{i\\,\\omega}{c}{\\mu'}_{zz} H_z = {\\frac {\\partial E_{y}}{\\partial x}}-{\\frac {\\partial E_{x}}{\\partial y}}$$"
   ]
  },
  {
   "cell_type": "markdown",
   "metadata": {},
   "source": [
    "и"
   ]
  },
  {
   "cell_type": "markdown",
   "metadata": {},
   "source": [
    "$$ - \\frac{i\\,\\omega}{c} {\\epsilon'}_{xx} E_x = {\\frac {\\partial H_{z}}{\\partial y}}-i K_z H_{y} $$"
   ]
  },
  {
   "cell_type": "markdown",
   "metadata": {},
   "source": [
    "$$ - \\frac{i\\,\\omega}{c} {\\epsilon'}_{yy} E_y = i K_z H_{x}-{\\frac {\\partial H_{z}}{\\partial x}}$$"
   ]
  },
  {
   "cell_type": "markdown",
   "metadata": {},
   "source": [
    "$$ - \\frac{i\\,\\omega}{c} {\\epsilon'}_{zz} E_z = {\\frac {\\partial H_{y}}{\\partial x}}-{\\frac {\\partial H_{x}}{\\partial y}}$$"
   ]
  },
  {
   "cell_type": "markdown",
   "metadata": {},
   "source": [
    "Группируем уравнения в пары, удобные для исключения переменных поля в левой части"
   ]
  },
  {
   "cell_type": "markdown",
   "metadata": {},
   "source": [
    "$$\\frac{i\\,\\omega}{c}{\\mu'}_{xx} H_x+i K_z E_{y} = \\frac {\\partial E_{z}}{\\partial y}$$"
   ]
  },
  {
   "cell_type": "markdown",
   "metadata": {},
   "source": [
    "$$ - \\frac{i\\,\\omega}{c} {\\epsilon'}_{yy} E_y - i K_z H_{x}= -{\\frac {\\partial H_{z}}{\\partial x}}$$"
   ]
  },
  {
   "cell_type": "markdown",
   "metadata": {},
   "source": [
    "и"
   ]
  },
  {
   "cell_type": "markdown",
   "metadata": {},
   "source": [
    "$$\\frac{i\\,\\omega}{c}{\\mu'}_{yy} H_y - i K_z E_{x} = -{\\frac {\\partial E_{z}}{\\partial x}}$$"
   ]
  },
  {
   "cell_type": "markdown",
   "metadata": {},
   "source": [
    "$$ i K_z H_{y}- \\frac{i\\,\\omega}{c} {\\epsilon'}_{xx} E_x = {\\frac {\\partial H_{z}}{\\partial y}} $$"
   ]
  },
  {
   "cell_type": "markdown",
   "metadata": {},
   "source": [
    "Производя исключение"
   ]
  },
  {
   "cell_type": "markdown",
   "metadata": {},
   "source": [
    "$$\\left(\\frac{i \\omega {\\mu'}_{xx}}{K_z c} - \\frac{i\\,K_z c}{\\omega {\\epsilon'}_{yy}}\\right) H_{x}= \\frac{1}{K_z }\\frac {\\partial E_{z}}{\\partial y}-\\frac{c}{\\omega {\\epsilon'}_{yy}}{\\frac {\\partial H_{z}}{\\partial x}}$$"
   ]
  },
  {
   "cell_type": "markdown",
   "metadata": {},
   "source": [
    "$$\\left(\\frac{i K_z c}{\\omega {\\mu'}_{xx}} - \\frac{i\\,\\omega {\\epsilon'}_{yy}}{K_z c}  \\right)E_y = \\frac{c}{\\omega {\\mu'}_{xx}} \\frac {\\partial E_{z}}{\\partial y}-\\frac{1}{K_z}{\\frac {\\partial H_{z}}{\\partial x}}$$"
   ]
  },
  {
   "cell_type": "markdown",
   "metadata": {},
   "source": [
    "и"
   ]
  },
  {
   "cell_type": "markdown",
   "metadata": {},
   "source": [
    "$$\\left(\\frac{i\\,\\omega}{K_z c}{\\mu'}_{yy}  - \\frac{i K_z c}{\\omega {\\epsilon'}_{xx}} \\right) H_{y} = -\\frac{1}{K_z}{\\frac {\\partial E_{z}}{\\partial x}} - \\frac{c}{\\omega {\\epsilon'}_{xx}} {\\frac {\\partial H_{z}}{\\partial y}}$$"
   ]
  },
  {
   "cell_type": "markdown",
   "metadata": {},
   "source": [
    "$$ \\left(\\frac{i K_z c}{\\omega{\\mu'}_{yy}} - \\frac{i\\,\\omega}{K_z c} {\\epsilon'}_{xx} \\right) E_x = \\frac{1}{K_z} {\\frac {\\partial H_{z}}{\\partial y}} + \\frac{c}{\\omega{\\mu'}_{yy}}{\\frac {\\partial E_{z}}{\\partial x}} $$"
   ]
  },
  {
   "cell_type": "markdown",
   "metadata": {},
   "source": [
    "Получаем выражение для поперечных (по отношению к оси волновода $z$ ) компонент поля через продольные"
   ]
  },
  {
   "cell_type": "markdown",
   "metadata": {},
   "source": [
    "Учитывая также запись третьего уравнения Максвелла в виде\n",
    "\n",
    "$$div\\,\\vec{D} = 4\\pi\\rho$$"
   ]
  },
  {
   "cell_type": "markdown",
   "metadata": {},
   "source": [
    "$$div\\,\\epsilon\\vec{E} = 4\\pi\\rho$$\n"
   ]
  },
  {
   "cell_type": "markdown",
   "metadata": {},
   "source": [
    "Итак начинаем расчёт с записи первой пары уравнений Максвелла"
   ]
  },
  {
   "cell_type": "markdown",
   "metadata": {},
   "source": [
    "$$rot\\,\\vec{E} = -\\frac{1}{c}\\frac{\\partial \\vec B}{\\partial t} - \\frac{4\\pi}{c}\\vec j_m = \\frac{i\\,\\omega}{c}\\mu'\\,\\vec{H}$$\n",
    "\n",
    "$$rot\\,\\vec{H} = \\frac{1}{c}\\frac{\\partial \\vec D}{\\partial t} + \\frac{4\\pi}{c} \\vec j_e = - \\frac{i\\,\\omega}{c} \\epsilon' \\vec{E}$$"
   ]
  },
  {
   "cell_type": "markdown",
   "metadata": {},
   "source": [
    "Применяя к первому уравнению из этой пары операцию ротора\n",
    "\n",
    "$$rot\\,rot\\,\\vec{E} =  \\frac{i\\,\\omega}{c} \\, rot\\left(\\mu'\\,\\vec{H}\\right)$$"
   ]
  },
  {
   "cell_type": "markdown",
   "metadata": {},
   "source": [
    "при условии диагональности тензора магнитной проницаемости"
   ]
  },
  {
   "cell_type": "markdown",
   "metadata": {},
   "source": [
    "$$ rot\\left(\\mu'\\,\\vec{H}\\right) =\n",
    "\\left({\\frac {\\partial \\left(\\mu'_{zz}H_{z}\\right)}{\\partial y}}-{\\frac {\\partial\\left( \\mu'_{yy} H_{y}\\right)}{\\partial z}}\\right)\\mathbf {i} +\\left({\\frac {\\partial \\left(\\mu'_{xx} H_{x}\\right)}{\\partial z}}-{\\frac {\\partial \\left(\\mu'_{zz} H_{z}\\right)}{\\partial x}}\\right)\\mathbf {j} +\\left({\\frac {\\partial \\left(\\mu'_{yy}H_{y}\\right)}{\\partial x}}-{\\frac {\\partial \\left(\\mu'_{xx} H_{x}\\right)}{\\partial y}}\\right)\\mathbf {k}$$"
   ]
  },
  {
   "cell_type": "markdown",
   "metadata": {},
   "source": [
    "Поскольку нам нужно получить дифференциальное уравнение для продольной (z) компоненты поля (ибо поперечные компоненты поля выше уже удалось выразить через продольные, мы далее пишем"
   ]
  },
  {
   "cell_type": "markdown",
   "metadata": {},
   "source": [
    "$$\\left(rot\\,rot\\,\\vec{E}\\right)_x = \\frac{i\\,\\omega}{c} \\, \\left({\\frac {\\partial \\left(\\mu'_{zz}H_{z}\\right)}{\\partial y}}-{\\frac {\\partial \\left(\\mu'_{yy} H_{y}\\right)}{\\partial z}}\\right)$$"
   ]
  },
  {
   "cell_type": "markdown",
   "metadata": {},
   "source": [
    "$$\\left(rot\\,rot\\,\\vec{E}\\right)_x = \\frac{i\\,\\omega}{c} \\, \\left({\\frac {\\partial \\left(\\left(\\mu'_{zz}-\\mu'_{yy}+\\mu'_{yy}\\right)H_{z}\\right)}{\\partial y}}-{\\frac {\\partial \\left(\\mu'_{yy} H_{y}\\right)}{\\partial z}}\\right)$$"
   ]
  },
  {
   "cell_type": "markdown",
   "metadata": {},
   "source": [
    "$$\\left(rot\\,rot\\,\\vec{E}\\right)_x = \\frac{i\\,\\omega}{c} \\, \\left({\\frac {\\partial \\left(\\left(\\mu'_{zz}-\\mu'_{yy}\\right)H_{z}\\right)}{\\partial y}}\\right) + \\frac{i\\,\\omega}{c} \\, \\left({\\frac {\\partial \\left(\\mu'_{yy} H_{z}\\right)}{\\partial y}}-{\\frac {\\partial \\left(\\mu'_{yy} H_{y}\\right)}{\\partial z}}\\right)$$"
   ]
  },
  {
   "cell_type": "markdown",
   "metadata": {},
   "source": [
    "$$\\left(rot\\,rot\\,\\vec{E}\\right)_x = \\left(\\mu'_{zz}-\\mu'_{yy}\\right) \\frac{i\\,\\omega}{c} \\, \\left({\\frac {\\partial H_{z}}{\\partial y}}\\right) + \\frac{i\\,\\omega}{c} \\, \\mu'_{yy}\\left(rot \\vec H\\right)_x$$"
   ]
  },
  {
   "cell_type": "markdown",
   "metadata": {},
   "source": [
    "$$\\left(rot\\,rot\\,\\vec{E}\\right)_x = \\left(\\mu'_{zz}-\\mu'_{yy}\\right) \\frac{i\\,\\omega}{c} \\, \\left({\\frac {\\partial H_{z}}{\\partial y}}\\right) + \\frac{i\\,\\omega}{c} \\, \\mu'_{yy}\\left(- \\frac{i\\,\\omega}{c} \\epsilon' \\vec{E}\\right)_x$$"
   ]
  },
  {
   "cell_type": "markdown",
   "metadata": {},
   "source": [
    "$$\\left(rot\\,rot\\,\\vec{E}\\right)_x = \\left(\\mu'_{zz}-\\mu'_{yy}\\right) \\frac{i\\,\\omega}{c} \\, \\left({\\frac {\\partial H_{z}}{\\partial y}}\\right) + \\frac{\\omega^2}{c^2} \\, \\mu'_{yy}\\epsilon'_{xx} {E_x}$$"
   ]
  },
  {
   "cell_type": "code",
   "execution_count": null,
   "metadata": {},
   "outputs": [],
   "source": []
  },
  {
   "cell_type": "markdown",
   "metadata": {},
   "source": [
    "\n",
    "$$\\left(rot\\,rot\\,\\vec{E}\\right)_y =  \\frac{i\\,\\omega}{c} \\, \\left({\\frac {\\partial \\left( \\mu'_{xx} H_{x}\\right)}{\\partial z}}-{\\frac {\\partial \\left(\\mu'_{zz} H_{z}\\right)}{\\partial x}}\\right)$$"
   ]
  },
  {
   "cell_type": "markdown",
   "metadata": {},
   "source": [
    "\n",
    "$$\\left(rot\\,rot\\,\\vec{E}\\right)_y =  \\frac{i\\,\\omega}{c} \\, \\left({\\frac {\\partial \\left( \\left(\\mu'_{xx} - \\mu'_{zz} + \\mu'_{zz}\\right) H_{x}\\right)}{\\partial z}}-{\\frac {\\partial \\left(\\mu'_{zz} H_{z}\\right)}{\\partial x}}\\right)$$"
   ]
  },
  {
   "cell_type": "markdown",
   "metadata": {},
   "source": [
    "$$\\left(rot\\,rot\\,\\vec{E}\\right)_y =  \\frac{i\\,\\omega}{c} \\, {\\frac {\\partial \\left( \\left(\\mu'_{xx} - \\mu'_{zz}\\right) H_{x}\\right)}{\\partial z}} + \\frac{i\\,\\omega}{c} \\, \\left({\\frac {\\partial \\left( \\mu'_{zz} H_{x}\\right)}{\\partial z}}-{\\frac {\\partial \\left(\\mu'_{zz} H_{z}\\right)}{\\partial x}}\\right)$$"
   ]
  },
  {
   "cell_type": "markdown",
   "metadata": {},
   "source": [
    "$$\\left(rot\\,rot\\,\\vec{E}\\right)_y = \\left(\\mu'_{xx} - \\mu'_{zz}\\right) \\frac{i\\,\\omega}{c} \\, {\\frac {\\partial   H_{x}}{\\partial z}} + \\frac{i\\,\\omega}{c} \\, \\mu'_{zz}\\left(rot \\vec H\\right)_y$$"
   ]
  },
  {
   "cell_type": "markdown",
   "metadata": {},
   "source": [
    "$$\\left(rot\\,rot\\,\\vec{E}\\right)_y = \\left(\\mu'_{xx} - \\mu'_{zz}\\right) \\frac{i\\,\\omega}{c} \\, {\\frac {\\partial   H_{x}}{\\partial z}} + \\frac{i\\,\\omega}{c} \\, \\mu'_{zz}\\left(- \\frac{i\\,\\omega}{c} \\epsilon' \\vec{E}\\right)_y$$"
   ]
  },
  {
   "cell_type": "markdown",
   "metadata": {},
   "source": [
    "$$\\left(rot\\,rot\\,\\vec{E}\\right)_y = \\left(\\mu'_{xx} - \\mu'_{zz}\\right) \\frac{i\\,\\omega}{c} \\, {\\frac {\\partial   H_{x}}{\\partial z}} + \\frac{\\omega^2}{c^2} \\, \\mu'_{zz} \\epsilon'_{yy} {E}_y$$"
   ]
  },
  {
   "cell_type": "code",
   "execution_count": null,
   "metadata": {},
   "outputs": [],
   "source": []
  },
  {
   "cell_type": "markdown",
   "metadata": {},
   "source": [
    "\n",
    "$$\\left(rot\\,rot\\,\\vec{E}\\right)_z =  \\frac{i\\,\\omega}{c} \\, \\left({\\frac {\\partial \\left(\\mu'_{yy}H_{y}\\right)}{\\partial x}}-{\\frac {\\partial \\left(\\mu'_{xx} H_{x}\\right)}{\\partial y}}\\right)$$"
   ]
  },
  {
   "cell_type": "markdown",
   "metadata": {},
   "source": [
    "$$\\left(rot\\,rot\\,\\vec{E}\\right)_z =  \\frac{i\\,\\omega}{c} \\, \\left({\\frac {\\partial \\left(\\left(\\mu'_{yy}-\\mu'_{xx}+\\mu'_{xx}\\right)H_{y}\\right)}{\\partial x}}-{\\frac {\\partial \\left(\\mu'_{xx} H_{x}\\right)}{\\partial y}}\\right)$$"
   ]
  },
  {
   "cell_type": "markdown",
   "metadata": {},
   "source": [
    "$$\\left(rot\\,rot\\,\\vec{E}\\right)_z =  \\frac{i\\,\\omega}{c} \\, {\\frac {\\partial \\left(\\left(\\mu'_{yy}-\\mu'_{xx}\\right)H_{y}\\right)}{\\partial x}} + \\frac{i\\,\\omega}{c} \\, \\left({\\frac {\\partial \\left(\\mu'_{xx}\\,H_{y}\\right)}{\\partial x}}-{\\frac {\\partial \\left(\\mu'_{xx}\\, H_{x}\\right)}{\\partial y}}\\right)$$"
   ]
  },
  {
   "cell_type": "markdown",
   "metadata": {},
   "source": [
    "$$\\left(rot\\,rot\\,\\vec{E}\\right)_z =  \\left(\\mu'_{yy}-\\mu'_{xx}\\right)\\frac{i\\,\\omega}{c} \\, {\\frac {\\partial H_{y}}{\\partial x}} + \\frac{i\\,\\omega}{c} \\, \\mu'_{xx}\\left(rot \\vec H\\right)_z$$"
   ]
  },
  {
   "cell_type": "markdown",
   "metadata": {},
   "source": [
    "$$\\left(rot\\,rot\\,\\vec{E}\\right)_z = \\left(\\mu'_{yy}-\\mu'_{xx}\\right) \\frac{i\\,\\omega}{c} \\, {\\frac {\\partial H_{y}}{\\partial x}} + \\frac{i\\,\\omega}{c} \\, \\mu'_{xx}\\left(- \\frac{i\\,\\omega}{c} \\epsilon' \\vec{E}\\right)_z$$"
   ]
  },
  {
   "cell_type": "markdown",
   "metadata": {},
   "source": [
    "$$\\left(rot\\,rot\\,\\vec{E}\\right)_z = \\left(\\mu'_{yy}-\\mu'_{xx}\\right) \\frac{i\\,\\omega}{c} \\, {\\frac {\\partial  H_{y}}{\\partial x}} + \\frac{\\omega^2}{c^2} \\, \\mu'_{xx}\\epsilon'_{zz} {E}_z$$"
   ]
  },
  {
   "cell_type": "markdown",
   "metadata": {},
   "source": [
    "$$rot\\,rot\\,\\vec{E} = grad\\,div\\,\\vec{E} - Laplasian\\,\\vec{E}$$"
   ]
  },
  {
   "cell_type": "markdown",
   "metadata": {},
   "source": [
    "$$\\left(Laplasian\\,\\vec{E}\\right)_z + \\left(\\mu'_{yy}-\\mu'_{xx}\\right) \\frac{i\\,\\omega}{c} \\, {\\frac {\\partial  H_{y}}{\\partial x}} + \\frac{\\omega^2}{c^2} \\, \\mu'_{xx}\\epsilon'_{zz} {E}_z - \\left(grad\\,div\\,\\vec{E} \\right)_z = 0$$"
   ]
  },
  {
   "cell_type": "markdown",
   "metadata": {},
   "source": [
    "Рассмотрим сейчас градиент дивергенции"
   ]
  },
  {
   "cell_type": "markdown",
   "metadata": {},
   "source": [
    "ищем решение в виде позволяющем разделить переменные\n",
    "\n",
    "$$\\vec{E}(t) = \\vec{E}(x, y)\\,e^{i\\,K_z\\,z}\\,e^{-i\\,\\omega\\,t}$$\n",
    "\n",
    "$$\\vec{E} = \\vec{E}(x, y)\\,e^{i\\,K_z\\,z}$$"
   ]
  },
  {
   "cell_type": "markdown",
   "metadata": {},
   "source": [
    "$$div = \\left(\\frac{\\partial}{\\partial x} \\hat i + \\frac{\\partial}{\\partial y} \\hat j+ \\frac{\\partial}{\\partial z} \\hat k\\right) \\cdot$$"
   ]
  },
  {
   "cell_type": "markdown",
   "metadata": {},
   "source": [
    "$$div\\,\\vec{E} = \\left(\\frac{\\partial E_x(x, y)\\,e^{i\\,K_z\\,z}}{\\partial x} + \\frac{\\partial E_y(x, y)\\,e^{i\\,K_z\\,z}}{\\partial y} + \\frac{\\partial E_z(x, y)\\,e^{i\\,K_z\\,z}}{\\partial z}\\right)\\,e^{-i\\,\\omega\\,t} $$"
   ]
  },
  {
   "cell_type": "markdown",
   "metadata": {},
   "source": [
    "$$div\\,\\vec{E} = \\left(\\frac{\\partial E_x(x, y)}{\\partial x} + \\frac{\\partial E_y(x, y)}{\\partial y} + i\\,K_z E_z(x, y)\\right)\\,e^{i\\,K_z\\,z} \\,e^{-i\\,\\omega\\,t}$$"
   ]
  },
  {
   "cell_type": "markdown",
   "metadata": {},
   "source": [
    "выберем решение для которого поле не изменяется вдоль y"
   ]
  },
  {
   "cell_type": "markdown",
   "metadata": {},
   "source": [
    "$$\\left(grad \\, div\\,\\vec{E}\\right)_x = \\frac{\\partial}{\\partial x}\\left(\\frac{\\partial E_x(x, y)}{\\partial x} +  i\\,K_z E_z(x, y)\\right)\\,e^{i\\,K_z\\,z} \\,e^{-i\\,\\omega\\,t}$$"
   ]
  },
  {
   "cell_type": "markdown",
   "metadata": {},
   "source": [
    "$$\\left(grad \\, div\\,\\vec{E}\\right)_x = \\left(\\frac{\\partial^2 E_x(x, y)}{\\partial x^2} +  i\\,K_z \\frac{\\partial E_z(x, y)}{\\partial x}\\right)\\,e^{i\\,K_z\\,z} \\,e^{-i\\,\\omega\\,t}$$"
   ]
  },
  {
   "cell_type": "markdown",
   "metadata": {},
   "source": [
    "$$\\left(grad \\, div\\,\\vec{E}\\right)_y = 0$$"
   ]
  },
  {
   "cell_type": "markdown",
   "metadata": {},
   "source": [
    "$$\\left(grad \\, div\\,\\vec{E}\\right)_z = \\frac{\\partial}{\\partial z}\\left\\{\\left(\\frac{\\partial E_x(x, y)}{\\partial x} +  i\\,K_z E_z(x, y)\\right)\\,e^{i\\,K_z\\,z}\\right\\} \\,e^{-i\\,\\omega\\,t}$$"
   ]
  },
  {
   "cell_type": "markdown",
   "metadata": {},
   "source": [
    "$$\\left(grad \\, div\\,\\vec{E}\\right)_z = i \\,K_z\\left(\\frac{\\partial E_x(x, y)}{\\partial x} + i\\,K_z E_z(x, y)\\right)\\,e^{i\\,K_z\\,z} \\,e^{-i\\,\\omega\\,t}$$"
   ]
  },
  {
   "cell_type": "markdown",
   "metadata": {},
   "source": [
    "$$\\left(grad \\, div\\,\\vec{E}\\right)_z = \\left(i \\,K_z\\,\\frac{\\partial E_x(x, y)}{\\partial x} -\\,K_z^2 E_z(x, y)\\right)\\,e^{i\\,K_z\\,z} \\,e^{-i\\,\\omega\\,t}$$"
   ]
  },
  {
   "cell_type": "markdown",
   "metadata": {},
   "source": [
    "С.Б. Каравашкин. ТРАНСФОРМАЦИЯ ТЕОРЕМЫ О ДИВЕРГЕНЦИИ ВЕКТОРА В ДИНАМИЧЕСКИХ ПОЛЯХ\n",
    "\n",
    "Впервые опубликовано:  Archivum mathematicum (BRNO), 37(2001) No 3, сс. 233 - 243\n",
    "В статье приводятся результаты исследования потока и дивергенции вектора в динамических полях, проведенного на основе стандартного определения дивергенции и с использованием стандартной методики определения потока вектора. Выявлено, что в динамических полях поток и дивергенция вектора не обращаются в ноль. Показано изменение в формализме ЕМ полей, обусловленное учетом динамических процессов в поле.\n",
    "\n",
    "https://selftrans.narod.ru/archive/div/divergence/div5/div5rus.html\n",
    "\n",
    "$$div\\,\\vec{E} = - \\frac{\\vec{n}}{c} \\frac{\\partial \\vec E}{\\partial t}$$\n",
    "\n",
    "\n",
    "где  $\\vec{n}$ направление распространения поля"
   ]
  },
  {
   "cell_type": "markdown",
   "metadata": {},
   "source": [
    "Анализ теоремы Каравашкина о дивергенции показал, что она применима к полям, для которых можно выделить трубку поля у которой поток через боковую поверхность равен нулю.\n",
    "\n",
    "Поскольку в резонаторе такую трубку поля можно выделить только лишь отдельно для каждой компоненты поля, то применяя теорему Каравашкина три раза последовательно к трём компонента вектора (например напряжённости электрического поля)  получаем"
   ]
  },
  {
   "cell_type": "markdown",
   "metadata": {},
   "source": [
    "$$div\\,\\vec{E} = - \\frac{1}{{v_{ф}}_z} \\frac{\\partial E_z}{\\partial t} - \\frac{1}{{v_{ф}}_y} \\frac{\\partial E_y}{\\partial t} - \\frac{1}{{v_{ф}}_x} \\frac{\\partial E_x}{\\partial t}$$\n",
    "\n",
    "Применение этой формулы, однако потребует знания фазовых скоростей в резонаторе которая не обязательно будет соответствовать скорости света"
   ]
  },
  {
   "cell_type": "markdown",
   "metadata": {},
   "source": [
    "Учитывая однотипность временного множителя для всех компонент поля\n",
    "\n",
    "$$div\\,\\vec{E} = i\\,\\omega \\left( \\frac{E_z}{{v_{ф}}_z} + \\frac{E_y}{{v_{ф}}_y} + \\frac{E_x}{{v_{ф}}_x} \\right)$$"
   ]
  },
  {
   "cell_type": "code",
   "execution_count": null,
   "metadata": {},
   "outputs": [],
   "source": []
  },
  {
   "cell_type": "markdown",
   "metadata": {},
   "source": [
    "$$grad\\,div\\,\\vec{E} = grad\\,\\left(i\\,\\omega \\left( \\frac{E_z}{{v_{ф}}_z} + \\frac{E_y}{{v_{ф}}_y} + \\frac{E_x}{{v_{ф}}_x} \\right)\\right)$$"
   ]
  },
  {
   "cell_type": "markdown",
   "metadata": {},
   "source": [
    "для проводящего металла с потерями ищем решение в виде\n",
    "\n",
    "$$\\vec{E} = \\vec{E}(x, y)\\,e^{i\\,k'_z\\,z}\\,e^{-i\\,\\omega\\,t}$$\n",
    "\n",
    "в котором волновой вектор, направленный вдоль оси z комплексный $k'_z = k_z + i\\,s_z$, как и волновой вектор, направленный вдоль оси x может быть комплексным $k'_x = k_x + i\\,s_x$\n",
    "\n",
    "$$\\vec{E}(t) = \\vec{E}_0\\,e^{i\\,(k_x + i\\,s_x)\\,x}\\,e^{i\\,(k_z + i\\,s_z)\\,z}\\,e^{-i\\,\\omega\\,t}$$\n",
    "\n",
    "$$\\vec{E} = \\vec{E}_0\\,e^{i\\,(k_x + i\\,s_x)\\,x}\\,e^{i\\,(k_z + i\\,s_z)\\,z}$$\n",
    "\n",
    "$$\\vec{E} = \\vec{E}(x, y)\\,e^{i\\,(k_z + i\\,s_z)\\,z}$$\n",
    "\n",
    "\n",
    "$\\vec {E} (x, y) = \\vec{E}_0\\,e^{i\\,(k_x + i\\,s_x)\\,x}$"
   ]
  },
  {
   "cell_type": "markdown",
   "metadata": {},
   "source": [
    "$$\\left(Laplasian\\,\\vec{E}\\right)_z + \\left(\\mu'_{yy}-\\mu'_{xx}\\right)\\frac{i\\,\\omega}{c} \\, {\\frac {\\partial H_{y}}{\\partial x}} + \\frac{\\omega^2}{c^2} \\, \\mu'_{xx}\\epsilon'_{zz} \\vec{E}_z - \\left(grad\\,div\\,\\vec{E} \\right)_z = 0$$"
   ]
  },
  {
   "cell_type": "markdown",
   "metadata": {},
   "source": [
    "подставляя в исходное уравнение приходим к обыкновенному дифференциальному уравнению\n",
    "\n",
    "$$\\frac{\\partial^{2}}{(\\partial {x})^{2}}{E_z}(x,y) + \\frac{\\partial^{2}}{(\\partial {y})^{2}}{E_z}(x,y) + \\left(\\mu'_{xx}\\epsilon'_{zz} \\frac{\\omega^2}{c^2} - {k'_z}^2\\right)\\,{E_z}(x,y)  + \\left(\\mu'_{yy}-\\mu'_{xx}\\right)\\frac{i\\,\\omega}{c} \\, {\\frac {\\partial H_{y}}{\\partial x}} - \\left(grad\\,div\\,\\vec{E}\\right)_z = 0$$"
   ]
  },
  {
   "cell_type": "markdown",
   "metadata": {},
   "source": [
    "производим следующую замену переменных\n",
    "\n",
    "$$\\kappa_z^2 = \\mu'_{xx}\\epsilon'_{zz} \\frac{\\omega^2}{c^2}$$"
   ]
  },
  {
   "cell_type": "markdown",
   "metadata": {},
   "source": [
    "$${k'_z}^2=\\left(k_z + i\\,s_z \\right)^2 = k_z^2 - s_z^2 + 2\\,i\\,k_z\\,s_z$$"
   ]
  },
  {
   "cell_type": "markdown",
   "metadata": {},
   "source": [
    "Выберем направлние распространения волны в промежутке между пластинами плоского резонатора $z$ \n",
    "\n",
    "$$k'_y = 0$$\n",
    "\n",
    "$$\\vec{k'} = \\hat{i} k'_x + \\hat{k} k'_z$$"
   ]
  },
  {
   "cell_type": "markdown",
   "metadata": {},
   "source": [
    "$$\\frac{\\partial^{2}}{(\\partial {x})^{2}}{E_z}(x,y) + \\frac{\\partial^{2}}{(\\partial {y})^{2}}{E_z}(x,y) + \\left(\\kappa^2 - {k'_z}^2\\right)\\,{E_z}(x,y)  + \\frac{i\\,\\omega}{c} \\, {\\frac {\\partial \\left( \\left(\\mu'_{yy}-\\mu'_{xx}\\right)H_{y}\\right)}{\\partial x}} - \\left(grad\\,div\\,\\vec{E}\\right)_z = 0$$"
   ]
  },
  {
   "cell_type": "markdown",
   "metadata": {},
   "source": [
    "выбирая решение для которого поле не изменяется вдоль y"
   ]
  },
  {
   "cell_type": "markdown",
   "metadata": {},
   "source": [
    "$$\\left(grad \\, div\\,\\vec{E}\\right)_x = \\left(\\frac{\\partial^2 E_x(x, y)}{\\partial x^2} +  i\\,k'_z \\frac{\\partial E_z(x, y)}{\\partial x}\\right)$$"
   ]
  },
  {
   "cell_type": "markdown",
   "metadata": {},
   "source": [
    "$$\\left(grad \\, div\\,\\vec{E}\\right)_y = 0$$"
   ]
  },
  {
   "cell_type": "markdown",
   "metadata": {},
   "source": [
    "$$\\left(grad \\, div\\,\\vec{E}\\right)_z = \\left(i \\,k'_z\\,\\frac{\\partial E_x(x, y)}{\\partial x} -\\,{k'_z}^2 E_z(x, y)\\right)$$"
   ]
  },
  {
   "cell_type": "markdown",
   "metadata": {},
   "source": [
    "получаем"
   ]
  },
  {
   "cell_type": "markdown",
   "metadata": {},
   "source": [
    "$$\\frac{\\partial^{2}}{(\\partial {x})^{2}}{E_x}(x,y) + \\frac{\\partial^{2}}{(\\partial {y})^{2}}{E_x}(x,y) + \\left( \\, \\mu'_{yy}\\epsilon'_{xx}\\frac{\\omega^2}{c^2} - {k'_z}^2\\right)\\,{E_x}(x,y) = \\left(\\frac{\\partial^2 E_x(x, y)}{\\partial x^2} +  i\\,k'_z \\frac{\\partial E_z(x, y)}{\\partial x}\\right)-\\left(\\mu'_{zz}-\\mu'_{yy}\\right) \\frac{i\\,\\omega}{c} \\, \\left({\\frac {\\partial H_{z}}{\\partial y}}\\right)$$"
   ]
  },
  {
   "cell_type": "markdown",
   "metadata": {},
   "source": [
    "$$\\frac{\\partial^{2}}{(\\partial {x})^{2}}{E_y}(x,y) + \\frac{\\partial^{2}}{(\\partial {y})^{2}}{E_y}(x,y) + \\left(\\mu'_{zz} \\epsilon'_{yy}\\frac{ \\omega^2}{c^2}- {k'_z}^2\\right)\\,{E_y}(x,y) = -\\left(\\mu'_{xx} - \\mu'_{zz}\\right) \\frac{i\\,\\omega}{c} \\, {\\frac {\\partial   H_{x}}{\\partial z}}$$"
   ]
  },
  {
   "cell_type": "markdown",
   "metadata": {},
   "source": [
    "$$\\frac{\\partial^{2}}{(\\partial {x})^{2}}{E_z}(x,y) + \\frac{\\partial^{2}}{(\\partial {y})^{2}}{E_z}(x,y) + \\left(\\mu'_{xx}\\epsilon'_{zz} \\frac{\\omega^2}{c^2} - {k'_z}^2\\right)\\,{E_z}(x,y) = \\left(i \\,k'_z\\,\\frac{\\partial E_x(x, y)}{\\partial x} -\\,{k'_z}^2 E_z(x, y)\\right)-\\left(\\mu'_{yy}-\\mu'_{xx}\\right)\\frac{i\\,\\omega}{c} \\, {\\frac {\\partial H_{y}}{\\partial x}}$$"
   ]
  },
  {
   "cell_type": "code",
   "execution_count": null,
   "metadata": {},
   "outputs": [],
   "source": []
  },
  {
   "cell_type": "markdown",
   "metadata": {},
   "source": [
    "$$\\frac{\\partial^{2}}{(\\partial {x})^{2}}{E_z}(x,y) + \\left(\\mu'_{xx}\\epsilon'_{zz} \\frac{\\omega^2}{c^2}\\right)\\,{E_z}(x,y) = \\left(i \\,k'_z\\,\\frac{\\partial E_x(x, y)}{\\partial x}\\right)-\\left(\\mu'_{yy}-\\mu'_{xx}\\right)\\frac{i\\,\\omega}{c} \\, {\\frac {\\partial H_{y}}{\\partial x}}$$"
   ]
  },
  {
   "cell_type": "markdown",
   "metadata": {},
   "source": [
    "Рассмотрим TM волну для которой $H_z = 0$. Для этой волны учитывая что $K_z = {k'_z}$"
   ]
  },
  {
   "cell_type": "markdown",
   "metadata": {},
   "source": [
    "$$\\left(\\frac{i\\,\\omega}{{k'_z} c}{\\mu'}_{yy}  - \\frac{i {k'_z} c}{\\omega {\\epsilon'}_{xx}} \\right) H_{y} = -\\frac{1}{{k'_z}}{\\frac {\\partial E_{z}}{\\partial x}}$$"
   ]
  },
  {
   "cell_type": "markdown",
   "metadata": {},
   "source": [
    "$$ \\left(\\frac{i {k'_z} c}{\\omega{\\mu'}_{yy}} - \\frac{i\\,\\omega}{{k'_z}c} {\\epsilon'}_{xx} \\right) E_x = \\frac{c}{\\omega{\\mu'}_{yy}}{\\frac {\\partial E_{z}}{\\partial x}} $$"
   ]
  },
  {
   "cell_type": "markdown",
   "metadata": {},
   "source": [
    "откуда"
   ]
  },
  {
   "cell_type": "markdown",
   "metadata": {},
   "source": [
    "$$ H_{y} = -\\frac{1}{{k'_z} \\left(\\frac{i\\,\\omega}{{k'_z} c}{\\mu'}_{yy}  - \\frac{i {k'_z} c}{\\omega {\\epsilon'}_{xx}} \\right)}{\\frac {\\partial E_{z}}{\\partial x}}$$"
   ]
  },
  {
   "cell_type": "markdown",
   "metadata": {},
   "source": [
    "$$  E_x = \\frac{c}{\\omega{\\mu'}_{yy}\\left(\\frac{i {k'_z} c}{\\omega{\\mu'}_{yy}} - \\frac{i\\,\\omega}{{k'_z}c} {\\epsilon'}_{xx} \\right)}{\\frac {\\partial E_{z}}{\\partial x}} $$"
   ]
  },
  {
   "cell_type": "markdown",
   "metadata": {},
   "source": [
    "упрощая"
   ]
  },
  {
   "cell_type": "markdown",
   "metadata": {},
   "source": [
    "$$ H_{y} = -\\frac{1}{\\left(\\frac{i\\,\\omega}{c}{\\mu'}_{yy}  - \\frac{i {k'_z}^2 c}{\\omega {\\epsilon'}_{xx}} \\right)}{\\frac {\\partial E_{z}}{\\partial x}}$$"
   ]
  },
  {
   "cell_type": "markdown",
   "metadata": {},
   "source": [
    "$$  E_x = \\frac{c}{\\left({i {k'_z} c} - \\frac{i\\,\\omega^2}{{k'_z}c} {\\mu'}_{yy} {\\epsilon'}_{xx} \\right)}{\\frac {\\partial E_{z}}{\\partial x}} $$"
   ]
  },
  {
   "cell_type": "markdown",
   "metadata": {},
   "source": [
    "дифференцируя по x"
   ]
  },
  {
   "cell_type": "markdown",
   "metadata": {},
   "source": [
    "$$ \\frac{\\partial H_{y}}{\\partial x} = -\\frac{1}{\\left(\\frac{i\\,\\omega}{c}{\\mu'}_{yy}  - \\frac{i {k'_z}^2 c}{\\omega {\\epsilon'}_{xx}} \\right)}{\\frac {\\partial^2 E_{z}}{\\partial x^2}}$$"
   ]
  },
  {
   "cell_type": "markdown",
   "metadata": {},
   "source": [
    "$$\\frac{\\partial E_x}{\\partial x} = \\frac{1}{\\left({i {k'_z}} - \\frac{i\\,\\omega^2}{{k'_z}c^2} {\\mu'}_{yy} {\\epsilon'}_{xx} \\right)}{\\frac {\\partial^2 E_{z}}{\\partial x^2}} $$"
   ]
  },
  {
   "cell_type": "markdown",
   "metadata": {},
   "source": [
    "подставляя в уравнение"
   ]
  },
  {
   "cell_type": "markdown",
   "metadata": {},
   "source": [
    "$$\\frac{\\partial^{2}}{(\\partial {x})^{2}}{E_z}(x,y) + \\left(\\mu'_{xx}\\epsilon'_{zz} \\frac{\\omega^2}{c^2}\\right)\\,{E_z}(x,y) = \\left(i \\,k'_z\\,\\frac{\\partial E_x(x, y)}{\\partial x}\\right)-\\left(\\mu'_{yy}-\\mu'_{xx}\\right)\\frac{i\\,\\omega}{c} \\, {\\frac {\\partial H_{y}}{\\partial x}}$$"
   ]
  },
  {
   "cell_type": "markdown",
   "metadata": {},
   "source": [
    "$$\\frac{\\partial^{2}}{(\\partial {x})^{2}}{E_z}(x,y) + \\left(\\mu'_{xx}\\epsilon'_{zz} \\frac{\\omega^2}{c^2}\\right)\\,{E_z}(x,y) = \\left(\\frac{k'_z}{\\left({ {k'_z}} - \\frac{\\omega^2}{{k'_z}c^2} {\\mu'}_{yy} {\\epsilon'}_{xx} \\right)}{\\frac {\\partial^2 E_{z}}{\\partial x^2}}\\right)+\\left(\\mu'_{yy}-\\mu'_{xx}\\right)\\frac{i\\,\\omega}{c} \\, \\frac{1}{\\left(\\frac{i\\,\\omega}{c}{\\mu'}_{yy}  - \\frac{i {k'_z}^2 c}{\\omega {\\epsilon'}_{xx}} \\right)}{\\frac {\\partial^2 E_{z}}{\\partial x^2}}$$"
   ]
  },
  {
   "cell_type": "markdown",
   "metadata": {},
   "source": [
    "$$\\frac{\\partial^{2}}{(\\partial {x})^{2}}{E_z}(x,y) + \\left(\\mu'_{xx}\\epsilon'_{zz} \\frac{\\omega^2}{c^2}\\right)\\,{E_z}(x,y) = \\left(\\frac{k'_z}{\\left({ {k'_z}} - \\frac{\\omega^2}{{k'_z}c^2} {\\mu'}_{yy} {\\epsilon'}_{xx} \\right)}{\\frac {\\partial^2 E_{z}}{\\partial x^2}}\\right)+ \\frac{\\left(\\mu'_{yy}-\\mu'_{xx}\\right)}{\\left({\\mu'}_{yy}  - \\frac{{k'_z}^2 c^2}{\\omega^2 {\\epsilon'}_{xx}} \\right)}{\\frac {\\partial^2 E_{z}}{\\partial x^2}}$$"
   ]
  },
  {
   "cell_type": "markdown",
   "metadata": {},
   "source": [
    "$$\\left(1 - \\frac{k'_z}{\\left({ {k'_z}} - \\frac{\\omega^2}{{k'_z}c^2} {\\mu'}_{yy} {\\epsilon'}_{xx} \\right)} - \\frac{\\left(\\mu'_{yy}-\\mu'_{xx}\\right)}{\\left({\\mu'}_{yy}  - \\frac{{k'_z}^2 c^2}{\\omega^2 {\\epsilon'}_{xx}} \\right)}\\right)\\frac{\\partial^{2}}{(\\partial {x})^{2}}{E_z}(x,y) + \\left(\\mu'_{xx}\\epsilon'_{zz} \\frac{\\omega^2}{c^2}\\right)\\,{E_z}(x,y) = 0$$"
   ]
  },
  {
   "cell_type": "markdown",
   "metadata": {},
   "source": [
    "$$\\frac{\\partial^{2}}{(\\partial {x})^{2}}{E_z}(x,y) + \\frac{ \\mu'_{xx}\\epsilon'_{zz} \\frac{\\omega^2}{c^2}}{\\left(1 - \\frac{k'_z}{\\left({ {k'_z}} - \\frac{\\omega^2}{{k'_z}c^2} {\\mu'}_{yy} {\\epsilon'}_{xx} \\right)} - \\frac{\\left(\\mu'_{yy}-\\mu'_{xx}\\right)}{\\left({\\mu'}_{yy}  - \\frac{{k'_z}^2 c^2}{\\omega^2 {\\epsilon'}_{xx}} \\right)}\\right)}\\,{E_z}(x,y) = 0$$"
   ]
  },
  {
   "cell_type": "markdown",
   "metadata": {},
   "source": [
    "$$K_x^2 = \\frac{ \\mu'_{xx}\\epsilon'_{zz} \\frac{\\omega^2}{c^2}}{\\left(1 - \\frac{k'_z}{\\left({ {k'_z}} - \\frac{\\omega^2}{{k'_z}c^2} {\\mu'}_{yy} {\\epsilon'}_{xx} \\right)} - \\frac{\\left(\\mu'_{yy}-\\mu'_{xx}\\right)}{\\left({\\mu'}_{yy}  - \\frac{{k'_z}^2 c^2}{\\omega^2 {\\epsilon'}_{xx}} \\right)}\\right)}$$"
   ]
  },
  {
   "cell_type": "markdown",
   "metadata": {},
   "source": [
    "$$\\frac{\\partial^{2}}{(\\partial {x})^{2}}{E_z}(x,y) + K_x^2\\,{E_z}(x,y) = 0$$"
   ]
  },
  {
   "cell_type": "markdown",
   "metadata": {},
   "source": [
    "Решение этого дифференциального уравнения для TM волны"
   ]
  },
  {
   "cell_type": "markdown",
   "metadata": {},
   "source": [
    "$${C_{0}} e^{i\\,K_x x} + {C_{1}} e^{-i\\, K_x x}$$"
   ]
  },
  {
   "cell_type": "markdown",
   "metadata": {},
   "source": [
    "В случае если $\\mu'_{yy}=\\mu'_{xx}$"
   ]
  },
  {
   "cell_type": "markdown",
   "metadata": {},
   "source": [
    "$$\\frac{\\partial^{2}}{(\\partial {x})^{2}}{E_z}(x,y) + \\frac{ \\mu'_{xx}\\epsilon'_{zz} \\frac{\\omega^2}{c^2}}{\\left(1 - \\frac{k'_z}{\\left({ {k'_z}} - \\frac{\\omega^2}{{k'_z}c^2} {\\mu'}_{yy} {\\epsilon'}_{xx} \\right)} \\right)}\\,{E_z}(x,y) = 0$$"
   ]
  },
  {
   "cell_type": "markdown",
   "metadata": {},
   "source": [
    "$$\\frac{\\partial^{2}}{(\\partial {x})^{2}}{E_z}(x,y) + \\left({ {k'_z}} - \\frac{\\omega^2}{{k'_z}c^2} {\\mu'}_{yy} {\\epsilon'}_{xx} \\right)\\frac{ \\mu'_{xx}\\epsilon'_{zz} \\frac{\\omega^2}{c^2}}{\\left(\\left({ {k'_z}} - \\frac{\\omega^2}{{k'_z}c^2} {\\mu'}_{yy} {\\epsilon'}_{xx} \\right) - k'_z \\right)}\\,{E_z}(x,y) = 0$$"
   ]
  },
  {
   "cell_type": "markdown",
   "metadata": {},
   "source": [
    "$$\\frac{\\partial^{2}}{(\\partial {x})^{2}}{E_z}(x,y) + \\left({ {k'_z}} - \\frac{\\omega^2}{{k'_z}c^2} {\\mu'}_{yy} {\\epsilon'}_{xx} \\right)\\frac{ \\mu'_{xx}\\epsilon'_{zz} \\frac{\\omega^2}{c^2}}{ - \\frac{\\omega^2}{{k'_z}c^2} {\\mu'}_{yy} {\\epsilon'}_{xx} }\\,{E_z}(x,y) = 0$$"
   ]
  },
  {
   "cell_type": "markdown",
   "metadata": {},
   "source": [
    "$$\\frac{\\partial^{2}}{(\\partial {x})^{2}}{E_z}(x,y) + \\left(\\frac{\\omega^2}{{k'_z}c^2} {\\mu'}_{yy} {\\epsilon'}_{xx} - { {k'_z}} \\right)\\frac{ \\mu'_{xx}\\epsilon'_{zz}}{ \\frac{1}{{k'_z}} {\\mu'}_{yy} {\\epsilon'}_{xx} }\\,{E_z}(x,y) = 0$$"
   ]
  },
  {
   "cell_type": "markdown",
   "metadata": {},
   "source": [
    "$$\\frac{\\partial^{2}}{(\\partial {x})^{2}}{E_z}(x,y) + \\left(\\frac{\\omega^2}{c^2} {\\mu'}_{yy} {\\epsilon'}_{xx} - { {k'_z}^2} \\right)\\frac{ \\epsilon'_{zz}}{ {\\epsilon'}_{xx} }\\,{E_z}(x,y) = 0$$"
   ]
  },
  {
   "cell_type": "markdown",
   "metadata": {},
   "source": [
    "$$\\frac{\\partial^{2}}{(\\partial {x})^{2}}{E_z}(x,y) + \\left(\\frac{\\omega^2}{c^2} {\\mu'}_{yy} {\\epsilon'}_{zz} - { {k'_z}^2} \\frac{ \\epsilon'_{zz}}{ {\\epsilon'}_{xx} }\\right)\\,{E_z}(x,y) = 0$$"
   ]
  },
  {
   "cell_type": "markdown",
   "metadata": {},
   "source": [
    "Имея теперь систему неоднородных дифференциальных уравнений с ненулевой правой частью будем искать решение как сумму общего решения однородной части этой системы дифференциального уравнения и частного решения"
   ]
  },
  {
   "cell_type": "markdown",
   "metadata": {},
   "source": [
    "Далее произведём преобразования со вторым уравнением Максвелла"
   ]
  },
  {
   "cell_type": "markdown",
   "metadata": {},
   "source": [
    "\n",
    "$$rot\\,\\vec{H} = \\frac{1}{c}\\frac{\\partial \\vec D}{\\partial t} + \\frac{4\\pi}{c} \\vec j = - \\frac{i\\,\\omega}{c} \\epsilon \\vec{E} + \\frac{4\\pi}{c}\\sigma \\vec E$$\n"
   ]
  },
  {
   "cell_type": "markdown",
   "metadata": {},
   "source": [
    "\n",
    "$$rot \\, rot\\,\\vec{H} = \\left( - \\frac{i\\,\\omega}{c} \\epsilon + \\frac{4\\pi}{c}\\sigma \\right) rot \\vec E$$\n"
   ]
  },
  {
   "cell_type": "markdown",
   "metadata": {},
   "source": [
    "$$rot\\,\\vec{E} = -\\frac{1}{c}\\frac{\\partial \\vec B}{\\partial t} = \\mu\\,\\frac{i\\,\\omega}{c}\\,\\vec{H}$$"
   ]
  },
  {
   "cell_type": "markdown",
   "metadata": {},
   "source": [
    "\n",
    "$$rot \\, rot\\,\\vec{H} = \\left( - \\frac{i\\,\\omega}{c} \\epsilon + \\frac{4\\pi}{c}\\sigma \\right)  \\mu\\,\\frac{i\\,\\omega}{c}\\,\\vec{H}$$\n"
   ]
  },
  {
   "cell_type": "markdown",
   "metadata": {},
   "source": [
    "$$rot \\, rot\\,\\vec{H} = \\left( - \\frac{i\\,\\omega}{c} \\epsilon \\mu\\,\\frac{i\\,\\omega}{c} + \\frac{4\\pi}{c}\\sigma \\mu\\,\\frac{i\\,\\omega}{c} \\right)  \\,\\vec{H}$$"
   ]
  },
  {
   "cell_type": "markdown",
   "metadata": {},
   "source": [
    "$$rot \\, rot\\,\\vec{H} = \\left( \\epsilon \\mu\\,\\frac{\\omega^2}{c^2} + i \\,4\\pi\\,\\sigma \\mu\\,\\frac{\\omega}{c^2} \\right)  \\,\\vec{H}$$"
   ]
  },
  {
   "cell_type": "markdown",
   "metadata": {},
   "source": [
    "$$rot\\,rot\\,\\vec{H} = grad\\,div\\,\\vec{H} - Laplasian\\,\\vec{H}$$"
   ]
  },
  {
   "cell_type": "markdown",
   "metadata": {},
   "source": [
    "$$ Laplasian\\,\\vec{H} + \\left( \\epsilon \\mu\\,\\frac{\\omega^2}{c^2} + i \\,4\\pi\\,\\sigma \\mu\\,\\frac{\\omega}{c^2} \\right)  \\,\\vec{H} - grad\\,div\\,\\vec{H} = 0$$"
   ]
  },
  {
   "cell_type": "markdown",
   "metadata": {},
   "source": [
    "для вакуума внутри резонатора ищем решение в виде\n",
    "\n",
    "$$\\vec{H}(t) = \\vec{H}(x, y)\\,e^{i\\,k\\,z}\\,e^{-i\\,\\omega\\,t}$$\n",
    "\n",
    "$$\\vec{H} = \\vec{H}(x, y)\\,e^{i\\,k\\,z}$$"
   ]
  },
  {
   "cell_type": "markdown",
   "metadata": {},
   "source": [
    "подставляя в исходное уравнение приходим к обыкновенному дифференциальному уравнению\n",
    "\n",
    "$$\\frac{\\partial^{2}}{(\\partial {x})^{2}}\\vec{H}(x,y) + \\frac{\\partial^{2}}{(\\partial {y})^{2}}\\vec{H}(x,y) + \\left(\\epsilon  \\mu \\frac{\\omega^2}{c^2} + i\\,\\omega\\,\\sigma\\,\\mu\\,\\frac{4\\pi}{c^2} - {k'_z}^2\\right)\\,\\vec{H}(x,y) - grad\\,div\\,\\vec{H} = 0$$"
   ]
  },
  {
   "cell_type": "markdown",
   "metadata": {},
   "source": [
    "покомпонентно"
   ]
  },
  {
   "cell_type": "markdown",
   "metadata": {},
   "source": [
    "$$\\frac{\\partial^{2}}{(\\partial {x})^{2}}{H_x}(x,y) + \\frac{\\partial^{2}}{(\\partial {y})^{2}}{H_x}(x,y) + \\left(\\kappa^2 - {k'_z}^2\\right)\\,{H_x}(x,y) - \\left(grad\\,div\\,\\vec{H}\\right)_x = 0$$"
   ]
  },
  {
   "cell_type": "markdown",
   "metadata": {},
   "source": [
    "$$\\frac{\\partial^{2}}{(\\partial {x})^{2}}{H_y}(x,y) + \\frac{\\partial^{2}}{(\\partial {y})^{2}}{H_y}(x,y) + \\left(\\kappa^2 - {k'_z}^2\\right)\\,{H_y}(x,y) - \\left(grad\\,div\\,\\vec{H}\\right)_y = 0$$"
   ]
  },
  {
   "cell_type": "markdown",
   "metadata": {},
   "source": [
    "$$\\frac{\\partial^{2}}{(\\partial {x})^{2}}{H_z}(x,y) + \\frac{\\partial^{2}}{(\\partial {y})^{2}}{H_z}(x,y) + \\left(\\kappa^2 - {k'_z}^2\\right)\\,{H_z}(x,y) - \\left(grad\\,div\\,\\vec{H}\\right)_z = 0$$"
   ]
  },
  {
   "cell_type": "markdown",
   "metadata": {},
   "source": [
    "Таким образом из этого уравнения можно вытащить $z$ компоненту электрического поля"
   ]
  },
  {
   "cell_type": "markdown",
   "metadata": {},
   "source": [
    "$$\\frac{\\partial^{2}}{(\\partial {x})^{2}}{H_z}(x,y) + \\frac{\\partial^{2}}{(\\partial {y})^{2}}{H_z}(x,y) + \\left(\\kappa^2 - {k'_z}^2\\right)\\,{H_z}(x,y) = \\left(grad\\,div\\,\\vec{H}\\right)_z$$"
   ]
  },
  {
   "cell_type": "code",
   "execution_count": 1,
   "metadata": {},
   "outputs": [],
   "source": [
    "import numpy as np\n",
    "# sgs\n",
    "A = np.float128(1)\n",
    "\n",
    "\n",
    "# на низких частотах\n",
    "# ферриты обладают высокой относительной\n",
    "# диэлектрической проницаемостью, примерно 10^5\n",
    "epsilon_xx_d = np.float128(1)\n",
    "epsilon_yy_d = np.float128(100000)\n",
    "epsilon_zz_d = np.float128(100000)\n",
    "\n",
    "mu_xx_d = np.float128(1000)\n",
    "mu_yy_d = np.float128(1000)\n",
    "mu_zz_d = np.float128(1000)\n",
    "\n",
    "# https://ru.wikipedia.org/wiki/%D0%AD%D0%BB%D0%B5%D0%BA%D1%82%D1%80%D0%BE%D0%BF%D1%80%D0%BE%D0%B2%D0%BE%D0%B4%D0%BD%D0%BE%D1%81%D1%82%D1%8C\n",
    "# серебро    62 500 000\n",
    "# медь       59 500 000\n",
    "# константан  2 000 000\n",
    "\n",
    "# См/м\n",
    "# 1 См = 1 / Ом\n",
    "\n",
    "sigma_l_d = np.float128(62500000 * (9*10^9))\n",
    "sigma_r_d =  np.float128(2000000 * (9*10^9))\n",
    "\n",
    "sigma_d = sigma_r_d\n",
    "sigma_d = sigma_r_d / 100000\n",
    "\n",
    "sigma_e_xx_d = sigma_d\n",
    "sigma_e_yy_d = sigma_d\n",
    "sigma_e_zz_d = sigma_d\n",
    "\n",
    "sigma_m_xx_d = sigma_d\n",
    "sigma_m_yy_d = sigma_d\n",
    "sigma_m_zz_d = sigma_d\n",
    "\n",
    "\n",
    "#lambda_d = np.float128(632*100*10^-9)\n",
    "# 632 nm\n",
    "\n",
    "#lambda_d = np.float128(632*100*10^-6)\n",
    "# 0.632 mm\n",
    "\n",
    "lambda_d = np.float128(632*100*10^-4*1000)\n",
    "# 63.2 mm\n",
    "# 6.32 sm\n",
    "\n",
    "# lambda_d = np.float128(632*100*10^-4*100000)\n"
   ]
  },
  {
   "cell_type": "code",
   "execution_count": 2,
   "metadata": {},
   "outputs": [],
   "source": [
    "from IPython.display import display, Math, Latex\n",
    "\n",
    "def disp(ex):\n",
    "    display(Math(latex(ex)))\n",
    "\n",
    "mu_xx_ = var('mu_xx_')\n",
    "mu_xx = var('mu_xx')\n",
    "assume(mu_xx, 'real')\n",
    "assume(mu_xx > 0)\n",
    "\n",
    "mu_yy_ = var('mu_yy_')\n",
    "mu_yy = var('mu_yy')\n",
    "assume(mu_yy, 'real')\n",
    "assume(mu_yy > 0)\n",
    "\n",
    "mu_zz_ = var('mu_zz_')\n",
    "mu_zz = var('mu_zz')\n",
    "assume(mu_zz, 'real')\n",
    "assume(mu_zz > 0)\n",
    "\n",
    "epsilon_xx_ = var('epsilon_xx_')\n",
    "epsilon_xx = var('epsilon_xx')\n",
    "assume(epsilon_xx, 'real')\n",
    "assume(epsilon_xx > 0)\n",
    "\n",
    "epsilon_yy_ = var('epsilon_yy_')\n",
    "epsilon_yy = var('epsilon_yy')\n",
    "assume(epsilon_yy, 'real')\n",
    "assume(epsilon_yy > 0)\n",
    "\n",
    "epsilon_zz_ = var('epsilon_zz_')\n",
    "epsilon_zz = var('epsilon_zz')\n",
    "assume(epsilon_zz, 'real')\n",
    "assume(epsilon_zz > 0)\n",
    "\n",
    "mu_0 = 1\n",
    "epsilon_0 = 1\n",
    "\n",
    "sigma_e_xx = var('sigma_e_xx')\n",
    "assume(sigma_e_xx, 'real')\n",
    "assume(sigma_e_xx>0)\n",
    "\n",
    "sigma_e_yy = var('sigma_e_yy')\n",
    "assume(sigma_e_yy, 'real')\n",
    "assume(sigma_e_yy>0)\n",
    "\n",
    "sigma_e_zz = var('sigma_e_zz')\n",
    "assume(sigma_e_zz, 'real')\n",
    "assume(sigma_e_zz>0)\n",
    "\n",
    "sigma_m_xx = var('sigma_m_xx')\n",
    "assume(sigma_m_xx, 'real')\n",
    "assume(sigma_m_xx>0)\n",
    "\n",
    "sigma_m_yy = var('sigma_m_yy')\n",
    "assume(sigma_m_yy, 'real')\n",
    "assume(sigma_m_yy>0)\n",
    "\n",
    "sigma_m_zz = var('sigma_m_zz')\n",
    "assume(sigma_m_zz, 'real')\n",
    "assume(sigma_m_zz>0)\n",
    "\n",
    "sx = var ('sx')\n",
    "assume(sx, 'real')\n",
    "assume(sx>0)\n",
    "\n",
    "sy = var ('sy')\n",
    "assume(sy, 'real')\n",
    "assume(sy>0)\n",
    "\n",
    "sz = var ('sz')\n",
    "assume(sz, 'real')\n",
    "assume(sz>0)\n",
    "\n",
    "kappa_vacuum = var ('kappa_vacuum')\n",
    "assume(kappa_vacuum, 'real')\n",
    "assume(kappa_vacuum>0)\n",
    "\n",
    "kappa = var('kappa')\n",
    "assume(kappa, 'complex')\n",
    "\n",
    "kx = var ('kx')\n",
    "assume(kx, 'real')\n",
    "\n",
    "ky = var ('ky')\n",
    "assume(ky, 'real')\n",
    "\n",
    "kz = var ('kz')\n",
    "assume(kz, 'real')\n",
    "\n",
    "k__x = var ('k__x')\n",
    "assume(k__x, 'complex')\n",
    "\n",
    "k__y = var ('k__y')\n",
    "assume(k__x, 'complex')\n",
    "\n",
    "k__z = var ('k__z')\n",
    "assume(k__z, 'complex')\n",
    "\n",
    "k_x = var ('k_x')\n",
    "assume(k_x, 'complex')\n",
    "\n",
    "k_y = var ('k_y')\n",
    "assume(k_x, 'complex')\n",
    "\n",
    "k_z = var ('k_z')\n",
    "assume(k_z, 'complex')\n",
    "\n",
    "\n",
    "a = var('a')\n",
    "assume(a, 'real')\n",
    "assume(a>0)\n",
    "\n",
    "x = var('x')\n",
    "y = var('y')\n",
    "z = var('z')\n",
    "\n",
    "assume(x, 'real')\n",
    "assume(y, 'real')\n",
    "assume(z, 'real')\n",
    "\n",
    "c = var('c')\n",
    "assume(c, 'real')\n",
    "assume(c>0)\n",
    "\n",
    "omega = var('omega')\n",
    "assume(omega, 'real')"
   ]
  },
  {
   "cell_type": "code",
   "execution_count": 3,
   "metadata": {},
   "outputs": [
    {
     "data": {
      "text/plain": [
       "2.98046134067857e7"
      ]
     },
     "execution_count": 3,
     "metadata": {},
     "output_type": "execute_result"
    }
   ],
   "source": [
    "c_value           = [ c == np.float128(299792458 * 100)]\n",
    "omega_value       = [ omega  == ((np.float128(2*pi) * c)/ lambda_d).subs (c_value) ]\n",
    "digit_values_init = [ mu_xx == mu_xx_d,\n",
    "                     mu_yy == mu_yy_d,\n",
    "                     mu_zz == mu_zz_d,\n",
    "                     epsilon_xx == epsilon_xx_d,\n",
    "                     epsilon_yy == epsilon_yy_d,\n",
    "                     epsilon_zz == epsilon_zz_d,\n",
    "                     a == A] + c_value\n",
    "digit_values_sigma_0 = digit_values_init + [sigma == 0]\n",
    "omega_value[0].rhs().n()"
   ]
  },
  {
   "cell_type": "code",
   "execution_count": 4,
   "metadata": {},
   "outputs": [],
   "source": [
    "# толщина проводника\n",
    "h_conductor = np.float128(0.1*A)"
   ]
  },
  {
   "cell_type": "code",
   "execution_count": 5,
   "metadata": {},
   "outputs": [
    {
     "name": "stdout",
     "output_type": "stream",
     "text": [
      "[mu_xx == 1000.0, mu_yy == 1000.0, mu_zz == 1000.0, epsilon_xx == 1.0, epsilon_yy == 100000.0, epsilon_zz == 100000.0, a == 1.0, c == 29979245800.0, sigma_e_xx == 180000000000.0, sigma_e_yy == 180000000000.0, sigma_e_zz == 180000000000.0, sigma_m_xx == 180000000000.0, sigma_m_yy == 180000000000.0, sigma_m_zz == 180000000000.0, omega == 29804613.406785656]\n"
     ]
    }
   ],
   "source": [
    "digit_values = digit_values_init + [sigma_e_xx == sigma_e_xx_d,\n",
    "                                    sigma_e_yy == sigma_e_yy_d,\n",
    "                                    sigma_e_zz == sigma_e_zz_d,\n",
    "                                    sigma_m_xx == sigma_m_xx_d,\n",
    "                                    sigma_m_yy == sigma_m_yy_d,\n",
    "                                    sigma_m_zz == sigma_m_zz_d,\n",
    "                                   ]\n",
    "digit_values += omega_value\n",
    "print (digit_values)"
   ]
  },
  {
   "cell_type": "code",
   "execution_count": 6,
   "metadata": {},
   "outputs": [
    {
     "name": "stdout",
     "output_type": "stream",
     "text": [
      "eq_kappa_inner_vacuum =\n"
     ]
    },
    {
     "data": {
      "text/latex": [
       "$\\displaystyle \\kappa_{\\mathit{vacuum}}^{2} = \\frac{\\omega^{2}}{c^{2}}$"
      ],
      "text/plain": [
       "<IPython.core.display.Math object>"
      ]
     },
     "metadata": {},
     "output_type": "display_data"
    }
   ],
   "source": [
    "# исходя из вида дифференциальных уравнений для вакуума внутри резонатора и проводящего металла с потерями\n",
    "# записываем соотнощения для волнового вектора в виде уравнений\n",
    "\n",
    "# eq_kappa              = kappa^2 == mu * epsilon * omega^2 / c^2 + I*omega*sigma*mu*4*pi/c^2\n",
    "eq_kappa_inner_vacuum = kappa_vacuum^2 == omega^2 / c^2\n",
    "\n",
    "#kappa_sol = solve(eq_kappa, kappa)[1]\n",
    "#kappa_vacuum_sol = omega / c\n",
    "\n",
    "#print(\"eq_kappa =\")\n",
    "#display(Math(latex(eq_kappa)))\n",
    "\n",
    "print(\"eq_kappa_inner_vacuum =\")\n",
    "display(Math(latex(eq_kappa_inner_vacuum)))"
   ]
  },
  {
   "cell_type": "markdown",
   "metadata": {},
   "source": [
    "принимая модель комплексного представления диэлектрической проницаемости $\\epsilon' = \\epsilon + \\frac{4\\pi\\,\\sigma}{\\omega}\\,i$ (плохой проводник)"
   ]
  },
  {
   "cell_type": "code",
   "execution_count": 7,
   "metadata": {},
   "outputs": [],
   "source": [
    "epsilon_xx_complex = epsilon_xx + I * 4 * pi * sigma_e_xx / omega\n",
    "epsilon_yy_complex = epsilon_yy + I * 4 * pi * sigma_e_yy / omega\n",
    "epsilon_zz_complex = epsilon_zz + I * 4 * pi * sigma_e_zz / omega"
   ]
  },
  {
   "cell_type": "markdown",
   "metadata": {},
   "source": [
    "принимая модель комплексного представления магнитной проницаемости $\\mu' = \\mu + \\frac{4\\pi\\,\\sigma_m}{\\omega}\\,i$ (магнитный проводник)"
   ]
  },
  {
   "cell_type": "code",
   "execution_count": 8,
   "metadata": {},
   "outputs": [],
   "source": [
    "mu_xx_complex = mu_xx + I * 4 * pi * sigma_m_xx / omega\n",
    "mu_yy_complex = mu_yy + I * 4 * pi * sigma_m_yy / omega\n",
    "mu_zz_complex = mu_zz + I * 4 * pi * sigma_m_zz / omega"
   ]
  },
  {
   "cell_type": "code",
   "execution_count": null,
   "metadata": {},
   "outputs": [],
   "source": []
  },
  {
   "cell_type": "markdown",
   "metadata": {},
   "source": [
    "$${k'_z}^2=\\left(k_z + i\\,s_z \\right)^2 = k_z^2 - s_z^2 + 2\\,i\\,k_z\\,s_z$$"
   ]
  },
  {
   "cell_type": "markdown",
   "metadata": {},
   "source": [
    "зависимость поля от $y$ отсутствует"
   ]
  },
  {
   "cell_type": "code",
   "execution_count": 9,
   "metadata": {},
   "outputs": [],
   "source": [
    "k__y_subs = k__y == 0"
   ]
  },
  {
   "cell_type": "code",
   "execution_count": 10,
   "metadata": {},
   "outputs": [],
   "source": [
    "k__z_subs = k__z == kz + I * sz"
   ]
  },
  {
   "cell_type": "code",
   "execution_count": 11,
   "metadata": {},
   "outputs": [
    {
     "name": "stdout",
     "output_type": "stream",
     "text": [
      "de_inner_vacuum =\n"
     ]
    },
    {
     "data": {
      "text/latex": [
       "$\\displaystyle -{\\left(k_{z}^{2} - \\kappa^{2}\\right)} E\\left(x\\right) + \\frac{\\partial^{2}}{(\\partial x)^{2}}E\\left(x\\right) = 0$"
      ],
      "text/plain": [
       "<IPython.core.display.Math object>"
      ]
     },
     "metadata": {},
     "output_type": "display_data"
    }
   ],
   "source": [
    "# решаем полученные обыкновенные дифференциальные уравнения\n",
    "E = function('E')(x)\n",
    "\n",
    "de_inner_vacuum = diff (E, x, 2) + diff (E, y, 2) + (kappa^2 - k_z^2) * E == 0\n",
    "# diff (E, y, 2) == 0\n",
    "de_inner_vacuum = diff (E, x, 2) + (kappa^2 - k_z^2) * E == 0\n",
    "# получая таким образом выражения для электрического поля в вакуума внутри резонатора и внутри проводящего металла с потерями\n",
    "print(\"de_inner_vacuum =\")\n",
    "display(Math(latex(de_inner_vacuum)))"
   ]
  },
  {
   "cell_type": "code",
   "execution_count": 12,
   "metadata": {},
   "outputs": [
    {
     "name": "stdout",
     "output_type": "stream",
     "text": [
      "E_inner_vacuum =\n"
     ]
    },
    {
     "data": {
      "text/latex": [
       "$\\displaystyle _{C_{0}} e^{\\left(\\sqrt{k_{z}^{2} - \\kappa^{2}} x\\right)} + _{C_{1}} e^{\\left(-\\sqrt{k_{z}^{2} - \\kappa^{2}} x\\right)}$"
      ],
      "text/plain": [
       "<IPython.core.display.Math object>"
      ]
     },
     "metadata": {},
     "output_type": "display_data"
    },
    {
     "data": {
      "text/plain": [
       "_{C_{0}} e^{\\left(\\sqrt{k_{z}^{2} - \\kappa^{2}} x\\right)} + _{C_{1}} e^{\\left(-\\sqrt{k_{z}^{2} - \\kappa^{2}} x\\right)}"
      ]
     },
     "execution_count": 12,
     "metadata": {},
     "output_type": "execute_result"
    }
   ],
   "source": [
    "assume(kappa^2-k_z^2 > 0)\n",
    "\n",
    "E_inner_vacuum = desolve(de_inner_vacuum, E, ivar = x, algorithm=\"fricas\")\n",
    "\n",
    "# получая таким образом выражения для электрического поля в вакуума внутри резонатора и внутри проводящего металла с потерями\n",
    "print(\"E_inner_vacuum =\")\n",
    "display(Math(latex(E_inner_vacuum)))\n",
    "latex(E_inner_vacuum)"
   ]
  },
  {
   "cell_type": "code",
   "execution_count": null,
   "metadata": {},
   "outputs": [],
   "source": []
  },
  {
   "cell_type": "code",
   "execution_count": 13,
   "metadata": {},
   "outputs": [],
   "source": [
    "B1_x = var ('B1_x')\n",
    "B2_x = var ('B2_x')\n",
    "\n",
    "A1_x = var ('A1_x')\n",
    "A2_x = var ('A2_x')\n",
    "\n",
    "\n",
    "B1_y = var ('B1_y')\n",
    "B2_y = var ('B2_y')\n",
    "\n",
    "A1_y = var ('A1_y')\n",
    "A2_y = var ('A2_y')\n",
    "\n",
    "\n",
    "B1_z = var ('B1_z')\n",
    "B2_z = var ('B2_z')\n",
    "\n",
    "A1_z = var ('A1_z')\n",
    "A2_z = var ('A2_z')\n",
    "\n",
    "A1_x_re, A1_y_re, A1_z_re = var(\"A1_x_re, A1_y_re, A1_z_re\")\n",
    "A1_x_im, A1_y_im, A1_z_im = var(\"A1_x_im, A1_y_im, A1_z_im\")\n",
    "\n",
    "A2_x_re, A2_y_re, A2_z_re = var(\"A2_x_re, A2_y_re, A2_z_re\")\n",
    "A2_x_im, A2_y_im, A2_z_im = var(\"A2_x_im, A2_y_im, A2_z_im\")\n",
    "\n",
    "B1_x_re, B1_y_re, B1_z_re = var(\"B1_x_re, B1_y_re, B1_z_re\")\n",
    "B1_x_im, B1_y_im, B1_z_im = var(\"B1_x_im, B1_y_im, B1_z_im\")\n",
    "\n",
    "\n",
    "assume(A1_x_re, \"real\")\n",
    "assume(A1_x_im, \"real\")\n",
    "\n",
    "assume(A2_x_re, \"real\")\n",
    "assume(A2_x_im, \"real\")\n",
    "\n",
    "assume(A1_y_re, \"real\")\n",
    "assume(A1_y_im, \"real\")\n",
    "\n",
    "assume(A2_y_re, \"real\")\n",
    "assume(A2_y_im, \"real\")\n",
    "\n",
    "assume(A1_z_re, \"real\")\n",
    "assume(A1_z_im, \"real\")\n",
    "\n",
    "assume(A2_z_re, \"real\")\n",
    "assume(A2_z_im, \"real\")\n",
    "\n",
    "\n",
    "assume(B1_x_re, \"real\")\n",
    "assume(B1_x_im, \"real\")\n",
    "\n",
    "assume(B1_y_re, \"real\")\n",
    "assume(B1_y_im, \"real\")\n",
    "\n",
    "assume(B1_z_re, \"real\")\n",
    "assume(B1_z_im, \"real\")"
   ]
  },
  {
   "cell_type": "code",
   "execution_count": 14,
   "metadata": {},
   "outputs": [],
   "source": [
    "A1_x_re_im_subs = A1_x == A1_x_re + I * A1_x_im\n",
    "A2_x_re_im_subs = A2_x == A2_x_re + I * A2_x_im\n",
    "\n",
    "A1_y_re_im_subs = A1_y == A1_y_re + I * A1_y_im\n",
    "A2_y_re_im_subs = A2_y == A2_y_re + I * A2_y_im\n",
    "\n",
    "A1_z_re_im_subs = A1_z == A1_z_re + I * A1_z_im\n",
    "A2_z_re_im_subs = A2_z == A2_z_re + I * A2_z_im\n",
    "\n",
    "B1_x_re_im_subs = B1_x == B1_x_re + I * B1_x_im\n",
    "B1_y_re_im_subs = B1_y == B1_y_re + I * B1_y_im\n",
    "B1_z_re_im_subs = B1_z == B1_z_re + I * B1_z_im"
   ]
  },
  {
   "cell_type": "code",
   "execution_count": 15,
   "metadata": {},
   "outputs": [],
   "source": [
    "coefs_re_im_subs = [A1_x == A1_x_re + I * A1_x_im,\n",
    "                    A2_x == A2_x_re + I * A2_x_im,\n",
    "                    A1_y == A1_y_re + I * A1_y_im,\n",
    "                    A2_y == A2_y_re + I * A2_y_im,\n",
    "                    A1_z == A1_z_re + I * A1_z_im,\n",
    "                    A2_z == A2_z_re + I * A2_z_im,\n",
    "                    B1_x == B1_x_re + I * B1_x_im,\n",
    "                    B1_y == B1_y_re + I * B1_y_im,\n",
    "                    B1_z == B1_z_re + I * B1_z_im]"
   ]
  },
  {
   "cell_type": "code",
   "execution_count": 16,
   "metadata": {},
   "outputs": [],
   "source": [
    "# 2D\n",
    "# отсутсвие изменения поля вдоль оси y\n",
    "set_Ey_0 = False"
   ]
  },
  {
   "cell_type": "code",
   "execution_count": 17,
   "metadata": {},
   "outputs": [],
   "source": [
    "if set_Ey_0:\n",
    "    B1_y = 0\n",
    "    B2_y = 0\n",
    "\n",
    "    A1_y = 0\n",
    "    A2_y = 0\n",
    "\n",
    "    ky   = 0"
   ]
  },
  {
   "cell_type": "markdown",
   "metadata": {},
   "source": [
    "$$K_x^2 = \\frac{ \\mu'_{xx}\\epsilon'_{zz} \\frac{\\omega^2}{c^2}}{\\left(1 - \\frac{k'_z}{\\left({ {k'_z}} - \\frac{\\omega^2}{{k'_z}c^2} {\\mu'}_{yy} {\\epsilon'}_{xx} \\right)} - \\frac{\\left(\\mu'_{yy}-\\mu'_{xx}\\right)}{\\left({\\mu'}_{yy}  - \\frac{{k'_z}^2 c^2}{\\omega^2 {\\epsilon'}_{xx}} \\right)}\\right)}$$"
   ]
  },
  {
   "cell_type": "code",
   "execution_count": 18,
   "metadata": {},
   "outputs": [],
   "source": [
    "# K_vacuum = sqrt(kappa_vacuum^2-k_z^2)\n",
    "# K_conductor = sqrt(kappa^2-k_z^2)\n",
    "\n",
    "K_vacuum    = var(\"K_vacuum\")\n",
    "K_conductor = var(\"K_conductor\")"
   ]
  },
  {
   "cell_type": "markdown",
   "metadata": {},
   "source": [
    "$$\\frac{\\partial^{2}}{(\\partial {x})^{2}}{E_z}(x,y) + K_x^2\\,{E_z}(x,y) = 0$$"
   ]
  },
  {
   "cell_type": "markdown",
   "metadata": {},
   "source": [
    "Решение этого дифференциального уравнения для TM волны"
   ]
  },
  {
   "cell_type": "markdown",
   "metadata": {},
   "source": [
    "$${C_{0}} e^{i\\,K_x x} + {C_{1}} e^{-i\\, K_x x}$$"
   ]
  },
  {
   "cell_type": "code",
   "execution_count": 19,
   "metadata": {},
   "outputs": [],
   "source": [
    "E_inner_vacuum_f_z = function(\"E_inner_vacuum_f_z\")\n",
    "E_inner_vacuum_f_x = function(\"E_inner_vacuum_f_x\")\n",
    "E_inner_vacuum_f_y = function(\"E_inner_vacuum_f_y\")\n",
    "\n",
    "E_bad_conductor_f_z = function(\"E_bad_conductor_f_z\")\n",
    "E_bad_conductor_f_x = function(\"E_bad_conductor_f_x\")\n",
    "E_bad_conductor_f_y = function(\"E_bad_conductor_f_y\")"
   ]
  },
  {
   "cell_type": "code",
   "execution_count": 20,
   "metadata": {},
   "outputs": [],
   "source": [
    "E_inner_vacuum_z = var(\"E_inner_vacuum_z\")\n",
    "E_inner_vacuum_x = var(\"E_inner_vacuum_x\")\n",
    "E_inner_vacuum_y = var(\"E_inner_vacuum_y\")\n",
    "\n",
    "E_bad_conductor_z = var(\"E_bad_conductor_z\")\n",
    "E_bad_conductor_x = var(\"E_bad_conductor_x\")\n",
    "E_bad_conductor_y = var(\"E_bad_conductor_y\")"
   ]
  },
  {
   "cell_type": "code",
   "execution_count": 21,
   "metadata": {},
   "outputs": [
    {
     "name": "stdout",
     "output_type": "stream",
     "text": [
      "E_inner_vacuum_sol_z (x) \n"
     ]
    },
    {
     "data": {
      "text/latex": [
       "$\\displaystyle \\mathit{A2}_{z} e^{\\left(i \\, K_{\\mathit{vacuum}} x\\right)} + \\mathit{A1}_{z} e^{\\left(-i \\, K_{\\mathit{vacuum}} x\\right)}$"
      ],
      "text/plain": [
       "<IPython.core.display.Math object>"
      ]
     },
     "metadata": {},
     "output_type": "display_data"
    },
    {
     "name": "stdout",
     "output_type": "stream",
     "text": [
      "E_inner_vacuum_sol_x (x) =\n"
     ]
    },
    {
     "data": {
      "text/latex": [
       "$\\displaystyle \\mathit{A2}_{x} e^{\\left(i \\, K_{\\mathit{vacuum}} x\\right)} + \\mathit{A1}_{x} e^{\\left(-i \\, K_{\\mathit{vacuum}} x\\right)}$"
      ],
      "text/plain": [
       "<IPython.core.display.Math object>"
      ]
     },
     "metadata": {},
     "output_type": "display_data"
    },
    {
     "name": "stdout",
     "output_type": "stream",
     "text": [
      "E_inner_vacuum_sol_y (x) =\n"
     ]
    },
    {
     "data": {
      "text/latex": [
       "$\\displaystyle \\mathit{A2}_{y} e^{\\left(i \\, K_{\\mathit{vacuum}} x\\right)} + \\mathit{A1}_{y} e^{\\left(-i \\, K_{\\mathit{vacuum}} x\\right)}$"
      ],
      "text/plain": [
       "<IPython.core.display.Math object>"
      ]
     },
     "metadata": {},
     "output_type": "display_data"
    }
   ],
   "source": [
    "# выражения для электрического поля\n",
    "# в вакууме внутри резонатора\n",
    "\n",
    "# знак перед корнем (K_vacuum) будем выбирать всегда так чтобы корень имел положительную мнимую часть\n",
    "E_inner_vacuum_sol_z (x) = A1_z*exp(- I * K_vacuum*x) + A2_z*exp( I * K_vacuum*x)\n",
    "E_inner_vacuum_sol_x (x) = A1_x*exp(- I * K_vacuum*x) + A2_x*exp( I * K_vacuum*x)\n",
    "E_inner_vacuum_sol_y (x) = A1_y*exp(- I * K_vacuum*x) + A2_y*exp( I * K_vacuum*x)\n",
    "\n",
    "\n",
    "print (\"E_inner_vacuum_sol_z (x) \")\n",
    "display(Math(latex(E_inner_vacuum_sol_z (x))))\n",
    "print (\"E_inner_vacuum_sol_x (x) =\")\n",
    "display(Math(latex(E_inner_vacuum_sol_x (x))))\n",
    "print (\"E_inner_vacuum_sol_y (x) =\")\n",
    "display(Math(latex(E_inner_vacuum_sol_y (x))))"
   ]
  },
  {
   "cell_type": "markdown",
   "metadata": {},
   "source": [
    "решение для проводящего металла с потерями\n",
    "\n",
    "$\\vec{E} = \\vec{E}\\,e^{i\\,k_x'\\,x}\\,e^{i\\,k_z\\,z}\\,e^{-i\\,\\omega\\,t}$\n",
    "\n",
    "$k_x' = k_x + i\\,s_x$\n",
    "\n",
    "$\\vec{E} = \\vec{E}\\,e^{-s_x\\,x}\\,e^{i\\,k_x\\,x}\\,e^{i\\,k_z\\,z}\\,e^{-i\\,\\omega\\,t}$"
   ]
  },
  {
   "cell_type": "code",
   "execution_count": 22,
   "metadata": {},
   "outputs": [
    {
     "name": "stdout",
     "output_type": "stream",
     "text": [
      "E_bad_conductor_sol_z (x) \n"
     ]
    },
    {
     "data": {
      "text/latex": [
       "$\\displaystyle \\mathit{B1}_{z} e^{\\left(i \\, K_{\\mathit{conductor}} x\\right)}$"
      ],
      "text/plain": [
       "<IPython.core.display.Math object>"
      ]
     },
     "metadata": {},
     "output_type": "display_data"
    },
    {
     "name": "stdout",
     "output_type": "stream",
     "text": [
      "E_bad_conductor_sol_x (x) =\n"
     ]
    },
    {
     "data": {
      "text/latex": [
       "$\\displaystyle \\mathit{B1}_{x} e^{\\left(i \\, K_{\\mathit{conductor}} x\\right)}$"
      ],
      "text/plain": [
       "<IPython.core.display.Math object>"
      ]
     },
     "metadata": {},
     "output_type": "display_data"
    },
    {
     "name": "stdout",
     "output_type": "stream",
     "text": [
      "E_bad_conductor_sol_y (x) =\n"
     ]
    },
    {
     "data": {
      "text/latex": [
       "$\\displaystyle \\mathit{B1}_{y} e^{\\left(i \\, K_{\\mathit{conductor}} x\\right)}$"
      ],
      "text/plain": [
       "<IPython.core.display.Math object>"
      ]
     },
     "metadata": {},
     "output_type": "display_data"
    }
   ],
   "source": [
    "# x > a-{k'_x}^{2}-{k'_y}^{2} +\n",
    "# в проводящем металле с потерями\n",
    "\n",
    "# знак перед корнем будем выбирать всегда так чтобы корень имел положительную мнимую часть\n",
    "E_bad_conductor_sol_z (x) = B1_z*exp(I * K_conductor*x)\n",
    "E_bad_conductor_sol_x (x) = B1_x*exp(I * K_conductor*x)\n",
    "E_bad_conductor_sol_y (x) = B1_y*exp(I * K_conductor*x)\n",
    "\n",
    "print (\"E_bad_conductor_sol_z (x) \")\n",
    "display(Math(latex(E_bad_conductor_sol_z (x))))\n",
    "print (\"E_bad_conductor_sol_x (x) =\")\n",
    "display(Math(latex(E_bad_conductor_sol_x (x))))\n",
    "print (\"E_bad_conductor_sol_y (x) =\")\n",
    "display(Math(latex(E_bad_conductor_sol_y (x))))"
   ]
  },
  {
   "cell_type": "code",
   "execution_count": 23,
   "metadata": {},
   "outputs": [
    {
     "name": "stdout",
     "output_type": "stream",
     "text": [
      "rot_E_inner_vacuum_x =\n"
     ]
    },
    {
     "data": {
      "text/latex": [
       "$\\displaystyle i \\, E_{\\mathit{inner}_{\\mathit{vacuum}_{z}}} k_{y} - i \\, E_{\\mathit{inner}_{\\mathit{vacuum}_{y}}} k_{z}$"
      ],
      "text/plain": [
       "<IPython.core.display.Math object>"
      ]
     },
     "metadata": {},
     "output_type": "display_data"
    },
    {
     "name": "stdout",
     "output_type": "stream",
     "text": [
      "rot_E_bad_conductor_x =\n"
     ]
    },
    {
     "data": {
      "text/latex": [
       "$\\displaystyle i \\, E_{\\mathit{bad}_{\\mathit{conductor}_{z}}} k_{y} - i \\, E_{\\mathit{bad}_{\\mathit{conductor}_{y}}} k_{z}$"
      ],
      "text/plain": [
       "<IPython.core.display.Math object>"
      ]
     },
     "metadata": {},
     "output_type": "display_data"
    },
    {
     "name": "stdout",
     "output_type": "stream",
     "text": [
      "rot_E_inner_vacuum_y =\n"
     ]
    },
    {
     "data": {
      "text/latex": [
       "$\\displaystyle i \\, E_{\\mathit{inner}_{\\mathit{vacuum}_{x}}} k_{z} - \\frac{\\partial}{\\partial x}E_{{\\rm inner}_{{\\rm vacuum}_{f_{z}}}}\\left(x\\right)$"
      ],
      "text/plain": [
       "<IPython.core.display.Math object>"
      ]
     },
     "metadata": {},
     "output_type": "display_data"
    },
    {
     "name": "stdout",
     "output_type": "stream",
     "text": [
      "rot_E_bad_conductor_y =\n"
     ]
    },
    {
     "data": {
      "text/latex": [
       "$\\displaystyle i \\, E_{\\mathit{bad}_{\\mathit{conductor}_{x}}} k_{z} - \\frac{\\partial}{\\partial x}E_{{\\rm bad}_{{\\rm conductor}_{f_{z}}}}\\left(x\\right)$"
      ],
      "text/plain": [
       "<IPython.core.display.Math object>"
      ]
     },
     "metadata": {},
     "output_type": "display_data"
    },
    {
     "name": "stdout",
     "output_type": "stream",
     "text": [
      "rot_E_inner_vacuum_z =\n"
     ]
    },
    {
     "data": {
      "text/latex": [
       "$\\displaystyle -i \\, E_{\\mathit{inner}_{\\mathit{vacuum}_{x}}} k_{y} + \\frac{\\partial}{\\partial x}E_{{\\rm inner}_{{\\rm vacuum}_{f_{y}}}}\\left(x\\right)$"
      ],
      "text/plain": [
       "<IPython.core.display.Math object>"
      ]
     },
     "metadata": {},
     "output_type": "display_data"
    },
    {
     "name": "stdout",
     "output_type": "stream",
     "text": [
      "rot_H_bad_conductor_z =\n"
     ]
    },
    {
     "data": {
      "text/latex": [
       "$\\displaystyle -i \\, E_{\\mathit{bad}_{\\mathit{conductor}_{x}}} k_{y} + \\frac{\\partial}{\\partial x}E_{{\\rm bad}_{{\\rm conductor}_{f_{y}}}}\\left(x\\right)$"
      ],
      "text/plain": [
       "<IPython.core.display.Math object>"
      ]
     },
     "metadata": {},
     "output_type": "display_data"
    }
   ],
   "source": [
    "# выражения для магнитного поля в вакууме внутри резонатора и в проводящем металле с потерями\n",
    "# rot E = -1/c dB/dt\n",
    "# rot_E_x = diff(E_z, y) - diff(E_y, z)\n",
    "# rot_E_y = diff(E_x, z) - diff(E_z, x)\n",
    "# rot_E_z = diff(E_y, x) - diff(E_x, y)\n",
    "\n",
    "# rot_E_x = diff(E_z, y) - diff(E_y, z)\n",
    "rot_E_inner_vacuum_x  = I*k_y*E_inner_vacuum_z  - I*k_z*E_inner_vacuum_y\n",
    "rot_E_bad_conductor_x = I*k_y*E_bad_conductor_z - I*k_z*E_bad_conductor_y\n",
    "\n",
    "# rot_E_y = diff(E_x, z) - diff(E_z, x)\n",
    "rot_E_inner_vacuum_y  = I*k_z*E_inner_vacuum_x  - diff(E_inner_vacuum_f_z(x), x)\n",
    "rot_E_bad_conductor_y = I*k_z*E_bad_conductor_x - diff(E_bad_conductor_f_z(x), x)\n",
    "\n",
    "# rot_E_z = diff(E_y, x) - diff(E_x, y)\n",
    "rot_E_inner_vacuum_z  = diff(E_inner_vacuum_f_y(x) , x) - I*k_y*E_inner_vacuum_x\n",
    "rot_E_bad_conductor_z = diff(E_bad_conductor_f_y(x), x) - I*k_y*E_bad_conductor_x\n",
    "\n",
    "print (\"rot_E_inner_vacuum_x =\")\n",
    "display(Math(latex(rot_E_inner_vacuum_x)))\n",
    "print (\"rot_E_bad_conductor_x =\")\n",
    "display(Math(latex(rot_E_bad_conductor_x)))\n",
    "\n",
    "print (\"rot_E_inner_vacuum_y =\")\n",
    "display(Math(latex(rot_E_inner_vacuum_y)))\n",
    "print (\"rot_E_bad_conductor_y =\")\n",
    "display(Math(latex(rot_E_bad_conductor_y)))\n",
    "\n",
    "print (\"rot_E_inner_vacuum_z =\")\n",
    "display(Math(latex(rot_E_inner_vacuum_z)))\n",
    "print (\"rot_H_bad_conductor_z =\")\n",
    "display(Math(latex(rot_E_bad_conductor_z)))"
   ]
  },
  {
   "cell_type": "markdown",
   "metadata": {},
   "source": [
    "Исходя из записи первого уравнения Максвелла"
   ]
  },
  {
   "cell_type": "markdown",
   "metadata": {},
   "source": [
    "$$rot\\,\\vec{E} = -\\frac{1}{c}\\frac{\\partial \\vec B}{\\partial t} - \\frac{4\\pi}{c}\\vec j_m = \\mu\\,\\frac{i\\,\\omega}{c}\\,\\vec{H} - \\frac{4\\pi}{c}\\sigma_m \\vec H $$"
   ]
  },
  {
   "cell_type": "code",
   "execution_count": 24,
   "metadata": {},
   "outputs": [],
   "source": [
    "H_inner_vacuum_x  = var(\"H_inner_vacuum_x\")\n",
    "H_bad_conductor_x = var(\"H_bad_conductor_x\")\n",
    "\n",
    "H_inner_vacuum_y  = var(\"H_inner_vacuum_y\")\n",
    "H_bad_conductor_y = var(\"H_bad_conductor_y\")\n",
    "\n",
    "H_inner_vacuum_z  = var(\"H_inner_vacuum_z\")\n",
    "H_bad_conductor_z = var(\"H_bad_conductor_z\")"
   ]
  },
  {
   "cell_type": "code",
   "execution_count": 25,
   "metadata": {},
   "outputs": [],
   "source": [
    "H_inner_vacuum_f_x  = function(\"H_inner_vacuum_f_x\")\n",
    "H_bad_conductor_f_x = function(\"H_bad_conductor_f_x\")\n",
    "\n",
    "H_inner_vacuum_f_y  = function(\"H_inner_vacuum_f_y\")\n",
    "H_bad_conductor_f_y = function(\"H_bad_conductor_f_y\")\n",
    "\n",
    "H_inner_vacuum_f_z  = function(\"H_inner_vacuum_f_z\")\n",
    "H_bad_conductor_f_z = function(\"H_bad_conductor_f_z\")"
   ]
  },
  {
   "cell_type": "code",
   "execution_count": 26,
   "metadata": {},
   "outputs": [
    {
     "data": {
      "text/plain": [
       "[I*E_bad_conductor_z*k_y - I*E_bad_conductor_y*k_z == -I*H_bad_conductor_x*mu_xx_*omega/c,\n",
       " I*E_bad_conductor_x*k_z - diff(E_bad_conductor_f_z(x), x) == -I*H_bad_conductor_y*mu_yy_*omega/c,\n",
       " -I*E_bad_conductor_x*k_y + diff(E_bad_conductor_f_y(x), x) == -I*H_bad_conductor_z*mu_zz_*omega/c]"
      ]
     },
     "execution_count": 26,
     "metadata": {},
     "output_type": "execute_result"
    }
   ],
   "source": [
    "eq_rot_E_bad_conductor_x  = rot_E_bad_conductor_x  == I*omega/c*mu_xx_*H_bad_conductor_x\n",
    "eq_rot_E_bad_conductor_y  = rot_E_bad_conductor_y  == I*omega/c*mu_yy_*H_bad_conductor_y\n",
    "eq_rot_E_bad_conductor_z  = rot_E_bad_conductor_z  == I*omega/c*mu_zz_*H_bad_conductor_z\n",
    "\n",
    "eq_rot_E_bad_conductor = [\n",
    "    eq_rot_E_bad_conductor_x,\n",
    "    eq_rot_E_bad_conductor_y,\n",
    "    eq_rot_E_bad_conductor_z,\n",
    "]\n",
    "eq_rot_E_bad_conductor"
   ]
  },
  {
   "cell_type": "code",
   "execution_count": 27,
   "metadata": {},
   "outputs": [
    {
     "data": {
      "text/plain": [
       "[I*E_inner_vacuum_z*k_y - I*E_inner_vacuum_y*k_z == -I*H_inner_vacuum_x*omega/c,\n",
       " I*E_inner_vacuum_x*k_z - diff(E_inner_vacuum_f_z(x), x) == -I*H_inner_vacuum_y*omega/c,\n",
       " -I*E_inner_vacuum_x*k_y + diff(E_inner_vacuum_f_y(x), x) == -I*H_inner_vacuum_z*omega/c]"
      ]
     },
     "execution_count": 27,
     "metadata": {},
     "output_type": "execute_result"
    }
   ],
   "source": [
    "eq_rot_E_inner_vacuum_x  = rot_E_inner_vacuum_x  == I*omega/c*H_inner_vacuum_x\n",
    "eq_rot_E_inner_vacuum_y  = rot_E_inner_vacuum_y  == I*omega/c*H_inner_vacuum_y\n",
    "eq_rot_E_inner_vacuum_z  = rot_E_inner_vacuum_z  == I*omega/c*H_inner_vacuum_z\n",
    "\n",
    "eq_rot_E_inner_vacuum = [\n",
    "    eq_rot_E_inner_vacuum_x,\n",
    "    eq_rot_E_inner_vacuum_y,\n",
    "    eq_rot_E_inner_vacuum_z,\n",
    "]\n",
    "eq_rot_E_inner_vacuum"
   ]
  },
  {
   "cell_type": "markdown",
   "metadata": {},
   "source": [
    "Покомпонентно (если тензоры магнитной и электрической проницаемостей диагональны)"
   ]
  },
  {
   "cell_type": "markdown",
   "metadata": {},
   "source": [
    "$$\\frac{i\\,\\omega}{c}{\\mu'}_{yy} H_y = i K_z E_{x}-{\\frac {\\partial E_{z}}{\\partial x}}$$"
   ]
  },
  {
   "cell_type": "markdown",
   "metadata": {},
   "source": [
    "$$\\frac{i\\,\\omega}{c}{{\\mu'}_{xx}} H_x = \\frac {\\partial E_{z}}{\\partial y}-i K_z E_{y}$$"
   ]
  },
  {
   "cell_type": "markdown",
   "metadata": {},
   "source": [
    "$$\\frac{i\\,\\omega}{c}{\\mu'}_{zz} H_z = {\\frac {\\partial E_{y}}{\\partial x}}-{\\frac {\\partial E_{x}}{\\partial y}}$$"
   ]
  },
  {
   "cell_type": "markdown",
   "metadata": {},
   "source": [
    "Исходя из записи второго уравнения Максвелла"
   ]
  },
  {
   "cell_type": "markdown",
   "metadata": {},
   "source": [
    "$$rot\\,\\vec{H} = \\frac{1}{c}\\frac{\\partial \\vec D}{\\partial t} + \\frac{4\\pi}{c} \\vec j_e = - \\frac{i\\,\\omega}{c} \\epsilon \\vec{E} + \\frac{4\\pi}{c}\\sigma_e \\vec E$$"
   ]
  },
  {
   "cell_type": "markdown",
   "metadata": {},
   "source": [
    "$$ - \\frac{i\\,\\omega}{c} {\\epsilon'}_{xx} E_x = {\\frac {\\partial H_{z}}{\\partial y}}-i K_z H_{y} $$"
   ]
  },
  {
   "cell_type": "markdown",
   "metadata": {},
   "source": [
    "$$ - \\frac{i\\,\\omega}{c} {\\epsilon'}_{yy} E_y = i K_z H_{x}-{\\frac {\\partial H_{z}}{\\partial x}}$$"
   ]
  },
  {
   "cell_type": "markdown",
   "metadata": {},
   "source": [
    "$$ - \\frac{i\\,\\omega}{c} {\\epsilon'}_{zz} E_z = {\\frac {\\partial H_{y}}{\\partial x}}-{\\frac {\\partial H_{x}}{\\partial y}}$$"
   ]
  },
  {
   "cell_type": "code",
   "execution_count": 28,
   "metadata": {},
   "outputs": [
    {
     "name": "stdout",
     "output_type": "stream",
     "text": [
      "rot_H_inner_vacuum_x =\n"
     ]
    },
    {
     "data": {
      "text/latex": [
       "$\\displaystyle i \\, H_{\\mathit{inner}_{\\mathit{vacuum}_{z}}} k_{y} - i \\, H_{\\mathit{inner}_{\\mathit{vacuum}_{y}}} k_{z}$"
      ],
      "text/plain": [
       "<IPython.core.display.Math object>"
      ]
     },
     "metadata": {},
     "output_type": "display_data"
    },
    {
     "name": "stdout",
     "output_type": "stream",
     "text": [
      "rot_H_bad_conductor_x =\n"
     ]
    },
    {
     "data": {
      "text/latex": [
       "$\\displaystyle i \\, H_{\\mathit{bad}_{\\mathit{conductor}_{z}}} k_{y} - i \\, H_{\\mathit{bad}_{\\mathit{conductor}_{y}}} k_{z}$"
      ],
      "text/plain": [
       "<IPython.core.display.Math object>"
      ]
     },
     "metadata": {},
     "output_type": "display_data"
    },
    {
     "name": "stdout",
     "output_type": "stream",
     "text": [
      "rot_H_inner_vacuum_y =\n"
     ]
    },
    {
     "data": {
      "text/latex": [
       "$\\displaystyle i \\, H_{\\mathit{inner}_{\\mathit{vacuum}_{x}}} k_{z} - \\frac{\\partial}{\\partial x}H_{{\\rm inner}_{{\\rm vacuum}_{f_{z}}}}\\left(x\\right)$"
      ],
      "text/plain": [
       "<IPython.core.display.Math object>"
      ]
     },
     "metadata": {},
     "output_type": "display_data"
    },
    {
     "name": "stdout",
     "output_type": "stream",
     "text": [
      "rot_H_bad_conductor_y =\n"
     ]
    },
    {
     "data": {
      "text/latex": [
       "$\\displaystyle i \\, H_{\\mathit{bad}_{\\mathit{conductor}_{x}}} k_{z} - \\frac{\\partial}{\\partial x}H_{{\\rm bad}_{{\\rm conductor}_{f_{z}}}}\\left(x\\right)$"
      ],
      "text/plain": [
       "<IPython.core.display.Math object>"
      ]
     },
     "metadata": {},
     "output_type": "display_data"
    },
    {
     "name": "stdout",
     "output_type": "stream",
     "text": [
      "rot_H_inner_vacuum_z =\n"
     ]
    },
    {
     "data": {
      "text/latex": [
       "$\\displaystyle -i \\, H_{\\mathit{inner}_{\\mathit{vacuum}_{x}}} k_{y} + \\frac{\\partial}{\\partial x}H_{{\\rm inner}_{{\\rm vacuum}_{f_{y}}}}\\left(x\\right)$"
      ],
      "text/plain": [
       "<IPython.core.display.Math object>"
      ]
     },
     "metadata": {},
     "output_type": "display_data"
    },
    {
     "name": "stdout",
     "output_type": "stream",
     "text": [
      "rot_H_bad_conductor_z =\n"
     ]
    },
    {
     "data": {
      "text/latex": [
       "$\\displaystyle -i \\, H_{\\mathit{bad}_{\\mathit{conductor}_{x}}} k_{y} + \\frac{\\partial}{\\partial x}H_{{\\rm bad}_{{\\rm conductor}_{f_{y}}}}\\left(x\\right)$"
      ],
      "text/plain": [
       "<IPython.core.display.Math object>"
      ]
     },
     "metadata": {},
     "output_type": "display_data"
    }
   ],
   "source": [
    "# уравнение Максвелла для тока смещения\n",
    "# rot_H   = - I * epsilon * omega / c * E\n",
    "# rot_H_x = diff(H_z, y) - diff(H_y, z)\n",
    "# rot_H_y = diff(H_x, z) - diff(H_z, x)\n",
    "# rot_H_z = diff(H_y, x) - diff(H_x, y)\n",
    "\n",
    "# rot_H_x = diff(H_z, y) - diff(H_y, z)\n",
    "rot_H_inner_vacuum_x  = I*k_y*H_inner_vacuum_z  - I*k_z*H_inner_vacuum_y\n",
    "rot_H_bad_conductor_x = I*k_y*H_bad_conductor_z - I*k_z*H_bad_conductor_y\n",
    "\n",
    "# rot_H_y = diff(H_x, z) - diff(H_z, x)\n",
    "rot_H_inner_vacuum_y  = I*k_z*H_inner_vacuum_x  - diff(H_inner_vacuum_f_z(x), x)\n",
    "rot_H_bad_conductor_y = I*k_z*H_bad_conductor_x - diff(H_bad_conductor_f_z(x), x)\n",
    "\n",
    "# rot_H_z = diff(H_y, x) - diff(H_x, y)\n",
    "rot_H_inner_vacuum_z  = diff(H_inner_vacuum_f_y(x) , x) - I*k_y*H_inner_vacuum_x\n",
    "rot_H_bad_conductor_z = diff(H_bad_conductor_f_y(x), x) - I*k_y*H_bad_conductor_x\n",
    "\n",
    "print (\"rot_H_inner_vacuum_x =\")\n",
    "display(Math(latex(rot_H_inner_vacuum_x)))\n",
    "print (\"rot_H_bad_conductor_x =\")\n",
    "display(Math(latex(rot_H_bad_conductor_x)))\n",
    "\n",
    "print (\"rot_H_inner_vacuum_y =\")\n",
    "display(Math(latex(rot_H_inner_vacuum_y)))\n",
    "print (\"rot_H_bad_conductor_y =\")\n",
    "display(Math(latex(rot_H_bad_conductor_y)))\n",
    "\n",
    "print (\"rot_H_inner_vacuum_z =\")\n",
    "display(Math(latex(rot_H_inner_vacuum_z)))\n",
    "print (\"rot_H_bad_conductor_z =\")\n",
    "display(Math(latex(rot_H_bad_conductor_z)))"
   ]
  },
  {
   "cell_type": "code",
   "execution_count": 29,
   "metadata": {},
   "outputs": [
    {
     "data": {
      "text/plain": [
       "([x |--> A2_x*e^(I*K_vacuum*x) + A1_x*e^(-I*K_vacuum*x),\n",
       "  x |--> A2_y*e^(I*K_vacuum*x) + A1_y*e^(-I*K_vacuum*x),\n",
       "  x |--> A2_z*e^(I*K_vacuum*x) + A1_z*e^(-I*K_vacuum*x)],\n",
       " [x |--> B1_x*e^(I*K_conductor*x),\n",
       "  x |--> B1_y*e^(I*K_conductor*x),\n",
       "  x |--> B1_z*e^(I*K_conductor*x)])"
      ]
     },
     "execution_count": 29,
     "metadata": {},
     "output_type": "execute_result"
    }
   ],
   "source": [
    "E_inner_vacuum_sol = [\n",
    "    E_inner_vacuum_sol_x,\n",
    "    E_inner_vacuum_sol_y,\n",
    "    E_inner_vacuum_sol_z,\n",
    "]\n",
    "\n",
    "E_bad_conductor_sol = [\n",
    "    E_bad_conductor_sol_x,\n",
    "    E_bad_conductor_sol_y,\n",
    "    E_bad_conductor_sol_z,\n",
    "]\n",
    "\n",
    "E_inner_vacuum_sol, E_bad_conductor_sol"
   ]
  },
  {
   "cell_type": "code",
   "execution_count": 30,
   "metadata": {},
   "outputs": [
    {
     "data": {
      "text/plain": [
       "([E_inner_vacuum_f_x, E_inner_vacuum_f_y, E_inner_vacuum_f_z],\n",
       " [E_bad_conductor_f_x, E_bad_conductor_f_y, E_bad_conductor_f_z])"
      ]
     },
     "execution_count": 30,
     "metadata": {},
     "output_type": "execute_result"
    }
   ],
   "source": [
    "E_inner_vacuum_f = [\n",
    "    E_inner_vacuum_f_x,\n",
    "    E_inner_vacuum_f_y,\n",
    "    E_inner_vacuum_f_z,\n",
    "]\n",
    "\n",
    "E_bad_conductor_f = [\n",
    "    E_bad_conductor_f_x,\n",
    "    E_bad_conductor_f_y,\n",
    "    E_bad_conductor_f_z,\n",
    "]\n",
    "\n",
    "E_inner_vacuum_f, E_bad_conductor_f"
   ]
  },
  {
   "cell_type": "code",
   "execution_count": 31,
   "metadata": {},
   "outputs": [
    {
     "data": {
      "text/plain": [
       "([E_inner_vacuum_x, E_inner_vacuum_y, E_inner_vacuum_z],\n",
       " [E_bad_conductor_x, E_bad_conductor_y, E_bad_conductor_z])"
      ]
     },
     "execution_count": 31,
     "metadata": {},
     "output_type": "execute_result"
    }
   ],
   "source": [
    "E_inner_vacuum = [\n",
    "    E_inner_vacuum_x,\n",
    "    E_inner_vacuum_y,\n",
    "    E_inner_vacuum_z,\n",
    "]\n",
    "\n",
    "E_bad_conductor = [\n",
    "    E_bad_conductor_x,\n",
    "    E_bad_conductor_y,\n",
    "    E_bad_conductor_z,\n",
    "]\n",
    "\n",
    "E_inner_vacuum, E_bad_conductor"
   ]
  },
  {
   "cell_type": "code",
   "execution_count": 32,
   "metadata": {},
   "outputs": [
    {
     "data": {
      "text/plain": [
       "([H_inner_vacuum_x, H_inner_vacuum_y, H_inner_vacuum_z],\n",
       " [H_bad_conductor_x, H_bad_conductor_y, H_bad_conductor_z])"
      ]
     },
     "execution_count": 32,
     "metadata": {},
     "output_type": "execute_result"
    }
   ],
   "source": [
    "H_inner_vacuum = [\n",
    "    H_inner_vacuum_x,\n",
    "    H_inner_vacuum_y,\n",
    "    H_inner_vacuum_z,\n",
    "]\n",
    "\n",
    "H_bad_conductor = [\n",
    "    H_bad_conductor_x,\n",
    "    H_bad_conductor_y,\n",
    "    H_bad_conductor_z,\n",
    "]\n",
    "\n",
    "H_inner_vacuum, H_bad_conductor"
   ]
  },
  {
   "cell_type": "code",
   "execution_count": 33,
   "metadata": {},
   "outputs": [
    {
     "data": {
      "text/plain": [
       "([H_inner_vacuum_f_x, H_inner_vacuum_f_y, H_inner_vacuum_f_z],\n",
       " [H_bad_conductor_f_x, H_bad_conductor_f_y, H_bad_conductor_f_z])"
      ]
     },
     "execution_count": 33,
     "metadata": {},
     "output_type": "execute_result"
    }
   ],
   "source": [
    "H_inner_vacuum_f = [\n",
    "    H_inner_vacuum_f_x,\n",
    "    H_inner_vacuum_f_y,\n",
    "    H_inner_vacuum_f_z,\n",
    "]\n",
    "\n",
    "H_bad_conductor_f = [\n",
    "    H_bad_conductor_f_x,\n",
    "    H_bad_conductor_f_y,\n",
    "    H_bad_conductor_f_z,\n",
    "]\n",
    "\n",
    "H_inner_vacuum_f, H_bad_conductor_f"
   ]
  },
  {
   "cell_type": "code",
   "execution_count": null,
   "metadata": {},
   "outputs": [],
   "source": []
  },
  {
   "cell_type": "markdown",
   "metadata": {},
   "source": [
    "$$rot\\,\\vec{H} = \\frac{1}{c}\\frac{\\partial \\vec E}{\\partial t} = - \\frac{i\\,\\omega}{c} \\vec{E}$$"
   ]
  },
  {
   "cell_type": "markdown",
   "metadata": {},
   "source": [
    "$$rot\\,\\vec{H} = \\frac{1}{c}\\frac{\\partial \\vec D}{\\partial t} + \\frac{4\\pi}{c} \\vec j = - \\frac{i\\,\\omega}{c} \\epsilon \\vec{E} + \\frac{4\\pi}{c}\\sigma \\vec E$$"
   ]
  },
  {
   "cell_type": "markdown",
   "metadata": {},
   "source": [
    "принимая модель комплексного представления диэлектрической проницаемости $\\epsilon' = \\epsilon + \\frac{4\\pi\\,\\sigma}{\\omega}\\,i$ (плохой проводник)"
   ]
  },
  {
   "cell_type": "markdown",
   "metadata": {},
   "source": [
    "$$rot\\,\\vec{H} = \\frac{1}{c}\\frac{\\partial \\vec D}{\\partial t} + \\frac{4\\pi}{c} \\vec j = - \\frac{i\\,\\omega}{c} \\epsilon \\vec{E} + \\frac{4\\pi}{c}\\sigma \\vec E  = - \\frac{i\\,\\omega}{c} \\epsilon' \\vec{E}$$"
   ]
  },
  {
   "cell_type": "code",
   "execution_count": 34,
   "metadata": {},
   "outputs": [],
   "source": [
    "eq_rot_H_inner_vacuum_x  = rot_H_inner_vacuum_x  == -I*omega/c*E_inner_vacuum_x\n",
    "eq_rot_H_inner_vacuum_y  = rot_H_inner_vacuum_y  == -I*omega/c*E_inner_vacuum_y\n",
    "eq_rot_H_inner_vacuum_z  = rot_H_inner_vacuum_z  == -I*omega/c*E_inner_vacuum_z\n",
    "\n",
    "eq_rot_H_inner_vacuum = [\n",
    "    eq_rot_H_inner_vacuum_x,\n",
    "    eq_rot_H_inner_vacuum_y,\n",
    "    eq_rot_H_inner_vacuum_z,\n",
    "]"
   ]
  },
  {
   "cell_type": "code",
   "execution_count": 35,
   "metadata": {},
   "outputs": [
    {
     "data": {
      "text/plain": [
       "[I*H_bad_conductor_z*k_y - I*H_bad_conductor_y*k_z == -I*E_bad_conductor_x*epsilon_xx_*omega/c,\n",
       " I*H_bad_conductor_x*k_z - diff(H_bad_conductor_f_z(x), x) == -I*E_bad_conductor_y*epsilon_yy_*omega/c,\n",
       " -I*H_bad_conductor_x*k_y + diff(H_bad_conductor_f_y(x), x) == -I*E_bad_conductor_z*epsilon_zz_*omega/c]"
      ]
     },
     "execution_count": 35,
     "metadata": {},
     "output_type": "execute_result"
    }
   ],
   "source": [
    "eq_rot_H_bad_conductor_x = rot_H_bad_conductor_x == -I*omega/c*epsilon_xx_*E_bad_conductor_x\n",
    "eq_rot_H_bad_conductor_y = rot_H_bad_conductor_y == -I*omega/c*epsilon_yy_*E_bad_conductor_y\n",
    "eq_rot_H_bad_conductor_z = rot_H_bad_conductor_z == -I*omega/c*epsilon_zz_*E_bad_conductor_z\n",
    "\n",
    "eq_rot_H_bad_conductor = [\n",
    "    eq_rot_H_bad_conductor_x,\n",
    "    eq_rot_H_bad_conductor_y,\n",
    "    eq_rot_H_bad_conductor_z,\n",
    "]\n",
    "eq_rot_H_bad_conductor"
   ]
  },
  {
   "cell_type": "code",
   "execution_count": 36,
   "metadata": {},
   "outputs": [],
   "source": [
    "def get_field(eq_rot_E, eq_rot_H, eq_rot_E_index, eq_rot_H_index, field_for_exclude, field_for_solve):\n",
    "    # Группируем уравнения в пары,\n",
    "    # удобные для исключения переменных поля в левой части\n",
    "    excluding_1 = solve(eq_rot_E[eq_rot_E_index], field_for_exclude)\n",
    "    excluding_2 = solve(eq_rot_H[eq_rot_H_index], field_for_exclude)\n",
    "    if len(excluding_1) > 0 and len(excluding_2):\n",
    "        # Получаем выражение для поперечных\n",
    "        # (по отношению к оси волновода z)\n",
    "        # компонент поля через продольные\n",
    "        return (solve(\n",
    "            excluding_1[0].rhs() == \\\n",
    "            excluding_2[0].rhs(),\n",
    "        field_for_solve))[0]"
   ]
  },
  {
   "cell_type": "code",
   "execution_count": 37,
   "metadata": {},
   "outputs": [
    {
     "data": {
      "text/html": [
       "<html>\\(\\displaystyle E_{\\mathit{bad}_{\\mathit{conductor}_{y}}} = \\frac{E_{\\mathit{bad}_{\\mathit{conductor}_{z}}} c^{2} k_{y} k_{z} - i \\, c \\mu_{\\mathit{xx}} \\omega \\frac{\\partial}{\\partial x}H_{{\\rm bad}_{{\\rm conductor}_{f_{z}}}}\\left(x\\right)}{c^{2} k_{z}^{2} + \\epsilon_{\\mathit{yy}} \\mu_{\\mathit{xx}} \\omega^{2}}\\)</html>"
      ],
      "text/latex": [
       "$\\displaystyle E_{\\mathit{bad}_{\\mathit{conductor}_{y}}} = \\frac{E_{\\mathit{bad}_{\\mathit{conductor}_{z}}} c^{2} k_{y} k_{z} - i \\, c \\mu_{\\mathit{xx}} \\omega \\frac{\\partial}{\\partial x}H_{{\\rm bad}_{{\\rm conductor}_{f_{z}}}}\\left(x\\right)}{c^{2} k_{z}^{2} + \\epsilon_{\\mathit{yy}} \\mu_{\\mathit{xx}} \\omega^{2}}$"
      ],
      "text/plain": [
       "E_bad_conductor_y == (E_bad_conductor_z*c^2*k_y*k_z - I*c*mu_xx_*omega*diff(H_bad_conductor_f_z(x), x))/(c^2*k_z^2 + epsilon_yy_*mu_xx_*omega^2)"
      ]
     },
     "metadata": {},
     "output_type": "display_data"
    }
   ],
   "source": [
    "# Группируем уравнения в пары, удобные для исключения переменных поля в левой части\n",
    "eq_rot_E_index = 0\n",
    "eq_rot_H_index = 1\n",
    "# Получаем выражение для поперечных (по отношению к оси волновода z) компонент поля через продольные\n",
    "field_for_exclude = H_bad_conductor[0]\n",
    "field_for_solve   = E_bad_conductor[1]\n",
    "\n",
    "E_bad_conductor_sb_y = get_field(eq_rot_E_bad_conductor, eq_rot_H_bad_conductor,\n",
    "                                eq_rot_E_index, eq_rot_H_index,\n",
    "                                field_for_exclude, field_for_solve)\n",
    "show(E_bad_conductor_sb_y)"
   ]
  },
  {
   "cell_type": "code",
   "execution_count": 38,
   "metadata": {},
   "outputs": [
    {
     "data": {
      "text/html": [
       "<html>\\(\\displaystyle H_{\\mathit{bad}_{\\mathit{conductor}_{x}}} = -\\frac{E_{\\mathit{bad}_{\\mathit{conductor}_{z}}} c \\epsilon_{\\mathit{yy}} k_{y} \\omega + i \\, c^{2} k_{z} \\frac{\\partial}{\\partial x}H_{{\\rm bad}_{{\\rm conductor}_{f_{z}}}}\\left(x\\right)}{c^{2} k_{z}^{2} + \\epsilon_{\\mathit{yy}} \\mu_{\\mathit{xx}} \\omega^{2}}\\)</html>"
      ],
      "text/latex": [
       "$\\displaystyle H_{\\mathit{bad}_{\\mathit{conductor}_{x}}} = -\\frac{E_{\\mathit{bad}_{\\mathit{conductor}_{z}}} c \\epsilon_{\\mathit{yy}} k_{y} \\omega + i \\, c^{2} k_{z} \\frac{\\partial}{\\partial x}H_{{\\rm bad}_{{\\rm conductor}_{f_{z}}}}\\left(x\\right)}{c^{2} k_{z}^{2} + \\epsilon_{\\mathit{yy}} \\mu_{\\mathit{xx}} \\omega^{2}}$"
      ],
      "text/plain": [
       "H_bad_conductor_x == -(E_bad_conductor_z*c*epsilon_yy_*k_y*omega + I*c^2*k_z*diff(H_bad_conductor_f_z(x), x))/(c^2*k_z^2 + epsilon_yy_*mu_xx_*omega^2)"
      ]
     },
     "metadata": {},
     "output_type": "display_data"
    }
   ],
   "source": [
    "# Группируем уравнения в пары, удобные для исключения переменных поля в левой части\n",
    "eq_rot_E_index = 0\n",
    "eq_rot_H_index = 1\n",
    "# Получаем выражение для поперечных (по отношению к оси волновода z) компонент поля через продольные\n",
    "field_for_exclude = E_bad_conductor[1]\n",
    "field_for_solve   = H_bad_conductor[0]\n",
    "\n",
    "H_bad_conductor_sb_x = get_field(eq_rot_E_bad_conductor, eq_rot_H_bad_conductor,\n",
    "                                eq_rot_E_index, eq_rot_H_index,\n",
    "                                field_for_exclude, field_for_solve)\n",
    "show(H_bad_conductor_sb_x)"
   ]
  },
  {
   "cell_type": "code",
   "execution_count": 39,
   "metadata": {},
   "outputs": [
    {
     "data": {
      "text/html": [
       "<html>\\(\\displaystyle E_{\\mathit{bad}_{\\mathit{conductor}_{x}}} = -\\frac{H_{\\mathit{bad}_{\\mathit{conductor}_{z}}} c k_{y} \\mu_{\\mathit{yy}} \\omega + i \\, c^{2} k_{z} \\frac{\\partial}{\\partial x}E_{{\\rm bad}_{{\\rm conductor}_{f_{z}}}}\\left(x\\right)}{c^{2} k_{z}^{2} + \\epsilon_{\\mathit{xx}} \\mu_{\\mathit{yy}} \\omega^{2}}\\)</html>"
      ],
      "text/latex": [
       "$\\displaystyle E_{\\mathit{bad}_{\\mathit{conductor}_{x}}} = -\\frac{H_{\\mathit{bad}_{\\mathit{conductor}_{z}}} c k_{y} \\mu_{\\mathit{yy}} \\omega + i \\, c^{2} k_{z} \\frac{\\partial}{\\partial x}E_{{\\rm bad}_{{\\rm conductor}_{f_{z}}}}\\left(x\\right)}{c^{2} k_{z}^{2} + \\epsilon_{\\mathit{xx}} \\mu_{\\mathit{yy}} \\omega^{2}}$"
      ],
      "text/plain": [
       "E_bad_conductor_x == -(H_bad_conductor_z*c*k_y*mu_yy_*omega + I*c^2*k_z*diff(E_bad_conductor_f_z(x), x))/(c^2*k_z^2 + epsilon_xx_*mu_yy_*omega^2)"
      ]
     },
     "metadata": {},
     "output_type": "display_data"
    }
   ],
   "source": [
    "# Группируем уравнения в пары, удобные для исключения переменных поля в левой части\n",
    "eq_rot_E_index = 1\n",
    "eq_rot_H_index = 0\n",
    "# Получаем выражение для поперечных (по отношению к оси волновода z) компонент поля через продольные\n",
    "field_for_exclude = H_bad_conductor[1]\n",
    "field_for_solve   = E_bad_conductor[0]\n",
    "\n",
    "E_bad_conductor_sb_x = get_field(eq_rot_E_bad_conductor, eq_rot_H_bad_conductor,\n",
    "                                eq_rot_E_index, eq_rot_H_index,\n",
    "                                field_for_exclude, field_for_solve)\n",
    "show(E_bad_conductor_sb_x)"
   ]
  },
  {
   "cell_type": "code",
   "execution_count": 40,
   "metadata": {},
   "outputs": [
    {
     "data": {
      "text/html": [
       "<html>\\(\\displaystyle H_{\\mathit{bad}_{\\mathit{conductor}_{y}}} = \\frac{H_{\\mathit{bad}_{\\mathit{conductor}_{z}}} c^{2} k_{y} k_{z} - i \\, c \\epsilon_{\\mathit{xx}} \\omega \\frac{\\partial}{\\partial x}E_{{\\rm bad}_{{\\rm conductor}_{f_{z}}}}\\left(x\\right)}{c^{2} k_{z}^{2} + \\epsilon_{\\mathit{xx}} \\mu_{\\mathit{yy}} \\omega^{2}}\\)</html>"
      ],
      "text/latex": [
       "$\\displaystyle H_{\\mathit{bad}_{\\mathit{conductor}_{y}}} = \\frac{H_{\\mathit{bad}_{\\mathit{conductor}_{z}}} c^{2} k_{y} k_{z} - i \\, c \\epsilon_{\\mathit{xx}} \\omega \\frac{\\partial}{\\partial x}E_{{\\rm bad}_{{\\rm conductor}_{f_{z}}}}\\left(x\\right)}{c^{2} k_{z}^{2} + \\epsilon_{\\mathit{xx}} \\mu_{\\mathit{yy}} \\omega^{2}}$"
      ],
      "text/plain": [
       "H_bad_conductor_y == (H_bad_conductor_z*c^2*k_y*k_z - I*c*epsilon_xx_*omega*diff(E_bad_conductor_f_z(x), x))/(c^2*k_z^2 + epsilon_xx_*mu_yy_*omega^2)"
      ]
     },
     "metadata": {},
     "output_type": "display_data"
    }
   ],
   "source": [
    "# Группируем уравнения в пары, удобные для исключения переменных поля в левой части\n",
    "eq_rot_E_index = 1\n",
    "eq_rot_H_index = 0\n",
    "# Получаем выражение для поперечных (по отношению к оси волновода z) компонент поля через продольные\n",
    "field_for_exclude = E_bad_conductor[0]\n",
    "field_for_solve   = H_bad_conductor[1]\n",
    "\n",
    "H_bad_conductor_sb_y = get_field(eq_rot_E_bad_conductor, eq_rot_H_bad_conductor,\n",
    "                                eq_rot_E_index, eq_rot_H_index,\n",
    "                                field_for_exclude, field_for_solve)\n",
    "show(H_bad_conductor_sb_y)"
   ]
  },
  {
   "cell_type": "code",
   "execution_count": null,
   "metadata": {},
   "outputs": [],
   "source": []
  },
  {
   "cell_type": "code",
   "execution_count": 41,
   "metadata": {},
   "outputs": [
    {
     "data": {
      "text/html": [
       "<html>\\(\\displaystyle E_{\\mathit{inner}_{\\mathit{vacuum}_{y}}} = \\frac{E_{\\mathit{inner}_{\\mathit{vacuum}_{z}}} c^{2} k_{y} k_{z} - i \\, c \\omega \\frac{\\partial}{\\partial x}H_{{\\rm inner}_{{\\rm vacuum}_{f_{z}}}}\\left(x\\right)}{c^{2} k_{z}^{2} + \\omega^{2}}\\)</html>"
      ],
      "text/latex": [
       "$\\displaystyle E_{\\mathit{inner}_{\\mathit{vacuum}_{y}}} = \\frac{E_{\\mathit{inner}_{\\mathit{vacuum}_{z}}} c^{2} k_{y} k_{z} - i \\, c \\omega \\frac{\\partial}{\\partial x}H_{{\\rm inner}_{{\\rm vacuum}_{f_{z}}}}\\left(x\\right)}{c^{2} k_{z}^{2} + \\omega^{2}}$"
      ],
      "text/plain": [
       "E_inner_vacuum_y == (E_inner_vacuum_z*c^2*k_y*k_z - I*c*omega*diff(H_inner_vacuum_f_z(x), x))/(c^2*k_z^2 + omega^2)"
      ]
     },
     "metadata": {},
     "output_type": "display_data"
    }
   ],
   "source": [
    "# Группируем уравнения в пары, удобные для исключения переменных поля в левой части\n",
    "eq_rot_E_index = 0\n",
    "eq_rot_H_index = 1\n",
    "# Получаем выражение для поперечных (по отношению к оси волновода z) компонент поля через продольные\n",
    "field_for_exclude = H_inner_vacuum[0]\n",
    "field_for_solve   = E_inner_vacuum[1]\n",
    "\n",
    "E_inner_vacuum_sb_y = get_field(eq_rot_E_inner_vacuum, eq_rot_H_inner_vacuum,\n",
    "                               eq_rot_E_index, eq_rot_H_index,\n",
    "                               field_for_exclude, field_for_solve)\n",
    "show(E_inner_vacuum_sb_y)"
   ]
  },
  {
   "cell_type": "code",
   "execution_count": 42,
   "metadata": {},
   "outputs": [
    {
     "data": {
      "text/html": [
       "<html>\\(\\displaystyle H_{\\mathit{inner}_{\\mathit{vacuum}_{x}}} = -\\frac{E_{\\mathit{inner}_{\\mathit{vacuum}_{z}}} c k_{y} \\omega + i \\, c^{2} k_{z} \\frac{\\partial}{\\partial x}H_{{\\rm inner}_{{\\rm vacuum}_{f_{z}}}}\\left(x\\right)}{c^{2} k_{z}^{2} + \\omega^{2}}\\)</html>"
      ],
      "text/latex": [
       "$\\displaystyle H_{\\mathit{inner}_{\\mathit{vacuum}_{x}}} = -\\frac{E_{\\mathit{inner}_{\\mathit{vacuum}_{z}}} c k_{y} \\omega + i \\, c^{2} k_{z} \\frac{\\partial}{\\partial x}H_{{\\rm inner}_{{\\rm vacuum}_{f_{z}}}}\\left(x\\right)}{c^{2} k_{z}^{2} + \\omega^{2}}$"
      ],
      "text/plain": [
       "H_inner_vacuum_x == -(E_inner_vacuum_z*c*k_y*omega + I*c^2*k_z*diff(H_inner_vacuum_f_z(x), x))/(c^2*k_z^2 + omega^2)"
      ]
     },
     "metadata": {},
     "output_type": "display_data"
    }
   ],
   "source": [
    "# Группируем уравнения в пары, удобные для исключения переменных поля в левой части\n",
    "eq_rot_E_index = 0\n",
    "eq_rot_H_index = 1\n",
    "# Получаем выражение для поперечных (по отношению к оси волновода z) компонент поля через продольные\n",
    "field_for_exclude = E_inner_vacuum[1]\n",
    "field_for_solve   = H_inner_vacuum[0]\n",
    "\n",
    "H_inner_vacuum_sb_x = get_field(eq_rot_E_inner_vacuum, eq_rot_H_inner_vacuum,\n",
    "                               eq_rot_E_index, eq_rot_H_index,\n",
    "                               field_for_exclude, field_for_solve)\n",
    "show(H_inner_vacuum_sb_x)"
   ]
  },
  {
   "cell_type": "code",
   "execution_count": 43,
   "metadata": {},
   "outputs": [
    {
     "data": {
      "text/html": [
       "<html>\\(\\displaystyle E_{\\mathit{inner}_{\\mathit{vacuum}_{x}}} = -\\frac{H_{\\mathit{inner}_{\\mathit{vacuum}_{z}}} c k_{y} \\omega + i \\, c^{2} k_{z} \\frac{\\partial}{\\partial x}E_{{\\rm inner}_{{\\rm vacuum}_{f_{z}}}}\\left(x\\right)}{c^{2} k_{z}^{2} + \\omega^{2}}\\)</html>"
      ],
      "text/latex": [
       "$\\displaystyle E_{\\mathit{inner}_{\\mathit{vacuum}_{x}}} = -\\frac{H_{\\mathit{inner}_{\\mathit{vacuum}_{z}}} c k_{y} \\omega + i \\, c^{2} k_{z} \\frac{\\partial}{\\partial x}E_{{\\rm inner}_{{\\rm vacuum}_{f_{z}}}}\\left(x\\right)}{c^{2} k_{z}^{2} + \\omega^{2}}$"
      ],
      "text/plain": [
       "E_inner_vacuum_x == -(H_inner_vacuum_z*c*k_y*omega + I*c^2*k_z*diff(E_inner_vacuum_f_z(x), x))/(c^2*k_z^2 + omega^2)"
      ]
     },
     "metadata": {},
     "output_type": "display_data"
    }
   ],
   "source": [
    "# Группируем уравнения в пары, удобные для исключения переменных поля в левой части\n",
    "eq_rot_E_index = 1\n",
    "eq_rot_H_index = 0\n",
    "# Получаем выражение для поперечных (по отношению к оси волновода z) компонент поля через продольные\n",
    "field_for_exclude = H_inner_vacuum[1]\n",
    "field_for_solve   = E_inner_vacuum[0]\n",
    "\n",
    "E_inner_vacuum_sb_x = get_field(eq_rot_E_inner_vacuum, eq_rot_H_inner_vacuum,\n",
    "                               eq_rot_E_index, eq_rot_H_index,\n",
    "                               field_for_exclude, field_for_solve)\n",
    "show(E_inner_vacuum_sb_x)"
   ]
  },
  {
   "cell_type": "code",
   "execution_count": 44,
   "metadata": {},
   "outputs": [
    {
     "data": {
      "text/html": [
       "<html>\\(\\displaystyle H_{\\mathit{inner}_{\\mathit{vacuum}_{y}}} = \\frac{H_{\\mathit{inner}_{\\mathit{vacuum}_{z}}} c^{2} k_{y} k_{z} - i \\, c \\omega \\frac{\\partial}{\\partial x}E_{{\\rm inner}_{{\\rm vacuum}_{f_{z}}}}\\left(x\\right)}{c^{2} k_{z}^{2} + \\omega^{2}}\\)</html>"
      ],
      "text/latex": [
       "$\\displaystyle H_{\\mathit{inner}_{\\mathit{vacuum}_{y}}} = \\frac{H_{\\mathit{inner}_{\\mathit{vacuum}_{z}}} c^{2} k_{y} k_{z} - i \\, c \\omega \\frac{\\partial}{\\partial x}E_{{\\rm inner}_{{\\rm vacuum}_{f_{z}}}}\\left(x\\right)}{c^{2} k_{z}^{2} + \\omega^{2}}$"
      ],
      "text/plain": [
       "H_inner_vacuum_y == (H_inner_vacuum_z*c^2*k_y*k_z - I*c*omega*diff(E_inner_vacuum_f_z(x), x))/(c^2*k_z^2 + omega^2)"
      ]
     },
     "metadata": {},
     "output_type": "display_data"
    }
   ],
   "source": [
    "# Группируем уравнения в пары, удобные для исключения переменных поля в левой части\n",
    "eq_rot_E_index = 1\n",
    "eq_rot_H_index = 0\n",
    "# Получаем выражение для поперечных (по отношению к оси волновода z) компонент поля через продольные\n",
    "field_for_exclude = E_inner_vacuum[0]\n",
    "field_for_solve   = H_inner_vacuum[1]\n",
    "\n",
    "H_inner_vacuum_sb_y = get_field(eq_rot_E_inner_vacuum, eq_rot_H_inner_vacuum,\n",
    "                               eq_rot_E_index, eq_rot_H_index,\n",
    "                               field_for_exclude, field_for_solve)\n",
    "show(H_inner_vacuum_sb_y)"
   ]
  },
  {
   "cell_type": "code",
   "execution_count": null,
   "metadata": {},
   "outputs": [],
   "source": []
  },
  {
   "cell_type": "code",
   "execution_count": 45,
   "metadata": {},
   "outputs": [],
   "source": [
    "# Получаем выражение для продольной (по отношению к оси волновода z) компоненте H_z поля\n",
    "# исходя из выражения для ротора E"
   ]
  },
  {
   "cell_type": "code",
   "execution_count": 46,
   "metadata": {},
   "outputs": [
    {
     "data": {
      "text/html": [
       "<html>\\(\\displaystyle H_{\\mathit{inner}_{\\mathit{vacuum}_{x}}} = -\\frac{E_{\\mathit{inner}_{\\mathit{vacuum}_{z}}} c k_{y} - E_{\\mathit{inner}_{\\mathit{vacuum}_{y}}} c k_{z}}{\\omega}\\)</html>"
      ],
      "text/latex": [
       "$\\displaystyle H_{\\mathit{inner}_{\\mathit{vacuum}_{x}}} = -\\frac{E_{\\mathit{inner}_{\\mathit{vacuum}_{z}}} c k_{y} - E_{\\mathit{inner}_{\\mathit{vacuum}_{y}}} c k_{z}}{\\omega}$"
      ],
      "text/plain": [
       "H_inner_vacuum_x == -(E_inner_vacuum_z*c*k_y - E_inner_vacuum_y*c*k_z)/omega"
      ]
     },
     "metadata": {},
     "output_type": "display_data"
    },
    {
     "data": {
      "text/html": [
       "<html>\\(\\displaystyle H_{\\mathit{inner}_{\\mathit{vacuum}_{y}}} = -\\frac{E_{\\mathit{inner}_{\\mathit{vacuum}_{x}}} c k_{z} + i \\, c \\frac{\\partial}{\\partial x}E_{{\\rm inner}_{{\\rm vacuum}_{f_{z}}}}\\left(x\\right)}{\\omega}\\)</html>"
      ],
      "text/latex": [
       "$\\displaystyle H_{\\mathit{inner}_{\\mathit{vacuum}_{y}}} = -\\frac{E_{\\mathit{inner}_{\\mathit{vacuum}_{x}}} c k_{z} + i \\, c \\frac{\\partial}{\\partial x}E_{{\\rm inner}_{{\\rm vacuum}_{f_{z}}}}\\left(x\\right)}{\\omega}$"
      ],
      "text/plain": [
       "H_inner_vacuum_y == -(E_inner_vacuum_x*c*k_z + I*c*diff(E_inner_vacuum_f_z(x), x))/omega"
      ]
     },
     "metadata": {},
     "output_type": "display_data"
    },
    {
     "data": {
      "text/html": [
       "<html>\\(\\displaystyle H_{\\mathit{inner}_{\\mathit{vacuum}_{z}}} = \\frac{E_{\\mathit{inner}_{\\mathit{vacuum}_{x}}} c k_{y} + i \\, c \\frac{\\partial}{\\partial x}E_{{\\rm inner}_{{\\rm vacuum}_{f_{y}}}}\\left(x\\right)}{\\omega}\\)</html>"
      ],
      "text/latex": [
       "$\\displaystyle H_{\\mathit{inner}_{\\mathit{vacuum}_{z}}} = \\frac{E_{\\mathit{inner}_{\\mathit{vacuum}_{x}}} c k_{y} + i \\, c \\frac{\\partial}{\\partial x}E_{{\\rm inner}_{{\\rm vacuum}_{f_{y}}}}\\left(x\\right)}{\\omega}$"
      ],
      "text/plain": [
       "H_inner_vacuum_z == (E_inner_vacuum_x*c*k_y + I*c*diff(E_inner_vacuum_f_y(x), x))/omega"
      ]
     },
     "metadata": {},
     "output_type": "display_data"
    }
   ],
   "source": [
    "H_inner_vacuum_s_x = solve(eq_rot_E_inner_vacuum_x, H_inner_vacuum_x)[0]\n",
    "H_inner_vacuum_s_y = solve(eq_rot_E_inner_vacuum_y, H_inner_vacuum_y)[0]\n",
    "H_inner_vacuum_s_z = solve(eq_rot_E_inner_vacuum_z, H_inner_vacuum_z)[0]\n",
    "show(H_inner_vacuum_s_x)\n",
    "show(H_inner_vacuum_s_y)\n",
    "show(H_inner_vacuum_s_z)"
   ]
  },
  {
   "cell_type": "code",
   "execution_count": 47,
   "metadata": {},
   "outputs": [
    {
     "data": {
      "text/html": [
       "<html>\\(\\displaystyle H_{\\mathit{bad}_{\\mathit{conductor}_{x}}} = -\\frac{E_{\\mathit{bad}_{\\mathit{conductor}_{z}}} c k_{y} - E_{\\mathit{bad}_{\\mathit{conductor}_{y}}} c k_{z}}{\\mu_{\\mathit{xx}} \\omega}\\)</html>"
      ],
      "text/latex": [
       "$\\displaystyle H_{\\mathit{bad}_{\\mathit{conductor}_{x}}} = -\\frac{E_{\\mathit{bad}_{\\mathit{conductor}_{z}}} c k_{y} - E_{\\mathit{bad}_{\\mathit{conductor}_{y}}} c k_{z}}{\\mu_{\\mathit{xx}} \\omega}$"
      ],
      "text/plain": [
       "H_bad_conductor_x == -(E_bad_conductor_z*c*k_y - E_bad_conductor_y*c*k_z)/(mu_xx_*omega)"
      ]
     },
     "metadata": {},
     "output_type": "display_data"
    },
    {
     "data": {
      "text/html": [
       "<html>\\(\\displaystyle H_{\\mathit{bad}_{\\mathit{conductor}_{y}}} = -\\frac{E_{\\mathit{bad}_{\\mathit{conductor}_{x}}} c k_{z} + i \\, c \\frac{\\partial}{\\partial x}E_{{\\rm bad}_{{\\rm conductor}_{f_{z}}}}\\left(x\\right)}{\\mu_{\\mathit{yy}} \\omega}\\)</html>"
      ],
      "text/latex": [
       "$\\displaystyle H_{\\mathit{bad}_{\\mathit{conductor}_{y}}} = -\\frac{E_{\\mathit{bad}_{\\mathit{conductor}_{x}}} c k_{z} + i \\, c \\frac{\\partial}{\\partial x}E_{{\\rm bad}_{{\\rm conductor}_{f_{z}}}}\\left(x\\right)}{\\mu_{\\mathit{yy}} \\omega}$"
      ],
      "text/plain": [
       "H_bad_conductor_y == -(E_bad_conductor_x*c*k_z + I*c*diff(E_bad_conductor_f_z(x), x))/(mu_yy_*omega)"
      ]
     },
     "metadata": {},
     "output_type": "display_data"
    },
    {
     "data": {
      "text/html": [
       "<html>\\(\\displaystyle H_{\\mathit{bad}_{\\mathit{conductor}_{z}}} = \\frac{E_{\\mathit{bad}_{\\mathit{conductor}_{x}}} c k_{y} + i \\, c \\frac{\\partial}{\\partial x}E_{{\\rm bad}_{{\\rm conductor}_{f_{y}}}}\\left(x\\right)}{\\mu_{\\mathit{zz}} \\omega}\\)</html>"
      ],
      "text/latex": [
       "$\\displaystyle H_{\\mathit{bad}_{\\mathit{conductor}_{z}}} = \\frac{E_{\\mathit{bad}_{\\mathit{conductor}_{x}}} c k_{y} + i \\, c \\frac{\\partial}{\\partial x}E_{{\\rm bad}_{{\\rm conductor}_{f_{y}}}}\\left(x\\right)}{\\mu_{\\mathit{zz}} \\omega}$"
      ],
      "text/plain": [
       "H_bad_conductor_z == (E_bad_conductor_x*c*k_y + I*c*diff(E_bad_conductor_f_y(x), x))/(mu_zz_*omega)"
      ]
     },
     "metadata": {},
     "output_type": "display_data"
    }
   ],
   "source": [
    "H_bad_conductor_s_x = solve(eq_rot_E_bad_conductor_x, H_bad_conductor_x)[0]\n",
    "H_bad_conductor_s_y = solve(eq_rot_E_bad_conductor_y, H_bad_conductor_y)[0]\n",
    "H_bad_conductor_s_z = solve(eq_rot_E_bad_conductor_z, H_bad_conductor_z)[0]\n",
    "show(H_bad_conductor_s_x)\n",
    "show(H_bad_conductor_s_y)\n",
    "show(H_bad_conductor_s_z)"
   ]
  },
  {
   "cell_type": "code",
   "execution_count": 48,
   "metadata": {},
   "outputs": [],
   "source": [
    "# Подставляем в выражение для продольной (по отношению к оси волновода z) компоненте H_z поля\n",
    "# исходное решение для электрического поля"
   ]
  },
  {
   "cell_type": "code",
   "execution_count": 49,
   "metadata": {},
   "outputs": [
    {
     "data": {
      "text/html": [
       "<html>\\(\\displaystyle x \\ {\\mapsto}\\ -\\frac{\\mathit{A2}_{y} K_{\\mathit{vacuum}} c e^{\\left(i \\, K_{\\mathit{vacuum}} x\\right)}}{\\omega} + \\frac{\\mathit{A1}_{y} K_{\\mathit{vacuum}} c e^{\\left(-i \\, K_{\\mathit{vacuum}} x\\right)}}{\\omega}\\)</html>"
      ],
      "text/latex": [
       "$\\displaystyle x \\ {\\mapsto}\\ -\\frac{\\mathit{A2}_{y} K_{\\mathit{vacuum}} c e^{\\left(i \\, K_{\\mathit{vacuum}} x\\right)}}{\\omega} + \\frac{\\mathit{A1}_{y} K_{\\mathit{vacuum}} c e^{\\left(-i \\, K_{\\mathit{vacuum}} x\\right)}}{\\omega}$"
      ],
      "text/plain": [
       "x |--> -A2_y*K_vacuum*c*e^(I*K_vacuum*x)/omega + A1_y*K_vacuum*c*e^(-I*K_vacuum*x)/omega"
      ]
     },
     "metadata": {},
     "output_type": "display_data"
    },
    {
     "data": {
      "text/html": [
       "<html>\\(\\displaystyle x \\ {\\mapsto}\\ \\frac{\\mathit{A2}_{z} K_{\\mathit{vacuum}} c e^{\\left(i \\, K_{\\mathit{vacuum}} x\\right)}}{\\omega} - \\frac{\\mathit{A2}_{x} c k_{z} e^{\\left(i \\, K_{\\mathit{vacuum}} x\\right)}}{\\omega} - \\frac{\\mathit{A1}_{z} K_{\\mathit{vacuum}} c e^{\\left(-i \\, K_{\\mathit{vacuum}} x\\right)}}{\\omega} - \\frac{\\mathit{A1}_{x} c k_{z} e^{\\left(-i \\, K_{\\mathit{vacuum}} x\\right)}}{\\omega}\\)</html>"
      ],
      "text/latex": [
       "$\\displaystyle x \\ {\\mapsto}\\ \\frac{\\mathit{A2}_{z} K_{\\mathit{vacuum}} c e^{\\left(i \\, K_{\\mathit{vacuum}} x\\right)}}{\\omega} - \\frac{\\mathit{A2}_{x} c k_{z} e^{\\left(i \\, K_{\\mathit{vacuum}} x\\right)}}{\\omega} - \\frac{\\mathit{A1}_{z} K_{\\mathit{vacuum}} c e^{\\left(-i \\, K_{\\mathit{vacuum}} x\\right)}}{\\omega} - \\frac{\\mathit{A1}_{x} c k_{z} e^{\\left(-i \\, K_{\\mathit{vacuum}} x\\right)}}{\\omega}$"
      ],
      "text/plain": [
       "x |--> A2_z*K_vacuum*c*e^(I*K_vacuum*x)/omega - A2_x*c*k_z*e^(I*K_vacuum*x)/omega - A1_z*K_vacuum*c*e^(-I*K_vacuum*x)/omega - A1_x*c*k_z*e^(-I*K_vacuum*x)/omega"
      ]
     },
     "metadata": {},
     "output_type": "display_data"
    },
    {
     "data": {
      "text/html": [
       "<html>\\(\\displaystyle x \\ {\\mapsto}\\ \\frac{{\\left(\\mathit{A2}_{y} e^{\\left(i \\, K_{\\mathit{vacuum}} x\\right)} + \\mathit{A1}_{y} e^{\\left(-i \\, K_{\\mathit{vacuum}} x\\right)}\\right)} c k_{z}}{\\omega}\\)</html>"
      ],
      "text/latex": [
       "$\\displaystyle x \\ {\\mapsto}\\ \\frac{{\\left(\\mathit{A2}_{y} e^{\\left(i \\, K_{\\mathit{vacuum}} x\\right)} + \\mathit{A1}_{y} e^{\\left(-i \\, K_{\\mathit{vacuum}} x\\right)}\\right)} c k_{z}}{\\omega}$"
      ],
      "text/plain": [
       "x |--> (A2_y*e^(I*K_vacuum*x) + A1_y*e^(-I*K_vacuum*x))*c*k_z/omega"
      ]
     },
     "metadata": {},
     "output_type": "display_data"
    }
   ],
   "source": [
    "H_inner_vacuum_sol_z (x) = H_inner_vacuum_s_z.rhs().subs(k_y == 0) \\\n",
    "    .substitute_function(E_inner_vacuum_f[1],\n",
    "                         E_inner_vacuum_sol[1]).expand()\n",
    "\n",
    "H_inner_vacuum_sol_y (x) = H_inner_vacuum_s_y.rhs().subs(k_y == 0) \\\n",
    "    .subs(E_inner_vacuum[0] == E_inner_vacuum_sol[0]) \\\n",
    "    .substitute_function(E_inner_vacuum_f[2],\n",
    "                         E_inner_vacuum_sol[2]).expand()\n",
    "\n",
    "H_inner_vacuum_sol_x (x) = H_inner_vacuum_s_x.rhs().subs(k_y == 0) \\\n",
    "    .subs(E_inner_vacuum[1] == E_inner_vacuum_sol[1])\n",
    "\n",
    "show(H_inner_vacuum_sol_z)\n",
    "show(H_inner_vacuum_sol_y)\n",
    "show(H_inner_vacuum_sol_x)"
   ]
  },
  {
   "cell_type": "code",
   "execution_count": 50,
   "metadata": {},
   "outputs": [
    {
     "data": {
      "text/html": [
       "<html>\\(\\displaystyle x \\ {\\mapsto}\\ -\\frac{\\mathit{B1}_{y} K_{\\mathit{conductor}} c e^{\\left(i \\, K_{\\mathit{conductor}} x\\right)}}{\\mu_{\\mathit{zz}} \\omega}\\)</html>"
      ],
      "text/latex": [
       "$\\displaystyle x \\ {\\mapsto}\\ -\\frac{\\mathit{B1}_{y} K_{\\mathit{conductor}} c e^{\\left(i \\, K_{\\mathit{conductor}} x\\right)}}{\\mu_{\\mathit{zz}} \\omega}$"
      ],
      "text/plain": [
       "x |--> -B1_y*K_conductor*c*e^(I*K_conductor*x)/(mu_zz_*omega)"
      ]
     },
     "metadata": {},
     "output_type": "display_data"
    },
    {
     "data": {
      "text/html": [
       "<html>\\(\\displaystyle x \\ {\\mapsto}\\ \\frac{\\mathit{B1}_{z} K_{\\mathit{conductor}} c e^{\\left(i \\, K_{\\mathit{conductor}} x\\right)}}{\\mu_{\\mathit{yy}} \\omega} - \\frac{\\mathit{B1}_{x} c k_{z} e^{\\left(i \\, K_{\\mathit{conductor}} x\\right)}}{\\mu_{\\mathit{yy}} \\omega}\\)</html>"
      ],
      "text/latex": [
       "$\\displaystyle x \\ {\\mapsto}\\ \\frac{\\mathit{B1}_{z} K_{\\mathit{conductor}} c e^{\\left(i \\, K_{\\mathit{conductor}} x\\right)}}{\\mu_{\\mathit{yy}} \\omega} - \\frac{\\mathit{B1}_{x} c k_{z} e^{\\left(i \\, K_{\\mathit{conductor}} x\\right)}}{\\mu_{\\mathit{yy}} \\omega}$"
      ],
      "text/plain": [
       "x |--> B1_z*K_conductor*c*e^(I*K_conductor*x)/(mu_yy_*omega) - B1_x*c*k_z*e^(I*K_conductor*x)/(mu_yy_*omega)"
      ]
     },
     "metadata": {},
     "output_type": "display_data"
    },
    {
     "data": {
      "text/html": [
       "<html>\\(\\displaystyle x \\ {\\mapsto}\\ \\frac{\\mathit{B1}_{y} c k_{z} e^{\\left(i \\, K_{\\mathit{conductor}} x\\right)}}{\\mu_{\\mathit{xx}} \\omega}\\)</html>"
      ],
      "text/latex": [
       "$\\displaystyle x \\ {\\mapsto}\\ \\frac{\\mathit{B1}_{y} c k_{z} e^{\\left(i \\, K_{\\mathit{conductor}} x\\right)}}{\\mu_{\\mathit{xx}} \\omega}$"
      ],
      "text/plain": [
       "x |--> B1_y*c*k_z*e^(I*K_conductor*x)/(mu_xx_*omega)"
      ]
     },
     "metadata": {},
     "output_type": "display_data"
    }
   ],
   "source": [
    "H_bad_conductor_sol_z (x) = H_bad_conductor_s_z.rhs().subs(k_y == 0) \\\n",
    "    .substitute_function(E_bad_conductor_f[1],\n",
    "                         E_bad_conductor_sol[1]).expand()\n",
    "\n",
    "H_bad_conductor_sol_y (x) = H_bad_conductor_s_y.rhs().subs(k_y == 0) \\\n",
    "    .subs(E_bad_conductor[0] == E_bad_conductor_sol[0]) \\\n",
    "    .substitute_function(E_bad_conductor_f[2],\n",
    "                         E_bad_conductor_sol[2]).expand()\n",
    "\n",
    "H_bad_conductor_sol_x (x) = H_bad_conductor_s_x.rhs().subs(k_y == 0) \\\n",
    "    .subs(E_bad_conductor[1] == E_bad_conductor_sol[1])\n",
    "\n",
    "show(H_bad_conductor_sol_z)\n",
    "show(H_bad_conductor_sol_y)\n",
    "show(H_bad_conductor_sol_x)"
   ]
  },
  {
   "cell_type": "code",
   "execution_count": null,
   "metadata": {},
   "outputs": [],
   "source": []
  },
  {
   "cell_type": "code",
   "execution_count": 51,
   "metadata": {},
   "outputs": [],
   "source": [
    "# ТМ - волна\n",
    "# H_z = 0\n",
    "H_inner_vacuum_sol_z (x) = 0\n",
    "H_bad_conductor_sol_z (x) = 0"
   ]
  },
  {
   "cell_type": "code",
   "execution_count": null,
   "metadata": {},
   "outputs": [],
   "source": []
  },
  {
   "cell_type": "code",
   "execution_count": 52,
   "metadata": {
    "scrolled": true
   },
   "outputs": [
    {
     "data": {
      "text/html": [
       "<html>\\(\\displaystyle \\frac{\\mathit{A2}_{z} K_{\\mathit{vacuum}} c \\omega e^{\\left(i \\, K_{\\mathit{vacuum}} x\\right)}}{c^{2} k_{z}^{2} + \\omega^{2}} - \\frac{\\mathit{A1}_{z} K_{\\mathit{vacuum}} c \\omega e^{\\left(-i \\, K_{\\mathit{vacuum}} x\\right)}}{c^{2} k_{z}^{2} + \\omega^{2}}\\)</html>"
      ],
      "text/latex": [
       "$\\displaystyle \\frac{\\mathit{A2}_{z} K_{\\mathit{vacuum}} c \\omega e^{\\left(i \\, K_{\\mathit{vacuum}} x\\right)}}{c^{2} k_{z}^{2} + \\omega^{2}} - \\frac{\\mathit{A1}_{z} K_{\\mathit{vacuum}} c \\omega e^{\\left(-i \\, K_{\\mathit{vacuum}} x\\right)}}{c^{2} k_{z}^{2} + \\omega^{2}}$"
      ],
      "text/plain": [
       "A2_z*K_vacuum*c*omega*e^(I*K_vacuum*x)/(c^2*k_z^2 + omega^2) - A1_z*K_vacuum*c*omega*e^(-I*K_vacuum*x)/(c^2*k_z^2 + omega^2)"
      ]
     },
     "metadata": {},
     "output_type": "display_data"
    }
   ],
   "source": [
    "H_inner_vacuum_sub_y (x) = H_inner_vacuum_sb_y.rhs().subs(k_y == 0) \\\n",
    "    .substitute_function(E_inner_vacuum_f_z,\n",
    "                         E_inner_vacuum_sol_z).expand()\n",
    "show(H_inner_vacuum_sub_y(x))"
   ]
  },
  {
   "cell_type": "code",
   "execution_count": 53,
   "metadata": {},
   "outputs": [
    {
     "data": {
      "text/html": [
       "<html>\\(\\displaystyle \\frac{\\mathit{B1}_{z} K_{\\mathit{conductor}} c \\epsilon_{\\mathit{xx}} \\omega e^{\\left(i \\, K_{\\mathit{conductor}} x\\right)}}{c^{2} k_{z}^{2} + \\epsilon_{\\mathit{xx}} \\mu_{\\mathit{yy}} \\omega^{2}}\\)</html>"
      ],
      "text/latex": [
       "$\\displaystyle \\frac{\\mathit{B1}_{z} K_{\\mathit{conductor}} c \\epsilon_{\\mathit{xx}} \\omega e^{\\left(i \\, K_{\\mathit{conductor}} x\\right)}}{c^{2} k_{z}^{2} + \\epsilon_{\\mathit{xx}} \\mu_{\\mathit{yy}} \\omega^{2}}$"
      ],
      "text/plain": [
       "B1_z*K_conductor*c*epsilon_xx_*omega*e^(I*K_conductor*x)/(c^2*k_z^2 + epsilon_xx_*mu_yy_*omega^2)"
      ]
     },
     "metadata": {},
     "output_type": "display_data"
    }
   ],
   "source": [
    "H_bad_conductor_sub_y (x) = H_bad_conductor_sb_y.rhs().subs(k_y == 0) \\\n",
    "    .substitute_function(E_bad_conductor_f_z,\n",
    "                         E_bad_conductor_sol_z).expand()\n",
    "show(H_bad_conductor_sub_y(x))"
   ]
  },
  {
   "cell_type": "code",
   "execution_count": null,
   "metadata": {},
   "outputs": [],
   "source": []
  },
  {
   "cell_type": "code",
   "execution_count": 54,
   "metadata": {},
   "outputs": [
    {
     "data": {
      "text/html": [
       "<html>\\(\\displaystyle x \\ {\\mapsto}\\ 0\\)</html>"
      ],
      "text/latex": [
       "$\\displaystyle x \\ {\\mapsto}\\ 0$"
      ],
      "text/plain": [
       "x |--> 0"
      ]
     },
     "metadata": {},
     "output_type": "display_data"
    }
   ],
   "source": [
    "H_inner_vacuum_sub_x (x) = H_inner_vacuum_sb_x.rhs().subs(k_y == 0) \\\n",
    "    .substitute_function(H_inner_vacuum_f_z,\n",
    "                         H_inner_vacuum_sol_z).expand()\n",
    "show(H_inner_vacuum_sub_x)"
   ]
  },
  {
   "cell_type": "code",
   "execution_count": 55,
   "metadata": {
    "scrolled": true
   },
   "outputs": [
    {
     "data": {
      "text/html": [
       "<html>\\(\\displaystyle x \\ {\\mapsto}\\ 0\\)</html>"
      ],
      "text/latex": [
       "$\\displaystyle x \\ {\\mapsto}\\ 0$"
      ],
      "text/plain": [
       "x |--> 0"
      ]
     },
     "metadata": {},
     "output_type": "display_data"
    }
   ],
   "source": [
    "H_bad_conductor_sub_x (x) = H_bad_conductor_sb_x.rhs().subs(k_y == 0) \\\n",
    "    .substitute_function(H_bad_conductor_f_z,\n",
    "                         H_bad_conductor_sol_z).expand()\n",
    "show(H_bad_conductor_sub_x)"
   ]
  },
  {
   "cell_type": "code",
   "execution_count": null,
   "metadata": {},
   "outputs": [],
   "source": []
  },
  {
   "cell_type": "code",
   "execution_count": 56,
   "metadata": {
    "scrolled": true
   },
   "outputs": [
    {
     "data": {
      "text/html": [
       "<html>\\(\\displaystyle 0\\)</html>"
      ],
      "text/latex": [
       "$\\displaystyle 0$"
      ],
      "text/plain": [
       "0"
      ]
     },
     "metadata": {},
     "output_type": "display_data"
    },
    {
     "data": {
      "text/html": [
       "<html>\\(\\displaystyle \\mathit{A2}_{y} e^{\\left(i \\, K_{\\mathit{vacuum}} x\\right)} + \\mathit{A1}_{y} e^{\\left(-i \\, K_{\\mathit{vacuum}} x\\right)}\\)</html>"
      ],
      "text/latex": [
       "$\\displaystyle \\mathit{A2}_{y} e^{\\left(i \\, K_{\\mathit{vacuum}} x\\right)} + \\mathit{A1}_{y} e^{\\left(-i \\, K_{\\mathit{vacuum}} x\\right)}$"
      ],
      "text/plain": [
       "A2_y*e^(I*K_vacuum*x) + A1_y*e^(-I*K_vacuum*x)"
      ]
     },
     "metadata": {},
     "output_type": "display_data"
    }
   ],
   "source": [
    "E_inner_vacuum_sub_y (x) = E_inner_vacuum_sb_y.rhs().subs(k_y == 0) \\\n",
    "    .substitute_function(H_inner_vacuum_f_z,\n",
    "                         H_inner_vacuum_sol_z).expand()\n",
    "show(E_inner_vacuum_sub_y (x))\n",
    "show(E_inner_vacuum_sol_y (x))"
   ]
  },
  {
   "cell_type": "code",
   "execution_count": 57,
   "metadata": {},
   "outputs": [
    {
     "data": {
      "text/html": [
       "<html>\\(\\displaystyle 0\\)</html>"
      ],
      "text/latex": [
       "$\\displaystyle 0$"
      ],
      "text/plain": [
       "0"
      ]
     },
     "metadata": {},
     "output_type": "display_data"
    },
    {
     "data": {
      "text/html": [
       "<html>\\(\\displaystyle \\mathit{B1}_{y} e^{\\left(i \\, K_{\\mathit{conductor}} x\\right)}\\)</html>"
      ],
      "text/latex": [
       "$\\displaystyle \\mathit{B1}_{y} e^{\\left(i \\, K_{\\mathit{conductor}} x\\right)}$"
      ],
      "text/plain": [
       "B1_y*e^(I*K_conductor*x)"
      ]
     },
     "metadata": {},
     "output_type": "display_data"
    }
   ],
   "source": [
    "E_bad_conductor_sub_y (x) = E_bad_conductor_sb_y.rhs().subs(k_y == 0) \\\n",
    "    .substitute_function(H_bad_conductor_f_z,\n",
    "                         H_bad_conductor_sol_z).expand()\n",
    "show(E_bad_conductor_sub_y (x))\n",
    "show(E_bad_conductor_sol_y (x))"
   ]
  },
  {
   "cell_type": "code",
   "execution_count": null,
   "metadata": {},
   "outputs": [],
   "source": []
  },
  {
   "cell_type": "code",
   "execution_count": 58,
   "metadata": {},
   "outputs": [
    {
     "data": {
      "text/html": [
       "<html>\\(\\displaystyle x \\ {\\mapsto}\\ \\frac{\\mathit{A2}_{z} K_{\\mathit{vacuum}} c^{2} k_{z} e^{\\left(i \\, K_{\\mathit{vacuum}} x\\right)}}{c^{2} k_{z}^{2} + \\omega^{2}} - \\frac{\\mathit{A1}_{z} K_{\\mathit{vacuum}} c^{2} k_{z} e^{\\left(-i \\, K_{\\mathit{vacuum}} x\\right)}}{c^{2} k_{z}^{2} + \\omega^{2}}\\)</html>"
      ],
      "text/latex": [
       "$\\displaystyle x \\ {\\mapsto}\\ \\frac{\\mathit{A2}_{z} K_{\\mathit{vacuum}} c^{2} k_{z} e^{\\left(i \\, K_{\\mathit{vacuum}} x\\right)}}{c^{2} k_{z}^{2} + \\omega^{2}} - \\frac{\\mathit{A1}_{z} K_{\\mathit{vacuum}} c^{2} k_{z} e^{\\left(-i \\, K_{\\mathit{vacuum}} x\\right)}}{c^{2} k_{z}^{2} + \\omega^{2}}$"
      ],
      "text/plain": [
       "x |--> A2_z*K_vacuum*c^2*k_z*e^(I*K_vacuum*x)/(c^2*k_z^2 + omega^2) - A1_z*K_vacuum*c^2*k_z*e^(-I*K_vacuum*x)/(c^2*k_z^2 + omega^2)"
      ]
     },
     "metadata": {},
     "output_type": "display_data"
    },
    {
     "data": {
      "text/html": [
       "<html>\\(\\displaystyle x \\ {\\mapsto}\\ \\mathit{A2}_{x} e^{\\left(i \\, K_{\\mathit{vacuum}} x\\right)} + \\mathit{A1}_{x} e^{\\left(-i \\, K_{\\mathit{vacuum}} x\\right)}\\)</html>"
      ],
      "text/latex": [
       "$\\displaystyle x \\ {\\mapsto}\\ \\mathit{A2}_{x} e^{\\left(i \\, K_{\\mathit{vacuum}} x\\right)} + \\mathit{A1}_{x} e^{\\left(-i \\, K_{\\mathit{vacuum}} x\\right)}$"
      ],
      "text/plain": [
       "x |--> A2_x*e^(I*K_vacuum*x) + A1_x*e^(-I*K_vacuum*x)"
      ]
     },
     "metadata": {},
     "output_type": "display_data"
    }
   ],
   "source": [
    "E_inner_vacuum_sub_x (x) = E_inner_vacuum_sb_x.rhs().subs(k_y == 0) \\\n",
    "    .substitute_function(E_inner_vacuum_f_z,\n",
    "                         E_inner_vacuum_sol_z).expand()\n",
    "show(E_inner_vacuum_sub_x)\n",
    "show(E_inner_vacuum_sol_x)"
   ]
  },
  {
   "cell_type": "code",
   "execution_count": 59,
   "metadata": {
    "scrolled": true
   },
   "outputs": [
    {
     "data": {
      "text/html": [
       "<html>\\(\\displaystyle x \\ {\\mapsto}\\ \\frac{\\mathit{B1}_{z} K_{\\mathit{conductor}} c^{2} k_{z} e^{\\left(i \\, K_{\\mathit{conductor}} x\\right)}}{c^{2} k_{z}^{2} + \\epsilon_{\\mathit{xx}} \\mu_{\\mathit{yy}} \\omega^{2}}\\)</html>"
      ],
      "text/latex": [
       "$\\displaystyle x \\ {\\mapsto}\\ \\frac{\\mathit{B1}_{z} K_{\\mathit{conductor}} c^{2} k_{z} e^{\\left(i \\, K_{\\mathit{conductor}} x\\right)}}{c^{2} k_{z}^{2} + \\epsilon_{\\mathit{xx}} \\mu_{\\mathit{yy}} \\omega^{2}}$"
      ],
      "text/plain": [
       "x |--> B1_z*K_conductor*c^2*k_z*e^(I*K_conductor*x)/(c^2*k_z^2 + epsilon_xx_*mu_yy_*omega^2)"
      ]
     },
     "metadata": {},
     "output_type": "display_data"
    },
    {
     "data": {
      "text/html": [
       "<html>\\(\\displaystyle x \\ {\\mapsto}\\ \\mathit{B1}_{x} e^{\\left(i \\, K_{\\mathit{conductor}} x\\right)}\\)</html>"
      ],
      "text/latex": [
       "$\\displaystyle x \\ {\\mapsto}\\ \\mathit{B1}_{x} e^{\\left(i \\, K_{\\mathit{conductor}} x\\right)}$"
      ],
      "text/plain": [
       "x |--> B1_x*e^(I*K_conductor*x)"
      ]
     },
     "metadata": {},
     "output_type": "display_data"
    }
   ],
   "source": [
    "E_bad_conductor_sub_x (x) = E_bad_conductor_sb_x.rhs().subs(k_y == 0) \\\n",
    "    .substitute_function(E_bad_conductor_f_z,\n",
    "                         E_bad_conductor_sol_z).expand()\n",
    "show(E_bad_conductor_sub_x)\n",
    "show(E_bad_conductor_sol_x)"
   ]
  },
  {
   "cell_type": "code",
   "execution_count": null,
   "metadata": {},
   "outputs": [],
   "source": []
  },
  {
   "cell_type": "code",
   "execution_count": 60,
   "metadata": {},
   "outputs": [
    {
     "data": {
      "text/html": [
       "<html>\\(\\displaystyle \\mathit{B1}_{x} = \\frac{\\mathit{B1}_{z} K_{\\mathit{conductor}} c^{2} k_{z}}{c^{2} k_{z}^{2} + \\epsilon_{\\mathit{xx}} \\mu_{\\mathit{yy}} \\omega^{2}}\\)</html>"
      ],
      "text/latex": [
       "$\\displaystyle \\mathit{B1}_{x} = \\frac{\\mathit{B1}_{z} K_{\\mathit{conductor}} c^{2} k_{z}}{c^{2} k_{z}^{2} + \\epsilon_{\\mathit{xx}} \\mu_{\\mathit{yy}} \\omega^{2}}$"
      ],
      "text/plain": [
       "B1_x == B1_z*K_conductor*c^2*k_z/(c^2*k_z^2 + epsilon_xx_*mu_yy_*omega^2)"
      ]
     },
     "metadata": {},
     "output_type": "display_data"
    }
   ],
   "source": [
    "eq_bad_conductor = solve(E_bad_conductor_sub_x(x) == E_bad_conductor_sol_x(x), B1_x)[0]\n",
    "show(eq_bad_conductor)"
   ]
  },
  {
   "cell_type": "code",
   "execution_count": null,
   "metadata": {},
   "outputs": [],
   "source": []
  },
  {
   "cell_type": "code",
   "execution_count": 61,
   "metadata": {},
   "outputs": [],
   "source": [
    "# выражения для электрического поля\n",
    "# в вакууме внутри резонатора \n",
    "#    E_inner_vacuum_z (x) = A1_z_re*cos(sqrt(kappa_vacuum^2-k_z^2)*x) + A1_z_im*sin(sqrt(kappa_vacuum^2-k_z^2)*x)\n",
    "#    E_inner_vacuum_x (x) = A1_x_re*cos(sqrt(kappa_vacuum^2-k_z^2)*x) + A1_x_im*sin(sqrt(kappa_vacuum^2-k_z^2)*x)\n",
    "#    E_inner_vacuum_y (x) = A1_y_re*cos(sqrt(kappa_vacuum^2-k_z^2)*x) + A1_y_im*sin(sqrt(kappa_vacuum^2-k_z^2)*x)"
   ]
  },
  {
   "cell_type": "code",
   "execution_count": 62,
   "metadata": {},
   "outputs": [],
   "source": [
    "# rename eqEz_0 -> eqEz__a"
   ]
  },
  {
   "cell_type": "code",
   "execution_count": 63,
   "metadata": {},
   "outputs": [
    {
     "name": "stdout",
     "output_type": "stream",
     "text": [
      "eqEz__a = \n"
     ]
    },
    {
     "data": {
      "text/latex": [
       "$\\displaystyle \\mathit{A1}_{z} e^{\\left(i \\, K_{\\mathit{vacuum}} a\\right)} + \\mathit{A2}_{z} e^{\\left(-i \\, K_{\\mathit{vacuum}} a\\right)} = 0$"
      ],
      "text/plain": [
       "<IPython.core.display.Math object>"
      ]
     },
     "metadata": {},
     "output_type": "display_data"
    },
    {
     "name": "stdout",
     "output_type": "stream",
     "text": [
      "eqEy__a = \n"
     ]
    },
    {
     "data": {
      "text/latex": [
       "$\\displaystyle \\mathit{A1}_{y} e^{\\left(i \\, K_{\\mathit{vacuum}} a\\right)} + \\mathit{A2}_{y} e^{\\left(-i \\, K_{\\mathit{vacuum}} a\\right)} = 0$"
      ],
      "text/plain": [
       "<IPython.core.display.Math object>"
      ]
     },
     "metadata": {},
     "output_type": "display_data"
    },
    {
     "name": "stdout",
     "output_type": "stream",
     "text": [
      "eqHz__a = \n"
     ]
    },
    {
     "data": {
      "text/latex": [
       "$\\displaystyle 0 = 0$"
      ],
      "text/plain": [
       "<IPython.core.display.Math object>"
      ]
     },
     "metadata": {},
     "output_type": "display_data"
    },
    {
     "name": "stdout",
     "output_type": "stream",
     "text": [
      "eqHy__a = \n"
     ]
    },
    {
     "data": {
      "text/latex": [
       "$\\displaystyle -\\frac{\\mathit{A1}_{z} K_{\\mathit{vacuum}} c e^{\\left(i \\, K_{\\mathit{vacuum}} a\\right)}}{\\omega} - \\frac{\\mathit{A1}_{x} c k_{z} e^{\\left(i \\, K_{\\mathit{vacuum}} a\\right)}}{\\omega} + \\frac{\\mathit{A2}_{z} K_{\\mathit{vacuum}} c e^{\\left(-i \\, K_{\\mathit{vacuum}} a\\right)}}{\\omega} - \\frac{\\mathit{A2}_{x} c k_{z} e^{\\left(-i \\, K_{\\mathit{vacuum}} a\\right)}}{\\omega} = 0$"
      ],
      "text/plain": [
       "<IPython.core.display.Math object>"
      ]
     },
     "metadata": {},
     "output_type": "display_data"
    },
    {
     "name": "stdout",
     "output_type": "stream",
     "text": [
      "eq_Hy_a = \n"
     ]
    },
    {
     "data": {
      "text/latex": [
       "$\\displaystyle -\\frac{\\mathit{A1}_{z} K_{\\mathit{vacuum}} c \\omega e^{\\left(i \\, K_{\\mathit{vacuum}} a\\right)}}{c^{2} k_{z}^{2} + \\omega^{2}} + \\frac{\\mathit{A2}_{z} K_{\\mathit{vacuum}} c \\omega e^{\\left(-i \\, K_{\\mathit{vacuum}} a\\right)}}{c^{2} k_{z}^{2} + \\omega^{2}} = 0$"
      ],
      "text/plain": [
       "<IPython.core.display.Math object>"
      ]
     },
     "metadata": {},
     "output_type": "display_data"
    }
   ],
   "source": [
    "# граничные условия на границе идеального проводника и вакуума внутри резонатора\n",
    "# тангенциальная компонента электрического поля\n",
    "# eqEz_0 = solve(E_inner_vacuum_sol_z(-a) == 0, A1_z)\n",
    "eqEz__a = E_inner_vacuum_sol_z(-a) == 0\n",
    "# E_inner_vacuum_z (x) = A1_z_re*cos(sqrt(kappa_vacuum^2-k_z^2)*x) + A1_z_im*sin(sqrt(kappa_vacuum^2-k^2)*x)\n",
    "# eqEz_0 = A1_z_re*cos(sqrt(kappa_vacuum^2-k_z^2)*x) + A1_z_im*sin(sqrt(kappa_vacuum^2-k_z^2)*x) == 0\n",
    "\n",
    "print (\"eqEz__a = \")\n",
    "display(Math(latex(eqEz__a)))\n",
    "\n",
    "if 0 != A1_y:\n",
    "    #eqEy_ _a = solve(E_inner_vacuum_sol_y(-a) == 0, A1_y)\n",
    "    eqEy__a = E_inner_vacuum_sol_y(-a) == 0\n",
    "    print (\"eqEy__a = \")\n",
    "    display(Math(latex(eqEy__a)))\n",
    "\n",
    "# тангенциальная компонента магнитного поля\n",
    "eqHy__a = H_inner_vacuum_sol_y(-a) == 0\n",
    "eq_Hy_a = H_inner_vacuum_sub_y(-a) == 0\n",
    "eqHz__a = H_inner_vacuum_sol_z(-a) == 0\n",
    "\n",
    "print (\"eqHz__a = \")\n",
    "disp(eqHz__a)\n",
    "print (\"eqHy__a = \")\n",
    "disp(eqHy__a)\n",
    "print (\"eq_Hy_a = \")\n",
    "disp(eq_Hy_a)"
   ]
  },
  {
   "cell_type": "code",
   "execution_count": 64,
   "metadata": {},
   "outputs": [],
   "source": [
    "# rename eqEz_a -> eqEz__0"
   ]
  },
  {
   "cell_type": "code",
   "execution_count": 65,
   "metadata": {},
   "outputs": [
    {
     "name": "stdout",
     "output_type": "stream",
     "text": [
      "eqEz__0 = \n"
     ]
    },
    {
     "data": {
      "text/latex": [
       "$\\displaystyle \\mathit{B1}_{z} = \\mathit{A1}_{z} + \\mathit{A2}_{z}$"
      ],
      "text/plain": [
       "<IPython.core.display.Math object>"
      ]
     },
     "metadata": {},
     "output_type": "display_data"
    },
    {
     "name": "stdout",
     "output_type": "stream",
     "text": [
      "eqEy__0 = \n"
     ]
    },
    {
     "data": {
      "text/latex": [
       "$\\displaystyle \\mathit{B1}_{y} = \\mathit{A1}_{y} + \\mathit{A2}_{y}$"
      ],
      "text/plain": [
       "<IPython.core.display.Math object>"
      ]
     },
     "metadata": {},
     "output_type": "display_data"
    }
   ],
   "source": [
    "# граничные условия на границе вакуума внутри резонатора и проводящего металла с потерями\n",
    "# тангенциальная компонента электрического поля\n",
    "eqEz__0 = E_bad_conductor_sol_z(0) == E_inner_vacuum_sol_z(0)\n",
    "eqEy__0 = E_bad_conductor_sol_y(0) == E_inner_vacuum_sol_y(0)\n",
    "\n",
    "print (\"eqEz__0 = \")\n",
    "display(Math(latex(eqEz__0)))\n",
    "print (\"eqEy__0 = \")\n",
    "display(Math(latex(eqEy__0)))"
   ]
  },
  {
   "cell_type": "code",
   "execution_count": 66,
   "metadata": {},
   "outputs": [],
   "source": [
    "#rename eqDx_a -> eqDx__0"
   ]
  },
  {
   "cell_type": "raw",
   "metadata": {},
   "source": [
    "# граничные условия на границе вакуума внутри резонатора и проводящего металла с потерями\n",
    "# нормальная компонента электрического смещения\n",
    "eqDx__0 = E_inner_vacuum_sol_x(0) == E_bad_conductor_sol_x(0) * epsilon_complex\n",
    "\n",
    "print (\"eqDx__0 =\")\n",
    "display(Math(latex(eqDx__0)))"
   ]
  },
  {
   "cell_type": "code",
   "execution_count": 67,
   "metadata": {},
   "outputs": [],
   "source": [
    "#rename eqHz_a -> eqHz__0\n",
    "#rename eqHy_a -> eqHy__0"
   ]
  },
  {
   "cell_type": "code",
   "execution_count": 68,
   "metadata": {},
   "outputs": [
    {
     "name": "stdout",
     "output_type": "stream",
     "text": [
      "eqEz__0, eqEy__0 = \n"
     ]
    },
    {
     "data": {
      "text/latex": [
       "$\\displaystyle \\left[\\mathit{B1}_{z} = \\mathit{A1}_{z} + \\mathit{A2}_{z}, \\mathit{B1}_{y} = \\mathit{A1}_{y} + \\mathit{A2}_{y}\\right]$"
      ],
      "text/plain": [
       "<IPython.core.display.Math object>"
      ]
     },
     "metadata": {},
     "output_type": "display_data"
    },
    {
     "name": "stdout",
     "output_type": "stream",
     "text": [
      "eqHz__0 =\n"
     ]
    },
    {
     "data": {
      "text/latex": [
       "$\\displaystyle 0 = 0$"
      ],
      "text/plain": [
       "<IPython.core.display.Math object>"
      ]
     },
     "metadata": {},
     "output_type": "display_data"
    },
    {
     "name": "stdout",
     "output_type": "stream",
     "text": [
      "eqHy__0 =\n"
     ]
    },
    {
     "data": {
      "text/latex": [
       "$\\displaystyle \\frac{\\mathit{B1}_{z} K_{\\mathit{conductor}} c}{\\mu_{\\mathit{yy}} \\omega} - \\frac{\\mathit{B1}_{x} c k_{z}}{\\mu_{\\mathit{yy}} \\omega} = -\\frac{\\mathit{A1}_{z} K_{\\mathit{vacuum}} c}{\\omega} + \\frac{\\mathit{A2}_{z} K_{\\mathit{vacuum}} c}{\\omega} - \\frac{\\mathit{A1}_{x} c k_{z}}{\\omega} - \\frac{\\mathit{A2}_{x} c k_{z}}{\\omega}$"
      ],
      "text/plain": [
       "<IPython.core.display.Math object>"
      ]
     },
     "metadata": {},
     "output_type": "display_data"
    },
    {
     "name": "stdout",
     "output_type": "stream",
     "text": [
      "eq_Hy__0 =\n"
     ]
    },
    {
     "data": {
      "text/latex": [
       "$\\displaystyle \\frac{\\mathit{B1}_{z} K_{\\mathit{conductor}} c \\epsilon_{\\mathit{xx}} \\omega}{c^{2} k_{z}^{2} + \\epsilon_{\\mathit{xx}} \\mu_{\\mathit{yy}} \\omega^{2}} = -\\frac{\\mathit{A1}_{z} K_{\\mathit{vacuum}} c \\omega}{c^{2} k_{z}^{2} + \\omega^{2}} + \\frac{\\mathit{A2}_{z} K_{\\mathit{vacuum}} c \\omega}{c^{2} k_{z}^{2} + \\omega^{2}}$"
      ],
      "text/plain": [
       "<IPython.core.display.Math object>"
      ]
     },
     "metadata": {},
     "output_type": "display_data"
    }
   ],
   "source": [
    "# граничные условия на границе вакуума внутри резонатора и проводящего металла с потерями\n",
    "# тангенциальная компонента напряженности магнитного поля\n",
    "eqHz__0  = (H_bad_conductor_sol_z(0)  == H_inner_vacuum_sol_z(0))#.subs(eqEz__0, eqEy__0)\n",
    "eqHy__0  = (H_bad_conductor_sol_y(0)  == H_inner_vacuum_sol_y(0))#.subs(eqEy__0, eqEz__0)\n",
    "eq_Hy_0  = (H_bad_conductor_sub_y(0)  == H_inner_vacuum_sub_y(0))#.subs(eqEy__0, eqEz__0)\n",
    "\n",
    "#print (\"H_bad_conductor_sol_z (0), H_inner_vacuum_sol_z (x) =\")\n",
    "#display(Math(latex([H_bad_conductor_sol_z (x), H_inner_vacuum_sol_z (x)])))\n",
    "\n",
    "#print (\"H_bad_conductor_sol_y (0), H_inner_vacuum_sol_y (x) =\")\n",
    "#display(Math(latex([H_bad_conductor_sol_y (x), H_inner_vacuum_sol_y (x)])))\n",
    "\n",
    "#print (\"sqrt(mu/epsilon)*H_bad_conductor_sol_z (0), sqrt(mu/epsilon)*H_inner_vacuum_sol_z (x) =\")\n",
    "#display(Math(latex([sqrt(mu/epsilon)*H_bad_conductor_sol_z (x), sqrt(1/epsilon_0)*H_inner_vacuum_sol_z (x)])))\n",
    "\n",
    "#print (\"H_bad_conductor_y (0), H_inner_vacuum_y (0) =\")\n",
    "#display(Math(latex([sqrt(mu/epsilon)*H_bad_conductor_sol_y (x), sqrt(1/epsilon_0)*H_inner_vacuum_sol_y (x)])))\n",
    "\n",
    "print (\"eqEz__0, eqEy__0 = \")\n",
    "display(Math(latex([eqEz__0, eqEy__0])))\n",
    "\n",
    "print (\"eqHz__0 =\")\n",
    "display(Math(latex(eqHz__0)))\n",
    "print (\"eqHy__0 =\")\n",
    "display(Math(latex(eqHy__0)))\n",
    "print (\"eq_Hy__0 =\")\n",
    "display(Math(latex(eq_Hy_0)))"
   ]
  },
  {
   "cell_type": "code",
   "execution_count": 69,
   "metadata": {},
   "outputs": [
    {
     "data": {
      "text/plain": [
       "x |--> B1_z*K_conductor*c*e^(I*K_conductor*x)/(mu_yy_*omega) - B1_x*c*k_z*e^(I*K_conductor*x)/(mu_yy_*omega)"
      ]
     },
     "execution_count": 69,
     "metadata": {},
     "output_type": "execute_result"
    }
   ],
   "source": [
    "H_bad_conductor_sol_y"
   ]
  },
  {
   "cell_type": "code",
   "execution_count": 70,
   "metadata": {},
   "outputs": [
    {
     "name": "stdout",
     "output_type": "stream",
     "text": [
      "eqBx__0 =\n"
     ]
    },
    {
     "data": {
      "text/latex": [
       "$\\displaystyle \\frac{\\mathit{B1}_{y} c k_{z}}{\\omega} = \\frac{{\\left(\\mathit{A1}_{y} + \\mathit{A2}_{y}\\right)} c k_{z}}{\\omega}$"
      ],
      "text/plain": [
       "<IPython.core.display.Math object>"
      ]
     },
     "metadata": {},
     "output_type": "display_data"
    },
    {
     "name": "stdout",
     "output_type": "stream",
     "text": [
      "eq_Bx_0 =\n"
     ]
    },
    {
     "data": {
      "text/latex": [
       "$\\displaystyle 0 = 0$"
      ],
      "text/plain": [
       "<IPython.core.display.Math object>"
      ]
     },
     "metadata": {},
     "output_type": "display_data"
    },
    {
     "name": "stdout",
     "output_type": "stream",
     "text": [
      "eqBx_a =\n"
     ]
    },
    {
     "data": {
      "text/latex": [
       "$\\displaystyle 0 = \\frac{{\\left(\\mathit{A1}_{y} e^{\\left(i \\, K_{\\mathit{vacuum}} a\\right)} + \\mathit{A2}_{y} e^{\\left(-i \\, K_{\\mathit{vacuum}} a\\right)}\\right)} c k_{z}}{\\omega}$"
      ],
      "text/plain": [
       "<IPython.core.display.Math object>"
      ]
     },
     "metadata": {},
     "output_type": "display_data"
    },
    {
     "name": "stdout",
     "output_type": "stream",
     "text": [
      "eq_Bx_a =\n"
     ]
    },
    {
     "data": {
      "text/latex": [
       "$\\displaystyle 0 = 0$"
      ],
      "text/plain": [
       "<IPython.core.display.Math object>"
      ]
     },
     "metadata": {},
     "output_type": "display_data"
    }
   ],
   "source": [
    "# граничные условия на границе вакуума внутри резонатора и проводящего металла с потерями\n",
    "# нормальная компонента индукции магнитного поля\n",
    "eqBx__0  = mu_xx_ * H_bad_conductor_sol_x (0)  == H_inner_vacuum_sol_x (0)\n",
    "eq_Bx_0  = mu_xx_ * H_bad_conductor_sub_x (0)  == H_inner_vacuum_sub_x (0)\n",
    "\n",
    "print (\"eqBx__0 =\")\n",
    "display(Math(latex(eqBx__0)))\n",
    "print (\"eq_Bx_0 =\")\n",
    "display(Math(latex(eq_Bx_0)))\n",
    "\n",
    "# На границе идеального проводника нормальная (перпендикулярная) компонента вектора магнитной индукции равна нулю\n",
    "eqBx_a  = 0  == H_inner_vacuum_sol_x (x = -a)\n",
    "eq_Bx_a  = 0  == H_inner_vacuum_sub_x (x = -a)\n",
    "\n",
    "print (\"eqBx_a =\")\n",
    "display(Math(latex(eqBx_a)))\n",
    "\n",
    "print (\"eq_Bx_a =\")\n",
    "display(Math(latex(eq_Bx_a)))"
   ]
  },
  {
   "cell_type": "code",
   "execution_count": null,
   "metadata": {},
   "outputs": [],
   "source": []
  },
  {
   "cell_type": "code",
   "execution_count": 71,
   "metadata": {},
   "outputs": [],
   "source": [
    "K_vacuum_subs = K_vacuum == sqrt(kappa_vacuum^2 - k_z^2)"
   ]
  },
  {
   "cell_type": "markdown",
   "metadata": {},
   "source": [
    "$$K_x^2 = \\frac{ \\mu'_{xx}\\epsilon'_{zz} \\frac{\\omega^2}{c^2}}{\\left(1 - \\frac{k'_z}{\\left({ {k'_z}} - \\frac{\\omega^2}{{k'_z}c^2} {\\mu'}_{yy} {\\epsilon'}_{xx} \\right)} - \\frac{\\left(\\mu'_{yy}-\\mu'_{xx}\\right)}{\\left({\\mu'}_{yy}  - \\frac{{k'_z}^2 c^2}{\\omega^2 {\\epsilon'}_{xx}} \\right)}\\right)}$$"
   ]
  },
  {
   "cell_type": "markdown",
   "metadata": {},
   "source": [
    "В случае если $\\mu'_{yy}=\\mu'_{xx}$"
   ]
  },
  {
   "cell_type": "markdown",
   "metadata": {},
   "source": [
    "$$\\frac{\\partial^{2}}{(\\partial {x})^{2}}{E_z}(x,y) + \\left(\\frac{\\omega^2}{c^2} {\\mu'}_{yy} {\\epsilon'}_{zz} - { {k'_z}^2} \\frac{ \\epsilon'_{zz}}{ {\\epsilon'}_{xx} }\\right)\\,{E_z}(x,y) = 0$$"
   ]
  },
  {
   "cell_type": "code",
   "execution_count": null,
   "metadata": {},
   "outputs": [],
   "source": []
  },
  {
   "cell_type": "code",
   "execution_count": 72,
   "metadata": {},
   "outputs": [],
   "source": [
    "make_investigation_plots = True"
   ]
  },
  {
   "cell_type": "code",
   "execution_count": 73,
   "metadata": {},
   "outputs": [],
   "source": [
    "if mu_yy_d == mu_xx_d and sigma_m_yy_d == sigma_m_xx_d:\n",
    "    K_conductor_subs = K_conductor == sqrt(mu_yy_*epsilon_zz_*omega^2/(c^2) - k_z^2 * (epsilon_zz_/epsilon_xx_))\n",
    "else:\n",
    "    K_conductor_subs = K_conductor == sqrt(\n",
    "        mu_xx_ * epsilon_zz_ * omega^2/c^2/(\n",
    "            1-k_z/(k_z-mu_yy_*epsilon_xx_*omega^2/(c^2*k_z)) \n",
    "             - (mu_yy_ - mu_xx_) / (mu_yy_ - k_z^2*c^2/(omega^2*epsilon_xx_))\n",
    "        )\n",
    "    )\n",
    "    make_investigation_plots = False"
   ]
  },
  {
   "cell_type": "code",
   "execution_count": 74,
   "metadata": {},
   "outputs": [
    {
     "data": {
      "text/html": [
       "<html>\\(\\displaystyle K_{\\mathit{conductor}} = \\sqrt{-\\frac{\\epsilon_{\\mathit{zz}} k_{z}^{2}}{\\epsilon_{\\mathit{xx}}} + \\frac{\\epsilon_{\\mathit{zz}} \\mu_{\\mathit{yy}} \\omega^{2}}{c^{2}}}\\)</html>"
      ],
      "text/latex": [
       "$\\displaystyle K_{\\mathit{conductor}} = \\sqrt{-\\frac{\\epsilon_{\\mathit{zz}} k_{z}^{2}}{\\epsilon_{\\mathit{xx}}} + \\frac{\\epsilon_{\\mathit{zz}} \\mu_{\\mathit{yy}} \\omega^{2}}{c^{2}}}$"
      ],
      "text/plain": [
       "K_conductor == sqrt(-epsilon_zz_*k_z^2/epsilon_xx_ + epsilon_zz_*mu_yy_*omega^2/c^2)"
      ]
     },
     "metadata": {},
     "output_type": "display_data"
    }
   ],
   "source": [
    "show(K_conductor_subs)"
   ]
  },
  {
   "cell_type": "code",
   "execution_count": 75,
   "metadata": {},
   "outputs": [],
   "source": [
    "epsilon_mu_subs = [epsilon_zz_ == epsilon_zz_complex,\n",
    "                   epsilon_yy_ == epsilon_yy_complex,\n",
    "                   epsilon_xx_ == epsilon_xx_complex,\n",
    "                   mu_zz_ == mu_zz_complex,\n",
    "                   mu_yy_ == mu_yy_complex,\n",
    "                   mu_xx_ == mu_xx_complex,\n",
    "                  ]"
   ]
  },
  {
   "cell_type": "code",
   "execution_count": 76,
   "metadata": {},
   "outputs": [],
   "source": [
    "K_conductor_subs = K_conductor_subs.subs(epsilon_mu_subs)"
   ]
  },
  {
   "cell_type": "code",
   "execution_count": 77,
   "metadata": {},
   "outputs": [
    {
     "data": {
      "text/html": [
       "<html>\\(\\displaystyle K_{\\mathit{conductor}} = \\sqrt{-\\frac{{\\left(\\epsilon_{\\mathit{zz}} + \\frac{4 i \\, \\pi \\sigma_{e_{\\mathit{zz}}}}{\\omega}\\right)} k_{z}^{2}}{\\epsilon_{\\mathit{xx}} + \\frac{4 i \\, \\pi \\sigma_{e_{\\mathit{xx}}}}{\\omega}} + \\frac{{\\left(\\epsilon_{\\mathit{zz}} + \\frac{4 i \\, \\pi \\sigma_{e_{\\mathit{zz}}}}{\\omega}\\right)} {\\left(\\mu_{\\mathit{yy}} + \\frac{4 i \\, \\pi \\sigma_{m_{\\mathit{yy}}}}{\\omega}\\right)} \\omega^{2}}{c^{2}}}\\)</html>"
      ],
      "text/latex": [
       "$\\displaystyle K_{\\mathit{conductor}} = \\sqrt{-\\frac{{\\left(\\epsilon_{\\mathit{zz}} + \\frac{4 i \\, \\pi \\sigma_{e_{\\mathit{zz}}}}{\\omega}\\right)} k_{z}^{2}}{\\epsilon_{\\mathit{xx}} + \\frac{4 i \\, \\pi \\sigma_{e_{\\mathit{xx}}}}{\\omega}} + \\frac{{\\left(\\epsilon_{\\mathit{zz}} + \\frac{4 i \\, \\pi \\sigma_{e_{\\mathit{zz}}}}{\\omega}\\right)} {\\left(\\mu_{\\mathit{yy}} + \\frac{4 i \\, \\pi \\sigma_{m_{\\mathit{yy}}}}{\\omega}\\right)} \\omega^{2}}{c^{2}}}$"
      ],
      "text/plain": [
       "K_conductor == sqrt(-(epsilon_zz + 4*I*pi*sigma_e_zz/omega)*k_z^2/(epsilon_xx + 4*I*pi*sigma_e_xx/omega) + (epsilon_zz + 4*I*pi*sigma_e_zz/omega)*(mu_yy + 4*I*pi*sigma_m_yy/omega)*omega^2/c^2)"
      ]
     },
     "metadata": {},
     "output_type": "display_data"
    }
   ],
   "source": [
    "show(K_conductor_subs)"
   ]
  },
  {
   "cell_type": "markdown",
   "metadata": {},
   "source": [
    "проверяем чему равен градиент дивергенции"
   ]
  },
  {
   "cell_type": "markdown",
   "metadata": {},
   "source": [
    "$$\\left(grad \\, div\\,\\vec{E}\\right)_x = \\left(\\frac{\\partial^2 E_x(x, y)}{\\partial x^2} +  i\\,k'_z \\frac{\\partial E_z(x, y)}{\\partial x}\\right)$$"
   ]
  },
  {
   "cell_type": "markdown",
   "metadata": {},
   "source": [
    "$$\\left(grad \\, div\\,\\vec{E}\\right)_y = 0$$"
   ]
  },
  {
   "cell_type": "markdown",
   "metadata": {},
   "source": [
    "$$\\left(grad \\, div\\,\\vec{E}\\right)_z = \\left(i \\,k'_z\\,\\frac{\\partial E_x(x, y)}{\\partial x} -\\,{k'_z}^2 E_z(x, y)\\right)$$"
   ]
  },
  {
   "cell_type": "code",
   "execution_count": 78,
   "metadata": {},
   "outputs": [
    {
     "data": {
      "text/plain": [
       "(B1_z,\n",
       " c,\n",
       " epsilon_xx,\n",
       " epsilon_xx_,\n",
       " epsilon_zz,\n",
       " k_z,\n",
       " mu_yy,\n",
       " mu_yy_,\n",
       " omega,\n",
       " sigma_e_xx,\n",
       " sigma_e_zz,\n",
       " sigma_m_yy,\n",
       " x)"
      ]
     },
     "execution_count": 78,
     "metadata": {},
     "output_type": "execute_result"
    }
   ],
   "source": [
    "grad_div_E_z \\\n",
    "    = I * k_z * E_bad_conductor_sub_x(x).subs(K_conductor_subs).diff(x).expand() \\\n",
    "    - k_z^2   * E_bad_conductor_sol_z(x).subs(K_conductor_subs).expand()\n",
    "grad_div_E_z.variables()"
   ]
  },
  {
   "cell_type": "code",
   "execution_count": 79,
   "metadata": {},
   "outputs": [
    {
     "data": {
      "text/plain": [
       "(B1_z,\n",
       " c,\n",
       " epsilon_xx,\n",
       " epsilon_xx_,\n",
       " epsilon_zz,\n",
       " k_z,\n",
       " mu_yy,\n",
       " mu_yy_,\n",
       " omega,\n",
       " sigma_e_xx,\n",
       " sigma_e_zz,\n",
       " sigma_m_yy,\n",
       " x)"
      ]
     },
     "execution_count": 79,
     "metadata": {},
     "output_type": "execute_result"
    }
   ],
   "source": [
    "grad_div_E_x \\\n",
    "    = E_bad_conductor_sub_x(x).subs(K_conductor_subs).diff(x, 2).expand() \\\n",
    "    + I * k_z^2 * E_bad_conductor_sol_z(x).subs(K_conductor_subs).expand()\n",
    "grad_div_E_x.variables()"
   ]
  },
  {
   "cell_type": "code",
   "execution_count": null,
   "metadata": {},
   "outputs": [],
   "source": []
  },
  {
   "cell_type": "code",
   "execution_count": null,
   "metadata": {},
   "outputs": [],
   "source": []
  },
  {
   "cell_type": "code",
   "execution_count": 80,
   "metadata": {},
   "outputs": [
    {
     "data": {
      "text/html": [
       "<html>\\(\\displaystyle i \\, \\sqrt{-k_{z}^{2} + \\kappa_{\\mathit{vacuum}}^{2}} \\mathit{A2}_{x} e^{\\left(i \\, \\sqrt{-k_{z}^{2} + \\kappa_{\\mathit{vacuum}}^{2}} x\\right)} - i \\, \\sqrt{-k_{z}^{2} + \\kappa_{\\mathit{vacuum}}^{2}} \\mathit{A1}_{x} e^{\\left(-i \\, \\sqrt{-k_{z}^{2} + \\kappa_{\\mathit{vacuum}}^{2}} x\\right)}\\)</html>"
      ],
      "text/latex": [
       "$\\displaystyle i \\, \\sqrt{-k_{z}^{2} + \\kappa_{\\mathit{vacuum}}^{2}} \\mathit{A2}_{x} e^{\\left(i \\, \\sqrt{-k_{z}^{2} + \\kappa_{\\mathit{vacuum}}^{2}} x\\right)} - i \\, \\sqrt{-k_{z}^{2} + \\kappa_{\\mathit{vacuum}}^{2}} \\mathit{A1}_{x} e^{\\left(-i \\, \\sqrt{-k_{z}^{2} + \\kappa_{\\mathit{vacuum}}^{2}} x\\right)}$"
      ],
      "text/plain": [
       "I*sqrt(-k_z^2 + kappa_vacuum^2)*A2_x*e^(I*sqrt(-k_z^2 + kappa_vacuum^2)*x) - I*sqrt(-k_z^2 + kappa_vacuum^2)*A1_x*e^(-I*sqrt(-k_z^2 + kappa_vacuum^2)*x)"
      ]
     },
     "metadata": {},
     "output_type": "display_data"
    },
    {
     "data": {
      "text/html": [
       "<html>\\(\\displaystyle -i \\, \\mathit{A2}_{z} k_{z} e^{\\left(i \\, \\sqrt{-k_{z}^{2} + \\kappa_{\\mathit{vacuum}}^{2}} x\\right)} - i \\, \\mathit{A1}_{z} k_{z} e^{\\left(-i \\, \\sqrt{-k_{z}^{2} + \\kappa_{\\mathit{vacuum}}^{2}} x\\right)}\\)</html>"
      ],
      "text/latex": [
       "$\\displaystyle -i \\, \\mathit{A2}_{z} k_{z} e^{\\left(i \\, \\sqrt{-k_{z}^{2} + \\kappa_{\\mathit{vacuum}}^{2}} x\\right)} - i \\, \\mathit{A1}_{z} k_{z} e^{\\left(-i \\, \\sqrt{-k_{z}^{2} + \\kappa_{\\mathit{vacuum}}^{2}} x\\right)}$"
      ],
      "text/plain": [
       "-I*A2_z*k_z*e^(I*sqrt(-k_z^2 + kappa_vacuum^2)*x) - I*A1_z*k_z*e^(-I*sqrt(-k_z^2 + kappa_vacuum^2)*x)"
      ]
     },
     "metadata": {},
     "output_type": "display_data"
    }
   ],
   "source": [
    "show(E_inner_vacuum_sol_x(x).subs(K_vacuum_subs).diff(x).expand())\n",
    "show((E_inner_vacuum_sol_z(x).subs(K_vacuum_subs)*k_z/I).expand())"
   ]
  },
  {
   "cell_type": "code",
   "execution_count": 81,
   "metadata": {},
   "outputs": [
    {
     "data": {
      "text/plain": [
       "kappa_vacuum^2 == omega^2/c^2"
      ]
     },
     "execution_count": 81,
     "metadata": {},
     "output_type": "execute_result"
    }
   ],
   "source": [
    "eq_kappa_inner_vacuum"
   ]
  },
  {
   "cell_type": "code",
   "execution_count": null,
   "metadata": {},
   "outputs": [],
   "source": []
  },
  {
   "cell_type": "code",
   "execution_count": 82,
   "metadata": {},
   "outputs": [
    {
     "name": "stdout",
     "output_type": "stream",
     "text": [
      "kappa_vacuum == omega/c\n"
     ]
    }
   ],
   "source": [
    "kappa_vacuum_sol = solve(eq_kappa_inner_vacuum, kappa_vacuum)[1]\n",
    "print(kappa_vacuum_sol)"
   ]
  },
  {
   "cell_type": "code",
   "execution_count": 83,
   "metadata": {},
   "outputs": [],
   "source": [
    "# rename eq_Dx_a -> eq_Dx__0"
   ]
  },
  {
   "cell_type": "raw",
   "metadata": {},
   "source": [
    "# нормальная компонента индукции магнитного поля\n",
    "eq_2_subs4x0 = eq_2_subs4.subs(x == 0)\n",
    "#print(eq_5_subs4x0)\n",
    "display(Math(latex(eq_2_subs4x0)))\n",
    "\n",
    "print(\"\")\n",
    "\n",
    "eq_4_subs5x0 = eq_4_subs5.subs(x == 0)\n",
    "#print(eq_7_subs4x0)\n",
    "display(Math(latex(eq_4_subs5x0)))\n",
    "print(\"\")\n",
    "\n",
    "\n",
    "# граничные условия на границе вакуума внутри резонатора и проводящего металла с потерями\n",
    "# нормальная компонента индукции магнитного поля\n",
    "#eqBx__0  = mu * H_bad_conductor_sol_x (0)  == H_inner_vacuum_sol_x (0)\n",
    "eq_Bx__0  = mu *eq_4_subs5x0.rhs()  == eq_2_subs4x0.rhs()\n",
    "\n",
    "print(\"eqBx__0 =\")\n",
    "display(Math(latex(eqBx__0)))\n",
    "print(\"eq_Bx__0 =\")\n",
    "display(Math(latex(eq_Bx__0)))\n",
    "print(\"\")"
   ]
  },
  {
   "cell_type": "code",
   "execution_count": null,
   "metadata": {},
   "outputs": [],
   "source": []
  },
  {
   "cell_type": "raw",
   "metadata": {},
   "source": [
    "# отсутсвие изменения поля вдоль оси y\n",
    "k_y0_subs = [k_y == 0]\n",
    "\n",
    "#            A1_y_im == 0, \\\n",
    "#            A1_y_re == 0, \\\n",
    "#            A2_y_im == 0, \\\n",
    "#            A2_y_re == 0]\n",
    "k_y0_subs"
   ]
  },
  {
   "cell_type": "code",
   "execution_count": 84,
   "metadata": {},
   "outputs": [],
   "source": [
    "def GenerateMatrix(equsys, vars):\n",
    "    A=matrix(SR, [[(equ.lhs() - equ.rhs()).expand().coefficient(v) for v in vars] for equ in equsys])\n",
    "    return A"
   ]
  },
  {
   "cell_type": "code",
   "execution_count": 85,
   "metadata": {},
   "outputs": [],
   "source": [
    "def GenerateMatrixReIm(equsys, coefs_re_im_subs, vars):\n",
    "    A=matrix(SR, [[(equ.lhs().real() - equ.rhs().real()).subs(k_z == kz + I * sz).subs(coefs_re_im_subs).expand().coefficient(v) for v in vars] for equ in equsys] + \\\n",
    "                 [[(equ.lhs().imag() - equ.rhs().imag()).subs(k_z == kz + I * sz).subs(coefs_re_im_subs).expand().coefficient(v) for v in vars] for equ in equsys])\n",
    "    return A"
   ]
  },
  {
   "cell_type": "code",
   "execution_count": 86,
   "metadata": {},
   "outputs": [],
   "source": [
    "def GenerateMatrixNumeric(equsys, vars):\n",
    "    A=matrix(SR, [[(equ.lhs() - equ.rhs()).coefficient(v).n() for v in vars] for equ in equsys])\n",
    "    return A"
   ]
  },
  {
   "cell_type": "code",
   "execution_count": null,
   "metadata": {},
   "outputs": [],
   "source": []
  },
  {
   "cell_type": "code",
   "execution_count": 87,
   "metadata": {},
   "outputs": [],
   "source": [
    "#Hy_bad_conductor = (eq_8_subs3.rhs()*sqrt(epsilon_complex)/sqrt(mu)).subs(K_conductor_subs_d).subs(kappa_vacuum_sol).subs(kappa_sol).subs(k_z_sol).subs(eqEz_a).subs(A1_x_re_im_subs, A2_x_re_im_subs)\n",
    "#Hy_vacuum        = (eq_6_subs3.rhs()).subs(K_vacuum_subs_d).subs(kappa_vacuum_sol).subs(kappa_sol).subs(k_z_sol).subs(eqEz_a).subs(A1_x_re_im_subs, A2_x_re_im_subs)"
   ]
  },
  {
   "cell_type": "code",
   "execution_count": 88,
   "metadata": {},
   "outputs": [],
   "source": [
    "# sqrt(mu / epsilon_complex) = omega/c * mu / kappa\n",
    "# sqrt(mu / epsilon_complex) = omega/c * mu_rel * mu_0 / kappa\n",
    "\n",
    "# kappa/mu == omega * sqrt(epsilon_complex/mu)\n",
    "# sqrt(mu_0 / epsilon_0) = omega * mu_0 / kappa_vacuum\n",
    "\n",
    "# kappa_vacuum == omega/c\n",
    "# sqrt(mu_0 / epsilon_0) = c * mu_0\n",
    "# c = 1 / sqrt(mu_0 * epsilon_0)\n",
    "\n",
    "# kappa = omega/c * sqrt(epsilon_comlex*mu)\n",
    "# kappa_vacuum = omega/c * sqrt(epsilon_0*mu_0) = omega/c\n",
    "\n",
    "# sqrt(mu_0 / epsilon_0) = 1/(c*epsilon_0) = omega/c * mu_0 / kappa_vacuum\n",
    "# sqrt(mu / epsilon_complex) = 1/(c*epsilon_complex) = omega/c * mu / kappa\n",
    "\n",
    "# 1/mu_0 = c^2*epsolon_0"
   ]
  },
  {
   "cell_type": "raw",
   "metadata": {},
   "source": [
    "Hz_vacuum        = H_inner_vacuum_sol_z(x)\n",
    "Hz_bad_conductor = H_bad_conductor_sol_z(x)"
   ]
  },
  {
   "cell_type": "code",
   "execution_count": 89,
   "metadata": {},
   "outputs": [],
   "source": [
    "# TM wave\n",
    "Hz_vacuum       (x) = 0\n",
    "Hz_bad_conductor(x) = 0"
   ]
  },
  {
   "cell_type": "code",
   "execution_count": 90,
   "metadata": {},
   "outputs": [],
   "source": [
    "Hy_vacuum        = H_inner_vacuum_sub_y(x)\n",
    "Hy_bad_conductor = H_bad_conductor_sub_y(x)"
   ]
  },
  {
   "cell_type": "code",
   "execution_count": 91,
   "metadata": {},
   "outputs": [],
   "source": [
    "Ex_bad_conductor = E_bad_conductor_sub_x(x)\n",
    "Ex_vacuum        = E_inner_vacuum_sub_x(x)"
   ]
  },
  {
   "cell_type": "code",
   "execution_count": 92,
   "metadata": {},
   "outputs": [],
   "source": [
    "Ey_bad_conductor = E_bad_conductor_sub_y(x)\n",
    "Ey_vacuum        = E_inner_vacuum_sub_y(x)"
   ]
  },
  {
   "cell_type": "code",
   "execution_count": 93,
   "metadata": {},
   "outputs": [],
   "source": [
    "Ez_bad_conductor = E_bad_conductor_sol_z(x)\n",
    "Ez_vacuum        = E_inner_vacuum_sol_z(x)"
   ]
  },
  {
   "cell_type": "code",
   "execution_count": 94,
   "metadata": {},
   "outputs": [],
   "source": [
    "rot_H_vacuum_x = - diff(Hy_vacuum(x=x)*e^(I*k_z*z), z)\n",
    "rot_H_vacuum_y =   0\n",
    "rot_H_vacuum_z =   diff(Hy_vacuum(x=x)*e^(I*k_z*z), x)"
   ]
  },
  {
   "cell_type": "code",
   "execution_count": 95,
   "metadata": {},
   "outputs": [],
   "source": [
    "eq_rot_H_vacuum_x = rot_H_vacuum_x == (-I*omega/c*Ex_vacuum(x=x)*e^(I*k_z*z))\n",
    "eq_rot_H_vacuum_z = rot_H_vacuum_z == (-I*omega/c*Ez_vacuum(x=x)*e^(I*k_z*z))"
   ]
  },
  {
   "cell_type": "code",
   "execution_count": 96,
   "metadata": {},
   "outputs": [],
   "source": [
    "rot_H_conductor_x = - diff(Hy_bad_conductor(x=x)*e^(I*k_z*z), z)\n",
    "rot_H_conductor_y =   0\n",
    "rot_H_conductor_z =   diff(Hy_bad_conductor(x=x)*e^(I*k_z*z), x)"
   ]
  },
  {
   "cell_type": "raw",
   "metadata": {},
   "source": [
    "eq_rot_H_conductor_x = rot_H_conductor_x == ((-I*epsilon_complex*omega/c) * Ex_bad_conductor(x=x)*e^(I*k_z*z))\n",
    "eq_rot_H_conductor_z = rot_H_conductor_z == ((-I*epsilon_complex*omega/c) * Ez_bad_conductor(x=x)*e^(I*k_z*z))"
   ]
  },
  {
   "cell_type": "markdown",
   "metadata": {},
   "source": [
    "сшивая решения уравнений Максвелла на границах сред, учитывая известные граничные условия"
   ]
  },
  {
   "cell_type": "code",
   "execution_count": 97,
   "metadata": {},
   "outputs": [
    {
     "data": {
      "text/plain": [
       "[B1_z == A1_z + A2_z,\n",
       " A1_z*e^(I*K_vacuum*a) + A2_z*e^(-I*K_vacuum*a) == 0,\n",
       " B1_z*K_conductor*c*epsilon_xx_*omega/(c^2*k_z^2 + epsilon_xx_*mu_yy_*omega^2) == -A1_z*K_vacuum*c*omega/(c^2*k_z^2 + omega^2) + A2_z*K_vacuum*c*omega/(c^2*k_z^2 + omega^2),\n",
       " -A1_z*K_vacuum*c*omega*e^(I*K_vacuum*a)/(c^2*k_z^2 + omega^2) + A2_z*K_vacuum*c*omega*e^(-I*K_vacuum*a)/(c^2*k_z^2 + omega^2) == 0]"
      ]
     },
     "execution_count": 97,
     "metadata": {},
     "output_type": "execute_result"
    }
   ],
   "source": [
    "sys4_boundaries = [\n",
    "    eqEz__0, \\\n",
    "    eqEz__a, \\\n",
    "    eq_Hy_0, \\\n",
    "    eq_Hy_a, \\\n",
    "]\n",
    "sys4_boundaries"
   ]
  },
  {
   "cell_type": "markdown",
   "metadata": {},
   "source": [
    "Получаем систему 3 комплексных уравнений относительно 3 неизвестных комплексных коэффициентов $A1_z, A2_z, B1_z$."
   ]
  },
  {
   "cell_type": "code",
   "execution_count": 98,
   "metadata": {},
   "outputs": [
    {
     "data": {
      "text/plain": [
       "[B1_z == A1_z + A2_z,\n",
       " A1_z*e^(I*K_vacuum*a) + A2_z*e^(-I*K_vacuum*a) == 0,\n",
       " B1_z*K_conductor*c*epsilon_xx_*omega/(c^2*k_z^2 + epsilon_xx_*mu_yy_*omega^2) == -A1_z*K_vacuum*c*omega/(c^2*k_z^2 + omega^2) + A2_z*K_vacuum*c*omega/(c^2*k_z^2 + omega^2)]"
      ]
     },
     "execution_count": 98,
     "metadata": {},
     "output_type": "execute_result"
    }
   ],
   "source": [
    "sys6 = [\n",
    "    eqEz__0, \\\n",
    "    eqEz__a, \\\n",
    "    eq_Hy_0, \\\n",
    "]\n",
    "sys6"
   ]
  },
  {
   "cell_type": "code",
   "execution_count": 99,
   "metadata": {},
   "outputs": [
    {
     "name": "stdout",
     "output_type": "stream",
     "text": [
      "(A1_z, A2_z, B1_z)\n",
      "(A1_z, A2_z, K_vacuum)\n",
      "(A1_z, A2_z, B1_z, K_conductor, K_vacuum, epsilon_xx_, k_z, mu_yy_)\n"
     ]
    },
    {
     "data": {
      "text/plain": [
       "{k_z, A2_z, mu_yy_, K_vacuum, B1_z, epsilon_xx_, A1_z, K_conductor}"
      ]
     },
     "execution_count": 99,
     "metadata": {},
     "output_type": "execute_result"
    }
   ],
   "source": [
    "sys_subs_v = [eq.subs(digit_values) for eq in sys6]\n",
    "\n",
    "vv = set()\n",
    "for eq in sys_subs_v:\n",
    "    print(eq.variables())\n",
    "    for variable in eq.variables():\n",
    "        vv.add(variable)\n",
    "vv"
   ]
  },
  {
   "cell_type": "code",
   "execution_count": 100,
   "metadata": {},
   "outputs": [],
   "source": [
    "vars6 = [\n",
    "    A1_z,\n",
    "    A2_z,\n",
    "    B1_z,\n",
    "]\n",
    "# 3 variables"
   ]
  },
  {
   "cell_type": "code",
   "execution_count": 101,
   "metadata": {},
   "outputs": [],
   "source": [
    "vars6reim = [\n",
    "    A1_z_re, A1_z_im,\n",
    "    A2_z_re, A2_z_im,\n",
    "    B1_z_re, B1_z_im,\n",
    "]\n",
    "# 3 variables"
   ]
  },
  {
   "cell_type": "markdown",
   "metadata": {},
   "source": [
    "Данная система имеет нетривиальные решения, если ее определитель равен нулю"
   ]
  },
  {
   "cell_type": "markdown",
   "metadata": {},
   "source": [
    "Составляем матрицу определителя"
   ]
  },
  {
   "cell_type": "code",
   "execution_count": 102,
   "metadata": {},
   "outputs": [],
   "source": [
    "M6_K = GenerateMatrix(sys6, vars6)"
   ]
  },
  {
   "cell_type": "code",
   "execution_count": 103,
   "metadata": {},
   "outputs": [
    {
     "data": {
      "text/plain": [
       "(3, 3)"
      ]
     },
     "execution_count": 103,
     "metadata": {},
     "output_type": "execute_result"
    }
   ],
   "source": [
    "M6_K.nrows(), M6_K.ncols()"
   ]
  },
  {
   "cell_type": "code",
   "execution_count": 104,
   "metadata": {},
   "outputs": [
    {
     "data": {
      "text/latex": [
       "$\\displaystyle \\left(\\begin{array}{rrr}\n",
       "-1 & -1 & 1 \\\\\n",
       "e^{\\left(i \\, K_{\\mathit{vacuum}} a\\right)} & e^{\\left(-i \\, K_{\\mathit{vacuum}} a\\right)} & 0 \\\\\n",
       "\\frac{K_{\\mathit{vacuum}} c \\omega}{c^{2} k_{z}^{2} + \\omega^{2}} & -\\frac{K_{\\mathit{vacuum}} c \\omega}{c^{2} k_{z}^{2} + \\omega^{2}} & \\frac{K_{\\mathit{conductor}} c \\epsilon_{\\mathit{xx}} \\omega}{c^{2} k_{z}^{2} + \\epsilon_{\\mathit{xx}} \\mu_{\\mathit{yy}} \\omega^{2}}\n",
       "\\end{array}\\right)$"
      ],
      "text/plain": [
       "<IPython.core.display.Math object>"
      ]
     },
     "metadata": {},
     "output_type": "display_data"
    }
   ],
   "source": [
    "disp(M6_K)"
   ]
  },
  {
   "cell_type": "code",
   "execution_count": 105,
   "metadata": {},
   "outputs": [
    {
     "data": {
      "text/plain": [
       "3"
      ]
     },
     "execution_count": 105,
     "metadata": {},
     "output_type": "execute_result"
    }
   ],
   "source": [
    "M6_K.rank()\n",
    "# 6"
   ]
  },
  {
   "cell_type": "raw",
   "metadata": {},
   "source": [
    "#3. Finding Linearly Dependent Rows:\n",
    "#To find linearly dependent rows, reduce the matrix to its row echelon form: \n",
    "\n",
    "M6_echelon_form = M6.echelon_form()\n",
    "show(M6_echelon_form)"
   ]
  },
  {
   "cell_type": "markdown",
   "metadata": {},
   "source": [
    "Находим выражение детерминанта"
   ]
  },
  {
   "cell_type": "code",
   "execution_count": 106,
   "metadata": {},
   "outputs": [],
   "source": [
    "M6_det_K = M6_K.det()"
   ]
  },
  {
   "cell_type": "code",
   "execution_count": 107,
   "metadata": {},
   "outputs": [
    {
     "data": {
      "text/latex": [
       "$\\displaystyle -\\frac{K_{\\mathit{conductor}} c \\epsilon_{\\mathit{xx}} \\omega e^{\\left(-i \\, K_{\\mathit{vacuum}} a\\right)}}{c^{2} k_{z}^{2} + \\epsilon_{\\mathit{xx}} \\mu_{\\mathit{yy}} \\omega^{2}} - \\frac{K_{\\mathit{vacuum}} c \\omega e^{\\left(-i \\, K_{\\mathit{vacuum}} a\\right)}}{c^{2} k_{z}^{2} + \\omega^{2}} + {\\left(\\frac{K_{\\mathit{conductor}} c \\epsilon_{\\mathit{xx}} \\omega}{c^{2} k_{z}^{2} + \\epsilon_{\\mathit{xx}} \\mu_{\\mathit{yy}} \\omega^{2}} - \\frac{K_{\\mathit{vacuum}} c \\omega}{c^{2} k_{z}^{2} + \\omega^{2}}\\right)} e^{\\left(i \\, K_{\\mathit{vacuum}} a\\right)}$"
      ],
      "text/plain": [
       "<IPython.core.display.Math object>"
      ]
     },
     "metadata": {},
     "output_type": "display_data"
    }
   ],
   "source": [
    "display(Math(latex(M6_det_K)))"
   ]
  },
  {
   "cell_type": "code",
   "execution_count": 108,
   "metadata": {},
   "outputs": [
    {
     "data": {
      "text/html": [
       "<html>\\(\\displaystyle -\\frac{\\sqrt{-\\frac{{\\left(\\epsilon_{\\mathit{zz}} + \\frac{4 i \\, \\pi \\sigma_{e_{\\mathit{zz}}}}{\\omega}\\right)} k_{z}^{2}}{\\epsilon_{\\mathit{xx}} + \\frac{4 i \\, \\pi \\sigma_{e_{\\mathit{xx}}}}{\\omega}} + \\frac{{\\left(\\epsilon_{\\mathit{zz}} + \\frac{4 i \\, \\pi \\sigma_{e_{\\mathit{zz}}}}{\\omega}\\right)} {\\left(\\mu_{\\mathit{yy}} + \\frac{4 i \\, \\pi \\sigma_{m_{\\mathit{yy}}}}{\\omega}\\right)} \\omega^{2}}{c^{2}}} c {\\left(\\epsilon_{\\mathit{xx}} + \\frac{4 i \\, \\pi \\sigma_{e_{\\mathit{xx}}}}{\\omega}\\right)} \\omega e^{\\left(-i \\, \\sqrt{-k_{z}^{2} + \\frac{\\omega^{2}}{c^{2}}} a\\right)}}{c^{2} k_{z}^{2} + {\\left(\\epsilon_{\\mathit{xx}} + \\frac{4 i \\, \\pi \\sigma_{e_{\\mathit{xx}}}}{\\omega}\\right)} {\\left(\\mu_{\\mathit{yy}} + \\frac{4 i \\, \\pi \\sigma_{m_{\\mathit{yy}}}}{\\omega}\\right)} \\omega^{2}} - \\frac{\\sqrt{-k_{z}^{2} + \\frac{\\omega^{2}}{c^{2}}} c \\omega e^{\\left(-i \\, \\sqrt{-k_{z}^{2} + \\frac{\\omega^{2}}{c^{2}}} a\\right)}}{c^{2} k_{z}^{2} + \\omega^{2}} + {\\left(\\frac{\\sqrt{-\\frac{{\\left(\\epsilon_{\\mathit{zz}} + \\frac{4 i \\, \\pi \\sigma_{e_{\\mathit{zz}}}}{\\omega}\\right)} k_{z}^{2}}{\\epsilon_{\\mathit{xx}} + \\frac{4 i \\, \\pi \\sigma_{e_{\\mathit{xx}}}}{\\omega}} + \\frac{{\\left(\\epsilon_{\\mathit{zz}} + \\frac{4 i \\, \\pi \\sigma_{e_{\\mathit{zz}}}}{\\omega}\\right)} {\\left(\\mu_{\\mathit{yy}} + \\frac{4 i \\, \\pi \\sigma_{m_{\\mathit{yy}}}}{\\omega}\\right)} \\omega^{2}}{c^{2}}} c {\\left(\\epsilon_{\\mathit{xx}} + \\frac{4 i \\, \\pi \\sigma_{e_{\\mathit{xx}}}}{\\omega}\\right)} \\omega}{c^{2} k_{z}^{2} + {\\left(\\epsilon_{\\mathit{xx}} + \\frac{4 i \\, \\pi \\sigma_{e_{\\mathit{xx}}}}{\\omega}\\right)} {\\left(\\mu_{\\mathit{yy}} + \\frac{4 i \\, \\pi \\sigma_{m_{\\mathit{yy}}}}{\\omega}\\right)} \\omega^{2}} - \\frac{\\sqrt{-k_{z}^{2} + \\frac{\\omega^{2}}{c^{2}}} c \\omega}{c^{2} k_{z}^{2} + \\omega^{2}}\\right)} e^{\\left(i \\, \\sqrt{-k_{z}^{2} + \\frac{\\omega^{2}}{c^{2}}} a\\right)}\\)</html>"
      ],
      "text/latex": [
       "$\\displaystyle -\\frac{\\sqrt{-\\frac{{\\left(\\epsilon_{\\mathit{zz}} + \\frac{4 i \\, \\pi \\sigma_{e_{\\mathit{zz}}}}{\\omega}\\right)} k_{z}^{2}}{\\epsilon_{\\mathit{xx}} + \\frac{4 i \\, \\pi \\sigma_{e_{\\mathit{xx}}}}{\\omega}} + \\frac{{\\left(\\epsilon_{\\mathit{zz}} + \\frac{4 i \\, \\pi \\sigma_{e_{\\mathit{zz}}}}{\\omega}\\right)} {\\left(\\mu_{\\mathit{yy}} + \\frac{4 i \\, \\pi \\sigma_{m_{\\mathit{yy}}}}{\\omega}\\right)} \\omega^{2}}{c^{2}}} c {\\left(\\epsilon_{\\mathit{xx}} + \\frac{4 i \\, \\pi \\sigma_{e_{\\mathit{xx}}}}{\\omega}\\right)} \\omega e^{\\left(-i \\, \\sqrt{-k_{z}^{2} + \\frac{\\omega^{2}}{c^{2}}} a\\right)}}{c^{2} k_{z}^{2} + {\\left(\\epsilon_{\\mathit{xx}} + \\frac{4 i \\, \\pi \\sigma_{e_{\\mathit{xx}}}}{\\omega}\\right)} {\\left(\\mu_{\\mathit{yy}} + \\frac{4 i \\, \\pi \\sigma_{m_{\\mathit{yy}}}}{\\omega}\\right)} \\omega^{2}} - \\frac{\\sqrt{-k_{z}^{2} + \\frac{\\omega^{2}}{c^{2}}} c \\omega e^{\\left(-i \\, \\sqrt{-k_{z}^{2} + \\frac{\\omega^{2}}{c^{2}}} a\\right)}}{c^{2} k_{z}^{2} + \\omega^{2}} + {\\left(\\frac{\\sqrt{-\\frac{{\\left(\\epsilon_{\\mathit{zz}} + \\frac{4 i \\, \\pi \\sigma_{e_{\\mathit{zz}}}}{\\omega}\\right)} k_{z}^{2}}{\\epsilon_{\\mathit{xx}} + \\frac{4 i \\, \\pi \\sigma_{e_{\\mathit{xx}}}}{\\omega}} + \\frac{{\\left(\\epsilon_{\\mathit{zz}} + \\frac{4 i \\, \\pi \\sigma_{e_{\\mathit{zz}}}}{\\omega}\\right)} {\\left(\\mu_{\\mathit{yy}} + \\frac{4 i \\, \\pi \\sigma_{m_{\\mathit{yy}}}}{\\omega}\\right)} \\omega^{2}}{c^{2}}} c {\\left(\\epsilon_{\\mathit{xx}} + \\frac{4 i \\, \\pi \\sigma_{e_{\\mathit{xx}}}}{\\omega}\\right)} \\omega}{c^{2} k_{z}^{2} + {\\left(\\epsilon_{\\mathit{xx}} + \\frac{4 i \\, \\pi \\sigma_{e_{\\mathit{xx}}}}{\\omega}\\right)} {\\left(\\mu_{\\mathit{yy}} + \\frac{4 i \\, \\pi \\sigma_{m_{\\mathit{yy}}}}{\\omega}\\right)} \\omega^{2}} - \\frac{\\sqrt{-k_{z}^{2} + \\frac{\\omega^{2}}{c^{2}}} c \\omega}{c^{2} k_{z}^{2} + \\omega^{2}}\\right)} e^{\\left(i \\, \\sqrt{-k_{z}^{2} + \\frac{\\omega^{2}}{c^{2}}} a\\right)}$"
      ],
      "text/plain": [
       "-sqrt(-(epsilon_zz + 4*I*pi*sigma_e_zz/omega)*k_z^2/(epsilon_xx + 4*I*pi*sigma_e_xx/omega) + (epsilon_zz + 4*I*pi*sigma_e_zz/omega)*(mu_yy + 4*I*pi*sigma_m_yy/omega)*omega^2/c^2)*c*(epsilon_xx + 4*I*pi*sigma_e_xx/omega)*omega*e^(-I*sqrt(-k_z^2 + omega^2/c^2)*a)/(c^2*k_z^2 + (epsilon_xx + 4*I*pi*sigma_e_xx/omega)*(mu_yy + 4*I*pi*sigma_m_yy/omega)*omega^2) - sqrt(-k_z^2 + omega^2/c^2)*c*omega*e^(-I*sqrt(-k_z^2 + omega^2/c^2)*a)/(c^2*k_z^2 + omega^2) + (sqrt(-(epsilon_zz + 4*I*pi*sigma_e_zz/omega)*k_z^2/(epsilon_xx + 4*I*pi*sigma_e_xx/omega) + (epsilon_zz + 4*I*pi*sigma_e_zz/omega)*(mu_yy + 4*I*pi*sigma_m_yy/omega)*omega^2/c^2)*c*(epsilon_xx + 4*I*pi*sigma_e_xx/omega)*omega/(c^2*k_z^2 + (epsilon_xx + 4*I*pi*sigma_e_xx/omega)*(mu_yy + 4*I*pi*sigma_m_yy/omega)*omega^2) - sqrt(-k_z^2 + omega^2/c^2)*c*omega/(c^2*k_z^2 + omega^2))*e^(I*sqrt(-k_z^2 + omega^2/c^2)*a)"
      ]
     },
     "metadata": {},
     "output_type": "display_data"
    }
   ],
   "source": [
    "M6_det = M6_det_K.subs(K_vacuum_subs).subs(kappa_vacuum_sol)\n",
    "M6_det = M6_det.subs(K_conductor_subs).subs(K_vacuum_subs).subs(kappa_vacuum_sol).subs(epsilon_mu_subs)\n",
    "show(M6_det)"
   ]
  },
  {
   "cell_type": "code",
   "execution_count": 109,
   "metadata": {},
   "outputs": [
    {
     "data": {
      "text/html": [
       "<html>\\(\\displaystyle \\left(\\begin{array}{rrr}\n",
       "-1 & -1 & 1 \\\\\n",
       "e^{\\left(i \\, \\sqrt{-k_{z}^{2} + \\frac{\\omega^{2}}{c^{2}}} a\\right)} & e^{\\left(-i \\, \\sqrt{-k_{z}^{2} + \\frac{\\omega^{2}}{c^{2}}} a\\right)} & 0 \\\\\n",
       "\\frac{\\sqrt{-k_{z}^{2} + \\frac{\\omega^{2}}{c^{2}}} c \\omega}{c^{2} k_{z}^{2} + \\omega^{2}} & -\\frac{\\sqrt{-k_{z}^{2} + \\frac{\\omega^{2}}{c^{2}}} c \\omega}{c^{2} k_{z}^{2} + \\omega^{2}} & \\frac{\\sqrt{-\\frac{{\\left(\\epsilon_{\\mathit{zz}} + \\frac{4 i \\, \\pi \\sigma_{e_{\\mathit{zz}}}}{\\omega}\\right)} k_{z}^{2}}{\\epsilon_{\\mathit{xx}} + \\frac{4 i \\, \\pi \\sigma_{e_{\\mathit{xx}}}}{\\omega}} + \\frac{{\\left(\\epsilon_{\\mathit{zz}} + \\frac{4 i \\, \\pi \\sigma_{e_{\\mathit{zz}}}}{\\omega}\\right)} {\\left(\\mu_{\\mathit{yy}} + \\frac{4 i \\, \\pi \\sigma_{m_{\\mathit{yy}}}}{\\omega}\\right)} \\omega^{2}}{c^{2}}} c {\\left(\\epsilon_{\\mathit{xx}} + \\frac{4 i \\, \\pi \\sigma_{e_{\\mathit{xx}}}}{\\omega}\\right)} \\omega}{c^{2} k_{z}^{2} + {\\left(\\epsilon_{\\mathit{xx}} + \\frac{4 i \\, \\pi \\sigma_{e_{\\mathit{xx}}}}{\\omega}\\right)} {\\left(\\mu_{\\mathit{yy}} + \\frac{4 i \\, \\pi \\sigma_{m_{\\mathit{yy}}}}{\\omega}\\right)} \\omega^{2}}\n",
       "\\end{array}\\right)\\)</html>"
      ],
      "text/latex": [
       "$\\displaystyle \\left(\\begin{array}{rrr}\n",
       "-1 & -1 & 1 \\\\\n",
       "e^{\\left(i \\, \\sqrt{-k_{z}^{2} + \\frac{\\omega^{2}}{c^{2}}} a\\right)} & e^{\\left(-i \\, \\sqrt{-k_{z}^{2} + \\frac{\\omega^{2}}{c^{2}}} a\\right)} & 0 \\\\\n",
       "\\frac{\\sqrt{-k_{z}^{2} + \\frac{\\omega^{2}}{c^{2}}} c \\omega}{c^{2} k_{z}^{2} + \\omega^{2}} & -\\frac{\\sqrt{-k_{z}^{2} + \\frac{\\omega^{2}}{c^{2}}} c \\omega}{c^{2} k_{z}^{2} + \\omega^{2}} & \\frac{\\sqrt{-\\frac{{\\left(\\epsilon_{\\mathit{zz}} + \\frac{4 i \\, \\pi \\sigma_{e_{\\mathit{zz}}}}{\\omega}\\right)} k_{z}^{2}}{\\epsilon_{\\mathit{xx}} + \\frac{4 i \\, \\pi \\sigma_{e_{\\mathit{xx}}}}{\\omega}} + \\frac{{\\left(\\epsilon_{\\mathit{zz}} + \\frac{4 i \\, \\pi \\sigma_{e_{\\mathit{zz}}}}{\\omega}\\right)} {\\left(\\mu_{\\mathit{yy}} + \\frac{4 i \\, \\pi \\sigma_{m_{\\mathit{yy}}}}{\\omega}\\right)} \\omega^{2}}{c^{2}}} c {\\left(\\epsilon_{\\mathit{xx}} + \\frac{4 i \\, \\pi \\sigma_{e_{\\mathit{xx}}}}{\\omega}\\right)} \\omega}{c^{2} k_{z}^{2} + {\\left(\\epsilon_{\\mathit{xx}} + \\frac{4 i \\, \\pi \\sigma_{e_{\\mathit{xx}}}}{\\omega}\\right)} {\\left(\\mu_{\\mathit{yy}} + \\frac{4 i \\, \\pi \\sigma_{m_{\\mathit{yy}}}}{\\omega}\\right)} \\omega^{2}}\n",
       "\\end{array}\\right)$"
      ],
      "text/plain": [
       "[                                                                                                                                                                                                                                                                                                                             -1                                                                                                                                                                                                                                                                                                                              -1                                                                                                                                                                                                                                                                                                                               1]\n",
       "[                                                                                                                                                                                                                                                                                             e^(I*sqrt(-k_z^2 + omega^2/c^2)*a)                                                                                                                                                                                                                                                                                             e^(-I*sqrt(-k_z^2 + omega^2/c^2)*a)                                                                                                                                                                                                                                                                                                                               0]\n",
       "[                                                                                                                                                                                                                                                                       sqrt(-k_z^2 + omega^2/c^2)*c*omega/(c^2*k_z^2 + omega^2)                                                                                                                                                                                                                                                                       -sqrt(-k_z^2 + omega^2/c^2)*c*omega/(c^2*k_z^2 + omega^2) sqrt(-(epsilon_zz + 4*I*pi*sigma_e_zz/omega)*k_z^2/(epsilon_xx + 4*I*pi*sigma_e_xx/omega) + (epsilon_zz + 4*I*pi*sigma_e_zz/omega)*(mu_yy + 4*I*pi*sigma_m_yy/omega)*omega^2/c^2)*c*(epsilon_xx + 4*I*pi*sigma_e_xx/omega)*omega/(c^2*k_z^2 + (epsilon_xx + 4*I*pi*sigma_e_xx/omega)*(mu_yy + 4*I*pi*sigma_m_yy/omega)*omega^2)]"
      ]
     },
     "metadata": {},
     "output_type": "display_data"
    }
   ],
   "source": [
    "M6 = M6_K.subs(K_vacuum_subs).subs(kappa_vacuum_sol)\n",
    "M6 = M6.subs(K_conductor_subs).subs(K_vacuum_subs).subs(kappa_vacuum_sol).subs(epsilon_mu_subs)\n",
    "show(M6)"
   ]
  },
  {
   "cell_type": "code",
   "execution_count": 110,
   "metadata": {},
   "outputs": [
    {
     "data": {
      "text/plain": [
       "(K_conductor, K_vacuum, a, c, epsilon_xx_, k_z, mu_yy_, omega)"
      ]
     },
     "execution_count": 110,
     "metadata": {},
     "output_type": "execute_result"
    }
   ],
   "source": [
    "M6_det_K.variables()"
   ]
  },
  {
   "cell_type": "code",
   "execution_count": 111,
   "metadata": {},
   "outputs": [
    {
     "data": {
      "text/plain": [
       "(a,\n",
       " c,\n",
       " epsilon_xx,\n",
       " epsilon_zz,\n",
       " k_z,\n",
       " mu_yy,\n",
       " omega,\n",
       " sigma_e_xx,\n",
       " sigma_e_zz,\n",
       " sigma_m_yy)"
      ]
     },
     "execution_count": 111,
     "metadata": {},
     "output_type": "execute_result"
    }
   ],
   "source": [
    "M6_det.variables()"
   ]
  },
  {
   "cell_type": "code",
   "execution_count": 112,
   "metadata": {},
   "outputs": [],
   "source": [
    "M4_boundaries = GenerateMatrix(sys4_boundaries, vars6)"
   ]
  },
  {
   "cell_type": "code",
   "execution_count": 113,
   "metadata": {},
   "outputs": [
    {
     "data": {
      "text/html": [
       "<html>\\(\\displaystyle \\left(\\begin{array}{rrr}\n",
       "-1 & -1 & 1 \\\\\n",
       "e^{\\left(i \\, K_{\\mathit{vacuum}} a\\right)} & e^{\\left(-i \\, K_{\\mathit{vacuum}} a\\right)} & 0 \\\\\n",
       "\\frac{K_{\\mathit{vacuum}} c \\omega}{c^{2} k_{z}^{2} + \\omega^{2}} & -\\frac{K_{\\mathit{vacuum}} c \\omega}{c^{2} k_{z}^{2} + \\omega^{2}} & \\frac{K_{\\mathit{conductor}} c \\epsilon_{\\mathit{xx}} \\omega}{c^{2} k_{z}^{2} + \\epsilon_{\\mathit{xx}} \\mu_{\\mathit{yy}} \\omega^{2}} \\\\\n",
       "-\\frac{K_{\\mathit{vacuum}} c \\omega e^{\\left(i \\, K_{\\mathit{vacuum}} a\\right)}}{c^{2} k_{z}^{2} + \\omega^{2}} & \\frac{K_{\\mathit{vacuum}} c \\omega e^{\\left(-i \\, K_{\\mathit{vacuum}} a\\right)}}{c^{2} k_{z}^{2} + \\omega^{2}} & 0\n",
       "\\end{array}\\right)\\)</html>"
      ],
      "text/latex": [
       "$\\displaystyle \\left(\\begin{array}{rrr}\n",
       "-1 & -1 & 1 \\\\\n",
       "e^{\\left(i \\, K_{\\mathit{vacuum}} a\\right)} & e^{\\left(-i \\, K_{\\mathit{vacuum}} a\\right)} & 0 \\\\\n",
       "\\frac{K_{\\mathit{vacuum}} c \\omega}{c^{2} k_{z}^{2} + \\omega^{2}} & -\\frac{K_{\\mathit{vacuum}} c \\omega}{c^{2} k_{z}^{2} + \\omega^{2}} & \\frac{K_{\\mathit{conductor}} c \\epsilon_{\\mathit{xx}} \\omega}{c^{2} k_{z}^{2} + \\epsilon_{\\mathit{xx}} \\mu_{\\mathit{yy}} \\omega^{2}} \\\\\n",
       "-\\frac{K_{\\mathit{vacuum}} c \\omega e^{\\left(i \\, K_{\\mathit{vacuum}} a\\right)}}{c^{2} k_{z}^{2} + \\omega^{2}} & \\frac{K_{\\mathit{vacuum}} c \\omega e^{\\left(-i \\, K_{\\mathit{vacuum}} a\\right)}}{c^{2} k_{z}^{2} + \\omega^{2}} & 0\n",
       "\\end{array}\\right)$"
      ],
      "text/plain": [
       "[                                                                      -1                                                                       -1                                                                        1]\n",
       "[                                                        e^(I*K_vacuum*a)                                                        e^(-I*K_vacuum*a)                                                                        0]\n",
       "[                                  K_vacuum*c*omega/(c^2*k_z^2 + omega^2)                                  -K_vacuum*c*omega/(c^2*k_z^2 + omega^2) K_conductor*c*epsilon_xx_*omega/(c^2*k_z^2 + epsilon_xx_*mu_yy_*omega^2)]\n",
       "[                -K_vacuum*c*omega*e^(I*K_vacuum*a)/(c^2*k_z^2 + omega^2)                 K_vacuum*c*omega*e^(-I*K_vacuum*a)/(c^2*k_z^2 + omega^2)                                                                        0]"
      ]
     },
     "metadata": {},
     "output_type": "display_data"
    }
   ],
   "source": [
    "show(M4_boundaries)"
   ]
  },
  {
   "cell_type": "code",
   "execution_count": 114,
   "metadata": {},
   "outputs": [],
   "source": [
    "M4_boundaries_ReIm_K = GenerateMatrixReIm(sys4_boundaries, coefs_re_im_subs, vars6reim)"
   ]
  },
  {
   "cell_type": "code",
   "execution_count": 115,
   "metadata": {},
   "outputs": [],
   "source": [
    "M6_ReIm_K = GenerateMatrixReIm(sys6, coefs_re_im_subs, vars6reim)"
   ]
  },
  {
   "cell_type": "code",
   "execution_count": 116,
   "metadata": {},
   "outputs": [
    {
     "data": {
      "text/plain": [
       "(6, 6)"
      ]
     },
     "execution_count": 116,
     "metadata": {},
     "output_type": "execute_result"
    }
   ],
   "source": [
    "M6_ReIm_K.nrows(), M6_ReIm_K.ncols()"
   ]
  },
  {
   "cell_type": "code",
   "execution_count": 117,
   "metadata": {},
   "outputs": [
    {
     "data": {
      "text/plain": [
       "(a,\n",
       " c,\n",
       " epsilon_xx,\n",
       " epsilon_zz,\n",
       " k_z,\n",
       " mu_yy,\n",
       " omega,\n",
       " sigma_e_xx,\n",
       " sigma_e_zz,\n",
       " sigma_m_yy)"
      ]
     },
     "execution_count": 117,
     "metadata": {},
     "output_type": "execute_result"
    }
   ],
   "source": [
    "M6.variables()"
   ]
  },
  {
   "cell_type": "code",
   "execution_count": 118,
   "metadata": {},
   "outputs": [
    {
     "data": {
      "text/plain": [
       "(K_conductor, K_vacuum, a, c, epsilon_xx_, kz, mu_yy_, omega, sz)"
      ]
     },
     "execution_count": 118,
     "metadata": {},
     "output_type": "execute_result"
    }
   ],
   "source": [
    "M6_ReIm_K.variables()"
   ]
  },
  {
   "cell_type": "code",
   "execution_count": null,
   "metadata": {},
   "outputs": [],
   "source": []
  },
  {
   "cell_type": "code",
   "execution_count": 119,
   "metadata": {},
   "outputs": [
    {
     "data": {
      "text/plain": [
       "(K_conductor, K_vacuum, a, c, epsilon_xx_, kz, mu_yy_, omega, sz)"
      ]
     },
     "execution_count": 119,
     "metadata": {},
     "output_type": "execute_result"
    }
   ],
   "source": [
    "M6_det_K_kz_sz = M6_det_K.subs(k_z == kz + I * sz)\n",
    "M6_det_K_kz_sz.variables()"
   ]
  },
  {
   "cell_type": "code",
   "execution_count": 120,
   "metadata": {},
   "outputs": [
    {
     "data": {
      "text/plain": [
       "(a,\n",
       " c,\n",
       " epsilon_xx,\n",
       " epsilon_zz,\n",
       " kz,\n",
       " mu_yy,\n",
       " omega,\n",
       " sigma_e_xx,\n",
       " sigma_e_zz,\n",
       " sigma_m_yy,\n",
       " sz)"
      ]
     },
     "execution_count": 120,
     "metadata": {},
     "output_type": "execute_result"
    }
   ],
   "source": [
    "M6_det_kz_sz = M6_det.subs(k_z == kz + I * sz)\n",
    "M6_det_kz_sz.variables()"
   ]
  },
  {
   "cell_type": "raw",
   "metadata": {},
   "source": [
    "display(Math(latex(M6_det_kz_sz)))"
   ]
  },
  {
   "cell_type": "code",
   "execution_count": null,
   "metadata": {},
   "outputs": [],
   "source": []
  },
  {
   "cell_type": "code",
   "execution_count": 121,
   "metadata": {},
   "outputs": [],
   "source": [
    "M6_det_d = M6_det_kz_sz.subs(digit_values)"
   ]
  },
  {
   "cell_type": "code",
   "execution_count": 122,
   "metadata": {},
   "outputs": [
    {
     "data": {
      "text/plain": [
       "(kz, sz)"
      ]
     },
     "execution_count": 122,
     "metadata": {},
     "output_type": "execute_result"
    }
   ],
   "source": [
    "M6_det_d.variables()"
   ]
  },
  {
   "cell_type": "code",
   "execution_count": 123,
   "metadata": {},
   "outputs": [],
   "source": [
    "def init_det_plot2d(kz_min, kz_max, nk, sz_min, sz_max, ns):\n",
    "    import numpy as np\n",
    "\n",
    "    kz_linspace = np.linspace(np.float128(kz_min), np.float128(kz_max), nk)\n",
    "    sz_linspace = np.linspace(np.float128(sz_min), np.float128(sz_max), ns)\n",
    "\n",
    "    kz_list = kz_linspace.tolist()\n",
    "    sz_list = sz_linspace.tolist()\n",
    "\n",
    "    kz_grid, sz_grid = np.meshgrid(kz_linspace, sz_linspace)\n",
    "\n",
    "    u = kz_grid * np.nan\n",
    "    v = sz_grid * np.nan\n",
    "    \n",
    "    return kz_grid, sz_grid, kz_list, sz_list, u, v"
   ]
  },
  {
   "cell_type": "code",
   "execution_count": 124,
   "metadata": {},
   "outputs": [],
   "source": [
    "def make_det_plot2d(M_d):\n",
    "    import numpy as np\n",
    "    \n",
    "    for ikz in np.arange(0, len(kz_list), 1):\n",
    "        print(ikz, len(kz_list))\n",
    "        for isz in np.arange(0, len(sz_list), 1):\n",
    "            kz_i = kz_list[ikz]\n",
    "            sz_i = sz_list[isz]\n",
    "            try:\n",
    "                M_d_i = M_d.subs(kz == kz_i).subs(sz == sz_i)\n",
    "                u[isz][ikz] = M_d_i.real().n()\n",
    "                v[isz][ikz] = M_d_i.imag().n()\n",
    "                # print(kz_i, sz_i, u[isz][ikz], v[isz][ikz])\n",
    "            except Exception as ex:\n",
    "                print(ex)                "
   ]
  },
  {
   "cell_type": "code",
   "execution_count": 125,
   "metadata": {},
   "outputs": [],
   "source": [
    "if make_investigation_plots:\n",
    "    kz_grid, sz_grid, kz_list, sz_list, u, v = init_det_plot2d(\n",
    "                                         kz_min=-1e-1, kz_max=1e-1, nk=20,\n",
    "                                         sz_min=-1e+2, sz_max=1e+2, ns=20)\n",
    "    # if nk == 201 I have \n",
    "    # negative number cannot be raised to a fractional power"
   ]
  },
  {
   "cell_type": "code",
   "execution_count": 126,
   "metadata": {},
   "outputs": [
    {
     "name": "stdout",
     "output_type": "stream",
     "text": [
      "0 20\n",
      "-0.10000000000000000555 -100.0 -0.40261408600978615402 0.115877210677373360115\n",
      "-0.10000000000000000555 -89.47368421052631579 0.61616757805982480534 -0.29598422656411543796\n",
      "-0.10000000000000000555 -78.94736842105263158 -0.12573415131770843134 0.090770448996986760615\n",
      "-0.10000000000000000555 -68.421052631578947366 -0.13699117640164243381 -0.3603365480788262576\n",
      "-0.10000000000000000555 -57.894736842105263157 0.47672497619582149264 0.8990135980003317595\n",
      "-0.10000000000000000555 -47.368421052631578948 -0.28016122313875441163 -0.25124784248504972162\n",
      "-0.10000000000000000555 -36.842105263157894735 -0.5007920706253649046 -1.2881500607547433646\n",
      "-0.10000000000000000555 -26.315789473684210523 0.9522763534783417194 1.7602268066594848328\n",
      "-0.10000000000000000555 -15.789473684210526314 -0.3028193211057798595 -0.07162615780779671426\n",
      "-0.10000000000000000555 -5.2631578947368421045 -0.8386083008593734345 -2.023944848212073655\n",
      "-0.10000000000000000555 5.2631578947368421045 -1.080262114445478927 -1.9058857299393587859\n",
      "-0.10000000000000000555 15.7894736842105263205 0.12906534365836519473 -0.2829591701422506378\n",
      "-0.10000000000000000555 26.31578947368421053 0.8110292647293665391 1.8296674174298490634\n",
      "-0.10000000000000000555 36.842105263157894746 -0.71865517950088508847 -1.1806016683513325116\n",
      "-0.10000000000000000555 47.368421052631578955 -0.031908297419332730394 -0.37496568980690037076\n",
      "-0.10000000000000000555 57.894736842105263164 0.44225420242760576928 0.91665855585225552993\n",
      "-0.10000000000000000555 68.42105263157894737 -0.22353235053364356455 -0.31454543073789542618\n",
      "-0.10000000000000000555 78.94736842105263158 -0.15405558613692058034 0.022584291489312222079\n",
      "-0.10000000000000000555 89.47368421052631579 0.62139820629505748695 -0.2852787394474148308\n",
      "-0.10000000000000000555 100.0 -0.3423689054473976201 0.24154635499905013907\n",
      "1 20\n",
      "-0.08947368421052632076 -100.0 -0.3990511492627612511 0.12232524249790155402\n",
      "-0.08947368421052632076 -89.47368421052631579 0.6158299913670465253 -0.2951298534481955893\n",
      "-0.08947368421052632076 -78.94736842105263158 -0.12716675011509581683 0.08715848442045738553\n",
      "-0.08947368421052632076 -68.421052631578947366 -0.14141152349818741918 -0.3576491317449654872\n",
      "-0.08947368421052632076 -57.894736842105263157 0.47444347017762200647 0.8990258859834345806\n",
      "-0.08947368421052632076 -47.368421052631578948 -0.26687305647659792518 -0.2574020580760680299\n",
      "-0.08947368421052632076 -36.842105263157894735 -0.5117055805689104675 -1.2812864584707237547\n",
      "-0.08947368421052632076 -26.315789473684210523 0.94393694077805023745 1.7620871805079130201\n",
      "-0.08947368421052632076 -15.789473684210526314 -0.27992120635230149928 -0.082568591279312097964\n",
      "-0.08947368421052632076 -5.2631578947368421045 -0.8504125403311595388 -2.015766491805105698\n",
      "-0.08947368421052632076 5.2631578947368421045 -1.0665565324446104611 -1.9101700862782755586\n",
      "-0.08947368421052632076 15.7894736842105263205 0.106373564649813914795 -0.2715932185550556932\n",
      "-0.08947368421052632076 26.31578947368421053 0.8175970961639366097 1.8241989689196407287\n",
      "-0.08947368421052632076 36.842105263157894746 -0.70656815841003595136 -1.1850922604021338902\n",
      "-0.08947368421052632076 47.368421052631578955 -0.044824864747334304538 -0.36806065178744340471\n",
      "-0.08947368421052632076 57.894736842105263164 0.44360737729734189827 0.91481017396277108933\n",
      "-0.08947368421052632076 68.42105263157894737 -0.21881379503083703275 -0.31669334458926778897\n",
      "-0.08947368421052632076 78.94736842105263158 -0.15249655377364129683 0.026173180166850575773\n",
      "-0.08947368421052632076 89.47368421052631579 0.62050749230751789387 -0.28555627569004593536\n",
      "-0.08947368421052632076 100.0 -0.3451652703245071674 0.23472908099967432216\n",
      "2 20\n",
      "-0.078947368421052635965 -100.0 -0.39553386255873324018 0.12878767617035571935\n",
      "-0.078947368421052635965 -89.47368421052631579 0.61556039317001831623 -0.29430844432589353676\n",
      "-0.078947368421052635965 -78.94736842105263158 -0.12860463594024201806 0.08355169300891242268\n",
      "-0.078947368421052635965 -68.421052631578947366 -0.14584358485486970114 -0.35499428320312881313\n",
      "-0.078947368421052635965 -57.894736842105263157 0.47221469967515095068 0.89913988885353379743\n",
      "-0.078947368421052635965 -47.368421052631578948 -0.2536177411464757836 -0.26359205236089466862\n",
      "-0.078947368421052635965 -36.842105263157894735 -0.5226731767285026642 -1.2745605643599005052\n",
      "-0.078947368421052635965 -26.315789473684210523 0.93570272355760886196 1.764145296971365573\n",
      "-0.078947368421052635965 -15.789473684210526314 -0.25705598940732438118 -0.09352415054154845919\n",
      "-0.078947368421052635965 -5.2631578947368421045 -0.86231057308976533093 -2.0078109200740814622\n",
      "-0.078947368421052635965 5.2631578947368421045 -1.0529689472304468723 -1.9146654096172859294\n",
      "-0.078947368421052635965 15.7894736842105263205 0.083691690189486564466 -0.26026133698761533264\n",
      "-0.078947368421052635965 26.31578947368421053 0.82425707453751384524 1.8189346938032486811\n",
      "-0.078947368421052635965 36.842105263157894746 -0.69455775800918939655 -1.1897094518617881143\n",
      "-0.078947368421052635965 47.368421052631578955 -0.05774999042378552161 -0.361203505200633046\n",
      "-0.078947368421052635965 57.894736842105263164 0.44501122790422226183 0.91306460912679621167\n",
      "-0.078947368421052635965 68.42105263157894737 -0.21411672711167453742 -0.31886875288158861297\n",
      "-0.078947368421052635965 78.94736842105263158 -0.15094628613505989279 0.029759450336785578384\n",
      "-0.078947368421052635965 89.47368421052631579 0.6196856122814219381 -0.2858651029270620758\n",
      "-0.078947368421052635965 100.0 -0.34800138142765330018 0.22793853922047052629\n",
      "3 20\n",
      "-0.068421052631578951165 -100.0 -0.3920618387268183791 0.13526521968664317885\n",
      "-0.068421052631578951165 -89.47368421052631579 0.6153587725174954892 -0.2935198718895171699\n",
      "-0.068421052631578951165 -78.94736842105263158 -0.13004801328176560093 0.07994961689717515474\n",
      "-0.068421052631578951165 -68.421052631578947366 -0.15028792488048112186 -0.35237168254352030372\n",
      "-0.068421052631578951165 -57.894736842105263157 0.47003849694044164131 0.89935557943697319594\n",
      "-0.068421052631578951165 -47.368421052631578948 -0.24039382368486575392 -0.26981849608556485176\n",
      "-0.068421052631578951165 -36.842105263157894735 -0.53369613179926489455 -1.2679716105141947136\n",
      "-0.068421052631578951165 -26.315789473684210523 0.9275728443980125748 1.7664013552476540703\n",
      "-0.068421052631578951165 -15.789473684210526314 -0.23422113505878405793 -0.1044940459345555378\n",
      "-0.068421052631578951165 -5.2631578947368421045 -0.8743037325342448707 -2.0000772447583625713\n",
      "-0.068421052631578951165 5.2631578947368421045 -1.0394978383457529336 -1.9193722051265658113\n",
      "-0.068421052631578951165 15.7894736842105263205 0.06101720874636534786 -0.2489622662867380376\n",
      "-0.068421052631578951165 26.31578947368421053 0.83100988070942183317 1.8138740331565412767\n",
      "-0.068421052631578951165 36.842105263157894746 -0.6826225937570878921 -1.1944537847496690119\n",
      "-0.068421052631578951165 47.368421052631578955 -0.07068508523479759276 -0.35439349264571012865\n",
      "-0.068421052631578951165 57.894736842105263164 0.4464658290133673435 0.91142170438415837097\n",
      "-0.068421052631578951165 68.42105263157894737 -0.20944055850951776021 -0.32107193403735062587\n",
      "-0.068421052631578951165 78.94736842105263158 -0.14940457747167182334 0.033343563160061151507\n",
      "-0.068421052631578951165 89.47368421052631579 0.61893245549536357597 -0.28620529126644439488\n",
      "-0.068421052631578951165 100.0 -0.35087754767850720672 0.22117398383188363598\n",
      "4 20\n",
      "-0.057894736842105266372 -100.0 -0.38863469578278231342 0.14175858280998918093\n",
      "-0.057894736842105266372 -89.47368421052631579 0.61522512602076151467 -0.2927640125244821423\n",
      "-0.057894736842105266372 -78.94736842105263158 -0.13149708650053396064 0.076351798455764396945\n",
      "-0.057894736842105266372 -68.421052631578947366 -0.15474510893841236792 -0.34978101272840400604\n",
      "-0.057894736842105266372 -57.894736842105263157 0.46791470008332003427 0.8996729420687451517\n",
      "-0.057894736842105266372 -47.368421052631578948 -0.22719985447410145918 -0.27608206483922026475\n",
      "-0.057894736842105266372 -36.842105263157894735 -0.54477572433155185827 -1.261518843735307982\n",
      "-0.057894736842105266372 -26.315789473684210523 0.91954645752880936893 1.7688555767690992138\n",
      "-0.057894736842105266372 -15.789473684210526314 -0.211414111673409566 -0.11547948983085404295\n"
     ]
    },
    {
     "name": "stdout",
     "output_type": "stream",
     "text": [
      "-0.057894736842105266372 -5.2631578947368421045 -0.8863933625797444371 -1.9925646021713718792\n",
      "-0.057894736842105266372 5.2631578947368421045 -1.0261416982448470225 -1.924291001381449373\n",
      "-0.057894736842105266372 15.7894736842105263205 0.038347609401404435248 -0.23769475138223722377\n",
      "-0.057894736842105266372 26.31578947368421053 0.837856206003717463 1.8090164508749788652\n",
      "-0.057894736842105266372 36.842105263157894746 -0.67076128926419531506 -1.1993258146642786777\n",
      "-0.057894736842105266372 47.368421052631578955 -0.08363156146721650863 -0.34762986273492474387\n",
      "-0.057894736842105266372 57.894736842105263164 0.44797126117790880828 0.90988131432826979683\n",
      "-0.057894736842105266372 68.42105263157894737 -0.20478470298998258103 -0.32330316880060494533\n",
      "-0.057894736842105266372 78.94736842105263158 -0.14787122231787230842 0.036925979148436385846\n",
      "-0.057894736842105266372 89.47368421052631579 0.61824791890436214814 -0.28657691428710446724\n",
      "-0.057894736842105266372 100.0 -0.3537940826129844507 0.21443467197232812804\n",
      "5 20\n",
      "-0.04736842105263158158 -100.0 -0.3852520568868434414 0.1482684771529463319\n",
      "-0.04736842105263158158 -89.47368421052631579 0.6151594578552466164 -0.29204074629165088783\n",
      "-0.04736842105263158158 -78.94736842105263158 -0.13295205985753588696 0.072757780232124036335\n",
      "-0.04736842105263158158 -68.421052631578947366 -0.15921570341765686751 -0.34722195955371504272\n",
      "-0.04736842105263158158 -57.894736842105263157 0.46584315306216150798 0.90009197258629447536\n",
      "-0.04736842105263158158 -47.368421052631578948 -0.21403438758333151459 -0.2823834391272844191\n",
      "-0.04736842105263158158 -36.842105263157894735 -0.5559132388791372392 -1.2552015254487109974\n",
      "-0.04736842105263158158 -26.315789473684210523 0.91162272874040539694 1.7715082052239572441\n",
      "-0.04736842105263158158 -15.789473684210526314 -0.18863239091546196713 -0.12648169676936360517\n",
      "-0.04736842105263158158 -5.2631578947368421045 -0.89858081780839593744 -1.9852721531039521086\n",
      "-0.04736842105263158158 5.2631578947368421045 -1.0128990321245543438 -1.9294223504219105703\n",
      "-0.04736842105263158158 15.7894736842105263205 0.015680381569158751559 -0.22645754114703323112\n",
      "-0.04736842105263158158 26.31578947368421053 0.8447967522795784001 1.804361433616906929\n",
      "-0.04736842105263158158 36.842105263157894746 -0.658972476134109475 -1.2043261108482767874\n",
      "-0.04736842105263158158 47.368421052631578955 -0.09659083306280043246 -0.3409118700104566413\n",
      "-0.04736842105263158158 57.894736842105263164 0.44952761073897573585 0.9084433050939699772\n",
      "-0.04736842105263158158 68.42105263157894737 -0.20014857627799836903 -0.32556274027210230226\n",
      "-0.04736842105263158158 78.94736842105263158 -0.14634601546483541612 0.040507158223930243846\n",
      "-0.04736842105263158158 89.47368421052631579 0.6176319071262706961 -0.28698004905090279681\n",
      "-0.04736842105263158158 100.0 -0.3567513044155189994 0.20771986366633274357\n",
      "6 20\n",
      "-0.03684210526315789678 -100.0 -0.38191355030202300824 0.1547956162556009263\n",
      "-0.03684210526315789678 -89.47368421052631579 0.6151617797630055673 -0.29134995691009529795\n",
      "-0.03684210526315789678 -78.94736842105263158 -0.13441313754171760331 0.06916710489186909949\n",
      "-0.03684210526315789678 -68.421052631578947366 -0.16370027580404525325 -0.34469421161113933394\n",
      "-0.03684210526315789678 -57.894736842105263157 0.46382370567533126593 0.90061267832485181195\n",
      "-0.03684210526315789678 -47.368421052631578948 -0.20089598061003577367 -0.28872330444543048422\n",
      "-0.03684210526315789678 -36.842105263157894735 -0.5671099661478734566 -1.2490189316190218882\n",
      "-0.03684210526315789678 -26.315789473684210523 0.9038008352976099058 1.7743595065802537647\n",
      "-0.03684210526315789678 -15.789473684210526314 -0.1658734474660177316 -0.13750188359013970629\n",
      "-0.03684210526315789678 -5.2631578947368421045 -0.91086746362139248134 -1.9781990827304192226\n",
      "-0.03684210526315789678 5.2631578947368421045 -0.99976835775656802685 -1.9347668278146197274\n",
      "-0.03684210526315789678 15.7894736842105263205 -0.006986985280887791569 -0.21524938825818190624\n",
      "-0.03684210526315789678 26.31578947368421053 0.8518322320028359762 1.7999084907493081431\n",
      "-0.03684210526315789678 36.842105263157894746 -0.64725479380579009625 -1.209455256254720279\n",
      "-0.03684210526315789678 47.368421052631578955 -0.10956431577268831157 -0.3342387748622616117\n",
      "-0.03684210526315789678 57.894736842105263164 0.45113496982651085654 0.90710755434683232323\n",
      "-0.03684210526315789678 68.42105263157894737 -0.19553159598515240658 -0.32785093394487663243\n",
      "-0.03684210526315789678 78.94736842105263158 -0.14482875193340044584 0.044087559778188033233\n",
      "-0.03684210526315789678 89.47368421052631579 0.6170843324290513632 -0.28741477611505811263\n",
      "-0.03684210526315789678 100.0 -0.3597495359538273596 0.2010288217429950508\n",
      "7 20\n",
      "-0.026315789473684211986 -100.0 -0.37861880935330399778 0.16134071566397759079\n",
      "-0.026315789473684211986 -89.47368421052631579 0.61523211105609754146 -0.29069153174026157727\n",
      "-0.026315789473684211986 -78.94736842105263158 -0.13588052369723252477 0.06557931515981113568\n",
      "-0.026315789473684211986 -68.421052631578947366 -0.16819939475135070595 -0.34219746025016600788\n",
      "-0.026315789473684211986 -57.894736842105263157 0.46185621355324602 0.9012350781138448452\n",
      "-0.026315789473684211986 -47.368421052631578948 -0.18778319452193381611 -0.2951023513541758403\n",
      "-0.026315789473684211986 -36.842105263157894735 -0.57836720314520995156 -1.2429703526671433966\n",
      "-0.026315789473684211986 -26.315789473684210523 0.8960799658545552937 1.7774097691122889842\n",
      "-0.026315789473684211986 -15.789473684210526314 -0.14313475874251840869 -0.1485412695690474516\n",
      "-0.026315789473684211986 -5.2631578947368421045 -0.92325467639226022065 -1.9713446005173604902\n",
      "-0.026315789473684211986 5.2631578947368421045 -0.98674820532122931027 -1.9403250327176482237\n",
      "-0.026315789473684211986 15.7894736842105263205 -0.029657001902776886776 -0.20406904905807707329\n",
      "-0.026315789473684211986 26.31578947368421053 0.85896336831877895257 1.7956571542962784793\n",
      "-0.026315789473684211986 36.842105263157894746 -0.63560688939666798447 -1.2147138476150640685\n",
      "-0.026315789473684211986 47.368421052631578955 -0.12255342731212282015 -0.32760984344661403522\n",
      "-0.026315789473684211986 57.894736842105263164 0.45279343636057933775 0.9058739512736139199\n",
      "-0.026315789473684211986 68.42105263157894737 -0.19093318153710514551 -0.33016803773969760627\n",
      "-0.026315789473684211986 78.94736842105263158 -0.14331922694640547578 0.047667642731549123014\n",
      "-0.026315789473684211986 89.47368421052631579 0.6166051147189388626 -0.28788117954499847784\n",
      "-0.026315789473684211986 100.0 -0.36278910481433607194 0.19436081175494618334\n",
      "8 20\n",
      "-0.015789473684210527193 -100.0 -0.37536747238708179086 0.16790449300879084493\n",
      "-0.015789473684210527193 -89.47368421052631579 0.6153704786207037092 -0.29006536176756120282\n",
      "-0.015789473684210527193 -78.94736842105263158 -0.13735442245143669737 0.061993953761339745667\n",
      "-0.015789473684210527193 -68.421052631578947366 -0.17271363015264742935 -0.33973139954060638246\n",
      "-0.015789473684210527193 -57.894736842105263157 0.45994053815108620897 0.90195920227471215735\n",
      "-0.015789473684210527193 -47.368421052631578948 -0.17469459349927984881 -0.30152127555406610382\n",
      "-0.015789473684210527193 -36.842105263157894735 -0.5896862533301434617 -1.2370550933887511924\n",
      "-0.015789473684210527193 -26.315789473684210523 0.88845932037076869037 1.7806593034294562194\n",
      "-0.015789473684210527193 -15.789473684210526314 -0.12041380461871449559 -0.15960107655303013008\n",
      "-0.015789473684210527193 -5.2631578947368421045 -0.93574384362134044313 -1.9647079401350675543\n",
      "-0.015789473684210527193 5.2631578947368421045 -0.97383711724265198395 -1.9460975879477366846\n",
      "-0.015789473684210527193 15.7894736842105263205 -0.052332179552755007934 -0.19291528341633121246\n",
      "-0.015789473684210527193 26.31578947368421053 0.86619089512608560266 1.7916069788898254522\n",
      "-0.015789473684210527193 36.842105263157894746 -0.6240274175465704287 -1.2201024955083143997\n",
      "-0.015789473684210527193 47.368421052631578955 -0.13555958751540347906 -0.32102434760531478597\n",
      "-0.015789473684210527193 57.894736842105263164 0.45450311405342264104 0.9047423965740570839\n",
      "-0.015789473684210527193 68.42105263157894737 -0.1863527541012785782 -0.3325143420409817363\n",
      "-0.015789473684210527193 78.94736842105263158 -0.14181723590182945816 0.051247865592340430263\n"
     ]
    },
    {
     "name": "stdout",
     "output_type": "stream",
     "text": [
      "-0.015789473684210527193 89.47368421052631579 0.6161941815294019742 -0.28837934692751376886\n",
      "-0.015789473684210527193 100.0 -0.3658703433380536274 0.1877151018973306773\n",
      "9 20\n",
      "-0.0052631578947368424 -100.0 -0.37215918273149045659 0.17448766808427815245\n",
      "-0.0052631578947368424 -89.47368421052631579 0.6155769169222027326 -0.28947134158636167456\n",
      "-0.0052631578947368424 -78.94736842105263158 -0.13883503794211660143 0.05841056336342572569\n",
      "-0.0052631578947368424 -68.421052631578947366 -0.17724355321174831146 -0.3372957262352874741\n",
      "-0.0052631578947368424 -57.894736842105263157 0.45807654674222636482 0.9027850926200998716\n",
      "-0.0052631578947368424 -47.368421052631578948 -0.16162874477770020065 -0.3079807779616184904\n",
      "-0.0052631578947368424 -36.842105263157894735 -0.6010684267641617229 -1.2312724728746353708\n",
      "-0.0052631578947368424 -26.315789473684210523 0.88093811002861766024 1.7841084425076643161\n",
      "-0.0052631578947368424 -15.789473684210526314 -0.09770806714477052457 -0.17068252909539560758\n",
      "-0.0052631578947368424 -5.2631578947368421045 -0.94833636409153021507 -1.9582883593717343995\n",
      "-0.0052631578947368424 5.2631578947368421045 -0.96103364802524282595 -1.9520851400502554629\n",
      "-0.0052631578947368424 15.7894736842105263205 -0.075015030267863755387 -0.18178685459179513839\n",
      "-0.0052631578947368424 26.31578947368421053 0.8735155571519651607 1.7877575417233486643\n",
      "-0.0052631578947368424 36.842105263157894746 -0.6125150402625172408 -1.225621824432098439\n",
      "-0.0052631578947368424 47.368421052631578955 -0.14858421849111114188 -0.31448156478579736284\n",
      "-0.0052631578947368424 57.894736842105263164 0.45626411241219722026 0.90371280245409435494\n",
      "-0.0052631578947368424 68.42105263157894737 -0.18178973651466634465 -0.33489013973285519654\n",
      "-0.0052631578947368424 78.94736842105263158 -0.14032257434513845107 0.054828686515856039918\n",
      "-0.0052631578947368424 89.47368421052631579 0.61585146801102563785 -0.28890936938438604997\n",
      "-0.0052631578947368424 100.0 -0.3689935886570581136 0.18109096292742682399\n",
      "10 20\n",
      "0.005263157894736842393 -100.0 -0.3689935886570611112 0.18109096292742055123\n",
      "0.005263157894736842393 -89.47368421052631579 0.6158514680110258599 -0.28890936938438543935\n",
      "0.005263157894736842393 -78.94736842105263158 -0.14032257434513728533 0.05482868651585871833\n",
      "0.005263157894736842393 -68.421052631578947366 -0.18178973651466326378 -0.33489013973285669534\n",
      "0.005263157894736842393 -57.894736842105263157 0.45626411241219605452 0.90371280245409479903\n",
      "0.005263157894736842393 -47.368421052631578948 -0.1485842184911169983 -0.31448156478579442075\n",
      "0.005263157894736842393 -36.842105263157894735 -0.61251504026252212576 -1.2256218244320959965\n",
      "0.005263157894736842393 -26.315789473684210523 0.8735155571519669371 1.7877575417233477761\n",
      "0.005263157894736842393 -15.789473684210526314 -0.075015030267859564295 -0.18178685459179716455\n",
      "0.005263157894736842393 -5.2631578947368421045 -0.96103364802524227084 -1.952085140050255907\n",
      "0.005263157894736842393 5.2631578947368421045 -0.9483363640915308812 -1.9582883593717341775\n",
      "0.005263157894736842393 15.7894736842105263205 -0.09770806714477471566 -0.17068252909539355366\n",
      "0.005263157894736842393 26.31578947368421053 0.88093811002861577286 1.7841084425076647602\n",
      "0.005263157894736842393 36.842105263157894746 -0.6010684267641563938 -1.2312724728746375913\n",
      "0.005263157894736842393 47.368421052631578955 -0.16162874477769434423 -0.307980777961621488\n",
      "0.005263157894736842393 57.894736842105263164 0.45807654674222753055 0.90278509262009931646\n",
      "0.005263157894736842393 68.42105263157894737 -0.17724355321175130906 -0.33729572623528586428\n",
      "0.005263157894736842393 78.94736842105263158 -0.1388350379421176839 0.05841056336342304034\n",
      "0.005263157894736842393 89.47368421052631579 0.61557691692220239954 -0.28947134158636228518\n",
      "0.005263157894736842393 100.0 -0.37215918273148734796 0.17448766808428434194\n",
      "11 20\n",
      "0.015789473684210527193 -100.0 -0.36587034333805645847 0.18771510189732429352\n",
      "0.015789473684210527193 -89.47368421052631579 0.61619418152940175215 -0.28837934692751426846\n",
      "0.015789473684210527193 -78.94736842105263158 -0.14181723590182832018 0.05124786559234315031\n",
      "0.015789473684210527193 -68.421052631578947366 -0.18635275410128218643 -0.3325143420409797934\n",
      "0.015789473684210527193 -57.894736842105263157 0.45450311405342369575 0.90474239657405630677\n",
      "0.015789473684210527193 -47.368421052631578948 -0.1355595875153962071 -0.3210243476053183942\n",
      "0.015789473684210527193 -36.842105263157894735 -0.62402741754656620987 -1.2201024955083163981\n",
      "0.015789473684210527193 -26.315789473684210523 0.8661908951260832712 1.7916069788898265625\n",
      "0.015789473684210527193 -15.789473684210526314 -0.05233217955275842881 -0.19291528341632951937\n",
      "0.015789473684210527193 -5.2631578947368421045 -0.9738371172426513178 -1.9460975879477369066\n",
      "0.015789473684210527193 5.2631578947368421045 -0.9357438436213412203 -1.9647079401350671102\n",
      "0.015789473684210527193 15.7894736842105263205 -0.12041380461871108165 -0.15960107655303176766\n",
      "0.015789473684210527193 26.31578947368421053 0.88845932037077102184 1.7806593034294551092\n",
      "0.015789473684210527193 36.842105263157894746 -0.5896862533301474585 -1.237055093388748972\n",
      "0.015789473684210527193 47.368421052631578955 -0.17469459349928709302 -0.3015212755540624956\n",
      "0.015789473684210527193 57.894736842105263164 0.45994053815108509875 0.90195920227471271247\n",
      "0.015789473684210527193 68.42105263157894737 -0.17271363015264384888 -0.33973139954060832535\n",
      "0.015789473684210527193 78.94736842105263158 -0.13735442245143775208 0.061993953761337004804\n",
      "0.015789473684210527193 89.47368421052631579 0.61537047862070393123 -0.2900653617675606477\n",
      "0.015789473684210527193 100.0 -0.3753674723870784602 0.16790449300879697891\n",
      "12 20\n",
      "0.026315789473684211993 -100.0 -0.36278910481433901403 0.19436081175493979956\n",
      "0.026315789473684211993 -89.47368421052631579 0.6166051147189383075 -0.28788117954499886642\n",
      "0.026315789473684211993 -78.94736842105263158 -0.1433192269464068358 0.0476676427315458201\n",
      "0.026315789473684211993 -68.421052631578947366 -0.190933181537108837 -0.3301680377396957744\n",
      "0.026315789473684211993 -57.894736842105263157 0.45279343636058033695 0.90587395127361325375\n",
      "0.026315789473684211993 -47.368421052631578948 -0.12255342731212869045 -0.32760984344661103762\n",
      "0.026315789473684211993 -36.842105263157894735 -0.6356068893966729805 -1.2147138476150620701\n",
      "0.026315789473684211993 -26.315789473684210523 0.85896336831878072893 1.7956571542962778132\n",
      "0.026315789473684211993 -15.789473684210526314 -0.029657001902772747726 -0.20406904905807915496\n",
      "0.026315789473684211993 -5.2631578947368421045 -0.98674820532122864414 -1.9403250327176482237\n",
      "0.026315789473684211993 5.2631578947368421045 -0.92325467639226077576 -1.9713446005173602682\n",
      "0.026315789473684211993 15.7894736842105263205 -0.14313475874252259978 -0.1485412695690454532\n",
      "0.026315789473684211993 26.31578947368421053 0.8960799658545534063 1.7774097691122896503\n",
      "0.026315789473684211993 36.842105263157894746 -0.5783672031452050666 -1.2429703526671460612\n",
      "0.026315789473684211993 47.368421052631578955 -0.18778319452192795969 -0.29510235135417872687\n",
      "0.026315789473684211993 57.894736842105263164 0.46185621355324474324 0.9012350781138451783\n",
      "0.026315789473684211993 68.42105263157894737 -0.16819939475134720874 -0.34219746025016800628\n",
      "0.026315789473684211993 78.94736842105263158 -0.13588052369723113699 0.06557931515981442472\n",
      "0.026315789473684211993 89.47368421052631579 0.6152321110560976525 -0.29069153174026096664\n",
      "0.026315789473684211993 100.0 -0.37861880935330100018 0.16134071566398386355\n",
      "13 20\n",
      "0.03684210526315789678 -100.0 -0.3597495359538238624 0.20102882174300282236\n",
      "0.03684210526315789678 -89.47368421052631579 0.61708433242905169624 -0.28741477611505755752\n",
      "0.03684210526315789678 -78.94736842105263158 -0.14482875193340183362 0.044087559778184737258\n",
      "0.03684210526315789678 -68.421052631578947366 -0.19553159598514957551 -0.32785093394487824225\n",
      "0.03684210526315789678 -57.894736842105263157 0.4511349698265096353 0.90710755434683343346\n",
      "0.03684210526315789678 -47.368421052631578948 -0.10956431577269426514 -0.3342387748622586141\n",
      "0.03684210526315789678 -36.842105263157894735 -0.6472547938057859884 -1.2094552562547220553\n",
      "0.03684210526315789678 -26.315789473684210523 0.8518322320028335337 1.7999084907493092533\n"
     ]
    },
    {
     "name": "stdout",
     "output_type": "stream",
     "text": [
      "0.03684210526315789678 -15.789473684210526314 -0.006986985280883595273 -0.2152493882581839324\n",
      "0.03684210526315789678 -5.2631578947368421045 -0.999768357756568804 -1.9347668278146195053\n",
      "0.03684210526315789678 5.2631578947368421045 -0.91086746362139192623 -1.9781990827304196667\n",
      "0.03684210526315789678 15.7894736842105263205 -0.16587344746602189494 -0.13750188359013768014\n",
      "0.03684210526315789678 26.31578947368421053 0.90380083529761212624 1.7743595065802526545\n",
      "0.03684210526315789678 36.842105263157894746 -0.56710996614787778647 -1.2490189316190196678\n",
      "0.03684210526315789678 47.368421052631578955 -0.20089598061002975071 -0.2887233044454333708\n",
      "0.03684210526315789678 57.894736842105263164 0.4638237056753326537 0.90061267832485170093\n",
      "0.03684210526315789678 68.42105263157894737 -0.16370027580404819534 -0.34469421161113789065\n",
      "0.03684210526315789678 78.94736842105263158 -0.13441313754171627104 0.069167104891872402406\n",
      "0.03684210526315789678 89.47368421052631579 0.6151617797630056783 -0.2913499569100960751\n",
      "0.03684210526315789678 100.0 -0.381913550302026783 0.15479561625559334903\n",
      "14 20\n",
      "0.04736842105263158158 -100.0 -0.35675130441552177496 0.20771986366632633203\n",
      "0.04736842105263158158 -89.47368421052631579 0.6176319071262711402 -0.28698004905090229721\n",
      "0.04736842105263158158 -78.94736842105263158 -0.14634601546483683165 0.040507158223926920115\n",
      "0.04736842105263158158 -68.421052631578947366 -0.2001485762779954547 -0.32556274027210374555\n",
      "0.04736842105263158158 -57.894736842105263157 0.44952761073897656852 0.90844330509396931106\n",
      "0.04736842105263158158 -47.368421052631578948 -0.09659083306280627501 -0.3409118700104536992\n",
      "0.04736842105263158158 -36.842105263157894735 -0.658972476134114471 -1.2043261108482741228\n",
      "0.04736842105263158158 -26.315789473684210523 0.8447967522795802875 1.8043614336169060408\n",
      "0.04736842105263158158 -15.789473684210526314 0.015680381569155181498 -0.22645754114703145476\n",
      "0.04736842105263158158 -5.2631578947368421045 -1.0128990321245536776 -1.9294223504219107923\n",
      "0.04736842105263158158 5.2631578947368421045 -0.8985808178083967146 -1.9852721531039516645\n",
      "0.04736842105263158158 15.7894736842105263205 -0.18863239091545838666 -0.12648169676936540928\n",
      "0.04736842105263158158 26.31578947368421053 0.91162272874040350956 1.7715082052239581323\n",
      "0.04736842105263158158 36.842105263157894746 -0.55591323887913235424 -1.255201525448713662\n",
      "0.04736842105263158158 47.368421052631578955 -0.21403438758332565817 -0.28238343912728730567\n",
      "0.04736842105263158158 57.894736842105263164 0.46584315306216045327 0.9000919725862948084\n",
      "0.04736842105263158158 68.42105263157894737 -0.15921570341765975409 -0.3472219595537134329\n",
      "0.04736842105263158158 78.94736842105263158 -0.13295205985753449918 0.072757780232127353126\n",
      "0.04736842105263158158 89.47368421052631579 0.6151594578552467274 -0.292040746291651776\n",
      "0.04736842105263158158 100.0 -0.38525205688684016625 0.1482684771529525769\n",
      "15 20\n",
      "0.057894736842105266365 -100.0 -0.35379408261298117555 0.21443467197233595511\n",
      "0.057894736842105266365 -89.47368421052631579 0.6182479189043628143 -0.28657691428710402315\n",
      "0.057894736842105266365 -78.94736842105263158 -0.1478712223178736962 0.03692597914843302742\n",
      "0.057894736842105266365 -68.421052631578947366 -0.20478470298998621701 -0.32330316880060311346\n",
      "0.057894736842105266365 -57.894736842105263157 0.44797126117790964095 0.9098813143282691307\n",
      "0.057894736842105266365 -47.368421052631578948 -0.08363156146722229567 -0.34762986273492169076\n",
      "0.057894736842105266365 -36.842105263157894735 -0.67076128926420031107 -1.1993258146642760131\n",
      "0.057894736842105266365 -26.315789473684210523 0.83785620600371901734 1.8090164508749773109\n",
      "0.057894736842105266365 -15.789473684210526314 0.03834760940140843899 -0.23769475138223922217\n",
      "0.057894736842105266365 -5.2631578947368421045 -1.0261416982448479107 -1.924291001381448929\n",
      "0.057894736842105266365 5.2631578947368421045 -0.88639336257974354893 -1.9925646021713725453\n",
      "0.057894736842105266365 15.7894736842105263205 -0.21141411167341364608 -0.11547948983085210006\n",
      "0.057894736842105266365 26.31578947368421053 0.91954645752880703746 1.7688555767690996579\n",
      "0.057894736842105266365 36.842105263157894746 -0.54477572433154675124 -1.2615188437353104245\n",
      "0.057894736842105266365 47.368421052631578955 -0.22719985447409554724 -0.27608206483922309582\n",
      "0.057894736842105266365 57.894736842105263164 0.46791470008331875752 0.8996729420687454848\n",
      "0.057894736842105266365 68.42105263157894737 -0.15474510893840873194 -0.34978101272840605995\n",
      "0.057894736842105266365 78.94736842105263158 -0.13149708650053265613 0.07635179845576775537\n",
      "0.057894736842105266365 89.47368421052631579 0.61522512602076151467 -0.29276401252448291945\n",
      "0.057894736842105266365 100.0 -0.38863469578278625471 0.14175858280998165917\n",
      "16 20\n",
      "0.068421052631578951165 -100.0 -0.35087754767850387605 0.22117398383189154631\n",
      "0.068421052631578951165 -89.47368421052631579 0.61893245549536402006 -0.2862052912664440063\n",
      "0.068421052631578951165 -78.94736842105263158 -0.14940457747167065761 0.033343563160063684203\n",
      "0.068421052631578951165 -68.421052631578947366 -0.20944055850951487363 -0.32107193403735201365\n",
      "0.068421052631578951165 -57.894736842105263157 0.44646582901336812066 0.9114217043841574828\n",
      "0.068421052631578951165 -47.368421052631578948 -0.070685085234790459574 -0.3543934926457138479\n",
      "0.068421052631578951165 -36.842105263157894735 -0.6826225937570928881 -1.1944537847496667915\n",
      "0.068421052631578951165 -26.315789473684210523 0.83100988070942372055 1.8138740331565403885\n",
      "0.068421052631578951165 -15.789473684210526314 0.06101720874636189923 -0.24896226628673631676\n",
      "0.068421052631578951165 -5.2631578947368421045 -1.0394978383457538218 -1.9193722051265655892\n",
      "0.068421052631578951165 5.2631578947368421045 -0.87430373253424420454 -2.0000772447583634595\n",
      "0.068421052631578951165 15.7894736842105263205 -0.23422113505878058848 -0.104494045934557217015\n",
      "0.068421052631578951165 26.31578947368421053 0.92757284439801068743 1.7664013552476549584\n",
      "0.068421052631578951165 36.842105263157894746 -0.5336961317992602316 -1.2679716105141976001\n",
      "0.068421052631578951165 47.368421052631578955 -0.24039382368487302588 -0.26981849608556135456\n",
      "0.068421052631578951165 57.894736842105263164 0.4700384969404405311 0.89935557943697330696\n",
      "0.068421052631578951165 68.42105263157894737 -0.15028792488048389742 -0.3523716825435187494\n",
      "0.068421052631578951165 78.94736842105263158 -0.13004801328176660014 0.07994961689717255959\n",
      "0.068421052631578951165 89.47368421052631579 0.61535877251749560024 -0.29351987188951789154\n",
      "0.068421052631578951165 100.0 -0.3920618387268224314 0.13526521968663562934\n",
      "17 20\n",
      "0.078947368421052635965 -100.0 -0.34800138142765008054 0.22793853922047838112\n",
      "0.078947368421052635965 -89.47368421052631579 0.61968561228142116093 -0.28586510292706213132\n",
      "0.078947368421052635965 -78.94736842105263158 -0.1509462861350586993 0.029759450336788263736\n",
      "0.078947368421052635965 -68.421052631578947366 -0.21411672711167151206 -0.31886875288159011177\n",
      "0.078947368421052635965 -57.894736842105263157 0.44501122790422126263 0.91306460912679721087\n",
      "0.078947368421052635965 -47.368421052631578948 -0.057749990423778325976 -0.36120350520063693178\n",
      "0.078947368421052635965 -36.842105263157894735 -0.69455775800918551077 -1.1897094518617898906\n",
      "0.078947368421052635965 -26.315789473684210523 0.82425707453751539955 1.8189346938032471268\n",
      "0.078947368421052635965 -15.789473684210526314 0.083691690189483552986 -0.26026133698761388935\n",
      "0.078947368421052635965 -5.2631578947368421045 -1.0529689472304475384 -1.9146654096172854853\n",
      "0.078947368421052635965 5.2631578947368421045 -0.8623105730897646648 -2.0078109200740823503\n",
      "0.078947368421052635965 15.7894736842105263205 -0.2570559894073214391 -0.09352415054154993024\n",
      "0.078947368421052635965 26.31578947368421053 0.93570272355760730765 1.764145296971366017\n",
      "0.078947368421052635965 36.842105263157894746 -0.52267317672850654997 -1.2745605643598982848\n",
      "0.078947368421052635965 47.368421052631578955 -0.2536177411464832221 -0.26359205236089139346\n",
      "0.078947368421052635965 57.894736842105263164 0.47221469967515233845 0.89913988885353379743\n",
      "0.078947368421052635965 68.42105263157894737 -0.14584358485487264323 -0.3549942832031271478\n",
      "0.078947368421052635965 78.94736842105263158 -0.1286046359402429895 0.083551693008909674876\n"
     ]
    },
    {
     "name": "stdout",
     "output_type": "stream",
     "text": [
      "0.078947368421052635965 89.47368421052631579 0.6155603931700177611 -0.29430844432589287063\n",
      "0.078947368421052635965 100.0 -0.395533862558737348 0.12878767617034822535\n",
      "18 20\n",
      "0.08947368421052632075 -100.0 -0.34516527032450383672 0.23472908099968226026\n",
      "0.08947368421052632075 -89.47368421052631579 0.6205074923075171167 -0.2855562756900462129\n",
      "0.08947368421052632075 -78.94736842105263158 -0.15249655377364282338 0.026173180166847290207\n",
      "0.08947368421052632075 -68.421052631578947366 -0.21881379503083397964 -0.31669334458926923226\n",
      "0.08947368421052632075 -57.894736842105263157 0.4436073772973425089 0.91481017396277009013\n",
      "0.08947368421052632075 -47.368421052631578948 -0.044824864747327240744 -0.36806065178744712396\n",
      "0.08947368421052632075 -36.842105263157894735 -0.70656815841003184353 -1.1850922604021352225\n",
      "0.08947368421052632075 -26.315789473684210523 0.81759709616393438925 1.824198968919642061\n",
      "0.08947368421052632075 -15.789473684210526314 0.106373564649810709026 -0.27159321855505402787\n",
      "0.08947368421052632075 -5.2631578947368421045 -1.0665565324446115714 -1.9101700862782762247\n",
      "0.08947368421052632075 5.2631578947368421045 -0.8504125403311595388 -2.0157664918051074743\n",
      "0.08947368421052632075 15.7894736842105263205 -0.27992120635229827963 -0.08256859127931362452\n",
      "0.08947368421052632075 26.31578947368421053 0.94393694077805267995 1.762087180507912354\n",
      "0.08947368421052632075 36.842105263157894746 -0.5117055805689140202 -1.2812864584707213123\n",
      "0.08947368421052632075 47.368421052631578955 -0.26687305647660514163 -0.25740205807606464372\n",
      "0.08947368421052632075 57.894736842105263164 0.47444347017762056318 0.89902588598343435855\n",
      "0.08947368421052632075 68.42105263157894737 -0.14141152349819038903 -0.35764913174496376636\n",
      "0.08947368421052632075 78.94736842105263158 -0.12716675011509445681 0.087158484420460702324\n",
      "0.08947368421052632075 89.47368421052631579 0.6158299913670465253 -0.29512985344819497868\n",
      "0.08947368421052632075 100.0 -0.39905114926276535892 0.122325242497894046134\n",
      "19 20\n",
      "0.10000000000000000555 -100.0 -0.3423689054474001181 0.24154635499904372753\n",
      "0.10000000000000000555 -89.47368421052631579 0.62139820629505859717 -0.28527873944741460877\n",
      "0.10000000000000000555 -78.94736842105263158 -0.1540555861369193591 0.02258429148931484498\n",
      "0.10000000000000000555 -68.421052631578947366 -0.22353235053364056695 -0.31454543073789686947\n",
      "0.10000000000000000555 -57.894736842105263157 0.4422542024276049366 0.9166585558522564181\n",
      "0.10000000000000000555 -47.368421052631578948 -0.031908297419338503553 -0.37496568980689731765\n",
      "0.10000000000000000555 -36.842105263157894735 -0.7186551795008901955 -1.1806016683513305132\n",
      "0.10000000000000000555 -26.315789473684210523 0.8110292647293643187 1.8296674174298506177\n",
      "0.10000000000000000555 -15.789473684210526314 0.12906534365836175304 -0.28295917014224902797\n",
      "0.10000000000000000555 -5.2631578947368421045 -1.0802621144454798152 -1.905885729939359674\n",
      "0.10000000000000000555 5.2631578947368421045 -0.8386083008593734345 -2.0239448482120749873\n",
      "0.10000000000000000555 15.7894736842105263205 -0.30281932110577647332 -0.07162615780779833796\n",
      "0.10000000000000000555 26.31578947368421053 0.95227635347834427293 1.7602268066594837226\n",
      "0.10000000000000000555 36.842105263157894746 -0.50079207062536024164 -1.2881500607547464732\n",
      "0.10000000000000000555 47.368421052631578955 -0.28016122313874852745 -0.25124784248505249717\n",
      "0.10000000000000000555 57.894736842105263164 0.47672497619582315798 0.89901359800033153746\n",
      "0.10000000000000000555 68.42105263157894737 -0.13699117640164529264 -0.36033654807882448123\n",
      "0.10000000000000000555 78.94736842105263158 -0.12573415131770943054 0.09077044899698404057\n",
      "0.10000000000000000555 89.47368421052631579 0.6161675780598251384 -0.29598422656411643716\n",
      "0.10000000000000000555 100.0 -0.40261408600978265682 0.115877210677379383075\n"
     ]
    }
   ],
   "source": [
    "if make_investigation_plots:\n",
    "    make_det_plot2d(M6_det_d)"
   ]
  },
  {
   "cell_type": "code",
   "execution_count": 127,
   "metadata": {},
   "outputs": [
    {
     "data": {
      "image/png": "[encoded data removed]",
      "text/plain": [
       "<Figure size 432x288 with 2 Axes>"
      ]
     },
     "metadata": {
      "needs_background": "light"
     },
     "output_type": "display_data"
    }
   ],
   "source": [
    "if make_investigation_plots:\n",
    "    import matplotlib.pyplot as plt\n",
    "    \n",
    "    fig,ax=plt.subplots(1,1)\n",
    "\n",
    "    cp = ax.contourf(kz_grid,sz_grid, u)\n",
    "    fig.colorbar(cp) # Add a colorbar to a plot\n",
    "    ax.set_title('M6 det real')\n",
    "    ax.set_xlabel('kz')\n",
    "    ax.set_ylabel('sz')\n",
    "    plt.show()"
   ]
  },
  {
   "cell_type": "code",
   "execution_count": 128,
   "metadata": {},
   "outputs": [
    {
     "data": {
      "image/png": "[encoded data removed]",
      "text/plain": [
       "<Figure size 432x288 with 2 Axes>"
      ]
     },
     "metadata": {
      "needs_background": "light"
     },
     "output_type": "display_data"
    }
   ],
   "source": [
    "if make_investigation_plots:\n",
    "    import matplotlib.pyplot as plt    \n",
    "    fig,ax=plt.subplots(1,1)\n",
    "\n",
    "    cp = ax.contourf(kz_grid,sz_grid, v)\n",
    "    fig.colorbar(cp) # Add a colorbar to a plot\n",
    "    ax.set_title('M6 det imag')\n",
    "    ax.set_xlabel('kz')\n",
    "    ax.set_ylabel('sz')\n",
    "    plt.show()"
   ]
  },
  {
   "cell_type": "markdown",
   "metadata": {},
   "source": [
    "Искомый волновой вектор можно найти графическим методом как точку пересечения двух нулевых изолиний на контурных графиках зависимости действительной и мнимой компонент детерминанта от действительной и мнимой компонент волнового вектора"
   ]
  },
  {
   "cell_type": "code",
   "execution_count": 129,
   "metadata": {},
   "outputs": [
    {
     "data": {
      "image/png": "[encoded data removed]",
      "text/plain": [
       "<Figure size 432x288 with 1 Axes>"
      ]
     },
     "metadata": {
      "needs_background": "light"
     },
     "output_type": "display_data"
    }
   ],
   "source": [
    "# Get coordinates from a contour\n",
    "# https://stackoverflow.com/questions/19418901/get-coordinates-from-a-contour\n",
    "if make_investigation_plots:\n",
    "    import matplotlib.pyplot as plt\n",
    "    fig, ax=plt.subplots(1,1)\n",
    "    cu = ax.contour(kz_grid,sz_grid, u)\n",
    "    cv = ax.contour(kz_grid,sz_grid, v)\n",
    "    plt.show()"
   ]
  },
  {
   "cell_type": "code",
   "execution_count": 130,
   "metadata": {},
   "outputs": [],
   "source": [
    "if make_investigation_plots:\n",
    "    cu_index_of_zero_level=cu.levels.tolist().index(0.)\n",
    "    cv_index_of_zero_level=cv.levels.tolist().index(0.)\n",
    "    cu_zero_levels_number = len(cu.allsegs[cu_index_of_zero_level])\n",
    "    cv_zero_levels_number = len(cv.allsegs[cv_index_of_zero_level])\n",
    "    cu_zero_levels_number, cv_zero_levels_number"
   ]
  },
  {
   "cell_type": "markdown",
   "metadata": {},
   "source": [
    "Get coordinates from a contour\n",
    "\n",
    "https://stackoverflow.com/questions/19418901/get-coordinates-from-a-contour"
   ]
  },
  {
   "cell_type": "code",
   "execution_count": 131,
   "metadata": {},
   "outputs": [
    {
     "data": {
      "image/png": "[encoded data removed]",
      "text/plain": [
       "Graphics object consisting of 52 graphics primitives"
      ]
     },
     "metadata": {},
     "output_type": "display_data"
    }
   ],
   "source": [
    "if make_investigation_plots:\n",
    "    pl = Graphics()\n",
    "    for seg in cu.allsegs[cu_index_of_zero_level]:\n",
    "        #print(\"seg\", seg)\n",
    "        pl += list_plot(seg)\n",
    "        pl += line(seg)\n",
    "    for seg in cv.allsegs[cv_index_of_zero_level]:\n",
    "        #print(\"seg\", seg)\n",
    "        pl += list_plot(seg, color=\"red\")\n",
    "        pl += line(seg, color=\"red\")\n",
    "    pl.show()"
   ]
  },
  {
   "cell_type": "code",
   "execution_count": 132,
   "metadata": {},
   "outputs": [],
   "source": [
    "# https://stackoverflow.com/questions/8094374/python-matplotlib-find-intersection-of-lineplots\n",
    "def intersect_interp1d(M_d, x1, y1, x2, y2, ax, ds=0.1):\n",
    "    import numpy as np\n",
    "    from numpy.linalg import norm\n",
    "    from scipy.optimize import fsolve\n",
    "    from scipy.interpolate import interp1d\n",
    "    import matplotlib.pyplot as plt\n",
    "\n",
    "    x1_array = np.array(x1)\n",
    "    y1_array = np.array(y1)\n",
    "    x2_array = np.array(x2)\n",
    "    y2_array = np.array(y2)\n",
    "\n",
    "    s1_array = np.linspace(0,1,num=len(x1_array))\n",
    "    s2_array = np.linspace(0,1,num=len(x2_array))\n",
    "\n",
    "    # Arguments given to interp1d:\n",
    "    #  - extrapolate: to make sure we don't get a fatal value error when fsolve searches\n",
    "    #                 beyond the bounds of [0,1]\n",
    "    #  - copy: use refs to the arrays\n",
    "    #  - assume_sorted: because s_array ('x') increases monotonically across [0,1]\n",
    "    kwargs_ = dict(fill_value='extrapolate', copy=False, assume_sorted=True)\n",
    "    x1_interp = interp1d(s1_array,x1_array, **kwargs_)\n",
    "    y1_interp = interp1d(s1_array,y1_array, **kwargs_)\n",
    "    x2_interp = interp1d(s2_array,x2_array, **kwargs_)\n",
    "    y2_interp = interp1d(s2_array,y2_array, **kwargs_)\n",
    "    \n",
    "    xydiff_lambda = lambda s12: (np.abs(x1_interp(s12[0])-x2_interp(s12[1])),\n",
    "                                 np.abs(y1_interp(s12[0])-y2_interp(s12[1])))\n",
    "    \n",
    "    foundset = []\n",
    "    \n",
    "    for s1 in np.arange(ds, 1.0, ds):\n",
    "        for s2 in np.arange(ds, 1.0, ds):\n",
    "\n",
    "            s12_intercept, _, ier, mesg \\\n",
    "                = fsolve(xydiff_lambda, [s1, s2], full_output=True) \n",
    "\n",
    "            xy1_intercept = x1_interp(s12_intercept[0]),y1_interp(s12_intercept[0])\n",
    "            xy2_intercept = x2_interp(s12_intercept[1]),y2_interp(s12_intercept[1])\n",
    "            \n",
    "            is_intercept_really_good = s12_intercept[0]>=0 and s12_intercept[0]<=1 \\\n",
    "                  and s12_intercept[1]>=0 and s12_intercept[1]<=1 \\\n",
    "                  and np.isclose(0,norm(xydiff_lambda(s12_intercept)))\n",
    "            \n",
    "            if is_intercept_really_good:\n",
    "\n",
    "                found = (float(xy1_intercept[0]), float(xy1_intercept[1]))\n",
    "                \n",
    "                if found not in foundset:\n",
    "                    foundset += [found]\n",
    "                    \n",
    "                    fig, ax = plt.subplots(1,1)\n",
    "                \n",
    "                    ax.plot(x1_interp(s1_array),y1_interp(s1_array),'b.', ls='-', label='x1 data')\n",
    "                    ax.plot(x2_interp(s2_array),y2_interp(s2_array),'r.', ls='-', label='x2 data')\n",
    "                    if s12_intercept[0]>0 and s12_intercept[0]<1:\n",
    "                        \n",
    "                        ax.plot(*xy1_intercept,'bo', ms=12, label='x1 intercept')\n",
    "                        ax.plot(*xy2_intercept,'ro', ms=8, label='x2 intercept')\n",
    "                        ax.legend()\n",
    "                        plt.show()\n",
    "\n",
    "                        M_det = M_d \\\n",
    "                            .subs(kz == float(xy1_intercept[0])) \\\n",
    "                            .subs(sz == float(xy1_intercept[1])).n()\n",
    "\n",
    "                        print(\"M_det=\", M_det)\n",
    "                \n",
    "                        print('intercept @ s1={}, s2={}\\n'.format(s12_intercept[0],s12_intercept[1]), \n",
    "                              'intercept @ xy1={}\\n'.format(np.array(xy1_intercept)), \n",
    "                              'intercept @ xy2={}\\n'.format(np.array(xy2_intercept)), \n",
    "                              'fsolve apparent success? {}: \"{}\"\\n'.format(ier==1,mesg,), \n",
    "                              'is intercept really good? {}\\n'.format( is_intercept_really_good ))\n",
    "\n",
    "                        return foundset\n",
    "    return foundset"
   ]
  },
  {
   "cell_type": "code",
   "execution_count": 133,
   "metadata": {},
   "outputs": [],
   "source": [
    "def test_contour_line_intersection(M, i, j, cu, cv, cu_index, cv_index):\n",
    "    dat_u = cu.allsegs[cu_index][i]\n",
    "    dat_v = cv.allsegs[cv_index][j]\n",
    "    \n",
    "    xu = dat_u[:,0]\n",
    "    yu = dat_u[:,1]\n",
    "    xv = dat_v[:,0]\n",
    "    yv = dat_v[:,1]\n",
    "    \n",
    "    if len(xu) < 2:\n",
    "        return None\n",
    "    if len(xv) < 2:\n",
    "        return None\n",
    "    \n",
    "    return intersect_interp1d(M, xu, yu, xv, yv, ax)"
   ]
  },
  {
   "cell_type": "markdown",
   "metadata": {},
   "source": [
    "Искомый волновой вектор можно найти графическим методом как точку пересечения двух нулевых изолиний на контурных графиках зависимости действительной и мнимой компонент детерминанта от действительной и мнимой компонент волнового вектора\n",
    "\n",
    "Get coordinates from a contour\n",
    "\n",
    "https://stackoverflow.com/questions/19418901/get-coordinates-from-a-contour"
   ]
  },
  {
   "cell_type": "code",
   "execution_count": 134,
   "metadata": {},
   "outputs": [
    {
     "data": {
      "image/png": "[encoded data removed]",
      "text/plain": [
       "<Figure size 432x288 with 1 Axes>"
      ]
     },
     "metadata": {
      "needs_background": "light"
     },
     "output_type": "display_data"
    },
    {
     "name": "stdout",
     "output_type": "stream",
     "text": [
      "M_det= 0.681810380219265 - 0.324483980009960*I\n",
      "intercept @ s1=0.4769179679003, s2=0.5230820320997\n",
      " intercept @ xy1=[-4.61640642e-03 -9.60352585e+01]\n",
      " intercept @ xy2=[-4.61640642e-03 -9.60352585e+01]\n",
      " fsolve apparent success? True: \"The solution converged.\"\n",
      " is intercept really good? True\n",
      "\n",
      "found (-0.004616406419939994, -96.0352585208029)\n"
     ]
    },
    {
     "data": {
      "image/png": "[encoded data removed]",
      "text/plain": [
       "<Figure size 432x288 with 1 Axes>"
      ]
     },
     "metadata": {
      "needs_background": "light"
     },
     "output_type": "display_data"
    },
    {
     "name": "stdout",
     "output_type": "stream",
     "text": [
      "M_det= -0.313740335983216 + 0.129381683893664*I\n",
      "intercept @ s1=0.6141361366328899, s2=0.3858638633671101\n",
      " intercept @ xy1=[-2.28272273e-02 -8.08571176e+01]\n",
      " intercept @ xy2=[-2.28272273e-02 -8.08571176e+01]\n",
      " fsolve apparent success? True: \"The solution converged.\"\n",
      " is intercept really good? True\n",
      "\n",
      "found (-0.022827227326577985, -80.85711762110324)\n"
     ]
    },
    {
     "data": {
      "image/png": "[encoded data removed]",
      "text/plain": [
       "<Figure size 432x288 with 1 Axes>"
      ]
     },
     "metadata": {
      "needs_background": "light"
     },
     "output_type": "display_data"
    },
    {
     "name": "stdout",
     "output_type": "stream",
     "text": [
      "M_det= 0.131247538547260 + 0.274026964178042*I\n",
      "intercept @ s1=0.4252488629111374, s2=0.42524886349510227\n",
      " intercept @ xy1=[-1.49502274e-02 -6.55423618e+01]\n",
      " intercept @ xy2=[-1.49502273e-02 -6.55423618e+01]\n",
      " fsolve apparent success? True: \"The solution converged.\"\n",
      " is intercept really good? True\n",
      "\n",
      "found (-0.014950227417772518, -65.54236181573151)\n"
     ]
    },
    {
     "data": {
      "image/png": "[encoded data removed]",
      "text/plain": [
       "<Figure size 432x288 with 1 Axes>"
      ]
     },
     "metadata": {
      "needs_background": "light"
     },
     "output_type": "display_data"
    },
    {
     "name": "stdout",
     "output_type": "stream",
     "text": [
      "M_det= -0.120146356602805 - 0.245449362246004*I\n",
      "intercept @ s1=0.508405827150958, s2=0.5084058271509597\n",
      " intercept @ xy1=[-1.68116543e-03 -5.00595438e+01]\n",
      " intercept @ xy2=[-1.68116543e-03 -5.00595438e+01]\n",
      " fsolve apparent success? True: \"The solution converged.\"\n",
      " is intercept really good? True\n",
      "\n",
      "found (-0.0016811654301915951, -50.05954375887968)\n"
     ]
    },
    {
     "data": {
      "image/png": "[encoded data removed]",
      "text/plain": [
       "<Figure size 432x288 with 1 Axes>"
      ]
     },
     "metadata": {
      "needs_background": "light"
     },
     "output_type": "display_data"
    },
    {
     "name": "stdout",
     "output_type": "stream",
     "text": [
      "M_det= 0.784653352979311 + 1.58936512096181*I\n",
      "intercept @ s1=0.49133735285430286, s2=0.4913373528543179\n",
      " intercept @ xy1=[-1.73252943e-03 -3.25495508e+01]\n",
      " intercept @ xy2=[-1.73252943e-03 -3.25495508e+01]\n",
      " fsolve apparent success? True: \"The solution converged.\"\n",
      " is intercept really good? True\n",
      "\n",
      "found (-0.0017325294291394232, -32.54955081590177)\n"
     ]
    },
    {
     "data": {
      "image/png": "[encoded data removed]",
      "text/plain": [
       "<Figure size 432x288 with 1 Axes>"
      ]
     },
     "metadata": {
      "needs_background": "light"
     },
     "output_type": "display_data"
    },
    {
     "name": "stdout",
     "output_type": "stream",
     "text": [
      "M_det= -0.899084456250057 - 1.83639610069921*I\n",
      "intercept @ s1=0.5256686152820251, s2=0.5007038055600245\n",
      " intercept @ xy1=[-1.40761112e-04 -1.67341085e+01]\n",
      " intercept @ xy2=[-1.40761112e-04 -1.67341085e+01]\n",
      " fsolve apparent success? True: \"The solution converged.\"\n",
      " is intercept really good? True\n",
      "\n",
      "found (-0.00014076111200528665, -16.73410852809357)\n"
     ]
    },
    {
     "data": {
      "image/png": "[encoded data removed]",
      "text/plain": [
       "<Figure size 432x288 with 1 Axes>"
      ]
     },
     "metadata": {
      "needs_background": "light"
     },
     "output_type": "display_data"
    },
    {
     "name": "stdout",
     "output_type": "stream",
     "text": [
      "M_det= -0.899084456250052 - 1.83639610069922*I\n",
      "intercept @ s1=0.5256686152820147, s2=0.5007038055600149\n",
      " intercept @ xy1=[1.40761112e-04 1.67341085e+01]\n",
      " intercept @ xy2=[1.40761112e-04 1.67341085e+01]\n",
      " fsolve apparent success? True: \"The solution converged.\"\n",
      " is intercept really good? True\n",
      "\n",
      "found (0.00014076111200308963, 16.734108528093568)\n"
     ]
    },
    {
     "data": {
      "image/png": "[encoded data removed]",
      "text/plain": [
       "<Figure size 432x288 with 1 Axes>"
      ]
     },
     "metadata": {
      "needs_background": "light"
     },
     "output_type": "display_data"
    },
    {
     "name": "stdout",
     "output_type": "stream",
     "text": [
      "M_det= 0.784653352979303 + 1.58936512096180*I\n",
      "intercept @ s1=0.4913373528543214, s2=0.49133735285428254\n",
      " intercept @ xy1=[1.73252943e-03 3.25495508e+01]\n",
      " intercept @ xy2=[1.73252943e-03 3.25495508e+01]\n",
      " fsolve apparent success? True: \"The solution converged.\"\n",
      " is intercept really good? True\n",
      "\n",
      "found (0.0017325294291357153, 32.54955081590176)\n"
     ]
    },
    {
     "data": {
      "image/png": "[encoded data removed]",
      "text/plain": [
       "<Figure size 432x288 with 1 Axes>"
      ]
     },
     "metadata": {
      "needs_background": "light"
     },
     "output_type": "display_data"
    },
    {
     "name": "stdout",
     "output_type": "stream",
     "text": [
      "M_det= -0.120146356602798 - 0.245449362246007*I\n",
      "intercept @ s1=0.5084058271509831, s2=0.5084058271509866\n",
      " intercept @ xy1=[1.68116543e-03 5.00595438e+01]\n",
      " intercept @ xy2=[1.68116543e-03 5.00595438e+01]\n",
      " fsolve apparent success? True: \"The solution converged.\"\n",
      " is intercept really good? True\n",
      "\n",
      "found (0.0016811654301966353, 50.05954375887968)\n"
     ]
    },
    {
     "data": {
      "image/png": "[encoded data removed]",
      "text/plain": [
       "<Figure size 432x288 with 1 Axes>"
      ]
     },
     "metadata": {
      "needs_background": "light"
     },
     "output_type": "display_data"
    },
    {
     "name": "stdout",
     "output_type": "stream",
     "text": [
      "M_det= 0.131247538547264 + 0.274026964178040*I\n",
      "intercept @ s1=0.4252488629111607, s2=0.4252488634951256\n",
      " intercept @ xy1=[1.49502274e-02 6.55423618e+01]\n",
      " intercept @ xy2=[1.49502273e-02 6.55423618e+01]\n",
      " fsolve apparent success? True: \"The solution converged.\"\n",
      " is intercept really good? True\n",
      "\n",
      "found (0.014950227417767855, 65.54236181573151)\n"
     ]
    },
    {
     "data": {
      "image/png": "[encoded data removed]",
      "text/plain": [
       "<Figure size 432x288 with 1 Axes>"
      ]
     },
     "metadata": {
      "needs_background": "light"
     },
     "output_type": "display_data"
    },
    {
     "name": "stdout",
     "output_type": "stream",
     "text": [
      "M_det= -0.313740335983215 + 0.129381683893666*I\n",
      "intercept @ s1=0.6141361366328564, s2=0.3858638633671436\n",
      " intercept @ xy1=[2.28272273e-02 8.08571176e+01]\n",
      " intercept @ xy2=[2.28272273e-02 8.08571176e+01]\n",
      " fsolve apparent success? True: \"The solution converged.\"\n",
      " is intercept really good? True\n",
      "\n",
      "found (0.022827227326571282, 80.85711762110324)\n"
     ]
    },
    {
     "data": {
      "image/png": "[encoded data removed]",
      "text/plain": [
       "<Figure size 432x288 with 1 Axes>"
      ]
     },
     "metadata": {
      "needs_background": "light"
     },
     "output_type": "display_data"
    },
    {
     "name": "stdout",
     "output_type": "stream",
     "text": [
      "M_det= 0.681810380219264 - 0.324483980009961*I\n",
      "intercept @ s1=0.4769179679002715, s2=0.5230820320997285\n",
      " intercept @ xy1=[4.61640642e-03 9.60352585e+01]\n",
      " intercept @ xy2=[4.61640642e-03 9.60352585e+01]\n",
      " fsolve apparent success? True: \"The solution converged.\"\n",
      " is intercept really good? True\n",
      "\n",
      "found (0.00461640641994569, 96.0352585208029)\n"
     ]
    }
   ],
   "source": [
    "k_z_graphic_solutions = []\n",
    "if make_investigation_plots:\n",
    "    for i in range(0, cu_zero_levels_number):\n",
    "        for j in range(0, cv_zero_levels_number):\n",
    "            result = test_contour_line_intersection(M6_det_d,\n",
    "                                                    i, j, cu, cv,\n",
    "                                                    cu_index_of_zero_level,\n",
    "                                                    cv_index_of_zero_level)\n",
    "            if None == result:\n",
    "                continue\n",
    "\n",
    "            for found in result:\n",
    "                print(\"found\", found)\n",
    "                xy_intercept = found\n",
    "\n",
    "                k_z_graphic_solutions += [xy_intercept]"
   ]
  },
  {
   "cell_type": "code",
   "execution_count": 135,
   "metadata": {},
   "outputs": [
    {
     "data": {
      "text/plain": [
       "[(-0.004616406419939994, -96.0352585208029),\n",
       " (-0.022827227326577985, -80.85711762110324),\n",
       " (-0.014950227417772518, -65.54236181573151),\n",
       " (-0.0016811654301915951, -50.05954375887968),\n",
       " (-0.0017325294291394232, -32.54955081590177),\n",
       " (-0.00014076111200528665, -16.73410852809357),\n",
       " (0.00014076111200308963, 16.734108528093568),\n",
       " (0.0017325294291357153, 32.54955081590176),\n",
       " (0.0016811654301966353, 50.05954375887968),\n",
       " (0.014950227417767855, 65.54236181573151),\n",
       " (0.022827227326571282, 80.85711762110324),\n",
       " (0.00461640641994569, 96.0352585208029)]"
      ]
     },
     "execution_count": 135,
     "metadata": {},
     "output_type": "execute_result"
    }
   ],
   "source": [
    "k_z_graphic_solutions"
   ]
  },
  {
   "cell_type": "markdown",
   "metadata": {},
   "source": [
    "```\n",
    "знак перед корнем будем всегда выбирать так, чтобы корень имел положительнею мнимую часть (Зоммерфельд, Электродинамика, параграф 20, Б. Волновое поле и скин-эффект в полупространстве)\n",
    "```"
   ]
  },
  {
   "cell_type": "code",
   "execution_count": 136,
   "metadata": {},
   "outputs": [
    {
     "name": "stdout",
     "output_type": "stream",
     "text": [
      "-0.00014076111200528665 -16.73410852809357\n"
     ]
    }
   ],
   "source": [
    "if make_investigation_plots:\n",
    "    max_abs_kz_sol = 0\n",
    "    # выбор решения с минимальным по модулю k_z_sol_sz\n",
    "    #for k_z_sol_i in [k_z_graphic_solutions[4]]:\n",
    "    for k_z_sol_i in [k_z_graphic_solutions[5]]:\n",
    "        #print(\"k_z_sol_i\", k_z_sol_i)\n",
    "        k_z_sol_i_kz = float(k_z_sol_i[0])\n",
    "        k_z_sol_i_sz = float(k_z_sol_i[1])\n",
    "        print(k_z_sol_i_kz, k_z_sol_i_sz)\n",
    "        # знак перед корнем K_conductor будем всегда выбирать так, чтобы корень имел положительнею мнимую часть (Зоммерфельд, Электродинамика, параграф 20, Б)\n",
    "        # потому что нужно обеспечить затухание поля в проводнике\n",
    "        # E_bad_conductor_sol_z (x) = B1_z*exp(I * K_conductor*x)\n",
    "        # E_bad_conductor_sol_x (x) = B1_x*exp(I * K_conductor*x)\n",
    "        K_ = K_conductor_subs \\\n",
    "            .subs(kappa_vacuum_sol) \\\n",
    "            .subs(digit_values) \\\n",
    "            .subs(k_z == k_z_sol_i_kz + I * k_z_sol_i_sz)\n",
    "        #show(K_)\n",
    "        #show(K_.lhs() == K_.rhs().n())\n",
    "        #plot(E_bad_conductor_sol_z (x).subs(K_, B1_z == 1+I).real(), x, 0, h_conductor).show()\n",
    "\n",
    "        abs_kz_sol = abs(k_z_sol_i_kz)\n",
    "        #print(\"abs_k_z_sol,\", abs_k_z_sol)\n",
    "        #if max_abs_k_z_sol < abs_k_z_sol:\n",
    "        #max_abs_k_z_sol = abs_k_z_sol\n",
    "            # выберем решение с максимальным модулем kz\n",
    "            # для того чтобы обеспечить лучшую сходимость итерационной процедуры\n",
    "\n",
    "            #if k_z_sol_i_kz > 0:\n",
    "\n",
    "        k_z_sol_kz = k_z_sol_i_kz \n",
    "        k_z_sol_sz = k_z_sol_i_sz "
   ]
  },
  {
   "cell_type": "code",
   "execution_count": 137,
   "metadata": {},
   "outputs": [
    {
     "name": "stdout",
     "output_type": "stream",
     "text": [
      "-0.00014076111200528665 -16.73410852809357\n"
     ]
    }
   ],
   "source": [
    "if make_investigation_plots:\n",
    "    print(k_z_sol_kz, k_z_sol_sz)"
   ]
  },
  {
   "cell_type": "code",
   "execution_count": 138,
   "metadata": {},
   "outputs": [],
   "source": [
    "if not make_investigation_plots:\n",
    "    k_z_sol_kz = -0.0029048141280239017\n",
    "    k_z_sol_sz = -16.64979436324654"
   ]
  },
  {
   "cell_type": "markdown",
   "metadata": {},
   "source": [
    "метод ньютона для комплексной функции от комплексного аргумента\n",
    "комплексная функция представляется в виде двух функций: ее действительной и мнимой частей\n",
    "также мы предварительно должны посчитать все четыре варианта первых производных: действительной компоненты функции от обоих компонент аргумента и также и для мнимой части\n",
    "\n",
    "на вход метода find_newton_complex_root() подается:\n",
    "\n",
    "- выражения для действительной и мнимой частей исследуемой комплексной функции\n",
    "\n",
    "- четыре выражения для отношения каждой компоненты комплексной функции к ее производной по каждой компоненте аргумента\n",
    "\n",
    "- символьное представление действительной и мнимой части аргумента\n",
    "\n",
    "- начальные значения действительной и мнимой части аргумента"
   ]
  },
  {
   "cell_type": "code",
   "execution_count": 139,
   "metadata": {},
   "outputs": [],
   "source": [
    "class newton_prec():\n",
    "    def __init__(self, M_det_K, M_det_kz_sz, xn_re, xn_im):\n",
    "        self.xn_re = xn_re\n",
    "        self.xn_im = xn_im\n",
    "        # выражения для действительной и мнимой частей исследуемой комплексной функции\n",
    "        self.M_det_K = M_det_K\n",
    "        self.M_det = M_det_kz_sz\n",
    "\n",
    "        # четыре выражения для производной комплексной функции по каждой компоненте аргумента\n",
    "        self.M_det_K_diff_kz = self.M_det_K.diff(kz)\n",
    "        self.M_det_K_diff_sz = self.M_det_K.diff(sz)\n",
    "        \n",
    "        print(\"self.M_det_K_diff_kz.variables()\",\n",
    "              self.M_det_K_diff_kz.variables())\n",
    "        print(\"self.M_det_K_diff_sz.variables()\",\n",
    "              self.M_det_K_diff_sz.variables())\n",
    "    \n",
    "        self.M_det_K_diff_K_conductor = self.M_det_K.diff(K_conductor)\n",
    "        self.M_det_K_diff_K_vacuum    = self.M_det_K.diff(K_vacuum)\n",
    "        \n",
    "        print(\"self.M_det_K_diff_K_conductor.variables()\",\n",
    "              self.M_det_K_diff_K_conductor.variables())\n",
    "        print(\"self.M_det_K_diff_K_vacuum.variables()\",\n",
    "              self.M_det_K_diff_K_vacuum.variables())\n",
    "        \n",
    "        K_conductor_diff_kz = K_conductor_subs.rhs().diff(kz)\n",
    "        K_conductor_diff_sz = K_conductor_subs.rhs().diff(sz)\n",
    "        \n",
    "        K_vacuum_diff_kz = K_vacuum_subs.rhs().diff(kz)\n",
    "        K_vacuum_diff_sz = K_vacuum_subs.rhs().diff(sz)\n",
    "        \n",
    "        print(\"K_conductor_diff_kz.variables()\",\n",
    "              K_conductor_diff_kz.variables())\n",
    "        print(\"K_conductor_diff_sz.variables()\",\n",
    "              K_conductor_diff_sz.variables())\n",
    "        \n",
    "        print(\"K_vacuum_diff_kz.variables()\",\n",
    "              K_vacuum_diff_kz.variables())\n",
    "        print(\"K_vacuum_diff_sz.variables()\",\n",
    "              K_vacuum_diff_sz.variables())\n",
    "         \n",
    "        self.M_det_diff_kz = self.M_det.diff(kz)\n",
    "        self.M_det_diff_sz = self.M_det.diff(sz)\n",
    "        \n",
    "        print(\"self.M_det_diff_kz.variables()\",\n",
    "              self.M_det_diff_kz.variables())\n",
    "        print(\"self.M_det_diff_sz.variables()\",\n",
    "              self.M_det_diff_sz.variables())\n",
    "\n",
    "        \n",
    "        #self.grad = vector([self.M_det_diff_kz, self.M_det_diff_sz])\n",
    "        \n",
    "#        self.jac =  matrix([\n",
    "#            [self.M_det_diff_kz.real(), self.M_det_diff_sz.real()],\n",
    "#            [self.M_det_diff_kz.imag(), self.M_det_diff_sz.imag()],\n",
    "#        ])\n",
    "\n",
    "#        self.M_det_diff_kz_kz = self.M_det_diff_kz.diff(kz)\n",
    "#        self.M_det_diff_kz_sz = self.M_det_diff_kz.diff(sz)\n",
    "        \n",
    "#        self.M_det_diff_sz_kz = self.M_det_diff_sz.diff(kz)\n",
    "#        self.M_det_diff_sz_sz = self.M_det_diff_sz.diff(sz)\n",
    "        \n",
    "        #self.gessian = matrix([[self.M_det_diff_kz_kz, self.M_det_diff_kz_sz],\n",
    "        #                       [self.M_det_diff_sz_kz, self.M_det_diff_sz_sz]])\n",
    "\n",
    "        # четыре выражения для отношения каждой компоненты комплексной функции к ее производной по каждой компоненте аргумента\n",
    "        self.M_det_div_diff_kz = (self.M_det / self.M_det_diff_kz)\n",
    "        self.M_det_div_diff_sz = (self.M_det / self.M_det_diff_sz)\n",
    "        \n",
    "        print(\"self.M_det_div_diff_kz.variables()\",\n",
    "              self.M_det_div_diff_kz.variables())\n",
    "        print(\"self.M_det_div_diff_sz.variables()\",\n",
    "              self.M_det_div_diff_sz.variables())\n",
    "\n",
    "        \n",
    "        self.M_det_d = self.M_det.subs(digit_values)\n",
    "        \n",
    "#        self.jac_d = self.jac.subs(digit_values)\n",
    "\n",
    "        self.M_det_div_diff_kz_d = self.M_det_div_diff_kz.subs(digit_values)\n",
    "        self.M_det_div_diff_sz_d = self.M_det_div_diff_sz.subs(digit_values)\n",
    "\n",
    "    def get_root(self):\n",
    "        return self.xn_re, self.xn_im\n",
    "\n",
    "    # инициализируем метод ньютона значениями найденными графическим методом\n",
    "    def prec_root(self, nsteps = 100):\n",
    "        self.find_newton_complex_root(nsteps = nsteps)\n",
    "\n",
    "    def find_newton_complex_root(self, nsteps):\n",
    "    \n",
    "        f = self.M_det_d\n",
    "        f_div_df_re = self.M_det_div_diff_kz_d\n",
    "        f_div_df_im = self.M_det_div_diff_sz_d\n",
    "        xre = kz\n",
    "        xim = sz\n",
    "        self.xn_re = self.xn_re\n",
    "        self.xn_im = self.xn_im\n",
    "        \n",
    "        def NewtonIt(f_div_df, x, xn, step, re):\n",
    "            print(\"xn\", xn)\n",
    "            #print(\"(f/df)\", f_div_df)\n",
    "\n",
    "            #delta = (f/df).subs(x == xn)\n",
    "            if True == re:\n",
    "                delta = f_div_df.subs(x == xn).n().real()\n",
    "            else:\n",
    "                delta = f_div_df.subs(x == xn).n().imag()\n",
    "\n",
    "            #print(\"delta\", delta)\n",
    "            #print(\"step\", step)\n",
    "            step_delta = step*delta\n",
    "            print(\"step_delta\", step_delta)\n",
    "\n",
    "            res = xn-step_delta\n",
    "            #print (\"res\", res)\n",
    "            return res, step_delta\n",
    "\n",
    "        logging = False\n",
    "\n",
    "        if logging:\n",
    "            print (\"xre\", xre)\n",
    "            print (\"xim\", xim)\n",
    "            print (\"xn_re\", self.xn_re)\n",
    "            print (\"xn_im\", self.xn_im)\n",
    "            #print (\"f_div_df_re\", f_div_df_re)\n",
    "            #print (\"f_div_df_im\", f_div_df_im)\n",
    "\n",
    "        step_init = np.float128(0.95)\n",
    "        step_init_im_re = np.float128(0.95)\n",
    "        step_init_re_im = np.float128(0.95)\n",
    "\n",
    "        step_re_im = step_init_re_im\n",
    "        step_im_im = step_init\n",
    "        step_re_re = step_init\n",
    "        step_im_re = step_init_im_re\n",
    "\n",
    "        step__m = np.float128(0.1)\n",
    "        step_m = np.float128(0.2)\n",
    "        abs_m = np.float128(1.0)\n",
    "\n",
    "        delta_epsilon = np.float128(1e-32)\n",
    "        f_abs_epsilon = np.float128(1e-16)\n",
    "\n",
    "        f_new = f.subs(xre == self.xn_re).subs(xim == self.xn_im).n()\n",
    "        if logging:\n",
    "            print(\"\\nf_new = \", f_new)\n",
    "\n",
    "        f_abs = f_new.abs()\n",
    "\n",
    "        if logging:\n",
    "            print(\"\\nf_abs = \", f_abs)\n",
    "        N = 10\n",
    "\n",
    "        for i in range(nsteps):\n",
    "            n = N\n",
    "            while n > 0:\n",
    "                n = n-1\n",
    "                if logging:\n",
    "                    print(\"\\nre_d_re xn = \", self.xn_re, self.xn_im, \"step = \", step_re_re)\n",
    "\n",
    "                xn_re_new, delta_re_re = NewtonIt(f_div_df_re.subs(xim == self.xn_im), xre, self.xn_re, step_re_re, re=True)\n",
    "                f_new = f.subs(xre == xn_re_new).subs(xim == self.xn_im).n()\n",
    "                f_abs_new = f_new.abs()\n",
    "\n",
    "\n",
    "                if logging:\n",
    "                    print(\"f_abs_new\", f_abs_new)\n",
    "\n",
    "                if f_abs_new > abs_m*f_abs:\n",
    "                    step_re_re *= step__m\n",
    "                    continue\n",
    "                else:\n",
    "                    self.xn_re = xn_re_new\n",
    "                    f_abs = f_abs_new\n",
    "                    if step_re_re < 0.9:\n",
    "                        step_re_re /= step_m\n",
    "\n",
    "                    print (\"f_new\", f_new)\n",
    "                    print(\"f_abs_new\", f_abs_new)\n",
    "                    break\n",
    "\n",
    "            n = N\n",
    "            while n > 0:\n",
    "                n = n-1\n",
    "                if logging:\n",
    "                    print(\"\\nim_d_re xn = \", self.xn_re, self.xn_im, \"step = \", step_im_re)\n",
    "\n",
    "                xn_re_new, delta_im_re = NewtonIt(f_div_df_re.subs(xim == self.xn_im), xre, self.xn_re, step_im_re, re=False)\n",
    "                f_new = f.subs(xre == xn_re_new).subs(xim == self.xn_im).n()\n",
    "                f_abs_new = f_new.abs()\n",
    "\n",
    "                if logging:\n",
    "                    print(\"f_abs_new\", f_abs_new)\n",
    "\n",
    "                if f_abs_new > abs_m*f_abs:\n",
    "                    step_im_re *= step__m\n",
    "                    continue\n",
    "                else:\n",
    "                    self.xn_re = xn_re_new\n",
    "                    f_abs = f_abs_new\n",
    "                    if step_im_re < 0.9:\n",
    "                        step_im_re /= step_m\n",
    "\n",
    "                    print (\"f_new\", f_new)\n",
    "                    print(\"f_abs_new\", f_abs_new)\n",
    "                    break\n",
    "\n",
    "            n = N\n",
    "            while n > 0:\n",
    "                n = n-1\n",
    "                if logging:\n",
    "                    print(\"\\nre_d_im xn = \", self.xn_re, self.xn_im, \"step = \", step_re_im)\n",
    "\n",
    "                xn_im_new, delta_re_im = NewtonIt(f_div_df_im.subs(xre == self.xn_re), xim, self.xn_im, step_re_im, re=True)\n",
    "                f_new = f.subs(xre == self.xn_re).subs(xim == xn_im_new).n()\n",
    "                f_abs_new = f_new.abs()\n",
    "\n",
    "                if logging:\n",
    "                    print(\"f_abs_new\", f_abs_new)\n",
    "\n",
    "                if f_abs_new > abs_m*f_abs:\n",
    "                    step_re_im *= step__m\n",
    "                    continue\n",
    "                else:\n",
    "                    self.xn_im = xn_im_new\n",
    "                    f_abs = f_abs_new\n",
    "                    if step_re_im < 0.9:\n",
    "                        step_re_im /= step_m\n",
    "\n",
    "                    print (\"f_new\", f_new)\n",
    "                    print(\"f_abs_new\", f_abs_new)\n",
    "                    break\n",
    "\n",
    "            n = N\n",
    "            while n > 0:\n",
    "                n = n-1\n",
    "                if logging:\n",
    "                    print(\"\\nim_d_im xn = \", xn_re, xn_im, \"step = \", step_im_im)\n",
    "\n",
    "                xn_im_new, delta_im_im = NewtonIt(f_div_df_im.subs(xre == self.xn_re), xim, self.xn_im, step_im_im, re=False)\n",
    "                f_new = f.subs(xre == self.xn_re).subs(xim == xn_im_new).n()\n",
    "                f_abs_new = f_new.abs()\n",
    "\n",
    "                if logging:\n",
    "                    print(\"f_abs_new\", f_abs_new)\n",
    "\n",
    "                if f_abs_new > abs_m*f_abs:\n",
    "                    step_im_im *= step__m\n",
    "                    continue\n",
    "                else:\n",
    "                    self.xn_im = xn_im_new\n",
    "                    f_abs = f_abs_new\n",
    "                    if step_im_im < 0.9:\n",
    "                        step_im_im /= step_m\n",
    "\n",
    "                    print (\"f_new\", f_new)\n",
    "                    print(\"f_abs_new\", f_abs_new)\n",
    "                    break\n",
    "\n",
    "\n",
    "            if abs(delta_re_re) < delta_epsilon and \\\n",
    "               abs(delta_re_im) < delta_epsilon and \\\n",
    "               abs(delta_im_re) < delta_epsilon and \\\n",
    "               abs(delta_im_im) < delta_epsilon:\n",
    "                print(\"algorithm finished via delta_epsilon\",\n",
    "                      delta_re_re,\n",
    "                      delta_re_im,\n",
    "                      delta_im_re,\n",
    "                      delta_im_im\n",
    "                     )\n",
    "                break\n",
    "            if f_abs < f_abs_epsilon:\n",
    "                print(\"algorithm finished via f_abs_epsilon\",\n",
    "                      f_abs\n",
    "                     )\n",
    "                break\n",
    "\n",
    "\n",
    "    def find_newton_root(self, nsteps):\n",
    "    \n",
    "        f = self.M_det_d\n",
    "        f_div_df_re = self.M_det_div_diff_kz_d\n",
    "        f_div_df_im = self.M_det_div_diff_sz_d\n",
    "        xre = kz\n",
    "        xim = sz\n",
    "        self.xn_re = self.xn_re\n",
    "        self.xn_im = self.xn_im\n",
    "        \n",
    "        def NewtonIt(f_div_df, x, xn, step):\n",
    "            print(\"xn\", xn)\n",
    "            #print(\"(f/df)\", f_div_df)\n",
    "\n",
    "            #delta = (f/df).subs(x == xn)\n",
    "            delta = f_div_df.subs(x == xn).n().abs()\n",
    "\n",
    "            #print(\"delta\", delta)\n",
    "            #print(\"step\", step)\n",
    "            step_delta = step*delta\n",
    "            print(\"step_delta\", step_delta)\n",
    "\n",
    "            res = xn-step_delta\n",
    "            #print (\"res\", res)\n",
    "            return res, step_delta\n",
    "\n",
    "        logging = False\n",
    "\n",
    "        if logging:\n",
    "            print (\"xre\", xre)\n",
    "            print (\"xim\", xim)\n",
    "            print (\"xn_re\", self.xn_re)\n",
    "            print (\"xn_im\", self.xn_im)\n",
    "            #print (\"f_div_df_re\", f_div_df_re)\n",
    "            #print (\"f_div_df_im\", f_div_df_im)\n",
    "\n",
    "        step_init = np.float128(0.095)\n",
    "\n",
    "        step_re_im = step_init\n",
    "        step_re_re = step_init\n",
    "\n",
    "        step__m = np.float128(0.1)\n",
    "        step_m = np.float128(0.2)\n",
    "        abs_m = np.float128(1.0)\n",
    "\n",
    "        delta_epsilon = np.float128(1e-32)\n",
    "        f_abs_epsilon = np.float128(1e-32)\n",
    "\n",
    "        f_new = f.subs(xre == self.xn_re).subs(xim == self.xn_im).n()\n",
    "        print(\"\\nf_new = \", f_new)\n",
    "\n",
    "        f_abs = f_new.abs()\n",
    "        print(\"\\nf_abs = \", f_abs)\n",
    "        \n",
    "        N = 10\n",
    "\n",
    "        for i in range(nsteps):\n",
    "            n = N\n",
    "            while n > 0:\n",
    "                n = n-1\n",
    "                if logging:\n",
    "                    print(\"\\nre_d_re xn = \", self.xn_re, self.xn_im, \"step = \", step_re_re)\n",
    "\n",
    "                xn_re_new, delta_re_re = NewtonIt(f_div_df_re.subs(xim == self.xn_im), xre, self.xn_re, step_re_re)\n",
    "                f_new = f.subs(xre == xn_re_new).subs(xim == self.xn_im).n()\n",
    "                f_abs_new = f_new.abs()\n",
    "\n",
    "\n",
    "                if logging:\n",
    "                    print(\"f_abs_new\", f_abs_new)\n",
    "\n",
    "                if f_abs_new > abs_m*f_abs:\n",
    "                    step_re_re *= step__m\n",
    "                    continue\n",
    "                else:\n",
    "                    self.xn_re = xn_re_new\n",
    "                    f_abs = f_abs_new\n",
    "                    if step_re_re < 0.9:\n",
    "                        step_re_re /= step_m\n",
    "\n",
    "                    print (\"f_new\", f_new)\n",
    "                    print(\"f_abs_new\", f_abs_new)\n",
    "                    break\n",
    "\n",
    "            n = N\n",
    "            while n > 0:\n",
    "                n = n-1\n",
    "                if logging:\n",
    "                    print(\"\\nre_d_im xn = \", self.xn_re, self.xn_im, \"step = \", step_re_im)\n",
    "\n",
    "                xn_im_new, delta_re_im = NewtonIt(f_div_df_im.subs(xre == self.xn_re), xim, self.xn_im, step_re_im)\n",
    "                f_new = f.subs(xre == self.xn_re).subs(xim == xn_im_new).n()\n",
    "                f_abs_new = f_new.abs()\n",
    "\n",
    "                if logging:\n",
    "                    print(\"f_abs_new\", f_abs_new)\n",
    "\n",
    "                if f_abs_new > abs_m*f_abs:\n",
    "                    step_re_im *= step__m\n",
    "                    continue\n",
    "                else:\n",
    "                    self.xn_im = xn_im_new\n",
    "                    f_abs = f_abs_new\n",
    "                    if step_re_im < 0.9:\n",
    "                        step_re_im /= step_m\n",
    "\n",
    "                    print (\"f_new\", f_new)\n",
    "                    print(\"f_abs_new\", f_abs_new)\n",
    "                    break\n",
    "\n",
    "            if abs(delta_re_re) < delta_epsilon and \\\n",
    "               abs(delta_re_im) < delta_epsilon:\n",
    "                print(\"algorithm finished via delta_epsilon\",\n",
    "                      delta_re_re,\n",
    "                      delta_re_im\n",
    "                     )\n",
    "                break\n",
    "            if f_abs < f_abs_epsilon:\n",
    "                print(\"algorithm finished via f_abs_epsilon\",\n",
    "                      f_abs\n",
    "                     )\n",
    "                break\n",
    "\n",
    "    def find_newton_grad_root(self, nsteps):\n",
    "    \n",
    "        f = self.M_det_d\n",
    "        f_div_df_re = self.M_det_div_diff_kz_d\n",
    "        f_div_df_im = self.M_det_div_diff_sz_d\n",
    "        xre = kz\n",
    "        xim = sz\n",
    "        self.xn_re = self.xn_re\n",
    "        self.xn_im = self.xn_im\n",
    "        \n",
    "        def NewtonIt(xre, xn_re, xim, xn_im, step):\n",
    "            print(\"xn\", xn_re, xn_im)\n",
    "            #print(\"(f/df)\", f_div_df)\n",
    "\n",
    "            #delta = (f/df).subs(x == xn)\n",
    "            delta_re = f_div_df_re.subs(xre == xn_re, xim == xn_im).n().abs()\n",
    "            delta_im = f_div_df_im.subs(xre == xn_re, xim == xn_im).n().abs()\n",
    "\n",
    "            #print(\"delta\", delta)\n",
    "            #print(\"step\", step)\n",
    "            step_delta_re = step*delta_re\n",
    "            step_delta_im = step*delta_im\n",
    "            print(\"step_delta\", step_delta_re, step_delta_im)\n",
    "\n",
    "            res_re = xn_re-step_delta_re\n",
    "            res_im = xn_im-step_delta_im\n",
    "            #print (\"res\", res)\n",
    "            return res_re, res_im, step_delta_re, step_delta_im\n",
    "\n",
    "        logging = False\n",
    "\n",
    "        if logging:\n",
    "            print (\"xre\", xre)\n",
    "            print (\"xim\", xim)\n",
    "            print (\"xn_re\", self.xn_re)\n",
    "            print (\"xn_im\", self.xn_im)\n",
    "            #print (\"f_div_df_re\", f_div_df_re)\n",
    "            #print (\"f_div_df_im\", f_div_df_im)\n",
    "\n",
    "        step_init = np.float128(0.095)\n",
    "\n",
    "        step_re_im = step_init\n",
    "        step_re_re = step_init\n",
    "\n",
    "        step__m = np.float128(0.1)\n",
    "        step_m = np.float128(0.2)\n",
    "        abs_m = np.float128(1.0)\n",
    "\n",
    "        delta_epsilon = np.float128(1e-32)\n",
    "        f_abs_epsilon = np.float128(1e-32)\n",
    "\n",
    "        f_new = f.subs(xre == self.xn_re).subs(xim == self.xn_im).n()\n",
    "        print(\"\\nf_new = \", f_new)\n",
    "\n",
    "        f_abs = f_new.abs()\n",
    "        print(\"\\nf_abs = \", f_abs)\n",
    "        \n",
    "        N = 10\n",
    "\n",
    "        for i in range(nsteps):\n",
    "            n = N\n",
    "            while n > 0:\n",
    "                n = n-1\n",
    "                if logging:\n",
    "                    print(\"\\nre_d_re xn = \", self.xn_re, self.xn_im, \"step = \", step_re_re)\n",
    "\n",
    "                xn_re_new, xn_im_new, delta_re_re, delta_re_im = \\\n",
    "                    NewtonIt(xre, self.xn_re, xim, self.xn_im, step_re_re)\n",
    "                f_new = f.subs(xre == xn_re_new).subs(xim == xn_im_new).n()\n",
    "                f_abs_new = f_new.abs()\n",
    "\n",
    "\n",
    "                if logging:\n",
    "                    print(\"f_abs_new\", f_abs_new)\n",
    "\n",
    "                if f_abs_new > abs_m*f_abs:\n",
    "                    step_re_re *= step__m\n",
    "                    continue\n",
    "                else:\n",
    "                    self.xn_re = xn_re_new\n",
    "                    self.xn_im = xn_im_new\n",
    "                    f_abs = f_abs_new\n",
    "                    if step_re_re < 0.9:\n",
    "                        step_re_re /= step_m\n",
    "\n",
    "                    print (\"f_new\", f_new)\n",
    "                    print(\"f_abs_new\", f_abs_new)\n",
    "                    break\n",
    "\n",
    "\n",
    "            if abs(delta_re_re) < delta_epsilon and \\\n",
    "               abs(delta_re_im) < delta_epsilon:\n",
    "                print(\"algorithm finished via delta_epsilon\",\n",
    "                      delta_re_re,\n",
    "                      delta_re_im\n",
    "                     )\n",
    "                break\n",
    "            if f_abs < f_abs_epsilon:\n",
    "                print(\"algorithm finished via f_abs_epsilon\",\n",
    "                      f_abs\n",
    "                     )\n",
    "                break\n"
   ]
  },
  {
   "cell_type": "code",
   "execution_count": 140,
   "metadata": {},
   "outputs": [
    {
     "data": {
      "text/plain": [
       "(-0.00014076111200528665, -16.73410852809357)"
      ]
     },
     "execution_count": 140,
     "metadata": {},
     "output_type": "execute_result"
    }
   ],
   "source": [
    "k_z_sol_kz, k_z_sol_sz"
   ]
  },
  {
   "cell_type": "code",
   "execution_count": 141,
   "metadata": {},
   "outputs": [],
   "source": [
    "use_newton_prec = True"
   ]
  },
  {
   "cell_type": "code",
   "execution_count": 142,
   "metadata": {},
   "outputs": [
    {
     "name": "stdout",
     "output_type": "stream",
     "text": [
      "self.M_det_K_diff_kz.variables() (K_conductor, K_vacuum, a, c, epsilon_xx_, kz, mu_yy_, omega, sz)\n",
      "self.M_det_K_diff_sz.variables() (K_conductor, K_vacuum, a, c, epsilon_xx_, kz, mu_yy_, omega, sz)\n",
      "self.M_det_K_diff_K_conductor.variables() (K_vacuum, a, c, epsilon_xx_, kz, mu_yy_, omega, sz)\n",
      "self.M_det_K_diff_K_vacuum.variables() (K_conductor, K_vacuum, a, c, epsilon_xx_, kz, mu_yy_, omega, sz)\n",
      "K_conductor_diff_kz.variables() ()\n",
      "K_conductor_diff_sz.variables() ()\n",
      "K_vacuum_diff_kz.variables() ()\n",
      "K_vacuum_diff_sz.variables() ()\n",
      "self.M_det_diff_kz.variables() (kz, sz)\n",
      "self.M_det_diff_sz.variables() (kz, sz)\n",
      "self.M_det_div_diff_kz.variables() (kz, sz)\n",
      "self.M_det_div_diff_sz.variables() (kz, sz)\n"
     ]
    }
   ],
   "source": [
    "if use_newton_prec:\n",
    "    my_newton_prec = newton_prec(M_det_K = M6_det_K_kz_sz, M_det_kz_sz = M6_det_d,\n",
    "                                 xn_re = k_z_sol_kz, xn_im = k_z_sol_sz)"
   ]
  },
  {
   "cell_type": "raw",
   "metadata": {},
   "source": [
    "import numpy as np\n",
    "from scipy import optimize\n",
    "\n",
    "def fun(x):\n",
    "    _kz = x[0]\n",
    "    _sz = x[1]\n",
    "    _det = my_newton_prec.M_det_d.subs(kz == _kz, sz == _sz).n()\n",
    "    return [_det.real(), _det.imag()]\n",
    "\n",
    "def jac(x):\n",
    "    _kz = x[0]\n",
    "    _sz = x[1]\n",
    "    _jac = my_newton_prec.jac_d.subs(kz == _kz, sz == _sz).n()\n",
    "    return np.array(_jac)\n",
    "\n",
    "def callback(x, f):\n",
    "    print(x,f)\n",
    "\n",
    "x0 = [my_newton_prec.get_root()[0], my_newton_prec.get_root()[1]]\n",
    "sol = optimize.root(fun, x0, jac=jac, tol=1e-9, method='hybr', callback = callback)\n",
    "print(sol)"
   ]
  },
  {
   "cell_type": "raw",
   "metadata": {},
   "source": [
    "M6_det_diff_k_z = M6_det.diff(k_z)\n",
    "M6_det_diff_k_z_d = M6_det_diff_k_z.subs(digit_values)\n",
    "\n",
    "from scipy import optimize\n",
    "\n",
    "def f(z):\n",
    "    re = z.real\n",
    "    im = z.imag\n",
    "    return complex(my_newton_prec.M_det_d.subs(kz == re, sz == im).n())\n",
    "\n",
    "def fp(z):\n",
    "    return complex(M6_det_diff_k_z_d.subs(k_z == z))\n",
    "\n",
    "r = optimize.newton(func=f,\n",
    "        x0=complex(my_newton_prec.get_root()[0], my_newton_prec.get_root()[1]),\n",
    "        fprime=fp,\n",
    "        tol=1e-12,\n",
    "        full_output=True)\n",
    "print(r)"
   ]
  },
  {
   "cell_type": "code",
   "execution_count": null,
   "metadata": {},
   "outputs": [
    {
     "name": "stdout",
     "output_type": "stream",
     "text": [
      "xn -0.00014076111200528665\n",
      "step_delta -0.00037731125850447020843\n",
      "xn -0.00014076111200528665\n",
      "step_delta -3.7731125850447022938e-05\n",
      "f_new -0.899043083239467 - 1.83641634606272*I\n",
      "f_abs_new 2.04467685994807\n",
      "xn -0.000103029986154839630854\n",
      "step_delta -1.5911686624667764767\n",
      "xn -0.000103029986154839630854\n",
      "step_delta -0.1591168662466776565\n",
      "xn -0.000103029986154839630854\n",
      "step_delta -0.015911686624667766533\n",
      "xn -0.000103029986154839630854\n",
      "step_delta -0.0015911686624667767416\n",
      "xn -0.000103029986154839630854\n",
      "step_delta -0.000159116866246677683\n",
      "xn -0.000103029986154839630854\n",
      "step_delta -1.5911686624667769182e-05\n",
      "f_new -0.899025636112380 - 1.83642488457754*I\n",
      "f_abs_new 2.04467685737451\n",
      "xn -16.73410852809357\n",
      "step_delta -1.5911686674722829304\n",
      "f_new 0.569703900396751 + 1.16509935300594*I\n",
      "f_abs_new 1.29692676605202\n",
      "xn -15.142939860621288591\n",
      "step_delta 0.00013850095485283402859\n",
      "f_new 0.569578746374502 + 1.16484355081475*I\n",
      "f_abs_new 1.29664198844410\n",
      "xn -8.711829953017186167e-05\n",
      "step_delta -6.924671481679869576e-05\n",
      "f_new 0.569706647302926 + 1.16478097726120*I\n",
      "f_abs_new 1.29664196637727\n",
      "xn -1.7871584713373165912e-05\n",
      "step_delta 2.9953121879114918112e-05\n",
      "xn -1.7871584713373165912e-05\n",
      "step_delta 2.9953121879114919773e-06\n",
      "xn -1.7871584713373165912e-05\n",
      "step_delta 2.9953121879114921438e-07\n",
      "xn -1.7871584713373165912e-05\n",
      "step_delta 2.99531218791149231e-08\n",
      "xn -1.7871584713373165912e-05\n",
      "step_delta 2.9953121879114924763e-09\n",
      "xn -1.7871584713373165912e-05\n",
      "step_delta 2.9953121879114926424e-10\n",
      "xn -1.7871584713373165912e-05\n",
      "step_delta 2.9953121879114928086e-11\n",
      "xn -1.7871584713373165912e-05\n",
      "step_delta 2.995312187911492975e-12\n",
      "xn -1.7871584713373165912e-05\n",
      "step_delta 2.9953121879114931412e-13\n",
      "f_new 0.569706647302368 + 1.16478097726147*I\n",
      "f_abs_new 1.29664196637727\n",
      "xn -15.143078361576141425\n",
      "step_delta 0.59906243758229812377\n",
      "f_new -0.0363700153671248 - 0.0739719467636615*I\n",
      "f_abs_new 0.0824295270264901\n",
      "xn -15.742140799158439548\n",
      "step_delta 6.176115148928085971e-05\n",
      "xn -15.742140799158439548\n",
      "step_delta 6.176115148928086314e-06\n",
      "xn -15.742140799158439548\n",
      "step_delta 6.1761151489280866563e-07\n",
      "xn -15.742140799158439548\n",
      "step_delta 6.1761151489280869994e-08\n",
      "xn -15.742140799158439548\n",
      "step_delta 6.1761151489280873425e-09\n",
      "xn -15.742140799158439548\n",
      "step_delta 6.176115148928087685e-10\n",
      "xn -15.742140799158439548\n",
      "step_delta 6.176115148928088028e-11\n",
      "xn -15.742140799158439548\n",
      "step_delta 6.1761151489280883707e-12\n",
      "xn -15.742140799158439548\n",
      "step_delta 6.1761151489280887137e-13\n",
      "xn -15.742140799158439548\n",
      "step_delta 6.176115148928089056e-14\n",
      "xn -1.7871585012904384704e-05\n",
      "step_delta -0.0001544028787232021407\n",
      "xn -1.7871585012904384704e-05\n",
      "step_delta -1.5440287872320214928e-05\n",
      "f_new -0.0363366111748123 - 0.0739882920006374*I\n",
      "f_abs_new 0.0824294647856037\n",
      "xn -2.4312971405841697761e-06\n",
      "step_delta -8.128096817031837242e-14\n",
      "f_new -0.0363366111746309 - 0.0739882920007262*I\n",
      "f_abs_new 0.0824294647856034\n",
      "xn -15.742140799158439548\n",
      "step_delta -0.032512387268127342304\n",
      "f_new -0.00189659455351856 - 0.00360402036824601*I\n",
      "f_abs_new 0.00407259545194074\n",
      "xn -15.709628411890312206\n",
      "step_delta 4.71061724749057823e-15\n",
      "xn -15.709628411890312206\n",
      "step_delta 4.7106172474905784915e-16\n",
      "f_new -0.00189659455351856 - 0.00360402036824601*I\n",
      "f_abs_new 0.00407259545194074\n",
      "xn -2.4312970593032016059e-06\n",
      "step_delta -5.8882715593632191924e-05\n",
      "f_new -0.00176906260030694 - 0.00366642321311964*I\n",
      "f_abs_new 0.00407090182410573\n",
      "xn 5.6451418534328990318e-05\n",
      "step_delta -2.0048238898850586208e-14\n",
      "xn 5.6451418534328990318e-05\n",
      "step_delta -2.0048238898850587322e-15\n",
      "xn 5.6451418534328990318e-05\n",
      "step_delta -2.0048238898850588436e-16\n",
      "f_new -0.00176906260030694 - 0.00366642321311964*I\n",
      "f_abs_new 0.00407090182410573\n",
      "xn -15.709628411890312677\n",
      "step_delta -0.0016038591119080460065\n",
      "f_new -0.0000692964200084915 - 0.000192634349603501*I\n",
      "f_abs_new 0.000204719287008228\n",
      "xn -15.70802455277840463\n",
      "step_delta -4.4167827519444897292e-16\n",
      "f_new -0.0000692964200084915 - 0.000192634349603501*I\n",
      "f_abs_new 0.000204719287008228\n",
      "xn 5.6451418534529472706e-05\n",
      "step_delta 1.1041956879861217581e-05\n",
      "f_new -0.0000932124568899021 - 0.000180931956490201*I\n",
      "f_abs_new 0.000203531164686943\n",
      "xn 4.5409461654668255124e-05\n",
      "step_delta -5.0105850777608071737e-17\n",
      "f_new -0.0000932124568899021 - 0.000180931956490201*I\n",
      "f_abs_new 0.000203531164686943\n",
      "xn -15.708024552778404189\n",
      "step_delta -8.016936124417286583e-05\n",
      "f_new -8.24800561891491e-6 - 7.29110887803026e-6*I\n",
      "f_abs_new 0.0000110086268608280\n",
      "xn -15.707944383417160016\n",
      "step_delta 4.1407665140744766054e-16\n",
      "f_new -8.24800561891491e-6 - 7.29110887803026e-6*I\n",
      "f_abs_new 0.0000110086268608280\n",
      "xn 4.5409461654718360974e-05\n",
      "step_delta -2.0703832570372371536e-06\n",
      "f_new -3.76370722805010e-6 - 9.48532740718935e-6*I\n",
      "f_abs_new 0.0000102047502723023\n",
      "xn 4.7479844911755598128e-05\n",
      "step_delta -1.2526289744385467285e-17\n",
      "f_new -3.76370722805010e-6 - 9.48532740718935e-6*I\n",
      "f_abs_new 0.0000102047502723023\n",
      "xn -15.7079443834171604295\n",
      "step_delta -4.0084127182033473066e-06\n",
      "f_new 4.84459821968754e-7 - 8.03399031456991e-7*I\n",
      "f_abs_new 9.38163803846657e-7\n",
      "xn -15.707940375004442226\n",
      "step_delta -3.8819700624002543604e-16\n",
      "f_new 4.84459821968754e-7 - 8.03399031456991e-7*I\n",
      "f_abs_new 9.38163803846657e-7\n",
      "xn 4.747984491176812442e-05\n",
      "step_delta 3.8819700624002524214e-07\n",
      "f_new -3.56346492283400e-7 - 3.91982860559555e-7*I\n",
      "f_abs_new 5.29748417208711e-7\n",
      "xn 4.7091647905528099176e-05\n",
      "step_delta -3.1315703376313836067e-18\n",
      "f_new -3.56346492283400e-7 - 3.91982860559555e-7*I\n",
      "f_abs_new 5.29748417208711e-7\n",
      "xn -15.707940375004441838\n",
      "step_delta -2.0042050160840845073e-07\n",
      "f_new -1.43938273392387e-7 + 4.21132975323241e-8*I\n",
      "f_abs_new 1.49972518736693e-7\n",
      "xn -15.70794017458394023\n",
      "step_delta 3.6393471414777713698e-16\n",
      "f_new -1.43938273392387e-7 + 4.21132975323241e-8*I\n",
      "f_abs_new 1.49972518736693e-7\n",
      "xn 4.7091647905531230746e-05\n",
      "step_delta -7.278694282955542651e-08\n",
      "f_new 1.37129247807215e-8 - 3.50272344150463e-8*I\n",
      "f_abs_new 3.76158405038135e-8\n",
      "xn 4.716443484836078617e-05\n",
      "step_delta -7.8289200827088903007e-19\n",
      "f_new 1.37129247807215e-8 - 3.50272344150463e-8*I\n",
      "f_abs_new 3.76158405038135e-8\n",
      "xn -15.707940174583940594\n",
      "step_delta -1.0021017705867375136e-08\n",
      "f_new 2.43333280082329e-8 - 1.33224501073753e-8*I\n",
      "f_abs_new 2.77416388993108e-8\n",
      "xn -15.707940164562922888\n",
      "step_delta -3.411888705791547618e-16\n",
      "f_new 2.43333280082329e-8 - 1.33224501073753e-8*I\n",
      "f_abs_new 2.77416388993108e-8\n",
      "xn 4.7164434848361569065e-05\n",
      "step_delta 1.364755482316618517e-08\n",
      "f_new -5.22627791521221e-9 + 1.14140837915645e-9*I\n",
      "f_abs_new 5.34946669632062e-9\n",
      "xn 4.715078729353840288e-05\n",
      "step_delta -1.9572329181147739618e-19\n",
      "f_new -5.22627791521221e-9 + 1.14140837915645e-9*I\n",
      "f_abs_new 5.34946669632062e-9\n",
      "xn -15.707940164562922547\n",
      "step_delta -5.010516270373819396e-10\n",
      "f_new -4.69526037315390e-9 + 2.22665126063008e-9*I\n",
      "f_abs_new 5.19648398517448e-9\n",
      "xn -15.70794016406187092\n",
      "step_delta 3.1986496396053961058e-16\n",
      "f_new -4.69526037315390e-9 + 2.22665126063008e-9*I\n",
      "f_abs_new 5.19648398517448e-9\n",
      "xn 4.7150787293538598605e-05\n",
      "step_delta -2.5589197116843160327e-09\n",
      "f_new 8.47165308715501e-10 - 4.85340175704202e-10*I\n",
      "f_abs_new 9.76342228137048e-10\n",
      "xn 4.715334621325028292e-05\n",
      "step_delta -4.8943972496977437323e-20\n",
      "f_new 8.47165308715501e-10 - 4.85340175704202e-10*I\n",
      "f_abs_new 9.76342228137048e-10\n",
      "xn -15.70794016406187124\n",
      "step_delta -2.5059313918452439565e-11\n",
      "f_new 8.73728720748651e-10 - 4.31052453589592e-10*I\n",
      "f_abs_new 9.74273111199668e-10\n",
      "xn -15.707940164036811926\n",
      "step_delta -2.9987345485314612522e-16\n",
      "f_new 8.73728720748651e-10 - 4.31052453589592e-10*I\n",
      "f_abs_new 9.74273111199668e-10\n",
      "xn 4.7153346213250331864e-05\n",
      "step_delta 4.7979752776503366726e-10\n",
      "f_new -1.65471984720075e-10 + 7.74546591916597e-11*I\n",
      "f_abs_new 1.82702495762091e-10\n",
      "xn 4.715286641572256683e-05\n",
      "step_delta -1.2139413693199274649e-20\n",
      "f_new -1.65471984720075e-10 + 7.74546591916597e-11*I\n",
      "f_abs_new 1.82702495762091e-10\n",
      "xn -15.707940164036811626\n",
      "step_delta -1.2430759621836053792e-12\n",
      "f_new -1.64156043304994e-10 + 8.01440330001544e-11*I\n",
      "f_abs_new 1.82675320114899e-10\n",
      "xn -15.70794016403556855\n",
      "step_delta 2.8113137388361103842e-16\n",
      "f_new -1.64156043304994e-10 + 8.01440330001544e-11*I\n",
      "f_abs_new 1.82675320114899e-10\n",
      "xn 4.715286641572257897e-05\n",
      "step_delta -8.9962039642755512334e-11\n",
      "f_new 3.06980777603494e-11 - 1.51955513592194e-11*I\n",
      "f_abs_new 3.42531277300502e-11\n",
      "xn 4.7152956377762221724e-05\n"
     ]
    },
    {
     "name": "stdout",
     "output_type": "stream",
     "text": [
      "step_delta -3.0175123808540800796e-21\n",
      "f_new 3.06980777603494e-11 - 1.51955513592194e-11*I\n",
      "f_abs_new 3.42531277300502e-11\n",
      "xn -15.707940164035568831\n",
      "step_delta -6.1798653559891546315e-14\n",
      "f_new 3.07564384659405e-11 - 1.50762801216949e-11*I\n",
      "f_abs_new 3.42527769592043e-11\n",
      "xn -15.7079401640355070325\n",
      "step_delta -2.6356958366980534313e-16\n",
      "f_new 3.07564384659405e-11 - 1.50762801216949e-11*I\n",
      "f_abs_new 3.42527769592043e-11\n",
      "xn 4.715295637776222474e-05\n",
      "step_delta 1.6868453354867539154e-11\n",
      "f_new -5.77696966869504e-12 + 2.79993486714844e-12*I\n",
      "f_abs_new 6.41973627287726e-12\n",
      "xn 4.7152939509308869874e-05\n",
      "step_delta -2.3156640228078799768e-21\n",
      "f_new -5.77696966869504e-12 + 2.79993486714844e-12*I\n",
      "f_abs_new 6.41973627287726e-12\n",
      "xn -15.707940164035506769\n",
      "step_delta -9.484959837421074806e-15\n",
      "f_new -5.76190885368671e-12 + 2.83071453326051e-12*I\n",
      "f_abs_new 6.41969924583742e-12\n",
      "xn -15.707940164035497284\n",
      "step_delta 2.46992491313387531e-16\n",
      "f_new -5.76190885368671e-12 + 2.83071453326051e-12*I\n",
      "f_abs_new 6.41969924583742e-12\n",
      "xn 4.715293950930887219e-05\n",
      "step_delta -3.1615038888113605262e-12\n",
      "f_new 1.08249108461689e-12 - 5.18328747976240e-13*I\n",
      "f_abs_new 1.20018816826932e-12\n",
      "xn 4.7152942670812761e-05\n",
      "step_delta 4.9015419049624257056e-21\n",
      "f_new 1.08249108461689e-12 - 5.18328747976240e-13*I\n",
      "f_abs_new 1.20018816826932e-12\n",
      "xn -15.707940164035497531\n",
      "step_delta 4.0153431285452186927e-15\n",
      "f_new 1.07496067711273e-12 - 5.33718591196877e-13*I\n",
      "f_abs_new 1.20016498529487e-12\n",
      "xn -15.707940164035501546\n",
      "step_delta -2.308730858109567347e-16\n",
      "f_new 1.07496067711273e-12 - 5.33718591196877e-13*I\n",
      "f_abs_new 1.20016498529487e-12\n",
      "xn 4.71529426708127561e-05\n",
      "step_delta 5.9103509967604920813e-13\n",
      "f_new -2.01829113317953e-13 + 9.10292972267149e-14*I\n",
      "f_abs_new 2.21407596835115e-13\n",
      "xn 4.7152942079777656426e-05\n",
      "step_delta -1.6691926537003344669e-20\n",
      "f_new -2.01829113317953e-13 + 9.10292972267149e-14*I\n",
      "f_abs_new 2.21407596835115e-13\n",
      "xn -15.707940164035501316\n",
      "step_delta -2.7348052438226278392e-15\n",
      "xn -15.707940164035501316\n",
      "step_delta -2.734805243822627991e-16\n",
      "f_new -2.01829113317953e-13 + 9.10292972267149e-14*I\n",
      "f_abs_new 2.21407596835115e-13\n",
      "xn -15.7079401640355010425\n",
      "step_delta 2.1285732198827990626e-16\n",
      "f_new -2.01829113317953e-13 + 9.10292972267149e-14*I\n",
      "f_abs_new 2.21407596835115e-13\n",
      "xn 4.715294207977767312e-05\n",
      "step_delta -1.0898294885799931202e-13\n",
      "f_new 3.24300319671372e-14 - 2.35963813994339e-14*I\n",
      "f_abs_new 4.01060617430469e-14\n",
      "xn 4.7152942188760621976e-05\n",
      "step_delta -8.345958886631993359e-20\n",
      "f_new 3.24300319671372e-14 - 2.35963813994339e-14*I\n",
      "f_abs_new 4.01060617430469e-14\n",
      "xn -15.707940164035501255\n",
      "step_delta -1.3674019039857857921e-15\n",
      "f_new 3.24300319671372e-14 - 2.35963813994339e-14*I\n",
      "f_abs_new 4.01060617430469e-14\n",
      "xn -15.707940164035499887\n",
      "step_delta -1.8997008593326077384e-16\n",
      "f_new 3.24300319671372e-14 - 2.35963813994339e-14*I\n",
      "f_abs_new 4.01060617430469e-14\n",
      "xn 4.7152942188760705435e-05\n",
      "step_delta 1.9452936799565904324e-14\n",
      "f_new -5.26862624708468e-15 - 5.14998065926382e-15*I\n",
      "f_abs_new 7.36754527113753e-15\n",
      "xn 4.7152942169307768636e-05\n",
      "step_delta -4.1729710599884528084e-19\n",
      "f_new -5.26862624708468e-15 - 5.14998065926382e-15*I\n",
      "f_abs_new 7.36754527113753e-15\n",
      "xn -15.707940164035499697\n",
      "step_delta -6.8369957846850810825e-15\n",
      "xn -15.707940164035499697\n",
      "step_delta -6.836995784685081462e-16\n",
      "xn -15.707940164035499697\n",
      "step_delta -6.8369957846850818414e-17\n",
      "xn -15.707940164035499697\n",
      "step_delta -6.8369957846850822207e-18\n",
      "f_new -5.26862624708468e-15 - 5.14998065926382e-15*I\n",
      "f_abs_new 7.36754527113753e-15\n",
      "xn -15.70794016403549969\n",
      "step_delta 5.9369561382715275767e-17\n",
      "f_new -5.26862624708468e-15 - 5.14998065926382e-15*I\n",
      "f_abs_new 7.36754527113753e-15\n",
      "xn 4.7152942169308185932e-05\n",
      "step_delta -1.2158886171180089828e-15\n",
      "f_new -5.26862624708468e-15 - 5.14998065926382e-15*I\n",
      "f_abs_new 7.36754527113753e-15\n",
      "xn 4.715294217052407455e-05\n",
      "step_delta -2.0864855299942260025e-18\n",
      "f_new -5.26862624708468e-15 - 5.14998065926382e-15*I\n",
      "f_abs_new 7.36754527113753e-15\n",
      "xn -15.707940164035499749\n",
      "step_delta -3.4184978923425404524e-17\n",
      "f_new -5.26862624708468e-15 - 5.14998065926382e-15*I\n",
      "f_abs_new 7.36754527113753e-15\n",
      "xn -15.707940164035499715\n",
      "step_delta 2.9684780691357647673e-16\n",
      "f_new -5.26862624708468e-15 - 5.14998065926382e-15*I\n",
      "f_abs_new 7.36754527113753e-15\n",
      "xn 4.7152942170526161037e-05\n",
      "step_delta -1.2158886171180094512e-15\n",
      "f_new -5.26862624708468e-15 - 5.14998065926382e-15*I\n",
      "f_abs_new 7.36754527113753e-15\n",
      "xn 4.7152942171742049655e-05\n",
      "step_delta -1.0432427649971129434e-17\n",
      "f_new -5.26862624708468e-15 - 5.14998065926382e-15*I\n",
      "f_abs_new 7.36754527113753e-15\n",
      "xn -15.707940164035500012\n",
      "step_delta -1.7092489461712701313e-16\n",
      "f_new -5.26862624708468e-15 - 5.14998065926382e-15*I\n",
      "f_abs_new 7.36754527113753e-15\n",
      "xn -15.707940164035499841\n",
      "step_delta 1.4842390345678831589e-15\n",
      "f_new -5.26862624708468e-15 - 5.14998065926382e-15*I\n",
      "f_abs_new 7.36754527113753e-15\n",
      "xn 4.7152942171752482083e-05\n",
      "step_delta -1.2158886171180101538e-15\n",
      "xn 4.7152942171752482083e-05\n",
      "step_delta -1.2158886171180102213e-16\n",
      "f_new -5.26862624708468e-15 - 5.14998065926382e-15*I\n",
      "f_abs_new 7.36754527113753e-15\n",
      "xn 4.7152942171874070947e-05\n",
      "step_delta -5.2162138249855644275e-17\n",
      "f_new -5.26862624708468e-15 - 5.14998065926382e-15*I\n",
      "f_abs_new 7.36754527113753e-15\n",
      "xn -15.707940164035501325\n",
      "step_delta -8.546244730856350182e-16\n",
      "f_new -5.26862624708468e-15 - 5.14998065926382e-15*I\n",
      "f_abs_new 7.36754527113753e-15\n",
      "xn -15.707940164035500471\n",
      "step_delta 1.4842390345678831589e-15\n",
      "f_new -5.26862624708468e-15 - 5.14998065926382e-15*I\n",
      "f_abs_new 7.36754527113753e-15\n",
      "xn 4.7152942171926233085e-05\n",
      "step_delta -6.079443085590050769e-16\n",
      "f_new -5.26862624708468e-15 - 5.14998065926382e-15*I\n",
      "f_abs_new 7.36754527113753e-15\n",
      "xn 4.7152942172534177394e-05\n",
      "step_delta -2.608106912492782069e-16\n",
      "xn 4.7152942172534177394e-05\n",
      "step_delta -2.6081069124927822137e-17\n",
      "f_new -5.26862624708468e-15 - 5.14998065926382e-15*I\n",
      "f_abs_new 7.36754527113753e-15\n",
      "xn -15.707940164035501955\n",
      "step_delta -4.273122365428174854e-15\n",
      "xn -15.707940164035501955\n",
      "step_delta -4.273122365428175091e-16\n",
      "f_new -5.26862624708468e-15 - 5.14998065926382e-15*I\n",
      "f_abs_new 7.36754527113753e-15\n",
      "xn -15.707940164035501527\n",
      "step_delta 1.4842390345678831589e-15\n",
      "f_new -5.26862624708468e-15 - 5.14998065926382e-15*I\n",
      "f_abs_new 7.36754527113753e-15\n",
      "xn 4.715294217256025846e-05\n",
      "step_delta -3.0397215427950252158e-15\n",
      "xn 4.715294217256025846e-05\n",
      "step_delta -3.0397215427950253845e-16\n",
      "xn 4.715294217256025846e-05\n",
      "step_delta -3.0397215427950255533e-17\n",
      "xn 4.715294217256025846e-05\n",
      "step_delta -3.039721542795025722e-18\n",
      "f_new -5.26862624708468e-15 - 5.14998065926382e-15*I\n",
      "f_abs_new 7.36754527113753e-15\n",
      "xn 4.715294217256329818e-05\n",
      "step_delta -1.3040534562463910345e-16\n",
      "xn 4.715294217256329818e-05\n",
      "step_delta -1.3040534562463911069e-17\n",
      "f_new -5.26862624708468e-15 - 5.14998065926382e-15*I\n",
      "f_abs_new 7.36754527113753e-15\n",
      "xn -15.707940164035503011\n",
      "step_delta -2.136561182714087427e-15\n",
      "f_new -5.26862624708468e-15 - 5.14998065926382e-15*I\n",
      "f_abs_new 7.36754527113753e-15\n",
      "xn -15.707940164035500875\n",
      "step_delta 1.4842390345678831589e-15\n",
      "f_new -5.26862624708468e-15 - 5.14998065926382e-15*I\n",
      "f_abs_new 7.36754527113753e-15\n",
      "xn 4.7152942172576338717e-05\n",
      "step_delta -1.5198607713975127767e-17\n",
      "xn 4.7152942172576338717e-05\n",
      "step_delta -1.519860771397512861e-18\n",
      "f_new -5.26862624708468e-15 - 5.14998065926382e-15*I\n",
      "f_abs_new 7.36754527113753e-15\n",
      "xn 4.715294217257785858e-05\n",
      "step_delta -6.520267281231955173e-17\n",
      "xn 4.715294217257785858e-05\n",
      "step_delta -6.5202672812319555344e-18\n",
      "xn 4.715294217257785858e-05\n",
      "step_delta -6.5202672812319558963e-19\n",
      "f_new -5.26862624708468e-15 - 5.14998065926382e-15*I\n",
      "f_abs_new 7.36754527113753e-15\n",
      "xn -15.707940164035502359\n",
      "step_delta -1.0682805913570436541e-14\n",
      "xn -15.707940164035502359\n",
      "step_delta -1.0682805913570437135e-15\n",
      "f_new -5.26862624708468e-15 - 5.14998065926382e-15*I\n",
      "f_abs_new 7.36754527113753e-15\n",
      "xn -15.7079401640355012905\n",
      "step_delta 1.4842390345678831589e-15\n",
      "f_new -5.26862624708468e-15 - 5.14998065926382e-15*I\n",
      "f_abs_new 7.36754527113753e-15\n",
      "xn 4.7152942172578510605e-05\n",
      "step_delta -7.599303856987563883e-18\n",
      "xn 4.7152942172578510605e-05\n",
      "step_delta -7.599303856987564305e-19\n",
      "f_new -5.26862624708468e-15 - 5.14998065926382e-15*I\n",
      "f_abs_new 7.36754527113753e-15\n",
      "xn 4.7152942172579270536e-05\n",
      "step_delta -3.2601336406159777672e-18\n",
      "xn 4.7152942172579270536e-05\n",
      "step_delta -3.2601336406159779482e-19\n",
      "f_new -5.26862624708468e-15 - 5.14998065926382e-15*I\n",
      "f_abs_new 7.36754527113753e-15\n"
     ]
    },
    {
     "name": "stdout",
     "output_type": "stream",
     "text": [
      "xn -15.707940164035502775\n",
      "step_delta -5.3414029567852182707e-15\n",
      "xn -15.707940164035502775\n",
      "step_delta -5.3414029567852185674e-16\n",
      "f_new -5.26862624708468e-15 - 5.14998065926382e-15*I\n",
      "f_abs_new 7.36754527113753e-15\n",
      "xn -15.70794016403550224\n",
      "step_delta 1.4842390345678831589e-15\n",
      "f_new -5.26862624708468e-15 - 5.14998065926382e-15*I\n",
      "f_abs_new 7.36754527113753e-15\n",
      "xn 4.7152942172579596548e-05\n",
      "step_delta -3.7996519284937804777e-18\n",
      "xn 4.7152942172579596548e-05\n",
      "step_delta -3.7996519284937806887e-19\n",
      "f_new -5.26862624708468e-15 - 5.14998065926382e-15*I\n",
      "f_abs_new 7.36754527113753e-15\n",
      "xn 4.7152942172579976512e-05\n",
      "step_delta -1.6300668203079884369e-18\n",
      "xn 4.7152942172579976512e-05\n",
      "step_delta -1.6300668203079885274e-19\n",
      "f_new -5.26862624708468e-15 - 5.14998065926382e-15*I\n",
      "f_abs_new 7.36754527113753e-15\n",
      "xn -15.707940164035503724\n",
      "step_delta -2.6707014783926084035e-15\n",
      "f_new -5.26862624708468e-15 - 5.14998065926382e-15*I\n",
      "f_abs_new 7.36754527113753e-15\n",
      "xn -15.707940164035501054\n",
      "step_delta 1.4842390345678831589e-15\n",
      "f_new -5.26862624708468e-15 - 5.14998065926382e-15*I\n",
      "f_abs_new 7.36754527113753e-15\n",
      "xn 4.715294217258013952e-05\n",
      "step_delta -1.8998259642468909708e-18\n",
      "xn 4.715294217258013952e-05\n",
      "step_delta -1.8998259642468910762e-19\n",
      "f_new -5.26862624708468e-15 - 5.14998065926382e-15*I\n",
      "f_abs_new 7.36754527113753e-15\n",
      "xn 4.7152942172580329503e-05\n",
      "step_delta -8.150334101539944418e-19\n",
      "xn 4.7152942172580329503e-05\n",
      "step_delta -8.1503341015399448704e-20\n",
      "f_new -5.26862624708468e-15 - 5.14998065926382e-15*I\n",
      "f_abs_new 7.36754527113753e-15\n",
      "xn -15.707940164035502538\n",
      "step_delta -2.6707014783926091353e-15\n",
      "f_new -5.26862624708468e-15 - 5.14998065926382e-15*I\n",
      "f_abs_new 7.36754527113753e-15\n",
      "xn -15.707940164035499867\n",
      "step_delta 1.4842390345678831589e-15\n",
      "f_new -5.26862624708468e-15 - 5.14998065926382e-15*I\n",
      "f_abs_new 7.36754527113753e-15\n",
      "xn 4.7152942172580411007e-05\n",
      "step_delta -9.499129821234454854e-19\n",
      "xn 4.7152942172580411007e-05\n",
      "step_delta -9.499129821234455381e-20\n",
      "f_new -5.26862624708468e-15 - 5.14998065926382e-15*I\n",
      "f_abs_new 7.36754527113753e-15\n",
      "xn 4.7152942172580505997e-05\n",
      "step_delta -4.075167050769972209e-19\n",
      "xn 4.7152942172580505997e-05\n",
      "step_delta -4.0751670507699724352e-20\n",
      "f_new -5.26862624708468e-15 - 5.14998065926382e-15*I\n",
      "f_abs_new 7.36754527113753e-15\n",
      "xn -15.707940164035501351\n",
      "step_delta -2.6707014783926091353e-15\n",
      "xn -15.707940164035501351\n",
      "step_delta -2.6707014783926092837e-16\n",
      "f_new -5.26862624708468e-15 - 5.14998065926382e-15*I\n",
      "f_abs_new 7.36754527113753e-15\n",
      "xn -15.707940164035501084\n",
      "step_delta 1.4842390345678831589e-15\n",
      "f_new -5.26862624708468e-15 - 5.14998065926382e-15*I\n",
      "f_abs_new 7.36754527113753e-15\n",
      "xn 4.7152942172580546747e-05\n",
      "step_delta -4.749564910617227427e-19\n",
      "xn 4.7152942172580546747e-05\n",
      "step_delta -4.7495649106172276905e-20\n",
      "f_new -5.26862624708468e-15 - 5.14998065926382e-15*I\n",
      "f_abs_new 7.36754527113753e-15\n",
      "xn 4.7152942172580594244e-05\n",
      "step_delta -2.0375835253849861045e-19\n",
      "xn 4.7152942172580594244e-05\n",
      "step_delta -2.0375835253849862176e-20\n",
      "f_new -5.26862624708468e-15 - 5.14998065926382e-15*I\n",
      "f_abs_new 7.36754527113753e-15\n",
      "xn -15.707940164035502568\n",
      "step_delta -1.3353507391963045677e-15\n",
      "f_new -5.26862624708468e-15 - 5.14998065926382e-15*I\n",
      "f_abs_new 7.36754527113753e-15\n",
      "xn -15.707940164035501232\n",
      "step_delta 1.4842390345678831589e-15\n",
      "f_new -5.26862624708468e-15 - 5.14998065926382e-15*I\n",
      "f_abs_new 7.36754527113753e-15\n",
      "xn 4.715294217258061462e-05\n",
      "step_delta -2.3747824553086137136e-19\n",
      "xn 4.715294217258061462e-05\n",
      "step_delta -2.3747824553086138453e-20\n",
      "f_new -5.26862624708468e-15 - 5.14998065926382e-15*I\n",
      "f_abs_new 7.36754527113753e-15\n",
      "xn 4.7152942172580638365e-05\n",
      "step_delta -1.01879176269249305225e-19\n",
      "xn 4.7152942172580638365e-05\n",
      "step_delta -1.0187917626924931088e-20\n",
      "f_new -5.26862624708468e-15 - 5.14998065926382e-15*I\n",
      "f_abs_new 7.36754527113753e-15\n",
      "xn -15.7079401640355027165\n",
      "step_delta -6.676753695981522468e-15\n",
      "xn -15.7079401640355027165\n",
      "step_delta -6.6767536959815228383e-16\n",
      "f_new -5.26862624708468e-15 - 5.14998065926382e-15*I\n",
      "f_abs_new 7.36754527113753e-15\n",
      "xn -15.707940164035502049\n",
      "step_delta 1.4842390345678831589e-15\n",
      "f_new -5.26862624708468e-15 - 5.14998065926382e-15*I\n",
      "f_abs_new 7.36754527113753e-15\n",
      "xn 4.7152942172580648553e-05\n",
      "step_delta -1.1873912276543063993e-19\n",
      "xn 4.7152942172580648553e-05\n",
      "step_delta -1.1873912276543064652e-20\n",
      "f_new -5.26862624708468e-15 - 5.14998065926382e-15*I\n",
      "f_abs_new 7.36754527113753e-15\n",
      "xn 4.7152942172580660428e-05\n",
      "step_delta -5.0939588134624638653e-20\n",
      "xn 4.7152942172580660428e-05\n",
      "step_delta -5.093958813462464148e-21\n",
      "f_new -5.26862624708468e-15 - 5.14998065926382e-15*I\n",
      "f_abs_new 7.36754527113753e-15\n",
      "xn -15.707940164035503533\n",
      "step_delta -3.3383768479907603192e-15\n",
      "f_new -5.26862624708468e-15 - 5.14998065926382e-15*I\n",
      "f_abs_new 7.36754527113753e-15\n",
      "xn -15.707940164035500194\n",
      "step_delta 1.4842390345678831589e-15\n",
      "f_new -5.26862624708468e-15 - 5.14998065926382e-15*I\n",
      "f_abs_new 7.36754527113753e-15\n",
      "xn 4.7152942172580665523e-05\n",
      "step_delta -5.936956138271534284e-20\n",
      "xn 4.7152942172580665523e-05\n",
      "step_delta -5.936956138271534613e-21\n",
      "f_new -5.26862624708468e-15 - 5.14998065926382e-15*I\n",
      "f_abs_new 7.36754527113753e-15\n",
      "xn 4.715294217258067146e-05\n",
      "step_delta -2.5469794067312326306e-20\n",
      "f_new -5.26862624708468e-15 - 5.14998065926382e-15*I\n",
      "f_abs_new 7.36754527113753e-15\n",
      "xn -15.707940164035501678\n",
      "step_delta -3.338376847990761234e-15\n",
      "xn -15.707940164035501678\n",
      "step_delta -3.3383768479907614192e-16\n",
      "f_new -5.26862624708468e-15 - 5.14998065926382e-15*I\n",
      "f_abs_new 7.36754527113753e-15\n",
      "xn -15.707940164035501344\n",
      "step_delta 1.4842390345678831589e-15\n",
      "f_new -5.26862624708468e-15 - 5.14998065926382e-15*I\n",
      "f_abs_new 7.36754527113753e-15\n",
      "xn 4.715294217258069693e-05\n",
      "step_delta -2.968478069135767142e-20\n",
      "xn 4.715294217258069693e-05\n",
      "step_delta -2.9684780691357673066e-21\n",
      "xn 4.715294217258069693e-05\n",
      "step_delta -2.9684780691357674713e-22\n",
      "f_new -5.26862624708468e-15 - 5.14998065926382e-15*I\n",
      "f_abs_new 7.36754527113753e-15\n",
      "xn 4.7152942172580697228e-05\n",
      "step_delta -1.2734897033656162447e-19\n",
      "xn 4.7152942172580697228e-05\n",
      "step_delta -1.2734897033656163153e-20\n",
      "xn 4.7152942172580697228e-05\n",
      "step_delta -1.273489703365616386e-21\n",
      "xn 4.7152942172580697228e-05\n",
      "step_delta -1.2734897033656164566e-22\n",
      "f_new -5.26862624708468e-15 - 5.14998065926382e-15*I\n",
      "f_abs_new 7.36754527113753e-15\n",
      "xn -15.707940164035502828\n",
      "step_delta -1.669188423995380617e-15\n",
      "f_new -5.26862624708468e-15 - 5.14998065926382e-15*I\n",
      "f_abs_new 7.36754527113753e-15\n",
      "xn -15.7079401640355011596\n",
      "step_delta 1.4842390345678831589e-15\n",
      "f_new -5.26862624708468e-15 - 5.14998065926382e-15*I\n",
      "f_abs_new 7.36754527113753e-15\n",
      "xn 4.7152942172580697353e-05\n",
      "step_delta -1.4842390345678836533e-21\n",
      "xn 4.7152942172580697353e-05\n",
      "step_delta -1.4842390345678837357e-22\n",
      "f_new -5.26862624708468e-15 - 5.14998065926382e-15*I\n",
      "f_abs_new 7.36754527113753e-15\n",
      "xn 4.7152942172580697502e-05\n",
      "step_delta -6.36744851682808193e-22\n",
      "f_new -5.26862624708468e-15 - 5.14998065926382e-15*I\n",
      "f_abs_new 7.36754527113753e-15\n",
      "xn -15.707940164035502644\n",
      "step_delta -8.345942119976902622e-15\n",
      "xn -15.707940164035502644\n",
      "step_delta -8.345942119976903085e-16\n",
      "f_new -5.26862624708468e-15 - 5.14998065926382e-15*I\n",
      "f_abs_new 7.36754527113753e-15\n",
      "xn -15.707940164035501809\n",
      "step_delta 1.4842390345678831589e-15\n",
      "f_new -5.26862624708468e-15 - 5.14998065926382e-15*I\n",
      "f_abs_new 7.36754527113753e-15\n",
      "xn 4.7152942172580698138e-05\n",
      "step_delta -7.4211951728394154076e-22\n",
      "f_new -5.26862624708468e-15 - 5.14998065926382e-15*I\n",
      "f_abs_new 7.36754527113753e-15\n",
      "xn 4.715294217258069888e-05\n",
      "step_delta -3.1837242584140399158e-21\n",
      "f_new -5.26862624708468e-15 - 5.14998065926382e-15*I\n",
      "f_abs_new 7.36754527113753e-15\n",
      "xn -15.707940164035503293\n",
      "step_delta -4.1729710599884501673e-15\n",
      "xn -15.707940164035503293\n",
      "step_delta -4.172971059988450399e-16\n",
      "xn -15.707940164035503293\n",
      "step_delta -4.1729710599884506304e-17\n",
      "f_new -5.26862624708468e-15 - 5.14998065926382e-15*I\n",
      "f_abs_new 7.36754527113753e-15\n",
      "xn -15.707940164035503252\n",
      "step_delta 1.4842390345678825871e-15\n",
      "f_new -5.26862624708468e-15 - 5.14998065926382e-15*I\n",
      "f_abs_new 7.36754527113753e-15\n",
      "xn 4.7152942172580702062e-05\n",
      "step_delta -3.7105975864197074977e-21\n",
      "xn 4.7152942172580702062e-05\n",
      "step_delta -3.7105975864197077038e-22\n",
      "f_new -5.26862624708468e-15 - 5.14998065926382e-15*I\n",
      "f_abs_new 7.36754527113753e-15\n",
      "xn 4.7152942172580702432e-05\n",
      "step_delta -1.5918621292070198696e-20\n",
      "xn 4.7152942172580702432e-05\n",
      "step_delta -1.5918621292070199579e-21\n",
      "f_new -5.26862624708468e-15 - 5.14998065926382e-15*I\n",
      "f_abs_new 7.36754527113753e-15\n",
      "xn -15.707940164035504736\n"
     ]
    },
    {
     "name": "stdout",
     "output_type": "stream",
     "text": [
      "step_delta -2.0864855299942251995e-16\n",
      "f_new -5.26862624708468e-15 - 5.14998065926382e-15*I\n",
      "f_abs_new 7.36754527113753e-15\n",
      "xn -15.707940164035504527\n",
      "step_delta 1.4842390345678825871e-15\n",
      "f_new -5.26862624708468e-15 - 5.14998065926382e-15*I\n",
      "f_abs_new 7.36754527113753e-15\n",
      "xn 4.7152942172580704024e-05\n",
      "step_delta -1.8552987932098537489e-21\n",
      "f_new -5.26862624708468e-15 - 5.14998065926382e-15*I\n",
      "f_abs_new 7.36754527113753e-15\n",
      "xn 4.715294217258070588e-05\n",
      "step_delta -7.959310646035099348e-21\n",
      "xn 4.715294217258070588e-05\n",
      "step_delta -7.9593106460350997896e-22\n",
      "f_new -5.26862624708468e-15 - 5.14998065926382e-15*I\n",
      "f_abs_new 7.36754527113753e-15\n",
      "xn -15.707940164035506011\n",
      "step_delta -1.0432427649971125418e-15\n",
      "xn -15.707940164035506011\n",
      "step_delta -1.04324276499711259974e-16\n",
      "f_new -5.26862624708468e-15 - 5.14998065926382e-15*I\n",
      "f_abs_new 7.36754527113753e-15\n",
      "xn -15.707940164035505907\n",
      "step_delta 1.4842390345678820153e-15\n",
      "xn -15.707940164035505907\n",
      "step_delta 1.4842390345678820977e-16\n",
      "f_new -5.26862624708468e-15 - 5.14998065926382e-15*I\n",
      "f_abs_new 7.36754527113753e-15\n",
      "xn 4.7152942172580706677e-05\n",
      "step_delta -9.27649396604926823e-21\n",
      "xn 4.7152942172580706677e-05\n",
      "step_delta -9.276493966049268744e-22\n",
      "f_new -5.26862624708468e-15 - 5.14998065926382e-15*I\n",
      "f_abs_new 7.36754527113753e-15\n",
      "xn 4.7152942172580707604e-05\n",
      "step_delta -3.979655323017549674e-21\n",
      "f_new -5.26862624708468e-15 - 5.14998065926382e-15*I\n",
      "f_abs_new 7.36754527113753e-15\n",
      "xn -15.707940164035506055\n",
      "step_delta -5.216213824985562709e-16\n",
      "f_new -5.26862624708468e-15 - 5.14998065926382e-15*I\n",
      "f_abs_new 7.36754527113753e-15\n",
      "xn -15.707940164035505534\n",
      "step_delta 7.4211951728394100767e-16\n",
      "f_new -5.26862624708468e-15 - 5.14998065926382e-15*I\n",
      "f_abs_new 7.36754527113753e-15\n",
      "xn 4.7152942172580711584e-05\n",
      "step_delta -4.638246983024634115e-21\n",
      "xn 4.7152942172580711584e-05\n",
      "step_delta -4.638246983024634372e-22\n",
      "xn 4.7152942172580711584e-05\n",
      "step_delta -4.6382469830246346298e-23\n",
      "f_new -5.26862624708468e-15 - 5.14998065926382e-15*I\n",
      "f_abs_new 7.36754527113753e-15\n",
      "xn 4.715294217258071163e-05\n",
      "step_delta -1.9898276615087747265e-20\n",
      "xn 4.715294217258071163e-05\n",
      "step_delta -1.989827661508774837e-21\n",
      "xn 4.715294217258071163e-05\n",
      "step_delta -1.9898276615087749474e-22\n",
      "f_new -5.26862624708468e-15 - 5.14998065926382e-15*I\n",
      "f_abs_new 7.36754527113753e-15\n",
      "xn -15.707940164035506276\n",
      "step_delta -2.6081069124927812097e-15\n",
      "xn -15.707940164035506276\n",
      "step_delta -2.6081069124927813546e-16\n",
      "f_new -5.26862624708468e-15 - 5.14998065926382e-15*I\n",
      "f_abs_new 7.36754527113753e-15\n",
      "xn -15.707940164035506015\n",
      "step_delta 3.7105975864197048324e-15\n",
      "xn -15.707940164035506015\n",
      "step_delta 3.7105975864197050384e-16\n",
      "f_new -5.26862624708468e-15 - 5.14998065926382e-15*I\n",
      "f_abs_new 7.36754527113753e-15\n",
      "xn 4.715294217258071183e-05\n",
      "step_delta -2.319123491512317186e-22\n",
      "xn 4.715294217258071183e-05\n",
      "step_delta -2.3191234915123173149e-23\n",
      "f_new -5.26862624708468e-15 - 5.14998065926382e-15*I\n",
      "f_abs_new 7.36754527113753e-15\n",
      "xn 4.7152942172580711852e-05\n",
      "step_delta -9.949138307543874185e-22\n",
      "xn 4.7152942172580711852e-05\n",
      "step_delta -9.949138307543874737e-23\n",
      "xn 4.7152942172580711852e-05\n",
      "step_delta -9.949138307543875289e-24\n",
      "f_new -5.26862624708468e-15 - 5.14998065926382e-15*I\n",
      "f_abs_new 7.36754527113753e-15\n",
      "xn -15.707940164035506386\n",
      "step_delta -1.3040534562463906049e-15\n",
      "f_new -5.26862624708468e-15 - 5.14998065926382e-15*I\n",
      "f_abs_new 7.36754527113753e-15\n",
      "xn -15.707940164035505083\n",
      "step_delta 1.8552987932098524162e-15\n",
      "xn -15.707940164035505083\n",
      "step_delta 1.8552987932098525192e-16\n",
      "f_new -5.26862624708468e-15 - 5.14998065926382e-15*I\n",
      "f_abs_new 7.36754527113753e-15\n",
      "xn 4.7152942172580711862e-05\n",
      "step_delta -1.159561745756158593e-22\n",
      "xn 4.7152942172580711862e-05\n",
      "step_delta -1.15956174575615865744e-23\n",
      "f_new -5.26862624708468e-15 - 5.14998065926382e-15*I\n",
      "f_abs_new 7.36754527113753e-15\n",
      "xn 4.7152942172580711875e-05\n",
      "step_delta -4.9745691537719373685e-23\n",
      "f_new -5.26862624708468e-15 - 5.14998065926382e-15*I\n",
      "f_abs_new 7.36754527113753e-15\n",
      "xn -15.707940164035505268\n",
      "step_delta -6.5202672812319526625e-15\n",
      "xn -15.707940164035505268\n",
      "step_delta -6.520267281231953025e-16\n",
      "xn -15.707940164035505268\n",
      "step_delta -6.520267281231953387e-17\n",
      "f_new -5.26862624708468e-15 - 5.14998065926382e-15*I\n",
      "f_abs_new 7.36754527113753e-15\n",
      "xn -15.707940164035505203\n",
      "step_delta 9.276493966049262081e-16\n",
      "f_new -5.26862624708468e-15 - 5.14998065926382e-15*I\n",
      "f_abs_new 7.36754527113753e-15\n",
      "xn 4.7152942172580711925e-05\n",
      "step_delta -5.797808728780792965e-23\n",
      "xn 4.7152942172580711925e-05\n",
      "step_delta -5.7978087287807932872e-24\n",
      "f_new -5.26862624708468e-15 - 5.14998065926382e-15*I\n",
      "f_abs_new 7.36754527113753e-15\n",
      "xn 4.715294217258071193e-05\n",
      "step_delta -2.4872845768859685462e-22\n",
      "xn 4.715294217258071193e-05\n",
      "step_delta -2.4872845768859686842e-23\n",
      "xn 4.715294217258071193e-05\n",
      "step_delta -2.4872845768859688223e-24\n",
      "f_new -5.26862624708468e-15 - 5.14998065926382e-15*I\n",
      "f_abs_new 7.36754527113753e-15\n",
      "xn -15.707940164035506131\n",
      "step_delta -3.2601336406159765124e-16\n",
      "f_new -5.26862624708468e-15 - 5.14998065926382e-15*I\n",
      "f_abs_new 7.36754527113753e-15\n",
      "xn -15.707940164035505805\n",
      "step_delta 9.276493966049262081e-16\n",
      "f_new -5.26862624708468e-15 - 5.14998065926382e-15*I\n",
      "f_abs_new 7.36754527113753e-15\n",
      "xn 4.7152942172580711935e-05\n",
      "step_delta -2.8989043643903964826e-23\n",
      "xn 4.7152942172580711935e-05\n",
      "step_delta -2.8989043643903966436e-24\n",
      "f_new -5.26862624708468e-15 - 5.14998065926382e-15*I\n",
      "f_abs_new 7.36754527113753e-15\n",
      "xn 4.7152942172580711938e-05\n",
      "step_delta -1.2436422884429843421e-23\n",
      "xn 4.7152942172580711938e-05\n",
      "step_delta -1.2436422884429844112e-24\n",
      "f_new -5.26862624708468e-15 - 5.14998065926382e-15*I\n",
      "f_abs_new 7.36754527113753e-15\n",
      "xn -15.707940164035506733\n",
      "step_delta -1.6300668203079881658e-15\n",
      "f_new -5.26862624708468e-15 - 5.14998065926382e-15*I\n",
      "f_abs_new 7.36754527113753e-15\n",
      "xn -15.7079401640355051034\n",
      "step_delta 9.276493966049262081e-16\n",
      "f_new -5.26862624708468e-15 - 5.14998065926382e-15*I\n",
      "f_abs_new 7.36754527113753e-15\n",
      "xn 4.7152942172580711938e-05\n",
      "step_delta -1.4494521821951982413e-23\n",
      "xn 4.7152942172580711938e-05\n",
      "step_delta -1.4494521821951983218e-24\n",
      "f_new -5.26862624708468e-15 - 5.14998065926382e-15*I\n",
      "f_abs_new 7.36754527113753e-15\n",
      "xn 4.7152942172580711938e-05\n",
      "step_delta -6.2182114422149217106e-24\n",
      "xn 4.7152942172580711938e-05\n",
      "step_delta -6.218211442214922056e-25\n",
      "f_new -5.26862624708468e-15 - 5.14998065926382e-15*I\n",
      "f_abs_new 7.36754527113753e-15\n",
      "xn -15.7079401640355060315\n",
      "step_delta -8.150334101539940377e-15\n",
      "xn -15.7079401640355060315\n",
      "step_delta -8.150334101539940829e-16\n",
      "f_new -5.26862624708468e-15 - 5.14998065926382e-15*I\n",
      "f_abs_new 7.36754527113753e-15\n",
      "xn -15.707940164035505216\n",
      "step_delta 9.276493966049262081e-16\n",
      "f_new -5.26862624708468e-15 - 5.14998065926382e-15*I\n",
      "f_abs_new 7.36754527113753e-15\n",
      "xn 4.7152942172580711938e-05\n",
      "step_delta -7.2472609109759912065e-24\n",
      "xn 4.7152942172580711938e-05\n",
      "step_delta -7.247260910975991609e-25\n",
      "f_new -5.26862624708468e-15 - 5.14998065926382e-15*I\n",
      "f_abs_new 7.36754527113753e-15\n",
      "xn 4.7152942172580711938e-05\n",
      "step_delta -3.1091057211074608553e-24\n",
      "f_new -5.26862624708468e-15 - 5.14998065926382e-15*I\n",
      "f_abs_new 7.36754527113753e-15\n",
      "xn -15.707940164035506144\n",
      "step_delta -4.0751670507699701885e-15\n",
      "xn -15.707940164035506144\n",
      "step_delta -4.0751670507699704145e-16\n",
      "f_new -5.26862624708468e-15 - 5.14998065926382e-15*I\n",
      "f_abs_new 7.36754527113753e-15\n",
      "xn -15.707940164035505737\n",
      "step_delta 9.276493966049262081e-16\n",
      "f_new -5.26862624708468e-15 - 5.14998065926382e-15*I\n",
      "f_abs_new 7.36754527113753e-15\n",
      "xn 4.715294217258071194e-05\n",
      "step_delta -3.6236304554879956033e-24\n",
      "xn 4.715294217258071194e-05\n",
      "step_delta -3.6236304554879958045e-25\n",
      "f_new -5.26862624708468e-15 - 5.14998065926382e-15*I\n",
      "f_abs_new 7.36754527113753e-15\n",
      "xn 4.715294217258071194e-05\n",
      "step_delta -1.5545528605537303414e-23\n",
      "xn 4.715294217258071194e-05\n",
      "step_delta -1.55455286055373042765e-24\n",
      "f_new -5.26862624708468e-15 - 5.14998065926382e-15*I\n",
      "f_abs_new 7.36754527113753e-15\n",
      "xn -15.707940164035506665\n",
      "step_delta -2.0375835253849850942e-15\n",
      "xn -15.707940164035506665\n",
      "step_delta -2.0375835253849852073e-16\n",
      "f_new -5.26862624708468e-15 - 5.14998065926382e-15*I\n",
      "f_abs_new 7.36754527113753e-15\n",
      "xn -15.707940164035506461\n",
      "step_delta 9.276493966049262081e-16\n",
      "xn -15.707940164035506461\n",
      "step_delta 9.276493966049262596e-17\n",
      "f_new -5.26862624708468e-15 - 5.14998065926382e-15*I\n",
      "f_abs_new 7.36754527113753e-15\n",
      "xn 4.715294217258071194e-05\n",
      "step_delta -1.8118152277439978016e-24\n",
      "xn 4.715294217258071194e-05\n",
      "step_delta -1.8118152277439979023e-25\n",
      "f_new -5.26862624708468e-15 - 5.14998065926382e-15*I\n",
      "f_abs_new 7.36754527113753e-15\n",
      "xn 4.715294217258071194e-05\n"
     ]
    },
    {
     "name": "stdout",
     "output_type": "stream",
     "text": [
      "step_delta -7.772764302768651707e-24\n",
      "xn 4.715294217258071194e-05\n",
      "step_delta -7.7727643027686521383e-25\n",
      "f_new -5.26862624708468e-15 - 5.14998065926382e-15*I\n",
      "f_abs_new 7.36754527113753e-15\n",
      "xn -15.707940164035506554\n",
      "step_delta -1.0187917626924925471e-15\n",
      "f_new -5.26862624708468e-15 - 5.14998065926382e-15*I\n",
      "f_abs_new 7.36754527113753e-15\n",
      "xn -15.7079401640355055345\n",
      "step_delta 4.6382469830246310405e-16\n",
      "f_new -5.26862624708468e-15 - 5.14998065926382e-15*I\n",
      "f_abs_new 7.36754527113753e-15\n",
      "xn 4.715294217258071194e-05\n",
      "step_delta -9.059076138719989008e-25\n",
      "f_new -5.26862624708468e-15 - 5.14998065926382e-15*I\n",
      "f_abs_new 7.36754527113753e-15\n",
      "xn 4.715294217258071194e-05\n",
      "step_delta -3.8863821513843258535e-24\n",
      "xn 4.715294217258071194e-05\n",
      "step_delta -3.8863821513843260691e-25\n",
      "f_new -5.26862624708468e-15 - 5.14998065926382e-15*I\n",
      "f_abs_new 7.36754527113753e-15\n",
      "xn -15.7079401640355059986\n",
      "step_delta -5.0939588134624624527e-15\n",
      "xn -15.7079401640355059986\n",
      "step_delta -5.0939588134624627356e-16\n",
      "f_new -5.26862624708468e-15 - 5.14998065926382e-15*I\n",
      "f_abs_new 7.36754527113753e-15\n",
      "xn -15.707940164035505489\n",
      "step_delta 2.3191234915123153915e-15\n",
      "xn -15.707940164035505489\n",
      "step_delta 2.3191234915123155202e-16\n",
      "f_new -5.26862624708468e-15 - 5.14998065926382e-15*I\n",
      "f_abs_new 7.36754527113753e-15\n",
      "xn 4.715294217258071194e-05\n",
      "step_delta -4.529538069359994253e-24\n",
      "xn 4.715294217258071194e-05\n",
      "step_delta -4.529538069359994504e-25\n",
      "f_new -5.26862624708468e-15 - 5.14998065926382e-15*I\n",
      "f_abs_new 7.36754527113753e-15\n",
      "xn 4.715294217258071194e-05\n",
      "step_delta -1.9431910756921629267e-24\n",
      "xn 4.715294217258071194e-05\n",
      "step_delta -1.9431910756921630346e-25\n",
      "f_new -5.26862624708468e-15 - 5.14998065926382e-15*I\n",
      "f_abs_new 7.36754527113753e-15\n",
      "xn -15.707940164035505721\n",
      "step_delta -2.5469794067312312263e-15\n",
      "xn -15.707940164035505721\n",
      "step_delta -2.5469794067312313678e-16\n",
      "f_new -5.26862624708468e-15 - 5.14998065926382e-15*I\n",
      "f_abs_new 7.36754527113753e-15\n",
      "xn -15.707940164035505466\n",
      "step_delta 1.1595617457561576958e-15\n",
      "f_new -5.26862624708468e-15 - 5.14998065926382e-15*I\n",
      "f_abs_new 7.36754527113753e-15\n",
      "xn 4.715294217258071194e-05\n",
      "step_delta -2.2647690346799971264e-24\n",
      "xn 4.715294217258071194e-05\n",
      "step_delta -2.264769034679997252e-25\n",
      "f_new -5.26862624708468e-15 - 5.14998065926382e-15*I\n",
      "f_abs_new 7.36754527113753e-15\n",
      "xn 4.715294217258071194e-05\n",
      "step_delta -9.715955378460814634e-25\n",
      "f_new -5.26862624708468e-15 - 5.14998065926382e-15*I\n",
      "f_abs_new 7.36754527113753e-15\n",
      "xn -15.707940164035506626\n",
      "step_delta -1.2734897033656156132e-15\n",
      "f_new -5.26862624708468e-15 - 5.14998065926382e-15*I\n",
      "f_abs_new 7.36754527113753e-15\n",
      "xn -15.707940164035505352\n",
      "step_delta 1.1595617457561576958e-15\n",
      "f_new -5.26862624708468e-15 - 5.14998065926382e-15*I\n",
      "f_abs_new 7.36754527113753e-15\n",
      "xn 4.715294217258071194e-05\n",
      "step_delta -1.1323845173399985632e-24\n",
      "f_new -5.26862624708468e-15 - 5.14998065926382e-15*I\n",
      "f_abs_new 7.36754527113753e-15\n",
      "xn 4.715294217258071194e-05\n",
      "step_delta -4.8579776892304070472e-24\n",
      "xn 4.715294217258071194e-05\n",
      "step_delta -4.857977689230407317e-25\n",
      "f_new -5.26862624708468e-15 - 5.14998065926382e-15*I\n",
      "f_abs_new 7.36754527113753e-15\n",
      "xn -15.707940164035506512\n",
      "step_delta -6.3674485168280777123e-15\n",
      "xn -15.707940164035506512\n",
      "step_delta -6.367448516828078066e-16\n",
      "f_new -5.26862624708468e-15 - 5.14998065926382e-15*I\n",
      "f_abs_new 7.36754527113753e-15\n",
      "xn -15.707940164035505875\n",
      "step_delta 1.1595617457561576958e-15\n",
      "xn -15.707940164035505875\n",
      "step_delta 1.1595617457561577601e-16\n",
      "f_new -5.26862624708468e-15 - 5.14998065926382e-15*I\n",
      "f_abs_new 7.36754527113753e-15\n",
      "xn 4.715294217258071194e-05\n",
      "step_delta -5.6619225866999925017e-24\n",
      "xn 4.715294217258071194e-05\n",
      "step_delta -5.661922586699992816e-25\n",
      "f_new -5.26862624708468e-15 - 5.14998065926382e-15*I\n",
      "f_abs_new 7.36754527113753e-15\n",
      "xn 4.715294217258071194e-05\n",
      "step_delta -2.4289888446152035236e-24\n",
      "xn 4.715294217258071194e-05\n",
      "step_delta -2.4289888446152036584e-25\n",
      "f_new -5.26862624708468e-15 - 5.14998065926382e-15*I\n",
      "f_abs_new 7.36754527113753e-15\n",
      "xn -15.707940164035505992\n",
      "step_delta -3.1837242584140388562e-15\n",
      "xn -15.707940164035505992\n",
      "step_delta -3.183724258414039033e-16\n",
      "f_new -5.26862624708468e-15 - 5.14998065926382e-15*I\n",
      "f_abs_new 7.36754527113753e-15\n",
      "xn -15.707940164035505673\n",
      "step_delta 5.797808728780788479e-16\n",
      "f_new -5.26862624708468e-15 - 5.14998065926382e-15*I\n",
      "f_abs_new 7.36754527113753e-15\n",
      "xn 4.715294217258071194e-05\n",
      "step_delta -2.8309612933499962509e-24\n",
      "xn 4.715294217258071194e-05\n",
      "step_delta -2.830961293349996408e-25\n",
      "f_new -5.26862624708468e-15 - 5.14998065926382e-15*I\n",
      "f_abs_new 7.36754527113753e-15\n",
      "xn 4.715294217258071194e-05\n",
      "step_delta -1.2144944223076017618e-24\n",
      "f_new -5.26862624708468e-15 - 5.14998065926382e-15*I\n",
      "f_abs_new 7.36754527113753e-15\n",
      "xn -15.707940164035506253\n",
      "step_delta -1.5918621292070194281e-15\n",
      "xn -15.707940164035506253\n",
      "step_delta -1.5918621292070195165e-16\n",
      "f_new -5.26862624708468e-15 - 5.14998065926382e-15*I\n",
      "f_abs_new 7.36754527113753e-15\n",
      "xn -15.707940164035506093\n",
      "step_delta 2.8989043643903940784e-15\n",
      "xn -15.707940164035506093\n",
      "step_delta 2.8989043643903942394e-16\n",
      "f_new -5.26862624708468e-15 - 5.14998065926382e-15*I\n",
      "f_abs_new 7.36754527113753e-15\n",
      "xn 4.715294217258071194e-05\n",
      "step_delta -1.4154806466749981254e-24\n",
      "f_new -5.26862624708468e-15 - 5.14998065926382e-15*I\n",
      "f_abs_new 7.36754527113753e-15\n",
      "xn 4.715294217258071194e-05\n",
      "step_delta -6.072472111538008472e-24\n",
      "xn 4.715294217258071194e-05\n",
      "step_delta -6.072472111538008809e-25\n",
      "f_new -5.26862624708468e-15 - 5.14998065926382e-15*I\n",
      "f_abs_new 7.36754527113753e-15\n",
      "xn -15.707940164035506383\n",
      "step_delta -7.9593106460350971404e-16\n",
      "f_new -5.26862624708468e-15 - 5.14998065926382e-15*I\n",
      "f_abs_new 7.36754527113753e-15\n",
      "xn -15.707940164035505587\n",
      "step_delta 1.4494521821951970392e-15\n",
      "xn -15.707940164035505587\n",
      "step_delta 1.4494521821951971197e-16\n",
      "f_new -5.26862624708468e-15 - 5.14998065926382e-15*I\n",
      "f_abs_new 7.36754527113753e-15\n",
      "xn 4.715294217258071194e-05\n",
      "step_delta -7.077403233374990234e-24\n",
      "xn 4.715294217258071194e-05\n",
      "step_delta -7.077403233374990627e-25\n",
      "f_new -5.26862624708468e-15 - 5.14998065926382e-15*I\n",
      "f_abs_new 7.36754527113753e-15\n",
      "xn 4.715294217258071194e-05\n",
      "step_delta -3.036236055769004236e-24\n",
      "xn 4.715294217258071194e-05\n",
      "step_delta -3.0362360557690044045e-25\n",
      "f_new -5.26862624708468e-15 - 5.14998065926382e-15*I\n",
      "f_abs_new 7.36754527113753e-15\n",
      "xn -15.707940164035505731\n",
      "step_delta -3.9796553230175483494e-15\n",
      "xn -15.707940164035505731\n",
      "step_delta -3.9796553230175485702e-16\n",
      "f_new -5.26862624708468e-15 - 5.14998065926382e-15*I\n",
      "f_abs_new 7.36754527113753e-15\n",
      "xn -15.707940164035505333\n",
      "step_delta 7.247260910975985196e-16\n",
      "f_new -5.26862624708468e-15 - 5.14998065926382e-15*I\n",
      "f_abs_new 7.36754527113753e-15\n",
      "xn 4.715294217258071194e-05\n",
      "step_delta -3.538701616687495117e-24\n",
      "xn 4.715294217258071194e-05\n",
      "step_delta -3.5387016166874953136e-25\n",
      "f_new -5.26862624708468e-15 - 5.14998065926382e-15*I\n",
      "f_abs_new 7.36754527113753e-15\n",
      "xn 4.715294217258071194e-05\n",
      "step_delta -1.518118027884502118e-24\n",
      "f_new -5.26862624708468e-15 - 5.14998065926382e-15*I\n",
      "f_abs_new 7.36754527113753e-15\n",
      "xn -15.707940164035506058\n",
      "step_delta -1.9898276615087741747e-15\n",
      "xn -15.707940164035506058\n",
      "step_delta -1.9898276615087742851e-16\n",
      "f_new -5.26862624708468e-15 - 5.14998065926382e-15*I\n",
      "f_abs_new 7.36754527113753e-15\n",
      "xn -15.70794016403550586\n",
      "step_delta 3.623630455487992397e-15\n",
      "xn -15.70794016403550586\n",
      "step_delta 3.623630455487992598e-16\n",
      "f_new -5.26862624708468e-15 - 5.14998065926382e-15*I\n",
      "f_abs_new 7.36754527113753e-15\n",
      "xn 4.715294217258071194e-05\n",
      "step_delta -1.7693508083437475585e-24\n",
      "xn 4.715294217258071194e-05\n",
      "step_delta -1.7693508083437476568e-25\n",
      "f_new -5.26862624708468e-15 - 5.14998065926382e-15*I\n",
      "f_abs_new 7.36754527113753e-15\n",
      "xn 4.715294217258071194e-05\n",
      "step_delta -7.590590139422510168e-24\n",
      "xn 4.715294217258071194e-05\n",
      "step_delta -7.59059013942251059e-25\n",
      "f_new -5.26862624708468e-15 - 5.14998065926382e-15*I\n",
      "f_abs_new 7.36754527113753e-15\n",
      "xn -15.707940164035506222\n",
      "step_delta -9.949138307543870873e-16\n",
      "f_new -5.26862624708468e-15 - 5.14998065926382e-15*I\n",
      "f_abs_new 7.36754527113753e-15\n",
      "xn -15.7079401640355052275\n",
      "step_delta 1.8118152277439961984e-15\n",
      "xn -15.7079401640355052275\n",
      "step_delta 1.811815227743996299e-16\n",
      "f_new -5.26862624708468e-15 - 5.14998065926382e-15*I\n",
      "f_abs_new 7.36754527113753e-15\n",
      "xn 4.715294217258071194e-05\n",
      "step_delta -8.846754041718737793e-25\n",
      "f_new -5.26862624708468e-15 - 5.14998065926382e-15*I\n",
      "f_abs_new 7.36754527113753e-15\n",
      "xn 4.715294217258071194e-05\n",
      "step_delta -3.795295069711255084e-24\n",
      "xn 4.715294217258071194e-05\n",
      "step_delta -3.795295069711255295e-25\n",
      "f_new -5.26862624708468e-15 - 5.14998065926382e-15*I\n",
      "f_abs_new 7.36754527113753e-15\n",
      "xn -15.707940164035505409\n"
     ]
    },
    {
     "name": "stdout",
     "output_type": "stream",
     "text": [
      "step_delta -4.9745691537719351605e-15\n",
      "xn -15.707940164035505409\n",
      "step_delta -4.9745691537719354367e-16\n",
      "xn -15.707940164035505409\n",
      "step_delta -4.9745691537719357128e-17\n",
      "f_new -5.26862624708468e-15 - 5.14998065926382e-15*I\n",
      "f_abs_new 7.36754527113753e-15\n",
      "xn -15.707940164035505359\n",
      "step_delta 9.059076138719980992e-16\n",
      "f_new -5.26862624708468e-15 - 5.14998065926382e-15*I\n",
      "f_abs_new 7.36754527113753e-15\n",
      "xn 4.715294217258071194e-05\n",
      "step_delta -4.423377020859368651e-24\n",
      "xn 4.715294217258071194e-05\n",
      "step_delta -4.4233770208593688964e-25\n",
      "f_new -5.26862624708468e-15 - 5.14998065926382e-15*I\n",
      "f_abs_new 7.36754527113753e-15\n",
      "xn 4.715294217258071194e-05\n",
      "step_delta -1.897647534855627542e-24\n",
      "xn 4.715294217258071194e-05\n",
      "step_delta -1.8976475348556276475e-25\n",
      "f_new -5.26862624708468e-15 - 5.14998065926382e-15*I\n",
      "f_abs_new 7.36754527113753e-15\n",
      "xn -15.707940164035506265\n",
      "step_delta -2.4872845768859677183e-16\n",
      "f_new -5.26862624708468e-15 - 5.14998065926382e-15*I\n",
      "f_abs_new 7.36754527113753e-15\n",
      "xn -15.707940164035506016\n",
      "step_delta 4.5295380693599902446e-15\n",
      "xn -15.707940164035506016\n",
      "step_delta 4.529538069359990496e-16\n",
      "f_new -5.26862624708468e-15 - 5.14998065926382e-15*I\n",
      "f_abs_new 7.36754527113753e-15\n",
      "xn 4.715294217258071194e-05\n",
      "step_delta -2.2116885104296843255e-24\n",
      "xn 4.715294217258071194e-05\n",
      "step_delta -2.2116885104296844482e-25\n",
      "f_new -5.26862624708468e-15 - 5.14998065926382e-15*I\n",
      "f_abs_new 7.36754527113753e-15\n",
      "xn 4.715294217258071194e-05\n",
      "step_delta -9.48823767427813771e-25\n",
      "f_new -5.26862624708468e-15 - 5.14998065926382e-15*I\n",
      "f_abs_new 7.36754527113753e-15\n",
      "xn -15.707940164035506469\n",
      "step_delta -1.2436422884429837901e-15\n",
      "f_new -5.26862624708468e-15 - 5.14998065926382e-15*I\n",
      "f_abs_new 7.36754527113753e-15\n",
      "xn -15.707940164035505225\n",
      "step_delta 2.2647690346799951223e-15\n",
      "xn -15.707940164035505225\n",
      "step_delta 2.264769034679995248e-16\n",
      "f_new -5.26862624708468e-15 - 5.14998065926382e-15*I\n",
      "f_abs_new 7.36754527113753e-15\n",
      "xn 4.715294217258071194e-05\n",
      "step_delta -1.10584425521484216275e-24\n",
      "f_new -5.26862624708468e-15 - 5.14998065926382e-15*I\n",
      "f_abs_new 7.36754527113753e-15\n",
      "xn 4.715294217258071194e-05\n",
      "step_delta -4.744118837139068592e-24\n",
      "xn 4.715294217258071194e-05\n",
      "step_delta -4.744118837139068855e-25\n",
      "f_new -5.26862624708468e-15 - 5.14998065926382e-15*I\n",
      "f_abs_new 7.36754527113753e-15\n",
      "xn -15.707940164035505451\n",
      "step_delta -6.2182114422149186056e-15\n",
      "xn -15.707940164035505451\n",
      "step_delta -6.2182114422149189506e-16\n",
      "xn -15.707940164035505451\n",
      "step_delta -6.218211442214919296e-17\n",
      "f_new -5.26862624708468e-15 - 5.14998065926382e-15*I\n",
      "f_abs_new 7.36754527113753e-15\n",
      "xn -15.707940164035505389\n",
      "step_delta 1.1323845173399975612e-15\n",
      "f_new -5.26862624708468e-15 - 5.14998065926382e-15*I\n",
      "f_abs_new 7.36754527113753e-15\n",
      "xn 4.715294217258071194e-05\n",
      "step_delta -5.5292212760742105065e-24\n",
      "xn 4.715294217258071194e-05\n",
      "step_delta -5.5292212760742108137e-25\n",
      "f_new -5.26862624708468e-15 - 5.14998065926382e-15*I\n",
      "f_abs_new 7.36754527113753e-15\n",
      "xn 4.715294217258071194e-05\n",
      "step_delta -2.372059418569534296e-24\n",
      "xn 4.715294217258071194e-05\n",
      "step_delta -2.3720594185695344276e-25\n",
      "f_new -5.26862624708468e-15 - 5.14998065926382e-15*I\n",
      "f_abs_new 7.36754527113753e-15\n",
      "xn -15.707940164035506522\n",
      "step_delta -3.1091057211074594753e-16\n",
      "f_new -5.26862624708468e-15 - 5.14998065926382e-15*I\n",
      "f_abs_new 7.36754527113753e-15\n",
      "xn -15.707940164035506211\n",
      "step_delta 1.1323845173399975612e-15\n",
      "xn -15.707940164035506211\n",
      "step_delta 1.132384517339997624e-16\n",
      "f_new -5.26862624708468e-15 - 5.14998065926382e-15*I\n",
      "f_abs_new 7.36754527113753e-15\n",
      "xn 4.715294217258071194e-05\n",
      "step_delta -2.7646106380371052532e-24\n",
      "xn 4.715294217258071194e-05\n",
      "step_delta -2.7646106380371054069e-25\n",
      "f_new -5.26862624708468e-15 - 5.14998065926382e-15*I\n",
      "f_abs_new 7.36754527113753e-15\n",
      "xn 4.715294217258071194e-05\n",
      "step_delta -1.186029709284767148e-24\n",
      "f_new -5.26862624708468e-15 - 5.14998065926382e-15*I\n",
      "f_abs_new 7.36754527113753e-15\n",
      "xn -15.707940164035506325\n",
      "step_delta -1.5545528605537296514e-15\n",
      "xn -15.707940164035506325\n",
      "step_delta -1.5545528605537297377e-16\n",
      "f_new -5.26862624708468e-15 - 5.14998065926382e-15*I\n",
      "f_abs_new 7.36754527113753e-15\n",
      "xn -15.7079401640355061694\n",
      "step_delta 5.661922586699987806e-16\n",
      "f_new -5.26862624708468e-15 - 5.14998065926382e-15*I\n",
      "f_abs_new 7.36754527113753e-15\n",
      "xn 4.715294217258071194e-05\n",
      "step_delta -1.3823053190185526266e-24\n",
      "f_new -5.26862624708468e-15 - 5.14998065926382e-15*I\n",
      "f_abs_new 7.36754527113753e-15\n",
      "xn 4.715294217258071194e-05\n",
      "step_delta -5.930148546423835411e-24\n",
      "xn 4.715294217258071194e-05\n",
      "step_delta -5.93014854642383574e-25\n",
      "f_new -5.26862624708468e-15 - 5.14998065926382e-15*I\n",
      "f_abs_new 7.36754527113753e-15\n",
      "xn -15.707940164035506736\n",
      "step_delta -7.772764302768648257e-16\n",
      "f_new -5.26862624708468e-15 - 5.14998065926382e-15*I\n",
      "f_abs_new 7.36754527113753e-15\n",
      "xn -15.707940164035505959\n",
      "step_delta 2.8309612933499937457e-15\n",
      "xn -15.707940164035505959\n",
      "step_delta 2.830961293349993903e-16\n",
      "f_new -5.26862624708468e-15 - 5.14998065926382e-15*I\n",
      "f_abs_new 7.36754527113753e-15\n",
      "xn 4.715294217258071194e-05\n",
      "step_delta -6.911526595092762749e-24\n",
      "xn 4.715294217258071194e-05\n",
      "step_delta -6.911526595092763133e-25\n",
      "f_new -5.26862624708468e-15 - 5.14998065926382e-15*I\n",
      "f_abs_new 7.36754527113753e-15\n",
      "xn 4.715294217258071194e-05\n",
      "step_delta -2.9650742732119177055e-24\n",
      "xn 4.715294217258071194e-05\n",
      "step_delta -2.96507427321191787e-25\n",
      "f_new -5.26862624708468e-15 - 5.14998065926382e-15*I\n",
      "f_abs_new 7.36754527113753e-15\n",
      "xn -15.707940164035506241\n",
      "step_delta -3.8863821513843239127e-15\n",
      "xn -15.707940164035506241\n",
      "step_delta -3.8863821513843241285e-16\n",
      "f_new -5.26862624708468e-15 - 5.14998065926382e-15*I\n",
      "f_abs_new 7.36754527113753e-15\n",
      "xn -15.707940164035505853\n",
      "step_delta 1.4154806466749968728e-15\n",
      "xn -15.707940164035505853\n",
      "step_delta 1.4154806466749969514e-16\n",
      "f_new -5.26862624708468e-15 - 5.14998065926382e-15*I\n",
      "f_abs_new 7.36754527113753e-15\n",
      "xn 4.715294217258071194e-05\n",
      "step_delta -3.4557632975463813746e-24\n",
      "xn 4.715294217258071194e-05\n",
      "step_delta -3.4557632975463815666e-25\n",
      "f_new -5.26862624708468e-15 - 5.14998065926382e-15*I\n",
      "f_abs_new 7.36754527113753e-15\n",
      "xn 4.715294217258071194e-05\n",
      "step_delta -1.4825371366059588527e-24\n",
      "f_new -5.26862624708468e-15 - 5.14998065926382e-15*I\n",
      "f_abs_new 7.36754527113753e-15\n",
      "xn -15.707940164035505994\n",
      "step_delta -1.9431910756921619564e-15\n",
      "xn -15.707940164035505994\n",
      "step_delta -1.9431910756921620643e-16\n",
      "f_new -5.26862624708468e-15 - 5.14998065926382e-15*I\n",
      "f_abs_new 7.36754527113753e-15\n",
      "xn -15.7079401640355058\n",
      "step_delta 7.077403233374984364e-16\n",
      "f_new -5.26862624708468e-15 - 5.14998065926382e-15*I\n",
      "f_abs_new 7.36754527113753e-15\n",
      "xn 4.715294217258071194e-05\n",
      "step_delta -1.7278816487731906873e-24\n",
      "xn 4.715294217258071194e-05\n",
      "step_delta -1.7278816487731907833e-25\n",
      "f_new -5.26862624708468e-15 - 5.14998065926382e-15*I\n",
      "f_abs_new 7.36754527113753e-15\n",
      "xn 4.715294217258071194e-05\n",
      "step_delta -7.412685683029793852e-24\n",
      "xn 4.715294217258071194e-05\n",
      "step_delta -7.4126856830297942636e-25\n",
      "f_new -5.26862624708468e-15 - 5.14998065926382e-15*I\n",
      "f_abs_new 7.36754527113753e-15\n",
      "xn -15.707940164035506508\n",
      "step_delta -9.715955378460809782e-16\n",
      "f_new -5.26862624708468e-15 - 5.14998065926382e-15*I\n",
      "f_abs_new 7.36754527113753e-15\n",
      "xn -15.707940164035505536\n",
      "step_delta 3.5387016166874919855e-15\n",
      "xn -15.707940164035505536\n",
      "step_delta 3.538701616687492182e-16\n",
      "f_new -5.26862624708468e-15 - 5.14998065926382e-15*I\n",
      "f_abs_new 7.36754527113753e-15\n",
      "xn 4.715294217258071194e-05\n",
      "step_delta -8.639408243865953437e-25\n",
      "f_new -5.26862624708468e-15 - 5.14998065926382e-15*I\n",
      "f_abs_new 7.36754527113753e-15\n",
      "xn 4.715294217258071194e-05\n",
      "step_delta -3.706342841514896926e-24\n",
      "xn 4.715294217258071194e-05\n",
      "step_delta -3.7063428415148971318e-25\n",
      "f_new -5.26862624708468e-15 - 5.14998065926382e-15*I\n",
      "f_abs_new 7.36754527113753e-15\n",
      "xn -15.70794016403550589\n",
      "step_delta -4.8579776892304046213e-15\n",
      "xn -15.70794016403550589\n",
      "step_delta -4.857977689230404891e-16\n",
      "f_new -5.26862624708468e-15 - 5.14998065926382e-15*I\n",
      "f_abs_new 7.36754527113753e-15\n",
      "xn -15.707940164035505404\n",
      "step_delta 1.7693508083437459928e-15\n",
      "xn -15.707940164035505404\n",
      "step_delta 1.769350808343746091e-16\n",
      "f_new -5.26862624708468e-15 - 5.14998065926382e-15*I\n",
      "f_abs_new 7.36754527113753e-15\n",
      "xn 4.715294217258071194e-05\n",
      "step_delta -4.3197041219329764787e-24\n",
      "xn 4.715294217258071194e-05\n",
      "step_delta -4.3197041219329767187e-25\n",
      "f_new -5.26862624708468e-15 - 5.14998065926382e-15*I\n",
      "f_abs_new 7.36754527113753e-15\n",
      "xn 4.715294217258071194e-05\n",
      "step_delta -1.853171420757448463e-24\n",
      "xn 4.715294217258071194e-05\n",
      "step_delta -1.8531714207574485659e-25\n",
      "f_new -5.26862624708468e-15 - 5.14998065926382e-15*I\n",
      "f_abs_new 7.36754527113753e-15\n"
     ]
    },
    {
     "name": "stdout",
     "output_type": "stream",
     "text": [
      "xn -15.707940164035505581\n",
      "step_delta -2.4289888446152023106e-15\n",
      "xn -15.707940164035505581\n",
      "step_delta -2.4289888446152024454e-16\n",
      "f_new -5.26862624708468e-15 - 5.14998065926382e-15*I\n",
      "f_abs_new 7.36754527113753e-15\n",
      "xn -15.7079401640355053385\n",
      "step_delta 8.846754041718729964e-16\n",
      "f_new -5.26862624708468e-15 - 5.14998065926382e-15*I\n",
      "f_abs_new 7.36754527113753e-15\n",
      "xn 4.715294217258071194e-05\n",
      "step_delta -2.1598520609664882393e-24\n",
      "xn 4.715294217258071194e-05\n",
      "step_delta -2.1598520609664883594e-25\n",
      "f_new -5.26862624708468e-15 - 5.14998065926382e-15*I\n",
      "f_abs_new 7.36754527113753e-15\n",
      "xn 4.715294217258071194e-05\n",
      "step_delta -9.265857103787242315e-25\n",
      "f_new -5.26862624708468e-15 - 5.14998065926382e-15*I\n",
      "f_abs_new 7.36754527113753e-15\n",
      "xn -15.707940164035506223\n",
      "step_delta -1.2144944223076011553e-15\n",
      "f_new -5.26862624708468e-15 - 5.14998065926382e-15*I\n",
      "f_abs_new 7.36754527113753e-15\n",
      "xn -15.707940164035505009\n",
      "step_delta 4.4233770208593647366e-15\n",
      "xn -15.707940164035505009\n",
      "step_delta 4.4233770208593649824e-16\n",
      "f_new -5.26862624708468e-15 - 5.14998065926382e-15*I\n",
      "f_abs_new 7.36754527113753e-15\n",
      "xn 4.715294217258071194e-05\n",
      "step_delta -1.0799260304832441197e-24\n",
      "f_new -5.26862624708468e-15 - 5.14998065926382e-15*I\n",
      "f_abs_new 7.36754527113753e-15\n",
      "xn 4.715294217258071194e-05\n",
      "step_delta -4.6329285518936209002e-24\n",
      "xn 4.715294217258071194e-05\n",
      "step_delta -4.6329285518936211576e-25\n",
      "f_new -5.26862624708468e-15 - 5.14998065926382e-15*I\n",
      "f_abs_new 7.36754527113753e-15\n",
      "xn -15.707940164035505451\n",
      "step_delta -6.07247211153800544e-15\n",
      "xn -15.707940164035505451\n",
      "step_delta -6.0724721115380057766e-16\n",
      "xn -15.707940164035505451\n",
      "step_delta -6.0724721115380061136e-17\n",
      "f_new -5.26862624708468e-15 - 5.14998065926382e-15*I\n",
      "f_abs_new 7.36754527113753e-15\n",
      "xn -15.7079401640355053905\n",
      "step_delta 2.2116885104296823683e-15\n",
      "xn -15.7079401640355053905\n",
      "step_delta 2.2116885104296824912e-16\n",
      "f_new -5.26862624708468e-15 - 5.14998065926382e-15*I\n",
      "f_abs_new 7.36754527113753e-15\n",
      "xn 4.715294217258071194e-05\n",
      "step_delta -5.3996301524162202984e-24\n",
      "xn 4.715294217258071194e-05\n",
      "step_delta -5.3996301524162205983e-25\n",
      "f_new -5.26862624708468e-15 - 5.14998065926382e-15*I\n",
      "f_abs_new 7.36754527113753e-15\n",
      "xn 4.715294217258071194e-05\n"
     ]
    }
   ],
   "source": [
    "if use_newton_prec:\n",
    "    my_newton_prec.find_newton_complex_root(nsteps = 100)"
   ]
  },
  {
   "cell_type": "raw",
   "metadata": {},
   "source": [
    "if use_newton_prec:\n",
    "    my_newton_prec.find_newton_root(nsteps = 100)"
   ]
  },
  {
   "cell_type": "raw",
   "metadata": {},
   "source": [
    "if use_newton_prec:\n",
    "    my_newton_prec.find_newton_grad_root(nsteps = 100)"
   ]
  },
  {
   "cell_type": "code",
   "execution_count": null,
   "metadata": {},
   "outputs": [],
   "source": [
    "if use_newton_prec:\n",
    "    k_z_root = my_newton_prec.get_root()\n",
    "    k_z_sol = [kz == k_z_root[0],   sz == k_z_root[1],\n",
    "               k_z == k_z_root[0] + I * k_z_root[1]]\n",
    "else:\n",
    "    k_z_sol = [kz  == k_z_sol_kz, sz == k_z_sol_sz,\n",
    "               k_z == k_z_sol_kz + I * k_z_sol_sz]"
   ]
  },
  {
   "cell_type": "code",
   "execution_count": null,
   "metadata": {},
   "outputs": [],
   "source": [
    "if use_newton_prec:\n",
    "    print(k_z_root)"
   ]
  },
  {
   "cell_type": "code",
   "execution_count": null,
   "metadata": {},
   "outputs": [],
   "source": [
    "k_z_sol"
   ]
  },
  {
   "cell_type": "code",
   "execution_count": null,
   "metadata": {},
   "outputs": [],
   "source": []
  },
  {
   "cell_type": "code",
   "execution_count": null,
   "metadata": {},
   "outputs": [],
   "source": [
    "M6_subs_d = M6_det_d.subs(digit_values).subs(k_z_sol)\n",
    "disp(M6_subs_d.n())"
   ]
  },
  {
   "cell_type": "code",
   "execution_count": null,
   "metadata": {},
   "outputs": [],
   "source": [
    "M6_d = M6.subs(digit_values).subs(k_z_sol).n()"
   ]
  },
  {
   "cell_type": "code",
   "execution_count": null,
   "metadata": {},
   "outputs": [],
   "source": [
    "disp(M6_d)"
   ]
  },
  {
   "cell_type": "code",
   "execution_count": null,
   "metadata": {},
   "outputs": [],
   "source": [
    "K_vacuum_subs_d = K_vacuum_subs.subs(kappa_vacuum_sol).subs(digit_values).subs(k_z_sol)\n",
    "K_vacuum_subs_d"
   ]
  },
  {
   "cell_type": "code",
   "execution_count": null,
   "metadata": {},
   "outputs": [],
   "source": [
    "K_conductor_subs_d = K_conductor == K_conductor_subs.rhs().subs(digit_values).subs(k_z_sol).n()\n",
    "K_conductor_subs_d"
   ]
  },
  {
   "cell_type": "code",
   "execution_count": null,
   "metadata": {},
   "outputs": [],
   "source": [
    "M6_ReIm_d = M6_ReIm_K.subs(K_vacuum_subs_d)\n",
    "M6_ReIm_d.variables()"
   ]
  },
  {
   "cell_type": "code",
   "execution_count": null,
   "metadata": {},
   "outputs": [],
   "source": [
    "M6_ReIm_d = M6_ReIm_d.subs(epsilon_mu_subs).subs(digit_values).subs(k_z_sol)\n",
    "M6_ReIm_d.variables()"
   ]
  },
  {
   "cell_type": "code",
   "execution_count": null,
   "metadata": {},
   "outputs": [],
   "source": [
    "M6_ReIm_d = M6_ReIm_d.subs(K_conductor_subs_d).n()"
   ]
  },
  {
   "cell_type": "code",
   "execution_count": null,
   "metadata": {},
   "outputs": [],
   "source": [
    "disp(M6_ReIm_d)"
   ]
  },
  {
   "cell_type": "markdown",
   "metadata": {},
   "source": [
    "Желая улучшить сшивку решения по граничным условиям создаём весовую матрицу назначив строкам отвечающим за граничные условия больший вес"
   ]
  },
  {
   "cell_type": "raw",
   "metadata": {},
   "source": [
    "W = np.float128(1e+6) * identity_matrix(M6_ReIm.nrows())\n",
    "W[8,8] = np.float128(1)\n",
    "W[9,9] = np.float128(1)\n",
    "#W"
   ]
  },
  {
   "cell_type": "markdown",
   "metadata": {},
   "source": [
    "M6_ReIm_d = (W*M6_ReIm).subs(digit_values).subs(k_z_sol).n()"
   ]
  },
  {
   "cell_type": "code",
   "execution_count": null,
   "metadata": {},
   "outputs": [],
   "source": [
    "disp(M6_ReIm_d)"
   ]
  },
  {
   "cell_type": "code",
   "execution_count": null,
   "metadata": {},
   "outputs": [],
   "source": [
    "# M6_subs_d.rank() gives 6\n",
    "# but M6_subs_d.det().n() gives -2.66693594449750e-21\n",
    "# so real rank is 5"
   ]
  },
  {
   "cell_type": "code",
   "execution_count": null,
   "metadata": {},
   "outputs": [],
   "source": [
    "# искомые коэффициенты интенсивности полей\n",
    "X6_ReIm = vector(vars6reim)\n",
    "print(X6_ReIm)"
   ]
  },
  {
   "cell_type": "code",
   "execution_count": null,
   "metadata": {},
   "outputs": [],
   "source": [
    "# умножая матрицу системы уравнений\n",
    "# на вектор искомых коэффициентов интенсивности полей\n",
    "# находим систему 12 уравнений для нахождения\n",
    "# коэффициентов интенсивности полей\n",
    "\n",
    "M6_ReIm_d_X = M6_ReIm_d * X6_ReIm\n",
    "# print(M6_ReIm_d_X)"
   ]
  },
  {
   "cell_type": "markdown",
   "metadata": {},
   "source": [
    "поскольку детерминант матрицы нулевой для нахождения нетривиального решения\n",
    "назначим числовое значение одному из 6-ти неизвестных коэффициентов"
   ]
  },
  {
   "cell_type": "code",
   "execution_count": null,
   "metadata": {},
   "outputs": [],
   "source": [
    "# для решения системы уравнений\n",
    "# на вектор искомых коэффициентов интенсивности полей\n",
    "# устанавливаем один из 12 искомых коэффициентов в 1\n",
    "A1_z_re_d = np.float128(1e6)"
   ]
  },
  {
   "cell_type": "code",
   "execution_count": null,
   "metadata": {},
   "outputs": [],
   "source": [
    "colomn_to_remove = 2\n",
    "columns = [i for i in range(0, len(vars6reim))]\n",
    "columns.remove(colomn_to_remove)\n",
    "columns"
   ]
  },
  {
   "cell_type": "markdown",
   "metadata": {},
   "source": [
    "Вычеркивая из матрицы соответствующую переменной $A_{re}$ колонку получаем матрицу переопределённой системы уравнений"
   ]
  },
  {
   "cell_type": "code",
   "execution_count": null,
   "metadata": {
    "scrolled": true
   },
   "outputs": [],
   "source": [
    "vM11 = M6_ReIm_d.delete_columns([colomn_to_remove])\n",
    "show(vM11)"
   ]
  },
  {
   "cell_type": "markdown",
   "metadata": {},
   "source": [
    "Создаем правую часть переопределённой системы уравнений"
   ]
  },
  {
   "cell_type": "code",
   "execution_count": null,
   "metadata": {},
   "outputs": [],
   "source": [
    "Y12 = - A1_z_re_d * M6_ReIm_d.delete_columns(columns)\n",
    "Y12"
   ]
  },
  {
   "cell_type": "markdown",
   "metadata": {},
   "source": [
    "Решаем переопределённую систему уравнений"
   ]
  },
  {
   "cell_type": "code",
   "execution_count": null,
   "metadata": {},
   "outputs": [],
   "source": [
    "X11_solve_right = vM11.solve_right(Y12)\n",
    "X11_solve_right"
   ]
  },
  {
   "cell_type": "markdown",
   "metadata": {},
   "source": [
    "тестируем найденное решение"
   ]
  },
  {
   "cell_type": "code",
   "execution_count": null,
   "metadata": {},
   "outputs": [],
   "source": [
    "Err_12_solve_right = vM11*X11_solve_right-Y12\n",
    "sum_of_squares_solve_right = Err_12_solve_right.norm()\n",
    "Err_12_solve_right, sum_of_squares_solve_right"
   ]
  },
  {
   "cell_type": "markdown",
   "metadata": {},
   "source": [
    "Решаем переопределённую систему уравнений методом псевдообратной матрицы"
   ]
  },
  {
   "cell_type": "code",
   "execution_count": null,
   "metadata": {},
   "outputs": [],
   "source": [
    "def pseudo_inverse(mat) :\n",
    "    from scipy import linalg\n",
    "    return matrix(linalg.pinv(mat))"
   ]
  },
  {
   "cell_type": "code",
   "execution_count": null,
   "metadata": {},
   "outputs": [],
   "source": [
    "X11_pseudo_inverse = pseudo_inverse(vM11)*Y12\n",
    "X11_pseudo_inverse"
   ]
  },
  {
   "cell_type": "markdown",
   "metadata": {},
   "source": [
    "тестируем найденное решение"
   ]
  },
  {
   "cell_type": "code",
   "execution_count": null,
   "metadata": {},
   "outputs": [],
   "source": [
    "Err_12_pseudo_inverse = vM11*X11_pseudo_inverse-Y12\n",
    "sum_of_squares_pseudo_inverse = Err_12_pseudo_inverse.norm()\n",
    "Err_12_pseudo_inverse, sum_of_squares_pseudo_inverse"
   ]
  },
  {
   "cell_type": "markdown",
   "metadata": {},
   "source": [
    "Выбираем решение с наименьшей ошибкой"
   ]
  },
  {
   "cell_type": "code",
   "execution_count": null,
   "metadata": {},
   "outputs": [],
   "source": [
    "if sum_of_squares_pseudo_inverse < sum_of_squares_solve_right:\n",
    "    X11 = X11_pseudo_inverse\n",
    "else:\n",
    "    X11 = X11_solve_right"
   ]
  },
  {
   "cell_type": "markdown",
   "metadata": {},
   "source": [
    "вставляем в вектор найденного решения изначально назначенный коэффициент"
   ]
  },
  {
   "cell_type": "code",
   "execution_count": null,
   "metadata": {},
   "outputs": [],
   "source": [
    "X11_list = X11.list()\n",
    "X11_list.insert(colomn_to_remove, A1_z_re_d)\n",
    "X12 = vector(X11_list)\n",
    "X12"
   ]
  },
  {
   "cell_type": "markdown",
   "metadata": {},
   "source": [
    "ещё раз тестируем найденное решение"
   ]
  },
  {
   "cell_type": "code",
   "execution_count": null,
   "metadata": {},
   "outputs": [],
   "source": [
    "Err_12 = M6_ReIm_d*X12\n",
    "sum_of_squares = Err_12.norm()\n",
    "Err_12.list(), sum_of_squares"
   ]
  },
  {
   "cell_type": "raw",
   "metadata": {},
   "source": [
    "X12 = vector(sol.x)"
   ]
  },
  {
   "cell_type": "code",
   "execution_count": null,
   "metadata": {},
   "outputs": [],
   "source": []
  },
  {
   "cell_type": "code",
   "execution_count": null,
   "metadata": {},
   "outputs": [],
   "source": [
    "M4_boundaries_ReIm_d = M4_boundaries_ReIm_K.subs(K_vacuum_subs_d)\n",
    "M4_boundaries_ReIm_d.variables()"
   ]
  },
  {
   "cell_type": "code",
   "execution_count": null,
   "metadata": {},
   "outputs": [],
   "source": [
    "M4_boundaries_ReIm_d = M4_boundaries_ReIm_d.subs(epsilon_mu_subs).subs(digit_values).subs(k_z_sol)\n",
    "M4_boundaries_ReIm_d.variables()"
   ]
  },
  {
   "cell_type": "code",
   "execution_count": null,
   "metadata": {},
   "outputs": [],
   "source": [
    "M4_boundaries_ReIm_d = M4_boundaries_ReIm_d.subs(K_conductor_subs_d).n()"
   ]
  },
  {
   "cell_type": "code",
   "execution_count": null,
   "metadata": {},
   "outputs": [],
   "source": [
    "M4_boundaries_ReIm_d"
   ]
  },
  {
   "cell_type": "code",
   "execution_count": null,
   "metadata": {},
   "outputs": [],
   "source": [
    "X10_init = X12.list()\n",
    "A1_z_re_d = X10_init.pop(colomn_to_remove)\n",
    "A1_z_im_d = X10_init.pop(colomn_to_remove+1)\n",
    "X10_init"
   ]
  },
  {
   "cell_type": "markdown",
   "metadata": {},
   "source": [
    "Создаем правую часть системы уравнений для граничных условий"
   ]
  },
  {
   "cell_type": "code",
   "execution_count": null,
   "metadata": {},
   "outputs": [],
   "source": [
    "columns = [i for i in range(0, len(vars6reim))]\n",
    "columns.remove(colomn_to_remove)\n",
    "#columns.remove(colomn_to_remove+1)\n",
    "columns"
   ]
  },
  {
   "cell_type": "code",
   "execution_count": null,
   "metadata": {},
   "outputs": [],
   "source": [
    "Y10_re = - A1_z_re_d * M4_boundaries_ReIm_d.delete_columns(columns)\n",
    "Y10_re"
   ]
  },
  {
   "cell_type": "code",
   "execution_count": null,
   "metadata": {},
   "outputs": [],
   "source": [
    "columns = [i for i in range(0, len(vars6reim))]\n",
    "#columns.remove(colomn_to_remove)\n",
    "columns.remove(colomn_to_remove+1)\n",
    "columns"
   ]
  },
  {
   "cell_type": "code",
   "execution_count": null,
   "metadata": {},
   "outputs": [],
   "source": [
    "Y10_im = - A1_z_im_d * M4_boundaries_ReIm_d.delete_columns(columns)\n",
    "Y10_im"
   ]
  },
  {
   "cell_type": "code",
   "execution_count": null,
   "metadata": {},
   "outputs": [],
   "source": [
    "Y10 = Y10_re + Y10_im\n",
    "Y10"
   ]
  },
  {
   "cell_type": "markdown",
   "metadata": {},
   "source": [
    "Вычеркивая из матрицы соответствующую переменной $A1_{z}$ колонку получаем матрицу системы уравнений boundaries"
   ]
  },
  {
   "cell_type": "code",
   "execution_count": null,
   "metadata": {
    "scrolled": true
   },
   "outputs": [],
   "source": [
    "vM10 = M4_boundaries_ReIm_d.delete_columns([colomn_to_remove, colomn_to_remove+1])\n",
    "show(vM10)"
   ]
  },
  {
   "cell_type": "code",
   "execution_count": null,
   "metadata": {},
   "outputs": [],
   "source": [
    "disp(M4_boundaries_ReIm_d)"
   ]
  },
  {
   "cell_type": "code",
   "execution_count": null,
   "metadata": {},
   "outputs": [],
   "source": [
    "X10 = vM10.solve_right(Y10)\n",
    "X10 = pseudo_inverse(vM10)*Y10\n",
    "X10"
   ]
  },
  {
   "cell_type": "code",
   "execution_count": null,
   "metadata": {},
   "outputs": [],
   "source": [
    "vM10*X10-Y10"
   ]
  },
  {
   "cell_type": "code",
   "execution_count": null,
   "metadata": {},
   "outputs": [],
   "source": [
    "X10_list = X10.list()\n",
    "X10_list.insert(colomn_to_remove, A1_z_re_d)\n",
    "X10_list.insert(colomn_to_remove+1, A1_z_im_d)\n",
    "#X12 = vector(X10_list)\n",
    "X12"
   ]
  },
  {
   "cell_type": "code",
   "execution_count": null,
   "metadata": {},
   "outputs": [],
   "source": [
    "X12"
   ]
  },
  {
   "cell_type": "code",
   "execution_count": null,
   "metadata": {},
   "outputs": [],
   "source": [
    "M4_boundaries_ReIm_d*X12"
   ]
  },
  {
   "cell_type": "raw",
   "metadata": {},
   "source": [
    "\n",
    "import numpy as np\n",
    "from scipy import optimize\n",
    "\n",
    "def fun(x):\n",
    "    return M4_boundaries_ReIm_d * vector(x)\n",
    "\n",
    "x0 = X12\n",
    "sol = optimize.root(fun, x0, method='lm')\n",
    "print(sol.x)"
   ]
  },
  {
   "cell_type": "code",
   "execution_count": null,
   "metadata": {},
   "outputs": [],
   "source": []
  },
  {
   "cell_type": "markdown",
   "metadata": {},
   "source": [
    "ещё раз тестируем найденное решение"
   ]
  },
  {
   "cell_type": "code",
   "execution_count": null,
   "metadata": {},
   "outputs": [],
   "source": [
    "Err_12 = M6_ReIm_d*X12\n",
    "sum_of_squares = Err_12.norm()\n",
    "Err_12.list(), sum_of_squares"
   ]
  },
  {
   "cell_type": "code",
   "execution_count": null,
   "metadata": {},
   "outputs": [],
   "source": [
    "# получаем значения оставшихся искомых коэффициентов интенсивности полей\n",
    "coeffs_subs = []\n",
    "for i in range(len(X12)):\n",
    "    coeffs_subs += [vars6reim[i] == X12[i]]\n",
    "coeffs_subs"
   ]
  },
  {
   "cell_type": "code",
   "execution_count": null,
   "metadata": {},
   "outputs": [],
   "source": [
    "coeffs_subs += [\n",
    "    A1_y_re == 0,\n",
    "    A1_y_im == 0,\n",
    "    A2_y_re == 0,\n",
    "    A2_y_im == 0,\n",
    "    B1_y_re == 0,\n",
    "    B1_y_im == 0,\n",
    "]\n",
    "coeffs_subs"
   ]
  },
  {
   "cell_type": "code",
   "execution_count": null,
   "metadata": {},
   "outputs": [],
   "source": [
    "K_vacuum_subs_d = K_vacuum_subs.subs(kappa_vacuum_sol).subs(k_z_sol) \\\n",
    "    .subs(digit_values)\n",
    "\n",
    "K_vacuum_subs_d"
   ]
  },
  {
   "cell_type": "code",
   "execution_count": null,
   "metadata": {},
   "outputs": [],
   "source": [
    "K_vacuum_subs_d.rhs().n()"
   ]
  },
  {
   "cell_type": "code",
   "execution_count": null,
   "metadata": {},
   "outputs": [],
   "source": [
    "K_conductor_subs_d = K_conductor_subs.subs(kappa_vacuum_sol).subs(k_z_sol) \\\n",
    "   .subs(digit_values)\n",
    "\n",
    "K_conductor_subs_d"
   ]
  },
  {
   "cell_type": "code",
   "execution_count": null,
   "metadata": {},
   "outputs": [],
   "source": [
    "K_conductor_subs_d.rhs().n()"
   ]
  },
  {
   "cell_type": "markdown",
   "metadata": {},
   "source": [
    "знак перед корнем будем всегда выбирать так, чтобы корень имел положительнею мнимую часть (Зоммерфельд, Электродинамика, параграф 20, Б)"
   ]
  },
  {
   "cell_type": "raw",
   "metadata": {},
   "source": [
    "if K_conductor_subs_d.rhs().n().imag() < 0:\n",
    "    K_conductor_subs_d = K_conductor_subs_d.lhs() == - K_conductor_subs_d.rhs()"
   ]
  },
  {
   "cell_type": "code",
   "execution_count": null,
   "metadata": {},
   "outputs": [],
   "source": [
    "K_conductor_subs_d.rhs().n()"
   ]
  },
  {
   "cell_type": "code",
   "execution_count": null,
   "metadata": {},
   "outputs": [],
   "source": [
    "K_vacuum_subs_d.rhs().n()"
   ]
  },
  {
   "cell_type": "raw",
   "metadata": {},
   "source": [
    "if K_vacuum_subs_d.rhs().n().imag() < 0:\n",
    "    K_vacuum_subs_d = K_vacuum_subs_d.lhs() == - K_vacuum_subs_d.rhs()"
   ]
  },
  {
   "cell_type": "code",
   "execution_count": null,
   "metadata": {},
   "outputs": [],
   "source": [
    "Hy_bad_conductor_subs = Hy_bad_conductor.subs(K_conductor_subs_d) \\\n",
    "    .subs(kappa_vacuum_sol).subs(k_z_sol) \\\n",
    "    .subs(eqEz__0).subs(A1_z_re_im_subs, A2_z_re_im_subs)\n",
    "Hy_vacuum_subs        = Hy_vacuum       .subs(K_vacuum_subs_d) \\\n",
    "    .subs(kappa_vacuum_sol).subs(k_z_sol) \\\n",
    "    .subs(eqEz__0).subs(A1_z_re_im_subs, A2_z_re_im_subs)"
   ]
  },
  {
   "cell_type": "code",
   "execution_count": null,
   "metadata": {},
   "outputs": [],
   "source": [
    "Hz_bad_conductor_subs = Hz_bad_conductor#.subs(K_conductor_subs_d) \\\n",
    "#    .subs(kappa_vacuum_sol).subs(k_z_sol) \\\n",
    "#    .subs(eqEz__0).subs(A1_z_re_im_subs, A2_z_re_im_subs)\n",
    "Hz_vacuum_subs        = Hz_vacuum       #.subs(K_vacuum_subs_d) \\\n",
    "#    .subs(kappa_vacuum_sol).subs(k_z_sol) \\\n",
    "#    .subs(eqEz__0).subs(A1_z_re_im_subs, A2_z_re_im_subs)"
   ]
  },
  {
   "cell_type": "code",
   "execution_count": null,
   "metadata": {},
   "outputs": [],
   "source": [
    "Dx_bad_conductor = Ex_bad_conductor * epsilon_xx_complex\n",
    "Dx_vacuum        = Ex_vacuum"
   ]
  },
  {
   "cell_type": "code",
   "execution_count": null,
   "metadata": {},
   "outputs": [],
   "source": [
    "Ex_bad_conductor, Ey_bad_conductor, Ez_bad_conductor"
   ]
  },
  {
   "cell_type": "code",
   "execution_count": null,
   "metadata": {},
   "outputs": [],
   "source": [
    "Ex_bad_conductor_subs = Ex_bad_conductor \\\n",
    "    .subs(K_conductor_subs_d).subs(kappa_vacuum_sol).subs(k_z_sol) \\\n",
    "    .subs(eqEz__0).subs(A1_z_re_im_subs, A2_z_re_im_subs)\n",
    "Ex_vacuum_subs        = Ex_vacuum       \\\n",
    "    .subs(K_vacuum_subs_d)   .subs(kappa_vacuum_sol).subs(k_z_sol) \\\n",
    "    .subs(eqEz__0).subs(A1_z_re_im_subs, A2_z_re_im_subs)"
   ]
  },
  {
   "cell_type": "code",
   "execution_count": null,
   "metadata": {},
   "outputs": [],
   "source": [
    "Ey_bad_conductor_subs = Ey_bad_conductor \\\n",
    "    .subs(K_conductor_subs_d).subs(kappa_vacuum_sol).subs(k_z_sol) \\\n",
    "    .subs(eqEz__0).subs(A1_z_re_im_subs, A2_z_re_im_subs)\n",
    "Ey_vacuum_subs        = Ey_vacuum       \\\n",
    "    .subs(K_vacuum_subs_d)   .subs(kappa_vacuum_sol).subs(k_z_sol) \\\n",
    "    .subs(eqEz__0).subs(A1_z_re_im_subs, A2_z_re_im_subs)"
   ]
  },
  {
   "cell_type": "code",
   "execution_count": null,
   "metadata": {},
   "outputs": [],
   "source": [
    "Ex_bad_conductor_subs#, Ey_bad_conductor_subs#, Ez_bad_conductor_subs"
   ]
  },
  {
   "cell_type": "code",
   "execution_count": null,
   "metadata": {},
   "outputs": [],
   "source": [
    "Dx_bad_conductor_subs = Ex_bad_conductor_subs * epsilon_xx_complex\n",
    "Dx_vacuum_subs        = Ex_vacuum_subs"
   ]
  },
  {
   "cell_type": "code",
   "execution_count": null,
   "metadata": {},
   "outputs": [],
   "source": [
    "Ex_bad_conductor_d = Ex_bad_conductor_subs.subs(digit_values).subs(coefs_re_im_subs).subs(coeffs_subs)\n",
    "Ex_vacuum_d        = Ex_vacuum_subs       .subs(digit_values).subs(coefs_re_im_subs).subs(coeffs_subs)"
   ]
  },
  {
   "cell_type": "code",
   "execution_count": null,
   "metadata": {},
   "outputs": [],
   "source": [
    "Ex_bad_conductor_d"
   ]
  },
  {
   "cell_type": "code",
   "execution_count": null,
   "metadata": {},
   "outputs": [],
   "source": [
    "Ey_bad_conductor_d = Ey_bad_conductor_subs.subs(digit_values).subs(coefs_re_im_subs).subs(coeffs_subs)\n",
    "Ey_vacuum_d        = Ey_vacuum_subs       .subs(digit_values).subs(coefs_re_im_subs).subs(coeffs_subs)\n",
    "Ey_bad_conductor_d, Ey_vacuum_d"
   ]
  },
  {
   "cell_type": "code",
   "execution_count": null,
   "metadata": {},
   "outputs": [],
   "source": [
    "#print             (Ex_bad_conductor_d)\n",
    "#display(Math(latex(Ex_bad_conductor_d)))"
   ]
  },
  {
   "cell_type": "code",
   "execution_count": null,
   "metadata": {},
   "outputs": [],
   "source": [
    "Dx_bad_conductor_d = Dx_bad_conductor_subs.subs(digit_values).subs(coefs_re_im_subs).subs(coeffs_subs)\n",
    "Dx_vacuum_d        = Dx_vacuum_subs       .subs(digit_values).subs(coefs_re_im_subs).subs(coeffs_subs)"
   ]
  },
  {
   "cell_type": "code",
   "execution_count": null,
   "metadata": {
    "scrolled": true
   },
   "outputs": [],
   "source": [
    "#print             (Ex_vacuum_d)\n",
    "#display(Math(latex(Ex_vacuum_d)))"
   ]
  },
  {
   "cell_type": "code",
   "execution_count": null,
   "metadata": {},
   "outputs": [],
   "source": []
  },
  {
   "cell_type": "code",
   "execution_count": null,
   "metadata": {},
   "outputs": [],
   "source": [
    "Hy_bad_conductor_d = Hy_bad_conductor_subs.subs(epsilon_mu_subs).subs(digit_values).subs(coefs_re_im_subs).subs(coeffs_subs)\n",
    "Hy_vacuum_d        = Hy_vacuum_subs.subs(digit_values).subs(coefs_re_im_subs).subs(coeffs_subs)"
   ]
  },
  {
   "cell_type": "code",
   "execution_count": null,
   "metadata": {},
   "outputs": [],
   "source": [
    "Hz_bad_conductor_d = Hz_bad_conductor_subs.subs(digit_values).subs(coefs_re_im_subs).subs(coeffs_subs).subs(k_y == 0)\n",
    "Hz_vacuum_d        = Hz_vacuum_subs.subs(digit_values).subs(coefs_re_im_subs).subs(coeffs_subs).subs(k_y == 0)"
   ]
  },
  {
   "cell_type": "code",
   "execution_count": null,
   "metadata": {},
   "outputs": [],
   "source": [
    "#print             (Hy_bad_conductor_d)\n",
    "#display(Math(latex(Hy_bad_conductor_d)))"
   ]
  },
  {
   "cell_type": "code",
   "execution_count": null,
   "metadata": {
    "scrolled": true
   },
   "outputs": [],
   "source": [
    "#print             (Hy_vacuum_d)\n",
    "#display(Math(latex(Hy_vacuum_d)))"
   ]
  },
  {
   "cell_type": "code",
   "execution_count": null,
   "metadata": {},
   "outputs": [],
   "source": []
  },
  {
   "cell_type": "raw",
   "metadata": {},
   "source": [
    "E_inner_vacuum_sol_z(x).subs(K_vacuum_subs_d)"
   ]
  },
  {
   "cell_type": "code",
   "execution_count": null,
   "metadata": {},
   "outputs": [],
   "source": [
    "Ez_vacuum        = E_inner_vacuum_sol_z(x).subs(K_vacuum_subs_d).subs(coefs_re_im_subs).subs(coeffs_subs)\n",
    "Ez_bad_conductor = E_bad_conductor_sol_z(x).subs(K_conductor_subs_d).subs(eqEz__0).subs(coefs_re_im_subs).subs(coeffs_subs)"
   ]
  },
  {
   "cell_type": "code",
   "execution_count": null,
   "metadata": {},
   "outputs": [],
   "source": [
    "#print             (Ez_vacuum)\n",
    "#display(Math(latex(Ez_vacuum)))"
   ]
  },
  {
   "cell_type": "code",
   "execution_count": null,
   "metadata": {},
   "outputs": [],
   "source": [
    "Ez_bad_conductor_d = Ez_bad_conductor.subs(digit_values).subs(coefs_re_im_subs).subs(coeffs_subs)\n",
    "Ez_vacuum_d        = Ez_vacuum       .subs(digit_values).subs(coefs_re_im_subs).subs(coeffs_subs)"
   ]
  },
  {
   "cell_type": "raw",
   "metadata": {},
   "source": [
    "Ey_bad_conductor_d = Ey_bad_conductor.subs(digit_values).subs(coefs_re_im_subs).subs(coeffs_subs)\n",
    "Ey_vacuum_d        = Ey_vacuum       .subs(digit_values).subs(coefs_re_im_subs).subs(coeffs_subs)"
   ]
  },
  {
   "cell_type": "code",
   "execution_count": null,
   "metadata": {},
   "outputs": [],
   "source": [
    "#print             (Ez_vacuum_d)\n",
    "#display(Math(latex(Ez_vacuum_d)))"
   ]
  },
  {
   "cell_type": "code",
   "execution_count": null,
   "metadata": {},
   "outputs": [],
   "source": [
    "#print             (Ez_bad_conductor_d)\n",
    "#display(Math(latex(Ez_bad_conductor_d)))"
   ]
  },
  {
   "cell_type": "code",
   "execution_count": null,
   "metadata": {},
   "outputs": [],
   "source": [
    "Ez_vacuum_d.subs(x == -A).n(), Ez_vacuum_d.subs(x == -A/2).n(), Ez_vacuum_d.subs(x == 0)"
   ]
  },
  {
   "cell_type": "code",
   "execution_count": null,
   "metadata": {},
   "outputs": [],
   "source": []
  },
  {
   "cell_type": "code",
   "execution_count": null,
   "metadata": {},
   "outputs": [],
   "source": [
    "divE_vacuum = I*k_z * Ez_vacuum_d (x=x) + Ex_vacuum_d (x=x).diff(x)"
   ]
  },
  {
   "cell_type": "code",
   "execution_count": null,
   "metadata": {
    "scrolled": false
   },
   "outputs": [],
   "source": [
    "divE_vacuum_d = divE_vacuum.subs(k_z_sol).subs(digit_values).subs(coeffs_subs)"
   ]
  },
  {
   "cell_type": "code",
   "execution_count": null,
   "metadata": {},
   "outputs": [],
   "source": []
  },
  {
   "cell_type": "code",
   "execution_count": null,
   "metadata": {},
   "outputs": [],
   "source": [
    "divE_bad_conductor = I*k_z * Ez_bad_conductor_d (x=x) + Ex_bad_conductor_d (x=x).diff(x)\n",
    "divE_bad_conductor.variables()"
   ]
  },
  {
   "cell_type": "code",
   "execution_count": null,
   "metadata": {
    "scrolled": false
   },
   "outputs": [],
   "source": [
    "divE_bad_conductor_d = divE_bad_conductor.subs(epsilon_mu_subs).subs(k_z_sol).subs(digit_values).subs(coeffs_subs)\n",
    "divE_bad_conductor_d.variables()"
   ]
  },
  {
   "cell_type": "code",
   "execution_count": null,
   "metadata": {},
   "outputs": [],
   "source": [
    "grad_div_E_z_d = grad_div_E_z.subs(epsilon_mu_subs).subs(kappa_vacuum_sol).subs(k_z_sol).subs(digit_values).subs(coefs_re_im_subs).subs(coeffs_subs)\n",
    "grad_div_E_z_d.variables()"
   ]
  },
  {
   "cell_type": "code",
   "execution_count": null,
   "metadata": {},
   "outputs": [],
   "source": [
    "grad_div_E_x_d = grad_div_E_x.subs(epsilon_mu_subs).subs(kappa_vacuum_sol).subs(k_z_sol).subs(digit_values).subs(coefs_re_im_subs).subs(coeffs_subs)\n",
    "grad_div_E_x_d.variables()"
   ]
  },
  {
   "cell_type": "markdown",
   "metadata": {},
   "source": [
    "# test found solution with boundary conditions"
   ]
  },
  {
   "cell_type": "code",
   "execution_count": null,
   "metadata": {},
   "outputs": [],
   "source": []
  },
  {
   "cell_type": "code",
   "execution_count": null,
   "metadata": {},
   "outputs": [],
   "source": [
    "# граничные условия на границе идеального проводника и вакуума внутри резонатора\n",
    "# тангенциальная компонента электрического поля\n",
    "eqEz__a_d  = Ez_vacuum_d (x=-A) == 0\n",
    "#eqEy_0_d  = even_E_inner_vacuum_y_d (0) == 0\n",
    "\n",
    "print (\"eqEz__a_d.real = \")\n",
    "display(Math(latex(eqEz__a_d.lhs().real().n())))\n",
    "print (\"eqEz_0_d.imag = \")\n",
    "display(Math(latex(eqEz__a_d.lhs().imag().n())))"
   ]
  },
  {
   "cell_type": "code",
   "execution_count": null,
   "metadata": {},
   "outputs": [],
   "source": [
    "# граничные условия на границе вакуума внутри резонатора и проводящего металла с потерями\n",
    "# тангенциальная компонента электрического поля\n",
    "eqEz__0_d  = Ez_vacuum_d (x=0) == Ez_bad_conductor_d (x=0)\n",
    "\n",
    "print (\"eqEz__0_d = \")\n",
    "display(Math(latex(eqEz__0_d)))"
   ]
  },
  {
   "cell_type": "code",
   "execution_count": null,
   "metadata": {},
   "outputs": [],
   "source": [
    "# граничные условия на границе вакуума внутри резонатора и проводящего металла с потерями\n",
    "# тангенциальная компонента электрического поля\n",
    "eqEy_a_d  = Ey_vacuum_d (x=0) == Ey_bad_conductor_d (x=0)\n",
    "\n",
    "print (\"eqEy_a_d = \")\n",
    "display(Math(latex(eqEy_a_d)))"
   ]
  },
  {
   "cell_type": "code",
   "execution_count": null,
   "metadata": {},
   "outputs": [],
   "source": [
    "# нормальная компонента электрического смещения\n",
    "eqDx__0_d  = Ex_vacuum_d (x=0) == (Ex_bad_conductor_d (x=0) * epsilon_xx_complex).subs(epsilon_mu_subs).subs(digit_values)\n",
    "\n",
    "print (\"eqDx__0_d =\")\n",
    "display(Math(latex(eqDx__0_d.lhs().n())))\n",
    "display(Math(latex(eqDx__0_d.rhs().n())))"
   ]
  },
  {
   "cell_type": "code",
   "execution_count": null,
   "metadata": {},
   "outputs": [],
   "source": [
    "# тангенциальная компонента напряженности магнитного поля\n",
    "eqHy_a_d  = Hy_bad_conductor_d (x=0)  == Hy_vacuum_d (x=0)\n",
    "\n",
    "print (\"eqHy_a_d =\")\n",
    "display(Math(latex(eqHy_a_d.lhs().n())))\n",
    "display(Math(latex(eqHy_a_d.rhs().n())))"
   ]
  },
  {
   "cell_type": "code",
   "execution_count": null,
   "metadata": {},
   "outputs": [],
   "source": [
    "# тангенциальная компонента напряженности магнитного поля\n",
    "eqHz_a_d  = Hz_bad_conductor_d (x=0)  == Hz_vacuum_d (x=0)\n",
    "\n",
    "print (\"eqHy_a_d =\")\n",
    "display(Math(latex(eqHz_a_d)))\n",
    "display(Math(latex(eqHz_a_d)))"
   ]
  },
  {
   "cell_type": "raw",
   "metadata": {},
   "source": [
    "# нормальная компонента индукции магнитного поля\n",
    "eqBx_a  = mu * Hx_bad_conductor_d (a)  == Hx_inner_vacuum_d (a)\n",
    "\n",
    "print (\"eqBx_a =\")\n",
    "display(Math(latex(eqBx_a)))"
   ]
  },
  {
   "cell_type": "code",
   "execution_count": null,
   "metadata": {},
   "outputs": [],
   "source": []
  },
  {
   "cell_type": "code",
   "execution_count": null,
   "metadata": {},
   "outputs": [],
   "source": []
  },
  {
   "cell_type": "code",
   "execution_count": null,
   "metadata": {},
   "outputs": [],
   "source": [
    "eq_Hy_d = Hy_bad_conductor_d.subs(x == 0) == Hy_vacuum_d.subs(x == 0)\n",
    "\n",
    "eq_Hy_d.lhs().n(), eq_Hy_d.rhs().n()"
   ]
  },
  {
   "cell_type": "code",
   "execution_count": null,
   "metadata": {},
   "outputs": [],
   "source": []
  },
  {
   "cell_type": "code",
   "execution_count": null,
   "metadata": {},
   "outputs": [],
   "source": [
    "Ez_vacuum_d.subs(x == 0) == Ez_bad_conductor_d.subs(x == 0)"
   ]
  },
  {
   "cell_type": "code",
   "execution_count": null,
   "metadata": {},
   "outputs": [],
   "source": [
    "eq_Ex_d = (Ex_vacuum_d.subs(x == 0) == epsilon_xx_complex * Ex_bad_conductor_d.subs(x == 0)).subs(epsilon_mu_subs).subs(digit_values)\n",
    "eq_Ex_d.lhs().n(), eq_Ex_d.rhs().n()"
   ]
  },
  {
   "cell_type": "code",
   "execution_count": null,
   "metadata": {},
   "outputs": [],
   "source": [
    "eq_Ex_d = (Ex_vacuum_d.subs(x == 0) == epsilon_xx_complex * Ex_bad_conductor_d.subs(x == 0)).subs(epsilon_mu_subs).subs(digit_values)\n",
    "eq_Ex_d.lhs().n(), eq_Ex_d.rhs().n()"
   ]
  },
  {
   "cell_type": "code",
   "execution_count": null,
   "metadata": {},
   "outputs": [],
   "source": [
    "pl =  plot(Ez_vacuum_d.real(), (x, -A, 0))\n",
    "pl += plot(Ez_bad_conductor_d.real(), (x, 0, h_conductor))\n",
    "pl.show(title=\"График Re тангенциальной z компоненты электрического поля\")"
   ]
  },
  {
   "cell_type": "code",
   "execution_count": null,
   "metadata": {},
   "outputs": [],
   "source": [
    "pl =  plot(Ez_vacuum_d.imag(), (x, -A, 0))\n",
    "pl += plot(Ez_bad_conductor_d.imag(), (x, 0, h_conductor))\n",
    "pl.show(title=\"График Im тангенциальной z компоненты электрического поля\")"
   ]
  },
  {
   "cell_type": "code",
   "execution_count": null,
   "metadata": {},
   "outputs": [],
   "source": [
    "pl =  plot(Ez_vacuum_d.abs(), (x, -A, 0))\n",
    "pl += plot(Ez_bad_conductor_d.abs(), (x, 0, h_conductor))\n",
    "pl.show(title=\"График Abs тангенциальной z компоненты электрического поля\")"
   ]
  },
  {
   "cell_type": "code",
   "execution_count": null,
   "metadata": {},
   "outputs": [],
   "source": [
    "pl =  plot(arg(Ez_vacuum_d)/pi, (x, -A, 0))\n",
    "pl += plot(arg(Ez_bad_conductor_d)/pi, (x, 0, h_conductor))\n",
    "pl.show(title=\"График Arg тангенциальной z компоненты электрического поля\")"
   ]
  },
  {
   "cell_type": "code",
   "execution_count": null,
   "metadata": {},
   "outputs": [],
   "source": []
  },
  {
   "cell_type": "code",
   "execution_count": null,
   "metadata": {},
   "outputs": [],
   "source": [
    "def plot_bad_conductor(expression, re, color_re=\"blue\", color_im=\"blue\"):\n",
    "    v_re = []\n",
    "    v_im = []\n",
    "\n",
    "    mn = 0\n",
    "    mx = h_conductor\n",
    "    st = h_conductor / 100\n",
    "\n",
    "    import numpy as np\n",
    "    for vx in np.arange(mn, mx+st, st):\n",
    "        _Dx = (expression.subs(digit_values).subs(x == vx)).n()\n",
    "        #print(\"x =\", vx, \"_Dx =\", _Dx)\n",
    "        v_re += [(vx, _Dx.real())]\n",
    "        v_im += [(vx, _Dx.imag())]\n",
    "    if re:\n",
    "        return list_plot(v_re, color = color_re)\n",
    "    else:\n",
    "        return list_plot(v_im, color = color_im)"
   ]
  },
  {
   "cell_type": "code",
   "execution_count": null,
   "metadata": {},
   "outputs": [],
   "source": [
    "pl  = plot(Ex_vacuum_d.real(), (x, -A, 0))\n",
    "#pl += plot(((Ex_bad_conductor_d * epsilon_complex).subs(digit_values)).real(), (x, 0, h_conductor/10))\n",
    "pl += plot_bad_conductor((Ex_bad_conductor_d * epsilon_xx_complex).subs(epsilon_mu_subs).subs(digit_values), re=True)\n",
    "pl.show(title=\"График Re нормальной x компоненты электрического смещения\")"
   ]
  },
  {
   "cell_type": "code",
   "execution_count": null,
   "metadata": {},
   "outputs": [],
   "source": [
    "pl =  plot(Ex_vacuum_d.imag(), (x, -A, 0))\n",
    "#pl += plot((Ex_bad_conductor_d * epsilon_complex).subs(digit_values).imag(), (x, 0, h_conductor/10))\n",
    "pl += plot_bad_conductor((Ex_bad_conductor_d * epsilon_xx_complex).subs(epsilon_mu_subs).subs(digit_values), re=False)\n",
    "pl.show(title=\"График Im нормальной x компоненты электрического смещения\")"
   ]
  },
  {
   "cell_type": "code",
   "execution_count": null,
   "metadata": {},
   "outputs": [],
   "source": [
    "pl =  plot(Ex_vacuum_d.abs(), (x, -A, 0))\n",
    "pl += plot((Ex_bad_conductor_d * epsilon_xx_complex).subs(epsilon_mu_subs).subs(digit_values).abs(), (x, 0, h_conductor))\n",
    "pl.show(title=\"График Abs нормальной x компоненты электрического смещения\")"
   ]
  },
  {
   "cell_type": "code",
   "execution_count": null,
   "metadata": {},
   "outputs": [],
   "source": [
    "pl =  plot(arg(Ex_vacuum_d)/pi, (x, -A, 0))\n",
    "pl += plot(arg((Ex_bad_conductor_d * epsilon_xx_complex).subs(epsilon_mu_subs).subs(digit_values))/pi, (x, 0, h_conductor))\n",
    "pl.show(title=\"График Arg нормальной x компоненты электрического смещения\")"
   ]
  },
  {
   "cell_type": "code",
   "execution_count": null,
   "metadata": {},
   "outputs": [],
   "source": []
  },
  {
   "cell_type": "code",
   "execution_count": null,
   "metadata": {},
   "outputs": [],
   "source": [
    "pl =  plot(Hy_vacuum_d.real(), (x, -A, 0))\n",
    "# pl += plot(Hy_bad_conductor_d.real(), (x, 0, h_conductor))\n",
    "pl += plot_bad_conductor(Hy_bad_conductor_d, re=True)\n",
    "pl.show(title=\"График Re тангенциальной компоненты напряженности магнитного поля H\")"
   ]
  },
  {
   "cell_type": "code",
   "execution_count": null,
   "metadata": {},
   "outputs": [],
   "source": [
    "pl =  plot(Hy_vacuum_d.imag(), (x, -A, 0))\n",
    "#pl += plot(Hy_bad_conductor_d.imag(), (x, 0, h_conductor))\n",
    "pl += plot_bad_conductor(Hy_bad_conductor_d, re=False)\n",
    "pl.show(title=\"График Im тангенциальной компоненты напряженности магнитного поля H\")"
   ]
  },
  {
   "cell_type": "code",
   "execution_count": null,
   "metadata": {},
   "outputs": [],
   "source": [
    "pl =  plot(Hy_vacuum_d.abs(), (x, -A, 0))\n",
    "pl += plot(Hy_bad_conductor_d.abs(), (x, 0, h_conductor))\n",
    "pl.show(title=\"График Abs тангенциальной компоненты напряженности магнитного поля H\")"
   ]
  },
  {
   "cell_type": "code",
   "execution_count": null,
   "metadata": {},
   "outputs": [],
   "source": [
    "pl =  plot(arg(Hy_vacuum_d)/pi, (x, -A, 0))\n",
    "pl += plot(arg(Hy_bad_conductor_d)/pi, (x, 0, h_conductor))\n",
    "pl.show(title=\"График Arg тангенциальной компоненты напряженности магнитного поля H\")"
   ]
  },
  {
   "cell_type": "code",
   "execution_count": null,
   "metadata": {},
   "outputs": [],
   "source": [
    "pl =  plot(arg(Hy_vacuum_d)/pi, (x, -A, 0))\n",
    "pl += plot(arg(Hy_bad_conductor_d)/pi, (x, 0, h_conductor))\n",
    "pl +=  plot(arg(Ez_vacuum_d)/pi, (x, -A, 0), color=\"red\")\n",
    "pl += plot(arg(Ez_bad_conductor_d)/pi, (x, 0, h_conductor), color=\"red\")\n",
    "#pl.show(title=\"График Arg тангенциальной компоненты  поля\")\n",
    "pl.show(title=\"График Arg тангенциальной компоненты напряженности электрического магнитного поля H\")"
   ]
  },
  {
   "cell_type": "markdown",
   "metadata": {},
   "source": [
    "Решение получено."
   ]
  },
  {
   "cell_type": "markdown",
   "metadata": {},
   "source": [
    "# test found solution with Maxwell equations"
   ]
  },
  {
   "cell_type": "markdown",
   "metadata": {},
   "source": [
    "$$rot\\,\\vec{E} = \\mu\\,\\frac{i\\,\\omega}{c}\\,\\vec{H}$$\n",
    "\n",
    "$$rot\\,\\vec{E} = -\\frac{1}{c}\\frac{\\partial \\vec B}{\\partial t} - \\frac{4\\pi}{c}\\vec j_m = \\mu\\,\\frac{i\\,\\omega}{c}\\,\\vec{H} - \\frac{4\\pi}{c}\\sigma_m \\vec H $$\n",
    "\n",
    "$$rot\\,\\vec{H} = \\frac{1}{c}\\frac{\\partial \\vec D}{\\partial t} + \\frac{4\\pi}{c} \\vec j = - \\frac{i\\,\\omega}{c} \\epsilon \\vec{E} + \\frac{4\\pi}{c}\\sigma \\vec E$$\n",
    "\n",
    "$$rot\\,rot\\,\\vec{E} = \\mu\\,\\frac{i\\,\\omega}{c}rot\\,\\vec{H}$$\n",
    "\n",
    "$$rot\\,rot\\,\\vec{E} = \\mu\\,\\frac{i\\,\\omega}{c}\\left(- \\frac{i\\,\\omega}{c} \\epsilon \\vec{E} + \\frac{4\\pi}{c}\\sigma \\vec E\\right)$$\n",
    "\n",
    "$$rot\\,rot\\,\\vec{E} = \\epsilon \\mu\\,\\frac{\\omega^2}{c^2} \\vec{E} + i\\,\\omega\\,\\sigma\\,\\mu\\,\\frac{4\\pi}{c^2} \\vec E$$\n",
    "\n",
    "$$rot\\,rot\\,\\vec{E} = grad\\,div\\,\\vec{E} - Laplasian\\,\\vec{E}$$\n",
    "\n",
    "$$Laplasian\\,\\vec{E} + \\epsilon \\mu \\frac{\\omega^2}{c^2}\\,\\vec{E} + i\\,\\omega\\,\\sigma\\,\\mu\\,\\frac{4\\pi}{c^2} \\vec E - grad\\,div\\,\\vec{E} = 0$$"
   ]
  },
  {
   "cell_type": "code",
   "execution_count": null,
   "metadata": {},
   "outputs": [],
   "source": [
    "# уравнение Максвелла для тока смещения\n",
    "# rot_H   = - I * epsilon * omega / c * E\n",
    "# rot_H_x = diff(H_z, y) - diff(H_y, z)\n",
    "# rot_H_y = diff(H_x, z) - diff(H_z, x)\n",
    "# rot_H_z = diff(H_y, x) - diff(H_x, y)"
   ]
  },
  {
   "cell_type": "code",
   "execution_count": null,
   "metadata": {},
   "outputs": [],
   "source": [
    "rot_H_vacuum_x_d = - diff(Hy_vacuum_d(x=x)*e^(I*k_z*z), z).subs(k_z == kz + I * sz).subs(k_z_sol)\n",
    "rot_H_vacuum_y_d =   0\n",
    "rot_H_vacuum_z_d =   diff(Hy_vacuum_d(x=x)*e^(I*k_z*z), x).subs(k_z == kz + I * sz).subs(k_z_sol)"
   ]
  },
  {
   "cell_type": "code",
   "execution_count": null,
   "metadata": {},
   "outputs": [],
   "source": [
    "eq_rot_H_vacuum_x_d = rot_H_vacuum_x_d == \\\n",
    "(-I*omega/c*Ex_vacuum_d(x=x)*e^(I*k_z*z)).subs(k_z == kz + I * sz).subs(k_z_sol).subs(digit_values)"
   ]
  },
  {
   "cell_type": "code",
   "execution_count": null,
   "metadata": {},
   "outputs": [],
   "source": [
    "eq_rot_H_vacuum_z_d = rot_H_vacuum_z_d == \\\n",
    "(-I*omega/c*Ez_vacuum_d(x=x)*e^(I*k_z*z)).subs(k_z == kz + I * sz).subs(k_z_sol).subs(digit_values)"
   ]
  },
  {
   "cell_type": "code",
   "execution_count": null,
   "metadata": {},
   "outputs": [],
   "source": [
    "(eq_rot_H_vacuum_x_d.rhs() / eq_rot_H_vacuum_x_d.lhs())"
   ]
  },
  {
   "cell_type": "code",
   "execution_count": null,
   "metadata": {},
   "outputs": [],
   "source": [
    "(eq_rot_H_vacuum_x_d.rhs() / eq_rot_H_vacuum_x_d.lhs())"
   ]
  },
  {
   "cell_type": "code",
   "execution_count": null,
   "metadata": {},
   "outputs": [],
   "source": [
    "# too long time\n",
    "# plot((eq_rot_H_vacuum_z_d.rhs() / eq_rot_H_vacuum_z_d.lhs()).real(), (x, -A, 0))"
   ]
  },
  {
   "cell_type": "code",
   "execution_count": null,
   "metadata": {},
   "outputs": [],
   "source": [
    "eq_rot_H_vacuum_z_d.rhs().subs(z == 0, x == 0).n() - \\\n",
    "eq_rot_H_vacuum_z_d.lhs().subs(z == 0, x == 0).n()"
   ]
  },
  {
   "cell_type": "code",
   "execution_count": null,
   "metadata": {},
   "outputs": [],
   "source": [
    "eq_rot_H_vacuum_z_d.rhs().subs(z == 1, x == -A/2).n() - \\\n",
    "eq_rot_H_vacuum_z_d.lhs().subs(z == 1, x == -A/2).n()"
   ]
  },
  {
   "cell_type": "code",
   "execution_count": null,
   "metadata": {},
   "outputs": [],
   "source": [
    "eq_rot_H_vacuum_z_d.rhs().subs(z == 0, x == -A).n() - \\\n",
    "eq_rot_H_vacuum_z_d.lhs().subs(z == 0, x == -A).n()"
   ]
  },
  {
   "cell_type": "code",
   "execution_count": null,
   "metadata": {},
   "outputs": [],
   "source": [
    "# plot((eq_rot_H_vacuum_z_d.rhs() / eq_rot_H_vacuum_z_d.lhs()).imag(), (x, -A, 0))"
   ]
  },
  {
   "cell_type": "code",
   "execution_count": null,
   "metadata": {},
   "outputs": [],
   "source": []
  },
  {
   "cell_type": "markdown",
   "metadata": {},
   "source": [
    "$$rot\\,\\vec{H} = \\frac{1}{c}\\frac{\\partial \\vec D}{\\partial t} + \\frac{4\\pi}{c} \\vec j = - \\frac{i\\,\\omega}{c} \\epsilon \\vec{E} + \\frac{4\\pi}{c}\\sigma \\vec E$$"
   ]
  },
  {
   "cell_type": "code",
   "execution_count": null,
   "metadata": {},
   "outputs": [],
   "source": [
    "# уравнение Максвелла для тока смещения\n",
    "# rot_H   = - I * epsilon * omega / c * E + 4 * pi / c * sigma * E\n",
    "# rot_H_x = diff(H_z, y) - diff(H_y, z)\n",
    "# rot_H_y = diff(H_x, z) - diff(H_z, x)\n",
    "# rot_H_z = diff(H_y, x) - diff(H_x, y)"
   ]
  },
  {
   "cell_type": "code",
   "execution_count": null,
   "metadata": {},
   "outputs": [],
   "source": [
    "rot_H_conductor_x_d = - diff(Hy_bad_conductor_d(x=x)*e^(I*k_z*z), z).subs(k_z == kz + I * sz).subs(k_z_sol)\n",
    "rot_H_conductor_y_d =   0\n",
    "rot_H_conductor_z_d =   diff(Hy_bad_conductor_d(x=x)*e^(I*k_z*z), x).subs(k_z == kz + I * sz).subs(k_z_sol)"
   ]
  },
  {
   "cell_type": "code",
   "execution_count": null,
   "metadata": {},
   "outputs": [],
   "source": [
    "eq_rot_H_conductor_x_d = (rot_H_conductor_x_d ==\n",
    "    (-I*epsilon_xx_complex*omega/c) * Ex_bad_conductor_d(x=x)*e^(I*k_z*z)\n",
    ").subs(k_z == kz + I * sz).subs(k_z_sol).subs(epsilon_mu_subs).subs(digit_values)"
   ]
  },
  {
   "cell_type": "code",
   "execution_count": null,
   "metadata": {},
   "outputs": [],
   "source": [
    "eq_rot_H_conductor_z_d = (rot_H_conductor_z_d ==\n",
    "    (-I*epsilon_xx_complex*omega/c)*Ez_bad_conductor_d(x=x)*e^(I*k_z*z)\n",
    ").subs(k_z == kz + I * sz).subs(k_z_sol).subs(epsilon_mu_subs).subs(digit_values)"
   ]
  },
  {
   "cell_type": "raw",
   "metadata": {},
   "source": [
    "(eq_rot_H_conductor_x.lhs() / eq_rot_H_conductor_x.rhs()).subs(kappa_sol).subs(digit_values).n()"
   ]
  },
  {
   "cell_type": "code",
   "execution_count": null,
   "metadata": {},
   "outputs": [],
   "source": []
  },
  {
   "cell_type": "code",
   "execution_count": null,
   "metadata": {},
   "outputs": [],
   "source": [
    "(eq_rot_H_conductor_x_d.lhs() / eq_rot_H_conductor_x_d.rhs()).n()"
   ]
  },
  {
   "cell_type": "code",
   "execution_count": null,
   "metadata": {},
   "outputs": [],
   "source": [
    "(eq_rot_H_conductor_z_d.lhs() / eq_rot_H_conductor_z_d.rhs()).n()"
   ]
  },
  {
   "cell_type": "code",
   "execution_count": null,
   "metadata": {},
   "outputs": [],
   "source": []
  },
  {
   "cell_type": "code",
   "execution_count": null,
   "metadata": {},
   "outputs": [],
   "source": []
  },
  {
   "cell_type": "markdown",
   "metadata": {},
   "source": [
    "$$rot\\,\\vec{E} = \\mu\\,\\frac{i\\,\\omega}{c}\\,\\vec{H}$$\n",
    "\n",
    "$$rot\\,\\vec{E} = -\\frac{1}{c}\\frac{\\partial \\vec B}{\\partial t} - \\frac{4\\pi}{c}\\vec j_m = \\mu\\,\\frac{i\\,\\omega}{c}\\,\\vec{H} - \\frac{4\\pi}{c}\\sigma_m \\vec H $$"
   ]
  },
  {
   "cell_type": "code",
   "execution_count": null,
   "metadata": {},
   "outputs": [],
   "source": [
    "# уравнение Максвелла для\n",
    "# rot_E   = I * mu * omega / c * H\n",
    "# rot_E_x = diff(E_z, y) - diff(E_y, z)\n",
    "# rot_E_y = diff(E_x, z) - diff(E_z, x)\n",
    "# rot_E_z = diff(E_y, x) - diff(E_x, y)"
   ]
  },
  {
   "cell_type": "code",
   "execution_count": null,
   "metadata": {},
   "outputs": [],
   "source": [
    "rot_E_vacuum_x_d = diff(Ez_vacuum_d(x=x)*e^(I*k_z*z), y)\n",
    "rot_E_vacuum_y_d = diff(Ex_vacuum_d(x=x)*e^(I*k_z*z), z) - diff(Ez_vacuum_d(x=x)*e^(I*k_z*z), x)\n",
    "rot_E_vacuum_z_d = - diff(Ex_vacuum_d(x=x)*e^(I*k_z*z), y)"
   ]
  },
  {
   "cell_type": "code",
   "execution_count": null,
   "metadata": {},
   "outputs": [],
   "source": [
    "eq_rot_E_vacuum_x_d = rot_E_vacuum_x_d == \\\n",
    "(I * omega / c * 0)"
   ]
  },
  {
   "cell_type": "code",
   "execution_count": null,
   "metadata": {},
   "outputs": [],
   "source": [
    "eq_rot_E_vacuum_y_d = (rot_E_vacuum_y_d == \\\n",
    "    I * mu_yy * omega / c * Hy_vacuum_d(x=x)*e^(I*k_z*z)\n",
    ").subs(k_z == kz + I * sz).subs(k_z_sol).subs(digit_values)"
   ]
  },
  {
   "cell_type": "code",
   "execution_count": null,
   "metadata": {},
   "outputs": [],
   "source": [
    "eq_rot_E_vacuum_z_d = rot_E_vacuum_z_d == \\\n",
    "(I * mu_zz * omega / c * 0)"
   ]
  },
  {
   "cell_type": "code",
   "execution_count": null,
   "metadata": {},
   "outputs": [],
   "source": []
  },
  {
   "cell_type": "code",
   "execution_count": null,
   "metadata": {},
   "outputs": [],
   "source": [
    "(eq_rot_E_vacuum_y_d.rhs() / eq_rot_E_vacuum_y_d.lhs()).variables()"
   ]
  },
  {
   "cell_type": "code",
   "execution_count": null,
   "metadata": {},
   "outputs": [],
   "source": [
    "pl = plot(eq_rot_E_vacuum_y_d.rhs().real().subs(z == 0), (x, -A, 0))\n",
    "pl += plot(eq_rot_E_vacuum_y_d.lhs().real().subs(z == 0), (x, -A, 0))\n",
    "pl.show()"
   ]
  },
  {
   "cell_type": "code",
   "execution_count": null,
   "metadata": {},
   "outputs": [],
   "source": [
    "pl = plot(eq_rot_E_vacuum_y_d.rhs().imag().subs(z == 0), (x, -A, 0))\n",
    "pl += plot(eq_rot_E_vacuum_y_d.lhs().imag().subs(z == 0), (x, -A, 0))\n",
    "pl.show()"
   ]
  },
  {
   "cell_type": "code",
   "execution_count": null,
   "metadata": {},
   "outputs": [],
   "source": [
    "pl = plot(eq_rot_E_vacuum_y_d.rhs().abs().subs(z == 0), (x, -A, 0))\n",
    "pl += plot(eq_rot_E_vacuum_y_d.lhs().abs().subs(z == 0), (x, -A, 0))\n",
    "pl.show()"
   ]
  },
  {
   "cell_type": "code",
   "execution_count": null,
   "metadata": {},
   "outputs": [],
   "source": []
  },
  {
   "cell_type": "code",
   "execution_count": null,
   "metadata": {},
   "outputs": [],
   "source": [
    "# уравнение Максвелла для\n",
    "# rot_E   = I * mu * omega / c * H\n",
    "# rot_E_x = diff(E_z, y) - diff(E_y, z)\n",
    "# rot_E_y = diff(E_x, z) - diff(E_z, x)\n",
    "# rot_E_z = diff(E_y, x) - diff(E_x, y)"
   ]
  },
  {
   "cell_type": "code",
   "execution_count": null,
   "metadata": {},
   "outputs": [],
   "source": [
    "rot_E_conductor_x_d = diff(Ez_bad_conductor_d(x=x)*e^(I*k_z*z), y)\n",
    "rot_E_conductor_y_d = diff(Ex_bad_conductor_d(x=x)*e^(I*k_z*z), z) - diff(Ez_bad_conductor_d(x=x)*e^(I*k_z*z), x)\n",
    "rot_E_conductor_z_d = - diff(Ex_bad_conductor_d(x=x)*e^(I*k_z*z), y)"
   ]
  },
  {
   "cell_type": "code",
   "execution_count": null,
   "metadata": {},
   "outputs": [],
   "source": [
    "eq_rot_E_conductor_x_d = (rot_E_conductor_x_d ==\n",
    "I * mu_xx * omega / c * 0)"
   ]
  },
  {
   "cell_type": "code",
   "execution_count": null,
   "metadata": {},
   "outputs": [],
   "source": [
    "eq_rot_E_conductor_y_d = (rot_E_conductor_y_d ==\n",
    "    I * mu_yy * omega / c * Hy_bad_conductor_d(x=x)*e^(I*k_z*z)\n",
    ").subs(k_z == kz + I * sz).subs(k_z_sol).subs(digit_values)"
   ]
  },
  {
   "cell_type": "code",
   "execution_count": null,
   "metadata": {},
   "outputs": [],
   "source": [
    "eq_rot_E_conductor_z_d = (rot_E_conductor_z_d ==\n",
    "I * mu_zz * omega / c * 0)"
   ]
  },
  {
   "cell_type": "code",
   "execution_count": null,
   "metadata": {},
   "outputs": [],
   "source": []
  },
  {
   "cell_type": "code",
   "execution_count": null,
   "metadata": {},
   "outputs": [],
   "source": [
    "(eq_rot_E_conductor_y_d.rhs() / eq_rot_E_conductor_y_d.lhs()).variables()"
   ]
  },
  {
   "cell_type": "code",
   "execution_count": null,
   "metadata": {},
   "outputs": [],
   "source": [
    "eq_rot_E_conductor_y_d.rhs().subs(z == 0, x == 0).n() - \\\n",
    "eq_rot_E_conductor_y_d.lhs().subs(z == 0, x == 0).n()"
   ]
  },
  {
   "cell_type": "code",
   "execution_count": null,
   "metadata": {},
   "outputs": [],
   "source": [
    "pl = plot(eq_rot_E_conductor_y_d.rhs().subs(z == 0).real(), (x, 0, A))\n",
    "pl += plot(eq_rot_E_conductor_y_d.lhs().subs(z == 0).real(), (x, 0, A))\n",
    "pl.show()"
   ]
  },
  {
   "cell_type": "code",
   "execution_count": null,
   "metadata": {},
   "outputs": [],
   "source": [
    "pl = plot(eq_rot_E_conductor_y_d.rhs().subs(z == 0).imag(), (x, 0, A))\n",
    "pl += plot(eq_rot_E_conductor_y_d.lhs().subs(z == 0).imag(), (x, 0, A))\n",
    "pl.show()"
   ]
  },
  {
   "cell_type": "code",
   "execution_count": null,
   "metadata": {},
   "outputs": [],
   "source": []
  },
  {
   "cell_type": "code",
   "execution_count": null,
   "metadata": {},
   "outputs": [],
   "source": []
  },
  {
   "cell_type": "markdown",
   "metadata": {},
   "source": [
    "Решение получено.\n",
    "\n",
    "Теперь посчитаем:\n",
    "\n",
    "1) пондеромоторную силу, приложенную к идеальному проводнику\n",
    "\n",
    "2) пондеромоторную силу, приложенную к границе диэлектрика и вакуума\n"
   ]
  },
  {
   "cell_type": "code",
   "execution_count": null,
   "metadata": {},
   "outputs": [],
   "source": []
  },
  {
   "cell_type": "markdown",
   "metadata": {},
   "source": [
    "1) пондеромоторная сила, приложенная к идеальному проводнику"
   ]
  },
  {
   "cell_type": "markdown",
   "metadata": {},
   "source": [
    "$$\\frac{1}{2}\\frac{H_{0}^{2}}{8 \\, \\pi}$$\n",
    "additional 1/2 arises as result of integration on period\n",
    "\n",
    "исходя из результатов\n",
    "\n",
    "https://nbviewer.org/github/daju1/articles/blob/master/rezonatory_i_volnovody/skin_force.ipynb\n",
    "\n",
    "эту силу можно интерпретировать как силу Ампера действующая на индуцированный ток проводимости Фуко со стороны магнитного поля проникающего в скин слой "
   ]
  },
  {
   "cell_type": "code",
   "execution_count": null,
   "metadata": {},
   "outputs": [],
   "source": [
    "# superconductor force\n",
    "# additional 1/2 arises as result of integration on period\n",
    "#f_superconductor = - abs((even_H_inner_vacuum_y (0)^2) / (2*8*pi))\n",
    "p_Ht_superconductor = - (Hy_vacuum_d (x=-A).real()^2 + Hy_vacuum_d (x=-A).imag()^2) / (2*8*pi)\n",
    "print(\"p_Ht_superconductor =\", p_Ht_superconductor.n())"
   ]
  },
  {
   "cell_type": "code",
   "execution_count": null,
   "metadata": {},
   "outputs": [],
   "source": [
    "# superconductor force\n",
    "# additional 1/2 arises as result of integration on period\n",
    "#f_superconductor = - abs((even_H_inner_vacuum_y (0)^2) / (2*8*pi))\n",
    "p_Ht_superconductor = - (\n",
    "    (Hy_vacuum_d (x=-A).abs()^2\n",
    "    +\n",
    "    Hz_vacuum_d (x=-A).abs()^2)\n",
    "    / (2*8*pi)\n",
    ")\n",
    "print(\"pH_superconductor =\", p_Ht_superconductor)"
   ]
  },
  {
   "cell_type": "markdown",
   "metadata": {},
   "source": [
    "2) пондеромоторная сила, приложенная к плохому проводнику"
   ]
  },
  {
   "cell_type": "code",
   "execution_count": null,
   "metadata": {},
   "outputs": [],
   "source": [
    "# bad conductor force\n",
    "# additional 1/2 arises as result of integration on period\n",
    "#f_bad_conductor = abs((even_H_inner_vacuum_y (a)^2) / (2*8*pi))\n",
    "p_Ht_bad_conductor = (\n",
    "    (Hy_vacuum_d (x=0).real()^2\n",
    "     +\n",
    "     Hy_vacuum_d (x=0).imag()^2\n",
    "    ) / (2*8*pi)\n",
    ")\n",
    "\n",
    "print(\"p_Ht_bad_conductor =\", p_Ht_bad_conductor)"
   ]
  },
  {
   "cell_type": "code",
   "execution_count": null,
   "metadata": {},
   "outputs": [],
   "source": [
    "# bad conductor force\n",
    "# additional 1/2 arises as result of integration on period\n",
    "#f_bad_conductor = abs((even_H_inner_vacuum_y (a)^2) / (2*8*pi))\n",
    "p_Ht_bad_conductor = (\n",
    "    (Hy_vacuum_d (x=0).abs()^2\n",
    "     +\n",
    "     Hz_vacuum_d (x=0).abs()^2\n",
    "    ) / (2*8*pi)\n",
    ")\n",
    "\n",
    "print(\"p_Ht_bad_conductor =\", p_Ht_bad_conductor)"
   ]
  },
  {
   "cell_type": "code",
   "execution_count": null,
   "metadata": {},
   "outputs": [],
   "source": [
    "(p_Ht_superconductor + p_Ht_bad_conductor).n()"
   ]
  },
  {
   "cell_type": "code",
   "execution_count": null,
   "metadata": {},
   "outputs": [],
   "source": [
    "pl =  plot(arg(Ez_vacuum_d)/pi-arg(Hy_vacuum_d)/pi, (x, -A, 0))\n",
    "pl += plot(tan(arg(Ez_bad_conductor_d)/pi-arg(Hy_bad_conductor_d)/pi), (x, 0, h_conductor))\n",
    "pl.show(title=\"График разницы фаз тангенциальной компоненты электрического и магнитного полей\")"
   ]
  },
  {
   "cell_type": "markdown",
   "metadata": {},
   "source": [
    "пондеромоторная сила, приложенная к границе диэлектрика и вакуума\n",
    "\n",
    "(здесь мы рассматриваем все же металл с невысокой проводимостью и с учетом его внутренней диэлектрической проницаемостью)\n",
    "\n",
    "компонента силы связанная с тангенциальной составляющей электрического поля\n",
    "\n",
    "$\\int\\limits_{T}^{}\\left(\\frac{D_t\\cdot E_t}{8\\pi}|_{dielectric} - \\frac{D_t \\cdot E_t}{8\\pi}|_{vacuum}\\right)dt$\n",
    "\n",
    "$\\int\\limits_{T}^{}\\left(\\frac{\\epsilon\\, E_t^2}{8\\pi}|_{dielectric} - \\frac{E_t^2}{8\\pi}|_{vacuum}\\right)dt$\n",
    "\n",
    "$E_t|_{dielectric} = E_t|_{vacuum}$\n",
    "\n",
    "$\\left(\\epsilon - 1\\right)\\int\\limits_{T}^{}\\frac{E_t^2}{8\\pi}|_{dielectric}dt$\n",
    "\n",
    "$\\left(\\epsilon - 1\\right)\\frac{E_t^2}{16\\pi}|_{dielectric}$"
   ]
  },
  {
   "cell_type": "markdown",
   "metadata": {},
   "source": [
    "как интерпретировать эту силу? Как силу, аналогичную силе Ампера, действующую со стороны электрического поля на магнитный ток смещения?\n",
    "\n",
    "$$rot\\,\\vec{E} = \\frac{1}{c}\\frac{\\partial \\vec B}{\\partial t} = \\frac{4\\pi}{c} \\vec {j_{см_m}}$$"
   ]
  },
  {
   "cell_type": "code",
   "execution_count": null,
   "metadata": {},
   "outputs": [],
   "source": [
    "# Static and dynamic electricity by William R. Smythe, second edition, 1950\n",
    "# paragraph 18 formula 1.47\n",
    "# давление на границу равно разности давлений по обе стороны от нее\n",
    "# $$ P_n = \\frac{1}{2} \\epsilon'{{E'}_t}^2 - \\frac{1}{2} \\epsilon''{{E''}_t}^2 $$"
   ]
  },
  {
   "cell_type": "markdown",
   "metadata": {},
   "source": [
    "$$ P_n = \\frac{1}{2} \\epsilon'{{E'}_t}^2 - \\frac{1}{2} \\epsilon''{{E''}_t}^2 $$"
   ]
  },
  {
   "cell_type": "code",
   "execution_count": null,
   "metadata": {},
   "outputs": [],
   "source": [
    "# bad conductor force\n",
    "# additional 1/2 arises as result of integration on period\n",
    "p_Et_bad_conductor = -(\n",
    "    ((1.0 - epsilon_zz_complex) * Ez_vacuum_d (x=0))\n",
    "    *\n",
    "    Ez_vacuum_d (x=0)/ (2*8*pi)\n",
    ").subs(digit_values).abs().n()\n",
    "print(\"p_Et_bad_conductor_ =\", p_Et_bad_conductor)"
   ]
  },
  {
   "cell_type": "markdown",
   "metadata": {},
   "source": [
    "пондеромоторная сила, приложенная к границе диэлектрика и вакуума\n",
    "\n",
    "компонента силы связанная с нормальной составляющей электрического поля\n",
    "\n",
    "$\\int\\limits_{T}^{}\\left(\\frac{D_n\\cdot E_n}{8\\pi}|_{dielectric} - \\frac{D_n \\cdot E_n}{8\\pi}|_{vacuum}\\right)dt$\n",
    "\n",
    "$\\int\\limits_{T}^{}\\left(\\frac{\\epsilon\\, E_n^2}{8\\pi}|_{dielectric} - \\frac{E_n^2}{8\\pi}|_{vacuum}\\right)dt$\n",
    "\n",
    "$D_n|_{dielectric} = D_n|_{vacuum}$\n",
    "\n",
    "$\\epsilon\\,E_n|_{dielectric} = E_n|_{vacuum}$\n",
    "\n",
    "$\\int\\limits_{T}^{}\\left(\\frac{\\epsilon\\, E_n^2}{8\\pi}|_{dielectric} - \\frac{\\epsilon^2\\, E_n^2}{8\\pi}|_{dielectric}\\right)dt$\n",
    "\n",
    "$\\left(\\epsilon - \\epsilon^2\\right)\\int\\limits_{T}^{}\\frac{E_n^2}{8\\pi}|_{dielectric}dt$\n",
    "\n",
    "$\\frac{\\left(1 - \\epsilon\\right)\\,\\epsilon\\,E_n^2}{16\\pi}|_{dielectric}$"
   ]
  },
  {
   "cell_type": "markdown",
   "metadata": {},
   "source": [
    "Рассмотрим следующую компоненту тензора натяжения, взятую из Static and dynamic electricity by William R. Smythe, second edition, 1950\n",
    "paragraph 18 formula 1.45 натяжение на границе, созданное нормальными компонентами индукции\n",
    "должно равняться разности натяжений по обе стороны от границы\n",
    " $$ T_n = \\frac{{{D'}_n}^2}{2 \\epsilon'} - \\frac{{{D''}_n}^2}{2 \\epsilon''} $$"
   ]
  },
  {
   "cell_type": "markdown",
   "metadata": {},
   "source": [
    "Поскольку нормальная компонента электрического смещения численно равна заряду, \"накапливающемуся\" на поверхности раздела двух сред, деленному на площадь этой поверхности.\n",
    "И поскольку электрическое смещение связано с полным зарядом (как свободным, так и связанным) в данной области то физический смысл этой компоненты натяжения вероятно состоит в действии электрического поля на поверхностный заряд\n"
   ]
  },
  {
   "cell_type": "code",
   "execution_count": null,
   "metadata": {},
   "outputs": [],
   "source": [
    "# Static and dynamic electricity by William R. Smythe, second edition, 1950\n",
    "# paragraph 18 formula 1.45\n",
    "# натяжение на границе, созданное нормальными компонентами индукции\n",
    "# должно равняться разности натяжений по обе стороны от границы\n",
    "# $$ T_n = \\frac{{{D'}_n}^2}{2 \\epsilon'} - \\frac{{{D''}_n}^2}{2 \\epsilon''} $$"
   ]
  },
  {
   "cell_type": "markdown",
   "metadata": {},
   "source": [
    "$$ T_n = \\frac{{{D'}_n}^2}{2 \\epsilon'} - \\frac{{{D''}_n}^2}{2 \\epsilon''} $$"
   ]
  },
  {
   "cell_type": "code",
   "execution_count": null,
   "metadata": {},
   "outputs": [],
   "source": [
    "# super conductor tension\n",
    "# additional 1/2 arises as result of integration on period\n",
    "# epsilon_superconductor -> Infinity\n",
    "# 1 / epsilon_superconductor -> 0.0\n",
    "t_Dn_super_conductor = (\n",
    "    (np.float128(0.0) - np.float128(1)/np.float128(1.))\n",
    "    * (Dx_vacuum_d (x=-A).abs()^2) / np.float128(2*8*pi))\n",
    "print(\"t_Dn_super_conductor =\", t_Dn_super_conductor, type(t_Dn_super_conductor))"
   ]
  },
  {
   "cell_type": "code",
   "execution_count": null,
   "metadata": {},
   "outputs": [],
   "source": [
    "# super conductor tension\n",
    "# additional 1/2 arises as result of integration on period\n",
    "# epsilon_superconductor -> Infinity\n",
    "# 1 / epsilon_superconductor -> 0.0\n",
    "t_Dn_super_conductor = -(\n",
    "    np.float128(0.0) - (Dx_vacuum_d (x=-A)/np.float128(1))\n",
    "       * (Dx_vacuum_d (x=-A)) / np.float128(2*8*pi)\n",
    ").abs()\n",
    "print(\"t_Dn_super_conductor =\", t_Dn_super_conductor)"
   ]
  },
  {
   "cell_type": "code",
   "execution_count": null,
   "metadata": {},
   "outputs": [],
   "source": [
    "# bad conductor force\n",
    "# additional 1/2 arises as result of integration on period\n",
    "t_Dn_bad_conductor = (\n",
    "    ((Dx_vacuum_d (x=0)/np.float128(1.0)) * Dx_vacuum_d (x=0)\n",
    "     - \n",
    "     ( Dx_bad_conductor_d(x=0) / epsilon_xx_complex )\n",
    "         * Dx_bad_conductor_d(x=0)\n",
    "    ) / np.float128(2*8*pi)\n",
    ").subs(epsilon_mu_subs).subs(digit_values).abs()\n",
    "print(\"t_Dn_bad_conductor =\", t_Dn_bad_conductor.n())"
   ]
  },
  {
   "cell_type": "code",
   "execution_count": null,
   "metadata": {},
   "outputs": [],
   "source": [
    "(t_Dn_super_conductor + t_Dn_bad_conductor).n()"
   ]
  },
  {
   "cell_type": "markdown",
   "metadata": {},
   "source": [
    "Результаты вычислений показывают, что тяга в волновом двигателе с внутренним расходом энергии Ф.Ф.Менде (MenDrive) ненулевая и равна"
   ]
  },
  {
   "cell_type": "code",
   "execution_count": null,
   "metadata": {},
   "outputs": [],
   "source": [
    "(+ p_Ht_superconductor + p_Ht_bad_conductor).n() + \\\n",
    "(+ t_Dn_super_conductor + t_Dn_bad_conductor).n()"
   ]
  },
  {
   "cell_type": "code",
   "execution_count": null,
   "metadata": {},
   "outputs": [],
   "source": [
    "(+ p_Ht_superconductor + p_Ht_bad_conductor).n() + \\\n",
    "(+ t_Dn_super_conductor + t_Dn_bad_conductor).n() \\\n",
    "- p_Et_bad_conductor"
   ]
  },
  {
   "cell_type": "code",
   "execution_count": null,
   "metadata": {},
   "outputs": [],
   "source": [
    "# H^2/8 pi\n",
    "(p_Ht_superconductor + p_Ht_bad_conductor).n()"
   ]
  },
  {
   "cell_type": "code",
   "execution_count": null,
   "metadata": {},
   "outputs": [],
   "source": [
    "(t_Dn_super_conductor + t_Dn_bad_conductor).n()"
   ]
  },
  {
   "cell_type": "code",
   "execution_count": null,
   "metadata": {},
   "outputs": [],
   "source": [
    "- p_Et_bad_conductor"
   ]
  },
  {
   "cell_type": "markdown",
   "metadata": {},
   "source": [
    "Мощность тепловых потерь"
   ]
  },
  {
   "cell_type": "code",
   "execution_count": null,
   "metadata": {},
   "outputs": [],
   "source": [
    "wr = lambda x : ( sigma_e_zz * Ez_bad_conductor_d(x=x).abs()^2\n",
    "                + sigma_e_yy * Ey_bad_conductor_d(x=x).abs()^2\n",
    "                + sigma_e_xx * Ex_bad_conductor_d(x=x).abs()^2\n",
    "                ).subs(epsilon_mu_subs).expand().subs(digit_values)"
   ]
  },
  {
   "cell_type": "code",
   "execution_count": null,
   "metadata": {},
   "outputs": [],
   "source": [
    "def plot_wr(expression):\n",
    "    v = []\n",
    "    s = [(0,0)]\n",
    "    sum_int = 0\n",
    "\n",
    "    mn = 0\n",
    "    mx = h_conductor\n",
    "    st = h_conductor / 50\n",
    "\n",
    "    import numpy as np\n",
    "    for vx in np.arange(mn, mx+st, st):\n",
    "        _Wx = expression.subs(x = vx).n()\n",
    "        v += [(vx, _Wx)]\n",
    "        if vx != 0:\n",
    "            sum_int += (_Wx + _Wx_pre) / 2 * st\n",
    "            s += [(vx, sum_int)]\n",
    "        print(\"x =\", vx, \"_Wx =\", _Wx, \"sum_int = \", sum_int)\n",
    "        _Wx_pre = _Wx\n",
    "\n",
    "    return v, s, sum_int"
   ]
  },
  {
   "cell_type": "code",
   "execution_count": null,
   "metadata": {},
   "outputs": [],
   "source": [
    "wr_x, sr_x, sum_int = plot_wr(wr(x=x))"
   ]
  },
  {
   "cell_type": "code",
   "execution_count": null,
   "metadata": {},
   "outputs": [],
   "source": [
    "plt_wr_x = list_plot(wr_x)\n",
    "plt_wr_x.show()"
   ]
  },
  {
   "cell_type": "code",
   "execution_count": null,
   "metadata": {},
   "outputs": [],
   "source": [
    "plt_sr_x = list_plot(sr_x)\n",
    "plt_sr_x.show()"
   ]
  },
  {
   "cell_type": "code",
   "execution_count": null,
   "metadata": {
    "scrolled": true
   },
   "outputs": [],
   "source": [
    "if make_investigation_plots:\n",
    "    (plt_wr_x + plot(wr(x=x), (x, 0, h_conductor))).show()"
   ]
  },
  {
   "cell_type": "code",
   "execution_count": null,
   "metadata": {},
   "outputs": [],
   "source": [
    "if make_investigation_plots:\n",
    "    Wr_integrate_x = wr(x=x).integrate(x)\n",
    "    Wr_integrate_x.variables()"
   ]
  },
  {
   "cell_type": "code",
   "execution_count": null,
   "metadata": {
    "scrolled": true
   },
   "outputs": [],
   "source": [
    "if make_investigation_plots:\n",
    "    (plt_sr_x + plot(Wr_integrate_x - Wr_integrate_x.subs(x == 0), (x, 0, h_conductor))).show()"
   ]
  },
  {
   "cell_type": "code",
   "execution_count": null,
   "metadata": {},
   "outputs": [],
   "source": [
    "if make_investigation_plots:\n",
    "    W = Wr_integrate_x.subs(x == h_conductor).n() - Wr_integrate_x.subs(x == 0).n()\n",
    "    print(sum_int, W, sum_int / W)\n",
    "else:\n",
    "    W = sum_int\n",
    "    print(W)"
   ]
  },
  {
   "cell_type": "markdown",
   "metadata": {},
   "source": [
    "Удельная тяга, отнесённая к мощности тепловых потерь"
   ]
  },
  {
   "cell_type": "code",
   "execution_count": null,
   "metadata": {},
   "outputs": [],
   "source": [
    "# F / P\n",
    "# dyne / (erg/s)\n",
    "\n",
    "# 1 erg  = 10^-7 joule\n",
    "# 1 dyne = 10^-5 N\n",
    "\n",
    "# 1 dyne / (erg/s) = 10^-5 / (10^-7) = 100 N/watt"
   ]
  },
  {
   "cell_type": "code",
   "execution_count": null,
   "metadata": {},
   "outputs": [],
   "source": [
    "# dyne / (erg/s)\n",
    "(p_Ht_superconductor + p_Ht_bad_conductor).n()/(W)"
   ]
  },
  {
   "cell_type": "code",
   "execution_count": null,
   "metadata": {},
   "outputs": [],
   "source": [
    "# dyne / (erg/s)\n",
    "(t_Dn_super_conductor + t_Dn_bad_conductor).n()/(W)"
   ]
  },
  {
   "cell_type": "code",
   "execution_count": null,
   "metadata": {},
   "outputs": [],
   "source": [
    "# dyne / (erg/s)\n",
    "(- p_Et_bad_conductor)/(W)"
   ]
  },
  {
   "cell_type": "code",
   "execution_count": null,
   "metadata": {},
   "outputs": [],
   "source": [
    "p_Et_bad_conductor, W"
   ]
  },
  {
   "cell_type": "code",
   "execution_count": null,
   "metadata": {},
   "outputs": [],
   "source": [
    "show(t_Dn_super_conductor.n() + t_Dn_bad_conductor.n() - p_Et_bad_conductor.n())"
   ]
  },
  {
   "cell_type": "code",
   "execution_count": null,
   "metadata": {},
   "outputs": [],
   "source": [
    "# dyne / (erg/s)\n",
    "(t_Dn_super_conductor.n() + t_Dn_bad_conductor.n() - p_Et_bad_conductor.n())/(W)"
   ]
  },
  {
   "cell_type": "code",
   "execution_count": null,
   "metadata": {},
   "outputs": [],
   "source": [
    "# N/watt"
   ]
  },
  {
   "cell_type": "code",
   "execution_count": null,
   "metadata": {},
   "outputs": [],
   "source": [
    "100 * ( \\\n",
    " (+ p_Ht_superconductor + p_Ht_bad_conductor).n() + \\\n",
    " (+ t_Dn_super_conductor + t_Dn_bad_conductor).n() \\\n",
    " - p_Et_bad_conductor\n",
    ")/(W)"
   ]
  },
  {
   "cell_type": "code",
   "execution_count": null,
   "metadata": {},
   "outputs": [],
   "source": [
    "# N/kwatt"
   ]
  },
  {
   "cell_type": "code",
   "execution_count": null,
   "metadata": {},
   "outputs": [],
   "source": [
    "N_kwatt = 10^5*( \\\n",
    " (+ p_Ht_superconductor + p_Ht_bad_conductor).n() + \\\n",
    " (+ t_Dn_super_conductor + t_Dn_bad_conductor).n() \\\n",
    " - p_Et_bad_conductor\n",
    ")/(W)\n",
    "N_kwatt"
   ]
  },
  {
   "cell_type": "code",
   "execution_count": null,
   "metadata": {},
   "outputs": [],
   "source": [
    "N_kwatt"
   ]
  },
  {
   "cell_type": "markdown",
   "metadata": {},
   "source": [
    "положительный знак соответствует направлению тяги в сторону увеличения значений x"
   ]
  },
  {
   "cell_type": "markdown",
   "metadata": {},
   "source": [
    "Здесь нужно отметить, что формула\n",
    "\n",
    "```bash\n",
    "pH_bad_conductor = (Hy_vacuum_d (x=0).abs()^2) / (2*8*pi)\n",
    "```\n",
    "\n",
    "хотя и взята из справочников, ее вывод приводится в Ландау Лифшиц. Электродинамика сплошных сред параграфы 58 и 59\n",
    "\n",
    "и здесь вкратце я этот вывод повторил\n",
    "\n",
    "https://nbviewer.org/github/daju1/articles/blob/master/rezonatory_i_volnovody/skin_force_t.ipynb"
   ]
  },
  {
   "cell_type": "markdown",
   "metadata": {},
   "source": [
    "Но что интересно этот вывод сделан в предположении что фаза электрического поля отстает от фазы магнитного поля на величину $\\pi/4$\n",
    "\n",
    "\n",
    "Далее в работе \n",
    "\n",
    "https://nbviewer.org/github/daju1/articles/blob/master/rezonatory_i_volnovody/skin_force.ipynb\n",
    "\n",
    "Был рассмотрен вопрос\n",
    "\n",
    "```bash\n",
    "# а что если в данном расчете изменится сдвиг фаз между электрическим и магнитным полем?\n",
    "```\n"
   ]
  },
  {
   "cell_type": "code",
   "execution_count": null,
   "metadata": {},
   "outputs": [],
   "source": [
    "pl =  plot(arg(Hy_vacuum_d)/pi, (x, -A, 0))\n",
    "pl += plot(arg(Hy_bad_conductor_d)/pi, (x, 0, h_conductor))\n",
    "pl += plot(arg(Ez_vacuum_d)/pi, (x, -A, 0), color=\"red\")\n",
    "pl += plot(arg(Ez_bad_conductor_d)/pi, (x, 0, h_conductor), color=\"red\")\n",
    "pl.show(title=\"График Arg тангенциальной компоненты напряженности электрического магнитного поля H\")"
   ]
  },
  {
   "cell_type": "code",
   "execution_count": null,
   "metadata": {
    "scrolled": true
   },
   "outputs": [],
   "source": [
    "pl =  plot(arg(Hy_vacuum_d)/pi-arg(Ez_vacuum_d)/pi, (x, -A, 0))\n",
    "pl += plot(arg(Hy_bad_conductor_d)/pi-arg(Ez_bad_conductor_d)/pi, (x, 0, h_conductor))\n",
    "pl.show(title=\"График разности фаз тангенциальной компоненты напряженности электрического магнитного поля H\")"
   ]
  },
  {
   "cell_type": "code",
   "execution_count": null,
   "metadata": {},
   "outputs": [],
   "source": []
  },
  {
   "cell_type": "code",
   "execution_count": null,
   "metadata": {},
   "outputs": [],
   "source": [
    "dphi_vacuum    = lambda x : arg(Ez_vacuum_d       (x=x))/pi - arg(Hy_vacuum_d       (x=x))/pi"
   ]
  },
  {
   "cell_type": "code",
   "execution_count": null,
   "metadata": {},
   "outputs": [],
   "source": [
    "dphi_conductor = lambda x : arg(Ez_bad_conductor_d(x=x))/pi - arg(Hy_bad_conductor_d(x=x))/pi"
   ]
  },
  {
   "cell_type": "markdown",
   "metadata": {},
   "source": [
    "В данном расчёте оказалось что при заданных параметрах сдвиг фаз между электрическим и  магнитнымполем отличается от $-1.25 \\pi$ на величину\n"
   ]
  },
  {
   "cell_type": "code",
   "execution_count": null,
   "metadata": {},
   "outputs": [],
   "source": [
    "dphi_conductor(h_conductor).n()"
   ]
  },
  {
   "cell_type": "code",
   "execution_count": null,
   "metadata": {},
   "outputs": [],
   "source": [
    "dphi_conductor(0).n()"
   ]
  },
  {
   "cell_type": "code",
   "execution_count": null,
   "metadata": {},
   "outputs": [],
   "source": [
    "dphi_conductor(0.001).n()"
   ]
  },
  {
   "cell_type": "code",
   "execution_count": null,
   "metadata": {},
   "outputs": [],
   "source": [
    "dphi_vacuum(0).n()"
   ]
  },
  {
   "cell_type": "code",
   "execution_count": null,
   "metadata": {},
   "outputs": [],
   "source": [
    "dphi_vacuum(-A/2).n()"
   ]
  },
  {
   "cell_type": "code",
   "execution_count": null,
   "metadata": {},
   "outputs": [],
   "source": [
    "dphi_vacuum(-A).n()"
   ]
  },
  {
   "cell_type": "raw",
   "metadata": {},
   "source": [
    "pl =  plot(dphi_vacuum, (x, -A*0.001, 0))\n",
    "pl += plot(dphi_conductor, (x, 0, h_conductor*0.001), color=\"red\")\n",
    "pl.show(title=\"delta Arg тангенциальных H и E\")"
   ]
  },
  {
   "cell_type": "markdown",
   "metadata": {},
   "source": [
    "небольная разница в сдвиге фаз между тангенциальным электрическим и тангенциальным магнитным полем на поверхности проводника в вакуумной фазе и в фазе поверхности является следствием, вероятно, ограниченной точностью сведения детерминанта к нулю на итерационной фазе вычислений"
   ]
  },
  {
   "cell_type": "code",
   "execution_count": null,
   "metadata": {
    "scrolled": true
   },
   "outputs": [],
   "source": [
    "pl =  plot(0.25+dphi_vacuum(x), (x, -A, 0))\n",
    "pl += plot(0.25+dphi_conductor(x), (x, 0, h_conductor))\n",
    "pl.show(title=\"График delta Arg тангенциальных компонент H и E\")"
   ]
  },
  {
   "cell_type": "code",
   "execution_count": null,
   "metadata": {
    "scrolled": true
   },
   "outputs": [],
   "source": [
    "pl =  plot(0, (x, 0, h_conductor))\n",
    "pl += plot(dphi_conductor(x), (x, 0, h_conductor))\n",
    "pl.show(title=\"График delta Arg тангенциальных компонент H и E\")"
   ]
  },
  {
   "cell_type": "markdown",
   "metadata": {},
   "source": [
    "Этот факт ставит отрытым вопрос об уточнении формулы для pH_bad_conductor"
   ]
  },
  {
   "cell_type": "markdown",
   "metadata": {},
   "source": [
    "В работе \n",
    "\n",
    "https://nbviewer.org/github/daju1/articles/blob/master/rezonatory_i_volnovody/skin_force_phi.ipynb\n",
    "\n",
    "был рассмотрен этот $-1.25 \\pi$ сдвиг фаз. Для этого случая сила действующая на проводник в скинслое равна\n",
    "\n",
    "$$-\\frac{H_{0}^{2}}{16 \\, \\pi}$$\n",
    "\n",
    "а также получена формула, которая говорит, что если реальный сдвиг фаз между электрическим и магнитным полем отличается на величину $\\phi$ тогда сила действующая на проводник в скинслое равна уже\n",
    "\n",
    "$$-\\frac{H_{0}^{2} \\cos\\left(\\phi\\right)}{16 \\, \\pi} - \\frac{H_{0}^{2} \\sin\\left(\\phi\\right)}{16 \\, \\pi}$$\n",
    "\n",
    "$$-\\frac{H_{0}^{2} }{16 \\, \\pi} (\\cos\\left(\\phi\\right) + \\sin\\left(\\phi\\right))$$"
   ]
  },
  {
   "cell_type": "code",
   "execution_count": null,
   "metadata": {},
   "outputs": [],
   "source": [
    "#phi = (1.25+dphi_conductor(0).n())*pi\n",
    "phi = (0.25+dphi_conductor(0).n())*pi\n",
    "phi"
   ]
  },
  {
   "cell_type": "code",
   "execution_count": null,
   "metadata": {},
   "outputs": [],
   "source": [
    "(dphi_vacuum(-A).n())*pi"
   ]
  },
  {
   "cell_type": "code",
   "execution_count": null,
   "metadata": {},
   "outputs": [],
   "source": [
    "# N/kwatt\n",
    "\n",
    "N_kwatt_phi = 10^5*( \\\n",
    " + (p_Ht_superconductor + p_Ht_bad_conductor * (cos(phi) + sin(phi))).n() \\\n",
    " + (t_Dn_super_conductor + t_Dn_bad_conductor).n() \\\n",
    " - p_Et_bad_conductor).n()/(W)\n",
    "N_kwatt_phi"
   ]
  },
  {
   "cell_type": "code",
   "execution_count": null,
   "metadata": {},
   "outputs": [],
   "source": [
    "# N/kwatt\n",
    "\n",
    "N_kwatt = 10^5*( \\\n",
    " + (p_Ht_superconductor + p_Ht_bad_conductor).n() \\\n",
    " + (t_Dn_super_conductor + t_Dn_bad_conductor).n() \\\n",
    " - p_Et_bad_conductor).n()/(W)\n",
    "N_kwatt"
   ]
  },
  {
   "cell_type": "code",
   "execution_count": null,
   "metadata": {},
   "outputs": [],
   "source": [
    "N_kwatt_phi - N_kwatt"
   ]
  },
  {
   "cell_type": "markdown",
   "metadata": {},
   "source": [
    "Исходя из результатов опытов С.Б. Каравашкина по исследованию токов Фуко в разных материалах\n",
    "\n",
    "https://sbkaravashkin.blogspot.com/2014/10/1.html\n",
    "\n",
    "https://sbkaravashkin.blogspot.com/2014/10/2.html, изменится ли в данном расчете сдвиг фаз между электрическим и магнитным полем?"
   ]
  },
  {
   "cell_type": "markdown",
   "metadata": {},
   "source": [
    "Очень важным для построения теории Emdrive  я считаю результаты опытов  С.Б. Каравашкина с токами Фуко.\n",
    "\n",
    "\n",
    "http://sbkaravashkin.blogspot.com/2014/10/2.html?m=1\n",
    "\n",
    "С точки зрения полученных результатов становится понятным  расхождение между графиками фаз запаздывания для материалов с доминирующей электронной и ориентационной компонентами. В первых электронная компонента тока Фуко отстаёт от фазы тока в первичной обмотке на 90°. Эдс во вторичной обмотке зависит от направления доминирующей в каждом случае ветви тока Фуко в наставке и в каждом случае тоже запаздывает на 90°. Результирующая фаза эдс может изменяться от 0° до -180°. В материалах с ориентационной компонентой эквивалентный ток опережает ток в первичной обмотке на 90°, а потому результирующая эдс в зависимости от доминирования того или иного направления влияющих элементов эквивалентного тока в накладке, имеющих противоположное направление, может изменяться от 0° до +180°."
   ]
  },
  {
   "cell_type": "markdown",
   "metadata": {},
   "source": [
    "если предположить что формула \n",
    "\n",
    "$$-\\frac{H_{0}^{2} }{16 \\, \\pi} (\\cos\\left(\\phi\\right) + \\sin\\left(\\phi\\right))$$\n",
    "\n",
    "применима также и для вычисления пондеромоторной силы приложенной к идеальному проводнику"
   ]
  },
  {
   "cell_type": "code",
   "execution_count": null,
   "metadata": {},
   "outputs": [],
   "source": [
    "#phi_r = (1.25+dphi_vacuum(0).n())*pi\n",
    "phi_r = (dphi_vacuum(0).n())*pi\n",
    "phi_r"
   ]
  },
  {
   "cell_type": "code",
   "execution_count": null,
   "metadata": {},
   "outputs": [],
   "source": [
    "phi_l = (dphi_vacuum(-A).n())*pi\n",
    "phi_l"
   ]
  },
  {
   "cell_type": "code",
   "execution_count": null,
   "metadata": {},
   "outputs": [],
   "source": [
    "# N/kwatt\n",
    "\n",
    "10^5*( \\\n",
    " + p_Ht_superconductor + p_Ht_bad_conductor \\\n",
    ").n()/(W)"
   ]
  },
  {
   "cell_type": "code",
   "execution_count": null,
   "metadata": {},
   "outputs": [],
   "source": [
    "# N/kwatt\n",
    "\n",
    "10^5*( \\\n",
    " + p_Ht_superconductor * (cos(phi_l) + sin(phi_l)).n() + p_Ht_bad_conductor * (cos(phi_r) + sin(phi_r)).n() \\\n",
    ").n()/(W)"
   ]
  },
  {
   "cell_type": "code",
   "execution_count": null,
   "metadata": {},
   "outputs": [],
   "source": [
    "# N/kwatt\n",
    "\n",
    "10^5*( \\\n",
    " + t_Dn_super_conductor + t_Dn_bad_conductor \\\n",
    ").n()/(W)"
   ]
  },
  {
   "cell_type": "code",
   "execution_count": null,
   "metadata": {},
   "outputs": [],
   "source": [
    "# N/kwatt\n",
    "\n",
    "10^5*( \\\n",
    " + p_Ht_superconductor * (cos(phi_l) + sin(phi_l)).n() + p_Ht_bad_conductor * (cos(phi_r) + sin(phi_r)).n() \\\n",
    " + (t_Dn_super_conductor + t_Dn_bad_conductor).n() \\\n",
    " - p_Et_bad_conductor).n()/(W)"
   ]
  },
  {
   "cell_type": "code",
   "execution_count": null,
   "metadata": {},
   "outputs": [],
   "source": [
    "#Propulsion and Energy Forum\n",
    "#July 28-30, 2014, Cleveland, OH\n",
    "#50th AIAA/ASME/SAE/ASEE Joint Propulsion Conference\n",
    "#Anomalous Thrust Production from an RF Test Device\n",
    "#Measured on a Low-Thrust Torsion Pendulum\n",
    "#David A. Brady * , Harold G. White † , Paul March ‡ , James T. Lawrence § , and Frank J. Davies **\n",
    "#NASA Lyndon B. Johnson Space Center, Houston, Texas 77058\n",
    "\n",
    "\n",
    "#Tapered Cavity RF Evaluation and Testing, TE012 mode\n",
    "#Prior to the TM211 evaluations, COMSOL® analysis indicated that the TE012 was an effective thrust generation\n",
    "#mode for the tapered cavity thruster being evaluated, so this mode was explored early in the evaluation process.\n",
    "#Figure 22 shows a test run at the TE012 mode with an operating frequency of 1880.4 MHz. The measured quality\n",
    "#factor was ~22,000, with a COMSOL prediction of 21,817. The measured power applied to the test article was\n",
    "#measured to be 2.6 watts, and the (net) measured thrust was 55.4 micronewtons. With an input power of 2.6 watts,\n",
    "#correcting for the quality factor, the predicted thrust is 50 micronewtons. However, since the TE012 mode had\n",
    "#numerous other RF modes in very close proximity, it was impractical to repeatedly operate the system in this mode,\n",
    "#so the decision was made to evaluate the TM211 modes instead.\n",
    "\n",
    "#E. Tapered Cavity Testing: Summary of Results\n",
    "# Mode \n",
    "# Frequency (MHz)\n",
    "# Quality Factor, Q \n",
    "\n",
    "# Input Power (W) \n",
    "# Peak Thrust (μN) \n",
    "# Mean Thrust (μN) \n",
    "# Number of Test Runs\n",
    "# TM211 1932.6   7320  16.9  116.0   91.2  5\n",
    "# TM211 1936.7 18,100  16.7   54.1   50.1  2\n",
    "# TE012 1880.4 22,000   2.6   55.4   55.4  1\n",
    "\n",
    "# Harrington, Roger F. (1961). Time-Harmonic Electromagnetic Fields. McGraw-Hill. ISBN 9780070267459.\n",
    "\n",
    "# EEE TRANSACTIONS ON MICROWAVE THEORY AND TECHNIQUES, VOL. 54, NO. 4, APRIL 2006\n",
    "# Two-Resonator Method for Measurement of Dielectric Anisotropy in Multilayer SamplesPlamen I. Dankov, Member, IEEE\n",
    "# https://www.researchgate.net/publication/3131333_Two-resonator_method_for_measurement_of_dielectric_anisotropy_in_multilayer_samples"
   ]
  },
  {
   "cell_type": "code",
   "execution_count": null,
   "metadata": {},
   "outputs": [],
   "source": [
    "# they have obtained\n",
    "# 0,005396449704142\n",
    "# 0,003\n",
    "# 0,0213076923076923\n",
    "# N/kwatt"
   ]
  },
  {
   "cell_type": "code",
   "execution_count": null,
   "metadata": {},
   "outputs": [],
   "source": []
  },
  {
   "cell_type": "markdown",
   "metadata": {},
   "source": [
    "дивергенция электрического поля"
   ]
  },
  {
   "cell_type": "code",
   "execution_count": null,
   "metadata": {},
   "outputs": [],
   "source": [
    "pl = plot(divE_bad_conductor_d.real(), (x, 0, h_conductor))\n",
    "pl.show(title=\"График real дивергенции электрического поля\")"
   ]
  },
  {
   "cell_type": "code",
   "execution_count": null,
   "metadata": {},
   "outputs": [],
   "source": [
    "pl = plot(divE_bad_conductor_d.imag(), (x, 0, h_conductor))\n",
    "pl.show(title=\"График imag дивергенции электрического поля\")"
   ]
  },
  {
   "cell_type": "code",
   "execution_count": null,
   "metadata": {},
   "outputs": [],
   "source": []
  },
  {
   "cell_type": "code",
   "execution_count": null,
   "metadata": {},
   "outputs": [],
   "source": [
    "pl = plot(grad_div_E_z_d.real(), (x, 0, h_conductor))\n",
    "pl.show(title=\"График real z компоненты градиента дивергенции электрического поля\")"
   ]
  },
  {
   "cell_type": "code",
   "execution_count": null,
   "metadata": {
    "scrolled": true
   },
   "outputs": [],
   "source": [
    "pl = plot(grad_div_E_z_d.imag(), (x, 0, h_conductor))\n",
    "pl.show(title=\"График imag z компоненты градиента дивергенции электрического поля\")"
   ]
  },
  {
   "cell_type": "code",
   "execution_count": null,
   "metadata": {},
   "outputs": [],
   "source": [
    "pl = plot(grad_div_E_x_d.real(), (x, 0, h_conductor))\n",
    "pl.show(title=\"График real x компоненты градиента дивергенции электрического поля\")"
   ]
  },
  {
   "cell_type": "code",
   "execution_count": null,
   "metadata": {
    "scrolled": true
   },
   "outputs": [],
   "source": [
    "pl = plot(grad_div_E_x_d.imag(), (x, 0, h_conductor))\n",
    "pl.show(title=\"График imag x компоненты градиента дивергенции электрического поля\")"
   ]
  }
 ],
 "metadata": {
  "kernelspec": {
   "display_name": "SageMath 9.6.beta7",
   "language": "sage",
   "name": "sagemath"
  },
  "language_info": {
   "codemirror_mode": {
    "name": "ipython",
    "version": 3
   },
   "file_extension": ".py",
   "mimetype": "text/x-python",
   "name": "python",
   "nbconvert_exporter": "python",
   "pygments_lexer": "ipython3",
   "version": "3.10.3"
  }
 },
 "nbformat": 4,
 "nbformat_minor": 4
}
