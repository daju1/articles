{
 "cells": [
  {
   "cell_type": "markdown",
   "metadata": {},
   "source": [
    "https://www.dwc.knaw.nl/DL/publications/PU00018547.pdf\n",
    "\n",
    "Mathematics. - On the attraction between two perfectly conducting\n",
    "plates. By H . B. G. CASIMIR\n",
    "\n",
    "(Communicated at the meeting of May 29. 1948.) "
   ]
  },
  {
   "cell_type": "markdown",
   "metadata": {},
   "source": [
    "Let us consider a cubic cavity of volume $L^3$ bounded by perfectly conducting walls and let a perfectly conducting square plate with side $L$ be\n",
    "placed in this cavity parallel to the $xy$ face and let us compare the\n",
    "situation in which this plate is at a small distance a from the $xy$ face and the\n",
    "situation in which it is at a very large distance. say $L/2$. In both cases the\n",
    "expressions $\\frac{1}{2}\\sum\\,\\hbar\\omega$ where the summation extends over all possible\n",
    "resonance frequencies of the cavities are divergent and devoid of physical\n",
    "meaning but the difference between these sums in the two situations,\n",
    "$\\frac{1}{2\\,V_{I}}\\left(\\sum\\,\\,\\hbar\\omega\\right)_{I} - \\frac{1}{2\\,V_{II}}\\left(\\sum\\,\\,\\hbar\\omega\\right)_{II}$, will be shown to have a weIl defined value and this\n",
    "value will be interpreted as the interaction between the plate and the\n",
    "$xy$ face."
   ]
  },
  {
   "cell_type": "markdown",
   "metadata": {},
   "source": [
    "The possible vibrations of a cavity defined by "
   ]
  },
  {
   "cell_type": "markdown",
   "metadata": {},
   "source": [
    "$0<=x<=L$, $0<=y<=L$, $0<=z<=a$ "
   ]
  },
  {
   "cell_type": "markdown",
   "metadata": {},
   "source": [
    "have wave numbers "
   ]
  },
  {
   "cell_type": "markdown",
   "metadata": {},
   "source": [
    "$k_x = \\frac{\\pi}{L}\\,n_x$, $k_y = \\frac{\\pi}{L}\\,n_y$, $k_z = \\frac{\\pi}{a}\\,n_z$,\n",
    "\n",
    "where $n_x$. $n_y$, $n_z$:\n",
    "\n",
    "are positive integers;"
   ]
  },
  {
   "cell_type": "markdown",
   "metadata": {},
   "source": [
    "$k = \\sqrt{k_x^2+k_y^2+k_z^2} = \\sqrt{\\kappa^2+k_z^2}$. "
   ]
  },
  {
   "cell_type": "markdown",
   "metadata": {},
   "source": [
    "To every $k_x$, $k_y$, $k_z$ correspond two standing waves unless one of the $n_i$\n",
    "is zero, when there is only one. For $k_x$, $k_y$ this is without importance since\n",
    "for very large $L$ we may regard $k_x$, $k_y$ as continuous variables. Thus we\n",
    "find "
   ]
  },
  {
   "cell_type": "markdown",
   "metadata": {},
   "source": [
    "$\\frac{1}{2}\\sum\\,\\hbar\\omega = \\hbar\\,c\\frac{L^2}{\\pi^2}\\int\\limits_{0}^{\\infty}\\int\\limits_{0}^{\\infty}\\left[{\\frac{1}{2}\\sqrt{k_x^2+k_y^2}+\\sum\\limits_{n=1}^{\\infty}\\sqrt{n^2\\frac{\\pi^2}{a^2}+k_x^2+k_y^2}}\\right]d{k_x}d{k_y}$"
   ]
  },
  {
   "cell_type": "markdown",
   "metadata": {},
   "source": [
    "or, introducing polar coordinates in the $k_x$, $k_y$ plane. "
   ]
  },
  {
   "cell_type": "markdown",
   "metadata": {},
   "source": [
    "$\\frac{1}{2}\\sum\\,\\hbar\\omega = \\hbar\\,c\\frac{L^2}{\\pi^2}\\cdot\\frac{\\pi}{2}\\sum\\limits_{\\left(0\\right)\\,1}^{\\infty}\\int\\limits_{0}^{\\infty}{\\sqrt{n^2\\frac{\\pi^2}{a^2}+\\kappa^2}}\\kappa\\,d{\\kappa}$"
   ]
  },
  {
   "cell_type": "markdown",
   "metadata": {},
   "source": [
    "where the notation $\\left(0\\right) 1$ is meant to indicate that the term with $n = 0$\n",
    "has to be multiplied by $\\frac{1}{2}$. For very large $a$ also this last summation may\n",
    "be replaced by an integral and it is therefore easily seen that our interaction energy is given by "
   ]
  },
  {
   "cell_type": "markdown",
   "metadata": {},
   "source": [
    "$\\delta\\,E = \\hbar\\,c\\frac{L^2}{\\pi^2}\\cdot\\frac{\\pi}{2}\\left\\{\\sum\\limits_{\\left(0\\right)\\,1}^{\\infty}\\int\\limits_{0}^{\\infty}{\\sqrt{n^2\\frac{\\pi^2}{a^2}+\\kappa^2}}\\kappa\\,d{\\kappa}-\\int\\limits_{0}^{\\infty}\\int\\limits_{0}^{\\infty}{\\sqrt{k_z^2+\\kappa^2}}\\kappa\\,d{\\kappa}\\left(\\frac{a}{\\pi}d{k_z}\\right)\\right\\}$"
   ]
  },
  {
   "cell_type": "markdown",
   "metadata": {},
   "source": [
    "In order to obtain a finite result it is necessary to multiply the integrands\n",
    "by a function $f(k/k_m)$ which is unity for $k << k_m$ but tends to zero sufficiently rapidly for $(k/k_m)\\, \\rightarrow\\,\\infty$. where km may be defined by $f(1) = \\frac{1}{2}$.\n",
    "The physical meaning is obvious: for very short waves (X~rays e.g.)\n",
    "our plate is hardly an obstacle at all and therefore the zero point energy\n",
    "of these waves will not be influenced by the position of this plate. "
   ]
  },
  {
   "cell_type": "markdown",
   "metadata": {},
   "source": [
    "Introducing the variable $u = a^2\\,\\kappa^2/\\pi^2$"
   ]
  },
  {
   "cell_type": "markdown",
   "metadata": {},
   "source": [
    "$du = a^2/\\pi^2\\,\\kappa\\,d\\kappa$"
   ]
  },
  {
   "cell_type": "markdown",
   "metadata": {},
   "source": [
    "$\\delta\\,E = L^2\\,\\hbar\\,c\\frac{\\pi^2}{4\\,a^3}\\left\\{\\sum\\limits_{\\left(0\\right)\\,1}^{\\infty}\\int\\limits_{0}^{\\infty}{\\sqrt{n^2+u}}f\\left(\\pi\\sqrt{n^2+u}/\\left(a\\,k_m\\right)\\right)\\,d{u}-\\int\\limits_{0}^{\\infty}\\int\\limits_{0}^{\\infty}{\\sqrt{n^2+u}}f\\left(\\pi\\sqrt{n^2+u}/\\left(a\\,k_m\\right)\\right)\\,d{u}\\,d{n}\\right\\}$"
   ]
  },
  {
   "cell_type": "markdown",
   "metadata": {},
   "source": [
    "We apply the EULER-MACLAURIN formula: "
   ]
  },
  {
   "cell_type": "markdown",
   "metadata": {},
   "source": [
    "$\\sum\\limits_{\\left(0\\right)\\,1}^{\\infty}{F\\left(n\\right)}-\\int\\limits_{0}^{\\infty}{F\\left(n\\right)} = -\\,\\frac{1}{12}F'\\left(0\\right)\\,+\\,\\frac{1}{24\\times30}F'''\\left(0\\right)\\,+\\,...$"
   ]
  },
  {
   "cell_type": "markdown",
   "metadata": {},
   "source": [
    "Introducing $w = u + n^2$ we have "
   ]
  },
  {
   "cell_type": "markdown",
   "metadata": {},
   "source": [
    "$F\\left(n\\right) = \\int\\limits_{n^2}^{\\infty}{\\sqrt{w}}f\\left(\\pi\\sqrt{w}/\\left(a\\,k_m\\right)\\right)\\,d{w}$"
   ]
  },
  {
   "cell_type": "markdown",
   "metadata": {},
   "source": [
    "whence"
   ]
  },
  {
   "cell_type": "markdown",
   "metadata": {},
   "source": [
    "$F'\\left(n\\right) = -2\\,n^2f\\left(\\pi\\,n/\\left(a\\,k_m\\right)\\right)$"
   ]
  },
  {
   "cell_type": "markdown",
   "metadata": {},
   "source": [
    "$F'\\left(0\\right) = 0$"
   ]
  },
  {
   "cell_type": "markdown",
   "metadata": {},
   "source": [
    "$F'''\\left(0\\right) = -4$"
   ]
  },
  {
   "cell_type": "markdown",
   "metadata": {},
   "source": [
    "The higher derivatives will contain powers of $(\\pi/(a\\,k_m))$ . Thus we find"
   ]
  },
  {
   "cell_type": "markdown",
   "metadata": {},
   "source": [
    "$\\delta\\,E/L^2 = \\hbar\\,c\\frac{\\pi^2}{4\\,a^3}\\left\\{\\frac{-4}{24\\times30}\\right\\}$"
   ]
  },
  {
   "cell_type": "markdown",
   "metadata": {},
   "source": [
    "a formula which holds as long as $a\\,k_m\\,»\\,1$. For the force per $cm^2$ we find"
   ]
  },
  {
   "cell_type": "markdown",
   "metadata": {},
   "source": [
    "$F = \\hbar\\,c\\frac{\\pi^2}{240}\\frac{1}{a^4}\\,=\\,0.013\\,\\frac{1}{a_{\\mu}^4}\\,dyne/cm^2$"
   ]
  },
  {
   "cell_type": "markdown",
   "metadata": {},
   "source": [
    "where $a_{\\mu}$ is the distance measured in microns. "
   ]
  },
  {
   "cell_type": "markdown",
   "metadata": {},
   "source": [
    "We are thus led to the following conclusions. There exists an attractive\n",
    "force between two metal plates which is independent of the material of\n",
    "the plates as long as the distance is so large that for wave . lengths\n",
    "comparable with that distance the penetration depth is small compared with\n",
    "the distance. This force may be interpreted as a zero point pressure of\n",
    "electromagnetic waves."
   ]
  },
  {
   "cell_type": "markdown",
   "metadata": {},
   "source": [
    "Although the effect is smalI, an experimental confirmation seems not\n",
    "unfeasable and might be of a certain interest. "
   ]
  },
  {
   "cell_type": "markdown",
   "metadata": {},
   "source": [
    "Natuurkundig Laboratorium der N.V. Philips'\n",
    "Gloeilampenfabrieken. Eindhoven .) "
   ]
  },
  {
   "cell_type": "code",
   "execution_count": 1,
   "metadata": {},
   "outputs": [],
   "source": [
    "from IPython.display import display, Math, Latex"
   ]
  },
  {
   "cell_type": "code",
   "execution_count": 2,
   "metadata": {},
   "outputs": [],
   "source": [
    "a = var(\"a\")\n",
    "L = var(\"L\")\n",
    "\n",
    "k_x = var(\"k_x\")\n",
    "k_y = var(\"k_y\")\n",
    "k_z = var(\"k_z\")\n",
    "\n",
    "n_x = var(\"n_x\")\n",
    "n_y = var(\"n_y\")\n",
    "n_z = var(\"n_z\")"
   ]
  },
  {
   "cell_type": "code",
   "execution_count": 3,
   "metadata": {},
   "outputs": [],
   "source": [
    "k_x = pi * n_x / L\n",
    "k_y = pi * n_y / L\n",
    "k_z = pi * n_z / a"
   ]
  },
  {
   "cell_type": "code",
   "execution_count": 4,
   "metadata": {},
   "outputs": [],
   "source": [
    "#kappa = sqrt(k_x^2+k_y^2)\n",
    "kappa = var(\"kappa\")"
   ]
  },
  {
   "cell_type": "code",
   "execution_count": 5,
   "metadata": {},
   "outputs": [],
   "source": [
    "k = sqrt(kappa^2+k_z^2)"
   ]
  },
  {
   "cell_type": "code",
   "execution_count": 6,
   "metadata": {},
   "outputs": [
    {
     "data": {
      "text/plain": [
       "sqrt(kappa^2 + pi^2*n_z^2/a^2)"
      ]
     },
     "execution_count": 6,
     "metadata": {},
     "output_type": "execute_result"
    }
   ],
   "source": [
    "k"
   ]
  },
  {
   "cell_type": "code",
   "execution_count": 7,
   "metadata": {},
   "outputs": [],
   "source": [
    "#n = n_z\n",
    "n = var(\"n\")\n",
    "assume (n, \"real\")\n",
    "assume (n > 0)"
   ]
  },
  {
   "cell_type": "code",
   "execution_count": 8,
   "metadata": {},
   "outputs": [],
   "source": [
    "u = var(\"u\")\n",
    "#u = a^2*kappa^2/(n^2)"
   ]
  },
  {
   "cell_type": "code",
   "execution_count": 9,
   "metadata": {},
   "outputs": [],
   "source": [
    "w = var(\"w\")\n",
    "#w = u + n^2\n",
    "w = a^2*kappa^2/n^2 + n^2"
   ]
  },
  {
   "cell_type": "code",
   "execution_count": 10,
   "metadata": {},
   "outputs": [],
   "source": [
    "#f = function('f')(var(\"k_km\"))\n",
    "#f = lambda k_km, s : 1 / (1 + exp(-k_km)/s)\n",
    "#f = lambda k, km : 1 / (1 + (k/km)^2)\n",
    "f = lambda k, km : (k/km) / (exp(k/km) - 1)"
   ]
  },
  {
   "cell_type": "code",
   "execution_count": 11,
   "metadata": {},
   "outputs": [],
   "source": [
    "k_m = var(\"k_m\")\n",
    "#assume(a*k_m > 0)\n",
    "s = var(\"s\")\n",
    "#k_m = function('k_m')(var(\"s\"))"
   ]
  },
  {
   "cell_type": "code",
   "execution_count": 12,
   "metadata": {},
   "outputs": [
    {
     "data": {
      "image/png": "[encoded data removed]",
      "text/plain": [
       "Graphics object consisting of 2 graphics primitives"
      ]
     },
     "execution_count": 12,
     "metadata": {},
     "output_type": "execute_result"
    }
   ],
   "source": [
    "plot([f(x, 1000), f(x, 1000)], (x, 0, 2000))"
   ]
  },
  {
   "cell_type": "code",
   "execution_count": 13,
   "metadata": {},
   "outputs": [
    {
     "data": {
      "image/png": "[encoded data removed]",
      "text/plain": [
       "Graphics object consisting of 2 graphics primitives"
      ]
     },
     "execution_count": 13,
     "metadata": {},
     "output_type": "execute_result"
    }
   ],
   "source": [
    "plot([f(x, 1000), f(x, 5000)], (x, 0, 10000))"
   ]
  },
  {
   "cell_type": "code",
   "execution_count": 14,
   "metadata": {},
   "outputs": [
    {
     "data": {
      "text/latex": [
       "$$\\frac{\\pi {\\left(\\frac{a^{2} \\kappa^{2}}{n^{2}} + n^{2}\\right)}}{a k_{m} {\\left(e^{\\left(\\frac{\\pi \\sqrt{\\frac{a^{2} \\kappa^{2}}{n^{2}} + n^{2}}}{a k_{m}}\\right)} - 1\\right)}}$$"
      ],
      "text/plain": [
       "<IPython.core.display.Math object>"
      ]
     },
     "metadata": {},
     "output_type": "display_data"
    }
   ],
   "source": [
    "integrand = sqrt(w)*f(pi*sqrt(w)/(a),k_m)\n",
    "display(Math(latex(integrand)))"
   ]
  },
  {
   "cell_type": "code",
   "execution_count": 15,
   "metadata": {},
   "outputs": [],
   "source": [
    "N = var (\"N\") # Infinity\n",
    "from sage.symbolic.integration.integral import definite_integral\n",
    "F(n) = definite_integral(integrand, w, n^2, N)"
   ]
  },
  {
   "cell_type": "code",
   "execution_count": 16,
   "metadata": {},
   "outputs": [
    {
     "data": {
      "text/latex": [
       "$$\\int_{n^{2}}^{N} \\frac{\\pi {\\left(\\frac{a^{2} \\kappa^{2}}{n^{2}} + n^{2}\\right)}}{a k_{m} {\\left(e^{\\left(\\frac{\\pi \\sqrt{\\frac{a^{2} \\kappa^{2}}{n^{2}} + n^{2}}}{a k_{m}}\\right)} - 1\\right)}}\\,{d \\left(\\frac{a^{2} \\kappa^{2}}{n^{2}} + n^{2}\\right)}$$"
      ],
      "text/plain": [
       "<IPython.core.display.Math object>"
      ]
     },
     "metadata": {},
     "output_type": "display_data"
    }
   ],
   "source": [
    "display(Math(latex(F(n))))"
   ]
  },
  {
   "cell_type": "code",
   "execution_count": 17,
   "metadata": {},
   "outputs": [
    {
     "data": {
      "text/latex": [
       "$$-\\frac{2 \\, \\pi n^{3}}{a k_{m} {\\left(e^{\\left(\\frac{\\pi n}{a k_{m}}\\right)} - 1\\right)}}$$"
      ],
      "text/plain": [
       "<IPython.core.display.Math object>"
      ]
     },
     "metadata": {},
     "output_type": "display_data"
    },
    {
     "data": {
      "text/latex": [
       "$$0$$"
      ],
      "text/plain": [
       "<IPython.core.display.Math object>"
      ]
     },
     "metadata": {},
     "output_type": "display_data"
    }
   ],
   "source": [
    "F1 = F(n).diff(n, 1).expand()\n",
    "display(Math(latex(F1)))\n",
    "display(Math(latex(limit(F1,n = 0))))"
   ]
  },
  {
   "cell_type": "code",
   "execution_count": 18,
   "metadata": {},
   "outputs": [
    {
     "data": {
      "text/latex": [
       "$$-\\frac{4 \\, \\pi^{3} n^{3} e^{\\left(\\frac{2 \\, \\pi n}{a k_{m}}\\right)}}{a^{3} k_{m}^{3} {\\left(e^{\\left(\\frac{3 \\, \\pi n}{a k_{m}}\\right)} - 3 \\, e^{\\left(\\frac{2 \\, \\pi n}{a k_{m}}\\right)} + 3 \\, e^{\\left(\\frac{\\pi n}{a k_{m}}\\right)} - 1\\right)}} + \\frac{12 \\, \\pi^{2} n^{2} e^{\\left(\\frac{\\pi n}{a k_{m}}\\right)}}{a^{2} k_{m}^{2} {\\left(e^{\\left(\\frac{2 \\, \\pi n}{a k_{m}}\\right)} - 2 \\, e^{\\left(\\frac{\\pi n}{a k_{m}}\\right)} + 1\\right)}} + \\frac{2 \\, \\pi^{3} n^{3} e^{\\left(\\frac{\\pi n}{a k_{m}}\\right)}}{a^{3} k_{m}^{3} {\\left(e^{\\left(\\frac{2 \\, \\pi n}{a k_{m}}\\right)} - 2 \\, e^{\\left(\\frac{\\pi n}{a k_{m}}\\right)} + 1\\right)}} - \\frac{12 \\, \\pi n}{a k_{m} {\\left(e^{\\left(\\frac{\\pi n}{a k_{m}}\\right)} - 1\\right)}}$$"
      ],
      "text/plain": [
       "<IPython.core.display.Math object>"
      ]
     },
     "metadata": {},
     "output_type": "display_data"
    },
    {
     "data": {
      "text/latex": [
       "$$-4$$"
      ],
      "text/plain": [
       "<IPython.core.display.Math object>"
      ]
     },
     "metadata": {},
     "output_type": "display_data"
    }
   ],
   "source": [
    "F3 = F(n).diff(n, 3).expand()\n",
    "display(Math(latex(F3)))\n",
    "display(Math(latex(limit(F3,n = 0))))"
   ]
  },
  {
   "cell_type": "code",
   "execution_count": 19,
   "metadata": {},
   "outputs": [
    {
     "data": {
      "text/latex": [
       "$$-\\frac{48 \\, \\pi^{5} n^{3} e^{\\left(\\frac{4 \\, \\pi n}{a k_{m}}\\right)}}{a^{5} k_{m}^{5} {\\left(e^{\\left(\\frac{5 \\, \\pi n}{a k_{m}}\\right)} - 5 \\, e^{\\left(\\frac{4 \\, \\pi n}{a k_{m}}\\right)} + 10 \\, e^{\\left(\\frac{3 \\, \\pi n}{a k_{m}}\\right)} - 10 \\, e^{\\left(\\frac{2 \\, \\pi n}{a k_{m}}\\right)} + 5 \\, e^{\\left(\\frac{\\pi n}{a k_{m}}\\right)} - 1\\right)}} + \\frac{144 \\, \\pi^{4} n^{2} e^{\\left(\\frac{3 \\, \\pi n}{a k_{m}}\\right)}}{a^{4} k_{m}^{4} {\\left(e^{\\left(\\frac{4 \\, \\pi n}{a k_{m}}\\right)} - 4 \\, e^{\\left(\\frac{3 \\, \\pi n}{a k_{m}}\\right)} + 6 \\, e^{\\left(\\frac{2 \\, \\pi n}{a k_{m}}\\right)} - 4 \\, e^{\\left(\\frac{\\pi n}{a k_{m}}\\right)} + 1\\right)}} + \\frac{72 \\, \\pi^{5} n^{3} e^{\\left(\\frac{3 \\, \\pi n}{a k_{m}}\\right)}}{a^{5} k_{m}^{5} {\\left(e^{\\left(\\frac{4 \\, \\pi n}{a k_{m}}\\right)} - 4 \\, e^{\\left(\\frac{3 \\, \\pi n}{a k_{m}}\\right)} + 6 \\, e^{\\left(\\frac{2 \\, \\pi n}{a k_{m}}\\right)} - 4 \\, e^{\\left(\\frac{\\pi n}{a k_{m}}\\right)} + 1\\right)}} - \\frac{144 \\, \\pi^{3} n e^{\\left(\\frac{2 \\, \\pi n}{a k_{m}}\\right)}}{a^{3} k_{m}^{3} {\\left(e^{\\left(\\frac{3 \\, \\pi n}{a k_{m}}\\right)} - 3 \\, e^{\\left(\\frac{2 \\, \\pi n}{a k_{m}}\\right)} + 3 \\, e^{\\left(\\frac{\\pi n}{a k_{m}}\\right)} - 1\\right)}} - \\frac{144 \\, \\pi^{4} n^{2} e^{\\left(\\frac{2 \\, \\pi n}{a k_{m}}\\right)}}{a^{4} k_{m}^{4} {\\left(e^{\\left(\\frac{3 \\, \\pi n}{a k_{m}}\\right)} - 3 \\, e^{\\left(\\frac{2 \\, \\pi n}{a k_{m}}\\right)} + 3 \\, e^{\\left(\\frac{\\pi n}{a k_{m}}\\right)} - 1\\right)}} - \\frac{28 \\, \\pi^{5} n^{3} e^{\\left(\\frac{2 \\, \\pi n}{a k_{m}}\\right)}}{a^{5} k_{m}^{5} {\\left(e^{\\left(\\frac{3 \\, \\pi n}{a k_{m}}\\right)} - 3 \\, e^{\\left(\\frac{2 \\, \\pi n}{a k_{m}}\\right)} + 3 \\, e^{\\left(\\frac{\\pi n}{a k_{m}}\\right)} - 1\\right)}} + \\frac{48 \\, \\pi^{2} e^{\\left(\\frac{\\pi n}{a k_{m}}\\right)}}{a^{2} k_{m}^{2} {\\left(e^{\\left(\\frac{2 \\, \\pi n}{a k_{m}}\\right)} - 2 \\, e^{\\left(\\frac{\\pi n}{a k_{m}}\\right)} + 1\\right)}} + \\frac{72 \\, \\pi^{3} n e^{\\left(\\frac{\\pi n}{a k_{m}}\\right)}}{a^{3} k_{m}^{3} {\\left(e^{\\left(\\frac{2 \\, \\pi n}{a k_{m}}\\right)} - 2 \\, e^{\\left(\\frac{\\pi n}{a k_{m}}\\right)} + 1\\right)}} + \\frac{24 \\, \\pi^{4} n^{2} e^{\\left(\\frac{\\pi n}{a k_{m}}\\right)}}{a^{4} k_{m}^{4} {\\left(e^{\\left(\\frac{2 \\, \\pi n}{a k_{m}}\\right)} - 2 \\, e^{\\left(\\frac{\\pi n}{a k_{m}}\\right)} + 1\\right)}} + \\frac{2 \\, \\pi^{5} n^{3} e^{\\left(\\frac{\\pi n}{a k_{m}}\\right)}}{a^{5} k_{m}^{5} {\\left(e^{\\left(\\frac{2 \\, \\pi n}{a k_{m}}\\right)} - 2 \\, e^{\\left(\\frac{\\pi n}{a k_{m}}\\right)} + 1\\right)}}$$"
      ],
      "text/plain": [
       "<IPython.core.display.Math object>"
      ]
     },
     "metadata": {},
     "output_type": "display_data"
    },
    {
     "data": {
      "text/latex": [
       "$$-\\frac{4 \\, \\pi^{2}}{a^{2} k_{m}^{2}}$$"
      ],
      "text/plain": [
       "<IPython.core.display.Math object>"
      ]
     },
     "metadata": {},
     "output_type": "display_data"
    }
   ],
   "source": [
    "F5 = F(n).diff(n, 5).expand()\n",
    "display(Math(latex(F5)))\n",
    "display(Math(latex(limit(F5,n = 0))))"
   ]
  },
  {
   "cell_type": "code",
   "execution_count": 20,
   "metadata": {},
   "outputs": [
    {
     "data": {
      "text/latex": [
       "$$\\frac{2 \\, \\pi^{4}}{a^{4} k_{m}^{4}}$$"
      ],
      "text/plain": [
       "<IPython.core.display.Math object>"
      ]
     },
     "metadata": {},
     "output_type": "display_data"
    }
   ],
   "source": [
    "F7 = F(n).diff(n, 7).expand()\n",
    "display(Math(latex(limit(F7,n = 0))))"
   ]
  },
  {
   "cell_type": "code",
   "execution_count": 21,
   "metadata": {},
   "outputs": [
    {
     "data": {
      "text/latex": [
       "$$-\\frac{8 \\, \\pi^{6}}{3 \\, a^{6} k_{m}^{6}}$$"
      ],
      "text/plain": [
       "<IPython.core.display.Math object>"
      ]
     },
     "metadata": {},
     "output_type": "display_data"
    }
   ],
   "source": [
    "F9 = F(n).diff(n, 9).expand()\n",
    "display(Math(latex(limit(F9,n = 0))))"
   ]
  },
  {
   "cell_type": "code",
   "execution_count": 22,
   "metadata": {},
   "outputs": [
    {
     "data": {
      "text/latex": [
       "$$\\frac{6 \\, \\pi^{8}}{a^{8} k_{m}^{8}}$$"
      ],
      "text/plain": [
       "<IPython.core.display.Math object>"
      ]
     },
     "metadata": {},
     "output_type": "display_data"
    }
   ],
   "source": [
    "F11 = F(n).diff(n, 11).expand()\n",
    "display(Math(latex(limit(F11,n = 0))))"
   ]
  },
  {
   "cell_type": "code",
   "execution_count": 23,
   "metadata": {},
   "outputs": [
    {
     "data": {
      "text/plain": [
       "1/1000000"
      ]
     },
     "execution_count": 23,
     "metadata": {},
     "output_type": "execute_result"
    }
   ],
   "source": [
    "# На расстояниях порядка 10 нм — сотни размеров типичного атома — давление, создаваемое эффектом Казимира, оказывается сравнимым с атмосферным.\n",
    "a_f = 10 * 10^-9 * 100\n",
    "a_f"
   ]
  },
  {
   "cell_type": "code",
   "execution_count": 24,
   "metadata": {},
   "outputs": [
    {
     "data": {
      "text/plain": [
       "20000000*pi"
      ]
     },
     "execution_count": 24,
     "metadata": {},
     "output_type": "execute_result"
    }
   ],
   "source": [
    "# Most X-rays have a wavelength ranging from 10 picometers to 10 nanometers,\n",
    "k_mf = 2*pi/(10 * 10^-9 * 100 * 10^-1)\n",
    "k_mf"
   ]
  },
  {
   "cell_type": "code",
   "execution_count": 25,
   "metadata": {},
   "outputs": [
    {
     "data": {
      "text/plain": [
       "20*pi"
      ]
     },
     "execution_count": 25,
     "metadata": {},
     "output_type": "execute_result"
    }
   ],
   "source": [
    "a_f*k_mf"
   ]
  },
  {
   "cell_type": "code",
   "execution_count": 26,
   "metadata": {},
   "outputs": [
    {
     "data": {
      "text/latex": [
       "$$\\left(3, -4, -\\frac{1}{720}, \\frac{1}{180}, \\frac{1}{180}\\right)$$"
      ],
      "text/plain": [
       "<IPython.core.display.Math object>"
      ]
     },
     "metadata": {},
     "output_type": "display_data"
    },
    {
     "data": {
      "text/latex": [
       "$$\\left(5, -\\frac{4 \\, \\pi^{2}}{a^{2} k_{m}^{2}}, \\frac{1}{30240}, -\\frac{\\pi^{2}}{7560 \\, a^{2} k_{m}^{2}}, -\\frac{1}{3024000}\\right)$$"
      ],
      "text/plain": [
       "<IPython.core.display.Math object>"
      ]
     },
     "metadata": {},
     "output_type": "display_data"
    },
    {
     "data": {
      "text/latex": [
       "$$\\left(7, \\frac{2 \\, \\pi^{4}}{a^{4} k_{m}^{4}}, -\\frac{1}{1209600}, -\\frac{\\pi^{4}}{604800 \\, a^{4} k_{m}^{4}}, -\\frac{1}{96768000000}\\right)$$"
      ],
      "text/plain": [
       "<IPython.core.display.Math object>"
      ]
     },
     "metadata": {},
     "output_type": "display_data"
    },
    {
     "data": {
      "text/latex": [
       "$$\\left(9, -\\frac{8 \\, \\pi^{6}}{3 \\, a^{6} k_{m}^{6}}, \\frac{1}{47900160}, -\\frac{\\pi^{6}}{17962560 \\, a^{6} k_{m}^{6}}, -\\frac{1}{1149603840000000}\\right)$$"
      ],
      "text/plain": [
       "<IPython.core.display.Math object>"
      ]
     },
     "metadata": {},
     "output_type": "display_data"
    },
    {
     "data": {
      "text/latex": [
       "$$\\left(11, \\frac{6 \\, \\pi^{8}}{a^{8} k_{m}^{8}}, -\\frac{691}{1307674368000}, -\\frac{691 \\, \\pi^{8}}{217945728000 \\, a^{8} k_{m}^{8}}, -\\frac{691}{5579410636800000000000}\\right)$$"
      ],
      "text/plain": [
       "<IPython.core.display.Math object>"
      ]
     },
     "metadata": {},
     "output_type": "display_data"
    },
    {
     "data": {
      "text/latex": [
       "$$\\left(13, -\\frac{20 \\, \\pi^{10}}{a^{10} k_{m}^{10}}, \\frac{1}{74724249600}, -\\frac{\\pi^{10}}{3736212480 \\, a^{10} k_{m}^{10}}, -\\frac{1}{38258815795200000000000}\\right)$$"
      ],
      "text/plain": [
       "<IPython.core.display.Math object>"
      ]
     },
     "metadata": {},
     "output_type": "display_data"
    },
    {
     "data": {
      "text/latex": [
       "$$\\left(15, \\frac{1382 \\, \\pi^{12}}{15 \\, a^{12} k_{m}^{12}}, -\\frac{3617}{10670622842880000}, -\\frac{2499347 \\, \\pi^{12}}{80029671321600000 \\, a^{12} k_{m}^{12}}, -\\frac{2499347}{327801533733273600000000000000000}\\right)$$"
      ],
      "text/plain": [
       "<IPython.core.display.Math object>"
      ]
     },
     "metadata": {},
     "output_type": "display_data"
    },
    {
     "data": {
      "text/latex": [
       "$$\\left(17, -\\frac{560 \\, \\pi^{14}}{a^{14} k_{m}^{14}}, \\frac{43867}{5109094217170944000}, -\\frac{43867 \\, \\pi^{14}}{9123382530662400 \\, a^{14} k_{m}^{14}}, -\\frac{43867}{14947749938237276160000000000000000}\\right)$$"
      ],
      "text/plain": [
       "<IPython.core.display.Math object>"
      ]
     },
     "metadata": {},
     "output_type": "display_data"
    },
    {
     "data": {
      "text/latex": [
       "$$\\left(19, \\frac{21702 \\, \\pi^{16}}{5 \\, a^{16} k_{m}^{16}}, -\\frac{174611}{802857662698291200000}, -\\frac{631567987 \\, \\pi^{16}}{669048052248576000000 \\, a^{16} k_{m}^{16}}, -\\frac{631567987}{438467331521626767360000000000000000000000}\\right)$$"
      ],
      "text/plain": [
       "<IPython.core.display.Math object>"
      ]
     },
     "metadata": {},
     "output_type": "display_data"
    },
    {
     "data": {
      "text/latex": [
       "$$\\left(21, -\\frac{877340 \\, \\pi^{18}}{21 \\, a^{18} k_{m}^{18}}, \\frac{77683}{14101100039391805440000}, -\\frac{3407720161 \\, \\pi^{18}}{14806155041361395712000 \\, a^{18} k_{m}^{18}}, -\\frac{3407720161}{3881344707162641717526528000000000000000000000}\\right)$$"
      ],
      "text/plain": [
       "<IPython.core.display.Math object>"
      ]
     },
     "metadata": {},
     "output_type": "display_data"
    },
    {
     "data": {
      "text/latex": [
       "$$\\left(23, \\frac{2444554 \\, \\pi^{20}}{5 \\, a^{20} k_{m}^{20}}, -\\frac{236364091}{1693824136731743669452800000}, -\\frac{41271770293601 \\, \\pi^{20}}{604937191689908453376000000 \\, a^{20} k_{m}^{20}}, -\\frac{41271770293601}{63432262071343744640719257600000000000000000000000000}\\right)$$"
      ],
      "text/plain": [
       "<IPython.core.display.Math object>"
      ]
     },
     "metadata": {},
     "output_type": "display_data"
    },
    {
     "data": {
      "text/latex": [
       "$$\\left(25, -\\frac{6836104 \\, \\pi^{22}}{a^{22} k_{m}^{22}}, \\frac{657931}{186134520519971831808000000}, -\\frac{51110053873 \\, \\pi^{22}}{2115165005908770816000000 \\, a^{22} k_{m}^{22}}, -\\frac{51110053873}{88716450449431810686320640000000000000000000000000000}\\right)$$"
      ],
      "text/plain": [
       "<IPython.core.display.Math object>"
      ]
     },
     "metadata": {},
     "output_type": "display_data"
    },
    {
     "data": {
      "text/latex": [
       "$$\\left(27, \\frac{2363640910 \\, \\pi^{24}}{21 \\, a^{24} k_{m}^{24}}, -\\frac{3392780147}{37893265687455865519472640000000}, -\\frac{801931395408501377 \\, \\pi^{24}}{79575857943657317590892544000000 \\, a^{24} k_{m}^{24}}, -\\frac{801931395408501377}{1335061357106054647203003843477504000000000000000000000000000000}\\right)$$"
      ],
      "text/plain": [
       "<IPython.core.display.Math object>"
      ]
     },
     "metadata": {},
     "output_type": "display_data"
    },
    {
     "data": {
      "text/latex": [
       "$$\\left(29, -\\frac{2155381956 \\, \\pi^{26}}{a^{26} k_{m}^{26}}, \\frac{1723168255201}{759790291646040068357842010112000000}, -\\frac{1133725813312649131 \\, \\pi^{26}}{231926218451172182038413312000000 \\, a^{26} k_{m}^{26}}, -\\frac{1133725813312649131}{1556430505207400460499912173079756800000000000000000000000000000000}\\right)$$"
      ],
      "text/plain": [
       "<IPython.core.display.Math object>"
      ]
     },
     "metadata": {},
     "output_type": "display_data"
    },
    {
     "data": {
      "text/latex": [
       "$$\\left(31, \\frac{47498922058 \\, \\pi^{28}}{a^{28} k_{m}^{28}}, -\\frac{7709321041217}{134196726836183700385281186201600000000}, -\\frac{26156031375490406318899 \\, \\pi^{28}}{9585480488298835741805799014400000000 \\, a^{28} k_{m}^{28}}, -\\frac{26156031375490406318899}{25730828258556006366207379218748145664000000000000000000000000000000000000}\\right)$$"
      ],
      "text/plain": [
       "<IPython.core.display.Math object>"
      ]
     },
     "metadata": {},
     "output_type": "display_data"
    },
    {
     "data": {
      "text/latex": [
       "$$\\left(33, -\\frac{275706920832160 \\, \\pi^{30}}{231 \\, a^{30} k_{m}^{30}}, \\frac{151628697551}{104199811425742637946218332815360000000}, -\\frac{261281758197356811712751 \\, \\pi^{30}}{150438477745915933534852718002176000000 \\, a^{30} k_{m}^{30}}, -\\frac{261281758197356811712751}{161532085494683183024375524999014094209024000000000000000000000000000000000000}\\right)$$"
      ],
      "text/plain": [
       "<IPython.core.display.Math object>"
      ]
     },
     "metadata": {},
     "output_type": "display_data"
    }
   ],
   "source": [
    "k_max = 18\n",
    "vg = []\n",
    "vg180 = []\n",
    "sum_dE_f = 0\n",
    "for kk in range(1, int(k_max)):\n",
    "    j = 2*kk-1\n",
    "    pw = 2*(kk-2)\n",
    "    djF = F(n).diff(n, j).expand()\n",
    "    # print(djF)\n",
    "    djF0 = limit(djF,n = 0)\n",
    "    # djF0 = djF.subs(n == 0)\n",
    "    mBj = (bernoulli(2*kk)/factorial(2*kk))\n",
    "    dE = djF0*mBj\n",
    "    dE_f = dE.subs(a == a_f, k_m == k_mf)\n",
    "    sum_dE_f += dE_f\n",
    "    p = dE * (a*k_m/pi)^(pw)\n",
    "    p_180 = p*180\n",
    "\n",
    "    if pw:\n",
    "        g = (p.n())^(1/pw)\n",
    "        g_180 = (p_180.n())^(1/pw)\n",
    "    else:\n",
    "        g = 0.0\n",
    "        g_180 = 0.0\n",
    "    \n",
    "    alpha = 0\n",
    "    alpha_180 = 0\n",
    "    beta_180 = 0\n",
    "        \n",
    "    if j > 3:\n",
    "        vg += [(j, g)]\n",
    "        vg180 += [(j, g_180)]\n",
    "        \n",
    "        if 5 == j:\n",
    "            g5 = g\n",
    "            g5_180 = g_180\n",
    "        else:\n",
    "            alpha = (g - g5) / (j - 5)\n",
    "            alpha_180 = (g_180 - g5_180) / (j - 5)\n",
    "        beta_180 = g_180 / j\n",
    "    \n",
    "    dE2 = ((0.534522483824849 + 0.0636980344090494 * (j - 5)) / (a*k_m/pi))^pw / 180\n",
    "    #dE2 = ((0.0398409536444798 + 0.0684396140404761 * (j - 5)) / (a*k_m/pi))^pw * 180\n",
    "        \n",
    "    if j >= 3:\n",
    "        display(Math(latex( (j, djF0, mBj, dE, dE_f, #dE2, p.n(),#, p_180.n(), \n",
    "                             #g, g_180,#2*kk, pw,\n",
    "                             #alpha, \n",
    "                             #alpha_180, #beta_180\n",
    "                             #djF0, \n",
    "                             #(bernoulli(2*kk)/factorial(2*kk)), \n",
    "                             #djF0*(bernoulli(2*kk)/factorial(2*kk)), \n",
    "                             #(djF0*(bernoulli(2*kk)/factorial(2*kk)) * (a*k_m/pi)^(pw)),\n",
    "                            #(djF0*(bernoulli(2*kk)/factorial(2*kk)) * (a*k_m/pi)^(pw)).n(),\n",
    "                             #((djF0*(bernoulli(2*kk)/factorial(2*kk)) * (a*k_m/pi)^(pw)).n())^(1/pw)\n",
    "                            ) )))"
   ]
  },
  {
   "cell_type": "code",
   "execution_count": 27,
   "metadata": {},
   "outputs": [
    {
     "data": {
      "text/plain": [
       "0.00555522485739000"
      ]
     },
     "execution_count": 27,
     "metadata": {},
     "output_type": "execute_result"
    }
   ],
   "source": [
    "(sum_dE_f).n()"
   ]
  },
  {
   "cell_type": "code",
   "execution_count": 28,
   "metadata": {},
   "outputs": [
    {
     "data": {
      "text/plain": [
       "-3.30698165552528e-7"
      ]
     },
     "execution_count": 28,
     "metadata": {},
     "output_type": "execute_result"
    }
   ],
   "source": [
    "(sum_dE_f-1/180).n()"
   ]
  },
  {
   "cell_type": "code",
   "execution_count": 29,
   "metadata": {},
   "outputs": [
    {
     "data": {
      "text/plain": [
       "9.44835518143949e-18 + 0.154303349962092*I"
      ]
     },
     "execution_count": 29,
     "metadata": {},
     "output_type": "execute_result"
    }
   ],
   "source": [
    "g5_180"
   ]
  },
  {
   "cell_type": "code",
   "execution_count": 30,
   "metadata": {},
   "outputs": [
    {
     "data": {
      "text/plain": [
       "7.04238815375368e-19 + 0.0115010926557059*I"
      ]
     },
     "execution_count": 30,
     "metadata": {},
     "output_type": "execute_result"
    }
   ],
   "source": [
    "g5"
   ]
  },
  {
   "cell_type": "code",
   "execution_count": 31,
   "metadata": {},
   "outputs": [
    {
     "data": {
      "image/png": "[encoded data removed]",
      "text/plain": [
       "Graphics object consisting of 1 graphics primitive"
      ]
     },
     "metadata": {},
     "output_type": "display_data"
    }
   ],
   "source": [
    "plt = sage.plot.graphics.Graphics()\n",
    "plt += list_plot (vg)\n",
    "plt.show ()"
   ]
  },
  {
   "cell_type": "code",
   "execution_count": 32,
   "metadata": {},
   "outputs": [
    {
     "data": {
      "image/png": "[encoded data removed]",
      "text/plain": [
       "Graphics object consisting of 1 graphics primitive"
      ]
     },
     "metadata": {},
     "output_type": "display_data"
    }
   ],
   "source": [
    "plt = sage.plot.graphics.Graphics()\n",
    "plt += list_plot (vg180)\n",
    "plt.show ()"
   ]
  },
  {
   "cell_type": "markdown",
   "metadata": {},
   "source": [
    "$\\delta\\,E/L^2 = \\hbar\\,c\\frac{\\pi^2}{4\\,a^3}\\left\\{\\frac{-4}{24\\times30}\\right\\}$"
   ]
  },
  {
   "cell_type": "code",
   "execution_count": null,
   "metadata": {},
   "outputs": [],
   "source": []
  }
 ],
 "metadata": {
  "kernelspec": {
   "display_name": "SageMath 9.1",
   "language": "sage",
   "name": "sagemath"
  },
  "language_info": {
   "codemirror_mode": {
    "name": "ipython",
    "version": 3
   },
   "file_extension": ".py",
   "mimetype": "text/x-python",
   "name": "python",
   "nbconvert_exporter": "python",
   "pygments_lexer": "ipython3",
   "version": "3.7.9"
  }
 },
 "nbformat": 4,
 "nbformat_minor": 2
}
