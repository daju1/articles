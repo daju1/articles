{
 "cells": [
  {
   "cell_type": "markdown",
   "metadata": {},
   "source": [
    "# Электродинамический расчёт волнового двигателя с внутренним расходом энергии Ф.Ф.Менде (MenDrive)\n",
    "\n",
    "А.Ю.Дроздов"
   ]
  },
  {
   "cell_type": "markdown",
   "metadata": {},
   "source": [
    "опираясь на выкладки из параграфа 20 Электродинамики Зоммерфельда"
   ]
  },
  {
   "cell_type": "markdown",
   "metadata": {},
   "source": [
    "рассчитаем тягу в\n",
    "\n",
    "http://fmnauka.narod.ru/dvigatel_emdrive.pdf\n",
    "\n",
    "Ф.Ф. МЕНДЕ, ВОЛНОВОЙ ДВИГАТЕЛЬ С ВНУТРЕННИМ РАСХОДОМ ЭНЕРГИИ ЭЛЕКТРОМАГНИТНЫХ КОЛЕБАНИЙ"
   ]
  },
  {
   "cell_type": "markdown",
   "metadata": {},
   "source": [
    "геометрия задачи следующая: \n",
    "\n",
    "поверхность хорошего проводника $x<=-a$\n",
    "\n",
    "вакуум внутри резонатора заполняет область $-a<=x<=a$\n",
    "\n",
    "В области $x>a$ - плохой проводник"
   ]
  },
  {
   "cell_type": "markdown",
   "metadata": {},
   "source": [
    "$$rot\\,\\vec{E} = \\frac{1}{c}\\frac{\\partial \\vec B}{\\partial t} = \\mu\\,\\frac{i\\,\\omega}{c}\\,\\vec{H}$$\n",
    "\n",
    "$$rot\\,\\vec{H} = \\frac{1}{c}\\frac{\\partial \\vec D}{\\partial t} + \\frac{4\\pi}{c} \\vec j = - \\frac{i\\,\\omega}{c} \\epsilon \\vec{E} + \\frac{4\\pi}{c}\\sigma \\vec E$$\n",
    "\n",
    "$$rot\\,rot\\,\\vec{E} = \\mu\\,\\frac{i\\,\\omega}{c}rot\\,\\vec{H}$$\n",
    "\n",
    "$$rot\\,rot\\,\\vec{E} = \\mu\\,\\frac{i\\,\\omega}{c}\\left(- \\frac{i\\,\\omega}{c} \\epsilon \\vec{E} + \\frac{4\\pi}{c}\\sigma \\vec E\\right)$$\n",
    "\n",
    "$$rot\\,rot\\,\\vec{E} = \\epsilon \\mu\\,\\frac{\\omega^2}{c^2} \\vec{E} + i\\,\\omega\\,\\sigma\\,\\mu\\,\\frac{4\\pi}{c^2} \\vec E$$\n",
    "\n",
    "$$rot\\,rot\\,\\vec{E} = grad\\,div\\,\\vec{E} - Laplasian\\,\\vec{E}$$\n",
    "\n",
    "$$Laplasian\\,\\vec{E} + \\epsilon \\mu \\frac{\\omega^2}{c^2}\\,\\vec{E} + i\\,\\omega\\,\\sigma\\,\\mu\\,\\frac{4\\pi}{c^2} \\vec E - grad\\,div\\,\\vec{E} = 0$$\n"
   ]
  },
  {
   "cell_type": "markdown",
   "metadata": {},
   "source": [
    "$$div\\,\\vec{E} = - \\frac{\\vec{n}}{c} \\frac{\\partial \\vec E}{\\partial t}$$\n",
    "\n",
    "$$grad\\,div\\,\\vec{E} = - grad\\,\\frac{\\vec{n}}{c} \\frac{\\partial \\vec E}{\\partial t}$$\n",
    "\n",
    "для вакуума внутри резонатора ищем решение в виде\n",
    "\n",
    "$$\\vec{E} = \\vec{E}(x)\\,e^{i\\,k\\,z}\\,e^{-i\\,\\omega\\,t}$$"
   ]
  },
  {
   "cell_type": "markdown",
   "metadata": {},
   "source": [
    "подставляя в исходное уравнение приходим к обыкновенному дифференциальному уравнению\n",
    "\n",
    "$$\\frac{\\partial^{2}}{(\\partial {x})^{2}}\\vec{E}(x) + \\frac{\\partial^{2}}{(\\partial {y})^{2}}\\vec{E}(x) + \\left(\\epsilon  \\mu \\frac{\\omega^2}{c^2} + i\\,\\omega\\,\\sigma\\,\\mu\\,\\frac{4\\pi}{c^2} - {k'_z}^2\\right)\\,\\vec{E}(x) - grad\\,div\\,\\vec{E} = 0$$"
   ]
  },
  {
   "cell_type": "markdown",
   "metadata": {},
   "source": [
    "производим следующую замену переменных\n",
    "\n",
    "$$\\kappa^2 = \\epsilon \\mu \\frac{\\omega^2}{c^2} + i\\,\\omega\\,\\sigma\\,\\mu\\,\\frac{4\\pi}{c^2}$$\n",
    "\n",
    "$$\\kappa^2 = \\mu \\left(\\epsilon  + i\\,\\frac{4\\pi\\,\\sigma}{\\omega} \\right) \\frac{\\omega^2}{c^2}$$\n",
    "\n",
    "теперь получаем дифференциальное уравнение\n",
    "\n",
    "$$\\frac{\\partial^{2}}{(\\partial {x})^{2}}\\vec{E}(x) + \\frac{\\partial^{2}}{(\\partial {y})^{2}}\\vec{E}(x) + \\left(\\kappa^2 - {k'_z}^2\\right)\\,\\vec{E}(x) = 0$$"
   ]
  },
  {
   "cell_type": "code",
   "execution_count": null,
   "metadata": {},
   "outputs": [],
   "source": []
  },
  {
   "cell_type": "markdown",
   "metadata": {},
   "source": [
    "для проводящего металла с потерями ищем решение в виде\n",
    "\n",
    "$$\\vec{E} = \\vec{E}\\,e^{i\\,k'_x\\,x}\\,e^{i\\,k'_z\\,z}\\,e^{-i\\,\\omega\\,t}$$\n",
    "\n",
    "в котором волновой вектор, направленный вдоль оси z комплексный $k'_z = k_z + i\\,s_z$, как и волновой вектор, направленный вдоль оси x может быть комплексным $k'_x = k_x + i\\,s_x$\n",
    "\n",
    "$$\\vec{E} = \\vec{E}\\,e^{i\\,(k_x + i\\,s_x)\\,(x-a)}\\,e^{i\\,(k_z + i\\,s_z)\\,z}\\,e^{-i\\,\\omega\\,t}$$"
   ]
  },
  {
   "cell_type": "code",
   "execution_count": null,
   "metadata": {},
   "outputs": [],
   "source": []
  },
  {
   "cell_type": "markdown",
   "metadata": {},
   "source": [
    "принимая модель комплексного представления диэлектрической проницаемости $\\epsilon' = \\epsilon + \\frac{4\\pi\\,\\sigma}{\\omega}\\,i$ (плохой проводник)"
   ]
  },
  {
   "cell_type": "markdown",
   "metadata": {},
   "source": [
    "подставляем решение в\n",
    "\n",
    "$$Laplasian\\,\\vec{E} + \\frac{\\mu \\omega^2}{c^2}\\left(\\epsilon + \\frac{4\\pi\\,\\sigma}{\\omega}\\,i\\right)\\,\\vec{E} - grad\\,div\\,\\vec{E} = 0$$\n",
    "\n",
    "и принимая\n",
    "\n",
    "$$div\\,\\vec{E} = - \\frac{\\vec{n}}{c} \\frac{\\partial \\vec E}{\\partial t}$$"
   ]
  },
  {
   "cell_type": "markdown",
   "metadata": {},
   "source": [
    "приходим к\n",
    "\n",
    "$$\\frac{\\partial^{2}}{(\\partial {x})^{2}}\\vec{E}(x) + \\frac{\\partial^{2}}{(\\partial {y})^{2}}\\vec{E}(x) + \\left(\\frac{\\mu \\omega^2}{c^2}\\left(\\epsilon + \\frac{4\\pi\\,\\sigma}{\\omega}\\,i\\right)  - {k'_z}^2\\right)\\,\\vec{E} - grad\\, \\left(\\frac{\\vec{n}}{c} \\frac{\\partial \\vec E}{\\partial t} \\right) = 0$$"
   ]
  },
  {
   "cell_type": "markdown",
   "metadata": {},
   "source": [
    "$$ k = \\frac{\\omega}{c}\\,\\sqrt{\\mu\\,\\left(\\epsilon  + \\frac{4\\pi\\,\\sigma}{\\omega}\\,i\\right)}$$"
   ]
  },
  {
   "cell_type": "markdown",
   "metadata": {},
   "source": [
    "$${k'_z}^2=\\left(k_z + i\\,s_z \\right)^2 = k_z^2 - s_z^2 + 2\\,i\\,k_z\\,s_z$$"
   ]
  },
  {
   "cell_type": "markdown",
   "metadata": {},
   "source": [
    "приходим к\n",
    "\n",
    "$$\\frac{\\partial^{2}}{(\\partial {x})^{2}}\\vec{E}(x) + \\frac{\\partial^{2}}{(\\partial {y})^{2}}\\vec{E}(x) + \\left(\\frac{\\mu \\omega^2}{c^2}\\epsilon + \\frac{\\mu \\omega^2}{c^2}\\frac{4\\pi\\,\\sigma}{\\omega}\\,i - {k'_z}^{2}\\right) = 0$$\n"
   ]
  },
  {
   "cell_type": "code",
   "execution_count": 1,
   "metadata": {},
   "outputs": [],
   "source": [
    "from IPython.display import display, Math, Latex\n",
    "\n",
    "def disp(ex):\n",
    "    display(Math(latex(ex)))\n",
    "\n",
    "mu_l = var('mu_l')\n",
    "assume(mu_l, 'real')\n",
    "assume(mu_l>0)\n",
    "\n",
    "mu_r = var('mu_r')\n",
    "assume(mu_r, 'real')\n",
    "assume(mu_r>0)\n",
    "\n",
    "epsilon_l = var('epsilon_l')\n",
    "assume(epsilon_l, 'real')\n",
    "assume(epsilon_l>0)\n",
    "\n",
    "epsilon_r = var('epsilon_r')\n",
    "assume(epsilon_r, 'real')\n",
    "assume(epsilon_r>0)\n",
    "\n",
    "mu_0 = 1\n",
    "epsilon_0 = 1\n",
    "\n",
    "# left conductor\n",
    "sigma_l = var('sigma_l')\n",
    "assume(sigma_l, 'real')\n",
    "assume(sigma_l>0)\n",
    "\n",
    "#right conductor\n",
    "sigma_r = var('sigma_r')\n",
    "assume(sigma_r, 'real')\n",
    "assume(sigma_r>0)\n",
    "\n",
    "\n",
    "sx = var ('sx')\n",
    "assume(sx, 'real')\n",
    "assume(sx>0)\n",
    "\n",
    "sy = var ('sy')\n",
    "assume(sy, 'real')\n",
    "assume(sy>0)\n",
    "\n",
    "sz = var ('sz')\n",
    "assume(sz, 'real')\n",
    "assume(sz>0)\n",
    "\n",
    "kappa_vacuum = var ('kappa_vacuum')\n",
    "assume(kappa_vacuum, 'real')\n",
    "assume(kappa_vacuum>0)\n",
    "\n",
    "# left conductor\n",
    "kappa_l = var('kappa_l')\n",
    "assume(kappa_l, 'complex')\n",
    "\n",
    "# right conductor\n",
    "kappa_r = var('kappa_r')\n",
    "assume(kappa_r, 'complex')\n",
    "\n",
    "kx = var ('kx')\n",
    "assume(kx, 'real')\n",
    "\n",
    "ky = var ('ky')\n",
    "assume(ky, 'real')\n",
    "\n",
    "kz = var ('kz')\n",
    "assume(kz, 'real')\n",
    "\n",
    "k__x = var ('k__x')\n",
    "assume(k__x, 'complex')\n",
    "\n",
    "k__y = var ('k__y')\n",
    "assume(k__x, 'complex')\n",
    "\n",
    "k__z = var ('k__z')\n",
    "assume(k__z, 'complex')\n",
    "\n",
    "k_x = var ('k_x')\n",
    "assume(k_x, 'complex')\n",
    "\n",
    "k_y = var ('k_y')\n",
    "assume(k_x, 'complex')\n",
    "\n",
    "k_z = var ('k_z')\n",
    "assume(k_z, 'complex')\n",
    "\n",
    "\n",
    "a = var('a')\n",
    "assume(a, 'real')\n",
    "assume(a>0)\n",
    "\n",
    "x = var('x')\n",
    "y = var('y')\n",
    "z = var('z')\n",
    "\n",
    "assume(x, 'real')\n",
    "assume(y, 'real')\n",
    "assume(z, 'real')\n",
    "\n",
    "c = var('c')\n",
    "assume(c, 'real')\n",
    "assume(c>0)\n",
    "\n",
    "omega = var('omega')\n",
    "assume(omega, 'real')\n",
    "\n",
    "good_conductor = False"
   ]
  },
  {
   "cell_type": "markdown",
   "metadata": {},
   "source": [
    "$$\\kappa^2 = \\epsilon \\mu \\frac{\\omega^2}{c^2} + i\\,\\omega\\,\\sigma\\,\\mu\\,\\frac{4\\pi}{c^2}$$"
   ]
  },
  {
   "cell_type": "markdown",
   "metadata": {},
   "source": [
    "$$\\kappa^2 = \\mu \\left(\\epsilon  + i\\,\\frac{4\\pi\\,\\sigma}{\\omega} \\right) \\frac{\\omega^2}{c^2}$$"
   ]
  },
  {
   "cell_type": "code",
   "execution_count": 2,
   "metadata": {},
   "outputs": [
    {
     "name": "stdout",
     "output_type": "stream",
     "text": [
      "eq_kappa_l =\n"
     ]
    },
    {
     "data": {
      "text/latex": [
       "$\\displaystyle \\kappa_{l}^{2} = \\frac{\\epsilon_{l} \\mu_{l} \\omega^{2}}{c^{2}} + \\frac{4 i \\, \\pi \\mu_{l} \\omega \\sigma_{l}}{c^{2}}$"
      ],
      "text/plain": [
       "<IPython.core.display.Math object>"
      ]
     },
     "metadata": {},
     "output_type": "display_data"
    },
    {
     "name": "stdout",
     "output_type": "stream",
     "text": [
      "eq_kappa_r =\n"
     ]
    },
    {
     "data": {
      "text/latex": [
       "$\\displaystyle \\kappa_{r}^{2} = \\frac{\\epsilon_{r} \\mu_{r} \\omega^{2}}{c^{2}} + \\frac{4 i \\, \\pi \\mu_{r} \\omega \\sigma_{r}}{c^{2}}$"
      ],
      "text/plain": [
       "<IPython.core.display.Math object>"
      ]
     },
     "metadata": {},
     "output_type": "display_data"
    },
    {
     "name": "stdout",
     "output_type": "stream",
     "text": [
      "eq_kappa_inner_vacuum =\n"
     ]
    },
    {
     "data": {
      "text/latex": [
       "$\\displaystyle \\kappa_{\\mathit{vacuum}}^{2} = \\frac{\\omega^{2}}{c^{2}}$"
      ],
      "text/plain": [
       "<IPython.core.display.Math object>"
      ]
     },
     "metadata": {},
     "output_type": "display_data"
    }
   ],
   "source": [
    "# исходя из вида дифференциальных уравнений для вакуума внутри резонатора и проводящего металла с потерями\n",
    "# записываем соотнощения для волнового вектора в виде уравнений\n",
    "\n",
    "if good_conductor:\n",
    "    eq_kappa_l              = kappa_l^2 == I*omega*sigma_l*mu_l*4*pi/c^2\n",
    "    eq_kappa_r              = kappa_r^2 == I*omega*sigma_r*mu_r*4*pi/c^2\n",
    "else:\n",
    "    eq_kappa_l              = kappa_l^2 == mu_l * epsilon_l * omega^2 / c^2 + I*omega*sigma_l*mu_l*4*pi/c^2\n",
    "    eq_kappa_r              = kappa_r^2 == mu_r * epsilon_r * omega^2 / c^2 + I*omega*sigma_r*mu_r*4*pi/c^2\n",
    "eq_kappa_inner_vacuum = kappa_vacuum^2 == omega^2 / c^2\n",
    "\n",
    "kappa_sol_l = solve(eq_kappa_l, kappa_l)[1]\n",
    "kappa_sol_r = solve(eq_kappa_r, kappa_r)[1]\n",
    "#kappa_vacuum_sol = omega / c\n",
    "\n",
    "print(\"eq_kappa_l =\")\n",
    "display(Math(latex(eq_kappa_l)))\n",
    "print(\"eq_kappa_r =\")\n",
    "display(Math(latex(eq_kappa_r)))\n",
    "\n",
    "print(\"eq_kappa_inner_vacuum =\")\n",
    "display(Math(latex(eq_kappa_inner_vacuum)))"
   ]
  },
  {
   "cell_type": "code",
   "execution_count": 3,
   "metadata": {},
   "outputs": [
    {
     "name": "stdout",
     "output_type": "stream",
     "text": [
      "kappa_sol_l =\n"
     ]
    },
    {
     "data": {
      "text/latex": [
       "$\\displaystyle \\kappa_{l} = \\frac{\\sqrt{\\epsilon_{l} \\mu_{l} \\omega^{2} + 4 i \\, \\pi \\mu_{l} \\omega \\sigma_{l}}}{c}$"
      ],
      "text/plain": [
       "<IPython.core.display.Math object>"
      ]
     },
     "metadata": {},
     "output_type": "display_data"
    },
    {
     "name": "stdout",
     "output_type": "stream",
     "text": [
      "kappa_sol_r =\n"
     ]
    },
    {
     "data": {
      "text/latex": [
       "$\\displaystyle \\kappa_{r} = \\frac{\\sqrt{\\epsilon_{r} \\mu_{r} \\omega^{2} + 4 i \\, \\pi \\mu_{r} \\omega \\sigma_{r}}}{c}$"
      ],
      "text/plain": [
       "<IPython.core.display.Math object>"
      ]
     },
     "metadata": {},
     "output_type": "display_data"
    }
   ],
   "source": [
    "print(\"kappa_sol_l =\")\n",
    "display(Math(latex(kappa_sol_l)))\n",
    "print(\"kappa_sol_r =\")\n",
    "display(Math(latex(kappa_sol_r)))"
   ]
  },
  {
   "cell_type": "markdown",
   "metadata": {},
   "source": [
    "принимая модель комплексного представления диэлектрической проницаемости $\\epsilon' = \\epsilon + \\frac{4\\pi\\,\\sigma}{\\omega}\\,i$ (плохой проводник)"
   ]
  },
  {
   "cell_type": "code",
   "execution_count": 4,
   "metadata": {},
   "outputs": [],
   "source": [
    "if good_conductor:\n",
    "    epsilon_l_complex = + I * 4 * pi * sigma_l / omega\n",
    "    epsilon_r_complex = + I * 4 * pi * sigma_r / omega\n",
    "else:\n",
    "    epsilon_l_complex = epsilon_l + I * 4 * pi * sigma_l / omega\n",
    "    epsilon_r_complex = epsilon_r + I * 4 * pi * sigma_r / omega"
   ]
  },
  {
   "cell_type": "code",
   "execution_count": 5,
   "metadata": {},
   "outputs": [
    {
     "data": {
      "text/plain": [
       "(epsilon_l*mu_l*omega^2/c^2 + 4*I*pi*mu_l*omega*sigma_l/c^2,\n",
       " epsilon_l*mu_l*omega^2/c^2 + 4*I*pi*mu_l*omega*sigma_l/c^2)"
      ]
     },
     "execution_count": 5,
     "metadata": {},
     "output_type": "execute_result"
    }
   ],
   "source": [
    "tst_eq_l = (kappa_l == sqrt(epsilon_l_complex * mu_l) * omega/c).subs(kappa_sol_l)\n",
    "(tst_eq_l.lhs()^2).expand(), (tst_eq_l.rhs()^2).expand()"
   ]
  },
  {
   "cell_type": "code",
   "execution_count": 6,
   "metadata": {},
   "outputs": [
    {
     "data": {
      "text/plain": [
       "(epsilon_r*mu_r*omega^2/c^2 + 4*I*pi*mu_r*omega*sigma_r/c^2,\n",
       " epsilon_r*mu_r*omega^2/c^2 + 4*I*pi*mu_r*omega*sigma_r/c^2)"
      ]
     },
     "execution_count": 6,
     "metadata": {},
     "output_type": "execute_result"
    }
   ],
   "source": [
    "tst_eq_r = (kappa_r == sqrt(epsilon_r_complex * mu_r) * omega/c).subs(kappa_sol_r)\n",
    "(tst_eq_r.lhs()^2).expand(), (tst_eq_r.rhs()^2).expand()"
   ]
  },
  {
   "cell_type": "code",
   "execution_count": null,
   "metadata": {},
   "outputs": [],
   "source": []
  },
  {
   "cell_type": "markdown",
   "metadata": {},
   "source": [
    "приходим к\n",
    "\n",
    "$$\\frac{\\partial^{2}}{(\\partial {x})^{2}}\\vec{E}(x) + \\frac{\\partial^{2}}{(\\partial {y})^{2}}\\vec{E}(x) +  \\left(\\frac{\\mu \\omega^2}{c^2}\\epsilon + \\frac{\\mu \\omega^2}{c^2}\\frac{4\\pi\\,\\sigma}{\\omega}\\,i - {k'_z}^{2}\\right) = 0$$\n"
   ]
  },
  {
   "cell_type": "markdown",
   "metadata": {},
   "source": [
    "$${k'_z}^2=\\left(k_z + i\\,s_z \\right)^2 = k_z^2 - s_z^2 + 2\\,i\\,k_z\\,s_z$$"
   ]
  },
  {
   "cell_type": "markdown",
   "metadata": {},
   "source": []
  },
  {
   "cell_type": "code",
   "execution_count": 7,
   "metadata": {},
   "outputs": [],
   "source": [
    "#k__y_subs = k__y == 0 #ky + I * sy"
   ]
  },
  {
   "cell_type": "code",
   "execution_count": 8,
   "metadata": {},
   "outputs": [],
   "source": [
    "#k__z_subs = k__z == kz + I * sz"
   ]
  },
  {
   "cell_type": "code",
   "execution_count": null,
   "metadata": {},
   "outputs": [],
   "source": []
  },
  {
   "cell_type": "markdown",
   "metadata": {},
   "source": [
    "$$\\frac{\\partial^{2}}{(\\partial {x})^{2}}\\vec{E}(x) + \\frac{\\partial^{2}}{(\\partial {y})^{2}}\\vec{E}(x) + \\left(\\frac{\\mu \\epsilon \\omega^2}{c^2} - {k'_z}^2\\right)\\,\\vec{E}(x) - grad\\,div\\,\\vec{E} = 0$$"
   ]
  },
  {
   "cell_type": "markdown",
   "metadata": {},
   "source": [
    "зависимость поля от $y$ отсутствует"
   ]
  },
  {
   "cell_type": "markdown",
   "metadata": {},
   "source": [
    "$$\\frac{\\partial^{2}}{(\\partial {x})^{2}}\\vec{E}(x) + \\left(\\frac{\\mu \\epsilon \\omega^2}{c^2} - {k'_z}^2\\right)\\,\\vec{E}(x) - grad\\,div\\,\\vec{E} = 0$$"
   ]
  },
  {
   "cell_type": "code",
   "execution_count": 9,
   "metadata": {},
   "outputs": [
    {
     "name": "stdout",
     "output_type": "stream",
     "text": [
      "de_inner_vacuum =\n"
     ]
    },
    {
     "data": {
      "text/latex": [
       "$\\displaystyle -{\\left(k_{z}^{2} - \\kappa_{l}^{2}\\right)} E\\left(x\\right) + \\frac{\\partial^{2}}{(\\partial x)^{2}}E\\left(x\\right) = 0$"
      ],
      "text/plain": [
       "<IPython.core.display.Math object>"
      ]
     },
     "metadata": {},
     "output_type": "display_data"
    },
    {
     "data": {
      "text/latex": [
       "$\\displaystyle -{\\left(k_{z}^{2} - \\kappa_{r}^{2}\\right)} E\\left(x\\right) + \\frac{\\partial^{2}}{(\\partial x)^{2}}E\\left(x\\right) = 0$"
      ],
      "text/plain": [
       "<IPython.core.display.Math object>"
      ]
     },
     "metadata": {},
     "output_type": "display_data"
    }
   ],
   "source": [
    "# решаем полученные обыкновенные дифференциальные уравнения\n",
    "E = function('E')(x)\n",
    "\n",
    "\n",
    "de_inner_vacuum_l = diff (E, x, 2) + diff (E, y, 2) + (kappa_l^2 - k_z^2) * E == 0\n",
    "de_inner_vacuum_r = diff (E, x, 2) + diff (E, y, 2) + (kappa_r^2 - k_z^2) * E == 0\n",
    "# diff (E, y, 2) == 0\n",
    "de_inner_vacuum_l = diff (E, x, 2) + (kappa_l^2 - k_z^2) * E == 0\n",
    "de_inner_vacuum_r = diff (E, x, 2) + (kappa_r^2 - k_z^2) * E == 0\n",
    "# получая таким образом выражения для электрического поля в вакуума внутри резонатора и внутри проводящего металла с потерями\n",
    "print(\"de_inner_vacuum =\")\n",
    "display(Math(latex(de_inner_vacuum_l)))\n",
    "display(Math(latex(de_inner_vacuum_r)))"
   ]
  },
  {
   "cell_type": "code",
   "execution_count": 10,
   "metadata": {},
   "outputs": [
    {
     "name": "stdout",
     "output_type": "stream",
     "text": [
      "E_inner_vacuum =\n"
     ]
    },
    {
     "data": {
      "text/latex": [
       "$\\displaystyle K_{1} e^{\\left(i \\, \\sqrt{-k_{z}^{2} + \\kappa_{l}^{2}} x\\right)} + K_{2} e^{\\left(-i \\, \\sqrt{-k_{z}^{2} + \\kappa_{l}^{2}} x\\right)}$"
      ],
      "text/plain": [
       "<IPython.core.display.Math object>"
      ]
     },
     "metadata": {},
     "output_type": "display_data"
    },
    {
     "data": {
      "text/latex": [
       "$\\displaystyle K_{1} e^{\\left(i \\, \\sqrt{-k_{z}^{2} + \\kappa_{r}^{2}} x\\right)} + K_{2} e^{\\left(-i \\, \\sqrt{-k_{z}^{2} + \\kappa_{r}^{2}} x\\right)}$"
      ],
      "text/plain": [
       "<IPython.core.display.Math object>"
      ]
     },
     "metadata": {},
     "output_type": "display_data"
    }
   ],
   "source": [
    "assume(k_z^2-kappa_l^2 > 0)\n",
    "assume(k_z^2-kappa_r^2 > 0)\n",
    "\n",
    "E_inner_vacuum_l = desolve(de_inner_vacuum_l, E, ivar = x)\n",
    "E_inner_vacuum_r = desolve(de_inner_vacuum_r, E, ivar = x)\n",
    "#E_inner_vacuum = desolve(de_inner_vacuum, E, ivar = [x, y], contrib_ode = True)\n",
    "\n",
    "# получая таким образом выражения для электрического поля в вакуума внутри резонатора и внутри проводящего металла с потерями\n",
    "print(\"E_inner_vacuum =\")\n",
    "display(Math(latex(E_inner_vacuum_l)))\n",
    "display(Math(latex(E_inner_vacuum_r)))"
   ]
  },
  {
   "cell_type": "code",
   "execution_count": null,
   "metadata": {},
   "outputs": [],
   "source": []
  },
  {
   "cell_type": "code",
   "execution_count": 11,
   "metadata": {},
   "outputs": [],
   "source": [
    "B1_xl = var ('B1_xl')\n",
    "B2_xl = var ('B2_xl')\n",
    "\n",
    "B1_xr = var ('B1_xr')\n",
    "B2_xr = var ('B2_xr')\n",
    "\n",
    "\n",
    "A1_x = var ('A1_x')\n",
    "A2_x = var ('A2_x')\n",
    "\n",
    "\n",
    "B1_yl = var ('B1_yl')\n",
    "B2_yl = var ('B2_yl')\n",
    "\n",
    "B1_yr = var ('B1_yr')\n",
    "B2_yr = var ('B2_yr')\n",
    "\n",
    "A1_y = var ('A1_y')\n",
    "A2_y = var ('A2_y')\n",
    "\n",
    "\n",
    "B1_zl = var ('B1_zl')\n",
    "B2_zl = var ('B2_zl')\n",
    "\n",
    "B1_zr = var ('B1_zr')\n",
    "B2_zr = var ('B2_zr')\n",
    "\n",
    "A1_z = var ('A1_z')\n",
    "A2_z = var ('A2_z')\n",
    "\n",
    "A1_x_re, A1_y_re, A1_z_re = var(\"A1_x_re, A1_y_re, A1_z_re\")\n",
    "A1_x_im, A1_y_im, A1_z_im = var(\"A1_x_im, A1_y_im, A1_z_im\")\n",
    "\n",
    "A2_x_re, A2_y_re, A2_z_re = var(\"A2_x_re, A2_y_re, A2_z_re\")\n",
    "A2_x_im, A2_y_im, A2_z_im = var(\"A2_x_im, A2_y_im, A2_z_im\")\n",
    "\n",
    "B1_xl_re, B1_yl_re, B1_zl_re = var(\"B1_xl_re, B1_yl_re, B1_zl_re\")\n",
    "B1_xl_im, B1_yl_im, B1_zl_im = var(\"B1_xl_im, B1_yl_im, B1_zl_im\")\n",
    "\n",
    "B1_xr_re, B1_yr_re, B1_zr_re = var(\"B1_xr_re, B1_yr_re, B1_zr_re\")\n",
    "B1_xr_im, B1_yr_im, B1_zr_im = var(\"B1_xr_im, B1_yr_im, B1_zr_im\")\n",
    "\n",
    "\n",
    "assume(A1_x_re, \"real\")\n",
    "assume(A1_x_im, \"real\")\n",
    "\n",
    "assume(A2_x_re, \"real\")\n",
    "assume(A2_x_im, \"real\")\n",
    "\n",
    "assume(A1_y_re, \"real\")\n",
    "assume(A1_y_im, \"real\")\n",
    "\n",
    "assume(A2_y_re, \"real\")\n",
    "assume(A2_y_im, \"real\")\n",
    "\n",
    "assume(A1_z_re, \"real\")\n",
    "assume(A1_z_im, \"real\")\n",
    "\n",
    "assume(A2_z_re, \"real\")\n",
    "assume(A2_z_im, \"real\")\n",
    "\n",
    "\n",
    "assume(B1_xl_re, \"real\")\n",
    "assume(B1_xl_im, \"real\")\n",
    "\n",
    "assume(B1_xr_re, \"real\")\n",
    "assume(B1_xr_im, \"real\")\n",
    "\n",
    "assume(B1_yl_re, \"real\")\n",
    "assume(B1_yl_im, \"real\")\n",
    "\n",
    "assume(B1_yr_re, \"real\")\n",
    "assume(B1_yr_im, \"real\")\n",
    "\n",
    "assume(B1_zl_re, \"real\")\n",
    "assume(B1_zl_im, \"real\")\n",
    "\n",
    "assume(B1_zr_re, \"real\")\n",
    "assume(B1_zr_im, \"real\")"
   ]
  },
  {
   "cell_type": "code",
   "execution_count": 12,
   "metadata": {},
   "outputs": [],
   "source": [
    "A1_x_re_im_subs = A1_x == A1_x_re + I * A1_x_im\n",
    "A2_x_re_im_subs = A2_x == A2_x_re + I * A2_x_im\n",
    "\n",
    "A1_y_re_im_subs = A1_y == A1_y_re + I * A1_y_im\n",
    "A2_y_re_im_subs = A2_y == A2_y_re + I * A2_y_im\n",
    "\n",
    "A1_z_re_im_subs = A1_z == A1_z_re + I * A1_z_im\n",
    "A2_z_re_im_subs = A2_z == A2_z_re + I * A2_z_im\n",
    "\n",
    "B1_xl_re_im_subs = B1_xl == B1_xl_re + I * B1_xl_im\n",
    "B1_yl_re_im_subs = B1_yl == B1_yl_re + I * B1_yl_im\n",
    "B1_zl_re_im_subs = B1_zl == B1_zl_re + I * B1_zl_im\n",
    "\n",
    "B1_xr_re_im_subs = B1_xr == B1_xr_re + I * B1_xr_im\n",
    "B1_yr_re_im_subs = B1_yr == B1_yr_re + I * B1_yr_im\n",
    "B1_zr_re_im_subs = B1_zr == B1_zr_re + I * B1_zr_im"
   ]
  },
  {
   "cell_type": "code",
   "execution_count": 13,
   "metadata": {},
   "outputs": [],
   "source": [
    "# 2D\n",
    "# отсутсвие изменения поля вдоль оси y\n",
    "set_Ey_0 = False"
   ]
  },
  {
   "cell_type": "code",
   "execution_count": 14,
   "metadata": {},
   "outputs": [],
   "source": [
    "if set_Ey_0:\n",
    "    B1_yl = 0\n",
    "    B2_yl = 0\n",
    "    B1_yr = 0\n",
    "    B2_yr = 0\n",
    "\n",
    "    A1_y = 0\n",
    "    A2_y = 0\n",
    "\n",
    "    ky   = 0"
   ]
  },
  {
   "cell_type": "code",
   "execution_count": 15,
   "metadata": {},
   "outputs": [],
   "source": [
    "# K_vacuum = sqrt(kappa_vacuum^2-k_z^2)\n",
    "# K_conductor = sqrt(kappa^2-k_z^2)\n",
    "\n",
    "K_vacuum    = var(\"K_vacuum\")\n",
    "K_left_conductor = var(\"K_left_conductor\")\n",
    "K_right_conductor = var(\"K_right_conductor\")"
   ]
  },
  {
   "cell_type": "code",
   "execution_count": 16,
   "metadata": {},
   "outputs": [
    {
     "name": "stdout",
     "output_type": "stream",
     "text": [
      "E_inner_vacuum_sol_z (x) \n"
     ]
    },
    {
     "data": {
      "text/latex": [
       "$\\displaystyle \\mathit{A2}_{z} e^{\\left(i \\, K_{\\mathit{vacuum}} x\\right)} + \\mathit{A1}_{z} e^{\\left(-i \\, K_{\\mathit{vacuum}} x\\right)}$"
      ],
      "text/plain": [
       "<IPython.core.display.Math object>"
      ]
     },
     "metadata": {},
     "output_type": "display_data"
    },
    {
     "name": "stdout",
     "output_type": "stream",
     "text": [
      "E_inner_vacuum_sol_x (x) =\n"
     ]
    },
    {
     "data": {
      "text/latex": [
       "$\\displaystyle \\mathit{A2}_{x} e^{\\left(i \\, K_{\\mathit{vacuum}} x\\right)} + \\mathit{A1}_{x} e^{\\left(-i \\, K_{\\mathit{vacuum}} x\\right)}$"
      ],
      "text/plain": [
       "<IPython.core.display.Math object>"
      ]
     },
     "metadata": {},
     "output_type": "display_data"
    },
    {
     "name": "stdout",
     "output_type": "stream",
     "text": [
      "E_inner_vacuum_sol_y (x) =\n"
     ]
    },
    {
     "data": {
      "text/latex": [
       "$\\displaystyle \\mathit{A2}_{y} e^{\\left(i \\, K_{\\mathit{vacuum}} x\\right)} + \\mathit{A1}_{y} e^{\\left(-i \\, K_{\\mathit{vacuum}} x\\right)}$"
      ],
      "text/plain": [
       "<IPython.core.display.Math object>"
      ]
     },
     "metadata": {},
     "output_type": "display_data"
    }
   ],
   "source": [
    "# выражения для электрического поля\n",
    "# в вакууме внутри резонатора\n",
    "\n",
    "# знак перед корнем (K_vacuum) будем выбирать всегда так чтобы корень имел положительную мнимую часть\n",
    "E_inner_vacuum_sol_z (x) = A1_z*exp(- I * K_vacuum*x) + A2_z*exp( I * K_vacuum*x)\n",
    "E_inner_vacuum_sol_x (x) = A1_x*exp(- I * K_vacuum*x) + A2_x*exp( I * K_vacuum*x)\n",
    "E_inner_vacuum_sol_y (x) = A1_y*exp(- I * K_vacuum*x) + A2_y*exp( I * K_vacuum*x)\n",
    "\n",
    "E_inner_vacuum_z = function(\"E_inner_vacuum_z\")\n",
    "E_inner_vacuum_x = function(\"E_inner_vacuum_x\")\n",
    "E_inner_vacuum_y = function(\"E_inner_vacuum_y\")\n",
    "\n",
    "\n",
    "print (\"E_inner_vacuum_sol_z (x) \")\n",
    "display(Math(latex(E_inner_vacuum_sol_z (x))))\n",
    "print (\"E_inner_vacuum_sol_x (x) =\")\n",
    "display(Math(latex(E_inner_vacuum_sol_x (x))))\n",
    "print (\"E_inner_vacuum_sol_y (x) =\")\n",
    "display(Math(latex(E_inner_vacuum_sol_y (x))))"
   ]
  },
  {
   "cell_type": "markdown",
   "metadata": {},
   "source": [
    "решение для проводящего металла с потерями\n",
    "\n",
    "$\\vec{E} = \\vec{E}\\,e^{i\\,k_x'\\,x}\\,e^{i\\,k_z\\,z}\\,e^{-i\\,\\omega\\,t}$\n",
    "\n",
    "$k_x' = k_x + i\\,s_x$\n",
    "\n",
    "$\\vec{E} = \\vec{E}\\,e^{-s_x\\,x}\\,e^{i\\,k_x\\,x}\\,e^{i\\,k_z\\,z}\\,e^{-i\\,\\omega\\,t}$"
   ]
  },
  {
   "cell_type": "code",
   "execution_count": 17,
   "metadata": {},
   "outputs": [
    {
     "name": "stdout",
     "output_type": "stream",
     "text": [
      "E_left_conductor_sol_z (x) \n"
     ]
    },
    {
     "data": {
      "text/latex": [
       "$\\displaystyle \\mathit{B1}_{\\mathit{zl}} e^{\\left(-i \\, K_{\\mathit{left}_{\\mathit{conductor}}} {\\left(a + x\\right)}\\right)}$"
      ],
      "text/plain": [
       "<IPython.core.display.Math object>"
      ]
     },
     "metadata": {},
     "output_type": "display_data"
    },
    {
     "name": "stdout",
     "output_type": "stream",
     "text": [
      "E_left_conductor_sol_x (x) =\n"
     ]
    },
    {
     "data": {
      "text/latex": [
       "$\\displaystyle \\mathit{B1}_{\\mathit{xl}} e^{\\left(-i \\, K_{\\mathit{left}_{\\mathit{conductor}}} {\\left(a + x\\right)}\\right)}$"
      ],
      "text/plain": [
       "<IPython.core.display.Math object>"
      ]
     },
     "metadata": {},
     "output_type": "display_data"
    },
    {
     "name": "stdout",
     "output_type": "stream",
     "text": [
      "E_left_conductor_sol_y (x) =\n"
     ]
    },
    {
     "data": {
      "text/latex": [
       "$\\displaystyle \\mathit{B1}_{\\mathit{yl}} e^{\\left(-i \\, K_{\\mathit{left}_{\\mathit{conductor}}} {\\left(a + x\\right)}\\right)}$"
      ],
      "text/plain": [
       "<IPython.core.display.Math object>"
      ]
     },
     "metadata": {},
     "output_type": "display_data"
    }
   ],
   "source": [
    "# x > a-{k'_x}^{2}-{k'_y}^{2} +\n",
    "# в проводящем металле с потерями\n",
    "\n",
    "# знак перед корнем будем выбирать всегда так чтобы корень имел положительную мнимую часть\n",
    "E_left_conductor_sol_z (x) = B1_zl*exp(-I * K_left_conductor*(x+a))\n",
    "E_left_conductor_sol_x (x) = B1_xl*exp(-I * K_left_conductor*(x+a))\n",
    "E_left_conductor_sol_y (x) = B1_yl*exp(-I * K_left_conductor*(x+a))\n",
    "\n",
    "E_left_conductor_z = function(\"E_left_conductor_z\")\n",
    "E_left_conductor_x = function(\"E_left_conductor_x\")\n",
    "E_left_conductor_y = function(\"E_left_conductor_y\")\n",
    "\n",
    "\n",
    "print (\"E_left_conductor_sol_z (x) \")\n",
    "display(Math(latex(E_left_conductor_sol_z (x))))\n",
    "print (\"E_left_conductor_sol_x (x) =\")\n",
    "display(Math(latex(E_left_conductor_sol_x (x))))\n",
    "print (\"E_left_conductor_sol_y (x) =\")\n",
    "display(Math(latex(E_left_conductor_sol_y (x))))"
   ]
  },
  {
   "cell_type": "code",
   "execution_count": 18,
   "metadata": {},
   "outputs": [
    {
     "name": "stdout",
     "output_type": "stream",
     "text": [
      "E_right_conductor_sol_z (x) \n"
     ]
    },
    {
     "data": {
      "text/latex": [
       "$\\displaystyle \\mathit{B1}_{\\mathit{zr}} e^{\\left(-i \\, K_{\\mathit{right}_{\\mathit{conductor}}} {\\left(a - x\\right)}\\right)}$"
      ],
      "text/plain": [
       "<IPython.core.display.Math object>"
      ]
     },
     "metadata": {},
     "output_type": "display_data"
    },
    {
     "name": "stdout",
     "output_type": "stream",
     "text": [
      "E_right_conductor_sol_x (x) =\n"
     ]
    },
    {
     "data": {
      "text/latex": [
       "$\\displaystyle \\mathit{B1}_{\\mathit{xr}} e^{\\left(-i \\, K_{\\mathit{right}_{\\mathit{conductor}}} {\\left(a - x\\right)}\\right)}$"
      ],
      "text/plain": [
       "<IPython.core.display.Math object>"
      ]
     },
     "metadata": {},
     "output_type": "display_data"
    },
    {
     "name": "stdout",
     "output_type": "stream",
     "text": [
      "E_right_conductor_sol_y (x) =\n"
     ]
    },
    {
     "data": {
      "text/latex": [
       "$\\displaystyle \\mathit{B1}_{\\mathit{yr}} e^{\\left(-i \\, K_{\\mathit{right}_{\\mathit{conductor}}} {\\left(a - x\\right)}\\right)}$"
      ],
      "text/plain": [
       "<IPython.core.display.Math object>"
      ]
     },
     "metadata": {},
     "output_type": "display_data"
    }
   ],
   "source": [
    "# x > a-{k'_x}^{2}-{k'_y}^{2} +\n",
    "# в проводящем металле с потерями\n",
    "\n",
    "# знак перед корнем будем выбирать всегда так чтобы корень имел положительную мнимую часть\n",
    "E_right_conductor_sol_z (x) = B1_zr*exp(+I * K_right_conductor*(x-a))\n",
    "E_right_conductor_sol_x (x) = B1_xr*exp(+I * K_right_conductor*(x-a))\n",
    "E_right_conductor_sol_y (x) = B1_yr*exp(+I * K_right_conductor*(x-a))\n",
    "\n",
    "E_right_conductor_z = function(\"E_right_conductor_z\")\n",
    "E_right_conductor_x = function(\"E_right_conductor_x\")\n",
    "E_right_conductor_y = function(\"E_right_conductor_y\")\n",
    "\n",
    "\n",
    "print (\"E_right_conductor_sol_z (x) \")\n",
    "display(Math(latex(E_right_conductor_sol_z (x))))\n",
    "print (\"E_right_conductor_sol_x (x) =\")\n",
    "display(Math(latex(E_right_conductor_sol_x (x))))\n",
    "print (\"E_right_conductor_sol_y (x) =\")\n",
    "display(Math(latex(E_right_conductor_sol_y (x))))"
   ]
  },
  {
   "cell_type": "code",
   "execution_count": 19,
   "metadata": {},
   "outputs": [
    {
     "name": "stdout",
     "output_type": "stream",
     "text": [
      "H_inner_vacuum_s_y \n"
     ]
    },
    {
     "data": {
      "text/latex": [
       "$\\displaystyle x \\ {\\mapsto}\\ -\\frac{i \\, {\\left(i \\, k_{z} E_{{\\rm inner}_{{\\rm vacuum}_{x}}}\\left(x\\right) - \\frac{\\partial}{\\partial x}E_{{\\rm inner}_{{\\rm vacuum}_{z}}}\\left(x\\right)\\right)} c}{\\omega}$"
      ],
      "text/plain": [
       "<IPython.core.display.Math object>"
      ]
     },
     "metadata": {},
     "output_type": "display_data"
    },
    {
     "name": "stdout",
     "output_type": "stream",
     "text": [
      "H_left_conductor_s_y =\n"
     ]
    },
    {
     "data": {
      "text/latex": [
       "$\\displaystyle x \\ {\\mapsto}\\ -\\frac{i \\, {\\left(i \\, k_{z} E_{{\\rm left}_{{\\rm conductor}_{x}}}\\left(x\\right) - \\frac{\\partial}{\\partial x}E_{{\\rm left}_{{\\rm conductor}_{z}}}\\left(x\\right)\\right)} c}{\\mu_{l} \\omega}$"
      ],
      "text/plain": [
       "<IPython.core.display.Math object>"
      ]
     },
     "metadata": {},
     "output_type": "display_data"
    },
    {
     "name": "stdout",
     "output_type": "stream",
     "text": [
      "H_right_conductor_s_y =\n"
     ]
    },
    {
     "data": {
      "text/latex": [
       "$\\displaystyle x \\ {\\mapsto}\\ -\\frac{i \\, {\\left(i \\, k_{z} E_{{\\rm right}_{{\\rm conductor}_{x}}}\\left(x\\right) - \\frac{\\partial}{\\partial x}E_{{\\rm right}_{{\\rm conductor}_{z}}}\\left(x\\right)\\right)} c}{\\mu_{r} \\omega}$"
      ],
      "text/plain": [
       "<IPython.core.display.Math object>"
      ]
     },
     "metadata": {},
     "output_type": "display_data"
    },
    {
     "name": "stdout",
     "output_type": "stream",
     "text": [
      "H_inner_vacuum_sol_y (x) \n"
     ]
    },
    {
     "data": {
      "text/latex": [
       "$\\displaystyle -\\frac{i \\, {\\left(-i \\, \\mathit{A2}_{z} K_{\\mathit{vacuum}} e^{\\left(i \\, K_{\\mathit{vacuum}} x\\right)} + i \\, \\mathit{A1}_{z} K_{\\mathit{vacuum}} e^{\\left(-i \\, K_{\\mathit{vacuum}} x\\right)} + i \\, {\\left(\\mathit{A2}_{x} e^{\\left(i \\, K_{\\mathit{vacuum}} x\\right)} + \\mathit{A1}_{x} e^{\\left(-i \\, K_{\\mathit{vacuum}} x\\right)}\\right)} k_{z}\\right)} c}{\\omega}$"
      ],
      "text/plain": [
       "<IPython.core.display.Math object>"
      ]
     },
     "metadata": {},
     "output_type": "display_data"
    },
    {
     "name": "stdout",
     "output_type": "stream",
     "text": [
      "H_left_conductor_sol_y (x) =\n"
     ]
    },
    {
     "data": {
      "text/latex": [
       "$\\displaystyle -\\frac{i \\, {\\left(i \\, \\mathit{B1}_{\\mathit{zl}} K_{\\mathit{left}_{\\mathit{conductor}}} e^{\\left(-i \\, K_{\\mathit{left}_{\\mathit{conductor}}} {\\left(a + x\\right)}\\right)} + i \\, \\mathit{B1}_{\\mathit{xl}} k_{z} e^{\\left(-i \\, K_{\\mathit{left}_{\\mathit{conductor}}} {\\left(a + x\\right)}\\right)}\\right)} c}{\\mu_{l} \\omega}$"
      ],
      "text/plain": [
       "<IPython.core.display.Math object>"
      ]
     },
     "metadata": {},
     "output_type": "display_data"
    },
    {
     "name": "stdout",
     "output_type": "stream",
     "text": [
      "H_right_conductor_sol_y (x) =\n"
     ]
    },
    {
     "data": {
      "text/latex": [
       "$\\displaystyle -\\frac{i \\, {\\left(-i \\, \\mathit{B1}_{\\mathit{zr}} K_{\\mathit{right}_{\\mathit{conductor}}} e^{\\left(-i \\, K_{\\mathit{right}_{\\mathit{conductor}}} {\\left(a - x\\right)}\\right)} + i \\, \\mathit{B1}_{\\mathit{xr}} k_{z} e^{\\left(-i \\, K_{\\mathit{right}_{\\mathit{conductor}}} {\\left(a - x\\right)}\\right)}\\right)} c}{\\mu_{r} \\omega}$"
      ],
      "text/plain": [
       "<IPython.core.display.Math object>"
      ]
     },
     "metadata": {},
     "output_type": "display_data"
    }
   ],
   "source": [
    "# выражения для магнитного поля в вакууме внутри резонатора и в проводящем металле с потерями\n",
    "# rot E = -1/c dB/dt\n",
    "# H_y = c / (I * omega * mu) * (diff(E_x, z) - diff(E_z, x))\n",
    "\n",
    "# H_inner_vacuum_y  (x) = c / (I * omega)      * (I*k_z*E_inner_vacuum_x  (x) - diff(E_inner_vacuum_z  (x), x))\n",
    "# H_bad_conductor_y (x) = c / (I * omega * mu) * (I*k_z*E_bad_conductor_x (x) - diff(E_bad_conductor_z (x), x))\n",
    "\n",
    "H_inner_vacuum_y    = c/(I*omega)     *(I*k_z*E_inner_vacuum_x (x)   - diff(E_inner_vacuum_z (x), x))\n",
    "H_left_conductor_y  = c/(I*omega*mu_l)*(I*k_z*E_left_conductor_x(x)  - diff(E_left_conductor_z(x), x))\n",
    "H_right_conductor_y = c/(I*omega*mu_r)*(I*k_z*E_right_conductor_x(x) - diff(E_right_conductor_z(x), x))\n",
    "\n",
    "H_inner_vacuum_f_y    = function(\"H_inner_vacuum_f_y\")\n",
    "H_left_conductor_f_y  = function(\"H_left_conductor_f_y\")\n",
    "H_right_conductor_f_y = function(\"H_right_conductor_f_y\")\n",
    "\n",
    "H_inner_vacuum_y    = var(\"H_inner_vacuum_y\")\n",
    "H_left_conductor_y  = var(\"H_left_conductor_y\")\n",
    "H_right_conductor_y = var(\"H_right_conductor_y\")\n",
    "\n",
    "H_inner_vacuum_s_y  (x)   = c/(I*omega)     *(I*k_z*E_inner_vacuum_x (x) - diff(E_inner_vacuum_z (x), x))\n",
    "H_left_conductor_s_y (x)  = c/(I*omega*mu_l)*(I*k_z*E_left_conductor_x(x) - diff(E_left_conductor_z(x), x))\n",
    "H_right_conductor_s_y (x) = c/(I*omega*mu_r)*(I*k_z*E_right_conductor_x(x) - diff(E_right_conductor_z(x), x))\n",
    "\n",
    "H_inner_vacuum_sol_y  (x)   = c/(I*omega)     *(I*k_z*E_inner_vacuum_sol_x (x) - diff(E_inner_vacuum_sol_z (x), x))\n",
    "H_left_conductor_sol_y (x)  = c/(I*omega*mu_l)*(I*k_z*E_left_conductor_sol_x(x) - diff(E_left_conductor_sol_z(x), x))\n",
    "H_right_conductor_sol_y (x) = c/(I*omega*mu_r)*(I*k_z*E_right_conductor_sol_x(x) - diff(E_right_conductor_sol_z(x), x))\n",
    "\n",
    "print (\"H_inner_vacuum_s_y \")\n",
    "display(Math(latex(H_inner_vacuum_s_y.simplify())))\n",
    "print (\"H_left_conductor_s_y =\")\n",
    "display(Math(latex(H_left_conductor_s_y)))\n",
    "print (\"H_right_conductor_s_y =\")\n",
    "display(Math(latex(H_right_conductor_s_y)))\n",
    "\n",
    "print (\"H_inner_vacuum_sol_y (x) \")\n",
    "display(Math(latex(H_inner_vacuum_sol_y (x).simplify())))\n",
    "print (\"H_left_conductor_sol_y (x) =\")\n",
    "display(Math(latex(H_left_conductor_sol_y (x))))\n",
    "print (\"H_right_conductor_sol_y (x) =\")\n",
    "display(Math(latex(H_right_conductor_sol_y (x))))"
   ]
  },
  {
   "cell_type": "code",
   "execution_count": 20,
   "metadata": {},
   "outputs": [
    {
     "name": "stdout",
     "output_type": "stream",
     "text": [
      "H_inner_vacuum_s_x \n"
     ]
    },
    {
     "data": {
      "text/latex": [
       "$\\displaystyle x \\ {\\mapsto}\\ -\\frac{i \\, {\\left(-i \\, k_{z} E_{{\\rm inner}_{{\\rm vacuum}_{y}}}\\left(x\\right) + i \\, k_{y} E_{{\\rm inner}_{{\\rm vacuum}_{z}}}\\left(x\\right)\\right)} c}{\\omega}$"
      ],
      "text/plain": [
       "<IPython.core.display.Math object>"
      ]
     },
     "metadata": {},
     "output_type": "display_data"
    },
    {
     "name": "stdout",
     "output_type": "stream",
     "text": [
      "H_left_conductor_s_x (x) =\n"
     ]
    },
    {
     "data": {
      "text/latex": [
       "$\\displaystyle x \\ {\\mapsto}\\ -\\frac{i \\, {\\left(-i \\, k_{z} E_{{\\rm left}_{{\\rm conductor}_{y}}}\\left(x\\right) + i \\, k_{y} E_{{\\rm left}_{{\\rm conductor}_{z}}}\\left(x\\right)\\right)} c}{\\mu_{l} \\omega}$"
      ],
      "text/plain": [
       "<IPython.core.display.Math object>"
      ]
     },
     "metadata": {},
     "output_type": "display_data"
    },
    {
     "name": "stdout",
     "output_type": "stream",
     "text": [
      "H_right_conductor_s_x (x) =\n"
     ]
    },
    {
     "data": {
      "text/latex": [
       "$\\displaystyle x \\ {\\mapsto}\\ -\\frac{i \\, {\\left(-i \\, k_{z} E_{{\\rm right}_{{\\rm conductor}_{y}}}\\left(x\\right) + i \\, k_{y} E_{{\\rm right}_{{\\rm conductor}_{z}}}\\left(x\\right)\\right)} c}{\\mu_{r} \\omega}$"
      ],
      "text/plain": [
       "<IPython.core.display.Math object>"
      ]
     },
     "metadata": {},
     "output_type": "display_data"
    },
    {
     "name": "stdout",
     "output_type": "stream",
     "text": [
      "H_inner_vacuum_sol_x (x) \n"
     ]
    },
    {
     "data": {
      "text/latex": [
       "$\\displaystyle -\\frac{i \\, {\\left(i \\, {\\left(\\mathit{A2}_{z} e^{\\left(i \\, K_{\\mathit{vacuum}} x\\right)} + \\mathit{A1}_{z} e^{\\left(-i \\, K_{\\mathit{vacuum}} x\\right)}\\right)} k_{y} - i \\, {\\left(\\mathit{A2}_{y} e^{\\left(i \\, K_{\\mathit{vacuum}} x\\right)} + \\mathit{A1}_{y} e^{\\left(-i \\, K_{\\mathit{vacuum}} x\\right)}\\right)} k_{z}\\right)} c}{\\omega}$"
      ],
      "text/plain": [
       "<IPython.core.display.Math object>"
      ]
     },
     "metadata": {},
     "output_type": "display_data"
    },
    {
     "name": "stdout",
     "output_type": "stream",
     "text": [
      "H_left_conductor_sol_x (x) =\n"
     ]
    },
    {
     "data": {
      "text/latex": [
       "$\\displaystyle -\\frac{i \\, {\\left(i \\, \\mathit{B1}_{\\mathit{zl}} k_{y} e^{\\left(-i \\, K_{\\mathit{left}_{\\mathit{conductor}}} {\\left(a + x\\right)}\\right)} - i \\, \\mathit{B1}_{\\mathit{yl}} k_{z} e^{\\left(-i \\, K_{\\mathit{left}_{\\mathit{conductor}}} {\\left(a + x\\right)}\\right)}\\right)} c}{\\mu_{l} \\omega}$"
      ],
      "text/plain": [
       "<IPython.core.display.Math object>"
      ]
     },
     "metadata": {},
     "output_type": "display_data"
    },
    {
     "name": "stdout",
     "output_type": "stream",
     "text": [
      "H_right_conductor_sol_x (x) =\n"
     ]
    },
    {
     "data": {
      "text/latex": [
       "$\\displaystyle -\\frac{i \\, {\\left(i \\, \\mathit{B1}_{\\mathit{zr}} k_{y} e^{\\left(-i \\, K_{\\mathit{right}_{\\mathit{conductor}}} {\\left(a - x\\right)}\\right)} - i \\, \\mathit{B1}_{\\mathit{yr}} k_{z} e^{\\left(-i \\, K_{\\mathit{right}_{\\mathit{conductor}}} {\\left(a - x\\right)}\\right)}\\right)} c}{\\mu_{r} \\omega}$"
      ],
      "text/plain": [
       "<IPython.core.display.Math object>"
      ]
     },
     "metadata": {},
     "output_type": "display_data"
    }
   ],
   "source": [
    "# выражения для магнитного поля в вакууме внутри резонатора и в проводящем металле с потерями\n",
    "# rot E = -1/c dB/dt\n",
    "# H_x = c / (I * omega * mu) * (diff(E_z, y) - diff(E_y, z))\n",
    "\n",
    "H_inner_vacuum_f_x  = function(\"H_inner_vacuum_f_x\")\n",
    "H_left_conductor_f_x = function(\"H_left_conductor_f_x\")\n",
    "H_right_conductor_f_x = function(\"H_right_conductor_f_x\")\n",
    "\n",
    "H_inner_vacuum_x    = var(\"H_inner_vacuum_x\")\n",
    "H_left_conductor_x  = var(\"H_left_conductor_x\")\n",
    "H_right_conductor_x = var(\"H_right_conductor_x\")\n",
    "\n",
    "H_inner_vacuum_s_x(x)    = c/(I*omega)   *(I*k_y*E_inner_vacuum_z (x) - I*k_z*E_inner_vacuum_y (x))\n",
    "H_left_conductor_s_x(x)  = c/(I*omega*mu_l)*(I*k_y*E_left_conductor_z(x) - I*k_z*E_left_conductor_y(x))\n",
    "H_right_conductor_s_x(x) = c/(I*omega*mu_r)*(I*k_y*E_right_conductor_z(x) - I*k_z*E_right_conductor_y(x))\n",
    "\n",
    "H_inner_vacuum_sol_x (x)   = c/(I*omega)   *(I*k_y*E_inner_vacuum_sol_z (x) - I*k_z*E_inner_vacuum_sol_y (x))\n",
    "H_left_conductor_sol_x(x)  = c/(I*omega*mu_l)*(I*k_y*E_left_conductor_sol_z(x) - I*k_z*E_left_conductor_sol_y(x))\n",
    "H_right_conductor_sol_x(x) = c/(I*omega*mu_r)*(I*k_y*E_right_conductor_sol_z(x) - I*k_z*E_right_conductor_sol_y(x))\n",
    "\n",
    "print (\"H_inner_vacuum_s_x \")\n",
    "display(Math(latex(H_inner_vacuum_s_x.simplify())))\n",
    "print (\"H_left_conductor_s_x (x) =\")\n",
    "display(Math(latex(H_left_conductor_s_x)))\n",
    "print (\"H_right_conductor_s_x (x) =\")\n",
    "display(Math(latex(H_right_conductor_s_x)))\n",
    "\n",
    "print (\"H_inner_vacuum_sol_x (x) \")\n",
    "display(Math(latex(H_inner_vacuum_sol_x (x).simplify())))\n",
    "print (\"H_left_conductor_sol_x (x) =\")\n",
    "display(Math(latex(H_left_conductor_sol_x (x))))\n",
    "print (\"H_right_conductor_sol_x (x) =\")\n",
    "display(Math(latex(H_right_conductor_sol_x (x))))"
   ]
  },
  {
   "cell_type": "code",
   "execution_count": 21,
   "metadata": {},
   "outputs": [
    {
     "name": "stdout",
     "output_type": "stream",
     "text": [
      "H_inner_vacuum_s_z \n"
     ]
    },
    {
     "data": {
      "text/latex": [
       "$\\displaystyle x \\ {\\mapsto}\\ -\\frac{i \\, {\\left(-i \\, k_{y} E_{{\\rm inner}_{{\\rm vacuum}_{x}}}\\left(x\\right) + \\frac{\\partial}{\\partial x}E_{{\\rm inner}_{{\\rm vacuum}_{y}}}\\left(x\\right)\\right)} c}{\\omega}$"
      ],
      "text/plain": [
       "<IPython.core.display.Math object>"
      ]
     },
     "metadata": {},
     "output_type": "display_data"
    },
    {
     "name": "stdout",
     "output_type": "stream",
     "text": [
      "H_left_conductor_s_z =\n"
     ]
    },
    {
     "data": {
      "text/latex": [
       "$\\displaystyle x \\ {\\mapsto}\\ -\\frac{i \\, {\\left(-i \\, k_{y} E_{{\\rm left}_{{\\rm conductor}_{x}}}\\left(x\\right) + \\frac{\\partial}{\\partial x}E_{{\\rm left}_{{\\rm conductor}_{y}}}\\left(x\\right)\\right)} c}{\\mu_{l} \\omega}$"
      ],
      "text/plain": [
       "<IPython.core.display.Math object>"
      ]
     },
     "metadata": {},
     "output_type": "display_data"
    },
    {
     "name": "stdout",
     "output_type": "stream",
     "text": [
      "H_right_conductor_s_z =\n"
     ]
    },
    {
     "data": {
      "text/latex": [
       "$\\displaystyle x \\ {\\mapsto}\\ -\\frac{i \\, {\\left(-i \\, k_{y} E_{{\\rm right}_{{\\rm conductor}_{x}}}\\left(x\\right) + \\frac{\\partial}{\\partial x}E_{{\\rm right}_{{\\rm conductor}_{y}}}\\left(x\\right)\\right)} c}{\\mu_{r} \\omega}$"
      ],
      "text/plain": [
       "<IPython.core.display.Math object>"
      ]
     },
     "metadata": {},
     "output_type": "display_data"
    },
    {
     "name": "stdout",
     "output_type": "stream",
     "text": [
      "H_inner_vacuum_sol_z (x) \n"
     ]
    },
    {
     "data": {
      "text/latex": [
       "$\\displaystyle -\\frac{i \\, {\\left(i \\, \\mathit{A2}_{y} K_{\\mathit{vacuum}} e^{\\left(i \\, K_{\\mathit{vacuum}} x\\right)} - i \\, \\mathit{A1}_{y} K_{\\mathit{vacuum}} e^{\\left(-i \\, K_{\\mathit{vacuum}} x\\right)} - i \\, {\\left(\\mathit{A2}_{x} e^{\\left(i \\, K_{\\mathit{vacuum}} x\\right)} + \\mathit{A1}_{x} e^{\\left(-i \\, K_{\\mathit{vacuum}} x\\right)}\\right)} k_{y}\\right)} c}{\\omega}$"
      ],
      "text/plain": [
       "<IPython.core.display.Math object>"
      ]
     },
     "metadata": {},
     "output_type": "display_data"
    },
    {
     "name": "stdout",
     "output_type": "stream",
     "text": [
      "H_left_conductor_sol_z (x) =\n"
     ]
    },
    {
     "data": {
      "text/latex": [
       "$\\displaystyle -\\frac{i \\, {\\left(-i \\, \\mathit{B1}_{\\mathit{yl}} K_{\\mathit{left}_{\\mathit{conductor}}} e^{\\left(-i \\, K_{\\mathit{left}_{\\mathit{conductor}}} {\\left(a + x\\right)}\\right)} - i \\, \\mathit{B1}_{\\mathit{xl}} k_{y} e^{\\left(-i \\, K_{\\mathit{left}_{\\mathit{conductor}}} {\\left(a + x\\right)}\\right)}\\right)} c}{\\mu_{l} \\omega}$"
      ],
      "text/plain": [
       "<IPython.core.display.Math object>"
      ]
     },
     "metadata": {},
     "output_type": "display_data"
    },
    {
     "name": "stdout",
     "output_type": "stream",
     "text": [
      "H_right_conductor_sol_z (x) =\n"
     ]
    },
    {
     "data": {
      "text/latex": [
       "$\\displaystyle -\\frac{i \\, {\\left(i \\, \\mathit{B1}_{\\mathit{yr}} K_{\\mathit{right}_{\\mathit{conductor}}} e^{\\left(-i \\, K_{\\mathit{right}_{\\mathit{conductor}}} {\\left(a - x\\right)}\\right)} - i \\, \\mathit{B1}_{\\mathit{xr}} k_{y} e^{\\left(-i \\, K_{\\mathit{right}_{\\mathit{conductor}}} {\\left(a - x\\right)}\\right)}\\right)} c}{\\mu_{r} \\omega}$"
      ],
      "text/plain": [
       "<IPython.core.display.Math object>"
      ]
     },
     "metadata": {},
     "output_type": "display_data"
    }
   ],
   "source": [
    "# выражения для магнитного поля в вакууме внутри резонатора и в проводящем металле с потерями\n",
    "# rot E = -1/c dB/dt\n",
    "# H_z = c / (I * omega * mu) * (diff(E_y, x) - diff(E_x, y))\n",
    "\n",
    "H_inner_vacuum_z    = c / (I*omega)   *(diff(E_inner_vacuum_y (x), x) - I*k_y*E_inner_vacuum_x (x))\n",
    "H_left_conductor_z  = c / (I*omega*mu_l)*(diff(E_left_conductor_y(x), x) - I*k_y*E_left_conductor_x(x))\n",
    "H_right_conductor_z = c / (I*omega*mu_r)*(diff(E_right_conductor_y(x), x) - I*k_y*E_right_conductor_x(x))\n",
    "\n",
    "H_inner_vacuum_f_z    = function(\"H_inner_vacuum_f_z\")\n",
    "H_left_conductor_f_z  = function(\"H_left_conductor_f_z\")\n",
    "H_right_conductor_f_z = function(\"H_right_conductor_f_z\")\n",
    "\n",
    "H_inner_vacuum_z    = var(\"H_inner_vacuum_z\")\n",
    "H_left_conductor_z  = var(\"H_left_conductor_z\")\n",
    "H_right_conductor_z = var(\"H_right_conductor_z\")\n",
    "\n",
    "H_inner_vacuum_s_z(x)    = c / (I*omega)   * (diff(E_inner_vacuum_y (x), x) - I*k_y*E_inner_vacuum_x (x))\n",
    "H_left_conductor_s_z(x)  = c / (I*omega*mu_l)*(diff(E_left_conductor_y(x), x) - I*k_y*E_left_conductor_x(x))\n",
    "H_right_conductor_s_z(x) = c / (I*omega*mu_r)*(diff(E_right_conductor_y(x), x) - I*k_y*E_right_conductor_x(x))\n",
    "\n",
    "H_inner_vacuum_sol_z  (x) = c / (I*omega)   *(diff(E_inner_vacuum_sol_y (x), x) - I*k_y*E_inner_vacuum_sol_x (x))\n",
    "H_left_conductor_sol_z (x) = c / (I*omega*mu_l)*(diff(E_left_conductor_sol_y(x), x) - I*k_y*E_left_conductor_sol_x(x))\n",
    "H_right_conductor_sol_z (x) = c / (I*omega*mu_r)*(diff(E_right_conductor_sol_y(x), x) - I*k_y*E_right_conductor_sol_x(x))\n",
    "\n",
    "print (\"H_inner_vacuum_s_z \")\n",
    "display(Math(latex(H_inner_vacuum_s_z.simplify())))\n",
    "print (\"H_left_conductor_s_z =\")\n",
    "display(Math(latex(H_left_conductor_s_z)))\n",
    "print (\"H_right_conductor_s_z =\")\n",
    "display(Math(latex(H_right_conductor_s_z)))\n",
    "\n",
    "print (\"H_inner_vacuum_sol_z (x) \")\n",
    "display(Math(latex(H_inner_vacuum_sol_z (x))))\n",
    "print (\"H_left_conductor_sol_z (x) =\")\n",
    "display(Math(latex(H_left_conductor_sol_z (x))))\n",
    "print (\"H_right_conductor_sol_z (x) =\")\n",
    "display(Math(latex(H_right_conductor_sol_z (x))))"
   ]
  },
  {
   "cell_type": "code",
   "execution_count": 22,
   "metadata": {},
   "outputs": [
    {
     "name": "stdout",
     "output_type": "stream",
     "text": [
      "rot_H_inner_vacuum_x =\n"
     ]
    },
    {
     "data": {
      "text/latex": [
       "$\\displaystyle -i \\, k_{z} H_{{\\rm inner}_{{\\rm vacuum}_{f_{y}}}}\\left(x\\right) + i \\, k_{y} H_{{\\rm inner}_{{\\rm vacuum}_{f_{z}}}}\\left(x\\right)$"
      ],
      "text/plain": [
       "<IPython.core.display.Math object>"
      ]
     },
     "metadata": {},
     "output_type": "display_data"
    },
    {
     "name": "stdout",
     "output_type": "stream",
     "text": [
      "rot_H_left_conductor_x =\n"
     ]
    },
    {
     "data": {
      "text/latex": [
       "$\\displaystyle -i \\, k_{z} H_{{\\rm left}_{{\\rm conductor}_{f_{y}}}}\\left(x\\right) + i \\, k_{y} H_{{\\rm left}_{{\\rm conductor}_{f_{z}}}}\\left(x\\right)$"
      ],
      "text/plain": [
       "<IPython.core.display.Math object>"
      ]
     },
     "metadata": {},
     "output_type": "display_data"
    },
    {
     "name": "stdout",
     "output_type": "stream",
     "text": [
      "rot_H_right_conductor_x =\n"
     ]
    },
    {
     "data": {
      "text/latex": [
       "$\\displaystyle -i \\, k_{z} H_{{\\rm right}_{{\\rm conductor}_{f_{y}}}}\\left(x\\right) + i \\, k_{y} H_{{\\rm right}_{{\\rm conductor}_{f_{z}}}}\\left(x\\right)$"
      ],
      "text/plain": [
       "<IPython.core.display.Math object>"
      ]
     },
     "metadata": {},
     "output_type": "display_data"
    },
    {
     "name": "stdout",
     "output_type": "stream",
     "text": [
      "rot_H_inner_vacuum_y =\n"
     ]
    },
    {
     "data": {
      "text/latex": [
       "$\\displaystyle i \\, k_{z} H_{{\\rm inner}_{{\\rm vacuum}_{f_{x}}}}\\left(x\\right) - \\frac{\\partial}{\\partial x}H_{{\\rm inner}_{{\\rm vacuum}_{f_{z}}}}\\left(x\\right)$"
      ],
      "text/plain": [
       "<IPython.core.display.Math object>"
      ]
     },
     "metadata": {},
     "output_type": "display_data"
    },
    {
     "name": "stdout",
     "output_type": "stream",
     "text": [
      "rot_H_left_conductor_y =\n"
     ]
    },
    {
     "data": {
      "text/latex": [
       "$\\displaystyle i \\, k_{z} H_{{\\rm left}_{{\\rm conductor}_{f_{x}}}}\\left(x\\right) - \\frac{\\partial}{\\partial x}H_{{\\rm left}_{{\\rm conductor}_{f_{z}}}}\\left(x\\right)$"
      ],
      "text/plain": [
       "<IPython.core.display.Math object>"
      ]
     },
     "metadata": {},
     "output_type": "display_data"
    },
    {
     "name": "stdout",
     "output_type": "stream",
     "text": [
      "rot_H_right_conductor_y =\n"
     ]
    },
    {
     "data": {
      "text/latex": [
       "$\\displaystyle i \\, k_{z} H_{{\\rm right}_{{\\rm conductor}_{f_{x}}}}\\left(x\\right) - \\frac{\\partial}{\\partial x}H_{{\\rm right}_{{\\rm conductor}_{f_{z}}}}\\left(x\\right)$"
      ],
      "text/plain": [
       "<IPython.core.display.Math object>"
      ]
     },
     "metadata": {},
     "output_type": "display_data"
    },
    {
     "name": "stdout",
     "output_type": "stream",
     "text": [
      "rot_H_inner_vacuum_z =\n"
     ]
    },
    {
     "data": {
      "text/latex": [
       "$\\displaystyle -i \\, k_{y} H_{{\\rm inner}_{{\\rm vacuum}_{f_{x}}}}\\left(x\\right) + \\frac{\\partial}{\\partial x}H_{{\\rm inner}_{{\\rm vacuum}_{f_{y}}}}\\left(x\\right)$"
      ],
      "text/plain": [
       "<IPython.core.display.Math object>"
      ]
     },
     "metadata": {},
     "output_type": "display_data"
    },
    {
     "name": "stdout",
     "output_type": "stream",
     "text": [
      "rot_H_left_conductor_z =\n"
     ]
    },
    {
     "data": {
      "text/latex": [
       "$\\displaystyle -i \\, k_{y} H_{{\\rm left}_{{\\rm conductor}_{f_{x}}}}\\left(x\\right) + \\frac{\\partial}{\\partial x}H_{{\\rm left}_{{\\rm conductor}_{f_{y}}}}\\left(x\\right)$"
      ],
      "text/plain": [
       "<IPython.core.display.Math object>"
      ]
     },
     "metadata": {},
     "output_type": "display_data"
    },
    {
     "name": "stdout",
     "output_type": "stream",
     "text": [
      "rot_H_right_conductor_z =\n"
     ]
    },
    {
     "data": {
      "text/latex": [
       "$\\displaystyle -i \\, k_{y} H_{{\\rm right}_{{\\rm conductor}_{f_{x}}}}\\left(x\\right) + \\frac{\\partial}{\\partial x}H_{{\\rm right}_{{\\rm conductor}_{f_{y}}}}\\left(x\\right)$"
      ],
      "text/plain": [
       "<IPython.core.display.Math object>"
      ]
     },
     "metadata": {},
     "output_type": "display_data"
    },
    {
     "name": "stdout",
     "output_type": "stream",
     "text": [
      "rot_H_inner_vacuum_s_x =\n"
     ]
    },
    {
     "data": {
      "text/latex": [
       "$\\displaystyle x \\ {\\mapsto}\\ \\frac{{\\left(-i \\, k_{y} E_{{\\rm inner}_{{\\rm vacuum}_{x}}}\\left(x\\right) + \\frac{\\partial}{\\partial x}E_{{\\rm inner}_{{\\rm vacuum}_{y}}}\\left(x\\right)\\right)} c k_{y}}{\\omega} - \\frac{{\\left(i \\, k_{z} E_{{\\rm inner}_{{\\rm vacuum}_{x}}}\\left(x\\right) - \\frac{\\partial}{\\partial x}E_{{\\rm inner}_{{\\rm vacuum}_{z}}}\\left(x\\right)\\right)} c k_{z}}{\\omega}$"
      ],
      "text/plain": [
       "<IPython.core.display.Math object>"
      ]
     },
     "metadata": {},
     "output_type": "display_data"
    },
    {
     "name": "stdout",
     "output_type": "stream",
     "text": [
      "rot_H_left_conductor_s_x =\n"
     ]
    },
    {
     "data": {
      "text/latex": [
       "$\\displaystyle x \\ {\\mapsto}\\ \\frac{{\\left(-i \\, k_{y} E_{{\\rm left}_{{\\rm conductor}_{x}}}\\left(x\\right) + \\frac{\\partial}{\\partial x}E_{{\\rm left}_{{\\rm conductor}_{y}}}\\left(x\\right)\\right)} c k_{y}}{\\mu_{l} \\omega} - \\frac{{\\left(i \\, k_{z} E_{{\\rm left}_{{\\rm conductor}_{x}}}\\left(x\\right) - \\frac{\\partial}{\\partial x}E_{{\\rm left}_{{\\rm conductor}_{z}}}\\left(x\\right)\\right)} c k_{z}}{\\mu_{l} \\omega}$"
      ],
      "text/plain": [
       "<IPython.core.display.Math object>"
      ]
     },
     "metadata": {},
     "output_type": "display_data"
    },
    {
     "name": "stdout",
     "output_type": "stream",
     "text": [
      "rot_H_right_conductor_s_x =\n"
     ]
    },
    {
     "data": {
      "text/latex": [
       "$\\displaystyle x \\ {\\mapsto}\\ \\frac{{\\left(-i \\, k_{y} E_{{\\rm right}_{{\\rm conductor}_{x}}}\\left(x\\right) + \\frac{\\partial}{\\partial x}E_{{\\rm right}_{{\\rm conductor}_{y}}}\\left(x\\right)\\right)} c k_{y}}{\\mu_{r} \\omega} - \\frac{{\\left(i \\, k_{z} E_{{\\rm right}_{{\\rm conductor}_{x}}}\\left(x\\right) - \\frac{\\partial}{\\partial x}E_{{\\rm right}_{{\\rm conductor}_{z}}}\\left(x\\right)\\right)} c k_{z}}{\\mu_{r} \\omega}$"
      ],
      "text/plain": [
       "<IPython.core.display.Math object>"
      ]
     },
     "metadata": {},
     "output_type": "display_data"
    },
    {
     "name": "stdout",
     "output_type": "stream",
     "text": [
      "rot_H_inner_vacuum_s_y =\n"
     ]
    },
    {
     "data": {
      "text/latex": [
       "$\\displaystyle x \\ {\\mapsto}\\ \\frac{{\\left(-i \\, k_{z} E_{{\\rm inner}_{{\\rm vacuum}_{y}}}\\left(x\\right) + i \\, k_{y} E_{{\\rm inner}_{{\\rm vacuum}_{z}}}\\left(x\\right)\\right)} c k_{z}}{\\omega} + \\frac{i \\, {\\left(-i \\, k_{y} \\frac{\\partial}{\\partial x}E_{{\\rm inner}_{{\\rm vacuum}_{x}}}\\left(x\\right) + \\frac{\\partial^{2}}{(\\partial x)^{2}}E_{{\\rm inner}_{{\\rm vacuum}_{y}}}\\left(x\\right)\\right)} c}{\\omega}$"
      ],
      "text/plain": [
       "<IPython.core.display.Math object>"
      ]
     },
     "metadata": {},
     "output_type": "display_data"
    },
    {
     "name": "stdout",
     "output_type": "stream",
     "text": [
      "rot_H_left_conductor_s_y =\n"
     ]
    },
    {
     "data": {
      "text/latex": [
       "$\\displaystyle x \\ {\\mapsto}\\ \\frac{{\\left(-i \\, k_{z} E_{{\\rm left}_{{\\rm conductor}_{y}}}\\left(x\\right) + i \\, k_{y} E_{{\\rm left}_{{\\rm conductor}_{z}}}\\left(x\\right)\\right)} c k_{z}}{\\mu_{l} \\omega} + \\frac{i \\, {\\left(-i \\, k_{y} \\frac{\\partial}{\\partial x}E_{{\\rm left}_{{\\rm conductor}_{x}}}\\left(x\\right) + \\frac{\\partial^{2}}{(\\partial x)^{2}}E_{{\\rm left}_{{\\rm conductor}_{y}}}\\left(x\\right)\\right)} c}{\\mu_{l} \\omega}$"
      ],
      "text/plain": [
       "<IPython.core.display.Math object>"
      ]
     },
     "metadata": {},
     "output_type": "display_data"
    },
    {
     "name": "stdout",
     "output_type": "stream",
     "text": [
      "rot_H_right_conductor_s_y =\n"
     ]
    },
    {
     "data": {
      "text/latex": [
       "$\\displaystyle x \\ {\\mapsto}\\ \\frac{{\\left(-i \\, k_{z} E_{{\\rm right}_{{\\rm conductor}_{y}}}\\left(x\\right) + i \\, k_{y} E_{{\\rm right}_{{\\rm conductor}_{z}}}\\left(x\\right)\\right)} c k_{z}}{\\mu_{r} \\omega} + \\frac{i \\, {\\left(-i \\, k_{y} \\frac{\\partial}{\\partial x}E_{{\\rm right}_{{\\rm conductor}_{x}}}\\left(x\\right) + \\frac{\\partial^{2}}{(\\partial x)^{2}}E_{{\\rm right}_{{\\rm conductor}_{y}}}\\left(x\\right)\\right)} c}{\\mu_{r} \\omega}$"
      ],
      "text/plain": [
       "<IPython.core.display.Math object>"
      ]
     },
     "metadata": {},
     "output_type": "display_data"
    },
    {
     "name": "stdout",
     "output_type": "stream",
     "text": [
      "rot_H_inner_vacuum_s_z =\n"
     ]
    },
    {
     "data": {
      "text/latex": [
       "$\\displaystyle x \\ {\\mapsto}\\ -\\frac{{\\left(-i \\, k_{z} E_{{\\rm inner}_{{\\rm vacuum}_{y}}}\\left(x\\right) + i \\, k_{y} E_{{\\rm inner}_{{\\rm vacuum}_{z}}}\\left(x\\right)\\right)} c k_{y}}{\\omega} - \\frac{i \\, {\\left(i \\, k_{z} \\frac{\\partial}{\\partial x}E_{{\\rm inner}_{{\\rm vacuum}_{x}}}\\left(x\\right) - \\frac{\\partial^{2}}{(\\partial x)^{2}}E_{{\\rm inner}_{{\\rm vacuum}_{z}}}\\left(x\\right)\\right)} c}{\\omega}$"
      ],
      "text/plain": [
       "<IPython.core.display.Math object>"
      ]
     },
     "metadata": {},
     "output_type": "display_data"
    },
    {
     "name": "stdout",
     "output_type": "stream",
     "text": [
      "rot_H_left_conductor_s_z =\n"
     ]
    },
    {
     "data": {
      "text/latex": [
       "$\\displaystyle x \\ {\\mapsto}\\ -\\frac{{\\left(-i \\, k_{z} E_{{\\rm left}_{{\\rm conductor}_{y}}}\\left(x\\right) + i \\, k_{y} E_{{\\rm left}_{{\\rm conductor}_{z}}}\\left(x\\right)\\right)} c k_{y}}{\\mu_{l} \\omega} - \\frac{i \\, {\\left(i \\, k_{z} \\frac{\\partial}{\\partial x}E_{{\\rm left}_{{\\rm conductor}_{x}}}\\left(x\\right) - \\frac{\\partial^{2}}{(\\partial x)^{2}}E_{{\\rm left}_{{\\rm conductor}_{z}}}\\left(x\\right)\\right)} c}{\\mu_{l} \\omega}$"
      ],
      "text/plain": [
       "<IPython.core.display.Math object>"
      ]
     },
     "metadata": {},
     "output_type": "display_data"
    },
    {
     "name": "stdout",
     "output_type": "stream",
     "text": [
      "rot_H_right_conductor_s_z =\n"
     ]
    },
    {
     "data": {
      "text/latex": [
       "$\\displaystyle x \\ {\\mapsto}\\ -\\frac{{\\left(-i \\, k_{z} E_{{\\rm right}_{{\\rm conductor}_{y}}}\\left(x\\right) + i \\, k_{y} E_{{\\rm right}_{{\\rm conductor}_{z}}}\\left(x\\right)\\right)} c k_{y}}{\\mu_{r} \\omega} - \\frac{i \\, {\\left(i \\, k_{z} \\frac{\\partial}{\\partial x}E_{{\\rm right}_{{\\rm conductor}_{x}}}\\left(x\\right) - \\frac{\\partial^{2}}{(\\partial x)^{2}}E_{{\\rm right}_{{\\rm conductor}_{z}}}\\left(x\\right)\\right)} c}{\\mu_{r} \\omega}$"
      ],
      "text/plain": [
       "<IPython.core.display.Math object>"
      ]
     },
     "metadata": {},
     "output_type": "display_data"
    },
    {
     "name": "stdout",
     "output_type": "stream",
     "text": [
      "rot_H_inner_vacuum_sol_x =\n"
     ]
    },
    {
     "data": {
      "text/latex": [
       "$\\displaystyle \\frac{{\\left(i \\, \\mathit{A2}_{y} K_{\\mathit{vacuum}} e^{\\left(i \\, K_{\\mathit{vacuum}} x\\right)} - i \\, \\mathit{A1}_{y} K_{\\mathit{vacuum}} e^{\\left(-i \\, K_{\\mathit{vacuum}} x\\right)} - i \\, {\\left(\\mathit{A2}_{x} e^{\\left(i \\, K_{\\mathit{vacuum}} x\\right)} + \\mathit{A1}_{x} e^{\\left(-i \\, K_{\\mathit{vacuum}} x\\right)}\\right)} k_{y}\\right)} c k_{y}}{\\omega} - \\frac{{\\left(-i \\, \\mathit{A2}_{z} K_{\\mathit{vacuum}} e^{\\left(i \\, K_{\\mathit{vacuum}} x\\right)} + i \\, \\mathit{A1}_{z} K_{\\mathit{vacuum}} e^{\\left(-i \\, K_{\\mathit{vacuum}} x\\right)} + i \\, {\\left(\\mathit{A2}_{x} e^{\\left(i \\, K_{\\mathit{vacuum}} x\\right)} + \\mathit{A1}_{x} e^{\\left(-i \\, K_{\\mathit{vacuum}} x\\right)}\\right)} k_{z}\\right)} c k_{z}}{\\omega}$"
      ],
      "text/plain": [
       "<IPython.core.display.Math object>"
      ]
     },
     "metadata": {},
     "output_type": "display_data"
    },
    {
     "name": "stdout",
     "output_type": "stream",
     "text": [
      "rot_H_left_conductor_sol_x =\n"
     ]
    },
    {
     "data": {
      "text/latex": [
       "$\\displaystyle \\frac{{\\left(-i \\, \\mathit{B1}_{\\mathit{yl}} K_{\\mathit{left}_{\\mathit{conductor}}} e^{\\left(-i \\, K_{\\mathit{left}_{\\mathit{conductor}}} {\\left(a + x\\right)}\\right)} - i \\, \\mathit{B1}_{\\mathit{xl}} k_{y} e^{\\left(-i \\, K_{\\mathit{left}_{\\mathit{conductor}}} {\\left(a + x\\right)}\\right)}\\right)} c k_{y}}{\\mu_{l} \\omega} - \\frac{{\\left(i \\, \\mathit{B1}_{\\mathit{zl}} K_{\\mathit{left}_{\\mathit{conductor}}} e^{\\left(-i \\, K_{\\mathit{left}_{\\mathit{conductor}}} {\\left(a + x\\right)}\\right)} + i \\, \\mathit{B1}_{\\mathit{xl}} k_{z} e^{\\left(-i \\, K_{\\mathit{left}_{\\mathit{conductor}}} {\\left(a + x\\right)}\\right)}\\right)} c k_{z}}{\\mu_{l} \\omega}$"
      ],
      "text/plain": [
       "<IPython.core.display.Math object>"
      ]
     },
     "metadata": {},
     "output_type": "display_data"
    },
    {
     "name": "stdout",
     "output_type": "stream",
     "text": [
      "rot_H_right_conductor_sol_x =\n"
     ]
    },
    {
     "data": {
      "text/latex": [
       "$\\displaystyle \\frac{{\\left(i \\, \\mathit{B1}_{\\mathit{yr}} K_{\\mathit{right}_{\\mathit{conductor}}} e^{\\left(-i \\, K_{\\mathit{right}_{\\mathit{conductor}}} {\\left(a - x\\right)}\\right)} - i \\, \\mathit{B1}_{\\mathit{xr}} k_{y} e^{\\left(-i \\, K_{\\mathit{right}_{\\mathit{conductor}}} {\\left(a - x\\right)}\\right)}\\right)} c k_{y}}{\\mu_{r} \\omega} - \\frac{{\\left(-i \\, \\mathit{B1}_{\\mathit{zr}} K_{\\mathit{right}_{\\mathit{conductor}}} e^{\\left(-i \\, K_{\\mathit{right}_{\\mathit{conductor}}} {\\left(a - x\\right)}\\right)} + i \\, \\mathit{B1}_{\\mathit{xr}} k_{z} e^{\\left(-i \\, K_{\\mathit{right}_{\\mathit{conductor}}} {\\left(a - x\\right)}\\right)}\\right)} c k_{z}}{\\mu_{r} \\omega}$"
      ],
      "text/plain": [
       "<IPython.core.display.Math object>"
      ]
     },
     "metadata": {},
     "output_type": "display_data"
    },
    {
     "name": "stdout",
     "output_type": "stream",
     "text": [
      "rot_H_inner_vacuum_sol_y =\n"
     ]
    },
    {
     "data": {
      "text/latex": [
       "$\\displaystyle \\frac{{\\left(i \\, {\\left(\\mathit{A2}_{z} e^{\\left(i \\, K_{\\mathit{vacuum}} x\\right)} + \\mathit{A1}_{z} e^{\\left(-i \\, K_{\\mathit{vacuum}} x\\right)}\\right)} k_{y} - i \\, {\\left(\\mathit{A2}_{y} e^{\\left(i \\, K_{\\mathit{vacuum}} x\\right)} + \\mathit{A1}_{y} e^{\\left(-i \\, K_{\\mathit{vacuum}} x\\right)}\\right)} k_{z}\\right)} c k_{z}}{\\omega} - \\frac{i \\, {\\left(\\mathit{A2}_{y} K_{\\mathit{vacuum}}^{2} e^{\\left(i \\, K_{\\mathit{vacuum}} x\\right)} + \\mathit{A1}_{y} K_{\\mathit{vacuum}}^{2} e^{\\left(-i \\, K_{\\mathit{vacuum}} x\\right)} + i \\, {\\left(i \\, \\mathit{A2}_{x} K_{\\mathit{vacuum}} e^{\\left(i \\, K_{\\mathit{vacuum}} x\\right)} - i \\, \\mathit{A1}_{x} K_{\\mathit{vacuum}} e^{\\left(-i \\, K_{\\mathit{vacuum}} x\\right)}\\right)} k_{y}\\right)} c}{\\omega}$"
      ],
      "text/plain": [
       "<IPython.core.display.Math object>"
      ]
     },
     "metadata": {},
     "output_type": "display_data"
    },
    {
     "name": "stdout",
     "output_type": "stream",
     "text": [
      "rot_H_left_conductor_sol_y =\n"
     ]
    },
    {
     "data": {
      "text/latex": [
       "$\\displaystyle \\frac{{\\left(i \\, \\mathit{B1}_{\\mathit{zl}} k_{y} e^{\\left(-i \\, K_{\\mathit{left}_{\\mathit{conductor}}} {\\left(a + x\\right)}\\right)} - i \\, \\mathit{B1}_{\\mathit{yl}} k_{z} e^{\\left(-i \\, K_{\\mathit{left}_{\\mathit{conductor}}} {\\left(a + x\\right)}\\right)}\\right)} c k_{z}}{\\mu_{l} \\omega} - \\frac{i \\, {\\left(\\mathit{B1}_{\\mathit{yl}} K_{\\mathit{left}_{\\mathit{conductor}}}^{2} e^{\\left(-i \\, K_{\\mathit{left}_{\\mathit{conductor}}} {\\left(a + x\\right)}\\right)} + \\mathit{B1}_{\\mathit{xl}} K_{\\mathit{left}_{\\mathit{conductor}}} k_{y} e^{\\left(-i \\, K_{\\mathit{left}_{\\mathit{conductor}}} {\\left(a + x\\right)}\\right)}\\right)} c}{\\mu_{l} \\omega}$"
      ],
      "text/plain": [
       "<IPython.core.display.Math object>"
      ]
     },
     "metadata": {},
     "output_type": "display_data"
    },
    {
     "name": "stdout",
     "output_type": "stream",
     "text": [
      "rot_H_right_conductor_sol_y =\n"
     ]
    },
    {
     "data": {
      "text/latex": [
       "$\\displaystyle \\frac{{\\left(i \\, \\mathit{B1}_{\\mathit{zr}} k_{y} e^{\\left(-i \\, K_{\\mathit{right}_{\\mathit{conductor}}} {\\left(a - x\\right)}\\right)} - i \\, \\mathit{B1}_{\\mathit{yr}} k_{z} e^{\\left(-i \\, K_{\\mathit{right}_{\\mathit{conductor}}} {\\left(a - x\\right)}\\right)}\\right)} c k_{z}}{\\mu_{r} \\omega} - \\frac{i \\, {\\left(\\mathit{B1}_{\\mathit{yr}} K_{\\mathit{right}_{\\mathit{conductor}}}^{2} e^{\\left(-i \\, K_{\\mathit{right}_{\\mathit{conductor}}} {\\left(a - x\\right)}\\right)} - \\mathit{B1}_{\\mathit{xr}} K_{\\mathit{right}_{\\mathit{conductor}}} k_{y} e^{\\left(-i \\, K_{\\mathit{right}_{\\mathit{conductor}}} {\\left(a - x\\right)}\\right)}\\right)} c}{\\mu_{r} \\omega}$"
      ],
      "text/plain": [
       "<IPython.core.display.Math object>"
      ]
     },
     "metadata": {},
     "output_type": "display_data"
    },
    {
     "name": "stdout",
     "output_type": "stream",
     "text": [
      "rot_H_inner_vacuum_sol_z =\n"
     ]
    },
    {
     "data": {
      "text/latex": [
       "$\\displaystyle -\\frac{{\\left(i \\, {\\left(\\mathit{A2}_{z} e^{\\left(i \\, K_{\\mathit{vacuum}} x\\right)} + \\mathit{A1}_{z} e^{\\left(-i \\, K_{\\mathit{vacuum}} x\\right)}\\right)} k_{y} - i \\, {\\left(\\mathit{A2}_{y} e^{\\left(i \\, K_{\\mathit{vacuum}} x\\right)} + \\mathit{A1}_{y} e^{\\left(-i \\, K_{\\mathit{vacuum}} x\\right)}\\right)} k_{z}\\right)} c k_{y}}{\\omega} - \\frac{i \\, {\\left(\\mathit{A2}_{z} K_{\\mathit{vacuum}}^{2} e^{\\left(i \\, K_{\\mathit{vacuum}} x\\right)} + \\mathit{A1}_{z} K_{\\mathit{vacuum}}^{2} e^{\\left(-i \\, K_{\\mathit{vacuum}} x\\right)} + i \\, {\\left(i \\, \\mathit{A2}_{x} K_{\\mathit{vacuum}} e^{\\left(i \\, K_{\\mathit{vacuum}} x\\right)} - i \\, \\mathit{A1}_{x} K_{\\mathit{vacuum}} e^{\\left(-i \\, K_{\\mathit{vacuum}} x\\right)}\\right)} k_{z}\\right)} c}{\\omega}$"
      ],
      "text/plain": [
       "<IPython.core.display.Math object>"
      ]
     },
     "metadata": {},
     "output_type": "display_data"
    },
    {
     "name": "stdout",
     "output_type": "stream",
     "text": [
      "rot_H_left_conductor_sol_z =\n"
     ]
    },
    {
     "data": {
      "text/latex": [
       "$\\displaystyle -\\frac{{\\left(i \\, \\mathit{B1}_{\\mathit{zl}} k_{y} e^{\\left(-i \\, K_{\\mathit{left}_{\\mathit{conductor}}} {\\left(a + x\\right)}\\right)} - i \\, \\mathit{B1}_{\\mathit{yl}} k_{z} e^{\\left(-i \\, K_{\\mathit{left}_{\\mathit{conductor}}} {\\left(a + x\\right)}\\right)}\\right)} c k_{y}}{\\mu_{l} \\omega} - \\frac{i \\, {\\left(\\mathit{B1}_{\\mathit{zl}} K_{\\mathit{left}_{\\mathit{conductor}}}^{2} e^{\\left(-i \\, K_{\\mathit{left}_{\\mathit{conductor}}} {\\left(a + x\\right)}\\right)} + \\mathit{B1}_{\\mathit{xl}} K_{\\mathit{left}_{\\mathit{conductor}}} k_{z} e^{\\left(-i \\, K_{\\mathit{left}_{\\mathit{conductor}}} {\\left(a + x\\right)}\\right)}\\right)} c}{\\mu_{l} \\omega}$"
      ],
      "text/plain": [
       "<IPython.core.display.Math object>"
      ]
     },
     "metadata": {},
     "output_type": "display_data"
    },
    {
     "name": "stdout",
     "output_type": "stream",
     "text": [
      "rot_H_right_conductor_sol_z =\n"
     ]
    },
    {
     "data": {
      "text/latex": [
       "$\\displaystyle -\\frac{{\\left(i \\, \\mathit{B1}_{\\mathit{zr}} k_{y} e^{\\left(-i \\, K_{\\mathit{right}_{\\mathit{conductor}}} {\\left(a - x\\right)}\\right)} - i \\, \\mathit{B1}_{\\mathit{yr}} k_{z} e^{\\left(-i \\, K_{\\mathit{right}_{\\mathit{conductor}}} {\\left(a - x\\right)}\\right)}\\right)} c k_{y}}{\\mu_{r} \\omega} - \\frac{i \\, {\\left(\\mathit{B1}_{\\mathit{zr}} K_{\\mathit{right}_{\\mathit{conductor}}}^{2} e^{\\left(-i \\, K_{\\mathit{right}_{\\mathit{conductor}}} {\\left(a - x\\right)}\\right)} - \\mathit{B1}_{\\mathit{xr}} K_{\\mathit{right}_{\\mathit{conductor}}} k_{z} e^{\\left(-i \\, K_{\\mathit{right}_{\\mathit{conductor}}} {\\left(a - x\\right)}\\right)}\\right)} c}{\\mu_{r} \\omega}$"
      ],
      "text/plain": [
       "<IPython.core.display.Math object>"
      ]
     },
     "metadata": {},
     "output_type": "display_data"
    }
   ],
   "source": [
    "# уравнение Максвелла для тока смещения\n",
    "# rot_H   = - I * epsilon * omega / c * E\n",
    "# rot_H_x = diff(H_z, y) - diff(H_y, z)\n",
    "# rot_H_y = diff(H_x, z) - diff(H_z, x)\n",
    "# rot_H_z = diff(H_y, x) - diff(H_x, y)\n",
    "\n",
    "# rot_H_x = diff(H_z, y) - diff(H_y, z)\n",
    "rot_H_inner_vacuum_x    = I*k_y*H_inner_vacuum_f_z(x)  - I*k_z*H_inner_vacuum_f_y(x)\n",
    "rot_H_left_conductor_x  = I*k_y*H_left_conductor_f_z(x) - I*k_z*H_left_conductor_f_y(x)\n",
    "rot_H_right_conductor_x = I*k_y*H_right_conductor_f_z(x) - I*k_z*H_right_conductor_f_y(x)\n",
    "\n",
    "# rot_H_y = diff(H_x, z) - diff(H_z, x)\n",
    "rot_H_inner_vacuum_y  = I*k_z*H_inner_vacuum_f_x(x)  - diff(H_inner_vacuum_f_z(x), x)\n",
    "rot_H_left_conductor_y = I*k_z*H_left_conductor_f_x(x) - diff(H_left_conductor_f_z(x), x)\n",
    "rot_H_right_conductor_y = I*k_z*H_right_conductor_f_x(x) - diff(H_right_conductor_f_z(x), x)\n",
    "\n",
    "# rot_H_z = diff(H_y, x) - diff(H_x, y)\n",
    "rot_H_inner_vacuum_z    = diff(H_inner_vacuum_f_y(x) , x) - I*k_y*H_inner_vacuum_f_x(x)\n",
    "rot_H_left_conductor_z  = diff(H_left_conductor_f_y(x), x) - I*k_y*H_left_conductor_f_x(x)\n",
    "rot_H_right_conductor_z = diff(H_right_conductor_f_y(x), x) - I*k_y*H_right_conductor_f_x(x)\n",
    "\n",
    "# rot_H_x = diff(H_z, y) - diff(H_y, z)\n",
    "rot_H_inner_vacuum_s_x    = I*k_y*H_inner_vacuum_s_z  - I*k_z*H_inner_vacuum_s_y\n",
    "rot_H_left_conductor_s_x  = I*k_y*H_left_conductor_s_z - I*k_z*H_left_conductor_s_y\n",
    "rot_H_right_conductor_s_x = I*k_y*H_right_conductor_s_z - I*k_z*H_right_conductor_s_y\n",
    "\n",
    "# rot_H_y = diff(H_x, z) - diff(H_z, x)\n",
    "rot_H_inner_vacuum_s_y    = I*k_z*H_inner_vacuum_s_x  - diff(H_inner_vacuum_s_z, x)\n",
    "rot_H_left_conductor_s_y  = I*k_z*H_left_conductor_s_x - diff(H_left_conductor_s_z, x)\n",
    "rot_H_right_conductor_s_y = I*k_z*H_right_conductor_s_x - diff(H_right_conductor_s_z, x)\n",
    "\n",
    "#H_inner_vacuum_s_z(x)  = c / (I*omega)   *(-I*sqrt(kappa_vacuum^2-k^2)*E_inner_vacuum_y (x) - I*k_y*E_inner_vacuum_x (x))\n",
    "#H_bad_conductor_s_z(x) = c / (I*omega*mu)*( I*sqrt(kappa       ^2-k^2)*E_bad_conductor_y(x) - I*k_y*E_bad_conductor_x(x))\n",
    "\n",
    "#print(diff(H_inner_vacuum_s_z, x) \\\n",
    "#      .substitute_function(diff(E_inner_vacuum_y(x), x), - I*sqrt(-k^2 + kappa_vacuum^2) * E_inner_vacuum_y(x)) \\\n",
    "#      .substitute_function(diff(E_inner_vacuum_x(x), x), - I*sqrt(-k^2 + kappa_vacuum^2) * E_inner_vacuum_x(x))) \\\n",
    "\n",
    "#rot_H_inner_vacuum_s_y  = I*k_z*H_inner_vacuum_s_x  - c / (I*omega)*(-I*sqrt(kappa_vacuum^2-k_z^2)*\n",
    "#                                                                     (-I*sqrt(kappa_vacuum^2-k_z^2))*\n",
    "#                                                                             E_inner_vacuum_y (x) \n",
    "#                                                                     - I*k_y*(-I*sqrt(kappa_vacuum^2-k_z^2))*\n",
    "#                                                                             E_inner_vacuum_x (x))\n",
    "#\n",
    "#rot_H_bad_conductor_s_y = I*k_z*H_bad_conductor_s_x - c / (I*omega*mu)*( I*sqrt(kappa^2-k_z^2)*\n",
    "#                                                                         I*sqrt(kappa^2-k_z^2)*\n",
    "#                                                                             E_bad_conductor_y(x) \n",
    "#                                                                       - I*k_y*\n",
    "#                                                                        I*sqrt(kappa^2-k_z^2)*\n",
    "#                                                                        E_bad_conductor_x(x))\n",
    "\n",
    "# rot_H_y = diff(H_x, z) - diff(H_z, x)\n",
    "rot_H_inner_vacuum_s_y  = I*k_z*H_inner_vacuum_s_x  - diff(H_inner_vacuum_s_z, x)\n",
    "rot_H_left_conductor_s_y = I*k_z*H_left_conductor_s_x - diff(H_left_conductor_s_z, x)\n",
    "rot_H_right_conductor_s_y = I*k_z*H_right_conductor_s_x - diff(H_right_conductor_s_z, x)\n",
    "\n",
    "\n",
    "# rot_H_z = diff(H_y, x) - diff(H_x, y)\n",
    "rot_H_inner_vacuum_s_z    = diff(H_inner_vacuum_s_y , x) - I*k_y*H_inner_vacuum_s_x\n",
    "rot_H_left_conductor_s_z  = diff(H_left_conductor_s_y, x) - I*k_y*H_left_conductor_s_x\n",
    "rot_H_right_conductor_s_z = diff(H_right_conductor_s_y, x) - I*k_y*H_right_conductor_s_x\n",
    "\n",
    "rot_H_inner_vacuum_s_z    = diff(H_inner_vacuum_s_y, x)  - I*k_y*H_inner_vacuum_s_x\n",
    "rot_H_left_conductor_s_z  =  diff(H_left_conductor_s_y, x) - I*k_y*H_left_conductor_s_x\n",
    "rot_H_right_conductor_s_z =  diff(H_right_conductor_s_y, x) - I*k_y*H_right_conductor_s_x\n",
    "\n",
    "\n",
    "# sol\n",
    "rot_H_inner_vacuum_sol_x    = I*k_y*H_inner_vacuum_sol_z (x) - I*k_z*H_inner_vacuum_sol_y (x)\n",
    "rot_H_left_conductor_sol_x  = I*k_y*H_left_conductor_sol_z(x) - I*k_z*H_left_conductor_sol_y(x)\n",
    "rot_H_right_conductor_sol_x = I*k_y*H_right_conductor_sol_z(x) - I*k_z*H_right_conductor_sol_y(x)\n",
    "\n",
    "rot_H_inner_vacuum_sol_y    = I*k_z*H_inner_vacuum_sol_x (x) - diff(H_inner_vacuum_sol_z (x), x)\n",
    "rot_H_left_conductor_sol_y  = I*k_z*H_left_conductor_sol_x(x) - diff(H_left_conductor_sol_z(x), x)\n",
    "rot_H_right_conductor_sol_y = I*k_z*H_right_conductor_sol_x(x) - diff(H_right_conductor_sol_z(x), x)\n",
    "\n",
    "rot_H_inner_vacuum_sol_z    = diff(H_inner_vacuum_sol_y (x), x) - I*k_y*H_inner_vacuum_sol_x (x)\n",
    "rot_H_left_conductor_sol_z  = diff(H_left_conductor_sol_y(x), x) - I*k_y*H_left_conductor_sol_x(x)\n",
    "rot_H_right_conductor_sol_z = diff(H_right_conductor_sol_y(x), x) - I*k_y*H_right_conductor_sol_x(x)\n",
    "\n",
    "\n",
    "print (\"rot_H_inner_vacuum_x =\")\n",
    "display(Math(latex(rot_H_inner_vacuum_x)))\n",
    "print (\"rot_H_left_conductor_x =\")\n",
    "display(Math(latex(rot_H_left_conductor_x)))\n",
    "print (\"rot_H_right_conductor_x =\")\n",
    "display(Math(latex(rot_H_right_conductor_x)))\n",
    "\n",
    "print (\"rot_H_inner_vacuum_y =\")\n",
    "display(Math(latex(rot_H_inner_vacuum_y)))\n",
    "print (\"rot_H_left_conductor_y =\")\n",
    "display(Math(latex(rot_H_left_conductor_y)))\n",
    "print (\"rot_H_right_conductor_y =\")\n",
    "display(Math(latex(rot_H_right_conductor_y)))\n",
    "\n",
    "print (\"rot_H_inner_vacuum_z =\")\n",
    "display(Math(latex(rot_H_inner_vacuum_z)))\n",
    "print (\"rot_H_left_conductor_z =\")\n",
    "display(Math(latex(rot_H_left_conductor_z)))\n",
    "print (\"rot_H_right_conductor_z =\")\n",
    "display(Math(latex(rot_H_right_conductor_z)))\n",
    "\n",
    "\n",
    "\n",
    "print (\"rot_H_inner_vacuum_s_x =\")\n",
    "display(Math(latex(rot_H_inner_vacuum_s_x)))\n",
    "print (\"rot_H_left_conductor_s_x =\")\n",
    "display(Math(latex(rot_H_left_conductor_s_x)))\n",
    "print (\"rot_H_right_conductor_s_x =\")\n",
    "display(Math(latex(rot_H_right_conductor_s_x)))\n",
    "\n",
    "print (\"rot_H_inner_vacuum_s_y =\")\n",
    "display(Math(latex(rot_H_inner_vacuum_s_y)))\n",
    "print (\"rot_H_left_conductor_s_y =\")\n",
    "display(Math(latex(rot_H_left_conductor_s_y)))\n",
    "print (\"rot_H_right_conductor_s_y =\")\n",
    "display(Math(latex(rot_H_right_conductor_s_y)))\n",
    "\n",
    "print (\"rot_H_inner_vacuum_s_z =\")\n",
    "display(Math(latex(rot_H_inner_vacuum_s_z)))\n",
    "print (\"rot_H_left_conductor_s_z =\")\n",
    "display(Math(latex(rot_H_left_conductor_s_z)))\n",
    "print (\"rot_H_right_conductor_s_z =\")\n",
    "display(Math(latex(rot_H_right_conductor_s_z)))\n",
    "\n",
    "\n",
    "\n",
    "print (\"rot_H_inner_vacuum_sol_x =\")\n",
    "display(Math(latex(rot_H_inner_vacuum_sol_x)))\n",
    "print (\"rot_H_left_conductor_sol_x =\")\n",
    "display(Math(latex(rot_H_left_conductor_sol_x)))\n",
    "print (\"rot_H_right_conductor_sol_x =\")\n",
    "display(Math(latex(rot_H_right_conductor_sol_x)))\n",
    "\n",
    "print (\"rot_H_inner_vacuum_sol_y =\")\n",
    "display(Math(latex(rot_H_inner_vacuum_sol_y)))\n",
    "print (\"rot_H_left_conductor_sol_y =\")\n",
    "display(Math(latex(rot_H_left_conductor_sol_y)))\n",
    "print (\"rot_H_right_conductor_sol_y =\")\n",
    "display(Math(latex(rot_H_right_conductor_sol_y)))\n",
    "\n",
    "print (\"rot_H_inner_vacuum_sol_z =\")\n",
    "display(Math(latex(rot_H_inner_vacuum_sol_z)))\n",
    "print (\"rot_H_left_conductor_sol_z =\")\n",
    "display(Math(latex(rot_H_left_conductor_sol_z)))\n",
    "print (\"rot_H_right_conductor_sol_z =\")\n",
    "display(Math(latex(rot_H_right_conductor_sol_z)))"
   ]
  },
  {
   "cell_type": "code",
   "execution_count": null,
   "metadata": {},
   "outputs": [],
   "source": []
  },
  {
   "cell_type": "markdown",
   "metadata": {},
   "source": [
    "$$rot\\,\\vec{H} = \\frac{1}{c}\\frac{\\partial \\vec E}{\\partial t} = - \\frac{i\\,\\omega}{c} \\vec{E}$$"
   ]
  },
  {
   "cell_type": "markdown",
   "metadata": {},
   "source": [
    "$$rot\\,\\vec{H} = \\frac{1}{c}\\frac{\\partial \\vec D}{\\partial t} + \\frac{4\\pi}{c} \\vec j = - \\frac{i\\,\\omega}{c} \\epsilon \\vec{E} + \\frac{4\\pi}{c}\\sigma \\vec E$$"
   ]
  },
  {
   "cell_type": "markdown",
   "metadata": {},
   "source": [
    "принимая модель комплексного представления диэлектрической проницаемости $\\epsilon' = \\epsilon + \\frac{4\\pi\\,\\sigma}{\\omega}\\,i$ (плохой проводник)"
   ]
  },
  {
   "cell_type": "markdown",
   "metadata": {},
   "source": [
    "$$rot\\,\\vec{H} = \\frac{1}{c}\\frac{\\partial \\vec D}{\\partial t} + \\frac{4\\pi}{c} \\vec j = - \\frac{i\\,\\omega}{c} \\epsilon \\vec{E} + \\frac{4\\pi}{c}\\sigma \\vec E  = - \\frac{i\\,\\omega}{c} \\epsilon' \\vec{E}$$"
   ]
  },
  {
   "cell_type": "code",
   "execution_count": 23,
   "metadata": {},
   "outputs": [],
   "source": [
    "eq_rot_H_inner_vacuum_sol_x  = rot_H_inner_vacuum_sol_x  == -I*omega/c*E_inner_vacuum_sol_x(x)\n",
    "eq_rot_H_inner_vacuum_sol_y  = rot_H_inner_vacuum_sol_y  == -I*omega/c*E_inner_vacuum_sol_y(x)\n",
    "eq_rot_H_inner_vacuum_sol_z  = rot_H_inner_vacuum_sol_z  == -I*omega/c*E_inner_vacuum_sol_z(x)\n",
    "\n",
    "eq_rot_H_left_conductor_sol_x = rot_H_left_conductor_sol_x == -I*omega/c*epsilon_l_complex*E_left_conductor_sol_x(x)\n",
    "eq_rot_H_left_conductor_sol_y = rot_H_left_conductor_sol_y == -I*omega/c*epsilon_l_complex*E_left_conductor_sol_y(x)\n",
    "eq_rot_H_left_conductor_sol_z = rot_H_left_conductor_sol_z == -I*omega/c*epsilon_l_complex*E_left_conductor_sol_z(x)\n",
    "\n",
    "eq_rot_H_right_conductor_sol_x = rot_H_right_conductor_sol_x == -I*omega/c*epsilon_r_complex*E_right_conductor_sol_x(x)\n",
    "eq_rot_H_right_conductor_sol_y = rot_H_right_conductor_sol_y == -I*omega/c*epsilon_r_complex*E_right_conductor_sol_y(x)\n",
    "eq_rot_H_right_conductor_sol_z = rot_H_right_conductor_sol_z == -I*omega/c*epsilon_r_complex*E_right_conductor_sol_z(x)"
   ]
  },
  {
   "cell_type": "code",
   "execution_count": 24,
   "metadata": {},
   "outputs": [],
   "source": [
    "eq_rot_H_inner_vacuum_s_x  = rot_H_inner_vacuum_s_x  == -I*omega/c*E_inner_vacuum_x(x)\n",
    "eq_rot_H_inner_vacuum_s_y  = rot_H_inner_vacuum_s_y  == -I*omega/c*E_inner_vacuum_y(x)\n",
    "eq_rot_H_inner_vacuum_s_z  = rot_H_inner_vacuum_s_z  == -I*omega/c*E_inner_vacuum_z(x)\n",
    "\n",
    "eq_rot_H_left_conductor_s_x = rot_H_left_conductor_s_x == -I*omega/c*epsilon_l_complex*E_left_conductor_x(x)\n",
    "eq_rot_H_left_conductor_s_y = rot_H_left_conductor_s_y == -I*omega/c*epsilon_l_complex*E_left_conductor_y(x)\n",
    "eq_rot_H_left_conductor_s_z = rot_H_left_conductor_s_z == -I*omega/c*epsilon_l_complex*E_left_conductor_z(x)\n",
    "\n",
    "eq_rot_H_right_conductor_s_x = rot_H_right_conductor_s_x == -I*omega/c*epsilon_r_complex*E_right_conductor_x(x)\n",
    "eq_rot_H_right_conductor_s_y = rot_H_right_conductor_s_y == -I*omega/c*epsilon_r_complex*E_right_conductor_y(x)\n",
    "eq_rot_H_right_conductor_s_z = rot_H_right_conductor_s_z == -I*omega/c*epsilon_r_complex*E_right_conductor_z(x)"
   ]
  },
  {
   "cell_type": "code",
   "execution_count": 25,
   "metadata": {},
   "outputs": [],
   "source": [
    "eq_rot_H_inner_vacuum_x  = rot_H_inner_vacuum_x  == -I*omega/c*E_inner_vacuum_x(x)\n",
    "eq_rot_H_inner_vacuum_y  = rot_H_inner_vacuum_y  == -I*omega/c*E_inner_vacuum_y(x)\n",
    "eq_rot_H_inner_vacuum_z  = rot_H_inner_vacuum_z  == -I*omega/c*E_inner_vacuum_z(x)\n",
    "\n",
    "eq_rot_H_left_conductor_x = rot_H_left_conductor_x == -I*omega/c*epsilon_l_complex*E_left_conductor_x(x)\n",
    "eq_rot_H_left_conductor_y = rot_H_left_conductor_y == -I*omega/c*epsilon_l_complex*E_left_conductor_y(x)\n",
    "eq_rot_H_left_conductor_z = rot_H_left_conductor_z == -I*omega/c*epsilon_l_complex*E_left_conductor_z(x)\n",
    "\n",
    "eq_rot_H_right_conductor_x = rot_H_right_conductor_x == -I*omega/c*epsilon_r_complex*E_right_conductor_x(x)\n",
    "eq_rot_H_right_conductor_y = rot_H_right_conductor_y == -I*omega/c*epsilon_r_complex*E_right_conductor_y(x)\n",
    "eq_rot_H_right_conductor_z = rot_H_right_conductor_z == -I*omega/c*epsilon_r_complex*E_right_conductor_z(x)"
   ]
  },
  {
   "cell_type": "code",
   "execution_count": 26,
   "metadata": {},
   "outputs": [
    {
     "name": "stdout",
     "output_type": "stream",
     "text": [
      "eq_rot_H_inner_vacuum_s_x =\n"
     ]
    },
    {
     "data": {
      "text/latex": [
       "$\\displaystyle x \\ {\\mapsto}\\ \\frac{{\\left(-i \\, k_{y} E_{{\\rm inner}_{{\\rm vacuum}_{x}}}\\left(x\\right) + \\frac{\\partial}{\\partial x}E_{{\\rm inner}_{{\\rm vacuum}_{y}}}\\left(x\\right)\\right)} c k_{y}}{\\omega} - \\frac{{\\left(i \\, k_{z} E_{{\\rm inner}_{{\\rm vacuum}_{x}}}\\left(x\\right) - \\frac{\\partial}{\\partial x}E_{{\\rm inner}_{{\\rm vacuum}_{z}}}\\left(x\\right)\\right)} c k_{z}}{\\omega} = -\\frac{i \\, \\omega E_{{\\rm inner}_{{\\rm vacuum}_{x}}}\\left(x\\right)}{c}$"
      ],
      "text/plain": [
       "<IPython.core.display.Math object>"
      ]
     },
     "metadata": {},
     "output_type": "display_data"
    },
    {
     "name": "stdout",
     "output_type": "stream",
     "text": [
      "eq_rot_H_inner_vacuum_s_y =\n"
     ]
    },
    {
     "data": {
      "text/latex": [
       "$\\displaystyle x \\ {\\mapsto}\\ \\frac{{\\left(-i \\, k_{z} E_{{\\rm inner}_{{\\rm vacuum}_{y}}}\\left(x\\right) + i \\, k_{y} E_{{\\rm inner}_{{\\rm vacuum}_{z}}}\\left(x\\right)\\right)} c k_{z}}{\\omega} + \\frac{i \\, {\\left(-i \\, k_{y} \\frac{\\partial}{\\partial x}E_{{\\rm inner}_{{\\rm vacuum}_{x}}}\\left(x\\right) + \\frac{\\partial^{2}}{(\\partial x)^{2}}E_{{\\rm inner}_{{\\rm vacuum}_{y}}}\\left(x\\right)\\right)} c}{\\omega} = -\\frac{i \\, \\omega E_{{\\rm inner}_{{\\rm vacuum}_{y}}}\\left(x\\right)}{c}$"
      ],
      "text/plain": [
       "<IPython.core.display.Math object>"
      ]
     },
     "metadata": {},
     "output_type": "display_data"
    },
    {
     "name": "stdout",
     "output_type": "stream",
     "text": [
      "eq_rot_H_inner_vacuum_s_z =\n"
     ]
    },
    {
     "data": {
      "text/latex": [
       "$\\displaystyle x \\ {\\mapsto}\\ -\\frac{{\\left(-i \\, k_{z} E_{{\\rm inner}_{{\\rm vacuum}_{y}}}\\left(x\\right) + i \\, k_{y} E_{{\\rm inner}_{{\\rm vacuum}_{z}}}\\left(x\\right)\\right)} c k_{y}}{\\omega} - \\frac{i \\, {\\left(i \\, k_{z} \\frac{\\partial}{\\partial x}E_{{\\rm inner}_{{\\rm vacuum}_{x}}}\\left(x\\right) - \\frac{\\partial^{2}}{(\\partial x)^{2}}E_{{\\rm inner}_{{\\rm vacuum}_{z}}}\\left(x\\right)\\right)} c}{\\omega} = -\\frac{i \\, \\omega E_{{\\rm inner}_{{\\rm vacuum}_{z}}}\\left(x\\right)}{c}$"
      ],
      "text/plain": [
       "<IPython.core.display.Math object>"
      ]
     },
     "metadata": {},
     "output_type": "display_data"
    }
   ],
   "source": [
    "print (\"eq_rot_H_inner_vacuum_s_x =\")\n",
    "display(Math(latex(eq_rot_H_inner_vacuum_s_x.simplify())))\n",
    "\n",
    "print (\"eq_rot_H_inner_vacuum_s_y =\")\n",
    "display(Math(latex(eq_rot_H_inner_vacuum_s_y.simplify())))\n",
    "\n",
    "print (\"eq_rot_H_inner_vacuum_s_z =\")\n",
    "display(Math(latex(eq_rot_H_inner_vacuum_s_z.simplify())))"
   ]
  },
  {
   "cell_type": "code",
   "execution_count": 27,
   "metadata": {},
   "outputs": [
    {
     "name": "stdout",
     "output_type": "stream",
     "text": [
      "eq_rot_H_inner_vacuum_sol_x =\n"
     ]
    },
    {
     "data": {
      "text/latex": [
       "$\\displaystyle \\frac{{\\left(i \\, \\mathit{A2}_{y} K_{\\mathit{vacuum}} e^{\\left(i \\, K_{\\mathit{vacuum}} x\\right)} - i \\, \\mathit{A1}_{y} K_{\\mathit{vacuum}} e^{\\left(-i \\, K_{\\mathit{vacuum}} x\\right)} - i \\, {\\left(\\mathit{A2}_{x} e^{\\left(i \\, K_{\\mathit{vacuum}} x\\right)} + \\mathit{A1}_{x} e^{\\left(-i \\, K_{\\mathit{vacuum}} x\\right)}\\right)} k_{y}\\right)} c k_{y}}{\\omega} - \\frac{{\\left(-i \\, \\mathit{A2}_{z} K_{\\mathit{vacuum}} e^{\\left(i \\, K_{\\mathit{vacuum}} x\\right)} + i \\, \\mathit{A1}_{z} K_{\\mathit{vacuum}} e^{\\left(-i \\, K_{\\mathit{vacuum}} x\\right)} + i \\, {\\left(\\mathit{A2}_{x} e^{\\left(i \\, K_{\\mathit{vacuum}} x\\right)} + \\mathit{A1}_{x} e^{\\left(-i \\, K_{\\mathit{vacuum}} x\\right)}\\right)} k_{z}\\right)} c k_{z}}{\\omega} = -\\frac{i \\, {\\left(\\mathit{A2}_{x} e^{\\left(i \\, K_{\\mathit{vacuum}} x\\right)} + \\mathit{A1}_{x} e^{\\left(-i \\, K_{\\mathit{vacuum}} x\\right)}\\right)} \\omega}{c}$"
      ],
      "text/plain": [
       "<IPython.core.display.Math object>"
      ]
     },
     "metadata": {},
     "output_type": "display_data"
    },
    {
     "name": "stdout",
     "output_type": "stream",
     "text": [
      "eq_rot_H_inner_vacuum_sol_y =\n"
     ]
    },
    {
     "data": {
      "text/latex": [
       "$\\displaystyle \\frac{{\\left(i \\, {\\left(\\mathit{A2}_{z} e^{\\left(i \\, K_{\\mathit{vacuum}} x\\right)} + \\mathit{A1}_{z} e^{\\left(-i \\, K_{\\mathit{vacuum}} x\\right)}\\right)} k_{y} - i \\, {\\left(\\mathit{A2}_{y} e^{\\left(i \\, K_{\\mathit{vacuum}} x\\right)} + \\mathit{A1}_{y} e^{\\left(-i \\, K_{\\mathit{vacuum}} x\\right)}\\right)} k_{z}\\right)} c k_{z}}{\\omega} - \\frac{i \\, {\\left(\\mathit{A2}_{y} K_{\\mathit{vacuum}}^{2} e^{\\left(i \\, K_{\\mathit{vacuum}} x\\right)} + \\mathit{A1}_{y} K_{\\mathit{vacuum}}^{2} e^{\\left(-i \\, K_{\\mathit{vacuum}} x\\right)} + i \\, {\\left(i \\, \\mathit{A2}_{x} K_{\\mathit{vacuum}} e^{\\left(i \\, K_{\\mathit{vacuum}} x\\right)} - i \\, \\mathit{A1}_{x} K_{\\mathit{vacuum}} e^{\\left(-i \\, K_{\\mathit{vacuum}} x\\right)}\\right)} k_{y}\\right)} c}{\\omega} = -\\frac{i \\, {\\left(\\mathit{A2}_{y} e^{\\left(i \\, K_{\\mathit{vacuum}} x\\right)} + \\mathit{A1}_{y} e^{\\left(-i \\, K_{\\mathit{vacuum}} x\\right)}\\right)} \\omega}{c}$"
      ],
      "text/plain": [
       "<IPython.core.display.Math object>"
      ]
     },
     "metadata": {},
     "output_type": "display_data"
    },
    {
     "name": "stdout",
     "output_type": "stream",
     "text": [
      "eq_rot_H_inner_vacuum_sol_z =\n"
     ]
    },
    {
     "data": {
      "text/latex": [
       "$\\displaystyle -\\frac{{\\left(i \\, {\\left(\\mathit{A2}_{z} e^{\\left(i \\, K_{\\mathit{vacuum}} x\\right)} + \\mathit{A1}_{z} e^{\\left(-i \\, K_{\\mathit{vacuum}} x\\right)}\\right)} k_{y} - i \\, {\\left(\\mathit{A2}_{y} e^{\\left(i \\, K_{\\mathit{vacuum}} x\\right)} + \\mathit{A1}_{y} e^{\\left(-i \\, K_{\\mathit{vacuum}} x\\right)}\\right)} k_{z}\\right)} c k_{y}}{\\omega} - \\frac{i \\, {\\left(\\mathit{A2}_{z} K_{\\mathit{vacuum}}^{2} e^{\\left(i \\, K_{\\mathit{vacuum}} x\\right)} + \\mathit{A1}_{z} K_{\\mathit{vacuum}}^{2} e^{\\left(-i \\, K_{\\mathit{vacuum}} x\\right)} + i \\, {\\left(i \\, \\mathit{A2}_{x} K_{\\mathit{vacuum}} e^{\\left(i \\, K_{\\mathit{vacuum}} x\\right)} - i \\, \\mathit{A1}_{x} K_{\\mathit{vacuum}} e^{\\left(-i \\, K_{\\mathit{vacuum}} x\\right)}\\right)} k_{z}\\right)} c}{\\omega} = -\\frac{i \\, {\\left(\\mathit{A2}_{z} e^{\\left(i \\, K_{\\mathit{vacuum}} x\\right)} + \\mathit{A1}_{z} e^{\\left(-i \\, K_{\\mathit{vacuum}} x\\right)}\\right)} \\omega}{c}$"
      ],
      "text/plain": [
       "<IPython.core.display.Math object>"
      ]
     },
     "metadata": {},
     "output_type": "display_data"
    }
   ],
   "source": [
    "print (\"eq_rot_H_inner_vacuum_sol_x =\")\n",
    "display(Math(latex(eq_rot_H_inner_vacuum_sol_x.simplify())))\n",
    "\n",
    "print (\"eq_rot_H_inner_vacuum_sol_y =\")\n",
    "display(Math(latex(eq_rot_H_inner_vacuum_sol_y.simplify())))\n",
    "\n",
    "print (\"eq_rot_H_inner_vacuum_sol_z =\")\n",
    "display(Math(latex(eq_rot_H_inner_vacuum_sol_z.simplify())))"
   ]
  },
  {
   "cell_type": "code",
   "execution_count": null,
   "metadata": {},
   "outputs": [],
   "source": []
  },
  {
   "cell_type": "code",
   "execution_count": 28,
   "metadata": {},
   "outputs": [],
   "source": [
    "# выражения для электрического поля\n",
    "# в вакууме внутри резонатора \n",
    "#    E_inner_vacuum_z (x) = A1_z_re*cos(sqrt(kappa_vacuum^2-k_z^2)*x) + A1_z_im*sin(sqrt(kappa_vacuum^2-k_z^2)*x)\n",
    "#    E_inner_vacuum_x (x) = A1_x_re*cos(sqrt(kappa_vacuum^2-k_z^2)*x) + A1_x_im*sin(sqrt(kappa_vacuum^2-k_z^2)*x)\n",
    "#    E_inner_vacuum_y (x) = A1_y_re*cos(sqrt(kappa_vacuum^2-k_z^2)*x) + A1_y_im*sin(sqrt(kappa_vacuum^2-k_z^2)*x)\n"
   ]
  },
  {
   "cell_type": "code",
   "execution_count": null,
   "metadata": {},
   "outputs": [],
   "source": []
  },
  {
   "cell_type": "code",
   "execution_count": 29,
   "metadata": {},
   "outputs": [
    {
     "name": "stdout",
     "output_type": "stream",
     "text": [
      "eqEz_r = \n"
     ]
    },
    {
     "data": {
      "text/latex": [
       "$\\displaystyle \\mathit{B1}_{\\mathit{zr}} = \\mathit{A2}_{z} e^{\\left(i \\, K_{\\mathit{vacuum}} a\\right)} + \\mathit{A1}_{z} e^{\\left(-i \\, K_{\\mathit{vacuum}} a\\right)}$"
      ],
      "text/plain": [
       "<IPython.core.display.Math object>"
      ]
     },
     "metadata": {},
     "output_type": "display_data"
    },
    {
     "name": "stdout",
     "output_type": "stream",
     "text": [
      "eqEy_r = \n"
     ]
    },
    {
     "data": {
      "text/latex": [
       "$\\displaystyle \\mathit{B1}_{\\mathit{yr}} = \\mathit{A2}_{y} e^{\\left(i \\, K_{\\mathit{vacuum}} a\\right)} + \\mathit{A1}_{y} e^{\\left(-i \\, K_{\\mathit{vacuum}} a\\right)}$"
      ],
      "text/plain": [
       "<IPython.core.display.Math object>"
      ]
     },
     "metadata": {},
     "output_type": "display_data"
    }
   ],
   "source": [
    "# граничные условия на границе вакуума внутри резонатора и проводящего металла с потерями\n",
    "# тангенциальная компонента электрического поля\n",
    "eqEz_r = E_right_conductor_sol_z(a) == E_inner_vacuum_sol_z(a)\n",
    "eqEy_r = E_right_conductor_sol_y(a) == E_inner_vacuum_sol_y(a)\n",
    "\n",
    "print (\"eqEz_r = \")\n",
    "display(Math(latex(eqEz_r)))\n",
    "print (\"eqEy_r = \")\n",
    "display(Math(latex(eqEy_r)))"
   ]
  },
  {
   "cell_type": "code",
   "execution_count": 30,
   "metadata": {},
   "outputs": [
    {
     "name": "stdout",
     "output_type": "stream",
     "text": [
      "eqEz_l = \n"
     ]
    },
    {
     "data": {
      "text/latex": [
       "$\\displaystyle \\mathit{B1}_{\\mathit{zl}} = \\mathit{A1}_{z} e^{\\left(i \\, K_{\\mathit{vacuum}} a\\right)} + \\mathit{A2}_{z} e^{\\left(-i \\, K_{\\mathit{vacuum}} a\\right)}$"
      ],
      "text/plain": [
       "<IPython.core.display.Math object>"
      ]
     },
     "metadata": {},
     "output_type": "display_data"
    },
    {
     "name": "stdout",
     "output_type": "stream",
     "text": [
      "eqEy_l = \n"
     ]
    },
    {
     "data": {
      "text/latex": [
       "$\\displaystyle \\mathit{B1}_{\\mathit{yl}} = \\mathit{A1}_{y} e^{\\left(i \\, K_{\\mathit{vacuum}} a\\right)} + \\mathit{A2}_{y} e^{\\left(-i \\, K_{\\mathit{vacuum}} a\\right)}$"
      ],
      "text/plain": [
       "<IPython.core.display.Math object>"
      ]
     },
     "metadata": {},
     "output_type": "display_data"
    }
   ],
   "source": [
    "# граничные условия на границе вакуума внутри резонатора и проводящего металла с потерями\n",
    "# тангенциальная компонента электрического поля\n",
    "eqEz_l = E_left_conductor_sol_z(-a) == E_inner_vacuum_sol_z(-a)\n",
    "eqEy_l = E_left_conductor_sol_y(-a) == E_inner_vacuum_sol_y(-a)\n",
    "\n",
    "print (\"eqEz_l = \")\n",
    "display(Math(latex(eqEz_l)))\n",
    "print (\"eqEy_l = \")\n",
    "display(Math(latex(eqEy_l)))"
   ]
  },
  {
   "cell_type": "raw",
   "metadata": {},
   "source": [
    "# нормальная компонента электрического смещения\n",
    "eqDx_a = E_inner_vacuum_sol_x(0) == E_bad_conductor_sol_x(0) * epsilon_complex\n",
    "\n",
    "print (\"eqDx_a =\")\n",
    "display(Math(latex(eqDx_a)))"
   ]
  },
  {
   "cell_type": "code",
   "execution_count": 31,
   "metadata": {},
   "outputs": [
    {
     "name": "stdout",
     "output_type": "stream",
     "text": [
      "eqHz_l =\n"
     ]
    },
    {
     "data": {
      "text/latex": [
       "$\\displaystyle -\\frac{i \\, {\\left(-i \\, \\mathit{B1}_{\\mathit{yl}} K_{\\mathit{left}_{\\mathit{conductor}}} - i \\, \\mathit{B1}_{\\mathit{xl}} k_{y}\\right)} c}{\\mu_{l} \\omega} = -\\frac{i \\, {\\left(-i \\, \\mathit{A1}_{y} K_{\\mathit{vacuum}} e^{\\left(i \\, K_{\\mathit{vacuum}} a\\right)} + i \\, \\mathit{A2}_{y} K_{\\mathit{vacuum}} e^{\\left(-i \\, K_{\\mathit{vacuum}} a\\right)} - i \\, {\\left(\\mathit{A1}_{x} e^{\\left(i \\, K_{\\mathit{vacuum}} a\\right)} + \\mathit{A2}_{x} e^{\\left(-i \\, K_{\\mathit{vacuum}} a\\right)}\\right)} k_{y}\\right)} c}{\\omega}$"
      ],
      "text/plain": [
       "<IPython.core.display.Math object>"
      ]
     },
     "metadata": {},
     "output_type": "display_data"
    },
    {
     "name": "stdout",
     "output_type": "stream",
     "text": [
      "eqHy_l =\n"
     ]
    },
    {
     "data": {
      "text/latex": [
       "$\\displaystyle -\\frac{i \\, {\\left(i \\, \\mathit{B1}_{\\mathit{zl}} K_{\\mathit{left}_{\\mathit{conductor}}} + i \\, \\mathit{B1}_{\\mathit{xl}} k_{z}\\right)} c}{\\mu_{l} \\omega} = -\\frac{i \\, {\\left(i \\, \\mathit{A1}_{z} K_{\\mathit{vacuum}} e^{\\left(i \\, K_{\\mathit{vacuum}} a\\right)} - i \\, \\mathit{A2}_{z} K_{\\mathit{vacuum}} e^{\\left(-i \\, K_{\\mathit{vacuum}} a\\right)} + i \\, {\\left(\\mathit{A1}_{x} e^{\\left(i \\, K_{\\mathit{vacuum}} a\\right)} + \\mathit{A2}_{x} e^{\\left(-i \\, K_{\\mathit{vacuum}} a\\right)}\\right)} k_{z}\\right)} c}{\\omega}$"
      ],
      "text/plain": [
       "<IPython.core.display.Math object>"
      ]
     },
     "metadata": {},
     "output_type": "display_data"
    }
   ],
   "source": [
    "# тангенциальная компонента напряженности магнитного поля\n",
    "eqHz_l  = (H_left_conductor_sol_z(-a)  == H_inner_vacuum_sol_z(-a))\n",
    "eqHy_l  = (H_left_conductor_sol_y(-a)  == H_inner_vacuum_sol_y(-a))\n",
    "\n",
    "print (\"eqHz_l =\")\n",
    "display(Math(latex(eqHz_l)))\n",
    "print (\"eqHy_l =\")\n",
    "display(Math(latex(eqHy_l)))"
   ]
  },
  {
   "cell_type": "code",
   "execution_count": 32,
   "metadata": {},
   "outputs": [
    {
     "name": "stdout",
     "output_type": "stream",
     "text": [
      "eqHz_r =\n"
     ]
    },
    {
     "data": {
      "text/latex": [
       "$\\displaystyle -\\frac{i \\, {\\left(i \\, \\mathit{B1}_{\\mathit{yr}} K_{\\mathit{right}_{\\mathit{conductor}}} - i \\, \\mathit{B1}_{\\mathit{xr}} k_{y}\\right)} c}{\\mu_{r} \\omega} = -\\frac{i \\, {\\left(i \\, \\mathit{A2}_{y} K_{\\mathit{vacuum}} e^{\\left(i \\, K_{\\mathit{vacuum}} a\\right)} - i \\, \\mathit{A1}_{y} K_{\\mathit{vacuum}} e^{\\left(-i \\, K_{\\mathit{vacuum}} a\\right)} - i \\, {\\left(\\mathit{A2}_{x} e^{\\left(i \\, K_{\\mathit{vacuum}} a\\right)} + \\mathit{A1}_{x} e^{\\left(-i \\, K_{\\mathit{vacuum}} a\\right)}\\right)} k_{y}\\right)} c}{\\omega}$"
      ],
      "text/plain": [
       "<IPython.core.display.Math object>"
      ]
     },
     "metadata": {},
     "output_type": "display_data"
    },
    {
     "name": "stdout",
     "output_type": "stream",
     "text": [
      "eqHy_r =\n"
     ]
    },
    {
     "data": {
      "text/latex": [
       "$\\displaystyle -\\frac{i \\, {\\left(-i \\, \\mathit{B1}_{\\mathit{zr}} K_{\\mathit{right}_{\\mathit{conductor}}} + i \\, \\mathit{B1}_{\\mathit{xr}} k_{z}\\right)} c}{\\mu_{r} \\omega} = -\\frac{i \\, {\\left(-i \\, \\mathit{A2}_{z} K_{\\mathit{vacuum}} e^{\\left(i \\, K_{\\mathit{vacuum}} a\\right)} + i \\, \\mathit{A1}_{z} K_{\\mathit{vacuum}} e^{\\left(-i \\, K_{\\mathit{vacuum}} a\\right)} + i \\, {\\left(\\mathit{A2}_{x} e^{\\left(i \\, K_{\\mathit{vacuum}} a\\right)} + \\mathit{A1}_{x} e^{\\left(-i \\, K_{\\mathit{vacuum}} a\\right)}\\right)} k_{z}\\right)} c}{\\omega}$"
      ],
      "text/plain": [
       "<IPython.core.display.Math object>"
      ]
     },
     "metadata": {},
     "output_type": "display_data"
    }
   ],
   "source": [
    "# тангенциальная компонента напряженности магнитного поля\n",
    "eqHz_r  = (H_right_conductor_sol_z(a)  == H_inner_vacuum_sol_z(a))\n",
    "eqHy_r  = (H_right_conductor_sol_y(a)  == H_inner_vacuum_sol_y(a))\n",
    "\n",
    "print (\"eqHz_r =\")\n",
    "display(Math(latex(eqHz_r)))\n",
    "print (\"eqHy_r =\")\n",
    "display(Math(latex(eqHy_r)))"
   ]
  },
  {
   "cell_type": "code",
   "execution_count": 33,
   "metadata": {},
   "outputs": [
    {
     "data": {
      "text/plain": [
       "[k_y == 0]"
      ]
     },
     "execution_count": 33,
     "metadata": {},
     "output_type": "execute_result"
    }
   ],
   "source": [
    "# отсутсвие изменения поля вдоль оси y\n",
    "k_y0_subs = [k_y == 0]\n",
    "\n",
    "#            A1_y_im == 0, \\\n",
    "#            A1_y_re == 0, \\\n",
    "#            A2_y_im == 0, \\\n",
    "#            A2_y_re == 0]\n",
    "k_y0_subs"
   ]
  },
  {
   "cell_type": "code",
   "execution_count": 34,
   "metadata": {},
   "outputs": [
    {
     "name": "stdout",
     "output_type": "stream",
     "text": [
      "eqBx_l =\n"
     ]
    },
    {
     "data": {
      "text/latex": [
       "$\\displaystyle -\\frac{i \\, {\\left(i \\, \\mathit{B1}_{\\mathit{zl}} k_{y} - i \\, \\mathit{B1}_{\\mathit{yl}} k_{z}\\right)} c}{\\omega} = -\\frac{i \\, {\\left(i \\, {\\left(\\mathit{A1}_{z} e^{\\left(i \\, K_{\\mathit{vacuum}} a\\right)} + \\mathit{A2}_{z} e^{\\left(-i \\, K_{\\mathit{vacuum}} a\\right)}\\right)} k_{y} - i \\, {\\left(\\mathit{A1}_{y} e^{\\left(i \\, K_{\\mathit{vacuum}} a\\right)} + \\mathit{A2}_{y} e^{\\left(-i \\, K_{\\mathit{vacuum}} a\\right)}\\right)} k_{z}\\right)} c}{\\omega}$"
      ],
      "text/plain": [
       "<IPython.core.display.Math object>"
      ]
     },
     "metadata": {},
     "output_type": "display_data"
    }
   ],
   "source": [
    "# нормальная компонента индукции магнитного поля\n",
    "eqBx_l  = mu_l * H_left_conductor_sol_x (-a)  == H_inner_vacuum_sol_x (-a)\n",
    "\n",
    "print (\"eqBx_l =\")\n",
    "display(Math(latex(eqBx_l)))"
   ]
  },
  {
   "cell_type": "code",
   "execution_count": 35,
   "metadata": {},
   "outputs": [
    {
     "name": "stdout",
     "output_type": "stream",
     "text": [
      "eqBx_l =\n"
     ]
    },
    {
     "data": {
      "text/latex": [
       "$\\displaystyle -\\frac{\\mathit{B1}_{\\mathit{yl}} c k_{z}}{\\omega} = -\\frac{{\\left(\\mathit{A1}_{y} e^{\\left(i \\, K_{\\mathit{vacuum}} a\\right)} + \\mathit{A2}_{y} e^{\\left(-i \\, K_{\\mathit{vacuum}} a\\right)}\\right)} c k_{z}}{\\omega}$"
      ],
      "text/plain": [
       "<IPython.core.display.Math object>"
      ]
     },
     "metadata": {},
     "output_type": "display_data"
    }
   ],
   "source": [
    "# отсутствие изменения поля вдоль оси y\n",
    "eqBx_l  = eqBx_l.subs(k_y0_subs)\n",
    "\n",
    "print (\"eqBx_l =\")\n",
    "display(Math(latex(eqBx_l)))"
   ]
  },
  {
   "cell_type": "code",
   "execution_count": 36,
   "metadata": {},
   "outputs": [
    {
     "name": "stdout",
     "output_type": "stream",
     "text": [
      "eqBx_r =\n"
     ]
    },
    {
     "data": {
      "text/latex": [
       "$\\displaystyle -\\frac{i \\, {\\left(i \\, \\mathit{B1}_{\\mathit{zr}} k_{y} - i \\, \\mathit{B1}_{\\mathit{yr}} k_{z}\\right)} c}{\\omega} = -\\frac{i \\, {\\left(i \\, {\\left(\\mathit{A2}_{z} e^{\\left(i \\, K_{\\mathit{vacuum}} a\\right)} + \\mathit{A1}_{z} e^{\\left(-i \\, K_{\\mathit{vacuum}} a\\right)}\\right)} k_{y} - i \\, {\\left(\\mathit{A2}_{y} e^{\\left(i \\, K_{\\mathit{vacuum}} a\\right)} + \\mathit{A1}_{y} e^{\\left(-i \\, K_{\\mathit{vacuum}} a\\right)}\\right)} k_{z}\\right)} c}{\\omega}$"
      ],
      "text/plain": [
       "<IPython.core.display.Math object>"
      ]
     },
     "metadata": {},
     "output_type": "display_data"
    }
   ],
   "source": [
    "# нормальная компонента индукции магнитного поля\n",
    "eqBx_r  = mu_r * H_right_conductor_sol_x (a)  == H_inner_vacuum_sol_x (a)\n",
    "\n",
    "print (\"eqBx_r =\")\n",
    "display(Math(latex(eqBx_r)))"
   ]
  },
  {
   "cell_type": "code",
   "execution_count": 37,
   "metadata": {},
   "outputs": [
    {
     "name": "stdout",
     "output_type": "stream",
     "text": [
      "eqBx_r =\n"
     ]
    },
    {
     "data": {
      "text/latex": [
       "$\\displaystyle -\\frac{\\mathit{B1}_{\\mathit{yr}} c k_{z}}{\\omega} = -\\frac{{\\left(\\mathit{A2}_{y} e^{\\left(i \\, K_{\\mathit{vacuum}} a\\right)} + \\mathit{A1}_{y} e^{\\left(-i \\, K_{\\mathit{vacuum}} a\\right)}\\right)} c k_{z}}{\\omega}$"
      ],
      "text/plain": [
       "<IPython.core.display.Math object>"
      ]
     },
     "metadata": {},
     "output_type": "display_data"
    }
   ],
   "source": [
    "# отсутствие изменения поля вдоль оси y\n",
    "eqBx_r  = eqBx_r.subs(k_y0_subs)\n",
    "\n",
    "print (\"eqBx_r =\")\n",
    "display(Math(latex(eqBx_r)))"
   ]
  },
  {
   "cell_type": "markdown",
   "metadata": {},
   "source": [
    "$$rot\\,\\vec{H} = \\frac{1}{c}\\frac{\\partial \\vec E}{\\partial t} = - \\frac{i\\,\\omega}{c} \\vec{E} = - i\\,\\kappa \\vec{E}$$"
   ]
  },
  {
   "cell_type": "code",
   "execution_count": 38,
   "metadata": {},
   "outputs": [
    {
     "data": {
      "text/latex": [
       "$\\displaystyle i \\, k_{z} H_{{\\rm inner}_{{\\rm vacuum}_{f_{x}}}}\\left(x\\right) - \\frac{\\partial}{\\partial x}H_{{\\rm inner}_{{\\rm vacuum}_{f_{z}}}}\\left(x\\right) = -\\frac{i \\, \\omega E_{{\\rm inner}_{{\\rm vacuum}_{y}}}\\left(x\\right)}{c}$"
      ],
      "text/plain": [
       "<IPython.core.display.Math object>"
      ]
     },
     "metadata": {},
     "output_type": "display_data"
    },
    {
     "data": {
      "text/latex": [
       "$\\displaystyle \\kappa_{\\mathit{vacuum}} E_{{\\rm inner}_{{\\rm vacuum}_{y}}}\\left(x\\right) = -k_{z} H_{{\\rm inner}_{{\\rm vacuum}_{f_{x}}}}\\left(x\\right) - i \\, \\frac{\\partial}{\\partial x}H_{{\\rm inner}_{{\\rm vacuum}_{f_{z}}}}\\left(x\\right)$"
      ],
      "text/plain": [
       "<IPython.core.display.Math object>"
      ]
     },
     "metadata": {},
     "output_type": "display_data"
    },
    {
     "data": {
      "text/latex": [
       "$\\displaystyle H_{{\\rm inner}_{{\\rm vacuum}_{f_{x}}}}\\left(x\\right) = -\\frac{i \\, {\\left(-i \\, k_{z} E_{{\\rm inner}_{{\\rm vacuum}_{y}}}\\left(x\\right) + i \\, k_{y} E_{{\\rm inner}_{{\\rm vacuum}_{z}}}\\left(x\\right)\\right)} c}{\\omega}$"
      ],
      "text/plain": [
       "<IPython.core.display.Math object>"
      ]
     },
     "metadata": {},
     "output_type": "display_data"
    }
   ],
   "source": [
    "eq_rot_H_inner_vacuum_y_subs       = eq_rot_H_inner_vacuum_y.subs(omega==c*kappa_vacuum/sqrt(epsilon_0*mu_0))\n",
    "display(Math(latex(eq_rot_H_inner_vacuum_y)))\n",
    "\n",
    "eq_rot_H_inner_vacuum_y_subs_solve = solve(eq_rot_H_inner_vacuum_y_subs, E_inner_vacuum_y(x))[0] * kappa_vacuum\n",
    "display(Math(latex(eq_rot_H_inner_vacuum_y_subs_solve)))\n",
    "\n",
    "eq_rot_E_inner_vacuum_x = H_inner_vacuum_f_x(x) == H_inner_vacuum_s_x(x)\n",
    "display(Math(latex(eq_rot_E_inner_vacuum_x)))"
   ]
  },
  {
   "cell_type": "markdown",
   "metadata": {},
   "source": [
    "$$rot\\,\\vec{E} = \\mu\\,\\frac{i\\,\\omega}{c}\\,\\vec{H}$$"
   ]
  },
  {
   "cell_type": "code",
   "execution_count": 39,
   "metadata": {},
   "outputs": [
    {
     "data": {
      "text/latex": [
       "$\\displaystyle \\kappa_{\\mathit{vacuum}} H_{{\\rm inner}_{{\\rm vacuum}_{f_{x}}}}\\left(x\\right) = -k_{z} E_{{\\rm inner}_{{\\rm vacuum}_{y}}}\\left(x\\right) + k_{y} E_{{\\rm inner}_{{\\rm vacuum}_{z}}}\\left(x\\right)$"
      ],
      "text/plain": [
       "<IPython.core.display.Math object>"
      ]
     },
     "metadata": {},
     "output_type": "display_data"
    }
   ],
   "source": [
    "eq_rot_E_inner_vacuum_x_subs \\\n",
    "    = eq_rot_E_inner_vacuum_x.subs(omega==c*kappa_vacuum/sqrt(epsilon_0*mu_0)) * kappa_vacuum\n",
    "display(Math(latex(eq_rot_E_inner_vacuum_x_subs)))"
   ]
  },
  {
   "cell_type": "code",
   "execution_count": 40,
   "metadata": {},
   "outputs": [
    {
     "data": {
      "text/latex": [
       "$\\displaystyle \\kappa_{\\mathit{vacuum}} E_{{\\rm inner}_{{\\rm vacuum}_{y}}}\\left(x\\right) + k_{z} H_{{\\rm inner}_{{\\rm vacuum}_{f_{x}}}}\\left(x\\right) = -i \\, \\frac{\\partial}{\\partial x}H_{{\\rm inner}_{{\\rm vacuum}_{f_{z}}}}\\left(x\\right)$"
      ],
      "text/plain": [
       "<IPython.core.display.Math object>"
      ]
     },
     "metadata": {},
     "output_type": "display_data"
    }
   ],
   "source": [
    "eq_rot_H_inner_vacuum_y_subs_solve_m \\\n",
    "    =  eq_rot_H_inner_vacuum_y_subs_solve.lhs() \\\n",
    "    -  eq_rot_H_inner_vacuum_y_subs_solve.rhs().expand().operands()[0] \\\n",
    "    == eq_rot_H_inner_vacuum_y_subs_solve.rhs().expand().operands()[1]\n",
    "display(Math(latex(eq_rot_H_inner_vacuum_y_subs_solve_m)))"
   ]
  },
  {
   "cell_type": "code",
   "execution_count": 41,
   "metadata": {},
   "outputs": [
    {
     "data": {
      "text/latex": [
       "$\\displaystyle k_{z} E_{{\\rm inner}_{{\\rm vacuum}_{y}}}\\left(x\\right) + \\kappa_{\\mathit{vacuum}} H_{{\\rm inner}_{{\\rm vacuum}_{f_{x}}}}\\left(x\\right) = k_{y} E_{{\\rm inner}_{{\\rm vacuum}_{z}}}\\left(x\\right)$"
      ],
      "text/plain": [
       "<IPython.core.display.Math object>"
      ]
     },
     "metadata": {},
     "output_type": "display_data"
    }
   ],
   "source": [
    "eq_rot_E_inner_vacuum_x_subs_m \\\n",
    "    =  eq_rot_E_inner_vacuum_x_subs.lhs() \\\n",
    "    -  eq_rot_E_inner_vacuum_x_subs.rhs().expand().operands()[0] \\\n",
    "    == eq_rot_E_inner_vacuum_x_subs.rhs().expand().operands()[1]\n",
    "display(Math(latex(eq_rot_E_inner_vacuum_x_subs_m)))"
   ]
  },
  {
   "cell_type": "code",
   "execution_count": 42,
   "metadata": {},
   "outputs": [
    {
     "name": "stdout",
     "output_type": "stream",
     "text": [
      "eq_1 =\n"
     ]
    },
    {
     "data": {
      "text/latex": [
       "$\\displaystyle -{\\left(k_{z}^{2} - \\kappa_{\\mathit{vacuum}}^{2}\\right)} E_{{\\rm inner}_{{\\rm vacuum}_{y}}}\\left(x\\right) = -k_{y} k_{z} E_{{\\rm inner}_{{\\rm vacuum}_{z}}}\\left(x\\right) - i \\, \\kappa_{\\mathit{vacuum}} \\frac{\\partial}{\\partial x}H_{{\\rm inner}_{{\\rm vacuum}_{f_{z}}}}\\left(x\\right)$"
      ],
      "text/plain": [
       "<IPython.core.display.Math object>"
      ]
     },
     "metadata": {},
     "output_type": "display_data"
    },
    {
     "name": "stdout",
     "output_type": "stream",
     "text": [
      "eq_2 =\n"
     ]
    },
    {
     "data": {
      "text/latex": [
       "$\\displaystyle {\\left(k_{z}^{2} - \\kappa_{\\mathit{vacuum}}^{2}\\right)} H_{{\\rm inner}_{{\\rm vacuum}_{f_{x}}}}\\left(x\\right) = -k_{y} \\kappa_{\\mathit{vacuum}} E_{{\\rm inner}_{{\\rm vacuum}_{z}}}\\left(x\\right) - i \\, k_{z} \\frac{\\partial}{\\partial x}H_{{\\rm inner}_{{\\rm vacuum}_{f_{z}}}}\\left(x\\right)$"
      ],
      "text/plain": [
       "<IPython.core.display.Math object>"
      ]
     },
     "metadata": {},
     "output_type": "display_data"
    }
   ],
   "source": [
    "eq_1 = (eq_rot_H_inner_vacuum_y_subs_solve_m*kappa_vacuum - eq_rot_E_inner_vacuum_x_subs_m*k_z).full_simplify()\n",
    "print (\"eq_1 =\")\n",
    "display(Math(latex(eq_1)))\n",
    "\n",
    "eq_2 = (eq_rot_H_inner_vacuum_y_subs_solve_m*k_z - eq_rot_E_inner_vacuum_x_subs_m*kappa_vacuum).full_simplify()\n",
    "print (\"eq_2 =\")\n",
    "display(Math(latex(eq_2)))"
   ]
  },
  {
   "cell_type": "raw",
   "metadata": {},
   "source": [
    "eq_rot_H_bad_conductor_y_subs       = eq_rot_H_bad_conductor_y.subs(omega==c*kappa/sqrt(epsilon*mu))\n",
    "print (\"eq_rot_H_bad_conductor_y rot_H = epsilon*d/dt(E_y) =\")\n",
    "print(eq_rot_H_bad_conductor_y)\n",
    "display(Math(latex(eq_rot_H_bad_conductor_y)))\n",
    "\n",
    "eq_rot_H_bad_conductor_y_subs_solve = solve(eq_rot_H_bad_conductor_y_subs, E_bad_conductor_y(x))[0] * kappa\n",
    "print (\"eq_rot_H_bad_conductor_y_subs_solve rot H = epsilon*d/dt(E_y) =\")\n",
    "print(eq_rot_H_bad_conductor_y_subs_solve)\n",
    "display(Math(latex(eq_rot_H_bad_conductor_y_subs_solve)))\n",
    "\n",
    "eq_rot_E_bad_conductor_x = H_bad_conductor_f_x(x) == H_bad_conductor_s_x(x)\n",
    "eq_rot_E_bad_conductor_x_subs = eq_rot_E_bad_conductor_x.subs(omega==c*kappa/sqrt(epsilon*mu)) * kappa\n",
    "print (\"eq_rot_E_bad_conductor_x_subs (x) rot E =\")\n",
    "print             (eq_rot_E_bad_conductor_x_subs)\n",
    "display(Math(latex(eq_rot_E_bad_conductor_x_subs)))\n",
    "\n",
    "eq_rot_H_bad_conductor_y_subs_solve_m \\\n",
    "    =  eq_rot_H_bad_conductor_y_subs_solve.lhs() \\\n",
    "    -  eq_rot_H_bad_conductor_y_subs_solve.rhs().expand().operands()[0] \\\n",
    "    == eq_rot_H_bad_conductor_y_subs_solve.rhs().expand().operands()[1]\n",
    "print (\"eq_rot_H_bad_conductor_y_subs_solve_m =\")\n",
    "print             (eq_rot_H_bad_conductor_y_subs_solve_m)\n",
    "display(Math(latex(eq_rot_H_bad_conductor_y_subs_solve_m)))\n",
    "\n",
    "eq_rot_E_bad_conductor_x_subs_m \\\n",
    "    =  eq_rot_E_bad_conductor_x_subs.lhs() \\\n",
    "    -  eq_rot_E_bad_conductor_x_subs.rhs().expand().operands()[0] \\\n",
    "    == eq_rot_E_bad_conductor_x_subs.rhs().expand().operands()[1]\n",
    "print (\"eq_rot_E_bad_conductor_x_subs_m =\")\n",
    "print             (eq_rot_E_bad_conductor_x_subs_m)\n",
    "display(Math(latex(eq_rot_E_bad_conductor_x_subs_m)))\n",
    "\n",
    "m3 = k_z*sqrt(mu)/sqrt(epsilon)\n",
    "m4 = sqrt(mu)*kappa/sqrt(epsilon)\n",
    "\n",
    "eq_3 = (eq_rot_H_bad_conductor_y_subs_solve_m*kappa - eq_rot_E_bad_conductor_x_subs_m * m3).full_simplify()\n",
    "print (\"eq_3 =\")\n",
    "print             (eq_3)\n",
    "display(Math(latex(eq_3)))\n",
    "\n",
    "eq_4 = (eq_rot_H_bad_conductor_y_subs_solve_m*k_z - eq_rot_E_bad_conductor_x_subs_m * m4).full_simplify()\n",
    "print (\"eq_4 =\")\n",
    "print             (eq_4)\n",
    "display(Math(latex(eq_4)))"
   ]
  },
  {
   "cell_type": "code",
   "execution_count": null,
   "metadata": {},
   "outputs": [],
   "source": []
  },
  {
   "cell_type": "code",
   "execution_count": 43,
   "metadata": {},
   "outputs": [
    {
     "data": {
      "text/latex": [
       "$\\displaystyle -i \\, k_{z} H_{{\\rm inner}_{{\\rm vacuum}_{f_{y}}}}\\left(x\\right) + i \\, k_{y} H_{{\\rm inner}_{{\\rm vacuum}_{f_{z}}}}\\left(x\\right) = -\\frac{i \\, \\omega E_{{\\rm inner}_{{\\rm vacuum}_{x}}}\\left(x\\right)}{c}$"
      ],
      "text/plain": [
       "<IPython.core.display.Math object>"
      ]
     },
     "metadata": {},
     "output_type": "display_data"
    },
    {
     "data": {
      "text/latex": [
       "$\\displaystyle \\kappa_{\\mathit{vacuum}} E_{{\\rm inner}_{{\\rm vacuum}_{x}}}\\left(x\\right) = k_{z} H_{{\\rm inner}_{{\\rm vacuum}_{f_{y}}}}\\left(x\\right) - k_{y} H_{{\\rm inner}_{{\\rm vacuum}_{f_{z}}}}\\left(x\\right)$"
      ],
      "text/plain": [
       "<IPython.core.display.Math object>"
      ]
     },
     "metadata": {},
     "output_type": "display_data"
    },
    {
     "data": {
      "text/latex": [
       "$\\displaystyle H_{{\\rm inner}_{{\\rm vacuum}_{f_{y}}}}\\left(x\\right) = -\\frac{i \\, {\\left(i \\, k_{z} E_{{\\rm inner}_{{\\rm vacuum}_{x}}}\\left(x\\right) - \\frac{\\partial}{\\partial x}E_{{\\rm inner}_{{\\rm vacuum}_{z}}}\\left(x\\right)\\right)} c}{\\omega}$"
      ],
      "text/plain": [
       "<IPython.core.display.Math object>"
      ]
     },
     "metadata": {},
     "output_type": "display_data"
    },
    {
     "data": {
      "text/latex": [
       "$\\displaystyle \\kappa_{\\mathit{vacuum}} H_{{\\rm inner}_{{\\rm vacuum}_{f_{y}}}}\\left(x\\right) = k_{z} E_{{\\rm inner}_{{\\rm vacuum}_{x}}}\\left(x\\right) + i \\, \\frac{\\partial}{\\partial x}E_{{\\rm inner}_{{\\rm vacuum}_{z}}}\\left(x\\right)$"
      ],
      "text/plain": [
       "<IPython.core.display.Math object>"
      ]
     },
     "metadata": {},
     "output_type": "display_data"
    },
    {
     "data": {
      "text/latex": [
       "$\\displaystyle \\kappa_{\\mathit{vacuum}} E_{{\\rm inner}_{{\\rm vacuum}_{x}}}\\left(x\\right) - k_{z} H_{{\\rm inner}_{{\\rm vacuum}_{f_{y}}}}\\left(x\\right) = -k_{y} H_{{\\rm inner}_{{\\rm vacuum}_{f_{z}}}}\\left(x\\right)$"
      ],
      "text/plain": [
       "<IPython.core.display.Math object>"
      ]
     },
     "metadata": {},
     "output_type": "display_data"
    },
    {
     "data": {
      "text/latex": [
       "$\\displaystyle -k_{z} E_{{\\rm inner}_{{\\rm vacuum}_{x}}}\\left(x\\right) + \\kappa_{\\mathit{vacuum}} H_{{\\rm inner}_{{\\rm vacuum}_{f_{y}}}}\\left(x\\right) = i \\, \\frac{\\partial}{\\partial x}E_{{\\rm inner}_{{\\rm vacuum}_{z}}}\\left(x\\right)$"
      ],
      "text/plain": [
       "<IPython.core.display.Math object>"
      ]
     },
     "metadata": {},
     "output_type": "display_data"
    },
    {
     "data": {
      "text/latex": [
       "$\\displaystyle -{\\left(k_{z}^{2} - \\kappa_{\\mathit{vacuum}}^{2}\\right)} E_{{\\rm inner}_{{\\rm vacuum}_{x}}}\\left(x\\right) = -k_{y} \\kappa_{\\mathit{vacuum}} H_{{\\rm inner}_{{\\rm vacuum}_{f_{z}}}}\\left(x\\right) + i \\, k_{z} \\frac{\\partial}{\\partial x}E_{{\\rm inner}_{{\\rm vacuum}_{z}}}\\left(x\\right)$"
      ],
      "text/plain": [
       "<IPython.core.display.Math object>"
      ]
     },
     "metadata": {},
     "output_type": "display_data"
    },
    {
     "data": {
      "text/latex": [
       "$\\displaystyle -{\\left(k_{z}^{2} - \\kappa_{\\mathit{vacuum}}^{2}\\right)} H_{{\\rm inner}_{{\\rm vacuum}_{f_{y}}}}\\left(x\\right) = -k_{y} k_{z} H_{{\\rm inner}_{{\\rm vacuum}_{f_{z}}}}\\left(x\\right) + i \\, \\kappa_{\\mathit{vacuum}} \\frac{\\partial}{\\partial x}E_{{\\rm inner}_{{\\rm vacuum}_{z}}}\\left(x\\right)$"
      ],
      "text/plain": [
       "<IPython.core.display.Math object>"
      ]
     },
     "metadata": {},
     "output_type": "display_data"
    }
   ],
   "source": [
    "eq_rot_H_inner_vacuum_x_subs       = eq_rot_H_inner_vacuum_x.subs(omega==c*kappa_vacuum/sqrt(epsilon_0*mu_0))\n",
    "display(Math(latex(eq_rot_H_inner_vacuum_x)))\n",
    "\n",
    "eq_rot_H_inner_vacuum_x_subs_solve = solve(eq_rot_H_inner_vacuum_x_subs, E_inner_vacuum_x(x))[0] * kappa_vacuum\n",
    "display(Math(latex(eq_rot_H_inner_vacuum_x_subs_solve)))\n",
    "\n",
    "eq_rot_E_inner_vacuum_y = H_inner_vacuum_f_y(x) == H_inner_vacuum_s_y(x)\n",
    "display(Math(latex(eq_rot_E_inner_vacuum_y)))\n",
    "\n",
    "eq_rot_E_inner_vacuum_y_subs = eq_rot_E_inner_vacuum_y.subs(omega==c*kappa_vacuum/sqrt(epsilon_0*mu_0)) * kappa_vacuum\n",
    "display(Math(latex(eq_rot_E_inner_vacuum_y_subs)))\n",
    "\n",
    "eq_rot_H_inner_vacuum_x_subs_solve_m \\\n",
    "    =  eq_rot_H_inner_vacuum_x_subs_solve.lhs() \\\n",
    "    -  eq_rot_H_inner_vacuum_x_subs_solve.rhs().expand().operands()[0] \\\n",
    "    == eq_rot_H_inner_vacuum_x_subs_solve.rhs().expand().operands()[1]\n",
    "display(Math(latex(eq_rot_H_inner_vacuum_x_subs_solve_m)))\n",
    "\n",
    "eq_rot_E_inner_vacuum_y_subs_m \\\n",
    "    =  eq_rot_E_inner_vacuum_y_subs.lhs() \\\n",
    "    -  eq_rot_E_inner_vacuum_y_subs.rhs().expand().operands()[0] \\\n",
    "    == eq_rot_E_inner_vacuum_y_subs.rhs().expand().operands()[1]\n",
    "display(Math(latex(eq_rot_E_inner_vacuum_y_subs_m)))\n",
    "\n",
    "# складываем два предыдущих уравения между собой предварительно перемножив каждое уравнение на множитель\n",
    "# позволяющий в левой части сократить компоненту магнитного или электрического поля\n",
    "# таким образом получаем два уравнения для оставшихся нескоращённых компонент электрического и магнитного поля\n",
    "eq_5_Ex = (eq_rot_H_inner_vacuum_x_subs_solve_m*kappa_vacuum + eq_rot_E_inner_vacuum_y_subs_m*k_z).full_simplify()\n",
    "display(Math(latex(eq_5_Ex)))\n",
    "\n",
    "eq_6_Hy = (eq_rot_H_inner_vacuum_x_subs_solve_m*k_z + eq_rot_E_inner_vacuum_y_subs_m*kappa_vacuum).full_simplify()\n",
    "display(Math(latex(eq_6_Hy)))"
   ]
  },
  {
   "cell_type": "code",
   "execution_count": 44,
   "metadata": {},
   "outputs": [
    {
     "name": "stdout",
     "output_type": "stream",
     "text": [
      "eq_rot_H_left_conductor_x rot_H = epsilon_l*d/dt(E_x) =\n"
     ]
    },
    {
     "data": {
      "text/latex": [
       "$\\displaystyle -i \\, k_{z} H_{{\\rm left}_{{\\rm conductor}_{f_{y}}}}\\left(x\\right) + i \\, k_{y} H_{{\\rm left}_{{\\rm conductor}_{f_{z}}}}\\left(x\\right) = -\\frac{i \\, {\\left(\\epsilon_{l} + \\frac{4 i \\, \\pi \\sigma_{l}}{\\omega}\\right)} \\omega E_{{\\rm left}_{{\\rm conductor}_{x}}}\\left(x\\right)}{c}$"
      ],
      "text/plain": [
       "<IPython.core.display.Math object>"
      ]
     },
     "metadata": {},
     "output_type": "display_data"
    },
    {
     "name": "stdout",
     "output_type": "stream",
     "text": [
      "eq_rot_H_left_conductor_x_subs rot_H = epsilon_l*d/dt(E_x) =\n"
     ]
    },
    {
     "data": {
      "text/latex": [
       "$\\displaystyle -i \\, k_{z} H_{{\\rm left}_{{\\rm conductor}_{f_{y}}}}\\left(x\\right) + i \\, k_{y} H_{{\\rm left}_{{\\rm conductor}_{f_{z}}}}\\left(x\\right) = -\\frac{i \\, {\\left(\\epsilon_{l} + \\frac{4 i \\, \\pi \\sqrt{\\epsilon_{l} \\mu_{l}} \\sigma_{l}}{c \\kappa_{l}}\\right)} \\kappa_{l} E_{{\\rm left}_{{\\rm conductor}_{x}}}\\left(x\\right)}{\\sqrt{\\epsilon_{l} \\mu_{l}}}$"
      ],
      "text/plain": [
       "<IPython.core.display.Math object>"
      ]
     },
     "metadata": {},
     "output_type": "display_data"
    },
    {
     "name": "stdout",
     "output_type": "stream",
     "text": [
      "eq_rot_H_left_conductor_x_subs_solve rot H = epsilon_l*d/dt(E_x) =\n"
     ]
    },
    {
     "data": {
      "text/latex": [
       "$\\displaystyle \\kappa_{l} E_{{\\rm left}_{{\\rm conductor}_{x}}}\\left(x\\right) = \\frac{{\\left(\\sqrt{\\epsilon_{l} \\mu_{l}} c k_{z} H_{{\\rm left}_{{\\rm conductor}_{f_{y}}}}\\left(x\\right) - \\sqrt{\\epsilon_{l} \\mu_{l}} c k_{y} H_{{\\rm left}_{{\\rm conductor}_{f_{z}}}}\\left(x\\right)\\right)} \\kappa_{l}}{c \\epsilon_{l} \\kappa_{l} + 4 i \\, \\pi \\sqrt{\\epsilon_{l} \\mu_{l}} \\sigma_{l}}$"
      ],
      "text/plain": [
       "<IPython.core.display.Math object>"
      ]
     },
     "metadata": {},
     "output_type": "display_data"
    },
    {
     "name": "stdout",
     "output_type": "stream",
     "text": [
      "eq_rot_E_left_conductor_y_subs (x) rot E =\n"
     ]
    },
    {
     "data": {
      "text/latex": [
       "$\\displaystyle \\kappa_{l} H_{{\\rm left}_{{\\rm conductor}_{f_{y}}}}\\left(x\\right) = -\\frac{i \\, \\sqrt{\\epsilon_{l} \\mu_{l}} {\\left(i \\, k_{z} E_{{\\rm left}_{{\\rm conductor}_{x}}}\\left(x\\right) - \\frac{\\partial}{\\partial x}E_{{\\rm left}_{{\\rm conductor}_{z}}}\\left(x\\right)\\right)}}{\\mu_{l}}$"
      ],
      "text/plain": [
       "<IPython.core.display.Math object>"
      ]
     },
     "metadata": {},
     "output_type": "display_data"
    },
    {
     "name": "stdout",
     "output_type": "stream",
     "text": [
      "eq_rot_H_left_conductor_x_subs_solve_m_Exc1 =\n"
     ]
    },
    {
     "data": {
      "text/latex": [
       "$\\displaystyle -\\frac{c \\sqrt{\\epsilon_{l}} k_{z} \\sqrt{\\mu_{l}} H_{{\\rm left}_{{\\rm conductor}_{f_{y}}}}\\left(x\\right)}{c \\epsilon_{l} \\kappa_{l} + 4 i \\, \\pi \\sqrt{\\epsilon_{l}} \\sqrt{\\mu_{l}} \\sigma_{l}} + E_{{\\rm left}_{{\\rm conductor}_{x}}}\\left(x\\right) = -\\frac{c \\sqrt{\\epsilon_{l}} k_{y} \\sqrt{\\mu_{l}} H_{{\\rm left}_{{\\rm conductor}_{f_{z}}}}\\left(x\\right)}{c \\epsilon_{l} \\kappa_{l} + 4 i \\, \\pi \\sqrt{\\epsilon_{l}} \\sqrt{\\mu_{l}} \\sigma_{l}}$"
      ],
      "text/plain": [
       "<IPython.core.display.Math object>"
      ]
     },
     "metadata": {},
     "output_type": "display_data"
    },
    {
     "name": "stdout",
     "output_type": "stream",
     "text": [
      "eq_rot_E_left_conductor_y_subs_m_Hyc1 =\n"
     ]
    },
    {
     "data": {
      "text/latex": [
       "$\\displaystyle -\\frac{\\sqrt{\\epsilon_{l}} k_{z} E_{{\\rm left}_{{\\rm conductor}_{x}}}\\left(x\\right)}{\\kappa_{l} \\sqrt{\\mu_{l}}} + H_{{\\rm left}_{{\\rm conductor}_{f_{y}}}}\\left(x\\right) = \\frac{i \\, \\sqrt{\\epsilon_{l}} \\frac{\\partial}{\\partial x}E_{{\\rm left}_{{\\rm conductor}_{z}}}\\left(x\\right)}{\\kappa_{l} \\sqrt{\\mu_{l}}}$"
      ],
      "text/plain": [
       "<IPython.core.display.Math object>"
      ]
     },
     "metadata": {},
     "output_type": "display_data"
    }
   ],
   "source": [
    "eq_rot_H_left_conductor_x_subs       = eq_rot_H_left_conductor_x.subs(omega==c*kappa_l/sqrt(epsilon_l*mu_l))\n",
    "print (\"eq_rot_H_left_conductor_x rot_H = epsilon_l*d/dt(E_x) =\")\n",
    "display(Math(latex(eq_rot_H_left_conductor_x)))\n",
    "\n",
    "print (\"eq_rot_H_left_conductor_x_subs rot_H = epsilon_l*d/dt(E_x) =\")\n",
    "display(Math(latex(eq_rot_H_left_conductor_x_subs)))\n",
    "\n",
    "\n",
    "eq_rot_H_left_conductor_x_subs_solve = solve(eq_rot_H_left_conductor_x_subs, E_left_conductor_x(x))[0] * kappa_l\n",
    "print (\"eq_rot_H_left_conductor_x_subs_solve rot H = epsilon_l*d/dt(E_x) =\")\n",
    "display(Math(latex(eq_rot_H_left_conductor_x_subs_solve)))\n",
    "\n",
    "eq_rot_E_left_conductor_y = H_left_conductor_f_y(x) == H_left_conductor_s_y(x)\n",
    "eq_rot_E_left_conductor_y_subs = eq_rot_E_left_conductor_y.subs(omega==c*kappa_l/sqrt(epsilon_l*mu_l)) * kappa_l\n",
    "print (\"eq_rot_E_left_conductor_y_subs (x) rot E =\")\n",
    "display(Math(latex(eq_rot_E_left_conductor_y_subs)))\n",
    "\n",
    "eq_rot_H_left_conductor_x_subs_solve_m \\\n",
    "    =  eq_rot_H_left_conductor_x_subs_solve.lhs() \\\n",
    "    -  eq_rot_H_left_conductor_x_subs_solve.rhs().expand().operands()[0] \\\n",
    "    == eq_rot_H_left_conductor_x_subs_solve.rhs().expand().operands()[1]\n",
    "#print (\"eq_rot_H_left_conductor_x_subs_solve_m =\")\n",
    "#display(Math(latex(eq_rot_H_left_conductor_x_subs_solve_m)))\n",
    "\n",
    "eq_rot_H_left_conductor_x_subs_solve_m_Exc1 = (eq_rot_H_left_conductor_x_subs_solve_m / kappa_l).expand()\n",
    "print (\"eq_rot_H_left_conductor_x_subs_solve_m_Exc1 =\")\n",
    "display(Math(latex(eq_rot_H_left_conductor_x_subs_solve_m_Exc1)))\n",
    "\n",
    "eq_rot_E_left_conductor_y_subs_m \\\n",
    "    =  eq_rot_E_left_conductor_y_subs.lhs() \\\n",
    "    -  eq_rot_E_left_conductor_y_subs.rhs().expand().operands()[0] \\\n",
    "    == eq_rot_E_left_conductor_y_subs.rhs().expand().operands()[1]\n",
    "#print (\"eq_rot_E_left_conductor_y_subs_m =\")\n",
    "#display(Math(latex(eq_rot_E_left_conductor_y_subs_m)))\n",
    "\n",
    "eq_rot_E_left_conductor_y_subs_m_Hyc1 = (eq_rot_E_left_conductor_y_subs_m / kappa_l).expand()\n",
    "print (\"eq_rot_E_left_conductor_y_subs_m_Hyc1 =\")\n",
    "display(Math(latex(eq_rot_E_left_conductor_y_subs_m_Hyc1)))"
   ]
  },
  {
   "cell_type": "code",
   "execution_count": 45,
   "metadata": {},
   "outputs": [],
   "source": [
    "# выделяем из левых частей множители\n",
    "# с помощью которых мы будем производить сокращение компонент полей при сложении уравнений"
   ]
  },
  {
   "cell_type": "code",
   "execution_count": 46,
   "metadata": {},
   "outputs": [
    {
     "data": {
      "text/latex": [
       "$\\displaystyle -\\frac{\\sqrt{\\epsilon_{l}} k_{z}}{\\kappa_{l} \\sqrt{\\mu_{l}}}$"
      ],
      "text/plain": [
       "<IPython.core.display.Math object>"
      ]
     },
     "metadata": {},
     "output_type": "display_data"
    }
   ],
   "source": [
    "Exlc = eq_rot_E_left_conductor_y_subs_m_Hyc1.lhs().coefficient(E_left_conductor_x(x))\n",
    "display(Math(latex(Exlc)))"
   ]
  },
  {
   "cell_type": "code",
   "execution_count": 47,
   "metadata": {},
   "outputs": [
    {
     "data": {
      "text/latex": [
       "$\\displaystyle -\\frac{c \\sqrt{\\epsilon_{l}} k_{z} \\sqrt{\\mu_{l}}}{c \\epsilon_{l} \\kappa_{l} + 4 i \\, \\pi \\sqrt{\\epsilon_{l}} \\sqrt{\\mu_{l}} \\sigma_{l}}$"
      ],
      "text/plain": [
       "<IPython.core.display.Math object>"
      ]
     },
     "metadata": {},
     "output_type": "display_data"
    }
   ],
   "source": [
    "Hylc = eq_rot_H_left_conductor_x_subs_solve_m_Exc1.lhs().coefficient(H_left_conductor_f_y(x))\n",
    "display(Math(latex(Hylc)))"
   ]
  },
  {
   "cell_type": "code",
   "execution_count": 48,
   "metadata": {},
   "outputs": [
    {
     "data": {
      "text/latex": [
       "$\\displaystyle -\\frac{\\sqrt{\\epsilon_{l}} \\kappa_{l} E_{{\\rm left}_{{\\rm conductor}_{x}}}\\left(x\\right)}{k_{z} \\sqrt{\\mu_{l}}} - \\frac{4 i \\, \\pi \\sigma_{l} E_{{\\rm left}_{{\\rm conductor}_{x}}}\\left(x\\right)}{c k_{z}} + H_{{\\rm left}_{{\\rm conductor}_{f_{y}}}}\\left(x\\right) = \\frac{k_{y} H_{{\\rm left}_{{\\rm conductor}_{f_{z}}}}\\left(x\\right)}{k_{z}}$"
      ],
      "text/plain": [
       "<IPython.core.display.Math object>"
      ]
     },
     "metadata": {},
     "output_type": "display_data"
    }
   ],
   "source": [
    "eq_rot_H_left_conductor_x_subs_solve_m_Hyc1 = (eq_rot_H_left_conductor_x_subs_solve_m_Exc1/Hylc).factor().expand()\n",
    "disp(eq_rot_H_left_conductor_x_subs_solve_m_Hyc1)"
   ]
  },
  {
   "cell_type": "code",
   "execution_count": 49,
   "metadata": {},
   "outputs": [
    {
     "data": {
      "text/latex": [
       "$\\displaystyle -\\frac{\\kappa_{l} \\sqrt{\\mu_{l}} H_{{\\rm left}_{{\\rm conductor}_{f_{y}}}}\\left(x\\right)}{\\sqrt{\\epsilon_{l}} k_{z}} + E_{{\\rm left}_{{\\rm conductor}_{x}}}\\left(x\\right) = -\\frac{i \\, \\frac{\\partial}{\\partial x}E_{{\\rm left}_{{\\rm conductor}_{z}}}\\left(x\\right)}{k_{z}}$"
      ],
      "text/plain": [
       "<IPython.core.display.Math object>"
      ]
     },
     "metadata": {},
     "output_type": "display_data"
    }
   ],
   "source": [
    "eq_rot_E_left_conductor_y_subs_m_Exc1 = (eq_rot_E_left_conductor_y_subs_m_Hyc1/Exlc).factor().expand()\n",
    "disp(eq_rot_E_left_conductor_y_subs_m_Exc1)"
   ]
  },
  {
   "cell_type": "code",
   "execution_count": 50,
   "metadata": {},
   "outputs": [
    {
     "name": "stdout",
     "output_type": "stream",
     "text": [
      "eq_7_l_ =\n"
     ]
    },
    {
     "data": {
      "text/latex": [
       "$\\displaystyle \\frac{\\sqrt{\\epsilon_{l}} k_{z} E_{{\\rm left}_{{\\rm conductor}_{x}}}\\left(x\\right)}{\\kappa_{l} \\sqrt{\\mu_{l}}} - \\frac{\\sqrt{\\epsilon_{l}} \\kappa_{l} E_{{\\rm left}_{{\\rm conductor}_{x}}}\\left(x\\right)}{k_{z} \\sqrt{\\mu_{l}}} - \\frac{4 i \\, \\pi \\sigma_{l} E_{{\\rm left}_{{\\rm conductor}_{x}}}\\left(x\\right)}{c k_{z}} = \\frac{k_{y} H_{{\\rm left}_{{\\rm conductor}_{f_{z}}}}\\left(x\\right)}{k_{z}} - \\frac{i \\, \\sqrt{\\epsilon_{l}} \\frac{\\partial}{\\partial x}E_{{\\rm left}_{{\\rm conductor}_{z}}}\\left(x\\right)}{\\kappa_{l} \\sqrt{\\mu_{l}}}$"
      ],
      "text/plain": [
       "<IPython.core.display.Math object>"
      ]
     },
     "metadata": {},
     "output_type": "display_data"
    },
    {
     "name": "stdout",
     "output_type": "stream",
     "text": [
      "eq_7_Ex_l_ =\n"
     ]
    },
    {
     "data": {
      "text/latex": [
       "$\\displaystyle {\\left(\\frac{\\sqrt{\\epsilon_{l}} k_{z}}{\\kappa_{l} \\sqrt{\\mu_{l}}} - \\frac{\\sqrt{\\epsilon_{l}} \\kappa_{l}}{k_{z} \\sqrt{\\mu_{l}}} - \\frac{4 i \\, \\pi \\sigma_{l}}{c k_{z}}\\right)} E_{{\\rm left}_{{\\rm conductor}_{x}}}\\left(x\\right) = \\frac{k_{y} H_{{\\rm left}_{{\\rm conductor}_{f_{z}}}}\\left(x\\right)}{k_{z}} - \\frac{i \\, \\sqrt{\\epsilon_{l}} \\frac{\\partial}{\\partial x}E_{{\\rm left}_{{\\rm conductor}_{z}}}\\left(x\\right)}{\\kappa_{l} \\sqrt{\\mu_{l}}}$"
      ],
      "text/plain": [
       "<IPython.core.display.Math object>"
      ]
     },
     "metadata": {},
     "output_type": "display_data"
    },
    {
     "name": "stdout",
     "output_type": "stream",
     "text": [
      "eq_7_Ex_l =\n"
     ]
    },
    {
     "data": {
      "text/latex": [
       "$\\displaystyle E_{{\\rm left}_{{\\rm conductor}_{x}}}\\left(x\\right) = \\frac{c k_{y} \\kappa_{l} \\sqrt{\\mu_{l}} H_{{\\rm left}_{{\\rm conductor}_{f_{z}}}}\\left(x\\right) - i \\, c \\sqrt{\\epsilon_{l}} k_{z} \\frac{\\partial}{\\partial x}E_{{\\rm left}_{{\\rm conductor}_{z}}}\\left(x\\right)}{c \\sqrt{\\epsilon_{l}} k_{z}^{2} - c \\sqrt{\\epsilon_{l}} \\kappa_{l}^{2} - 4 i \\, \\pi \\kappa_{l} \\sqrt{\\mu_{l}} \\sigma_{l}}$"
      ],
      "text/plain": [
       "<IPython.core.display.Math object>"
      ]
     },
     "metadata": {},
     "output_type": "display_data"
    },
    {
     "name": "stdout",
     "output_type": "stream",
     "text": [
      "eq_8_l_ =\n"
     ]
    },
    {
     "data": {
      "text/latex": [
       "$\\displaystyle -\\frac{c \\sqrt{\\epsilon_{l}} k_{z} \\sqrt{\\mu_{l}} H_{{\\rm left}_{{\\rm conductor}_{f_{y}}}}\\left(x\\right)}{c \\epsilon_{l} \\kappa_{l} + 4 i \\, \\pi \\sqrt{\\epsilon_{l}} \\sqrt{\\mu_{l}} \\sigma_{l}} + \\frac{\\kappa_{l} \\sqrt{\\mu_{l}} H_{{\\rm left}_{{\\rm conductor}_{f_{y}}}}\\left(x\\right)}{\\sqrt{\\epsilon_{l}} k_{z}} = -\\frac{c \\sqrt{\\epsilon_{l}} k_{y} \\sqrt{\\mu_{l}} H_{{\\rm left}_{{\\rm conductor}_{f_{z}}}}\\left(x\\right)}{c \\epsilon_{l} \\kappa_{l} + 4 i \\, \\pi \\sqrt{\\epsilon_{l}} \\sqrt{\\mu_{l}} \\sigma_{l}} + \\frac{i \\, \\frac{\\partial}{\\partial x}E_{{\\rm left}_{{\\rm conductor}_{z}}}\\left(x\\right)}{k_{z}}$"
      ],
      "text/plain": [
       "<IPython.core.display.Math object>"
      ]
     },
     "metadata": {},
     "output_type": "display_data"
    },
    {
     "name": "stdout",
     "output_type": "stream",
     "text": [
      "eq_8_Hy_l_ =\n"
     ]
    },
    {
     "data": {
      "text/latex": [
       "$\\displaystyle -{\\left(\\frac{c \\sqrt{\\epsilon_{l}} k_{z} \\sqrt{\\mu_{l}}}{c \\epsilon_{l} \\kappa_{l} + 4 i \\, \\pi \\sqrt{\\epsilon_{l}} \\sqrt{\\mu_{l}} \\sigma_{l}} - \\frac{\\kappa_{l} \\sqrt{\\mu_{l}}}{\\sqrt{\\epsilon_{l}} k_{z}}\\right)} H_{{\\rm left}_{{\\rm conductor}_{f_{y}}}}\\left(x\\right) = -\\frac{c \\sqrt{\\epsilon_{l}} k_{y} \\sqrt{\\mu_{l}} H_{{\\rm left}_{{\\rm conductor}_{f_{z}}}}\\left(x\\right)}{c \\epsilon_{l} \\kappa_{l} + 4 i \\, \\pi \\sqrt{\\epsilon_{l}} \\sqrt{\\mu_{l}} \\sigma_{l}} + \\frac{i \\, \\frac{\\partial}{\\partial x}E_{{\\rm left}_{{\\rm conductor}_{z}}}\\left(x\\right)}{k_{z}}$"
      ],
      "text/plain": [
       "<IPython.core.display.Math object>"
      ]
     },
     "metadata": {},
     "output_type": "display_data"
    },
    {
     "name": "stdout",
     "output_type": "stream",
     "text": [
      "eq_8_Hy_l =\n"
     ]
    },
    {
     "data": {
      "text/latex": [
       "$\\displaystyle H_{{\\rm left}_{{\\rm conductor}_{f_{y}}}}\\left(x\\right) = -\\frac{c \\epsilon_{l} k_{y} k_{z} \\sqrt{\\mu_{l}} H_{{\\rm left}_{{\\rm conductor}_{f_{z}}}}\\left(x\\right) - {\\left(i \\, c \\epsilon_{l}^{\\frac{3}{2}} \\kappa_{l} - 4 \\, \\pi \\epsilon_{l} \\sqrt{\\mu_{l}} \\sigma_{l}\\right)} \\frac{\\partial}{\\partial x}E_{{\\rm left}_{{\\rm conductor}_{z}}}\\left(x\\right)}{4 i \\, \\pi \\sqrt{\\epsilon_{l}} \\kappa_{l} \\mu_{l} \\sigma_{l} - {\\left(c \\epsilon_{l} k_{z}^{2} - c \\epsilon_{l} \\kappa_{l}^{2}\\right)} \\sqrt{\\mu_{l}}}$"
      ],
      "text/plain": [
       "<IPython.core.display.Math object>"
      ]
     },
     "metadata": {},
     "output_type": "display_data"
    }
   ],
   "source": [
    "# складываем два предыдущих уравения между собой предварительно перемножив каждое уравнение на множитель\n",
    "# позволяющий в левой части сократить компоненту магнитного или электрического поля\n",
    "# таким образом получаем два уравнения для оставшихся нескоращённых компонент электрического и магнитного поля\n",
    "\n",
    "# Ex\n",
    "eq_7_l_ = (eq_rot_H_left_conductor_x_subs_solve_m_Hyc1 - eq_rot_E_left_conductor_y_subs_m_Hyc1)\n",
    "print (\"eq_7_l_ =\")\n",
    "display(Math(latex(eq_7_l_)))\n",
    "\n",
    "eq_7_Ex_l_ = eq_7_l_.lhs().collect(E_left_conductor_x(x)) == eq_7_l_.rhs()\n",
    "print (\"eq_7_Ex_l_ =\")\n",
    "display(Math(latex(eq_7_Ex_l_)))\n",
    "\n",
    "eq_7_Ex_l = eq_7_Ex_l_.solve(E_left_conductor_x(x))[0]\n",
    "print (\"eq_7_Ex_l =\")\n",
    "display(Math(latex(eq_7_Ex_l)))\n",
    "\n",
    "# Hy\n",
    "eq_8_l_ = (eq_rot_H_left_conductor_x_subs_solve_m_Exc1 - eq_rot_E_left_conductor_y_subs_m_Exc1)\n",
    "print (\"eq_8_l_ =\")\n",
    "display(Math(latex(eq_8_l_)))\n",
    "\n",
    "eq_8_Hy_l_ = eq_8_l_.lhs().collect(H_left_conductor_f_y(x)) == eq_8_l_.rhs()\n",
    "print (\"eq_8_Hy_l_ =\")\n",
    "display(Math(latex(eq_8_Hy_l_)))\n",
    "\n",
    "eq_8_Hy_l = eq_8_Hy_l_.solve(H_left_conductor_f_y(x))[0]\n",
    "print (\"eq_8_Hy_l =\")\n",
    "display(Math(latex(eq_8_Hy_l)))"
   ]
  },
  {
   "cell_type": "code",
   "execution_count": 51,
   "metadata": {},
   "outputs": [
    {
     "name": "stdout",
     "output_type": "stream",
     "text": [
      "eq_rot_H_right_conductor_x rot_H = epsilon_r*d/dt(E_x) =\n"
     ]
    },
    {
     "data": {
      "text/latex": [
       "$\\displaystyle -i \\, k_{z} H_{{\\rm right}_{{\\rm conductor}_{f_{y}}}}\\left(x\\right) + i \\, k_{y} H_{{\\rm right}_{{\\rm conductor}_{f_{z}}}}\\left(x\\right) = -\\frac{i \\, {\\left(\\epsilon_{r} + \\frac{4 i \\, \\pi \\sigma_{r}}{\\omega}\\right)} \\omega E_{{\\rm right}_{{\\rm conductor}_{x}}}\\left(x\\right)}{c}$"
      ],
      "text/plain": [
       "<IPython.core.display.Math object>"
      ]
     },
     "metadata": {},
     "output_type": "display_data"
    },
    {
     "name": "stdout",
     "output_type": "stream",
     "text": [
      "eq_rot_H_right_conductor_x_subs rot_H = epsilon_r*d/dt(E_x) =\n"
     ]
    },
    {
     "data": {
      "text/latex": [
       "$\\displaystyle -i \\, k_{z} H_{{\\rm right}_{{\\rm conductor}_{f_{y}}}}\\left(x\\right) + i \\, k_{y} H_{{\\rm right}_{{\\rm conductor}_{f_{z}}}}\\left(x\\right) = -\\frac{i \\, {\\left(\\epsilon_{r} + \\frac{4 i \\, \\pi \\sqrt{\\epsilon_{r} \\mu_{r}} \\sigma_{r}}{c \\kappa_{r}}\\right)} \\kappa_{r} E_{{\\rm right}_{{\\rm conductor}_{x}}}\\left(x\\right)}{\\sqrt{\\epsilon_{r} \\mu_{r}}}$"
      ],
      "text/plain": [
       "<IPython.core.display.Math object>"
      ]
     },
     "metadata": {},
     "output_type": "display_data"
    },
    {
     "name": "stdout",
     "output_type": "stream",
     "text": [
      "eq_rot_H_right_conductor_x_subs_solve rot H = epsilon_r*d/dt(E_x) =\n"
     ]
    },
    {
     "data": {
      "text/latex": [
       "$\\displaystyle \\kappa_{r} E_{{\\rm right}_{{\\rm conductor}_{x}}}\\left(x\\right) = \\frac{{\\left(\\sqrt{\\epsilon_{r} \\mu_{r}} c k_{z} H_{{\\rm right}_{{\\rm conductor}_{f_{y}}}}\\left(x\\right) - \\sqrt{\\epsilon_{r} \\mu_{r}} c k_{y} H_{{\\rm right}_{{\\rm conductor}_{f_{z}}}}\\left(x\\right)\\right)} \\kappa_{r}}{c \\epsilon_{r} \\kappa_{r} + 4 i \\, \\pi \\sqrt{\\epsilon_{r} \\mu_{r}} \\sigma_{r}}$"
      ],
      "text/plain": [
       "<IPython.core.display.Math object>"
      ]
     },
     "metadata": {},
     "output_type": "display_data"
    },
    {
     "name": "stdout",
     "output_type": "stream",
     "text": [
      "eq_rot_E_right_conductor_y_subs (x) rot E =\n"
     ]
    },
    {
     "data": {
      "text/latex": [
       "$\\displaystyle \\kappa_{r} H_{{\\rm right}_{{\\rm conductor}_{f_{y}}}}\\left(x\\right) = -\\frac{i \\, \\sqrt{\\epsilon_{r} \\mu_{r}} {\\left(i \\, k_{z} E_{{\\rm right}_{{\\rm conductor}_{x}}}\\left(x\\right) - \\frac{\\partial}{\\partial x}E_{{\\rm right}_{{\\rm conductor}_{z}}}\\left(x\\right)\\right)}}{\\mu_{r}}$"
      ],
      "text/plain": [
       "<IPython.core.display.Math object>"
      ]
     },
     "metadata": {},
     "output_type": "display_data"
    },
    {
     "name": "stdout",
     "output_type": "stream",
     "text": [
      "eq_rot_H_right_conductor_x_subs_solve_m =\n"
     ]
    },
    {
     "data": {
      "text/latex": [
       "$\\displaystyle -\\frac{c \\sqrt{\\epsilon_{r}} k_{z} \\kappa_{r} \\sqrt{\\mu_{r}} H_{{\\rm right}_{{\\rm conductor}_{f_{y}}}}\\left(x\\right)}{c \\epsilon_{r} \\kappa_{r} + 4 i \\, \\pi \\sqrt{\\epsilon_{r}} \\sqrt{\\mu_{r}} \\sigma_{r}} + \\kappa_{r} E_{{\\rm right}_{{\\rm conductor}_{x}}}\\left(x\\right) = -\\frac{c \\sqrt{\\epsilon_{r}} k_{y} \\kappa_{r} \\sqrt{\\mu_{r}} H_{{\\rm right}_{{\\rm conductor}_{f_{z}}}}\\left(x\\right)}{c \\epsilon_{r} \\kappa_{r} + 4 i \\, \\pi \\sqrt{\\epsilon_{r}} \\sqrt{\\mu_{r}} \\sigma_{r}}$"
      ],
      "text/plain": [
       "<IPython.core.display.Math object>"
      ]
     },
     "metadata": {},
     "output_type": "display_data"
    },
    {
     "name": "stdout",
     "output_type": "stream",
     "text": [
      "eq_rot_H_right_conductor_x_subs_solve_m_Exc1 =\n"
     ]
    },
    {
     "data": {
      "text/latex": [
       "$\\displaystyle -\\frac{c \\sqrt{\\epsilon_{r}} k_{z} \\sqrt{\\mu_{r}} H_{{\\rm right}_{{\\rm conductor}_{f_{y}}}}\\left(x\\right)}{c \\epsilon_{r} \\kappa_{r} + 4 i \\, \\pi \\sqrt{\\epsilon_{r}} \\sqrt{\\mu_{r}} \\sigma_{r}} + E_{{\\rm right}_{{\\rm conductor}_{x}}}\\left(x\\right) = -\\frac{c \\sqrt{\\epsilon_{r}} k_{y} \\sqrt{\\mu_{r}} H_{{\\rm right}_{{\\rm conductor}_{f_{z}}}}\\left(x\\right)}{c \\epsilon_{r} \\kappa_{r} + 4 i \\, \\pi \\sqrt{\\epsilon_{r}} \\sqrt{\\mu_{r}} \\sigma_{r}}$"
      ],
      "text/plain": [
       "<IPython.core.display.Math object>"
      ]
     },
     "metadata": {},
     "output_type": "display_data"
    },
    {
     "name": "stdout",
     "output_type": "stream",
     "text": [
      "eq_rot_E_right_conductor_y_subs_m =\n"
     ]
    },
    {
     "data": {
      "text/latex": [
       "$\\displaystyle -\\frac{\\sqrt{\\epsilon_{r}} k_{z} E_{{\\rm right}_{{\\rm conductor}_{x}}}\\left(x\\right)}{\\sqrt{\\mu_{r}}} + \\kappa_{r} H_{{\\rm right}_{{\\rm conductor}_{f_{y}}}}\\left(x\\right) = \\frac{i \\, \\sqrt{\\epsilon_{r}} \\frac{\\partial}{\\partial x}E_{{\\rm right}_{{\\rm conductor}_{z}}}\\left(x\\right)}{\\sqrt{\\mu_{r}}}$"
      ],
      "text/plain": [
       "<IPython.core.display.Math object>"
      ]
     },
     "metadata": {},
     "output_type": "display_data"
    },
    {
     "name": "stdout",
     "output_type": "stream",
     "text": [
      "eq_rot_E_right_conductor_y_subs_m_Hyc1 =\n"
     ]
    },
    {
     "data": {
      "text/latex": [
       "$\\displaystyle -\\frac{\\sqrt{\\epsilon_{r}} k_{z} E_{{\\rm right}_{{\\rm conductor}_{x}}}\\left(x\\right)}{\\kappa_{r} \\sqrt{\\mu_{r}}} + H_{{\\rm right}_{{\\rm conductor}_{f_{y}}}}\\left(x\\right) = \\frac{i \\, \\sqrt{\\epsilon_{r}} \\frac{\\partial}{\\partial x}E_{{\\rm right}_{{\\rm conductor}_{z}}}\\left(x\\right)}{\\kappa_{r} \\sqrt{\\mu_{r}}}$"
      ],
      "text/plain": [
       "<IPython.core.display.Math object>"
      ]
     },
     "metadata": {},
     "output_type": "display_data"
    }
   ],
   "source": [
    "eq_rot_H_right_conductor_x_subs       = eq_rot_H_right_conductor_x.subs(omega==c*kappa_r/sqrt(epsilon_r*mu_r))\n",
    "print (\"eq_rot_H_right_conductor_x rot_H = epsilon_r*d/dt(E_x) =\")\n",
    "display(Math(latex(eq_rot_H_right_conductor_x)))\n",
    "\n",
    "print (\"eq_rot_H_right_conductor_x_subs rot_H = epsilon_r*d/dt(E_x) =\")\n",
    "display(Math(latex(eq_rot_H_right_conductor_x_subs)))\n",
    "\n",
    "\n",
    "eq_rot_H_right_conductor_x_subs_solve = solve(eq_rot_H_right_conductor_x_subs, E_right_conductor_x(x))[0] * kappa_r\n",
    "print (\"eq_rot_H_right_conductor_x_subs_solve rot H = epsilon_r*d/dt(E_x) =\")\n",
    "display(Math(latex(eq_rot_H_right_conductor_x_subs_solve)))\n",
    "\n",
    "eq_rot_E_right_conductor_y = H_right_conductor_f_y(x) == H_right_conductor_s_y(x)\n",
    "eq_rot_E_right_conductor_y_subs = eq_rot_E_right_conductor_y.subs(omega==c*kappa_r/sqrt(epsilon_r*mu_r)) * kappa_r\n",
    "print (\"eq_rot_E_right_conductor_y_subs (x) rot E =\")\n",
    "display(Math(latex(eq_rot_E_right_conductor_y_subs)))\n",
    "\n",
    "eq_rot_H_right_conductor_x_subs_solve_m \\\n",
    "    =  eq_rot_H_right_conductor_x_subs_solve.lhs() \\\n",
    "    -  eq_rot_H_right_conductor_x_subs_solve.rhs().expand().operands()[0] \\\n",
    "    == eq_rot_H_right_conductor_x_subs_solve.rhs().expand().operands()[1]\n",
    "print (\"eq_rot_H_right_conductor_x_subs_solve_m =\")\n",
    "display(Math(latex(eq_rot_H_right_conductor_x_subs_solve_m)))\n",
    "\n",
    "eq_rot_H_right_conductor_x_subs_solve_m_Exc1 = (eq_rot_H_right_conductor_x_subs_solve_m / kappa_r).expand()\n",
    "print (\"eq_rot_H_right_conductor_x_subs_solve_m_Exc1 =\")\n",
    "display(Math(latex(eq_rot_H_right_conductor_x_subs_solve_m_Exc1)))\n",
    "\n",
    "eq_rot_E_right_conductor_y_subs_m \\\n",
    "    =  eq_rot_E_right_conductor_y_subs.lhs() \\\n",
    "    -  eq_rot_E_right_conductor_y_subs.rhs().expand().operands()[0] \\\n",
    "    == eq_rot_E_right_conductor_y_subs.rhs().expand().operands()[1]\n",
    "print (\"eq_rot_E_right_conductor_y_subs_m =\")\n",
    "display(Math(latex(eq_rot_E_right_conductor_y_subs_m)))\n",
    "\n",
    "eq_rot_E_right_conductor_y_subs_m_Hyc1 = (eq_rot_E_right_conductor_y_subs_m / kappa_r).expand()\n",
    "print (\"eq_rot_E_right_conductor_y_subs_m_Hyc1 =\")\n",
    "display(Math(latex(eq_rot_E_right_conductor_y_subs_m_Hyc1)))\n"
   ]
  },
  {
   "cell_type": "code",
   "execution_count": 52,
   "metadata": {},
   "outputs": [],
   "source": [
    "# выделяем из левых частей множители\n",
    "# с помощью которых мы будем производить сокращение компонент полей при сложении уравнений"
   ]
  },
  {
   "cell_type": "code",
   "execution_count": 53,
   "metadata": {},
   "outputs": [
    {
     "data": {
      "text/latex": [
       "$\\displaystyle -\\frac{\\sqrt{\\epsilon_{r}} k_{z}}{\\kappa_{r} \\sqrt{\\mu_{r}}}$"
      ],
      "text/plain": [
       "<IPython.core.display.Math object>"
      ]
     },
     "metadata": {},
     "output_type": "display_data"
    }
   ],
   "source": [
    "Exrc = eq_rot_E_right_conductor_y_subs_m_Hyc1.lhs().coefficient(E_right_conductor_x(x))\n",
    "display(Math(latex(Exrc)))"
   ]
  },
  {
   "cell_type": "code",
   "execution_count": 54,
   "metadata": {},
   "outputs": [
    {
     "data": {
      "text/latex": [
       "$\\displaystyle -\\frac{c \\sqrt{\\epsilon_{r}} k_{z} \\sqrt{\\mu_{r}}}{c \\epsilon_{r} \\kappa_{r} + 4 i \\, \\pi \\sqrt{\\epsilon_{r}} \\sqrt{\\mu_{r}} \\sigma_{r}}$"
      ],
      "text/plain": [
       "<IPython.core.display.Math object>"
      ]
     },
     "metadata": {},
     "output_type": "display_data"
    }
   ],
   "source": [
    "Hyrc = eq_rot_H_right_conductor_x_subs_solve_m_Exc1.lhs().coefficient(H_right_conductor_f_y(x))\n",
    "display(Math(latex(Hyrc)))"
   ]
  },
  {
   "cell_type": "code",
   "execution_count": 55,
   "metadata": {},
   "outputs": [
    {
     "data": {
      "text/latex": [
       "$\\displaystyle -\\frac{\\sqrt{\\epsilon_{r}} \\kappa_{r} E_{{\\rm right}_{{\\rm conductor}_{x}}}\\left(x\\right)}{k_{z} \\sqrt{\\mu_{r}}} - \\frac{4 i \\, \\pi \\sigma_{r} E_{{\\rm right}_{{\\rm conductor}_{x}}}\\left(x\\right)}{c k_{z}} + H_{{\\rm right}_{{\\rm conductor}_{f_{y}}}}\\left(x\\right) = \\frac{k_{y} H_{{\\rm right}_{{\\rm conductor}_{f_{z}}}}\\left(x\\right)}{k_{z}}$"
      ],
      "text/plain": [
       "<IPython.core.display.Math object>"
      ]
     },
     "metadata": {},
     "output_type": "display_data"
    }
   ],
   "source": [
    "eq_rot_H_right_conductor_x_subs_solve_m_Hyc1 = (eq_rot_H_right_conductor_x_subs_solve_m_Exc1/Hyrc).factor().expand()\n",
    "disp(eq_rot_H_right_conductor_x_subs_solve_m_Hyc1)"
   ]
  },
  {
   "cell_type": "code",
   "execution_count": 56,
   "metadata": {},
   "outputs": [
    {
     "data": {
      "text/latex": [
       "$\\displaystyle -\\frac{\\kappa_{r} \\sqrt{\\mu_{r}} H_{{\\rm right}_{{\\rm conductor}_{f_{y}}}}\\left(x\\right)}{\\sqrt{\\epsilon_{r}} k_{z}} + E_{{\\rm right}_{{\\rm conductor}_{x}}}\\left(x\\right) = -\\frac{i \\, \\frac{\\partial}{\\partial x}E_{{\\rm right}_{{\\rm conductor}_{z}}}\\left(x\\right)}{k_{z}}$"
      ],
      "text/plain": [
       "<IPython.core.display.Math object>"
      ]
     },
     "metadata": {},
     "output_type": "display_data"
    }
   ],
   "source": [
    "eq_rot_E_right_conductor_y_subs_m_Exc1 = (eq_rot_E_right_conductor_y_subs_m_Hyc1/Exrc).factor().expand()\n",
    "disp(eq_rot_E_right_conductor_y_subs_m_Exc1)"
   ]
  },
  {
   "cell_type": "code",
   "execution_count": 57,
   "metadata": {},
   "outputs": [
    {
     "name": "stdout",
     "output_type": "stream",
     "text": [
      "eq_7_Ex_r_ =\n"
     ]
    },
    {
     "data": {
      "text/latex": [
       "$\\displaystyle {\\left(\\frac{\\sqrt{\\epsilon_{r}} k_{z}}{\\kappa_{r} \\sqrt{\\mu_{r}}} - \\frac{\\sqrt{\\epsilon_{r}} \\kappa_{r}}{k_{z} \\sqrt{\\mu_{r}}} - \\frac{4 i \\, \\pi \\sigma_{r}}{c k_{z}}\\right)} E_{{\\rm right}_{{\\rm conductor}_{x}}}\\left(x\\right) = \\frac{k_{y} H_{{\\rm right}_{{\\rm conductor}_{f_{z}}}}\\left(x\\right)}{k_{z}} - \\frac{i \\, \\sqrt{\\epsilon_{r}} \\frac{\\partial}{\\partial x}E_{{\\rm right}_{{\\rm conductor}_{z}}}\\left(x\\right)}{\\kappa_{r} \\sqrt{\\mu_{r}}}$"
      ],
      "text/plain": [
       "<IPython.core.display.Math object>"
      ]
     },
     "metadata": {},
     "output_type": "display_data"
    },
    {
     "name": "stdout",
     "output_type": "stream",
     "text": [
      "eq_7_Ex_r =\n"
     ]
    },
    {
     "data": {
      "text/latex": [
       "$\\displaystyle E_{{\\rm right}_{{\\rm conductor}_{x}}}\\left(x\\right) = \\frac{c k_{y} \\kappa_{r} \\sqrt{\\mu_{r}} H_{{\\rm right}_{{\\rm conductor}_{f_{z}}}}\\left(x\\right) - i \\, c \\sqrt{\\epsilon_{r}} k_{z} \\frac{\\partial}{\\partial x}E_{{\\rm right}_{{\\rm conductor}_{z}}}\\left(x\\right)}{c \\sqrt{\\epsilon_{r}} k_{z}^{2} - c \\sqrt{\\epsilon_{r}} \\kappa_{r}^{2} - 4 i \\, \\pi \\kappa_{r} \\sqrt{\\mu_{r}} \\sigma_{r}}$"
      ],
      "text/plain": [
       "<IPython.core.display.Math object>"
      ]
     },
     "metadata": {},
     "output_type": "display_data"
    },
    {
     "name": "stdout",
     "output_type": "stream",
     "text": [
      "eq_8_Hy_r_ =\n"
     ]
    },
    {
     "data": {
      "text/latex": [
       "$\\displaystyle -{\\left(\\frac{c \\sqrt{\\epsilon_{r}} k_{z} \\sqrt{\\mu_{r}}}{c \\epsilon_{r} \\kappa_{r} + 4 i \\, \\pi \\sqrt{\\epsilon_{r}} \\sqrt{\\mu_{r}} \\sigma_{r}} - \\frac{\\kappa_{r} \\sqrt{\\mu_{r}}}{\\sqrt{\\epsilon_{r}} k_{z}}\\right)} H_{{\\rm right}_{{\\rm conductor}_{f_{y}}}}\\left(x\\right) = -\\frac{c \\sqrt{\\epsilon_{r}} k_{y} \\sqrt{\\mu_{r}} H_{{\\rm right}_{{\\rm conductor}_{f_{z}}}}\\left(x\\right)}{c \\epsilon_{r} \\kappa_{r} + 4 i \\, \\pi \\sqrt{\\epsilon_{r}} \\sqrt{\\mu_{r}} \\sigma_{r}} + \\frac{i \\, \\frac{\\partial}{\\partial x}E_{{\\rm right}_{{\\rm conductor}_{z}}}\\left(x\\right)}{k_{z}}$"
      ],
      "text/plain": [
       "<IPython.core.display.Math object>"
      ]
     },
     "metadata": {},
     "output_type": "display_data"
    },
    {
     "name": "stdout",
     "output_type": "stream",
     "text": [
      "eq_8_Hy_r =\n"
     ]
    },
    {
     "data": {
      "text/latex": [
       "$\\displaystyle H_{{\\rm right}_{{\\rm conductor}_{f_{y}}}}\\left(x\\right) = -\\frac{c \\epsilon_{r} k_{y} k_{z} \\sqrt{\\mu_{r}} H_{{\\rm right}_{{\\rm conductor}_{f_{z}}}}\\left(x\\right) - {\\left(i \\, c \\epsilon_{r}^{\\frac{3}{2}} \\kappa_{r} - 4 \\, \\pi \\epsilon_{r} \\sqrt{\\mu_{r}} \\sigma_{r}\\right)} \\frac{\\partial}{\\partial x}E_{{\\rm right}_{{\\rm conductor}_{z}}}\\left(x\\right)}{4 i \\, \\pi \\sqrt{\\epsilon_{r}} \\kappa_{r} \\mu_{r} \\sigma_{r} - {\\left(c \\epsilon_{r} k_{z}^{2} - c \\epsilon_{r} \\kappa_{r}^{2}\\right)} \\sqrt{\\mu_{r}}}$"
      ],
      "text/plain": [
       "<IPython.core.display.Math object>"
      ]
     },
     "metadata": {},
     "output_type": "display_data"
    }
   ],
   "source": [
    "# складываем два предыдущих уравения между собой предварительно перемножив каждое уравнение на множитель\n",
    "# позволяющий в левой части сократить компоненту магнитного или электрического поля\n",
    "# таким образом получаем два уравнения для оставшихся нескоращённых компонент электрического и магнитного поля\n",
    "\n",
    "# Ex\n",
    "eq_7_r_ = (eq_rot_H_right_conductor_x_subs_solve_m_Hyc1 - eq_rot_E_right_conductor_y_subs_m_Hyc1)\n",
    "#print (\"eq_7_r_ =\")\n",
    "#display(Math(latex(eq_7_r_)))\n",
    "\n",
    "eq_7_Ex_r_ = eq_7_r_.lhs().collect(E_right_conductor_x(x)) == eq_7_r_.rhs()\n",
    "print (\"eq_7_Ex_r_ =\")\n",
    "display(Math(latex(eq_7_Ex_r_)))\n",
    "\n",
    "eq_7_Ex_r = eq_7_Ex_r_.solve(E_right_conductor_x(x))[0]\n",
    "print (\"eq_7_Ex_r =\")\n",
    "display(Math(latex(eq_7_Ex_r)))\n",
    "\n",
    "# Hy\n",
    "eq_8_r_ = (eq_rot_H_right_conductor_x_subs_solve_m_Exc1 - eq_rot_E_right_conductor_y_subs_m_Exc1)\n",
    "#print (\"eq_8_r_ =\")\n",
    "#display(Math(latex(eq_8_r_)))\n",
    "\n",
    "eq_8_Hy_r_ = eq_8_r_.lhs().collect(H_right_conductor_f_y(x)) == eq_8_r_.rhs()\n",
    "print (\"eq_8_Hy_r_ =\")\n",
    "display(Math(latex(eq_8_Hy_r_)))\n",
    "\n",
    "eq_8_Hy_r = eq_8_Hy_r_.solve(H_right_conductor_f_y(x))[0]\n",
    "print (\"eq_8_Hy_r =\")\n",
    "display(Math(latex(eq_8_Hy_r)))"
   ]
  },
  {
   "cell_type": "code",
   "execution_count": 58,
   "metadata": {},
   "outputs": [],
   "source": [
    "K_vacuum_subs = K_vacuum == sqrt(kappa_vacuum^2-k_z^2)\n",
    "K_left_conductor_subs = K_left_conductor == sqrt(kappa_l^2-k_z^2)\n",
    "K_right_conductor_subs = K_right_conductor == sqrt(kappa_r^2-k_z^2)"
   ]
  },
  {
   "cell_type": "code",
   "execution_count": null,
   "metadata": {},
   "outputs": [],
   "source": []
  },
  {
   "cell_type": "code",
   "execution_count": 59,
   "metadata": {},
   "outputs": [
    {
     "name": "stdout",
     "output_type": "stream",
     "text": [
      "eq_1 =\n"
     ]
    },
    {
     "data": {
      "text/latex": [
       "$\\displaystyle -{\\left(k_{z}^{2} - \\kappa_{\\mathit{vacuum}}^{2}\\right)} E_{{\\rm inner}_{{\\rm vacuum}_{y}}}\\left(x\\right) = -k_{y} k_{z} E_{{\\rm inner}_{{\\rm vacuum}_{z}}}\\left(x\\right) - i \\, \\kappa_{\\mathit{vacuum}} \\frac{\\partial}{\\partial x}H_{{\\rm inner}_{{\\rm vacuum}_{f_{z}}}}\\left(x\\right)$"
      ],
      "text/plain": [
       "<IPython.core.display.Math object>"
      ]
     },
     "metadata": {},
     "output_type": "display_data"
    },
    {
     "name": "stdout",
     "output_type": "stream",
     "text": [
      "eq_2 =\n"
     ]
    },
    {
     "data": {
      "text/latex": [
       "$\\displaystyle {\\left(k_{z}^{2} - \\kappa_{\\mathit{vacuum}}^{2}\\right)} H_{{\\rm inner}_{{\\rm vacuum}_{f_{x}}}}\\left(x\\right) = -k_{y} \\kappa_{\\mathit{vacuum}} E_{{\\rm inner}_{{\\rm vacuum}_{z}}}\\left(x\\right) - i \\, k_{z} \\frac{\\partial}{\\partial x}H_{{\\rm inner}_{{\\rm vacuum}_{f_{z}}}}\\left(x\\right)$"
      ],
      "text/plain": [
       "<IPython.core.display.Math object>"
      ]
     },
     "metadata": {},
     "output_type": "display_data"
    }
   ],
   "source": [
    "print (\"eq_1 =\")\n",
    "#print             (eq_1)\n",
    "display(Math(latex(eq_1)))\n",
    "\n",
    "print (\"eq_2 =\")\n",
    "#print             (eq_2)\n",
    "display(Math(latex(eq_2)))\n"
   ]
  },
  {
   "cell_type": "raw",
   "metadata": {},
   "source": [
    "print (\"eq_3 =\")\n",
    "print             (eq_3)\n",
    "display(Math(latex(eq_3)))\n",
    "\n",
    "print (\"eq_4 =\")\n",
    "print             (eq_4)\n",
    "display(Math(latex(eq_4)))"
   ]
  },
  {
   "cell_type": "code",
   "execution_count": 60,
   "metadata": {},
   "outputs": [
    {
     "name": "stdout",
     "output_type": "stream",
     "text": [
      "eq_1 =\n"
     ]
    },
    {
     "data": {
      "text/latex": [
       "$\\displaystyle -{\\left(k_{z}^{2} - \\kappa_{\\mathit{vacuum}}^{2}\\right)} E_{{\\rm inner}_{{\\rm vacuum}_{y}}}\\left(x\\right) = -k_{y} k_{z} E_{{\\rm inner}_{{\\rm vacuum}_{z}}}\\left(x\\right) - i \\, \\kappa_{\\mathit{vacuum}} \\frac{\\partial}{\\partial x}H_{{\\rm inner}_{{\\rm vacuum}_{f_{z}}}}\\left(x\\right)$"
      ],
      "text/plain": [
       "<IPython.core.display.Math object>"
      ]
     },
     "metadata": {},
     "output_type": "display_data"
    }
   ],
   "source": [
    "print (\"eq_1 =\")\n",
    "#print             (eq_1)\n",
    "display(Math(latex(eq_1)))"
   ]
  },
  {
   "cell_type": "code",
   "execution_count": 61,
   "metadata": {
    "scrolled": true
   },
   "outputs": [
    {
     "data": {
      "text/latex": [
       "$\\displaystyle -{\\left(k_{z}^{2} - \\kappa_{\\mathit{vacuum}}^{2}\\right)} E_{{\\rm inner}_{{\\rm vacuum}_{y}}}\\left(x\\right) = -i \\, \\kappa_{\\mathit{vacuum}} \\frac{\\partial}{\\partial x}H_{{\\rm inner}_{{\\rm vacuum}_{f_{z}}}}\\left(x\\right)$"
      ],
      "text/plain": [
       "<IPython.core.display.Math object>"
      ]
     },
     "metadata": {},
     "output_type": "display_data"
    }
   ],
   "source": [
    "eq_1_subs1 = eq_1.subs(k_y == 0)\n",
    "#print             (eq_1_subs1)\n",
    "display(Math(latex(eq_1_subs1)))"
   ]
  },
  {
   "cell_type": "code",
   "execution_count": 62,
   "metadata": {
    "scrolled": true
   },
   "outputs": [
    {
     "data": {
      "text/latex": [
       "$\\displaystyle E_{{\\rm inner}_{{\\rm vacuum}_{y}}}\\left(x\\right) = \\frac{i \\, \\kappa_{\\mathit{vacuum}} \\frac{\\partial}{\\partial x}H_{{\\rm inner}_{{\\rm vacuum}_{f_{z}}}}\\left(x\\right)}{k_{z}^{2} - \\kappa_{\\mathit{vacuum}}^{2}}$"
      ],
      "text/plain": [
       "<IPython.core.display.Math object>"
      ]
     },
     "metadata": {},
     "output_type": "display_data"
    }
   ],
   "source": [
    "eq_1_subs2 = (eq_1_subs1/(kappa_vacuum^2 - k_z^2)).full_simplify()\n",
    "#print             (eq_1_subs2)\n",
    "display(Math(latex(eq_1_subs2)))"
   ]
  },
  {
   "cell_type": "code",
   "execution_count": 63,
   "metadata": {
    "scrolled": true
   },
   "outputs": [
    {
     "name": "stdout",
     "output_type": "stream",
     "text": [
      "E_inner_vacuum_y(x) == -(A2_y*K_vacuum^2*e^(I*K_vacuum*x) + A1_y*K_vacuum^2*e^(-I*K_vacuum*x) + I*(I*A2_x*K_vacuum*e^(I*K_vacuum*x) - I*A1_x*K_vacuum*e^(-I*K_vacuum*x))*k_y)*c*kappa_vacuum/((k_z^2 - kappa_vacuum^2)*omega)\n"
     ]
    },
    {
     "data": {
      "text/latex": [
       "$\\displaystyle E_{{\\rm inner}_{{\\rm vacuum}_{y}}}\\left(x\\right) = -\\frac{{\\left(\\mathit{A2}_{y} K_{\\mathit{vacuum}}^{2} e^{\\left(i \\, K_{\\mathit{vacuum}} x\\right)} + \\mathit{A1}_{y} K_{\\mathit{vacuum}}^{2} e^{\\left(-i \\, K_{\\mathit{vacuum}} x\\right)} + i \\, {\\left(i \\, \\mathit{A2}_{x} K_{\\mathit{vacuum}} e^{\\left(i \\, K_{\\mathit{vacuum}} x\\right)} - i \\, \\mathit{A1}_{x} K_{\\mathit{vacuum}} e^{\\left(-i \\, K_{\\mathit{vacuum}} x\\right)}\\right)} k_{y}\\right)} c \\kappa_{\\mathit{vacuum}}}{{\\left(k_{z}^{2} - \\kappa_{\\mathit{vacuum}}^{2}\\right)} \\omega}$"
      ],
      "text/plain": [
       "<IPython.core.display.Math object>"
      ]
     },
     "metadata": {},
     "output_type": "display_data"
    }
   ],
   "source": [
    "eq_1_subs3 = eq_1_subs2.substitute_function(H_inner_vacuum_f_z, H_inner_vacuum_sol_z)\n",
    "print             (eq_1_subs3)\n",
    "display(Math(latex(eq_1_subs3)))"
   ]
  },
  {
   "cell_type": "code",
   "execution_count": 64,
   "metadata": {},
   "outputs": [
    {
     "data": {
      "text/latex": [
       "$\\displaystyle E_{{\\rm inner}_{{\\rm vacuum}_{y}}}\\left(x\\right) = -\\frac{\\mathit{A2}_{y} K_{\\mathit{vacuum}}^{2} e^{\\left(i \\, K_{\\mathit{vacuum}} x\\right)} + \\mathit{A1}_{y} K_{\\mathit{vacuum}}^{2} e^{\\left(-i \\, K_{\\mathit{vacuum}} x\\right)} + i \\, {\\left(i \\, \\mathit{A2}_{x} K_{\\mathit{vacuum}} e^{\\left(i \\, K_{\\mathit{vacuum}} x\\right)} - i \\, \\mathit{A1}_{x} K_{\\mathit{vacuum}} e^{\\left(-i \\, K_{\\mathit{vacuum}} x\\right)}\\right)} k_{y}}{k_{z}^{2} - \\kappa_{\\mathit{vacuum}}^{2}}$"
      ],
      "text/plain": [
       "<IPython.core.display.Math object>"
      ]
     },
     "metadata": {},
     "output_type": "display_data"
    }
   ],
   "source": [
    "eq_1_subs4 = eq_1_subs3.subs(omega==c*kappa_vacuum/sqrt(epsilon_0*mu_0))\n",
    "#print             (eq_1_subs4)\n",
    "display(Math(latex(eq_1_subs4)))"
   ]
  },
  {
   "cell_type": "code",
   "execution_count": null,
   "metadata": {},
   "outputs": [],
   "source": []
  },
  {
   "cell_type": "code",
   "execution_count": 65,
   "metadata": {},
   "outputs": [
    {
     "name": "stdout",
     "output_type": "stream",
     "text": [
      "eq_2 =\n"
     ]
    },
    {
     "data": {
      "text/latex": [
       "$\\displaystyle {\\left(k_{z}^{2} - \\kappa_{\\mathit{vacuum}}^{2}\\right)} H_{{\\rm inner}_{{\\rm vacuum}_{f_{x}}}}\\left(x\\right) = -k_{y} \\kappa_{\\mathit{vacuum}} E_{{\\rm inner}_{{\\rm vacuum}_{z}}}\\left(x\\right) - i \\, k_{z} \\frac{\\partial}{\\partial x}H_{{\\rm inner}_{{\\rm vacuum}_{f_{z}}}}\\left(x\\right)$"
      ],
      "text/plain": [
       "<IPython.core.display.Math object>"
      ]
     },
     "metadata": {},
     "output_type": "display_data"
    }
   ],
   "source": [
    "print (\"eq_2 =\")\n",
    "#print             (eq_2)\n",
    "display(Math(latex(eq_2)))"
   ]
  },
  {
   "cell_type": "code",
   "execution_count": 66,
   "metadata": {
    "scrolled": true
   },
   "outputs": [
    {
     "data": {
      "text/latex": [
       "$\\displaystyle {\\left(k_{z}^{2} - \\kappa_{\\mathit{vacuum}}^{2}\\right)} H_{{\\rm inner}_{{\\rm vacuum}_{f_{x}}}}\\left(x\\right) = -i \\, k_{z} \\frac{\\partial}{\\partial x}H_{{\\rm inner}_{{\\rm vacuum}_{f_{z}}}}\\left(x\\right)$"
      ],
      "text/plain": [
       "<IPython.core.display.Math object>"
      ]
     },
     "metadata": {},
     "output_type": "display_data"
    }
   ],
   "source": [
    "eq_2_subs1 = eq_2.subs(k_y == 0)\n",
    "#print             (eq_2_subs1)\n",
    "display(Math(latex(eq_2_subs1)))"
   ]
  },
  {
   "cell_type": "code",
   "execution_count": 67,
   "metadata": {
    "scrolled": true
   },
   "outputs": [
    {
     "data": {
      "text/latex": [
       "$\\displaystyle -H_{{\\rm inner}_{{\\rm vacuum}_{f_{x}}}}\\left(x\\right) = \\frac{i \\, k_{z} \\frac{\\partial}{\\partial x}H_{{\\rm inner}_{{\\rm vacuum}_{f_{z}}}}\\left(x\\right)}{k_{z}^{2} - \\kappa_{\\mathit{vacuum}}^{2}}$"
      ],
      "text/plain": [
       "<IPython.core.display.Math object>"
      ]
     },
     "metadata": {},
     "output_type": "display_data"
    }
   ],
   "source": [
    "eq_2_subs2 = (eq_2_subs1/(kappa_vacuum^2 - k_z^2)).full_simplify()\n",
    "#print             (eq_2_subs2)\n",
    "display(Math(latex(eq_2_subs2)))"
   ]
  },
  {
   "cell_type": "code",
   "execution_count": 68,
   "metadata": {
    "scrolled": true
   },
   "outputs": [
    {
     "data": {
      "text/latex": [
       "$\\displaystyle -H_{{\\rm inner}_{{\\rm vacuum}_{f_{x}}}}\\left(x\\right) = -\\frac{{\\left(\\mathit{A2}_{y} K_{\\mathit{vacuum}}^{2} e^{\\left(i \\, K_{\\mathit{vacuum}} x\\right)} + \\mathit{A1}_{y} K_{\\mathit{vacuum}}^{2} e^{\\left(-i \\, K_{\\mathit{vacuum}} x\\right)} + i \\, {\\left(i \\, \\mathit{A2}_{x} K_{\\mathit{vacuum}} e^{\\left(i \\, K_{\\mathit{vacuum}} x\\right)} - i \\, \\mathit{A1}_{x} K_{\\mathit{vacuum}} e^{\\left(-i \\, K_{\\mathit{vacuum}} x\\right)}\\right)} k_{y}\\right)} c k_{z}}{{\\left(k_{z}^{2} - \\kappa_{\\mathit{vacuum}}^{2}\\right)} \\omega}$"
      ],
      "text/plain": [
       "<IPython.core.display.Math object>"
      ]
     },
     "metadata": {},
     "output_type": "display_data"
    }
   ],
   "source": [
    "eq_2_subs3 = eq_2_subs2.substitute_function(H_inner_vacuum_f_z, H_inner_vacuum_sol_z)\n",
    "#print             (eq_2_subs3)\n",
    "display(Math(latex(eq_2_subs3)))"
   ]
  },
  {
   "cell_type": "code",
   "execution_count": 69,
   "metadata": {},
   "outputs": [
    {
     "name": "stdout",
     "output_type": "stream",
     "text": [
      "-H_inner_vacuum_f_x(x) == -(A2_y*K_vacuum^2*e^(I*K_vacuum*x) + A1_y*K_vacuum^2*e^(-I*K_vacuum*x) + I*(I*A2_x*K_vacuum*e^(I*K_vacuum*x) - I*A1_x*K_vacuum*e^(-I*K_vacuum*x))*k_y)*k_z/((k_z^2 - kappa_vacuum^2)*kappa_vacuum)\n"
     ]
    },
    {
     "data": {
      "text/latex": [
       "$\\displaystyle -H_{{\\rm inner}_{{\\rm vacuum}_{f_{x}}}}\\left(x\\right) = -\\frac{{\\left(\\mathit{A2}_{y} K_{\\mathit{vacuum}}^{2} e^{\\left(i \\, K_{\\mathit{vacuum}} x\\right)} + \\mathit{A1}_{y} K_{\\mathit{vacuum}}^{2} e^{\\left(-i \\, K_{\\mathit{vacuum}} x\\right)} + i \\, {\\left(i \\, \\mathit{A2}_{x} K_{\\mathit{vacuum}} e^{\\left(i \\, K_{\\mathit{vacuum}} x\\right)} - i \\, \\mathit{A1}_{x} K_{\\mathit{vacuum}} e^{\\left(-i \\, K_{\\mathit{vacuum}} x\\right)}\\right)} k_{y}\\right)} k_{z}}{{\\left(k_{z}^{2} - \\kappa_{\\mathit{vacuum}}^{2}\\right)} \\kappa_{\\mathit{vacuum}}}$"
      ],
      "text/plain": [
       "<IPython.core.display.Math object>"
      ]
     },
     "metadata": {},
     "output_type": "display_data"
    }
   ],
   "source": [
    "eq_2_subs4 = eq_2_subs3.subs(omega==c*kappa_vacuum/sqrt(epsilon_0*mu_0))\n",
    "print             (eq_2_subs4)\n",
    "display(Math(latex(eq_2_subs4)))"
   ]
  },
  {
   "cell_type": "code",
   "execution_count": null,
   "metadata": {},
   "outputs": [],
   "source": []
  },
  {
   "cell_type": "raw",
   "metadata": {},
   "source": [
    "print (\"eq_3 =\")\n",
    "print             (eq_3)\n",
    "display(Math(latex(eq_3)))"
   ]
  },
  {
   "cell_type": "raw",
   "metadata": {
    "scrolled": true
   },
   "source": [
    "eq_3_subs1 = eq_3.subs(k_y == 0)\n",
    "print             (eq_3_subs1)\n",
    "display(Math(latex(eq_3_subs1)))"
   ]
  },
  {
   "cell_type": "raw",
   "metadata": {
    "scrolled": true
   },
   "source": [
    "eq_3_subs2 = (eq_3_subs1/(kappa^2 - k_z^2)).full_simplify()\n",
    "print             (eq_3_subs2)\n",
    "display(Math(latex(eq_3_subs2)))"
   ]
  },
  {
   "cell_type": "raw",
   "metadata": {
    "scrolled": true
   },
   "source": [
    "eq_3_subs3 = eq_3_subs2.substitute_function(H_bad_conductor_f_z, H_bad_conductor_sol_z)\n",
    "print             (eq_3_subs3)\n",
    "display(Math(latex(eq_3_subs3)))"
   ]
  },
  {
   "cell_type": "raw",
   "metadata": {},
   "source": [
    "eq_3_subs4 = eq_3_subs3.subs(omega==c*kappa/sqrt(epsilon*mu))\n",
    "print             (eq_3_subs4)\n",
    "display(Math(latex(eq_3_subs4)))"
   ]
  },
  {
   "cell_type": "code",
   "execution_count": null,
   "metadata": {},
   "outputs": [],
   "source": []
  },
  {
   "cell_type": "raw",
   "metadata": {},
   "source": [
    "print (\"eq_4 =\")\n",
    "print             (eq_4)\n",
    "display(Math(latex(eq_4)))"
   ]
  },
  {
   "cell_type": "raw",
   "metadata": {
    "scrolled": true
   },
   "source": [
    "eq_4_subs1 = eq_4.subs(k_y == 0)\n",
    "print             (eq_4_subs1)\n",
    "display(Math(latex(eq_4_subs1)))"
   ]
  },
  {
   "cell_type": "raw",
   "metadata": {
    "scrolled": true
   },
   "source": [
    "eq_4_subs2 = (eq_4_subs1/(kappa^2 - k_z^2)).full_simplify()\n",
    "print             (eq_4_subs2)\n",
    "display(Math(latex(eq_4_subs2)))"
   ]
  },
  {
   "cell_type": "raw",
   "metadata": {
    "scrolled": true
   },
   "source": [
    "eq_4_subs3 = eq_4_subs2.substitute_function(H_bad_conductor_f_z, H_bad_conductor_sol_z)\n",
    "print             (eq_4_subs3)\n",
    "display(Math(latex(eq_4_subs3)))"
   ]
  },
  {
   "cell_type": "raw",
   "metadata": {},
   "source": [
    "eq_4_subs4 = eq_4_subs3.subs(omega==c*kappa/sqrt(epsilon*mu))\n",
    "print             (eq_4_subs4)\n",
    "display(Math(latex(eq_4_subs4)))"
   ]
  },
  {
   "cell_type": "code",
   "execution_count": null,
   "metadata": {},
   "outputs": [],
   "source": []
  },
  {
   "cell_type": "code",
   "execution_count": 70,
   "metadata": {},
   "outputs": [
    {
     "name": "stdout",
     "output_type": "stream",
     "text": [
      "eq_5_Ex =\n"
     ]
    },
    {
     "data": {
      "text/latex": [
       "$\\displaystyle -{\\left(k_{z}^{2} - \\kappa_{\\mathit{vacuum}}^{2}\\right)} E_{{\\rm inner}_{{\\rm vacuum}_{x}}}\\left(x\\right) = -k_{y} \\kappa_{\\mathit{vacuum}} H_{{\\rm inner}_{{\\rm vacuum}_{f_{z}}}}\\left(x\\right) + i \\, k_{z} \\frac{\\partial}{\\partial x}E_{{\\rm inner}_{{\\rm vacuum}_{z}}}\\left(x\\right)$"
      ],
      "text/plain": [
       "<IPython.core.display.Math object>"
      ]
     },
     "metadata": {},
     "output_type": "display_data"
    },
    {
     "name": "stdout",
     "output_type": "stream",
     "text": [
      "eq_6_Hy =\n"
     ]
    },
    {
     "data": {
      "text/latex": [
       "$\\displaystyle -{\\left(k_{z}^{2} - \\kappa_{\\mathit{vacuum}}^{2}\\right)} H_{{\\rm inner}_{{\\rm vacuum}_{f_{y}}}}\\left(x\\right) = -k_{y} k_{z} H_{{\\rm inner}_{{\\rm vacuum}_{f_{z}}}}\\left(x\\right) + i \\, \\kappa_{\\mathit{vacuum}} \\frac{\\partial}{\\partial x}E_{{\\rm inner}_{{\\rm vacuum}_{z}}}\\left(x\\right)$"
      ],
      "text/plain": [
       "<IPython.core.display.Math object>"
      ]
     },
     "metadata": {},
     "output_type": "display_data"
    }
   ],
   "source": [
    "print (\"eq_5_Ex =\")\n",
    "#print             (eq_5_Ex)\n",
    "display(Math(latex(eq_5_Ex)))\n",
    "\n",
    "print (\"eq_6_Hy =\")\n",
    "#print             (eq_6_Hy)\n",
    "display(Math(latex(eq_6_Hy)))"
   ]
  },
  {
   "cell_type": "code",
   "execution_count": 71,
   "metadata": {},
   "outputs": [
    {
     "name": "stdout",
     "output_type": "stream",
     "text": [
      "eq_7_Ex_l =\n"
     ]
    },
    {
     "data": {
      "text/latex": [
       "$\\displaystyle E_{{\\rm left}_{{\\rm conductor}_{x}}}\\left(x\\right) = \\frac{c k_{y} \\kappa_{l} \\sqrt{\\mu_{l}} H_{{\\rm left}_{{\\rm conductor}_{f_{z}}}}\\left(x\\right) - i \\, c \\sqrt{\\epsilon_{l}} k_{z} \\frac{\\partial}{\\partial x}E_{{\\rm left}_{{\\rm conductor}_{z}}}\\left(x\\right)}{c \\sqrt{\\epsilon_{l}} k_{z}^{2} - c \\sqrt{\\epsilon_{l}} \\kappa_{l}^{2} - 4 i \\, \\pi \\kappa_{l} \\sqrt{\\mu_{l}} \\sigma_{l}}$"
      ],
      "text/plain": [
       "<IPython.core.display.Math object>"
      ]
     },
     "metadata": {},
     "output_type": "display_data"
    },
    {
     "name": "stdout",
     "output_type": "stream",
     "text": [
      "eq_8_Hy_l =\n"
     ]
    },
    {
     "data": {
      "text/latex": [
       "$\\displaystyle H_{{\\rm left}_{{\\rm conductor}_{f_{y}}}}\\left(x\\right) = -\\frac{c \\epsilon_{l} k_{y} k_{z} \\sqrt{\\mu_{l}} H_{{\\rm left}_{{\\rm conductor}_{f_{z}}}}\\left(x\\right) - {\\left(i \\, c \\epsilon_{l}^{\\frac{3}{2}} \\kappa_{l} - 4 \\, \\pi \\epsilon_{l} \\sqrt{\\mu_{l}} \\sigma_{l}\\right)} \\frac{\\partial}{\\partial x}E_{{\\rm left}_{{\\rm conductor}_{z}}}\\left(x\\right)}{4 i \\, \\pi \\sqrt{\\epsilon_{l}} \\kappa_{l} \\mu_{l} \\sigma_{l} - {\\left(c \\epsilon_{l} k_{z}^{2} - c \\epsilon_{l} \\kappa_{l}^{2}\\right)} \\sqrt{\\mu_{l}}}$"
      ],
      "text/plain": [
       "<IPython.core.display.Math object>"
      ]
     },
     "metadata": {},
     "output_type": "display_data"
    }
   ],
   "source": [
    "print (\"eq_7_Ex_l =\")\n",
    "#print             (eq_7_Ex_l)\n",
    "display(Math(latex(eq_7_Ex_l)))\n",
    "\n",
    "print (\"eq_8_Hy_l =\")\n",
    "#print             (eq_8_Hy_l)\n",
    "display(Math(latex(eq_8_Hy_l)))"
   ]
  },
  {
   "cell_type": "code",
   "execution_count": 72,
   "metadata": {},
   "outputs": [
    {
     "name": "stdout",
     "output_type": "stream",
     "text": [
      "eq_7_Ex_r =\n"
     ]
    },
    {
     "data": {
      "text/latex": [
       "$\\displaystyle E_{{\\rm right}_{{\\rm conductor}_{x}}}\\left(x\\right) = \\frac{c k_{y} \\kappa_{r} \\sqrt{\\mu_{r}} H_{{\\rm right}_{{\\rm conductor}_{f_{z}}}}\\left(x\\right) - i \\, c \\sqrt{\\epsilon_{r}} k_{z} \\frac{\\partial}{\\partial x}E_{{\\rm right}_{{\\rm conductor}_{z}}}\\left(x\\right)}{c \\sqrt{\\epsilon_{r}} k_{z}^{2} - c \\sqrt{\\epsilon_{r}} \\kappa_{r}^{2} - 4 i \\, \\pi \\kappa_{r} \\sqrt{\\mu_{r}} \\sigma_{r}}$"
      ],
      "text/plain": [
       "<IPython.core.display.Math object>"
      ]
     },
     "metadata": {},
     "output_type": "display_data"
    },
    {
     "name": "stdout",
     "output_type": "stream",
     "text": [
      "eq_8_Hy_r =\n"
     ]
    },
    {
     "data": {
      "text/latex": [
       "$\\displaystyle H_{{\\rm right}_{{\\rm conductor}_{f_{y}}}}\\left(x\\right) = -\\frac{c \\epsilon_{r} k_{y} k_{z} \\sqrt{\\mu_{r}} H_{{\\rm right}_{{\\rm conductor}_{f_{z}}}}\\left(x\\right) - {\\left(i \\, c \\epsilon_{r}^{\\frac{3}{2}} \\kappa_{r} - 4 \\, \\pi \\epsilon_{r} \\sqrt{\\mu_{r}} \\sigma_{r}\\right)} \\frac{\\partial}{\\partial x}E_{{\\rm right}_{{\\rm conductor}_{z}}}\\left(x\\right)}{4 i \\, \\pi \\sqrt{\\epsilon_{r}} \\kappa_{r} \\mu_{r} \\sigma_{r} - {\\left(c \\epsilon_{r} k_{z}^{2} - c \\epsilon_{r} \\kappa_{r}^{2}\\right)} \\sqrt{\\mu_{r}}}$"
      ],
      "text/plain": [
       "<IPython.core.display.Math object>"
      ]
     },
     "metadata": {},
     "output_type": "display_data"
    }
   ],
   "source": [
    "print (\"eq_7_Ex_r =\")\n",
    "#print             (eq_7_Ex_r)\n",
    "display(Math(latex(eq_7_Ex_r)))\n",
    "\n",
    "print (\"eq_8_Hy_r =\")\n",
    "#print             (eq_8_Hy_r)\n",
    "display(Math(latex(eq_8_Hy_r)))"
   ]
  },
  {
   "cell_type": "code",
   "execution_count": null,
   "metadata": {},
   "outputs": [],
   "source": []
  },
  {
   "cell_type": "code",
   "execution_count": 73,
   "metadata": {},
   "outputs": [
    {
     "name": "stdout",
     "output_type": "stream",
     "text": [
      "eq_5_Ex =\n"
     ]
    },
    {
     "data": {
      "text/latex": [
       "$\\displaystyle -{\\left(k_{z}^{2} - \\kappa_{\\mathit{vacuum}}^{2}\\right)} E_{{\\rm inner}_{{\\rm vacuum}_{x}}}\\left(x\\right) = -k_{y} \\kappa_{\\mathit{vacuum}} H_{{\\rm inner}_{{\\rm vacuum}_{f_{z}}}}\\left(x\\right) + i \\, k_{z} \\frac{\\partial}{\\partial x}E_{{\\rm inner}_{{\\rm vacuum}_{z}}}\\left(x\\right)$"
      ],
      "text/plain": [
       "<IPython.core.display.Math object>"
      ]
     },
     "metadata": {},
     "output_type": "display_data"
    }
   ],
   "source": [
    "print (\"eq_5_Ex =\")\n",
    "#print             (eq_5_Ex)\n",
    "display(Math(latex(eq_5_Ex)))"
   ]
  },
  {
   "cell_type": "code",
   "execution_count": 74,
   "metadata": {
    "scrolled": true
   },
   "outputs": [
    {
     "name": "stdout",
     "output_type": "stream",
     "text": [
      "-(k_z^2 - kappa_vacuum^2)*E_inner_vacuum_x(x) == I*k_z*diff(E_inner_vacuum_z(x), x)\n"
     ]
    },
    {
     "data": {
      "text/latex": [
       "$\\displaystyle -{\\left(k_{z}^{2} - \\kappa_{\\mathit{vacuum}}^{2}\\right)} E_{{\\rm inner}_{{\\rm vacuum}_{x}}}\\left(x\\right) = i \\, k_{z} \\frac{\\partial}{\\partial x}E_{{\\rm inner}_{{\\rm vacuum}_{z}}}\\left(x\\right)$"
      ],
      "text/plain": [
       "<IPython.core.display.Math object>"
      ]
     },
     "metadata": {},
     "output_type": "display_data"
    }
   ],
   "source": [
    "eq_5_Ex_subs1 = eq_5_Ex.subs(k_y == 0)\n",
    "print             (eq_5_Ex_subs1)\n",
    "display(Math(latex(eq_5_Ex_subs1)))"
   ]
  },
  {
   "cell_type": "code",
   "execution_count": 75,
   "metadata": {
    "scrolled": true
   },
   "outputs": [
    {
     "name": "stdout",
     "output_type": "stream",
     "text": [
      "E_inner_vacuum_x(x) == -I*k_z*diff(E_inner_vacuum_z(x), x)/(k_z^2 - kappa_vacuum^2)\n"
     ]
    },
    {
     "data": {
      "text/latex": [
       "$\\displaystyle E_{{\\rm inner}_{{\\rm vacuum}_{x}}}\\left(x\\right) = -\\frac{i \\, k_{z} \\frac{\\partial}{\\partial x}E_{{\\rm inner}_{{\\rm vacuum}_{z}}}\\left(x\\right)}{k_{z}^{2} - \\kappa_{\\mathit{vacuum}}^{2}}$"
      ],
      "text/plain": [
       "<IPython.core.display.Math object>"
      ]
     },
     "metadata": {},
     "output_type": "display_data"
    }
   ],
   "source": [
    "eq_5_Ex_subs2 = (eq_5_Ex_subs1/(kappa_vacuum^2 - k_z^2)).full_simplify()\n",
    "print             (eq_5_Ex_subs2)\n",
    "display(Math(latex(eq_5_Ex_subs2)))"
   ]
  },
  {
   "cell_type": "code",
   "execution_count": 76,
   "metadata": {
    "scrolled": true
   },
   "outputs": [
    {
     "name": "stdout",
     "output_type": "stream",
     "text": [
      "E_inner_vacuum_x(x) == -I*(I*A2_z*K_vacuum*e^(I*K_vacuum*x) - I*A1_z*K_vacuum*e^(-I*K_vacuum*x))*k_z/(k_z^2 - kappa_vacuum^2)\n"
     ]
    },
    {
     "data": {
      "text/latex": [
       "$\\displaystyle E_{{\\rm inner}_{{\\rm vacuum}_{x}}}\\left(x\\right) = -\\frac{i \\, {\\left(i \\, \\mathit{A2}_{z} K_{\\mathit{vacuum}} e^{\\left(i \\, K_{\\mathit{vacuum}} x\\right)} - i \\, \\mathit{A1}_{z} K_{\\mathit{vacuum}} e^{\\left(-i \\, K_{\\mathit{vacuum}} x\\right)}\\right)} k_{z}}{k_{z}^{2} - \\kappa_{\\mathit{vacuum}}^{2}}$"
      ],
      "text/plain": [
       "<IPython.core.display.Math object>"
      ]
     },
     "metadata": {},
     "output_type": "display_data"
    }
   ],
   "source": [
    "eq_5_Ex_subs3 = eq_5_Ex_subs2.substitute_function(E_inner_vacuum_z, E_inner_vacuum_sol_z)\n",
    "print             (eq_5_Ex_subs3)\n",
    "display(Math(latex(eq_5_Ex_subs3)))"
   ]
  },
  {
   "cell_type": "code",
   "execution_count": 77,
   "metadata": {},
   "outputs": [
    {
     "name": "stdout",
     "output_type": "stream",
     "text": [
      "E_inner_vacuum_x(x) == -(A2_z*k_z*e^(2*I*sqrt(-k_z^2 + kappa_vacuum^2)*x) - A1_z*k_z)*e^(-I*sqrt(-k_z^2 + kappa_vacuum^2)*x)/sqrt(-k_z^2 + kappa_vacuum^2)\n"
     ]
    },
    {
     "data": {
      "text/latex": [
       "$\\displaystyle E_{{\\rm inner}_{{\\rm vacuum}_{x}}}\\left(x\\right) = -\\frac{{\\left(\\mathit{A2}_{z} k_{z} e^{\\left(2 i \\, \\sqrt{-k_{z}^{2} + \\kappa_{\\mathit{vacuum}}^{2}} x\\right)} - \\mathit{A1}_{z} k_{z}\\right)} e^{\\left(-i \\, \\sqrt{-k_{z}^{2} + \\kappa_{\\mathit{vacuum}}^{2}} x\\right)}}{\\sqrt{-k_{z}^{2} + \\kappa_{\\mathit{vacuum}}^{2}}}$"
      ],
      "text/plain": [
       "<IPython.core.display.Math object>"
      ]
     },
     "metadata": {},
     "output_type": "display_data"
    }
   ],
   "source": [
    "eq_5_Ex_subs4 = eq_5_Ex_subs3.subs(K_vacuum_subs).full_simplify()\n",
    "print             (eq_5_Ex_subs4)\n",
    "display(Math(latex(eq_5_Ex_subs4)))"
   ]
  },
  {
   "cell_type": "code",
   "execution_count": null,
   "metadata": {},
   "outputs": [],
   "source": []
  },
  {
   "cell_type": "code",
   "execution_count": 78,
   "metadata": {},
   "outputs": [
    {
     "name": "stdout",
     "output_type": "stream",
     "text": [
      "eq_6_Hy =\n",
      "-(k_z^2 - kappa_vacuum^2)*H_inner_vacuum_f_y(x) == -k_y*k_z*H_inner_vacuum_f_z(x) + I*kappa_vacuum*diff(E_inner_vacuum_z(x), x)\n"
     ]
    },
    {
     "data": {
      "text/latex": [
       "$\\displaystyle -{\\left(k_{z}^{2} - \\kappa_{\\mathit{vacuum}}^{2}\\right)} H_{{\\rm inner}_{{\\rm vacuum}_{f_{y}}}}\\left(x\\right) = -k_{y} k_{z} H_{{\\rm inner}_{{\\rm vacuum}_{f_{z}}}}\\left(x\\right) + i \\, \\kappa_{\\mathit{vacuum}} \\frac{\\partial}{\\partial x}E_{{\\rm inner}_{{\\rm vacuum}_{z}}}\\left(x\\right)$"
      ],
      "text/plain": [
       "<IPython.core.display.Math object>"
      ]
     },
     "metadata": {},
     "output_type": "display_data"
    }
   ],
   "source": [
    "print (\"eq_6_Hy =\")\n",
    "print             (eq_6_Hy)\n",
    "display(Math(latex(eq_6_Hy)))"
   ]
  },
  {
   "cell_type": "code",
   "execution_count": 79,
   "metadata": {
    "scrolled": true
   },
   "outputs": [
    {
     "name": "stdout",
     "output_type": "stream",
     "text": [
      "-(k_z^2 - kappa_vacuum^2)*H_inner_vacuum_f_y(x) == I*kappa_vacuum*diff(E_inner_vacuum_z(x), x)\n"
     ]
    },
    {
     "data": {
      "text/latex": [
       "$\\displaystyle -{\\left(k_{z}^{2} - \\kappa_{\\mathit{vacuum}}^{2}\\right)} H_{{\\rm inner}_{{\\rm vacuum}_{f_{y}}}}\\left(x\\right) = i \\, \\kappa_{\\mathit{vacuum}} \\frac{\\partial}{\\partial x}E_{{\\rm inner}_{{\\rm vacuum}_{z}}}\\left(x\\right)$"
      ],
      "text/plain": [
       "<IPython.core.display.Math object>"
      ]
     },
     "metadata": {},
     "output_type": "display_data"
    }
   ],
   "source": [
    "eq_6_Hy_subs1 = eq_6_Hy.subs(k_y == 0)\n",
    "print             (eq_6_Hy_subs1)\n",
    "display(Math(latex(eq_6_Hy_subs1)))"
   ]
  },
  {
   "cell_type": "code",
   "execution_count": 80,
   "metadata": {
    "scrolled": true
   },
   "outputs": [
    {
     "name": "stdout",
     "output_type": "stream",
     "text": [
      "H_inner_vacuum_f_y(x) == -I*kappa_vacuum*diff(E_inner_vacuum_z(x), x)/(k_z^2 - kappa_vacuum^2)\n"
     ]
    },
    {
     "data": {
      "text/latex": [
       "$\\displaystyle H_{{\\rm inner}_{{\\rm vacuum}_{f_{y}}}}\\left(x\\right) = -\\frac{i \\, \\kappa_{\\mathit{vacuum}} \\frac{\\partial}{\\partial x}E_{{\\rm inner}_{{\\rm vacuum}_{z}}}\\left(x\\right)}{k_{z}^{2} - \\kappa_{\\mathit{vacuum}}^{2}}$"
      ],
      "text/plain": [
       "<IPython.core.display.Math object>"
      ]
     },
     "metadata": {},
     "output_type": "display_data"
    }
   ],
   "source": [
    "eq_6_Hy_subs2 = (eq_6_Hy_subs1/(kappa_vacuum^2 - k_z^2)).full_simplify()\n",
    "print             (eq_6_Hy_subs2)\n",
    "display(Math(latex(eq_6_Hy_subs2)))"
   ]
  },
  {
   "cell_type": "code",
   "execution_count": 81,
   "metadata": {
    "scrolled": true
   },
   "outputs": [
    {
     "name": "stdout",
     "output_type": "stream",
     "text": [
      "H_inner_vacuum_f_y(x) == -I*(I*A2_z*K_vacuum*e^(I*K_vacuum*x) - I*A1_z*K_vacuum*e^(-I*K_vacuum*x))*kappa_vacuum/(k_z^2 - kappa_vacuum^2)\n"
     ]
    },
    {
     "data": {
      "text/latex": [
       "$\\displaystyle H_{{\\rm inner}_{{\\rm vacuum}_{f_{y}}}}\\left(x\\right) = -\\frac{i \\, {\\left(i \\, \\mathit{A2}_{z} K_{\\mathit{vacuum}} e^{\\left(i \\, K_{\\mathit{vacuum}} x\\right)} - i \\, \\mathit{A1}_{z} K_{\\mathit{vacuum}} e^{\\left(-i \\, K_{\\mathit{vacuum}} x\\right)}\\right)} \\kappa_{\\mathit{vacuum}}}{k_{z}^{2} - \\kappa_{\\mathit{vacuum}}^{2}}$"
      ],
      "text/plain": [
       "<IPython.core.display.Math object>"
      ]
     },
     "metadata": {},
     "output_type": "display_data"
    }
   ],
   "source": [
    "eq_6_Hy_subs3 = eq_6_Hy_subs2.substitute_function(E_inner_vacuum_z, E_inner_vacuum_sol_z)\n",
    "print             (eq_6_Hy_subs3)\n",
    "display(Math(latex(eq_6_Hy_subs3)))"
   ]
  },
  {
   "cell_type": "code",
   "execution_count": null,
   "metadata": {},
   "outputs": [],
   "source": []
  },
  {
   "cell_type": "code",
   "execution_count": 82,
   "metadata": {},
   "outputs": [
    {
     "name": "stdout",
     "output_type": "stream",
     "text": [
      "eq_7_Ex_l =\n"
     ]
    },
    {
     "data": {
      "text/latex": [
       "$\\displaystyle E_{{\\rm left}_{{\\rm conductor}_{x}}}\\left(x\\right) = \\frac{c k_{y} \\kappa_{l} \\sqrt{\\mu_{l}} H_{{\\rm left}_{{\\rm conductor}_{f_{z}}}}\\left(x\\right) - i \\, c \\sqrt{\\epsilon_{l}} k_{z} \\frac{\\partial}{\\partial x}E_{{\\rm left}_{{\\rm conductor}_{z}}}\\left(x\\right)}{c \\sqrt{\\epsilon_{l}} k_{z}^{2} - c \\sqrt{\\epsilon_{l}} \\kappa_{l}^{2} - 4 i \\, \\pi \\kappa_{l} \\sqrt{\\mu_{l}} \\sigma_{l}}$"
      ],
      "text/plain": [
       "<IPython.core.display.Math object>"
      ]
     },
     "metadata": {},
     "output_type": "display_data"
    }
   ],
   "source": [
    "print (\"eq_7_Ex_l =\")\n",
    "#print             (eq_7_Ex_l)\n",
    "display(Math(latex(eq_7_Ex_l)))"
   ]
  },
  {
   "cell_type": "code",
   "execution_count": 83,
   "metadata": {
    "scrolled": true
   },
   "outputs": [
    {
     "data": {
      "text/latex": [
       "$\\displaystyle E_{{\\rm left}_{{\\rm conductor}_{x}}}\\left(x\\right) = -\\frac{i \\, c \\sqrt{\\epsilon_{l}} k_{z} \\frac{\\partial}{\\partial x}E_{{\\rm left}_{{\\rm conductor}_{z}}}\\left(x\\right)}{c \\sqrt{\\epsilon_{l}} k_{z}^{2} - c \\sqrt{\\epsilon_{l}} \\kappa_{l}^{2} - 4 i \\, \\pi \\kappa_{l} \\sqrt{\\mu_{l}} \\sigma_{l}}$"
      ],
      "text/plain": [
       "<IPython.core.display.Math object>"
      ]
     },
     "metadata": {},
     "output_type": "display_data"
    }
   ],
   "source": [
    "eq_7_Ex_l_subs_1 = eq_7_Ex_l.subs(k_y == 0)\n",
    "#print             (eq_7_Ex_l_subs_1)\n",
    "display(Math(latex(eq_7_Ex_l_subs_1)))"
   ]
  },
  {
   "cell_type": "code",
   "execution_count": 84,
   "metadata": {},
   "outputs": [
    {
     "data": {
      "text/latex": [
       "$\\displaystyle E_{{\\rm left}_{{\\rm conductor}_{x}}}\\left(x\\right) = -\\frac{\\mathit{B1}_{\\mathit{zl}} K_{\\mathit{left}_{\\mathit{conductor}}} c \\sqrt{\\epsilon_{l}} k_{z} e^{\\left(-i \\, K_{\\mathit{left}_{\\mathit{conductor}}} {\\left(a + x\\right)}\\right)}}{c \\sqrt{\\epsilon_{l}} k_{z}^{2} - c \\sqrt{\\epsilon_{l}} \\kappa_{l}^{2} - 4 i \\, \\pi \\kappa_{l} \\sqrt{\\mu_{l}} \\sigma_{l}}$"
      ],
      "text/plain": [
       "<IPython.core.display.Math object>"
      ]
     },
     "metadata": {},
     "output_type": "display_data"
    }
   ],
   "source": [
    "eq_7_Ex_l_subs2 = eq_7_Ex_l_subs_1.substitute_function(E_left_conductor_z, E_left_conductor_sol_z)\n",
    "#print             (eq_7_Ex_subs2)\n",
    "display(Math(latex(eq_7_Ex_l_subs2)))"
   ]
  },
  {
   "cell_type": "code",
   "execution_count": null,
   "metadata": {},
   "outputs": [],
   "source": []
  },
  {
   "cell_type": "code",
   "execution_count": 85,
   "metadata": {},
   "outputs": [
    {
     "name": "stdout",
     "output_type": "stream",
     "text": [
      "eq_7_Ex_r =\n"
     ]
    },
    {
     "data": {
      "text/latex": [
       "$\\displaystyle E_{{\\rm right}_{{\\rm conductor}_{x}}}\\left(x\\right) = \\frac{c k_{y} \\kappa_{r} \\sqrt{\\mu_{r}} H_{{\\rm right}_{{\\rm conductor}_{f_{z}}}}\\left(x\\right) - i \\, c \\sqrt{\\epsilon_{r}} k_{z} \\frac{\\partial}{\\partial x}E_{{\\rm right}_{{\\rm conductor}_{z}}}\\left(x\\right)}{c \\sqrt{\\epsilon_{r}} k_{z}^{2} - c \\sqrt{\\epsilon_{r}} \\kappa_{r}^{2} - 4 i \\, \\pi \\kappa_{r} \\sqrt{\\mu_{r}} \\sigma_{r}}$"
      ],
      "text/plain": [
       "<IPython.core.display.Math object>"
      ]
     },
     "metadata": {},
     "output_type": "display_data"
    }
   ],
   "source": [
    "print (\"eq_7_Ex_r =\")\n",
    "#print             (eq_7_Ex_r)\n",
    "display(Math(latex(eq_7_Ex_r)))"
   ]
  },
  {
   "cell_type": "code",
   "execution_count": 86,
   "metadata": {
    "scrolled": true
   },
   "outputs": [
    {
     "data": {
      "text/latex": [
       "$\\displaystyle E_{{\\rm right}_{{\\rm conductor}_{x}}}\\left(x\\right) = -\\frac{i \\, c \\sqrt{\\epsilon_{r}} k_{z} \\frac{\\partial}{\\partial x}E_{{\\rm right}_{{\\rm conductor}_{z}}}\\left(x\\right)}{c \\sqrt{\\epsilon_{r}} k_{z}^{2} - c \\sqrt{\\epsilon_{r}} \\kappa_{r}^{2} - 4 i \\, \\pi \\kappa_{r} \\sqrt{\\mu_{r}} \\sigma_{r}}$"
      ],
      "text/plain": [
       "<IPython.core.display.Math object>"
      ]
     },
     "metadata": {},
     "output_type": "display_data"
    }
   ],
   "source": [
    "eq_7_Ex_r_subs_1 = eq_7_Ex_r.subs(k_y == 0)\n",
    "#print             (eq_7_Ex_r_subs_1)\n",
    "display(Math(latex(eq_7_Ex_r_subs_1)))"
   ]
  },
  {
   "cell_type": "code",
   "execution_count": 87,
   "metadata": {},
   "outputs": [
    {
     "data": {
      "text/latex": [
       "$\\displaystyle E_{{\\rm right}_{{\\rm conductor}_{x}}}\\left(x\\right) = \\frac{\\mathit{B1}_{\\mathit{zr}} K_{\\mathit{right}_{\\mathit{conductor}}} c \\sqrt{\\epsilon_{r}} k_{z} e^{\\left(-i \\, K_{\\mathit{right}_{\\mathit{conductor}}} {\\left(a - x\\right)}\\right)}}{c \\sqrt{\\epsilon_{r}} k_{z}^{2} - c \\sqrt{\\epsilon_{r}} \\kappa_{r}^{2} - 4 i \\, \\pi \\kappa_{r} \\sqrt{\\mu_{r}} \\sigma_{r}}$"
      ],
      "text/plain": [
       "<IPython.core.display.Math object>"
      ]
     },
     "metadata": {},
     "output_type": "display_data"
    }
   ],
   "source": [
    "eq_7_Ex_r_subs2 = eq_7_Ex_r_subs_1.substitute_function(E_right_conductor_z, E_right_conductor_sol_z)\n",
    "#print             (eq_7_Ex_subs2)\n",
    "display(Math(latex(eq_7_Ex_r_subs2)))"
   ]
  },
  {
   "cell_type": "code",
   "execution_count": null,
   "metadata": {},
   "outputs": [],
   "source": []
  },
  {
   "cell_type": "code",
   "execution_count": 88,
   "metadata": {},
   "outputs": [
    {
     "name": "stdout",
     "output_type": "stream",
     "text": [
      "eq_8_Hy_l =\n",
      "H_left_conductor_f_y(x) == -(c*epsilon_l*k_y*k_z*sqrt(mu_l)*H_left_conductor_f_z(x) - (I*c*epsilon_l^(3/2)*kappa_l - 4*pi*epsilon_l*sqrt(mu_l)*sigma_l)*diff(E_left_conductor_z(x), x))/(4*I*pi*sqrt(epsilon_l)*kappa_l*mu_l*sigma_l - (c*epsilon_l*k_z^2 - c*epsilon_l*kappa_l^2)*sqrt(mu_l))\n"
     ]
    },
    {
     "data": {
      "text/latex": [
       "$\\displaystyle H_{{\\rm left}_{{\\rm conductor}_{f_{y}}}}\\left(x\\right) = -\\frac{c \\epsilon_{l} k_{y} k_{z} \\sqrt{\\mu_{l}} H_{{\\rm left}_{{\\rm conductor}_{f_{z}}}}\\left(x\\right) - {\\left(i \\, c \\epsilon_{l}^{\\frac{3}{2}} \\kappa_{l} - 4 \\, \\pi \\epsilon_{l} \\sqrt{\\mu_{l}} \\sigma_{l}\\right)} \\frac{\\partial}{\\partial x}E_{{\\rm left}_{{\\rm conductor}_{z}}}\\left(x\\right)}{4 i \\, \\pi \\sqrt{\\epsilon_{l}} \\kappa_{l} \\mu_{l} \\sigma_{l} - {\\left(c \\epsilon_{l} k_{z}^{2} - c \\epsilon_{l} \\kappa_{l}^{2}\\right)} \\sqrt{\\mu_{l}}}$"
      ],
      "text/plain": [
       "<IPython.core.display.Math object>"
      ]
     },
     "metadata": {},
     "output_type": "display_data"
    }
   ],
   "source": [
    "print (\"eq_8_Hy_l =\")\n",
    "print             (eq_8_Hy_l)\n",
    "display(Math(latex(eq_8_Hy_l)))"
   ]
  },
  {
   "cell_type": "code",
   "execution_count": 89,
   "metadata": {
    "scrolled": true
   },
   "outputs": [
    {
     "data": {
      "text/latex": [
       "$\\displaystyle H_{{\\rm left}_{{\\rm conductor}_{f_{y}}}}\\left(x\\right) = \\frac{{\\left(i \\, c \\epsilon_{l}^{\\frac{3}{2}} \\kappa_{l} - 4 \\, \\pi \\epsilon_{l} \\sqrt{\\mu_{l}} \\sigma_{l}\\right)} \\frac{\\partial}{\\partial x}E_{{\\rm left}_{{\\rm conductor}_{z}}}\\left(x\\right)}{4 i \\, \\pi \\sqrt{\\epsilon_{l}} \\kappa_{l} \\mu_{l} \\sigma_{l} - {\\left(c \\epsilon_{l} k_{z}^{2} - c \\epsilon_{l} \\kappa_{l}^{2}\\right)} \\sqrt{\\mu_{l}}}$"
      ],
      "text/plain": [
       "<IPython.core.display.Math object>"
      ]
     },
     "metadata": {},
     "output_type": "display_data"
    }
   ],
   "source": [
    "eq_8_Hy_l_subs_1 = eq_8_Hy_l.subs(k_y == 0)\n",
    "#print             (eq_8_l_subs_1)\n",
    "display(Math(latex(eq_8_Hy_l_subs_1)))"
   ]
  },
  {
   "cell_type": "code",
   "execution_count": 90,
   "metadata": {
    "scrolled": true
   },
   "outputs": [
    {
     "data": {
      "text/latex": [
       "$\\displaystyle H_{{\\rm left}_{{\\rm conductor}_{f_{y}}}}\\left(x\\right) = -\\frac{i \\, {\\left(i \\, c \\epsilon_{l}^{\\frac{3}{2}} \\kappa_{l} - 4 \\, \\pi \\epsilon_{l} \\sqrt{\\mu_{l}} \\sigma_{l}\\right)} \\mathit{B1}_{\\mathit{zl}} K_{\\mathit{left}_{\\mathit{conductor}}} e^{\\left(-i \\, K_{\\mathit{left}_{\\mathit{conductor}}} {\\left(a + x\\right)}\\right)}}{4 i \\, \\pi \\sqrt{\\epsilon_{l}} \\kappa_{l} \\mu_{l} \\sigma_{l} - {\\left(c \\epsilon_{l} k_{z}^{2} - c \\epsilon_{l} \\kappa_{l}^{2}\\right)} \\sqrt{\\mu_{l}}}$"
      ],
      "text/plain": [
       "<IPython.core.display.Math object>"
      ]
     },
     "metadata": {},
     "output_type": "display_data"
    }
   ],
   "source": [
    "eq_8_Hy_l_subs2 = eq_8_Hy_l_subs_1.substitute_function(E_left_conductor_z, E_left_conductor_sol_z)\n",
    "#print             (eq_8_l_subs2)\n",
    "display(Math(latex(eq_8_Hy_l_subs2)))"
   ]
  },
  {
   "cell_type": "code",
   "execution_count": null,
   "metadata": {},
   "outputs": [],
   "source": []
  },
  {
   "cell_type": "code",
   "execution_count": 91,
   "metadata": {},
   "outputs": [
    {
     "name": "stdout",
     "output_type": "stream",
     "text": [
      "eq_8_Hy_r =\n"
     ]
    },
    {
     "data": {
      "text/latex": [
       "$\\displaystyle H_{{\\rm right}_{{\\rm conductor}_{f_{y}}}}\\left(x\\right) = -\\frac{c \\epsilon_{r} k_{y} k_{z} \\sqrt{\\mu_{r}} H_{{\\rm right}_{{\\rm conductor}_{f_{z}}}}\\left(x\\right) - {\\left(i \\, c \\epsilon_{r}^{\\frac{3}{2}} \\kappa_{r} - 4 \\, \\pi \\epsilon_{r} \\sqrt{\\mu_{r}} \\sigma_{r}\\right)} \\frac{\\partial}{\\partial x}E_{{\\rm right}_{{\\rm conductor}_{z}}}\\left(x\\right)}{4 i \\, \\pi \\sqrt{\\epsilon_{r}} \\kappa_{r} \\mu_{r} \\sigma_{r} - {\\left(c \\epsilon_{r} k_{z}^{2} - c \\epsilon_{r} \\kappa_{r}^{2}\\right)} \\sqrt{\\mu_{r}}}$"
      ],
      "text/plain": [
       "<IPython.core.display.Math object>"
      ]
     },
     "metadata": {},
     "output_type": "display_data"
    }
   ],
   "source": [
    "print (\"eq_8_Hy_r =\")\n",
    "#print             (eq_8_Hy_r)\n",
    "display(Math(latex(eq_8_Hy_r)))"
   ]
  },
  {
   "cell_type": "code",
   "execution_count": 92,
   "metadata": {
    "scrolled": true
   },
   "outputs": [
    {
     "data": {
      "text/latex": [
       "$\\displaystyle H_{{\\rm right}_{{\\rm conductor}_{f_{y}}}}\\left(x\\right) = \\frac{{\\left(i \\, c \\epsilon_{r}^{\\frac{3}{2}} \\kappa_{r} - 4 \\, \\pi \\epsilon_{r} \\sqrt{\\mu_{r}} \\sigma_{r}\\right)} \\frac{\\partial}{\\partial x}E_{{\\rm right}_{{\\rm conductor}_{z}}}\\left(x\\right)}{4 i \\, \\pi \\sqrt{\\epsilon_{r}} \\kappa_{r} \\mu_{r} \\sigma_{r} - {\\left(c \\epsilon_{r} k_{z}^{2} - c \\epsilon_{r} \\kappa_{r}^{2}\\right)} \\sqrt{\\mu_{r}}}$"
      ],
      "text/plain": [
       "<IPython.core.display.Math object>"
      ]
     },
     "metadata": {},
     "output_type": "display_data"
    }
   ],
   "source": [
    "eq_8_Hy_r_subs_1 = eq_8_Hy_r.subs(k_y == 0)\n",
    "#print             (eq_8_Hy_r_subs_1)\n",
    "display(Math(latex(eq_8_Hy_r_subs_1)))"
   ]
  },
  {
   "cell_type": "code",
   "execution_count": 93,
   "metadata": {},
   "outputs": [
    {
     "data": {
      "text/latex": [
       "$\\displaystyle H_{{\\rm right}_{{\\rm conductor}_{f_{y}}}}\\left(x\\right) = \\frac{i \\, {\\left(i \\, c \\epsilon_{r}^{\\frac{3}{2}} \\kappa_{r} - 4 \\, \\pi \\epsilon_{r} \\sqrt{\\mu_{r}} \\sigma_{r}\\right)} \\mathit{B1}_{\\mathit{zr}} K_{\\mathit{right}_{\\mathit{conductor}}} e^{\\left(-i \\, K_{\\mathit{right}_{\\mathit{conductor}}} {\\left(a - x\\right)}\\right)}}{4 i \\, \\pi \\sqrt{\\epsilon_{r}} \\kappa_{r} \\mu_{r} \\sigma_{r} - {\\left(c \\epsilon_{r} k_{z}^{2} - c \\epsilon_{r} \\kappa_{r}^{2}\\right)} \\sqrt{\\mu_{r}}}$"
      ],
      "text/plain": [
       "<IPython.core.display.Math object>"
      ]
     },
     "metadata": {},
     "output_type": "display_data"
    }
   ],
   "source": [
    "eq_8_Hy_r_subs2 = eq_8_Hy_r_subs_1.substitute_function(E_right_conductor_z, E_right_conductor_sol_z)\n",
    "#print             (eq_8_r_subs2)\n",
    "display(Math(latex(eq_8_Hy_r_subs2)))"
   ]
  },
  {
   "cell_type": "raw",
   "metadata": {},
   "source": [
    "fix_c_epsilon_complex = False"
   ]
  },
  {
   "cell_type": "code",
   "execution_count": 94,
   "metadata": {},
   "outputs": [
    {
     "data": {
      "text/latex": [
       "$\\displaystyle -\\frac{i \\, {\\left(i \\, c \\epsilon_{l}^{\\frac{3}{2}} \\kappa_{l} - 4 \\, \\pi \\epsilon_{l} \\sqrt{\\mu_{l}} \\sigma_{l}\\right)} \\sqrt{-k_{z}^{2} + \\kappa_{l}^{2}} \\mathit{B1}_{\\mathit{zl}} \\kappa_{l}}{{\\left(4 i \\, \\pi \\sqrt{\\epsilon_{l}} \\kappa_{l} \\mu_{l} \\sigma_{l} - {\\left(c \\epsilon_{l} k_{z}^{2} - c \\epsilon_{l} \\kappa_{l}^{2}\\right)} \\sqrt{\\mu_{l}}\\right)} \\mu_{l}} = -\\frac{i \\, {\\left(-i \\, \\sqrt{-k_{z}^{2} + \\kappa_{\\mathit{vacuum}}^{2}} \\mathit{A1}_{z} e^{\\left(i \\, \\sqrt{-k_{z}^{2} + \\kappa_{\\mathit{vacuum}}^{2}} a\\right)} + i \\, \\sqrt{-k_{z}^{2} + \\kappa_{\\mathit{vacuum}}^{2}} \\mathit{A2}_{z} e^{\\left(-i \\, \\sqrt{-k_{z}^{2} + \\kappa_{\\mathit{vacuum}}^{2}} a\\right)}\\right)} \\kappa_{\\mathit{vacuum}}^{2}}{k_{z}^{2} - \\kappa_{\\mathit{vacuum}}^{2}}$"
      ],
      "text/plain": [
       "<IPython.core.display.Math object>"
      ]
     },
     "metadata": {},
     "output_type": "display_data"
    },
    {
     "data": {
      "text/latex": [
       "$\\displaystyle \\frac{i \\, {\\left(i \\, c \\epsilon_{r}^{\\frac{3}{2}} \\kappa_{r} - 4 \\, \\pi \\epsilon_{r} \\sqrt{\\mu_{r}} \\sigma_{r}\\right)} \\sqrt{-k_{z}^{2} + \\kappa_{r}^{2}} \\mathit{B1}_{\\mathit{zr}} \\kappa_{r} e^{\\left(-i \\, \\sqrt{-k_{z}^{2} + \\kappa_{r}^{2}} a\\right)}}{{\\left(4 i \\, \\pi \\sqrt{\\epsilon_{r}} \\kappa_{r} \\mu_{r} \\sigma_{r} - {\\left(c \\epsilon_{r} k_{z}^{2} - c \\epsilon_{r} \\kappa_{r}^{2}\\right)} \\sqrt{\\mu_{r}}\\right)} \\mu_{r}} = -\\frac{i \\, {\\left(-i \\, \\sqrt{-k_{z}^{2} + \\kappa_{\\mathit{vacuum}}^{2}} \\mathit{A1}_{z} + i \\, \\sqrt{-k_{z}^{2} + \\kappa_{\\mathit{vacuum}}^{2}} \\mathit{A2}_{z}\\right)} \\kappa_{\\mathit{vacuum}}^{2}}{k_{z}^{2} - \\kappa_{\\mathit{vacuum}}^{2}}$"
      ],
      "text/plain": [
       "<IPython.core.display.Math object>"
      ]
     },
     "metadata": {},
     "output_type": "display_data"
    }
   ],
   "source": [
    "# тангенциальная компонента напряженности магнитного поля\n",
    "# eqHz_a  = (H_bad_conductor_sol_z(0)  == H_inner_vacuum_sol_z(0)).subs(eqEz_0, eqEy_0)\n",
    "# eqHy_a  = (H_bad_conductor_sol_y(0)  == H_inner_vacuum_sol_y(0)).subs(eqEy_0, eqEz_0)\n",
    "\n",
    "#8 sqrt(mu)*H_bad_conductor_f_y(x)/sqrt(epsilon) == B1_z*K_conductor*kappa*e^(I*K_conductor*x)/(k_z^2 - kappa^2)\n",
    "#6 H_inner_vacuum_f_y(x) == -I*(I*A2_z*K_vacuum*e^(I*K_vacuum*x) - I*A1_z*K_vacuum*e^(-I*K_vacuum*x))*kappa_vacuum/(k_z^2 - kappa_vacuum^2)\n",
    "\n",
    "# eq_Hy_0 = eq_8_subs3.rhs().subs(x == 0)*sqrt(epsilon_complex)/sqrt(mu) == eq_6_subs3.rhs().subs(x == 0)\n",
    "# eq_Hy_0 = (eq_8_subs3.rhs().subs(x == 0).subs(K_conductor_subs)*sqrt(epsilon_complex)/sqrt(mu)) \\\n",
    "#         == eq_6_subs3.rhs().subs(x == 0).subs(K_vacuum_subs)\n",
    "\n",
    "# sqrt(mu / epsilon_complex) = omega * mu / kappa\n",
    "# sqrt(mu / epsilon_complex) = omega * mu_rel * mu_0 / kappa\n",
    "\n",
    "# kappa/mu == omega * sqrt(epsilon_complex/mu)\n",
    "# sqrt(mu_0 / epsilon_0) = omega * mu_0 / kappa_vacuum\n",
    "\n",
    "# kappa_vacuum == omega/c\n",
    "# sqrt(mu_0 / epsilon_0) = c * mu_0\n",
    "# c = 1 / sqrt(mu_0 * epsilon_0)\n",
    "\n",
    "# kappa = omega * sqrt(epsilon_comlex*mu)\n",
    "# kappa_vacuum = omega * sqrt(epsilon_0*mu_0) = omega/c\n",
    "\n",
    "# sqrt(mu_0 / epsilon_0) = 1/(c*epsilon_0) = omega * mu_0 / kappa_vacuum\n",
    "# sqrt(mu / epsilon_complex) = 1/(c*epsilon_complex) = omega * mu / kappa\n",
    "\n",
    "# 1/mu_0 = c^2*epsolon_0\n",
    "\n",
    "#eq_Hy_0 = (eq_8_subs3.rhs().subs(x == 0).subs(K_conductor_subs)*kappa/(mu_rel * mu_0 * omega/c)) \\\n",
    "#        == eq_6_subs3.rhs().subs(x == 0).subs(K_vacuum_subs)*kappa_vacuum/(mu_0 * omega/c)\n",
    "\n",
    "# 1/mu_0 = c^2 * epsilon_0\n",
    "\n",
    "eq_Hy_l = ((eq_8_Hy_l_subs2.rhs().subs(x == -a).subs(K_left_conductor_subs)*kappa_l/(mu_l)) \\\n",
    "        ==  eq_6_Hy_subs3.rhs().subs(x == -a).subs(K_vacuum_subs)*kappa_vacuum/(mu_0)) \n",
    "\n",
    "\n",
    "eq_Hy_r = ((eq_8_Hy_r_subs2.rhs().subs(x == 0).subs(K_right_conductor_subs)*kappa_r/(mu_r)) \\\n",
    "        ==   eq_6_Hy_subs3.rhs().subs(x == 0).subs(K_vacuum_subs)*kappa_vacuum/(mu_0)) \n",
    "\n",
    "\n",
    "display(Math(latex(eq_Hy_l)))\n",
    "display(Math(latex(eq_Hy_r)))"
   ]
  },
  {
   "cell_type": "code",
   "execution_count": 95,
   "metadata": {},
   "outputs": [
    {
     "data": {
      "text/latex": [
       "$\\displaystyle -\\frac{i \\, {\\left(i \\, c \\epsilon_{l}^{\\frac{3}{2}} \\kappa_{l} - 4 \\, \\pi \\epsilon_{l} \\sqrt{\\mu_{l}} \\sigma_{l}\\right)} \\sqrt{-k_{z}^{2} + \\kappa_{l}^{2}} {\\left(\\mathit{A1}_{z} e^{\\left(2 i \\, K_{\\mathit{vacuum}} a\\right)} + \\mathit{A2}_{z}\\right)} \\kappa_{l} e^{\\left(-i \\, K_{\\mathit{vacuum}} a\\right)}}{{\\left(4 i \\, \\pi \\sqrt{\\epsilon_{l}} \\kappa_{l} \\mu_{l} \\sigma_{l} - {\\left(c \\epsilon_{l} k_{z}^{2} - c \\epsilon_{l} \\kappa_{l}^{2}\\right)} \\sqrt{\\mu_{l}}\\right)} \\mu_{l}} = -\\frac{i \\, {\\left(-i \\, \\sqrt{-k_{z}^{2} + \\kappa_{\\mathit{vacuum}}^{2}} \\mathit{A1}_{z} e^{\\left(i \\, \\sqrt{-k_{z}^{2} + \\kappa_{\\mathit{vacuum}}^{2}} a\\right)} + i \\, \\sqrt{-k_{z}^{2} + \\kappa_{\\mathit{vacuum}}^{2}} \\mathit{A2}_{z} e^{\\left(-i \\, \\sqrt{-k_{z}^{2} + \\kappa_{\\mathit{vacuum}}^{2}} a\\right)}\\right)} \\kappa_{\\mathit{vacuum}}^{2}}{k_{z}^{2} - \\kappa_{\\mathit{vacuum}}^{2}}$"
      ],
      "text/plain": [
       "<IPython.core.display.Math object>"
      ]
     },
     "metadata": {},
     "output_type": "display_data"
    }
   ],
   "source": [
    "eq_Hy_ls = eq_Hy_l.subs(solve(eqEz_l,B1_zl))\n",
    "display(Math(latex(eq_Hy_ls)))"
   ]
  },
  {
   "cell_type": "code",
   "execution_count": 96,
   "metadata": {},
   "outputs": [
    {
     "data": {
      "text/latex": [
       "$\\displaystyle \\frac{i \\, {\\left(i \\, c \\epsilon_{r}^{\\frac{3}{2}} \\kappa_{r} - 4 \\, \\pi \\epsilon_{r} \\sqrt{\\mu_{r}} \\sigma_{r}\\right)} \\sqrt{-k_{z}^{2} + \\kappa_{r}^{2}} {\\left(\\mathit{A2}_{z} e^{\\left(i \\, K_{\\mathit{vacuum}} a\\right)} + \\mathit{A1}_{z} e^{\\left(-i \\, K_{\\mathit{vacuum}} a\\right)}\\right)} \\kappa_{r} e^{\\left(-i \\, \\sqrt{-k_{z}^{2} + \\kappa_{r}^{2}} a\\right)}}{{\\left(4 i \\, \\pi \\sqrt{\\epsilon_{r}} \\kappa_{r} \\mu_{r} \\sigma_{r} - {\\left(c \\epsilon_{r} k_{z}^{2} - c \\epsilon_{r} \\kappa_{r}^{2}\\right)} \\sqrt{\\mu_{r}}\\right)} \\mu_{r}} = -\\frac{i \\, {\\left(-i \\, \\sqrt{-k_{z}^{2} + \\kappa_{\\mathit{vacuum}}^{2}} \\mathit{A1}_{z} + i \\, \\sqrt{-k_{z}^{2} + \\kappa_{\\mathit{vacuum}}^{2}} \\mathit{A2}_{z}\\right)} \\kappa_{\\mathit{vacuum}}^{2}}{k_{z}^{2} - \\kappa_{\\mathit{vacuum}}^{2}}$"
      ],
      "text/plain": [
       "<IPython.core.display.Math object>"
      ]
     },
     "metadata": {},
     "output_type": "display_data"
    }
   ],
   "source": [
    "eq_Hy_rs = eq_Hy_r.subs(eqEz_r)\n",
    "display(Math(latex(eq_Hy_rs)))"
   ]
  },
  {
   "cell_type": "code",
   "execution_count": null,
   "metadata": {},
   "outputs": [],
   "source": []
  },
  {
   "cell_type": "code",
   "execution_count": 97,
   "metadata": {},
   "outputs": [
    {
     "name": "stdout",
     "output_type": "stream",
     "text": [
      "kappa_vacuum == omega/c\n"
     ]
    }
   ],
   "source": [
    "kappa_vacuum_sol = solve(eq_kappa_inner_vacuum, kappa_vacuum)[1]\n",
    "print(kappa_vacuum_sol)"
   ]
  },
  {
   "cell_type": "code",
   "execution_count": 98,
   "metadata": {},
   "outputs": [
    {
     "name": "stdout",
     "output_type": "stream",
     "text": [
      "kappa_l == sqrt(epsilon_l*mu_l*omega^2 + 4*I*pi*mu_l*omega*sigma_l)/c\n"
     ]
    }
   ],
   "source": [
    "kappa_l_sol = solve(eq_kappa_l, kappa_l)[1]\n",
    "print(kappa_l_sol)"
   ]
  },
  {
   "cell_type": "code",
   "execution_count": 99,
   "metadata": {},
   "outputs": [
    {
     "name": "stdout",
     "output_type": "stream",
     "text": [
      "kappa_r == sqrt(epsilon_r*mu_r*omega^2 + 4*I*pi*mu_r*omega*sigma_r)/c\n"
     ]
    }
   ],
   "source": [
    "kappa_r_sol = solve(eq_kappa_r, kappa_r)[1]\n",
    "print(kappa_r_sol)"
   ]
  },
  {
   "cell_type": "code",
   "execution_count": null,
   "metadata": {},
   "outputs": [],
   "source": []
  },
  {
   "cell_type": "code",
   "execution_count": 100,
   "metadata": {},
   "outputs": [],
   "source": [
    "#E_vacuum_z = A1_z_im*sin(sqrt(kappa_vacuum^2-k_z^2)*(x+a))\n",
    "#E_vacuum_z"
   ]
  },
  {
   "cell_type": "raw",
   "metadata": {},
   "source": [
    "E_inner_vacuum_sol_z(x)"
   ]
  },
  {
   "cell_type": "raw",
   "metadata": {},
   "source": [
    "eqEz_a.rhs() == eqEz_a.lhs()"
   ]
  },
  {
   "cell_type": "raw",
   "metadata": {},
   "source": [
    "eqEz_a"
   ]
  },
  {
   "cell_type": "raw",
   "metadata": {
    "scrolled": true
   },
   "source": [
    "k_z_sol_subs = k_z_sol[1].subs(eqEz_a).full_simplify()\n",
    "k_z_sol_subs.variables()"
   ]
  },
  {
   "cell_type": "code",
   "execution_count": 101,
   "metadata": {},
   "outputs": [],
   "source": [
    "# display(Math(latex(k_z_sol)))"
   ]
  },
  {
   "cell_type": "code",
   "execution_count": 102,
   "metadata": {},
   "outputs": [
    {
     "data": {
      "text/plain": [
       "E_left_conductor_x(x) == -B1_zl*K_left_conductor*c*sqrt(epsilon_l)*k_z*e^(-I*K_left_conductor*(a + x))/(c*sqrt(epsilon_l)*k_z^2 - c*sqrt(epsilon_l)*kappa_l^2 - 4*I*pi*kappa_l*sqrt(mu_l)*sigma_l)"
      ]
     },
     "execution_count": 102,
     "metadata": {},
     "output_type": "execute_result"
    }
   ],
   "source": [
    "eq_7_Ex_l_subs2"
   ]
  },
  {
   "cell_type": "code",
   "execution_count": 103,
   "metadata": {},
   "outputs": [
    {
     "data": {
      "text/latex": [
       "$\\displaystyle E_{{\\rm inner}_{{\\rm vacuum}_{x}}}\\left(-a\\right) = -\\frac{{\\left(\\mathit{A2}_{z} k_{z} e^{\\left(-2 i \\, \\sqrt{-k_{z}^{2} + \\kappa_{\\mathit{vacuum}}^{2}} a\\right)} - \\mathit{A1}_{z} k_{z}\\right)} e^{\\left(i \\, \\sqrt{-k_{z}^{2} + \\kappa_{\\mathit{vacuum}}^{2}} a\\right)}}{\\sqrt{-k_{z}^{2} + \\kappa_{\\mathit{vacuum}}^{2}}}$"
      ],
      "text/plain": [
       "<IPython.core.display.Math object>"
      ]
     },
     "metadata": {},
     "output_type": "display_data"
    },
    {
     "data": {
      "text/latex": [
       "$\\displaystyle E_{{\\rm inner}_{{\\rm vacuum}_{x}}}\\left(a\\right) = -\\frac{{\\left(\\mathit{A2}_{z} k_{z} e^{\\left(2 i \\, \\sqrt{-k_{z}^{2} + \\kappa_{\\mathit{vacuum}}^{2}} a\\right)} - \\mathit{A1}_{z} k_{z}\\right)} e^{\\left(-i \\, \\sqrt{-k_{z}^{2} + \\kappa_{\\mathit{vacuum}}^{2}} a\\right)}}{\\sqrt{-k_{z}^{2} + \\kappa_{\\mathit{vacuum}}^{2}}}$"
      ],
      "text/plain": [
       "<IPython.core.display.Math object>"
      ]
     },
     "metadata": {},
     "output_type": "display_data"
    },
    {
     "data": {
      "text/latex": [
       "$\\displaystyle E_{{\\rm left}_{{\\rm conductor}_{x}}}\\left(-a\\right) = -\\frac{\\mathit{B1}_{\\mathit{zl}} K_{\\mathit{left}_{\\mathit{conductor}}} c \\sqrt{\\epsilon_{l}} k_{z}}{c \\sqrt{\\epsilon_{l}} k_{z}^{2} - c \\sqrt{\\epsilon_{l}} \\kappa_{l}^{2} - 4 i \\, \\pi \\kappa_{l} \\sqrt{\\mu_{l}} \\sigma_{l}}$"
      ],
      "text/plain": [
       "<IPython.core.display.Math object>"
      ]
     },
     "metadata": {},
     "output_type": "display_data"
    },
    {
     "data": {
      "text/latex": [
       "$\\displaystyle E_{{\\rm right}_{{\\rm conductor}_{x}}}\\left(a\\right) = \\frac{\\mathit{B1}_{\\mathit{zr}} K_{\\mathit{right}_{\\mathit{conductor}}} c \\sqrt{\\epsilon_{r}} k_{z}}{c \\sqrt{\\epsilon_{r}} k_{z}^{2} - c \\sqrt{\\epsilon_{r}} \\kappa_{r}^{2} - 4 i \\, \\pi \\kappa_{r} \\sqrt{\\mu_{r}} \\sigma_{r}}$"
      ],
      "text/plain": [
       "<IPython.core.display.Math object>"
      ]
     },
     "metadata": {},
     "output_type": "display_data"
    },
    {
     "name": "stdout",
     "output_type": "stream",
     "text": [
      "eqDx_l\n"
     ]
    },
    {
     "data": {
      "text/latex": [
       "$\\displaystyle -\\frac{\\mathit{B1}_{\\mathit{zl}} K_{\\mathit{left}_{\\mathit{conductor}}} c {\\left(\\epsilon_{l} + \\frac{4 i \\, \\pi \\sigma_{l}}{\\omega}\\right)} \\sqrt{\\epsilon_{l}} k_{z}}{c \\sqrt{\\epsilon_{l}} k_{z}^{2} - c \\sqrt{\\epsilon_{l}} \\kappa_{l}^{2} - 4 i \\, \\pi \\kappa_{l} \\sqrt{\\mu_{l}} \\sigma_{l}} = -\\frac{{\\left(\\mathit{A2}_{z} k_{z} e^{\\left(-2 i \\, \\sqrt{-k_{z}^{2} + \\kappa_{\\mathit{vacuum}}^{2}} a\\right)} - \\mathit{A1}_{z} k_{z}\\right)} e^{\\left(i \\, \\sqrt{-k_{z}^{2} + \\kappa_{\\mathit{vacuum}}^{2}} a\\right)}}{\\sqrt{-k_{z}^{2} + \\kappa_{\\mathit{vacuum}}^{2}}}$"
      ],
      "text/plain": [
       "<IPython.core.display.Math object>"
      ]
     },
     "metadata": {},
     "output_type": "display_data"
    },
    {
     "name": "stdout",
     "output_type": "stream",
     "text": [
      "eqDx_r\n"
     ]
    },
    {
     "data": {
      "text/latex": [
       "$\\displaystyle \\frac{\\mathit{B1}_{\\mathit{zr}} K_{\\mathit{right}_{\\mathit{conductor}}} c {\\left(\\epsilon_{r} + \\frac{4 i \\, \\pi \\sigma_{r}}{\\omega}\\right)} \\sqrt{\\epsilon_{r}} k_{z}}{c \\sqrt{\\epsilon_{r}} k_{z}^{2} - c \\sqrt{\\epsilon_{r}} \\kappa_{r}^{2} - 4 i \\, \\pi \\kappa_{r} \\sqrt{\\mu_{r}} \\sigma_{r}} = -\\frac{{\\left(\\mathit{A2}_{z} k_{z} e^{\\left(2 i \\, \\sqrt{-k_{z}^{2} + \\kappa_{\\mathit{vacuum}}^{2}} a\\right)} - \\mathit{A1}_{z} k_{z}\\right)} e^{\\left(-i \\, \\sqrt{-k_{z}^{2} + \\kappa_{\\mathit{vacuum}}^{2}} a\\right)}}{\\sqrt{-k_{z}^{2} + \\kappa_{\\mathit{vacuum}}^{2}}}$"
      ],
      "text/plain": [
       "<IPython.core.display.Math object>"
      ]
     },
     "metadata": {},
     "output_type": "display_data"
    }
   ],
   "source": [
    "# нормальная компонента электрического смещения\n",
    "eq_5_Ex_l_subs4xa = eq_5_Ex_subs4.subs(x == -a)\n",
    "#print(eq_5_Ex_l_subs4xa)\n",
    "display(Math(latex(eq_5_Ex_l_subs4xa)))\n",
    "\n",
    "eq_5_Ex_r_subs4x0 = eq_5_Ex_subs4.subs(x == a)\n",
    "#print(eq_5_Ex_r_subs4x0)\n",
    "display(Math(latex(eq_5_Ex_r_subs4x0)))\n",
    "\n",
    "\n",
    "eq_7_Ex_l_subs_xa = eq_7_Ex_l_subs2.subs(x == -a)\n",
    "#print(eq_7_Ex_l_subs_xa)\n",
    "display(Math(latex(eq_7_Ex_l_subs_xa)))\n",
    "\n",
    "eq_7_Ex_r_subs_x0 = eq_7_Ex_r_subs2.subs(x == a)\n",
    "#print(eq_7_Ex_r_subs_x0)\n",
    "display(Math(latex(eq_7_Ex_r_subs_x0)))\n",
    "\n",
    "\n",
    "# eqDx_a = E_inner_vacuum_sol_x(0) == E_bad_conductor_sol_x(0) * epsilon\n",
    "\n",
    "#eq_Dx_l = epsilon_l_complex == (eq_5_l_subs4xa.rhs() / eq_7_l_subs4xa.rhs()).full_simplify()\n",
    "#eq_Dx_r = epsilon_r_complex == (eq_5_r_subs4x0.rhs() / eq_7_r_subs4x0.rhs()).full_simplify()\n",
    "\n",
    "eqDx_l = epsilon_l_complex * eq_7_Ex_l_subs_xa.rhs() == eq_5_Ex_l_subs4xa.rhs()\n",
    "eqDx_r = epsilon_r_complex * eq_7_Ex_r_subs_x0.rhs() == eq_5_Ex_r_subs4x0.rhs()\n",
    "\n",
    "print(\"eqDx_l\")\n",
    "display(Math(latex(eqDx_l)))\n",
    "print(\"eqDx_r\")\n",
    "display(Math(latex(eqDx_r)))"
   ]
  },
  {
   "cell_type": "code",
   "execution_count": null,
   "metadata": {},
   "outputs": [],
   "source": []
  },
  {
   "cell_type": "code",
   "execution_count": 104,
   "metadata": {},
   "outputs": [
    {
     "name": "stdout",
     "output_type": "stream",
     "text": [
      "eqHz_l =\n"
     ]
    },
    {
     "data": {
      "text/latex": [
       "$\\displaystyle -\\frac{i \\, {\\left(-i \\, \\mathit{B1}_{\\mathit{yl}} K_{\\mathit{left}_{\\mathit{conductor}}} - i \\, \\mathit{B1}_{\\mathit{xl}} k_{y}\\right)} c}{\\mu_{l} \\omega} = -\\frac{i \\, {\\left(-i \\, \\mathit{A1}_{y} K_{\\mathit{vacuum}} e^{\\left(i \\, K_{\\mathit{vacuum}} a\\right)} + i \\, \\mathit{A2}_{y} K_{\\mathit{vacuum}} e^{\\left(-i \\, K_{\\mathit{vacuum}} a\\right)} - i \\, {\\left(\\mathit{A1}_{x} e^{\\left(i \\, K_{\\mathit{vacuum}} a\\right)} + \\mathit{A2}_{x} e^{\\left(-i \\, K_{\\mathit{vacuum}} a\\right)}\\right)} k_{y}\\right)} c}{\\omega}$"
      ],
      "text/plain": [
       "<IPython.core.display.Math object>"
      ]
     },
     "metadata": {},
     "output_type": "display_data"
    },
    {
     "name": "stdout",
     "output_type": "stream",
     "text": [
      "eqHz_r =\n"
     ]
    },
    {
     "data": {
      "text/latex": [
       "$\\displaystyle -\\frac{i \\, {\\left(i \\, \\mathit{B1}_{\\mathit{yr}} K_{\\mathit{right}_{\\mathit{conductor}}} - i \\, \\mathit{B1}_{\\mathit{xr}} k_{y}\\right)} c}{\\mu_{r} \\omega} = -\\frac{i \\, {\\left(i \\, \\mathit{A2}_{y} K_{\\mathit{vacuum}} e^{\\left(i \\, K_{\\mathit{vacuum}} a\\right)} - i \\, \\mathit{A1}_{y} K_{\\mathit{vacuum}} e^{\\left(-i \\, K_{\\mathit{vacuum}} a\\right)} - i \\, {\\left(\\mathit{A2}_{x} e^{\\left(i \\, K_{\\mathit{vacuum}} a\\right)} + \\mathit{A1}_{x} e^{\\left(-i \\, K_{\\mathit{vacuum}} a\\right)}\\right)} k_{y}\\right)} c}{\\omega}$"
      ],
      "text/plain": [
       "<IPython.core.display.Math object>"
      ]
     },
     "metadata": {},
     "output_type": "display_data"
    },
    {
     "name": "stdout",
     "output_type": "stream",
     "text": [
      "eqHy_l =\n"
     ]
    },
    {
     "data": {
      "text/latex": [
       "$\\displaystyle -\\frac{i \\, {\\left(i \\, \\mathit{B1}_{\\mathit{zl}} K_{\\mathit{left}_{\\mathit{conductor}}} + i \\, \\mathit{B1}_{\\mathit{xl}} k_{z}\\right)} c}{\\mu_{l} \\omega} = -\\frac{i \\, {\\left(i \\, \\mathit{A1}_{z} K_{\\mathit{vacuum}} e^{\\left(i \\, K_{\\mathit{vacuum}} a\\right)} - i \\, \\mathit{A2}_{z} K_{\\mathit{vacuum}} e^{\\left(-i \\, K_{\\mathit{vacuum}} a\\right)} + i \\, {\\left(\\mathit{A1}_{x} e^{\\left(i \\, K_{\\mathit{vacuum}} a\\right)} + \\mathit{A2}_{x} e^{\\left(-i \\, K_{\\mathit{vacuum}} a\\right)}\\right)} k_{z}\\right)} c}{\\omega}$"
      ],
      "text/plain": [
       "<IPython.core.display.Math object>"
      ]
     },
     "metadata": {},
     "output_type": "display_data"
    },
    {
     "name": "stdout",
     "output_type": "stream",
     "text": [
      "eqHy_r =\n"
     ]
    },
    {
     "data": {
      "text/latex": [
       "$\\displaystyle -\\frac{i \\, {\\left(-i \\, \\mathit{B1}_{\\mathit{zr}} K_{\\mathit{right}_{\\mathit{conductor}}} + i \\, \\mathit{B1}_{\\mathit{xr}} k_{z}\\right)} c}{\\mu_{r} \\omega} = -\\frac{i \\, {\\left(-i \\, \\mathit{A2}_{z} K_{\\mathit{vacuum}} e^{\\left(i \\, K_{\\mathit{vacuum}} a\\right)} + i \\, \\mathit{A1}_{z} K_{\\mathit{vacuum}} e^{\\left(-i \\, K_{\\mathit{vacuum}} a\\right)} + i \\, {\\left(\\mathit{A2}_{x} e^{\\left(i \\, K_{\\mathit{vacuum}} a\\right)} + \\mathit{A1}_{x} e^{\\left(-i \\, K_{\\mathit{vacuum}} a\\right)}\\right)} k_{z}\\right)} c}{\\omega}$"
      ],
      "text/plain": [
       "<IPython.core.display.Math object>"
      ]
     },
     "metadata": {},
     "output_type": "display_data"
    },
    {
     "name": "stdout",
     "output_type": "stream",
     "text": [
      "eqHz_l_ =\n"
     ]
    },
    {
     "data": {
      "text/latex": [
       "$\\displaystyle -\\frac{i \\, {\\left(-i \\, {\\left(i \\, \\mathit{B1}_{\\mathit{yl}_{\\mathit{im}}} + \\mathit{B1}_{\\mathit{yl}_{\\mathit{re}}}\\right)} K_{\\mathit{left}_{\\mathit{conductor}}} - i \\, {\\left(i \\, \\mathit{B1}_{\\mathit{xl}_{\\mathit{im}}} + \\mathit{B1}_{\\mathit{xl}_{\\mathit{re}}}\\right)} k_{y}\\right)} c}{\\mu_{l} \\omega} = -\\frac{i \\, {\\left(-i \\, {\\left(i \\, \\mathit{A1}_{y_{\\mathit{im}}} + \\mathit{A1}_{y_{\\mathit{re}}}\\right)} K_{\\mathit{vacuum}} e^{\\left(i \\, K_{\\mathit{vacuum}} a\\right)} + i \\, {\\left(i \\, \\mathit{A2}_{y_{\\mathit{im}}} + \\mathit{A2}_{y_{\\mathit{re}}}\\right)} K_{\\mathit{vacuum}} e^{\\left(-i \\, K_{\\mathit{vacuum}} a\\right)} - i \\, {\\left({\\left(i \\, \\mathit{A1}_{x_{\\mathit{im}}} + \\mathit{A1}_{x_{\\mathit{re}}}\\right)} e^{\\left(i \\, K_{\\mathit{vacuum}} a\\right)} + {\\left(i \\, \\mathit{A2}_{x_{\\mathit{im}}} + \\mathit{A2}_{x_{\\mathit{re}}}\\right)} e^{\\left(-i \\, K_{\\mathit{vacuum}} a\\right)}\\right)} k_{y}\\right)} c}{\\omega}$"
      ],
      "text/plain": [
       "<IPython.core.display.Math object>"
      ]
     },
     "metadata": {},
     "output_type": "display_data"
    },
    {
     "name": "stdout",
     "output_type": "stream",
     "text": [
      "eqHz_r_ =\n"
     ]
    },
    {
     "data": {
      "text/latex": [
       "$\\displaystyle -\\frac{i \\, {\\left(i \\, {\\left(i \\, \\mathit{B1}_{\\mathit{yr}_{\\mathit{im}}} + \\mathit{B1}_{\\mathit{yr}_{\\mathit{re}}}\\right)} K_{\\mathit{right}_{\\mathit{conductor}}} - i \\, {\\left(i \\, \\mathit{B1}_{\\mathit{xr}_{\\mathit{im}}} + \\mathit{B1}_{\\mathit{xr}_{\\mathit{re}}}\\right)} k_{y}\\right)} c}{\\mu_{r} \\omega} = -\\frac{i \\, {\\left(i \\, {\\left(i \\, \\mathit{A2}_{y_{\\mathit{im}}} + \\mathit{A2}_{y_{\\mathit{re}}}\\right)} K_{\\mathit{vacuum}} e^{\\left(i \\, K_{\\mathit{vacuum}} a\\right)} - i \\, {\\left(i \\, \\mathit{A1}_{y_{\\mathit{im}}} + \\mathit{A1}_{y_{\\mathit{re}}}\\right)} K_{\\mathit{vacuum}} e^{\\left(-i \\, K_{\\mathit{vacuum}} a\\right)} - i \\, {\\left({\\left(i \\, \\mathit{A2}_{x_{\\mathit{im}}} + \\mathit{A2}_{x_{\\mathit{re}}}\\right)} e^{\\left(i \\, K_{\\mathit{vacuum}} a\\right)} + {\\left(i \\, \\mathit{A1}_{x_{\\mathit{im}}} + \\mathit{A1}_{x_{\\mathit{re}}}\\right)} e^{\\left(-i \\, K_{\\mathit{vacuum}} a\\right)}\\right)} k_{y}\\right)} c}{\\omega}$"
      ],
      "text/plain": [
       "<IPython.core.display.Math object>"
      ]
     },
     "metadata": {},
     "output_type": "display_data"
    },
    {
     "name": "stdout",
     "output_type": "stream",
     "text": [
      "eqHy_l_ =\n"
     ]
    },
    {
     "data": {
      "text/latex": [
       "$\\displaystyle \\frac{i \\, \\sqrt{\\epsilon_{l} \\mu_{l} \\omega^{2} + 4 i \\, \\pi \\mu_{l} \\omega \\sigma_{l}} {\\left(4 \\, \\pi \\epsilon_{l} \\sqrt{\\mu_{l}} \\sigma_{l} - i \\, \\sqrt{\\epsilon_{l} \\mu_{l} \\omega^{2} + 4 i \\, \\pi \\mu_{l} \\omega \\sigma_{l}} \\epsilon_{l}^{\\frac{3}{2}}\\right)} \\sqrt{-k_{z}^{2} + \\frac{\\epsilon_{l} \\mu_{l} \\omega^{2} + 4 i \\, \\pi \\mu_{l} \\omega \\sigma_{l}}{c^{2}}} {\\left(i \\, \\mathit{B1}_{\\mathit{zl}_{\\mathit{im}}} + \\mathit{B1}_{\\mathit{zl}_{\\mathit{re}}}\\right)}}{{\\left(\\frac{4 i \\, \\pi \\sqrt{\\epsilon_{l} \\mu_{l} \\omega^{2} + 4 i \\, \\pi \\mu_{l} \\omega \\sigma_{l}} \\sqrt{\\epsilon_{l}} \\mu_{l} \\sigma_{l}}{c} - {\\left(c \\epsilon_{l} k_{z}^{2} - \\frac{{\\left(\\epsilon_{l} \\mu_{l} \\omega^{2} + 4 i \\, \\pi \\mu_{l} \\omega \\sigma_{l}\\right)} \\epsilon_{l}}{c}\\right)} \\sqrt{\\mu_{l}}\\right)} c \\mu_{l}} = -\\frac{i \\, {\\left(-i \\, \\sqrt{-k_{z}^{2} + \\frac{\\omega^{2}}{c^{2}}} {\\left(i \\, \\mathit{A1}_{z_{\\mathit{im}}} + \\mathit{A1}_{z_{\\mathit{re}}}\\right)} e^{\\left(i \\, \\sqrt{-k_{z}^{2} + \\frac{\\omega^{2}}{c^{2}}} a\\right)} + i \\, \\sqrt{-k_{z}^{2} + \\frac{\\omega^{2}}{c^{2}}} {\\left(i \\, \\mathit{A2}_{z_{\\mathit{im}}} + \\mathit{A2}_{z_{\\mathit{re}}}\\right)} e^{\\left(-i \\, \\sqrt{-k_{z}^{2} + \\frac{\\omega^{2}}{c^{2}}} a\\right)}\\right)} \\omega^{2}}{{\\left(k_{z}^{2} - \\frac{\\omega^{2}}{c^{2}}\\right)} c^{2}}$"
      ],
      "text/plain": [
       "<IPython.core.display.Math object>"
      ]
     },
     "metadata": {},
     "output_type": "display_data"
    },
    {
     "name": "stdout",
     "output_type": "stream",
     "text": [
      "eqHy_r_ =\n"
     ]
    },
    {
     "data": {
      "text/latex": [
       "$\\displaystyle -\\frac{i \\, \\sqrt{\\epsilon_{r} \\mu_{r} \\omega^{2} + 4 i \\, \\pi \\mu_{r} \\omega \\sigma_{r}} {\\left(4 \\, \\pi \\epsilon_{r} \\sqrt{\\mu_{r}} \\sigma_{r} - i \\, \\sqrt{\\epsilon_{r} \\mu_{r} \\omega^{2} + 4 i \\, \\pi \\mu_{r} \\omega \\sigma_{r}} \\epsilon_{r}^{\\frac{3}{2}}\\right)} \\sqrt{-k_{z}^{2} + \\frac{\\epsilon_{r} \\mu_{r} \\omega^{2} + 4 i \\, \\pi \\mu_{r} \\omega \\sigma_{r}}{c^{2}}} {\\left(i \\, \\mathit{B1}_{\\mathit{zr}_{\\mathit{im}}} + \\mathit{B1}_{\\mathit{zr}_{\\mathit{re}}}\\right)} e^{\\left(-i \\, \\sqrt{-k_{z}^{2} + \\frac{\\epsilon_{r} \\mu_{r} \\omega^{2}}{c^{2}} + \\frac{4 i \\, \\pi \\mu_{r} \\omega \\sigma_{r}}{c^{2}}} a\\right)}}{{\\left(\\frac{4 i \\, \\pi \\sqrt{\\epsilon_{r} \\mu_{r} \\omega^{2} + 4 i \\, \\pi \\mu_{r} \\omega \\sigma_{r}} \\sqrt{\\epsilon_{r}} \\mu_{r} \\sigma_{r}}{c} - {\\left(c \\epsilon_{r} k_{z}^{2} - \\frac{{\\left(\\epsilon_{r} \\mu_{r} \\omega^{2} + 4 i \\, \\pi \\mu_{r} \\omega \\sigma_{r}\\right)} \\epsilon_{r}}{c}\\right)} \\sqrt{\\mu_{r}}\\right)} c \\mu_{r}} = -\\frac{i \\, {\\left(-i \\, \\sqrt{-k_{z}^{2} + \\frac{\\omega^{2}}{c^{2}}} {\\left(i \\, \\mathit{A1}_{z_{\\mathit{im}}} + \\mathit{A1}_{z_{\\mathit{re}}}\\right)} + i \\, \\sqrt{-k_{z}^{2} + \\frac{\\omega^{2}}{c^{2}}} {\\left(i \\, \\mathit{A2}_{z_{\\mathit{im}}} + \\mathit{A2}_{z_{\\mathit{re}}}\\right)}\\right)} \\omega^{2}}{{\\left(k_{z}^{2} - \\frac{\\omega^{2}}{c^{2}}\\right)} c^{2}}$"
      ],
      "text/plain": [
       "<IPython.core.display.Math object>"
      ]
     },
     "metadata": {},
     "output_type": "display_data"
    }
   ],
   "source": [
    "# тангенциальная компонента напряженности магнитного поля\n",
    "print (\"eqHz_l =\")\n",
    "display(Math(latex(eqHz_l)))\n",
    "print (\"eqHz_r =\")\n",
    "display(Math(latex(eqHz_r)))\n",
    "print (\"eqHy_l =\")\n",
    "display(Math(latex(eqHy_l)))\n",
    "print (\"eqHy_r =\")\n",
    "display(Math(latex(eqHy_r)))\n",
    "\n",
    "eqHz_l_ = eqHz_l \\\n",
    "        .subs(A1_x_re_im_subs).subs(A2_x_re_im_subs) \\\n",
    "        .subs(A1_y_re_im_subs).subs(A2_y_re_im_subs) \\\n",
    "        .subs(A1_z_re_im_subs).subs(A2_z_re_im_subs) \\\n",
    "        .subs(B1_xl_re_im_subs) \\\n",
    "        .subs(B1_yl_re_im_subs) \\\n",
    "        .subs(B1_zl_re_im_subs)\n",
    "\n",
    "eqHz_r_ = eqHz_r \\\n",
    "        .subs(A1_x_re_im_subs).subs(A2_x_re_im_subs) \\\n",
    "        .subs(A1_y_re_im_subs).subs(A2_y_re_im_subs) \\\n",
    "        .subs(A1_z_re_im_subs).subs(A2_z_re_im_subs) \\\n",
    "        .subs(B1_xr_re_im_subs) \\\n",
    "        .subs(B1_yr_re_im_subs) \\\n",
    "        .subs(B1_zr_re_im_subs)\n",
    "\n",
    "eqHy_l_ = eq_Hy_l.subs(kappa_vacuum_sol).subs(kappa_l_sol) \\\n",
    "        .subs(A1_x_re_im_subs).subs(A2_x_re_im_subs) \\\n",
    "        .subs(A1_y_re_im_subs).subs(A2_y_re_im_subs) \\\n",
    "        .subs(A1_z_re_im_subs).subs(A2_z_re_im_subs) \\\n",
    "        .subs(B1_xl_re_im_subs) \\\n",
    "        .subs(B1_yl_re_im_subs) \\\n",
    "        .subs(B1_zl_re_im_subs)\n",
    "\n",
    "eqHy_r_ = eq_Hy_r.subs(kappa_vacuum_sol).subs(kappa_r_sol) \\\n",
    "        .subs(A1_x_re_im_subs).subs(A2_x_re_im_subs) \\\n",
    "        .subs(A1_y_re_im_subs).subs(A2_y_re_im_subs) \\\n",
    "        .subs(A1_z_re_im_subs).subs(A2_z_re_im_subs) \\\n",
    "        .subs(B1_xr_re_im_subs) \\\n",
    "        .subs(B1_yr_re_im_subs) \\\n",
    "        .subs(B1_zr_re_im_subs)\n",
    "\n",
    "print (\"eqHz_l_ =\")\n",
    "display(Math(latex(eqHz_l_)))\n",
    "print (\"eqHz_r_ =\")\n",
    "display(Math(latex(eqHz_r_)))\n",
    "\n",
    "print (\"eqHy_l_ =\")\n",
    "display(Math(latex(eqHy_l_)))\n",
    "print (\"eqHy_r_ =\")\n",
    "display(Math(latex(eqHy_r_)))"
   ]
  },
  {
   "cell_type": "code",
   "execution_count": 105,
   "metadata": {},
   "outputs": [
    {
     "name": "stdout",
     "output_type": "stream",
     "text": [
      "eqEz_l = \n"
     ]
    },
    {
     "data": {
      "text/latex": [
       "$\\displaystyle \\mathit{B1}_{\\mathit{zl}} = \\mathit{A1}_{z} e^{\\left(i \\, K_{\\mathit{vacuum}} a\\right)} + \\mathit{A2}_{z} e^{\\left(-i \\, K_{\\mathit{vacuum}} a\\right)}$"
      ],
      "text/plain": [
       "<IPython.core.display.Math object>"
      ]
     },
     "metadata": {},
     "output_type": "display_data"
    },
    {
     "name": "stdout",
     "output_type": "stream",
     "text": [
      "eqEz_r = \n"
     ]
    },
    {
     "data": {
      "text/latex": [
       "$\\displaystyle \\mathit{B1}_{\\mathit{zr}} = \\mathit{A2}_{z} e^{\\left(i \\, K_{\\mathit{vacuum}} a\\right)} + \\mathit{A1}_{z} e^{\\left(-i \\, K_{\\mathit{vacuum}} a\\right)}$"
      ],
      "text/plain": [
       "<IPython.core.display.Math object>"
      ]
     },
     "metadata": {},
     "output_type": "display_data"
    },
    {
     "name": "stdout",
     "output_type": "stream",
     "text": [
      "eqEz_l_ = \n"
     ]
    },
    {
     "data": {
      "text/latex": [
       "$\\displaystyle i \\, \\mathit{B1}_{\\mathit{zl}_{\\mathit{im}}} + \\mathit{B1}_{\\mathit{zl}_{\\mathit{re}}} = {\\left(i \\, \\mathit{A1}_{z_{\\mathit{im}}} + \\mathit{A1}_{z_{\\mathit{re}}}\\right)} e^{\\left(i \\, K_{\\mathit{vacuum}} a\\right)} + {\\left(i \\, \\mathit{A2}_{z_{\\mathit{im}}} + \\mathit{A2}_{z_{\\mathit{re}}}\\right)} e^{\\left(-i \\, K_{\\mathit{vacuum}} a\\right)}$"
      ],
      "text/plain": [
       "<IPython.core.display.Math object>"
      ]
     },
     "metadata": {},
     "output_type": "display_data"
    },
    {
     "name": "stdout",
     "output_type": "stream",
     "text": [
      "eqEz_r_ = \n"
     ]
    },
    {
     "data": {
      "text/latex": [
       "$\\displaystyle i \\, \\mathit{B1}_{\\mathit{zr}_{\\mathit{im}}} + \\mathit{B1}_{\\mathit{zr}_{\\mathit{re}}} = {\\left(i \\, \\mathit{A2}_{z_{\\mathit{im}}} + \\mathit{A2}_{z_{\\mathit{re}}}\\right)} e^{\\left(i \\, K_{\\mathit{vacuum}} a\\right)} + {\\left(i \\, \\mathit{A1}_{z_{\\mathit{im}}} + \\mathit{A1}_{z_{\\mathit{re}}}\\right)} e^{\\left(-i \\, K_{\\mathit{vacuum}} a\\right)}$"
      ],
      "text/plain": [
       "<IPython.core.display.Math object>"
      ]
     },
     "metadata": {},
     "output_type": "display_data"
    }
   ],
   "source": [
    "# граничные условия на границе вакуума внутри резонатора и проводящего металла с потерями\n",
    "# тангенциальная компонента электрического поля\n",
    "\n",
    "print (\"eqEz_l = \")\n",
    "display(Math(latex(eqEz_l)))\n",
    "\n",
    "print (\"eqEz_r = \")\n",
    "display(Math(latex(eqEz_r)))\n",
    "\n",
    "eqEz_l_ = eqEz_l \\\n",
    "        .subs(A1_z_re_im_subs).subs(A2_z_re_im_subs) \\\n",
    "        .subs(B1_zl_re_im_subs)\n",
    "\n",
    "eqEz_r_ = eqEz_r \\\n",
    "        .subs(A1_z_re_im_subs).subs(A2_z_re_im_subs) \\\n",
    "        .subs(B1_zr_re_im_subs)\n",
    "\n",
    "eqEy_l_ = eqEy_l \\\n",
    "        .subs(A1_y_re_im_subs).subs(A2_y_re_im_subs) \\\n",
    "        .subs(B1_yl_re_im_subs)\n",
    "eqEy_r_ = eqEy_r \\\n",
    "        .subs(A1_y_re_im_subs).subs(A2_y_re_im_subs) \\\n",
    "        .subs(B1_yr_re_im_subs)\n",
    "\n",
    "print (\"eqEz_l_ = \")\n",
    "display(Math(latex(eqEz_l_)))\n",
    "print (\"eqEz_r_ = \")\n",
    "display(Math(latex(eqEz_r_)))"
   ]
  },
  {
   "cell_type": "code",
   "execution_count": 106,
   "metadata": {},
   "outputs": [
    {
     "name": "stdout",
     "output_type": "stream",
     "text": [
      "eqBx_l =\n"
     ]
    },
    {
     "data": {
      "text/latex": [
       "$\\displaystyle -\\frac{\\mathit{B1}_{\\mathit{yl}} c k_{z}}{\\omega} = -\\frac{{\\left(\\mathit{A1}_{y} e^{\\left(i \\, K_{\\mathit{vacuum}} a\\right)} + \\mathit{A2}_{y} e^{\\left(-i \\, K_{\\mathit{vacuum}} a\\right)}\\right)} c k_{z}}{\\omega}$"
      ],
      "text/plain": [
       "<IPython.core.display.Math object>"
      ]
     },
     "metadata": {},
     "output_type": "display_data"
    },
    {
     "name": "stdout",
     "output_type": "stream",
     "text": [
      "eqBx_r =\n"
     ]
    },
    {
     "data": {
      "text/latex": [
       "$\\displaystyle -\\frac{\\mathit{B1}_{\\mathit{yr}} c k_{z}}{\\omega} = -\\frac{{\\left(\\mathit{A2}_{y} e^{\\left(i \\, K_{\\mathit{vacuum}} a\\right)} + \\mathit{A1}_{y} e^{\\left(-i \\, K_{\\mathit{vacuum}} a\\right)}\\right)} c k_{z}}{\\omega}$"
      ],
      "text/plain": [
       "<IPython.core.display.Math object>"
      ]
     },
     "metadata": {},
     "output_type": "display_data"
    },
    {
     "name": "stdout",
     "output_type": "stream",
     "text": [
      "eqBx_l_ =\n"
     ]
    },
    {
     "data": {
      "text/latex": [
       "$\\displaystyle -\\frac{{\\left(i \\, \\mathit{B1}_{\\mathit{yl}_{\\mathit{im}}} + \\mathit{B1}_{\\mathit{yl}_{\\mathit{re}}}\\right)} c k_{z}}{\\omega} = -\\frac{{\\left({\\left(i \\, \\mathit{A1}_{y_{\\mathit{im}}} + \\mathit{A1}_{y_{\\mathit{re}}}\\right)} e^{\\left(i \\, K_{\\mathit{vacuum}} a\\right)} + {\\left(i \\, \\mathit{A2}_{y_{\\mathit{im}}} + \\mathit{A2}_{y_{\\mathit{re}}}\\right)} e^{\\left(-i \\, K_{\\mathit{vacuum}} a\\right)}\\right)} c k_{z}}{\\omega}$"
      ],
      "text/plain": [
       "<IPython.core.display.Math object>"
      ]
     },
     "metadata": {},
     "output_type": "display_data"
    },
    {
     "name": "stdout",
     "output_type": "stream",
     "text": [
      "eqBx_r_ =\n"
     ]
    },
    {
     "data": {
      "text/latex": [
       "$\\displaystyle -\\frac{{\\left(i \\, \\mathit{B1}_{\\mathit{yr}_{\\mathit{im}}} + \\mathit{B1}_{\\mathit{yr}_{\\mathit{re}}}\\right)} c k_{z}}{\\omega} = -\\frac{{\\left({\\left(i \\, \\mathit{A2}_{y_{\\mathit{im}}} + \\mathit{A2}_{y_{\\mathit{re}}}\\right)} e^{\\left(i \\, K_{\\mathit{vacuum}} a\\right)} + {\\left(i \\, \\mathit{A1}_{y_{\\mathit{im}}} + \\mathit{A1}_{y_{\\mathit{re}}}\\right)} e^{\\left(-i \\, K_{\\mathit{vacuum}} a\\right)}\\right)} c k_{z}}{\\omega}$"
      ],
      "text/plain": [
       "<IPython.core.display.Math object>"
      ]
     },
     "metadata": {},
     "output_type": "display_data"
    }
   ],
   "source": [
    "# нормальная компонента индукции магнитного поля\n",
    "#eqBx_a  = mu * H_bad_conductor_sol_x (0)  == H_inner_vacuum_sol_x (0)\n",
    "\n",
    "print (\"eqBx_l =\")\n",
    "display(Math(latex(eqBx_l)))\n",
    "print (\"eqBx_r =\")\n",
    "display(Math(latex(eqBx_r)))\n",
    "\n",
    "eqBx_l_ = eqBx_l \\\n",
    "        .subs(A1_x_re_im_subs).subs(A2_x_re_im_subs) \\\n",
    "        .subs(A1_y_re_im_subs).subs(A2_y_re_im_subs) \\\n",
    "        .subs(A1_z_re_im_subs).subs(A2_z_re_im_subs) \\\n",
    "        .subs(B1_xl_re_im_subs) \\\n",
    "        .subs(B1_yl_re_im_subs) \\\n",
    "        .subs(B1_zl_re_im_subs)\n",
    "\n",
    "eqBx_r_ = eqBx_r \\\n",
    "        .subs(A1_x_re_im_subs).subs(A2_x_re_im_subs) \\\n",
    "        .subs(A1_y_re_im_subs).subs(A2_y_re_im_subs) \\\n",
    "        .subs(A1_z_re_im_subs).subs(A2_z_re_im_subs) \\\n",
    "        .subs(B1_xr_re_im_subs) \\\n",
    "        .subs(B1_yr_re_im_subs) \\\n",
    "        .subs(B1_zr_re_im_subs)\n",
    "\n",
    "print (\"eqBx_l_ =\")\n",
    "display(Math(latex(eqBx_l_)))\n",
    "\n",
    "print (\"eqBx_r_ =\")\n",
    "display(Math(latex(eqBx_r_)))"
   ]
  },
  {
   "cell_type": "code",
   "execution_count": null,
   "metadata": {},
   "outputs": [],
   "source": []
  },
  {
   "cell_type": "code",
   "execution_count": 107,
   "metadata": {},
   "outputs": [
    {
     "name": "stdout",
     "output_type": "stream",
     "text": [
      "eqDx_l =\n"
     ]
    },
    {
     "data": {
      "text/latex": [
       "$\\displaystyle -\\frac{\\mathit{B1}_{\\mathit{zl}} K_{\\mathit{left}_{\\mathit{conductor}}} c {\\left(\\epsilon_{l} + \\frac{4 i \\, \\pi \\sigma_{l}}{\\omega}\\right)} \\sqrt{\\epsilon_{l}} k_{z}}{c \\sqrt{\\epsilon_{l}} k_{z}^{2} - c \\sqrt{\\epsilon_{l}} \\kappa_{l}^{2} - 4 i \\, \\pi \\kappa_{l} \\sqrt{\\mu_{l}} \\sigma_{l}} = -\\frac{{\\left(\\mathit{A2}_{z} k_{z} e^{\\left(-2 i \\, \\sqrt{-k_{z}^{2} + \\kappa_{\\mathit{vacuum}}^{2}} a\\right)} - \\mathit{A1}_{z} k_{z}\\right)} e^{\\left(i \\, \\sqrt{-k_{z}^{2} + \\kappa_{\\mathit{vacuum}}^{2}} a\\right)}}{\\sqrt{-k_{z}^{2} + \\kappa_{\\mathit{vacuum}}^{2}}}$"
      ],
      "text/plain": [
       "<IPython.core.display.Math object>"
      ]
     },
     "metadata": {},
     "output_type": "display_data"
    },
    {
     "name": "stdout",
     "output_type": "stream",
     "text": [
      "eqDx_r =\n"
     ]
    },
    {
     "data": {
      "text/latex": [
       "$\\displaystyle \\frac{\\mathit{B1}_{\\mathit{zr}} K_{\\mathit{right}_{\\mathit{conductor}}} c {\\left(\\epsilon_{r} + \\frac{4 i \\, \\pi \\sigma_{r}}{\\omega}\\right)} \\sqrt{\\epsilon_{r}} k_{z}}{c \\sqrt{\\epsilon_{r}} k_{z}^{2} - c \\sqrt{\\epsilon_{r}} \\kappa_{r}^{2} - 4 i \\, \\pi \\kappa_{r} \\sqrt{\\mu_{r}} \\sigma_{r}} = -\\frac{{\\left(\\mathit{A2}_{z} k_{z} e^{\\left(2 i \\, \\sqrt{-k_{z}^{2} + \\kappa_{\\mathit{vacuum}}^{2}} a\\right)} - \\mathit{A1}_{z} k_{z}\\right)} e^{\\left(-i \\, \\sqrt{-k_{z}^{2} + \\kappa_{\\mathit{vacuum}}^{2}} a\\right)}}{\\sqrt{-k_{z}^{2} + \\kappa_{\\mathit{vacuum}}^{2}}}$"
      ],
      "text/plain": [
       "<IPython.core.display.Math object>"
      ]
     },
     "metadata": {},
     "output_type": "display_data"
    },
    {
     "name": "stdout",
     "output_type": "stream",
     "text": [
      "eqDx_l_ =\n"
     ]
    },
    {
     "data": {
      "text/latex": [
       "$\\displaystyle -\\frac{{\\left(i \\, \\mathit{B1}_{\\mathit{zl}_{\\mathit{im}}} + \\mathit{B1}_{\\mathit{zl}_{\\mathit{re}}}\\right)} K_{\\mathit{left}_{\\mathit{conductor}}} c {\\left(\\epsilon_{l} + \\frac{4 i \\, \\pi \\sigma_{l}}{\\omega}\\right)} \\sqrt{\\epsilon_{l}} k_{z}}{c \\sqrt{\\epsilon_{l}} k_{z}^{2} - c \\sqrt{\\epsilon_{l}} \\kappa_{l}^{2} - 4 i \\, \\pi \\kappa_{l} \\sqrt{\\mu_{l}} \\sigma_{l}} = -\\frac{{\\left({\\left(i \\, \\mathit{A2}_{z_{\\mathit{im}}} + \\mathit{A2}_{z_{\\mathit{re}}}\\right)} k_{z} e^{\\left(-2 i \\, \\sqrt{-k_{z}^{2} + \\kappa_{\\mathit{vacuum}}^{2}} a\\right)} - {\\left(i \\, \\mathit{A1}_{z_{\\mathit{im}}} + \\mathit{A1}_{z_{\\mathit{re}}}\\right)} k_{z}\\right)} e^{\\left(i \\, \\sqrt{-k_{z}^{2} + \\kappa_{\\mathit{vacuum}}^{2}} a\\right)}}{\\sqrt{-k_{z}^{2} + \\kappa_{\\mathit{vacuum}}^{2}}}$"
      ],
      "text/plain": [
       "<IPython.core.display.Math object>"
      ]
     },
     "metadata": {},
     "output_type": "display_data"
    },
    {
     "name": "stdout",
     "output_type": "stream",
     "text": [
      "eqDx_r_ =\n"
     ]
    },
    {
     "data": {
      "text/latex": [
       "$\\displaystyle \\frac{{\\left(i \\, \\mathit{B1}_{\\mathit{zr}_{\\mathit{im}}} + \\mathit{B1}_{\\mathit{zr}_{\\mathit{re}}}\\right)} K_{\\mathit{right}_{\\mathit{conductor}}} c {\\left(\\epsilon_{r} + \\frac{4 i \\, \\pi \\sigma_{r}}{\\omega}\\right)} \\sqrt{\\epsilon_{r}} k_{z}}{c \\sqrt{\\epsilon_{r}} k_{z}^{2} - c \\sqrt{\\epsilon_{r}} \\kappa_{r}^{2} - 4 i \\, \\pi \\kappa_{r} \\sqrt{\\mu_{r}} \\sigma_{r}} = -\\frac{{\\left({\\left(i \\, \\mathit{A2}_{z_{\\mathit{im}}} + \\mathit{A2}_{z_{\\mathit{re}}}\\right)} k_{z} e^{\\left(2 i \\, \\sqrt{-k_{z}^{2} + \\kappa_{\\mathit{vacuum}}^{2}} a\\right)} - {\\left(i \\, \\mathit{A1}_{z_{\\mathit{im}}} + \\mathit{A1}_{z_{\\mathit{re}}}\\right)} k_{z}\\right)} e^{\\left(-i \\, \\sqrt{-k_{z}^{2} + \\kappa_{\\mathit{vacuum}}^{2}} a\\right)}}{\\sqrt{-k_{z}^{2} + \\kappa_{\\mathit{vacuum}}^{2}}}$"
      ],
      "text/plain": [
       "<IPython.core.display.Math object>"
      ]
     },
     "metadata": {},
     "output_type": "display_data"
    }
   ],
   "source": [
    "# нормальная компонента электрического смещения\n",
    "\n",
    "print (\"eqDx_l =\")\n",
    "display(Math(latex(eqDx_l)))\n",
    "print (\"eqDx_r =\")\n",
    "display(Math(latex(eqDx_r)))\n",
    "\n",
    "\n",
    "eqDx_l_ = eqDx_l \\\n",
    "        .subs(A1_x_re_im_subs).subs(A2_x_re_im_subs) \\\n",
    "        .subs(A1_y_re_im_subs).subs(A2_y_re_im_subs) \\\n",
    "        .subs(A1_z_re_im_subs).subs(A2_z_re_im_subs) \\\n",
    "        .subs(B1_xl_re_im_subs) \\\n",
    "        .subs(B1_yl_re_im_subs) \\\n",
    "        .subs(B1_zl_re_im_subs)\n",
    "\n",
    "eqDx_r_ = eqDx_r \\\n",
    "        .subs(A1_x_re_im_subs).subs(A2_x_re_im_subs) \\\n",
    "        .subs(A1_y_re_im_subs).subs(A2_y_re_im_subs) \\\n",
    "        .subs(A1_z_re_im_subs).subs(A2_z_re_im_subs) \\\n",
    "        .subs(B1_xr_re_im_subs) \\\n",
    "        .subs(B1_yr_re_im_subs) \\\n",
    "        .subs(B1_zr_re_im_subs)\n",
    "\n",
    "print (\"eqDx_l_ =\")\n",
    "display(Math(latex(eqDx_l_)))\n",
    "print (\"eqDx_r_ =\")\n",
    "display(Math(latex(eqDx_r_)))"
   ]
  },
  {
   "cell_type": "code",
   "execution_count": 108,
   "metadata": {},
   "outputs": [],
   "source": [
    "# граничные условия на границе проводника и вакуума внутри резонатора"
   ]
  },
  {
   "cell_type": "code",
   "execution_count": 109,
   "metadata": {},
   "outputs": [],
   "source": [
    "# тангенциальная компонента напряженности магнитного поля"
   ]
  },
  {
   "cell_type": "code",
   "execution_count": 110,
   "metadata": {},
   "outputs": [],
   "source": [
    "#eqHz_a"
   ]
  },
  {
   "cell_type": "code",
   "execution_count": 111,
   "metadata": {},
   "outputs": [],
   "source": [
    "#eqHy_a"
   ]
  },
  {
   "cell_type": "code",
   "execution_count": 112,
   "metadata": {},
   "outputs": [],
   "source": [
    "eqHz_l_re = eqHz_l_.lhs().real() == eqHz_l_.rhs().real()\n",
    "eqHz_r_re = eqHz_r_.lhs().real() == eqHz_r_.rhs().real()\n",
    "eqHz_l_im = eqHz_l_.lhs().imag() == eqHz_l_.rhs().imag()\n",
    "eqHz_r_im = eqHz_r_.lhs().imag() == eqHz_r_.rhs().imag()"
   ]
  },
  {
   "cell_type": "code",
   "execution_count": 113,
   "metadata": {},
   "outputs": [],
   "source": [
    "eqHy_l_re = eqHy_l_.lhs().real() == eqHy_l_.rhs().real()\n",
    "eqHy_r_re = eqHy_r_.lhs().real() == eqHy_r_.rhs().real()\n",
    "eqHy_l_im = eqHy_l_.lhs().imag() == eqHy_l_.rhs().imag()\n",
    "eqHy_r_im = eqHy_r_.lhs().imag() == eqHy_r_.rhs().imag()"
   ]
  },
  {
   "cell_type": "code",
   "execution_count": 114,
   "metadata": {},
   "outputs": [],
   "source": [
    "# граничные условия на границе вакуума внутри резонатора и проводящего металла с потерями\n",
    "# тангенциальная компонента электрического поля"
   ]
  },
  {
   "cell_type": "code",
   "execution_count": 115,
   "metadata": {},
   "outputs": [],
   "source": [
    "#eqEz_a"
   ]
  },
  {
   "cell_type": "code",
   "execution_count": 116,
   "metadata": {},
   "outputs": [],
   "source": [
    "eqEz_l_re = eqEz_l_.lhs().real() == eqEz_l_.rhs().real()\n",
    "eqEz_r_re = eqEz_r_.lhs().real() == eqEz_r_.rhs().real()\n",
    "eqEz_l_im = eqEz_l_.lhs().imag() == eqEz_l_.rhs().imag()\n",
    "eqEz_r_im = eqEz_r_.lhs().imag() == eqEz_r_.rhs().imag()"
   ]
  },
  {
   "cell_type": "code",
   "execution_count": 117,
   "metadata": {},
   "outputs": [],
   "source": [
    "#eqEy_a"
   ]
  },
  {
   "cell_type": "code",
   "execution_count": 118,
   "metadata": {},
   "outputs": [],
   "source": [
    "eqEy_l_re = eqEy_l_.lhs().real() == eqEy_l_.rhs().real()\n",
    "eqEy_r_re = eqEy_r_.lhs().real() == eqEy_r_.rhs().real()\n",
    "eqEy_l_im = eqEy_l_.lhs().imag() == eqEy_l_.rhs().imag()\n",
    "eqEy_r_im = eqEy_r_.lhs().imag() == eqEy_r_.rhs().imag()"
   ]
  },
  {
   "cell_type": "code",
   "execution_count": 119,
   "metadata": {},
   "outputs": [],
   "source": [
    "# нормальная компонента индукции магнитного поля\n",
    "# на границе вакуума внутри резонатора и проводящего металла с потерями"
   ]
  },
  {
   "cell_type": "code",
   "execution_count": 120,
   "metadata": {},
   "outputs": [],
   "source": [
    "#eqBx_a"
   ]
  },
  {
   "cell_type": "code",
   "execution_count": 121,
   "metadata": {},
   "outputs": [],
   "source": [
    "eqBx_l_re = eqBx_l_.lhs().real() == eqBx_l_.rhs().real()\n",
    "eqBx_r_re = eqBx_r_.lhs().real() == eqBx_r_.rhs().real()\n",
    "eqBx_l_im = eqBx_l_.lhs().imag() == eqBx_l_.rhs().imag()\n",
    "eqBx_r_im = eqBx_r_.lhs().imag() == eqBx_r_.rhs().imag()"
   ]
  },
  {
   "cell_type": "code",
   "execution_count": 122,
   "metadata": {},
   "outputs": [],
   "source": [
    "# нормальная компонента электрического смещения\n",
    "# на границе вакуума внутри резонатора и проводящего металла с потерями"
   ]
  },
  {
   "cell_type": "code",
   "execution_count": 123,
   "metadata": {},
   "outputs": [],
   "source": [
    "#eqDx_a"
   ]
  },
  {
   "cell_type": "code",
   "execution_count": 124,
   "metadata": {},
   "outputs": [],
   "source": [
    "eqDx_l_re = eqDx_l_.lhs().real() == eqDx_l_.rhs().real()\n",
    "eqDx_r_re = eqDx_r_.lhs().real() == eqDx_r_.rhs().real()\n",
    "eqDx_l_im = eqDx_l_.lhs().imag() == eqDx_l_.rhs().imag()\n",
    "eqDx_r_im = eqDx_r_.lhs().imag() == eqDx_r_.rhs().imag()"
   ]
  },
  {
   "cell_type": "code",
   "execution_count": null,
   "metadata": {},
   "outputs": [],
   "source": []
  },
  {
   "cell_type": "code",
   "execution_count": 125,
   "metadata": {},
   "outputs": [
    {
     "data": {
      "text/plain": [
       "([a == 1,\n",
       "  mu_l == 1,\n",
       "  mu_r == 1,\n",
       "  c == 29979245800,\n",
       "  sigma_l == 5.62500000000000e17,\n",
       "  sigma_r == 1.80000000000000e16,\n",
       "  epsilon_l == 1,\n",
       "  epsilon_r == 1],\n",
       " 2.98046134067857e7)"
      ]
     },
     "execution_count": 125,
     "metadata": {},
     "output_type": "execute_result"
    }
   ],
   "source": [
    "# sgs\n",
    "A = 1\n",
    "\n",
    "# на низких частотах ферриты обладают высокой относительной диэлектрической проницаемостью, примерно 10^5\n",
    "#epsilon_l_d = 1000\n",
    "#epsilon_r_d = 100\n",
    "\n",
    "epsilon_l_d = 1\n",
    "epsilon_r_d = 1\n",
    "\n",
    "\n",
    "sigma_l_d = 1000\n",
    "sigma_r_d = 100\n",
    "\n",
    "# https://ru.wikipedia.org/wiki/%D0%AD%D0%BB%D0%B5%D0%BA%D1%82%D1%80%D0%BE%D0%BF%D1%80%D0%BE%D0%B2%D0%BE%D0%B4%D0%BD%D0%BE%D1%81%D1%82%D1%8C\n",
    "# серебро    62 500 000\n",
    "# медь       59 500 000\n",
    "# константан  2 000 000\n",
    "\n",
    "# См/м\n",
    "# 1 См = 1 / Ом\n",
    "\n",
    "sigma_l_d = 62500000 * (9*10^9)\n",
    "sigma_r_d =  2000000 * (9*10^9)\n",
    "\n",
    "lambda_d = 632*100*10^-9\n",
    "# 632 nm\n",
    "\n",
    "lambda_d = 632*100*10^-6\n",
    "# 0.632 mm\n",
    "\n",
    "lambda_d = 632*100*10^-4*1000\n",
    "# 63.2 mm\n",
    "# 6.32 sm\n",
    "\n",
    "c_value  = [ c == 299792458 * 100]\n",
    "omega_value = [ omega  == ((2*pi * c)/ lambda_d).subs (c_value).n() ]\n",
    "digit_values_init = [a == A,\n",
    "                     mu_l == 1, mu_r == 1,\n",
    "                     c == 299792458 * 100,\n",
    "                     sigma_l == sigma_l_d.n(), sigma_r == sigma_r_d.n(), \n",
    "                     epsilon_l == epsilon_l_d, epsilon_r == epsilon_r_d]\n",
    "digit_values = digit_values_init\n",
    "digit_values, omega_value[0].rhs().n()"
   ]
  },
  {
   "cell_type": "raw",
   "metadata": {},
   "source": [
    "K_vacuum_s_d = K_vacuum_s.subs(digit_values)\n",
    "K_vacuum_s_d.rhs().variables()"
   ]
  },
  {
   "cell_type": "raw",
   "metadata": {},
   "source": [
    "K_conductor_s_d = K_conductor_s.subs(digit_values)\n",
    "K_conductor_s_d.rhs().variables()"
   ]
  },
  {
   "cell_type": "code",
   "execution_count": 126,
   "metadata": {},
   "outputs": [
    {
     "name": "stdout",
     "output_type": "stream",
     "text": [
      "[a == 1, mu_l == 1, mu_r == 1, c == 29979245800, sigma_l == 5.62500000000000e17, sigma_r == 1.80000000000000e16, epsilon_l == 1, epsilon_r == 1, omega == 2.98046134067857e7]\n"
     ]
    }
   ],
   "source": [
    "digit_values = digit_values_init\n",
    "digit_values += omega_value\n",
    "print (digit_values)"
   ]
  },
  {
   "cell_type": "code",
   "execution_count": 127,
   "metadata": {},
   "outputs": [
    {
     "data": {
      "text/plain": [
       "7.54916686652188e10*I*pi + 1"
      ]
     },
     "execution_count": 127,
     "metadata": {},
     "output_type": "execute_result"
    }
   ],
   "source": [
    "epsilon_l_complex.subs(digit_values)"
   ]
  },
  {
   "cell_type": "code",
   "execution_count": 128,
   "metadata": {},
   "outputs": [
    {
     "data": {
      "text/plain": [
       "2.41573339728700e9*I*pi + 1"
      ]
     },
     "execution_count": 128,
     "metadata": {},
     "output_type": "execute_result"
    }
   ],
   "source": [
    "epsilon_r_complex.subs(digit_values)"
   ]
  },
  {
   "cell_type": "code",
   "execution_count": 129,
   "metadata": {},
   "outputs": [
    {
     "data": {
      "text/plain": [
       "9.88383712655159e-7 + 234409.105681310*I"
      ]
     },
     "execution_count": 129,
     "metadata": {},
     "output_type": "execute_result"
    }
   ],
   "source": [
    "eq_kappa_l.rhs().subs(digit_values).n()"
   ]
  },
  {
   "cell_type": "code",
   "execution_count": 130,
   "metadata": {},
   "outputs": [
    {
     "data": {
      "text/plain": [
       "9.88383712655159e-7 + 7501.09138180193*I"
      ]
     },
     "execution_count": 130,
     "metadata": {},
     "output_type": "execute_result"
    }
   ],
   "source": [
    "eq_kappa_r.rhs().subs(digit_values).n()"
   ]
  },
  {
   "cell_type": "code",
   "execution_count": 131,
   "metadata": {},
   "outputs": [],
   "source": [
    "K_vacuum_subs_2 = K_vacuum_subs.subs(kappa_vacuum_sol)"
   ]
  },
  {
   "cell_type": "code",
   "execution_count": 132,
   "metadata": {},
   "outputs": [],
   "source": [
    "K_left_conductor_subs_2 = K_left_conductor_subs.subs(kappa_l_sol)\n",
    "K_right_conductor_subs_2 = K_right_conductor_subs.subs(kappa_r_sol)"
   ]
  },
  {
   "cell_type": "code",
   "execution_count": 133,
   "metadata": {},
   "outputs": [],
   "source": [
    "K_vacuum_subs_4 = K_vacuum_subs_2.subs(k_z = kz + I * sz)"
   ]
  },
  {
   "cell_type": "code",
   "execution_count": 134,
   "metadata": {},
   "outputs": [],
   "source": [
    "K_left_conductor_subs_4 = K_left_conductor_subs_2.subs(k_z = kz + I * sz)\n",
    "K_right_conductor_subs_4 = K_right_conductor_subs_2.subs(k_z = kz + I * sz)"
   ]
  },
  {
   "cell_type": "code",
   "execution_count": 135,
   "metadata": {},
   "outputs": [],
   "source": [
    "# граничные условия на границе идеального проводника и вакуума внутри резонатора\n",
    "# тангенциальная компонента электрического поля"
   ]
  },
  {
   "cell_type": "code",
   "execution_count": 136,
   "metadata": {},
   "outputs": [],
   "source": [
    "eqEz_l_subs = eqEz_l.subs(K_vacuum_subs_2).subs(K_left_conductor_subs_2)\n",
    "eqEz_r_subs = eqEz_r.subs(K_vacuum_subs_2).subs(K_right_conductor_subs_2)"
   ]
  },
  {
   "cell_type": "code",
   "execution_count": 137,
   "metadata": {},
   "outputs": [
    {
     "data": {
      "text/plain": [
       "(A1_z, A2_z, B1_zl, a, c, k_z, omega)"
      ]
     },
     "execution_count": 137,
     "metadata": {},
     "output_type": "execute_result"
    }
   ],
   "source": [
    "eqEz_l_subs.variables()"
   ]
  },
  {
   "cell_type": "code",
   "execution_count": 138,
   "metadata": {},
   "outputs": [
    {
     "data": {
      "text/plain": [
       "(A1_z, A2_z, B1_zr, a, c, k_z, omega)"
      ]
     },
     "execution_count": 138,
     "metadata": {},
     "output_type": "execute_result"
    }
   ],
   "source": [
    "eqEz_r_subs.variables()"
   ]
  },
  {
   "cell_type": "code",
   "execution_count": 139,
   "metadata": {},
   "outputs": [
    {
     "data": {
      "text/plain": [
       "(A1_z, A2_z, B1_zr, a, c, k_z, omega)"
      ]
     },
     "execution_count": 139,
     "metadata": {},
     "output_type": "execute_result"
    }
   ],
   "source": [
    "eqEz_r_subs.variables()"
   ]
  },
  {
   "cell_type": "code",
   "execution_count": 140,
   "metadata": {},
   "outputs": [],
   "source": [
    "eqEz_l_re_subs = eqEz_l_re.subs(K_vacuum_subs_4).subs(K_left_conductor_subs_4)\n",
    "eqEz_r_re_subs = eqEz_r_re.subs(K_vacuum_subs_4).subs(K_right_conductor_subs_4)\n",
    "eqEz_l_im_subs = eqEz_l_im.subs(K_vacuum_subs_4).subs(K_left_conductor_subs_4)\n",
    "eqEz_r_im_subs = eqEz_r_im.subs(K_vacuum_subs_4).subs(K_right_conductor_subs_4)"
   ]
  },
  {
   "cell_type": "code",
   "execution_count": 141,
   "metadata": {},
   "outputs": [
    {
     "data": {
      "text/plain": [
       "(A1_z_im, A1_z_re, A2_z_im, A2_z_re, B1_zr_re, a, c, kz, omega, sz)"
      ]
     },
     "execution_count": 141,
     "metadata": {},
     "output_type": "execute_result"
    }
   ],
   "source": [
    "eqEz_r_re_subs.variables()"
   ]
  },
  {
   "cell_type": "code",
   "execution_count": 142,
   "metadata": {},
   "outputs": [
    {
     "data": {
      "text/latex": [
       "$\\displaystyle -\\frac{\\mathit{B1}_{\\mathit{zl}} K_{\\mathit{left}_{\\mathit{conductor}}} c {\\left(\\epsilon_{l} + \\frac{4 i \\, \\pi \\sigma_{l}}{\\omega}\\right)} \\sqrt{\\epsilon_{l}} k_{z}}{c \\sqrt{\\epsilon_{l}} k_{z}^{2} - c \\sqrt{\\epsilon_{l}} \\kappa_{l}^{2} - 4 i \\, \\pi \\kappa_{l} \\sqrt{\\mu_{l}} \\sigma_{l}} = -\\frac{{\\left(\\mathit{A2}_{z} k_{z} e^{\\left(-2 i \\, \\sqrt{-k_{z}^{2} + \\kappa_{\\mathit{vacuum}}^{2}} a\\right)} - \\mathit{A1}_{z} k_{z}\\right)} e^{\\left(i \\, \\sqrt{-k_{z}^{2} + \\kappa_{\\mathit{vacuum}}^{2}} a\\right)}}{\\sqrt{-k_{z}^{2} + \\kappa_{\\mathit{vacuum}}^{2}}}$"
      ],
      "text/plain": [
       "<IPython.core.display.Math object>"
      ]
     },
     "metadata": {},
     "output_type": "display_data"
    },
    {
     "data": {
      "text/latex": [
       "$\\displaystyle \\frac{\\mathit{B1}_{\\mathit{zr}} K_{\\mathit{right}_{\\mathit{conductor}}} c {\\left(\\epsilon_{r} + \\frac{4 i \\, \\pi \\sigma_{r}}{\\omega}\\right)} \\sqrt{\\epsilon_{r}} k_{z}}{c \\sqrt{\\epsilon_{r}} k_{z}^{2} - c \\sqrt{\\epsilon_{r}} \\kappa_{r}^{2} - 4 i \\, \\pi \\kappa_{r} \\sqrt{\\mu_{r}} \\sigma_{r}} = -\\frac{{\\left(\\mathit{A2}_{z} k_{z} e^{\\left(2 i \\, \\sqrt{-k_{z}^{2} + \\kappa_{\\mathit{vacuum}}^{2}} a\\right)} - \\mathit{A1}_{z} k_{z}\\right)} e^{\\left(-i \\, \\sqrt{-k_{z}^{2} + \\kappa_{\\mathit{vacuum}}^{2}} a\\right)}}{\\sqrt{-k_{z}^{2} + \\kappa_{\\mathit{vacuum}}^{2}}}$"
      ],
      "text/plain": [
       "<IPython.core.display.Math object>"
      ]
     },
     "metadata": {},
     "output_type": "display_data"
    }
   ],
   "source": [
    "disp(eqDx_l)\n",
    "disp(eqDx_r)"
   ]
  },
  {
   "cell_type": "code",
   "execution_count": 143,
   "metadata": {},
   "outputs": [],
   "source": [
    "eqDx_l_subs = eqDx_l.subs(K_left_conductor_subs_2).subs(kappa_vacuum_sol).subs(kappa_l_sol)\n",
    "eqDx_r_subs = eqDx_r.subs(K_right_conductor_subs_2).subs(kappa_vacuum_sol).subs(kappa_r_sol)"
   ]
  },
  {
   "cell_type": "code",
   "execution_count": 144,
   "metadata": {},
   "outputs": [
    {
     "data": {
      "text/plain": [
       "(A1_z, A2_z, B1_zl, a, c, epsilon_l, k_z, mu_l, omega, sigma_l)"
      ]
     },
     "execution_count": 144,
     "metadata": {},
     "output_type": "execute_result"
    }
   ],
   "source": [
    "eqDx_l_subs.variables()"
   ]
  },
  {
   "cell_type": "code",
   "execution_count": 145,
   "metadata": {},
   "outputs": [
    {
     "data": {
      "text/plain": [
       "(A1_z, A2_z, B1_zr, a, c, epsilon_r, k_z, mu_r, omega, sigma_r)"
      ]
     },
     "execution_count": 145,
     "metadata": {},
     "output_type": "execute_result"
    }
   ],
   "source": [
    "eqDx_r_subs.variables()"
   ]
  },
  {
   "cell_type": "code",
   "execution_count": 146,
   "metadata": {},
   "outputs": [
    {
     "data": {
      "text/latex": [
       "$\\displaystyle -\\frac{\\sqrt{-k_{z}^{2} + \\frac{\\epsilon_{l} \\mu_{l} \\omega^{2} + 4 i \\, \\pi \\mu_{l} \\omega \\sigma_{l}}{c^{2}}} \\mathit{B1}_{\\mathit{zl}} c {\\left(\\epsilon_{l} + \\frac{4 i \\, \\pi \\sigma_{l}}{\\omega}\\right)} \\sqrt{\\epsilon_{l}} k_{z}}{c \\sqrt{\\epsilon_{l}} k_{z}^{2} - \\frac{4 i \\, \\pi \\sqrt{\\epsilon_{l} \\mu_{l} \\omega^{2} + 4 i \\, \\pi \\mu_{l} \\omega \\sigma_{l}} \\sqrt{\\mu_{l}} \\sigma_{l}}{c} - \\frac{{\\left(\\epsilon_{l} \\mu_{l} \\omega^{2} + 4 i \\, \\pi \\mu_{l} \\omega \\sigma_{l}\\right)} \\sqrt{\\epsilon_{l}}}{c}} = -\\frac{{\\left(\\mathit{A2}_{z} k_{z} e^{\\left(-2 i \\, \\sqrt{-k_{z}^{2} + \\frac{\\omega^{2}}{c^{2}}} a\\right)} - \\mathit{A1}_{z} k_{z}\\right)} e^{\\left(i \\, \\sqrt{-k_{z}^{2} + \\frac{\\omega^{2}}{c^{2}}} a\\right)}}{\\sqrt{-k_{z}^{2} + \\frac{\\omega^{2}}{c^{2}}}}$"
      ],
      "text/plain": [
       "<IPython.core.display.Math object>"
      ]
     },
     "metadata": {},
     "output_type": "display_data"
    },
    {
     "data": {
      "text/latex": [
       "$\\displaystyle \\frac{\\sqrt{-k_{z}^{2} + \\frac{\\epsilon_{r} \\mu_{r} \\omega^{2} + 4 i \\, \\pi \\mu_{r} \\omega \\sigma_{r}}{c^{2}}} \\mathit{B1}_{\\mathit{zr}} c {\\left(\\epsilon_{r} + \\frac{4 i \\, \\pi \\sigma_{r}}{\\omega}\\right)} \\sqrt{\\epsilon_{r}} k_{z}}{c \\sqrt{\\epsilon_{r}} k_{z}^{2} - \\frac{4 i \\, \\pi \\sqrt{\\epsilon_{r} \\mu_{r} \\omega^{2} + 4 i \\, \\pi \\mu_{r} \\omega \\sigma_{r}} \\sqrt{\\mu_{r}} \\sigma_{r}}{c} - \\frac{{\\left(\\epsilon_{r} \\mu_{r} \\omega^{2} + 4 i \\, \\pi \\mu_{r} \\omega \\sigma_{r}\\right)} \\sqrt{\\epsilon_{r}}}{c}} = -\\frac{{\\left(\\mathit{A2}_{z} k_{z} e^{\\left(2 i \\, \\sqrt{-k_{z}^{2} + \\frac{\\omega^{2}}{c^{2}}} a\\right)} - \\mathit{A1}_{z} k_{z}\\right)} e^{\\left(-i \\, \\sqrt{-k_{z}^{2} + \\frac{\\omega^{2}}{c^{2}}} a\\right)}}{\\sqrt{-k_{z}^{2} + \\frac{\\omega^{2}}{c^{2}}}}$"
      ],
      "text/plain": [
       "<IPython.core.display.Math object>"
      ]
     },
     "metadata": {},
     "output_type": "display_data"
    }
   ],
   "source": [
    "disp(eqDx_l_subs)\n",
    "disp(eqDx_r_subs)"
   ]
  },
  {
   "cell_type": "code",
   "execution_count": 147,
   "metadata": {},
   "outputs": [],
   "source": [
    "eqDx_l_re_subs = eqDx_l_re.subs(K_vacuum_subs_4).subs(K_left_conductor_subs_4).subs(kappa_vacuum_sol).subs(kappa_l_sol)\n",
    "eqDx_r_re_subs = eqDx_r_re.subs(K_vacuum_subs_4).subs(K_right_conductor_subs_4).subs(kappa_vacuum_sol).subs(kappa_r_sol)\n",
    "eqDx_l_im_subs = eqDx_l_im.subs(K_vacuum_subs_4).subs(K_left_conductor_subs_4).subs(kappa_vacuum_sol).subs(kappa_l_sol)\n",
    "eqDx_r_im_subs = eqDx_r_im.subs(K_vacuum_subs_4).subs(K_right_conductor_subs_4).subs(kappa_vacuum_sol).subs(kappa_r_sol)"
   ]
  },
  {
   "cell_type": "code",
   "execution_count": 148,
   "metadata": {},
   "outputs": [
    {
     "data": {
      "text/plain": [
       "(A1_z_im,\n",
       " A1_z_re,\n",
       " A2_z_im,\n",
       " A2_z_re,\n",
       " B1_zr_im,\n",
       " B1_zr_re,\n",
       " a,\n",
       " c,\n",
       " epsilon_r,\n",
       " k_z,\n",
       " kz,\n",
       " mu_r,\n",
       " omega,\n",
       " sigma_r,\n",
       " sz)"
      ]
     },
     "execution_count": 148,
     "metadata": {},
     "output_type": "execute_result"
    }
   ],
   "source": [
    "eqDx_r_re_subs.variables()"
   ]
  },
  {
   "cell_type": "code",
   "execution_count": 149,
   "metadata": {},
   "outputs": [],
   "source": [
    "#disp(eqDx_l_re_subs.subs(k_z = kz + I * sz))\n",
    "#disp(eqDx_r_re_subs.subs(k_z = kz + I * sz))"
   ]
  },
  {
   "cell_type": "code",
   "execution_count": 150,
   "metadata": {},
   "outputs": [],
   "source": [
    "eqBx_l_re_subs = eqBx_l_re.subs(K_vacuum_subs_4).subs(K_left_conductor_subs_4).subs(kappa_vacuum_sol).subs(kappa_l_sol)\n",
    "eqBx_r_re_subs = eqBx_r_re.subs(K_vacuum_subs_4).subs(K_right_conductor_subs_4).subs(kappa_vacuum_sol).subs(kappa_r_sol)\n",
    "eqBx_l_im_subs = eqBx_l_im.subs(K_vacuum_subs_4).subs(K_left_conductor_subs_4).subs(kappa_vacuum_sol).subs(kappa_l_sol)\n",
    "eqBx_r_im_subs = eqBx_r_im.subs(K_vacuum_subs_4).subs(K_right_conductor_subs_4).subs(kappa_vacuum_sol).subs(kappa_r_sol)"
   ]
  },
  {
   "cell_type": "code",
   "execution_count": 151,
   "metadata": {},
   "outputs": [],
   "source": [
    "eqBx_l_subs = eqBx_l.subs(K_vacuum_subs_2).subs(K_left_conductor_subs_2)\n",
    "eqBx_r_subs = eqBx_r.subs(K_vacuum_subs_2).subs(K_right_conductor_subs_2)"
   ]
  },
  {
   "cell_type": "code",
   "execution_count": 152,
   "metadata": {},
   "outputs": [
    {
     "data": {
      "text/plain": [
       "(A1_y, A2_y, B1_yl, a, c, k_z, omega)"
      ]
     },
     "execution_count": 152,
     "metadata": {},
     "output_type": "execute_result"
    }
   ],
   "source": [
    "eqBx_l_subs.variables()"
   ]
  },
  {
   "cell_type": "code",
   "execution_count": 153,
   "metadata": {},
   "outputs": [
    {
     "data": {
      "text/plain": [
       "(A1_y_im,\n",
       " A1_y_re,\n",
       " A2_y_im,\n",
       " A2_y_re,\n",
       " B1_yr_im,\n",
       " B1_yr_re,\n",
       " a,\n",
       " c,\n",
       " k_z,\n",
       " kz,\n",
       " omega,\n",
       " sz)"
      ]
     },
     "execution_count": 153,
     "metadata": {},
     "output_type": "execute_result"
    }
   ],
   "source": [
    "eqBx_r_re_subs.variables()"
   ]
  },
  {
   "cell_type": "raw",
   "metadata": {},
   "source": [
    "eqEy_0_re_subs = eqEy_0_re.subs(K_vacuum_subs_2)\n",
    "eqEy_0_im_subs = eqEy_0_im.subs(K_vacuum_subs_2)"
   ]
  },
  {
   "cell_type": "code",
   "execution_count": 154,
   "metadata": {},
   "outputs": [],
   "source": [
    "# тангенциальная компонента напряженности магнитного поля\n",
    "# на границе вакуума внутри резонатора и проводящего металла с потерями"
   ]
  },
  {
   "cell_type": "code",
   "execution_count": 155,
   "metadata": {},
   "outputs": [],
   "source": [
    "eqHy_l_subs = eqHy_l.subs(K_vacuum_subs_2).subs(K_left_conductor_subs_2)\n",
    "eqHy_r_subs = eqHy_r.subs(K_vacuum_subs_2).subs(K_right_conductor_subs_2)"
   ]
  },
  {
   "cell_type": "code",
   "execution_count": 156,
   "metadata": {},
   "outputs": [
    {
     "data": {
      "text/latex": [
       "$\\displaystyle -\\frac{i \\, {\\left(i \\, \\mathit{B1}_{\\mathit{xl}} k_{z} + i \\, \\sqrt{-k_{z}^{2} + \\frac{\\epsilon_{l} \\mu_{l} \\omega^{2} + 4 i \\, \\pi \\mu_{l} \\omega \\sigma_{l}}{c^{2}}} \\mathit{B1}_{\\mathit{zl}}\\right)} c}{\\mu_{l} \\omega} = -\\frac{i \\, {\\left(i \\, \\sqrt{-k_{z}^{2} + \\frac{\\omega^{2}}{c^{2}}} \\mathit{A1}_{z} e^{\\left(i \\, \\sqrt{-k_{z}^{2} + \\frac{\\omega^{2}}{c^{2}}} a\\right)} - i \\, \\sqrt{-k_{z}^{2} + \\frac{\\omega^{2}}{c^{2}}} \\mathit{A2}_{z} e^{\\left(-i \\, \\sqrt{-k_{z}^{2} + \\frac{\\omega^{2}}{c^{2}}} a\\right)} + i \\, {\\left(\\mathit{A1}_{x} e^{\\left(i \\, \\sqrt{-k_{z}^{2} + \\frac{\\omega^{2}}{c^{2}}} a\\right)} + \\mathit{A2}_{x} e^{\\left(-i \\, \\sqrt{-k_{z}^{2} + \\frac{\\omega^{2}}{c^{2}}} a\\right)}\\right)} k_{z}\\right)} c}{\\omega}$"
      ],
      "text/plain": [
       "<IPython.core.display.Math object>"
      ]
     },
     "metadata": {},
     "output_type": "display_data"
    },
    {
     "data": {
      "text/latex": [
       "$\\displaystyle -\\frac{i \\, {\\left(i \\, \\mathit{B1}_{\\mathit{xr}} k_{z} - i \\, \\sqrt{-k_{z}^{2} + \\frac{\\epsilon_{r} \\mu_{r} \\omega^{2} + 4 i \\, \\pi \\mu_{r} \\omega \\sigma_{r}}{c^{2}}} \\mathit{B1}_{\\mathit{zr}}\\right)} c}{\\mu_{r} \\omega} = -\\frac{i \\, {\\left(-i \\, \\sqrt{-k_{z}^{2} + \\frac{\\omega^{2}}{c^{2}}} \\mathit{A2}_{z} e^{\\left(i \\, \\sqrt{-k_{z}^{2} + \\frac{\\omega^{2}}{c^{2}}} a\\right)} + i \\, \\sqrt{-k_{z}^{2} + \\frac{\\omega^{2}}{c^{2}}} \\mathit{A1}_{z} e^{\\left(-i \\, \\sqrt{-k_{z}^{2} + \\frac{\\omega^{2}}{c^{2}}} a\\right)} + i \\, {\\left(\\mathit{A2}_{x} e^{\\left(i \\, \\sqrt{-k_{z}^{2} + \\frac{\\omega^{2}}{c^{2}}} a\\right)} + \\mathit{A1}_{x} e^{\\left(-i \\, \\sqrt{-k_{z}^{2} + \\frac{\\omega^{2}}{c^{2}}} a\\right)}\\right)} k_{z}\\right)} c}{\\omega}$"
      ],
      "text/plain": [
       "<IPython.core.display.Math object>"
      ]
     },
     "metadata": {},
     "output_type": "display_data"
    }
   ],
   "source": [
    "disp(eqHy_l_subs)\n",
    "disp(eqHy_r_subs)"
   ]
  },
  {
   "cell_type": "code",
   "execution_count": 157,
   "metadata": {},
   "outputs": [],
   "source": [
    "eqHy_l_re_subs = eqHy_l_re.subs(K_vacuum_subs_4).subs(K_left_conductor_subs_4)\n",
    "eqHy_r_re_subs = eqHy_r_re.subs(K_vacuum_subs_4).subs(K_right_conductor_subs_4)\n",
    "eqHy_l_im_subs = eqHy_l_im.subs(K_vacuum_subs_4).subs(K_left_conductor_subs_4)\n",
    "eqHy_r_im_subs = eqHy_r_im.subs(K_vacuum_subs_4).subs(K_right_conductor_subs_4)"
   ]
  },
  {
   "cell_type": "raw",
   "metadata": {},
   "source": [
    "eqHz_a_re_subs = eqHz_a_re.subs(K_vacuum_subs_3).subs(K_conductor_subs_3)\n",
    "eqHz_a_im_subs = eqHz_a_im.subs(K_vacuum_subs_3).subs(K_conductor_subs_3)"
   ]
  },
  {
   "cell_type": "code",
   "execution_count": 158,
   "metadata": {},
   "outputs": [],
   "source": [
    "# граничные условия на границе идеального проводника и вакуума внутри резонатора\n",
    "# тангенциальная компонента электрического поля"
   ]
  },
  {
   "cell_type": "raw",
   "metadata": {},
   "source": [
    "eqEz_a_subs = eqEz_a"
   ]
  },
  {
   "cell_type": "raw",
   "metadata": {},
   "source": [
    "eqEz_a_re_subs = eqEz_a_re\n",
    "eqEz_a_im_subs = eqEz_a_im"
   ]
  },
  {
   "cell_type": "raw",
   "metadata": {},
   "source": [
    "eqEy_a_re_subs = eqEy_a_re\n",
    "eqEy_a_im_subs = eqEy_a_im"
   ]
  },
  {
   "cell_type": "code",
   "execution_count": 159,
   "metadata": {},
   "outputs": [],
   "source": [
    "# нормальная компонента индукции магнитного поля\n",
    "# на границе вакуума внутри резонатора и проводящего металла с потерями"
   ]
  },
  {
   "cell_type": "raw",
   "metadata": {},
   "source": [
    "eqBx_a_re_subs = eqBx_a_re.subs(kappa_vacuum_sol)\n",
    "eqBx_a_im_subs = eqBx_a_im.subs(kappa_vacuum_sol)"
   ]
  },
  {
   "cell_type": "code",
   "execution_count": 160,
   "metadata": {},
   "outputs": [],
   "source": [
    "# нормальная компонента электрического смещения\n",
    "# на границе вакуума внутри резонатора и проводящего металла с потерями"
   ]
  },
  {
   "cell_type": "raw",
   "metadata": {},
   "source": [
    "eqDx_a_re_subs = eqDx_a_re.subs(kappa_vacuum_sol)\n",
    "eqDx_a_im_subs = eqDx_a_im.subs(kappa_vacuum_sol)"
   ]
  },
  {
   "cell_type": "raw",
   "metadata": {},
   "source": [
    "print(eqEz_0_re)\n",
    "print(eqEz_0_im)\n",
    "\n",
    "print(eqEy_0_re)\n",
    "print(eqEy_0_im)\n",
    "\n",
    "print(eqHy_a_re)\n",
    "print(eqHy_a_im)\n",
    "\n",
    "print(eqHz_a_re)\n",
    "print(eqHz_a_im)\n",
    "\n",
    "print(eqEz_a_re)\n",
    "print(eqEz_a_im)\n",
    "\n",
    "print(eqEy_a_re)\n",
    "print(eqEy_a_im)\n",
    "\n",
    "print(eqBx_a_re)\n",
    "print(eqBx_a_im)\n",
    "\n",
    "print(eqDx_a_re)\n",
    "print(eqDx_a_im)"
   ]
  },
  {
   "cell_type": "code",
   "execution_count": 161,
   "metadata": {},
   "outputs": [],
   "source": [
    "def GenerateMatrix(equsys, vars):\n",
    "    A=matrix(SR, [[(equ.lhs() - equ.rhs()).coefficient(v) for v in vars] for equ in equsys])\n",
    "    return A"
   ]
  },
  {
   "cell_type": "code",
   "execution_count": 162,
   "metadata": {},
   "outputs": [],
   "source": [
    "def GenerateMatrixNumeric(equsys, vars):\n",
    "    A=matrix(SR, [[(equ.lhs() - equ.rhs()).coefficient(v).n() for v in vars] for equ in equsys])\n",
    "    return A"
   ]
  },
  {
   "cell_type": "code",
   "execution_count": 163,
   "metadata": {},
   "outputs": [],
   "source": [
    "def reduceDependedRows(M):\n",
    "    print (\"\")\n",
    "    print (\"M.nrows()\", M.nrows())\n",
    "    print (\"M.ncols()\", M.ncols())\n",
    "    #print (\"M.rank()\", M.rank())\n",
    "\n",
    "    M_pivot_rows = M.pivot_rows()\n",
    "    print (\"M.pivot_rows() =\", M_pivot_rows)\n",
    "\n",
    "    M_rows = M.rows()\n",
    "    for row in M_rows:\n",
    "        print (\"row =\", row)\n",
    "\n",
    "    reduced_list = []\n",
    "    for r in M_pivot_rows:\n",
    "        print (\"M_rows[\", r, \"] =\")\n",
    "        display(Math(latex(M_rows[r])))\n",
    "        reduced_list.append(M_rows[r])\n",
    "\n",
    "    reduced_M = matrix(SR, len(M_pivot_rows), M.ncols(), reduced_list)\n",
    "    #reduced_M_det = reduced_M.det()\n",
    "    \n",
    "    print (\"reduced_M.nrows()\", reduced_M.nrows())\n",
    "    print (\"reduced_M.ncols()\", reduced_M.ncols())\n",
    "    \n",
    "    #print (\"\")\n",
    "    #print(\"reduced_M.det() =\", reduced_M_det)\n",
    "    return reduced_M"
   ]
  },
  {
   "cell_type": "code",
   "execution_count": 164,
   "metadata": {},
   "outputs": [],
   "source": [
    "def reduceRows(M, M_pivot_rows):\n",
    "    print (\"\")\n",
    "    print (\"M.nrows()\", M.nrows())\n",
    "    print (\"M.ncols()\", M.ncols())\n",
    "    #print (\"M.rank()\", M.rank())\n",
    "\n",
    "    print (\"M.pivot_rows() =\", M_pivot_rows)\n",
    "\n",
    "    M_rows = M.rows()\n",
    "    for row in M_rows:\n",
    "        print (\"row =\", row)\n",
    "\n",
    "    reduced_list = []\n",
    "    for r in M_pivot_rows:\n",
    "        print (\"M_rows[\", r, \"] =\")\n",
    "        display(Math(latex(M_rows[r])))\n",
    "        reduced_list.append(M_rows[r])\n",
    "\n",
    "    reduced_M = matrix(SR, len(M_pivot_rows), M.ncols(), reduced_list)\n",
    "    #reduced_M_det = reduced_M.det()\n",
    "    #print (\"\")\n",
    "    #print(\"reduced_M.det() =\", reduced_M_det)\n",
    "    \n",
    "    print (\"reduced_M.nrows()\", reduced_M.nrows())\n",
    "    print (\"reduced_M.ncols()\", reduced_M.ncols())\n",
    "\n",
    "    return reduced_M"
   ]
  },
  {
   "cell_type": "code",
   "execution_count": 165,
   "metadata": {},
   "outputs": [],
   "source": [
    "# sqrt(mu / epsilon_complex) = omega/c * mu / kappa\n",
    "# sqrt(mu / epsilon_complex) = omega/c * mu_rel * mu_0 / kappa\n",
    "\n",
    "# kappa/mu == omega * sqrt(epsilon_complex/mu)\n",
    "# sqrt(mu_0 / epsilon_0) = omega * mu_0 / kappa_vacuum\n",
    "\n",
    "# kappa_vacuum == omega/c\n",
    "# sqrt(mu_0 / epsilon_0) = c * mu_0\n",
    "# c = 1 / sqrt(mu_0 * epsilon_0)\n",
    "\n",
    "# kappa = omega/c * sqrt(epsilon_comlex*mu)\n",
    "# kappa_vacuum = omega/c * sqrt(epsilon_0*mu_0) = omega/c\n",
    "\n",
    "# sqrt(mu_0 / epsilon_0) = 1/(c*epsilon_0) = omega/c * mu_0 / kappa_vacuum\n",
    "# sqrt(mu / epsilon_complex) = 1/(c*epsilon_complex) = omega/c * mu / kappa\n",
    "\n",
    "# 1/mu_0 = c^2*epsolon_0"
   ]
  },
  {
   "cell_type": "code",
   "execution_count": 166,
   "metadata": {},
   "outputs": [],
   "source": [
    "Ex_left_conductor  = (eq_7_Ex_l_subs2.rhs())\n",
    "Ex_vacuum          = (eq_5_Ex_subs3.rhs())\n",
    "Ex_right_conductor = (eq_7_Ex_r_subs2.rhs())"
   ]
  },
  {
   "cell_type": "code",
   "execution_count": 167,
   "metadata": {},
   "outputs": [
    {
     "data": {
      "text/latex": [
       "$\\displaystyle \\frac{\\mathit{B1}_{\\mathit{zr}} K_{\\mathit{right}_{\\mathit{conductor}}} c \\sqrt{\\epsilon_{r}} k_{z} e^{\\left(-i \\, K_{\\mathit{right}_{\\mathit{conductor}}} {\\left(a - x\\right)}\\right)}}{c \\sqrt{\\epsilon_{r}} k_{z}^{2} - c \\sqrt{\\epsilon_{r}} \\kappa_{r}^{2} - 4 i \\, \\pi \\kappa_{r} \\sqrt{\\mu_{r}} \\sigma_{r}}$"
      ],
      "text/plain": [
       "<IPython.core.display.Math object>"
      ]
     },
     "metadata": {},
     "output_type": "display_data"
    }
   ],
   "source": [
    "disp(Ex_right_conductor)"
   ]
  },
  {
   "cell_type": "code",
   "execution_count": 168,
   "metadata": {},
   "outputs": [],
   "source": [
    "Ez_left_conductor  = E_left_conductor_sol_z(x)\n",
    "Ez_vacuum          = E_inner_vacuum_sol_z(x)\n",
    "Ez_right_conductor = E_right_conductor_sol_z(x)"
   ]
  },
  {
   "cell_type": "code",
   "execution_count": 169,
   "metadata": {},
   "outputs": [
    {
     "data": {
      "text/latex": [
       "$\\displaystyle \\mathit{B1}_{\\mathit{zr}} e^{\\left(-i \\, K_{\\mathit{right}_{\\mathit{conductor}}} {\\left(a - x\\right)}\\right)}$"
      ],
      "text/plain": [
       "<IPython.core.display.Math object>"
      ]
     },
     "metadata": {},
     "output_type": "display_data"
    }
   ],
   "source": [
    "disp(Ez_right_conductor)"
   ]
  },
  {
   "cell_type": "code",
   "execution_count": 170,
   "metadata": {},
   "outputs": [],
   "source": [
    "Hy_left_conductor  = c * (eq_8_Hy_l_subs2.rhs()*kappa_l   / (mu_l*omega))\n",
    "Hy_vacuum          = c * (eq_6_Hy_subs3.rhs()*kappa_vacuum/ (mu_0*omega))\n",
    "Hy_right_conductor = c * (eq_8_Hy_r_subs2.rhs()*kappa_r   / (mu_r*omega))"
   ]
  },
  {
   "cell_type": "code",
   "execution_count": 171,
   "metadata": {},
   "outputs": [
    {
     "data": {
      "text/latex": [
       "$\\displaystyle \\frac{i \\, {\\left(i \\, c \\epsilon_{r}^{\\frac{3}{2}} \\kappa_{r} - 4 \\, \\pi \\epsilon_{r} \\sqrt{\\mu_{r}} \\sigma_{r}\\right)} \\mathit{B1}_{\\mathit{zr}} K_{\\mathit{right}_{\\mathit{conductor}}} c \\kappa_{r} e^{\\left(-i \\, K_{\\mathit{right}_{\\mathit{conductor}}} {\\left(a - x\\right)}\\right)}}{{\\left(4 i \\, \\pi \\sqrt{\\epsilon_{r}} \\kappa_{r} \\mu_{r} \\sigma_{r} - {\\left(c \\epsilon_{r} k_{z}^{2} - c \\epsilon_{r} \\kappa_{r}^{2}\\right)} \\sqrt{\\mu_{r}}\\right)} \\mu_{r} \\omega}$"
      ],
      "text/plain": [
       "<IPython.core.display.Math object>"
      ]
     },
     "metadata": {},
     "output_type": "display_data"
    }
   ],
   "source": [
    "disp(Hy_right_conductor)"
   ]
  },
  {
   "cell_type": "code",
   "execution_count": 172,
   "metadata": {},
   "outputs": [],
   "source": [
    "rot_H_vacuum_x = - diff(Hy_vacuum(x=x)*e^(I*k_z*z), z)\n",
    "rot_H_vacuum_y =   0\n",
    "rot_H_vacuum_z =   diff(Hy_vacuum(x=x)*e^(I*k_z*z), x)"
   ]
  },
  {
   "cell_type": "code",
   "execution_count": 173,
   "metadata": {},
   "outputs": [],
   "source": [
    "eq_rot_H_vacuum_x = rot_H_vacuum_x == (-I*omega/c*Ex_vacuum(x=x)*e^(I*k_z*z))\n",
    "eq_rot_H_vacuum_z = rot_H_vacuum_z == (-I*omega/c*Ez_vacuum(x=x)*e^(I*k_z*z))"
   ]
  },
  {
   "cell_type": "code",
   "execution_count": 174,
   "metadata": {},
   "outputs": [],
   "source": [
    "rot_H_left_conductor_x = - diff(Hy_left_conductor(x=x)*e^(I*k_z*z), z)\n",
    "rot_H_left_conductor_y =   0\n",
    "rot_H_left_conductor_z =   diff(Hy_left_conductor(x=x)*e^(I*k_z*z), x)"
   ]
  },
  {
   "cell_type": "code",
   "execution_count": 175,
   "metadata": {},
   "outputs": [],
   "source": [
    "eq_rot_H_left_conductor_x = rot_H_left_conductor_x == ((-I*epsilon_l_complex*omega/c) * Ex_left_conductor(x=x)*e^(I*k_z*z))\n",
    "eq_rot_H_left_conductor_z = rot_H_left_conductor_z == ((-I*epsilon_l_complex*omega/c) * Ez_left_conductor(x=x)*e^(I*k_z*z))"
   ]
  },
  {
   "cell_type": "code",
   "execution_count": 176,
   "metadata": {},
   "outputs": [
    {
     "data": {
      "text/latex": [
       "$\\displaystyle -\\frac{{\\left(i \\, c \\epsilon_{l}^{\\frac{3}{2}} \\kappa_{l} - 4 \\, \\pi \\epsilon_{l} \\sqrt{\\mu_{l}} \\sigma_{l}\\right)} \\mathit{B1}_{\\mathit{zl}} K_{\\mathit{left}_{\\mathit{conductor}}} c k_{z} \\kappa_{l} e^{\\left(-i \\, K_{\\mathit{left}_{\\mathit{conductor}}} {\\left(a + x\\right)} + i \\, k_{z} z\\right)}}{{\\left(4 i \\, \\pi \\sqrt{\\epsilon_{l}} \\kappa_{l} \\mu_{l} \\sigma_{l} - {\\left(c \\epsilon_{l} k_{z}^{2} - c \\epsilon_{l} \\kappa_{l}^{2}\\right)} \\sqrt{\\mu_{l}}\\right)} \\mu_{l} \\omega} = -\\frac{\\mathit{B1}_{\\mathit{zl}} K_{\\mathit{left}_{\\mathit{conductor}}} \\sqrt{\\epsilon_{l}} {\\left(-i \\, \\epsilon_{l} + \\frac{4 \\, \\pi \\sigma_{l}}{\\omega}\\right)} k_{z} \\omega e^{\\left(-i \\, K_{\\mathit{left}_{\\mathit{conductor}}} {\\left(a + x\\right)} + i \\, k_{z} z\\right)}}{c \\sqrt{\\epsilon_{l}} k_{z}^{2} - c \\sqrt{\\epsilon_{l}} \\kappa_{l}^{2} - 4 i \\, \\pi \\kappa_{l} \\sqrt{\\mu_{l}} \\sigma_{l}}$"
      ],
      "text/plain": [
       "<IPython.core.display.Math object>"
      ]
     },
     "metadata": {},
     "output_type": "display_data"
    }
   ],
   "source": [
    "disp(eq_rot_H_left_conductor_x)"
   ]
  },
  {
   "cell_type": "code",
   "execution_count": 177,
   "metadata": {},
   "outputs": [],
   "source": [
    "rot_H_right_conductor_x = - diff(Hy_right_conductor(x=x)*e^(I*k_z*z), z)\n",
    "rot_H_right_conductor_y =   0\n",
    "rot_H_right_conductor_z =   diff(Hy_right_conductor(x=x)*e^(I*k_z*z), x)"
   ]
  },
  {
   "cell_type": "code",
   "execution_count": 178,
   "metadata": {},
   "outputs": [],
   "source": [
    "eq_rot_H_right_conductor_x = rot_H_right_conductor_x == ((-I*epsilon_r_complex*omega/c) * Ex_right_conductor(x=x)*e^(I*k_z*z))\n",
    "eq_rot_H_right_conductor_z = rot_H_right_conductor_z == ((-I*epsilon_r_complex*omega/c) * Ez_right_conductor(x=x)*e^(I*k_z*z))"
   ]
  },
  {
   "cell_type": "code",
   "execution_count": null,
   "metadata": {},
   "outputs": [],
   "source": []
  },
  {
   "cell_type": "code",
   "execution_count": 179,
   "metadata": {},
   "outputs": [
    {
     "data": {
      "text/latex": [
       "$\\displaystyle \\left[-\\frac{{\\left(i \\, \\mathit{A2}_{z} K_{\\mathit{vacuum}} e^{\\left(i \\, K_{\\mathit{vacuum}} x\\right)} - i \\, \\mathit{A1}_{z} K_{\\mathit{vacuum}} e^{\\left(-i \\, K_{\\mathit{vacuum}} x\\right)}\\right)} c \\kappa_{\\mathit{vacuum}}^{2}}{{\\left(k_{z}^{2} - \\kappa_{\\mathit{vacuum}}^{2}\\right)} \\omega} = -\\frac{{\\left(i \\, \\mathit{A2}_{z} K_{\\mathit{vacuum}} e^{\\left(i \\, K_{\\mathit{vacuum}} x\\right)} - i \\, \\mathit{A1}_{z} K_{\\mathit{vacuum}} e^{\\left(-i \\, K_{\\mathit{vacuum}} x\\right)}\\right)} \\omega}{{\\left(k_{z}^{2} - \\kappa_{\\mathit{vacuum}}^{2}\\right)} c}, \\frac{i \\, {\\left(\\mathit{A2}_{z} K_{\\mathit{vacuum}}^{2} e^{\\left(i \\, K_{\\mathit{vacuum}} x\\right)} + \\mathit{A1}_{z} K_{\\mathit{vacuum}}^{2} e^{\\left(-i \\, K_{\\mathit{vacuum}} x\\right)}\\right)} c \\kappa_{\\mathit{vacuum}}^{2}}{{\\left(k_{z}^{2} - \\kappa_{\\mathit{vacuum}}^{2}\\right)} \\omega} = -\\frac{i \\, {\\left(\\mathit{A2}_{z} e^{\\left(i \\, K_{\\mathit{vacuum}} x\\right)} + \\mathit{A1}_{z} e^{\\left(-i \\, K_{\\mathit{vacuum}} x\\right)}\\right)} \\omega}{c}\\right]$"
      ],
      "text/plain": [
       "<IPython.core.display.Math object>"
      ]
     },
     "metadata": {},
     "output_type": "display_data"
    }
   ],
   "source": [
    "sys_rot_H_vacuum = [\n",
    "    eq_rot_H_vacuum_x/k_z/e^(I*k_z*z)#.subs(K_vacuum_subs)*(k_z^2-kappa_vacuum^2)).subs(kappa_vacuum == omega/c).full_simplify().expand(),\n",
    "    ,eq_rot_H_vacuum_z/e^(I*k_z*z)#.subs(K_vacuum_subs)).subs(kappa_vacuum == omega/c).full_simplify().expand(),\n",
    "]\n",
    "\n",
    "# 2 equations\n",
    "disp(sys_rot_H_vacuum)"
   ]
  },
  {
   "cell_type": "code",
   "execution_count": 180,
   "metadata": {},
   "outputs": [
    {
     "data": {
      "text/latex": [
       "$\\displaystyle \\left(\\begin{array}{rr}\n",
       "\\frac{i \\, K_{\\mathit{vacuum}} c \\kappa_{\\mathit{vacuum}}^{2} e^{\\left(-i \\, K_{\\mathit{vacuum}} x\\right)}}{{\\left(k_{z}^{2} - \\kappa_{\\mathit{vacuum}}^{2}\\right)} \\omega} - \\frac{i \\, K_{\\mathit{vacuum}} \\omega e^{\\left(-i \\, K_{\\mathit{vacuum}} x\\right)}}{{\\left(k_{z}^{2} - \\kappa_{\\mathit{vacuum}}^{2}\\right)} c} & -\\frac{i \\, K_{\\mathit{vacuum}} c \\kappa_{\\mathit{vacuum}}^{2} e^{\\left(i \\, K_{\\mathit{vacuum}} x\\right)}}{{\\left(k_{z}^{2} - \\kappa_{\\mathit{vacuum}}^{2}\\right)} \\omega} + \\frac{i \\, K_{\\mathit{vacuum}} \\omega e^{\\left(i \\, K_{\\mathit{vacuum}} x\\right)}}{{\\left(k_{z}^{2} - \\kappa_{\\mathit{vacuum}}^{2}\\right)} c} \\\\\n",
       "\\frac{i \\, K_{\\mathit{vacuum}}^{2} c \\kappa_{\\mathit{vacuum}}^{2} e^{\\left(-i \\, K_{\\mathit{vacuum}} x\\right)}}{{\\left(k_{z}^{2} - \\kappa_{\\mathit{vacuum}}^{2}\\right)} \\omega} + \\frac{i \\, \\omega e^{\\left(-i \\, K_{\\mathit{vacuum}} x\\right)}}{c} & \\frac{i \\, K_{\\mathit{vacuum}}^{2} c \\kappa_{\\mathit{vacuum}}^{2} e^{\\left(i \\, K_{\\mathit{vacuum}} x\\right)}}{{\\left(k_{z}^{2} - \\kappa_{\\mathit{vacuum}}^{2}\\right)} \\omega} + \\frac{i \\, \\omega e^{\\left(i \\, K_{\\mathit{vacuum}} x\\right)}}{c}\n",
       "\\end{array}\\right)$"
      ],
      "text/plain": [
       "<IPython.core.display.Math object>"
      ]
     },
     "metadata": {},
     "output_type": "display_data"
    }
   ],
   "source": [
    "M2_sys_rot_H_vacuum = GenerateMatrix(sys_rot_H_vacuum, [A1_z, A2_z])\n",
    "display(Math(latex(M2_sys_rot_H_vacuum)))"
   ]
  },
  {
   "cell_type": "code",
   "execution_count": 181,
   "metadata": {},
   "outputs": [
    {
     "data": {
      "text/latex": [
       "$\\displaystyle \\left[-\\frac{{\\left(i \\, c \\epsilon_{l}^{\\frac{3}{2}} \\kappa_{l} - 4 \\, \\pi \\epsilon_{l} \\sqrt{\\mu_{l}} \\sigma_{l}\\right)} c \\kappa_{l}}{{\\left(4 i \\, \\pi \\sqrt{\\epsilon_{l}} \\kappa_{l} \\mu_{l} \\sigma_{l} - {\\left(c \\epsilon_{l} k_{z}^{2} - c \\epsilon_{l} \\kappa_{l}^{2}\\right)} \\sqrt{\\mu_{l}}\\right)} \\mu_{l} \\omega} = -\\frac{\\sqrt{\\epsilon_{l}} {\\left(-i \\, \\epsilon_{l} + \\frac{4 \\, \\pi \\sigma_{l}}{\\omega}\\right)} \\omega}{c \\sqrt{\\epsilon_{l}} k_{z}^{2} - c \\sqrt{\\epsilon_{l}} \\kappa_{l}^{2} - 4 i \\, \\pi \\kappa_{l} \\sqrt{\\mu_{l}} \\sigma_{l}}, \\frac{{\\left(i \\, c \\epsilon_{l}^{\\frac{3}{2}} \\kappa_{l} - 4 \\, \\pi \\epsilon_{l} \\sqrt{\\mu_{l}} \\sigma_{l}\\right)} {\\left(k_{z}^{2} - \\kappa_{l}^{2}\\right)} c \\kappa_{l}}{{\\left(4 i \\, \\pi \\sqrt{\\epsilon_{l}} \\kappa_{l} \\mu_{l} \\sigma_{l} - {\\left(c \\epsilon_{l} k_{z}^{2} - c \\epsilon_{l} \\kappa_{l}^{2}\\right)} \\sqrt{\\mu_{l}}\\right)} \\mu_{l} \\omega} = \\frac{{\\left(-i \\, \\epsilon_{l} + \\frac{4 \\, \\pi \\sigma_{l}}{\\omega}\\right)} \\omega}{c}\\right]$"
      ],
      "text/plain": [
       "<IPython.core.display.Math object>"
      ]
     },
     "metadata": {},
     "output_type": "display_data"
    }
   ],
   "source": [
    "sys_rot_H_left_conductor = [\n",
    "    eq_rot_H_left_conductor_x/B1_zl/K_left_conductor/k_z/e^(-I*K_left_conductor*(a + x) + I*k_z*z)#*(k_z^2-kappa_l^2)).subs(eq_kappa_l),\n",
    "    ,(eq_rot_H_left_conductor_z/B1_zl/e^(-I*K_left_conductor*(a + x) + I*k_z*z)).subs(K_left_conductor_subs)#.subs(eq_kappa_l)\n",
    "]\n",
    "\n",
    "# 2 equations\n",
    "disp(sys_rot_H_left_conductor)"
   ]
  },
  {
   "cell_type": "code",
   "execution_count": 182,
   "metadata": {},
   "outputs": [],
   "source": [
    "sys_rot_H_right_conductor = [\n",
    "    (eq_rot_H_right_conductor_x/B1_zr*(k_z^2-kappa_r^2)/K_right_conductor/k_z).subs(eq_kappa_r),\n",
    "    (eq_rot_H_right_conductor_z/B1_zr).subs(K_right_conductor_subs).subs(eq_kappa_r)\n",
    "]\n",
    "\n",
    "# 2 equations"
   ]
  },
  {
   "cell_type": "code",
   "execution_count": 183,
   "metadata": {},
   "outputs": [
    {
     "data": {
      "text/latex": [
       "$\\displaystyle \\frac{{\\left(i \\, c^{3} \\epsilon_{r} k_{z}^{2} \\kappa_{r}^{2} - i \\, c \\epsilon_{r}^{2} \\kappa_{r}^{2} \\mu_{r} \\omega^{2} + 4 \\, \\pi c \\epsilon_{r} \\kappa_{r}^{2} \\mu_{r} \\omega \\sigma_{r}\\right)} \\sqrt{\\epsilon_{r}} e^{\\left(i \\, K_{\\mathit{right}_{\\mathit{conductor}}} x + i \\, k_{z} z\\right)} - 4 \\, {\\left(-4 i \\, \\pi^{2} \\epsilon_{r} \\kappa_{r} \\mu_{r} \\omega \\sigma_{r}^{2} + {\\left(\\pi c^{2} \\epsilon_{r} k_{z}^{2} \\kappa_{r} - \\pi \\epsilon_{r}^{2} \\kappa_{r} \\mu_{r} \\omega^{2}\\right)} \\sigma_{r}\\right)} \\sqrt{\\mu_{r}} e^{\\left(i \\, K_{\\mathit{right}_{\\mathit{conductor}}} x + i \\, k_{z} z\\right)}}{4 i \\, \\pi c \\sqrt{\\epsilon_{r}} \\kappa_{r} \\mu_{r}^{2} \\omega \\sigma_{r} e^{\\left(i \\, K_{\\mathit{right}_{\\mathit{conductor}}} a\\right)} - {\\left(c^{2} \\epsilon_{r} k_{z}^{2} \\mu_{r} \\omega e^{\\left(i \\, K_{\\mathit{right}_{\\mathit{conductor}}} a\\right)} - \\epsilon_{r}^{2} \\mu_{r}^{2} \\omega^{3} e^{\\left(i \\, K_{\\mathit{right}_{\\mathit{conductor}}} a\\right)} - 4 i \\, \\pi \\epsilon_{r} \\mu_{r}^{2} \\omega^{2} \\sigma_{r} e^{\\left(i \\, K_{\\mathit{right}_{\\mathit{conductor}}} a\\right)}\\right)} \\sqrt{\\mu_{r}}} = \\frac{{\\left(i \\, c^{2} \\epsilon_{r} k_{z}^{2} \\omega - i \\, \\epsilon_{r}^{2} \\mu_{r} \\omega^{3} + 16 i \\, \\pi^{2} \\mu_{r} \\omega \\sigma_{r}^{2} - 4 \\, {\\left(\\pi c^{2} k_{z}^{2} - 2 \\, \\pi \\epsilon_{r} \\mu_{r} \\omega^{2}\\right)} \\sigma_{r}\\right)} \\sqrt{\\epsilon_{r}} e^{\\left(i \\, K_{\\mathit{right}_{\\mathit{conductor}}} x + i \\, k_{z} z\\right)}}{4 i \\, \\pi c^{2} \\kappa_{r} \\sqrt{\\mu_{r}} \\sigma_{r} e^{\\left(i \\, K_{\\mathit{right}_{\\mathit{conductor}}} a\\right)} - {\\left(c^{3} k_{z}^{2} e^{\\left(i \\, K_{\\mathit{right}_{\\mathit{conductor}}} a\\right)} - c \\epsilon_{r} \\mu_{r} \\omega^{2} e^{\\left(i \\, K_{\\mathit{right}_{\\mathit{conductor}}} a\\right)} - 4 i \\, \\pi c \\mu_{r} \\omega \\sigma_{r} e^{\\left(i \\, K_{\\mathit{right}_{\\mathit{conductor}}} a\\right)}\\right)} \\sqrt{\\epsilon_{r}}}$"
      ],
      "text/plain": [
       "<IPython.core.display.Math object>"
      ]
     },
     "metadata": {},
     "output_type": "display_data"
    }
   ],
   "source": [
    "display(Math(latex((eq_rot_H_right_conductor_x/B1_zr*(k_z^2-kappa_r^2)/K_right_conductor/k_z).subs(eq_kappa_r).full_simplify())))"
   ]
  },
  {
   "cell_type": "raw",
   "metadata": {},
   "source": [
    "sys8_subs = [eqEz_l_re_subs.subs(k_z = kz + I * sz).subs(K_left_conductor_subs_4), \\\n",
    "             eqEz_l_im_subs.subs(k_z = kz + I * sz).subs(K_left_conductor_subs_4), \\\n",
    "             eqHy_l_re_subs.subs(k_z = kz + I * sz), \\\n",
    "             eqHy_l_im_subs.subs(k_z = kz + I * sz), \\\n",
    "             eqHy_r_re_subs.subs(k_z = kz + I * sz), \\\n",
    "             eqHy_r_im_subs.subs(k_z = kz + I * sz), \\\n",
    "             eqEz_r_re_subs.subs(k_z = kz + I * sz), \\\n",
    "             eqEz_r_im_subs.subs(k_z = kz + I * sz), \\\n",
    "            ]\n",
    "\n",
    "# 6 equations"
   ]
  },
  {
   "cell_type": "code",
   "execution_count": 184,
   "metadata": {},
   "outputs": [],
   "source": [
    "sys12 = [eqDx_l_re_subs, eqDx_l_im_subs,\n",
    "         eqDx_r_re_subs, eqDx_r_im_subs,\n",
    "         eqEz_l_re_subs, eqEz_l_im_subs,\n",
    "         eqEz_r_re_subs, eqEz_r_im_subs,\n",
    "         eqHy_l_re_subs, eqHy_l_im_subs,\n",
    "         eqHy_r_re_subs, eqHy_r_im_subs,\n",
    "        ]"
   ]
  },
  {
   "cell_type": "code",
   "execution_count": 185,
   "metadata": {},
   "outputs": [],
   "source": [
    "sys6 = [eqDx_l_subs,\n",
    "        eqDx_r_subs,\n",
    "        eqEz_l_subs,\n",
    "        eqEz_r_subs,\n",
    "        eqHy_l_subs,\n",
    "        eqHy_r_subs,\n",
    "        ]"
   ]
  },
  {
   "cell_type": "code",
   "execution_count": 186,
   "metadata": {},
   "outputs": [
    {
     "data": {
      "text/latex": [
       "$\\displaystyle \\left[-\\frac{\\sqrt{-k_{z}^{2} + \\frac{\\epsilon_{l} \\mu_{l} \\omega^{2} + 4 i \\, \\pi \\mu_{l} \\omega \\sigma_{l}}{c^{2}}} \\mathit{B1}_{\\mathit{zl}} c {\\left(\\epsilon_{l} + \\frac{4 i \\, \\pi \\sigma_{l}}{\\omega}\\right)} \\sqrt{\\epsilon_{l}} k_{z}}{c \\sqrt{\\epsilon_{l}} k_{z}^{2} - \\frac{4 i \\, \\pi \\sqrt{\\epsilon_{l} \\mu_{l} \\omega^{2} + 4 i \\, \\pi \\mu_{l} \\omega \\sigma_{l}} \\sqrt{\\mu_{l}} \\sigma_{l}}{c} - \\frac{{\\left(\\epsilon_{l} \\mu_{l} \\omega^{2} + 4 i \\, \\pi \\mu_{l} \\omega \\sigma_{l}\\right)} \\sqrt{\\epsilon_{l}}}{c}} = -\\frac{{\\left(\\mathit{A2}_{z} k_{z} e^{\\left(-2 i \\, \\sqrt{-k_{z}^{2} + \\frac{\\omega^{2}}{c^{2}}} a\\right)} - \\mathit{A1}_{z} k_{z}\\right)} e^{\\left(i \\, \\sqrt{-k_{z}^{2} + \\frac{\\omega^{2}}{c^{2}}} a\\right)}}{\\sqrt{-k_{z}^{2} + \\frac{\\omega^{2}}{c^{2}}}}, \\frac{\\sqrt{-k_{z}^{2} + \\frac{\\epsilon_{r} \\mu_{r} \\omega^{2} + 4 i \\, \\pi \\mu_{r} \\omega \\sigma_{r}}{c^{2}}} \\mathit{B1}_{\\mathit{zr}} c {\\left(\\epsilon_{r} + \\frac{4 i \\, \\pi \\sigma_{r}}{\\omega}\\right)} \\sqrt{\\epsilon_{r}} k_{z}}{c \\sqrt{\\epsilon_{r}} k_{z}^{2} - \\frac{4 i \\, \\pi \\sqrt{\\epsilon_{r} \\mu_{r} \\omega^{2} + 4 i \\, \\pi \\mu_{r} \\omega \\sigma_{r}} \\sqrt{\\mu_{r}} \\sigma_{r}}{c} - \\frac{{\\left(\\epsilon_{r} \\mu_{r} \\omega^{2} + 4 i \\, \\pi \\mu_{r} \\omega \\sigma_{r}\\right)} \\sqrt{\\epsilon_{r}}}{c}} = -\\frac{{\\left(\\mathit{A2}_{z} k_{z} e^{\\left(2 i \\, \\sqrt{-k_{z}^{2} + \\frac{\\omega^{2}}{c^{2}}} a\\right)} - \\mathit{A1}_{z} k_{z}\\right)} e^{\\left(-i \\, \\sqrt{-k_{z}^{2} + \\frac{\\omega^{2}}{c^{2}}} a\\right)}}{\\sqrt{-k_{z}^{2} + \\frac{\\omega^{2}}{c^{2}}}}, \\mathit{B1}_{\\mathit{zl}} = \\mathit{A1}_{z} e^{\\left(i \\, \\sqrt{-k_{z}^{2} + \\frac{\\omega^{2}}{c^{2}}} a\\right)} + \\mathit{A2}_{z} e^{\\left(-i \\, \\sqrt{-k_{z}^{2} + \\frac{\\omega^{2}}{c^{2}}} a\\right)}, \\mathit{B1}_{\\mathit{zr}} = \\mathit{A2}_{z} e^{\\left(i \\, \\sqrt{-k_{z}^{2} + \\frac{\\omega^{2}}{c^{2}}} a\\right)} + \\mathit{A1}_{z} e^{\\left(-i \\, \\sqrt{-k_{z}^{2} + \\frac{\\omega^{2}}{c^{2}}} a\\right)}, -\\frac{i \\, {\\left(i \\, \\mathit{B1}_{\\mathit{xl}} k_{z} + i \\, \\sqrt{-k_{z}^{2} + \\frac{\\epsilon_{l} \\mu_{l} \\omega^{2} + 4 i \\, \\pi \\mu_{l} \\omega \\sigma_{l}}{c^{2}}} \\mathit{B1}_{\\mathit{zl}}\\right)} c}{\\mu_{l} \\omega} = -\\frac{i \\, {\\left(i \\, \\sqrt{-k_{z}^{2} + \\frac{\\omega^{2}}{c^{2}}} \\mathit{A1}_{z} e^{\\left(i \\, \\sqrt{-k_{z}^{2} + \\frac{\\omega^{2}}{c^{2}}} a\\right)} - i \\, \\sqrt{-k_{z}^{2} + \\frac{\\omega^{2}}{c^{2}}} \\mathit{A2}_{z} e^{\\left(-i \\, \\sqrt{-k_{z}^{2} + \\frac{\\omega^{2}}{c^{2}}} a\\right)} + i \\, {\\left(\\mathit{A1}_{x} e^{\\left(i \\, \\sqrt{-k_{z}^{2} + \\frac{\\omega^{2}}{c^{2}}} a\\right)} + \\mathit{A2}_{x} e^{\\left(-i \\, \\sqrt{-k_{z}^{2} + \\frac{\\omega^{2}}{c^{2}}} a\\right)}\\right)} k_{z}\\right)} c}{\\omega}, -\\frac{i \\, {\\left(i \\, \\mathit{B1}_{\\mathit{xr}} k_{z} - i \\, \\sqrt{-k_{z}^{2} + \\frac{\\epsilon_{r} \\mu_{r} \\omega^{2} + 4 i \\, \\pi \\mu_{r} \\omega \\sigma_{r}}{c^{2}}} \\mathit{B1}_{\\mathit{zr}}\\right)} c}{\\mu_{r} \\omega} = -\\frac{i \\, {\\left(-i \\, \\sqrt{-k_{z}^{2} + \\frac{\\omega^{2}}{c^{2}}} \\mathit{A2}_{z} e^{\\left(i \\, \\sqrt{-k_{z}^{2} + \\frac{\\omega^{2}}{c^{2}}} a\\right)} + i \\, \\sqrt{-k_{z}^{2} + \\frac{\\omega^{2}}{c^{2}}} \\mathit{A1}_{z} e^{\\left(-i \\, \\sqrt{-k_{z}^{2} + \\frac{\\omega^{2}}{c^{2}}} a\\right)} + i \\, {\\left(\\mathit{A2}_{x} e^{\\left(i \\, \\sqrt{-k_{z}^{2} + \\frac{\\omega^{2}}{c^{2}}} a\\right)} + \\mathit{A1}_{x} e^{\\left(-i \\, \\sqrt{-k_{z}^{2} + \\frac{\\omega^{2}}{c^{2}}} a\\right)}\\right)} k_{z}\\right)} c}{\\omega}\\right]$"
      ],
      "text/plain": [
       "<IPython.core.display.Math object>"
      ]
     },
     "metadata": {},
     "output_type": "display_data"
    }
   ],
   "source": [
    "disp(sys6)"
   ]
  },
  {
   "cell_type": "code",
   "execution_count": 187,
   "metadata": {},
   "outputs": [],
   "source": [
    "sys6_im = [eqDx_l_im_subs,\n",
    "           eqDx_r_im_subs,\n",
    "           eqEz_l_im_subs,\n",
    "           eqEz_r_im_subs,\n",
    "           eqHy_l_im_subs,\n",
    "           eqHy_r_im_subs,\n",
    "        ]"
   ]
  },
  {
   "cell_type": "code",
   "execution_count": 188,
   "metadata": {},
   "outputs": [],
   "source": [
    "sys6_re = [eqDx_l_re_subs, \n",
    "           eqDx_r_re_subs, \n",
    "           eqEz_l_re_subs,\n",
    "           eqEz_r_re_subs,\n",
    "           eqHy_l_re_subs,\n",
    "           eqHy_r_re_subs,\n",
    "        ]"
   ]
  },
  {
   "cell_type": "code",
   "execution_count": 189,
   "metadata": {},
   "outputs": [],
   "source": [
    "sys12_subs = [eq.subs(k_z = kz + I * sz) for eq in sys12]"
   ]
  },
  {
   "cell_type": "code",
   "execution_count": 190,
   "metadata": {},
   "outputs": [],
   "source": [
    "sys6_re_subs = [eq.subs(k_z = kz + I * sz) for eq in sys6_re]"
   ]
  },
  {
   "cell_type": "code",
   "execution_count": 191,
   "metadata": {},
   "outputs": [],
   "source": [
    "sys6_im_subs = [eq.subs(k_z = kz + I * sz) for eq in sys6_im]"
   ]
  },
  {
   "cell_type": "code",
   "execution_count": 192,
   "metadata": {},
   "outputs": [],
   "source": [
    "vars12 = [\n",
    "    B1_zl_re, B1_zl_im,\n",
    "    A1_x_re, A1_x_im,\n",
    "    A1_z_re, A1_z_im,\n",
    "    A2_x_re, A2_x_im,\n",
    "    A2_z_re, A2_z_im,\n",
    "    B1_zr_re, B1_zr_im,\n",
    "]"
   ]
  },
  {
   "cell_type": "code",
   "execution_count": 193,
   "metadata": {},
   "outputs": [],
   "source": [
    "vars6 = [\n",
    "    B1_zl,\n",
    "    A1_x,\n",
    "    A1_z,\n",
    "    A2_x,\n",
    "    A2_z,\n",
    "    B1_zr,\n",
    "]"
   ]
  },
  {
   "cell_type": "code",
   "execution_count": 194,
   "metadata": {},
   "outputs": [],
   "source": [
    "vars6_re = [\n",
    "    B1_zl_re,\n",
    "    A1_x_re,\n",
    "    A1_z_re,\n",
    "    A2_x_re,\n",
    "    A2_z_re,\n",
    "    B1_zr_re,\n",
    "]"
   ]
  },
  {
   "cell_type": "code",
   "execution_count": 195,
   "metadata": {},
   "outputs": [],
   "source": [
    "vars6_im = [\n",
    "    B1_zl_im,\n",
    "    A1_x_im,\n",
    "    A1_z_im,\n",
    "    A2_x_im,\n",
    "    A2_z_im,\n",
    "    B1_zr_im,\n",
    "]"
   ]
  },
  {
   "cell_type": "raw",
   "metadata": {},
   "source": [
    "sys8 = [eqEz_l_re, eqEz_l_im, \\\n",
    "        eqHy_l_re, eqHy_l_im, \\\n",
    "        eqHy_r_re, eqHy_r_im, \\\n",
    "        eqEz_r_re, eqEz_r_im, \\\n",
    "        ]\n",
    "# 8 equations"
   ]
  },
  {
   "cell_type": "raw",
   "metadata": {},
   "source": [
    "sys4_subs = [eqEz_l_subs.subs(K_left_conductor_subs_2), \\\n",
    "             eqHy_l_subs, \\\n",
    "             eqHy_r_subs, \\\n",
    "             eqEz_r_subs, \\\n",
    "            ]\n",
    "\n",
    "# 3 equations"
   ]
  },
  {
   "cell_type": "raw",
   "metadata": {},
   "source": [
    "sys4_subs = [eqEz_l_subs.subs(K_left_conductor_subs_2), \\\n",
    "             eqHy_l.subs(kappa_vacuum_sol).subs(kappa_l_sol), \\\n",
    "             eqHy_r.subs(kappa_vacuum_sol).subs(kappa_r_sol), \\\n",
    "             eqEz_r_subs, \\\n",
    "            ]\n",
    "\n",
    "# 3 equations"
   ]
  },
  {
   "cell_type": "raw",
   "metadata": {},
   "source": [
    "sys4_subs = [eqEz_l_subs.subs(K_left_conductor_subs_2), \\\n",
    "             eq_Hy_ls.subs(K_vacuum_subs_2).subs(K_left_conductor_subs_2).subs(kappa_vacuum_sol).subs(kappa_l_sol), \\\n",
    "             eq_Hy_rs.subs(K_right_conductor_subs_2).subs(kappa_vacuum_sol).subs(kappa_r_sol), \\\n",
    "             eqEz_r_subs, \\\n",
    "            ]\n",
    "\n",
    "# 3 equations"
   ]
  },
  {
   "cell_type": "raw",
   "metadata": {},
   "source": [
    "sys3_subs = [eqEz_0_subs, \\\n",
    "             eq_Hy_0.subs(kappa_vacuum_sol).subs(kappa_sol), \\\n",
    "             eqEz_a_subs, \\\n",
    "            ]\n",
    "\n",
    "# 3 equations"
   ]
  },
  {
   "cell_type": "raw",
   "metadata": {},
   "source": [
    "sys4 = [eqEz_l, \\\n",
    "        eqHy_l, \\\n",
    "        eqHy_r, \\\n",
    "        eqEz_r, \\\n",
    "       ]\n",
    "\n",
    "# 4 complex equations"
   ]
  },
  {
   "cell_type": "raw",
   "metadata": {},
   "source": [
    "vars8 = [B1_zl_re, B1_zl_im, \\\n",
    "         A1_z_re, A1_z_im, \\\n",
    "         A2_z_re, A2_z_im, \\\n",
    "         B1_zr_re, B1_zr_im,\n",
    "]\n",
    "# 6 variables"
   ]
  },
  {
   "cell_type": "raw",
   "metadata": {},
   "source": [
    "vars4 = [B1_zl,\\\n",
    "         A1_z, \\\n",
    "         A2_z, \\\n",
    "         B1_zr, \\\n",
    "]\n",
    "# 4 complex variables"
   ]
  },
  {
   "cell_type": "raw",
   "metadata": {},
   "source": [
    "M8_subs = GenerateMatrix(sys8_subs, vars8)"
   ]
  },
  {
   "cell_type": "raw",
   "metadata": {},
   "source": [
    "M8 = GenerateMatrix(sys8, vars8)"
   ]
  },
  {
   "cell_type": "raw",
   "metadata": {},
   "source": [
    "M12 = GenerateMatrix(sys12, vars12)"
   ]
  },
  {
   "cell_type": "code",
   "execution_count": 196,
   "metadata": {},
   "outputs": [],
   "source": [
    "M6 = GenerateMatrix(sys6, vars6)"
   ]
  },
  {
   "cell_type": "code",
   "execution_count": 197,
   "metadata": {},
   "outputs": [
    {
     "data": {
      "text/latex": [
       "$\\displaystyle \\left(\\begin{array}{rrrrrr}\n",
       "-\\frac{\\sqrt{-k_{z}^{2} + \\frac{\\epsilon_{l} \\mu_{l} \\omega^{2} + 4 i \\, \\pi \\mu_{l} \\omega \\sigma_{l}}{c^{2}}} c {\\left(\\epsilon_{l} + \\frac{4 i \\, \\pi \\sigma_{l}}{\\omega}\\right)} \\sqrt{\\epsilon_{l}} k_{z}}{c \\sqrt{\\epsilon_{l}} k_{z}^{2} - \\frac{4 i \\, \\pi \\sqrt{\\epsilon_{l} \\mu_{l} \\omega^{2} + 4 i \\, \\pi \\mu_{l} \\omega \\sigma_{l}} \\sqrt{\\mu_{l}} \\sigma_{l}}{c} - \\frac{{\\left(\\epsilon_{l} \\mu_{l} \\omega^{2} + 4 i \\, \\pi \\mu_{l} \\omega \\sigma_{l}\\right)} \\sqrt{\\epsilon_{l}}}{c}} & 0 & -\\frac{k_{z} e^{\\left(i \\, \\sqrt{-k_{z}^{2} + \\frac{\\omega^{2}}{c^{2}}} a\\right)}}{\\sqrt{-k_{z}^{2} + \\frac{\\omega^{2}}{c^{2}}}} & 0 & \\frac{k_{z} e^{\\left(-i \\, \\sqrt{-k_{z}^{2} + \\frac{\\omega^{2}}{c^{2}}} a\\right)}}{\\sqrt{-k_{z}^{2} + \\frac{\\omega^{2}}{c^{2}}}} & 0 \\\\\n",
       "0 & 0 & -\\frac{k_{z} e^{\\left(-i \\, \\sqrt{-k_{z}^{2} + \\frac{\\omega^{2}}{c^{2}}} a\\right)}}{\\sqrt{-k_{z}^{2} + \\frac{\\omega^{2}}{c^{2}}}} & 0 & \\frac{k_{z} e^{\\left(i \\, \\sqrt{-k_{z}^{2} + \\frac{\\omega^{2}}{c^{2}}} a\\right)}}{\\sqrt{-k_{z}^{2} + \\frac{\\omega^{2}}{c^{2}}}} & \\frac{\\sqrt{-k_{z}^{2} + \\frac{\\epsilon_{r} \\mu_{r} \\omega^{2} + 4 i \\, \\pi \\mu_{r} \\omega \\sigma_{r}}{c^{2}}} c {\\left(\\epsilon_{r} + \\frac{4 i \\, \\pi \\sigma_{r}}{\\omega}\\right)} \\sqrt{\\epsilon_{r}} k_{z}}{c \\sqrt{\\epsilon_{r}} k_{z}^{2} - \\frac{4 i \\, \\pi \\sqrt{\\epsilon_{r} \\mu_{r} \\omega^{2} + 4 i \\, \\pi \\mu_{r} \\omega \\sigma_{r}} \\sqrt{\\mu_{r}} \\sigma_{r}}{c} - \\frac{{\\left(\\epsilon_{r} \\mu_{r} \\omega^{2} + 4 i \\, \\pi \\mu_{r} \\omega \\sigma_{r}\\right)} \\sqrt{\\epsilon_{r}}}{c}} \\\\\n",
       "1 & 0 & -e^{\\left(i \\, \\sqrt{-k_{z}^{2} + \\frac{\\omega^{2}}{c^{2}}} a\\right)} & 0 & -e^{\\left(-i \\, \\sqrt{-k_{z}^{2} + \\frac{\\omega^{2}}{c^{2}}} a\\right)} & 0 \\\\\n",
       "0 & 0 & -e^{\\left(-i \\, \\sqrt{-k_{z}^{2} + \\frac{\\omega^{2}}{c^{2}}} a\\right)} & 0 & -e^{\\left(i \\, \\sqrt{-k_{z}^{2} + \\frac{\\omega^{2}}{c^{2}}} a\\right)} & 1 \\\\\n",
       "\\frac{\\sqrt{-k_{z}^{2} + \\frac{\\epsilon_{l} \\mu_{l} \\omega^{2} + 4 i \\, \\pi \\mu_{l} \\omega \\sigma_{l}}{c^{2}}} c}{\\mu_{l} \\omega} & -\\frac{c k_{z} e^{\\left(i \\, \\sqrt{-k_{z}^{2} + \\frac{\\omega^{2}}{c^{2}}} a\\right)}}{\\omega} & -\\frac{\\sqrt{-k_{z}^{2} + \\frac{\\omega^{2}}{c^{2}}} c e^{\\left(i \\, \\sqrt{-k_{z}^{2} + \\frac{\\omega^{2}}{c^{2}}} a\\right)}}{\\omega} & -\\frac{c k_{z} e^{\\left(-i \\, \\sqrt{-k_{z}^{2} + \\frac{\\omega^{2}}{c^{2}}} a\\right)}}{\\omega} & \\frac{\\sqrt{-k_{z}^{2} + \\frac{\\omega^{2}}{c^{2}}} c e^{\\left(-i \\, \\sqrt{-k_{z}^{2} + \\frac{\\omega^{2}}{c^{2}}} a\\right)}}{\\omega} & 0 \\\\\n",
       "0 & -\\frac{c k_{z} e^{\\left(-i \\, \\sqrt{-k_{z}^{2} + \\frac{\\omega^{2}}{c^{2}}} a\\right)}}{\\omega} & -\\frac{\\sqrt{-k_{z}^{2} + \\frac{\\omega^{2}}{c^{2}}} c e^{\\left(-i \\, \\sqrt{-k_{z}^{2} + \\frac{\\omega^{2}}{c^{2}}} a\\right)}}{\\omega} & -\\frac{c k_{z} e^{\\left(i \\, \\sqrt{-k_{z}^{2} + \\frac{\\omega^{2}}{c^{2}}} a\\right)}}{\\omega} & \\frac{\\sqrt{-k_{z}^{2} + \\frac{\\omega^{2}}{c^{2}}} c e^{\\left(i \\, \\sqrt{-k_{z}^{2} + \\frac{\\omega^{2}}{c^{2}}} a\\right)}}{\\omega} & -\\frac{\\sqrt{-k_{z}^{2} + \\frac{\\epsilon_{r} \\mu_{r} \\omega^{2} + 4 i \\, \\pi \\mu_{r} \\omega \\sigma_{r}}{c^{2}}} c}{\\mu_{r} \\omega}\n",
       "\\end{array}\\right)$"
      ],
      "text/plain": [
       "<IPython.core.display.Math object>"
      ]
     },
     "metadata": {},
     "output_type": "display_data"
    }
   ],
   "source": [
    "disp(M6)"
   ]
  },
  {
   "cell_type": "code",
   "execution_count": 198,
   "metadata": {},
   "outputs": [],
   "source": [
    "M6_det = M6.det()"
   ]
  },
  {
   "cell_type": "raw",
   "metadata": {},
   "source": [
    "disp(M6_det)"
   ]
  },
  {
   "cell_type": "code",
   "execution_count": 199,
   "metadata": {},
   "outputs": [
    {
     "data": {
      "text/plain": [
       "(a, c, epsilon_l, epsilon_r, k_z, mu_l, mu_r, omega, sigma_l, sigma_r)"
      ]
     },
     "execution_count": 199,
     "metadata": {},
     "output_type": "execute_result"
    }
   ],
   "source": [
    "M6_det.variables()"
   ]
  },
  {
   "cell_type": "code",
   "execution_count": 200,
   "metadata": {},
   "outputs": [],
   "source": [
    "M6_det_subs_k_z = M6_det.subs(k_z = kz + I * sz)"
   ]
  },
  {
   "cell_type": "code",
   "execution_count": 201,
   "metadata": {},
   "outputs": [
    {
     "data": {
      "text/plain": [
       "(a, c, epsilon_l, epsilon_r, kz, mu_l, mu_r, omega, sigma_l, sigma_r, sz)"
      ]
     },
     "execution_count": 201,
     "metadata": {},
     "output_type": "execute_result"
    }
   ],
   "source": [
    "M6_det_subs_k_z.variables()"
   ]
  },
  {
   "cell_type": "code",
   "execution_count": 202,
   "metadata": {},
   "outputs": [],
   "source": [
    "M6_det_subs_k_z_d = M6_det_subs_k_z.subs(digit_values)"
   ]
  },
  {
   "cell_type": "code",
   "execution_count": 203,
   "metadata": {},
   "outputs": [],
   "source": [
    "make_investigation_plots = True"
   ]
  },
  {
   "cell_type": "code",
   "execution_count": 204,
   "metadata": {},
   "outputs": [],
   "source": [
    "def make_det_plot2d(kz_min, kz_max, nk, sz_min, sz_max, ns):\n",
    "    import numpy as np\n",
    "    import matplotlib.pyplot as plt\n",
    "    %matplotlib inline\n",
    "\n",
    "    kz_linspace = np.linspace(kz_min, kz_max, nk)\n",
    "    sz_linspace = np.linspace(sz_min, sz_max, ns)\n",
    "\n",
    "    kz_list = kz_linspace.tolist()\n",
    "    sz_list = sz_linspace.tolist()\n",
    "\n",
    "    kz_grid, sz_grid = np.meshgrid(kz_linspace, sz_linspace)\n",
    "\n",
    "    u = kz_grid * np.nan\n",
    "    v = sz_grid * np.nan\n",
    "\n",
    "    for ikz in np.arange(0, len(kz_linspace), 1):\n",
    "        print(ikz, len(kz_linspace))\n",
    "        for isz in np.arange(0, len(sz_linspace), 1):\n",
    "            kz_i = kz_list[ikz]\n",
    "            sz_i = sz_list[isz]\n",
    "            try:\n",
    "                M6_det_subs_k_z_d_i = M6_det_subs_k_z_d.subs(kz == kz_i).subs(sz == sz_i)\n",
    "                u[isz][ikz] = M6_det_subs_k_z_d_i.real().n()\n",
    "                v[isz][ikz] = M6_det_subs_k_z_d_i.imag().n()\n",
    "                print(kz_i, sz_i, u[isz][ikz], v[isz][ikz])\n",
    "            except Exception as ex:\n",
    "                print(ex)\n",
    "    return kz_grid, sz_grid, u, v"
   ]
  },
  {
   "cell_type": "raw",
   "metadata": {},
   "source": [
    "kz_grid, sz_grid, u, v = make_det_plot2d(kz_min=-5e-3, kz_max=5e-3, nk=11\n",
    "                                         sz_min=-4e-2, sz_max=4e-2, ns=11)"
   ]
  },
  {
   "cell_type": "markdown",
   "metadata": {},
   "source": [
    "Искомый волновой вектор можно найти графическим методом как точку пересечения двух нулевых изолиний на контурных графиках зависимости действительной и мнимой компонент детерминанта от действительной и мнимой компонент волнового вектора"
   ]
  },
  {
   "cell_type": "markdown",
   "metadata": {},
   "source": [
    "Get coordinates from a contour\n",
    "\n",
    "https://stackoverflow.com/questions/19418901/get-coordinates-from-a-contour"
   ]
  },
  {
   "cell_type": "code",
   "execution_count": 205,
   "metadata": {},
   "outputs": [],
   "source": [
    "# https://stackoverflow.com/questions/8094374/python-matplotlib-find-intersection-of-lineplots\n",
    "def intersect_interp1d(x1, y1, x2, y2, ax):\n",
    "    import numpy as np\n",
    "    from numpy.linalg import norm\n",
    "    from scipy.optimize import fsolve\n",
    "    from scipy.interpolate import interp1d\n",
    "    import matplotlib.pyplot as plt\n",
    "\n",
    "    x1_array = np.array(x1)\n",
    "    y1_array = np.array(y1)\n",
    "    x2_array = np.array(x2)\n",
    "    y2_array = np.array(y2)\n",
    "\n",
    "    s1_array = np.linspace(0,1,num=len(x1_array))\n",
    "    s2_array = np.linspace(0,1,num=len(x2_array))\n",
    "\n",
    "    # Arguments given to interp1d:\n",
    "    #  - extrapolate: to make sure we don't get a fatal value error when fsolve searches\n",
    "    #                 beyond the bounds of [0,1]\n",
    "    #  - copy: use refs to the arrays\n",
    "    #  - assume_sorted: because s_array ('x') increases monotonically across [0,1]\n",
    "    kwargs_ = dict(fill_value='extrapolate', copy=False, assume_sorted=True)\n",
    "    x1_interp = interp1d(s1_array,x1_array, **kwargs_)\n",
    "    y1_interp = interp1d(s1_array,y1_array, **kwargs_)\n",
    "    x2_interp = interp1d(s2_array,x2_array, **kwargs_)\n",
    "    y2_interp = interp1d(s2_array,y2_array, **kwargs_)\n",
    "    \n",
    "    xydiff_lambda = lambda s12: (np.abs(x1_interp(s12[0])-x2_interp(s12[1])),\n",
    "                                 np.abs(y1_interp(s12[0])-y2_interp(s12[1])))\n",
    "    \n",
    "    foundset = []\n",
    "    \n",
    "    for s1 in np.arange(0.2,1.0,0.2):\n",
    "        for s2 in np.arange(0.2, 1.0, 0.2):\n",
    "\n",
    "            s12_intercept, _, ier, mesg \\\n",
    "                = fsolve(xydiff_lambda, [s1, s2], full_output=True) \n",
    "\n",
    "            xy1_intercept = x1_interp(s12_intercept[0]),y1_interp(s12_intercept[0])\n",
    "            xy2_intercept = x2_interp(s12_intercept[1]),y2_interp(s12_intercept[1])\n",
    "            \n",
    "            is_intercept_really_good = s12_intercept[0]>=0 and s12_intercept[0]<=1 \\\n",
    "                  and s12_intercept[1]>=0 and s12_intercept[1]<=1 \\\n",
    "                  and np.isclose(0,norm(xydiff_lambda(s12_intercept)))\n",
    "            \n",
    "            if is_intercept_really_good:\n",
    "                \n",
    "\n",
    "                \n",
    "                found = (float(xy1_intercept[0]), float(xy1_intercept[1]))\n",
    "                \n",
    "                if found not in foundset:\n",
    "                    foundset += [found]\n",
    "                    \n",
    "                    fig, ax = plt.subplots(1,1)\n",
    "                \n",
    "                    ax.plot(x1_interp(s1_array),y1_interp(s1_array),'b.', ls='-', label='x1 data')\n",
    "                    ax.plot(x2_interp(s2_array),y2_interp(s2_array),'r.', ls='-', label='x2 data')\n",
    "                    if s12_intercept[0]>0 and s12_intercept[0]<1:\n",
    "                        \n",
    "                        ax.plot(*xy1_intercept,'bo', ms=12, label='x1 intercept')\n",
    "                        ax.plot(*xy2_intercept,'ro', ms=8, label='x2 intercept')\n",
    "                        ax.legend()\n",
    "                        plt.show()\n",
    "\n",
    "                        M6_det = M6_det_subs_k_z_d \\\n",
    "                            .subs(kz == float(xy1_intercept[0])) \\\n",
    "                            .subs(sz == float(xy1_intercept[1]))\n",
    "                        M6_det_re = M6_det.real().n()\n",
    "                        M6_det_im = M6_det.imag().n()\n",
    "\n",
    "                        print(\"M6_det=\", M6_det_re, M6_det_im)\n",
    "                \n",
    "                        print('intercept @ s1={}, s2={}\\n'.format(s12_intercept[0],s12_intercept[1]), \n",
    "                              'intercept @ xy1={}\\n'.format(np.array(xy1_intercept)), \n",
    "                              'intercept @ xy2={}\\n'.format(np.array(xy2_intercept)), \n",
    "                              'fsolve apparent success? {}: \"{}\"\\n'.format(ier==1,mesg,), \n",
    "                              'is intercept really good? {}\\n'.format( is_intercept_really_good ))\n",
    "\n",
    "    return foundset"
   ]
  },
  {
   "cell_type": "code",
   "execution_count": 206,
   "metadata": {},
   "outputs": [],
   "source": [
    "def test_contour_line_intersection(i, j, cu, cv, cu_index, cv_index):\n",
    "    dat_u = cu.allsegs[cu_index][i]\n",
    "    dat_v = cv.allsegs[cv_index][j]\n",
    "    \n",
    "    xu = dat_u[:,0]\n",
    "    yu = dat_u[:,1]\n",
    "    xv = dat_v[:,0]\n",
    "    yv = dat_v[:,1]\n",
    "    \n",
    "    if len(xu) < 2:\n",
    "        return None\n",
    "    if len(xv) < 2:\n",
    "        return None\n",
    "    \n",
    "    return intersect_interp1d(xu, yu, xv, yv, ax)"
   ]
  },
  {
   "cell_type": "code",
   "execution_count": 207,
   "metadata": {},
   "outputs": [
    {
     "name": "stdout",
     "output_type": "stream",
     "text": [
      "0 21\n",
      "-0.02 -0.001 1524.9882333441442 -2257.8181669160585\n",
      "-0.02 -0.0004500000000000001 1270.367185686197 -2459.176510037782\n",
      "-0.02 9.999999999999983e-05 991.0092077775187 -2638.984069800683\n",
      "-0.02 0.0006499999999999998 688.1527514917575 -2794.6141458043057\n",
      "-0.02 0.0011999999999999997 363.25248115245563 -2923.4785366787637\n",
      "-0.02 0.0017499999999999998 17.979016204782322 -3023.0394681918483\n",
      "-0.02 0.0022999999999999995 -345.781657404332 -3090.8215201686967\n",
      "-0.02 0.0028499999999999992 -725.9291071239855 -3124.42355195477\n",
      "-0.02 0.0033999999999999994 -1120.1497049542827 -3121.5306261538294\n",
      "-0.02 0.0039499999999999995 -1525.91820983135 -3079.9259303710114\n",
      "-0.02 0.0045 -1940.499681206926 -2997.5026966933033\n",
      "-0.02 0.005049999999999999 -2360.951723779514 -2872.2761186380344\n",
      "-0.02 0.005599999999999999 -2784.1270633272557 -2702.3952652999483\n",
      "-0.02 0.006149999999999999 -3206.6764535849547 -2486.1549924296096\n",
      "-0.02 0.0066999999999999985 -3625.051914100227 -2222.0078501729986\n",
      "-0.02 0.007249999999999999 -4035.5102989959287 -1908.5759872044587\n",
      "-0.02 0.007799999999999999 -4434.117196559553 -1544.6630509843385\n",
      "-0.02 0.00835 -4816.751159571917 -1129.2660838718466\n",
      "-0.02 0.008899999999999998 -5179.108266280386 -661.5874148262977\n",
      "-0.02 0.00945 -5516.70701191453 -141.04654642692128\n",
      "-0.02 0.01 -5824.893530634492 432.7079630571542\n",
      "1 21\n",
      "-0.009000000000000001 -0.001 53.825489576905404 -93.48042920010289\n",
      "-0.009000000000000001 -0.0004500000000000001 29.490225366294254 -102.70406682831816\n",
      "-0.009000000000000001 9.999999999999983e-05 3.728049998886586 -107.34579177253515\n",
      "-0.009000000000000001 0.0006499999999999998 -22.889130000770773 -107.15784241779983\n",
      "-0.009000000000000001 0.0011999999999999997 -49.745817562847876 -101.9293040118562\n",
      "-0.009000000000000001 0.0017499999999999998 -76.18316241826962 -91.49145476290549\n",
      "-0.009000000000000001 0.0022999999999999995 -101.4995258410619 -75.72311093094203\n",
      "-0.009000000000000001 0.0028499999999999992 -124.95137277435606 -54.55597079195891\n",
      "-0.009000000000000001 0.0033999999999999994 -145.75449132012832 -27.97995735434114\n",
      "-0.009000000000000001 0.0039499999999999995 -163.08553956525589 3.9514402931985324\n",
      "-0.009000000000000001 0.0045 -176.0839197091095 41.11582712283307\n",
      "-0.009000000000000001 0.005049999999999999 -183.8539794505649 83.31656391858526\n",
      "-0.009000000000000001 0.005599999999999999 -185.46754058487335 130.27743075764653\n",
      "-0.009000000000000001 0.006149999999999999 -179.9667547534431 181.6372923426404\n",
      "-0.009000000000000001 0.0066999999999999985 -166.3672862823301 236.94476530539632\n",
      "-0.009000000000000001 0.007249999999999999 -143.6618220375748 295.6528876027631\n",
      "-0.009000000000000001 0.007799999999999999 -110.8239082185254 357.1137901249298\n",
      "-0.009000000000000001 0.00835 -66.81211400248799 420.5733706367658\n",
      "-0.009000000000000001 0.008899999999999998 -10.574521947074157 485.1659701726088\n",
      "-0.009000000000000001 0.00945 58.94645495112987 549.9090520048751\n",
      "-0.009000000000000001 0.01 142.80892965005123 613.697883306906\n",
      "2 21\n",
      "0.0019999999999999983 -0.001 -0.39247863956876833 0.11403900328446909\n",
      "0.0019999999999999983 -0.0004500000000000001 -0.22267366241400427 -0.1827969309548395\n",
      "0.0019999999999999983 9.999999999999983e-05 0.05247541181759757 -0.25641206366108477\n",
      "0.0019999999999999983 0.0006499999999999998 0.3022786042168746 -0.09757617349589823\n",
      "0.0019999999999999983 0.0011999999999999997 0.3980739447780197 0.267391826087816\n",
      "0.0019999999999999983 0.0017499999999999998 0.2130080196980517 0.7778114897874335\n",
      "0.0019999999999999983 0.0022999999999999995 -0.3785099392492059 1.3398292740262825\n",
      "0.0019999999999999983 0.0028499999999999992 -1.5016804109052726 1.8276077743349235\n",
      "0.0019999999999999983 0.0033999999999999994 -3.282512366752826 2.084515739698334\n",
      "0.0019999999999999983 0.0039499999999999995 -5.849348451668906 1.924318837020334\n",
      "0.0019999999999999983 0.0045 -9.334716528929432 1.1323711388452475\n",
      "0.0019999999999999983 0.005049999999999999 -13.877507547612852 -0.5331926925301235\n",
      "0.0019999999999999983 0.005599999999999999 -19.62547968318443 -3.3402645514326657\n",
      "0.0019999999999999983 0.006149999999999999 -26.73808869466815 -7.581569392560606\n",
      "0.0019999999999999983 0.0066999999999999985 -35.389644434444385 -13.573471119001434\n",
      "0.0019999999999999983 0.007249999999999999 -45.77279343934524 -21.654777881413743\n",
      "0.0019999999999999983 0.007799999999999999 -58.102327524348624 -32.1855468152867\n",
      "0.0019999999999999983 0.00835 -72.61931829280135 -45.54588824319472\n",
      "0.0019999999999999983 0.008899999999999998 -89.59557746975169 -62.134769368965486\n",
      "0.0019999999999999983 0.00945 -109.33844295759695 -82.3688174906898\n",
      "0.0019999999999999983 0.01 -132.19589050586268 -106.68112275949603\n",
      "3 21\n",
      "0.013000000000000001 -0.001 -71.13690393398942 -484.2446605441457\n",
      "0.013000000000000001 -0.0004500000000000001 12.378177207827722 -478.1452998846596\n",
      "0.013000000000000001 9.999999999999983e-05 92.39744184119547 -461.47523650912416\n",
      "0.013000000000000001 0.0006499999999999998 168.0447674858441 -434.9388281735333\n",
      "0.013000000000000001 0.0011999999999999997 238.53518087494675 -399.2750271714924\n",
      "0.013000000000000001 0.0017499999999999998 303.1746544003263 -355.2496482981823\n",
      "0.013000000000000001 0.0022999999999999995 361.35957408732827 -303.64763615509537\n",
      "0.013000000000000001 0.0028499999999999992 412.5758791114977 -245.26533197020157\n",
      "0.013000000000000001 0.0033999999999999994 456.397872876956 -180.9027401078501\n",
      "0.013000000000000001 0.0039499999999999995 492.486705683033 -111.35579444315056\n",
      "0.013000000000000001 0.0045 520.5885290138548 -37.408624775237705\n",
      "0.013000000000000001 0.005049999999999999 540.5323214926282 40.17417654605701\n",
      "0.013000000000000001 0.005599999999999999 552.2273865496525 120.65528760551724\n",
      "0.013000000000000001 0.006149999999999999 555.6605218608723 203.3323893455402\n",
      "0.013000000000000001 0.0066999999999999985 550.8928606207787 287.54589725211395\n",
      "0.013000000000000001 0.007249999999999999 538.0563847211322 372.6866921292\n",
      "0.013000000000000001 0.007799999999999999 517.3501099143176 458.20384978745005\n",
      "0.013000000000000001 0.00835 489.0359430474479 543.6123694723826\n",
      "0.013000000000000001 0.008899999999999998 453.43421146071125 628.5009008577781\n",
      "0.013000000000000001 0.00945 410.9188646512889 712.5394694298982\n",
      "0.013000000000000001 0.01 361.9123483106762 795.4872000880521\n",
      "4 21\n",
      "0.023999999999999997 -0.001 2139.352030230106 -6130.991143902465\n",
      "0.023999999999999997 -0.0004500000000000001 2699.133250116919 -5750.324440280368\n",
      "0.023999999999999997 9.999999999999983e-05 3211.015861316713 -5331.7957777275105\n",
      "0.023999999999999997 0.0006499999999999998 3673.328305707098 -4879.917915793199\n",
      "0.023999999999999997 0.0011999999999999997 4084.7107845756896 -4399.237587583044\n",
      "0.023999999999999997 0.0017499999999999998 4444.115069050243 -3894.3211534537318\n",
      "0.023999999999999997 0.0022999999999999995 4750.803977084086 -3369.740254216981\n",
      "0.023999999999999997 0.0028499999999999992 5004.350517007267 -2830.057464175625\n",
      "0.023999999999999997 0.0033999999999999994 5204.6366976646095 -2279.8119443149426\n",
      "0.023999999999999997 0.0039499999999999995 5351.852005168674 -1723.5050959729012\n",
      "0.023999999999999997 0.0045 5446.491546299752 -1165.5862153119726\n",
      "0.023999999999999997 0.005049999999999999 5489.353858594764 -610.4381489155238\n",
      "0.023999999999999997 0.005599999999999999 5481.5383871780605 -62.362950833979426\n",
      "0.023999999999999997 0.006149999999999999 5424.442628387372 474.43245860033596\n",
      "0.023999999999999997 0.0066999999999999985 5319.7589402601125 995.8506318619876\n",
      "0.023999999999999997 0.007249999999999999 5169.471019953266 1497.9179309028386\n",
      "0.023999999999999997 0.007799999999999999 4975.850048175282 1976.7988610858981\n",
      "0.023999999999999997 0.00835 4741.45050071569 2428.810402050184\n",
      "0.023999999999999997 0.008899999999999998 4469.105627169033 2850.43633519365\n",
      "0.023999999999999997 0.00945 4161.922596952905 3238.3415674441535\n",
      "0.023999999999999997 0.01 3823.277312730108 3589.386450998247\n",
      "5 21\n",
      "0.03499999999999999 -0.001 26934.925514595456 -29546.161129965913\n",
      "0.03499999999999999 -0.0004500000000000001 28770.624459536462 -26813.356512044018\n",
      "0.03499999999999999 9.999999999999983e-05 30384.9173734522 -23996.05585368848\n",
      "0.03499999999999999 0.0006499999999999998 31775.279672362125 -21108.32283346193\n",
      "0.03499999999999999 0.0011999999999999997 32939.85262168998 -18164.254808339083\n"
     ]
    },
    {
     "name": "stdout",
     "output_type": "stream",
     "text": [
      "0.03499999999999999 0.0017499999999999998 33877.44315884041 -15177.961723787277\n",
      "0.03499999999999999 0.0022999999999999995 34587.52337435941 -12163.545023523002\n",
      "0.03499999999999999 0.0028499999999999992 35070.22965169701 -9135.076559415278\n",
      "0.03499999999999999 0.0033999999999999994 35326.361465589056 -6106.577502012565\n",
      "0.03499999999999999 0.0039499999999999995 35357.37983908945 -3091.9972521659865\n",
      "0.03499999999999999 0.0045 35165.40545927932 -105.19235422097518\n",
      "0.03499999999999999 0.005049999999999999 34753.2164517127 2840.0945887465646\n",
      "0.03499999999999999 0.005599999999999999 34124.24581361897 5730.255997174683\n",
      "0.03499999999999999 0.006149999999999999 33282.57850595767 8551.840394274823\n",
      "0.03499999999999999 0.0066999999999999985 32232.94820435657 11291.573481819103\n",
      "0.03499999999999999 0.007249999999999999 30980.733709026757 13936.37921199531\n",
      "0.03499999999999999 0.007799999999999999 29531.95501372669 16473.400854847187\n",
      "0.03499999999999999 0.00835 27893.269033864406 18890.022060833282\n",
      "0.03499999999999999 0.008899999999999998 26071.96499383733 21173.88791801838\n",
      "0.03499999999999999 0.00945 24075.95947370365 23312.92600344791\n",
      "0.03499999999999999 0.01 21913.79111530578 25295.367428203037\n",
      "6 21\n",
      "0.046 -0.001 147969.50704149646 -93377.55968841522\n",
      "0.046 -0.0004500000000000001 152363.98892556466 -82407.09323205365\n",
      "0.046 9.999999999999983e-05 156092.71827533867 -71283.57262491973\n",
      "0.046 0.0006499999999999998 159152.25184376392 -60039.054446593495\n",
      "0.046 0.0011999999999999997 161540.30299091493 -48705.628979666784\n",
      "0.046 0.0017499999999999998 163255.74151691823 -37315.392186604324\n",
      "0.046 0.0022999999999999995 164298.59314249014 -25900.417686447025\n",
      "0.046 0.0028499999999999992 164670.0386370335 -14492.728731978268\n",
      "0.046 0.0033999999999999994 164372.41259438024 -3124.270187986527\n",
      "0.046 0.0039499999999999995 163409.20185616962 8173.119488755021\n",
      "0.046 0.0045 161785.04358290142 19367.73626715699\n",
      "0.046 0.005049999999999999 159505.72297271885 30428.038556510768\n",
      "0.046 0.005599999999999999 156578.17062796137 41322.67521758449\n",
      "0.046 0.006149999999999999 153010.45956955306 52020.51356948859\n",
      "0.046 0.0066999999999999985 148811.8018992874 62490.667391681854\n",
      "0.046 0.007249999999999999 143992.54511009177 72702.52492050812\n",
      "0.046 0.007799999999999999 138564.1680443311 82625.77683961441\n",
      "0.046 0.00835 132539.27650026747 92230.44426362781\n",
      "0.046 0.008899999999999998 125931.59848676913 101486.90671448692\n",
      "0.046 0.00945 118755.9791263435 110365.93008976866\n",
      "0.046 0.01 111028.37520664971 118838.6946224186\n",
      "7 21\n",
      "0.056999999999999995 -0.001 548978.9955524416 -232428.53668872378\n",
      "0.056999999999999995 -0.0004500000000000001 557779.3180837514 -200047.8073217798\n",
      "0.056999999999999995 9.999999999999983e-05 565002.26084919 -167420.75663202547\n",
      "0.056999999999999995 0.0006499999999999998 570643.3877519935 -134608.65142382064\n",
      "0.056999999999999995 0.0011999999999999997 574700.0511315295 -101672.7925444288\n",
      "0.056999999999999995 0.0017499999999999998 577171.3916047999 -68674.47967669576\n",
      "0.056999999999999995 0.0022999999999999995 578058.3375415293 -35674.97613173128\n",
      "0.056999999999999995 0.0028499999999999992 577363.6041726707 -2735.473642380477\n",
      "0.056999999999999995 0.0033999999999999994 575091.6923324476 30082.94284173462\n",
      "0.056999999999999995 0.0039499999999999995 571248.8868339779 62719.33035681547\n",
      "0.056999999999999995 0.0045 565843.2544783823 95112.92312435864\n",
      "0.056999999999999995 0.005049999999999999 558884.6416976142 127203.16774667865\n",
      "0.056999999999999995 0.005599999999999999 550384.671830908 158929.75839776316\n",
      "0.056999999999999995 0.006149999999999999 540356.7420349407 190232.67200859482\n",
      "0.056999999999999995 0.0066999999999999985 528816.0198278661 221052.20344622998\n",
      "0.056999999999999995 0.007249999999999999 515779.4392671434 251329.00068580895\n",
      "0.056999999999999995 0.007799999999999999 501265.6967613901 281004.0999747112\n",
      "0.056999999999999995 0.00835 485295.2465162336 310018.96098809934\n",
      "0.056999999999999995 0.008899999999999998 467890.29561438476 338315.5019750655\n",
      "0.056999999999999995 0.00945 449074.7987298705 365836.13489455514\n",
      "0.056999999999999995 0.01 428874.45247673907 392523.8005403444\n",
      "8 21\n",
      "0.06799999999999999 -0.001 1602411.6113859802 -495883.69498813024\n",
      "0.06799999999999999 -0.0004500000000000001 1618115.1871227666 -417142.9664384567\n",
      "0.06799999999999999 9.999999999999983e-05 1630609.5640707049 -338034.9286971353\n",
      "0.06799999999999999 0.0006499999999999998 1639889.2299997949 -258664.15189126023\n",
      "0.06799999999999999 0.0011999999999999997 1645951.2396609744 -179135.24084315504\n",
      "0.06799999999999999 0.0017499999999999998 1648795.2146346676 -99552.79236509399\n",
      "0.06799999999999999 0.0022999999999999995 1648423.3427953986 -20021.352554199082\n",
      "0.06799999999999999 0.0028499999999999992 1644840.3773928022 59354.62591156553\n",
      "0.06799999999999999 0.0033999999999999994 1638053.6357486416 138470.8264753224\n",
      "0.06799999999999999 0.0039499999999999995 1628072.997570192 217223.11140022246\n",
      "0.06799999999999999 0.0045 1614910.902879969 295507.5644644226\n",
      "0.06799999999999999 0.005049999999999999 1598582.3495616547 373220.53365117504\n",
      "0.06799999999999999 0.005599999999999999 1579104.8905225026 450258.6738330677\n",
      "0.06799999999999999 0.006149999999999999 1556498.6304722049 526518.9894494972\n",
      "0.06799999999999999 0.0066999999999999985 1530786.2223182425 601898.8771764007\n",
      "0.06799999999999999 0.007249999999999999 1501992.8631778138 676296.1685872836\n",
      "0.06799999999999999 0.007799999999999999 1470146.2900065172 749609.1728046865\n",
      "0.06799999999999999 0.00835 1435276.7748437766 821736.7191410362\n",
      "0.06799999999999999 0.008899999999999998 1397417.119675116 892578.1997279988\n",
      "0.06799999999999999 0.00945 1356602.6509114848 962033.6121333773\n",
      "0.06799999999999999 0.01 1312871.2134856747 1030003.6019646359\n",
      "9 21\n",
      "0.07899999999999999 -0.001 3970661.885393997 -949665.4715091558\n",
      "0.07899999999999999 -0.0004500000000000001 3996508.5433958718 -782196.6888265822\n",
      "0.07899999999999999 9.999999999999983e-05 4016482.352414557 -614208.6261544538\n",
      "0.07899999999999999 0.0006499999999999998 4030576.6311105783 -445866.25138391694\n",
      "0.07899999999999999 0.0011999999999999997 4038788.197304607 -277334.56806484127\n",
      "0.07899999999999999 0.0017499999999999998 4041117.3678312725 -108778.56482417262\n",
      "0.07899999999999999 0.0022999999999999995 4037567.9579884643 59636.83521536284\n",
      "0.07899999999999999 0.0028499999999999992 4028147.2805823917 227746.82501512123\n",
      "0.07899999999999999 0.0033999999999999994 4012866.144568263 395386.7641978223\n",
      "0.07899999999999999 0.0039499999999999995 3991738.853286637 562392.229621192\n",
      "0.07899999999999999 0.0045 3964783.2022954654 728599.0659467907\n",
      "0.07899999999999999 0.005049999999999999 3932020.476797991 893843.4362029609\n",
      "0.07899999999999999 0.005599999999999999 3893475.4486664445 1057961.8723407718\n",
      "0.07899999999999999 0.006149999999999999 3849176.373061517 1220791.325781792\n",
      "0.07899999999999999 0.0066999999999999985 3799154.9846480177 1382169.2179567683\n",
      "0.07899999999999999 0.007249999999999999 3743446.4934063335 1541933.4908337404\n",
      "0.07899999999999999 0.007799999999999999 3682089.580040195 1699922.6574349175\n",
      "0.07899999999999999 0.00835 3615126.39098054 1855975.8523408314\n",
      "0.07899999999999999 0.008899999999999998 3542602.5329858665 2009932.8821809485\n",
      "0.07899999999999999 0.00945 3464567.0673388215 2161634.2761093\n",
      "0.07899999999999999 0.01 3381072.5036396706 2310921.3362644706\n",
      "10 21\n",
      "0.08999999999999998 -0.001 8730812.255924046 -1678941.2529527203\n",
      "0.08999999999999998 -0.0004500000000000001 8770882.950776389 -1356115.48304398\n",
      "0.08999999999999998 9.999999999999983e-05 8801012.17893622 -1032583.9412413648\n",
      "0.08999999999999998 0.0006499999999999998 8821191.986639338 -708592.2404162025\n",
      "0.08999999999999998 0.0011999999999999997 8831419.013327261 -384386.03037341865\n",
      "0.08999999999999998 0.0017499999999999998 8831694.491504569 -60210.93894836764\n",
      "0.08999999999999998 0.0022999999999999995 8822024.24616815 263687.48689588613\n",
      "0.08999999999999998 0.0028499999999999992 8802418.69380762 587063.8399694836\n",
      "0.08999999999999998 0.0033999999999999994 8772892.840977773 909672.9117535764\n",
      "0.08999999999999998 0.0039499999999999995 8733466.282442762 1231269.7512938085\n",
      "0.08999999999999998 0.0045 8684163.198891895 1551609.7240881794\n",
      "0.08999999999999998 0.005049999999999999 8625012.354227299 1870448.5709678798\n"
     ]
    },
    {
     "name": "stdout",
     "output_type": "stream",
     "text": [
      "0.08999999999999998 0.005599999999999999 8556047.092423325 2187542.4669700176\n",
      "0.08999999999999998 0.006149999999999999 8477305.33395819 2502648.080200773\n",
      "0.08999999999999998 0.0066999999999999985 8388829.571817286 2815522.630687786\n",
      "0.08999999999999998 0.007249999999999999 8290666.867068687 3125923.949220484\n",
      "0.08999999999999998 0.007799999999999999 8182868.8440109035 3433610.5361770066\n",
      "0.08999999999999998 0.00835 8065491.684892936 3738341.620336574\n",
      "0.08999999999999998 0.008899999999999998 7938596.124206478 4039877.217675825\n",
      "0.08999999999999998 0.00945 7802247.442550966 4337978.190147987\n",
      "0.08999999999999998 0.01 7656515.460070979 4632406.304443662\n",
      "11 21\n",
      "0.10099999999999999 -0.001 17523990.22956696 -2790801.5195206334\n",
      "0.10099999999999999 -0.0004500000000000001 17583313.18225606 -2213624.4154637326\n",
      "0.10099999999999999 9.999999999999983e-05 17626783.155353505 -1635516.6855426987\n",
      "0.10099999999999999 0.0006499999999999998 17654390.808314975 -1056828.1657663921\n",
      "0.10099999999999999 0.0011999999999999997 17666132.659306988 -477908.73066535953\n",
      "0.10099999999999999 0.0017499999999999998 17662011.085066404 100891.77444748417\n",
      "0.10099999999999999 0.0022999999999999995 17642034.320303794 679223.6012155169\n",
      "0.10099999999999999 0.0028499999999999992 17606216.456651088 1256737.1659749276\n",
      "0.10099999999999999 0.0033999999999999994 17554577.441153467 1833083.1174876634\n",
      "0.10099999999999999 0.0039499999999999995 17487143.07430544 2407912.4046692173\n",
      "0.10099999999999999 0.0045 17403945.007630818 2980876.3443099004\n",
      "0.10099999999999999 0.005049999999999999 17305020.740807816 3551626.6887882208\n",
      "0.10099999999999999 0.005599999999999999 17190413.618337538 4119815.6937746196\n",
      "0.10099999999999999 0.006149999999999999 17060172.82575743 4685096.185924374\n",
      "0.10099999999999999 0.0066999999999999985 16914353.385399356 5247121.630558033\n",
      "0.10099999999999999 0.007249999999999999 16753016.151691802 5805546.199328067\n",
      "0.10099999999999999 0.007799999999999999 16576227.8060073 6360024.837870039\n",
      "0.10099999999999999 0.00835 16384060.851054156 6910213.3334372\n",
      "0.10099999999999999 0.008899999999999998 16176593.604813214 7455768.382516474\n",
      "0.10099999999999999 0.00945 15953910.194020333 7996347.658425217\n",
      "0.10099999999999999 0.01 15716100.547192642 8531609.878886107\n",
      "12 21\n",
      "0.112 -0.001 32730659.445767738 -4417130.455220763\n",
      "0.112 -0.0004500000000000001 32815324.541568592 -3444804.4451830885\n",
      "0.112 9.999999999999983e-05 32875875.69162899 -2471280.421034293\n",
      "0.112 0.0006499999999999998 32912302.042470384 -1497039.5569451558\n",
      "0.112 0.0011999999999999997 32924600.04729903 -522563.06751271896\n",
      "0.112 0.0017499999999999998 32912773.4658662 451667.8694020658\n",
      "0.112 0.0022999999999999995 32876833.36384006 1425172.1898358967\n",
      "0.112 0.0028499999999999992 32816798.11169196 2397469.020882074\n",
      "0.112 0.0033999999999999994 32732693.383094575 3368077.7578453347\n",
      "0.112 0.0039499999999999995 32624552.15283311 4336518.141390893\n",
      "0.112 0.0045 32492414.6942308 5302310.334685994\n",
      "0.112 0.005049999999999999 32336328.57608573 6264975.000532238\n",
      "0.112 0.005599999999999999 32156348.659122072 7224033.378487299\n",
      "0.112 0.006149999999999999 31952537.09195413 8179007.361974109\n",
      "0.112 0.0066999999999999985 31724963.306563813 9129419.575375872\n",
      "0.112 0.007249999999999999 31473704.01329109 10074793.451115457\n",
      "0.112 0.007799999999999999 31198843.195338808 11014653.306717303\n",
      "0.112 0.00835 30900472.10279019 11948524.421850355\n",
      "0.112 0.008899999999999998 30578689.246140845 12875933.115350256\n",
      "0.112 0.00945 30233600.38934388 13796406.82221886\n",
      "0.112 0.01 29865318.542369943 14709474.170600433\n",
      "13 21\n",
      "0.12299999999999998 -0.001 57673380.95780802 -6717691.52614213\n",
      "0.12299999999999998 -0.0004500000000000001 57790663.271481626 -5156762.31893714\n",
      "0.12299999999999998 9.999999999999983e-05 57872641.62579569 -3594320.6413850673\n",
      "0.12299999999999998 0.0006499999999999998 57919303.51556448 -2031009.8925755322\n",
      "0.12299999999999998 0.0011999999999999997 57930645.38521876 -467473.5142500846\n",
      "0.12299999999999998 0.0017499999999999998 57906672.62866438 1095645.096445637\n",
      "0.12299999999999998 0.0022999999999999995 57847399.58861781 2657702.6742086634\n",
      "0.12299999999999998 0.0028499999999999992 57752849.555420786 4218056.172823015\n",
      "0.12299999999999998 0.0033999999999999994 57623054.765332066 5776062.852398679\n",
      "0.12299999999999998 0.0039499999999999995 57458056.39829733 7331080.366604455\n",
      "0.12299999999999998 0.0045 57257904.57519723 8882466.849892132\n",
      "0.12299999999999998 0.005049999999999999 57022658.354572676 10429581.00471031\n",
      "0.12299999999999998 0.005599999999999999 56752385.728829764 11971782.188706387\n",
      "0.12299999999999998 0.006149999999999999 56447163.61992101 13508430.501914037\n",
      "0.12299999999999998 0.0066999999999999985 56107077.87450595 15038886.873925166\n",
      "0.12299999999999998 0.007249999999999999 55732223.2585908 16562513.151044274\n",
      "0.12299999999999998 0.007799999999999999 55322703.451644175 18078672.183422793\n",
      "0.12299999999999998 0.00835 54878631.04019388 19586727.912172146\n",
      "0.12299999999999998 0.008899999999999998 54400127.5109012 21086045.456454128\n",
      "0.12299999999999998 0.00945 53887323.243113965 22575991.200545147\n",
      "0.12299999999999998 0.01 53340357.50089948 24055932.880874284\n",
      "14 21\n",
      "0.134 -0.001 96848807.83294412 -9883451.713075092\n",
      "0.134 -0.0004500000000000001 97007301.20132434 -7475445.13131889\n",
      "0.134 9.999999999999983e-05 97115713.92116606 -5065559.627589292\n",
      "0.134 0.0006499999999999998 97174031.68330018 -2654635.7495303\n",
      "0.134 0.0011999999999999997 97182250.98010042 -243514.08999151635\n",
      "0.134 0.0017499999999999998 97140379.10534129 2166964.8110477203\n",
      "0.134 0.0022999999999999995 97048434.15348993 4575960.564552736\n",
      "0.134 0.0028499999999999992 96906445.01844054 6982633.030504093\n",
      "0.134 0.0033999999999999994 96714451.39168471 9386142.415963648\n",
      "0.134 0.0039499999999999995 96472503.75992228 11785649.373132685\n",
      "0.134 0.0045 96180663.40210985 14180315.097400447\n",
      "0.134 0.005049999999999999 95839002.38594949 16569301.42538164\n",
      "0.134 0.005599999999999999 95447603.5638149 18951770.93293995\n",
      "0.134 0.006149999999999999 95006560.56811836 21326887.033195857\n",
      "0.134 0.0066999999999999985 94515977.80611408 23693814.074517068\n",
      "0.134 0.007249999999999999 93975970.4541441 26051717.438488603\n",
      "0.134 0.007799999999999999 93386664.45132208 28399763.637861993\n",
      "0.134 0.00835 92748196.49265404 30737120.414479252\n",
      "0.134 0.008899999999999998 92060714.02160421 33062956.837171968\n",
      "0.134 0.00945 91324375.22209522 35376443.39963206\n",
      "0.134 0.01 90539349.00995038 37676752.11825187\n",
      "15 21\n",
      "0.145 -0.001 156190913.05231854 -14140169.397108115\n",
      "0.145 -0.0004500000000000001 156400674.66900563 -10547612.43100182\n",
      "0.145 9.999999999999983e-05 156541250.99232072 -6952752.740523618\n",
      "0.145 0.0006499999999999998 156612625.7423739 -3356667.279324173\n",
      "0.145 0.0011999999999999997 156614795.51741245 239566.95085173845\n",
      "0.145 0.0017499999999999998 156547769.7936718 3834873.0098944698\n",
      "0.145 0.0022999999999999995 156411570.92462078 7428174.129056532\n",
      "0.145 0.0028499999999999992 156206234.1396027 11018393.82067641\n",
      "0.145 0.0033999999999999994 155931807.54187238 14604455.987895908\n",
      "0.145 0.0039499999999999995 155588352.10602683 18185285.034369595\n",
      "0.145 0.0045 155175941.6748338 21759805.97396368\n",
      "0.145 0.005049999999999999 154694662.9554527 25326944.540441986\n",
      "0.145 0.005599999999999999 154144615.5150541 28885627.29713637\n",
      "0.145 0.006149999999999999 153525911.7758324 32434781.746600457\n",
      "0.145 0.0066999999999999985 152838677.00941554 35973336.440243505\n",
      "0.145 0.007249999999999999 152083049.33067015 39500221.087941505\n",
      "0.145 0.007799999999999999 151259179.69090268 43014366.66762586\n",
      "0.145 0.00835 150367231.87045622 46514705.53484237\n",
      "0.145 0.008899999999999998 149407382.4707049 50000171.53228563\n",
      "0.145 0.00945 148379820.90544152 53469700.09929858\n",
      "0.145 0.01 147284749.39166528 56922228.381340325\n",
      "16 21\n",
      "0.156 -0.001 243367698.97197333 -19752272.34200311\n",
      "0.156 -0.0004500000000000001 243640406.0385771 -14542979.59496194\n",
      "0.156 9.999999999999983e-05 243819664.00873905 -9330897.150450502\n",
      "0.156 0.0006499999999999998 243905454.44962606 -4117382.289804949\n",
      "0.156 0.0011999999999999997 243897774.12518686 1096207.6543112914\n",
      "0.156 0.0017499999999999998 243796634.99599916 6308515.420204562\n",
      "0.156 0.0022999999999999995 243602064.21845794 11518183.93944427\n",
      "0.156 0.0028499999999999992 243314104.14331493 16723856.459153786\n"
     ]
    },
    {
     "name": "stdout",
     "output_type": "stream",
     "text": [
      "0.156 0.0033999999999999994 242932812.313567 21924176.664292928\n",
      "0.156 0.0039499999999999995 242458261.46168587 27117788.799933404\n",
      "0.156 0.0045 241890539.5061993 32303337.793520283\n",
      "0.156 0.005049999999999999 241229749.5476211 37479469.3771212\n",
      "0.156 0.005599999999999999 240476009.8637275 42644830.20965747\n",
      "0.156 0.006149999999999999 239629453.90417603 47798067.99911673\n",
      "0.156 0.0066999999999999985 238690230.28448057 52937831.62474334\n",
      "0.156 0.007249999999999999 237658502.77932897 58062771.25920453\n",
      "0.156 0.007799999999999999 236534450.31524923 63171538.490730755\n",
      "0.156 0.00835 235318266.9626268 68262786.44522534\n",
      "0.156 0.008899999999999998 234010161.92706358 73335169.90834224\n",
      "0.156 0.00945 232610359.5400938 78387345.4475317\n",
      "0.156 0.01 231119099.24924177 83417971.5340459\n",
      "17 21\n",
      "0.167 -0.001 368113897.6567612 -27027053.801455952\n",
      "0.167 -0.0004500000000000001 368463017.19020563 -19656547.10340191\n",
      "0.167 9.999999999999983e-05 368688336.5825421 -12282694.24057966\n",
      "0.167 0.0006499999999999998 368789835.04917485 -4907181.773666698\n",
      "0.167 0.0011999999999999997 368767509.5821939 2468303.68174422\n",
      "0.167 0.0017499999999999998 368621374.9502105 9842075.591016743\n",
      "0.167 0.0022999999999999995 368351463.69749075 17212447.636338398\n",
      "0.167 0.0028499999999999992 367957826.1423755 24577733.85258547\n",
      "0.167 0.0033999999999999994 367440530.3750038 31936248.763178237\n",
      "0.167 0.0039499999999999995 366799662.25432354 39286307.515929684\n",
      "0.167 0.0045 366035325.4044017 46626226.0188763\n",
      "0.167 0.005049999999999999 365147641.2100244 53954321.07609854\n",
      "0.167 0.005599999999999999 364136748.8115999 61268910.52351861\n",
      "0.167 0.006149999999999999 363002805.0993471 68568313.3646794\n",
      "0.167 0.0066999999999999985 361745984.7067849 75850849.90649886\n",
      "0.167 0.007249999999999999 360366480.00351214 83114841.89499713\n",
      "0.167 0.007799999999999999 358864501.0872891 90358612.65099478\n",
      "0.167 0.00835 357240275.7754117 97580487.20577966\n",
      "0.167 0.008899999999999998 355494049.59537256 104778792.43673581\n",
      "0.167 0.00945 353626085.7748344 111951857.20293772\n",
      "0.167 0.01 351636665.2308856 119098012.48070295\n",
      "18 21\n",
      "0.178 -0.001 542602446.6436627 -36319216.50960226\n",
      "0.178 -0.0004500000000000001 543043419.6097497 -26111131.331961364\n",
      "0.178 9.999999999999983e-05 543323121.4990249 -15899067.159306232\n",
      "0.178 0.0006499999999999998 543441528.9585247 -5685094.216432467\n",
      "0.178 0.0011999999999999997 543398639.2742572 4528717.2129939785\n",
      "0.178 0.0017499999999999998 543194470.3710365 14740296.936988398\n",
      "0.178 0.0022999999999999995 542829060.8115383 24947575.005797572\n",
      "0.178 0.0028499999999999992 542302469.7946028 35148481.862443015\n",
      "0.178 0.0033999999999999994 541614777.1527632 45340948.49325687\n",
      "0.178 0.0039499999999999995 540766083.3490295 55522906.57840815\n",
      "0.178 0.0045 539756509.4728829 65692288.64241263\n",
      "0.178 0.005049999999999999 538586197.2355328 75847028.20462726\n",
      "0.178 0.005599999999999999 537255308.9643902 85985059.92972246\n",
      "0.178 0.006149999999999999 535764027.5967944 96104319.77813302\n",
      "0.178 0.0066999999999999985 534112556.67296696 106202745.15648137\n",
      "0.178 0.007249999999999999 532301120.32820034 116278275.06797293\n",
      "0.178 0.007799999999999999 530329963.2842958 126328850.26275752\n",
      "0.178 0.00835 528199350.8402274 136352413.3882562\n",
      "0.178 0.008899999999999998 525909568.8620522 146346909.13945052\n",
      "0.178 0.00945 523460923.77204716 156310284.40912685\n",
      "0.178 0.01 520853742.53709877 166240488.43808296\n",
      "19 21\n",
      "0.189 -0.001 781857815.6183083 -48035796.1967709\n",
      "0.189 -0.0004500000000000001 782408256.6383505 -34160113.5389487\n",
      "0.189 9.999999999999983e-05 782751690.0839151 -20279735.234387398\n",
      "0.189 0.0006499999999999998 782888089.797998 -6397175.432692744\n",
      "0.189 0.0011999999999999997 782817453.4304118 7485051.653324205\n",
      "0.189 0.0017499999999999998 782539802.4376129 21364431.914087683\n",
      "0.189 0.0022999999999999995 782055182.0816731 35238451.50970425\n",
      "0.189 0.0028499999999999992 781363661.4284533 49104597.03639347\n",
      "0.189 0.0033999999999999994 780465333.3449287 62960355.69292055\n",
      "0.189 0.0039499999999999995 779360314.4956954 76803215.44700819\n",
      "0.189 0.0045 778048745.3386546 90630665.2017357\n",
      "0.189 0.005049999999999999 776530790.1198592 104440194.96192215\n",
      "0.189 0.005599999999999999 774806636.8675466 118229296.00048395\n",
      "0.189 0.006149999999999999 772876497.3853348 131995461.02476718\n",
      "0.189 0.0066999999999999985 770740607.2446033 145736184.34285223\n",
      "0.189 0.007249999999999999 768399225.7760298 159448962.02982646\n",
      "0.189 0.007799999999999999 765852636.0603242 173131292.09402132\n",
      "0.189 0.00835 763101144.9181191 186780674.64320916\n",
      "0.189 0.008899999999999998 760145082.8990427 200394612.05076072\n",
      "0.189 0.00945 756984804.2699593 213970609.12175545\n",
      "0.189 0.01 753620687.0024024 227506173.25904387\n",
      "20 21\n",
      "0.2 -0.001 1104214567.6571448 -62641498.31759215\n",
      "0.2 -0.0004500000000000001 1104894481.6173053 -44090424.86813295\n",
      "0.2 9.999999999999983e-05 1105312117.9782925 -25533847.202812437\n",
      "0.2 0.0006499999999999998 1105467447.5229383 -6974790.01756078\n",
      "0.2 0.0011999999999999997 1105360468.339651 11583721.923753444\n",
      "0.2 0.0017499999999999998 1104991205.8222055 30138663.97298324\n",
      "0.2 0.0022999999999999995 1104359712.668645 48687011.78135878\n",
      "0.2 0.0028499999999999992 1103466068.8792994 67225741.48314376\n",
      "0.2 0.0033999999999999994 1102310381.7538838 85751829.8792734\n",
      "0.2 0.0039499999999999995 1100892785.88772 104262254.62098588\n",
      "0.2 0.0045 1099213443.1670644 122753994.39343308\n",
      "0.2 0.005049999999999999 1097272542.763513 141224029.0992709\n",
      "0.2 0.005599999999999999 1095070301.1275477 159669340.04222807\n",
      "0.2 0.006149999999999999 1092606961.9811647 178086910.1106426\n",
      "0.2 0.0066999999999999985 1089882796.3096056 196473723.96097335\n",
      "0.2 0.007249999999999999 1086898102.352212 214826768.20126742\n",
      "0.2 0.007799999999999999 1083653205.5923626 233143031.57459965\n",
      "0.2 0.00835 1080148458.7465413 251419505.14246094\n",
      "0.2 0.008899999999999998 1076384241.7524745 269653182.46810484\n",
      "0.2 0.00945 1072360961.756415 287841059.7998454\n",
      "0.2 0.01 1068079053.0995028 305980136.254299\n"
     ]
    }
   ],
   "source": [
    "kz_grid, sz_grid, u, v = make_det_plot2d(kz_min=-0.02, kz_max=0.2, nk=21,\n",
    "                                         sz_min=-0.001, sz_max=0.01, ns=21)"
   ]
  },
  {
   "cell_type": "code",
   "execution_count": 208,
   "metadata": {},
   "outputs": [
    {
     "data": {
      "image/png": "[encoded data removed]",
      "text/plain": [
       "<Figure size 432x288 with 2 Axes>"
      ]
     },
     "metadata": {
      "needs_background": "light"
     },
     "output_type": "display_data"
    }
   ],
   "source": [
    "if make_investigation_plots:\n",
    "    import matplotlib.pyplot as plt\n",
    "    fig,ax=plt.subplots(1,1)\n",
    "\n",
    "    cp = ax.contourf(kz_grid,sz_grid, u)\n",
    "    fig.colorbar(cp) # Add a colorbar to a plot\n",
    "    ax.set_title('M6_subs_det_re')\n",
    "    ax.set_xlabel('kz')\n",
    "    ax.set_ylabel('sz')\n",
    "    plt.show()"
   ]
  },
  {
   "cell_type": "code",
   "execution_count": 209,
   "metadata": {},
   "outputs": [
    {
     "data": {
      "image/png": "[encoded data removed]",
      "text/plain": [
       "<Figure size 432x288 with 2 Axes>"
      ]
     },
     "metadata": {
      "needs_background": "light"
     },
     "output_type": "display_data"
    }
   ],
   "source": [
    "if make_investigation_plots:\n",
    "    import matplotlib.pyplot as plt\n",
    "    fig,ax=plt.subplots(1,1)\n",
    "\n",
    "    cp = ax.contourf(kz_grid,sz_grid, v)\n",
    "    fig.colorbar(cp) # Add a colorbar to a plot\n",
    "    ax.set_title('M6_subs_det_im')\n",
    "    ax.set_xlabel('kz')\n",
    "    ax.set_ylabel('sz')\n",
    "    plt.show()"
   ]
  },
  {
   "cell_type": "code",
   "execution_count": 210,
   "metadata": {},
   "outputs": [
    {
     "data": {
      "image/png": "[encoded data removed]",
      "text/plain": [
       "<Figure size 432x288 with 1 Axes>"
      ]
     },
     "metadata": {
      "needs_background": "light"
     },
     "output_type": "display_data"
    }
   ],
   "source": [
    "# Get coordinates from a contour\n",
    "# https://stackoverflow.com/questions/19418901/get-coordinates-from-a-contour\n",
    "\n",
    "import matplotlib.pyplot as plt\n",
    "fig, ax=plt.subplots(1,1)\n",
    "cu = ax.contour(kz_grid,sz_grid, u)\n",
    "cv = ax.contour(kz_grid,sz_grid, v)\n",
    "plt.show()\n",
    "\n",
    "cu_index_of_zero_level=cu.levels.tolist().index(0.)\n",
    "cv_index_of_zero_level=cv.levels.tolist().index(0.)\n",
    "cu_zero_levels_number = len(cu.allsegs[cu_index_of_zero_level])\n",
    "cv_zero_levels_number = len(cv.allsegs[cv_index_of_zero_level])"
   ]
  },
  {
   "cell_type": "code",
   "execution_count": 211,
   "metadata": {},
   "outputs": [
    {
     "data": {
      "image/png": "[encoded data removed]",
      "text/plain": [
       "<Figure size 432x288 with 1 Axes>"
      ]
     },
     "metadata": {
      "needs_background": "light"
     },
     "output_type": "display_data"
    },
    {
     "name": "stdout",
     "output_type": "stream",
     "text": [
      "M6_det= 0.297329521900336 0.482419995860894\n",
      "intercept @ s1=0.7180246295680419, s2=0.3058253051863882\n",
      " intercept @ xy1=[0.00194018 0.00146699]\n",
      " intercept @ xy2=[0.00194018 0.00146699]\n",
      " fsolve apparent success? True: \"The solution converged.\"\n",
      " is intercept really good? True\n",
      "\n"
     ]
    },
    {
     "data": {
      "image/png": "[encoded data removed]",
      "text/plain": [
       "<Figure size 432x288 with 1 Axes>"
      ]
     },
     "metadata": {
      "needs_background": "light"
     },
     "output_type": "display_data"
    },
    {
     "name": "stdout",
     "output_type": "stream",
     "text": [
      "M6_det= 0.297329521904148 0.482419995847073\n",
      "intercept @ s1=0.7180246295692552, s2=0.3058253051869049\n",
      " intercept @ xy1=[0.00194018 0.00146699]\n",
      " intercept @ xy2=[0.00194018 0.00146699]\n",
      " fsolve apparent success? True: \"The solution converged.\"\n",
      " is intercept really good? True\n",
      "\n"
     ]
    },
    {
     "data": {
      "image/png": "[encoded data removed]",
      "text/plain": [
       "<Figure size 432x288 with 1 Axes>"
      ]
     },
     "metadata": {
      "needs_background": "light"
     },
     "output_type": "display_data"
    },
    {
     "name": "stdout",
     "output_type": "stream",
     "text": [
      "M6_det= 0.297329521900340 0.482419995860894\n",
      "intercept @ s1=0.718024629568042, s2=0.3058253051863883\n",
      " intercept @ xy1=[0.00194018 0.00146699]\n",
      " intercept @ xy2=[0.00194018 0.00146699]\n",
      " fsolve apparent success? True: \"The solution converged.\"\n",
      " is intercept really good? True\n",
      "\n"
     ]
    },
    {
     "data": {
      "image/png": "[encoded data removed]",
      "text/plain": [
       "<Figure size 432x288 with 1 Axes>"
      ]
     },
     "metadata": {
      "needs_background": "light"
     },
     "output_type": "display_data"
    },
    {
     "name": "stdout",
     "output_type": "stream",
     "text": [
      "M6_det= 0.297329521899671 0.482419995863296\n",
      "intercept @ s1=0.7180246295678318, s2=0.3058253051864676\n",
      " intercept @ xy1=[0.00194018 0.00146699]\n",
      " intercept @ xy2=[0.00194018 0.00146699]\n",
      " fsolve apparent success? True: \"The solution converged.\"\n",
      " is intercept really good? True\n",
      "\n",
      "found (0.0019401771436376562, 0.001466988435964269)\n",
      "found (0.0019401771436360754, 0.0014669884359489215)\n",
      "found (0.0019401771436376562, 0.0014669884359642675)\n",
      "found (0.00194017714363793, 0.0014669884359669277)\n"
     ]
    }
   ],
   "source": [
    "k_z_graphic_solutions = []\n",
    "for i in range(0, cu_zero_levels_number):\n",
    "    for j in range(0, cv_zero_levels_number):\n",
    "        result = test_contour_line_intersection(i, j, cu, cv, cu_index_of_zero_level, cv_index_of_zero_level)\n",
    "        if None == result:\n",
    "            continue\n",
    "            \n",
    "        for found in result:\n",
    "            print(\"found\", found)\n",
    "            xy_intercept = found\n",
    "        \n",
    "            k_z_graphic_solutions += [xy_intercept]"
   ]
  },
  {
   "cell_type": "code",
   "execution_count": 212,
   "metadata": {},
   "outputs": [
    {
     "data": {
      "text/plain": [
       "[(0.0019401771436376562, 0.001466988435964269),\n",
       " (0.0019401771436360754, 0.0014669884359489215),\n",
       " (0.0019401771436376562, 0.0014669884359642675),\n",
       " (0.00194017714363793, 0.0014669884359669277)]"
      ]
     },
     "execution_count": 212,
     "metadata": {},
     "output_type": "execute_result"
    }
   ],
   "source": [
    "k_z_graphic_solutions"
   ]
  },
  {
   "cell_type": "code",
   "execution_count": 213,
   "metadata": {},
   "outputs": [
    {
     "name": "stdout",
     "output_type": "stream",
     "text": [
      "0.0019401771436376562 0.001466988435964269\n",
      "0.0019401771436360754 0.0014669884359489215\n",
      "0.0019401771436376562 0.0014669884359642675\n",
      "0.00194017714363793 0.0014669884359669277\n"
     ]
    }
   ],
   "source": [
    "for k_z_sol_i in k_z_graphic_solutions:\n",
    "    k_z_sol_i_kz = float(k_z_sol_i[0])\n",
    "    k_z_sol_i_sz = float(k_z_sol_i[1])\n",
    "    print(k_z_sol_i_kz, k_z_sol_i_sz)\n",
    "    if (k_z_sol_i_kz > 0):\n",
    "        k_z_sol_kz = k_z_sol_i_kz \n",
    "        k_z_sol_sz = k_z_sol_i_sz \n",
    "    "
   ]
  },
  {
   "cell_type": "code",
   "execution_count": 214,
   "metadata": {},
   "outputs": [
    {
     "data": {
      "text/plain": [
       "(0.00194017714363793, 0.0014669884359669277)"
      ]
     },
     "execution_count": 214,
     "metadata": {},
     "output_type": "execute_result"
    }
   ],
   "source": [
    "k_z_sol_kz, k_z_sol_sz"
   ]
  },
  {
   "cell_type": "raw",
   "metadata": {},
   "source": [
    "if make_investigation_plots:\n",
    "    import numpy as np\n",
    "    for ikz in np.arange(0, len(kz_linspace), 1):\n",
    "        for isz in np.arange(0, len(sz_linspace), 1):\n",
    "            if np.isnan(u[isz][ikz]):\n",
    "                u[isz][ikz] = (u[isz + 1][ikz + 1] + u[isz - 1][ikz - 1] + u[isz - 1][ikz + 1] + u[isz + 1][ikz - 1])/4\n",
    "            if np.isnan(v[isz][ikz]):\n",
    "                v[isz][ikz] = (v[isz + 1][ikz + 1] + v[isz - 1][ikz - 1] + v[isz - 1][ikz + 1] + v[isz + 1][ikz - 1])/4"
   ]
  },
  {
   "cell_type": "code",
   "execution_count": 215,
   "metadata": {},
   "outputs": [
    {
     "data": {
      "image/png": "[encoded data removed]",
      "text/plain": [
       "<Figure size 432x288 with 1 Axes>"
      ]
     },
     "metadata": {
      "needs_background": "light"
     },
     "output_type": "display_data"
    }
   ],
   "source": [
    "if make_investigation_plots:\n",
    "    from mpl_toolkits import mplot3d\n",
    "    import numpy as np\n",
    "    import matplotlib.pyplot as plt\n",
    "    fig = plt.figure()\n",
    "\n",
    "    ax = plt.axes(projection='3d')\n",
    "    ax.set_xlabel('kz')\n",
    "    ax.set_ylabel('sz')\n",
    "    ax.plot_surface(kz_grid, sz_grid, u, cmap='viridis', edgecolor='none')\n",
    "    ax.set_title('M6_subs_det_re')\n",
    "    plt.show()"
   ]
  },
  {
   "cell_type": "code",
   "execution_count": 216,
   "metadata": {},
   "outputs": [
    {
     "data": {
      "image/png": "[encoded data removed]",
      "text/plain": [
       "<Figure size 432x288 with 1 Axes>"
      ]
     },
     "metadata": {
      "needs_background": "light"
     },
     "output_type": "display_data"
    }
   ],
   "source": [
    "if make_investigation_plots:\n",
    "    from mpl_toolkits import mplot3d\n",
    "    import numpy as np\n",
    "    import matplotlib.pyplot as plt\n",
    "    fig = plt.figure()\n",
    "\n",
    "    ax = plt.axes(projection='3d')\n",
    "    ax.set_xlabel('kz')\n",
    "    ax.set_ylabel('sz')\n",
    "    ax.plot_surface(kz_grid, sz_grid, v, cmap='viridis', edgecolor='none')\n",
    "    ax.set_title('M6_subs_det_im')\n",
    "    plt.show()"
   ]
  },
  {
   "cell_type": "raw",
   "metadata": {},
   "source": [
    "M12_subs = GenerateMatrix(sys12_subs, vars12)"
   ]
  },
  {
   "cell_type": "raw",
   "metadata": {},
   "source": [
    "M6_re_subs = GenerateMatrix(sys6_re_subs, vars6_re)"
   ]
  },
  {
   "cell_type": "raw",
   "metadata": {},
   "source": [
    "M6_im_subs = GenerateMatrix(sys6_im_subs, vars6_im)"
   ]
  },
  {
   "cell_type": "raw",
   "metadata": {},
   "source": [
    "M12_subs.variables()"
   ]
  },
  {
   "cell_type": "raw",
   "metadata": {},
   "source": [
    "M12_subs.det()"
   ]
  },
  {
   "cell_type": "code",
   "execution_count": 217,
   "metadata": {},
   "outputs": [],
   "source": [
    "#M4_subs = GenerateMatrix(sys4_subs, vars4)"
   ]
  },
  {
   "cell_type": "code",
   "execution_count": 218,
   "metadata": {},
   "outputs": [],
   "source": [
    "#M4 = GenerateMatrix(sys4, vars4)"
   ]
  },
  {
   "cell_type": "raw",
   "metadata": {},
   "source": [
    "M16.variables()"
   ]
  },
  {
   "cell_type": "markdown",
   "metadata": {},
   "source": [
    "M8_subs.variables()"
   ]
  },
  {
   "cell_type": "raw",
   "metadata": {},
   "source": [
    "M16_subs.variables()"
   ]
  },
  {
   "cell_type": "code",
   "execution_count": 219,
   "metadata": {},
   "outputs": [],
   "source": [
    "#M4.variables()"
   ]
  },
  {
   "cell_type": "code",
   "execution_count": 220,
   "metadata": {},
   "outputs": [],
   "source": [
    "#display(Math(latex(M4)))"
   ]
  },
  {
   "cell_type": "code",
   "execution_count": 221,
   "metadata": {},
   "outputs": [],
   "source": [
    "#M8"
   ]
  },
  {
   "cell_type": "code",
   "execution_count": 222,
   "metadata": {},
   "outputs": [],
   "source": [
    "#M8_subs"
   ]
  },
  {
   "cell_type": "raw",
   "metadata": {},
   "source": [
    "M8_subs.variables()"
   ]
  },
  {
   "cell_type": "code",
   "execution_count": 223,
   "metadata": {},
   "outputs": [],
   "source": [
    "#display(Math(latex(M4_subs)))"
   ]
  },
  {
   "cell_type": "code",
   "execution_count": 224,
   "metadata": {},
   "outputs": [],
   "source": [
    "#M4_det = M4.det()"
   ]
  },
  {
   "cell_type": "code",
   "execution_count": 225,
   "metadata": {},
   "outputs": [],
   "source": [
    "#M4_subs_det = M4_subs.det()"
   ]
  },
  {
   "cell_type": "raw",
   "metadata": {},
   "source": [
    "M6_re_subs_det = M6_re_subs.det()"
   ]
  },
  {
   "cell_type": "raw",
   "metadata": {},
   "source": [
    "M6_im_subs_det = M6_im_subs.det()"
   ]
  },
  {
   "cell_type": "raw",
   "metadata": {},
   "source": [
    "M6_re_subs_det"
   ]
  },
  {
   "cell_type": "raw",
   "metadata": {},
   "source": [
    "M8_subs_det = M8_subs.det()"
   ]
  },
  {
   "cell_type": "raw",
   "metadata": {},
   "source": [
    "M16_subs_d = M16_subs.subs(digit_values)"
   ]
  },
  {
   "cell_type": "raw",
   "metadata": {},
   "source": [
    "M16_subs_d_Det = M16_subs_d.det()"
   ]
  },
  {
   "cell_type": "code",
   "execution_count": 226,
   "metadata": {},
   "outputs": [],
   "source": [
    "#display(Math(latex(M4_det)))"
   ]
  },
  {
   "cell_type": "code",
   "execution_count": 227,
   "metadata": {},
   "outputs": [],
   "source": [
    "# display(Math(latex(M4_subs_det)))"
   ]
  },
  {
   "cell_type": "code",
   "execution_count": 228,
   "metadata": {},
   "outputs": [
    {
     "data": {
      "text/plain": [
       "0.000994174890376517"
      ]
     },
     "execution_count": 228,
     "metadata": {},
     "output_type": "execute_result"
    }
   ],
   "source": [
    "#kz_init_a0_d = kz_init_a0[1].subs(digit_values).rhs()\n",
    "kz_init_a0_d = (omega/c).subs(digit_values)\n",
    "kz_init_a0_d"
   ]
  },
  {
   "cell_type": "code",
   "execution_count": null,
   "metadata": {},
   "outputs": [],
   "source": []
  },
  {
   "cell_type": "code",
   "execution_count": 229,
   "metadata": {},
   "outputs": [],
   "source": [
    "def NewtonIt(f_div_df, x, xn, step):\n",
    "    print(\"xn\", xn)\n",
    "    #print(\"df\", df)\n",
    "    #print(\"(f/df)\", (f/df))\n",
    "    #delta = (f/df).subs(x == xn)\n",
    "    delta = f_div_df.subs(x == xn).n()\n",
    "    print(\"delta\", delta)\n",
    "    #print(\"step\", step)\n",
    "    step_delta = step*delta\n",
    "    #print(\"step_delta\", step_delta)\n",
    "\n",
    "    res = xn-step_delta\n",
    "    #print (\"_x-step_delta\", _x-step_delta)\n",
    "    #print (\"res\", res)\n",
    "    return res, delta\n",
    "\n",
    "def find_newton_root(f, f_div_df, x, xn):\n",
    "    #df = f.diff(x)\n",
    "    #print (\"f\", f)\n",
    "    #print (\"df\", df)\n",
    "    #print (\"f/df\", f/df)\n",
    "    step = 1.0\n",
    "\n",
    "    for i in range(20):\n",
    "        #xn=N(NewtonIt(xn, step), digits=32)\n",
    "        xn, delta = NewtonIt(f_div_df, x, xn, step)\n",
    "        #print (\"xn\", xn)\n",
    "        \n",
    "        f_n = f.subs(x == xn)\n",
    "        print (\"f_n\",f_n)\n",
    "        #step *= 0.999\n",
    "        if 0 == delta:\n",
    "            break\n",
    "\n",
    "    return xn"
   ]
  },
  {
   "cell_type": "code",
   "execution_count": null,
   "metadata": {},
   "outputs": [],
   "source": []
  },
  {
   "cell_type": "raw",
   "metadata": {},
   "source": [
    "M4_subs_det_kz_sz = M4_subs_det.subs(k_z == kz + I * sz)"
   ]
  },
  {
   "cell_type": "code",
   "execution_count": null,
   "metadata": {},
   "outputs": [],
   "source": []
  },
  {
   "cell_type": "raw",
   "metadata": {},
   "source": [
    "M4_subs_det_re = M6_re_subs_det.real()"
   ]
  },
  {
   "cell_type": "markdown",
   "metadata": {},
   "source": [
    "M4_subs_det_im = M6_im_subs_det.real()"
   ]
  },
  {
   "cell_type": "raw",
   "metadata": {},
   "source": [
    "M6_re_subs_det"
   ]
  },
  {
   "cell_type": "raw",
   "metadata": {},
   "source": [
    "M4_subs_det_im"
   ]
  },
  {
   "cell_type": "raw",
   "metadata": {},
   "source": [
    "display(Math(latex(M4_subs_det_kz_sz)))"
   ]
  },
  {
   "cell_type": "raw",
   "metadata": {},
   "source": [
    "display(Math(latex(M3_subs_det_kz_sz.full_simplify())))"
   ]
  },
  {
   "cell_type": "code",
   "execution_count": null,
   "metadata": {},
   "outputs": [],
   "source": []
  },
  {
   "cell_type": "raw",
   "metadata": {},
   "source": [
    "M4_subs_det_re_diff_kz = M4_subs_det_re.diff(kz)\n",
    "M4_subs_det_im_diff_kz = M4_subs_det_im.diff(kz)\n",
    "M4_subs_det_re_diff_sz = M4_subs_det_re.diff(sz)\n",
    "M4_subs_det_im_diff_sz = M4_subs_det_im.diff(sz)"
   ]
  },
  {
   "cell_type": "raw",
   "metadata": {},
   "source": [
    "M4_subs_det_re_d2_kz = M4_subs_det_re_diff_kz.diff(kz)\n",
    "M4_subs_det_im_d2_kz = M4_subs_det_im_diff_kz.diff(kz)\n",
    "M4_subs_det_re_d2_sz = M4_subs_det_re_diff_sz.diff(sz)\n",
    "M4_subs_det_im_d2_sz = M4_subs_det_im_diff_sz.diff(sz)"
   ]
  },
  {
   "cell_type": "code",
   "execution_count": null,
   "metadata": {},
   "outputs": [],
   "source": []
  },
  {
   "cell_type": "raw",
   "metadata": {},
   "source": [
    "M4_subs_det_re_div_diff_kz = (M4_subs_det_re / M4_subs_det_re_diff_kz)\n",
    "M4_subs_det_im_div_diff_kz = (M4_subs_det_im / M4_subs_det_im_diff_kz)\n",
    "M4_subs_det_re_div_diff_sz = (M4_subs_det_re / M4_subs_det_re_diff_sz)\n",
    "M4_subs_det_im_div_diff_sz = (M4_subs_det_im / M4_subs_det_im_diff_sz)"
   ]
  },
  {
   "cell_type": "code",
   "execution_count": 230,
   "metadata": {},
   "outputs": [
    {
     "data": {
      "text/plain": [
       "[a == 1,\n",
       " mu_l == 1,\n",
       " mu_r == 1,\n",
       " c == 29979245800,\n",
       " sigma_l == 5.62500000000000e17,\n",
       " sigma_r == 1.80000000000000e16,\n",
       " epsilon_l == 1,\n",
       " epsilon_r == 1,\n",
       " omega == 2.98046134067857e7]"
      ]
     },
     "execution_count": 230,
     "metadata": {},
     "output_type": "execute_result"
    }
   ],
   "source": [
    "digit_values"
   ]
  },
  {
   "cell_type": "raw",
   "metadata": {},
   "source": [
    "M4_subs_det_re_d = M4_subs_det_re.subs(digit_values)\n",
    "M4_subs_det_im_d = M4_subs_det_im.subs(digit_values)"
   ]
  },
  {
   "cell_type": "code",
   "execution_count": null,
   "metadata": {},
   "outputs": [],
   "source": []
  },
  {
   "cell_type": "code",
   "execution_count": null,
   "metadata": {},
   "outputs": [],
   "source": []
  },
  {
   "cell_type": "raw",
   "metadata": {},
   "source": [
    "M4_subs_det_re_div_diff_kz_d = M4_subs_det_re_div_diff_kz.subs(digit_values)\n",
    "M4_subs_det_im_div_diff_kz_d = M4_subs_det_im_div_diff_kz.subs(digit_values)\n",
    "M4_subs_det_re_div_diff_sz_d = M4_subs_det_re_div_diff_sz.subs(digit_values)\n",
    "M4_subs_det_im_div_diff_sz_d = M4_subs_det_im_div_diff_sz.subs(digit_values)"
   ]
  },
  {
   "cell_type": "markdown",
   "metadata": {},
   "source": [
    "метод ньютона для комплексной функции от комплексного аргумента\n",
    "комплексная функция представляется в виде двух функций: ее действительной и мнимой частей\n",
    "также мы предварительно должны посчитать все четыре варианта первых производных: действительной компоненты функции от обоих компонент аргумента и также и для мнимой части\n",
    "\n",
    "на вход метода find_newton_complex_root() подается:\n",
    "\n",
    "- выражения для действительной и мнимой частей исследуемой комплексной функции\n",
    "\n",
    "- четыре выражения для отношения каждой компоненты комплексной функции к ее производной по каждой компоненте аргумента\n",
    "\n",
    "- символьное представление действительной и мнимой части аргумента\n",
    "\n",
    "- начальные значения действительной и мнимой части аргумента"
   ]
  },
  {
   "cell_type": "code",
   "execution_count": 231,
   "metadata": {},
   "outputs": [],
   "source": [
    "def find_newton_complex_root(f_re, f_im,\n",
    "                             f_re_div_df_re,\n",
    "                             f_im_div_df_re,\n",
    "                             f_re_div_df_im,\n",
    "                             f_im_div_df_im,\n",
    "                             xre, xim,\n",
    "                             xn_re, xn_im, nsteps = 100):\n",
    "    print (\"xre\", xre)\n",
    "    print (\"xim\", xim)\n",
    "    print (\"xn_re\", xn_re)\n",
    "    print (\"xn_im\", xn_im)\n",
    "    \n",
    "    step_init = 0.095\n",
    "    step_init_im_re = 0.000095\n",
    "    step_init_re_im = 0.000095\n",
    "\n",
    "    step_re_im = step_init_re_im\n",
    "    step_im_im = step_init\n",
    "    step_re_re = step_init\n",
    "    step_im_re = step_init_im_re\n",
    "    \n",
    "    step_m = 0.9\n",
    "    \n",
    "    delta_epsilon = 1e-32\n",
    "\n",
    "    f_re_new = f_re.subs(xre == xn_re).subs(xim == xn_im).n()\n",
    "    print(\"\\nf_re_new = \", f_re_new)\n",
    "    \n",
    "    f_im_new = f_im.subs(xre == xn_re).subs(xim == xn_im).n()\n",
    "    print(\"\\nf_im_new = \", f_im_new)\n",
    "\n",
    "    f_abs_2 = f_re_new^2+f_im_new^2\n",
    "    print(\"\\nf_abs_2 = \", f_abs_2)\n",
    "            \n",
    "    for i in range(nsteps):\n",
    "        print(\"\\nre_d_re xn = \", xn_re, xn_im, \"step = \", step_re_re)\n",
    "        xn_re_new, delta_re_re = NewtonIt(f_re_div_df_re.subs(xim == xn_im), xre, xn_re, step_re_re)\n",
    "        f_re_new = f_re.subs(xre == xn_re_new).subs(xim == xn_im).n()\n",
    "        f_im_new = f_im.subs(xre == xn_re_new).subs(xim == xn_im).n()\n",
    "        f_abs_2_new = f_re_new^2+f_im_new^2\n",
    "        print(\"f_abs_2_new\", f_abs_2_new)\n",
    "        if f_abs_2_new > f_abs_2:\n",
    "            step_re_re *= step_m\n",
    "        else:\n",
    "            xn_re = xn_re_new\n",
    "            f_abs_2 = f_abs_2_new\n",
    "            if step_re_re < step_init:\n",
    "                step_re_re /= step_m\n",
    "            print (\"f_new\",f_re_new, f_im_new)\n",
    "\n",
    "        print(\"\\nim_d_re xn = \", xn_re, xn_im, \"step = \", step_im_re)\n",
    "        xn_re_new, delta_im_re = NewtonIt(f_im_div_df_re.subs(xim == xn_im), xre, xn_re, step_im_re)\n",
    "        f_re_new = f_re.subs(xre == xn_re_new).subs(xim == xn_im).n()\n",
    "        f_im_new = f_im.subs(xre == xn_re_new).subs(xim == xn_im).n()\n",
    "        f_abs_2_new = f_re_new^2+f_im_new^2\n",
    "        print(\"f_abs_2_new\", f_abs_2_new)\n",
    "        if f_abs_2_new > f_abs_2:\n",
    "            step_im_re *= step_m\n",
    "        else:\n",
    "            xn_re = xn_re_new\n",
    "            f_abs_2 = f_abs_2_new\n",
    "            if step_im_re < step_init_im_re:\n",
    "                step_im_re /= step_m\n",
    "            print (\"f_new\",f_re_new, f_im_new)\n",
    "\n",
    "        print(\"\\nre_d_im xn = \", xn_re, xn_im, \"step = \", step_re_im)\n",
    "        xn_im_new, delta_re_im = NewtonIt(f_re_div_df_im.subs(xre == xn_re), xim, xn_im, step_re_im)\n",
    "        f_re_new = f_re.subs(xre == xn_re).subs(xim == xn_im_new).n()\n",
    "        f_im_new = f_im.subs(xre == xn_re).subs(xim == xn_im_new).n()\n",
    "        f_abs_2_new = f_re_new^2+f_im_new^2\n",
    "        print(\"f_abs_2_new\", f_abs_2_new)\n",
    "        if f_abs_2_new > f_abs_2:\n",
    "            step_re_im *= step_m\n",
    "        else:\n",
    "            xn_im = xn_im_new\n",
    "            f_abs_2 = f_abs_2_new\n",
    "            if step_re_im < step_init_re_im:\n",
    "                step_re_im /= step_m\n",
    "            print (\"f_new\",f_re_new, f_im_new)\n",
    "\n",
    "        print(\"\\nim_d_im xn = \", xn_re, xn_im, \"step = \", step_im_im)\n",
    "        xn_im_new, delta_im_im = NewtonIt(f_im_div_df_im.subs(xre == xn_re), xim, xn_im, step_im_im)\n",
    "        f_re_new = f_re.subs(xre == xn_re).subs(xim == xn_im_new).n()\n",
    "        f_im_new = f_im.subs(xre == xn_re).subs(xim == xn_im_new).n()\n",
    "        f_abs_2_new = f_re_new^2+f_im_new^2\n",
    "        print(\"f_abs_2_new\", f_abs_2_new)\n",
    "        if f_abs_2_new > f_abs_2:\n",
    "            step_im_im *= step_m\n",
    "        else:\n",
    "            xn_im = xn_im_new\n",
    "            f_abs_2 = f_abs_2_new\n",
    "            if step_im_im < step_init:\n",
    "                step_im_im /= step_m\n",
    "            print (\"f_new\",f_re_new, f_im_new)\n",
    "\n",
    "        if abs(delta_re_re) < delta_epsilon and \\\n",
    "           abs(delta_re_im) < delta_epsilon and \\\n",
    "           abs(delta_im_re) < delta_epsilon and \\\n",
    "           abs(delta_im_im) < delta_epsilon:\n",
    "            break\n",
    "\n",
    "    return xn_re, xn_im, f_re_new, f_im_new"
   ]
  },
  {
   "cell_type": "code",
   "execution_count": 232,
   "metadata": {},
   "outputs": [],
   "source": [
    "M6_det_subs_k_z_diff_kz = M6_det_subs_k_z.diff(kz)\n",
    "M6_det_subs_k_z_diff_sz = M6_det_subs_k_z.diff(sz)"
   ]
  },
  {
   "cell_type": "code",
   "execution_count": 233,
   "metadata": {},
   "outputs": [],
   "source": [
    "M6_det_subs_k_z_diff_kz_d = M6_det_subs_k_z_diff_kz.subs(digit_values)\n",
    "M6_det_subs_k_z_diff_sz_d = M6_det_subs_k_z_diff_sz.subs(digit_values)"
   ]
  },
  {
   "cell_type": "code",
   "execution_count": 234,
   "metadata": {},
   "outputs": [],
   "source": [
    "M6_det_subs_k_z_diff_kz_d_real = M6_det_subs_k_z_diff_kz_d.real()\n",
    "M6_det_subs_k_z_diff_kz_d_imag = M6_det_subs_k_z_diff_kz_d.imag()\n",
    "M6_det_subs_k_z_diff_sz_d_real = M6_det_subs_k_z_diff_sz_d.real()\n",
    "M6_det_subs_k_z_diff_sz_d_imag = M6_det_subs_k_z_diff_sz_d.imag()"
   ]
  },
  {
   "cell_type": "code",
   "execution_count": 235,
   "metadata": {},
   "outputs": [],
   "source": [
    "M6_det_subs_k_z_d_real = M6_det_subs_k_z_d.real()\n",
    "M6_det_subs_k_z_d_imag = M6_det_subs_k_z_d.imag()"
   ]
  },
  {
   "cell_type": "code",
   "execution_count": 236,
   "metadata": {},
   "outputs": [],
   "source": [
    "M6_det_subs_k_z_d_real_div_diff_kz = ( M6_det_subs_k_z_d_real / M6_det_subs_k_z_diff_kz_d_real )\n",
    "M6_det_subs_k_z_d_imag_div_diff_kz = ( M6_det_subs_k_z_d_imag / M6_det_subs_k_z_diff_kz_d_imag )\n",
    "M6_det_subs_k_z_d_real_div_diff_sz = ( M6_det_subs_k_z_d_real / M6_det_subs_k_z_diff_sz_d_real )\n",
    "M6_det_subs_k_z_d_imag_div_diff_sz = ( M6_det_subs_k_z_d_imag / M6_det_subs_k_z_diff_sz_d_imag )"
   ]
  },
  {
   "cell_type": "markdown",
   "metadata": {},
   "source": [
    "инициализируем метод ньютона значениями найденными графическим методом"
   ]
  },
  {
   "cell_type": "code",
   "execution_count": 237,
   "metadata": {},
   "outputs": [
    {
     "name": "stdout",
     "output_type": "stream",
     "text": [
      "xre kz\n",
      "xim sz\n",
      "xn_re 0.00194017714363793\n",
      "xn_im 0.0014669884359669277\n",
      "\n",
      "f_re_new =  0.297329521899672\n",
      "\n",
      "f_im_new =  0.482419995863280\n",
      "\n",
      "f_abs_2 =  0.321133897001814\n",
      "\n",
      "re_d_re xn =  0.00194017714363793 0.0014669884359669277 step =  0.0950000000000000\n",
      "xn 0.00194017714363793\n",
      "delta 0.000343448947070828\n",
      "f_abs_2_new 0.294788893740183\n",
      "f_new 0.269663889467391 0.471243334655782\n",
      "\n",
      "im_d_re xn =  0.00190754949366620 0.0014669884359669277 step =  0.0000950000000000000\n",
      "xn 0.00190754949366620\n",
      "delta 0.00135679600391398\n",
      "f_abs_2_new 0.294689001875942\n",
      "f_new 0.269556886378488 0.471198564176374\n",
      "\n",
      "re_d_im xn =  0.00190742059804583 0.0014669884359669277 step =  0.0000950000000000000\n",
      "xn 0.0014669884359669277\n",
      "delta -0.000776021818096362\n",
      "f_abs_2_new 0.294732870292327\n",
      "\n",
      "im_d_im xn =  0.00190742059804583 0.0014669884359669277 step =  0.0950000000000000\n",
      "xn 0.0014669884359669277\n",
      "delta 0.000567652001965269\n",
      "f_abs_2_new 0.264431183350359\n",
      "f_new 0.286739274051507 0.426862708686029\n",
      "\n",
      "re_d_re xn =  0.00190742059804583 0.00141306149578023 step =  0.0950000000000000\n",
      "xn 0.00190742059804583\n",
      "delta 0.000352284434042741\n",
      "f_abs_2_new 0.241511056582260\n",
      "f_new 0.260077922812896 0.416977853905443\n",
      "\n",
      "im_d_re xn =  0.00187395357681177 0.00141306149578023 step =  0.0000950000000000000\n",
      "xn 0.00187395357681177\n",
      "delta 0.00138830977761802\n",
      "f_abs_2_new 0.241424563208406\n",
      "f_new 0.259975130534688 0.416938238486083\n",
      "\n",
      "re_d_im xn =  0.00187382168738290 0.00141306149578023 step =  0.0000855000000000000\n",
      "xn 0.00141306149578023\n",
      "delta -0.000865465731695414\n",
      "f_abs_2_new 0.241461096179112\n",
      "\n",
      "im_d_im xn =  0.00187382168738290 0.00141306149578023 step =  0.0950000000000000\n",
      "xn 0.00141306149578023\n",
      "delta 0.000535006135698913\n",
      "f_abs_2_new 0.217711367424115\n",
      "f_new 0.273938623060564 0.377715499046302\n",
      "\n",
      "re_d_re xn =  0.00187382168738290 0.00136223591288883 step =  0.0950000000000000\n",
      "xn 0.00187382168738290\n",
      "delta 0.000358614302590990\n",
      "f_abs_2_new 0.197934250254973\n",
      "f_new 0.248482880882776 0.369039981794885\n",
      "\n",
      "im_d_re xn =  0.00183975332863675 0.00136223591288883 step =  0.0000950000000000000\n",
      "xn 0.00183975332863675\n",
      "delta 0.00142059069754710\n",
      "f_abs_2_new 0.197859386292578\n",
      "f_new 0.248384289089983 0.369004920327414\n",
      "\n",
      "re_d_im xn =  0.00183961837252048 0.00136223591288883 step =  0.0000769500000000000\n",
      "xn 0.00136223591288883\n",
      "delta -0.000955990434469998\n",
      "f_abs_2_new 0.197889552271652\n",
      "\n",
      "im_d_im xn =  0.00183961837252048 0.00136223591288883 step =  0.0950000000000000\n",
      "xn 0.00136223591288883\n",
      "delta 0.000505152817666299\n",
      "f_abs_2_new 0.179225009794524\n",
      "f_new 0.259751600685190 0.334296448883331\n",
      "\n",
      "re_d_re xn =  0.00183961837252048 0.00131424639521053 step =  0.0950000000000000\n",
      "xn 0.00183961837252048\n",
      "delta 0.000362871273727425\n",
      "f_abs_2_new 0.162271581299579\n",
      "f_new 0.235626744735507 0.326728661835670\n",
      "\n",
      "im_d_re xn =  0.00180514560151638 0.00131424639521053 step =  0.0000950000000000000\n",
      "xn 0.00180514560151638\n",
      "delta 0.00145386390029329\n",
      "f_abs_2_new 0.162206795304746\n",
      "f_new 0.235532291873578 0.326697619810009\n",
      "\n",
      "re_d_im xn =  0.00180500748444585 0.00131424639521053 step =  0.0000692550000000000\n",
      "xn 0.00131424639521053\n",
      "delta -0.00104787277416533\n",
      "f_abs_2_new 0.162231537244289\n",
      "\n",
      "im_d_im xn =  0.00180500748444585 0.00131424639521053 step =  0.0950000000000000\n",
      "xn 0.00131424639521053\n",
      "delta 0.000477769483552969\n",
      "f_abs_2_new 0.147526749495052\n",
      "f_new 0.244800861089530 0.295971768763301\n",
      "\n",
      "re_d_re xn =  0.00180500748444585 0.00126885829427300 step =  0.0950000000000000\n",
      "xn 0.00180500748444585\n",
      "delta 0.000365402625535487\n",
      "f_abs_2_new 0.133071294419253\n",
      "f_new 0.222074843401365 0.289402934241366\n",
      "\n",
      "im_d_re xn =  0.00177029423501998 0.00126885829427300 step =  0.0000950000000000000\n",
      "xn 0.00177029423501998\n",
      "delta 0.00148832696909190\n",
      "f_abs_2_new 0.133015231979609\n",
      "f_new 0.221984431527814 0.289375438036613\n",
      "\n",
      "re_d_im xn =  0.00177015284395792 0.00126885829427300 step =  0.0000623295000000000\n",
      "xn 0.00126885829427300\n",
      "delta -0.00114136752754427\n",
      "f_abs_2_new 0.133035416118347\n",
      "\n",
      "im_d_im xn =  0.00177015284395792 0.00126885829427300 step =  0.0950000000000000\n",
      "xn 0.00126885829427300\n",
      "delta 0.000452584682917752\n",
      "f_abs_2_new 0.121423288811495\n",
      "f_new 0.229552891994855 0.262161703130517\n",
      "\n",
      "re_d_re xn =  0.00177015284395792 0.00122586274939581 step =  0.0950000000000000\n",
      "xn 0.00177015284395792\n",
      "delta 0.000366490626208752\n",
      "f_abs_2_new 0.109152086387211\n",
      "f_new 0.208250818839270 0.256483299339323\n",
      "\n",
      "im_d_re xn =  0.00173533623446808 0.00122586274939581 step =  0.0000950000000000000\n",
      "xn 0.00173533623446808\n",
      "delta 0.00152415485080304\n",
      "f_abs_2_new 0.109103569179782\n",
      "f_new 0.208164325006654 0.256458930385171\n",
      "\n",
      "re_d_im xn =  0.00173519143975726 0.00122586274939581 step =  0.0000560965500000000\n",
      "xn 0.00122586274939581\n",
      "delta -0.00123671015804340\n",
      "f_abs_2_new 0.109119962989344\n",
      "\n",
      "im_d_im xn =  0.00173519143975726 0.00122586274939581 step =  0.0950000000000000\n",
      "xn 0.00122586274939581\n",
      "delta 0.000429367036776445\n",
      "f_abs_2_new 0.0999299712180778\n",
      "f_new 0.214353016385022 0.232341893735762\n",
      "\n",
      "re_d_re xn =  0.00173519143975726 0.00118507288090205 step =  0.0950000000000000\n",
      "xn 0.00173519143975726\n",
      "delta 0.000366367200931590\n",
      "f_abs_2_new 0.0895514898593343\n",
      "f_new 0.194468355352087 0.227450101398062\n",
      "\n",
      "im_d_re xn =  0.00170038655566876 0.00118507288090205 step =  0.0000950000000000000\n",
      "xn 0.00170038655566876\n",
      "delta 0.00156150343436873\n",
      "f_abs_2_new 0.0895094954465452\n",
      "f_new 0.194385640313337 0.227428490489910\n",
      "\n",
      "re_d_im xn =  0.00170023821284249 0.00118507288090205 step =  0.0000504868950000000\n",
      "xn 0.00118507288090205\n",
      "delta -0.00133411863260915\n",
      "f_abs_2_new 0.0895227624843695\n",
      "\n",
      "im_d_im xn =  0.00170023821284249 0.00118507288090205 step =  0.0950000000000000\n",
      "xn 0.00118507288090205\n",
      "delta 0.000407917184497304\n",
      "f_abs_2_new 0.0822346529088685\n",
      "f_new 0.199452616268735 0.206042002447135\n",
      "\n",
      "re_d_re xn =  0.00170023821284249 0.00114632074837481 step =  0.0950000000000000\n",
      "xn 0.00170023821284249\n",
      "delta 0.000365224686364508\n",
      "f_abs_2_new 0.0734844910453079\n",
      "f_new 0.180955867363290 0.201840196968065\n",
      "\n",
      "im_d_re xn =  0.00166554186763786 0.00114632074837481 step =  0.0000950000000000000\n",
      "xn 0.00166554186763786\n",
      "delta 0.00160051212864512\n",
      "f_abs_2_new 0.0734481340072255\n",
      "f_new 0.180876782197064 0.201821018898581\n",
      "\n",
      "re_d_im xn =  0.00166538981898564 0.00114632074837481 step =  0.0000454382055000000\n",
      "xn 0.00114632074837481\n",
      "delta -0.00143379450019904\n",
      "f_abs_2_new 0.0734588380893056\n",
      "\n",
      "im_d_im xn =  0.00166538981898564 0.00114632074837481 step =  0.0950000000000000\n",
      "xn 0.00114632074837481\n",
      "delta 0.000388061783627952\n",
      "f_abs_2_new 0.0676677129405642\n",
      "f_new 0.185030377993184 0.182842752550555\n",
      "\n",
      "re_d_re xn =  0.00166538981898564 0.00110945487893015 step =  0.0950000000000000\n",
      "xn 0.00166538981898564\n",
      "delta 0.000363223865708947\n",
      "f_abs_2_new 0.0603102280216933\n",
      "f_new 0.167875771370536 0.179242722051526\n",
      "\n",
      "im_d_re xn =  0.00163088355174329 0.00110945487893015 step =  0.0000950000000000000\n",
      "xn 0.00163088355174329\n",
      "delta 0.00164130566832234\n",
      "f_abs_2_new 0.0602787427183050\n",
      "f_new 0.167800162489155 0.179225690644278\n",
      "\n",
      "re_d_im xn =  0.00163072762770480 0.00110945487893015 step =  0.0000408943849500000\n",
      "xn 0.00110945487893015\n",
      "delta -0.00153592336371438\n",
      "f_abs_2_new 0.0602873567757576\n",
      "\n",
      "im_d_im xn =  0.00163072762770480 0.00110945487893015 step =  0.0950000000000000\n",
      "xn 0.00110945487893015\n",
      "delta 0.000369648951877921\n",
      "f_abs_2_new 0.0556772012226555\n",
      "f_new 0.171208910195355 0.162372135209137\n",
      "\n",
      "re_d_re xn =  0.00163072762770480 0.00107433822850175 step =  0.0950000000000000\n",
      "xn 0.00163072762770480\n",
      "delta 0.000360500072746521\n",
      "f_abs_2_new 0.0495051112717163\n",
      "f_new 0.155339564006349 0.159294479270419\n",
      "\n",
      "im_d_re xn =  0.00159648012079388 0.00107433822850175 step =  0.0000950000000000000\n",
      "xn 0.00159648012079388\n",
      "delta 0.00168399530491301\n",
      "f_abs_2_new 0.0494778363366376\n",
      "f_new 0.155267276904606 0.159279342851689\n",
      "\n",
      "re_d_im xn =  0.00159632014123992 0.00107433822850175 step =  0.0000368049464550000\n",
      "xn 0.00107433822850175\n",
      "delta -0.00164067483072261\n",
      "f_abs_2_new 0.0494847531838183\n",
      "\n",
      "im_d_im xn =  0.00159632014123992 0.00107433822850175 step =  0.0950000000000000\n",
      "xn 0.00107433822850175\n",
      "delta 0.000352544742914291\n",
      "f_abs_2_new 0.0458082703009680\n",
      "f_new 0.158067760540852 0.144301259102504\n",
      "\n",
      "re_d_re xn =  0.00159632014123992 0.00104084647792489 step =  0.0950000000000000\n",
      "xn 0.00159632014123992\n",
      "delta 0.000357167898315209\n",
      "f_abs_2_new 0.0406410747878474\n",
      "f_new 0.143419634993316 0.141675273376237\n",
      "\n",
      "im_d_re xn =  0.00156238919089997 0.00104084647792489 step =  0.0000950000000000000\n"
     ]
    },
    {
     "name": "stdout",
     "output_type": "stream",
     "text": [
      "xn 0.00156238919089997\n",
      "delta 0.00172867949162395\n",
      "f_abs_2_new 0.0406174393372739\n",
      "f_new 0.143350517017869 0.141661810690050\n",
      "\n",
      "re_d_im xn =  0.00156222496634827 0.00104084647792489 step =  0.0000331244518095000\n",
      "xn 0.00104084647792489\n",
      "delta -0.00174820199727096\n",
      "f_abs_2_new 0.0406229827483178\n",
      "\n",
      "im_d_im xn =  0.00156222496634827 0.00104084647792489 step =  0.0950000000000000\n",
      "xn 0.00104084647792489\n",
      "delta 0.000336630376922413\n",
      "f_abs_2_new 0.0376861691113079\n",
      "f_new 0.145653617838471 0.128340144623077\n",
      "\n",
      "re_d_re xn =  0.00156222496634827 0.00100886659211726 step =  0.0950000000000000\n",
      "xn 0.00156222496634827\n",
      "delta 0.000353324867875894\n",
      "f_abs_2_new 0.0333679428414067\n",
      "f_new 0.132158527389050 0.126103395988230\n",
      "\n",
      "im_d_re xn =  0.00152865910390006 0.00100886659211726 step =  0.0000950000000000000\n",
      "xn 0.00152865910390006\n",
      "delta 0.00177544413790717\n",
      "f_abs_2_new 0.0333474543128151\n",
      "f_new 0.132092429746890 0.126091412540180\n",
      "\n",
      "re_d_im xn =  0.00152849043670696 0.00100886659211726 step =  0.0000298120066285500\n",
      "xn 0.00100886659211726\n",
      "delta -0.00185864049806763\n",
      "f_abs_2_new 0.0333518895310424\n",
      "\n",
      "im_d_im xn =  0.00152849043670696 0.00100886659211726 step =  0.0950000000000000\n",
      "xn 0.00100886659211726\n",
      "delta 0.000321800031463808\n",
      "f_abs_2_new 0.0310021925794953\n",
      "f_new 0.133988306991757 0.114233647271624\n",
      "\n",
      "re_d_re xn =  0.00152849043670696 0.000978295589128201 step =  0.0950000000000000\n",
      "xn 0.00152849043670696\n",
      "delta 0.000349054349807395\n",
      "f_abs_2_new 0.0273991093971513\n",
      "f_new 0.121576195554546 0.112331376167276\n",
      "\n",
      "im_d_re xn =  0.00149533027347525 0.000978295589128201 step =  0.0000950000000000000\n",
      "xn 0.00149533027347525\n",
      "delta 0.00182436248666520\n",
      "f_abs_2_new 0.0273813428949844\n",
      "f_new 0.121512974731534 0.112320700972163\n",
      "\n",
      "re_d_im xn =  0.00149515695903902 0.000978295589128201 step =  0.0000268308059656950\n",
      "xn 0.000978295589128201\n",
      "delta -0.00197210714219281\n",
      "f_abs_2_new 0.0273848861442887\n",
      "\n",
      "im_d_im xn =  0.00149515695903902 0.000978295589128201 step =  0.0950000000000000\n",
      "xn 0.000978295589128201\n",
      "delta 0.000307959054705127\n",
      "f_abs_2_new 0.0255020803863180\n",
      "f_new 0.123075048752891 0.101757617703990\n",
      "\n",
      "re_d_re xn =  0.00149515695903902 0.000949039478931214 step =  0.0950000000000000\n",
      "xn 0.00149515695903902\n",
      "delta 0.000344427880457150\n",
      "f_abs_2_new 0.0224998912127988\n",
      "f_new 0.111675688671390 0.100142057960528\n",
      "\n",
      "im_d_re xn =  0.00146243631039559 0.000949039478931214 step =  0.0000950000000000000\n",
      "xn 0.00146243631039559\n",
      "delta 0.00187549465125036\n",
      "f_abs_2_new 0.0224844802213797\n",
      "f_new 0.111615207395075 0.100132540662534\n",
      "\n",
      "re_d_im xn =  0.00146225813840372 0.000949039478931214 step =  0.0000241477253691255\n",
      "xn 0.000949039478931214\n",
      "delta -0.00208869814450236\n",
      "f_abs_2_new 0.0224873070546895\n",
      "\n",
      "im_d_im xn =  0.00146225813840372 0.000949039478931214 step =  0.0950000000000000\n",
      "xn 0.000949039478931214\n",
      "delta 0.000295022501621948\n",
      "f_abs_2_new 0.0209764427124040\n",
      "f_new 0.112903352774498 0.0907153550656180\n",
      "\n",
      "re_d_re xn =  0.00146225813840372 0.000921012341277129 step =  0.0950000000000000\n",
      "xn 0.00146225813840372\n",
      "delta 0.000339507041324692\n",
      "f_abs_2_new 0.0184780438796459\n",
      "f_new 0.102447593947739 0.0893450299343230\n",
      "\n",
      "im_d_re xn =  0.00143000496947788 0.000921012341277129 step =  0.0000950000000000000\n",
      "xn 0.00143000496947788\n",
      "delta 0.00192888683867578\n",
      "f_abs_2_new 0.0184646721995586\n",
      "f_new 0.102389721799266 0.0893365382664197\n",
      "\n",
      "re_d_im xn =  0.00142982172522820 0.000921012341277129 step =  0.0000217329528322130\n",
      "xn 0.000921012341277129\n",
      "delta -0.00220848695793244\n",
      "f_abs_2_new 0.0184669246724247\n",
      "\n",
      "im_d_im xn =  0.00142982172522820 0.000921012341277129 step =  0.0950000000000000\n",
      "xn 0.000921012341277129\n",
      "delta 0.000282913920505658\n",
      "f_abs_2_new 0.0172528620229705\n",
      "f_new 0.103452832819958 0.0809343771489977\n",
      "\n",
      "re_d_re xn =  0.00142982172522820 0.000894135518829091 step =  0.0950000000000000\n",
      "xn 0.00142982172522820\n",
      "delta 0.000334344988311003\n",
      "f_abs_2_new 0.0151760310129654\n",
      "f_new 0.0938735015104594 0.0797734086468113\n",
      "\n",
      "im_d_re xn =  0.00139805895133866 0.000894135518829091 step =  0.0000950000000000000\n",
      "xn 0.00139805895133866\n",
      "delta 0.00198457027861911\n",
      "f_abs_2_new 0.0151644257811771\n",
      "f_new 0.0938181152682879 0.0797658261957047\n",
      "\n",
      "re_d_im xn =  0.00139787041716219 0.000894135518829091 step =  0.0000195596575489917\n",
      "xn 0.000894135518829091\n",
      "delta -0.00233152171058446\n",
      "f_abs_2_new 0.0151662185213902\n",
      "\n",
      "im_d_im xn =  0.00139787041716219 0.000894135518829091 step =  0.0950000000000000\n",
      "xn 0.000894135518829091\n",
      "delta 0.000271564335926716\n",
      "f_abs_2_new 0.0141893797010171\n",
      "f_new 0.0946961713031430 0.0722635097510696\n",
      "\n",
      "re_d_re xn =  0.00139787041716219 0.000868336906916053 step =  0.0950000000000000\n",
      "xn 0.00139787041716219\n",
      "delta 0.000328987707770790\n",
      "f_abs_2_new 0.0124647167746029\n",
      "f_new 0.0859286970742645 0.0712809637541619\n",
      "\n",
      "im_d_re xn =  0.00136661658492396 0.000868336906916053 step =  0.0000950000000000000\n",
      "xn 0.00136661658492396\n",
      "delta 0.00204255987418839\n",
      "f_abs_2_new 0.0124546424369290\n",
      "f_new 0.0858756808537758 0.0712741879983874\n",
      "\n",
      "re_d_im xn =  0.00136642254173591 0.000868336906916053 step =  0.0000176036917940925\n",
      "xn 0.000868336906916053\n",
      "delta -0.00245782225349282\n",
      "f_abs_2_new 0.0124560677207440\n",
      "\n",
      "im_d_im xn =  0.00136642254173591 0.000868336906916053 step =  0.0950000000000000\n",
      "xn 0.000868336906916053\n",
      "delta 0.000260911387767963\n",
      "f_abs_2_new 0.0116691262511566\n",
      "f_new 0.0866014122830333 0.0645702845102967\n",
      "\n",
      "re_d_re xn =  0.00136642254173591 0.000843550325078097 step =  0.0950000000000000\n",
      "xn 0.00136642254173591\n",
      "delta 0.000323475055935687\n",
      "f_abs_2_new 0.0102382155826449\n",
      "f_new 0.0785842449207859 0.0637395641095451\n",
      "\n",
      "im_d_re xn =  0.00133569241142202 0.000843550325078097 step =  0.0000950000000000000\n",
      "xn 0.00133569241142202\n",
      "delta 0.00210285258963326\n",
      "f_abs_2_new 0.0102294686980854\n",
      "f_new 0.0785334901600901 0.0637335047001218\n",
      "\n",
      "re_d_im xn =  0.00133549264042601 0.000843550325078097 step =  0.0000158433226146832\n",
      "xn 0.000843550325078097\n",
      "delta -0.00258737683063315\n",
      "f_abs_2_new 0.0102306006577836\n",
      "\n",
      "im_d_im xn =  0.00133549264042601 0.000843550325078097 step =  0.0950000000000000\n",
      "xn 0.000843550325078097\n",
      "delta 0.000250898595682068\n",
      "f_abs_2_new 0.00959589537313073\n",
      "f_new 0.0791337244505225 0.0577386268257178\n",
      "\n",
      "re_d_re xn =  0.00133549264042601 0.000819714958488300 step =  0.0950000000000000\n",
      "xn 0.00133549264042601\n",
      "delta 0.000317841625003731\n",
      "f_abs_2_new 0.00840968376967824\n",
      "f_new 0.0718085896349849 0.0570369198354239\n",
      "\n",
      "im_d_re xn =  0.00130529768605065 0.000819714958488300 step =  0.0000950000000000000\n",
      "xn 0.00130529768605065\n",
      "delta 0.00216542559209636\n",
      "f_abs_2_new 0.00840208853795069\n",
      "f_new 0.0717599949658777 0.0570314970910627\n",
      "\n",
      "re_d_im xn =  0.00130509197061941 0.000819714958488300 step =  0.0000142589903532149\n",
      "xn 0.000819714958488300\n",
      "delta -0.00272013839216484\n",
      "f_abs_2_new 0.00840298662486430\n",
      "\n",
      "im_d_im xn =  0.00130509197061941 0.000819714958488300 step =  0.0950000000000000\n",
      "xn 0.000819714958488300\n",
      "delta 0.000241474725469313\n",
      "f_abs_2_new 0.00789049676177633\n",
      "f_new 0.0722567461275924 0.0516668114056692\n",
      "\n",
      "re_d_re xn =  0.00130509197061941 0.000796774859568715 step =  0.0950000000000000\n",
      "xn 0.00130509197061941\n",
      "delta 0.000312117469371485\n",
      "f_abs_2_new 0.00690787879336874\n",
      "f_new 0.0655687782729728 0.0510745935780058\n",
      "\n",
      "im_d_re xn =  0.00127544081102911 0.000796774859568715 step =  0.0000950000000000000\n",
      "xn 0.00127544081102911\n",
      "delta 0.00223023416913029\n",
      "f_abs_2_new 0.00690128320879521\n",
      "f_new 0.0655222493071080 0.0510697371692120\n",
      "\n",
      "re_d_im xn =  0.00127522893878305 0.000796774859568715 step =  0.0000128330913178934\n",
      "xn 0.000796774859568715\n",
      "delta -0.00285602058550080\n",
      "f_abs_2_new 0.00690199502748576\n",
      "\n",
      "im_d_im xn =  0.00127522893878305 0.000796774859568715 step =  0.0950000000000000\n",
      "xn 0.000796774859568715\n",
      "delta 0.000232593239159027\n",
      "f_abs_2_new 0.00648775116492557\n",
      "f_new 0.0659336010470230 0.0462656613256266\n"
     ]
    }
   ],
   "source": [
    "k_z_root = find_newton_complex_root(\n",
    "    M6_det_subs_k_z_d_real,\\\n",
    "    M6_det_subs_k_z_d_imag,\\\n",
    "    M6_det_subs_k_z_d_real_div_diff_kz,\\\n",
    "    M6_det_subs_k_z_d_imag_div_diff_kz,\\\n",
    "    M6_det_subs_k_z_d_real_div_diff_sz,\\\n",
    "    M6_det_subs_k_z_d_imag_div_diff_sz,\\\n",
    "    xre = kz, xim = sz,\\\n",
    "    xn_re = k_z_sol_kz, xn_im = k_z_sol_sz, nsteps = 20)"
   ]
  },
  {
   "cell_type": "raw",
   "metadata": {},
   "source": [
    "k_z_root"
   ]
  },
  {
   "cell_type": "code",
   "execution_count": 238,
   "metadata": {},
   "outputs": [
    {
     "data": {
      "text/plain": [
       "(0.00194017714363793, 0.0014669884359669277)"
      ]
     },
     "execution_count": 238,
     "metadata": {},
     "output_type": "execute_result"
    }
   ],
   "source": [
    "k_z_sol_kz, k_z_sol_sz"
   ]
  },
  {
   "cell_type": "code",
   "execution_count": 239,
   "metadata": {},
   "outputs": [],
   "source": [
    "fast_M8 = True"
   ]
  },
  {
   "cell_type": "code",
   "execution_count": null,
   "metadata": {},
   "outputs": [],
   "source": []
  },
  {
   "cell_type": "raw",
   "metadata": {},
   "source": [
    "if not fast_M8:\n",
    "    M8_subs_det_re = M8_subs_det.real()\n",
    "\n",
    "    M8_subs_det_re_diff_kz = M8_subs_det_re.diff(kz)\n",
    "    M8_subs_det_re_diff_sz = M8_subs_det_re.diff(sz)\n",
    "\n",
    "    M8_subs_det_re_div_diff_kz = (M8_subs_det_re / M8_subs_det_re_diff_kz)\n",
    "    M8_subs_det_re_div_diff_sz = (M8_subs_det_re / M8_subs_det_re_diff_sz)\n",
    "\n",
    "    M8_subs_det_re_d = M8_subs_det_re.subs(digit_values)"
   ]
  },
  {
   "cell_type": "code",
   "execution_count": null,
   "metadata": {},
   "outputs": [],
   "source": []
  },
  {
   "cell_type": "raw",
   "metadata": {},
   "source": [
    "if not fast_M8 and make_investigation_plots:\n",
    "    import numpy as np\n",
    "    import matplotlib.pyplot as plt\n",
    "    %matplotlib inline\n",
    "\n",
    "    kz_linspace = np.linspace(0, 1e-2, 25)\n",
    "    sz_linspace = np.linspace(0, 1e-3, 25)\n",
    "\n",
    "    kz_list = kz_linspace.tolist()\n",
    "    sz_list = sz_linspace.tolist()\n",
    "\n",
    "    kz_grid, sz_grid = np.meshgrid(kz_linspace, sz_linspace)\n",
    "\n",
    "    u = kz_grid * np.nan\n",
    "\n",
    "    for ikz in np.arange(0, len(kz_linspace), 1):\n",
    "        print(ikz, len(kz_linspace))\n",
    "        for isz in np.arange(0, len(sz_linspace), 1):\n",
    "            kz_i = kz_list[ikz]\n",
    "            sz_i = sz_list[isz]\n",
    "            u[isz][ikz] = M8_subs_det_re_d.subs(kz == kz_i).subs(sz == sz_i).n()"
   ]
  },
  {
   "cell_type": "markdown",
   "metadata": {},
   "source": [
    "Искомый волновой вектор можно найти графическим методом как точку пересечения двух нулевых изолиний на контурных графиках зависимости действительной и мнимой компонент детерминанта от действительной и мнимой компонент волнового вектора"
   ]
  },
  {
   "cell_type": "raw",
   "metadata": {},
   "source": [
    "if not fast_M8 and make_investigation_plots:\n",
    "    fig,ax=plt.subplots(1,1)\n",
    "\n",
    "    cp = ax.contourf(kz_grid,sz_grid, u)\n",
    "    fig.colorbar(cp) # Add a colorbar to a plot\n",
    "    ax.set_title('M8_subs_det_re')\n",
    "    ax.set_xlabel('kz')\n",
    "    ax.set_ylabel('sz')\n",
    "    plt.show()"
   ]
  },
  {
   "cell_type": "code",
   "execution_count": null,
   "metadata": {},
   "outputs": [],
   "source": []
  },
  {
   "cell_type": "raw",
   "metadata": {},
   "source": [
    "if not fast_M8:\n",
    "    M8_subs_det_re_div_diff_kz_d = M8_subs_det_re_div_diff_kz.subs(digit_values)\n",
    "    M8_subs_det_re_div_diff_sz_d = M8_subs_det_re_div_diff_sz.subs(digit_values)\n"
   ]
  },
  {
   "cell_type": "code",
   "execution_count": null,
   "metadata": {},
   "outputs": [],
   "source": []
  },
  {
   "cell_type": "raw",
   "metadata": {},
   "source": [
    "if not fast_M8:\n",
    "    k_z_root6 = find_newton_complex_root(\n",
    "        M8_subs_det_re_d,\\\n",
    "        M8_subs_det_im_d,\\\n",
    "        M8_subs_det_re_div_diff_kz_d,\\\n",
    "        M8_subs_det_im_div_diff_kz_d,\\\n",
    "        M8_subs_det_re_div_diff_sz_d,\\\n",
    "        M8_subs_det_im_div_diff_sz_d,\\\n",
    "        xre = kz, xim = sz,\\\n",
    "        xn_re = k_z_root[0], xn_im = k_z_root[1], nsteps = 0)"
   ]
  },
  {
   "cell_type": "raw",
   "metadata": {},
   "source": [
    "k_z_sol = [kz == k_z_root[0], sz ==  k_z_root[1]]\n",
    "k_z_sol = [k_z == k_z_root[0] + I * k_z_root[1]]\n",
    "M6_d = M6.subs(digit_values).subs(k_z_sol)\n",
    "disp(M6_d.n())"
   ]
  },
  {
   "cell_type": "code",
   "execution_count": 244,
   "metadata": {},
   "outputs": [
    {
     "data": {
      "text/latex": [
       "$\\displaystyle \\left(\\begin{array}{rrrrrr}\n",
       "1.95154013168805 + 1.47558456484880i & 0.000000000000000 & -0.0832224593017815 - 1.01484528556837i & 0.000000000000000 & 0.0861564401602183 + 1.01096493366122i & 0.000000000000000 \\\\\n",
       "0.000000000000000 & 0.000000000000000 & -0.0861564401602183 - 1.01096493366122i & 0.000000000000000 & 0.0832224593017815 + 1.01484528556837i & -1.95151728994943 - 1.47558773621447i \\\\\n",
       "1.00000000000000 & 0.000000000000000 & -1.00178221490890 - 0.00160013778726138i & 0.000000000000000 & -0.998218408937000 + 0.00159444535180263i & 0.000000000000000 \\\\\n",
       "0.000000000000000 & 0.000000000000000 & -0.998218408937000 + 0.00159444535180263i & 0.000000000000000 & -1.00178221490890 - 0.00160013778726138i & 1.00000000000000 \\\\\n",
       "344357.424545700 + 344357.424546617i & -1.95266204309802 - 1.48133642244018i & -1.61238000916986 + 1.79296840641759i & -1.95042099035180 - 1.46984335472214i & 1.60092843036672 - 1.79171340946475i & 0.000000000000000 \\\\\n",
       "0.000000000000000 & -1.95042099035180 - 1.46984335472214i & -1.60092843036672 + 1.79171340946475i & -1.95266204309802 - 1.48133642244018i & 1.61238000916986 - 1.79296840641759i & -61600.5287621699 - 61600.5287672930i\n",
       "\\end{array}\\right)$"
      ],
      "text/plain": [
       "<IPython.core.display.Math object>"
      ]
     },
     "metadata": {},
     "output_type": "display_data"
    }
   ],
   "source": [
    "k_z_sol = [kz == k_z_sol_kz, sz == k_z_sol_sz, k_z == k_z_sol_kz + I * k_z_sol_sz]\n",
    "\n",
    "M6_d = M6.subs(digit_values).subs(k_z_sol)\n",
    "disp(M6_d.n())"
   ]
  },
  {
   "cell_type": "code",
   "execution_count": 246,
   "metadata": {},
   "outputs": [
    {
     "data": {
      "text/plain": [
       "0.297329521899698 + 0.482419995863259*I"
      ]
     },
     "execution_count": 246,
     "metadata": {},
     "output_type": "execute_result"
    }
   ],
   "source": [
    "M6_d.det().n()"
   ]
  },
  {
   "cell_type": "raw",
   "metadata": {},
   "source": [
    "# https://www.pythonpool.com/gaussian-elimination-python/\n",
    "\n",
    "#gaussian elimination of M6_subs in symbolic form\n",
    "\n",
    "n = 8\n",
    "rows = n\n",
    "cols = n\n",
    "ma = [[], [], [], [], [], [], [], []]\n",
    "\n",
    "for i in range(rows):# row\n",
    "    for j in range(cols): # col\n",
    "        ma[i] += [M8_subs[i][j]]\n",
    "\n",
    "for i in range(cols):\n",
    "    row_to_change = -1\n",
    "    ii_abs = abs(ma[i][i].subs(digit_values).subs(k_z_sol).n())\n",
    "\n",
    "    for r in range(i+1, rows):\n",
    "        ri_abs = abs(ma[r][i].subs(digit_values).subs(k_z_sol).n())\n",
    "        if ri_abs > ii_abs:\n",
    "            row_to_change = r\n",
    "            cur_abs = ri_abs\n",
    "            print(\"row_to_change\", row_to_change)\n",
    "\n",
    "    if row_to_change > -1:\n",
    "        for col in range(i, cols):#+1):\n",
    "            tmp = ma[i][col]\n",
    "            ma[i][col] = ma[row_to_change][col]\n",
    "            ma[row_to_change][col] = tmp\n",
    "\n",
    "    for j in range(i+1, rows):\n",
    "        ratio = ma[j][i]/ma[i][i]\n",
    "         \n",
    "        for k in range(cols):#+1):\n",
    "            ma[j][k] = ma[j][k] - ratio * ma[i][k]\n",
    "\n",
    "M8_RU = matrix(ma)"
   ]
  },
  {
   "cell_type": "raw",
   "metadata": {},
   "source": [
    "# https://www.pythonpool.com/gaussian-elimination-python/\n",
    "\n",
    "#gaussian elimination of M6_subs in symbolic form\n",
    "\n",
    "n = 6\n",
    "rows = n\n",
    "cols = n\n",
    "ma = [[], [], [], [], [], []]\n",
    "\n",
    "for i in range(rows):# row\n",
    "    for j in range(cols): # col\n",
    "        ma[i] += [M6[i][j]]\n",
    "\n",
    "for i in range(cols):\n",
    "    row_to_change = -1\n",
    "    ii_abs = abs(ma[i][i].subs(digit_values).subs(k_z_sol).n())\n",
    "\n",
    "    for r in range(i+1, rows):\n",
    "        ri_abs = abs(ma[r][i].subs(digit_values).subs(k_z_sol).n())\n",
    "        if ri_abs > ii_abs:\n",
    "            row_to_change = r\n",
    "            cur_abs = ri_abs\n",
    "            print(\"row_to_change\", row_to_change)\n",
    "\n",
    "    if row_to_change > -1:\n",
    "        for col in range(i, cols):#+1):\n",
    "            tmp = ma[i][col]\n",
    "            ma[i][col] = ma[row_to_change][col]\n",
    "            ma[row_to_change][col] = tmp\n",
    "\n",
    "    for j in range(i+1, rows):\n",
    "        ratio = ma[j][i]/ma[i][i]\n",
    "         \n",
    "        for k in range(cols):#+1):\n",
    "            ma[j][k] = ma[j][k] - ratio * ma[i][k]\n",
    "\n",
    "M6_RU = matrix(ma)"
   ]
  },
  {
   "cell_type": "raw",
   "metadata": {},
   "source": [
    "disp(M6_RU)"
   ]
  },
  {
   "cell_type": "raw",
   "metadata": {},
   "source": [
    "M8_RU_d = M8_RU.subs(digit_values).subs(k_z_sol).n()\n",
    "M8_RU_d"
   ]
  },
  {
   "cell_type": "raw",
   "metadata": {},
   "source": [
    "# верхнетреугольная матрица системы уравнений на искомые коэффициенты интенсивности полей\n",
    "M6_RU_d = M6_RU.subs(digit_values).subs(k_z_sol).n()\n",
    "disp(M6_RU_d)"
   ]
  },
  {
   "cell_type": "raw",
   "metadata": {},
   "source": [
    "M6_RU_d.det()"
   ]
  },
  {
   "cell_type": "raw",
   "metadata": {},
   "source": [
    "M8_RU_d.det()"
   ]
  },
  {
   "cell_type": "raw",
   "metadata": {},
   "source": [
    "X8 = vector(vars8)\n",
    "X8"
   ]
  },
  {
   "cell_type": "code",
   "execution_count": 247,
   "metadata": {},
   "outputs": [
    {
     "data": {
      "text/latex": [
       "$\\displaystyle \\left(\\mathit{B1}_{\\mathit{zl}},\\,\\mathit{A1}_{x},\\,\\mathit{A1}_{z},\\,\\mathit{A2}_{x},\\,\\mathit{A2}_{z},\\,\\mathit{B1}_{\\mathit{zr}}\\right)$"
      ],
      "text/plain": [
       "<IPython.core.display.Math object>"
      ]
     },
     "metadata": {},
     "output_type": "display_data"
    }
   ],
   "source": [
    "# искомые коэффициенты интенсивности полей\n",
    "X6 = vector(vars6)\n",
    "disp(X6)"
   ]
  },
  {
   "cell_type": "code",
   "execution_count": 248,
   "metadata": {},
   "outputs": [
    {
     "data": {
      "text/latex": [
       "$\\displaystyle \\left(i \\, \\mathit{B1}_{\\mathit{zl}_{\\mathit{im}}} + \\mathit{B1}_{\\mathit{zl}_{\\mathit{re}}},\\,i \\, \\mathit{A1}_{x_{\\mathit{im}}} + \\mathit{A1}_{x_{\\mathit{re}}},\\,i \\, \\mathit{A1}_{z_{\\mathit{im}}} + \\mathit{A1}_{z_{\\mathit{re}}},\\,i \\, \\mathit{A2}_{x_{\\mathit{im}}} + \\mathit{A2}_{x_{\\mathit{re}}},\\,i \\, \\mathit{A2}_{z_{\\mathit{im}}} + \\mathit{A2}_{z_{\\mathit{re}}},\\,i \\, \\mathit{B1}_{\\mathit{zr}_{\\mathit{im}}} + \\mathit{B1}_{\\mathit{zr}_{\\mathit{re}}}\\right)$"
      ],
      "text/plain": [
       "<IPython.core.display.Math object>"
      ]
     },
     "metadata": {},
     "output_type": "display_data"
    }
   ],
   "source": [
    "# искомые коэффициенты интенсивности полей\n",
    "X6_subs = X6.subs(A1_x_re_im_subs).subs(A2_x_re_im_subs) \\\n",
    "        .subs(A1_z_re_im_subs).subs(A2_z_re_im_subs) \\\n",
    "        .subs(B1_zr_re_im_subs).subs(B1_zl_re_im_subs)\n",
    "disp(X6_subs)"
   ]
  },
  {
   "cell_type": "raw",
   "metadata": {},
   "source": [
    "M8_RU_d_X = M8_RU_d*X8"
   ]
  },
  {
   "cell_type": "code",
   "execution_count": 250,
   "metadata": {},
   "outputs": [
    {
     "name": "stdout",
     "output_type": "stream",
     "text": [
      "0 real\n"
     ]
    },
    {
     "data": {
      "text/latex": [
       "$\\displaystyle -\\frac{2.49177161123376 \\times 10^{26} \\, \\pi^{2} \\mathit{B1}_{\\mathit{zl}_{\\mathit{im}}} \\sqrt{{\\left| 6.70603801652677 \\times 10^{25}i \\, \\pi + 8.88314980327947 \\times 10^{14} \\right|}} \\sqrt{{\\left| 74614.7357498621i \\, \\pi - 6.238485647791859 \\times 10^{-07} - 5.6924348668883825 \\times 10^{-06}i \\right|}} \\cos\\left(\\frac{1}{2} \\, \\arctan\\left(7.54916686652188 \\times 10^{10} \\, \\pi\\right)\\right) \\cos\\left(\\frac{1}{2} \\, \\arctan\\left(74614.7357498621 \\, \\pi - 5.6924348668883825 \\times 10^{-06}, -6.238485647791859 \\times 10^{-07}\\right)\\right)}{-7.63473692479120 \\times 10^{20} \\, \\pi + 5.63279090877144 \\times 10^{15} \\, \\pi^{2} {\\left| 6.70603801652677 \\times 10^{25}i \\, \\pi + 8.88314980327947 \\times 10^{14} \\right|} \\cos\\left(\\frac{1}{2} \\, \\arctan\\left(7.54916686652188 \\times 10^{10} \\, \\pi\\right)\\right)^{2} + 5.63279090877144 \\times 10^{15} \\, \\pi^{2} {\\left| 6.70603801652677 \\times 10^{25}i \\, \\pi + 8.88314980327947 \\times 10^{14} \\right|} \\sin\\left(\\frac{1}{2} \\, \\arctan\\left(7.54916686652188 \\times 10^{10} \\, \\pi\\right)\\right)^{2} + 3.35766310874379 \\times 10^{23} \\, \\pi^{2} \\sqrt{{\\left| 6.70603801652677 \\times 10^{25}i \\, \\pi + 8.88314980327947 \\times 10^{14} \\right|}} \\cos\\left(\\frac{1}{2} \\, \\arctan\\left(7.54916686652188 \\times 10^{10} \\, \\pi\\right)\\right) - 2.56159569009977 \\times 10^{13} \\, \\pi \\sqrt{{\\left| 6.70603801652677 \\times 10^{25}i \\, \\pi + 8.88314980327947 \\times 10^{14} \\right|}} \\cos\\left(\\frac{1}{2} \\, \\arctan\\left(7.54916686652188 \\times 10^{10} \\, \\pi\\right)\\right) + 2.80731854150634 \\times 10^{12} \\, \\pi \\sqrt{{\\left| 6.70603801652677 \\times 10^{25}i \\, \\pi + 8.88314980327947 \\times 10^{14} \\right|}} \\sin\\left(\\frac{1}{2} \\, \\arctan\\left(7.54916686652188 \\times 10^{10} \\, \\pi\\right)\\right) + 5.00369254531674 \\times 10^{30} \\, \\pi^{2} + 29472880145.13282} + \\frac{3.29551222678527 \\times 10^{26} \\, \\pi^{2} \\mathit{B1}_{\\mathit{zl}_{\\mathit{re}}} \\sqrt{{\\left| 6.70603801652677 \\times 10^{25}i \\, \\pi + 8.88314980327947 \\times 10^{14} \\right|}} \\sqrt{{\\left| 74614.7357498621i \\, \\pi - 6.238485647791859 \\times 10^{-07} - 5.6924348668883825 \\times 10^{-06}i \\right|}} \\cos\\left(\\frac{1}{2} \\, \\arctan\\left(7.54916686652188 \\times 10^{10} \\, \\pi\\right)\\right) \\cos\\left(\\frac{1}{2} \\, \\arctan\\left(74614.7357498621 \\, \\pi - 5.6924348668883825 \\times 10^{-06}, -6.238485647791859 \\times 10^{-07}\\right)\\right)}{-7.63473692479120 \\times 10^{20} \\, \\pi + 5.63279090877144 \\times 10^{15} \\, \\pi^{2} {\\left| 6.70603801652677 \\times 10^{25}i \\, \\pi + 8.88314980327947 \\times 10^{14} \\right|} \\cos\\left(\\frac{1}{2} \\, \\arctan\\left(7.54916686652188 \\times 10^{10} \\, \\pi\\right)\\right)^{2} + 5.63279090877144 \\times 10^{15} \\, \\pi^{2} {\\left| 6.70603801652677 \\times 10^{25}i \\, \\pi + 8.88314980327947 \\times 10^{14} \\right|} \\sin\\left(\\frac{1}{2} \\, \\arctan\\left(7.54916686652188 \\times 10^{10} \\, \\pi\\right)\\right)^{2} + 3.35766310874379 \\times 10^{23} \\, \\pi^{2} \\sqrt{{\\left| 6.70603801652677 \\times 10^{25}i \\, \\pi + 8.88314980327947 \\times 10^{14} \\right|}} \\cos\\left(\\frac{1}{2} \\, \\arctan\\left(7.54916686652188 \\times 10^{10} \\, \\pi\\right)\\right) - 2.56159569009977 \\times 10^{13} \\, \\pi \\sqrt{{\\left| 6.70603801652677 \\times 10^{25}i \\, \\pi + 8.88314980327947 \\times 10^{14} \\right|}} \\cos\\left(\\frac{1}{2} \\, \\arctan\\left(7.54916686652188 \\times 10^{10} \\, \\pi\\right)\\right) + 2.80731854150634 \\times 10^{12} \\, \\pi \\sqrt{{\\left| 6.70603801652677 \\times 10^{25}i \\, \\pi + 8.88314980327947 \\times 10^{14} \\right|}} \\sin\\left(\\frac{1}{2} \\, \\arctan\\left(7.54916686652188 \\times 10^{10} \\, \\pi\\right)\\right) + 5.00369254531674 \\times 10^{30} \\, \\pi^{2} + 29472880145.13282} + \\frac{3.29551222678527 \\times 10^{26} \\, \\pi^{2} \\mathit{B1}_{\\mathit{zl}_{\\mathit{im}}} \\sqrt{{\\left| 6.70603801652677 \\times 10^{25}i \\, \\pi + 8.88314980327947 \\times 10^{14} \\right|}} \\sqrt{{\\left| 74614.7357498621i \\, \\pi - 6.238485647791859 \\times 10^{-07} - 5.6924348668883825 \\times 10^{-06}i \\right|}} \\cos\\left(\\frac{1}{2} \\, \\arctan\\left(74614.7357498621 \\, \\pi - 5.6924348668883825 \\times 10^{-06}, -6.238485647791859 \\times 10^{-07}\\right)\\right) \\sin\\left(\\frac{1}{2} \\, \\arctan\\left(7.54916686652188 \\times 10^{10} \\, \\pi\\right)\\right)}{-7.63473692479120 \\times 10^{20} \\, \\pi + 5.63279090877144 \\times 10^{15} \\, \\pi^{2} {\\left| 6.70603801652677 \\times 10^{25}i \\, \\pi + 8.88314980327947 \\times 10^{14} \\right|} \\cos\\left(\\frac{1}{2} \\, \\arctan\\left(7.54916686652188 \\times 10^{10} \\, \\pi\\right)\\right)^{2} + 5.63279090877144 \\times 10^{15} \\, \\pi^{2} {\\left| 6.70603801652677 \\times 10^{25}i \\, \\pi + 8.88314980327947 \\times 10^{14} \\right|} \\sin\\left(\\frac{1}{2} \\, \\arctan\\left(7.54916686652188 \\times 10^{10} \\, \\pi\\right)\\right)^{2} + 3.35766310874379 \\times 10^{23} \\, \\pi^{2} \\sqrt{{\\left| 6.70603801652677 \\times 10^{25}i \\, \\pi + 8.88314980327947 \\times 10^{14} \\right|}} \\cos\\left(\\frac{1}{2} \\, \\arctan\\left(7.54916686652188 \\times 10^{10} \\, \\pi\\right)\\right) - 2.56159569009977 \\times 10^{13} \\, \\pi \\sqrt{{\\left| 6.70603801652677 \\times 10^{25}i \\, \\pi + 8.88314980327947 \\times 10^{14} \\right|}} \\cos\\left(\\frac{1}{2} \\, \\arctan\\left(7.54916686652188 \\times 10^{10} \\, \\pi\\right)\\right) + 2.80731854150634 \\times 10^{12} \\, \\pi \\sqrt{{\\left| 6.70603801652677 \\times 10^{25}i \\, \\pi + 8.88314980327947 \\times 10^{14} \\right|}} \\sin\\left(\\frac{1}{2} \\, \\arctan\\left(7.54916686652188 \\times 10^{10} \\, \\pi\\right)\\right) + 5.00369254531674 \\times 10^{30} \\, \\pi^{2} + 29472880145.13282} + \\frac{2.49177161123376 \\times 10^{26} \\, \\pi^{2} \\mathit{B1}_{\\mathit{zl}_{\\mathit{re}}} \\sqrt{{\\left| 6.70603801652677 \\times 10^{25}i \\, \\pi + 8.88314980327947 \\times 10^{14} \\right|}} \\sqrt{{\\left| 74614.7357498621i \\, \\pi - 6.238485647791859 \\times 10^{-07} - 5.6924348668883825 \\times 10^{-06}i \\right|}} \\cos\\left(\\frac{1}{2} \\, \\arctan\\left(74614.7357498621 \\, \\pi - 5.6924348668883825 \\times 10^{-06}, -6.238485647791859 \\times 10^{-07}\\right)\\right) \\sin\\left(\\frac{1}{2} \\, \\arctan\\left(7.54916686652188 \\times 10^{10} \\, \\pi\\right)\\right)}{-7.63473692479120 \\times 10^{20} \\, \\pi + 5.63279090877144 \\times 10^{15} \\, \\pi^{2} {\\left| 6.70603801652677 \\times 10^{25}i \\, \\pi + 8.88314980327947 \\times 10^{14} \\right|} \\cos\\left(\\frac{1}{2} \\, \\arctan\\left(7.54916686652188 \\times 10^{10} \\, \\pi\\right)\\right)^{2} + 5.63279090877144 \\times 10^{15} \\, \\pi^{2} {\\left| 6.70603801652677 \\times 10^{25}i \\, \\pi + 8.88314980327947 \\times 10^{14} \\right|} \\sin\\left(\\frac{1}{2} \\, \\arctan\\left(7.54916686652188 \\times 10^{10} \\, \\pi\\right)\\right)^{2} + 3.35766310874379 \\times 10^{23} \\, \\pi^{2} \\sqrt{{\\left| 6.70603801652677 \\times 10^{25}i \\, \\pi + 8.88314980327947 \\times 10^{14} \\right|}} \\cos\\left(\\frac{1}{2} \\, \\arctan\\left(7.54916686652188 \\times 10^{10} \\, \\pi\\right)\\right) - 2.56159569009977 \\times 10^{13} \\, \\pi \\sqrt{{\\left| 6.70603801652677 \\times 10^{25}i \\, \\pi + 8.88314980327947 \\times 10^{14} \\right|}} \\cos\\left(\\frac{1}{2} \\, \\arctan\\left(7.54916686652188 \\times 10^{10} \\, \\pi\\right)\\right) + 2.80731854150634 \\times 10^{12} \\, \\pi \\sqrt{{\\left| 6.70603801652677 \\times 10^{25}i \\, \\pi + 8.88314980327947 \\times 10^{14} \\right|}} \\sin\\left(\\frac{1}{2} \\, \\arctan\\left(7.54916686652188 \\times 10^{10} \\, \\pi\\right)\\right) + 5.00369254531674 \\times 10^{30} \\, \\pi^{2} + 29472880145.13282} - \\frac{3.29551222678527 \\times 10^{26} \\, \\pi^{2} \\mathit{B1}_{\\mathit{zl}_{\\mathit{im}}} \\sqrt{{\\left| 6.70603801652677 \\times 10^{25}i \\, \\pi + 8.88314980327947 \\times 10^{14} \\right|}} \\sqrt{{\\left| 74614.7357498621i \\, \\pi - 6.238485647791859 \\times 10^{-07} - 5.6924348668883825 \\times 10^{-06}i \\right|}} \\cos\\left(\\frac{1}{2} \\, \\arctan\\left(7.54916686652188 \\times 10^{10} \\, \\pi\\right)\\right) \\sin\\left(\\frac{1}{2} \\, \\arctan\\left(74614.7357498621 \\, \\pi - 5.6924348668883825 \\times 10^{-06}, -6.238485647791859 \\times 10^{-07}\\right)\\right)}{-7.63473692479120 \\times 10^{20} \\, \\pi + 5.63279090877144 \\times 10^{15} \\, \\pi^{2} {\\left| 6.70603801652677 \\times 10^{25}i \\, \\pi + 8.88314980327947 \\times 10^{14} \\right|} \\cos\\left(\\frac{1}{2} \\, \\arctan\\left(7.54916686652188 \\times 10^{10} \\, \\pi\\right)\\right)^{2} + 5.63279090877144 \\times 10^{15} \\, \\pi^{2} {\\left| 6.70603801652677 \\times 10^{25}i \\, \\pi + 8.88314980327947 \\times 10^{14} \\right|} \\sin\\left(\\frac{1}{2} \\, \\arctan\\left(7.54916686652188 \\times 10^{10} \\, \\pi\\right)\\right)^{2} + 3.35766310874379 \\times 10^{23} \\, \\pi^{2} \\sqrt{{\\left| 6.70603801652677 \\times 10^{25}i \\, \\pi + 8.88314980327947 \\times 10^{14} \\right|}} \\cos\\left(\\frac{1}{2} \\, \\arctan\\left(7.54916686652188 \\times 10^{10} \\, \\pi\\right)\\right) - 2.56159569009977 \\times 10^{13} \\, \\pi \\sqrt{{\\left| 6.70603801652677 \\times 10^{25}i \\, \\pi + 8.88314980327947 \\times 10^{14} \\right|}} \\cos\\left(\\frac{1}{2} \\, \\arctan\\left(7.54916686652188 \\times 10^{10} \\, \\pi\\right)\\right) + 2.80731854150634 \\times 10^{12} \\, \\pi \\sqrt{{\\left| 6.70603801652677 \\times 10^{25}i \\, \\pi + 8.88314980327947 \\times 10^{14} \\right|}} \\sin\\left(\\frac{1}{2} \\, \\arctan\\left(7.54916686652188 \\times 10^{10} \\, \\pi\\right)\\right) + 5.00369254531674 \\times 10^{30} \\, \\pi^{2} + 29472880145.13282} - \\frac{2.49177161123376 \\times 10^{26} \\, \\pi^{2} \\mathit{B1}_{\\mathit{zl}_{\\mathit{re}}} \\sqrt{{\\left| 6.70603801652677 \\times 10^{25}i \\, \\pi + 8.88314980327947 \\times 10^{14} \\right|}} \\sqrt{{\\left| 74614.7357498621i \\, \\pi - 6.238485647791859 \\times 10^{-07} - 5.6924348668883825 \\times 10^{-06}i \\right|}} \\cos\\left(\\frac{1}{2} \\, \\arctan\\left(7.54916686652188 \\times 10^{10} \\, \\pi\\right)\\right) \\sin\\left(\\frac{1}{2} \\, \\arctan\\left(74614.7357498621 \\, \\pi - 5.6924348668883825 \\times 10^{-06}, -6.238485647791859 \\times 10^{-07}\\right)\\right)}{-7.63473692479120 \\times 10^{20} \\, \\pi + 5.63279090877144 \\times 10^{15} \\, \\pi^{2} {\\left| 6.70603801652677 \\times 10^{25}i \\, \\pi + 8.88314980327947 \\times 10^{14} \\right|} \\cos\\left(\\frac{1}{2} \\, \\arctan\\left(7.54916686652188 \\times 10^{10} \\, \\pi\\right)\\right)^{2} + 5.63279090877144 \\times 10^{15} \\, \\pi^{2} {\\left| 6.70603801652677 \\times 10^{25}i \\, \\pi + 8.88314980327947 \\times 10^{14} \\right|} \\sin\\left(\\frac{1}{2} \\, \\arctan\\left(7.54916686652188 \\times 10^{10} \\, \\pi\\right)\\right)^{2} + 3.35766310874379 \\times 10^{23} \\, \\pi^{2} \\sqrt{{\\left| 6.70603801652677 \\times 10^{25}i \\, \\pi + 8.88314980327947 \\times 10^{14} \\right|}} \\cos\\left(\\frac{1}{2} \\, \\arctan\\left(7.54916686652188 \\times 10^{10} \\, \\pi\\right)\\right) - 2.56159569009977 \\times 10^{13} \\, \\pi \\sqrt{{\\left| 6.70603801652677 \\times 10^{25}i \\, \\pi + 8.88314980327947 \\times 10^{14} \\right|}} \\cos\\left(\\frac{1}{2} \\, \\arctan\\left(7.54916686652188 \\times 10^{10} \\, \\pi\\right)\\right) + 2.80731854150634 \\times 10^{12} \\, \\pi \\sqrt{{\\left| 6.70603801652677 \\times 10^{25}i \\, \\pi + 8.88314980327947 \\times 10^{14} \\right|}} \\sin\\left(\\frac{1}{2} \\, \\arctan\\left(7.54916686652188 \\times 10^{10} \\, \\pi\\right)\\right) + 5.00369254531674 \\times 10^{30} \\, \\pi^{2} + 29472880145.13282} - \\frac{2.49177161123376 \\times 10^{26} \\, \\pi^{2} \\mathit{B1}_{\\mathit{zl}_{\\mathit{im}}} \\sqrt{{\\left| 6.70603801652677 \\times 10^{25}i \\, \\pi + 8.88314980327947 \\times 10^{14} \\right|}} \\sqrt{{\\left| 74614.7357498621i \\, \\pi - 6.238485647791859 \\times 10^{-07} - 5.6924348668883825 \\times 10^{-06}i \\right|}} \\sin\\left(\\frac{1}{2} \\, \\arctan\\left(7.54916686652188 \\times 10^{10} \\, \\pi\\right)\\right) \\sin\\left(\\frac{1}{2} \\, \\arctan\\left(74614.7357498621 \\, \\pi - 5.6924348668883825 \\times 10^{-06}, -6.238485647791859 \\times 10^{-07}\\right)\\right)}{-7.63473692479120 \\times 10^{20} \\, \\pi + 5.63279090877144 \\times 10^{15} \\, \\pi^{2} {\\left| 6.70603801652677 \\times 10^{25}i \\, \\pi + 8.88314980327947 \\times 10^{14} \\right|} \\cos\\left(\\frac{1}{2} \\, \\arctan\\left(7.54916686652188 \\times 10^{10} \\, \\pi\\right)\\right)^{2} + 5.63279090877144 \\times 10^{15} \\, \\pi^{2} {\\left| 6.70603801652677 \\times 10^{25}i \\, \\pi + 8.88314980327947 \\times 10^{14} \\right|} \\sin\\left(\\frac{1}{2} \\, \\arctan\\left(7.54916686652188 \\times 10^{10} \\, \\pi\\right)\\right)^{2} + 3.35766310874379 \\times 10^{23} \\, \\pi^{2} \\sqrt{{\\left| 6.70603801652677 \\times 10^{25}i \\, \\pi + 8.88314980327947 \\times 10^{14} \\right|}} \\cos\\left(\\frac{1}{2} \\, \\arctan\\left(7.54916686652188 \\times 10^{10} \\, \\pi\\right)\\right) - 2.56159569009977 \\times 10^{13} \\, \\pi \\sqrt{{\\left| 6.70603801652677 \\times 10^{25}i \\, \\pi + 8.88314980327947 \\times 10^{14} \\right|}} \\cos\\left(\\frac{1}{2} \\, \\arctan\\left(7.54916686652188 \\times 10^{10} \\, \\pi\\right)\\right) + 2.80731854150634 \\times 10^{12} \\, \\pi \\sqrt{{\\left| 6.70603801652677 \\times 10^{25}i \\, \\pi + 8.88314980327947 \\times 10^{14} \\right|}} \\sin\\left(\\frac{1}{2} \\, \\arctan\\left(7.54916686652188 \\times 10^{10} \\, \\pi\\right)\\right) + 5.00369254531674 \\times 10^{30} \\, \\pi^{2} + 29472880145.13282} + \\frac{3.29551222678527 \\times 10^{26} \\, \\pi^{2} \\mathit{B1}_{\\mathit{zl}_{\\mathit{re}}} \\sqrt{{\\left| 6.70603801652677 \\times 10^{25}i \\, \\pi + 8.88314980327947 \\times 10^{14} \\right|}} \\sqrt{{\\left| 74614.7357498621i \\, \\pi - 6.238485647791859 \\times 10^{-07} - 5.6924348668883825 \\times 10^{-06}i \\right|}} \\sin\\left(\\frac{1}{2} \\, \\arctan\\left(7.54916686652188 \\times 10^{10} \\, \\pi\\right)\\right) \\sin\\left(\\frac{1}{2} \\, \\arctan\\left(74614.7357498621 \\, \\pi - 5.6924348668883825 \\times 10^{-06}, -6.238485647791859 \\times 10^{-07}\\right)\\right)}{-7.63473692479120 \\times 10^{20} \\, \\pi + 5.63279090877144 \\times 10^{15} \\, \\pi^{2} {\\left| 6.70603801652677 \\times 10^{25}i \\, \\pi + 8.88314980327947 \\times 10^{14} \\right|} \\cos\\left(\\frac{1}{2} \\, \\arctan\\left(7.54916686652188 \\times 10^{10} \\, \\pi\\right)\\right)^{2} + 5.63279090877144 \\times 10^{15} \\, \\pi^{2} {\\left| 6.70603801652677 \\times 10^{25}i \\, \\pi + 8.88314980327947 \\times 10^{14} \\right|} \\sin\\left(\\frac{1}{2} \\, \\arctan\\left(7.54916686652188 \\times 10^{10} \\, \\pi\\right)\\right)^{2} + 3.35766310874379 \\times 10^{23} \\, \\pi^{2} \\sqrt{{\\left| 6.70603801652677 \\times 10^{25}i \\, \\pi + 8.88314980327947 \\times 10^{14} \\right|}} \\cos\\left(\\frac{1}{2} \\, \\arctan\\left(7.54916686652188 \\times 10^{10} \\, \\pi\\right)\\right) - 2.56159569009977 \\times 10^{13} \\, \\pi \\sqrt{{\\left| 6.70603801652677 \\times 10^{25}i \\, \\pi + 8.88314980327947 \\times 10^{14} \\right|}} \\cos\\left(\\frac{1}{2} \\, \\arctan\\left(7.54916686652188 \\times 10^{10} \\, \\pi\\right)\\right) + 2.80731854150634 \\times 10^{12} \\, \\pi \\sqrt{{\\left| 6.70603801652677 \\times 10^{25}i \\, \\pi + 8.88314980327947 \\times 10^{14} \\right|}} \\sin\\left(\\frac{1}{2} \\, \\arctan\\left(7.54916686652188 \\times 10^{10} \\, \\pi\\right)\\right) + 5.00369254531674 \\times 10^{30} \\, \\pi^{2} + 29472880145.13282} + \\frac{4.36539857318534 \\times 10^{15} \\, \\pi \\mathit{B1}_{\\mathit{zl}_{\\mathit{im}}} \\sqrt{{\\left| 6.70603801652677 \\times 10^{25}i \\, \\pi + 8.88314980327947 \\times 10^{14} \\right|}} \\sqrt{{\\left| 74614.7357498621i \\, \\pi - 6.238485647791859 \\times 10^{-07} - 5.6924348668883825 \\times 10^{-06}i \\right|}} \\cos\\left(\\frac{1}{2} \\, \\arctan\\left(7.54916686652188 \\times 10^{10} \\, \\pi\\right)\\right) \\cos\\left(\\frac{1}{2} \\, \\arctan\\left(74614.7357498621 \\, \\pi - 5.6924348668883825 \\times 10^{-06}, -6.238485647791859 \\times 10^{-07}\\right)\\right)}{-7.63473692479120 \\times 10^{20} \\, \\pi + 5.63279090877144 \\times 10^{15} \\, \\pi^{2} {\\left| 6.70603801652677 \\times 10^{25}i \\, \\pi + 8.88314980327947 \\times 10^{14} \\right|} \\cos\\left(\\frac{1}{2} \\, \\arctan\\left(7.54916686652188 \\times 10^{10} \\, \\pi\\right)\\right)^{2} + 5.63279090877144 \\times 10^{15} \\, \\pi^{2} {\\left| 6.70603801652677 \\times 10^{25}i \\, \\pi + 8.88314980327947 \\times 10^{14} \\right|} \\sin\\left(\\frac{1}{2} \\, \\arctan\\left(7.54916686652188 \\times 10^{10} \\, \\pi\\right)\\right)^{2} + 3.35766310874379 \\times 10^{23} \\, \\pi^{2} \\sqrt{{\\left| 6.70603801652677 \\times 10^{25}i \\, \\pi + 8.88314980327947 \\times 10^{14} \\right|}} \\cos\\left(\\frac{1}{2} \\, \\arctan\\left(7.54916686652188 \\times 10^{10} \\, \\pi\\right)\\right) - 2.56159569009977 \\times 10^{13} \\, \\pi \\sqrt{{\\left| 6.70603801652677 \\times 10^{25}i \\, \\pi + 8.88314980327947 \\times 10^{14} \\right|}} \\cos\\left(\\frac{1}{2} \\, \\arctan\\left(7.54916686652188 \\times 10^{10} \\, \\pi\\right)\\right) + 2.80731854150634 \\times 10^{12} \\, \\pi \\sqrt{{\\left| 6.70603801652677 \\times 10^{25}i \\, \\pi + 8.88314980327947 \\times 10^{14} \\right|}} \\sin\\left(\\frac{1}{2} \\, \\arctan\\left(7.54916686652188 \\times 10^{10} \\, \\pi\\right)\\right) + 5.00369254531674 \\times 10^{30} \\, \\pi^{2} + 29472880145.13282} + \\frac{3.30072398092559 \\times 10^{15} \\, \\pi \\mathit{B1}_{\\mathit{zl}_{\\mathit{re}}} \\sqrt{{\\left| 6.70603801652677 \\times 10^{25}i \\, \\pi + 8.88314980327947 \\times 10^{14} \\right|}} \\sqrt{{\\left| 74614.7357498621i \\, \\pi - 6.238485647791859 \\times 10^{-07} - 5.6924348668883825 \\times 10^{-06}i \\right|}} \\cos\\left(\\frac{1}{2} \\, \\arctan\\left(7.54916686652188 \\times 10^{10} \\, \\pi\\right)\\right) \\cos\\left(\\frac{1}{2} \\, \\arctan\\left(74614.7357498621 \\, \\pi - 5.6924348668883825 \\times 10^{-06}, -6.238485647791859 \\times 10^{-07}\\right)\\right)}{-7.63473692479120 \\times 10^{20} \\, \\pi + 5.63279090877144 \\times 10^{15} \\, \\pi^{2} {\\left| 6.70603801652677 \\times 10^{25}i \\, \\pi + 8.88314980327947 \\times 10^{14} \\right|} \\cos\\left(\\frac{1}{2} \\, \\arctan\\left(7.54916686652188 \\times 10^{10} \\, \\pi\\right)\\right)^{2} + 5.63279090877144 \\times 10^{15} \\, \\pi^{2} {\\left| 6.70603801652677 \\times 10^{25}i \\, \\pi + 8.88314980327947 \\times 10^{14} \\right|} \\sin\\left(\\frac{1}{2} \\, \\arctan\\left(7.54916686652188 \\times 10^{10} \\, \\pi\\right)\\right)^{2} + 3.35766310874379 \\times 10^{23} \\, \\pi^{2} \\sqrt{{\\left| 6.70603801652677 \\times 10^{25}i \\, \\pi + 8.88314980327947 \\times 10^{14} \\right|}} \\cos\\left(\\frac{1}{2} \\, \\arctan\\left(7.54916686652188 \\times 10^{10} \\, \\pi\\right)\\right) - 2.56159569009977 \\times 10^{13} \\, \\pi \\sqrt{{\\left| 6.70603801652677 \\times 10^{25}i \\, \\pi + 8.88314980327947 \\times 10^{14} \\right|}} \\cos\\left(\\frac{1}{2} \\, \\arctan\\left(7.54916686652188 \\times 10^{10} \\, \\pi\\right)\\right) + 2.80731854150634 \\times 10^{12} \\, \\pi \\sqrt{{\\left| 6.70603801652677 \\times 10^{25}i \\, \\pi + 8.88314980327947 \\times 10^{14} \\right|}} \\sin\\left(\\frac{1}{2} \\, \\arctan\\left(7.54916686652188 \\times 10^{10} \\, \\pi\\right)\\right) + 5.00369254531674 \\times 10^{30} \\, \\pi^{2} + 29472880145.13282} + \\frac{3.30072398092559 \\times 10^{15} \\, \\pi \\mathit{B1}_{\\mathit{zl}_{\\mathit{im}}} \\sqrt{{\\left| 6.70603801652677 \\times 10^{25}i \\, \\pi + 8.88314980327947 \\times 10^{14} \\right|}} \\sqrt{{\\left| 74614.7357498621i \\, \\pi - 6.238485647791859 \\times 10^{-07} - 5.6924348668883825 \\times 10^{-06}i \\right|}} \\cos\\left(\\frac{1}{2} \\, \\arctan\\left(74614.7357498621 \\, \\pi - 5.6924348668883825 \\times 10^{-06}, -6.238485647791859 \\times 10^{-07}\\right)\\right) \\sin\\left(\\frac{1}{2} \\, \\arctan\\left(7.54916686652188 \\times 10^{10} \\, \\pi\\right)\\right)}{-7.63473692479120 \\times 10^{20} \\, \\pi + 5.63279090877144 \\times 10^{15} \\, \\pi^{2} {\\left| 6.70603801652677 \\times 10^{25}i \\, \\pi + 8.88314980327947 \\times 10^{14} \\right|} \\cos\\left(\\frac{1}{2} \\, \\arctan\\left(7.54916686652188 \\times 10^{10} \\, \\pi\\right)\\right)^{2} + 5.63279090877144 \\times 10^{15} \\, \\pi^{2} {\\left| 6.70603801652677 \\times 10^{25}i \\, \\pi + 8.88314980327947 \\times 10^{14} \\right|} \\sin\\left(\\frac{1}{2} \\, \\arctan\\left(7.54916686652188 \\times 10^{10} \\, \\pi\\right)\\right)^{2} + 3.35766310874379 \\times 10^{23} \\, \\pi^{2} \\sqrt{{\\left| 6.70603801652677 \\times 10^{25}i \\, \\pi + 8.88314980327947 \\times 10^{14} \\right|}} \\cos\\left(\\frac{1}{2} \\, \\arctan\\left(7.54916686652188 \\times 10^{10} \\, \\pi\\right)\\right) - 2.56159569009977 \\times 10^{13} \\, \\pi \\sqrt{{\\left| 6.70603801652677 \\times 10^{25}i \\, \\pi + 8.88314980327947 \\times 10^{14} \\right|}} \\cos\\left(\\frac{1}{2} \\, \\arctan\\left(7.54916686652188 \\times 10^{10} \\, \\pi\\right)\\right) + 2.80731854150634 \\times 10^{12} \\, \\pi \\sqrt{{\\left| 6.70603801652677 \\times 10^{25}i \\, \\pi + 8.88314980327947 \\times 10^{14} \\right|}} \\sin\\left(\\frac{1}{2} \\, \\arctan\\left(7.54916686652188 \\times 10^{10} \\, \\pi\\right)\\right) + 5.00369254531674 \\times 10^{30} \\, \\pi^{2} + 29472880145.13282} - \\frac{4.36539857318534 \\times 10^{15} \\, \\pi \\mathit{B1}_{\\mathit{zl}_{\\mathit{re}}} \\sqrt{{\\left| 6.70603801652677 \\times 10^{25}i \\, \\pi + 8.88314980327947 \\times 10^{14} \\right|}} \\sqrt{{\\left| 74614.7357498621i \\, \\pi - 6.238485647791859 \\times 10^{-07} - 5.6924348668883825 \\times 10^{-06}i \\right|}} \\cos\\left(\\frac{1}{2} \\, \\arctan\\left(74614.7357498621 \\, \\pi - 5.6924348668883825 \\times 10^{-06}, -6.238485647791859 \\times 10^{-07}\\right)\\right) \\sin\\left(\\frac{1}{2} \\, \\arctan\\left(7.54916686652188 \\times 10^{10} \\, \\pi\\right)\\right)}{-7.63473692479120 \\times 10^{20} \\, \\pi + 5.63279090877144 \\times 10^{15} \\, \\pi^{2} {\\left| 6.70603801652677 \\times 10^{25}i \\, \\pi + 8.88314980327947 \\times 10^{14} \\right|} \\cos\\left(\\frac{1}{2} \\, \\arctan\\left(7.54916686652188 \\times 10^{10} \\, \\pi\\right)\\right)^{2} + 5.63279090877144 \\times 10^{15} \\, \\pi^{2} {\\left| 6.70603801652677 \\times 10^{25}i \\, \\pi + 8.88314980327947 \\times 10^{14} \\right|} \\sin\\left(\\frac{1}{2} \\, \\arctan\\left(7.54916686652188 \\times 10^{10} \\, \\pi\\right)\\right)^{2} + 3.35766310874379 \\times 10^{23} \\, \\pi^{2} \\sqrt{{\\left| 6.70603801652677 \\times 10^{25}i \\, \\pi + 8.88314980327947 \\times 10^{14} \\right|}} \\cos\\left(\\frac{1}{2} \\, \\arctan\\left(7.54916686652188 \\times 10^{10} \\, \\pi\\right)\\right) - 2.56159569009977 \\times 10^{13} \\, \\pi \\sqrt{{\\left| 6.70603801652677 \\times 10^{25}i \\, \\pi + 8.88314980327947 \\times 10^{14} \\right|}} \\cos\\left(\\frac{1}{2} \\, \\arctan\\left(7.54916686652188 \\times 10^{10} \\, \\pi\\right)\\right) + 2.80731854150634 \\times 10^{12} \\, \\pi \\sqrt{{\\left| 6.70603801652677 \\times 10^{25}i \\, \\pi + 8.88314980327947 \\times 10^{14} \\right|}} \\sin\\left(\\frac{1}{2} \\, \\arctan\\left(7.54916686652188 \\times 10^{10} \\, \\pi\\right)\\right) + 5.00369254531674 \\times 10^{30} \\, \\pi^{2} + 29472880145.13282} - \\frac{3.30072398092559 \\times 10^{15} \\, \\pi \\mathit{B1}_{\\mathit{zl}_{\\mathit{im}}} \\sqrt{{\\left| 6.70603801652677 \\times 10^{25}i \\, \\pi + 8.88314980327947 \\times 10^{14} \\right|}} \\sqrt{{\\left| 74614.7357498621i \\, \\pi - 6.238485647791859 \\times 10^{-07} - 5.6924348668883825 \\times 10^{-06}i \\right|}} \\cos\\left(\\frac{1}{2} \\, \\arctan\\left(7.54916686652188 \\times 10^{10} \\, \\pi\\right)\\right) \\sin\\left(\\frac{1}{2} \\, \\arctan\\left(74614.7357498621 \\, \\pi - 5.6924348668883825 \\times 10^{-06}, -6.238485647791859 \\times 10^{-07}\\right)\\right)}{-7.63473692479120 \\times 10^{20} \\, \\pi + 5.63279090877144 \\times 10^{15} \\, \\pi^{2} {\\left| 6.70603801652677 \\times 10^{25}i \\, \\pi + 8.88314980327947 \\times 10^{14} \\right|} \\cos\\left(\\frac{1}{2} \\, \\arctan\\left(7.54916686652188 \\times 10^{10} \\, \\pi\\right)\\right)^{2} + 5.63279090877144 \\times 10^{15} \\, \\pi^{2} {\\left| 6.70603801652677 \\times 10^{25}i \\, \\pi + 8.88314980327947 \\times 10^{14} \\right|} \\sin\\left(\\frac{1}{2} \\, \\arctan\\left(7.54916686652188 \\times 10^{10} \\, \\pi\\right)\\right)^{2} + 3.35766310874379 \\times 10^{23} \\, \\pi^{2} \\sqrt{{\\left| 6.70603801652677 \\times 10^{25}i \\, \\pi + 8.88314980327947 \\times 10^{14} \\right|}} \\cos\\left(\\frac{1}{2} \\, \\arctan\\left(7.54916686652188 \\times 10^{10} \\, \\pi\\right)\\right) - 2.56159569009977 \\times 10^{13} \\, \\pi \\sqrt{{\\left| 6.70603801652677 \\times 10^{25}i \\, \\pi + 8.88314980327947 \\times 10^{14} \\right|}} \\cos\\left(\\frac{1}{2} \\, \\arctan\\left(7.54916686652188 \\times 10^{10} \\, \\pi\\right)\\right) + 2.80731854150634 \\times 10^{12} \\, \\pi \\sqrt{{\\left| 6.70603801652677 \\times 10^{25}i \\, \\pi + 8.88314980327947 \\times 10^{14} \\right|}} \\sin\\left(\\frac{1}{2} \\, \\arctan\\left(7.54916686652188 \\times 10^{10} \\, \\pi\\right)\\right) + 5.00369254531674 \\times 10^{30} \\, \\pi^{2} + 29472880145.13282} + \\frac{4.36539857318534 \\times 10^{15} \\, \\pi \\mathit{B1}_{\\mathit{zl}_{\\mathit{re}}} \\sqrt{{\\left| 6.70603801652677 \\times 10^{25}i \\, \\pi + 8.88314980327947 \\times 10^{14} \\right|}} \\sqrt{{\\left| 74614.7357498621i \\, \\pi - 6.238485647791859 \\times 10^{-07} - 5.6924348668883825 \\times 10^{-06}i \\right|}} \\cos\\left(\\frac{1}{2} \\, \\arctan\\left(7.54916686652188 \\times 10^{10} \\, \\pi\\right)\\right) \\sin\\left(\\frac{1}{2} \\, \\arctan\\left(74614.7357498621 \\, \\pi - 5.6924348668883825 \\times 10^{-06}, -6.238485647791859 \\times 10^{-07}\\right)\\right)}{-7.63473692479120 \\times 10^{20} \\, \\pi + 5.63279090877144 \\times 10^{15} \\, \\pi^{2} {\\left| 6.70603801652677 \\times 10^{25}i \\, \\pi + 8.88314980327947 \\times 10^{14} \\right|} \\cos\\left(\\frac{1}{2} \\, \\arctan\\left(7.54916686652188 \\times 10^{10} \\, \\pi\\right)\\right)^{2} + 5.63279090877144 \\times 10^{15} \\, \\pi^{2} {\\left| 6.70603801652677 \\times 10^{25}i \\, \\pi + 8.88314980327947 \\times 10^{14} \\right|} \\sin\\left(\\frac{1}{2} \\, \\arctan\\left(7.54916686652188 \\times 10^{10} \\, \\pi\\right)\\right)^{2} + 3.35766310874379 \\times 10^{23} \\, \\pi^{2} \\sqrt{{\\left| 6.70603801652677 \\times 10^{25}i \\, \\pi + 8.88314980327947 \\times 10^{14} \\right|}} \\cos\\left(\\frac{1}{2} \\, \\arctan\\left(7.54916686652188 \\times 10^{10} \\, \\pi\\right)\\right) - 2.56159569009977 \\times 10^{13} \\, \\pi \\sqrt{{\\left| 6.70603801652677 \\times 10^{25}i \\, \\pi + 8.88314980327947 \\times 10^{14} \\right|}} \\cos\\left(\\frac{1}{2} \\, \\arctan\\left(7.54916686652188 \\times 10^{10} \\, \\pi\\right)\\right) + 2.80731854150634 \\times 10^{12} \\, \\pi \\sqrt{{\\left| 6.70603801652677 \\times 10^{25}i \\, \\pi + 8.88314980327947 \\times 10^{14} \\right|}} \\sin\\left(\\frac{1}{2} \\, \\arctan\\left(7.54916686652188 \\times 10^{10} \\, \\pi\\right)\\right) + 5.00369254531674 \\times 10^{30} \\, \\pi^{2} + 29472880145.13282} + \\frac{4.36539857318534 \\times 10^{15} \\, \\pi \\mathit{B1}_{\\mathit{zl}_{\\mathit{im}}} \\sqrt{{\\left| 6.70603801652677 \\times 10^{25}i \\, \\pi + 8.88314980327947 \\times 10^{14} \\right|}} \\sqrt{{\\left| 74614.7357498621i \\, \\pi - 6.238485647791859 \\times 10^{-07} - 5.6924348668883825 \\times 10^{-06}i \\right|}} \\sin\\left(\\frac{1}{2} \\, \\arctan\\left(7.54916686652188 \\times 10^{10} \\, \\pi\\right)\\right) \\sin\\left(\\frac{1}{2} \\, \\arctan\\left(74614.7357498621 \\, \\pi - 5.6924348668883825 \\times 10^{-06}, -6.238485647791859 \\times 10^{-07}\\right)\\right)}{-7.63473692479120 \\times 10^{20} \\, \\pi + 5.63279090877144 \\times 10^{15} \\, \\pi^{2} {\\left| 6.70603801652677 \\times 10^{25}i \\, \\pi + 8.88314980327947 \\times 10^{14} \\right|} \\cos\\left(\\frac{1}{2} \\, \\arctan\\left(7.54916686652188 \\times 10^{10} \\, \\pi\\right)\\right)^{2} + 5.63279090877144 \\times 10^{15} \\, \\pi^{2} {\\left| 6.70603801652677 \\times 10^{25}i \\, \\pi + 8.88314980327947 \\times 10^{14} \\right|} \\sin\\left(\\frac{1}{2} \\, \\arctan\\left(7.54916686652188 \\times 10^{10} \\, \\pi\\right)\\right)^{2} + 3.35766310874379 \\times 10^{23} \\, \\pi^{2} \\sqrt{{\\left| 6.70603801652677 \\times 10^{25}i \\, \\pi + 8.88314980327947 \\times 10^{14} \\right|}} \\cos\\left(\\frac{1}{2} \\, \\arctan\\left(7.54916686652188 \\times 10^{10} \\, \\pi\\right)\\right) - 2.56159569009977 \\times 10^{13} \\, \\pi \\sqrt{{\\left| 6.70603801652677 \\times 10^{25}i \\, \\pi + 8.88314980327947 \\times 10^{14} \\right|}} \\cos\\left(\\frac{1}{2} \\, \\arctan\\left(7.54916686652188 \\times 10^{10} \\, \\pi\\right)\\right) + 2.80731854150634 \\times 10^{12} \\, \\pi \\sqrt{{\\left| 6.70603801652677 \\times 10^{25}i \\, \\pi + 8.88314980327947 \\times 10^{14} \\right|}} \\sin\\left(\\frac{1}{2} \\, \\arctan\\left(7.54916686652188 \\times 10^{10} \\, \\pi\\right)\\right) + 5.00369254531674 \\times 10^{30} \\, \\pi^{2} + 29472880145.13282} + \\frac{3.30072398092559 \\times 10^{15} \\, \\pi \\mathit{B1}_{\\mathit{zl}_{\\mathit{re}}} \\sqrt{{\\left| 6.70603801652677 \\times 10^{25}i \\, \\pi + 8.88314980327947 \\times 10^{14} \\right|}} \\sqrt{{\\left| 74614.7357498621i \\, \\pi - 6.238485647791859 \\times 10^{-07} - 5.6924348668883825 \\times 10^{-06}i \\right|}} \\sin\\left(\\frac{1}{2} \\, \\arctan\\left(7.54916686652188 \\times 10^{10} \\, \\pi\\right)\\right) \\sin\\left(\\frac{1}{2} \\, \\arctan\\left(74614.7357498621 \\, \\pi - 5.6924348668883825 \\times 10^{-06}, -6.238485647791859 \\times 10^{-07}\\right)\\right)}{-7.63473692479120 \\times 10^{20} \\, \\pi + 5.63279090877144 \\times 10^{15} \\, \\pi^{2} {\\left| 6.70603801652677 \\times 10^{25}i \\, \\pi + 8.88314980327947 \\times 10^{14} \\right|} \\cos\\left(\\frac{1}{2} \\, \\arctan\\left(7.54916686652188 \\times 10^{10} \\, \\pi\\right)\\right)^{2} + 5.63279090877144 \\times 10^{15} \\, \\pi^{2} {\\left| 6.70603801652677 \\times 10^{25}i \\, \\pi + 8.88314980327947 \\times 10^{14} \\right|} \\sin\\left(\\frac{1}{2} \\, \\arctan\\left(7.54916686652188 \\times 10^{10} \\, \\pi\\right)\\right)^{2} + 3.35766310874379 \\times 10^{23} \\, \\pi^{2} \\sqrt{{\\left| 6.70603801652677 \\times 10^{25}i \\, \\pi + 8.88314980327947 \\times 10^{14} \\right|}} \\cos\\left(\\frac{1}{2} \\, \\arctan\\left(7.54916686652188 \\times 10^{10} \\, \\pi\\right)\\right) - 2.56159569009977 \\times 10^{13} \\, \\pi \\sqrt{{\\left| 6.70603801652677 \\times 10^{25}i \\, \\pi + 8.88314980327947 \\times 10^{14} \\right|}} \\cos\\left(\\frac{1}{2} \\, \\arctan\\left(7.54916686652188 \\times 10^{10} \\, \\pi\\right)\\right) + 2.80731854150634 \\times 10^{12} \\, \\pi \\sqrt{{\\left| 6.70603801652677 \\times 10^{25}i \\, \\pi + 8.88314980327947 \\times 10^{14} \\right|}} \\sin\\left(\\frac{1}{2} \\, \\arctan\\left(7.54916686652188 \\times 10^{10} \\, \\pi\\right)\\right) + 5.00369254531674 \\times 10^{30} \\, \\pi^{2} + 29472880145.13282} - \\frac{7.42662895708257 \\times 10^{33} \\, \\pi^{2} \\mathit{B1}_{\\mathit{zl}_{\\mathit{im}}} \\sqrt{{\\left| 74614.7357498621i \\, \\pi - 6.238485647791859 \\times 10^{-07} - 5.6924348668883825 \\times 10^{-06}i \\right|}} \\cos\\left(\\frac{1}{2} \\, \\arctan\\left(74614.7357498621 \\, \\pi - 5.6924348668883825 \\times 10^{-06}, -6.238485647791859 \\times 10^{-07}\\right)\\right)}{-7.63473692479120 \\times 10^{20} \\, \\pi + 5.63279090877144 \\times 10^{15} \\, \\pi^{2} {\\left| 6.70603801652677 \\times 10^{25}i \\, \\pi + 8.88314980327947 \\times 10^{14} \\right|} \\cos\\left(\\frac{1}{2} \\, \\arctan\\left(7.54916686652188 \\times 10^{10} \\, \\pi\\right)\\right)^{2} + 5.63279090877144 \\times 10^{15} \\, \\pi^{2} {\\left| 6.70603801652677 \\times 10^{25}i \\, \\pi + 8.88314980327947 \\times 10^{14} \\right|} \\sin\\left(\\frac{1}{2} \\, \\arctan\\left(7.54916686652188 \\times 10^{10} \\, \\pi\\right)\\right)^{2} + 3.35766310874379 \\times 10^{23} \\, \\pi^{2} \\sqrt{{\\left| 6.70603801652677 \\times 10^{25}i \\, \\pi + 8.88314980327947 \\times 10^{14} \\right|}} \\cos\\left(\\frac{1}{2} \\, \\arctan\\left(7.54916686652188 \\times 10^{10} \\, \\pi\\right)\\right) - 2.56159569009977 \\times 10^{13} \\, \\pi \\sqrt{{\\left| 6.70603801652677 \\times 10^{25}i \\, \\pi + 8.88314980327947 \\times 10^{14} \\right|}} \\cos\\left(\\frac{1}{2} \\, \\arctan\\left(7.54916686652188 \\times 10^{10} \\, \\pi\\right)\\right) + 2.80731854150634 \\times 10^{12} \\, \\pi \\sqrt{{\\left| 6.70603801652677 \\times 10^{25}i \\, \\pi + 8.88314980327947 \\times 10^{14} \\right|}} \\sin\\left(\\frac{1}{2} \\, \\arctan\\left(7.54916686652188 \\times 10^{10} \\, \\pi\\right)\\right) + 5.00369254531674 \\times 10^{30} \\, \\pi^{2} + 29472880145.13282} + \\frac{9.82214678966702 \\times 10^{33} \\, \\pi^{2} \\mathit{B1}_{\\mathit{zl}_{\\mathit{re}}} \\sqrt{{\\left| 74614.7357498621i \\, \\pi - 6.238485647791859 \\times 10^{-07} - 5.6924348668883825 \\times 10^{-06}i \\right|}} \\cos\\left(\\frac{1}{2} \\, \\arctan\\left(74614.7357498621 \\, \\pi - 5.6924348668883825 \\times 10^{-06}, -6.238485647791859 \\times 10^{-07}\\right)\\right)}{-7.63473692479120 \\times 10^{20} \\, \\pi + 5.63279090877144 \\times 10^{15} \\, \\pi^{2} {\\left| 6.70603801652677 \\times 10^{25}i \\, \\pi + 8.88314980327947 \\times 10^{14} \\right|} \\cos\\left(\\frac{1}{2} \\, \\arctan\\left(7.54916686652188 \\times 10^{10} \\, \\pi\\right)\\right)^{2} + 5.63279090877144 \\times 10^{15} \\, \\pi^{2} {\\left| 6.70603801652677 \\times 10^{25}i \\, \\pi + 8.88314980327947 \\times 10^{14} \\right|} \\sin\\left(\\frac{1}{2} \\, \\arctan\\left(7.54916686652188 \\times 10^{10} \\, \\pi\\right)\\right)^{2} + 3.35766310874379 \\times 10^{23} \\, \\pi^{2} \\sqrt{{\\left| 6.70603801652677 \\times 10^{25}i \\, \\pi + 8.88314980327947 \\times 10^{14} \\right|}} \\cos\\left(\\frac{1}{2} \\, \\arctan\\left(7.54916686652188 \\times 10^{10} \\, \\pi\\right)\\right) - 2.56159569009977 \\times 10^{13} \\, \\pi \\sqrt{{\\left| 6.70603801652677 \\times 10^{25}i \\, \\pi + 8.88314980327947 \\times 10^{14} \\right|}} \\cos\\left(\\frac{1}{2} \\, \\arctan\\left(7.54916686652188 \\times 10^{10} \\, \\pi\\right)\\right) + 2.80731854150634 \\times 10^{12} \\, \\pi \\sqrt{{\\left| 6.70603801652677 \\times 10^{25}i \\, \\pi + 8.88314980327947 \\times 10^{14} \\right|}} \\sin\\left(\\frac{1}{2} \\, \\arctan\\left(7.54916686652188 \\times 10^{10} \\, \\pi\\right)\\right) + 5.00369254531674 \\times 10^{30} \\, \\pi^{2} + 29472880145.13282} - \\frac{9.82214678966702 \\times 10^{33} \\, \\pi^{2} \\mathit{B1}_{\\mathit{zl}_{\\mathit{im}}} \\sqrt{{\\left| 74614.7357498621i \\, \\pi - 6.238485647791859 \\times 10^{-07} - 5.6924348668883825 \\times 10^{-06}i \\right|}} \\sin\\left(\\frac{1}{2} \\, \\arctan\\left(74614.7357498621 \\, \\pi - 5.6924348668883825 \\times 10^{-06}, -6.238485647791859 \\times 10^{-07}\\right)\\right)}{-7.63473692479120 \\times 10^{20} \\, \\pi + 5.63279090877144 \\times 10^{15} \\, \\pi^{2} {\\left| 6.70603801652677 \\times 10^{25}i \\, \\pi + 8.88314980327947 \\times 10^{14} \\right|} \\cos\\left(\\frac{1}{2} \\, \\arctan\\left(7.54916686652188 \\times 10^{10} \\, \\pi\\right)\\right)^{2} + 5.63279090877144 \\times 10^{15} \\, \\pi^{2} {\\left| 6.70603801652677 \\times 10^{25}i \\, \\pi + 8.88314980327947 \\times 10^{14} \\right|} \\sin\\left(\\frac{1}{2} \\, \\arctan\\left(7.54916686652188 \\times 10^{10} \\, \\pi\\right)\\right)^{2} + 3.35766310874379 \\times 10^{23} \\, \\pi^{2} \\sqrt{{\\left| 6.70603801652677 \\times 10^{25}i \\, \\pi + 8.88314980327947 \\times 10^{14} \\right|}} \\cos\\left(\\frac{1}{2} \\, \\arctan\\left(7.54916686652188 \\times 10^{10} \\, \\pi\\right)\\right) - 2.56159569009977 \\times 10^{13} \\, \\pi \\sqrt{{\\left| 6.70603801652677 \\times 10^{25}i \\, \\pi + 8.88314980327947 \\times 10^{14} \\right|}} \\cos\\left(\\frac{1}{2} \\, \\arctan\\left(7.54916686652188 \\times 10^{10} \\, \\pi\\right)\\right) + 2.80731854150634 \\times 10^{12} \\, \\pi \\sqrt{{\\left| 6.70603801652677 \\times 10^{25}i \\, \\pi + 8.88314980327947 \\times 10^{14} \\right|}} \\sin\\left(\\frac{1}{2} \\, \\arctan\\left(7.54916686652188 \\times 10^{10} \\, \\pi\\right)\\right) + 5.00369254531674 \\times 10^{30} \\, \\pi^{2} + 29472880145.13282} - \\frac{7.42662895708257 \\times 10^{33} \\, \\pi^{2} \\mathit{B1}_{\\mathit{zl}_{\\mathit{re}}} \\sqrt{{\\left| 74614.7357498621i \\, \\pi - 6.238485647791859 \\times 10^{-07} - 5.6924348668883825 \\times 10^{-06}i \\right|}} \\sin\\left(\\frac{1}{2} \\, \\arctan\\left(74614.7357498621 \\, \\pi - 5.6924348668883825 \\times 10^{-06}, -6.238485647791859 \\times 10^{-07}\\right)\\right)}{-7.63473692479120 \\times 10^{20} \\, \\pi + 5.63279090877144 \\times 10^{15} \\, \\pi^{2} {\\left| 6.70603801652677 \\times 10^{25}i \\, \\pi + 8.88314980327947 \\times 10^{14} \\right|} \\cos\\left(\\frac{1}{2} \\, \\arctan\\left(7.54916686652188 \\times 10^{10} \\, \\pi\\right)\\right)^{2} + 5.63279090877144 \\times 10^{15} \\, \\pi^{2} {\\left| 6.70603801652677 \\times 10^{25}i \\, \\pi + 8.88314980327947 \\times 10^{14} \\right|} \\sin\\left(\\frac{1}{2} \\, \\arctan\\left(7.54916686652188 \\times 10^{10} \\, \\pi\\right)\\right)^{2} + 3.35766310874379 \\times 10^{23} \\, \\pi^{2} \\sqrt{{\\left| 6.70603801652677 \\times 10^{25}i \\, \\pi + 8.88314980327947 \\times 10^{14} \\right|}} \\cos\\left(\\frac{1}{2} \\, \\arctan\\left(7.54916686652188 \\times 10^{10} \\, \\pi\\right)\\right) - 2.56159569009977 \\times 10^{13} \\, \\pi \\sqrt{{\\left| 6.70603801652677 \\times 10^{25}i \\, \\pi + 8.88314980327947 \\times 10^{14} \\right|}} \\cos\\left(\\frac{1}{2} \\, \\arctan\\left(7.54916686652188 \\times 10^{10} \\, \\pi\\right)\\right) + 2.80731854150634 \\times 10^{12} \\, \\pi \\sqrt{{\\left| 6.70603801652677 \\times 10^{25}i \\, \\pi + 8.88314980327947 \\times 10^{14} \\right|}} \\sin\\left(\\frac{1}{2} \\, \\arctan\\left(7.54916686652188 \\times 10^{10} \\, \\pi\\right)\\right) + 5.00369254531674 \\times 10^{30} \\, \\pi^{2} + 29472880145.13282} + \\frac{7.78816451237602 \\times 10^{23} \\, \\pi \\mathit{B1}_{\\mathit{zl}_{\\mathit{im}}} \\sqrt{{\\left| 74614.7357498621i \\, \\pi - 6.238485647791859 \\times 10^{-07} - 5.6924348668883825 \\times 10^{-06}i \\right|}} \\cos\\left(\\frac{1}{2} \\, \\arctan\\left(74614.7357498621 \\, \\pi - 5.6924348668883825 \\times 10^{-06}, -6.238485647791859 \\times 10^{-07}\\right)\\right)}{-7.63473692479120 \\times 10^{20} \\, \\pi + 5.63279090877144 \\times 10^{15} \\, \\pi^{2} {\\left| 6.70603801652677 \\times 10^{25}i \\, \\pi + 8.88314980327947 \\times 10^{14} \\right|} \\cos\\left(\\frac{1}{2} \\, \\arctan\\left(7.54916686652188 \\times 10^{10} \\, \\pi\\right)\\right)^{2} + 5.63279090877144 \\times 10^{15} \\, \\pi^{2} {\\left| 6.70603801652677 \\times 10^{25}i \\, \\pi + 8.88314980327947 \\times 10^{14} \\right|} \\sin\\left(\\frac{1}{2} \\, \\arctan\\left(7.54916686652188 \\times 10^{10} \\, \\pi\\right)\\right)^{2} + 3.35766310874379 \\times 10^{23} \\, \\pi^{2} \\sqrt{{\\left| 6.70603801652677 \\times 10^{25}i \\, \\pi + 8.88314980327947 \\times 10^{14} \\right|}} \\cos\\left(\\frac{1}{2} \\, \\arctan\\left(7.54916686652188 \\times 10^{10} \\, \\pi\\right)\\right) - 2.56159569009977 \\times 10^{13} \\, \\pi \\sqrt{{\\left| 6.70603801652677 \\times 10^{25}i \\, \\pi + 8.88314980327947 \\times 10^{14} \\right|}} \\cos\\left(\\frac{1}{2} \\, \\arctan\\left(7.54916686652188 \\times 10^{10} \\, \\pi\\right)\\right) + 2.80731854150634 \\times 10^{12} \\, \\pi \\sqrt{{\\left| 6.70603801652677 \\times 10^{25}i \\, \\pi + 8.88314980327947 \\times 10^{14} \\right|}} \\sin\\left(\\frac{1}{2} \\, \\arctan\\left(7.54916686652188 \\times 10^{10} \\, \\pi\\right)\\right) + 5.00369254531674 \\times 10^{30} \\, \\pi^{2} + 29472880145.13282} - \\frac{5.88871346852427 \\times 10^{23} \\, \\pi \\mathit{B1}_{\\mathit{zl}_{\\mathit{re}}} \\sqrt{{\\left| 74614.7357498621i \\, \\pi - 6.238485647791859 \\times 10^{-07} - 5.6924348668883825 \\times 10^{-06}i \\right|}} \\cos\\left(\\frac{1}{2} \\, \\arctan\\left(74614.7357498621 \\, \\pi - 5.6924348668883825 \\times 10^{-06}, -6.238485647791859 \\times 10^{-07}\\right)\\right)}{-7.63473692479120 \\times 10^{20} \\, \\pi + 5.63279090877144 \\times 10^{15} \\, \\pi^{2} {\\left| 6.70603801652677 \\times 10^{25}i \\, \\pi + 8.88314980327947 \\times 10^{14} \\right|} \\cos\\left(\\frac{1}{2} \\, \\arctan\\left(7.54916686652188 \\times 10^{10} \\, \\pi\\right)\\right)^{2} + 5.63279090877144 \\times 10^{15} \\, \\pi^{2} {\\left| 6.70603801652677 \\times 10^{25}i \\, \\pi + 8.88314980327947 \\times 10^{14} \\right|} \\sin\\left(\\frac{1}{2} \\, \\arctan\\left(7.54916686652188 \\times 10^{10} \\, \\pi\\right)\\right)^{2} + 3.35766310874379 \\times 10^{23} \\, \\pi^{2} \\sqrt{{\\left| 6.70603801652677 \\times 10^{25}i \\, \\pi + 8.88314980327947 \\times 10^{14} \\right|}} \\cos\\left(\\frac{1}{2} \\, \\arctan\\left(7.54916686652188 \\times 10^{10} \\, \\pi\\right)\\right) - 2.56159569009977 \\times 10^{13} \\, \\pi \\sqrt{{\\left| 6.70603801652677 \\times 10^{25}i \\, \\pi + 8.88314980327947 \\times 10^{14} \\right|}} \\cos\\left(\\frac{1}{2} \\, \\arctan\\left(7.54916686652188 \\times 10^{10} \\, \\pi\\right)\\right) + 2.80731854150634 \\times 10^{12} \\, \\pi \\sqrt{{\\left| 6.70603801652677 \\times 10^{25}i \\, \\pi + 8.88314980327947 \\times 10^{14} \\right|}} \\sin\\left(\\frac{1}{2} \\, \\arctan\\left(7.54916686652188 \\times 10^{10} \\, \\pi\\right)\\right) + 5.00369254531674 \\times 10^{30} \\, \\pi^{2} + 29472880145.13282} + \\frac{5.88871346852427 \\times 10^{23} \\, \\pi \\mathit{B1}_{\\mathit{zl}_{\\mathit{im}}} \\sqrt{{\\left| 74614.7357498621i \\, \\pi - 6.238485647791859 \\times 10^{-07} - 5.6924348668883825 \\times 10^{-06}i \\right|}} \\sin\\left(\\frac{1}{2} \\, \\arctan\\left(74614.7357498621 \\, \\pi - 5.6924348668883825 \\times 10^{-06}, -6.238485647791859 \\times 10^{-07}\\right)\\right)}{-7.63473692479120 \\times 10^{20} \\, \\pi + 5.63279090877144 \\times 10^{15} \\, \\pi^{2} {\\left| 6.70603801652677 \\times 10^{25}i \\, \\pi + 8.88314980327947 \\times 10^{14} \\right|} \\cos\\left(\\frac{1}{2} \\, \\arctan\\left(7.54916686652188 \\times 10^{10} \\, \\pi\\right)\\right)^{2} + 5.63279090877144 \\times 10^{15} \\, \\pi^{2} {\\left| 6.70603801652677 \\times 10^{25}i \\, \\pi + 8.88314980327947 \\times 10^{14} \\right|} \\sin\\left(\\frac{1}{2} \\, \\arctan\\left(7.54916686652188 \\times 10^{10} \\, \\pi\\right)\\right)^{2} + 3.35766310874379 \\times 10^{23} \\, \\pi^{2} \\sqrt{{\\left| 6.70603801652677 \\times 10^{25}i \\, \\pi + 8.88314980327947 \\times 10^{14} \\right|}} \\cos\\left(\\frac{1}{2} \\, \\arctan\\left(7.54916686652188 \\times 10^{10} \\, \\pi\\right)\\right) - 2.56159569009977 \\times 10^{13} \\, \\pi \\sqrt{{\\left| 6.70603801652677 \\times 10^{25}i \\, \\pi + 8.88314980327947 \\times 10^{14} \\right|}} \\cos\\left(\\frac{1}{2} \\, \\arctan\\left(7.54916686652188 \\times 10^{10} \\, \\pi\\right)\\right) + 2.80731854150634 \\times 10^{12} \\, \\pi \\sqrt{{\\left| 6.70603801652677 \\times 10^{25}i \\, \\pi + 8.88314980327947 \\times 10^{14} \\right|}} \\sin\\left(\\frac{1}{2} \\, \\arctan\\left(7.54916686652188 \\times 10^{10} \\, \\pi\\right)\\right) + 5.00369254531674 \\times 10^{30} \\, \\pi^{2} + 29472880145.13282} + \\frac{7.78816451237602 \\times 10^{23} \\, \\pi \\mathit{B1}_{\\mathit{zl}_{\\mathit{re}}} \\sqrt{{\\left| 74614.7357498621i \\, \\pi - 6.238485647791859 \\times 10^{-07} - 5.6924348668883825 \\times 10^{-06}i \\right|}} \\sin\\left(\\frac{1}{2} \\, \\arctan\\left(74614.7357498621 \\, \\pi - 5.6924348668883825 \\times 10^{-06}, -6.238485647791859 \\times 10^{-07}\\right)\\right)}{-7.63473692479120 \\times 10^{20} \\, \\pi + 5.63279090877144 \\times 10^{15} \\, \\pi^{2} {\\left| 6.70603801652677 \\times 10^{25}i \\, \\pi + 8.88314980327947 \\times 10^{14} \\right|} \\cos\\left(\\frac{1}{2} \\, \\arctan\\left(7.54916686652188 \\times 10^{10} \\, \\pi\\right)\\right)^{2} + 5.63279090877144 \\times 10^{15} \\, \\pi^{2} {\\left| 6.70603801652677 \\times 10^{25}i \\, \\pi + 8.88314980327947 \\times 10^{14} \\right|} \\sin\\left(\\frac{1}{2} \\, \\arctan\\left(7.54916686652188 \\times 10^{10} \\, \\pi\\right)\\right)^{2} + 3.35766310874379 \\times 10^{23} \\, \\pi^{2} \\sqrt{{\\left| 6.70603801652677 \\times 10^{25}i \\, \\pi + 8.88314980327947 \\times 10^{14} \\right|}} \\cos\\left(\\frac{1}{2} \\, \\arctan\\left(7.54916686652188 \\times 10^{10} \\, \\pi\\right)\\right) - 2.56159569009977 \\times 10^{13} \\, \\pi \\sqrt{{\\left| 6.70603801652677 \\times 10^{25}i \\, \\pi + 8.88314980327947 \\times 10^{14} \\right|}} \\cos\\left(\\frac{1}{2} \\, \\arctan\\left(7.54916686652188 \\times 10^{10} \\, \\pi\\right)\\right) + 2.80731854150634 \\times 10^{12} \\, \\pi \\sqrt{{\\left| 6.70603801652677 \\times 10^{25}i \\, \\pi + 8.88314980327947 \\times 10^{14} \\right|}} \\sin\\left(\\frac{1}{2} \\, \\arctan\\left(7.54916686652188 \\times 10^{10} \\, \\pi\\right)\\right) + 5.00369254531674 \\times 10^{30} \\, \\pi^{2} + 29472880145.13282} - \\frac{9103629065534.969 \\, \\mathit{B1}_{\\mathit{zl}_{\\mathit{im}}} \\sqrt{{\\left| 74614.7357498621i \\, \\pi - 6.238485647791859 \\times 10^{-07} - 5.6924348668883825 \\times 10^{-06}i \\right|}} \\cos\\left(\\frac{1}{2} \\, \\arctan\\left(74614.7357498621 \\, \\pi - 5.6924348668883825 \\times 10^{-06}, -6.238485647791859 \\times 10^{-07}\\right)\\right)}{-7.63473692479120 \\times 10^{20} \\, \\pi + 5.63279090877144 \\times 10^{15} \\, \\pi^{2} {\\left| 6.70603801652677 \\times 10^{25}i \\, \\pi + 8.88314980327947 \\times 10^{14} \\right|} \\cos\\left(\\frac{1}{2} \\, \\arctan\\left(7.54916686652188 \\times 10^{10} \\, \\pi\\right)\\right)^{2} + 5.63279090877144 \\times 10^{15} \\, \\pi^{2} {\\left| 6.70603801652677 \\times 10^{25}i \\, \\pi + 8.88314980327947 \\times 10^{14} \\right|} \\sin\\left(\\frac{1}{2} \\, \\arctan\\left(7.54916686652188 \\times 10^{10} \\, \\pi\\right)\\right)^{2} + 3.35766310874379 \\times 10^{23} \\, \\pi^{2} \\sqrt{{\\left| 6.70603801652677 \\times 10^{25}i \\, \\pi + 8.88314980327947 \\times 10^{14} \\right|}} \\cos\\left(\\frac{1}{2} \\, \\arctan\\left(7.54916686652188 \\times 10^{10} \\, \\pi\\right)\\right) - 2.56159569009977 \\times 10^{13} \\, \\pi \\sqrt{{\\left| 6.70603801652677 \\times 10^{25}i \\, \\pi + 8.88314980327947 \\times 10^{14} \\right|}} \\cos\\left(\\frac{1}{2} \\, \\arctan\\left(7.54916686652188 \\times 10^{10} \\, \\pi\\right)\\right) + 2.80731854150634 \\times 10^{12} \\, \\pi \\sqrt{{\\left| 6.70603801652677 \\times 10^{25}i \\, \\pi + 8.88314980327947 \\times 10^{14} \\right|}} \\sin\\left(\\frac{1}{2} \\, \\arctan\\left(7.54916686652188 \\times 10^{10} \\, \\pi\\right)\\right) + 5.00369254531674 \\times 10^{30} \\, \\pi^{2} + 29472880145.13282} - \\frac{8593099687252.745 \\, \\mathit{B1}_{\\mathit{zl}_{\\mathit{re}}} \\sqrt{{\\left| 74614.7357498621i \\, \\pi - 6.238485647791859 \\times 10^{-07} - 5.6924348668883825 \\times 10^{-06}i \\right|}} \\cos\\left(\\frac{1}{2} \\, \\arctan\\left(74614.7357498621 \\, \\pi - 5.6924348668883825 \\times 10^{-06}, -6.238485647791859 \\times 10^{-07}\\right)\\right)}{-7.63473692479120 \\times 10^{20} \\, \\pi + 5.63279090877144 \\times 10^{15} \\, \\pi^{2} {\\left| 6.70603801652677 \\times 10^{25}i \\, \\pi + 8.88314980327947 \\times 10^{14} \\right|} \\cos\\left(\\frac{1}{2} \\, \\arctan\\left(7.54916686652188 \\times 10^{10} \\, \\pi\\right)\\right)^{2} + 5.63279090877144 \\times 10^{15} \\, \\pi^{2} {\\left| 6.70603801652677 \\times 10^{25}i \\, \\pi + 8.88314980327947 \\times 10^{14} \\right|} \\sin\\left(\\frac{1}{2} \\, \\arctan\\left(7.54916686652188 \\times 10^{10} \\, \\pi\\right)\\right)^{2} + 3.35766310874379 \\times 10^{23} \\, \\pi^{2} \\sqrt{{\\left| 6.70603801652677 \\times 10^{25}i \\, \\pi + 8.88314980327947 \\times 10^{14} \\right|}} \\cos\\left(\\frac{1}{2} \\, \\arctan\\left(7.54916686652188 \\times 10^{10} \\, \\pi\\right)\\right) - 2.56159569009977 \\times 10^{13} \\, \\pi \\sqrt{{\\left| 6.70603801652677 \\times 10^{25}i \\, \\pi + 8.88314980327947 \\times 10^{14} \\right|}} \\cos\\left(\\frac{1}{2} \\, \\arctan\\left(7.54916686652188 \\times 10^{10} \\, \\pi\\right)\\right) + 2.80731854150634 \\times 10^{12} \\, \\pi \\sqrt{{\\left| 6.70603801652677 \\times 10^{25}i \\, \\pi + 8.88314980327947 \\times 10^{14} \\right|}} \\sin\\left(\\frac{1}{2} \\, \\arctan\\left(7.54916686652188 \\times 10^{10} \\, \\pi\\right)\\right) + 5.00369254531674 \\times 10^{30} \\, \\pi^{2} + 29472880145.13282} + \\frac{8593099687252.745 \\, \\mathit{B1}_{\\mathit{zl}_{\\mathit{im}}} \\sqrt{{\\left| 74614.7357498621i \\, \\pi - 6.238485647791859 \\times 10^{-07} - 5.6924348668883825 \\times 10^{-06}i \\right|}} \\sin\\left(\\frac{1}{2} \\, \\arctan\\left(74614.7357498621 \\, \\pi - 5.6924348668883825 \\times 10^{-06}, -6.238485647791859 \\times 10^{-07}\\right)\\right)}{-7.63473692479120 \\times 10^{20} \\, \\pi + 5.63279090877144 \\times 10^{15} \\, \\pi^{2} {\\left| 6.70603801652677 \\times 10^{25}i \\, \\pi + 8.88314980327947 \\times 10^{14} \\right|} \\cos\\left(\\frac{1}{2} \\, \\arctan\\left(7.54916686652188 \\times 10^{10} \\, \\pi\\right)\\right)^{2} + 5.63279090877144 \\times 10^{15} \\, \\pi^{2} {\\left| 6.70603801652677 \\times 10^{25}i \\, \\pi + 8.88314980327947 \\times 10^{14} \\right|} \\sin\\left(\\frac{1}{2} \\, \\arctan\\left(7.54916686652188 \\times 10^{10} \\, \\pi\\right)\\right)^{2} + 3.35766310874379 \\times 10^{23} \\, \\pi^{2} \\sqrt{{\\left| 6.70603801652677 \\times 10^{25}i \\, \\pi + 8.88314980327947 \\times 10^{14} \\right|}} \\cos\\left(\\frac{1}{2} \\, \\arctan\\left(7.54916686652188 \\times 10^{10} \\, \\pi\\right)\\right) - 2.56159569009977 \\times 10^{13} \\, \\pi \\sqrt{{\\left| 6.70603801652677 \\times 10^{25}i \\, \\pi + 8.88314980327947 \\times 10^{14} \\right|}} \\cos\\left(\\frac{1}{2} \\, \\arctan\\left(7.54916686652188 \\times 10^{10} \\, \\pi\\right)\\right) + 2.80731854150634 \\times 10^{12} \\, \\pi \\sqrt{{\\left| 6.70603801652677 \\times 10^{25}i \\, \\pi + 8.88314980327947 \\times 10^{14} \\right|}} \\sin\\left(\\frac{1}{2} \\, \\arctan\\left(7.54916686652188 \\times 10^{10} \\, \\pi\\right)\\right) + 5.00369254531674 \\times 10^{30} \\, \\pi^{2} + 29472880145.13282} - \\frac{9103629065534.969 \\, \\mathit{B1}_{\\mathit{zl}_{\\mathit{re}}} \\sqrt{{\\left| 74614.7357498621i \\, \\pi - 6.238485647791859 \\times 10^{-07} - 5.6924348668883825 \\times 10^{-06}i \\right|}} \\sin\\left(\\frac{1}{2} \\, \\arctan\\left(74614.7357498621 \\, \\pi - 5.6924348668883825 \\times 10^{-06}, -6.238485647791859 \\times 10^{-07}\\right)\\right)}{-7.63473692479120 \\times 10^{20} \\, \\pi + 5.63279090877144 \\times 10^{15} \\, \\pi^{2} {\\left| 6.70603801652677 \\times 10^{25}i \\, \\pi + 8.88314980327947 \\times 10^{14} \\right|} \\cos\\left(\\frac{1}{2} \\, \\arctan\\left(7.54916686652188 \\times 10^{10} \\, \\pi\\right)\\right)^{2} + 5.63279090877144 \\times 10^{15} \\, \\pi^{2} {\\left| 6.70603801652677 \\times 10^{25}i \\, \\pi + 8.88314980327947 \\times 10^{14} \\right|} \\sin\\left(\\frac{1}{2} \\, \\arctan\\left(7.54916686652188 \\times 10^{10} \\, \\pi\\right)\\right)^{2} + 3.35766310874379 \\times 10^{23} \\, \\pi^{2} \\sqrt{{\\left| 6.70603801652677 \\times 10^{25}i \\, \\pi + 8.88314980327947 \\times 10^{14} \\right|}} \\cos\\left(\\frac{1}{2} \\, \\arctan\\left(7.54916686652188 \\times 10^{10} \\, \\pi\\right)\\right) - 2.56159569009977 \\times 10^{13} \\, \\pi \\sqrt{{\\left| 6.70603801652677 \\times 10^{25}i \\, \\pi + 8.88314980327947 \\times 10^{14} \\right|}} \\cos\\left(\\frac{1}{2} \\, \\arctan\\left(7.54916686652188 \\times 10^{10} \\, \\pi\\right)\\right) + 2.80731854150634 \\times 10^{12} \\, \\pi \\sqrt{{\\left| 6.70603801652677 \\times 10^{25}i \\, \\pi + 8.88314980327947 \\times 10^{14} \\right|}} \\sin\\left(\\frac{1}{2} \\, \\arctan\\left(7.54916686652188 \\times 10^{10} \\, \\pi\\right)\\right) + 5.00369254531674 \\times 10^{30} \\, \\pi^{2} + 29472880145.13282} + 1.0148452855683712 \\, \\mathit{A1}_{z_{\\mathit{im}}} - 0.08322245930178149 \\, \\mathit{A1}_{z_{\\mathit{re}}} - 1.0109649336612163 \\, \\mathit{A2}_{z_{\\mathit{im}}} + 0.08615644016021828 \\, \\mathit{A2}_{z_{\\mathit{re}}} = 0$"
      ],
      "text/plain": [
       "<IPython.core.display.Math object>"
      ]
     },
     "metadata": {},
     "output_type": "display_data"
    },
    {
     "name": "stdout",
     "output_type": "stream",
     "text": [
      "0 imag\n"
     ]
    },
    {
     "data": {
      "text/latex": [
       "$\\displaystyle \\frac{3.29551222678527 \\times 10^{26} \\, \\pi^{2} \\mathit{B1}_{\\mathit{zl}_{\\mathit{im}}} \\sqrt{{\\left| 6.70603801652677 \\times 10^{25}i \\, \\pi + 8.88314980327947 \\times 10^{14} \\right|}} \\sqrt{{\\left| 74614.7357498621i \\, \\pi - 6.238485647791859 \\times 10^{-07} - 5.6924348668883825 \\times 10^{-06}i \\right|}} \\cos\\left(\\frac{1}{2} \\, \\arctan\\left(7.54916686652188 \\times 10^{10} \\, \\pi\\right)\\right) \\cos\\left(\\frac{1}{2} \\, \\arctan\\left(74614.7357498621 \\, \\pi - 5.6924348668883825 \\times 10^{-06}, -6.238485647791859 \\times 10^{-07}\\right)\\right)}{-7.63473692479120 \\times 10^{20} \\, \\pi + 5.63279090877144 \\times 10^{15} \\, \\pi^{2} {\\left| 6.70603801652677 \\times 10^{25}i \\, \\pi + 8.88314980327947 \\times 10^{14} \\right|} \\cos\\left(\\frac{1}{2} \\, \\arctan\\left(7.54916686652188 \\times 10^{10} \\, \\pi\\right)\\right)^{2} + 5.63279090877144 \\times 10^{15} \\, \\pi^{2} {\\left| 6.70603801652677 \\times 10^{25}i \\, \\pi + 8.88314980327947 \\times 10^{14} \\right|} \\sin\\left(\\frac{1}{2} \\, \\arctan\\left(7.54916686652188 \\times 10^{10} \\, \\pi\\right)\\right)^{2} + 3.35766310874379 \\times 10^{23} \\, \\pi^{2} \\sqrt{{\\left| 6.70603801652677 \\times 10^{25}i \\, \\pi + 8.88314980327947 \\times 10^{14} \\right|}} \\cos\\left(\\frac{1}{2} \\, \\arctan\\left(7.54916686652188 \\times 10^{10} \\, \\pi\\right)\\right) - 2.56159569009977 \\times 10^{13} \\, \\pi \\sqrt{{\\left| 6.70603801652677 \\times 10^{25}i \\, \\pi + 8.88314980327947 \\times 10^{14} \\right|}} \\cos\\left(\\frac{1}{2} \\, \\arctan\\left(7.54916686652188 \\times 10^{10} \\, \\pi\\right)\\right) + 2.80731854150634 \\times 10^{12} \\, \\pi \\sqrt{{\\left| 6.70603801652677 \\times 10^{25}i \\, \\pi + 8.88314980327947 \\times 10^{14} \\right|}} \\sin\\left(\\frac{1}{2} \\, \\arctan\\left(7.54916686652188 \\times 10^{10} \\, \\pi\\right)\\right) + 5.00369254531674 \\times 10^{30} \\, \\pi^{2} + 29472880145.13282} + \\frac{2.49177161123376 \\times 10^{26} \\, \\pi^{2} \\mathit{B1}_{\\mathit{zl}_{\\mathit{re}}} \\sqrt{{\\left| 6.70603801652677 \\times 10^{25}i \\, \\pi + 8.88314980327947 \\times 10^{14} \\right|}} \\sqrt{{\\left| 74614.7357498621i \\, \\pi - 6.238485647791859 \\times 10^{-07} - 5.6924348668883825 \\times 10^{-06}i \\right|}} \\cos\\left(\\frac{1}{2} \\, \\arctan\\left(7.54916686652188 \\times 10^{10} \\, \\pi\\right)\\right) \\cos\\left(\\frac{1}{2} \\, \\arctan\\left(74614.7357498621 \\, \\pi - 5.6924348668883825 \\times 10^{-06}, -6.238485647791859 \\times 10^{-07}\\right)\\right)}{-7.63473692479120 \\times 10^{20} \\, \\pi + 5.63279090877144 \\times 10^{15} \\, \\pi^{2} {\\left| 6.70603801652677 \\times 10^{25}i \\, \\pi + 8.88314980327947 \\times 10^{14} \\right|} \\cos\\left(\\frac{1}{2} \\, \\arctan\\left(7.54916686652188 \\times 10^{10} \\, \\pi\\right)\\right)^{2} + 5.63279090877144 \\times 10^{15} \\, \\pi^{2} {\\left| 6.70603801652677 \\times 10^{25}i \\, \\pi + 8.88314980327947 \\times 10^{14} \\right|} \\sin\\left(\\frac{1}{2} \\, \\arctan\\left(7.54916686652188 \\times 10^{10} \\, \\pi\\right)\\right)^{2} + 3.35766310874379 \\times 10^{23} \\, \\pi^{2} \\sqrt{{\\left| 6.70603801652677 \\times 10^{25}i \\, \\pi + 8.88314980327947 \\times 10^{14} \\right|}} \\cos\\left(\\frac{1}{2} \\, \\arctan\\left(7.54916686652188 \\times 10^{10} \\, \\pi\\right)\\right) - 2.56159569009977 \\times 10^{13} \\, \\pi \\sqrt{{\\left| 6.70603801652677 \\times 10^{25}i \\, \\pi + 8.88314980327947 \\times 10^{14} \\right|}} \\cos\\left(\\frac{1}{2} \\, \\arctan\\left(7.54916686652188 \\times 10^{10} \\, \\pi\\right)\\right) + 2.80731854150634 \\times 10^{12} \\, \\pi \\sqrt{{\\left| 6.70603801652677 \\times 10^{25}i \\, \\pi + 8.88314980327947 \\times 10^{14} \\right|}} \\sin\\left(\\frac{1}{2} \\, \\arctan\\left(7.54916686652188 \\times 10^{10} \\, \\pi\\right)\\right) + 5.00369254531674 \\times 10^{30} \\, \\pi^{2} + 29472880145.13282} + \\frac{2.49177161123376 \\times 10^{26} \\, \\pi^{2} \\mathit{B1}_{\\mathit{zl}_{\\mathit{im}}} \\sqrt{{\\left| 6.70603801652677 \\times 10^{25}i \\, \\pi + 8.88314980327947 \\times 10^{14} \\right|}} \\sqrt{{\\left| 74614.7357498621i \\, \\pi - 6.238485647791859 \\times 10^{-07} - 5.6924348668883825 \\times 10^{-06}i \\right|}} \\cos\\left(\\frac{1}{2} \\, \\arctan\\left(74614.7357498621 \\, \\pi - 5.6924348668883825 \\times 10^{-06}, -6.238485647791859 \\times 10^{-07}\\right)\\right) \\sin\\left(\\frac{1}{2} \\, \\arctan\\left(7.54916686652188 \\times 10^{10} \\, \\pi\\right)\\right)}{-7.63473692479120 \\times 10^{20} \\, \\pi + 5.63279090877144 \\times 10^{15} \\, \\pi^{2} {\\left| 6.70603801652677 \\times 10^{25}i \\, \\pi + 8.88314980327947 \\times 10^{14} \\right|} \\cos\\left(\\frac{1}{2} \\, \\arctan\\left(7.54916686652188 \\times 10^{10} \\, \\pi\\right)\\right)^{2} + 5.63279090877144 \\times 10^{15} \\, \\pi^{2} {\\left| 6.70603801652677 \\times 10^{25}i \\, \\pi + 8.88314980327947 \\times 10^{14} \\right|} \\sin\\left(\\frac{1}{2} \\, \\arctan\\left(7.54916686652188 \\times 10^{10} \\, \\pi\\right)\\right)^{2} + 3.35766310874379 \\times 10^{23} \\, \\pi^{2} \\sqrt{{\\left| 6.70603801652677 \\times 10^{25}i \\, \\pi + 8.88314980327947 \\times 10^{14} \\right|}} \\cos\\left(\\frac{1}{2} \\, \\arctan\\left(7.54916686652188 \\times 10^{10} \\, \\pi\\right)\\right) - 2.56159569009977 \\times 10^{13} \\, \\pi \\sqrt{{\\left| 6.70603801652677 \\times 10^{25}i \\, \\pi + 8.88314980327947 \\times 10^{14} \\right|}} \\cos\\left(\\frac{1}{2} \\, \\arctan\\left(7.54916686652188 \\times 10^{10} \\, \\pi\\right)\\right) + 2.80731854150634 \\times 10^{12} \\, \\pi \\sqrt{{\\left| 6.70603801652677 \\times 10^{25}i \\, \\pi + 8.88314980327947 \\times 10^{14} \\right|}} \\sin\\left(\\frac{1}{2} \\, \\arctan\\left(7.54916686652188 \\times 10^{10} \\, \\pi\\right)\\right) + 5.00369254531674 \\times 10^{30} \\, \\pi^{2} + 29472880145.13282} - \\frac{3.29551222678527 \\times 10^{26} \\, \\pi^{2} \\mathit{B1}_{\\mathit{zl}_{\\mathit{re}}} \\sqrt{{\\left| 6.70603801652677 \\times 10^{25}i \\, \\pi + 8.88314980327947 \\times 10^{14} \\right|}} \\sqrt{{\\left| 74614.7357498621i \\, \\pi - 6.238485647791859 \\times 10^{-07} - 5.6924348668883825 \\times 10^{-06}i \\right|}} \\cos\\left(\\frac{1}{2} \\, \\arctan\\left(74614.7357498621 \\, \\pi - 5.6924348668883825 \\times 10^{-06}, -6.238485647791859 \\times 10^{-07}\\right)\\right) \\sin\\left(\\frac{1}{2} \\, \\arctan\\left(7.54916686652188 \\times 10^{10} \\, \\pi\\right)\\right)}{-7.63473692479120 \\times 10^{20} \\, \\pi + 5.63279090877144 \\times 10^{15} \\, \\pi^{2} {\\left| 6.70603801652677 \\times 10^{25}i \\, \\pi + 8.88314980327947 \\times 10^{14} \\right|} \\cos\\left(\\frac{1}{2} \\, \\arctan\\left(7.54916686652188 \\times 10^{10} \\, \\pi\\right)\\right)^{2} + 5.63279090877144 \\times 10^{15} \\, \\pi^{2} {\\left| 6.70603801652677 \\times 10^{25}i \\, \\pi + 8.88314980327947 \\times 10^{14} \\right|} \\sin\\left(\\frac{1}{2} \\, \\arctan\\left(7.54916686652188 \\times 10^{10} \\, \\pi\\right)\\right)^{2} + 3.35766310874379 \\times 10^{23} \\, \\pi^{2} \\sqrt{{\\left| 6.70603801652677 \\times 10^{25}i \\, \\pi + 8.88314980327947 \\times 10^{14} \\right|}} \\cos\\left(\\frac{1}{2} \\, \\arctan\\left(7.54916686652188 \\times 10^{10} \\, \\pi\\right)\\right) - 2.56159569009977 \\times 10^{13} \\, \\pi \\sqrt{{\\left| 6.70603801652677 \\times 10^{25}i \\, \\pi + 8.88314980327947 \\times 10^{14} \\right|}} \\cos\\left(\\frac{1}{2} \\, \\arctan\\left(7.54916686652188 \\times 10^{10} \\, \\pi\\right)\\right) + 2.80731854150634 \\times 10^{12} \\, \\pi \\sqrt{{\\left| 6.70603801652677 \\times 10^{25}i \\, \\pi + 8.88314980327947 \\times 10^{14} \\right|}} \\sin\\left(\\frac{1}{2} \\, \\arctan\\left(7.54916686652188 \\times 10^{10} \\, \\pi\\right)\\right) + 5.00369254531674 \\times 10^{30} \\, \\pi^{2} + 29472880145.13282} - \\frac{2.49177161123376 \\times 10^{26} \\, \\pi^{2} \\mathit{B1}_{\\mathit{zl}_{\\mathit{im}}} \\sqrt{{\\left| 6.70603801652677 \\times 10^{25}i \\, \\pi + 8.88314980327947 \\times 10^{14} \\right|}} \\sqrt{{\\left| 74614.7357498621i \\, \\pi - 6.238485647791859 \\times 10^{-07} - 5.6924348668883825 \\times 10^{-06}i \\right|}} \\cos\\left(\\frac{1}{2} \\, \\arctan\\left(7.54916686652188 \\times 10^{10} \\, \\pi\\right)\\right) \\sin\\left(\\frac{1}{2} \\, \\arctan\\left(74614.7357498621 \\, \\pi - 5.6924348668883825 \\times 10^{-06}, -6.238485647791859 \\times 10^{-07}\\right)\\right)}{-7.63473692479120 \\times 10^{20} \\, \\pi + 5.63279090877144 \\times 10^{15} \\, \\pi^{2} {\\left| 6.70603801652677 \\times 10^{25}i \\, \\pi + 8.88314980327947 \\times 10^{14} \\right|} \\cos\\left(\\frac{1}{2} \\, \\arctan\\left(7.54916686652188 \\times 10^{10} \\, \\pi\\right)\\right)^{2} + 5.63279090877144 \\times 10^{15} \\, \\pi^{2} {\\left| 6.70603801652677 \\times 10^{25}i \\, \\pi + 8.88314980327947 \\times 10^{14} \\right|} \\sin\\left(\\frac{1}{2} \\, \\arctan\\left(7.54916686652188 \\times 10^{10} \\, \\pi\\right)\\right)^{2} + 3.35766310874379 \\times 10^{23} \\, \\pi^{2} \\sqrt{{\\left| 6.70603801652677 \\times 10^{25}i \\, \\pi + 8.88314980327947 \\times 10^{14} \\right|}} \\cos\\left(\\frac{1}{2} \\, \\arctan\\left(7.54916686652188 \\times 10^{10} \\, \\pi\\right)\\right) - 2.56159569009977 \\times 10^{13} \\, \\pi \\sqrt{{\\left| 6.70603801652677 \\times 10^{25}i \\, \\pi + 8.88314980327947 \\times 10^{14} \\right|}} \\cos\\left(\\frac{1}{2} \\, \\arctan\\left(7.54916686652188 \\times 10^{10} \\, \\pi\\right)\\right) + 2.80731854150634 \\times 10^{12} \\, \\pi \\sqrt{{\\left| 6.70603801652677 \\times 10^{25}i \\, \\pi + 8.88314980327947 \\times 10^{14} \\right|}} \\sin\\left(\\frac{1}{2} \\, \\arctan\\left(7.54916686652188 \\times 10^{10} \\, \\pi\\right)\\right) + 5.00369254531674 \\times 10^{30} \\, \\pi^{2} + 29472880145.13282} + \\frac{3.29551222678527 \\times 10^{26} \\, \\pi^{2} \\mathit{B1}_{\\mathit{zl}_{\\mathit{re}}} \\sqrt{{\\left| 6.70603801652677 \\times 10^{25}i \\, \\pi + 8.88314980327947 \\times 10^{14} \\right|}} \\sqrt{{\\left| 74614.7357498621i \\, \\pi - 6.238485647791859 \\times 10^{-07} - 5.6924348668883825 \\times 10^{-06}i \\right|}} \\cos\\left(\\frac{1}{2} \\, \\arctan\\left(7.54916686652188 \\times 10^{10} \\, \\pi\\right)\\right) \\sin\\left(\\frac{1}{2} \\, \\arctan\\left(74614.7357498621 \\, \\pi - 5.6924348668883825 \\times 10^{-06}, -6.238485647791859 \\times 10^{-07}\\right)\\right)}{-7.63473692479120 \\times 10^{20} \\, \\pi + 5.63279090877144 \\times 10^{15} \\, \\pi^{2} {\\left| 6.70603801652677 \\times 10^{25}i \\, \\pi + 8.88314980327947 \\times 10^{14} \\right|} \\cos\\left(\\frac{1}{2} \\, \\arctan\\left(7.54916686652188 \\times 10^{10} \\, \\pi\\right)\\right)^{2} + 5.63279090877144 \\times 10^{15} \\, \\pi^{2} {\\left| 6.70603801652677 \\times 10^{25}i \\, \\pi + 8.88314980327947 \\times 10^{14} \\right|} \\sin\\left(\\frac{1}{2} \\, \\arctan\\left(7.54916686652188 \\times 10^{10} \\, \\pi\\right)\\right)^{2} + 3.35766310874379 \\times 10^{23} \\, \\pi^{2} \\sqrt{{\\left| 6.70603801652677 \\times 10^{25}i \\, \\pi + 8.88314980327947 \\times 10^{14} \\right|}} \\cos\\left(\\frac{1}{2} \\, \\arctan\\left(7.54916686652188 \\times 10^{10} \\, \\pi\\right)\\right) - 2.56159569009977 \\times 10^{13} \\, \\pi \\sqrt{{\\left| 6.70603801652677 \\times 10^{25}i \\, \\pi + 8.88314980327947 \\times 10^{14} \\right|}} \\cos\\left(\\frac{1}{2} \\, \\arctan\\left(7.54916686652188 \\times 10^{10} \\, \\pi\\right)\\right) + 2.80731854150634 \\times 10^{12} \\, \\pi \\sqrt{{\\left| 6.70603801652677 \\times 10^{25}i \\, \\pi + 8.88314980327947 \\times 10^{14} \\right|}} \\sin\\left(\\frac{1}{2} \\, \\arctan\\left(7.54916686652188 \\times 10^{10} \\, \\pi\\right)\\right) + 5.00369254531674 \\times 10^{30} \\, \\pi^{2} + 29472880145.13282} + \\frac{3.29551222678527 \\times 10^{26} \\, \\pi^{2} \\mathit{B1}_{\\mathit{zl}_{\\mathit{im}}} \\sqrt{{\\left| 6.70603801652677 \\times 10^{25}i \\, \\pi + 8.88314980327947 \\times 10^{14} \\right|}} \\sqrt{{\\left| 74614.7357498621i \\, \\pi - 6.238485647791859 \\times 10^{-07} - 5.6924348668883825 \\times 10^{-06}i \\right|}} \\sin\\left(\\frac{1}{2} \\, \\arctan\\left(7.54916686652188 \\times 10^{10} \\, \\pi\\right)\\right) \\sin\\left(\\frac{1}{2} \\, \\arctan\\left(74614.7357498621 \\, \\pi - 5.6924348668883825 \\times 10^{-06}, -6.238485647791859 \\times 10^{-07}\\right)\\right)}{-7.63473692479120 \\times 10^{20} \\, \\pi + 5.63279090877144 \\times 10^{15} \\, \\pi^{2} {\\left| 6.70603801652677 \\times 10^{25}i \\, \\pi + 8.88314980327947 \\times 10^{14} \\right|} \\cos\\left(\\frac{1}{2} \\, \\arctan\\left(7.54916686652188 \\times 10^{10} \\, \\pi\\right)\\right)^{2} + 5.63279090877144 \\times 10^{15} \\, \\pi^{2} {\\left| 6.70603801652677 \\times 10^{25}i \\, \\pi + 8.88314980327947 \\times 10^{14} \\right|} \\sin\\left(\\frac{1}{2} \\, \\arctan\\left(7.54916686652188 \\times 10^{10} \\, \\pi\\right)\\right)^{2} + 3.35766310874379 \\times 10^{23} \\, \\pi^{2} \\sqrt{{\\left| 6.70603801652677 \\times 10^{25}i \\, \\pi + 8.88314980327947 \\times 10^{14} \\right|}} \\cos\\left(\\frac{1}{2} \\, \\arctan\\left(7.54916686652188 \\times 10^{10} \\, \\pi\\right)\\right) - 2.56159569009977 \\times 10^{13} \\, \\pi \\sqrt{{\\left| 6.70603801652677 \\times 10^{25}i \\, \\pi + 8.88314980327947 \\times 10^{14} \\right|}} \\cos\\left(\\frac{1}{2} \\, \\arctan\\left(7.54916686652188 \\times 10^{10} \\, \\pi\\right)\\right) + 2.80731854150634 \\times 10^{12} \\, \\pi \\sqrt{{\\left| 6.70603801652677 \\times 10^{25}i \\, \\pi + 8.88314980327947 \\times 10^{14} \\right|}} \\sin\\left(\\frac{1}{2} \\, \\arctan\\left(7.54916686652188 \\times 10^{10} \\, \\pi\\right)\\right) + 5.00369254531674 \\times 10^{30} \\, \\pi^{2} + 29472880145.13282} + \\frac{2.49177161123376 \\times 10^{26} \\, \\pi^{2} \\mathit{B1}_{\\mathit{zl}_{\\mathit{re}}} \\sqrt{{\\left| 6.70603801652677 \\times 10^{25}i \\, \\pi + 8.88314980327947 \\times 10^{14} \\right|}} \\sqrt{{\\left| 74614.7357498621i \\, \\pi - 6.238485647791859 \\times 10^{-07} - 5.6924348668883825 \\times 10^{-06}i \\right|}} \\sin\\left(\\frac{1}{2} \\, \\arctan\\left(7.54916686652188 \\times 10^{10} \\, \\pi\\right)\\right) \\sin\\left(\\frac{1}{2} \\, \\arctan\\left(74614.7357498621 \\, \\pi - 5.6924348668883825 \\times 10^{-06}, -6.238485647791859 \\times 10^{-07}\\right)\\right)}{-7.63473692479120 \\times 10^{20} \\, \\pi + 5.63279090877144 \\times 10^{15} \\, \\pi^{2} {\\left| 6.70603801652677 \\times 10^{25}i \\, \\pi + 8.88314980327947 \\times 10^{14} \\right|} \\cos\\left(\\frac{1}{2} \\, \\arctan\\left(7.54916686652188 \\times 10^{10} \\, \\pi\\right)\\right)^{2} + 5.63279090877144 \\times 10^{15} \\, \\pi^{2} {\\left| 6.70603801652677 \\times 10^{25}i \\, \\pi + 8.88314980327947 \\times 10^{14} \\right|} \\sin\\left(\\frac{1}{2} \\, \\arctan\\left(7.54916686652188 \\times 10^{10} \\, \\pi\\right)\\right)^{2} + 3.35766310874379 \\times 10^{23} \\, \\pi^{2} \\sqrt{{\\left| 6.70603801652677 \\times 10^{25}i \\, \\pi + 8.88314980327947 \\times 10^{14} \\right|}} \\cos\\left(\\frac{1}{2} \\, \\arctan\\left(7.54916686652188 \\times 10^{10} \\, \\pi\\right)\\right) - 2.56159569009977 \\times 10^{13} \\, \\pi \\sqrt{{\\left| 6.70603801652677 \\times 10^{25}i \\, \\pi + 8.88314980327947 \\times 10^{14} \\right|}} \\cos\\left(\\frac{1}{2} \\, \\arctan\\left(7.54916686652188 \\times 10^{10} \\, \\pi\\right)\\right) + 2.80731854150634 \\times 10^{12} \\, \\pi \\sqrt{{\\left| 6.70603801652677 \\times 10^{25}i \\, \\pi + 8.88314980327947 \\times 10^{14} \\right|}} \\sin\\left(\\frac{1}{2} \\, \\arctan\\left(7.54916686652188 \\times 10^{10} \\, \\pi\\right)\\right) + 5.00369254531674 \\times 10^{30} \\, \\pi^{2} + 29472880145.13282} + \\frac{3300723980925587.0 \\, \\pi \\mathit{B1}_{\\mathit{zl}_{\\mathit{im}}} \\sqrt{{\\left| 6.70603801652677 \\times 10^{25}i \\, \\pi + 8.88314980327947 \\times 10^{14} \\right|}} \\sqrt{{\\left| 74614.7357498621i \\, \\pi - 6.238485647791859 \\times 10^{-07} - 5.6924348668883825 \\times 10^{-06}i \\right|}} \\cos\\left(\\frac{1}{2} \\, \\arctan\\left(7.54916686652188 \\times 10^{10} \\, \\pi\\right)\\right) \\cos\\left(\\frac{1}{2} \\, \\arctan\\left(74614.7357498621 \\, \\pi - 5.6924348668883825 \\times 10^{-06}, -6.238485647791859 \\times 10^{-07}\\right)\\right)}{-7.63473692479120 \\times 10^{20} \\, \\pi + 5.63279090877144 \\times 10^{15} \\, \\pi^{2} {\\left| 6.70603801652677 \\times 10^{25}i \\, \\pi + 8.88314980327947 \\times 10^{14} \\right|} \\cos\\left(\\frac{1}{2} \\, \\arctan\\left(7.54916686652188 \\times 10^{10} \\, \\pi\\right)\\right)^{2} + 5.63279090877144 \\times 10^{15} \\, \\pi^{2} {\\left| 6.70603801652677 \\times 10^{25}i \\, \\pi + 8.88314980327947 \\times 10^{14} \\right|} \\sin\\left(\\frac{1}{2} \\, \\arctan\\left(7.54916686652188 \\times 10^{10} \\, \\pi\\right)\\right)^{2} + 3.35766310874379 \\times 10^{23} \\, \\pi^{2} \\sqrt{{\\left| 6.70603801652677 \\times 10^{25}i \\, \\pi + 8.88314980327947 \\times 10^{14} \\right|}} \\cos\\left(\\frac{1}{2} \\, \\arctan\\left(7.54916686652188 \\times 10^{10} \\, \\pi\\right)\\right) - 2.56159569009977 \\times 10^{13} \\, \\pi \\sqrt{{\\left| 6.70603801652677 \\times 10^{25}i \\, \\pi + 8.88314980327947 \\times 10^{14} \\right|}} \\cos\\left(\\frac{1}{2} \\, \\arctan\\left(7.54916686652188 \\times 10^{10} \\, \\pi\\right)\\right) + 2.80731854150634 \\times 10^{12} \\, \\pi \\sqrt{{\\left| 6.70603801652677 \\times 10^{25}i \\, \\pi + 8.88314980327947 \\times 10^{14} \\right|}} \\sin\\left(\\frac{1}{2} \\, \\arctan\\left(7.54916686652188 \\times 10^{10} \\, \\pi\\right)\\right) + 5.00369254531674 \\times 10^{30} \\, \\pi^{2} + 29472880145.13282} - \\frac{4.36539857318534 \\times 10^{15} \\, \\pi \\mathit{B1}_{\\mathit{zl}_{\\mathit{re}}} \\sqrt{{\\left| 6.70603801652677 \\times 10^{25}i \\, \\pi + 8.88314980327947 \\times 10^{14} \\right|}} \\sqrt{{\\left| 74614.7357498621i \\, \\pi - 6.238485647791859 \\times 10^{-07} - 5.6924348668883825 \\times 10^{-06}i \\right|}} \\cos\\left(\\frac{1}{2} \\, \\arctan\\left(7.54916686652188 \\times 10^{10} \\, \\pi\\right)\\right) \\cos\\left(\\frac{1}{2} \\, \\arctan\\left(74614.7357498621 \\, \\pi - 5.6924348668883825 \\times 10^{-06}, -6.238485647791859 \\times 10^{-07}\\right)\\right)}{-7.63473692479120 \\times 10^{20} \\, \\pi + 5.63279090877144 \\times 10^{15} \\, \\pi^{2} {\\left| 6.70603801652677 \\times 10^{25}i \\, \\pi + 8.88314980327947 \\times 10^{14} \\right|} \\cos\\left(\\frac{1}{2} \\, \\arctan\\left(7.54916686652188 \\times 10^{10} \\, \\pi\\right)\\right)^{2} + 5.63279090877144 \\times 10^{15} \\, \\pi^{2} {\\left| 6.70603801652677 \\times 10^{25}i \\, \\pi + 8.88314980327947 \\times 10^{14} \\right|} \\sin\\left(\\frac{1}{2} \\, \\arctan\\left(7.54916686652188 \\times 10^{10} \\, \\pi\\right)\\right)^{2} + 3.35766310874379 \\times 10^{23} \\, \\pi^{2} \\sqrt{{\\left| 6.70603801652677 \\times 10^{25}i \\, \\pi + 8.88314980327947 \\times 10^{14} \\right|}} \\cos\\left(\\frac{1}{2} \\, \\arctan\\left(7.54916686652188 \\times 10^{10} \\, \\pi\\right)\\right) - 2.56159569009977 \\times 10^{13} \\, \\pi \\sqrt{{\\left| 6.70603801652677 \\times 10^{25}i \\, \\pi + 8.88314980327947 \\times 10^{14} \\right|}} \\cos\\left(\\frac{1}{2} \\, \\arctan\\left(7.54916686652188 \\times 10^{10} \\, \\pi\\right)\\right) + 2.80731854150634 \\times 10^{12} \\, \\pi \\sqrt{{\\left| 6.70603801652677 \\times 10^{25}i \\, \\pi + 8.88314980327947 \\times 10^{14} \\right|}} \\sin\\left(\\frac{1}{2} \\, \\arctan\\left(7.54916686652188 \\times 10^{10} \\, \\pi\\right)\\right) + 5.00369254531674 \\times 10^{30} \\, \\pi^{2} + 29472880145.13282} - \\frac{4.36539857318534 \\times 10^{15} \\, \\pi \\mathit{B1}_{\\mathit{zl}_{\\mathit{im}}} \\sqrt{{\\left| 6.70603801652677 \\times 10^{25}i \\, \\pi + 8.88314980327947 \\times 10^{14} \\right|}} \\sqrt{{\\left| 74614.7357498621i \\, \\pi - 6.238485647791859 \\times 10^{-07} - 5.6924348668883825 \\times 10^{-06}i \\right|}} \\cos\\left(\\frac{1}{2} \\, \\arctan\\left(74614.7357498621 \\, \\pi - 5.6924348668883825 \\times 10^{-06}, -6.238485647791859 \\times 10^{-07}\\right)\\right) \\sin\\left(\\frac{1}{2} \\, \\arctan\\left(7.54916686652188 \\times 10^{10} \\, \\pi\\right)\\right)}{-7.63473692479120 \\times 10^{20} \\, \\pi + 5.63279090877144 \\times 10^{15} \\, \\pi^{2} {\\left| 6.70603801652677 \\times 10^{25}i \\, \\pi + 8.88314980327947 \\times 10^{14} \\right|} \\cos\\left(\\frac{1}{2} \\, \\arctan\\left(7.54916686652188 \\times 10^{10} \\, \\pi\\right)\\right)^{2} + 5.63279090877144 \\times 10^{15} \\, \\pi^{2} {\\left| 6.70603801652677 \\times 10^{25}i \\, \\pi + 8.88314980327947 \\times 10^{14} \\right|} \\sin\\left(\\frac{1}{2} \\, \\arctan\\left(7.54916686652188 \\times 10^{10} \\, \\pi\\right)\\right)^{2} + 3.35766310874379 \\times 10^{23} \\, \\pi^{2} \\sqrt{{\\left| 6.70603801652677 \\times 10^{25}i \\, \\pi + 8.88314980327947 \\times 10^{14} \\right|}} \\cos\\left(\\frac{1}{2} \\, \\arctan\\left(7.54916686652188 \\times 10^{10} \\, \\pi\\right)\\right) - 2.56159569009977 \\times 10^{13} \\, \\pi \\sqrt{{\\left| 6.70603801652677 \\times 10^{25}i \\, \\pi + 8.88314980327947 \\times 10^{14} \\right|}} \\cos\\left(\\frac{1}{2} \\, \\arctan\\left(7.54916686652188 \\times 10^{10} \\, \\pi\\right)\\right) + 2.80731854150634 \\times 10^{12} \\, \\pi \\sqrt{{\\left| 6.70603801652677 \\times 10^{25}i \\, \\pi + 8.88314980327947 \\times 10^{14} \\right|}} \\sin\\left(\\frac{1}{2} \\, \\arctan\\left(7.54916686652188 \\times 10^{10} \\, \\pi\\right)\\right) + 5.00369254531674 \\times 10^{30} \\, \\pi^{2} + 29472880145.13282} - \\frac{3.30072398092559 \\times 10^{15} \\, \\pi \\mathit{B1}_{\\mathit{zl}_{\\mathit{re}}} \\sqrt{{\\left| 6.70603801652677 \\times 10^{25}i \\, \\pi + 8.88314980327947 \\times 10^{14} \\right|}} \\sqrt{{\\left| 74614.7357498621i \\, \\pi - 6.238485647791859 \\times 10^{-07} - 5.6924348668883825 \\times 10^{-06}i \\right|}} \\cos\\left(\\frac{1}{2} \\, \\arctan\\left(74614.7357498621 \\, \\pi - 5.6924348668883825 \\times 10^{-06}, -6.238485647791859 \\times 10^{-07}\\right)\\right) \\sin\\left(\\frac{1}{2} \\, \\arctan\\left(7.54916686652188 \\times 10^{10} \\, \\pi\\right)\\right)}{-7.63473692479120 \\times 10^{20} \\, \\pi + 5.63279090877144 \\times 10^{15} \\, \\pi^{2} {\\left| 6.70603801652677 \\times 10^{25}i \\, \\pi + 8.88314980327947 \\times 10^{14} \\right|} \\cos\\left(\\frac{1}{2} \\, \\arctan\\left(7.54916686652188 \\times 10^{10} \\, \\pi\\right)\\right)^{2} + 5.63279090877144 \\times 10^{15} \\, \\pi^{2} {\\left| 6.70603801652677 \\times 10^{25}i \\, \\pi + 8.88314980327947 \\times 10^{14} \\right|} \\sin\\left(\\frac{1}{2} \\, \\arctan\\left(7.54916686652188 \\times 10^{10} \\, \\pi\\right)\\right)^{2} + 3.35766310874379 \\times 10^{23} \\, \\pi^{2} \\sqrt{{\\left| 6.70603801652677 \\times 10^{25}i \\, \\pi + 8.88314980327947 \\times 10^{14} \\right|}} \\cos\\left(\\frac{1}{2} \\, \\arctan\\left(7.54916686652188 \\times 10^{10} \\, \\pi\\right)\\right) - 2.56159569009977 \\times 10^{13} \\, \\pi \\sqrt{{\\left| 6.70603801652677 \\times 10^{25}i \\, \\pi + 8.88314980327947 \\times 10^{14} \\right|}} \\cos\\left(\\frac{1}{2} \\, \\arctan\\left(7.54916686652188 \\times 10^{10} \\, \\pi\\right)\\right) + 2.80731854150634 \\times 10^{12} \\, \\pi \\sqrt{{\\left| 6.70603801652677 \\times 10^{25}i \\, \\pi + 8.88314980327947 \\times 10^{14} \\right|}} \\sin\\left(\\frac{1}{2} \\, \\arctan\\left(7.54916686652188 \\times 10^{10} \\, \\pi\\right)\\right) + 5.00369254531674 \\times 10^{30} \\, \\pi^{2} + 29472880145.13282} + \\frac{4365398573185342.0 \\, \\pi \\mathit{B1}_{\\mathit{zl}_{\\mathit{im}}} \\sqrt{{\\left| 6.70603801652677 \\times 10^{25}i \\, \\pi + 8.88314980327947 \\times 10^{14} \\right|}} \\sqrt{{\\left| 74614.7357498621i \\, \\pi - 6.238485647791859 \\times 10^{-07} - 5.6924348668883825 \\times 10^{-06}i \\right|}} \\cos\\left(\\frac{1}{2} \\, \\arctan\\left(7.54916686652188 \\times 10^{10} \\, \\pi\\right)\\right) \\sin\\left(\\frac{1}{2} \\, \\arctan\\left(74614.7357498621 \\, \\pi - 5.6924348668883825 \\times 10^{-06}, -6.238485647791859 \\times 10^{-07}\\right)\\right)}{-7.63473692479120 \\times 10^{20} \\, \\pi + 5.63279090877144 \\times 10^{15} \\, \\pi^{2} {\\left| 6.70603801652677 \\times 10^{25}i \\, \\pi + 8.88314980327947 \\times 10^{14} \\right|} \\cos\\left(\\frac{1}{2} \\, \\arctan\\left(7.54916686652188 \\times 10^{10} \\, \\pi\\right)\\right)^{2} + 5.63279090877144 \\times 10^{15} \\, \\pi^{2} {\\left| 6.70603801652677 \\times 10^{25}i \\, \\pi + 8.88314980327947 \\times 10^{14} \\right|} \\sin\\left(\\frac{1}{2} \\, \\arctan\\left(7.54916686652188 \\times 10^{10} \\, \\pi\\right)\\right)^{2} + 3.35766310874379 \\times 10^{23} \\, \\pi^{2} \\sqrt{{\\left| 6.70603801652677 \\times 10^{25}i \\, \\pi + 8.88314980327947 \\times 10^{14} \\right|}} \\cos\\left(\\frac{1}{2} \\, \\arctan\\left(7.54916686652188 \\times 10^{10} \\, \\pi\\right)\\right) - 2.56159569009977 \\times 10^{13} \\, \\pi \\sqrt{{\\left| 6.70603801652677 \\times 10^{25}i \\, \\pi + 8.88314980327947 \\times 10^{14} \\right|}} \\cos\\left(\\frac{1}{2} \\, \\arctan\\left(7.54916686652188 \\times 10^{10} \\, \\pi\\right)\\right) + 2.80731854150634 \\times 10^{12} \\, \\pi \\sqrt{{\\left| 6.70603801652677 \\times 10^{25}i \\, \\pi + 8.88314980327947 \\times 10^{14} \\right|}} \\sin\\left(\\frac{1}{2} \\, \\arctan\\left(7.54916686652188 \\times 10^{10} \\, \\pi\\right)\\right) + 5.00369254531674 \\times 10^{30} \\, \\pi^{2} + 29472880145.13282} + \\frac{3.30072398092559 \\times 10^{15} \\, \\pi \\mathit{B1}_{\\mathit{zl}_{\\mathit{re}}} \\sqrt{{\\left| 6.70603801652677 \\times 10^{25}i \\, \\pi + 8.88314980327947 \\times 10^{14} \\right|}} \\sqrt{{\\left| 74614.7357498621i \\, \\pi - 6.238485647791859 \\times 10^{-07} - 5.6924348668883825 \\times 10^{-06}i \\right|}} \\cos\\left(\\frac{1}{2} \\, \\arctan\\left(7.54916686652188 \\times 10^{10} \\, \\pi\\right)\\right) \\sin\\left(\\frac{1}{2} \\, \\arctan\\left(74614.7357498621 \\, \\pi - 5.6924348668883825 \\times 10^{-06}, -6.238485647791859 \\times 10^{-07}\\right)\\right)}{-7.63473692479120 \\times 10^{20} \\, \\pi + 5.63279090877144 \\times 10^{15} \\, \\pi^{2} {\\left| 6.70603801652677 \\times 10^{25}i \\, \\pi + 8.88314980327947 \\times 10^{14} \\right|} \\cos\\left(\\frac{1}{2} \\, \\arctan\\left(7.54916686652188 \\times 10^{10} \\, \\pi\\right)\\right)^{2} + 5.63279090877144 \\times 10^{15} \\, \\pi^{2} {\\left| 6.70603801652677 \\times 10^{25}i \\, \\pi + 8.88314980327947 \\times 10^{14} \\right|} \\sin\\left(\\frac{1}{2} \\, \\arctan\\left(7.54916686652188 \\times 10^{10} \\, \\pi\\right)\\right)^{2} + 3.35766310874379 \\times 10^{23} \\, \\pi^{2} \\sqrt{{\\left| 6.70603801652677 \\times 10^{25}i \\, \\pi + 8.88314980327947 \\times 10^{14} \\right|}} \\cos\\left(\\frac{1}{2} \\, \\arctan\\left(7.54916686652188 \\times 10^{10} \\, \\pi\\right)\\right) - 2.56159569009977 \\times 10^{13} \\, \\pi \\sqrt{{\\left| 6.70603801652677 \\times 10^{25}i \\, \\pi + 8.88314980327947 \\times 10^{14} \\right|}} \\cos\\left(\\frac{1}{2} \\, \\arctan\\left(7.54916686652188 \\times 10^{10} \\, \\pi\\right)\\right) + 2.80731854150634 \\times 10^{12} \\, \\pi \\sqrt{{\\left| 6.70603801652677 \\times 10^{25}i \\, \\pi + 8.88314980327947 \\times 10^{14} \\right|}} \\sin\\left(\\frac{1}{2} \\, \\arctan\\left(7.54916686652188 \\times 10^{10} \\, \\pi\\right)\\right) + 5.00369254531674 \\times 10^{30} \\, \\pi^{2} + 29472880145.13282} + \\frac{3.30072398092559 \\times 10^{15} \\, \\pi \\mathit{B1}_{\\mathit{zl}_{\\mathit{im}}} \\sqrt{{\\left| 6.70603801652677 \\times 10^{25}i \\, \\pi + 8.88314980327947 \\times 10^{14} \\right|}} \\sqrt{{\\left| 74614.7357498621i \\, \\pi - 6.238485647791859 \\times 10^{-07} - 5.6924348668883825 \\times 10^{-06}i \\right|}} \\sin\\left(\\frac{1}{2} \\, \\arctan\\left(7.54916686652188 \\times 10^{10} \\, \\pi\\right)\\right) \\sin\\left(\\frac{1}{2} \\, \\arctan\\left(74614.7357498621 \\, \\pi - 5.6924348668883825 \\times 10^{-06}, -6.238485647791859 \\times 10^{-07}\\right)\\right)}{-7.63473692479120 \\times 10^{20} \\, \\pi + 5.63279090877144 \\times 10^{15} \\, \\pi^{2} {\\left| 6.70603801652677 \\times 10^{25}i \\, \\pi + 8.88314980327947 \\times 10^{14} \\right|} \\cos\\left(\\frac{1}{2} \\, \\arctan\\left(7.54916686652188 \\times 10^{10} \\, \\pi\\right)\\right)^{2} + 5.63279090877144 \\times 10^{15} \\, \\pi^{2} {\\left| 6.70603801652677 \\times 10^{25}i \\, \\pi + 8.88314980327947 \\times 10^{14} \\right|} \\sin\\left(\\frac{1}{2} \\, \\arctan\\left(7.54916686652188 \\times 10^{10} \\, \\pi\\right)\\right)^{2} + 3.35766310874379 \\times 10^{23} \\, \\pi^{2} \\sqrt{{\\left| 6.70603801652677 \\times 10^{25}i \\, \\pi + 8.88314980327947 \\times 10^{14} \\right|}} \\cos\\left(\\frac{1}{2} \\, \\arctan\\left(7.54916686652188 \\times 10^{10} \\, \\pi\\right)\\right) - 2.56159569009977 \\times 10^{13} \\, \\pi \\sqrt{{\\left| 6.70603801652677 \\times 10^{25}i \\, \\pi + 8.88314980327947 \\times 10^{14} \\right|}} \\cos\\left(\\frac{1}{2} \\, \\arctan\\left(7.54916686652188 \\times 10^{10} \\, \\pi\\right)\\right) + 2.80731854150634 \\times 10^{12} \\, \\pi \\sqrt{{\\left| 6.70603801652677 \\times 10^{25}i \\, \\pi + 8.88314980327947 \\times 10^{14} \\right|}} \\sin\\left(\\frac{1}{2} \\, \\arctan\\left(7.54916686652188 \\times 10^{10} \\, \\pi\\right)\\right) + 5.00369254531674 \\times 10^{30} \\, \\pi^{2} + 29472880145.13282} - \\frac{4.36539857318534 \\times 10^{15} \\, \\pi \\mathit{B1}_{\\mathit{zl}_{\\mathit{re}}} \\sqrt{{\\left| 6.70603801652677 \\times 10^{25}i \\, \\pi + 8.88314980327947 \\times 10^{14} \\right|}} \\sqrt{{\\left| 74614.7357498621i \\, \\pi - 6.238485647791859 \\times 10^{-07} - 5.6924348668883825 \\times 10^{-06}i \\right|}} \\sin\\left(\\frac{1}{2} \\, \\arctan\\left(7.54916686652188 \\times 10^{10} \\, \\pi\\right)\\right) \\sin\\left(\\frac{1}{2} \\, \\arctan\\left(74614.7357498621 \\, \\pi - 5.6924348668883825 \\times 10^{-06}, -6.238485647791859 \\times 10^{-07}\\right)\\right)}{-7.63473692479120 \\times 10^{20} \\, \\pi + 5.63279090877144 \\times 10^{15} \\, \\pi^{2} {\\left| 6.70603801652677 \\times 10^{25}i \\, \\pi + 8.88314980327947 \\times 10^{14} \\right|} \\cos\\left(\\frac{1}{2} \\, \\arctan\\left(7.54916686652188 \\times 10^{10} \\, \\pi\\right)\\right)^{2} + 5.63279090877144 \\times 10^{15} \\, \\pi^{2} {\\left| 6.70603801652677 \\times 10^{25}i \\, \\pi + 8.88314980327947 \\times 10^{14} \\right|} \\sin\\left(\\frac{1}{2} \\, \\arctan\\left(7.54916686652188 \\times 10^{10} \\, \\pi\\right)\\right)^{2} + 3.35766310874379 \\times 10^{23} \\, \\pi^{2} \\sqrt{{\\left| 6.70603801652677 \\times 10^{25}i \\, \\pi + 8.88314980327947 \\times 10^{14} \\right|}} \\cos\\left(\\frac{1}{2} \\, \\arctan\\left(7.54916686652188 \\times 10^{10} \\, \\pi\\right)\\right) - 2.56159569009977 \\times 10^{13} \\, \\pi \\sqrt{{\\left| 6.70603801652677 \\times 10^{25}i \\, \\pi + 8.88314980327947 \\times 10^{14} \\right|}} \\cos\\left(\\frac{1}{2} \\, \\arctan\\left(7.54916686652188 \\times 10^{10} \\, \\pi\\right)\\right) + 2.80731854150634 \\times 10^{12} \\, \\pi \\sqrt{{\\left| 6.70603801652677 \\times 10^{25}i \\, \\pi + 8.88314980327947 \\times 10^{14} \\right|}} \\sin\\left(\\frac{1}{2} \\, \\arctan\\left(7.54916686652188 \\times 10^{10} \\, \\pi\\right)\\right) + 5.00369254531674 \\times 10^{30} \\, \\pi^{2} + 29472880145.13282} + \\frac{9.82214678966702 \\times 10^{33} \\, \\pi^{2} \\mathit{B1}_{\\mathit{zl}_{\\mathit{im}}} \\sqrt{{\\left| 74614.7357498621i \\, \\pi - 6.238485647791859 \\times 10^{-07} - 5.6924348668883825 \\times 10^{-06}i \\right|}} \\cos\\left(\\frac{1}{2} \\, \\arctan\\left(74614.7357498621 \\, \\pi - 5.6924348668883825 \\times 10^{-06}, -6.238485647791859 \\times 10^{-07}\\right)\\right)}{-7.63473692479120 \\times 10^{20} \\, \\pi + 5.63279090877144 \\times 10^{15} \\, \\pi^{2} {\\left| 6.70603801652677 \\times 10^{25}i \\, \\pi + 8.88314980327947 \\times 10^{14} \\right|} \\cos\\left(\\frac{1}{2} \\, \\arctan\\left(7.54916686652188 \\times 10^{10} \\, \\pi\\right)\\right)^{2} + 5.63279090877144 \\times 10^{15} \\, \\pi^{2} {\\left| 6.70603801652677 \\times 10^{25}i \\, \\pi + 8.88314980327947 \\times 10^{14} \\right|} \\sin\\left(\\frac{1}{2} \\, \\arctan\\left(7.54916686652188 \\times 10^{10} \\, \\pi\\right)\\right)^{2} + 3.35766310874379 \\times 10^{23} \\, \\pi^{2} \\sqrt{{\\left| 6.70603801652677 \\times 10^{25}i \\, \\pi + 8.88314980327947 \\times 10^{14} \\right|}} \\cos\\left(\\frac{1}{2} \\, \\arctan\\left(7.54916686652188 \\times 10^{10} \\, \\pi\\right)\\right) - 2.56159569009977 \\times 10^{13} \\, \\pi \\sqrt{{\\left| 6.70603801652677 \\times 10^{25}i \\, \\pi + 8.88314980327947 \\times 10^{14} \\right|}} \\cos\\left(\\frac{1}{2} \\, \\arctan\\left(7.54916686652188 \\times 10^{10} \\, \\pi\\right)\\right) + 2.80731854150634 \\times 10^{12} \\, \\pi \\sqrt{{\\left| 6.70603801652677 \\times 10^{25}i \\, \\pi + 8.88314980327947 \\times 10^{14} \\right|}} \\sin\\left(\\frac{1}{2} \\, \\arctan\\left(7.54916686652188 \\times 10^{10} \\, \\pi\\right)\\right) + 5.00369254531674 \\times 10^{30} \\, \\pi^{2} + 29472880145.13282} + \\frac{7.42662895708257 \\times 10^{33} \\, \\pi^{2} \\mathit{B1}_{\\mathit{zl}_{\\mathit{re}}} \\sqrt{{\\left| 74614.7357498621i \\, \\pi - 6.238485647791859 \\times 10^{-07} - 5.6924348668883825 \\times 10^{-06}i \\right|}} \\cos\\left(\\frac{1}{2} \\, \\arctan\\left(74614.7357498621 \\, \\pi - 5.6924348668883825 \\times 10^{-06}, -6.238485647791859 \\times 10^{-07}\\right)\\right)}{-7.63473692479120 \\times 10^{20} \\, \\pi + 5.63279090877144 \\times 10^{15} \\, \\pi^{2} {\\left| 6.70603801652677 \\times 10^{25}i \\, \\pi + 8.88314980327947 \\times 10^{14} \\right|} \\cos\\left(\\frac{1}{2} \\, \\arctan\\left(7.54916686652188 \\times 10^{10} \\, \\pi\\right)\\right)^{2} + 5.63279090877144 \\times 10^{15} \\, \\pi^{2} {\\left| 6.70603801652677 \\times 10^{25}i \\, \\pi + 8.88314980327947 \\times 10^{14} \\right|} \\sin\\left(\\frac{1}{2} \\, \\arctan\\left(7.54916686652188 \\times 10^{10} \\, \\pi\\right)\\right)^{2} + 3.35766310874379 \\times 10^{23} \\, \\pi^{2} \\sqrt{{\\left| 6.70603801652677 \\times 10^{25}i \\, \\pi + 8.88314980327947 \\times 10^{14} \\right|}} \\cos\\left(\\frac{1}{2} \\, \\arctan\\left(7.54916686652188 \\times 10^{10} \\, \\pi\\right)\\right) - 2.56159569009977 \\times 10^{13} \\, \\pi \\sqrt{{\\left| 6.70603801652677 \\times 10^{25}i \\, \\pi + 8.88314980327947 \\times 10^{14} \\right|}} \\cos\\left(\\frac{1}{2} \\, \\arctan\\left(7.54916686652188 \\times 10^{10} \\, \\pi\\right)\\right) + 2.80731854150634 \\times 10^{12} \\, \\pi \\sqrt{{\\left| 6.70603801652677 \\times 10^{25}i \\, \\pi + 8.88314980327947 \\times 10^{14} \\right|}} \\sin\\left(\\frac{1}{2} \\, \\arctan\\left(7.54916686652188 \\times 10^{10} \\, \\pi\\right)\\right) + 5.00369254531674 \\times 10^{30} \\, \\pi^{2} + 29472880145.13282} - \\frac{7.42662895708257 \\times 10^{33} \\, \\pi^{2} \\mathit{B1}_{\\mathit{zl}_{\\mathit{im}}} \\sqrt{{\\left| 74614.7357498621i \\, \\pi - 6.238485647791859 \\times 10^{-07} - 5.6924348668883825 \\times 10^{-06}i \\right|}} \\sin\\left(\\frac{1}{2} \\, \\arctan\\left(74614.7357498621 \\, \\pi - 5.6924348668883825 \\times 10^{-06}, -6.238485647791859 \\times 10^{-07}\\right)\\right)}{-7.63473692479120 \\times 10^{20} \\, \\pi + 5.63279090877144 \\times 10^{15} \\, \\pi^{2} {\\left| 6.70603801652677 \\times 10^{25}i \\, \\pi + 8.88314980327947 \\times 10^{14} \\right|} \\cos\\left(\\frac{1}{2} \\, \\arctan\\left(7.54916686652188 \\times 10^{10} \\, \\pi\\right)\\right)^{2} + 5.63279090877144 \\times 10^{15} \\, \\pi^{2} {\\left| 6.70603801652677 \\times 10^{25}i \\, \\pi + 8.88314980327947 \\times 10^{14} \\right|} \\sin\\left(\\frac{1}{2} \\, \\arctan\\left(7.54916686652188 \\times 10^{10} \\, \\pi\\right)\\right)^{2} + 3.35766310874379 \\times 10^{23} \\, \\pi^{2} \\sqrt{{\\left| 6.70603801652677 \\times 10^{25}i \\, \\pi + 8.88314980327947 \\times 10^{14} \\right|}} \\cos\\left(\\frac{1}{2} \\, \\arctan\\left(7.54916686652188 \\times 10^{10} \\, \\pi\\right)\\right) - 2.56159569009977 \\times 10^{13} \\, \\pi \\sqrt{{\\left| 6.70603801652677 \\times 10^{25}i \\, \\pi + 8.88314980327947 \\times 10^{14} \\right|}} \\cos\\left(\\frac{1}{2} \\, \\arctan\\left(7.54916686652188 \\times 10^{10} \\, \\pi\\right)\\right) + 2.80731854150634 \\times 10^{12} \\, \\pi \\sqrt{{\\left| 6.70603801652677 \\times 10^{25}i \\, \\pi + 8.88314980327947 \\times 10^{14} \\right|}} \\sin\\left(\\frac{1}{2} \\, \\arctan\\left(7.54916686652188 \\times 10^{10} \\, \\pi\\right)\\right) + 5.00369254531674 \\times 10^{30} \\, \\pi^{2} + 29472880145.13282} + \\frac{9.82214678966702 \\times 10^{33} \\, \\pi^{2} \\mathit{B1}_{\\mathit{zl}_{\\mathit{re}}} \\sqrt{{\\left| 74614.7357498621i \\, \\pi - 6.238485647791859 \\times 10^{-07} - 5.6924348668883825 \\times 10^{-06}i \\right|}} \\sin\\left(\\frac{1}{2} \\, \\arctan\\left(74614.7357498621 \\, \\pi - 5.6924348668883825 \\times 10^{-06}, -6.238485647791859 \\times 10^{-07}\\right)\\right)}{-7.63473692479120 \\times 10^{20} \\, \\pi + 5.63279090877144 \\times 10^{15} \\, \\pi^{2} {\\left| 6.70603801652677 \\times 10^{25}i \\, \\pi + 8.88314980327947 \\times 10^{14} \\right|} \\cos\\left(\\frac{1}{2} \\, \\arctan\\left(7.54916686652188 \\times 10^{10} \\, \\pi\\right)\\right)^{2} + 5.63279090877144 \\times 10^{15} \\, \\pi^{2} {\\left| 6.70603801652677 \\times 10^{25}i \\, \\pi + 8.88314980327947 \\times 10^{14} \\right|} \\sin\\left(\\frac{1}{2} \\, \\arctan\\left(7.54916686652188 \\times 10^{10} \\, \\pi\\right)\\right)^{2} + 3.35766310874379 \\times 10^{23} \\, \\pi^{2} \\sqrt{{\\left| 6.70603801652677 \\times 10^{25}i \\, \\pi + 8.88314980327947 \\times 10^{14} \\right|}} \\cos\\left(\\frac{1}{2} \\, \\arctan\\left(7.54916686652188 \\times 10^{10} \\, \\pi\\right)\\right) - 2.56159569009977 \\times 10^{13} \\, \\pi \\sqrt{{\\left| 6.70603801652677 \\times 10^{25}i \\, \\pi + 8.88314980327947 \\times 10^{14} \\right|}} \\cos\\left(\\frac{1}{2} \\, \\arctan\\left(7.54916686652188 \\times 10^{10} \\, \\pi\\right)\\right) + 2.80731854150634 \\times 10^{12} \\, \\pi \\sqrt{{\\left| 6.70603801652677 \\times 10^{25}i \\, \\pi + 8.88314980327947 \\times 10^{14} \\right|}} \\sin\\left(\\frac{1}{2} \\, \\arctan\\left(7.54916686652188 \\times 10^{10} \\, \\pi\\right)\\right) + 5.00369254531674 \\times 10^{30} \\, \\pi^{2} + 29472880145.13282} - \\frac{5.888713468524272 \\times 10^{23} \\, \\pi \\mathit{B1}_{\\mathit{zl}_{\\mathit{im}}} \\sqrt{{\\left| 74614.7357498621i \\, \\pi - 6.238485647791859 \\times 10^{-07} - 5.6924348668883825 \\times 10^{-06}i \\right|}} \\cos\\left(\\frac{1}{2} \\, \\arctan\\left(74614.7357498621 \\, \\pi - 5.6924348668883825 \\times 10^{-06}, -6.238485647791859 \\times 10^{-07}\\right)\\right)}{-7.63473692479120 \\times 10^{20} \\, \\pi + 5.63279090877144 \\times 10^{15} \\, \\pi^{2} {\\left| 6.70603801652677 \\times 10^{25}i \\, \\pi + 8.88314980327947 \\times 10^{14} \\right|} \\cos\\left(\\frac{1}{2} \\, \\arctan\\left(7.54916686652188 \\times 10^{10} \\, \\pi\\right)\\right)^{2} + 5.63279090877144 \\times 10^{15} \\, \\pi^{2} {\\left| 6.70603801652677 \\times 10^{25}i \\, \\pi + 8.88314980327947 \\times 10^{14} \\right|} \\sin\\left(\\frac{1}{2} \\, \\arctan\\left(7.54916686652188 \\times 10^{10} \\, \\pi\\right)\\right)^{2} + 3.35766310874379 \\times 10^{23} \\, \\pi^{2} \\sqrt{{\\left| 6.70603801652677 \\times 10^{25}i \\, \\pi + 8.88314980327947 \\times 10^{14} \\right|}} \\cos\\left(\\frac{1}{2} \\, \\arctan\\left(7.54916686652188 \\times 10^{10} \\, \\pi\\right)\\right) - 2.56159569009977 \\times 10^{13} \\, \\pi \\sqrt{{\\left| 6.70603801652677 \\times 10^{25}i \\, \\pi + 8.88314980327947 \\times 10^{14} \\right|}} \\cos\\left(\\frac{1}{2} \\, \\arctan\\left(7.54916686652188 \\times 10^{10} \\, \\pi\\right)\\right) + 2.80731854150634 \\times 10^{12} \\, \\pi \\sqrt{{\\left| 6.70603801652677 \\times 10^{25}i \\, \\pi + 8.88314980327947 \\times 10^{14} \\right|}} \\sin\\left(\\frac{1}{2} \\, \\arctan\\left(7.54916686652188 \\times 10^{10} \\, \\pi\\right)\\right) + 5.00369254531674 \\times 10^{30} \\, \\pi^{2} + 29472880145.13282} - \\frac{7.78816451237602 \\times 10^{23} \\, \\pi \\mathit{B1}_{\\mathit{zl}_{\\mathit{re}}} \\sqrt{{\\left| 74614.7357498621i \\, \\pi - 6.238485647791859 \\times 10^{-07} - 5.6924348668883825 \\times 10^{-06}i \\right|}} \\cos\\left(\\frac{1}{2} \\, \\arctan\\left(74614.7357498621 \\, \\pi - 5.6924348668883825 \\times 10^{-06}, -6.238485647791859 \\times 10^{-07}\\right)\\right)}{-7.63473692479120 \\times 10^{20} \\, \\pi + 5.63279090877144 \\times 10^{15} \\, \\pi^{2} {\\left| 6.70603801652677 \\times 10^{25}i \\, \\pi + 8.88314980327947 \\times 10^{14} \\right|} \\cos\\left(\\frac{1}{2} \\, \\arctan\\left(7.54916686652188 \\times 10^{10} \\, \\pi\\right)\\right)^{2} + 5.63279090877144 \\times 10^{15} \\, \\pi^{2} {\\left| 6.70603801652677 \\times 10^{25}i \\, \\pi + 8.88314980327947 \\times 10^{14} \\right|} \\sin\\left(\\frac{1}{2} \\, \\arctan\\left(7.54916686652188 \\times 10^{10} \\, \\pi\\right)\\right)^{2} + 3.35766310874379 \\times 10^{23} \\, \\pi^{2} \\sqrt{{\\left| 6.70603801652677 \\times 10^{25}i \\, \\pi + 8.88314980327947 \\times 10^{14} \\right|}} \\cos\\left(\\frac{1}{2} \\, \\arctan\\left(7.54916686652188 \\times 10^{10} \\, \\pi\\right)\\right) - 2.56159569009977 \\times 10^{13} \\, \\pi \\sqrt{{\\left| 6.70603801652677 \\times 10^{25}i \\, \\pi + 8.88314980327947 \\times 10^{14} \\right|}} \\cos\\left(\\frac{1}{2} \\, \\arctan\\left(7.54916686652188 \\times 10^{10} \\, \\pi\\right)\\right) + 2.80731854150634 \\times 10^{12} \\, \\pi \\sqrt{{\\left| 6.70603801652677 \\times 10^{25}i \\, \\pi + 8.88314980327947 \\times 10^{14} \\right|}} \\sin\\left(\\frac{1}{2} \\, \\arctan\\left(7.54916686652188 \\times 10^{10} \\, \\pi\\right)\\right) + 5.00369254531674 \\times 10^{30} \\, \\pi^{2} + 29472880145.13282} + \\frac{7.78816451237602 \\times 10^{23} \\, \\pi \\mathit{B1}_{\\mathit{zl}_{\\mathit{im}}} \\sqrt{{\\left| 74614.7357498621i \\, \\pi - 6.238485647791859 \\times 10^{-07} - 5.6924348668883825 \\times 10^{-06}i \\right|}} \\sin\\left(\\frac{1}{2} \\, \\arctan\\left(74614.7357498621 \\, \\pi - 5.6924348668883825 \\times 10^{-06}, -6.238485647791859 \\times 10^{-07}\\right)\\right)}{-7.63473692479120 \\times 10^{20} \\, \\pi + 5.63279090877144 \\times 10^{15} \\, \\pi^{2} {\\left| 6.70603801652677 \\times 10^{25}i \\, \\pi + 8.88314980327947 \\times 10^{14} \\right|} \\cos\\left(\\frac{1}{2} \\, \\arctan\\left(7.54916686652188 \\times 10^{10} \\, \\pi\\right)\\right)^{2} + 5.63279090877144 \\times 10^{15} \\, \\pi^{2} {\\left| 6.70603801652677 \\times 10^{25}i \\, \\pi + 8.88314980327947 \\times 10^{14} \\right|} \\sin\\left(\\frac{1}{2} \\, \\arctan\\left(7.54916686652188 \\times 10^{10} \\, \\pi\\right)\\right)^{2} + 3.35766310874379 \\times 10^{23} \\, \\pi^{2} \\sqrt{{\\left| 6.70603801652677 \\times 10^{25}i \\, \\pi + 8.88314980327947 \\times 10^{14} \\right|}} \\cos\\left(\\frac{1}{2} \\, \\arctan\\left(7.54916686652188 \\times 10^{10} \\, \\pi\\right)\\right) - 2.56159569009977 \\times 10^{13} \\, \\pi \\sqrt{{\\left| 6.70603801652677 \\times 10^{25}i \\, \\pi + 8.88314980327947 \\times 10^{14} \\right|}} \\cos\\left(\\frac{1}{2} \\, \\arctan\\left(7.54916686652188 \\times 10^{10} \\, \\pi\\right)\\right) + 2.80731854150634 \\times 10^{12} \\, \\pi \\sqrt{{\\left| 6.70603801652677 \\times 10^{25}i \\, \\pi + 8.88314980327947 \\times 10^{14} \\right|}} \\sin\\left(\\frac{1}{2} \\, \\arctan\\left(7.54916686652188 \\times 10^{10} \\, \\pi\\right)\\right) + 5.00369254531674 \\times 10^{30} \\, \\pi^{2} + 29472880145.13282} - \\frac{5.88871346852427 \\times 10^{23} \\, \\pi \\mathit{B1}_{\\mathit{zl}_{\\mathit{re}}} \\sqrt{{\\left| 74614.7357498621i \\, \\pi - 6.238485647791859 \\times 10^{-07} - 5.6924348668883825 \\times 10^{-06}i \\right|}} \\sin\\left(\\frac{1}{2} \\, \\arctan\\left(74614.7357498621 \\, \\pi - 5.6924348668883825 \\times 10^{-06}, -6.238485647791859 \\times 10^{-07}\\right)\\right)}{-7.63473692479120 \\times 10^{20} \\, \\pi + 5.63279090877144 \\times 10^{15} \\, \\pi^{2} {\\left| 6.70603801652677 \\times 10^{25}i \\, \\pi + 8.88314980327947 \\times 10^{14} \\right|} \\cos\\left(\\frac{1}{2} \\, \\arctan\\left(7.54916686652188 \\times 10^{10} \\, \\pi\\right)\\right)^{2} + 5.63279090877144 \\times 10^{15} \\, \\pi^{2} {\\left| 6.70603801652677 \\times 10^{25}i \\, \\pi + 8.88314980327947 \\times 10^{14} \\right|} \\sin\\left(\\frac{1}{2} \\, \\arctan\\left(7.54916686652188 \\times 10^{10} \\, \\pi\\right)\\right)^{2} + 3.35766310874379 \\times 10^{23} \\, \\pi^{2} \\sqrt{{\\left| 6.70603801652677 \\times 10^{25}i \\, \\pi + 8.88314980327947 \\times 10^{14} \\right|}} \\cos\\left(\\frac{1}{2} \\, \\arctan\\left(7.54916686652188 \\times 10^{10} \\, \\pi\\right)\\right) - 2.56159569009977 \\times 10^{13} \\, \\pi \\sqrt{{\\left| 6.70603801652677 \\times 10^{25}i \\, \\pi + 8.88314980327947 \\times 10^{14} \\right|}} \\cos\\left(\\frac{1}{2} \\, \\arctan\\left(7.54916686652188 \\times 10^{10} \\, \\pi\\right)\\right) + 2.80731854150634 \\times 10^{12} \\, \\pi \\sqrt{{\\left| 6.70603801652677 \\times 10^{25}i \\, \\pi + 8.88314980327947 \\times 10^{14} \\right|}} \\sin\\left(\\frac{1}{2} \\, \\arctan\\left(7.54916686652188 \\times 10^{10} \\, \\pi\\right)\\right) + 5.00369254531674 \\times 10^{30} \\, \\pi^{2} + 29472880145.13282} - \\frac{8593099687252.745 \\, \\mathit{B1}_{\\mathit{zl}_{\\mathit{im}}} \\sqrt{{\\left| 74614.7357498621i \\, \\pi - 6.238485647791859 \\times 10^{-07} - 5.6924348668883825 \\times 10^{-06}i \\right|}} \\cos\\left(\\frac{1}{2} \\, \\arctan\\left(74614.7357498621 \\, \\pi - 5.6924348668883825 \\times 10^{-06}, -6.238485647791859 \\times 10^{-07}\\right)\\right)}{-7.63473692479120 \\times 10^{20} \\, \\pi + 5.63279090877144 \\times 10^{15} \\, \\pi^{2} {\\left| 6.70603801652677 \\times 10^{25}i \\, \\pi + 8.88314980327947 \\times 10^{14} \\right|} \\cos\\left(\\frac{1}{2} \\, \\arctan\\left(7.54916686652188 \\times 10^{10} \\, \\pi\\right)\\right)^{2} + 5.63279090877144 \\times 10^{15} \\, \\pi^{2} {\\left| 6.70603801652677 \\times 10^{25}i \\, \\pi + 8.88314980327947 \\times 10^{14} \\right|} \\sin\\left(\\frac{1}{2} \\, \\arctan\\left(7.54916686652188 \\times 10^{10} \\, \\pi\\right)\\right)^{2} + 3.35766310874379 \\times 10^{23} \\, \\pi^{2} \\sqrt{{\\left| 6.70603801652677 \\times 10^{25}i \\, \\pi + 8.88314980327947 \\times 10^{14} \\right|}} \\cos\\left(\\frac{1}{2} \\, \\arctan\\left(7.54916686652188 \\times 10^{10} \\, \\pi\\right)\\right) - 2.56159569009977 \\times 10^{13} \\, \\pi \\sqrt{{\\left| 6.70603801652677 \\times 10^{25}i \\, \\pi + 8.88314980327947 \\times 10^{14} \\right|}} \\cos\\left(\\frac{1}{2} \\, \\arctan\\left(7.54916686652188 \\times 10^{10} \\, \\pi\\right)\\right) + 2.80731854150634 \\times 10^{12} \\, \\pi \\sqrt{{\\left| 6.70603801652677 \\times 10^{25}i \\, \\pi + 8.88314980327947 \\times 10^{14} \\right|}} \\sin\\left(\\frac{1}{2} \\, \\arctan\\left(7.54916686652188 \\times 10^{10} \\, \\pi\\right)\\right) + 5.00369254531674 \\times 10^{30} \\, \\pi^{2} + 29472880145.13282} + \\frac{9103629065534.969 \\, \\mathit{B1}_{\\mathit{zl}_{\\mathit{re}}} \\sqrt{{\\left| 74614.7357498621i \\, \\pi - 6.238485647791859 \\times 10^{-07} - 5.6924348668883825 \\times 10^{-06}i \\right|}} \\cos\\left(\\frac{1}{2} \\, \\arctan\\left(74614.7357498621 \\, \\pi - 5.6924348668883825 \\times 10^{-06}, -6.238485647791859 \\times 10^{-07}\\right)\\right)}{-7.63473692479120 \\times 10^{20} \\, \\pi + 5.63279090877144 \\times 10^{15} \\, \\pi^{2} {\\left| 6.70603801652677 \\times 10^{25}i \\, \\pi + 8.88314980327947 \\times 10^{14} \\right|} \\cos\\left(\\frac{1}{2} \\, \\arctan\\left(7.54916686652188 \\times 10^{10} \\, \\pi\\right)\\right)^{2} + 5.63279090877144 \\times 10^{15} \\, \\pi^{2} {\\left| 6.70603801652677 \\times 10^{25}i \\, \\pi + 8.88314980327947 \\times 10^{14} \\right|} \\sin\\left(\\frac{1}{2} \\, \\arctan\\left(7.54916686652188 \\times 10^{10} \\, \\pi\\right)\\right)^{2} + 3.35766310874379 \\times 10^{23} \\, \\pi^{2} \\sqrt{{\\left| 6.70603801652677 \\times 10^{25}i \\, \\pi + 8.88314980327947 \\times 10^{14} \\right|}} \\cos\\left(\\frac{1}{2} \\, \\arctan\\left(7.54916686652188 \\times 10^{10} \\, \\pi\\right)\\right) - 2.56159569009977 \\times 10^{13} \\, \\pi \\sqrt{{\\left| 6.70603801652677 \\times 10^{25}i \\, \\pi + 8.88314980327947 \\times 10^{14} \\right|}} \\cos\\left(\\frac{1}{2} \\, \\arctan\\left(7.54916686652188 \\times 10^{10} \\, \\pi\\right)\\right) + 2.80731854150634 \\times 10^{12} \\, \\pi \\sqrt{{\\left| 6.70603801652677 \\times 10^{25}i \\, \\pi + 8.88314980327947 \\times 10^{14} \\right|}} \\sin\\left(\\frac{1}{2} \\, \\arctan\\left(7.54916686652188 \\times 10^{10} \\, \\pi\\right)\\right) + 5.00369254531674 \\times 10^{30} \\, \\pi^{2} + 29472880145.13282} - \\frac{9103629065534.969 \\, \\mathit{B1}_{\\mathit{zl}_{\\mathit{im}}} \\sqrt{{\\left| 74614.7357498621i \\, \\pi - 6.238485647791859 \\times 10^{-07} - 5.6924348668883825 \\times 10^{-06}i \\right|}} \\sin\\left(\\frac{1}{2} \\, \\arctan\\left(74614.7357498621 \\, \\pi - 5.6924348668883825 \\times 10^{-06}, -6.238485647791859 \\times 10^{-07}\\right)\\right)}{-7.63473692479120 \\times 10^{20} \\, \\pi + 5.63279090877144 \\times 10^{15} \\, \\pi^{2} {\\left| 6.70603801652677 \\times 10^{25}i \\, \\pi + 8.88314980327947 \\times 10^{14} \\right|} \\cos\\left(\\frac{1}{2} \\, \\arctan\\left(7.54916686652188 \\times 10^{10} \\, \\pi\\right)\\right)^{2} + 5.63279090877144 \\times 10^{15} \\, \\pi^{2} {\\left| 6.70603801652677 \\times 10^{25}i \\, \\pi + 8.88314980327947 \\times 10^{14} \\right|} \\sin\\left(\\frac{1}{2} \\, \\arctan\\left(7.54916686652188 \\times 10^{10} \\, \\pi\\right)\\right)^{2} + 3.35766310874379 \\times 10^{23} \\, \\pi^{2} \\sqrt{{\\left| 6.70603801652677 \\times 10^{25}i \\, \\pi + 8.88314980327947 \\times 10^{14} \\right|}} \\cos\\left(\\frac{1}{2} \\, \\arctan\\left(7.54916686652188 \\times 10^{10} \\, \\pi\\right)\\right) - 2.56159569009977 \\times 10^{13} \\, \\pi \\sqrt{{\\left| 6.70603801652677 \\times 10^{25}i \\, \\pi + 8.88314980327947 \\times 10^{14} \\right|}} \\cos\\left(\\frac{1}{2} \\, \\arctan\\left(7.54916686652188 \\times 10^{10} \\, \\pi\\right)\\right) + 2.80731854150634 \\times 10^{12} \\, \\pi \\sqrt{{\\left| 6.70603801652677 \\times 10^{25}i \\, \\pi + 8.88314980327947 \\times 10^{14} \\right|}} \\sin\\left(\\frac{1}{2} \\, \\arctan\\left(7.54916686652188 \\times 10^{10} \\, \\pi\\right)\\right) + 5.00369254531674 \\times 10^{30} \\, \\pi^{2} + 29472880145.13282} - \\frac{8593099687252.745 \\, \\mathit{B1}_{\\mathit{zl}_{\\mathit{re}}} \\sqrt{{\\left| 74614.7357498621i \\, \\pi - 6.238485647791859 \\times 10^{-07} - 5.6924348668883825 \\times 10^{-06}i \\right|}} \\sin\\left(\\frac{1}{2} \\, \\arctan\\left(74614.7357498621 \\, \\pi - 5.6924348668883825 \\times 10^{-06}, -6.238485647791859 \\times 10^{-07}\\right)\\right)}{-7.63473692479120 \\times 10^{20} \\, \\pi + 5.63279090877144 \\times 10^{15} \\, \\pi^{2} {\\left| 6.70603801652677 \\times 10^{25}i \\, \\pi + 8.88314980327947 \\times 10^{14} \\right|} \\cos\\left(\\frac{1}{2} \\, \\arctan\\left(7.54916686652188 \\times 10^{10} \\, \\pi\\right)\\right)^{2} + 5.63279090877144 \\times 10^{15} \\, \\pi^{2} {\\left| 6.70603801652677 \\times 10^{25}i \\, \\pi + 8.88314980327947 \\times 10^{14} \\right|} \\sin\\left(\\frac{1}{2} \\, \\arctan\\left(7.54916686652188 \\times 10^{10} \\, \\pi\\right)\\right)^{2} + 3.35766310874379 \\times 10^{23} \\, \\pi^{2} \\sqrt{{\\left| 6.70603801652677 \\times 10^{25}i \\, \\pi + 8.88314980327947 \\times 10^{14} \\right|}} \\cos\\left(\\frac{1}{2} \\, \\arctan\\left(7.54916686652188 \\times 10^{10} \\, \\pi\\right)\\right) - 2.56159569009977 \\times 10^{13} \\, \\pi \\sqrt{{\\left| 6.70603801652677 \\times 10^{25}i \\, \\pi + 8.88314980327947 \\times 10^{14} \\right|}} \\cos\\left(\\frac{1}{2} \\, \\arctan\\left(7.54916686652188 \\times 10^{10} \\, \\pi\\right)\\right) + 2.80731854150634 \\times 10^{12} \\, \\pi \\sqrt{{\\left| 6.70603801652677 \\times 10^{25}i \\, \\pi + 8.88314980327947 \\times 10^{14} \\right|}} \\sin\\left(\\frac{1}{2} \\, \\arctan\\left(7.54916686652188 \\times 10^{10} \\, \\pi\\right)\\right) + 5.00369254531674 \\times 10^{30} \\, \\pi^{2} + 29472880145.13282} - 0.08322245930178149 \\, \\mathit{A1}_{z_{\\mathit{im}}} - 1.0148452855683712 \\, \\mathit{A1}_{z_{\\mathit{re}}} + 0.08615644016021828 \\, \\mathit{A2}_{z_{\\mathit{im}}} + 1.0109649336612163 \\, \\mathit{A2}_{z_{\\mathit{re}}} = 0$"
      ],
      "text/plain": [
       "<IPython.core.display.Math object>"
      ]
     },
     "metadata": {},
     "output_type": "display_data"
    },
    {
     "name": "stdout",
     "output_type": "stream",
     "text": [
      "1 real\n"
     ]
    },
    {
     "data": {
      "text/latex": [
       "$\\displaystyle \\frac{2.55157412990337 \\times 10^{23} \\, \\pi^{2} \\mathit{B1}_{\\mathit{zr}_{\\mathit{im}}} \\sqrt{{\\left| 2.14593216528857 \\times 10^{24}i \\, \\pi + 8.88314980327947 \\times 10^{14} \\right|}} \\sqrt{{\\left| 2387.67154399559i \\, \\pi - 6.238485647791859 \\times 10^{-07} - 5.6924348668883825 \\times 10^{-06}i \\right|}} \\cos\\left(\\frac{1}{2} \\, \\arctan\\left(2.41573339728700 \\times 10^{9} \\, \\pi\\right)\\right) \\cos\\left(\\frac{1}{2} \\, \\arctan\\left(2387.67154399559 \\, \\pi - 5.6924348668883825 \\times 10^{-06}, -6.238485647791859 \\times 10^{-07}\\right)\\right)}{-2.44311581593318 \\times 10^{19} \\, \\pi + 5.76797789058196 \\times 10^{12} \\, \\pi^{2} {\\left| 2.14593216528857 \\times 10^{24}i \\, \\pi + 8.88314980327947 \\times 10^{14} \\right|} \\cos\\left(\\frac{1}{2} \\, \\arctan\\left(2.41573339728700 \\times 10^{9} \\, \\pi\\right)\\right)^{2} + 5.76797789058196 \\times 10^{12} \\, \\pi^{2} {\\left| 2.14593216528857 \\times 10^{24}i \\, \\pi + 8.88314980327947 \\times 10^{14} \\right|} \\sin\\left(\\frac{1}{2} \\, \\arctan\\left(2.41573339728700 \\times 10^{9} \\, \\pi\\right)\\right)^{2} + 3.43824702335364 \\times 10^{20} \\, \\pi^{2} \\sqrt{{\\left| 2.14593216528857 \\times 10^{24}i \\, \\pi + 8.88314980327947 \\times 10^{14} \\right|}} \\cos\\left(\\frac{1}{2} \\, \\arctan\\left(2.41573339728700 \\times 10^{9} \\, \\pi\\right)\\right) - 8.19710620831927 \\times 10^{11} \\, \\pi \\sqrt{{\\left| 2.14593216528857 \\times 10^{24}i \\, \\pi + 8.88314980327947 \\times 10^{14} \\right|}} \\cos\\left(\\frac{1}{2} \\, \\arctan\\left(2.41573339728700 \\times 10^{9} \\, \\pi\\right)\\right) + 8.98341933282028 \\times 10^{10} \\, \\pi \\sqrt{{\\left| 2.14593216528857 \\times 10^{24}i \\, \\pi + 8.88314980327947 \\times 10^{14} \\right|}} \\sin\\left(\\frac{1}{2} \\, \\arctan\\left(2.41573339728700 \\times 10^{9} \\, \\pi\\right)\\right) + 5.12378116640435 \\times 10^{27} \\, \\pi^{2} + 29472880145.13282} - \\frac{3.37460452022811 \\times 10^{23} \\, \\pi^{2} \\mathit{B1}_{\\mathit{zr}_{\\mathit{re}}} \\sqrt{{\\left| 2.14593216528857 \\times 10^{24}i \\, \\pi + 8.88314980327947 \\times 10^{14} \\right|}} \\sqrt{{\\left| 2387.67154399559i \\, \\pi - 6.238485647791859 \\times 10^{-07} - 5.6924348668883825 \\times 10^{-06}i \\right|}} \\cos\\left(\\frac{1}{2} \\, \\arctan\\left(2.41573339728700 \\times 10^{9} \\, \\pi\\right)\\right) \\cos\\left(\\frac{1}{2} \\, \\arctan\\left(2387.67154399559 \\, \\pi - 5.6924348668883825 \\times 10^{-06}, -6.238485647791859 \\times 10^{-07}\\right)\\right)}{-2.44311581593318 \\times 10^{19} \\, \\pi + 5.76797789058196 \\times 10^{12} \\, \\pi^{2} {\\left| 2.14593216528857 \\times 10^{24}i \\, \\pi + 8.88314980327947 \\times 10^{14} \\right|} \\cos\\left(\\frac{1}{2} \\, \\arctan\\left(2.41573339728700 \\times 10^{9} \\, \\pi\\right)\\right)^{2} + 5.76797789058196 \\times 10^{12} \\, \\pi^{2} {\\left| 2.14593216528857 \\times 10^{24}i \\, \\pi + 8.88314980327947 \\times 10^{14} \\right|} \\sin\\left(\\frac{1}{2} \\, \\arctan\\left(2.41573339728700 \\times 10^{9} \\, \\pi\\right)\\right)^{2} + 3.43824702335364 \\times 10^{20} \\, \\pi^{2} \\sqrt{{\\left| 2.14593216528857 \\times 10^{24}i \\, \\pi + 8.88314980327947 \\times 10^{14} \\right|}} \\cos\\left(\\frac{1}{2} \\, \\arctan\\left(2.41573339728700 \\times 10^{9} \\, \\pi\\right)\\right) - 8.19710620831927 \\times 10^{11} \\, \\pi \\sqrt{{\\left| 2.14593216528857 \\times 10^{24}i \\, \\pi + 8.88314980327947 \\times 10^{14} \\right|}} \\cos\\left(\\frac{1}{2} \\, \\arctan\\left(2.41573339728700 \\times 10^{9} \\, \\pi\\right)\\right) + 8.98341933282028 \\times 10^{10} \\, \\pi \\sqrt{{\\left| 2.14593216528857 \\times 10^{24}i \\, \\pi + 8.88314980327947 \\times 10^{14} \\right|}} \\sin\\left(\\frac{1}{2} \\, \\arctan\\left(2.41573339728700 \\times 10^{9} \\, \\pi\\right)\\right) + 5.12378116640435 \\times 10^{27} \\, \\pi^{2} + 29472880145.13282} - \\frac{3.37460452022811 \\times 10^{23} \\, \\pi^{2} \\mathit{B1}_{\\mathit{zr}_{\\mathit{im}}} \\sqrt{{\\left| 2.14593216528857 \\times 10^{24}i \\, \\pi + 8.88314980327947 \\times 10^{14} \\right|}} \\sqrt{{\\left| 2387.67154399559i \\, \\pi - 6.238485647791859 \\times 10^{-07} - 5.6924348668883825 \\times 10^{-06}i \\right|}} \\cos\\left(\\frac{1}{2} \\, \\arctan\\left(2387.67154399559 \\, \\pi - 5.6924348668883825 \\times 10^{-06}, -6.238485647791859 \\times 10^{-07}\\right)\\right) \\sin\\left(\\frac{1}{2} \\, \\arctan\\left(2.41573339728700 \\times 10^{9} \\, \\pi\\right)\\right)}{-2.44311581593318 \\times 10^{19} \\, \\pi + 5.76797789058196 \\times 10^{12} \\, \\pi^{2} {\\left| 2.14593216528857 \\times 10^{24}i \\, \\pi + 8.88314980327947 \\times 10^{14} \\right|} \\cos\\left(\\frac{1}{2} \\, \\arctan\\left(2.41573339728700 \\times 10^{9} \\, \\pi\\right)\\right)^{2} + 5.76797789058196 \\times 10^{12} \\, \\pi^{2} {\\left| 2.14593216528857 \\times 10^{24}i \\, \\pi + 8.88314980327947 \\times 10^{14} \\right|} \\sin\\left(\\frac{1}{2} \\, \\arctan\\left(2.41573339728700 \\times 10^{9} \\, \\pi\\right)\\right)^{2} + 3.43824702335364 \\times 10^{20} \\, \\pi^{2} \\sqrt{{\\left| 2.14593216528857 \\times 10^{24}i \\, \\pi + 8.88314980327947 \\times 10^{14} \\right|}} \\cos\\left(\\frac{1}{2} \\, \\arctan\\left(2.41573339728700 \\times 10^{9} \\, \\pi\\right)\\right) - 8.19710620831927 \\times 10^{11} \\, \\pi \\sqrt{{\\left| 2.14593216528857 \\times 10^{24}i \\, \\pi + 8.88314980327947 \\times 10^{14} \\right|}} \\cos\\left(\\frac{1}{2} \\, \\arctan\\left(2.41573339728700 \\times 10^{9} \\, \\pi\\right)\\right) + 8.98341933282028 \\times 10^{10} \\, \\pi \\sqrt{{\\left| 2.14593216528857 \\times 10^{24}i \\, \\pi + 8.88314980327947 \\times 10^{14} \\right|}} \\sin\\left(\\frac{1}{2} \\, \\arctan\\left(2.41573339728700 \\times 10^{9} \\, \\pi\\right)\\right) + 5.12378116640435 \\times 10^{27} \\, \\pi^{2} + 29472880145.13282} - \\frac{2.55157412990337 \\times 10^{23} \\, \\pi^{2} \\mathit{B1}_{\\mathit{zr}_{\\mathit{re}}} \\sqrt{{\\left| 2.14593216528857 \\times 10^{24}i \\, \\pi + 8.88314980327947 \\times 10^{14} \\right|}} \\sqrt{{\\left| 2387.67154399559i \\, \\pi - 6.238485647791859 \\times 10^{-07} - 5.6924348668883825 \\times 10^{-06}i \\right|}} \\cos\\left(\\frac{1}{2} \\, \\arctan\\left(2387.67154399559 \\, \\pi - 5.6924348668883825 \\times 10^{-06}, -6.238485647791859 \\times 10^{-07}\\right)\\right) \\sin\\left(\\frac{1}{2} \\, \\arctan\\left(2.41573339728700 \\times 10^{9} \\, \\pi\\right)\\right)}{-2.44311581593318 \\times 10^{19} \\, \\pi + 5.76797789058196 \\times 10^{12} \\, \\pi^{2} {\\left| 2.14593216528857 \\times 10^{24}i \\, \\pi + 8.88314980327947 \\times 10^{14} \\right|} \\cos\\left(\\frac{1}{2} \\, \\arctan\\left(2.41573339728700 \\times 10^{9} \\, \\pi\\right)\\right)^{2} + 5.76797789058196 \\times 10^{12} \\, \\pi^{2} {\\left| 2.14593216528857 \\times 10^{24}i \\, \\pi + 8.88314980327947 \\times 10^{14} \\right|} \\sin\\left(\\frac{1}{2} \\, \\arctan\\left(2.41573339728700 \\times 10^{9} \\, \\pi\\right)\\right)^{2} + 3.43824702335364 \\times 10^{20} \\, \\pi^{2} \\sqrt{{\\left| 2.14593216528857 \\times 10^{24}i \\, \\pi + 8.88314980327947 \\times 10^{14} \\right|}} \\cos\\left(\\frac{1}{2} \\, \\arctan\\left(2.41573339728700 \\times 10^{9} \\, \\pi\\right)\\right) - 8.19710620831927 \\times 10^{11} \\, \\pi \\sqrt{{\\left| 2.14593216528857 \\times 10^{24}i \\, \\pi + 8.88314980327947 \\times 10^{14} \\right|}} \\cos\\left(\\frac{1}{2} \\, \\arctan\\left(2.41573339728700 \\times 10^{9} \\, \\pi\\right)\\right) + 8.98341933282028 \\times 10^{10} \\, \\pi \\sqrt{{\\left| 2.14593216528857 \\times 10^{24}i \\, \\pi + 8.88314980327947 \\times 10^{14} \\right|}} \\sin\\left(\\frac{1}{2} \\, \\arctan\\left(2.41573339728700 \\times 10^{9} \\, \\pi\\right)\\right) + 5.12378116640435 \\times 10^{27} \\, \\pi^{2} + 29472880145.13282} + \\frac{3.37460452022811 \\times 10^{23} \\, \\pi^{2} \\mathit{B1}_{\\mathit{zr}_{\\mathit{im}}} \\sqrt{{\\left| 2.14593216528857 \\times 10^{24}i \\, \\pi + 8.88314980327947 \\times 10^{14} \\right|}} \\sqrt{{\\left| 2387.67154399559i \\, \\pi - 6.238485647791859 \\times 10^{-07} - 5.6924348668883825 \\times 10^{-06}i \\right|}} \\cos\\left(\\frac{1}{2} \\, \\arctan\\left(2.41573339728700 \\times 10^{9} \\, \\pi\\right)\\right) \\sin\\left(\\frac{1}{2} \\, \\arctan\\left(2387.67154399559 \\, \\pi - 5.6924348668883825 \\times 10^{-06}, -6.238485647791859 \\times 10^{-07}\\right)\\right)}{-2.44311581593318 \\times 10^{19} \\, \\pi + 5.76797789058196 \\times 10^{12} \\, \\pi^{2} {\\left| 2.14593216528857 \\times 10^{24}i \\, \\pi + 8.88314980327947 \\times 10^{14} \\right|} \\cos\\left(\\frac{1}{2} \\, \\arctan\\left(2.41573339728700 \\times 10^{9} \\, \\pi\\right)\\right)^{2} + 5.76797789058196 \\times 10^{12} \\, \\pi^{2} {\\left| 2.14593216528857 \\times 10^{24}i \\, \\pi + 8.88314980327947 \\times 10^{14} \\right|} \\sin\\left(\\frac{1}{2} \\, \\arctan\\left(2.41573339728700 \\times 10^{9} \\, \\pi\\right)\\right)^{2} + 3.43824702335364 \\times 10^{20} \\, \\pi^{2} \\sqrt{{\\left| 2.14593216528857 \\times 10^{24}i \\, \\pi + 8.88314980327947 \\times 10^{14} \\right|}} \\cos\\left(\\frac{1}{2} \\, \\arctan\\left(2.41573339728700 \\times 10^{9} \\, \\pi\\right)\\right) - 8.19710620831927 \\times 10^{11} \\, \\pi \\sqrt{{\\left| 2.14593216528857 \\times 10^{24}i \\, \\pi + 8.88314980327947 \\times 10^{14} \\right|}} \\cos\\left(\\frac{1}{2} \\, \\arctan\\left(2.41573339728700 \\times 10^{9} \\, \\pi\\right)\\right) + 8.98341933282028 \\times 10^{10} \\, \\pi \\sqrt{{\\left| 2.14593216528857 \\times 10^{24}i \\, \\pi + 8.88314980327947 \\times 10^{14} \\right|}} \\sin\\left(\\frac{1}{2} \\, \\arctan\\left(2.41573339728700 \\times 10^{9} \\, \\pi\\right)\\right) + 5.12378116640435 \\times 10^{27} \\, \\pi^{2} + 29472880145.13282} + \\frac{2.55157412990337 \\times 10^{23} \\, \\pi^{2} \\mathit{B1}_{\\mathit{zr}_{\\mathit{re}}} \\sqrt{{\\left| 2.14593216528857 \\times 10^{24}i \\, \\pi + 8.88314980327947 \\times 10^{14} \\right|}} \\sqrt{{\\left| 2387.67154399559i \\, \\pi - 6.238485647791859 \\times 10^{-07} - 5.6924348668883825 \\times 10^{-06}i \\right|}} \\cos\\left(\\frac{1}{2} \\, \\arctan\\left(2.41573339728700 \\times 10^{9} \\, \\pi\\right)\\right) \\sin\\left(\\frac{1}{2} \\, \\arctan\\left(2387.67154399559 \\, \\pi - 5.6924348668883825 \\times 10^{-06}, -6.238485647791859 \\times 10^{-07}\\right)\\right)}{-2.44311581593318 \\times 10^{19} \\, \\pi + 5.76797789058196 \\times 10^{12} \\, \\pi^{2} {\\left| 2.14593216528857 \\times 10^{24}i \\, \\pi + 8.88314980327947 \\times 10^{14} \\right|} \\cos\\left(\\frac{1}{2} \\, \\arctan\\left(2.41573339728700 \\times 10^{9} \\, \\pi\\right)\\right)^{2} + 5.76797789058196 \\times 10^{12} \\, \\pi^{2} {\\left| 2.14593216528857 \\times 10^{24}i \\, \\pi + 8.88314980327947 \\times 10^{14} \\right|} \\sin\\left(\\frac{1}{2} \\, \\arctan\\left(2.41573339728700 \\times 10^{9} \\, \\pi\\right)\\right)^{2} + 3.43824702335364 \\times 10^{20} \\, \\pi^{2} \\sqrt{{\\left| 2.14593216528857 \\times 10^{24}i \\, \\pi + 8.88314980327947 \\times 10^{14} \\right|}} \\cos\\left(\\frac{1}{2} \\, \\arctan\\left(2.41573339728700 \\times 10^{9} \\, \\pi\\right)\\right) - 8.19710620831927 \\times 10^{11} \\, \\pi \\sqrt{{\\left| 2.14593216528857 \\times 10^{24}i \\, \\pi + 8.88314980327947 \\times 10^{14} \\right|}} \\cos\\left(\\frac{1}{2} \\, \\arctan\\left(2.41573339728700 \\times 10^{9} \\, \\pi\\right)\\right) + 8.98341933282028 \\times 10^{10} \\, \\pi \\sqrt{{\\left| 2.14593216528857 \\times 10^{24}i \\, \\pi + 8.88314980327947 \\times 10^{14} \\right|}} \\sin\\left(\\frac{1}{2} \\, \\arctan\\left(2.41573339728700 \\times 10^{9} \\, \\pi\\right)\\right) + 5.12378116640435 \\times 10^{27} \\, \\pi^{2} + 29472880145.13282} + \\frac{2.55157412990337 \\times 10^{23} \\, \\pi^{2} \\mathit{B1}_{\\mathit{zr}_{\\mathit{im}}} \\sqrt{{\\left| 2.14593216528857 \\times 10^{24}i \\, \\pi + 8.88314980327947 \\times 10^{14} \\right|}} \\sqrt{{\\left| 2387.67154399559i \\, \\pi - 6.238485647791859 \\times 10^{-07} - 5.6924348668883825 \\times 10^{-06}i \\right|}} \\sin\\left(\\frac{1}{2} \\, \\arctan\\left(2.41573339728700 \\times 10^{9} \\, \\pi\\right)\\right) \\sin\\left(\\frac{1}{2} \\, \\arctan\\left(2387.67154399559 \\, \\pi - 5.6924348668883825 \\times 10^{-06}, -6.238485647791859 \\times 10^{-07}\\right)\\right)}{-2.44311581593318 \\times 10^{19} \\, \\pi + 5.76797789058196 \\times 10^{12} \\, \\pi^{2} {\\left| 2.14593216528857 \\times 10^{24}i \\, \\pi + 8.88314980327947 \\times 10^{14} \\right|} \\cos\\left(\\frac{1}{2} \\, \\arctan\\left(2.41573339728700 \\times 10^{9} \\, \\pi\\right)\\right)^{2} + 5.76797789058196 \\times 10^{12} \\, \\pi^{2} {\\left| 2.14593216528857 \\times 10^{24}i \\, \\pi + 8.88314980327947 \\times 10^{14} \\right|} \\sin\\left(\\frac{1}{2} \\, \\arctan\\left(2.41573339728700 \\times 10^{9} \\, \\pi\\right)\\right)^{2} + 3.43824702335364 \\times 10^{20} \\, \\pi^{2} \\sqrt{{\\left| 2.14593216528857 \\times 10^{24}i \\, \\pi + 8.88314980327947 \\times 10^{14} \\right|}} \\cos\\left(\\frac{1}{2} \\, \\arctan\\left(2.41573339728700 \\times 10^{9} \\, \\pi\\right)\\right) - 8.19710620831927 \\times 10^{11} \\, \\pi \\sqrt{{\\left| 2.14593216528857 \\times 10^{24}i \\, \\pi + 8.88314980327947 \\times 10^{14} \\right|}} \\cos\\left(\\frac{1}{2} \\, \\arctan\\left(2.41573339728700 \\times 10^{9} \\, \\pi\\right)\\right) + 8.98341933282028 \\times 10^{10} \\, \\pi \\sqrt{{\\left| 2.14593216528857 \\times 10^{24}i \\, \\pi + 8.88314980327947 \\times 10^{14} \\right|}} \\sin\\left(\\frac{1}{2} \\, \\arctan\\left(2.41573339728700 \\times 10^{9} \\, \\pi\\right)\\right) + 5.12378116640435 \\times 10^{27} \\, \\pi^{2} + 29472880145.13282} - \\frac{3.37460452022811 \\times 10^{23} \\, \\pi^{2} \\mathit{B1}_{\\mathit{zr}_{\\mathit{re}}} \\sqrt{{\\left| 2.14593216528857 \\times 10^{24}i \\, \\pi + 8.88314980327947 \\times 10^{14} \\right|}} \\sqrt{{\\left| 2387.67154399559i \\, \\pi - 6.238485647791859 \\times 10^{-07} - 5.6924348668883825 \\times 10^{-06}i \\right|}} \\sin\\left(\\frac{1}{2} \\, \\arctan\\left(2.41573339728700 \\times 10^{9} \\, \\pi\\right)\\right) \\sin\\left(\\frac{1}{2} \\, \\arctan\\left(2387.67154399559 \\, \\pi - 5.6924348668883825 \\times 10^{-06}, -6.238485647791859 \\times 10^{-07}\\right)\\right)}{-2.44311581593318 \\times 10^{19} \\, \\pi + 5.76797789058196 \\times 10^{12} \\, \\pi^{2} {\\left| 2.14593216528857 \\times 10^{24}i \\, \\pi + 8.88314980327947 \\times 10^{14} \\right|} \\cos\\left(\\frac{1}{2} \\, \\arctan\\left(2.41573339728700 \\times 10^{9} \\, \\pi\\right)\\right)^{2} + 5.76797789058196 \\times 10^{12} \\, \\pi^{2} {\\left| 2.14593216528857 \\times 10^{24}i \\, \\pi + 8.88314980327947 \\times 10^{14} \\right|} \\sin\\left(\\frac{1}{2} \\, \\arctan\\left(2.41573339728700 \\times 10^{9} \\, \\pi\\right)\\right)^{2} + 3.43824702335364 \\times 10^{20} \\, \\pi^{2} \\sqrt{{\\left| 2.14593216528857 \\times 10^{24}i \\, \\pi + 8.88314980327947 \\times 10^{14} \\right|}} \\cos\\left(\\frac{1}{2} \\, \\arctan\\left(2.41573339728700 \\times 10^{9} \\, \\pi\\right)\\right) - 8.19710620831927 \\times 10^{11} \\, \\pi \\sqrt{{\\left| 2.14593216528857 \\times 10^{24}i \\, \\pi + 8.88314980327947 \\times 10^{14} \\right|}} \\cos\\left(\\frac{1}{2} \\, \\arctan\\left(2.41573339728700 \\times 10^{9} \\, \\pi\\right)\\right) + 8.98341933282028 \\times 10^{10} \\, \\pi \\sqrt{{\\left| 2.14593216528857 \\times 10^{24}i \\, \\pi + 8.88314980327947 \\times 10^{14} \\right|}} \\sin\\left(\\frac{1}{2} \\, \\arctan\\left(2.41573339728700 \\times 10^{9} \\, \\pi\\right)\\right) + 5.12378116640435 \\times 10^{27} \\, \\pi^{2} + 29472880145.13282} - \\frac{139692754341930.95 \\, \\pi \\mathit{B1}_{\\mathit{zr}_{\\mathit{im}}} \\sqrt{{\\left| 2.14593216528857 \\times 10^{24}i \\, \\pi + 8.88314980327947 \\times 10^{14} \\right|}} \\sqrt{{\\left| 2387.67154399559i \\, \\pi - 6.238485647791859 \\times 10^{-07} - 5.6924348668883825 \\times 10^{-06}i \\right|}} \\cos\\left(\\frac{1}{2} \\, \\arctan\\left(2.41573339728700 \\times 10^{9} \\, \\pi\\right)\\right) \\cos\\left(\\frac{1}{2} \\, \\arctan\\left(2387.67154399559 \\, \\pi - 5.6924348668883825 \\times 10^{-06}, -6.238485647791859 \\times 10^{-07}\\right)\\right)}{-2.44311581593318 \\times 10^{19} \\, \\pi + 5.76797789058196 \\times 10^{12} \\, \\pi^{2} {\\left| 2.14593216528857 \\times 10^{24}i \\, \\pi + 8.88314980327947 \\times 10^{14} \\right|} \\cos\\left(\\frac{1}{2} \\, \\arctan\\left(2.41573339728700 \\times 10^{9} \\, \\pi\\right)\\right)^{2} + 5.76797789058196 \\times 10^{12} \\, \\pi^{2} {\\left| 2.14593216528857 \\times 10^{24}i \\, \\pi + 8.88314980327947 \\times 10^{14} \\right|} \\sin\\left(\\frac{1}{2} \\, \\arctan\\left(2.41573339728700 \\times 10^{9} \\, \\pi\\right)\\right)^{2} + 3.43824702335364 \\times 10^{20} \\, \\pi^{2} \\sqrt{{\\left| 2.14593216528857 \\times 10^{24}i \\, \\pi + 8.88314980327947 \\times 10^{14} \\right|}} \\cos\\left(\\frac{1}{2} \\, \\arctan\\left(2.41573339728700 \\times 10^{9} \\, \\pi\\right)\\right) - 8.19710620831927 \\times 10^{11} \\, \\pi \\sqrt{{\\left| 2.14593216528857 \\times 10^{24}i \\, \\pi + 8.88314980327947 \\times 10^{14} \\right|}} \\cos\\left(\\frac{1}{2} \\, \\arctan\\left(2.41573339728700 \\times 10^{9} \\, \\pi\\right)\\right) + 8.98341933282028 \\times 10^{10} \\, \\pi \\sqrt{{\\left| 2.14593216528857 \\times 10^{24}i \\, \\pi + 8.88314980327947 \\times 10^{14} \\right|}} \\sin\\left(\\frac{1}{2} \\, \\arctan\\left(2.41573339728700 \\times 10^{9} \\, \\pi\\right)\\right) + 5.12378116640435 \\times 10^{27} \\, \\pi^{2} + 29472880145.13282} - \\frac{105623167389618.8 \\, \\pi \\mathit{B1}_{\\mathit{zr}_{\\mathit{re}}} \\sqrt{{\\left| 2.14593216528857 \\times 10^{24}i \\, \\pi + 8.88314980327947 \\times 10^{14} \\right|}} \\sqrt{{\\left| 2387.67154399559i \\, \\pi - 6.238485647791859 \\times 10^{-07} - 5.6924348668883825 \\times 10^{-06}i \\right|}} \\cos\\left(\\frac{1}{2} \\, \\arctan\\left(2.41573339728700 \\times 10^{9} \\, \\pi\\right)\\right) \\cos\\left(\\frac{1}{2} \\, \\arctan\\left(2387.67154399559 \\, \\pi - 5.6924348668883825 \\times 10^{-06}, -6.238485647791859 \\times 10^{-07}\\right)\\right)}{-2.44311581593318 \\times 10^{19} \\, \\pi + 5.76797789058196 \\times 10^{12} \\, \\pi^{2} {\\left| 2.14593216528857 \\times 10^{24}i \\, \\pi + 8.88314980327947 \\times 10^{14} \\right|} \\cos\\left(\\frac{1}{2} \\, \\arctan\\left(2.41573339728700 \\times 10^{9} \\, \\pi\\right)\\right)^{2} + 5.76797789058196 \\times 10^{12} \\, \\pi^{2} {\\left| 2.14593216528857 \\times 10^{24}i \\, \\pi + 8.88314980327947 \\times 10^{14} \\right|} \\sin\\left(\\frac{1}{2} \\, \\arctan\\left(2.41573339728700 \\times 10^{9} \\, \\pi\\right)\\right)^{2} + 3.43824702335364 \\times 10^{20} \\, \\pi^{2} \\sqrt{{\\left| 2.14593216528857 \\times 10^{24}i \\, \\pi + 8.88314980327947 \\times 10^{14} \\right|}} \\cos\\left(\\frac{1}{2} \\, \\arctan\\left(2.41573339728700 \\times 10^{9} \\, \\pi\\right)\\right) - 8.19710620831927 \\times 10^{11} \\, \\pi \\sqrt{{\\left| 2.14593216528857 \\times 10^{24}i \\, \\pi + 8.88314980327947 \\times 10^{14} \\right|}} \\cos\\left(\\frac{1}{2} \\, \\arctan\\left(2.41573339728700 \\times 10^{9} \\, \\pi\\right)\\right) + 8.98341933282028 \\times 10^{10} \\, \\pi \\sqrt{{\\left| 2.14593216528857 \\times 10^{24}i \\, \\pi + 8.88314980327947 \\times 10^{14} \\right|}} \\sin\\left(\\frac{1}{2} \\, \\arctan\\left(2.41573339728700 \\times 10^{9} \\, \\pi\\right)\\right) + 5.12378116640435 \\times 10^{27} \\, \\pi^{2} + 29472880145.13282} - \\frac{1.05623167389619 \\times 10^{14} \\, \\pi \\mathit{B1}_{\\mathit{zr}_{\\mathit{im}}} \\sqrt{{\\left| 2.14593216528857 \\times 10^{24}i \\, \\pi + 8.88314980327947 \\times 10^{14} \\right|}} \\sqrt{{\\left| 2387.67154399559i \\, \\pi - 6.238485647791859 \\times 10^{-07} - 5.6924348668883825 \\times 10^{-06}i \\right|}} \\cos\\left(\\frac{1}{2} \\, \\arctan\\left(2387.67154399559 \\, \\pi - 5.6924348668883825 \\times 10^{-06}, -6.238485647791859 \\times 10^{-07}\\right)\\right) \\sin\\left(\\frac{1}{2} \\, \\arctan\\left(2.41573339728700 \\times 10^{9} \\, \\pi\\right)\\right)}{-2.44311581593318 \\times 10^{19} \\, \\pi + 5.76797789058196 \\times 10^{12} \\, \\pi^{2} {\\left| 2.14593216528857 \\times 10^{24}i \\, \\pi + 8.88314980327947 \\times 10^{14} \\right|} \\cos\\left(\\frac{1}{2} \\, \\arctan\\left(2.41573339728700 \\times 10^{9} \\, \\pi\\right)\\right)^{2} + 5.76797789058196 \\times 10^{12} \\, \\pi^{2} {\\left| 2.14593216528857 \\times 10^{24}i \\, \\pi + 8.88314980327947 \\times 10^{14} \\right|} \\sin\\left(\\frac{1}{2} \\, \\arctan\\left(2.41573339728700 \\times 10^{9} \\, \\pi\\right)\\right)^{2} + 3.43824702335364 \\times 10^{20} \\, \\pi^{2} \\sqrt{{\\left| 2.14593216528857 \\times 10^{24}i \\, \\pi + 8.88314980327947 \\times 10^{14} \\right|}} \\cos\\left(\\frac{1}{2} \\, \\arctan\\left(2.41573339728700 \\times 10^{9} \\, \\pi\\right)\\right) - 8.19710620831927 \\times 10^{11} \\, \\pi \\sqrt{{\\left| 2.14593216528857 \\times 10^{24}i \\, \\pi + 8.88314980327947 \\times 10^{14} \\right|}} \\cos\\left(\\frac{1}{2} \\, \\arctan\\left(2.41573339728700 \\times 10^{9} \\, \\pi\\right)\\right) + 8.98341933282028 \\times 10^{10} \\, \\pi \\sqrt{{\\left| 2.14593216528857 \\times 10^{24}i \\, \\pi + 8.88314980327947 \\times 10^{14} \\right|}} \\sin\\left(\\frac{1}{2} \\, \\arctan\\left(2.41573339728700 \\times 10^{9} \\, \\pi\\right)\\right) + 5.12378116640435 \\times 10^{27} \\, \\pi^{2} + 29472880145.13282} + \\frac{1.39692754341931 \\times 10^{14} \\, \\pi \\mathit{B1}_{\\mathit{zr}_{\\mathit{re}}} \\sqrt{{\\left| 2.14593216528857 \\times 10^{24}i \\, \\pi + 8.88314980327947 \\times 10^{14} \\right|}} \\sqrt{{\\left| 2387.67154399559i \\, \\pi - 6.238485647791859 \\times 10^{-07} - 5.6924348668883825 \\times 10^{-06}i \\right|}} \\cos\\left(\\frac{1}{2} \\, \\arctan\\left(2387.67154399559 \\, \\pi - 5.6924348668883825 \\times 10^{-06}, -6.238485647791859 \\times 10^{-07}\\right)\\right) \\sin\\left(\\frac{1}{2} \\, \\arctan\\left(2.41573339728700 \\times 10^{9} \\, \\pi\\right)\\right)}{-2.44311581593318 \\times 10^{19} \\, \\pi + 5.76797789058196 \\times 10^{12} \\, \\pi^{2} {\\left| 2.14593216528857 \\times 10^{24}i \\, \\pi + 8.88314980327947 \\times 10^{14} \\right|} \\cos\\left(\\frac{1}{2} \\, \\arctan\\left(2.41573339728700 \\times 10^{9} \\, \\pi\\right)\\right)^{2} + 5.76797789058196 \\times 10^{12} \\, \\pi^{2} {\\left| 2.14593216528857 \\times 10^{24}i \\, \\pi + 8.88314980327947 \\times 10^{14} \\right|} \\sin\\left(\\frac{1}{2} \\, \\arctan\\left(2.41573339728700 \\times 10^{9} \\, \\pi\\right)\\right)^{2} + 3.43824702335364 \\times 10^{20} \\, \\pi^{2} \\sqrt{{\\left| 2.14593216528857 \\times 10^{24}i \\, \\pi + 8.88314980327947 \\times 10^{14} \\right|}} \\cos\\left(\\frac{1}{2} \\, \\arctan\\left(2.41573339728700 \\times 10^{9} \\, \\pi\\right)\\right) - 8.19710620831927 \\times 10^{11} \\, \\pi \\sqrt{{\\left| 2.14593216528857 \\times 10^{24}i \\, \\pi + 8.88314980327947 \\times 10^{14} \\right|}} \\cos\\left(\\frac{1}{2} \\, \\arctan\\left(2.41573339728700 \\times 10^{9} \\, \\pi\\right)\\right) + 8.98341933282028 \\times 10^{10} \\, \\pi \\sqrt{{\\left| 2.14593216528857 \\times 10^{24}i \\, \\pi + 8.88314980327947 \\times 10^{14} \\right|}} \\sin\\left(\\frac{1}{2} \\, \\arctan\\left(2.41573339728700 \\times 10^{9} \\, \\pi\\right)\\right) + 5.12378116640435 \\times 10^{27} \\, \\pi^{2} + 29472880145.13282} + \\frac{105623167389618.8 \\, \\pi \\mathit{B1}_{\\mathit{zr}_{\\mathit{im}}} \\sqrt{{\\left| 2.14593216528857 \\times 10^{24}i \\, \\pi + 8.88314980327947 \\times 10^{14} \\right|}} \\sqrt{{\\left| 2387.67154399559i \\, \\pi - 6.238485647791859 \\times 10^{-07} - 5.6924348668883825 \\times 10^{-06}i \\right|}} \\cos\\left(\\frac{1}{2} \\, \\arctan\\left(2.41573339728700 \\times 10^{9} \\, \\pi\\right)\\right) \\sin\\left(\\frac{1}{2} \\, \\arctan\\left(2387.67154399559 \\, \\pi - 5.6924348668883825 \\times 10^{-06}, -6.238485647791859 \\times 10^{-07}\\right)\\right)}{-2.44311581593318 \\times 10^{19} \\, \\pi + 5.76797789058196 \\times 10^{12} \\, \\pi^{2} {\\left| 2.14593216528857 \\times 10^{24}i \\, \\pi + 8.88314980327947 \\times 10^{14} \\right|} \\cos\\left(\\frac{1}{2} \\, \\arctan\\left(2.41573339728700 \\times 10^{9} \\, \\pi\\right)\\right)^{2} + 5.76797789058196 \\times 10^{12} \\, \\pi^{2} {\\left| 2.14593216528857 \\times 10^{24}i \\, \\pi + 8.88314980327947 \\times 10^{14} \\right|} \\sin\\left(\\frac{1}{2} \\, \\arctan\\left(2.41573339728700 \\times 10^{9} \\, \\pi\\right)\\right)^{2} + 3.43824702335364 \\times 10^{20} \\, \\pi^{2} \\sqrt{{\\left| 2.14593216528857 \\times 10^{24}i \\, \\pi + 8.88314980327947 \\times 10^{14} \\right|}} \\cos\\left(\\frac{1}{2} \\, \\arctan\\left(2.41573339728700 \\times 10^{9} \\, \\pi\\right)\\right) - 8.19710620831927 \\times 10^{11} \\, \\pi \\sqrt{{\\left| 2.14593216528857 \\times 10^{24}i \\, \\pi + 8.88314980327947 \\times 10^{14} \\right|}} \\cos\\left(\\frac{1}{2} \\, \\arctan\\left(2.41573339728700 \\times 10^{9} \\, \\pi\\right)\\right) + 8.98341933282028 \\times 10^{10} \\, \\pi \\sqrt{{\\left| 2.14593216528857 \\times 10^{24}i \\, \\pi + 8.88314980327947 \\times 10^{14} \\right|}} \\sin\\left(\\frac{1}{2} \\, \\arctan\\left(2.41573339728700 \\times 10^{9} \\, \\pi\\right)\\right) + 5.12378116640435 \\times 10^{27} \\, \\pi^{2} + 29472880145.13282} - \\frac{139692754341930.95 \\, \\pi \\mathit{B1}_{\\mathit{zr}_{\\mathit{re}}} \\sqrt{{\\left| 2.14593216528857 \\times 10^{24}i \\, \\pi + 8.88314980327947 \\times 10^{14} \\right|}} \\sqrt{{\\left| 2387.67154399559i \\, \\pi - 6.238485647791859 \\times 10^{-07} - 5.6924348668883825 \\times 10^{-06}i \\right|}} \\cos\\left(\\frac{1}{2} \\, \\arctan\\left(2.41573339728700 \\times 10^{9} \\, \\pi\\right)\\right) \\sin\\left(\\frac{1}{2} \\, \\arctan\\left(2387.67154399559 \\, \\pi - 5.6924348668883825 \\times 10^{-06}, -6.238485647791859 \\times 10^{-07}\\right)\\right)}{-2.44311581593318 \\times 10^{19} \\, \\pi + 5.76797789058196 \\times 10^{12} \\, \\pi^{2} {\\left| 2.14593216528857 \\times 10^{24}i \\, \\pi + 8.88314980327947 \\times 10^{14} \\right|} \\cos\\left(\\frac{1}{2} \\, \\arctan\\left(2.41573339728700 \\times 10^{9} \\, \\pi\\right)\\right)^{2} + 5.76797789058196 \\times 10^{12} \\, \\pi^{2} {\\left| 2.14593216528857 \\times 10^{24}i \\, \\pi + 8.88314980327947 \\times 10^{14} \\right|} \\sin\\left(\\frac{1}{2} \\, \\arctan\\left(2.41573339728700 \\times 10^{9} \\, \\pi\\right)\\right)^{2} + 3.43824702335364 \\times 10^{20} \\, \\pi^{2} \\sqrt{{\\left| 2.14593216528857 \\times 10^{24}i \\, \\pi + 8.88314980327947 \\times 10^{14} \\right|}} \\cos\\left(\\frac{1}{2} \\, \\arctan\\left(2.41573339728700 \\times 10^{9} \\, \\pi\\right)\\right) - 8.19710620831927 \\times 10^{11} \\, \\pi \\sqrt{{\\left| 2.14593216528857 \\times 10^{24}i \\, \\pi + 8.88314980327947 \\times 10^{14} \\right|}} \\cos\\left(\\frac{1}{2} \\, \\arctan\\left(2.41573339728700 \\times 10^{9} \\, \\pi\\right)\\right) + 8.98341933282028 \\times 10^{10} \\, \\pi \\sqrt{{\\left| 2.14593216528857 \\times 10^{24}i \\, \\pi + 8.88314980327947 \\times 10^{14} \\right|}} \\sin\\left(\\frac{1}{2} \\, \\arctan\\left(2.41573339728700 \\times 10^{9} \\, \\pi\\right)\\right) + 5.12378116640435 \\times 10^{27} \\, \\pi^{2} + 29472880145.13282} - \\frac{1.39692754341931 \\times 10^{14} \\, \\pi \\mathit{B1}_{\\mathit{zr}_{\\mathit{im}}} \\sqrt{{\\left| 2.14593216528857 \\times 10^{24}i \\, \\pi + 8.88314980327947 \\times 10^{14} \\right|}} \\sqrt{{\\left| 2387.67154399559i \\, \\pi - 6.238485647791859 \\times 10^{-07} - 5.6924348668883825 \\times 10^{-06}i \\right|}} \\sin\\left(\\frac{1}{2} \\, \\arctan\\left(2.41573339728700 \\times 10^{9} \\, \\pi\\right)\\right) \\sin\\left(\\frac{1}{2} \\, \\arctan\\left(2387.67154399559 \\, \\pi - 5.6924348668883825 \\times 10^{-06}, -6.238485647791859 \\times 10^{-07}\\right)\\right)}{-2.44311581593318 \\times 10^{19} \\, \\pi + 5.76797789058196 \\times 10^{12} \\, \\pi^{2} {\\left| 2.14593216528857 \\times 10^{24}i \\, \\pi + 8.88314980327947 \\times 10^{14} \\right|} \\cos\\left(\\frac{1}{2} \\, \\arctan\\left(2.41573339728700 \\times 10^{9} \\, \\pi\\right)\\right)^{2} + 5.76797789058196 \\times 10^{12} \\, \\pi^{2} {\\left| 2.14593216528857 \\times 10^{24}i \\, \\pi + 8.88314980327947 \\times 10^{14} \\right|} \\sin\\left(\\frac{1}{2} \\, \\arctan\\left(2.41573339728700 \\times 10^{9} \\, \\pi\\right)\\right)^{2} + 3.43824702335364 \\times 10^{20} \\, \\pi^{2} \\sqrt{{\\left| 2.14593216528857 \\times 10^{24}i \\, \\pi + 8.88314980327947 \\times 10^{14} \\right|}} \\cos\\left(\\frac{1}{2} \\, \\arctan\\left(2.41573339728700 \\times 10^{9} \\, \\pi\\right)\\right) - 8.19710620831927 \\times 10^{11} \\, \\pi \\sqrt{{\\left| 2.14593216528857 \\times 10^{24}i \\, \\pi + 8.88314980327947 \\times 10^{14} \\right|}} \\cos\\left(\\frac{1}{2} \\, \\arctan\\left(2.41573339728700 \\times 10^{9} \\, \\pi\\right)\\right) + 8.98341933282028 \\times 10^{10} \\, \\pi \\sqrt{{\\left| 2.14593216528857 \\times 10^{24}i \\, \\pi + 8.88314980327947 \\times 10^{14} \\right|}} \\sin\\left(\\frac{1}{2} \\, \\arctan\\left(2.41573339728700 \\times 10^{9} \\, \\pi\\right)\\right) + 5.12378116640435 \\times 10^{27} \\, \\pi^{2} + 29472880145.13282} - \\frac{1.05623167389619 \\times 10^{14} \\, \\pi \\mathit{B1}_{\\mathit{zr}_{\\mathit{re}}} \\sqrt{{\\left| 2.14593216528857 \\times 10^{24}i \\, \\pi + 8.88314980327947 \\times 10^{14} \\right|}} \\sqrt{{\\left| 2387.67154399559i \\, \\pi - 6.238485647791859 \\times 10^{-07} - 5.6924348668883825 \\times 10^{-06}i \\right|}} \\sin\\left(\\frac{1}{2} \\, \\arctan\\left(2.41573339728700 \\times 10^{9} \\, \\pi\\right)\\right) \\sin\\left(\\frac{1}{2} \\, \\arctan\\left(2387.67154399559 \\, \\pi - 5.6924348668883825 \\times 10^{-06}, -6.238485647791859 \\times 10^{-07}\\right)\\right)}{-2.44311581593318 \\times 10^{19} \\, \\pi + 5.76797789058196 \\times 10^{12} \\, \\pi^{2} {\\left| 2.14593216528857 \\times 10^{24}i \\, \\pi + 8.88314980327947 \\times 10^{14} \\right|} \\cos\\left(\\frac{1}{2} \\, \\arctan\\left(2.41573339728700 \\times 10^{9} \\, \\pi\\right)\\right)^{2} + 5.76797789058196 \\times 10^{12} \\, \\pi^{2} {\\left| 2.14593216528857 \\times 10^{24}i \\, \\pi + 8.88314980327947 \\times 10^{14} \\right|} \\sin\\left(\\frac{1}{2} \\, \\arctan\\left(2.41573339728700 \\times 10^{9} \\, \\pi\\right)\\right)^{2} + 3.43824702335364 \\times 10^{20} \\, \\pi^{2} \\sqrt{{\\left| 2.14593216528857 \\times 10^{24}i \\, \\pi + 8.88314980327947 \\times 10^{14} \\right|}} \\cos\\left(\\frac{1}{2} \\, \\arctan\\left(2.41573339728700 \\times 10^{9} \\, \\pi\\right)\\right) - 8.19710620831927 \\times 10^{11} \\, \\pi \\sqrt{{\\left| 2.14593216528857 \\times 10^{24}i \\, \\pi + 8.88314980327947 \\times 10^{14} \\right|}} \\cos\\left(\\frac{1}{2} \\, \\arctan\\left(2.41573339728700 \\times 10^{9} \\, \\pi\\right)\\right) + 8.98341933282028 \\times 10^{10} \\, \\pi \\sqrt{{\\left| 2.14593216528857 \\times 10^{24}i \\, \\pi + 8.88314980327947 \\times 10^{14} \\right|}} \\sin\\left(\\frac{1}{2} \\, \\arctan\\left(2.41573339728700 \\times 10^{9} \\, \\pi\\right)\\right) + 5.12378116640435 \\times 10^{27} \\, \\pi^{2} + 29472880145.13282} + \\frac{7.60486805205255 \\times 10^{30} \\, \\pi^{2} \\mathit{B1}_{\\mathit{zr}_{\\mathit{im}}} \\sqrt{{\\left| 2387.67154399559i \\, \\pi - 6.238485647791859 \\times 10^{-07} - 5.6924348668883825 \\times 10^{-06}i \\right|}} \\cos\\left(\\frac{1}{2} \\, \\arctan\\left(2387.67154399559 \\, \\pi - 5.6924348668883825 \\times 10^{-06}, -6.238485647791859 \\times 10^{-07}\\right)\\right)}{-2.44311581593318 \\times 10^{19} \\, \\pi + 5.76797789058196 \\times 10^{12} \\, \\pi^{2} {\\left| 2.14593216528857 \\times 10^{24}i \\, \\pi + 8.88314980327947 \\times 10^{14} \\right|} \\cos\\left(\\frac{1}{2} \\, \\arctan\\left(2.41573339728700 \\times 10^{9} \\, \\pi\\right)\\right)^{2} + 5.76797789058196 \\times 10^{12} \\, \\pi^{2} {\\left| 2.14593216528857 \\times 10^{24}i \\, \\pi + 8.88314980327947 \\times 10^{14} \\right|} \\sin\\left(\\frac{1}{2} \\, \\arctan\\left(2.41573339728700 \\times 10^{9} \\, \\pi\\right)\\right)^{2} + 3.43824702335364 \\times 10^{20} \\, \\pi^{2} \\sqrt{{\\left| 2.14593216528857 \\times 10^{24}i \\, \\pi + 8.88314980327947 \\times 10^{14} \\right|}} \\cos\\left(\\frac{1}{2} \\, \\arctan\\left(2.41573339728700 \\times 10^{9} \\, \\pi\\right)\\right) - 8.19710620831927 \\times 10^{11} \\, \\pi \\sqrt{{\\left| 2.14593216528857 \\times 10^{24}i \\, \\pi + 8.88314980327947 \\times 10^{14} \\right|}} \\cos\\left(\\frac{1}{2} \\, \\arctan\\left(2.41573339728700 \\times 10^{9} \\, \\pi\\right)\\right) + 8.98341933282028 \\times 10^{10} \\, \\pi \\sqrt{{\\left| 2.14593216528857 \\times 10^{24}i \\, \\pi + 8.88314980327947 \\times 10^{14} \\right|}} \\sin\\left(\\frac{1}{2} \\, \\arctan\\left(2.41573339728700 \\times 10^{9} \\, \\pi\\right)\\right) + 5.12378116640435 \\times 10^{27} \\, \\pi^{2} + 29472880145.13282} - \\frac{1.00578783126190 \\times 10^{31} \\, \\pi^{2} \\mathit{B1}_{\\mathit{zr}_{\\mathit{re}}} \\sqrt{{\\left| 2387.67154399559i \\, \\pi - 6.238485647791859 \\times 10^{-07} - 5.6924348668883825 \\times 10^{-06}i \\right|}} \\cos\\left(\\frac{1}{2} \\, \\arctan\\left(2387.67154399559 \\, \\pi - 5.6924348668883825 \\times 10^{-06}, -6.238485647791859 \\times 10^{-07}\\right)\\right)}{-2.44311581593318 \\times 10^{19} \\, \\pi + 5.76797789058196 \\times 10^{12} \\, \\pi^{2} {\\left| 2.14593216528857 \\times 10^{24}i \\, \\pi + 8.88314980327947 \\times 10^{14} \\right|} \\cos\\left(\\frac{1}{2} \\, \\arctan\\left(2.41573339728700 \\times 10^{9} \\, \\pi\\right)\\right)^{2} + 5.76797789058196 \\times 10^{12} \\, \\pi^{2} {\\left| 2.14593216528857 \\times 10^{24}i \\, \\pi + 8.88314980327947 \\times 10^{14} \\right|} \\sin\\left(\\frac{1}{2} \\, \\arctan\\left(2.41573339728700 \\times 10^{9} \\, \\pi\\right)\\right)^{2} + 3.43824702335364 \\times 10^{20} \\, \\pi^{2} \\sqrt{{\\left| 2.14593216528857 \\times 10^{24}i \\, \\pi + 8.88314980327947 \\times 10^{14} \\right|}} \\cos\\left(\\frac{1}{2} \\, \\arctan\\left(2.41573339728700 \\times 10^{9} \\, \\pi\\right)\\right) - 8.19710620831927 \\times 10^{11} \\, \\pi \\sqrt{{\\left| 2.14593216528857 \\times 10^{24}i \\, \\pi + 8.88314980327947 \\times 10^{14} \\right|}} \\cos\\left(\\frac{1}{2} \\, \\arctan\\left(2.41573339728700 \\times 10^{9} \\, \\pi\\right)\\right) + 8.98341933282028 \\times 10^{10} \\, \\pi \\sqrt{{\\left| 2.14593216528857 \\times 10^{24}i \\, \\pi + 8.88314980327947 \\times 10^{14} \\right|}} \\sin\\left(\\frac{1}{2} \\, \\arctan\\left(2.41573339728700 \\times 10^{9} \\, \\pi\\right)\\right) + 5.12378116640435 \\times 10^{27} \\, \\pi^{2} + 29472880145.13282} + \\frac{1.00578783126190 \\times 10^{31} \\, \\pi^{2} \\mathit{B1}_{\\mathit{zr}_{\\mathit{im}}} \\sqrt{{\\left| 2387.67154399559i \\, \\pi - 6.238485647791859 \\times 10^{-07} - 5.6924348668883825 \\times 10^{-06}i \\right|}} \\sin\\left(\\frac{1}{2} \\, \\arctan\\left(2387.67154399559 \\, \\pi - 5.6924348668883825 \\times 10^{-06}, -6.238485647791859 \\times 10^{-07}\\right)\\right)}{-2.44311581593318 \\times 10^{19} \\, \\pi + 5.76797789058196 \\times 10^{12} \\, \\pi^{2} {\\left| 2.14593216528857 \\times 10^{24}i \\, \\pi + 8.88314980327947 \\times 10^{14} \\right|} \\cos\\left(\\frac{1}{2} \\, \\arctan\\left(2.41573339728700 \\times 10^{9} \\, \\pi\\right)\\right)^{2} + 5.76797789058196 \\times 10^{12} \\, \\pi^{2} {\\left| 2.14593216528857 \\times 10^{24}i \\, \\pi + 8.88314980327947 \\times 10^{14} \\right|} \\sin\\left(\\frac{1}{2} \\, \\arctan\\left(2.41573339728700 \\times 10^{9} \\, \\pi\\right)\\right)^{2} + 3.43824702335364 \\times 10^{20} \\, \\pi^{2} \\sqrt{{\\left| 2.14593216528857 \\times 10^{24}i \\, \\pi + 8.88314980327947 \\times 10^{14} \\right|}} \\cos\\left(\\frac{1}{2} \\, \\arctan\\left(2.41573339728700 \\times 10^{9} \\, \\pi\\right)\\right) - 8.19710620831927 \\times 10^{11} \\, \\pi \\sqrt{{\\left| 2.14593216528857 \\times 10^{24}i \\, \\pi + 8.88314980327947 \\times 10^{14} \\right|}} \\cos\\left(\\frac{1}{2} \\, \\arctan\\left(2.41573339728700 \\times 10^{9} \\, \\pi\\right)\\right) + 8.98341933282028 \\times 10^{10} \\, \\pi \\sqrt{{\\left| 2.14593216528857 \\times 10^{24}i \\, \\pi + 8.88314980327947 \\times 10^{14} \\right|}} \\sin\\left(\\frac{1}{2} \\, \\arctan\\left(2.41573339728700 \\times 10^{9} \\, \\pi\\right)\\right) + 5.12378116640435 \\times 10^{27} \\, \\pi^{2} + 29472880145.13282} + \\frac{7.60486805205255 \\times 10^{30} \\, \\pi^{2} \\mathit{B1}_{\\mathit{zr}_{\\mathit{re}}} \\sqrt{{\\left| 2387.67154399559i \\, \\pi - 6.238485647791859 \\times 10^{-07} - 5.6924348668883825 \\times 10^{-06}i \\right|}} \\sin\\left(\\frac{1}{2} \\, \\arctan\\left(2387.67154399559 \\, \\pi - 5.6924348668883825 \\times 10^{-06}, -6.238485647791859 \\times 10^{-07}\\right)\\right)}{-2.44311581593318 \\times 10^{19} \\, \\pi + 5.76797789058196 \\times 10^{12} \\, \\pi^{2} {\\left| 2.14593216528857 \\times 10^{24}i \\, \\pi + 8.88314980327947 \\times 10^{14} \\right|} \\cos\\left(\\frac{1}{2} \\, \\arctan\\left(2.41573339728700 \\times 10^{9} \\, \\pi\\right)\\right)^{2} + 5.76797789058196 \\times 10^{12} \\, \\pi^{2} {\\left| 2.14593216528857 \\times 10^{24}i \\, \\pi + 8.88314980327947 \\times 10^{14} \\right|} \\sin\\left(\\frac{1}{2} \\, \\arctan\\left(2.41573339728700 \\times 10^{9} \\, \\pi\\right)\\right)^{2} + 3.43824702335364 \\times 10^{20} \\, \\pi^{2} \\sqrt{{\\left| 2.14593216528857 \\times 10^{24}i \\, \\pi + 8.88314980327947 \\times 10^{14} \\right|}} \\cos\\left(\\frac{1}{2} \\, \\arctan\\left(2.41573339728700 \\times 10^{9} \\, \\pi\\right)\\right) - 8.19710620831927 \\times 10^{11} \\, \\pi \\sqrt{{\\left| 2.14593216528857 \\times 10^{24}i \\, \\pi + 8.88314980327947 \\times 10^{14} \\right|}} \\cos\\left(\\frac{1}{2} \\, \\arctan\\left(2.41573339728700 \\times 10^{9} \\, \\pi\\right)\\right) + 8.98341933282028 \\times 10^{10} \\, \\pi \\sqrt{{\\left| 2.14593216528857 \\times 10^{24}i \\, \\pi + 8.88314980327947 \\times 10^{14} \\right|}} \\sin\\left(\\frac{1}{2} \\, \\arctan\\left(2.41573339728700 \\times 10^{9} \\, \\pi\\right)\\right) + 5.12378116640435 \\times 10^{27} \\, \\pi^{2} + 29472880145.13282} - \\frac{2.49221264396033 \\times 10^{22} \\, \\pi \\mathit{B1}_{\\mathit{zr}_{\\mathit{im}}} \\sqrt{{\\left| 2387.67154399559i \\, \\pi - 6.238485647791859 \\times 10^{-07} - 5.6924348668883825 \\times 10^{-06}i \\right|}} \\cos\\left(\\frac{1}{2} \\, \\arctan\\left(2387.67154399559 \\, \\pi - 5.6924348668883825 \\times 10^{-06}, -6.238485647791859 \\times 10^{-07}\\right)\\right)}{-2.44311581593318 \\times 10^{19} \\, \\pi + 5.76797789058196 \\times 10^{12} \\, \\pi^{2} {\\left| 2.14593216528857 \\times 10^{24}i \\, \\pi + 8.88314980327947 \\times 10^{14} \\right|} \\cos\\left(\\frac{1}{2} \\, \\arctan\\left(2.41573339728700 \\times 10^{9} \\, \\pi\\right)\\right)^{2} + 5.76797789058196 \\times 10^{12} \\, \\pi^{2} {\\left| 2.14593216528857 \\times 10^{24}i \\, \\pi + 8.88314980327947 \\times 10^{14} \\right|} \\sin\\left(\\frac{1}{2} \\, \\arctan\\left(2.41573339728700 \\times 10^{9} \\, \\pi\\right)\\right)^{2} + 3.43824702335364 \\times 10^{20} \\, \\pi^{2} \\sqrt{{\\left| 2.14593216528857 \\times 10^{24}i \\, \\pi + 8.88314980327947 \\times 10^{14} \\right|}} \\cos\\left(\\frac{1}{2} \\, \\arctan\\left(2.41573339728700 \\times 10^{9} \\, \\pi\\right)\\right) - 8.19710620831927 \\times 10^{11} \\, \\pi \\sqrt{{\\left| 2.14593216528857 \\times 10^{24}i \\, \\pi + 8.88314980327947 \\times 10^{14} \\right|}} \\cos\\left(\\frac{1}{2} \\, \\arctan\\left(2.41573339728700 \\times 10^{9} \\, \\pi\\right)\\right) + 8.98341933282028 \\times 10^{10} \\, \\pi \\sqrt{{\\left| 2.14593216528857 \\times 10^{24}i \\, \\pi + 8.88314980327947 \\times 10^{14} \\right|}} \\sin\\left(\\frac{1}{2} \\, \\arctan\\left(2.41573339728700 \\times 10^{9} \\, \\pi\\right)\\right) + 5.12378116640435 \\times 10^{27} \\, \\pi^{2} + 29472880145.13282} + \\frac{1.8843883099277677 \\times 10^{22} \\, \\pi \\mathit{B1}_{\\mathit{zr}_{\\mathit{re}}} \\sqrt{{\\left| 2387.67154399559i \\, \\pi - 6.238485647791859 \\times 10^{-07} - 5.6924348668883825 \\times 10^{-06}i \\right|}} \\cos\\left(\\frac{1}{2} \\, \\arctan\\left(2387.67154399559 \\, \\pi - 5.6924348668883825 \\times 10^{-06}, -6.238485647791859 \\times 10^{-07}\\right)\\right)}{-2.44311581593318 \\times 10^{19} \\, \\pi + 5.76797789058196 \\times 10^{12} \\, \\pi^{2} {\\left| 2.14593216528857 \\times 10^{24}i \\, \\pi + 8.88314980327947 \\times 10^{14} \\right|} \\cos\\left(\\frac{1}{2} \\, \\arctan\\left(2.41573339728700 \\times 10^{9} \\, \\pi\\right)\\right)^{2} + 5.76797789058196 \\times 10^{12} \\, \\pi^{2} {\\left| 2.14593216528857 \\times 10^{24}i \\, \\pi + 8.88314980327947 \\times 10^{14} \\right|} \\sin\\left(\\frac{1}{2} \\, \\arctan\\left(2.41573339728700 \\times 10^{9} \\, \\pi\\right)\\right)^{2} + 3.43824702335364 \\times 10^{20} \\, \\pi^{2} \\sqrt{{\\left| 2.14593216528857 \\times 10^{24}i \\, \\pi + 8.88314980327947 \\times 10^{14} \\right|}} \\cos\\left(\\frac{1}{2} \\, \\arctan\\left(2.41573339728700 \\times 10^{9} \\, \\pi\\right)\\right) - 8.19710620831927 \\times 10^{11} \\, \\pi \\sqrt{{\\left| 2.14593216528857 \\times 10^{24}i \\, \\pi + 8.88314980327947 \\times 10^{14} \\right|}} \\cos\\left(\\frac{1}{2} \\, \\arctan\\left(2.41573339728700 \\times 10^{9} \\, \\pi\\right)\\right) + 8.98341933282028 \\times 10^{10} \\, \\pi \\sqrt{{\\left| 2.14593216528857 \\times 10^{24}i \\, \\pi + 8.88314980327947 \\times 10^{14} \\right|}} \\sin\\left(\\frac{1}{2} \\, \\arctan\\left(2.41573339728700 \\times 10^{9} \\, \\pi\\right)\\right) + 5.12378116640435 \\times 10^{27} \\, \\pi^{2} + 29472880145.13282} - \\frac{1.8843883099277677 \\times 10^{22} \\, \\pi \\mathit{B1}_{\\mathit{zr}_{\\mathit{im}}} \\sqrt{{\\left| 2387.67154399559i \\, \\pi - 6.238485647791859 \\times 10^{-07} - 5.6924348668883825 \\times 10^{-06}i \\right|}} \\sin\\left(\\frac{1}{2} \\, \\arctan\\left(2387.67154399559 \\, \\pi - 5.6924348668883825 \\times 10^{-06}, -6.238485647791859 \\times 10^{-07}\\right)\\right)}{-2.44311581593318 \\times 10^{19} \\, \\pi + 5.76797789058196 \\times 10^{12} \\, \\pi^{2} {\\left| 2.14593216528857 \\times 10^{24}i \\, \\pi + 8.88314980327947 \\times 10^{14} \\right|} \\cos\\left(\\frac{1}{2} \\, \\arctan\\left(2.41573339728700 \\times 10^{9} \\, \\pi\\right)\\right)^{2} + 5.76797789058196 \\times 10^{12} \\, \\pi^{2} {\\left| 2.14593216528857 \\times 10^{24}i \\, \\pi + 8.88314980327947 \\times 10^{14} \\right|} \\sin\\left(\\frac{1}{2} \\, \\arctan\\left(2.41573339728700 \\times 10^{9} \\, \\pi\\right)\\right)^{2} + 3.43824702335364 \\times 10^{20} \\, \\pi^{2} \\sqrt{{\\left| 2.14593216528857 \\times 10^{24}i \\, \\pi + 8.88314980327947 \\times 10^{14} \\right|}} \\cos\\left(\\frac{1}{2} \\, \\arctan\\left(2.41573339728700 \\times 10^{9} \\, \\pi\\right)\\right) - 8.19710620831927 \\times 10^{11} \\, \\pi \\sqrt{{\\left| 2.14593216528857 \\times 10^{24}i \\, \\pi + 8.88314980327947 \\times 10^{14} \\right|}} \\cos\\left(\\frac{1}{2} \\, \\arctan\\left(2.41573339728700 \\times 10^{9} \\, \\pi\\right)\\right) + 8.98341933282028 \\times 10^{10} \\, \\pi \\sqrt{{\\left| 2.14593216528857 \\times 10^{24}i \\, \\pi + 8.88314980327947 \\times 10^{14} \\right|}} \\sin\\left(\\frac{1}{2} \\, \\arctan\\left(2.41573339728700 \\times 10^{9} \\, \\pi\\right)\\right) + 5.12378116640435 \\times 10^{27} \\, \\pi^{2} + 29472880145.13282} - \\frac{2.49221264396033 \\times 10^{22} \\, \\pi \\mathit{B1}_{\\mathit{zr}_{\\mathit{re}}} \\sqrt{{\\left| 2387.67154399559i \\, \\pi - 6.238485647791859 \\times 10^{-07} - 5.6924348668883825 \\times 10^{-06}i \\right|}} \\sin\\left(\\frac{1}{2} \\, \\arctan\\left(2387.67154399559 \\, \\pi - 5.6924348668883825 \\times 10^{-06}, -6.238485647791859 \\times 10^{-07}\\right)\\right)}{-2.44311581593318 \\times 10^{19} \\, \\pi + 5.76797789058196 \\times 10^{12} \\, \\pi^{2} {\\left| 2.14593216528857 \\times 10^{24}i \\, \\pi + 8.88314980327947 \\times 10^{14} \\right|} \\cos\\left(\\frac{1}{2} \\, \\arctan\\left(2.41573339728700 \\times 10^{9} \\, \\pi\\right)\\right)^{2} + 5.76797789058196 \\times 10^{12} \\, \\pi^{2} {\\left| 2.14593216528857 \\times 10^{24}i \\, \\pi + 8.88314980327947 \\times 10^{14} \\right|} \\sin\\left(\\frac{1}{2} \\, \\arctan\\left(2.41573339728700 \\times 10^{9} \\, \\pi\\right)\\right)^{2} + 3.43824702335364 \\times 10^{20} \\, \\pi^{2} \\sqrt{{\\left| 2.14593216528857 \\times 10^{24}i \\, \\pi + 8.88314980327947 \\times 10^{14} \\right|}} \\cos\\left(\\frac{1}{2} \\, \\arctan\\left(2.41573339728700 \\times 10^{9} \\, \\pi\\right)\\right) - 8.19710620831927 \\times 10^{11} \\, \\pi \\sqrt{{\\left| 2.14593216528857 \\times 10^{24}i \\, \\pi + 8.88314980327947 \\times 10^{14} \\right|}} \\cos\\left(\\frac{1}{2} \\, \\arctan\\left(2.41573339728700 \\times 10^{9} \\, \\pi\\right)\\right) + 8.98341933282028 \\times 10^{10} \\, \\pi \\sqrt{{\\left| 2.14593216528857 \\times 10^{24}i \\, \\pi + 8.88314980327947 \\times 10^{14} \\right|}} \\sin\\left(\\frac{1}{2} \\, \\arctan\\left(2.41573339728700 \\times 10^{9} \\, \\pi\\right)\\right) + 5.12378116640435 \\times 10^{27} \\, \\pi^{2} + 29472880145.13282} + \\frac{9103629065534.969 \\, \\mathit{B1}_{\\mathit{zr}_{\\mathit{im}}} \\sqrt{{\\left| 2387.67154399559i \\, \\pi - 6.238485647791859 \\times 10^{-07} - 5.6924348668883825 \\times 10^{-06}i \\right|}} \\cos\\left(\\frac{1}{2} \\, \\arctan\\left(2387.67154399559 \\, \\pi - 5.6924348668883825 \\times 10^{-06}, -6.238485647791859 \\times 10^{-07}\\right)\\right)}{-2.44311581593318 \\times 10^{19} \\, \\pi + 5.76797789058196 \\times 10^{12} \\, \\pi^{2} {\\left| 2.14593216528857 \\times 10^{24}i \\, \\pi + 8.88314980327947 \\times 10^{14} \\right|} \\cos\\left(\\frac{1}{2} \\, \\arctan\\left(2.41573339728700 \\times 10^{9} \\, \\pi\\right)\\right)^{2} + 5.76797789058196 \\times 10^{12} \\, \\pi^{2} {\\left| 2.14593216528857 \\times 10^{24}i \\, \\pi + 8.88314980327947 \\times 10^{14} \\right|} \\sin\\left(\\frac{1}{2} \\, \\arctan\\left(2.41573339728700 \\times 10^{9} \\, \\pi\\right)\\right)^{2} + 3.43824702335364 \\times 10^{20} \\, \\pi^{2} \\sqrt{{\\left| 2.14593216528857 \\times 10^{24}i \\, \\pi + 8.88314980327947 \\times 10^{14} \\right|}} \\cos\\left(\\frac{1}{2} \\, \\arctan\\left(2.41573339728700 \\times 10^{9} \\, \\pi\\right)\\right) - 8.19710620831927 \\times 10^{11} \\, \\pi \\sqrt{{\\left| 2.14593216528857 \\times 10^{24}i \\, \\pi + 8.88314980327947 \\times 10^{14} \\right|}} \\cos\\left(\\frac{1}{2} \\, \\arctan\\left(2.41573339728700 \\times 10^{9} \\, \\pi\\right)\\right) + 8.98341933282028 \\times 10^{10} \\, \\pi \\sqrt{{\\left| 2.14593216528857 \\times 10^{24}i \\, \\pi + 8.88314980327947 \\times 10^{14} \\right|}} \\sin\\left(\\frac{1}{2} \\, \\arctan\\left(2.41573339728700 \\times 10^{9} \\, \\pi\\right)\\right) + 5.12378116640435 \\times 10^{27} \\, \\pi^{2} + 29472880145.13282} + \\frac{8593099687252.745 \\, \\mathit{B1}_{\\mathit{zr}_{\\mathit{re}}} \\sqrt{{\\left| 2387.67154399559i \\, \\pi - 6.238485647791859 \\times 10^{-07} - 5.6924348668883825 \\times 10^{-06}i \\right|}} \\cos\\left(\\frac{1}{2} \\, \\arctan\\left(2387.67154399559 \\, \\pi - 5.6924348668883825 \\times 10^{-06}, -6.238485647791859 \\times 10^{-07}\\right)\\right)}{-2.44311581593318 \\times 10^{19} \\, \\pi + 5.76797789058196 \\times 10^{12} \\, \\pi^{2} {\\left| 2.14593216528857 \\times 10^{24}i \\, \\pi + 8.88314980327947 \\times 10^{14} \\right|} \\cos\\left(\\frac{1}{2} \\, \\arctan\\left(2.41573339728700 \\times 10^{9} \\, \\pi\\right)\\right)^{2} + 5.76797789058196 \\times 10^{12} \\, \\pi^{2} {\\left| 2.14593216528857 \\times 10^{24}i \\, \\pi + 8.88314980327947 \\times 10^{14} \\right|} \\sin\\left(\\frac{1}{2} \\, \\arctan\\left(2.41573339728700 \\times 10^{9} \\, \\pi\\right)\\right)^{2} + 3.43824702335364 \\times 10^{20} \\, \\pi^{2} \\sqrt{{\\left| 2.14593216528857 \\times 10^{24}i \\, \\pi + 8.88314980327947 \\times 10^{14} \\right|}} \\cos\\left(\\frac{1}{2} \\, \\arctan\\left(2.41573339728700 \\times 10^{9} \\, \\pi\\right)\\right) - 8.19710620831927 \\times 10^{11} \\, \\pi \\sqrt{{\\left| 2.14593216528857 \\times 10^{24}i \\, \\pi + 8.88314980327947 \\times 10^{14} \\right|}} \\cos\\left(\\frac{1}{2} \\, \\arctan\\left(2.41573339728700 \\times 10^{9} \\, \\pi\\right)\\right) + 8.98341933282028 \\times 10^{10} \\, \\pi \\sqrt{{\\left| 2.14593216528857 \\times 10^{24}i \\, \\pi + 8.88314980327947 \\times 10^{14} \\right|}} \\sin\\left(\\frac{1}{2} \\, \\arctan\\left(2.41573339728700 \\times 10^{9} \\, \\pi\\right)\\right) + 5.12378116640435 \\times 10^{27} \\, \\pi^{2} + 29472880145.13282} - \\frac{8593099687252.745 \\, \\mathit{B1}_{\\mathit{zr}_{\\mathit{im}}} \\sqrt{{\\left| 2387.67154399559i \\, \\pi - 6.238485647791859 \\times 10^{-07} - 5.6924348668883825 \\times 10^{-06}i \\right|}} \\sin\\left(\\frac{1}{2} \\, \\arctan\\left(2387.67154399559 \\, \\pi - 5.6924348668883825 \\times 10^{-06}, -6.238485647791859 \\times 10^{-07}\\right)\\right)}{-2.44311581593318 \\times 10^{19} \\, \\pi + 5.76797789058196 \\times 10^{12} \\, \\pi^{2} {\\left| 2.14593216528857 \\times 10^{24}i \\, \\pi + 8.88314980327947 \\times 10^{14} \\right|} \\cos\\left(\\frac{1}{2} \\, \\arctan\\left(2.41573339728700 \\times 10^{9} \\, \\pi\\right)\\right)^{2} + 5.76797789058196 \\times 10^{12} \\, \\pi^{2} {\\left| 2.14593216528857 \\times 10^{24}i \\, \\pi + 8.88314980327947 \\times 10^{14} \\right|} \\sin\\left(\\frac{1}{2} \\, \\arctan\\left(2.41573339728700 \\times 10^{9} \\, \\pi\\right)\\right)^{2} + 3.43824702335364 \\times 10^{20} \\, \\pi^{2} \\sqrt{{\\left| 2.14593216528857 \\times 10^{24}i \\, \\pi + 8.88314980327947 \\times 10^{14} \\right|}} \\cos\\left(\\frac{1}{2} \\, \\arctan\\left(2.41573339728700 \\times 10^{9} \\, \\pi\\right)\\right) - 8.19710620831927 \\times 10^{11} \\, \\pi \\sqrt{{\\left| 2.14593216528857 \\times 10^{24}i \\, \\pi + 8.88314980327947 \\times 10^{14} \\right|}} \\cos\\left(\\frac{1}{2} \\, \\arctan\\left(2.41573339728700 \\times 10^{9} \\, \\pi\\right)\\right) + 8.98341933282028 \\times 10^{10} \\, \\pi \\sqrt{{\\left| 2.14593216528857 \\times 10^{24}i \\, \\pi + 8.88314980327947 \\times 10^{14} \\right|}} \\sin\\left(\\frac{1}{2} \\, \\arctan\\left(2.41573339728700 \\times 10^{9} \\, \\pi\\right)\\right) + 5.12378116640435 \\times 10^{27} \\, \\pi^{2} + 29472880145.13282} + \\frac{9103629065534.969 \\, \\mathit{B1}_{\\mathit{zr}_{\\mathit{re}}} \\sqrt{{\\left| 2387.67154399559i \\, \\pi - 6.238485647791859 \\times 10^{-07} - 5.6924348668883825 \\times 10^{-06}i \\right|}} \\sin\\left(\\frac{1}{2} \\, \\arctan\\left(2387.67154399559 \\, \\pi - 5.6924348668883825 \\times 10^{-06}, -6.238485647791859 \\times 10^{-07}\\right)\\right)}{-2.44311581593318 \\times 10^{19} \\, \\pi + 5.76797789058196 \\times 10^{12} \\, \\pi^{2} {\\left| 2.14593216528857 \\times 10^{24}i \\, \\pi + 8.88314980327947 \\times 10^{14} \\right|} \\cos\\left(\\frac{1}{2} \\, \\arctan\\left(2.41573339728700 \\times 10^{9} \\, \\pi\\right)\\right)^{2} + 5.76797789058196 \\times 10^{12} \\, \\pi^{2} {\\left| 2.14593216528857 \\times 10^{24}i \\, \\pi + 8.88314980327947 \\times 10^{14} \\right|} \\sin\\left(\\frac{1}{2} \\, \\arctan\\left(2.41573339728700 \\times 10^{9} \\, \\pi\\right)\\right)^{2} + 3.43824702335364 \\times 10^{20} \\, \\pi^{2} \\sqrt{{\\left| 2.14593216528857 \\times 10^{24}i \\, \\pi + 8.88314980327947 \\times 10^{14} \\right|}} \\cos\\left(\\frac{1}{2} \\, \\arctan\\left(2.41573339728700 \\times 10^{9} \\, \\pi\\right)\\right) - 8.19710620831927 \\times 10^{11} \\, \\pi \\sqrt{{\\left| 2.14593216528857 \\times 10^{24}i \\, \\pi + 8.88314980327947 \\times 10^{14} \\right|}} \\cos\\left(\\frac{1}{2} \\, \\arctan\\left(2.41573339728700 \\times 10^{9} \\, \\pi\\right)\\right) + 8.98341933282028 \\times 10^{10} \\, \\pi \\sqrt{{\\left| 2.14593216528857 \\times 10^{24}i \\, \\pi + 8.88314980327947 \\times 10^{14} \\right|}} \\sin\\left(\\frac{1}{2} \\, \\arctan\\left(2.41573339728700 \\times 10^{9} \\, \\pi\\right)\\right) + 5.12378116640435 \\times 10^{27} \\, \\pi^{2} + 29472880145.13282} + 1.0109649336612163 \\, \\mathit{A1}_{z_{\\mathit{im}}} - 0.08615644016021828 \\, \\mathit{A1}_{z_{\\mathit{re}}} - 1.0148452855683712 \\, \\mathit{A2}_{z_{\\mathit{im}}} + 0.08322245930178149 \\, \\mathit{A2}_{z_{\\mathit{re}}} = 0$"
      ],
      "text/plain": [
       "<IPython.core.display.Math object>"
      ]
     },
     "metadata": {},
     "output_type": "display_data"
    },
    {
     "name": "stdout",
     "output_type": "stream",
     "text": [
      "1 imag\n"
     ]
    },
    {
     "data": {
      "text/latex": [
       "$\\displaystyle -\\frac{3.37460452022811 \\times 10^{23} \\, \\pi^{2} \\mathit{B1}_{\\mathit{zr}_{\\mathit{im}}} \\sqrt{{\\left| 2.14593216528857 \\times 10^{24}i \\, \\pi + 8.88314980327947 \\times 10^{14} \\right|}} \\sqrt{{\\left| 2387.67154399559i \\, \\pi - 6.238485647791859 \\times 10^{-07} - 5.6924348668883825 \\times 10^{-06}i \\right|}} \\cos\\left(\\frac{1}{2} \\, \\arctan\\left(2.41573339728700 \\times 10^{9} \\, \\pi\\right)\\right) \\cos\\left(\\frac{1}{2} \\, \\arctan\\left(2387.67154399559 \\, \\pi - 5.6924348668883825 \\times 10^{-06}, -6.238485647791859 \\times 10^{-07}\\right)\\right)}{-2.44311581593318 \\times 10^{19} \\, \\pi + 5.76797789058196 \\times 10^{12} \\, \\pi^{2} {\\left| 2.14593216528857 \\times 10^{24}i \\, \\pi + 8.88314980327947 \\times 10^{14} \\right|} \\cos\\left(\\frac{1}{2} \\, \\arctan\\left(2.41573339728700 \\times 10^{9} \\, \\pi\\right)\\right)^{2} + 5.76797789058196 \\times 10^{12} \\, \\pi^{2} {\\left| 2.14593216528857 \\times 10^{24}i \\, \\pi + 8.88314980327947 \\times 10^{14} \\right|} \\sin\\left(\\frac{1}{2} \\, \\arctan\\left(2.41573339728700 \\times 10^{9} \\, \\pi\\right)\\right)^{2} + 3.43824702335364 \\times 10^{20} \\, \\pi^{2} \\sqrt{{\\left| 2.14593216528857 \\times 10^{24}i \\, \\pi + 8.88314980327947 \\times 10^{14} \\right|}} \\cos\\left(\\frac{1}{2} \\, \\arctan\\left(2.41573339728700 \\times 10^{9} \\, \\pi\\right)\\right) - 8.19710620831927 \\times 10^{11} \\, \\pi \\sqrt{{\\left| 2.14593216528857 \\times 10^{24}i \\, \\pi + 8.88314980327947 \\times 10^{14} \\right|}} \\cos\\left(\\frac{1}{2} \\, \\arctan\\left(2.41573339728700 \\times 10^{9} \\, \\pi\\right)\\right) + 8.98341933282028 \\times 10^{10} \\, \\pi \\sqrt{{\\left| 2.14593216528857 \\times 10^{24}i \\, \\pi + 8.88314980327947 \\times 10^{14} \\right|}} \\sin\\left(\\frac{1}{2} \\, \\arctan\\left(2.41573339728700 \\times 10^{9} \\, \\pi\\right)\\right) + 5.12378116640435 \\times 10^{27} \\, \\pi^{2} + 29472880145.13282} - \\frac{2.55157412990337 \\times 10^{23} \\, \\pi^{2} \\mathit{B1}_{\\mathit{zr}_{\\mathit{re}}} \\sqrt{{\\left| 2.14593216528857 \\times 10^{24}i \\, \\pi + 8.88314980327947 \\times 10^{14} \\right|}} \\sqrt{{\\left| 2387.67154399559i \\, \\pi - 6.238485647791859 \\times 10^{-07} - 5.6924348668883825 \\times 10^{-06}i \\right|}} \\cos\\left(\\frac{1}{2} \\, \\arctan\\left(2.41573339728700 \\times 10^{9} \\, \\pi\\right)\\right) \\cos\\left(\\frac{1}{2} \\, \\arctan\\left(2387.67154399559 \\, \\pi - 5.6924348668883825 \\times 10^{-06}, -6.238485647791859 \\times 10^{-07}\\right)\\right)}{-2.44311581593318 \\times 10^{19} \\, \\pi + 5.76797789058196 \\times 10^{12} \\, \\pi^{2} {\\left| 2.14593216528857 \\times 10^{24}i \\, \\pi + 8.88314980327947 \\times 10^{14} \\right|} \\cos\\left(\\frac{1}{2} \\, \\arctan\\left(2.41573339728700 \\times 10^{9} \\, \\pi\\right)\\right)^{2} + 5.76797789058196 \\times 10^{12} \\, \\pi^{2} {\\left| 2.14593216528857 \\times 10^{24}i \\, \\pi + 8.88314980327947 \\times 10^{14} \\right|} \\sin\\left(\\frac{1}{2} \\, \\arctan\\left(2.41573339728700 \\times 10^{9} \\, \\pi\\right)\\right)^{2} + 3.43824702335364 \\times 10^{20} \\, \\pi^{2} \\sqrt{{\\left| 2.14593216528857 \\times 10^{24}i \\, \\pi + 8.88314980327947 \\times 10^{14} \\right|}} \\cos\\left(\\frac{1}{2} \\, \\arctan\\left(2.41573339728700 \\times 10^{9} \\, \\pi\\right)\\right) - 8.19710620831927 \\times 10^{11} \\, \\pi \\sqrt{{\\left| 2.14593216528857 \\times 10^{24}i \\, \\pi + 8.88314980327947 \\times 10^{14} \\right|}} \\cos\\left(\\frac{1}{2} \\, \\arctan\\left(2.41573339728700 \\times 10^{9} \\, \\pi\\right)\\right) + 8.98341933282028 \\times 10^{10} \\, \\pi \\sqrt{{\\left| 2.14593216528857 \\times 10^{24}i \\, \\pi + 8.88314980327947 \\times 10^{14} \\right|}} \\sin\\left(\\frac{1}{2} \\, \\arctan\\left(2.41573339728700 \\times 10^{9} \\, \\pi\\right)\\right) + 5.12378116640435 \\times 10^{27} \\, \\pi^{2} + 29472880145.13282} - \\frac{2.55157412990337 \\times 10^{23} \\, \\pi^{2} \\mathit{B1}_{\\mathit{zr}_{\\mathit{im}}} \\sqrt{{\\left| 2.14593216528857 \\times 10^{24}i \\, \\pi + 8.88314980327947 \\times 10^{14} \\right|}} \\sqrt{{\\left| 2387.67154399559i \\, \\pi - 6.238485647791859 \\times 10^{-07} - 5.6924348668883825 \\times 10^{-06}i \\right|}} \\cos\\left(\\frac{1}{2} \\, \\arctan\\left(2387.67154399559 \\, \\pi - 5.6924348668883825 \\times 10^{-06}, -6.238485647791859 \\times 10^{-07}\\right)\\right) \\sin\\left(\\frac{1}{2} \\, \\arctan\\left(2.41573339728700 \\times 10^{9} \\, \\pi\\right)\\right)}{-2.44311581593318 \\times 10^{19} \\, \\pi + 5.76797789058196 \\times 10^{12} \\, \\pi^{2} {\\left| 2.14593216528857 \\times 10^{24}i \\, \\pi + 8.88314980327947 \\times 10^{14} \\right|} \\cos\\left(\\frac{1}{2} \\, \\arctan\\left(2.41573339728700 \\times 10^{9} \\, \\pi\\right)\\right)^{2} + 5.76797789058196 \\times 10^{12} \\, \\pi^{2} {\\left| 2.14593216528857 \\times 10^{24}i \\, \\pi + 8.88314980327947 \\times 10^{14} \\right|} \\sin\\left(\\frac{1}{2} \\, \\arctan\\left(2.41573339728700 \\times 10^{9} \\, \\pi\\right)\\right)^{2} + 3.43824702335364 \\times 10^{20} \\, \\pi^{2} \\sqrt{{\\left| 2.14593216528857 \\times 10^{24}i \\, \\pi + 8.88314980327947 \\times 10^{14} \\right|}} \\cos\\left(\\frac{1}{2} \\, \\arctan\\left(2.41573339728700 \\times 10^{9} \\, \\pi\\right)\\right) - 8.19710620831927 \\times 10^{11} \\, \\pi \\sqrt{{\\left| 2.14593216528857 \\times 10^{24}i \\, \\pi + 8.88314980327947 \\times 10^{14} \\right|}} \\cos\\left(\\frac{1}{2} \\, \\arctan\\left(2.41573339728700 \\times 10^{9} \\, \\pi\\right)\\right) + 8.98341933282028 \\times 10^{10} \\, \\pi \\sqrt{{\\left| 2.14593216528857 \\times 10^{24}i \\, \\pi + 8.88314980327947 \\times 10^{14} \\right|}} \\sin\\left(\\frac{1}{2} \\, \\arctan\\left(2.41573339728700 \\times 10^{9} \\, \\pi\\right)\\right) + 5.12378116640435 \\times 10^{27} \\, \\pi^{2} + 29472880145.13282} + \\frac{3.37460452022811 \\times 10^{23} \\, \\pi^{2} \\mathit{B1}_{\\mathit{zr}_{\\mathit{re}}} \\sqrt{{\\left| 2.14593216528857 \\times 10^{24}i \\, \\pi + 8.88314980327947 \\times 10^{14} \\right|}} \\sqrt{{\\left| 2387.67154399559i \\, \\pi - 6.238485647791859 \\times 10^{-07} - 5.6924348668883825 \\times 10^{-06}i \\right|}} \\cos\\left(\\frac{1}{2} \\, \\arctan\\left(2387.67154399559 \\, \\pi - 5.6924348668883825 \\times 10^{-06}, -6.238485647791859 \\times 10^{-07}\\right)\\right) \\sin\\left(\\frac{1}{2} \\, \\arctan\\left(2.41573339728700 \\times 10^{9} \\, \\pi\\right)\\right)}{-2.44311581593318 \\times 10^{19} \\, \\pi + 5.76797789058196 \\times 10^{12} \\, \\pi^{2} {\\left| 2.14593216528857 \\times 10^{24}i \\, \\pi + 8.88314980327947 \\times 10^{14} \\right|} \\cos\\left(\\frac{1}{2} \\, \\arctan\\left(2.41573339728700 \\times 10^{9} \\, \\pi\\right)\\right)^{2} + 5.76797789058196 \\times 10^{12} \\, \\pi^{2} {\\left| 2.14593216528857 \\times 10^{24}i \\, \\pi + 8.88314980327947 \\times 10^{14} \\right|} \\sin\\left(\\frac{1}{2} \\, \\arctan\\left(2.41573339728700 \\times 10^{9} \\, \\pi\\right)\\right)^{2} + 3.43824702335364 \\times 10^{20} \\, \\pi^{2} \\sqrt{{\\left| 2.14593216528857 \\times 10^{24}i \\, \\pi + 8.88314980327947 \\times 10^{14} \\right|}} \\cos\\left(\\frac{1}{2} \\, \\arctan\\left(2.41573339728700 \\times 10^{9} \\, \\pi\\right)\\right) - 8.19710620831927 \\times 10^{11} \\, \\pi \\sqrt{{\\left| 2.14593216528857 \\times 10^{24}i \\, \\pi + 8.88314980327947 \\times 10^{14} \\right|}} \\cos\\left(\\frac{1}{2} \\, \\arctan\\left(2.41573339728700 \\times 10^{9} \\, \\pi\\right)\\right) + 8.98341933282028 \\times 10^{10} \\, \\pi \\sqrt{{\\left| 2.14593216528857 \\times 10^{24}i \\, \\pi + 8.88314980327947 \\times 10^{14} \\right|}} \\sin\\left(\\frac{1}{2} \\, \\arctan\\left(2.41573339728700 \\times 10^{9} \\, \\pi\\right)\\right) + 5.12378116640435 \\times 10^{27} \\, \\pi^{2} + 29472880145.13282} + \\frac{2.55157412990337 \\times 10^{23} \\, \\pi^{2} \\mathit{B1}_{\\mathit{zr}_{\\mathit{im}}} \\sqrt{{\\left| 2.14593216528857 \\times 10^{24}i \\, \\pi + 8.88314980327947 \\times 10^{14} \\right|}} \\sqrt{{\\left| 2387.67154399559i \\, \\pi - 6.238485647791859 \\times 10^{-07} - 5.6924348668883825 \\times 10^{-06}i \\right|}} \\cos\\left(\\frac{1}{2} \\, \\arctan\\left(2.41573339728700 \\times 10^{9} \\, \\pi\\right)\\right) \\sin\\left(\\frac{1}{2} \\, \\arctan\\left(2387.67154399559 \\, \\pi - 5.6924348668883825 \\times 10^{-06}, -6.238485647791859 \\times 10^{-07}\\right)\\right)}{-2.44311581593318 \\times 10^{19} \\, \\pi + 5.76797789058196 \\times 10^{12} \\, \\pi^{2} {\\left| 2.14593216528857 \\times 10^{24}i \\, \\pi + 8.88314980327947 \\times 10^{14} \\right|} \\cos\\left(\\frac{1}{2} \\, \\arctan\\left(2.41573339728700 \\times 10^{9} \\, \\pi\\right)\\right)^{2} + 5.76797789058196 \\times 10^{12} \\, \\pi^{2} {\\left| 2.14593216528857 \\times 10^{24}i \\, \\pi + 8.88314980327947 \\times 10^{14} \\right|} \\sin\\left(\\frac{1}{2} \\, \\arctan\\left(2.41573339728700 \\times 10^{9} \\, \\pi\\right)\\right)^{2} + 3.43824702335364 \\times 10^{20} \\, \\pi^{2} \\sqrt{{\\left| 2.14593216528857 \\times 10^{24}i \\, \\pi + 8.88314980327947 \\times 10^{14} \\right|}} \\cos\\left(\\frac{1}{2} \\, \\arctan\\left(2.41573339728700 \\times 10^{9} \\, \\pi\\right)\\right) - 8.19710620831927 \\times 10^{11} \\, \\pi \\sqrt{{\\left| 2.14593216528857 \\times 10^{24}i \\, \\pi + 8.88314980327947 \\times 10^{14} \\right|}} \\cos\\left(\\frac{1}{2} \\, \\arctan\\left(2.41573339728700 \\times 10^{9} \\, \\pi\\right)\\right) + 8.98341933282028 \\times 10^{10} \\, \\pi \\sqrt{{\\left| 2.14593216528857 \\times 10^{24}i \\, \\pi + 8.88314980327947 \\times 10^{14} \\right|}} \\sin\\left(\\frac{1}{2} \\, \\arctan\\left(2.41573339728700 \\times 10^{9} \\, \\pi\\right)\\right) + 5.12378116640435 \\times 10^{27} \\, \\pi^{2} + 29472880145.13282} - \\frac{3.37460452022811 \\times 10^{23} \\, \\pi^{2} \\mathit{B1}_{\\mathit{zr}_{\\mathit{re}}} \\sqrt{{\\left| 2.14593216528857 \\times 10^{24}i \\, \\pi + 8.88314980327947 \\times 10^{14} \\right|}} \\sqrt{{\\left| 2387.67154399559i \\, \\pi - 6.238485647791859 \\times 10^{-07} - 5.6924348668883825 \\times 10^{-06}i \\right|}} \\cos\\left(\\frac{1}{2} \\, \\arctan\\left(2.41573339728700 \\times 10^{9} \\, \\pi\\right)\\right) \\sin\\left(\\frac{1}{2} \\, \\arctan\\left(2387.67154399559 \\, \\pi - 5.6924348668883825 \\times 10^{-06}, -6.238485647791859 \\times 10^{-07}\\right)\\right)}{-2.44311581593318 \\times 10^{19} \\, \\pi + 5.76797789058196 \\times 10^{12} \\, \\pi^{2} {\\left| 2.14593216528857 \\times 10^{24}i \\, \\pi + 8.88314980327947 \\times 10^{14} \\right|} \\cos\\left(\\frac{1}{2} \\, \\arctan\\left(2.41573339728700 \\times 10^{9} \\, \\pi\\right)\\right)^{2} + 5.76797789058196 \\times 10^{12} \\, \\pi^{2} {\\left| 2.14593216528857 \\times 10^{24}i \\, \\pi + 8.88314980327947 \\times 10^{14} \\right|} \\sin\\left(\\frac{1}{2} \\, \\arctan\\left(2.41573339728700 \\times 10^{9} \\, \\pi\\right)\\right)^{2} + 3.43824702335364 \\times 10^{20} \\, \\pi^{2} \\sqrt{{\\left| 2.14593216528857 \\times 10^{24}i \\, \\pi + 8.88314980327947 \\times 10^{14} \\right|}} \\cos\\left(\\frac{1}{2} \\, \\arctan\\left(2.41573339728700 \\times 10^{9} \\, \\pi\\right)\\right) - 8.19710620831927 \\times 10^{11} \\, \\pi \\sqrt{{\\left| 2.14593216528857 \\times 10^{24}i \\, \\pi + 8.88314980327947 \\times 10^{14} \\right|}} \\cos\\left(\\frac{1}{2} \\, \\arctan\\left(2.41573339728700 \\times 10^{9} \\, \\pi\\right)\\right) + 8.98341933282028 \\times 10^{10} \\, \\pi \\sqrt{{\\left| 2.14593216528857 \\times 10^{24}i \\, \\pi + 8.88314980327947 \\times 10^{14} \\right|}} \\sin\\left(\\frac{1}{2} \\, \\arctan\\left(2.41573339728700 \\times 10^{9} \\, \\pi\\right)\\right) + 5.12378116640435 \\times 10^{27} \\, \\pi^{2} + 29472880145.13282} - \\frac{3.37460452022811 \\times 10^{23} \\, \\pi^{2} \\mathit{B1}_{\\mathit{zr}_{\\mathit{im}}} \\sqrt{{\\left| 2.14593216528857 \\times 10^{24}i \\, \\pi + 8.88314980327947 \\times 10^{14} \\right|}} \\sqrt{{\\left| 2387.67154399559i \\, \\pi - 6.238485647791859 \\times 10^{-07} - 5.6924348668883825 \\times 10^{-06}i \\right|}} \\sin\\left(\\frac{1}{2} \\, \\arctan\\left(2.41573339728700 \\times 10^{9} \\, \\pi\\right)\\right) \\sin\\left(\\frac{1}{2} \\, \\arctan\\left(2387.67154399559 \\, \\pi - 5.6924348668883825 \\times 10^{-06}, -6.238485647791859 \\times 10^{-07}\\right)\\right)}{-2.44311581593318 \\times 10^{19} \\, \\pi + 5.76797789058196 \\times 10^{12} \\, \\pi^{2} {\\left| 2.14593216528857 \\times 10^{24}i \\, \\pi + 8.88314980327947 \\times 10^{14} \\right|} \\cos\\left(\\frac{1}{2} \\, \\arctan\\left(2.41573339728700 \\times 10^{9} \\, \\pi\\right)\\right)^{2} + 5.76797789058196 \\times 10^{12} \\, \\pi^{2} {\\left| 2.14593216528857 \\times 10^{24}i \\, \\pi + 8.88314980327947 \\times 10^{14} \\right|} \\sin\\left(\\frac{1}{2} \\, \\arctan\\left(2.41573339728700 \\times 10^{9} \\, \\pi\\right)\\right)^{2} + 3.43824702335364 \\times 10^{20} \\, \\pi^{2} \\sqrt{{\\left| 2.14593216528857 \\times 10^{24}i \\, \\pi + 8.88314980327947 \\times 10^{14} \\right|}} \\cos\\left(\\frac{1}{2} \\, \\arctan\\left(2.41573339728700 \\times 10^{9} \\, \\pi\\right)\\right) - 8.19710620831927 \\times 10^{11} \\, \\pi \\sqrt{{\\left| 2.14593216528857 \\times 10^{24}i \\, \\pi + 8.88314980327947 \\times 10^{14} \\right|}} \\cos\\left(\\frac{1}{2} \\, \\arctan\\left(2.41573339728700 \\times 10^{9} \\, \\pi\\right)\\right) + 8.98341933282028 \\times 10^{10} \\, \\pi \\sqrt{{\\left| 2.14593216528857 \\times 10^{24}i \\, \\pi + 8.88314980327947 \\times 10^{14} \\right|}} \\sin\\left(\\frac{1}{2} \\, \\arctan\\left(2.41573339728700 \\times 10^{9} \\, \\pi\\right)\\right) + 5.12378116640435 \\times 10^{27} \\, \\pi^{2} + 29472880145.13282} - \\frac{2.55157412990337 \\times 10^{23} \\, \\pi^{2} \\mathit{B1}_{\\mathit{zr}_{\\mathit{re}}} \\sqrt{{\\left| 2.14593216528857 \\times 10^{24}i \\, \\pi + 8.88314980327947 \\times 10^{14} \\right|}} \\sqrt{{\\left| 2387.67154399559i \\, \\pi - 6.238485647791859 \\times 10^{-07} - 5.6924348668883825 \\times 10^{-06}i \\right|}} \\sin\\left(\\frac{1}{2} \\, \\arctan\\left(2.41573339728700 \\times 10^{9} \\, \\pi\\right)\\right) \\sin\\left(\\frac{1}{2} \\, \\arctan\\left(2387.67154399559 \\, \\pi - 5.6924348668883825 \\times 10^{-06}, -6.238485647791859 \\times 10^{-07}\\right)\\right)}{-2.44311581593318 \\times 10^{19} \\, \\pi + 5.76797789058196 \\times 10^{12} \\, \\pi^{2} {\\left| 2.14593216528857 \\times 10^{24}i \\, \\pi + 8.88314980327947 \\times 10^{14} \\right|} \\cos\\left(\\frac{1}{2} \\, \\arctan\\left(2.41573339728700 \\times 10^{9} \\, \\pi\\right)\\right)^{2} + 5.76797789058196 \\times 10^{12} \\, \\pi^{2} {\\left| 2.14593216528857 \\times 10^{24}i \\, \\pi + 8.88314980327947 \\times 10^{14} \\right|} \\sin\\left(\\frac{1}{2} \\, \\arctan\\left(2.41573339728700 \\times 10^{9} \\, \\pi\\right)\\right)^{2} + 3.43824702335364 \\times 10^{20} \\, \\pi^{2} \\sqrt{{\\left| 2.14593216528857 \\times 10^{24}i \\, \\pi + 8.88314980327947 \\times 10^{14} \\right|}} \\cos\\left(\\frac{1}{2} \\, \\arctan\\left(2.41573339728700 \\times 10^{9} \\, \\pi\\right)\\right) - 8.19710620831927 \\times 10^{11} \\, \\pi \\sqrt{{\\left| 2.14593216528857 \\times 10^{24}i \\, \\pi + 8.88314980327947 \\times 10^{14} \\right|}} \\cos\\left(\\frac{1}{2} \\, \\arctan\\left(2.41573339728700 \\times 10^{9} \\, \\pi\\right)\\right) + 8.98341933282028 \\times 10^{10} \\, \\pi \\sqrt{{\\left| 2.14593216528857 \\times 10^{24}i \\, \\pi + 8.88314980327947 \\times 10^{14} \\right|}} \\sin\\left(\\frac{1}{2} \\, \\arctan\\left(2.41573339728700 \\times 10^{9} \\, \\pi\\right)\\right) + 5.12378116640435 \\times 10^{27} \\, \\pi^{2} + 29472880145.13282} - \\frac{1.05623167389619 \\times 10^{14} \\, \\pi \\mathit{B1}_{\\mathit{zr}_{\\mathit{im}}} \\sqrt{{\\left| 2.14593216528857 \\times 10^{24}i \\, \\pi + 8.88314980327947 \\times 10^{14} \\right|}} \\sqrt{{\\left| 2387.67154399559i \\, \\pi - 6.238485647791859 \\times 10^{-07} - 5.6924348668883825 \\times 10^{-06}i \\right|}} \\cos\\left(\\frac{1}{2} \\, \\arctan\\left(2.41573339728700 \\times 10^{9} \\, \\pi\\right)\\right) \\cos\\left(\\frac{1}{2} \\, \\arctan\\left(2387.67154399559 \\, \\pi - 5.6924348668883825 \\times 10^{-06}, -6.238485647791859 \\times 10^{-07}\\right)\\right)}{-2.44311581593318 \\times 10^{19} \\, \\pi + 5.76797789058196 \\times 10^{12} \\, \\pi^{2} {\\left| 2.14593216528857 \\times 10^{24}i \\, \\pi + 8.88314980327947 \\times 10^{14} \\right|} \\cos\\left(\\frac{1}{2} \\, \\arctan\\left(2.41573339728700 \\times 10^{9} \\, \\pi\\right)\\right)^{2} + 5.76797789058196 \\times 10^{12} \\, \\pi^{2} {\\left| 2.14593216528857 \\times 10^{24}i \\, \\pi + 8.88314980327947 \\times 10^{14} \\right|} \\sin\\left(\\frac{1}{2} \\, \\arctan\\left(2.41573339728700 \\times 10^{9} \\, \\pi\\right)\\right)^{2} + 3.43824702335364 \\times 10^{20} \\, \\pi^{2} \\sqrt{{\\left| 2.14593216528857 \\times 10^{24}i \\, \\pi + 8.88314980327947 \\times 10^{14} \\right|}} \\cos\\left(\\frac{1}{2} \\, \\arctan\\left(2.41573339728700 \\times 10^{9} \\, \\pi\\right)\\right) - 8.19710620831927 \\times 10^{11} \\, \\pi \\sqrt{{\\left| 2.14593216528857 \\times 10^{24}i \\, \\pi + 8.88314980327947 \\times 10^{14} \\right|}} \\cos\\left(\\frac{1}{2} \\, \\arctan\\left(2.41573339728700 \\times 10^{9} \\, \\pi\\right)\\right) + 8.98341933282028 \\times 10^{10} \\, \\pi \\sqrt{{\\left| 2.14593216528857 \\times 10^{24}i \\, \\pi + 8.88314980327947 \\times 10^{14} \\right|}} \\sin\\left(\\frac{1}{2} \\, \\arctan\\left(2.41573339728700 \\times 10^{9} \\, \\pi\\right)\\right) + 5.12378116640435 \\times 10^{27} \\, \\pi^{2} + 29472880145.13282} + \\frac{139692754341930.95 \\, \\pi \\mathit{B1}_{\\mathit{zr}_{\\mathit{re}}} \\sqrt{{\\left| 2.14593216528857 \\times 10^{24}i \\, \\pi + 8.88314980327947 \\times 10^{14} \\right|}} \\sqrt{{\\left| 2387.67154399559i \\, \\pi - 6.238485647791859 \\times 10^{-07} - 5.6924348668883825 \\times 10^{-06}i \\right|}} \\cos\\left(\\frac{1}{2} \\, \\arctan\\left(2.41573339728700 \\times 10^{9} \\, \\pi\\right)\\right) \\cos\\left(\\frac{1}{2} \\, \\arctan\\left(2387.67154399559 \\, \\pi - 5.6924348668883825 \\times 10^{-06}, -6.238485647791859 \\times 10^{-07}\\right)\\right)}{-2.44311581593318 \\times 10^{19} \\, \\pi + 5.76797789058196 \\times 10^{12} \\, \\pi^{2} {\\left| 2.14593216528857 \\times 10^{24}i \\, \\pi + 8.88314980327947 \\times 10^{14} \\right|} \\cos\\left(\\frac{1}{2} \\, \\arctan\\left(2.41573339728700 \\times 10^{9} \\, \\pi\\right)\\right)^{2} + 5.76797789058196 \\times 10^{12} \\, \\pi^{2} {\\left| 2.14593216528857 \\times 10^{24}i \\, \\pi + 8.88314980327947 \\times 10^{14} \\right|} \\sin\\left(\\frac{1}{2} \\, \\arctan\\left(2.41573339728700 \\times 10^{9} \\, \\pi\\right)\\right)^{2} + 3.43824702335364 \\times 10^{20} \\, \\pi^{2} \\sqrt{{\\left| 2.14593216528857 \\times 10^{24}i \\, \\pi + 8.88314980327947 \\times 10^{14} \\right|}} \\cos\\left(\\frac{1}{2} \\, \\arctan\\left(2.41573339728700 \\times 10^{9} \\, \\pi\\right)\\right) - 8.19710620831927 \\times 10^{11} \\, \\pi \\sqrt{{\\left| 2.14593216528857 \\times 10^{24}i \\, \\pi + 8.88314980327947 \\times 10^{14} \\right|}} \\cos\\left(\\frac{1}{2} \\, \\arctan\\left(2.41573339728700 \\times 10^{9} \\, \\pi\\right)\\right) + 8.98341933282028 \\times 10^{10} \\, \\pi \\sqrt{{\\left| 2.14593216528857 \\times 10^{24}i \\, \\pi + 8.88314980327947 \\times 10^{14} \\right|}} \\sin\\left(\\frac{1}{2} \\, \\arctan\\left(2.41573339728700 \\times 10^{9} \\, \\pi\\right)\\right) + 5.12378116640435 \\times 10^{27} \\, \\pi^{2} + 29472880145.13282} + \\frac{1.39692754341931 \\times 10^{14} \\, \\pi \\mathit{B1}_{\\mathit{zr}_{\\mathit{im}}} \\sqrt{{\\left| 2.14593216528857 \\times 10^{24}i \\, \\pi + 8.88314980327947 \\times 10^{14} \\right|}} \\sqrt{{\\left| 2387.67154399559i \\, \\pi - 6.238485647791859 \\times 10^{-07} - 5.6924348668883825 \\times 10^{-06}i \\right|}} \\cos\\left(\\frac{1}{2} \\, \\arctan\\left(2387.67154399559 \\, \\pi - 5.6924348668883825 \\times 10^{-06}, -6.238485647791859 \\times 10^{-07}\\right)\\right) \\sin\\left(\\frac{1}{2} \\, \\arctan\\left(2.41573339728700 \\times 10^{9} \\, \\pi\\right)\\right)}{-2.44311581593318 \\times 10^{19} \\, \\pi + 5.76797789058196 \\times 10^{12} \\, \\pi^{2} {\\left| 2.14593216528857 \\times 10^{24}i \\, \\pi + 8.88314980327947 \\times 10^{14} \\right|} \\cos\\left(\\frac{1}{2} \\, \\arctan\\left(2.41573339728700 \\times 10^{9} \\, \\pi\\right)\\right)^{2} + 5.76797789058196 \\times 10^{12} \\, \\pi^{2} {\\left| 2.14593216528857 \\times 10^{24}i \\, \\pi + 8.88314980327947 \\times 10^{14} \\right|} \\sin\\left(\\frac{1}{2} \\, \\arctan\\left(2.41573339728700 \\times 10^{9} \\, \\pi\\right)\\right)^{2} + 3.43824702335364 \\times 10^{20} \\, \\pi^{2} \\sqrt{{\\left| 2.14593216528857 \\times 10^{24}i \\, \\pi + 8.88314980327947 \\times 10^{14} \\right|}} \\cos\\left(\\frac{1}{2} \\, \\arctan\\left(2.41573339728700 \\times 10^{9} \\, \\pi\\right)\\right) - 8.19710620831927 \\times 10^{11} \\, \\pi \\sqrt{{\\left| 2.14593216528857 \\times 10^{24}i \\, \\pi + 8.88314980327947 \\times 10^{14} \\right|}} \\cos\\left(\\frac{1}{2} \\, \\arctan\\left(2.41573339728700 \\times 10^{9} \\, \\pi\\right)\\right) + 8.98341933282028 \\times 10^{10} \\, \\pi \\sqrt{{\\left| 2.14593216528857 \\times 10^{24}i \\, \\pi + 8.88314980327947 \\times 10^{14} \\right|}} \\sin\\left(\\frac{1}{2} \\, \\arctan\\left(2.41573339728700 \\times 10^{9} \\, \\pi\\right)\\right) + 5.12378116640435 \\times 10^{27} \\, \\pi^{2} + 29472880145.13282} + \\frac{1.05623167389619 \\times 10^{14} \\, \\pi \\mathit{B1}_{\\mathit{zr}_{\\mathit{re}}} \\sqrt{{\\left| 2.14593216528857 \\times 10^{24}i \\, \\pi + 8.88314980327947 \\times 10^{14} \\right|}} \\sqrt{{\\left| 2387.67154399559i \\, \\pi - 6.238485647791859 \\times 10^{-07} - 5.6924348668883825 \\times 10^{-06}i \\right|}} \\cos\\left(\\frac{1}{2} \\, \\arctan\\left(2387.67154399559 \\, \\pi - 5.6924348668883825 \\times 10^{-06}, -6.238485647791859 \\times 10^{-07}\\right)\\right) \\sin\\left(\\frac{1}{2} \\, \\arctan\\left(2.41573339728700 \\times 10^{9} \\, \\pi\\right)\\right)}{-2.44311581593318 \\times 10^{19} \\, \\pi + 5.76797789058196 \\times 10^{12} \\, \\pi^{2} {\\left| 2.14593216528857 \\times 10^{24}i \\, \\pi + 8.88314980327947 \\times 10^{14} \\right|} \\cos\\left(\\frac{1}{2} \\, \\arctan\\left(2.41573339728700 \\times 10^{9} \\, \\pi\\right)\\right)^{2} + 5.76797789058196 \\times 10^{12} \\, \\pi^{2} {\\left| 2.14593216528857 \\times 10^{24}i \\, \\pi + 8.88314980327947 \\times 10^{14} \\right|} \\sin\\left(\\frac{1}{2} \\, \\arctan\\left(2.41573339728700 \\times 10^{9} \\, \\pi\\right)\\right)^{2} + 3.43824702335364 \\times 10^{20} \\, \\pi^{2} \\sqrt{{\\left| 2.14593216528857 \\times 10^{24}i \\, \\pi + 8.88314980327947 \\times 10^{14} \\right|}} \\cos\\left(\\frac{1}{2} \\, \\arctan\\left(2.41573339728700 \\times 10^{9} \\, \\pi\\right)\\right) - 8.19710620831927 \\times 10^{11} \\, \\pi \\sqrt{{\\left| 2.14593216528857 \\times 10^{24}i \\, \\pi + 8.88314980327947 \\times 10^{14} \\right|}} \\cos\\left(\\frac{1}{2} \\, \\arctan\\left(2.41573339728700 \\times 10^{9} \\, \\pi\\right)\\right) + 8.98341933282028 \\times 10^{10} \\, \\pi \\sqrt{{\\left| 2.14593216528857 \\times 10^{24}i \\, \\pi + 8.88314980327947 \\times 10^{14} \\right|}} \\sin\\left(\\frac{1}{2} \\, \\arctan\\left(2.41573339728700 \\times 10^{9} \\, \\pi\\right)\\right) + 5.12378116640435 \\times 10^{27} \\, \\pi^{2} + 29472880145.13282} - \\frac{1.39692754341931 \\times 10^{14} \\, \\pi \\mathit{B1}_{\\mathit{zr}_{\\mathit{im}}} \\sqrt{{\\left| 2.14593216528857 \\times 10^{24}i \\, \\pi + 8.88314980327947 \\times 10^{14} \\right|}} \\sqrt{{\\left| 2387.67154399559i \\, \\pi - 6.238485647791859 \\times 10^{-07} - 5.6924348668883825 \\times 10^{-06}i \\right|}} \\cos\\left(\\frac{1}{2} \\, \\arctan\\left(2.41573339728700 \\times 10^{9} \\, \\pi\\right)\\right) \\sin\\left(\\frac{1}{2} \\, \\arctan\\left(2387.67154399559 \\, \\pi - 5.6924348668883825 \\times 10^{-06}, -6.238485647791859 \\times 10^{-07}\\right)\\right)}{-2.44311581593318 \\times 10^{19} \\, \\pi + 5.76797789058196 \\times 10^{12} \\, \\pi^{2} {\\left| 2.14593216528857 \\times 10^{24}i \\, \\pi + 8.88314980327947 \\times 10^{14} \\right|} \\cos\\left(\\frac{1}{2} \\, \\arctan\\left(2.41573339728700 \\times 10^{9} \\, \\pi\\right)\\right)^{2} + 5.76797789058196 \\times 10^{12} \\, \\pi^{2} {\\left| 2.14593216528857 \\times 10^{24}i \\, \\pi + 8.88314980327947 \\times 10^{14} \\right|} \\sin\\left(\\frac{1}{2} \\, \\arctan\\left(2.41573339728700 \\times 10^{9} \\, \\pi\\right)\\right)^{2} + 3.43824702335364 \\times 10^{20} \\, \\pi^{2} \\sqrt{{\\left| 2.14593216528857 \\times 10^{24}i \\, \\pi + 8.88314980327947 \\times 10^{14} \\right|}} \\cos\\left(\\frac{1}{2} \\, \\arctan\\left(2.41573339728700 \\times 10^{9} \\, \\pi\\right)\\right) - 8.19710620831927 \\times 10^{11} \\, \\pi \\sqrt{{\\left| 2.14593216528857 \\times 10^{24}i \\, \\pi + 8.88314980327947 \\times 10^{14} \\right|}} \\cos\\left(\\frac{1}{2} \\, \\arctan\\left(2.41573339728700 \\times 10^{9} \\, \\pi\\right)\\right) + 8.98341933282028 \\times 10^{10} \\, \\pi \\sqrt{{\\left| 2.14593216528857 \\times 10^{24}i \\, \\pi + 8.88314980327947 \\times 10^{14} \\right|}} \\sin\\left(\\frac{1}{2} \\, \\arctan\\left(2.41573339728700 \\times 10^{9} \\, \\pi\\right)\\right) + 5.12378116640435 \\times 10^{27} \\, \\pi^{2} + 29472880145.13282} - \\frac{105623167389618.8 \\, \\pi \\mathit{B1}_{\\mathit{zr}_{\\mathit{re}}} \\sqrt{{\\left| 2.14593216528857 \\times 10^{24}i \\, \\pi + 8.88314980327947 \\times 10^{14} \\right|}} \\sqrt{{\\left| 2387.67154399559i \\, \\pi - 6.238485647791859 \\times 10^{-07} - 5.6924348668883825 \\times 10^{-06}i \\right|}} \\cos\\left(\\frac{1}{2} \\, \\arctan\\left(2.41573339728700 \\times 10^{9} \\, \\pi\\right)\\right) \\sin\\left(\\frac{1}{2} \\, \\arctan\\left(2387.67154399559 \\, \\pi - 5.6924348668883825 \\times 10^{-06}, -6.238485647791859 \\times 10^{-07}\\right)\\right)}{-2.44311581593318 \\times 10^{19} \\, \\pi + 5.76797789058196 \\times 10^{12} \\, \\pi^{2} {\\left| 2.14593216528857 \\times 10^{24}i \\, \\pi + 8.88314980327947 \\times 10^{14} \\right|} \\cos\\left(\\frac{1}{2} \\, \\arctan\\left(2.41573339728700 \\times 10^{9} \\, \\pi\\right)\\right)^{2} + 5.76797789058196 \\times 10^{12} \\, \\pi^{2} {\\left| 2.14593216528857 \\times 10^{24}i \\, \\pi + 8.88314980327947 \\times 10^{14} \\right|} \\sin\\left(\\frac{1}{2} \\, \\arctan\\left(2.41573339728700 \\times 10^{9} \\, \\pi\\right)\\right)^{2} + 3.43824702335364 \\times 10^{20} \\, \\pi^{2} \\sqrt{{\\left| 2.14593216528857 \\times 10^{24}i \\, \\pi + 8.88314980327947 \\times 10^{14} \\right|}} \\cos\\left(\\frac{1}{2} \\, \\arctan\\left(2.41573339728700 \\times 10^{9} \\, \\pi\\right)\\right) - 8.19710620831927 \\times 10^{11} \\, \\pi \\sqrt{{\\left| 2.14593216528857 \\times 10^{24}i \\, \\pi + 8.88314980327947 \\times 10^{14} \\right|}} \\cos\\left(\\frac{1}{2} \\, \\arctan\\left(2.41573339728700 \\times 10^{9} \\, \\pi\\right)\\right) + 8.98341933282028 \\times 10^{10} \\, \\pi \\sqrt{{\\left| 2.14593216528857 \\times 10^{24}i \\, \\pi + 8.88314980327947 \\times 10^{14} \\right|}} \\sin\\left(\\frac{1}{2} \\, \\arctan\\left(2.41573339728700 \\times 10^{9} \\, \\pi\\right)\\right) + 5.12378116640435 \\times 10^{27} \\, \\pi^{2} + 29472880145.13282} - \\frac{1.05623167389619 \\times 10^{14} \\, \\pi \\mathit{B1}_{\\mathit{zr}_{\\mathit{im}}} \\sqrt{{\\left| 2.14593216528857 \\times 10^{24}i \\, \\pi + 8.88314980327947 \\times 10^{14} \\right|}} \\sqrt{{\\left| 2387.67154399559i \\, \\pi - 6.238485647791859 \\times 10^{-07} - 5.6924348668883825 \\times 10^{-06}i \\right|}} \\sin\\left(\\frac{1}{2} \\, \\arctan\\left(2.41573339728700 \\times 10^{9} \\, \\pi\\right)\\right) \\sin\\left(\\frac{1}{2} \\, \\arctan\\left(2387.67154399559 \\, \\pi - 5.6924348668883825 \\times 10^{-06}, -6.238485647791859 \\times 10^{-07}\\right)\\right)}{-2.44311581593318 \\times 10^{19} \\, \\pi + 5.76797789058196 \\times 10^{12} \\, \\pi^{2} {\\left| 2.14593216528857 \\times 10^{24}i \\, \\pi + 8.88314980327947 \\times 10^{14} \\right|} \\cos\\left(\\frac{1}{2} \\, \\arctan\\left(2.41573339728700 \\times 10^{9} \\, \\pi\\right)\\right)^{2} + 5.76797789058196 \\times 10^{12} \\, \\pi^{2} {\\left| 2.14593216528857 \\times 10^{24}i \\, \\pi + 8.88314980327947 \\times 10^{14} \\right|} \\sin\\left(\\frac{1}{2} \\, \\arctan\\left(2.41573339728700 \\times 10^{9} \\, \\pi\\right)\\right)^{2} + 3.43824702335364 \\times 10^{20} \\, \\pi^{2} \\sqrt{{\\left| 2.14593216528857 \\times 10^{24}i \\, \\pi + 8.88314980327947 \\times 10^{14} \\right|}} \\cos\\left(\\frac{1}{2} \\, \\arctan\\left(2.41573339728700 \\times 10^{9} \\, \\pi\\right)\\right) - 8.19710620831927 \\times 10^{11} \\, \\pi \\sqrt{{\\left| 2.14593216528857 \\times 10^{24}i \\, \\pi + 8.88314980327947 \\times 10^{14} \\right|}} \\cos\\left(\\frac{1}{2} \\, \\arctan\\left(2.41573339728700 \\times 10^{9} \\, \\pi\\right)\\right) + 8.98341933282028 \\times 10^{10} \\, \\pi \\sqrt{{\\left| 2.14593216528857 \\times 10^{24}i \\, \\pi + 8.88314980327947 \\times 10^{14} \\right|}} \\sin\\left(\\frac{1}{2} \\, \\arctan\\left(2.41573339728700 \\times 10^{9} \\, \\pi\\right)\\right) + 5.12378116640435 \\times 10^{27} \\, \\pi^{2} + 29472880145.13282} + \\frac{1.39692754341931 \\times 10^{14} \\, \\pi \\mathit{B1}_{\\mathit{zr}_{\\mathit{re}}} \\sqrt{{\\left| 2.14593216528857 \\times 10^{24}i \\, \\pi + 8.88314980327947 \\times 10^{14} \\right|}} \\sqrt{{\\left| 2387.67154399559i \\, \\pi - 6.238485647791859 \\times 10^{-07} - 5.6924348668883825 \\times 10^{-06}i \\right|}} \\sin\\left(\\frac{1}{2} \\, \\arctan\\left(2.41573339728700 \\times 10^{9} \\, \\pi\\right)\\right) \\sin\\left(\\frac{1}{2} \\, \\arctan\\left(2387.67154399559 \\, \\pi - 5.6924348668883825 \\times 10^{-06}, -6.238485647791859 \\times 10^{-07}\\right)\\right)}{-2.44311581593318 \\times 10^{19} \\, \\pi + 5.76797789058196 \\times 10^{12} \\, \\pi^{2} {\\left| 2.14593216528857 \\times 10^{24}i \\, \\pi + 8.88314980327947 \\times 10^{14} \\right|} \\cos\\left(\\frac{1}{2} \\, \\arctan\\left(2.41573339728700 \\times 10^{9} \\, \\pi\\right)\\right)^{2} + 5.76797789058196 \\times 10^{12} \\, \\pi^{2} {\\left| 2.14593216528857 \\times 10^{24}i \\, \\pi + 8.88314980327947 \\times 10^{14} \\right|} \\sin\\left(\\frac{1}{2} \\, \\arctan\\left(2.41573339728700 \\times 10^{9} \\, \\pi\\right)\\right)^{2} + 3.43824702335364 \\times 10^{20} \\, \\pi^{2} \\sqrt{{\\left| 2.14593216528857 \\times 10^{24}i \\, \\pi + 8.88314980327947 \\times 10^{14} \\right|}} \\cos\\left(\\frac{1}{2} \\, \\arctan\\left(2.41573339728700 \\times 10^{9} \\, \\pi\\right)\\right) - 8.19710620831927 \\times 10^{11} \\, \\pi \\sqrt{{\\left| 2.14593216528857 \\times 10^{24}i \\, \\pi + 8.88314980327947 \\times 10^{14} \\right|}} \\cos\\left(\\frac{1}{2} \\, \\arctan\\left(2.41573339728700 \\times 10^{9} \\, \\pi\\right)\\right) + 8.98341933282028 \\times 10^{10} \\, \\pi \\sqrt{{\\left| 2.14593216528857 \\times 10^{24}i \\, \\pi + 8.88314980327947 \\times 10^{14} \\right|}} \\sin\\left(\\frac{1}{2} \\, \\arctan\\left(2.41573339728700 \\times 10^{9} \\, \\pi\\right)\\right) + 5.12378116640435 \\times 10^{27} \\, \\pi^{2} + 29472880145.13282} - \\frac{1.00578783126190 \\times 10^{31} \\, \\pi^{2} \\mathit{B1}_{\\mathit{zr}_{\\mathit{im}}} \\sqrt{{\\left| 2387.67154399559i \\, \\pi - 6.238485647791859 \\times 10^{-07} - 5.6924348668883825 \\times 10^{-06}i \\right|}} \\cos\\left(\\frac{1}{2} \\, \\arctan\\left(2387.67154399559 \\, \\pi - 5.6924348668883825 \\times 10^{-06}, -6.238485647791859 \\times 10^{-07}\\right)\\right)}{-2.44311581593318 \\times 10^{19} \\, \\pi + 5.76797789058196 \\times 10^{12} \\, \\pi^{2} {\\left| 2.14593216528857 \\times 10^{24}i \\, \\pi + 8.88314980327947 \\times 10^{14} \\right|} \\cos\\left(\\frac{1}{2} \\, \\arctan\\left(2.41573339728700 \\times 10^{9} \\, \\pi\\right)\\right)^{2} + 5.76797789058196 \\times 10^{12} \\, \\pi^{2} {\\left| 2.14593216528857 \\times 10^{24}i \\, \\pi + 8.88314980327947 \\times 10^{14} \\right|} \\sin\\left(\\frac{1}{2} \\, \\arctan\\left(2.41573339728700 \\times 10^{9} \\, \\pi\\right)\\right)^{2} + 3.43824702335364 \\times 10^{20} \\, \\pi^{2} \\sqrt{{\\left| 2.14593216528857 \\times 10^{24}i \\, \\pi + 8.88314980327947 \\times 10^{14} \\right|}} \\cos\\left(\\frac{1}{2} \\, \\arctan\\left(2.41573339728700 \\times 10^{9} \\, \\pi\\right)\\right) - 8.19710620831927 \\times 10^{11} \\, \\pi \\sqrt{{\\left| 2.14593216528857 \\times 10^{24}i \\, \\pi + 8.88314980327947 \\times 10^{14} \\right|}} \\cos\\left(\\frac{1}{2} \\, \\arctan\\left(2.41573339728700 \\times 10^{9} \\, \\pi\\right)\\right) + 8.98341933282028 \\times 10^{10} \\, \\pi \\sqrt{{\\left| 2.14593216528857 \\times 10^{24}i \\, \\pi + 8.88314980327947 \\times 10^{14} \\right|}} \\sin\\left(\\frac{1}{2} \\, \\arctan\\left(2.41573339728700 \\times 10^{9} \\, \\pi\\right)\\right) + 5.12378116640435 \\times 10^{27} \\, \\pi^{2} + 29472880145.13282} - \\frac{7.60486805205255 \\times 10^{30} \\, \\pi^{2} \\mathit{B1}_{\\mathit{zr}_{\\mathit{re}}} \\sqrt{{\\left| 2387.67154399559i \\, \\pi - 6.238485647791859 \\times 10^{-07} - 5.6924348668883825 \\times 10^{-06}i \\right|}} \\cos\\left(\\frac{1}{2} \\, \\arctan\\left(2387.67154399559 \\, \\pi - 5.6924348668883825 \\times 10^{-06}, -6.238485647791859 \\times 10^{-07}\\right)\\right)}{-2.44311581593318 \\times 10^{19} \\, \\pi + 5.76797789058196 \\times 10^{12} \\, \\pi^{2} {\\left| 2.14593216528857 \\times 10^{24}i \\, \\pi + 8.88314980327947 \\times 10^{14} \\right|} \\cos\\left(\\frac{1}{2} \\, \\arctan\\left(2.41573339728700 \\times 10^{9} \\, \\pi\\right)\\right)^{2} + 5.76797789058196 \\times 10^{12} \\, \\pi^{2} {\\left| 2.14593216528857 \\times 10^{24}i \\, \\pi + 8.88314980327947 \\times 10^{14} \\right|} \\sin\\left(\\frac{1}{2} \\, \\arctan\\left(2.41573339728700 \\times 10^{9} \\, \\pi\\right)\\right)^{2} + 3.43824702335364 \\times 10^{20} \\, \\pi^{2} \\sqrt{{\\left| 2.14593216528857 \\times 10^{24}i \\, \\pi + 8.88314980327947 \\times 10^{14} \\right|}} \\cos\\left(\\frac{1}{2} \\, \\arctan\\left(2.41573339728700 \\times 10^{9} \\, \\pi\\right)\\right) - 8.19710620831927 \\times 10^{11} \\, \\pi \\sqrt{{\\left| 2.14593216528857 \\times 10^{24}i \\, \\pi + 8.88314980327947 \\times 10^{14} \\right|}} \\cos\\left(\\frac{1}{2} \\, \\arctan\\left(2.41573339728700 \\times 10^{9} \\, \\pi\\right)\\right) + 8.98341933282028 \\times 10^{10} \\, \\pi \\sqrt{{\\left| 2.14593216528857 \\times 10^{24}i \\, \\pi + 8.88314980327947 \\times 10^{14} \\right|}} \\sin\\left(\\frac{1}{2} \\, \\arctan\\left(2.41573339728700 \\times 10^{9} \\, \\pi\\right)\\right) + 5.12378116640435 \\times 10^{27} \\, \\pi^{2} + 29472880145.13282} + \\frac{7.60486805205255 \\times 10^{30} \\, \\pi^{2} \\mathit{B1}_{\\mathit{zr}_{\\mathit{im}}} \\sqrt{{\\left| 2387.67154399559i \\, \\pi - 6.238485647791859 \\times 10^{-07} - 5.6924348668883825 \\times 10^{-06}i \\right|}} \\sin\\left(\\frac{1}{2} \\, \\arctan\\left(2387.67154399559 \\, \\pi - 5.6924348668883825 \\times 10^{-06}, -6.238485647791859 \\times 10^{-07}\\right)\\right)}{-2.44311581593318 \\times 10^{19} \\, \\pi + 5.76797789058196 \\times 10^{12} \\, \\pi^{2} {\\left| 2.14593216528857 \\times 10^{24}i \\, \\pi + 8.88314980327947 \\times 10^{14} \\right|} \\cos\\left(\\frac{1}{2} \\, \\arctan\\left(2.41573339728700 \\times 10^{9} \\, \\pi\\right)\\right)^{2} + 5.76797789058196 \\times 10^{12} \\, \\pi^{2} {\\left| 2.14593216528857 \\times 10^{24}i \\, \\pi + 8.88314980327947 \\times 10^{14} \\right|} \\sin\\left(\\frac{1}{2} \\, \\arctan\\left(2.41573339728700 \\times 10^{9} \\, \\pi\\right)\\right)^{2} + 3.43824702335364 \\times 10^{20} \\, \\pi^{2} \\sqrt{{\\left| 2.14593216528857 \\times 10^{24}i \\, \\pi + 8.88314980327947 \\times 10^{14} \\right|}} \\cos\\left(\\frac{1}{2} \\, \\arctan\\left(2.41573339728700 \\times 10^{9} \\, \\pi\\right)\\right) - 8.19710620831927 \\times 10^{11} \\, \\pi \\sqrt{{\\left| 2.14593216528857 \\times 10^{24}i \\, \\pi + 8.88314980327947 \\times 10^{14} \\right|}} \\cos\\left(\\frac{1}{2} \\, \\arctan\\left(2.41573339728700 \\times 10^{9} \\, \\pi\\right)\\right) + 8.98341933282028 \\times 10^{10} \\, \\pi \\sqrt{{\\left| 2.14593216528857 \\times 10^{24}i \\, \\pi + 8.88314980327947 \\times 10^{14} \\right|}} \\sin\\left(\\frac{1}{2} \\, \\arctan\\left(2.41573339728700 \\times 10^{9} \\, \\pi\\right)\\right) + 5.12378116640435 \\times 10^{27} \\, \\pi^{2} + 29472880145.13282} - \\frac{1.00578783126190 \\times 10^{31} \\, \\pi^{2} \\mathit{B1}_{\\mathit{zr}_{\\mathit{re}}} \\sqrt{{\\left| 2387.67154399559i \\, \\pi - 6.238485647791859 \\times 10^{-07} - 5.6924348668883825 \\times 10^{-06}i \\right|}} \\sin\\left(\\frac{1}{2} \\, \\arctan\\left(2387.67154399559 \\, \\pi - 5.6924348668883825 \\times 10^{-06}, -6.238485647791859 \\times 10^{-07}\\right)\\right)}{-2.44311581593318 \\times 10^{19} \\, \\pi + 5.76797789058196 \\times 10^{12} \\, \\pi^{2} {\\left| 2.14593216528857 \\times 10^{24}i \\, \\pi + 8.88314980327947 \\times 10^{14} \\right|} \\cos\\left(\\frac{1}{2} \\, \\arctan\\left(2.41573339728700 \\times 10^{9} \\, \\pi\\right)\\right)^{2} + 5.76797789058196 \\times 10^{12} \\, \\pi^{2} {\\left| 2.14593216528857 \\times 10^{24}i \\, \\pi + 8.88314980327947 \\times 10^{14} \\right|} \\sin\\left(\\frac{1}{2} \\, \\arctan\\left(2.41573339728700 \\times 10^{9} \\, \\pi\\right)\\right)^{2} + 3.43824702335364 \\times 10^{20} \\, \\pi^{2} \\sqrt{{\\left| 2.14593216528857 \\times 10^{24}i \\, \\pi + 8.88314980327947 \\times 10^{14} \\right|}} \\cos\\left(\\frac{1}{2} \\, \\arctan\\left(2.41573339728700 \\times 10^{9} \\, \\pi\\right)\\right) - 8.19710620831927 \\times 10^{11} \\, \\pi \\sqrt{{\\left| 2.14593216528857 \\times 10^{24}i \\, \\pi + 8.88314980327947 \\times 10^{14} \\right|}} \\cos\\left(\\frac{1}{2} \\, \\arctan\\left(2.41573339728700 \\times 10^{9} \\, \\pi\\right)\\right) + 8.98341933282028 \\times 10^{10} \\, \\pi \\sqrt{{\\left| 2.14593216528857 \\times 10^{24}i \\, \\pi + 8.88314980327947 \\times 10^{14} \\right|}} \\sin\\left(\\frac{1}{2} \\, \\arctan\\left(2.41573339728700 \\times 10^{9} \\, \\pi\\right)\\right) + 5.12378116640435 \\times 10^{27} \\, \\pi^{2} + 29472880145.13282} + \\frac{1.88438830992777 \\times 10^{22} \\, \\pi \\mathit{B1}_{\\mathit{zr}_{\\mathit{im}}} \\sqrt{{\\left| 2387.67154399559i \\, \\pi - 6.238485647791859 \\times 10^{-07} - 5.6924348668883825 \\times 10^{-06}i \\right|}} \\cos\\left(\\frac{1}{2} \\, \\arctan\\left(2387.67154399559 \\, \\pi - 5.6924348668883825 \\times 10^{-06}, -6.238485647791859 \\times 10^{-07}\\right)\\right)}{-2.44311581593318 \\times 10^{19} \\, \\pi + 5.76797789058196 \\times 10^{12} \\, \\pi^{2} {\\left| 2.14593216528857 \\times 10^{24}i \\, \\pi + 8.88314980327947 \\times 10^{14} \\right|} \\cos\\left(\\frac{1}{2} \\, \\arctan\\left(2.41573339728700 \\times 10^{9} \\, \\pi\\right)\\right)^{2} + 5.76797789058196 \\times 10^{12} \\, \\pi^{2} {\\left| 2.14593216528857 \\times 10^{24}i \\, \\pi + 8.88314980327947 \\times 10^{14} \\right|} \\sin\\left(\\frac{1}{2} \\, \\arctan\\left(2.41573339728700 \\times 10^{9} \\, \\pi\\right)\\right)^{2} + 3.43824702335364 \\times 10^{20} \\, \\pi^{2} \\sqrt{{\\left| 2.14593216528857 \\times 10^{24}i \\, \\pi + 8.88314980327947 \\times 10^{14} \\right|}} \\cos\\left(\\frac{1}{2} \\, \\arctan\\left(2.41573339728700 \\times 10^{9} \\, \\pi\\right)\\right) - 8.19710620831927 \\times 10^{11} \\, \\pi \\sqrt{{\\left| 2.14593216528857 \\times 10^{24}i \\, \\pi + 8.88314980327947 \\times 10^{14} \\right|}} \\cos\\left(\\frac{1}{2} \\, \\arctan\\left(2.41573339728700 \\times 10^{9} \\, \\pi\\right)\\right) + 8.98341933282028 \\times 10^{10} \\, \\pi \\sqrt{{\\left| 2.14593216528857 \\times 10^{24}i \\, \\pi + 8.88314980327947 \\times 10^{14} \\right|}} \\sin\\left(\\frac{1}{2} \\, \\arctan\\left(2.41573339728700 \\times 10^{9} \\, \\pi\\right)\\right) + 5.12378116640435 \\times 10^{27} \\, \\pi^{2} + 29472880145.13282} + \\frac{2.492212643960327 \\times 10^{22} \\, \\pi \\mathit{B1}_{\\mathit{zr}_{\\mathit{re}}} \\sqrt{{\\left| 2387.67154399559i \\, \\pi - 6.238485647791859 \\times 10^{-07} - 5.6924348668883825 \\times 10^{-06}i \\right|}} \\cos\\left(\\frac{1}{2} \\, \\arctan\\left(2387.67154399559 \\, \\pi - 5.6924348668883825 \\times 10^{-06}, -6.238485647791859 \\times 10^{-07}\\right)\\right)}{-2.44311581593318 \\times 10^{19} \\, \\pi + 5.76797789058196 \\times 10^{12} \\, \\pi^{2} {\\left| 2.14593216528857 \\times 10^{24}i \\, \\pi + 8.88314980327947 \\times 10^{14} \\right|} \\cos\\left(\\frac{1}{2} \\, \\arctan\\left(2.41573339728700 \\times 10^{9} \\, \\pi\\right)\\right)^{2} + 5.76797789058196 \\times 10^{12} \\, \\pi^{2} {\\left| 2.14593216528857 \\times 10^{24}i \\, \\pi + 8.88314980327947 \\times 10^{14} \\right|} \\sin\\left(\\frac{1}{2} \\, \\arctan\\left(2.41573339728700 \\times 10^{9} \\, \\pi\\right)\\right)^{2} + 3.43824702335364 \\times 10^{20} \\, \\pi^{2} \\sqrt{{\\left| 2.14593216528857 \\times 10^{24}i \\, \\pi + 8.88314980327947 \\times 10^{14} \\right|}} \\cos\\left(\\frac{1}{2} \\, \\arctan\\left(2.41573339728700 \\times 10^{9} \\, \\pi\\right)\\right) - 8.19710620831927 \\times 10^{11} \\, \\pi \\sqrt{{\\left| 2.14593216528857 \\times 10^{24}i \\, \\pi + 8.88314980327947 \\times 10^{14} \\right|}} \\cos\\left(\\frac{1}{2} \\, \\arctan\\left(2.41573339728700 \\times 10^{9} \\, \\pi\\right)\\right) + 8.98341933282028 \\times 10^{10} \\, \\pi \\sqrt{{\\left| 2.14593216528857 \\times 10^{24}i \\, \\pi + 8.88314980327947 \\times 10^{14} \\right|}} \\sin\\left(\\frac{1}{2} \\, \\arctan\\left(2.41573339728700 \\times 10^{9} \\, \\pi\\right)\\right) + 5.12378116640435 \\times 10^{27} \\, \\pi^{2} + 29472880145.13282} - \\frac{2.49221264396033 \\times 10^{22} \\, \\pi \\mathit{B1}_{\\mathit{zr}_{\\mathit{im}}} \\sqrt{{\\left| 2387.67154399559i \\, \\pi - 6.238485647791859 \\times 10^{-07} - 5.6924348668883825 \\times 10^{-06}i \\right|}} \\sin\\left(\\frac{1}{2} \\, \\arctan\\left(2387.67154399559 \\, \\pi - 5.6924348668883825 \\times 10^{-06}, -6.238485647791859 \\times 10^{-07}\\right)\\right)}{-2.44311581593318 \\times 10^{19} \\, \\pi + 5.76797789058196 \\times 10^{12} \\, \\pi^{2} {\\left| 2.14593216528857 \\times 10^{24}i \\, \\pi + 8.88314980327947 \\times 10^{14} \\right|} \\cos\\left(\\frac{1}{2} \\, \\arctan\\left(2.41573339728700 \\times 10^{9} \\, \\pi\\right)\\right)^{2} + 5.76797789058196 \\times 10^{12} \\, \\pi^{2} {\\left| 2.14593216528857 \\times 10^{24}i \\, \\pi + 8.88314980327947 \\times 10^{14} \\right|} \\sin\\left(\\frac{1}{2} \\, \\arctan\\left(2.41573339728700 \\times 10^{9} \\, \\pi\\right)\\right)^{2} + 3.43824702335364 \\times 10^{20} \\, \\pi^{2} \\sqrt{{\\left| 2.14593216528857 \\times 10^{24}i \\, \\pi + 8.88314980327947 \\times 10^{14} \\right|}} \\cos\\left(\\frac{1}{2} \\, \\arctan\\left(2.41573339728700 \\times 10^{9} \\, \\pi\\right)\\right) - 8.19710620831927 \\times 10^{11} \\, \\pi \\sqrt{{\\left| 2.14593216528857 \\times 10^{24}i \\, \\pi + 8.88314980327947 \\times 10^{14} \\right|}} \\cos\\left(\\frac{1}{2} \\, \\arctan\\left(2.41573339728700 \\times 10^{9} \\, \\pi\\right)\\right) + 8.98341933282028 \\times 10^{10} \\, \\pi \\sqrt{{\\left| 2.14593216528857 \\times 10^{24}i \\, \\pi + 8.88314980327947 \\times 10^{14} \\right|}} \\sin\\left(\\frac{1}{2} \\, \\arctan\\left(2.41573339728700 \\times 10^{9} \\, \\pi\\right)\\right) + 5.12378116640435 \\times 10^{27} \\, \\pi^{2} + 29472880145.13282} + \\frac{1.88438830992777 \\times 10^{22} \\, \\pi \\mathit{B1}_{\\mathit{zr}_{\\mathit{re}}} \\sqrt{{\\left| 2387.67154399559i \\, \\pi - 6.238485647791859 \\times 10^{-07} - 5.6924348668883825 \\times 10^{-06}i \\right|}} \\sin\\left(\\frac{1}{2} \\, \\arctan\\left(2387.67154399559 \\, \\pi - 5.6924348668883825 \\times 10^{-06}, -6.238485647791859 \\times 10^{-07}\\right)\\right)}{-2.44311581593318 \\times 10^{19} \\, \\pi + 5.76797789058196 \\times 10^{12} \\, \\pi^{2} {\\left| 2.14593216528857 \\times 10^{24}i \\, \\pi + 8.88314980327947 \\times 10^{14} \\right|} \\cos\\left(\\frac{1}{2} \\, \\arctan\\left(2.41573339728700 \\times 10^{9} \\, \\pi\\right)\\right)^{2} + 5.76797789058196 \\times 10^{12} \\, \\pi^{2} {\\left| 2.14593216528857 \\times 10^{24}i \\, \\pi + 8.88314980327947 \\times 10^{14} \\right|} \\sin\\left(\\frac{1}{2} \\, \\arctan\\left(2.41573339728700 \\times 10^{9} \\, \\pi\\right)\\right)^{2} + 3.43824702335364 \\times 10^{20} \\, \\pi^{2} \\sqrt{{\\left| 2.14593216528857 \\times 10^{24}i \\, \\pi + 8.88314980327947 \\times 10^{14} \\right|}} \\cos\\left(\\frac{1}{2} \\, \\arctan\\left(2.41573339728700 \\times 10^{9} \\, \\pi\\right)\\right) - 8.19710620831927 \\times 10^{11} \\, \\pi \\sqrt{{\\left| 2.14593216528857 \\times 10^{24}i \\, \\pi + 8.88314980327947 \\times 10^{14} \\right|}} \\cos\\left(\\frac{1}{2} \\, \\arctan\\left(2.41573339728700 \\times 10^{9} \\, \\pi\\right)\\right) + 8.98341933282028 \\times 10^{10} \\, \\pi \\sqrt{{\\left| 2.14593216528857 \\times 10^{24}i \\, \\pi + 8.88314980327947 \\times 10^{14} \\right|}} \\sin\\left(\\frac{1}{2} \\, \\arctan\\left(2.41573339728700 \\times 10^{9} \\, \\pi\\right)\\right) + 5.12378116640435 \\times 10^{27} \\, \\pi^{2} + 29472880145.13282} + \\frac{8593099687252.745 \\, \\mathit{B1}_{\\mathit{zr}_{\\mathit{im}}} \\sqrt{{\\left| 2387.67154399559i \\, \\pi - 6.238485647791859 \\times 10^{-07} - 5.6924348668883825 \\times 10^{-06}i \\right|}} \\cos\\left(\\frac{1}{2} \\, \\arctan\\left(2387.67154399559 \\, \\pi - 5.6924348668883825 \\times 10^{-06}, -6.238485647791859 \\times 10^{-07}\\right)\\right)}{-2.44311581593318 \\times 10^{19} \\, \\pi + 5.76797789058196 \\times 10^{12} \\, \\pi^{2} {\\left| 2.14593216528857 \\times 10^{24}i \\, \\pi + 8.88314980327947 \\times 10^{14} \\right|} \\cos\\left(\\frac{1}{2} \\, \\arctan\\left(2.41573339728700 \\times 10^{9} \\, \\pi\\right)\\right)^{2} + 5.76797789058196 \\times 10^{12} \\, \\pi^{2} {\\left| 2.14593216528857 \\times 10^{24}i \\, \\pi + 8.88314980327947 \\times 10^{14} \\right|} \\sin\\left(\\frac{1}{2} \\, \\arctan\\left(2.41573339728700 \\times 10^{9} \\, \\pi\\right)\\right)^{2} + 3.43824702335364 \\times 10^{20} \\, \\pi^{2} \\sqrt{{\\left| 2.14593216528857 \\times 10^{24}i \\, \\pi + 8.88314980327947 \\times 10^{14} \\right|}} \\cos\\left(\\frac{1}{2} \\, \\arctan\\left(2.41573339728700 \\times 10^{9} \\, \\pi\\right)\\right) - 8.19710620831927 \\times 10^{11} \\, \\pi \\sqrt{{\\left| 2.14593216528857 \\times 10^{24}i \\, \\pi + 8.88314980327947 \\times 10^{14} \\right|}} \\cos\\left(\\frac{1}{2} \\, \\arctan\\left(2.41573339728700 \\times 10^{9} \\, \\pi\\right)\\right) + 8.98341933282028 \\times 10^{10} \\, \\pi \\sqrt{{\\left| 2.14593216528857 \\times 10^{24}i \\, \\pi + 8.88314980327947 \\times 10^{14} \\right|}} \\sin\\left(\\frac{1}{2} \\, \\arctan\\left(2.41573339728700 \\times 10^{9} \\, \\pi\\right)\\right) + 5.12378116640435 \\times 10^{27} \\, \\pi^{2} + 29472880145.13282} - \\frac{9103629065534.969 \\, \\mathit{B1}_{\\mathit{zr}_{\\mathit{re}}} \\sqrt{{\\left| 2387.67154399559i \\, \\pi - 6.238485647791859 \\times 10^{-07} - 5.6924348668883825 \\times 10^{-06}i \\right|}} \\cos\\left(\\frac{1}{2} \\, \\arctan\\left(2387.67154399559 \\, \\pi - 5.6924348668883825 \\times 10^{-06}, -6.238485647791859 \\times 10^{-07}\\right)\\right)}{-2.44311581593318 \\times 10^{19} \\, \\pi + 5.76797789058196 \\times 10^{12} \\, \\pi^{2} {\\left| 2.14593216528857 \\times 10^{24}i \\, \\pi + 8.88314980327947 \\times 10^{14} \\right|} \\cos\\left(\\frac{1}{2} \\, \\arctan\\left(2.41573339728700 \\times 10^{9} \\, \\pi\\right)\\right)^{2} + 5.76797789058196 \\times 10^{12} \\, \\pi^{2} {\\left| 2.14593216528857 \\times 10^{24}i \\, \\pi + 8.88314980327947 \\times 10^{14} \\right|} \\sin\\left(\\frac{1}{2} \\, \\arctan\\left(2.41573339728700 \\times 10^{9} \\, \\pi\\right)\\right)^{2} + 3.43824702335364 \\times 10^{20} \\, \\pi^{2} \\sqrt{{\\left| 2.14593216528857 \\times 10^{24}i \\, \\pi + 8.88314980327947 \\times 10^{14} \\right|}} \\cos\\left(\\frac{1}{2} \\, \\arctan\\left(2.41573339728700 \\times 10^{9} \\, \\pi\\right)\\right) - 8.19710620831927 \\times 10^{11} \\, \\pi \\sqrt{{\\left| 2.14593216528857 \\times 10^{24}i \\, \\pi + 8.88314980327947 \\times 10^{14} \\right|}} \\cos\\left(\\frac{1}{2} \\, \\arctan\\left(2.41573339728700 \\times 10^{9} \\, \\pi\\right)\\right) + 8.98341933282028 \\times 10^{10} \\, \\pi \\sqrt{{\\left| 2.14593216528857 \\times 10^{24}i \\, \\pi + 8.88314980327947 \\times 10^{14} \\right|}} \\sin\\left(\\frac{1}{2} \\, \\arctan\\left(2.41573339728700 \\times 10^{9} \\, \\pi\\right)\\right) + 5.12378116640435 \\times 10^{27} \\, \\pi^{2} + 29472880145.13282} + \\frac{9103629065534.969 \\, \\mathit{B1}_{\\mathit{zr}_{\\mathit{im}}} \\sqrt{{\\left| 2387.67154399559i \\, \\pi - 6.238485647791859 \\times 10^{-07} - 5.6924348668883825 \\times 10^{-06}i \\right|}} \\sin\\left(\\frac{1}{2} \\, \\arctan\\left(2387.67154399559 \\, \\pi - 5.6924348668883825 \\times 10^{-06}, -6.238485647791859 \\times 10^{-07}\\right)\\right)}{-2.44311581593318 \\times 10^{19} \\, \\pi + 5.76797789058196 \\times 10^{12} \\, \\pi^{2} {\\left| 2.14593216528857 \\times 10^{24}i \\, \\pi + 8.88314980327947 \\times 10^{14} \\right|} \\cos\\left(\\frac{1}{2} \\, \\arctan\\left(2.41573339728700 \\times 10^{9} \\, \\pi\\right)\\right)^{2} + 5.76797789058196 \\times 10^{12} \\, \\pi^{2} {\\left| 2.14593216528857 \\times 10^{24}i \\, \\pi + 8.88314980327947 \\times 10^{14} \\right|} \\sin\\left(\\frac{1}{2} \\, \\arctan\\left(2.41573339728700 \\times 10^{9} \\, \\pi\\right)\\right)^{2} + 3.43824702335364 \\times 10^{20} \\, \\pi^{2} \\sqrt{{\\left| 2.14593216528857 \\times 10^{24}i \\, \\pi + 8.88314980327947 \\times 10^{14} \\right|}} \\cos\\left(\\frac{1}{2} \\, \\arctan\\left(2.41573339728700 \\times 10^{9} \\, \\pi\\right)\\right) - 8.19710620831927 \\times 10^{11} \\, \\pi \\sqrt{{\\left| 2.14593216528857 \\times 10^{24}i \\, \\pi + 8.88314980327947 \\times 10^{14} \\right|}} \\cos\\left(\\frac{1}{2} \\, \\arctan\\left(2.41573339728700 \\times 10^{9} \\, \\pi\\right)\\right) + 8.98341933282028 \\times 10^{10} \\, \\pi \\sqrt{{\\left| 2.14593216528857 \\times 10^{24}i \\, \\pi + 8.88314980327947 \\times 10^{14} \\right|}} \\sin\\left(\\frac{1}{2} \\, \\arctan\\left(2.41573339728700 \\times 10^{9} \\, \\pi\\right)\\right) + 5.12378116640435 \\times 10^{27} \\, \\pi^{2} + 29472880145.13282} + \\frac{8593099687252.745 \\, \\mathit{B1}_{\\mathit{zr}_{\\mathit{re}}} \\sqrt{{\\left| 2387.67154399559i \\, \\pi - 6.238485647791859 \\times 10^{-07} - 5.6924348668883825 \\times 10^{-06}i \\right|}} \\sin\\left(\\frac{1}{2} \\, \\arctan\\left(2387.67154399559 \\, \\pi - 5.6924348668883825 \\times 10^{-06}, -6.238485647791859 \\times 10^{-07}\\right)\\right)}{-2.44311581593318 \\times 10^{19} \\, \\pi + 5.76797789058196 \\times 10^{12} \\, \\pi^{2} {\\left| 2.14593216528857 \\times 10^{24}i \\, \\pi + 8.88314980327947 \\times 10^{14} \\right|} \\cos\\left(\\frac{1}{2} \\, \\arctan\\left(2.41573339728700 \\times 10^{9} \\, \\pi\\right)\\right)^{2} + 5.76797789058196 \\times 10^{12} \\, \\pi^{2} {\\left| 2.14593216528857 \\times 10^{24}i \\, \\pi + 8.88314980327947 \\times 10^{14} \\right|} \\sin\\left(\\frac{1}{2} \\, \\arctan\\left(2.41573339728700 \\times 10^{9} \\, \\pi\\right)\\right)^{2} + 3.43824702335364 \\times 10^{20} \\, \\pi^{2} \\sqrt{{\\left| 2.14593216528857 \\times 10^{24}i \\, \\pi + 8.88314980327947 \\times 10^{14} \\right|}} \\cos\\left(\\frac{1}{2} \\, \\arctan\\left(2.41573339728700 \\times 10^{9} \\, \\pi\\right)\\right) - 8.19710620831927 \\times 10^{11} \\, \\pi \\sqrt{{\\left| 2.14593216528857 \\times 10^{24}i \\, \\pi + 8.88314980327947 \\times 10^{14} \\right|}} \\cos\\left(\\frac{1}{2} \\, \\arctan\\left(2.41573339728700 \\times 10^{9} \\, \\pi\\right)\\right) + 8.98341933282028 \\times 10^{10} \\, \\pi \\sqrt{{\\left| 2.14593216528857 \\times 10^{24}i \\, \\pi + 8.88314980327947 \\times 10^{14} \\right|}} \\sin\\left(\\frac{1}{2} \\, \\arctan\\left(2.41573339728700 \\times 10^{9} \\, \\pi\\right)\\right) + 5.12378116640435 \\times 10^{27} \\, \\pi^{2} + 29472880145.13282} - 0.08615644016021828 \\, \\mathit{A1}_{z_{\\mathit{im}}} - 1.0109649336612163 \\, \\mathit{A1}_{z_{\\mathit{re}}} + 0.08322245930178149 \\, \\mathit{A2}_{z_{\\mathit{im}}} + 1.0148452855683712 \\, \\mathit{A2}_{z_{\\mathit{re}}} = 0$"
      ],
      "text/plain": [
       "<IPython.core.display.Math object>"
      ]
     },
     "metadata": {},
     "output_type": "display_data"
    },
    {
     "name": "stdout",
     "output_type": "stream",
     "text": [
      "2 real\n"
     ]
    },
    {
     "data": {
      "text/latex": [
       "$\\displaystyle 0.0016001377872613845 \\, \\mathit{A1}_{z_{\\mathit{im}}} - 1.0017822149088969 \\, \\mathit{A1}_{z_{\\mathit{re}}} - 0.001594445351802627 \\, \\mathit{A2}_{z_{\\mathit{im}}} - 0.998218408937 \\, \\mathit{A2}_{z_{\\mathit{re}}} + \\mathit{B1}_{\\mathit{zl}_{\\mathit{re}}} = 0$"
      ],
      "text/plain": [
       "<IPython.core.display.Math object>"
      ]
     },
     "metadata": {},
     "output_type": "display_data"
    },
    {
     "name": "stdout",
     "output_type": "stream",
     "text": [
      "2 imag\n"
     ]
    },
    {
     "data": {
      "text/latex": [
       "$\\displaystyle -1.0017822149088969 \\, \\mathit{A1}_{z_{\\mathit{im}}} - 0.0016001377872613845 \\, \\mathit{A1}_{z_{\\mathit{re}}} - 0.998218408937 \\, \\mathit{A2}_{z_{\\mathit{im}}} + 0.001594445351802627 \\, \\mathit{A2}_{z_{\\mathit{re}}} + \\mathit{B1}_{\\mathit{zl}_{\\mathit{im}}} = 0$"
      ],
      "text/plain": [
       "<IPython.core.display.Math object>"
      ]
     },
     "metadata": {},
     "output_type": "display_data"
    },
    {
     "name": "stdout",
     "output_type": "stream",
     "text": [
      "3 real\n"
     ]
    },
    {
     "data": {
      "text/latex": [
       "$\\displaystyle -0.001594445351802627 \\, \\mathit{A1}_{z_{\\mathit{im}}} - 0.998218408937 \\, \\mathit{A1}_{z_{\\mathit{re}}} + 0.0016001377872613845 \\, \\mathit{A2}_{z_{\\mathit{im}}} - 1.0017822149088969 \\, \\mathit{A2}_{z_{\\mathit{re}}} + \\mathit{B1}_{\\mathit{zr}_{\\mathit{re}}} = 0$"
      ],
      "text/plain": [
       "<IPython.core.display.Math object>"
      ]
     },
     "metadata": {},
     "output_type": "display_data"
    },
    {
     "name": "stdout",
     "output_type": "stream",
     "text": [
      "3 imag\n"
     ]
    },
    {
     "data": {
      "text/latex": [
       "$\\displaystyle -0.998218408937 \\, \\mathit{A1}_{z_{\\mathit{im}}} + 0.001594445351802627 \\, \\mathit{A1}_{z_{\\mathit{re}}} - 1.0017822149088969 \\, \\mathit{A2}_{z_{\\mathit{im}}} - 0.0016001377872613845 \\, \\mathit{A2}_{z_{\\mathit{re}}} + \\mathit{B1}_{\\mathit{zr}_{\\mathit{im}}} = 0$"
      ],
      "text/plain": [
       "<IPython.core.display.Math object>"
      ]
     },
     "metadata": {},
     "output_type": "display_data"
    },
    {
     "name": "stdout",
     "output_type": "stream",
     "text": [
      "4 real\n"
     ]
    },
    {
     "data": {
      "text/latex": [
       "$\\displaystyle 1005.85924034078 \\, \\mathit{B1}_{\\mathit{zl}_{\\mathit{re}}} \\sqrt{{\\left| 74614.7357498621i \\, \\pi - 6.238485647791859 \\times 10^{-07} - 5.6924348668883825 \\times 10^{-06}i \\right|}} \\cos\\left(\\frac{1}{2} \\, \\arctan\\left(74614.7357498621 \\, \\pi - 5.6924348668883825 \\times 10^{-06}, -6.238485647791859 \\times 10^{-07}\\right)\\right) - 1005.85924034078 \\, \\mathit{B1}_{\\mathit{zl}_{\\mathit{im}}} \\sqrt{{\\left| 74614.7357498621i \\, \\pi - 6.238485647791859 \\times 10^{-07} - 5.6924348668883825 \\times 10^{-06}i \\right|}} \\sin\\left(\\frac{1}{2} \\, \\arctan\\left(74614.7357498621 \\, \\pi - 5.6924348668883825 \\times 10^{-06}, -6.238485647791859 \\times 10^{-07}\\right)\\right) + 1.48133642244018 \\, \\mathit{A1}_{x_{\\mathit{im}}} - 1.95266204309802 \\, \\mathit{A1}_{x_{\\mathit{re}}} - 1.79296840641759 \\, \\mathit{A1}_{z_{\\mathit{im}}} - 1.61238000916986 \\, \\mathit{A1}_{z_{\\mathit{re}}} + 1.46984335472214 \\, \\mathit{A2}_{x_{\\mathit{im}}} - 1.95042099035180 \\, \\mathit{A2}_{x_{\\mathit{re}}} + 1.7917134094647458 \\, \\mathit{A2}_{z_{\\mathit{im}}} + 1.600928430366718 \\, \\mathit{A2}_{z_{\\mathit{re}}} = 0$"
      ],
      "text/plain": [
       "<IPython.core.display.Math object>"
      ]
     },
     "metadata": {},
     "output_type": "display_data"
    },
    {
     "name": "stdout",
     "output_type": "stream",
     "text": [
      "4 imag\n"
     ]
    },
    {
     "data": {
      "text/latex": [
       "$\\displaystyle 1005.85924034078 \\, \\mathit{B1}_{\\mathit{zl}_{\\mathit{im}}} \\sqrt{{\\left| 74614.7357498621i \\, \\pi - 6.238485647791859 \\times 10^{-07} - 5.6924348668883825 \\times 10^{-06}i \\right|}} \\cos\\left(\\frac{1}{2} \\, \\arctan\\left(74614.7357498621 \\, \\pi - 5.6924348668883825 \\times 10^{-06}, -6.238485647791859 \\times 10^{-07}\\right)\\right) + 1005.85924034078 \\, \\mathit{B1}_{\\mathit{zl}_{\\mathit{re}}} \\sqrt{{\\left| 74614.7357498621i \\, \\pi - 6.238485647791859 \\times 10^{-07} - 5.6924348668883825 \\times 10^{-06}i \\right|}} \\sin\\left(\\frac{1}{2} \\, \\arctan\\left(74614.7357498621 \\, \\pi - 5.6924348668883825 \\times 10^{-06}, -6.238485647791859 \\times 10^{-07}\\right)\\right) - 1.95266204309802 \\, \\mathit{A1}_{x_{\\mathit{im}}} - 1.48133642244018 \\, \\mathit{A1}_{x_{\\mathit{re}}} - 1.61238000916986 \\, \\mathit{A1}_{z_{\\mathit{im}}} + 1.79296840641759 \\, \\mathit{A1}_{z_{\\mathit{re}}} - 1.95042099035180 \\, \\mathit{A2}_{x_{\\mathit{im}}} - 1.46984335472214 \\, \\mathit{A2}_{x_{\\mathit{re}}} + 1.600928430366718 \\, \\mathit{A2}_{z_{\\mathit{im}}} - 1.7917134094647458 \\, \\mathit{A2}_{z_{\\mathit{re}}} = 0$"
      ],
      "text/plain": [
       "<IPython.core.display.Math object>"
      ]
     },
     "metadata": {},
     "output_type": "display_data"
    },
    {
     "name": "stdout",
     "output_type": "stream",
     "text": [
      "5 real\n"
     ]
    },
    {
     "data": {
      "text/latex": [
       "$\\displaystyle -1005.85924034078 \\, \\mathit{B1}_{\\mathit{zr}_{\\mathit{re}}} \\sqrt{{\\left| 2387.67154399559i \\, \\pi - 6.238485647791859 \\times 10^{-07} - 5.6924348668883825 \\times 10^{-06}i \\right|}} \\cos\\left(\\frac{1}{2} \\, \\arctan\\left(2387.67154399559 \\, \\pi - 5.6924348668883825 \\times 10^{-06}, -6.238485647791859 \\times 10^{-07}\\right)\\right) + 1005.85924034078 \\, \\mathit{B1}_{\\mathit{zr}_{\\mathit{im}}} \\sqrt{{\\left| 2387.67154399559i \\, \\pi - 6.238485647791859 \\times 10^{-07} - 5.6924348668883825 \\times 10^{-06}i \\right|}} \\sin\\left(\\frac{1}{2} \\, \\arctan\\left(2387.67154399559 \\, \\pi - 5.6924348668883825 \\times 10^{-06}, -6.238485647791859 \\times 10^{-07}\\right)\\right) + 1.46984335472214 \\, \\mathit{A1}_{x_{\\mathit{im}}} - 1.95042099035180 \\, \\mathit{A1}_{x_{\\mathit{re}}} - 1.79171340946475 \\, \\mathit{A1}_{z_{\\mathit{im}}} - 1.60092843036672 \\, \\mathit{A1}_{z_{\\mathit{re}}} + 1.48133642244018 \\, \\mathit{A2}_{x_{\\mathit{im}}} - 1.95266204309802 \\, \\mathit{A2}_{x_{\\mathit{re}}} + 1.792968406417588 \\, \\mathit{A2}_{z_{\\mathit{im}}} + 1.6123800091698604 \\, \\mathit{A2}_{z_{\\mathit{re}}} = 0$"
      ],
      "text/plain": [
       "<IPython.core.display.Math object>"
      ]
     },
     "metadata": {},
     "output_type": "display_data"
    },
    {
     "name": "stdout",
     "output_type": "stream",
     "text": [
      "5 imag\n"
     ]
    },
    {
     "data": {
      "text/latex": [
       "$\\displaystyle -1005.85924034078 \\, \\mathit{B1}_{\\mathit{zr}_{\\mathit{im}}} \\sqrt{{\\left| 2387.67154399559i \\, \\pi - 6.238485647791859 \\times 10^{-07} - 5.6924348668883825 \\times 10^{-06}i \\right|}} \\cos\\left(\\frac{1}{2} \\, \\arctan\\left(2387.67154399559 \\, \\pi - 5.6924348668883825 \\times 10^{-06}, -6.238485647791859 \\times 10^{-07}\\right)\\right) - 1005.85924034078 \\, \\mathit{B1}_{\\mathit{zr}_{\\mathit{re}}} \\sqrt{{\\left| 2387.67154399559i \\, \\pi - 6.238485647791859 \\times 10^{-07} - 5.6924348668883825 \\times 10^{-06}i \\right|}} \\sin\\left(\\frac{1}{2} \\, \\arctan\\left(2387.67154399559 \\, \\pi - 5.6924348668883825 \\times 10^{-06}, -6.238485647791859 \\times 10^{-07}\\right)\\right) - 1.95042099035180 \\, \\mathit{A1}_{x_{\\mathit{im}}} - 1.46984335472214 \\, \\mathit{A1}_{x_{\\mathit{re}}} - 1.60092843036672 \\, \\mathit{A1}_{z_{\\mathit{im}}} + 1.79171340946475 \\, \\mathit{A1}_{z_{\\mathit{re}}} - 1.95266204309802 \\, \\mathit{A2}_{x_{\\mathit{im}}} - 1.48133642244018 \\, \\mathit{A2}_{x_{\\mathit{re}}} + 1.6123800091698604 \\, \\mathit{A2}_{z_{\\mathit{im}}} - 1.792968406417588 \\, \\mathit{A2}_{z_{\\mathit{re}}} = 0$"
      ],
      "text/plain": [
       "<IPython.core.display.Math object>"
      ]
     },
     "metadata": {},
     "output_type": "display_data"
    }
   ],
   "source": [
    "# умножая верхнетреугольную матрицу системы уравнений\n",
    "# на вектор искомых коэффициентов интенсивности полей\n",
    "# находим систему 6 уравнений в комплексном виде\n",
    "# из которых можно получить систему 12 уравнений\n",
    "M6_d_X = M6_d*X6_subs\n",
    "for i in range(0,len(M6_d_X)):\n",
    "    print(i, \"real\")\n",
    "    disp(M6_d_X[i].real() == 0)\n",
    "    print(i, \"imag\")\n",
    "    disp(M6_d_X[i].imag() == 0)"
   ]
  },
  {
   "cell_type": "raw",
   "metadata": {},
   "source": [
    "# умножая верхнетреугольную матрицу системы уравнений\n",
    "# на вектор искомых коэффициентов интенсивности полей\n",
    "# находим систему 6 уравнений в комплексном виде\n",
    "# из которых можно получить систему 12 уравнений\n",
    "M6_RU_d_X = M6_RU_d*X6_subs\n",
    "for i in range(0,len(M6_RU_d_X)):\n",
    "    print(i, \"real\")\n",
    "    disp(M6_RU_d_X[i].real() == 0)\n",
    "    print(i, \"imag\")\n",
    "    disp(M6_RU_d_X[i].imag() == 0)"
   ]
  },
  {
   "cell_type": "code",
   "execution_count": 251,
   "metadata": {},
   "outputs": [
    {
     "data": {
      "text/plain": [
       "6"
      ]
     },
     "execution_count": 251,
     "metadata": {},
     "output_type": "execute_result"
    }
   ],
   "source": [
    "len(M6_d_X)"
   ]
  },
  {
   "cell_type": "raw",
   "metadata": {},
   "source": [
    "len(M6_RU_d_X)"
   ]
  },
  {
   "cell_type": "code",
   "execution_count": 252,
   "metadata": {},
   "outputs": [],
   "source": [
    "# для решения системы уравнений\n",
    "# на вектор искомых коэффициентов интенсивности полей\n",
    "# устанавливаем один из 12 искомых коэффициентов в 1\n",
    "A1_z_re_d = +1"
   ]
  },
  {
   "cell_type": "raw",
   "metadata": {},
   "source": [
    "A1_z_d = 1 + I * A1_z_im\n",
    "A1_z_d"
   ]
  },
  {
   "cell_type": "raw",
   "metadata": {},
   "source": [
    "M8X_RU_B = []\n",
    "eq_sys_M8X_RU = []\n",
    "for i in range(len(M8_RU_d_X)):\n",
    "    M8X_RU_B_i = - (M8_RU_d_X[i]).coefficient(A1_z_re).n() * A1_z_re_d\n",
    "    print(M8X_RU_B_i)\n",
    "    M8X_RU_B += [M8X_RU_B_i]\n",
    "    eq_sys_M8X_RU += [M8_RU_d_X[i].subs(A1_z_re == 0) == M8X_RU_B_i]"
   ]
  },
  {
   "cell_type": "code",
   "execution_count": 253,
   "metadata": {},
   "outputs": [
    {
     "name": "stdout",
     "output_type": "stream",
     "text": [
      "M6_d_X[0]\n",
      "-(58165047.48466341 + 43979206.90761009*I)*(7.54916686652188e10*I*pi + 1)*sqrt(74614.7357498621*I*pi - 6.238485647791859e-07 - 5.6924348668883825e-06*I)*(I*B1_zl_im + B1_zl_re)/(-2.23689350334716e15*I*pi - 7.50519214195842e7*I*pi*sqrt(6.70603801652677e25*I*pi + 8.88314980327947e14) + 18702.50946549244 + 170654.9040749371*I) + (1.0148452855683712 - 0.08322245930178149*I)*A1_z_im - (0.08322245930178149 + 1.0148452855683712*I)*A1_z_re - (1.0109649336612163 - 0.08615644016021828*I)*A2_z_im + (0.08615644016021828 + 1.0109649336612163*I)*A2_z_re\n",
      "M6X_B_i 0\n",
      "0.0832224593017815 + 1.01484528556837*I\n",
      "\n",
      "M6_d_X[1]\n",
      "(58165047.48466341 + 43979206.90761009*I)*(2.41573339728700e9*I*pi + 1)*sqrt(2387.67154399559*I*pi - 6.238485647791859e-07 - 5.6924348668883825e-06*I)*(I*B1_zr_im + B1_zr_re)/(-7.15805921071092e13*I*pi - 2.40166148542669e6*I*pi*sqrt(2.14593216528857e24*I*pi + 8.88314980327947e14) + 18702.50946549244 + 170654.9040749371*I) + (1.0109649336612163 - 0.08615644016021828*I)*A1_z_im - (0.08615644016021828 + 1.0109649336612163*I)*A1_z_re - (1.0148452855683712 - 0.08322245930178149*I)*A2_z_im + (0.08322245930178149 + 1.0148452855683712*I)*A2_z_re\n",
      "M6X_B_i 1\n",
      "0.0861564401602183 + 1.01096493366122*I\n",
      "\n",
      "M6_d_X[2]\n",
      "(0.0016001377872613845 - 1.0017822149088969*I)*A1_z_im - (1.0017822149088969 + 0.0016001377872613845*I)*A1_z_re - (0.001594445351802627 + 0.998218408937*I)*A2_z_im - (0.998218408937 - 0.001594445351802627*I)*A2_z_re + I*B1_zl_im + B1_zl_re\n",
      "M6X_B_i 2\n",
      "1.00178221490890 + 0.00160013778726138*I\n",
      "\n",
      "M6_d_X[3]\n",
      "-(0.001594445351802627 + 0.998218408937*I)*A1_z_im - (0.998218408937 - 0.001594445351802627*I)*A1_z_re + (0.0016001377872613845 - 1.0017822149088969*I)*A2_z_im - (1.0017822149088969 + 0.0016001377872613845*I)*A2_z_re + I*B1_zr_im + B1_zr_re\n",
      "M6X_B_i 3\n",
      "0.998218408937000 - 0.00159444535180263*I\n",
      "\n",
      "M6_d_X[4]\n",
      "1005.85924034078*sqrt(74614.7357498621*I*pi - 6.238485647791859e-07 - 5.6924348668883825e-06*I)*(I*B1_zl_im + B1_zl_re) + (1.48133642244018 - 1.95266204309802*I)*A1_x_im - (1.95266204309802 + 1.48133642244018*I)*A1_x_re - (1.79296840641759 + 1.61238000916986*I)*A1_z_im - (1.61238000916986 - 1.79296840641759*I)*A1_z_re + (1.46984335472214 - 1.95042099035180*I)*A2_x_im - (1.95042099035180 + 1.46984335472214*I)*A2_x_re + (1.7917134094647458 + 1.600928430366718*I)*A2_z_im + (1.600928430366718 - 1.7917134094647458*I)*A2_z_re\n",
      "M6X_B_i 4\n",
      "1.61238000916986 - 1.79296840641759*I\n",
      "\n",
      "M6_d_X[5]\n",
      "-1005.85924034078*sqrt(2387.67154399559*I*pi - 6.238485647791859e-07 - 5.6924348668883825e-06*I)*(I*B1_zr_im + B1_zr_re) + (1.46984335472214 - 1.95042099035180*I)*A1_x_im - (1.95042099035180 + 1.46984335472214*I)*A1_x_re - (1.79171340946475 + 1.60092843036672*I)*A1_z_im - (1.60092843036672 - 1.79171340946475*I)*A1_z_re + (1.48133642244018 - 1.95266204309802*I)*A2_x_im - (1.95266204309802 + 1.48133642244018*I)*A2_x_re + (1.792968406417588 + 1.6123800091698604*I)*A2_z_im + (1.6123800091698604 - 1.792968406417588*I)*A2_z_re\n",
      "M6X_B_i 5\n",
      "1.60092843036672 - 1.79171340946475*I\n",
      "\n"
     ]
    }
   ],
   "source": [
    "# для решения системы уравнений\n",
    "# на вектор искомых коэффициентов интенсивности полей\n",
    "# устанавливив один из 12 искомых коэффициентов в 1\n",
    "# получаем ненулевой вектор правых частей\n",
    "# и новую систему из 6 уравнений в комплексном виде\n",
    "\n",
    "M6X_B = [] # вектор правых частей\n",
    "eq_sys_M6X = [] # новая система из 6 уравнений в комплексном виде\n",
    "# или из 12 уравнений в отделённых действительных и мнимых частях\n",
    "\n",
    "# исходя из системы 6 уравнений в комплексном виде\n",
    "for i in range(len(M6_d_X)):\n",
    "    print(\"M6_d_X[\" + str(i) + \"]\")\n",
    "    print(M6_d_X[i])\n",
    "    # переносим в вектор правых частей со знаком минус\n",
    "    # множитель при том одном из искомых коэффициентов интенсивности полей\n",
    "    # который был принят за единицу\n",
    "    M6X_B_i = - (M6_d_X[i]).coefficient(A1_z_re).n() * A1_z_re_d\n",
    "    print(\"M6X_B_i \" + str(i))\n",
    "    print(M6X_B_i)\n",
    "    print(\"\")\n",
    "    M6X_B += [M6X_B_i.real()]\n",
    "    M6X_B += [M6X_B_i.imag()]\n",
    "    eq_sys_M6X += [M6_d_X[i].subs(A1_z_re == 0).real() == M6X_B_i.real()]\n",
    "    eq_sys_M6X += [M6_d_X[i].subs(A1_z_re == 0).imag() == M6X_B_i.imag()]"
   ]
  },
  {
   "cell_type": "raw",
   "metadata": {},
   "source": [
    "# для решения системы уравнений\n",
    "# на вектор искомых коэффициентов интенсивности полей\n",
    "# устанавливив один из 12 искомых коэффициентов в 1\n",
    "# получаем ненулевой вектор правых частей\n",
    "# и новую систему из 6 уравнений в комплексном виде\n",
    "\n",
    "M6X_RU_B = [] # вектор правых частей\n",
    "eq_sys_M6X_RU = [] # новая система из 6 уравнений в комплексном виде\n",
    "# или из 12 уравнений в отделённых действительных и мнимых частях\n",
    "\n",
    "# исходя из системы 6 уравнений в комплексном виде\n",
    "for i in range(len(M6_RU_d_X)):\n",
    "    print(\"M6_RU_d_X[\" + str(i) + \"]\")\n",
    "    print(M6_RU_d_X[i])\n",
    "    # переносим в вектор правых частей со знаком минус\n",
    "    # множитель при том одном из искомых коэффициентов интенсивности полей\n",
    "    # который был принят за единицу\n",
    "    M6X_RU_B_i = - (M6_RU_d_X[i]).coefficient(A1_z_re).n() * A1_z_re_d\n",
    "    print(\"M6X_RU_B_i \" + str(i))\n",
    "    print(M6X_RU_B_i)\n",
    "    print(\"\")\n",
    "    M6X_RU_B += [M6X_RU_B_i.real()]\n",
    "    M6X_RU_B += [M6X_RU_B_i.imag()]\n",
    "    eq_sys_M6X_RU += [M6_RU_d_X[i].subs(A1_z_re == 0).real() == M6X_RU_B_i.real()]\n",
    "    eq_sys_M6X_RU += [M6_RU_d_X[i].subs(A1_z_re == 0).imag() == M6X_RU_B_i.imag()]"
   ]
  },
  {
   "cell_type": "raw",
   "metadata": {},
   "source": [
    "# вектор правых частей\n",
    "disp(M6X_RU_B)"
   ]
  },
  {
   "cell_type": "code",
   "execution_count": 255,
   "metadata": {},
   "outputs": [
    {
     "data": {
      "text/latex": [
       "$\\displaystyle \\left[0.0832224593017815, 1.01484528556837, 0.0861564401602183, 1.01096493366122, 1.00178221490890, 0.00160013778726138, 0.998218408937000, -0.00159444535180263, 1.61238000916986, -1.79296840641759, 1.60092843036672, -1.79171340946475\\right]$"
      ],
      "text/plain": [
       "<IPython.core.display.Math object>"
      ]
     },
     "metadata": {},
     "output_type": "display_data"
    }
   ],
   "source": [
    "# вектор правых частей\n",
    "disp(M6X_B)"
   ]
  },
  {
   "cell_type": "raw",
   "metadata": {},
   "source": [
    "eq_sys_M8X_vars7 = [B1_zl_re,  B1_zl_im,\\\n",
    "                               A1_z_im, \\\n",
    "                     A2_z_re,  A2_z_im, \\\n",
    "                     B1_zr_re, B1_zr_im, \\\n",
    "                    ]"
   ]
  },
  {
   "cell_type": "code",
   "execution_count": 256,
   "metadata": {},
   "outputs": [],
   "source": [
    "# вектор оставшихся искомых коэффициентов интенсивности полей\n",
    "#A1_z_re,\n",
    "eq_sys_M6X_vars11 = [\n",
    "    B1_zl_re, B1_zl_im,\n",
    "    A1_x_re, A1_x_im,\n",
    "             A1_z_im,\n",
    "    A2_x_re, A2_x_im,\n",
    "    A2_z_re, A2_z_im,\n",
    "    B1_zr_re, B1_zr_im,\n",
    "]"
   ]
  },
  {
   "cell_type": "raw",
   "metadata": {},
   "source": [
    "eq_sys_M8X_RU_M = GenerateMatrix(eq_sys_M8X_RU, eq_sys_M8X_vars7)\n",
    "\n",
    "display(Math(latex(eq_sys_M8X_RU_M.n())))"
   ]
  },
  {
   "cell_type": "code",
   "execution_count": 257,
   "metadata": {},
   "outputs": [
    {
     "data": {
      "text/latex": [
       "$\\displaystyle \\left(\\begin{array}{rrrrrrrrrrr}\n",
       "1.95154013168805 & -1.47558456484880 & 0.000000000000000 & 0.000000000000000 & 1.01484528556837 & 0.000000000000000 & 0.000000000000000 & 0.0861564401602183 & -1.01096493366122 & 0.000000000000000 & 0.000000000000000 \\\\\n",
       "1.47558456484880 & 1.95154013168805 & 0.000000000000000 & 0.000000000000000 & -0.0832224593017815 & 0.000000000000000 & 0.000000000000000 & 1.01096493366122 & 0.0861564401602183 & 0.000000000000000 & 0.000000000000000 \\\\\n",
       "0.000000000000000 & 0.000000000000000 & 0.000000000000000 & 0.000000000000000 & 1.01096493366122 & 0.000000000000000 & 0.000000000000000 & 0.0832224593017815 & -1.01484528556837 & -1.95151728994943 & 1.47558773621448 \\\\\n",
       "0.000000000000000 & 0.000000000000000 & 0.000000000000000 & 0.000000000000000 & -0.0861564401602183 & 0.000000000000000 & 0.000000000000000 & 1.01484528556837 & 0.0832224593017815 & -1.47558773621448 & -1.95151728994943 \\\\\n",
       "1.00000000000000 & 0.000000000000000 & 0.000000000000000 & 0.000000000000000 & 0.00160013778726138 & 0.000000000000000 & 0.000000000000000 & -0.998218408937000 & -0.00159444535180263 & 0.000000000000000 & 0.000000000000000 \\\\\n",
       "0.000000000000000 & 1.00000000000000 & 0.000000000000000 & 0.000000000000000 & -1.00178221490890 & 0.000000000000000 & 0.000000000000000 & 0.00159444535180263 & -0.998218408937000 & 0.000000000000000 & 0.000000000000000 \\\\\n",
       "0.000000000000000 & 0.000000000000000 & 0.000000000000000 & 0.000000000000000 & -0.00159444535180263 & 0.000000000000000 & 0.000000000000000 & -1.00178221490890 & 0.00160013778726138 & 1.00000000000000 & 0.000000000000000 \\\\\n",
       "0.000000000000000 & 0.000000000000000 & 0.000000000000000 & 0.000000000000000 & -0.998218408937000 & 0.000000000000000 & 0.000000000000000 & -0.00160013778726138 & -1.00178221490890 & 0.000000000000000 & 1.00000000000000 \\\\\n",
       "344357.424545700 & -344357.424546617 & -1.95266204309802 & 1.48133642244018 & -1.79296840641759 & -1.95042099035180 & 1.46984335472214 & 1.60092843036672 & 1.79171340946475 & 0.000000000000000 & 0.000000000000000 \\\\\n",
       "344357.424546617 & 344357.424545700 & -1.48133642244018 & -1.95266204309802 & -1.61238000916986 & -1.46984335472214 & -1.95042099035180 & -1.79171340946475 & 1.60092843036672 & 0.000000000000000 & 0.000000000000000 \\\\\n",
       "0.000000000000000 & 0.000000000000000 & -1.95042099035180 & 1.46984335472214 & -1.79171340946475 & -1.95266204309802 & 1.48133642244018 & 1.61238000916986 & 1.79296840641759 & -61600.5287621700 & 61600.5287672930 \\\\\n",
       "0.000000000000000 & 0.000000000000000 & -1.46984335472214 & -1.95042099035180 & -1.60092843036672 & -1.48133642244018 & -1.95266204309802 & -1.79296840641759 & 1.61238000916986 & -61600.5287672931 & -61600.5287621699\n",
       "\\end{array}\\right)$"
      ],
      "text/plain": [
       "<IPython.core.display.Math object>"
      ]
     },
     "metadata": {},
     "output_type": "display_data"
    }
   ],
   "source": [
    "# формируем матрицу новой переопределённой системы уравнений на оставшиеся коэффициенты \n",
    "eq_sys_M6X_M = GenerateMatrix(eq_sys_M6X, eq_sys_M6X_vars11)\n",
    "display(Math(latex(eq_sys_M6X_M.n())))"
   ]
  },
  {
   "cell_type": "raw",
   "metadata": {},
   "source": [
    "# формируем матрицу новой переопределённой системы уравнений на оставшиеся коэффициенты \n",
    "eq_sys_M6X_RU_M = GenerateMatrix(eq_sys_M6X_RU, eq_sys_M6X_vars11)\n",
    "display(Math(latex(eq_sys_M6X_RU_M.n())))"
   ]
  },
  {
   "cell_type": "code",
   "execution_count": 259,
   "metadata": {},
   "outputs": [
    {
     "data": {
      "text/plain": [
       "(12, 11)"
      ]
     },
     "execution_count": 259,
     "metadata": {},
     "output_type": "execute_result"
    }
   ],
   "source": [
    "eq_sys_M6X_M.dimensions()"
   ]
  },
  {
   "cell_type": "raw",
   "metadata": {},
   "source": [
    "eq_sys_M6X_RU_M.dimensions()"
   ]
  },
  {
   "cell_type": "code",
   "execution_count": 260,
   "metadata": {},
   "outputs": [],
   "source": [
    "# решаем полученную переопределённую систему"
   ]
  },
  {
   "cell_type": "raw",
   "metadata": {},
   "source": [
    "eq_sys_M8X_RU_M_sol = eq_sys_M8X_RU_M.solve_right(vector(M8X_RU_B))"
   ]
  },
  {
   "cell_type": "code",
   "execution_count": 263,
   "metadata": {},
   "outputs": [
    {
     "data": {
      "text/plain": [
       "(-0.000402508865128937, 1.11584392556846, 1.06234151440408e7, 1.58751418293907e7, 1.45048217084955, -1.06414338215463e7, -1.57454656157625e7, -1.00110356031718, -0.341027230001940, -0.00181092795833682, -1.11585354404452)"
      ]
     },
     "execution_count": 263,
     "metadata": {},
     "output_type": "execute_result"
    }
   ],
   "source": [
    "eq_sys_M6X_M_sol = eq_sys_M6X_M.n().solve_right(vector(M6X_B))\n",
    "eq_sys_M6X_M_sol"
   ]
  },
  {
   "cell_type": "raw",
   "metadata": {},
   "source": [
    "eq_sys_M6X_RU_M_sol = eq_sys_M6X_RU_M.solve_right(vector(M6X_RU_B))\n",
    "eq_sys_M6X_RU_M_sol"
   ]
  },
  {
   "cell_type": "code",
   "execution_count": 264,
   "metadata": {},
   "outputs": [
    {
     "data": {
      "text/plain": [
       "11"
      ]
     },
     "execution_count": 264,
     "metadata": {},
     "output_type": "execute_result"
    }
   ],
   "source": [
    "len(eq_sys_M6X_M_sol)"
   ]
  },
  {
   "cell_type": "raw",
   "metadata": {},
   "source": [
    "len(eq_sys_M6X_RU_M_sol)"
   ]
  },
  {
   "cell_type": "raw",
   "metadata": {},
   "source": [
    "coeffs_subs_RU8 = [A1_z_re == A1_z_re_d]\n",
    "for i in range(len(eq_sys_M8X_RU_M_sol)):\n",
    "    eq_sys_M8X_RU_M_sol_i_n = eq_sys_M8X_RU_M_sol[i].n()\n",
    "    print(eq_sys_M8X_RU_M_sol_i_n)\n",
    "    coeffs_subs_RU8 += [eq_sys_M8X_vars7[i] == eq_sys_M8X_RU_M_sol_i_n]"
   ]
  },
  {
   "cell_type": "raw",
   "metadata": {},
   "source": [
    "coeffs_subs_RU6 = [A1_z_re == A1_z_re_d]\n",
    "for i in range(len(eq_sys_M6X_RU_M_sol)):\n",
    "    eq_sys_M6X_RU_M_sol_i_n = eq_sys_M6X_RU_M_sol[i].n()\n",
    "    print(eq_sys_M6X_RU_M_sol_i_n)\n",
    "    coeffs_subs_RU6 += [eq_sys_M6X_vars11[i] == eq_sys_M6X_RU_M_sol_i_n]"
   ]
  },
  {
   "cell_type": "code",
   "execution_count": 265,
   "metadata": {},
   "outputs": [
    {
     "name": "stdout",
     "output_type": "stream",
     "text": [
      "-0.000402508865128937\n",
      "1.11584392556846\n",
      "1.06234151440408e7\n",
      "1.58751418293907e7\n",
      "1.45048217084955\n",
      "-1.06414338215463e7\n",
      "-1.57454656157625e7\n",
      "-1.00110356031718\n",
      "-0.341027230001940\n",
      "-0.00181092795833682\n",
      "-1.11585354404452\n"
     ]
    }
   ],
   "source": [
    "coeffs_subs_6 = [A1_z_re == A1_z_re_d]\n",
    "for i in range(len(eq_sys_M6X_M_sol)):\n",
    "    eq_sys_M6X_M_sol_i_n = eq_sys_M6X_M_sol[i].n()\n",
    "    print(eq_sys_M6X_M_sol_i_n)\n",
    "    coeffs_subs_6 += [eq_sys_M6X_vars11[i] == eq_sys_M6X_M_sol_i_n]"
   ]
  },
  {
   "cell_type": "raw",
   "metadata": {},
   "source": [
    "coeffs_subs_RU8"
   ]
  },
  {
   "cell_type": "raw",
   "metadata": {},
   "source": [
    "coeffs_subs_RU6"
   ]
  },
  {
   "cell_type": "code",
   "execution_count": 266,
   "metadata": {},
   "outputs": [
    {
     "data": {
      "text/plain": [
       "[A1_z_re == 1,\n",
       " B1_zl_re == -0.000402508865128937,\n",
       " B1_zl_im == 1.11584392556846,\n",
       " A1_x_re == 1.06234151440408e7,\n",
       " A1_x_im == 1.58751418293907e7,\n",
       " A1_z_im == 1.45048217084955,\n",
       " A2_x_re == -1.06414338215463e7,\n",
       " A2_x_im == -1.57454656157625e7,\n",
       " A2_z_re == -1.00110356031718,\n",
       " A2_z_im == -0.341027230001940,\n",
       " B1_zr_re == -0.00181092795833682,\n",
       " B1_zr_im == -1.11585354404452]"
      ]
     },
     "execution_count": 266,
     "metadata": {},
     "output_type": "execute_result"
    }
   ],
   "source": [
    "coeffs_subs_6"
   ]
  },
  {
   "cell_type": "raw",
   "metadata": {},
   "source": [
    "import numpy as np\n",
    "\n",
    "M8_subs_d_np_array = np.array(M8_subs_d.n())\n",
    "_ , _ , _ , M8_subs_d_sol = np.linalg.lstsq(M8_subs_d_np_array, np.zeros(8), rcond=None)\n",
    "M8_subs_d_sol"
   ]
  },
  {
   "cell_type": "raw",
   "metadata": {},
   "source": [
    "np.linalg.pinv(M8_subs_d_np_array).dot(np.zeros(8))"
   ]
  },
  {
   "cell_type": "raw",
   "metadata": {},
   "source": [
    "import numpy as np\n",
    "\n",
    "M8_RU_d_np_array = np.array(M8_RU_d)\n",
    "_ , _ , _ , M8_RU_d_sol = np.linalg.lstsq(M8_RU_d_np_array, np.zeros(8), rcond=None)\n",
    "vector(M8_RU_d_sol)"
   ]
  },
  {
   "cell_type": "raw",
   "metadata": {},
   "source": [
    "np.dot(M8_subs_d_np_array,M8_subs_d_sol)"
   ]
  },
  {
   "cell_type": "raw",
   "metadata": {},
   "source": [
    "matrix(M8_subs_d.n())*vector(M8_RU_d_sol)"
   ]
  },
  {
   "cell_type": "raw",
   "metadata": {},
   "source": [
    "common_sol = []\n",
    "for i in range(1, len(B8)):\n",
    "    r = 8 - i - 1\n",
    "    #print (B6[r])\n",
    "    #print (vars6[r])\n",
    "    eq = B8[r].subs(common_sol)\n",
    "    sol = solve(eq, vars8[r])\n",
    "    #print(sol)\n",
    "    common_sol += sol"
   ]
  },
  {
   "cell_type": "raw",
   "metadata": {},
   "source": [
    "common_sol"
   ]
  },
  {
   "cell_type": "raw",
   "metadata": {},
   "source": [
    "coeffs_subs8_gauss  = [A1_z_re == 1]\n",
    "for i in range(len(common_sol)):\n",
    "    coeffs_subs8_gauss += [common_sol[i].subs(A1_z_re == 1)]\n",
    "print (coeffs_subs8_gauss)"
   ]
  },
  {
   "cell_type": "raw",
   "metadata": {},
   "source": [
    "for i in range(len(coeffs_subs8_gauss)):\n",
    "    print(coeffs_subs8_gauss[i].lhs(), \"=\", coeffs_subs8_gauss[i].rhs())"
   ]
  },
  {
   "cell_type": "raw",
   "metadata": {},
   "source": [
    "M8_subs_d_X = M8_subs_d * X8\n",
    "#print(M8_subs_d_X)"
   ]
  },
  {
   "cell_type": "raw",
   "metadata": {},
   "source": [
    "M6_subs_d_X = M6_d * X6\n",
    "print(M6_subs_d_X)"
   ]
  },
  {
   "cell_type": "raw",
   "metadata": {},
   "source": [
    "M8X_B = []\n",
    "eq_sys_M8X = []\n",
    "for i in range(len(M8_subs_d_X)):\n",
    "    M8X_B_i = - (M8_subs_d_X[i]).coefficient(A1_z_re).n() * A1_z_re_d\n",
    "    print(M8X_B_i)\n",
    "    M8X_B += [M8X_B_i]\n",
    "    eq_sys_M8X += [M8_subs_d_X[i].subs(A1_z_re == 0) == M8X_B_i]"
   ]
  },
  {
   "cell_type": "raw",
   "metadata": {},
   "source": [
    "M16X_B = []\n",
    "eq_sys_M16X = []\n",
    "for i in range(len(M16_subs_d_X)):\n",
    "    M16X_B_i = - (M16_subs_d_X[i]).coefficient(A1_z_re).n() * A1_z_re_d\n",
    "    print(M16X_B_i)\n",
    "    M16X_B += [M16X_B_i]\n",
    "    eq_sys_M16X += [M16_subs_d_X[i].subs(A1_z_re == 0) == M16X_B_i]"
   ]
  },
  {
   "cell_type": "raw",
   "metadata": {},
   "source": [
    "eq_sys_M8X_M = GenerateMatrix(eq_sys_M8X, eq_sys_M8X_vars7)\n",
    "\n",
    "display(Math(latex(eq_sys_M8X_M.n())))"
   ]
  },
  {
   "cell_type": "raw",
   "metadata": {},
   "source": [
    "eq_sys_M16X_M = GenerateMatrix(eq_sys_M16X, eq_sys_M16X_vars15)\n",
    "\n",
    "display(Math(latex(eq_sys_M16X_M.n())))"
   ]
  },
  {
   "cell_type": "code",
   "execution_count": 267,
   "metadata": {},
   "outputs": [],
   "source": [
    "if False:#ECL says: FLOATING-POINT-OVERFLOW\n",
    "    eq_sys_M8X_M_sol = eq_sys_M8X_M.solve_right(vector(M8X_B))"
   ]
  },
  {
   "cell_type": "code",
   "execution_count": 268,
   "metadata": {},
   "outputs": [],
   "source": [
    "if False:\n",
    "    coeffs_subs8 = [A1_z_re == A1_z_re_d]\n",
    "    for i in range(len(eq_sys_M8X_M_sol)):\n",
    "        eq_sys_M8X_M_sol_i_n = eq_sys_M8X_M_sol[i].n()\n",
    "        print(eq_sys_M8X_M_sol_i_n)\n",
    "        coeffs_subs8 += [eq_sys_M8X_vars7[i] == eq_sys_M8X_M_sol_i_n]"
   ]
  },
  {
   "cell_type": "code",
   "execution_count": 269,
   "metadata": {},
   "outputs": [],
   "source": [
    "if False:\n",
    "    print (coeffs_subs8)"
   ]
  },
  {
   "cell_type": "code",
   "execution_count": 270,
   "metadata": {},
   "outputs": [],
   "source": [
    "# test solution of coeffs_subs8"
   ]
  },
  {
   "cell_type": "code",
   "execution_count": 271,
   "metadata": {},
   "outputs": [],
   "source": [
    "if False:\n",
    "    test_sol_of_coeffs_subs8 = M8_subs_d_X.subs(coeffs_subs8).n()\n",
    "    test_sol_of_coeffs_subs8"
   ]
  },
  {
   "cell_type": "code",
   "execution_count": 272,
   "metadata": {},
   "outputs": [],
   "source": [
    "if False:\n",
    "    test_sol_of_coeffs_subs8_abs = 0\n",
    "    for i in range(len(test_sol_of_coeffs_subs8)):\n",
    "        test_sol_of_coeffs_subs8_abs += abs(test_sol_of_coeffs_subs_8[i])\n",
    "    test_sol_of_coeffs_subs8_abs"
   ]
  },
  {
   "cell_type": "code",
   "execution_count": 273,
   "metadata": {},
   "outputs": [
    {
     "data": {
      "text/plain": [
       "[kz == 0.00194017714363793,\n",
       " sz == 0.0014669884359669277,\n",
       " k_z == (0.00194017714363793 + 0.0014669884359669277*I)]"
      ]
     },
     "execution_count": 273,
     "metadata": {},
     "output_type": "execute_result"
    }
   ],
   "source": [
    "k_z_sol"
   ]
  },
  {
   "cell_type": "raw",
   "metadata": {},
   "source": [
    "k_z_sol = [kz == k_z_root[0], sz ==  k_z_root[1], k_z == k_z_root[0] + I * k_z_root[1]]\n",
    "k_z_sol"
   ]
  },
  {
   "cell_type": "raw",
   "metadata": {},
   "source": [
    "k_z_sol = [kz == -k_z_root[0], sz ==  -k_z_root[1], k_z == -k_z_root[0] - I * k_z_root[1]]\n",
    "k_z_sol"
   ]
  },
  {
   "cell_type": "raw",
   "metadata": {},
   "source": [
    "k_z_sol = [kz == -k_z_sol_kz, sz == -k_z_sol_sz, k_z == -k_z_sol_kz - I * k_z_sol_sz]\n",
    "k_z_sol"
   ]
  },
  {
   "cell_type": "code",
   "execution_count": 274,
   "metadata": {},
   "outputs": [],
   "source": [
    "M6_subs_d = M6.subs(digit_values).subs(k_z_sol)"
   ]
  },
  {
   "cell_type": "code",
   "execution_count": 275,
   "metadata": {},
   "outputs": [
    {
     "data": {
      "text/plain": [
       "[     1.95154013168805 + 1.47558456484880*I                          0.000000000000000   -0.0832224593017815 - 1.01484528556837*I                          0.000000000000000    0.0861564401602183 + 1.01096493366122*I                          0.000000000000000]\n",
       "[                         0.000000000000000                          0.000000000000000   -0.0861564401602183 - 1.01096493366122*I                          0.000000000000000    0.0832224593017815 + 1.01484528556837*I     -1.95151728994943 - 1.47558773621447*I]\n",
       "[                          1.00000000000000                          0.000000000000000  -1.00178221490890 - 0.00160013778726138*I                          0.000000000000000 -0.998218408937000 + 0.00159444535180263*I                          0.000000000000000]\n",
       "[                         0.000000000000000                          0.000000000000000 -0.998218408937000 + 0.00159444535180263*I                          0.000000000000000  -1.00178221490890 - 0.00160013778726138*I                           1.00000000000000]\n",
       "[     344357.424545700 + 344357.424546617*I     -1.95266204309802 - 1.48133642244018*I     -1.61238000916986 + 1.79296840641759*I     -1.95042099035180 - 1.46984335472214*I      1.60092843036672 - 1.79171340946475*I                          0.000000000000000]\n",
       "[                         0.000000000000000     -1.95042099035180 - 1.46984335472214*I     -1.60092843036672 + 1.79171340946475*I     -1.95266204309802 - 1.48133642244018*I      1.61238000916986 - 1.79296840641759*I     -61600.5287621699 - 61600.5287672930*I]"
      ]
     },
     "execution_count": 275,
     "metadata": {},
     "output_type": "execute_result"
    }
   ],
   "source": [
    "M6_subs_d.n()"
   ]
  },
  {
   "cell_type": "code",
   "execution_count": 276,
   "metadata": {},
   "outputs": [
    {
     "data": {
      "text/plain": [
       "0.297329521899698 + 0.482419995863259*I"
      ]
     },
     "execution_count": 276,
     "metadata": {},
     "output_type": "execute_result"
    }
   ],
   "source": [
    "M6_subs_d.det().n()"
   ]
  },
  {
   "cell_type": "raw",
   "metadata": {},
   "source": [
    "vars8"
   ]
  },
  {
   "cell_type": "raw",
   "metadata": {},
   "source": [
    "X = vector([B1_zl_re + I*B1_zl_im,\\\n",
    "            A1_z_re  + I*A1_z_im, \\\n",
    "            A2_z_re  + I*A2_z_im, \\\n",
    "            B1_zr_re + I*B1_zr_im])\n",
    "X"
   ]
  },
  {
   "cell_type": "raw",
   "metadata": {},
   "source": [
    "M4_subs_d_X = M4_subs_d * X\n",
    "#display(Math(latex(M4_subs_d_X)))"
   ]
  },
  {
   "cell_type": "raw",
   "metadata": {},
   "source": [
    "A1_z_re_d = 1\n",
    "M4X_B = []\n",
    "eq_sys_M4X = []\n",
    "for i in range(len(M4_subs_d_X)):\n",
    "    M4X_B_re = - M4_subs_d_X[i].real().coefficient(A1_z_re).n()\n",
    "    M4X_B_im = - M4_subs_d_X[i].imag().coefficient(A1_z_re).n()\n",
    "    eq_sys_M4X += [M4_subs_d_X[i].real().subs(A1_z_re == 0) == M4X_B_re]\n",
    "    eq_sys_M4X += [M4_subs_d_X[i].imag().subs(A1_z_re == 0) == M4X_B_im]\n",
    "    M4X_B += [M4X_B_re]\n",
    "    M4X_B += [M4X_B_im]"
   ]
  },
  {
   "cell_type": "raw",
   "metadata": {},
   "source": [
    "M4X_B"
   ]
  },
  {
   "cell_type": "raw",
   "metadata": {},
   "source": [
    "eq_sys_M4X_vars7 = [B1_zl_re, B1_zl_im, \\\n",
    "                    A1_z_im,  A2_z_re,  \\\n",
    "                              A2_z_im,  \\\n",
    "                    B1_zr_re, B1_zr_im]"
   ]
  },
  {
   "cell_type": "raw",
   "metadata": {},
   "source": [
    "eq_sys_M4X_M = GenerateMatrixNumeric(eq_sys_M4X, eq_sys_M4X_vars7)\n",
    "display(Math(latex(eq_sys_M4X_M.n())))"
   ]
  },
  {
   "cell_type": "raw",
   "metadata": {},
   "source": [
    "eq_sys_M4X_M_sol = eq_sys_M4X_M.solve_right(vector(M4X_B))"
   ]
  },
  {
   "cell_type": "raw",
   "metadata": {},
   "source": [
    "coeffs_subs4 = [A1_z_re == A1_z_re_d]\n",
    "for i in range(len(eq_sys_M4X_M_sol)):\n",
    "    print(eq_sys_M4X_M_sol[i].n())#.variables())\n",
    "    coeffs_subs4 += [eq_sys_M4X_vars7[i] == eq_sys_M4X_M_sol[i].n()]"
   ]
  },
  {
   "cell_type": "raw",
   "metadata": {},
   "source": [
    "coeffs_subs4"
   ]
  },
  {
   "cell_type": "code",
   "execution_count": 277,
   "metadata": {},
   "outputs": [],
   "source": [
    "# test solution of coeffs_subs4"
   ]
  },
  {
   "cell_type": "raw",
   "metadata": {},
   "source": [
    "test_sol_of_coeffs_subs4 = M6_subs_d_X.subs(coeffs_subs4).n()\n",
    "test_sol_of_coeffs_subs4"
   ]
  },
  {
   "cell_type": "raw",
   "metadata": {},
   "source": [
    "test_sol_of_coeffs_subs4_abs = 0\n",
    "for i in range(len(test_sol_of_coeffs_subs4)):\n",
    "    test_sol_of_coeffs_subs4_abs += abs(test_sol_of_coeffs_subs4[i])\n",
    "test_sol_of_coeffs_subs4_abs"
   ]
  },
  {
   "cell_type": "markdown",
   "metadata": {},
   "source": [
    "coeffs_subs4"
   ]
  },
  {
   "cell_type": "code",
   "execution_count": 278,
   "metadata": {},
   "outputs": [],
   "source": [
    "#test_sol_of_coeffs_subs8_abs"
   ]
  },
  {
   "cell_type": "raw",
   "metadata": {},
   "source": [
    "coeffs_subs = coeffs_subs_RU8\n",
    "coeffs_subs"
   ]
  },
  {
   "cell_type": "raw",
   "metadata": {},
   "source": [
    "coeffs_subs = coeffs_subs_RU6\n",
    "coeffs_subs"
   ]
  },
  {
   "cell_type": "code",
   "execution_count": 280,
   "metadata": {},
   "outputs": [
    {
     "data": {
      "text/plain": [
       "[A1_z_re == 1,\n",
       " B1_zl_re == -0.000402508865128937,\n",
       " B1_zl_im == 1.11584392556846,\n",
       " A1_x_re == 1.06234151440408e7,\n",
       " A1_x_im == 1.58751418293907e7,\n",
       " A1_z_im == 1.45048217084955,\n",
       " A2_x_re == -1.06414338215463e7,\n",
       " A2_x_im == -1.57454656157625e7,\n",
       " A2_z_re == -1.00110356031718,\n",
       " A2_z_im == -0.341027230001940,\n",
       " B1_zr_re == -0.00181092795833682,\n",
       " B1_zr_im == -1.11585354404452]"
      ]
     },
     "execution_count": 280,
     "metadata": {},
     "output_type": "execute_result"
    }
   ],
   "source": [
    "coeffs_subs = coeffs_subs_6\n",
    "coeffs_subs"
   ]
  },
  {
   "cell_type": "code",
   "execution_count": 281,
   "metadata": {},
   "outputs": [
    {
     "data": {
      "text/plain": [
       "K_vacuum == (0.0015972897128921342 - 0.0017819043160872084*I)"
      ]
     },
     "execution_count": 281,
     "metadata": {},
     "output_type": "execute_result"
    }
   ],
   "source": [
    "K_vacuum_subs_d = K_vacuum_subs.subs(kappa_vacuum_sol).subs(k_z_sol).subs(digit_values)\n",
    "K_vacuum_subs_d"
   ]
  },
  {
   "cell_type": "code",
   "execution_count": 282,
   "metadata": {},
   "outputs": [
    {
     "data": {
      "text/plain": [
       "0.00159728971289213 - 0.00178190431608721*I"
      ]
     },
     "execution_count": 282,
     "metadata": {},
     "output_type": "execute_result"
    }
   ],
   "source": [
    "K_vacuum_subs_d.rhs().n()"
   ]
  },
  {
   "cell_type": "code",
   "execution_count": 283,
   "metadata": {},
   "outputs": [
    {
     "data": {
      "text/plain": [
       "K_left_conductor == sqrt(74614.7357498621*I*pi - 6.238485647791859e-07 - 5.6924348668883825e-06*I)"
      ]
     },
     "execution_count": 283,
     "metadata": {},
     "output_type": "execute_result"
    }
   ],
   "source": [
    "K_left_conductor_subs_d = K_left_conductor_subs.subs(kappa_vacuum_sol).subs(kappa_l_sol).subs(k_z_sol).subs(digit_values)\n",
    "K_left_conductor_subs_d"
   ]
  },
  {
   "cell_type": "code",
   "execution_count": 284,
   "metadata": {},
   "outputs": [
    {
     "data": {
      "text/plain": [
       "K_right_conductor == sqrt(2387.67154399559*I*pi - 6.238485647791859e-07 - 5.6924348668883825e-06*I)"
      ]
     },
     "execution_count": 284,
     "metadata": {},
     "output_type": "execute_result"
    }
   ],
   "source": [
    "K_right_conductor_subs_d = K_right_conductor_subs.subs(kappa_vacuum_sol).subs(kappa_r_sol).subs(k_z_sol).subs(digit_values)\n",
    "K_right_conductor_subs_d"
   ]
  },
  {
   "cell_type": "code",
   "execution_count": 285,
   "metadata": {},
   "outputs": [
    {
     "data": {
      "text/plain": [
       "342.351504798062 + 342.351504798973*I"
      ]
     },
     "execution_count": 285,
     "metadata": {},
     "output_type": "execute_result"
    }
   ],
   "source": [
    "K_left_conductor_subs_d.rhs().n()"
   ]
  },
  {
   "cell_type": "code",
   "execution_count": 286,
   "metadata": {},
   "outputs": [
    {
     "data": {
      "text/plain": [
       "61.2416989292657 + 61.2416989343590*I"
      ]
     },
     "execution_count": 286,
     "metadata": {},
     "output_type": "execute_result"
    }
   ],
   "source": [
    "K_right_conductor_subs_d.rhs().n()"
   ]
  },
  {
   "cell_type": "code",
   "execution_count": 287,
   "metadata": {},
   "outputs": [
    {
     "data": {
      "text/plain": [
       "K_vacuum == (0.0015972897128921342 - 0.0017819043160872084*I)"
      ]
     },
     "execution_count": 287,
     "metadata": {},
     "output_type": "execute_result"
    }
   ],
   "source": [
    "K_vacuum_subs_d"
   ]
  },
  {
   "cell_type": "markdown",
   "metadata": {},
   "source": [
    "знак перед корнем будем всегда выбирать так, чтобы корень имел положительнею мнимую часть (Зоммерфельд, Электродинамика, параграф 20, Б)"
   ]
  },
  {
   "cell_type": "raw",
   "metadata": {},
   "source": [
    "if K_left_conductor_subs_d.rhs().n().imag() < 0:\n",
    "    K_left_conductor_subs_d = K_left_conductor_subs_d.lhs() == - K_left_conductor_subs_d.rhs()"
   ]
  },
  {
   "cell_type": "raw",
   "metadata": {},
   "source": [
    "if K_right_conductor_subs_d.rhs().n().imag() < 0:\n",
    "    K_right_conductor_subs_d = K_right_conductor_subs_d.lhs() == - K_right_conductor_subs_d.rhs()"
   ]
  },
  {
   "cell_type": "raw",
   "metadata": {},
   "source": [
    "if K_right_conductor_subs_d.rhs().n().imag() > 0:\n",
    "    K_right_conductor_subs_d = K_right_conductor_subs_d.lhs() == - K_right_conductor_subs_d.rhs()"
   ]
  },
  {
   "cell_type": "code",
   "execution_count": 288,
   "metadata": {},
   "outputs": [
    {
     "data": {
      "text/plain": [
       "61.2416989292657 + 61.2416989343590*I"
      ]
     },
     "execution_count": 288,
     "metadata": {},
     "output_type": "execute_result"
    }
   ],
   "source": [
    "K_right_conductor_subs_d.rhs().n()"
   ]
  },
  {
   "cell_type": "code",
   "execution_count": null,
   "metadata": {},
   "outputs": [],
   "source": [
    "if K_vacuum_subs_d.rhs().n().imag() < 0:\n",
    "    K_vacuum_subs_d = K_vacuum_subs_d.lhs() == - K_vacuum_subs_d.rhs()"
   ]
  },
  {
   "cell_type": "code",
   "execution_count": null,
   "metadata": {},
   "outputs": [],
   "source": [
    "K_vacuum_subs_d"
   ]
  },
  {
   "cell_type": "code",
   "execution_count": null,
   "metadata": {},
   "outputs": [],
   "source": [
    "eq_7_Ex_l"
   ]
  },
  {
   "cell_type": "raw",
   "metadata": {},
   "source": [
    "Ex_left_conductor  = (eq_7_Ex_l_subs2.rhs())\n",
    "Ex_right_conductor = (eq_7_Ex_r_subs2.rhs())\n",
    "Ex_vacuum          = (eq_5_subs3.rhs())"
   ]
  },
  {
   "cell_type": "code",
   "execution_count": null,
   "metadata": {},
   "outputs": [],
   "source": [
    "Dx_left_conductor  = Ex_left_conductor * epsilon_l_complex\n",
    "Dx_right_conductor = Ex_right_conductor * epsilon_r_complex\n",
    "Dx_vacuum          = Ex_vacuum"
   ]
  },
  {
   "cell_type": "code",
   "execution_count": null,
   "metadata": {},
   "outputs": [],
   "source": [
    "disp(Dx_right_conductor)"
   ]
  },
  {
   "cell_type": "code",
   "execution_count": null,
   "metadata": {},
   "outputs": [],
   "source": [
    "Ex_left_conductor_subs  = Ex_left_conductor.subs(K_left_conductor_subs_d).subs(kappa_vacuum_sol).subs(kappa_l_sol).subs(k_z_sol)\n",
    "Ex_right_conductor_subs = Ex_right_conductor.subs(K_right_conductor_subs_d).subs(kappa_vacuum_sol).subs(kappa_r_sol).subs(k_z_sol)\n",
    "Ex_vacuum_subs          = Ex_vacuum       .subs(K_vacuum_subs_d)   .subs(kappa_vacuum_sol).subs(kappa_l_sol).subs(k_z_sol)"
   ]
  },
  {
   "cell_type": "code",
   "execution_count": null,
   "metadata": {},
   "outputs": [],
   "source": [
    "Dx_left_conductor_subs  = Ex_left_conductor_subs * epsilon_l_complex\n",
    "Dx_right_conductor_subs = Ex_right_conductor_subs * epsilon_r_complex\n",
    "Dx_vacuum_subs          = Ex_vacuum_subs"
   ]
  },
  {
   "cell_type": "code",
   "execution_count": null,
   "metadata": {},
   "outputs": [],
   "source": []
  },
  {
   "cell_type": "raw",
   "metadata": {},
   "source": [
    "Hy_left_conductor  = c * (eq_8_l_subs3.rhs()*kappa_l    / (mu_l  *omega))\n",
    "Hy_right_conductor = c * (eq_8_r_subs3.rhs()*kappa_r    / (mu_r  *omega))\n",
    "Hy_vacuum          = c * (eq_6_subs3.rhs()*kappa_vacuum / (mu_0*omega))"
   ]
  },
  {
   "cell_type": "code",
   "execution_count": null,
   "metadata": {},
   "outputs": [],
   "source": [
    "Hy_left_conductor_subs  = Hy_left_conductor .subs(K_left_conductor_subs_d).subs(kappa_vacuum_sol).subs(kappa_l_sol).subs(k_z_sol)\n",
    "Hy_right_conductor_subs = Hy_right_conductor.subs(K_right_conductor_subs_d).subs(kappa_vacuum_sol).subs(kappa_r_sol).subs(k_z_sol)\n",
    "Hy_vacuum_subs          = Hy_vacuum         .subs(K_vacuum_subs_d)   .subs(kappa_vacuum_sol).subs(kappa_l_sol).subs(k_z_sol)"
   ]
  },
  {
   "cell_type": "code",
   "execution_count": null,
   "metadata": {},
   "outputs": [],
   "source": [
    "Ex_left_conductor_d  = Ex_left_conductor_subs .subs(digit_values).subs([B1_zl_re_im_subs]).subs(coeffs_subs)\n",
    "Ex_right_conductor_d = Ex_right_conductor_subs.subs(digit_values).subs([B1_zr_re_im_subs]).subs(coeffs_subs)\n",
    "Ex_vacuum_d          = Ex_vacuum_subs         .subs(digit_values).subs([A1_z_re_im_subs,A2_z_re_im_subs]).subs(coeffs_subs)"
   ]
  },
  {
   "cell_type": "code",
   "execution_count": null,
   "metadata": {},
   "outputs": [],
   "source": [
    "Dx_left_conductor_d  = Dx_left_conductor_subs .subs(digit_values).subs([B1_zl_re_im_subs]).subs(coeffs_subs)\n",
    "Dx_right_conductor_d = Dx_right_conductor_subs.subs(digit_values).subs([B1_zr_re_im_subs]).subs(coeffs_subs)\n",
    "Dx_vacuum_d          = Dx_vacuum_subs         .subs(digit_values).subs([A1_z_re_im_subs, A2_z_re_im_subs]).subs(coeffs_subs)"
   ]
  },
  {
   "cell_type": "code",
   "execution_count": null,
   "metadata": {},
   "outputs": [],
   "source": []
  },
  {
   "cell_type": "code",
   "execution_count": null,
   "metadata": {},
   "outputs": [],
   "source": [
    "Hy_left_conductor_d  = Hy_left_conductor_subs .subs(digit_values).subs([B1_zl_re_im_subs]).subs(coeffs_subs)\n",
    "Hy_right_conductor_d = Hy_right_conductor_subs.subs(digit_values).subs([B1_zr_re_im_subs]).subs(coeffs_subs)\n",
    "Hy_vacuum_d          = Hy_vacuum_subs         .subs(digit_values).subs([A1_z_re_im_subs,A2_z_re_im_subs]).subs(coeffs_subs)"
   ]
  },
  {
   "cell_type": "code",
   "execution_count": null,
   "metadata": {},
   "outputs": [],
   "source": [
    "K_vacuum_subs"
   ]
  },
  {
   "cell_type": "code",
   "execution_count": null,
   "metadata": {},
   "outputs": [],
   "source": [
    "Ez_vacuum          = E_inner_vacuum_sol_z   .subs(K_vacuum_subs).subs(kappa_vacuum_sol)\n",
    "Ez_left_conductor  = E_left_conductor_sol_z .subs(K_left_conductor_subs).subs(kappa_sol_l)\n",
    "Ez_right_conductor = E_right_conductor_sol_z.subs(K_right_conductor_subs).subs(kappa_sol_r)"
   ]
  },
  {
   "cell_type": "code",
   "execution_count": null,
   "metadata": {},
   "outputs": [],
   "source": [
    "coeffs_subs"
   ]
  },
  {
   "cell_type": "code",
   "execution_count": null,
   "metadata": {},
   "outputs": [],
   "source": [
    "Ez_left_conductor_d  = Ez_left_conductor .subs(k_z_sol).subs(digit_values).subs([B1_zl_re_im_subs]).subs(coeffs_subs)\n",
    "Ez_right_conductor_d = Ez_right_conductor.subs(k_z_sol).subs(digit_values).subs([B1_zr_re_im_subs]).subs(coeffs_subs)\n",
    "Ez_vacuum_d          = Ez_vacuum         .subs(k_z_sol).subs(digit_values).subs([A1_z_re_im_subs,A2_z_re_im_subs]).subs(coeffs_subs)"
   ]
  },
  {
   "cell_type": "code",
   "execution_count": null,
   "metadata": {},
   "outputs": [],
   "source": [
    "Ez_vacuum_d(x)"
   ]
  },
  {
   "cell_type": "code",
   "execution_count": null,
   "metadata": {},
   "outputs": [],
   "source": [
    "divE_vacuum = I*k_z * Ez_vacuum_d (x=x) + Ex_vacuum_d (x=x).diff(x)"
   ]
  },
  {
   "cell_type": "code",
   "execution_count": null,
   "metadata": {
    "scrolled": false
   },
   "outputs": [],
   "source": [
    "divE_vacuum_d = divE_vacuum.subs(k_z_sol).subs(digit_values).subs(coeffs_subs)"
   ]
  },
  {
   "cell_type": "code",
   "execution_count": null,
   "metadata": {},
   "outputs": [],
   "source": []
  },
  {
   "cell_type": "code",
   "execution_count": null,
   "metadata": {},
   "outputs": [],
   "source": [
    "divE_left_conductor  = I*k_z * Ez_left_conductor_d (x=x) + Ex_left_conductor_d (x=x).diff(x)\n",
    "divE_right_conductor = I*k_z * Ez_right_conductor_d (x=x) + Ex_right_conductor_d (x=x).diff(x)"
   ]
  },
  {
   "cell_type": "code",
   "execution_count": null,
   "metadata": {
    "scrolled": false
   },
   "outputs": [],
   "source": [
    "divE_left_conductor_d  = divE_left_conductor .subs(K_left_conductor_subs) .subs(kappa_sol_l).subs(k_z_sol).subs(digit_values).subs(coeffs_subs)\n",
    "divE_right_conductor_d = divE_right_conductor.subs(K_right_conductor_subs).subs(kappa_sol_r).subs(k_z_sol).subs(digit_values).subs(coeffs_subs)"
   ]
  },
  {
   "cell_type": "raw",
   "metadata": {},
   "source": []
  },
  {
   "cell_type": "code",
   "execution_count": null,
   "metadata": {},
   "outputs": [],
   "source": [
    "h_conductor = 0.1*A"
   ]
  },
  {
   "cell_type": "code",
   "execution_count": null,
   "metadata": {},
   "outputs": [],
   "source": [
    "Ez_vacuum_d"
   ]
  },
  {
   "cell_type": "code",
   "execution_count": null,
   "metadata": {},
   "outputs": [],
   "source": [
    "pl  = plot(Ez_left_conductor_d(x=x).real(), (x, -A-h_conductor, -A))\n",
    "pl += plot(Ez_vacuum_d.real(), (x, -A, A))\n",
    "pl += plot(Ez_right_conductor_d.real(), (x, A, A+h_conductor))\n",
    "pl.show(title=\"График Re тангенциальной компоненты электрического поля\")"
   ]
  },
  {
   "cell_type": "code",
   "execution_count": null,
   "metadata": {},
   "outputs": [],
   "source": [
    "pl  = plot(Ez_left_conductor_d.imag(), (x, -A-h_conductor, -A))\n",
    "pl += plot(Ez_vacuum_d.imag(), (x, -A, A))\n",
    "pl += plot(Ez_right_conductor_d.imag(), (x, A, A+h_conductor))\n",
    "pl.show(title=\"График Im тангенциальной компоненты электрического поля\")"
   ]
  },
  {
   "cell_type": "code",
   "execution_count": null,
   "metadata": {},
   "outputs": [],
   "source": [
    "disp(Ez_right_conductor)"
   ]
  },
  {
   "cell_type": "code",
   "execution_count": null,
   "metadata": {},
   "outputs": [],
   "source": [
    "disp(Ez_vacuum)"
   ]
  },
  {
   "cell_type": "code",
   "execution_count": null,
   "metadata": {},
   "outputs": [],
   "source": [
    "pl  = plot(Ez_left_conductor_d.imag(), (x, -A-A, -A))\n",
    "pl += plot(Ez_vacuum_d.imag(), (x, -A, A))\n",
    "pl += plot(Ez_right_conductor_d.imag(), (x, A, A+A))\n",
    "pl.show(title=\"График Im тангенциальной компоненты электрического поля\")"
   ]
  },
  {
   "cell_type": "code",
   "execution_count": null,
   "metadata": {},
   "outputs": [],
   "source": [
    "pl =  plot(Ez_left_conductor_d.abs(), (x, -A-h_conductor, -A))\n",
    "pl += plot(Ez_vacuum_d.abs(), (x, -A, A))\n",
    "pl += plot(Ez_right_conductor_d.abs(), (x, A, A+h_conductor))\n",
    "pl.show(title=\"График Abs тангенциальной компоненты электрического поля\")"
   ]
  },
  {
   "cell_type": "code",
   "execution_count": null,
   "metadata": {},
   "outputs": [],
   "source": [
    "pl  = plot(arg(Ez_left_conductor_d(x=x))/pi, (x, -h_conductor-A, -A))\n",
    "pl += plot(arg(Ez_vacuum_d(x=x))/pi, (x, -A, A))\n",
    "pl += plot(arg(Ez_right_conductor_d(x=x))/pi, (x, A, A+h_conductor))\n",
    "pl.show(title=\"График Arg тангенциальной компоненты электрического поля\")"
   ]
  },
  {
   "cell_type": "code",
   "execution_count": null,
   "metadata": {},
   "outputs": [],
   "source": []
  },
  {
   "cell_type": "code",
   "execution_count": null,
   "metadata": {},
   "outputs": [],
   "source": [
    "pl  = plot((Ex_left_conductor_d * epsilon_l_complex).subs(digit_values).real(), (x, -A-h_conductor, -A))\n",
    "pl += plot(Ex_vacuum_d.real(), (x, -A, A))\n",
    "pl += plot((Ex_right_conductor_d * epsilon_r_complex).subs(digit_values).real(), (x, A, A+h_conductor))\n",
    "pl.show(title=\"График Re нормальной компоненты электрического смещения\")"
   ]
  },
  {
   "cell_type": "code",
   "execution_count": null,
   "metadata": {},
   "outputs": [],
   "source": [
    "pl  = plot((Ex_left_conductor_d * epsilon_l_complex).subs(digit_values).imag(), (x, -h_conductor-A, -A))\n",
    "pl += plot(Ex_vacuum_d.imag(), (x, -A, A))\n",
    "pl += plot((Ex_right_conductor_d * epsilon_r_complex).subs(digit_values).imag(), (x, A, A+h_conductor))\n",
    "pl.show(title=\"График Im нормальной компоненты электрического смещения\")"
   ]
  },
  {
   "cell_type": "code",
   "execution_count": null,
   "metadata": {},
   "outputs": [],
   "source": [
    "pl  = plot((Ex_left_conductor_d * epsilon_l_complex).subs(digit_values).abs(), (x, -h_conductor-A, -A))\n",
    "pl += plot(Ex_vacuum_d.abs(), (x, -A, A))\n",
    "pl += plot((Ex_right_conductor_d * epsilon_r_complex).subs(digit_values).abs(), (x, A, A+h_conductor))\n",
    "pl.show(title=\"График Abs нормальной компоненты электрического смещения\")"
   ]
  },
  {
   "cell_type": "code",
   "execution_count": null,
   "metadata": {},
   "outputs": [],
   "source": [
    "pl  = plot(arg((Ex_left_conductor_d * epsilon_l_complex).subs(digit_values))/pi, (x, -h_conductor-A, -A))\n",
    "pl += plot(arg(Ex_vacuum_d)/pi, (x, -A, A))\n",
    "pl += plot(arg((Ex_right_conductor_d * epsilon_r_complex).subs(digit_values))/pi, (x, A, A+h_conductor))\n",
    "pl.show(title=\"График Arg нормальной компоненты электрического смещения\")"
   ]
  },
  {
   "cell_type": "code",
   "execution_count": null,
   "metadata": {},
   "outputs": [],
   "source": [
    "pl  = plot(Hy_left_conductor_d.real(), (x, -h_conductor-A, -A))\n",
    "pl += plot(Hy_vacuum_d.real(), (x, -A, A))\n",
    "pl += plot(Hy_right_conductor_d.real(), (x, A, A+h_conductor))\n",
    "pl.show(title=\"График Re тангенциальной компоненты напряженности магнитного поля H\")"
   ]
  },
  {
   "cell_type": "code",
   "execution_count": null,
   "metadata": {},
   "outputs": [],
   "source": [
    "pl  = plot(Hy_left_conductor_d.imag(), (x, -h_conductor-A, -A))\n",
    "pl += plot(Hy_vacuum_d.imag(), (x, -A, A))\n",
    "pl += plot(Hy_right_conductor_d.imag(), (x, A, A+h_conductor))\n",
    "pl.show(title=\"График Im тангенциальной компоненты напряженности магнитного поля H\")"
   ]
  },
  {
   "cell_type": "code",
   "execution_count": null,
   "metadata": {},
   "outputs": [],
   "source": [
    "pl  = plot(Hy_left_conductor_d.abs(), (x, -h_conductor-A, -A))\n",
    "pl += plot(Hy_vacuum_d.abs(), (x, -A, A))\n",
    "pl += plot(Hy_right_conductor_d.abs(), (x, A, A+h_conductor))\n",
    "pl.show(title=\"График Abs тангенциальной компоненты напряженности магнитного поля H\")"
   ]
  },
  {
   "cell_type": "code",
   "execution_count": null,
   "metadata": {},
   "outputs": [],
   "source": [
    "Ez_vacuum"
   ]
  },
  {
   "cell_type": "code",
   "execution_count": null,
   "metadata": {},
   "outputs": [],
   "source": [
    "pl  = plot(arg(Hy_left_conductor_d)/pi, (x, -h_conductor-A, -A))\n",
    "pl += plot(arg(Hy_vacuum_d)/pi, (x, -A, A))\n",
    "pl += plot(arg(Hy_right_conductor_d)/pi, (x, A, A+h_conductor))\n",
    "pl.show(title=\"График Arg тангенциальной компоненты напряженности магнитного поля H\")"
   ]
  },
  {
   "cell_type": "code",
   "execution_count": null,
   "metadata": {},
   "outputs": [],
   "source": [
    "Ez_left_conductor"
   ]
  },
  {
   "cell_type": "code",
   "execution_count": null,
   "metadata": {},
   "outputs": [],
   "source": []
  },
  {
   "cell_type": "code",
   "execution_count": null,
   "metadata": {},
   "outputs": [],
   "source": [
    "pl  = plot(arg(Hy_left_conductor_d)/pi  - arg(Ez_left_conductor_d(x=x))/pi, (x, -h_conductor-A, -A))\n",
    "pl += plot(arg(Hy_vacuum_d)/pi          - arg(Ez_vacuum_d(x=x))/pi, (x, -A, A))\n",
    "pl += plot(arg(Hy_right_conductor_d)/pi - arg(Ez_right_conductor_d(x=x))/pi, (x, A, A+h_conductor))\n",
    "pl.show(title=\"График delta Arg тангенциальных компонент H и E\")"
   ]
  },
  {
   "cell_type": "code",
   "execution_count": null,
   "metadata": {},
   "outputs": [],
   "source": []
  },
  {
   "cell_type": "markdown",
   "metadata": {},
   "source": [
    "Решение получено.\n",
    "\n",
    "Теперь посчитаем:\n",
    "\n",
    "1) пондеромоторную силу, приложенную к идеальному проводнику\n",
    "\n",
    "2) пондеромоторную силу, приложенную к границе диэлектрика и вакуума\n"
   ]
  },
  {
   "cell_type": "code",
   "execution_count": null,
   "metadata": {},
   "outputs": [],
   "source": []
  },
  {
   "cell_type": "markdown",
   "metadata": {},
   "source": [
    "1) пондеромоторная сила, приложенная к идеальному проводнику"
   ]
  },
  {
   "cell_type": "code",
   "execution_count": null,
   "metadata": {},
   "outputs": [],
   "source": [
    "# superconductor force\n",
    "# additional 1/2 arises as result of integration on period\n",
    "#f_superconductor = - abs((even_H_inner_vacuum_y (0)^2) / (2*8*pi))\n",
    "f_left_conductor = - (Hy_vacuum_d (x=-A).real()^2 + Hy_vacuum_d (x=-A).imag()^2) / (2*8*pi)\n",
    "print(\"f_left_conductor =\", f_left_conductor.n())"
   ]
  },
  {
   "cell_type": "markdown",
   "metadata": {},
   "source": [
    "2) пондеромоторная сила, приложенная к плохому проводнику"
   ]
  },
  {
   "cell_type": "code",
   "execution_count": null,
   "metadata": {},
   "outputs": [],
   "source": [
    "# bad conductor force\n",
    "# additional 1/2 arises as result of integration on period\n",
    "#f_bad_conductor = abs((even_H_inner_vacuum_y (a)^2) / (2*8*pi))\n",
    "f_right_conductor = (Hy_vacuum_d (x=0).real()^2 + Hy_vacuum_d (x=0).imag()^2) / (2*8*pi)\n",
    "\n",
    "print(\"f_right_conductor =\", f_right_conductor.n())"
   ]
  },
  {
   "cell_type": "code",
   "execution_count": null,
   "metadata": {},
   "outputs": [],
   "source": []
  },
  {
   "cell_type": "code",
   "execution_count": null,
   "metadata": {},
   "outputs": [],
   "source": [
    "(f_left_conductor + f_right_conductor).n()"
   ]
  },
  {
   "cell_type": "code",
   "execution_count": null,
   "metadata": {},
   "outputs": [],
   "source": []
  },
  {
   "cell_type": "code",
   "execution_count": null,
   "metadata": {},
   "outputs": [],
   "source": [
    "# Static and dynamic electricity by William R. Smythe, second edition, 1950\n",
    "# paragraph 18 formula 1.47\n",
    "# давление на границу равно разности давлений по обе стороны от нее\n",
    "# $$ P_n = \\frac{1}{2} \\epsilon'{{E'}_t}^2 - \\frac{1}{2} \\epsilon''{{E''}_t}^2 $$"
   ]
  },
  {
   "cell_type": "markdown",
   "metadata": {},
   "source": [
    "$$ P_n = \\frac{1}{2} \\epsilon'{{E'}_t}^2 - \\frac{1}{2} \\epsilon''{{E''}_t}^2 $$"
   ]
  },
  {
   "cell_type": "code",
   "execution_count": null,
   "metadata": {},
   "outputs": [],
   "source": [
    "# bad conductor force\n",
    "# additional 1/2 arises as result of integration on period\n",
    "p_left_conductor = -(((epsilon_l_complex - 1.0)*Ez_vacuum_d(x=-A))*Ez_vacuum_d(x=-A)/(2*8*pi)).subs(digit_values).abs()\n",
    "print(\"p_left_conductor =\", p_left_conductor.n())"
   ]
  },
  {
   "cell_type": "code",
   "execution_count": null,
   "metadata": {},
   "outputs": [],
   "source": [
    "# bad conductor force\n",
    "# additional 1/2 arises as result of integration on period\n",
    "p_right_conductor = (((1.0 - epsilon_r_complex)*Ez_vacuum_d(x=0))*Ez_vacuum_d(x=0)/(2*8*pi)).subs(digit_values).abs()\n",
    "print(\"p_right_conductor =\", p_right_conductor.n())"
   ]
  },
  {
   "cell_type": "code",
   "execution_count": null,
   "metadata": {},
   "outputs": [],
   "source": [
    "# Static and dynamic electricity by William R. Smythe, second edition, 1950\n",
    "# paragraph 18 formula 1.45\n",
    "# натяжение на границе, созданное нормальными компонентами индукции\n",
    "# должно равняться разности натяжений по обе стороны от границы\n",
    "# $$ T_n = \\frac{{{D'}_n}^2}{2 \\epsilon'} - \\frac{{{D''}_n}^2}{2 \\epsilon''} $$"
   ]
  },
  {
   "cell_type": "markdown",
   "metadata": {},
   "source": [
    "$$ T_n = \\frac{{{D'}_n}^2}{2 \\epsilon'} - \\frac{{{D''}_n}^2}{2 \\epsilon''} $$"
   ]
  },
  {
   "cell_type": "code",
   "execution_count": null,
   "metadata": {},
   "outputs": [],
   "source": [
    "disp(Ez_right_conductor)"
   ]
  },
  {
   "cell_type": "code",
   "execution_count": null,
   "metadata": {
    "scrolled": true
   },
   "outputs": [],
   "source": [
    "# super conductor tension\n",
    "# additional 1/2 arises as result of integration on period\n",
    "# epsilon_superconductor -> Infinity\n",
    "# 1 / epsilon_superconductor -> 0.0\n",
    "\n",
    "t_left_conductor = -(((1/epsilon_l_complex - 1/1.)*(Dx_vacuum_d (x=-A)))*Dx_vacuum_d(x=-A)/(2*8*pi)).subs(digit_values).abs() \n",
    "print(\"t_left_conductor =\", t_left_conductor.n())"
   ]
  },
  {
   "cell_type": "code",
   "execution_count": null,
   "metadata": {},
   "outputs": [],
   "source": [
    "# bad conductor force\n",
    "# additional 1/2 arises as result of integration on period\n",
    "t_right_conductor = (((1.0/1.0 - 1/epsilon_r_complex)*Dx_vacuum_d (x=0)) * Dx_vacuum_d(x=0)/(2*8*pi)).subs(digit_values).abs()\n",
    "print(\"t_right_conductor =\", t_right_conductor.n())"
   ]
  },
  {
   "cell_type": "code",
   "execution_count": null,
   "metadata": {},
   "outputs": [],
   "source": []
  },
  {
   "cell_type": "markdown",
   "metadata": {},
   "source": [
    "Результаты вычислений показывают, что тяга в волновом двигателе с внутренним расходом энергии Ф.Ф.Менде (MenDrive) ненулевая и равна"
   ]
  },
  {
   "cell_type": "code",
   "execution_count": null,
   "metadata": {},
   "outputs": [],
   "source": [
    "(f_left_conductor + f_right_conductor + t_left_conductor + t_right_conductor).n()"
   ]
  },
  {
   "cell_type": "code",
   "execution_count": null,
   "metadata": {},
   "outputs": [],
   "source": [
    "(f_left_conductor + f_right_conductor + t_left_conductor + t_right_conductor - p_left_conductor - p_right_conductor).n()"
   ]
  },
  {
   "cell_type": "code",
   "execution_count": null,
   "metadata": {},
   "outputs": [],
   "source": [
    "k_z_root[0] = k_z_root[0]\n",
    "k_z_root[1] = k_z_root[1]"
   ]
  },
  {
   "cell_type": "code",
   "execution_count": null,
   "metadata": {},
   "outputs": [],
   "source": [
    "# H^2/8 pi"
   ]
  },
  {
   "cell_type": "code",
   "execution_count": null,
   "metadata": {},
   "outputs": [],
   "source": [
    "(f_left_conductor + f_right_conductor).n()"
   ]
  },
  {
   "cell_type": "code",
   "execution_count": null,
   "metadata": {},
   "outputs": [],
   "source": [
    "(t_left_conductor + t_right_conductor).n()"
   ]
  },
  {
   "cell_type": "code",
   "execution_count": null,
   "metadata": {},
   "outputs": [],
   "source": [
    "(- p_left_conductor - p_right_conductor).n()"
   ]
  },
  {
   "cell_type": "code",
   "execution_count": null,
   "metadata": {},
   "outputs": [],
   "source": []
  },
  {
   "cell_type": "code",
   "execution_count": null,
   "metadata": {},
   "outputs": [],
   "source": [
    "field_energy = (A1_z_re^2 + A1_z_im^2).subs(coeffs_subs)\n",
    "field_energy"
   ]
  },
  {
   "cell_type": "code",
   "execution_count": null,
   "metadata": {},
   "outputs": [],
   "source": []
  },
  {
   "cell_type": "code",
   "execution_count": null,
   "metadata": {},
   "outputs": [],
   "source": [
    "(f_left_conductor + f_right_conductor).n()/(field_energy)"
   ]
  },
  {
   "cell_type": "code",
   "execution_count": null,
   "metadata": {},
   "outputs": [],
   "source": [
    "(t_left_conductor + t_right_conductor).n()/(field_energy)"
   ]
  },
  {
   "cell_type": "code",
   "execution_count": null,
   "metadata": {},
   "outputs": [],
   "source": [
    "(- p_left_conductor - p_right_conductor).n()/(field_energy)"
   ]
  },
  {
   "cell_type": "code",
   "execution_count": null,
   "metadata": {},
   "outputs": [],
   "source": [
    "(+ f_left_conductor + f_right_conductor \\\n",
    " + t_left_conductor + t_right_conductor \\\n",
    " - p_left_conductor - p_right_conductor).n()/(field_energy)"
   ]
  },
  {
   "cell_type": "code",
   "execution_count": null,
   "metadata": {},
   "outputs": [],
   "source": []
  },
  {
   "cell_type": "code",
   "execution_count": null,
   "metadata": {},
   "outputs": [],
   "source": [
    "#мощность выделения тепла в единице объёма\n",
    "#https://ru.wikipedia.org/wiki/%D0%97%D0%B0%D0%BA%D0%BE%D0%BD_%D0%94%D0%B6%D0%BE%D1%83%D0%BB%D1%8F_%E2%80%94_%D0%9B%D0%B5%D0%BD%D1%86%D0%B0\n",
    "# https://en.wikipedia.org/wiki/Joule_heating\n",
    "# additional 1/2 arises as result of integration on period\n",
    "# dPdV = E^2*sigma / 2\n",
    "# dPdS = integrate(E^2*sigma / 2, x)"
   ]
  },
  {
   "cell_type": "code",
   "execution_count": null,
   "metadata": {},
   "outputs": [],
   "source": [
    "wr = lambda x : sigma_r_d * (Ez_right_conductor_d(x=x).abs()^2 + Ex_right_conductor_d(x=x).abs()^2)"
   ]
  },
  {
   "cell_type": "code",
   "execution_count": null,
   "metadata": {},
   "outputs": [],
   "source": [
    "wrz = lambda x : sigma_r_d * Ez_right_conductor_d(x=x).abs()^2"
   ]
  },
  {
   "cell_type": "code",
   "execution_count": null,
   "metadata": {},
   "outputs": [],
   "source": [
    "wrx = lambda x : sigma_r_d * Ex_right_conductor_d(x=x).abs()^2"
   ]
  },
  {
   "cell_type": "code",
   "execution_count": null,
   "metadata": {},
   "outputs": [],
   "source": [
    "wl = lambda x : sigma_l_d * (Ez_left_conductor_d(x=x).abs()^2 + Ex_left_conductor_d(x=x).abs()^2)"
   ]
  },
  {
   "cell_type": "raw",
   "metadata": {},
   "source": [
    "from scipy import integrate as scipy_integrate\n",
    "w_r = scipy_integrate.quad(wr, 0, +Infinity)\n",
    "w_r\n",
    "\n",
    "#IntegrationWarning: The occurrence of roundoff error is detected, which prevents \n",
    "#  the requested tolerance from being achieved.  The error may be \n",
    "#  underestimated."
   ]
  },
  {
   "cell_type": "raw",
   "metadata": {},
   "source": [
    "from scipy import integrate as scipy_integrate\n",
    "w_rz = scipy_integrate.quad(wrz, 0, +Infinity)\n",
    "w_rz\n",
    "\n",
    "#IntegrationWarning: The occurrence of roundoff error is detected, which prevents \n",
    "#  the requested tolerance from being achieved.  The error may be \n",
    "#  underestimated."
   ]
  },
  {
   "cell_type": "code",
   "execution_count": null,
   "metadata": {},
   "outputs": [],
   "source": [
    "from scipy import integrate as scipy_integrate\n",
    "w_rx = scipy_integrate.quad(wrx, 0, +Infinity)\n",
    "w_rx"
   ]
  },
  {
   "cell_type": "code",
   "execution_count": null,
   "metadata": {},
   "outputs": [],
   "source": [
    "w_l = scipy_integrate.quad(wl, -Infinity, -h_conductor-A)\n",
    "w_l"
   ]
  },
  {
   "cell_type": "code",
   "execution_count": null,
   "metadata": {},
   "outputs": [],
   "source": [
    "W_l = w_l[0]\n",
    "W_l"
   ]
  },
  {
   "cell_type": "code",
   "execution_count": null,
   "metadata": {},
   "outputs": [],
   "source": [
    "W_r = integrate(sigma_r_d * (Ez_right_conductor_d(x=x).abs()^2 + Ex_right_conductor_d(x=x).abs()^2), (x, 0, +Infinity), algorithm = 'sympy').n()\n",
    "W_r"
   ]
  },
  {
   "cell_type": "raw",
   "metadata": {},
   "source": [
    "W_l = integrate(sigma_l_d * (Ez_left_conductor_d(x=x).abs()^2 + Ex_left_conductor_d(x=x).abs()^2), (x, -Infinity, -h_conductor-A), algorithm = 'sympy'  )\n",
    "# too long time\n",
    "W_l"
   ]
  },
  {
   "cell_type": "code",
   "execution_count": null,
   "metadata": {},
   "outputs": [],
   "source": [
    "W = W_r + W_l\n",
    "W"
   ]
  },
  {
   "cell_type": "code",
   "execution_count": null,
   "metadata": {},
   "outputs": [],
   "source": [
    "# F / P\n",
    "# dyne / (erg/s)\n",
    "\n",
    "# 1 erg  = 10^-7 joule\n",
    "# 1 dyne = 10^-5 N\n",
    "\n",
    "# 1 dyne / (erg/s) = 10^-5 / (10^-7) = 100 N/watt"
   ]
  },
  {
   "cell_type": "code",
   "execution_count": null,
   "metadata": {},
   "outputs": [],
   "source": [
    "(f_left_conductor + f_right_conductor).n()/(W)"
   ]
  },
  {
   "cell_type": "code",
   "execution_count": null,
   "metadata": {},
   "outputs": [],
   "source": [
    "(t_left_conductor + t_right_conductor).n()/(W)"
   ]
  },
  {
   "cell_type": "code",
   "execution_count": null,
   "metadata": {},
   "outputs": [],
   "source": [
    "(- p_left_conductor - p_right_conductor).n()/(W)"
   ]
  },
  {
   "cell_type": "code",
   "execution_count": null,
   "metadata": {},
   "outputs": [],
   "source": [
    "# N/watt"
   ]
  },
  {
   "cell_type": "code",
   "execution_count": null,
   "metadata": {},
   "outputs": [],
   "source": [
    "100*(+ f_left_conductor + f_right_conductor \\\n",
    " + t_left_conductor + t_right_conductor \\\n",
    " - p_left_conductor - p_right_conductor).n()/(W)"
   ]
  },
  {
   "cell_type": "code",
   "execution_count": null,
   "metadata": {},
   "outputs": [],
   "source": [
    "# N/kwatt"
   ]
  },
  {
   "cell_type": "code",
   "execution_count": null,
   "metadata": {},
   "outputs": [],
   "source": [
    "10^5*(+ f_left_conductor + f_right_conductor \\\n",
    " + t_left_conductor + t_right_conductor \\\n",
    " - p_left_conductor - p_right_conductor).n()/(W)"
   ]
  },
  {
   "cell_type": "markdown",
   "metadata": {},
   "source": [
    "положительный знак соответствует направлению тяги в сторону увеличения значений x"
   ]
  },
  {
   "cell_type": "code",
   "execution_count": null,
   "metadata": {},
   "outputs": [],
   "source": [
    "#Propulsion and Energy Forum\n",
    "#July 28-30, 2014, Cleveland, OH\n",
    "#50th AIAA/ASME/SAE/ASEE Joint Propulsion Conference\n",
    "#Anomalous Thrust Production from an RF Test Device\n",
    "#Measured on a Low-Thrust Torsion Pendulum\n",
    "#David A. Brady * , Harold G. White † , Paul March ‡ , James T. Lawrence § , and Frank J. Davies **\n",
    "#NASA Lyndon B. Johnson Space Center, Houston, Texas 77058\n",
    "\n",
    "\n",
    "#Tapered Cavity RF Evaluation and Testing, TE012 mode\n",
    "#Prior to the TM211 evaluations, COMSOL® analysis indicated that the TE012 was an effective thrust generation\n",
    "#mode for the tapered cavity thruster being evaluated, so this mode was explored early in the evaluation process.\n",
    "#Figure 22 shows a test run at the TE012 mode with an operating frequency of 1880.4 MHz. The measured quality\n",
    "#factor was ~22,000, with a COMSOL prediction of 21,817. The measured power applied to the test article was\n",
    "#measured to be 2.6 watts, and the (net) measured thrust was 55.4 micronewtons. With an input power of 2.6 watts,\n",
    "#correcting for the quality factor, the predicted thrust is 50 micronewtons. However, since the TE012 mode had\n",
    "#numerous other RF modes in very close proximity, it was impractical to repeatedly operate the system in this mode,\n",
    "#so the decision was made to evaluate the TM211 modes instead.\n",
    "\n",
    "#E. Tapered Cavity Testing: Summary of Results\n",
    "# Mode \n",
    "# Frequency (MHz)\n",
    "# Quality Factor, Q \n",
    "\n",
    "# Input Power (W) \n",
    "# Peak Thrust (μN) \n",
    "# Mean Thrust (μN) \n",
    "# Number of Test Runs\n",
    "# TM211 1932.6   7320  16.9  116.0   91.2  5\n",
    "# TM211 1936.7 18,100  16.7   54.1   50.1  2\n",
    "# TE012 1880.4 22,000   2.6   55.4   55.4  1\n",
    "\n",
    "# Harrington, Roger F. (1961). Time-Harmonic Electromagnetic Fields. McGraw-Hill. ISBN 9780070267459.\n",
    "\n",
    "# EEE TRANSACTIONS ON MICROWAVE THEORY AND TECHNIQUES, VOL. 54, NO. 4, APRIL 2006\n",
    "# Two-Resonator Method for Measurement of Dielectric Anisotropy in Multilayer SamplesPlamen I. Dankov, Member, IEEE\n",
    "# https://www.researchgate.net/publication/3131333_Two-resonator_method_for_measurement_of_dielectric_anisotropy_in_multilayer_samples"
   ]
  },
  {
   "cell_type": "code",
   "execution_count": null,
   "metadata": {},
   "outputs": [],
   "source": [
    "# they have obtained\n",
    "# 0,005396449704142\n",
    "# 0,003\n",
    "# 0,0213076923076923\n",
    "# N/kwatt"
   ]
  },
  {
   "cell_type": "code",
   "execution_count": null,
   "metadata": {},
   "outputs": [],
   "source": [
    "# test found solution with Maxwell equations"
   ]
  },
  {
   "cell_type": "markdown",
   "metadata": {},
   "source": [
    "$$rot\\,\\vec{E} = \\mu\\,\\frac{i\\,\\omega}{c}\\,\\vec{H}$$\n",
    "\n",
    "$$rot\\,\\vec{H} = \\frac{1}{c}\\frac{\\partial \\vec D}{\\partial t} + \\frac{4\\pi}{c} \\vec j = - \\frac{i\\,\\omega}{c} \\epsilon \\vec{E} + \\frac{4\\pi}{c}\\sigma \\vec E$$\n",
    "\n",
    "$$rot\\,rot\\,\\vec{E} = \\mu\\,\\frac{i\\,\\omega}{c}rot\\,\\vec{H}$$\n",
    "\n",
    "$$rot\\,rot\\,\\vec{E} = \\mu\\,\\frac{i\\,\\omega}{c}\\left(- \\frac{i\\,\\omega}{c} \\epsilon \\vec{E} + \\frac{4\\pi}{c}\\sigma \\vec E\\right)$$\n",
    "\n",
    "$$rot\\,rot\\,\\vec{E} = \\epsilon \\mu\\,\\frac{\\omega^2}{c^2} \\vec{E} + i\\,\\omega\\,\\sigma\\,\\mu\\,\\frac{4\\pi}{c^2} \\vec E$$\n",
    "\n",
    "$$rot\\,rot\\,\\vec{E} = grad\\,div\\,\\vec{E} - Laplasian\\,\\vec{E}$$\n",
    "\n",
    "$$Laplasian\\,\\vec{E} + \\epsilon \\mu \\frac{\\omega^2}{c^2}\\,\\vec{E} + i\\,\\omega\\,\\sigma\\,\\mu\\,\\frac{4\\pi}{c^2} \\vec E - grad\\,div\\,\\vec{E} = 0$$"
   ]
  },
  {
   "cell_type": "code",
   "execution_count": null,
   "metadata": {},
   "outputs": [],
   "source": [
    "# уравнение Максвелла для тока смещения\n",
    "# rot_H   = - I * epsilon * omega / c * E\n",
    "# rot_H_x = diff(H_z, y) - diff(H_y, z)\n",
    "# rot_H_y = diff(H_x, z) - diff(H_z, x)\n",
    "# rot_H_z = diff(H_y, x) - diff(H_x, y)"
   ]
  },
  {
   "cell_type": "code",
   "execution_count": null,
   "metadata": {},
   "outputs": [],
   "source": [
    "rot_H_vacuum_x_d = - diff(Hy_vacuum_d(x=x)*e^(I*k_z*z), z).subs(k_z == kz + I * sz).subs(k_z_sol)\n",
    "rot_H_vacuum_y_d =   0\n",
    "rot_H_vacuum_z_d =   diff(Hy_vacuum_d(x=x)*e^(I*k_z*z), x).subs(k_z == kz + I * sz).subs(k_z_sol)"
   ]
  },
  {
   "cell_type": "code",
   "execution_count": null,
   "metadata": {},
   "outputs": [],
   "source": [
    "eq_rot_H_vacuum_x_d = rot_H_vacuum_x_d == \\\n",
    "(-I*omega/c*Ex_vacuum_d(x=x)*e^(I*k_z*z)).subs(k_z==kz+I*sz).subs(k_z_sol).subs(digit_values)"
   ]
  },
  {
   "cell_type": "code",
   "execution_count": null,
   "metadata": {},
   "outputs": [],
   "source": [
    "eq_rot_H_vacuum_z_d = rot_H_vacuum_z_d == \\\n",
    "(-I*omega/c*Ez_vacuum_d(x=x)*e^(I*k_z*z)).subs(k_z==kz+I*sz).subs(k_z_sol).subs(digit_values)"
   ]
  },
  {
   "cell_type": "code",
   "execution_count": null,
   "metadata": {},
   "outputs": [],
   "source": []
  },
  {
   "cell_type": "code",
   "execution_count": null,
   "metadata": {},
   "outputs": [],
   "source": [
    "(eq_rot_H_vacuum_x_d.rhs() / eq_rot_H_vacuum_x_d.lhs())"
   ]
  },
  {
   "cell_type": "code",
   "execution_count": null,
   "metadata": {},
   "outputs": [],
   "source": [
    "(eq_rot_H_vacuum_x_d.rhs() / eq_rot_H_vacuum_x_d.lhs())"
   ]
  },
  {
   "cell_type": "code",
   "execution_count": null,
   "metadata": {},
   "outputs": [],
   "source": [
    "plot((eq_rot_H_vacuum_z_d.rhs() / eq_rot_H_vacuum_z_d.lhs()).real(), (x, -A, A))"
   ]
  },
  {
   "cell_type": "code",
   "execution_count": null,
   "metadata": {},
   "outputs": [],
   "source": [
    "plt =  plot(eq_rot_H_vacuum_z_d.rhs().real().subs(z == 0), (x, -A, A))\n",
    "plt += plot(eq_rot_H_vacuum_z_d.lhs().real().subs(z == 0), (x, -A, A))\n",
    "plt.show()"
   ]
  },
  {
   "cell_type": "code",
   "execution_count": null,
   "metadata": {},
   "outputs": [],
   "source": [
    "plot((eq_rot_H_vacuum_z_d.rhs() / eq_rot_H_vacuum_z_d.lhs()).imag(), (x, -A, A))"
   ]
  },
  {
   "cell_type": "code",
   "execution_count": null,
   "metadata": {},
   "outputs": [],
   "source": [
    "plt = plot(eq_rot_H_vacuum_z_d.rhs().imag().subs(z == 0), (x, -A, A))\n",
    "plt += plot(eq_rot_H_vacuum_z_d.lhs().imag().subs(z == 0), (x, -A, A))\n",
    "plt.show()"
   ]
  },
  {
   "cell_type": "code",
   "execution_count": null,
   "metadata": {},
   "outputs": [],
   "source": []
  },
  {
   "cell_type": "markdown",
   "metadata": {},
   "source": [
    "$$rot\\,\\vec{H} = \\frac{1}{c}\\frac{\\partial \\vec D}{\\partial t} + \\frac{4\\pi}{c} \\vec j = - \\frac{i\\,\\omega}{c} \\epsilon \\vec{E} + \\frac{4\\pi}{c}\\sigma \\vec E$$"
   ]
  },
  {
   "cell_type": "code",
   "execution_count": null,
   "metadata": {},
   "outputs": [],
   "source": [
    "# уравнение Максвелла для тока смещения\n",
    "# rot_H   = - I * epsilon * omega / c * E + 4 * pi / c * sigma * E\n",
    "# rot_H_x = diff(H_z, y) - diff(H_y, z)\n",
    "# rot_H_y = diff(H_x, z) - diff(H_z, x)\n",
    "# rot_H_z = diff(H_y, x) - diff(H_x, y)"
   ]
  },
  {
   "cell_type": "code",
   "execution_count": null,
   "metadata": {},
   "outputs": [],
   "source": [
    "rot_H_left_conductor_x_d = - diff(Hy_left_conductor_d(x=x)*e^(I*k_z*z), z).subs(k_z == kz + I * sz).subs(k_z_sol)\n",
    "rot_H_left_conductor_y_d =   0\n",
    "rot_H_left_conductor_z_d =   diff(Hy_left_conductor_d(x=x)*e^(I*k_z*z), x).subs(k_z == kz + I * sz).subs(k_z_sol)"
   ]
  },
  {
   "cell_type": "code",
   "execution_count": null,
   "metadata": {},
   "outputs": [],
   "source": [
    "rot_H_right_conductor_x_d = - diff(Hy_right_conductor_d(x=x)*e^(I*k_z*z), z).subs(k_z == kz + I * sz).subs(k_z_sol)\n",
    "rot_H_right_conductor_y_d =   0\n",
    "rot_H_right_conductor_z_d =   diff(Hy_right_conductor_d(x=x)*e^(I*k_z*z), x).subs(k_z == kz + I * sz).subs(k_z_sol)"
   ]
  },
  {
   "cell_type": "raw",
   "metadata": {},
   "source": [
    "Hy_left_conductor  = c * (eq_8_l_subs3.rhs()*kappa_l    / (mu_l  *omega))\n",
    "Hy_right_conductor = c * (eq_8_r_subs3.rhs()*kappa_r    / (mu_r  *omega))\n",
    "Hy_vacuum          = c * (eq_6_subs3.rhs()*kappa_vacuum / (mu_0*omega))"
   ]
  },
  {
   "cell_type": "code",
   "execution_count": null,
   "metadata": {},
   "outputs": [],
   "source": [
    "rot_H_left_conductor_x = - diff(Hy_left_conductor(x=x)*e^(I*k_z*z), z)\n",
    "rot_H_left_conductor_y =   0\n",
    "rot_H_left_conductor_z =   diff(Hy_left_conductor(x=x)*e^(I*k_z*z), x)"
   ]
  },
  {
   "cell_type": "code",
   "execution_count": null,
   "metadata": {},
   "outputs": [],
   "source": [
    "rot_H_right_conductor_x = - diff(Hy_right_conductor(x=x)*e^(I*k_z*z), z)\n",
    "rot_H_right_conductor_y =   0\n",
    "rot_H_right_conductor_z =   diff(Hy_right_conductor(x=x)*e^(I*k_z*z), x)"
   ]
  },
  {
   "cell_type": "code",
   "execution_count": null,
   "metadata": {},
   "outputs": [],
   "source": [
    "eq_rot_H_left_conductor_x_d = rot_H_left_conductor_x_d == \\\n",
    "    ((-I*epsilon_l_complex*omega/c) * Ex_left_conductor_d(x=x)*e^(I*k_z*z)) \\\n",
    "    .subs(k_z == kz + I * sz).subs(k_z_sol).subs(digit_values)"
   ]
  },
  {
   "cell_type": "code",
   "execution_count": null,
   "metadata": {},
   "outputs": [],
   "source": [
    "eq_rot_H_right_conductor_x_d = rot_H_right_conductor_x_d == \\\n",
    "    ((-I*epsilon_r_complex*omega/c) * Ex_right_conductor_d(x=x)*e^(I*k_z*z)) \\\n",
    "    .subs(k_z == kz + I * sz).subs(k_z_sol).subs(digit_values)"
   ]
  },
  {
   "cell_type": "code",
   "execution_count": null,
   "metadata": {},
   "outputs": [],
   "source": [
    "eq_rot_H_left_conductor_z_d = rot_H_left_conductor_z_d == \\\n",
    "    ((-I*epsilon_l_complex*omega/c) * Ez_left_conductor_d(x=x)*e^(I*k_z*z)) \\\n",
    "    .subs(k_z == kz + I * sz).subs(k_z_sol).subs(digit_values)"
   ]
  },
  {
   "cell_type": "code",
   "execution_count": null,
   "metadata": {},
   "outputs": [],
   "source": [
    "eq_rot_H_right_conductor_z_d = rot_H_right_conductor_z_d == \\\n",
    "    ((-I*epsilon_r_complex*omega/c) * Ez_right_conductor_d(x=x)*e^(I*k_z*z)) \\\n",
    "    .subs(k_z == kz + I * sz).subs(k_z_sol).subs(digit_values)"
   ]
  },
  {
   "cell_type": "code",
   "execution_count": null,
   "metadata": {},
   "outputs": [],
   "source": [
    "eq_rot_H_left_conductor_x = rot_H_left_conductor_x == \\\n",
    "((-I*epsilon_l_complex*omega/c) * Ex_left_conductor(x=x)*e^(I*k_z*z))"
   ]
  },
  {
   "cell_type": "code",
   "execution_count": null,
   "metadata": {},
   "outputs": [],
   "source": [
    "eq_rot_H_right_conductor_x = rot_H_right_conductor_x == \\\n",
    "((-I*epsilon_r_complex*omega/c) * Ex_right_conductor(x=x)*e^(I*k_z*z))"
   ]
  },
  {
   "cell_type": "code",
   "execution_count": null,
   "metadata": {},
   "outputs": [],
   "source": []
  },
  {
   "cell_type": "code",
   "execution_count": null,
   "metadata": {},
   "outputs": [],
   "source": [
    "(eq_rot_H_left_conductor_x_d.lhs() / eq_rot_H_left_conductor_x_d.rhs()).n()"
   ]
  },
  {
   "cell_type": "code",
   "execution_count": null,
   "metadata": {},
   "outputs": [],
   "source": [
    "(eq_rot_H_right_conductor_x_d.lhs() / eq_rot_H_right_conductor_x_d.rhs()).n()"
   ]
  },
  {
   "cell_type": "code",
   "execution_count": null,
   "metadata": {},
   "outputs": [],
   "source": [
    "(eq_rot_H_left_conductor_x_d.lhs() / eq_rot_H_left_conductor_x_d.rhs()).abs().n()"
   ]
  },
  {
   "cell_type": "code",
   "execution_count": null,
   "metadata": {},
   "outputs": [],
   "source": [
    "(eq_rot_H_left_conductor_z_d.lhs() / eq_rot_H_left_conductor_z_d.rhs()).n()"
   ]
  },
  {
   "cell_type": "code",
   "execution_count": null,
   "metadata": {},
   "outputs": [],
   "source": [
    "(eq_rot_H_right_conductor_z_d.lhs() / eq_rot_H_right_conductor_z_d.rhs()).n()"
   ]
  },
  {
   "cell_type": "code",
   "execution_count": null,
   "metadata": {},
   "outputs": [],
   "source": []
  },
  {
   "cell_type": "markdown",
   "metadata": {},
   "source": [
    "$$rot\\,\\vec{E} = \\mu\\,\\frac{i\\,\\omega}{c}\\,\\vec{H}$$"
   ]
  },
  {
   "cell_type": "code",
   "execution_count": null,
   "metadata": {},
   "outputs": [],
   "source": [
    "# уравнение Максвелла для\n",
    "# rot_E   = I * mu * omega / c * H\n",
    "# rot_E_x = diff(E_z, y) - diff(E_y, z)\n",
    "# rot_E_y = diff(E_x, z) - diff(E_z, x)\n",
    "# rot_E_z = diff(E_y, x) - diff(E_x, y)"
   ]
  },
  {
   "cell_type": "code",
   "execution_count": null,
   "metadata": {},
   "outputs": [],
   "source": [
    "rot_E_vacuum_x_d = diff(Ez_vacuum_d(x=x)*e^(I*k_z*z), y)\n",
    "rot_E_vacuum_y_d = diff(Ex_vacuum_d(x=x)*e^(I*k_z*z), z) - diff(Ez_vacuum_d(x=x)*e^(I*k_z*z), x)\n",
    "rot_E_vacuum_z_d = - diff(Ex_vacuum_d(x=x)*e^(I*k_z*z), y)"
   ]
  },
  {
   "cell_type": "code",
   "execution_count": null,
   "metadata": {},
   "outputs": [],
   "source": [
    "eq_rot_E_vacuum_x_d = rot_E_vacuum_x_d == \\\n",
    "(I * omega / c * 0)"
   ]
  },
  {
   "cell_type": "code",
   "execution_count": null,
   "metadata": {},
   "outputs": [],
   "source": [
    "eq_rot_E_vacuum_y_d = (rot_E_vacuum_y_d == \\\n",
    "I * omega / c * Hy_vacuum_d(x=x)*e^(I*k_z*z)).subs(k_z == kz + I * sz).subs(k_z_sol).subs(digit_values)"
   ]
  },
  {
   "cell_type": "code",
   "execution_count": null,
   "metadata": {},
   "outputs": [],
   "source": [
    "eq_rot_E_vacuum_z_d = rot_E_vacuum_z_d == \\\n",
    "(I * omega / c * 0)"
   ]
  },
  {
   "cell_type": "code",
   "execution_count": null,
   "metadata": {},
   "outputs": [],
   "source": []
  },
  {
   "cell_type": "code",
   "execution_count": null,
   "metadata": {},
   "outputs": [],
   "source": [
    "(eq_rot_E_vacuum_y_d.rhs() / eq_rot_E_vacuum_y_d.lhs()).variables()"
   ]
  },
  {
   "cell_type": "code",
   "execution_count": null,
   "metadata": {},
   "outputs": [],
   "source": [
    "pl = plot(eq_rot_E_vacuum_y_d.rhs().real().subs(z == 0), (x, -A, 0))\n",
    "pl += plot(eq_rot_E_vacuum_y_d.lhs().real().subs(z == 0), (x, -A, 0))\n",
    "pl.show()"
   ]
  },
  {
   "cell_type": "code",
   "execution_count": null,
   "metadata": {},
   "outputs": [],
   "source": [
    "pl = plot(eq_rot_E_vacuum_y_d.rhs().imag().subs(z == 0), (x, -A, 0))\n",
    "pl += plot(eq_rot_E_vacuum_y_d.lhs().imag().subs(z == 0), (x, -A, 0))\n",
    "pl.show()"
   ]
  },
  {
   "cell_type": "code",
   "execution_count": null,
   "metadata": {},
   "outputs": [],
   "source": [
    "pl = plot(eq_rot_E_vacuum_y_d.rhs().abs().subs(z == 0), (x, -A, 0))\n",
    "pl += plot(eq_rot_E_vacuum_y_d.lhs().abs().subs(z == 0), (x, -A, 0))\n",
    "pl.show()"
   ]
  },
  {
   "cell_type": "code",
   "execution_count": null,
   "metadata": {},
   "outputs": [],
   "source": []
  },
  {
   "cell_type": "code",
   "execution_count": null,
   "metadata": {},
   "outputs": [],
   "source": [
    "# уравнение Максвелла для\n",
    "# rot_E   = I * mu * omega / c * H\n",
    "# rot_E_x = diff(E_z, y) - diff(E_y, z)\n",
    "# rot_E_y = diff(E_x, z) - diff(E_z, x)\n",
    "# rot_E_z = diff(E_y, x) - diff(E_x, y)"
   ]
  },
  {
   "cell_type": "code",
   "execution_count": null,
   "metadata": {},
   "outputs": [],
   "source": [
    "rot_E_left_conductor_x_d = diff(Ez_left_conductor_d(x=x)*e^(I*k_z*z), y)\n",
    "rot_E_left_conductor_y_d = diff(Ex_left_conductor_d(x=x)*e^(I*k_z*z), z) - diff(Ez_left_conductor_d(x=x)*e^(I*k_z*z), x)\n",
    "rot_E_left_conductor_z_d = - diff(Ex_left_conductor_d(x=x)*e^(I*k_z*z), y)"
   ]
  },
  {
   "cell_type": "code",
   "execution_count": null,
   "metadata": {},
   "outputs": [],
   "source": [
    "rot_E_right_conductor_x_d = diff(Ez_right_conductor_d(x=x)*e^(I*k_z*z), y)\n",
    "rot_E_right_conductor_y_d = diff(Ex_right_conductor_d(x=x)*e^(I*k_z*z), z) - diff(Ez_right_conductor_d(x=x)*e^(I*k_z*z), x)\n",
    "rot_E_right_conductor_z_d = - diff(Ex_right_conductor_d(x=x)*e^(I*k_z*z), y)"
   ]
  },
  {
   "cell_type": "code",
   "execution_count": null,
   "metadata": {},
   "outputs": [],
   "source": [
    "eq_rot_E_left_conductor_x_d = rot_E_left_conductor_x_d == \\\n",
    "(I * mu_l * omega / c * 0)"
   ]
  },
  {
   "cell_type": "code",
   "execution_count": null,
   "metadata": {},
   "outputs": [],
   "source": [
    "eq_rot_E_right_conductor_x_d = rot_E_right_conductor_x_d == \\\n",
    "(I * mu_r * omega / c * 0)"
   ]
  },
  {
   "cell_type": "code",
   "execution_count": null,
   "metadata": {},
   "outputs": [],
   "source": [
    "eq_rot_E_left_conductor_y_d = (rot_E_left_conductor_y_d == \\\n",
    "I * mu_l * omega / c * Hy_left_conductor_d*e^(I*k_z*z)).subs(k_z_sol).subs(digit_values)"
   ]
  },
  {
   "cell_type": "code",
   "execution_count": null,
   "metadata": {},
   "outputs": [],
   "source": [
    "eq_rot_E_right_conductor_y_d = (rot_E_right_conductor_y_d == \\\n",
    "I * mu_r * omega / c * Hy_right_conductor_d*e^(I*k_z*z)).subs(k_z_sol).subs(digit_values)"
   ]
  },
  {
   "cell_type": "code",
   "execution_count": null,
   "metadata": {},
   "outputs": [],
   "source": [
    "eq_rot_E_left_conductor_z_d = rot_E_left_conductor_z_d == \\\n",
    "(I * mu_l * omega / c * 0)"
   ]
  },
  {
   "cell_type": "code",
   "execution_count": null,
   "metadata": {},
   "outputs": [],
   "source": [
    "eq_rot_E_right_conductor_z_d = rot_E_right_conductor_z_d == \\\n",
    "(I * mu_r * omega / c * 0)"
   ]
  },
  {
   "cell_type": "code",
   "execution_count": null,
   "metadata": {},
   "outputs": [],
   "source": []
  },
  {
   "cell_type": "code",
   "execution_count": null,
   "metadata": {},
   "outputs": [],
   "source": [
    "pl = plot(eq_rot_E_left_conductor_y_d.rhs().real().subs(z == 0), (x, -h_conductor-A, -A))\n",
    "pl += plot(eq_rot_E_left_conductor_y_d.lhs().real().subs(z == 0), (x, -h_conductor-A, -A))\n",
    "pl.show()"
   ]
  },
  {
   "cell_type": "code",
   "execution_count": null,
   "metadata": {},
   "outputs": [],
   "source": [
    "pl = plot(eq_rot_E_right_conductor_y_d.rhs().real().subs(z == 0), (x, 0, h_conductor))\n",
    "pl += plot(eq_rot_E_right_conductor_y_d.lhs().real().subs(z == 0), (x, 0, h_conductor))\n",
    "pl.show()"
   ]
  },
  {
   "cell_type": "code",
   "execution_count": null,
   "metadata": {},
   "outputs": [],
   "source": [
    "pl = plot(eq_rot_E_left_conductor_y_d.rhs().imag().subs(z == 0), (x, -h_conductor-A, -A))\n",
    "pl += plot(eq_rot_E_left_conductor_y_d.lhs().imag().subs(z == 0), (x, -h_conductor-A, -A))\n",
    "pl.show()"
   ]
  },
  {
   "cell_type": "code",
   "execution_count": null,
   "metadata": {},
   "outputs": [],
   "source": [
    "pl = plot(eq_rot_E_right_conductor_y_d.rhs().imag().subs(z == 0), (x, 0, h_conductor))\n",
    "pl += plot(eq_rot_E_right_conductor_y_d.lhs().imag().subs(z == 0), (x, 0, h_conductor))\n",
    "pl.show()"
   ]
  },
  {
   "cell_type": "code",
   "execution_count": null,
   "metadata": {},
   "outputs": [],
   "source": []
  },
  {
   "cell_type": "code",
   "execution_count": null,
   "metadata": {},
   "outputs": [],
   "source": [
    "#test found solution with boundary conditions"
   ]
  },
  {
   "cell_type": "code",
   "execution_count": null,
   "metadata": {},
   "outputs": [],
   "source": []
  },
  {
   "cell_type": "code",
   "execution_count": null,
   "metadata": {},
   "outputs": [],
   "source": [
    "# граничные условия на границе вакуума внутри резонатора и проводящего металла с потерями\n",
    "# тангенциальная компонента электрического поля\n",
    "eqEz_a_d = Ez_left_conductor_d(x=-A) == Ez_vacuum_d (x=-A)\n",
    "eqEz_0_d = Ez_vacuum_d (x=0) == Ez_right_conductor_d (x=0)\n",
    "\n",
    "print (\"eqEz_a_d = \")\n",
    "# display(Math(latex(eqEz_a_d)))\n",
    "display(Math(latex(eqEz_a_d.lhs().n())))\n",
    "display(Math(latex(eqEz_a_d.rhs().n())))\n",
    "\n",
    "print (\"eqEz_0_d = \")\n",
    "display(Math(latex(eqEz_0_d)))"
   ]
  },
  {
   "cell_type": "code",
   "execution_count": null,
   "metadata": {},
   "outputs": [],
   "source": [
    "# нормальная компонента электрического смещения\n",
    "\n",
    "eqDx_a_d = Ex_left_conductor_d (x=-A) * (epsilon_l_complex.subs(digit_values)) == Ex_vacuum_d (x=-A)\n",
    "\n",
    "print (\"eqDx_a_d =\")\n",
    "display(Math(latex(eqDx_a_d.lhs().n())))\n",
    "display(Math(latex(eqDx_a_d.rhs().n())))\n",
    "\n",
    "eqDx_0_d = Ex_vacuum_d (x=0) == Ex_right_conductor_d (x=0) * (epsilon_r_complex.subs(digit_values))\n",
    "print (\"eqDx_0_d =\")\n",
    "display(Math(latex(eqDx_0_d.lhs().n())))\n",
    "display(Math(latex(eqDx_0_d.rhs().n())))"
   ]
  },
  {
   "cell_type": "code",
   "execution_count": null,
   "metadata": {},
   "outputs": [],
   "source": [
    "# тангенциальная компонента напряженности магнитного поля\n",
    "\n",
    "eqHy_a_d = Hy_left_conductor_d(x=-A) == Hy_vacuum_d(x=-A)\n",
    "\n",
    "print (\"eqHy_a_d =\")\n",
    "display(Math(latex(eqHy_a_d.lhs().n())))\n",
    "display(Math(latex(eqHy_a_d.rhs().n())))\n",
    "\n",
    "\n",
    "eqHy_0_d = Hy_left_conductor_d(x=0) == Hy_vacuum_d(x=0)\n",
    "\n",
    "print (\"eqHy_0_d =\")\n",
    "display(Math(latex(eqHy_0_d.lhs().n())))\n",
    "display(Math(latex(eqHy_0_d.rhs().n())))"
   ]
  },
  {
   "cell_type": "raw",
   "metadata": {},
   "source": [
    "# нормальная компонента индукции магнитного поля\n",
    "eqBx_a  = mu * Hx_bad_conductor_d (a)  == Hx_inner_vacuum_d (a)\n",
    "\n",
    "print (\"eqBx_a =\")\n",
    "display(Math(latex(eqBx_a)))"
   ]
  }
 ],
 "metadata": {
  "kernelspec": {
   "display_name": "SageMath 9.6.beta7",
   "language": "sage",
   "name": "sagemath"
  },
  "language_info": {
   "codemirror_mode": {
    "name": "ipython",
    "version": 3
   },
   "file_extension": ".py",
   "mimetype": "text/x-python",
   "name": "python",
   "nbconvert_exporter": "python",
   "pygments_lexer": "ipython3",
   "version": "3.10.3"
  }
 },
 "nbformat": 4,
 "nbformat_minor": 4
}
