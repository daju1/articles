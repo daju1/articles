{
 "cells": [
  {
   "cell_type": "markdown",
   "metadata": {},
   "source": [
    "mpmath.sumem(f, interval, tol=None, reject=10, integral=None, adiffs=None, bdiffs=None, verbose=False, error=False, _fast_abort=False)\n",
    "\n",
    "Uses the Euler-Maclaurin formula to compute an approximation accurate to within tol (which defaults to the present epsilon) of the sum"
   ]
  },
  {
   "cell_type": "code",
   "execution_count": 1,
   "metadata": {},
   "outputs": [],
   "source": [
    "def test_mpmath_sumem(f, a, b = None):\n",
    "    # https://mpmath.org/doc/current/calculus/sums_limits.html\n",
    "    from mpmath import sumem, mp\n",
    "    mp.dps = 50; mp.pretty = True\n",
    "    if None == b:\n",
    "        b = mp.inf\n",
    "    return sumem(f, [a, b])"
   ]
  },
  {
   "cell_type": "code",
   "execution_count": 2,
   "metadata": {},
   "outputs": [],
   "source": [
    "fn = 1/x^2\n",
    "f = lambda x: 1/x^2\n",
    "a = 1 #https://en.wikipedia.org/wiki/Basel_problem\n",
    "p = 2"
   ]
  },
  {
   "cell_type": "code",
   "execution_count": 3,
   "metadata": {},
   "outputs": [
    {
     "data": {
      "text/plain": [
       "0.24985622564069066126679295403575238966185468243081"
      ]
     },
     "execution_count": 3,
     "metadata": {},
     "output_type": "execute_result"
    }
   ],
   "source": [
    "test_mpmath_sumem(f, 2) - test_mpmath_sumem(f, 3)"
   ]
  },
  {
   "cell_type": "code",
   "execution_count": 4,
   "metadata": {},
   "outputs": [
    {
     "data": {
      "text/plain": [
       "1.6333333333333333333333333333333333333333333333333"
      ]
     },
     "execution_count": 4,
     "metadata": {},
     "output_type": "execute_result"
    }
   ],
   "source": [
    "test_mpmath_sumem(f, a)"
   ]
  },
  {
   "cell_type": "code",
   "execution_count": 5,
   "metadata": {},
   "outputs": [],
   "source": [
    "#I = mpf(1)/a\n",
    "#I"
   ]
  },
  {
   "cell_type": "markdown",
   "metadata": {},
   "source": [
    "$${\\displaystyle \\sum _{i=a}^{b}f(i)=\\int _{a}^{b}f(x)\\,dx+{\\frac {f(a)+f(b)}{2}}+\\sum _{k=1}^{\\lfloor p/2\\rfloor }{\\frac {B_{2k}}{(2k)!}}(f^{(2k-1)}(b)-f^{(2k-1)}(a))+R_{p},}$$"
   ]
  },
  {
   "cell_type": "markdown",
   "metadata": {},
   "source": [
    "$${\\displaystyle P_{k}(x)=B_{k}(x-\\lfloor x\\rfloor ),}$$"
   ]
  },
  {
   "cell_type": "markdown",
   "metadata": {},
   "source": [
    "$${\\displaystyle R_{p}=(-1)^{p+1}\\int _{a}^{b}f^{(p)}(x){\\frac {P_{p}(x)}{p!}}\\,dx.}$$"
   ]
  },
  {
   "cell_type": "code",
   "execution_count": 6,
   "metadata": {},
   "outputs": [
    {
     "data": {
      "text/plain": [
       "[1]"
      ]
     },
     "execution_count": 6,
     "metadata": {},
     "output_type": "execute_result"
    }
   ],
   "source": [
    "[k for k in range(1,1+int(p/2))]"
   ]
  },
  {
   "cell_type": "code",
   "execution_count": 7,
   "metadata": {},
   "outputs": [
    {
     "data": {
      "text/plain": [
       "<generator object <genexpr> at 0x7f65c1a3f200>"
      ]
     },
     "execution_count": 7,
     "metadata": {},
     "output_type": "execute_result"
    }
   ],
   "source": [
    "D = adiffs=((-1)**n*fac(k+1)*a**(-2-k) for k in range(1,1+int(p/2)))\n",
    "D"
   ]
  },
  {
   "cell_type": "code",
   "execution_count": 8,
   "metadata": {},
   "outputs": [
    {
     "data": {
      "text/plain": [
       "[-2/x^3]"
      ]
     },
     "execution_count": 8,
     "metadata": {},
     "output_type": "execute_result"
    }
   ],
   "source": [
    "# array of derivatives dfdn of different degree in the point a \n",
    "dfdx = [fn.diff(x,k) for k in range(1,1+int(p/2))]\n",
    "dfdx"
   ]
  },
  {
   "cell_type": "code",
   "execution_count": 9,
   "metadata": {},
   "outputs": [
    {
     "data": {
      "text/plain": [
       "[-2]"
      ]
     },
     "execution_count": 9,
     "metadata": {},
     "output_type": "execute_result"
    }
   ],
   "source": [
    "# array of derivatives dfdn of different degree in the point a \n",
    "dfdx_a = [(fn.diff(x,k)).subs(x == a) for k in range(1,1+int(p/2))]\n",
    "dfdx_a"
   ]
  },
  {
   "cell_type": "code",
   "execution_count": 10,
   "metadata": {},
   "outputs": [],
   "source": [
    "# array of derivatives dfdn of different degree in the point a \n",
    "#dfdx_a = [(-1)^n*fac(n+1)*a^(-2-n) for n in range(999)]\n",
    "#dfdx_a"
   ]
  },
  {
   "cell_type": "code",
   "execution_count": 11,
   "metadata": {},
   "outputs": [],
   "source": [
    "# array of derivatives dfdn of different degree in the point b \n",
    "#dfdx_b = [(-1)^n*fac(n+1)*b^(-2-n) for n in range(999)]\n",
    "#dfdx_b"
   ]
  },
  {
   "cell_type": "code",
   "execution_count": 12,
   "metadata": {},
   "outputs": [],
   "source": [
    "#dfdx_a[0]"
   ]
  },
  {
   "cell_type": "markdown",
   "metadata": {},
   "source": [
    "$${\\frac {B_{2k}}{(2k)!}}(f^{(2k-1)}(a))$$"
   ]
  },
  {
   "cell_type": "markdown",
   "metadata": {},
   "source": [
    "$$\\sum _{k=1}^{\\lfloor p/2\\rfloor }{\\frac {B_{2k}}{(2k)!}}(f^{(2k-1)}(a))$$"
   ]
  },
  {
   "cell_type": "code",
   "execution_count": 13,
   "metadata": {},
   "outputs": [
    {
     "data": {
      "text/plain": [
       "[1]"
      ]
     },
     "execution_count": 13,
     "metadata": {},
     "output_type": "execute_result"
    }
   ],
   "source": [
    "[2*k-1 for k in range(1,1+int(p/2))]"
   ]
  },
  {
   "cell_type": "code",
   "execution_count": 14,
   "metadata": {},
   "outputs": [
    {
     "data": {
      "text/plain": [
       "[-1/6]"
      ]
     },
     "execution_count": 14,
     "metadata": {},
     "output_type": "execute_result"
    }
   ],
   "source": [
    "[(fn.diff(x,2*k-1)).subs(x == a)*(bernoulli(2*k)/factorial(2*k)) for k in range(1,1+int(p/2))]"
   ]
  },
  {
   "cell_type": "code",
   "execution_count": 15,
   "metadata": {},
   "outputs": [
    {
     "data": {
      "text/plain": [
       "-1/6"
      ]
     },
     "execution_count": 15,
     "metadata": {},
     "output_type": "execute_result"
    }
   ],
   "source": [
    "sum_dfdx_a_bernoullis = sum([(fn.diff(x,2*k-1)).subs(x == a)*(bernoulli(2*k)/factorial(2*k)) for k in range(1,1+int(p/2))])\n",
    "sum_dfdx_a_bernoullis"
   ]
  },
  {
   "cell_type": "code",
   "execution_count": 16,
   "metadata": {},
   "outputs": [],
   "source": [
    "#sumem(f, [a, inf], integral=I, adiffs=D)"
   ]
  },
  {
   "cell_type": "code",
   "execution_count": 17,
   "metadata": {},
   "outputs": [
    {
     "data": {
      "text/plain": [
       "-1/x"
      ]
     },
     "execution_count": 17,
     "metadata": {},
     "output_type": "execute_result"
    }
   ],
   "source": [
    "integral(fn, x)"
   ]
  },
  {
   "cell_type": "code",
   "execution_count": 18,
   "metadata": {},
   "outputs": [
    {
     "data": {
      "text/plain": [
       "1"
      ]
     },
     "execution_count": 18,
     "metadata": {},
     "output_type": "execute_result"
    }
   ],
   "source": [
    "- integral(fn, x).subs(x == a)"
   ]
  },
  {
   "cell_type": "code",
   "execution_count": 19,
   "metadata": {},
   "outputs": [
    {
     "data": {
      "text/plain": [
       "1"
      ]
     },
     "execution_count": 19,
     "metadata": {},
     "output_type": "execute_result"
    }
   ],
   "source": [
    "#integrate(1/x^2, (x, a, b))\n",
    "#int_f = (-1/b)-(-1/a)\n",
    "int_f = - integral(fn, x).subs(x == a)\n",
    "int_f"
   ]
  },
  {
   "cell_type": "code",
   "execution_count": 20,
   "metadata": {},
   "outputs": [
    {
     "data": {
      "text/plain": [
       "1.00000000000000"
      ]
     },
     "execution_count": 20,
     "metadata": {},
     "output_type": "execute_result"
    }
   ],
   "source": [
    "(1/a).n()"
   ]
  },
  {
   "cell_type": "code",
   "execution_count": 21,
   "metadata": {},
   "outputs": [
    {
     "data": {
      "text/plain": [
       "1"
      ]
     },
     "execution_count": 21,
     "metadata": {},
     "output_type": "execute_result"
    }
   ],
   "source": [
    "f(a)"
   ]
  },
  {
   "cell_type": "code",
   "execution_count": 22,
   "metadata": {},
   "outputs": [],
   "source": [
    "#f(b)"
   ]
  },
  {
   "cell_type": "code",
   "execution_count": 23,
   "metadata": {},
   "outputs": [],
   "source": [
    "#(f(a)+f(b))/2"
   ]
  },
  {
   "cell_type": "code",
   "execution_count": 24,
   "metadata": {},
   "outputs": [],
   "source": [
    "#int_f+(f(a)+f(b))/2"
   ]
  },
  {
   "cell_type": "code",
   "execution_count": 25,
   "metadata": {},
   "outputs": [],
   "source": [
    "sum_dfdx_a_bernoullis = lambda _p : sum([(fn.diff(x,2*k-1)).subs(x == a)*(bernoulli(2*k)/factorial(2*k)) for k in range(1,1+int(_p/2))])"
   ]
  },
  {
   "cell_type": "code",
   "execution_count": 26,
   "metadata": {},
   "outputs": [
    {
     "data": {
      "text/plain": [
       "-1/6"
      ]
     },
     "execution_count": 26,
     "metadata": {},
     "output_type": "execute_result"
    }
   ],
   "source": [
    "sum_dfdx_a_bernoullis(p)"
   ]
  },
  {
   "cell_type": "code",
   "execution_count": 27,
   "metadata": {},
   "outputs": [],
   "source": [
    "#sumem(f, [a, b]) - (int_f+(f(a)+f(b))/2)"
   ]
  },
  {
   "cell_type": "code",
   "execution_count": 28,
   "metadata": {},
   "outputs": [],
   "source": [
    "for pp in range(3,p):\n",
    "    print(pp, test_mpmath_sumem(f, a) - (int_f+(f(a))/2)-sum_dfdx_a_bernoullis(2*pp))"
   ]
  },
  {
   "cell_type": "code",
   "execution_count": 29,
   "metadata": {},
   "outputs": [
    {
     "data": {
      "image/png": "[encoded data removed]",
      "text/plain": [
       "Graphics object consisting of 1 graphics primitive"
      ]
     },
     "execution_count": 29,
     "metadata": {},
     "output_type": "execute_result"
    }
   ],
   "source": [
    "list_plot([sum_dfdx_a_bernoullis(2*pp) for pp in range(2,7)])"
   ]
  },
  {
   "cell_type": "code",
   "execution_count": 30,
   "metadata": {},
   "outputs": [
    {
     "data": {
      "image/png": "[encoded data removed]",
      "text/plain": [
       "Graphics object consisting of 1 graphics primitive"
      ]
     },
     "execution_count": 30,
     "metadata": {},
     "output_type": "execute_result"
    }
   ],
   "source": [
    "list_plot([sum_dfdx_a_bernoullis(2*pp) for pp in range(3,20)])"
   ]
  },
  {
   "cell_type": "code",
   "execution_count": 31,
   "metadata": {},
   "outputs": [],
   "source": [
    "#list_plot([sum_dfdx_a_bernoullis(2*pp) for pp in range(3,600)])"
   ]
  },
  {
   "cell_type": "code",
   "execution_count": 32,
   "metadata": {},
   "outputs": [
    {
     "data": {
      "text/plain": [
       "0.63333333333333333333333333333333333333333333333333"
      ]
     },
     "execution_count": 32,
     "metadata": {},
     "output_type": "execute_result"
    }
   ],
   "source": [
    "test_mpmath_sumem(f, a) - (int_f)"
   ]
  },
  {
   "cell_type": "code",
   "execution_count": 33,
   "metadata": {},
   "outputs": [
    {
     "data": {
      "text/plain": [
       "5/6"
      ]
     },
     "execution_count": 33,
     "metadata": {},
     "output_type": "execute_result"
    }
   ],
   "source": [
    "sum([(-1)^n*factorial(n+1)*a^(-2-n)*(bernoulli(2*n)/factorial(2*n)) for n in range(p)])"
   ]
  },
  {
   "cell_type": "code",
   "execution_count": 34,
   "metadata": {},
   "outputs": [],
   "source": [
    "P = lambda x, _p : bernoulli_polynomial(x - floor(x), _p)\n",
    "B = lambda x, _p : bernoulli_polynomial(x, _p)"
   ]
  },
  {
   "cell_type": "code",
   "execution_count": 35,
   "metadata": {},
   "outputs": [
    {
     "data": {
      "text/plain": [
       "-0.0152400000000000"
      ]
     },
     "execution_count": 35,
     "metadata": {},
     "output_type": "execute_result"
    }
   ],
   "source": [
    "P(3.1, 5)"
   ]
  },
  {
   "cell_type": "code",
   "execution_count": 36,
   "metadata": {},
   "outputs": [
    {
     "data": {
      "text/plain": [
       "-0.0152400000000000"
      ]
     },
     "execution_count": 36,
     "metadata": {},
     "output_type": "execute_result"
    }
   ],
   "source": [
    "B(0.1, 5)"
   ]
  },
  {
   "cell_type": "code",
   "execution_count": 37,
   "metadata": {},
   "outputs": [
    {
     "data": {
      "image/png": "[encoded data removed]",
      "text/plain": [
       "Graphics object consisting of 1 graphics primitive"
      ]
     },
     "execution_count": 37,
     "metadata": {},
     "output_type": "execute_result"
    }
   ],
   "source": [
    "plot(P(x, p), x, 0, 10)"
   ]
  },
  {
   "cell_type": "code",
   "execution_count": 38,
   "metadata": {},
   "outputs": [
    {
     "data": {
      "image/png": "[encoded data removed]",
      "text/plain": [
       "Graphics object consisting of 1 graphics primitive"
      ]
     },
     "execution_count": 38,
     "metadata": {},
     "output_type": "execute_result"
    }
   ],
   "source": [
    "plot(bernoulli_polynomial(x, p))"
   ]
  },
  {
   "cell_type": "markdown",
   "metadata": {},
   "source": [
    "$${\\displaystyle R_{p}=(-1)^{p+1}\\int _{a}^{b}f^{(p)}(x){\\frac {P_{p}(x)}{p!}}\\,dx.}$$"
   ]
  },
  {
   "cell_type": "code",
   "execution_count": 39,
   "metadata": {},
   "outputs": [
    {
     "data": {
      "text/plain": [
       "3/x - 3/2/x^2 + 1/6/x^3 - 1/2*integrate(-12*floor(x)/x^3 + 6*floor(x)^2/x^4 + 6*floor(x)/x^4, x)"
      ]
     },
     "execution_count": 39,
     "metadata": {},
     "output_type": "execute_result"
    }
   ],
   "source": [
    "int_R_p = (-1)^(p+1)*integral(fn.diff(x,p)*P(x,p)/factorial(p), x)\n",
    "int_R_p"
   ]
  },
  {
   "cell_type": "code",
   "execution_count": 40,
   "metadata": {},
   "outputs": [
    {
     "data": {
      "text/latex": [
       "$\\displaystyle \\frac{3}{x} - \\frac{3}{2 \\, x^{2}} + \\frac{1}{6 \\, x^{3}} - \\frac{1}{2} \\, \\int -\\frac{12 \\, \\left \\lfloor x \\right \\rfloor}{x^{3}} + \\frac{6 \\, \\left \\lfloor x \\right \\rfloor^{2}}{x^{4}} + \\frac{6 \\, \\left \\lfloor x \\right \\rfloor}{x^{4}}\\,{d x}$"
      ],
      "text/plain": [
       "<IPython.core.display.Math object>"
      ]
     },
     "metadata": {},
     "output_type": "display_data"
    }
   ],
   "source": [
    "from IPython.display import display, Math, Latex\n",
    "display(Math(latex(int_R_p)))"
   ]
  },
  {
   "cell_type": "markdown",
   "metadata": {},
   "source": [
    "$${\\displaystyle R_{p}=(-1)^{p+1}\\sum_{j=a}^{b-1} \\int _{0}^{1}f^{(p)}(u+j){\\frac {B_{p}(u)}{p!}}\\,du.}$$"
   ]
  },
  {
   "cell_type": "code",
   "execution_count": 41,
   "metadata": {},
   "outputs": [
    {
     "data": {
      "text/latex": [
       "$\\displaystyle -\\frac{6 \\, j^{2} + 9 \\, {\\left(2 \\, j - 1\\right)} u + 18 \\, u^{2} - 3 \\, j + 1}{6 \\, {\\left(j^{3} + 3 \\, j^{2} u + 3 \\, j u^{2} + u^{3}\\right)}}$"
      ],
      "text/plain": [
       "<IPython.core.display.Math object>"
      ]
     },
     "metadata": {},
     "output_type": "display_data"
    }
   ],
   "source": [
    "#(-1)^(p+1)*\n",
    "u, j = var(\"u, j\")\n",
    "int_R_p_j = lambda u, j : integral(fn.diff(x,p).subs(x == u+j) * B(u,p)/factorial(p), u)\n",
    "display(Math(latex(int_R_p_j(u, j))))"
   ]
  },
  {
   "cell_type": "code",
   "execution_count": 42,
   "metadata": {},
   "outputs": [
    {
     "data": {
      "text/latex": [
       "$\\displaystyle -\\frac{6 \\, j^{2} - 3 \\, j + 1}{6 \\, j^{3}}$"
      ],
      "text/plain": [
       "<IPython.core.display.Math object>"
      ]
     },
     "metadata": {},
     "output_type": "display_data"
    }
   ],
   "source": [
    "display(Math(latex(int_R_p_j(u, j).subs(u==0))))"
   ]
  },
  {
   "cell_type": "code",
   "execution_count": 43,
   "metadata": {},
   "outputs": [
    {
     "data": {
      "text/latex": [
       "$\\displaystyle -\\frac{6 \\, j^{2} + 15 \\, j + 10}{6 \\, {\\left(j^{3} + 3 \\, j^{2} + 3 \\, j + 1\\right)}}$"
      ],
      "text/plain": [
       "<IPython.core.display.Math object>"
      ]
     },
     "metadata": {},
     "output_type": "display_data"
    }
   ],
   "source": [
    "display(Math(latex(int_R_p_j(u, j).subs(u==1))))"
   ]
  },
  {
   "cell_type": "code",
   "execution_count": 44,
   "metadata": {},
   "outputs": [
    {
     "data": {
      "text/latex": [
       "$\\displaystyle \\frac{1}{6 \\, {\\left(j^{6} + 3 \\, j^{5} + 3 \\, j^{4} + j^{3}\\right)}}$"
      ],
      "text/plain": [
       "<IPython.core.display.Math object>"
      ]
     },
     "metadata": {},
     "output_type": "display_data"
    }
   ],
   "source": [
    "int_R_p = lambda j : (int_R_p_j(u, j).subs(u==1)-int_R_p_j(u, j).subs(u==0)).full_simplify()\n",
    "display(Math(latex(int_R_p(j))))"
   ]
  },
  {
   "cell_type": "code",
   "execution_count": 45,
   "metadata": {},
   "outputs": [
    {
     "data": {
      "text/latex": [
       "$\\displaystyle \\frac{1}{6 \\, {\\left(j^{6} + 3 \\, j^{5} + 3 \\, j^{4} + j^{3}\\right)}}$"
      ],
      "text/plain": [
       "<IPython.core.display.Math object>"
      ]
     },
     "metadata": {},
     "output_type": "display_data"
    }
   ],
   "source": [
    "display(Math(latex((int_R_p_j(u, j).subs(u==1)-int_R_p_j(u, j).subs(u==0)).full_simplify())))"
   ]
  },
  {
   "cell_type": "code",
   "execution_count": 46,
   "metadata": {},
   "outputs": [
    {
     "data": {
      "text/latex": [
       "$\\displaystyle \\frac{1}{6 \\, {\\left(j^{6} + 3 \\, j^{5} + 3 \\, j^{4} + j^{3}\\right)}}$"
      ],
      "text/plain": [
       "<IPython.core.display.Math object>"
      ]
     },
     "metadata": {},
     "output_type": "display_data"
    }
   ],
   "source": [
    "display(Math(latex(int_R_p(j))))"
   ]
  },
  {
   "cell_type": "code",
   "execution_count": 47,
   "metadata": {},
   "outputs": [
    {
     "data": {
      "text/latex": [
       "$\\displaystyle \\frac{1}{48}$"
      ],
      "text/plain": [
       "<IPython.core.display.Math object>"
      ]
     },
     "metadata": {},
     "output_type": "display_data"
    }
   ],
   "source": [
    "display(Math(latex(int_R_p(1))))"
   ]
  },
  {
   "cell_type": "code",
   "execution_count": 48,
   "metadata": {},
   "outputs": [
    {
     "data": {
      "text/latex": [
       "$\\displaystyle \\frac{1}{1296}$"
      ],
      "text/plain": [
       "<IPython.core.display.Math object>"
      ]
     },
     "metadata": {},
     "output_type": "display_data"
    }
   ],
   "source": [
    "display(Math(latex(int_R_p(2))))"
   ]
  },
  {
   "cell_type": "code",
   "execution_count": 49,
   "metadata": {},
   "outputs": [
    {
     "data": {
      "text/latex": [
       "$\\displaystyle \\frac{1}{10368}$"
      ],
      "text/plain": [
       "<IPython.core.display.Math object>"
      ]
     },
     "metadata": {},
     "output_type": "display_data"
    }
   ],
   "source": [
    "display(Math(latex(int_R_p(3))))"
   ]
  },
  {
   "cell_type": "code",
   "execution_count": 50,
   "metadata": {},
   "outputs": [
    {
     "data": {
      "text/plain": [
       "1/6*pi^2 - 5/3"
      ]
     },
     "execution_count": 50,
     "metadata": {},
     "output_type": "execute_result"
    }
   ],
   "source": [
    "R_p = (-1)^(p+1)*sum(int_R_p(j), j, a, Infinity)\n",
    "R_p"
   ]
  },
  {
   "cell_type": "code",
   "execution_count": 51,
   "metadata": {},
   "outputs": [
    {
     "data": {
      "text/plain": [
       "5/3"
      ]
     },
     "execution_count": 51,
     "metadata": {},
     "output_type": "execute_result"
    }
   ],
   "source": [
    "int_f+(f(a))/2-sum_dfdx_a_bernoullis(p)"
   ]
  },
  {
   "cell_type": "code",
   "execution_count": 52,
   "metadata": {},
   "outputs": [
    {
     "data": {
      "text/plain": [
       "1.66666666666667"
      ]
     },
     "execution_count": 52,
     "metadata": {},
     "output_type": "execute_result"
    }
   ],
   "source": [
    "(int_f+(f(a))/2-sum_dfdx_a_bernoullis(p)).n()"
   ]
  },
  {
   "cell_type": "code",
   "execution_count": 53,
   "metadata": {},
   "outputs": [
    {
     "data": {
      "text/plain": [
       "1/6*pi^2"
      ]
     },
     "execution_count": 53,
     "metadata": {},
     "output_type": "execute_result"
    }
   ],
   "source": [
    "int_f+(f(a))/2-sum_dfdx_a_bernoullis(p)+R_p"
   ]
  },
  {
   "cell_type": "code",
   "execution_count": 54,
   "metadata": {},
   "outputs": [
    {
     "data": {
      "text/plain": [
       "1.64493406684823"
      ]
     },
     "execution_count": 54,
     "metadata": {},
     "output_type": "execute_result"
    }
   ],
   "source": [
    "(int_f+(f(a))/2-sum_dfdx_a_bernoullis(p)+R_p).n()"
   ]
  },
  {
   "cell_type": "code",
   "execution_count": 55,
   "metadata": {},
   "outputs": [
    {
     "data": {
      "text/plain": [
       "1.6333333333333333333333333333333333333333333333333"
      ]
     },
     "execution_count": 55,
     "metadata": {},
     "output_type": "execute_result"
    }
   ],
   "source": [
    "test_mpmath_sumem(f, a)"
   ]
  },
  {
   "cell_type": "code",
   "execution_count": 56,
   "metadata": {},
   "outputs": [],
   "source": [
    "logging = False\n",
    "\n",
    "calc_R_p=True\n",
    "use_int_R_p_j=True\n",
    "change_R_p_order=False\n",
    "use_int_R_p_shifted_first = True\n",
    "\n",
    "def my_euler_maclaurin(f,symb,a,b,p, hold_int=True, hold_sum=True):\n",
    "    if logging:\n",
    "        print(\"f\", f(symb))\n",
    "        print(\"symb,a,b\", symb, a, b)\n",
    "        print(\"\")\n",
    "    #sum_dfdx_a_bernoullis = lambda _a : sum([(f.diff(x,k-1)).subs(x == _a)*(bernoulli(k)/factorial(k)) for k in range(1,1+p)])\n",
    "    sum_dfdx_a_bernoullis = sum([(f.diff(symb,k-1))*(bernoulli(k)/factorial(k)) for k in range(1,1+p)])\n",
    "    \n",
    "    if logging:\n",
    "        print(\"sum_dfdx_a_bernoullis \", sum_dfdx_a_bernoullis)\n",
    "\n",
    "    if True:\n",
    "        B = lambda x, p : bernoulli_polynomial(x, p)\n",
    "        P = lambda x, p : bernoulli_polynomial(x - floor(x), p)\n",
    "        fact = lambda n : factorial(n)\n",
    "    else:\n",
    "        B = function(\"B\")(x,p)\n",
    "        P = function(\"P\")(x,p)\n",
    "        fact = function(\"fact\")(n)\n",
    "        \n",
    "    if True == calc_R_p:\n",
    "        \n",
    "        v = var(\"v\")\n",
    "        \n",
    "        if use_int_R_p_j:\n",
    "            \n",
    "            j = var(\"j\")\n",
    "            assume(j>0)\n",
    "            if change_R_p_order:\n",
    "                # Change order of summation and integration\n",
    "                if use_int_R_p_shifted_first:\n",
    "                    R_p = (-1)^(p+1)*integral(sum(f.subs(symb == v+j).diff(v,p)*B(x=v,p=p)/fact(n=p), \\\n",
    "                                                  j, a, b-1, hold=hold_sum), \\\n",
    "                                              (v,0,1), hold=hold_int)\n",
    "                else:\n",
    "                    R_p = (-1)^(p+1)*integral(sum(f.diff(symb,p).subs(symb == v+j)*B(x=v,p=p)/fact(n=p), \\\n",
    "                                                  j, a, b-1, hold=hold_sum), \\\n",
    "                                              (v,0,1), hold=hold_int)\n",
    "            else:\n",
    "                def int_R_p(f, symb, j):\n",
    "                    deriv = f.diff(symb,p)\n",
    "                    if logging:\n",
    "                        print(\"deriv\", deriv)\n",
    "                    deriv_s = deriv.subs(symb == v+j)\n",
    "                    if logging:\n",
    "                        print(\"deriv_s\", deriv_s)\n",
    "                    int_f_diff_B_fact = integral(deriv_s * B(x=v,p=p)/fact(n=p), (v,0,1), hold=hold_int)\n",
    "                    \n",
    "                    if logging:\n",
    "                        print(\"int_f_diff_B_fact\", int_f_diff_B_fact)\n",
    "                        \n",
    "                    return int_f_diff_B_fact\n",
    "\n",
    "                def int_R_p_shifted_first(f, symb, j):\n",
    "                    f_shifted = f.subs(symb == v + j)\n",
    "                    if logging:\n",
    "                        print(\"f_shifted\", f_shifted)\n",
    "                    deriv = f_shifted.diff(v,p)\n",
    "                    if logging:\n",
    "                        print(\"deriv\", deriv)\n",
    "                    int_f_diff_B_fact = integral(deriv * B(x=v,p=p)/fact(n=p), (v,0,1), hold=hold_int)\n",
    "                    if logging:\n",
    "                        print(\"int_f_diff_B_fact\", int_f_diff_B_fact)\n",
    "                    return int_f_diff_B_fact\n",
    "\n",
    "                if use_int_R_p_shifted_first:\n",
    "                    R_p = (-1)^(p+1)*sum(int_R_p_shifted_first(f=f, symb=symb, j=j), j, a, b-1, hold=hold_sum)\n",
    "                else:\n",
    "                    R_p = (-1)^(p+1)*sum(int_R_p(f=f, symb=symb, j=j), j, a, b-1, hold=hold_sum)\n",
    "        else:\n",
    "            R_p = (-1)^(p+1)*integral(f.diff(symb,p) * P(x=x,p=p)/fact(n=p),(symb,a,b), hold=hold_int)\n",
    "    \n",
    "    int_f_a_b = integral(f, (x, a, b))\n",
    "    \n",
    "    if logging:\n",
    "        print(\"int_f_a_b\", int_f_a_b)\n",
    "        \n",
    "    s = int_f_a_b\n",
    "    if 0 != sum_dfdx_a_bernoullis:\n",
    "        s+= sum_dfdx_a_bernoullis.subs(symb == b) - sum_dfdx_a_bernoullis.subs(symb == a)\n",
    "    if True == calc_R_p:\n",
    "        s += R_p\n",
    "    if logging:\n",
    "        print(f(x=a))\n",
    "        print(f(x=b))\n",
    "        if 0 != sum_dfdx_a_bernoullis:\n",
    "            print(\"sum_dfdx_a_bernoullis(a)\", sum_dfdx_a_bernoullis.subs(symb == a))\n",
    "            print(\"sum_dfdx_a_bernoullis(b)\", sum_dfdx_a_bernoullis.subs(symb == b))\n",
    "        if True == calc_R_p:\n",
    "            print(\"R_p\", R_p)\n",
    "        print(\"s\", s)\n",
    "    return s"
   ]
  },
  {
   "cell_type": "code",
   "execution_count": 70,
   "metadata": {},
   "outputs": [],
   "source": [
    "F = function(\"F\")(x)\n",
    "p = 4"
   ]
  },
  {
   "cell_type": "code",
   "execution_count": 71,
   "metadata": {},
   "outputs": [
    {
     "name": "stdout",
     "output_type": "stream",
     "text": [
      "1/2*F(1) - 1/2*F(+Infinity) - integrate(1/720*(30*(x - floor(x))^4 - 60*(x - floor(x))^3 + 30*(x - floor(x))^2 - 1)*diff(F(x), x, x, x, x), x, 1, +Infinity) + integrate(F(x), x, 1, +Infinity) - 1/12*D[0](F)(1) + 1/720*D[0, 0, 0](F)(1) + 1/12*D[0](F)(+Infinity) - 1/720*D[0, 0, 0](F)(+Infinity)\n"
     ]
    },
    {
     "data": {
      "text/latex": [
       "$\\displaystyle \\frac{1}{2} \\, F\\left(1\\right) - \\frac{1}{2} \\, F\\left(+\\infty\\right) - \\int_{1}^{+\\infty} \\frac{1}{720} \\, {\\left(30 \\, {\\left(x - \\left \\lfloor x \\right \\rfloor\\right)}^{4} - 60 \\, {\\left(x - \\left \\lfloor x \\right \\rfloor\\right)}^{3} + 30 \\, {\\left(x - \\left \\lfloor x \\right \\rfloor\\right)}^{2} - 1\\right)} \\frac{\\partial^{4}}{(\\partial x)^{4}}F\\left(x\\right)\\,{d x} + \\int_{1}^{+\\infty} F\\left(x\\right)\\,{d x} - \\frac{1}{12} \\, \\mathrm{D}_{0}\\left(F\\right)\\left(1\\right) + \\frac{1}{720} \\, \\mathrm{D}_{0, 0, 0}\\left(F\\right)\\left(1\\right) + \\frac{1}{12} \\, \\mathrm{D}_{0}\\left(F\\right)\\left(+\\infty\\right) - \\frac{1}{720} \\, \\mathrm{D}_{0, 0, 0}\\left(F\\right)\\left(+\\infty\\right)$"
      ],
      "text/plain": [
       "<IPython.core.display.Math object>"
      ]
     },
     "metadata": {},
     "output_type": "display_data"
    },
    {
     "data": {
      "text/latex": [
       "$\\displaystyle -\\int_{1}^{+\\infty} \\frac{30 \\, {\\left(x - \\left \\lfloor x \\right \\rfloor\\right)}^{4} - 60 \\, {\\left(x - \\left \\lfloor x \\right \\rfloor\\right)}^{3} + 30 \\, {\\left(x - \\left \\lfloor x \\right \\rfloor\\right)}^{2} - 1}{6 \\, x^{6}}\\,{d x} + \\frac{49}{30}$"
      ],
      "text/plain": [
       "<IPython.core.display.Math object>"
      ]
     },
     "metadata": {},
     "output_type": "display_data"
    },
    {
     "data": {
      "text/latex": [
       "$\\displaystyle 1.64493413574096$"
      ],
      "text/plain": [
       "<IPython.core.display.Math object>"
      ]
     },
     "metadata": {},
     "output_type": "display_data"
    }
   ],
   "source": [
    "use_int_R_p_j=False\n",
    "change_R_p_order=False\n",
    "use_int_R_p_shifted_first = True\n",
    "\n",
    "ans = my_euler_maclaurin(f=F, symb=x, a=a, b=Infinity, p=p)\n",
    "print(ans)\n",
    "display(Math(latex(ans)))\n",
    "\n",
    "ans = my_euler_maclaurin(f=fn, symb=x, a=a, b=Infinity, p=p)\n",
    "display(Math(latex(ans)))\n",
    "display(Math(latex(ans.n())))"
   ]
  },
  {
   "cell_type": "code",
   "execution_count": 60,
   "metadata": {},
   "outputs": [
    {
     "data": {
      "text/latex": [
       "$\\displaystyle \\frac{1}{2} \\, F\\left(1\\right) - \\frac{1}{2} \\, F\\left(+\\infty\\right) + \\int_{1}^{+\\infty} F\\left(x\\right)\\,{d x} + {\\sum_{j=1}^{+\\infty} \\int_{0}^{1} \\frac{1}{2} \\, {\\left(2 \\, v - 1\\right)} \\mathrm{D}_{0}\\left(F\\right)\\left(j + v\\right)\\,{d v}}$"
      ],
      "text/plain": [
       "<IPython.core.display.Math object>"
      ]
     },
     "metadata": {},
     "output_type": "display_data"
    },
    {
     "data": {
      "text/latex": [
       "$\\displaystyle {\\sum_{j=1}^{+\\infty} \\int_{0}^{1} -\\frac{2 \\, v - 1}{{\\left(j + v\\right)}^{3}}\\,{d v}} + \\frac{3}{2}$"
      ],
      "text/plain": [
       "<IPython.core.display.Math object>"
      ]
     },
     "metadata": {},
     "output_type": "display_data"
    }
   ],
   "source": [
    "use_int_R_p_j=True\n",
    "change_R_p_order=False\n",
    "use_int_R_p_shifted_first = True\n",
    "\n",
    "ans = my_euler_maclaurin(f=F, symb=x, a=a, b=Infinity, p=p)\n",
    "display(Math(latex(ans)))\n",
    "\n",
    "ans = my_euler_maclaurin(f=fn, symb=x, a=a, b=Infinity, p=p)\n",
    "display(Math(latex(ans)))\n",
    "#display(Math(latex(ans.n())))"
   ]
  },
  {
   "cell_type": "code",
   "execution_count": 61,
   "metadata": {},
   "outputs": [
    {
     "data": {
      "text/latex": [
       "$\\displaystyle \\frac{1}{2} \\, F\\left(1\\right) - \\frac{1}{2} \\, F\\left(+\\infty\\right) + \\int_{1}^{+\\infty} F\\left(x\\right)\\,{d x} + {\\sum_{j=1}^{+\\infty} \\int_{0}^{1} \\frac{1}{2} \\, {\\left(2 \\, v - 1\\right)} \\mathrm{D}_{0}\\left(F\\right)\\left(j + v\\right)\\,{d v}}$"
      ],
      "text/plain": [
       "<IPython.core.display.Math object>"
      ]
     },
     "metadata": {},
     "output_type": "display_data"
    },
    {
     "data": {
      "text/latex": [
       "$\\displaystyle {\\sum_{j=1}^{+\\infty} \\frac{2 \\, j + 3}{2 \\, {\\left(j^{2} + 2 \\, j + 1\\right)}} - \\frac{2 \\, j - 1}{2 \\, j^{2}}} + \\frac{3}{2}$"
      ],
      "text/plain": [
       "<IPython.core.display.Math object>"
      ]
     },
     "metadata": {},
     "output_type": "display_data"
    }
   ],
   "source": [
    "use_int_R_p_j=True\n",
    "change_R_p_order=False\n",
    "use_int_R_p_shifted_first = True\n",
    "\n",
    "ans = my_euler_maclaurin(f=F, symb=x, a=a, b=Infinity, p=p)\n",
    "display(Math(latex(ans)))\n",
    "\n",
    "ans = my_euler_maclaurin(f=fn, symb=x, a=a, b=Infinity, p=p, hold_int=False)\n",
    "display(Math(latex(ans)))\n",
    "#display(Math(latex(ans.n())))"
   ]
  },
  {
   "cell_type": "code",
   "execution_count": 62,
   "metadata": {},
   "outputs": [
    {
     "data": {
      "text/latex": [
       "$\\displaystyle \\frac{1}{2} \\, F\\left(1\\right) - \\frac{1}{2} \\, F\\left(+\\infty\\right) + \\int_{1}^{+\\infty} F\\left(x\\right)\\,{d x} + {\\sum_{j=1}^{+\\infty} \\int_{0}^{1} \\frac{1}{2} \\, {\\left(2 \\, v - 1\\right)} \\mathrm{D}_{0}\\left(F\\right)\\left(j + v\\right)\\,{d v}}$"
      ],
      "text/plain": [
       "<IPython.core.display.Math object>"
      ]
     },
     "metadata": {},
     "output_type": "display_data"
    },
    {
     "data": {
      "text/latex": [
       "$\\displaystyle \\frac{1}{6} \\, \\pi^{2}$"
      ],
      "text/plain": [
       "<IPython.core.display.Math object>"
      ]
     },
     "metadata": {},
     "output_type": "display_data"
    },
    {
     "data": {
      "text/latex": [
       "$\\displaystyle 1.64493406684823$"
      ],
      "text/plain": [
       "<IPython.core.display.Math object>"
      ]
     },
     "metadata": {},
     "output_type": "display_data"
    }
   ],
   "source": [
    "use_int_R_p_j=True\n",
    "change_R_p_order=False\n",
    "use_int_R_p_shifted_first = True\n",
    "\n",
    "ans = my_euler_maclaurin(f=F, symb=x, a=a, b=Infinity, p=p)\n",
    "display(Math(latex(ans)))\n",
    "\n",
    "ans = my_euler_maclaurin(f=fn, symb=x, a=a, b=Infinity, p=p, hold_int=False, hold_sum=False)\n",
    "display(Math(latex(ans)))\n",
    "display(Math(latex(ans.n())))"
   ]
  },
  {
   "cell_type": "code",
   "execution_count": 63,
   "metadata": {},
   "outputs": [
    {
     "data": {
      "text/latex": [
       "$\\displaystyle \\frac{1}{2} \\, F\\left(1\\right) - \\frac{1}{2} \\, F\\left(+\\infty\\right) + \\int_{1}^{+\\infty} F\\left(x\\right)\\,{d x} + \\int_{0}^{1} {\\sum_{j=1}^{+\\infty} \\frac{1}{2} \\, {\\left(2 \\, v - 1\\right)} \\mathrm{D}_{0}\\left(F\\right)\\left(j + v\\right)}\\,{d v}$"
      ],
      "text/plain": [
       "<IPython.core.display.Math object>"
      ]
     },
     "metadata": {},
     "output_type": "display_data"
    },
    {
     "data": {
      "text/latex": [
       "$\\displaystyle \\int_{0}^{1} {\\sum_{j=1}^{+\\infty} -\\frac{2 \\, v - 1}{{\\left(j + v\\right)}^{3}}}\\,{d v} + \\frac{3}{2}$"
      ],
      "text/plain": [
       "<IPython.core.display.Math object>"
      ]
     },
     "metadata": {},
     "output_type": "display_data"
    }
   ],
   "source": [
    "use_int_R_p_j=True\n",
    "change_R_p_order=True\n",
    "use_int_R_p_shifted_first = True\n",
    "\n",
    "ans = my_euler_maclaurin(f=F, symb=x, a=a, b=Infinity, p=p)\n",
    "display(Math(latex(ans)))\n",
    "\n",
    "ans_ch = my_euler_maclaurin(fn, x, a, Infinity, p)\n",
    "display(Math(latex(ans_ch)))\n",
    "#display(Math(latex(((ans_ch).n()))))"
   ]
  },
  {
   "cell_type": "code",
   "execution_count": 64,
   "metadata": {},
   "outputs": [
    {
     "data": {
      "text/latex": [
       "$\\displaystyle \\frac{1}{2} \\, F\\left(1\\right) - \\frac{1}{2} \\, F\\left(+\\infty\\right) + \\int_{1}^{+\\infty} F\\left(x\\right)\\,{d x} + \\int_{0}^{1} {\\sum_{j=1}^{+\\infty} \\frac{1}{2} \\, {\\left(2 \\, v - 1\\right)} \\mathrm{D}_{0}\\left(F\\right)\\left(j + v\\right)}\\,{d v}$"
      ],
      "text/plain": [
       "<IPython.core.display.Math object>"
      ]
     },
     "metadata": {},
     "output_type": "display_data"
    },
    {
     "data": {
      "text/latex": [
       "$\\displaystyle \\int_{0}^{1} {\\sum_{j=1}^{+\\infty} -\\frac{2 \\, v - 1}{{\\left(j + v\\right)}^{3}}}\\,{d v} + \\frac{3}{2}$"
      ],
      "text/plain": [
       "<IPython.core.display.Math object>"
      ]
     },
     "metadata": {},
     "output_type": "display_data"
    }
   ],
   "source": [
    "use_int_R_p_j=True\n",
    "change_R_p_order=True\n",
    "use_int_R_p_shifted_first = False\n",
    "\n",
    "ans = my_euler_maclaurin(f=F, symb=x, a=a, b=Infinity, p=p)\n",
    "display(Math(latex(ans)))\n",
    "\n",
    "ans_ch = my_euler_maclaurin(fn, x, a, Infinity, p, hold_int=False)\n",
    "display(Math(latex(ans_ch)))\n",
    "#display(Math(latex(((ans_ch).n()))))"
   ]
  },
  {
   "cell_type": "code",
   "execution_count": 68,
   "metadata": {},
   "outputs": [
    {
     "name": "stdout",
     "output_type": "stream",
     "text": [
      "1/2*F(1) - 1/2*F(+Infinity) + integrate(F(x), x, 1, +Infinity) + sum(integrate(1/2*(2*v - 1)*D[0](F)(j + v), v, 0, 1), j, 1, +Infinity)\n"
     ]
    },
    {
     "data": {
      "text/latex": [
       "$\\displaystyle \\frac{1}{2} \\, F\\left(1\\right) - \\frac{1}{2} \\, F\\left(+\\infty\\right) + \\int_{1}^{+\\infty} F\\left(x\\right)\\,{d x} + {\\sum_{j=1}^{+\\infty} \\int_{0}^{1} \\frac{1}{2} \\, {\\left(2 \\, v - 1\\right)} \\mathrm{D}_{0}\\left(F\\right)\\left(j + v\\right)\\,{d v}}$"
      ],
      "text/plain": [
       "<IPython.core.display.Math object>"
      ]
     },
     "metadata": {},
     "output_type": "display_data"
    },
    {
     "data": {
      "text/latex": [
       "$\\displaystyle {\\sum_{j=1}^{+\\infty} \\frac{2 \\, j + 3}{2 \\, {\\left(j^{2} + 2 \\, j + 1\\right)}} - \\frac{2 \\, j - 1}{2 \\, j^{2}}} + \\frac{3}{2}$"
      ],
      "text/plain": [
       "<IPython.core.display.Math object>"
      ]
     },
     "metadata": {},
     "output_type": "display_data"
    }
   ],
   "source": [
    "use_int_R_p_j=True\n",
    "change_R_p_order=False\n",
    "use_int_R_p_shifted_first = False\n",
    "\n",
    "ans = my_euler_maclaurin(f=F, symb=x, a=a, b=Infinity, p=p)\n",
    "print(ans)\n",
    "display(Math(latex(ans)))\n",
    "\n",
    "ans_ch = my_euler_maclaurin(fn, x, a, Infinity, p, hold_int=False)\n",
    "display(Math(latex(ans_ch)))\n",
    "#display(Math(latex(((ans_ch).n()))))"
   ]
  },
  {
   "cell_type": "code",
   "execution_count": null,
   "metadata": {},
   "outputs": [],
   "source": []
  }
 ],
 "metadata": {
  "kernelspec": {
   "display_name": "SageMath 9.3",
   "language": "sage",
   "name": "sagemath"
  },
  "language_info": {
   "codemirror_mode": {
    "name": "ipython",
    "version": 3
   },
   "file_extension": ".py",
   "mimetype": "text/x-python",
   "name": "python",
   "nbconvert_exporter": "python",
   "pygments_lexer": "ipython3",
   "version": "3.9.2"
  }
 },
 "nbformat": 4,
 "nbformat_minor": 2
}
