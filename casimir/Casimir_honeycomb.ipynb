{
 "cells": [
  {
   "cell_type": "markdown",
   "metadata": {},
   "source": [
    "В данной работе я, развивая подход Казимира, показываю что по аналогии с обычным эффектом Казимира, когда на каждую из двух пластин действует приталкивающая сила Казимира как разность электромагнитных давлений квантовых колебаний вакуума нулевой температуры по разные стороны каждой из пластин, за счет того, что геометрия вакуумного резонатора во внутренней и во внешней области различна, можно попытаться создать разность электромагнитных давлений квантовых колебаний вакуума по разные стороны только лишь одной пластины за счет различия геометрии вакуумных резонаторов по обе ее стороны. Для этого на одной из поверхностей гладкой металлической пластины нужно вырастить наносоты."
   ]
  },
  {
   "cell_type": "markdown",
   "metadata": {},
   "source": [
    "https://www.dwc.knaw.nl/DL/publications/PU00018547.pdf\n",
    "\n",
    "Mathematics.\n",
    "\n",
    "# On the force to perfectly conducting honeycomb on a plate.\n",
    "\n",
    "By A. Ju. Drozdov\n",
    "\n",
    "(Feb 14. 2021. - Feb 09. 2022 - July 20 2022) "
   ]
  },
  {
   "cell_type": "markdown",
   "metadata": {},
   "source": [
    "Let us consider a cubic cavity of volume $L^3$ bounded by perfectly conducting walls and let a perfectly conducting square plate with side $L$ be\n",
    "placed in this cavity parallel to the $xy$ face and let us compare the\n",
    "situation in whieh this plate is at a very large, say $L/2$ distance a from the $xy$ face. \n",
    "\n",
    "One side of this perfectly conducting square plate is a pure plane and other is covered by perfectly conducting honeycomb.\n",
    "\n",
    "On both sided of the the plate\n",
    "expressions $\\frac{1}{2}\\sum\\,\\hbar\\omega$ where the summation extends over all possible\n",
    "resonance frequencies of the cavity $L/2\\times L\\times L$ (large cavity between pure plane and $xy$ face) and the cavity $L/2\\times a\\times a$ (small cavity, one honeycomb) are divergent and devoid of physical\n",
    "meaning but the difference between these sums on the opposite sides,\n",
    "$\\frac{1}{2\\,V_{I}}\\left(\\sum\\,\\,\\hbar\\omega\\right)_{I} - \\frac{1}{2\\,V_{II}}\\left(\\sum\\,\\,\\hbar\\omega\\right)_{II}$, will be shown to have a weIl defined value and this\n",
    "value will be interpreted as the interaction between the plate and the both\n",
    "$xy$ faces."
   ]
  },
  {
   "cell_type": "markdown",
   "metadata": {},
   "source": [
    "The possible vibrations of the cavities defined by "
   ]
  },
  {
   "cell_type": "markdown",
   "metadata": {},
   "source": [
    "$0<=x<=L$, $0<=y<=L$, $0<=z<=L/2$ (large cavity between pure plane and $xy$ face)"
   ]
  },
  {
   "cell_type": "markdown",
   "metadata": {},
   "source": [
    "and"
   ]
  },
  {
   "cell_type": "markdown",
   "metadata": {},
   "source": [
    "$0<=x<=a$, $0<=y<=a$, $0<=z<=L/2$ (small cavity, one honeycomb)"
   ]
  },
  {
   "cell_type": "markdown",
   "metadata": {},
   "source": [
    "have wave vectors"
   ]
  },
  {
   "cell_type": "markdown",
   "metadata": {},
   "source": [
    "$k_x = \\frac{\\pi}{L}\\,n_x$, $k_y = \\frac{\\pi}{L}\\,n_y$, $k_z = \\frac{\\pi}{L/2}\\,n_z$ (large cavity between pure plane and $xy$ face),"
   ]
  },
  {
   "cell_type": "markdown",
   "metadata": {},
   "source": [
    "and"
   ]
  },
  {
   "cell_type": "markdown",
   "metadata": {},
   "source": [
    "$k_x = \\frac{\\pi}{a}\\,n_x$, $k_y = \\frac{\\pi}{a}\\,n_y$, $k_z = \\frac{\\pi}{L/2}\\,n_z$ (small cavity, one honeycomb),\n",
    "\n",
    "where $n_x$. $n_y$, $n_z$:\n",
    "\n",
    "are positive integers;"
   ]
  },
  {
   "cell_type": "markdown",
   "metadata": {},
   "source": [
    "$k = \\sqrt{k_x^2+k_y^2+k_z^2} = \\sqrt{\\kappa^2+k_z^2}$. "
   ]
  },
  {
   "cell_type": "markdown",
   "metadata": {},
   "source": [
    "$E = \\frac{1}{2}\\sum\\,\\hbar\\omega = \\hbar\\,c\\frac{1}{2}\\sum\\limits_{n_x}^{}\\sum\\limits_{n_y}^{}\\sum\\limits_{n_z}^{}k$"
   ]
  },
  {
   "cell_type": "markdown",
   "metadata": {},
   "source": [
    "To every $k_x$, $k_y$, $k_z$ correspond two standing waves unless one of the $n_i$\n",
    "is zero, when there is only one."
   ]
  },
  {
   "cell_type": "markdown",
   "metadata": {},
   "source": [
    "In case of one honeycomb cavity for $k_z$ this is without importance since\n",
    "for very large $L/2$ we may regard $k_z$ as continuous variable. Thus we\n",
    "find "
   ]
  },
  {
   "cell_type": "markdown",
   "metadata": {},
   "source": [
    "$\\frac{1}{2}\\sum\\,\\hbar\\omega = \\hbar\\,c\\frac{1}{2}\\int\\limits_{0}^{\\infty}\\left[{\\sqrt{k_z^2}+2\\sum\\limits_{n_x=1}^{\\infty}\\sum\\limits_{n_y=1}^{\\infty}\\sqrt{n_x^2\\frac{\\pi^2}{a^2}+n_y^2\\frac{\\pi^2}{a^2}+k_z^2}}\\right]d{n_z}$  (small cavity, one honeycomb),"
   ]
  },
  {
   "cell_type": "markdown",
   "metadata": {},
   "source": [
    "$dn_z = \\frac{L/2}{\\pi}\\,dk_z$,"
   ]
  },
  {
   "cell_type": "markdown",
   "metadata": {},
   "source": [
    "$\\frac{1}{2\\,V}\\sum\\,\\hbar\\omega = \\frac{1}{a^2\\,L/2}\\hbar\\,c\\frac{1}{2}\\int\\limits_{0}^{\\infty}\\left[{\\sqrt{k_z^2}+2\\sum\\limits_{n_x=1}^{\\infty}\\sum\\limits_{n_y=1}^{\\infty}\\sqrt{n_x^2\\frac{\\pi^2}{a^2}+n_y^2\\frac{\\pi^2}{a^2}+k_z^2}}\\right]\\frac{L/2}{\\pi}\\,dk_z$  (small cavity, one honeycomb),"
   ]
  },
  {
   "cell_type": "markdown",
   "metadata": {},
   "source": [
    "$\\frac{1}{2\\,V}\\sum\\,\\hbar\\omega = \\frac{1}{a^2\\,\\pi}\\hbar\\,c\\int\\limits_{0}^{\\infty}\\left[{\\frac{1}{2}\\sqrt{k_z^2}+\\sum\\limits_{n_x=1}^{\\infty}\\sum\\limits_{n_y=1}^{\\infty}\\sqrt{n_x^2\\frac{\\pi^2}{a^2}+n_y^2\\frac{\\pi^2}{a^2}+k_z^2}}\\right]\\,dk_z$  (small cavity, one honeycomb),"
   ]
  },
  {
   "cell_type": "markdown",
   "metadata": {},
   "source": [
    "$\\frac{1}{2\\,V}\\sum\\,\\hbar\\omega = \\frac{1}{a^2\\,\\pi}\\hbar\\,c\\int\\limits_{0}^{\\infty}\\left[{\\sum\\limits_{n_x=(0)1}^{\\infty}\\sum\\limits_{n_y=(0)1}^{\\infty}\\sqrt{n_x^2\\frac{\\pi^2}{a^2}+n_y^2\\frac{\\pi^2}{a^2}+k_z^2}}\\right]\\,dk_z$  (small cavity, one honeycomb),"
   ]
  },
  {
   "cell_type": "markdown",
   "metadata": {},
   "source": [
    "where the notation $\\left(0\\right) 1$ is meant to indicate that the term with $n_x = 0$ and $n_y = 0$\n",
    "has to be multiplied by $\\frac{1}{2}$. "
   ]
  },
  {
   "cell_type": "markdown",
   "metadata": {},
   "source": [
    "$\\frac{1}{2\\,V}\\sum\\,\\hbar\\omega = \\frac{1}{a^2\\,\\pi}\\hbar\\,c\\sum\\limits_{n_x=(0)1}^{\\infty}\\sum\\limits_{n_y=(0)1}^{\\infty}\\left[\\int\\limits_{0}^{\\infty}\\sqrt{n_x^2\\frac{\\pi^2}{a^2}+n_y^2\\frac{\\pi^2}{a^2}+k_z^2}\\,dk_z\\right]$  (small cavity, one honeycomb),"
   ]
  },
  {
   "cell_type": "code",
   "execution_count": null,
   "metadata": {},
   "outputs": [],
   "source": []
  },
  {
   "cell_type": "markdown",
   "metadata": {},
   "source": [
    "And in case of large cavity for $k_x$, $k_y$ this is without importance since\n",
    "for very large $L$ we may regard $k_x$, $k_y$ as continuous variables. Thus we\n",
    "find "
   ]
  },
  {
   "cell_type": "markdown",
   "metadata": {},
   "source": [
    "$\\frac{1}{2}\\sum\\,\\hbar\\omega = \\hbar\\,c\\frac{1}{2}\\int\\limits_{0}^{\\infty}\\int\\limits_{0}^{\\infty}\\left[{\\sqrt{k_x^2+k_y^2}+2\\sum\\limits_{n_z=1}^{\\infty}\\sqrt{n_z^2\\frac{\\pi^2}{(L/2)^2}+k_x^2+k_y^2}}\\right]d{n_x}d{n_y}$ (large cavity between pure plane and $xy$ face),"
   ]
  },
  {
   "cell_type": "markdown",
   "metadata": {},
   "source": [
    "For very large $L/2$ also this last summation may\n",
    "be replaced by an integral and it is therefore easily seen that our interaction energy is given by "
   ]
  },
  {
   "cell_type": "markdown",
   "metadata": {},
   "source": [
    "$\\frac{1}{2}\\sum\\,\\hbar\\omega = \\hbar\\,c\\int\\limits_{0}^{\\infty}\\int\\limits_{0}^{\\infty}\\int\\limits_{0}^{\\infty}\\sqrt{k_z^2+k_x^2+k_y^2}\\,d{n_x}\\,d{n_y}\\,d{n_z}$ (large cavity between pure plane and $xy$ face),"
   ]
  },
  {
   "cell_type": "markdown",
   "metadata": {},
   "source": [
    "$dn_x = \\frac{L}{\\pi}\\,dk_x$, $dn_y = \\frac{L}{\\pi}\\,dk_y$, $dn_z = \\frac{L/2}{\\pi}\\,dk_z$,"
   ]
  },
  {
   "cell_type": "markdown",
   "metadata": {},
   "source": [
    "$\\frac{1}{2\\,V}\\sum\\,\\hbar\\omega = \\frac{1}{L^3/2}\\hbar\\,c\\int\\limits_{0}^{\\infty}\\int\\limits_{0}^{\\infty}\\int\\limits_{0}^{\\infty}\\sqrt{k_z^2+k_x^2+k_y^2}\\,dn_x\\,dn_y\\,\\frac{L/2}{\\pi}\\,dk_z$ (large cavity between pure plane and $xy$ face),"
   ]
  },
  {
   "cell_type": "markdown",
   "metadata": {},
   "source": [
    "$\\frac{1}{2\\,V}\\sum\\,\\hbar\\omega = \\frac{1}{L^2\\,\\pi}\\hbar\\,c\\int\\limits_{0}^{\\infty}\\int\\limits_{0}^{\\infty}\\left[\\,\\int\\limits_{0}^{\\infty}\\sqrt{k_z^2+k_x^2+k_y^2}\\,dk_z\\right]\\,dn_x\\,dn_y$ (large cavity between pure plane and $xy$ face),"
   ]
  },
  {
   "cell_type": "code",
   "execution_count": null,
   "metadata": {},
   "outputs": [],
   "source": []
  },
  {
   "cell_type": "markdown",
   "metadata": {},
   "source": [
    "$\\frac{1}{2\\,V}\\sum\\,\\hbar\\omega = \\frac{1}{a^2\\,\\pi}\\hbar\\,c\\sum\\limits_{n_x=(0)1}^{\\infty}\\sum\\limits_{n_y=(0)1}^{\\infty}\\left[\\,\\int\\limits_{0}^{\\infty}\\sqrt{n_x^2\\frac{\\pi^2}{a^2}+n_y^2\\frac{\\pi^2}{a^2}+k_z^2}\\,dk_z\\right]$  (small cavity, one honeycomb),"
   ]
  },
  {
   "cell_type": "markdown",
   "metadata": {},
   "source": [
    "$\\frac{1}{2\\,V}\\sum\\,\\hbar\\omega = \\frac{1}{L^2\\,\\pi}\\hbar\\,c\\int\\limits_{0}^{\\infty}\\int\\limits_{0}^{\\infty}\\left[\\,\\int\\limits_{0}^{\\infty}\\sqrt{k_x^2+k_y^2+k_z^2}\\,dk_z\\right]\\,dn_x\\,dn_y$ (large cavity between pure plane and $xy$ face),"
   ]
  },
  {
   "cell_type": "markdown",
   "metadata": {},
   "source": [
    "$\\frac{1}{2\\,V}\\sum\\,\\hbar\\omega = \\frac{1}{L^2\\,\\pi}\\hbar\\,c\\int\\limits_{0}^{\\infty}\\int\\limits_{0}^{\\infty}\\left[\\,\\int\\limits_{0}^{\\infty}\\sqrt{k_x^2+k_y^2+k_z^2}\\,dk_z\\right]\\,\\left(\\frac{L}{\\pi}dk_x\\right)\\,\\left(\\frac{L}{\\pi}dk_y\\right)$ (large cavity between pure plane and $xy$ face),"
   ]
  },
  {
   "cell_type": "markdown",
   "metadata": {},
   "source": [
    "$\\frac{a^2}{2\\,V}\\sum\\,\\hbar\\omega = \\frac{1}{\\pi}\\hbar\\,c\\int\\limits_{0}^{\\infty}\\int\\limits_{0}^{\\infty}\\left[\\,\\int\\limits_{0}^{\\infty}\\sqrt{k_x^2+k_y^2+k_z^2}\\,dk_z\\right]\\,\\left(\\frac{a}{\\pi}dk_x\\right)\\,\\left(\\frac{a}{\\pi}dk_y\\right)$ (large cavity between pure plane and $xy$ face),"
   ]
  },
  {
   "cell_type": "markdown",
   "metadata": {},
   "source": [
    "$\\frac{1}{2\\,V}\\sum\\,\\hbar\\omega = \\frac{1}{a^2\\,\\pi}\\hbar\\,c\\int\\limits_{0}^{\\infty}\\int\\limits_{0}^{\\infty}\\left[\\,\\int\\limits_{0}^{\\infty}\\sqrt{k_x^2+k_y^2+k_z^2}\\,dk_z\\right]\\,\\left(\\frac{a}{\\pi}dk_x\\right)\\,\\left(\\frac{a}{\\pi}dk_y\\right)$ (large cavity between pure plane and $xy$ face),"
   ]
  },
  {
   "cell_type": "markdown",
   "metadata": {},
   "source": [
    "it is therefore easily seen that our interaction energy is given by "
   ]
  },
  {
   "cell_type": "markdown",
   "metadata": {},
   "source": [
    "$\\delta\\,\\frac{E}{V} = \\frac{1}{a^2\\,\\pi}\\hbar\\,c\\left\\{\\sum\\limits_{n_x=(0)1}^{\\infty}\\sum\\limits_{n_y=(0)1}^{\\infty}\\left[\\,\\int\\limits_{0}^{\\infty}\\sqrt{n_x^2\\frac{\\pi^2}{a^2}+n_y^2\\frac{\\pi^2}{a^2}+k_z^2}\\,dk_z\\right] - \\int\\limits_{0}^{\\infty}\\int\\limits_{0}^{\\infty}\\left[\\,\\int\\limits_{0}^{\\infty}\\sqrt{k_x^2+k_y^2+k_z^2}\\,dk_z\\right]\\,\\left(\\frac{a}{\\pi}dk_x\\right)\\,\\left(\\frac{a}{\\pi}dk_y\\right)\\right\\}$"
   ]
  },
  {
   "cell_type": "markdown",
   "metadata": {},
   "source": [
    "$\\delta\\,\\frac{E}{V} = \\frac{1}{a^2\\,\\pi}\\hbar\\,c\\left\\{\\sum\\limits_{n_x=(0)1}^{\\infty}\\sum\\limits_{n_y=(0)1}^{\\infty}\\left[\\,\\int\\limits_{0}^{\\infty}\\sqrt{n_x^2\\frac{\\pi^2}{a^2}+n_y^2\\frac{\\pi^2}{a^2}+k_z^2}\\,dk_z\\right] - \\int\\limits_{0}^{\\infty}\\int\\limits_{0}^{\\infty}\\left[\\,\\int\\limits_{0}^{\\infty}\\sqrt{k_x^2+k_y^2+k_z^2}\\,dk_z\\right]\\,dn_x\\,dn_y\\right\\}$"
   ]
  },
  {
   "cell_type": "code",
   "execution_count": null,
   "metadata": {},
   "outputs": [],
   "source": []
  },
  {
   "cell_type": "markdown",
   "metadata": {},
   "source": [
    "${\\left(\\frac{E}{V}\\right)_{small\\,cavity} = \\frac{1}{a^2}\\hbar \\, \\sum\\limits_{n_x=(0)1}^{\\infty}\\sum\\limits_{n_y=(0)1}^{\\infty}\\,\\int\\limits_{0}^{\\infty} {\\frac {dk_{z}}{\\pi}}\\omega _{n_x,n_y}.}$"
   ]
  },
  {
   "cell_type": "markdown",
   "metadata": {},
   "source": [
    "where $\\omega _{n_x,n_y} = c\\,\\sqrt{n_x^2\\frac{\\pi^2}{a^2}+n_y^2\\frac{\\pi^2}{a^2}+k_z^2}$"
   ]
  },
  {
   "cell_type": "markdown",
   "metadata": {},
   "source": [
    "This expression is clearly infinite, and to proceed with the calculation, it is convenient to introduce a regulator."
   ]
  },
  {
   "cell_type": "markdown",
   "metadata": {},
   "source": [
    "In order to obtain a finite result it is necessary to multiply the integrands\n",
    "by a function $f(k/k_m)$ which is unity for $k << k_m$ but tends to zero sufficiently rapidly for $(k/k_m)\\, \\rightarrow\\,\\infty$. where $k_m$ may be defined by $f(1) = \\frac{1}{2}$.\n",
    "The physical meaning is obvious: for very short waves (X~rays e.g.)\n",
    "our plate is hardly an obstacle at all and therefore the zero point energy\n",
    "of these waves will not be influenced by the position of this plate. "
   ]
  },
  {
   "cell_type": "markdown",
   "metadata": {},
   "source": [
    "The regulator will serve to make the expression finite, and in the end will be removed. The regulated version of the energy per unit-area of the plate is"
   ]
  },
  {
   "cell_type": "markdown",
   "metadata": {},
   "source": [
    "Introducing the variable $u^2 = a^2\\,k_z^2/\\pi^2$"
   ]
  },
  {
   "cell_type": "markdown",
   "metadata": {},
   "source": [
    "$du = a/\\pi\\,dk_z$"
   ]
  },
  {
   "cell_type": "markdown",
   "metadata": {},
   "source": [
    "\\begin{equation}\n",
    "\\delta\\,\\frac{E}{V} = \\frac{\\hbar\\,c\\,\\pi}{a^4}\\left\\{\n",
    "\\sum\\limits_{n_x=\\left(0\\right)\\,1}^{\\infty}\n",
    "\\sum\\limits_{n_y=\\left(0\\right)\\,1}^{\\infty}\n",
    "\\int\\limits_{0}^{\\infty}\n",
    "{\\sqrt{n_x^2 + n_y^2 + u^2}}\n",
    "f\\left(\\frac{\\pi\\sqrt{n_x^2 + n_y^2 + u^2}}{a\\,k_m}\\right)\n",
    "\\,d{u}\n",
    "-\n",
    "\\int\\limits_{0}^{\\infty}\n",
    "\\int\\limits_{0}^{\\infty}\n",
    "\\int\\limits_{0}^{\\infty}\n",
    "{\\sqrt{n_x^2 + n_y^2 + u^2}}\n",
    "f\\left(\\frac{\\pi\\sqrt{n_x^2 + n_y^2 + u^2}}{a\\,k_m}\\right)\n",
    "\\,d{u}\\,d{n_x}\\,d{n_y}\n",
    "\\right\\}\n",
    "\\end{equation}"
   ]
  },
  {
   "cell_type": "markdown",
   "metadata": {},
   "source": [
    "\\begin{equation}\n",
    "\\delta\\,\\frac{E}{V} = \\frac{\\hbar\\,c\\,\\pi}{a^4}\n",
    "\\int\\limits_{0}^{\\infty}\n",
    "\\left\\{\n",
    "\\sum\\limits_{n_x=\\left(0\\right)\\,1}^{\\infty}\n",
    "\\sum\\limits_{n_y=\\left(0\\right)\\,1}^{\\infty}\n",
    "{\\sqrt{n_x^2 + n_y^2 + u^2}}\n",
    "f\\left(\\frac{\\pi\\sqrt{n_x^2 + n_y^2 + u^2}}{a\\,k_m}\\right)\n",
    "-\n",
    "\\int\\limits_{0}^{\\infty}\n",
    "\\int\\limits_{0}^{\\infty}\n",
    "{\\sqrt{n_x^2 + n_y^2 + u^2}}\n",
    "f\\left(\\frac{\\pi\\sqrt{n_x^2 + n_y^2 + u^2}}{a\\,k_m}\\right)\n",
    "\\,d{n_x}\\,d{n_y}\n",
    "\\right\\}\n",
    "\\,d{u}\n",
    "\\end{equation}"
   ]
  },
  {
   "cell_type": "markdown",
   "metadata": {},
   "source": [
    "\\begin{equation}\n",
    "F\\left(n_x, n_y\\right) = \n",
    "\\sqrt{n_x^2 + n_y^2+u^2}\\,\n",
    "f\\left(\\frac{\\pi\\sqrt{n_x^2 + n_y^2+u^2}}{a\\,k_m}\\right)\n",
    "\\end{equation}"
   ]
  },
  {
   "cell_type": "markdown",
   "metadata": {},
   "source": [
    "\\begin{equation}\n",
    "\\delta\\,\\frac{E}{V} = \\frac{\\hbar\\,c\\,\\pi}{a^4}\n",
    "\\int\\limits_{0}^{\\infty}{\n",
    "\\left\\{\n",
    "\\sum\\limits_{n_x=\\left(0\\right)\\,1}^{\\infty}\n",
    "\\sum\\limits_{n_y=\\left(0\\right)\\,1}^{\\infty}\n",
    "F\\left(n_x, n_y\\right)\n",
    "-\n",
    "\\int\\limits_{0}^{\\infty}\n",
    "\\int\\limits_{0}^{\\infty}\n",
    "F\\left(n_x, n_y\\right)\\,d{n_x}\\,d{n_y}\n",
    "\\right\\}\n",
    "}\\,d{u}\n",
    "\\end{equation}"
   ]
  },
  {
   "cell_type": "code",
   "execution_count": 1,
   "metadata": {},
   "outputs": [],
   "source": [
    "from IPython.display import display, Math, Latex"
   ]
  },
  {
   "cell_type": "code",
   "execution_count": 2,
   "metadata": {},
   "outputs": [],
   "source": [
    "n_x = var(\"n_x\")\n",
    "assume(n_x, \"real\")\n",
    "assume(n_x > 0)\n",
    "n_y = var(\"n_y\")\n",
    "assume(n_y, \"real\")\n",
    "assume(n_y > 0)\n",
    "n_z = var(\"n_z\")"
   ]
  },
  {
   "cell_type": "code",
   "execution_count": 3,
   "metadata": {},
   "outputs": [],
   "source": [
    "#u = a*k_z/(pi)\n",
    "u = var(\"u\")"
   ]
  },
  {
   "cell_type": "code",
   "execution_count": 4,
   "metadata": {},
   "outputs": [],
   "source": [
    "a = var(\"a\")\n",
    "assume(a, 'real')\n",
    "assume(a>0)\n",
    "\n",
    "L = var(\"L\")\n",
    "\n",
    "k_x = var(\"k_x\")\n",
    "k_y = var(\"k_y\")\n",
    "k_z = var(\"k_z\")"
   ]
  },
  {
   "cell_type": "code",
   "execution_count": 5,
   "metadata": {},
   "outputs": [],
   "source": [
    "k_x = pi * n_x / a\n",
    "k_y = pi * n_y / a\n",
    "k_z = pi * n_z / (L/2)"
   ]
  },
  {
   "cell_type": "code",
   "execution_count": 6,
   "metadata": {},
   "outputs": [],
   "source": [
    "k_m = var(\"k_m\")\n",
    "assume(k_m, 'real')\n",
    "assume(k_m > 0)"
   ]
  },
  {
   "cell_type": "code",
   "execution_count": 7,
   "metadata": {},
   "outputs": [],
   "source": [
    "f = function('f')(var(\"k_km\"))\n",
    "fn = lambda k_km : 1 / (1 + (k_km)^4)"
   ]
  },
  {
   "cell_type": "markdown",
   "metadata": {},
   "source": [
    "$k_m$ may be defined by $f(1) = \\frac{1}{2}$."
   ]
  },
  {
   "cell_type": "code",
   "execution_count": 8,
   "metadata": {},
   "outputs": [
    {
     "data": {
      "text/plain": [
       "1/2"
      ]
     },
     "execution_count": 8,
     "metadata": {},
     "output_type": "execute_result"
    }
   ],
   "source": [
    "fn(1)"
   ]
  },
  {
   "cell_type": "code",
   "execution_count": 9,
   "metadata": {},
   "outputs": [
    {
     "data": {
      "image/png": "[encoded data removed]",
      "text/plain": [
       "Graphics object consisting of 1 graphics primitive"
      ]
     },
     "execution_count": 9,
     "metadata": {},
     "output_type": "execute_result"
    }
   ],
   "source": [
    "plot(fn(x), (x, 0, 3))"
   ]
  },
  {
   "cell_type": "markdown",
   "metadata": {},
   "source": [
    "If $\\omega _{n_x,n_y} = c\\,\\sqrt{n_x^2\\frac{\\pi^2}{a^2}+n_y^2\\frac{\\pi^2}{a^2}+k_z^2}$\n",
    "\n",
    "and \n",
    "\n",
    "$k_z^2 = u^2 \\frac{\\pi^2}{a^2}$\n",
    "\n",
    "we have\n",
    "\n",
    "$\\omega _{n_x,n_y} = c \\, \\frac{\\pi}{a} \\sqrt{n_x^2+n_y^2+u^2}$\n",
    "\n",
    "so\n",
    "\n",
    "$f\\left(\\frac{\\pi\\sqrt{n_x^2 + n_y^2+u^2}}{a\\,k_m}\\right) = f\\left(\\frac{\\omega _{n_x,n_y}}{c\\,k_m}\\right)$\n",
    "\n",
    "and\n",
    "\n",
    "$\\omega_m = c\\,k_m$"
   ]
  },
  {
   "cell_type": "code",
   "execution_count": 10,
   "metadata": {},
   "outputs": [
    {
     "data": {
      "text/latex": [
       "$\\displaystyle \\sqrt{n_{x}^{2} + n_{y}^{2} + u^{2}} f\\left(\\frac{\\pi \\sqrt{n_{x}^{2} + n_{y}^{2} + u^{2}}}{a k_{m}}\\right)$"
      ],
      "text/plain": [
       "<IPython.core.display.Math object>"
      ]
     },
     "metadata": {},
     "output_type": "display_data"
    },
    {
     "data": {
      "text/plain": [
       "sqrt(n_x^2 + n_y^2 + u^2)*f(pi*sqrt(n_x^2 + n_y^2 + u^2)/(a*k_m))"
      ]
     },
     "execution_count": 10,
     "metadata": {},
     "output_type": "execute_result"
    }
   ],
   "source": [
    "Fu = lambda u, n_x, n_y, a, k_m : sqrt(n_x^2 + n_y^2 + u^2)*f(k_km=pi*sqrt(n_x^2 + n_y^2 + u^2)/(a*k_m))\n",
    "display(Math(latex(Fu(u, n_x, n_y, a, k_m))))\n",
    "Fu(u, n_x, n_y, a, k_m)"
   ]
  },
  {
   "cell_type": "code",
   "execution_count": 11,
   "metadata": {},
   "outputs": [
    {
     "data": {
      "text/latex": [
       "$\\displaystyle \\frac{\\sqrt{n_{x}^{2} + n_{y}^{2} + u^{2}}}{\\frac{\\pi^{4} {\\left(n_{x}^{2} + n_{y}^{2} + u^{2}\\right)}^{2}}{a^{4} k_{m}^{4}} + 1}$"
      ],
      "text/plain": [
       "<IPython.core.display.Math object>"
      ]
     },
     "metadata": {},
     "output_type": "display_data"
    },
    {
     "data": {
      "text/plain": [
       "sqrt(n_x^2 + n_y^2 + u^2)/(pi^4*(n_x^2 + n_y^2 + u^2)^2/(a^4*k_m^4) + 1)"
      ]
     },
     "execution_count": 11,
     "metadata": {},
     "output_type": "execute_result"
    }
   ],
   "source": [
    "Fn = lambda u, n_x, n_y, a, k_m : sqrt(n_x^2 + n_y^2 + u^2)*fn(k_km=pi*sqrt(n_x^2 + n_y^2 + u^2)/(a*k_m))\n",
    "display(Math(latex(Fn(u, n_x, n_y, a, k_m))))\n",
    "Fn(u, n_x, n_y, a, k_m)"
   ]
  },
  {
   "cell_type": "code",
   "execution_count": 12,
   "metadata": {},
   "outputs": [],
   "source": [
    "def num_int(f, a, b, v=x):\n",
    "    from scipy import integrate\n",
    "\n",
    "    try:\n",
    "        integral = integrate.quad(f, a, b)\n",
    "\n",
    "        result = integral[0]\n",
    "        return result\n",
    "\n",
    "    except Exception as ex:\n",
    "\n",
    "        if True or \"unable to simplify to float approximation\" == str(ex):\n",
    "            from sage.symbolic.integration.integral import definite_integral\n",
    "            return definite_integral(f(v), v, a, b, hold=True)\n",
    "\n",
    "        print (\"Exception ex = \", str(ex))\n",
    "        print (\"f = \", f)\n",
    "        try:\n",
    "            #print (\"integrand = \", get_integrand_view(f))\n",
    "            print (\"integrand = \", f(x))\n",
    "        except Exception as ex2:\n",
    "            print (\"Exception ex2 = \", ex2)\n",
    "\n",
    "        print (\"a, b = \", a, \",\", b)\n",
    "        try:\n",
    "            print (\"f(a) = \", f(a))\n",
    "        except:\n",
    "            pass\n",
    "        try:\n",
    "            print (\"f(b) = \", f(b))\n",
    "        except:\n",
    "            pass\n",
    "\n",
    "        import inspect\n",
    "        stack = inspect.stack()\n",
    "        for frame in stack:\n",
    "            func_name = frame[3]\n",
    "            print (\"func_name = \", func_name)\n",
    "\n",
    "        raise ex"
   ]
  },
  {
   "cell_type": "code",
   "execution_count": 13,
   "metadata": {},
   "outputs": [],
   "source": [
    "Ia = lambda n_x, n_y, a, k_m : num_int(lambda u: Fn(u, n_x, n_y, a, k_m), 0, Infinity)"
   ]
  },
  {
   "cell_type": "code",
   "execution_count": 14,
   "metadata": {},
   "outputs": [],
   "source": [
    "from sage.symbolic.integration.integral import definite_integral\n",
    "In = definite_integral(Fu(u, n_x, n_y, a = 1, k_m = 1), u, 0, Infinity, hold=True)"
   ]
  },
  {
   "cell_type": "code",
   "execution_count": 15,
   "metadata": {},
   "outputs": [],
   "source": [
    "IIa = lambda n_y, a, k_m : num_int(lambda n_x: Ia(n_x, n_y, a, k_m), 0, Infinity)"
   ]
  },
  {
   "cell_type": "code",
   "execution_count": 16,
   "metadata": {},
   "outputs": [],
   "source": [
    "IIIa = lambda a, k_m : num_int(lambda n_y: IIa(n_y, a, k_m), 0, Infinity)"
   ]
  },
  {
   "cell_type": "code",
   "execution_count": 17,
   "metadata": {},
   "outputs": [
    {
     "data": {
      "image/png": "[encoded data removed]",
      "text/plain": [
       "Graphics object consisting of 1 graphics primitive"
      ]
     },
     "metadata": {},
     "output_type": "display_data"
    }
   ],
   "source": [
    "plot_data_Ia = []\n",
    "\n",
    "for nx in (0.01, 0.02, 0.03, 0.04, 0.05, 0.1, 0.2, 0.3, 0.4, 0.5, 1.0, 1.5, 2.0, 2.5, 3.0, 3.5, 4.0, 4.5, 5.0, 5.5, 6, 7, 8, 9, 10):\n",
    "    plot_data_Ia += [(nx, Ia (n_x=nx, n_y=1, k_m=10, a=1))]\n",
    "    \n",
    "list_plot(plot_data_Ia).show()"
   ]
  },
  {
   "cell_type": "code",
   "execution_count": 18,
   "metadata": {},
   "outputs": [],
   "source": [
    "def sum_Ia(n_y, a, k_m, N):\n",
    "    S = 0.5 * Ia(n_x=0, n_y=n_y, a=a, k_m=k_m)\n",
    "    for i in range(1,N+1):\n",
    "        S += Ia(n_x=i, n_y=n_y, a=a, k_m=k_m)\n",
    "    return S"
   ]
  },
  {
   "cell_type": "code",
   "execution_count": 19,
   "metadata": {},
   "outputs": [],
   "source": [
    "def dsum_Ia(n_y, a, k_m, N1, N2):\n",
    "    S = 0\n",
    "    for i in range(N1,N2+1):\n",
    "        S += Ia(n_x=i, n_y=n_y, a=a, k_m=k_m)\n",
    "    return S"
   ]
  },
  {
   "cell_type": "code",
   "execution_count": 20,
   "metadata": {},
   "outputs": [
    {
     "data": {
      "text/plain": [
       "0.0156504027153769"
      ]
     },
     "execution_count": 20,
     "metadata": {},
     "output_type": "execute_result"
    }
   ],
   "source": [
    "sum_Ia(n_y = 1, a = 1, k_m = 1, N = 20)"
   ]
  },
  {
   "cell_type": "code",
   "execution_count": 21,
   "metadata": {},
   "outputs": [
    {
     "data": {
      "text/plain": [
       "0.0156504027153769"
      ]
     },
     "execution_count": 21,
     "metadata": {},
     "output_type": "execute_result"
    }
   ],
   "source": [
    "sum_Ia(n_y = 1, a = 1, k_m = 1, N = 10) + dsum_Ia(n_y = 1, a = 1, k_m = 1, N1 = 11, N2=20)"
   ]
  },
  {
   "cell_type": "code",
   "execution_count": 22,
   "metadata": {},
   "outputs": [],
   "source": [
    "def plot_sum_minus_int(km, N_list):\n",
    "\n",
    "    ii1 = IIa (n_y = 1, a = 1, k_m = km)\n",
    "    print(ii1)\n",
    "\n",
    "    plot_data_sum_Ia = []\n",
    "    plot_data_sum_Ia_ii = []\n",
    "    \n",
    "    i_point = 0\n",
    "\n",
    "    for N in N_list:\n",
    "        if 0 == i_point:\n",
    "            sum1 = sum_Ia (n_y = 1, a = 1, k_m = km, N = N)\n",
    "        else:\n",
    "            sum1 += dsum_Ia (n_y = 1, a = 1, k_m = km, N1 = N_stored+1, N2 = N)\n",
    "            \n",
    "        N_stored = N\n",
    "        \n",
    "        print (N, log(N, 10), sum1, sum1 - ii1)\n",
    "        plot_data_sum_Ia += [(log(N, 10), sum1)]\n",
    "        plot_data_sum_Ia_ii += [(log(N, 10), sum1 - ii1)]\n",
    "        \n",
    "        if i_point > 2:\n",
    "            #list_plot(plot_data_sum_Ia).show()\n",
    "            #list_plot(plot_data_sum_Ia_ii).show()\n",
    "            pass\n",
    "\n",
    "        i_point += 1\n",
    "\n",
    "    list_plot(plot_data_sum_Ia_ii).show()"
   ]
  },
  {
   "cell_type": "code",
   "execution_count": 23,
   "metadata": {},
   "outputs": [
    {
     "name": "stderr",
     "output_type": "stream",
     "text": [
      "/tmp/ipykernel_17740/2830054910.py:5: IntegrationWarning: The integral is probably divergent, or slowly convergent.\n",
      "  integral = integrate.quad(f, a, b)\n"
     ]
    },
    {
     "name": "stdout",
     "output_type": "stream",
     "text": [
      "0.016088766033466918\n",
      "100 2 0.0160485420776867 -0.0000402239557801970\n",
      "200 log(200)/log(10) 0.0160994854082394 0.0000107193747725040\n",
      "300 log(300)/log(10) 0.0161165236876963 0.0000277576542293788\n",
      "400 log(400)/log(10) 0.0161250503453111 0.0000362843118441938\n",
      "500 log(500)/log(10) 0.0161301705139352 0.0000414044804682885\n",
      "1000 3 0.0161404088108855 0.0000516427774185750\n",
      "5000 log(5000)/log(10) 0.0161463253409017 0.0000575593074347396\n",
      "10000 4 0.0161465387191049 0.0000577726856380023\n"
     ]
    },
    {
     "data": {
      "image/png": "[encoded data removed]",
      "text/plain": [
       "Graphics object consisting of 1 graphics primitive"
      ]
     },
     "metadata": {},
     "output_type": "display_data"
    }
   ],
   "source": [
    "plot_sum_minus_int(km=1, N_list = (100, 200, 300, 400, 500, 1000, 5000, 10000))"
   ]
  },
  {
   "cell_type": "code",
   "execution_count": 24,
   "metadata": {},
   "outputs": [
    {
     "name": "stdout",
     "output_type": "stream",
     "text": [
      "0.25023154075548043\n",
      "100 2 0.249063207849550 -0.00116833290593038\n",
      "200 log(200)/log(10) 0.249878303647082 -0.000353237108398047\n",
      "300 log(300)/log(10) 0.250150919560919 -0.0000806211945613700\n",
      "400 log(400)/log(10) 0.250287401676464 0.0000558609209836414\n",
      "500 log(500)/log(10) 0.250369344537923 0.000137803782443047\n",
      "1000 3 0.250533339437650 0.000301798682169285\n"
     ]
    },
    {
     "name": "stderr",
     "output_type": "stream",
     "text": [
      "/tmp/ipykernel_17740/2830054910.py:5: IntegrationWarning: The integral is probably divergent, or slowly convergent.\n",
      "  integral = integrate.quad(f, a, b)\n"
     ]
    },
    {
     "name": "stdout",
     "output_type": "stream",
     "text": [
      "5000 log(5000)/log(10) 0.250650939624236 0.000419398868755694\n",
      "10000 4 0.250654353675488 0.000422812920007898\n"
     ]
    },
    {
     "data": {
      "image/png": "[encoded data removed]",
      "text/plain": [
       "Graphics object consisting of 1 graphics primitive"
      ]
     },
     "metadata": {},
     "output_type": "display_data"
    }
   ],
   "source": [
    "plot_sum_minus_int(km=2, N_list = (100, 200, 300, 400, 500, 1000, 5000, 10000))"
   ]
  },
  {
   "cell_type": "code",
   "execution_count": 25,
   "metadata": {},
   "outputs": [
    {
     "name": "stdout",
     "output_type": "stream",
     "text": [
      "1.1536437889809816\n",
      "100 2 1.14463356070463 -0.00901022827635267\n",
      "200 log(200)/log(10) 1.14875998320153 -0.00488380577945424\n",
      "300 log(300)/log(10) 1.15014010420309 -0.00350368477789242\n",
      "400 log(400)/log(10) 1.15083103395080 -0.00281275503018485\n",
      "500 log(500)/log(10) 1.15124586969305 -0.00239791928793465\n",
      "1000 3 1.15207616612832 -0.00156762285265799\n"
     ]
    },
    {
     "name": "stderr",
     "output_type": "stream",
     "text": [
      "/tmp/ipykernel_17740/2830054910.py:5: IntegrationWarning: The integral is probably divergent, or slowly convergent.\n",
      "  integral = integrate.quad(f, a, b)\n"
     ]
    },
    {
     "name": "stdout",
     "output_type": "stream",
     "text": [
      "5000 log(5000)/log(10) 1.15274093528815 -0.000902853692832384\n",
      "10000 4 1.15276348963567 -0.000880299345309643\n",
      "100000 5 1.15276922752387 -0.000874561457109957\n"
     ]
    },
    {
     "data": {
      "image/png": "[encoded data removed]",
      "text/plain": [
       "Graphics object consisting of 1 graphics primitive"
      ]
     },
     "metadata": {},
     "output_type": "display_data"
    }
   ],
   "source": [
    "plot_sum_minus_int(km=3, N_list = (100, 200, 300, 400, 500, 1000, 5000, 10000, 100000))"
   ]
  },
  {
   "cell_type": "raw",
   "metadata": {},
   "source": [
    "plot_sum_minus_int(km=10, N_list = (1000, 10000, 100000, 1000000))"
   ]
  },
  {
   "cell_type": "code",
   "execution_count": 26,
   "metadata": {},
   "outputs": [
    {
     "data": {
      "text/plain": [
       "0.0661656258064793"
      ]
     },
     "execution_count": 26,
     "metadata": {},
     "output_type": "execute_result"
    }
   ],
   "source": [
    "def sum_sum_Ia(a, k_m, N):\n",
    "    S = 0.5 * sum_Ia(n_y=0, a=a, k_m=k_m, N = N)\n",
    "    for j in range(1,N+1):\n",
    "        S += sum_Ia(n_y=j, a=a, k_m=k_m, N = N)\n",
    "    return S\n",
    "    \n",
    "    \n",
    "sum_sum_Ia(a = 1, k_m = 1, N = 10)"
   ]
  },
  {
   "cell_type": "raw",
   "metadata": {},
   "source": [
    "iii1 = IIIa (a=1, k_m=1)\n",
    "iii1"
   ]
  },
  {
   "cell_type": "raw",
   "metadata": {},
   "source": [
    "plot_data_sum_sum_Ia = []\n",
    "plot_data_sum_sum_Ia_iii = []\n",
    "\n",
    "for N in (1, 5, 10, 20, 30, 40, 50, 100, 300):\n",
    "    sumsum = sum_sum_Ia (a = 1, k_m = 1, N = N)\n",
    "    print (N, sumsum, sumsum-iii1)\n",
    "    plot_data_sum_sum_Ia += [(N, sumsum)]\n",
    "    plot_data_sum_sum_Ia_iii += [(N, sumsum-iii1)]\n",
    "    \n",
    "list_plot(plot_data_sum_sum_Ia).show()\n",
    "list_plot(plot_data_sum_sum_Ia_iii).show()"
   ]
  },
  {
   "cell_type": "markdown",
   "metadata": {},
   "source": [
    "# Euler–Maclaurin 2D formula"
   ]
  },
  {
   "cell_type": "code",
   "execution_count": 27,
   "metadata": {},
   "outputs": [],
   "source": [
    "logging = False\n",
    "\n",
    "calc_R_p=True\n",
    "\n",
    "def my_euler_maclaurin1(f,symb,a,b,p, f_diff_symb_p=None):\n",
    "    if logging:\n",
    "        print(\"f\", f)\n",
    "        print(\"symb,a,b\", symb, a, b)\n",
    "        print(\"\")\n",
    "\n",
    "\n",
    "    sum_dfdx_a_bernoullis = sum([(f.diff(symb,k-1))*(bernoulli(k)/factorial(k)) for k in range(1,1+p)])\n",
    "    if logging:\n",
    "        print(\"sum_dfdx_a_bernoullis\", sum_dfdx_a_bernoullis)\n",
    "        print(\"sum_dfdx_a_bernoullis(a)\", sum_dfdx_a_bernoullis.subs(symb == a))\n",
    "        if Infinity != b:\n",
    "            print(\"sum_dfdx_a_bernoullis(b)\", sum_dfdx_a_bernoullis.subs(symb == b))\n",
    "\n",
    "    if True:\n",
    "        B = lambda x, p : bernoulli_polynomial(x, p)\n",
    "        P = lambda x, p : bernoulli_polynomial(x - floor(x), p)\n",
    "        fact = lambda n : factorial(n)\n",
    "    else:\n",
    "        B = function(\"B\")(x,p)\n",
    "        P = function(\"P\")(x,p)\n",
    "        fact = function(\"fact\")(n)\n",
    "        \n",
    "    if True == calc_R_p:\n",
    "        # Can't calculate derivative wrt j + u.\n",
    "        #int_R_p = lambda j : integral(f.diff(symb,p).subs(symb == u+j) * bernoulli_polynomial(u,p)/factorial(p), (u,0,1))\n",
    "        def int_R_p(f,symb,j):\n",
    "            v = var(\"v\")            \n",
    "            if None == f_diff_symb_p:\n",
    "                deriv = f.diff(symb,p)\n",
    "            else:\n",
    "                deriv = f_diff_symb_p\n",
    "            if logging:\n",
    "                print(\"deriv\", deriv)\n",
    "            deriv_s = deriv.subs(symb == v+j)\n",
    "            if logging:\n",
    "                print(\"deriv_s\", deriv_s)\n",
    "            int_f_diff_B_fact = integral(deriv_s * bernoulli_polynomial(v,p)/factorial(p), (v,0,1))\n",
    "            if logging:\n",
    "                print(\"int_f_diff_B_fact\", int_f_diff_B_fact)\n",
    "            return int_f_diff_B_fact\n",
    "        \n",
    "        def int_R_p_shifted_first(f,symb,j):\n",
    "            v = var(\"v\")\n",
    "            fn_shifted = f.subs(symb == v + j)\n",
    "            if logging:\n",
    "                print(\"fn_shifted\", fn_shifted)\n",
    "            deriv = fn_shifted.diff(v,p)\n",
    "            if logging:\n",
    "                print(\"deriv\", deriv)\n",
    "            int_f_diff_B_fact = integral(deriv * B(x=v,p=p)/fact(n=p), (v,0,1))\n",
    "    \n",
    "            if logging:\n",
    "                print(\"int_f_diff_B_fact\", int_f_diff_B_fact)\n",
    "\n",
    "            return int_f_diff_B_fact\n",
    "\n",
    "        if logging:\n",
    "            print(\"int_R_p(j = a)\", int_R_p(f,symb,j = a))\n",
    "            \n",
    "        if use_int_R_p_j:\n",
    "            v, j = var(\"v, j\")\n",
    "            assume(j>0)\n",
    "            from sage.calculus.calculus import symbolic_sum\n",
    "            if change_R_p_order:\n",
    "                # Change order of summation and integration\n",
    "                if use_int_R_p_shifted_first:\n",
    "                    R_p = (-1)^(p+1)*integral(symbolic_sum(f.subs(symb == v+j).diff(v,p)*B(x=v,p=p)/fact(n=p), \\\n",
    "                                                  j, a, b-1), \\\n",
    "                                              (v,0,1))\n",
    "                else:\n",
    "                    if None == f_diff_symb_p:\n",
    "                        f_diff_symb_p = f.diff(symb,p)\n",
    "                    R_p = (-1)^(p+1)*integral(symbolic_sum(f_diff_symb_p.subs(symb == v+j)*B(x=v,p=p)/fact(n=p), \\\n",
    "                                                  j, a, b-1), \\\n",
    "                                              (v,0,1))\n",
    "            else:\n",
    "                if use_int_R_p_shifted_first:\n",
    "                    R_p = (-1)^(p+1)*symbolic_sum(int_R_p_shifted_first(f,symb,j=j), j, a, b-1)\n",
    "                else:\n",
    "                    R_p = (-1)^(+1)*symbolic_sum(int_R_p(f,symb,j=j), j, a, b-1)\n",
    "                \n",
    "        else:\n",
    "            if None == f_diff_symb_p:\n",
    "                f_diff_symb_p = f.diff(symb,p)\n",
    "            if not use_num_int:\n",
    "                R_p = (-1)^(p+1)*integral(f_diff_symb_p * P(x=symb,p=p)/fact(n=p),(symb,a,b),hold=True)\n",
    "            else:\n",
    "                R_p = (-1)^(p+1)*num_int(lambda symb : f_diff_symb_p * P(x=symb,p=p)/fact(n=p), a, b)\n",
    "                \n",
    "\n",
    "    int_fn_a_b = integral(f, (symb, a, b))\n",
    "    if logging:\n",
    "        print(\"int_fn_a_b\", int_fn_a_b)\n",
    "    \n",
    "    s = int_fn_a_b - sum_dfdx_a_bernoullis.subs(symb == a)\n",
    "    if Infinity != b:\n",
    "        s += sum_dfdx_a_bernoullis.subs(symb == b)\n",
    "    if True == calc_R_p:\n",
    "        s += R_p\n",
    "        \n",
    "    if False:\n",
    "        print(\"int_fn_a_b\", int_fn_a_b)\n",
    "        print(\"sum_dfdx_a_bernoullis(a)\", sum_dfdx_a_bernoullis(a))\n",
    "        if Infinity != b:\n",
    "            print(\"sum_dfdx_a_bernoullis(b)\", sum_dfdx_a_bernoullis(b))\n",
    "        if True == calc_R_p:\n",
    "            print(\"int_R_p(j = a)\", int_R_p(j = a))\n",
    "            print(\"R_p\", R_p)\n",
    "        print(\"\")\n",
    "        print(\"s\",s)\n",
    "    return s"
   ]
  },
  {
   "cell_type": "markdown",
   "metadata": {},
   "source": [
    "$${\\displaystyle \\sum _{i=a}^{b}f(i)=\\int _{a}^{b}f(x)\\,dx+{\\frac {f(a)+f(b)}{2}}+\\sum _{k=1}^{\\lfloor p/2\\rfloor }{\\frac {B_{2k}}{(2k)!}}(f^{(2k-1)}(b)-f^{(2k-1)}(a))+R_{p},}$$"
   ]
  },
  {
   "cell_type": "markdown",
   "metadata": {},
   "source": [
    "$${\\displaystyle \\sum _{i=a}^{b}f(i)=\\int _{a}^{b}f(x)\\,dx+\\sum _{k=1}^{\\lfloor p/2\\rfloor }{\\frac {B_{k}}{(k)!}}(f^{(k-1)}(b)-f^{(k-1)}(a))+R_{p},}$$"
   ]
  },
  {
   "cell_type": "markdown",
   "metadata": {},
   "source": [
    "$${\\displaystyle R_{p}=(-1)^{p+1}\\sum_{j=a}^{b-1} \\int _{0}^{1}f^{(p)}(v+j){\\frac {B_{p}(v)}{p!}}\\,dv.}$$"
   ]
  },
  {
   "cell_type": "markdown",
   "metadata": {},
   "source": [
    "$${\\displaystyle P_{k}(x)=B_{k}(x-\\lfloor x\\rfloor ),}$$\n",
    "\n",
    "$${\\displaystyle R_{p}=(-1)^{p+1}\\int _{a}^{b}f^{(p)}(x){\\frac {P_{p}(x)}{p!}}\\,dx.}$$"
   ]
  },
  {
   "cell_type": "code",
   "execution_count": 28,
   "metadata": {},
   "outputs": [],
   "source": [
    "# https://www.journals.vu.lt/LMJ/article/view/20600/19701\n",
    "# ФОРМУЛА СУММИРОВАНИЯ ЭЙЛЕРА—МАКЛОРЕНА ДЛЯ ФУНКЦИИ МНОГИХ ПЕРЕМЕННЫХ А.БИКЯЛИС\n",
    "# VIII LIETUVOS MATEMATIKOS RINKINYS 4\n",
    "# ЛИТОВСКИЙ МАТЕМАТИЧЕСКИЙ СБОРНИК\n",
    "# 1968\n",
    "\n",
    "# Далее,обе стороны этого равенства суммируем по всем целым m2 из интервала(z2,y2). Получаем\n",
    "\n",
    "if True:\n",
    "    B = lambda x, p : bernoulli_polynomial(x, p)\n",
    "    P = lambda x, p : bernoulli_polynomial(x - floor(x), p)\n",
    "    fact = lambda n : factorial(n)\n",
    "else:\n",
    "    B = function(\"B\")(x,p)\n",
    "    P = function(\"P\")(x,p)\n",
    "    fact = function(\"fact\")(n)\n",
    "\n",
    "def integral_R_p(f,symb,jx,hold, f_diff_symb_p=None):\n",
    "    vx = var(\"v_\"+str(symb))\n",
    "    if None == f_diff_symb_p:\n",
    "        deriv = f.diff(symb,p)\n",
    "    else:\n",
    "        deriv = f_diff_symb_p\n",
    "    if logging:\n",
    "        print(\"deriv\", deriv)\n",
    "\n",
    "    deriv_subs = deriv.subs(symb == vx+jx)\n",
    "    if logging:\n",
    "        print(\"deriv_subs\", deriv_subs)\n",
    "\n",
    "    int_f_diff_B_fact = integral(deriv_subs * bernoulli_polynomial(vx,p)/factorial(p), (vx,0,1), hold=hold)\n",
    "    if logging:\n",
    "        print(\"int_f_diff_B_fact\", int_f_diff_B_fact)\n",
    "\n",
    "    return int_f_diff_B_fact\n",
    "\n",
    "def integral_R_p_shifted_first(f,symb,jx,hold):\n",
    "    vx = var(\"v_\"+str(symb))\n",
    "    fn_shifted = f.subs(symb == vx + jx)\n",
    "    if logging:\n",
    "        print(\"fn_shifted\", fn_shifted)\n",
    "\n",
    "    deriv = fn_shifted.diff(vx,p)\n",
    "    if logging:\n",
    "        print(\"deriv\", deriv)\n",
    "\n",
    "    int_f_diff_B_fact = integral(deriv * B(x=vx,p=p)/fact(n=p), (vx, 0, 1), hold=hold)\n",
    "\n",
    "    if logging:\n",
    "        print(\"int_f_diff_B_fact\", int_f_diff_B_fact)\n",
    "\n",
    "    return int_f_diff_B_fact\n",
    "    \n",
    "    \n",
    "def euler_maclaurin_R_p(f,symb,a,b,p, f_diff_symb_p=None, hold_int=True, hold_sum=True):\n",
    "    if logging:\n",
    "        print(\"f\", f)\n",
    "        print(\"symb,a,b\", symb, a, b)\n",
    "        if f_diff_symb_p is not None:\n",
    "            print(\"f_diff_symb_p\", f_diff_symb_p)\n",
    "        print(\"\")\n",
    "    if use_int_R_p_j:\n",
    "        jx = var('j_'+str(symb))\n",
    "        assume(jx>0)\n",
    "        from sage.calculus.calculus import symbolic_sum\n",
    "        \n",
    "        if change_R_p_order:\n",
    "            vx = var(\"v_\"+str(symb))\n",
    "            # Change order of summation and integration\n",
    "            if use_int_R_p_shifted_first:\n",
    "                R_p = (-1)^(p+1)*integral(symbolic_sum(f.subs(symb == vx+jx).diff(vx,p)*B(x=vx,p=p)/fact(n=p), \\\n",
    "                                              jx, a, b-1, hold=hold_sum), \\\n",
    "                                          (vx,0,1), hold=hold_int)\n",
    "            else:\n",
    "                if None == f_diff_symb_p:\n",
    "                    f_diff_symb_p = f.diff(symb,p)\n",
    "                R_p = (-1)^(p+1)*integral(symbolic_sum(f_diff_symb_p.subs(symb == vx+jx)*B(x=vx,p=p)/fact(n=p), \\\n",
    "                                              jx, a, b-1, hold=hold_sum), \\\n",
    "                                          (vx,0,1), hold=hold_int)\n",
    "        else:       \n",
    "            if use_int_R_p_shifted_first:\n",
    "                term = (-1)^(p+1)*integral_R_p_shifted_first(f=f, symb=symb, jx=jx, hold=hold_int)\n",
    "                R_p = symbolic_sum(term, jx, a, b-1, hold=hold_sum)\n",
    "            else:\n",
    "                term = (-1)^(p+1)*integral_R_p(f=f, symb=symb, jx=jx, hold=hold_int, f_diff_symb_p=f_diff_symb_p)\n",
    "                R_p = symbolic_sum(term, jx, a, b-1, hold=hold_sum)\n",
    "            return R_p, term\n",
    "    else:\n",
    "        if not use_num_int:\n",
    "            if None == f_diff_symb_p:\n",
    "                f_diff_symb_p = f.diff(symb,p)\n",
    "            if logging:\n",
    "                print(\"(-1)^(p+1)*P(x=symb,p=p)/fact(n=p)\", (-1)^(p+1)*P(x=symb,p=p)/fact(n=p))\n",
    "            R_p = (-1)^(p+1)*integral(f_diff_symb_p * P(x=symb,p=p)/fact(n=p),(symb,a,b),hold=hold_int)\n",
    "        else:\n",
    "            R_p = (-1)^(p+1)*num_int(lambda symb: f_diff_symb_p * P(x=symb,p=p)/fact(n=p), a, b)\n",
    "            \n",
    "    return R_p"
   ]
  },
  {
   "cell_type": "markdown",
   "metadata": {},
   "source": [
    "$$\\sum _{k=1}^{\\lfloor p/2\\rfloor }{\\frac {B_{k}}{(k)!}}(f^{(k-1)}(b)-f^{(k-1)}(a))$$"
   ]
  },
  {
   "cell_type": "code",
   "execution_count": 29,
   "metadata": {},
   "outputs": [],
   "source": [
    "def sum_dfdx_bernoulis(f,symb,a,b,p):\n",
    "    if logging:\n",
    "        print(\"sum_dfdx_bernoulis symb\", symb, \"a\", a, \"b\", b)\n",
    "    dfdx_a_bernoullis = []\n",
    "    for k in range(1,1+p):\n",
    "        dfdx_a_bernoullis += [(f.diff(symb,k-1))*(bernoulli(k)/factorial(k))]\n",
    "        \n",
    "    sum_dfdx_a_bernoullis = sum(dfdx_a_bernoullis)\n",
    "\n",
    "    if logging:\n",
    "        print(\"sum_dfdx_a_bernoullis\", sum_dfdx_a_bernoullis)\n",
    "        print(\"sum_dfdx_a_bernoullis(a)\", sum_dfdx_a_bernoullis.subs(symb == a))\n",
    "        if Infinity != b:\n",
    "            print(\"sum_dfdx_a_bernoullis(b)\", sum_dfdx_a_bernoullis.subs(symb == b))\n",
    "\n",
    "    s = - sum_dfdx_a_bernoullis.subs(symb == a)\n",
    "    if Infinity != b:\n",
    "        s += sum_dfdx_a_bernoullis.subs(symb == b)\n",
    "    return s\n"
   ]
  },
  {
   "cell_type": "code",
   "execution_count": 30,
   "metadata": {},
   "outputs": [],
   "source": [
    "def sum_dfdx_bernoulis_str(f,symb,a,b,p):\n",
    "    sum_dfdx_a_bernoullis = \"\"\n",
    "    for k in range(1,1+p):\n",
    "        if k - 1 > 0:\n",
    "            sum_dfdx_a_bernoullis += \" + (\" + str(bernoulli(k)/factorial(k)) + \") * (\" + str(f) + \").diff(\" + str(symb) + \", \" + str(k-1) + \")\"\n",
    "        else:\n",
    "            sum_dfdx_a_bernoullis += \" + (\" + str(bernoulli(k)/factorial(k)) + \") * (\" + str(f) + \")\"\n",
    "            \n",
    "\n",
    "    if logging:\n",
    "        print(\"sum_dfdx_a_bernoullis\", sum_dfdx_a_bernoullis)\n",
    "        print(\"sum_dfdx_a_bernoullis(a)\", \"(\" + sum_dfdx_a_bernoullis + \").subs(\" + str(symb) + \"==\" + str(a) + \")\")\n",
    "        if Infinity != b:\n",
    "            print(\"sum_dfdx_a_bernoullis(b)\", \"(\" + sum_dfdx_a_bernoullis + \").subs(\" + str(symb) + \"==\" + str(b) + \")\")\n",
    "    s = \"\"\n",
    "\n",
    "    s += \"- (\" + sum_dfdx_a_bernoullis + \").subs(\" + str(symb) + \"==\" + str(a) + \")\"\n",
    "    if Infinity != b:\n",
    "        s += \" + (\" + sum_dfdx_a_bernoullis + \").subs(\" + str(symb) + \"==\" + str(b) + \")\"\n",
    "    return s\n"
   ]
  },
  {
   "cell_type": "code",
   "execution_count": 31,
   "metadata": {},
   "outputs": [],
   "source": [
    "# sumy_sumx = sum_dfdx_bernoulis(sum_dfdx_bernoulis (F(x,y), x, a_x, b_x,p), y, a_y, b_y, p)\n",
    "def sum_dfdy_bernoulis_sum_dfdx_bernoulis_str(f, x, a_x, b_x, y, a_y, b_y, p):\n",
    "    str_f = sum_dfdx_bernoulis_str(f(x=x,y=y), x, a_x, b_x, p)\n",
    "    sum_dfdx_a_bernoullis = \"\"\n",
    "    for k in range(1,1+p):\n",
    "        if k - 1 > 0:\n",
    "            sum_dfdx_a_bernoullis += \" + (\" + str(bernoulli(k)/factorial(k)) + \") * (\" + str_f + \").diff(\" + str(y) + \", \" + str(k-1) + \")\"\n",
    "        else:\n",
    "            sum_dfdx_a_bernoullis += \" + (\" + str(bernoulli(k)/factorial(k)) + \") * (\" + str_f + \")\"\n",
    "\n",
    "    if logging:\n",
    "        print(\"sum_dfdx_a_bernoullis\", sum_dfdx_a_bernoullis)\n",
    "        print(\"sum_dfdx_a_bernoullis(a)\", \"(\" + sum_dfdx_a_bernoullis + \").subs(\" + str(y) + \"==\" + str(a_y) + \")\")\n",
    "        if Infinity != b:\n",
    "            print(\"sum_dfdx_a_bernoullis(b)\", \"(\" + sum_dfdx_a_bernoullis + \").subs(\" + str(y) + \"==\" + str(b_y) + \")\")\n",
    "    s = \"\"\n",
    "\n",
    "    s += \"- (\" + sum_dfdx_a_bernoullis + \").subs(\" + str(y) + \"==\" + str(a_y) + \")\"\n",
    "    if Infinity != b_y:\n",
    "        s += \" + (\" + sum_dfdx_a_bernoullis + \").subs(\" + str(y) + \"==\" + str(b_y) + \")\"\n",
    "    return s"
   ]
  },
  {
   "cell_type": "code",
   "execution_count": 32,
   "metadata": {},
   "outputs": [],
   "source": [
    "def definite_integral_derivative(f, x, a, b, diff_param, hold=True):\n",
    "    from sage.symbolic.integration.integral import definite_integral\n",
    "\n",
    "    if not x.has(diff_param):\n",
    "        # integration variable != differentiation variable\n",
    "        ans = definite_integral(f.diff(diff_param), x, a, b, hold=hold)\n",
    "    else:\n",
    "        ans = SR.zero()\n",
    "\n",
    "    if hasattr(b, 'diff'):\n",
    "        if b.diff(diff_param) != 0:\n",
    "            ans += f.subs(x == b) * b.diff(diff_param)\n",
    "    if hasattr(a, 'diff'):\n",
    "        if a.diff(diff_param) != 0:\n",
    "            ans -= f.subs(x == a) * a.diff(diff_param)\n",
    "\n",
    "    return ans\n"
   ]
  },
  {
   "cell_type": "code",
   "execution_count": 33,
   "metadata": {},
   "outputs": [],
   "source": [
    "def definite_integral_derivative_str(f, x, a, b, diff_param=None, hold=False, algorithm=None):\n",
    "\n",
    "    if not x.has(diff_param):\n",
    "        # integration variable != differentiation variable\n",
    "        if algorithm is not None:\n",
    "            ans = \"integrate((\" + str(f) + \").diff(\" + str(diff_param) + \"), \" + str(x) + \", \" + str(a) + \", \" + str(b) + \", algorithm = \"\\\"\"+ algorithm + \", hold = \" + str(hold) + \")\"\n",
    "        else:\n",
    "            ans = \"definite_integral((\" + str(f) + \").diff(\" + str(diff_param) + \"), \" + str(x) + \", \" + str(a) + \", \" + str(b) + \", hold = \" + str(hold) + \")\"\n",
    "    else:\n",
    "        ans = \"\"\n",
    "\n",
    "    if hasattr(b, 'diff'):\n",
    "        if b.diff(diff_param) != 0:\n",
    "            ans += \" + \" + str(f.subs(x == b) * b.diff(diff_param))\n",
    "    if hasattr(a, 'diff'):\n",
    "        if a.diff(diff_param) != 0:\n",
    "            ans += \" - \" + str(f.subs(x == a) * a.diff(diff_param))\n",
    "\n",
    "    return ans"
   ]
  },
  {
   "cell_type": "code",
   "execution_count": 34,
   "metadata": {},
   "outputs": [],
   "source": [
    "def definite_num_int_derivative_str(f, x, a, b, diff_param=None):\n",
    "\n",
    "    if not x.has(diff_param):\n",
    "        # integration variable != differentiation variable\n",
    "        ans = \"num_int(lambda \" + str(x)+ \" : \" + str(f.diff(diff_param)) + \", \" + str(a) + \", \" + str(b) + \")\"\n",
    "    else:\n",
    "        ans = \"\"\n",
    "\n",
    "    if hasattr(b, 'diff'):\n",
    "        if b.diff(diff_param) != 0:\n",
    "            ans += \" + \" + str(f.subs(x == b) * b.diff(diff_param))\n",
    "    if hasattr(a, 'diff'):\n",
    "        if a.diff(diff_param) != 0:\n",
    "            ans += \" - \" + str(f.subs(x == a) * a.diff(diff_param))\n",
    "\n",
    "    return ans"
   ]
  },
  {
   "cell_type": "markdown",
   "metadata": {},
   "source": [
    "$$\\sum _{k=1}^{\\lfloor p/2\\rfloor }{\\frac {B_{k}}{(k)!}}(g(y)^{(k-1)}(b_y)-g(y)^{(k-1)}(a_y))$$\n",
    "where "
   ]
  },
  {
   "cell_type": "markdown",
   "metadata": {},
   "source": [
    "$$g(y) = {\\displaystyle R_{p}(y)=(-1)^{p+1}\\sum_{j=a_x}^{b_x-1} \\int _{0}^{1}\\frac{\\partial^{p}}{\\partial x^{p}}f(v_x+j,y){\\frac {B_{p}(v_x)}{p!}}\\,dv_x.}$$\n",
    "or"
   ]
  },
  {
   "cell_type": "markdown",
   "metadata": {},
   "source": [
    "$${\\displaystyle P_{k}(x)=B_{k}(x-\\lfloor x\\rfloor ),}$$\n",
    "\n",
    "$$g(y) = {\\displaystyle R_{p}=(-1)^{p+1}\\int _{a_x}^{b_x}\\frac{\\partial^{p}}{\\partial x^{p}}f(x,y){\\frac {P_{p}(x)}{p!}}\\,dx.}$$"
   ]
  },
  {
   "cell_type": "code",
   "execution_count": 35,
   "metadata": {},
   "outputs": [],
   "source": [
    "#int_R_p = integral(euler_maclaurin_R_p(f(x,y), x, a_x, b_x,p), (y, a_y, b_y), hold=True)\n",
    "\n",
    "def integral_euler_maclaurin_R_p(f, x, a_x, b_x, y, a_y, b_y, p, f_diff_x_p, hold_int=True, hold_sum=True):\n",
    "    if logging:\n",
    "        print(\"f\", f)\n",
    "        print(\"f(x,y)\", f(x=x,y=y))\n",
    "        if None != f_diff_x_p:\n",
    "            print(\"f_diff_x_p\", f_diff_x_p)\n",
    "            print(\"f_diff_x_p(x,y)\", f_diff_x_p(x=x,y=y))\n",
    "        print(\"\")\n",
    "    if use_int_R_p_j:\n",
    "        jx = var('j_x')\n",
    "        assume(jx>0)\n",
    "        from sage.calculus.calculus import symbolic_sum\n",
    "        \n",
    "        if change_R_p_order:\n",
    "            vx = var(\"v_\"+str(x))\n",
    "            # Change order of summation and integration\n",
    "            if use_int_R_p_shifted_first:\n",
    "                int_R_p = (-1)^(p+1)*integral(integral(symbolic_sum(f.subs(x == vx+jx).diff(vx,p)*B(x=vx,p=p)/fact(n=p), \\\n",
    "                                              jx, a_x, b_x-1, hold=hold_sum), \\\n",
    "                                          (vx,0,1), hold=hold_int), y, a_y, b_y, hold=hold_int)\n",
    "            else:\n",
    "                if None == f_diff_x_p:\n",
    "                    f_diff_x_p = f.diff(x,p)\n",
    "                int_R_p = (-1)^(p+1)*integral(integral(symbolic_sum(f_diff_x_p.subs(x == vx+jx)*B(x=vx,p=p)/fact(n=p), \\\n",
    "                                              jx, a_x, b_x-1, hold=hold_sum), \\\n",
    "                                          (vx,0,1), hold=hold_int), y, a_y, b_y, hold=hold_int)\n",
    "        else:       \n",
    "            if use_int_R_p_shifted_first:\n",
    "                int_int = (-1)^(p+1)*integral(integral_R_p_shifted_first(f=f, symb=x, jx=jx, hold=hold_int), y, a_y, b_y, hold=hold_int)\n",
    "                int_R_p = symbolic_sum(int_int, jx, a_x, b_x-1, hold=hold_sum)\n",
    "            else:\n",
    "                int_int = (-1)^(p+1)*integral(integral_R_p(f=f, symb=x, jx=jx, hold=hold_int), y, a_y, b_y, hold=hold_int)\n",
    "                int_R_p = symbolic_sum(int_int, jx, a_x, b_x-1, hold=hold_sum)\n",
    "            return (int_R_p, int_int)\n",
    "    else:\n",
    "        if not use_num_int:\n",
    "            if None == f_diff_x_p:\n",
    "                f_diff_x_p = f.diff(x,p)\n",
    "            int_R_p = (-1)^(p+1)*integral(integral(f_diff_x_p * P(x=x,p=p)/fact(n=p),(x,a_x,b_x),hold=hold_int), y, a_y, b_y, hold=hold_int)\n",
    "        else:\n",
    "            int_R_p = (-1)^(p+1)*num_int(lambda y : num_int(lambda x : f_diff_x_p(x=x,y=y) * P(x=x,p=p)/fact(n=p), a_x, b_x), a_y, b_y)\n",
    "            \n",
    "    return int_R_p"
   ]
  },
  {
   "cell_type": "code",
   "execution_count": 36,
   "metadata": {},
   "outputs": [],
   "source": [
    "#sum_R_p = sum_dfdx_bernoulis(euler_maclaurin_R_p(F(x,y), x, a_x, b_x,p), y, a_y, b_y, p)\n",
    "def sum_dfdx_bernoulis_euler_maclaurin_R_p(f, x, a_x, b_x, y, a_y, b_y, p):\n",
    "    if logging:\n",
    "        print(\"sum_dfdx_bernoulis_euler_maclaurin_R_p\", f, x, a_x, b_x, y, a_y, b_y, p)\n",
    "    dfdx_a_bernoullis = []\n",
    "    dfdx_a_bernoullis_terms = []\n",
    "    from sage.calculus.calculus import symbolic_sum\n",
    "    from sage.symbolic.integration.integral import definite_integral\n",
    "    \n",
    "    for k in range(1,1+p):\n",
    "        if 1 == k:\n",
    "            if use_int_R_p_j:\n",
    "                vx, jx = var(\"v_x, j_x\")\n",
    "                term_1 = lambda y_symb, y_val, p, jx : (-1)^(p+1)*definite_integral(f(x=x,y=y_symb).diff(x,p) \\\n",
    "                                                                                 .subs(x == vx + jx) \\\n",
    "                                                                      * B(x=vx,p=p)/fact(n=p),vx,0,1,hold=False) \\\n",
    "                                                                                .subs(y_symb == y_val)\n",
    "                if logging:\n",
    "                    print(\"k\", k)\n",
    "                    print(\"term_1(y_symb=y, y_val=a_y,jx=a_x) =\", term_1(y_symb=y, y_val=a_y,jx=a_x))\n",
    "                    \n",
    "                R_p_1 = lambda y_symb, y_val, p : symbolic_sum(expression=term_1(y_symb=y_symb, y_val=y_val, p=p, jx=jx), \\\n",
    "                                                                     v=jx, a=a_x, b=b_x-1)\n",
    "                dfdx_a_bernoullis_terms += [lambda y_symb, y_val, p, jx, i=k-1 : \\\n",
    "                                            term_1(y_symb=y_symb, y_val=y_val, jx=jx)*(bernoulli(i+1)/factorial(i+1))]\n",
    "            else:\n",
    "                R_p_1 = lambda y_symb, y_val, p : (-1)^(p+1)*definite_integral(f(x=x,y=y_symb).diff(x,p) * P(x=x,p=p)/fact(n=p), \\\n",
    "                                                                  x, a_x, b_x, hold=True) \\\n",
    "                                                                  .subs(y_symb == y_val)\n",
    "                if logging:\n",
    "                    print(\"k\", k)\n",
    "                    print(\"R_p_1(y_symb=y, y_val=a_y) =\", R_p_1(y, y, p))\n",
    "                    print(\"R_p_1(y_symb=y, y_val=a_y) =\", R_p_1(y_symb=y, y_val=a_y, p=p))\n",
    "                \n",
    "            if logging:\n",
    "                print(\"R_p(y_symb=y, y_val=a_y) =\", R_p_1(y_symb=y, y_val=a_y, p=p))\n",
    "                print(\"\\n\")\n",
    "\n",
    "            dfdx_a_bernoullis += [lambda y_symb, y_val, p, i=k-1 : R_p_1(y_symb=y_symb, y_val=y_val, p=p)*(bernoulli(i+1)/factorial(i+1))]\n",
    "            if logging:\n",
    "                print(\"dfdx_a_bernoullis =\", dfdx_a_bernoullis)\n",
    "                print(\"len(dfdx_a_bernoullis) =\", len(dfdx_a_bernoullis))\n",
    "\n",
    "                for ii in range(len(dfdx_a_bernoullis)):\n",
    "                    print(\"dfdx_a_bernoullis [\",ii, \"]()=\", dfdx_a_bernoullis[ii])\n",
    "                    print(\"dfdx_a_bernoullis [\",ii, \"]()=\", dfdx_a_bernoullis[ii](y, y, p))\n",
    "                    print(\"dfdx_a_bernoullis [\",ii, \"](a_y)=\", dfdx_a_bernoullis[ii](y, a_y, p))\n",
    "                    print(\"dfdx_a_bernoullis [\",ii, \"](a_y)=\", dfdx_a_bernoullis[ii](y_symb=y, y_val=a_y, p=p))\n",
    "\n",
    "        elif 2 == k:\n",
    "            if use_int_R_p_j:\n",
    "                vx, jx = var(\"v_x, j_x\")\n",
    "                term_2 = lambda y_symb, y_val, p, jx : (-1)^(p+1)*definite_integral_derivative(f=f(x=x,y=y_symb).diff(x,p) \\\n",
    "                                                                                 .subs(x == vx + jx) \\\n",
    "                                        * B(x=vx,p=p)/fact(n=p), x=vx, a=0, b=1, diff_param=y_symb, hold=False) \\\n",
    "                                                                                .subs(y_symb == y_val)\n",
    "\n",
    "                if logging:\n",
    "                    print(\"k\", k)\n",
    "                    print(\"term_2(y_symb=y, y_val=a_y,jx=a_x) =\", term_2(y_symb=y, y_val=a_y, p=p, jx=a_x))\n",
    "\n",
    "                R_p_2 = lambda y_symb, y_val, p : symbolic_sum(expression=term_2(y_symb=y_symb, y_val=y_val, p=p, jx=jx), \\\n",
    "                                                                 v=jx, a=a_x, b=b_x-1)\n",
    "                dfdx_a_bernoullis_terms += [lambda y_symb, y_val, p, jx, i=k-1 : \\\n",
    "                                            term_2(y_symb=y_symb, y_val=y_val, p=p, jx=jx)*(bernoulli(i+1)/factorial(i+1))]\n",
    "            else:\n",
    "                R_p_2 = lambda y_symb, y_val, p : (-1)^(p+1)*definite_integral_derivative(f=f(x=x,y=y_symb).diff(x,p) \\\n",
    "                                            * P(x=x,p=p)/fact(n=p), x=x, a=a_x, b=b_x, diff_param=y_symb) \\\n",
    "                                                  .subs(y_symb == y_val)\n",
    "\n",
    "                if logging:\n",
    "                    print(\"k\", k)\n",
    "                    print(\"R_p_2(y_symb=y, y_val=a_y) =\", R_p_2(y, y, p))\n",
    "                    print(\"R_p_2(y_symb=y, y_val=a_y) =\", R_p_2(y_symb=y, y_val=a_y, p=p))\n",
    "                \n",
    "            if logging:\n",
    "                print(\"R_p(y_symb=y, y_val=a_y) =\", R_p_2(y_symb=y, y_val=a_y, p=p))\n",
    "                print(\"\\n\")\n",
    "        \n",
    "            dfdx_a_bernoullis += [lambda y_symb, y_val, p, i=k-1 : R_p_2(y_symb=y_symb, y_val=y_val, p=p)*(bernoulli(i+1)/factorial(i+1))]\n",
    "            if logging:\n",
    "                print(\"dfdx_a_bernoullis =\", dfdx_a_bernoullis)\n",
    "                print(\"len(dfdx_a_bernoullis) =\", len(dfdx_a_bernoullis))\n",
    "\n",
    "                for ii in range(len(dfdx_a_bernoullis)):\n",
    "                    print(\"dfdx_a_bernoullis [\",ii, \"]()=\", dfdx_a_bernoullis[ii])\n",
    "                    print(\"dfdx_a_bernoullis [\",ii, \"]()=\", dfdx_a_bernoullis[ii](y, y, p))\n",
    "                    print(\"dfdx_a_bernoullis [\",ii, \"](a_y)=\", dfdx_a_bernoullis[ii](y, a_y, p))\n",
    "                    print(\"dfdx_a_bernoullis [\",ii, \"](a_y)=\", dfdx_a_bernoullis[ii](y_symb=y, y_val=a_y, p=p))\n",
    "        else:\n",
    "            if use_int_R_p_j:\n",
    "                vx, jx = var(\"v_x, j_x\")\n",
    "                term_3 = lambda y_symb, y_val, p, jx : (-1)^(p+1)*definite_integral_derivative(f=f(x=x,y=y_symb).diff(x,p) \\\n",
    "                                                                                 .subs(x == vx + jx) \\\n",
    "                                        * B(x=vx,p=p)/fact(n=p), x=vx, a=0, b=1, diff_param=y_symb, hold=False) \\\n",
    "                                            .diff(y_symb, k-2) .subs(y_symb == y_val)\n",
    "\n",
    "                if logging:\n",
    "                    print(\"k\", k)\n",
    "                    print(\"term_3(y_symb=y, y_val=a_y,jx=a_x) =\", term_3(y_symb=y, y_val=a_y, p=p, jx=a_x))\n",
    "                    \n",
    "                R_p_3 = lambda y_symb, y_val, p : symbolic_sum(expression=term_3(y_symb=y_symb, y_val=y_val, p=p, jx=jx), \\\n",
    "                                                                 v=jx, a=a_x, b=b_x-1)\n",
    "                dfdx_a_bernoullis_terms += [lambda y_symb, y_val, p, jx, i=k-1 : \\\n",
    "                                            term_3(y_symb=y_symb, y_val=y_val, p=p, jx=jx)*(bernoulli(i+1)/factorial(i+1))]\n",
    "            else:\n",
    "                R_p_3 = lambda y_symb, y_val, p : (-1)^(p+1)*definite_integral_derivative(f=f(x=x,y=y_symb).diff(x,p) \\\n",
    "                                                    * P(x=x,p=p)/fact(n=p), x=x, a=a_x, b=b_x, diff_param=y_symb) \\\n",
    "                                                    .diff(y_symb, k-2).subs(y_symb == y_val)\n",
    "                \n",
    "            if logging:\n",
    "                print(\"R_p(y_symb=y, y_val=a_y) =\", R_p_3(y_symb=y, y_val=a_y, p=p))\n",
    "                print(\"\\n\")\n",
    "\n",
    "            dfdx_a_bernoullis += [lambda y_symb, y_val, p, i=k-1 : R_p_3(y_symb=y_symb, y_val=y_val, p=p)*(bernoulli(i+1)/factorial(i+1))]\n",
    "            if logging:\n",
    "                print(\"dfdx_a_bernoullis =\", dfdx_a_bernoullis)\n",
    "                print(\"len(dfdx_a_bernoullis) =\", len(dfdx_a_bernoullis))\n",
    "\n",
    "                for ii in range(len(dfdx_a_bernoullis)):\n",
    "                    print(\"dfdx_a_bernoullis [\",ii, \"]()=\", dfdx_a_bernoullis[ii])\n",
    "                    print(\"dfdx_a_bernoullis [\",ii, \"]()=\", dfdx_a_bernoullis[ii](y, y, p))\n",
    "                    print(\"dfdx_a_bernoullis [\",ii, \"](a_y)=\", dfdx_a_bernoullis[ii](y, a_y, p))\n",
    "                    print(\"dfdx_a_bernoullis [\",ii, \"](a_y)=\", dfdx_a_bernoullis[ii](y_symb=y, y_val=a_y, p=p))\n",
    "\n",
    "    if logging:\n",
    "        print(\"dfdx_a_bernoullis =\", dfdx_a_bernoullis)\n",
    "        print(\"len(dfdx_a_bernoullis) =\", len(dfdx_a_bernoullis))\n",
    "        \n",
    "        for ii in range(len(dfdx_a_bernoullis)):\n",
    "            print(\"dfdx_a_bernoullis [\",ii, \"]()=\", dfdx_a_bernoullis[ii])\n",
    "            print(\"dfdx_a_bernoullis [\",ii, \"]()=\", dfdx_a_bernoullis[ii](y, y, p))\n",
    "            print(\"dfdx_a_bernoullis [\",ii, \"](a_y)=\", dfdx_a_bernoullis[ii](y, a_y, p))\n",
    "            print(\"dfdx_a_bernoullis [\",ii, \"](a_y)=\", dfdx_a_bernoullis[ii](y_symb=y, y_val=a_y, p=p))\n",
    "\n",
    "\n",
    "\n",
    "    sum_dfdx_a_bernoullis = lambda y_symb, y_val, p : sum([dfdx_a_bernoullis[i](y_symb, y_val, p) \\\n",
    "                                                      for i in range(len(dfdx_a_bernoullis))])\n",
    "    \n",
    "    sum_dfdx_a_bernoullis_terms = lambda y_symb, y_val, p, jx : sum([dfdx_a_bernoullis_terms[i](y_symb, y_val, p, jx) \\\n",
    "                                                               for i in range(len(dfdx_a_bernoullis_terms))])\n",
    "    \n",
    "    if logging:\n",
    "        print(\"sum_dfdx_a_bernoullis =\", sum_dfdx_a_bernoullis)\n",
    "        print(\"sum_dfdx_a_bernoullis(a_y) =\", sum_dfdx_a_bernoullis(y_symb=y, y_val=a_y, p=p))\n",
    "    \n",
    "    s = - sum_dfdx_a_bernoullis(y_symb=y, y_val=a_y, p=p)\n",
    "    if b_y is Infinity:\n",
    "        s_terms = lambda jx : - sum_dfdx_a_bernoullis_terms(y_symb=y, y_val=a_y, p=p, jx=jx)\n",
    "    else:\n",
    "        s += sum_dfdx_a_bernoullis(y_symb=y, y_val=b_y, p=p)\n",
    "        s_terms = lambda jx : sum_dfdx_a_bernoullis_terms(y_symb=y, y_val=b_y, p=p, jx=jx) - sum_dfdx_a_bernoullis_terms(y_symb=y, y_val=a_y, p=p, jx=jx)\n",
    "    return s, s_terms"
   ]
  },
  {
   "cell_type": "markdown",
   "metadata": {},
   "source": [
    "$${\\displaystyle R_{p}=(-1)^{p+1}\\sum_{j=a_y}^{b_y-1} \\int _{0}^{1}g^{(p)}(v_y+j){\\frac {B_{p}(v_y)}{p!}}\\,dv_y.}$$"
   ]
  },
  {
   "cell_type": "markdown",
   "metadata": {},
   "source": [
    "$${\\displaystyle P_{k}(y)=B_{k}(y-\\lfloor y\\rfloor ),}$$\n",
    "\n",
    "$${\\displaystyle R_{p}=(-1)^{p+1}\\int _{a_y}^{b_y}g^{(p)}(y){\\frac {P_{p}(y)}{p!}}\\,dy.}$$\n",
    "\n",
    "where"
   ]
  },
  {
   "cell_type": "markdown",
   "metadata": {},
   "source": [
    "$$g(y) = {\\displaystyle R_{p}(y)=(-1)^{p+1}\\sum_{j=a_x}^{b_x-1} \\int _{0}^{1}\\frac{\\partial^{p}}{\\partial x^{p}}f(v_x+j,y){\\frac {B_{p}(v_x)}{p!}}\\,dv_x.}$$\n",
    "or"
   ]
  },
  {
   "cell_type": "markdown",
   "metadata": {},
   "source": [
    "$${\\displaystyle P_{k}(x)=B_{k}(x-\\lfloor x\\rfloor ),}$$\n",
    "\n",
    "$$g(y) = {\\displaystyle R_{p}=(-1)^{p+1}\\int _{a_x}^{b_x}\\frac{\\partial^{p}}{\\partial x^{p}}f(x,y){\\frac {P_{p}(x)}{p!}}\\,dx.}$$"
   ]
  },
  {
   "cell_type": "code",
   "execution_count": 37,
   "metadata": {},
   "outputs": [],
   "source": [
    "#R_p_R_p = euler_maclaurin_R_p(euler_maclaurin_R_p(F(x,y), x, a_x, b_x,p), y, a_y, b_y, p)\n",
    "def euler_maclaurin_R_p_euler_maclaurin_R_p(f, x, a_x, b_x, y, a_y, b_y, p, f_diff_x_p_diff_y_p):\n",
    "\n",
    "    from sage.calculus.calculus import symbolic_sum\n",
    "    from sage.symbolic.integration.integral import definite_integral\n",
    "    if use_int_R_p_j:\n",
    "        vx,vy = var(\"v_x, v_y\")\n",
    "        jx,jy = var(\"j_x, j_y\")\n",
    "        assume(v_y+j_y>0)\n",
    "        \n",
    "        if None == f_diff_x_p_diff_y_p:\n",
    "            f_diff_x_p_diff_y_p = f.diff(x,p).diff(y,p)\n",
    "\n",
    "        R_p_R_p = (-1)^(p+1)*symbolic_sum(definite_integral( \\\n",
    "                               (-1)^(p+1)*symbolic_sum(definite_integral(f_diff_x_p_diff_y_p.subs(x == vx + jx)  \\\n",
    "                                                              * B(x=vx,p=p)/fact(n=p), \\\n",
    "                                 vx,0,1,hold=True), v=jx, a=a_x, b=b_x-1,hold=True) \\\n",
    "                                                                        .diff(y,p).subs(y == vy + jy)  \\\n",
    "                                                              * B(x=vy,p=p)/fact(n=p), \\\n",
    "                                 vy,0,1,hold=True), v=jy, a=a_y, b=b_y-1,hold=True)\n",
    "    else:\n",
    "        if not use_num_int:\n",
    "\n",
    "            if None == f_diff_x_p_diff_y_p:\n",
    "                f_diff_x_p_diff_y_p = f.diff(x,p)\n",
    "\n",
    "            R_p_R_p = (-1)^(p+1)*definite_integral( \\\n",
    "                               (-1)^(p+1)*definite_integral(f_diff_x_p_diff_y_p  \\\n",
    "                                                              * P(x=x,p=p)/fact(n=p), \\\n",
    "                                 x, a_x, b_x, hold=True).diff(y,p)  \\\n",
    "                                                              * P(x=y,p=p)/fact(n=p), \\\n",
    "                                 y, a_y, b_y, hold=True)\n",
    "        else:\n",
    "            f_diff_x_p_diff_y_p_num_str = \"f_diff_x_diff_y_num = lambda \" + str(x) + \", \" + str(y) + \":\" + str(f(x,y).diff(x,p).diff(y,p))\n",
    "            print(\"f_diff_x_p_diff_y_p_num_str=\", f_diff_x_p_diff_y_p_num_str)                                                                          \n",
    "            exec(preparse(f_diff_x_p_diff_y_p_num_str))\n",
    "            R_p_R_p = (-1)^(p+1)*num_int(lambda y : \\\n",
    "                               (-1)^(p+1)*num_int(lambda x : f_diff_x_p_diff_y_p_num(x,y)  \\\n",
    "                                                              * P(x=x,p=p)/fact(n=p), \\\n",
    "                                 a_x, b_x)  \\\n",
    "                                                              * P(x=y,p=p)/fact(n=p), \\\n",
    "                                 a_y, b_y)\n",
    "        \n",
    "    return R_p_R_p"
   ]
  },
  {
   "cell_type": "code",
   "execution_count": 38,
   "metadata": {},
   "outputs": [],
   "source": [
    "#R_p_R_p = euler_maclaurin_R_p(euler_maclaurin_R_p(F(x,y), x, a_x, b_x,p), y, a_y, b_y, p)\n",
    "def euler_maclaurin_R_p_euler_maclaurin_R_p_num_int(f_diff_x_p_diff_y_p, x, a_x, b_x, y, a_y, b_y, p):\n",
    "    R_p_R_p = (-1)^(p+1)*num_int(lambda y : \\\n",
    "                       (-1)^(p+1)*num_int(lambda x : f_diff_x_p_diff_y_p(x,y)  \\\n",
    "                                                      * P(x=x,p=p)/fact(n=p), \\\n",
    "                         a_x, b_x)  \\\n",
    "                                                      * P(x=y,p=p)/fact(n=p), \\\n",
    "                         a_y, b_y)\n",
    "    return R_p_R_p"
   ]
  },
  {
   "cell_type": "code",
   "execution_count": 39,
   "metadata": {},
   "outputs": [],
   "source": [
    "def euler_maclaurin1(f, symb, a, b, p, f_diff_symb_p=None, hold_int=True, hold_sum=True):\n",
    "    if logging:\n",
    "        print(\"f\", f)\n",
    "        print(\"symb,a,b\", symb, a, b)\n",
    "        print(\"\")\n",
    "    #u, j = var(\"u, j\")\n",
    "\n",
    "    int_fn_a_b = integral(f, (symb, a, b))\n",
    "    if logging:\n",
    "        print(\"int_fn_a_b\", int_fn_a_b)\n",
    "    \n",
    "    #s = int_fn_a_b + sum_dfdx_a_bernoullis(b) - sum_dfdx_a_bernoullis(a) + R_p\n",
    "    s = int_fn_a_b + sum_dfdx_bernoulis(f,symb,a,b,p)\n",
    "    \n",
    "    if True == calc_R_p:\n",
    "        R_p = euler_maclaurin_R_p(f, symb, a, b, p, f_diff_symb_p=f_diff_symb_p,hold_int=hold_int, hold_sum=hold_sum)\n",
    "        if type(R_p) is tuple:\n",
    "            s += R_p[0]\n",
    "        else:\n",
    "            s += R_p\n",
    "\n",
    "    return s"
   ]
  },
  {
   "cell_type": "code",
   "execution_count": 40,
   "metadata": {},
   "outputs": [],
   "source": [
    "from IPython.display import display, Math, Latex"
   ]
  },
  {
   "cell_type": "code",
   "execution_count": 41,
   "metadata": {},
   "outputs": [
    {
     "name": "stdout",
     "output_type": "stream",
     "text": [
      "F(n_x, n_y)\n"
     ]
    }
   ],
   "source": [
    "a_x = var(\"a_x\")\n",
    "b_x = var(\"b_x\")\n",
    "a_y = var(\"a_y\")\n",
    "b_y = var(\"b_y\")\n",
    "\n",
    "assume(a_x, 'real')\n",
    "assume(b_x, 'real')\n",
    "assume(a_y, 'real')\n",
    "assume(b_y, 'real')\n",
    "\n",
    "assume(a_x, 'integer')\n",
    "assume(b_x, 'integer')\n",
    "assume(a_y, 'integer')\n",
    "assume(b_y, 'integer')\n",
    "\n",
    "assume(a_x > 0)\n",
    "assume(b_x > 0)\n",
    "assume(a_y > 0)\n",
    "assume(b_y > 0)\n",
    "\n",
    "#x,y = var(\"x,y\")\n",
    "\n",
    "n = QQ['n'].0\n",
    "j = QQ['j'].0\n",
    "\n",
    "p = 4\n",
    "#p = 3\n",
    "#p = 2\n",
    "#p = 1\n",
    "\n",
    "F = function(\"F\")(n_x, n_y)\n",
    "print(F)"
   ]
  },
  {
   "cell_type": "markdown",
   "metadata": {},
   "source": [
    "$${\\displaystyle R_{p}=(-1)^{p+1}\\sum_{j=a}^{b-1} \\int _{0}^{1}f^{(p)}(u+j){\\frac {B_{p}(u)}{p!}}\\,du.}$$"
   ]
  },
  {
   "cell_type": "code",
   "execution_count": 42,
   "metadata": {},
   "outputs": [],
   "source": [
    "use_int_R_p_j=False\n",
    "change_R_p_order=True\n",
    "use_int_R_p_shifted_first=True\n",
    "use_num_int = False\n",
    "logging = False"
   ]
  },
  {
   "cell_type": "raw",
   "metadata": {},
   "source": [
    "int_int_F = integral(integral(F,(n_x, a_x, b_x)),  (n_y, a_y, b_y))\n",
    "print(\"int_int_F=\", int_int_F)\n",
    "display(Math(latex(int_int_F)))"
   ]
  },
  {
   "cell_type": "code",
   "execution_count": 43,
   "metadata": {},
   "outputs": [
    {
     "name": "stdout",
     "output_type": "stream",
     "text": [
      "int_sum_F= 1/2*integrate(F(a_x, n_y), n_y, a_y, b_y) - 1/12*integrate(diff(F(a_x, n_y), a_x), n_y, a_y, b_y) + 1/720*integrate(diff(F(a_x, n_y), a_x, a_x, a_x), n_y, a_y, b_y)\n"
     ]
    },
    {
     "data": {
      "text/latex": [
       "$\\displaystyle \\frac{1}{2} \\, \\int_{a_{y}}^{b_{y}} F\\left(a_{x}, n_{y}\\right)\\,{d n_{y}} - \\frac{1}{12} \\, \\int_{a_{y}}^{b_{y}} \\frac{\\partial}{\\partial a_{x}}F\\left(a_{x}, n_{y}\\right)\\,{d n_{y}} + \\frac{1}{720} \\, \\int_{a_{y}}^{b_{y}} \\frac{\\partial^{3}}{(\\partial a_{x})^{3}}F\\left(a_{x}, n_{y}\\right)\\,{d n_{y}}$"
      ],
      "text/plain": [
       "<IPython.core.display.Math object>"
      ]
     },
     "metadata": {},
     "output_type": "display_data"
    }
   ],
   "source": [
    "int_sum_F = integral(sum_dfdx_bernoulis (F, n_x, a_x, b_x,p), (n_y, a_y, b_y)).expand()\n",
    "print(\"int_sum_F=\", int_sum_F)\n",
    "display(Math(latex(int_sum_F)))"
   ]
  },
  {
   "cell_type": "code",
   "execution_count": 44,
   "metadata": {},
   "outputs": [
    {
     "name": "stdout",
     "output_type": "stream",
     "text": [
      "int_sum_Fu= <function <lambda> at 0x7f0038ddf2e0>\n"
     ]
    },
    {
     "data": {
      "text/latex": [
       "$\\displaystyle \\int_{0}^{+\\infty} \\frac{1}{2} \\, \\sqrt{n_{y}^{2} + u^{2}} f\\left(\\frac{\\pi \\sqrt{n_{y}^{2} + u^{2}}}{a k_{m}}\\right)\\,{d n_{y}}$"
      ],
      "text/plain": [
       "<IPython.core.display.Math object>"
      ]
     },
     "metadata": {},
     "output_type": "display_data"
    }
   ],
   "source": [
    "int_sum_Fu = lambda u, a, k_m : num_int(lambda n_y : sum_dfdx_bernoulis (Fu(u, n_x, n_y, a, k_m), n_x, 0, Infinity,p), 0, Infinity, v = n_y)\n",
    "print(\"int_sum_Fu=\", int_sum_Fu)\n",
    "display(Math(latex(int_sum_Fu(u, a, k_m))))"
   ]
  },
  {
   "cell_type": "code",
   "execution_count": 45,
   "metadata": {},
   "outputs": [
    {
     "name": "stdout",
     "output_type": "stream",
     "text": [
      "int_sum_Fn= <function <lambda> at 0x7f0038ddc5e0>\n"
     ]
    },
    {
     "data": {
      "text/latex": [
       "$\\displaystyle \\int_{0}^{+\\infty} \\frac{\\sqrt{n_{y}^{2} + u^{2}}}{2 \\, {\\left(\\frac{\\pi^{4} {\\left(n_{y}^{2} + u^{2}\\right)}^{2}}{a^{4} k_{m}^{4}} + 1\\right)}}\\,{d n_{y}}$"
      ],
      "text/plain": [
       "<IPython.core.display.Math object>"
      ]
     },
     "metadata": {},
     "output_type": "display_data"
    }
   ],
   "source": [
    "int_sum_Fn = lambda u, a, k_m : num_int(lambda n_y : sum_dfdx_bernoulis (Fn(u, n_x, n_y, a, k_m), n_x, 0, Infinity,p), 0, Infinity, v = n_y)\n",
    "print(\"int_sum_Fn=\", int_sum_Fn)\n",
    "display(Math(latex(int_sum_Fn(u, a, k_m))))"
   ]
  },
  {
   "cell_type": "code",
   "execution_count": 46,
   "metadata": {},
   "outputs": [
    {
     "name": "stdout",
     "output_type": "stream",
     "text": [
      "sum_int_F= 1/2*integrate(F(n_x, a_y), n_x, a_x, b_x) - 1/12*integrate(diff(F(n_x, a_y), a_y), n_x, a_x, b_x) + 1/720*integrate(diff(F(n_x, a_y), a_y, a_y, a_y), n_x, a_x, b_x)\n"
     ]
    },
    {
     "data": {
      "text/latex": [
       "$\\displaystyle \\frac{1}{2} \\, \\int_{a_{x}}^{b_{x}} F\\left(n_{x}, a_{y}\\right)\\,{d n_{x}} - \\frac{1}{12} \\, \\int_{a_{x}}^{b_{x}} \\frac{\\partial}{\\partial a_{y}}F\\left(n_{x}, a_{y}\\right)\\,{d n_{x}} + \\frac{1}{720} \\, \\int_{a_{x}}^{b_{x}} \\frac{\\partial^{3}}{(\\partial a_{y})^{3}}F\\left(n_{x}, a_{y}\\right)\\,{d n_{x}}$"
      ],
      "text/plain": [
       "<IPython.core.display.Math object>"
      ]
     },
     "metadata": {},
     "output_type": "display_data"
    }
   ],
   "source": [
    "sum_int_F = sum_dfdx_bernoulis(integrate           (F,(n_x, a_x, b_x)),  n_y, a_y, b_y, p)\n",
    "print(\"sum_int_F=\",sum_int_F)\n",
    "display(Math(latex(sum_int_F)))"
   ]
  },
  {
   "cell_type": "code",
   "execution_count": 47,
   "metadata": {},
   "outputs": [
    {
     "name": "stdout",
     "output_type": "stream",
     "text": [
      "sum_int_Fu= -1/12*(a*k_m*integrate(f(pi*sqrt(a_y^2 + n_x^2 + u^2)/(a*k_m))/sqrt(a_y^2 + n_x^2 + u^2), n_x, a_x, b_x) + pi*integrate(D[0](f)(pi*sqrt(a_y^2 + n_x^2 + u^2)/(a*k_m)), n_x, a_x, b_x))*a_y/(a*k_m) - 1/720*(a*k_m*integrate(f(pi*sqrt(a_y^2 + n_x^2 + u^2)/(a*k_m))/(sqrt(a_y^2 + n_x^2 + u^2)*a_y^2 + sqrt(a_y^2 + n_x^2 + u^2)*n_x^2 + sqrt(a_y^2 + n_x^2 + u^2)*u^2), n_x, a_x, b_x) - ((3*a*k_m*integrate(f(pi*sqrt(a_y^2 + n_x^2 + u^2)/(a*k_m))/(sqrt(a_y^2 + n_x^2 + u^2)*a_y^4 + 2*sqrt(a_y^2 + n_x^2 + u^2)*a_y^2*n_x^2 + sqrt(a_y^2 + n_x^2 + u^2)*n_x^4 + 2*sqrt(a_y^2 + n_x^2 + u^2)*a_y^2*u^2 + 2*sqrt(a_y^2 + n_x^2 + u^2)*n_x^2*u^2 + sqrt(a_y^2 + n_x^2 + u^2)*u^4), n_x, a_x, b_x) - pi*integrate(D[0](f)(pi*sqrt(a_y^2 + n_x^2 + u^2)/(a*k_m))/(a_y^4 + 2*a_y^2*n_x^2 + n_x^4 + 2*a_y^2*u^2 + 2*n_x^2*u^2 + u^4), n_x, a_x, b_x))*a_y + pi*(pi*a_y^2*integrate(D[0, 0](f)(pi*sqrt(a_y^2 + n_x^2 + u^2)/(a*k_m))/(sqrt(a_y^2 + n_x^2 + u^2)*a_y^4 + 2*sqrt(a_y^2 + n_x^2 + u^2)*a_y^2*n_x^2 + sqrt(a_y^2 + n_x^2 + u^2)*n_x^4 + 2*sqrt(a_y^2 + n_x^2 + u^2)*a_y^2*u^2 + 2*sqrt(a_y^2 + n_x^2 + u^2)*n_x^2*u^2 + sqrt(a_y^2 + n_x^2 + u^2)*u^4), n_x, a_x, b_x) + pi*u^2*integrate(D[0, 0](f)(pi*sqrt(a_y^2 + n_x^2 + u^2)/(a*k_m))/(sqrt(a_y^2 + n_x^2 + u^2)*a_y^4 + 2*sqrt(a_y^2 + n_x^2 + u^2)*a_y^2*n_x^2 + sqrt(a_y^2 + n_x^2 + u^2)*n_x^4 + 2*sqrt(a_y^2 + n_x^2 + u^2)*a_y^2*u^2 + 2*sqrt(a_y^2 + n_x^2 + u^2)*n_x^2*u^2 + sqrt(a_y^2 + n_x^2 + u^2)*u^4), n_x, a_x, b_x) - 2*a*k_m*integrate(D[0](f)(pi*sqrt(a_y^2 + n_x^2 + u^2)/(a*k_m))/(a_y^4 + 2*a_y^2*n_x^2 + n_x^4 + 2*a_y^2*u^2 + 2*n_x^2*u^2 + u^4), n_x, a_x, b_x) + pi*integrate(n_x^2*D[0, 0](f)(pi*sqrt(a_y^2 + n_x^2 + u^2)/(a*k_m))/(sqrt(a_y^2 + n_x^2 + u^2)*a_y^4 + 2*sqrt(a_y^2 + n_x^2 + u^2)*a_y^2*n_x^2 + sqrt(a_y^2 + n_x^2 + u^2)*n_x^4 + 2*sqrt(a_y^2 + n_x^2 + u^2)*a_y^2*u^2 + 2*sqrt(a_y^2 + n_x^2 + u^2)*n_x^2*u^2 + sqrt(a_y^2 + n_x^2 + u^2)*u^4), n_x, a_x, b_x))*a_y/(a*k_m))*a_y - pi*integrate(D[0](f)(pi*sqrt(a_y^2 + n_x^2 + u^2)/(a*k_m))/(a_y^2 + n_x^2 + u^2), n_x, a_x, b_x) + pi^2*(a*k_m*integrate(D[0, 0](f)(pi*sqrt(a_y^2 + n_x^2 + u^2)/(a*k_m))/(sqrt(a_y^2 + n_x^2 + u^2)*a_y^2 + sqrt(a_y^2 + n_x^2 + u^2)*n_x^2 + sqrt(a_y^2 + n_x^2 + u^2)*u^2), n_x, a_x, b_x) - pi*integrate(D[0, 0, 0](f)(pi*sqrt(a_y^2 + n_x^2 + u^2)/(a*k_m))/(a_y^2 + n_x^2 + u^2), n_x, a_x, b_x))*a_y^2/(a^2*k_m^2) - pi^2*integrate(D[0, 0](f)(pi*sqrt(a_y^2 + n_x^2 + u^2)/(a*k_m))/sqrt(a_y^2 + n_x^2 + u^2), n_x, a_x, b_x)/(a*k_m))*a_y/(a*k_m) - 1/360*((a*k_m*integrate(f(pi*sqrt(a_y^2 + n_x^2 + u^2)/(a*k_m))/(sqrt(a_y^2 + n_x^2 + u^2)*a_y^2 + sqrt(a_y^2 + n_x^2 + u^2)*n_x^2 + sqrt(a_y^2 + n_x^2 + u^2)*u^2), n_x, a_x, b_x) - pi*integrate(D[0](f)(pi*sqrt(a_y^2 + n_x^2 + u^2)/(a*k_m))/(a_y^2 + n_x^2 + u^2), n_x, a_x, b_x))*a_y - pi^2*a_y*integrate(D[0, 0](f)(pi*sqrt(a_y^2 + n_x^2 + u^2)/(a*k_m))/sqrt(a_y^2 + n_x^2 + u^2), n_x, a_x, b_x)/(a*k_m))/(a*k_m) + 1/2*integrate(sqrt(a_y^2 + n_x^2 + u^2)*f(pi*sqrt(a_y^2 + n_x^2 + u^2)/(a*k_m)), n_x, a_x, b_x)\n"
     ]
    },
    {
     "data": {
      "text/latex": [
       "$\\displaystyle -\\frac{{\\left(a k_{m} \\int_{a_{x}}^{b_{x}} \\frac{f\\left(\\frac{\\pi \\sqrt{a_{y}^{2} + n_{x}^{2} + u^{2}}}{a k_{m}}\\right)}{\\sqrt{a_{y}^{2} + n_{x}^{2} + u^{2}}}\\,{d n_{x}} + \\pi \\int_{a_{x}}^{b_{x}} \\mathrm{D}_{0}\\left(f\\right)\\left(\\frac{\\pi \\sqrt{a_{y}^{2} + n_{x}^{2} + u^{2}}}{a k_{m}}\\right)\\,{d n_{x}}\\right)} a_{y}}{12 \\, a k_{m}} - \\frac{{\\left(a k_{m} \\int_{a_{x}}^{b_{x}} \\frac{f\\left(\\frac{\\pi \\sqrt{a_{y}^{2} + n_{x}^{2} + u^{2}}}{a k_{m}}\\right)}{{\\left(a_{y}^{2} + n_{x}^{2} + u^{2}\\right)}^{\\frac{3}{2}}}\\,{d n_{x}} - {\\left({\\left(3 \\, a k_{m} \\int_{a_{x}}^{b_{x}} \\frac{f\\left(\\frac{\\pi \\sqrt{a_{y}^{2} + n_{x}^{2} + u^{2}}}{a k_{m}}\\right)}{{\\left(a_{y}^{2} + n_{x}^{2} + u^{2}\\right)}^{\\frac{5}{2}}}\\,{d n_{x}} - \\pi \\int_{a_{x}}^{b_{x}} \\frac{\\mathrm{D}_{0}\\left(f\\right)\\left(\\frac{\\pi \\sqrt{a_{y}^{2} + n_{x}^{2} + u^{2}}}{a k_{m}}\\right)}{{\\left(a_{y}^{2} + n_{x}^{2} + u^{2}\\right)}^{2}}\\,{d n_{x}}\\right)} a_{y} + \\frac{\\pi {\\left(\\pi a_{y}^{2} \\int_{a_{x}}^{b_{x}} \\frac{\\mathrm{D}_{0, 0}\\left(f\\right)\\left(\\frac{\\pi \\sqrt{a_{y}^{2} + n_{x}^{2} + u^{2}}}{a k_{m}}\\right)}{{\\left(a_{y}^{2} + n_{x}^{2} + u^{2}\\right)}^{\\frac{5}{2}}}\\,{d n_{x}} + \\pi u^{2} \\int_{a_{x}}^{b_{x}} \\frac{\\mathrm{D}_{0, 0}\\left(f\\right)\\left(\\frac{\\pi \\sqrt{a_{y}^{2} + n_{x}^{2} + u^{2}}}{a k_{m}}\\right)}{{\\left(a_{y}^{2} + n_{x}^{2} + u^{2}\\right)}^{\\frac{5}{2}}}\\,{d n_{x}} - 2 \\, a k_{m} \\int_{a_{x}}^{b_{x}} \\frac{\\mathrm{D}_{0}\\left(f\\right)\\left(\\frac{\\pi \\sqrt{a_{y}^{2} + n_{x}^{2} + u^{2}}}{a k_{m}}\\right)}{{\\left(a_{y}^{2} + n_{x}^{2} + u^{2}\\right)}^{2}}\\,{d n_{x}} + \\pi \\int_{a_{x}}^{b_{x}} \\frac{n_{x}^{2} \\mathrm{D}_{0, 0}\\left(f\\right)\\left(\\frac{\\pi \\sqrt{a_{y}^{2} + n_{x}^{2} + u^{2}}}{a k_{m}}\\right)}{{\\left(a_{y}^{2} + n_{x}^{2} + u^{2}\\right)}^{\\frac{5}{2}}}\\,{d n_{x}}\\right)} a_{y}}{a k_{m}}\\right)} a_{y} - \\pi \\int_{a_{x}}^{b_{x}} \\frac{\\mathrm{D}_{0}\\left(f\\right)\\left(\\frac{\\pi \\sqrt{a_{y}^{2} + n_{x}^{2} + u^{2}}}{a k_{m}}\\right)}{a_{y}^{2} + n_{x}^{2} + u^{2}}\\,{d n_{x}} + \\frac{\\pi^{2} {\\left(a k_{m} \\int_{a_{x}}^{b_{x}} \\frac{\\mathrm{D}_{0, 0}\\left(f\\right)\\left(\\frac{\\pi \\sqrt{a_{y}^{2} + n_{x}^{2} + u^{2}}}{a k_{m}}\\right)}{{\\left(a_{y}^{2} + n_{x}^{2} + u^{2}\\right)}^{\\frac{3}{2}}}\\,{d n_{x}} - \\pi \\int_{a_{x}}^{b_{x}} \\frac{\\mathrm{D}_{0, 0, 0}\\left(f\\right)\\left(\\frac{\\pi \\sqrt{a_{y}^{2} + n_{x}^{2} + u^{2}}}{a k_{m}}\\right)}{a_{y}^{2} + n_{x}^{2} + u^{2}}\\,{d n_{x}}\\right)} a_{y}^{2}}{a^{2} k_{m}^{2}} - \\frac{\\pi^{2} \\int_{a_{x}}^{b_{x}} \\frac{\\mathrm{D}_{0, 0}\\left(f\\right)\\left(\\frac{\\pi \\sqrt{a_{y}^{2} + n_{x}^{2} + u^{2}}}{a k_{m}}\\right)}{\\sqrt{a_{y}^{2} + n_{x}^{2} + u^{2}}}\\,{d n_{x}}}{a k_{m}}\\right)} a_{y}}{720 \\, a k_{m}} - \\frac{{\\left(a k_{m} \\int_{a_{x}}^{b_{x}} \\frac{f\\left(\\frac{\\pi \\sqrt{a_{y}^{2} + n_{x}^{2} + u^{2}}}{a k_{m}}\\right)}{{\\left(a_{y}^{2} + n_{x}^{2} + u^{2}\\right)}^{\\frac{3}{2}}}\\,{d n_{x}} - \\pi \\int_{a_{x}}^{b_{x}} \\frac{\\mathrm{D}_{0}\\left(f\\right)\\left(\\frac{\\pi \\sqrt{a_{y}^{2} + n_{x}^{2} + u^{2}}}{a k_{m}}\\right)}{a_{y}^{2} + n_{x}^{2} + u^{2}}\\,{d n_{x}}\\right)} a_{y} - \\frac{\\pi^{2} a_{y} \\int_{a_{x}}^{b_{x}} \\frac{\\mathrm{D}_{0, 0}\\left(f\\right)\\left(\\frac{\\pi \\sqrt{a_{y}^{2} + n_{x}^{2} + u^{2}}}{a k_{m}}\\right)}{\\sqrt{a_{y}^{2} + n_{x}^{2} + u^{2}}}\\,{d n_{x}}}{a k_{m}}}{360 \\, a k_{m}} + \\frac{1}{2} \\, \\int_{a_{x}}^{b_{x}} \\sqrt{a_{y}^{2} + n_{x}^{2} + u^{2}} f\\left(\\frac{\\pi \\sqrt{a_{y}^{2} + n_{x}^{2} + u^{2}}}{a k_{m}}\\right)\\,{d n_{x}}$"
      ],
      "text/plain": [
       "<IPython.core.display.Math object>"
      ]
     },
     "metadata": {},
     "output_type": "display_data"
    }
   ],
   "source": [
    "try:\n",
    "    sum_int_Fu = sum_dfdx_bernoulis(integrate(Fu(u, n_x, n_y, a, k_m),(n_x, a_x, b_x), algorithm=\"sympy\"),  n_y, a_y, b_y, p)\n",
    "    print(\"sum_int_Fu=\",sum_int_Fu)\n",
    "    display(Math(latex(sum_int_Fu)))\n",
    "except Exception as ex:\n",
    "    print(ex)"
   ]
  },
  {
   "cell_type": "raw",
   "metadata": {},
   "source": [
    "try:\n",
    "    sum_int_Fn = sum_dfdx_bernoulis(integrate(Fn(u, n_x, n_y, a, k_m),(n_x, a_x, b_x), algorithm=\"sympy\"),  n_y, a_y, b_y, p)\n",
    "    print(\"sum_int_Fn=\",sum_int_Fn)\n",
    "    display(Math(latex(sum_int)))\n",
    "except Exception as ex:\n",
    "    print(ex)"
   ]
  },
  {
   "cell_type": "code",
   "execution_count": 48,
   "metadata": {},
   "outputs": [
    {
     "name": "stdout",
     "output_type": "stream",
     "text": [
      "sum_sum_F= 1/4*F(a_x, a_y) - 1/24*diff(F(a_x, a_y), a_x) + 1/1440*diff(F(a_x, a_y), a_x, a_x, a_x) - 1/8640*diff(F(a_x, a_y), a_x, a_x, a_x, a_y) + 1/518400*diff(F(a_x, a_y), a_x, a_x, a_x, a_y, a_y, a_y) + 1/144*diff(F(a_x, a_y), a_x, a_y) - 1/8640*diff(F(a_x, a_y), a_x, a_y, a_y, a_y) - 1/24*diff(F(a_x, a_y), a_y) + 1/1440*diff(F(a_x, a_y), a_y, a_y, a_y)\n"
     ]
    },
    {
     "data": {
      "text/latex": [
       "$\\displaystyle \\frac{1}{4} \\, F\\left(a_{x}, a_{y}\\right) - \\frac{1}{24} \\, \\frac{\\partial}{\\partial a_{x}}F\\left(a_{x}, a_{y}\\right) + \\frac{1}{1440} \\, \\frac{\\partial^{3}}{(\\partial a_{x})^{3}}F\\left(a_{x}, a_{y}\\right) - \\frac{1}{8640} \\, \\frac{\\partial^{4}}{(\\partial a_{x})^{3}\\partial a_{y}}F\\left(a_{x}, a_{y}\\right) + \\frac{1}{518400} \\, \\frac{\\partial^{6}}{(\\partial a_{x})^{3}(\\partial a_{y})^{3}}F\\left(a_{x}, a_{y}\\right) + \\frac{1}{144} \\, \\frac{\\partial^{2}}{\\partial a_{x}\\partial a_{y}}F\\left(a_{x}, a_{y}\\right) - \\frac{1}{8640} \\, \\frac{\\partial^{4}}{\\partial a_{x}(\\partial a_{y})^{3}}F\\left(a_{x}, a_{y}\\right) - \\frac{1}{24} \\, \\frac{\\partial}{\\partial a_{y}}F\\left(a_{x}, a_{y}\\right) + \\frac{1}{1440} \\, \\frac{\\partial^{3}}{(\\partial a_{y})^{3}}F\\left(a_{x}, a_{y}\\right)$"
      ],
      "text/plain": [
       "<IPython.core.display.Math object>"
      ]
     },
     "metadata": {},
     "output_type": "display_data"
    }
   ],
   "source": [
    "sum_sum_F = sum_dfdx_bernoulis(sum_dfdx_bernoulis (F, n_x, a_x, b_x,p), n_y, a_y, b_y, p)\n",
    "print(\"sum_sum_F=\",sum_sum_F)\n",
    "display(Math(latex(sum_sum_F)))"
   ]
  },
  {
   "cell_type": "code",
   "execution_count": 49,
   "metadata": {},
   "outputs": [
    {
     "name": "stdout",
     "output_type": "stream",
     "text": [
      "sum_sum_Fu= 1/4*sqrt(u^2)*f(pi*sqrt(u^2)/(a*k_m))\n"
     ]
    },
    {
     "data": {
      "text/latex": [
       "$\\displaystyle \\frac{1}{4} \\, \\sqrt{u^{2}} f\\left(\\frac{\\pi \\sqrt{u^{2}}}{a k_{m}}\\right)$"
      ],
      "text/plain": [
       "<IPython.core.display.Math object>"
      ]
     },
     "metadata": {},
     "output_type": "display_data"
    }
   ],
   "source": [
    "sum_sum_Fu = lambda u, a, k_m : sum_dfdx_bernoulis(sum_dfdx_bernoulis (Fu(u, n_x, n_y, a, k_m), n_x, 0, b_x, p), n_y, 0, b_x, p)\n",
    "print(\"sum_sum_Fu=\",sum_sum_Fu(u, a, k_m))\n",
    "display(Math(latex(sum_sum_Fu(u, a, k_m))))"
   ]
  },
  {
   "cell_type": "code",
   "execution_count": 50,
   "metadata": {},
   "outputs": [
    {
     "name": "stdout",
     "output_type": "stream",
     "text": [
      "sum_sum_Fn= 1/4*sqrt(u^2)/(pi^4*u^4/(a^4*k_m^4) + 1)\n"
     ]
    },
    {
     "data": {
      "text/latex": [
       "$\\displaystyle \\frac{\\sqrt{u^{2}}}{4 \\, {\\left(\\frac{\\pi^{4} u^{4}}{a^{4} k_{m}^{4}} + 1\\right)}}$"
      ],
      "text/plain": [
       "<IPython.core.display.Math object>"
      ]
     },
     "metadata": {},
     "output_type": "display_data"
    }
   ],
   "source": [
    "sum_sum_Fn = lambda u, a, k_m : sum_dfdx_bernoulis(sum_dfdx_bernoulis (Fn(u, n_x, n_y, a, k_m), n_x, 0, b_x, p), n_y, 0, b_x, p)\n",
    "print(\"sum_sum_Fn=\",sum_sum_Fn(u, a, k_m))\n",
    "display(Math(latex(sum_sum_Fn(u, a, k_m))))"
   ]
  },
  {
   "cell_type": "code",
   "execution_count": 51,
   "metadata": {},
   "outputs": [
    {
     "data": {
      "text/plain": [
       "sum(diff(F(n_x, n_y), n_y), n_x, a_x, b_x)"
      ]
     },
     "execution_count": 51,
     "metadata": {},
     "output_type": "execute_result"
    }
   ],
   "source": [
    "# Sagemath 9.3 has bug diff of symbolic_sum\n",
    "# https://trac.sagemath.org/ticket/32161\n",
    "\n",
    "from sage.calculus.calculus import symbolic_sum\n",
    "s = symbolic_sum(F, n_x, a_x, b_x, algorithm = 'giac')\n",
    "s.diff(n_y)"
   ]
  },
  {
   "cell_type": "code",
   "execution_count": 52,
   "metadata": {},
   "outputs": [
    {
     "name": "stdout",
     "output_type": "stream",
     "text": [
      "R_px= -integrate(1/720*(30*(n_x - floor(n_x))^4 - 60*(n_x - floor(n_x))^3 + 30*(n_x - floor(n_x))^2 - 1)*diff(F(n_x, n_y), n_x, n_x, n_x, n_x), n_x, a_x, b_x)\n"
     ]
    },
    {
     "data": {
      "text/latex": [
       "$\\displaystyle -\\int_{a_{x}}^{b_{x}} \\frac{1}{720} \\, {\\left(30 \\, {\\left(n_{x} - \\left \\lfloor n_{x} \\right \\rfloor\\right)}^{4} - 60 \\, {\\left(n_{x} - \\left \\lfloor n_{x} \\right \\rfloor\\right)}^{3} + 30 \\, {\\left(n_{x} - \\left \\lfloor n_{x} \\right \\rfloor\\right)}^{2} - 1\\right)} \\frac{\\partial^{4}}{(\\partial n_{x})^{4}}F\\left(n_{x}, n_{y}\\right)\\,{d n_{x}}$"
      ],
      "text/plain": [
       "<IPython.core.display.Math object>"
      ]
     },
     "metadata": {},
     "output_type": "display_data"
    },
    {
     "name": "stdout",
     "output_type": "stream",
     "text": [
      "sumy_R_px= -1/1440*integrate(30*n_x^4*diff(F(n_x, a_y), n_x, n_x, n_x, n_x), n_x, a_x, b_x) - 1/1440*integrate(-120*n_x^3*floor(n_x)*diff(F(n_x, a_y), n_x, n_x, n_x, n_x), n_x, a_x, b_x) - 1/1440*integrate(180*n_x^2*floor(n_x)^2*diff(F(n_x, a_y), n_x, n_x, n_x, n_x), n_x, a_x, b_x) - 1/1440*integrate(-120*n_x*floor(n_x)^3*diff(F(n_x, a_y), n_x, n_x, n_x, n_x), n_x, a_x, b_x) - 1/1440*integrate(30*floor(n_x)^4*diff(F(n_x, a_y), n_x, n_x, n_x, n_x), n_x, a_x, b_x) - 1/17280*integrate(n_x^4*diff(F(n_x, a_y), n_x, n_x, n_x, n_x, a_y, a_y, a_y), n_x, a_x, b_x) + 1/4320*integrate(n_x^3*floor(n_x)*diff(F(n_x, a_y), n_x, n_x, n_x, n_x, a_y, a_y, a_y), n_x, a_x, b_x) - 1/2880*integrate(n_x^2*floor(n_x)^2*diff(F(n_x, a_y), n_x, n_x, n_x, n_x, a_y, a_y, a_y), n_x, a_x, b_x) + 1/4320*integrate(n_x*floor(n_x)^3*diff(F(n_x, a_y), n_x, n_x, n_x, n_x, a_y, a_y, a_y), n_x, a_x, b_x) - 1/17280*integrate(floor(n_x)^4*diff(F(n_x, a_y), n_x, n_x, n_x, n_x, a_y, a_y, a_y), n_x, a_x, b_x) - 1/1440*integrate(-60*n_x^3*diff(F(n_x, a_y), n_x, n_x, n_x, n_x), n_x, a_x, b_x) - 1/1440*integrate(180*n_x^2*floor(n_x)*diff(F(n_x, a_y), n_x, n_x, n_x, n_x), n_x, a_x, b_x) - 1/1440*integrate(-180*n_x*floor(n_x)^2*diff(F(n_x, a_y), n_x, n_x, n_x, n_x), n_x, a_x, b_x) - 1/1440*integrate(60*floor(n_x)^3*diff(F(n_x, a_y), n_x, n_x, n_x, n_x), n_x, a_x, b_x) + 1/8640*integrate(n_x^3*diff(F(n_x, a_y), n_x, n_x, n_x, n_x, a_y, a_y, a_y), n_x, a_x, b_x) - 1/2880*integrate(n_x^2*floor(n_x)*diff(F(n_x, a_y), n_x, n_x, n_x, n_x, a_y, a_y, a_y), n_x, a_x, b_x) + 1/2880*integrate(n_x*floor(n_x)^2*diff(F(n_x, a_y), n_x, n_x, n_x, n_x, a_y, a_y, a_y), n_x, a_x, b_x) - 1/8640*integrate(floor(n_x)^3*diff(F(n_x, a_y), n_x, n_x, n_x, n_x, a_y, a_y, a_y), n_x, a_x, b_x) - 1/1440*integrate(30*n_x^2*diff(F(n_x, a_y), n_x, n_x, n_x, n_x), n_x, a_x, b_x) - 1/1440*integrate(-60*n_x*floor(n_x)*diff(F(n_x, a_y), n_x, n_x, n_x, n_x), n_x, a_x, b_x) - 1/1440*integrate(30*floor(n_x)^2*diff(F(n_x, a_y), n_x, n_x, n_x, n_x), n_x, a_x, b_x) - 1/17280*integrate(n_x^2*diff(F(n_x, a_y), n_x, n_x, n_x, n_x, a_y, a_y, a_y), n_x, a_x, b_x) + 1/8640*integrate(n_x*floor(n_x)*diff(F(n_x, a_y), n_x, n_x, n_x, n_x, a_y, a_y, a_y), n_x, a_x, b_x) - 1/17280*integrate(floor(n_x)^2*diff(F(n_x, a_y), n_x, n_x, n_x, n_x, a_y, a_y, a_y), n_x, a_x, b_x) + 1/8640*integrate((30*(n_x - floor(n_x))^4 - 60*(n_x - floor(n_x))^3 + 30*(n_x - floor(n_x))^2 - 1)*diff(F(n_x, a_y), n_x, n_x, n_x, n_x, a_y), n_x, a_x, b_x) - 1/1440*integrate(-diff(F(n_x, a_y), n_x, n_x, n_x, n_x), n_x, a_x, b_x) - 1/518400*diff(F(a_x, a_y), a_x, a_x, a_x, a_y, a_y, a_y) + 1/518400*diff(F(b_x, a_y), b_x, b_x, b_x, a_y, a_y, a_y)\n"
     ]
    },
    {
     "data": {
      "text/latex": [
       "$\\displaystyle -\\frac{1}{1440} \\, \\int_{a_{x}}^{b_{x}} 30 \\, n_{x}^{4} \\frac{\\partial^{4}}{(\\partial n_{x})^{4}}F\\left(n_{x}, a_{y}\\right)\\,{d n_{x}} - \\frac{1}{1440} \\, \\int_{a_{x}}^{b_{x}} -120 \\, n_{x}^{3} \\left \\lfloor n_{x} \\right \\rfloor \\frac{\\partial^{4}}{(\\partial n_{x})^{4}}F\\left(n_{x}, a_{y}\\right)\\,{d n_{x}} - \\frac{1}{1440} \\, \\int_{a_{x}}^{b_{x}} 180 \\, n_{x}^{2} \\left \\lfloor n_{x} \\right \\rfloor^{2} \\frac{\\partial^{4}}{(\\partial n_{x})^{4}}F\\left(n_{x}, a_{y}\\right)\\,{d n_{x}} - \\frac{1}{1440} \\, \\int_{a_{x}}^{b_{x}} -120 \\, n_{x} \\left \\lfloor n_{x} \\right \\rfloor^{3} \\frac{\\partial^{4}}{(\\partial n_{x})^{4}}F\\left(n_{x}, a_{y}\\right)\\,{d n_{x}} - \\frac{1}{1440} \\, \\int_{a_{x}}^{b_{x}} 30 \\, \\left \\lfloor n_{x} \\right \\rfloor^{4} \\frac{\\partial^{4}}{(\\partial n_{x})^{4}}F\\left(n_{x}, a_{y}\\right)\\,{d n_{x}} - \\frac{1}{17280} \\, \\int_{a_{x}}^{b_{x}} n_{x}^{4} \\frac{\\partial^{7}}{(\\partial n_{x})^{4}(\\partial a_{y})^{3}}F\\left(n_{x}, a_{y}\\right)\\,{d n_{x}} + \\frac{1}{4320} \\, \\int_{a_{x}}^{b_{x}} n_{x}^{3} \\left \\lfloor n_{x} \\right \\rfloor \\frac{\\partial^{7}}{(\\partial n_{x})^{4}(\\partial a_{y})^{3}}F\\left(n_{x}, a_{y}\\right)\\,{d n_{x}} - \\frac{1}{2880} \\, \\int_{a_{x}}^{b_{x}} n_{x}^{2} \\left \\lfloor n_{x} \\right \\rfloor^{2} \\frac{\\partial^{7}}{(\\partial n_{x})^{4}(\\partial a_{y})^{3}}F\\left(n_{x}, a_{y}\\right)\\,{d n_{x}} + \\frac{1}{4320} \\, \\int_{a_{x}}^{b_{x}} n_{x} \\left \\lfloor n_{x} \\right \\rfloor^{3} \\frac{\\partial^{7}}{(\\partial n_{x})^{4}(\\partial a_{y})^{3}}F\\left(n_{x}, a_{y}\\right)\\,{d n_{x}} - \\frac{1}{17280} \\, \\int_{a_{x}}^{b_{x}} \\left \\lfloor n_{x} \\right \\rfloor^{4} \\frac{\\partial^{7}}{(\\partial n_{x})^{4}(\\partial a_{y})^{3}}F\\left(n_{x}, a_{y}\\right)\\,{d n_{x}} - \\frac{1}{1440} \\, \\int_{a_{x}}^{b_{x}} -60 \\, n_{x}^{3} \\frac{\\partial^{4}}{(\\partial n_{x})^{4}}F\\left(n_{x}, a_{y}\\right)\\,{d n_{x}} - \\frac{1}{1440} \\, \\int_{a_{x}}^{b_{x}} 180 \\, n_{x}^{2} \\left \\lfloor n_{x} \\right \\rfloor \\frac{\\partial^{4}}{(\\partial n_{x})^{4}}F\\left(n_{x}, a_{y}\\right)\\,{d n_{x}} - \\frac{1}{1440} \\, \\int_{a_{x}}^{b_{x}} -180 \\, n_{x} \\left \\lfloor n_{x} \\right \\rfloor^{2} \\frac{\\partial^{4}}{(\\partial n_{x})^{4}}F\\left(n_{x}, a_{y}\\right)\\,{d n_{x}} - \\frac{1}{1440} \\, \\int_{a_{x}}^{b_{x}} 60 \\, \\left \\lfloor n_{x} \\right \\rfloor^{3} \\frac{\\partial^{4}}{(\\partial n_{x})^{4}}F\\left(n_{x}, a_{y}\\right)\\,{d n_{x}} + \\frac{1}{8640} \\, \\int_{a_{x}}^{b_{x}} n_{x}^{3} \\frac{\\partial^{7}}{(\\partial n_{x})^{4}(\\partial a_{y})^{3}}F\\left(n_{x}, a_{y}\\right)\\,{d n_{x}} - \\frac{1}{2880} \\, \\int_{a_{x}}^{b_{x}} n_{x}^{2} \\left \\lfloor n_{x} \\right \\rfloor \\frac{\\partial^{7}}{(\\partial n_{x})^{4}(\\partial a_{y})^{3}}F\\left(n_{x}, a_{y}\\right)\\,{d n_{x}} + \\frac{1}{2880} \\, \\int_{a_{x}}^{b_{x}} n_{x} \\left \\lfloor n_{x} \\right \\rfloor^{2} \\frac{\\partial^{7}}{(\\partial n_{x})^{4}(\\partial a_{y})^{3}}F\\left(n_{x}, a_{y}\\right)\\,{d n_{x}} - \\frac{1}{8640} \\, \\int_{a_{x}}^{b_{x}} \\left \\lfloor n_{x} \\right \\rfloor^{3} \\frac{\\partial^{7}}{(\\partial n_{x})^{4}(\\partial a_{y})^{3}}F\\left(n_{x}, a_{y}\\right)\\,{d n_{x}} - \\frac{1}{1440} \\, \\int_{a_{x}}^{b_{x}} 30 \\, n_{x}^{2} \\frac{\\partial^{4}}{(\\partial n_{x})^{4}}F\\left(n_{x}, a_{y}\\right)\\,{d n_{x}} - \\frac{1}{1440} \\, \\int_{a_{x}}^{b_{x}} -60 \\, n_{x} \\left \\lfloor n_{x} \\right \\rfloor \\frac{\\partial^{4}}{(\\partial n_{x})^{4}}F\\left(n_{x}, a_{y}\\right)\\,{d n_{x}} - \\frac{1}{1440} \\, \\int_{a_{x}}^{b_{x}} 30 \\, \\left \\lfloor n_{x} \\right \\rfloor^{2} \\frac{\\partial^{4}}{(\\partial n_{x})^{4}}F\\left(n_{x}, a_{y}\\right)\\,{d n_{x}} - \\frac{1}{17280} \\, \\int_{a_{x}}^{b_{x}} n_{x}^{2} \\frac{\\partial^{7}}{(\\partial n_{x})^{4}(\\partial a_{y})^{3}}F\\left(n_{x}, a_{y}\\right)\\,{d n_{x}} + \\frac{1}{8640} \\, \\int_{a_{x}}^{b_{x}} n_{x} \\left \\lfloor n_{x} \\right \\rfloor \\frac{\\partial^{7}}{(\\partial n_{x})^{4}(\\partial a_{y})^{3}}F\\left(n_{x}, a_{y}\\right)\\,{d n_{x}} - \\frac{1}{17280} \\, \\int_{a_{x}}^{b_{x}} \\left \\lfloor n_{x} \\right \\rfloor^{2} \\frac{\\partial^{7}}{(\\partial n_{x})^{4}(\\partial a_{y})^{3}}F\\left(n_{x}, a_{y}\\right)\\,{d n_{x}} + \\frac{1}{8640} \\, \\int_{a_{x}}^{b_{x}} {\\left(30 \\, {\\left(n_{x} - \\left \\lfloor n_{x} \\right \\rfloor\\right)}^{4} - 60 \\, {\\left(n_{x} - \\left \\lfloor n_{x} \\right \\rfloor\\right)}^{3} + 30 \\, {\\left(n_{x} - \\left \\lfloor n_{x} \\right \\rfloor\\right)}^{2} - 1\\right)} \\frac{\\partial^{5}}{(\\partial n_{x})^{4}\\partial a_{y}}F\\left(n_{x}, a_{y}\\right)\\,{d n_{x}} - \\frac{1}{1440} \\, \\int_{a_{x}}^{b_{x}} -\\frac{\\partial^{4}}{(\\partial n_{x})^{4}}F\\left(n_{x}, a_{y}\\right)\\,{d n_{x}} - \\frac{1}{518400} \\, \\frac{\\partial^{6}}{(\\partial a_{x})^{3}(\\partial a_{y})^{3}}F\\left(a_{x}, a_{y}\\right) + \\frac{1}{518400} \\, \\frac{\\partial^{6}}{(\\partial b_{x})^{3}(\\partial a_{y})^{3}}F\\left(b_{x}, a_{y}\\right)$"
      ],
      "text/plain": [
       "<IPython.core.display.Math object>"
      ]
     },
     "metadata": {},
     "output_type": "display_data"
    }
   ],
   "source": [
    "try:\n",
    "    use_int_R_p_j=False\n",
    "\n",
    "    # Sagemath 9.3 has bug diff of symbolic_sum\n",
    "    # https://trac.sagemath.org/ticket/32161\n",
    "\n",
    "    R_px = euler_maclaurin_R_p(F, n_x, a_x, b_x,p, f_diff_symb_p=F.diff(n_x,p))\n",
    "    if type(R_px) is tuple:\n",
    "        (R_px, term) = R_px\n",
    "        print(\"term=\", term)\n",
    "        display(Math(latex(term)))\n",
    "\n",
    "    print(\"R_px=\", R_px)\n",
    "    display(Math(latex(R_px)))\n",
    "\n",
    "    sumy_R_px = sum_dfdx_bernoulis(R_px, n_y, a_y, b_y, p)\n",
    "    print(\"sumy_R_px=\",sumy_R_px)\n",
    "    display(Math(latex(sumy_R_px)))\n",
    "except Exception as ex:\n",
    "    print(ex)"
   ]
  },
  {
   "cell_type": "raw",
   "metadata": {},
   "source": [
    "use_int_R_p_j=False\n",
    "sum_R_p = sum_dfdx_bernoulis(euler_maclaurin_R_p(F, n_x, a_x, b_x,p, f_diff_symb_p=F.diff(n_x,p)), n_y, a_y, b_y, p)\n",
    "print(\"sum_R_p=\",sum_R_p)\n",
    "display(Math(latex(sum_R_p)))"
   ]
  },
  {
   "cell_type": "raw",
   "metadata": {},
   "source": [
    "use_int_R_p_j=False\n",
    "# Sagemath 9.3 has bug diff of symbolic_sum\n",
    "# https://trac.sagemath.org/ticket/32161\n",
    "\n",
    "R_px = euler_maclaurin_R_p(F, n_x, a_x, b_x,p, f_diff_symb_p=F.diff(n_x,p))\n",
    "print(\"R_px=\", R_px)\n",
    "display(Math(latex(R_px)))\n",
    "\n",
    "sumy_R_px = sum_dfdx_bernoulis(R_px, n_y, a_y, b_y, p)\n",
    "print(\"sumy_R_px=\",sumy_R_px)\n",
    "display(Math(latex(sumy_R_px)))\n",
    "\n",
    "#sum_R_p = sum_dfdx_bernoulis(euler_maclaurin_R_p(F, n_x, a_x, b_x,p, f_diff_symb_p=F.diff(n_x,p)), n_y, a_y, b_y, p)\n",
    "#print(\"sum_R_p=\",sum_R_p)\n",
    "#display(Math(latex(sum_R_p)))"
   ]
  },
  {
   "cell_type": "raw",
   "metadata": {},
   "source": [
    "try:\n",
    "    use_int_R_p_j=False\n",
    "\n",
    "    R_px = euler_maclaurin_R_p(F, n_x, a_x, b_x,p, f_diff_symb_p=F.diff(n_x,p))\n",
    "    print(\"R_px=\", R_px)\n",
    "    display(Math(latex(R_px)))\n",
    "\n",
    "    sumy_R_px = sum_dfdx_bernoulis(R_px, n_y, a_y, b_y, p)\n",
    "    print(\"sumy_R_px=\",sumy_R_px)\n",
    "    display(Math(latex(sumy_R_px)))\n",
    "\n",
    "    #sum_R_p = sum_dfdx_bernoulis(euler_maclaurin_R_p(F, n_x, a_x, b_x,p, f_diff_symb_p=F.diff(n_x,p)), n_y, a_y, b_y, p)\n",
    "    #print(\"sum_R_p=\",sum_R_p)\n",
    "    #display(Math(latex(sum_R_p)))\n",
    "except Exception as ex:\n",
    "    print(ex)"
   ]
  },
  {
   "cell_type": "raw",
   "metadata": {},
   "source": [
    "# with p = 3 I had\n",
    "# bug with zeroing of array of lambdas\n",
    "# here (inside sum_dfdx_bernoulis_euler_maclaurin_R_p)\n",
    "# Fixed!!!\n",
    "use_int_R_p_j=False\n",
    "#logging = True\n",
    "sum_R_p = sum_dfdx_bernoulis_euler_maclaurin_R_p(F, n_x, a_x, b_x,    n_y, a_y, b_y, p)\n",
    "\n",
    "if type(sum_R_p) is tuple:\n",
    "    print(\"sum_R_p=\",sum_R_p[0])\n",
    "    display(Math(latex(sum_R_p[0])))\n",
    "else:\n",
    "    print(\"sum_R_p=\",sum_R_p)\n",
    "    display(Math(latex(sum_R_p)))"
   ]
  },
  {
   "cell_type": "code",
   "execution_count": 53,
   "metadata": {},
   "outputs": [
    {
     "name": "stdout",
     "output_type": "stream",
     "text": [
      "int_F= integrate(F(n_x, n_y), n_x, a_x, b_x)\n"
     ]
    },
    {
     "data": {
      "text/latex": [
       "$\\displaystyle \\int_{a_{x}}^{b_{x}} F\\left(n_{x}, n_{y}\\right)\\,{d n_{x}}$"
      ],
      "text/plain": [
       "<IPython.core.display.Math object>"
      ]
     },
     "metadata": {},
     "output_type": "display_data"
    },
    {
     "name": "stdout",
     "output_type": "stream",
     "text": [
      "R_p_int= -integrate(1/720*(30*(n_y - floor(n_y))^4 - 60*(n_y - floor(n_y))^3 + 30*(n_y - floor(n_y))^2 - 1)*integrate(diff(F(n_x, n_y), n_y, n_y, n_y, n_y), n_x, a_x, b_x), n_y, a_y, b_y)\n"
     ]
    },
    {
     "data": {
      "text/latex": [
       "$\\displaystyle -\\int_{a_{y}}^{b_{y}} \\frac{1}{720} \\, {\\left(30 \\, {\\left(n_{y} - \\left \\lfloor n_{y} \\right \\rfloor\\right)}^{4} - 60 \\, {\\left(n_{y} - \\left \\lfloor n_{y} \\right \\rfloor\\right)}^{3} + 30 \\, {\\left(n_{y} - \\left \\lfloor n_{y} \\right \\rfloor\\right)}^{2} - 1\\right)} \\int_{a_{x}}^{b_{x}} \\frac{\\partial^{4}}{(\\partial n_{y})^{4}}F\\left(n_{x}, n_{y}\\right)\\,{d n_{x}}\\,{d n_{y}}$"
      ],
      "text/plain": [
       "<IPython.core.display.Math object>"
      ]
     },
     "metadata": {},
     "output_type": "display_data"
    }
   ],
   "source": [
    "try:\n",
    "    int_F = integral           (F,(n_x, a_x, b_x), hold=True)\n",
    "    print(\"int_F=\",int_F)\n",
    "    display(Math(latex(int_F)))\n",
    "\n",
    "    R_p_int = euler_maclaurin_R_p(int_F, n_y, a_y, b_y, p, f_diff_symb_p=int_F.diff(n_y,p))\n",
    "    print(\"R_p_int=\",R_p_int)\n",
    "    display(Math(latex(R_p_int)))\n",
    "\n",
    "except Exception as ex:\n",
    "    print(ex)"
   ]
  },
  {
   "cell_type": "code",
   "execution_count": 54,
   "metadata": {},
   "outputs": [
    {
     "name": "stdout",
     "output_type": "stream",
     "text": [
      "sum_F= 1/2*F(a_x, n_y) - 1/12*diff(F(a_x, n_y), a_x) + 1/720*diff(F(a_x, n_y), a_x, a_x, a_x)\n"
     ]
    },
    {
     "data": {
      "text/latex": [
       "$\\displaystyle \\frac{1}{2} \\, F\\left(a_{x}, n_{y}\\right) - \\frac{1}{12} \\, \\frac{\\partial}{\\partial a_{x}}F\\left(a_{x}, n_{y}\\right) + \\frac{1}{720} \\, \\frac{\\partial^{3}}{(\\partial a_{x})^{3}}F\\left(a_{x}, n_{y}\\right)$"
      ],
      "text/plain": [
       "<IPython.core.display.Math object>"
      ]
     },
     "metadata": {},
     "output_type": "display_data"
    },
    {
     "name": "stdout",
     "output_type": "stream",
     "text": [
      "R_p_sum= -integrate(1/518400*(30*(n_y - floor(n_y))^4 - 60*(n_y - floor(n_y))^3 + 30*(n_y - floor(n_y))^2 - 1)*(diff(F(a_x, n_y), a_x, a_x, a_x, n_y, n_y, n_y, n_y) - 60*diff(F(a_x, n_y), a_x, n_y, n_y, n_y, n_y) + 360*diff(F(a_x, n_y), n_y, n_y, n_y, n_y)), n_y, a_y, b_y)\n"
     ]
    },
    {
     "data": {
      "text/latex": [
       "$\\displaystyle -\\int_{a_{y}}^{b_{y}} \\frac{1}{518400} \\, {\\left(30 \\, {\\left(n_{y} - \\left \\lfloor n_{y} \\right \\rfloor\\right)}^{4} - 60 \\, {\\left(n_{y} - \\left \\lfloor n_{y} \\right \\rfloor\\right)}^{3} + 30 \\, {\\left(n_{y} - \\left \\lfloor n_{y} \\right \\rfloor\\right)}^{2} - 1\\right)} {\\left(\\frac{\\partial^{7}}{(\\partial a_{x})^{3}(\\partial n_{y})^{4}}F\\left(a_{x}, n_{y}\\right) - 60 \\, \\frac{\\partial^{5}}{\\partial a_{x}(\\partial n_{y})^{4}}F\\left(a_{x}, n_{y}\\right) + 360 \\, \\frac{\\partial^{4}}{(\\partial n_{y})^{4}}F\\left(a_{x}, n_{y}\\right)\\right)}\\,{d n_{y}}$"
      ],
      "text/plain": [
       "<IPython.core.display.Math object>"
      ]
     },
     "metadata": {},
     "output_type": "display_data"
    }
   ],
   "source": [
    "try:\n",
    "    sum_F = sum_dfdx_bernoulis (F, n_x, a_x, b_x,p)\n",
    "    print(\"sum_F=\",sum_F)\n",
    "    display(Math(latex(sum_F)))\n",
    "\n",
    "    sum_F_diff_y_p = sum_F.diff(n_y,p)\n",
    "    #print(\"sum_F_diff_y_p=\",sum_F_diff_y_p)\n",
    "    #display(Math(latex(sum_F_diff_y_p)))\n",
    "\n",
    "    R_p_sum = euler_maclaurin_R_p(sum_F, n_y, a_y, b_y, p, f_diff_symb_p=sum_F_diff_y_p)\n",
    "    print(\"R_p_sum=\",R_p_sum)\n",
    "    display(Math(latex(R_p_sum)))\n",
    "\n",
    "except Exception as ex:\n",
    "    print(ex)"
   ]
  },
  {
   "cell_type": "raw",
   "metadata": {},
   "source": [
    "try:\n",
    "    use_int_R_p_j = False\n",
    "    # Sagemath 9.3 had bug diff of symbolic_sum\n",
    "    # https://trac.sagemath.org/ticket/32161\n",
    "\n",
    "    R_px = euler_maclaurin_R_p(F, n_x, a_x, b_x,p, f_diff_symb_p=F.diff(n_x,p))\n",
    "\n",
    "    if type(R_px) is tuple:\n",
    "        R_px = R_px[0]\n",
    "\n",
    "    print(\"R_px=\",R_px)\n",
    "    display(Math(latex(R_px)))\n",
    "\n",
    "    # https://trac.sagemath.org/ticket/32394\n",
    "    # Can't calculate derivative exception while sympifying of two arguments function derivative\n",
    "    R_px_diff_y_p = R_px.diff(n_y,p)\n",
    "    print(\"R_px_diff_y_p=\", R_px_diff_y_p)\n",
    "    #print(\"R_px_diff_y_p=$\", latex(R_px_diff_y_p),\"$\")\n",
    "    display(Math(latex(R_px_diff_y_p)))\n",
    "\n",
    "    #logging = True\n",
    "\n",
    "    R_p_R_p = euler_maclaurin_R_p(R_px, n_y, a_y, b_y, p, f_diff_symb_p=R_px_diff_y_p)\n",
    "\n",
    "    #logging = False\n",
    "\n",
    "    print(\"R_p_R_p=\",R_p_R_p)\n",
    "    #print(\"R_p_R_p=$\",latex(R_p_R_p),\"$\")\n",
    "    display(Math(latex(R_p_R_p)))\n",
    "\n",
    "except Exception as ex:\n",
    "    print(ex)"
   ]
  },
  {
   "cell_type": "code",
   "execution_count": 55,
   "metadata": {},
   "outputs": [
    {
     "name": "stdout",
     "output_type": "stream",
     "text": [
      "R_px= -integrate(1/720*(30*(n_x - floor(n_x))^4 - 60*(n_x - floor(n_x))^3 + 30*(n_x - floor(n_x))^2 - 1)*diff(F(n_x, n_y), n_x, n_x, n_x, n_x), n_x, a_x, b_x)\n"
     ]
    },
    {
     "data": {
      "text/latex": [
       "$\\displaystyle -\\int_{a_{x}}^{b_{x}} \\frac{1}{720} \\, {\\left(30 \\, {\\left(n_{x} - \\left \\lfloor n_{x} \\right \\rfloor\\right)}^{4} - 60 \\, {\\left(n_{x} - \\left \\lfloor n_{x} \\right \\rfloor\\right)}^{3} + 30 \\, {\\left(n_{x} - \\left \\lfloor n_{x} \\right \\rfloor\\right)}^{2} - 1\\right)} \\frac{\\partial^{4}}{(\\partial n_{x})^{4}}F\\left(n_{x}, n_{y}\\right)\\,{d n_{x}}$"
      ],
      "text/plain": [
       "<IPython.core.display.Math object>"
      ]
     },
     "metadata": {},
     "output_type": "display_data"
    },
    {
     "name": "stdout",
     "output_type": "stream",
     "text": [
      "R_p_R_p= -integrate(-1/518400*(30*(n_y - floor(n_y))^4 - 60*(n_y - floor(n_y))^3 + 30*(n_y - floor(n_y))^2 - 1)*(30*integrate(n_x^4*diff(F(n_x, n_y), n_x, n_x, n_x, n_x, n_y, n_y, n_y, n_y), n_x, a_x, b_x) - 120*integrate(n_x^3*floor(n_x)*diff(F(n_x, n_y), n_x, n_x, n_x, n_x, n_y, n_y, n_y, n_y), n_x, a_x, b_x) + 180*integrate(n_x^2*floor(n_x)^2*diff(F(n_x, n_y), n_x, n_x, n_x, n_x, n_y, n_y, n_y, n_y), n_x, a_x, b_x) - 120*integrate(n_x*floor(n_x)^3*diff(F(n_x, n_y), n_x, n_x, n_x, n_x, n_y, n_y, n_y, n_y), n_x, a_x, b_x) + 30*integrate(floor(n_x)^4*diff(F(n_x, n_y), n_x, n_x, n_x, n_x, n_y, n_y, n_y, n_y), n_x, a_x, b_x) - 60*integrate(n_x^3*diff(F(n_x, n_y), n_x, n_x, n_x, n_x, n_y, n_y, n_y, n_y), n_x, a_x, b_x) + 180*integrate(n_x^2*floor(n_x)*diff(F(n_x, n_y), n_x, n_x, n_x, n_x, n_y, n_y, n_y, n_y), n_x, a_x, b_x) - 180*integrate(n_x*floor(n_x)^2*diff(F(n_x, n_y), n_x, n_x, n_x, n_x, n_y, n_y, n_y, n_y), n_x, a_x, b_x) + 60*integrate(floor(n_x)^3*diff(F(n_x, n_y), n_x, n_x, n_x, n_x, n_y, n_y, n_y, n_y), n_x, a_x, b_x) + 30*integrate(n_x^2*diff(F(n_x, n_y), n_x, n_x, n_x, n_x, n_y, n_y, n_y, n_y), n_x, a_x, b_x) - 60*integrate(n_x*floor(n_x)*diff(F(n_x, n_y), n_x, n_x, n_x, n_x, n_y, n_y, n_y, n_y), n_x, a_x, b_x) + 30*integrate(floor(n_x)^2*diff(F(n_x, n_y), n_x, n_x, n_x, n_x, n_y, n_y, n_y, n_y), n_x, a_x, b_x) + diff(F(a_x, n_y), a_x, a_x, a_x, n_y, n_y, n_y, n_y) - diff(F(b_x, n_y), b_x, b_x, b_x, n_y, n_y, n_y, n_y)), n_y, a_y, b_y)\n"
     ]
    },
    {
     "data": {
      "text/latex": [
       "$\\displaystyle -\\int_{a_{y}}^{b_{y}} -\\frac{1}{518400} \\, {\\left(30 \\, {\\left(n_{y} - \\left \\lfloor n_{y} \\right \\rfloor\\right)}^{4} - 60 \\, {\\left(n_{y} - \\left \\lfloor n_{y} \\right \\rfloor\\right)}^{3} + 30 \\, {\\left(n_{y} - \\left \\lfloor n_{y} \\right \\rfloor\\right)}^{2} - 1\\right)} {\\left(30 \\, \\int_{a_{x}}^{b_{x}} n_{x}^{4} \\frac{\\partial^{8}}{(\\partial n_{x})^{4}(\\partial n_{y})^{4}}F\\left(n_{x}, n_{y}\\right)\\,{d n_{x}} - 120 \\, \\int_{a_{x}}^{b_{x}} n_{x}^{3} \\left \\lfloor n_{x} \\right \\rfloor \\frac{\\partial^{8}}{(\\partial n_{x})^{4}(\\partial n_{y})^{4}}F\\left(n_{x}, n_{y}\\right)\\,{d n_{x}} + 180 \\, \\int_{a_{x}}^{b_{x}} n_{x}^{2} \\left \\lfloor n_{x} \\right \\rfloor^{2} \\frac{\\partial^{8}}{(\\partial n_{x})^{4}(\\partial n_{y})^{4}}F\\left(n_{x}, n_{y}\\right)\\,{d n_{x}} - 120 \\, \\int_{a_{x}}^{b_{x}} n_{x} \\left \\lfloor n_{x} \\right \\rfloor^{3} \\frac{\\partial^{8}}{(\\partial n_{x})^{4}(\\partial n_{y})^{4}}F\\left(n_{x}, n_{y}\\right)\\,{d n_{x}} + 30 \\, \\int_{a_{x}}^{b_{x}} \\left \\lfloor n_{x} \\right \\rfloor^{4} \\frac{\\partial^{8}}{(\\partial n_{x})^{4}(\\partial n_{y})^{4}}F\\left(n_{x}, n_{y}\\right)\\,{d n_{x}} - 60 \\, \\int_{a_{x}}^{b_{x}} n_{x}^{3} \\frac{\\partial^{8}}{(\\partial n_{x})^{4}(\\partial n_{y})^{4}}F\\left(n_{x}, n_{y}\\right)\\,{d n_{x}} + 180 \\, \\int_{a_{x}}^{b_{x}} n_{x}^{2} \\left \\lfloor n_{x} \\right \\rfloor \\frac{\\partial^{8}}{(\\partial n_{x})^{4}(\\partial n_{y})^{4}}F\\left(n_{x}, n_{y}\\right)\\,{d n_{x}} - 180 \\, \\int_{a_{x}}^{b_{x}} n_{x} \\left \\lfloor n_{x} \\right \\rfloor^{2} \\frac{\\partial^{8}}{(\\partial n_{x})^{4}(\\partial n_{y})^{4}}F\\left(n_{x}, n_{y}\\right)\\,{d n_{x}} + 60 \\, \\int_{a_{x}}^{b_{x}} \\left \\lfloor n_{x} \\right \\rfloor^{3} \\frac{\\partial^{8}}{(\\partial n_{x})^{4}(\\partial n_{y})^{4}}F\\left(n_{x}, n_{y}\\right)\\,{d n_{x}} + 30 \\, \\int_{a_{x}}^{b_{x}} n_{x}^{2} \\frac{\\partial^{8}}{(\\partial n_{x})^{4}(\\partial n_{y})^{4}}F\\left(n_{x}, n_{y}\\right)\\,{d n_{x}} - 60 \\, \\int_{a_{x}}^{b_{x}} n_{x} \\left \\lfloor n_{x} \\right \\rfloor \\frac{\\partial^{8}}{(\\partial n_{x})^{4}(\\partial n_{y})^{4}}F\\left(n_{x}, n_{y}\\right)\\,{d n_{x}} + 30 \\, \\int_{a_{x}}^{b_{x}} \\left \\lfloor n_{x} \\right \\rfloor^{2} \\frac{\\partial^{8}}{(\\partial n_{x})^{4}(\\partial n_{y})^{4}}F\\left(n_{x}, n_{y}\\right)\\,{d n_{x}} + \\frac{\\partial^{7}}{(\\partial a_{x})^{3}(\\partial n_{y})^{4}}F\\left(a_{x}, n_{y}\\right) - \\frac{\\partial^{7}}{(\\partial b_{x})^{3}(\\partial n_{y})^{4}}F\\left(b_{x}, n_{y}\\right)\\right)}\\,{d n_{y}}$"
      ],
      "text/plain": [
       "<IPython.core.display.Math object>"
      ]
     },
     "metadata": {},
     "output_type": "display_data"
    }
   ],
   "source": [
    "try:\n",
    "    use_int_R_p_j = False\n",
    "        \n",
    "    R_px = euler_maclaurin_R_p(F, n_x, a_x, b_x,p, f_diff_symb_p=F.diff(n_x,p))\n",
    "    print(\"R_px=\",R_px)\n",
    "    display(Math(latex(R_px)))\n",
    "\n",
    "    R_px_diff_y_p = R_px.diff(n_y,p)\n",
    "    #print(\"R_px_diff_y_p=\", R_px_diff_y_p)\n",
    "    #display(Math(latex(R_px_diff_y_p)))\n",
    "\n",
    "    R_p_R_p = euler_maclaurin_R_p(R_px, n_y, a_y, b_y, p, f_diff_symb_p=R_px_diff_y_p)\n",
    "\n",
    "    print(\"R_p_R_p=\",R_p_R_p)\n",
    "    display(Math(latex(R_p_R_p)))\n",
    "\n",
    "except Exception as ex:\n",
    "    print(ex)"
   ]
  },
  {
   "cell_type": "code",
   "execution_count": 56,
   "metadata": {},
   "outputs": [
    {
     "name": "stdout",
     "output_type": "stream",
     "text": [
      "R_p_R_p= -integrate(-1/518400*(30*(n_y - floor(n_y))^4 - 60*(n_y - floor(n_y))^3 + 30*(n_y - floor(n_y))^2 - 1)*(30*integrate(n_x^4*diff(F(n_x, n_y), n_x, n_x, n_x, n_x, n_y, n_y, n_y, n_y), n_x, a_x, b_x) - 120*integrate(n_x^3*floor(n_x)*diff(F(n_x, n_y), n_x, n_x, n_x, n_x, n_y, n_y, n_y, n_y), n_x, a_x, b_x) + 180*integrate(n_x^2*floor(n_x)^2*diff(F(n_x, n_y), n_x, n_x, n_x, n_x, n_y, n_y, n_y, n_y), n_x, a_x, b_x) - 120*integrate(n_x*floor(n_x)^3*diff(F(n_x, n_y), n_x, n_x, n_x, n_x, n_y, n_y, n_y, n_y), n_x, a_x, b_x) + 30*integrate(floor(n_x)^4*diff(F(n_x, n_y), n_x, n_x, n_x, n_x, n_y, n_y, n_y, n_y), n_x, a_x, b_x) - 60*integrate(n_x^3*diff(F(n_x, n_y), n_x, n_x, n_x, n_x, n_y, n_y, n_y, n_y), n_x, a_x, b_x) + 180*integrate(n_x^2*floor(n_x)*diff(F(n_x, n_y), n_x, n_x, n_x, n_x, n_y, n_y, n_y, n_y), n_x, a_x, b_x) - 180*integrate(n_x*floor(n_x)^2*diff(F(n_x, n_y), n_x, n_x, n_x, n_x, n_y, n_y, n_y, n_y), n_x, a_x, b_x) + 60*integrate(floor(n_x)^3*diff(F(n_x, n_y), n_x, n_x, n_x, n_x, n_y, n_y, n_y, n_y), n_x, a_x, b_x) + 30*integrate(n_x^2*diff(F(n_x, n_y), n_x, n_x, n_x, n_x, n_y, n_y, n_y, n_y), n_x, a_x, b_x) - 60*integrate(n_x*floor(n_x)*diff(F(n_x, n_y), n_x, n_x, n_x, n_x, n_y, n_y, n_y, n_y), n_x, a_x, b_x) + 30*integrate(floor(n_x)^2*diff(F(n_x, n_y), n_x, n_x, n_x, n_x, n_y, n_y, n_y, n_y), n_x, a_x, b_x) + diff(F(a_x, n_y), a_x, a_x, a_x, n_y, n_y, n_y, n_y) - diff(F(b_x, n_y), b_x, b_x, b_x, n_y, n_y, n_y, n_y)), n_y, a_y, b_y)\n"
     ]
    },
    {
     "data": {
      "text/latex": [
       "$\\displaystyle -\\int_{a_{y}}^{b_{y}} -\\frac{1}{518400} \\, {\\left(30 \\, {\\left(n_{y} - \\left \\lfloor n_{y} \\right \\rfloor\\right)}^{4} - 60 \\, {\\left(n_{y} - \\left \\lfloor n_{y} \\right \\rfloor\\right)}^{3} + 30 \\, {\\left(n_{y} - \\left \\lfloor n_{y} \\right \\rfloor\\right)}^{2} - 1\\right)} {\\left(30 \\, \\int_{a_{x}}^{b_{x}} n_{x}^{4} \\frac{\\partial^{8}}{(\\partial n_{x})^{4}(\\partial n_{y})^{4}}F\\left(n_{x}, n_{y}\\right)\\,{d n_{x}} - 120 \\, \\int_{a_{x}}^{b_{x}} n_{x}^{3} \\left \\lfloor n_{x} \\right \\rfloor \\frac{\\partial^{8}}{(\\partial n_{x})^{4}(\\partial n_{y})^{4}}F\\left(n_{x}, n_{y}\\right)\\,{d n_{x}} + 180 \\, \\int_{a_{x}}^{b_{x}} n_{x}^{2} \\left \\lfloor n_{x} \\right \\rfloor^{2} \\frac{\\partial^{8}}{(\\partial n_{x})^{4}(\\partial n_{y})^{4}}F\\left(n_{x}, n_{y}\\right)\\,{d n_{x}} - 120 \\, \\int_{a_{x}}^{b_{x}} n_{x} \\left \\lfloor n_{x} \\right \\rfloor^{3} \\frac{\\partial^{8}}{(\\partial n_{x})^{4}(\\partial n_{y})^{4}}F\\left(n_{x}, n_{y}\\right)\\,{d n_{x}} + 30 \\, \\int_{a_{x}}^{b_{x}} \\left \\lfloor n_{x} \\right \\rfloor^{4} \\frac{\\partial^{8}}{(\\partial n_{x})^{4}(\\partial n_{y})^{4}}F\\left(n_{x}, n_{y}\\right)\\,{d n_{x}} - 60 \\, \\int_{a_{x}}^{b_{x}} n_{x}^{3} \\frac{\\partial^{8}}{(\\partial n_{x})^{4}(\\partial n_{y})^{4}}F\\left(n_{x}, n_{y}\\right)\\,{d n_{x}} + 180 \\, \\int_{a_{x}}^{b_{x}} n_{x}^{2} \\left \\lfloor n_{x} \\right \\rfloor \\frac{\\partial^{8}}{(\\partial n_{x})^{4}(\\partial n_{y})^{4}}F\\left(n_{x}, n_{y}\\right)\\,{d n_{x}} - 180 \\, \\int_{a_{x}}^{b_{x}} n_{x} \\left \\lfloor n_{x} \\right \\rfloor^{2} \\frac{\\partial^{8}}{(\\partial n_{x})^{4}(\\partial n_{y})^{4}}F\\left(n_{x}, n_{y}\\right)\\,{d n_{x}} + 60 \\, \\int_{a_{x}}^{b_{x}} \\left \\lfloor n_{x} \\right \\rfloor^{3} \\frac{\\partial^{8}}{(\\partial n_{x})^{4}(\\partial n_{y})^{4}}F\\left(n_{x}, n_{y}\\right)\\,{d n_{x}} + 30 \\, \\int_{a_{x}}^{b_{x}} n_{x}^{2} \\frac{\\partial^{8}}{(\\partial n_{x})^{4}(\\partial n_{y})^{4}}F\\left(n_{x}, n_{y}\\right)\\,{d n_{x}} - 60 \\, \\int_{a_{x}}^{b_{x}} n_{x} \\left \\lfloor n_{x} \\right \\rfloor \\frac{\\partial^{8}}{(\\partial n_{x})^{4}(\\partial n_{y})^{4}}F\\left(n_{x}, n_{y}\\right)\\,{d n_{x}} + 30 \\, \\int_{a_{x}}^{b_{x}} \\left \\lfloor n_{x} \\right \\rfloor^{2} \\frac{\\partial^{8}}{(\\partial n_{x})^{4}(\\partial n_{y})^{4}}F\\left(n_{x}, n_{y}\\right)\\,{d n_{x}} + \\frac{\\partial^{7}}{(\\partial a_{x})^{3}(\\partial n_{y})^{4}}F\\left(a_{x}, n_{y}\\right) - \\frac{\\partial^{7}}{(\\partial b_{x})^{3}(\\partial n_{y})^{4}}F\\left(b_{x}, n_{y}\\right)\\right)}\\,{d n_{y}}$"
      ],
      "text/plain": [
       "<IPython.core.display.Math object>"
      ]
     },
     "metadata": {},
     "output_type": "display_data"
    }
   ],
   "source": [
    "try:\n",
    "    R_p_R_p = euler_maclaurin_R_p_euler_maclaurin_R_p(F, n_x, a_x, b_x,    n_y, a_y, b_y, p, f_diff_x_p_diff_y_p=None)\n",
    "\n",
    "    print(\"R_p_R_p=\",R_p_R_p)\n",
    "    display(Math(latex(R_p_R_p)))\n",
    "except Exception as ex:\n",
    "    print(ex)"
   ]
  },
  {
   "cell_type": "code",
   "execution_count": 57,
   "metadata": {},
   "outputs": [],
   "source": [
    "use_int_R_p_j=False\n",
    "sxy_symb = euler_maclaurin1(euler_maclaurin1(F,n_x,a_x,b_x,p,f_diff_symb_p=None), \\\n",
    "                            n_y,a_y,b_y,p,f_diff_symb_p=None)"
   ]
  },
  {
   "cell_type": "raw",
   "metadata": {},
   "source": [
    "latex(sxy_symb)"
   ]
  },
  {
   "cell_type": "code",
   "execution_count": 58,
   "metadata": {},
   "outputs": [
    {
     "data": {
      "text/latex": [
       "$\\displaystyle \\frac{1}{4} \\, F\\left(a_{x}, a_{y}\\right) - \\frac{1}{1440} \\, \\int_{a_{x}}^{b_{x}} 30 \\, n_{x}^{4} \\frac{\\partial^{4}}{(\\partial n_{x})^{4}}F\\left(n_{x}, a_{y}\\right)\\,{d n_{x}} - \\frac{1}{1440} \\, \\int_{a_{x}}^{b_{x}} -120 \\, n_{x}^{3} \\left \\lfloor n_{x} \\right \\rfloor \\frac{\\partial^{4}}{(\\partial n_{x})^{4}}F\\left(n_{x}, a_{y}\\right)\\,{d n_{x}} - \\frac{1}{1440} \\, \\int_{a_{x}}^{b_{x}} 180 \\, n_{x}^{2} \\left \\lfloor n_{x} \\right \\rfloor^{2} \\frac{\\partial^{4}}{(\\partial n_{x})^{4}}F\\left(n_{x}, a_{y}\\right)\\,{d n_{x}} - \\frac{1}{1440} \\, \\int_{a_{x}}^{b_{x}} -120 \\, n_{x} \\left \\lfloor n_{x} \\right \\rfloor^{3} \\frac{\\partial^{4}}{(\\partial n_{x})^{4}}F\\left(n_{x}, a_{y}\\right)\\,{d n_{x}} - \\frac{1}{1440} \\, \\int_{a_{x}}^{b_{x}} 30 \\, \\left \\lfloor n_{x} \\right \\rfloor^{4} \\frac{\\partial^{4}}{(\\partial n_{x})^{4}}F\\left(n_{x}, a_{y}\\right)\\,{d n_{x}} + \\frac{1}{288} \\, \\int_{a_{x}}^{b_{x}} n_{x}^{4} \\frac{\\partial^{5}}{(\\partial n_{x})^{4}\\partial a_{y}}F\\left(n_{x}, a_{y}\\right)\\,{d n_{x}} - \\frac{1}{72} \\, \\int_{a_{x}}^{b_{x}} n_{x}^{3} \\left \\lfloor n_{x} \\right \\rfloor \\frac{\\partial^{5}}{(\\partial n_{x})^{4}\\partial a_{y}}F\\left(n_{x}, a_{y}\\right)\\,{d n_{x}} + \\frac{1}{48} \\, \\int_{a_{x}}^{b_{x}} n_{x}^{2} \\left \\lfloor n_{x} \\right \\rfloor^{2} \\frac{\\partial^{5}}{(\\partial n_{x})^{4}\\partial a_{y}}F\\left(n_{x}, a_{y}\\right)\\,{d n_{x}} - \\frac{1}{72} \\, \\int_{a_{x}}^{b_{x}} n_{x} \\left \\lfloor n_{x} \\right \\rfloor^{3} \\frac{\\partial^{5}}{(\\partial n_{x})^{4}\\partial a_{y}}F\\left(n_{x}, a_{y}\\right)\\,{d n_{x}} + \\frac{1}{288} \\, \\int_{a_{x}}^{b_{x}} \\left \\lfloor n_{x} \\right \\rfloor^{4} \\frac{\\partial^{5}}{(\\partial n_{x})^{4}\\partial a_{y}}F\\left(n_{x}, a_{y}\\right)\\,{d n_{x}} - \\frac{1}{17280} \\, \\int_{a_{x}}^{b_{x}} n_{x}^{4} \\frac{\\partial^{7}}{(\\partial n_{x})^{4}(\\partial a_{y})^{3}}F\\left(n_{x}, a_{y}\\right)\\,{d n_{x}} + \\frac{1}{4320} \\, \\int_{a_{x}}^{b_{x}} n_{x}^{3} \\left \\lfloor n_{x} \\right \\rfloor \\frac{\\partial^{7}}{(\\partial n_{x})^{4}(\\partial a_{y})^{3}}F\\left(n_{x}, a_{y}\\right)\\,{d n_{x}} - \\frac{1}{2880} \\, \\int_{a_{x}}^{b_{x}} n_{x}^{2} \\left \\lfloor n_{x} \\right \\rfloor^{2} \\frac{\\partial^{7}}{(\\partial n_{x})^{4}(\\partial a_{y})^{3}}F\\left(n_{x}, a_{y}\\right)\\,{d n_{x}} + \\frac{1}{4320} \\, \\int_{a_{x}}^{b_{x}} n_{x} \\left \\lfloor n_{x} \\right \\rfloor^{3} \\frac{\\partial^{7}}{(\\partial n_{x})^{4}(\\partial a_{y})^{3}}F\\left(n_{x}, a_{y}\\right)\\,{d n_{x}} - \\frac{1}{17280} \\, \\int_{a_{x}}^{b_{x}} \\left \\lfloor n_{x} \\right \\rfloor^{4} \\frac{\\partial^{7}}{(\\partial n_{x})^{4}(\\partial a_{y})^{3}}F\\left(n_{x}, a_{y}\\right)\\,{d n_{x}} - \\frac{1}{1440} \\, \\int_{a_{x}}^{b_{x}} -60 \\, n_{x}^{3} \\frac{\\partial^{4}}{(\\partial n_{x})^{4}}F\\left(n_{x}, a_{y}\\right)\\,{d n_{x}} - \\frac{1}{1440} \\, \\int_{a_{x}}^{b_{x}} 180 \\, n_{x}^{2} \\left \\lfloor n_{x} \\right \\rfloor \\frac{\\partial^{4}}{(\\partial n_{x})^{4}}F\\left(n_{x}, a_{y}\\right)\\,{d n_{x}} - \\frac{1}{1440} \\, \\int_{a_{x}}^{b_{x}} -180 \\, n_{x} \\left \\lfloor n_{x} \\right \\rfloor^{2} \\frac{\\partial^{4}}{(\\partial n_{x})^{4}}F\\left(n_{x}, a_{y}\\right)\\,{d n_{x}} - \\frac{1}{1440} \\, \\int_{a_{x}}^{b_{x}} 60 \\, \\left \\lfloor n_{x} \\right \\rfloor^{3} \\frac{\\partial^{4}}{(\\partial n_{x})^{4}}F\\left(n_{x}, a_{y}\\right)\\,{d n_{x}} - \\frac{1}{144} \\, \\int_{a_{x}}^{b_{x}} n_{x}^{3} \\frac{\\partial^{5}}{(\\partial n_{x})^{4}\\partial a_{y}}F\\left(n_{x}, a_{y}\\right)\\,{d n_{x}} + \\frac{1}{48} \\, \\int_{a_{x}}^{b_{x}} n_{x}^{2} \\left \\lfloor n_{x} \\right \\rfloor \\frac{\\partial^{5}}{(\\partial n_{x})^{4}\\partial a_{y}}F\\left(n_{x}, a_{y}\\right)\\,{d n_{x}} - \\frac{1}{48} \\, \\int_{a_{x}}^{b_{x}} n_{x} \\left \\lfloor n_{x} \\right \\rfloor^{2} \\frac{\\partial^{5}}{(\\partial n_{x})^{4}\\partial a_{y}}F\\left(n_{x}, a_{y}\\right)\\,{d n_{x}} + \\frac{1}{144} \\, \\int_{a_{x}}^{b_{x}} \\left \\lfloor n_{x} \\right \\rfloor^{3} \\frac{\\partial^{5}}{(\\partial n_{x})^{4}\\partial a_{y}}F\\left(n_{x}, a_{y}\\right)\\,{d n_{x}} + \\frac{1}{8640} \\, \\int_{a_{x}}^{b_{x}} n_{x}^{3} \\frac{\\partial^{7}}{(\\partial n_{x})^{4}(\\partial a_{y})^{3}}F\\left(n_{x}, a_{y}\\right)\\,{d n_{x}} - \\frac{1}{2880} \\, \\int_{a_{x}}^{b_{x}} n_{x}^{2} \\left \\lfloor n_{x} \\right \\rfloor \\frac{\\partial^{7}}{(\\partial n_{x})^{4}(\\partial a_{y})^{3}}F\\left(n_{x}, a_{y}\\right)\\,{d n_{x}} + \\frac{1}{2880} \\, \\int_{a_{x}}^{b_{x}} n_{x} \\left \\lfloor n_{x} \\right \\rfloor^{2} \\frac{\\partial^{7}}{(\\partial n_{x})^{4}(\\partial a_{y})^{3}}F\\left(n_{x}, a_{y}\\right)\\,{d n_{x}} - \\frac{1}{8640} \\, \\int_{a_{x}}^{b_{x}} \\left \\lfloor n_{x} \\right \\rfloor^{3} \\frac{\\partial^{7}}{(\\partial n_{x})^{4}(\\partial a_{y})^{3}}F\\left(n_{x}, a_{y}\\right)\\,{d n_{x}} - \\frac{1}{1440} \\, \\int_{a_{x}}^{b_{x}} 30 \\, n_{x}^{2} \\frac{\\partial^{4}}{(\\partial n_{x})^{4}}F\\left(n_{x}, a_{y}\\right)\\,{d n_{x}} - \\frac{1}{1440} \\, \\int_{a_{x}}^{b_{x}} -60 \\, n_{x} \\left \\lfloor n_{x} \\right \\rfloor \\frac{\\partial^{4}}{(\\partial n_{x})^{4}}F\\left(n_{x}, a_{y}\\right)\\,{d n_{x}} - \\frac{1}{1440} \\, \\int_{a_{x}}^{b_{x}} 30 \\, \\left \\lfloor n_{x} \\right \\rfloor^{2} \\frac{\\partial^{4}}{(\\partial n_{x})^{4}}F\\left(n_{x}, a_{y}\\right)\\,{d n_{x}} + \\frac{1}{288} \\, \\int_{a_{x}}^{b_{x}} n_{x}^{2} \\frac{\\partial^{5}}{(\\partial n_{x})^{4}\\partial a_{y}}F\\left(n_{x}, a_{y}\\right)\\,{d n_{x}} - \\frac{1}{144} \\, \\int_{a_{x}}^{b_{x}} n_{x} \\left \\lfloor n_{x} \\right \\rfloor \\frac{\\partial^{5}}{(\\partial n_{x})^{4}\\partial a_{y}}F\\left(n_{x}, a_{y}\\right)\\,{d n_{x}} + \\frac{1}{288} \\, \\int_{a_{x}}^{b_{x}} \\left \\lfloor n_{x} \\right \\rfloor^{2} \\frac{\\partial^{5}}{(\\partial n_{x})^{4}\\partial a_{y}}F\\left(n_{x}, a_{y}\\right)\\,{d n_{x}} - \\frac{1}{17280} \\, \\int_{a_{x}}^{b_{x}} n_{x}^{2} \\frac{\\partial^{7}}{(\\partial n_{x})^{4}(\\partial a_{y})^{3}}F\\left(n_{x}, a_{y}\\right)\\,{d n_{x}} + \\frac{1}{8640} \\, \\int_{a_{x}}^{b_{x}} n_{x} \\left \\lfloor n_{x} \\right \\rfloor \\frac{\\partial^{7}}{(\\partial n_{x})^{4}(\\partial a_{y})^{3}}F\\left(n_{x}, a_{y}\\right)\\,{d n_{x}} - \\frac{1}{17280} \\, \\int_{a_{x}}^{b_{x}} \\left \\lfloor n_{x} \\right \\rfloor^{2} \\frac{\\partial^{7}}{(\\partial n_{x})^{4}(\\partial a_{y})^{3}}F\\left(n_{x}, a_{y}\\right)\\,{d n_{x}} - \\int_{a_{y}}^{b_{y}} -\\frac{1}{518400} \\, {\\left(30 \\, {\\left(n_{y} - \\left \\lfloor n_{y} \\right \\rfloor\\right)}^{4} - 60 \\, {\\left(n_{y} - \\left \\lfloor n_{y} \\right \\rfloor\\right)}^{3} + 30 \\, {\\left(n_{y} - \\left \\lfloor n_{y} \\right \\rfloor\\right)}^{2} - 1\\right)} {\\left(30 \\, \\int_{a_{x}}^{b_{x}} n_{x}^{4} \\frac{\\partial^{8}}{(\\partial n_{x})^{4}(\\partial n_{y})^{4}}F\\left(n_{x}, n_{y}\\right)\\,{d n_{x}} - 120 \\, \\int_{a_{x}}^{b_{x}} n_{x}^{3} \\left \\lfloor n_{x} \\right \\rfloor \\frac{\\partial^{8}}{(\\partial n_{x})^{4}(\\partial n_{y})^{4}}F\\left(n_{x}, n_{y}\\right)\\,{d n_{x}} + 180 \\, \\int_{a_{x}}^{b_{x}} n_{x}^{2} \\left \\lfloor n_{x} \\right \\rfloor^{2} \\frac{\\partial^{8}}{(\\partial n_{x})^{4}(\\partial n_{y})^{4}}F\\left(n_{x}, n_{y}\\right)\\,{d n_{x}} - 120 \\, \\int_{a_{x}}^{b_{x}} n_{x} \\left \\lfloor n_{x} \\right \\rfloor^{3} \\frac{\\partial^{8}}{(\\partial n_{x})^{4}(\\partial n_{y})^{4}}F\\left(n_{x}, n_{y}\\right)\\,{d n_{x}} + 30 \\, \\int_{a_{x}}^{b_{x}} \\left \\lfloor n_{x} \\right \\rfloor^{4} \\frac{\\partial^{8}}{(\\partial n_{x})^{4}(\\partial n_{y})^{4}}F\\left(n_{x}, n_{y}\\right)\\,{d n_{x}} - 60 \\, \\int_{a_{x}}^{b_{x}} n_{x}^{3} \\frac{\\partial^{8}}{(\\partial n_{x})^{4}(\\partial n_{y})^{4}}F\\left(n_{x}, n_{y}\\right)\\,{d n_{x}} + 180 \\, \\int_{a_{x}}^{b_{x}} n_{x}^{2} \\left \\lfloor n_{x} \\right \\rfloor \\frac{\\partial^{8}}{(\\partial n_{x})^{4}(\\partial n_{y})^{4}}F\\left(n_{x}, n_{y}\\right)\\,{d n_{x}} - 180 \\, \\int_{a_{x}}^{b_{x}} n_{x} \\left \\lfloor n_{x} \\right \\rfloor^{2} \\frac{\\partial^{8}}{(\\partial n_{x})^{4}(\\partial n_{y})^{4}}F\\left(n_{x}, n_{y}\\right)\\,{d n_{x}} + 60 \\, \\int_{a_{x}}^{b_{x}} \\left \\lfloor n_{x} \\right \\rfloor^{3} \\frac{\\partial^{8}}{(\\partial n_{x})^{4}(\\partial n_{y})^{4}}F\\left(n_{x}, n_{y}\\right)\\,{d n_{x}} + 30 \\, \\int_{a_{x}}^{b_{x}} n_{x}^{2} \\frac{\\partial^{8}}{(\\partial n_{x})^{4}(\\partial n_{y})^{4}}F\\left(n_{x}, n_{y}\\right)\\,{d n_{x}} - 60 \\, \\int_{a_{x}}^{b_{x}} n_{x} \\left \\lfloor n_{x} \\right \\rfloor \\frac{\\partial^{8}}{(\\partial n_{x})^{4}(\\partial n_{y})^{4}}F\\left(n_{x}, n_{y}\\right)\\,{d n_{x}} + 30 \\, \\int_{a_{x}}^{b_{x}} \\left \\lfloor n_{x} \\right \\rfloor^{2} \\frac{\\partial^{8}}{(\\partial n_{x})^{4}(\\partial n_{y})^{4}}F\\left(n_{x}, n_{y}\\right)\\,{d n_{x}} - 720 \\, \\int_{a_{x}}^{b_{x}} \\frac{\\partial^{4}}{(\\partial n_{y})^{4}}F\\left(n_{x}, n_{y}\\right)\\,{d n_{x}} + 60 \\, \\frac{\\partial^{5}}{\\partial a_{x}(\\partial n_{y})^{4}}F\\left(a_{x}, n_{y}\\right) - 360 \\, \\frac{\\partial^{4}}{(\\partial n_{y})^{4}}F\\left(a_{x}, n_{y}\\right) - \\frac{\\partial^{7}}{(\\partial b_{x})^{3}(\\partial n_{y})^{4}}F\\left(b_{x}, n_{y}\\right)\\right)}\\,{d n_{y}} + \\frac{1}{720} \\, \\int_{a_{y}}^{b_{y}} 360 \\, F\\left(a_{x}, n_{y}\\right)\\,{d n_{y}} + \\frac{1}{720} \\, \\int_{a_{y}}^{b_{y}} -720 \\, \\int_{a_{x}}^{b_{x}} \\frac{1}{24} \\, n_{x}^{4} \\frac{\\partial^{4}}{(\\partial n_{x})^{4}}F\\left(n_{x}, n_{y}\\right)\\,{d n_{x}}\\,{d n_{y}} + \\frac{1}{720} \\, \\int_{a_{y}}^{b_{y}} -720 \\, \\int_{a_{x}}^{b_{x}} -\\frac{1}{6} \\, n_{x}^{3} \\left \\lfloor n_{x} \\right \\rfloor \\frac{\\partial^{4}}{(\\partial n_{x})^{4}}F\\left(n_{x}, n_{y}\\right)\\,{d n_{x}}\\,{d n_{y}} + \\frac{1}{720} \\, \\int_{a_{y}}^{b_{y}} -720 \\, \\int_{a_{x}}^{b_{x}} \\frac{1}{4} \\, n_{x}^{2} \\left \\lfloor n_{x} \\right \\rfloor^{2} \\frac{\\partial^{4}}{(\\partial n_{x})^{4}}F\\left(n_{x}, n_{y}\\right)\\,{d n_{x}}\\,{d n_{y}} + \\frac{1}{720} \\, \\int_{a_{y}}^{b_{y}} -720 \\, \\int_{a_{x}}^{b_{x}} -\\frac{1}{6} \\, n_{x} \\left \\lfloor n_{x} \\right \\rfloor^{3} \\frac{\\partial^{4}}{(\\partial n_{x})^{4}}F\\left(n_{x}, n_{y}\\right)\\,{d n_{x}}\\,{d n_{y}} + \\frac{1}{720} \\, \\int_{a_{y}}^{b_{y}} -720 \\, \\int_{a_{x}}^{b_{x}} \\frac{1}{24} \\, \\left \\lfloor n_{x} \\right \\rfloor^{4} \\frac{\\partial^{4}}{(\\partial n_{x})^{4}}F\\left(n_{x}, n_{y}\\right)\\,{d n_{x}}\\,{d n_{y}} + \\frac{1}{720} \\, \\int_{a_{y}}^{b_{y}} -720 \\, \\int_{a_{x}}^{b_{x}} -\\frac{1}{12} \\, n_{x}^{3} \\frac{\\partial^{4}}{(\\partial n_{x})^{4}}F\\left(n_{x}, n_{y}\\right)\\,{d n_{x}}\\,{d n_{y}} + \\frac{1}{720} \\, \\int_{a_{y}}^{b_{y}} -720 \\, \\int_{a_{x}}^{b_{x}} \\frac{1}{4} \\, n_{x}^{2} \\left \\lfloor n_{x} \\right \\rfloor \\frac{\\partial^{4}}{(\\partial n_{x})^{4}}F\\left(n_{x}, n_{y}\\right)\\,{d n_{x}}\\,{d n_{y}} + \\frac{1}{720} \\, \\int_{a_{y}}^{b_{y}} -720 \\, \\int_{a_{x}}^{b_{x}} -\\frac{1}{4} \\, n_{x} \\left \\lfloor n_{x} \\right \\rfloor^{2} \\frac{\\partial^{4}}{(\\partial n_{x})^{4}}F\\left(n_{x}, n_{y}\\right)\\,{d n_{x}}\\,{d n_{y}} + \\frac{1}{720} \\, \\int_{a_{y}}^{b_{y}} -720 \\, \\int_{a_{x}}^{b_{x}} \\frac{1}{12} \\, \\left \\lfloor n_{x} \\right \\rfloor^{3} \\frac{\\partial^{4}}{(\\partial n_{x})^{4}}F\\left(n_{x}, n_{y}\\right)\\,{d n_{x}}\\,{d n_{y}} + \\frac{1}{720} \\, \\int_{a_{y}}^{b_{y}} -720 \\, \\int_{a_{x}}^{b_{x}} \\frac{1}{24} \\, n_{x}^{2} \\frac{\\partial^{4}}{(\\partial n_{x})^{4}}F\\left(n_{x}, n_{y}\\right)\\,{d n_{x}}\\,{d n_{y}} + \\frac{1}{720} \\, \\int_{a_{y}}^{b_{y}} -720 \\, \\int_{a_{x}}^{b_{x}} -\\frac{1}{12} \\, n_{x} \\left \\lfloor n_{x} \\right \\rfloor \\frac{\\partial^{4}}{(\\partial n_{x})^{4}}F\\left(n_{x}, n_{y}\\right)\\,{d n_{x}}\\,{d n_{y}} + \\frac{1}{720} \\, \\int_{a_{y}}^{b_{y}} -720 \\, \\int_{a_{x}}^{b_{x}} \\frac{1}{24} \\, \\left \\lfloor n_{x} \\right \\rfloor^{2} \\frac{\\partial^{4}}{(\\partial n_{x})^{4}}F\\left(n_{x}, n_{y}\\right)\\,{d n_{x}}\\,{d n_{y}} + \\frac{1}{720} \\, \\int_{a_{y}}^{b_{y}} -720 \\, \\int_{a_{x}}^{b_{x}} -\\frac{1}{720} \\, \\frac{\\partial^{4}}{(\\partial n_{x})^{4}}F\\left(n_{x}, n_{y}\\right)\\,{d n_{x}}\\,{d n_{y}} + \\frac{1}{720} \\, \\int_{a_{y}}^{b_{y}} 720 \\, \\int_{a_{x}}^{b_{x}} F\\left(n_{x}, n_{y}\\right)\\,{d n_{x}}\\,{d n_{y}} + \\frac{1}{720} \\, \\int_{a_{y}}^{b_{y}} -60 \\, \\frac{\\partial}{\\partial a_{x}}F\\left(a_{x}, n_{y}\\right)\\,{d n_{y}} - \\frac{1}{1440} \\, \\int_{a_{x}}^{b_{x}} -\\frac{\\partial^{4}}{(\\partial n_{x})^{4}}F\\left(n_{x}, a_{y}\\right)\\,{d n_{x}} + \\frac{1}{2} \\, \\int_{a_{x}}^{b_{x}} F\\left(n_{x}, a_{y}\\right)\\,{d n_{x}} + \\frac{1}{720} \\, \\int_{a_{y}}^{b_{y}} \\frac{\\partial^{3}}{(\\partial a_{x})^{3}}F\\left(a_{x}, n_{y}\\right)\\,{d n_{y}} - \\frac{1}{12} \\, \\int_{a_{x}}^{b_{x}} \\frac{\\partial}{\\partial a_{y}}F\\left(n_{x}, a_{y}\\right)\\,{d n_{x}} + \\frac{1}{720} \\, \\int_{a_{x}}^{b_{x}} \\frac{\\partial^{3}}{(\\partial a_{y})^{3}}F\\left(n_{x}, a_{y}\\right)\\,{d n_{x}} - \\frac{1}{24} \\, \\frac{\\partial}{\\partial a_{x}}F\\left(a_{x}, a_{y}\\right) + \\frac{1}{1440} \\, \\frac{\\partial^{3}}{(\\partial a_{x})^{3}}F\\left(a_{x}, a_{y}\\right) + \\frac{1}{144} \\, \\frac{\\partial^{2}}{\\partial a_{x}\\partial a_{y}}F\\left(a_{x}, a_{y}\\right) - \\frac{1}{8640} \\, \\frac{\\partial^{4}}{\\partial a_{x}(\\partial a_{y})^{3}}F\\left(a_{x}, a_{y}\\right) - \\frac{1}{24} \\, \\frac{\\partial}{\\partial a_{y}}F\\left(a_{x}, a_{y}\\right) + \\frac{1}{1440} \\, \\frac{\\partial^{3}}{(\\partial a_{y})^{3}}F\\left(a_{x}, a_{y}\\right) - \\frac{1}{8640} \\, \\frac{\\partial^{4}}{(\\partial b_{x})^{3}\\partial a_{y}}F\\left(b_{x}, a_{y}\\right) + \\frac{1}{518400} \\, \\frac{\\partial^{6}}{(\\partial b_{x})^{3}(\\partial a_{y})^{3}}F\\left(b_{x}, a_{y}\\right)$"
      ],
      "text/plain": [
       "<IPython.core.display.Math object>"
      ]
     },
     "metadata": {},
     "output_type": "display_data"
    }
   ],
   "source": [
    "display(Math(latex(sxy_symb)))"
   ]
  },
  {
   "cell_type": "raw",
   "metadata": {},
   "source": [
    "try:\n",
    "    use_int_R_p_j=False\n",
    "    sxy_symb = euler_maclaurin1(euler_maclaurin1(Fu(u, n_x, n_y, a, k_m),n_x,a_x,b_x,p,f_diff_symb_p=None), \\\n",
    "                                n_y,a_y,b_y,p,f_diff_symb_p=None)\n",
    "except Exception as ex:\n",
    "    print(ex)"
   ]
  },
  {
   "cell_type": "raw",
   "metadata": {},
   "source": [
    "use_int_R_p_j=False\n",
    "sxy_symb = euler_maclaurin1(euler_maclaurin1(Fn(u, n_x, n_y, a, k_m),n_x,a_x,b_x,p,f_diff_symb_p=None), \\\n",
    "                            n_y,a_y,b_y,p,f_diff_symb_p=None)"
   ]
  },
  {
   "cell_type": "markdown",
   "metadata": {},
   "source": [
    "# Summary Euler–Maclaurin 2D "
   ]
  },
  {
   "cell_type": "code",
   "execution_count": 59,
   "metadata": {},
   "outputs": [
    {
     "data": {
      "text/plain": [
       "2*integrate(1/2*sqrt(n_y^2 + u^2)*f(pi*sqrt(n_y^2 + u^2)/(a*k_m)), n_y, 0, +Infinity)"
      ]
     },
     "execution_count": 59,
     "metadata": {},
     "output_type": "execute_result"
    }
   ],
   "source": [
    "2 * int_sum_Fu(u, a, k_m) #, int_R_p"
   ]
  },
  {
   "cell_type": "code",
   "execution_count": 60,
   "metadata": {},
   "outputs": [
    {
     "data": {
      "text/plain": [
       "2*integrate(1/2*sqrt(n_y^2 + u^2)/(pi^4*(n_y^2 + u^2)^2/(a^4*k_m^4) + 1), n_y, 0, +Infinity)"
      ]
     },
     "execution_count": 60,
     "metadata": {},
     "output_type": "execute_result"
    }
   ],
   "source": [
    "2 * int_sum_Fn(u, a, k_m) #, int_R_p"
   ]
  },
  {
   "cell_type": "code",
   "execution_count": 61,
   "metadata": {},
   "outputs": [],
   "source": [
    "#sum_int, sum_sum #, sum_R_p"
   ]
  },
  {
   "cell_type": "code",
   "execution_count": 62,
   "metadata": {},
   "outputs": [
    {
     "data": {
      "text/plain": [
       "1/4*sqrt(u^2)*f(pi*sqrt(u^2)/(a*k_m))"
      ]
     },
     "execution_count": 62,
     "metadata": {},
     "output_type": "execute_result"
    }
   ],
   "source": [
    "sum_sum_Fu(u, a, k_m) #, sum_R_p"
   ]
  },
  {
   "cell_type": "code",
   "execution_count": 63,
   "metadata": {},
   "outputs": [
    {
     "data": {
      "text/plain": [
       "1/4*sqrt(u^2)/(pi^4*u^4/(a^4*k_m^4) + 1)"
      ]
     },
     "execution_count": 63,
     "metadata": {},
     "output_type": "execute_result"
    }
   ],
   "source": [
    "sum_sum_Fn(u, a, k_m) #, sum_R_p"
   ]
  },
  {
   "cell_type": "code",
   "execution_count": 64,
   "metadata": {},
   "outputs": [],
   "source": [
    "#R_p_int, R_p_sum, R_p_R_p"
   ]
  },
  {
   "cell_type": "code",
   "execution_count": null,
   "metadata": {},
   "outputs": [],
   "source": []
  },
  {
   "cell_type": "markdown",
   "metadata": {},
   "source": [
    "Numerical Euler–Maclaurin 2D for\n",
    "\n",
    "\\begin{equation}\n",
    "\\sum\\limits_{n_x=0}^{\\infty}\n",
    "\\sum\\limits_{n_y=0}^{\\infty}\n",
    "F\\left(n_x, n_y\\right)\n",
    "-\n",
    "\\int\\limits_{0}^{\\infty}\n",
    "\\int\\limits_{0}^{\\infty}\n",
    "F\\left(n_x, n_y\\right)\\,d{n_x}\\,d{n_y}\n",
    "\\end{equation}"
   ]
  },
  {
   "cell_type": "code",
   "execution_count": 65,
   "metadata": {},
   "outputs": [
    {
     "name": "stdout",
     "output_type": "stream",
     "text": [
      "unable to simplify to float approximation\n",
      "unable to simplify to float approximation\n",
      "unable to simplify to float approximation\n",
      "unable to simplify to float approximation\n",
      "unable to simplify to float approximation\n",
      "unable to simplify to float approximation\n",
      "unable to simplify to float approximation\n",
      "unable to simplify to float approximation\n",
      "unable to simplify to float approximation\n",
      "unable to simplify to float approximation\n",
      "unable to simplify to float approximation\n",
      "unable to simplify to float approximation\n",
      "unable to simplify to float approximation\n",
      "unable to simplify to float approximation\n",
      "unable to simplify to float approximation\n"
     ]
    },
    {
     "data": {
      "text/plain": [
       "integrate(1/4*sqrt(u^2)*f(pi*sqrt(u^2)) + 2*integrate(1/2*sqrt(n_y^2 + u^2)*f(pi*sqrt(n_y^2 + u^2)), n_y, 0, +Infinity), u, 0, +Infinity)"
      ]
     },
     "execution_count": 65,
     "metadata": {},
     "output_type": "execute_result"
    }
   ],
   "source": [
    "sum_sum_F_minus_int_int_Fu_1 = num_int(lambda u : 2 * int_sum_Fu (u, a = 1, k_m = 1) + sum_sum_Fu (u, a = 1, k_m = 1), 0, Infinity, v=u)\n",
    "sum_sum_F_minus_int_int_Fu_1"
   ]
  },
  {
   "cell_type": "code",
   "execution_count": 66,
   "metadata": {},
   "outputs": [
    {
     "data": {
      "text/latex": [
       "$\\displaystyle \\int_{0}^{+\\infty} \\frac{1}{4} \\, \\sqrt{u^{2}} f\\left(\\pi \\sqrt{u^{2}}\\right) + 2 \\, \\int_{0}^{+\\infty} \\frac{1}{2} \\, \\sqrt{n_{y}^{2} + u^{2}} f\\left(\\pi \\sqrt{n_{y}^{2} + u^{2}}\\right)\\,{d n_{y}}\\,{d u}$"
      ],
      "text/plain": [
       "<IPython.core.display.Math object>"
      ]
     },
     "metadata": {},
     "output_type": "display_data"
    }
   ],
   "source": [
    "display(Math(latex(sum_sum_F_minus_int_int_Fu_1)))"
   ]
  },
  {
   "cell_type": "code",
   "execution_count": 67,
   "metadata": {},
   "outputs": [
    {
     "data": {
      "text/plain": [
       "integrate(1/4*sqrt(u^2)*f(pi*sqrt(u^2)/(a*k_m)) + 2*integrate(1/2*sqrt(n_y^2 + u^2)*f(pi*sqrt(n_y^2 + u^2)/(a*k_m)), n_y, 0, +Infinity), u, 0, +Infinity)"
      ]
     },
     "execution_count": 67,
     "metadata": {},
     "output_type": "execute_result"
    }
   ],
   "source": [
    "sum_sum_F_minus_int_int_Fu = num_int(lambda u : 2 * int_sum_Fu (u, a, k_m) + sum_sum_Fu (u, a, k_m), 0, Infinity, v=u)\n",
    "sum_sum_F_minus_int_int_Fu"
   ]
  },
  {
   "cell_type": "code",
   "execution_count": 68,
   "metadata": {},
   "outputs": [
    {
     "data": {
      "text/latex": [
       "$\\displaystyle \\int_{0}^{+\\infty} \\frac{1}{4} \\, \\sqrt{u^{2}} f\\left(\\frac{\\pi \\sqrt{u^{2}}}{a k_{m}}\\right) + 2 \\, \\int_{0}^{+\\infty} \\frac{1}{2} \\, \\sqrt{n_{y}^{2} + u^{2}} f\\left(\\frac{\\pi \\sqrt{n_{y}^{2} + u^{2}}}{a k_{m}}\\right)\\,{d n_{y}}\\,{d u}$"
      ],
      "text/plain": [
       "<IPython.core.display.Math object>"
      ]
     },
     "metadata": {},
     "output_type": "display_data"
    }
   ],
   "source": [
    "display(Math(latex(sum_sum_F_minus_int_int_Fu)))"
   ]
  },
  {
   "cell_type": "raw",
   "metadata": {},
   "source": [
    "sum_sum_F_minus_int_int_Fn = num_int(lambda u : 2 * int_sum_Fn (u, a = 1, k_m = 1) + sum_sum_Fn (u, a = 1, k_m = 1), 0, Infinity, v=u)\n",
    "sum_sum_F_minus_int_int_Fn"
   ]
  },
  {
   "cell_type": "markdown",
   "metadata": {},
   "source": [
    "R_p=False (Euler–Maclaurin 2D without remainer part)"
   ]
  },
  {
   "cell_type": "raw",
   "metadata": {},
   "source": [
    "int_int + int_sum + sum_int + sum_sum"
   ]
  },
  {
   "cell_type": "code",
   "execution_count": null,
   "metadata": {},
   "outputs": [],
   "source": []
  },
  {
   "cell_type": "markdown",
   "metadata": {},
   "source": [
    "Let's consider\n",
    "\n",
    "\\begin{equation}\n",
    "\\sum\\limits_{n_x=\\left(0\\right)\\,1}^{\\infty}\n",
    "\\sum\\limits_{n_y=\\left(0\\right)\\,1}^{\\infty}\n",
    "F\\left(n_x, n_y\\right)\n",
    "-\n",
    "\\int\\limits_{0}^{\\infty}\n",
    "\\int\\limits_{0}^{\\infty}\n",
    "F\\left(n_x, n_y\\right)\\,d{n_x}\\,d{n_y}\n",
    "\\end{equation}"
   ]
  },
  {
   "cell_type": "markdown",
   "metadata": {},
   "source": [
    "First we see, that"
   ]
  },
  {
   "cell_type": "markdown",
   "metadata": {},
   "source": [
    "\\begin{equation}\n",
    "\\sum\\limits_{n_x=\\left(0\\right)\\,1}^{\\infty}\n",
    "\\sum\\limits_{n_y=\\left(0\\right)\\,1}^{\\infty}\n",
    "{F\\left(n_x, n_y\\right)}\n",
    "= \\sum\\limits_{n_x=\\left(0\\right)\\,1}^{\\infty}\n",
    "\\left(\n",
    "-\\frac{1}{2}F\\left(n_x, 0\\right) + \\sum\\limits_{n_y=0}^{\\infty}{F\\left(n_x, n_y\\right)}\n",
    "\\right)\n",
    "= -\\frac{1}{2}\n",
    "\\left(\n",
    "-\\frac{1}{2}F\\left(0, 0\\right) + \\sum\\limits_{n_y=0}^{\\infty}{F\\left(0, n_y\\right)}\n",
    "\\right)\n",
    "+\\sum\\limits_{n_x=0}^{\\infty}\n",
    "\\left(\n",
    "-\\frac{1}{2}F\\left(n_x, 0\\right) + \\sum\\limits_{n_y=0}^{\\infty}{F\\left(n_x, n_y\\right)}\n",
    "\\right)\n",
    "= \\frac{1}{4}F\\left(0, 0\\right)\n",
    "- \\frac{1}{2}\\sum\\limits_{n_y=0}^{\\infty}{F\\left(0, n_y\\right)}\n",
    "- \\frac{1}{2}\\sum\\limits_{n_x=0}^{\\infty}{F\\left(n_x, 0\\right)}\n",
    "+ \\sum\\limits_{n_x=0}^{\\infty}\\sum\\limits_{n_y=0}^{\\infty}{F\\left(n_x, n_y\\right)}\n",
    "\\end{equation}"
   ]
  },
  {
   "cell_type": "markdown",
   "metadata": {},
   "source": [
    "So we have\n",
    "\\begin{equation}\n",
    "\\sum\\limits_{n_x=\\left(0\\right)\\,1}^{\\infty}\n",
    "\\sum\\limits_{n_y=\\left(0\\right)\\,1}^{\\infty}\n",
    "{F\\left(n_x, n_y\\right)}\n",
    "=\\frac{1}{4}F\\left(0, 0\\right)\n",
    "-\\frac{1}{2}\\sum\\limits_{n_y=0}^{\\infty}{F\\left(0, n_y\\right)}\n",
    "-\\frac{1}{2}\\sum\\limits_{n_x=0}^{\\infty}{F\\left(n_x, 0\\right)}\n",
    "+\\sum\\limits_{n_x=0}^{\\infty}\\sum\\limits_{n_y=0}^{\\infty}{F\\left(n_x, n_y\\right)}\n",
    "\\end{equation}"
   ]
  },
  {
   "cell_type": "markdown",
   "metadata": {},
   "source": [
    "And\n",
    "\n",
    "\\begin{equation}\n",
    "\\sum\\limits_{n_x=\\left(0\\right)\\,1}^{\\infty}\n",
    "\\sum\\limits_{n_y=\\left(0\\right)\\,1}^{\\infty}\n",
    "F\\left(n_x, n_y\\right)\n",
    "-\n",
    "\\int\\limits_{0}^{\\infty}\n",
    "\\int\\limits_{0}^{\\infty}\n",
    "F\\left(n_x, n_y\\right)\\,d{n_x}\\,d{n_y} =\n",
    "\\end{equation}"
   ]
  },
  {
   "cell_type": "markdown",
   "metadata": {},
   "source": [
    "\\begin{equation}\n",
    "=\\frac{1}{4}F\\left(0, 0\\right)\n",
    "-\\frac{1}{2}\\sum\\limits_{n_y=0}^{\\infty}{F\\left(0, n_y\\right)}\n",
    "-\\frac{1}{2}\\sum\\limits_{n_x=0}^{\\infty}{F\\left(n_x, 0\\right)}\n",
    "+\\sum\\limits_{n_x=0}^{\\infty}\\sum\\limits_{n_y=0}^{\\infty}{F\\left(n_x, n_y\\right)}\n",
    "-\n",
    "\\int\\limits_{0}^{\\infty}\n",
    "\\int\\limits_{0}^{\\infty}\n",
    "F\\left(n_x, n_y\\right)\\,d{n_x}\\,d{n_y}\n",
    "\\end{equation}"
   ]
  },
  {
   "cell_type": "markdown",
   "metadata": {},
   "source": [
    "On the other hand we have found that\n",
    "\\begin{equation}\n",
    "\\sum\\limits_{n_x=0}^{\\infty}\n",
    "\\sum\\limits_{n_y=0}^{\\infty}\n",
    "F\\left(n_x, n_y\\right)\n",
    "-\\int\\limits_{0}^{\\infty}\n",
    "\\int\\limits_{0}^{\\infty}\n",
    "F\\left(n_x, n_y\\right)\\,d{n_x}\\,d{n_y}\n",
    "\\end{equation}\n",
    "without remainer part will be"
   ]
  },
  {
   "cell_type": "code",
   "execution_count": 69,
   "metadata": {},
   "outputs": [
    {
     "data": {
      "text/latex": [
       "$\\displaystyle \\frac{1}{4} \\, F\\left(a_{x}, a_{y}\\right) + \\frac{1}{2} \\, \\int_{a_{y}}^{b_{y}} F\\left(a_{x}, n_{y}\\right)\\,{d n_{y}} + \\frac{1}{2} \\, \\int_{a_{x}}^{b_{x}} F\\left(n_{x}, a_{y}\\right)\\,{d n_{x}} - \\frac{1}{12} \\, \\int_{a_{y}}^{b_{y}} \\frac{\\partial}{\\partial a_{x}}F\\left(a_{x}, n_{y}\\right)\\,{d n_{y}} + \\frac{1}{720} \\, \\int_{a_{y}}^{b_{y}} \\frac{\\partial^{3}}{(\\partial a_{x})^{3}}F\\left(a_{x}, n_{y}\\right)\\,{d n_{y}} - \\frac{1}{12} \\, \\int_{a_{x}}^{b_{x}} \\frac{\\partial}{\\partial a_{y}}F\\left(n_{x}, a_{y}\\right)\\,{d n_{x}} + \\frac{1}{720} \\, \\int_{a_{x}}^{b_{x}} \\frac{\\partial^{3}}{(\\partial a_{y})^{3}}F\\left(n_{x}, a_{y}\\right)\\,{d n_{x}} - \\frac{1}{24} \\, \\frac{\\partial}{\\partial a_{x}}F\\left(a_{x}, a_{y}\\right) + \\frac{1}{1440} \\, \\frac{\\partial^{3}}{(\\partial a_{x})^{3}}F\\left(a_{x}, a_{y}\\right) - \\frac{1}{8640} \\, \\frac{\\partial^{4}}{(\\partial a_{x})^{3}\\partial a_{y}}F\\left(a_{x}, a_{y}\\right) + \\frac{1}{518400} \\, \\frac{\\partial^{6}}{(\\partial a_{x})^{3}(\\partial a_{y})^{3}}F\\left(a_{x}, a_{y}\\right) + \\frac{1}{144} \\, \\frac{\\partial^{2}}{\\partial a_{x}\\partial a_{y}}F\\left(a_{x}, a_{y}\\right) - \\frac{1}{8640} \\, \\frac{\\partial^{4}}{\\partial a_{x}(\\partial a_{y})^{3}}F\\left(a_{x}, a_{y}\\right) - \\frac{1}{24} \\, \\frac{\\partial}{\\partial a_{y}}F\\left(a_{x}, a_{y}\\right) + \\frac{1}{1440} \\, \\frac{\\partial^{3}}{(\\partial a_{y})^{3}}F\\left(a_{x}, a_{y}\\right)$"
      ],
      "text/plain": [
       "<IPython.core.display.Math object>"
      ]
     },
     "metadata": {},
     "output_type": "display_data"
    }
   ],
   "source": [
    "sum_sum_F_minus_int_int_F = (int_sum_F + sum_int_F + sum_sum_F).expand()\n",
    "display(Math(latex(sum_sum_F_minus_int_int_F)))"
   ]
  },
  {
   "cell_type": "markdown",
   "metadata": {},
   "source": [
    "Now we can see that if we decompose two integrals from the first six terms in the resulting summation"
   ]
  },
  {
   "cell_type": "markdown",
   "metadata": {},
   "source": [
    "$$\n",
    "\\frac{1}{4}F\\left(0, 0\\right)\n",
    "- \\frac{1}{2}\\sum\\limits_{n_y=0}^{\\infty}{F\\left(0, n_y\\right)}\n",
    "- \\frac{1}{2}\\sum\\limits_{n_x=0}^{\\infty}{F\\left(n_x, 0\\right)}\n",
    "+ \\frac{1}{4} \\, F\\left(a_{x}=0, a_{y}=0\\right)\n",
    "+ \\frac{1}{2} \\, \\int_{a_{y}=0}^{b_{y}=\\infty} F\\left(a_{x}=0, n_{y}\\right)\\,{d n_{y}}\n",
    "+ \\frac{1}{2} \\, \\int_{a_{x}=0}^{b_{x}=\\infty} F\\left(n_{x}, a_{y}=0\\right)\\,{d n_{x}}$$"
   ]
  },
  {
   "cell_type": "markdown",
   "metadata": {},
   "source": [
    "using 1D EULER-MACLAURIN formula:"
   ]
  },
  {
   "cell_type": "markdown",
   "metadata": {},
   "source": [
    "$$\n",
    "\\int _{a}^{b}f(x)\\,dx\n",
    "=\n",
    "{\\displaystyle \\sum _{i=a}^{b}f(i)\n",
    "-{\\frac {f(a)+f(b)}{2}}\n",
    "-\\sum _{k=1}^{\\lfloor p/2\\rfloor }{\\frac {B_{2k}}{(2k)!}}(f^{(2k-1)}(b)-f^{(2k-1)}(a))\n",
    "-R_{p},}$$"
   ]
  },
  {
   "cell_type": "markdown",
   "metadata": {},
   "source": [
    "$\\int\\limits_{0}^{\\infty}{F\\left(n\\right)} = \\sum\\limits_{\\left(0\\right)\\,1}^{\\infty}{F\\left(n\\right)} +\\,\\frac{1}{12}F'\\left(0\\right)\\,-\\,\\frac{1}{24\\times30}F'''\\left(0\\right)\\,+\\,...$"
   ]
  },
  {
   "cell_type": "markdown",
   "metadata": {},
   "source": [
    "first four terms will be eliminated and the following terms will be remained:"
   ]
  },
  {
   "cell_type": "code",
   "execution_count": 70,
   "metadata": {},
   "outputs": [
    {
     "data": {
      "text/latex": [
       "$\\displaystyle \\frac{1}{24} \\, \\frac{\\partial}{\\partial a_{x}}F\\left(a_{x}, n_{y}\\right) - \\frac{1}{1440} \\, \\frac{\\partial^{3}}{(\\partial a_{x})^{3}}F\\left(a_{x}, n_{y}\\right)$"
      ],
      "text/plain": [
       "<IPython.core.display.Math object>"
      ]
     },
     "metadata": {},
     "output_type": "display_data"
    }
   ],
   "source": [
    "sum_dfdx_a_bernoullis_nx = sum([(F.diff(n_x,2*k-1))*(bernoulli(2*k)/factorial(2*k)) for k in range(1,1+int(p/2))]) \\\n",
    "    .subs(n_x == a_x)\n",
    "display(Math(latex((1/2)*sum_dfdx_a_bernoullis_nx)))"
   ]
  },
  {
   "cell_type": "code",
   "execution_count": 71,
   "metadata": {},
   "outputs": [
    {
     "data": {
      "text/latex": [
       "$\\displaystyle \\frac{1}{24} \\, \\frac{\\partial}{\\partial a_{y}}F\\left(n_{x}, a_{y}\\right) - \\frac{1}{1440} \\, \\frac{\\partial^{3}}{(\\partial a_{y})^{3}}F\\left(n_{x}, a_{y}\\right)$"
      ],
      "text/plain": [
       "<IPython.core.display.Math object>"
      ]
     },
     "metadata": {},
     "output_type": "display_data"
    }
   ],
   "source": [
    "sum_dfdx_a_bernoullis_ny = sum([(F.diff(n_y,2*k-1))*(bernoulli(2*k)/factorial(2*k)) for k in range(1,1+int(p/2))]) \\\n",
    "    .subs(n_y == a_y)\n",
    "display(Math(latex((1/2)*sum_dfdx_a_bernoullis_ny)))"
   ]
  },
  {
   "cell_type": "code",
   "execution_count": 72,
   "metadata": {},
   "outputs": [
    {
     "data": {
      "text/latex": [
       "$\\displaystyle -\\frac{1}{12} \\, \\int_{a_{y}}^{b_{y}} \\frac{\\partial}{\\partial a_{x}}F\\left(a_{x}, n_{y}\\right)\\,{d n_{y}} + \\frac{1}{720} \\, \\int_{a_{y}}^{b_{y}} \\frac{\\partial^{3}}{(\\partial a_{x})^{3}}F\\left(a_{x}, n_{y}\\right)\\,{d n_{y}} - \\frac{1}{12} \\, \\int_{a_{x}}^{b_{x}} \\frac{\\partial}{\\partial a_{y}}F\\left(n_{x}, a_{y}\\right)\\,{d n_{x}} + \\frac{1}{720} \\, \\int_{a_{x}}^{b_{x}} \\frac{\\partial^{3}}{(\\partial a_{y})^{3}}F\\left(n_{x}, a_{y}\\right)\\,{d n_{x}} - \\frac{1}{24} \\, \\frac{\\partial}{\\partial a_{x}}F\\left(a_{x}, a_{y}\\right) + \\frac{1}{1440} \\, \\frac{\\partial^{3}}{(\\partial a_{x})^{3}}F\\left(a_{x}, a_{y}\\right) - \\frac{1}{8640} \\, \\frac{\\partial^{4}}{(\\partial a_{x})^{3}\\partial a_{y}}F\\left(a_{x}, a_{y}\\right) + \\frac{1}{518400} \\, \\frac{\\partial^{6}}{(\\partial a_{x})^{3}(\\partial a_{y})^{3}}F\\left(a_{x}, a_{y}\\right) + \\frac{1}{144} \\, \\frac{\\partial^{2}}{\\partial a_{x}\\partial a_{y}}F\\left(a_{x}, a_{y}\\right) - \\frac{1}{8640} \\, \\frac{\\partial^{4}}{\\partial a_{x}(\\partial a_{y})^{3}}F\\left(a_{x}, a_{y}\\right) - \\frac{1}{24} \\, \\frac{\\partial}{\\partial a_{y}}F\\left(a_{x}, a_{y}\\right) + \\frac{1}{1440} \\, \\frac{\\partial^{3}}{(\\partial a_{y})^{3}}F\\left(a_{x}, a_{y}\\right)$"
      ],
      "text/plain": [
       "<IPython.core.display.Math object>"
      ]
     },
     "metadata": {},
     "output_type": "display_data"
    }
   ],
   "source": [
    "sum_sum_F_minus_int_int_F_without_first_3_terms = sum(sum_sum_F_minus_int_int_F.operands()[3:])\n",
    "display(Math(latex(sum_sum_F_minus_int_int_F_without_first_3_terms)))"
   ]
  },
  {
   "cell_type": "markdown",
   "metadata": {},
   "source": [
    "We apply the EULER-MACLAURIN 2D formula:"
   ]
  },
  {
   "cell_type": "markdown",
   "metadata": {},
   "source": [
    "(without remainer part)"
   ]
  },
  {
   "cell_type": "markdown",
   "metadata": {},
   "source": [
    "\\begin{equation}\n",
    "\\sum\\limits_{\\left(0\\right)\\,1}^{\\infty}\\sum\\limits_{\\left(0\\right)\\,1}^{\\infty}{F\\left(n_x, n_y\\right)}\n",
    "- \\int\\limits_{0}^{\\infty}\\int\\limits_{0}^{\\infty}{F\\left(n_x, n_y\\right)} \n",
    "= - \\frac{1}{12} \\, \\int_{0}^{\\infty} \\frac{\\partial}{\\partial n_{x}}F\\left(0, n_y\\right)\\,{d n_y}\n",
    "- \\frac{1}{12} \\, \\int_{0}^{\\infty} \\frac{\\partial}{\\partial n_{y}}F\\left(n_x, 0\\right)\\,{d n_x}\n",
    "+ \\frac{1}{144} \\, \\frac{\\partial^{2}}{\\partial n_{x}\\partial n_{y}}F\\left(0, 0\\right)\n",
    "\\,+\\,...\n",
    "\\end{equation}"
   ]
  },
  {
   "cell_type": "markdown",
   "metadata": {},
   "source": [
    "or using more terms in the EULER-MACLAURIN 2D formula:"
   ]
  },
  {
   "cell_type": "markdown",
   "metadata": {},
   "source": [
    "\\begin{equation}\n",
    "\\sum\\limits_{\\left(0\\right)\\,1}^{\\infty}\\sum\\limits_{\\left(0\\right)\\,1}^{\\infty}{F\\left(n_x, n_y\\right)}\n",
    "-\\int\\limits_{0}^{\\infty}\\int\\limits_{0}^{\\infty}{F\\left(n_x, n_y\\right)}\n",
    "= - \\frac{1}{12} \\, \\int_{0}^{\\infty}  \\, \\frac{\\partial}{\\partial n_{x}}F\\left(0, n_y\\right)\\,{d n_y}\n",
    "+ \\frac{1}{720} \\, \\int_{0}^{\\infty} \\frac{\\partial^{3}}{(\\partial n_{x})^{3}}F\\left(0, y\\right)\\,{d n_y}\n",
    "- \\frac{1}{12} \\, \\int_{0}^{\\infty} \\frac{\\partial}{\\partial n_{y}}F\\left(n_x, 0\\right)\\,{d n_x}\n",
    "+ \\frac{1}{720} \\, \\int_{0}^{\\infty} \\frac{\\partial^{3}}{(\\partial n_{y})^{3}}F\\left(n_x, 0\\right)\\,{d n_x}\n",
    "- \\frac{1}{8640} \\, \\frac{\\partial^{4}}{(\\partial n_{x})^{3}\\partial n_{y}}F\\left(0, 0\\right)\n",
    "+ \\frac{1}{518400} \\, \\frac{\\partial^{6}}{(\\partial n_{x})^{3}(\\partial n_{y})^{3}}F\\left(0, 0\\right)\n",
    "+ \\frac{1}{144} \\, \\frac{\\partial^{2}}{\\partial n_{x}\\partial n_{y}}F\\left(0, 0\\right)\n",
    "- \\frac{1}{8640} \\, \\frac{\\partial^{4}}{\\partial n_{x}(\\partial n_{y})^{3}}F\\left(0, 0\\right)\n",
    "\\,+\\,...\n",
    "\\end{equation}"
   ]
  },
  {
   "cell_type": "code",
   "execution_count": null,
   "metadata": {},
   "outputs": [],
   "source": []
  },
  {
   "cell_type": "markdown",
   "metadata": {},
   "source": [
    "\\begin{equation}\n",
    "F\\left(n_x, n_y\\right) = \n",
    "\\sqrt{n_x^2 + n_y^2+u^2}\\,\n",
    "f\\left(\\frac{\\pi\\sqrt{n_x^2 + n_y^2+u^2}}{a\\,k_m}\\right)\n",
    "\\end{equation}"
   ]
  },
  {
   "cell_type": "code",
   "execution_count": 73,
   "metadata": {},
   "outputs": [
    {
     "data": {
      "text/plain": [
       "0"
      ]
     },
     "execution_count": 73,
     "metadata": {},
     "output_type": "execute_result"
    }
   ],
   "source": [
    "Fu(u, n_x, n_y, a, k_m).diff(n_x).subs(n_x==0)"
   ]
  },
  {
   "cell_type": "markdown",
   "metadata": {},
   "source": [
    "So we see that all terms without remainer part are 0"
   ]
  },
  {
   "cell_type": "markdown",
   "metadata": {},
   "source": [
    "Thus for the force per $cm^2$ we find"
   ]
  },
  {
   "cell_type": "markdown",
   "metadata": {},
   "source": [
    "\\begin{equation}\n",
    "F = \\delta\\,\\frac{E}{V} = \\frac{\\hbar\\,c\\,\\pi}{a^4}\n",
    "\\int\\limits_{0}^{\\infty}{\n",
    "\\left\\{\n",
    "\\sum\\limits_{n_x=\\left(0\\right)\\,1}^{\\infty}\n",
    "\\sum\\limits_{n_y=\\left(0\\right)\\,1}^{\\infty}\n",
    "F\\left(n_x, n_y\\right)\n",
    "-\n",
    "\\int\\limits_{0}^{\\infty}\n",
    "\\int\\limits_{0}^{\\infty}\n",
    "F\\left(n_x, n_y\\right)\\,d{n_x}\\,d{n_y}\n",
    "\\right\\}\n",
    "}\\,d{u}\n",
    "\\end{equation}"
   ]
  },
  {
   "cell_type": "markdown",
   "metadata": {},
   "source": [
    "According to our calculation we can see that "
   ]
  },
  {
   "cell_type": "markdown",
   "metadata": {},
   "source": [
    "\\begin{equation}\n",
    "\\int\\limits_{0}^{\\infty}{\n",
    "\\left\\{\n",
    "\\sum\\limits_{n_x=\\left(0\\right)\\,1}^{\\infty}\n",
    "\\sum\\limits_{n_y=\\left(0\\right)\\,1}^{\\infty}\n",
    "F\\left(n_x, n_y\\right)\n",
    "-\n",
    "\\int\\limits_{0}^{\\infty}\n",
    "\\int\\limits_{0}^{\\infty}\n",
    "F\\left(n_x, n_y\\right)\\,d{n_x}\\,d{n_y}\n",
    "\\right\\}\n",
    "}\\,d{u} \\approx R\\left(a k_m\\right)\n",
    "\\end{equation}"
   ]
  },
  {
   "cell_type": "markdown",
   "metadata": {},
   "source": [
    "Where $R\\left(a k_m\\right)$ is some material specific value. So"
   ]
  },
  {
   "cell_type": "markdown",
   "metadata": {},
   "source": [
    "$F = \\delta\\,\\frac{E}{V} \\approx R\\left(a k_m\\right)\\,\\frac{\\hbar\\,c\\,\\pi}{a^4}$"
   ]
  },
  {
   "cell_type": "code",
   "execution_count": null,
   "metadata": {},
   "outputs": [],
   "source": []
  },
  {
   "cell_type": "markdown",
   "metadata": {},
   "source": [
    "We are thus led to the following conclusions. There exists force  to perfectly conducting honeycomb on a plate as result of a difference of specific energy density on its different sides. This force is dependent of the material of the plate. This force may be interpreted as a zero point pressure of electromagnetic waves."
   ]
  },
  {
   "cell_type": "markdown",
   "metadata": {},
   "source": [
    "Although the effect is smalI, an experimental confirmation seems not\n",
    "unfeasable and might be of a certain interest. "
   ]
  },
  {
   "cell_type": "markdown",
   "metadata": {},
   "source": [
    "Kharkov"
   ]
  },
  {
   "cell_type": "code",
   "execution_count": 1,
   "metadata": {},
   "outputs": [],
   "source": [
    "# below are usefull reference"
   ]
  },
  {
   "cell_type": "markdown",
   "metadata": {},
   "source": [
    "30 January 2019\n",
    "\n",
    "Metal nano-honeycomb fabricated by colloidal assembly and femtosecond-laser annealing\n",
    "\n",
    "https://www.spiedigitallibrary.org/conference-proceedings-of-spie/10841/108410A/Metal-nano-honeycomb-fabricated-by-colloidal-assembly-and-femtosecond-laser/10.1117/12.2508593.full?SSO=1"
   ]
  },
  {
   "cell_type": "markdown",
   "metadata": {},
   "source": [
    "Bio-Inspired Engineering of Honeycomb Structure - Using Nature to Inspire Human Innovation\n",
    "\n",
    "https://www.researchgate.net/figure/Mechanical-behavior-of-micro-and-nano-honeycomb-materials_tbl1_280239925"
   ]
  },
  {
   "cell_type": "markdown",
   "metadata": {},
   "source": [
    "Nano-honeycomb structures for optimal energy absorption: numerical analysis and experiments\n",
    "\n",
    "https://www.alliedacademies.org/articles/nanohoneycomb-structures-for-optimal-energy-absorption-numerical-analysisand-experiments-8375.html"
   ]
  },
  {
   "cell_type": "code",
   "execution_count": null,
   "metadata": {},
   "outputs": [],
   "source": []
  }
 ],
 "metadata": {
  "kernelspec": {
   "display_name": "SageMath 9.6.beta7",
   "language": "sage",
   "name": "sagemath"
  },
  "language_info": {
   "codemirror_mode": {
    "name": "ipython",
    "version": 3
   },
   "file_extension": ".py",
   "mimetype": "text/x-python",
   "name": "python",
   "nbconvert_exporter": "python",
   "pygments_lexer": "ipython3",
   "version": "3.10.3"
  }
 },
 "nbformat": 4,
 "nbformat_minor": 2
}
