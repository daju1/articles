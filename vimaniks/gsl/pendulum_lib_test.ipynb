{
 "cells": [
  {
   "cell_type": "raw",
   "id": "d8a9728e",
   "metadata": {},
   "source": [
    "./gsl-latest/gsl-2.8$ ./configure --prefix=/usr3/articles/sagemath_docker_build/work/vimaniks/gsl/local\n",
    "\n",
    "make && make install"
   ]
  },
  {
   "cell_type": "raw",
   "id": "d83d38a5",
   "metadata": {},
   "source": [
    "./gsl$ make test\n",
    "gcc -o test vanderpol.o -I. -I./local/include -O0 -g -Werror -Wformat -L./local/lib -lm -lgsl -lgslcblas\n",
    "./gsl$ ./test "
   ]
  },
  {
   "cell_type": "raw",
   "id": "a6c98e93",
   "metadata": {},
   "source": [
    "./gsl$ make mylib\n",
    ":/articles/sagemath_docker_build/work/vimaniks/gsl$ make mylib\n",
    "c99 -c -o pendulum_lib.o pendulum_lib.c -I. -I./local/include  -fPIC -O0 -g -Werror -Wformat \n",
    "c99  -shared  -o mylib.so pendulum_lib.o  -Wl,-Bstatic -lgsl -lgslcblas -Wl,-Bdynamic -lm"
   ]
  },
  {
   "cell_type": "code",
   "execution_count": 6,
   "id": "ec5fbb97",
   "metadata": {
    "scrolled": true
   },
   "outputs": [],
   "source": [
    "# Access your C code\n",
    "from ctypes import *\n",
    "so_file = \"./mylib.so\"\n",
    "c_functions = ctypes.CDLL(so_file)"
   ]
  },
  {
   "cell_type": "code",
   "execution_count": 2,
   "id": "696ff796",
   "metadata": {},
   "outputs": [],
   "source": [
    "def init():\n",
    "    #c_functions.init.restype =  ctypes.c_void\n",
    "    c_functions.init.argtypes = (ctypes.c_double, ctypes.c_double, ctypes.c_double,\n",
    "                                 ctypes.c_double, ctypes.c_double, ctypes.c_double,)\n",
    "    return c_functions.init"
   ]
  },
  {
   "cell_type": "code",
   "execution_count": 3,
   "id": "4ad9431c",
   "metadata": {},
   "outputs": [],
   "source": [
    "def alloc():\n",
    "    #c_functions.alloc.restype =  ctypes.c_void\n",
    "    #c_functions.alloc.argtypes = (ctypes.c_void,)\n",
    "    return c_functions.alloc\n",
    "def release():\n",
    "    #c_functions.release.restype =  ctypes.c_void\n",
    "    #c_functions.release.argtypes = (ctypes.c_void,)\n",
    "    return c_functions.release"
   ]
  },
  {
   "cell_type": "code",
   "execution_count": 4,
   "id": "95cc605c",
   "metadata": {},
   "outputs": [],
   "source": [
    "def apply():\n",
    "    c_functions.apply.restype =  ctypes.c_int\n",
    "    c_functions.apply.argtypes = (ctypes.c_double,\n",
    "                                  ctypes.POINTER(ctypes.c_double),\n",
    "                                  ctypes.POINTER(ctypes.c_double),\n",
    "                                  ctypes.POINTER(ctypes.c_double))\n",
    "    return c_functions.apply"
   ]
  },
  {
   "cell_type": "code",
   "execution_count": 13,
   "id": "9b6e239d",
   "metadata": {},
   "outputs": [
    {
     "data": {
      "text/plain": [
       "6"
      ]
     },
     "execution_count": 13,
     "metadata": {},
     "output_type": "execute_result"
    }
   ],
   "source": [
    "m = c_double()\n",
    "g = c_double()\n",
    "R = c_double()\n",
    "p0 = c_double()\n",
    "q0 = c_double()\n",
    "t0 = c_double()\n",
    "\n",
    "m.value = 1.0\n",
    "g.value = 1.0\n",
    "R.value = 1.0\n",
    "p0.value = 0.0001\n",
    "q0.value = 0.0\n",
    "t0.value = 0.0\n",
    "init()(m,g,R,p0,q0,t0)"
   ]
  },
  {
   "cell_type": "code",
   "execution_count": 14,
   "id": "36d6776c",
   "metadata": {},
   "outputs": [
    {
     "data": {
      "text/plain": [
       "-493621472"
      ]
     },
     "execution_count": 14,
     "metadata": {},
     "output_type": "execute_result"
    }
   ],
   "source": [
    "alloc()()"
   ]
  },
  {
   "cell_type": "code",
   "execution_count": 15,
   "id": "eff86d8c",
   "metadata": {},
   "outputs": [],
   "source": [
    "ti = c_double()\n",
    "t = c_double()\n",
    "y0 = c_double()\n",
    "y1 = c_double()"
   ]
  },
  {
   "cell_type": "code",
   "execution_count": 16,
   "id": "b2649789",
   "metadata": {},
   "outputs": [],
   "source": [
    "t_y0 = []\n",
    "t_y1 = []\n",
    "import numpy as np\n",
    "for t_i in np.arange(0.0, 24.0, 0.01):\n",
    "    ti.value = t_i\n",
    "    apply()(ti, byref(t), byref(y0), byref(y1))\n",
    "    # print(t_i, t.value, y0.value, y1.value)\n",
    "    t_y0 += [(t.value, y0.value)]\n",
    "    t_y1 += [(t.value, y1.value)]"
   ]
  },
  {
   "cell_type": "code",
   "execution_count": 17,
   "id": "6db41cb5",
   "metadata": {},
   "outputs": [
    {
     "data": {
      "text/plain": [
       "0"
      ]
     },
     "execution_count": 17,
     "metadata": {},
     "output_type": "execute_result"
    }
   ],
   "source": [
    "release()()"
   ]
  },
  {
   "cell_type": "code",
   "execution_count": 18,
   "id": "6df51651",
   "metadata": {},
   "outputs": [
    {
     "data": {
      "image/png": "[encoded data removed]",
      "text/plain": [
       "Graphics object consisting of 2 graphics primitives"
      ]
     },
     "metadata": {},
     "output_type": "display_data"
    }
   ],
   "source": [
    "p = list_plot(t_y0, color=\"red\")\n",
    "p+= list_plot(t_y1, color=\"green\")\n",
    "p.show(title=\"p (red), q=phi (green)\")"
   ]
  },
  {
   "cell_type": "code",
   "execution_count": null,
   "id": "a444545c",
   "metadata": {},
   "outputs": [],
   "source": []
  }
 ],
 "metadata": {
  "kernelspec": {
   "display_name": "SageMath 9.6.beta7",
   "language": "sage",
   "name": "sagemath"
  },
  "language_info": {
   "codemirror_mode": {
    "name": "ipython",
    "version": 3
   },
   "file_extension": ".py",
   "mimetype": "text/x-python",
   "name": "python",
   "nbconvert_exporter": "python",
   "pygments_lexer": "ipython3",
   "version": "3.10.3"
  }
 },
 "nbformat": 4,
 "nbformat_minor": 5
}
