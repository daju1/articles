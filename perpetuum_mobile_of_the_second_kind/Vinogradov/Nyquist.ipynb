{
 "cells": [
  {
   "cell_type": "markdown",
   "id": "473ab1c1",
   "metadata": {},
   "source": [
    "THERMAL AGITATION OF ELECTRIC CHARGE IN CONDUCTORS*\n",
    "\n",
    "BY H. NYQUIST\n",
    "\n",
    "ABSTRACT\n",
    "\n",
    "Tke electromotive force due to thermal agitation in conductors is calculated by means of principles in thermodynamics and statistical mechanics. \n",
    "\n",
    "The results obtained agree with results, obtained experimentally.\n",
    "\n",
    "R. J. B. JOHNSON'has reported the discovery and measurement of an electromotive force in conductors which is related in a simple manner to the temperature of the conductor and which is attributed by him to the thermal agitation of the carriers of electricity in the conductors. The work to he resported in the present paper was undertaken after Johnson's results were available to the writer and consists of a theoretical deduction of the electromotive force in question from thermodynamics and statistical mechanics."
   ]
  },
  {
   "cell_type": "markdown",
   "id": "383eed1b",
   "metadata": {},
   "source": [
    "ТЕПЛОВОЕ ВОЗМУЩЕНИЕ ЭЛЕКТРИЧЕСКОГО ЗАРЯДА В ПРОВОДНИКАХ*\n",
    "\n",
    "Х. НАЙКВИСТ\n",
    "\n",
    "АБСТРАКТНЫЙ\n",
    "\n",
    "Электродвижущая сила, вызванная тепловым возбуждением в проводниках, вычисляется с помощью принципов термодинамики и статистической механики.\n",
    "\n",
    "Полученные результаты согласуются с результатами, полученными экспериментально.\n",
    "\n",
    "Р. Дж. Б. Джонсон сообщил об открытии и измерении электродвижущей силы в проводниках, которая простым образом связана с температурой проводника и которую он приписывает тепловому возбуждению носителей электричества в проводниках. Работа, о которой он сообщил в настоящей статье, была предпринята после того, как автору стали доступны результаты Джонсона, и состоит из теоретического вывода рассматриваемой электродвижущей силы из термодинамики и статистической механики."
   ]
  },
  {
   "cell_type": "markdown",
   "id": "7f7302c4",
   "metadata": {},
   "source": [
    "Consider two conductors each of resistance R and of the same uniform temperature T connected in the manner indicated in Fig. 1. The electromotive force due to thermal agitation in conductor I causes a current to be set up in the circuit whose value is obtained by dividing the electromotive force by 2R. This current causes I a heating or absorption of power in conductor II, the absorbed power being equal to the product of R and the square of the current. In other words power Flg. 1. is transferred from conductor I to conductor II. In precisely the same manner it can be deduced that power is transferred from conductor II to conductor I. Now since the two conductors are at the same temperature it follows directly from the second law of thermodynamics that the power fiowing in one direction is exactly equal to that fiowing in the other direction. It will be noted that no assumption has been made as to the nature of the two conductors. One may be made of silver and the other of lead, or one may be metallic and the other electrolytic, etc."
   ]
  },
  {
   "cell_type": "markdown",
   "id": "29afd94e",
   "metadata": {},
   "source": [
    "Рассмотрим два проводника сопротивлением R и одинаковой температуры T, каждый из которых соединен так, как показано на рис. 1. Электродвижущая сила, вызванная тепловым возбуждением в проводнике I, вызывает появление в цепи тока, значение которого получается путем деления электродвижущая сила на 2R. Этот ток вызывает I нагрев или поглощение мощности в проводнике II, причем поглощенная мощность равна произведению R на квадрат тока. Другими словами, мощность Flg. 1. передается от проводника I к проводнику II. Точно таким же образом можно вывести, что мощность передается от проводника II к проводнику I. Теперь, поскольку два проводника имеют одинаковую температуру, из второго начала термодинамики непосредственно следует, что мощность, текущая в одном направлении, в точности равна что течет в другую сторону. Следует отметить, что никаких предположений относительно природы двух проводников не делалось. Один может быть из серебра, а другой из свинца, или один может быть металлическим, а другой электролитическим и т. д."
   ]
  },
  {
   "cell_type": "markdown",
   "id": "e3098461",
   "metadata": {},
   "source": [
    "It can be shown that this equilibrium condition holds not only for the total power exchanged by the conductors under the conditions assumed, but also for the power exchanged within any frequency. For, assume that this is not so and let A denote a frequency range in which conductor I delivers more power than it receives. Connect a non-dissipative network between the two conductors so designed as to interfere more with the transfer of energy in range A than in any other range, for example, a resonant circuit connected as indicated in Fig. 2 and resonant within the range A. Since there is equilibrium between the amounts of power transferred in the two directions before inserting the network, it follows that after the network is inserted more power would be transferred from conductor II to the conductor I than in the opposite direction. But since the conductors are at the same temperature, this would violate the second law of thermodynamics. We arrive, therefore, at the important conclusion that the electromotive force due to thermal agitation in conductors is a universal function of frequency, resistance and temperature and of these variables only."
   ]
  },
  {
   "cell_type": "markdown",
   "id": "db3b0140",
   "metadata": {},
   "source": [
    "Можно показать, что это условие равновесия выполняется не только для полной мощности, которой обмениваются проводники при принятых условиях, но и для мощности, обмениваемой в пределах любой частоты. Предположим, что это не так, и пусть A обозначает диапазон частот, в котором проводник I отдает больше энергии, чем получает. Подсоедините нерассеивающую сеть между двумя проводниками, сконструированную таким образом, чтобы больше мешать передаче энергии в диапазоне А, чем в любом другом диапазоне, например, резонансный контур, подключенный, как показано на рис. 2, и резонансный в диапазоне А. Поскольку существует равновесие между количествами мощности, передаваемой в двух направлениях до включения сети, из этого следует, что после включения сети из проводника II в проводник I будет передано больше мощности, чем в противоположном направлении. Но поскольку проводники имеют одинаковую температуру, это нарушило бы второй закон термодинамики. Таким образом, мы приходим к важному заключению, что электродвижущая сила, вызванная тепловым возбуждением в проводниках, является универсальной функцией частоты, сопротивления и температуры и только этих переменных."
   ]
  },
  {
   "cell_type": "code",
   "execution_count": null,
   "id": "b6b8fb72",
   "metadata": {},
   "outputs": [],
   "source": []
  }
 ],
 "metadata": {
  "kernelspec": {
   "display_name": "SageMath 9.6.beta7",
   "language": "sage",
   "name": "sagemath"
  },
  "language_info": {
   "codemirror_mode": {
    "name": "ipython",
    "version": 3
   },
   "file_extension": ".py",
   "mimetype": "text/x-python",
   "name": "python",
   "nbconvert_exporter": "python",
   "pygments_lexer": "ipython3",
   "version": "3.10.3"
  }
 },
 "nbformat": 4,
 "nbformat_minor": 5
}
