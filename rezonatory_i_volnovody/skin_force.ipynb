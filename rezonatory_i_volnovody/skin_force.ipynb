{
 "cells": [
  {
   "cell_type": "code",
   "execution_count": 1,
   "metadata": {},
   "outputs": [],
   "source": [
    "from IPython.display import display, Math, Latex"
   ]
  },
  {
   "cell_type": "code",
   "execution_count": 2,
   "metadata": {},
   "outputs": [],
   "source": [
    "mu = var('mu')\n",
    "assume(mu, 'real')\n",
    "assume(mu>0)\n",
    "\n",
    "epsilon = var('epsilon')\n",
    "assume(epsilon, 'real')\n",
    "assume(epsilon>0)\n",
    "\n",
    "s = var ('s')\n",
    "assume(s, 'real')\n",
    "assume(s>0)\n",
    "\n",
    "kappa = var ('kappa')\n",
    "assume(kappa, 'real')\n",
    "assume(kappa>0)\n",
    "\n",
    "k = var ('k')\n",
    "assume(k, 'real')\n",
    "\n",
    "a = var('a')\n",
    "assume(a, 'real')\n",
    "assume(a>0)\n",
    "\n",
    "x = var('x')\n",
    "y = var('y')\n",
    "z = var('z')\n",
    "t = var('t')\n",
    "\n",
    "assume(x, 'real')\n",
    "assume(y, 'real')\n",
    "assume(z, 'real')\n",
    "assume(t, 'real')\n",
    "\n",
    "c = var('c')\n",
    "assume(c, 'real')\n",
    "assume(c>0)\n",
    "\n",
    "omega = var('omega')\n",
    "assume(omega, 'real')\n",
    "\n",
    "alpha = var('alpha')\n",
    "assume(alpha, 'real')\n",
    "\n",
    "sigma = var('sigma')\n",
    "assume(sigma, 'real')\n",
    "\n",
    "H_0 = var('H_0')"
   ]
  },
  {
   "cell_type": "code",
   "execution_count": 3,
   "metadata": {},
   "outputs": [
    {
     "data": {
      "text/latex": [
       "$$\\frac{\\sqrt{2} c}{2 \\, \\sqrt{\\pi \\omega \\sigma}}$$"
      ],
      "text/plain": [
       "<IPython.core.display.Math object>"
      ]
     },
     "metadata": {},
     "output_type": "display_data"
    }
   ],
   "source": [
    "delta = c / sqrt(2*pi*sigma*omega)\n",
    "display(Math(latex(delta)))"
   ]
  },
  {
   "cell_type": "code",
   "execution_count": 4,
   "metadata": {},
   "outputs": [
    {
     "data": {
      "text/latex": [
       "$$H_{0} \\cos\\left(-\\omega t + \\frac{\\sqrt{2} \\sqrt{\\pi} \\sqrt{\\omega \\sigma} x}{c}\\right) e^{\\left(-\\frac{\\sqrt{2} \\sqrt{\\pi \\omega \\sigma} x}{c}\\right)}$$"
      ],
      "text/plain": [
       "<IPython.core.display.Math object>"
      ]
     },
     "metadata": {},
     "output_type": "display_data"
    }
   ],
   "source": [
    "H_y(x) = H_0 * exp(-x/delta) * cos(x/delta - omega * t)\n",
    "display(Math(latex(H_y(x))))"
   ]
  },
  {
   "cell_type": "code",
   "execution_count": 5,
   "metadata": {},
   "outputs": [
    {
     "data": {
      "text/latex": [
       "$$\\frac{1}{2} \\, H_{0} \\sqrt{\\frac{\\omega}{\\pi \\sigma}} \\cos\\left(-\\frac{1}{4} \\, \\pi - \\omega t + \\frac{\\sqrt{2} \\sqrt{\\pi} \\sqrt{\\omega \\sigma} x}{c}\\right) e^{\\left(-\\frac{\\sqrt{2} \\sqrt{\\pi \\omega \\sigma} x}{c}\\right)}$$"
      ],
      "text/plain": [
       "<IPython.core.display.Math object>"
      ]
     },
     "metadata": {},
     "output_type": "display_data"
    }
   ],
   "source": [
    "E_z(x) = H_0 * sqrt(omega/(4*pi*sigma)) * exp(-x/delta) * cos(x/delta - omega * t - pi/4)\n",
    "display(Math(latex(E_z(x))))"
   ]
  },
  {
   "cell_type": "code",
   "execution_count": 6,
   "metadata": {},
   "outputs": [
    {
     "data": {
      "text/latex": [
       "$$\\frac{1}{2} \\, H_{0} \\sigma \\sqrt{\\frac{\\omega}{\\pi \\sigma}} \\cos\\left(-\\frac{1}{4} \\, \\pi - \\omega t + \\frac{\\sqrt{2} \\sqrt{\\pi} \\sqrt{\\omega \\sigma} x}{c}\\right) e^{\\left(-\\frac{\\sqrt{2} \\sqrt{\\pi \\omega \\sigma} x}{c}\\right)}$$"
      ],
      "text/plain": [
       "<IPython.core.display.Math object>"
      ]
     },
     "metadata": {},
     "output_type": "display_data"
    }
   ],
   "source": [
    "j_z(x) = sigma * E_z(x)\n",
    "display(Math(latex(j_z(x))))"
   ]
  },
  {
   "cell_type": "code",
   "execution_count": 7,
   "metadata": {},
   "outputs": [
    {
     "name": "stdout",
     "output_type": "stream",
     "text": [
      "f_x = 1/2*H_0^2*sigma*sqrt(omega/(pi*sigma))*cos(-1/4*pi - omega*t + sqrt(2)*sqrt(pi)*sqrt(omega*sigma)*x/c)*cos(-omega*t + sqrt(2)*sqrt(pi)*sqrt(omega*sigma)*x/c)*e^(-2*sqrt(2)*sqrt(pi*omega*sigma)*x/c)/c\n"
     ]
    },
    {
     "data": {
      "text/latex": [
       "$$\\frac{H_{0}^{2} \\sigma \\sqrt{\\frac{\\omega}{\\pi \\sigma}} \\cos\\left(-\\frac{1}{4} \\, \\pi - \\omega t + \\frac{\\sqrt{2} \\sqrt{\\pi} \\sqrt{\\omega \\sigma} x}{c}\\right) \\cos\\left(-\\omega t + \\frac{\\sqrt{2} \\sqrt{\\pi} \\sqrt{\\omega \\sigma} x}{c}\\right) e^{\\left(-\\frac{2 \\, \\sqrt{2} \\sqrt{\\pi \\omega \\sigma} x}{c}\\right)}}{2 \\, c}$$"
      ],
      "text/plain": [
       "<IPython.core.display.Math object>"
      ]
     },
     "metadata": {},
     "output_type": "display_data"
    }
   ],
   "source": [
    "# Abraham force\n",
    "# (epsilon * mu - 1) / (4 * pi * c) * ([E x H]).diff(t)\n",
    "# (epsilon * mu - 1) / (4 * pi * c) * ([E.diff(t) x H] + [E x H.diff(t)])\n",
    "# ([a x b])_x = a_y * b_z - a_z * b_y\n",
    "# f_x = (epsilon * mu - 1) / (4 * pi * c) * (-E_z.diff(t) * H_y - E_z * H_y.diff(t))\n",
    "\n",
    "#\n",
    "# alpha = - omega * t\n",
    "#\n",
    "\n",
    "# f_x = (epsilon * mu - 1) / (4 * pi * c) * \n",
    "#       integrate(\n",
    "#         ( - Re(-I*omega * E_z * e^alpha) * Re(H_y * e^alpha)) +\n",
    "#         ( - Re(E_z * e^alpha) * Re(-I*omega * H_y * e^alpha)) \n",
    "#       (alpha, 0, 2*pi))\n",
    "\n",
    "\n",
    "# f_x = (epsilon * mu - 1) / (2 * 4 * pi * c) * (\n",
    "#             ( - Re(-I*omega * E_z) * Re(H_y) - Im(-I*omega * E_z) * Im(H_y)) +\n",
    "#             ( - Re(E_z) * Re(-I*omega * H_y) - Im(E_z) * Im(-I*omega * H_y)) \n",
    "#       )\n",
    "\n",
    "f_x(x) = 1 / c * j_z(x) * H_y(x) \n",
    "print(\"f_x =\", f_x(x))\n",
    "display(Math(latex(f_x(x))))"
   ]
  },
  {
   "cell_type": "code",
   "execution_count": 8,
   "metadata": {},
   "outputs": [
    {
     "data": {
      "text/plain": [
       "1/2*H_0^2*sigma*sqrt(omega/(pi*sigma))*cos(-1/4*pi + sqrt(2)*sqrt(pi)*sqrt(omega*sigma)*x/c - alpha)*cos(sqrt(2)*sqrt(pi)*sqrt(omega*sigma)*x/c - alpha)*e^(-2*sqrt(2)*sqrt(pi*omega*sigma)*x/c)/c"
      ]
     },
     "execution_count": 8,
     "metadata": {},
     "output_type": "execute_result"
    }
   ],
   "source": [
    "exec(preparse(\"f_x_s(x) = \" + str(f_x(x)).replace('omega*t', 'alpha')))\n",
    "f_x_s(x)"
   ]
  },
  {
   "cell_type": "code",
   "execution_count": 9,
   "metadata": {},
   "outputs": [
    {
     "data": {
      "text/latex": [
       "$$\\frac{{\\left(\\sqrt{2} {\\left(4 \\, \\pi - \\sqrt{2} \\sin\\left(-\\frac{17}{4} \\, \\pi + \\frac{2 \\, \\sqrt{2} \\sqrt{\\pi} \\sqrt{\\omega \\sigma} x}{c}\\right)\\right)} + 2 \\, \\sin\\left(-\\frac{1}{4} \\, \\pi + \\frac{2 \\, \\sqrt{2} \\sqrt{\\pi} \\sqrt{\\omega \\sigma} x}{c}\\right)\\right)} H_{0}^{2} \\sigma \\sqrt{\\frac{\\omega}{\\pi \\sigma}} e^{\\left(-\\frac{2 \\, \\sqrt{2} \\sqrt{\\pi \\omega \\sigma} x}{c}\\right)}}{16 \\, c}$$"
      ],
      "text/plain": [
       "<IPython.core.display.Math object>"
      ]
     },
     "metadata": {},
     "output_type": "display_data"
    }
   ],
   "source": [
    "F_x(x) = integrate(f_x_s(x), (alpha, 0, 2*pi))\n",
    "display(Math(latex(F_x(x))))"
   ]
  },
  {
   "cell_type": "code",
   "execution_count": 47,
   "metadata": {},
   "outputs": [
    {
     "data": {
      "text/latex": [
       "$$\\frac{70142.0639738133 \\, {\\left(\\sqrt{2} {\\left(4 \\, \\pi - \\sqrt{2} \\sin\\left(-\\frac{17}{4} \\, \\pi + 2.24454604716203 \\times 10^{6} \\, \\sqrt{2} \\sqrt{\\pi} x\\right)\\right)} + 2 \\, \\sin\\left(-\\frac{1}{4} \\, \\pi + 2.24454604716203 \\times 10^{6} \\, \\sqrt{2} \\sqrt{\\pi} x\\right)\\right)} {\\left(\\cosh\\left(2.24454604716203 \\times 10^{6} \\, \\sqrt{2} \\sqrt{\\pi} x\\right) - \\sinh\\left(2.24454604716203 \\times 10^{6} \\, \\sqrt{2} \\sqrt{\\pi} x\\right)\\right)}}{\\sqrt{\\pi}}$$"
      ],
      "text/plain": [
       "<IPython.core.display.Math object>"
      ]
     },
     "metadata": {},
     "output_type": "display_data"
    }
   ],
   "source": [
    "Au_sigma_SI = 42.2 * 10^6 # Sm/m\n",
    "Au_sigma_sgse = 9*10^9 * Au_sigma_SI\n",
    "digit_values = [sigma == Au_sigma_sgse, c == 299792458 * 100 , epsilon == 1, mu == 1, H_0 == 1, omega == 2.98046134067856e15]\n",
    "F_x_d(x) = F_x(x).subs(digit_values)\n",
    "display(Math(latex(F_x_d(x))))"
   ]
  },
  {
   "cell_type": "code",
   "execution_count": 48,
   "metadata": {},
   "outputs": [
    {
     "data": {
      "text/plain": [
       "3.55477029224551e-7"
      ]
     },
     "execution_count": 48,
     "metadata": {},
     "output_type": "execute_result"
    }
   ],
   "source": [
    "delta .subs(digit_values).n()"
   ]
  },
  {
   "cell_type": "code",
   "execution_count": 49,
   "metadata": {},
   "outputs": [
    {
     "data": {
      "text/plain": [
       "0.00355477029224551"
      ]
     },
     "execution_count": 49,
     "metadata": {},
     "output_type": "execute_result"
    }
   ],
   "source": [
    "# мкм\n",
    "delta .subs(digit_values).n()*10*1000 "
   ]
  },
  {
   "cell_type": "code",
   "execution_count": 52,
   "metadata": {},
   "outputs": [
    {
     "data": {
      "image/png": "[encoded data removed]",
      "text/plain": [
       "Graphics object consisting of 1 graphics primitive"
      ]
     },
     "execution_count": 52,
     "metadata": {},
     "output_type": "execute_result"
    }
   ],
   "source": [
    "plot(F_x_d(x), (x, 0, 0.000001))"
   ]
  },
  {
   "cell_type": "code",
   "execution_count": 53,
   "metadata": {},
   "outputs": [],
   "source": [
    "int_F_x(x) = integrate(F_x(x), x)"
   ]
  },
  {
   "cell_type": "code",
   "execution_count": 54,
   "metadata": {},
   "outputs": [
    {
     "data": {
      "text/plain": [
       "-1/64*(8*pi*c*e^(-2*sqrt(2)*sqrt(pi*omega*sigma)*x/c)/sqrt(pi*omega*sigma) + (sqrt(2)*sqrt(pi)*sqrt(omega*sigma)*cos(-1/4*pi + 2*sqrt(2)*sqrt(pi)*sqrt(omega*sigma)*x/c)/c + sqrt(2)*sqrt(pi*omega*sigma)*sin(-1/4*pi + 2*sqrt(2)*sqrt(pi)*sqrt(omega*sigma)*x/c)/c)*c^2*e^(-2*sqrt(2)*sqrt(pi*omega*sigma)*x/c)/(pi*omega*sigma) - (sqrt(2)*sqrt(pi)*sqrt(omega*sigma)*cos(-17/4*pi + 2*sqrt(2)*sqrt(pi)*sqrt(omega*sigma)*x/c)/c + sqrt(2)*sqrt(pi*omega*sigma)*sin(-17/4*pi + 2*sqrt(2)*sqrt(pi)*sqrt(omega*sigma)*x/c)/c)*c^2*e^(-2*sqrt(2)*sqrt(pi*omega*sigma)*x/c)/(pi*omega*sigma))*H_0^2*sigma*sqrt(omega/(pi*sigma))/c"
      ]
     },
     "execution_count": 54,
     "metadata": {},
     "output_type": "execute_result"
    }
   ],
   "source": [
    "int_F_x(x)"
   ]
  },
  {
   "cell_type": "code",
   "execution_count": 55,
   "metadata": {},
   "outputs": [
    {
     "data": {
      "text/latex": [
       "$$-\\frac{17535.5159934533 \\, {\\left(\\left(7.12839017948871 \\times 10^{-6}\\right) \\, \\sqrt{\\pi} {\\left(\\cosh\\left(2.24454604716203 \\times 10^{6} \\, \\sqrt{2} \\sqrt{\\pi} x\\right) - \\sinh\\left(2.24454604716203 \\times 10^{6} \\, \\sqrt{2} \\sqrt{\\pi} x\\right)\\right)} + \\frac{\\left(7.93967914859861 \\times 10^{-13}\\right) \\, {\\left(1.12227302358101 \\times 10^{6} \\, \\sqrt{2} \\sqrt{\\pi} \\cos\\left(-\\frac{1}{4} \\, \\pi + 2.24454604716203 \\times 10^{6} \\, \\sqrt{2} \\sqrt{\\pi} x\\right) + 1.12227302358101 \\times 10^{6} \\, \\sqrt{2} \\sqrt{\\pi} \\sin\\left(-\\frac{1}{4} \\, \\pi + 2.24454604716203 \\times 10^{6} \\, \\sqrt{2} \\sqrt{\\pi} x\\right)\\right)} {\\left(\\cosh\\left(2.24454604716203 \\times 10^{6} \\, \\sqrt{2} \\sqrt{\\pi} x\\right) - \\sinh\\left(2.24454604716203 \\times 10^{6} \\, \\sqrt{2} \\sqrt{\\pi} x\\right)\\right)}}{\\pi} - \\frac{\\left(7.93967914859861 \\times 10^{-13}\\right) \\, {\\left(1.12227302358101 \\times 10^{6} \\, \\sqrt{2} \\sqrt{\\pi} \\cos\\left(-\\frac{17}{4} \\, \\pi + 2.24454604716203 \\times 10^{6} \\, \\sqrt{2} \\sqrt{\\pi} x\\right) + 1.12227302358101 \\times 10^{6} \\, \\sqrt{2} \\sqrt{\\pi} \\sin\\left(-\\frac{17}{4} \\, \\pi + 2.24454604716203 \\times 10^{6} \\, \\sqrt{2} \\sqrt{\\pi} x\\right)\\right)} {\\left(\\cosh\\left(2.24454604716203 \\times 10^{6} \\, \\sqrt{2} \\sqrt{\\pi} x\\right) - \\sinh\\left(2.24454604716203 \\times 10^{6} \\, \\sqrt{2} \\sqrt{\\pi} x\\right)\\right)}}{\\pi}\\right)}}{\\sqrt{\\pi}}$$"
      ],
      "text/plain": [
       "<IPython.core.display.Math object>"
      ]
     },
     "metadata": {},
     "output_type": "display_data"
    }
   ],
   "source": [
    "int_F_x_d(x) = int_F_x(x).subs(digit_values)\n",
    "display(Math(latex(int_F_x_d(x))))"
   ]
  },
  {
   "cell_type": "code",
   "execution_count": 57,
   "metadata": {},
   "outputs": [
    {
     "data": {
      "image/png": "[encoded data removed]",
      "text/plain": [
       "Graphics object consisting of 1 graphics primitive"
      ]
     },
     "execution_count": 57,
     "metadata": {},
     "output_type": "execute_result"
    }
   ],
   "source": [
    "plot(int_F_x_d(x), (x, 0, 0.000001))"
   ]
  },
  {
   "cell_type": "code",
   "execution_count": 58,
   "metadata": {},
   "outputs": [
    {
     "data": {
      "text/plain": [
       "-0.125000000000000"
      ]
     },
     "execution_count": 58,
     "metadata": {},
     "output_type": "execute_result"
    }
   ],
   "source": [
    "int_F_x_d(0)"
   ]
  },
  {
   "cell_type": "code",
   "execution_count": 59,
   "metadata": {},
   "outputs": [
    {
     "data": {
      "text/plain": [
       "0"
      ]
     },
     "execution_count": 59,
     "metadata": {},
     "output_type": "execute_result"
    }
   ],
   "source": [
    "int_F_x_d(0.001).n()"
   ]
  },
  {
   "cell_type": "code",
   "execution_count": 60,
   "metadata": {},
   "outputs": [],
   "source": [
    "F(x) = -int_F_x(0)"
   ]
  },
  {
   "cell_type": "code",
   "execution_count": 61,
   "metadata": {},
   "outputs": [
    {
     "data": {
      "text/latex": [
       "$$\\frac{\\pi H_{0}^{2} \\sigma \\sqrt{\\frac{\\omega}{\\pi \\sigma}}}{8 \\, \\sqrt{\\pi \\omega \\sigma}}$$"
      ],
      "text/plain": [
       "<IPython.core.display.Math object>"
      ]
     },
     "metadata": {},
     "output_type": "display_data"
    }
   ],
   "source": [
    "display(Math(latex(F(x).full_simplify())))"
   ]
  },
  {
   "cell_type": "code",
   "execution_count": 63,
   "metadata": {},
   "outputs": [
    {
     "data": {
      "image/png": "[encoded data removed]",
      "text/plain": [
       "Graphics object consisting of 1 graphics primitive"
      ]
     },
     "execution_count": 63,
     "metadata": {},
     "output_type": "execute_result"
    }
   ],
   "source": [
    "digit_values2 = [c == 299792458 * 100 , epsilon == 1, mu == 1, H_0 == 1, omega == 1000]\n",
    "plot(F(x).subs(digit_values2), sigma, 1, 10000)"
   ]
  },
  {
   "cell_type": "code",
   "execution_count": null,
   "metadata": {},
   "outputs": [],
   "source": []
  },
  {
   "cell_type": "code",
   "execution_count": null,
   "metadata": {},
   "outputs": [],
   "source": []
  }
 ],
 "metadata": {
  "kernelspec": {
   "display_name": "SageMath 9.1",
   "language": "sage",
   "name": "sagemath"
  },
  "language_info": {
   "codemirror_mode": {
    "name": "ipython",
    "version": 3
   },
   "file_extension": ".py",
   "mimetype": "text/x-python",
   "name": "python",
   "nbconvert_exporter": "python",
   "pygments_lexer": "ipython3",
   "version": "3.7.9"
  }
 },
 "nbformat": 4,
 "nbformat_minor": 2
}
