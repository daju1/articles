{
 "cells": [
  {
   "cell_type": "code",
   "execution_count": null,
   "metadata": {},
   "outputs": [],
   "source": [
    "#import numpy as np\n",
    "start = True\n",
    "eps = 1e-9\n",
    "theta = 0.0\n",
    "#for theta in np.arange(0,2*pi, eps):\n",
    "while True:\n",
    "    tst = sin(theta).n()^2 + cos(theta).n()^2\n",
    "    if True == start:\n",
    "        max_tst = tst\n",
    "        min_tst = tst\n",
    "        start = False\n",
    "    else:\n",
    "        if  max_tst < tst:\n",
    "            max_tst = tst\n",
    "        if  min_tst > tst:\n",
    "            min_tst = tst\n",
    "    theta = theta + eps\n",
    "    if theta > 2*pi:\n",
    "        break\n",
    "        \n",
    "print(max_tst, min_tst)"
   ]
  },
  {
   "cell_type": "code",
   "execution_count": null,
   "metadata": {},
   "outputs": [],
   "source": []
  }
 ],
 "metadata": {
  "kernelspec": {
   "display_name": "SageMath 9.1",
   "language": "sage",
   "name": "sagemath"
  },
  "language_info": {
   "codemirror_mode": {
    "name": "ipython",
    "version": 3
   },
   "file_extension": ".py",
   "mimetype": "text/x-python",
   "name": "python",
   "nbconvert_exporter": "python",
   "pygments_lexer": "ipython3",
   "version": "3.7.9"
  }
 },
 "nbformat": 4,
 "nbformat_minor": 2
}
