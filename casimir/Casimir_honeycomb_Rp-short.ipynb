{
 "cells": [
  {
   "cell_type": "markdown",
   "metadata": {},
   "source": [
    "# Abstract\n",
    "\n",
    "В данной работе я, развивая подход Казимира, показываю что по аналогии с обычным эффектом Казимира, когда на каждую из двух пластин действует приталкивающая сила Казимира как разность электромагнитных давлений квантовых колебаний вакуума нулевой температуры по разные стороны каждой из пластин, за счет того, что геометрия вакуумного резонатора во внутренней и во внешней области различна, можно попытаться создать разность электромагнитных давлений квантовых колебаний вакуума по разные стороны только лишь одной пластины за счет различия геометрии вакуумных резонаторов по обе ее стороны. Для этого на одной из поверхностей гладкой металлической пластины нужно вырастить наносоты.\n",
    "\n",
    "В данной работе для простоты расчётов я анализирую наносоты квадратной формы. Результат моего расчёта может быть с некоторой неизвестной пока поправкой использован для оценки эффекта Казимира в сотах например шестигранной формы, изготовление которых является более простой задачей, однако строгий расчёт полей для шестигранной формы сот более сложен."
   ]
  },
  {
   "cell_type": "markdown",
   "metadata": {},
   "source": [
    "# Keyword list\n",
    "Two dimensional Casimir effect, two dimensional Euler-Maclaurin formula"
   ]
  },
  {
   "cell_type": "markdown",
   "metadata": {},
   "source": [
    "# Introduction\n",
    "\n",
    "The roots of the Casimir effect date back to the introduction by Planck in 1911 of half-quanta in the context of black-body radiation.  The Casimir effect, discovered in the seminal paper by Casimir (1948), is one of the most direct manifestations of a quantum and\n",
    "relativistic phenomenon caused by the zero-point oscillations of quantized fields.\n",
    "\n",
    "Both infinite quantities were made finite through the use of a procedure called regularization. After subtraction, the regularization was removed, leaving a finite result, which leads to the Casimir force.\n",
    "\n",
    "The Casimir effect in its simplest form is the attraction of\n",
    "a pair of neutral, parallel conducting plates resulting from the modification of the electromagnetic vacuum by the boundaries.\n",
    "\n",
    "\n",
    "The calculation of the Casimir force is a particularly complicated theoretical problem. Remarkably, for closed configurations, i.e. for the Casimir effect for one body instead of two, the Casimir force can be not only attractive but also repulsive. As was shown by Boyer (1968), the latter is true for an ideal metal spherical shell."
   ]
  },
  {
   "cell_type": "markdown",
   "metadata": {},
   "source": [
    "# References\n",
    "\n",
    "Mathematics. - On the attraction between two perfectly conducting\n",
    "plates. By H . B. G. CASIMIR.\n",
    "(Communicated at the meeting of May 29. 1948.)\n",
    "\n",
    "Casimir, H. B. G. (1948). On the attraction between two perfectly conducting plates. Proc. K. Ned. Akad. Wet. B 51, 793–5.\n",
    "https://www.dwc.knaw.nl/DL/publications/PU00018547.pdf\n",
    "\n",
    "Boyer, T. H. (1968). Quantum electromagnetic zero-point energy of a conducting spherical shell and Casimir model for a charged particle. Phys. Rev. 174, 1764–76.\n",
    "\n",
    "https://www.journals.vu.lt/LMJ/article/view/20600/19701 ФОРМУЛА СУММИРОВАНИЯ ЭЙЛЕРА—МАКЛОРЕНА ДЛЯ ФУНКЦИИ МНОГИХ ПЕРЕМЕННЫХ А.БИКЯЛИС VIII LIETUVOS MATEMATIKOS RINKINYS 4 ЛИТОВСКИЙ МАТЕМАТИЧЕСКИЙ СБОРНИК 1968"
   ]
  },
  {
   "cell_type": "markdown",
   "metadata": {},
   "source": [
    "\n",
    "# On the force on different sides of perfectly conducting honeycomb on a plate.\n",
    "\n",
    "By A. Ju. Drozdov\n",
    "\n",
    "(Feb 14. 2021. - Feb 09. 2022 - July 20 2022 - Sept 1 2022) "
   ]
  },
  {
   "cell_type": "markdown",
   "metadata": {},
   "source": [
    "Let us consider a cubic cavity of volume $L^3$ bounded by perfectly conducting walls and let a perfectly conducting square plate with side $L$ be\n",
    "placed in this cavity parallel to the $xy$ face and let us compare the\n",
    "situation in whieh this plate is at a very large, say $L/2$ distance a from the $xy$ face. \n",
    "\n",
    "One side of this perfectly conducting square plate is a pure plane and other is covered by perfectly conducting honeycomb.\n",
    "\n",
    "On both sided of the the plate\n",
    "expressions $\\frac{1}{2}\\sum\\,\\hbar\\omega$ where the summation extends over all possible\n",
    "resonance frequencies of the cavity $L/2\\times L\\times L$ (large cavity beetween pure plane and $xy$ face) and the cavity $L/2\\times a\\times a$ (small cavity, one honeycomb) are divergent and devoid of physical\n",
    "meaning but the difference between these sums on the opposite sides,\n",
    "$\\frac{1}{2\\,V_{I}}\\left(\\sum\\,\\,\\hbar\\omega\\right)_{I} - \\frac{1}{2\\,V_{II}}\\left(\\sum\\,\\,\\hbar\\omega\\right)_{II}$, will be shown to have a weIl defined value and this\n",
    "value will be interpreted as the interaction between the plate and the both\n",
    "$xy$ faces."
   ]
  },
  {
   "cell_type": "markdown",
   "metadata": {},
   "source": [
    "The possible vibrations of the cavities defined by "
   ]
  },
  {
   "cell_type": "markdown",
   "metadata": {},
   "source": [
    "$0<=x<=L$, $0<=y<=L$, $0<=z<=L/2$ (large cavity beetween pure plane and $xy$ face)"
   ]
  },
  {
   "cell_type": "markdown",
   "metadata": {},
   "source": [
    "and"
   ]
  },
  {
   "cell_type": "markdown",
   "metadata": {},
   "source": [
    "$0<=x<=a$, $0<=y<=a$, $0<=z<=L/2$ (small cavity, one honeycomb)"
   ]
  },
  {
   "cell_type": "markdown",
   "metadata": {},
   "source": [
    "have wave vectors"
   ]
  },
  {
   "cell_type": "markdown",
   "metadata": {},
   "source": [
    "$k_x = \\frac{\\pi}{L}\\,n_x$, $k_y = \\frac{\\pi}{L}\\,n_y$, $k_z = \\frac{\\pi}{L/2}\\,n_z$ (large cavity beetween pure plane and $xy$ face),"
   ]
  },
  {
   "cell_type": "markdown",
   "metadata": {},
   "source": [
    "and"
   ]
  },
  {
   "cell_type": "markdown",
   "metadata": {},
   "source": [
    "$k_x = \\frac{\\pi}{a}\\,n_x$, $k_y = \\frac{\\pi}{a}\\,n_y$, $k_z = \\frac{\\pi}{L/2}\\,n_z$ (small cavity, one honeycomb),\n",
    "\n",
    "where $n_x$. $n_y$, $n_z$:\n",
    "\n",
    "are positive integers;"
   ]
  },
  {
   "cell_type": "markdown",
   "metadata": {},
   "source": [
    "$k = \\sqrt{k_x^2+k_y^2+k_z^2} = \\sqrt{\\kappa^2+k_z^2}$. "
   ]
  },
  {
   "cell_type": "markdown",
   "metadata": {},
   "source": [
    "$E = \\frac{1}{2}\\sum\\,\\hbar\\omega = \\hbar\\,c\\frac{1}{2}\\sum\\limits_{n_x}^{}\\sum\\limits_{n_y}^{}\\sum\\limits_{n_z}^{}k$"
   ]
  },
  {
   "cell_type": "markdown",
   "metadata": {},
   "source": [
    "To every $k_x$, $k_y$, $k_z$ correspond two standing waves unless one of the $n_i$\n",
    "is zero, when there is only one."
   ]
  },
  {
   "cell_type": "markdown",
   "metadata": {},
   "source": [
    "In case of one honeycomb cavity for $k_z$ this is without importance since\n",
    "for very large $L/2$ we may regard $k_z$ as continuous variable. Thus we\n",
    "find "
   ]
  },
  {
   "cell_type": "markdown",
   "metadata": {},
   "source": [
    "$\\frac{1}{2}\\sum\\,\\hbar\\omega = \\hbar\\,c\\frac{1}{2}\\int\\limits_{0}^{\\infty}\\left[{\\sqrt{k_z^2}+2\\sum\\limits_{n_x=1}^{\\infty}\\sum\\limits_{n_y=1}^{\\infty}\\sqrt{n_x^2\\frac{\\pi^2}{a^2}+n_y^2\\frac{\\pi^2}{a^2}+k_z^2}}\\right]d{n_z}$  (small cavity, one honeycomb),"
   ]
  },
  {
   "cell_type": "markdown",
   "metadata": {},
   "source": [
    "$dn_z = \\frac{L/2}{\\pi}\\,dk_z$,"
   ]
  },
  {
   "cell_type": "markdown",
   "metadata": {},
   "source": [
    "Now we can find the specific energy density $E/V$, where $V = V_{small} = L/2 a^2$:"
   ]
  },
  {
   "cell_type": "markdown",
   "metadata": {},
   "source": [
    "$\\frac{1}{2\\,V}\\sum\\,\\hbar\\omega = \\frac{\\hbar\\,c}{a^2\\,L/2}\\frac{1}{2}\\int\\limits_{0}^{\\infty}\\left[{\\sqrt{k_z^2}+2\\sum\\limits_{n_x=1}^{\\infty}\\sum\\limits_{n_y=1}^{\\infty}\\sqrt{n_x^2\\frac{\\pi^2}{a^2}+n_y^2\\frac{\\pi^2}{a^2}+k_z^2}}\\right]\\frac{L/2}{\\pi}\\,dk_z$  (small cavity, one honeycomb),"
   ]
  },
  {
   "cell_type": "markdown",
   "metadata": {},
   "source": [
    "$\\frac{1}{2\\,V}\\sum\\,\\hbar\\omega = \\frac{\\hbar\\,c}{a^2\\,\\pi}\\int\\limits_{0}^{\\infty}\\left[{\\frac{1}{2}\\sqrt{k_z^2}+\\sum\\limits_{n_x=1}^{\\infty}\\sum\\limits_{n_y=1}^{\\infty}\\sqrt{n_x^2\\frac{\\pi^2}{a^2}+n_y^2\\frac{\\pi^2}{a^2}+k_z^2}}\\right]\\,dk_z$  (small cavity, one honeycomb),"
   ]
  },
  {
   "cell_type": "markdown",
   "metadata": {},
   "source": [
    "$\\frac{1}{2\\,V}\\sum\\,\\hbar\\omega = \\frac{\\hbar\\,c}{a^2\\,\\pi}\\int\\limits_{0}^{\\infty}\\left[{\\sum\\limits_{n_x=(0)1}^{\\infty}\\sum\\limits_{n_y=(0)1}^{\\infty}\\sqrt{n_x^2\\frac{\\pi^2}{a^2}+n_y^2\\frac{\\pi^2}{a^2}+k_z^2}}\\right]\\,dk_z$  (small cavity, one honeycomb),"
   ]
  },
  {
   "cell_type": "markdown",
   "metadata": {},
   "source": [
    "where the notation $\\left(0\\right) 1$ is meant to indicate that the term with $n_x = 0$ and $n_y = 0$\n",
    "has to be multiplied by $\\frac{1}{2}$. "
   ]
  },
  {
   "cell_type": "markdown",
   "metadata": {},
   "source": [
    "$\\frac{1}{2\\,V}\\sum\\,\\hbar\\omega = \\frac{\\hbar\\,c}{a^2\\,\\pi}\\sum\\limits_{n_x=(0)1}^{\\infty}\\sum\\limits_{n_y=(0)1}^{\\infty}\\left[\\int\\limits_{0}^{\\infty}\\sqrt{n_x^2\\frac{\\pi^2}{a^2}+n_y^2\\frac{\\pi^2}{a^2}+k_z^2}\\,dk_z\\right]$  (small cavity, one honeycomb),"
   ]
  },
  {
   "cell_type": "raw",
   "metadata": {},
   "source": []
  },
  {
   "cell_type": "markdown",
   "metadata": {},
   "source": [
    "And in case of large cavity for $k_x$, $k_y$ this is without importance since\n",
    "for very large $L$ we may regard $k_x$, $k_y$ as continuous variables. Thus we\n",
    "find "
   ]
  },
  {
   "cell_type": "markdown",
   "metadata": {},
   "source": [
    "$\\frac{1}{2}\\sum\\,\\hbar\\omega = \\hbar\\,c\\frac{1}{2}\\int\\limits_{0}^{\\infty}\\int\\limits_{0}^{\\infty}\\left[{\\sqrt{k_x^2+k_y^2}+2\\sum\\limits_{n_z=1}^{\\infty}\\sqrt{n_z^2\\frac{\\pi^2}{(L/2)^2}+k_x^2+k_y^2}}\\right]d{n_x}d{n_y}$ (large cavity beetween pure plane and $xy$ face),"
   ]
  },
  {
   "cell_type": "markdown",
   "metadata": {},
   "source": [
    "For very large $L/2$ also this last summation may\n",
    "be replaced by an integral and it is therefore easily seen that energy is given by "
   ]
  },
  {
   "cell_type": "markdown",
   "metadata": {},
   "source": [
    "$\\frac{1}{2}\\sum\\,\\hbar\\omega = \\hbar\\,c\\int\\limits_{0}^{\\infty}\\int\\limits_{0}^{\\infty}\\int\\limits_{0}^{\\infty}\\sqrt{k_z^2+k_x^2+k_y^2}\\,d{n_x}\\,d{n_y}\\,d{n_z}$ (large cavity beetween pure plane and $xy$ face),"
   ]
  },
  {
   "cell_type": "markdown",
   "metadata": {},
   "source": [
    "$dn_x = \\frac{L}{\\pi}\\,dk_x$, $dn_y = \\frac{L}{\\pi}\\,dk_y$, $dn_z = \\frac{L/2}{\\pi}\\,dk_z$,"
   ]
  },
  {
   "cell_type": "markdown",
   "metadata": {},
   "source": [
    "Now we can find the specific energy density $E/V$, where $V = V_{large} = L^3/2$ :"
   ]
  },
  {
   "cell_type": "markdown",
   "metadata": {},
   "source": [
    "$\\frac{1}{2\\,V}\\sum\\,\\hbar\\omega = \\frac{\\hbar\\,c}{L^3/2}\\int\\limits_{0}^{\\infty}\\int\\limits_{0}^{\\infty}\\int\\limits_{0}^{\\infty}\\sqrt{k_z^2+k_x^2+k_y^2}\\,dn_x\\,dn_y\\,\\frac{L/2}{\\pi}\\,dk_z$ (large cavity beetween pure plane and $xy$ face),"
   ]
  },
  {
   "cell_type": "markdown",
   "metadata": {},
   "source": [
    "$\\frac{1}{2\\,V}\\sum\\,\\hbar\\omega = \\frac{\\hbar\\,c}{L^2\\,\\pi}\\int\\limits_{0}^{\\infty}\\int\\limits_{0}^{\\infty}\\left[\\,\\int\\limits_{0}^{\\infty}\\sqrt{k_z^2+k_x^2+k_y^2}\\,dk_z\\right]\\,dn_x\\,dn_y$ (large cavity beetween pure plane and $xy$ face),"
   ]
  },
  {
   "cell_type": "raw",
   "metadata": {},
   "source": []
  },
  {
   "cell_type": "markdown",
   "metadata": {},
   "source": [
    "$\\frac{1}{2\\,V}\\sum\\,\\hbar\\omega = \\frac{\\hbar\\,c}{L^2\\,\\pi}\\int\\limits_{0}^{\\infty}\\int\\limits_{0}^{\\infty}\\left[\\,\\int\\limits_{0}^{\\infty}\\sqrt{k_x^2+k_y^2+k_z^2}\\,dk_z\\right]\\,dn_x\\,dn_y$ (large cavity beetween pure plane and $xy$ face),"
   ]
  },
  {
   "cell_type": "markdown",
   "metadata": {},
   "source": [
    "$\\frac{1}{2\\,V}\\sum\\,\\hbar\\omega = \\frac{\\hbar\\,c}{L^2\\,\\pi}\\int\\limits_{0}^{\\infty}\\int\\limits_{0}^{\\infty}\\left[\\,\\int\\limits_{0}^{\\infty}\\sqrt{k_x^2+k_y^2+k_z^2}\\,dk_z\\right]\\,\\left(\\frac{L}{\\pi}dk_x\\right)\\,\\left(\\frac{L}{\\pi}dk_y\\right)$ (large cavity beetween pure plane and $xy$ face),"
   ]
  },
  {
   "cell_type": "markdown",
   "metadata": {},
   "source": [
    "$\\frac{1}{2\\,V}\\sum\\,\\hbar\\omega = \\frac{\\hbar\\,c}{a^2\\,\\pi}\\int\\limits_{0}^{\\infty}\\int\\limits_{0}^{\\infty}\\left[\\,\\int\\limits_{0}^{\\infty}\\sqrt{k_x^2+k_y^2+k_z^2}\\,dk_z\\right]\\,\\left(\\frac{a}{\\pi}dk_x\\right)\\,\\left(\\frac{a}{\\pi}dk_y\\right)$ (large cavity beetween pure plane and $xy$ face),"
   ]
  },
  {
   "cell_type": "markdown",
   "metadata": {},
   "source": [
    "$\\frac{1}{2\\,V}\\sum\\,\\hbar\\omega = \\frac{\\hbar\\,c}{a^2\\,\\pi}\\sum\\limits_{n_x=(0)1}^{\\infty}\\sum\\limits_{n_y=(0)1}^{\\infty}\\left[\\,\\int\\limits_{0}^{\\infty}\\sqrt{n_x^2\\frac{\\pi^2}{a^2}+n_y^2\\frac{\\pi^2}{a^2}+k_z^2}\\,dk_z\\right]$  (small cavity, one honeycomb),"
   ]
  },
  {
   "cell_type": "markdown",
   "metadata": {},
   "source": [
    "it is therefore easily seen that our interaction energy is given by "
   ]
  },
  {
   "cell_type": "markdown",
   "metadata": {},
   "source": [
    "$\\delta\\,\\frac{E}{V} = \\frac{\\hbar\\,c}{a^2\\,\\pi}\\left\\{\\sum\\limits_{n_x=(0)1}^{\\infty}\\sum\\limits_{n_y=(0)1}^{\\infty}\\left[\\,\\int\\limits_{0}^{\\infty}\\sqrt{n_x^2\\frac{\\pi^2}{a^2}+n_y^2\\frac{\\pi^2}{a^2}+k_z^2}\\,dk_z\\right] - \\int\\limits_{0}^{\\infty}\\int\\limits_{0}^{\\infty}\\left[\\,\\int\\limits_{0}^{\\infty}\\sqrt{k_x^2+k_y^2+k_z^2}\\,dk_z\\right]\\,\\left(\\frac{a}{\\pi}dk_x\\right)\\,\\left(\\frac{a}{\\pi}dk_y\\right)\\right\\}$"
   ]
  },
  {
   "cell_type": "markdown",
   "metadata": {},
   "source": [
    "$\\delta\\,\\frac{E}{V} = \\frac{\\hbar\\,c}{a^2\\,\\pi}\\left\\{\\sum\\limits_{n_x=(0)1}^{\\infty}\\sum\\limits_{n_y=(0)1}^{\\infty}\\left[\\,\\int\\limits_{0}^{\\infty}\\sqrt{n_x^2\\frac{\\pi^2}{a^2}+n_y^2\\frac{\\pi^2}{a^2}+k_z^2}\\,dk_z\\right] - \\int\\limits_{0}^{\\infty}\\int\\limits_{0}^{\\infty}\\left[\\,\\int\\limits_{0}^{\\infty}\\sqrt{k_x^2+k_y^2+k_z^2}\\,dk_z\\right]\\,dn_x\\,dn_y\\right\\}$"
   ]
  },
  {
   "cell_type": "raw",
   "metadata": {},
   "source": []
  },
  {
   "cell_type": "markdown",
   "metadata": {},
   "source": [
    "${\\left(\\frac{E}{V}\\right)_{small\\,cavity} = \\frac{1}{a^2}\\hbar \\, \\sum\\limits_{n_x=(0)1}^{\\infty}\\sum\\limits_{n_y=(0)1}^{\\infty}\\,\\int\\limits_{0}^{\\infty} {\\frac {dk_{z}}{\\pi}}\\omega _{n_x,n_y}.}$"
   ]
  },
  {
   "cell_type": "markdown",
   "metadata": {},
   "source": [
    "where $\\omega _{n_x,n_y} = c\\,\\sqrt{n_x^2\\frac{\\pi^2}{a^2}+n_y^2\\frac{\\pi^2}{a^2}+k_z^2}$"
   ]
  },
  {
   "cell_type": "markdown",
   "metadata": {},
   "source": [
    "This expression is clearly infinite, and to proceed with the calculation, it is convenient to introduce a regulator."
   ]
  },
  {
   "cell_type": "markdown",
   "metadata": {},
   "source": [
    "In order to obtain a finite result it is necessary to multiply the integrands\n",
    "by a function $f(k/k_m)$ which is unity for $k << k_m$ but tends to zero sufficiently rapidly for $(k/k_m)\\, \\rightarrow\\,\\infty$. where $k_m$ may be defined by $f(1) = \\frac{1}{2}$.\n",
    "The physical meaning is obvious: for very short waves (X~rays e.g.)\n",
    "our plate is hardly an obstacle at all and therefore the zero point energy\n",
    "of these waves will not be influenced by the position of this plate. "
   ]
  },
  {
   "cell_type": "markdown",
   "metadata": {},
   "source": [
    "The regulator will serve to make the expression finite, and in the end will be removed. The regulated version of the energy per unit-area of the plate is"
   ]
  },
  {
   "cell_type": "markdown",
   "metadata": {},
   "source": [
    "Introducing the variable $u^2 = a^2\\,k_z^2/\\pi^2$, $du = a/\\pi\\,dk_z$, we have:"
   ]
  },
  {
   "cell_type": "markdown",
   "metadata": {},
   "source": [
    "$$\\begin{array}{r}\n",
    "\\delta\\,\\frac{E}{V} = \\frac{\\hbar\\,c\\,\\pi}{a^4}\\Bigg\\{\n",
    "\\sum\\limits_{n_x=\\left(0\\right)\\,1}^{\\infty}\n",
    "\\sum\\limits_{n_y=\\left(0\\right)\\,1}^{\\infty}\n",
    "\\int\\limits_{0}^{\\infty}\n",
    "{\\sqrt{n_x^2 + n_y^2 + u^2}}\n",
    "f\\left(\\frac{\\pi\\sqrt{n_x^2 + n_y^2 + u^2}}{a\\,k_m}\\right)\n",
    "\\,d{u} \\\\\n",
    "- \\int\\limits_{0}^{\\infty}\n",
    "\\int\\limits_{0}^{\\infty}\n",
    "\\int\\limits_{0}^{\\infty}\n",
    "{\\sqrt{n_x^2 + n_y^2 + u^2}}\n",
    "f\\left(\\frac{\\pi\\sqrt{n_x^2 + n_y^2 + u^2}}{a\\,k_m}\\right)\n",
    "\\,d{u}\\,d{n_x}\\,d{n_y}\n",
    "\\Bigg\\}\n",
    "\\end{array}$$"
   ]
  },
  {
   "cell_type": "markdown",
   "metadata": {},
   "source": [
    "$$\\begin{array}{r}\n",
    "\\delta\\,\\frac{E}{V} = \\frac{\\hbar\\,c\\,\\pi}{a^4}\n",
    "\\int\\limits_{0}^{\\infty}\n",
    "\\Bigg\\{\n",
    "\\sum\\limits_{n_x=\\left(0\\right)\\,1}^{\\infty}\n",
    "\\sum\\limits_{n_y=\\left(0\\right)\\,1}^{\\infty}\n",
    "{\\sqrt{n_x^2 + n_y^2 + u^2}}\n",
    "f\\left(\\frac{\\pi\\sqrt{n_x^2 + n_y^2 + u^2}}{a\\,k_m}\\right) \\\\\n",
    "- \\int\\limits_{0}^{\\infty}\n",
    "\\int\\limits_{0}^{\\infty}\n",
    "{\\sqrt{n_x^2 + n_y^2 + u^2}}\n",
    "f\\left(\\frac{\\pi\\sqrt{n_x^2 + n_y^2 + u^2}}{a\\,k_m}\\right)\n",
    "\\,d{n_x}\\,d{n_y}\n",
    "\\Bigg\\}\n",
    "\\,d{u}\n",
    "\\end{array}$$"
   ]
  },
  {
   "cell_type": "markdown",
   "metadata": {},
   "source": [
    "Introdusing function:"
   ]
  },
  {
   "cell_type": "markdown",
   "metadata": {},
   "source": [
    "\\begin{equation}\n",
    "F\\left(u, n_x, n_y\\right) = \n",
    "\\sqrt{n_x^2 + n_y^2+u^2}\\,\n",
    "f\\left(\\frac{\\pi\\sqrt{n_x^2 + n_y^2+u^2}}{a\\,k_m}\\right)\n",
    "\\end{equation}"
   ]
  },
  {
   "cell_type": "markdown",
   "metadata": {},
   "source": [
    "we can write:"
   ]
  },
  {
   "cell_type": "markdown",
   "metadata": {},
   "source": [
    "\\begin{equation}\n",
    "\\delta\\,\\frac{E}{V} = \\frac{\\hbar\\,c\\,\\pi}{a^4}\n",
    "\\int\\limits_{0}^{\\infty}{\n",
    "\\left\\{\n",
    "\\sum\\limits_{n_x=\\left(0\\right)\\,1}^{\\infty}\n",
    "\\sum\\limits_{n_y=\\left(0\\right)\\,1}^{\\infty}\n",
    "F\\left(u, n_x, n_y\\right)\n",
    "-\n",
    "\\int\\limits_{0}^{\\infty}\n",
    "\\int\\limits_{0}^{\\infty}\n",
    "F\\left(u, n_x, n_y\\right)\\,d{n_x}\\,d{n_y}\n",
    "\\right\\}\n",
    "}\\,d{u}\n",
    "\\end{equation}"
   ]
  },
  {
   "cell_type": "markdown",
   "metadata": {},
   "source": [
    "\\begin{equation}\n",
    "\\delta\\,\\frac{E}{V} = \\frac{\\hbar\\,c\\,\\pi}{a^4}\n",
    "\\left\\{\n",
    "\\sum\\limits_{n_x=\\left(0\\right)\\,1}^{\\infty}\n",
    "\\sum\\limits_{n_y=\\left(0\\right)\\,1}^{\\infty}\n",
    "\\left(\\int\\limits_{0}^{\\infty}F\\left(u, n_x, n_y\\right)\\,d{u}\\right)\n",
    "-\n",
    "\\int\\limits_{0}^{\\infty}\n",
    "\\int\\limits_{0}^{\\infty}\n",
    "\\left(\\int\\limits_{0}^{\\infty}F\\left(u, n_x, n_y\\right)\\,d{u}\\right)\n",
    "\\,d{n_x}\\,d{n_y}\n",
    "\\right\\}\n",
    "\\end{equation}"
   ]
  },
  {
   "cell_type": "markdown",
   "metadata": {},
   "source": [
    "And at least, introdusing"
   ]
  },
  {
   "cell_type": "markdown",
   "metadata": {},
   "source": [
    "\\begin{equation}\n",
    "G\\left(n_x, n_y\\right) = \\left(\\int\\limits_{0}^{\\infty}F\\left(u, n_x, n_y\\right)\\,d{u}\\right)\n",
    "\\end{equation}"
   ]
  },
  {
   "cell_type": "markdown",
   "metadata": {},
   "source": [
    "We have"
   ]
  },
  {
   "cell_type": "markdown",
   "metadata": {},
   "source": [
    "\\begin{equation}\n",
    "\\delta\\,\\frac{E}{V} = \\frac{\\hbar\\,c\\,\\pi}{a^4}\n",
    "\\left\\{\n",
    "\\sum\\limits_{n_x=\\left(0\\right)\\,1}^{\\infty}\n",
    "\\sum\\limits_{n_y=\\left(0\\right)\\,1}^{\\infty}\n",
    "G\\left(n_x, n_y\\right)\n",
    "-\n",
    "\\int\\limits_{0}^{\\infty}\n",
    "\\int\\limits_{0}^{\\infty}\n",
    "G\\left(n_x, n_y\\right)\n",
    "\\,d{n_x}\\,d{n_y}\n",
    "\\right\\}\n",
    "\\end{equation}"
   ]
  },
  {
   "cell_type": "markdown",
   "metadata": {},
   "source": [
    "Let's use the following regulator function"
   ]
  },
  {
   "cell_type": "markdown",
   "metadata": {},
   "source": [
    "$$f\\left(\\frac{k}{k_m}\\right) = \\frac{1}{\\frac{k^{4}}{k_{m}^{4}} + 1}$$"
   ]
  },
  {
   "cell_type": "markdown",
   "metadata": {},
   "source": [
    "$k_m$ may be defined by $f(1) = \\frac{1}{2}$."
   ]
  },
  {
   "cell_type": "markdown",
   "metadata": {},
   "source": [
    "which is unity for $k << k_m$ but tends to zero sufficiently rapidly for $(k/k_m)\\, \\rightarrow\\,\\infty$. "
   ]
  },
  {
   "cell_type": "markdown",
   "metadata": {},
   "source": [
    "The limit of regulator function integral at Infinity has finite value:\n",
    "$\\underset{k/k_m \\rightarrow \\infty}{lim}\\int{f(k/k_m)d(k/k_m)} = \\frac{1}{4} \\, \\sqrt{2} \\pi$ "
   ]
  },
  {
   "cell_type": "markdown",
   "metadata": {},
   "source": [
    "If $\\omega _{n_x,n_y} = c\\,\\sqrt{n_x^2\\frac{\\pi^2}{a^2}+n_y^2\\frac{\\pi^2}{a^2}+k_z^2}$ and $k_z^2 = u^2 \\frac{\\pi^2}{a^2}$ we have $\\omega _{n_x,n_y} = c \\, \\frac{\\pi}{a} \\sqrt{n_x^2+n_y^2+u^2}$ so $f\\left(\\frac{\\pi\\sqrt{n_x^2 + n_y^2+u^2}}{a\\,k_m}\\right) = f\\left(\\frac{\\omega _{n_x,n_y}}{c\\,k_m}\\right)$\n",
    "where the cutting frequency is\n",
    "$\\omega_m = c\\,k_m$"
   ]
  },
  {
   "cell_type": "markdown",
   "metadata": {},
   "source": [
    "Starting from"
   ]
  },
  {
   "cell_type": "markdown",
   "metadata": {},
   "source": [
    "$$F\\left(u, n_x, n_y, a, k_m\\right) = \\sqrt{n_{x}^{2} + n_{y}^{2} + u^{2}} f\\left(\\frac{\\pi \\sqrt{n_{x}^{2} + n_{y}^{2} + u^{2}}}{a k_{m}}\\right)$$\n",
    "\n",
    "$$F\\left(u, n_x, n_y, a, k_m\\right) = \\frac{\\sqrt{n_{x}^{2} + n_{y}^{2} + u^{2}}}{\\frac{\\pi^{4} {\\left(n_{x}^{2} + n_{y}^{2} + u^{2}\\right)}^{2}}{a^{4} k_{m}^{4}} + 1}$$"
   ]
  },
  {
   "cell_type": "markdown",
   "metadata": {},
   "source": [
    "Introducing the variable \n",
    "\n",
    "$n_{xy} = \\sqrt{n_x^2 + n_y^2}$"
   ]
  },
  {
   "cell_type": "markdown",
   "metadata": {},
   "source": [
    "$F\\left(u, n_{xy}, ak_m\\right) = \\frac{\\sqrt{n_{\\mathit{xy}}^{2} + u^{2}}}{\\frac{\\pi^{4} {\\left(n_{\\mathit{xy}}^{2} + u^{2}\\right)}^{2}}{\\mathit{ak}_{m}^{4}} + 1}$"
   ]
  },
  {
   "cell_type": "markdown",
   "metadata": {},
   "source": [
    "we have\n",
    "\n",
    "$n = \\sqrt{n_x^2 + n_y^2 + u^2} = \\sqrt{n_{xy}^2 + u^2}$\n",
    "\n",
    "And using this variable we can make the following substitution\n",
    "\n",
    "$u = \\sqrt{n^2 - n_x^2 - n_y^2} = \\sqrt{n^2 - n_{xy}^2}$\n",
    "\n",
    "$\\frac{du}{dn} = \\frac{n}{\\sqrt{n^{2} - \\mathit{n_{xy}}^{2}}}$\n",
    "\n",
    "$d{u}= \\frac{n\\,d{n}}{\\sqrt{n^{2} - \\mathit{n_{xy}}^{2}}}$"
   ]
  },
  {
   "cell_type": "markdown",
   "metadata": {},
   "source": [
    "And now we can rewrite our integral"
   ]
  },
  {
   "cell_type": "markdown",
   "metadata": {},
   "source": [
    "\\begin{equation}\n",
    "G\\left(n_x, n_y\\right) = \\int\\limits_{0}^{\\infty}\\sqrt{n_x^2 + n_y^2+u^2}\\,\n",
    "f\\left(\\frac{\\pi\\sqrt{n_x^2 + n_y^2+u^2}}{a\\,k_m}\\right)\\,d{u}, \n",
    "\\end{equation}\n",
    "changing integration variable from $u$ into $n$"
   ]
  },
  {
   "cell_type": "markdown",
   "metadata": {},
   "source": [
    "\\begin{equation}\n",
    "G\\left(n_x, n_y\\right) = \\int\\limits_{\\sqrt{n_x^2 + n_y^2}}^{\\infty}\\sqrt{n_x^2 + n_y^2+u^2}\\,\n",
    "f\\left(\\frac{\\pi\\sqrt{n_x^2 + n_y^2+u^2}}{a\\,k_m}\\right)\\,dn{\\frac{n}{\\sqrt{n^{2} - n_{x}^{2} - n_{y}^{2}}}}\n",
    "\\end{equation}"
   ]
  },
  {
   "cell_type": "markdown",
   "metadata": {},
   "source": [
    "\\begin{equation}\n",
    "G\\left(n_x, n_y\\right) = \\int\\limits_{n_{xy}}^{\\infty}n\\,\n",
    "f\\left(\\frac{\\pi\\,n}{a\\,k_m}\\right)\\,dn{\\frac{n}{\\sqrt{n^{2} - n_{xy}^{2}}}}\n",
    "\\end{equation}"
   ]
  },
  {
   "cell_type": "markdown",
   "metadata": {},
   "source": [
    "Because in this form that integral can be taken analitically. So we have the following integrand:"
   ]
  },
  {
   "cell_type": "markdown",
   "metadata": {},
   "source": [
    "$$F\\left(n, n_{xy}, ak_m\\right) = \\frac{n^{2}}{{\\left(\\frac{\\pi^{4} n^{4}}{\\mathit{ak}_{m}^{4}} + 1\\right)} \\sqrt{n^{2} - n_{\\mathit{xy}}^{2}}}$$"
   ]
  },
  {
   "cell_type": "markdown",
   "metadata": {},
   "source": [
    "and the following limits of integration by $n$: $n_a = n_{xy}$, $n_b = \\infty$"
   ]
  },
  {
   "cell_type": "markdown",
   "metadata": {},
   "source": [
    "Lets use Abel substitution:\n",
    "\n",
    "$$t = \\left(\\sqrt{n^2-n_{xy}^2}\\right)'$$"
   ]
  },
  {
   "cell_type": "markdown",
   "metadata": {},
   "source": [
    "$$t = \\frac{n}{\\sqrt{n^{2} - n_{\\mathit{xy}}^{2}}}$$"
   ]
  },
  {
   "cell_type": "markdown",
   "metadata": {},
   "source": [
    "and the following limits of integration by $t$: $t_a = +\\infty$, $t_b = +1$"
   ]
  },
  {
   "cell_type": "markdown",
   "metadata": {},
   "source": [
    "Let's write dependency of $n$ from $t$"
   ]
  },
  {
   "cell_type": "markdown",
   "metadata": {},
   "source": [
    "$$n^{2} = \\frac{n_{\\mathit{xy}}^{2} t^{2}}{t^{2} - 1}$$"
   ]
  },
  {
   "cell_type": "markdown",
   "metadata": {},
   "source": [
    "$$n = n_{\\mathit{xy}} \\sqrt{\\frac{t^{2}}{t^{2} - 1}}$$"
   ]
  },
  {
   "cell_type": "markdown",
   "metadata": {},
   "source": [
    "and derivatives:"
   ]
  },
  {
   "cell_type": "markdown",
   "metadata": {},
   "source": [
    "$$\\frac{dt}{dn} = \\frac{d}{dn} \\left( \\frac{n}{\\sqrt{n^{2} - n_{\\mathit{xy}}^{2}}} \\right)= -\\frac{n^{2}}{{\\left(n^{2} - n_{\\mathit{xy}}^{2}\\right)}^{\\frac{3}{2}}} + \\frac{1}{\\sqrt{n^{2} - n_{\\mathit{xy}}^{2}}}$$"
   ]
  },
  {
   "cell_type": "markdown",
   "metadata": {},
   "source": [
    "$$\\frac{dn}{dt} = -\\frac{n^{4} - 2 \\, n^{2} n_{\\mathit{xy}}^{2} + n_{\\mathit{xy}}^{4}}{\\sqrt{n^{2} - n_{\\mathit{xy}}^{2}} n_{\\mathit{xy}}^{2}}$$"
   ]
  },
  {
   "cell_type": "markdown",
   "metadata": {},
   "source": [
    "Now we can rewrite the integrand making it depending from $t$"
   ]
  },
  {
   "cell_type": "markdown",
   "metadata": {},
   "source": [
    "$$F\\left(t, n_{xy}, ak_m\\right) = F\\left(n, n_{xy}, ak_m\\right) \\cdot \\frac{dn}{dt} \\, \\Bigg\\rvert_{ n = n_{\\mathit{xy}} \\sqrt{\\frac{t^{2}}{t^{2} - 1}} }$$\n",
    "\n",
    "$$F\\left(n, n_{xy}, ak_m\\right) \\cdot \\frac{dn}{dt} = -\\frac{{\\left(n^{4} - 2 \\, n^{2} n_{\\mathit{xy}}^{2} + n_{\\mathit{xy}}^{4}\\right)} n^{2}}{{\\left(\\frac{\\pi^{4} n^{4}}{\\mathit{ak}_{m}^{4}} + 1\\right)} {\\left(n^{2} - n_{\\mathit{xy}}^{2}\\right)} n_{\\mathit{xy}}^{2}}$$\n",
    "\n",
    "$$F\\left(t, n_{xy}, ak_m\\right) = -\\frac{{\\left(\\frac{n_{\\mathit{xy}}^{4} t^{4}}{{\\left(t^{2} - 1\\right)}^{2}} - \\frac{2 \\, n_{\\mathit{xy}}^{4} t^{2}}{t^{2} - 1} + n_{\\mathit{xy}}^{4}\\right)} t^{2}}{{\\left(\\frac{\\pi^{4} n_{\\mathit{xy}}^{4} t^{4}}{{\\left(t^{2} - 1\\right)}^{2} \\mathit{ak}_{m}^{4}} + 1\\right)} {\\left(\\frac{n_{\\mathit{xy}}^{2} t^{2}}{t^{2} - 1} - n_{\\mathit{xy}}^{2}\\right)} {\\left(t^{2} - 1\\right)}}$$\n",
    "\n",
    "$$F\\left(t, n_{xy}, ak_m\\right) = \\frac{\\mathit{ak}_{m}^{4} n_{\\mathit{xy}}^{2} t^{2}}{2 \\, \\mathit{ak}_{m}^{4} t^{2} - {\\left(\\pi^{4} n_{\\mathit{xy}}^{4} + \\mathit{ak}_{m}^{4}\\right)} t^{4} - \\mathit{ak}_{m}^{4}}$$"
   ]
  },
  {
   "cell_type": "markdown",
   "metadata": {},
   "source": [
    "Let's extract coefficient near $t^4$ from the denominator"
   ]
  },
  {
   "cell_type": "markdown",
   "metadata": {},
   "source": [
    "Now let's move the above coefficient up to the numerator. So new numerator will be:"
   ]
  },
  {
   "cell_type": "markdown",
   "metadata": {},
   "source": [
    "$$-\\frac{\\mathit{ak}_{m}^{4} n_{\\mathit{xy}}^{2} t^{2}}{\\pi^{4} n_{\\mathit{xy}}^{4} + \\mathit{ak}_{m}^{4}}$$"
   ]
  },
  {
   "cell_type": "markdown",
   "metadata": {},
   "source": [
    "And so new denominator will be:"
   ]
  },
  {
   "cell_type": "markdown",
   "metadata": {},
   "source": [
    "$$-\\frac{2 \\, \\mathit{ak}_{m}^{4} t^{2}}{\\pi^{4} n_{\\mathit{xy}}^{4} + \\mathit{ak}_{m}^{4}} + t^{4} + \\frac{\\mathit{ak}_{m}^{4}}{\\pi^{4} n_{\\mathit{xy}}^{4} + \\mathit{ak}_{m}^{4}}$$"
   ]
  },
  {
   "cell_type": "markdown",
   "metadata": {},
   "source": [
    "Now we should convert this denominator into the following form:"
   ]
  },
  {
   "cell_type": "markdown",
   "metadata": {},
   "source": [
    "$$-{\\left(\\alpha_{1} t + t^{2} + \\beta_{1}\\right)} {\\left(\\alpha_{1} t - t^{2} - \\beta_{1}\\right)}$$\n",
    "\n",
    "$$t^{4} - {\\left(\\alpha_{1}^{2} - 2 \\, \\beta_{1}\\right)} t^{2} + \\beta_{1}^{2}$$"
   ]
  },
  {
   "cell_type": "markdown",
   "metadata": {},
   "source": [
    "Begin:"
   ]
  },
  {
   "cell_type": "markdown",
   "metadata": {},
   "source": [
    "So we have the following equation\n",
    "$$-\\frac{2 \\, \\mathit{ak}_{m}^{4} t^{2}}{\\pi^{4} n_{\\mathit{xy}}^{4} + \\mathit{ak}_{m}^{4}} + t^{4} + \\frac{\\mathit{ak}_{m}^{4}}{\\pi^{4} n_{\\mathit{xy}}^{4} + \\mathit{ak}_{m}^{4}} = t^{4} - {\\left(\\alpha_{1}^{2} - 2 \\, \\beta_{1}\\right)} t^{2} + \\beta_{1}^{2}$$\n",
    "and its solution\n",
    "$$\\beta_{1} = \\frac{\\mathit{ak}_{m}^{2}}{\\sqrt{\\pi^{4} n_{\\mathit{xy}}^{4} + \\mathit{ak}_{m}^{4}}}, \\alpha_{1} = \\sqrt{2} \\mathit{ak}_{m} \\sqrt{\\frac{\\mathit{ak}_{m}^{2} + \\sqrt{\\pi^{4} n_{\\mathit{xy}}^{4} + \\mathit{ak}_{m}^{4}}}{\\pi^{4} n_{\\mathit{xy}}^{4} + \\mathit{ak}_{m}^{4}}}$$"
   ]
  },
  {
   "cell_type": "markdown",
   "metadata": {},
   "source": [
    "After above determined conversion the integrand can be written as:"
   ]
  },
  {
   "cell_type": "markdown",
   "metadata": {},
   "source": [
    "$$\\frac{\\mathit{ak}_{m}^{4} n_{\\mathit{xy}}^{2} t^{2}}{{\\left(\\pi^{4} n_{\\mathit{xy}}^{4} + \\mathit{ak}_{m}^{4}\\right)} {\\left(\\alpha_{1} t + t^{2} + \\beta_{1}\\right)} {\\left(\\alpha_{1} t - t^{2} - \\beta_{1}\\right)}}$$"
   ]
  },
  {
   "cell_type": "markdown",
   "metadata": {},
   "source": [
    "Let's check determinant $\\alpha_1^2 - 4\\beta_1$ using above found expression of $\\alpha_1$ and $\\beta_1$:"
   ]
  },
  {
   "cell_type": "markdown",
   "metadata": {},
   "source": [
    "Determinant is negative. So the integral can be easily taken:"
   ]
  },
  {
   "cell_type": "markdown",
   "metadata": {},
   "source": [
    "$$\\int F\\left(t, n_{xy}, ak_m\\right) dt = -\\frac{\\mathit{ak}_{m}^{4} n_{\\mathit{xy}}^{2} {\\left(\\frac{2 \\, \\arctan\\left(\\frac{\\alpha_{1} + 2 \\, t}{\\sqrt{-\\alpha_{1}^{2} + 4 \\, \\beta_{1}}}\\right)}{\\sqrt{-\\alpha_{1}^{2} + 4 \\, \\beta_{1}}} + \\frac{2 \\, \\arctan\\left(-\\frac{\\alpha_{1} - 2 \\, t}{\\sqrt{-\\alpha_{1}^{2} + 4 \\, \\beta_{1}}}\\right)}{\\sqrt{-\\alpha_{1}^{2} + 4 \\, \\beta_{1}}} - \\frac{\\log\\left(\\alpha_{1} t + t^{2} + \\beta_{1}\\right)}{\\alpha_{1}} + \\frac{\\log\\left(-\\alpha_{1} t + t^{2} + \\beta_{1}\\right)}{\\alpha_{1}}\\right)}}{4 \\, {\\left(\\pi^{4} n_{\\mathit{xy}}^{4} + \\mathit{ak}_{m}^{4}\\right)}}$$"
   ]
  },
  {
   "cell_type": "markdown",
   "metadata": {},
   "source": [
    "And after substitution of $t$ value $\\int F\\left(n, n_{xy}, ak_m\\right) dn$ is:"
   ]
  },
  {
   "cell_type": "markdown",
   "metadata": {},
   "source": [
    "$$\\int F\\left(n, n_{xy}, ak_m\\right) dn = -\\frac{\\mathit{ak}_{m}^{4} n_{\\mathit{xy}}^{2} {\\left(\\frac{2 \\, \\arctan\\left(\\frac{\\alpha_{1} + \\frac{2 \\, n}{\\sqrt{n^{2} - n_{\\mathit{xy}}^{2}}}}{\\sqrt{-\\alpha_{1}^{2} + 4 \\, \\beta_{1}}}\\right)}{\\sqrt{-\\alpha_{1}^{2} + 4 \\, \\beta_{1}}} + \\frac{2 \\, \\arctan\\left(-\\frac{\\alpha_{1} - \\frac{2 \\, n}{\\sqrt{n^{2} - n_{\\mathit{xy}}^{2}}}}{\\sqrt{-\\alpha_{1}^{2} + 4 \\, \\beta_{1}}}\\right)}{\\sqrt{-\\alpha_{1}^{2} + 4 \\, \\beta_{1}}} - \\frac{\\log\\left(\\frac{\\alpha_{1} n}{\\sqrt{n^{2} - n_{\\mathit{xy}}^{2}}} + \\beta_{1} + \\frac{n^{2}}{n^{2} - n_{\\mathit{xy}}^{2}}\\right)}{\\alpha_{1}} + \\frac{\\log\\left(-\\frac{\\alpha_{1} n}{\\sqrt{n^{2} - n_{\\mathit{xy}}^{2}}} + \\beta_{1} + \\frac{n^{2}}{n^{2} - n_{\\mathit{xy}}^{2}}\\right)}{\\alpha_{1}}\\right)}}{4 \\, {\\left(\\pi^{4} n_{\\mathit{xy}}^{4} + \\mathit{ak}_{m}^{4}\\right)}}$$"
   ]
  },
  {
   "cell_type": "markdown",
   "metadata": {},
   "source": [
    "Checking that found integral is true by differentiation:"
   ]
  },
  {
   "cell_type": "markdown",
   "metadata": {},
   "source": [
    "$$\\left( \\int F\\left(n, n_{xy}, ak_m\\right) dn \\right)' = \\frac{\\sqrt{n^{2} - n_{\\mathit{xy}}^{2}} \\mathit{ak}_{m}^{4} n^{2}}{\\pi^{4} n^{6} + \\mathit{ak}_{m}^{4} n^{2} - {\\left(\\pi^{4} n^{4} + \\mathit{ak}_{m}^{4}\\right)} n_{\\mathit{xy}}^{2}}$$\n",
    "\n",
    "$$F\\left(n, n_{xy}, ak_m\\right)= \\frac{n^{2}}{{\\left(\\frac{\\pi^{4} n^{4}}{\\mathit{ak}_{m}^{4}} + 1\\right)} \\sqrt{n^{2} - n_{\\mathit{xy}}^{2}}}$$\n",
    "\n",
    "$$\\left( \\int F\\left(n, n_{xy}, ak_m\\right) dn \\right)'-F\\left(n, n_{xy}, ak_m\\right) = 0$$\n"
   ]
  },
  {
   "cell_type": "markdown",
   "metadata": {},
   "source": [
    "Ok, we received true expression of integral $\\int F\\left(n, n_{xy}, ak_m\\right) dn$\n",
    "\n",
    "Now using its $t_a$ and $t_b$ limits we found the following integral:"
   ]
  },
  {
   "cell_type": "markdown",
   "metadata": {},
   "source": [
    "$\\begin{array}{rr}\n",
    " G\\left(n_{xy}\\right) = \\int\\limits_{0}^{\\infty}\\sqrt{n_{xy}^2+u^2}\\,\n",
    "f\\left(\\frac{\\pi\\sqrt{n_{xy}^2+u^2}}{a\\,k_m}\\right)\\,d{u} = &\\,\\\\\n",
    "\\,& -\\frac{\\mathit{ak}_{m}^{4} n_{\\mathit{xy}}^{2} {\\left(\\frac{2 \\, \\arctan\\left(\\frac{\\alpha_{1} + 2}{\\sqrt{-\\alpha_{1}^{2} + 4 \\, \\beta_{1}}}\\right)}{\\sqrt{-\\alpha_{1}^{2} + 4 \\, \\beta_{1}}} + \\frac{2 \\, \\arctan\\left(-\\frac{\\alpha_{1} - 2}{\\sqrt{-\\alpha_{1}^{2} + 4 \\, \\beta_{1}}}\\right)}{\\sqrt{-\\alpha_{1}^{2} + 4 \\, \\beta_{1}}} - \\frac{\\log\\left(\\alpha_{1} + \\beta_{1} + 1\\right)}{\\alpha_{1}} + \\frac{\\log\\left(-\\alpha_{1} + \\beta_{1} + 1\\right)}{\\alpha_{1}}\\right)}}{4 \\, {\\left(\\pi^{4} n_{\\mathit{xy}}^{4} + \\mathit{ak}_{m}^{4}\\right)}} \\\\\n",
    "\\,& +\\frac{\\pi \\mathit{ak}_{m}^{4} n_{\\mathit{xy}}^{2}}{2 \\, {\\left(\\pi^{4} \\sqrt{-\\alpha_{1}^{2} + 4 \\, \\beta_{1}} n_{\\mathit{xy}}^{4} + \\sqrt{-\\alpha_{1}^{2} + 4 \\, \\beta_{1}} \\mathit{ak}_{m}^{4}\\right)}}\n",
    "\\end{array}$"
   ]
  },
  {
   "cell_type": "markdown",
   "metadata": {},
   "source": [
    "Now aiming to receive a way of calculating $\\delta\\,\\frac{E}{V}$ we should consider \n",
    "\n",
    "# Euler–Maclaurin 2D formula\n",
    "\n",
    "Reading in\n",
    "\n",
    "https://www.journals.vu.lt/LMJ/article/view/20600/19701\n",
    "ФОРМУЛА СУММИРОВАНИЯ ЭЙЛЕРА—МАКЛОРЕНА ДЛЯ ФУНКЦИИ МНОГИХ ПЕРЕМЕННЫХ А.БИКЯЛИС\n",
    "VIII LIETUVOS MATEMATIKOS RINKINYS 4\n",
    "ЛИТОВСКИЙ МАТЕМАТИЧЕСКИЙ СБОРНИК\n",
    "1968\n",
    "\n",
    "The following:\n",
    "\"Далее,обе стороны этого равенства суммируем по всем целым m2 из интервала(z2,y2). Получаем\"\n",
    "\n",
    "We just apply Euler–Maclaurin formula twice on $n_x$ and on $n_y$\n",
    "\n",
    "Starting from the following form of this formula\n",
    "\n",
    "$${\\displaystyle \\sum _{i=a}^{b}f(i)=\\int _{a}^{b}f(x)\\,dx+{\\frac {f(a)+f(b)}{2}}+\\sum _{k=1}^{\\lfloor p/2\\rfloor }{\\frac {B_{2k}}{(2k)!}}(f^{(2k-1)}(b)-f^{(2k-1)}(a))+R_{p},}$$\n",
    "\n",
    "$${\\displaystyle P_{k}(x)=B_{k}(x-\\lfloor x\\rfloor ),}$$\n",
    "\n",
    "$${\\displaystyle R_{p}=(-1)^{p+1}\\int _{a}^{b}f^{(p)}(x){\\frac {P_{p}(x)}{p!}}\\,dx.}$$\n",
    "\n",
    "or better use\n",
    "\n",
    " поскольку мы имеем дело с математически весьма сложной задачей интегрирования довольно непростой, часто осциллирующей и терпящей разрывы в точках каждого целого значения аргумента благодаря наличию множителя $(x-\\lfloor x\\rfloor )$ функции, воспользуемся тем, что остаточный член можно выразить также в виде\n",
    "\n",
    "$${\\displaystyle R_{p}=(-1)^{p+1}\\sum_{j=a}^{b-1} \\int _{0}^{1}f^{(p)}(v+j){\\frac {B_{p}(v)}{p!}}\\,dv.}$$\n",
    "\n",
    "we see that it consists from 4 terms: intergal $\\int\\limits_{x}^{}=\\int _{x_a}^{x_b}f(x)\\,dx$, half sum $\\underset{x}{H_{\\sum}}={\\frac {f(x_a)+f(x_b)}{2}}$, sum of Bernoulli polynomials ${\\sum\\limits_{x}^{}}^{B}=\\sum _{k=1}^{\\lfloor p/2\\rfloor }{\\frac {B_{2k}}{(2k)!}}(f^{(2k-1)}(x_b)-f^{(2k-1)}(x_a)$ and Remained part $\\underset{x}{R_{p}}=(-1)^{p+1}\\sum_{j=x_a}^{x_b-1} \\int _{0}^{1}f^{(p)}(v_x+j_x){\\frac {B_{p}(v_x)}{p!}}\\,dv_x$. When applying it to $F$ twice on $n_x$ and on $n_y$ we should have the following terms which can be represented in the table form:"
   ]
  },
  {
   "cell_type": "markdown",
   "metadata": {},
   "source": [
    "$\\begin{array}{rrrr}\n",
    " \\int\\limits_{n_y}^{} \\int\\limits_{n_x}^{} F  &  \\int\\limits_{n_y}^{} \\underset{n_x}{H_{\\sum}}\\,F  &  \\int\\limits_{n_y}^{}{\\sum\\limits_{n_x}^{}}^{B}\\,F  &  \\int\\limits_{n_y}^{}\\,\\underset{n_x}{R_{p}}\\,F  \\\\\n",
    " \\underset{n_y}{H_{\\sum}}\\,\\int\\limits_{n_x}^{}\\,F &  \\underset{n_y}{H_{\\sum}}\\,\\underset{n_x}{H_{\\sum}}\\,F &  \\underset{n_y}{H_{\\sum}}\\,{\\sum\\limits_{n_x}^{}}^{B}\\,F &  \\underset{n_y}{H_{\\sum}}\\,\\underset{n_x}{R_{p}}\\,F \\\\\n",
    " {\\sum\\limits_{n_y}^{}}^{B}\\,\\int\\limits_{n_x}^{}\\,F  &  {\\sum\\limits_{n_y}^{}}^{B}\\,\\underset{n_x}{H_{\\sum}}\\,F  &  {\\sum\\limits_{n_y}^{}}^{B}\\,{\\sum\\limits_{n_x}^{}}^{B}\\,F  &  {\\sum\\limits_{n_y}^{}}^{B}\\,\\underset{n_x}{R_{p}}\\,F  \\\\\n",
    " \\underset{n_y}{R_{p}}\\,\\int\\limits_{n_x}^{}\\,F   &  \\underset{n_y}{R_{p}}\\,\\underset{n_x}{H_{\\sum}}\\,F   &  \\underset{n_y}{R_{p}}\\,{\\sum\\limits_{n_x}^{}}^{B}\\,F   &  \\underset{n_y}{R_{p}}\\,\\underset{n_x}{R_{p}}\\,F\n",
    "\\end{array}$"
   ]
  },
  {
   "cell_type": "markdown",
   "metadata": {},
   "source": [
    "And taking on account that we have function $F$ which is symmertic on its  $n_x$ and $n_y$ arguments, so above marix is symmetric too."
   ]
  },
  {
   "cell_type": "markdown",
   "metadata": {},
   "source": [
    "# Summary Euler–Maclaurin 2D \n",
    "\n",
    "Taking value of parameter $p = 1$ we have:"
   ]
  },
  {
   "cell_type": "code",
   "execution_count": 158,
   "metadata": {},
   "outputs": [
    {
     "data": {
      "text/latex": [
       "$\\displaystyle \\int\\limits_{n_y}^{} \\int\\limits_{n_x}^{} F = \\int_{a_{y}}^{b_{y}} \\int_{a_{x}}^{b_{x}} F\\left(n_{x}, n_{y}\\right)\\,{d n_{x}}\\,{d n_{y}}$"
      ],
      "text/plain": [
       "<IPython.core.display.Math object>"
      ]
     },
     "metadata": {},
     "output_type": "display_data"
    },
    {
     "data": {
      "text/latex": [
       "$\\displaystyle \\int\\limits_{n_y}^{} \\underset{n_x}{H_{\\sum}}\\,F = \\frac{1}{2} \\, \\int_{a_{y}}^{b_{y}} F\\left(a_{x}, n_{y}\\right)\\,{d n_{y}}$"
      ],
      "text/plain": [
       "<IPython.core.display.Math object>"
      ]
     },
     "metadata": {},
     "output_type": "display_data"
    },
    {
     "data": {
      "text/latex": [
       "$\\displaystyle \\int\\limits_{n_y}^{} {\\sum\\limits_{n_x}^{}}^{B}\\,F = 0$"
      ],
      "text/plain": [
       "<IPython.core.display.Math object>"
      ]
     },
     "metadata": {},
     "output_type": "display_data"
    },
    {
     "data": {
      "text/latex": [
       "$\\displaystyle \\int\\limits_{n_y}^{} \\underset{n_x}{R_{p}}\\,F = \\int_{a_{y}}^{b_{y}} \\int_{a_{x}}^{b_{x}} \\frac{1}{2} \\, {\\left(2 \\, n_{x} - 2 \\, \\left \\lfloor n_{x} \\right \\rfloor - 1\\right)} \\frac{\\partial}{\\partial n_{x}}F\\left(n_{x}, n_{y}\\right)\\,{d n_{x}}\\,{d n_{y}}$"
      ],
      "text/plain": [
       "<IPython.core.display.Math object>"
      ]
     },
     "metadata": {},
     "output_type": "display_data"
    }
   ],
   "source": [
    "display(Math(\"\\\\int\\\\limits_{n_y}^{} \\\\int\\\\limits_{n_x}^{} F =\"         + latex(inty_intx_F)))\n",
    "display(Math(\"\\\\int\\\\limits_{n_y}^{} \\\\underset{n_x}{H_{\\\\sum}}\\\\,F = \"  + latex(inty_halfx_F)))\n",
    "display(Math(\"\\\\int\\\\limits_{n_y}^{} {\\\\sum\\\\limits_{n_x}^{}}^{B}\\\\,F =\" + latex(inty_sumx_F)))\n",
    "display(Math(\"\\\\int\\\\limits_{n_y}^{} \\\\underset{n_x}{R_{p}}\\\\,F =\"       + latex(inty_Rpx_F)))"
   ]
  },
  {
   "cell_type": "code",
   "execution_count": 159,
   "metadata": {},
   "outputs": [
    {
     "data": {
      "text/latex": [
       "$\\displaystyle \\underset{n_y}{H_{\\sum}}\\,\\int\\limits_{n_x}^{}\\,F = \\frac{1}{2} \\, \\int_{a_{x}}^{b_{x}} F\\left(n_{x}, a_{y}\\right)\\,{d n_{x}}$"
      ],
      "text/plain": [
       "<IPython.core.display.Math object>"
      ]
     },
     "metadata": {},
     "output_type": "display_data"
    },
    {
     "data": {
      "text/latex": [
       "$\\displaystyle \\underset{n_y}{H_{\\sum}}\\,\\underset{n_x}{H_{\\sum}}\\,F = \\frac{1}{4} \\, F\\left(a_{x}, a_{y}\\right)$"
      ],
      "text/plain": [
       "<IPython.core.display.Math object>"
      ]
     },
     "metadata": {},
     "output_type": "display_data"
    },
    {
     "data": {
      "text/latex": [
       "$\\displaystyle \\underset{n_y}{H_{\\sum}}\\,{\\sum\\limits_{n_x}^{}}^{B}\\,F = 0$"
      ],
      "text/plain": [
       "<IPython.core.display.Math object>"
      ]
     },
     "metadata": {},
     "output_type": "display_data"
    },
    {
     "data": {
      "text/latex": [
       "$\\displaystyle \\underset{n_y}{H_{\\sum}}\\,\\underset{n_x}{R_{p}}\\,F = -\\frac{1}{4} \\, \\int_{a_{x}}^{b_{x}} -2 \\, n_{x} \\frac{\\partial}{\\partial n_{x}}F\\left(n_{x}, a_{y}\\right)\\,{d n_{x}} - \\frac{1}{4} \\, \\int_{a_{x}}^{b_{x}} 2 \\, \\left \\lfloor n_{x} \\right \\rfloor \\frac{\\partial}{\\partial n_{x}}F\\left(n_{x}, a_{y}\\right)\\,{d n_{x}} - \\frac{1}{4} \\, \\int_{a_{x}}^{b_{x}} \\frac{\\partial}{\\partial n_{x}}F\\left(n_{x}, a_{y}\\right)\\,{d n_{x}}$"
      ],
      "text/plain": [
       "<IPython.core.display.Math object>"
      ]
     },
     "metadata": {},
     "output_type": "display_data"
    }
   ],
   "source": [
    "display(Math(\"\\\\underset{n_y}{H_{\\\\sum}}\\\\,\\\\int\\\\limits_{n_x}^{}\\\\,F =\"       + latex(halfy_intx_F)))\n",
    "display(Math(\"\\\\underset{n_y}{H_{\\\\sum}}\\\\,\\\\underset{n_x}{H_{\\\\sum}}\\\\,F =\"   + latex(halfy_halfx_F)))\n",
    "display(Math(\"\\\\underset{n_y}{H_{\\\\sum}}\\\\,{\\\\sum\\\\limits_{n_x}^{}}^{B}\\\\,F =\" + latex(halfy_sumx_F)))\n",
    "display(Math(\"\\\\underset{n_y}{H_{\\\\sum}}\\\\,\\\\underset{n_x}{R_{p}}\\\\,F = \"      + latex(halfy_Rpx_F)))"
   ]
  },
  {
   "cell_type": "code",
   "execution_count": 160,
   "metadata": {},
   "outputs": [
    {
     "data": {
      "text/latex": [
       "$\\displaystyle {\\sum\\limits_{n_y}^{}}^{B}\\,\\int\\limits_{n_x}^{}\\,F = 0$"
      ],
      "text/plain": [
       "<IPython.core.display.Math object>"
      ]
     },
     "metadata": {},
     "output_type": "display_data"
    },
    {
     "data": {
      "text/latex": [
       "$\\displaystyle {\\sum\\limits_{n_y}^{}}^{B}\\,\\underset{n_x}{H_{\\sum}}\\,F = 0$"
      ],
      "text/plain": [
       "<IPython.core.display.Math object>"
      ]
     },
     "metadata": {},
     "output_type": "display_data"
    },
    {
     "data": {
      "text/latex": [
       "$\\displaystyle {\\sum\\limits_{n_y}^{}}^{B}\\,{\\sum\\limits_{n_x}^{}}^{B}\\,F = 0$"
      ],
      "text/plain": [
       "<IPython.core.display.Math object>"
      ]
     },
     "metadata": {},
     "output_type": "display_data"
    },
    {
     "data": {
      "text/latex": [
       "$\\displaystyle {\\sum\\limits_{n_y}^{}}^{B}\\,\\underset{n_x}{R_{p}}\\,F = 0$"
      ],
      "text/plain": [
       "<IPython.core.display.Math object>"
      ]
     },
     "metadata": {},
     "output_type": "display_data"
    }
   ],
   "source": [
    "display(Math(\"{\\\\sum\\\\limits_{n_y}^{}}^{B}\\\\,\\\\int\\\\limits_{n_x}^{}\\\\,F =\"       + latex(sumy_intx_F)))\n",
    "display(Math(\"{\\\\sum\\\\limits_{n_y}^{}}^{B}\\\\,\\\\underset{n_x}{H_{\\\\sum}}\\\\,F =\"   + latex(sumy_halfx_F)))\n",
    "display(Math(\"{\\\\sum\\\\limits_{n_y}^{}}^{B}\\\\,{\\\\sum\\\\limits_{n_x}^{}}^{B}\\\\,F =\" + latex(sumy_sumx_F)))\n",
    "display(Math(\"{\\\\sum\\\\limits_{n_y}^{}}^{B}\\\\,\\\\underset{n_x}{R_{p}}\\\\,F =\"       + latex(sumy_Rpx_F)))"
   ]
  },
  {
   "cell_type": "code",
   "execution_count": 162,
   "metadata": {
    "scrolled": true
   },
   "outputs": [
    {
     "data": {
      "text/latex": [
       "$\\displaystyle \\underset{n_y}{R_{p}}\\,\\int\\limits_{n_x}^{}\\,F = \\int_{a_{y}}^{b_{y}} \\int_{a_{x}}^{b_{x}} \\frac{1}{2} \\, {\\left(2 \\, n_{x} - 2 \\, \\left \\lfloor n_{x} \\right \\rfloor - 1\\right)} \\frac{\\partial}{\\partial n_{x}}F\\left(n_{x}, n_{y}\\right)\\,{d n_{x}}\\,{d n_{y}}$"
      ],
      "text/plain": [
       "<IPython.core.display.Math object>"
      ]
     },
     "metadata": {},
     "output_type": "display_data"
    },
    {
     "data": {
      "text/latex": [
       "$\\displaystyle \\underset{n_y}{R_{p}}\\,\\underset{n_x}{H_{\\sum}}\\,F = \\int_{a_{y}}^{b_{y}} \\frac{1}{4} \\, {\\left(2 \\, n_{y} - 2 \\, \\left \\lfloor n_{y} \\right \\rfloor - 1\\right)} \\frac{\\partial}{\\partial n_{y}}F\\left(a_{x}, n_{y}\\right)\\,{d n_{y}}$"
      ],
      "text/plain": [
       "<IPython.core.display.Math object>"
      ]
     },
     "metadata": {},
     "output_type": "display_data"
    },
    {
     "data": {
      "text/latex": [
       "$\\displaystyle \\underset{n_y}{R_{p}}\\,{\\sum\\limits_{n_x}^{}}^{B}\\,F = \\int_{a_{y}}^{b_{y}} 0\\,{d n_{y}}$"
      ],
      "text/plain": [
       "<IPython.core.display.Math object>"
      ]
     },
     "metadata": {},
     "output_type": "display_data"
    },
    {
     "data": {
      "text/latex": [
       "$\\displaystyle \\underset{n_y}{R_{p}}\\,\\underset{n_x}{R_{p}}\\,F = \\int_{a_{y}}^{b_{y}} \\frac{1}{2} \\, {\\left(2 \\, n_{y} - 2 \\, \\left \\lfloor n_{y} \\right \\rfloor - 1\\right)} \\int_{a_{x}}^{b_{x}} \\frac{1}{2} \\, {\\left(2 \\, n_{x} - 2 \\, \\left \\lfloor n_{x} \\right \\rfloor - 1\\right)} \\frac{\\partial^{2}}{\\partial n_{x}\\partial n_{y}}F\\left(n_{x}, n_{y}\\right)\\,{d n_{x}}\\,{d n_{y}}$"
      ],
      "text/plain": [
       "<IPython.core.display.Math object>"
      ]
     },
     "metadata": {},
     "output_type": "display_data"
    }
   ],
   "source": [
    "display(Math(\"\\\\underset{n_y}{R_{p}}\\\\,\\\\int\\\\limits_{n_x}^{}\\\\,F =\"       + latex(Rpy_intx_F)))\n",
    "display(Math(\"\\\\underset{n_y}{R_{p}}\\\\,\\\\underset{n_x}{H_{\\\\sum}}\\\\,F =\"   + latex(Rpy_halfx_F)))\n",
    "display(Math(\"\\\\underset{n_y}{R_{p}}\\\\,{\\\\sum\\\\limits_{n_x}^{}}^{B}\\\\,F =\" + latex(Rpy_sumx_F)))\n",
    "display(Math(\"\\\\underset{n_y}{R_{p}}\\\\,\\\\underset{n_x}{R_{p}}\\\\,F =\"       + latex(Rpy_Rpx_F)))"
   ]
  },
  {
   "cell_type": "markdown",
   "metadata": {},
   "source": [
    "Applying above result of Euler–Maclaurin 2D to $F\\left(u, n_x, n_y, a, k_m\\right)$ we have"
   ]
  },
  {
   "cell_type": "code",
   "execution_count": 164,
   "metadata": {},
   "outputs": [
    {
     "data": {
      "text/latex": [
       "$\\displaystyle \\int\\limits_{n_y}^{} \\int\\limits_{n_x}^{} F = \\int_{a_{y}}^{b_{y}} \\int_{a_{x}}^{b_{x}} F\\left(n_{x}, n_{y}\\right)\\,{d n_{x}}\\,{d n_{y}}$"
      ],
      "text/plain": [
       "<IPython.core.display.Math object>"
      ]
     },
     "metadata": {},
     "output_type": "display_data"
    },
    {
     "data": {
      "text/latex": [
       "$\\displaystyle \\int\\limits_{n_y}^{} \\underset{n_x}{H_{\\sum}}\\,F = \\int_{0}^{+\\infty} \\frac{\\sqrt{n_{y}^{2} + u^{2}}}{2 \\, {\\left(\\frac{\\pi^{4} {\\left(n_{y}^{2} + u^{2}\\right)}^{2}}{a^{4} k_{m}^{4}} + 1\\right)}}\\,{d n_{y}}$"
      ],
      "text/plain": [
       "<IPython.core.display.Math object>"
      ]
     },
     "metadata": {},
     "output_type": "display_data"
    },
    {
     "data": {
      "text/latex": [
       "$\\displaystyle \\int\\limits_{n_y}^{} {\\sum\\limits_{n_x}^{}}^{B}\\,F = 0.0$"
      ],
      "text/plain": [
       "<IPython.core.display.Math object>"
      ]
     },
     "metadata": {},
     "output_type": "display_data"
    },
    {
     "data": {
      "text/latex": [
       "$\\displaystyle \\int\\limits_{n_y}^{} \\underset{n_x}{R_{p}}\\,F = \\int_{0}^{+\\infty} \\int_{0}^{+\\infty} \\frac{1}{2} \\, {\\left(2 \\, n_{x} - 2 \\, \\left \\lfloor n_{x} \\right \\rfloor - 1\\right)} {\\left(\\frac{n_{x}}{\\sqrt{n_{x}^{2} + n_{y}^{2} + u^{2}} {\\left(\\frac{\\pi^{4} {\\left(n_{x}^{2} + n_{y}^{2} + u^{2}\\right)}^{2}}{a^{4} k_{m}^{4}} + 1\\right)}} - \\frac{4 \\, \\pi^{4} {\\left(n_{x}^{2} + n_{y}^{2} + u^{2}\\right)}^{\\frac{3}{2}} n_{x}}{a^{4} k_{m}^{4} {\\left(\\frac{\\pi^{4} {\\left(n_{x}^{2} + n_{y}^{2} + u^{2}\\right)}^{2}}{a^{4} k_{m}^{4}} + 1\\right)}^{2}}\\right)}\\,{d n_{x}}\\,{d n_{y}}$"
      ],
      "text/plain": [
       "<IPython.core.display.Math object>"
      ]
     },
     "metadata": {},
     "output_type": "display_data"
    }
   ],
   "source": [
    "display(Math(\"\\\\int\\\\limits_{n_y}^{} \\\\int\\\\limits_{n_x}^{} F =\"         + latex(inty_intx_F)))\n",
    "display(Math(\"\\\\int\\\\limits_{n_y}^{} \\\\underset{n_x}{H_{\\\\sum}}\\\\,F = \"  + latex(inty_halfx_Fn(u, a, k_m))))\n",
    "display(Math(\"\\\\int\\\\limits_{n_y}^{} {\\\\sum\\\\limits_{n_x}^{}}^{B}\\\\,F =\" + latex(inty_sumx_Fn(u, a, k_m))))\n",
    "display(Math(\"\\\\int\\\\limits_{n_y}^{} \\\\underset{n_x}{R_{p}}\\\\,F =\"       + latex(inty_Rpx_Fn)))"
   ]
  },
  {
   "cell_type": "code",
   "execution_count": null,
   "metadata": {},
   "outputs": [],
   "source": []
  },
  {
   "cell_type": "code",
   "execution_count": 166,
   "metadata": {},
   "outputs": [
    {
     "data": {
      "text/latex": [
       "$\\displaystyle \\underset{n_y}{H_{\\sum}}\\,\\int\\limits_{n_x}^{}\\,F\\left(u\\right) = \\frac{1}{2} \\, a^{4} k_{m}^{4} \\int_{0}^{+\\infty} \\frac{\\sqrt{n_{x}^{2} + u^{2}}}{a^{4} k_{m}^{4} + \\pi^{4} n_{x}^{4} + 2 \\, \\pi^{4} n_{x}^{2} u^{2} + \\pi^{4} u^{4}}\\,{d n_{x}}$"
      ],
      "text/plain": [
       "<IPython.core.display.Math object>"
      ]
     },
     "metadata": {},
     "output_type": "display_data"
    },
    {
     "data": {
      "text/latex": [
       "$\\displaystyle \\underset{n_y}{H_{\\sum}}\\,\\underset{n_x}{H_{\\sum}}\\,F\\left(u\\right) = \\frac{u}{4 \\, {\\left(\\frac{\\pi^{4} u^{4}}{a^{4} k_{m}^{4}} + 1\\right)}}$"
      ],
      "text/plain": [
       "<IPython.core.display.Math object>"
      ]
     },
     "metadata": {},
     "output_type": "display_data"
    },
    {
     "data": {
      "text/latex": [
       "$\\displaystyle \\underset{n_y}{H_{\\sum}}\\,{\\sum\\limits_{n_x}^{}}^{B}\\,F\\left(u\\right) = 0$"
      ],
      "text/plain": [
       "<IPython.core.display.Math object>"
      ]
     },
     "metadata": {},
     "output_type": "display_data"
    },
    {
     "data": {
      "text/latex": [
       "$\\displaystyle \\underset{n_y}{H_{\\sum}}\\,\\underset{n_x}{R_{p}}\\,F = -\\frac{1}{4} \\, \\int_{a_{x}}^{b_{x}} -2 \\, n_{x} \\frac{\\partial}{\\partial n_{x}}F\\left(n_{x}, a_{y}\\right)\\,{d n_{x}} - \\frac{1}{4} \\, \\int_{a_{x}}^{b_{x}} 2 \\, \\left \\lfloor n_{x} \\right \\rfloor \\frac{\\partial}{\\partial n_{x}}F\\left(n_{x}, a_{y}\\right)\\,{d n_{x}} - \\frac{1}{4} \\, \\int_{a_{x}}^{b_{x}} \\frac{\\partial}{\\partial n_{x}}F\\left(n_{x}, a_{y}\\right)\\,{d n_{x}}$"
      ],
      "text/plain": [
       "<IPython.core.display.Math object>"
      ]
     },
     "metadata": {},
     "output_type": "display_data"
    }
   ],
   "source": [
    "display(Math(\"\\\\underset{n_y}{H_{\\\\sum}}\\\\,\\\\int\\\\limits_{n_x}^{}\\\\,F\\\\left(u\\\\right) =\"       + latex(halfy_intx_Fn)))\n",
    "display(Math(\"\\\\underset{n_y}{H_{\\\\sum}}\\\\,\\\\underset{n_x}{H_{\\\\sum}}\\\\,F\\\\left(u\\\\right) =\"   + latex(halfy_halfx_Fn)))\n",
    "display(Math(\"\\\\underset{n_y}{H_{\\\\sum}}\\\\,{\\\\sum\\\\limits_{n_x}^{}}^{B}\\\\,F\\\\left(u\\\\right) =\" + latex(halfy_sumx_Fn)))\n",
    "display(Math(\"\\\\underset{n_y}{H_{\\\\sum}}\\\\,\\\\underset{n_x}{R_{p}}\\\\,F = \"                      + latex(halfy_Rpx_F)))"
   ]
  },
  {
   "cell_type": "code",
   "execution_count": null,
   "metadata": {},
   "outputs": [],
   "source": []
  },
  {
   "cell_type": "code",
   "execution_count": 167,
   "metadata": {},
   "outputs": [
    {
     "data": {
      "text/latex": [
       "$\\displaystyle {\\sum\\limits_{n_y}^{}}^{B}\\,\\int\\limits_{n_x}^{}\\,F\\left(u\\right) = 0$"
      ],
      "text/plain": [
       "<IPython.core.display.Math object>"
      ]
     },
     "metadata": {},
     "output_type": "display_data"
    },
    {
     "data": {
      "text/latex": [
       "$\\displaystyle {\\sum\\limits_{n_y}^{}}^{B}\\,\\underset{n_x}{H_{\\sum}}\\,F\\left(u\\right) = 0$"
      ],
      "text/plain": [
       "<IPython.core.display.Math object>"
      ]
     },
     "metadata": {},
     "output_type": "display_data"
    },
    {
     "data": {
      "text/latex": [
       "$\\displaystyle {\\sum\\limits_{n_y}^{}}^{B}\\,{\\sum\\limits_{n_x}^{}}^{B}\\,F\\left(u\\right) = 0$"
      ],
      "text/plain": [
       "<IPython.core.display.Math object>"
      ]
     },
     "metadata": {},
     "output_type": "display_data"
    },
    {
     "data": {
      "text/latex": [
       "$\\displaystyle {\\sum\\limits_{n_y}^{}}^{B}\\,\\underset{n_x}{R_{p}}\\,F = 0$"
      ],
      "text/plain": [
       "<IPython.core.display.Math object>"
      ]
     },
     "metadata": {},
     "output_type": "display_data"
    }
   ],
   "source": [
    "display(Math(\"{\\\\sum\\\\limits_{n_y}^{}}^{B}\\\\,\\\\int\\\\limits_{n_x}^{}\\\\,F\\\\left(u\\\\right) =\"       + latex(sumy_intx_Fu)))\n",
    "display(Math(\"{\\\\sum\\\\limits_{n_y}^{}}^{B}\\\\,\\\\underset{n_x}{H_{\\\\sum}}\\\\,F\\\\left(u\\\\right) =\"   + latex(sumy_halfx_Fu)))\n",
    "display(Math(\"{\\\\sum\\\\limits_{n_y}^{}}^{B}\\\\,{\\\\sum\\\\limits_{n_x}^{}}^{B}\\\\,F\\\\left(u\\\\right) =\" + latex(sumy_sumx_Fu(u, a, k_m))))\n",
    "display(Math(\"{\\\\sum\\\\limits_{n_y}^{}}^{B}\\\\,\\\\underset{n_x}{R_{p}}\\\\,F =\"                       + latex(sumy_Rpx_F)))"
   ]
  },
  {
   "cell_type": "code",
   "execution_count": null,
   "metadata": {},
   "outputs": [],
   "source": []
  },
  {
   "cell_type": "code",
   "execution_count": 169,
   "metadata": {},
   "outputs": [
    {
     "data": {
      "text/latex": [
       "$\\displaystyle \\underset{n_y}{R_{p}}\\,\\int\\limits_{n_x}^{}\\,F\\left(u\\right) = \\int_{0}^{+\\infty} \\int_{0}^{+\\infty} \\frac{1}{2} \\, {\\left(2 \\, n_{x} - 2 \\, \\left \\lfloor n_{x} \\right \\rfloor - 1\\right)} {\\left(\\frac{n_{x}}{\\sqrt{n_{x}^{2} + n_{y}^{2} + u^{2}} {\\left(\\frac{\\pi^{4} {\\left(n_{x}^{2} + n_{y}^{2} + u^{2}\\right)}^{2}}{a^{4} k_{m}^{4}} + 1\\right)}} - \\frac{4 \\, \\pi^{4} {\\left(n_{x}^{2} + n_{y}^{2} + u^{2}\\right)}^{\\frac{3}{2}} n_{x}}{a^{4} k_{m}^{4} {\\left(\\frac{\\pi^{4} {\\left(n_{x}^{2} + n_{y}^{2} + u^{2}\\right)}^{2}}{a^{4} k_{m}^{4}} + 1\\right)}^{2}}\\right)}\\,{d n_{x}}\\,{d n_{y}}$"
      ],
      "text/plain": [
       "<IPython.core.display.Math object>"
      ]
     },
     "metadata": {},
     "output_type": "display_data"
    },
    {
     "data": {
      "text/latex": [
       "$\\displaystyle \\underset{n_y}{R_{p}}\\,\\underset{n_x}{H_{\\sum}}\\,F\\left(u\\right) = \\int_{0}^{+\\infty} \\frac{1}{4} \\, {\\left(2 \\, n_{y} - 2 \\, \\left \\lfloor n_{y} \\right \\rfloor - 1\\right)} {\\left(\\frac{n_{y}}{\\sqrt{n_{y}^{2} + u^{2}} {\\left(\\frac{\\pi^{4} {\\left(n_{y}^{2} + u^{2}\\right)}^{2}}{a^{4} k_{m}^{4}} + 1\\right)}} - \\frac{4 \\, \\pi^{4} {\\left(n_{y}^{2} + u^{2}\\right)}^{\\frac{3}{2}} n_{y}}{a^{4} k_{m}^{4} {\\left(\\frac{\\pi^{4} {\\left(n_{y}^{2} + u^{2}\\right)}^{2}}{a^{4} k_{m}^{4}} + 1\\right)}^{2}}\\right)}\\,{d n_{y}}$"
      ],
      "text/plain": [
       "<IPython.core.display.Math object>"
      ]
     },
     "metadata": {},
     "output_type": "display_data"
    },
    {
     "data": {
      "text/latex": [
       "$\\displaystyle \\underset{n_y}{R_{p}}\\,{\\sum\\limits_{n_x}^{}}^{B}\\,F\\left(u\\right) = \\int_{0}^{+\\infty} 0\\,{d n_{y}}$"
      ],
      "text/plain": [
       "<IPython.core.display.Math object>"
      ]
     },
     "metadata": {},
     "output_type": "display_data"
    },
    {
     "data": {
      "text/latex": [
       "$\\displaystyle \\underset{n_y}{R_{p}}\\,\\underset{n_x}{R_{p}}\\,F = \\int_{a_{y}}^{b_{y}} \\frac{1}{2} \\, {\\left(2 \\, n_{y} - 2 \\, \\left \\lfloor n_{y} \\right \\rfloor - 1\\right)} \\int_{a_{x}}^{b_{x}} \\frac{1}{2} \\, {\\left(2 \\, n_{x} - 2 \\, \\left \\lfloor n_{x} \\right \\rfloor - 1\\right)} \\frac{\\partial^{2}}{\\partial n_{x}\\partial n_{y}}F\\left(n_{x}, n_{y}\\right)\\,{d n_{x}}\\,{d n_{y}}$"
      ],
      "text/plain": [
       "<IPython.core.display.Math object>"
      ]
     },
     "metadata": {},
     "output_type": "display_data"
    }
   ],
   "source": [
    "display(Math(\"\\\\underset{n_y}{R_{p}}\\\\,\\\\int\\\\limits_{n_x}^{}\\\\,F\\\\left(u\\\\right) =\"       + latex(Rpy_intx_Fn)))\n",
    "display(Math(\"\\\\underset{n_y}{R_{p}}\\\\,\\\\underset{n_x}{H_{\\\\sum}}\\\\,F\\\\left(u\\\\right) =\"   + latex(Rpy_halfx_Fn)))\n",
    "display(Math(\"\\\\underset{n_y}{R_{p}}\\\\,{\\\\sum\\\\limits_{n_x}^{}}^{B}\\\\,F\\\\left(u\\\\right) =\" + latex(Rpy_sumx_Fn)))\n",
    "display(Math(\"\\\\underset{n_y}{R_{p}}\\\\,\\\\underset{n_x}{R_{p}}\\\\,F =\"                       + latex(Rpy_Rpx_F)))"
   ]
  },
  {
   "cell_type": "markdown",
   "metadata": {},
   "source": [
    "# A way of calculating $\\delta\\,\\frac{E}{V}$"
   ]
  },
  {
   "cell_type": "markdown",
   "metadata": {},
   "source": [
    "Let's consider\n",
    "\n",
    "\\begin{equation}\n",
    "\\sum\\limits_{n_x=\\left(0\\right)\\,1}^{\\infty}\n",
    "\\sum\\limits_{n_y=\\left(0\\right)\\,1}^{\\infty}\n",
    "F\\left(n_x, n_y\\right)\n",
    "-\n",
    "\\int\\limits_{0}^{\\infty}\n",
    "\\int\\limits_{0}^{\\infty}\n",
    "F\\left(n_x, n_y\\right)\\,d{n_x}\\,d{n_y}\n",
    "\\end{equation}"
   ]
  },
  {
   "cell_type": "markdown",
   "metadata": {},
   "source": [
    "First we see, that"
   ]
  },
  {
   "cell_type": "markdown",
   "metadata": {},
   "source": [
    "\\begin{equation}\n",
    "\\sum\\limits_{n_x=\\left(0\\right)\\,1}^{\\infty}\n",
    "\\sum\\limits_{n_y=\\left(0\\right)\\,1}^{\\infty}\n",
    "{F\\left(n_x, n_y\\right)}\n",
    "= \\sum\\limits_{n_x=\\left(0\\right)\\,1}^{\\infty}\n",
    "\\left(\n",
    "-\\frac{1}{2}F\\left(n_x, 0\\right) + \\sum\\limits_{n_y=0}^{\\infty}{F\\left(n_x, n_y\\right)}\n",
    "\\right)\n",
    "= -\\frac{1}{2}\n",
    "\\left(\n",
    "-\\frac{1}{2}F\\left(0, 0\\right) + \\sum\\limits_{n_y=0}^{\\infty}{F\\left(0, n_y\\right)}\n",
    "\\right)\n",
    "+\\sum\\limits_{n_x=0}^{\\infty}\n",
    "\\left(\n",
    "-\\frac{1}{2}F\\left(n_x, 0\\right) + \\sum\\limits_{n_y=0}^{\\infty}{F\\left(n_x, n_y\\right)}\n",
    "\\right)\n",
    "= \\frac{1}{4}F\\left(0, 0\\right)\n",
    "- \\frac{1}{2}\\sum\\limits_{n_y=0}^{\\infty}{F\\left(0, n_y\\right)}\n",
    "- \\frac{1}{2}\\sum\\limits_{n_x=0}^{\\infty}{F\\left(n_x, 0\\right)}\n",
    "+ \\sum\\limits_{n_x=0}^{\\infty}\\sum\\limits_{n_y=0}^{\\infty}{F\\left(n_x, n_y\\right)}\n",
    "\\end{equation}"
   ]
  },
  {
   "cell_type": "markdown",
   "metadata": {},
   "source": [
    "So we have\n",
    "\\begin{equation}\n",
    "\\sum\\limits_{n_x=\\left(0\\right)\\,1}^{\\infty}\n",
    "\\sum\\limits_{n_y=\\left(0\\right)\\,1}^{\\infty}\n",
    "{F\\left(n_x, n_y\\right)}\n",
    "=\\frac{1}{4}F\\left(0, 0\\right)\n",
    "-\\frac{1}{2}\\sum\\limits_{n_y=0}^{\\infty}{F\\left(0, n_y\\right)}\n",
    "-\\frac{1}{2}\\sum\\limits_{n_x=0}^{\\infty}{F\\left(n_x, 0\\right)}\n",
    "+\\sum\\limits_{n_x=0}^{\\infty}\\sum\\limits_{n_y=0}^{\\infty}{F\\left(n_x, n_y\\right)}\n",
    "\\end{equation}"
   ]
  },
  {
   "cell_type": "markdown",
   "metadata": {},
   "source": [
    "And\n",
    "\n",
    "\\begin{equation}\n",
    "\\sum\\limits_{n_x=\\left(0\\right)\\,1}^{\\infty}\n",
    "\\sum\\limits_{n_y=\\left(0\\right)\\,1}^{\\infty}\n",
    "F\\left(n_x, n_y\\right)\n",
    "-\n",
    "\\int\\limits_{0}^{\\infty}\n",
    "\\int\\limits_{0}^{\\infty}\n",
    "F\\left(n_x, n_y\\right)\\,d{n_x}\\,d{n_y} =\n",
    "\\end{equation}"
   ]
  },
  {
   "cell_type": "markdown",
   "metadata": {},
   "source": [
    "\\begin{equation}\n",
    "=\\frac{1}{4}F\\left(0, 0\\right)\n",
    "-\\frac{1}{2}\\sum\\limits_{n_y=0}^{\\infty}{F\\left(0, n_y\\right)}\n",
    "-\\frac{1}{2}\\sum\\limits_{n_x=0}^{\\infty}{F\\left(n_x, 0\\right)}\n",
    "+\\sum\\limits_{n_x=0}^{\\infty}\\sum\\limits_{n_y=0}^{\\infty}{F\\left(n_x, n_y\\right)}\n",
    "-\n",
    "\\int\\limits_{0}^{\\infty}\n",
    "\\int\\limits_{0}^{\\infty}\n",
    "F\\left(n_x, n_y\\right)\\,d{n_x}\\,d{n_y}\n",
    "\\end{equation}"
   ]
  },
  {
   "cell_type": "markdown",
   "metadata": {},
   "source": [
    "On the other hand we have found that\n",
    "\\begin{equation}\n",
    "\\sum\\limits_{n_x=0}^{\\infty}\n",
    "\\sum\\limits_{n_y=0}^{\\infty}\n",
    "F\\left(n_x, n_y\\right)\n",
    "-\\int\\limits_{0}^{\\infty}\n",
    "\\int\\limits_{0}^{\\infty}\n",
    "F\\left(n_x, n_y\\right)\\,d{n_x}\\,d{n_y}\n",
    "\\end{equation}\n",
    "is"
   ]
  },
  {
   "cell_type": "markdown",
   "metadata": {},
   "source": [
    "$\\begin{array}{rrrr}\n",
    "      \\, &\n",
    "      \\int\\limits_{n_y}^{} \\underset{n_x}{H_{\\sum}}\\,F &\n",
    "    + \\int\\limits_{n_y}^{}{\\sum\\limits_{n_x}^{}}^{B}\\,F &\n",
    "    + \\int\\limits_{n_y}^{}\\,\\underset{n_x}{R_{p}}\\,F  \\\\\n",
    "    +\\underset{n_y}{H_{\\sum}}\\,\\int\\limits_{n_x}^{}\\,F &\n",
    "    + \\underset{n_y}{H_{\\sum}}\\,\\underset{n_x}{H_{\\sum}}\\,F &\n",
    "    + \\underset{n_y}{H_{\\sum}}\\,{\\sum\\limits_{n_x}^{}}^{B}\\,F &\n",
    "    + \\underset{n_y}{H_{\\sum}}\\,\\underset{n_x}{R_{p}}\\,F \\\\\n",
    "    + {\\sum\\limits_{n_y}^{}}^{B}\\,\\int\\limits_{n_x}^{}\\,F &\n",
    "    + {\\sum\\limits_{n_y}^{}}^{B}\\,\\underset{n_x}{H_{\\sum}}\\,F &\n",
    "    + {\\sum\\limits_{n_y}^{}}^{B}\\,{\\sum\\limits_{n_x}^{}}^{B}\\,F &\n",
    "    + {\\sum\\limits_{n_y}^{}}^{B}\\,\\underset{n_x}{R_{p}}\\,F \\\\\n",
    "    + \\underset{n_y}{R_{p}}\\,\\int\\limits_{n_x}^{}\\,F &\n",
    "    + \\underset{n_y}{R_{p}}\\,\\underset{n_x}{H_{\\sum}}\\,F &\n",
    "    +  \\underset{n_y}{R_{p}}\\,{\\sum\\limits_{n_x}^{}}^{B}\\,F &\n",
    "    + \\underset{n_y}{R_{p}}\\,\\underset{n_x}{R_{p}}\\,F\n",
    "\\end{array}$"
   ]
  },
  {
   "cell_type": "markdown",
   "metadata": {},
   "source": [
    "where $\\underset{n_y}{H_{\\sum}}\\,\\underset{n_x}{H_{\\sum}}\\,F$, $\\int\\limits_{n_y}^{} \\underset{n_x}{H_{\\sum}}\\,F$ and $\\underset{n_y}{H_{\\sum}}\\,\\int\\limits_{n_x}^{}\\,F$ are:"
   ]
  },
  {
   "cell_type": "code",
   "execution_count": 170,
   "metadata": {},
   "outputs": [
    {
     "data": {
      "text/latex": [
       "$\\displaystyle \\frac{1}{4} \\, F\\left(a_{x}, a_{y}\\right)$"
      ],
      "text/plain": [
       "<IPython.core.display.Math object>"
      ]
     },
     "metadata": {},
     "output_type": "display_data"
    },
    {
     "data": {
      "text/latex": [
       "$\\displaystyle \\frac{1}{2} \\, \\int_{a_{y}}^{b_{y}} F\\left(a_{x}, n_{y}\\right)\\,{d n_{y}}$"
      ],
      "text/plain": [
       "<IPython.core.display.Math object>"
      ]
     },
     "metadata": {},
     "output_type": "display_data"
    },
    {
     "data": {
      "text/latex": [
       "$\\displaystyle \\frac{1}{2} \\, \\int_{a_{x}}^{b_{x}} F\\left(n_{x}, a_{y}\\right)\\,{d n_{x}}$"
      ],
      "text/plain": [
       "<IPython.core.display.Math object>"
      ]
     },
     "metadata": {},
     "output_type": "display_data"
    }
   ],
   "source": [
    "disp(halfy_halfx_F)\n",
    "disp(inty_halfx_F)\n",
    "disp(halfy_intx_F)"
   ]
  },
  {
   "cell_type": "markdown",
   "metadata": {},
   "source": [
    "Now using 1D EULER-MACLAURIN formula in form:"
   ]
  },
  {
   "cell_type": "markdown",
   "metadata": {},
   "source": [
    "$${\\displaystyle \\sum _{i=a}^{b}f(i)=\\int _{a}^{b}f(x)\\,dx+{\\frac {f(a)+f(b)}{2}}+\\sum _{k=1}^{\\lfloor p/2\\rfloor }{\\frac {B_{2k}}{(2k)!}}(f^{(2k-1)}(b)-f^{(2k-1)}(a))+R_{p},}$$"
   ]
  },
  {
   "cell_type": "markdown",
   "metadata": {},
   "source": [
    "we can see that"
   ]
  },
  {
   "cell_type": "markdown",
   "metadata": {},
   "source": [
    "$$\n",
    "\\frac{1}{4}F\\left(0, 0\\right)\n",
    "- \\frac{1}{2}\\sum\\limits_{n_y=0}^{\\infty}{F\\left(0, n_y\\right)}\n",
    "- \\frac{1}{2}\\sum\\limits_{n_x=0}^{\\infty}{F\\left(n_x, 0\\right)}\n",
    "$$"
   ]
  },
  {
   "cell_type": "markdown",
   "metadata": {},
   "source": [
    "will be equial to"
   ]
  },
  {
   "cell_type": "markdown",
   "metadata": {},
   "source": [
    "$\\begin{array}{rrrrrr}\n",
    "    \\underset{n_y}{H_{\\sum}}\\,\\underset{n_x}{H_{\\sum}}\\,F \\\\\n",
    "    \\, &\n",
    "    - \\int\\limits_{n_y}^{} \\underset{n_x}{H_{\\sum}}\\,F &\n",
    "    - \\underset{n_y}{H_{\\sum}} \\underset{n_x}{H_{\\sum}}\\,F &\n",
    "    - \\frac{1}{2}{\\sum\\limits_{n_y}^{}}^{B}\\,F &\n",
    "    - \\frac{1}{2}\\underset{n_y}{R_{p}}\\,F/2 \\\\\n",
    "    \\,&\n",
    "    - \\underset{n_y}{H_{\\sum}}\\int\\limits_{n_x}^{} \\,F &\n",
    "    - \\underset{n_y}{H_{\\sum}} \\underset{n_x}{H_{\\sum}}\\,F &\n",
    "    - \\frac{1}{2}{\\sum\\limits_{n_x}^{}}^{B}\\,F &\n",
    "    - \\frac{1}{2}\\underset{n_x}{R_{p}}\\,F/2 \\\\\n",
    "\\end{array}$"
   ]
  },
  {
   "cell_type": "code",
   "execution_count": 171,
   "metadata": {},
   "outputs": [
    {
     "data": {
      "text/latex": [
       "$\\displaystyle -\\frac{1}{4} \\, F\\left(a_{x}, a_{y}\\right) - \\frac{1}{2} \\, \\int_{a_{x}}^{b_{x}} \\frac{1}{2} \\, {\\left(2 \\, n_{x} - 2 \\, \\left \\lfloor n_{x} \\right \\rfloor - 1\\right)} \\frac{\\partial}{\\partial n_{x}}F\\left(n_{x}, n_{y}\\right)\\,{d n_{x}} - \\frac{1}{2} \\, \\int_{a_{y}}^{b_{y}} \\frac{1}{2} \\, {\\left(2 \\, n_{y} - 2 \\, \\left \\lfloor n_{y} \\right \\rfloor - 1\\right)} \\frac{\\partial}{\\partial n_{y}}F\\left(n_{x}, n_{y}\\right)\\,{d n_{y}} - \\frac{1}{2} \\, \\int_{a_{y}}^{b_{y}} F\\left(a_{x}, n_{y}\\right)\\,{d n_{y}} - \\frac{1}{2} \\, \\int_{a_{x}}^{b_{x}} F\\left(n_{x}, a_{y}\\right)\\,{d n_{x}}$"
      ],
      "text/plain": [
       "<IPython.core.display.Math object>"
      ]
     },
     "metadata": {},
     "output_type": "display_data"
    }
   ],
   "source": [
    "disp((halfy_halfx_F) \n",
    "     - (inty_halfx_F + halfy_halfx_F + sumy_F/2 + Rpy_F/2)\n",
    "     - (halfy_intx_F + halfy_halfx_F + sumx_F/2 + Rpx_F/2))"
   ]
  },
  {
   "cell_type": "markdown",
   "metadata": {},
   "source": [
    "So we can find\n",
    "\n",
    "\\begin{equation}\n",
    "\\sum\\limits_{n_x=\\left(0\\right)\\,1}^{\\infty}\n",
    "\\sum\\limits_{n_y=\\left(0\\right)\\,1}^{\\infty}\n",
    "F\\left(n_x, n_y\\right)\n",
    "-\n",
    "\\int\\limits_{0}^{\\infty}\n",
    "\\int\\limits_{0}^{\\infty}\n",
    "F\\left(n_x, n_y\\right)\\,d{n_x}\\,d{n_y}\n",
    "\\end{equation}\n",
    "\n",
    "using the following formula:"
   ]
  },
  {
   "cell_type": "markdown",
   "metadata": {},
   "source": [
    "$\\begin{array}{rrrr}\n",
    "    \\,&\n",
    "    \\,&\n",
    "    + \\int\\limits_{n_y}^{}{\\sum\\limits_{n_x}^{}}^{B}\\,F &\n",
    "    + \\int\\limits_{n_y}^{}\\,\\underset{n_x}{R_{p}}\\,F  \\\\\n",
    "    \\,&\n",
    "    \\,&\n",
    "    + \\underset{n_y}{H_{\\sum}}\\,{\\sum\\limits_{n_x}^{}}^{B}\\,F &\n",
    "    + \\underset{n_y}{H_{\\sum}}\\,\\underset{n_x}{R_{p}}\\,F \\\\\n",
    "    + {\\sum\\limits_{n_y}^{}}^{B}\\,\\int\\limits_{n_x}^{}\\,F &\n",
    "    + {\\sum\\limits_{n_y}^{}}^{B}\\,\\underset{n_x}{H_{\\sum}}\\,F &\n",
    "    + {\\sum\\limits_{n_y}^{}}^{B}\\,{\\sum\\limits_{n_x}^{}}^{B}\\,F &\n",
    "    + {\\sum\\limits_{n_y}^{}}^{B}\\,\\underset{n_x}{R_{p}}\\,F \\\\\n",
    "    + \\underset{n_y}{R_{p}}\\,\\int\\limits_{n_x}^{}\\,F &\n",
    "    + \\underset{n_y}{R_{p}}\\,\\underset{n_x}{H_{\\sum}}\\,F &\n",
    "    +  \\underset{n_y}{R_{p}}\\,{\\sum\\limits_{n_x}^{}}^{B}\\,F &\n",
    "    + \\underset{n_y}{R_{p}}\\,\\underset{n_x}{R_{p}}\\,F \\\\\n",
    "    \\,&\n",
    "    \\,&\n",
    "    - \\frac{1}{2}{\\sum\\limits_{n_y}^{}}^{B}\\,F &\n",
    "    - \\frac{1}{2}\\underset{n_y}{R_{p}}\\,F \\\\\n",
    "    \\,&\n",
    "    \\,&\n",
    "    - \\frac{1}{2}{\\sum\\limits_{n_x}^{}}^{B}\\,F &\n",
    "    - \\frac{1}{2}\\underset{n_x}{R_{p}}\\,F \\\\\n",
    "\\end{array}$"
   ]
  },
  {
   "cell_type": "code",
   "execution_count": 172,
   "metadata": {},
   "outputs": [],
   "source": [
    "result_F = \\\n",
    "                             + inty_sumx_F  + inty_Rpx_F  + \\\n",
    "                             + halfy_sumx_F + halfy_Rpx_F + \\\n",
    "sumy_intx_F  + sumy_halfx_F  + sumy_sumx_F  + sumy_Rpx_F + \\\n",
    "Rpy_intx_F   + Rpy_halfx_F   + Rpy_sumx_F   + Rpy_Rpx_F \\\n",
    "                             - (sumy_F/2    + Rpy_F/2) \\\n",
    "                             - (sumx_F/2    + Rpx_F/2)"
   ]
  },
  {
   "cell_type": "code",
   "execution_count": 173,
   "metadata": {},
   "outputs": [
    {
     "data": {
      "text/latex": [
       "$\\displaystyle \\int_{a_{y}}^{b_{y}} 0\\,{d n_{y}} + \\int_{a_{y}}^{b_{y}} \\frac{1}{2} \\, {\\left(2 \\, n_{y} - 2 \\, \\left \\lfloor n_{y} \\right \\rfloor - 1\\right)} \\int_{a_{x}}^{b_{x}} \\frac{1}{2} \\, {\\left(2 \\, n_{x} - 2 \\, \\left \\lfloor n_{x} \\right \\rfloor - 1\\right)} \\frac{\\partial^{2}}{\\partial n_{x}\\partial n_{y}}F\\left(n_{x}, n_{y}\\right)\\,{d n_{x}}\\,{d n_{y}} + \\int_{a_{y}}^{b_{y}} \\frac{1}{4} \\, {\\left(2 \\, n_{y} - 2 \\, \\left \\lfloor n_{y} \\right \\rfloor - 1\\right)} \\frac{\\partial}{\\partial n_{y}}F\\left(a_{x}, n_{y}\\right)\\,{d n_{y}} - \\frac{1}{4} \\, \\int_{a_{x}}^{b_{x}} -2 \\, n_{x} \\frac{\\partial}{\\partial n_{x}}F\\left(n_{x}, a_{y}\\right)\\,{d n_{x}} - \\frac{1}{4} \\, \\int_{a_{x}}^{b_{x}} 2 \\, \\left \\lfloor n_{x} \\right \\rfloor \\frac{\\partial}{\\partial n_{x}}F\\left(n_{x}, a_{y}\\right)\\,{d n_{x}} - \\frac{1}{2} \\, \\int_{a_{x}}^{b_{x}} \\frac{1}{2} \\, {\\left(2 \\, n_{x} - 2 \\, \\left \\lfloor n_{x} \\right \\rfloor - 1\\right)} \\frac{\\partial}{\\partial n_{x}}F\\left(n_{x}, n_{y}\\right)\\,{d n_{x}} - \\frac{1}{2} \\, \\int_{a_{y}}^{b_{y}} \\frac{1}{2} \\, {\\left(2 \\, n_{y} - 2 \\, \\left \\lfloor n_{y} \\right \\rfloor - 1\\right)} \\frac{\\partial}{\\partial n_{y}}F\\left(n_{x}, n_{y}\\right)\\,{d n_{y}} + 2 \\, \\int_{a_{y}}^{b_{y}} \\int_{a_{x}}^{b_{x}} \\frac{1}{2} \\, {\\left(2 \\, n_{x} - 2 \\, \\left \\lfloor n_{x} \\right \\rfloor - 1\\right)} \\frac{\\partial}{\\partial n_{x}}F\\left(n_{x}, n_{y}\\right)\\,{d n_{x}}\\,{d n_{y}} - \\frac{1}{4} \\, \\int_{a_{x}}^{b_{x}} \\frac{\\partial}{\\partial n_{x}}F\\left(n_{x}, a_{y}\\right)\\,{d n_{x}}$"
      ],
      "text/plain": [
       "<IPython.core.display.Math object>"
      ]
     },
     "metadata": {},
     "output_type": "display_data"
    }
   ],
   "source": [
    "disp(result_F)"
   ]
  },
  {
   "cell_type": "markdown",
   "metadata": {},
   "source": [
    "Without remainer part:"
   ]
  },
  {
   "cell_type": "markdown",
   "metadata": {},
   "source": [
    "$\\begin{array}{rrrr}\n",
    "    \\,&\n",
    "    \\,&\n",
    "    + \\int\\limits_{n_y}^{}{\\sum\\limits_{n_x}^{}}^{B}\\,F \\\\\n",
    "    \\,&\n",
    "    \\,&\n",
    "    + \\underset{n_y}{H_{\\sum}}\\,{\\sum\\limits_{n_x}^{}}^{B}\\,F \\\\\n",
    "    + {\\sum\\limits_{n_y}^{}}^{B}\\,\\int\\limits_{n_x}^{}\\,F &\n",
    "    + {\\sum\\limits_{n_y}^{}}^{B}\\,\\underset{n_x}{H_{\\sum}}\\,F &\n",
    "    + {\\sum\\limits_{n_y}^{}}^{B}\\,{\\sum\\limits_{n_x}^{}}^{B}\\,F\\\\\n",
    "    \\,&\n",
    "    \\,&\n",
    "    - \\frac{1}{2}{\\sum\\limits_{n_y}^{}}^{B}\\,F \\\\\n",
    "    \\,&\n",
    "    \\,&\n",
    "    - \\frac{1}{2}{\\sum\\limits_{n_x}^{}}^{B}\\,F \\\\\n",
    "\\end{array}$"
   ]
  },
  {
   "cell_type": "code",
   "execution_count": 174,
   "metadata": {},
   "outputs": [],
   "source": [
    "result_F_without_Rp = \\\n",
    "                             + inty_sumx_F \\\n",
    "                             + halfy_sumx_F \\\n",
    "+ sumy_intx_F + sumy_halfx_F + sumy_sumx_F \\\n",
    "                             - (sumy_F/2) \\\n",
    "                             - (sumx_F/2)"
   ]
  },
  {
   "cell_type": "code",
   "execution_count": 175,
   "metadata": {},
   "outputs": [
    {
     "data": {
      "text/latex": [
       "$\\displaystyle 0$"
      ],
      "text/plain": [
       "<IPython.core.display.Math object>"
      ]
     },
     "metadata": {},
     "output_type": "display_data"
    }
   ],
   "source": [
    "disp(result_F_without_Rp)"
   ]
  },
  {
   "cell_type": "markdown",
   "metadata": {},
   "source": [
    "So we see that all terms without remainer part are 0. And so any potencial non zero result should be related with remainer part:"
   ]
  },
  {
   "cell_type": "markdown",
   "metadata": {},
   "source": [
    "\\begin{equation}\n",
    "\\sum\\limits_{n_x=\\left(0\\right)\\,1}^{\\infty}\n",
    "\\sum\\limits_{n_y=\\left(0\\right)\\,1}^{\\infty}\n",
    "F\\left(n_x, n_y\\right)\n",
    "-\n",
    "\\int\\limits_{0}^{\\infty}\n",
    "\\int\\limits_{0}^{\\infty}\n",
    "F\\left(n_x, n_y\\right)\\,d{n_x}\\,d{n_y} =\n",
    "\\end{equation}"
   ]
  },
  {
   "cell_type": "markdown",
   "metadata": {},
   "source": [
    "$\\begin{array}{rrrr}\n",
    "    \\,&\n",
    "    \\,&\n",
    "    \\,&\n",
    "    + \\int\\limits_{n_y}^{}\\,\\underset{n_x}{R_{p}}\\,F  \\\\\n",
    "    \\,&\n",
    "    \\,&\n",
    "    \\,&\n",
    "    + \\underset{n_y}{H_{\\sum}}\\,\\underset{n_x}{R_{p}}\\,F \\\\\n",
    "    \\,&\n",
    "    \\,&\n",
    "    \\,&\n",
    "    + {\\sum\\limits_{n_y}^{}}^{B}\\,\\underset{n_x}{R_{p}}\\,F \\\\\n",
    "    + \\underset{n_y}{R_{p}}\\,\\int\\limits_{n_x}^{}\\,F &\n",
    "    + \\underset{n_y}{R_{p}}\\,\\underset{n_x}{H_{\\sum}}\\,F &\n",
    "    +  \\underset{n_y}{R_{p}}\\,{\\sum\\limits_{n_x}^{}}^{B}\\,F &\n",
    "    + \\underset{n_y}{R_{p}}\\,\\underset{n_x}{R_{p}}\\,F \\\\\n",
    "    \\,&\n",
    "    \\,&\n",
    "    \\,&\n",
    "    - \\frac{1}{2}\\underset{n_y}{R_{p}}\\,F \\\\\n",
    "    \\,&\n",
    "    \\,&\n",
    "    \\,&\n",
    "    - \\frac{1}{2}\\underset{n_x}{R_{p}}\\,F \\\\\n",
    "\\end{array}$"
   ]
  },
  {
   "cell_type": "code",
   "execution_count": 177,
   "metadata": {},
   "outputs": [],
   "source": [
    "result_energy_density_difference_F = \\\n",
    "                                         + inty_Rpx_F \\\n",
    "                                         + halfy_Rpx_F \\\n",
    "                                         + sumy_Rpx_F \\\n",
    "+ Rpy_intx_F + Rpy_halfx_F + Rpy_sumx_F  + Rpy_Rpx_F \\\n",
    "                                         - (Rpy_F/2) \\\n",
    "                                         - (Rpx_F/2)"
   ]
  },
  {
   "cell_type": "markdown",
   "metadata": {},
   "source": [
    "Or using simmetric properties of $F$ we can rewrite result formula:"
   ]
  },
  {
   "cell_type": "markdown",
   "metadata": {},
   "source": [
    "\\begin{equation}\n",
    "\\sum\\limits_{n_x=\\left(0\\right)\\,1}^{\\infty}\n",
    "\\sum\\limits_{n_y=\\left(0\\right)\\,1}^{\\infty}\n",
    "F\\left(n_x, n_y\\right)\n",
    "-\n",
    "\\int\\limits_{0}^{\\infty}\n",
    "\\int\\limits_{0}^{\\infty}\n",
    "F\\left(n_x, n_y\\right)\\,d{n_x}\\,d{n_y} =\n",
    "\\end{equation}"
   ]
  },
  {
   "cell_type": "markdown",
   "metadata": {},
   "source": [
    "$\\begin{array}{rrrr}\n",
    "    +\\,2\\cdot\\underset{n_y}{R_{p}}\\,\\int\\limits_{n_x}^{}\\,F &\n",
    "    +\\,2\\cdot\\underset{n_y}{R_{p}}\\,\\underset{n_x}{H_{\\sum}}\\,F &\n",
    "    +\\,2\\cdot\\underset{n_y}{R_{p}}\\,{\\sum\\limits_{n_x}^{}}^{B}\\,F &\n",
    "    +\\,\\underset{n_y}{R_{p}}\\,\\underset{n_x}{R_{p}}\\,F \\\\\n",
    "    \\,&\n",
    "    \\,&\n",
    "    \\,&\n",
    "    -\\,\\underset{n_y}{R_{p}}\\,F \\\\\n",
    "\\end{array}$"
   ]
  },
  {
   "cell_type": "code",
   "execution_count": 178,
   "metadata": {},
   "outputs": [],
   "source": [
    "result_energy_density_difference_F = \\\n",
    "2 * Rpy_intx_F + 2 * Rpy_halfx_F + 2 * Rpy_sumx_F + Rpy_Rpx_F \\\n",
    "                                                  - Rpy_F"
   ]
  },
  {
   "cell_type": "code",
   "execution_count": 179,
   "metadata": {},
   "outputs": [
    {
     "data": {
      "text/latex": [
       "$\\displaystyle 2 \\, \\int_{a_{y}}^{b_{y}} \\int_{a_{x}}^{b_{x}} \\frac{1}{2} \\, {\\left(2 \\, n_{x} - 2 \\, \\left \\lfloor n_{x} \\right \\rfloor - 1\\right)} \\frac{\\partial}{\\partial n_{x}}F\\left(n_{x}, n_{y}\\right)\\,{d n_{x}}\\,{d n_{y}}$"
      ],
      "text/plain": [
       "<IPython.core.display.Math object>"
      ]
     },
     "metadata": {},
     "output_type": "display_data"
    },
    {
     "data": {
      "text/latex": [
       "$\\displaystyle 2 \\, \\int_{a_{y}}^{b_{y}} \\frac{1}{4} \\, {\\left(2 \\, n_{y} - 2 \\, \\left \\lfloor n_{y} \\right \\rfloor - 1\\right)} \\frac{\\partial}{\\partial n_{y}}F\\left(a_{x}, n_{y}\\right)\\,{d n_{y}}$"
      ],
      "text/plain": [
       "<IPython.core.display.Math object>"
      ]
     },
     "metadata": {},
     "output_type": "display_data"
    },
    {
     "data": {
      "text/latex": [
       "$\\displaystyle 2 \\, \\int_{a_{y}}^{b_{y}} 0\\,{d n_{y}}$"
      ],
      "text/plain": [
       "<IPython.core.display.Math object>"
      ]
     },
     "metadata": {},
     "output_type": "display_data"
    },
    {
     "data": {
      "text/latex": [
       "$\\displaystyle \\int_{a_{y}}^{b_{y}} \\frac{1}{2} \\, {\\left(2 \\, n_{y} - 2 \\, \\left \\lfloor n_{y} \\right \\rfloor - 1\\right)} \\int_{a_{x}}^{b_{x}} \\frac{1}{2} \\, {\\left(2 \\, n_{x} - 2 \\, \\left \\lfloor n_{x} \\right \\rfloor - 1\\right)} \\frac{\\partial^{2}}{\\partial n_{x}\\partial n_{y}}F\\left(n_{x}, n_{y}\\right)\\,{d n_{x}}\\,{d n_{y}}$"
      ],
      "text/plain": [
       "<IPython.core.display.Math object>"
      ]
     },
     "metadata": {},
     "output_type": "display_data"
    },
    {
     "data": {
      "text/latex": [
       "$\\displaystyle -\\int_{a_{y}}^{b_{y}} \\frac{1}{2} \\, {\\left(2 \\, n_{y} - 2 \\, \\left \\lfloor n_{y} \\right \\rfloor - 1\\right)} \\frac{\\partial}{\\partial n_{y}}F\\left(n_{x}, n_{y}\\right)\\,{d n_{y}}$"
      ],
      "text/plain": [
       "<IPython.core.display.Math object>"
      ]
     },
     "metadata": {},
     "output_type": "display_data"
    }
   ],
   "source": [
    "disp(2 * Rpy_intx_F )\n",
    "disp(2 * Rpy_halfx_F)\n",
    "disp(2 * Rpy_sumx_F)\n",
    "disp(Rpy_Rpx_F)\n",
    "disp(- Rpy_F)"
   ]
  },
  {
   "cell_type": "markdown",
   "metadata": {},
   "source": [
    "$\\underset{n_y}{R_{p}}\\,{\\sum\\limits_{n_x}^{}}^{B}\\,F$ should be $0$, because derivative by $n_x$ when $n_x = 0$ gives $0$.\n",
    "\n",
    "$\\,2\\cdot\\underset{n_y}{R_{p}}\\,\\underset{n_x}{H_{\\sum}}\\,F -\\,\\underset{n_y}{R_{p}}\\,F$ gives $0$ in summation.\n",
    "\n",
    "So result is:"
   ]
  },
  {
   "cell_type": "markdown",
   "metadata": {},
   "source": [
    "\\begin{equation}\n",
    "\\sum\\limits_{n_x=\\left(0\\right)\\,1}^{\\infty}\n",
    "\\sum\\limits_{n_y=\\left(0\\right)\\,1}^{\\infty}\n",
    "F\\left(n_x, n_y\\right)\n",
    "-\n",
    "\\int\\limits_{0}^{\\infty}\n",
    "\\int\\limits_{0}^{\\infty}\n",
    "F\\left(n_x, n_y\\right)\\,d{n_x}\\,d{n_y} =\n",
    "\\,2\\cdot\\underset{n_y}{R_{p}}\\,\\int\\limits_{n_x}^{}\\,F \n",
    "+\\,\\underset{n_y}{R_{p}}\\,\\underset{n_x}{R_{p}}\\,F = \\\\\n",
    "\\int_{a_{y}}^{b_{y}} \\frac{1}{2} \\, {\\left(2 \\, n_{y} - 2 \\, \\left \\lfloor n_{y} \\right \\rfloor - 1\\right)} \\int_{a_{x}}^{b_{x}} \\frac{1}{2} \\, {\\left(2 \\, n_{x} - 2 \\, \\left \\lfloor n_{x} \\right \\rfloor - 1\\right)} \\frac{\\partial^{2}}{\\partial n_{x}\\partial n_{y}}F\\left(n_{x}, n_{y}\\right)\\,{d n_{x}}\\,{d n_{y}} + \\\\\n",
    "2 \\, \\int_{a_{y}}^{b_{y}} \\int_{a_{x}}^{b_{x}} \\frac{1}{2} \\, {\\left(2 \\, n_{x} - 2 \\, \\left \\lfloor n_{x} \\right \\rfloor - 1\\right)} \\frac{\\partial}{\\partial n_{x}}F\\left(n_{x}, n_{y}\\right)\\,{d n_{x}}\\,{d n_{y}}\n",
    "\\end{equation}"
   ]
  },
  {
   "cell_type": "code",
   "execution_count": null,
   "metadata": {},
   "outputs": [],
   "source": []
  },
  {
   "cell_type": "markdown",
   "metadata": {},
   "source": [
    "# Result energy density difference calculation via Euler–Maclaurin 2D"
   ]
  },
  {
   "cell_type": "code",
   "execution_count": 206,
   "metadata": {},
   "outputs": [
    {
     "data": {
      "text/latex": [
       "$\\displaystyle \\begin{array}{rrr} \\,j & \\,\\Delta\\,\\delta\\,\\frac{E}{V} & \\delta\\,\\frac{E}{V} \\\\ 0 & 0.0006061883111035354 & 0.0006061883111035354 \\\\ 1 & 0.0017975635908745761 & 0.0024037519019781115 \\\\ 2 & 0.00035749773184259783 & 0.0027612496338207094 \\\\ 3 & 0.00012788697859491643 & 0.0028891366124156256 \\\\ 4 & 5.9705484001188586e-05 & 0.0029488420964168143 \\\\ 5 & 3.257148744888141e-05 & 0.002981413583865696 \\\\ 6 & 1.968745192542542e-05 & 0.0030011010357911213 \\\\ 7 & 1.2797274646692704e-05 & 0.003013898310437814 \\\\ 8 & 8.782630461354662e-06 & 0.0030226809408991687 \\\\ 9 & 6.286568945150221e-06 & 0.003028967509844319 \\\\ 10 & 4.653726092487851e-06 & 0.003033621235936807 \\\\ 11 & 3.5410584083251118e-06 & 0.003037162294345132 \\\\ 12 & 2.75679543325626e-06 & 0.003039919089778388 \\\\ 13 & 2.1876911407025913e-06 & 0.003042106780919091 \\\\ 14 & 1.7653796431461397e-06 & 0.003043872160562237 \\\\ 15 & 1.4449179129158848e-06 & 0.003045317078475153 \\\\ 16 & 1.1976496673269677e-06 & 0.00304651472814248 \\\\ 17 & 1.0037556551007683e-06 & 0.003047518483797581 \\\\ 18 & 8.495559555607291e-07 & 0.003048368039753142 \\\\ 19 & 7.253977933560336e-07 & 0.003049093437546498 \\\\ 20 & 6.243082554640035e-07 & 0.003049717745801962 \\\\ 21 & 5.411649832104003e-07 & 0.0030502589107851722 \\\\ 22 & 4.721552783665532e-07 & 0.003050731066063539 \\\\ 23 & 4.144594797762564e-07 & 0.003051145525543315 \\\\ 24 & 3.6583976909206116e-07 & 0.003051511365312407 \\\\ 25 & 3.2450273727752887e-07 & 0.0030518358680496844 \\\\ 26 & 2.8919355367709493e-07 & 0.0030521250616033615 \\\\ 27 & 2.588291409228736e-07 & 0.0030523838907442844 \\\\ 28 & 2.325689954440146e-07 & 0.0030526164597397282 \\\\ 29 & 2.0973868119740283e-07 & 0.0030528261984209258 \\\\ 30 & 1.8979289639058487e-07 & 0.0030530159913173165 \\\\ 31 & 1.7228985609844344e-07 & 0.003053188281173415 \\\\ 32 & 1.5686119813373244e-07 & 0.003053345142371549 \\\\ 33 & 1.4338501326615822e-07 & 0.003053488527384815 \\\\ 34 & 1.3108364660302253e-07 & 0.003053619611031418 \\\\ 35 & 1.2041292696876326e-07 & 0.003053740023958387 \\\\ 36 & 1.1061631735931385e-07 & 0.0030538506402757464 \\\\ 37 & 1.0213900501314245e-07 & 0.0030539527792807597 \\\\ 38 & 9.422207002695633e-08 & 0.0030540470013507865 \\\\ 39 & 8.717997188395283e-08 & 0.0030541341813226704 \\\\ 40 & 8.190528201498716e-08 & 0.0030542160866046855 \\\\ 41 & 7.507802147236051e-08 & 0.003054291164626158 \\\\ 42 & 6.992982141603731e-08 & 0.003054361094447574 \\\\ 43 & 6.505042645995223e-08 & 0.003054426144874034 \\\\ 44 & 6.071581946749412e-08 & 0.0030544868606935016 \\\\ 45 & 5.675623650037818e-08 & 0.003054543616930002 \\\\ 46 & 5.3170333530302065e-08 & 0.0030545967872635323 \\\\ 47 & 4.9810964223396824e-08 & 0.003054646598227756 \\\\ 48 & 4.6760847526554185e-08 & 0.0030546933590752823 \\\\ 49 & 4.3955678298020916e-08 & 0.0030547373147535805 \\\\ 50 & 4.13718307494964e-08 & 0.00305477868658433 \\\\\\end{array}$"
      ],
      "text/plain": [
       "<IPython.core.display.Math object>"
      ]
     },
     "metadata": {},
     "output_type": "display_data"
    }
   ],
   "source": [
    "display(Math(latex_arr_str(str_energy_density_difference_akm1, \\\n",
    "                           titles = [\"\\\\,j\", \"\\\\,\\\\Delta\\\\,\\\\delta\\\\,\\\\frac{E}{V}\", \\\n",
    "                           \"\\\\delta\\\\,\\\\frac{E}{V}\"], \n",
    "                          indexes = [0,1,2])))"
   ]
  },
  {
   "cell_type": "code",
   "execution_count": 212,
   "metadata": {},
   "outputs": [
    {
     "data": {
      "image/png": "[encoded data removed]",
      "text/plain": [
       "Graphics object consisting of 1 graphics primitive"
      ]
     },
     "metadata": {},
     "output_type": "display_data"
    },
    {
     "data": {
      "image/png": "[encoded data removed]",
      "text/plain": [
       "Graphics object consisting of 1 graphics primitive"
      ]
     },
     "metadata": {},
     "output_type": "display_data"
    }
   ],
   "source": [
    "list_plot_str(str_energy_density_difference_akm1, \"add energy_density_difference $a k_m = 1$\", \"energy_density_difference $a k_m = 1$\")"
   ]
  },
  {
   "cell_type": "markdown",
   "metadata": {},
   "source": [
    "Now we should understood can received coefficient be reduced to zero when N will be Infinity? So we try to recalc this coefficient with ..."
   ]
  },
  {
   "cell_type": "markdown",
   "metadata": {},
   "source": [
    "# Just numerical summation of"
   ]
  },
  {
   "cell_type": "markdown",
   "metadata": {},
   "source": [
    "\\begin{equation}\n",
    "\\sum\\limits_{n_x=\\left(0\\right)\\,1}^{\\infty}\n",
    "\\sum\\limits_{n_y=\\left(0\\right)\\,1}^{\\infty}\n",
    "G\\left(n_x, n_y\\right)\n",
    "-\n",
    "\\int\\limits_{0}^{\\infty}\n",
    "\\int\\limits_{0}^{\\infty}\n",
    "G\\left(n_x, n_y\\right)\\,d{n_x}\\,d{n_y}\n",
    "\\end{equation}\n",
    "\n",
    "assuming that $a \\cdot k_m = 1$ "
   ]
  },
  {
   "cell_type": "code",
   "execution_count": 226,
   "metadata": {},
   "outputs": [
    {
     "data": {
      "text/latex": [
       "$\\displaystyle \\begin{array}{rr} \\,N & \\sum\\limits_{n_x=\\left(0\\right)\\,1}^{\\infty}\\sum\\limits_{n_y=\\left(0\\right)\\,1}^{\\infty}G-\\int\\limits_{0}^{\\infty}\\int\\limits_{0}^{\\infty}G \\\\ 0 & -0.134341519977472 \\\\ 1 & -0.119005331230908 \\\\ 5 & -0.0984714508172436 \\\\ 10 & -0.0880702626646937 \\\\ 20 & -0.0772887197166355 \\\\ 30 & -0.0708833846842495 \\\\ 40 & -0.0663110598664431 \\\\ 50 & -0.0627528255370292 \\\\ 100 & -0.0516678789836420 \\\\ 200 & -0.0407367638611914 \\\\ 300 & -0.0337693124581870 \\\\ 400 & -0.0282806874407008 \\\\ 500 & -0.0238063146340846 \\\\ 1000 & -0.0107789161480249 \\\\ 1500 & -0.00502312056583420 \\\\ 2000 & -0.00190941296245381 \\\\ 2500 & 0.0000201059603710529 \\\\ 3000 & 0.00132758328065635 \\\\ 3500 & 0.00227027552339279 \\\\ 4000 & 0.00298145500689453 \\\\ 4350 & 0.00338340103876306 \\\\\\end{array}$"
      ],
      "text/plain": [
       "<IPython.core.display.Math object>"
      ]
     },
     "metadata": {},
     "output_type": "display_data"
    }
   ],
   "source": [
    "display(Math(latex_arr_str(str1, \\\n",
    "                           titles = [\"\\\\,N\", \"\\\\sum\\\\limits_{n_x=\\\\left(0\\\\right)\\\\,1}^{\\\\infty}\\\\sum\\\\limits_{n_y=\\\\left(0\\\\right)\\\\,1}^{\\\\infty}G-\\\\int\\\\limits_{0}^{\\\\infty}\\\\int\\\\limits_{0}^{\\\\infty}G\"], \n",
    "                          indexes = [0,8])))"
   ]
  },
  {
   "cell_type": "code",
   "execution_count": 229,
   "metadata": {
    "scrolled": true
   },
   "outputs": [
    {
     "data": {
      "image/png": "[encoded data removed]",
      "text/plain": [
       "Graphics object consisting of 1 graphics primitive"
      ]
     },
     "metadata": {},
     "output_type": "display_data"
    }
   ],
   "source": [
    "list_plot(data_sum_sum_intu_Fn_inty_intx_intu_Fn).show(title=\"sum_sum_intu_Fn-inty_intx_intu_Fn\")"
   ]
  },
  {
   "cell_type": "markdown",
   "metadata": {},
   "source": [
    "Here while make summation of non negative terms we receive very similar positive result. So result energy_density_difference calculation via Euler–Maclaurin 2D is not zero!"
   ]
  },
  {
   "cell_type": "markdown",
   "metadata": {},
   "source": [
    "# Let's investigate how result energy density difference depends on $a k_m$"
   ]
  },
  {
   "cell_type": "markdown",
   "metadata": {},
   "source": [
    "Casimir in his original work has provided his formula in assumption when as $a\\,k_m\\,»\\,1$. "
   ]
  },
  {
   "cell_type": "markdown",
   "metadata": {},
   "source": [
    "as long as $a\\,k_m\\,»\\,1$:"
   ]
  },
  {
   "cell_type": "code",
   "execution_count": 241,
   "metadata": {},
   "outputs": [
    {
     "data": {
      "text/latex": [
       "$\\displaystyle \\begin{array}{rrrr} \\,a \\cdot k_m & \\delta\\,\\frac{E}{V} & \\epsilon & j_{max} \\\\ 0.25 & 0.0010898998026781217 & 4.996697073620143e-07 & 2 \\\\ 0.5 & 0.0032237749029524953 & 7.998369526561223e-07 & 6 \\\\ 0.75 & 0.004403922584267899 & 8.721734991096397e-07 & 11 \\\\ 1.0 & 0.003048368039753142 & 8.495559555607291e-07 & 17 \\\\ 1.25 & -0.0014811539004775248 & 1.7711588730298828e-06 & 18 \\\\ 1.5 & -0.008708226320289525 & 3.6727148564415e-06 & 18 \\\\ 1.75 & -0.01722786703218093 & 6.80405403998826e-06 & 18 \\\\ 2.0 & -0.025174603512904688 & 9.989436530283013e-06 & 19 \\\\ 2.25 & -0.030834142522710325 & 9.370330676246764e-06 & 23 \\\\ 2.5 & -0.03328670643720081 & 1.4281938944775391e-05 & 23 \\\\ 2.75 & -0.03243630208049284 & 2.091015549165456e-05 & 23 \\\\ 3.0 & -0.028986396523536337 & 2.961508478431949e-05 & 23 \\\\ 3.25 & -0.024047951283080123 & 4.0789713256873105e-05 & 23 \\\\ 3.5 & -0.018309169743688476 & 8.561178612309775e-06 & 45 \\\\ 3.75 & -0.013591792977477306 & 2.1853680230903085e-05 & 36 \\\\ 4 & -0.009731507224089121 & 1.4610545561998458e-05 & 45 \\\\ 4.5 & -0.006342700310733549 & 1.9329818693328873e-05 & 48 \\\\ 5 & -0.007323343929996339 & 2.3242272627768528e-05 & 52 \\\\ 6 & -0.012436017530558603 & 2.3732800946523056e-05 & 66 \\\\ 7 & -0.014209420986523558 & 3.8533275062919475e-05 & 69 \\\\ 8 & -0.0136610172109347 & 3.293747500025098e-05 & 87 \\\\ 9 & -0.013782731174753638 & 3.585979757156756e-05 & 99 \\\\\\end{array}$"
      ],
      "text/plain": [
       "<IPython.core.display.Math object>"
      ]
     },
     "metadata": {},
     "output_type": "display_data"
    }
   ],
   "source": [
    "display(Math(latex_arr_str(str_energy_density_difference_depending_on_akm, \\\n",
    "                           titles = [\"\\\\,a \\\\cdot k_m\", \"\\\\delta\\\\,\\\\frac{E}{V}\", \"\\\\epsilon\", \"j_{max}\"], \n",
    "                          indexes = [0,1,2,3])))"
   ]
  },
  {
   "cell_type": "code",
   "execution_count": 241,
   "metadata": {},
   "outputs": [
    {
     "data": {
      "image/png": "[encoded data removed]",
      "text/plain": [
       "Graphics object consisting of 1 graphics primitive"
      ]
     },
     "metadata": {},
     "output_type": "display_data"
    }
   ],
   "source": [
    "list_plot_str(str_energy_density_difference_depending_on_akm, \"energy_density_difference depending on $a k_m$\", \"last add energy_density_difference depending on $a k_m$\")"
   ]
  },
  {
   "cell_type": "code",
   "execution_count": null,
   "metadata": {},
   "outputs": [],
   "source": []
  },
  {
   "cell_type": "markdown",
   "metadata": {},
   "source": [
    "Thus for the energy density difference per $cm^2$ we find"
   ]
  },
  {
   "cell_type": "markdown",
   "metadata": {},
   "source": [
    "\\begin{equation}\n",
    "\\delta\\,\\frac{E}{V} = \\frac{\\hbar\\,c\\,\\pi}{a^4}\n",
    "\\int\\limits_{0}^{\\infty}{\n",
    "\\left\\{\n",
    "\\sum\\limits_{n_x=\\left(0\\right)\\,1}^{\\infty}\n",
    "\\sum\\limits_{n_y=\\left(0\\right)\\,1}^{\\infty}\n",
    "F\\left(n_x, n_y\\right)\n",
    "-\n",
    "\\int\\limits_{0}^{\\infty}\n",
    "\\int\\limits_{0}^{\\infty}\n",
    "F\\left(n_x, n_y\\right)\\,d{n_x}\\,d{n_y}\n",
    "\\right\\}\n",
    "}\\,d{u}\n",
    "\\end{equation}"
   ]
  },
  {
   "cell_type": "markdown",
   "metadata": {},
   "source": [
    "According to our calculation we can see that "
   ]
  },
  {
   "cell_type": "markdown",
   "metadata": {},
   "source": [
    "\\begin{equation}\n",
    "\\int\\limits_{0}^{\\infty}{\n",
    "\\left\\{\n",
    "\\sum\\limits_{n_x=\\left(0\\right)\\,1}^{\\infty}\n",
    "\\sum\\limits_{n_y=\\left(0\\right)\\,1}^{\\infty}\n",
    "F\\left(n_x, n_y\\right)\n",
    "-\n",
    "\\int\\limits_{0}^{\\infty}\n",
    "\\int\\limits_{0}^{\\infty}\n",
    "F\\left(n_x, n_y\\right)\\,d{n_x}\\,d{n_y}\n",
    "\\right\\}\n",
    "}\\,d{u} \\approx R\\left(a k_m\\right)\n",
    "\\end{equation}"
   ]
  },
  {
   "cell_type": "markdown",
   "metadata": {},
   "source": [
    "Where $R\\left(a k_m\\right)$ is some material specific value. So"
   ]
  },
  {
   "cell_type": "markdown",
   "metadata": {},
   "source": [
    "$\\delta\\,\\frac{E}{V} \\approx R\\left(a k_m\\right)\\,\\frac{\\hbar\\,c\\,\\pi}{a^4}$"
   ]
  },
  {
   "cell_type": "markdown",
   "metadata": {},
   "source": [
    "For the energy density difference per $cm^2$ we find"
   ]
  },
  {
   "cell_type": "markdown",
   "metadata": {},
   "source": [
    "$\\delta\\,\\frac{E}{V} = \\hbar\\,c\\, \\pi\\frac{R}{a^4}\\,=\\,0.0136\\,\\frac{1}{a_{\\mu}^4}\\,dyne/cm^2$"
   ]
  },
  {
   "cell_type": "markdown",
   "metadata": {},
   "source": [
    "where $a_{\\mu}$ is the distance measured in microns. "
   ]
  },
  {
   "cell_type": "markdown",
   "metadata": {},
   "source": [
    "Can this difference of specific energy density $\\delta\\,\\frac{E}{V}$ be interpreted as the cause of the force $F$ applied to perfectly conducting honeycomb on a plate? For example my investigations of the original Casimir's configuration shown that in geometric configuration of two perfectly conducting plates $F = -3 \\cdot \\delta\\,\\frac{E}{V}$. But what about honeycomb configutation?"
   ]
  },
  {
   "cell_type": "markdown",
   "metadata": {},
   "source": [
    "Let's consider rectangular resonator."
   ]
  },
  {
   "cell_type": "markdown",
   "metadata": {},
   "source": [
    "In electric mode $\\nabla\\,\\vec{E} + \\frac{\\omega^2}{c^2}\\,\\vec{E} = 0$ we have the following \n",
    "\n",
    "$$E_{x} = A_{x} \\cos\\left(\\frac{\\pi n_{x} x}{a}\\right) \\sin\\left(\\frac{\\pi n_{y} y}{b}\\right) \\sin\\left(k_{z} z\\right)$$\n",
    "$$E_{y} = A_{y} \\cos\\left(\\frac{\\pi n_{y} y}{b}\\right) \\sin\\left(\\frac{\\pi n_{x} x}{a}\\right) \\sin\\left(k_{z} z\\right)$$\n",
    "$$E_{z} = A_{z} \\cos\\left(k_{z} z\\right) \\sin\\left(\\frac{\\pi n_{x} x}{a}\\right) \\sin\\left(\\frac{\\pi n_{y} y}{b}\\right)$$\n",
    "\n",
    "and \n",
    "\n",
    "$$H_{x} = \\frac{i \\, {\\left(A_{y} b k_{z} - \\pi A_{z} n_{y}\\right)} c \\cos\\left(\\frac{\\pi n_{y} y}{b}\\right) \\cos\\left(k_{z} z\\right) \\sin\\left(\\frac{\\pi n_{x} x}{a}\\right)}{b \\mu \\omega}$$\n",
    "$$H_{y} = -\\frac{i \\, {\\left(A_{x} k_{z} - \\frac{\\pi A_{z} n_{x}}{a}\\right)} c \\cos\\left(\\frac{\\pi n_{x} x}{a}\\right) \\cos\\left(k_{z} z\\right) \\sin\\left(\\frac{\\pi n_{y} y}{b}\\right)}{\\mu \\omega}$$\n",
    "$$H_{z} = -\\frac{i \\, {\\left(\\frac{\\pi A_{y} n_{x}}{a} - \\frac{\\pi A_{x} n_{y}}{b}\\right)} c \\cos\\left(\\frac{\\pi n_{x} x}{a}\\right) \\cos\\left(\\frac{\\pi n_{y} y}{b}\\right) \\sin\\left(k_{z} z\\right)}{\\mu \\omega}$$\n",
    "\n",
    "with\n",
    "\n",
    "$$k_{z}^{2} + \\frac{\\pi^{2} n_{x}^{2}}{a^{2}} + \\frac{\\pi^{2} n_{y}^{2}}{a^{2}} - \\frac{\\omega^{2}}{c^{2}} = 0$$\n",
    "\n",
    "\n",
    "using $div\\,\\vec{E} = 0$ we have\n",
    "\n",
    "$$A_{z} k_{z} + \\frac{\\pi A_{x} n_{x}}{a} + \\frac{\\pi A_{y} n_{y}}{a} = 0$$\n",
    "\n",
    "Field energy density $\\frac{\\int \\frac{E_x^2+E_y^2+E_z^2}{8 \\pi}dV}{V}$ is\n",
    "\n",
    "$$\\frac{E}{V} = \\frac{{\\left(A_{x}^{2} + A_{y}^{2} + A_{z}^{2}\\right)} a b h}{64 \\, \\pi}$$"
   ]
  },
  {
   "cell_type": "code",
   "execution_count": null,
   "metadata": {},
   "outputs": [],
   "source": []
  },
  {
   "cell_type": "markdown",
   "metadata": {},
   "source": [
    "In magnetic mode $\\nabla\\,\\vec{H} + \\frac{\\omega^2}{c^2}\\,\\vec{H} = 0$ we have the following solution\n",
    "\n",
    "$$H_{x} = B_{1} \\cos\\left(\\frac{\\pi n_{y} y}{b}\\right) \\cos\\left(k_{z} z\\right) \\sin\\left(\\frac{\\pi n_{x} x}{a}\\right)$$\n",
    "$$H_{y} = B_{2} \\cos\\left(\\frac{\\pi n_{x} x}{a}\\right) \\cos\\left(k_{z} z\\right) \\sin\\left(\\frac{\\pi n_{y} y}{b}\\right)$$\n",
    "$$H_{z} = B_{3} \\cos\\left(\\frac{\\pi n_{x} x}{a}\\right) \\cos\\left(\\frac{\\pi n_{y} y}{b}\\right) \\sin\\left(k_{z} z\\right)$$\n",
    "\n",
    "and \n",
    "\n",
    "$$E_{x} = \\frac{i \\, {\\left(B_{2} k_{z} - \\frac{\\pi B_{3} n_{y}}{b}\\right)} c \\cos\\left(\\frac{\\pi n_{x} x}{a}\\right) \\sin\\left(\\frac{\\pi n_{y} y}{b}\\right) \\sin\\left(k_{z} z\\right)}{\\mu \\omega}$$\n",
    "$$E_{y} = -\\frac{i \\, {\\left(B_{1} k_{z} - \\frac{\\pi B_{3} n_{x}}{a}\\right)} c \\cos\\left(\\frac{\\pi n_{y} y}{b}\\right) \\sin\\left(\\frac{\\pi n_{x} x}{a}\\right) \\sin\\left(k_{z} z\\right)}{\\mu \\omega}$$\n",
    "$$E_{z} = -\\frac{i \\, {\\left(\\frac{\\pi B_{2} n_{x}}{a} - \\frac{\\pi B_{1} n_{y}}{b}\\right)} c \\cos\\left(k_{z} z\\right) \\sin\\left(\\frac{\\pi n_{x} x}{a}\\right) \\sin\\left(\\frac{\\pi n_{y} y}{b}\\right)}{\\mu \\omega}$$\n",
    "\n",
    "with\n",
    "\n",
    "$$k_{z}^{2} + \\frac{\\pi^{2} n_{x}^{2}}{a^{2}} + \\frac{\\pi^{2} n_{y}^{2}}{a^{2}} - \\frac{\\omega^{2}}{c^{2}} = 0$$\n",
    "\n",
    "using $div\\,\\vec{H} = 0$ we have\n",
    "\n",
    "$$B_{3} k_{z} + \\frac{\\pi B_{1} n_{x}}{a} + \\frac{\\pi B_{2} n_{y}}{a} = 0$$\n",
    "\n",
    "Field energy density $\\frac{\\int \\frac{H_x^2+H_y^2+H_z^2}{8 \\pi}dV}{V}$ is\n",
    "\n",
    "$$\\frac{E}{V} = \\frac{{\\left(B_{1}^{2} + B_{2}^{2} + B_{3}^{2}\\right)}}{64 \\, \\pi}$$\n",
    "\n",
    "Electromagnetic pressure on $xy$ plate $\\frac{\\int \\frac {H_x^2+H_y^2}{8 \\pi} dS}{S}$ is\n",
    "\n",
    "$$\\frac{f_z}{S}=\\frac{{\\left(B_{1}^{2} + B_{2}^{2}\\right)}}{32 \\, \\pi}$$\n",
    "\n",
    "Their relation $\\frac{f_z/S}{E/V}$ is\n",
    "\n",
    "$$\\frac{f_z/S}{E/V} = 2 \\, \\frac{{\\left(B_{1}^{2} + B_{2}^{2}\\right)}}{B_{1}^{2} + B_{2}^{2} + B_{3}^{2}}$$\n",
    "\n",
    "Considering terms with wave propagation in $z$ direction we have $E_z = 0$ which give:\n",
    "\n",
    "$$\\frac{\\pi B_{2} n_{x}}{a} - \\frac{\\pi B_{1} n_{y}}{a} = 0$$\n",
    "\n",
    "$$B_1 = -\\frac{B_{3} a k_{z} n_{x}}{\\pi n_{x}^{2} + \\pi n_{y}^{2}}$$\n",
    "$$B_2 = -\\frac{B_{3} a k_{z} n_{y}}{\\pi n_{x}^{2} + \\pi n_{y}^{2}}$$\n",
    "\n",
    "Relation of electromagnetic pressure per field energy density in this case is\n",
    "\n",
    "$$\\frac{f_z/S}{E/V} = \\frac{2 \\, a^{2} k_{z}^{2}}{a^{2} k_{z}^{2} + \\pi^{2} n_{x}^{2} + \\pi^{2} n_{y}^{2}}$$\n",
    "\n",
    "Considering terms with wave propagation in $x$ direction we have $E_x = 0$ which give:\n",
    "\n",
    "$$B_3 = -\\frac{\\pi B_{1} a k_{z} n_{x}}{a^{2} k_{z}^{2} + \\pi^{2} n_{y}^{2}}, \n",
    "B_2 = -\\frac{\\pi^{2} B_{1} n_{x} n_{y}}{a^{2} k_{z}^{2} + \\pi^{2} n_{y}^{2}}$$\n",
    "\n",
    "Relation of electromagnetic pressure per field energy density in this case is\n",
    "\n",
    "$$\\frac{f_z/S}{E/V} = \\frac{2 \\, {\\left(a^{4} k_{z}^{4} + 2 \\, \\pi^{2} a^{2} k_{z}^{2} n_{y}^{2} + \\pi^{4} n_{x}^{2} n_{y}^{2} + \\pi^{4} n_{y}^{4}\\right)} a}{{\\left(a^{2} k_{z}^{2} + \\pi^{2} n_{x}^{2} + \\pi^{2} n_{y}^{2}\\right)} {\\left(a^{2} k_{z}^{2} + \\pi^{2} n_{y}^{2}\\right)} b}$$\n",
    "\n",
    "$$\\frac{f_z/S}{E/V} = 2 \\, \\frac{ {\\left(a^{4} k_{z}^{4} + 2 \\, \\pi^{2} a^{2} k_{z}^{2} n_{y}^{2} + \\pi^{4} n_{x}^{2} n_{y}^{2} + \\pi^{4} n_{y}^{4}\\right)}}{a^{4} k_{z}^{4} + \\pi^{2} a^{2} k_{z}^{2} n_{x}^{2} + 2 \\, \\pi^{2} a^{2} k_{z}^{2} n_{y}^{2} + \\pi^{4} n_{x}^{2} n_{y}^{2} + \\pi^{4} n_{y}^{4}}$$\n",
    "\n",
    "Considering terms with wave propagation in $y$ direction $E_y = 0$ is similar to them in $x$ direction\n",
    "\n",
    "$$B_3 = -\\frac{\\pi B_{2} a k_{z} n_{y}}{a^{2} k_{z}^{2} + \\pi^{2} n_{x}^{2}}, \n",
    "B_1 = -\\frac{\\pi^{2} B_{2} n_{x} n_{y}}{a^{2} k_{z}^{2} + \\pi^{2} n_{x}^{2}}$$\n",
    "\n",
    "Relation of electromagnetic pressure per field energy density in this case is\n",
    "\n",
    "$$\\frac{f_z/S}{E/V} = \\frac{2 \\, {\\left(a^{4} k_{z}^{4} + 2 \\, \\pi^{2} a^{2} k_{z}^{2} n_{x}^{2} + \\pi^{4} n_{x}^{4} + \\pi^{4} n_{x}^{2} n_{y}^{2}\\right)} a}{{\\left(a^{2} k_{z}^{2} + \\pi^{2} n_{x}^{2} + \\pi^{2} n_{y}^{2}\\right)} {\\left(a^{2} k_{z}^{2} + \\pi^{2} n_{x}^{2}\\right)} b}$$"
   ]
  },
  {
   "cell_type": "markdown",
   "metadata": {},
   "source": [
    "So we see that task of precise calculation of electromagnetic force in the honeycomb configuration is not easy, because seems like we should apply to $\\frac{f_z/S}{E/V}$ both regulator function and Euler–Maclaurin 2D approach. So this is the task for next investigation.\n",
    "\n",
    "But it is clear that this force is nonzero and should correspond to the difference of specific energy density found in this work.\n",
    "\n",
    "On the other hand I can show that this force is nonzero using"
   ]
  },
  {
   "cell_type": "markdown",
   "metadata": {},
   "source": [
    "# Hamiltonian mechanics approach"
   ]
  },
  {
   "cell_type": "markdown",
   "metadata": {},
   "source": [
    "Let us consider a cubic cavity of volume $L^3$ bounded by perfectly conducting walls and let a perfectly conducting square plate with side $L$ be\n",
    "placed in this cavity parallel to the $xy$ face and let us compare the\n",
    "situation in whieh this plate is at a very large, say $l = L/2$ distance a from the $xy$ face. \n",
    "\n",
    "One side of this perfectly conducting square plate is a pure plane and other is covered by perfectly conducting honeycomb.\n",
    "\n",
    "On both sided of the the plate\n",
    "expressions $\\frac{1}{2}\\sum\\,\\hbar\\omega$ where the summation extends over all possible\n",
    "resonance frequencies of the cavity $L-l\\times L\\times L$ (large cavity beetween pure plane and $xy$ face) and the cavity $l\\times a\\times a$ (small cavity, one honeycomb) are divergent and devoid of physical meaning but the derivative $\\frac{d\\left<0|\\hat{\\mathcal{H}}|0\\right>}{dl}$ of the whole system's vacuums Hamiltonian for these sums for the both opposite sides,\n",
    "$\\left<0|\\hat{\\mathcal{H}}|0\\right> = \\frac{1}{2}\\left(\\sum\\,\\,\\hbar\\omega\\right)_{I} + \\frac{1}{2}\\left(\\sum\\,\\,\\hbar\\omega\\right)_{II}$, will be shown to have a well defined value and this value will be interpreted as the interaction between the plate and the both\n",
    "$xy$ faces."
   ]
  },
  {
   "cell_type": "markdown",
   "metadata": {},
   "source": [
    "The possible vibrations of the cavities defined by \n",
    "\n",
    "$0<=x<=L$, $0<=y<=L$, $0>=z>=-(L-l)$ (large cavity beetween pure plane and $xy$ face)\n",
    "\n",
    "and\n",
    "\n",
    "$0<=x<=a$, $0<=y<=a$, $0<=z<=l$ (small cavity, one honeycomb)"
   ]
  },
  {
   "cell_type": "markdown",
   "metadata": {},
   "source": [
    "have wave vectors\n",
    "\n",
    "$k_x = \\frac{\\pi}{L}\\,n_x$, $k_y = \\frac{\\pi}{L}\\,n_y$, $k_z = \\frac{\\pi}{L-l}\\,n_z$ (large cavity beetween pure plane and $xy$ face),\n",
    "\n",
    "and\n",
    "\n",
    "$k_x = \\frac{\\pi}{a}\\,n_x$, $k_y = \\frac{\\pi}{a}\\,n_y$, $k_z = \\frac{\\pi}{l}\\,n_z$ (small cavity, one honeycomb),\n",
    "\n",
    "where $n_x$. $n_y$, $n_z$:\n",
    "\n",
    "are positive integers;\n",
    "\n",
    "$k = \\sqrt{k_x^2+k_y^2+k_z^2} = \\sqrt{\\kappa^2+k_z^2}$.\n",
    "\n",
    "$E = \\frac{1}{2}\\sum\\,\\hbar\\omega = \\hbar\\,c\\frac{1}{2}\\sum\\limits_{n_x}^{}\\sum\\limits_{n_y}^{}\\sum\\limits_{n_z}^{}k$"
   ]
  },
  {
   "cell_type": "markdown",
   "metadata": {},
   "source": [
    "To every $k_x$, $k_y$, $k_z$ correspond two standing waves unless one of the $n_i$\n",
    "is zero, when there is only one.\n",
    "\n",
    "In case of one honeycomb cavity for $k_z$ this is without importance since\n",
    "for very large $l$ we may regard $k_z$ as continuous variable. Thus we\n",
    "find \n",
    "\n",
    "$\\frac{1}{2}\\sum\\,\\hbar\\omega = \\hbar\\,c\\frac{1}{2}\\int\\limits_{0}^{\\infty}\\left[{\\sqrt{k_z^2}+2\\sum\\limits_{n_x=1}^{\\infty}\\sum\\limits_{n_y=1}^{\\infty}\\sqrt{n_x^2\\frac{\\pi^2}{a^2}+n_y^2\\frac{\\pi^2}{a^2}+k_z^2}}\\right]d{n_z}$  (small cavity, one honeycomb),\n",
    "\n",
    "$dn_z = \\frac{l}{\\pi}\\,dk_z$."
   ]
  },
  {
   "cell_type": "markdown",
   "metadata": {},
   "source": [
    "Now we can find the specific energy density $E/S$, where $S = S_{small} = a^2$:"
   ]
  },
  {
   "cell_type": "markdown",
   "metadata": {},
   "source": [
    "$\\frac{1}{2 S}\\sum\\,\\hbar\\omega = \\frac{\\hbar\\,c}{a^2}\\int\\limits_{0}^{\\infty}\\left[{\\frac{1}{2}\\sqrt{k_z^2}+\\sum\\limits_{n_x=1}^{\\infty}\\sum\\limits_{n_y=1}^{\\infty}\\sqrt{n_x^2\\frac{\\pi^2}{a^2}+n_y^2\\frac{\\pi^2}{a^2}+k_z^2}}\\right]\\frac{l}{\\pi}\\,dk_z$  (small cavity, one honeycomb),"
   ]
  },
  {
   "cell_type": "markdown",
   "metadata": {},
   "source": [
    "$\\frac{1}{2 S}\\sum\\,\\hbar\\omega = \\frac{\\hbar\\,c}{a^2\\,\\pi}\\sum\\limits_{n_x=(0)1}^{\\infty}\\sum\\limits_{n_y=(0)1}^{\\infty}\\left[\\int\\limits_{0}^{\\infty}\\sqrt{n_x^2\\frac{\\pi^2}{a^2}+n_y^2\\frac{\\pi^2}{a^2}+k_z^2}\\,dk_z\\right]$  (small cavity, one honeycomb)."
   ]
  },
  {
   "cell_type": "markdown",
   "metadata": {},
   "source": [
    "And in case of large cavity for $k_x$, $k_y$ this is without importance since\n",
    "for very large $L$ we may regard $k_x$, $k_y$ as continuous variables. Thus we\n",
    "find\n",
    "\n",
    "$\\frac{1}{2}\\sum\\,\\hbar\\omega = \\hbar\\,c\\frac{1}{2}\\int\\limits_{0}^{\\infty}\\int\\limits_{0}^{\\infty}\\left[{\\sqrt{k_x^2+k_y^2}+2\\sum\\limits_{n_z=1}^{\\infty}\\sqrt{n_z^2\\frac{\\pi^2}{(L-l)^2}+k_x^2+k_y^2}}\\right]d{n_x}d{n_y}$ (large cavity beetween pure plane and $xy$ face),\n",
    "\n",
    "For very large $L-l$ also this last summation may\n",
    "be replaced by an integral and it is therefore easily seen that energy is given by\n",
    "\n",
    "$\\frac{1}{2}\\sum\\,\\hbar\\omega = \\hbar\\,c\\int\\limits_{0}^{\\infty}\\int\\limits_{0}^{\\infty}\\int\\limits_{0}^{\\infty}\\sqrt{k_z^2+k_x^2+k_y^2}\\,d{n_x}\\,d{n_y}\\,d{n_z}$ (large cavity beetween pure plane and $xy$ face),\n",
    "\n",
    "$dn_x = \\frac{L}{\\pi}\\,dk_x$, $dn_y = \\frac{L}{\\pi}\\,dk_y$, $dn_z = \\frac{L-l}{\\pi}\\,dk_z$."
   ]
  },
  {
   "cell_type": "markdown",
   "metadata": {},
   "source": [
    "Now we can find the specific energy density $E/S$, where $S = S_{large} = L^2$:\n",
    "\n",
    "$\\frac{\\sum\\hbar\\omega}{2 S} = \\frac{\\hbar\\,c}{L^2}\\int\\limits_{0}^{\\infty}\\int\\limits_{0}^{\\infty}\\int\\limits_{0}^{\\infty}\\sqrt{k_z^2+k_x^2+k_y^2}\\,dn_x\\,dn_y\\,\\frac{L-l}{\\pi}\\,dk_z$ (large cavity beetween pure plane and $xy$ face),\n",
    "\n",
    "$\\frac{\\sum\\hbar\\omega}{2 S} = \\frac{L-l}{L^2\\,\\pi}\\hbar\\,c\\int\\limits_{0}^{\\infty}\\int\\limits_{0}^{\\infty}\\left[\\,\\int\\limits_{0}^{\\infty}\\sqrt{k_z^2+k_x^2+k_y^2}\\,dk_z\\right]\\,dn_x\\,dn_y$ (large cavity beetween pure plane and $xy$ face),\n",
    "\n",
    "$\\frac{\\sum\\hbar\\omega}{2\\,S} = \\frac{L-l}{L^2\\,\\pi}\\hbar\\,c\\int\\limits_{0}^{\\infty}\\int\\limits_{0}^{\\infty}\\left[\\,\\int\\limits_{0}^{\\infty}\\sqrt{k_x^2+k_y^2+k_z^2}\\,dk_z\\right]\\,\\left(\\frac{L}{\\pi}dk_x\\right)\\,\\left(\\frac{L}{\\pi}dk_y\\right)$ (large cavity beetween pure plane and $xy$ face),\n",
    "\n",
    "$\\frac{\\sum\\hbar\\omega}{2\\,S} = \\frac{L-l}{a^2\\,\\pi}\\hbar\\,c\\int\\limits_{0}^{\\infty}\\int\\limits_{0}^{\\infty}\\left[\\,\\int\\limits_{0}^{\\infty}\\sqrt{k_x^2+k_y^2+k_z^2}\\,dk_z\\right]\\,\\left(\\frac{a}{\\pi}dk_x\\right)\\,\\left(\\frac{a}{\\pi}dk_y\\right)$ (large cavity beetween pure plane and $xy$ face)."
   ]
  },
  {
   "cell_type": "markdown",
   "metadata": {},
   "source": [
    "It is therefore easily seen that specific (per square) vacuum Hamiltonian $\\frac{\\left<0|\\hat{\\mathcal{H}}|0\\right>}{S}$ of the whole system is given by\n",
    "\n",
    "$$\\begin{array}{r}\n",
    "\\frac{\\left<0|\\hat{\\mathcal{H}}|0\\right>}{S} = \\frac{\\hbar\\,c}{a^2\\,\\pi}\\Bigg\\{l\\sum\\limits_{n_x=(0)1}^{\\infty}\\sum\\limits_{n_y=(0)1}^{\\infty}\\left[\\,\\int\\limits_{0}^{\\infty}\\sqrt{n_x^2\\frac{\\pi^2}{a^2}+n_y^2\\frac{\\pi^2}{a^2}+k_z^2}\\,dk_z\\right] + \\\\\n",
    "(L-l)\\int\\limits_{0}^{\\infty}\\int\\limits_{0}^{\\infty}\\left[\\,\\int\\limits_{0}^{\\infty}\\sqrt{k_x^2+k_y^2+k_z^2}\\,dk_z\\right]\\,\\left(\\frac{a}{\\pi}dk_x\\right)\\,\\left(\\frac{a}{\\pi}dk_y\\right)\\Bigg\\}\n",
    "\\end{array}$$\n",
    "\n",
    "and iteraction $\\frac{F}{S} = \\frac{d}{dl} \\,\\frac{\\left<0|\\hat{\\mathcal{H}}|0\\right>}{S}$ is:\n",
    "\n",
    "$$\\begin{array}{r}\\frac{F}{S} = \\frac{\\hbar\\,c}{a^2\\,\\pi}\\Bigg\\{\\sum\\limits_{n_x=(0)1}^{\\infty}\\sum\\limits_{n_y=(0)1}^{\\infty}\\left[\\,\\int\\limits_{0}^{\\infty}\\sqrt{n_x^2\\frac{\\pi^2}{a^2}+n_y^2\\frac{\\pi^2}{a^2}+k_z^2}\\,dk_z\\right] - \\\\\n",
    "\\int\\limits_{0}^{\\infty}\\int\\limits_{0}^{\\infty}\\left[\\,\\int\\limits_{0}^{\\infty}\\sqrt{k_x^2+k_y^2+k_z^2}\\,dk_z\\right]\\,dn_x\\,dn_y\\Bigg\\}\\end{array}$$"
   ]
  },
  {
   "cell_type": "markdown",
   "metadata": {},
   "source": [
    "So using Hamiltonian mechanics approach I see that formula for the force to perfectly conducting honeycomb on a plate $\\frac{F}{S}$ is the same which is received for the difference of specific energy density on its different sides $\\delta\\,\\frac{E}{V}$."
   ]
  },
  {
   "cell_type": "markdown",
   "metadata": {},
   "source": [
    "# Conclusions"
   ]
  },
  {
   "cell_type": "markdown",
   "metadata": {},
   "source": [
    "We are thus led to the following conclusions. There exists force to perfectly conducting honeycomb on a plate as result of a difference of specific energy density on its different sides. This force is dependent of the material of the plate. This force may be interpreted as a zero point pressure of electromagnetic waves."
   ]
  },
  {
   "cell_type": "markdown",
   "metadata": {},
   "source": [
    "Although the effect is smalI, an experimental confirmation seems not\n",
    "unfeasable and might be of a certain interest. "
   ]
  },
  {
   "cell_type": "markdown",
   "metadata": {},
   "source": [
    "Kharkov"
   ]
  },
  {
   "cell_type": "markdown",
   "metadata": {},
   "source": [
    "# Applications"
   ]
  },
  {
   "cell_type": "markdown",
   "metadata": {},
   "source": [
    "30 January 2019\n",
    "\n",
    "Metal nano-honeycomb fabricated by colloidal assembly and femtosecond-laser annealing\n",
    "\n",
    "https://www.spiedigitallibrary.org/conference-proceedings-of-spie/10841/108410A/Metal-nano-honeycomb-fabricated-by-colloidal-assembly-and-femtosecond-laser/10.1117/12.2508593.full?SSO=1"
   ]
  },
  {
   "cell_type": "markdown",
   "metadata": {},
   "source": [
    "Bio-Inspired Engineering of Honeycomb Structure - Using Nature to Inspire Human Innovation\n",
    "\n",
    "https://www.researchgate.net/figure/Mechanical-behavior-of-micro-and-nano-honeycomb-materials_tbl1_280239925"
   ]
  },
  {
   "cell_type": "markdown",
   "metadata": {},
   "source": [
    "Nano-honeycomb structures for optimal energy absorption: numerical analysis and experiments\n",
    "\n",
    "https://www.alliedacademies.org/articles/nanohoneycomb-structures-for-optimal-energy-absorption-numerical-analysisand-experiments-8375.html"
   ]
  },
  {
   "cell_type": "markdown",
   "metadata": {},
   "source": [
    "В работе \"Metal nano-honeycomb fabricated by colloidal assembly and femtosecond-laser annealing\" было сообщено о получении наносот из золота с размером ячейки порядка 2 микрон. Такие соты должны обладать разницей плотностей казимировских электромагнитных энергий $\\delta\\,\\frac{E}{V} = 0.0136\\,\\frac{1}{2^4} = 0.0008555\\,dyne/cm^2 = 0.0008555 \\cdot 10^4 = 8.55\\,dyne/m^2$, то есть 8.55 дин на квадратный метр панели, что уже является вполне приемлимой величиной для практического использования предполагаемого эффекта для корректировки орбит спутников.\n",
    "\n",
    "Единственно нужно указать, что в согласно моёму способу расчёта полученная формула даёт $\\delta\\,\\frac{E}{V}$ в расчёте не на общую площадь поверхности сот, а на ту часть площади панели, занятую углублениями за вычетом части площади сот занятой стенками. \n",
    "\n",
    "Это не означает необходимости стремиться делать очень уж тонкие стенки сот, потому как при уменьшении толщины стенки уменьшится также и величина $k_m$."
   ]
  },
  {
   "cell_type": "markdown",
   "metadata": {},
   "source": [
    "Будет нелишним также заметить, что применение мною формулы вида"
   ]
  },
  {
   "cell_type": "markdown",
   "metadata": {},
   "source": [
    "$$\\begin{array}{r}\n",
    "\\delta\\,\\frac{E}{V} = \\frac{\\hbar\\,c\\,\\pi}{a^4}\n",
    "\\int\\limits_{0}^{\\infty}\n",
    "\\Bigg\\{\n",
    "\\sum\\limits_{n_x=\\left(0\\right)\\,1}^{\\infty}\n",
    "\\sum\\limits_{n_y=\\left(0\\right)\\,1}^{\\infty}\n",
    "{\\sqrt{n_x^2 + n_y^2 + u^2}}\n",
    "f\\left(\\frac{\\pi\\sqrt{n_x^2 + n_y^2 + u^2}}{a\\,k_m}\\right) \\\\\n",
    "-\n",
    "\\int\\limits_{0}^{\\infty}\n",
    "\\int\\limits_{0}^{\\infty}\n",
    "{\\sqrt{n_x^2 + n_y^2 + u^2}}\n",
    "f\\left(\\frac{\\pi\\sqrt{n_x^2 + n_y^2 + u^2}}{a\\,k_m}\\right)\n",
    "\\,d{n_x}\\,d{n_y}\n",
    "\\Bigg\\}\n",
    "\\,d{u}\n",
    "\\end{array}$$"
   ]
  },
  {
   "cell_type": "markdown",
   "metadata": {},
   "source": [
    "неявно подразумевает, что приведенный в данной работе расчёт справедлив при условии, что величина $k_m$ одинакова для всех трёх направлений волнового вектора. Данное условие может быть нарушено, если толщина стенок и толщина самой пластины, на которой выращены соты будет отличаться. Однако теоретический учет этого обстоятельства многократно усложнил бы громоздкость формул."
   ]
  },
  {
   "cell_type": "markdown",
   "metadata": {},
   "source": [
    "Кроме того слабым местом моего расчёта является неявное допущение бесконечной величины высоты стенок сот тогда как реальная высота стенок будет конечно. Однако целью данной работы было принципиальное исследование вопроса.\n",
    "\n",
    "Конечная фактическая высота стенок внесёт некоторую поправку в величину полученного результат (что может быть темой дальнейших исследований), но принципиальный вывод не изменит."
   ]
  },
  {
   "cell_type": "markdown",
   "metadata": {},
   "source": [
    "В данной работе я рассчитал разность плотностей электромагнитной энегрии по разные стороны от материала плоскости с наносотами. Теперь предстоит исследовать задачу вычисления соотношения этой разностей плотностей электромагнитной энергии и силы тяги в геометрии наносот."
   ]
  },
  {
   "cell_type": "markdown",
   "metadata": {},
   "source": [
    "В отношении критики: многие авторы рассматривают эффект Казимира не как следствие существования виртуальных квантовых фотонов, а как только лишь проявление дисперсионных сил Лондона - Ван-дер-Ваальса.\n",
    "\n",
    "В свою очередь хочу отметить, что постановка эксперимента по измерению силы тяги производимой наносотами выращенными на металле могла бы служить в некотором роде критическим экспериментом для выяснения того какая из точек зрения на природу сил Казимира соответсвует действительности"
   ]
  },
  {
   "cell_type": "markdown",
   "metadata": {},
   "source": [
    "# Analogical idea"
   ]
  },
  {
   "cell_type": "markdown",
   "metadata": {},
   "source": [
    "Уже практически при подготовке данного моего расчета к релизу я обнаружил, что уже предложена идея использования силы Казимира для создания тяги в устройстве:"
   ]
  },
  {
   "cell_type": "markdown",
   "metadata": {},
   "source": [
    "Антипин Александр Вениаминович"
   ]
  },
  {
   "cell_type": "markdown",
   "metadata": {},
   "source": [
    "СПОСОБ ПРИВЕДЕНИЯ В ДВИЖЕНИЕ ТЕЛ ПРИ ПОМОЩИ ЭФФЕКТА КАЗИМИРА И/ИЛИ\n",
    "ЕГО АНАЛОГОВ\n",
    "\n",
    "https://rusneb.ru/catalog/000224_000128_0002610018_20170207_C2_RU/"
   ]
  },
  {
   "cell_type": "markdown",
   "metadata": {},
   "source": [
    "ДВИГАТЕЛЬ НА ЭНЕРГИИ ВАКУУМА\n",
    "\n",
    "https://www.youtube.com/watch?v=YvDlQnpodeU"
   ]
  },
  {
   "cell_type": "markdown",
   "metadata": {},
   "source": [
    "11-23 Зигелевские чтения 47 - Антипин - Доступ к энергии нулевой точки - Глобальная Волна\n",
    "\n",
    "https://www.youtube.com/watch?v=HtyEOxpFMPk"
   ]
  },
  {
   "cell_type": "markdown",
   "metadata": {},
   "source": [
    "А.В. Антипин. Доступ к энергии нулевой точки\n",
    "\n",
    "https://www.youtube.com/watch?v=2-Cw9oBFHNM"
   ]
  },
  {
   "cell_type": "markdown",
   "metadata": {},
   "source": [
    "ИСПОЛЬЗОВАНИЕ СИЛЫ КАЗИМИРА ДЛЯ УПРАВЛЯЕМОГО ДВИЖЕНИЯ МАКРОТЕЛ\n",
    "\n",
    "https://science.snauka.ru/2014/03/6710"
   ]
  },
  {
   "cell_type": "markdown",
   "metadata": {},
   "source": [
    "Автор справедливо предполагает возможность возникновения силы тяги вследствие эффекта Казимира в геометрии плоских, но не параллельных пластин.\n",
    "\n",
    "В качестве рабочего элемента автор предлагает «уголок» в виде буквы V, которые можно собирать в панели, которые в плане будет выглядеть как сборка уголков: «VVV…VVV».\n",
    "\n",
    "Автор приводит оценочный расчёт силы тяги «уголка» при помощи формулы Казимира, «при самых общих и естественных приближениях, известных, как PFA (Proximity Force Approximation), или PAA (Pairwise Additive Approximation), способ расчёта [5], [6]».\n",
    "\n",
    "$$F_{тяги} = - \\frac {\\pi^2 \\hbar c b}{1440} \\frac{cos 2 \\alpha}{\\left( cos \\alpha \\right)^4} \\left(\\frac{1}{L_{min}^3}-\\frac{1}{L_{max}^3}\\right)$$\n",
    "\n",
    "Fтяги [дин] ~ 217 * b / (Lmin)^3, где b измеряется в [см], а Lmin в [нм].\n",
    "\n",
    "где b – «длина» уголка (буквы V «вглубь» страницы), Lmin - расстояние между сторонами уголка по уровню Zmin, Lmax - расстояние между сторонами уголка по уровню Zmax.\n"
   ]
  },
  {
   "cell_type": "code",
   "execution_count": 247,
   "metadata": {},
   "outputs": [
    {
     "data": {
      "image/png": "[encoded data removed]",
      "text/plain": [
       "Graphics object consisting of 12 graphics primitives"
      ]
     },
     "metadata": {},
     "output_type": "display_data"
    }
   ],
   "source": [
    "L = 2\n",
    "l = 1\n",
    "dy = 0.05\n",
    "\n",
    "def draw_V(x0):\n",
    "    arrowsize = 2.5\n",
    "\n",
    "    # tangent alpha\n",
    "    tn = l/L\n",
    "\n",
    "    tn2 = tan(atan(tn)/2) \n",
    "    \n",
    "    # V\n",
    "    p = line ([[x0+l,L], [x0,0]],   color = \"green\")\n",
    "    p += line ([[x0,0],   [x0-l,L]], color = \"green\")\n",
    "\n",
    "    p += line ([[x0+l*0.9,L*0.9],   [x0-l*0.9,L*0.9]], linestyle=\"dashed\")\n",
    "    p += text(\"$a$\", [x0,0+L*0.95], fontsize=14)\n",
    "\n",
    "    # V force\n",
    "    p += arrow ([x0-l/2,L/2], [x0,L/2+l/2*tn], color = \"green\", arrowsize=arrowsize)\n",
    "    p += arrow ([x0-l/2,L/2], [x0,L/2], color = \"green\", arrowsize=arrowsize)\n",
    "    p += arrow ([x0-l/2,L/2], [x0-l/2,L/2+l/2*tn+dy], color = \"green\", arrowsize=arrowsize)\n",
    "    p += text(\"$F_c$\", [x0+dy,L/2+l/2*tn+dy], color = \"green\", fontsize=14)\n",
    "    p += text(\"$F_{тяги}$\", [x0-l/2+dy,L/2+l/2*tn+2*dy], color = \"green\", fontsize=14)\n",
    "    \n",
    "    p += line ([[x0, 0],[x0,L/3]], linestyle=\"dashed\")\n",
    "    p += text(\"$\\\\alpha$\", [x0-l/2*tn2,0+l/2], fontsize=14)\n",
    "    p += text(\"$l$\", [x0+l/2+2*dy, L/2], fontsize=14)\n",
    "\n",
    "    return p\n",
    "\n",
    "p = draw_V(x0 = 0)\n",
    "\n",
    "p.show(aspect_ratio = 1, axes=False)"
   ]
  },
  {
   "cell_type": "markdown",
   "metadata": {},
   "source": [
    "Автор не приводит вывода формулы тяги для уголка, поэтому пытаюсь его воспроизвести\n",
    "\n",
    "Casimir's interaction energy is given by\n",
    "$$\\delta\\,E/L^2 = \\hbar\\,c\\frac{\\pi^2}{4\\,a^3}\\left\\{\\frac{-4}{24\\times30}\\right\\}$$\n",
    "\n",
    "For the force per $cm^2$ we find\n",
    "$$F = \\hbar\\,c\\frac{-3\\,\\pi^2}{4\\,a^4}\\left\\{\\frac{-4}{24\\times30}\\right\\}$$\n",
    "\n",
    "В дальнейших моих выкладках я оставлю величину в фигурных скобках из оригинальной работы Казимира не сокращаемой, потому как при более аккуратном (с учётом остаточного члена) выводе формулы силы Казимира эта величина на самом деле не константа, а величина переменная, зависящая от $a\\,k_m$\n",
    "\n",
    "$$F_{c} = \\frac {\\pi^2}{240} \\frac { \\hbar c}{a^4}$$\n",
    "\n",
    "$$F_{тяги} = 2 \\int F_{c} \\, sin\\, \\alpha \\,dS$$\n",
    "\n",
    "$$dS = b\\,dz$$\n",
    "\n",
    "$$F_{тяги} = 2\\, \\frac{-3\\,\\pi^2\\hbar c b}{4}\\int\\limits_{z_{min}}^{z_{max}} \\left\\{\\frac{-4}{24\\times30}\\right\\}\\frac{sin\\, \\alpha}{\\left(a\\left(z\\right)\\right)^4}dz$$\n",
    "\n",
    "делаем подстановку\n",
    "\n",
    "$$a\\left(z\\right) = 2\\,z\\,tg\\, \\alpha$$\n",
    "\n",
    "$$F_{тяги} = 2\\, \\frac{-3\\,\\pi^2\\hbar c b}{4}\\int\\limits_{z_{min}}^{z_{max}} \\left\\{\\frac{-4}{24\\times30}\\right\\}\\frac{sin\\, \\alpha}{\\left(2\\,z\\,tg \\alpha\\right)^4}dz$$\n",
    "\n",
    "$$F_{тяги} = 2\\, \\frac{-3\\,\\pi^2\\hbar c b}{4} \\frac{sin\\, \\alpha}{\\left(2\\,tg\\, \\alpha\\right)^4} \\int\\limits_{z_{min}}^{z_{max}} \\left\\{\\frac{-4}{24\\times30}\\right\\} \\frac{dz}{z^4}$$\n",
    "\n",
    "$$F_{тяги} = -2\\cdot3\\, \\frac{\\pi^2\\hbar c b}{240} \\frac{sin\\, \\alpha}{\\left(2\\,tg\\, \\alpha\\right)^4} \\left(\\frac{1}{z^3}\\right)\\Bigg\\rvert_{\\,z_{min}}^{\\,z_{max}} $$\n",
    "\n",
    "делаем обратную подстановку\n",
    "\n",
    "$$\\left(2\\,tg\\,\\alpha\\right)^3\\,z^3 = a^3$$\n",
    "\n",
    "или\n",
    "\n",
    "$$z_{min} = \\frac{a_{min}}{2\\,tg\\, \\alpha}$$\n",
    "\n",
    "$$z_{max} = \\frac{a_{max}}{2\\,tg\\, \\alpha}$$\n",
    "\n",
    "\n",
    "$$F_{тяги} = -2\\cdot3\\, \\frac{\\pi^2\\hbar c b}{240} \\frac{sin\\, \\alpha}{\\left(2\\,tg\\, \\alpha\\right)} \\left(\\frac{1}{a^3}\\right)\\Bigg\\rvert_{\\,a_{min}}^{\\,a_{max}} $$\n",
    "\n",
    "$$F_{тяги} = -3\\, \\frac{\\pi^2\\hbar c b}{240} cos\\, \\alpha \\left(\\frac{1}{a^3}\\right)\\Bigg\\rvert_{\\,a_{min}}^{\\,a_{max}} $$\n",
    "\n",
    "$$F_{тяги} = \\frac{\\pi^2\\hbar c b}{80} cos\\, \\alpha \\left(\\frac{1}{a_{min}^3} - \\frac{1}{a_{max}^3}\\right) $$\n",
    "\n",
    "Таким образом получена формула тяги уголка исходя из зазора между его крыльями "
   ]
  },
  {
   "cell_type": "markdown",
   "metadata": {},
   "source": [
    "Или исходя из\n",
    "\n",
    "$$F_{тяги} = -2\\cdot3\\, \\frac{\\pi^2\\hbar c b}{240} \\frac{sin\\, \\alpha}{\\left(2\\,tg\\,\\alpha\\right)^4} \\left(\\frac{1}{z^3}\\right)\\Bigg\\rvert_{\\,z_{min}}^{\\,z_{max}} $$\n",
    "\n",
    "Можно сделать другую подстановку\n",
    "$$z = l\\, cos\\, \\alpha$$\n",
    "\n",
    "$$F_{тяги} = -2\\cdot3\\, \\frac{\\pi^2\\hbar c b}{240} \\frac{sin\\, \\alpha}{\\left(2\\,tg\\,\\alpha\\right)^4\\left(cos\\, \\alpha\\right)^3} \\left(\\frac{1}{l^3}\\right)\\Bigg\\rvert_{\\,l_{min}}^{\\,l_{max}} $$\n",
    "\n",
    "\n",
    "$$F_{тяги} = -2\\cdot3\\, \\frac{\\pi^2\\hbar c b}{240} \\frac{sin\\, \\alpha}{2^4\\left(tg\\,\\alpha\\right)^4\\left(cos\\, \\alpha\\right)^3} \\left(\\frac{1}{l^3}\\right)\\Bigg\\rvert_{\\,l_{min}}^{\\,l_{max}} $$\n",
    "\n",
    "$$F_{тяги} = -2\\cdot3\\, \\frac{\\pi^2\\hbar c b}{240} \\frac{sin\\, \\alpha}{2^4\\left(tg\\,\\alpha\\right)\\left(sin\\, \\alpha\\right)^3} \\left(\\frac{1}{l^3}\\right)\\Bigg\\rvert_{\\,l_{min}}^{\\,l_{max}} $$\n",
    "\n",
    "$$F_{тяги} = -2\\cdot3\\, \\frac{\\pi^2\\hbar c b}{240} \\frac{cos\\, \\alpha}{2^4\\left(sin\\, \\alpha\\right)^4} \\left(\\frac{1}{l^3}\\right)\\Bigg\\rvert_{\\,l_{min}}^{\\,l_{max}} $$\n",
    "\n",
    "$$F_{тяги} = \\frac{\\pi^2\\hbar c b}{640} \\frac{cos\\, \\alpha}{\\left(sin\\, \\alpha\\right)^4} \\left(\\frac{1}{l_{min}^3} - \\frac{1}{l_{max}^3}\\right)$$\n",
    "\n",
    "Таким образом получена формула тяги уголка исходя из длины его крыльев.\n",
    "\n",
    "Данная формула больше всего похожу на формулу, данную Антипиным, хотя не соответствует ей полностью."
   ]
  },
  {
   "cell_type": "markdown",
   "metadata": {},
   "source": [
    "Исследуя зависимость коэффициента в форме тяги уголка, зависящего от половинного угла раствора $\\alpha$ можно видеть, что при заданной длине крыльев уголка выгоднее делать минимально возможный угол раствора. Однако для целей настоящей работы (исследование возможности получения тяги с помощью наносот) важно заметить что для уголка с прямым углом $\\alpha = \\frac{\\pi}{4}$ коэффициент $\\frac{cos\\, \\alpha}{\\left(sin\\, \\alpha\\right)^4} = 2\\sqrt{2}$. Таким образом  составляя из множества прямоугольных уголков конструкцию в виде сот показывается, что тяга панели состоящей из прямоугольных сот не нулевая.\n",
    "\n",
    "Действительно, прямоугольную соту с размером ячейки $b \\times b$ и с такой же самой  высотой ребра равной $b = l_{max}$   можно представить себе как комбинацию четырёх уголков с половинным углом расвора равным $\\alpha = \\frac{\\pi}{4}$. Тягу каждого уголка \n",
    "\n",
    "$$F_{тяги} = - \\frac{\\pi^2\\hbar c l_{max}}{640} 2\\sqrt{2} \\left(\\frac{1}{l_{min}^3} - \\frac{1}{l_{max}^3}\\right)$$\n",
    "\n",
    "направленную вдоль биссектрисы каждого угла нужно умножить на $sin\\,\\frac{\\pi}{4}=\\frac{\\sqrt{2}}{2}$ и при умножении на 4 тяга одной квадратной \"распечатанной\" соты будет равна \n",
    "\n",
    "$$F_{тяги} = - \\frac{\\pi^2\\hbar c b}{640} 2\\sqrt{2}\\cdot4\\,\\frac{\\sqrt{2}}{2} \\left(\\frac{1}{l_{min}^3} - \\frac{1}{b^3}\\right)$$\n",
    "\n",
    "$$F_{тяги} = - \\frac{\\pi^2\\hbar c b}{640} 2\\cdot4\\,\\left(\\frac{1}{l_{min}^3} - \\frac{1}{b^3}\\right)$$\n",
    "\n",
    "$$F_{тяги} = - \\frac{\\pi^2\\hbar c b}{80} \\left(\\frac{1}{l_{min}^3} - \\frac{1}{b^3}\\right)$$\n",
    "\n",
    "Итак, формула для удельной тяги сот, полученная с помощью метода PFA (Proximity Force Approximation), или PAA (Pairwise Additive Approximation)\n",
    "\n",
    "$$\\frac{F_{тяги}}{S} = - \\frac{\\pi^2\\hbar c}{80\\, b} \\left(\\frac{1}{l_{min}^3} - \\frac{1}{b^3}\\right)$$\n",
    "\n",
    "в какой-то степени похожа на формулу величины двумерного эффекта Казимира на сотах, произведённую в первой части данной работы: по меньшей мере значением показатель степени в знаменателе совпадает.\n",
    "\n",
    "$$\\delta\\,\\frac{E}{V} \\approx R\\left(b k_m\\right)\\,\\frac{\\hbar\\,c\\,\\pi}{b^4}$$\n",
    "\n",
    "Здесь нужно отметить, что данная формула выведена без учета конечности высоты ребра сот (иными словами в приближении бесконечной высоты ребер), в отличие от PFA варианта формулы для которого высота ребра принята равной ширине ячейки. \n",
    "\n",
    "Приблизительное соответствие этих формул говорит о том эффект должен наблюдаться также и при конечной высоте ребер, хотя зависимость эффекта от этой высоты может быть обьектом дальнейших исследоаний.\n",
    "\n",
    "С помощью панели из остроугольных уголков можно теоретически добиваться бОльшей величины тяги, но технологически производство панелей из сот представляется более простым, чем производство панелей из уголков"
   ]
  },
  {
   "cell_type": "markdown",
   "metadata": {},
   "source": [
    "При сборке V-образных уголков в панели автор рисует примыкание угла в основании буквы V на плоскость, но в своих расчетах автор не учитывает влияние плоскости основания на результирующие поля. Исходя из вида зависимости силы тяги от угла раствора понять почему автор пренебрегает влиянием основания можно.\n",
    "\n",
    "\n",
    "Однако, строго говоря, если предположить, что основание будет выполнено из того же материала что и уголки, тогда конструкция Антипина отдаленно напоминает наносоты выращенные на плоской поверхности металла, проанализированные мною в данной работе.\n",
    "\n",
    "С другой стороны автор указывает, что величина Lmin ограничена снизу уровнем «обрезания», который определяется технологически:\n",
    "\n",
    "- точностью изготовления пластин (их шероховатостью, степенью плоскостности), а также\n",
    "\n",
    "- МИНИМАЛЬНОЙ длиной волны фотонов, которые может эффективно отражать вещество, из которого изготовлен уголок.\n",
    "\n",
    "В этой связи автор указывает, что в его конструкции нужно добиваться увеличения коэффициента отражения поверхностей и/или расширения диапазона эффективности отражателя в область высоких частот.\n",
    "\n",
    "В текущей работе показано что в случае наносот результирующая сила Казимировской тяги хотя и зависит от частоты обрезания, но для стабилизации коэффициента тяги достаточно добиться того чтобы произведение внутреннего размера ячейки сот на волновой вектор обрезания $a \\cdot k_m$ было не меньше $7$."
   ]
  },
  {
   "cell_type": "markdown",
   "metadata": {},
   "source": [
    "5. F. Intravaia et al., Strong Casimir force reduction through metallic surface nanostructuring // Nature Comm, art. 2515, 4 (Sep. 2013) pp. 1-20\n",
    "\n",
    "6. A.W. Rodriguez, F. Capasso, S.G. Johnson, The Casimir effect in microstructured geometries // Nature Photonics, V.5, (Apr. 2011), p.211-221"
   ]
  },
  {
   "cell_type": "markdown",
   "metadata": {},
   "source": [
    "В текущем расчёте получается, что разница плотностей казимировских электромагнитных энергий будет равна $\\delta\\,\\frac{E}{V} = 0.0136\\,\\frac{1}{a_{\\mu}^4}\\,dyne/cm^2$ где $a_{\\mu}$ измеряется в микронах. Чтобы сопоставить данный результат с результатом Антипина, я перепишу свою формулу так: $\\delta\\,\\frac{E}{V} = 0.0136 \\cdot 10^{12} \\,\\frac{1}{a_{nm}^4}\\,dyne/cm^2$ где $a_{nm}$ измеряется в нанометрах. Если теперь я из одного квадратного сантиметра выделяю (вдоль направления $x$ или $y$ один столбик с квадратными сотами, то  разница плотностей казимировских электромагнитных энегрий приходящаяся на погонный сантиметр такого столбика $\\delta\\,\\frac{E}{V} = 1.36 \\cdot 10^{10} \\,\\frac{1}{a_{nm}^3}\\,dyne/cm$. То есть получается, что мой расчет дал результат более завышенный, чем расчёт Антипина для панели из V-образных уголков. Это не удивительно потому что Антипин хотя и нарисовал примыкание угла в основании буквы V на плоскость, но в своих расчетах он никак не учитывает влияние плоскости основания на результирующие поля. И кроме того результат моего расчёта это все таки не сила, а величина  $\\delta\\,\\frac{E}{V}$, которая должна соответствать этой силе по порядку величины."
   ]
  },
  {
   "cell_type": "markdown",
   "metadata": {},
   "source": [
    "Антипин в своей работе показывает что для его панелей при Lmin = 200 [нм], Fтяги~ 10 [дин].\n",
    "Но мне не понятно, что на самом деле в расчётах Антипина представляет собой величина Lmin?\n",
    "\n",
    "Он хотя и пишет, что это Lmin - расстояние между сторонами уголка по уровню Zmin, Lmax - расстояние между сторонами уголка по уровню Zmax. Но исходя из моей попытки перевывести его формулу я в этом сомневаюсь.\n",
    "\n",
    "Однако нужно учесть, что формулы Антипина справедливы при сборке панелей методом крепления уголков торцами к двум параллельным рейкам без какой либо несущей плоскости в основании уголков."
   ]
  },
  {
   "cell_type": "markdown",
   "metadata": {},
   "source": [
    "Но в работе Антипина на рисунке номер 8 с названием \"Конструкция панели из уголков\" V образные уголки собраны в панели способом установки V уголков на плоскость методом \\__V______V______V__.\n",
    "\n",
    "При наличии несущей плоскости в основании V образных уголков формул Антипина основанных на вычислении равнодействующих двух направленных под углом сил Казимира приложенных к крыльям V образного уголка уже не достаточно по той причине, что из-за появления с внешеней стороны от уголка плоскости отрезающей большой, удалённый в бесконечность резонатор, сила Казимира, приложенная к плоскостям самого уголка снижается, но взамен появляется сила приложенная к самой плоскости"
   ]
  },
  {
   "cell_type": "code",
   "execution_count": 249,
   "metadata": {},
   "outputs": [
    {
     "data": {
      "image/png": "[encoded data removed]",
      "text/plain": [
       "Graphics object consisting of 17 graphics primitives"
      ]
     },
     "metadata": {},
     "output_type": "display_data"
    }
   ],
   "source": [
    "L = 2\n",
    "l = 0.75\n",
    "\n",
    "def draw_V_(p, x0):\n",
    "    arrowsize = 2.5\n",
    "\n",
    "    # tangent alpha\n",
    "    tn = l/L\n",
    "\n",
    "    tn2 = tan((pi/2-atan(tn))/2) # bissectrice between bottom plate and V\n",
    "    \n",
    "    sn2 = sin((pi/2-atan(tn)))\n",
    "    cs2 = cos((pi/2-atan(tn)))\n",
    "    \n",
    "    # V\n",
    "    p += line ([[x0+l,L], [x0,0]],   color = \"green\")\n",
    "    p += line ([[x0,0],   [x0-l,L]], color = \"green\")\n",
    "\n",
    "    # V force\n",
    "    p += arrow ([x0-l/3,L/3], [x0,L/3+l/3*tn], color = \"green\", arrowsize=arrowsize)\n",
    "    p += arrow ([x0+l/3,L/3], [x0,L/3+l/3*tn], color = \"green\", arrowsize=arrowsize)\n",
    "\n",
    "    # bottom plate left force\n",
    "    p += arrow ([x0-l/2,0],           [x0-l/2,l/2*tn2], color = \"green\", arrowsize=arrowsize)\n",
    "    p += arrow ([x0-(l/2)*cs2, (l/2)*sn2],[x0-l/2,l/2*tn2], color = \"green\", arrowsize=arrowsize)\n",
    "\n",
    "    # bottom plate right force\n",
    "    p += arrow ([x0+l/2,0],           [x0+l/2,l/2*tn2], color = \"green\", arrowsize=arrowsize)\n",
    "    p += arrow ([x0+l/2*cs2, l/2*sn2],[x0+l/2,l/2*tn2], color = \"green\", arrowsize=arrowsize)\n",
    "    \n",
    "    return p\n",
    "\n",
    "# bottom plate\n",
    "p = line ([[-l,0],[4+l,0]], color = \"green\", thickness=3)\n",
    "p = draw_V_(p, x0 = 0)\n",
    "p = draw_V_(p, x0 = 4)\n",
    "p.show(aspect_ratio = 1, axes=False)"
   ]
  },
  {
   "cell_type": "markdown",
   "metadata": {},
   "source": [
    "Используя приближения PFA или PAA можно модифицировать формулы Антипина для случая панели типа V образные уголок на плоскости. Из рисунка видно, что при внесении плоскости основания в такую панель уточненный расчет должен дать значения тяги несколько большие чем по первоначальным формулам Антипина."
   ]
  },
  {
   "cell_type": "markdown",
   "metadata": {},
   "source": [
    "Из рисунка также видно, что устремляя раствор уголков к нулю можно прийти к панели выполненной посредством нанесения на плоскость не сот, как я рассчитывал в данной работе, а просто перпендикулярных ей длинных рёбер. Можно назвать такой вариант Ш панелью за сходство ее профиля с этой буквой.\n",
    "\n",
    "Работоспособность Ш панели может быть с одной стороны также рассчитана в приближении приближения PFA или PAA. А с другой стороны она может быть обьяснена разностью плотностей электромагнитной эненргии нулевой точки со стороны гладкой поверхности плоскости и со стороны поверхности покрытой ребрами.\n",
    "\n",
    "Интересно бы ло бы сравнить работоспособность Ш панели и работоспособность панели, выполненной по принципу сот. Расчёт разности плотностей электромагнитной энергии для Ш панелей с ребрами более прост, чем расчёт выполненный в данной работе для сот, потому как для Ш панели нужно будет применять не двумерную а одномерную формулу Эйлера Маклорена. Но это тема уже для отдельной работы."
   ]
  },
  {
   "cell_type": "markdown",
   "metadata": {},
   "source": [
    "Представляется возможным ещё один способ установки уголков на плоскость: не устанавливать их на вершину угла, а прикреплять лежа на одном из крыльев:"
   ]
  },
  {
   "cell_type": "code",
   "execution_count": 250,
   "metadata": {},
   "outputs": [
    {
     "data": {
      "image/png": "[encoded data removed]",
      "text/plain": [
       "Graphics object consisting of 7 graphics primitives"
      ]
     },
     "metadata": {},
     "output_type": "display_data"
    }
   ],
   "source": [
    "L = 1\n",
    "l = 3\n",
    "\n",
    "def draw_less(p, x0):\n",
    "    arrowsize = 2\n",
    "\n",
    "    # tangent alpha\n",
    "    tn = l/L\n",
    "\n",
    "    tn2 = tan((pi/2-atan(tn))/2) # bissectrice between bottom plate and V\n",
    "    \n",
    "    sn2 = sin((pi/2-atan(tn)))\n",
    "    cs2 = cos((pi/2-atan(tn)))\n",
    "\n",
    "    # <\n",
    "    p += line ([[x0+l,L],[x0,0]], color = \"green\")\n",
    "\n",
    "    # bottom plate right force\n",
    "    p += arrow ([x0+l/2,0],           [x0+l/2,l/2*tn2], color = \"green\", arrowsize=arrowsize)\n",
    "    p += arrow ([x0+l/2*cs2, l/2*sn2],[x0+l/2,l/2*tn2], color = \"green\", arrowsize=arrowsize)\n",
    "    \n",
    "    return p\n",
    "\n",
    "\n",
    "# bottom plate\n",
    "p = line ([[-l/3,0],[4+l,0]], color = \"green\", thickness=3)\n",
    "p = draw_less(p, x0 = 0)\n",
    "p = draw_less(p, x0 = 4)\n",
    "p.show(aspect_ratio = 1, axes=False)"
   ]
  },
  {
   "cell_type": "markdown",
   "metadata": {},
   "source": [
    "Если такие лежачие уголки прикрепить радиально концентрическим способом на диске, диск может прийти во вращение. Такая конфигурация может служить альтернативным способом постановки подтверждающего эксперимента, без использования крутильных весов. Поскольку диск с уголками может плавать на поверхности жидкости, а жидкость, как известно, не обладает трением покоя"
   ]
  }
 ],
 "metadata": {
  "kernelspec": {
   "display_name": "SageMath 9.6.beta7",
   "language": "sage",
   "name": "sagemath"
  },
  "language_info": {
   "codemirror_mode": {
    "name": "ipython",
    "version": 3
   },
   "file_extension": ".py",
   "mimetype": "text/x-python",
   "name": "python",
   "nbconvert_exporter": "python",
   "pygments_lexer": "ipython3",
   "version": "3.10.3"
  }
 },
 "nbformat": 4,
 "nbformat_minor": 2
}
