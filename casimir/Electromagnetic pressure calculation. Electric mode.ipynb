{
 "cells": [
  {
   "cell_type": "markdown",
   "metadata": {},
   "source": [
    "# Appendix B. Electromagnetic pressure calculation. Electric mode"
   ]
  },
  {
   "cell_type": "markdown",
   "metadata": {},
   "source": [
    "Let's consider rectangular resonator with size $a \\times b \\times h$."
   ]
  },
  {
   "cell_type": "code",
   "execution_count": 1,
   "metadata": {},
   "outputs": [],
   "source": [
    "from IPython.display import display, Math, Latex\n",
    "\n",
    "def disp(ex):\n",
    "    latex_ex = latex(ex)\n",
    "    display(Math(latex_ex))\n",
    "\n",
    "mu = var('mu')\n",
    "assume(mu, 'real')\n",
    "assume(mu>0)\n",
    "\n",
    "epsilon = var('epsilon')\n",
    "assume(epsilon, 'real')\n",
    "assume(epsilon>0)\n",
    "\n",
    "k_1 = var ('k_x')\n",
    "assume(k_1, 'real')\n",
    "\n",
    "k_2 = var ('k_y')\n",
    "assume(k_2, 'real')\n",
    "\n",
    "k_3 = var ('k_z')\n",
    "assume(k_3, 'real')\n",
    "\n",
    "n_1 = var ('n_x')\n",
    "assume(n_1, 'real')\n",
    "assume(n_1, 'integer')\n",
    "\n",
    "n_2 = var ('n_y')\n",
    "assume(n_2, 'real')\n",
    "assume(n_2, 'integer')\n",
    "\n",
    "n_3 = var ('n_z')\n",
    "assume(n_3, 'real')\n",
    "assume(n_3, 'integer')\n",
    "\n",
    "a = var('a')\n",
    "assume(a, 'real')\n",
    "assume(a>0)\n",
    "\n",
    "b = var('b')\n",
    "assume(b, 'real')\n",
    "assume(b>0)\n",
    "\n",
    "h = var('h')\n",
    "assume(h, 'real')\n",
    "assume(h>0)\n",
    "\n",
    "x = var('x')\n",
    "y = var('y')\n",
    "z = var('z')\n",
    "\n",
    "assume(x, 'real')\n",
    "assume(y, 'real')\n",
    "assume(z, 'real')\n",
    "\n",
    "c = var('c')\n",
    "assume(c, 'real')\n",
    "assume(c>0)\n",
    "\n",
    "omega = var('omega')\n",
    "assume(omega, 'real')"
   ]
  },
  {
   "cell_type": "code",
   "execution_count": 2,
   "metadata": {},
   "outputs": [],
   "source": [
    "k_subs_z = [k_3 == n_3 * pi / h]"
   ]
  },
  {
   "cell_type": "code",
   "execution_count": 3,
   "metadata": {},
   "outputs": [],
   "source": [
    "k_subs_xy = [k_1 == n_1 * pi / a, k_2 == n_2 * pi / b]"
   ]
  },
  {
   "cell_type": "markdown",
   "metadata": {},
   "source": [
    "In electric mode $\\nabla\\,\\vec{E} + \\frac{\\omega^2}{c^2}\\,\\vec{E} = 0$ we have the following "
   ]
  },
  {
   "cell_type": "code",
   "execution_count": 4,
   "metadata": {},
   "outputs": [],
   "source": [
    "A_1 = var ('A_x')\n",
    "A_2 = var ('A_y')\n",
    "A_3 = var ('A_z')"
   ]
  },
  {
   "cell_type": "code",
   "execution_count": 5,
   "metadata": {},
   "outputs": [],
   "source": [
    "# выражения для электрического поля\n",
    "\n",
    "e_x = cos(k_1*x)*sin(k_2*y)*sin(k_3*z)\n",
    "e_y = sin(k_1*x)*cos(k_2*y)*sin(k_3*z)\n",
    "e_z = sin(k_1*x)*sin(k_2*y)*cos(k_3*z)"
   ]
  },
  {
   "cell_type": "code",
   "execution_count": 6,
   "metadata": {},
   "outputs": [],
   "source": [
    "# выражения для электрического поля\n",
    "\n",
    "E_x = A_1*e_x\n",
    "E_y = A_2*e_y\n",
    "E_z = A_3*e_z"
   ]
  },
  {
   "cell_type": "code",
   "execution_count": 7,
   "metadata": {},
   "outputs": [
    {
     "data": {
      "text/latex": [
       "$\\displaystyle A_{x} \\cos\\left(\\frac{\\pi n_{x} x}{a}\\right) \\sin\\left(\\frac{\\pi n_{y} y}{b}\\right) \\sin\\left(k_{z} z\\right)$"
      ],
      "text/plain": [
       "<IPython.core.display.Math object>"
      ]
     },
     "metadata": {},
     "output_type": "display_data"
    },
    {
     "data": {
      "text/latex": [
       "$\\displaystyle A_{y} \\cos\\left(\\frac{\\pi n_{y} y}{b}\\right) \\sin\\left(\\frac{\\pi n_{x} x}{a}\\right) \\sin\\left(k_{z} z\\right)$"
      ],
      "text/plain": [
       "<IPython.core.display.Math object>"
      ]
     },
     "metadata": {},
     "output_type": "display_data"
    },
    {
     "data": {
      "text/latex": [
       "$\\displaystyle A_{z} \\cos\\left(k_{z} z\\right) \\sin\\left(\\frac{\\pi n_{x} x}{a}\\right) \\sin\\left(\\frac{\\pi n_{y} y}{b}\\right)$"
      ],
      "text/plain": [
       "<IPython.core.display.Math object>"
      ]
     },
     "metadata": {},
     "output_type": "display_data"
    }
   ],
   "source": [
    "disp(E_x.subs(k_subs_xy))\n",
    "disp(E_y.subs(k_subs_xy))\n",
    "disp(E_z.subs(k_subs_xy))"
   ]
  },
  {
   "cell_type": "markdown",
   "metadata": {},
   "source": [
    "$$E_{x} = A_{x} \\cos\\left(\\frac{\\pi n_{x} x}{a}\\right) \\sin\\left(\\frac{\\pi n_{y} y}{b}\\right) \\sin\\left(k_{z} z\\right)$$\n",
    "$$E_{y} = A_{y} \\cos\\left(\\frac{\\pi n_{y} y}{b}\\right) \\sin\\left(\\frac{\\pi n_{x} x}{a}\\right) \\sin\\left(k_{z} z\\right)$$\n",
    "$$E_{z} = A_{z} \\cos\\left(k_{z} z\\right) \\sin\\left(\\frac{\\pi n_{x} x}{a}\\right) \\sin\\left(\\frac{\\pi n_{y} y}{b}\\right)$$\n"
   ]
  },
  {
   "cell_type": "markdown",
   "metadata": {},
   "source": [
    "$rot\\,\\vec{E} = \\mu\\,\\frac{i\\,\\omega}{c}\\,\\vec{H}$"
   ]
  },
  {
   "cell_type": "code",
   "execution_count": 8,
   "metadata": {},
   "outputs": [],
   "source": [
    "rotE_x = E_z.diff(y) - E_y.diff(z)\n",
    "rotE_y = E_x.diff(z) - E_z.diff(x)\n",
    "rotE_z = E_y.diff(x) - E_x.diff(y)"
   ]
  },
  {
   "cell_type": "code",
   "execution_count": 9,
   "metadata": {},
   "outputs": [],
   "source": [
    "H_x = c / (I * omega * mu) * rotE_x\n",
    "H_y = c / (I * omega * mu) * rotE_y\n",
    "H_z = c / (I * omega * mu) * rotE_z"
   ]
  },
  {
   "cell_type": "code",
   "execution_count": 10,
   "metadata": {},
   "outputs": [],
   "source": [
    "H_x = H_x.full_simplify().factor().subs(k_subs_xy)\n",
    "H_y = H_y.full_simplify().factor().subs(k_subs_xy)\n",
    "H_z = H_z.full_simplify().factor().subs(k_subs_xy)"
   ]
  },
  {
   "cell_type": "code",
   "execution_count": 11,
   "metadata": {},
   "outputs": [
    {
     "data": {
      "text/latex": [
       "$\\displaystyle \\frac{i \\, {\\left(A_{y} k_{z} - \\frac{\\pi A_{z} n_{y}}{b}\\right)} c \\cos\\left(\\frac{\\pi n_{y} y}{b}\\right) \\cos\\left(k_{z} z\\right) \\sin\\left(\\frac{\\pi n_{x} x}{a}\\right)}{\\mu \\omega}$"
      ],
      "text/plain": [
       "<IPython.core.display.Math object>"
      ]
     },
     "metadata": {},
     "output_type": "display_data"
    },
    {
     "data": {
      "text/latex": [
       "$\\displaystyle -\\frac{i \\, {\\left(A_{x} k_{z} - \\frac{\\pi A_{z} n_{x}}{a}\\right)} c \\cos\\left(\\frac{\\pi n_{x} x}{a}\\right) \\cos\\left(k_{z} z\\right) \\sin\\left(\\frac{\\pi n_{y} y}{b}\\right)}{\\mu \\omega}$"
      ],
      "text/plain": [
       "<IPython.core.display.Math object>"
      ]
     },
     "metadata": {},
     "output_type": "display_data"
    },
    {
     "data": {
      "text/latex": [
       "$\\displaystyle -\\frac{i \\, {\\left(\\frac{\\pi A_{y} n_{x}}{a} - \\frac{\\pi A_{x} n_{y}}{b}\\right)} c \\cos\\left(\\frac{\\pi n_{x} x}{a}\\right) \\cos\\left(\\frac{\\pi n_{y} y}{b}\\right) \\sin\\left(k_{z} z\\right)}{\\mu \\omega}$"
      ],
      "text/plain": [
       "<IPython.core.display.Math object>"
      ]
     },
     "metadata": {},
     "output_type": "display_data"
    }
   ],
   "source": [
    "display(Math(latex(H_x)))\n",
    "display(Math(latex(H_y)))\n",
    "display(Math(latex(H_z)))"
   ]
  },
  {
   "cell_type": "markdown",
   "metadata": {},
   "source": [
    "and \n",
    "\n",
    "$$H_{x} = \\frac{i \\, {\\left(A_{y} b k_{z} - \\pi A_{z} n_{y}\\right)} c \\cos\\left(\\frac{\\pi n_{y} y}{b}\\right) \\cos\\left(k_{z} z\\right) \\sin\\left(\\frac{\\pi n_{x} x}{a}\\right)}{b \\mu \\omega}$$\n",
    "$$H_{y} = -\\frac{i \\, {\\left(A_{x} k_{z} - \\frac{\\pi A_{z} n_{x}}{a}\\right)} c \\cos\\left(\\frac{\\pi n_{x} x}{a}\\right) \\cos\\left(k_{z} z\\right) \\sin\\left(\\frac{\\pi n_{y} y}{b}\\right)}{\\mu \\omega}$$\n",
    "$$H_{z} = -\\frac{i \\, {\\left(\\frac{\\pi A_{y} n_{x}}{a} - \\frac{\\pi A_{x} n_{y}}{b}\\right)} c \\cos\\left(\\frac{\\pi n_{x} x}{a}\\right) \\cos\\left(\\frac{\\pi n_{y} y}{b}\\right) \\sin\\left(k_{z} z\\right)}{\\mu \\omega}$$"
   ]
  },
  {
   "cell_type": "code",
   "execution_count": 12,
   "metadata": {},
   "outputs": [],
   "source": [
    "eqE_x = E_x.diff(x,2) + E_x.diff(y,2) + E_x.diff(z,2) + mu*epsilon*omega^2/c^2 * E_x == 0\n",
    "eqE_y = E_y.diff(x,2) + E_y.diff(y,2) + E_y.diff(z,2) + mu*epsilon*omega^2/c^2 * E_y == 0\n",
    "eqE_z = E_z.diff(x,2) + E_z.diff(y,2) + E_z.diff(z,2) + mu*epsilon*omega^2/c^2 * E_z == 0"
   ]
  },
  {
   "cell_type": "code",
   "execution_count": 13,
   "metadata": {},
   "outputs": [],
   "source": [
    "eqH_x = H_x.diff(x,2) + H_x.diff(y,2) + H_x.diff(z,2) + mu*epsilon*omega^2/c^2 * H_x == 0\n",
    "eqH_y = H_y.diff(x,2) + H_y.diff(y,2) + H_y.diff(z,2) + mu*epsilon*omega^2/c^2 * H_y == 0\n",
    "eqH_z = H_z.diff(x,2) + H_z.diff(y,2) + H_z.diff(z,2) + mu*epsilon*omega^2/c^2 * H_z == 0"
   ]
  },
  {
   "cell_type": "code",
   "execution_count": 14,
   "metadata": {},
   "outputs": [
    {
     "data": {
      "text/latex": [
       "$\\displaystyle a^{2} b^{2} k_{z}^{2} + \\pi^{2} b^{2} n_{x}^{2} + \\pi^{2} a^{2} n_{y}^{2} - \\frac{a^{2} b^{2} \\epsilon \\mu \\omega^{2}}{c^{2}} = 0$"
      ],
      "text/plain": [
       "<IPython.core.display.Math object>"
      ]
     },
     "metadata": {},
     "output_type": "display_data"
    }
   ],
   "source": [
    "dispersion_eqH = (eqH_z.full_simplify().factor().lhs().operands()[1]/c^2).expand() == 0\n",
    "disp(dispersion_eqH)"
   ]
  },
  {
   "cell_type": "code",
   "execution_count": 15,
   "metadata": {},
   "outputs": [
    {
     "data": {
      "text/latex": [
       "$\\displaystyle k_{x}^{2} + k_{y}^{2} + k_{z}^{2} - \\frac{\\epsilon \\mu \\omega^{2}}{c^{2}} = 0$"
      ],
      "text/plain": [
       "<IPython.core.display.Math object>"
      ]
     },
     "metadata": {},
     "output_type": "display_data"
    }
   ],
   "source": [
    "dispersion_eqE = (eqE_z.full_simplify().factor().lhs().operands()[0]/c^2).expand() == 0\n",
    "disp(dispersion_eqE)"
   ]
  },
  {
   "cell_type": "markdown",
   "metadata": {},
   "source": [
    "with\n",
    "\n",
    "$$k_{z}^{2} + \\frac{\\pi^{2} n_{x}^{2}}{a^{2}} + \\frac{\\pi^{2} n_{y}^{2}}{b^{2}} - \\frac{\\omega^{2}}{c^{2}} = 0$$"
   ]
  },
  {
   "cell_type": "markdown",
   "metadata": {},
   "source": [
    "using $div\\,\\vec{E} = 0$ we have"
   ]
  },
  {
   "cell_type": "code",
   "execution_count": 16,
   "metadata": {},
   "outputs": [
    {
     "data": {
      "text/latex": [
       "$\\displaystyle A_{x} k_{x} + A_{y} k_{y} + A_{z} k_{z} = 0$"
      ],
      "text/plain": [
       "<IPython.core.display.Math object>"
      ]
     },
     "metadata": {},
     "output_type": "display_data"
    }
   ],
   "source": [
    "div_E = E_x.diff(x) + E_y.diff(y) + E_z.diff(z)\n",
    "eq_A = div_E.full_simplify().factor().operands()[0] == 0\n",
    "disp(eq_A)"
   ]
  },
  {
   "cell_type": "code",
   "execution_count": 17,
   "metadata": {},
   "outputs": [
    {
     "data": {
      "text/latex": [
       "$\\displaystyle A_{z} k_{z} + \\frac{\\pi A_{x} n_{x}}{a} + \\frac{\\pi A_{y} n_{y}}{b} = 0$"
      ],
      "text/plain": [
       "<IPython.core.display.Math object>"
      ]
     },
     "metadata": {},
     "output_type": "display_data"
    }
   ],
   "source": [
    "eq_A = eq_A.subs(k_subs_xy)\n",
    "disp(eq_A)"
   ]
  },
  {
   "cell_type": "markdown",
   "metadata": {},
   "source": [
    "$$A_{z} k_{z} + \\frac{\\pi A_{x} n_{x}}{a} + \\frac{\\pi A_{y} n_{y}}{b} = 0$$"
   ]
  },
  {
   "cell_type": "code",
   "execution_count": 18,
   "metadata": {},
   "outputs": [
    {
     "data": {
      "text/latex": [
       "$\\displaystyle \\omega = c \\sqrt{\\frac{k_{x}^{2}}{\\epsilon \\mu} + \\frac{k_{y}^{2}}{\\epsilon \\mu} + \\frac{k_{z}^{2}}{\\epsilon \\mu}}$"
      ],
      "text/plain": [
       "<IPython.core.display.Math object>"
      ]
     },
     "metadata": {},
     "output_type": "display_data"
    }
   ],
   "source": [
    "omega_2 = solve(eqE_x, omega^2)[0]\n",
    "omega_1 = solve(eqE_x, omega)[1]\n",
    "disp(omega_1)"
   ]
  },
  {
   "cell_type": "markdown",
   "metadata": {},
   "source": [
    "Field energy density $\\left(\\int \\frac{E_x^2+E_y^2+E_z^2}{8 \\pi}dV\\right)\\big/{V}$ is"
   ]
  },
  {
   "cell_type": "code",
   "execution_count": 19,
   "metadata": {},
   "outputs": [
    {
     "data": {
      "text/latex": [
       "$\\displaystyle \\frac{A_{x}^{2} + A_{y}^{2} + A_{z}^{2}}{64 \\, \\pi}$"
      ],
      "text/plain": [
       "<IPython.core.display.Math object>"
      ]
     },
     "metadata": {},
     "output_type": "display_data"
    }
   ],
   "source": [
    "E_E = (((E_x^2+E_y^2+E_z^2)/(8*pi)) \\\n",
    "       .subs(omega_1).subs(k_subs_xy).subs(k_subs_z) \\\n",
    "       .subs(epsilon == 1, mu == 1) \\\n",
    "       .integrate(x, 0, a).integrate(y, 0, b).integrate(z, 0, h) \\\n",
    "       .subs(omega_2)/(a*b*h)).expand().full_simplify()\n",
    "disp(E_E)"
   ]
  },
  {
   "cell_type": "markdown",
   "metadata": {},
   "source": [
    "$$\\frac{E}{V} = \\frac{{A_{1}^{2} + A_{2}^{2} + A_{3}^{2}}}{64 \\, \\pi}$$"
   ]
  },
  {
   "cell_type": "markdown",
   "metadata": {},
   "source": [
    "Full field energy density $\\left(\\int \\frac{E_x^2+E_y^2+E_z^2}{8 \\pi}dV + \\int \\frac{H_x^2+H_y^2+H_z^2}{8 \\pi}dV\\right)\\big/{V}$ is"
   ]
  },
  {
   "cell_type": "markdown",
   "metadata": {},
   "source": [
    "$$\\frac{E}{V} = \\frac{{A_{1}^{2} + A_{2}^{2} + A_{3}^{2}}}{32 \\, \\pi}$$"
   ]
  },
  {
   "cell_type": "markdown",
   "metadata": {},
   "source": [
    "Electromagnetic pressure $\\frac{\\int \\frac {H_x^2+H_y^2}{8 \\pi} dS}{S}$ on $xy$ plate is"
   ]
  },
  {
   "cell_type": "code",
   "execution_count": 20,
   "metadata": {},
   "outputs": [
    {
     "data": {
      "text/latex": [
       "$\\displaystyle -\\frac{2 \\, \\pi A_{x} A_{z} a b^{2} k_{z} n_{x} - \\pi^{2} A_{z}^{2} b^{2} n_{x}^{2} + 2 \\, \\pi A_{y} A_{z} a^{2} b k_{z} n_{y} - \\pi^{2} A_{z}^{2} a^{2} n_{y}^{2} - {\\left(A_{x}^{2} + A_{y}^{2}\\right)} a^{2} b^{2} k_{z}^{2}}{32 \\, {\\left(\\pi a^{2} b^{2} k_{z}^{2} + \\pi^{3} b^{2} n_{x}^{2} + \\pi^{3} a^{2} n_{y}^{2}\\right)}}$"
      ],
      "text/plain": [
       "<IPython.core.display.Math object>"
      ]
     },
     "metadata": {},
     "output_type": "display_data"
    },
    {
     "name": "stdout",
     "output_type": "stream",
     "text": [
      "\\frac{f_z}{S} = -\\frac{2 \\, \\pi A_{x} A_{z} a b^{2} k_{z} n_{x} - \\pi^{2} A_{z}^{2} b^{2} n_{x}^{2} + 2 \\, \\pi A_{y} A_{z} a^{2} b k_{z} n_{y} - \\pi^{2} A_{z}^{2} a^{2} n_{y}^{2} - {\\left(A_{x}^{2} + A_{y}^{2}\\right)} a^{2} b^{2} k_{z}^{2}}{32 \\, {\\left(\\pi a^{2} b^{2} k_{z}^{2} + \\pi^{3} b^{2} n_{x}^{2} + \\pi^{3} a^{2} n_{y}^{2}\\right)}}\n"
     ]
    }
   ],
   "source": [
    "F_z = -(((H_x^2+H_y^2)/(8*pi)) \\\n",
    "       .subs(omega_1).subs(omega_2).subs(k_subs_xy) \\\n",
    "       .subs(epsilon == 1, mu == 1) \\\n",
    "       .integrate(x, 0, a).integrate(y, 0, b).subs(z == 0) \\\n",
    "       /(a*b)).factor().full_simplify()\n",
    "disp(F_z)\n",
    "print (\"\\\\frac{f_z}{S} = \"+latex(F_z))"
   ]
  },
  {
   "cell_type": "markdown",
   "metadata": {},
   "source": [
    "$$\\frac{f_z}{S} = -\\frac{2 \\, \\pi A_{x} A_{z} a b^{2} k_{z} n_{x} - \\pi^{2} A_{z}^{2} b^{2} n_{x}^{2} + 2 \\, \\pi A_{y} A_{z} a^{2} b k_{z} n_{y} - \\pi^{2} A_{z}^{2} a^{2} n_{y}^{2} - {\\left(A_{x}^{2} + A_{y}^{2}\\right)} a^{2} b^{2} k_{z}^{2}}{32 \\, {\\left(\\pi a^{2} b^{2} k_{z}^{2} + \\pi^{3} b^{2} n_{x}^{2} + \\pi^{3} a^{2} n_{y}^{2}\\right)}}$$"
   ]
  },
  {
   "cell_type": "markdown",
   "metadata": {},
   "source": [
    "Their relation $\\frac{f_z/S}{E/V}$ is"
   ]
  },
  {
   "cell_type": "code",
   "execution_count": 21,
   "metadata": {},
   "outputs": [
    {
     "data": {
      "text/latex": [
       "$\\displaystyle \\frac{A_{x}^{2} a^{2} b^{2} k_{z}^{2} + A_{y}^{2} a^{2} b^{2} k_{z}^{2} - 2 \\, \\pi A_{x} A_{z} a b^{2} k_{z} n_{x} + \\pi^{2} A_{z}^{2} b^{2} n_{x}^{2} - 2 \\, \\pi A_{y} A_{z} a^{2} b k_{z} n_{y} + \\pi^{2} A_{z}^{2} a^{2} n_{y}^{2}}{{\\left(a^{2} b^{2} k_{z}^{2} + \\pi^{2} b^{2} n_{x}^{2} + \\pi^{2} a^{2} n_{y}^{2}\\right)} {\\left(A_{x}^{2} + A_{y}^{2} + A_{z}^{2}\\right)}}$"
      ],
      "text/plain": [
       "<IPython.core.display.Math object>"
      ]
     },
     "metadata": {},
     "output_type": "display_data"
    },
    {
     "name": "stdout",
     "output_type": "stream",
     "text": [
      "\\frac{f_z/S}{E/V} = \\frac{A_{x}^{2} a^{2} b^{2} k_{z}^{2} + A_{y}^{2} a^{2} b^{2} k_{z}^{2} - 2 \\, \\pi A_{x} A_{z} a b^{2} k_{z} n_{x} + \\pi^{2} A_{z}^{2} b^{2} n_{x}^{2} - 2 \\, \\pi A_{y} A_{z} a^{2} b k_{z} n_{y} + \\pi^{2} A_{z}^{2} a^{2} n_{y}^{2}}{{\\left(a^{2} b^{2} k_{z}^{2} + \\pi^{2} b^{2} n_{x}^{2} + \\pi^{2} a^{2} n_{y}^{2}\\right)} {\\left(A_{x}^{2} + A_{y}^{2} + A_{z}^{2}\\right)}}\n"
     ]
    }
   ],
   "source": [
    "F_z_E = (F_z / (E_E) / 2).factor()\n",
    "disp(F_z_E)\n",
    "print (\"\\\\frac{f_z/S}{E/V} = \"+latex(F_z_E))"
   ]
  },
  {
   "cell_type": "markdown",
   "metadata": {},
   "source": [
    "$$\\frac{f_z/S}{E/V} = \\frac{A_{x}^{2} a^{2} b^{2} k_{z}^{2} + A_{y}^{2} a^{2} b^{2} k_{z}^{2} - 2 \\, \\pi A_{x} A_{z} a b^{2} k_{z} n_{x} + \\pi^{2} A_{z}^{2} b^{2} n_{x}^{2} - 2 \\, \\pi A_{y} A_{z} a^{2} b k_{z} n_{y} + \\pi^{2} A_{z}^{2} a^{2} n_{y}^{2}}{{\\left(a^{2} b^{2} k_{z}^{2} + \\pi^{2} b^{2} n_{x}^{2} + \\pi^{2} a^{2} n_{y}^{2}\\right)} {\\left(A_{x}^{2} + A_{y}^{2} + A_{z}^{2}\\right)}}$$"
   ]
  },
  {
   "cell_type": "markdown",
   "metadata": {},
   "source": [
    "Considering terms with wave propagation in $z$ direction we have $H_z = 0$ which give:"
   ]
  },
  {
   "cell_type": "code",
   "execution_count": 22,
   "metadata": {},
   "outputs": [],
   "source": [
    "eq_Hz0 = H_z == 0"
   ]
  },
  {
   "cell_type": "code",
   "execution_count": 23,
   "metadata": {},
   "outputs": [],
   "source": [
    "eq_Hz_0 = eq_Hz0.lhs().numerator().operands()[0] == 0"
   ]
  },
  {
   "cell_type": "code",
   "execution_count": 24,
   "metadata": {},
   "outputs": [
    {
     "data": {
      "text/latex": [
       "$\\displaystyle \\pi A_{y} b n_{x} - \\pi A_{x} a n_{y} = 0$"
      ],
      "text/plain": [
       "<IPython.core.display.Math object>"
      ]
     },
     "metadata": {},
     "output_type": "display_data"
    },
    {
     "name": "stdout",
     "output_type": "stream",
     "text": [
      "\\pi A_{y} b n_{x} - \\pi A_{x} a n_{y} = 0\n"
     ]
    }
   ],
   "source": [
    "eq_Hz_0 = eq_Hz_0.subs(k_subs_xy)\n",
    "disp(eq_Hz_0)\n",
    "print (latex(eq_Hz_0))"
   ]
  },
  {
   "cell_type": "markdown",
   "metadata": {},
   "source": [
    "$$\\pi A_{y} b n_{x} - \\pi A_{x} a n_{y} = 0$$"
   ]
  },
  {
   "cell_type": "code",
   "execution_count": 25,
   "metadata": {},
   "outputs": [
    {
     "data": {
      "text/latex": [
       "$\\displaystyle -\\frac{A_{z} a b^{2} k_{z} n_{x}}{\\pi b^{2} n_{x}^{2} + \\pi a^{2} n_{y}^{2}}$"
      ],
      "text/plain": [
       "<IPython.core.display.Math object>"
      ]
     },
     "metadata": {},
     "output_type": "display_data"
    },
    {
     "data": {
      "text/latex": [
       "$\\displaystyle -\\frac{A_{z} a^{2} b k_{z} n_{y}}{\\pi b^{2} n_{x}^{2} + \\pi a^{2} n_{y}^{2}}$"
      ],
      "text/plain": [
       "<IPython.core.display.Math object>"
      ]
     },
     "metadata": {},
     "output_type": "display_data"
    },
    {
     "name": "stdout",
     "output_type": "stream",
     "text": [
      "A_{x} = -\\frac{A_{z} a b^{2} k_{z} n_{x}}{\\pi b^{2} n_{x}^{2} + \\pi a^{2} n_{y}^{2}}\n",
      "A_{y} = -\\frac{A_{z} a^{2} b k_{z} n_{y}}{\\pi b^{2} n_{x}^{2} + \\pi a^{2} n_{y}^{2}}\n"
     ]
    }
   ],
   "source": [
    "A1_sol_z = solve(eq_A.subs(solve(eq_Hz_0, A_2)), A_1)[0].rhs()\n",
    "A2_sol_z = solve(eq_A.subs(solve(eq_Hz_0, A_1)), A_2)[0].rhs()\n",
    "disp(A1_sol_z)\n",
    "disp(A2_sol_z)\n",
    "print (latex(A_1 == A1_sol_z))\n",
    "print (latex(A_2 == A2_sol_z))"
   ]
  },
  {
   "cell_type": "markdown",
   "metadata": {},
   "source": [
    "$$A_{x} = -\\frac{A_{z} a b^{2} k_{z} n_{x}}{\\pi b^{2} n_{x}^{2} + \\pi a^{2} n_{y}^{2}},\n",
    "A_{y} = -\\frac{A_{z} a^{2} b k_{z} n_{y}}{\\pi b^{2} n_{x}^{2} + \\pi a^{2} n_{y}^{2}}$$"
   ]
  },
  {
   "cell_type": "markdown",
   "metadata": {},
   "source": [
    "Relation of electromagnetic pressure per field energy density in this case is equial to"
   ]
  },
  {
   "cell_type": "code",
   "execution_count": 26,
   "metadata": {},
   "outputs": [
    {
     "data": {
      "text/latex": [
       "$\\displaystyle 1$"
      ],
      "text/plain": [
       "<IPython.core.display.Math object>"
      ]
     },
     "metadata": {},
     "output_type": "display_data"
    }
   ],
   "source": [
    "F_z_E_z = F_z_E.subs(A_1 == A1_sol_z, A_2 == A2_sol_z).factor()\n",
    "disp(F_z_E_z)"
   ]
  },
  {
   "cell_type": "markdown",
   "metadata": {},
   "source": [
    "$$\\frac{f_z/S}{E/V} = 1$$"
   ]
  },
  {
   "cell_type": "markdown",
   "metadata": {},
   "source": [
    "Considering terms with wave propagation in $x$ direction we have $H_x = 0$ which give:"
   ]
  },
  {
   "cell_type": "code",
   "execution_count": 27,
   "metadata": {},
   "outputs": [
    {
     "data": {
      "text/latex": [
       "$\\displaystyle \\frac{i \\, {\\left(A_{y} k_{z} - \\frac{\\pi A_{z} n_{y}}{b}\\right)} c \\cos\\left(\\frac{\\pi n_{y} y}{b}\\right) \\cos\\left(k_{z} z\\right) \\sin\\left(\\frac{\\pi n_{x} x}{a}\\right)}{\\mu \\omega} = 0$"
      ],
      "text/plain": [
       "<IPython.core.display.Math object>"
      ]
     },
     "metadata": {},
     "output_type": "display_data"
    },
    {
     "data": {
      "text/latex": [
       "$\\displaystyle A_{y} b k_{z} - \\pi A_{z} n_{y} = 0$"
      ],
      "text/plain": [
       "<IPython.core.display.Math object>"
      ]
     },
     "metadata": {},
     "output_type": "display_data"
    },
    {
     "data": {
      "text/latex": [
       "$\\displaystyle A_{y} b k_{z} - \\pi A_{z} n_{y} = 0$"
      ],
      "text/plain": [
       "<IPython.core.display.Math object>"
      ]
     },
     "metadata": {},
     "output_type": "display_data"
    }
   ],
   "source": [
    "eq_Hx0 = H_x == 0\n",
    "disp(eq_Hx0)\n",
    "eq_Hx_0 = eq_Hx0.lhs().numerator().operands()[0] == 0\n",
    "disp(eq_Hx_0)\n",
    "eq_Hx_0 = eq_Hx_0.subs(k_subs_xy)\n",
    "disp(eq_Hx_0)"
   ]
  },
  {
   "cell_type": "code",
   "execution_count": 28,
   "metadata": {},
   "outputs": [
    {
     "data": {
      "text/latex": [
       "$\\displaystyle -\\frac{\\pi A_{x} b^{2} k_{z} n_{x}}{a b^{2} k_{z}^{2} + \\pi^{2} a n_{y}^{2}}$"
      ],
      "text/plain": [
       "<IPython.core.display.Math object>"
      ]
     },
     "metadata": {},
     "output_type": "display_data"
    },
    {
     "data": {
      "text/latex": [
       "$\\displaystyle -\\frac{\\pi^{2} A_{x} b n_{x} n_{y}}{a b^{2} k_{z}^{2} + \\pi^{2} a n_{y}^{2}}$"
      ],
      "text/plain": [
       "<IPython.core.display.Math object>"
      ]
     },
     "metadata": {},
     "output_type": "display_data"
    },
    {
     "name": "stdout",
     "output_type": "stream",
     "text": [
      "A_{z} = -\\frac{\\pi A_{x} b^{2} k_{z} n_{x}}{a b^{2} k_{z}^{2} + \\pi^{2} a n_{y}^{2}}\n",
      "A_{y} = -\\frac{\\pi^{2} A_{x} b n_{x} n_{y}}{a b^{2} k_{z}^{2} + \\pi^{2} a n_{y}^{2}}\n"
     ]
    }
   ],
   "source": [
    "A3_sol_x = solve(eq_A.subs(solve(eq_Hx_0, A_2)), A_3)[0].rhs()\n",
    "A2_sol_x = solve(eq_A.subs(solve(eq_Hx_0, A_3)), A_2)[0].rhs()\n",
    "disp(A3_sol_x)\n",
    "disp(A2_sol_x)\n",
    "print (latex(A_3 == A3_sol_x))\n",
    "print (latex(A_2 == A2_sol_x))"
   ]
  },
  {
   "cell_type": "markdown",
   "metadata": {},
   "source": [
    "$$A_{z} = -\\frac{\\pi A_{x} b^{2} k_{z} n_{x}}{a b^{2} k_{z}^{2} + \\pi^{2} a n_{y}^{2}},\n",
    "A_{y} = -\\frac{\\pi^{2} A_{x} b n_{x} n_{y}}{a b^{2} k_{z}^{2} + \\pi^{2} a n_{y}^{2}}$$"
   ]
  },
  {
   "cell_type": "markdown",
   "metadata": {},
   "source": [
    "Relation of electromagnetic pressure per field energy density in this case is"
   ]
  },
  {
   "cell_type": "code",
   "execution_count": 29,
   "metadata": {},
   "outputs": [
    {
     "data": {
      "text/latex": [
       "$\\displaystyle \\frac{b^{2} k_{z}^{2}}{b^{2} k_{z}^{2} + \\pi^{2} n_{y}^{2}}$"
      ],
      "text/plain": [
       "<IPython.core.display.Math object>"
      ]
     },
     "metadata": {},
     "output_type": "display_data"
    },
    {
     "name": "stdout",
     "output_type": "stream",
     "text": [
      "\\frac{f_z/S}{E/V} = \\frac{b^{2} k_{z}^{2}}{b^{2} k_{z}^{2} + \\pi^{2} n_{y}^{2}}\n"
     ]
    }
   ],
   "source": [
    "F_z_E_x = F_z_E.subs(A_3 == A3_sol_x, A_2 == A2_sol_x).subs(k_subs_xy).factor()\n",
    "disp(F_z_E_x)\n",
    "print(\"\\\\frac{f_z/S}{E/V} = \"+latex(F_z_E_x))"
   ]
  },
  {
   "cell_type": "markdown",
   "metadata": {},
   "source": [
    "$$\\frac{f_z/S}{E/V} = \\frac{b^{2} k_{z}^{2}}{b^{2} k_{z}^{2} + \\pi^{2} n_{y}^{2}}$$"
   ]
  },
  {
   "cell_type": "markdown",
   "metadata": {},
   "source": [
    "Considering terms with wave propagation in $y$ direction $H_y = 0$ is similar to them in $x$ direction"
   ]
  },
  {
   "cell_type": "code",
   "execution_count": 30,
   "metadata": {},
   "outputs": [
    {
     "data": {
      "text/latex": [
       "$\\displaystyle -\\frac{i \\, {\\left(A_{x} k_{z} - \\frac{\\pi A_{z} n_{x}}{a}\\right)} c \\cos\\left(\\frac{\\pi n_{x} x}{a}\\right) \\cos\\left(k_{z} z\\right) \\sin\\left(\\frac{\\pi n_{y} y}{b}\\right)}{\\mu \\omega} = 0$"
      ],
      "text/plain": [
       "<IPython.core.display.Math object>"
      ]
     },
     "metadata": {},
     "output_type": "display_data"
    },
    {
     "data": {
      "text/latex": [
       "$\\displaystyle A_{x} a k_{z} - \\pi A_{z} n_{x} = 0$"
      ],
      "text/plain": [
       "<IPython.core.display.Math object>"
      ]
     },
     "metadata": {},
     "output_type": "display_data"
    },
    {
     "data": {
      "text/latex": [
       "$\\displaystyle A_{x} a k_{z} - \\pi A_{z} n_{x} = 0$"
      ],
      "text/plain": [
       "<IPython.core.display.Math object>"
      ]
     },
     "metadata": {},
     "output_type": "display_data"
    }
   ],
   "source": [
    "eq_Hy0 = H_y == 0\n",
    "disp(eq_Hy0)\n",
    "eq_Hy_0 = eq_Hy0.lhs().numerator().operands()[0] == 0\n",
    "disp(eq_Hy_0)\n",
    "eq_Hy_0 = eq_Hy_0.subs(k_subs_xy)\n",
    "disp(eq_Hy_0)"
   ]
  },
  {
   "cell_type": "code",
   "execution_count": 31,
   "metadata": {},
   "outputs": [
    {
     "data": {
      "text/latex": [
       "$\\displaystyle -\\frac{\\pi^{2} A_{y} a n_{x} n_{y}}{a^{2} b k_{z}^{2} + \\pi^{2} b n_{x}^{2}}$"
      ],
      "text/plain": [
       "<IPython.core.display.Math object>"
      ]
     },
     "metadata": {},
     "output_type": "display_data"
    },
    {
     "data": {
      "text/latex": [
       "$\\displaystyle -\\frac{\\pi A_{y} a^{2} k_{z} n_{y}}{a^{2} b k_{z}^{2} + \\pi^{2} b n_{x}^{2}}$"
      ],
      "text/plain": [
       "<IPython.core.display.Math object>"
      ]
     },
     "metadata": {},
     "output_type": "display_data"
    },
    {
     "name": "stdout",
     "output_type": "stream",
     "text": [
      "A_{x} = -\\frac{\\pi^{2} A_{y} a n_{x} n_{y}}{a^{2} b k_{z}^{2} + \\pi^{2} b n_{x}^{2}}\n",
      "A_{z} = -\\frac{\\pi A_{y} a^{2} k_{z} n_{y}}{a^{2} b k_{z}^{2} + \\pi^{2} b n_{x}^{2}}\n"
     ]
    }
   ],
   "source": [
    "A1_sol_y = solve(eq_A.subs(solve(eq_Hy_0, A_3)), A_1)[0].rhs()\n",
    "A3_sol_y = solve(eq_A.subs(solve(eq_Hy_0, A_1)), A_3)[0].rhs()\n",
    "disp(A1_sol_y)\n",
    "disp(A3_sol_y)\n",
    "print (latex(A_1 == A1_sol_y))\n",
    "print (latex(A_3 == A3_sol_y))"
   ]
  },
  {
   "cell_type": "markdown",
   "metadata": {},
   "source": [
    "$$A_{x} = -\\frac{\\pi^{2} A_{y} a n_{x} n_{y}}{a^{2} b k_{z}^{2} + \\pi^{2} b n_{x}^{2}},\n",
    "A_{z} = -\\frac{\\pi A_{y} a^{2} k_{z} n_{y}}{a^{2} b k_{z}^{2} + \\pi^{2} b n_{x}^{2}}$$"
   ]
  },
  {
   "cell_type": "markdown",
   "metadata": {},
   "source": [
    "Relation of electromagnetic pressure per field energy density in this case is"
   ]
  },
  {
   "cell_type": "code",
   "execution_count": 32,
   "metadata": {},
   "outputs": [
    {
     "data": {
      "text/latex": [
       "$\\displaystyle \\frac{a^{2} k_{z}^{2}}{a^{2} k_{z}^{2} + \\pi^{2} n_{x}^{2}}$"
      ],
      "text/plain": [
       "<IPython.core.display.Math object>"
      ]
     },
     "metadata": {},
     "output_type": "display_data"
    },
    {
     "name": "stdout",
     "output_type": "stream",
     "text": [
      "\\frac{f_z/S}{E/V} = \\frac{a^{2} k_{z}^{2}}{a^{2} k_{z}^{2} + \\pi^{2} n_{x}^{2}}\n"
     ]
    }
   ],
   "source": [
    "F_z_E_y = F_z_E.subs(A_1 == A1_sol_y, A_3 == A3_sol_y).subs(k_subs_xy).factor()\n",
    "disp(F_z_E_y)\n",
    "print(\"\\\\frac{f_z/S}{E/V} = \" + latex(F_z_E_y))"
   ]
  },
  {
   "cell_type": "markdown",
   "metadata": {},
   "source": [
    "$$\\frac{f_z/S}{E/V} = \\frac{a^{2} k_{z}^{2}}{a^{2} k_{z}^{2} + \\pi^{2} n_{x}^{2}}$$"
   ]
  },
  {
   "cell_type": "code",
   "execution_count": 33,
   "metadata": {},
   "outputs": [
    {
     "data": {
      "image/png": "[encoded data removed]",
      "text/plain": [
       "Graphics object consisting of 1 graphics primitive"
      ]
     },
     "execution_count": 33,
     "metadata": {},
     "output_type": "execute_result"
    }
   ],
   "source": [
    "plot(F_z_E_z.subs(a == 0.0001, n_x == 1000, n_y == 1000), k_z, 0, 1000)"
   ]
  },
  {
   "cell_type": "code",
   "execution_count": 34,
   "metadata": {},
   "outputs": [
    {
     "data": {
      "image/png": "[encoded data removed]",
      "text/plain": [
       "Graphics object consisting of 1 graphics primitive"
      ]
     },
     "execution_count": 34,
     "metadata": {},
     "output_type": "execute_result"
    }
   ],
   "source": [
    "plot(F_z_E_x.subs(b == 0.0001, n_x == 1000, n_y == 1000), k_z, 0, 1000000000)"
   ]
  },
  {
   "cell_type": "code",
   "execution_count": 35,
   "metadata": {},
   "outputs": [
    {
     "data": {
      "text/plain": [
       "1"
      ]
     },
     "execution_count": 35,
     "metadata": {},
     "output_type": "execute_result"
    }
   ],
   "source": [
    "limit(F_z_E_x, k_z=Infinity)"
   ]
  },
  {
   "cell_type": "code",
   "execution_count": 36,
   "metadata": {},
   "outputs": [
    {
     "data": {
      "text/plain": [
       "1"
      ]
     },
     "execution_count": 36,
     "metadata": {},
     "output_type": "execute_result"
    }
   ],
   "source": [
    "limit(F_z_E_y, k_z=Infinity)"
   ]
  },
  {
   "cell_type": "code",
   "execution_count": 37,
   "metadata": {},
   "outputs": [
    {
     "data": {
      "text/plain": [
       "1"
      ]
     },
     "execution_count": 37,
     "metadata": {},
     "output_type": "execute_result"
    }
   ],
   "source": [
    "limit(F_z_E_z, k_z=Infinity)"
   ]
  }
 ],
 "metadata": {
  "kernelspec": {
   "display_name": "SageMath 9.6.beta7",
   "language": "sage",
   "name": "sagemath"
  },
  "language_info": {
   "codemirror_mode": {
    "name": "ipython",
    "version": 3
   },
   "file_extension": ".py",
   "mimetype": "text/x-python",
   "name": "python",
   "nbconvert_exporter": "python",
   "pygments_lexer": "ipython3",
   "version": "3.10.3"
  }
 },
 "nbformat": 4,
 "nbformat_minor": 2
}
