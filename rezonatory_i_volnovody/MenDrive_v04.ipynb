{
 "cells": [
  {
   "cell_type": "markdown",
   "metadata": {},
   "source": [
    "# Электродинамический расчёт волнового двигателя с внутренним расходом энергии Ф.Ф.Менде (MenDrive)\n",
    "\n",
    "А.Ю.Дроздов"
   ]
  },
  {
   "cell_type": "markdown",
   "metadata": {},
   "source": [
    "опираясь на выкладки из параграфа 20 Электродинамики Зоммерфельда"
   ]
  },
  {
   "cell_type": "markdown",
   "metadata": {},
   "source": [
    "рассчитаем тягу в\n",
    "\n",
    "http://fmnauka.narod.ru/dvigatel_emdrive.pdf\n",
    "\n",
    "Ф.Ф. МЕНДЕ, ВОЛНОВОЙ ДВИГАТЕЛЬ С ВНУТРЕННИМ РАСХОДОМ ЭНЕРГИИ ЭЛЕКТРОМАГНИТНЫХ КОЛЕБАНИЙ"
   ]
  },
  {
   "cell_type": "markdown",
   "metadata": {},
   "source": [
    "геометрия задачи следующая: \n",
    "\n",
    "поверхность хорошего проводника $x<=-a$\n",
    "\n",
    "вакуум внутри резонатора заполняет область $-a<=x<=a$\n",
    "\n",
    "В области $x>a$ - плохой проводник"
   ]
  },
  {
   "cell_type": "markdown",
   "metadata": {},
   "source": [
    "$$rot\\,\\vec{E} = \\frac{1}{c}\\frac{\\partial \\vec B}{\\partial t} = \\mu\\,\\frac{i\\,\\omega}{c}\\,\\vec{H}$$\n",
    "\n",
    "$$rot\\,\\vec{H} = \\frac{1}{c}\\frac{\\partial \\vec D}{\\partial t} + \\frac{4\\pi}{c} \\vec j = - \\frac{i\\,\\omega}{c} \\epsilon \\vec{E} + \\frac{4\\pi}{c}\\sigma \\vec E$$\n",
    "\n",
    "$$rot\\,rot\\,\\vec{E} = \\mu\\,\\frac{i\\,\\omega}{c}rot\\,\\vec{H}$$\n",
    "\n",
    "$$rot\\,rot\\,\\vec{E} = \\mu\\,\\frac{i\\,\\omega}{c}\\left(- \\frac{i\\,\\omega}{c} \\epsilon \\vec{E} + \\frac{4\\pi}{c}\\sigma \\vec E\\right)$$\n",
    "\n",
    "$$rot\\,rot\\,\\vec{E} = \\epsilon \\mu\\,\\frac{\\omega^2}{c^2} \\vec{E} + i\\,\\omega\\,\\sigma\\,\\mu\\,\\frac{4\\pi}{c^2} \\vec E$$\n",
    "\n",
    "$$rot\\,rot\\,\\vec{E} = grad\\,div\\,\\vec{E} - Laplasian\\,\\vec{E}$$\n",
    "\n",
    "$$Laplasian\\,\\vec{E} + \\epsilon \\mu \\frac{\\omega^2}{c^2}\\,\\vec{E} + i\\,\\omega\\,\\sigma\\,\\mu\\,\\frac{4\\pi}{c^2} \\vec E - grad\\,div\\,\\vec{E} = 0$$\n"
   ]
  },
  {
   "cell_type": "markdown",
   "metadata": {},
   "source": [
    "$$div\\,\\vec{E} = - \\frac{\\vec{n}}{c} \\frac{\\partial \\vec E}{\\partial t}$$\n",
    "\n",
    "$$grad\\,div\\,\\vec{E} = - grad\\,\\frac{\\vec{n}}{c} \\frac{\\partial \\vec E}{\\partial t}$$\n",
    "\n",
    "для вакуума внутри резонатора ищем решение в виде\n",
    "\n",
    "$$\\vec{E} = \\vec{E}(x)\\,e^{i\\,k\\,z}\\,e^{-i\\,\\omega\\,t}$$"
   ]
  },
  {
   "cell_type": "markdown",
   "metadata": {},
   "source": [
    "подставляя в исходное уравнение приходим к обыкновенному дифференциальному уравнению\n",
    "\n",
    "$$\\frac{\\partial^{2}}{(\\partial {x})^{2}}\\vec{E}(x) + \\frac{\\partial^{2}}{(\\partial {y})^{2}}\\vec{E}(x) + \\left(\\epsilon  \\mu \\frac{\\omega^2}{c^2} + i\\,\\omega\\,\\sigma\\,\\mu\\,\\frac{4\\pi}{c^2} - {k'_z}^2\\right)\\,\\vec{E}(x) - grad\\,div\\,\\vec{E} = 0$$"
   ]
  },
  {
   "cell_type": "markdown",
   "metadata": {},
   "source": [
    "производим следующую замену переменных\n",
    "\n",
    "$$\\kappa^2 = \\epsilon \\mu \\frac{\\omega^2}{c^2} + i\\,\\omega\\,\\sigma\\,\\mu\\,\\frac{4\\pi}{c^2}$$\n",
    "\n",
    "$$\\kappa^2 = \\mu \\left(\\epsilon  + i\\,\\frac{4\\pi\\,\\sigma}{\\omega} \\right) \\frac{\\omega^2}{c^2}$$\n",
    "\n",
    "теперь получаем дифференциальное уравнение\n",
    "\n",
    "$$\\frac{\\partial^{2}}{(\\partial {x})^{2}}\\vec{E}(x) + \\frac{\\partial^{2}}{(\\partial {y})^{2}}\\vec{E}(x) + \\left(\\kappa^2 - {k'_z}^2\\right)\\,\\vec{E}(x) = 0$$"
   ]
  },
  {
   "cell_type": "code",
   "execution_count": null,
   "metadata": {},
   "outputs": [],
   "source": []
  },
  {
   "cell_type": "markdown",
   "metadata": {},
   "source": [
    "для проводящего металла с потерями ищем решение в виде\n",
    "\n",
    "$$\\vec{E} = \\vec{E}\\,e^{i\\,k'_x\\,x}\\,e^{i\\,k'_z\\,z}\\,e^{-i\\,\\omega\\,t}$$\n",
    "\n",
    "в котором волновой вектор, направленный вдоль оси z комплексный $k'_z = k_z + i\\,s_z$, как и волновой вектор, направленный вдоль оси x может быть комплексным $k'_x = k_x + i\\,s_x$\n",
    "\n",
    "$$\\vec{E} = \\vec{E}\\,e^{i\\,(k_x + i\\,s_x)\\,(x-a)}\\,e^{i\\,(k_z + i\\,s_z)\\,z}\\,e^{-i\\,\\omega\\,t}$$"
   ]
  },
  {
   "cell_type": "code",
   "execution_count": null,
   "metadata": {},
   "outputs": [],
   "source": []
  },
  {
   "cell_type": "markdown",
   "metadata": {},
   "source": [
    "принимая модель комплексного представления диэлектрической проницаемости $\\epsilon' = \\epsilon + \\frac{4\\pi\\,\\sigma}{\\omega}\\,i$ (плохой проводник)"
   ]
  },
  {
   "cell_type": "markdown",
   "metadata": {},
   "source": [
    "подставляем решение в\n",
    "\n",
    "$$Laplasian\\,\\vec{E} + \\frac{\\mu \\omega^2}{c^2}\\left(\\epsilon + \\frac{4\\pi\\,\\sigma}{\\omega}\\,i\\right)\\,\\vec{E} - grad\\,div\\,\\vec{E} = 0$$\n",
    "\n",
    "и принимая\n",
    "\n",
    "$$div\\,\\vec{E} = - \\frac{\\vec{n}}{c} \\frac{\\partial \\vec E}{\\partial t}$$"
   ]
  },
  {
   "cell_type": "markdown",
   "metadata": {},
   "source": [
    "приходим к\n",
    "\n",
    "$$\\frac{\\partial^{2}}{(\\partial {x})^{2}}\\vec{E}(x) + \\frac{\\partial^{2}}{(\\partial {y})^{2}}\\vec{E}(x) + \\left(\\frac{\\mu \\omega^2}{c^2}\\left(\\epsilon + \\frac{4\\pi\\,\\sigma}{\\omega}\\,i\\right)  - {k'_z}^2\\right)\\,\\vec{E} - grad\\, \\left(\\frac{\\vec{n}}{c} \\frac{\\partial \\vec E}{\\partial t} \\right) = 0$$"
   ]
  },
  {
   "cell_type": "markdown",
   "metadata": {},
   "source": [
    "$$ k = \\frac{\\omega}{c}\\,\\sqrt{\\mu\\,\\left(\\epsilon  + \\frac{4\\pi\\,\\sigma}{\\omega}\\,i\\right)}$$"
   ]
  },
  {
   "cell_type": "markdown",
   "metadata": {},
   "source": [
    "$${k'_z}^2=\\left(k_z + i\\,s_z \\right)^2 = k_z^2 - s_z^2 + 2\\,i\\,k_z\\,s_z$$"
   ]
  },
  {
   "cell_type": "markdown",
   "metadata": {},
   "source": [
    "приходим к\n",
    "\n",
    "$$\\frac{\\partial^{2}}{(\\partial {x})^{2}}\\vec{E}(x) + \\frac{\\partial^{2}}{(\\partial {y})^{2}}\\vec{E}(x) + \\left(\\frac{\\mu \\omega^2}{c^2}\\epsilon + \\frac{\\mu \\omega^2}{c^2}\\frac{4\\pi\\,\\sigma}{\\omega}\\,i - {k'_z}^{2}\\right) = 0$$\n"
   ]
  },
  {
   "cell_type": "code",
   "execution_count": 1,
   "metadata": {},
   "outputs": [],
   "source": [
    "from IPython.display import display, Math, Latex\n",
    "\n",
    "def disp(ex):\n",
    "    display(Math(latex(ex)))\n",
    "\n",
    "mu_l = var('mu_l')\n",
    "assume(mu_l, 'real')\n",
    "assume(mu_l>0)\n",
    "\n",
    "mu_r = var('mu_r')\n",
    "assume(mu_r, 'real')\n",
    "assume(mu_r>0)\n",
    "\n",
    "epsilon_l = var('epsilon_l')\n",
    "assume(epsilon_l, 'real')\n",
    "assume(epsilon_l>0)\n",
    "\n",
    "epsilon_r = var('epsilon_r')\n",
    "assume(epsilon_r, 'real')\n",
    "assume(epsilon_r>0)\n",
    "\n",
    "mu_0 = 1\n",
    "epsilon_0 = 1\n",
    "\n",
    "# left conductor\n",
    "sigma_l = var('sigma_l')\n",
    "assume(sigma_l, 'real')\n",
    "assume(sigma_l>0)\n",
    "\n",
    "#right conductor\n",
    "sigma_r = var('sigma_r')\n",
    "assume(sigma_r, 'real')\n",
    "assume(sigma_r>0)\n",
    "\n",
    "\n",
    "sx = var ('sx')\n",
    "assume(sx, 'real')\n",
    "assume(sx>0)\n",
    "\n",
    "sy = var ('sy')\n",
    "assume(sy, 'real')\n",
    "assume(sy>0)\n",
    "\n",
    "sz = var ('sz')\n",
    "assume(sz, 'real')\n",
    "assume(sz>0)\n",
    "\n",
    "kappa_vacuum = var ('kappa_vacuum')\n",
    "assume(kappa_vacuum, 'real')\n",
    "assume(kappa_vacuum>0)\n",
    "\n",
    "# left conductor\n",
    "kappa_l = var('kappa_l')\n",
    "assume(kappa_l, 'complex')\n",
    "\n",
    "# right conductor\n",
    "kappa_r = var('kappa_r')\n",
    "assume(kappa_r, 'complex')\n",
    "\n",
    "kx = var ('kx')\n",
    "assume(kx, 'real')\n",
    "\n",
    "ky = var ('ky')\n",
    "assume(ky, 'real')\n",
    "\n",
    "kz = var ('kz')\n",
    "assume(kz, 'real')\n",
    "\n",
    "k__x = var ('k__x')\n",
    "assume(k__x, 'complex')\n",
    "\n",
    "k__y = var ('k__y')\n",
    "assume(k__x, 'complex')\n",
    "\n",
    "k__z = var ('k__z')\n",
    "assume(k__z, 'complex')\n",
    "\n",
    "k_x = var ('k_x')\n",
    "assume(k_x, 'complex')\n",
    "\n",
    "k_y = var ('k_y')\n",
    "assume(k_x, 'complex')\n",
    "\n",
    "k_z = var ('k_z')\n",
    "assume(k_z, 'complex')\n",
    "\n",
    "\n",
    "a = var('a')\n",
    "assume(a, 'real')\n",
    "assume(a>0)\n",
    "\n",
    "x = var('x')\n",
    "y = var('y')\n",
    "z = var('z')\n",
    "\n",
    "assume(x, 'real')\n",
    "assume(y, 'real')\n",
    "assume(z, 'real')\n",
    "\n",
    "c = var('c')\n",
    "assume(c, 'real')\n",
    "assume(c>0)\n",
    "\n",
    "omega = var('omega')\n",
    "assume(omega, 'real')\n",
    "\n",
    "good_conductor = False"
   ]
  },
  {
   "cell_type": "markdown",
   "metadata": {},
   "source": [
    "$$\\kappa^2 = \\epsilon \\mu \\frac{\\omega^2}{c^2} + i\\,\\omega\\,\\sigma\\,\\mu\\,\\frac{4\\pi}{c^2}$$"
   ]
  },
  {
   "cell_type": "markdown",
   "metadata": {},
   "source": [
    "$$\\kappa^2 = \\mu \\left(\\epsilon  + i\\,\\frac{4\\pi\\,\\sigma}{\\omega} \\right) \\frac{\\omega^2}{c^2}$$"
   ]
  },
  {
   "cell_type": "code",
   "execution_count": 2,
   "metadata": {},
   "outputs": [
    {
     "name": "stdout",
     "output_type": "stream",
     "text": [
      "eq_kappa_l =\n"
     ]
    },
    {
     "data": {
      "text/latex": [
       "$\\displaystyle \\kappa_{l}^{2} = \\frac{\\epsilon_{l} \\mu_{l} \\omega^{2}}{c^{2}} + \\frac{4 i \\, \\pi \\mu_{l} \\omega \\sigma_{l}}{c^{2}}$"
      ],
      "text/plain": [
       "<IPython.core.display.Math object>"
      ]
     },
     "metadata": {},
     "output_type": "display_data"
    },
    {
     "name": "stdout",
     "output_type": "stream",
     "text": [
      "eq_kappa_r =\n"
     ]
    },
    {
     "data": {
      "text/latex": [
       "$\\displaystyle \\kappa_{r}^{2} = \\frac{\\epsilon_{r} \\mu_{r} \\omega^{2}}{c^{2}} + \\frac{4 i \\, \\pi \\mu_{r} \\omega \\sigma_{r}}{c^{2}}$"
      ],
      "text/plain": [
       "<IPython.core.display.Math object>"
      ]
     },
     "metadata": {},
     "output_type": "display_data"
    },
    {
     "name": "stdout",
     "output_type": "stream",
     "text": [
      "eq_kappa_inner_vacuum =\n"
     ]
    },
    {
     "data": {
      "text/latex": [
       "$\\displaystyle \\kappa_{\\mathit{vacuum}}^{2} = \\frac{\\omega^{2}}{c^{2}}$"
      ],
      "text/plain": [
       "<IPython.core.display.Math object>"
      ]
     },
     "metadata": {},
     "output_type": "display_data"
    }
   ],
   "source": [
    "# исходя из вида дифференциальных уравнений для вакуума внутри резонатора и проводящего металла с потерями\n",
    "# записываем соотнощения для волнового вектора в виде уравнений\n",
    "\n",
    "if good_conductor:\n",
    "    eq_kappa_l              = kappa_l^2 == I*omega*sigma_l*mu_l*4*pi/c^2\n",
    "    eq_kappa_r              = kappa_r^2 == I*omega*sigma_r*mu_r*4*pi/c^2\n",
    "else:\n",
    "    eq_kappa_l              = kappa_l^2 == mu_l * epsilon_l * omega^2 / c^2 + I*omega*sigma_l*mu_l*4*pi/c^2\n",
    "    eq_kappa_r              = kappa_r^2 == mu_r * epsilon_r * omega^2 / c^2 + I*omega*sigma_r*mu_r*4*pi/c^2\n",
    "eq_kappa_inner_vacuum = kappa_vacuum^2 == omega^2 / c^2\n",
    "\n",
    "kappa_sol_l = solve(eq_kappa_l, kappa_l)[1]\n",
    "kappa_sol_r = solve(eq_kappa_r, kappa_r)[1]\n",
    "#kappa_vacuum_sol = omega / c\n",
    "\n",
    "print(\"eq_kappa_l =\")\n",
    "display(Math(latex(eq_kappa_l)))\n",
    "print(\"eq_kappa_r =\")\n",
    "display(Math(latex(eq_kappa_r)))\n",
    "\n",
    "print(\"eq_kappa_inner_vacuum =\")\n",
    "display(Math(latex(eq_kappa_inner_vacuum)))"
   ]
  },
  {
   "cell_type": "code",
   "execution_count": 3,
   "metadata": {},
   "outputs": [
    {
     "name": "stdout",
     "output_type": "stream",
     "text": [
      "kappa_sol_l =\n"
     ]
    },
    {
     "data": {
      "text/latex": [
       "$\\displaystyle \\kappa_{l} = \\frac{\\sqrt{\\epsilon_{l} \\mu_{l} \\omega^{2} + 4 i \\, \\pi \\mu_{l} \\omega \\sigma_{l}}}{c}$"
      ],
      "text/plain": [
       "<IPython.core.display.Math object>"
      ]
     },
     "metadata": {},
     "output_type": "display_data"
    },
    {
     "name": "stdout",
     "output_type": "stream",
     "text": [
      "kappa_sol_r =\n"
     ]
    },
    {
     "data": {
      "text/latex": [
       "$\\displaystyle \\kappa_{r} = \\frac{\\sqrt{\\epsilon_{r} \\mu_{r} \\omega^{2} + 4 i \\, \\pi \\mu_{r} \\omega \\sigma_{r}}}{c}$"
      ],
      "text/plain": [
       "<IPython.core.display.Math object>"
      ]
     },
     "metadata": {},
     "output_type": "display_data"
    }
   ],
   "source": [
    "print(\"kappa_sol_l =\")\n",
    "display(Math(latex(kappa_sol_l)))\n",
    "print(\"kappa_sol_r =\")\n",
    "display(Math(latex(kappa_sol_r)))"
   ]
  },
  {
   "cell_type": "markdown",
   "metadata": {},
   "source": [
    "принимая модель комплексного представления диэлектрической проницаемости $\\epsilon' = \\epsilon + \\frac{4\\pi\\,\\sigma}{\\omega}\\,i$ (плохой проводник)"
   ]
  },
  {
   "cell_type": "code",
   "execution_count": 4,
   "metadata": {},
   "outputs": [],
   "source": [
    "if good_conductor:\n",
    "    epsilon_l_complex = + I * 4 * pi * sigma_l / omega\n",
    "    epsilon_r_complex = + I * 4 * pi * sigma_r / omega\n",
    "else:\n",
    "    epsilon_l_complex = epsilon_l + I * 4 * pi * sigma_l / omega\n",
    "    epsilon_r_complex = epsilon_r + I * 4 * pi * sigma_r / omega"
   ]
  },
  {
   "cell_type": "code",
   "execution_count": 5,
   "metadata": {},
   "outputs": [
    {
     "data": {
      "text/plain": [
       "(epsilon_l*mu_l*omega^2/c^2 + 4*I*pi*mu_l*omega*sigma_l/c^2,\n",
       " epsilon_l*mu_l*omega^2/c^2 + 4*I*pi*mu_l*omega*sigma_l/c^2)"
      ]
     },
     "execution_count": 5,
     "metadata": {},
     "output_type": "execute_result"
    }
   ],
   "source": [
    "tst_eq_l = (kappa_l == sqrt(epsilon_l_complex * mu_l) * omega/c).subs(kappa_sol_l)\n",
    "(tst_eq_l.lhs()^2).expand(), (tst_eq_l.rhs()^2).expand()"
   ]
  },
  {
   "cell_type": "code",
   "execution_count": 6,
   "metadata": {},
   "outputs": [
    {
     "data": {
      "text/plain": [
       "(epsilon_r*mu_r*omega^2/c^2 + 4*I*pi*mu_r*omega*sigma_r/c^2,\n",
       " epsilon_r*mu_r*omega^2/c^2 + 4*I*pi*mu_r*omega*sigma_r/c^2)"
      ]
     },
     "execution_count": 6,
     "metadata": {},
     "output_type": "execute_result"
    }
   ],
   "source": [
    "tst_eq_r = (kappa_r == sqrt(epsilon_r_complex * mu_r) * omega/c).subs(kappa_sol_r)\n",
    "(tst_eq_r.lhs()^2).expand(), (tst_eq_r.rhs()^2).expand()"
   ]
  },
  {
   "cell_type": "code",
   "execution_count": null,
   "metadata": {},
   "outputs": [],
   "source": []
  },
  {
   "cell_type": "markdown",
   "metadata": {},
   "source": [
    "приходим к\n",
    "\n",
    "$$\\frac{\\partial^{2}}{(\\partial {x})^{2}}\\vec{E}(x) + \\frac{\\partial^{2}}{(\\partial {y})^{2}}\\vec{E}(x) +  \\left(\\frac{\\mu \\omega^2}{c^2}\\epsilon + \\frac{\\mu \\omega^2}{c^2}\\frac{4\\pi\\,\\sigma}{\\omega}\\,i - {k'_z}^{2}\\right) = 0$$\n"
   ]
  },
  {
   "cell_type": "markdown",
   "metadata": {},
   "source": [
    "$${k'_z}^2=\\left(k_z + i\\,s_z \\right)^2 = k_z^2 - s_z^2 + 2\\,i\\,k_z\\,s_z$$"
   ]
  },
  {
   "cell_type": "markdown",
   "metadata": {},
   "source": []
  },
  {
   "cell_type": "code",
   "execution_count": 7,
   "metadata": {},
   "outputs": [],
   "source": [
    "#k__y_subs = k__y == 0 #ky + I * sy"
   ]
  },
  {
   "cell_type": "code",
   "execution_count": 8,
   "metadata": {},
   "outputs": [],
   "source": [
    "#k__z_subs = k__z == kz + I * sz"
   ]
  },
  {
   "cell_type": "code",
   "execution_count": null,
   "metadata": {},
   "outputs": [],
   "source": []
  },
  {
   "cell_type": "markdown",
   "metadata": {},
   "source": [
    "$$\\frac{\\partial^{2}}{(\\partial {x})^{2}}\\vec{E}(x) + \\frac{\\partial^{2}}{(\\partial {y})^{2}}\\vec{E}(x) + \\left(\\frac{\\mu \\epsilon \\omega^2}{c^2} - {k'_z}^2\\right)\\,\\vec{E}(x) - grad\\,div\\,\\vec{E} = 0$$"
   ]
  },
  {
   "cell_type": "markdown",
   "metadata": {},
   "source": [
    "зависимость поля от $y$ отсутствует"
   ]
  },
  {
   "cell_type": "markdown",
   "metadata": {},
   "source": [
    "$$\\frac{\\partial^{2}}{(\\partial {x})^{2}}\\vec{E}(x) + \\left(\\frac{\\mu \\epsilon \\omega^2}{c^2} - {k'_z}^2\\right)\\,\\vec{E}(x) - grad\\,div\\,\\vec{E} = 0$$"
   ]
  },
  {
   "cell_type": "code",
   "execution_count": 9,
   "metadata": {},
   "outputs": [
    {
     "name": "stdout",
     "output_type": "stream",
     "text": [
      "de_inner_vacuum =\n"
     ]
    },
    {
     "data": {
      "text/latex": [
       "$\\displaystyle -{\\left(k_{z}^{2} - \\kappa_{l}^{2}\\right)} E\\left(x\\right) + \\frac{\\partial^{2}}{(\\partial x)^{2}}E\\left(x\\right) = 0$"
      ],
      "text/plain": [
       "<IPython.core.display.Math object>"
      ]
     },
     "metadata": {},
     "output_type": "display_data"
    },
    {
     "data": {
      "text/latex": [
       "$\\displaystyle -{\\left(k_{z}^{2} - \\kappa_{r}^{2}\\right)} E\\left(x\\right) + \\frac{\\partial^{2}}{(\\partial x)^{2}}E\\left(x\\right) = 0$"
      ],
      "text/plain": [
       "<IPython.core.display.Math object>"
      ]
     },
     "metadata": {},
     "output_type": "display_data"
    }
   ],
   "source": [
    "# решаем полученные обыкновенные дифференциальные уравнения\n",
    "E = function('E')(x)\n",
    "\n",
    "\n",
    "de_inner_vacuum_l = diff (E, x, 2) + diff (E, y, 2) + (kappa_l^2 - k_z^2) * E == 0\n",
    "de_inner_vacuum_r = diff (E, x, 2) + diff (E, y, 2) + (kappa_r^2 - k_z^2) * E == 0\n",
    "# diff (E, y, 2) == 0\n",
    "de_inner_vacuum_l = diff (E, x, 2) + (kappa_l^2 - k_z^2) * E == 0\n",
    "de_inner_vacuum_r = diff (E, x, 2) + (kappa_r^2 - k_z^2) * E == 0\n",
    "# получая таким образом выражения для электрического поля в вакуума внутри резонатора и внутри проводящего металла с потерями\n",
    "print(\"de_inner_vacuum =\")\n",
    "display(Math(latex(de_inner_vacuum_l)))\n",
    "display(Math(latex(de_inner_vacuum_r)))"
   ]
  },
  {
   "cell_type": "code",
   "execution_count": 10,
   "metadata": {},
   "outputs": [
    {
     "name": "stdout",
     "output_type": "stream",
     "text": [
      "E_inner_vacuum =\n"
     ]
    },
    {
     "data": {
      "text/latex": [
       "$\\displaystyle K_{1} e^{\\left(i \\, \\sqrt{-k_{z}^{2} + \\kappa_{l}^{2}} x\\right)} + K_{2} e^{\\left(-i \\, \\sqrt{-k_{z}^{2} + \\kappa_{l}^{2}} x\\right)}$"
      ],
      "text/plain": [
       "<IPython.core.display.Math object>"
      ]
     },
     "metadata": {},
     "output_type": "display_data"
    },
    {
     "data": {
      "text/latex": [
       "$\\displaystyle K_{1} e^{\\left(i \\, \\sqrt{-k_{z}^{2} + \\kappa_{r}^{2}} x\\right)} + K_{2} e^{\\left(-i \\, \\sqrt{-k_{z}^{2} + \\kappa_{r}^{2}} x\\right)}$"
      ],
      "text/plain": [
       "<IPython.core.display.Math object>"
      ]
     },
     "metadata": {},
     "output_type": "display_data"
    }
   ],
   "source": [
    "assume(k_z^2-kappa_l^2 > 0)\n",
    "assume(k_z^2-kappa_r^2 > 0)\n",
    "\n",
    "E_inner_vacuum_l = desolve(de_inner_vacuum_l, E, ivar = x)\n",
    "E_inner_vacuum_r = desolve(de_inner_vacuum_r, E, ivar = x)\n",
    "#E_inner_vacuum = desolve(de_inner_vacuum, E, ivar = [x, y], contrib_ode = True)\n",
    "\n",
    "# получая таким образом выражения для электрического поля в вакуума внутри резонатора и внутри проводящего металла с потерями\n",
    "print(\"E_inner_vacuum =\")\n",
    "display(Math(latex(E_inner_vacuum_l)))\n",
    "display(Math(latex(E_inner_vacuum_r)))"
   ]
  },
  {
   "cell_type": "code",
   "execution_count": null,
   "metadata": {},
   "outputs": [],
   "source": []
  },
  {
   "cell_type": "code",
   "execution_count": 11,
   "metadata": {},
   "outputs": [],
   "source": [
    "B1_xl = var ('B1_xl')\n",
    "B2_xl = var ('B2_xl')\n",
    "\n",
    "B1_xr = var ('B1_xr')\n",
    "B2_xr = var ('B2_xr')\n",
    "\n",
    "\n",
    "A1_x = var ('A1_x')\n",
    "A2_x = var ('A2_x')\n",
    "\n",
    "\n",
    "B1_yl = var ('B1_yl')\n",
    "B2_yl = var ('B2_yl')\n",
    "\n",
    "B1_yr = var ('B1_yr')\n",
    "B2_yr = var ('B2_yr')\n",
    "\n",
    "A1_y = var ('A1_y')\n",
    "A2_y = var ('A2_y')\n",
    "\n",
    "\n",
    "B1_zl = var ('B1_zl')\n",
    "B2_zl = var ('B2_zl')\n",
    "\n",
    "B1_zr = var ('B1_zr')\n",
    "B2_zr = var ('B2_zr')\n",
    "\n",
    "A1_z = var ('A1_z')\n",
    "A2_z = var ('A2_z')\n",
    "\n",
    "A1_x_re, A1_y_re, A1_z_re = var(\"A1_x_re, A1_y_re, A1_z_re\")\n",
    "A1_x_im, A1_y_im, A1_z_im = var(\"A1_x_im, A1_y_im, A1_z_im\")\n",
    "\n",
    "A2_x_re, A2_y_re, A2_z_re = var(\"A2_x_re, A2_y_re, A2_z_re\")\n",
    "A2_x_im, A2_y_im, A2_z_im = var(\"A2_x_im, A2_y_im, A2_z_im\")\n",
    "\n",
    "B1_xl_re, B1_yl_re, B1_zl_re = var(\"B1_xl_re, B1_yl_re, B1_zl_re\")\n",
    "B1_xl_im, B1_yl_im, B1_zl_im = var(\"B1_xl_im, B1_yl_im, B1_zl_im\")\n",
    "\n",
    "B1_xr_re, B1_yr_re, B1_zr_re = var(\"B1_xr_re, B1_yr_re, B1_zr_re\")\n",
    "B1_xr_im, B1_yr_im, B1_zr_im = var(\"B1_xr_im, B1_yr_im, B1_zr_im\")\n",
    "\n",
    "\n",
    "assume(A1_x_re, \"real\")\n",
    "assume(A1_x_im, \"real\")\n",
    "\n",
    "assume(A2_x_re, \"real\")\n",
    "assume(A2_x_im, \"real\")\n",
    "\n",
    "assume(A1_y_re, \"real\")\n",
    "assume(A1_y_im, \"real\")\n",
    "\n",
    "assume(A2_y_re, \"real\")\n",
    "assume(A2_y_im, \"real\")\n",
    "\n",
    "assume(A1_z_re, \"real\")\n",
    "assume(A1_z_im, \"real\")\n",
    "\n",
    "assume(A2_z_re, \"real\")\n",
    "assume(A2_z_im, \"real\")\n",
    "\n",
    "\n",
    "assume(B1_xl_re, \"real\")\n",
    "assume(B1_xl_im, \"real\")\n",
    "\n",
    "assume(B1_xr_re, \"real\")\n",
    "assume(B1_xr_im, \"real\")\n",
    "\n",
    "assume(B1_yl_re, \"real\")\n",
    "assume(B1_yl_im, \"real\")\n",
    "\n",
    "assume(B1_yr_re, \"real\")\n",
    "assume(B1_yr_im, \"real\")\n",
    "\n",
    "assume(B1_zl_re, \"real\")\n",
    "assume(B1_zl_im, \"real\")\n",
    "\n",
    "assume(B1_zr_re, \"real\")\n",
    "assume(B1_zr_im, \"real\")"
   ]
  },
  {
   "cell_type": "code",
   "execution_count": 12,
   "metadata": {},
   "outputs": [],
   "source": [
    "A1_x_re_im_subs = A1_x == A1_x_re + I * A1_x_im\n",
    "A2_x_re_im_subs = A2_x == A2_x_re + I * A2_x_im\n",
    "\n",
    "A1_y_re_im_subs = A1_y == A1_y_re + I * A1_y_im\n",
    "A2_y_re_im_subs = A2_y == A2_y_re + I * A2_y_im\n",
    "\n",
    "A1_z_re_im_subs = A1_z == A1_z_re + I * A1_z_im\n",
    "A2_z_re_im_subs = A2_z == A2_z_re + I * A2_z_im\n",
    "\n",
    "B1_xl_re_im_subs = B1_xl == B1_xl_re + I * B1_xl_im\n",
    "B1_yl_re_im_subs = B1_yl == B1_yl_re + I * B1_yl_im\n",
    "B1_zl_re_im_subs = B1_zl == B1_zl_re + I * B1_zl_im\n",
    "\n",
    "B1_xr_re_im_subs = B1_xr == B1_xr_re + I * B1_xr_im\n",
    "B1_yr_re_im_subs = B1_yr == B1_yr_re + I * B1_yr_im\n",
    "B1_zr_re_im_subs = B1_zr == B1_zr_re + I * B1_zr_im"
   ]
  },
  {
   "cell_type": "code",
   "execution_count": 13,
   "metadata": {},
   "outputs": [],
   "source": [
    "coefs_re_im_subs = [A1_x == A1_x_re + I * A1_x_im,\n",
    "                    A2_x == A2_x_re + I * A2_x_im,\n",
    "                    A1_y == A1_y_re + I * A1_y_im,\n",
    "                    A2_y == A2_y_re + I * A2_y_im,\n",
    "                    A1_z == A1_z_re + I * A1_z_im,\n",
    "                    A2_z == A2_z_re + I * A2_z_im,\n",
    "                    B1_xl == B1_xl_re + I * B1_xl_im,\n",
    "                    B1_yl == B1_yl_re + I * B1_yl_im,\n",
    "                    B1_zl == B1_zl_re + I * B1_zl_im,\n",
    "                    B1_xr == B1_xr_re + I * B1_xr_im,\n",
    "                    B1_yr == B1_yr_re + I * B1_yr_im,\n",
    "                    B1_zr == B1_zr_re + I * B1_zr_im]"
   ]
  },
  {
   "cell_type": "code",
   "execution_count": 14,
   "metadata": {},
   "outputs": [],
   "source": [
    "# 2D\n",
    "# отсутсвие изменения поля вдоль оси y\n",
    "set_Ey_0 = False"
   ]
  },
  {
   "cell_type": "code",
   "execution_count": 15,
   "metadata": {},
   "outputs": [],
   "source": [
    "if set_Ey_0:\n",
    "    B1_yl = 0\n",
    "    B2_yl = 0\n",
    "    B1_yr = 0\n",
    "    B2_yr = 0\n",
    "\n",
    "    A1_y = 0\n",
    "    A2_y = 0\n",
    "\n",
    "    ky   = 0"
   ]
  },
  {
   "cell_type": "code",
   "execution_count": 16,
   "metadata": {},
   "outputs": [],
   "source": [
    "# K_vacuum = sqrt(kappa_vacuum^2-k_z^2)\n",
    "# K_conductor = sqrt(kappa^2-k_z^2)\n",
    "\n",
    "K_vacuum    = var(\"K_vacuum\")\n",
    "K_left_conductor = var(\"K_left_conductor\")\n",
    "K_right_conductor = var(\"K_right_conductor\")"
   ]
  },
  {
   "cell_type": "code",
   "execution_count": 17,
   "metadata": {},
   "outputs": [
    {
     "name": "stdout",
     "output_type": "stream",
     "text": [
      "E_inner_vacuum_sol_z (x) \n"
     ]
    },
    {
     "data": {
      "text/latex": [
       "$\\displaystyle \\mathit{A2}_{z} e^{\\left(i \\, K_{\\mathit{vacuum}} x\\right)} + \\mathit{A1}_{z} e^{\\left(-i \\, K_{\\mathit{vacuum}} x\\right)}$"
      ],
      "text/plain": [
       "<IPython.core.display.Math object>"
      ]
     },
     "metadata": {},
     "output_type": "display_data"
    },
    {
     "name": "stdout",
     "output_type": "stream",
     "text": [
      "E_inner_vacuum_sol_x (x) =\n"
     ]
    },
    {
     "data": {
      "text/latex": [
       "$\\displaystyle \\mathit{A2}_{x} e^{\\left(i \\, K_{\\mathit{vacuum}} x\\right)} + \\mathit{A1}_{x} e^{\\left(-i \\, K_{\\mathit{vacuum}} x\\right)}$"
      ],
      "text/plain": [
       "<IPython.core.display.Math object>"
      ]
     },
     "metadata": {},
     "output_type": "display_data"
    },
    {
     "name": "stdout",
     "output_type": "stream",
     "text": [
      "E_inner_vacuum_sol_y (x) =\n"
     ]
    },
    {
     "data": {
      "text/latex": [
       "$\\displaystyle \\mathit{A2}_{y} e^{\\left(i \\, K_{\\mathit{vacuum}} x\\right)} + \\mathit{A1}_{y} e^{\\left(-i \\, K_{\\mathit{vacuum}} x\\right)}$"
      ],
      "text/plain": [
       "<IPython.core.display.Math object>"
      ]
     },
     "metadata": {},
     "output_type": "display_data"
    }
   ],
   "source": [
    "# выражения для электрического поля\n",
    "# в вакууме внутри резонатора\n",
    "\n",
    "# знак перед корнем (K_vacuum) будем выбирать всегда так чтобы корень имел положительную мнимую часть\n",
    "E_inner_vacuum_sol_z (x) = A1_z*exp(- I * K_vacuum*x) + A2_z*exp( I * K_vacuum*x)\n",
    "E_inner_vacuum_sol_x (x) = A1_x*exp(- I * K_vacuum*x) + A2_x*exp( I * K_vacuum*x)\n",
    "E_inner_vacuum_sol_y (x) = A1_y*exp(- I * K_vacuum*x) + A2_y*exp( I * K_vacuum*x)\n",
    "\n",
    "E_inner_vacuum_z = function(\"E_inner_vacuum_z\")\n",
    "E_inner_vacuum_x = function(\"E_inner_vacuum_x\")\n",
    "E_inner_vacuum_y = function(\"E_inner_vacuum_y\")\n",
    "\n",
    "\n",
    "print (\"E_inner_vacuum_sol_z (x) \")\n",
    "display(Math(latex(E_inner_vacuum_sol_z (x))))\n",
    "print (\"E_inner_vacuum_sol_x (x) =\")\n",
    "display(Math(latex(E_inner_vacuum_sol_x (x))))\n",
    "print (\"E_inner_vacuum_sol_y (x) =\")\n",
    "display(Math(latex(E_inner_vacuum_sol_y (x))))"
   ]
  },
  {
   "cell_type": "markdown",
   "metadata": {},
   "source": [
    "решение для проводящего металла с потерями\n",
    "\n",
    "$\\vec{E} = \\vec{E}\\,e^{i\\,k_x'\\,x}\\,e^{i\\,k_z\\,z}\\,e^{-i\\,\\omega\\,t}$\n",
    "\n",
    "$k_x' = k_x + i\\,s_x$\n",
    "\n",
    "$\\vec{E} = \\vec{E}\\,e^{-s_x\\,x}\\,e^{i\\,k_x\\,x}\\,e^{i\\,k_z\\,z}\\,e^{-i\\,\\omega\\,t}$"
   ]
  },
  {
   "cell_type": "code",
   "execution_count": 18,
   "metadata": {},
   "outputs": [
    {
     "name": "stdout",
     "output_type": "stream",
     "text": [
      "E_left_conductor_sol_z (x) \n"
     ]
    },
    {
     "data": {
      "text/latex": [
       "$\\displaystyle \\mathit{B1}_{\\mathit{zl}} e^{\\left(-i \\, K_{\\mathit{left}_{\\mathit{conductor}}} {\\left(a + x\\right)}\\right)}$"
      ],
      "text/plain": [
       "<IPython.core.display.Math object>"
      ]
     },
     "metadata": {},
     "output_type": "display_data"
    },
    {
     "name": "stdout",
     "output_type": "stream",
     "text": [
      "E_left_conductor_sol_x (x) =\n"
     ]
    },
    {
     "data": {
      "text/latex": [
       "$\\displaystyle \\mathit{B1}_{\\mathit{xl}} e^{\\left(-i \\, K_{\\mathit{left}_{\\mathit{conductor}}} {\\left(a + x\\right)}\\right)}$"
      ],
      "text/plain": [
       "<IPython.core.display.Math object>"
      ]
     },
     "metadata": {},
     "output_type": "display_data"
    },
    {
     "name": "stdout",
     "output_type": "stream",
     "text": [
      "E_left_conductor_sol_y (x) =\n"
     ]
    },
    {
     "data": {
      "text/latex": [
       "$\\displaystyle \\mathit{B1}_{\\mathit{yl}} e^{\\left(-i \\, K_{\\mathit{left}_{\\mathit{conductor}}} {\\left(a + x\\right)}\\right)}$"
      ],
      "text/plain": [
       "<IPython.core.display.Math object>"
      ]
     },
     "metadata": {},
     "output_type": "display_data"
    }
   ],
   "source": [
    "# x > a-{k'_x}^{2}-{k'_y}^{2} +\n",
    "# в проводящем металле с потерями\n",
    "\n",
    "# знак перед корнем будем выбирать всегда так чтобы корень имел положительную мнимую часть\n",
    "E_left_conductor_sol_z (x) = B1_zl*exp(-I * K_left_conductor*(x+a))\n",
    "E_left_conductor_sol_x (x) = B1_xl*exp(-I * K_left_conductor*(x+a))\n",
    "E_left_conductor_sol_y (x) = B1_yl*exp(-I * K_left_conductor*(x+a))\n",
    "\n",
    "E_left_conductor_z = function(\"E_left_conductor_z\")\n",
    "E_left_conductor_x = function(\"E_left_conductor_x\")\n",
    "E_left_conductor_y = function(\"E_left_conductor_y\")\n",
    "\n",
    "\n",
    "print (\"E_left_conductor_sol_z (x) \")\n",
    "display(Math(latex(E_left_conductor_sol_z (x))))\n",
    "print (\"E_left_conductor_sol_x (x) =\")\n",
    "display(Math(latex(E_left_conductor_sol_x (x))))\n",
    "print (\"E_left_conductor_sol_y (x) =\")\n",
    "display(Math(latex(E_left_conductor_sol_y (x))))"
   ]
  },
  {
   "cell_type": "code",
   "execution_count": 19,
   "metadata": {},
   "outputs": [
    {
     "name": "stdout",
     "output_type": "stream",
     "text": [
      "E_right_conductor_sol_z (x) \n"
     ]
    },
    {
     "data": {
      "text/latex": [
       "$\\displaystyle \\mathit{B1}_{\\mathit{zr}} e^{\\left(-i \\, K_{\\mathit{right}_{\\mathit{conductor}}} {\\left(a - x\\right)}\\right)}$"
      ],
      "text/plain": [
       "<IPython.core.display.Math object>"
      ]
     },
     "metadata": {},
     "output_type": "display_data"
    },
    {
     "name": "stdout",
     "output_type": "stream",
     "text": [
      "E_right_conductor_sol_x (x) =\n"
     ]
    },
    {
     "data": {
      "text/latex": [
       "$\\displaystyle \\mathit{B1}_{\\mathit{xr}} e^{\\left(-i \\, K_{\\mathit{right}_{\\mathit{conductor}}} {\\left(a - x\\right)}\\right)}$"
      ],
      "text/plain": [
       "<IPython.core.display.Math object>"
      ]
     },
     "metadata": {},
     "output_type": "display_data"
    },
    {
     "name": "stdout",
     "output_type": "stream",
     "text": [
      "E_right_conductor_sol_y (x) =\n"
     ]
    },
    {
     "data": {
      "text/latex": [
       "$\\displaystyle \\mathit{B1}_{\\mathit{yr}} e^{\\left(-i \\, K_{\\mathit{right}_{\\mathit{conductor}}} {\\left(a - x\\right)}\\right)}$"
      ],
      "text/plain": [
       "<IPython.core.display.Math object>"
      ]
     },
     "metadata": {},
     "output_type": "display_data"
    }
   ],
   "source": [
    "# x > a-{k'_x}^{2}-{k'_y}^{2} +\n",
    "# в проводящем металле с потерями\n",
    "\n",
    "# знак перед корнем будем выбирать всегда так чтобы корень имел положительную мнимую часть\n",
    "E_right_conductor_sol_z (x) = B1_zr*exp(+I * K_right_conductor*(x-a))\n",
    "E_right_conductor_sol_x (x) = B1_xr*exp(+I * K_right_conductor*(x-a))\n",
    "E_right_conductor_sol_y (x) = B1_yr*exp(+I * K_right_conductor*(x-a))\n",
    "\n",
    "E_right_conductor_z = function(\"E_right_conductor_z\")\n",
    "E_right_conductor_x = function(\"E_right_conductor_x\")\n",
    "E_right_conductor_y = function(\"E_right_conductor_y\")\n",
    "\n",
    "\n",
    "print (\"E_right_conductor_sol_z (x) \")\n",
    "display(Math(latex(E_right_conductor_sol_z (x))))\n",
    "print (\"E_right_conductor_sol_x (x) =\")\n",
    "display(Math(latex(E_right_conductor_sol_x (x))))\n",
    "print (\"E_right_conductor_sol_y (x) =\")\n",
    "display(Math(latex(E_right_conductor_sol_y (x))))"
   ]
  },
  {
   "cell_type": "code",
   "execution_count": 20,
   "metadata": {},
   "outputs": [
    {
     "name": "stdout",
     "output_type": "stream",
     "text": [
      "H_inner_vacuum_s_y \n"
     ]
    },
    {
     "data": {
      "text/latex": [
       "$\\displaystyle x \\ {\\mapsto}\\ -\\frac{i \\, {\\left(i \\, k_{z} E_{{\\rm inner}_{{\\rm vacuum}_{x}}}\\left(x\\right) - \\frac{\\partial}{\\partial x}E_{{\\rm inner}_{{\\rm vacuum}_{z}}}\\left(x\\right)\\right)} c}{\\omega}$"
      ],
      "text/plain": [
       "<IPython.core.display.Math object>"
      ]
     },
     "metadata": {},
     "output_type": "display_data"
    },
    {
     "name": "stdout",
     "output_type": "stream",
     "text": [
      "H_left_conductor_s_y =\n"
     ]
    },
    {
     "data": {
      "text/latex": [
       "$\\displaystyle x \\ {\\mapsto}\\ -\\frac{i \\, {\\left(i \\, k_{z} E_{{\\rm left}_{{\\rm conductor}_{x}}}\\left(x\\right) - \\frac{\\partial}{\\partial x}E_{{\\rm left}_{{\\rm conductor}_{z}}}\\left(x\\right)\\right)} c}{\\mu_{l} \\omega}$"
      ],
      "text/plain": [
       "<IPython.core.display.Math object>"
      ]
     },
     "metadata": {},
     "output_type": "display_data"
    },
    {
     "name": "stdout",
     "output_type": "stream",
     "text": [
      "H_right_conductor_s_y =\n"
     ]
    },
    {
     "data": {
      "text/latex": [
       "$\\displaystyle x \\ {\\mapsto}\\ -\\frac{i \\, {\\left(i \\, k_{z} E_{{\\rm right}_{{\\rm conductor}_{x}}}\\left(x\\right) - \\frac{\\partial}{\\partial x}E_{{\\rm right}_{{\\rm conductor}_{z}}}\\left(x\\right)\\right)} c}{\\mu_{r} \\omega}$"
      ],
      "text/plain": [
       "<IPython.core.display.Math object>"
      ]
     },
     "metadata": {},
     "output_type": "display_data"
    },
    {
     "name": "stdout",
     "output_type": "stream",
     "text": [
      "H_inner_vacuum_sol_y (x) \n"
     ]
    },
    {
     "data": {
      "text/latex": [
       "$\\displaystyle -\\frac{i \\, {\\left(-i \\, \\mathit{A2}_{z} K_{\\mathit{vacuum}} e^{\\left(i \\, K_{\\mathit{vacuum}} x\\right)} + i \\, \\mathit{A1}_{z} K_{\\mathit{vacuum}} e^{\\left(-i \\, K_{\\mathit{vacuum}} x\\right)} + i \\, {\\left(\\mathit{A2}_{x} e^{\\left(i \\, K_{\\mathit{vacuum}} x\\right)} + \\mathit{A1}_{x} e^{\\left(-i \\, K_{\\mathit{vacuum}} x\\right)}\\right)} k_{z}\\right)} c}{\\omega}$"
      ],
      "text/plain": [
       "<IPython.core.display.Math object>"
      ]
     },
     "metadata": {},
     "output_type": "display_data"
    },
    {
     "name": "stdout",
     "output_type": "stream",
     "text": [
      "H_left_conductor_sol_y (x) =\n"
     ]
    },
    {
     "data": {
      "text/latex": [
       "$\\displaystyle -\\frac{i \\, {\\left(i \\, \\mathit{B1}_{\\mathit{zl}} K_{\\mathit{left}_{\\mathit{conductor}}} e^{\\left(-i \\, K_{\\mathit{left}_{\\mathit{conductor}}} {\\left(a + x\\right)}\\right)} + i \\, \\mathit{B1}_{\\mathit{xl}} k_{z} e^{\\left(-i \\, K_{\\mathit{left}_{\\mathit{conductor}}} {\\left(a + x\\right)}\\right)}\\right)} c}{\\mu_{l} \\omega}$"
      ],
      "text/plain": [
       "<IPython.core.display.Math object>"
      ]
     },
     "metadata": {},
     "output_type": "display_data"
    },
    {
     "name": "stdout",
     "output_type": "stream",
     "text": [
      "H_right_conductor_sol_y (x) =\n"
     ]
    },
    {
     "data": {
      "text/latex": [
       "$\\displaystyle -\\frac{i \\, {\\left(-i \\, \\mathit{B1}_{\\mathit{zr}} K_{\\mathit{right}_{\\mathit{conductor}}} e^{\\left(-i \\, K_{\\mathit{right}_{\\mathit{conductor}}} {\\left(a - x\\right)}\\right)} + i \\, \\mathit{B1}_{\\mathit{xr}} k_{z} e^{\\left(-i \\, K_{\\mathit{right}_{\\mathit{conductor}}} {\\left(a - x\\right)}\\right)}\\right)} c}{\\mu_{r} \\omega}$"
      ],
      "text/plain": [
       "<IPython.core.display.Math object>"
      ]
     },
     "metadata": {},
     "output_type": "display_data"
    }
   ],
   "source": [
    "# выражения для магнитного поля в вакууме внутри резонатора и в проводящем металле с потерями\n",
    "# rot E = -1/c dB/dt\n",
    "# H_y = c / (I * omega * mu) * (diff(E_x, z) - diff(E_z, x))\n",
    "\n",
    "# H_inner_vacuum_y  (x) = c / (I * omega)      * (I*k_z*E_inner_vacuum_x  (x) - diff(E_inner_vacuum_z  (x), x))\n",
    "# H_bad_conductor_y (x) = c / (I * omega * mu) * (I*k_z*E_bad_conductor_x (x) - diff(E_bad_conductor_z (x), x))\n",
    "\n",
    "H_inner_vacuum_y    = c/(I*omega)     *(I*k_z*E_inner_vacuum_x (x)   - diff(E_inner_vacuum_z (x), x))\n",
    "H_left_conductor_y  = c/(I*omega*mu_l)*(I*k_z*E_left_conductor_x(x)  - diff(E_left_conductor_z(x), x))\n",
    "H_right_conductor_y = c/(I*omega*mu_r)*(I*k_z*E_right_conductor_x(x) - diff(E_right_conductor_z(x), x))\n",
    "\n",
    "H_inner_vacuum_f_y    = function(\"H_inner_vacuum_f_y\")\n",
    "H_left_conductor_f_y  = function(\"H_left_conductor_f_y\")\n",
    "H_right_conductor_f_y = function(\"H_right_conductor_f_y\")\n",
    "\n",
    "H_inner_vacuum_y    = var(\"H_inner_vacuum_y\")\n",
    "H_left_conductor_y  = var(\"H_left_conductor_y\")\n",
    "H_right_conductor_y = var(\"H_right_conductor_y\")\n",
    "\n",
    "H_inner_vacuum_s_y  (x)   = c/(I*omega)     *(I*k_z*E_inner_vacuum_x (x) - diff(E_inner_vacuum_z (x), x))\n",
    "H_left_conductor_s_y (x)  = c/(I*omega*mu_l)*(I*k_z*E_left_conductor_x(x) - diff(E_left_conductor_z(x), x))\n",
    "H_right_conductor_s_y (x) = c/(I*omega*mu_r)*(I*k_z*E_right_conductor_x(x) - diff(E_right_conductor_z(x), x))\n",
    "\n",
    "H_inner_vacuum_sol_y  (x)   = c/(I*omega)     *(I*k_z*E_inner_vacuum_sol_x (x) - diff(E_inner_vacuum_sol_z (x), x))\n",
    "H_left_conductor_sol_y (x)  = c/(I*omega*mu_l)*(I*k_z*E_left_conductor_sol_x(x) - diff(E_left_conductor_sol_z(x), x))\n",
    "H_right_conductor_sol_y (x) = c/(I*omega*mu_r)*(I*k_z*E_right_conductor_sol_x(x) - diff(E_right_conductor_sol_z(x), x))\n",
    "\n",
    "print (\"H_inner_vacuum_s_y \")\n",
    "display(Math(latex(H_inner_vacuum_s_y.simplify())))\n",
    "print (\"H_left_conductor_s_y =\")\n",
    "display(Math(latex(H_left_conductor_s_y)))\n",
    "print (\"H_right_conductor_s_y =\")\n",
    "display(Math(latex(H_right_conductor_s_y)))\n",
    "\n",
    "print (\"H_inner_vacuum_sol_y (x) \")\n",
    "display(Math(latex(H_inner_vacuum_sol_y (x).simplify())))\n",
    "print (\"H_left_conductor_sol_y (x) =\")\n",
    "display(Math(latex(H_left_conductor_sol_y (x))))\n",
    "print (\"H_right_conductor_sol_y (x) =\")\n",
    "display(Math(latex(H_right_conductor_sol_y (x))))"
   ]
  },
  {
   "cell_type": "code",
   "execution_count": 21,
   "metadata": {},
   "outputs": [
    {
     "name": "stdout",
     "output_type": "stream",
     "text": [
      "H_inner_vacuum_s_x \n"
     ]
    },
    {
     "data": {
      "text/latex": [
       "$\\displaystyle x \\ {\\mapsto}\\ -\\frac{i \\, {\\left(-i \\, k_{z} E_{{\\rm inner}_{{\\rm vacuum}_{y}}}\\left(x\\right) + i \\, k_{y} E_{{\\rm inner}_{{\\rm vacuum}_{z}}}\\left(x\\right)\\right)} c}{\\omega}$"
      ],
      "text/plain": [
       "<IPython.core.display.Math object>"
      ]
     },
     "metadata": {},
     "output_type": "display_data"
    },
    {
     "name": "stdout",
     "output_type": "stream",
     "text": [
      "H_left_conductor_s_x (x) =\n"
     ]
    },
    {
     "data": {
      "text/latex": [
       "$\\displaystyle x \\ {\\mapsto}\\ -\\frac{i \\, {\\left(-i \\, k_{z} E_{{\\rm left}_{{\\rm conductor}_{y}}}\\left(x\\right) + i \\, k_{y} E_{{\\rm left}_{{\\rm conductor}_{z}}}\\left(x\\right)\\right)} c}{\\mu_{l} \\omega}$"
      ],
      "text/plain": [
       "<IPython.core.display.Math object>"
      ]
     },
     "metadata": {},
     "output_type": "display_data"
    },
    {
     "name": "stdout",
     "output_type": "stream",
     "text": [
      "H_right_conductor_s_x (x) =\n"
     ]
    },
    {
     "data": {
      "text/latex": [
       "$\\displaystyle x \\ {\\mapsto}\\ -\\frac{i \\, {\\left(-i \\, k_{z} E_{{\\rm right}_{{\\rm conductor}_{y}}}\\left(x\\right) + i \\, k_{y} E_{{\\rm right}_{{\\rm conductor}_{z}}}\\left(x\\right)\\right)} c}{\\mu_{r} \\omega}$"
      ],
      "text/plain": [
       "<IPython.core.display.Math object>"
      ]
     },
     "metadata": {},
     "output_type": "display_data"
    },
    {
     "name": "stdout",
     "output_type": "stream",
     "text": [
      "H_inner_vacuum_sol_x (x) \n"
     ]
    },
    {
     "data": {
      "text/latex": [
       "$\\displaystyle -\\frac{i \\, {\\left(i \\, {\\left(\\mathit{A2}_{z} e^{\\left(i \\, K_{\\mathit{vacuum}} x\\right)} + \\mathit{A1}_{z} e^{\\left(-i \\, K_{\\mathit{vacuum}} x\\right)}\\right)} k_{y} - i \\, {\\left(\\mathit{A2}_{y} e^{\\left(i \\, K_{\\mathit{vacuum}} x\\right)} + \\mathit{A1}_{y} e^{\\left(-i \\, K_{\\mathit{vacuum}} x\\right)}\\right)} k_{z}\\right)} c}{\\omega}$"
      ],
      "text/plain": [
       "<IPython.core.display.Math object>"
      ]
     },
     "metadata": {},
     "output_type": "display_data"
    },
    {
     "name": "stdout",
     "output_type": "stream",
     "text": [
      "H_left_conductor_sol_x (x) =\n"
     ]
    },
    {
     "data": {
      "text/latex": [
       "$\\displaystyle -\\frac{i \\, {\\left(i \\, \\mathit{B1}_{\\mathit{zl}} k_{y} e^{\\left(-i \\, K_{\\mathit{left}_{\\mathit{conductor}}} {\\left(a + x\\right)}\\right)} - i \\, \\mathit{B1}_{\\mathit{yl}} k_{z} e^{\\left(-i \\, K_{\\mathit{left}_{\\mathit{conductor}}} {\\left(a + x\\right)}\\right)}\\right)} c}{\\mu_{l} \\omega}$"
      ],
      "text/plain": [
       "<IPython.core.display.Math object>"
      ]
     },
     "metadata": {},
     "output_type": "display_data"
    },
    {
     "name": "stdout",
     "output_type": "stream",
     "text": [
      "H_right_conductor_sol_x (x) =\n"
     ]
    },
    {
     "data": {
      "text/latex": [
       "$\\displaystyle -\\frac{i \\, {\\left(i \\, \\mathit{B1}_{\\mathit{zr}} k_{y} e^{\\left(-i \\, K_{\\mathit{right}_{\\mathit{conductor}}} {\\left(a - x\\right)}\\right)} - i \\, \\mathit{B1}_{\\mathit{yr}} k_{z} e^{\\left(-i \\, K_{\\mathit{right}_{\\mathit{conductor}}} {\\left(a - x\\right)}\\right)}\\right)} c}{\\mu_{r} \\omega}$"
      ],
      "text/plain": [
       "<IPython.core.display.Math object>"
      ]
     },
     "metadata": {},
     "output_type": "display_data"
    }
   ],
   "source": [
    "# выражения для магнитного поля в вакууме внутри резонатора и в проводящем металле с потерями\n",
    "# rot E = -1/c dB/dt\n",
    "# H_x = c / (I * omega * mu) * (diff(E_z, y) - diff(E_y, z))\n",
    "\n",
    "H_inner_vacuum_f_x  = function(\"H_inner_vacuum_f_x\")\n",
    "H_left_conductor_f_x = function(\"H_left_conductor_f_x\")\n",
    "H_right_conductor_f_x = function(\"H_right_conductor_f_x\")\n",
    "\n",
    "H_inner_vacuum_x    = var(\"H_inner_vacuum_x\")\n",
    "H_left_conductor_x  = var(\"H_left_conductor_x\")\n",
    "H_right_conductor_x = var(\"H_right_conductor_x\")\n",
    "\n",
    "H_inner_vacuum_s_x(x)    = c/(I*omega)   *(I*k_y*E_inner_vacuum_z (x) - I*k_z*E_inner_vacuum_y (x))\n",
    "H_left_conductor_s_x(x)  = c/(I*omega*mu_l)*(I*k_y*E_left_conductor_z(x) - I*k_z*E_left_conductor_y(x))\n",
    "H_right_conductor_s_x(x) = c/(I*omega*mu_r)*(I*k_y*E_right_conductor_z(x) - I*k_z*E_right_conductor_y(x))\n",
    "\n",
    "H_inner_vacuum_sol_x (x)   = c/(I*omega)   *(I*k_y*E_inner_vacuum_sol_z (x) - I*k_z*E_inner_vacuum_sol_y (x))\n",
    "H_left_conductor_sol_x(x)  = c/(I*omega*mu_l)*(I*k_y*E_left_conductor_sol_z(x) - I*k_z*E_left_conductor_sol_y(x))\n",
    "H_right_conductor_sol_x(x) = c/(I*omega*mu_r)*(I*k_y*E_right_conductor_sol_z(x) - I*k_z*E_right_conductor_sol_y(x))\n",
    "\n",
    "print (\"H_inner_vacuum_s_x \")\n",
    "display(Math(latex(H_inner_vacuum_s_x.simplify())))\n",
    "print (\"H_left_conductor_s_x (x) =\")\n",
    "display(Math(latex(H_left_conductor_s_x)))\n",
    "print (\"H_right_conductor_s_x (x) =\")\n",
    "display(Math(latex(H_right_conductor_s_x)))\n",
    "\n",
    "print (\"H_inner_vacuum_sol_x (x) \")\n",
    "display(Math(latex(H_inner_vacuum_sol_x (x).simplify())))\n",
    "print (\"H_left_conductor_sol_x (x) =\")\n",
    "display(Math(latex(H_left_conductor_sol_x (x))))\n",
    "print (\"H_right_conductor_sol_x (x) =\")\n",
    "display(Math(latex(H_right_conductor_sol_x (x))))"
   ]
  },
  {
   "cell_type": "code",
   "execution_count": 22,
   "metadata": {},
   "outputs": [
    {
     "name": "stdout",
     "output_type": "stream",
     "text": [
      "H_inner_vacuum_s_z \n"
     ]
    },
    {
     "data": {
      "text/latex": [
       "$\\displaystyle x \\ {\\mapsto}\\ -\\frac{i \\, {\\left(-i \\, k_{y} E_{{\\rm inner}_{{\\rm vacuum}_{x}}}\\left(x\\right) + \\frac{\\partial}{\\partial x}E_{{\\rm inner}_{{\\rm vacuum}_{y}}}\\left(x\\right)\\right)} c}{\\omega}$"
      ],
      "text/plain": [
       "<IPython.core.display.Math object>"
      ]
     },
     "metadata": {},
     "output_type": "display_data"
    },
    {
     "name": "stdout",
     "output_type": "stream",
     "text": [
      "H_left_conductor_s_z =\n"
     ]
    },
    {
     "data": {
      "text/latex": [
       "$\\displaystyle x \\ {\\mapsto}\\ -\\frac{i \\, {\\left(-i \\, k_{y} E_{{\\rm left}_{{\\rm conductor}_{x}}}\\left(x\\right) + \\frac{\\partial}{\\partial x}E_{{\\rm left}_{{\\rm conductor}_{y}}}\\left(x\\right)\\right)} c}{\\mu_{l} \\omega}$"
      ],
      "text/plain": [
       "<IPython.core.display.Math object>"
      ]
     },
     "metadata": {},
     "output_type": "display_data"
    },
    {
     "name": "stdout",
     "output_type": "stream",
     "text": [
      "H_right_conductor_s_z =\n"
     ]
    },
    {
     "data": {
      "text/latex": [
       "$\\displaystyle x \\ {\\mapsto}\\ -\\frac{i \\, {\\left(-i \\, k_{y} E_{{\\rm right}_{{\\rm conductor}_{x}}}\\left(x\\right) + \\frac{\\partial}{\\partial x}E_{{\\rm right}_{{\\rm conductor}_{y}}}\\left(x\\right)\\right)} c}{\\mu_{r} \\omega}$"
      ],
      "text/plain": [
       "<IPython.core.display.Math object>"
      ]
     },
     "metadata": {},
     "output_type": "display_data"
    },
    {
     "name": "stdout",
     "output_type": "stream",
     "text": [
      "H_inner_vacuum_sol_z (x) \n"
     ]
    },
    {
     "data": {
      "text/latex": [
       "$\\displaystyle -\\frac{i \\, {\\left(i \\, \\mathit{A2}_{y} K_{\\mathit{vacuum}} e^{\\left(i \\, K_{\\mathit{vacuum}} x\\right)} - i \\, \\mathit{A1}_{y} K_{\\mathit{vacuum}} e^{\\left(-i \\, K_{\\mathit{vacuum}} x\\right)} - i \\, {\\left(\\mathit{A2}_{x} e^{\\left(i \\, K_{\\mathit{vacuum}} x\\right)} + \\mathit{A1}_{x} e^{\\left(-i \\, K_{\\mathit{vacuum}} x\\right)}\\right)} k_{y}\\right)} c}{\\omega}$"
      ],
      "text/plain": [
       "<IPython.core.display.Math object>"
      ]
     },
     "metadata": {},
     "output_type": "display_data"
    },
    {
     "name": "stdout",
     "output_type": "stream",
     "text": [
      "H_left_conductor_sol_z (x) =\n"
     ]
    },
    {
     "data": {
      "text/latex": [
       "$\\displaystyle -\\frac{i \\, {\\left(-i \\, \\mathit{B1}_{\\mathit{yl}} K_{\\mathit{left}_{\\mathit{conductor}}} e^{\\left(-i \\, K_{\\mathit{left}_{\\mathit{conductor}}} {\\left(a + x\\right)}\\right)} - i \\, \\mathit{B1}_{\\mathit{xl}} k_{y} e^{\\left(-i \\, K_{\\mathit{left}_{\\mathit{conductor}}} {\\left(a + x\\right)}\\right)}\\right)} c}{\\mu_{l} \\omega}$"
      ],
      "text/plain": [
       "<IPython.core.display.Math object>"
      ]
     },
     "metadata": {},
     "output_type": "display_data"
    },
    {
     "name": "stdout",
     "output_type": "stream",
     "text": [
      "H_right_conductor_sol_z (x) =\n"
     ]
    },
    {
     "data": {
      "text/latex": [
       "$\\displaystyle -\\frac{i \\, {\\left(i \\, \\mathit{B1}_{\\mathit{yr}} K_{\\mathit{right}_{\\mathit{conductor}}} e^{\\left(-i \\, K_{\\mathit{right}_{\\mathit{conductor}}} {\\left(a - x\\right)}\\right)} - i \\, \\mathit{B1}_{\\mathit{xr}} k_{y} e^{\\left(-i \\, K_{\\mathit{right}_{\\mathit{conductor}}} {\\left(a - x\\right)}\\right)}\\right)} c}{\\mu_{r} \\omega}$"
      ],
      "text/plain": [
       "<IPython.core.display.Math object>"
      ]
     },
     "metadata": {},
     "output_type": "display_data"
    }
   ],
   "source": [
    "# выражения для магнитного поля в вакууме внутри резонатора и в проводящем металле с потерями\n",
    "# rot E = -1/c dB/dt\n",
    "# H_z = c / (I * omega * mu) * (diff(E_y, x) - diff(E_x, y))\n",
    "\n",
    "H_inner_vacuum_z    = c / (I*omega)   *(diff(E_inner_vacuum_y (x), x) - I*k_y*E_inner_vacuum_x (x))\n",
    "H_left_conductor_z  = c / (I*omega*mu_l)*(diff(E_left_conductor_y(x), x) - I*k_y*E_left_conductor_x(x))\n",
    "H_right_conductor_z = c / (I*omega*mu_r)*(diff(E_right_conductor_y(x), x) - I*k_y*E_right_conductor_x(x))\n",
    "\n",
    "H_inner_vacuum_f_z    = function(\"H_inner_vacuum_f_z\")\n",
    "H_left_conductor_f_z  = function(\"H_left_conductor_f_z\")\n",
    "H_right_conductor_f_z = function(\"H_right_conductor_f_z\")\n",
    "\n",
    "H_inner_vacuum_z    = var(\"H_inner_vacuum_z\")\n",
    "H_left_conductor_z  = var(\"H_left_conductor_z\")\n",
    "H_right_conductor_z = var(\"H_right_conductor_z\")\n",
    "\n",
    "H_inner_vacuum_s_z(x)    = c / (I*omega)   * (diff(E_inner_vacuum_y (x), x) - I*k_y*E_inner_vacuum_x (x))\n",
    "H_left_conductor_s_z(x)  = c / (I*omega*mu_l)*(diff(E_left_conductor_y(x), x) - I*k_y*E_left_conductor_x(x))\n",
    "H_right_conductor_s_z(x) = c / (I*omega*mu_r)*(diff(E_right_conductor_y(x), x) - I*k_y*E_right_conductor_x(x))\n",
    "\n",
    "H_inner_vacuum_sol_z  (x) = c / (I*omega)   *(diff(E_inner_vacuum_sol_y (x), x) - I*k_y*E_inner_vacuum_sol_x (x))\n",
    "H_left_conductor_sol_z (x) = c / (I*omega*mu_l)*(diff(E_left_conductor_sol_y(x), x) - I*k_y*E_left_conductor_sol_x(x))\n",
    "H_right_conductor_sol_z (x) = c / (I*omega*mu_r)*(diff(E_right_conductor_sol_y(x), x) - I*k_y*E_right_conductor_sol_x(x))\n",
    "\n",
    "print (\"H_inner_vacuum_s_z \")\n",
    "display(Math(latex(H_inner_vacuum_s_z.simplify())))\n",
    "print (\"H_left_conductor_s_z =\")\n",
    "display(Math(latex(H_left_conductor_s_z)))\n",
    "print (\"H_right_conductor_s_z =\")\n",
    "display(Math(latex(H_right_conductor_s_z)))\n",
    "\n",
    "print (\"H_inner_vacuum_sol_z (x) \")\n",
    "display(Math(latex(H_inner_vacuum_sol_z (x))))\n",
    "print (\"H_left_conductor_sol_z (x) =\")\n",
    "display(Math(latex(H_left_conductor_sol_z (x))))\n",
    "print (\"H_right_conductor_sol_z (x) =\")\n",
    "display(Math(latex(H_right_conductor_sol_z (x))))"
   ]
  },
  {
   "cell_type": "code",
   "execution_count": 23,
   "metadata": {},
   "outputs": [
    {
     "name": "stdout",
     "output_type": "stream",
     "text": [
      "rot_H_inner_vacuum_x =\n"
     ]
    },
    {
     "data": {
      "text/latex": [
       "$\\displaystyle -i \\, k_{z} H_{{\\rm inner}_{{\\rm vacuum}_{f_{y}}}}\\left(x\\right) + i \\, k_{y} H_{{\\rm inner}_{{\\rm vacuum}_{f_{z}}}}\\left(x\\right)$"
      ],
      "text/plain": [
       "<IPython.core.display.Math object>"
      ]
     },
     "metadata": {},
     "output_type": "display_data"
    },
    {
     "name": "stdout",
     "output_type": "stream",
     "text": [
      "rot_H_left_conductor_x =\n"
     ]
    },
    {
     "data": {
      "text/latex": [
       "$\\displaystyle -i \\, k_{z} H_{{\\rm left}_{{\\rm conductor}_{f_{y}}}}\\left(x\\right) + i \\, k_{y} H_{{\\rm left}_{{\\rm conductor}_{f_{z}}}}\\left(x\\right)$"
      ],
      "text/plain": [
       "<IPython.core.display.Math object>"
      ]
     },
     "metadata": {},
     "output_type": "display_data"
    },
    {
     "name": "stdout",
     "output_type": "stream",
     "text": [
      "rot_H_right_conductor_x =\n"
     ]
    },
    {
     "data": {
      "text/latex": [
       "$\\displaystyle -i \\, k_{z} H_{{\\rm right}_{{\\rm conductor}_{f_{y}}}}\\left(x\\right) + i \\, k_{y} H_{{\\rm right}_{{\\rm conductor}_{f_{z}}}}\\left(x\\right)$"
      ],
      "text/plain": [
       "<IPython.core.display.Math object>"
      ]
     },
     "metadata": {},
     "output_type": "display_data"
    },
    {
     "name": "stdout",
     "output_type": "stream",
     "text": [
      "rot_H_inner_vacuum_y =\n"
     ]
    },
    {
     "data": {
      "text/latex": [
       "$\\displaystyle i \\, k_{z} H_{{\\rm inner}_{{\\rm vacuum}_{f_{x}}}}\\left(x\\right) - \\frac{\\partial}{\\partial x}H_{{\\rm inner}_{{\\rm vacuum}_{f_{z}}}}\\left(x\\right)$"
      ],
      "text/plain": [
       "<IPython.core.display.Math object>"
      ]
     },
     "metadata": {},
     "output_type": "display_data"
    },
    {
     "name": "stdout",
     "output_type": "stream",
     "text": [
      "rot_H_left_conductor_y =\n"
     ]
    },
    {
     "data": {
      "text/latex": [
       "$\\displaystyle i \\, k_{z} H_{{\\rm left}_{{\\rm conductor}_{f_{x}}}}\\left(x\\right) - \\frac{\\partial}{\\partial x}H_{{\\rm left}_{{\\rm conductor}_{f_{z}}}}\\left(x\\right)$"
      ],
      "text/plain": [
       "<IPython.core.display.Math object>"
      ]
     },
     "metadata": {},
     "output_type": "display_data"
    },
    {
     "name": "stdout",
     "output_type": "stream",
     "text": [
      "rot_H_right_conductor_y =\n"
     ]
    },
    {
     "data": {
      "text/latex": [
       "$\\displaystyle i \\, k_{z} H_{{\\rm right}_{{\\rm conductor}_{f_{x}}}}\\left(x\\right) - \\frac{\\partial}{\\partial x}H_{{\\rm right}_{{\\rm conductor}_{f_{z}}}}\\left(x\\right)$"
      ],
      "text/plain": [
       "<IPython.core.display.Math object>"
      ]
     },
     "metadata": {},
     "output_type": "display_data"
    },
    {
     "name": "stdout",
     "output_type": "stream",
     "text": [
      "rot_H_inner_vacuum_z =\n"
     ]
    },
    {
     "data": {
      "text/latex": [
       "$\\displaystyle -i \\, k_{y} H_{{\\rm inner}_{{\\rm vacuum}_{f_{x}}}}\\left(x\\right) + \\frac{\\partial}{\\partial x}H_{{\\rm inner}_{{\\rm vacuum}_{f_{y}}}}\\left(x\\right)$"
      ],
      "text/plain": [
       "<IPython.core.display.Math object>"
      ]
     },
     "metadata": {},
     "output_type": "display_data"
    },
    {
     "name": "stdout",
     "output_type": "stream",
     "text": [
      "rot_H_left_conductor_z =\n"
     ]
    },
    {
     "data": {
      "text/latex": [
       "$\\displaystyle -i \\, k_{y} H_{{\\rm left}_{{\\rm conductor}_{f_{x}}}}\\left(x\\right) + \\frac{\\partial}{\\partial x}H_{{\\rm left}_{{\\rm conductor}_{f_{y}}}}\\left(x\\right)$"
      ],
      "text/plain": [
       "<IPython.core.display.Math object>"
      ]
     },
     "metadata": {},
     "output_type": "display_data"
    },
    {
     "name": "stdout",
     "output_type": "stream",
     "text": [
      "rot_H_right_conductor_z =\n"
     ]
    },
    {
     "data": {
      "text/latex": [
       "$\\displaystyle -i \\, k_{y} H_{{\\rm right}_{{\\rm conductor}_{f_{x}}}}\\left(x\\right) + \\frac{\\partial}{\\partial x}H_{{\\rm right}_{{\\rm conductor}_{f_{y}}}}\\left(x\\right)$"
      ],
      "text/plain": [
       "<IPython.core.display.Math object>"
      ]
     },
     "metadata": {},
     "output_type": "display_data"
    },
    {
     "name": "stdout",
     "output_type": "stream",
     "text": [
      "rot_H_inner_vacuum_s_x =\n"
     ]
    },
    {
     "data": {
      "text/latex": [
       "$\\displaystyle x \\ {\\mapsto}\\ \\frac{{\\left(-i \\, k_{y} E_{{\\rm inner}_{{\\rm vacuum}_{x}}}\\left(x\\right) + \\frac{\\partial}{\\partial x}E_{{\\rm inner}_{{\\rm vacuum}_{y}}}\\left(x\\right)\\right)} c k_{y}}{\\omega} - \\frac{{\\left(i \\, k_{z} E_{{\\rm inner}_{{\\rm vacuum}_{x}}}\\left(x\\right) - \\frac{\\partial}{\\partial x}E_{{\\rm inner}_{{\\rm vacuum}_{z}}}\\left(x\\right)\\right)} c k_{z}}{\\omega}$"
      ],
      "text/plain": [
       "<IPython.core.display.Math object>"
      ]
     },
     "metadata": {},
     "output_type": "display_data"
    },
    {
     "name": "stdout",
     "output_type": "stream",
     "text": [
      "rot_H_left_conductor_s_x =\n"
     ]
    },
    {
     "data": {
      "text/latex": [
       "$\\displaystyle x \\ {\\mapsto}\\ \\frac{{\\left(-i \\, k_{y} E_{{\\rm left}_{{\\rm conductor}_{x}}}\\left(x\\right) + \\frac{\\partial}{\\partial x}E_{{\\rm left}_{{\\rm conductor}_{y}}}\\left(x\\right)\\right)} c k_{y}}{\\mu_{l} \\omega} - \\frac{{\\left(i \\, k_{z} E_{{\\rm left}_{{\\rm conductor}_{x}}}\\left(x\\right) - \\frac{\\partial}{\\partial x}E_{{\\rm left}_{{\\rm conductor}_{z}}}\\left(x\\right)\\right)} c k_{z}}{\\mu_{l} \\omega}$"
      ],
      "text/plain": [
       "<IPython.core.display.Math object>"
      ]
     },
     "metadata": {},
     "output_type": "display_data"
    },
    {
     "name": "stdout",
     "output_type": "stream",
     "text": [
      "rot_H_right_conductor_s_x =\n"
     ]
    },
    {
     "data": {
      "text/latex": [
       "$\\displaystyle x \\ {\\mapsto}\\ \\frac{{\\left(-i \\, k_{y} E_{{\\rm right}_{{\\rm conductor}_{x}}}\\left(x\\right) + \\frac{\\partial}{\\partial x}E_{{\\rm right}_{{\\rm conductor}_{y}}}\\left(x\\right)\\right)} c k_{y}}{\\mu_{r} \\omega} - \\frac{{\\left(i \\, k_{z} E_{{\\rm right}_{{\\rm conductor}_{x}}}\\left(x\\right) - \\frac{\\partial}{\\partial x}E_{{\\rm right}_{{\\rm conductor}_{z}}}\\left(x\\right)\\right)} c k_{z}}{\\mu_{r} \\omega}$"
      ],
      "text/plain": [
       "<IPython.core.display.Math object>"
      ]
     },
     "metadata": {},
     "output_type": "display_data"
    },
    {
     "name": "stdout",
     "output_type": "stream",
     "text": [
      "rot_H_inner_vacuum_s_y =\n"
     ]
    },
    {
     "data": {
      "text/latex": [
       "$\\displaystyle x \\ {\\mapsto}\\ \\frac{{\\left(-i \\, k_{z} E_{{\\rm inner}_{{\\rm vacuum}_{y}}}\\left(x\\right) + i \\, k_{y} E_{{\\rm inner}_{{\\rm vacuum}_{z}}}\\left(x\\right)\\right)} c k_{z}}{\\omega} + \\frac{i \\, {\\left(-i \\, k_{y} \\frac{\\partial}{\\partial x}E_{{\\rm inner}_{{\\rm vacuum}_{x}}}\\left(x\\right) + \\frac{\\partial^{2}}{(\\partial x)^{2}}E_{{\\rm inner}_{{\\rm vacuum}_{y}}}\\left(x\\right)\\right)} c}{\\omega}$"
      ],
      "text/plain": [
       "<IPython.core.display.Math object>"
      ]
     },
     "metadata": {},
     "output_type": "display_data"
    },
    {
     "name": "stdout",
     "output_type": "stream",
     "text": [
      "rot_H_left_conductor_s_y =\n"
     ]
    },
    {
     "data": {
      "text/latex": [
       "$\\displaystyle x \\ {\\mapsto}\\ \\frac{{\\left(-i \\, k_{z} E_{{\\rm left}_{{\\rm conductor}_{y}}}\\left(x\\right) + i \\, k_{y} E_{{\\rm left}_{{\\rm conductor}_{z}}}\\left(x\\right)\\right)} c k_{z}}{\\mu_{l} \\omega} + \\frac{i \\, {\\left(-i \\, k_{y} \\frac{\\partial}{\\partial x}E_{{\\rm left}_{{\\rm conductor}_{x}}}\\left(x\\right) + \\frac{\\partial^{2}}{(\\partial x)^{2}}E_{{\\rm left}_{{\\rm conductor}_{y}}}\\left(x\\right)\\right)} c}{\\mu_{l} \\omega}$"
      ],
      "text/plain": [
       "<IPython.core.display.Math object>"
      ]
     },
     "metadata": {},
     "output_type": "display_data"
    },
    {
     "name": "stdout",
     "output_type": "stream",
     "text": [
      "rot_H_right_conductor_s_y =\n"
     ]
    },
    {
     "data": {
      "text/latex": [
       "$\\displaystyle x \\ {\\mapsto}\\ \\frac{{\\left(-i \\, k_{z} E_{{\\rm right}_{{\\rm conductor}_{y}}}\\left(x\\right) + i \\, k_{y} E_{{\\rm right}_{{\\rm conductor}_{z}}}\\left(x\\right)\\right)} c k_{z}}{\\mu_{r} \\omega} + \\frac{i \\, {\\left(-i \\, k_{y} \\frac{\\partial}{\\partial x}E_{{\\rm right}_{{\\rm conductor}_{x}}}\\left(x\\right) + \\frac{\\partial^{2}}{(\\partial x)^{2}}E_{{\\rm right}_{{\\rm conductor}_{y}}}\\left(x\\right)\\right)} c}{\\mu_{r} \\omega}$"
      ],
      "text/plain": [
       "<IPython.core.display.Math object>"
      ]
     },
     "metadata": {},
     "output_type": "display_data"
    },
    {
     "name": "stdout",
     "output_type": "stream",
     "text": [
      "rot_H_inner_vacuum_s_z =\n"
     ]
    },
    {
     "data": {
      "text/latex": [
       "$\\displaystyle x \\ {\\mapsto}\\ -\\frac{{\\left(-i \\, k_{z} E_{{\\rm inner}_{{\\rm vacuum}_{y}}}\\left(x\\right) + i \\, k_{y} E_{{\\rm inner}_{{\\rm vacuum}_{z}}}\\left(x\\right)\\right)} c k_{y}}{\\omega} - \\frac{i \\, {\\left(i \\, k_{z} \\frac{\\partial}{\\partial x}E_{{\\rm inner}_{{\\rm vacuum}_{x}}}\\left(x\\right) - \\frac{\\partial^{2}}{(\\partial x)^{2}}E_{{\\rm inner}_{{\\rm vacuum}_{z}}}\\left(x\\right)\\right)} c}{\\omega}$"
      ],
      "text/plain": [
       "<IPython.core.display.Math object>"
      ]
     },
     "metadata": {},
     "output_type": "display_data"
    },
    {
     "name": "stdout",
     "output_type": "stream",
     "text": [
      "rot_H_left_conductor_s_z =\n"
     ]
    },
    {
     "data": {
      "text/latex": [
       "$\\displaystyle x \\ {\\mapsto}\\ -\\frac{{\\left(-i \\, k_{z} E_{{\\rm left}_{{\\rm conductor}_{y}}}\\left(x\\right) + i \\, k_{y} E_{{\\rm left}_{{\\rm conductor}_{z}}}\\left(x\\right)\\right)} c k_{y}}{\\mu_{l} \\omega} - \\frac{i \\, {\\left(i \\, k_{z} \\frac{\\partial}{\\partial x}E_{{\\rm left}_{{\\rm conductor}_{x}}}\\left(x\\right) - \\frac{\\partial^{2}}{(\\partial x)^{2}}E_{{\\rm left}_{{\\rm conductor}_{z}}}\\left(x\\right)\\right)} c}{\\mu_{l} \\omega}$"
      ],
      "text/plain": [
       "<IPython.core.display.Math object>"
      ]
     },
     "metadata": {},
     "output_type": "display_data"
    },
    {
     "name": "stdout",
     "output_type": "stream",
     "text": [
      "rot_H_right_conductor_s_z =\n"
     ]
    },
    {
     "data": {
      "text/latex": [
       "$\\displaystyle x \\ {\\mapsto}\\ -\\frac{{\\left(-i \\, k_{z} E_{{\\rm right}_{{\\rm conductor}_{y}}}\\left(x\\right) + i \\, k_{y} E_{{\\rm right}_{{\\rm conductor}_{z}}}\\left(x\\right)\\right)} c k_{y}}{\\mu_{r} \\omega} - \\frac{i \\, {\\left(i \\, k_{z} \\frac{\\partial}{\\partial x}E_{{\\rm right}_{{\\rm conductor}_{x}}}\\left(x\\right) - \\frac{\\partial^{2}}{(\\partial x)^{2}}E_{{\\rm right}_{{\\rm conductor}_{z}}}\\left(x\\right)\\right)} c}{\\mu_{r} \\omega}$"
      ],
      "text/plain": [
       "<IPython.core.display.Math object>"
      ]
     },
     "metadata": {},
     "output_type": "display_data"
    },
    {
     "name": "stdout",
     "output_type": "stream",
     "text": [
      "rot_H_inner_vacuum_sol_x =\n"
     ]
    },
    {
     "data": {
      "text/latex": [
       "$\\displaystyle \\frac{{\\left(i \\, \\mathit{A2}_{y} K_{\\mathit{vacuum}} e^{\\left(i \\, K_{\\mathit{vacuum}} x\\right)} - i \\, \\mathit{A1}_{y} K_{\\mathit{vacuum}} e^{\\left(-i \\, K_{\\mathit{vacuum}} x\\right)} - i \\, {\\left(\\mathit{A2}_{x} e^{\\left(i \\, K_{\\mathit{vacuum}} x\\right)} + \\mathit{A1}_{x} e^{\\left(-i \\, K_{\\mathit{vacuum}} x\\right)}\\right)} k_{y}\\right)} c k_{y}}{\\omega} - \\frac{{\\left(-i \\, \\mathit{A2}_{z} K_{\\mathit{vacuum}} e^{\\left(i \\, K_{\\mathit{vacuum}} x\\right)} + i \\, \\mathit{A1}_{z} K_{\\mathit{vacuum}} e^{\\left(-i \\, K_{\\mathit{vacuum}} x\\right)} + i \\, {\\left(\\mathit{A2}_{x} e^{\\left(i \\, K_{\\mathit{vacuum}} x\\right)} + \\mathit{A1}_{x} e^{\\left(-i \\, K_{\\mathit{vacuum}} x\\right)}\\right)} k_{z}\\right)} c k_{z}}{\\omega}$"
      ],
      "text/plain": [
       "<IPython.core.display.Math object>"
      ]
     },
     "metadata": {},
     "output_type": "display_data"
    },
    {
     "name": "stdout",
     "output_type": "stream",
     "text": [
      "rot_H_left_conductor_sol_x =\n"
     ]
    },
    {
     "data": {
      "text/latex": [
       "$\\displaystyle \\frac{{\\left(-i \\, \\mathit{B1}_{\\mathit{yl}} K_{\\mathit{left}_{\\mathit{conductor}}} e^{\\left(-i \\, K_{\\mathit{left}_{\\mathit{conductor}}} {\\left(a + x\\right)}\\right)} - i \\, \\mathit{B1}_{\\mathit{xl}} k_{y} e^{\\left(-i \\, K_{\\mathit{left}_{\\mathit{conductor}}} {\\left(a + x\\right)}\\right)}\\right)} c k_{y}}{\\mu_{l} \\omega} - \\frac{{\\left(i \\, \\mathit{B1}_{\\mathit{zl}} K_{\\mathit{left}_{\\mathit{conductor}}} e^{\\left(-i \\, K_{\\mathit{left}_{\\mathit{conductor}}} {\\left(a + x\\right)}\\right)} + i \\, \\mathit{B1}_{\\mathit{xl}} k_{z} e^{\\left(-i \\, K_{\\mathit{left}_{\\mathit{conductor}}} {\\left(a + x\\right)}\\right)}\\right)} c k_{z}}{\\mu_{l} \\omega}$"
      ],
      "text/plain": [
       "<IPython.core.display.Math object>"
      ]
     },
     "metadata": {},
     "output_type": "display_data"
    },
    {
     "name": "stdout",
     "output_type": "stream",
     "text": [
      "rot_H_right_conductor_sol_x =\n"
     ]
    },
    {
     "data": {
      "text/latex": [
       "$\\displaystyle \\frac{{\\left(i \\, \\mathit{B1}_{\\mathit{yr}} K_{\\mathit{right}_{\\mathit{conductor}}} e^{\\left(-i \\, K_{\\mathit{right}_{\\mathit{conductor}}} {\\left(a - x\\right)}\\right)} - i \\, \\mathit{B1}_{\\mathit{xr}} k_{y} e^{\\left(-i \\, K_{\\mathit{right}_{\\mathit{conductor}}} {\\left(a - x\\right)}\\right)}\\right)} c k_{y}}{\\mu_{r} \\omega} - \\frac{{\\left(-i \\, \\mathit{B1}_{\\mathit{zr}} K_{\\mathit{right}_{\\mathit{conductor}}} e^{\\left(-i \\, K_{\\mathit{right}_{\\mathit{conductor}}} {\\left(a - x\\right)}\\right)} + i \\, \\mathit{B1}_{\\mathit{xr}} k_{z} e^{\\left(-i \\, K_{\\mathit{right}_{\\mathit{conductor}}} {\\left(a - x\\right)}\\right)}\\right)} c k_{z}}{\\mu_{r} \\omega}$"
      ],
      "text/plain": [
       "<IPython.core.display.Math object>"
      ]
     },
     "metadata": {},
     "output_type": "display_data"
    },
    {
     "name": "stdout",
     "output_type": "stream",
     "text": [
      "rot_H_inner_vacuum_sol_y =\n"
     ]
    },
    {
     "data": {
      "text/latex": [
       "$\\displaystyle \\frac{{\\left(i \\, {\\left(\\mathit{A2}_{z} e^{\\left(i \\, K_{\\mathit{vacuum}} x\\right)} + \\mathit{A1}_{z} e^{\\left(-i \\, K_{\\mathit{vacuum}} x\\right)}\\right)} k_{y} - i \\, {\\left(\\mathit{A2}_{y} e^{\\left(i \\, K_{\\mathit{vacuum}} x\\right)} + \\mathit{A1}_{y} e^{\\left(-i \\, K_{\\mathit{vacuum}} x\\right)}\\right)} k_{z}\\right)} c k_{z}}{\\omega} - \\frac{i \\, {\\left(\\mathit{A2}_{y} K_{\\mathit{vacuum}}^{2} e^{\\left(i \\, K_{\\mathit{vacuum}} x\\right)} + \\mathit{A1}_{y} K_{\\mathit{vacuum}}^{2} e^{\\left(-i \\, K_{\\mathit{vacuum}} x\\right)} + i \\, {\\left(i \\, \\mathit{A2}_{x} K_{\\mathit{vacuum}} e^{\\left(i \\, K_{\\mathit{vacuum}} x\\right)} - i \\, \\mathit{A1}_{x} K_{\\mathit{vacuum}} e^{\\left(-i \\, K_{\\mathit{vacuum}} x\\right)}\\right)} k_{y}\\right)} c}{\\omega}$"
      ],
      "text/plain": [
       "<IPython.core.display.Math object>"
      ]
     },
     "metadata": {},
     "output_type": "display_data"
    },
    {
     "name": "stdout",
     "output_type": "stream",
     "text": [
      "rot_H_left_conductor_sol_y =\n"
     ]
    },
    {
     "data": {
      "text/latex": [
       "$\\displaystyle \\frac{{\\left(i \\, \\mathit{B1}_{\\mathit{zl}} k_{y} e^{\\left(-i \\, K_{\\mathit{left}_{\\mathit{conductor}}} {\\left(a + x\\right)}\\right)} - i \\, \\mathit{B1}_{\\mathit{yl}} k_{z} e^{\\left(-i \\, K_{\\mathit{left}_{\\mathit{conductor}}} {\\left(a + x\\right)}\\right)}\\right)} c k_{z}}{\\mu_{l} \\omega} - \\frac{i \\, {\\left(\\mathit{B1}_{\\mathit{yl}} K_{\\mathit{left}_{\\mathit{conductor}}}^{2} e^{\\left(-i \\, K_{\\mathit{left}_{\\mathit{conductor}}} {\\left(a + x\\right)}\\right)} + \\mathit{B1}_{\\mathit{xl}} K_{\\mathit{left}_{\\mathit{conductor}}} k_{y} e^{\\left(-i \\, K_{\\mathit{left}_{\\mathit{conductor}}} {\\left(a + x\\right)}\\right)}\\right)} c}{\\mu_{l} \\omega}$"
      ],
      "text/plain": [
       "<IPython.core.display.Math object>"
      ]
     },
     "metadata": {},
     "output_type": "display_data"
    },
    {
     "name": "stdout",
     "output_type": "stream",
     "text": [
      "rot_H_right_conductor_sol_y =\n"
     ]
    },
    {
     "data": {
      "text/latex": [
       "$\\displaystyle \\frac{{\\left(i \\, \\mathit{B1}_{\\mathit{zr}} k_{y} e^{\\left(-i \\, K_{\\mathit{right}_{\\mathit{conductor}}} {\\left(a - x\\right)}\\right)} - i \\, \\mathit{B1}_{\\mathit{yr}} k_{z} e^{\\left(-i \\, K_{\\mathit{right}_{\\mathit{conductor}}} {\\left(a - x\\right)}\\right)}\\right)} c k_{z}}{\\mu_{r} \\omega} - \\frac{i \\, {\\left(\\mathit{B1}_{\\mathit{yr}} K_{\\mathit{right}_{\\mathit{conductor}}}^{2} e^{\\left(-i \\, K_{\\mathit{right}_{\\mathit{conductor}}} {\\left(a - x\\right)}\\right)} - \\mathit{B1}_{\\mathit{xr}} K_{\\mathit{right}_{\\mathit{conductor}}} k_{y} e^{\\left(-i \\, K_{\\mathit{right}_{\\mathit{conductor}}} {\\left(a - x\\right)}\\right)}\\right)} c}{\\mu_{r} \\omega}$"
      ],
      "text/plain": [
       "<IPython.core.display.Math object>"
      ]
     },
     "metadata": {},
     "output_type": "display_data"
    },
    {
     "name": "stdout",
     "output_type": "stream",
     "text": [
      "rot_H_inner_vacuum_sol_z =\n"
     ]
    },
    {
     "data": {
      "text/latex": [
       "$\\displaystyle -\\frac{{\\left(i \\, {\\left(\\mathit{A2}_{z} e^{\\left(i \\, K_{\\mathit{vacuum}} x\\right)} + \\mathit{A1}_{z} e^{\\left(-i \\, K_{\\mathit{vacuum}} x\\right)}\\right)} k_{y} - i \\, {\\left(\\mathit{A2}_{y} e^{\\left(i \\, K_{\\mathit{vacuum}} x\\right)} + \\mathit{A1}_{y} e^{\\left(-i \\, K_{\\mathit{vacuum}} x\\right)}\\right)} k_{z}\\right)} c k_{y}}{\\omega} - \\frac{i \\, {\\left(\\mathit{A2}_{z} K_{\\mathit{vacuum}}^{2} e^{\\left(i \\, K_{\\mathit{vacuum}} x\\right)} + \\mathit{A1}_{z} K_{\\mathit{vacuum}}^{2} e^{\\left(-i \\, K_{\\mathit{vacuum}} x\\right)} + i \\, {\\left(i \\, \\mathit{A2}_{x} K_{\\mathit{vacuum}} e^{\\left(i \\, K_{\\mathit{vacuum}} x\\right)} - i \\, \\mathit{A1}_{x} K_{\\mathit{vacuum}} e^{\\left(-i \\, K_{\\mathit{vacuum}} x\\right)}\\right)} k_{z}\\right)} c}{\\omega}$"
      ],
      "text/plain": [
       "<IPython.core.display.Math object>"
      ]
     },
     "metadata": {},
     "output_type": "display_data"
    },
    {
     "name": "stdout",
     "output_type": "stream",
     "text": [
      "rot_H_left_conductor_sol_z =\n"
     ]
    },
    {
     "data": {
      "text/latex": [
       "$\\displaystyle -\\frac{{\\left(i \\, \\mathit{B1}_{\\mathit{zl}} k_{y} e^{\\left(-i \\, K_{\\mathit{left}_{\\mathit{conductor}}} {\\left(a + x\\right)}\\right)} - i \\, \\mathit{B1}_{\\mathit{yl}} k_{z} e^{\\left(-i \\, K_{\\mathit{left}_{\\mathit{conductor}}} {\\left(a + x\\right)}\\right)}\\right)} c k_{y}}{\\mu_{l} \\omega} - \\frac{i \\, {\\left(\\mathit{B1}_{\\mathit{zl}} K_{\\mathit{left}_{\\mathit{conductor}}}^{2} e^{\\left(-i \\, K_{\\mathit{left}_{\\mathit{conductor}}} {\\left(a + x\\right)}\\right)} + \\mathit{B1}_{\\mathit{xl}} K_{\\mathit{left}_{\\mathit{conductor}}} k_{z} e^{\\left(-i \\, K_{\\mathit{left}_{\\mathit{conductor}}} {\\left(a + x\\right)}\\right)}\\right)} c}{\\mu_{l} \\omega}$"
      ],
      "text/plain": [
       "<IPython.core.display.Math object>"
      ]
     },
     "metadata": {},
     "output_type": "display_data"
    },
    {
     "name": "stdout",
     "output_type": "stream",
     "text": [
      "rot_H_right_conductor_sol_z =\n"
     ]
    },
    {
     "data": {
      "text/latex": [
       "$\\displaystyle -\\frac{{\\left(i \\, \\mathit{B1}_{\\mathit{zr}} k_{y} e^{\\left(-i \\, K_{\\mathit{right}_{\\mathit{conductor}}} {\\left(a - x\\right)}\\right)} - i \\, \\mathit{B1}_{\\mathit{yr}} k_{z} e^{\\left(-i \\, K_{\\mathit{right}_{\\mathit{conductor}}} {\\left(a - x\\right)}\\right)}\\right)} c k_{y}}{\\mu_{r} \\omega} - \\frac{i \\, {\\left(\\mathit{B1}_{\\mathit{zr}} K_{\\mathit{right}_{\\mathit{conductor}}}^{2} e^{\\left(-i \\, K_{\\mathit{right}_{\\mathit{conductor}}} {\\left(a - x\\right)}\\right)} - \\mathit{B1}_{\\mathit{xr}} K_{\\mathit{right}_{\\mathit{conductor}}} k_{z} e^{\\left(-i \\, K_{\\mathit{right}_{\\mathit{conductor}}} {\\left(a - x\\right)}\\right)}\\right)} c}{\\mu_{r} \\omega}$"
      ],
      "text/plain": [
       "<IPython.core.display.Math object>"
      ]
     },
     "metadata": {},
     "output_type": "display_data"
    }
   ],
   "source": [
    "# уравнение Максвелла для тока смещения\n",
    "# rot_H   = - I * epsilon * omega / c * E\n",
    "# rot_H_x = diff(H_z, y) - diff(H_y, z)\n",
    "# rot_H_y = diff(H_x, z) - diff(H_z, x)\n",
    "# rot_H_z = diff(H_y, x) - diff(H_x, y)\n",
    "\n",
    "# rot_H_x = diff(H_z, y) - diff(H_y, z)\n",
    "rot_H_inner_vacuum_x    = I*k_y*H_inner_vacuum_f_z(x)  - I*k_z*H_inner_vacuum_f_y(x)\n",
    "rot_H_left_conductor_x  = I*k_y*H_left_conductor_f_z(x) - I*k_z*H_left_conductor_f_y(x)\n",
    "rot_H_right_conductor_x = I*k_y*H_right_conductor_f_z(x) - I*k_z*H_right_conductor_f_y(x)\n",
    "\n",
    "# rot_H_y = diff(H_x, z) - diff(H_z, x)\n",
    "rot_H_inner_vacuum_y  = I*k_z*H_inner_vacuum_f_x(x)  - diff(H_inner_vacuum_f_z(x), x)\n",
    "rot_H_left_conductor_y = I*k_z*H_left_conductor_f_x(x) - diff(H_left_conductor_f_z(x), x)\n",
    "rot_H_right_conductor_y = I*k_z*H_right_conductor_f_x(x) - diff(H_right_conductor_f_z(x), x)\n",
    "\n",
    "# rot_H_z = diff(H_y, x) - diff(H_x, y)\n",
    "rot_H_inner_vacuum_z    = diff(H_inner_vacuum_f_y(x) , x) - I*k_y*H_inner_vacuum_f_x(x)\n",
    "rot_H_left_conductor_z  = diff(H_left_conductor_f_y(x), x) - I*k_y*H_left_conductor_f_x(x)\n",
    "rot_H_right_conductor_z = diff(H_right_conductor_f_y(x), x) - I*k_y*H_right_conductor_f_x(x)\n",
    "\n",
    "# rot_H_x = diff(H_z, y) - diff(H_y, z)\n",
    "rot_H_inner_vacuum_s_x    = I*k_y*H_inner_vacuum_s_z  - I*k_z*H_inner_vacuum_s_y\n",
    "rot_H_left_conductor_s_x  = I*k_y*H_left_conductor_s_z - I*k_z*H_left_conductor_s_y\n",
    "rot_H_right_conductor_s_x = I*k_y*H_right_conductor_s_z - I*k_z*H_right_conductor_s_y\n",
    "\n",
    "# rot_H_y = diff(H_x, z) - diff(H_z, x)\n",
    "rot_H_inner_vacuum_s_y    = I*k_z*H_inner_vacuum_s_x  - diff(H_inner_vacuum_s_z, x)\n",
    "rot_H_left_conductor_s_y  = I*k_z*H_left_conductor_s_x - diff(H_left_conductor_s_z, x)\n",
    "rot_H_right_conductor_s_y = I*k_z*H_right_conductor_s_x - diff(H_right_conductor_s_z, x)\n",
    "\n",
    "#H_inner_vacuum_s_z(x)  = c / (I*omega)   *(-I*sqrt(kappa_vacuum^2-k^2)*E_inner_vacuum_y (x) - I*k_y*E_inner_vacuum_x (x))\n",
    "#H_bad_conductor_s_z(x) = c / (I*omega*mu)*( I*sqrt(kappa       ^2-k^2)*E_bad_conductor_y(x) - I*k_y*E_bad_conductor_x(x))\n",
    "\n",
    "#print(diff(H_inner_vacuum_s_z, x) \\\n",
    "#      .substitute_function(diff(E_inner_vacuum_y(x), x), - I*sqrt(-k^2 + kappa_vacuum^2) * E_inner_vacuum_y(x)) \\\n",
    "#      .substitute_function(diff(E_inner_vacuum_x(x), x), - I*sqrt(-k^2 + kappa_vacuum^2) * E_inner_vacuum_x(x))) \\\n",
    "\n",
    "#rot_H_inner_vacuum_s_y  = I*k_z*H_inner_vacuum_s_x  - c / (I*omega)*(-I*sqrt(kappa_vacuum^2-k_z^2)*\n",
    "#                                                                     (-I*sqrt(kappa_vacuum^2-k_z^2))*\n",
    "#                                                                             E_inner_vacuum_y (x) \n",
    "#                                                                     - I*k_y*(-I*sqrt(kappa_vacuum^2-k_z^2))*\n",
    "#                                                                             E_inner_vacuum_x (x))\n",
    "#\n",
    "#rot_H_bad_conductor_s_y = I*k_z*H_bad_conductor_s_x - c / (I*omega*mu)*( I*sqrt(kappa^2-k_z^2)*\n",
    "#                                                                         I*sqrt(kappa^2-k_z^2)*\n",
    "#                                                                             E_bad_conductor_y(x) \n",
    "#                                                                       - I*k_y*\n",
    "#                                                                        I*sqrt(kappa^2-k_z^2)*\n",
    "#                                                                        E_bad_conductor_x(x))\n",
    "\n",
    "# rot_H_y = diff(H_x, z) - diff(H_z, x)\n",
    "rot_H_inner_vacuum_s_y  = I*k_z*H_inner_vacuum_s_x  - diff(H_inner_vacuum_s_z, x)\n",
    "rot_H_left_conductor_s_y = I*k_z*H_left_conductor_s_x - diff(H_left_conductor_s_z, x)\n",
    "rot_H_right_conductor_s_y = I*k_z*H_right_conductor_s_x - diff(H_right_conductor_s_z, x)\n",
    "\n",
    "\n",
    "# rot_H_z = diff(H_y, x) - diff(H_x, y)\n",
    "rot_H_inner_vacuum_s_z    = diff(H_inner_vacuum_s_y , x) - I*k_y*H_inner_vacuum_s_x\n",
    "rot_H_left_conductor_s_z  = diff(H_left_conductor_s_y, x) - I*k_y*H_left_conductor_s_x\n",
    "rot_H_right_conductor_s_z = diff(H_right_conductor_s_y, x) - I*k_y*H_right_conductor_s_x\n",
    "\n",
    "rot_H_inner_vacuum_s_z    = diff(H_inner_vacuum_s_y, x)  - I*k_y*H_inner_vacuum_s_x\n",
    "rot_H_left_conductor_s_z  =  diff(H_left_conductor_s_y, x) - I*k_y*H_left_conductor_s_x\n",
    "rot_H_right_conductor_s_z =  diff(H_right_conductor_s_y, x) - I*k_y*H_right_conductor_s_x\n",
    "\n",
    "\n",
    "# sol\n",
    "rot_H_inner_vacuum_sol_x    = I*k_y*H_inner_vacuum_sol_z (x) - I*k_z*H_inner_vacuum_sol_y (x)\n",
    "rot_H_left_conductor_sol_x  = I*k_y*H_left_conductor_sol_z(x) - I*k_z*H_left_conductor_sol_y(x)\n",
    "rot_H_right_conductor_sol_x = I*k_y*H_right_conductor_sol_z(x) - I*k_z*H_right_conductor_sol_y(x)\n",
    "\n",
    "rot_H_inner_vacuum_sol_y    = I*k_z*H_inner_vacuum_sol_x (x) - diff(H_inner_vacuum_sol_z (x), x)\n",
    "rot_H_left_conductor_sol_y  = I*k_z*H_left_conductor_sol_x(x) - diff(H_left_conductor_sol_z(x), x)\n",
    "rot_H_right_conductor_sol_y = I*k_z*H_right_conductor_sol_x(x) - diff(H_right_conductor_sol_z(x), x)\n",
    "\n",
    "rot_H_inner_vacuum_sol_z    = diff(H_inner_vacuum_sol_y (x), x) - I*k_y*H_inner_vacuum_sol_x (x)\n",
    "rot_H_left_conductor_sol_z  = diff(H_left_conductor_sol_y(x), x) - I*k_y*H_left_conductor_sol_x(x)\n",
    "rot_H_right_conductor_sol_z = diff(H_right_conductor_sol_y(x), x) - I*k_y*H_right_conductor_sol_x(x)\n",
    "\n",
    "\n",
    "print (\"rot_H_inner_vacuum_x =\")\n",
    "display(Math(latex(rot_H_inner_vacuum_x)))\n",
    "print (\"rot_H_left_conductor_x =\")\n",
    "display(Math(latex(rot_H_left_conductor_x)))\n",
    "print (\"rot_H_right_conductor_x =\")\n",
    "display(Math(latex(rot_H_right_conductor_x)))\n",
    "\n",
    "print (\"rot_H_inner_vacuum_y =\")\n",
    "display(Math(latex(rot_H_inner_vacuum_y)))\n",
    "print (\"rot_H_left_conductor_y =\")\n",
    "display(Math(latex(rot_H_left_conductor_y)))\n",
    "print (\"rot_H_right_conductor_y =\")\n",
    "display(Math(latex(rot_H_right_conductor_y)))\n",
    "\n",
    "print (\"rot_H_inner_vacuum_z =\")\n",
    "display(Math(latex(rot_H_inner_vacuum_z)))\n",
    "print (\"rot_H_left_conductor_z =\")\n",
    "display(Math(latex(rot_H_left_conductor_z)))\n",
    "print (\"rot_H_right_conductor_z =\")\n",
    "display(Math(latex(rot_H_right_conductor_z)))\n",
    "\n",
    "\n",
    "\n",
    "print (\"rot_H_inner_vacuum_s_x =\")\n",
    "display(Math(latex(rot_H_inner_vacuum_s_x)))\n",
    "print (\"rot_H_left_conductor_s_x =\")\n",
    "display(Math(latex(rot_H_left_conductor_s_x)))\n",
    "print (\"rot_H_right_conductor_s_x =\")\n",
    "display(Math(latex(rot_H_right_conductor_s_x)))\n",
    "\n",
    "print (\"rot_H_inner_vacuum_s_y =\")\n",
    "display(Math(latex(rot_H_inner_vacuum_s_y)))\n",
    "print (\"rot_H_left_conductor_s_y =\")\n",
    "display(Math(latex(rot_H_left_conductor_s_y)))\n",
    "print (\"rot_H_right_conductor_s_y =\")\n",
    "display(Math(latex(rot_H_right_conductor_s_y)))\n",
    "\n",
    "print (\"rot_H_inner_vacuum_s_z =\")\n",
    "display(Math(latex(rot_H_inner_vacuum_s_z)))\n",
    "print (\"rot_H_left_conductor_s_z =\")\n",
    "display(Math(latex(rot_H_left_conductor_s_z)))\n",
    "print (\"rot_H_right_conductor_s_z =\")\n",
    "display(Math(latex(rot_H_right_conductor_s_z)))\n",
    "\n",
    "\n",
    "\n",
    "print (\"rot_H_inner_vacuum_sol_x =\")\n",
    "display(Math(latex(rot_H_inner_vacuum_sol_x)))\n",
    "print (\"rot_H_left_conductor_sol_x =\")\n",
    "display(Math(latex(rot_H_left_conductor_sol_x)))\n",
    "print (\"rot_H_right_conductor_sol_x =\")\n",
    "display(Math(latex(rot_H_right_conductor_sol_x)))\n",
    "\n",
    "print (\"rot_H_inner_vacuum_sol_y =\")\n",
    "display(Math(latex(rot_H_inner_vacuum_sol_y)))\n",
    "print (\"rot_H_left_conductor_sol_y =\")\n",
    "display(Math(latex(rot_H_left_conductor_sol_y)))\n",
    "print (\"rot_H_right_conductor_sol_y =\")\n",
    "display(Math(latex(rot_H_right_conductor_sol_y)))\n",
    "\n",
    "print (\"rot_H_inner_vacuum_sol_z =\")\n",
    "display(Math(latex(rot_H_inner_vacuum_sol_z)))\n",
    "print (\"rot_H_left_conductor_sol_z =\")\n",
    "display(Math(latex(rot_H_left_conductor_sol_z)))\n",
    "print (\"rot_H_right_conductor_sol_z =\")\n",
    "display(Math(latex(rot_H_right_conductor_sol_z)))"
   ]
  },
  {
   "cell_type": "code",
   "execution_count": null,
   "metadata": {},
   "outputs": [],
   "source": []
  },
  {
   "cell_type": "markdown",
   "metadata": {},
   "source": [
    "$$rot\\,\\vec{H} = \\frac{1}{c}\\frac{\\partial \\vec E}{\\partial t} = - \\frac{i\\,\\omega}{c} \\vec{E}$$"
   ]
  },
  {
   "cell_type": "markdown",
   "metadata": {},
   "source": [
    "$$rot\\,\\vec{H} = \\frac{1}{c}\\frac{\\partial \\vec D}{\\partial t} + \\frac{4\\pi}{c} \\vec j = - \\frac{i\\,\\omega}{c} \\epsilon \\vec{E} + \\frac{4\\pi}{c}\\sigma \\vec E$$"
   ]
  },
  {
   "cell_type": "markdown",
   "metadata": {},
   "source": [
    "принимая модель комплексного представления диэлектрической проницаемости $\\epsilon' = \\epsilon + \\frac{4\\pi\\,\\sigma}{\\omega}\\,i$ (плохой проводник)"
   ]
  },
  {
   "cell_type": "markdown",
   "metadata": {},
   "source": [
    "$$rot\\,\\vec{H} = \\frac{1}{c}\\frac{\\partial \\vec D}{\\partial t} + \\frac{4\\pi}{c} \\vec j = - \\frac{i\\,\\omega}{c} \\epsilon \\vec{E} + \\frac{4\\pi}{c}\\sigma \\vec E  = - \\frac{i\\,\\omega}{c} \\epsilon' \\vec{E}$$"
   ]
  },
  {
   "cell_type": "code",
   "execution_count": 24,
   "metadata": {},
   "outputs": [],
   "source": [
    "eq_rot_H_inner_vacuum_sol_x  = rot_H_inner_vacuum_sol_x  == -I*omega/c*E_inner_vacuum_sol_x(x)\n",
    "eq_rot_H_inner_vacuum_sol_y  = rot_H_inner_vacuum_sol_y  == -I*omega/c*E_inner_vacuum_sol_y(x)\n",
    "eq_rot_H_inner_vacuum_sol_z  = rot_H_inner_vacuum_sol_z  == -I*omega/c*E_inner_vacuum_sol_z(x)\n",
    "\n",
    "eq_rot_H_left_conductor_sol_x = rot_H_left_conductor_sol_x == -I*omega/c*epsilon_l_complex*E_left_conductor_sol_x(x)\n",
    "eq_rot_H_left_conductor_sol_y = rot_H_left_conductor_sol_y == -I*omega/c*epsilon_l_complex*E_left_conductor_sol_y(x)\n",
    "eq_rot_H_left_conductor_sol_z = rot_H_left_conductor_sol_z == -I*omega/c*epsilon_l_complex*E_left_conductor_sol_z(x)\n",
    "\n",
    "eq_rot_H_right_conductor_sol_x = rot_H_right_conductor_sol_x == -I*omega/c*epsilon_r_complex*E_right_conductor_sol_x(x)\n",
    "eq_rot_H_right_conductor_sol_y = rot_H_right_conductor_sol_y == -I*omega/c*epsilon_r_complex*E_right_conductor_sol_y(x)\n",
    "eq_rot_H_right_conductor_sol_z = rot_H_right_conductor_sol_z == -I*omega/c*epsilon_r_complex*E_right_conductor_sol_z(x)"
   ]
  },
  {
   "cell_type": "code",
   "execution_count": 25,
   "metadata": {},
   "outputs": [],
   "source": [
    "eq_rot_H_inner_vacuum_s_x  = rot_H_inner_vacuum_s_x  == -I*omega/c*E_inner_vacuum_x(x)\n",
    "eq_rot_H_inner_vacuum_s_y  = rot_H_inner_vacuum_s_y  == -I*omega/c*E_inner_vacuum_y(x)\n",
    "eq_rot_H_inner_vacuum_s_z  = rot_H_inner_vacuum_s_z  == -I*omega/c*E_inner_vacuum_z(x)\n",
    "\n",
    "eq_rot_H_left_conductor_s_x = rot_H_left_conductor_s_x == -I*omega/c*epsilon_l_complex*E_left_conductor_x(x)\n",
    "eq_rot_H_left_conductor_s_y = rot_H_left_conductor_s_y == -I*omega/c*epsilon_l_complex*E_left_conductor_y(x)\n",
    "eq_rot_H_left_conductor_s_z = rot_H_left_conductor_s_z == -I*omega/c*epsilon_l_complex*E_left_conductor_z(x)\n",
    "\n",
    "eq_rot_H_right_conductor_s_x = rot_H_right_conductor_s_x == -I*omega/c*epsilon_r_complex*E_right_conductor_x(x)\n",
    "eq_rot_H_right_conductor_s_y = rot_H_right_conductor_s_y == -I*omega/c*epsilon_r_complex*E_right_conductor_y(x)\n",
    "eq_rot_H_right_conductor_s_z = rot_H_right_conductor_s_z == -I*omega/c*epsilon_r_complex*E_right_conductor_z(x)"
   ]
  },
  {
   "cell_type": "code",
   "execution_count": 26,
   "metadata": {},
   "outputs": [],
   "source": [
    "eq_rot_H_inner_vacuum_x  = rot_H_inner_vacuum_x  == -I*omega/c*E_inner_vacuum_x(x)\n",
    "eq_rot_H_inner_vacuum_y  = rot_H_inner_vacuum_y  == -I*omega/c*E_inner_vacuum_y(x)\n",
    "eq_rot_H_inner_vacuum_z  = rot_H_inner_vacuum_z  == -I*omega/c*E_inner_vacuum_z(x)\n",
    "\n",
    "eq_rot_H_left_conductor_x = rot_H_left_conductor_x == -I*omega/c*epsilon_l_complex*E_left_conductor_x(x)\n",
    "eq_rot_H_left_conductor_y = rot_H_left_conductor_y == -I*omega/c*epsilon_l_complex*E_left_conductor_y(x)\n",
    "eq_rot_H_left_conductor_z = rot_H_left_conductor_z == -I*omega/c*epsilon_l_complex*E_left_conductor_z(x)\n",
    "\n",
    "eq_rot_H_right_conductor_x = rot_H_right_conductor_x == -I*omega/c*epsilon_r_complex*E_right_conductor_x(x)\n",
    "eq_rot_H_right_conductor_y = rot_H_right_conductor_y == -I*omega/c*epsilon_r_complex*E_right_conductor_y(x)\n",
    "eq_rot_H_right_conductor_z = rot_H_right_conductor_z == -I*omega/c*epsilon_r_complex*E_right_conductor_z(x)"
   ]
  },
  {
   "cell_type": "code",
   "execution_count": 27,
   "metadata": {},
   "outputs": [
    {
     "name": "stdout",
     "output_type": "stream",
     "text": [
      "eq_rot_H_inner_vacuum_s_x =\n"
     ]
    },
    {
     "data": {
      "text/latex": [
       "$\\displaystyle x \\ {\\mapsto}\\ \\frac{{\\left(-i \\, k_{y} E_{{\\rm inner}_{{\\rm vacuum}_{x}}}\\left(x\\right) + \\frac{\\partial}{\\partial x}E_{{\\rm inner}_{{\\rm vacuum}_{y}}}\\left(x\\right)\\right)} c k_{y}}{\\omega} - \\frac{{\\left(i \\, k_{z} E_{{\\rm inner}_{{\\rm vacuum}_{x}}}\\left(x\\right) - \\frac{\\partial}{\\partial x}E_{{\\rm inner}_{{\\rm vacuum}_{z}}}\\left(x\\right)\\right)} c k_{z}}{\\omega} = -\\frac{i \\, \\omega E_{{\\rm inner}_{{\\rm vacuum}_{x}}}\\left(x\\right)}{c}$"
      ],
      "text/plain": [
       "<IPython.core.display.Math object>"
      ]
     },
     "metadata": {},
     "output_type": "display_data"
    },
    {
     "name": "stdout",
     "output_type": "stream",
     "text": [
      "eq_rot_H_inner_vacuum_s_y =\n"
     ]
    },
    {
     "data": {
      "text/latex": [
       "$\\displaystyle x \\ {\\mapsto}\\ \\frac{{\\left(-i \\, k_{z} E_{{\\rm inner}_{{\\rm vacuum}_{y}}}\\left(x\\right) + i \\, k_{y} E_{{\\rm inner}_{{\\rm vacuum}_{z}}}\\left(x\\right)\\right)} c k_{z}}{\\omega} + \\frac{i \\, {\\left(-i \\, k_{y} \\frac{\\partial}{\\partial x}E_{{\\rm inner}_{{\\rm vacuum}_{x}}}\\left(x\\right) + \\frac{\\partial^{2}}{(\\partial x)^{2}}E_{{\\rm inner}_{{\\rm vacuum}_{y}}}\\left(x\\right)\\right)} c}{\\omega} = -\\frac{i \\, \\omega E_{{\\rm inner}_{{\\rm vacuum}_{y}}}\\left(x\\right)}{c}$"
      ],
      "text/plain": [
       "<IPython.core.display.Math object>"
      ]
     },
     "metadata": {},
     "output_type": "display_data"
    },
    {
     "name": "stdout",
     "output_type": "stream",
     "text": [
      "eq_rot_H_inner_vacuum_s_z =\n"
     ]
    },
    {
     "data": {
      "text/latex": [
       "$\\displaystyle x \\ {\\mapsto}\\ -\\frac{{\\left(-i \\, k_{z} E_{{\\rm inner}_{{\\rm vacuum}_{y}}}\\left(x\\right) + i \\, k_{y} E_{{\\rm inner}_{{\\rm vacuum}_{z}}}\\left(x\\right)\\right)} c k_{y}}{\\omega} - \\frac{i \\, {\\left(i \\, k_{z} \\frac{\\partial}{\\partial x}E_{{\\rm inner}_{{\\rm vacuum}_{x}}}\\left(x\\right) - \\frac{\\partial^{2}}{(\\partial x)^{2}}E_{{\\rm inner}_{{\\rm vacuum}_{z}}}\\left(x\\right)\\right)} c}{\\omega} = -\\frac{i \\, \\omega E_{{\\rm inner}_{{\\rm vacuum}_{z}}}\\left(x\\right)}{c}$"
      ],
      "text/plain": [
       "<IPython.core.display.Math object>"
      ]
     },
     "metadata": {},
     "output_type": "display_data"
    }
   ],
   "source": [
    "print (\"eq_rot_H_inner_vacuum_s_x =\")\n",
    "display(Math(latex(eq_rot_H_inner_vacuum_s_x.simplify())))\n",
    "\n",
    "print (\"eq_rot_H_inner_vacuum_s_y =\")\n",
    "display(Math(latex(eq_rot_H_inner_vacuum_s_y.simplify())))\n",
    "\n",
    "print (\"eq_rot_H_inner_vacuum_s_z =\")\n",
    "display(Math(latex(eq_rot_H_inner_vacuum_s_z.simplify())))"
   ]
  },
  {
   "cell_type": "code",
   "execution_count": 28,
   "metadata": {},
   "outputs": [
    {
     "name": "stdout",
     "output_type": "stream",
     "text": [
      "eq_rot_H_inner_vacuum_sol_x =\n"
     ]
    },
    {
     "data": {
      "text/latex": [
       "$\\displaystyle \\frac{{\\left(i \\, \\mathit{A2}_{y} K_{\\mathit{vacuum}} e^{\\left(i \\, K_{\\mathit{vacuum}} x\\right)} - i \\, \\mathit{A1}_{y} K_{\\mathit{vacuum}} e^{\\left(-i \\, K_{\\mathit{vacuum}} x\\right)} - i \\, {\\left(\\mathit{A2}_{x} e^{\\left(i \\, K_{\\mathit{vacuum}} x\\right)} + \\mathit{A1}_{x} e^{\\left(-i \\, K_{\\mathit{vacuum}} x\\right)}\\right)} k_{y}\\right)} c k_{y}}{\\omega} - \\frac{{\\left(-i \\, \\mathit{A2}_{z} K_{\\mathit{vacuum}} e^{\\left(i \\, K_{\\mathit{vacuum}} x\\right)} + i \\, \\mathit{A1}_{z} K_{\\mathit{vacuum}} e^{\\left(-i \\, K_{\\mathit{vacuum}} x\\right)} + i \\, {\\left(\\mathit{A2}_{x} e^{\\left(i \\, K_{\\mathit{vacuum}} x\\right)} + \\mathit{A1}_{x} e^{\\left(-i \\, K_{\\mathit{vacuum}} x\\right)}\\right)} k_{z}\\right)} c k_{z}}{\\omega} = -\\frac{i \\, {\\left(\\mathit{A2}_{x} e^{\\left(i \\, K_{\\mathit{vacuum}} x\\right)} + \\mathit{A1}_{x} e^{\\left(-i \\, K_{\\mathit{vacuum}} x\\right)}\\right)} \\omega}{c}$"
      ],
      "text/plain": [
       "<IPython.core.display.Math object>"
      ]
     },
     "metadata": {},
     "output_type": "display_data"
    },
    {
     "name": "stdout",
     "output_type": "stream",
     "text": [
      "eq_rot_H_inner_vacuum_sol_y =\n"
     ]
    },
    {
     "data": {
      "text/latex": [
       "$\\displaystyle \\frac{{\\left(i \\, {\\left(\\mathit{A2}_{z} e^{\\left(i \\, K_{\\mathit{vacuum}} x\\right)} + \\mathit{A1}_{z} e^{\\left(-i \\, K_{\\mathit{vacuum}} x\\right)}\\right)} k_{y} - i \\, {\\left(\\mathit{A2}_{y} e^{\\left(i \\, K_{\\mathit{vacuum}} x\\right)} + \\mathit{A1}_{y} e^{\\left(-i \\, K_{\\mathit{vacuum}} x\\right)}\\right)} k_{z}\\right)} c k_{z}}{\\omega} - \\frac{i \\, {\\left(\\mathit{A2}_{y} K_{\\mathit{vacuum}}^{2} e^{\\left(i \\, K_{\\mathit{vacuum}} x\\right)} + \\mathit{A1}_{y} K_{\\mathit{vacuum}}^{2} e^{\\left(-i \\, K_{\\mathit{vacuum}} x\\right)} + i \\, {\\left(i \\, \\mathit{A2}_{x} K_{\\mathit{vacuum}} e^{\\left(i \\, K_{\\mathit{vacuum}} x\\right)} - i \\, \\mathit{A1}_{x} K_{\\mathit{vacuum}} e^{\\left(-i \\, K_{\\mathit{vacuum}} x\\right)}\\right)} k_{y}\\right)} c}{\\omega} = -\\frac{i \\, {\\left(\\mathit{A2}_{y} e^{\\left(i \\, K_{\\mathit{vacuum}} x\\right)} + \\mathit{A1}_{y} e^{\\left(-i \\, K_{\\mathit{vacuum}} x\\right)}\\right)} \\omega}{c}$"
      ],
      "text/plain": [
       "<IPython.core.display.Math object>"
      ]
     },
     "metadata": {},
     "output_type": "display_data"
    },
    {
     "name": "stdout",
     "output_type": "stream",
     "text": [
      "eq_rot_H_inner_vacuum_sol_z =\n"
     ]
    },
    {
     "data": {
      "text/latex": [
       "$\\displaystyle -\\frac{{\\left(i \\, {\\left(\\mathit{A2}_{z} e^{\\left(i \\, K_{\\mathit{vacuum}} x\\right)} + \\mathit{A1}_{z} e^{\\left(-i \\, K_{\\mathit{vacuum}} x\\right)}\\right)} k_{y} - i \\, {\\left(\\mathit{A2}_{y} e^{\\left(i \\, K_{\\mathit{vacuum}} x\\right)} + \\mathit{A1}_{y} e^{\\left(-i \\, K_{\\mathit{vacuum}} x\\right)}\\right)} k_{z}\\right)} c k_{y}}{\\omega} - \\frac{i \\, {\\left(\\mathit{A2}_{z} K_{\\mathit{vacuum}}^{2} e^{\\left(i \\, K_{\\mathit{vacuum}} x\\right)} + \\mathit{A1}_{z} K_{\\mathit{vacuum}}^{2} e^{\\left(-i \\, K_{\\mathit{vacuum}} x\\right)} + i \\, {\\left(i \\, \\mathit{A2}_{x} K_{\\mathit{vacuum}} e^{\\left(i \\, K_{\\mathit{vacuum}} x\\right)} - i \\, \\mathit{A1}_{x} K_{\\mathit{vacuum}} e^{\\left(-i \\, K_{\\mathit{vacuum}} x\\right)}\\right)} k_{z}\\right)} c}{\\omega} = -\\frac{i \\, {\\left(\\mathit{A2}_{z} e^{\\left(i \\, K_{\\mathit{vacuum}} x\\right)} + \\mathit{A1}_{z} e^{\\left(-i \\, K_{\\mathit{vacuum}} x\\right)}\\right)} \\omega}{c}$"
      ],
      "text/plain": [
       "<IPython.core.display.Math object>"
      ]
     },
     "metadata": {},
     "output_type": "display_data"
    }
   ],
   "source": [
    "print (\"eq_rot_H_inner_vacuum_sol_x =\")\n",
    "display(Math(latex(eq_rot_H_inner_vacuum_sol_x.simplify())))\n",
    "\n",
    "print (\"eq_rot_H_inner_vacuum_sol_y =\")\n",
    "display(Math(latex(eq_rot_H_inner_vacuum_sol_y.simplify())))\n",
    "\n",
    "print (\"eq_rot_H_inner_vacuum_sol_z =\")\n",
    "display(Math(latex(eq_rot_H_inner_vacuum_sol_z.simplify())))"
   ]
  },
  {
   "cell_type": "code",
   "execution_count": null,
   "metadata": {},
   "outputs": [],
   "source": []
  },
  {
   "cell_type": "code",
   "execution_count": 29,
   "metadata": {},
   "outputs": [],
   "source": [
    "# выражения для электрического поля\n",
    "# в вакууме внутри резонатора \n",
    "#    E_inner_vacuum_z (x) = A1_z_re*cos(sqrt(kappa_vacuum^2-k_z^2)*x) + A1_z_im*sin(sqrt(kappa_vacuum^2-k_z^2)*x)\n",
    "#    E_inner_vacuum_x (x) = A1_x_re*cos(sqrt(kappa_vacuum^2-k_z^2)*x) + A1_x_im*sin(sqrt(kappa_vacuum^2-k_z^2)*x)\n",
    "#    E_inner_vacuum_y (x) = A1_y_re*cos(sqrt(kappa_vacuum^2-k_z^2)*x) + A1_y_im*sin(sqrt(kappa_vacuum^2-k_z^2)*x)\n"
   ]
  },
  {
   "cell_type": "code",
   "execution_count": null,
   "metadata": {},
   "outputs": [],
   "source": []
  },
  {
   "cell_type": "code",
   "execution_count": 30,
   "metadata": {},
   "outputs": [
    {
     "name": "stdout",
     "output_type": "stream",
     "text": [
      "eqEz_r = \n"
     ]
    },
    {
     "data": {
      "text/latex": [
       "$\\displaystyle \\mathit{B1}_{\\mathit{zr}} = \\mathit{A2}_{z} e^{\\left(i \\, K_{\\mathit{vacuum}} a\\right)} + \\mathit{A1}_{z} e^{\\left(-i \\, K_{\\mathit{vacuum}} a\\right)}$"
      ],
      "text/plain": [
       "<IPython.core.display.Math object>"
      ]
     },
     "metadata": {},
     "output_type": "display_data"
    },
    {
     "name": "stdout",
     "output_type": "stream",
     "text": [
      "eqEy_r = \n"
     ]
    },
    {
     "data": {
      "text/latex": [
       "$\\displaystyle \\mathit{B1}_{\\mathit{yr}} = \\mathit{A2}_{y} e^{\\left(i \\, K_{\\mathit{vacuum}} a\\right)} + \\mathit{A1}_{y} e^{\\left(-i \\, K_{\\mathit{vacuum}} a\\right)}$"
      ],
      "text/plain": [
       "<IPython.core.display.Math object>"
      ]
     },
     "metadata": {},
     "output_type": "display_data"
    }
   ],
   "source": [
    "# граничные условия на границе вакуума внутри резонатора и проводящего металла с потерями\n",
    "# тангенциальная компонента электрического поля\n",
    "eqEz_r = E_right_conductor_sol_z(a) == E_inner_vacuum_sol_z(a)\n",
    "eqEy_r = E_right_conductor_sol_y(a) == E_inner_vacuum_sol_y(a)\n",
    "\n",
    "print (\"eqEz_r = \")\n",
    "display(Math(latex(eqEz_r)))\n",
    "print (\"eqEy_r = \")\n",
    "display(Math(latex(eqEy_r)))"
   ]
  },
  {
   "cell_type": "code",
   "execution_count": 31,
   "metadata": {},
   "outputs": [
    {
     "name": "stdout",
     "output_type": "stream",
     "text": [
      "eqEz_l = \n"
     ]
    },
    {
     "data": {
      "text/latex": [
       "$\\displaystyle \\mathit{B1}_{\\mathit{zl}} = \\mathit{A1}_{z} e^{\\left(i \\, K_{\\mathit{vacuum}} a\\right)} + \\mathit{A2}_{z} e^{\\left(-i \\, K_{\\mathit{vacuum}} a\\right)}$"
      ],
      "text/plain": [
       "<IPython.core.display.Math object>"
      ]
     },
     "metadata": {},
     "output_type": "display_data"
    },
    {
     "name": "stdout",
     "output_type": "stream",
     "text": [
      "eqEy_l = \n"
     ]
    },
    {
     "data": {
      "text/latex": [
       "$\\displaystyle \\mathit{B1}_{\\mathit{yl}} = \\mathit{A1}_{y} e^{\\left(i \\, K_{\\mathit{vacuum}} a\\right)} + \\mathit{A2}_{y} e^{\\left(-i \\, K_{\\mathit{vacuum}} a\\right)}$"
      ],
      "text/plain": [
       "<IPython.core.display.Math object>"
      ]
     },
     "metadata": {},
     "output_type": "display_data"
    }
   ],
   "source": [
    "# граничные условия на границе вакуума внутри резонатора и проводящего металла с потерями\n",
    "# тангенциальная компонента электрического поля\n",
    "eqEz_l = E_left_conductor_sol_z(-a) == E_inner_vacuum_sol_z(-a)\n",
    "eqEy_l = E_left_conductor_sol_y(-a) == E_inner_vacuum_sol_y(-a)\n",
    "\n",
    "print (\"eqEz_l = \")\n",
    "display(Math(latex(eqEz_l)))\n",
    "print (\"eqEy_l = \")\n",
    "display(Math(latex(eqEy_l)))"
   ]
  },
  {
   "cell_type": "raw",
   "metadata": {},
   "source": [
    "# нормальная компонента электрического смещения\n",
    "eqDx_a = E_inner_vacuum_sol_x(0) == E_bad_conductor_sol_x(0) * epsilon_complex\n",
    "\n",
    "print (\"eqDx_a =\")\n",
    "display(Math(latex(eqDx_a)))"
   ]
  },
  {
   "cell_type": "code",
   "execution_count": 32,
   "metadata": {},
   "outputs": [
    {
     "name": "stdout",
     "output_type": "stream",
     "text": [
      "eqDx__l =\n"
     ]
    },
    {
     "data": {
      "text/latex": [
       "$\\displaystyle \\mathit{A1}_{x} e^{\\left(i \\, K_{\\mathit{vacuum}} a\\right)} + \\mathit{A2}_{x} e^{\\left(-i \\, K_{\\mathit{vacuum}} a\\right)} = \\mathit{B1}_{\\mathit{xl}} {\\left(\\epsilon_{l} + \\frac{4 i \\, \\pi \\sigma_{l}}{\\omega}\\right)}$"
      ],
      "text/plain": [
       "<IPython.core.display.Math object>"
      ]
     },
     "metadata": {},
     "output_type": "display_data"
    }
   ],
   "source": [
    "# нормальная компонента электрического смещения\n",
    "eqDx__l = E_inner_vacuum_sol_x(-a) == E_left_conductor_sol_x(-a) * epsilon_l_complex\n",
    "\n",
    "print (\"eqDx__l =\")\n",
    "display(Math(latex(eqDx__l)))"
   ]
  },
  {
   "cell_type": "code",
   "execution_count": 33,
   "metadata": {},
   "outputs": [
    {
     "name": "stdout",
     "output_type": "stream",
     "text": [
      "eqDx__r =\n"
     ]
    },
    {
     "data": {
      "text/latex": [
       "$\\displaystyle \\mathit{A2}_{x} e^{\\left(i \\, K_{\\mathit{vacuum}} a\\right)} + \\mathit{A1}_{x} e^{\\left(-i \\, K_{\\mathit{vacuum}} a\\right)} = \\mathit{B1}_{\\mathit{xr}} {\\left(\\epsilon_{r} + \\frac{4 i \\, \\pi \\sigma_{r}}{\\omega}\\right)}$"
      ],
      "text/plain": [
       "<IPython.core.display.Math object>"
      ]
     },
     "metadata": {},
     "output_type": "display_data"
    }
   ],
   "source": [
    "# нормальная компонента электрического смещения\n",
    "eqDx__r = E_inner_vacuum_sol_x(a) == E_right_conductor_sol_x(a) * epsilon_r_complex\n",
    "\n",
    "print (\"eqDx__r =\")\n",
    "display(Math(latex(eqDx__r)))"
   ]
  },
  {
   "cell_type": "code",
   "execution_count": 34,
   "metadata": {},
   "outputs": [
    {
     "name": "stdout",
     "output_type": "stream",
     "text": [
      "eqHz_l =\n"
     ]
    },
    {
     "data": {
      "text/latex": [
       "$\\displaystyle -\\frac{i \\, {\\left(-i \\, \\mathit{B1}_{\\mathit{yl}} K_{\\mathit{left}_{\\mathit{conductor}}} - i \\, \\mathit{B1}_{\\mathit{xl}} k_{y}\\right)} c}{\\mu_{l} \\omega} = -\\frac{i \\, {\\left(-i \\, \\mathit{A1}_{y} K_{\\mathit{vacuum}} e^{\\left(i \\, K_{\\mathit{vacuum}} a\\right)} + i \\, \\mathit{A2}_{y} K_{\\mathit{vacuum}} e^{\\left(-i \\, K_{\\mathit{vacuum}} a\\right)} - i \\, {\\left(\\mathit{A1}_{x} e^{\\left(i \\, K_{\\mathit{vacuum}} a\\right)} + \\mathit{A2}_{x} e^{\\left(-i \\, K_{\\mathit{vacuum}} a\\right)}\\right)} k_{y}\\right)} c}{\\omega}$"
      ],
      "text/plain": [
       "<IPython.core.display.Math object>"
      ]
     },
     "metadata": {},
     "output_type": "display_data"
    },
    {
     "name": "stdout",
     "output_type": "stream",
     "text": [
      "eqHy_l =\n"
     ]
    },
    {
     "data": {
      "text/latex": [
       "$\\displaystyle -\\frac{i \\, {\\left(i \\, \\mathit{B1}_{\\mathit{zl}} K_{\\mathit{left}_{\\mathit{conductor}}} + i \\, \\mathit{B1}_{\\mathit{xl}} k_{z}\\right)} c}{\\mu_{l} \\omega} = -\\frac{i \\, {\\left(i \\, \\mathit{A1}_{z} K_{\\mathit{vacuum}} e^{\\left(i \\, K_{\\mathit{vacuum}} a\\right)} - i \\, \\mathit{A2}_{z} K_{\\mathit{vacuum}} e^{\\left(-i \\, K_{\\mathit{vacuum}} a\\right)} + i \\, {\\left(\\mathit{A1}_{x} e^{\\left(i \\, K_{\\mathit{vacuum}} a\\right)} + \\mathit{A2}_{x} e^{\\left(-i \\, K_{\\mathit{vacuum}} a\\right)}\\right)} k_{z}\\right)} c}{\\omega}$"
      ],
      "text/plain": [
       "<IPython.core.display.Math object>"
      ]
     },
     "metadata": {},
     "output_type": "display_data"
    }
   ],
   "source": [
    "# тангенциальная компонента напряженности магнитного поля\n",
    "eqHz_l  = (H_left_conductor_sol_z(-a)  == H_inner_vacuum_sol_z(-a))\n",
    "eqHy_l  = (H_left_conductor_sol_y(-a)  == H_inner_vacuum_sol_y(-a))\n",
    "\n",
    "print (\"eqHz_l =\")\n",
    "display(Math(latex(eqHz_l)))\n",
    "print (\"eqHy_l =\")\n",
    "display(Math(latex(eqHy_l)))"
   ]
  },
  {
   "cell_type": "code",
   "execution_count": 35,
   "metadata": {},
   "outputs": [
    {
     "name": "stdout",
     "output_type": "stream",
     "text": [
      "eqHz_r =\n"
     ]
    },
    {
     "data": {
      "text/latex": [
       "$\\displaystyle -\\frac{i \\, {\\left(i \\, \\mathit{B1}_{\\mathit{yr}} K_{\\mathit{right}_{\\mathit{conductor}}} - i \\, \\mathit{B1}_{\\mathit{xr}} k_{y}\\right)} c}{\\mu_{r} \\omega} = -\\frac{i \\, {\\left(i \\, \\mathit{A2}_{y} K_{\\mathit{vacuum}} e^{\\left(i \\, K_{\\mathit{vacuum}} a\\right)} - i \\, \\mathit{A1}_{y} K_{\\mathit{vacuum}} e^{\\left(-i \\, K_{\\mathit{vacuum}} a\\right)} - i \\, {\\left(\\mathit{A2}_{x} e^{\\left(i \\, K_{\\mathit{vacuum}} a\\right)} + \\mathit{A1}_{x} e^{\\left(-i \\, K_{\\mathit{vacuum}} a\\right)}\\right)} k_{y}\\right)} c}{\\omega}$"
      ],
      "text/plain": [
       "<IPython.core.display.Math object>"
      ]
     },
     "metadata": {},
     "output_type": "display_data"
    },
    {
     "name": "stdout",
     "output_type": "stream",
     "text": [
      "eqHy_r =\n"
     ]
    },
    {
     "data": {
      "text/latex": [
       "$\\displaystyle -\\frac{i \\, {\\left(-i \\, \\mathit{B1}_{\\mathit{zr}} K_{\\mathit{right}_{\\mathit{conductor}}} + i \\, \\mathit{B1}_{\\mathit{xr}} k_{z}\\right)} c}{\\mu_{r} \\omega} = -\\frac{i \\, {\\left(-i \\, \\mathit{A2}_{z} K_{\\mathit{vacuum}} e^{\\left(i \\, K_{\\mathit{vacuum}} a\\right)} + i \\, \\mathit{A1}_{z} K_{\\mathit{vacuum}} e^{\\left(-i \\, K_{\\mathit{vacuum}} a\\right)} + i \\, {\\left(\\mathit{A2}_{x} e^{\\left(i \\, K_{\\mathit{vacuum}} a\\right)} + \\mathit{A1}_{x} e^{\\left(-i \\, K_{\\mathit{vacuum}} a\\right)}\\right)} k_{z}\\right)} c}{\\omega}$"
      ],
      "text/plain": [
       "<IPython.core.display.Math object>"
      ]
     },
     "metadata": {},
     "output_type": "display_data"
    }
   ],
   "source": [
    "# тангенциальная компонента напряженности магнитного поля\n",
    "eqHz_r  = (H_right_conductor_sol_z(a)  == H_inner_vacuum_sol_z(a))\n",
    "eqHy_r  = (H_right_conductor_sol_y(a)  == H_inner_vacuum_sol_y(a))\n",
    "\n",
    "print (\"eqHz_r =\")\n",
    "display(Math(latex(eqHz_r)))\n",
    "print (\"eqHy_r =\")\n",
    "display(Math(latex(eqHy_r)))"
   ]
  },
  {
   "cell_type": "code",
   "execution_count": 36,
   "metadata": {},
   "outputs": [
    {
     "data": {
      "text/plain": [
       "[k_y == 0]"
      ]
     },
     "execution_count": 36,
     "metadata": {},
     "output_type": "execute_result"
    }
   ],
   "source": [
    "# отсутсвие изменения поля вдоль оси y\n",
    "k_y0_subs = [k_y == 0]\n",
    "\n",
    "#            A1_y_im == 0, \\\n",
    "#            A1_y_re == 0, \\\n",
    "#            A2_y_im == 0, \\\n",
    "#            A2_y_re == 0]\n",
    "k_y0_subs"
   ]
  },
  {
   "cell_type": "code",
   "execution_count": 37,
   "metadata": {},
   "outputs": [
    {
     "name": "stdout",
     "output_type": "stream",
     "text": [
      "eqBx_l =\n"
     ]
    },
    {
     "data": {
      "text/latex": [
       "$\\displaystyle -\\frac{i \\, {\\left(i \\, \\mathit{B1}_{\\mathit{zl}} k_{y} - i \\, \\mathit{B1}_{\\mathit{yl}} k_{z}\\right)} c}{\\omega} = -\\frac{i \\, {\\left(i \\, {\\left(\\mathit{A1}_{z} e^{\\left(i \\, K_{\\mathit{vacuum}} a\\right)} + \\mathit{A2}_{z} e^{\\left(-i \\, K_{\\mathit{vacuum}} a\\right)}\\right)} k_{y} - i \\, {\\left(\\mathit{A1}_{y} e^{\\left(i \\, K_{\\mathit{vacuum}} a\\right)} + \\mathit{A2}_{y} e^{\\left(-i \\, K_{\\mathit{vacuum}} a\\right)}\\right)} k_{z}\\right)} c}{\\omega}$"
      ],
      "text/plain": [
       "<IPython.core.display.Math object>"
      ]
     },
     "metadata": {},
     "output_type": "display_data"
    }
   ],
   "source": [
    "# нормальная компонента индукции магнитного поля\n",
    "eqBx_l  = mu_l * H_left_conductor_sol_x (-a)  == H_inner_vacuum_sol_x (-a)\n",
    "\n",
    "print (\"eqBx_l =\")\n",
    "display(Math(latex(eqBx_l)))"
   ]
  },
  {
   "cell_type": "code",
   "execution_count": 38,
   "metadata": {},
   "outputs": [
    {
     "name": "stdout",
     "output_type": "stream",
     "text": [
      "eqBx_l =\n"
     ]
    },
    {
     "data": {
      "text/latex": [
       "$\\displaystyle -\\frac{\\mathit{B1}_{\\mathit{yl}} c k_{z}}{\\omega} = -\\frac{{\\left(\\mathit{A1}_{y} e^{\\left(i \\, K_{\\mathit{vacuum}} a\\right)} + \\mathit{A2}_{y} e^{\\left(-i \\, K_{\\mathit{vacuum}} a\\right)}\\right)} c k_{z}}{\\omega}$"
      ],
      "text/plain": [
       "<IPython.core.display.Math object>"
      ]
     },
     "metadata": {},
     "output_type": "display_data"
    }
   ],
   "source": [
    "# отсутствие изменения поля вдоль оси y\n",
    "eqBx_l  = eqBx_l.subs(k_y0_subs)\n",
    "\n",
    "print (\"eqBx_l =\")\n",
    "display(Math(latex(eqBx_l)))"
   ]
  },
  {
   "cell_type": "code",
   "execution_count": 39,
   "metadata": {},
   "outputs": [
    {
     "name": "stdout",
     "output_type": "stream",
     "text": [
      "eqBx_r =\n"
     ]
    },
    {
     "data": {
      "text/latex": [
       "$\\displaystyle -\\frac{i \\, {\\left(i \\, \\mathit{B1}_{\\mathit{zr}} k_{y} - i \\, \\mathit{B1}_{\\mathit{yr}} k_{z}\\right)} c}{\\omega} = -\\frac{i \\, {\\left(i \\, {\\left(\\mathit{A2}_{z} e^{\\left(i \\, K_{\\mathit{vacuum}} a\\right)} + \\mathit{A1}_{z} e^{\\left(-i \\, K_{\\mathit{vacuum}} a\\right)}\\right)} k_{y} - i \\, {\\left(\\mathit{A2}_{y} e^{\\left(i \\, K_{\\mathit{vacuum}} a\\right)} + \\mathit{A1}_{y} e^{\\left(-i \\, K_{\\mathit{vacuum}} a\\right)}\\right)} k_{z}\\right)} c}{\\omega}$"
      ],
      "text/plain": [
       "<IPython.core.display.Math object>"
      ]
     },
     "metadata": {},
     "output_type": "display_data"
    }
   ],
   "source": [
    "# нормальная компонента индукции магнитного поля\n",
    "eqBx_r  = mu_r * H_right_conductor_sol_x (a)  == H_inner_vacuum_sol_x (a)\n",
    "\n",
    "print (\"eqBx_r =\")\n",
    "display(Math(latex(eqBx_r)))"
   ]
  },
  {
   "cell_type": "code",
   "execution_count": 40,
   "metadata": {},
   "outputs": [
    {
     "name": "stdout",
     "output_type": "stream",
     "text": [
      "eqBx_r =\n"
     ]
    },
    {
     "data": {
      "text/latex": [
       "$\\displaystyle -\\frac{\\mathit{B1}_{\\mathit{yr}} c k_{z}}{\\omega} = -\\frac{{\\left(\\mathit{A2}_{y} e^{\\left(i \\, K_{\\mathit{vacuum}} a\\right)} + \\mathit{A1}_{y} e^{\\left(-i \\, K_{\\mathit{vacuum}} a\\right)}\\right)} c k_{z}}{\\omega}$"
      ],
      "text/plain": [
       "<IPython.core.display.Math object>"
      ]
     },
     "metadata": {},
     "output_type": "display_data"
    }
   ],
   "source": [
    "# отсутствие изменения поля вдоль оси y\n",
    "eqBx_r  = eqBx_r.subs(k_y0_subs)\n",
    "\n",
    "print (\"eqBx_r =\")\n",
    "display(Math(latex(eqBx_r)))"
   ]
  },
  {
   "cell_type": "markdown",
   "metadata": {},
   "source": [
    "$$rot\\,\\vec{H} = \\frac{1}{c}\\frac{\\partial \\vec E}{\\partial t} = - \\frac{i\\,\\omega}{c} \\vec{E} = - i\\,\\kappa \\vec{E}$$"
   ]
  },
  {
   "cell_type": "code",
   "execution_count": 41,
   "metadata": {},
   "outputs": [
    {
     "data": {
      "text/latex": [
       "$\\displaystyle i \\, k_{z} H_{{\\rm inner}_{{\\rm vacuum}_{f_{x}}}}\\left(x\\right) - \\frac{\\partial}{\\partial x}H_{{\\rm inner}_{{\\rm vacuum}_{f_{z}}}}\\left(x\\right) = -\\frac{i \\, \\omega E_{{\\rm inner}_{{\\rm vacuum}_{y}}}\\left(x\\right)}{c}$"
      ],
      "text/plain": [
       "<IPython.core.display.Math object>"
      ]
     },
     "metadata": {},
     "output_type": "display_data"
    },
    {
     "data": {
      "text/latex": [
       "$\\displaystyle \\kappa_{\\mathit{vacuum}} E_{{\\rm inner}_{{\\rm vacuum}_{y}}}\\left(x\\right) = -k_{z} H_{{\\rm inner}_{{\\rm vacuum}_{f_{x}}}}\\left(x\\right) - i \\, \\frac{\\partial}{\\partial x}H_{{\\rm inner}_{{\\rm vacuum}_{f_{z}}}}\\left(x\\right)$"
      ],
      "text/plain": [
       "<IPython.core.display.Math object>"
      ]
     },
     "metadata": {},
     "output_type": "display_data"
    },
    {
     "data": {
      "text/latex": [
       "$\\displaystyle H_{{\\rm inner}_{{\\rm vacuum}_{f_{x}}}}\\left(x\\right) = -\\frac{i \\, {\\left(-i \\, k_{z} E_{{\\rm inner}_{{\\rm vacuum}_{y}}}\\left(x\\right) + i \\, k_{y} E_{{\\rm inner}_{{\\rm vacuum}_{z}}}\\left(x\\right)\\right)} c}{\\omega}$"
      ],
      "text/plain": [
       "<IPython.core.display.Math object>"
      ]
     },
     "metadata": {},
     "output_type": "display_data"
    }
   ],
   "source": [
    "eq_rot_H_inner_vacuum_y_subs       = eq_rot_H_inner_vacuum_y.subs(omega==c*kappa_vacuum/sqrt(epsilon_0*mu_0))\n",
    "display(Math(latex(eq_rot_H_inner_vacuum_y)))\n",
    "\n",
    "eq_rot_H_inner_vacuum_y_subs_solve = solve(eq_rot_H_inner_vacuum_y_subs, E_inner_vacuum_y(x))[0] * kappa_vacuum\n",
    "display(Math(latex(eq_rot_H_inner_vacuum_y_subs_solve)))\n",
    "\n",
    "eq_rot_E_inner_vacuum_x = H_inner_vacuum_f_x(x) == H_inner_vacuum_s_x(x)\n",
    "display(Math(latex(eq_rot_E_inner_vacuum_x)))"
   ]
  },
  {
   "cell_type": "markdown",
   "metadata": {},
   "source": [
    "$$rot\\,\\vec{E} = \\mu\\,\\frac{i\\,\\omega}{c}\\,\\vec{H}$$"
   ]
  },
  {
   "cell_type": "code",
   "execution_count": 42,
   "metadata": {},
   "outputs": [
    {
     "data": {
      "text/latex": [
       "$\\displaystyle \\kappa_{\\mathit{vacuum}} H_{{\\rm inner}_{{\\rm vacuum}_{f_{x}}}}\\left(x\\right) = -k_{z} E_{{\\rm inner}_{{\\rm vacuum}_{y}}}\\left(x\\right) + k_{y} E_{{\\rm inner}_{{\\rm vacuum}_{z}}}\\left(x\\right)$"
      ],
      "text/plain": [
       "<IPython.core.display.Math object>"
      ]
     },
     "metadata": {},
     "output_type": "display_data"
    }
   ],
   "source": [
    "eq_rot_E_inner_vacuum_x_subs \\\n",
    "    = eq_rot_E_inner_vacuum_x.subs(omega==c*kappa_vacuum/sqrt(epsilon_0*mu_0)) * kappa_vacuum\n",
    "display(Math(latex(eq_rot_E_inner_vacuum_x_subs)))"
   ]
  },
  {
   "cell_type": "code",
   "execution_count": 43,
   "metadata": {},
   "outputs": [
    {
     "data": {
      "text/latex": [
       "$\\displaystyle \\kappa_{\\mathit{vacuum}} E_{{\\rm inner}_{{\\rm vacuum}_{y}}}\\left(x\\right) + k_{z} H_{{\\rm inner}_{{\\rm vacuum}_{f_{x}}}}\\left(x\\right) = -i \\, \\frac{\\partial}{\\partial x}H_{{\\rm inner}_{{\\rm vacuum}_{f_{z}}}}\\left(x\\right)$"
      ],
      "text/plain": [
       "<IPython.core.display.Math object>"
      ]
     },
     "metadata": {},
     "output_type": "display_data"
    }
   ],
   "source": [
    "eq_rot_H_inner_vacuum_y_subs_solve_m \\\n",
    "    =  eq_rot_H_inner_vacuum_y_subs_solve.lhs() \\\n",
    "    -  eq_rot_H_inner_vacuum_y_subs_solve.rhs().expand().operands()[0] \\\n",
    "    == eq_rot_H_inner_vacuum_y_subs_solve.rhs().expand().operands()[1]\n",
    "display(Math(latex(eq_rot_H_inner_vacuum_y_subs_solve_m)))"
   ]
  },
  {
   "cell_type": "code",
   "execution_count": 44,
   "metadata": {},
   "outputs": [
    {
     "data": {
      "text/latex": [
       "$\\displaystyle k_{z} E_{{\\rm inner}_{{\\rm vacuum}_{y}}}\\left(x\\right) + \\kappa_{\\mathit{vacuum}} H_{{\\rm inner}_{{\\rm vacuum}_{f_{x}}}}\\left(x\\right) = k_{y} E_{{\\rm inner}_{{\\rm vacuum}_{z}}}\\left(x\\right)$"
      ],
      "text/plain": [
       "<IPython.core.display.Math object>"
      ]
     },
     "metadata": {},
     "output_type": "display_data"
    }
   ],
   "source": [
    "eq_rot_E_inner_vacuum_x_subs_m \\\n",
    "    =  eq_rot_E_inner_vacuum_x_subs.lhs() \\\n",
    "    -  eq_rot_E_inner_vacuum_x_subs.rhs().expand().operands()[0] \\\n",
    "    == eq_rot_E_inner_vacuum_x_subs.rhs().expand().operands()[1]\n",
    "display(Math(latex(eq_rot_E_inner_vacuum_x_subs_m)))"
   ]
  },
  {
   "cell_type": "code",
   "execution_count": 45,
   "metadata": {},
   "outputs": [
    {
     "name": "stdout",
     "output_type": "stream",
     "text": [
      "eq_1 =\n"
     ]
    },
    {
     "data": {
      "text/latex": [
       "$\\displaystyle -{\\left(k_{z}^{2} - \\kappa_{\\mathit{vacuum}}^{2}\\right)} E_{{\\rm inner}_{{\\rm vacuum}_{y}}}\\left(x\\right) = -k_{y} k_{z} E_{{\\rm inner}_{{\\rm vacuum}_{z}}}\\left(x\\right) - i \\, \\kappa_{\\mathit{vacuum}} \\frac{\\partial}{\\partial x}H_{{\\rm inner}_{{\\rm vacuum}_{f_{z}}}}\\left(x\\right)$"
      ],
      "text/plain": [
       "<IPython.core.display.Math object>"
      ]
     },
     "metadata": {},
     "output_type": "display_data"
    },
    {
     "name": "stdout",
     "output_type": "stream",
     "text": [
      "eq_2 =\n"
     ]
    },
    {
     "data": {
      "text/latex": [
       "$\\displaystyle {\\left(k_{z}^{2} - \\kappa_{\\mathit{vacuum}}^{2}\\right)} H_{{\\rm inner}_{{\\rm vacuum}_{f_{x}}}}\\left(x\\right) = -k_{y} \\kappa_{\\mathit{vacuum}} E_{{\\rm inner}_{{\\rm vacuum}_{z}}}\\left(x\\right) - i \\, k_{z} \\frac{\\partial}{\\partial x}H_{{\\rm inner}_{{\\rm vacuum}_{f_{z}}}}\\left(x\\right)$"
      ],
      "text/plain": [
       "<IPython.core.display.Math object>"
      ]
     },
     "metadata": {},
     "output_type": "display_data"
    }
   ],
   "source": [
    "eq_1 = (eq_rot_H_inner_vacuum_y_subs_solve_m*kappa_vacuum - eq_rot_E_inner_vacuum_x_subs_m*k_z).full_simplify()\n",
    "print (\"eq_1 =\")\n",
    "display(Math(latex(eq_1)))\n",
    "\n",
    "eq_2 = (eq_rot_H_inner_vacuum_y_subs_solve_m*k_z - eq_rot_E_inner_vacuum_x_subs_m*kappa_vacuum).full_simplify()\n",
    "print (\"eq_2 =\")\n",
    "display(Math(latex(eq_2)))"
   ]
  },
  {
   "cell_type": "raw",
   "metadata": {},
   "source": [
    "eq_rot_H_bad_conductor_y_subs       = eq_rot_H_bad_conductor_y.subs(omega==c*kappa/sqrt(epsilon*mu))\n",
    "print (\"eq_rot_H_bad_conductor_y rot_H = epsilon*d/dt(E_y) =\")\n",
    "print(eq_rot_H_bad_conductor_y)\n",
    "display(Math(latex(eq_rot_H_bad_conductor_y)))\n",
    "\n",
    "eq_rot_H_bad_conductor_y_subs_solve = solve(eq_rot_H_bad_conductor_y_subs, E_bad_conductor_y(x))[0] * kappa\n",
    "print (\"eq_rot_H_bad_conductor_y_subs_solve rot H = epsilon*d/dt(E_y) =\")\n",
    "print(eq_rot_H_bad_conductor_y_subs_solve)\n",
    "display(Math(latex(eq_rot_H_bad_conductor_y_subs_solve)))\n",
    "\n",
    "eq_rot_E_bad_conductor_x = H_bad_conductor_f_x(x) == H_bad_conductor_s_x(x)\n",
    "eq_rot_E_bad_conductor_x_subs = eq_rot_E_bad_conductor_x.subs(omega==c*kappa/sqrt(epsilon*mu)) * kappa\n",
    "print (\"eq_rot_E_bad_conductor_x_subs (x) rot E =\")\n",
    "print             (eq_rot_E_bad_conductor_x_subs)\n",
    "display(Math(latex(eq_rot_E_bad_conductor_x_subs)))\n",
    "\n",
    "eq_rot_H_bad_conductor_y_subs_solve_m \\\n",
    "    =  eq_rot_H_bad_conductor_y_subs_solve.lhs() \\\n",
    "    -  eq_rot_H_bad_conductor_y_subs_solve.rhs().expand().operands()[0] \\\n",
    "    == eq_rot_H_bad_conductor_y_subs_solve.rhs().expand().operands()[1]\n",
    "print (\"eq_rot_H_bad_conductor_y_subs_solve_m =\")\n",
    "print             (eq_rot_H_bad_conductor_y_subs_solve_m)\n",
    "display(Math(latex(eq_rot_H_bad_conductor_y_subs_solve_m)))\n",
    "\n",
    "eq_rot_E_bad_conductor_x_subs_m \\\n",
    "    =  eq_rot_E_bad_conductor_x_subs.lhs() \\\n",
    "    -  eq_rot_E_bad_conductor_x_subs.rhs().expand().operands()[0] \\\n",
    "    == eq_rot_E_bad_conductor_x_subs.rhs().expand().operands()[1]\n",
    "print (\"eq_rot_E_bad_conductor_x_subs_m =\")\n",
    "print             (eq_rot_E_bad_conductor_x_subs_m)\n",
    "display(Math(latex(eq_rot_E_bad_conductor_x_subs_m)))\n",
    "\n",
    "m3 = k_z*sqrt(mu)/sqrt(epsilon)\n",
    "m4 = sqrt(mu)*kappa/sqrt(epsilon)\n",
    "\n",
    "eq_3 = (eq_rot_H_bad_conductor_y_subs_solve_m*kappa - eq_rot_E_bad_conductor_x_subs_m * m3).full_simplify()\n",
    "print (\"eq_3 =\")\n",
    "print             (eq_3)\n",
    "display(Math(latex(eq_3)))\n",
    "\n",
    "eq_4 = (eq_rot_H_bad_conductor_y_subs_solve_m*k_z - eq_rot_E_bad_conductor_x_subs_m * m4).full_simplify()\n",
    "print (\"eq_4 =\")\n",
    "print             (eq_4)\n",
    "display(Math(latex(eq_4)))"
   ]
  },
  {
   "cell_type": "code",
   "execution_count": null,
   "metadata": {},
   "outputs": [],
   "source": []
  },
  {
   "cell_type": "code",
   "execution_count": 46,
   "metadata": {},
   "outputs": [
    {
     "data": {
      "text/latex": [
       "$\\displaystyle -i \\, k_{z} H_{{\\rm inner}_{{\\rm vacuum}_{f_{y}}}}\\left(x\\right) + i \\, k_{y} H_{{\\rm inner}_{{\\rm vacuum}_{f_{z}}}}\\left(x\\right) = -\\frac{i \\, \\omega E_{{\\rm inner}_{{\\rm vacuum}_{x}}}\\left(x\\right)}{c}$"
      ],
      "text/plain": [
       "<IPython.core.display.Math object>"
      ]
     },
     "metadata": {},
     "output_type": "display_data"
    },
    {
     "data": {
      "text/latex": [
       "$\\displaystyle \\kappa_{\\mathit{vacuum}} E_{{\\rm inner}_{{\\rm vacuum}_{x}}}\\left(x\\right) = k_{z} H_{{\\rm inner}_{{\\rm vacuum}_{f_{y}}}}\\left(x\\right) - k_{y} H_{{\\rm inner}_{{\\rm vacuum}_{f_{z}}}}\\left(x\\right)$"
      ],
      "text/plain": [
       "<IPython.core.display.Math object>"
      ]
     },
     "metadata": {},
     "output_type": "display_data"
    },
    {
     "data": {
      "text/latex": [
       "$\\displaystyle H_{{\\rm inner}_{{\\rm vacuum}_{f_{y}}}}\\left(x\\right) = -\\frac{i \\, {\\left(i \\, k_{z} E_{{\\rm inner}_{{\\rm vacuum}_{x}}}\\left(x\\right) - \\frac{\\partial}{\\partial x}E_{{\\rm inner}_{{\\rm vacuum}_{z}}}\\left(x\\right)\\right)} c}{\\omega}$"
      ],
      "text/plain": [
       "<IPython.core.display.Math object>"
      ]
     },
     "metadata": {},
     "output_type": "display_data"
    },
    {
     "data": {
      "text/latex": [
       "$\\displaystyle \\kappa_{\\mathit{vacuum}} H_{{\\rm inner}_{{\\rm vacuum}_{f_{y}}}}\\left(x\\right) = k_{z} E_{{\\rm inner}_{{\\rm vacuum}_{x}}}\\left(x\\right) + i \\, \\frac{\\partial}{\\partial x}E_{{\\rm inner}_{{\\rm vacuum}_{z}}}\\left(x\\right)$"
      ],
      "text/plain": [
       "<IPython.core.display.Math object>"
      ]
     },
     "metadata": {},
     "output_type": "display_data"
    },
    {
     "data": {
      "text/latex": [
       "$\\displaystyle \\kappa_{\\mathit{vacuum}} E_{{\\rm inner}_{{\\rm vacuum}_{x}}}\\left(x\\right) - k_{z} H_{{\\rm inner}_{{\\rm vacuum}_{f_{y}}}}\\left(x\\right) = -k_{y} H_{{\\rm inner}_{{\\rm vacuum}_{f_{z}}}}\\left(x\\right)$"
      ],
      "text/plain": [
       "<IPython.core.display.Math object>"
      ]
     },
     "metadata": {},
     "output_type": "display_data"
    },
    {
     "data": {
      "text/latex": [
       "$\\displaystyle -k_{z} E_{{\\rm inner}_{{\\rm vacuum}_{x}}}\\left(x\\right) + \\kappa_{\\mathit{vacuum}} H_{{\\rm inner}_{{\\rm vacuum}_{f_{y}}}}\\left(x\\right) = i \\, \\frac{\\partial}{\\partial x}E_{{\\rm inner}_{{\\rm vacuum}_{z}}}\\left(x\\right)$"
      ],
      "text/plain": [
       "<IPython.core.display.Math object>"
      ]
     },
     "metadata": {},
     "output_type": "display_data"
    },
    {
     "data": {
      "text/latex": [
       "$\\displaystyle -{\\left(k_{z}^{2} - \\kappa_{\\mathit{vacuum}}^{2}\\right)} E_{{\\rm inner}_{{\\rm vacuum}_{x}}}\\left(x\\right) = -k_{y} \\kappa_{\\mathit{vacuum}} H_{{\\rm inner}_{{\\rm vacuum}_{f_{z}}}}\\left(x\\right) + i \\, k_{z} \\frac{\\partial}{\\partial x}E_{{\\rm inner}_{{\\rm vacuum}_{z}}}\\left(x\\right)$"
      ],
      "text/plain": [
       "<IPython.core.display.Math object>"
      ]
     },
     "metadata": {},
     "output_type": "display_data"
    },
    {
     "data": {
      "text/latex": [
       "$\\displaystyle -{\\left(k_{z}^{2} - \\kappa_{\\mathit{vacuum}}^{2}\\right)} H_{{\\rm inner}_{{\\rm vacuum}_{f_{y}}}}\\left(x\\right) = -k_{y} k_{z} H_{{\\rm inner}_{{\\rm vacuum}_{f_{z}}}}\\left(x\\right) + i \\, \\kappa_{\\mathit{vacuum}} \\frac{\\partial}{\\partial x}E_{{\\rm inner}_{{\\rm vacuum}_{z}}}\\left(x\\right)$"
      ],
      "text/plain": [
       "<IPython.core.display.Math object>"
      ]
     },
     "metadata": {},
     "output_type": "display_data"
    }
   ],
   "source": [
    "eq_rot_H_inner_vacuum_x_subs       = eq_rot_H_inner_vacuum_x.subs(omega==c*kappa_vacuum/sqrt(epsilon_0*mu_0))\n",
    "display(Math(latex(eq_rot_H_inner_vacuum_x)))\n",
    "\n",
    "eq_rot_H_inner_vacuum_x_subs_solve = solve(eq_rot_H_inner_vacuum_x_subs, E_inner_vacuum_x(x))[0] * kappa_vacuum\n",
    "display(Math(latex(eq_rot_H_inner_vacuum_x_subs_solve)))\n",
    "\n",
    "eq_rot_E_inner_vacuum_y = H_inner_vacuum_f_y(x) == H_inner_vacuum_s_y(x)\n",
    "display(Math(latex(eq_rot_E_inner_vacuum_y)))\n",
    "\n",
    "eq_rot_E_inner_vacuum_y_subs = eq_rot_E_inner_vacuum_y.subs(omega==c*kappa_vacuum/sqrt(epsilon_0*mu_0)) * kappa_vacuum\n",
    "display(Math(latex(eq_rot_E_inner_vacuum_y_subs)))\n",
    "\n",
    "eq_rot_H_inner_vacuum_x_subs_solve_m \\\n",
    "    =  eq_rot_H_inner_vacuum_x_subs_solve.lhs() \\\n",
    "    -  eq_rot_H_inner_vacuum_x_subs_solve.rhs().expand().operands()[0] \\\n",
    "    == eq_rot_H_inner_vacuum_x_subs_solve.rhs().expand().operands()[1]\n",
    "display(Math(latex(eq_rot_H_inner_vacuum_x_subs_solve_m)))\n",
    "\n",
    "eq_rot_E_inner_vacuum_y_subs_m \\\n",
    "    =  eq_rot_E_inner_vacuum_y_subs.lhs() \\\n",
    "    -  eq_rot_E_inner_vacuum_y_subs.rhs().expand().operands()[0] \\\n",
    "    == eq_rot_E_inner_vacuum_y_subs.rhs().expand().operands()[1]\n",
    "display(Math(latex(eq_rot_E_inner_vacuum_y_subs_m)))\n",
    "\n",
    "# складываем два предыдущих уравения между собой предварительно перемножив каждое уравнение на множитель\n",
    "# позволяющий в левой части сократить компоненту магнитного или электрического поля\n",
    "# таким образом получаем два уравнения для оставшихся нескоращённых компонент электрического и магнитного поля\n",
    "eq_5_Ex = (eq_rot_H_inner_vacuum_x_subs_solve_m*kappa_vacuum + eq_rot_E_inner_vacuum_y_subs_m*k_z).full_simplify()\n",
    "display(Math(latex(eq_5_Ex)))\n",
    "\n",
    "eq_6_Hy = (eq_rot_H_inner_vacuum_x_subs_solve_m*k_z + eq_rot_E_inner_vacuum_y_subs_m*kappa_vacuum).full_simplify()\n",
    "display(Math(latex(eq_6_Hy)))"
   ]
  },
  {
   "cell_type": "code",
   "execution_count": 47,
   "metadata": {},
   "outputs": [
    {
     "name": "stdout",
     "output_type": "stream",
     "text": [
      "eq_rot_H_left_conductor_x rot_H = epsilon_l*d/dt(E_x) =\n"
     ]
    },
    {
     "data": {
      "text/latex": [
       "$\\displaystyle -i \\, k_{z} H_{{\\rm left}_{{\\rm conductor}_{f_{y}}}}\\left(x\\right) + i \\, k_{y} H_{{\\rm left}_{{\\rm conductor}_{f_{z}}}}\\left(x\\right) = -\\frac{i \\, {\\left(\\epsilon_{l} + \\frac{4 i \\, \\pi \\sigma_{l}}{\\omega}\\right)} \\omega E_{{\\rm left}_{{\\rm conductor}_{x}}}\\left(x\\right)}{c}$"
      ],
      "text/plain": [
       "<IPython.core.display.Math object>"
      ]
     },
     "metadata": {},
     "output_type": "display_data"
    },
    {
     "name": "stdout",
     "output_type": "stream",
     "text": [
      "eq_rot_H_left_conductor_x_subs rot_H = epsilon_l*d/dt(E_x) =\n"
     ]
    },
    {
     "data": {
      "text/latex": [
       "$\\displaystyle -i \\, k_{z} H_{{\\rm left}_{{\\rm conductor}_{f_{y}}}}\\left(x\\right) + i \\, k_{y} H_{{\\rm left}_{{\\rm conductor}_{f_{z}}}}\\left(x\\right) = -\\frac{i \\, {\\left(\\epsilon_{l} + \\frac{4 i \\, \\pi \\sqrt{\\epsilon_{l} \\mu_{l}} \\sigma_{l}}{c \\kappa_{l}}\\right)} \\kappa_{l} E_{{\\rm left}_{{\\rm conductor}_{x}}}\\left(x\\right)}{\\sqrt{\\epsilon_{l} \\mu_{l}}}$"
      ],
      "text/plain": [
       "<IPython.core.display.Math object>"
      ]
     },
     "metadata": {},
     "output_type": "display_data"
    },
    {
     "name": "stdout",
     "output_type": "stream",
     "text": [
      "eq_rot_H_left_conductor_x_subs_solve rot H = epsilon_l*d/dt(E_x) =\n"
     ]
    },
    {
     "data": {
      "text/latex": [
       "$\\displaystyle \\kappa_{l} E_{{\\rm left}_{{\\rm conductor}_{x}}}\\left(x\\right) = \\frac{{\\left(\\sqrt{\\epsilon_{l} \\mu_{l}} c k_{z} H_{{\\rm left}_{{\\rm conductor}_{f_{y}}}}\\left(x\\right) - \\sqrt{\\epsilon_{l} \\mu_{l}} c k_{y} H_{{\\rm left}_{{\\rm conductor}_{f_{z}}}}\\left(x\\right)\\right)} \\kappa_{l}}{c \\epsilon_{l} \\kappa_{l} + 4 i \\, \\pi \\sqrt{\\epsilon_{l} \\mu_{l}} \\sigma_{l}}$"
      ],
      "text/plain": [
       "<IPython.core.display.Math object>"
      ]
     },
     "metadata": {},
     "output_type": "display_data"
    },
    {
     "name": "stdout",
     "output_type": "stream",
     "text": [
      "eq_rot_E_left_conductor_y_subs (x) rot E =\n"
     ]
    },
    {
     "data": {
      "text/latex": [
       "$\\displaystyle \\kappa_{l} H_{{\\rm left}_{{\\rm conductor}_{f_{y}}}}\\left(x\\right) = -\\frac{i \\, \\sqrt{\\epsilon_{l} \\mu_{l}} {\\left(i \\, k_{z} E_{{\\rm left}_{{\\rm conductor}_{x}}}\\left(x\\right) - \\frac{\\partial}{\\partial x}E_{{\\rm left}_{{\\rm conductor}_{z}}}\\left(x\\right)\\right)}}{\\mu_{l}}$"
      ],
      "text/plain": [
       "<IPython.core.display.Math object>"
      ]
     },
     "metadata": {},
     "output_type": "display_data"
    },
    {
     "name": "stdout",
     "output_type": "stream",
     "text": [
      "eq_rot_H_left_conductor_x_subs_solve_m_Exc1 =\n"
     ]
    },
    {
     "data": {
      "text/latex": [
       "$\\displaystyle -\\frac{c \\sqrt{\\epsilon_{l}} k_{z} \\sqrt{\\mu_{l}} H_{{\\rm left}_{{\\rm conductor}_{f_{y}}}}\\left(x\\right)}{c \\epsilon_{l} \\kappa_{l} + 4 i \\, \\pi \\sqrt{\\epsilon_{l}} \\sqrt{\\mu_{l}} \\sigma_{l}} + E_{{\\rm left}_{{\\rm conductor}_{x}}}\\left(x\\right) = -\\frac{c \\sqrt{\\epsilon_{l}} k_{y} \\sqrt{\\mu_{l}} H_{{\\rm left}_{{\\rm conductor}_{f_{z}}}}\\left(x\\right)}{c \\epsilon_{l} \\kappa_{l} + 4 i \\, \\pi \\sqrt{\\epsilon_{l}} \\sqrt{\\mu_{l}} \\sigma_{l}}$"
      ],
      "text/plain": [
       "<IPython.core.display.Math object>"
      ]
     },
     "metadata": {},
     "output_type": "display_data"
    },
    {
     "name": "stdout",
     "output_type": "stream",
     "text": [
      "eq_rot_E_left_conductor_y_subs_m_Hyc1 =\n"
     ]
    },
    {
     "data": {
      "text/latex": [
       "$\\displaystyle -\\frac{\\sqrt{\\epsilon_{l}} k_{z} E_{{\\rm left}_{{\\rm conductor}_{x}}}\\left(x\\right)}{\\kappa_{l} \\sqrt{\\mu_{l}}} + H_{{\\rm left}_{{\\rm conductor}_{f_{y}}}}\\left(x\\right) = \\frac{i \\, \\sqrt{\\epsilon_{l}} \\frac{\\partial}{\\partial x}E_{{\\rm left}_{{\\rm conductor}_{z}}}\\left(x\\right)}{\\kappa_{l} \\sqrt{\\mu_{l}}}$"
      ],
      "text/plain": [
       "<IPython.core.display.Math object>"
      ]
     },
     "metadata": {},
     "output_type": "display_data"
    }
   ],
   "source": [
    "eq_rot_H_left_conductor_x_subs       = eq_rot_H_left_conductor_x.subs(omega==c*kappa_l/sqrt(epsilon_l*mu_l))\n",
    "print (\"eq_rot_H_left_conductor_x rot_H = epsilon_l*d/dt(E_x) =\")\n",
    "display(Math(latex(eq_rot_H_left_conductor_x)))\n",
    "\n",
    "print (\"eq_rot_H_left_conductor_x_subs rot_H = epsilon_l*d/dt(E_x) =\")\n",
    "display(Math(latex(eq_rot_H_left_conductor_x_subs)))\n",
    "\n",
    "\n",
    "eq_rot_H_left_conductor_x_subs_solve = solve(eq_rot_H_left_conductor_x_subs, E_left_conductor_x(x))[0] * kappa_l\n",
    "print (\"eq_rot_H_left_conductor_x_subs_solve rot H = epsilon_l*d/dt(E_x) =\")\n",
    "display(Math(latex(eq_rot_H_left_conductor_x_subs_solve)))\n",
    "\n",
    "eq_rot_E_left_conductor_y = H_left_conductor_f_y(x) == H_left_conductor_s_y(x)\n",
    "eq_rot_E_left_conductor_y_subs = eq_rot_E_left_conductor_y.subs(omega==c*kappa_l/sqrt(epsilon_l*mu_l)) * kappa_l\n",
    "print (\"eq_rot_E_left_conductor_y_subs (x) rot E =\")\n",
    "display(Math(latex(eq_rot_E_left_conductor_y_subs)))\n",
    "\n",
    "eq_rot_H_left_conductor_x_subs_solve_m \\\n",
    "    =  eq_rot_H_left_conductor_x_subs_solve.lhs() \\\n",
    "    -  eq_rot_H_left_conductor_x_subs_solve.rhs().expand().operands()[0] \\\n",
    "    == eq_rot_H_left_conductor_x_subs_solve.rhs().expand().operands()[1]\n",
    "#print (\"eq_rot_H_left_conductor_x_subs_solve_m =\")\n",
    "#display(Math(latex(eq_rot_H_left_conductor_x_subs_solve_m)))\n",
    "\n",
    "eq_rot_H_left_conductor_x_subs_solve_m_Exc1 = (eq_rot_H_left_conductor_x_subs_solve_m / kappa_l).expand()\n",
    "print (\"eq_rot_H_left_conductor_x_subs_solve_m_Exc1 =\")\n",
    "display(Math(latex(eq_rot_H_left_conductor_x_subs_solve_m_Exc1)))\n",
    "\n",
    "eq_rot_E_left_conductor_y_subs_m \\\n",
    "    =  eq_rot_E_left_conductor_y_subs.lhs() \\\n",
    "    -  eq_rot_E_left_conductor_y_subs.rhs().expand().operands()[0] \\\n",
    "    == eq_rot_E_left_conductor_y_subs.rhs().expand().operands()[1]\n",
    "#print (\"eq_rot_E_left_conductor_y_subs_m =\")\n",
    "#display(Math(latex(eq_rot_E_left_conductor_y_subs_m)))\n",
    "\n",
    "eq_rot_E_left_conductor_y_subs_m_Hyc1 = (eq_rot_E_left_conductor_y_subs_m / kappa_l).expand()\n",
    "print (\"eq_rot_E_left_conductor_y_subs_m_Hyc1 =\")\n",
    "display(Math(latex(eq_rot_E_left_conductor_y_subs_m_Hyc1)))"
   ]
  },
  {
   "cell_type": "code",
   "execution_count": 48,
   "metadata": {},
   "outputs": [],
   "source": [
    "# выделяем из левых частей множители\n",
    "# с помощью которых мы будем производить сокращение компонент полей при сложении уравнений"
   ]
  },
  {
   "cell_type": "code",
   "execution_count": 49,
   "metadata": {},
   "outputs": [
    {
     "data": {
      "text/latex": [
       "$\\displaystyle -\\frac{\\sqrt{\\epsilon_{l}} k_{z}}{\\kappa_{l} \\sqrt{\\mu_{l}}}$"
      ],
      "text/plain": [
       "<IPython.core.display.Math object>"
      ]
     },
     "metadata": {},
     "output_type": "display_data"
    }
   ],
   "source": [
    "Exlc = eq_rot_E_left_conductor_y_subs_m_Hyc1.lhs().coefficient(E_left_conductor_x(x))\n",
    "display(Math(latex(Exlc)))"
   ]
  },
  {
   "cell_type": "code",
   "execution_count": 50,
   "metadata": {},
   "outputs": [
    {
     "data": {
      "text/latex": [
       "$\\displaystyle -\\frac{c \\sqrt{\\epsilon_{l}} k_{z} \\sqrt{\\mu_{l}}}{c \\epsilon_{l} \\kappa_{l} + 4 i \\, \\pi \\sqrt{\\epsilon_{l}} \\sqrt{\\mu_{l}} \\sigma_{l}}$"
      ],
      "text/plain": [
       "<IPython.core.display.Math object>"
      ]
     },
     "metadata": {},
     "output_type": "display_data"
    }
   ],
   "source": [
    "Hylc = eq_rot_H_left_conductor_x_subs_solve_m_Exc1.lhs().coefficient(H_left_conductor_f_y(x))\n",
    "display(Math(latex(Hylc)))"
   ]
  },
  {
   "cell_type": "code",
   "execution_count": 51,
   "metadata": {},
   "outputs": [
    {
     "data": {
      "text/latex": [
       "$\\displaystyle -\\frac{\\sqrt{\\epsilon_{l}} \\kappa_{l} E_{{\\rm left}_{{\\rm conductor}_{x}}}\\left(x\\right)}{k_{z} \\sqrt{\\mu_{l}}} - \\frac{4 i \\, \\pi \\sigma_{l} E_{{\\rm left}_{{\\rm conductor}_{x}}}\\left(x\\right)}{c k_{z}} + H_{{\\rm left}_{{\\rm conductor}_{f_{y}}}}\\left(x\\right) = \\frac{k_{y} H_{{\\rm left}_{{\\rm conductor}_{f_{z}}}}\\left(x\\right)}{k_{z}}$"
      ],
      "text/plain": [
       "<IPython.core.display.Math object>"
      ]
     },
     "metadata": {},
     "output_type": "display_data"
    }
   ],
   "source": [
    "eq_rot_H_left_conductor_x_subs_solve_m_Hyc1 = (eq_rot_H_left_conductor_x_subs_solve_m_Exc1/Hylc).factor().expand()\n",
    "disp(eq_rot_H_left_conductor_x_subs_solve_m_Hyc1)"
   ]
  },
  {
   "cell_type": "code",
   "execution_count": 52,
   "metadata": {},
   "outputs": [
    {
     "data": {
      "text/latex": [
       "$\\displaystyle -\\frac{\\kappa_{l} \\sqrt{\\mu_{l}} H_{{\\rm left}_{{\\rm conductor}_{f_{y}}}}\\left(x\\right)}{\\sqrt{\\epsilon_{l}} k_{z}} + E_{{\\rm left}_{{\\rm conductor}_{x}}}\\left(x\\right) = -\\frac{i \\, \\frac{\\partial}{\\partial x}E_{{\\rm left}_{{\\rm conductor}_{z}}}\\left(x\\right)}{k_{z}}$"
      ],
      "text/plain": [
       "<IPython.core.display.Math object>"
      ]
     },
     "metadata": {},
     "output_type": "display_data"
    }
   ],
   "source": [
    "eq_rot_E_left_conductor_y_subs_m_Exc1 = (eq_rot_E_left_conductor_y_subs_m_Hyc1/Exlc).factor().expand()\n",
    "disp(eq_rot_E_left_conductor_y_subs_m_Exc1)"
   ]
  },
  {
   "cell_type": "code",
   "execution_count": 53,
   "metadata": {},
   "outputs": [
    {
     "name": "stdout",
     "output_type": "stream",
     "text": [
      "eq_7_l_ =\n"
     ]
    },
    {
     "data": {
      "text/latex": [
       "$\\displaystyle \\frac{\\sqrt{\\epsilon_{l}} k_{z} E_{{\\rm left}_{{\\rm conductor}_{x}}}\\left(x\\right)}{\\kappa_{l} \\sqrt{\\mu_{l}}} - \\frac{\\sqrt{\\epsilon_{l}} \\kappa_{l} E_{{\\rm left}_{{\\rm conductor}_{x}}}\\left(x\\right)}{k_{z} \\sqrt{\\mu_{l}}} - \\frac{4 i \\, \\pi \\sigma_{l} E_{{\\rm left}_{{\\rm conductor}_{x}}}\\left(x\\right)}{c k_{z}} = \\frac{k_{y} H_{{\\rm left}_{{\\rm conductor}_{f_{z}}}}\\left(x\\right)}{k_{z}} - \\frac{i \\, \\sqrt{\\epsilon_{l}} \\frac{\\partial}{\\partial x}E_{{\\rm left}_{{\\rm conductor}_{z}}}\\left(x\\right)}{\\kappa_{l} \\sqrt{\\mu_{l}}}$"
      ],
      "text/plain": [
       "<IPython.core.display.Math object>"
      ]
     },
     "metadata": {},
     "output_type": "display_data"
    },
    {
     "name": "stdout",
     "output_type": "stream",
     "text": [
      "eq_7_Ex_l_ =\n"
     ]
    },
    {
     "data": {
      "text/latex": [
       "$\\displaystyle {\\left(\\frac{\\sqrt{\\epsilon_{l}} k_{z}}{\\kappa_{l} \\sqrt{\\mu_{l}}} - \\frac{\\sqrt{\\epsilon_{l}} \\kappa_{l}}{k_{z} \\sqrt{\\mu_{l}}} - \\frac{4 i \\, \\pi \\sigma_{l}}{c k_{z}}\\right)} E_{{\\rm left}_{{\\rm conductor}_{x}}}\\left(x\\right) = \\frac{k_{y} H_{{\\rm left}_{{\\rm conductor}_{f_{z}}}}\\left(x\\right)}{k_{z}} - \\frac{i \\, \\sqrt{\\epsilon_{l}} \\frac{\\partial}{\\partial x}E_{{\\rm left}_{{\\rm conductor}_{z}}}\\left(x\\right)}{\\kappa_{l} \\sqrt{\\mu_{l}}}$"
      ],
      "text/plain": [
       "<IPython.core.display.Math object>"
      ]
     },
     "metadata": {},
     "output_type": "display_data"
    },
    {
     "name": "stdout",
     "output_type": "stream",
     "text": [
      "eq_7_Ex_l =\n"
     ]
    },
    {
     "data": {
      "text/latex": [
       "$\\displaystyle E_{{\\rm left}_{{\\rm conductor}_{x}}}\\left(x\\right) = \\frac{c k_{y} \\kappa_{l} \\sqrt{\\mu_{l}} H_{{\\rm left}_{{\\rm conductor}_{f_{z}}}}\\left(x\\right) - i \\, c \\sqrt{\\epsilon_{l}} k_{z} \\frac{\\partial}{\\partial x}E_{{\\rm left}_{{\\rm conductor}_{z}}}\\left(x\\right)}{c \\sqrt{\\epsilon_{l}} k_{z}^{2} - c \\sqrt{\\epsilon_{l}} \\kappa_{l}^{2} - 4 i \\, \\pi \\kappa_{l} \\sqrt{\\mu_{l}} \\sigma_{l}}$"
      ],
      "text/plain": [
       "<IPython.core.display.Math object>"
      ]
     },
     "metadata": {},
     "output_type": "display_data"
    },
    {
     "name": "stdout",
     "output_type": "stream",
     "text": [
      "eq_8_l_ =\n"
     ]
    },
    {
     "data": {
      "text/latex": [
       "$\\displaystyle -\\frac{c \\sqrt{\\epsilon_{l}} k_{z} \\sqrt{\\mu_{l}} H_{{\\rm left}_{{\\rm conductor}_{f_{y}}}}\\left(x\\right)}{c \\epsilon_{l} \\kappa_{l} + 4 i \\, \\pi \\sqrt{\\epsilon_{l}} \\sqrt{\\mu_{l}} \\sigma_{l}} + \\frac{\\kappa_{l} \\sqrt{\\mu_{l}} H_{{\\rm left}_{{\\rm conductor}_{f_{y}}}}\\left(x\\right)}{\\sqrt{\\epsilon_{l}} k_{z}} = -\\frac{c \\sqrt{\\epsilon_{l}} k_{y} \\sqrt{\\mu_{l}} H_{{\\rm left}_{{\\rm conductor}_{f_{z}}}}\\left(x\\right)}{c \\epsilon_{l} \\kappa_{l} + 4 i \\, \\pi \\sqrt{\\epsilon_{l}} \\sqrt{\\mu_{l}} \\sigma_{l}} + \\frac{i \\, \\frac{\\partial}{\\partial x}E_{{\\rm left}_{{\\rm conductor}_{z}}}\\left(x\\right)}{k_{z}}$"
      ],
      "text/plain": [
       "<IPython.core.display.Math object>"
      ]
     },
     "metadata": {},
     "output_type": "display_data"
    },
    {
     "name": "stdout",
     "output_type": "stream",
     "text": [
      "eq_8_Hy_l_ =\n"
     ]
    },
    {
     "data": {
      "text/latex": [
       "$\\displaystyle -{\\left(\\frac{c \\sqrt{\\epsilon_{l}} k_{z} \\sqrt{\\mu_{l}}}{c \\epsilon_{l} \\kappa_{l} + 4 i \\, \\pi \\sqrt{\\epsilon_{l}} \\sqrt{\\mu_{l}} \\sigma_{l}} - \\frac{\\kappa_{l} \\sqrt{\\mu_{l}}}{\\sqrt{\\epsilon_{l}} k_{z}}\\right)} H_{{\\rm left}_{{\\rm conductor}_{f_{y}}}}\\left(x\\right) = -\\frac{c \\sqrt{\\epsilon_{l}} k_{y} \\sqrt{\\mu_{l}} H_{{\\rm left}_{{\\rm conductor}_{f_{z}}}}\\left(x\\right)}{c \\epsilon_{l} \\kappa_{l} + 4 i \\, \\pi \\sqrt{\\epsilon_{l}} \\sqrt{\\mu_{l}} \\sigma_{l}} + \\frac{i \\, \\frac{\\partial}{\\partial x}E_{{\\rm left}_{{\\rm conductor}_{z}}}\\left(x\\right)}{k_{z}}$"
      ],
      "text/plain": [
       "<IPython.core.display.Math object>"
      ]
     },
     "metadata": {},
     "output_type": "display_data"
    },
    {
     "name": "stdout",
     "output_type": "stream",
     "text": [
      "eq_8_Hy_l =\n"
     ]
    },
    {
     "data": {
      "text/latex": [
       "$\\displaystyle H_{{\\rm left}_{{\\rm conductor}_{f_{y}}}}\\left(x\\right) = -\\frac{c \\epsilon_{l} k_{y} k_{z} \\sqrt{\\mu_{l}} H_{{\\rm left}_{{\\rm conductor}_{f_{z}}}}\\left(x\\right) - {\\left(i \\, c \\epsilon_{l}^{\\frac{3}{2}} \\kappa_{l} - 4 \\, \\pi \\epsilon_{l} \\sqrt{\\mu_{l}} \\sigma_{l}\\right)} \\frac{\\partial}{\\partial x}E_{{\\rm left}_{{\\rm conductor}_{z}}}\\left(x\\right)}{4 i \\, \\pi \\sqrt{\\epsilon_{l}} \\kappa_{l} \\mu_{l} \\sigma_{l} - {\\left(c \\epsilon_{l} k_{z}^{2} - c \\epsilon_{l} \\kappa_{l}^{2}\\right)} \\sqrt{\\mu_{l}}}$"
      ],
      "text/plain": [
       "<IPython.core.display.Math object>"
      ]
     },
     "metadata": {},
     "output_type": "display_data"
    }
   ],
   "source": [
    "# складываем два предыдущих уравения между собой предварительно перемножив каждое уравнение на множитель\n",
    "# позволяющий в левой части сократить компоненту магнитного или электрического поля\n",
    "# таким образом получаем два уравнения для оставшихся нескоращённых компонент электрического и магнитного поля\n",
    "\n",
    "# Ex\n",
    "eq_7_l_ = (eq_rot_H_left_conductor_x_subs_solve_m_Hyc1 - eq_rot_E_left_conductor_y_subs_m_Hyc1)\n",
    "print (\"eq_7_l_ =\")\n",
    "display(Math(latex(eq_7_l_)))\n",
    "\n",
    "eq_7_Ex_l_ = eq_7_l_.lhs().collect(E_left_conductor_x(x)) == eq_7_l_.rhs()\n",
    "print (\"eq_7_Ex_l_ =\")\n",
    "display(Math(latex(eq_7_Ex_l_)))\n",
    "\n",
    "eq_7_Ex_l = eq_7_Ex_l_.solve(E_left_conductor_x(x))[0]\n",
    "print (\"eq_7_Ex_l =\")\n",
    "display(Math(latex(eq_7_Ex_l)))\n",
    "\n",
    "# Hy\n",
    "eq_8_l_ = (eq_rot_H_left_conductor_x_subs_solve_m_Exc1 - eq_rot_E_left_conductor_y_subs_m_Exc1)\n",
    "print (\"eq_8_l_ =\")\n",
    "display(Math(latex(eq_8_l_)))\n",
    "\n",
    "eq_8_Hy_l_ = eq_8_l_.lhs().collect(H_left_conductor_f_y(x)) == eq_8_l_.rhs()\n",
    "print (\"eq_8_Hy_l_ =\")\n",
    "display(Math(latex(eq_8_Hy_l_)))\n",
    "\n",
    "eq_8_Hy_l = eq_8_Hy_l_.solve(H_left_conductor_f_y(x))[0]\n",
    "print (\"eq_8_Hy_l =\")\n",
    "display(Math(latex(eq_8_Hy_l)))"
   ]
  },
  {
   "cell_type": "code",
   "execution_count": 54,
   "metadata": {},
   "outputs": [
    {
     "name": "stdout",
     "output_type": "stream",
     "text": [
      "eq_rot_H_right_conductor_x rot_H = epsilon_r*d/dt(E_x) =\n"
     ]
    },
    {
     "data": {
      "text/latex": [
       "$\\displaystyle -i \\, k_{z} H_{{\\rm right}_{{\\rm conductor}_{f_{y}}}}\\left(x\\right) + i \\, k_{y} H_{{\\rm right}_{{\\rm conductor}_{f_{z}}}}\\left(x\\right) = -\\frac{i \\, {\\left(\\epsilon_{r} + \\frac{4 i \\, \\pi \\sigma_{r}}{\\omega}\\right)} \\omega E_{{\\rm right}_{{\\rm conductor}_{x}}}\\left(x\\right)}{c}$"
      ],
      "text/plain": [
       "<IPython.core.display.Math object>"
      ]
     },
     "metadata": {},
     "output_type": "display_data"
    },
    {
     "name": "stdout",
     "output_type": "stream",
     "text": [
      "eq_rot_H_right_conductor_x_subs rot_H = epsilon_r*d/dt(E_x) =\n"
     ]
    },
    {
     "data": {
      "text/latex": [
       "$\\displaystyle -i \\, k_{z} H_{{\\rm right}_{{\\rm conductor}_{f_{y}}}}\\left(x\\right) + i \\, k_{y} H_{{\\rm right}_{{\\rm conductor}_{f_{z}}}}\\left(x\\right) = -\\frac{i \\, {\\left(\\epsilon_{r} + \\frac{4 i \\, \\pi \\sqrt{\\epsilon_{r} \\mu_{r}} \\sigma_{r}}{c \\kappa_{r}}\\right)} \\kappa_{r} E_{{\\rm right}_{{\\rm conductor}_{x}}}\\left(x\\right)}{\\sqrt{\\epsilon_{r} \\mu_{r}}}$"
      ],
      "text/plain": [
       "<IPython.core.display.Math object>"
      ]
     },
     "metadata": {},
     "output_type": "display_data"
    },
    {
     "name": "stdout",
     "output_type": "stream",
     "text": [
      "eq_rot_H_right_conductor_x_subs_solve rot H = epsilon_r*d/dt(E_x) =\n"
     ]
    },
    {
     "data": {
      "text/latex": [
       "$\\displaystyle \\kappa_{r} E_{{\\rm right}_{{\\rm conductor}_{x}}}\\left(x\\right) = \\frac{{\\left(\\sqrt{\\epsilon_{r} \\mu_{r}} c k_{z} H_{{\\rm right}_{{\\rm conductor}_{f_{y}}}}\\left(x\\right) - \\sqrt{\\epsilon_{r} \\mu_{r}} c k_{y} H_{{\\rm right}_{{\\rm conductor}_{f_{z}}}}\\left(x\\right)\\right)} \\kappa_{r}}{c \\epsilon_{r} \\kappa_{r} + 4 i \\, \\pi \\sqrt{\\epsilon_{r} \\mu_{r}} \\sigma_{r}}$"
      ],
      "text/plain": [
       "<IPython.core.display.Math object>"
      ]
     },
     "metadata": {},
     "output_type": "display_data"
    },
    {
     "name": "stdout",
     "output_type": "stream",
     "text": [
      "eq_rot_E_right_conductor_y_subs (x) rot E =\n"
     ]
    },
    {
     "data": {
      "text/latex": [
       "$\\displaystyle \\kappa_{r} H_{{\\rm right}_{{\\rm conductor}_{f_{y}}}}\\left(x\\right) = -\\frac{i \\, \\sqrt{\\epsilon_{r} \\mu_{r}} {\\left(i \\, k_{z} E_{{\\rm right}_{{\\rm conductor}_{x}}}\\left(x\\right) - \\frac{\\partial}{\\partial x}E_{{\\rm right}_{{\\rm conductor}_{z}}}\\left(x\\right)\\right)}}{\\mu_{r}}$"
      ],
      "text/plain": [
       "<IPython.core.display.Math object>"
      ]
     },
     "metadata": {},
     "output_type": "display_data"
    },
    {
     "name": "stdout",
     "output_type": "stream",
     "text": [
      "eq_rot_H_right_conductor_x_subs_solve_m =\n"
     ]
    },
    {
     "data": {
      "text/latex": [
       "$\\displaystyle -\\frac{c \\sqrt{\\epsilon_{r}} k_{z} \\kappa_{r} \\sqrt{\\mu_{r}} H_{{\\rm right}_{{\\rm conductor}_{f_{y}}}}\\left(x\\right)}{c \\epsilon_{r} \\kappa_{r} + 4 i \\, \\pi \\sqrt{\\epsilon_{r}} \\sqrt{\\mu_{r}} \\sigma_{r}} + \\kappa_{r} E_{{\\rm right}_{{\\rm conductor}_{x}}}\\left(x\\right) = -\\frac{c \\sqrt{\\epsilon_{r}} k_{y} \\kappa_{r} \\sqrt{\\mu_{r}} H_{{\\rm right}_{{\\rm conductor}_{f_{z}}}}\\left(x\\right)}{c \\epsilon_{r} \\kappa_{r} + 4 i \\, \\pi \\sqrt{\\epsilon_{r}} \\sqrt{\\mu_{r}} \\sigma_{r}}$"
      ],
      "text/plain": [
       "<IPython.core.display.Math object>"
      ]
     },
     "metadata": {},
     "output_type": "display_data"
    },
    {
     "name": "stdout",
     "output_type": "stream",
     "text": [
      "eq_rot_H_right_conductor_x_subs_solve_m_Exc1 =\n"
     ]
    },
    {
     "data": {
      "text/latex": [
       "$\\displaystyle -\\frac{c \\sqrt{\\epsilon_{r}} k_{z} \\sqrt{\\mu_{r}} H_{{\\rm right}_{{\\rm conductor}_{f_{y}}}}\\left(x\\right)}{c \\epsilon_{r} \\kappa_{r} + 4 i \\, \\pi \\sqrt{\\epsilon_{r}} \\sqrt{\\mu_{r}} \\sigma_{r}} + E_{{\\rm right}_{{\\rm conductor}_{x}}}\\left(x\\right) = -\\frac{c \\sqrt{\\epsilon_{r}} k_{y} \\sqrt{\\mu_{r}} H_{{\\rm right}_{{\\rm conductor}_{f_{z}}}}\\left(x\\right)}{c \\epsilon_{r} \\kappa_{r} + 4 i \\, \\pi \\sqrt{\\epsilon_{r}} \\sqrt{\\mu_{r}} \\sigma_{r}}$"
      ],
      "text/plain": [
       "<IPython.core.display.Math object>"
      ]
     },
     "metadata": {},
     "output_type": "display_data"
    },
    {
     "name": "stdout",
     "output_type": "stream",
     "text": [
      "eq_rot_E_right_conductor_y_subs_m =\n"
     ]
    },
    {
     "data": {
      "text/latex": [
       "$\\displaystyle -\\frac{\\sqrt{\\epsilon_{r}} k_{z} E_{{\\rm right}_{{\\rm conductor}_{x}}}\\left(x\\right)}{\\sqrt{\\mu_{r}}} + \\kappa_{r} H_{{\\rm right}_{{\\rm conductor}_{f_{y}}}}\\left(x\\right) = \\frac{i \\, \\sqrt{\\epsilon_{r}} \\frac{\\partial}{\\partial x}E_{{\\rm right}_{{\\rm conductor}_{z}}}\\left(x\\right)}{\\sqrt{\\mu_{r}}}$"
      ],
      "text/plain": [
       "<IPython.core.display.Math object>"
      ]
     },
     "metadata": {},
     "output_type": "display_data"
    },
    {
     "name": "stdout",
     "output_type": "stream",
     "text": [
      "eq_rot_E_right_conductor_y_subs_m_Hyc1 =\n"
     ]
    },
    {
     "data": {
      "text/latex": [
       "$\\displaystyle -\\frac{\\sqrt{\\epsilon_{r}} k_{z} E_{{\\rm right}_{{\\rm conductor}_{x}}}\\left(x\\right)}{\\kappa_{r} \\sqrt{\\mu_{r}}} + H_{{\\rm right}_{{\\rm conductor}_{f_{y}}}}\\left(x\\right) = \\frac{i \\, \\sqrt{\\epsilon_{r}} \\frac{\\partial}{\\partial x}E_{{\\rm right}_{{\\rm conductor}_{z}}}\\left(x\\right)}{\\kappa_{r} \\sqrt{\\mu_{r}}}$"
      ],
      "text/plain": [
       "<IPython.core.display.Math object>"
      ]
     },
     "metadata": {},
     "output_type": "display_data"
    }
   ],
   "source": [
    "eq_rot_H_right_conductor_x_subs       = eq_rot_H_right_conductor_x.subs(omega==c*kappa_r/sqrt(epsilon_r*mu_r))\n",
    "print (\"eq_rot_H_right_conductor_x rot_H = epsilon_r*d/dt(E_x) =\")\n",
    "display(Math(latex(eq_rot_H_right_conductor_x)))\n",
    "\n",
    "print (\"eq_rot_H_right_conductor_x_subs rot_H = epsilon_r*d/dt(E_x) =\")\n",
    "display(Math(latex(eq_rot_H_right_conductor_x_subs)))\n",
    "\n",
    "\n",
    "eq_rot_H_right_conductor_x_subs_solve = solve(eq_rot_H_right_conductor_x_subs, E_right_conductor_x(x))[0] * kappa_r\n",
    "print (\"eq_rot_H_right_conductor_x_subs_solve rot H = epsilon_r*d/dt(E_x) =\")\n",
    "display(Math(latex(eq_rot_H_right_conductor_x_subs_solve)))\n",
    "\n",
    "eq_rot_E_right_conductor_y = H_right_conductor_f_y(x) == H_right_conductor_s_y(x)\n",
    "eq_rot_E_right_conductor_y_subs = eq_rot_E_right_conductor_y.subs(omega==c*kappa_r/sqrt(epsilon_r*mu_r)) * kappa_r\n",
    "print (\"eq_rot_E_right_conductor_y_subs (x) rot E =\")\n",
    "display(Math(latex(eq_rot_E_right_conductor_y_subs)))\n",
    "\n",
    "eq_rot_H_right_conductor_x_subs_solve_m \\\n",
    "    =  eq_rot_H_right_conductor_x_subs_solve.lhs() \\\n",
    "    -  eq_rot_H_right_conductor_x_subs_solve.rhs().expand().operands()[0] \\\n",
    "    == eq_rot_H_right_conductor_x_subs_solve.rhs().expand().operands()[1]\n",
    "print (\"eq_rot_H_right_conductor_x_subs_solve_m =\")\n",
    "display(Math(latex(eq_rot_H_right_conductor_x_subs_solve_m)))\n",
    "\n",
    "eq_rot_H_right_conductor_x_subs_solve_m_Exc1 = (eq_rot_H_right_conductor_x_subs_solve_m / kappa_r).expand()\n",
    "print (\"eq_rot_H_right_conductor_x_subs_solve_m_Exc1 =\")\n",
    "display(Math(latex(eq_rot_H_right_conductor_x_subs_solve_m_Exc1)))\n",
    "\n",
    "eq_rot_E_right_conductor_y_subs_m \\\n",
    "    =  eq_rot_E_right_conductor_y_subs.lhs() \\\n",
    "    -  eq_rot_E_right_conductor_y_subs.rhs().expand().operands()[0] \\\n",
    "    == eq_rot_E_right_conductor_y_subs.rhs().expand().operands()[1]\n",
    "print (\"eq_rot_E_right_conductor_y_subs_m =\")\n",
    "display(Math(latex(eq_rot_E_right_conductor_y_subs_m)))\n",
    "\n",
    "eq_rot_E_right_conductor_y_subs_m_Hyc1 = (eq_rot_E_right_conductor_y_subs_m / kappa_r).expand()\n",
    "print (\"eq_rot_E_right_conductor_y_subs_m_Hyc1 =\")\n",
    "display(Math(latex(eq_rot_E_right_conductor_y_subs_m_Hyc1)))\n"
   ]
  },
  {
   "cell_type": "code",
   "execution_count": 55,
   "metadata": {},
   "outputs": [],
   "source": [
    "# выделяем из левых частей множители\n",
    "# с помощью которых мы будем производить сокращение компонент полей при сложении уравнений"
   ]
  },
  {
   "cell_type": "code",
   "execution_count": 56,
   "metadata": {},
   "outputs": [
    {
     "data": {
      "text/latex": [
       "$\\displaystyle -\\frac{\\sqrt{\\epsilon_{r}} k_{z}}{\\kappa_{r} \\sqrt{\\mu_{r}}}$"
      ],
      "text/plain": [
       "<IPython.core.display.Math object>"
      ]
     },
     "metadata": {},
     "output_type": "display_data"
    }
   ],
   "source": [
    "Exrc = eq_rot_E_right_conductor_y_subs_m_Hyc1.lhs().coefficient(E_right_conductor_x(x))\n",
    "display(Math(latex(Exrc)))"
   ]
  },
  {
   "cell_type": "code",
   "execution_count": 57,
   "metadata": {},
   "outputs": [
    {
     "data": {
      "text/latex": [
       "$\\displaystyle -\\frac{c \\sqrt{\\epsilon_{r}} k_{z} \\sqrt{\\mu_{r}}}{c \\epsilon_{r} \\kappa_{r} + 4 i \\, \\pi \\sqrt{\\epsilon_{r}} \\sqrt{\\mu_{r}} \\sigma_{r}}$"
      ],
      "text/plain": [
       "<IPython.core.display.Math object>"
      ]
     },
     "metadata": {},
     "output_type": "display_data"
    }
   ],
   "source": [
    "Hyrc = eq_rot_H_right_conductor_x_subs_solve_m_Exc1.lhs().coefficient(H_right_conductor_f_y(x))\n",
    "display(Math(latex(Hyrc)))"
   ]
  },
  {
   "cell_type": "code",
   "execution_count": 58,
   "metadata": {},
   "outputs": [
    {
     "data": {
      "text/latex": [
       "$\\displaystyle -\\frac{\\sqrt{\\epsilon_{r}} \\kappa_{r} E_{{\\rm right}_{{\\rm conductor}_{x}}}\\left(x\\right)}{k_{z} \\sqrt{\\mu_{r}}} - \\frac{4 i \\, \\pi \\sigma_{r} E_{{\\rm right}_{{\\rm conductor}_{x}}}\\left(x\\right)}{c k_{z}} + H_{{\\rm right}_{{\\rm conductor}_{f_{y}}}}\\left(x\\right) = \\frac{k_{y} H_{{\\rm right}_{{\\rm conductor}_{f_{z}}}}\\left(x\\right)}{k_{z}}$"
      ],
      "text/plain": [
       "<IPython.core.display.Math object>"
      ]
     },
     "metadata": {},
     "output_type": "display_data"
    }
   ],
   "source": [
    "eq_rot_H_right_conductor_x_subs_solve_m_Hyc1 = (eq_rot_H_right_conductor_x_subs_solve_m_Exc1/Hyrc).factor().expand()\n",
    "disp(eq_rot_H_right_conductor_x_subs_solve_m_Hyc1)"
   ]
  },
  {
   "cell_type": "code",
   "execution_count": 59,
   "metadata": {},
   "outputs": [
    {
     "data": {
      "text/latex": [
       "$\\displaystyle -\\frac{\\kappa_{r} \\sqrt{\\mu_{r}} H_{{\\rm right}_{{\\rm conductor}_{f_{y}}}}\\left(x\\right)}{\\sqrt{\\epsilon_{r}} k_{z}} + E_{{\\rm right}_{{\\rm conductor}_{x}}}\\left(x\\right) = -\\frac{i \\, \\frac{\\partial}{\\partial x}E_{{\\rm right}_{{\\rm conductor}_{z}}}\\left(x\\right)}{k_{z}}$"
      ],
      "text/plain": [
       "<IPython.core.display.Math object>"
      ]
     },
     "metadata": {},
     "output_type": "display_data"
    }
   ],
   "source": [
    "eq_rot_E_right_conductor_y_subs_m_Exc1 = (eq_rot_E_right_conductor_y_subs_m_Hyc1/Exrc).factor().expand()\n",
    "disp(eq_rot_E_right_conductor_y_subs_m_Exc1)"
   ]
  },
  {
   "cell_type": "code",
   "execution_count": 60,
   "metadata": {},
   "outputs": [
    {
     "name": "stdout",
     "output_type": "stream",
     "text": [
      "eq_7_Ex_r_ =\n"
     ]
    },
    {
     "data": {
      "text/latex": [
       "$\\displaystyle {\\left(\\frac{\\sqrt{\\epsilon_{r}} k_{z}}{\\kappa_{r} \\sqrt{\\mu_{r}}} - \\frac{\\sqrt{\\epsilon_{r}} \\kappa_{r}}{k_{z} \\sqrt{\\mu_{r}}} - \\frac{4 i \\, \\pi \\sigma_{r}}{c k_{z}}\\right)} E_{{\\rm right}_{{\\rm conductor}_{x}}}\\left(x\\right) = \\frac{k_{y} H_{{\\rm right}_{{\\rm conductor}_{f_{z}}}}\\left(x\\right)}{k_{z}} - \\frac{i \\, \\sqrt{\\epsilon_{r}} \\frac{\\partial}{\\partial x}E_{{\\rm right}_{{\\rm conductor}_{z}}}\\left(x\\right)}{\\kappa_{r} \\sqrt{\\mu_{r}}}$"
      ],
      "text/plain": [
       "<IPython.core.display.Math object>"
      ]
     },
     "metadata": {},
     "output_type": "display_data"
    },
    {
     "name": "stdout",
     "output_type": "stream",
     "text": [
      "eq_7_Ex_r =\n"
     ]
    },
    {
     "data": {
      "text/latex": [
       "$\\displaystyle E_{{\\rm right}_{{\\rm conductor}_{x}}}\\left(x\\right) = \\frac{c k_{y} \\kappa_{r} \\sqrt{\\mu_{r}} H_{{\\rm right}_{{\\rm conductor}_{f_{z}}}}\\left(x\\right) - i \\, c \\sqrt{\\epsilon_{r}} k_{z} \\frac{\\partial}{\\partial x}E_{{\\rm right}_{{\\rm conductor}_{z}}}\\left(x\\right)}{c \\sqrt{\\epsilon_{r}} k_{z}^{2} - c \\sqrt{\\epsilon_{r}} \\kappa_{r}^{2} - 4 i \\, \\pi \\kappa_{r} \\sqrt{\\mu_{r}} \\sigma_{r}}$"
      ],
      "text/plain": [
       "<IPython.core.display.Math object>"
      ]
     },
     "metadata": {},
     "output_type": "display_data"
    },
    {
     "name": "stdout",
     "output_type": "stream",
     "text": [
      "eq_8_Hy_r_ =\n"
     ]
    },
    {
     "data": {
      "text/latex": [
       "$\\displaystyle -{\\left(\\frac{c \\sqrt{\\epsilon_{r}} k_{z} \\sqrt{\\mu_{r}}}{c \\epsilon_{r} \\kappa_{r} + 4 i \\, \\pi \\sqrt{\\epsilon_{r}} \\sqrt{\\mu_{r}} \\sigma_{r}} - \\frac{\\kappa_{r} \\sqrt{\\mu_{r}}}{\\sqrt{\\epsilon_{r}} k_{z}}\\right)} H_{{\\rm right}_{{\\rm conductor}_{f_{y}}}}\\left(x\\right) = -\\frac{c \\sqrt{\\epsilon_{r}} k_{y} \\sqrt{\\mu_{r}} H_{{\\rm right}_{{\\rm conductor}_{f_{z}}}}\\left(x\\right)}{c \\epsilon_{r} \\kappa_{r} + 4 i \\, \\pi \\sqrt{\\epsilon_{r}} \\sqrt{\\mu_{r}} \\sigma_{r}} + \\frac{i \\, \\frac{\\partial}{\\partial x}E_{{\\rm right}_{{\\rm conductor}_{z}}}\\left(x\\right)}{k_{z}}$"
      ],
      "text/plain": [
       "<IPython.core.display.Math object>"
      ]
     },
     "metadata": {},
     "output_type": "display_data"
    },
    {
     "name": "stdout",
     "output_type": "stream",
     "text": [
      "eq_8_Hy_r =\n"
     ]
    },
    {
     "data": {
      "text/latex": [
       "$\\displaystyle H_{{\\rm right}_{{\\rm conductor}_{f_{y}}}}\\left(x\\right) = -\\frac{c \\epsilon_{r} k_{y} k_{z} \\sqrt{\\mu_{r}} H_{{\\rm right}_{{\\rm conductor}_{f_{z}}}}\\left(x\\right) - {\\left(i \\, c \\epsilon_{r}^{\\frac{3}{2}} \\kappa_{r} - 4 \\, \\pi \\epsilon_{r} \\sqrt{\\mu_{r}} \\sigma_{r}\\right)} \\frac{\\partial}{\\partial x}E_{{\\rm right}_{{\\rm conductor}_{z}}}\\left(x\\right)}{4 i \\, \\pi \\sqrt{\\epsilon_{r}} \\kappa_{r} \\mu_{r} \\sigma_{r} - {\\left(c \\epsilon_{r} k_{z}^{2} - c \\epsilon_{r} \\kappa_{r}^{2}\\right)} \\sqrt{\\mu_{r}}}$"
      ],
      "text/plain": [
       "<IPython.core.display.Math object>"
      ]
     },
     "metadata": {},
     "output_type": "display_data"
    }
   ],
   "source": [
    "# складываем два предыдущих уравения между собой предварительно перемножив каждое уравнение на множитель\n",
    "# позволяющий в левой части сократить компоненту магнитного или электрического поля\n",
    "# таким образом получаем два уравнения для оставшихся нескоращённых компонент электрического и магнитного поля\n",
    "\n",
    "# Ex\n",
    "eq_7_r_ = (eq_rot_H_right_conductor_x_subs_solve_m_Hyc1 - eq_rot_E_right_conductor_y_subs_m_Hyc1)\n",
    "#print (\"eq_7_r_ =\")\n",
    "#display(Math(latex(eq_7_r_)))\n",
    "\n",
    "eq_7_Ex_r_ = eq_7_r_.lhs().collect(E_right_conductor_x(x)) == eq_7_r_.rhs()\n",
    "print (\"eq_7_Ex_r_ =\")\n",
    "display(Math(latex(eq_7_Ex_r_)))\n",
    "\n",
    "eq_7_Ex_r = eq_7_Ex_r_.solve(E_right_conductor_x(x))[0]\n",
    "print (\"eq_7_Ex_r =\")\n",
    "display(Math(latex(eq_7_Ex_r)))\n",
    "\n",
    "# Hy\n",
    "eq_8_r_ = (eq_rot_H_right_conductor_x_subs_solve_m_Exc1 - eq_rot_E_right_conductor_y_subs_m_Exc1)\n",
    "#print (\"eq_8_r_ =\")\n",
    "#display(Math(latex(eq_8_r_)))\n",
    "\n",
    "eq_8_Hy_r_ = eq_8_r_.lhs().collect(H_right_conductor_f_y(x)) == eq_8_r_.rhs()\n",
    "print (\"eq_8_Hy_r_ =\")\n",
    "display(Math(latex(eq_8_Hy_r_)))\n",
    "\n",
    "eq_8_Hy_r = eq_8_Hy_r_.solve(H_right_conductor_f_y(x))[0]\n",
    "print (\"eq_8_Hy_r =\")\n",
    "display(Math(latex(eq_8_Hy_r)))"
   ]
  },
  {
   "cell_type": "code",
   "execution_count": 61,
   "metadata": {},
   "outputs": [],
   "source": [
    "K_vacuum_subs = K_vacuum == sqrt(kappa_vacuum^2-k_z^2)\n",
    "K_left_conductor_subs = K_left_conductor == sqrt(kappa_l^2-k_z^2)\n",
    "K_right_conductor_subs = K_right_conductor == sqrt(kappa_r^2-k_z^2)"
   ]
  },
  {
   "cell_type": "code",
   "execution_count": null,
   "metadata": {},
   "outputs": [],
   "source": []
  },
  {
   "cell_type": "code",
   "execution_count": 62,
   "metadata": {},
   "outputs": [
    {
     "name": "stdout",
     "output_type": "stream",
     "text": [
      "eq_1 =\n"
     ]
    },
    {
     "data": {
      "text/latex": [
       "$\\displaystyle -{\\left(k_{z}^{2} - \\kappa_{\\mathit{vacuum}}^{2}\\right)} E_{{\\rm inner}_{{\\rm vacuum}_{y}}}\\left(x\\right) = -k_{y} k_{z} E_{{\\rm inner}_{{\\rm vacuum}_{z}}}\\left(x\\right) - i \\, \\kappa_{\\mathit{vacuum}} \\frac{\\partial}{\\partial x}H_{{\\rm inner}_{{\\rm vacuum}_{f_{z}}}}\\left(x\\right)$"
      ],
      "text/plain": [
       "<IPython.core.display.Math object>"
      ]
     },
     "metadata": {},
     "output_type": "display_data"
    },
    {
     "name": "stdout",
     "output_type": "stream",
     "text": [
      "eq_2 =\n"
     ]
    },
    {
     "data": {
      "text/latex": [
       "$\\displaystyle {\\left(k_{z}^{2} - \\kappa_{\\mathit{vacuum}}^{2}\\right)} H_{{\\rm inner}_{{\\rm vacuum}_{f_{x}}}}\\left(x\\right) = -k_{y} \\kappa_{\\mathit{vacuum}} E_{{\\rm inner}_{{\\rm vacuum}_{z}}}\\left(x\\right) - i \\, k_{z} \\frac{\\partial}{\\partial x}H_{{\\rm inner}_{{\\rm vacuum}_{f_{z}}}}\\left(x\\right)$"
      ],
      "text/plain": [
       "<IPython.core.display.Math object>"
      ]
     },
     "metadata": {},
     "output_type": "display_data"
    }
   ],
   "source": [
    "print (\"eq_1 =\")\n",
    "#print             (eq_1)\n",
    "display(Math(latex(eq_1)))\n",
    "\n",
    "print (\"eq_2 =\")\n",
    "#print             (eq_2)\n",
    "display(Math(latex(eq_2)))\n"
   ]
  },
  {
   "cell_type": "raw",
   "metadata": {},
   "source": [
    "print (\"eq_3 =\")\n",
    "print             (eq_3)\n",
    "display(Math(latex(eq_3)))\n",
    "\n",
    "print (\"eq_4 =\")\n",
    "print             (eq_4)\n",
    "display(Math(latex(eq_4)))"
   ]
  },
  {
   "cell_type": "code",
   "execution_count": 63,
   "metadata": {},
   "outputs": [
    {
     "name": "stdout",
     "output_type": "stream",
     "text": [
      "eq_1 =\n"
     ]
    },
    {
     "data": {
      "text/latex": [
       "$\\displaystyle -{\\left(k_{z}^{2} - \\kappa_{\\mathit{vacuum}}^{2}\\right)} E_{{\\rm inner}_{{\\rm vacuum}_{y}}}\\left(x\\right) = -k_{y} k_{z} E_{{\\rm inner}_{{\\rm vacuum}_{z}}}\\left(x\\right) - i \\, \\kappa_{\\mathit{vacuum}} \\frac{\\partial}{\\partial x}H_{{\\rm inner}_{{\\rm vacuum}_{f_{z}}}}\\left(x\\right)$"
      ],
      "text/plain": [
       "<IPython.core.display.Math object>"
      ]
     },
     "metadata": {},
     "output_type": "display_data"
    }
   ],
   "source": [
    "print (\"eq_1 =\")\n",
    "#print             (eq_1)\n",
    "display(Math(latex(eq_1)))"
   ]
  },
  {
   "cell_type": "code",
   "execution_count": 64,
   "metadata": {
    "scrolled": true
   },
   "outputs": [
    {
     "data": {
      "text/latex": [
       "$\\displaystyle -{\\left(k_{z}^{2} - \\kappa_{\\mathit{vacuum}}^{2}\\right)} E_{{\\rm inner}_{{\\rm vacuum}_{y}}}\\left(x\\right) = -i \\, \\kappa_{\\mathit{vacuum}} \\frac{\\partial}{\\partial x}H_{{\\rm inner}_{{\\rm vacuum}_{f_{z}}}}\\left(x\\right)$"
      ],
      "text/plain": [
       "<IPython.core.display.Math object>"
      ]
     },
     "metadata": {},
     "output_type": "display_data"
    }
   ],
   "source": [
    "eq_1_subs1 = eq_1.subs(k_y == 0)\n",
    "#print             (eq_1_subs1)\n",
    "display(Math(latex(eq_1_subs1)))"
   ]
  },
  {
   "cell_type": "code",
   "execution_count": 65,
   "metadata": {
    "scrolled": true
   },
   "outputs": [
    {
     "data": {
      "text/latex": [
       "$\\displaystyle E_{{\\rm inner}_{{\\rm vacuum}_{y}}}\\left(x\\right) = \\frac{i \\, \\kappa_{\\mathit{vacuum}} \\frac{\\partial}{\\partial x}H_{{\\rm inner}_{{\\rm vacuum}_{f_{z}}}}\\left(x\\right)}{k_{z}^{2} - \\kappa_{\\mathit{vacuum}}^{2}}$"
      ],
      "text/plain": [
       "<IPython.core.display.Math object>"
      ]
     },
     "metadata": {},
     "output_type": "display_data"
    }
   ],
   "source": [
    "eq_1_subs2 = (eq_1_subs1/(kappa_vacuum^2 - k_z^2)).full_simplify()\n",
    "#print             (eq_1_subs2)\n",
    "display(Math(latex(eq_1_subs2)))"
   ]
  },
  {
   "cell_type": "code",
   "execution_count": 66,
   "metadata": {
    "scrolled": true
   },
   "outputs": [
    {
     "name": "stdout",
     "output_type": "stream",
     "text": [
      "E_inner_vacuum_y(x) == -(A2_y*K_vacuum^2*e^(I*K_vacuum*x) + A1_y*K_vacuum^2*e^(-I*K_vacuum*x) + I*(I*A2_x*K_vacuum*e^(I*K_vacuum*x) - I*A1_x*K_vacuum*e^(-I*K_vacuum*x))*k_y)*c*kappa_vacuum/((k_z^2 - kappa_vacuum^2)*omega)\n"
     ]
    },
    {
     "data": {
      "text/latex": [
       "$\\displaystyle E_{{\\rm inner}_{{\\rm vacuum}_{y}}}\\left(x\\right) = -\\frac{{\\left(\\mathit{A2}_{y} K_{\\mathit{vacuum}}^{2} e^{\\left(i \\, K_{\\mathit{vacuum}} x\\right)} + \\mathit{A1}_{y} K_{\\mathit{vacuum}}^{2} e^{\\left(-i \\, K_{\\mathit{vacuum}} x\\right)} + i \\, {\\left(i \\, \\mathit{A2}_{x} K_{\\mathit{vacuum}} e^{\\left(i \\, K_{\\mathit{vacuum}} x\\right)} - i \\, \\mathit{A1}_{x} K_{\\mathit{vacuum}} e^{\\left(-i \\, K_{\\mathit{vacuum}} x\\right)}\\right)} k_{y}\\right)} c \\kappa_{\\mathit{vacuum}}}{{\\left(k_{z}^{2} - \\kappa_{\\mathit{vacuum}}^{2}\\right)} \\omega}$"
      ],
      "text/plain": [
       "<IPython.core.display.Math object>"
      ]
     },
     "metadata": {},
     "output_type": "display_data"
    }
   ],
   "source": [
    "eq_1_subs3 = eq_1_subs2.substitute_function(H_inner_vacuum_f_z, H_inner_vacuum_sol_z)\n",
    "print             (eq_1_subs3)\n",
    "display(Math(latex(eq_1_subs3)))"
   ]
  },
  {
   "cell_type": "code",
   "execution_count": 67,
   "metadata": {},
   "outputs": [
    {
     "data": {
      "text/latex": [
       "$\\displaystyle E_{{\\rm inner}_{{\\rm vacuum}_{y}}}\\left(x\\right) = -\\frac{\\mathit{A2}_{y} K_{\\mathit{vacuum}}^{2} e^{\\left(i \\, K_{\\mathit{vacuum}} x\\right)} + \\mathit{A1}_{y} K_{\\mathit{vacuum}}^{2} e^{\\left(-i \\, K_{\\mathit{vacuum}} x\\right)} + i \\, {\\left(i \\, \\mathit{A2}_{x} K_{\\mathit{vacuum}} e^{\\left(i \\, K_{\\mathit{vacuum}} x\\right)} - i \\, \\mathit{A1}_{x} K_{\\mathit{vacuum}} e^{\\left(-i \\, K_{\\mathit{vacuum}} x\\right)}\\right)} k_{y}}{k_{z}^{2} - \\kappa_{\\mathit{vacuum}}^{2}}$"
      ],
      "text/plain": [
       "<IPython.core.display.Math object>"
      ]
     },
     "metadata": {},
     "output_type": "display_data"
    }
   ],
   "source": [
    "eq_1_subs4 = eq_1_subs3.subs(omega==c*kappa_vacuum/sqrt(epsilon_0*mu_0))\n",
    "#print             (eq_1_subs4)\n",
    "display(Math(latex(eq_1_subs4)))"
   ]
  },
  {
   "cell_type": "code",
   "execution_count": null,
   "metadata": {},
   "outputs": [],
   "source": []
  },
  {
   "cell_type": "code",
   "execution_count": 68,
   "metadata": {},
   "outputs": [
    {
     "name": "stdout",
     "output_type": "stream",
     "text": [
      "eq_2 =\n"
     ]
    },
    {
     "data": {
      "text/latex": [
       "$\\displaystyle {\\left(k_{z}^{2} - \\kappa_{\\mathit{vacuum}}^{2}\\right)} H_{{\\rm inner}_{{\\rm vacuum}_{f_{x}}}}\\left(x\\right) = -k_{y} \\kappa_{\\mathit{vacuum}} E_{{\\rm inner}_{{\\rm vacuum}_{z}}}\\left(x\\right) - i \\, k_{z} \\frac{\\partial}{\\partial x}H_{{\\rm inner}_{{\\rm vacuum}_{f_{z}}}}\\left(x\\right)$"
      ],
      "text/plain": [
       "<IPython.core.display.Math object>"
      ]
     },
     "metadata": {},
     "output_type": "display_data"
    }
   ],
   "source": [
    "print (\"eq_2 =\")\n",
    "#print             (eq_2)\n",
    "display(Math(latex(eq_2)))"
   ]
  },
  {
   "cell_type": "code",
   "execution_count": 69,
   "metadata": {
    "scrolled": true
   },
   "outputs": [
    {
     "data": {
      "text/latex": [
       "$\\displaystyle {\\left(k_{z}^{2} - \\kappa_{\\mathit{vacuum}}^{2}\\right)} H_{{\\rm inner}_{{\\rm vacuum}_{f_{x}}}}\\left(x\\right) = -i \\, k_{z} \\frac{\\partial}{\\partial x}H_{{\\rm inner}_{{\\rm vacuum}_{f_{z}}}}\\left(x\\right)$"
      ],
      "text/plain": [
       "<IPython.core.display.Math object>"
      ]
     },
     "metadata": {},
     "output_type": "display_data"
    }
   ],
   "source": [
    "eq_2_subs1 = eq_2.subs(k_y == 0)\n",
    "#print             (eq_2_subs1)\n",
    "display(Math(latex(eq_2_subs1)))"
   ]
  },
  {
   "cell_type": "code",
   "execution_count": 70,
   "metadata": {
    "scrolled": true
   },
   "outputs": [
    {
     "data": {
      "text/latex": [
       "$\\displaystyle -H_{{\\rm inner}_{{\\rm vacuum}_{f_{x}}}}\\left(x\\right) = \\frac{i \\, k_{z} \\frac{\\partial}{\\partial x}H_{{\\rm inner}_{{\\rm vacuum}_{f_{z}}}}\\left(x\\right)}{k_{z}^{2} - \\kappa_{\\mathit{vacuum}}^{2}}$"
      ],
      "text/plain": [
       "<IPython.core.display.Math object>"
      ]
     },
     "metadata": {},
     "output_type": "display_data"
    }
   ],
   "source": [
    "eq_2_subs2 = (eq_2_subs1/(kappa_vacuum^2 - k_z^2)).full_simplify()\n",
    "#print             (eq_2_subs2)\n",
    "display(Math(latex(eq_2_subs2)))"
   ]
  },
  {
   "cell_type": "code",
   "execution_count": 71,
   "metadata": {
    "scrolled": true
   },
   "outputs": [
    {
     "data": {
      "text/latex": [
       "$\\displaystyle -H_{{\\rm inner}_{{\\rm vacuum}_{f_{x}}}}\\left(x\\right) = -\\frac{{\\left(\\mathit{A2}_{y} K_{\\mathit{vacuum}}^{2} e^{\\left(i \\, K_{\\mathit{vacuum}} x\\right)} + \\mathit{A1}_{y} K_{\\mathit{vacuum}}^{2} e^{\\left(-i \\, K_{\\mathit{vacuum}} x\\right)} + i \\, {\\left(i \\, \\mathit{A2}_{x} K_{\\mathit{vacuum}} e^{\\left(i \\, K_{\\mathit{vacuum}} x\\right)} - i \\, \\mathit{A1}_{x} K_{\\mathit{vacuum}} e^{\\left(-i \\, K_{\\mathit{vacuum}} x\\right)}\\right)} k_{y}\\right)} c k_{z}}{{\\left(k_{z}^{2} - \\kappa_{\\mathit{vacuum}}^{2}\\right)} \\omega}$"
      ],
      "text/plain": [
       "<IPython.core.display.Math object>"
      ]
     },
     "metadata": {},
     "output_type": "display_data"
    }
   ],
   "source": [
    "eq_2_subs3 = eq_2_subs2.substitute_function(H_inner_vacuum_f_z, H_inner_vacuum_sol_z)\n",
    "#print             (eq_2_subs3)\n",
    "display(Math(latex(eq_2_subs3)))"
   ]
  },
  {
   "cell_type": "code",
   "execution_count": 72,
   "metadata": {},
   "outputs": [
    {
     "data": {
      "text/latex": [
       "$\\displaystyle -H_{{\\rm inner}_{{\\rm vacuum}_{f_{x}}}}\\left(x\\right) = -\\frac{{\\left(\\mathit{A2}_{y} K_{\\mathit{vacuum}}^{2} e^{\\left(i \\, K_{\\mathit{vacuum}} x\\right)} + \\mathit{A1}_{y} K_{\\mathit{vacuum}}^{2} e^{\\left(-i \\, K_{\\mathit{vacuum}} x\\right)} + i \\, {\\left(i \\, \\mathit{A2}_{x} K_{\\mathit{vacuum}} e^{\\left(i \\, K_{\\mathit{vacuum}} x\\right)} - i \\, \\mathit{A1}_{x} K_{\\mathit{vacuum}} e^{\\left(-i \\, K_{\\mathit{vacuum}} x\\right)}\\right)} k_{y}\\right)} k_{z}}{{\\left(k_{z}^{2} - \\kappa_{\\mathit{vacuum}}^{2}\\right)} \\kappa_{\\mathit{vacuum}}}$"
      ],
      "text/plain": [
       "<IPython.core.display.Math object>"
      ]
     },
     "metadata": {},
     "output_type": "display_data"
    }
   ],
   "source": [
    "eq_2_subs4 = eq_2_subs3.subs(omega==c*kappa_vacuum/sqrt(epsilon_0*mu_0))\n",
    "#print             (eq_2_subs4)\n",
    "display(Math(latex(eq_2_subs4)))"
   ]
  },
  {
   "cell_type": "code",
   "execution_count": null,
   "metadata": {},
   "outputs": [],
   "source": []
  },
  {
   "cell_type": "raw",
   "metadata": {},
   "source": [
    "print (\"eq_3 =\")\n",
    "print             (eq_3)\n",
    "display(Math(latex(eq_3)))"
   ]
  },
  {
   "cell_type": "raw",
   "metadata": {
    "scrolled": true
   },
   "source": [
    "eq_3_subs1 = eq_3.subs(k_y == 0)\n",
    "print             (eq_3_subs1)\n",
    "display(Math(latex(eq_3_subs1)))"
   ]
  },
  {
   "cell_type": "raw",
   "metadata": {
    "scrolled": true
   },
   "source": [
    "eq_3_subs2 = (eq_3_subs1/(kappa^2 - k_z^2)).full_simplify()\n",
    "print             (eq_3_subs2)\n",
    "display(Math(latex(eq_3_subs2)))"
   ]
  },
  {
   "cell_type": "raw",
   "metadata": {
    "scrolled": true
   },
   "source": [
    "eq_3_subs3 = eq_3_subs2.substitute_function(H_bad_conductor_f_z, H_bad_conductor_sol_z)\n",
    "print             (eq_3_subs3)\n",
    "display(Math(latex(eq_3_subs3)))"
   ]
  },
  {
   "cell_type": "raw",
   "metadata": {},
   "source": [
    "eq_3_subs4 = eq_3_subs3.subs(omega==c*kappa/sqrt(epsilon*mu))\n",
    "print             (eq_3_subs4)\n",
    "display(Math(latex(eq_3_subs4)))"
   ]
  },
  {
   "cell_type": "code",
   "execution_count": null,
   "metadata": {},
   "outputs": [],
   "source": []
  },
  {
   "cell_type": "raw",
   "metadata": {},
   "source": [
    "print (\"eq_4 =\")\n",
    "print             (eq_4)\n",
    "display(Math(latex(eq_4)))"
   ]
  },
  {
   "cell_type": "raw",
   "metadata": {
    "scrolled": true
   },
   "source": [
    "eq_4_subs1 = eq_4.subs(k_y == 0)\n",
    "print             (eq_4_subs1)\n",
    "display(Math(latex(eq_4_subs1)))"
   ]
  },
  {
   "cell_type": "raw",
   "metadata": {
    "scrolled": true
   },
   "source": [
    "eq_4_subs2 = (eq_4_subs1/(kappa^2 - k_z^2)).full_simplify()\n",
    "print             (eq_4_subs2)\n",
    "display(Math(latex(eq_4_subs2)))"
   ]
  },
  {
   "cell_type": "raw",
   "metadata": {
    "scrolled": true
   },
   "source": [
    "eq_4_subs3 = eq_4_subs2.substitute_function(H_bad_conductor_f_z, H_bad_conductor_sol_z)\n",
    "print             (eq_4_subs3)\n",
    "display(Math(latex(eq_4_subs3)))"
   ]
  },
  {
   "cell_type": "raw",
   "metadata": {},
   "source": [
    "eq_4_subs4 = eq_4_subs3.subs(omega==c*kappa/sqrt(epsilon*mu))\n",
    "print             (eq_4_subs4)\n",
    "display(Math(latex(eq_4_subs4)))"
   ]
  },
  {
   "cell_type": "code",
   "execution_count": null,
   "metadata": {},
   "outputs": [],
   "source": []
  },
  {
   "cell_type": "code",
   "execution_count": 73,
   "metadata": {},
   "outputs": [
    {
     "name": "stdout",
     "output_type": "stream",
     "text": [
      "eq_5_Ex =\n"
     ]
    },
    {
     "data": {
      "text/latex": [
       "$\\displaystyle -{\\left(k_{z}^{2} - \\kappa_{\\mathit{vacuum}}^{2}\\right)} E_{{\\rm inner}_{{\\rm vacuum}_{x}}}\\left(x\\right) = -k_{y} \\kappa_{\\mathit{vacuum}} H_{{\\rm inner}_{{\\rm vacuum}_{f_{z}}}}\\left(x\\right) + i \\, k_{z} \\frac{\\partial}{\\partial x}E_{{\\rm inner}_{{\\rm vacuum}_{z}}}\\left(x\\right)$"
      ],
      "text/plain": [
       "<IPython.core.display.Math object>"
      ]
     },
     "metadata": {},
     "output_type": "display_data"
    },
    {
     "name": "stdout",
     "output_type": "stream",
     "text": [
      "eq_6_Hy =\n"
     ]
    },
    {
     "data": {
      "text/latex": [
       "$\\displaystyle -{\\left(k_{z}^{2} - \\kappa_{\\mathit{vacuum}}^{2}\\right)} H_{{\\rm inner}_{{\\rm vacuum}_{f_{y}}}}\\left(x\\right) = -k_{y} k_{z} H_{{\\rm inner}_{{\\rm vacuum}_{f_{z}}}}\\left(x\\right) + i \\, \\kappa_{\\mathit{vacuum}} \\frac{\\partial}{\\partial x}E_{{\\rm inner}_{{\\rm vacuum}_{z}}}\\left(x\\right)$"
      ],
      "text/plain": [
       "<IPython.core.display.Math object>"
      ]
     },
     "metadata": {},
     "output_type": "display_data"
    }
   ],
   "source": [
    "print (\"eq_5_Ex =\")\n",
    "#print             (eq_5_Ex)\n",
    "display(Math(latex(eq_5_Ex)))\n",
    "\n",
    "print (\"eq_6_Hy =\")\n",
    "#print             (eq_6_Hy)\n",
    "display(Math(latex(eq_6_Hy)))"
   ]
  },
  {
   "cell_type": "code",
   "execution_count": 74,
   "metadata": {},
   "outputs": [
    {
     "name": "stdout",
     "output_type": "stream",
     "text": [
      "eq_7_Ex_l =\n"
     ]
    },
    {
     "data": {
      "text/latex": [
       "$\\displaystyle E_{{\\rm left}_{{\\rm conductor}_{x}}}\\left(x\\right) = \\frac{c k_{y} \\kappa_{l} \\sqrt{\\mu_{l}} H_{{\\rm left}_{{\\rm conductor}_{f_{z}}}}\\left(x\\right) - i \\, c \\sqrt{\\epsilon_{l}} k_{z} \\frac{\\partial}{\\partial x}E_{{\\rm left}_{{\\rm conductor}_{z}}}\\left(x\\right)}{c \\sqrt{\\epsilon_{l}} k_{z}^{2} - c \\sqrt{\\epsilon_{l}} \\kappa_{l}^{2} - 4 i \\, \\pi \\kappa_{l} \\sqrt{\\mu_{l}} \\sigma_{l}}$"
      ],
      "text/plain": [
       "<IPython.core.display.Math object>"
      ]
     },
     "metadata": {},
     "output_type": "display_data"
    },
    {
     "name": "stdout",
     "output_type": "stream",
     "text": [
      "eq_8_Hy_l =\n"
     ]
    },
    {
     "data": {
      "text/latex": [
       "$\\displaystyle H_{{\\rm left}_{{\\rm conductor}_{f_{y}}}}\\left(x\\right) = -\\frac{c \\epsilon_{l} k_{y} k_{z} \\sqrt{\\mu_{l}} H_{{\\rm left}_{{\\rm conductor}_{f_{z}}}}\\left(x\\right) - {\\left(i \\, c \\epsilon_{l}^{\\frac{3}{2}} \\kappa_{l} - 4 \\, \\pi \\epsilon_{l} \\sqrt{\\mu_{l}} \\sigma_{l}\\right)} \\frac{\\partial}{\\partial x}E_{{\\rm left}_{{\\rm conductor}_{z}}}\\left(x\\right)}{4 i \\, \\pi \\sqrt{\\epsilon_{l}} \\kappa_{l} \\mu_{l} \\sigma_{l} - {\\left(c \\epsilon_{l} k_{z}^{2} - c \\epsilon_{l} \\kappa_{l}^{2}\\right)} \\sqrt{\\mu_{l}}}$"
      ],
      "text/plain": [
       "<IPython.core.display.Math object>"
      ]
     },
     "metadata": {},
     "output_type": "display_data"
    }
   ],
   "source": [
    "print (\"eq_7_Ex_l =\")\n",
    "#print             (eq_7_Ex_l)\n",
    "display(Math(latex(eq_7_Ex_l)))\n",
    "\n",
    "print (\"eq_8_Hy_l =\")\n",
    "#print             (eq_8_Hy_l)\n",
    "display(Math(latex(eq_8_Hy_l)))"
   ]
  },
  {
   "cell_type": "code",
   "execution_count": 75,
   "metadata": {},
   "outputs": [
    {
     "name": "stdout",
     "output_type": "stream",
     "text": [
      "eq_7_Ex_r =\n"
     ]
    },
    {
     "data": {
      "text/latex": [
       "$\\displaystyle E_{{\\rm right}_{{\\rm conductor}_{x}}}\\left(x\\right) = \\frac{c k_{y} \\kappa_{r} \\sqrt{\\mu_{r}} H_{{\\rm right}_{{\\rm conductor}_{f_{z}}}}\\left(x\\right) - i \\, c \\sqrt{\\epsilon_{r}} k_{z} \\frac{\\partial}{\\partial x}E_{{\\rm right}_{{\\rm conductor}_{z}}}\\left(x\\right)}{c \\sqrt{\\epsilon_{r}} k_{z}^{2} - c \\sqrt{\\epsilon_{r}} \\kappa_{r}^{2} - 4 i \\, \\pi \\kappa_{r} \\sqrt{\\mu_{r}} \\sigma_{r}}$"
      ],
      "text/plain": [
       "<IPython.core.display.Math object>"
      ]
     },
     "metadata": {},
     "output_type": "display_data"
    },
    {
     "name": "stdout",
     "output_type": "stream",
     "text": [
      "eq_8_Hy_r =\n"
     ]
    },
    {
     "data": {
      "text/latex": [
       "$\\displaystyle H_{{\\rm right}_{{\\rm conductor}_{f_{y}}}}\\left(x\\right) = -\\frac{c \\epsilon_{r} k_{y} k_{z} \\sqrt{\\mu_{r}} H_{{\\rm right}_{{\\rm conductor}_{f_{z}}}}\\left(x\\right) - {\\left(i \\, c \\epsilon_{r}^{\\frac{3}{2}} \\kappa_{r} - 4 \\, \\pi \\epsilon_{r} \\sqrt{\\mu_{r}} \\sigma_{r}\\right)} \\frac{\\partial}{\\partial x}E_{{\\rm right}_{{\\rm conductor}_{z}}}\\left(x\\right)}{4 i \\, \\pi \\sqrt{\\epsilon_{r}} \\kappa_{r} \\mu_{r} \\sigma_{r} - {\\left(c \\epsilon_{r} k_{z}^{2} - c \\epsilon_{r} \\kappa_{r}^{2}\\right)} \\sqrt{\\mu_{r}}}$"
      ],
      "text/plain": [
       "<IPython.core.display.Math object>"
      ]
     },
     "metadata": {},
     "output_type": "display_data"
    }
   ],
   "source": [
    "print (\"eq_7_Ex_r =\")\n",
    "#print             (eq_7_Ex_r)\n",
    "display(Math(latex(eq_7_Ex_r)))\n",
    "\n",
    "print (\"eq_8_Hy_r =\")\n",
    "#print             (eq_8_Hy_r)\n",
    "display(Math(latex(eq_8_Hy_r)))"
   ]
  },
  {
   "cell_type": "code",
   "execution_count": null,
   "metadata": {},
   "outputs": [],
   "source": []
  },
  {
   "cell_type": "code",
   "execution_count": 76,
   "metadata": {},
   "outputs": [
    {
     "name": "stdout",
     "output_type": "stream",
     "text": [
      "eq_5_Ex =\n"
     ]
    },
    {
     "data": {
      "text/latex": [
       "$\\displaystyle -{\\left(k_{z}^{2} - \\kappa_{\\mathit{vacuum}}^{2}\\right)} E_{{\\rm inner}_{{\\rm vacuum}_{x}}}\\left(x\\right) = -k_{y} \\kappa_{\\mathit{vacuum}} H_{{\\rm inner}_{{\\rm vacuum}_{f_{z}}}}\\left(x\\right) + i \\, k_{z} \\frac{\\partial}{\\partial x}E_{{\\rm inner}_{{\\rm vacuum}_{z}}}\\left(x\\right)$"
      ],
      "text/plain": [
       "<IPython.core.display.Math object>"
      ]
     },
     "metadata": {},
     "output_type": "display_data"
    }
   ],
   "source": [
    "print (\"eq_5_Ex =\")\n",
    "#print             (eq_5_Ex)\n",
    "display(Math(latex(eq_5_Ex)))"
   ]
  },
  {
   "cell_type": "code",
   "execution_count": 77,
   "metadata": {
    "scrolled": true
   },
   "outputs": [
    {
     "data": {
      "text/latex": [
       "$\\displaystyle -{\\left(k_{z}^{2} - \\kappa_{\\mathit{vacuum}}^{2}\\right)} E_{{\\rm inner}_{{\\rm vacuum}_{x}}}\\left(x\\right) = i \\, k_{z} \\frac{\\partial}{\\partial x}E_{{\\rm inner}_{{\\rm vacuum}_{z}}}\\left(x\\right)$"
      ],
      "text/plain": [
       "<IPython.core.display.Math object>"
      ]
     },
     "metadata": {},
     "output_type": "display_data"
    }
   ],
   "source": [
    "eq_5_Ex_subs1 = eq_5_Ex.subs(k_y == 0)\n",
    "#print             (eq_5_Ex_subs1)\n",
    "display(Math(latex(eq_5_Ex_subs1)))"
   ]
  },
  {
   "cell_type": "code",
   "execution_count": 78,
   "metadata": {
    "scrolled": true
   },
   "outputs": [
    {
     "data": {
      "text/latex": [
       "$\\displaystyle E_{{\\rm inner}_{{\\rm vacuum}_{x}}}\\left(x\\right) = -\\frac{i \\, k_{z} \\frac{\\partial}{\\partial x}E_{{\\rm inner}_{{\\rm vacuum}_{z}}}\\left(x\\right)}{k_{z}^{2} - \\kappa_{\\mathit{vacuum}}^{2}}$"
      ],
      "text/plain": [
       "<IPython.core.display.Math object>"
      ]
     },
     "metadata": {},
     "output_type": "display_data"
    }
   ],
   "source": [
    "eq_5_Ex_subs2 = (eq_5_Ex_subs1/(kappa_vacuum^2 - k_z^2)).full_simplify()\n",
    "#print             (eq_5_Ex_subs2)\n",
    "display(Math(latex(eq_5_Ex_subs2)))"
   ]
  },
  {
   "cell_type": "code",
   "execution_count": 79,
   "metadata": {
    "scrolled": true
   },
   "outputs": [
    {
     "data": {
      "text/latex": [
       "$\\displaystyle E_{{\\rm inner}_{{\\rm vacuum}_{x}}}\\left(x\\right) = -\\frac{i \\, {\\left(i \\, \\mathit{A2}_{z} K_{\\mathit{vacuum}} e^{\\left(i \\, K_{\\mathit{vacuum}} x\\right)} - i \\, \\mathit{A1}_{z} K_{\\mathit{vacuum}} e^{\\left(-i \\, K_{\\mathit{vacuum}} x\\right)}\\right)} k_{z}}{k_{z}^{2} - \\kappa_{\\mathit{vacuum}}^{2}}$"
      ],
      "text/plain": [
       "<IPython.core.display.Math object>"
      ]
     },
     "metadata": {},
     "output_type": "display_data"
    }
   ],
   "source": [
    "eq_5_Ex_subs3 = eq_5_Ex_subs2.substitute_function(E_inner_vacuum_z, E_inner_vacuum_sol_z)\n",
    "#print             (eq_5_Ex_subs3)\n",
    "display(Math(latex(eq_5_Ex_subs3)))"
   ]
  },
  {
   "cell_type": "code",
   "execution_count": 80,
   "metadata": {},
   "outputs": [
    {
     "data": {
      "text/latex": [
       "$\\displaystyle E_{{\\rm inner}_{{\\rm vacuum}_{x}}}\\left(x\\right) = -\\frac{{\\left(\\mathit{A2}_{z} k_{z} e^{\\left(2 i \\, \\sqrt{-k_{z}^{2} + \\kappa_{\\mathit{vacuum}}^{2}} x\\right)} - \\mathit{A1}_{z} k_{z}\\right)} e^{\\left(-i \\, \\sqrt{-k_{z}^{2} + \\kappa_{\\mathit{vacuum}}^{2}} x\\right)}}{\\sqrt{-k_{z}^{2} + \\kappa_{\\mathit{vacuum}}^{2}}}$"
      ],
      "text/plain": [
       "<IPython.core.display.Math object>"
      ]
     },
     "metadata": {},
     "output_type": "display_data"
    }
   ],
   "source": [
    "eq_5_Ex_subs4 = eq_5_Ex_subs3.subs(K_vacuum_subs).full_simplify()\n",
    "#print             (eq_5_Ex_subs4)\n",
    "display(Math(latex(eq_5_Ex_subs4)))"
   ]
  },
  {
   "cell_type": "code",
   "execution_count": null,
   "metadata": {},
   "outputs": [],
   "source": []
  },
  {
   "cell_type": "code",
   "execution_count": 81,
   "metadata": {},
   "outputs": [
    {
     "name": "stdout",
     "output_type": "stream",
     "text": [
      "eq_6_Hy =\n"
     ]
    },
    {
     "data": {
      "text/latex": [
       "$\\displaystyle -{\\left(k_{z}^{2} - \\kappa_{\\mathit{vacuum}}^{2}\\right)} H_{{\\rm inner}_{{\\rm vacuum}_{f_{y}}}}\\left(x\\right) = -k_{y} k_{z} H_{{\\rm inner}_{{\\rm vacuum}_{f_{z}}}}\\left(x\\right) + i \\, \\kappa_{\\mathit{vacuum}} \\frac{\\partial}{\\partial x}E_{{\\rm inner}_{{\\rm vacuum}_{z}}}\\left(x\\right)$"
      ],
      "text/plain": [
       "<IPython.core.display.Math object>"
      ]
     },
     "metadata": {},
     "output_type": "display_data"
    }
   ],
   "source": [
    "print (\"eq_6_Hy =\")\n",
    "#print             (eq_6_Hy)\n",
    "display(Math(latex(eq_6_Hy)))"
   ]
  },
  {
   "cell_type": "code",
   "execution_count": 82,
   "metadata": {
    "scrolled": true
   },
   "outputs": [
    {
     "data": {
      "text/latex": [
       "$\\displaystyle -{\\left(k_{z}^{2} - \\kappa_{\\mathit{vacuum}}^{2}\\right)} H_{{\\rm inner}_{{\\rm vacuum}_{f_{y}}}}\\left(x\\right) = i \\, \\kappa_{\\mathit{vacuum}} \\frac{\\partial}{\\partial x}E_{{\\rm inner}_{{\\rm vacuum}_{z}}}\\left(x\\right)$"
      ],
      "text/plain": [
       "<IPython.core.display.Math object>"
      ]
     },
     "metadata": {},
     "output_type": "display_data"
    }
   ],
   "source": [
    "eq_6_Hy_subs1 = eq_6_Hy.subs(k_y == 0)\n",
    "#print             (eq_6_Hy_subs1)\n",
    "display(Math(latex(eq_6_Hy_subs1)))"
   ]
  },
  {
   "cell_type": "code",
   "execution_count": 83,
   "metadata": {
    "scrolled": true
   },
   "outputs": [
    {
     "data": {
      "text/latex": [
       "$\\displaystyle H_{{\\rm inner}_{{\\rm vacuum}_{f_{y}}}}\\left(x\\right) = -\\frac{i \\, \\kappa_{\\mathit{vacuum}} \\frac{\\partial}{\\partial x}E_{{\\rm inner}_{{\\rm vacuum}_{z}}}\\left(x\\right)}{k_{z}^{2} - \\kappa_{\\mathit{vacuum}}^{2}}$"
      ],
      "text/plain": [
       "<IPython.core.display.Math object>"
      ]
     },
     "metadata": {},
     "output_type": "display_data"
    }
   ],
   "source": [
    "eq_6_Hy_subs2 = (eq_6_Hy_subs1/(kappa_vacuum^2 - k_z^2)).full_simplify()\n",
    "#print             (eq_6_Hy_subs2)\n",
    "display(Math(latex(eq_6_Hy_subs2)))"
   ]
  },
  {
   "cell_type": "code",
   "execution_count": 84,
   "metadata": {
    "scrolled": true
   },
   "outputs": [
    {
     "data": {
      "text/latex": [
       "$\\displaystyle H_{{\\rm inner}_{{\\rm vacuum}_{f_{y}}}}\\left(x\\right) = -\\frac{i \\, {\\left(i \\, \\mathit{A2}_{z} K_{\\mathit{vacuum}} e^{\\left(i \\, K_{\\mathit{vacuum}} x\\right)} - i \\, \\mathit{A1}_{z} K_{\\mathit{vacuum}} e^{\\left(-i \\, K_{\\mathit{vacuum}} x\\right)}\\right)} \\kappa_{\\mathit{vacuum}}}{k_{z}^{2} - \\kappa_{\\mathit{vacuum}}^{2}}$"
      ],
      "text/plain": [
       "<IPython.core.display.Math object>"
      ]
     },
     "metadata": {},
     "output_type": "display_data"
    }
   ],
   "source": [
    "eq_6_Hy_subs3 = eq_6_Hy_subs2.substitute_function(E_inner_vacuum_z, E_inner_vacuum_sol_z)\n",
    "#print             (eq_6_Hy_subs3)\n",
    "display(Math(latex(eq_6_Hy_subs3)))"
   ]
  },
  {
   "cell_type": "code",
   "execution_count": null,
   "metadata": {},
   "outputs": [],
   "source": []
  },
  {
   "cell_type": "code",
   "execution_count": 85,
   "metadata": {},
   "outputs": [
    {
     "name": "stdout",
     "output_type": "stream",
     "text": [
      "eq_7_Ex_l =\n"
     ]
    },
    {
     "data": {
      "text/latex": [
       "$\\displaystyle E_{{\\rm left}_{{\\rm conductor}_{x}}}\\left(x\\right) = \\frac{c k_{y} \\kappa_{l} \\sqrt{\\mu_{l}} H_{{\\rm left}_{{\\rm conductor}_{f_{z}}}}\\left(x\\right) - i \\, c \\sqrt{\\epsilon_{l}} k_{z} \\frac{\\partial}{\\partial x}E_{{\\rm left}_{{\\rm conductor}_{z}}}\\left(x\\right)}{c \\sqrt{\\epsilon_{l}} k_{z}^{2} - c \\sqrt{\\epsilon_{l}} \\kappa_{l}^{2} - 4 i \\, \\pi \\kappa_{l} \\sqrt{\\mu_{l}} \\sigma_{l}}$"
      ],
      "text/plain": [
       "<IPython.core.display.Math object>"
      ]
     },
     "metadata": {},
     "output_type": "display_data"
    }
   ],
   "source": [
    "print (\"eq_7_Ex_l =\")\n",
    "#print             (eq_7_Ex_l)\n",
    "display(Math(latex(eq_7_Ex_l)))"
   ]
  },
  {
   "cell_type": "code",
   "execution_count": 86,
   "metadata": {
    "scrolled": true
   },
   "outputs": [
    {
     "data": {
      "text/latex": [
       "$\\displaystyle E_{{\\rm left}_{{\\rm conductor}_{x}}}\\left(x\\right) = -\\frac{i \\, c \\sqrt{\\epsilon_{l}} k_{z} \\frac{\\partial}{\\partial x}E_{{\\rm left}_{{\\rm conductor}_{z}}}\\left(x\\right)}{c \\sqrt{\\epsilon_{l}} k_{z}^{2} - c \\sqrt{\\epsilon_{l}} \\kappa_{l}^{2} - 4 i \\, \\pi \\kappa_{l} \\sqrt{\\mu_{l}} \\sigma_{l}}$"
      ],
      "text/plain": [
       "<IPython.core.display.Math object>"
      ]
     },
     "metadata": {},
     "output_type": "display_data"
    }
   ],
   "source": [
    "eq_7_Ex_l_subs_1 = eq_7_Ex_l.subs(k_y == 0)\n",
    "#print             (eq_7_Ex_l_subs_1)\n",
    "display(Math(latex(eq_7_Ex_l_subs_1)))"
   ]
  },
  {
   "cell_type": "code",
   "execution_count": 87,
   "metadata": {},
   "outputs": [
    {
     "data": {
      "text/latex": [
       "$\\displaystyle E_{{\\rm left}_{{\\rm conductor}_{x}}}\\left(x\\right) = -\\frac{\\mathit{B1}_{\\mathit{zl}} K_{\\mathit{left}_{\\mathit{conductor}}} c \\sqrt{\\epsilon_{l}} k_{z} e^{\\left(-i \\, K_{\\mathit{left}_{\\mathit{conductor}}} {\\left(a + x\\right)}\\right)}}{c \\sqrt{\\epsilon_{l}} k_{z}^{2} - c \\sqrt{\\epsilon_{l}} \\kappa_{l}^{2} - 4 i \\, \\pi \\kappa_{l} \\sqrt{\\mu_{l}} \\sigma_{l}}$"
      ],
      "text/plain": [
       "<IPython.core.display.Math object>"
      ]
     },
     "metadata": {},
     "output_type": "display_data"
    }
   ],
   "source": [
    "eq_7_Ex_l_subs2 = eq_7_Ex_l_subs_1.substitute_function(E_left_conductor_z, E_left_conductor_sol_z)\n",
    "#print             (eq_7_Ex_subs2)\n",
    "display(Math(latex(eq_7_Ex_l_subs2)))"
   ]
  },
  {
   "cell_type": "code",
   "execution_count": null,
   "metadata": {},
   "outputs": [],
   "source": []
  },
  {
   "cell_type": "code",
   "execution_count": 88,
   "metadata": {},
   "outputs": [
    {
     "name": "stdout",
     "output_type": "stream",
     "text": [
      "eq_7_Ex_r =\n"
     ]
    },
    {
     "data": {
      "text/latex": [
       "$\\displaystyle E_{{\\rm right}_{{\\rm conductor}_{x}}}\\left(x\\right) = \\frac{c k_{y} \\kappa_{r} \\sqrt{\\mu_{r}} H_{{\\rm right}_{{\\rm conductor}_{f_{z}}}}\\left(x\\right) - i \\, c \\sqrt{\\epsilon_{r}} k_{z} \\frac{\\partial}{\\partial x}E_{{\\rm right}_{{\\rm conductor}_{z}}}\\left(x\\right)}{c \\sqrt{\\epsilon_{r}} k_{z}^{2} - c \\sqrt{\\epsilon_{r}} \\kappa_{r}^{2} - 4 i \\, \\pi \\kappa_{r} \\sqrt{\\mu_{r}} \\sigma_{r}}$"
      ],
      "text/plain": [
       "<IPython.core.display.Math object>"
      ]
     },
     "metadata": {},
     "output_type": "display_data"
    }
   ],
   "source": [
    "print (\"eq_7_Ex_r =\")\n",
    "#print             (eq_7_Ex_r)\n",
    "display(Math(latex(eq_7_Ex_r)))"
   ]
  },
  {
   "cell_type": "code",
   "execution_count": 89,
   "metadata": {
    "scrolled": true
   },
   "outputs": [
    {
     "data": {
      "text/latex": [
       "$\\displaystyle E_{{\\rm right}_{{\\rm conductor}_{x}}}\\left(x\\right) = -\\frac{i \\, c \\sqrt{\\epsilon_{r}} k_{z} \\frac{\\partial}{\\partial x}E_{{\\rm right}_{{\\rm conductor}_{z}}}\\left(x\\right)}{c \\sqrt{\\epsilon_{r}} k_{z}^{2} - c \\sqrt{\\epsilon_{r}} \\kappa_{r}^{2} - 4 i \\, \\pi \\kappa_{r} \\sqrt{\\mu_{r}} \\sigma_{r}}$"
      ],
      "text/plain": [
       "<IPython.core.display.Math object>"
      ]
     },
     "metadata": {},
     "output_type": "display_data"
    }
   ],
   "source": [
    "eq_7_Ex_r_subs_1 = eq_7_Ex_r.subs(k_y == 0)\n",
    "#print             (eq_7_Ex_r_subs_1)\n",
    "display(Math(latex(eq_7_Ex_r_subs_1)))"
   ]
  },
  {
   "cell_type": "code",
   "execution_count": 90,
   "metadata": {},
   "outputs": [
    {
     "data": {
      "text/latex": [
       "$\\displaystyle E_{{\\rm right}_{{\\rm conductor}_{x}}}\\left(x\\right) = \\frac{\\mathit{B1}_{\\mathit{zr}} K_{\\mathit{right}_{\\mathit{conductor}}} c \\sqrt{\\epsilon_{r}} k_{z} e^{\\left(-i \\, K_{\\mathit{right}_{\\mathit{conductor}}} {\\left(a - x\\right)}\\right)}}{c \\sqrt{\\epsilon_{r}} k_{z}^{2} - c \\sqrt{\\epsilon_{r}} \\kappa_{r}^{2} - 4 i \\, \\pi \\kappa_{r} \\sqrt{\\mu_{r}} \\sigma_{r}}$"
      ],
      "text/plain": [
       "<IPython.core.display.Math object>"
      ]
     },
     "metadata": {},
     "output_type": "display_data"
    }
   ],
   "source": [
    "eq_7_Ex_r_subs2 = eq_7_Ex_r_subs_1.substitute_function(E_right_conductor_z, E_right_conductor_sol_z)\n",
    "#print             (eq_7_Ex_subs2)\n",
    "display(Math(latex(eq_7_Ex_r_subs2)))"
   ]
  },
  {
   "cell_type": "code",
   "execution_count": null,
   "metadata": {},
   "outputs": [],
   "source": []
  },
  {
   "cell_type": "code",
   "execution_count": 91,
   "metadata": {},
   "outputs": [
    {
     "name": "stdout",
     "output_type": "stream",
     "text": [
      "eq_8_Hy_l =\n"
     ]
    },
    {
     "data": {
      "text/latex": [
       "$\\displaystyle H_{{\\rm left}_{{\\rm conductor}_{f_{y}}}}\\left(x\\right) = -\\frac{c \\epsilon_{l} k_{y} k_{z} \\sqrt{\\mu_{l}} H_{{\\rm left}_{{\\rm conductor}_{f_{z}}}}\\left(x\\right) - {\\left(i \\, c \\epsilon_{l}^{\\frac{3}{2}} \\kappa_{l} - 4 \\, \\pi \\epsilon_{l} \\sqrt{\\mu_{l}} \\sigma_{l}\\right)} \\frac{\\partial}{\\partial x}E_{{\\rm left}_{{\\rm conductor}_{z}}}\\left(x\\right)}{4 i \\, \\pi \\sqrt{\\epsilon_{l}} \\kappa_{l} \\mu_{l} \\sigma_{l} - {\\left(c \\epsilon_{l} k_{z}^{2} - c \\epsilon_{l} \\kappa_{l}^{2}\\right)} \\sqrt{\\mu_{l}}}$"
      ],
      "text/plain": [
       "<IPython.core.display.Math object>"
      ]
     },
     "metadata": {},
     "output_type": "display_data"
    }
   ],
   "source": [
    "print (\"eq_8_Hy_l =\")\n",
    "#print             (eq_8_Hy_l)\n",
    "display(Math(latex(eq_8_Hy_l)))"
   ]
  },
  {
   "cell_type": "code",
   "execution_count": 92,
   "metadata": {
    "scrolled": true
   },
   "outputs": [
    {
     "data": {
      "text/latex": [
       "$\\displaystyle H_{{\\rm left}_{{\\rm conductor}_{f_{y}}}}\\left(x\\right) = \\frac{{\\left(i \\, c \\epsilon_{l}^{\\frac{3}{2}} \\kappa_{l} - 4 \\, \\pi \\epsilon_{l} \\sqrt{\\mu_{l}} \\sigma_{l}\\right)} \\frac{\\partial}{\\partial x}E_{{\\rm left}_{{\\rm conductor}_{z}}}\\left(x\\right)}{4 i \\, \\pi \\sqrt{\\epsilon_{l}} \\kappa_{l} \\mu_{l} \\sigma_{l} - {\\left(c \\epsilon_{l} k_{z}^{2} - c \\epsilon_{l} \\kappa_{l}^{2}\\right)} \\sqrt{\\mu_{l}}}$"
      ],
      "text/plain": [
       "<IPython.core.display.Math object>"
      ]
     },
     "metadata": {},
     "output_type": "display_data"
    }
   ],
   "source": [
    "eq_8_Hy_l_subs_1 = eq_8_Hy_l.subs(k_y == 0)\n",
    "#print             (eq_8_l_subs_1)\n",
    "display(Math(latex(eq_8_Hy_l_subs_1)))"
   ]
  },
  {
   "cell_type": "code",
   "execution_count": 93,
   "metadata": {
    "scrolled": true
   },
   "outputs": [
    {
     "data": {
      "text/latex": [
       "$\\displaystyle H_{{\\rm left}_{{\\rm conductor}_{f_{y}}}}\\left(x\\right) = -\\frac{i \\, {\\left(i \\, c \\epsilon_{l}^{\\frac{3}{2}} \\kappa_{l} - 4 \\, \\pi \\epsilon_{l} \\sqrt{\\mu_{l}} \\sigma_{l}\\right)} \\mathit{B1}_{\\mathit{zl}} K_{\\mathit{left}_{\\mathit{conductor}}} e^{\\left(-i \\, K_{\\mathit{left}_{\\mathit{conductor}}} {\\left(a + x\\right)}\\right)}}{4 i \\, \\pi \\sqrt{\\epsilon_{l}} \\kappa_{l} \\mu_{l} \\sigma_{l} - {\\left(c \\epsilon_{l} k_{z}^{2} - c \\epsilon_{l} \\kappa_{l}^{2}\\right)} \\sqrt{\\mu_{l}}}$"
      ],
      "text/plain": [
       "<IPython.core.display.Math object>"
      ]
     },
     "metadata": {},
     "output_type": "display_data"
    }
   ],
   "source": [
    "eq_8_Hy_l_subs2 = eq_8_Hy_l_subs_1.substitute_function(E_left_conductor_z, E_left_conductor_sol_z)\n",
    "#print             (eq_8_l_subs2)\n",
    "display(Math(latex(eq_8_Hy_l_subs2)))"
   ]
  },
  {
   "cell_type": "code",
   "execution_count": null,
   "metadata": {},
   "outputs": [],
   "source": []
  },
  {
   "cell_type": "code",
   "execution_count": 94,
   "metadata": {},
   "outputs": [
    {
     "name": "stdout",
     "output_type": "stream",
     "text": [
      "eq_8_Hy_r =\n"
     ]
    },
    {
     "data": {
      "text/latex": [
       "$\\displaystyle H_{{\\rm right}_{{\\rm conductor}_{f_{y}}}}\\left(x\\right) = -\\frac{c \\epsilon_{r} k_{y} k_{z} \\sqrt{\\mu_{r}} H_{{\\rm right}_{{\\rm conductor}_{f_{z}}}}\\left(x\\right) - {\\left(i \\, c \\epsilon_{r}^{\\frac{3}{2}} \\kappa_{r} - 4 \\, \\pi \\epsilon_{r} \\sqrt{\\mu_{r}} \\sigma_{r}\\right)} \\frac{\\partial}{\\partial x}E_{{\\rm right}_{{\\rm conductor}_{z}}}\\left(x\\right)}{4 i \\, \\pi \\sqrt{\\epsilon_{r}} \\kappa_{r} \\mu_{r} \\sigma_{r} - {\\left(c \\epsilon_{r} k_{z}^{2} - c \\epsilon_{r} \\kappa_{r}^{2}\\right)} \\sqrt{\\mu_{r}}}$"
      ],
      "text/plain": [
       "<IPython.core.display.Math object>"
      ]
     },
     "metadata": {},
     "output_type": "display_data"
    }
   ],
   "source": [
    "print (\"eq_8_Hy_r =\")\n",
    "#print             (eq_8_Hy_r)\n",
    "display(Math(latex(eq_8_Hy_r)))"
   ]
  },
  {
   "cell_type": "code",
   "execution_count": 95,
   "metadata": {
    "scrolled": true
   },
   "outputs": [
    {
     "data": {
      "text/latex": [
       "$\\displaystyle H_{{\\rm right}_{{\\rm conductor}_{f_{y}}}}\\left(x\\right) = \\frac{{\\left(i \\, c \\epsilon_{r}^{\\frac{3}{2}} \\kappa_{r} - 4 \\, \\pi \\epsilon_{r} \\sqrt{\\mu_{r}} \\sigma_{r}\\right)} \\frac{\\partial}{\\partial x}E_{{\\rm right}_{{\\rm conductor}_{z}}}\\left(x\\right)}{4 i \\, \\pi \\sqrt{\\epsilon_{r}} \\kappa_{r} \\mu_{r} \\sigma_{r} - {\\left(c \\epsilon_{r} k_{z}^{2} - c \\epsilon_{r} \\kappa_{r}^{2}\\right)} \\sqrt{\\mu_{r}}}$"
      ],
      "text/plain": [
       "<IPython.core.display.Math object>"
      ]
     },
     "metadata": {},
     "output_type": "display_data"
    }
   ],
   "source": [
    "eq_8_Hy_r_subs_1 = eq_8_Hy_r.subs(k_y == 0)\n",
    "#print             (eq_8_Hy_r_subs_1)\n",
    "display(Math(latex(eq_8_Hy_r_subs_1)))"
   ]
  },
  {
   "cell_type": "code",
   "execution_count": 96,
   "metadata": {},
   "outputs": [
    {
     "data": {
      "text/latex": [
       "$\\displaystyle H_{{\\rm right}_{{\\rm conductor}_{f_{y}}}}\\left(x\\right) = \\frac{i \\, {\\left(i \\, c \\epsilon_{r}^{\\frac{3}{2}} \\kappa_{r} - 4 \\, \\pi \\epsilon_{r} \\sqrt{\\mu_{r}} \\sigma_{r}\\right)} \\mathit{B1}_{\\mathit{zr}} K_{\\mathit{right}_{\\mathit{conductor}}} e^{\\left(-i \\, K_{\\mathit{right}_{\\mathit{conductor}}} {\\left(a - x\\right)}\\right)}}{4 i \\, \\pi \\sqrt{\\epsilon_{r}} \\kappa_{r} \\mu_{r} \\sigma_{r} - {\\left(c \\epsilon_{r} k_{z}^{2} - c \\epsilon_{r} \\kappa_{r}^{2}\\right)} \\sqrt{\\mu_{r}}}$"
      ],
      "text/plain": [
       "<IPython.core.display.Math object>"
      ]
     },
     "metadata": {},
     "output_type": "display_data"
    }
   ],
   "source": [
    "eq_8_Hy_r_subs2 = eq_8_Hy_r_subs_1.substitute_function(E_right_conductor_z, E_right_conductor_sol_z)\n",
    "#print             (eq_8_r_subs2)\n",
    "display(Math(latex(eq_8_Hy_r_subs2)))"
   ]
  },
  {
   "cell_type": "raw",
   "metadata": {},
   "source": [
    "fix_c_epsilon_complex = False"
   ]
  },
  {
   "cell_type": "code",
   "execution_count": 97,
   "metadata": {},
   "outputs": [
    {
     "data": {
      "text/latex": [
       "$\\displaystyle -\\frac{i \\, {\\left(i \\, c \\epsilon_{l}^{\\frac{3}{2}} \\kappa_{l} - 4 \\, \\pi \\epsilon_{l} \\sqrt{\\mu_{l}} \\sigma_{l}\\right)} \\sqrt{-k_{z}^{2} + \\kappa_{l}^{2}} \\mathit{B1}_{\\mathit{zl}} \\kappa_{l}}{{\\left(4 i \\, \\pi \\sqrt{\\epsilon_{l}} \\kappa_{l} \\mu_{l} \\sigma_{l} - {\\left(c \\epsilon_{l} k_{z}^{2} - c \\epsilon_{l} \\kappa_{l}^{2}\\right)} \\sqrt{\\mu_{l}}\\right)} \\mu_{l}} = -\\frac{i \\, {\\left(-i \\, \\sqrt{-k_{z}^{2} + \\kappa_{\\mathit{vacuum}}^{2}} \\mathit{A1}_{z} e^{\\left(i \\, \\sqrt{-k_{z}^{2} + \\kappa_{\\mathit{vacuum}}^{2}} a\\right)} + i \\, \\sqrt{-k_{z}^{2} + \\kappa_{\\mathit{vacuum}}^{2}} \\mathit{A2}_{z} e^{\\left(-i \\, \\sqrt{-k_{z}^{2} + \\kappa_{\\mathit{vacuum}}^{2}} a\\right)}\\right)} \\kappa_{\\mathit{vacuum}}^{2}}{k_{z}^{2} - \\kappa_{\\mathit{vacuum}}^{2}}$"
      ],
      "text/plain": [
       "<IPython.core.display.Math object>"
      ]
     },
     "metadata": {},
     "output_type": "display_data"
    },
    {
     "data": {
      "text/latex": [
       "$\\displaystyle \\frac{i \\, {\\left(i \\, c \\epsilon_{r}^{\\frac{3}{2}} \\kappa_{r} - 4 \\, \\pi \\epsilon_{r} \\sqrt{\\mu_{r}} \\sigma_{r}\\right)} \\sqrt{-k_{z}^{2} + \\kappa_{r}^{2}} \\mathit{B1}_{\\mathit{zr}} \\kappa_{r}}{{\\left(4 i \\, \\pi \\sqrt{\\epsilon_{r}} \\kappa_{r} \\mu_{r} \\sigma_{r} - {\\left(c \\epsilon_{r} k_{z}^{2} - c \\epsilon_{r} \\kappa_{r}^{2}\\right)} \\sqrt{\\mu_{r}}\\right)} \\mu_{r}} = -\\frac{i \\, {\\left(i \\, \\sqrt{-k_{z}^{2} + \\kappa_{\\mathit{vacuum}}^{2}} \\mathit{A2}_{z} e^{\\left(i \\, \\sqrt{-k_{z}^{2} + \\kappa_{\\mathit{vacuum}}^{2}} a\\right)} - i \\, \\sqrt{-k_{z}^{2} + \\kappa_{\\mathit{vacuum}}^{2}} \\mathit{A1}_{z} e^{\\left(-i \\, \\sqrt{-k_{z}^{2} + \\kappa_{\\mathit{vacuum}}^{2}} a\\right)}\\right)} \\kappa_{\\mathit{vacuum}}^{2}}{k_{z}^{2} - \\kappa_{\\mathit{vacuum}}^{2}}$"
      ],
      "text/plain": [
       "<IPython.core.display.Math object>"
      ]
     },
     "metadata": {},
     "output_type": "display_data"
    }
   ],
   "source": [
    "# тангенциальная компонента напряженности магнитного поля\n",
    "# eqHz_a  = (H_bad_conductor_sol_z(0)  == H_inner_vacuum_sol_z(0)).subs(eqEz_0, eqEy_0)\n",
    "# eqHy_a  = (H_bad_conductor_sol_y(0)  == H_inner_vacuum_sol_y(0)).subs(eqEy_0, eqEz_0)\n",
    "\n",
    "#8 sqrt(mu)*H_bad_conductor_f_y(x)/sqrt(epsilon) == B1_z*K_conductor*kappa*e^(I*K_conductor*x)/(k_z^2 - kappa^2)\n",
    "#6 H_inner_vacuum_f_y(x) == -I*(I*A2_z*K_vacuum*e^(I*K_vacuum*x) - I*A1_z*K_vacuum*e^(-I*K_vacuum*x))*kappa_vacuum/(k_z^2 - kappa_vacuum^2)\n",
    "\n",
    "# eq_Hy_0 = eq_8_subs3.rhs().subs(x == 0)*sqrt(epsilon_complex)/sqrt(mu) == eq_6_subs3.rhs().subs(x == 0)\n",
    "# eq_Hy_0 = (eq_8_subs3.rhs().subs(x == 0).subs(K_conductor_subs)*sqrt(epsilon_complex)/sqrt(mu)) \\\n",
    "#         == eq_6_subs3.rhs().subs(x == 0).subs(K_vacuum_subs)\n",
    "\n",
    "# sqrt(mu / epsilon_complex) = omega * mu / kappa\n",
    "# sqrt(mu / epsilon_complex) = omega * mu_rel * mu_0 / kappa\n",
    "\n",
    "# kappa/mu == omega * sqrt(epsilon_complex/mu)\n",
    "# sqrt(mu_0 / epsilon_0) = omega * mu_0 / kappa_vacuum\n",
    "\n",
    "# kappa_vacuum == omega/c\n",
    "# sqrt(mu_0 / epsilon_0) = c * mu_0\n",
    "# c = 1 / sqrt(mu_0 * epsilon_0)\n",
    "\n",
    "# kappa = omega * sqrt(epsilon_comlex*mu)\n",
    "# kappa_vacuum = omega * sqrt(epsilon_0*mu_0) = omega/c\n",
    "\n",
    "# sqrt(mu_0 / epsilon_0) = 1/(c*epsilon_0) = omega * mu_0 / kappa_vacuum\n",
    "# sqrt(mu / epsilon_complex) = 1/(c*epsilon_complex) = omega * mu / kappa\n",
    "\n",
    "# 1/mu_0 = c^2*epsolon_0\n",
    "\n",
    "#eq_Hy_0 = (eq_8_subs3.rhs().subs(x == 0).subs(K_conductor_subs)*kappa/(mu_rel * mu_0 * omega/c)) \\\n",
    "#        == eq_6_subs3.rhs().subs(x == 0).subs(K_vacuum_subs)*kappa_vacuum/(mu_0 * omega/c)\n",
    "\n",
    "# 1/mu_0 = c^2 * epsilon_0\n",
    "\n",
    "eq_Hy_l = ((eq_8_Hy_l_subs2.rhs().subs(x == -a).subs(K_left_conductor_subs)*kappa_l/(mu_l)) \\\n",
    "        ==  eq_6_Hy_subs3.rhs().subs(x == -a).subs(K_vacuum_subs)*kappa_vacuum/(mu_0)) \n",
    "\n",
    "\n",
    "eq_Hy_r = ((eq_8_Hy_r_subs2.rhs().subs(x == a).subs(K_right_conductor_subs)*kappa_r/(mu_r)) \\\n",
    "        ==   eq_6_Hy_subs3.rhs().subs(x == a).subs(K_vacuum_subs)*kappa_vacuum/(mu_0)) \n",
    "\n",
    "\n",
    "display(Math(latex(eq_Hy_l)))\n",
    "display(Math(latex(eq_Hy_r)))"
   ]
  },
  {
   "cell_type": "code",
   "execution_count": 98,
   "metadata": {},
   "outputs": [
    {
     "data": {
      "text/latex": [
       "$\\displaystyle -\\frac{i \\, {\\left(i \\, c \\epsilon_{l}^{\\frac{3}{2}} \\kappa_{l} - 4 \\, \\pi \\epsilon_{l} \\sqrt{\\mu_{l}} \\sigma_{l}\\right)} \\sqrt{-k_{z}^{2} + \\kappa_{l}^{2}} {\\left(\\mathit{A1}_{z} e^{\\left(2 i \\, K_{\\mathit{vacuum}} a\\right)} + \\mathit{A2}_{z}\\right)} \\kappa_{l} e^{\\left(-i \\, K_{\\mathit{vacuum}} a\\right)}}{{\\left(4 i \\, \\pi \\sqrt{\\epsilon_{l}} \\kappa_{l} \\mu_{l} \\sigma_{l} - {\\left(c \\epsilon_{l} k_{z}^{2} - c \\epsilon_{l} \\kappa_{l}^{2}\\right)} \\sqrt{\\mu_{l}}\\right)} \\mu_{l}} = -\\frac{i \\, {\\left(-i \\, \\sqrt{-k_{z}^{2} + \\kappa_{\\mathit{vacuum}}^{2}} \\mathit{A1}_{z} e^{\\left(i \\, \\sqrt{-k_{z}^{2} + \\kappa_{\\mathit{vacuum}}^{2}} a\\right)} + i \\, \\sqrt{-k_{z}^{2} + \\kappa_{\\mathit{vacuum}}^{2}} \\mathit{A2}_{z} e^{\\left(-i \\, \\sqrt{-k_{z}^{2} + \\kappa_{\\mathit{vacuum}}^{2}} a\\right)}\\right)} \\kappa_{\\mathit{vacuum}}^{2}}{k_{z}^{2} - \\kappa_{\\mathit{vacuum}}^{2}}$"
      ],
      "text/plain": [
       "<IPython.core.display.Math object>"
      ]
     },
     "metadata": {},
     "output_type": "display_data"
    }
   ],
   "source": [
    "eq_Hy_ls = eq_Hy_l.subs(solve(eqEz_l,B1_zl))\n",
    "display(Math(latex(eq_Hy_ls)))"
   ]
  },
  {
   "cell_type": "code",
   "execution_count": 99,
   "metadata": {},
   "outputs": [
    {
     "data": {
      "text/latex": [
       "$\\displaystyle \\frac{i \\, {\\left(i \\, c \\epsilon_{r}^{\\frac{3}{2}} \\kappa_{r} - 4 \\, \\pi \\epsilon_{r} \\sqrt{\\mu_{r}} \\sigma_{r}\\right)} \\sqrt{-k_{z}^{2} + \\kappa_{r}^{2}} {\\left(\\mathit{A2}_{z} e^{\\left(i \\, K_{\\mathit{vacuum}} a\\right)} + \\mathit{A1}_{z} e^{\\left(-i \\, K_{\\mathit{vacuum}} a\\right)}\\right)} \\kappa_{r}}{{\\left(4 i \\, \\pi \\sqrt{\\epsilon_{r}} \\kappa_{r} \\mu_{r} \\sigma_{r} - {\\left(c \\epsilon_{r} k_{z}^{2} - c \\epsilon_{r} \\kappa_{r}^{2}\\right)} \\sqrt{\\mu_{r}}\\right)} \\mu_{r}} = -\\frac{i \\, {\\left(i \\, \\sqrt{-k_{z}^{2} + \\kappa_{\\mathit{vacuum}}^{2}} \\mathit{A2}_{z} e^{\\left(i \\, \\sqrt{-k_{z}^{2} + \\kappa_{\\mathit{vacuum}}^{2}} a\\right)} - i \\, \\sqrt{-k_{z}^{2} + \\kappa_{\\mathit{vacuum}}^{2}} \\mathit{A1}_{z} e^{\\left(-i \\, \\sqrt{-k_{z}^{2} + \\kappa_{\\mathit{vacuum}}^{2}} a\\right)}\\right)} \\kappa_{\\mathit{vacuum}}^{2}}{k_{z}^{2} - \\kappa_{\\mathit{vacuum}}^{2}}$"
      ],
      "text/plain": [
       "<IPython.core.display.Math object>"
      ]
     },
     "metadata": {},
     "output_type": "display_data"
    }
   ],
   "source": [
    "eq_Hy_rs = eq_Hy_r.subs(eqEz_r)\n",
    "display(Math(latex(eq_Hy_rs)))"
   ]
  },
  {
   "cell_type": "code",
   "execution_count": null,
   "metadata": {},
   "outputs": [],
   "source": []
  },
  {
   "cell_type": "code",
   "execution_count": 100,
   "metadata": {},
   "outputs": [
    {
     "name": "stdout",
     "output_type": "stream",
     "text": [
      "kappa_vacuum == omega/c\n"
     ]
    }
   ],
   "source": [
    "kappa_vacuum_sol = solve(eq_kappa_inner_vacuum, kappa_vacuum)[1]\n",
    "print(kappa_vacuum_sol)"
   ]
  },
  {
   "cell_type": "code",
   "execution_count": 101,
   "metadata": {},
   "outputs": [
    {
     "name": "stdout",
     "output_type": "stream",
     "text": [
      "kappa_l == sqrt(epsilon_l*mu_l*omega^2 + 4*I*pi*mu_l*omega*sigma_l)/c\n"
     ]
    }
   ],
   "source": [
    "kappa_l_sol = solve(eq_kappa_l, kappa_l)[1]\n",
    "print(kappa_l_sol)"
   ]
  },
  {
   "cell_type": "code",
   "execution_count": 102,
   "metadata": {},
   "outputs": [
    {
     "name": "stdout",
     "output_type": "stream",
     "text": [
      "kappa_r == sqrt(epsilon_r*mu_r*omega^2 + 4*I*pi*mu_r*omega*sigma_r)/c\n"
     ]
    }
   ],
   "source": [
    "kappa_r_sol = solve(eq_kappa_r, kappa_r)[1]\n",
    "print(kappa_r_sol)"
   ]
  },
  {
   "cell_type": "code",
   "execution_count": null,
   "metadata": {},
   "outputs": [],
   "source": []
  },
  {
   "cell_type": "code",
   "execution_count": 103,
   "metadata": {},
   "outputs": [],
   "source": [
    "#E_vacuum_z = A1_z_im*sin(sqrt(kappa_vacuum^2-k_z^2)*(x+a))\n",
    "#E_vacuum_z"
   ]
  },
  {
   "cell_type": "raw",
   "metadata": {},
   "source": [
    "E_inner_vacuum_sol_z(x)"
   ]
  },
  {
   "cell_type": "raw",
   "metadata": {},
   "source": [
    "eqEz_a.rhs() == eqEz_a.lhs()"
   ]
  },
  {
   "cell_type": "raw",
   "metadata": {},
   "source": [
    "eqEz_a"
   ]
  },
  {
   "cell_type": "raw",
   "metadata": {
    "scrolled": true
   },
   "source": [
    "k_z_sol_subs = k_z_sol[1].subs(eqEz_a).full_simplify()\n",
    "k_z_sol_subs.variables()"
   ]
  },
  {
   "cell_type": "code",
   "execution_count": 104,
   "metadata": {},
   "outputs": [],
   "source": [
    "# display(Math(latex(k_z_sol)))"
   ]
  },
  {
   "cell_type": "code",
   "execution_count": 105,
   "metadata": {},
   "outputs": [
    {
     "data": {
      "text/plain": [
       "E_left_conductor_x(x) == -B1_zl*K_left_conductor*c*sqrt(epsilon_l)*k_z*e^(-I*K_left_conductor*(a + x))/(c*sqrt(epsilon_l)*k_z^2 - c*sqrt(epsilon_l)*kappa_l^2 - 4*I*pi*kappa_l*sqrt(mu_l)*sigma_l)"
      ]
     },
     "execution_count": 105,
     "metadata": {},
     "output_type": "execute_result"
    }
   ],
   "source": [
    "eq_7_Ex_l_subs2"
   ]
  },
  {
   "cell_type": "code",
   "execution_count": 106,
   "metadata": {},
   "outputs": [
    {
     "data": {
      "text/latex": [
       "$\\displaystyle E_{{\\rm inner}_{{\\rm vacuum}_{x}}}\\left(-a\\right) = -\\frac{{\\left(\\mathit{A2}_{z} k_{z} e^{\\left(-2 i \\, \\sqrt{-k_{z}^{2} + \\kappa_{\\mathit{vacuum}}^{2}} a\\right)} - \\mathit{A1}_{z} k_{z}\\right)} e^{\\left(i \\, \\sqrt{-k_{z}^{2} + \\kappa_{\\mathit{vacuum}}^{2}} a\\right)}}{\\sqrt{-k_{z}^{2} + \\kappa_{\\mathit{vacuum}}^{2}}}$"
      ],
      "text/plain": [
       "<IPython.core.display.Math object>"
      ]
     },
     "metadata": {},
     "output_type": "display_data"
    },
    {
     "data": {
      "text/latex": [
       "$\\displaystyle E_{{\\rm inner}_{{\\rm vacuum}_{x}}}\\left(a\\right) = -\\frac{{\\left(\\mathit{A2}_{z} k_{z} e^{\\left(2 i \\, \\sqrt{-k_{z}^{2} + \\kappa_{\\mathit{vacuum}}^{2}} a\\right)} - \\mathit{A1}_{z} k_{z}\\right)} e^{\\left(-i \\, \\sqrt{-k_{z}^{2} + \\kappa_{\\mathit{vacuum}}^{2}} a\\right)}}{\\sqrt{-k_{z}^{2} + \\kappa_{\\mathit{vacuum}}^{2}}}$"
      ],
      "text/plain": [
       "<IPython.core.display.Math object>"
      ]
     },
     "metadata": {},
     "output_type": "display_data"
    },
    {
     "data": {
      "text/latex": [
       "$\\displaystyle E_{{\\rm left}_{{\\rm conductor}_{x}}}\\left(-a\\right) = -\\frac{\\mathit{B1}_{\\mathit{zl}} K_{\\mathit{left}_{\\mathit{conductor}}} c \\sqrt{\\epsilon_{l}} k_{z}}{c \\sqrt{\\epsilon_{l}} k_{z}^{2} - c \\sqrt{\\epsilon_{l}} \\kappa_{l}^{2} - 4 i \\, \\pi \\kappa_{l} \\sqrt{\\mu_{l}} \\sigma_{l}}$"
      ],
      "text/plain": [
       "<IPython.core.display.Math object>"
      ]
     },
     "metadata": {},
     "output_type": "display_data"
    },
    {
     "data": {
      "text/latex": [
       "$\\displaystyle E_{{\\rm right}_{{\\rm conductor}_{x}}}\\left(a\\right) = \\frac{\\mathit{B1}_{\\mathit{zr}} K_{\\mathit{right}_{\\mathit{conductor}}} c \\sqrt{\\epsilon_{r}} k_{z}}{c \\sqrt{\\epsilon_{r}} k_{z}^{2} - c \\sqrt{\\epsilon_{r}} \\kappa_{r}^{2} - 4 i \\, \\pi \\kappa_{r} \\sqrt{\\mu_{r}} \\sigma_{r}}$"
      ],
      "text/plain": [
       "<IPython.core.display.Math object>"
      ]
     },
     "metadata": {},
     "output_type": "display_data"
    },
    {
     "name": "stdout",
     "output_type": "stream",
     "text": [
      "eq_Dx_l\n"
     ]
    },
    {
     "data": {
      "text/latex": [
       "$\\displaystyle -\\frac{\\mathit{B1}_{\\mathit{zl}} K_{\\mathit{left}_{\\mathit{conductor}}} c {\\left(\\epsilon_{l} + \\frac{4 i \\, \\pi \\sigma_{l}}{\\omega}\\right)} \\sqrt{\\epsilon_{l}} k_{z}}{c \\sqrt{\\epsilon_{l}} k_{z}^{2} - c \\sqrt{\\epsilon_{l}} \\kappa_{l}^{2} - 4 i \\, \\pi \\kappa_{l} \\sqrt{\\mu_{l}} \\sigma_{l}} = -\\frac{{\\left(\\mathit{A2}_{z} k_{z} e^{\\left(-2 i \\, \\sqrt{-k_{z}^{2} + \\kappa_{\\mathit{vacuum}}^{2}} a\\right)} - \\mathit{A1}_{z} k_{z}\\right)} e^{\\left(i \\, \\sqrt{-k_{z}^{2} + \\kappa_{\\mathit{vacuum}}^{2}} a\\right)}}{\\sqrt{-k_{z}^{2} + \\kappa_{\\mathit{vacuum}}^{2}}}$"
      ],
      "text/plain": [
       "<IPython.core.display.Math object>"
      ]
     },
     "metadata": {},
     "output_type": "display_data"
    },
    {
     "name": "stdout",
     "output_type": "stream",
     "text": [
      "eq_Dx_r\n"
     ]
    },
    {
     "data": {
      "text/latex": [
       "$\\displaystyle \\frac{\\mathit{B1}_{\\mathit{zr}} K_{\\mathit{right}_{\\mathit{conductor}}} c {\\left(\\epsilon_{r} + \\frac{4 i \\, \\pi \\sigma_{r}}{\\omega}\\right)} \\sqrt{\\epsilon_{r}} k_{z}}{c \\sqrt{\\epsilon_{r}} k_{z}^{2} - c \\sqrt{\\epsilon_{r}} \\kappa_{r}^{2} - 4 i \\, \\pi \\kappa_{r} \\sqrt{\\mu_{r}} \\sigma_{r}} = -\\frac{{\\left(\\mathit{A2}_{z} k_{z} e^{\\left(2 i \\, \\sqrt{-k_{z}^{2} + \\kappa_{\\mathit{vacuum}}^{2}} a\\right)} - \\mathit{A1}_{z} k_{z}\\right)} e^{\\left(-i \\, \\sqrt{-k_{z}^{2} + \\kappa_{\\mathit{vacuum}}^{2}} a\\right)}}{\\sqrt{-k_{z}^{2} + \\kappa_{\\mathit{vacuum}}^{2}}}$"
      ],
      "text/plain": [
       "<IPython.core.display.Math object>"
      ]
     },
     "metadata": {},
     "output_type": "display_data"
    }
   ],
   "source": [
    "# нормальная компонента электрического смещения\n",
    "eq_5_Ex_l_subs4xa = eq_5_Ex_subs4.subs(x == -a)\n",
    "#print(eq_5_Ex_l_subs4xa)\n",
    "display(Math(latex(eq_5_Ex_l_subs4xa)))\n",
    "\n",
    "eq_5_Ex_r_subs4x0 = eq_5_Ex_subs4.subs(x == a)\n",
    "#print(eq_5_Ex_r_subs4x0)\n",
    "display(Math(latex(eq_5_Ex_r_subs4x0)))\n",
    "\n",
    "\n",
    "eq_7_Ex_l_subs_xa = eq_7_Ex_l_subs2.subs(x == -a)\n",
    "#print(eq_7_Ex_l_subs_xa)\n",
    "display(Math(latex(eq_7_Ex_l_subs_xa)))\n",
    "\n",
    "eq_7_Ex_r_subs_x0 = eq_7_Ex_r_subs2.subs(x == a)\n",
    "#print(eq_7_Ex_r_subs_x0)\n",
    "display(Math(latex(eq_7_Ex_r_subs_x0)))\n",
    "\n",
    "\n",
    "# eqDx_a = E_inner_vacuum_sol_x(0) == E_bad_conductor_sol_x(0) * epsilon\n",
    "\n",
    "#eq_Dx_l = epsilon_l_complex == (eq_5_l_subs4xa.rhs() / eq_7_l_subs4xa.rhs()).full_simplify()\n",
    "#eq_Dx_r = epsilon_r_complex == (eq_5_r_subs4x0.rhs() / eq_7_r_subs4x0.rhs()).full_simplify()\n",
    "\n",
    "eq_Dx_l = epsilon_l_complex * eq_7_Ex_l_subs_xa.rhs() == eq_5_Ex_l_subs4xa.rhs()\n",
    "eq_Dx_r = epsilon_r_complex * eq_7_Ex_r_subs_x0.rhs() == eq_5_Ex_r_subs4x0.rhs()\n",
    "\n",
    "print(\"eq_Dx_l\")\n",
    "display(Math(latex(eq_Dx_l)))\n",
    "print(\"eq_Dx_r\")\n",
    "display(Math(latex(eq_Dx_r)))"
   ]
  },
  {
   "cell_type": "code",
   "execution_count": null,
   "metadata": {},
   "outputs": [],
   "source": []
  },
  {
   "cell_type": "code",
   "execution_count": 107,
   "metadata": {},
   "outputs": [
    {
     "name": "stdout",
     "output_type": "stream",
     "text": [
      "eqHz_l =\n"
     ]
    },
    {
     "data": {
      "text/latex": [
       "$\\displaystyle -\\frac{i \\, {\\left(-i \\, \\mathit{B1}_{\\mathit{yl}} K_{\\mathit{left}_{\\mathit{conductor}}} - i \\, \\mathit{B1}_{\\mathit{xl}} k_{y}\\right)} c}{\\mu_{l} \\omega} = -\\frac{i \\, {\\left(-i \\, \\mathit{A1}_{y} K_{\\mathit{vacuum}} e^{\\left(i \\, K_{\\mathit{vacuum}} a\\right)} + i \\, \\mathit{A2}_{y} K_{\\mathit{vacuum}} e^{\\left(-i \\, K_{\\mathit{vacuum}} a\\right)} - i \\, {\\left(\\mathit{A1}_{x} e^{\\left(i \\, K_{\\mathit{vacuum}} a\\right)} + \\mathit{A2}_{x} e^{\\left(-i \\, K_{\\mathit{vacuum}} a\\right)}\\right)} k_{y}\\right)} c}{\\omega}$"
      ],
      "text/plain": [
       "<IPython.core.display.Math object>"
      ]
     },
     "metadata": {},
     "output_type": "display_data"
    },
    {
     "name": "stdout",
     "output_type": "stream",
     "text": [
      "eqHz_r =\n"
     ]
    },
    {
     "data": {
      "text/latex": [
       "$\\displaystyle -\\frac{i \\, {\\left(i \\, \\mathit{B1}_{\\mathit{yr}} K_{\\mathit{right}_{\\mathit{conductor}}} - i \\, \\mathit{B1}_{\\mathit{xr}} k_{y}\\right)} c}{\\mu_{r} \\omega} = -\\frac{i \\, {\\left(i \\, \\mathit{A2}_{y} K_{\\mathit{vacuum}} e^{\\left(i \\, K_{\\mathit{vacuum}} a\\right)} - i \\, \\mathit{A1}_{y} K_{\\mathit{vacuum}} e^{\\left(-i \\, K_{\\mathit{vacuum}} a\\right)} - i \\, {\\left(\\mathit{A2}_{x} e^{\\left(i \\, K_{\\mathit{vacuum}} a\\right)} + \\mathit{A1}_{x} e^{\\left(-i \\, K_{\\mathit{vacuum}} a\\right)}\\right)} k_{y}\\right)} c}{\\omega}$"
      ],
      "text/plain": [
       "<IPython.core.display.Math object>"
      ]
     },
     "metadata": {},
     "output_type": "display_data"
    },
    {
     "name": "stdout",
     "output_type": "stream",
     "text": [
      "eqHy_l =\n"
     ]
    },
    {
     "data": {
      "text/latex": [
       "$\\displaystyle -\\frac{i \\, {\\left(i \\, \\mathit{B1}_{\\mathit{zl}} K_{\\mathit{left}_{\\mathit{conductor}}} + i \\, \\mathit{B1}_{\\mathit{xl}} k_{z}\\right)} c}{\\mu_{l} \\omega} = -\\frac{i \\, {\\left(i \\, \\mathit{A1}_{z} K_{\\mathit{vacuum}} e^{\\left(i \\, K_{\\mathit{vacuum}} a\\right)} - i \\, \\mathit{A2}_{z} K_{\\mathit{vacuum}} e^{\\left(-i \\, K_{\\mathit{vacuum}} a\\right)} + i \\, {\\left(\\mathit{A1}_{x} e^{\\left(i \\, K_{\\mathit{vacuum}} a\\right)} + \\mathit{A2}_{x} e^{\\left(-i \\, K_{\\mathit{vacuum}} a\\right)}\\right)} k_{z}\\right)} c}{\\omega}$"
      ],
      "text/plain": [
       "<IPython.core.display.Math object>"
      ]
     },
     "metadata": {},
     "output_type": "display_data"
    },
    {
     "name": "stdout",
     "output_type": "stream",
     "text": [
      "eqHy_r =\n"
     ]
    },
    {
     "data": {
      "text/latex": [
       "$\\displaystyle -\\frac{i \\, {\\left(-i \\, \\mathit{B1}_{\\mathit{zr}} K_{\\mathit{right}_{\\mathit{conductor}}} + i \\, \\mathit{B1}_{\\mathit{xr}} k_{z}\\right)} c}{\\mu_{r} \\omega} = -\\frac{i \\, {\\left(-i \\, \\mathit{A2}_{z} K_{\\mathit{vacuum}} e^{\\left(i \\, K_{\\mathit{vacuum}} a\\right)} + i \\, \\mathit{A1}_{z} K_{\\mathit{vacuum}} e^{\\left(-i \\, K_{\\mathit{vacuum}} a\\right)} + i \\, {\\left(\\mathit{A2}_{x} e^{\\left(i \\, K_{\\mathit{vacuum}} a\\right)} + \\mathit{A1}_{x} e^{\\left(-i \\, K_{\\mathit{vacuum}} a\\right)}\\right)} k_{z}\\right)} c}{\\omega}$"
      ],
      "text/plain": [
       "<IPython.core.display.Math object>"
      ]
     },
     "metadata": {},
     "output_type": "display_data"
    },
    {
     "name": "stdout",
     "output_type": "stream",
     "text": [
      "eqHz_l_ =\n"
     ]
    },
    {
     "data": {
      "text/latex": [
       "$\\displaystyle -\\frac{i \\, {\\left(-i \\, {\\left(i \\, \\mathit{B1}_{\\mathit{yl}_{\\mathit{im}}} + \\mathit{B1}_{\\mathit{yl}_{\\mathit{re}}}\\right)} K_{\\mathit{left}_{\\mathit{conductor}}} - i \\, {\\left(i \\, \\mathit{B1}_{\\mathit{xl}_{\\mathit{im}}} + \\mathit{B1}_{\\mathit{xl}_{\\mathit{re}}}\\right)} k_{y}\\right)} c}{\\mu_{l} \\omega} = -\\frac{i \\, {\\left(-i \\, {\\left(i \\, \\mathit{A1}_{y_{\\mathit{im}}} + \\mathit{A1}_{y_{\\mathit{re}}}\\right)} K_{\\mathit{vacuum}} e^{\\left(i \\, K_{\\mathit{vacuum}} a\\right)} + i \\, {\\left(i \\, \\mathit{A2}_{y_{\\mathit{im}}} + \\mathit{A2}_{y_{\\mathit{re}}}\\right)} K_{\\mathit{vacuum}} e^{\\left(-i \\, K_{\\mathit{vacuum}} a\\right)} - i \\, {\\left({\\left(i \\, \\mathit{A1}_{x_{\\mathit{im}}} + \\mathit{A1}_{x_{\\mathit{re}}}\\right)} e^{\\left(i \\, K_{\\mathit{vacuum}} a\\right)} + {\\left(i \\, \\mathit{A2}_{x_{\\mathit{im}}} + \\mathit{A2}_{x_{\\mathit{re}}}\\right)} e^{\\left(-i \\, K_{\\mathit{vacuum}} a\\right)}\\right)} k_{y}\\right)} c}{\\omega}$"
      ],
      "text/plain": [
       "<IPython.core.display.Math object>"
      ]
     },
     "metadata": {},
     "output_type": "display_data"
    },
    {
     "name": "stdout",
     "output_type": "stream",
     "text": [
      "eqHz_r_ =\n"
     ]
    },
    {
     "data": {
      "text/latex": [
       "$\\displaystyle -\\frac{i \\, {\\left(i \\, {\\left(i \\, \\mathit{B1}_{\\mathit{yr}_{\\mathit{im}}} + \\mathit{B1}_{\\mathit{yr}_{\\mathit{re}}}\\right)} K_{\\mathit{right}_{\\mathit{conductor}}} - i \\, {\\left(i \\, \\mathit{B1}_{\\mathit{xr}_{\\mathit{im}}} + \\mathit{B1}_{\\mathit{xr}_{\\mathit{re}}}\\right)} k_{y}\\right)} c}{\\mu_{r} \\omega} = -\\frac{i \\, {\\left(i \\, {\\left(i \\, \\mathit{A2}_{y_{\\mathit{im}}} + \\mathit{A2}_{y_{\\mathit{re}}}\\right)} K_{\\mathit{vacuum}} e^{\\left(i \\, K_{\\mathit{vacuum}} a\\right)} - i \\, {\\left(i \\, \\mathit{A1}_{y_{\\mathit{im}}} + \\mathit{A1}_{y_{\\mathit{re}}}\\right)} K_{\\mathit{vacuum}} e^{\\left(-i \\, K_{\\mathit{vacuum}} a\\right)} - i \\, {\\left({\\left(i \\, \\mathit{A2}_{x_{\\mathit{im}}} + \\mathit{A2}_{x_{\\mathit{re}}}\\right)} e^{\\left(i \\, K_{\\mathit{vacuum}} a\\right)} + {\\left(i \\, \\mathit{A1}_{x_{\\mathit{im}}} + \\mathit{A1}_{x_{\\mathit{re}}}\\right)} e^{\\left(-i \\, K_{\\mathit{vacuum}} a\\right)}\\right)} k_{y}\\right)} c}{\\omega}$"
      ],
      "text/plain": [
       "<IPython.core.display.Math object>"
      ]
     },
     "metadata": {},
     "output_type": "display_data"
    },
    {
     "name": "stdout",
     "output_type": "stream",
     "text": [
      "eqHy_l_ =\n"
     ]
    },
    {
     "data": {
      "text/latex": [
       "$\\displaystyle \\frac{i \\, \\sqrt{\\epsilon_{l} \\mu_{l} \\omega^{2} + 4 i \\, \\pi \\mu_{l} \\omega \\sigma_{l}} {\\left(4 \\, \\pi \\epsilon_{l} \\sqrt{\\mu_{l}} \\sigma_{l} - i \\, \\sqrt{\\epsilon_{l} \\mu_{l} \\omega^{2} + 4 i \\, \\pi \\mu_{l} \\omega \\sigma_{l}} \\epsilon_{l}^{\\frac{3}{2}}\\right)} \\sqrt{-k_{z}^{2} + \\frac{\\epsilon_{l} \\mu_{l} \\omega^{2} + 4 i \\, \\pi \\mu_{l} \\omega \\sigma_{l}}{c^{2}}} {\\left(i \\, \\mathit{B1}_{\\mathit{zl}_{\\mathit{im}}} + \\mathit{B1}_{\\mathit{zl}_{\\mathit{re}}}\\right)}}{{\\left(\\frac{4 i \\, \\pi \\sqrt{\\epsilon_{l} \\mu_{l} \\omega^{2} + 4 i \\, \\pi \\mu_{l} \\omega \\sigma_{l}} \\sqrt{\\epsilon_{l}} \\mu_{l} \\sigma_{l}}{c} - {\\left(c \\epsilon_{l} k_{z}^{2} - \\frac{{\\left(\\epsilon_{l} \\mu_{l} \\omega^{2} + 4 i \\, \\pi \\mu_{l} \\omega \\sigma_{l}\\right)} \\epsilon_{l}}{c}\\right)} \\sqrt{\\mu_{l}}\\right)} c \\mu_{l}} = -\\frac{i \\, {\\left(-i \\, \\sqrt{-k_{z}^{2} + \\frac{\\omega^{2}}{c^{2}}} {\\left(i \\, \\mathit{A1}_{z_{\\mathit{im}}} + \\mathit{A1}_{z_{\\mathit{re}}}\\right)} e^{\\left(i \\, \\sqrt{-k_{z}^{2} + \\frac{\\omega^{2}}{c^{2}}} a\\right)} + i \\, \\sqrt{-k_{z}^{2} + \\frac{\\omega^{2}}{c^{2}}} {\\left(i \\, \\mathit{A2}_{z_{\\mathit{im}}} + \\mathit{A2}_{z_{\\mathit{re}}}\\right)} e^{\\left(-i \\, \\sqrt{-k_{z}^{2} + \\frac{\\omega^{2}}{c^{2}}} a\\right)}\\right)} \\omega^{2}}{{\\left(k_{z}^{2} - \\frac{\\omega^{2}}{c^{2}}\\right)} c^{2}}$"
      ],
      "text/plain": [
       "<IPython.core.display.Math object>"
      ]
     },
     "metadata": {},
     "output_type": "display_data"
    },
    {
     "name": "stdout",
     "output_type": "stream",
     "text": [
      "eqHy_r_ =\n"
     ]
    },
    {
     "data": {
      "text/latex": [
       "$\\displaystyle -\\frac{i \\, \\sqrt{\\epsilon_{r} \\mu_{r} \\omega^{2} + 4 i \\, \\pi \\mu_{r} \\omega \\sigma_{r}} {\\left(4 \\, \\pi \\epsilon_{r} \\sqrt{\\mu_{r}} \\sigma_{r} - i \\, \\sqrt{\\epsilon_{r} \\mu_{r} \\omega^{2} + 4 i \\, \\pi \\mu_{r} \\omega \\sigma_{r}} \\epsilon_{r}^{\\frac{3}{2}}\\right)} \\sqrt{-k_{z}^{2} + \\frac{\\epsilon_{r} \\mu_{r} \\omega^{2} + 4 i \\, \\pi \\mu_{r} \\omega \\sigma_{r}}{c^{2}}} {\\left(i \\, \\mathit{B1}_{\\mathit{zr}_{\\mathit{im}}} + \\mathit{B1}_{\\mathit{zr}_{\\mathit{re}}}\\right)}}{{\\left(\\frac{4 i \\, \\pi \\sqrt{\\epsilon_{r} \\mu_{r} \\omega^{2} + 4 i \\, \\pi \\mu_{r} \\omega \\sigma_{r}} \\sqrt{\\epsilon_{r}} \\mu_{r} \\sigma_{r}}{c} - {\\left(c \\epsilon_{r} k_{z}^{2} - \\frac{{\\left(\\epsilon_{r} \\mu_{r} \\omega^{2} + 4 i \\, \\pi \\mu_{r} \\omega \\sigma_{r}\\right)} \\epsilon_{r}}{c}\\right)} \\sqrt{\\mu_{r}}\\right)} c \\mu_{r}} = -\\frac{i \\, {\\left(i \\, \\sqrt{-k_{z}^{2} + \\frac{\\omega^{2}}{c^{2}}} {\\left(i \\, \\mathit{A2}_{z_{\\mathit{im}}} + \\mathit{A2}_{z_{\\mathit{re}}}\\right)} e^{\\left(i \\, \\sqrt{-k_{z}^{2} + \\frac{\\omega^{2}}{c^{2}}} a\\right)} - i \\, \\sqrt{-k_{z}^{2} + \\frac{\\omega^{2}}{c^{2}}} {\\left(i \\, \\mathit{A1}_{z_{\\mathit{im}}} + \\mathit{A1}_{z_{\\mathit{re}}}\\right)} e^{\\left(-i \\, \\sqrt{-k_{z}^{2} + \\frac{\\omega^{2}}{c^{2}}} a\\right)}\\right)} \\omega^{2}}{{\\left(k_{z}^{2} - \\frac{\\omega^{2}}{c^{2}}\\right)} c^{2}}$"
      ],
      "text/plain": [
       "<IPython.core.display.Math object>"
      ]
     },
     "metadata": {},
     "output_type": "display_data"
    }
   ],
   "source": [
    "# тангенциальная компонента напряженности магнитного поля\n",
    "print (\"eqHz_l =\")\n",
    "display(Math(latex(eqHz_l)))\n",
    "print (\"eqHz_r =\")\n",
    "display(Math(latex(eqHz_r)))\n",
    "print (\"eqHy_l =\")\n",
    "display(Math(latex(eqHy_l)))\n",
    "print (\"eqHy_r =\")\n",
    "display(Math(latex(eqHy_r)))\n",
    "\n",
    "eqHz_l_ = eqHz_l \\\n",
    "        .subs(coefs_re_im_subs)\n",
    "\n",
    "eqHz_r_ = eqHz_r \\\n",
    "        .subs(coefs_re_im_subs)\n",
    "\n",
    "eqHy_l_ = eq_Hy_l.subs(kappa_vacuum_sol).subs(kappa_l_sol) \\\n",
    "        .subs(coefs_re_im_subs)\n",
    "\n",
    "eqHy_r_ = eq_Hy_r.subs(kappa_vacuum_sol).subs(kappa_r_sol) \\\n",
    "        .subs(coefs_re_im_subs)\n",
    "\n",
    "print (\"eqHz_l_ =\")\n",
    "display(Math(latex(eqHz_l_)))\n",
    "print (\"eqHz_r_ =\")\n",
    "display(Math(latex(eqHz_r_)))\n",
    "\n",
    "print (\"eqHy_l_ =\")\n",
    "display(Math(latex(eqHy_l_)))\n",
    "print (\"eqHy_r_ =\")\n",
    "display(Math(latex(eqHy_r_)))"
   ]
  },
  {
   "cell_type": "code",
   "execution_count": 108,
   "metadata": {},
   "outputs": [
    {
     "name": "stdout",
     "output_type": "stream",
     "text": [
      "eqEz_l = \n"
     ]
    },
    {
     "data": {
      "text/latex": [
       "$\\displaystyle \\mathit{B1}_{\\mathit{zl}} = \\mathit{A1}_{z} e^{\\left(i \\, K_{\\mathit{vacuum}} a\\right)} + \\mathit{A2}_{z} e^{\\left(-i \\, K_{\\mathit{vacuum}} a\\right)}$"
      ],
      "text/plain": [
       "<IPython.core.display.Math object>"
      ]
     },
     "metadata": {},
     "output_type": "display_data"
    },
    {
     "name": "stdout",
     "output_type": "stream",
     "text": [
      "eqEz_r = \n"
     ]
    },
    {
     "data": {
      "text/latex": [
       "$\\displaystyle \\mathit{B1}_{\\mathit{zr}} = \\mathit{A2}_{z} e^{\\left(i \\, K_{\\mathit{vacuum}} a\\right)} + \\mathit{A1}_{z} e^{\\left(-i \\, K_{\\mathit{vacuum}} a\\right)}$"
      ],
      "text/plain": [
       "<IPython.core.display.Math object>"
      ]
     },
     "metadata": {},
     "output_type": "display_data"
    },
    {
     "name": "stdout",
     "output_type": "stream",
     "text": [
      "eqEz_l_ = \n"
     ]
    },
    {
     "data": {
      "text/latex": [
       "$\\displaystyle i \\, \\mathit{B1}_{\\mathit{zl}_{\\mathit{im}}} + \\mathit{B1}_{\\mathit{zl}_{\\mathit{re}}} = {\\left(i \\, \\mathit{A1}_{z_{\\mathit{im}}} + \\mathit{A1}_{z_{\\mathit{re}}}\\right)} e^{\\left(i \\, K_{\\mathit{vacuum}} a\\right)} + {\\left(i \\, \\mathit{A2}_{z_{\\mathit{im}}} + \\mathit{A2}_{z_{\\mathit{re}}}\\right)} e^{\\left(-i \\, K_{\\mathit{vacuum}} a\\right)}$"
      ],
      "text/plain": [
       "<IPython.core.display.Math object>"
      ]
     },
     "metadata": {},
     "output_type": "display_data"
    },
    {
     "name": "stdout",
     "output_type": "stream",
     "text": [
      "eqEz_r_ = \n"
     ]
    },
    {
     "data": {
      "text/latex": [
       "$\\displaystyle i \\, \\mathit{B1}_{\\mathit{zr}_{\\mathit{im}}} + \\mathit{B1}_{\\mathit{zr}_{\\mathit{re}}} = {\\left(i \\, \\mathit{A2}_{z_{\\mathit{im}}} + \\mathit{A2}_{z_{\\mathit{re}}}\\right)} e^{\\left(i \\, K_{\\mathit{vacuum}} a\\right)} + {\\left(i \\, \\mathit{A1}_{z_{\\mathit{im}}} + \\mathit{A1}_{z_{\\mathit{re}}}\\right)} e^{\\left(-i \\, K_{\\mathit{vacuum}} a\\right)}$"
      ],
      "text/plain": [
       "<IPython.core.display.Math object>"
      ]
     },
     "metadata": {},
     "output_type": "display_data"
    }
   ],
   "source": [
    "# граничные условия на границе вакуума внутри резонатора и проводящего металла с потерями\n",
    "# тангенциальная компонента электрического поля\n",
    "\n",
    "print (\"eqEz_l = \")\n",
    "display(Math(latex(eqEz_l)))\n",
    "\n",
    "print (\"eqEz_r = \")\n",
    "display(Math(latex(eqEz_r)))\n",
    "\n",
    "eqEz_l_ = eqEz_l \\\n",
    "        .subs(coefs_re_im_subs)\n",
    "\n",
    "eqEz_r_ = eqEz_r \\\n",
    "        .subs(coefs_re_im_subs)\n",
    "\n",
    "eqEy_l_ = eqEy_l \\\n",
    "        .subs(coefs_re_im_subs)\n",
    "eqEy_r_ = eqEy_r \\\n",
    "        .subs(coefs_re_im_subs)\n",
    "\n",
    "print (\"eqEz_l_ = \")\n",
    "display(Math(latex(eqEz_l_)))\n",
    "print (\"eqEz_r_ = \")\n",
    "display(Math(latex(eqEz_r_)))"
   ]
  },
  {
   "cell_type": "code",
   "execution_count": 109,
   "metadata": {},
   "outputs": [
    {
     "name": "stdout",
     "output_type": "stream",
     "text": [
      "eqBx_l =\n"
     ]
    },
    {
     "data": {
      "text/latex": [
       "$\\displaystyle -\\frac{\\mathit{B1}_{\\mathit{yl}} c k_{z}}{\\omega} = -\\frac{{\\left(\\mathit{A1}_{y} e^{\\left(i \\, K_{\\mathit{vacuum}} a\\right)} + \\mathit{A2}_{y} e^{\\left(-i \\, K_{\\mathit{vacuum}} a\\right)}\\right)} c k_{z}}{\\omega}$"
      ],
      "text/plain": [
       "<IPython.core.display.Math object>"
      ]
     },
     "metadata": {},
     "output_type": "display_data"
    },
    {
     "name": "stdout",
     "output_type": "stream",
     "text": [
      "eqBx_r =\n"
     ]
    },
    {
     "data": {
      "text/latex": [
       "$\\displaystyle -\\frac{\\mathit{B1}_{\\mathit{yr}} c k_{z}}{\\omega} = -\\frac{{\\left(\\mathit{A2}_{y} e^{\\left(i \\, K_{\\mathit{vacuum}} a\\right)} + \\mathit{A1}_{y} e^{\\left(-i \\, K_{\\mathit{vacuum}} a\\right)}\\right)} c k_{z}}{\\omega}$"
      ],
      "text/plain": [
       "<IPython.core.display.Math object>"
      ]
     },
     "metadata": {},
     "output_type": "display_data"
    },
    {
     "name": "stdout",
     "output_type": "stream",
     "text": [
      "eqBx_l_ =\n"
     ]
    },
    {
     "data": {
      "text/latex": [
       "$\\displaystyle -\\frac{{\\left(i \\, \\mathit{B1}_{\\mathit{yl}_{\\mathit{im}}} + \\mathit{B1}_{\\mathit{yl}_{\\mathit{re}}}\\right)} c k_{z}}{\\omega} = -\\frac{{\\left({\\left(i \\, \\mathit{A1}_{y_{\\mathit{im}}} + \\mathit{A1}_{y_{\\mathit{re}}}\\right)} e^{\\left(i \\, K_{\\mathit{vacuum}} a\\right)} + {\\left(i \\, \\mathit{A2}_{y_{\\mathit{im}}} + \\mathit{A2}_{y_{\\mathit{re}}}\\right)} e^{\\left(-i \\, K_{\\mathit{vacuum}} a\\right)}\\right)} c k_{z}}{\\omega}$"
      ],
      "text/plain": [
       "<IPython.core.display.Math object>"
      ]
     },
     "metadata": {},
     "output_type": "display_data"
    },
    {
     "name": "stdout",
     "output_type": "stream",
     "text": [
      "eqBx_r_ =\n"
     ]
    },
    {
     "data": {
      "text/latex": [
       "$\\displaystyle -\\frac{{\\left(i \\, \\mathit{B1}_{\\mathit{yr}_{\\mathit{im}}} + \\mathit{B1}_{\\mathit{yr}_{\\mathit{re}}}\\right)} c k_{z}}{\\omega} = -\\frac{{\\left({\\left(i \\, \\mathit{A2}_{y_{\\mathit{im}}} + \\mathit{A2}_{y_{\\mathit{re}}}\\right)} e^{\\left(i \\, K_{\\mathit{vacuum}} a\\right)} + {\\left(i \\, \\mathit{A1}_{y_{\\mathit{im}}} + \\mathit{A1}_{y_{\\mathit{re}}}\\right)} e^{\\left(-i \\, K_{\\mathit{vacuum}} a\\right)}\\right)} c k_{z}}{\\omega}$"
      ],
      "text/plain": [
       "<IPython.core.display.Math object>"
      ]
     },
     "metadata": {},
     "output_type": "display_data"
    }
   ],
   "source": [
    "# нормальная компонента индукции магнитного поля\n",
    "#eqBx_a  = mu * H_bad_conductor_sol_x (0)  == H_inner_vacuum_sol_x (0)\n",
    "\n",
    "print (\"eqBx_l =\")\n",
    "display(Math(latex(eqBx_l)))\n",
    "print (\"eqBx_r =\")\n",
    "display(Math(latex(eqBx_r)))\n",
    "\n",
    "eqBx_l_ = eqBx_l \\\n",
    "        .subs(coefs_re_im_subs)\n",
    "\n",
    "eqBx_r_ = eqBx_r \\\n",
    "        .subs(coefs_re_im_subs)\n",
    "\n",
    "print (\"eqBx_l_ =\")\n",
    "display(Math(latex(eqBx_l_)))\n",
    "\n",
    "print (\"eqBx_r_ =\")\n",
    "display(Math(latex(eqBx_r_)))"
   ]
  },
  {
   "cell_type": "code",
   "execution_count": null,
   "metadata": {},
   "outputs": [],
   "source": []
  },
  {
   "cell_type": "code",
   "execution_count": 110,
   "metadata": {},
   "outputs": [
    {
     "name": "stdout",
     "output_type": "stream",
     "text": [
      "eq_Dx_l =\n"
     ]
    },
    {
     "data": {
      "text/latex": [
       "$\\displaystyle -\\frac{\\mathit{B1}_{\\mathit{zl}} K_{\\mathit{left}_{\\mathit{conductor}}} c {\\left(\\epsilon_{l} + \\frac{4 i \\, \\pi \\sigma_{l}}{\\omega}\\right)} \\sqrt{\\epsilon_{l}} k_{z}}{c \\sqrt{\\epsilon_{l}} k_{z}^{2} - c \\sqrt{\\epsilon_{l}} \\kappa_{l}^{2} - 4 i \\, \\pi \\kappa_{l} \\sqrt{\\mu_{l}} \\sigma_{l}} = -\\frac{{\\left(\\mathit{A2}_{z} k_{z} e^{\\left(-2 i \\, \\sqrt{-k_{z}^{2} + \\kappa_{\\mathit{vacuum}}^{2}} a\\right)} - \\mathit{A1}_{z} k_{z}\\right)} e^{\\left(i \\, \\sqrt{-k_{z}^{2} + \\kappa_{\\mathit{vacuum}}^{2}} a\\right)}}{\\sqrt{-k_{z}^{2} + \\kappa_{\\mathit{vacuum}}^{2}}}$"
      ],
      "text/plain": [
       "<IPython.core.display.Math object>"
      ]
     },
     "metadata": {},
     "output_type": "display_data"
    },
    {
     "name": "stdout",
     "output_type": "stream",
     "text": [
      "eq_Dx_r =\n"
     ]
    },
    {
     "data": {
      "text/latex": [
       "$\\displaystyle \\frac{\\mathit{B1}_{\\mathit{zr}} K_{\\mathit{right}_{\\mathit{conductor}}} c {\\left(\\epsilon_{r} + \\frac{4 i \\, \\pi \\sigma_{r}}{\\omega}\\right)} \\sqrt{\\epsilon_{r}} k_{z}}{c \\sqrt{\\epsilon_{r}} k_{z}^{2} - c \\sqrt{\\epsilon_{r}} \\kappa_{r}^{2} - 4 i \\, \\pi \\kappa_{r} \\sqrt{\\mu_{r}} \\sigma_{r}} = -\\frac{{\\left(\\mathit{A2}_{z} k_{z} e^{\\left(2 i \\, \\sqrt{-k_{z}^{2} + \\kappa_{\\mathit{vacuum}}^{2}} a\\right)} - \\mathit{A1}_{z} k_{z}\\right)} e^{\\left(-i \\, \\sqrt{-k_{z}^{2} + \\kappa_{\\mathit{vacuum}}^{2}} a\\right)}}{\\sqrt{-k_{z}^{2} + \\kappa_{\\mathit{vacuum}}^{2}}}$"
      ],
      "text/plain": [
       "<IPython.core.display.Math object>"
      ]
     },
     "metadata": {},
     "output_type": "display_data"
    },
    {
     "name": "stdout",
     "output_type": "stream",
     "text": [
      "eq_Dx_l_ =\n"
     ]
    },
    {
     "data": {
      "text/latex": [
       "$\\displaystyle -\\frac{{\\left(i \\, \\mathit{B1}_{\\mathit{zl}_{\\mathit{im}}} + \\mathit{B1}_{\\mathit{zl}_{\\mathit{re}}}\\right)} K_{\\mathit{left}_{\\mathit{conductor}}} c {\\left(\\epsilon_{l} + \\frac{4 i \\, \\pi \\sigma_{l}}{\\omega}\\right)} \\sqrt{\\epsilon_{l}} k_{z}}{c \\sqrt{\\epsilon_{l}} k_{z}^{2} - c \\sqrt{\\epsilon_{l}} \\kappa_{l}^{2} - 4 i \\, \\pi \\kappa_{l} \\sqrt{\\mu_{l}} \\sigma_{l}} = -\\frac{{\\left({\\left(i \\, \\mathit{A2}_{z_{\\mathit{im}}} + \\mathit{A2}_{z_{\\mathit{re}}}\\right)} k_{z} e^{\\left(-2 i \\, \\sqrt{-k_{z}^{2} + \\kappa_{\\mathit{vacuum}}^{2}} a\\right)} - {\\left(i \\, \\mathit{A1}_{z_{\\mathit{im}}} + \\mathit{A1}_{z_{\\mathit{re}}}\\right)} k_{z}\\right)} e^{\\left(i \\, \\sqrt{-k_{z}^{2} + \\kappa_{\\mathit{vacuum}}^{2}} a\\right)}}{\\sqrt{-k_{z}^{2} + \\kappa_{\\mathit{vacuum}}^{2}}}$"
      ],
      "text/plain": [
       "<IPython.core.display.Math object>"
      ]
     },
     "metadata": {},
     "output_type": "display_data"
    },
    {
     "name": "stdout",
     "output_type": "stream",
     "text": [
      "eq_Dx_r_ =\n"
     ]
    },
    {
     "data": {
      "text/latex": [
       "$\\displaystyle \\frac{{\\left(i \\, \\mathit{B1}_{\\mathit{zr}_{\\mathit{im}}} + \\mathit{B1}_{\\mathit{zr}_{\\mathit{re}}}\\right)} K_{\\mathit{right}_{\\mathit{conductor}}} c {\\left(\\epsilon_{r} + \\frac{4 i \\, \\pi \\sigma_{r}}{\\omega}\\right)} \\sqrt{\\epsilon_{r}} k_{z}}{c \\sqrt{\\epsilon_{r}} k_{z}^{2} - c \\sqrt{\\epsilon_{r}} \\kappa_{r}^{2} - 4 i \\, \\pi \\kappa_{r} \\sqrt{\\mu_{r}} \\sigma_{r}} = -\\frac{{\\left({\\left(i \\, \\mathit{A2}_{z_{\\mathit{im}}} + \\mathit{A2}_{z_{\\mathit{re}}}\\right)} k_{z} e^{\\left(2 i \\, \\sqrt{-k_{z}^{2} + \\kappa_{\\mathit{vacuum}}^{2}} a\\right)} - {\\left(i \\, \\mathit{A1}_{z_{\\mathit{im}}} + \\mathit{A1}_{z_{\\mathit{re}}}\\right)} k_{z}\\right)} e^{\\left(-i \\, \\sqrt{-k_{z}^{2} + \\kappa_{\\mathit{vacuum}}^{2}} a\\right)}}{\\sqrt{-k_{z}^{2} + \\kappa_{\\mathit{vacuum}}^{2}}}$"
      ],
      "text/plain": [
       "<IPython.core.display.Math object>"
      ]
     },
     "metadata": {},
     "output_type": "display_data"
    }
   ],
   "source": [
    "# нормальная компонента электрического смещения\n",
    "\n",
    "print (\"eq_Dx_l =\")\n",
    "display(Math(latex(eq_Dx_l)))\n",
    "print (\"eq_Dx_r =\")\n",
    "display(Math(latex(eq_Dx_r)))\n",
    "\n",
    "\n",
    "eq_Dx_l_ = eq_Dx_l \\\n",
    "        .subs(coefs_re_im_subs)\n",
    "\n",
    "eq_Dx_r_ = eq_Dx_r \\\n",
    "        .subs(coefs_re_im_subs)\n",
    "\n",
    "print (\"eq_Dx_l_ =\")\n",
    "display(Math(latex(eq_Dx_l_)))\n",
    "print (\"eq_Dx_r_ =\")\n",
    "display(Math(latex(eq_Dx_r_)))"
   ]
  },
  {
   "cell_type": "code",
   "execution_count": 111,
   "metadata": {},
   "outputs": [
    {
     "name": "stdout",
     "output_type": "stream",
     "text": [
      "eqDx__l =\n"
     ]
    },
    {
     "data": {
      "text/latex": [
       "$\\displaystyle \\mathit{A1}_{x} e^{\\left(i \\, K_{\\mathit{vacuum}} a\\right)} + \\mathit{A2}_{x} e^{\\left(-i \\, K_{\\mathit{vacuum}} a\\right)} = \\mathit{B1}_{\\mathit{xl}} {\\left(\\epsilon_{l} + \\frac{4 i \\, \\pi \\sigma_{l}}{\\omega}\\right)}$"
      ],
      "text/plain": [
       "<IPython.core.display.Math object>"
      ]
     },
     "metadata": {},
     "output_type": "display_data"
    },
    {
     "name": "stdout",
     "output_type": "stream",
     "text": [
      "eqDx__r =\n"
     ]
    },
    {
     "data": {
      "text/latex": [
       "$\\displaystyle \\mathit{A2}_{x} e^{\\left(i \\, K_{\\mathit{vacuum}} a\\right)} + \\mathit{A1}_{x} e^{\\left(-i \\, K_{\\mathit{vacuum}} a\\right)} = \\mathit{B1}_{\\mathit{xr}} {\\left(\\epsilon_{r} + \\frac{4 i \\, \\pi \\sigma_{r}}{\\omega}\\right)}$"
      ],
      "text/plain": [
       "<IPython.core.display.Math object>"
      ]
     },
     "metadata": {},
     "output_type": "display_data"
    },
    {
     "name": "stdout",
     "output_type": "stream",
     "text": [
      "eqDx__l_ =\n"
     ]
    },
    {
     "data": {
      "text/latex": [
       "$\\displaystyle {\\left(i \\, \\mathit{A1}_{x_{\\mathit{im}}} + \\mathit{A1}_{x_{\\mathit{re}}}\\right)} e^{\\left(i \\, K_{\\mathit{vacuum}} a\\right)} + {\\left(i \\, \\mathit{A2}_{x_{\\mathit{im}}} + \\mathit{A2}_{x_{\\mathit{re}}}\\right)} e^{\\left(-i \\, K_{\\mathit{vacuum}} a\\right)} = {\\left(i \\, \\mathit{B1}_{\\mathit{xl}_{\\mathit{im}}} + \\mathit{B1}_{\\mathit{xl}_{\\mathit{re}}}\\right)} {\\left(\\epsilon_{l} + \\frac{4 i \\, \\pi \\sigma_{l}}{\\omega}\\right)}$"
      ],
      "text/plain": [
       "<IPython.core.display.Math object>"
      ]
     },
     "metadata": {},
     "output_type": "display_data"
    },
    {
     "name": "stdout",
     "output_type": "stream",
     "text": [
      "eqDx__r_ =\n"
     ]
    },
    {
     "data": {
      "text/latex": [
       "$\\displaystyle {\\left(i \\, \\mathit{A2}_{x_{\\mathit{im}}} + \\mathit{A2}_{x_{\\mathit{re}}}\\right)} e^{\\left(i \\, K_{\\mathit{vacuum}} a\\right)} + {\\left(i \\, \\mathit{A1}_{x_{\\mathit{im}}} + \\mathit{A1}_{x_{\\mathit{re}}}\\right)} e^{\\left(-i \\, K_{\\mathit{vacuum}} a\\right)} = {\\left(i \\, \\mathit{B1}_{\\mathit{xr}_{\\mathit{im}}} + \\mathit{B1}_{\\mathit{xr}_{\\mathit{re}}}\\right)} {\\left(\\epsilon_{r} + \\frac{4 i \\, \\pi \\sigma_{r}}{\\omega}\\right)}$"
      ],
      "text/plain": [
       "<IPython.core.display.Math object>"
      ]
     },
     "metadata": {},
     "output_type": "display_data"
    }
   ],
   "source": [
    "# нормальная компонента электрического смещения\n",
    "\n",
    "print (\"eqDx__l =\")\n",
    "display(Math(latex(eqDx__l)))\n",
    "print (\"eqDx__r =\")\n",
    "display(Math(latex(eqDx__r)))\n",
    "\n",
    "\n",
    "eqDx__l_ = eqDx__l \\\n",
    "        .subs(coefs_re_im_subs)\n",
    "\n",
    "eqDx__r_ = eqDx__r \\\n",
    "        .subs(coefs_re_im_subs)\n",
    "\n",
    "print (\"eqDx__l_ =\")\n",
    "display(Math(latex(eqDx__l_)))\n",
    "print (\"eqDx__r_ =\")\n",
    "display(Math(latex(eqDx__r_)))"
   ]
  },
  {
   "cell_type": "code",
   "execution_count": 112,
   "metadata": {},
   "outputs": [],
   "source": [
    "# граничные условия на границе проводника и вакуума внутри резонатора"
   ]
  },
  {
   "cell_type": "code",
   "execution_count": 113,
   "metadata": {},
   "outputs": [],
   "source": [
    "# тангенциальная компонента напряженности магнитного поля"
   ]
  },
  {
   "cell_type": "code",
   "execution_count": 114,
   "metadata": {},
   "outputs": [],
   "source": [
    "#eqHz_a"
   ]
  },
  {
   "cell_type": "code",
   "execution_count": 115,
   "metadata": {},
   "outputs": [],
   "source": [
    "#eqHy_a"
   ]
  },
  {
   "cell_type": "code",
   "execution_count": 116,
   "metadata": {},
   "outputs": [],
   "source": [
    "eqHz_l_re = eqHz_l_.lhs().real() == eqHz_l_.rhs().real()\n",
    "eqHz_r_re = eqHz_r_.lhs().real() == eqHz_r_.rhs().real()\n",
    "eqHz_l_im = eqHz_l_.lhs().imag() == eqHz_l_.rhs().imag()\n",
    "eqHz_r_im = eqHz_r_.lhs().imag() == eqHz_r_.rhs().imag()"
   ]
  },
  {
   "cell_type": "code",
   "execution_count": 117,
   "metadata": {},
   "outputs": [],
   "source": [
    "eqHy_l_re = eqHy_l_.lhs().real() == eqHy_l_.rhs().real()\n",
    "eqHy_r_re = eqHy_r_.lhs().real() == eqHy_r_.rhs().real()\n",
    "eqHy_l_im = eqHy_l_.lhs().imag() == eqHy_l_.rhs().imag()\n",
    "eqHy_r_im = eqHy_r_.lhs().imag() == eqHy_r_.rhs().imag()"
   ]
  },
  {
   "cell_type": "code",
   "execution_count": 118,
   "metadata": {},
   "outputs": [],
   "source": [
    "# граничные условия на границе вакуума внутри резонатора и проводящего металла с потерями\n",
    "# тангенциальная компонента электрического поля"
   ]
  },
  {
   "cell_type": "code",
   "execution_count": 119,
   "metadata": {},
   "outputs": [],
   "source": [
    "#eqEz_a"
   ]
  },
  {
   "cell_type": "code",
   "execution_count": 120,
   "metadata": {},
   "outputs": [],
   "source": [
    "eqEz_l_re = eqEz_l_.lhs().real() == eqEz_l_.rhs().real()\n",
    "eqEz_r_re = eqEz_r_.lhs().real() == eqEz_r_.rhs().real()\n",
    "eqEz_l_im = eqEz_l_.lhs().imag() == eqEz_l_.rhs().imag()\n",
    "eqEz_r_im = eqEz_r_.lhs().imag() == eqEz_r_.rhs().imag()"
   ]
  },
  {
   "cell_type": "code",
   "execution_count": 121,
   "metadata": {},
   "outputs": [],
   "source": [
    "#eqEy_a"
   ]
  },
  {
   "cell_type": "code",
   "execution_count": 122,
   "metadata": {},
   "outputs": [],
   "source": [
    "eqEy_l_re = eqEy_l_.lhs().real() == eqEy_l_.rhs().real()\n",
    "eqEy_r_re = eqEy_r_.lhs().real() == eqEy_r_.rhs().real()\n",
    "eqEy_l_im = eqEy_l_.lhs().imag() == eqEy_l_.rhs().imag()\n",
    "eqEy_r_im = eqEy_r_.lhs().imag() == eqEy_r_.rhs().imag()"
   ]
  },
  {
   "cell_type": "code",
   "execution_count": 123,
   "metadata": {},
   "outputs": [],
   "source": [
    "# нормальная компонента индукции магнитного поля\n",
    "# на границе вакуума внутри резонатора и проводящего металла с потерями"
   ]
  },
  {
   "cell_type": "code",
   "execution_count": 124,
   "metadata": {},
   "outputs": [],
   "source": [
    "#eqBx_a"
   ]
  },
  {
   "cell_type": "code",
   "execution_count": 125,
   "metadata": {},
   "outputs": [],
   "source": [
    "eqBx_l_re = eqBx_l_.lhs().real() == eqBx_l_.rhs().real()\n",
    "eqBx_r_re = eqBx_r_.lhs().real() == eqBx_r_.rhs().real()\n",
    "eqBx_l_im = eqBx_l_.lhs().imag() == eqBx_l_.rhs().imag()\n",
    "eqBx_r_im = eqBx_r_.lhs().imag() == eqBx_r_.rhs().imag()"
   ]
  },
  {
   "cell_type": "code",
   "execution_count": 126,
   "metadata": {},
   "outputs": [],
   "source": [
    "# нормальная компонента электрического смещения\n",
    "# на границе вакуума внутри резонатора и проводящего металла с потерями"
   ]
  },
  {
   "cell_type": "code",
   "execution_count": 127,
   "metadata": {},
   "outputs": [],
   "source": [
    "#eqDx_a"
   ]
  },
  {
   "cell_type": "code",
   "execution_count": 128,
   "metadata": {},
   "outputs": [],
   "source": [
    "eq_Dx_l_re = eq_Dx_l_.lhs().real() == eq_Dx_l_.rhs().real()\n",
    "eq_Dx_r_re = eq_Dx_r_.lhs().real() == eq_Dx_r_.rhs().real()\n",
    "eq_Dx_l_im = eq_Dx_l_.lhs().imag() == eq_Dx_l_.rhs().imag()\n",
    "eq_Dx_r_im = eq_Dx_r_.lhs().imag() == eq_Dx_r_.rhs().imag()"
   ]
  },
  {
   "cell_type": "code",
   "execution_count": 129,
   "metadata": {},
   "outputs": [],
   "source": [
    "eqDx__l_re = eqDx__l_.lhs().real() == eqDx__l_.rhs().real()\n",
    "eqDx__r_re = eqDx__r_.lhs().real() == eqDx__r_.rhs().real()\n",
    "eqDx__l_im = eqDx__l_.lhs().imag() == eqDx__l_.rhs().imag()\n",
    "eqDx__r_im = eqDx__r_.lhs().imag() == eqDx__r_.rhs().imag()"
   ]
  },
  {
   "cell_type": "code",
   "execution_count": null,
   "metadata": {},
   "outputs": [],
   "source": []
  },
  {
   "cell_type": "code",
   "execution_count": 130,
   "metadata": {},
   "outputs": [
    {
     "data": {
      "text/plain": [
       "([a == 1,\n",
       "  mu_l == 1,\n",
       "  mu_r == 1,\n",
       "  c == 29979245800,\n",
       "  sigma_l == 5.62500000000000e17,\n",
       "  sigma_r == 1.80000000000000e16,\n",
       "  epsilon_l == 1,\n",
       "  epsilon_r == 1],\n",
       " 2.98046134067857e7)"
      ]
     },
     "execution_count": 130,
     "metadata": {},
     "output_type": "execute_result"
    }
   ],
   "source": [
    "# sgs\n",
    "A = 1\n",
    "\n",
    "# на низких частотах ферриты обладают высокой относительной диэлектрической проницаемостью, примерно 10^5\n",
    "#epsilon_l_d = 1000\n",
    "#epsilon_r_d = 100\n",
    "\n",
    "epsilon_l_d = 1\n",
    "epsilon_r_d = 1\n",
    "\n",
    "\n",
    "sigma_l_d = 1000\n",
    "sigma_r_d = 100\n",
    "\n",
    "# https://ru.wikipedia.org/wiki/%D0%AD%D0%BB%D0%B5%D0%BA%D1%82%D1%80%D0%BE%D0%BF%D1%80%D0%BE%D0%B2%D0%BE%D0%B4%D0%BD%D0%BE%D1%81%D1%82%D1%8C\n",
    "# серебро    62 500 000\n",
    "# медь       59 500 000\n",
    "# константан  2 000 000\n",
    "\n",
    "# См/м\n",
    "# 1 См = 1 / Ом\n",
    "\n",
    "sigma_l_d = 62500000 * (9*10^9)\n",
    "sigma_r_d =  2000000 * (9*10^9)\n",
    "\n",
    "lambda_d = 632*100*10^-9\n",
    "# 632 nm\n",
    "\n",
    "lambda_d = 632*100*10^-6\n",
    "# 0.632 mm\n",
    "\n",
    "lambda_d = 632*100*10^-4*1000\n",
    "# 63.2 mm\n",
    "# 6.32 sm\n",
    "\n",
    "c_value  = [ c == 299792458 * 100]\n",
    "omega_value = [ omega  == ((2*pi * c)/ lambda_d).subs (c_value).n() ]\n",
    "digit_values_init = [a == A,\n",
    "                     mu_l == 1, mu_r == 1,\n",
    "                     c == 299792458 * 100,\n",
    "                     sigma_l == sigma_l_d.n(), sigma_r == sigma_r_d.n(), \n",
    "                     epsilon_l == epsilon_l_d, epsilon_r == epsilon_r_d]\n",
    "digit_values = digit_values_init\n",
    "digit_values, omega_value[0].rhs().n()"
   ]
  },
  {
   "cell_type": "raw",
   "metadata": {},
   "source": [
    "K_vacuum_s_d = K_vacuum_s.subs(digit_values)\n",
    "K_vacuum_s_d.rhs().variables()"
   ]
  },
  {
   "cell_type": "raw",
   "metadata": {},
   "source": [
    "K_conductor_s_d = K_conductor_s.subs(digit_values)\n",
    "K_conductor_s_d.rhs().variables()"
   ]
  },
  {
   "cell_type": "code",
   "execution_count": 131,
   "metadata": {},
   "outputs": [
    {
     "name": "stdout",
     "output_type": "stream",
     "text": [
      "[a == 1, mu_l == 1, mu_r == 1, c == 29979245800, sigma_l == 5.62500000000000e17, sigma_r == 1.80000000000000e16, epsilon_l == 1, epsilon_r == 1, omega == 2.98046134067857e7]\n"
     ]
    }
   ],
   "source": [
    "digit_values = digit_values_init\n",
    "digit_values += omega_value\n",
    "print (digit_values)"
   ]
  },
  {
   "cell_type": "code",
   "execution_count": 132,
   "metadata": {},
   "outputs": [
    {
     "data": {
      "text/plain": [
       "7.54916686652188e10*I*pi + 1"
      ]
     },
     "execution_count": 132,
     "metadata": {},
     "output_type": "execute_result"
    }
   ],
   "source": [
    "epsilon_l_complex.subs(digit_values)"
   ]
  },
  {
   "cell_type": "code",
   "execution_count": 133,
   "metadata": {},
   "outputs": [
    {
     "data": {
      "text/plain": [
       "2.41573339728700e9*I*pi + 1"
      ]
     },
     "execution_count": 133,
     "metadata": {},
     "output_type": "execute_result"
    }
   ],
   "source": [
    "epsilon_r_complex.subs(digit_values)"
   ]
  },
  {
   "cell_type": "code",
   "execution_count": 134,
   "metadata": {},
   "outputs": [
    {
     "data": {
      "text/plain": [
       "9.88383712655159e-7 + 234409.105681310*I"
      ]
     },
     "execution_count": 134,
     "metadata": {},
     "output_type": "execute_result"
    }
   ],
   "source": [
    "eq_kappa_l.rhs().subs(digit_values).n()"
   ]
  },
  {
   "cell_type": "code",
   "execution_count": 135,
   "metadata": {},
   "outputs": [
    {
     "data": {
      "text/plain": [
       "9.88383712655159e-7 + 7501.09138180193*I"
      ]
     },
     "execution_count": 135,
     "metadata": {},
     "output_type": "execute_result"
    }
   ],
   "source": [
    "eq_kappa_r.rhs().subs(digit_values).n()"
   ]
  },
  {
   "cell_type": "code",
   "execution_count": 136,
   "metadata": {},
   "outputs": [],
   "source": [
    "K_vacuum_subs_2 = K_vacuum_subs.subs(kappa_vacuum_sol)"
   ]
  },
  {
   "cell_type": "code",
   "execution_count": 137,
   "metadata": {},
   "outputs": [],
   "source": [
    "K_left_conductor_subs_2 = K_left_conductor_subs.subs(kappa_l_sol)\n",
    "K_right_conductor_subs_2 = K_right_conductor_subs.subs(kappa_r_sol)"
   ]
  },
  {
   "cell_type": "code",
   "execution_count": 138,
   "metadata": {},
   "outputs": [],
   "source": [
    "K_vacuum_subs_4 = K_vacuum_subs_2.subs(k_z = kz + I * sz)"
   ]
  },
  {
   "cell_type": "code",
   "execution_count": 139,
   "metadata": {},
   "outputs": [],
   "source": [
    "K_left_conductor_subs_4 = K_left_conductor_subs_2.subs(k_z = kz + I * sz)\n",
    "K_right_conductor_subs_4 = K_right_conductor_subs_2.subs(k_z = kz + I * sz)"
   ]
  },
  {
   "cell_type": "code",
   "execution_count": 140,
   "metadata": {},
   "outputs": [],
   "source": [
    "# граничные условия на границе идеального проводника и вакуума внутри резонатора\n",
    "# тангенциальная компонента электрического поля"
   ]
  },
  {
   "cell_type": "code",
   "execution_count": 141,
   "metadata": {},
   "outputs": [],
   "source": [
    "eqEz_l_subs = eqEz_l.subs(K_vacuum_subs_2).subs(K_left_conductor_subs_2)\n",
    "eqEz_r_subs = eqEz_r.subs(K_vacuum_subs_2).subs(K_right_conductor_subs_2)"
   ]
  },
  {
   "cell_type": "code",
   "execution_count": 142,
   "metadata": {},
   "outputs": [
    {
     "data": {
      "text/plain": [
       "(A1_z, A2_z, B1_zl, a, c, k_z, omega)"
      ]
     },
     "execution_count": 142,
     "metadata": {},
     "output_type": "execute_result"
    }
   ],
   "source": [
    "eqEz_l_subs.variables()"
   ]
  },
  {
   "cell_type": "code",
   "execution_count": 143,
   "metadata": {},
   "outputs": [
    {
     "data": {
      "text/plain": [
       "(A1_z, A2_z, B1_zr, a, c, k_z, omega)"
      ]
     },
     "execution_count": 143,
     "metadata": {},
     "output_type": "execute_result"
    }
   ],
   "source": [
    "eqEz_r_subs.variables()"
   ]
  },
  {
   "cell_type": "code",
   "execution_count": 144,
   "metadata": {},
   "outputs": [
    {
     "data": {
      "text/plain": [
       "(A1_z, A2_z, B1_zr, a, c, k_z, omega)"
      ]
     },
     "execution_count": 144,
     "metadata": {},
     "output_type": "execute_result"
    }
   ],
   "source": [
    "eqEz_r_subs.variables()"
   ]
  },
  {
   "cell_type": "code",
   "execution_count": 145,
   "metadata": {},
   "outputs": [],
   "source": [
    "eqEz_l_re_subs = eqEz_l_re.subs(K_vacuum_subs_4).subs(K_left_conductor_subs_4)\n",
    "eqEz_r_re_subs = eqEz_r_re.subs(K_vacuum_subs_4).subs(K_right_conductor_subs_4)\n",
    "eqEz_l_im_subs = eqEz_l_im.subs(K_vacuum_subs_4).subs(K_left_conductor_subs_4)\n",
    "eqEz_r_im_subs = eqEz_r_im.subs(K_vacuum_subs_4).subs(K_right_conductor_subs_4)"
   ]
  },
  {
   "cell_type": "code",
   "execution_count": 146,
   "metadata": {},
   "outputs": [
    {
     "data": {
      "text/plain": [
       "(A1_z_im, A1_z_re, A2_z_im, A2_z_re, B1_zr_re, a, c, kz, omega, sz)"
      ]
     },
     "execution_count": 146,
     "metadata": {},
     "output_type": "execute_result"
    }
   ],
   "source": [
    "eqEz_r_re_subs.variables()"
   ]
  },
  {
   "cell_type": "code",
   "execution_count": 147,
   "metadata": {},
   "outputs": [
    {
     "data": {
      "text/latex": [
       "$\\displaystyle -\\frac{\\mathit{B1}_{\\mathit{zl}} K_{\\mathit{left}_{\\mathit{conductor}}} c {\\left(\\epsilon_{l} + \\frac{4 i \\, \\pi \\sigma_{l}}{\\omega}\\right)} \\sqrt{\\epsilon_{l}} k_{z}}{c \\sqrt{\\epsilon_{l}} k_{z}^{2} - c \\sqrt{\\epsilon_{l}} \\kappa_{l}^{2} - 4 i \\, \\pi \\kappa_{l} \\sqrt{\\mu_{l}} \\sigma_{l}} = -\\frac{{\\left(\\mathit{A2}_{z} k_{z} e^{\\left(-2 i \\, \\sqrt{-k_{z}^{2} + \\kappa_{\\mathit{vacuum}}^{2}} a\\right)} - \\mathit{A1}_{z} k_{z}\\right)} e^{\\left(i \\, \\sqrt{-k_{z}^{2} + \\kappa_{\\mathit{vacuum}}^{2}} a\\right)}}{\\sqrt{-k_{z}^{2} + \\kappa_{\\mathit{vacuum}}^{2}}}$"
      ],
      "text/plain": [
       "<IPython.core.display.Math object>"
      ]
     },
     "metadata": {},
     "output_type": "display_data"
    },
    {
     "data": {
      "text/latex": [
       "$\\displaystyle \\frac{\\mathit{B1}_{\\mathit{zr}} K_{\\mathit{right}_{\\mathit{conductor}}} c {\\left(\\epsilon_{r} + \\frac{4 i \\, \\pi \\sigma_{r}}{\\omega}\\right)} \\sqrt{\\epsilon_{r}} k_{z}}{c \\sqrt{\\epsilon_{r}} k_{z}^{2} - c \\sqrt{\\epsilon_{r}} \\kappa_{r}^{2} - 4 i \\, \\pi \\kappa_{r} \\sqrt{\\mu_{r}} \\sigma_{r}} = -\\frac{{\\left(\\mathit{A2}_{z} k_{z} e^{\\left(2 i \\, \\sqrt{-k_{z}^{2} + \\kappa_{\\mathit{vacuum}}^{2}} a\\right)} - \\mathit{A1}_{z} k_{z}\\right)} e^{\\left(-i \\, \\sqrt{-k_{z}^{2} + \\kappa_{\\mathit{vacuum}}^{2}} a\\right)}}{\\sqrt{-k_{z}^{2} + \\kappa_{\\mathit{vacuum}}^{2}}}$"
      ],
      "text/plain": [
       "<IPython.core.display.Math object>"
      ]
     },
     "metadata": {},
     "output_type": "display_data"
    }
   ],
   "source": [
    "disp(eq_Dx_l)\n",
    "disp(eq_Dx_r)"
   ]
  },
  {
   "cell_type": "code",
   "execution_count": 148,
   "metadata": {},
   "outputs": [],
   "source": [
    "eq_Dx_l_subs = eq_Dx_l.subs(K_left_conductor_subs_2).subs(kappa_vacuum_sol).subs(kappa_l_sol)\n",
    "eq_Dx_r_subs = eq_Dx_r.subs(K_right_conductor_subs_2).subs(kappa_vacuum_sol).subs(kappa_r_sol)"
   ]
  },
  {
   "cell_type": "code",
   "execution_count": 149,
   "metadata": {},
   "outputs": [
    {
     "data": {
      "text/latex": [
       "$\\displaystyle -\\frac{\\sqrt{-k_{z}^{2} + \\frac{\\epsilon_{l} \\mu_{l} \\omega^{2} + 4 i \\, \\pi \\mu_{l} \\omega \\sigma_{l}}{c^{2}}} \\mathit{B1}_{\\mathit{zl}} c {\\left(\\epsilon_{l} + \\frac{4 i \\, \\pi \\sigma_{l}}{\\omega}\\right)} \\sqrt{\\epsilon_{l}} k_{z}}{c \\sqrt{\\epsilon_{l}} k_{z}^{2} - \\frac{4 i \\, \\pi \\sqrt{\\epsilon_{l} \\mu_{l} \\omega^{2} + 4 i \\, \\pi \\mu_{l} \\omega \\sigma_{l}} \\sqrt{\\mu_{l}} \\sigma_{l}}{c} - \\frac{{\\left(\\epsilon_{l} \\mu_{l} \\omega^{2} + 4 i \\, \\pi \\mu_{l} \\omega \\sigma_{l}\\right)} \\sqrt{\\epsilon_{l}}}{c}} = -\\frac{{\\left(\\mathit{A2}_{z} k_{z} e^{\\left(-2 i \\, \\sqrt{-k_{z}^{2} + \\frac{\\omega^{2}}{c^{2}}} a\\right)} - \\mathit{A1}_{z} k_{z}\\right)} e^{\\left(i \\, \\sqrt{-k_{z}^{2} + \\frac{\\omega^{2}}{c^{2}}} a\\right)}}{\\sqrt{-k_{z}^{2} + \\frac{\\omega^{2}}{c^{2}}}}$"
      ],
      "text/plain": [
       "<IPython.core.display.Math object>"
      ]
     },
     "metadata": {},
     "output_type": "display_data"
    },
    {
     "data": {
      "text/latex": [
       "$\\displaystyle \\frac{\\sqrt{-k_{z}^{2} + \\frac{\\epsilon_{r} \\mu_{r} \\omega^{2} + 4 i \\, \\pi \\mu_{r} \\omega \\sigma_{r}}{c^{2}}} \\mathit{B1}_{\\mathit{zr}} c {\\left(\\epsilon_{r} + \\frac{4 i \\, \\pi \\sigma_{r}}{\\omega}\\right)} \\sqrt{\\epsilon_{r}} k_{z}}{c \\sqrt{\\epsilon_{r}} k_{z}^{2} - \\frac{4 i \\, \\pi \\sqrt{\\epsilon_{r} \\mu_{r} \\omega^{2} + 4 i \\, \\pi \\mu_{r} \\omega \\sigma_{r}} \\sqrt{\\mu_{r}} \\sigma_{r}}{c} - \\frac{{\\left(\\epsilon_{r} \\mu_{r} \\omega^{2} + 4 i \\, \\pi \\mu_{r} \\omega \\sigma_{r}\\right)} \\sqrt{\\epsilon_{r}}}{c}} = -\\frac{{\\left(\\mathit{A2}_{z} k_{z} e^{\\left(2 i \\, \\sqrt{-k_{z}^{2} + \\frac{\\omega^{2}}{c^{2}}} a\\right)} - \\mathit{A1}_{z} k_{z}\\right)} e^{\\left(-i \\, \\sqrt{-k_{z}^{2} + \\frac{\\omega^{2}}{c^{2}}} a\\right)}}{\\sqrt{-k_{z}^{2} + \\frac{\\omega^{2}}{c^{2}}}}$"
      ],
      "text/plain": [
       "<IPython.core.display.Math object>"
      ]
     },
     "metadata": {},
     "output_type": "display_data"
    }
   ],
   "source": [
    "disp(eq_Dx_l_subs)\n",
    "disp(eq_Dx_r_subs)"
   ]
  },
  {
   "cell_type": "code",
   "execution_count": 150,
   "metadata": {},
   "outputs": [
    {
     "data": {
      "text/latex": [
       "$\\displaystyle \\mathit{A1}_{x} e^{\\left(i \\, K_{\\mathit{vacuum}} a\\right)} + \\mathit{A2}_{x} e^{\\left(-i \\, K_{\\mathit{vacuum}} a\\right)} = \\mathit{B1}_{\\mathit{xl}} {\\left(\\epsilon_{l} + \\frac{4 i \\, \\pi \\sigma_{l}}{\\omega}\\right)}$"
      ],
      "text/plain": [
       "<IPython.core.display.Math object>"
      ]
     },
     "metadata": {},
     "output_type": "display_data"
    },
    {
     "data": {
      "text/latex": [
       "$\\displaystyle \\mathit{A2}_{x} e^{\\left(i \\, K_{\\mathit{vacuum}} a\\right)} + \\mathit{A1}_{x} e^{\\left(-i \\, K_{\\mathit{vacuum}} a\\right)} = \\mathit{B1}_{\\mathit{xr}} {\\left(\\epsilon_{r} + \\frac{4 i \\, \\pi \\sigma_{r}}{\\omega}\\right)}$"
      ],
      "text/plain": [
       "<IPython.core.display.Math object>"
      ]
     },
     "metadata": {},
     "output_type": "display_data"
    }
   ],
   "source": [
    "disp(eqDx__l)\n",
    "disp(eqDx__r)"
   ]
  },
  {
   "cell_type": "code",
   "execution_count": 151,
   "metadata": {},
   "outputs": [],
   "source": [
    "eqDx__l_subs = eqDx__l.subs(K_vacuum_subs).subs(kappa_vacuum_sol)\n",
    "eqDx__r_subs = eqDx__r.subs(K_vacuum_subs).subs(kappa_vacuum_sol)"
   ]
  },
  {
   "cell_type": "code",
   "execution_count": 152,
   "metadata": {},
   "outputs": [
    {
     "data": {
      "text/latex": [
       "$\\displaystyle \\mathit{A1}_{x} e^{\\left(i \\, \\sqrt{-k_{z}^{2} + \\frac{\\omega^{2}}{c^{2}}} a\\right)} + \\mathit{A2}_{x} e^{\\left(-i \\, \\sqrt{-k_{z}^{2} + \\frac{\\omega^{2}}{c^{2}}} a\\right)} = \\mathit{B1}_{\\mathit{xl}} {\\left(\\epsilon_{l} + \\frac{4 i \\, \\pi \\sigma_{l}}{\\omega}\\right)}$"
      ],
      "text/plain": [
       "<IPython.core.display.Math object>"
      ]
     },
     "metadata": {},
     "output_type": "display_data"
    },
    {
     "data": {
      "text/latex": [
       "$\\displaystyle \\mathit{A2}_{x} e^{\\left(i \\, \\sqrt{-k_{z}^{2} + \\frac{\\omega^{2}}{c^{2}}} a\\right)} + \\mathit{A1}_{x} e^{\\left(-i \\, \\sqrt{-k_{z}^{2} + \\frac{\\omega^{2}}{c^{2}}} a\\right)} = \\mathit{B1}_{\\mathit{xr}} {\\left(\\epsilon_{r} + \\frac{4 i \\, \\pi \\sigma_{r}}{\\omega}\\right)}$"
      ],
      "text/plain": [
       "<IPython.core.display.Math object>"
      ]
     },
     "metadata": {},
     "output_type": "display_data"
    }
   ],
   "source": [
    "disp(eqDx__l_subs)\n",
    "disp(eqDx__r_subs)"
   ]
  },
  {
   "cell_type": "code",
   "execution_count": 153,
   "metadata": {},
   "outputs": [],
   "source": [
    "eq_Dx_l_re_subs = eq_Dx_l_re.subs(K_vacuum_subs_4).subs(K_left_conductor_subs_4).subs(kappa_vacuum_sol).subs(kappa_l_sol)\n",
    "eq_Dx_r_re_subs = eq_Dx_r_re.subs(K_vacuum_subs_4).subs(K_right_conductor_subs_4).subs(kappa_vacuum_sol).subs(kappa_r_sol)\n",
    "eq_Dx_l_im_subs = eq_Dx_l_im.subs(K_vacuum_subs_4).subs(K_left_conductor_subs_4).subs(kappa_vacuum_sol).subs(kappa_l_sol)\n",
    "eq_Dx_r_im_subs = eq_Dx_r_im.subs(K_vacuum_subs_4).subs(K_right_conductor_subs_4).subs(kappa_vacuum_sol).subs(kappa_r_sol)"
   ]
  },
  {
   "cell_type": "code",
   "execution_count": 154,
   "metadata": {},
   "outputs": [],
   "source": [
    "eqDx__l_re_subs = eqDx__l_re.subs(K_vacuum_subs_4).subs(K_left_conductor_subs_4).subs(kappa_vacuum_sol).subs(kappa_l_sol)\n",
    "eqDx__r_re_subs = eqDx__r_re.subs(K_vacuum_subs_4).subs(K_right_conductor_subs_4).subs(kappa_vacuum_sol).subs(kappa_r_sol)\n",
    "eqDx__l_im_subs = eqDx__l_im.subs(K_vacuum_subs_4).subs(K_left_conductor_subs_4).subs(kappa_vacuum_sol).subs(kappa_l_sol)\n",
    "eqDx__r_im_subs = eqDx__r_im.subs(K_vacuum_subs_4).subs(K_right_conductor_subs_4).subs(kappa_vacuum_sol).subs(kappa_r_sol)"
   ]
  },
  {
   "cell_type": "code",
   "execution_count": 155,
   "metadata": {},
   "outputs": [],
   "source": [
    "#disp(eq_Dx_l_re_subs.subs(k_z = kz + I * sz))\n",
    "#disp(eq_Dx_r_re_subs.subs(k_z = kz + I * sz))"
   ]
  },
  {
   "cell_type": "code",
   "execution_count": 156,
   "metadata": {},
   "outputs": [],
   "source": [
    "eqBx_l_re_subs = eqBx_l_re.subs(K_vacuum_subs_4).subs(K_left_conductor_subs_4).subs(kappa_vacuum_sol).subs(kappa_l_sol)\n",
    "eqBx_r_re_subs = eqBx_r_re.subs(K_vacuum_subs_4).subs(K_right_conductor_subs_4).subs(kappa_vacuum_sol).subs(kappa_r_sol)\n",
    "eqBx_l_im_subs = eqBx_l_im.subs(K_vacuum_subs_4).subs(K_left_conductor_subs_4).subs(kappa_vacuum_sol).subs(kappa_l_sol)\n",
    "eqBx_r_im_subs = eqBx_r_im.subs(K_vacuum_subs_4).subs(K_right_conductor_subs_4).subs(kappa_vacuum_sol).subs(kappa_r_sol)"
   ]
  },
  {
   "cell_type": "code",
   "execution_count": 157,
   "metadata": {},
   "outputs": [],
   "source": [
    "eqBx_l_subs = eqBx_l.subs(K_vacuum_subs_2).subs(K_left_conductor_subs_2)\n",
    "eqBx_r_subs = eqBx_r.subs(K_vacuum_subs_2).subs(K_right_conductor_subs_2)"
   ]
  },
  {
   "cell_type": "code",
   "execution_count": 158,
   "metadata": {},
   "outputs": [
    {
     "data": {
      "text/plain": [
       "(A1_y, A2_y, B1_yl, a, c, k_z, omega)"
      ]
     },
     "execution_count": 158,
     "metadata": {},
     "output_type": "execute_result"
    }
   ],
   "source": [
    "eqBx_l_subs.variables()"
   ]
  },
  {
   "cell_type": "raw",
   "metadata": {},
   "source": [
    "eqEy_0_re_subs = eqEy_0_re.subs(K_vacuum_subs_2)\n",
    "eqEy_0_im_subs = eqEy_0_im.subs(K_vacuum_subs_2)"
   ]
  },
  {
   "cell_type": "code",
   "execution_count": 159,
   "metadata": {},
   "outputs": [],
   "source": [
    "# тангенциальная компонента напряженности магнитного поля\n",
    "# на границе вакуума внутри резонатора и проводящего металла с потерями"
   ]
  },
  {
   "cell_type": "code",
   "execution_count": 160,
   "metadata": {},
   "outputs": [],
   "source": [
    "eqHy_l_subs = eqHy_l.subs(K_vacuum_subs_2).subs(K_left_conductor_subs_2)\n",
    "eqHy_r_subs = eqHy_r.subs(K_vacuum_subs_2).subs(K_right_conductor_subs_2)"
   ]
  },
  {
   "cell_type": "code",
   "execution_count": 161,
   "metadata": {},
   "outputs": [
    {
     "data": {
      "text/latex": [
       "$\\displaystyle -\\frac{i \\, {\\left(i \\, \\mathit{B1}_{\\mathit{xl}} k_{z} + i \\, \\sqrt{-k_{z}^{2} + \\frac{\\epsilon_{l} \\mu_{l} \\omega^{2} + 4 i \\, \\pi \\mu_{l} \\omega \\sigma_{l}}{c^{2}}} \\mathit{B1}_{\\mathit{zl}}\\right)} c}{\\mu_{l} \\omega} = -\\frac{i \\, {\\left(i \\, \\sqrt{-k_{z}^{2} + \\frac{\\omega^{2}}{c^{2}}} \\mathit{A1}_{z} e^{\\left(i \\, \\sqrt{-k_{z}^{2} + \\frac{\\omega^{2}}{c^{2}}} a\\right)} - i \\, \\sqrt{-k_{z}^{2} + \\frac{\\omega^{2}}{c^{2}}} \\mathit{A2}_{z} e^{\\left(-i \\, \\sqrt{-k_{z}^{2} + \\frac{\\omega^{2}}{c^{2}}} a\\right)} + i \\, {\\left(\\mathit{A1}_{x} e^{\\left(i \\, \\sqrt{-k_{z}^{2} + \\frac{\\omega^{2}}{c^{2}}} a\\right)} + \\mathit{A2}_{x} e^{\\left(-i \\, \\sqrt{-k_{z}^{2} + \\frac{\\omega^{2}}{c^{2}}} a\\right)}\\right)} k_{z}\\right)} c}{\\omega}$"
      ],
      "text/plain": [
       "<IPython.core.display.Math object>"
      ]
     },
     "metadata": {},
     "output_type": "display_data"
    },
    {
     "data": {
      "text/latex": [
       "$\\displaystyle -\\frac{i \\, {\\left(i \\, \\mathit{B1}_{\\mathit{xr}} k_{z} - i \\, \\sqrt{-k_{z}^{2} + \\frac{\\epsilon_{r} \\mu_{r} \\omega^{2} + 4 i \\, \\pi \\mu_{r} \\omega \\sigma_{r}}{c^{2}}} \\mathit{B1}_{\\mathit{zr}}\\right)} c}{\\mu_{r} \\omega} = -\\frac{i \\, {\\left(-i \\, \\sqrt{-k_{z}^{2} + \\frac{\\omega^{2}}{c^{2}}} \\mathit{A2}_{z} e^{\\left(i \\, \\sqrt{-k_{z}^{2} + \\frac{\\omega^{2}}{c^{2}}} a\\right)} + i \\, \\sqrt{-k_{z}^{2} + \\frac{\\omega^{2}}{c^{2}}} \\mathit{A1}_{z} e^{\\left(-i \\, \\sqrt{-k_{z}^{2} + \\frac{\\omega^{2}}{c^{2}}} a\\right)} + i \\, {\\left(\\mathit{A2}_{x} e^{\\left(i \\, \\sqrt{-k_{z}^{2} + \\frac{\\omega^{2}}{c^{2}}} a\\right)} + \\mathit{A1}_{x} e^{\\left(-i \\, \\sqrt{-k_{z}^{2} + \\frac{\\omega^{2}}{c^{2}}} a\\right)}\\right)} k_{z}\\right)} c}{\\omega}$"
      ],
      "text/plain": [
       "<IPython.core.display.Math object>"
      ]
     },
     "metadata": {},
     "output_type": "display_data"
    }
   ],
   "source": [
    "disp(eqHy_l_subs)\n",
    "disp(eqHy_r_subs)"
   ]
  },
  {
   "cell_type": "code",
   "execution_count": 162,
   "metadata": {},
   "outputs": [],
   "source": [
    "eqHy_l_re_subs = eqHy_l_re.subs(K_vacuum_subs_4).subs(K_left_conductor_subs_4)\n",
    "eqHy_r_re_subs = eqHy_r_re.subs(K_vacuum_subs_4).subs(K_right_conductor_subs_4)\n",
    "eqHy_l_im_subs = eqHy_l_im.subs(K_vacuum_subs_4).subs(K_left_conductor_subs_4)\n",
    "eqHy_r_im_subs = eqHy_r_im.subs(K_vacuum_subs_4).subs(K_right_conductor_subs_4)"
   ]
  },
  {
   "cell_type": "raw",
   "metadata": {},
   "source": [
    "eqHz_a_re_subs = eqHz_a_re.subs(K_vacuum_subs_3).subs(K_conductor_subs_3)\n",
    "eqHz_a_im_subs = eqHz_a_im.subs(K_vacuum_subs_3).subs(K_conductor_subs_3)"
   ]
  },
  {
   "cell_type": "code",
   "execution_count": 163,
   "metadata": {},
   "outputs": [],
   "source": [
    "# граничные условия на границе идеального проводника и вакуума внутри резонатора\n",
    "# тангенциальная компонента электрического поля"
   ]
  },
  {
   "cell_type": "raw",
   "metadata": {},
   "source": [
    "eqEz_a_subs = eqEz_a"
   ]
  },
  {
   "cell_type": "raw",
   "metadata": {},
   "source": [
    "eqEz_a_re_subs = eqEz_a_re\n",
    "eqEz_a_im_subs = eqEz_a_im"
   ]
  },
  {
   "cell_type": "raw",
   "metadata": {},
   "source": [
    "eqEy_a_re_subs = eqEy_a_re\n",
    "eqEy_a_im_subs = eqEy_a_im"
   ]
  },
  {
   "cell_type": "code",
   "execution_count": 164,
   "metadata": {},
   "outputs": [],
   "source": [
    "# нормальная компонента индукции магнитного поля\n",
    "# на границе вакуума внутри резонатора и проводящего металла с потерями"
   ]
  },
  {
   "cell_type": "raw",
   "metadata": {},
   "source": [
    "eqBx_a_re_subs = eqBx_a_re.subs(kappa_vacuum_sol)\n",
    "eqBx_a_im_subs = eqBx_a_im.subs(kappa_vacuum_sol)"
   ]
  },
  {
   "cell_type": "code",
   "execution_count": 165,
   "metadata": {},
   "outputs": [],
   "source": [
    "# нормальная компонента электрического смещения\n",
    "# на границе вакуума внутри резонатора и проводящего металла с потерями"
   ]
  },
  {
   "cell_type": "raw",
   "metadata": {},
   "source": [
    "eqDx_a_re_subs = eqDx_a_re.subs(kappa_vacuum_sol)\n",
    "eqDx_a_im_subs = eqDx_a_im.subs(kappa_vacuum_sol)"
   ]
  },
  {
   "cell_type": "raw",
   "metadata": {},
   "source": [
    "print(eqEz_0_re)\n",
    "print(eqEz_0_im)\n",
    "\n",
    "print(eqEy_0_re)\n",
    "print(eqEy_0_im)\n",
    "\n",
    "print(eqHy_a_re)\n",
    "print(eqHy_a_im)\n",
    "\n",
    "print(eqHz_a_re)\n",
    "print(eqHz_a_im)\n",
    "\n",
    "print(eqEz_a_re)\n",
    "print(eqEz_a_im)\n",
    "\n",
    "print(eqEy_a_re)\n",
    "print(eqEy_a_im)\n",
    "\n",
    "print(eqBx_a_re)\n",
    "print(eqBx_a_im)\n",
    "\n",
    "print(eqDx_a_re)\n",
    "print(eqDx_a_im)"
   ]
  },
  {
   "cell_type": "code",
   "execution_count": 166,
   "metadata": {},
   "outputs": [],
   "source": [
    "def GenerateMatrix(equsys, vars):\n",
    "    A=matrix(SR, [[(equ.lhs() - equ.rhs()).coefficient(v) for v in vars] for equ in equsys])\n",
    "    return A"
   ]
  },
  {
   "cell_type": "code",
   "execution_count": 167,
   "metadata": {},
   "outputs": [],
   "source": [
    "def GenerateMatrixReIm(equsys, coefs_re_im_subs, vars):\n",
    "    A=matrix(SR, [[(equ.lhs().real() - equ.rhs().real()).subs(k_z == kz + I * sz).subs(coefs_re_im_subs).expand().coefficient(v) for v in vars] for equ in equsys] + \\\n",
    "                 [[(equ.lhs().imag() - equ.rhs().imag()).subs(k_z == kz + I * sz).subs(coefs_re_im_subs).expand().coefficient(v) for v in vars] for equ in equsys])\n",
    "    return A"
   ]
  },
  {
   "cell_type": "code",
   "execution_count": 168,
   "metadata": {},
   "outputs": [],
   "source": [
    "def GenerateMatrixNumeric(equsys, vars):\n",
    "    A=matrix(SR, [[(equ.lhs() - equ.rhs()).coefficient(v).n() for v in vars] for equ in equsys])\n",
    "    return A"
   ]
  },
  {
   "cell_type": "code",
   "execution_count": 169,
   "metadata": {},
   "outputs": [],
   "source": [
    "def reduceDependedRows(M):\n",
    "    print (\"\")\n",
    "    print (\"M.nrows()\", M.nrows())\n",
    "    print (\"M.ncols()\", M.ncols())\n",
    "    #print (\"M.rank()\", M.rank())\n",
    "\n",
    "    M_pivot_rows = M.pivot_rows()\n",
    "    print (\"M.pivot_rows() =\", M_pivot_rows)\n",
    "\n",
    "    M_rows = M.rows()\n",
    "    for row in M_rows:\n",
    "        print (\"row =\", row)\n",
    "\n",
    "    reduced_list = []\n",
    "    for r in M_pivot_rows:\n",
    "        print (\"M_rows[\", r, \"] =\")\n",
    "        display(Math(latex(M_rows[r])))\n",
    "        reduced_list.append(M_rows[r])\n",
    "\n",
    "    reduced_M = matrix(SR, len(M_pivot_rows), M.ncols(), reduced_list)\n",
    "    #reduced_M_det = reduced_M.det()\n",
    "    \n",
    "    print (\"reduced_M.nrows()\", reduced_M.nrows())\n",
    "    print (\"reduced_M.ncols()\", reduced_M.ncols())\n",
    "    \n",
    "    #print (\"\")\n",
    "    #print(\"reduced_M.det() =\", reduced_M_det)\n",
    "    return reduced_M"
   ]
  },
  {
   "cell_type": "code",
   "execution_count": 170,
   "metadata": {},
   "outputs": [],
   "source": [
    "def reduceRows(M, M_pivot_rows):\n",
    "    print (\"\")\n",
    "    print (\"M.nrows()\", M.nrows())\n",
    "    print (\"M.ncols()\", M.ncols())\n",
    "    #print (\"M.rank()\", M.rank())\n",
    "\n",
    "    print (\"M.pivot_rows() =\", M_pivot_rows)\n",
    "\n",
    "    M_rows = M.rows()\n",
    "    for row in M_rows:\n",
    "        print (\"row =\", row)\n",
    "\n",
    "    reduced_list = []\n",
    "    for r in M_pivot_rows:\n",
    "        print (\"M_rows[\", r, \"] =\")\n",
    "        display(Math(latex(M_rows[r])))\n",
    "        reduced_list.append(M_rows[r])\n",
    "\n",
    "    reduced_M = matrix(SR, len(M_pivot_rows), M.ncols(), reduced_list)\n",
    "    #reduced_M_det = reduced_M.det()\n",
    "    #print (\"\")\n",
    "    #print(\"reduced_M.det() =\", reduced_M_det)\n",
    "    \n",
    "    print (\"reduced_M.nrows()\", reduced_M.nrows())\n",
    "    print (\"reduced_M.ncols()\", reduced_M.ncols())\n",
    "\n",
    "    return reduced_M"
   ]
  },
  {
   "cell_type": "code",
   "execution_count": 171,
   "metadata": {},
   "outputs": [],
   "source": [
    "# sqrt(mu / epsilon_complex) = omega/c * mu / kappa\n",
    "# sqrt(mu / epsilon_complex) = omega/c * mu_rel * mu_0 / kappa\n",
    "\n",
    "# kappa/mu == omega * sqrt(epsilon_complex/mu)\n",
    "# sqrt(mu_0 / epsilon_0) = omega * mu_0 / kappa_vacuum\n",
    "\n",
    "# kappa_vacuum == omega/c\n",
    "# sqrt(mu_0 / epsilon_0) = c * mu_0\n",
    "# c = 1 / sqrt(mu_0 * epsilon_0)\n",
    "\n",
    "# kappa = omega/c * sqrt(epsilon_comlex*mu)\n",
    "# kappa_vacuum = omega/c * sqrt(epsilon_0*mu_0) = omega/c\n",
    "\n",
    "# sqrt(mu_0 / epsilon_0) = 1/(c*epsilon_0) = omega/c * mu_0 / kappa_vacuum\n",
    "# sqrt(mu / epsilon_complex) = 1/(c*epsilon_complex) = omega/c * mu / kappa\n",
    "\n",
    "# 1/mu_0 = c^2*epsolon_0"
   ]
  },
  {
   "cell_type": "code",
   "execution_count": 172,
   "metadata": {},
   "outputs": [],
   "source": [
    "Ex_left_conductor  = (eq_7_Ex_l_subs2.rhs())\n",
    "Ex_vacuum          = (eq_5_Ex_subs3.rhs())\n",
    "Ex_right_conductor = (eq_7_Ex_r_subs2.rhs())"
   ]
  },
  {
   "cell_type": "code",
   "execution_count": 173,
   "metadata": {},
   "outputs": [
    {
     "data": {
      "text/latex": [
       "$\\displaystyle \\frac{\\mathit{B1}_{\\mathit{zr}} K_{\\mathit{right}_{\\mathit{conductor}}} c \\sqrt{\\epsilon_{r}} k_{z} e^{\\left(-i \\, K_{\\mathit{right}_{\\mathit{conductor}}} {\\left(a - x\\right)}\\right)}}{c \\sqrt{\\epsilon_{r}} k_{z}^{2} - c \\sqrt{\\epsilon_{r}} \\kappa_{r}^{2} - 4 i \\, \\pi \\kappa_{r} \\sqrt{\\mu_{r}} \\sigma_{r}}$"
      ],
      "text/plain": [
       "<IPython.core.display.Math object>"
      ]
     },
     "metadata": {},
     "output_type": "display_data"
    }
   ],
   "source": [
    "disp(Ex_right_conductor)"
   ]
  },
  {
   "cell_type": "code",
   "execution_count": 174,
   "metadata": {},
   "outputs": [],
   "source": [
    "Ez_left_conductor  = E_left_conductor_sol_z(x)\n",
    "Ez_vacuum          = E_inner_vacuum_sol_z(x)\n",
    "Ez_right_conductor = E_right_conductor_sol_z(x)"
   ]
  },
  {
   "cell_type": "code",
   "execution_count": 175,
   "metadata": {},
   "outputs": [
    {
     "data": {
      "text/latex": [
       "$\\displaystyle \\mathit{B1}_{\\mathit{zr}} e^{\\left(-i \\, K_{\\mathit{right}_{\\mathit{conductor}}} {\\left(a - x\\right)}\\right)}$"
      ],
      "text/plain": [
       "<IPython.core.display.Math object>"
      ]
     },
     "metadata": {},
     "output_type": "display_data"
    }
   ],
   "source": [
    "disp(Ez_right_conductor)"
   ]
  },
  {
   "cell_type": "code",
   "execution_count": 176,
   "metadata": {},
   "outputs": [],
   "source": [
    "Hy_left_conductor  = c * (eq_8_Hy_l_subs2.rhs()*kappa_l   / (mu_l*omega))\n",
    "Hy_vacuum          = c * (eq_6_Hy_subs3.rhs()*kappa_vacuum/ (mu_0*omega))\n",
    "Hy_right_conductor = c * (eq_8_Hy_r_subs2.rhs()*kappa_r   / (mu_r*omega))"
   ]
  },
  {
   "cell_type": "code",
   "execution_count": 177,
   "metadata": {},
   "outputs": [
    {
     "data": {
      "text/latex": [
       "$\\displaystyle \\frac{i \\, {\\left(i \\, c \\epsilon_{r}^{\\frac{3}{2}} \\kappa_{r} - 4 \\, \\pi \\epsilon_{r} \\sqrt{\\mu_{r}} \\sigma_{r}\\right)} \\mathit{B1}_{\\mathit{zr}} K_{\\mathit{right}_{\\mathit{conductor}}} c \\kappa_{r} e^{\\left(-i \\, K_{\\mathit{right}_{\\mathit{conductor}}} {\\left(a - x\\right)}\\right)}}{{\\left(4 i \\, \\pi \\sqrt{\\epsilon_{r}} \\kappa_{r} \\mu_{r} \\sigma_{r} - {\\left(c \\epsilon_{r} k_{z}^{2} - c \\epsilon_{r} \\kappa_{r}^{2}\\right)} \\sqrt{\\mu_{r}}\\right)} \\mu_{r} \\omega}$"
      ],
      "text/plain": [
       "<IPython.core.display.Math object>"
      ]
     },
     "metadata": {},
     "output_type": "display_data"
    }
   ],
   "source": [
    "disp(Hy_right_conductor)"
   ]
  },
  {
   "cell_type": "code",
   "execution_count": 178,
   "metadata": {},
   "outputs": [],
   "source": [
    "rot_H_vacuum_x = - diff(Hy_vacuum(x=x)*e^(I*k_z*z), z)\n",
    "rot_H_vacuum_y =   0\n",
    "rot_H_vacuum_z =   diff(Hy_vacuum(x=x)*e^(I*k_z*z), x)"
   ]
  },
  {
   "cell_type": "code",
   "execution_count": 179,
   "metadata": {},
   "outputs": [],
   "source": [
    "eq_rot_H_vacuum_x = rot_H_vacuum_x == (-I*omega/c*Ex_vacuum(x=x)*e^(I*k_z*z))\n",
    "eq_rot_H_vacuum_z = rot_H_vacuum_z == (-I*omega/c*Ez_vacuum(x=x)*e^(I*k_z*z))"
   ]
  },
  {
   "cell_type": "code",
   "execution_count": 180,
   "metadata": {},
   "outputs": [],
   "source": [
    "rot_H_left_conductor_x = - diff(Hy_left_conductor(x=x)*e^(I*k_z*z), z)\n",
    "rot_H_left_conductor_y =   0\n",
    "rot_H_left_conductor_z =   diff(Hy_left_conductor(x=x)*e^(I*k_z*z), x)"
   ]
  },
  {
   "cell_type": "code",
   "execution_count": 181,
   "metadata": {},
   "outputs": [],
   "source": [
    "eq_rot_H_left_conductor_x = rot_H_left_conductor_x == ((-I*epsilon_l_complex*omega/c) * Ex_left_conductor(x=x)*e^(I*k_z*z))\n",
    "eq_rot_H_left_conductor_z = rot_H_left_conductor_z == ((-I*epsilon_l_complex*omega/c) * Ez_left_conductor(x=x)*e^(I*k_z*z))"
   ]
  },
  {
   "cell_type": "code",
   "execution_count": 182,
   "metadata": {},
   "outputs": [
    {
     "data": {
      "text/latex": [
       "$\\displaystyle -\\frac{{\\left(i \\, c \\epsilon_{l}^{\\frac{3}{2}} \\kappa_{l} - 4 \\, \\pi \\epsilon_{l} \\sqrt{\\mu_{l}} \\sigma_{l}\\right)} \\mathit{B1}_{\\mathit{zl}} K_{\\mathit{left}_{\\mathit{conductor}}} c k_{z} \\kappa_{l} e^{\\left(-i \\, K_{\\mathit{left}_{\\mathit{conductor}}} {\\left(a + x\\right)} + i \\, k_{z} z\\right)}}{{\\left(4 i \\, \\pi \\sqrt{\\epsilon_{l}} \\kappa_{l} \\mu_{l} \\sigma_{l} - {\\left(c \\epsilon_{l} k_{z}^{2} - c \\epsilon_{l} \\kappa_{l}^{2}\\right)} \\sqrt{\\mu_{l}}\\right)} \\mu_{l} \\omega} = -\\frac{\\mathit{B1}_{\\mathit{zl}} K_{\\mathit{left}_{\\mathit{conductor}}} \\sqrt{\\epsilon_{l}} {\\left(-i \\, \\epsilon_{l} + \\frac{4 \\, \\pi \\sigma_{l}}{\\omega}\\right)} k_{z} \\omega e^{\\left(-i \\, K_{\\mathit{left}_{\\mathit{conductor}}} {\\left(a + x\\right)} + i \\, k_{z} z\\right)}}{c \\sqrt{\\epsilon_{l}} k_{z}^{2} - c \\sqrt{\\epsilon_{l}} \\kappa_{l}^{2} - 4 i \\, \\pi \\kappa_{l} \\sqrt{\\mu_{l}} \\sigma_{l}}$"
      ],
      "text/plain": [
       "<IPython.core.display.Math object>"
      ]
     },
     "metadata": {},
     "output_type": "display_data"
    }
   ],
   "source": [
    "disp(eq_rot_H_left_conductor_x)"
   ]
  },
  {
   "cell_type": "code",
   "execution_count": 183,
   "metadata": {},
   "outputs": [],
   "source": [
    "rot_H_right_conductor_x = - diff(Hy_right_conductor(x=x)*e^(I*k_z*z), z)\n",
    "rot_H_right_conductor_y =   0\n",
    "rot_H_right_conductor_z =   diff(Hy_right_conductor(x=x)*e^(I*k_z*z), x)"
   ]
  },
  {
   "cell_type": "code",
   "execution_count": 184,
   "metadata": {},
   "outputs": [],
   "source": [
    "eq_rot_H_right_conductor_x = rot_H_right_conductor_x == ((-I*epsilon_r_complex*omega/c) * Ex_right_conductor(x=x)*e^(I*k_z*z))\n",
    "eq_rot_H_right_conductor_z = rot_H_right_conductor_z == ((-I*epsilon_r_complex*omega/c) * Ez_right_conductor(x=x)*e^(I*k_z*z))"
   ]
  },
  {
   "cell_type": "code",
   "execution_count": null,
   "metadata": {},
   "outputs": [],
   "source": []
  },
  {
   "cell_type": "code",
   "execution_count": 185,
   "metadata": {},
   "outputs": [
    {
     "data": {
      "text/latex": [
       "$\\displaystyle \\left[-\\frac{{\\left(i \\, \\mathit{A2}_{z} K_{\\mathit{vacuum}} e^{\\left(i \\, K_{\\mathit{vacuum}} x\\right)} - i \\, \\mathit{A1}_{z} K_{\\mathit{vacuum}} e^{\\left(-i \\, K_{\\mathit{vacuum}} x\\right)}\\right)} c \\kappa_{\\mathit{vacuum}}^{2}}{{\\left(k_{z}^{2} - \\kappa_{\\mathit{vacuum}}^{2}\\right)} \\omega} = -\\frac{{\\left(i \\, \\mathit{A2}_{z} K_{\\mathit{vacuum}} e^{\\left(i \\, K_{\\mathit{vacuum}} x\\right)} - i \\, \\mathit{A1}_{z} K_{\\mathit{vacuum}} e^{\\left(-i \\, K_{\\mathit{vacuum}} x\\right)}\\right)} \\omega}{{\\left(k_{z}^{2} - \\kappa_{\\mathit{vacuum}}^{2}\\right)} c}, \\frac{i \\, {\\left(\\mathit{A2}_{z} K_{\\mathit{vacuum}}^{2} e^{\\left(i \\, K_{\\mathit{vacuum}} x\\right)} + \\mathit{A1}_{z} K_{\\mathit{vacuum}}^{2} e^{\\left(-i \\, K_{\\mathit{vacuum}} x\\right)}\\right)} c \\kappa_{\\mathit{vacuum}}^{2}}{{\\left(k_{z}^{2} - \\kappa_{\\mathit{vacuum}}^{2}\\right)} \\omega} = -\\frac{i \\, {\\left(\\mathit{A2}_{z} e^{\\left(i \\, K_{\\mathit{vacuum}} x\\right)} + \\mathit{A1}_{z} e^{\\left(-i \\, K_{\\mathit{vacuum}} x\\right)}\\right)} \\omega}{c}\\right]$"
      ],
      "text/plain": [
       "<IPython.core.display.Math object>"
      ]
     },
     "metadata": {},
     "output_type": "display_data"
    }
   ],
   "source": [
    "sys_rot_H_vacuum = [\n",
    "    eq_rot_H_vacuum_x/k_z/e^(I*k_z*z)#.subs(K_vacuum_subs)*(k_z^2-kappa_vacuum^2)).subs(kappa_vacuum == omega/c).full_simplify().expand(),\n",
    "    ,eq_rot_H_vacuum_z/e^(I*k_z*z)#.subs(K_vacuum_subs)).subs(kappa_vacuum == omega/c).full_simplify().expand(),\n",
    "]\n",
    "\n",
    "# 2 equations\n",
    "disp(sys_rot_H_vacuum)"
   ]
  },
  {
   "cell_type": "code",
   "execution_count": 186,
   "metadata": {},
   "outputs": [
    {
     "data": {
      "text/latex": [
       "$\\displaystyle \\left(\\begin{array}{rr}\n",
       "\\frac{i \\, K_{\\mathit{vacuum}} c \\kappa_{\\mathit{vacuum}}^{2} e^{\\left(-i \\, K_{\\mathit{vacuum}} x\\right)}}{{\\left(k_{z}^{2} - \\kappa_{\\mathit{vacuum}}^{2}\\right)} \\omega} - \\frac{i \\, K_{\\mathit{vacuum}} \\omega e^{\\left(-i \\, K_{\\mathit{vacuum}} x\\right)}}{{\\left(k_{z}^{2} - \\kappa_{\\mathit{vacuum}}^{2}\\right)} c} & -\\frac{i \\, K_{\\mathit{vacuum}} c \\kappa_{\\mathit{vacuum}}^{2} e^{\\left(i \\, K_{\\mathit{vacuum}} x\\right)}}{{\\left(k_{z}^{2} - \\kappa_{\\mathit{vacuum}}^{2}\\right)} \\omega} + \\frac{i \\, K_{\\mathit{vacuum}} \\omega e^{\\left(i \\, K_{\\mathit{vacuum}} x\\right)}}{{\\left(k_{z}^{2} - \\kappa_{\\mathit{vacuum}}^{2}\\right)} c} \\\\\n",
       "\\frac{i \\, K_{\\mathit{vacuum}}^{2} c \\kappa_{\\mathit{vacuum}}^{2} e^{\\left(-i \\, K_{\\mathit{vacuum}} x\\right)}}{{\\left(k_{z}^{2} - \\kappa_{\\mathit{vacuum}}^{2}\\right)} \\omega} + \\frac{i \\, \\omega e^{\\left(-i \\, K_{\\mathit{vacuum}} x\\right)}}{c} & \\frac{i \\, K_{\\mathit{vacuum}}^{2} c \\kappa_{\\mathit{vacuum}}^{2} e^{\\left(i \\, K_{\\mathit{vacuum}} x\\right)}}{{\\left(k_{z}^{2} - \\kappa_{\\mathit{vacuum}}^{2}\\right)} \\omega} + \\frac{i \\, \\omega e^{\\left(i \\, K_{\\mathit{vacuum}} x\\right)}}{c}\n",
       "\\end{array}\\right)$"
      ],
      "text/plain": [
       "<IPython.core.display.Math object>"
      ]
     },
     "metadata": {},
     "output_type": "display_data"
    }
   ],
   "source": [
    "M2_sys_rot_H_vacuum = GenerateMatrix(sys_rot_H_vacuum, [A1_z, A2_z])\n",
    "display(Math(latex(M2_sys_rot_H_vacuum)))"
   ]
  },
  {
   "cell_type": "code",
   "execution_count": 187,
   "metadata": {},
   "outputs": [
    {
     "data": {
      "text/latex": [
       "$\\displaystyle \\left[-\\frac{{\\left(i \\, c \\epsilon_{l}^{\\frac{3}{2}} \\kappa_{l} - 4 \\, \\pi \\epsilon_{l} \\sqrt{\\mu_{l}} \\sigma_{l}\\right)} c \\kappa_{l}}{{\\left(4 i \\, \\pi \\sqrt{\\epsilon_{l}} \\kappa_{l} \\mu_{l} \\sigma_{l} - {\\left(c \\epsilon_{l} k_{z}^{2} - c \\epsilon_{l} \\kappa_{l}^{2}\\right)} \\sqrt{\\mu_{l}}\\right)} \\mu_{l} \\omega} = -\\frac{\\sqrt{\\epsilon_{l}} {\\left(-i \\, \\epsilon_{l} + \\frac{4 \\, \\pi \\sigma_{l}}{\\omega}\\right)} \\omega}{c \\sqrt{\\epsilon_{l}} k_{z}^{2} - c \\sqrt{\\epsilon_{l}} \\kappa_{l}^{2} - 4 i \\, \\pi \\kappa_{l} \\sqrt{\\mu_{l}} \\sigma_{l}}, \\frac{{\\left(i \\, c \\epsilon_{l}^{\\frac{3}{2}} \\kappa_{l} - 4 \\, \\pi \\epsilon_{l} \\sqrt{\\mu_{l}} \\sigma_{l}\\right)} {\\left(k_{z}^{2} - \\kappa_{l}^{2}\\right)} c \\kappa_{l}}{{\\left(4 i \\, \\pi \\sqrt{\\epsilon_{l}} \\kappa_{l} \\mu_{l} \\sigma_{l} - {\\left(c \\epsilon_{l} k_{z}^{2} - c \\epsilon_{l} \\kappa_{l}^{2}\\right)} \\sqrt{\\mu_{l}}\\right)} \\mu_{l} \\omega} = \\frac{{\\left(-i \\, \\epsilon_{l} + \\frac{4 \\, \\pi \\sigma_{l}}{\\omega}\\right)} \\omega}{c}\\right]$"
      ],
      "text/plain": [
       "<IPython.core.display.Math object>"
      ]
     },
     "metadata": {},
     "output_type": "display_data"
    }
   ],
   "source": [
    "sys_rot_H_left_conductor = [\n",
    "    eq_rot_H_left_conductor_x/B1_zl/K_left_conductor/k_z/e^(-I*K_left_conductor*(a + x) + I*k_z*z)#*(k_z^2-kappa_l^2)).subs(eq_kappa_l),\n",
    "    ,(eq_rot_H_left_conductor_z/B1_zl/e^(-I*K_left_conductor*(a + x) + I*k_z*z)).subs(K_left_conductor_subs)#.subs(eq_kappa_l)\n",
    "]\n",
    "\n",
    "# 2 equations\n",
    "disp(sys_rot_H_left_conductor)"
   ]
  },
  {
   "cell_type": "code",
   "execution_count": 188,
   "metadata": {},
   "outputs": [],
   "source": [
    "sys_rot_H_right_conductor = [\n",
    "    (eq_rot_H_right_conductor_x/B1_zr*(k_z^2-kappa_r^2)/K_right_conductor/k_z).subs(eq_kappa_r),\n",
    "    (eq_rot_H_right_conductor_z/B1_zr).subs(K_right_conductor_subs).subs(eq_kappa_r)\n",
    "]\n",
    "\n",
    "# 2 equations"
   ]
  },
  {
   "cell_type": "raw",
   "metadata": {},
   "source": [
    "display(Math(latex((eq_rot_H_right_conductor_x/B1_zr*(k_z^2-kappa_r^2)/K_right_conductor/k_z).subs(eq_kappa_r).full_simplify())))"
   ]
  },
  {
   "cell_type": "code",
   "execution_count": 189,
   "metadata": {},
   "outputs": [],
   "source": [
    "sys12 = [eq_Dx_l_re_subs, eq_Dx_l_im_subs,\n",
    "         eq_Dx_r_re_subs, eq_Dx_r_im_subs,\n",
    "         eqEz_l_re_subs, eqEz_l_im_subs,\n",
    "         eqEz_r_re_subs, eqEz_r_im_subs,\n",
    "         eqHy_l_re_subs, eqHy_l_im_subs,\n",
    "         eqHy_r_re_subs, eqHy_r_im_subs,\n",
    "        ]"
   ]
  },
  {
   "cell_type": "code",
   "execution_count": 190,
   "metadata": {},
   "outputs": [],
   "source": [
    "sys6 = [eq_Dx_l,#_subs,\n",
    "        eq_Dx_r,#_subs,\n",
    "        eqEz_l,#_subs,\n",
    "        eqEz_r,#_subs,\n",
    "        eqHy_l,#_subs,\n",
    "        eqHy_r,#_subs,\n",
    "        ]"
   ]
  },
  {
   "cell_type": "code",
   "execution_count": 191,
   "metadata": {},
   "outputs": [
    {
     "data": {
      "text/html": [
       "<html>\\(\\displaystyle -\\frac{\\mathit{B1}_{\\mathit{zl}} K_{\\mathit{left}_{\\mathit{conductor}}} c {\\left(\\epsilon_{l} + \\frac{4 i \\, \\pi \\sigma_{l}}{\\omega}\\right)} \\sqrt{\\epsilon_{l}} k_{z}}{c \\sqrt{\\epsilon_{l}} k_{z}^{2} - c \\sqrt{\\epsilon_{l}} \\kappa_{l}^{2} - 4 i \\, \\pi \\kappa_{l} \\sqrt{\\mu_{l}} \\sigma_{l}} = -\\frac{{\\left(\\mathit{A2}_{z} k_{z} e^{\\left(-2 i \\, \\sqrt{-k_{z}^{2} + \\kappa_{\\mathit{vacuum}}^{2}} a\\right)} - \\mathit{A1}_{z} k_{z}\\right)} e^{\\left(i \\, \\sqrt{-k_{z}^{2} + \\kappa_{\\mathit{vacuum}}^{2}} a\\right)}}{\\sqrt{-k_{z}^{2} + \\kappa_{\\mathit{vacuum}}^{2}}}\\)</html>"
      ],
      "text/latex": [
       "$\\displaystyle -\\frac{\\mathit{B1}_{\\mathit{zl}} K_{\\mathit{left}_{\\mathit{conductor}}} c {\\left(\\epsilon_{l} + \\frac{4 i \\, \\pi \\sigma_{l}}{\\omega}\\right)} \\sqrt{\\epsilon_{l}} k_{z}}{c \\sqrt{\\epsilon_{l}} k_{z}^{2} - c \\sqrt{\\epsilon_{l}} \\kappa_{l}^{2} - 4 i \\, \\pi \\kappa_{l} \\sqrt{\\mu_{l}} \\sigma_{l}} = -\\frac{{\\left(\\mathit{A2}_{z} k_{z} e^{\\left(-2 i \\, \\sqrt{-k_{z}^{2} + \\kappa_{\\mathit{vacuum}}^{2}} a\\right)} - \\mathit{A1}_{z} k_{z}\\right)} e^{\\left(i \\, \\sqrt{-k_{z}^{2} + \\kappa_{\\mathit{vacuum}}^{2}} a\\right)}}{\\sqrt{-k_{z}^{2} + \\kappa_{\\mathit{vacuum}}^{2}}}$"
      ],
      "text/plain": [
       "-B1_zl*K_left_conductor*c*(epsilon_l + 4*I*pi*sigma_l/omega)*sqrt(epsilon_l)*k_z/(c*sqrt(epsilon_l)*k_z^2 - c*sqrt(epsilon_l)*kappa_l^2 - 4*I*pi*kappa_l*sqrt(mu_l)*sigma_l) == -(A2_z*k_z*e^(-2*I*sqrt(-k_z^2 + kappa_vacuum^2)*a) - A1_z*k_z)*e^(I*sqrt(-k_z^2 + kappa_vacuum^2)*a)/sqrt(-k_z^2 + kappa_vacuum^2)"
      ]
     },
     "metadata": {},
     "output_type": "display_data"
    },
    {
     "name": "stdout",
     "output_type": "stream",
     "text": [
      "\n"
     ]
    },
    {
     "data": {
      "text/html": [
       "<html>\\(\\displaystyle \\frac{\\mathit{B1}_{\\mathit{zr}} K_{\\mathit{right}_{\\mathit{conductor}}} c {\\left(\\epsilon_{r} + \\frac{4 i \\, \\pi \\sigma_{r}}{\\omega}\\right)} \\sqrt{\\epsilon_{r}} k_{z}}{c \\sqrt{\\epsilon_{r}} k_{z}^{2} - c \\sqrt{\\epsilon_{r}} \\kappa_{r}^{2} - 4 i \\, \\pi \\kappa_{r} \\sqrt{\\mu_{r}} \\sigma_{r}} = -\\frac{{\\left(\\mathit{A2}_{z} k_{z} e^{\\left(2 i \\, \\sqrt{-k_{z}^{2} + \\kappa_{\\mathit{vacuum}}^{2}} a\\right)} - \\mathit{A1}_{z} k_{z}\\right)} e^{\\left(-i \\, \\sqrt{-k_{z}^{2} + \\kappa_{\\mathit{vacuum}}^{2}} a\\right)}}{\\sqrt{-k_{z}^{2} + \\kappa_{\\mathit{vacuum}}^{2}}}\\)</html>"
      ],
      "text/latex": [
       "$\\displaystyle \\frac{\\mathit{B1}_{\\mathit{zr}} K_{\\mathit{right}_{\\mathit{conductor}}} c {\\left(\\epsilon_{r} + \\frac{4 i \\, \\pi \\sigma_{r}}{\\omega}\\right)} \\sqrt{\\epsilon_{r}} k_{z}}{c \\sqrt{\\epsilon_{r}} k_{z}^{2} - c \\sqrt{\\epsilon_{r}} \\kappa_{r}^{2} - 4 i \\, \\pi \\kappa_{r} \\sqrt{\\mu_{r}} \\sigma_{r}} = -\\frac{{\\left(\\mathit{A2}_{z} k_{z} e^{\\left(2 i \\, \\sqrt{-k_{z}^{2} + \\kappa_{\\mathit{vacuum}}^{2}} a\\right)} - \\mathit{A1}_{z} k_{z}\\right)} e^{\\left(-i \\, \\sqrt{-k_{z}^{2} + \\kappa_{\\mathit{vacuum}}^{2}} a\\right)}}{\\sqrt{-k_{z}^{2} + \\kappa_{\\mathit{vacuum}}^{2}}}$"
      ],
      "text/plain": [
       "B1_zr*K_right_conductor*c*(epsilon_r + 4*I*pi*sigma_r/omega)*sqrt(epsilon_r)*k_z/(c*sqrt(epsilon_r)*k_z^2 - c*sqrt(epsilon_r)*kappa_r^2 - 4*I*pi*kappa_r*sqrt(mu_r)*sigma_r) == -(A2_z*k_z*e^(2*I*sqrt(-k_z^2 + kappa_vacuum^2)*a) - A1_z*k_z)*e^(-I*sqrt(-k_z^2 + kappa_vacuum^2)*a)/sqrt(-k_z^2 + kappa_vacuum^2)"
      ]
     },
     "metadata": {},
     "output_type": "display_data"
    },
    {
     "name": "stdout",
     "output_type": "stream",
     "text": [
      "\n"
     ]
    },
    {
     "data": {
      "text/html": [
       "<html>\\(\\displaystyle \\mathit{B1}_{\\mathit{zl}} = \\mathit{A1}_{z} e^{\\left(i \\, K_{\\mathit{vacuum}} a\\right)} + \\mathit{A2}_{z} e^{\\left(-i \\, K_{\\mathit{vacuum}} a\\right)}\\)</html>"
      ],
      "text/latex": [
       "$\\displaystyle \\mathit{B1}_{\\mathit{zl}} = \\mathit{A1}_{z} e^{\\left(i \\, K_{\\mathit{vacuum}} a\\right)} + \\mathit{A2}_{z} e^{\\left(-i \\, K_{\\mathit{vacuum}} a\\right)}$"
      ],
      "text/plain": [
       "B1_zl == A1_z*e^(I*K_vacuum*a) + A2_z*e^(-I*K_vacuum*a)"
      ]
     },
     "metadata": {},
     "output_type": "display_data"
    },
    {
     "name": "stdout",
     "output_type": "stream",
     "text": [
      "\n"
     ]
    },
    {
     "data": {
      "text/html": [
       "<html>\\(\\displaystyle \\mathit{B1}_{\\mathit{zr}} = \\mathit{A2}_{z} e^{\\left(i \\, K_{\\mathit{vacuum}} a\\right)} + \\mathit{A1}_{z} e^{\\left(-i \\, K_{\\mathit{vacuum}} a\\right)}\\)</html>"
      ],
      "text/latex": [
       "$\\displaystyle \\mathit{B1}_{\\mathit{zr}} = \\mathit{A2}_{z} e^{\\left(i \\, K_{\\mathit{vacuum}} a\\right)} + \\mathit{A1}_{z} e^{\\left(-i \\, K_{\\mathit{vacuum}} a\\right)}$"
      ],
      "text/plain": [
       "B1_zr == A2_z*e^(I*K_vacuum*a) + A1_z*e^(-I*K_vacuum*a)"
      ]
     },
     "metadata": {},
     "output_type": "display_data"
    },
    {
     "name": "stdout",
     "output_type": "stream",
     "text": [
      "\n"
     ]
    },
    {
     "data": {
      "text/html": [
       "<html>\\(\\displaystyle -\\frac{i \\, {\\left(i \\, \\mathit{B1}_{\\mathit{zl}} K_{\\mathit{left}_{\\mathit{conductor}}} + i \\, \\mathit{B1}_{\\mathit{xl}} k_{z}\\right)} c}{\\mu_{l} \\omega} = -\\frac{i \\, {\\left(i \\, \\mathit{A1}_{z} K_{\\mathit{vacuum}} e^{\\left(i \\, K_{\\mathit{vacuum}} a\\right)} - i \\, \\mathit{A2}_{z} K_{\\mathit{vacuum}} e^{\\left(-i \\, K_{\\mathit{vacuum}} a\\right)} + i \\, {\\left(\\mathit{A1}_{x} e^{\\left(i \\, K_{\\mathit{vacuum}} a\\right)} + \\mathit{A2}_{x} e^{\\left(-i \\, K_{\\mathit{vacuum}} a\\right)}\\right)} k_{z}\\right)} c}{\\omega}\\)</html>"
      ],
      "text/latex": [
       "$\\displaystyle -\\frac{i \\, {\\left(i \\, \\mathit{B1}_{\\mathit{zl}} K_{\\mathit{left}_{\\mathit{conductor}}} + i \\, \\mathit{B1}_{\\mathit{xl}} k_{z}\\right)} c}{\\mu_{l} \\omega} = -\\frac{i \\, {\\left(i \\, \\mathit{A1}_{z} K_{\\mathit{vacuum}} e^{\\left(i \\, K_{\\mathit{vacuum}} a\\right)} - i \\, \\mathit{A2}_{z} K_{\\mathit{vacuum}} e^{\\left(-i \\, K_{\\mathit{vacuum}} a\\right)} + i \\, {\\left(\\mathit{A1}_{x} e^{\\left(i \\, K_{\\mathit{vacuum}} a\\right)} + \\mathit{A2}_{x} e^{\\left(-i \\, K_{\\mathit{vacuum}} a\\right)}\\right)} k_{z}\\right)} c}{\\omega}$"
      ],
      "text/plain": [
       "-I*(I*B1_zl*K_left_conductor + I*B1_xl*k_z)*c/(mu_l*omega) == -I*(I*A1_z*K_vacuum*e^(I*K_vacuum*a) - I*A2_z*K_vacuum*e^(-I*K_vacuum*a) + I*(A1_x*e^(I*K_vacuum*a) + A2_x*e^(-I*K_vacuum*a))*k_z)*c/omega"
      ]
     },
     "metadata": {},
     "output_type": "display_data"
    },
    {
     "name": "stdout",
     "output_type": "stream",
     "text": [
      "\n"
     ]
    },
    {
     "data": {
      "text/html": [
       "<html>\\(\\displaystyle -\\frac{i \\, {\\left(-i \\, \\mathit{B1}_{\\mathit{zr}} K_{\\mathit{right}_{\\mathit{conductor}}} + i \\, \\mathit{B1}_{\\mathit{xr}} k_{z}\\right)} c}{\\mu_{r} \\omega} = -\\frac{i \\, {\\left(-i \\, \\mathit{A2}_{z} K_{\\mathit{vacuum}} e^{\\left(i \\, K_{\\mathit{vacuum}} a\\right)} + i \\, \\mathit{A1}_{z} K_{\\mathit{vacuum}} e^{\\left(-i \\, K_{\\mathit{vacuum}} a\\right)} + i \\, {\\left(\\mathit{A2}_{x} e^{\\left(i \\, K_{\\mathit{vacuum}} a\\right)} + \\mathit{A1}_{x} e^{\\left(-i \\, K_{\\mathit{vacuum}} a\\right)}\\right)} k_{z}\\right)} c}{\\omega}\\)</html>"
      ],
      "text/latex": [
       "$\\displaystyle -\\frac{i \\, {\\left(-i \\, \\mathit{B1}_{\\mathit{zr}} K_{\\mathit{right}_{\\mathit{conductor}}} + i \\, \\mathit{B1}_{\\mathit{xr}} k_{z}\\right)} c}{\\mu_{r} \\omega} = -\\frac{i \\, {\\left(-i \\, \\mathit{A2}_{z} K_{\\mathit{vacuum}} e^{\\left(i \\, K_{\\mathit{vacuum}} a\\right)} + i \\, \\mathit{A1}_{z} K_{\\mathit{vacuum}} e^{\\left(-i \\, K_{\\mathit{vacuum}} a\\right)} + i \\, {\\left(\\mathit{A2}_{x} e^{\\left(i \\, K_{\\mathit{vacuum}} a\\right)} + \\mathit{A1}_{x} e^{\\left(-i \\, K_{\\mathit{vacuum}} a\\right)}\\right)} k_{z}\\right)} c}{\\omega}$"
      ],
      "text/plain": [
       "-I*(-I*B1_zr*K_right_conductor + I*B1_xr*k_z)*c/(mu_r*omega) == -I*(-I*A2_z*K_vacuum*e^(I*K_vacuum*a) + I*A1_z*K_vacuum*e^(-I*K_vacuum*a) + I*(A2_x*e^(I*K_vacuum*a) + A1_x*e^(-I*K_vacuum*a))*k_z)*c/omega"
      ]
     },
     "metadata": {},
     "output_type": "display_data"
    },
    {
     "name": "stdout",
     "output_type": "stream",
     "text": [
      "\n"
     ]
    }
   ],
   "source": [
    "for eq in sys6:\n",
    "    show(eq)\n",
    "    print(\"\")"
   ]
  },
  {
   "cell_type": "code",
   "execution_count": 192,
   "metadata": {},
   "outputs": [
    {
     "name": "stdout",
     "output_type": "stream",
     "text": [
      "(A1_z, A2_z, B1_zl, K_left_conductor, k_z, kappa_l, kappa_vacuum)\n",
      "(A1_z, A2_z, B1_zr, K_right_conductor, k_z, kappa_r, kappa_vacuum)\n",
      "(A1_z, A2_z, B1_zl, K_vacuum)\n",
      "(A1_z, A2_z, B1_zr, K_vacuum)\n",
      "(A1_x, A1_z, A2_x, A2_z, B1_xl, B1_zl, K_left_conductor, K_vacuum, k_z)\n",
      "(A1_x, A1_z, A2_x, A2_z, B1_xr, B1_zr, K_right_conductor, K_vacuum, k_z)\n"
     ]
    },
    {
     "data": {
      "text/plain": [
       "{k_z,\n",
       " B1_xr,\n",
       " A2_z,\n",
       " B1_xl,\n",
       " kappa_r,\n",
       " A1_x,\n",
       " K_vacuum,\n",
       " B1_zr,\n",
       " kappa_vacuum,\n",
       " B1_zl,\n",
       " K_right_conductor,\n",
       " A1_z,\n",
       " A2_x,\n",
       " kappa_l,\n",
       " K_left_conductor}"
      ]
     },
     "execution_count": 192,
     "metadata": {},
     "output_type": "execute_result"
    }
   ],
   "source": [
    "sys6_subs = [eq.subs(digit_values) for eq in sys6]\n",
    "\n",
    "vv = set()\n",
    "for eq in sys6_subs:\n",
    "    print(eq.variables())\n",
    "    for variable in eq.variables():\n",
    "        vv.add(variable)\n",
    "vv"
   ]
  },
  {
   "cell_type": "raw",
   "metadata": {},
   "source": [
    "sys8_subs = [eq_Dx_l_subs,\n",
    "        eq_Dx_r_subs,\n",
    "        eqDx__l_subs,\n",
    "        eqDx__r_subs,\n",
    "        eqEz_l_subs,\n",
    "        eqEz_r_subs,\n",
    "        eqHy_l_subs,\n",
    "        eqHy_r_subs,\n",
    "        ]"
   ]
  },
  {
   "cell_type": "raw",
   "metadata": {},
   "source": [
    "sys8 = [eq_Dx_l,#_subs,\n",
    "        eq_Dx_r,#_subs,\n",
    "        eqDx__l,#_subs,\n",
    "        eqDx__r,#_subs,\n",
    "        eqEz_l,#_subs,\n",
    "        eqEz_r,#_subs,\n",
    "        eqHy_l,#_subs,\n",
    "        eqHy_r,#_subs,\n",
    "        ]"
   ]
  },
  {
   "cell_type": "code",
   "execution_count": 193,
   "metadata": {},
   "outputs": [],
   "source": [
    "sys8 = [eq_Hy_l,#_subs,\n",
    "        eq_Hy_r,#_subs,\n",
    "        eqDx__l,#_subs,\n",
    "        eqDx__r,#_subs,\n",
    "        eqEz_l,#_subs,\n",
    "        eqEz_r,#_subs,\n",
    "        eqHy_l,#_subs,\n",
    "        eqHy_r,#_subs,\n",
    "        ]"
   ]
  },
  {
   "cell_type": "code",
   "execution_count": 194,
   "metadata": {},
   "outputs": [
    {
     "data": {
      "text/html": [
       "<html>\\(\\displaystyle -\\frac{i \\, {\\left(i \\, c \\epsilon_{l}^{\\frac{3}{2}} \\kappa_{l} - 4 \\, \\pi \\epsilon_{l} \\sqrt{\\mu_{l}} \\sigma_{l}\\right)} \\sqrt{-k_{z}^{2} + \\kappa_{l}^{2}} \\mathit{B1}_{\\mathit{zl}} \\kappa_{l}}{{\\left(4 i \\, \\pi \\sqrt{\\epsilon_{l}} \\kappa_{l} \\mu_{l} \\sigma_{l} - {\\left(c \\epsilon_{l} k_{z}^{2} - c \\epsilon_{l} \\kappa_{l}^{2}\\right)} \\sqrt{\\mu_{l}}\\right)} \\mu_{l}} = -\\frac{i \\, {\\left(-i \\, \\sqrt{-k_{z}^{2} + \\kappa_{\\mathit{vacuum}}^{2}} \\mathit{A1}_{z} e^{\\left(i \\, \\sqrt{-k_{z}^{2} + \\kappa_{\\mathit{vacuum}}^{2}} a\\right)} + i \\, \\sqrt{-k_{z}^{2} + \\kappa_{\\mathit{vacuum}}^{2}} \\mathit{A2}_{z} e^{\\left(-i \\, \\sqrt{-k_{z}^{2} + \\kappa_{\\mathit{vacuum}}^{2}} a\\right)}\\right)} \\kappa_{\\mathit{vacuum}}^{2}}{k_{z}^{2} - \\kappa_{\\mathit{vacuum}}^{2}}\\)</html>"
      ],
      "text/latex": [
       "$\\displaystyle -\\frac{i \\, {\\left(i \\, c \\epsilon_{l}^{\\frac{3}{2}} \\kappa_{l} - 4 \\, \\pi \\epsilon_{l} \\sqrt{\\mu_{l}} \\sigma_{l}\\right)} \\sqrt{-k_{z}^{2} + \\kappa_{l}^{2}} \\mathit{B1}_{\\mathit{zl}} \\kappa_{l}}{{\\left(4 i \\, \\pi \\sqrt{\\epsilon_{l}} \\kappa_{l} \\mu_{l} \\sigma_{l} - {\\left(c \\epsilon_{l} k_{z}^{2} - c \\epsilon_{l} \\kappa_{l}^{2}\\right)} \\sqrt{\\mu_{l}}\\right)} \\mu_{l}} = -\\frac{i \\, {\\left(-i \\, \\sqrt{-k_{z}^{2} + \\kappa_{\\mathit{vacuum}}^{2}} \\mathit{A1}_{z} e^{\\left(i \\, \\sqrt{-k_{z}^{2} + \\kappa_{\\mathit{vacuum}}^{2}} a\\right)} + i \\, \\sqrt{-k_{z}^{2} + \\kappa_{\\mathit{vacuum}}^{2}} \\mathit{A2}_{z} e^{\\left(-i \\, \\sqrt{-k_{z}^{2} + \\kappa_{\\mathit{vacuum}}^{2}} a\\right)}\\right)} \\kappa_{\\mathit{vacuum}}^{2}}{k_{z}^{2} - \\kappa_{\\mathit{vacuum}}^{2}}$"
      ],
      "text/plain": [
       "-I*(I*c*epsilon_l^(3/2)*kappa_l - 4*pi*epsilon_l*sqrt(mu_l)*sigma_l)*sqrt(-k_z^2 + kappa_l^2)*B1_zl*kappa_l/((4*I*pi*sqrt(epsilon_l)*kappa_l*mu_l*sigma_l - (c*epsilon_l*k_z^2 - c*epsilon_l*kappa_l^2)*sqrt(mu_l))*mu_l) == -I*(-I*sqrt(-k_z^2 + kappa_vacuum^2)*A1_z*e^(I*sqrt(-k_z^2 + kappa_vacuum^2)*a) + I*sqrt(-k_z^2 + kappa_vacuum^2)*A2_z*e^(-I*sqrt(-k_z^2 + kappa_vacuum^2)*a))*kappa_vacuum^2/(k_z^2 - kappa_vacuum^2)"
      ]
     },
     "metadata": {},
     "output_type": "display_data"
    },
    {
     "name": "stdout",
     "output_type": "stream",
     "text": [
      "\n"
     ]
    },
    {
     "data": {
      "text/html": [
       "<html>\\(\\displaystyle \\frac{i \\, {\\left(i \\, c \\epsilon_{r}^{\\frac{3}{2}} \\kappa_{r} - 4 \\, \\pi \\epsilon_{r} \\sqrt{\\mu_{r}} \\sigma_{r}\\right)} \\sqrt{-k_{z}^{2} + \\kappa_{r}^{2}} \\mathit{B1}_{\\mathit{zr}} \\kappa_{r}}{{\\left(4 i \\, \\pi \\sqrt{\\epsilon_{r}} \\kappa_{r} \\mu_{r} \\sigma_{r} - {\\left(c \\epsilon_{r} k_{z}^{2} - c \\epsilon_{r} \\kappa_{r}^{2}\\right)} \\sqrt{\\mu_{r}}\\right)} \\mu_{r}} = -\\frac{i \\, {\\left(i \\, \\sqrt{-k_{z}^{2} + \\kappa_{\\mathit{vacuum}}^{2}} \\mathit{A2}_{z} e^{\\left(i \\, \\sqrt{-k_{z}^{2} + \\kappa_{\\mathit{vacuum}}^{2}} a\\right)} - i \\, \\sqrt{-k_{z}^{2} + \\kappa_{\\mathit{vacuum}}^{2}} \\mathit{A1}_{z} e^{\\left(-i \\, \\sqrt{-k_{z}^{2} + \\kappa_{\\mathit{vacuum}}^{2}} a\\right)}\\right)} \\kappa_{\\mathit{vacuum}}^{2}}{k_{z}^{2} - \\kappa_{\\mathit{vacuum}}^{2}}\\)</html>"
      ],
      "text/latex": [
       "$\\displaystyle \\frac{i \\, {\\left(i \\, c \\epsilon_{r}^{\\frac{3}{2}} \\kappa_{r} - 4 \\, \\pi \\epsilon_{r} \\sqrt{\\mu_{r}} \\sigma_{r}\\right)} \\sqrt{-k_{z}^{2} + \\kappa_{r}^{2}} \\mathit{B1}_{\\mathit{zr}} \\kappa_{r}}{{\\left(4 i \\, \\pi \\sqrt{\\epsilon_{r}} \\kappa_{r} \\mu_{r} \\sigma_{r} - {\\left(c \\epsilon_{r} k_{z}^{2} - c \\epsilon_{r} \\kappa_{r}^{2}\\right)} \\sqrt{\\mu_{r}}\\right)} \\mu_{r}} = -\\frac{i \\, {\\left(i \\, \\sqrt{-k_{z}^{2} + \\kappa_{\\mathit{vacuum}}^{2}} \\mathit{A2}_{z} e^{\\left(i \\, \\sqrt{-k_{z}^{2} + \\kappa_{\\mathit{vacuum}}^{2}} a\\right)} - i \\, \\sqrt{-k_{z}^{2} + \\kappa_{\\mathit{vacuum}}^{2}} \\mathit{A1}_{z} e^{\\left(-i \\, \\sqrt{-k_{z}^{2} + \\kappa_{\\mathit{vacuum}}^{2}} a\\right)}\\right)} \\kappa_{\\mathit{vacuum}}^{2}}{k_{z}^{2} - \\kappa_{\\mathit{vacuum}}^{2}}$"
      ],
      "text/plain": [
       "I*(I*c*epsilon_r^(3/2)*kappa_r - 4*pi*epsilon_r*sqrt(mu_r)*sigma_r)*sqrt(-k_z^2 + kappa_r^2)*B1_zr*kappa_r/((4*I*pi*sqrt(epsilon_r)*kappa_r*mu_r*sigma_r - (c*epsilon_r*k_z^2 - c*epsilon_r*kappa_r^2)*sqrt(mu_r))*mu_r) == -I*(I*sqrt(-k_z^2 + kappa_vacuum^2)*A2_z*e^(I*sqrt(-k_z^2 + kappa_vacuum^2)*a) - I*sqrt(-k_z^2 + kappa_vacuum^2)*A1_z*e^(-I*sqrt(-k_z^2 + kappa_vacuum^2)*a))*kappa_vacuum^2/(k_z^2 - kappa_vacuum^2)"
      ]
     },
     "metadata": {},
     "output_type": "display_data"
    },
    {
     "name": "stdout",
     "output_type": "stream",
     "text": [
      "\n"
     ]
    },
    {
     "data": {
      "text/html": [
       "<html>\\(\\displaystyle \\mathit{A1}_{x} e^{\\left(i \\, K_{\\mathit{vacuum}} a\\right)} + \\mathit{A2}_{x} e^{\\left(-i \\, K_{\\mathit{vacuum}} a\\right)} = \\mathit{B1}_{\\mathit{xl}} {\\left(\\epsilon_{l} + \\frac{4 i \\, \\pi \\sigma_{l}}{\\omega}\\right)}\\)</html>"
      ],
      "text/latex": [
       "$\\displaystyle \\mathit{A1}_{x} e^{\\left(i \\, K_{\\mathit{vacuum}} a\\right)} + \\mathit{A2}_{x} e^{\\left(-i \\, K_{\\mathit{vacuum}} a\\right)} = \\mathit{B1}_{\\mathit{xl}} {\\left(\\epsilon_{l} + \\frac{4 i \\, \\pi \\sigma_{l}}{\\omega}\\right)}$"
      ],
      "text/plain": [
       "A1_x*e^(I*K_vacuum*a) + A2_x*e^(-I*K_vacuum*a) == B1_xl*(epsilon_l + 4*I*pi*sigma_l/omega)"
      ]
     },
     "metadata": {},
     "output_type": "display_data"
    },
    {
     "name": "stdout",
     "output_type": "stream",
     "text": [
      "\n"
     ]
    },
    {
     "data": {
      "text/html": [
       "<html>\\(\\displaystyle \\mathit{A2}_{x} e^{\\left(i \\, K_{\\mathit{vacuum}} a\\right)} + \\mathit{A1}_{x} e^{\\left(-i \\, K_{\\mathit{vacuum}} a\\right)} = \\mathit{B1}_{\\mathit{xr}} {\\left(\\epsilon_{r} + \\frac{4 i \\, \\pi \\sigma_{r}}{\\omega}\\right)}\\)</html>"
      ],
      "text/latex": [
       "$\\displaystyle \\mathit{A2}_{x} e^{\\left(i \\, K_{\\mathit{vacuum}} a\\right)} + \\mathit{A1}_{x} e^{\\left(-i \\, K_{\\mathit{vacuum}} a\\right)} = \\mathit{B1}_{\\mathit{xr}} {\\left(\\epsilon_{r} + \\frac{4 i \\, \\pi \\sigma_{r}}{\\omega}\\right)}$"
      ],
      "text/plain": [
       "A2_x*e^(I*K_vacuum*a) + A1_x*e^(-I*K_vacuum*a) == B1_xr*(epsilon_r + 4*I*pi*sigma_r/omega)"
      ]
     },
     "metadata": {},
     "output_type": "display_data"
    },
    {
     "name": "stdout",
     "output_type": "stream",
     "text": [
      "\n"
     ]
    },
    {
     "data": {
      "text/html": [
       "<html>\\(\\displaystyle \\mathit{B1}_{\\mathit{zl}} = \\mathit{A1}_{z} e^{\\left(i \\, K_{\\mathit{vacuum}} a\\right)} + \\mathit{A2}_{z} e^{\\left(-i \\, K_{\\mathit{vacuum}} a\\right)}\\)</html>"
      ],
      "text/latex": [
       "$\\displaystyle \\mathit{B1}_{\\mathit{zl}} = \\mathit{A1}_{z} e^{\\left(i \\, K_{\\mathit{vacuum}} a\\right)} + \\mathit{A2}_{z} e^{\\left(-i \\, K_{\\mathit{vacuum}} a\\right)}$"
      ],
      "text/plain": [
       "B1_zl == A1_z*e^(I*K_vacuum*a) + A2_z*e^(-I*K_vacuum*a)"
      ]
     },
     "metadata": {},
     "output_type": "display_data"
    },
    {
     "name": "stdout",
     "output_type": "stream",
     "text": [
      "\n"
     ]
    },
    {
     "data": {
      "text/html": [
       "<html>\\(\\displaystyle \\mathit{B1}_{\\mathit{zr}} = \\mathit{A2}_{z} e^{\\left(i \\, K_{\\mathit{vacuum}} a\\right)} + \\mathit{A1}_{z} e^{\\left(-i \\, K_{\\mathit{vacuum}} a\\right)}\\)</html>"
      ],
      "text/latex": [
       "$\\displaystyle \\mathit{B1}_{\\mathit{zr}} = \\mathit{A2}_{z} e^{\\left(i \\, K_{\\mathit{vacuum}} a\\right)} + \\mathit{A1}_{z} e^{\\left(-i \\, K_{\\mathit{vacuum}} a\\right)}$"
      ],
      "text/plain": [
       "B1_zr == A2_z*e^(I*K_vacuum*a) + A1_z*e^(-I*K_vacuum*a)"
      ]
     },
     "metadata": {},
     "output_type": "display_data"
    },
    {
     "name": "stdout",
     "output_type": "stream",
     "text": [
      "\n"
     ]
    },
    {
     "data": {
      "text/html": [
       "<html>\\(\\displaystyle -\\frac{i \\, {\\left(i \\, \\mathit{B1}_{\\mathit{zl}} K_{\\mathit{left}_{\\mathit{conductor}}} + i \\, \\mathit{B1}_{\\mathit{xl}} k_{z}\\right)} c}{\\mu_{l} \\omega} = -\\frac{i \\, {\\left(i \\, \\mathit{A1}_{z} K_{\\mathit{vacuum}} e^{\\left(i \\, K_{\\mathit{vacuum}} a\\right)} - i \\, \\mathit{A2}_{z} K_{\\mathit{vacuum}} e^{\\left(-i \\, K_{\\mathit{vacuum}} a\\right)} + i \\, {\\left(\\mathit{A1}_{x} e^{\\left(i \\, K_{\\mathit{vacuum}} a\\right)} + \\mathit{A2}_{x} e^{\\left(-i \\, K_{\\mathit{vacuum}} a\\right)}\\right)} k_{z}\\right)} c}{\\omega}\\)</html>"
      ],
      "text/latex": [
       "$\\displaystyle -\\frac{i \\, {\\left(i \\, \\mathit{B1}_{\\mathit{zl}} K_{\\mathit{left}_{\\mathit{conductor}}} + i \\, \\mathit{B1}_{\\mathit{xl}} k_{z}\\right)} c}{\\mu_{l} \\omega} = -\\frac{i \\, {\\left(i \\, \\mathit{A1}_{z} K_{\\mathit{vacuum}} e^{\\left(i \\, K_{\\mathit{vacuum}} a\\right)} - i \\, \\mathit{A2}_{z} K_{\\mathit{vacuum}} e^{\\left(-i \\, K_{\\mathit{vacuum}} a\\right)} + i \\, {\\left(\\mathit{A1}_{x} e^{\\left(i \\, K_{\\mathit{vacuum}} a\\right)} + \\mathit{A2}_{x} e^{\\left(-i \\, K_{\\mathit{vacuum}} a\\right)}\\right)} k_{z}\\right)} c}{\\omega}$"
      ],
      "text/plain": [
       "-I*(I*B1_zl*K_left_conductor + I*B1_xl*k_z)*c/(mu_l*omega) == -I*(I*A1_z*K_vacuum*e^(I*K_vacuum*a) - I*A2_z*K_vacuum*e^(-I*K_vacuum*a) + I*(A1_x*e^(I*K_vacuum*a) + A2_x*e^(-I*K_vacuum*a))*k_z)*c/omega"
      ]
     },
     "metadata": {},
     "output_type": "display_data"
    },
    {
     "name": "stdout",
     "output_type": "stream",
     "text": [
      "\n"
     ]
    },
    {
     "data": {
      "text/html": [
       "<html>\\(\\displaystyle -\\frac{i \\, {\\left(-i \\, \\mathit{B1}_{\\mathit{zr}} K_{\\mathit{right}_{\\mathit{conductor}}} + i \\, \\mathit{B1}_{\\mathit{xr}} k_{z}\\right)} c}{\\mu_{r} \\omega} = -\\frac{i \\, {\\left(-i \\, \\mathit{A2}_{z} K_{\\mathit{vacuum}} e^{\\left(i \\, K_{\\mathit{vacuum}} a\\right)} + i \\, \\mathit{A1}_{z} K_{\\mathit{vacuum}} e^{\\left(-i \\, K_{\\mathit{vacuum}} a\\right)} + i \\, {\\left(\\mathit{A2}_{x} e^{\\left(i \\, K_{\\mathit{vacuum}} a\\right)} + \\mathit{A1}_{x} e^{\\left(-i \\, K_{\\mathit{vacuum}} a\\right)}\\right)} k_{z}\\right)} c}{\\omega}\\)</html>"
      ],
      "text/latex": [
       "$\\displaystyle -\\frac{i \\, {\\left(-i \\, \\mathit{B1}_{\\mathit{zr}} K_{\\mathit{right}_{\\mathit{conductor}}} + i \\, \\mathit{B1}_{\\mathit{xr}} k_{z}\\right)} c}{\\mu_{r} \\omega} = -\\frac{i \\, {\\left(-i \\, \\mathit{A2}_{z} K_{\\mathit{vacuum}} e^{\\left(i \\, K_{\\mathit{vacuum}} a\\right)} + i \\, \\mathit{A1}_{z} K_{\\mathit{vacuum}} e^{\\left(-i \\, K_{\\mathit{vacuum}} a\\right)} + i \\, {\\left(\\mathit{A2}_{x} e^{\\left(i \\, K_{\\mathit{vacuum}} a\\right)} + \\mathit{A1}_{x} e^{\\left(-i \\, K_{\\mathit{vacuum}} a\\right)}\\right)} k_{z}\\right)} c}{\\omega}$"
      ],
      "text/plain": [
       "-I*(-I*B1_zr*K_right_conductor + I*B1_xr*k_z)*c/(mu_r*omega) == -I*(-I*A2_z*K_vacuum*e^(I*K_vacuum*a) + I*A1_z*K_vacuum*e^(-I*K_vacuum*a) + I*(A2_x*e^(I*K_vacuum*a) + A1_x*e^(-I*K_vacuum*a))*k_z)*c/omega"
      ]
     },
     "metadata": {},
     "output_type": "display_data"
    },
    {
     "name": "stdout",
     "output_type": "stream",
     "text": [
      "\n"
     ]
    }
   ],
   "source": [
    "for eq in sys8:\n",
    "    show(eq)\n",
    "    print(\"\")"
   ]
  },
  {
   "cell_type": "code",
   "execution_count": 195,
   "metadata": {},
   "outputs": [
    {
     "name": "stdout",
     "output_type": "stream",
     "text": [
      "(A1_z, A2_z, B1_zl, k_z, kappa_l, kappa_vacuum)\n",
      "(A1_z, A2_z, B1_zr, k_z, kappa_r, kappa_vacuum)\n",
      "(A1_x, A2_x, B1_xl, K_vacuum)\n",
      "(A1_x, A2_x, B1_xr, K_vacuum)\n",
      "(A1_z, A2_z, B1_zl, K_vacuum)\n",
      "(A1_z, A2_z, B1_zr, K_vacuum)\n",
      "(A1_x, A1_z, A2_x, A2_z, B1_xl, B1_zl, K_left_conductor, K_vacuum, k_z)\n",
      "(A1_x, A1_z, A2_x, A2_z, B1_xr, B1_zr, K_right_conductor, K_vacuum, k_z)\n"
     ]
    },
    {
     "data": {
      "text/plain": [
       "{k_z,\n",
       " B1_xr,\n",
       " A2_z,\n",
       " B1_xl,\n",
       " kappa_r,\n",
       " A1_x,\n",
       " K_vacuum,\n",
       " B1_zr,\n",
       " kappa_vacuum,\n",
       " B1_zl,\n",
       " K_right_conductor,\n",
       " A1_z,\n",
       " A2_x,\n",
       " kappa_l,\n",
       " K_left_conductor}"
      ]
     },
     "execution_count": 195,
     "metadata": {},
     "output_type": "execute_result"
    }
   ],
   "source": [
    "sys8_subs = [eq.subs(digit_values) for eq in sys8]\n",
    "\n",
    "vv = set()\n",
    "for eq in sys8_subs:\n",
    "    print(eq.variables())\n",
    "    for variable in eq.variables():\n",
    "        vv.add(variable)\n",
    "vv"
   ]
  },
  {
   "cell_type": "code",
   "execution_count": 196,
   "metadata": {},
   "outputs": [],
   "source": [
    "vars8 = [\n",
    "    B1_xl,\n",
    "    B1_zl,\n",
    "    A1_x,\n",
    "    A1_z,\n",
    "    A2_x,\n",
    "    A2_z,\n",
    "    B1_xr,\n",
    "    B1_zr,\n",
    "]"
   ]
  },
  {
   "cell_type": "code",
   "execution_count": 197,
   "metadata": {},
   "outputs": [],
   "source": [
    "vars8reim = [\n",
    "    B1_xl_re, B1_xl_im,\n",
    "    B1_zl_re, B1_zl_im,\n",
    "    A1_x_re,  A1_x_im,\n",
    "    A1_z_re,  A1_z_im,\n",
    "    A2_x_re,  A2_x_im,\n",
    "    A2_z_re,  A2_z_im,\n",
    "    B1_xr_re, B1_xr_im,\n",
    "    B1_zr_re, B1_zr_im,\n",
    "]"
   ]
  },
  {
   "cell_type": "code",
   "execution_count": 198,
   "metadata": {},
   "outputs": [],
   "source": [
    "M8 = GenerateMatrix(sys8, vars8)"
   ]
  },
  {
   "cell_type": "code",
   "execution_count": 199,
   "metadata": {},
   "outputs": [],
   "source": [
    "M8_ReIm = GenerateMatrixReIm(sys8_subs, coefs_re_im_subs, vars8reim)"
   ]
  },
  {
   "cell_type": "code",
   "execution_count": 200,
   "metadata": {},
   "outputs": [
    {
     "data": {
      "text/plain": [
       "(16, 16)"
      ]
     },
     "execution_count": 200,
     "metadata": {},
     "output_type": "execute_result"
    }
   ],
   "source": [
    "M8_ReIm.nrows(), M8_ReIm.ncols()"
   ]
  },
  {
   "cell_type": "code",
   "execution_count": 201,
   "metadata": {},
   "outputs": [
    {
     "data": {
      "text/plain": [
       "(K_left_conductor,\n",
       " K_right_conductor,\n",
       " K_vacuum,\n",
       " kappa_l,\n",
       " kappa_r,\n",
       " kappa_vacuum,\n",
       " kz,\n",
       " sz)"
      ]
     },
     "execution_count": 201,
     "metadata": {},
     "output_type": "execute_result"
    }
   ],
   "source": [
    "M8_ReIm.variables()"
   ]
  },
  {
   "cell_type": "raw",
   "metadata": {},
   "source": [
    "M8.variables()"
   ]
  },
  {
   "cell_type": "code",
   "execution_count": 202,
   "metadata": {},
   "outputs": [
    {
     "data": {
      "text/latex": [
       "$\\displaystyle \\left(\\begin{array}{rrrrrrrr}\n",
       "0 & -\\frac{i \\, {\\left(i \\, c \\epsilon_{l}^{\\frac{3}{2}} \\kappa_{l} - 4 \\, \\pi \\epsilon_{l} \\sqrt{\\mu_{l}} \\sigma_{l}\\right)} \\sqrt{-k_{z}^{2} + \\kappa_{l}^{2}} \\kappa_{l}}{{\\left(4 i \\, \\pi \\sqrt{\\epsilon_{l}} \\kappa_{l} \\mu_{l} \\sigma_{l} - {\\left(c \\epsilon_{l} k_{z}^{2} - c \\epsilon_{l} \\kappa_{l}^{2}\\right)} \\sqrt{\\mu_{l}}\\right)} \\mu_{l}} & 0 & \\frac{\\sqrt{-k_{z}^{2} + \\kappa_{\\mathit{vacuum}}^{2}} \\kappa_{\\mathit{vacuum}}^{2} e^{\\left(i \\, \\sqrt{-k_{z}^{2} + \\kappa_{\\mathit{vacuum}}^{2}} a\\right)}}{k_{z}^{2} - \\kappa_{\\mathit{vacuum}}^{2}} & 0 & -\\frac{\\sqrt{-k_{z}^{2} + \\kappa_{\\mathit{vacuum}}^{2}} \\kappa_{\\mathit{vacuum}}^{2} e^{\\left(-i \\, \\sqrt{-k_{z}^{2} + \\kappa_{\\mathit{vacuum}}^{2}} a\\right)}}{k_{z}^{2} - \\kappa_{\\mathit{vacuum}}^{2}} & 0 & 0 \\\\\n",
       "0 & 0 & 0 & \\frac{\\sqrt{-k_{z}^{2} + \\kappa_{\\mathit{vacuum}}^{2}} \\kappa_{\\mathit{vacuum}}^{2} e^{\\left(-i \\, \\sqrt{-k_{z}^{2} + \\kappa_{\\mathit{vacuum}}^{2}} a\\right)}}{k_{z}^{2} - \\kappa_{\\mathit{vacuum}}^{2}} & 0 & -\\frac{\\sqrt{-k_{z}^{2} + \\kappa_{\\mathit{vacuum}}^{2}} \\kappa_{\\mathit{vacuum}}^{2} e^{\\left(i \\, \\sqrt{-k_{z}^{2} + \\kappa_{\\mathit{vacuum}}^{2}} a\\right)}}{k_{z}^{2} - \\kappa_{\\mathit{vacuum}}^{2}} & 0 & \\frac{i \\, {\\left(i \\, c \\epsilon_{r}^{\\frac{3}{2}} \\kappa_{r} - 4 \\, \\pi \\epsilon_{r} \\sqrt{\\mu_{r}} \\sigma_{r}\\right)} \\sqrt{-k_{z}^{2} + \\kappa_{r}^{2}} \\kappa_{r}}{{\\left(4 i \\, \\pi \\sqrt{\\epsilon_{r}} \\kappa_{r} \\mu_{r} \\sigma_{r} - {\\left(c \\epsilon_{r} k_{z}^{2} - c \\epsilon_{r} \\kappa_{r}^{2}\\right)} \\sqrt{\\mu_{r}}\\right)} \\mu_{r}} \\\\\n",
       "-\\epsilon_{l} - \\frac{4 i \\, \\pi \\sigma_{l}}{\\omega} & 0 & e^{\\left(i \\, K_{\\mathit{vacuum}} a\\right)} & 0 & e^{\\left(-i \\, K_{\\mathit{vacuum}} a\\right)} & 0 & 0 & 0 \\\\\n",
       "0 & 0 & e^{\\left(-i \\, K_{\\mathit{vacuum}} a\\right)} & 0 & e^{\\left(i \\, K_{\\mathit{vacuum}} a\\right)} & 0 & -\\epsilon_{r} - \\frac{4 i \\, \\pi \\sigma_{r}}{\\omega} & 0 \\\\\n",
       "0 & 1 & 0 & -e^{\\left(i \\, K_{\\mathit{vacuum}} a\\right)} & 0 & -e^{\\left(-i \\, K_{\\mathit{vacuum}} a\\right)} & 0 & 0 \\\\\n",
       "0 & 0 & 0 & -e^{\\left(-i \\, K_{\\mathit{vacuum}} a\\right)} & 0 & -e^{\\left(i \\, K_{\\mathit{vacuum}} a\\right)} & 0 & 1 \\\\\n",
       "\\frac{c k_{z}}{\\mu_{l} \\omega} & \\frac{K_{\\mathit{left}_{\\mathit{conductor}}} c}{\\mu_{l} \\omega} & -\\frac{c k_{z} e^{\\left(i \\, K_{\\mathit{vacuum}} a\\right)}}{\\omega} & -\\frac{K_{\\mathit{vacuum}} c e^{\\left(i \\, K_{\\mathit{vacuum}} a\\right)}}{\\omega} & -\\frac{c k_{z} e^{\\left(-i \\, K_{\\mathit{vacuum}} a\\right)}}{\\omega} & \\frac{K_{\\mathit{vacuum}} c e^{\\left(-i \\, K_{\\mathit{vacuum}} a\\right)}}{\\omega} & 0 & 0 \\\\\n",
       "0 & 0 & -\\frac{c k_{z} e^{\\left(-i \\, K_{\\mathit{vacuum}} a\\right)}}{\\omega} & -\\frac{K_{\\mathit{vacuum}} c e^{\\left(-i \\, K_{\\mathit{vacuum}} a\\right)}}{\\omega} & -\\frac{c k_{z} e^{\\left(i \\, K_{\\mathit{vacuum}} a\\right)}}{\\omega} & \\frac{K_{\\mathit{vacuum}} c e^{\\left(i \\, K_{\\mathit{vacuum}} a\\right)}}{\\omega} & \\frac{c k_{z}}{\\mu_{r} \\omega} & -\\frac{K_{\\mathit{right}_{\\mathit{conductor}}} c}{\\mu_{r} \\omega}\n",
       "\\end{array}\\right)$"
      ],
      "text/plain": [
       "<IPython.core.display.Math object>"
      ]
     },
     "metadata": {},
     "output_type": "display_data"
    }
   ],
   "source": [
    "disp(M8)"
   ]
  },
  {
   "cell_type": "code",
   "execution_count": 203,
   "metadata": {},
   "outputs": [],
   "source": [
    "M8_det = M8.det()"
   ]
  },
  {
   "cell_type": "code",
   "execution_count": 204,
   "metadata": {},
   "outputs": [
    {
     "data": {
      "text/plain": [
       "(K_vacuum,\n",
       " a,\n",
       " c,\n",
       " epsilon_l,\n",
       " epsilon_r,\n",
       " k_z,\n",
       " kappa_l,\n",
       " kappa_r,\n",
       " kappa_vacuum,\n",
       " mu_l,\n",
       " mu_r,\n",
       " omega,\n",
       " sigma_l,\n",
       " sigma_r)"
      ]
     },
     "execution_count": 204,
     "metadata": {},
     "output_type": "execute_result"
    }
   ],
   "source": [
    "M8_det.variables()"
   ]
  },
  {
   "cell_type": "code",
   "execution_count": 205,
   "metadata": {},
   "outputs": [],
   "source": [
    "M8_det_subs = M8_det \\\n",
    "    .subs(K_vacuum_subs) \\\n",
    "    .subs(K_left_conductor_subs) \\\n",
    "    .subs(K_right_conductor_subs) \\\n",
    "    .subs(kappa_vacuum_sol) \\\n",
    "    .subs(kappa_l_sol)\\\n",
    "    .subs(kappa_r_sol)"
   ]
  },
  {
   "cell_type": "code",
   "execution_count": 206,
   "metadata": {},
   "outputs": [],
   "source": [
    "M8_det_subs_k_z = M8_det_subs.subs(k_z = kz + I * sz).expand()"
   ]
  },
  {
   "cell_type": "code",
   "execution_count": 207,
   "metadata": {},
   "outputs": [
    {
     "data": {
      "text/plain": [
       "(a, c, epsilon_l, epsilon_r, kz, mu_l, mu_r, omega, sigma_l, sigma_r, sz)"
      ]
     },
     "execution_count": 207,
     "metadata": {},
     "output_type": "execute_result"
    }
   ],
   "source": [
    "M8_det_subs_k_z.variables()"
   ]
  },
  {
   "cell_type": "code",
   "execution_count": 208,
   "metadata": {},
   "outputs": [
    {
     "data": {
      "text/plain": [
       "(kz, sz)"
      ]
     },
     "execution_count": 208,
     "metadata": {},
     "output_type": "execute_result"
    }
   ],
   "source": [
    "M8_det_subs_k_z_d = M8_det_subs_k_z.subs(digit_values)\n",
    "M8_det_subs_k_z_d.variables()"
   ]
  },
  {
   "cell_type": "code",
   "execution_count": 209,
   "metadata": {},
   "outputs": [],
   "source": [
    "make_investigation_plots = True"
   ]
  },
  {
   "cell_type": "code",
   "execution_count": 210,
   "metadata": {},
   "outputs": [],
   "source": [
    "def make_det_plot2d(M_d, kz_min, kz_max, nk, sz_min, sz_max, ns):\n",
    "    import numpy as np\n",
    "    import matplotlib.pyplot as plt\n",
    "    %matplotlib inline\n",
    "\n",
    "    kz_linspace = np.linspace(kz_min, kz_max, nk)\n",
    "    sz_linspace = np.linspace(sz_min, sz_max, ns)\n",
    "\n",
    "    kz_list = kz_linspace.tolist()\n",
    "    sz_list = sz_linspace.tolist()\n",
    "\n",
    "    kz_grid, sz_grid = np.meshgrid(kz_linspace, sz_linspace)\n",
    "\n",
    "    u = kz_grid * np.nan\n",
    "    v = sz_grid * np.nan\n",
    "\n",
    "    for ikz in np.arange(0, len(kz_linspace), 1):\n",
    "        print(ikz, len(kz_linspace))\n",
    "        for isz in np.arange(0, len(sz_linspace), 1):\n",
    "            kz_i = kz_list[ikz]\n",
    "            sz_i = sz_list[isz]\n",
    "            try:\n",
    "                M_d_i = M_d.subs(kz == kz_i).subs(sz == sz_i)\n",
    "                u[isz][ikz] = M_d_i.real().n()\n",
    "                v[isz][ikz] = M_d_i.imag().n()\n",
    "                # print(kz_i, sz_i, u[isz][ikz], v[isz][ikz])\n",
    "            except Exception as ex:\n",
    "                print(ex)\n",
    "    return kz_grid, sz_grid, u, v"
   ]
  },
  {
   "cell_type": "code",
   "execution_count": 212,
   "metadata": {},
   "outputs": [
    {
     "name": "stdout",
     "output_type": "stream",
     "text": [
      "0 21\n",
      "1 21\n",
      "2 21\n",
      "3 21\n",
      "4 21\n",
      "5 21\n",
      "6 21\n",
      "7 21\n",
      "8 21\n",
      "9 21\n",
      "10 21\n",
      "11 21\n",
      "12 21\n",
      "13 21\n",
      "14 21\n",
      "15 21\n",
      "16 21\n",
      "17 21\n",
      "18 21\n",
      "19 21\n",
      "20 21\n"
     ]
    }
   ],
   "source": [
    "if make_investigation_plots:\n",
    "    kz_grid, sz_grid, u, v = make_det_plot2d(M8_det_subs_k_z_d,\n",
    "                                         kz_min=-1e-2, kz_max=1e-2, nk=21,\n",
    "                                         sz_min=-4e-2, sz_max=4e-2, ns=21)"
   ]
  },
  {
   "cell_type": "markdown",
   "metadata": {},
   "source": [
    "Искомый волновой вектор можно найти графическим методом как точку пересечения двух нулевых изолиний на контурных графиках зависимости действительной и мнимой компонент детерминанта от действительной и мнимой компонент волнового вектора"
   ]
  },
  {
   "cell_type": "markdown",
   "metadata": {},
   "source": [
    "Get coordinates from a contour\n",
    "\n",
    "https://stackoverflow.com/questions/19418901/get-coordinates-from-a-contour"
   ]
  },
  {
   "cell_type": "code",
   "execution_count": 213,
   "metadata": {},
   "outputs": [],
   "source": [
    "# https://stackoverflow.com/questions/8094374/python-matplotlib-find-intersection-of-lineplots\n",
    "def intersect_interp1d(M_d, x1, y1, x2, y2, ax, ds=0.1):\n",
    "    import numpy as np\n",
    "    from numpy.linalg import norm\n",
    "    from scipy.optimize import fsolve\n",
    "    from scipy.interpolate import interp1d\n",
    "    import matplotlib.pyplot as plt\n",
    "\n",
    "    x1_array = np.array(x1)\n",
    "    y1_array = np.array(y1)\n",
    "    x2_array = np.array(x2)\n",
    "    y2_array = np.array(y2)\n",
    "\n",
    "    s1_array = np.linspace(0,1,num=len(x1_array))\n",
    "    s2_array = np.linspace(0,1,num=len(x2_array))\n",
    "\n",
    "    # Arguments given to interp1d:\n",
    "    #  - extrapolate: to make sure we don't get a fatal value error when fsolve searches\n",
    "    #                 beyond the bounds of [0,1]\n",
    "    #  - copy: use refs to the arrays\n",
    "    #  - assume_sorted: because s_array ('x') increases monotonically across [0,1]\n",
    "    kwargs_ = dict(fill_value='extrapolate', copy=False, assume_sorted=True)\n",
    "    x1_interp = interp1d(s1_array,x1_array, **kwargs_)\n",
    "    y1_interp = interp1d(s1_array,y1_array, **kwargs_)\n",
    "    x2_interp = interp1d(s2_array,x2_array, **kwargs_)\n",
    "    y2_interp = interp1d(s2_array,y2_array, **kwargs_)\n",
    "    \n",
    "    xydiff_lambda = lambda s12: (np.abs(x1_interp(s12[0])-x2_interp(s12[1])),\n",
    "                                 np.abs(y1_interp(s12[0])-y2_interp(s12[1])))\n",
    "    \n",
    "    foundset = []\n",
    "    \n",
    "    for s1 in np.arange(ds,1.0,ds):\n",
    "        for s2 in np.arange(ds, 1.0, ds):\n",
    "\n",
    "            s12_intercept, _, ier, mesg \\\n",
    "                = fsolve(xydiff_lambda, [s1, s2], full_output=True) \n",
    "\n",
    "            xy1_intercept = x1_interp(s12_intercept[0]),y1_interp(s12_intercept[0])\n",
    "            xy2_intercept = x2_interp(s12_intercept[1]),y2_interp(s12_intercept[1])\n",
    "            \n",
    "            is_intercept_really_good = s12_intercept[0]>=0 and s12_intercept[0]<=1 \\\n",
    "                  and s12_intercept[1]>=0 and s12_intercept[1]<=1 \\\n",
    "                  and np.isclose(0,norm(xydiff_lambda(s12_intercept)))\n",
    "            \n",
    "            if is_intercept_really_good:\n",
    "                \n",
    "\n",
    "                \n",
    "                found = (float(xy1_intercept[0]), float(xy1_intercept[1]))\n",
    "                \n",
    "                if found not in foundset:\n",
    "                    foundset += [found]\n",
    "                    \n",
    "                    fig, ax = plt.subplots(1,1)\n",
    "                \n",
    "                    ax.plot(x1_interp(s1_array),y1_interp(s1_array),'b.', ls='-', label='x1 data')\n",
    "                    ax.plot(x2_interp(s2_array),y2_interp(s2_array),'r.', ls='-', label='x2 data')\n",
    "                    if s12_intercept[0]>0 and s12_intercept[0]<1:\n",
    "                        \n",
    "                        ax.plot(*xy1_intercept,'bo', ms=12, label='x1 intercept')\n",
    "                        ax.plot(*xy2_intercept,'ro', ms=8, label='x2 intercept')\n",
    "                        ax.legend()\n",
    "                        plt.show()\n",
    "\n",
    "                        M_det = M_d \\\n",
    "                            .subs(kz == float(xy1_intercept[0])) \\\n",
    "                            .subs(sz == float(xy1_intercept[1])).n()\n",
    "\n",
    "                        print(\"M_det=\", M_det)\n",
    "                \n",
    "                        print('intercept @ s1={}, s2={}\\n'.format(s12_intercept[0],s12_intercept[1]), \n",
    "                              'intercept @ xy1={}\\n'.format(np.array(xy1_intercept)), \n",
    "                              'intercept @ xy2={}\\n'.format(np.array(xy2_intercept)), \n",
    "                              'fsolve apparent success? {}: \"{}\"\\n'.format(ier==1,mesg,), \n",
    "                              'is intercept really good? {}\\n'.format( is_intercept_really_good ))\n",
    "\n",
    "    return foundset"
   ]
  },
  {
   "cell_type": "code",
   "execution_count": 214,
   "metadata": {},
   "outputs": [],
   "source": [
    "def test_contour_line_intersection(M, i, j, cu, cv, cu_index, cv_index):\n",
    "    dat_u = cu.allsegs[cu_index][i]\n",
    "    dat_v = cv.allsegs[cv_index][j]\n",
    "    \n",
    "    xu = dat_u[:,0]\n",
    "    yu = dat_u[:,1]\n",
    "    xv = dat_v[:,0]\n",
    "    yv = dat_v[:,1]\n",
    "    \n",
    "    if len(xu) < 2:\n",
    "        return None\n",
    "    if len(xv) < 2:\n",
    "        return None\n",
    "    \n",
    "    return intersect_interp1d(M, xu, yu, xv, yv, ax)"
   ]
  },
  {
   "cell_type": "raw",
   "metadata": {},
   "source": [
    "kz_grid, sz_grid, u, v = make_det_plot2d(M8_det_subs_k_z_d,\n",
    "                                         kz_min=-0.0005, kz_max=0.0005, nk=21,\n",
    "                                         sz_min=-0.0005, sz_max=0.0005, ns=21)"
   ]
  },
  {
   "cell_type": "code",
   "execution_count": 215,
   "metadata": {},
   "outputs": [
    {
     "data": {
      "image/png": "[encoded data removed]",
      "text/plain": [
       "<Figure size 432x288 with 2 Axes>"
      ]
     },
     "metadata": {
      "needs_background": "light"
     },
     "output_type": "display_data"
    }
   ],
   "source": [
    "if make_investigation_plots:\n",
    "    import matplotlib.pyplot as plt\n",
    "    fig,ax=plt.subplots(1,1)\n",
    "\n",
    "    cp = ax.contourf(kz_grid,sz_grid, u)\n",
    "    fig.colorbar(cp) # Add a colorbar to a plot\n",
    "    ax.set_title('M8_subs_det_re')\n",
    "    ax.set_xlabel('kz')\n",
    "    ax.set_ylabel('sz')\n",
    "    plt.show()"
   ]
  },
  {
   "cell_type": "code",
   "execution_count": 216,
   "metadata": {},
   "outputs": [
    {
     "data": {
      "image/png": "[encoded data removed]",
      "text/plain": [
       "<Figure size 432x288 with 2 Axes>"
      ]
     },
     "metadata": {
      "needs_background": "light"
     },
     "output_type": "display_data"
    }
   ],
   "source": [
    "if make_investigation_plots:\n",
    "    import matplotlib.pyplot as plt\n",
    "    fig,ax=plt.subplots(1,1)\n",
    "\n",
    "    cp = ax.contourf(kz_grid,sz_grid, v)\n",
    "    fig.colorbar(cp) # Add a colorbar to a plot\n",
    "    ax.set_title('M8_subs_det_im')\n",
    "    ax.set_xlabel('kz')\n",
    "    ax.set_ylabel('sz')\n",
    "    plt.show()"
   ]
  },
  {
   "cell_type": "markdown",
   "metadata": {},
   "source": [
    "Искомый волновой вектор можно найти графическим методом как точку пересечения двух нулевых изолиний на контурных графиках зависимости действительной и мнимой компонент детерминанта от действительной и мнимой компонент волнового вектора\n",
    "\n",
    "Get coordinates from a contour\n",
    "\n",
    "https://stackoverflow.com/questions/19418901/get-coordinates-from-a-contour"
   ]
  },
  {
   "cell_type": "code",
   "execution_count": 217,
   "metadata": {},
   "outputs": [
    {
     "data": {
      "image/png": "[encoded data removed]",
      "text/plain": [
       "<Figure size 432x288 with 1 Axes>"
      ]
     },
     "metadata": {
      "needs_background": "light"
     },
     "output_type": "display_data"
    }
   ],
   "source": [
    "# Get coordinates from a contour\n",
    "# https://stackoverflow.com/questions/19418901/get-coordinates-from-a-contour\n",
    "\n",
    "import matplotlib.pyplot as plt\n",
    "fig, ax=plt.subplots(1,1)\n",
    "cu = ax.contour(kz_grid,sz_grid, u)\n",
    "cv = ax.contour(kz_grid,sz_grid, v)\n",
    "plt.show()\n",
    "\n",
    "cu_index_of_zero_level=cu.levels.tolist().index(0.)\n",
    "cv_index_of_zero_level=cv.levels.tolist().index(0.)\n",
    "cu_zero_levels_number = len(cu.allsegs[cu_index_of_zero_level])\n",
    "cv_zero_levels_number = len(cv.allsegs[cv_index_of_zero_level])"
   ]
  },
  {
   "cell_type": "code",
   "execution_count": null,
   "metadata": {},
   "outputs": [],
   "source": [
    "k_z_graphic_solutions = []\n",
    "for i in range(0, cu_zero_levels_number):\n",
    "    for j in range(0, cv_zero_levels_number):\n",
    "        result = test_contour_line_intersection(M8_det_subs_k_z_d,\n",
    "                                                i, j, cu, cv,\n",
    "                                                cu_index_of_zero_level,\n",
    "                                                cv_index_of_zero_level)\n",
    "        if None == result:\n",
    "            continue\n",
    "            \n",
    "        for found in result:\n",
    "            print(\"found\", found)\n",
    "            xy_intercept = found\n",
    "        \n",
    "            k_z_graphic_solutions += [xy_intercept]"
   ]
  },
  {
   "cell_type": "code",
   "execution_count": 219,
   "metadata": {},
   "outputs": [
    {
     "data": {
      "text/plain": [
       "[(-0.004008436434623574, 0.0007628044974710563),\n",
       " (-0.004008436434620569, 0.0007628044972028479),\n",
       " (-0.004008436434631775, 0.0007628044982033321),\n",
       " (-0.004752458656614404, -0.0010370126238738973),\n",
       " (-0.00475245865661293, -0.0010370126238800677),\n",
       " (-0.004752458656614329, -0.0010370126238742118),\n",
       " (-0.00475245865661433, -0.001037012623874209),\n",
       " (-0.004752458656614331, -0.0010370126238742033),\n",
       " (-0.004752458656614084, -0.0010370126238752394),\n",
       " (-0.00475245865662212, -0.0010370126238415964),\n",
       " (-0.004752458656612674, -0.0010370126238811385),\n",
       " (-0.0047524586567002335, -0.001037012623514578),\n",
       " (-0.004752458656614205, -0.0010370126238747313),\n",
       " (-0.0047524586566236385, -0.0010370126238352384),\n",
       " (-0.004752458656574181, -0.001037012624042291),\n",
       " (-0.004752458656555782, -0.0010370126241193147),\n",
       " (0.0047524586566143265, 0.001037012623874546),\n",
       " (0.004752458656618977, 0.0010370126238550765),\n",
       " (0.004752458656613425, 0.0010370126238783178),\n",
       " (0.00475245865661419, 0.0010370126238751173),\n",
       " (0.004752458656610621, 0.0010370126238900585),\n",
       " (0.004752458656700231, 0.001037012623514915),\n",
       " (0.004752458656615745, 0.0010370126238686093),\n",
       " (0.004752458656574178, 0.001037012624042625),\n",
       " (0.004752458656555954, 0.0010370126241189186),\n",
       " (0.00475245865667574, 0.0010370126236174428),\n",
       " (0.004008436434620468, -0.0007628044971938907),\n",
       " (0.004008436434620567, -0.0007628044972026627),\n",
       " (0.00400843643462058, -0.0007628044972038323)]"
      ]
     },
     "execution_count": 219,
     "metadata": {},
     "output_type": "execute_result"
    }
   ],
   "source": [
    "k_z_graphic_solutions"
   ]
  },
  {
   "cell_type": "markdown",
   "metadata": {},
   "source": [
    "```\n",
    "знак перед корнем будем всегда выбирать так, чтобы корень имел положительнею мнимую часть (Зоммерфельд, Электродинамика, параграф 20, Б. Волновое поле и скин-эффект в полупространстве)\n",
    "```"
   ]
  },
  {
   "cell_type": "code",
   "execution_count": null,
   "metadata": {},
   "outputs": [],
   "source": [
    "max_abs_k_z_sol = 0\n",
    "for k_z_sol_i in k_z_graphic_solutions:\n",
    "    k_z_sol_i_kz = float(k_z_sol_i[0])\n",
    "    k_z_sol_i_sz = float(k_z_sol_i[1])\n",
    "    print(k_z_sol_i_kz, k_z_sol_i_sz)\n",
    "    # знак перед корнем будем всегда выбирать так, чтобы корень имел положительнею мнимую часть (Зоммерфельд, Электродинамика, параграф 20, Б)\n",
    "    # потому что нужно обеспечить затухание поля в проводнике\n",
    "    # E_right_conductor_sol_z (x) = B1_zr*exp(+I * K_right_conductor*(x-a))\n",
    "    # E_right_conductor_sol_x (x) = B1_xr*exp(+I * K_right_conductor*(x-a))\n",
    "    K_right = K_right_conductor_subs \\\n",
    "        .subs(kappa_vacuum_sol) \\\n",
    "        .subs(kappa_l_sol) \\\n",
    "        .subs(kappa_r_sol) \\\n",
    "        .subs(digit_values) \\\n",
    "        .subs(k_z == k_z_sol_i_kz + I * k_z_sol_i_sz)\n",
    "    #show(K_right)\n",
    "    show(K_right.lhs() == K_right.rhs().n())\n",
    "    #plot(E_right_conductor_sol_z (x).subs(K_right, a == A, B1_zr == 1+I).real(), x, 0, h_conductor).show()\n",
    "    \n",
    "    abs_k_z_sol = k_z_sol_i_kz^2 + k_z_sol_i_sz^2\n",
    "    print(\"abs_k_z_sol,\", abs_k_z_sol)\n",
    "    if max_abs_k_z_sol < abs_k_z_sol:\n",
    "        max_abs_k_z_sol = abs_k_z_sol\n",
    "        # выберем решение с максимальным модулем\n",
    "        # для того чтобы обеспечить лучшую сходимость итерационной процедуры\n",
    "\n",
    "        k_z_sol_kz = k_z_sol_i_kz \n",
    "        k_z_sol_sz = k_z_sol_i_sz "
   ]
  },
  {
   "cell_type": "code",
   "execution_count": 222,
   "metadata": {},
   "outputs": [
    {
     "data": {
      "text/plain": [
       "(0.004752458656700231, 0.001037012623514915)"
      ]
     },
     "execution_count": 222,
     "metadata": {},
     "output_type": "execute_result"
    }
   ],
   "source": [
    "k_z_sol_kz, k_z_sol_sz"
   ]
  },
  {
   "cell_type": "raw",
   "metadata": {},
   "source": [
    "if make_investigation_plots:\n",
    "    import numpy as np\n",
    "    for ikz in np.arange(0, len(kz_linspace), 1):\n",
    "        for isz in np.arange(0, len(sz_linspace), 1):\n",
    "            if np.isnan(u[isz][ikz]):\n",
    "                u[isz][ikz] = (u[isz + 1][ikz + 1] + u[isz - 1][ikz - 1] + u[isz - 1][ikz + 1] + u[isz + 1][ikz - 1])/4\n",
    "            if np.isnan(v[isz][ikz]):\n",
    "                v[isz][ikz] = (v[isz + 1][ikz + 1] + v[isz - 1][ikz - 1] + v[isz - 1][ikz + 1] + v[isz + 1][ikz - 1])/4"
   ]
  },
  {
   "cell_type": "code",
   "execution_count": 223,
   "metadata": {},
   "outputs": [
    {
     "data": {
      "image/png": "[encoded data removed]",
      "text/plain": [
       "<Figure size 432x288 with 1 Axes>"
      ]
     },
     "metadata": {
      "needs_background": "light"
     },
     "output_type": "display_data"
    }
   ],
   "source": [
    "if make_investigation_plots:\n",
    "    from mpl_toolkits import mplot3d\n",
    "    import numpy as np\n",
    "    import matplotlib.pyplot as plt\n",
    "    fig = plt.figure()\n",
    "\n",
    "    ax = plt.axes(projection='3d')\n",
    "    ax.set_xlabel('kz')\n",
    "    ax.set_ylabel('sz')\n",
    "    ax.plot_surface(kz_grid, sz_grid, u, cmap='viridis', edgecolor='none')\n",
    "    ax.set_title('M6_subs_det_re')\n",
    "    plt.show()"
   ]
  },
  {
   "cell_type": "code",
   "execution_count": 224,
   "metadata": {},
   "outputs": [
    {
     "data": {
      "image/png": "[encoded data removed]",
      "text/plain": [
       "<Figure size 432x288 with 1 Axes>"
      ]
     },
     "metadata": {
      "needs_background": "light"
     },
     "output_type": "display_data"
    }
   ],
   "source": [
    "if make_investigation_plots:\n",
    "    from mpl_toolkits import mplot3d\n",
    "    import numpy as np\n",
    "    import matplotlib.pyplot as plt\n",
    "    fig = plt.figure()\n",
    "\n",
    "    ax = plt.axes(projection='3d')\n",
    "    ax.set_xlabel('kz')\n",
    "    ax.set_ylabel('sz')\n",
    "    ax.plot_surface(kz_grid, sz_grid, v, cmap='viridis', edgecolor='none')\n",
    "    ax.set_title('M6_subs_det_im')\n",
    "    plt.show()"
   ]
  },
  {
   "cell_type": "code",
   "execution_count": 225,
   "metadata": {},
   "outputs": [
    {
     "data": {
      "text/plain": [
       "0.000994174890376517"
      ]
     },
     "execution_count": 225,
     "metadata": {},
     "output_type": "execute_result"
    }
   ],
   "source": [
    "#kz_init_a0_d = kz_init_a0[1].subs(digit_values).rhs()\n",
    "kz_init_a0_d = (omega/c).subs(digit_values)\n",
    "kz_init_a0_d"
   ]
  },
  {
   "cell_type": "code",
   "execution_count": null,
   "metadata": {},
   "outputs": [],
   "source": []
  },
  {
   "cell_type": "code",
   "execution_count": 226,
   "metadata": {},
   "outputs": [],
   "source": [
    "def NewtonIt(f_div_df, x, xn, step, re):\n",
    "    print(\"xn\", xn)\n",
    "    #print(\"df\", df)\n",
    "    #print(\"(f/df)\", f_div_df)\n",
    "\n",
    "    #delta = (f/df).subs(x == xn)\n",
    "    if True == re:\n",
    "        delta = f_div_df.subs(x == xn).n().real()\n",
    "    else:\n",
    "        delta = f_div_df.subs(x == xn).n().imag()\n",
    "        \n",
    "    print(\"delta\", delta)\n",
    "    #print(\"step\", step)\n",
    "    step_delta = step*delta\n",
    "    #print(\"step_delta\", step_delta)\n",
    "\n",
    "    res = xn-step_delta\n",
    "    #print (\"res\", res)\n",
    "    return res, delta\n",
    "\n",
    "def find_newton_root(f, f_div_df, x, xn):\n",
    "    #df = f.diff(x)\n",
    "    #print (\"f\", f)\n",
    "    #print (\"df\", df)\n",
    "    #print (\"f/df\", f/df)\n",
    "    step = 1.0\n",
    "\n",
    "    for i in range(20):\n",
    "        #xn=N(NewtonIt(xn, step), digits=32)\n",
    "        xn, delta = NewtonIt(f_div_df, x, xn, step)\n",
    "        #print (\"xn\", xn)\n",
    "        \n",
    "        f_n = f.subs(x == xn)\n",
    "        print (\"f_n\",f_n)\n",
    "        #step *= 0.999\n",
    "        if 0 == delta:\n",
    "            break\n",
    "\n",
    "    return xn"
   ]
  },
  {
   "cell_type": "code",
   "execution_count": null,
   "metadata": {},
   "outputs": [],
   "source": []
  },
  {
   "cell_type": "markdown",
   "metadata": {},
   "source": [
    "метод ньютона для комплексной функции от комплексного аргумента\n",
    "комплексная функция представляется в виде двух функций: ее действительной и мнимой частей\n",
    "также мы предварительно должны посчитать все четыре варианта первых производных: действительной компоненты функции от обоих компонент аргумента и также и для мнимой части\n",
    "\n",
    "на вход метода find_newton_complex_root() подается:\n",
    "\n",
    "- выражения для действительной и мнимой частей исследуемой комплексной функции\n",
    "\n",
    "- четыре выражения для отношения каждой компоненты комплексной функции к ее производной по каждой компоненте аргумента\n",
    "\n",
    "- символьное представление действительной и мнимой части аргумента\n",
    "\n",
    "- начальные значения действительной и мнимой части аргумента"
   ]
  },
  {
   "cell_type": "code",
   "execution_count": 227,
   "metadata": {},
   "outputs": [],
   "source": [
    "def find_newton_complex_root(f,\n",
    "                             f_div_df_re,\n",
    "                             f_div_df_im,\n",
    "                             xre, xim,\n",
    "                             xn_re, xn_im, nsteps = 100):\n",
    "    logging = False\n",
    "\n",
    "    if logging:\n",
    "        print (\"xre\", xre)\n",
    "        print (\"xim\", xim)\n",
    "        print (\"xn_re\", xn_re)\n",
    "        print (\"xn_im\", xn_im)\n",
    "        #print (\"f_div_df_re\", f_div_df_re)\n",
    "        #print (\"f_div_df_im\", f_div_df_im)\n",
    "    \n",
    "    step_init = 0.95\n",
    "    step_init_im_re = 0.95\n",
    "    step_init_re_im = 0.95\n",
    "\n",
    "    step_re_im = step_init_re_im\n",
    "    step_im_im = step_init\n",
    "    step_re_re = step_init\n",
    "    step_im_re = step_init_im_re\n",
    "    \n",
    "    step_m = 0.9\n",
    "    \n",
    "    delta_epsilon = 1e-32\n",
    "    \n",
    "    f_new = f.subs(xre == xn_re).subs(xim == xn_im).n()\n",
    "    if logging:\n",
    "        print(\"\\nf_new = \", f_new)\n",
    "\n",
    "    f_abs_2 = f.abs()^2\n",
    "\n",
    "    if logging:\n",
    "        print(\"\\nf_abs_2 = \", f_abs_2)\n",
    "            \n",
    "    for i in range(nsteps):\n",
    "        if logging:\n",
    "            print(\"\\nre_d_re xn = \", xn_re, xn_im, \"step = \", step_re_re)\n",
    "        \n",
    "        xn_re_new, delta_re_re = NewtonIt(f_div_df_re.subs(xim == xn_im), xre, xn_re, step_re_re, re=True)\n",
    "        f_new = f.subs(xre == xn_re_new).subs(xim == xn_im).n()\n",
    "        f_abs_2_new = f_new.abs()^2\n",
    "\n",
    "\n",
    "        if f_abs_2_new > f_abs_2:\n",
    "            step_re_re *= step_m\n",
    "        else:\n",
    "            xn_re = xn_re_new\n",
    "            f_abs_2 = f_abs_2_new\n",
    "            if step_re_re < step_init:\n",
    "                step_re_re /= step_m\n",
    "\n",
    "            print (\"f_new\", f_new)\n",
    "            print(\"f_abs_2_new\", f_abs_2_new)\n",
    "\n",
    "\n",
    "        xn_re_new, delta_im_re = NewtonIt(f_div_df_re.subs(xim == xn_im), xre, xn_re, step_im_re, re=False)\n",
    "        f_new = f.subs(xre == xn_re_new).subs(xim == xn_im).n()\n",
    "        f_abs_2_new = f_new.abs()^2\n",
    "\n",
    "        if f_abs_2_new > f_abs_2:\n",
    "            step_im_re *= step_m\n",
    "        else:\n",
    "            xn_re = xn_re_new\n",
    "            f_abs_2 = f_abs_2_new\n",
    "            if step_im_re < step_init_im_re:\n",
    "                step_im_re /= step_m\n",
    "\n",
    "            print (\"f_new\",f_new)\n",
    "            print(\"\\nim_d_re xn = \", xn_re, xn_im, \"step = \", step_im_re)\n",
    "\n",
    "        if logging:\n",
    "            print(\"\\nre_d_im xn = \", xn_re, xn_im, \"step = \", step_re_im)\n",
    "\n",
    "        xn_im_new, delta_re_im = NewtonIt(f_div_df_im.subs(xre == xn_re), xim, xn_im, step_re_im, re=True)\n",
    "        f_new = f.subs(xre == xn_re).subs(xim == xn_im_new).n()\n",
    "        f_abs_2_new = f_new.abs()^2\n",
    "\n",
    "\n",
    "        if f_abs_2_new > f_abs_2:\n",
    "            step_re_im *= step_m\n",
    "        else:\n",
    "            xn_im = xn_im_new\n",
    "            f_abs_2 = f_abs_2_new\n",
    "            if step_re_im < step_init_re_im:\n",
    "                step_re_im /= step_m\n",
    "\n",
    "            print (\"f_new\",f_new)\n",
    "            print(\"f_abs_2_new\", f_abs_2_new)\n",
    "\n",
    "        if logging:\n",
    "            print(\"\\nim_d_im xn = \", xn_re, xn_im, \"step = \", step_im_im)\n",
    "\n",
    "        xn_im_new, delta_im_im = NewtonIt(f_div_df_im.subs(xre == xn_re), xim, xn_im, step_im_im, re=False)\n",
    "        f_new = f.subs(xre == xn_re).subs(xim == xn_im_new).n()\n",
    "        f_abs_2_new = f_new.abs()^2\n",
    "\n",
    "        if f_abs_2_new > f_abs_2:\n",
    "            step_im_im *= step_m\n",
    "        else:\n",
    "            xn_im = xn_im_new\n",
    "            f_abs_2 = f_abs_2_new\n",
    "            if step_im_im < step_init:\n",
    "                step_im_im /= step_m\n",
    "\n",
    "            print (\"f_new\", f_new)\n",
    "            print(\"f_abs_2_new\", f_abs_2_new)\n",
    "\n",
    "        if abs(delta_re_re) < delta_epsilon and \\\n",
    "           abs(delta_re_im) < delta_epsilon and \\\n",
    "           abs(delta_im_re) < delta_epsilon and \\\n",
    "           abs(delta_im_im) < delta_epsilon:\n",
    "            print(\"algorithm finished via delta_epsilon\",\n",
    "                  delta_re_re,\n",
    "                  delta_re_im,\n",
    "                  delta_im_re,\n",
    "                  delta_im_im\n",
    "                 )\n",
    "            break\n",
    "\n",
    "    return xn_re, xn_im, f_new"
   ]
  },
  {
   "cell_type": "code",
   "execution_count": 228,
   "metadata": {},
   "outputs": [],
   "source": [
    "class newton_prec():\n",
    "    def __init__(self, M_det_kz_sz, xn_re, xn_im):\n",
    "        self.xn_re = xn_re\n",
    "        self.xn_im = xn_im\n",
    "        # выражения для действительной и мнимой частей исследуемой комплексной функции\n",
    "        self.M_det = M_det_kz_sz\n",
    "        self.M_det_d = self.M_det.subs(digit_values)\n",
    "\n",
    "        # четыре выражения для производной комплексной функции по каждой компоненте аргумента\n",
    "        self.M_det_diff_kz = self.M_det.diff(kz)\n",
    "        self.M_det_diff_sz = self.M_det.diff(sz)\n",
    "\n",
    "        # четыре выражения для отношения каждой компоненты комплексной функции к ее производной по каждой компоненте аргумента\n",
    "        self.M_det_div_diff_kz = (self.M_det / self.M_det_diff_kz)\n",
    "        self.M_det_div_diff_sz = (self.M_det / self.M_det_diff_sz)\n",
    "\n",
    "        self.M_det_div_diff_kz_d = self.M_det_div_diff_kz.subs(digit_values)\n",
    "        self.M_det_div_diff_sz_d = self.M_det_div_diff_sz.subs(digit_values)\n",
    "\n",
    "    # инициализируем метод ньютона значениями найденными графическим методом\n",
    "    def prec_root(self, nsteps = 100):\n",
    "        self.k_z_root = find_newton_complex_root(\n",
    "            self.M_det_d,\n",
    "            self.M_det_div_diff_kz_d,\n",
    "            self.M_det_div_diff_sz_d,\n",
    "            xre = kz, xim = sz,\n",
    "            xn_re = self.xn_re, xn_im = self.xn_im, nsteps = nsteps)\n",
    "        self.xn_re = self.k_z_root[0]\n",
    "        self.xn_im = self.k_z_root[1]\n",
    "\n",
    "        return self.k_z_root\n",
    "    \n",
    "    def get_root():\n",
    "        return self.k_z_root"
   ]
  },
  {
   "cell_type": "code",
   "execution_count": 229,
   "metadata": {},
   "outputs": [
    {
     "data": {
      "text/plain": [
       "(0.004752458656700231, 0.001037012623514915)"
      ]
     },
     "execution_count": 229,
     "metadata": {},
     "output_type": "execute_result"
    }
   ],
   "source": [
    "k_z_sol_kz, k_z_sol_sz"
   ]
  },
  {
   "cell_type": "markdown",
   "metadata": {},
   "source": [
    "инициализируем метод ньютона значениями найденными графическим методом"
   ]
  },
  {
   "cell_type": "code",
   "execution_count": 230,
   "metadata": {},
   "outputs": [],
   "source": [
    "use_newton_prec = True"
   ]
  },
  {
   "cell_type": "code",
   "execution_count": 232,
   "metadata": {},
   "outputs": [],
   "source": [
    "if use_newton_prec:\n",
    "    my_newton_prec = newton_prec(M_det_kz_sz = M8_det_subs_k_z_d, xn_re = k_z_sol_kz, xn_im = k_z_sol_sz)"
   ]
  },
  {
   "cell_type": "code",
   "execution_count": null,
   "metadata": {},
   "outputs": [
    {
     "name": "stdout",
     "output_type": "stream",
     "text": [
      "xn 0.004752458656700231\n",
      "delta 0.00116270279502009\n",
      "xn 0.00364789100143114\n",
      "delta 0.000268913695155387\n",
      "xn 0.001037012623514915\n",
      "delta 0.000270438450939796\n",
      "xn 0.000780096095122109\n",
      "delta -0.000812133090667069\n",
      "f_new -2.21293948841184e23 - 4.51958070215668e22*I\n",
      "f_abs_2_new 5.10136727660554e46\n",
      "xn 0.00339242299103353\n",
      "delta 0.000812133090668572\n",
      "xn 0.00262089655489838\n",
      "delta 0.000210256410918972\n",
      "xn 0.000780096095122109\n",
      "delta 0.000213064791306456\n",
      "xn 0.000577684543380976\n",
      "delta -0.000553517326307575\n",
      "f_new -5.29580761430308e22 - 9.73132415171482e21*I\n",
      "f_abs_2_new 2.89925649851679e45\n",
      "xn 0.00242115296452536\n",
      "delta 0.000553517326306458\n",
      "xn 0.00189531150453422\n",
      "delta 0.000169614681602847\n",
      "xn 0.000577684543380976\n",
      "delta 0.000175499396778589\n",
      "xn 0.000410960116441316\n",
      "delta -0.000356617802404770\n",
      "f_new -1.18410655057269e22 - 2.10163263019266e21*I\n",
      "f_abs_2_new 1.44627692023206e44\n",
      "xn 0.00173417755701152\n",
      "delta 0.000356617802403706\n",
      "xn 0.00139539064472800\n",
      "delta 0.000147288073632791\n",
      "xn 0.000410960116441316\n",
      "delta 0.000162581551446006\n",
      "xn 0.000256507642567611\n",
      "delta -0.000189688146285954\n",
      "f_new -2.20302469451396e21 - 3.99667634027898e20*I\n",
      "f_abs_2_new 5.01305202232780e42\n",
      "xn 0.00125546697477685\n",
      "delta 0.000189688146288935\n",
      "xn 0.00107526323580236\n",
      "delta 0.000146572029809201\n",
      "xn 0.000256507642567611\n",
      "delta 0.000202710447642352\n",
      "xn 0.0000639327173073767\n",
      "delta 0.0000542946689160559\n",
      "f_new -4.70357390448208e19 - 1.29637418785239e20*I\n",
      "f_abs_2_new 1.90182210967918e40\n",
      "xn 0.000936019807483618\n",
      "delta -0.0000682987141384453\n",
      "xn 0.00100090358591514\n",
      "delta 0.0000269409192518900\n",
      "xn 0.0000300911216453436\n",
      "delta 0.0000269409192507304\n",
      "xn 4.49724835714974e-6\n",
      "delta -4.30061278548527e-6\n",
      "f_new -1.26515153845028e19 + 1.03535607679069e19*I\n",
      "f_abs_2_new 2.67257062099052e38\n",
      "xn 0.00100090358591514\n",
      "delta 4.30061278896597e-6\n",
      "xn 0.000996818003765623\n",
      "delta 2.10803188855156e-6\n",
      "xn 4.49724835714974e-6\n",
      "delta 2.10803188867575e-6\n",
      "xn 2.49461806290778e-6\n",
      "delta -2.50799994909121e-7\n",
      "f_new -6.44802410008619e17 + 6.02212582670288e17*I\n",
      "f_abs_2_new 7.78430142679342e35\n",
      "xn 0.000996818003765623\n",
      "delta 2.50799990532017e-7\n",
      "xn 0.000996579743774618\n",
      "delta 1.08155089885497e-7\n",
      "xn 2.49461806290778e-6\n",
      "delta 1.08155089894572e-7\n",
      "xn 2.39187072750794e-6\n",
      "delta -1.26685466741096e-8\n",
      "f_new -3.05040081824420e16 + 3.04212691192207e16*I\n",
      "f_abs_2_new 1.85594813001854e33\n",
      "xn 0.000996579743774618\n",
      "delta 1.26685410440035e-8\n",
      "xn 0.000996567708660626\n",
      "delta 5.41469174701432e-9\n",
      "xn 2.39187072750794e-6\n",
      "delta 5.41469176523985e-9\n",
      "xn 2.38672677033096e-6\n",
      "delta -6.33751023840522e-10\n",
      "f_new -1.43961515100935e15 + 1.52245454726333e15*I\n",
      "f_abs_2_new 4.39035963149849e30\n",
      "xn 0.000996567708660626\n",
      "delta 6.33743499410156e-10\n",
      "xn 0.000996567106604301\n",
      "delta 2.70751982804759e-10\n",
      "xn 2.38672677033096e-6\n",
      "delta 2.70752014747750e-10\n",
      "xn 2.38646955591695e-6\n",
      "delta -3.17065870232668e-11\n",
      "f_new -6.81325974088131e13 + 7.62003676717509e13*I\n",
      "f_abs_2_new 1.04485468629814e28\n",
      "xn 0.000996567106604301\n",
      "delta 3.17019046929427e-11\n",
      "xn 0.000996567076487492\n",
      "delta 1.35375858435100e-11\n",
      "xn 2.38646955591695e-6\n",
      "delta 1.35376039493639e-11\n",
      "xn 2.38645669519320e-6\n",
      "delta -1.58705739508820e-12\n",
      "f_new -3.23401428375823e12 + 3.81278824014153e12*I\n",
      "f_abs_2_new 2.49962025517138e25\n",
      "xn 0.000996567076487492\n",
      "delta 1.58947766258689e-12\n",
      "xn 0.000996567074977488\n",
      "delta 6.76864016862386e-13\n",
      "xn 2.38645669519320e-6\n",
      "delta 6.76818622876171e-13\n",
      "xn 2.38645605221551e-6\n",
      "delta -7.55972468582863e-14\n",
      "f_new -1.50534491094842e11 + 1.70068263008170e11*I\n",
      "f_abs_2_new 5.15838470917992e22\n",
      "xn 0.000996567074977488\n",
      "delta 8.31415340381529e-14\n",
      "xn 0.000996567074898504\n",
      "delta 3.37960473978166e-14\n",
      "xn 2.38645605221551e-6\n",
      "delta 3.38647972338237e-14\n",
      "xn 2.38645602004395e-6\n",
      "delta 7.12815668925856e-15\n",
      "f_new 1.61036479999999e9 + 5.24195136000000e9*I\n",
      "f_abs_2_new 3.00713288496848e19\n",
      "xn 0.000996567074898504\n",
      "delta -1.28186244757681e-15\n",
      "xn 0.000996567074898504\n",
      "delta -6.73301756200760e-16\n",
      "xn 2.38645601768279e-6\n",
      "delta -6.86159597208328e-16\n",
      "xn 2.38645601768279e-6\n",
      "delta 2.04107116325667e-15\n",
      "f_new 3.52715264000000e9 - 6.71944422400000e9*I\n",
      "f_abs_2_new 5.75917364253059e19\n",
      "xn 0.000996567074898779\n",
      "delta 1.59695712181856e-15\n",
      "xn 0.000996567074898779\n",
      "delta -6.43480186783417e-16\n",
      "xn 2.38645601768279e-6\n",
      "delta -6.86159597208328e-16\n",
      "xn 2.38645601768279e-6\n",
      "delta 2.04107116325667e-15\n",
      "f_new 3.17299475102444e9 + 3.87075649212728e9*I\n",
      "f_abs_2_new 2.50506515113742e19\n",
      "xn 0.000996567074898779\n",
      "delta -2.78849324695997e-15\n",
      "xn 0.000996567074898779\n",
      "delta -1.35529762959013e-15\n",
      "xn 2.38645601700669e-6\n",
      "delta -1.32343535838236e-15\n",
      "xn 2.38645601802508e-6\n",
      "delta 1.20698990734770e-15\n",
      "f_new 1.94139225599999e9 - 6.71180032000000e9*I\n",
      "f_abs_2_new 4.88172674272089e19\n",
      "xn 0.000996567074898779\n",
      "delta -3.91301968333894e-15\n",
      "xn 0.000996567074898779\n",
      "delta -3.06243762309391e-16\n",
      "xn 2.38645601802508e-6\n",
      "delta -3.51558911195009e-16\n",
      "xn 2.38645601802508e-6\n",
      "delta 1.20698990734770e-15\n",
      "f_new 1.69279196214554e9 + 1.44645639393076e10*I\n",
      "f_abs_2_new 2.12089154581421e20\n",
      "xn 0.000996567074898779\n",
      "delta -3.91301968333894e-15\n",
      "xn 0.000996567074898779\n",
      "delta -3.06243762309391e-16\n",
      "xn 2.38645601802508e-6\n",
      "delta -2.76696425224280e-16\n",
      "xn 2.38645601802508e-6\n",
      "delta 8.82937689865656e-16\n",
      "f_new 1.47142512267134e9 - 4.64988479597290e9*I\n",
      "f_abs_2_new 2.37865205074483e19\n",
      "xn 0.000996567074898881\n",
      "delta -5.42168459506743e-15\n",
      "xn 0.000996567074898881\n",
      "delta -2.65951139933306e-16\n",
      "xn 2.38645601802508e-6\n",
      "delta -2.76696425224280e-16\n",
      "xn 2.38645601821670e-6\n",
      "delta -4.27981078458227e-16\n",
      "f_new 5.53603585324821e7 - 1.72948348517748e10*I\n",
      "f_abs_2_new 2.99114377319463e20\n",
      "xn 0.000996567074898881\n",
      "delta 1.15857034510988e-16\n",
      "xn 0.000996567074898881\n",
      "delta -1.50431575759468e-16\n",
      "xn 2.38645601821670e-6\n",
      "delta -1.59090857901235e-16\n",
      "xn 2.38645601821670e-6\n",
      "delta -4.27981078458227e-16\n",
      "f_new 1.28855221606133e8 + 3.88308869681445e9*I\n",
      "f_abs_2_new 1.50949814954633e19\n",
      "xn 0.000996567074898881\n",
      "delta 1.15857034510988e-16\n",
      "xn 0.000996567074898881\n",
      "delta -1.50431575759468e-16\n",
      "xn 2.38645601821670e-6\n",
      "delta -1.59090857901235e-16\n",
      "xn 2.38645601821670e-6\n",
      "delta -4.27981078458227e-16\n",
      "f_new 4.83796479999937e7 - 1.72923837440000e10*I\n",
      "f_abs_2_new 2.99028876140096e20\n",
      "xn 0.000996567074898881\n",
      "delta 1.15857034510988e-16\n",
      "xn 0.000996567074898881\n",
      "delta -1.50431575759468e-16\n",
      "xn 2.38645601821670e-6\n",
      "delta -1.59090857901235e-16\n",
      "xn 2.38645601821670e-6\n",
      "delta -4.27981078458227e-16\n",
      "f_new 1.34763391999994e8 + 3.14799359999997e8*I\n",
      "f_abs_2_new 1.17259808879752e17\n",
      "xn 0.000996567074898881\n",
      "delta 8.03344651601468e-16\n",
      "xn 0.000996567074898881\n",
      "delta -6.04400851038621e-17\n",
      "xn 2.38645601830041e-6\n",
      "delta -5.66556832544308e-17\n",
      "xn 2.38645601830041e-6\n",
      "delta -1.29759729896258e-16\n",
      "f_new 2.68272640000000e7 + 1.24281575680000e10*I\n",
      "f_abs_2_new 1.54459820237129e20\n",
      "xn 0.000996567074898881\n",
      "delta 8.03344651601468e-16\n",
      "xn 0.000996567074898881\n",
      "delta -6.04400851038621e-17\n",
      "xn 2.38645601830041e-6\n",
      "delta -5.66556832544308e-17\n",
      "xn 2.38645601830041e-6\n",
      "delta -1.29759729896258e-16\n",
      "f_new 4.91336226325066e7 + 3.88159621193858e9*I\n",
      "f_abs_2_new 1.50692032654089e19\n",
      "xn 0.000996567074898881\n",
      "delta 8.03344651601468e-16\n",
      "xn 0.000996567074898881\n",
      "delta -6.04400851038621e-17\n",
      "xn 2.38645601830041e-6\n",
      "delta -5.66556832544308e-17\n",
      "xn 2.38645601830041e-6\n",
      "delta -1.29759729896258e-16\n",
      "f_new 1.31056823009452e8 - 2.37597068220849e10*I\n",
      "f_abs_2_new 5.64540844162283e20\n",
      "xn 0.000996567074898881\n",
      "delta 8.03344651601468e-16\n",
      "xn 0.000996567074898881\n",
      "delta -6.04400851038621e-17\n",
      "xn 2.38645601830041e-6\n",
      "delta -5.66556832544308e-17\n",
      "xn 2.38645601830041e-6\n",
      "delta -1.29759729896258e-16\n",
      "f_new 8.98350080000000e7 - 4.24765145600000e9*I\n",
      "f_abs_2_new 1.80506132203213e19\n",
      "xn 0.000996567074898881\n",
      "delta 8.03344651601468e-16\n",
      "xn 0.000996567074898881\n",
      "delta -6.04400851038621e-17\n",
      "xn 2.38645601830041e-6\n",
      "delta -5.66556832544308e-17\n",
      "xn 2.38645601830041e-6\n",
      "delta -1.29759729896258e-16\n",
      "f_new 9.00170802545776e7 - 5.54027872523438e9*I\n",
      "f_abs_2_new 3.07027914280222e19\n",
      "xn 0.000996567074898881\n",
      "delta 8.03344651601468e-16\n",
      "xn 0.000996567074898881\n",
      "delta -6.04400851038621e-17\n",
      "xn 2.38645601830041e-6\n",
      "delta -5.66556832544308e-17\n",
      "xn 2.38645601830041e-6\n",
      "delta -1.29759729896258e-16\n",
      "f_new 1.30262143999994e8 - 1.72935128320000e10*I\n",
      "f_abs_2_new 2.99082554296708e20\n",
      "xn 0.000996567074898881\n",
      "delta 8.03344651601468e-16\n",
      "xn 0.000996567074898881\n",
      "delta -6.04400851038621e-17\n",
      "xn 2.38645601830041e-6\n",
      "delta -5.66556832544308e-17\n",
      "xn 2.38645601830041e-6\n",
      "delta -1.29759729896258e-16\n"
     ]
    },
    {
     "name": "stdout",
     "output_type": "stream",
     "text": [
      "f_new 4.87215359999937e7 - 1.72947930880000e10*I\n",
      "f_abs_2_new 2.99112241744803e20\n",
      "xn 0.000996567074898881\n",
      "delta 8.03344651601468e-16\n",
      "xn 0.000996567074898881\n",
      "delta -6.04400851038621e-17\n",
      "xn 2.38645601830041e-6\n",
      "delta -5.66556832544308e-17\n",
      "xn 2.38645601830041e-6\n",
      "delta -1.29759729896258e-16\n",
      "f_new 5.92333347877731e7 - 1.72957497068477e10*I\n",
      "f_abs_2_new 2.99146466509871e20\n",
      "xn 0.000996567074898881\n",
      "delta 8.03344651601468e-16\n",
      "xn 0.000996567074898881\n",
      "delta -6.04400851038621e-17\n",
      "xn 2.38645601830041e-6\n",
      "delta -5.66556832544308e-17\n",
      "xn 2.38645601830041e-6\n",
      "delta -1.29759729896258e-16\n",
      "f_new 4.94528670508003e7 + 5.85822013037642e9*I\n",
      "f_abs_2_new 3.43211886820071e19\n",
      "xn 0.000996567074898881\n",
      "delta 8.03344651601468e-16\n",
      "xn 0.000996567074898881\n",
      "delta -6.04400851038621e-17\n",
      "xn 2.38645601830041e-6\n",
      "delta -5.66556832544308e-17\n",
      "xn 2.38645601830041e-6\n",
      "delta -1.29759729896258e-16\n",
      "f_new 1.40247040000000e8 - 2.78812177920000e10*I\n",
      "f_abs_2_new 7.77381974797166e20\n",
      "xn 0.000996567074898881\n",
      "delta 8.03344651601468e-16\n",
      "xn 0.000996567074898881\n",
      "delta -6.04400851038621e-17\n",
      "xn 2.38645601830041e-6\n",
      "delta -5.66556832544308e-17\n",
      "xn 2.38645601830041e-6\n",
      "delta -1.29759729896258e-16\n",
      "f_new 1.32849152000000e8 - 1.72933824000000e10*I\n",
      "f_abs_2_new 2.99078723729817e20\n",
      "xn 0.000996567074898881\n",
      "delta 8.03344651601468e-16\n",
      "xn 0.000996567074898881\n",
      "delta -6.04400851038621e-17\n",
      "xn 2.38645601830041e-6\n",
      "delta -5.66556832544308e-17\n",
      "xn 2.38645601830041e-6\n",
      "delta -1.29759729896258e-16\n",
      "f_new 1.31916518532482e8 - 1.27830150362964e10*I\n",
      "f_abs_2_new 1.63422875386042e20\n",
      "xn 0.000996567074898881\n",
      "delta 8.03344651601468e-16\n",
      "xn 0.000996567074898881\n",
      "delta -6.04400851038621e-17\n",
      "xn 2.38645601830041e-6\n",
      "delta -5.66556832544308e-17\n",
      "xn 2.38645601830041e-6\n",
      "delta -1.29759729896258e-16\n",
      "f_new 1.28461056000000e8 - 1.72924919040000e10*I\n",
      "f_abs_2_new 2.99046778492814e20\n",
      "xn 0.000996567074898881\n",
      "delta 8.03344651601468e-16\n",
      "xn 0.000996567074898881\n",
      "delta -6.04400851038621e-17\n",
      "xn 2.38645601830041e-6\n",
      "delta -5.66556832544308e-17\n",
      "xn 2.38645601830041e-6\n",
      "delta -1.29759729896258e-16\n",
      "f_new 1.31416501406921e8 - 1.16945772273622e10*I\n",
      "f_abs_2_new 1.36780406823581e20\n",
      "xn 0.000996567074898881\n",
      "delta 8.03344651601468e-16\n",
      "xn 0.000996567074898881\n",
      "delta -6.04400851038621e-17\n",
      "xn 2.38645601830041e-6\n",
      "delta -5.66556832544308e-17\n",
      "xn 2.38645601830041e-6\n",
      "delta -1.29759729896258e-16\n",
      "f_new 4.65633436612587e7 - 1.72943201679347e10*I\n",
      "f_abs_2_new 2.99095678216004e20\n",
      "xn 0.000996567074898881\n",
      "delta 8.03344651601468e-16\n",
      "xn 0.000996567074898881\n",
      "delta -6.04400851038621e-17\n",
      "xn 2.38645601830041e-6\n",
      "delta -5.66556832544308e-17\n",
      "xn 2.38645601830041e-6\n",
      "delta -1.29759729896258e-16\n",
      "f_new 2.12614582633483e8 - 2.04194131912197e9*I\n",
      "f_abs_2_new 4.21472931148599e18\n",
      "xn 0.000996567074898881\n",
      "delta 8.03344651601468e-16\n",
      "xn 0.000996567074898881\n",
      "delta -6.04400851038621e-17\n",
      "xn 2.38645601830041e-6\n",
      "delta -5.66556832544308e-17\n",
      "xn 2.38645601830041e-6\n",
      "delta -1.29759729896258e-16\n",
      "f_new 1.29823744000000e8 - 1.72943248640000e10*I\n",
      "f_abs_2_new 2.99110526706075e20\n",
      "xn 0.000996567074898881\n",
      "delta 8.03344651601468e-16\n",
      "xn 0.000996567074898881\n",
      "delta -6.04400851038621e-17\n",
      "xn 2.38645601830041e-6\n",
      "delta -5.66556832544308e-17\n",
      "xn 2.38645601830041e-6\n",
      "delta -1.29759729896258e-16\n",
      "f_new 2.13284921913418e8 + 3.88182393879268e9*I\n",
      "f_abs_2_new 1.51140475496996e19\n",
      "xn 0.000996567074898881\n",
      "delta 8.03344651601468e-16\n",
      "xn 0.000996567074898881\n",
      "delta -6.04400851038621e-17\n",
      "xn 2.38645601830041e-6\n",
      "delta -5.66556832544308e-17\n",
      "xn 2.38645601830041e-6\n",
      "delta -1.29759729896258e-16\n",
      "f_new -1.58842880000000e7 + 1.44719552000000e10*I\n",
      "f_abs_2_new 2.09437739621412e20\n",
      "xn 0.000996567074898881\n",
      "delta 8.03344651601468e-16\n",
      "xn 0.000996567074898881\n",
      "delta -6.04400851038621e-17\n",
      "xn 2.38645601830041e-6\n",
      "delta -5.66556832544308e-17\n",
      "xn 2.38645601830041e-6\n",
      "delta -1.29759729896258e-16\n",
      "f_new 1.00266111999994e8 + 1.07327964160000e10*I\n",
      "f_abs_2_new 1.15202972200518e20\n",
      "xn 0.000996567074898881\n",
      "delta 8.03344651601468e-16\n",
      "xn 0.000996567074898881\n",
      "delta -6.04400851038621e-17\n",
      "xn 2.38645601830041e-6\n",
      "delta -5.66556832544308e-17\n",
      "xn 2.38645601830041e-6\n",
      "delta -1.29759729896258e-16\n",
      "f_new 8.96674560000000e7 + 4.11391065600000e9*I\n",
      "f_abs_2_new 1.69323011382159e19\n",
      "xn 0.000996567074898881\n",
      "delta 8.03344651601468e-16\n",
      "xn 0.000996567074898881\n",
      "delta -6.04400851038621e-17\n",
      "xn 2.38645601830041e-6\n",
      "delta -5.66556832544308e-17\n",
      "xn 2.38645601830041e-6\n",
      "delta -1.29759729896258e-16\n",
      "f_new 8.22783999999937e7 - 6.70625241600000e9*I\n",
      "f_abs_2_new 4.49805912022124e19\n",
      "xn 0.000996567074898881\n",
      "delta 8.03344651601468e-16\n",
      "xn 0.000996567074898881\n",
      "delta -6.04400851038621e-17\n",
      "xn 2.38645601830041e-6\n",
      "delta -5.66556832544308e-17\n",
      "xn 2.38645601830041e-6\n",
      "delta -1.29759729896258e-16\n",
      "f_new 8.68023568580925e7 - 3.56368327539346e9*I\n",
      "f_abs_2_new 1.27073731364751e19\n",
      "xn 0.000996567074898881\n",
      "delta 8.03344651601468e-16\n",
      "xn 0.000996567074898881\n",
      "delta -6.04400851038621e-17\n",
      "xn 2.38645601830041e-6\n",
      "delta -5.66556832544308e-17\n",
      "xn 2.38645601830041e-6\n",
      "delta -1.29759729896258e-16\n",
      "f_new 9.20720580137253e7 + 9.51408076760547e9*I\n",
      "f_abs_2_new 9.05262101163872e19\n",
      "xn 0.000996567074898881\n",
      "delta 8.03344651601468e-16\n",
      "xn 0.000996567074898881\n",
      "delta -6.04400851038621e-17\n",
      "xn 2.38645601830041e-6\n",
      "delta -5.66556832544308e-17\n",
      "xn 2.38645601830041e-6\n",
      "delta -1.29759729896258e-16\n",
      "f_new 4.73102249422600e7 + 3.88291998324912e9*I\n",
      "f_abs_2_new 1.50793058536995e19\n",
      "xn 0.000996567074898881\n",
      "delta 8.03344651601468e-16\n",
      "xn 0.000996567074898881\n",
      "delta -6.04400851038621e-17\n",
      "xn 2.38645601830041e-6\n",
      "delta -5.66556832544308e-17\n",
      "xn 2.38645601830041e-6\n",
      "delta -1.29759729896258e-16\n",
      "f_new 1.28506124314560e8 + 2.50598660533981e10*I\n",
      "f_abs_2_new 6.28013400438242e20\n",
      "xn 0.000996567074898881\n",
      "delta 8.03344651601468e-16\n",
      "xn 0.000996567074898881\n",
      "delta -6.04400851038621e-17\n",
      "xn 2.38645601830041e-6\n",
      "delta -5.66556832544308e-17\n",
      "xn 2.38645601830041e-6\n",
      "delta -1.29759729896258e-16\n",
      "f_new 2.11977142536804e8 - 1.72929298616836e10*I\n",
      "f_abs_2_new 2.99090357510066e20\n",
      "xn 0.000996567074898881\n",
      "delta 8.03344651601468e-16\n",
      "xn 0.000996567074898881\n",
      "delta -6.04400851038621e-17\n",
      "xn 2.38645601830041e-6\n",
      "delta -5.66556832544308e-17\n",
      "xn 2.38645601830041e-6\n",
      "delta -1.29759729896258e-16\n",
      "f_new 1.29567516316128e8 + 9.91559984401510e9*I\n",
      "f_abs_2_new 9.83359080079166e19\n",
      "xn 0.000996567074898881\n",
      "delta 8.03344651601468e-16\n",
      "xn 0.000996567074898881\n",
      "delta -6.04400851038621e-17\n",
      "xn 2.38645601830041e-6\n",
      "delta -5.66556832544308e-17\n",
      "xn 2.38645601830041e-6\n",
      "delta -1.29759729896258e-16\n",
      "f_new 1.29929267508461e8 + 7.08037143807227e9*I\n",
      "f_abs_2_new 5.01485413156248e19\n",
      "xn 0.000996567074898881\n",
      "delta 8.03344651601468e-16\n",
      "xn 0.000996567074898881\n",
      "delta -6.04400851038621e-17\n",
      "xn 2.38645601830041e-6\n",
      "delta -5.66556832544308e-17\n",
      "xn 2.38645601830041e-6\n",
      "delta -1.29759729896258e-16\n",
      "f_new 1.65513248540459e8 - 6.70588336313086e9*I\n",
      "f_abs_2_new 4.49962663153577e19\n",
      "xn 0.000996567074898881\n",
      "delta 8.03344651601468e-16\n",
      "xn 0.000996567074898881\n",
      "delta -6.04400851038621e-17\n",
      "xn 2.38645601830041e-6\n",
      "delta -5.66556832544308e-17\n",
      "xn 2.38645601830041e-6\n",
      "delta -1.29759729896258e-16\n",
      "f_new 8.78660361637490e7 + 1.44698079264073e10*I\n",
      "f_abs_2_new 2.09383061867431e20\n",
      "xn 0.000996567074898881\n",
      "delta 8.03344651601468e-16\n",
      "xn 0.000996567074898881\n",
      "delta -6.04400851038621e-17\n",
      "xn 2.38645601830041e-6\n",
      "delta -5.66556832544308e-17\n",
      "xn 2.38645601830041e-6\n",
      "delta -1.29759729896258e-16\n",
      "f_new 8.92347028040314e7 + 1.04484356318047e10*I\n",
      "f_abs_2_new 1.09177769984150e20\n",
      "xn 0.000996567074898881\n",
      "delta 8.03344651601468e-16\n",
      "xn 0.000996567074898881\n",
      "delta -6.04400851038621e-17\n",
      "xn 2.38645601830041e-6\n",
      "delta -5.66556832544308e-17\n",
      "xn 2.38645601830041e-6\n",
      "delta -1.29759729896258e-16\n",
      "f_new 1.32572686010899e8 + 1.17625792370357e9*I\n",
      "f_abs_2_new 1.40115822015158e18\n",
      "xn 0.000996567074898881\n",
      "delta 8.03344651601468e-16\n",
      "xn 0.000996567074898881\n",
      "delta -6.04400851038621e-17\n",
      "xn 2.38645601830041e-6\n",
      "delta -5.66556832544308e-17\n",
      "xn 2.38645601830041e-6\n",
      "delta -1.29759729896258e-16\n",
      "f_new 1.32005504000000e8 - 3.22084582400000e9*I\n",
      "f_abs_2_new 1.03912732750645e19\n",
      "xn 0.000996567074898881\n",
      "delta 8.03344651601468e-16\n",
      "xn 0.000996567074898881\n",
      "delta -6.04400851038621e-17\n",
      "xn 2.38645601830041e-6\n",
      "delta -5.66556832544308e-17\n",
      "xn 2.38645601830041e-6\n",
      "delta -1.29759729896258e-16\n",
      "f_new 1.30237823999994e8 + 9.25047667200000e9*I\n",
      "f_abs_2_new 8.55882805500164e19\n",
      "xn 0.000996567074898881\n",
      "delta 8.03344651601468e-16\n",
      "xn 0.000996567074898881\n",
      "delta -6.04400851038621e-17\n",
      "xn 2.38645601830041e-6\n"
     ]
    },
    {
     "name": "stdout",
     "output_type": "stream",
     "text": [
      "delta -5.66556832544308e-17\n",
      "xn 2.38645601830041e-6\n",
      "delta -1.29759729896258e-16\n",
      "f_new 1.73566976000000e8 - 1.09541244160000e10*I\n",
      "f_abs_2_new 1.20022967216365e20\n",
      "xn 0.000996567074898881\n",
      "delta 8.03344651601468e-16\n",
      "xn 0.000996567074898881\n",
      "delta -6.04400851038621e-17\n",
      "xn 2.38645601830041e-6\n",
      "delta -5.66556832544308e-17\n",
      "xn 2.38645601830041e-6\n",
      "delta -1.29759729896258e-16\n",
      "f_new 4.36129280000000e7 - 1.72933657600000e10*I\n",
      "f_abs_2_new 2.99062401396629e20\n",
      "xn 0.000996567074898881\n",
      "delta 8.03344651601468e-16\n",
      "xn 0.000996567074898881\n",
      "delta -6.04400851038621e-17\n",
      "xn 2.38645601830041e-6\n",
      "delta -5.66556832544308e-17\n",
      "xn 2.38645601830041e-6\n",
      "delta -1.29759729896258e-16\n",
      "f_new 1.30078592000000e8 - 1.72940665600000e10*I\n",
      "f_abs_2_new 2.99101658621807e20\n",
      "xn 0.000996567074898881\n",
      "delta 8.03344651601468e-16\n",
      "xn 0.000996567074898881\n",
      "delta -6.04400851038621e-17\n",
      "xn 2.38645601830041e-6\n",
      "delta -5.66556832544308e-17\n",
      "xn 2.38645601830041e-6\n",
      "delta -1.29759729896258e-16\n",
      "f_new 1.32085759999994e8 + 1.07164340480000e10*I\n",
      "f_abs_2_new 1.14859405353128e20\n",
      "xn 0.000996567074898881\n",
      "delta 8.03344651601468e-16\n",
      "xn 0.000996567074898881\n",
      "delta -6.04400851038621e-17\n",
      "xn 2.38645601830041e-6\n",
      "delta -5.66556832544308e-17\n",
      "xn 2.38645601830041e-6\n",
      "delta -1.29759729896258e-16\n",
      "f_new 1.89043564853836e8 + 1.07352417543895e10*I\n",
      "f_abs_2_new 1.15281152994600e20\n",
      "xn 0.000996567074898881\n",
      "delta 8.03344651601468e-16\n",
      "xn 0.000996567074898881\n",
      "delta -6.04400851038621e-17\n",
      "xn 2.38645601830041e-6\n",
      "delta -5.66556832544308e-17\n",
      "xn 2.38645601830041e-6\n",
      "delta -1.29759729896258e-16\n",
      "f_new 9.52866559999937e7 + 3.88304793600000e9*I\n",
      "f_abs_2_new 1.50871408200855e19\n",
      "xn 0.000996567074898881\n",
      "delta 8.03344651601468e-16\n",
      "xn 0.000996567074898881\n",
      "delta -6.04400851038621e-17\n",
      "xn 2.38645601830041e-6\n",
      "delta -5.66556832544308e-17\n",
      "xn 2.38645601830041e-6\n",
      "delta -1.29759729896258e-16\n",
      "f_new 2.72466440397263e7 + 3.88237714633984e9*I\n",
      "f_abs_2_new 1.50735946860333e19\n",
      "xn 0.000996567074898881\n",
      "delta 8.03344651601468e-16\n",
      "xn 0.000996567074898881\n",
      "delta -6.04400851038621e-17\n",
      "xn 2.38645601830041e-6\n",
      "delta -5.66556832544308e-17\n",
      "xn 2.38645601830041e-6\n",
      "delta -1.29759729896258e-16\n",
      "f_new 1.30112681193107e8 - 6.70612992635049e9*I\n",
      "f_abs_2_new 4.49891078989008e19\n",
      "xn 0.000996567074898881\n",
      "delta 8.03344651601468e-16\n",
      "xn 0.000996567074898881\n",
      "delta -6.04400851038621e-17\n",
      "xn 2.38645601830041e-6\n",
      "delta -5.66556832544308e-17\n",
      "xn 2.38645601830041e-6\n",
      "delta -1.29759729896258e-16\n",
      "f_new 1.32198400000000e8 - 1.03835631360000e10*I\n",
      "f_abs_2_new 1.07835859816261e20\n",
      "xn 0.000996567074898881\n",
      "delta 8.03344651601468e-16\n",
      "xn 0.000996567074898881\n",
      "delta -6.04400851038621e-17\n",
      "xn 2.38645601830041e-6\n",
      "delta -5.66556832544308e-17\n",
      "xn 2.38645601830041e-6\n",
      "delta -1.29759729896258e-16\n",
      "f_new -3.64393026790352e7 + 2.14181114986107e9*I\n",
      "f_abs_2_new 4.58868282444894e18\n",
      "xn 0.000996567074898881\n",
      "delta 8.03344651601468e-16\n",
      "xn 0.000996567074898881\n",
      "delta -6.04400851038621e-17\n",
      "xn 2.38645601830041e-6\n",
      "delta -5.66556832544308e-17\n",
      "xn 2.38645601830041e-6\n",
      "delta -1.29759729896258e-16\n",
      "f_new 9.91921919999937e7 + 3.88251699200000e9*I\n",
      "f_abs_2_new 1.50837772841225e19\n",
      "xn 0.000996567074898881\n",
      "delta 8.03344651601468e-16\n",
      "xn 0.000996567074898881\n",
      "delta -6.04400851038621e-17\n",
      "xn 2.38645601830041e-6\n",
      "delta -5.66556832544308e-17\n",
      "xn 2.38645601830041e-6\n",
      "delta -1.29759729896258e-16\n",
      "f_new 1.28053247999994e8 - 6.70532787200000e9*I\n",
      "f_abs_2_new 4.49778195053434e19\n",
      "xn 0.000996567074898881\n",
      "delta 8.03344651601468e-16\n",
      "xn 0.000996567074898881\n",
      "delta -6.04400851038621e-17\n",
      "xn 2.38645601830041e-6\n",
      "delta -5.66556832544308e-17\n",
      "xn 2.38645601830041e-6\n",
      "delta -1.29759729896258e-16\n",
      "f_new 8.64934925104287e7 + 1.20471226187667e10*I\n",
      "f_abs_2_new 1.45140644515847e20\n",
      "xn 0.000996567074898881\n",
      "delta 8.03344651601468e-16\n",
      "xn 0.000996567074898881\n",
      "delta -6.04400851038621e-17\n",
      "xn 2.38645601830041e-6\n",
      "delta -5.66556832544308e-17\n",
      "xn 2.38645601830062e-6\n",
      "delta 8.33154321057438e-17\n",
      "f_new 5.10876159999937e7 + 4.05557619200000e9*I\n",
      "f_abs_2_new 1.64503081936258e19\n",
      "xn 0.000996567074898881\n",
      "delta -1.37755527652708e-16\n",
      "xn 0.000996567074898881\n",
      "delta -4.38515756728588e-17\n",
      "xn 2.38645601830062e-6\n",
      "delta -5.26928788988749e-17\n",
      "xn 2.38645601830062e-6\n",
      "delta 8.33154321057438e-17\n",
      "f_new 4.85841919999937e7 - 1.72949117440000e10*I\n",
      "f_abs_2_new 2.99116332656462e20\n",
      "xn 0.000996567074898881\n",
      "delta -1.37755527652708e-16\n",
      "xn 0.000996567074898881\n",
      "delta -4.38515756728588e-17\n",
      "xn 2.38645601830062e-6\n",
      "delta -5.26928788988749e-17\n",
      "xn 2.38645601830062e-6\n",
      "delta 8.33154321057438e-17\n",
      "f_new 8.71222305377731e7 + 8.09133483763477e9*I\n",
      "f_abs_2_new 6.54772897377759e19\n",
      "xn 0.000996567074898881\n",
      "delta -1.37755527652708e-16\n",
      "xn 0.000996567074898881\n",
      "delta -4.38515756728588e-17\n",
      "xn 2.38645601830062e-6\n",
      "delta -5.26928788988749e-17\n",
      "xn 2.38645601830062e-6\n",
      "delta 8.33154321057438e-17\n",
      "f_new 4.81440000000000e7 + 2.72187264000000e8*I\n",
      "f_abs_2_new 7.64037514198057e16\n",
      "xn 0.000996567074898881\n",
      "delta -1.37755527652708e-16\n",
      "xn 0.000996567074898881\n",
      "delta -4.38515756728588e-17\n",
      "xn 2.38645601830062e-6\n",
      "delta -5.26928788988749e-17\n",
      "xn 2.38645601830062e-6\n",
      "delta 8.33154321057438e-17\n",
      "f_new 1.25951872000000e8 + 6.23970969600000e9*I\n",
      "f_abs_2_new 3.89498409644167e19\n",
      "xn 0.000996567074898881\n",
      "delta -1.37755527652708e-16\n",
      "xn 0.000996567074898881\n",
      "delta -4.38515756728588e-17\n",
      "xn 2.38645601830062e-6\n",
      "delta -5.26928788988749e-17\n",
      "xn 2.38645601830062e-6\n",
      "delta 8.33154321057438e-17\n",
      "f_new 4.74680319999937e7 + 2.04046220800000e9*I\n",
      "f_abs_2_new 4.16573923633818e18\n",
      "xn 0.000996567074898881\n",
      "delta -1.37755527652708e-16\n",
      "xn 0.000996567074898881\n",
      "delta -4.38515756728588e-17\n",
      "xn 2.38645601830062e-6\n",
      "delta -5.26928788988749e-17\n",
      "xn 2.38645601830062e-6\n",
      "delta 8.33154321057438e-17\n",
      "f_new 1.29157376000000e8 + 2.04637568000000e9*I\n",
      "f_abs_2_new 4.20433505147067e18\n",
      "xn 0.000996567074898881\n",
      "delta -1.37755527652708e-16\n",
      "xn 0.000996567074898881\n",
      "delta -4.38515756728588e-17\n",
      "xn 2.38645601830062e-6\n",
      "delta -5.26928788988749e-17\n",
      "xn 2.38645601830062e-6\n",
      "delta 8.33154321057438e-17\n",
      "f_new 8.82624537135537e7 - 8.40711725281533e9*I\n",
      "f_abs_2_new 7.06874107633207e19\n",
      "xn 0.000996567074898881\n",
      "delta -1.37755527652708e-16\n",
      "xn 0.000996567074898881\n",
      "delta -4.38515756728588e-17\n",
      "xn 2.38645601830062e-6\n",
      "delta -5.26928788988749e-17\n",
      "xn 2.38645601830062e-6\n",
      "delta 8.33154321057438e-17\n",
      "f_new 1.33909812319031e8 + 1.44713329218105e10*I\n",
      "f_abs_2_new 2.09437408371713e20\n",
      "xn 0.000996567074898881\n",
      "delta -1.37755527652708e-16\n",
      "xn 0.000996567074898881\n",
      "delta -4.38515756728588e-17\n",
      "xn 2.38645601830062e-6\n",
      "delta -5.26928788988749e-17\n",
      "xn 2.38645601830062e-6\n",
      "delta 8.33154321057438e-17\n",
      "f_new 4.97070612145379e7 + 1.04035090495831e10*I\n",
      "f_abs_2_new 1.08235471336692e20\n",
      "xn 0.000996567074898881\n",
      "delta -1.37755527652708e-16\n",
      "xn 0.000996567074898881\n",
      "delta -4.38515756728588e-17\n",
      "xn 2.38645601830062e-6\n",
      "delta -5.26928788988749e-17\n",
      "xn 2.38645601830062e-6\n",
      "delta 8.33154321057438e-17\n",
      "f_new 1.30298455246960e8 - 2.00829700225414e9*I\n",
      "f_abs_2_new 4.05023453670271e18\n",
      "xn 0.000996567074898881\n",
      "delta -1.37755527652708e-16\n",
      "xn 0.000996567074898881\n",
      "delta -4.38515756728588e-17\n",
      "xn 2.38645601830062e-6\n",
      "delta -5.26928788988749e-17\n",
      "xn 2.38645601830062e-6\n",
      "delta 8.33154321057438e-17\n",
      "f_new 1.26528692877625e8 + 8.07076447374805e9*I\n",
      "f_abs_2_new 6.51532487008349e19\n",
      "xn 0.000996567074898881\n",
      "delta -1.37755527652708e-16\n",
      "xn 0.000996567074898881\n",
      "delta -4.38515756728588e-17\n",
      "xn 2.38645601830062e-6\n",
      "delta -5.26928788988749e-17\n",
      "xn 2.38645601830062e-6\n",
      "delta 8.33154321057438e-17\n",
      "f_new 1.26986421214538e8 - 1.31081453504169e10*I\n",
      "f_abs_2_new 1.71839600078829e20\n",
      "xn 0.000996567074898881\n",
      "delta -1.37755527652708e-16\n",
      "xn 0.000996567074898881\n",
      "delta -4.38515756728588e-17\n",
      "xn 2.38645601830062e-6\n",
      "delta -5.26928788988749e-17\n",
      "xn 2.38645601830062e-6\n",
      "delta 8.33154321057438e-17\n",
      "f_new 4.71368045678596e7 - 1.72938717688524e10*I\n",
      "f_abs_2_new 2.99080222635856e20\n",
      "xn 0.000996567074898881\n",
      "delta -1.37755527652708e-16\n",
      "xn 0.000996567074898881\n",
      "delta -4.38515756728588e-17\n",
      "xn 2.38645601830062e-6\n",
      "delta -5.26928788988749e-17\n",
      "xn 2.38645601830062e-6\n",
      "delta 8.33154321057438e-17\n",
      "f_new 4.31504232531357e7 + 1.44715251267762e10*I\n",
      "f_abs_2_new 2.09426901453943e20\n",
      "xn 0.000996567074898881\n",
      "delta -1.37755527652708e-16\n",
      "xn 0.000996567074898881\n",
      "delta -4.38515756728588e-17\n",
      "xn 2.38645601830062e-6\n",
      "delta -5.26928788988749e-17\n",
      "xn 2.38645601830062e-6\n",
      "delta 8.33154321057438e-17\n",
      "f_new 1.32819455999994e8 + 6.17052582400000e9*I\n",
      "f_abs_2_new 3.80930299525430e19\n",
      "xn 0.000996567074898881\n",
      "delta -1.37755527652708e-16\n"
     ]
    },
    {
     "name": "stdout",
     "output_type": "stream",
     "text": [
      "xn 0.000996567074898881\n",
      "delta -4.38515756728588e-17\n",
      "xn 2.38645601830062e-6\n",
      "delta -5.26928788988749e-17\n",
      "xn 2.38645601830062e-6\n",
      "delta 8.33154321057438e-17\n",
      "f_new 8.84220160000000e7 - 1.07063296000000e8*I\n",
      "f_abs_2_new 1.92810022638879e16\n",
      "xn 0.000996567074898881\n",
      "delta -7.91800659083965e-16\n",
      "xn 0.000996567074898881\n",
      "delta -6.53240487273961e-17\n",
      "xn 2.38645601830060e-6\n",
      "delta -3.62418114636099e-17\n",
      "xn 2.38645601830060e-6\n",
      "delta 4.45300926181413e-17\n",
      "f_new 4.73123840000000e7 - 1.72935718400000e10*I\n",
      "f_abs_2_new 2.99069865446921e20\n",
      "xn 0.000996567074898881\n",
      "delta -7.91800659083965e-16\n",
      "xn 0.000996567074898881\n",
      "delta -6.53240487273961e-17\n",
      "xn 2.38645601830060e-6\n",
      "delta -3.62418114636099e-17\n",
      "xn 2.38645601830060e-6\n",
      "delta 4.45300926181413e-17\n",
      "f_new 1.26986421214538e8 - 1.31081453504169e10*I\n",
      "f_abs_2_new 1.71839600078829e20\n",
      "xn 0.000996567074898881\n",
      "delta -7.91800659083965e-16\n",
      "xn 0.000996567074898881\n",
      "delta -6.53240487273961e-17\n",
      "xn 2.38645601830060e-6\n",
      "delta -3.62418114636099e-17\n",
      "xn 2.38645601830060e-6\n",
      "delta 4.45300926181413e-17\n",
      "f_new 1.15826414859962e8 + 3.88277445983694e9*I\n",
      "f_abs_2_new 1.50893532643414e19\n",
      "xn 0.000996567074898881\n",
      "delta -7.91800659083965e-16\n",
      "xn 0.000996567074898881\n",
      "delta -6.53240487273961e-17\n",
      "xn 2.38645601830060e-6\n",
      "delta -3.62418114636099e-17\n",
      "xn 2.38645601830060e-6\n",
      "delta 4.45300926181413e-17\n",
      "f_new 1.68401152000000e8 + 7.62480460800000e9*I\n",
      "f_abs_2_new 5.81660042581730e19\n",
      "xn 0.000996567074898881\n",
      "delta -7.91800659083965e-16\n",
      "xn 0.000996567074898881\n",
      "delta -6.53240487273961e-17\n",
      "xn 2.38645601830060e-6\n",
      "delta -3.62418114636099e-17\n",
      "xn 2.38645601830060e-6\n",
      "delta 4.45300926181413e-17\n",
      "f_new 1.41379712000000e8 + 3.88308582400000e9*I\n",
      "f_abs_2_new 1.50983437395150e19\n",
      "xn 0.000996567074898881\n",
      "delta -7.91800659083965e-16\n",
      "xn 0.000996567074898881\n",
      "delta -6.53240487273961e-17\n",
      "xn 2.38645601830060e-6\n",
      "delta -3.62418114636099e-17\n",
      "xn 2.38645601830060e-6\n",
      "delta 4.45300926181413e-17\n",
      "f_new 1.70582837284843e8 + 4.43736274635547e9*I\n",
      "f_abs_2_new 1.97192866471195e19\n",
      "xn 0.000996567074898881\n",
      "delta -7.91800659083965e-16\n",
      "xn 0.000996567074898881\n",
      "delta -6.53240487273961e-17\n",
      "xn 2.38645601830060e-6\n",
      "delta -3.62418114636099e-17\n",
      "xn 2.38645601830060e-6\n",
      "delta 4.45300926181413e-17\n",
      "f_new 8.88569599999937e7 - 1.50061648640000e10*I\n",
      "f_abs_2_new 2.25192879484889e20\n",
      "xn 0.000996567074898881\n",
      "delta -7.91800659083965e-16\n",
      "xn 0.000996567074898881\n",
      "delta -6.53240487273961e-17\n",
      "xn 2.38645601830060e-6\n",
      "delta -3.62418114636099e-17\n",
      "xn 2.38645601830060e-6\n",
      "delta 4.45300926181413e-17\n",
      "f_new 9.09089279999937e7 + 1.20564710400000e10*I\n",
      "f_abs_2_new 1.45366758371549e20\n",
      "xn 0.000996567074898881\n",
      "delta -7.91800659083965e-16\n",
      "xn 0.000996567074898881\n",
      "delta -6.53240487273961e-17\n",
      "xn 2.38645601830060e-6\n",
      "delta -3.62418114636099e-17\n",
      "xn 2.38645601830060e-6\n",
      "delta 4.45300926181413e-17\n",
      "f_new 2.12901119999994e8 + 3.88304192000000e9*I\n",
      "f_abs_2_new 1.51233414393745e19\n",
      "xn 0.000996567074898881\n",
      "delta -7.91800659083965e-16\n",
      "xn 0.000996567074898881\n",
      "delta -6.53240487273961e-17\n",
      "xn 2.38645601830060e-6\n",
      "delta -3.62418114636099e-17\n",
      "xn 2.38645601830060e-6\n",
      "delta 4.45300926181413e-17\n",
      "f_new 4.31504232531357e7 + 1.44715251267762e10*I\n",
      "f_abs_2_new 2.09426901453943e20\n",
      "xn 0.000996567074898881\n",
      "delta -7.91800659083965e-16\n",
      "xn 0.000996567074898881\n",
      "delta -6.53240487273961e-17\n",
      "xn 2.38645601830060e-6\n",
      "delta -3.62418114636099e-17\n",
      "xn 2.38645601830060e-6\n",
      "delta 4.45300926181413e-17\n",
      "f_new 4.60312862477333e7 + 1.44707562827355e10*I\n",
      "f_abs_2_new 2.09404906273641e20\n",
      "xn 0.000996567074898881\n",
      "delta -7.91800659083965e-16\n",
      "xn 0.000996567074898881\n",
      "delta -6.53240487273961e-17\n",
      "xn 2.38645601830060e-6\n",
      "delta -3.62418114636099e-17\n",
      "xn 2.38645601830060e-6\n",
      "delta 4.45300926181413e-17\n",
      "f_new 1.29164470690117e8 + 1.44707584586875e10*I\n",
      "f_abs_2_new 2.09419533830164e20\n",
      "xn 0.000996567074898881\n",
      "delta -7.91800659083965e-16\n",
      "xn 0.000996567074898881\n",
      "delta -6.53240487273961e-17\n",
      "xn 2.38645601830060e-6\n",
      "delta -3.62418114636099e-17\n",
      "xn 2.38645601830060e-6\n",
      "delta 4.45300926181413e-17\n",
      "f_new 1.30188032000000e8 + 8.58604620800000e9*I\n",
      "f_abs_2_new 7.37371384095872e19\n",
      "xn 0.000996567074898881\n",
      "delta -7.91800659083965e-16\n",
      "xn 0.000996567074898881\n",
      "delta -6.53240487273961e-17\n",
      "xn 2.38645601830060e-6\n",
      "delta -3.62418114636099e-17\n",
      "xn 2.38645601830060e-6\n",
      "delta 4.45300926181413e-17\n",
      "f_new 1.30188032000000e8 + 8.58604620800000e9*I\n",
      "f_abs_2_new 7.37371384095872e19\n",
      "xn 0.000996567074898881\n",
      "delta -7.91800659083965e-16\n",
      "xn 0.000996567074898881\n",
      "delta -6.53240487273961e-17\n",
      "xn 2.38645601830060e-6\n",
      "delta -3.62418114636099e-17\n",
      "xn 2.38645601830060e-6\n",
      "delta 4.45300926181413e-17\n",
      "f_new 1.30177385428497e8 - 2.96593887130556e9*I\n",
      "f_abs_2_new 8.81373953999833e18\n",
      "xn 0.000996567074898881\n",
      "delta -7.91800659083965e-16\n",
      "xn 0.000996567074898881\n",
      "delta -6.53240487273961e-17\n",
      "xn 2.38645601830060e-6\n",
      "delta -3.62418114636099e-17\n",
      "xn 2.38645601830060e-6\n",
      "delta 4.45300926181413e-17\n",
      "f_new 1.32819455999994e8 + 6.17052582400000e9*I\n",
      "f_abs_2_new 3.80930299525430e19\n",
      "xn 0.000996567074898881\n",
      "delta -7.91800659083965e-16\n",
      "xn 0.000996567074898881\n",
      "delta -6.53240487273961e-17\n",
      "xn 2.38645601830060e-6\n",
      "delta -3.62418114636099e-17\n",
      "xn 2.38645601830060e-6\n",
      "delta 4.45300926181413e-17\n",
      "f_new 1.32819455999994e8 + 6.17052582400000e9*I\n",
      "f_abs_2_new 3.80930299525430e19\n",
      "xn 0.000996567074898881\n",
      "delta -7.91800659083965e-16\n",
      "xn 0.000996567074898881\n",
      "delta -6.53240487273961e-17\n",
      "xn 2.38645601830060e-6\n",
      "delta -3.62418114636099e-17\n",
      "xn 2.38645601830060e-6\n",
      "delta 4.45300926181413e-17\n",
      "f_new 9.64729599999937e7 + 3.88270105600000e9*I\n",
      "f_abs_2_new 1.50846745222747e19\n",
      "xn 0.000996567074898881\n",
      "delta -7.91800659083965e-16\n",
      "xn 0.000996567074898881\n",
      "delta -6.53240487273961e-17\n",
      "xn 2.38645601830060e-6\n",
      "delta -3.62418114636099e-17\n",
      "xn 2.38645601830060e-6\n",
      "delta 4.45300926181413e-17\n",
      "f_new 1.29981056000000e8 + 3.88260518400000e9*I\n",
      "f_abs_2_new 1.50915180897425e19\n",
      "xn 0.000996567074898881\n",
      "delta -7.91800659083965e-16\n",
      "xn 0.000996567074898881\n",
      "delta -6.53240487273961e-17\n",
      "xn 2.38645601830060e-6\n",
      "delta -3.62418114636099e-17\n",
      "xn 2.38645601830060e-6\n",
      "delta 4.45300926181413e-17\n",
      "f_new 1.29981056000000e8 + 3.88260518400000e9*I\n",
      "f_abs_2_new 1.50915180897425e19\n",
      "xn 0.000996567074898881\n",
      "delta -7.91800659083965e-16\n",
      "xn 0.000996567074898881\n",
      "delta -6.53240487273961e-17\n",
      "xn 2.38645601830060e-6\n",
      "delta -3.62418114636099e-17\n",
      "xn 2.38645601830060e-6\n",
      "delta 4.45300926181413e-17\n",
      "f_new 1.29981056000000e8 + 3.88260518400000e9*I\n",
      "f_abs_2_new 1.50915180897425e19\n",
      "xn 0.000996567074898881\n",
      "delta -7.91800659083965e-16\n",
      "xn 0.000996567074898881\n",
      "delta -6.53240487273961e-17\n",
      "xn 2.38645601830060e-6\n",
      "delta -3.62418114636099e-17\n",
      "xn 2.38645601830060e-6\n",
      "delta 4.45300926181413e-17\n",
      "f_new 6.05629611767578e6 + 3.88289999020646e9*I\n",
      "f_abs_2_new 1.50769490126680e19\n",
      "xn 0.000996567074898881\n",
      "delta -7.91800659083965e-16\n",
      "xn 0.000996567074898881\n",
      "delta -6.53240487273961e-17\n",
      "xn 2.38645601830060e-6\n",
      "delta -3.62418114636099e-17\n",
      "xn 2.38645601830060e-6\n",
      "delta 4.45300926181413e-17\n",
      "f_new 6.05629611767578e6 + 3.88289999020646e9*I\n",
      "f_abs_2_new 1.50769490126680e19\n",
      "xn 0.000996567074898881\n",
      "delta -7.91800659083965e-16\n",
      "xn 0.000996567074898881\n",
      "delta -6.53240487273961e-17\n",
      "xn 2.38645601830060e-6\n",
      "delta -3.62418114636099e-17\n",
      "xn 2.38645601830060e-6\n",
      "delta 4.45300926181413e-17\n",
      "f_new 6.05629611767578e6 + 3.88289999020646e9*I\n",
      "f_abs_2_new 1.50769490126680e19\n",
      "xn 0.000996567074898881\n",
      "delta -7.91800659083965e-16\n",
      "xn 0.000996567074898881\n",
      "delta -6.53240487273961e-17\n",
      "xn 2.38645601830060e-6\n",
      "delta -3.62418114636099e-17\n",
      "xn 2.38645601830060e-6\n",
      "delta 4.45300926181413e-17\n",
      "f_new 1.30045477451210e8 + 6.25625007529631e9*I\n",
      "f_abs_2_new 3.91575768308506e19\n",
      "xn 0.000996567074898881\n",
      "delta -7.91800659083965e-16\n",
      "xn 0.000996567074898881\n",
      "delta -6.53240487273961e-17\n",
      "xn 2.38645601830060e-6\n",
      "delta -3.62418114636099e-17\n",
      "xn 2.38645601830060e-6\n",
      "delta 4.45300926181413e-17\n",
      "f_new 1.30045477451210e8 + 6.25625007529631e9*I\n",
      "f_abs_2_new 3.91575768308506e19\n",
      "xn 0.000996567074898881\n",
      "delta -7.91800659083965e-16\n",
      "xn 0.000996567074898881\n",
      "delta -6.53240487273961e-17\n",
      "xn 2.38645601830060e-6\n",
      "delta -3.62418114636099e-17\n",
      "xn 2.38645601830060e-6\n",
      "delta 4.45300926181413e-17\n",
      "f_new 1.30045477451210e8 + 6.25625007529631e9*I\n",
      "f_abs_2_new 3.91575768308506e19\n",
      "xn 0.000996567074898881\n",
      "delta -7.91800659083965e-16\n",
      "xn 0.000996567074898881\n",
      "delta -6.53240487273961e-17\n",
      "xn 2.38645601830060e-6\n",
      "delta -3.62418114636099e-17\n",
      "xn 2.38645601830060e-6\n",
      "delta 4.45300926181413e-17\n",
      "f_new 1.30045477451210e8 + 6.25625007529631e9*I\n",
      "f_abs_2_new 3.91575768308506e19\n"
     ]
    },
    {
     "name": "stdout",
     "output_type": "stream",
     "text": [
      "xn 0.000996567074898881\n",
      "delta -7.91800659083965e-16\n",
      "xn 0.000996567074898881\n",
      "delta -6.53240487273961e-17\n",
      "xn 2.38645601830060e-6\n",
      "delta -3.62418114636099e-17\n",
      "xn 2.38645601830060e-6\n",
      "delta 4.45300926181413e-17\n",
      "f_new 1.30045477451210e8 + 6.25625007529631e9*I\n",
      "f_abs_2_new 3.91575768308506e19\n",
      "xn 0.000996567074898881\n",
      "delta -7.91800659083965e-16\n",
      "xn 0.000996567074898881\n",
      "delta -6.53240487273961e-17\n",
      "xn 2.38645601830060e-6\n",
      "delta -3.62418114636099e-17\n",
      "xn 2.38645601830060e-6\n",
      "delta 4.45300926181413e-17\n",
      "f_new 1.32344320000000e8 + 2.07468326400000e9*I\n",
      "f_abs_2_new 4.32182566495796e18\n",
      "xn 0.000996567074898881\n",
      "delta -7.91800659083965e-16\n",
      "xn 0.000996567074898881\n",
      "delta -6.53240487273961e-17\n",
      "xn 2.38645601830060e-6\n",
      "delta -3.62418114636099e-17\n",
      "xn 2.38645601830060e-6\n",
      "delta 4.45300926181413e-17\n",
      "f_new 1.32344320000000e8 + 2.07468326400000e9*I\n",
      "f_abs_2_new 4.32182566495796e18\n",
      "xn 0.000996567074898881\n",
      "delta -7.91800659083965e-16\n",
      "xn 0.000996567074898881\n",
      "delta -6.53240487273961e-17\n",
      "xn 2.38645601830060e-6\n",
      "delta -3.62418114636099e-17\n",
      "xn 2.38645601830060e-6\n",
      "delta 4.45300926181413e-17\n",
      "f_new 1.32344320000000e8 + 2.07468326400000e9*I\n",
      "f_abs_2_new 4.32182566495796e18\n",
      "xn 0.000996567074898881\n",
      "delta -7.91800659083965e-16\n",
      "xn 0.000996567074898881\n",
      "delta -6.53240487273961e-17\n",
      "xn 2.38645601830060e-6\n",
      "delta -3.62418114636099e-17\n",
      "xn 2.38645601830060e-6\n",
      "delta 4.45300926181413e-17\n",
      "f_new 1.32344320000000e8 + 2.07468326400000e9*I\n",
      "f_abs_2_new 4.32182566495796e18\n",
      "xn 0.000996567074898881\n",
      "delta -7.91800659083965e-16\n",
      "xn 0.000996567074898881\n",
      "delta -6.53240487273961e-17\n",
      "xn 2.38645601830060e-6\n",
      "delta -3.62418114636099e-17\n",
      "xn 2.38645601830060e-6\n",
      "delta 4.45300926181413e-17\n",
      "f_new 1.32344320000000e8 + 2.07468326400000e9*I\n",
      "f_abs_2_new 4.32182566495796e18\n",
      "xn 0.000996567074898881\n",
      "delta -7.91800659083965e-16\n",
      "xn 0.000996567074898881\n",
      "delta -6.53240487273961e-17\n",
      "xn 2.38645601830060e-6\n",
      "delta -3.62418114636099e-17\n",
      "xn 2.38645601830060e-6\n",
      "delta 4.45300926181413e-17\n",
      "f_new 1.32344320000000e8 + 2.07468326400000e9*I\n",
      "f_abs_2_new 4.32182566495796e18\n",
      "xn 0.000996567074898881\n",
      "delta -7.91800659083965e-16\n",
      "xn 0.000996567074898881\n",
      "delta -6.53240487273961e-17\n",
      "xn 2.38645601830060e-6\n",
      "delta -3.62418114636099e-17\n",
      "xn 2.38645601830060e-6\n",
      "delta 4.45300926181413e-17\n",
      "f_new 1.32344320000000e8 + 2.07468326400000e9*I\n",
      "f_abs_2_new 4.32182566495796e18\n",
      "xn 0.000996567074898881\n",
      "delta -7.91800659083965e-16\n",
      "xn 0.000996567074898881\n",
      "delta -6.53240487273961e-17\n",
      "xn 2.38645601830060e-6\n",
      "delta -3.62418114636099e-17\n",
      "xn 2.38645601830060e-6\n",
      "delta 4.45300926181413e-17\n",
      "f_new 1.32344320000000e8 + 2.07468326400000e9*I\n",
      "f_abs_2_new 4.32182566495796e18\n",
      "xn 0.000996567074898881\n",
      "delta -7.91800659083965e-16\n",
      "xn 0.000996567074898881\n",
      "delta -6.53240487273961e-17\n",
      "xn 2.38645601830060e-6\n",
      "delta -3.62418114636099e-17\n",
      "xn 2.38645601830060e-6\n",
      "delta 4.45300926181413e-17\n",
      "f_new 1.32344320000000e8 + 2.07468326400000e9*I\n",
      "f_abs_2_new 4.32182566495796e18\n",
      "xn 0.000996567074898881\n",
      "delta -7.91800659083965e-16\n",
      "xn 0.000996567074898881\n",
      "delta -6.53240487273961e-17\n",
      "xn 2.38645601830060e-6\n",
      "delta -3.62418114636099e-17\n",
      "xn 2.38645601830060e-6\n",
      "delta 4.45300926181413e-17\n",
      "f_new 1.32344320000000e8 + 2.07468326400000e9*I\n",
      "f_abs_2_new 4.32182566495796e18\n",
      "xn 0.000996567074898881\n",
      "delta -7.91800659083965e-16\n",
      "xn 0.000996567074898881\n",
      "delta -6.53240487273961e-17\n",
      "xn 2.38645601830060e-6\n",
      "delta -3.62418114636099e-17\n",
      "xn 2.38645601830060e-6\n",
      "delta 4.45300926181413e-17\n",
      "f_new 8.84220160000000e7 - 1.07063296000000e8*I\n",
      "f_abs_2_new 1.92810022638879e16\n",
      "xn 0.000996567074898881\n",
      "delta -7.91800659083965e-16\n",
      "xn 0.000996567074898881\n",
      "delta -6.53240487273961e-17\n",
      "xn 2.38645601830060e-6\n",
      "delta -3.62418114636099e-17\n",
      "xn 2.38645601830060e-6\n",
      "delta 4.45300926181413e-17\n",
      "f_new 1.32344320000000e8 + 2.07468326400000e9*I\n",
      "f_abs_2_new 4.32182566495796e18\n",
      "xn 0.000996567074898881\n",
      "delta -7.91800659083965e-16\n",
      "xn 0.000996567074898881\n",
      "delta -6.53240487273961e-17\n",
      "xn 2.38645601830060e-6\n",
      "delta -3.62418114636099e-17\n",
      "xn 2.38645601830060e-6\n",
      "delta 4.45300926181413e-17\n",
      "f_new 8.84220160000000e7 - 1.07063296000000e8*I\n",
      "f_abs_2_new 1.92810022638879e16\n",
      "xn 0.000996567074898881\n",
      "delta -7.91800659083965e-16\n",
      "xn 0.000996567074898881\n",
      "delta -6.53240487273961e-17\n",
      "xn 2.38645601830060e-6\n",
      "delta -3.62418114636099e-17\n",
      "xn 2.38645601830060e-6\n",
      "delta 4.45300926181413e-17\n",
      "f_new 1.32344320000000e8 + 2.07468326400000e9*I\n",
      "f_abs_2_new 4.32182566495796e18\n",
      "xn 0.000996567074898881\n",
      "delta -7.91800659083965e-16\n",
      "xn 0.000996567074898881\n",
      "delta -6.53240487273961e-17\n",
      "xn 2.38645601830060e-6\n",
      "delta -3.62418114636099e-17\n",
      "xn 2.38645601830060e-6\n",
      "delta 4.45300926181413e-17\n",
      "f_new 8.84220160000000e7 - 1.07063296000000e8*I\n",
      "f_abs_2_new 1.92810022638879e16\n",
      "xn 0.000996567074898881\n",
      "delta -7.91800659083965e-16\n",
      "xn 0.000996567074898881\n",
      "delta -6.53240487273961e-17\n",
      "xn 2.38645601830060e-6\n",
      "delta -3.62418114636099e-17\n",
      "xn 2.38645601830060e-6\n",
      "delta 4.45300926181413e-17\n",
      "f_new 1.32344320000000e8 + 2.07468326400000e9*I\n",
      "f_abs_2_new 4.32182566495796e18\n",
      "xn 0.000996567074898881\n",
      "delta -7.91800659083965e-16\n",
      "xn 0.000996567074898881\n",
      "delta -6.53240487273961e-17\n",
      "xn 2.38645601830060e-6\n",
      "delta -3.62418114636099e-17\n",
      "xn 2.38645601830060e-6\n",
      "delta 4.45300926181413e-17\n",
      "f_new 8.84220160000000e7 - 1.07063296000000e8*I\n",
      "f_abs_2_new 1.92810022638879e16\n",
      "xn 0.000996567074898881\n",
      "delta -7.91800659083965e-16\n",
      "xn 0.000996567074898881\n",
      "delta -6.53240487273961e-17\n",
      "xn 2.38645601830060e-6\n",
      "delta -3.62418114636099e-17\n",
      "xn 2.38645601830060e-6\n",
      "delta 4.45300926181413e-17\n",
      "f_new 1.32344320000000e8 + 2.07468326400000e9*I\n",
      "f_abs_2_new 4.32182566495796e18\n",
      "xn 0.000996567074898881\n",
      "delta -7.91800659083965e-16\n",
      "xn 0.000996567074898881\n",
      "delta -6.53240487273961e-17\n",
      "xn 2.38645601830060e-6\n",
      "delta -3.62418114636099e-17\n",
      "xn 2.38645601830060e-6\n",
      "delta 4.45300926181413e-17\n",
      "f_new 8.84220160000000e7 - 1.07063296000000e8*I\n",
      "f_abs_2_new 1.92810022638879e16\n",
      "xn 0.000996567074898881\n",
      "delta -7.91800659083965e-16\n",
      "xn 0.000996567074898881\n",
      "delta -6.53240487273961e-17\n",
      "xn 2.38645601830060e-6\n",
      "delta -3.62418114636099e-17\n",
      "xn 2.38645601830060e-6\n",
      "delta 4.45300926181413e-17\n",
      "f_new 1.32344320000000e8 + 2.07468326400000e9*I\n",
      "f_abs_2_new 4.32182566495796e18\n",
      "xn 0.000996567074898881\n",
      "delta -7.91800659083965e-16\n",
      "xn 0.000996567074898881\n",
      "delta -6.53240487273961e-17\n",
      "xn 2.38645601830060e-6\n",
      "delta -3.62418114636099e-17\n",
      "xn 2.38645601830060e-6\n",
      "delta 4.45300926181413e-17\n",
      "f_new 8.84220160000000e7 - 1.07063296000000e8*I\n",
      "f_abs_2_new 1.92810022638879e16\n",
      "xn 0.000996567074898881\n",
      "delta -7.91800659083965e-16\n",
      "xn 0.000996567074898881\n",
      "delta -6.53240487273961e-17\n",
      "xn 2.38645601830060e-6\n",
      "delta -3.62418114636099e-17\n",
      "xn 2.38645601830060e-6\n",
      "delta 4.45300926181413e-17\n",
      "f_new 1.32344320000000e8 + 2.07468326400000e9*I\n",
      "f_abs_2_new 4.32182566495796e18\n",
      "xn 0.000996567074898881\n",
      "delta -7.91800659083965e-16\n",
      "xn 0.000996567074898881\n",
      "delta -6.53240487273961e-17\n",
      "xn 2.38645601830060e-6\n",
      "delta -3.62418114636099e-17\n",
      "xn 2.38645601830060e-6\n",
      "delta 4.45300926181413e-17\n",
      "f_new 8.84220160000000e7 - 1.07063296000000e8*I\n",
      "f_abs_2_new 1.92810022638879e16\n",
      "xn 0.000996567074898881\n",
      "delta -7.91800659083965e-16\n",
      "xn 0.000996567074898881\n",
      "delta -6.53240487273961e-17\n",
      "xn 2.38645601830060e-6\n",
      "delta -3.62418114636099e-17\n",
      "xn 2.38645601830060e-6\n",
      "delta 4.45300926181413e-17\n",
      "f_new 1.32344320000000e8 + 2.07468326400000e9*I\n",
      "f_abs_2_new 4.32182566495796e18\n",
      "xn 0.000996567074898881\n",
      "delta -7.91800659083965e-16\n",
      "xn 0.000996567074898881\n",
      "delta -6.53240487273961e-17\n",
      "xn 2.38645601830060e-6\n",
      "delta -3.62418114636099e-17\n",
      "xn 2.38645601830060e-6\n",
      "delta 4.45300926181413e-17\n",
      "f_new 8.84220160000000e7 - 1.07063296000000e8*I\n",
      "f_abs_2_new 1.92810022638879e16\n",
      "xn 0.000996567074898881\n",
      "delta -7.91800659083965e-16\n",
      "xn 0.000996567074898881\n",
      "delta -6.53240487273961e-17\n",
      "xn 2.38645601830060e-6\n",
      "delta -3.62418114636099e-17\n",
      "xn 2.38645601830060e-6\n",
      "delta 4.45300926181413e-17\n",
      "f_new 1.32344320000000e8 + 2.07468326400000e9*I\n",
      "f_abs_2_new 4.32182566495796e18\n",
      "xn 0.000996567074898881\n",
      "delta -7.91800659083965e-16\n",
      "xn 0.000996567074898881\n",
      "delta -6.53240487273961e-17\n",
      "xn 2.38645601830060e-6\n",
      "delta -3.62418114636099e-17\n",
      "xn 2.38645601830060e-6\n",
      "delta 4.45300926181413e-17\n",
      "f_new 8.84220160000000e7 - 1.07063296000000e8*I\n",
      "f_abs_2_new 1.92810022638879e16\n",
      "xn 0.000996567074898881\n",
      "delta -7.91800659083965e-16\n",
      "xn 0.000996567074898881\n",
      "delta -6.53240487273961e-17\n",
      "xn 2.38645601830060e-6\n",
      "delta -3.62418114636099e-17\n",
      "xn 2.38645601830060e-6\n",
      "delta 4.45300926181413e-17\n",
      "f_new 1.32344320000000e8 + 2.07468326400000e9*I\n",
      "f_abs_2_new 4.32182566495796e18\n"
     ]
    },
    {
     "name": "stdout",
     "output_type": "stream",
     "text": [
      "xn 0.000996567074898881\n",
      "delta -7.91800659083965e-16\n",
      "xn 0.000996567074898881\n",
      "delta -6.53240487273961e-17\n",
      "xn 2.38645601830060e-6\n",
      "delta -3.62418114636099e-17\n",
      "xn 2.38645601830060e-6\n",
      "delta 4.45300926181413e-17\n",
      "f_new 8.84220160000000e7 - 1.07063296000000e8*I\n",
      "f_abs_2_new 1.92810022638879e16\n",
      "xn 0.000996567074898881\n",
      "delta -7.91800659083965e-16\n",
      "xn 0.000996567074898881\n",
      "delta -6.53240487273961e-17\n",
      "xn 2.38645601830060e-6\n",
      "delta -3.62418114636099e-17\n",
      "xn 2.38645601830060e-6\n",
      "delta 4.45300926181413e-17\n",
      "f_new 1.32344320000000e8 + 2.07468326400000e9*I\n",
      "f_abs_2_new 4.32182566495796e18\n",
      "xn 0.000996567074898881\n",
      "delta -7.91800659083965e-16\n",
      "xn 0.000996567074898881\n",
      "delta -6.53240487273961e-17\n",
      "xn 2.38645601830060e-6\n",
      "delta -3.62418114636099e-17\n",
      "xn 2.38645601830060e-6\n",
      "delta 4.45300926181413e-17\n",
      "f_new 8.84220160000000e7 - 1.07063296000000e8*I\n",
      "f_abs_2_new 1.92810022638879e16\n",
      "xn 0.000996567074898881\n",
      "delta -7.91800659083965e-16\n",
      "xn 0.000996567074898881\n",
      "delta -6.53240487273961e-17\n",
      "xn 2.38645601830060e-6\n",
      "delta -3.62418114636099e-17\n",
      "xn 2.38645601830060e-6\n",
      "delta 4.45300926181413e-17\n",
      "f_new 1.32344320000000e8 + 2.07468326400000e9*I\n",
      "f_abs_2_new 4.32182566495796e18\n",
      "xn 0.000996567074898881\n",
      "delta -7.91800659083965e-16\n",
      "xn 0.000996567074898881\n",
      "delta -6.53240487273961e-17\n",
      "xn 2.38645601830060e-6\n",
      "delta -3.62418114636099e-17\n",
      "xn 2.38645601830060e-6\n",
      "delta 4.45300926181413e-17\n",
      "f_new 8.84220160000000e7 - 1.07063296000000e8*I\n",
      "f_abs_2_new 1.92810022638879e16\n",
      "xn 0.000996567074898881\n",
      "delta -7.91800659083965e-16\n",
      "xn 0.000996567074898881\n",
      "delta -6.53240487273961e-17\n",
      "xn 2.38645601830060e-6\n",
      "delta -3.62418114636099e-17\n",
      "xn 2.38645601830060e-6\n",
      "delta 4.45300926181413e-17\n",
      "f_new 1.32344320000000e8 + 2.07468326400000e9*I\n",
      "f_abs_2_new 4.32182566495796e18\n",
      "xn 0.000996567074898881\n",
      "delta -7.91800659083965e-16\n",
      "xn 0.000996567074898881\n",
      "delta -6.53240487273961e-17\n",
      "xn 2.38645601830060e-6\n",
      "delta -3.62418114636099e-17\n",
      "xn 2.38645601830060e-6\n",
      "delta 4.45300926181413e-17\n",
      "f_new 8.84220160000000e7 - 1.07063296000000e8*I\n",
      "f_abs_2_new 1.92810022638879e16\n",
      "xn 0.000996567074898881\n",
      "delta -7.91800659083965e-16\n",
      "xn 0.000996567074898881\n",
      "delta -6.53240487273961e-17\n",
      "xn 2.38645601830060e-6\n",
      "delta -3.62418114636099e-17\n",
      "xn 2.38645601830060e-6\n",
      "delta 4.45300926181413e-17\n",
      "f_new 1.32344320000000e8 + 2.07468326400000e9*I\n",
      "f_abs_2_new 4.32182566495796e18\n",
      "xn 0.000996567074898881\n",
      "delta -7.91800659083965e-16\n",
      "xn 0.000996567074898881\n",
      "delta -6.53240487273961e-17\n",
      "xn 2.38645601830060e-6\n",
      "delta -3.62418114636099e-17\n",
      "xn 2.38645601830060e-6\n",
      "delta 4.45300926181413e-17\n",
      "f_new 8.84220160000000e7 - 1.07063296000000e8*I\n",
      "f_abs_2_new 1.92810022638879e16\n",
      "xn 0.000996567074898881\n",
      "delta -7.91800659083965e-16\n",
      "xn 0.000996567074898881\n",
      "delta -6.53240487273961e-17\n",
      "xn 2.38645601830060e-6\n",
      "delta -3.62418114636099e-17\n",
      "xn 2.38645601830060e-6\n",
      "delta 4.45300926181413e-17\n",
      "f_new 1.32344320000000e8 + 2.07468326400000e9*I\n",
      "f_abs_2_new 4.32182566495796e18\n",
      "xn 0.000996567074898881\n",
      "delta -7.91800659083965e-16\n",
      "xn 0.000996567074898881\n",
      "delta -6.53240487273961e-17\n",
      "xn 2.38645601830060e-6\n",
      "delta -3.62418114636099e-17\n",
      "xn 2.38645601830060e-6\n",
      "delta 4.45300926181413e-17\n",
      "f_new 8.84220160000000e7 - 1.07063296000000e8*I\n",
      "f_abs_2_new 1.92810022638879e16\n",
      "xn 0.000996567074898881\n",
      "delta -7.91800659083965e-16\n",
      "xn 0.000996567074898881\n",
      "delta -6.53240487273961e-17\n",
      "xn 2.38645601830060e-6\n",
      "delta -3.62418114636099e-17\n",
      "xn 2.38645601830060e-6\n",
      "delta 4.45300926181413e-17\n",
      "f_new 1.32344320000000e8 + 2.07468326400000e9*I\n",
      "f_abs_2_new 4.32182566495796e18\n",
      "xn 0.000996567074898881\n",
      "delta -7.91800659083965e-16\n",
      "xn 0.000996567074898881\n",
      "delta -6.53240487273961e-17\n",
      "xn 2.38645601830060e-6\n",
      "delta -3.62418114636099e-17\n",
      "xn 2.38645601830060e-6\n",
      "delta 4.45300926181413e-17\n",
      "f_new 8.84220160000000e7 - 1.07063296000000e8*I\n",
      "f_abs_2_new 1.92810022638879e16\n",
      "xn 0.000996567074898881\n",
      "delta -7.91800659083965e-16\n",
      "xn 0.000996567074898881\n",
      "delta -6.53240487273961e-17\n",
      "xn 2.38645601830060e-6\n",
      "delta -3.62418114636099e-17\n",
      "xn 2.38645601830060e-6\n",
      "delta 4.45300926181413e-17\n",
      "f_new 1.32344320000000e8 + 2.07468326400000e9*I\n",
      "f_abs_2_new 4.32182566495796e18\n",
      "xn 0.000996567074898881\n",
      "delta -7.91800659083965e-16\n",
      "xn 0.000996567074898881\n",
      "delta -6.53240487273961e-17\n",
      "xn 2.38645601830060e-6\n",
      "delta -3.62418114636099e-17\n",
      "xn 2.38645601830060e-6\n",
      "delta 4.45300926181413e-17\n",
      "f_new 8.84220160000000e7 - 1.07063296000000e8*I\n",
      "f_abs_2_new 1.92810022638879e16\n",
      "xn 0.000996567074898881\n",
      "delta -7.91800659083965e-16\n",
      "xn 0.000996567074898881\n",
      "delta -6.53240487273961e-17\n",
      "xn 2.38645601830060e-6\n",
      "delta -3.62418114636099e-17\n",
      "xn 2.38645601830060e-6\n",
      "delta 4.45300926181413e-17\n",
      "f_new 1.32344320000000e8 + 2.07468326400000e9*I\n",
      "f_abs_2_new 4.32182566495796e18\n",
      "xn 0.000996567074898881\n",
      "delta -7.91800659083965e-16\n",
      "xn 0.000996567074898881\n",
      "delta -6.53240487273961e-17\n",
      "xn 2.38645601830060e-6\n",
      "delta -3.62418114636099e-17\n",
      "xn 2.38645601830060e-6\n",
      "delta 4.45300926181413e-17\n",
      "f_new 8.84220160000000e7 - 1.07063296000000e8*I\n",
      "f_abs_2_new 1.92810022638879e16\n",
      "xn 0.000996567074898881\n",
      "delta -7.91800659083965e-16\n",
      "xn 0.000996567074898881\n",
      "delta -6.53240487273961e-17\n",
      "xn 2.38645601830060e-6\n",
      "delta -3.62418114636099e-17\n",
      "xn 2.38645601830060e-6\n",
      "delta 4.45300926181413e-17\n",
      "f_new 1.32344320000000e8 + 2.07468326400000e9*I\n",
      "f_abs_2_new 4.32182566495796e18\n",
      "xn 0.000996567074898881\n",
      "delta -7.91800659083965e-16\n",
      "xn 0.000996567074898881\n",
      "delta -6.53240487273961e-17\n",
      "xn 2.38645601830060e-6\n",
      "delta -3.62418114636099e-17\n",
      "xn 2.38645601830060e-6\n",
      "delta 4.45300926181413e-17\n",
      "f_new 8.84220160000000e7 - 1.07063296000000e8*I\n",
      "f_abs_2_new 1.92810022638879e16\n",
      "xn 0.000996567074898881\n",
      "delta -7.91800659083965e-16\n",
      "xn 0.000996567074898881\n",
      "delta -6.53240487273961e-17\n",
      "xn 2.38645601830060e-6\n",
      "delta -3.62418114636099e-17\n",
      "xn 2.38645601830060e-6\n",
      "delta 4.45300926181413e-17\n",
      "f_new 1.32344320000000e8 + 2.07468326400000e9*I\n",
      "f_abs_2_new 4.32182566495796e18\n",
      "xn 0.000996567074898881\n",
      "delta -7.91800659083965e-16\n",
      "xn 0.000996567074898881\n",
      "delta -6.53240487273961e-17\n",
      "xn 2.38645601830060e-6\n",
      "delta -3.62418114636099e-17\n",
      "xn 2.38645601830060e-6\n",
      "delta 4.45300926181413e-17\n",
      "f_new 8.84220160000000e7 - 1.07063296000000e8*I\n",
      "f_abs_2_new 1.92810022638879e16\n",
      "xn 0.000996567074898881\n",
      "delta -7.91800659083965e-16\n",
      "xn 0.000996567074898881\n",
      "delta -6.53240487273961e-17\n",
      "xn 2.38645601830060e-6\n",
      "delta -3.62418114636099e-17\n",
      "xn 2.38645601830060e-6\n",
      "delta 4.45300926181413e-17\n",
      "f_new 1.32344320000000e8 + 2.07468326400000e9*I\n",
      "f_abs_2_new 4.32182566495796e18\n",
      "xn 0.000996567074898881\n",
      "delta -7.91800659083965e-16\n",
      "xn 0.000996567074898881\n",
      "delta -6.53240487273961e-17\n",
      "xn 2.38645601830060e-6\n",
      "delta -3.62418114636099e-17\n",
      "xn 2.38645601830060e-6\n",
      "delta 4.45300926181413e-17\n",
      "f_new 8.84220160000000e7 - 1.07063296000000e8*I\n",
      "f_abs_2_new 1.92810022638879e16\n",
      "xn 0.000996567074898881\n",
      "delta -7.91800659083965e-16\n",
      "xn 0.000996567074898881\n",
      "delta -6.53240487273961e-17\n",
      "xn 2.38645601830060e-6\n",
      "delta -3.62418114636099e-17\n",
      "xn 2.38645601830060e-6\n",
      "delta 4.45300926181413e-17\n",
      "f_new 1.32344320000000e8 + 2.07468326400000e9*I\n",
      "f_abs_2_new 4.32182566495796e18\n",
      "xn 0.000996567074898881\n",
      "delta -7.91800659083965e-16\n",
      "xn 0.000996567074898881\n",
      "delta -6.53240487273961e-17\n",
      "xn 2.38645601830060e-6\n",
      "delta -3.62418114636099e-17\n",
      "xn 2.38645601830060e-6\n",
      "delta 4.45300926181413e-17\n",
      "f_new 8.84220160000000e7 - 1.07063296000000e8*I\n",
      "f_abs_2_new 1.92810022638879e16\n",
      "xn 0.000996567074898881\n",
      "delta -7.91800659083965e-16\n",
      "xn 0.000996567074898881\n",
      "delta -6.53240487273961e-17\n",
      "xn 2.38645601830060e-6\n",
      "delta -3.62418114636099e-17\n",
      "xn 2.38645601830060e-6\n",
      "delta 4.45300926181413e-17\n",
      "f_new 1.32344320000000e8 + 2.07468326400000e9*I\n",
      "f_abs_2_new 4.32182566495796e18\n",
      "xn 0.000996567074898881\n",
      "delta -7.91800659083965e-16\n",
      "xn 0.000996567074898881\n",
      "delta -6.53240487273961e-17\n",
      "xn 2.38645601830060e-6\n",
      "delta -3.62418114636099e-17\n",
      "xn 2.38645601830060e-6\n",
      "delta 4.45300926181413e-17\n",
      "f_new 8.84220160000000e7 - 1.07063296000000e8*I\n",
      "f_abs_2_new 1.92810022638879e16\n",
      "xn 0.000996567074898881\n",
      "delta -7.91800659083965e-16\n",
      "xn 0.000996567074898881\n",
      "delta -6.53240487273961e-17\n",
      "xn 2.38645601830060e-6\n",
      "delta -3.62418114636099e-17\n",
      "xn 2.38645601830060e-6\n",
      "delta 4.45300926181413e-17\n",
      "f_new 1.32344320000000e8 + 2.07468326400000e9*I\n",
      "f_abs_2_new 4.32182566495796e18\n",
      "xn 0.000996567074898881\n",
      "delta -7.91800659083965e-16\n",
      "xn 0.000996567074898881\n",
      "delta -6.53240487273961e-17\n",
      "xn 2.38645601830060e-6\n",
      "delta -3.62418114636099e-17\n",
      "xn 2.38645601830060e-6\n",
      "delta 4.45300926181413e-17\n",
      "f_new 8.84220160000000e7 - 1.07063296000000e8*I\n",
      "f_abs_2_new 1.92810022638879e16\n"
     ]
    },
    {
     "name": "stdout",
     "output_type": "stream",
     "text": [
      "xn 0.000996567074898881\n",
      "delta -7.91800659083965e-16\n",
      "xn 0.000996567074898881\n",
      "delta -6.53240487273961e-17\n",
      "xn 2.38645601830060e-6\n",
      "delta -3.62418114636099e-17\n",
      "xn 2.38645601830060e-6\n",
      "delta 4.45300926181413e-17\n",
      "f_new 1.32344320000000e8 + 2.07468326400000e9*I\n",
      "f_abs_2_new 4.32182566495796e18\n",
      "xn 0.000996567074898881\n",
      "delta -7.91800659083965e-16\n",
      "xn 0.000996567074898881\n",
      "delta -6.53240487273961e-17\n",
      "xn 2.38645601830060e-6\n",
      "delta -3.62418114636099e-17\n",
      "xn 2.38645601830060e-6\n",
      "delta 4.45300926181413e-17\n",
      "f_new 8.84220160000000e7 - 1.07063296000000e8*I\n",
      "f_abs_2_new 1.92810022638879e16\n",
      "xn 0.000996567074898881\n",
      "delta -7.91800659083965e-16\n",
      "xn 0.000996567074898881\n",
      "delta -6.53240487273961e-17\n",
      "xn 2.38645601830060e-6\n",
      "delta -3.62418114636099e-17\n",
      "xn 2.38645601830060e-6\n",
      "delta 4.45300926181413e-17\n",
      "f_new 1.32344320000000e8 + 2.07468326400000e9*I\n",
      "f_abs_2_new 4.32182566495796e18\n",
      "xn 0.000996567074898881\n",
      "delta -7.91800659083965e-16\n",
      "xn 0.000996567074898881\n",
      "delta -6.53240487273961e-17\n",
      "xn 2.38645601830060e-6\n",
      "delta -3.62418114636099e-17\n",
      "xn 2.38645601830060e-6\n",
      "delta 4.45300926181413e-17\n",
      "f_new 8.84220160000000e7 - 1.07063296000000e8*I\n",
      "f_abs_2_new 1.92810022638879e16\n",
      "xn 0.000996567074898881\n",
      "delta -7.91800659083965e-16\n",
      "xn 0.000996567074898881\n",
      "delta -6.53240487273961e-17\n",
      "xn 2.38645601830060e-6\n",
      "delta -3.62418114636099e-17\n",
      "xn 2.38645601830060e-6\n",
      "delta 4.45300926181413e-17\n",
      "f_new 1.32344320000000e8 + 2.07468326400000e9*I\n",
      "f_abs_2_new 4.32182566495796e18\n",
      "xn 0.000996567074898881\n",
      "delta -7.91800659083965e-16\n",
      "xn 0.000996567074898881\n",
      "delta -6.53240487273961e-17\n",
      "xn 2.38645601830060e-6\n",
      "delta -3.62418114636099e-17\n",
      "xn 2.38645601830060e-6\n",
      "delta 4.45300926181413e-17\n",
      "f_new 8.84220160000000e7 - 1.07063296000000e8*I\n",
      "f_abs_2_new 1.92810022638879e16\n",
      "xn 0.000996567074898881\n",
      "delta -7.91800659083965e-16\n",
      "xn 0.000996567074898881\n",
      "delta -6.53240487273961e-17\n",
      "xn 2.38645601830060e-6\n",
      "delta -3.62418114636099e-17\n",
      "xn 2.38645601830060e-6\n",
      "delta 4.45300926181413e-17\n",
      "f_new 1.32344320000000e8 + 2.07468326400000e9*I\n",
      "f_abs_2_new 4.32182566495796e18\n",
      "xn 0.000996567074898881\n",
      "delta -7.91800659083965e-16\n",
      "xn 0.000996567074898881\n",
      "delta -6.53240487273961e-17\n",
      "xn 2.38645601830060e-6\n",
      "delta -3.62418114636099e-17\n",
      "xn 2.38645601830060e-6\n",
      "delta 4.45300926181413e-17\n",
      "f_new 8.84220160000000e7 - 1.07063296000000e8*I\n",
      "f_abs_2_new 1.92810022638879e16\n",
      "xn 0.000996567074898881\n",
      "delta -7.91800659083965e-16\n",
      "xn 0.000996567074898881\n",
      "delta -6.53240487273961e-17\n",
      "xn 2.38645601830060e-6\n",
      "delta -3.62418114636099e-17\n",
      "xn 2.38645601830060e-6\n",
      "delta 4.45300926181413e-17\n",
      "f_new 1.32344320000000e8 + 2.07468326400000e9*I\n",
      "f_abs_2_new 4.32182566495796e18\n",
      "xn 0.000996567074898881\n",
      "delta -7.91800659083965e-16\n",
      "xn 0.000996567074898881\n",
      "delta -6.53240487273961e-17\n",
      "xn 2.38645601830060e-6\n",
      "delta -3.62418114636099e-17\n",
      "xn 2.38645601830060e-6\n",
      "delta 4.45300926181413e-17\n",
      "f_new 8.84220160000000e7 - 1.07063296000000e8*I\n",
      "f_abs_2_new 1.92810022638879e16\n",
      "xn 0.000996567074898881\n",
      "delta -7.91800659083965e-16\n",
      "xn 0.000996567074898881\n",
      "delta -6.53240487273961e-17\n",
      "xn 2.38645601830060e-6\n",
      "delta -3.62418114636099e-17\n",
      "xn 2.38645601830060e-6\n",
      "delta 4.45300926181413e-17\n",
      "f_new 1.32344320000000e8 + 2.07468326400000e9*I\n",
      "f_abs_2_new 4.32182566495796e18\n",
      "xn 0.000996567074898881\n",
      "delta -7.91800659083965e-16\n",
      "xn 0.000996567074898881\n",
      "delta -6.53240487273961e-17\n",
      "xn 2.38645601830060e-6\n",
      "delta -3.62418114636099e-17\n",
      "xn 2.38645601830060e-6\n",
      "delta 4.45300926181413e-17\n",
      "f_new 8.84220160000000e7 - 1.07063296000000e8*I\n",
      "f_abs_2_new 1.92810022638879e16\n",
      "xn 0.000996567074898881\n",
      "delta -7.91800659083965e-16\n",
      "xn 0.000996567074898881\n",
      "delta -6.53240487273961e-17\n",
      "xn 2.38645601830060e-6\n",
      "delta -3.62418114636099e-17\n",
      "xn 2.38645601830060e-6\n",
      "delta 4.45300926181413e-17\n",
      "f_new 1.32344320000000e8 + 2.07468326400000e9*I\n",
      "f_abs_2_new 4.32182566495796e18\n",
      "xn 0.000996567074898881\n",
      "delta -7.91800659083965e-16\n",
      "xn 0.000996567074898881\n",
      "delta -6.53240487273961e-17\n",
      "xn 2.38645601830060e-6\n",
      "delta -3.62418114636099e-17\n",
      "xn 2.38645601830060e-6\n",
      "delta 4.45300926181413e-17\n",
      "f_new 8.84220160000000e7 - 1.07063296000000e8*I\n",
      "f_abs_2_new 1.92810022638879e16\n",
      "xn 0.000996567074898881\n",
      "delta -7.91800659083965e-16\n",
      "xn 0.000996567074898881\n",
      "delta -6.53240487273961e-17\n",
      "xn 2.38645601830060e-6\n",
      "delta -3.62418114636099e-17\n",
      "xn 2.38645601830060e-6\n",
      "delta 4.45300926181413e-17\n",
      "f_new 1.32344320000000e8 + 2.07468326400000e9*I\n",
      "f_abs_2_new 4.32182566495796e18\n",
      "xn 0.000996567074898881\n",
      "delta -7.91800659083965e-16\n",
      "xn 0.000996567074898881\n",
      "delta -6.53240487273961e-17\n",
      "xn 2.38645601830060e-6\n",
      "delta -3.62418114636099e-17\n",
      "xn 2.38645601830060e-6\n",
      "delta 4.45300926181413e-17\n",
      "f_new 8.84220160000000e7 - 1.07063296000000e8*I\n",
      "f_abs_2_new 1.92810022638879e16\n",
      "xn 0.000996567074898881\n",
      "delta -7.91800659083965e-16\n",
      "xn 0.000996567074898881\n",
      "delta -6.53240487273961e-17\n",
      "xn 2.38645601830060e-6\n",
      "delta -3.62418114636099e-17\n",
      "xn 2.38645601830060e-6\n",
      "delta 4.45300926181413e-17\n",
      "f_new 1.32344320000000e8 + 2.07468326400000e9*I\n",
      "f_abs_2_new 4.32182566495796e18\n",
      "xn 0.000996567074898881\n",
      "delta -7.91800659083965e-16\n",
      "xn 0.000996567074898881\n",
      "delta -6.53240487273961e-17\n",
      "xn 2.38645601830060e-6\n",
      "delta -3.62418114636099e-17\n",
      "xn 2.38645601830060e-6\n",
      "delta 4.45300926181413e-17\n",
      "f_new 8.84220160000000e7 - 1.07063296000000e8*I\n",
      "f_abs_2_new 1.92810022638879e16\n",
      "xn 0.000996567074898881\n",
      "delta -7.91800659083965e-16\n",
      "xn 0.000996567074898881\n",
      "delta -6.53240487273961e-17\n",
      "xn 2.38645601830060e-6\n",
      "delta -3.62418114636099e-17\n",
      "xn 2.38645601830060e-6\n",
      "delta 4.45300926181413e-17\n",
      "f_new 1.32344320000000e8 + 2.07468326400000e9*I\n",
      "f_abs_2_new 4.32182566495796e18\n",
      "xn 0.000996567074898881\n",
      "delta -7.91800659083965e-16\n",
      "xn 0.000996567074898881\n",
      "delta -6.53240487273961e-17\n",
      "xn 2.38645601830060e-6\n",
      "delta -3.62418114636099e-17\n",
      "xn 2.38645601830060e-6\n",
      "delta 4.45300926181413e-17\n",
      "f_new 8.84220160000000e7 - 1.07063296000000e8*I\n",
      "f_abs_2_new 1.92810022638879e16\n",
      "xn 0.000996567074898881\n",
      "delta -7.91800659083965e-16\n",
      "xn 0.000996567074898881\n",
      "delta -6.53240487273961e-17\n",
      "xn 2.38645601830060e-6\n",
      "delta -3.62418114636099e-17\n",
      "xn 2.38645601830060e-6\n",
      "delta 4.45300926181413e-17\n",
      "f_new 1.32344320000000e8 + 2.07468326400000e9*I\n",
      "f_abs_2_new 4.32182566495796e18\n",
      "xn 0.000996567074898881\n",
      "delta -7.91800659083965e-16\n",
      "xn 0.000996567074898881\n",
      "delta -6.53240487273961e-17\n",
      "xn 2.38645601830060e-6\n",
      "delta -3.62418114636099e-17\n",
      "xn 2.38645601830060e-6\n",
      "delta 4.45300926181413e-17\n",
      "f_new 8.84220160000000e7 - 1.07063296000000e8*I\n",
      "f_abs_2_new 1.92810022638879e16\n",
      "xn 0.000996567074898881\n",
      "delta -7.91800659083965e-16\n",
      "xn 0.000996567074898881\n",
      "delta -6.53240487273961e-17\n",
      "xn 2.38645601830060e-6\n",
      "delta -3.62418114636099e-17\n",
      "xn 2.38645601830060e-6\n",
      "delta 4.45300926181413e-17\n",
      "f_new 1.32344320000000e8 + 2.07468326400000e9*I\n",
      "f_abs_2_new 4.32182566495796e18\n",
      "xn 0.000996567074898881\n",
      "delta -7.91800659083965e-16\n",
      "xn 0.000996567074898881\n",
      "delta -6.53240487273961e-17\n",
      "xn 2.38645601830060e-6\n",
      "delta -3.62418114636099e-17\n",
      "xn 2.38645601830060e-6\n",
      "delta 4.45300926181413e-17\n",
      "f_new 8.84220160000000e7 - 1.07063296000000e8*I\n",
      "f_abs_2_new 1.92810022638879e16\n",
      "xn 0.000996567074898881\n",
      "delta -7.91800659083965e-16\n",
      "xn 0.000996567074898881\n",
      "delta -6.53240487273961e-17\n",
      "xn 2.38645601830060e-6\n",
      "delta -3.62418114636099e-17\n",
      "xn 2.38645601830060e-6\n",
      "delta 4.45300926181413e-17\n",
      "f_new 1.32344320000000e8 + 2.07468326400000e9*I\n",
      "f_abs_2_new 4.32182566495796e18\n",
      "xn 0.000996567074898881\n",
      "delta -7.91800659083965e-16\n",
      "xn 0.000996567074898881\n",
      "delta -6.53240487273961e-17\n",
      "xn 2.38645601830060e-6\n",
      "delta -3.62418114636099e-17\n",
      "xn 2.38645601830060e-6\n",
      "delta 4.45300926181413e-17\n",
      "f_new 8.84220160000000e7 - 1.07063296000000e8*I\n",
      "f_abs_2_new 1.92810022638879e16\n",
      "xn 0.000996567074898881\n",
      "delta -7.91800659083965e-16\n",
      "xn 0.000996567074898881\n",
      "delta -6.53240487273961e-17\n",
      "xn 2.38645601830060e-6\n",
      "delta -3.62418114636099e-17\n",
      "xn 2.38645601830060e-6\n",
      "delta 4.45300926181413e-17\n",
      "f_new 1.32344320000000e8 + 2.07468326400000e9*I\n",
      "f_abs_2_new 4.32182566495796e18\n",
      "xn 0.000996567074898881\n",
      "delta -7.91800659083965e-16\n",
      "xn 0.000996567074898881\n",
      "delta -6.53240487273961e-17\n",
      "xn 2.38645601830060e-6\n",
      "delta -3.62418114636099e-17\n",
      "xn 2.38645601830060e-6\n",
      "delta 4.45300926181413e-17\n",
      "f_new 8.84220160000000e7 - 1.07063296000000e8*I\n",
      "f_abs_2_new 1.92810022638879e16\n",
      "xn 0.000996567074898881\n",
      "delta -7.91800659083965e-16\n",
      "xn 0.000996567074898881\n",
      "delta -6.53240487273961e-17\n",
      "xn 2.38645601830060e-6\n",
      "delta -3.62418114636099e-17\n",
      "xn 2.38645601830060e-6\n",
      "delta 4.45300926181413e-17\n",
      "f_new 1.32344320000000e8 + 2.07468326400000e9*I\n",
      "f_abs_2_new 4.32182566495796e18\n"
     ]
    },
    {
     "name": "stdout",
     "output_type": "stream",
     "text": [
      "xn 0.000996567074898881\n",
      "delta -7.91800659083965e-16\n",
      "xn 0.000996567074898881\n",
      "delta -6.53240487273961e-17\n",
      "xn 2.38645601830060e-6\n",
      "delta -3.62418114636099e-17\n",
      "xn 2.38645601830060e-6\n",
      "delta 4.45300926181413e-17\n",
      "f_new 8.84220160000000e7 - 1.07063296000000e8*I\n",
      "f_abs_2_new 1.92810022638879e16\n",
      "xn 0.000996567074898881\n",
      "delta -7.91800659083965e-16\n",
      "xn 0.000996567074898881\n",
      "delta -6.53240487273961e-17\n",
      "xn 2.38645601830060e-6\n",
      "delta -3.62418114636099e-17\n",
      "xn 2.38645601830060e-6\n",
      "delta 4.45300926181413e-17\n",
      "f_new 1.32344320000000e8 + 2.07468326400000e9*I\n",
      "f_abs_2_new 4.32182566495796e18\n",
      "xn 0.000996567074898881\n",
      "delta -7.91800659083965e-16\n",
      "xn 0.000996567074898881\n",
      "delta -6.53240487273961e-17\n",
      "xn 2.38645601830060e-6\n",
      "delta -3.62418114636099e-17\n",
      "xn 2.38645601830060e-6\n",
      "delta 4.45300926181413e-17\n",
      "f_new 8.84220160000000e7 - 1.07063296000000e8*I\n",
      "f_abs_2_new 1.92810022638879e16\n",
      "xn 0.000996567074898881\n",
      "delta -7.91800659083965e-16\n",
      "xn 0.000996567074898881\n",
      "delta -6.53240487273961e-17\n",
      "xn 2.38645601830060e-6\n",
      "delta -3.62418114636099e-17\n",
      "xn 2.38645601830060e-6\n",
      "delta 4.45300926181413e-17\n",
      "f_new 1.32344320000000e8 + 2.07468326400000e9*I\n",
      "f_abs_2_new 4.32182566495796e18\n",
      "xn 0.000996567074898881\n",
      "delta -7.91800659083965e-16\n",
      "xn 0.000996567074898881\n",
      "delta -6.53240487273961e-17\n",
      "xn 2.38645601830060e-6\n",
      "delta -3.62418114636099e-17\n",
      "xn 2.38645601830060e-6\n",
      "delta 4.45300926181413e-17\n",
      "f_new 8.84220160000000e7 - 1.07063296000000e8*I\n",
      "f_abs_2_new 1.92810022638879e16\n",
      "xn 0.000996567074898881\n",
      "delta -7.91800659083965e-16\n",
      "xn 0.000996567074898881\n",
      "delta -6.53240487273961e-17\n",
      "xn 2.38645601830060e-6\n",
      "delta -3.62418114636099e-17\n",
      "xn 2.38645601830060e-6\n",
      "delta 4.45300926181413e-17\n",
      "f_new 1.32344320000000e8 + 2.07468326400000e9*I\n",
      "f_abs_2_new 4.32182566495796e18\n",
      "xn 0.000996567074898881\n",
      "delta -7.91800659083965e-16\n",
      "xn 0.000996567074898881\n",
      "delta -6.53240487273961e-17\n",
      "xn 2.38645601830060e-6\n",
      "delta -3.62418114636099e-17\n",
      "xn 2.38645601830060e-6\n",
      "delta 4.45300926181413e-17\n",
      "f_new 8.84220160000000e7 - 1.07063296000000e8*I\n",
      "f_abs_2_new 1.92810022638879e16\n",
      "xn 0.000996567074898881\n",
      "delta -7.91800659083965e-16\n",
      "xn 0.000996567074898881\n",
      "delta -6.53240487273961e-17\n",
      "xn 2.38645601830060e-6\n",
      "delta -3.62418114636099e-17\n",
      "xn 2.38645601830060e-6\n",
      "delta 4.45300926181413e-17\n",
      "f_new 1.32344320000000e8 + 2.07468326400000e9*I\n",
      "f_abs_2_new 4.32182566495796e18\n",
      "xn 0.000996567074898881\n",
      "delta -7.91800659083965e-16\n",
      "xn 0.000996567074898881\n",
      "delta -6.53240487273961e-17\n",
      "xn 2.38645601830060e-6\n",
      "delta -3.62418114636099e-17\n",
      "xn 2.38645601830060e-6\n",
      "delta 4.45300926181413e-17\n",
      "f_new 8.84220160000000e7 - 1.07063296000000e8*I\n",
      "f_abs_2_new 1.92810022638879e16\n",
      "xn 0.000996567074898881\n",
      "delta -7.91800659083965e-16\n",
      "xn 0.000996567074898881\n",
      "delta -6.53240487273961e-17\n",
      "xn 2.38645601830060e-6\n",
      "delta -3.62418114636099e-17\n",
      "xn 2.38645601830060e-6\n",
      "delta 4.45300926181413e-17\n",
      "f_new 1.32344320000000e8 + 2.07468326400000e9*I\n",
      "f_abs_2_new 4.32182566495796e18\n",
      "xn 0.000996567074898881\n",
      "delta -7.91800659083965e-16\n",
      "xn 0.000996567074898881\n",
      "delta -6.53240487273961e-17\n",
      "xn 2.38645601830060e-6\n",
      "delta -3.62418114636099e-17\n",
      "xn 2.38645601830060e-6\n",
      "delta 4.45300926181413e-17\n",
      "f_new 8.84220160000000e7 - 1.07063296000000e8*I\n",
      "f_abs_2_new 1.92810022638879e16\n",
      "xn 0.000996567074898881\n",
      "delta -7.91800659083965e-16\n",
      "xn 0.000996567074898881\n",
      "delta -6.53240487273961e-17\n",
      "xn 2.38645601830060e-6\n",
      "delta -3.62418114636099e-17\n",
      "xn 2.38645601830060e-6\n",
      "delta 4.45300926181413e-17\n",
      "f_new 1.32344320000000e8 + 2.07468326400000e9*I\n",
      "f_abs_2_new 4.32182566495796e18\n",
      "xn 0.000996567074898881\n",
      "delta -7.91800659083965e-16\n",
      "xn 0.000996567074898881\n",
      "delta -6.53240487273961e-17\n",
      "xn 2.38645601830060e-6\n",
      "delta -3.62418114636099e-17\n",
      "xn 2.38645601830060e-6\n",
      "delta 4.45300926181413e-17\n",
      "f_new 8.84220160000000e7 - 1.07063296000000e8*I\n",
      "f_abs_2_new 1.92810022638879e16\n",
      "xn 0.000996567074898881\n",
      "delta -7.91800659083965e-16\n",
      "xn 0.000996567074898881\n",
      "delta -6.53240487273961e-17\n",
      "xn 2.38645601830060e-6\n",
      "delta -3.62418114636099e-17\n",
      "xn 2.38645601830060e-6\n",
      "delta 4.45300926181413e-17\n",
      "f_new 1.32344320000000e8 + 2.07468326400000e9*I\n",
      "f_abs_2_new 4.32182566495796e18\n",
      "xn 0.000996567074898881\n",
      "delta -7.91800659083965e-16\n",
      "xn 0.000996567074898881\n",
      "delta -6.53240487273961e-17\n",
      "xn 2.38645601830060e-6\n",
      "delta -3.62418114636099e-17\n",
      "xn 2.38645601830060e-6\n",
      "delta 4.45300926181413e-17\n",
      "f_new 8.84220160000000e7 - 1.07063296000000e8*I\n",
      "f_abs_2_new 1.92810022638879e16\n",
      "xn 0.000996567074898881\n",
      "delta -7.91800659083965e-16\n",
      "xn 0.000996567074898881\n",
      "delta -6.53240487273961e-17\n",
      "xn 2.38645601830060e-6\n",
      "delta -3.62418114636099e-17\n",
      "xn 2.38645601830060e-6\n",
      "delta 4.45300926181413e-17\n",
      "f_new 1.32344320000000e8 + 2.07468326400000e9*I\n",
      "f_abs_2_new 4.32182566495796e18\n",
      "xn 0.000996567074898881\n",
      "delta -7.91800659083965e-16\n",
      "xn 0.000996567074898881\n",
      "delta -6.53240487273961e-17\n",
      "xn 2.38645601830060e-6\n",
      "delta -3.62418114636099e-17\n",
      "xn 2.38645601830060e-6\n",
      "delta 4.45300926181413e-17\n",
      "f_new 8.84220160000000e7 - 1.07063296000000e8*I\n",
      "f_abs_2_new 1.92810022638879e16\n",
      "xn 0.000996567074898881\n",
      "delta -7.91800659083965e-16\n",
      "xn 0.000996567074898881\n",
      "delta -6.53240487273961e-17\n",
      "xn 2.38645601830060e-6\n",
      "delta -3.62418114636099e-17\n",
      "xn 2.38645601830060e-6\n",
      "delta 4.45300926181413e-17\n",
      "f_new 1.32344320000000e8 + 2.07468326400000e9*I\n",
      "f_abs_2_new 4.32182566495796e18\n",
      "xn 0.000996567074898881\n",
      "delta -7.91800659083965e-16\n",
      "xn 0.000996567074898881\n",
      "delta -6.53240487273961e-17\n",
      "xn 2.38645601830060e-6\n",
      "delta -3.62418114636099e-17\n",
      "xn 2.38645601830060e-6\n",
      "delta 4.45300926181413e-17\n",
      "f_new 8.84220160000000e7 - 1.07063296000000e8*I\n",
      "f_abs_2_new 1.92810022638879e16\n",
      "xn 0.000996567074898881\n",
      "delta -7.91800659083965e-16\n",
      "xn 0.000996567074898881\n",
      "delta -6.53240487273961e-17\n",
      "xn 2.38645601830060e-6\n",
      "delta -3.62418114636099e-17\n",
      "xn 2.38645601830060e-6\n",
      "delta 4.45300926181413e-17\n",
      "f_new 1.32344320000000e8 + 2.07468326400000e9*I\n",
      "f_abs_2_new 4.32182566495796e18\n",
      "xn 0.000996567074898881\n",
      "delta -7.91800659083965e-16\n",
      "xn 0.000996567074898881\n",
      "delta -6.53240487273961e-17\n",
      "xn 2.38645601830060e-6\n",
      "delta -3.62418114636099e-17\n",
      "xn 2.38645601830060e-6\n",
      "delta 4.45300926181413e-17\n",
      "f_new 8.84220160000000e7 - 1.07063296000000e8*I\n",
      "f_abs_2_new 1.92810022638879e16\n",
      "xn 0.000996567074898881\n",
      "delta -7.91800659083965e-16\n",
      "xn 0.000996567074898881\n",
      "delta -6.53240487273961e-17\n",
      "xn 2.38645601830060e-6\n",
      "delta -3.62418114636099e-17\n",
      "xn 2.38645601830060e-6\n",
      "delta 4.45300926181413e-17\n",
      "f_new 1.32344320000000e8 + 2.07468326400000e9*I\n",
      "f_abs_2_new 4.32182566495796e18\n",
      "xn 0.000996567074898881\n",
      "delta -7.91800659083965e-16\n",
      "xn 0.000996567074898881\n",
      "delta -6.53240487273961e-17\n",
      "xn 2.38645601830060e-6\n",
      "delta -3.62418114636099e-17\n",
      "xn 2.38645601830060e-6\n",
      "delta 4.45300926181413e-17\n",
      "f_new 8.84220160000000e7 - 1.07063296000000e8*I\n",
      "f_abs_2_new 1.92810022638879e16\n",
      "xn 0.000996567074898881\n",
      "delta -7.91800659083965e-16\n",
      "xn 0.000996567074898881\n",
      "delta -6.53240487273961e-17\n",
      "xn 2.38645601830060e-6\n",
      "delta -3.62418114636099e-17\n",
      "xn 2.38645601830060e-6\n",
      "delta 4.45300926181413e-17\n",
      "f_new 1.32344320000000e8 + 2.07468326400000e9*I\n",
      "f_abs_2_new 4.32182566495796e18\n",
      "xn 0.000996567074898881\n",
      "delta -7.91800659083965e-16\n",
      "xn 0.000996567074898881\n",
      "delta -6.53240487273961e-17\n",
      "xn 2.38645601830060e-6\n",
      "delta -3.62418114636099e-17\n",
      "xn 2.38645601830060e-6\n",
      "delta 4.45300926181413e-17\n",
      "f_new 8.84220160000000e7 - 1.07063296000000e8*I\n",
      "f_abs_2_new 1.92810022638879e16\n",
      "xn 0.000996567074898881\n",
      "delta -7.91800659083965e-16\n",
      "xn 0.000996567074898881\n",
      "delta -6.53240487273961e-17\n",
      "xn 2.38645601830060e-6\n",
      "delta -3.62418114636099e-17\n",
      "xn 2.38645601830060e-6\n",
      "delta 4.45300926181413e-17\n",
      "f_new 1.32344320000000e8 + 2.07468326400000e9*I\n",
      "f_abs_2_new 4.32182566495796e18\n",
      "xn 0.000996567074898881\n",
      "delta -7.91800659083965e-16\n",
      "xn 0.000996567074898881\n",
      "delta -6.53240487273961e-17\n",
      "xn 2.38645601830060e-6\n",
      "delta -3.62418114636099e-17\n",
      "xn 2.38645601830060e-6\n",
      "delta 4.45300926181413e-17\n",
      "f_new 8.84220160000000e7 - 1.07063296000000e8*I\n",
      "f_abs_2_new 1.92810022638879e16\n",
      "xn 0.000996567074898881\n",
      "delta -7.91800659083965e-16\n",
      "xn 0.000996567074898881\n",
      "delta -6.53240487273961e-17\n",
      "xn 2.38645601830060e-6\n",
      "delta -3.62418114636099e-17\n",
      "xn 2.38645601830060e-6\n",
      "delta 4.45300926181413e-17\n",
      "f_new 1.32344320000000e8 + 2.07468326400000e9*I\n",
      "f_abs_2_new 4.32182566495796e18\n",
      "xn 0.000996567074898881\n",
      "delta -7.91800659083965e-16\n",
      "xn 0.000996567074898881\n",
      "delta -6.53240487273961e-17\n",
      "xn 2.38645601830060e-6\n",
      "delta -3.62418114636099e-17\n",
      "xn 2.38645601830060e-6\n",
      "delta 4.45300926181413e-17\n",
      "f_new 8.84220160000000e7 - 1.07063296000000e8*I\n",
      "f_abs_2_new 1.92810022638879e16\n"
     ]
    },
    {
     "name": "stdout",
     "output_type": "stream",
     "text": [
      "xn 0.000996567074898881\n",
      "delta -7.91800659083965e-16\n",
      "xn 0.000996567074898881\n",
      "delta -6.53240487273961e-17\n",
      "xn 2.38645601830060e-6\n",
      "delta -3.62418114636099e-17\n",
      "xn 2.38645601830060e-6\n",
      "delta 4.45300926181413e-17\n",
      "f_new 1.32344320000000e8 + 2.07468326400000e9*I\n",
      "f_abs_2_new 4.32182566495796e18\n",
      "xn 0.000996567074898881\n",
      "delta -7.91800659083965e-16\n",
      "xn 0.000996567074898881\n",
      "delta -6.53240487273961e-17\n",
      "xn 2.38645601830060e-6\n",
      "delta -3.62418114636099e-17\n",
      "xn 2.38645601830060e-6\n",
      "delta 4.45300926181413e-17\n",
      "f_new 8.84220160000000e7 - 1.07063296000000e8*I\n",
      "f_abs_2_new 1.92810022638879e16\n",
      "xn 0.000996567074898881\n",
      "delta -7.91800659083965e-16\n",
      "xn 0.000996567074898881\n",
      "delta -6.53240487273961e-17\n",
      "xn 2.38645601830060e-6\n",
      "delta -3.62418114636099e-17\n",
      "xn 2.38645601830060e-6\n",
      "delta 4.45300926181413e-17\n",
      "f_new 1.32344320000000e8 + 2.07468326400000e9*I\n",
      "f_abs_2_new 4.32182566495796e18\n",
      "xn 0.000996567074898881\n",
      "delta -7.91800659083965e-16\n",
      "xn 0.000996567074898881\n",
      "delta -6.53240487273961e-17\n",
      "xn 2.38645601830060e-6\n",
      "delta -3.62418114636099e-17\n",
      "xn 2.38645601830060e-6\n",
      "delta 4.45300926181413e-17\n",
      "f_new 8.84220160000000e7 - 1.07063296000000e8*I\n",
      "f_abs_2_new 1.92810022638879e16\n",
      "xn 0.000996567074898881\n",
      "delta -7.91800659083965e-16\n",
      "xn 0.000996567074898881\n",
      "delta -6.53240487273961e-17\n",
      "xn 2.38645601830060e-6\n",
      "delta -3.62418114636099e-17\n",
      "xn 2.38645601830060e-6\n",
      "delta 4.45300926181413e-17\n",
      "f_new 1.32344320000000e8 + 2.07468326400000e9*I\n",
      "f_abs_2_new 4.32182566495796e18\n",
      "xn 0.000996567074898881\n",
      "delta -7.91800659083965e-16\n",
      "xn 0.000996567074898881\n",
      "delta -6.53240487273961e-17\n",
      "xn 2.38645601830060e-6\n",
      "delta -3.62418114636099e-17\n",
      "xn 2.38645601830060e-6\n",
      "delta 4.45300926181413e-17\n",
      "f_new 8.84220160000000e7 - 1.07063296000000e8*I\n",
      "f_abs_2_new 1.92810022638879e16\n",
      "xn 0.000996567074898881\n",
      "delta -7.91800659083965e-16\n",
      "xn 0.000996567074898881\n",
      "delta -6.53240487273961e-17\n",
      "xn 2.38645601830060e-6\n",
      "delta -3.62418114636099e-17\n",
      "xn 2.38645601830060e-6\n",
      "delta 4.45300926181413e-17\n",
      "f_new 1.32344320000000e8 + 2.07468326400000e9*I\n",
      "f_abs_2_new 4.32182566495796e18\n",
      "xn 0.000996567074898881\n",
      "delta -7.91800659083965e-16\n",
      "xn 0.000996567074898881\n",
      "delta -6.53240487273961e-17\n",
      "xn 2.38645601830060e-6\n",
      "delta -3.62418114636099e-17\n",
      "xn 2.38645601830060e-6\n",
      "delta 4.45300926181413e-17\n",
      "f_new 8.84220160000000e7 - 1.07063296000000e8*I\n",
      "f_abs_2_new 1.92810022638879e16\n",
      "xn 0.000996567074898881\n",
      "delta -7.91800659083965e-16\n",
      "xn 0.000996567074898881\n",
      "delta -6.53240487273961e-17\n",
      "xn 2.38645601830060e-6\n",
      "delta -3.62418114636099e-17\n",
      "xn 2.38645601830060e-6\n",
      "delta 4.45300926181413e-17\n",
      "f_new 1.32344320000000e8 + 2.07468326400000e9*I\n",
      "f_abs_2_new 4.32182566495796e18\n",
      "xn 0.000996567074898881\n",
      "delta -7.91800659083965e-16\n",
      "xn 0.000996567074898881\n",
      "delta -6.53240487273961e-17\n",
      "xn 2.38645601830060e-6\n",
      "delta -3.62418114636099e-17\n",
      "xn 2.38645601830060e-6\n",
      "delta 4.45300926181413e-17\n",
      "f_new 8.84220160000000e7 - 1.07063296000000e8*I\n",
      "f_abs_2_new 1.92810022638879e16\n",
      "xn 0.000996567074898881\n",
      "delta -7.91800659083965e-16\n",
      "xn 0.000996567074898881\n",
      "delta -6.53240487273961e-17\n",
      "xn 2.38645601830060e-6\n",
      "delta -3.62418114636099e-17\n",
      "xn 2.38645601830060e-6\n",
      "delta 4.45300926181413e-17\n",
      "f_new 1.32344320000000e8 + 2.07468326400000e9*I\n",
      "f_abs_2_new 4.32182566495796e18\n",
      "xn 0.000996567074898881\n",
      "delta -7.91800659083965e-16\n",
      "xn 0.000996567074898881\n",
      "delta -6.53240487273961e-17\n",
      "xn 2.38645601830060e-6\n",
      "delta -3.62418114636099e-17\n",
      "xn 2.38645601830060e-6\n",
      "delta 4.45300926181413e-17\n",
      "f_new 8.84220160000000e7 - 1.07063296000000e8*I\n",
      "f_abs_2_new 1.92810022638879e16\n",
      "xn 0.000996567074898881\n",
      "delta -7.91800659083965e-16\n",
      "xn 0.000996567074898881\n",
      "delta -6.53240487273961e-17\n",
      "xn 2.38645601830060e-6\n",
      "delta -3.62418114636099e-17\n",
      "xn 2.38645601830060e-6\n",
      "delta 4.45300926181413e-17\n",
      "f_new 1.32344320000000e8 + 2.07468326400000e9*I\n",
      "f_abs_2_new 4.32182566495796e18\n",
      "xn 0.000996567074898881\n",
      "delta -7.91800659083965e-16\n",
      "xn 0.000996567074898881\n",
      "delta -6.53240487273961e-17\n",
      "xn 2.38645601830060e-6\n",
      "delta -3.62418114636099e-17\n",
      "xn 2.38645601830060e-6\n",
      "delta 4.45300926181413e-17\n",
      "f_new 8.84220160000000e7 - 1.07063296000000e8*I\n",
      "f_abs_2_new 1.92810022638879e16\n",
      "xn 0.000996567074898881\n",
      "delta -7.91800659083965e-16\n",
      "xn 0.000996567074898881\n",
      "delta -6.53240487273961e-17\n",
      "xn 2.38645601830060e-6\n",
      "delta -3.62418114636099e-17\n",
      "xn 2.38645601830060e-6\n",
      "delta 4.45300926181413e-17\n",
      "f_new 1.32344320000000e8 + 2.07468326400000e9*I\n",
      "f_abs_2_new 4.32182566495796e18\n",
      "xn 0.000996567074898881\n",
      "delta -7.91800659083965e-16\n",
      "xn 0.000996567074898881\n",
      "delta -6.53240487273961e-17\n",
      "xn 2.38645601830060e-6\n",
      "delta -3.62418114636099e-17\n",
      "xn 2.38645601830060e-6\n",
      "delta 4.45300926181413e-17\n",
      "f_new 8.84220160000000e7 - 1.07063296000000e8*I\n",
      "f_abs_2_new 1.92810022638879e16\n",
      "xn 0.000996567074898881\n",
      "delta -7.91800659083965e-16\n",
      "xn 0.000996567074898881\n",
      "delta -6.53240487273961e-17\n",
      "xn 2.38645601830060e-6\n",
      "delta -3.62418114636099e-17\n",
      "xn 2.38645601830060e-6\n",
      "delta 4.45300926181413e-17\n",
      "f_new 1.32344320000000e8 + 2.07468326400000e9*I\n",
      "f_abs_2_new 4.32182566495796e18\n",
      "xn 0.000996567074898881\n",
      "delta -7.91800659083965e-16\n",
      "xn 0.000996567074898881\n",
      "delta -6.53240487273961e-17\n",
      "xn 2.38645601830060e-6\n",
      "delta -3.62418114636099e-17\n",
      "xn 2.38645601830060e-6\n",
      "delta 4.45300926181413e-17\n",
      "f_new 8.84220160000000e7 - 1.07063296000000e8*I\n",
      "f_abs_2_new 1.92810022638879e16\n",
      "xn 0.000996567074898881\n",
      "delta -7.91800659083965e-16\n",
      "xn 0.000996567074898881\n",
      "delta -6.53240487273961e-17\n",
      "xn 2.38645601830060e-6\n",
      "delta -3.62418114636099e-17\n",
      "xn 2.38645601830060e-6\n",
      "delta 4.45300926181413e-17\n",
      "f_new 1.32344320000000e8 + 2.07468326400000e9*I\n",
      "f_abs_2_new 4.32182566495796e18\n",
      "xn 0.000996567074898881\n",
      "delta -7.91800659083965e-16\n",
      "xn 0.000996567074898881\n",
      "delta -6.53240487273961e-17\n",
      "xn 2.38645601830060e-6\n",
      "delta -3.62418114636099e-17\n",
      "xn 2.38645601830060e-6\n",
      "delta 4.45300926181413e-17\n",
      "f_new 8.84220160000000e7 - 1.07063296000000e8*I\n",
      "f_abs_2_new 1.92810022638879e16\n",
      "xn 0.000996567074898881\n",
      "delta -7.91800659083965e-16\n",
      "xn 0.000996567074898881\n",
      "delta -6.53240487273961e-17\n",
      "xn 2.38645601830060e-6\n",
      "delta -3.62418114636099e-17\n",
      "xn 2.38645601830060e-6\n",
      "delta 4.45300926181413e-17\n",
      "f_new 1.32344320000000e8 + 2.07468326400000e9*I\n",
      "f_abs_2_new 4.32182566495796e18\n",
      "xn 0.000996567074898881\n",
      "delta -7.91800659083965e-16\n",
      "xn 0.000996567074898881\n",
      "delta -6.53240487273961e-17\n",
      "xn 2.38645601830060e-6\n",
      "delta -3.62418114636099e-17\n",
      "xn 2.38645601830060e-6\n",
      "delta 4.45300926181413e-17\n",
      "f_new 8.84220160000000e7 - 1.07063296000000e8*I\n",
      "f_abs_2_new 1.92810022638879e16\n",
      "xn 0.000996567074898881\n",
      "delta -7.91800659083965e-16\n",
      "xn 0.000996567074898881\n",
      "delta -6.53240487273961e-17\n",
      "xn 2.38645601830060e-6\n",
      "delta -3.62418114636099e-17\n",
      "xn 2.38645601830060e-6\n",
      "delta 4.45300926181413e-17\n",
      "f_new 1.32344320000000e8 + 2.07468326400000e9*I\n",
      "f_abs_2_new 4.32182566495796e18\n",
      "xn 0.000996567074898881\n",
      "delta -7.91800659083965e-16\n",
      "xn 0.000996567074898881\n",
      "delta -6.53240487273961e-17\n",
      "xn 2.38645601830060e-6\n",
      "delta -3.62418114636099e-17\n",
      "xn 2.38645601830060e-6\n",
      "delta 4.45300926181413e-17\n",
      "f_new 8.84220160000000e7 - 1.07063296000000e8*I\n",
      "f_abs_2_new 1.92810022638879e16\n",
      "xn 0.000996567074898881\n",
      "delta -7.91800659083965e-16\n",
      "xn 0.000996567074898881\n",
      "delta -6.53240487273961e-17\n",
      "xn 2.38645601830060e-6\n",
      "delta -3.62418114636099e-17\n",
      "xn 2.38645601830060e-6\n",
      "delta 4.45300926181413e-17\n",
      "f_new 1.32344320000000e8 + 2.07468326400000e9*I\n",
      "f_abs_2_new 4.32182566495796e18\n",
      "xn 0.000996567074898881\n",
      "delta -7.91800659083965e-16\n",
      "xn 0.000996567074898881\n",
      "delta -6.53240487273961e-17\n",
      "xn 2.38645601830060e-6\n",
      "delta -3.62418114636099e-17\n",
      "xn 2.38645601830060e-6\n",
      "delta 4.45300926181413e-17\n",
      "f_new 8.84220160000000e7 - 1.07063296000000e8*I\n",
      "f_abs_2_new 1.92810022638879e16\n",
      "xn 0.000996567074898881\n",
      "delta -7.91800659083965e-16\n",
      "xn 0.000996567074898881\n",
      "delta -6.53240487273961e-17\n",
      "xn 2.38645601830060e-6\n",
      "delta -3.62418114636099e-17\n",
      "xn 2.38645601830060e-6\n",
      "delta 4.45300926181413e-17\n",
      "f_new 1.32344320000000e8 + 2.07468326400000e9*I\n",
      "f_abs_2_new 4.32182566495796e18\n",
      "xn 0.000996567074898881\n",
      "delta -7.91800659083965e-16\n",
      "xn 0.000996567074898881\n",
      "delta -6.53240487273961e-17\n",
      "xn 2.38645601830060e-6\n",
      "delta -3.62418114636099e-17\n",
      "xn 2.38645601830060e-6\n",
      "delta 4.45300926181413e-17\n",
      "f_new 8.84220160000000e7 - 1.07063296000000e8*I\n",
      "f_abs_2_new 1.92810022638879e16\n",
      "xn 0.000996567074898881\n",
      "delta -7.91800659083965e-16\n",
      "xn 0.000996567074898881\n",
      "delta -6.53240487273961e-17\n",
      "xn 2.38645601830060e-6\n",
      "delta -3.62418114636099e-17\n",
      "xn 2.38645601830060e-6\n",
      "delta 4.45300926181413e-17\n",
      "f_new 1.32344320000000e8 + 2.07468326400000e9*I\n",
      "f_abs_2_new 4.32182566495796e18\n"
     ]
    },
    {
     "name": "stdout",
     "output_type": "stream",
     "text": [
      "xn 0.000996567074898881\n",
      "delta -7.91800659083965e-16\n",
      "xn 0.000996567074898881\n",
      "delta -6.53240487273961e-17\n",
      "xn 2.38645601830060e-6\n",
      "delta -3.62418114636099e-17\n",
      "xn 2.38645601830060e-6\n",
      "delta 4.45300926181413e-17\n",
      "f_new 8.84220160000000e7 - 1.07063296000000e8*I\n",
      "f_abs_2_new 1.92810022638879e16\n",
      "xn 0.000996567074898881\n",
      "delta -7.91800659083965e-16\n",
      "xn 0.000996567074898881\n",
      "delta -6.53240487273961e-17\n",
      "xn 2.38645601830060e-6\n",
      "delta -3.62418114636099e-17\n",
      "xn 2.38645601830060e-6\n",
      "delta 4.45300926181413e-17\n",
      "f_new 1.32344320000000e8 + 2.07468326400000e9*I\n",
      "f_abs_2_new 4.32182566495796e18\n",
      "xn 0.000996567074898881\n",
      "delta -7.91800659083965e-16\n",
      "xn 0.000996567074898881\n",
      "delta -6.53240487273961e-17\n",
      "xn 2.38645601830060e-6\n",
      "delta -3.62418114636099e-17\n",
      "xn 2.38645601830060e-6\n",
      "delta 4.45300926181413e-17\n",
      "f_new 8.84220160000000e7 - 1.07063296000000e8*I\n",
      "f_abs_2_new 1.92810022638879e16\n",
      "xn 0.000996567074898881\n",
      "delta -7.91800659083965e-16\n",
      "xn 0.000996567074898881\n",
      "delta -6.53240487273961e-17\n",
      "xn 2.38645601830060e-6\n",
      "delta -3.62418114636099e-17\n",
      "xn 2.38645601830060e-6\n",
      "delta 4.45300926181413e-17\n",
      "f_new 1.32344320000000e8 + 2.07468326400000e9*I\n",
      "f_abs_2_new 4.32182566495796e18\n",
      "xn 0.000996567074898881\n",
      "delta -7.91800659083965e-16\n",
      "xn 0.000996567074898881\n",
      "delta -6.53240487273961e-17\n",
      "xn 2.38645601830060e-6\n",
      "delta -3.62418114636099e-17\n",
      "xn 2.38645601830060e-6\n",
      "delta 4.45300926181413e-17\n",
      "f_new 8.84220160000000e7 - 1.07063296000000e8*I\n",
      "f_abs_2_new 1.92810022638879e16\n",
      "xn 0.000996567074898881\n",
      "delta -7.91800659083965e-16\n",
      "xn 0.000996567074898881\n",
      "delta -6.53240487273961e-17\n",
      "xn 2.38645601830060e-6\n",
      "delta -3.62418114636099e-17\n",
      "xn 2.38645601830060e-6\n",
      "delta 4.45300926181413e-17\n",
      "f_new 1.32344320000000e8 + 2.07468326400000e9*I\n",
      "f_abs_2_new 4.32182566495796e18\n",
      "xn 0.000996567074898881\n",
      "delta -7.91800659083965e-16\n",
      "xn 0.000996567074898881\n",
      "delta -6.53240487273961e-17\n",
      "xn 2.38645601830060e-6\n",
      "delta -3.62418114636099e-17\n",
      "xn 2.38645601830060e-6\n",
      "delta 4.45300926181413e-17\n",
      "f_new 8.84220160000000e7 - 1.07063296000000e8*I\n",
      "f_abs_2_new 1.92810022638879e16\n",
      "xn 0.000996567074898881\n",
      "delta -7.91800659083965e-16\n",
      "xn 0.000996567074898881\n",
      "delta -6.53240487273961e-17\n",
      "xn 2.38645601830060e-6\n",
      "delta -3.62418114636099e-17\n",
      "xn 2.38645601830060e-6\n",
      "delta 4.45300926181413e-17\n",
      "f_new 1.32344320000000e8 + 2.07468326400000e9*I\n",
      "f_abs_2_new 4.32182566495796e18\n",
      "xn 0.000996567074898881\n",
      "delta -7.91800659083965e-16\n",
      "xn 0.000996567074898881\n",
      "delta -6.53240487273961e-17\n",
      "xn 2.38645601830060e-6\n",
      "delta -3.62418114636099e-17\n",
      "xn 2.38645601830060e-6\n",
      "delta 4.45300926181413e-17\n",
      "f_new 8.84220160000000e7 - 1.07063296000000e8*I\n",
      "f_abs_2_new 1.92810022638879e16\n",
      "xn 0.000996567074898881\n",
      "delta -7.91800659083965e-16\n",
      "xn 0.000996567074898881\n",
      "delta -6.53240487273961e-17\n",
      "xn 2.38645601830060e-6\n",
      "delta -3.62418114636099e-17\n",
      "xn 2.38645601830060e-6\n",
      "delta 4.45300926181413e-17\n",
      "f_new 1.32344320000000e8 + 2.07468326400000e9*I\n",
      "f_abs_2_new 4.32182566495796e18\n",
      "xn 0.000996567074898881\n",
      "delta -7.91800659083965e-16\n",
      "xn 0.000996567074898881\n",
      "delta -6.53240487273961e-17\n",
      "xn 2.38645601830060e-6\n",
      "delta -3.62418114636099e-17\n",
      "xn 2.38645601830060e-6\n",
      "delta 4.45300926181413e-17\n",
      "f_new 8.84220160000000e7 - 1.07063296000000e8*I\n",
      "f_abs_2_new 1.92810022638879e16\n",
      "xn 0.000996567074898881\n",
      "delta -7.91800659083965e-16\n",
      "xn 0.000996567074898881\n",
      "delta -6.53240487273961e-17\n",
      "xn 2.38645601830060e-6\n",
      "delta -3.62418114636099e-17\n",
      "xn 2.38645601830060e-6\n",
      "delta 4.45300926181413e-17\n",
      "f_new 1.32344320000000e8 + 2.07468326400000e9*I\n",
      "f_abs_2_new 4.32182566495796e18\n",
      "xn 0.000996567074898881\n",
      "delta -7.91800659083965e-16\n",
      "xn 0.000996567074898881\n",
      "delta -6.53240487273961e-17\n",
      "xn 2.38645601830060e-6\n",
      "delta -3.62418114636099e-17\n",
      "xn 2.38645601830060e-6\n",
      "delta 4.45300926181413e-17\n",
      "f_new 8.84220160000000e7 - 1.07063296000000e8*I\n",
      "f_abs_2_new 1.92810022638879e16\n",
      "xn 0.000996567074898881\n",
      "delta -7.91800659083965e-16\n",
      "xn 0.000996567074898881\n",
      "delta -6.53240487273961e-17\n",
      "xn 2.38645601830060e-6\n",
      "delta -3.62418114636099e-17\n",
      "xn 2.38645601830060e-6\n",
      "delta 4.45300926181413e-17\n",
      "f_new 1.32344320000000e8 + 2.07468326400000e9*I\n",
      "f_abs_2_new 4.32182566495796e18\n",
      "xn 0.000996567074898881\n",
      "delta -7.91800659083965e-16\n",
      "xn 0.000996567074898881\n",
      "delta -6.53240487273961e-17\n",
      "xn 2.38645601830060e-6\n",
      "delta -3.62418114636099e-17\n",
      "xn 2.38645601830060e-6\n",
      "delta 4.45300926181413e-17\n",
      "f_new 8.84220160000000e7 - 1.07063296000000e8*I\n",
      "f_abs_2_new 1.92810022638879e16\n",
      "xn 0.000996567074898881\n",
      "delta -7.91800659083965e-16\n",
      "xn 0.000996567074898881\n",
      "delta -6.53240487273961e-17\n",
      "xn 2.38645601830060e-6\n",
      "delta -3.62418114636099e-17\n",
      "xn 2.38645601830060e-6\n",
      "delta 4.45300926181413e-17\n",
      "f_new 1.32344320000000e8 + 2.07468326400000e9*I\n",
      "f_abs_2_new 4.32182566495796e18\n",
      "xn 0.000996567074898881\n",
      "delta -7.91800659083965e-16\n",
      "xn 0.000996567074898881\n",
      "delta -6.53240487273961e-17\n",
      "xn 2.38645601830060e-6\n",
      "delta -3.62418114636099e-17\n",
      "xn 2.38645601830060e-6\n",
      "delta 4.45300926181413e-17\n",
      "f_new 8.84220160000000e7 - 1.07063296000000e8*I\n",
      "f_abs_2_new 1.92810022638879e16\n",
      "xn 0.000996567074898881\n",
      "delta -7.91800659083965e-16\n",
      "xn 0.000996567074898881\n",
      "delta -6.53240487273961e-17\n",
      "xn 2.38645601830060e-6\n",
      "delta -3.62418114636099e-17\n",
      "xn 2.38645601830060e-6\n",
      "delta 4.45300926181413e-17\n",
      "f_new 1.32344320000000e8 + 2.07468326400000e9*I\n",
      "f_abs_2_new 4.32182566495796e18\n",
      "xn 0.000996567074898881\n",
      "delta -7.91800659083965e-16\n",
      "xn 0.000996567074898881\n",
      "delta -6.53240487273961e-17\n",
      "xn 2.38645601830060e-6\n",
      "delta -3.62418114636099e-17\n",
      "xn 2.38645601830060e-6\n",
      "delta 4.45300926181413e-17\n",
      "f_new 8.84220160000000e7 - 1.07063296000000e8*I\n",
      "f_abs_2_new 1.92810022638879e16\n",
      "xn 0.000996567074898881\n",
      "delta -7.91800659083965e-16\n",
      "xn 0.000996567074898881\n",
      "delta -6.53240487273961e-17\n",
      "xn 2.38645601830060e-6\n",
      "delta -3.62418114636099e-17\n",
      "xn 2.38645601830060e-6\n",
      "delta 4.45300926181413e-17\n",
      "f_new 1.32344320000000e8 + 2.07468326400000e9*I\n",
      "f_abs_2_new 4.32182566495796e18\n",
      "xn 0.000996567074898881\n",
      "delta -7.91800659083965e-16\n",
      "xn 0.000996567074898881\n",
      "delta -6.53240487273961e-17\n",
      "xn 2.38645601830060e-6\n",
      "delta -3.62418114636099e-17\n",
      "xn 2.38645601830060e-6\n",
      "delta 4.45300926181413e-17\n",
      "f_new 8.84220160000000e7 - 1.07063296000000e8*I\n",
      "f_abs_2_new 1.92810022638879e16\n",
      "xn 0.000996567074898881\n",
      "delta -7.91800659083965e-16\n",
      "xn 0.000996567074898881\n",
      "delta -6.53240487273961e-17\n",
      "xn 2.38645601830060e-6\n",
      "delta -3.62418114636099e-17\n",
      "xn 2.38645601830060e-6\n",
      "delta 4.45300926181413e-17\n",
      "f_new 1.32344320000000e8 + 2.07468326400000e9*I\n",
      "f_abs_2_new 4.32182566495796e18\n",
      "xn 0.000996567074898881\n",
      "delta -7.91800659083965e-16\n",
      "xn 0.000996567074898881\n",
      "delta -6.53240487273961e-17\n",
      "xn 2.38645601830060e-6\n",
      "delta -3.62418114636099e-17\n",
      "xn 2.38645601830060e-6\n",
      "delta 4.45300926181413e-17\n",
      "f_new 8.84220160000000e7 - 1.07063296000000e8*I\n",
      "f_abs_2_new 1.92810022638879e16\n",
      "xn 0.000996567074898881\n",
      "delta -7.91800659083965e-16\n",
      "xn 0.000996567074898881\n",
      "delta -6.53240487273961e-17\n",
      "xn 2.38645601830060e-6\n",
      "delta -3.62418114636099e-17\n",
      "xn 2.38645601830060e-6\n",
      "delta 4.45300926181413e-17\n",
      "f_new 1.32344320000000e8 + 2.07468326400000e9*I\n",
      "f_abs_2_new 4.32182566495796e18\n",
      "xn 0.000996567074898881\n",
      "delta -7.91800659083965e-16\n",
      "xn 0.000996567074898881\n",
      "delta -6.53240487273961e-17\n",
      "xn 2.38645601830060e-6\n",
      "delta -3.62418114636099e-17\n",
      "xn 2.38645601830060e-6\n",
      "delta 4.45300926181413e-17\n",
      "f_new 8.84220160000000e7 - 1.07063296000000e8*I\n",
      "f_abs_2_new 1.92810022638879e16\n",
      "xn 0.000996567074898881\n",
      "delta -7.91800659083965e-16\n",
      "xn 0.000996567074898881\n",
      "delta -6.53240487273961e-17\n",
      "xn 2.38645601830060e-6\n",
      "delta -3.62418114636099e-17\n",
      "xn 2.38645601830060e-6\n",
      "delta 4.45300926181413e-17\n",
      "f_new 1.32344320000000e8 + 2.07468326400000e9*I\n",
      "f_abs_2_new 4.32182566495796e18\n",
      "xn 0.000996567074898881\n",
      "delta -7.91800659083965e-16\n",
      "xn 0.000996567074898881\n",
      "delta -6.53240487273961e-17\n",
      "xn 2.38645601830060e-6\n",
      "delta -3.62418114636099e-17\n",
      "xn 2.38645601830060e-6\n",
      "delta 4.45300926181413e-17\n",
      "f_new 8.84220160000000e7 - 1.07063296000000e8*I\n",
      "f_abs_2_new 1.92810022638879e16\n",
      "xn 0.000996567074898881\n",
      "delta -7.91800659083965e-16\n",
      "xn 0.000996567074898881\n",
      "delta -6.53240487273961e-17\n",
      "xn 2.38645601830060e-6\n",
      "delta -3.62418114636099e-17\n",
      "xn 2.38645601830060e-6\n",
      "delta 4.45300926181413e-17\n",
      "f_new 1.32344320000000e8 + 2.07468326400000e9*I\n",
      "f_abs_2_new 4.32182566495796e18\n",
      "xn 0.000996567074898881\n",
      "delta -7.91800659083965e-16\n",
      "xn 0.000996567074898881\n",
      "delta -6.53240487273961e-17\n",
      "xn 2.38645601830060e-6\n",
      "delta -3.62418114636099e-17\n",
      "xn 2.38645601830060e-6\n",
      "delta 4.45300926181413e-17\n",
      "f_new 8.84220160000000e7 - 1.07063296000000e8*I\n",
      "f_abs_2_new 1.92810022638879e16\n"
     ]
    },
    {
     "name": "stdout",
     "output_type": "stream",
     "text": [
      "xn 0.000996567074898881\n",
      "delta -7.91800659083965e-16\n",
      "xn 0.000996567074898881\n",
      "delta -6.53240487273961e-17\n",
      "xn 2.38645601830060e-6\n",
      "delta -3.62418114636099e-17\n",
      "xn 2.38645601830060e-6\n",
      "delta 4.45300926181413e-17\n",
      "f_new 1.32344320000000e8 + 2.07468326400000e9*I\n",
      "f_abs_2_new 4.32182566495796e18\n",
      "xn 0.000996567074898881\n",
      "delta -7.91800659083965e-16\n",
      "xn 0.000996567074898881\n",
      "delta -6.53240487273961e-17\n",
      "xn 2.38645601830060e-6\n",
      "delta -3.62418114636099e-17\n",
      "xn 2.38645601830060e-6\n",
      "delta 4.45300926181413e-17\n",
      "f_new 8.84220160000000e7 - 1.07063296000000e8*I\n",
      "f_abs_2_new 1.92810022638879e16\n",
      "xn 0.000996567074898881\n",
      "delta -7.91800659083965e-16\n",
      "xn 0.000996567074898881\n",
      "delta -6.53240487273961e-17\n",
      "xn 2.38645601830060e-6\n",
      "delta -3.62418114636099e-17\n",
      "xn 2.38645601830060e-6\n",
      "delta 4.45300926181413e-17\n",
      "f_new 1.32344320000000e8 + 2.07468326400000e9*I\n",
      "f_abs_2_new 4.32182566495796e18\n",
      "xn 0.000996567074898881\n",
      "delta -7.91800659083965e-16\n",
      "xn 0.000996567074898881\n",
      "delta -6.53240487273961e-17\n",
      "xn 2.38645601830060e-6\n",
      "delta -3.62418114636099e-17\n",
      "xn 2.38645601830060e-6\n",
      "delta 4.45300926181413e-17\n",
      "f_new 8.84220160000000e7 - 1.07063296000000e8*I\n",
      "f_abs_2_new 1.92810022638879e16\n",
      "xn 0.000996567074898881\n",
      "delta -7.91800659083965e-16\n",
      "xn 0.000996567074898881\n",
      "delta -6.53240487273961e-17\n",
      "xn 2.38645601830060e-6\n",
      "delta -3.62418114636099e-17\n",
      "xn 2.38645601830060e-6\n",
      "delta 4.45300926181413e-17\n",
      "f_new 1.32344320000000e8 + 2.07468326400000e9*I\n",
      "f_abs_2_new 4.32182566495796e18\n",
      "xn 0.000996567074898881\n",
      "delta -7.91800659083965e-16\n",
      "xn 0.000996567074898881\n",
      "delta -6.53240487273961e-17\n",
      "xn 2.38645601830060e-6\n",
      "delta -3.62418114636099e-17\n",
      "xn 2.38645601830060e-6\n",
      "delta 4.45300926181413e-17\n",
      "f_new 8.84220160000000e7 - 1.07063296000000e8*I\n",
      "f_abs_2_new 1.92810022638879e16\n",
      "xn 0.000996567074898881\n",
      "delta -7.91800659083965e-16\n",
      "xn 0.000996567074898881\n",
      "delta -6.53240487273961e-17\n",
      "xn 2.38645601830060e-6\n",
      "delta -3.62418114636099e-17\n",
      "xn 2.38645601830060e-6\n",
      "delta 4.45300926181413e-17\n",
      "f_new 1.32344320000000e8 + 2.07468326400000e9*I\n",
      "f_abs_2_new 4.32182566495796e18\n",
      "xn 0.000996567074898881\n",
      "delta -7.91800659083965e-16\n",
      "xn 0.000996567074898881\n",
      "delta -6.53240487273961e-17\n",
      "xn 2.38645601830060e-6\n",
      "delta -3.62418114636099e-17\n",
      "xn 2.38645601830060e-6\n",
      "delta 4.45300926181413e-17\n",
      "f_new 8.84220160000000e7 - 1.07063296000000e8*I\n",
      "f_abs_2_new 1.92810022638879e16\n",
      "xn 0.000996567074898881\n",
      "delta -7.91800659083965e-16\n",
      "xn 0.000996567074898881\n",
      "delta -6.53240487273961e-17\n",
      "xn 2.38645601830060e-6\n",
      "delta -3.62418114636099e-17\n",
      "xn 2.38645601830060e-6\n",
      "delta 4.45300926181413e-17\n",
      "f_new 1.32344320000000e8 + 2.07468326400000e9*I\n",
      "f_abs_2_new 4.32182566495796e18\n",
      "xn 0.000996567074898881\n",
      "delta -7.91800659083965e-16\n",
      "xn 0.000996567074898881\n",
      "delta -6.53240487273961e-17\n",
      "xn 2.38645601830060e-6\n",
      "delta -3.62418114636099e-17\n",
      "xn 2.38645601830060e-6\n",
      "delta 4.45300926181413e-17\n",
      "f_new 8.84220160000000e7 - 1.07063296000000e8*I\n",
      "f_abs_2_new 1.92810022638879e16\n",
      "xn 0.000996567074898881\n",
      "delta -7.91800659083965e-16\n",
      "xn 0.000996567074898881\n",
      "delta -6.53240487273961e-17\n",
      "xn 2.38645601830060e-6\n",
      "delta -3.62418114636099e-17\n",
      "xn 2.38645601830060e-6\n",
      "delta 4.45300926181413e-17\n",
      "f_new 1.32344320000000e8 + 2.07468326400000e9*I\n",
      "f_abs_2_new 4.32182566495796e18\n",
      "xn 0.000996567074898881\n",
      "delta -7.91800659083965e-16\n",
      "xn 0.000996567074898881\n",
      "delta -6.53240487273961e-17\n",
      "xn 2.38645601830060e-6\n",
      "delta -3.62418114636099e-17\n",
      "xn 2.38645601830060e-6\n",
      "delta 4.45300926181413e-17\n",
      "f_new 8.84220160000000e7 - 1.07063296000000e8*I\n",
      "f_abs_2_new 1.92810022638879e16\n",
      "xn 0.000996567074898881\n",
      "delta -7.91800659083965e-16\n",
      "xn 0.000996567074898881\n",
      "delta -6.53240487273961e-17\n",
      "xn 2.38645601830060e-6\n",
      "delta -3.62418114636099e-17\n",
      "xn 2.38645601830060e-6\n",
      "delta 4.45300926181413e-17\n",
      "f_new 1.32344320000000e8 + 2.07468326400000e9*I\n",
      "f_abs_2_new 4.32182566495796e18\n",
      "xn 0.000996567074898881\n",
      "delta -7.91800659083965e-16\n",
      "xn 0.000996567074898881\n",
      "delta -6.53240487273961e-17\n",
      "xn 2.38645601830060e-6\n",
      "delta -3.62418114636099e-17\n",
      "xn 2.38645601830060e-6\n",
      "delta 4.45300926181413e-17\n",
      "f_new 8.84220160000000e7 - 1.07063296000000e8*I\n",
      "f_abs_2_new 1.92810022638879e16\n",
      "xn 0.000996567074898881\n",
      "delta -7.91800659083965e-16\n",
      "xn 0.000996567074898881\n",
      "delta -6.53240487273961e-17\n",
      "xn 2.38645601830060e-6\n",
      "delta -3.62418114636099e-17\n",
      "xn 2.38645601830060e-6\n",
      "delta 4.45300926181413e-17\n",
      "f_new 1.32344320000000e8 + 2.07468326400000e9*I\n",
      "f_abs_2_new 4.32182566495796e18\n",
      "xn 0.000996567074898881\n",
      "delta -7.91800659083965e-16\n",
      "xn 0.000996567074898881\n",
      "delta -6.53240487273961e-17\n",
      "xn 2.38645601830060e-6\n",
      "delta -3.62418114636099e-17\n",
      "xn 2.38645601830060e-6\n",
      "delta 4.45300926181413e-17\n",
      "f_new 8.84220160000000e7 - 1.07063296000000e8*I\n",
      "f_abs_2_new 1.92810022638879e16\n",
      "xn 0.000996567074898881\n",
      "delta -7.91800659083965e-16\n",
      "xn 0.000996567074898881\n",
      "delta -6.53240487273961e-17\n",
      "xn 2.38645601830060e-6\n",
      "delta -3.62418114636099e-17\n",
      "xn 2.38645601830060e-6\n",
      "delta 4.45300926181413e-17\n",
      "f_new 1.32344320000000e8 + 2.07468326400000e9*I\n",
      "f_abs_2_new 4.32182566495796e18\n",
      "xn 0.000996567074898881\n",
      "delta -7.91800659083965e-16\n",
      "xn 0.000996567074898881\n",
      "delta -6.53240487273961e-17\n",
      "xn 2.38645601830060e-6\n",
      "delta -3.62418114636099e-17\n",
      "xn 2.38645601830060e-6\n",
      "delta 4.45300926181413e-17\n",
      "f_new 8.84220160000000e7 - 1.07063296000000e8*I\n",
      "f_abs_2_new 1.92810022638879e16\n",
      "xn 0.000996567074898881\n",
      "delta -7.91800659083965e-16\n",
      "xn 0.000996567074898881\n",
      "delta -6.53240487273961e-17\n",
      "xn 2.38645601830060e-6\n",
      "delta -3.62418114636099e-17\n",
      "xn 2.38645601830060e-6\n",
      "delta 4.45300926181413e-17\n",
      "f_new 1.32344320000000e8 + 2.07468326400000e9*I\n",
      "f_abs_2_new 4.32182566495796e18\n",
      "xn 0.000996567074898881\n",
      "delta -7.91800659083965e-16\n",
      "xn 0.000996567074898881\n",
      "delta -6.53240487273961e-17\n",
      "xn 2.38645601830060e-6\n",
      "delta -3.62418114636099e-17\n",
      "xn 2.38645601830060e-6\n",
      "delta 4.45300926181413e-17\n",
      "f_new 8.84220160000000e7 - 1.07063296000000e8*I\n",
      "f_abs_2_new 1.92810022638879e16\n",
      "xn 0.000996567074898881\n",
      "delta -7.91800659083965e-16\n",
      "xn 0.000996567074898881\n",
      "delta -6.53240487273961e-17\n",
      "xn 2.38645601830060e-6\n",
      "delta -3.62418114636099e-17\n",
      "xn 2.38645601830060e-6\n",
      "delta 4.45300926181413e-17\n",
      "f_new 1.32344320000000e8 + 2.07468326400000e9*I\n",
      "f_abs_2_new 4.32182566495796e18\n",
      "xn 0.000996567074898881\n",
      "delta -7.91800659083965e-16\n",
      "xn 0.000996567074898881\n",
      "delta -6.53240487273961e-17\n",
      "xn 2.38645601830060e-6\n",
      "delta -3.62418114636099e-17\n",
      "xn 2.38645601830060e-6\n",
      "delta 4.45300926181413e-17\n",
      "f_new 8.84220160000000e7 - 1.07063296000000e8*I\n",
      "f_abs_2_new 1.92810022638879e16\n",
      "xn 0.000996567074898881\n",
      "delta -7.91800659083965e-16\n",
      "xn 0.000996567074898881\n",
      "delta -6.53240487273961e-17\n",
      "xn 2.38645601830060e-6\n",
      "delta -3.62418114636099e-17\n",
      "xn 2.38645601830060e-6\n",
      "delta 4.45300926181413e-17\n",
      "f_new 1.32344320000000e8 + 2.07468326400000e9*I\n",
      "f_abs_2_new 4.32182566495796e18\n",
      "xn 0.000996567074898881\n",
      "delta -7.91800659083965e-16\n",
      "xn 0.000996567074898881\n",
      "delta -6.53240487273961e-17\n",
      "xn 2.38645601830060e-6\n",
      "delta -3.62418114636099e-17\n",
      "xn 2.38645601830060e-6\n",
      "delta 4.45300926181413e-17\n",
      "f_new 8.84220160000000e7 - 1.07063296000000e8*I\n",
      "f_abs_2_new 1.92810022638879e16\n",
      "xn 0.000996567074898881\n",
      "delta -7.91800659083965e-16\n",
      "xn 0.000996567074898881\n",
      "delta -6.53240487273961e-17\n",
      "xn 2.38645601830060e-6\n",
      "delta -3.62418114636099e-17\n",
      "xn 2.38645601830060e-6\n",
      "delta 4.45300926181413e-17\n",
      "f_new 1.32344320000000e8 + 2.07468326400000e9*I\n",
      "f_abs_2_new 4.32182566495796e18\n",
      "xn 0.000996567074898881\n",
      "delta -7.91800659083965e-16\n",
      "xn 0.000996567074898881\n",
      "delta -6.53240487273961e-17\n",
      "xn 2.38645601830060e-6\n",
      "delta -3.62418114636099e-17\n",
      "xn 2.38645601830060e-6\n",
      "delta 4.45300926181413e-17\n",
      "f_new 8.84220160000000e7 - 1.07063296000000e8*I\n",
      "f_abs_2_new 1.92810022638879e16\n",
      "xn 0.000996567074898881\n",
      "delta -7.91800659083965e-16\n",
      "xn 0.000996567074898881\n",
      "delta -6.53240487273961e-17\n",
      "xn 2.38645601830060e-6\n",
      "delta -3.62418114636099e-17\n",
      "xn 2.38645601830060e-6\n",
      "delta 4.45300926181413e-17\n",
      "f_new 1.32344320000000e8 + 2.07468326400000e9*I\n",
      "f_abs_2_new 4.32182566495796e18\n",
      "xn 0.000996567074898881\n",
      "delta -7.91800659083965e-16\n",
      "xn 0.000996567074898881\n",
      "delta -6.53240487273961e-17\n",
      "xn 2.38645601830060e-6\n",
      "delta -3.62418114636099e-17\n",
      "xn 2.38645601830060e-6\n",
      "delta 4.45300926181413e-17\n",
      "f_new 8.84220160000000e7 - 1.07063296000000e8*I\n",
      "f_abs_2_new 1.92810022638879e16\n",
      "xn 0.000996567074898881\n",
      "delta -7.91800659083965e-16\n",
      "xn 0.000996567074898881\n",
      "delta -6.53240487273961e-17\n",
      "xn 2.38645601830060e-6\n",
      "delta -3.62418114636099e-17\n",
      "xn 2.38645601830060e-6\n",
      "delta 4.45300926181413e-17\n",
      "f_new 1.32344320000000e8 + 2.07468326400000e9*I\n",
      "f_abs_2_new 4.32182566495796e18\n"
     ]
    },
    {
     "name": "stdout",
     "output_type": "stream",
     "text": [
      "xn 0.000996567074898881\n",
      "delta -7.91800659083965e-16\n",
      "xn 0.000996567074898881\n",
      "delta -6.53240487273961e-17\n",
      "xn 2.38645601830060e-6\n",
      "delta -3.62418114636099e-17\n",
      "xn 2.38645601830060e-6\n",
      "delta 4.45300926181413e-17\n",
      "f_new 8.84220160000000e7 - 1.07063296000000e8*I\n",
      "f_abs_2_new 1.92810022638879e16\n",
      "xn 0.000996567074898881\n",
      "delta -7.91800659083965e-16\n",
      "xn 0.000996567074898881\n",
      "delta -6.53240487273961e-17\n",
      "xn 2.38645601830060e-6\n",
      "delta -3.62418114636099e-17\n",
      "xn 2.38645601830060e-6\n",
      "delta 4.45300926181413e-17\n",
      "f_new 1.32344320000000e8 + 2.07468326400000e9*I\n",
      "f_abs_2_new 4.32182566495796e18\n",
      "xn 0.000996567074898881\n",
      "delta -7.91800659083965e-16\n",
      "xn 0.000996567074898881\n",
      "delta -6.53240487273961e-17\n",
      "xn 2.38645601830060e-6\n",
      "delta -3.62418114636099e-17\n",
      "xn 2.38645601830060e-6\n",
      "delta 4.45300926181413e-17\n",
      "f_new 8.84220160000000e7 - 1.07063296000000e8*I\n",
      "f_abs_2_new 1.92810022638879e16\n",
      "xn 0.000996567074898881\n",
      "delta -7.91800659083965e-16\n",
      "xn 0.000996567074898881\n",
      "delta -6.53240487273961e-17\n",
      "xn 2.38645601830060e-6\n",
      "delta -3.62418114636099e-17\n",
      "xn 2.38645601830060e-6\n",
      "delta 4.45300926181413e-17\n",
      "f_new 1.32344320000000e8 + 2.07468326400000e9*I\n",
      "f_abs_2_new 4.32182566495796e18\n",
      "xn 0.000996567074898881\n",
      "delta -7.91800659083965e-16\n",
      "xn 0.000996567074898881\n",
      "delta -6.53240487273961e-17\n",
      "xn 2.38645601830060e-6\n",
      "delta -3.62418114636099e-17\n",
      "xn 2.38645601830060e-6\n",
      "delta 4.45300926181413e-17\n",
      "f_new 8.84220160000000e7 - 1.07063296000000e8*I\n",
      "f_abs_2_new 1.92810022638879e16\n",
      "xn 0.000996567074898881\n",
      "delta -7.91800659083965e-16\n",
      "xn 0.000996567074898881\n",
      "delta -6.53240487273961e-17\n",
      "xn 2.38645601830060e-6\n",
      "delta -3.62418114636099e-17\n",
      "xn 2.38645601830060e-6\n",
      "delta 4.45300926181413e-17\n",
      "f_new 1.32344320000000e8 + 2.07468326400000e9*I\n",
      "f_abs_2_new 4.32182566495796e18\n",
      "xn 0.000996567074898881\n",
      "delta -7.91800659083965e-16\n",
      "xn 0.000996567074898881\n",
      "delta -6.53240487273961e-17\n",
      "xn 2.38645601830060e-6\n",
      "delta -3.62418114636099e-17\n",
      "xn 2.38645601830060e-6\n",
      "delta 4.45300926181413e-17\n",
      "f_new 8.84220160000000e7 - 1.07063296000000e8*I\n",
      "f_abs_2_new 1.92810022638879e16\n",
      "xn 0.000996567074898881\n",
      "delta -7.91800659083965e-16\n",
      "xn 0.000996567074898881\n",
      "delta -6.53240487273961e-17\n",
      "xn 2.38645601830060e-6\n",
      "delta -3.62418114636099e-17\n",
      "xn 2.38645601830060e-6\n",
      "delta 4.45300926181413e-17\n",
      "f_new 1.32344320000000e8 + 2.07468326400000e9*I\n",
      "f_abs_2_new 4.32182566495796e18\n",
      "xn 0.000996567074898881\n",
      "delta -7.91800659083965e-16\n",
      "xn 0.000996567074898881\n",
      "delta -6.53240487273961e-17\n",
      "xn 2.38645601830060e-6\n",
      "delta -3.62418114636099e-17\n",
      "xn 2.38645601830060e-6\n",
      "delta 4.45300926181413e-17\n",
      "f_new 8.84220160000000e7 - 1.07063296000000e8*I\n",
      "f_abs_2_new 1.92810022638879e16\n",
      "xn 0.000996567074898881\n",
      "delta -7.91800659083965e-16\n",
      "xn 0.000996567074898881\n",
      "delta -6.53240487273961e-17\n",
      "xn 2.38645601830060e-6\n",
      "delta -3.62418114636099e-17\n",
      "xn 2.38645601830060e-6\n",
      "delta 4.45300926181413e-17\n",
      "f_new 1.32344320000000e8 + 2.07468326400000e9*I\n",
      "f_abs_2_new 4.32182566495796e18\n",
      "xn 0.000996567074898881\n",
      "delta -7.91800659083965e-16\n",
      "xn 0.000996567074898881\n",
      "delta -6.53240487273961e-17\n",
      "xn 2.38645601830060e-6\n",
      "delta -3.62418114636099e-17\n",
      "xn 2.38645601830060e-6\n",
      "delta 4.45300926181413e-17\n",
      "f_new 8.84220160000000e7 - 1.07063296000000e8*I\n",
      "f_abs_2_new 1.92810022638879e16\n",
      "xn 0.000996567074898881\n",
      "delta -7.91800659083965e-16\n",
      "xn 0.000996567074898881\n",
      "delta -6.53240487273961e-17\n",
      "xn 2.38645601830060e-6\n",
      "delta -3.62418114636099e-17\n",
      "xn 2.38645601830060e-6\n",
      "delta 4.45300926181413e-17\n",
      "f_new 1.32344320000000e8 + 2.07468326400000e9*I\n",
      "f_abs_2_new 4.32182566495796e18\n",
      "xn 0.000996567074898881\n",
      "delta -7.91800659083965e-16\n",
      "xn 0.000996567074898881\n",
      "delta -6.53240487273961e-17\n",
      "xn 2.38645601830060e-6\n",
      "delta -3.62418114636099e-17\n",
      "xn 2.38645601830060e-6\n",
      "delta 4.45300926181413e-17\n",
      "f_new 8.84220160000000e7 - 1.07063296000000e8*I\n",
      "f_abs_2_new 1.92810022638879e16\n",
      "xn 0.000996567074898881\n",
      "delta -7.91800659083965e-16\n",
      "xn 0.000996567074898881\n",
      "delta -6.53240487273961e-17\n",
      "xn 2.38645601830060e-6\n",
      "delta -3.62418114636099e-17\n",
      "xn 2.38645601830060e-6\n",
      "delta 4.45300926181413e-17\n",
      "f_new 1.32344320000000e8 + 2.07468326400000e9*I\n",
      "f_abs_2_new 4.32182566495796e18\n",
      "xn 0.000996567074898881\n",
      "delta -7.91800659083965e-16\n",
      "xn 0.000996567074898881\n",
      "delta -6.53240487273961e-17\n",
      "xn 2.38645601830060e-6\n",
      "delta -3.62418114636099e-17\n",
      "xn 2.38645601830060e-6\n",
      "delta 4.45300926181413e-17\n",
      "f_new 8.84220160000000e7 - 1.07063296000000e8*I\n",
      "f_abs_2_new 1.92810022638879e16\n",
      "xn 0.000996567074898881\n",
      "delta -7.91800659083965e-16\n",
      "xn 0.000996567074898881\n",
      "delta -6.53240487273961e-17\n",
      "xn 2.38645601830060e-6\n",
      "delta -3.62418114636099e-17\n",
      "xn 2.38645601830060e-6\n",
      "delta 4.45300926181413e-17\n",
      "f_new 1.32344320000000e8 + 2.07468326400000e9*I\n",
      "f_abs_2_new 4.32182566495796e18\n",
      "xn 0.000996567074898881\n",
      "delta -7.91800659083965e-16\n",
      "xn 0.000996567074898881\n",
      "delta -6.53240487273961e-17\n",
      "xn 2.38645601830060e-6\n",
      "delta -3.62418114636099e-17\n",
      "xn 2.38645601830060e-6\n",
      "delta 4.45300926181413e-17\n",
      "f_new 8.84220160000000e7 - 1.07063296000000e8*I\n",
      "f_abs_2_new 1.92810022638879e16\n",
      "xn 0.000996567074898881\n",
      "delta -7.91800659083965e-16\n",
      "xn 0.000996567074898881\n",
      "delta -6.53240487273961e-17\n",
      "xn 2.38645601830060e-6\n",
      "delta -3.62418114636099e-17\n",
      "xn 2.38645601830060e-6\n",
      "delta 4.45300926181413e-17\n",
      "f_new 1.32344320000000e8 + 2.07468326400000e9*I\n",
      "f_abs_2_new 4.32182566495796e18\n",
      "xn 0.000996567074898881\n",
      "delta -7.91800659083965e-16\n",
      "xn 0.000996567074898881\n",
      "delta -6.53240487273961e-17\n",
      "xn 2.38645601830060e-6\n",
      "delta -3.62418114636099e-17\n",
      "xn 2.38645601830060e-6\n",
      "delta 4.45300926181413e-17\n",
      "f_new 8.84220160000000e7 - 1.07063296000000e8*I\n",
      "f_abs_2_new 1.92810022638879e16\n",
      "xn 0.000996567074898881\n",
      "delta -7.91800659083965e-16\n",
      "xn 0.000996567074898881\n",
      "delta -6.53240487273961e-17\n",
      "xn 2.38645601830060e-6\n",
      "delta -3.62418114636099e-17\n",
      "xn 2.38645601830060e-6\n",
      "delta 4.45300926181413e-17\n",
      "f_new 1.32344320000000e8 + 2.07468326400000e9*I\n",
      "f_abs_2_new 4.32182566495796e18\n",
      "xn 0.000996567074898881\n",
      "delta -7.91800659083965e-16\n",
      "xn 0.000996567074898881\n",
      "delta -6.53240487273961e-17\n",
      "xn 2.38645601830060e-6\n",
      "delta -3.62418114636099e-17\n",
      "xn 2.38645601830060e-6\n",
      "delta 4.45300926181413e-17\n",
      "f_new 8.84220160000000e7 - 1.07063296000000e8*I\n",
      "f_abs_2_new 1.92810022638879e16\n",
      "xn 0.000996567074898881\n",
      "delta -7.91800659083965e-16\n",
      "xn 0.000996567074898881\n",
      "delta -6.53240487273961e-17\n",
      "xn 2.38645601830060e-6\n",
      "delta -3.62418114636099e-17\n",
      "xn 2.38645601830060e-6\n",
      "delta 4.45300926181413e-17\n",
      "f_new 1.32344320000000e8 + 2.07468326400000e9*I\n",
      "f_abs_2_new 4.32182566495796e18\n",
      "xn 0.000996567074898881\n",
      "delta -7.91800659083965e-16\n",
      "xn 0.000996567074898881\n",
      "delta -6.53240487273961e-17\n",
      "xn 2.38645601830060e-6\n",
      "delta -3.62418114636099e-17\n",
      "xn 2.38645601830060e-6\n",
      "delta 4.45300926181413e-17\n",
      "f_new 8.84220160000000e7 - 1.07063296000000e8*I\n",
      "f_abs_2_new 1.92810022638879e16\n",
      "xn 0.000996567074898881\n",
      "delta -7.91800659083965e-16\n",
      "xn 0.000996567074898881\n",
      "delta -6.53240487273961e-17\n",
      "xn 2.38645601830060e-6\n",
      "delta -3.62418114636099e-17\n",
      "xn 2.38645601830060e-6\n",
      "delta 4.45300926181413e-17\n",
      "f_new 1.32344320000000e8 + 2.07468326400000e9*I\n",
      "f_abs_2_new 4.32182566495796e18\n",
      "xn 0.000996567074898881\n",
      "delta -7.91800659083965e-16\n",
      "xn 0.000996567074898881\n",
      "delta -6.53240487273961e-17\n",
      "xn 2.38645601830060e-6\n",
      "delta -3.62418114636099e-17\n",
      "xn 2.38645601830060e-6\n",
      "delta 4.45300926181413e-17\n",
      "f_new 8.84220160000000e7 - 1.07063296000000e8*I\n",
      "f_abs_2_new 1.92810022638879e16\n",
      "xn 0.000996567074898881\n",
      "delta -7.91800659083965e-16\n",
      "xn 0.000996567074898881\n",
      "delta -6.53240487273961e-17\n",
      "xn 2.38645601830060e-6\n",
      "delta -3.62418114636099e-17\n",
      "xn 2.38645601830060e-6\n",
      "delta 4.45300926181413e-17\n",
      "f_new 1.32344320000000e8 + 2.07468326400000e9*I\n",
      "f_abs_2_new 4.32182566495796e18\n",
      "xn 0.000996567074898881\n",
      "delta -7.91800659083965e-16\n",
      "xn 0.000996567074898881\n",
      "delta -6.53240487273961e-17\n",
      "xn 2.38645601830060e-6\n",
      "delta -3.62418114636099e-17\n",
      "xn 2.38645601830060e-6\n",
      "delta 4.45300926181413e-17\n",
      "f_new 8.84220160000000e7 - 1.07063296000000e8*I\n",
      "f_abs_2_new 1.92810022638879e16\n",
      "xn 0.000996567074898881\n",
      "delta -7.91800659083965e-16\n",
      "xn 0.000996567074898881\n",
      "delta -6.53240487273961e-17\n",
      "xn 2.38645601830060e-6\n",
      "delta -3.62418114636099e-17\n",
      "xn 2.38645601830060e-6\n",
      "delta 4.45300926181413e-17\n",
      "f_new 1.32344320000000e8 + 2.07468326400000e9*I\n",
      "f_abs_2_new 4.32182566495796e18\n",
      "xn 0.000996567074898881\n",
      "delta -7.91800659083965e-16\n",
      "xn 0.000996567074898881\n",
      "delta -6.53240487273961e-17\n",
      "xn 2.38645601830060e-6\n",
      "delta -3.62418114636099e-17\n",
      "xn 2.38645601830060e-6\n",
      "delta 4.45300926181413e-17\n",
      "f_new 8.84220160000000e7 - 1.07063296000000e8*I\n",
      "f_abs_2_new 1.92810022638879e16\n"
     ]
    },
    {
     "name": "stdout",
     "output_type": "stream",
     "text": [
      "xn 0.000996567074898881\n",
      "delta -7.91800659083965e-16\n",
      "xn 0.000996567074898881\n",
      "delta -6.53240487273961e-17\n",
      "xn 2.38645601830060e-6\n",
      "delta -3.62418114636099e-17\n",
      "xn 2.38645601830060e-6\n",
      "delta 4.45300926181413e-17\n",
      "f_new 1.32344320000000e8 + 2.07468326400000e9*I\n",
      "f_abs_2_new 4.32182566495796e18\n",
      "xn 0.000996567074898881\n",
      "delta -7.91800659083965e-16\n",
      "xn 0.000996567074898881\n",
      "delta -6.53240487273961e-17\n",
      "xn 2.38645601830060e-6\n",
      "delta -3.62418114636099e-17\n",
      "xn 2.38645601830060e-6\n",
      "delta 4.45300926181413e-17\n",
      "f_new 8.84220160000000e7 - 1.07063296000000e8*I\n",
      "f_abs_2_new 1.92810022638879e16\n",
      "xn 0.000996567074898881\n",
      "delta -7.91800659083965e-16\n",
      "xn 0.000996567074898881\n",
      "delta -6.53240487273961e-17\n",
      "xn 2.38645601830060e-6\n",
      "delta -3.62418114636099e-17\n",
      "xn 2.38645601830060e-6\n",
      "delta 4.45300926181413e-17\n",
      "f_new 1.32344320000000e8 + 2.07468326400000e9*I\n",
      "f_abs_2_new 4.32182566495796e18\n",
      "xn 0.000996567074898881\n",
      "delta -7.91800659083965e-16\n",
      "xn 0.000996567074898881\n",
      "delta -6.53240487273961e-17\n",
      "xn 2.38645601830060e-6\n",
      "delta -3.62418114636099e-17\n",
      "xn 2.38645601830060e-6\n",
      "delta 4.45300926181413e-17\n",
      "f_new 8.84220160000000e7 - 1.07063296000000e8*I\n",
      "f_abs_2_new 1.92810022638879e16\n",
      "xn 0.000996567074898881\n",
      "delta -7.91800659083965e-16\n",
      "xn 0.000996567074898881\n",
      "delta -6.53240487273961e-17\n",
      "xn 2.38645601830060e-6\n",
      "delta -3.62418114636099e-17\n",
      "xn 2.38645601830060e-6\n",
      "delta 4.45300926181413e-17\n",
      "f_new 1.32344320000000e8 + 2.07468326400000e9*I\n",
      "f_abs_2_new 4.32182566495796e18\n",
      "xn 0.000996567074898881\n",
      "delta -7.91800659083965e-16\n",
      "xn 0.000996567074898881\n",
      "delta -6.53240487273961e-17\n",
      "xn 2.38645601830060e-6\n",
      "delta -3.62418114636099e-17\n",
      "xn 2.38645601830060e-6\n",
      "delta 4.45300926181413e-17\n",
      "f_new 8.84220160000000e7 - 1.07063296000000e8*I\n",
      "f_abs_2_new 1.92810022638879e16\n",
      "xn 0.000996567074898881\n",
      "delta -7.91800659083965e-16\n",
      "xn 0.000996567074898881\n",
      "delta -6.53240487273961e-17\n",
      "xn 2.38645601830060e-6\n",
      "delta -3.62418114636099e-17\n",
      "xn 2.38645601830060e-6\n",
      "delta 4.45300926181413e-17\n",
      "f_new 1.32344320000000e8 + 2.07468326400000e9*I\n",
      "f_abs_2_new 4.32182566495796e18\n",
      "xn 0.000996567074898881\n",
      "delta -7.91800659083965e-16\n",
      "xn 0.000996567074898881\n",
      "delta -6.53240487273961e-17\n",
      "xn 2.38645601830060e-6\n",
      "delta -3.62418114636099e-17\n",
      "xn 2.38645601830060e-6\n",
      "delta 4.45300926181413e-17\n",
      "f_new 8.84220160000000e7 - 1.07063296000000e8*I\n",
      "f_abs_2_new 1.92810022638879e16\n",
      "xn 0.000996567074898881\n",
      "delta -7.91800659083965e-16\n",
      "xn 0.000996567074898881\n",
      "delta -6.53240487273961e-17\n",
      "xn 2.38645601830060e-6\n",
      "delta -3.62418114636099e-17\n",
      "xn 2.38645601830060e-6\n",
      "delta 4.45300926181413e-17\n",
      "f_new 1.32344320000000e8 + 2.07468326400000e9*I\n",
      "f_abs_2_new 4.32182566495796e18\n",
      "xn 0.000996567074898881\n",
      "delta -7.91800659083965e-16\n",
      "xn 0.000996567074898881\n",
      "delta -6.53240487273961e-17\n",
      "xn 2.38645601830060e-6\n",
      "delta -3.62418114636099e-17\n",
      "xn 2.38645601830060e-6\n",
      "delta 4.45300926181413e-17\n",
      "f_new 8.84220160000000e7 - 1.07063296000000e8*I\n",
      "f_abs_2_new 1.92810022638879e16\n",
      "xn 0.000996567074898881\n",
      "delta -7.91800659083965e-16\n",
      "xn 0.000996567074898881\n",
      "delta -6.53240487273961e-17\n",
      "xn 2.38645601830060e-6\n",
      "delta -3.62418114636099e-17\n",
      "xn 2.38645601830060e-6\n",
      "delta 4.45300926181413e-17\n",
      "f_new 1.32344320000000e8 + 2.07468326400000e9*I\n",
      "f_abs_2_new 4.32182566495796e18\n",
      "xn 0.000996567074898881\n",
      "delta -7.91800659083965e-16\n",
      "xn 0.000996567074898881\n",
      "delta -6.53240487273961e-17\n",
      "xn 2.38645601830060e-6\n",
      "delta -3.62418114636099e-17\n",
      "xn 2.38645601830060e-6\n",
      "delta 4.45300926181413e-17\n",
      "f_new 8.84220160000000e7 - 1.07063296000000e8*I\n",
      "f_abs_2_new 1.92810022638879e16\n",
      "xn 0.000996567074898881\n",
      "delta -7.91800659083965e-16\n",
      "xn 0.000996567074898881\n",
      "delta -6.53240487273961e-17\n",
      "xn 2.38645601830060e-6\n",
      "delta -3.62418114636099e-17\n",
      "xn 2.38645601830060e-6\n",
      "delta 4.45300926181413e-17\n",
      "f_new 1.32344320000000e8 + 2.07468326400000e9*I\n",
      "f_abs_2_new 4.32182566495796e18\n",
      "xn 0.000996567074898881\n",
      "delta -7.91800659083965e-16\n",
      "xn 0.000996567074898881\n",
      "delta -6.53240487273961e-17\n",
      "xn 2.38645601830060e-6\n",
      "delta -3.62418114636099e-17\n",
      "xn 2.38645601830060e-6\n",
      "delta 4.45300926181413e-17\n",
      "f_new 8.84220160000000e7 - 1.07063296000000e8*I\n",
      "f_abs_2_new 1.92810022638879e16\n",
      "xn 0.000996567074898881\n",
      "delta -7.91800659083965e-16\n",
      "xn 0.000996567074898881\n",
      "delta -6.53240487273961e-17\n",
      "xn 2.38645601830060e-6\n",
      "delta -3.62418114636099e-17\n",
      "xn 2.38645601830060e-6\n",
      "delta 4.45300926181413e-17\n",
      "f_new 1.32344320000000e8 + 2.07468326400000e9*I\n",
      "f_abs_2_new 4.32182566495796e18\n",
      "xn 0.000996567074898881\n",
      "delta -7.91800659083965e-16\n",
      "xn 0.000996567074898881\n",
      "delta -6.53240487273961e-17\n",
      "xn 2.38645601830060e-6\n",
      "delta -3.62418114636099e-17\n",
      "xn 2.38645601830060e-6\n",
      "delta 4.45300926181413e-17\n",
      "f_new 8.84220160000000e7 - 1.07063296000000e8*I\n",
      "f_abs_2_new 1.92810022638879e16\n",
      "xn 0.000996567074898881\n",
      "delta -7.91800659083965e-16\n",
      "xn 0.000996567074898881\n",
      "delta -6.53240487273961e-17\n",
      "xn 2.38645601830060e-6\n",
      "delta -3.62418114636099e-17\n",
      "xn 2.38645601830060e-6\n",
      "delta 4.45300926181413e-17\n",
      "f_new 1.32344320000000e8 + 2.07468326400000e9*I\n",
      "f_abs_2_new 4.32182566495796e18\n",
      "xn 0.000996567074898881\n",
      "delta -7.91800659083965e-16\n",
      "xn 0.000996567074898881\n",
      "delta -6.53240487273961e-17\n",
      "xn 2.38645601830060e-6\n",
      "delta -3.62418114636099e-17\n",
      "xn 2.38645601830060e-6\n",
      "delta 4.45300926181413e-17\n",
      "f_new 8.84220160000000e7 - 1.07063296000000e8*I\n",
      "f_abs_2_new 1.92810022638879e16\n",
      "xn 0.000996567074898881\n",
      "delta -7.91800659083965e-16\n",
      "xn 0.000996567074898881\n",
      "delta -6.53240487273961e-17\n",
      "xn 2.38645601830060e-6\n",
      "delta -3.62418114636099e-17\n",
      "xn 2.38645601830060e-6\n",
      "delta 4.45300926181413e-17\n",
      "f_new 1.32344320000000e8 + 2.07468326400000e9*I\n",
      "f_abs_2_new 4.32182566495796e18\n",
      "xn 0.000996567074898881\n",
      "delta -7.91800659083965e-16\n",
      "xn 0.000996567074898881\n",
      "delta -6.53240487273961e-17\n",
      "xn 2.38645601830060e-6\n",
      "delta -3.62418114636099e-17\n",
      "xn 2.38645601830060e-6\n",
      "delta 4.45300926181413e-17\n",
      "f_new 8.84220160000000e7 - 1.07063296000000e8*I\n",
      "f_abs_2_new 1.92810022638879e16\n",
      "xn 0.000996567074898881\n",
      "delta -7.91800659083965e-16\n",
      "xn 0.000996567074898881\n",
      "delta -6.53240487273961e-17\n",
      "xn 2.38645601830060e-6\n",
      "delta -3.62418114636099e-17\n",
      "xn 2.38645601830060e-6\n",
      "delta 4.45300926181413e-17\n",
      "f_new 1.32344320000000e8 + 2.07468326400000e9*I\n",
      "f_abs_2_new 4.32182566495796e18\n",
      "xn 0.000996567074898881\n",
      "delta -7.91800659083965e-16\n",
      "xn 0.000996567074898881\n",
      "delta -6.53240487273961e-17\n",
      "xn 2.38645601830060e-6\n",
      "delta -3.62418114636099e-17\n",
      "xn 2.38645601830060e-6\n",
      "delta 4.45300926181413e-17\n",
      "f_new 8.84220160000000e7 - 1.07063296000000e8*I\n",
      "f_abs_2_new 1.92810022638879e16\n",
      "xn 0.000996567074898881\n",
      "delta -7.91800659083965e-16\n",
      "xn 0.000996567074898881\n",
      "delta -6.53240487273961e-17\n",
      "xn 2.38645601830060e-6\n",
      "delta -3.62418114636099e-17\n",
      "xn 2.38645601830060e-6\n",
      "delta 4.45300926181413e-17\n",
      "f_new 1.32344320000000e8 + 2.07468326400000e9*I\n",
      "f_abs_2_new 4.32182566495796e18\n",
      "xn 0.000996567074898881\n",
      "delta -7.91800659083965e-16\n",
      "xn 0.000996567074898881\n",
      "delta -6.53240487273961e-17\n",
      "xn 2.38645601830060e-6\n",
      "delta -3.62418114636099e-17\n",
      "xn 2.38645601830060e-6\n",
      "delta 4.45300926181413e-17\n",
      "f_new 8.84220160000000e7 - 1.07063296000000e8*I\n",
      "f_abs_2_new 1.92810022638879e16\n",
      "xn 0.000996567074898881\n",
      "delta -7.91800659083965e-16\n",
      "xn 0.000996567074898881\n",
      "delta -6.53240487273961e-17\n",
      "xn 2.38645601830060e-6\n",
      "delta -3.62418114636099e-17\n",
      "xn 2.38645601830060e-6\n",
      "delta 4.45300926181413e-17\n",
      "f_new 1.32344320000000e8 + 2.07468326400000e9*I\n",
      "f_abs_2_new 4.32182566495796e18\n",
      "xn 0.000996567074898881\n",
      "delta -7.91800659083965e-16\n",
      "xn 0.000996567074898881\n",
      "delta -6.53240487273961e-17\n",
      "xn 2.38645601830060e-6\n",
      "delta -3.62418114636099e-17\n",
      "xn 2.38645601830060e-6\n",
      "delta 4.45300926181413e-17\n",
      "f_new 8.84220160000000e7 - 1.07063296000000e8*I\n",
      "f_abs_2_new 1.92810022638879e16\n",
      "xn 0.000996567074898881\n",
      "delta -7.91800659083965e-16\n",
      "xn 0.000996567074898881\n",
      "delta -6.53240487273961e-17\n",
      "xn 2.38645601830060e-6\n",
      "delta -3.62418114636099e-17\n",
      "xn 2.38645601830060e-6\n",
      "delta 4.45300926181413e-17\n",
      "f_new 1.32344320000000e8 + 2.07468326400000e9*I\n",
      "f_abs_2_new 4.32182566495796e18\n",
      "xn 0.000996567074898881\n",
      "delta -7.91800659083965e-16\n",
      "xn 0.000996567074898881\n",
      "delta -6.53240487273961e-17\n",
      "xn 2.38645601830060e-6\n",
      "delta -3.62418114636099e-17\n",
      "xn 2.38645601830060e-6\n",
      "delta 4.45300926181413e-17\n",
      "f_new 8.84220160000000e7 - 1.07063296000000e8*I\n",
      "f_abs_2_new 1.92810022638879e16\n",
      "xn 0.000996567074898881\n",
      "delta -7.91800659083965e-16\n",
      "xn 0.000996567074898881\n",
      "delta -6.53240487273961e-17\n",
      "xn 2.38645601830060e-6\n",
      "delta -3.62418114636099e-17\n",
      "xn 2.38645601830060e-6\n",
      "delta 4.45300926181413e-17\n",
      "f_new 1.32344320000000e8 + 2.07468326400000e9*I\n",
      "f_abs_2_new 4.32182566495796e18\n"
     ]
    },
    {
     "name": "stdout",
     "output_type": "stream",
     "text": [
      "xn 0.000996567074898881\n",
      "delta -7.91800659083965e-16\n",
      "xn 0.000996567074898881\n",
      "delta -6.53240487273961e-17\n",
      "xn 2.38645601830060e-6\n",
      "delta -3.62418114636099e-17\n",
      "xn 2.38645601830060e-6\n",
      "delta 4.45300926181413e-17\n",
      "f_new 8.84220160000000e7 - 1.07063296000000e8*I\n",
      "f_abs_2_new 1.92810022638879e16\n",
      "xn 0.000996567074898881\n",
      "delta -7.91800659083965e-16\n",
      "xn 0.000996567074898881\n",
      "delta -6.53240487273961e-17\n",
      "xn 2.38645601830060e-6\n",
      "delta -3.62418114636099e-17\n",
      "xn 2.38645601830060e-6\n",
      "delta 4.45300926181413e-17\n",
      "f_new 1.32344320000000e8 + 2.07468326400000e9*I\n",
      "f_abs_2_new 4.32182566495796e18\n",
      "xn 0.000996567074898881\n",
      "delta -7.91800659083965e-16\n",
      "xn 0.000996567074898881\n",
      "delta -6.53240487273961e-17\n",
      "xn 2.38645601830060e-6\n",
      "delta -3.62418114636099e-17\n",
      "xn 2.38645601830060e-6\n",
      "delta 4.45300926181413e-17\n",
      "f_new 8.84220160000000e7 - 1.07063296000000e8*I\n",
      "f_abs_2_new 1.92810022638879e16\n",
      "xn 0.000996567074898881\n",
      "delta -7.91800659083965e-16\n",
      "xn 0.000996567074898881\n",
      "delta -6.53240487273961e-17\n",
      "xn 2.38645601830060e-6\n",
      "delta -3.62418114636099e-17\n",
      "xn 2.38645601830060e-6\n",
      "delta 4.45300926181413e-17\n",
      "f_new 1.32344320000000e8 + 2.07468326400000e9*I\n",
      "f_abs_2_new 4.32182566495796e18\n",
      "xn 0.000996567074898881\n",
      "delta -7.91800659083965e-16\n",
      "xn 0.000996567074898881\n",
      "delta -6.53240487273961e-17\n",
      "xn 2.38645601830060e-6\n",
      "delta -3.62418114636099e-17\n",
      "xn 2.38645601830060e-6\n",
      "delta 4.45300926181413e-17\n",
      "f_new 8.84220160000000e7 - 1.07063296000000e8*I\n",
      "f_abs_2_new 1.92810022638879e16\n",
      "xn 0.000996567074898881\n",
      "delta -7.91800659083965e-16\n",
      "xn 0.000996567074898881\n",
      "delta -6.53240487273961e-17\n",
      "xn 2.38645601830060e-6\n",
      "delta -3.62418114636099e-17\n",
      "xn 2.38645601830060e-6\n",
      "delta 4.45300926181413e-17\n",
      "f_new 1.32344320000000e8 + 2.07468326400000e9*I\n",
      "f_abs_2_new 4.32182566495796e18\n",
      "xn 0.000996567074898881\n",
      "delta -7.91800659083965e-16\n",
      "xn 0.000996567074898881\n",
      "delta -6.53240487273961e-17\n",
      "xn 2.38645601830060e-6\n",
      "delta -3.62418114636099e-17\n",
      "xn 2.38645601830060e-6\n",
      "delta 4.45300926181413e-17\n",
      "f_new 8.84220160000000e7 - 1.07063296000000e8*I\n",
      "f_abs_2_new 1.92810022638879e16\n",
      "xn 0.000996567074898881\n",
      "delta -7.91800659083965e-16\n",
      "xn 0.000996567074898881\n",
      "delta -6.53240487273961e-17\n",
      "xn 2.38645601830060e-6\n",
      "delta -3.62418114636099e-17\n",
      "xn 2.38645601830060e-6\n",
      "delta 4.45300926181413e-17\n",
      "f_new 1.32344320000000e8 + 2.07468326400000e9*I\n",
      "f_abs_2_new 4.32182566495796e18\n",
      "xn 0.000996567074898881\n",
      "delta -7.91800659083965e-16\n",
      "xn 0.000996567074898881\n",
      "delta -6.53240487273961e-17\n",
      "xn 2.38645601830060e-6\n",
      "delta -3.62418114636099e-17\n",
      "xn 2.38645601830060e-6\n",
      "delta 4.45300926181413e-17\n",
      "f_new 8.84220160000000e7 - 1.07063296000000e8*I\n",
      "f_abs_2_new 1.92810022638879e16\n",
      "xn 0.000996567074898881\n",
      "delta -7.91800659083965e-16\n",
      "xn 0.000996567074898881\n",
      "delta -6.53240487273961e-17\n",
      "xn 2.38645601830060e-6\n",
      "delta -3.62418114636099e-17\n",
      "xn 2.38645601830060e-6\n",
      "delta 4.45300926181413e-17\n",
      "f_new 1.32344320000000e8 + 2.07468326400000e9*I\n",
      "f_abs_2_new 4.32182566495796e18\n",
      "xn 0.000996567074898881\n",
      "delta -7.91800659083965e-16\n",
      "xn 0.000996567074898881\n",
      "delta -6.53240487273961e-17\n",
      "xn 2.38645601830060e-6\n",
      "delta -3.62418114636099e-17\n",
      "xn 2.38645601830060e-6\n",
      "delta 4.45300926181413e-17\n",
      "f_new 8.84220160000000e7 - 1.07063296000000e8*I\n",
      "f_abs_2_new 1.92810022638879e16\n",
      "xn 0.000996567074898881\n",
      "delta -7.91800659083965e-16\n",
      "xn 0.000996567074898881\n",
      "delta -6.53240487273961e-17\n",
      "xn 2.38645601830060e-6\n",
      "delta -3.62418114636099e-17\n",
      "xn 2.38645601830060e-6\n",
      "delta 4.45300926181413e-17\n",
      "f_new 1.32344320000000e8 + 2.07468326400000e9*I\n",
      "f_abs_2_new 4.32182566495796e18\n",
      "xn 0.000996567074898881\n",
      "delta -7.91800659083965e-16\n",
      "xn 0.000996567074898881\n",
      "delta -6.53240487273961e-17\n",
      "xn 2.38645601830060e-6\n",
      "delta -3.62418114636099e-17\n",
      "xn 2.38645601830060e-6\n",
      "delta 4.45300926181413e-17\n",
      "f_new 8.84220160000000e7 - 1.07063296000000e8*I\n",
      "f_abs_2_new 1.92810022638879e16\n",
      "xn 0.000996567074898881\n",
      "delta -7.91800659083965e-16\n",
      "xn 0.000996567074898881\n",
      "delta -6.53240487273961e-17\n",
      "xn 2.38645601830060e-6\n",
      "delta -3.62418114636099e-17\n",
      "xn 2.38645601830060e-6\n",
      "delta 4.45300926181413e-17\n",
      "f_new 1.32344320000000e8 + 2.07468326400000e9*I\n",
      "f_abs_2_new 4.32182566495796e18\n",
      "xn 0.000996567074898881\n",
      "delta -7.91800659083965e-16\n",
      "xn 0.000996567074898881\n",
      "delta -6.53240487273961e-17\n",
      "xn 2.38645601830060e-6\n",
      "delta -3.62418114636099e-17\n",
      "xn 2.38645601830060e-6\n",
      "delta 4.45300926181413e-17\n",
      "f_new 8.84220160000000e7 - 1.07063296000000e8*I\n",
      "f_abs_2_new 1.92810022638879e16\n",
      "xn 0.000996567074898881\n",
      "delta -7.91800659083965e-16\n",
      "xn 0.000996567074898881\n",
      "delta -6.53240487273961e-17\n",
      "xn 2.38645601830060e-6\n",
      "delta -3.62418114636099e-17\n",
      "xn 2.38645601830060e-6\n",
      "delta 4.45300926181413e-17\n",
      "f_new 1.32344320000000e8 + 2.07468326400000e9*I\n",
      "f_abs_2_new 4.32182566495796e18\n",
      "xn 0.000996567074898881\n",
      "delta -7.91800659083965e-16\n",
      "xn 0.000996567074898881\n",
      "delta -6.53240487273961e-17\n",
      "xn 2.38645601830060e-6\n",
      "delta -3.62418114636099e-17\n",
      "xn 2.38645601830060e-6\n",
      "delta 4.45300926181413e-17\n",
      "f_new 8.84220160000000e7 - 1.07063296000000e8*I\n",
      "f_abs_2_new 1.92810022638879e16\n",
      "xn 0.000996567074898881\n",
      "delta -7.91800659083965e-16\n",
      "xn 0.000996567074898881\n",
      "delta -6.53240487273961e-17\n",
      "xn 2.38645601830060e-6\n",
      "delta -3.62418114636099e-17\n",
      "xn 2.38645601830060e-6\n",
      "delta 4.45300926181413e-17\n",
      "f_new 1.32344320000000e8 + 2.07468326400000e9*I\n",
      "f_abs_2_new 4.32182566495796e18\n",
      "xn 0.000996567074898881\n",
      "delta -7.91800659083965e-16\n",
      "xn 0.000996567074898881\n",
      "delta -6.53240487273961e-17\n",
      "xn 2.38645601830060e-6\n",
      "delta -3.62418114636099e-17\n",
      "xn 2.38645601830060e-6\n",
      "delta 4.45300926181413e-17\n",
      "f_new 8.84220160000000e7 - 1.07063296000000e8*I\n",
      "f_abs_2_new 1.92810022638879e16\n",
      "xn 0.000996567074898881\n",
      "delta -7.91800659083965e-16\n",
      "xn 0.000996567074898881\n",
      "delta -6.53240487273961e-17\n",
      "xn 2.38645601830060e-6\n",
      "delta -3.62418114636099e-17\n",
      "xn 2.38645601830060e-6\n",
      "delta 4.45300926181413e-17\n",
      "f_new 1.32344320000000e8 + 2.07468326400000e9*I\n",
      "f_abs_2_new 4.32182566495796e18\n",
      "xn 0.000996567074898881\n",
      "delta -7.91800659083965e-16\n",
      "xn 0.000996567074898881\n",
      "delta -6.53240487273961e-17\n",
      "xn 2.38645601830060e-6\n",
      "delta -3.62418114636099e-17\n",
      "xn 2.38645601830060e-6\n",
      "delta 4.45300926181413e-17\n",
      "f_new 8.84220160000000e7 - 1.07063296000000e8*I\n",
      "f_abs_2_new 1.92810022638879e16\n",
      "xn 0.000996567074898881\n",
      "delta -7.91800659083965e-16\n",
      "xn 0.000996567074898881\n",
      "delta -6.53240487273961e-17\n",
      "xn 2.38645601830060e-6\n",
      "delta -3.62418114636099e-17\n",
      "xn 2.38645601830060e-6\n",
      "delta 4.45300926181413e-17\n",
      "f_new 1.32344320000000e8 + 2.07468326400000e9*I\n",
      "f_abs_2_new 4.32182566495796e18\n",
      "xn 0.000996567074898881\n",
      "delta -7.91800659083965e-16\n",
      "xn 0.000996567074898881\n",
      "delta -6.53240487273961e-17\n",
      "xn 2.38645601830060e-6\n",
      "delta -3.62418114636099e-17\n",
      "xn 2.38645601830060e-6\n",
      "delta 4.45300926181413e-17\n",
      "f_new 8.84220160000000e7 - 1.07063296000000e8*I\n",
      "f_abs_2_new 1.92810022638879e16\n",
      "xn 0.000996567074898881\n",
      "delta -7.91800659083965e-16\n",
      "xn 0.000996567074898881\n",
      "delta -6.53240487273961e-17\n",
      "xn 2.38645601830060e-6\n",
      "delta -3.62418114636099e-17\n",
      "xn 2.38645601830060e-6\n",
      "delta 4.45300926181413e-17\n",
      "f_new 1.32344320000000e8 + 2.07468326400000e9*I\n",
      "f_abs_2_new 4.32182566495796e18\n",
      "xn 0.000996567074898881\n",
      "delta -7.91800659083965e-16\n",
      "xn 0.000996567074898881\n",
      "delta -6.53240487273961e-17\n",
      "xn 2.38645601830060e-6\n",
      "delta -3.62418114636099e-17\n",
      "xn 2.38645601830060e-6\n",
      "delta 4.45300926181413e-17\n",
      "f_new 8.84220160000000e7 - 1.07063296000000e8*I\n",
      "f_abs_2_new 1.92810022638879e16\n",
      "xn 0.000996567074898881\n",
      "delta -7.91800659083965e-16\n",
      "xn 0.000996567074898881\n",
      "delta -6.53240487273961e-17\n",
      "xn 2.38645601830060e-6\n",
      "delta -3.62418114636099e-17\n",
      "xn 2.38645601830060e-6\n",
      "delta 4.45300926181413e-17\n",
      "f_new 1.32344320000000e8 + 2.07468326400000e9*I\n",
      "f_abs_2_new 4.32182566495796e18\n",
      "xn 0.000996567074898881\n",
      "delta -7.91800659083965e-16\n",
      "xn 0.000996567074898881\n",
      "delta -6.53240487273961e-17\n",
      "xn 2.38645601830060e-6\n",
      "delta -3.62418114636099e-17\n",
      "xn 2.38645601830060e-6\n",
      "delta 4.45300926181413e-17\n",
      "f_new 8.84220160000000e7 - 1.07063296000000e8*I\n",
      "f_abs_2_new 1.92810022638879e16\n",
      "xn 0.000996567074898881\n",
      "delta -7.91800659083965e-16\n",
      "xn 0.000996567074898881\n",
      "delta -6.53240487273961e-17\n",
      "xn 2.38645601830060e-6\n",
      "delta -3.62418114636099e-17\n",
      "xn 2.38645601830060e-6\n",
      "delta 4.45300926181413e-17\n",
      "f_new 1.32344320000000e8 + 2.07468326400000e9*I\n",
      "f_abs_2_new 4.32182566495796e18\n",
      "xn 0.000996567074898881\n",
      "delta -7.91800659083965e-16\n",
      "xn 0.000996567074898881\n",
      "delta -6.53240487273961e-17\n",
      "xn 2.38645601830060e-6\n",
      "delta -3.62418114636099e-17\n",
      "xn 2.38645601830060e-6\n",
      "delta 4.45300926181413e-17\n",
      "f_new 8.84220160000000e7 - 1.07063296000000e8*I\n",
      "f_abs_2_new 1.92810022638879e16\n"
     ]
    },
    {
     "name": "stdout",
     "output_type": "stream",
     "text": [
      "xn 0.000996567074898881\n",
      "delta -7.91800659083965e-16\n",
      "xn 0.000996567074898881\n",
      "delta -6.53240487273961e-17\n",
      "xn 2.38645601830060e-6\n",
      "delta -3.62418114636099e-17\n",
      "xn 2.38645601830060e-6\n",
      "delta 4.45300926181413e-17\n",
      "f_new 1.32344320000000e8 + 2.07468326400000e9*I\n",
      "f_abs_2_new 4.32182566495796e18\n",
      "xn 0.000996567074898881\n",
      "delta -7.91800659083965e-16\n",
      "xn 0.000996567074898881\n",
      "delta -6.53240487273961e-17\n",
      "xn 2.38645601830060e-6\n",
      "delta -3.62418114636099e-17\n",
      "xn 2.38645601830060e-6\n",
      "delta 4.45300926181413e-17\n",
      "f_new 8.84220160000000e7 - 1.07063296000000e8*I\n",
      "f_abs_2_new 1.92810022638879e16\n",
      "xn 0.000996567074898881\n",
      "delta -7.91800659083965e-16\n",
      "xn 0.000996567074898881\n",
      "delta -6.53240487273961e-17\n",
      "xn 2.38645601830060e-6\n",
      "delta -3.62418114636099e-17\n",
      "xn 2.38645601830060e-6\n",
      "delta 4.45300926181413e-17\n",
      "f_new 1.32344320000000e8 + 2.07468326400000e9*I\n",
      "f_abs_2_new 4.32182566495796e18\n",
      "xn 0.000996567074898881\n",
      "delta -7.91800659083965e-16\n",
      "xn 0.000996567074898881\n",
      "delta -6.53240487273961e-17\n",
      "xn 2.38645601830060e-6\n",
      "delta -3.62418114636099e-17\n",
      "xn 2.38645601830060e-6\n",
      "delta 4.45300926181413e-17\n",
      "f_new 8.84220160000000e7 - 1.07063296000000e8*I\n",
      "f_abs_2_new 1.92810022638879e16\n",
      "xn 0.000996567074898881\n",
      "delta -7.91800659083965e-16\n",
      "xn 0.000996567074898881\n",
      "delta -6.53240487273961e-17\n",
      "xn 2.38645601830060e-6\n",
      "delta -3.62418114636099e-17\n",
      "xn 2.38645601830060e-6\n",
      "delta 4.45300926181413e-17\n",
      "f_new 1.32344320000000e8 + 2.07468326400000e9*I\n",
      "f_abs_2_new 4.32182566495796e18\n",
      "xn 0.000996567074898881\n",
      "delta -7.91800659083965e-16\n",
      "xn 0.000996567074898881\n",
      "delta -6.53240487273961e-17\n",
      "xn 2.38645601830060e-6\n",
      "delta -3.62418114636099e-17\n",
      "xn 2.38645601830060e-6\n",
      "delta 4.45300926181413e-17\n",
      "f_new 8.84220160000000e7 - 1.07063296000000e8*I\n",
      "f_abs_2_new 1.92810022638879e16\n",
      "xn 0.000996567074898881\n",
      "delta -7.91800659083965e-16\n",
      "xn 0.000996567074898881\n",
      "delta -6.53240487273961e-17\n",
      "xn 2.38645601830060e-6\n",
      "delta -3.62418114636099e-17\n",
      "xn 2.38645601830060e-6\n",
      "delta 4.45300926181413e-17\n",
      "f_new 1.32344320000000e8 + 2.07468326400000e9*I\n",
      "f_abs_2_new 4.32182566495796e18\n",
      "xn 0.000996567074898881\n",
      "delta -7.91800659083965e-16\n",
      "xn 0.000996567074898881\n",
      "delta -6.53240487273961e-17\n",
      "xn 2.38645601830060e-6\n",
      "delta -3.62418114636099e-17\n",
      "xn 2.38645601830060e-6\n",
      "delta 4.45300926181413e-17\n",
      "f_new 8.84220160000000e7 - 1.07063296000000e8*I\n",
      "f_abs_2_new 1.92810022638879e16\n",
      "xn 0.000996567074898881\n",
      "delta -7.91800659083965e-16\n",
      "xn 0.000996567074898881\n",
      "delta -6.53240487273961e-17\n",
      "xn 2.38645601830060e-6\n",
      "delta -3.62418114636099e-17\n",
      "xn 2.38645601830060e-6\n",
      "delta 4.45300926181413e-17\n",
      "f_new 1.32344320000000e8 + 2.07468326400000e9*I\n",
      "f_abs_2_new 4.32182566495796e18\n",
      "xn 0.000996567074898881\n",
      "delta -7.91800659083965e-16\n",
      "xn 0.000996567074898881\n",
      "delta -6.53240487273961e-17\n",
      "xn 2.38645601830060e-6\n",
      "delta -3.62418114636099e-17\n",
      "xn 2.38645601830060e-6\n",
      "delta 4.45300926181413e-17\n",
      "f_new 8.84220160000000e7 - 1.07063296000000e8*I\n",
      "f_abs_2_new 1.92810022638879e16\n",
      "xn 0.000996567074898881\n",
      "delta -7.91800659083965e-16\n",
      "xn 0.000996567074898881\n",
      "delta -6.53240487273961e-17\n",
      "xn 2.38645601830060e-6\n",
      "delta -3.62418114636099e-17\n",
      "xn 2.38645601830060e-6\n",
      "delta 4.45300926181413e-17\n",
      "f_new 1.32344320000000e8 + 2.07468326400000e9*I\n",
      "f_abs_2_new 4.32182566495796e18\n",
      "xn 0.000996567074898881\n",
      "delta -7.91800659083965e-16\n",
      "xn 0.000996567074898881\n",
      "delta -6.53240487273961e-17\n",
      "xn 2.38645601830060e-6\n",
      "delta -3.62418114636099e-17\n",
      "xn 2.38645601830060e-6\n",
      "delta 4.45300926181413e-17\n",
      "f_new 8.84220160000000e7 - 1.07063296000000e8*I\n",
      "f_abs_2_new 1.92810022638879e16\n",
      "xn 0.000996567074898881\n",
      "delta -7.91800659083965e-16\n",
      "xn 0.000996567074898881\n",
      "delta -6.53240487273961e-17\n",
      "xn 2.38645601830060e-6\n",
      "delta -3.62418114636099e-17\n",
      "xn 2.38645601830060e-6\n",
      "delta 4.45300926181413e-17\n",
      "f_new 1.32344320000000e8 + 2.07468326400000e9*I\n",
      "f_abs_2_new 4.32182566495796e18\n",
      "xn 0.000996567074898881\n",
      "delta -7.91800659083965e-16\n",
      "xn 0.000996567074898881\n",
      "delta -6.53240487273961e-17\n",
      "xn 2.38645601830060e-6\n",
      "delta -3.62418114636099e-17\n",
      "xn 2.38645601830060e-6\n",
      "delta 4.45300926181413e-17\n",
      "f_new 8.84220160000000e7 - 1.07063296000000e8*I\n",
      "f_abs_2_new 1.92810022638879e16\n",
      "xn 0.000996567074898881\n",
      "delta -7.91800659083965e-16\n",
      "xn 0.000996567074898881\n",
      "delta -6.53240487273961e-17\n",
      "xn 2.38645601830060e-6\n",
      "delta -3.62418114636099e-17\n",
      "xn 2.38645601830060e-6\n",
      "delta 4.45300926181413e-17\n",
      "f_new 1.32344320000000e8 + 2.07468326400000e9*I\n",
      "f_abs_2_new 4.32182566495796e18\n",
      "xn 0.000996567074898881\n",
      "delta -7.91800659083965e-16\n",
      "xn 0.000996567074898881\n",
      "delta -6.53240487273961e-17\n",
      "xn 2.38645601830060e-6\n",
      "delta -3.62418114636099e-17\n",
      "xn 2.38645601830060e-6\n",
      "delta 4.45300926181413e-17\n",
      "f_new 8.84220160000000e7 - 1.07063296000000e8*I\n",
      "f_abs_2_new 1.92810022638879e16\n",
      "xn 0.000996567074898881\n",
      "delta -7.91800659083965e-16\n",
      "xn 0.000996567074898881\n",
      "delta -6.53240487273961e-17\n",
      "xn 2.38645601830060e-6\n",
      "delta -3.62418114636099e-17\n",
      "xn 2.38645601830060e-6\n",
      "delta 4.45300926181413e-17\n",
      "f_new 1.32344320000000e8 + 2.07468326400000e9*I\n",
      "f_abs_2_new 4.32182566495796e18\n",
      "xn 0.000996567074898881\n",
      "delta -7.91800659083965e-16\n",
      "xn 0.000996567074898881\n",
      "delta -6.53240487273961e-17\n",
      "xn 2.38645601830060e-6\n",
      "delta -3.62418114636099e-17\n",
      "xn 2.38645601830060e-6\n",
      "delta 4.45300926181413e-17\n",
      "f_new 8.84220160000000e7 - 1.07063296000000e8*I\n",
      "f_abs_2_new 1.92810022638879e16\n",
      "xn 0.000996567074898881\n",
      "delta -7.91800659083965e-16\n",
      "xn 0.000996567074898881\n",
      "delta -6.53240487273961e-17\n",
      "xn 2.38645601830060e-6\n",
      "delta -3.62418114636099e-17\n",
      "xn 2.38645601830060e-6\n",
      "delta 4.45300926181413e-17\n",
      "f_new 1.32344320000000e8 + 2.07468326400000e9*I\n",
      "f_abs_2_new 4.32182566495796e18\n",
      "xn 0.000996567074898881\n",
      "delta -7.91800659083965e-16\n",
      "xn 0.000996567074898881\n",
      "delta -6.53240487273961e-17\n",
      "xn 2.38645601830060e-6\n",
      "delta -3.62418114636099e-17\n",
      "xn 2.38645601830060e-6\n",
      "delta 4.45300926181413e-17\n",
      "f_new 8.84220160000000e7 - 1.07063296000000e8*I\n",
      "f_abs_2_new 1.92810022638879e16\n",
      "xn 0.000996567074898881\n",
      "delta -7.91800659083965e-16\n",
      "xn 0.000996567074898881\n",
      "delta -6.53240487273961e-17\n",
      "xn 2.38645601830060e-6\n",
      "delta -3.62418114636099e-17\n",
      "xn 2.38645601830060e-6\n",
      "delta 4.45300926181413e-17\n",
      "f_new 1.32344320000000e8 + 2.07468326400000e9*I\n",
      "f_abs_2_new 4.32182566495796e18\n",
      "xn 0.000996567074898881\n",
      "delta -7.91800659083965e-16\n",
      "xn 0.000996567074898881\n",
      "delta -6.53240487273961e-17\n",
      "xn 2.38645601830060e-6\n",
      "delta -3.62418114636099e-17\n",
      "xn 2.38645601830060e-6\n",
      "delta 4.45300926181413e-17\n",
      "f_new 8.84220160000000e7 - 1.07063296000000e8*I\n",
      "f_abs_2_new 1.92810022638879e16\n",
      "xn 0.000996567074898881\n",
      "delta -7.91800659083965e-16\n",
      "xn 0.000996567074898881\n",
      "delta -6.53240487273961e-17\n",
      "xn 2.38645601830060e-6\n",
      "delta -3.62418114636099e-17\n",
      "xn 2.38645601830060e-6\n",
      "delta 4.45300926181413e-17\n",
      "f_new 1.32344320000000e8 + 2.07468326400000e9*I\n",
      "f_abs_2_new 4.32182566495796e18\n",
      "xn 0.000996567074898881\n",
      "delta -7.91800659083965e-16\n",
      "xn 0.000996567074898881\n",
      "delta -6.53240487273961e-17\n",
      "xn 2.38645601830060e-6\n",
      "delta -3.62418114636099e-17\n",
      "xn 2.38645601830060e-6\n",
      "delta 4.45300926181413e-17\n",
      "f_new 8.84220160000000e7 - 1.07063296000000e8*I\n",
      "f_abs_2_new 1.92810022638879e16\n",
      "xn 0.000996567074898881\n",
      "delta -7.91800659083965e-16\n",
      "xn 0.000996567074898881\n",
      "delta -6.53240487273961e-17\n",
      "xn 2.38645601830060e-6\n",
      "delta -3.62418114636099e-17\n",
      "xn 2.38645601830060e-6\n",
      "delta 4.45300926181413e-17\n",
      "f_new 1.32344320000000e8 + 2.07468326400000e9*I\n",
      "f_abs_2_new 4.32182566495796e18\n",
      "xn 0.000996567074898881\n",
      "delta -7.91800659083965e-16\n",
      "xn 0.000996567074898881\n",
      "delta -6.53240487273961e-17\n",
      "xn 2.38645601830060e-6\n",
      "delta -3.62418114636099e-17\n",
      "xn 2.38645601830060e-6\n",
      "delta 4.45300926181413e-17\n",
      "f_new 8.84220160000000e7 - 1.07063296000000e8*I\n",
      "f_abs_2_new 1.92810022638879e16\n",
      "xn 0.000996567074898881\n",
      "delta -7.91800659083965e-16\n",
      "xn 0.000996567074898881\n",
      "delta -6.53240487273961e-17\n",
      "xn 2.38645601830060e-6\n",
      "delta -3.62418114636099e-17\n",
      "xn 2.38645601830060e-6\n",
      "delta 4.45300926181413e-17\n",
      "f_new 1.32344320000000e8 + 2.07468326400000e9*I\n",
      "f_abs_2_new 4.32182566495796e18\n",
      "xn 0.000996567074898881\n",
      "delta -7.91800659083965e-16\n",
      "xn 0.000996567074898881\n",
      "delta -6.53240487273961e-17\n",
      "xn 2.38645601830060e-6\n",
      "delta -3.62418114636099e-17\n",
      "xn 2.38645601830060e-6\n",
      "delta 4.45300926181413e-17\n",
      "f_new 8.84220160000000e7 - 1.07063296000000e8*I\n",
      "f_abs_2_new 1.92810022638879e16\n",
      "xn 0.000996567074898881\n",
      "delta -7.91800659083965e-16\n",
      "xn 0.000996567074898881\n",
      "delta -6.53240487273961e-17\n",
      "xn 2.38645601830060e-6\n",
      "delta -3.62418114636099e-17\n",
      "xn 2.38645601830060e-6\n",
      "delta 4.45300926181413e-17\n",
      "f_new 1.32344320000000e8 + 2.07468326400000e9*I\n",
      "f_abs_2_new 4.32182566495796e18\n"
     ]
    },
    {
     "name": "stdout",
     "output_type": "stream",
     "text": [
      "xn 0.000996567074898881\n",
      "delta -7.91800659083965e-16\n",
      "xn 0.000996567074898881\n",
      "delta -6.53240487273961e-17\n",
      "xn 2.38645601830060e-6\n",
      "delta -3.62418114636099e-17\n",
      "xn 2.38645601830060e-6\n",
      "delta 4.45300926181413e-17\n",
      "f_new 8.84220160000000e7 - 1.07063296000000e8*I\n",
      "f_abs_2_new 1.92810022638879e16\n",
      "xn 0.000996567074898881\n",
      "delta -7.91800659083965e-16\n",
      "xn 0.000996567074898881\n",
      "delta -6.53240487273961e-17\n",
      "xn 2.38645601830060e-6\n",
      "delta -3.62418114636099e-17\n",
      "xn 2.38645601830060e-6\n",
      "delta 4.45300926181413e-17\n",
      "f_new 1.32344320000000e8 + 2.07468326400000e9*I\n",
      "f_abs_2_new 4.32182566495796e18\n",
      "xn 0.000996567074898881\n",
      "delta -7.91800659083965e-16\n",
      "xn 0.000996567074898881\n",
      "delta -6.53240487273961e-17\n",
      "xn 2.38645601830060e-6\n",
      "delta -3.62418114636099e-17\n",
      "xn 2.38645601830060e-6\n",
      "delta 4.45300926181413e-17\n",
      "f_new 8.84220160000000e7 - 1.07063296000000e8*I\n",
      "f_abs_2_new 1.92810022638879e16\n",
      "xn 0.000996567074898881\n",
      "delta -7.91800659083965e-16\n",
      "xn 0.000996567074898881\n",
      "delta -6.53240487273961e-17\n",
      "xn 2.38645601830060e-6\n",
      "delta -3.62418114636099e-17\n",
      "xn 2.38645601830060e-6\n",
      "delta 4.45300926181413e-17\n",
      "f_new 1.32344320000000e8 + 2.07468326400000e9*I\n",
      "f_abs_2_new 4.32182566495796e18\n",
      "xn 0.000996567074898881\n",
      "delta -7.91800659083965e-16\n",
      "xn 0.000996567074898881\n",
      "delta -6.53240487273961e-17\n",
      "xn 2.38645601830060e-6\n",
      "delta -3.62418114636099e-17\n",
      "xn 2.38645601830060e-6\n",
      "delta 4.45300926181413e-17\n",
      "f_new 8.84220160000000e7 - 1.07063296000000e8*I\n",
      "f_abs_2_new 1.92810022638879e16\n",
      "xn 0.000996567074898881\n",
      "delta -7.91800659083965e-16\n",
      "xn 0.000996567074898881\n",
      "delta -6.53240487273961e-17\n",
      "xn 2.38645601830060e-6\n",
      "delta -3.62418114636099e-17\n",
      "xn 2.38645601830060e-6\n",
      "delta 4.45300926181413e-17\n",
      "f_new 1.32344320000000e8 + 2.07468326400000e9*I\n",
      "f_abs_2_new 4.32182566495796e18\n",
      "xn 0.000996567074898881\n",
      "delta -7.91800659083965e-16\n",
      "xn 0.000996567074898881\n",
      "delta -6.53240487273961e-17\n",
      "xn 2.38645601830060e-6\n",
      "delta -3.62418114636099e-17\n",
      "xn 2.38645601830060e-6\n",
      "delta 4.45300926181413e-17\n",
      "f_new 8.84220160000000e7 - 1.07063296000000e8*I\n",
      "f_abs_2_new 1.92810022638879e16\n",
      "xn 0.000996567074898881\n",
      "delta -7.91800659083965e-16\n",
      "xn 0.000996567074898881\n",
      "delta -6.53240487273961e-17\n",
      "xn 2.38645601830060e-6\n",
      "delta -3.62418114636099e-17\n",
      "xn 2.38645601830060e-6\n",
      "delta 4.45300926181413e-17\n",
      "f_new 1.32344320000000e8 + 2.07468326400000e9*I\n",
      "f_abs_2_new 4.32182566495796e18\n",
      "xn 0.000996567074898881\n",
      "delta -7.91800659083965e-16\n",
      "xn 0.000996567074898881\n",
      "delta -6.53240487273961e-17\n",
      "xn 2.38645601830060e-6\n",
      "delta -3.62418114636099e-17\n",
      "xn 2.38645601830060e-6\n",
      "delta 4.45300926181413e-17\n",
      "f_new 8.84220160000000e7 - 1.07063296000000e8*I\n",
      "f_abs_2_new 1.92810022638879e16\n",
      "xn 0.000996567074898881\n",
      "delta -7.91800659083965e-16\n",
      "xn 0.000996567074898881\n",
      "delta -6.53240487273961e-17\n",
      "xn 2.38645601830060e-6\n",
      "delta -3.62418114636099e-17\n",
      "xn 2.38645601830060e-6\n",
      "delta 4.45300926181413e-17\n",
      "f_new 1.32344320000000e8 + 2.07468326400000e9*I\n",
      "f_abs_2_new 4.32182566495796e18\n",
      "xn 0.000996567074898881\n",
      "delta -7.91800659083965e-16\n",
      "xn 0.000996567074898881\n",
      "delta -6.53240487273961e-17\n",
      "xn 2.38645601830060e-6\n",
      "delta -3.62418114636099e-17\n",
      "xn 2.38645601830060e-6\n",
      "delta 4.45300926181413e-17\n",
      "f_new 8.84220160000000e7 - 1.07063296000000e8*I\n",
      "f_abs_2_new 1.92810022638879e16\n",
      "xn 0.000996567074898881\n",
      "delta -7.91800659083965e-16\n",
      "xn 0.000996567074898881\n",
      "delta -6.53240487273961e-17\n",
      "xn 2.38645601830060e-6\n",
      "delta -3.62418114636099e-17\n",
      "xn 2.38645601830060e-6\n",
      "delta 4.45300926181413e-17\n",
      "f_new 1.32344320000000e8 + 2.07468326400000e9*I\n",
      "f_abs_2_new 4.32182566495796e18\n",
      "xn 0.000996567074898881\n",
      "delta -7.91800659083965e-16\n",
      "xn 0.000996567074898881\n",
      "delta -6.53240487273961e-17\n",
      "xn 2.38645601830060e-6\n",
      "delta -3.62418114636099e-17\n",
      "xn 2.38645601830060e-6\n",
      "delta 4.45300926181413e-17\n",
      "f_new 8.84220160000000e7 - 1.07063296000000e8*I\n",
      "f_abs_2_new 1.92810022638879e16\n",
      "xn 0.000996567074898881\n",
      "delta -7.91800659083965e-16\n",
      "xn 0.000996567074898881\n",
      "delta -6.53240487273961e-17\n",
      "xn 2.38645601830060e-6\n",
      "delta -3.62418114636099e-17\n",
      "xn 2.38645601830060e-6\n",
      "delta 4.45300926181413e-17\n",
      "f_new 1.32344320000000e8 + 2.07468326400000e9*I\n",
      "f_abs_2_new 4.32182566495796e18\n",
      "xn 0.000996567074898881\n",
      "delta -7.91800659083965e-16\n",
      "xn 0.000996567074898881\n",
      "delta -6.53240487273961e-17\n",
      "xn 2.38645601830060e-6\n",
      "delta -3.62418114636099e-17\n",
      "xn 2.38645601830060e-6\n",
      "delta 4.45300926181413e-17\n",
      "f_new 8.84220160000000e7 - 1.07063296000000e8*I\n",
      "f_abs_2_new 1.92810022638879e16\n",
      "xn 0.000996567074898881\n",
      "delta -7.91800659083965e-16\n",
      "xn 0.000996567074898881\n",
      "delta -6.53240487273961e-17\n",
      "xn 2.38645601830060e-6\n",
      "delta -3.62418114636099e-17\n",
      "xn 2.38645601830060e-6\n",
      "delta 4.45300926181413e-17\n",
      "f_new 1.32344320000000e8 + 2.07468326400000e9*I\n",
      "f_abs_2_new 4.32182566495796e18\n",
      "xn 0.000996567074898881\n",
      "delta -7.91800659083965e-16\n",
      "xn 0.000996567074898881\n",
      "delta -6.53240487273961e-17\n",
      "xn 2.38645601830060e-6\n",
      "delta -3.62418114636099e-17\n",
      "xn 2.38645601830060e-6\n",
      "delta 4.45300926181413e-17\n",
      "f_new 8.84220160000000e7 - 1.07063296000000e8*I\n",
      "f_abs_2_new 1.92810022638879e16\n",
      "xn 0.000996567074898881\n",
      "delta -7.91800659083965e-16\n",
      "xn 0.000996567074898881\n",
      "delta -6.53240487273961e-17\n",
      "xn 2.38645601830060e-6\n",
      "delta -3.62418114636099e-17\n",
      "xn 2.38645601830060e-6\n",
      "delta 4.45300926181413e-17\n",
      "f_new 1.32344320000000e8 + 2.07468326400000e9*I\n",
      "f_abs_2_new 4.32182566495796e18\n",
      "xn 0.000996567074898881\n",
      "delta -7.91800659083965e-16\n"
     ]
    }
   ],
   "source": [
    "if use_newton_prec:\n",
    "    k_z_root = my_newton_prec.prec_root(nsteps = 500)\n",
    "    k_z_sol = [kz == k_z_root[0],   sz == k_z_root[1],\n",
    "                 k_z == k_z_root[0] + I * k_z_root[1]]\n",
    "else:\n",
    "    k_z_sol = [kz  == k_z_sol_kz, sz == k_z_sol_sz,\n",
    "               k_z == k_z_sol_kz + I * k_z_sol_sz]"
   ]
  },
  {
   "cell_type": "code",
   "execution_count": null,
   "metadata": {},
   "outputs": [],
   "source": [
    "if use_newton_prec:\n",
    "    print(k_z_root)"
   ]
  },
  {
   "cell_type": "code",
   "execution_count": null,
   "metadata": {},
   "outputs": [],
   "source": [
    "k_z_sol"
   ]
  },
  {
   "cell_type": "markdown",
   "metadata": {},
   "source": [
    "Итак, графическим методом как точку пересечения двух нулевых изолиний на контурных графиках зависимости действительной и мнимой компонент детерминанта от действительной и мнимой компонент волнового вектора, были найдены приблизительные значения действительной и мнимой компонент волнового вектора, которые затем в итерационной процедуре были уточнены методом градиентного спуска Ньютона"
   ]
  },
  {
   "cell_type": "code",
   "execution_count": null,
   "metadata": {},
   "outputs": [],
   "source": []
  },
  {
   "cell_type": "code",
   "execution_count": null,
   "metadata": {
    "scrolled": true
   },
   "outputs": [],
   "source": [
    "M8_d = M8 \\\n",
    "    .subs(K_vacuum_subs) \\\n",
    "    .subs(K_left_conductor_subs) \\\n",
    "    .subs(K_right_conductor_subs) \\\n",
    "    .subs(kappa_vacuum_sol) \\\n",
    "    .subs(kappa_l_sol) \\\n",
    "    .subs(kappa_r_sol) \\\n",
    "    .subs(digit_values) \\\n",
    "    .subs(k_z_sol)"
   ]
  },
  {
   "cell_type": "code",
   "execution_count": null,
   "metadata": {},
   "outputs": [],
   "source": [
    "M8_d.variables()"
   ]
  },
  {
   "cell_type": "code",
   "execution_count": null,
   "metadata": {},
   "outputs": [],
   "source": [
    "M8_d.det().n()"
   ]
  },
  {
   "cell_type": "code",
   "execution_count": null,
   "metadata": {},
   "outputs": [],
   "source": [
    "M8_ReIm_d = M8_ReIm \\\n",
    "    .subs(K_vacuum_subs) \\\n",
    "    .subs(K_left_conductor_subs) \\\n",
    "    .subs(K_right_conductor_subs) \\\n",
    "    .subs(kappa_vacuum_sol) \\\n",
    "    .subs(kappa_l_sol) \\\n",
    "    .subs(kappa_r_sol) \\\n",
    "    .subs(digit_values) \\\n",
    "    .subs(k_z_sol).n()"
   ]
  },
  {
   "cell_type": "code",
   "execution_count": null,
   "metadata": {},
   "outputs": [],
   "source": [
    "disp(M8_ReIm_d.n())"
   ]
  },
  {
   "cell_type": "code",
   "execution_count": null,
   "metadata": {},
   "outputs": [],
   "source": []
  },
  {
   "cell_type": "code",
   "execution_count": null,
   "metadata": {},
   "outputs": [],
   "source": [
    "# искомые коэффициенты интенсивности полей\n",
    "X8_ReIm = vector(vars8reim)\n",
    "print(X8_ReIm)"
   ]
  },
  {
   "cell_type": "code",
   "execution_count": null,
   "metadata": {},
   "outputs": [],
   "source": [
    "# умножая матрицу системы уравнений\n",
    "# на вектор искомых коэффициентов интенсивности полей\n",
    "# находим систему 16 уравнений для нахождения\n",
    "# коэффициентов интенсивности полей\n",
    "\n",
    "M8_ReIm_d_X = M8_ReIm_d * X8_ReIm\n",
    "# print(M8_ReIm_d_X)"
   ]
  },
  {
   "cell_type": "markdown",
   "metadata": {},
   "source": [
    "поскольку детерминант матрицы нулевой для нахождения нетривиального решения назначим числовое значение одному из 6-ти неизвестных коэффициентов"
   ]
  },
  {
   "cell_type": "code",
   "execution_count": null,
   "metadata": {},
   "outputs": [],
   "source": [
    "# для решения системы уравнений\n",
    "# на вектор искомых коэффициентов интенсивности полей\n",
    "# устанавливаем один из 16 искомых коэффициентов в 1\n",
    "A1_x_re_d = 1"
   ]
  },
  {
   "cell_type": "code",
   "execution_count": null,
   "metadata": {},
   "outputs": [],
   "source": [
    "colomn_to_remove = 4\n",
    "columns = [0,1,2,3,4,5,6,7,8,9,10,11,12,13,14,15]\n",
    "columns.remove(colomn_to_remove)\n",
    "columns"
   ]
  },
  {
   "cell_type": "markdown",
   "metadata": {},
   "source": [
    "Вычеркивая из матрицы соответствующую переменной $A_x_{re}$ колонку получаем матрицу переопределённой системы уравнений"
   ]
  },
  {
   "cell_type": "code",
   "execution_count": null,
   "metadata": {},
   "outputs": [],
   "source": [
    "vM15 = M8_ReIm_d.delete_columns([colomn_to_remove])\n",
    "show(vM15)"
   ]
  },
  {
   "cell_type": "markdown",
   "metadata": {},
   "source": [
    "Создаем правую часть переопределённой системы уравнений"
   ]
  },
  {
   "cell_type": "code",
   "execution_count": null,
   "metadata": {},
   "outputs": [],
   "source": [
    "Y16 = - A1_x_re_d * M8_ReIm_d.delete_columns(columns)\n",
    "Y16"
   ]
  },
  {
   "cell_type": "markdown",
   "metadata": {},
   "source": [
    "Решаем переопределённую систему уравнений"
   ]
  },
  {
   "cell_type": "code",
   "execution_count": null,
   "metadata": {},
   "outputs": [],
   "source": [
    "X15_solve_right = vM15.solve_right(Y16)\n",
    "X15_solve_right"
   ]
  },
  {
   "cell_type": "markdown",
   "metadata": {},
   "source": [
    "тестируем найденное решение"
   ]
  },
  {
   "cell_type": "code",
   "execution_count": null,
   "metadata": {},
   "outputs": [],
   "source": [
    "Err_16_solve_right = vM15*X15_solve_right-Y16\n",
    "sum_of_squares_solve_right = Err_16_solve_right.norm()\n",
    "Err_16_solve_right, sum_of_squares_solve_right"
   ]
  },
  {
   "cell_type": "markdown",
   "metadata": {},
   "source": [
    "Решаем переопределённую систему уравнений методом псевдообратной матрицы"
   ]
  },
  {
   "cell_type": "code",
   "execution_count": null,
   "metadata": {},
   "outputs": [],
   "source": [
    "def pseudo_inverse(mat) :\n",
    "    from scipy import linalg\n",
    "    return matrix(linalg.pinv(mat))"
   ]
  },
  {
   "cell_type": "code",
   "execution_count": null,
   "metadata": {},
   "outputs": [],
   "source": [
    "X15_pseudo_inverse = pseudo_inverse(vM15)*Y16\n",
    "X15_pseudo_inverse"
   ]
  },
  {
   "cell_type": "markdown",
   "metadata": {},
   "source": [
    "тестируем найденное решение"
   ]
  },
  {
   "cell_type": "code",
   "execution_count": null,
   "metadata": {},
   "outputs": [],
   "source": [
    "Err_16_pseudo_inverse = vM15*X15_pseudo_inverse-Y16\n",
    "sum_of_squares_pseudo_inverse = Err_16_pseudo_inverse.norm()\n",
    "Err_16_pseudo_inverse, sum_of_squares_pseudo_inverse"
   ]
  },
  {
   "cell_type": "markdown",
   "metadata": {},
   "source": [
    "Выбираем решение с наименьшей ошибкой"
   ]
  },
  {
   "cell_type": "code",
   "execution_count": null,
   "metadata": {},
   "outputs": [],
   "source": [
    "if sum_of_squares_pseudo_inverse < sum_of_squares_solve_right:\n",
    "    X15 = X15_pseudo_inverse\n",
    "else:\n",
    "    X15 = X15_solve_right"
   ]
  },
  {
   "cell_type": "markdown",
   "metadata": {},
   "source": [
    "вставляем в вектор найденного решения изначально назначенный коэффициент"
   ]
  },
  {
   "cell_type": "code",
   "execution_count": null,
   "metadata": {},
   "outputs": [],
   "source": [
    "X15_list = X15.list()\n",
    "X15_list.insert(colomn_to_remove, A1_x_re_d)\n",
    "X16 = vector(X15_list)\n",
    "X16"
   ]
  },
  {
   "cell_type": "markdown",
   "metadata": {},
   "source": [
    "ещё раз тестируем найденное решение"
   ]
  },
  {
   "cell_type": "code",
   "execution_count": null,
   "metadata": {},
   "outputs": [],
   "source": [
    "Err_16 = M8_ReIm_d*X16\n",
    "sum_of_squares = Err_16.norm()\n",
    "Err_16.list(), sum_of_squares"
   ]
  },
  {
   "cell_type": "code",
   "execution_count": null,
   "metadata": {},
   "outputs": [],
   "source": []
  },
  {
   "cell_type": "code",
   "execution_count": null,
   "metadata": {},
   "outputs": [],
   "source": [
    "# получаем значения оставшихся искомых коэффициентов интенсивности полей\n",
    "coeffs_subs = []\n",
    "for i in range(len(X16)):\n",
    "    coeffs_subs += [vars8reim[i] == X16[i]]\n",
    "coeffs_subs"
   ]
  },
  {
   "cell_type": "code",
   "execution_count": null,
   "metadata": {},
   "outputs": [],
   "source": []
  },
  {
   "cell_type": "code",
   "execution_count": null,
   "metadata": {},
   "outputs": [],
   "source": []
  },
  {
   "cell_type": "code",
   "execution_count": null,
   "metadata": {},
   "outputs": [],
   "source": [
    "K_vacuum_subs_d = K_vacuum_subs.subs(kappa_vacuum_sol).subs(k_z_sol).subs(digit_values)\n",
    "K_vacuum_subs_d"
   ]
  },
  {
   "cell_type": "code",
   "execution_count": null,
   "metadata": {},
   "outputs": [],
   "source": [
    "K_vacuum_subs_d.rhs().n()"
   ]
  },
  {
   "cell_type": "code",
   "execution_count": null,
   "metadata": {},
   "outputs": [],
   "source": [
    "K_left_conductor_subs_d = K_left_conductor_subs.subs(kappa_vacuum_sol).subs(kappa_l_sol).subs(k_z_sol).subs(digit_values)\n",
    "K_left_conductor_subs_d"
   ]
  },
  {
   "cell_type": "code",
   "execution_count": null,
   "metadata": {},
   "outputs": [],
   "source": [
    "K_right_conductor_subs_d = K_right_conductor_subs.subs(kappa_vacuum_sol).subs(kappa_r_sol).subs(k_z_sol).subs(digit_values)\n",
    "K_right_conductor_subs_d"
   ]
  },
  {
   "cell_type": "code",
   "execution_count": null,
   "metadata": {},
   "outputs": [],
   "source": [
    "K_left_conductor_subs_d.rhs().n()"
   ]
  },
  {
   "cell_type": "code",
   "execution_count": null,
   "metadata": {},
   "outputs": [],
   "source": [
    "K_right_conductor_subs_d.rhs().n()"
   ]
  },
  {
   "cell_type": "code",
   "execution_count": null,
   "metadata": {},
   "outputs": [],
   "source": [
    "K_vacuum_subs_d"
   ]
  },
  {
   "cell_type": "markdown",
   "metadata": {},
   "source": [
    "знак перед корнем будем всегда выбирать так, чтобы корень имел положительнею мнимую часть (Зоммерфельд, Электродинамика, параграф 20, Б)"
   ]
  },
  {
   "cell_type": "raw",
   "metadata": {},
   "source": [
    "if K_left_conductor_subs_d.rhs().n().imag() < 0:\n",
    "    K_left_conductor_subs_d = K_left_conductor_subs_d.lhs() == - K_left_conductor_subs_d.rhs()"
   ]
  },
  {
   "cell_type": "raw",
   "metadata": {},
   "source": [
    "if K_right_conductor_subs_d.rhs().n().imag() < 0:\n",
    "    K_right_conductor_subs_d = K_right_conductor_subs_d.lhs() == - K_right_conductor_subs_d.rhs()"
   ]
  },
  {
   "cell_type": "raw",
   "metadata": {},
   "source": [
    "if K_right_conductor_subs_d.rhs().n().imag() > 0:\n",
    "    K_right_conductor_subs_d = K_right_conductor_subs_d.lhs() == - K_right_conductor_subs_d.rhs()"
   ]
  },
  {
   "cell_type": "code",
   "execution_count": null,
   "metadata": {},
   "outputs": [],
   "source": [
    "K_right_conductor_subs_d.rhs().n()"
   ]
  },
  {
   "cell_type": "code",
   "execution_count": null,
   "metadata": {},
   "outputs": [],
   "source": [
    "if K_vacuum_subs_d.rhs().n().imag() < 0:\n",
    "    K_vacuum_subs_d = K_vacuum_subs_d.lhs() == - K_vacuum_subs_d.rhs()"
   ]
  },
  {
   "cell_type": "code",
   "execution_count": null,
   "metadata": {},
   "outputs": [],
   "source": [
    "K_vacuum_subs_d"
   ]
  },
  {
   "cell_type": "code",
   "execution_count": null,
   "metadata": {},
   "outputs": [],
   "source": [
    "eq_7_Ex_l"
   ]
  },
  {
   "cell_type": "raw",
   "metadata": {},
   "source": [
    "Ex_left_conductor  = (eq_7_Ex_l_subs2.rhs())\n",
    "Ex_right_conductor = (eq_7_Ex_r_subs2.rhs())\n",
    "Ex_vacuum          = (eq_5_subs3.rhs())"
   ]
  },
  {
   "cell_type": "code",
   "execution_count": null,
   "metadata": {},
   "outputs": [],
   "source": [
    "Dx_left_conductor  = Ex_left_conductor * epsilon_l_complex\n",
    "Dx_right_conductor = Ex_right_conductor * epsilon_r_complex\n",
    "Dx_vacuum          = Ex_vacuum"
   ]
  },
  {
   "cell_type": "code",
   "execution_count": null,
   "metadata": {},
   "outputs": [],
   "source": [
    "disp(Dx_right_conductor)"
   ]
  },
  {
   "cell_type": "code",
   "execution_count": null,
   "metadata": {},
   "outputs": [],
   "source": [
    "Ex_left_conductor_subs  = Ex_left_conductor.subs(K_left_conductor_subs_d).subs(kappa_vacuum_sol).subs(kappa_l_sol).subs(k_z_sol)\n",
    "Ex_right_conductor_subs = Ex_right_conductor.subs(K_right_conductor_subs_d).subs(kappa_vacuum_sol).subs(kappa_r_sol).subs(k_z_sol)\n",
    "Ex_vacuum_subs          = Ex_vacuum       .subs(K_vacuum_subs_d)   .subs(kappa_vacuum_sol).subs(kappa_l_sol).subs(k_z_sol)"
   ]
  },
  {
   "cell_type": "code",
   "execution_count": null,
   "metadata": {},
   "outputs": [],
   "source": [
    "Dx_left_conductor_subs  = Ex_left_conductor_subs * epsilon_l_complex\n",
    "Dx_right_conductor_subs = Ex_right_conductor_subs * epsilon_r_complex\n",
    "Dx_vacuum_subs          = Ex_vacuum_subs"
   ]
  },
  {
   "cell_type": "code",
   "execution_count": null,
   "metadata": {},
   "outputs": [],
   "source": []
  },
  {
   "cell_type": "raw",
   "metadata": {},
   "source": [
    "Hy_left_conductor  = c * (eq_8_l_subs3.rhs()*kappa_l    / (mu_l  *omega))\n",
    "Hy_right_conductor = c * (eq_8_r_subs3.rhs()*kappa_r    / (mu_r  *omega))\n",
    "Hy_vacuum          = c * (eq_6_subs3.rhs()*kappa_vacuum / (mu_0*omega))"
   ]
  },
  {
   "cell_type": "code",
   "execution_count": null,
   "metadata": {},
   "outputs": [],
   "source": [
    "Hy_left_conductor_subs  = Hy_left_conductor .subs(K_left_conductor_subs_d).subs(kappa_vacuum_sol).subs(kappa_l_sol).subs(k_z_sol)\n",
    "Hy_right_conductor_subs = Hy_right_conductor.subs(K_right_conductor_subs_d).subs(kappa_vacuum_sol).subs(kappa_r_sol).subs(k_z_sol)\n",
    "Hy_vacuum_subs          = Hy_vacuum         .subs(K_vacuum_subs_d)   .subs(kappa_vacuum_sol).subs(kappa_l_sol).subs(k_z_sol)"
   ]
  },
  {
   "cell_type": "code",
   "execution_count": null,
   "metadata": {},
   "outputs": [],
   "source": [
    "Ex_left_conductor_d  = Ex_left_conductor_subs .subs(digit_values).subs([B1_zl_re_im_subs]).subs(coeffs_subs)\n",
    "Ex_right_conductor_d = Ex_right_conductor_subs.subs(digit_values).subs([B1_zr_re_im_subs]).subs(coeffs_subs)\n",
    "Ex_vacuum_d          = Ex_vacuum_subs         .subs(digit_values).subs([A1_z_re_im_subs,A2_z_re_im_subs]).subs(coeffs_subs)"
   ]
  },
  {
   "cell_type": "code",
   "execution_count": null,
   "metadata": {},
   "outputs": [],
   "source": [
    "Dx_left_conductor_d  = Dx_left_conductor_subs .subs(digit_values).subs([B1_zl_re_im_subs]).subs(coeffs_subs)\n",
    "Dx_right_conductor_d = Dx_right_conductor_subs.subs(digit_values).subs([B1_zr_re_im_subs]).subs(coeffs_subs)\n",
    "Dx_vacuum_d          = Dx_vacuum_subs         .subs(digit_values).subs([A1_z_re_im_subs, A2_z_re_im_subs]).subs(coeffs_subs)"
   ]
  },
  {
   "cell_type": "code",
   "execution_count": null,
   "metadata": {},
   "outputs": [],
   "source": []
  },
  {
   "cell_type": "code",
   "execution_count": null,
   "metadata": {},
   "outputs": [],
   "source": [
    "Hy_left_conductor_d  = Hy_left_conductor_subs .subs(digit_values).subs([B1_zl_re_im_subs]).subs(coeffs_subs)\n",
    "Hy_right_conductor_d = Hy_right_conductor_subs.subs(digit_values).subs([B1_zr_re_im_subs]).subs(coeffs_subs)\n",
    "Hy_vacuum_d          = Hy_vacuum_subs         .subs(digit_values).subs([A1_z_re_im_subs,A2_z_re_im_subs]).subs(coeffs_subs)"
   ]
  },
  {
   "cell_type": "code",
   "execution_count": null,
   "metadata": {},
   "outputs": [],
   "source": [
    "K_vacuum_subs"
   ]
  },
  {
   "cell_type": "code",
   "execution_count": null,
   "metadata": {},
   "outputs": [],
   "source": [
    "Ez_vacuum          = E_inner_vacuum_sol_z   .subs(K_vacuum_subs).subs(kappa_vacuum_sol)\n",
    "Ez_left_conductor  = E_left_conductor_sol_z .subs(K_left_conductor_subs).subs(kappa_sol_l)\n",
    "Ez_right_conductor = E_right_conductor_sol_z.subs(K_right_conductor_subs).subs(kappa_sol_r)"
   ]
  },
  {
   "cell_type": "code",
   "execution_count": null,
   "metadata": {},
   "outputs": [],
   "source": [
    "coeffs_subs"
   ]
  },
  {
   "cell_type": "code",
   "execution_count": null,
   "metadata": {},
   "outputs": [],
   "source": [
    "Ez_left_conductor_d  = Ez_left_conductor .subs(k_z_sol).subs(digit_values).subs([B1_zl_re_im_subs]).subs(coeffs_subs)\n",
    "Ez_right_conductor_d = Ez_right_conductor.subs(k_z_sol).subs(digit_values).subs([B1_zr_re_im_subs]).subs(coeffs_subs)\n",
    "Ez_vacuum_d          = Ez_vacuum         .subs(k_z_sol).subs(digit_values).subs([A1_z_re_im_subs,A2_z_re_im_subs]).subs(coeffs_subs)"
   ]
  },
  {
   "cell_type": "code",
   "execution_count": null,
   "metadata": {},
   "outputs": [],
   "source": [
    "Ez_vacuum_d(x)"
   ]
  },
  {
   "cell_type": "code",
   "execution_count": null,
   "metadata": {},
   "outputs": [],
   "source": [
    "divE_vacuum = I*k_z * Ez_vacuum_d (x=x) + Ex_vacuum_d (x=x).diff(x)"
   ]
  },
  {
   "cell_type": "code",
   "execution_count": null,
   "metadata": {
    "scrolled": false
   },
   "outputs": [],
   "source": [
    "divE_vacuum_d = divE_vacuum.subs(k_z_sol).subs(digit_values).subs(coeffs_subs)"
   ]
  },
  {
   "cell_type": "code",
   "execution_count": null,
   "metadata": {},
   "outputs": [],
   "source": []
  },
  {
   "cell_type": "code",
   "execution_count": null,
   "metadata": {},
   "outputs": [],
   "source": [
    "divE_left_conductor  = I*k_z * Ez_left_conductor_d (x=x) + Ex_left_conductor_d (x=x).diff(x)\n",
    "divE_right_conductor = I*k_z * Ez_right_conductor_d (x=x) + Ex_right_conductor_d (x=x).diff(x)"
   ]
  },
  {
   "cell_type": "code",
   "execution_count": null,
   "metadata": {
    "scrolled": false
   },
   "outputs": [],
   "source": [
    "divE_left_conductor_d  = divE_left_conductor .subs(K_left_conductor_subs) .subs(kappa_sol_l).subs(k_z_sol).subs(digit_values).subs(coeffs_subs)\n",
    "divE_right_conductor_d = divE_right_conductor.subs(K_right_conductor_subs).subs(kappa_sol_r).subs(k_z_sol).subs(digit_values).subs(coeffs_subs)"
   ]
  },
  {
   "cell_type": "raw",
   "metadata": {},
   "source": []
  },
  {
   "cell_type": "code",
   "execution_count": null,
   "metadata": {},
   "outputs": [],
   "source": [
    "h_conductor = 0.1*A"
   ]
  },
  {
   "cell_type": "code",
   "execution_count": null,
   "metadata": {},
   "outputs": [],
   "source": [
    "Ez_vacuum_d"
   ]
  },
  {
   "cell_type": "code",
   "execution_count": null,
   "metadata": {},
   "outputs": [],
   "source": [
    "pl  = plot(Ez_left_conductor_d(x=x).real(), (x, -A-h_conductor, -A))\n",
    "pl += plot(Ez_vacuum_d.real(), (x, -A, A))\n",
    "pl += plot(Ez_right_conductor_d.real(), (x, A, A+h_conductor))\n",
    "pl.show(title=\"График Re тангенциальной компоненты электрического поля\")"
   ]
  },
  {
   "cell_type": "code",
   "execution_count": null,
   "metadata": {},
   "outputs": [],
   "source": [
    "pl  = plot(Ez_left_conductor_d.imag(), (x, -A-h_conductor, -A))\n",
    "pl += plot(Ez_vacuum_d.imag(), (x, -A, A))\n",
    "pl += plot(Ez_right_conductor_d.imag(), (x, A, A+h_conductor))\n",
    "pl.show(title=\"График Im тангенциальной компоненты электрического поля\")"
   ]
  },
  {
   "cell_type": "code",
   "execution_count": null,
   "metadata": {},
   "outputs": [],
   "source": [
    "disp(Ez_right_conductor)"
   ]
  },
  {
   "cell_type": "code",
   "execution_count": null,
   "metadata": {},
   "outputs": [],
   "source": [
    "disp(Ez_vacuum)"
   ]
  },
  {
   "cell_type": "code",
   "execution_count": null,
   "metadata": {},
   "outputs": [],
   "source": [
    "pl  = plot(Ez_left_conductor_d.imag(), (x, -A-A, -A))\n",
    "pl += plot(Ez_vacuum_d.imag(), (x, -A, A))\n",
    "pl += plot(Ez_right_conductor_d.imag(), (x, A, A+A))\n",
    "pl.show(title=\"График Im тангенциальной компоненты электрического поля\")"
   ]
  },
  {
   "cell_type": "code",
   "execution_count": null,
   "metadata": {},
   "outputs": [],
   "source": [
    "pl =  plot(Ez_left_conductor_d.abs(), (x, -A-h_conductor, -A))\n",
    "pl += plot(Ez_vacuum_d.abs(), (x, -A, A))\n",
    "pl += plot(Ez_right_conductor_d.abs(), (x, A, A+h_conductor))\n",
    "pl.show(title=\"График Abs тангенциальной компоненты электрического поля\")"
   ]
  },
  {
   "cell_type": "code",
   "execution_count": null,
   "metadata": {},
   "outputs": [],
   "source": [
    "pl  = plot(arg(Ez_left_conductor_d(x=x))/pi, (x, -h_conductor-A, -A))\n",
    "pl += plot(arg(Ez_vacuum_d(x=x))/pi, (x, -A, A))\n",
    "pl += plot(arg(Ez_right_conductor_d(x=x))/pi, (x, A, A+h_conductor))\n",
    "pl.show(title=\"График Arg тангенциальной компоненты электрического поля\")"
   ]
  },
  {
   "cell_type": "code",
   "execution_count": null,
   "metadata": {},
   "outputs": [],
   "source": []
  },
  {
   "cell_type": "code",
   "execution_count": null,
   "metadata": {},
   "outputs": [],
   "source": [
    "pl  = plot((Ex_left_conductor_d * epsilon_l_complex).subs(digit_values).real(), (x, -A-h_conductor, -A))\n",
    "pl += plot(Ex_vacuum_d.real(), (x, -A, A))\n",
    "pl += plot((Ex_right_conductor_d * epsilon_r_complex).subs(digit_values).real(), (x, A, A+h_conductor))\n",
    "pl.show(title=\"График Re нормальной компоненты электрического смещения\")"
   ]
  },
  {
   "cell_type": "code",
   "execution_count": null,
   "metadata": {},
   "outputs": [],
   "source": [
    "pl  = plot((Ex_left_conductor_d * epsilon_l_complex).subs(digit_values).imag(), (x, -h_conductor-A, -A))\n",
    "pl += plot(Ex_vacuum_d.imag(), (x, -A, A))\n",
    "pl += plot((Ex_right_conductor_d * epsilon_r_complex).subs(digit_values).imag(), (x, A, A+h_conductor))\n",
    "pl.show(title=\"График Im нормальной компоненты электрического смещения\")"
   ]
  },
  {
   "cell_type": "code",
   "execution_count": null,
   "metadata": {},
   "outputs": [],
   "source": [
    "pl  = plot((Ex_left_conductor_d * epsilon_l_complex).subs(digit_values).abs(), (x, -h_conductor-A, -A))\n",
    "pl += plot(Ex_vacuum_d.abs(), (x, -A, A))\n",
    "pl += plot((Ex_right_conductor_d * epsilon_r_complex).subs(digit_values).abs(), (x, A, A+h_conductor))\n",
    "pl.show(title=\"График Abs нормальной компоненты электрического смещения\")"
   ]
  },
  {
   "cell_type": "code",
   "execution_count": null,
   "metadata": {},
   "outputs": [],
   "source": [
    "pl  = plot(arg((Ex_left_conductor_d * epsilon_l_complex).subs(digit_values))/pi, (x, -h_conductor-A, -A))\n",
    "pl += plot(arg(Ex_vacuum_d)/pi, (x, -A, A))\n",
    "pl += plot(arg((Ex_right_conductor_d * epsilon_r_complex).subs(digit_values))/pi, (x, A, A+h_conductor))\n",
    "pl.show(title=\"График Arg нормальной компоненты электрического смещения\")"
   ]
  },
  {
   "cell_type": "code",
   "execution_count": null,
   "metadata": {},
   "outputs": [],
   "source": [
    "pl  = plot(Hy_left_conductor_d.real(), (x, -h_conductor-A, -A))\n",
    "pl += plot(Hy_vacuum_d.real(), (x, -A, A))\n",
    "pl += plot(Hy_right_conductor_d.real(), (x, A, A+h_conductor))\n",
    "pl.show(title=\"График Re тангенциальной компоненты напряженности магнитного поля H\")"
   ]
  },
  {
   "cell_type": "code",
   "execution_count": null,
   "metadata": {},
   "outputs": [],
   "source": [
    "pl  = plot(Hy_left_conductor_d.imag(), (x, -h_conductor-A, -A))\n",
    "pl += plot(Hy_vacuum_d.imag(), (x, -A, A))\n",
    "pl += plot(Hy_right_conductor_d.imag(), (x, A, A+h_conductor))\n",
    "pl.show(title=\"График Im тангенциальной компоненты напряженности магнитного поля H\")"
   ]
  },
  {
   "cell_type": "code",
   "execution_count": null,
   "metadata": {},
   "outputs": [],
   "source": [
    "pl  = plot(Hy_left_conductor_d.abs(), (x, -h_conductor-A, -A))\n",
    "pl += plot(Hy_vacuum_d.abs(), (x, -A, A))\n",
    "pl += plot(Hy_right_conductor_d.abs(), (x, A, A+h_conductor))\n",
    "pl.show(title=\"График Abs тангенциальной компоненты напряженности магнитного поля H\")"
   ]
  },
  {
   "cell_type": "code",
   "execution_count": null,
   "metadata": {},
   "outputs": [],
   "source": [
    "Ez_vacuum"
   ]
  },
  {
   "cell_type": "code",
   "execution_count": null,
   "metadata": {},
   "outputs": [],
   "source": [
    "pl  = plot(arg(Hy_left_conductor_d)/pi, (x, -h_conductor-A, -A))\n",
    "pl += plot(arg(Hy_vacuum_d)/pi, (x, -A, A))\n",
    "pl += plot(arg(Hy_right_conductor_d)/pi, (x, A, A+h_conductor))\n",
    "pl.show(title=\"График Arg тангенциальной компоненты напряженности магнитного поля H\")"
   ]
  },
  {
   "cell_type": "code",
   "execution_count": null,
   "metadata": {},
   "outputs": [],
   "source": [
    "Ez_left_conductor"
   ]
  },
  {
   "cell_type": "code",
   "execution_count": null,
   "metadata": {},
   "outputs": [],
   "source": []
  },
  {
   "cell_type": "code",
   "execution_count": null,
   "metadata": {},
   "outputs": [],
   "source": [
    "pl  = plot(arg(Hy_left_conductor_d)/pi  - arg(Ez_left_conductor_d(x=x))/pi, (x, -h_conductor-A, -A))\n",
    "pl += plot(arg(Hy_vacuum_d)/pi          - arg(Ez_vacuum_d(x=x))/pi, (x, -A, A))\n",
    "pl += plot(arg(Hy_right_conductor_d)/pi - arg(Ez_right_conductor_d(x=x))/pi, (x, A, A+h_conductor))\n",
    "pl.show(title=\"График delta Arg тангенциальных компонент H и E\")"
   ]
  },
  {
   "cell_type": "code",
   "execution_count": null,
   "metadata": {},
   "outputs": [],
   "source": []
  },
  {
   "cell_type": "markdown",
   "metadata": {},
   "source": [
    "Решение получено.\n",
    "\n",
    "Теперь посчитаем:\n",
    "\n",
    "1) пондеромоторную силу, приложенную к идеальному проводнику\n",
    "\n",
    "2) пондеромоторную силу, приложенную к границе диэлектрика и вакуума\n"
   ]
  },
  {
   "cell_type": "code",
   "execution_count": null,
   "metadata": {},
   "outputs": [],
   "source": []
  },
  {
   "cell_type": "markdown",
   "metadata": {},
   "source": [
    "1) пондеромоторная сила, приложенная к идеальному проводнику"
   ]
  },
  {
   "cell_type": "code",
   "execution_count": null,
   "metadata": {},
   "outputs": [],
   "source": [
    "# superconductor force\n",
    "# additional 1/2 arises as result of integration on period\n",
    "#f_superconductor = - abs((even_H_inner_vacuum_y (0)^2) / (2*8*pi))\n",
    "f_left_conductor = - (Hy_vacuum_d (x=-A).real()^2 + Hy_vacuum_d (x=-A).imag()^2) / (2*8*pi)\n",
    "print(\"f_left_conductor =\", f_left_conductor.n())"
   ]
  },
  {
   "cell_type": "markdown",
   "metadata": {},
   "source": [
    "2) пондеромоторная сила, приложенная к плохому проводнику"
   ]
  },
  {
   "cell_type": "code",
   "execution_count": null,
   "metadata": {},
   "outputs": [],
   "source": [
    "# bad conductor force\n",
    "# additional 1/2 arises as result of integration on period\n",
    "#f_bad_conductor = abs((even_H_inner_vacuum_y (a)^2) / (2*8*pi))\n",
    "f_right_conductor = (Hy_vacuum_d (x=0).real()^2 + Hy_vacuum_d (x=0).imag()^2) / (2*8*pi)\n",
    "\n",
    "print(\"f_right_conductor =\", f_right_conductor.n())"
   ]
  },
  {
   "cell_type": "code",
   "execution_count": null,
   "metadata": {},
   "outputs": [],
   "source": []
  },
  {
   "cell_type": "code",
   "execution_count": null,
   "metadata": {},
   "outputs": [],
   "source": [
    "(f_left_conductor + f_right_conductor).n()"
   ]
  },
  {
   "cell_type": "code",
   "execution_count": null,
   "metadata": {},
   "outputs": [],
   "source": []
  },
  {
   "cell_type": "code",
   "execution_count": null,
   "metadata": {},
   "outputs": [],
   "source": [
    "# Static and dynamic electricity by William R. Smythe, second edition, 1950\n",
    "# paragraph 18 formula 1.47\n",
    "# давление на границу равно разности давлений по обе стороны от нее\n",
    "# $$ P_n = \\frac{1}{2} \\epsilon'{{E'}_t}^2 - \\frac{1}{2} \\epsilon''{{E''}_t}^2 $$"
   ]
  },
  {
   "cell_type": "markdown",
   "metadata": {},
   "source": [
    "$$ P_n = \\frac{1}{2} \\epsilon'{{E'}_t}^2 - \\frac{1}{2} \\epsilon''{{E''}_t}^2 $$"
   ]
  },
  {
   "cell_type": "code",
   "execution_count": null,
   "metadata": {},
   "outputs": [],
   "source": [
    "# bad conductor force\n",
    "# additional 1/2 arises as result of integration on period\n",
    "p_left_conductor = -(((epsilon_l_complex - 1.0)*Ez_vacuum_d(x=-A))*Ez_vacuum_d(x=-A)/(2*8*pi)).subs(digit_values).abs()\n",
    "print(\"p_left_conductor =\", p_left_conductor.n())"
   ]
  },
  {
   "cell_type": "code",
   "execution_count": null,
   "metadata": {},
   "outputs": [],
   "source": [
    "# bad conductor force\n",
    "# additional 1/2 arises as result of integration on period\n",
    "p_right_conductor = (((1.0 - epsilon_r_complex)*Ez_vacuum_d(x=0))*Ez_vacuum_d(x=0)/(2*8*pi)).subs(digit_values).abs()\n",
    "print(\"p_right_conductor =\", p_right_conductor.n())"
   ]
  },
  {
   "cell_type": "code",
   "execution_count": null,
   "metadata": {},
   "outputs": [],
   "source": [
    "# Static and dynamic electricity by William R. Smythe, second edition, 1950\n",
    "# paragraph 18 formula 1.45\n",
    "# натяжение на границе, созданное нормальными компонентами индукции\n",
    "# должно равняться разности натяжений по обе стороны от границы\n",
    "# $$ T_n = \\frac{{{D'}_n}^2}{2 \\epsilon'} - \\frac{{{D''}_n}^2}{2 \\epsilon''} $$"
   ]
  },
  {
   "cell_type": "markdown",
   "metadata": {},
   "source": [
    "$$ T_n = \\frac{{{D'}_n}^2}{2 \\epsilon'} - \\frac{{{D''}_n}^2}{2 \\epsilon''} $$"
   ]
  },
  {
   "cell_type": "code",
   "execution_count": null,
   "metadata": {},
   "outputs": [],
   "source": [
    "disp(Ez_right_conductor)"
   ]
  },
  {
   "cell_type": "code",
   "execution_count": null,
   "metadata": {
    "scrolled": true
   },
   "outputs": [],
   "source": [
    "# super conductor tension\n",
    "# additional 1/2 arises as result of integration on period\n",
    "# epsilon_superconductor -> Infinity\n",
    "# 1 / epsilon_superconductor -> 0.0\n",
    "\n",
    "t_left_conductor = -(((1/epsilon_l_complex - 1/1.)*(Dx_vacuum_d (x=-A)))*Dx_vacuum_d(x=-A)/(2*8*pi)).subs(digit_values).abs() \n",
    "print(\"t_left_conductor =\", t_left_conductor.n())"
   ]
  },
  {
   "cell_type": "code",
   "execution_count": null,
   "metadata": {},
   "outputs": [],
   "source": [
    "# bad conductor force\n",
    "# additional 1/2 arises as result of integration on period\n",
    "t_right_conductor = (((1.0/1.0 - 1/epsilon_r_complex)*Dx_vacuum_d (x=0)) * Dx_vacuum_d(x=0)/(2*8*pi)).subs(digit_values).abs()\n",
    "print(\"t_right_conductor =\", t_right_conductor.n())"
   ]
  },
  {
   "cell_type": "code",
   "execution_count": null,
   "metadata": {},
   "outputs": [],
   "source": []
  },
  {
   "cell_type": "markdown",
   "metadata": {},
   "source": [
    "Результаты вычислений показывают, что тяга в волновом двигателе с внутренним расходом энергии Ф.Ф.Менде (MenDrive) ненулевая и равна"
   ]
  },
  {
   "cell_type": "code",
   "execution_count": null,
   "metadata": {},
   "outputs": [],
   "source": [
    "(f_left_conductor + f_right_conductor + t_left_conductor + t_right_conductor).n()"
   ]
  },
  {
   "cell_type": "code",
   "execution_count": null,
   "metadata": {},
   "outputs": [],
   "source": [
    "(f_left_conductor + f_right_conductor + t_left_conductor + t_right_conductor - p_left_conductor - p_right_conductor).n()"
   ]
  },
  {
   "cell_type": "raw",
   "metadata": {},
   "source": [
    "k_z_root[0] = k_z_root[0]\n",
    "k_z_root[1] = k_z_root[1]"
   ]
  },
  {
   "cell_type": "code",
   "execution_count": null,
   "metadata": {},
   "outputs": [],
   "source": [
    "# H^2/8 pi"
   ]
  },
  {
   "cell_type": "code",
   "execution_count": null,
   "metadata": {},
   "outputs": [],
   "source": [
    "(f_left_conductor + f_right_conductor).n()"
   ]
  },
  {
   "cell_type": "code",
   "execution_count": null,
   "metadata": {},
   "outputs": [],
   "source": [
    "(t_left_conductor + t_right_conductor).n()"
   ]
  },
  {
   "cell_type": "code",
   "execution_count": null,
   "metadata": {},
   "outputs": [],
   "source": [
    "(- p_left_conductor - p_right_conductor).n()"
   ]
  },
  {
   "cell_type": "code",
   "execution_count": null,
   "metadata": {},
   "outputs": [],
   "source": []
  },
  {
   "cell_type": "code",
   "execution_count": null,
   "metadata": {},
   "outputs": [],
   "source": [
    "field_energy = (A1_z_re^2 + A1_z_im^2).subs(coeffs_subs)\n",
    "field_energy"
   ]
  },
  {
   "cell_type": "code",
   "execution_count": null,
   "metadata": {},
   "outputs": [],
   "source": []
  },
  {
   "cell_type": "code",
   "execution_count": null,
   "metadata": {},
   "outputs": [],
   "source": [
    "(f_left_conductor + f_right_conductor).n()/(field_energy)"
   ]
  },
  {
   "cell_type": "code",
   "execution_count": null,
   "metadata": {},
   "outputs": [],
   "source": [
    "(t_left_conductor + t_right_conductor).n()/(field_energy)"
   ]
  },
  {
   "cell_type": "code",
   "execution_count": null,
   "metadata": {},
   "outputs": [],
   "source": [
    "(- p_left_conductor - p_right_conductor).n()/(field_energy)"
   ]
  },
  {
   "cell_type": "code",
   "execution_count": null,
   "metadata": {},
   "outputs": [],
   "source": [
    "(+ f_left_conductor + f_right_conductor \\\n",
    " + t_left_conductor + t_right_conductor \\\n",
    " - p_left_conductor - p_right_conductor).n()/(field_energy)"
   ]
  },
  {
   "cell_type": "code",
   "execution_count": null,
   "metadata": {},
   "outputs": [],
   "source": []
  },
  {
   "cell_type": "code",
   "execution_count": null,
   "metadata": {},
   "outputs": [],
   "source": [
    "#мощность выделения тепла в единице объёма\n",
    "#https://ru.wikipedia.org/wiki/%D0%97%D0%B0%D0%BA%D0%BE%D0%BD_%D0%94%D0%B6%D0%BE%D1%83%D0%BB%D1%8F_%E2%80%94_%D0%9B%D0%B5%D0%BD%D1%86%D0%B0\n",
    "# https://en.wikipedia.org/wiki/Joule_heating\n",
    "# additional 1/2 arises as result of integration on period\n",
    "# dPdV = E^2*sigma / 2\n",
    "# dPdS = integrate(E^2*sigma / 2, x)"
   ]
  },
  {
   "cell_type": "code",
   "execution_count": null,
   "metadata": {},
   "outputs": [],
   "source": [
    "wr = lambda x : sigma_r_d * (Ez_right_conductor_d(x=x).abs()^2 + Ex_right_conductor_d(x=x).abs()^2)"
   ]
  },
  {
   "cell_type": "code",
   "execution_count": null,
   "metadata": {},
   "outputs": [],
   "source": [
    "wrz = lambda x : sigma_r_d * Ez_right_conductor_d(x=x).abs()^2"
   ]
  },
  {
   "cell_type": "code",
   "execution_count": null,
   "metadata": {},
   "outputs": [],
   "source": [
    "wrx = lambda x : sigma_r_d * Ex_right_conductor_d(x=x).abs()^2"
   ]
  },
  {
   "cell_type": "code",
   "execution_count": null,
   "metadata": {},
   "outputs": [],
   "source": [
    "wl = lambda x : sigma_l_d * (Ez_left_conductor_d(x=x).abs()^2 + Ex_left_conductor_d(x=x).abs()^2)"
   ]
  },
  {
   "cell_type": "raw",
   "metadata": {},
   "source": [
    "from scipy import integrate as scipy_integrate\n",
    "w_r = scipy_integrate.quad(wr, 0, +Infinity)\n",
    "w_r\n",
    "\n",
    "#IntegrationWarning: The occurrence of roundoff error is detected, which prevents \n",
    "#  the requested tolerance from being achieved.  The error may be \n",
    "#  underestimated."
   ]
  },
  {
   "cell_type": "raw",
   "metadata": {},
   "source": [
    "from scipy import integrate as scipy_integrate\n",
    "w_rz = scipy_integrate.quad(wrz, 0, +Infinity)\n",
    "w_rz\n",
    "\n",
    "#IntegrationWarning: The occurrence of roundoff error is detected, which prevents \n",
    "#  the requested tolerance from being achieved.  The error may be \n",
    "#  underestimated."
   ]
  },
  {
   "cell_type": "code",
   "execution_count": null,
   "metadata": {},
   "outputs": [],
   "source": [
    "from scipy import integrate as scipy_integrate\n",
    "w_rx = scipy_integrate.quad(wrx, 0, +Infinity)\n",
    "w_rx"
   ]
  },
  {
   "cell_type": "code",
   "execution_count": null,
   "metadata": {},
   "outputs": [],
   "source": [
    "w_l = scipy_integrate.quad(wl, -Infinity, -h_conductor-A)\n",
    "w_l"
   ]
  },
  {
   "cell_type": "code",
   "execution_count": null,
   "metadata": {},
   "outputs": [],
   "source": [
    "W_l = w_l[0]\n",
    "W_l"
   ]
  },
  {
   "cell_type": "code",
   "execution_count": null,
   "metadata": {},
   "outputs": [],
   "source": [
    "W_r = integrate(sigma_r_d * (Ez_right_conductor_d(x=x).abs()^2 + Ex_right_conductor_d(x=x).abs()^2), (x, 0, +Infinity), algorithm = 'sympy').n()\n",
    "W_r"
   ]
  },
  {
   "cell_type": "raw",
   "metadata": {},
   "source": [
    "W_l = integrate(sigma_l_d * (Ez_left_conductor_d(x=x).abs()^2 + Ex_left_conductor_d(x=x).abs()^2), (x, -Infinity, -h_conductor-A), algorithm = 'sympy'  )\n",
    "# too long time\n",
    "W_l"
   ]
  },
  {
   "cell_type": "code",
   "execution_count": null,
   "metadata": {},
   "outputs": [],
   "source": [
    "W = W_r + W_l\n",
    "W"
   ]
  },
  {
   "cell_type": "code",
   "execution_count": null,
   "metadata": {},
   "outputs": [],
   "source": [
    "# F / P\n",
    "# dyne / (erg/s)\n",
    "\n",
    "# 1 erg  = 10^-7 joule\n",
    "# 1 dyne = 10^-5 N\n",
    "\n",
    "# 1 dyne / (erg/s) = 10^-5 / (10^-7) = 100 N/watt"
   ]
  },
  {
   "cell_type": "code",
   "execution_count": null,
   "metadata": {},
   "outputs": [],
   "source": [
    "(f_left_conductor + f_right_conductor).n()/(W)"
   ]
  },
  {
   "cell_type": "code",
   "execution_count": null,
   "metadata": {},
   "outputs": [],
   "source": [
    "(t_left_conductor + t_right_conductor).n()/(W)"
   ]
  },
  {
   "cell_type": "code",
   "execution_count": null,
   "metadata": {},
   "outputs": [],
   "source": [
    "(- p_left_conductor - p_right_conductor).n()/(W)"
   ]
  },
  {
   "cell_type": "code",
   "execution_count": null,
   "metadata": {},
   "outputs": [],
   "source": [
    "# N/watt"
   ]
  },
  {
   "cell_type": "code",
   "execution_count": null,
   "metadata": {},
   "outputs": [],
   "source": [
    "100*(+ f_left_conductor + f_right_conductor \\\n",
    " + t_left_conductor + t_right_conductor \\\n",
    " - p_left_conductor - p_right_conductor).n()/(W)"
   ]
  },
  {
   "cell_type": "code",
   "execution_count": null,
   "metadata": {},
   "outputs": [],
   "source": [
    "# N/kwatt"
   ]
  },
  {
   "cell_type": "code",
   "execution_count": null,
   "metadata": {},
   "outputs": [],
   "source": [
    "10^5*(+ f_left_conductor + f_right_conductor \\\n",
    " + t_left_conductor + t_right_conductor \\\n",
    " - p_left_conductor - p_right_conductor).n()/(W)"
   ]
  },
  {
   "cell_type": "markdown",
   "metadata": {},
   "source": [
    "положительный знак соответствует направлению тяги в сторону увеличения значений x"
   ]
  },
  {
   "cell_type": "code",
   "execution_count": null,
   "metadata": {},
   "outputs": [],
   "source": [
    "#Propulsion and Energy Forum\n",
    "#July 28-30, 2014, Cleveland, OH\n",
    "#50th AIAA/ASME/SAE/ASEE Joint Propulsion Conference\n",
    "#Anomalous Thrust Production from an RF Test Device\n",
    "#Measured on a Low-Thrust Torsion Pendulum\n",
    "#David A. Brady * , Harold G. White † , Paul March ‡ , James T. Lawrence § , and Frank J. Davies **\n",
    "#NASA Lyndon B. Johnson Space Center, Houston, Texas 77058\n",
    "\n",
    "\n",
    "#Tapered Cavity RF Evaluation and Testing, TE012 mode\n",
    "#Prior to the TM211 evaluations, COMSOL® analysis indicated that the TE012 was an effective thrust generation\n",
    "#mode for the tapered cavity thruster being evaluated, so this mode was explored early in the evaluation process.\n",
    "#Figure 22 shows a test run at the TE012 mode with an operating frequency of 1880.4 MHz. The measured quality\n",
    "#factor was ~22,000, with a COMSOL prediction of 21,817. The measured power applied to the test article was\n",
    "#measured to be 2.6 watts, and the (net) measured thrust was 55.4 micronewtons. With an input power of 2.6 watts,\n",
    "#correcting for the quality factor, the predicted thrust is 50 micronewtons. However, since the TE012 mode had\n",
    "#numerous other RF modes in very close proximity, it was impractical to repeatedly operate the system in this mode,\n",
    "#so the decision was made to evaluate the TM211 modes instead.\n",
    "\n",
    "#E. Tapered Cavity Testing: Summary of Results\n",
    "# Mode \n",
    "# Frequency (MHz)\n",
    "# Quality Factor, Q \n",
    "\n",
    "# Input Power (W) \n",
    "# Peak Thrust (μN) \n",
    "# Mean Thrust (μN) \n",
    "# Number of Test Runs\n",
    "# TM211 1932.6   7320  16.9  116.0   91.2  5\n",
    "# TM211 1936.7 18,100  16.7   54.1   50.1  2\n",
    "# TE012 1880.4 22,000   2.6   55.4   55.4  1\n",
    "\n",
    "# Harrington, Roger F. (1961). Time-Harmonic Electromagnetic Fields. McGraw-Hill. ISBN 9780070267459.\n",
    "\n",
    "# EEE TRANSACTIONS ON MICROWAVE THEORY AND TECHNIQUES, VOL. 54, NO. 4, APRIL 2006\n",
    "# Two-Resonator Method for Measurement of Dielectric Anisotropy in Multilayer SamplesPlamen I. Dankov, Member, IEEE\n",
    "# https://www.researchgate.net/publication/3131333_Two-resonator_method_for_measurement_of_dielectric_anisotropy_in_multilayer_samples"
   ]
  },
  {
   "cell_type": "code",
   "execution_count": null,
   "metadata": {},
   "outputs": [],
   "source": [
    "# they have obtained\n",
    "# 0,005396449704142\n",
    "# 0,003\n",
    "# 0,0213076923076923\n",
    "# N/kwatt"
   ]
  },
  {
   "cell_type": "code",
   "execution_count": null,
   "metadata": {},
   "outputs": [],
   "source": [
    "# test found solution with Maxwell equations"
   ]
  },
  {
   "cell_type": "markdown",
   "metadata": {},
   "source": [
    "$$rot\\,\\vec{E} = \\mu\\,\\frac{i\\,\\omega}{c}\\,\\vec{H}$$\n",
    "\n",
    "$$rot\\,\\vec{H} = \\frac{1}{c}\\frac{\\partial \\vec D}{\\partial t} + \\frac{4\\pi}{c} \\vec j = - \\frac{i\\,\\omega}{c} \\epsilon \\vec{E} + \\frac{4\\pi}{c}\\sigma \\vec E$$\n",
    "\n",
    "$$rot\\,rot\\,\\vec{E} = \\mu\\,\\frac{i\\,\\omega}{c}rot\\,\\vec{H}$$\n",
    "\n",
    "$$rot\\,rot\\,\\vec{E} = \\mu\\,\\frac{i\\,\\omega}{c}\\left(- \\frac{i\\,\\omega}{c} \\epsilon \\vec{E} + \\frac{4\\pi}{c}\\sigma \\vec E\\right)$$\n",
    "\n",
    "$$rot\\,rot\\,\\vec{E} = \\epsilon \\mu\\,\\frac{\\omega^2}{c^2} \\vec{E} + i\\,\\omega\\,\\sigma\\,\\mu\\,\\frac{4\\pi}{c^2} \\vec E$$\n",
    "\n",
    "$$rot\\,rot\\,\\vec{E} = grad\\,div\\,\\vec{E} - Laplasian\\,\\vec{E}$$\n",
    "\n",
    "$$Laplasian\\,\\vec{E} + \\epsilon \\mu \\frac{\\omega^2}{c^2}\\,\\vec{E} + i\\,\\omega\\,\\sigma\\,\\mu\\,\\frac{4\\pi}{c^2} \\vec E - grad\\,div\\,\\vec{E} = 0$$"
   ]
  },
  {
   "cell_type": "code",
   "execution_count": null,
   "metadata": {},
   "outputs": [],
   "source": [
    "# уравнение Максвелла для тока смещения\n",
    "# rot_H   = - I * epsilon * omega / c * E\n",
    "# rot_H_x = diff(H_z, y) - diff(H_y, z)\n",
    "# rot_H_y = diff(H_x, z) - diff(H_z, x)\n",
    "# rot_H_z = diff(H_y, x) - diff(H_x, y)"
   ]
  },
  {
   "cell_type": "code",
   "execution_count": null,
   "metadata": {},
   "outputs": [],
   "source": [
    "rot_H_vacuum_x_d = - diff(Hy_vacuum_d(x=x)*e^(I*k_z*z), z).subs(k_z == kz + I * sz).subs(k_z_sol)\n",
    "rot_H_vacuum_y_d =   0\n",
    "rot_H_vacuum_z_d =   diff(Hy_vacuum_d(x=x)*e^(I*k_z*z), x).subs(k_z == kz + I * sz).subs(k_z_sol)"
   ]
  },
  {
   "cell_type": "code",
   "execution_count": null,
   "metadata": {},
   "outputs": [],
   "source": [
    "eq_rot_H_vacuum_x_d = rot_H_vacuum_x_d == \\\n",
    "(-I*omega/c*Ex_vacuum_d(x=x)*e^(I*k_z*z)).subs(k_z==kz+I*sz).subs(k_z_sol).subs(digit_values)"
   ]
  },
  {
   "cell_type": "code",
   "execution_count": null,
   "metadata": {},
   "outputs": [],
   "source": [
    "eq_rot_H_vacuum_z_d = rot_H_vacuum_z_d == \\\n",
    "(-I*omega/c*Ez_vacuum_d(x=x)*e^(I*k_z*z)).subs(k_z==kz+I*sz).subs(k_z_sol).subs(digit_values)"
   ]
  },
  {
   "cell_type": "code",
   "execution_count": null,
   "metadata": {},
   "outputs": [],
   "source": []
  },
  {
   "cell_type": "code",
   "execution_count": null,
   "metadata": {},
   "outputs": [],
   "source": [
    "(eq_rot_H_vacuum_x_d.rhs() / eq_rot_H_vacuum_x_d.lhs())"
   ]
  },
  {
   "cell_type": "code",
   "execution_count": null,
   "metadata": {},
   "outputs": [],
   "source": [
    "(eq_rot_H_vacuum_x_d.rhs() / eq_rot_H_vacuum_x_d.lhs())"
   ]
  },
  {
   "cell_type": "code",
   "execution_count": null,
   "metadata": {},
   "outputs": [],
   "source": [
    "plot((eq_rot_H_vacuum_z_d.rhs() / eq_rot_H_vacuum_z_d.lhs()).real(), (x, -A, A))"
   ]
  },
  {
   "cell_type": "code",
   "execution_count": null,
   "metadata": {},
   "outputs": [],
   "source": [
    "plt  = plot(eq_rot_H_vacuum_z_d.rhs().real().subs(z == 0), (x, -A, A))\n",
    "plt += plot(eq_rot_H_vacuum_z_d.lhs().real().subs(z == 0), (x, -A, A))\n",
    "plt.show()"
   ]
  },
  {
   "cell_type": "code",
   "execution_count": null,
   "metadata": {},
   "outputs": [],
   "source": [
    "plot((eq_rot_H_vacuum_z_d.rhs() / eq_rot_H_vacuum_z_d.lhs()).imag(), (x, -A, A))"
   ]
  },
  {
   "cell_type": "code",
   "execution_count": null,
   "metadata": {},
   "outputs": [],
   "source": [
    "plt  = plot(eq_rot_H_vacuum_z_d.rhs().imag().subs(z == 0), (x, -A, A))\n",
    "plt += plot(eq_rot_H_vacuum_z_d.lhs().imag().subs(z == 0), (x, -A, A))\n",
    "plt.show()"
   ]
  },
  {
   "cell_type": "code",
   "execution_count": null,
   "metadata": {},
   "outputs": [],
   "source": []
  },
  {
   "cell_type": "markdown",
   "metadata": {},
   "source": [
    "$$rot\\,\\vec{H} = \\frac{1}{c}\\frac{\\partial \\vec D}{\\partial t} + \\frac{4\\pi}{c} \\vec j = - \\frac{i\\,\\omega}{c} \\epsilon \\vec{E} + \\frac{4\\pi}{c}\\sigma \\vec E$$"
   ]
  },
  {
   "cell_type": "code",
   "execution_count": null,
   "metadata": {},
   "outputs": [],
   "source": [
    "# уравнение Максвелла для тока смещения\n",
    "# rot_H   = - I * epsilon * omega / c * E + 4 * pi / c * sigma * E\n",
    "# rot_H_x = diff(H_z, y) - diff(H_y, z)\n",
    "# rot_H_y = diff(H_x, z) - diff(H_z, x)\n",
    "# rot_H_z = diff(H_y, x) - diff(H_x, y)"
   ]
  },
  {
   "cell_type": "code",
   "execution_count": null,
   "metadata": {},
   "outputs": [],
   "source": [
    "rot_H_left_conductor_x_d = - diff(Hy_left_conductor_d(x=x)*e^(I*k_z*z), z).subs(k_z == kz + I * sz).subs(k_z_sol)\n",
    "rot_H_left_conductor_y_d =   0\n",
    "rot_H_left_conductor_z_d =   diff(Hy_left_conductor_d(x=x)*e^(I*k_z*z), x).subs(k_z == kz + I * sz).subs(k_z_sol)"
   ]
  },
  {
   "cell_type": "code",
   "execution_count": null,
   "metadata": {},
   "outputs": [],
   "source": [
    "rot_H_right_conductor_x_d = - diff(Hy_right_conductor_d(x=x)*e^(I*k_z*z), z).subs(k_z == kz + I * sz).subs(k_z_sol)\n",
    "rot_H_right_conductor_y_d =   0\n",
    "rot_H_right_conductor_z_d =   diff(Hy_right_conductor_d(x=x)*e^(I*k_z*z), x).subs(k_z == kz + I * sz).subs(k_z_sol)"
   ]
  },
  {
   "cell_type": "raw",
   "metadata": {},
   "source": [
    "Hy_left_conductor  = c * (eq_8_l_subs3.rhs()*kappa_l    / (mu_l * omega))\n",
    "Hy_right_conductor = c * (eq_8_r_subs3.rhs()*kappa_r    / (mu_r * omega))\n",
    "Hy_vacuum          = c * (eq_6_subs3.rhs()*kappa_vacuum / (mu_0 * omega))"
   ]
  },
  {
   "cell_type": "code",
   "execution_count": null,
   "metadata": {},
   "outputs": [],
   "source": [
    "rot_H_left_conductor_x = - diff(Hy_left_conductor(x=x)*e^(I*k_z*z), z)\n",
    "rot_H_left_conductor_y =   0\n",
    "rot_H_left_conductor_z =   diff(Hy_left_conductor(x=x)*e^(I*k_z*z), x)"
   ]
  },
  {
   "cell_type": "code",
   "execution_count": null,
   "metadata": {},
   "outputs": [],
   "source": [
    "rot_H_right_conductor_x = - diff(Hy_right_conductor(x=x)*e^(I*k_z*z), z)\n",
    "rot_H_right_conductor_y =   0\n",
    "rot_H_right_conductor_z =   diff(Hy_right_conductor(x=x)*e^(I*k_z*z), x)"
   ]
  },
  {
   "cell_type": "code",
   "execution_count": null,
   "metadata": {},
   "outputs": [],
   "source": [
    "eq_rot_H_left_conductor_x_d = rot_H_left_conductor_x_d == \\\n",
    "    ((-I*epsilon_l_complex*omega/c) * Ex_left_conductor_d(x=x)*e^(I*k_z*z)) \\\n",
    "    .subs(k_z == kz + I * sz).subs(k_z_sol).subs(digit_values)"
   ]
  },
  {
   "cell_type": "code",
   "execution_count": null,
   "metadata": {},
   "outputs": [],
   "source": [
    "eq_rot_H_right_conductor_x_d = rot_H_right_conductor_x_d == \\\n",
    "    ((-I*epsilon_r_complex*omega/c) * Ex_right_conductor_d(x=x)*e^(I*k_z*z)) \\\n",
    "    .subs(k_z == kz + I * sz).subs(k_z_sol).subs(digit_values)"
   ]
  },
  {
   "cell_type": "code",
   "execution_count": null,
   "metadata": {},
   "outputs": [],
   "source": [
    "eq_rot_H_left_conductor_z_d = rot_H_left_conductor_z_d == \\\n",
    "    ((-I*epsilon_l_complex*omega/c) * Ez_left_conductor_d(x=x)*e^(I*k_z*z)) \\\n",
    "    .subs(k_z == kz + I * sz).subs(k_z_sol).subs(digit_values)"
   ]
  },
  {
   "cell_type": "code",
   "execution_count": null,
   "metadata": {},
   "outputs": [],
   "source": [
    "eq_rot_H_right_conductor_z_d = rot_H_right_conductor_z_d == \\\n",
    "    ((-I*epsilon_r_complex*omega/c) * Ez_right_conductor_d(x=x)*e^(I*k_z*z)) \\\n",
    "    .subs(k_z == kz + I * sz).subs(k_z_sol).subs(digit_values)"
   ]
  },
  {
   "cell_type": "code",
   "execution_count": null,
   "metadata": {},
   "outputs": [],
   "source": [
    "eq_rot_H_left_conductor_x = rot_H_left_conductor_x == \\\n",
    "((-I*epsilon_l_complex*omega/c) * Ex_left_conductor(x=x)*e^(I*k_z*z))"
   ]
  },
  {
   "cell_type": "code",
   "execution_count": null,
   "metadata": {},
   "outputs": [],
   "source": [
    "eq_rot_H_right_conductor_x = rot_H_right_conductor_x == \\\n",
    "((-I*epsilon_r_complex*omega/c) * Ex_right_conductor(x=x)*e^(I*k_z*z))"
   ]
  },
  {
   "cell_type": "code",
   "execution_count": null,
   "metadata": {},
   "outputs": [],
   "source": []
  },
  {
   "cell_type": "code",
   "execution_count": null,
   "metadata": {},
   "outputs": [],
   "source": [
    "(eq_rot_H_left_conductor_x_d.lhs() / eq_rot_H_left_conductor_x_d.rhs()).n()"
   ]
  },
  {
   "cell_type": "code",
   "execution_count": null,
   "metadata": {},
   "outputs": [],
   "source": [
    "(eq_rot_H_right_conductor_x_d.lhs() / eq_rot_H_right_conductor_x_d.rhs()).n()"
   ]
  },
  {
   "cell_type": "code",
   "execution_count": null,
   "metadata": {},
   "outputs": [],
   "source": [
    "(eq_rot_H_left_conductor_x_d.lhs() / eq_rot_H_left_conductor_x_d.rhs()).abs().n()"
   ]
  },
  {
   "cell_type": "code",
   "execution_count": null,
   "metadata": {},
   "outputs": [],
   "source": [
    "(eq_rot_H_left_conductor_z_d.lhs() / eq_rot_H_left_conductor_z_d.rhs()).n()"
   ]
  },
  {
   "cell_type": "code",
   "execution_count": null,
   "metadata": {},
   "outputs": [],
   "source": [
    "(eq_rot_H_right_conductor_z_d.lhs() / eq_rot_H_right_conductor_z_d.rhs()).n()"
   ]
  },
  {
   "cell_type": "code",
   "execution_count": null,
   "metadata": {},
   "outputs": [],
   "source": []
  },
  {
   "cell_type": "markdown",
   "metadata": {},
   "source": [
    "$$rot\\,\\vec{E} = \\mu\\,\\frac{i\\,\\omega}{c}\\,\\vec{H}$$"
   ]
  },
  {
   "cell_type": "code",
   "execution_count": null,
   "metadata": {},
   "outputs": [],
   "source": [
    "# уравнение Максвелла для\n",
    "# rot_E   = I * mu * omega / c * H\n",
    "# rot_E_x = diff(E_z, y) - diff(E_y, z)\n",
    "# rot_E_y = diff(E_x, z) - diff(E_z, x)\n",
    "# rot_E_z = diff(E_y, x) - diff(E_x, y)"
   ]
  },
  {
   "cell_type": "code",
   "execution_count": null,
   "metadata": {},
   "outputs": [],
   "source": [
    "rot_E_vacuum_x_d = diff(Ez_vacuum_d(x=x)*e^(I*k_z*z), y)\n",
    "rot_E_vacuum_y_d = diff(Ex_vacuum_d(x=x)*e^(I*k_z*z), z) - diff(Ez_vacuum_d(x=x)*e^(I*k_z*z), x)\n",
    "rot_E_vacuum_z_d = - diff(Ex_vacuum_d(x=x)*e^(I*k_z*z), y)"
   ]
  },
  {
   "cell_type": "code",
   "execution_count": null,
   "metadata": {},
   "outputs": [],
   "source": [
    "eq_rot_E_vacuum_x_d = rot_E_vacuum_x_d == \\\n",
    "(I * omega / c * 0)"
   ]
  },
  {
   "cell_type": "code",
   "execution_count": null,
   "metadata": {},
   "outputs": [],
   "source": [
    "eq_rot_E_vacuum_y_d = (rot_E_vacuum_y_d == \\\n",
    "I * omega / c * Hy_vacuum_d(x=x)*e^(I*k_z*z)).subs(k_z == kz + I * sz).subs(k_z_sol).subs(digit_values)"
   ]
  },
  {
   "cell_type": "code",
   "execution_count": null,
   "metadata": {},
   "outputs": [],
   "source": [
    "eq_rot_E_vacuum_z_d = rot_E_vacuum_z_d == \\\n",
    "(I * omega / c * 0)"
   ]
  },
  {
   "cell_type": "code",
   "execution_count": null,
   "metadata": {},
   "outputs": [],
   "source": []
  },
  {
   "cell_type": "code",
   "execution_count": null,
   "metadata": {},
   "outputs": [],
   "source": [
    "(eq_rot_E_vacuum_y_d.rhs() / eq_rot_E_vacuum_y_d.lhs()).variables()"
   ]
  },
  {
   "cell_type": "code",
   "execution_count": null,
   "metadata": {},
   "outputs": [],
   "source": [
    "pl = plot(eq_rot_E_vacuum_y_d.rhs().real().subs(z == 0), (x, -A, 0))\n",
    "pl += plot(eq_rot_E_vacuum_y_d.lhs().real().subs(z == 0), (x, -A, 0))\n",
    "pl.show()"
   ]
  },
  {
   "cell_type": "code",
   "execution_count": null,
   "metadata": {},
   "outputs": [],
   "source": [
    "pl = plot(eq_rot_E_vacuum_y_d.rhs().imag().subs(z == 0), (x, -A, 0))\n",
    "pl += plot(eq_rot_E_vacuum_y_d.lhs().imag().subs(z == 0), (x, -A, 0))\n",
    "pl.show()"
   ]
  },
  {
   "cell_type": "code",
   "execution_count": null,
   "metadata": {},
   "outputs": [],
   "source": [
    "pl = plot(eq_rot_E_vacuum_y_d.rhs().abs().subs(z == 0), (x, -A, 0))\n",
    "pl += plot(eq_rot_E_vacuum_y_d.lhs().abs().subs(z == 0), (x, -A, 0))\n",
    "pl.show()"
   ]
  },
  {
   "cell_type": "code",
   "execution_count": null,
   "metadata": {},
   "outputs": [],
   "source": []
  },
  {
   "cell_type": "code",
   "execution_count": null,
   "metadata": {},
   "outputs": [],
   "source": [
    "# уравнение Максвелла для\n",
    "# rot_E   = I * mu * omega / c * H\n",
    "# rot_E_x = diff(E_z, y) - diff(E_y, z)\n",
    "# rot_E_y = diff(E_x, z) - diff(E_z, x)\n",
    "# rot_E_z = diff(E_y, x) - diff(E_x, y)"
   ]
  },
  {
   "cell_type": "code",
   "execution_count": null,
   "metadata": {},
   "outputs": [],
   "source": [
    "rot_E_left_conductor_x_d = diff(Ez_left_conductor_d(x=x)*e^(I*k_z*z), y)\n",
    "rot_E_left_conductor_y_d = diff(Ex_left_conductor_d(x=x)*e^(I*k_z*z), z) - diff(Ez_left_conductor_d(x=x)*e^(I*k_z*z), x)\n",
    "rot_E_left_conductor_z_d = - diff(Ex_left_conductor_d(x=x)*e^(I*k_z*z), y)"
   ]
  },
  {
   "cell_type": "code",
   "execution_count": null,
   "metadata": {},
   "outputs": [],
   "source": [
    "rot_E_right_conductor_x_d = diff(Ez_right_conductor_d(x=x)*e^(I*k_z*z), y)\n",
    "rot_E_right_conductor_y_d = diff(Ex_right_conductor_d(x=x)*e^(I*k_z*z), z) - diff(Ez_right_conductor_d(x=x)*e^(I*k_z*z), x)\n",
    "rot_E_right_conductor_z_d = - diff(Ex_right_conductor_d(x=x)*e^(I*k_z*z), y)"
   ]
  },
  {
   "cell_type": "code",
   "execution_count": null,
   "metadata": {},
   "outputs": [],
   "source": [
    "eq_rot_E_left_conductor_x_d = rot_E_left_conductor_x_d == \\\n",
    "(I * mu_l * omega / c * 0)"
   ]
  },
  {
   "cell_type": "code",
   "execution_count": null,
   "metadata": {},
   "outputs": [],
   "source": [
    "eq_rot_E_right_conductor_x_d = rot_E_right_conductor_x_d == \\\n",
    "(I * mu_r * omega / c * 0)"
   ]
  },
  {
   "cell_type": "code",
   "execution_count": null,
   "metadata": {},
   "outputs": [],
   "source": [
    "eq_rot_E_left_conductor_y_d = (rot_E_left_conductor_y_d == \\\n",
    "I * mu_l * omega / c * Hy_left_conductor_d*e^(I*k_z*z)).subs(k_z_sol).subs(digit_values)"
   ]
  },
  {
   "cell_type": "code",
   "execution_count": null,
   "metadata": {},
   "outputs": [],
   "source": [
    "eq_rot_E_right_conductor_y_d = (rot_E_right_conductor_y_d == \\\n",
    "I * mu_r * omega / c * Hy_right_conductor_d*e^(I*k_z*z)).subs(k_z_sol).subs(digit_values)"
   ]
  },
  {
   "cell_type": "code",
   "execution_count": null,
   "metadata": {},
   "outputs": [],
   "source": [
    "eq_rot_E_left_conductor_z_d = rot_E_left_conductor_z_d == \\\n",
    "(I * mu_l * omega / c * 0)"
   ]
  },
  {
   "cell_type": "code",
   "execution_count": null,
   "metadata": {},
   "outputs": [],
   "source": [
    "eq_rot_E_right_conductor_z_d = rot_E_right_conductor_z_d == \\\n",
    "(I * mu_r * omega / c * 0)"
   ]
  },
  {
   "cell_type": "code",
   "execution_count": null,
   "metadata": {},
   "outputs": [],
   "source": []
  },
  {
   "cell_type": "code",
   "execution_count": null,
   "metadata": {},
   "outputs": [],
   "source": [
    "pl = plot(eq_rot_E_left_conductor_y_d.rhs().real().subs(z == 0), (x, -h_conductor-A, -A))\n",
    "pl += plot(eq_rot_E_left_conductor_y_d.lhs().real().subs(z == 0), (x, -h_conductor-A, -A))\n",
    "pl.show()"
   ]
  },
  {
   "cell_type": "code",
   "execution_count": null,
   "metadata": {},
   "outputs": [],
   "source": [
    "pl = plot(eq_rot_E_right_conductor_y_d.rhs().real().subs(z == 0), (x, 0, h_conductor))\n",
    "pl += plot(eq_rot_E_right_conductor_y_d.lhs().real().subs(z == 0), (x, 0, h_conductor))\n",
    "pl.show()"
   ]
  },
  {
   "cell_type": "code",
   "execution_count": null,
   "metadata": {},
   "outputs": [],
   "source": [
    "pl = plot(eq_rot_E_left_conductor_y_d.rhs().imag().subs(z == 0), (x, -h_conductor-A, -A))\n",
    "pl += plot(eq_rot_E_left_conductor_y_d.lhs().imag().subs(z == 0), (x, -h_conductor-A, -A))\n",
    "pl.show()"
   ]
  },
  {
   "cell_type": "code",
   "execution_count": null,
   "metadata": {},
   "outputs": [],
   "source": [
    "pl = plot(eq_rot_E_right_conductor_y_d.rhs().imag().subs(z == 0), (x, 0, h_conductor))\n",
    "pl += plot(eq_rot_E_right_conductor_y_d.lhs().imag().subs(z == 0), (x, 0, h_conductor))\n",
    "pl.show()"
   ]
  },
  {
   "cell_type": "code",
   "execution_count": null,
   "metadata": {},
   "outputs": [],
   "source": []
  },
  {
   "cell_type": "code",
   "execution_count": null,
   "metadata": {},
   "outputs": [],
   "source": [
    "#test found solution with boundary conditions"
   ]
  },
  {
   "cell_type": "code",
   "execution_count": null,
   "metadata": {},
   "outputs": [],
   "source": []
  },
  {
   "cell_type": "code",
   "execution_count": null,
   "metadata": {},
   "outputs": [],
   "source": [
    "# граничные условия на границе вакуума внутри резонатора и проводящего металла с потерями\n",
    "# тангенциальная компонента электрического поля\n",
    "eqEz_a_d = Ez_left_conductor_d(x=-A) == Ez_vacuum_d (x=-A)\n",
    "eqEz_0_d = Ez_vacuum_d (x=0) == Ez_right_conductor_d (x=0)\n",
    "\n",
    "print (\"eqEz_a_d = \")\n",
    "# display(Math(latex(eqEz_a_d)))\n",
    "display(Math(latex(eqEz_a_d.lhs().n())))\n",
    "display(Math(latex(eqEz_a_d.rhs().n())))\n",
    "\n",
    "print (\"eqEz_0_d = \")\n",
    "display(Math(latex(eqEz_0_d)))"
   ]
  },
  {
   "cell_type": "code",
   "execution_count": null,
   "metadata": {},
   "outputs": [],
   "source": [
    "# нормальная компонента электрического смещения\n",
    "\n",
    "eqDx_a_d = Ex_left_conductor_d (x=-A) * (epsilon_l_complex.subs(digit_values)) == Ex_vacuum_d (x=-A)\n",
    "\n",
    "print (\"eqDx_a_d =\")\n",
    "display(Math(latex(eqDx_a_d.lhs().n())))\n",
    "display(Math(latex(eqDx_a_d.rhs().n())))\n",
    "\n",
    "eqDx_0_d = Ex_vacuum_d (x=0) == Ex_right_conductor_d (x=0) * (epsilon_r_complex.subs(digit_values))\n",
    "print (\"eqDx_0_d =\")\n",
    "display(Math(latex(eqDx_0_d.lhs().n())))\n",
    "display(Math(latex(eqDx_0_d.rhs().n())))"
   ]
  },
  {
   "cell_type": "code",
   "execution_count": null,
   "metadata": {},
   "outputs": [],
   "source": [
    "# тангенциальная компонента напряженности магнитного поля\n",
    "\n",
    "eqHy_a_d = Hy_left_conductor_d(x=-A) == Hy_vacuum_d(x=-A)\n",
    "\n",
    "print (\"eqHy_a_d =\")\n",
    "display(Math(latex(eqHy_a_d.lhs().n())))\n",
    "display(Math(latex(eqHy_a_d.rhs().n())))\n",
    "\n",
    "\n",
    "eqHy_0_d = Hy_left_conductor_d(x=0) == Hy_vacuum_d(x=0)\n",
    "\n",
    "print (\"eqHy_0_d =\")\n",
    "display(Math(latex(eqHy_0_d.lhs().n())))\n",
    "display(Math(latex(eqHy_0_d.rhs().n())))"
   ]
  },
  {
   "cell_type": "raw",
   "metadata": {},
   "source": [
    "# нормальная компонента индукции магнитного поля\n",
    "eqBx_a  = mu * Hx_bad_conductor_d (a)  == Hx_inner_vacuum_d (a)\n",
    "\n",
    "print (\"eqBx_a =\")\n",
    "display(Math(latex(eqBx_a)))"
   ]
  }
 ],
 "metadata": {
  "kernelspec": {
   "display_name": "SageMath 9.6.beta7",
   "language": "sage",
   "name": "sagemath"
  },
  "language_info": {
   "codemirror_mode": {
    "name": "ipython",
    "version": 3
   },
   "file_extension": ".py",
   "mimetype": "text/x-python",
   "name": "python",
   "nbconvert_exporter": "python",
   "pygments_lexer": "ipython3",
   "version": "3.10.3"
  }
 },
 "nbformat": 4,
 "nbformat_minor": 4
}
