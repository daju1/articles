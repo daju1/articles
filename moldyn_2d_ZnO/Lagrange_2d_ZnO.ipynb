{
 "cells": [
  {
   "cell_type": "code",
   "execution_count": 1,
   "id": "bd7e3aab",
   "metadata": {},
   "outputs": [],
   "source": [
    "from IPython.display import display, Math, Latex\n",
    "\n",
    "def disp(ex):\n",
    "    display(Math(latex(ex)))\n",
    "\n",
    "def displ(tex):\n",
    "    display(Math(tex))"
   ]
  },
  {
   "cell_type": "code",
   "execution_count": 2,
   "id": "f4f0d184",
   "metadata": {},
   "outputs": [],
   "source": [
    "def GenerateMatrix(equsys, vars):\n",
    "    A=matrix(SR, [[(equ.lhs() - equ.rhs()).coefficient(v) for v in vars] for equ in equsys])\n",
    "    return A"
   ]
  },
  {
   "cell_type": "code",
   "execution_count": 3,
   "id": "f677513c",
   "metadata": {},
   "outputs": [],
   "source": [
    "class tayorOperator():\n",
    "    def __init__(self, f, d):\n",
    "        self.fd = diff(f, d)\n",
    "        self.d = d\n",
    "        self.m = d\n",
    "\n",
    "    def do(self, taylor_op):\n",
    "        self.fd = taylor_op.fd.diff(self.d)\n",
    "        self.m *= taylor_op.m\n",
    "        \n",
    "    def subs(self, eq):\n",
    "        return self.fd.subs(eq)"
   ]
  },
  {
   "cell_type": "code",
   "execution_count": 4,
   "id": "87db9a65",
   "metadata": {},
   "outputs": [],
   "source": [
    "# ZnO   a = 3.25 c = 5.2   Wurtzite (HCP)\n",
    "# ZnO   4.580    Halite (FCC)\n",
    "\n",
    "L = 0.458 # nm\n",
    "\n",
    "l = var(\"l\") # 0.458 # nm\n",
    "assume(l, \"real\")\n",
    "assume(l > 0)\n",
    "\n",
    "k = var(\"k\") # 10000\n",
    "assume(k, \"real\")\n",
    "assume(k > 0)\n",
    "\n",
    "alpha = var(\"alpha\") # 5000\n",
    "assume(alpha, \"real\")\n",
    "assume(alpha > 0)\n",
    "\n",
    "beta = var(\"beta\")   # 5000\n",
    "assume(beta, \"real\")\n",
    "assume(beta > 0)\n",
    "\n",
    "m = var(\"m\")\n",
    "M = var(\"M\")\n",
    "t = var(\"t\")\n",
    "\n",
    "class Lagrange():\n",
    "\n",
    "    def __init__(self, rows, cols):\n",
    "        self.data = []\n",
    "        self.rows = rows\n",
    "        self.cols = cols\n",
    "        self.atom_count = self.rows * self.cols\n",
    "\n",
    "        self.x = []\n",
    "        self.y = []\n",
    "        \n",
    "        self.dx = []\n",
    "        self.dy = []\n",
    "        \n",
    "        self.X = []\n",
    "        self.Y = []\n",
    "        \n",
    "        self.DX = []\n",
    "        self.DY = []\n",
    "        \n",
    "        self.vx = []\n",
    "        self.vy = []\n",
    "        \n",
    "        self.Vx = []\n",
    "        self.Vy = []\n",
    "\n",
    "        for i in range(self.atom_count):\n",
    "\n",
    "            exec(preparse(\"self.X_\" + str(i) + \" = var(\\\"x_\" + str(i) + \"\\\"\"\")\"))\n",
    "            exec(preparse(\"self.Y_\" + str(i) + \" = var(\\\"y_\" + str(i) + \"\\\"\"\")\"))\n",
    "\n",
    "            exec(preparse(\"self.DX_\" + str(i) + \" = var(\\\"dx_\" + str(i) + \"\\\"\"\")\"))\n",
    "            exec(preparse(\"self.DY_\" + str(i) + \" = var(\\\"dy_\" + str(i) + \"\\\"\"\")\"))\n",
    "\n",
    "            exec(preparse(\"self.Vx_\" + str(i) + \" = var(\\\"vx_\" + str(i) + \"\\\"\"\")\"))\n",
    "            exec(preparse(\"self.Vy_\" + str(i) + \" = var(\\\"vy_\" + str(i) + \"\\\"\"\")\"))\n",
    "\n",
    "            exec(preparse(\"self.x_\" + str(i) + \" = function(\\\"x_\" + str(i) + \"\\\"\"\")(t)\"))\n",
    "            exec(preparse(\"self.y_\" + str(i) + \" = function(\\\"y_\" + str(i) + \"\\\"\"\")(t)\"))\n",
    "\n",
    "            exec(preparse(\"self.dx_\" + str(i) + \" = function(\\\"dx_\" + str(i) + \"\\\"\"\")(t)\"))\n",
    "            exec(preparse(\"self.dy_\" + str(i) + \" = function(\\\"dy_\" + str(i) + \"\\\"\"\")(t)\"))\n",
    "\n",
    "            exec(preparse(\"self.vx_\" + str(i) + \" = function(\\\"vx_\" + str(i) + \"\\\"\"\")(t)\"))\n",
    "            exec(preparse(\"self.vy_\" + str(i) + \" = function(\\\"vy_\" + str(i) + \"\\\"\"\")(t)\"))\n",
    "\n",
    "            exec(preparse(\"self.x += [self.x_\" + str(i) + \"]\"))\n",
    "            exec(preparse(\"self.y += [self.y_\" + str(i) + \"]\"))\n",
    "\n",
    "            exec(preparse(\"self.dx += [self.dx_\" + str(i) + \"]\"))\n",
    "            exec(preparse(\"self.dy += [self.dy_\" + str(i) + \"]\"))\n",
    "\n",
    "            exec(preparse(\"self.X += [self.X_\" + str(i) + \"]\"))\n",
    "            exec(preparse(\"self.Y += [self.Y_\" + str(i) + \"]\"))\n",
    "\n",
    "            exec(preparse(\"self.DX += [self.DX_\" + str(i) + \"]\"))\n",
    "            exec(preparse(\"self.DY += [self.DY_\" + str(i) + \"]\"))\n",
    "\n",
    "            exec(preparse(\"self.vx += [self.vx_\" + str(i) + \"]\"))\n",
    "            exec(preparse(\"self.vy += [self.vy_\" + str(i) + \"]\"))\n",
    "\n",
    "            exec(preparse(\"self.Vx += [self.Vx_\" + str(i) + \"]\"))\n",
    "            exec(preparse(\"self.Vy += [self.Vy_\" + str(i) + \"]\"))\n",
    "\n",
    "        self.vel = []; # [1.0e+3 m/s]\n",
    "        self.acc = []; # [1.0e+12 m/s^2]\n",
    "\n",
    "        self.mass = []; # [kg/mol]\n",
    "\n",
    "        self.f = [];\n",
    "        self.w = [];# workaround for bond's potential energy\n",
    "\n",
    "\n",
    "        self.crd0 = [];\n",
    "        self.crd  = [];\n",
    "        self.dcrd = [];\n",
    "        self.rc   = [];\n",
    "        self.nbr  = [];\n",
    "        self.nbri = [];\n",
    "\n",
    "        self.step_counter = 0;\n",
    "\n",
    "        self.sum_of_masses = 0.0; # [kg/mol]\n",
    "\n",
    "        self.switch_xy = False\n",
    "\n",
    "        counter = 0\n",
    "\n",
    "        for row in range(self.rows):\n",
    "            y0 = (row//4)*3*l\n",
    "            if (row%4) == 0:\n",
    "                y = 0 + y0\n",
    "                x0 = 0\n",
    "            elif (row%4) == 1:\n",
    "                y = l/2 + y0\n",
    "                x0 = l * (1/2*sqrt(3))\n",
    "            elif (row%4) == 2:\n",
    "                y = 3*l/2 + y0\n",
    "                x0 = l * (1/2*sqrt(3))\n",
    "            elif (row%4) == 3:\n",
    "                y = 2*l + y0\n",
    "                x0 = 0\n",
    "\n",
    "            for col in range(self.cols):\n",
    "                # self.mass += [65.38 if row%2 == 0 else 15.999]\n",
    "                # self.mass[counter] *= 1.6605402e-27 * 6.0221367e+23;\n",
    "                self.mass += [M if row%2 == 0 else m]\n",
    "\n",
    "                self.sum_of_masses += self.mass[counter];# kg/mol ; all atoms\n",
    "\n",
    "                x = x0 + col * l * sqrt(3)\n",
    "\n",
    "                self.rc.append([row, col])\n",
    "                self.crd.append([self.X[counter], -self.Y[counter]])\n",
    "                self.dcrd.append([self.DX[counter], -self.DY[counter]])\n",
    "                self.crd0.append([x, -y])\n",
    "\n",
    "                #print(row, col, counter, x, y)\n",
    "\n",
    "                self.vel.append([self.dx[counter].diff(t), -self.dy[counter].diff(t)]);\n",
    "                self.acc.append([self.dx[counter].diff(t,2), -self.dy[counter].diff(t,2)]);\n",
    "\n",
    "                self.f.append([0.0, 0.0]);\n",
    "                self.w.append(0.0);\n",
    "\n",
    "                if (row%4) == 0:\n",
    "                    nb1 = (row - 1, col)\n",
    "                    nb2 = (row + 1, col)\n",
    "                    nb3 = (row + 1, col - 1)\n",
    "                elif (row%4) == 1:\n",
    "                    nb1 = (row - 1, col)\n",
    "                    nb2 = (row - 1, col + 1)\n",
    "                    nb3 = (row + 1, col)\n",
    "                elif (row%4) == 2:\n",
    "                    nb1 = (row - 1, col)\n",
    "                    nb2 = (row + 1, col)\n",
    "                    nb3 = (row + 1, col + 1)\n",
    "                elif (row%4) == 3:\n",
    "                    nb1 = (row - 1, col - 1)\n",
    "                    nb2 = (row - 1, col)\n",
    "                    nb3 = (row + 1, col)\n",
    "\n",
    "                self.nbr.append([nb1, nb2, nb3])\n",
    "                self.nbri.append([self.nbr2index(nb1), self.nbr2index(nb2), self.nbr2index(nb3)])\n",
    "\n",
    "                counter+=1;\n",
    "\n",
    "    def nbr2index(self, nb):\n",
    "        r = nb[0]\n",
    "        c = nb[1]\n",
    "        return self.rc2index(r, c)\n",
    "\n",
    "    def rc2index(self, r, c):\n",
    "\n",
    "        if r < 0: r = self.rows - 1\n",
    "        if c < 0: c = self.cols - 1\n",
    "        if r == self.rows: r = 0\n",
    "        if c == self.cols: c = 0\n",
    "\n",
    "        index = self.cols * r + c\n",
    "\n",
    "        return index\n",
    "\n",
    "    def get_zink_crd(self):\n",
    "        if self.switch_xy:\n",
    "            return [[self.crd[self.rc2index(r, c)][1], self.crd[self.rc2index(r, c)][0]] for r in range(self.rows) for c in range(self.cols) if r%2 == 0 ]\n",
    "        return [self.crd[self.rc2index(r, c)] for r in range(self.rows) for c in range(self.cols) if r%2 == 0 ]\n",
    "\n",
    "    def get_zink_crd0(self):\n",
    "        if self.switch_xy:\n",
    "            return [[self.crd0[self.rc2index(r, c)][1], self.crd0[self.rc2index(r, c)][0]] for r in range(self.rows) for c in range(self.cols) if r%2 == 0 ]\n",
    "        return [self.crd0[self.rc2index(r, c)] for r in range(self.rows) for c in range(self.cols) if r%2 == 0 ]\n",
    "\n",
    "    def get_oxigen_crd(self):\n",
    "        if self.switch_xy:\n",
    "            return [[self.crd[self.rc2index(r, c)][1], self.crd[self.rc2index(r, c)][0]] for r in range(self.rows) for c in range(self.cols) if r%2 == 1 ]\n",
    "        return [self.crd[self.rc2index(r, c)] for r in range(self.rows) for c in range(self.cols) if r%2 == 1 ]\n",
    "\n",
    "    def get_oxigen_crd0(self):\n",
    "        if self.switch_xy:\n",
    "            return [[self.crd0[self.rc2index(r, c)][1], self.crd0[self.rc2index(r, c)][0]] for r in range(self.rows) for c in range(self.cols) if r%2 == 1 ]\n",
    "        return [self.crd0[self.rc2index(r, c)] for r in range(self.rows) for c in range(self.cols) if r%2 == 1 ]\n",
    "\n",
    "    def box_x(self):\n",
    "        return self.cols * l * sqrt(3)\n",
    "\n",
    "    def box_y(self):\n",
    "        return (self.rows//4) * 3 * l\n",
    "\n",
    "    def distance_x(self, i1, i2):\n",
    "        distance0 = self.crd0[i2][0] - self.crd0[i1][0]\n",
    "        distance = self.crd[i2][0] - self.crd[i1][0]\n",
    "        if distance0 > self.box_x() / 2:\n",
    "            return distance - self.box_x()\n",
    "        if distance0 < - self.box_x() / 2:\n",
    "            return distance + self.box_x()\n",
    "        return distance\n",
    "\n",
    "    def distance_x0(self, i1, i2):\n",
    "        distance0 = self.crd0[i2][0] - self.crd0[i1][0]\n",
    "        if distance0 > self.box_x() / 2:\n",
    "            return distance0 - self.box_x()\n",
    "        if distance0 < - self.box_x() / 2:\n",
    "            return distance0 + self.box_x()\n",
    "        return distance0\n",
    "\n",
    "    def distance_dx(self, i1, i2):\n",
    "        distance0 = self.crd0[i2][0] - self.crd0[i1][0]\n",
    "        # distance = (self.crd[i2][0]) - (self.crd[i1][0])\n",
    "        distance = (self.crd0[i2][0] + self.dcrd[i2][0]) \\\n",
    "                 - (self.crd0[i1][0] + self.dcrd[i1][0])\n",
    "        if distance0 > self.box_x() / 2:\n",
    "            return distance - self.box_x()\n",
    "        if distance0 < - self.box_x() / 2:\n",
    "            return distance + self.box_x()\n",
    "        return distance\n",
    "\n",
    "    def distance_y(self, i1, i2):\n",
    "        distance0 = self.crd0[i2][1] - self.crd0[i1][1]\n",
    "        distance = self.crd[i2][1] - self.crd[i1][1]\n",
    "        if distance0 > self.box_y() / 2:\n",
    "            return distance - self.box_y()\n",
    "        if distance0 < - self.box_y() / 2:\n",
    "            return distance + self.box_y()\n",
    "        return distance\n",
    "\n",
    "    def distance_y0(self, i1, i2):\n",
    "        distance0 = self.crd0[i2][1] - self.crd0[i1][1]\n",
    "        if distance0 > self.box_y() / 2:\n",
    "            return distance0 - self.box_y()\n",
    "        if distance0 < - self.box_y() / 2:\n",
    "            return distance0 + self.box_y()\n",
    "        return distance0\n",
    "    \n",
    "    def distance_dy(self, i1, i2):\n",
    "        distance0 = self.crd0[i2][1] - self.crd0[i1][1]\n",
    "        # distance = (self.crd[i2][1]) - (self.crd[i1][1])\n",
    "        distance = (self.crd0[i2][1] + self.dcrd[i2][1]) \\\n",
    "                 - (self.crd0[i1][1] + self.dcrd[i1][1])\n",
    "        if distance0 > self.box_y() / 2:\n",
    "            return distance - self.box_y()\n",
    "        if distance0 < - self.box_y() / 2:\n",
    "            return distance + self.box_y()\n",
    "        return distance\n",
    "\n",
    "    def distance(self, i1, i2):\n",
    "        return sqrt(self.distance_x(i1, i2)**2 + self.distance_y(i1, i2)**2)\n",
    "\n",
    "    def distance_0(self, i1, i2):\n",
    "        return sqrt(self.distance_x0(i1, i2)**2 + self.distance_y0(i1, i2)**2)\n",
    "\n",
    "    def distance_d(self, i1, i2):\n",
    "        return sqrt(self.distance_dx(i1, i2)**2 + self.distance_dy(i1, i2)**2)\n",
    "\n",
    "    def calc_atom(self, i, use_dxdy=True, use_d0=False):\n",
    "        w = 0.0\n",
    "\n",
    "        for nbr in self.nbri[i]:\n",
    "            if use_dxdy:\n",
    "                if use_d0:\n",
    "                    d  = self.distance_0  (i, nbr)\n",
    "                else:\n",
    "                    d  = self.distance_d  (i, nbr)\n",
    "            else:\n",
    "                if use_d0:\n",
    "                    d  = self.distance_0  (i, nbr)\n",
    "                else:\n",
    "                    d  = self.distance  (i, nbr)\n",
    "\n",
    "            dl = d - l\n",
    "\n",
    "            f = k * dl # + alpha * dl**2 + beta * dl**3\n",
    "\n",
    "            # bond's potential energy\n",
    "            dw = k * dl * dl / 2 # + alpha * dl**3 / 3 + beta * dl**4 / 4\n",
    "\n",
    "            w  += dw\n",
    "\n",
    "        self.w[i]    = w/2 # assign to atom half of bond's potential energy\n",
    "\n",
    "    def ComputeForce(self, use_dxdy=True, use_d0=False):\n",
    "        for n1 in range(self.atom_count):\n",
    "            self.calc_atom(n1, use_dxdy=use_dxdy, use_d0=use_d0)\n",
    "\n",
    "    def KineticEnergy(self):\n",
    "        energy = 0.0\n",
    "\n",
    "        for n1 in range(self.atom_count):\n",
    "            tmpX = self.mass[n1]/2\n",
    "\n",
    "            for n2 in [0,1]:\n",
    "                tmp1 = self.vel[n1][n2];\n",
    "                tmp2 = tmpX * tmp1 * tmp1;\n",
    "\n",
    "                energy += tmp2;\n",
    "\n",
    "        return energy;\n",
    "\n",
    "    def PotentialEnergy(self):\n",
    "        counter = 0\n",
    "        energy = 0.0\n",
    "        for row in range(self.rows):\n",
    "            for col in range(self.cols):\n",
    "                tmpW = self.w[counter]\n",
    "                energy += tmpW;\n",
    "                counter+=1;\n",
    "\n",
    "        return energy\n",
    "\n",
    "    def PotentialEnergyTaylor(self, n):\n",
    "\n",
    "        self.ComputeForce(use_dxdy=True)\n",
    "        U = self.PotentialEnergy()\n",
    "\n",
    "        f = U\n",
    "        taylor_f = []\n",
    "\n",
    "        f_diff_i = []\n",
    "        f_diff_n = []\n",
    "        for deg in range(1, n+1):\n",
    "            # print(\"deg =\", deg)\n",
    "            taylor_f_deg_n = 0\n",
    "\n",
    "            for i in range(self.atom_count):\n",
    "                if deg == 1:\n",
    "                    f_diff_dx_i = tayorOperator(f, self.DX[i])\n",
    "                    f_diff_dy_i = tayorOperator(f, self.DY[i])\n",
    "\n",
    "                    f_diff_i += [f_diff_dx_i]\n",
    "                    f_diff_i += [f_diff_dy_i]\n",
    "                else:\n",
    "                    for tOp in f_diff_i:\n",
    "                        f_diff_dx_i = tayorOperator(0, self.DX[i])\n",
    "                        f_diff_dy_i = tayorOperator(0, self.DY[i])\n",
    "\n",
    "                        f_diff_dx_i.do(tOp)\n",
    "                        f_diff_dy_i.do(tOp)\n",
    "\n",
    "                        f_diff_n += [f_diff_dx_i]\n",
    "                        f_diff_n += [f_diff_dy_i]\n",
    "\n",
    "            #print(\"len(f_diff_n)=\", len(f_diff_n))\n",
    "            #print(\"len(f_diff_i)=\", len(f_diff_i))\n",
    "\n",
    "            if deg > 1:\n",
    "                f_diff_i = []\n",
    "                f_diff_i = f_diff_n\n",
    "                f_diff_n = []\n",
    "\n",
    "            for tOp in f_diff_i:\n",
    "                #print(tOp.fd)\n",
    "                #print(tOp.d)\n",
    "                #print(tOp.m)\n",
    "                f_diff_d_i0 = tOp\n",
    "                for j in range(self.atom_count):\n",
    "                    f_diff_d_i0 = f_diff_d_i0.subs(self.DY[j] == 0)\n",
    "                    f_diff_d_i0 = f_diff_d_i0.subs(self.DX[j] == 0)\n",
    "\n",
    "                taylor_f_deg_n += f_diff_d_i0 * tOp.m\n",
    "\n",
    "            for i in range(self.atom_count):\n",
    "                taylor_f_deg_n = taylor_f_deg_n.subs(self.DX[i] == self.dx[i])\n",
    "                taylor_f_deg_n = taylor_f_deg_n.subs(self.DY[i] == self.dy[i])\n",
    "\n",
    "            taylor_f += [taylor_f_deg_n / factorial(deg)]\n",
    "\n",
    "        return taylor_f\n",
    "\n",
    "    def Lagrangian(self):\n",
    "        T = self.KineticEnergy()\n",
    "        U = self.PotentialEnergy()\n",
    "        for i in range(self.atom_count):\n",
    "            U = U.subs(self.DX[i] == self.dx[i])\n",
    "            U = U.subs(self.DY[i] == self.dy[i])        \n",
    "        return T - U\n",
    "    \n",
    "    def LagrangianTaylor(self, n):\n",
    "        return self.KineticEnergy() - sum(self.PotentialEnergyTaylor(n))\n",
    "    \n",
    "    def momentum(self):\n",
    "        L = self.Lagrangian()\n",
    "\n",
    "        px = []\n",
    "        py = []\n",
    "\n",
    "        for i in range(self.atom_count):\n",
    "            px += [L.subs(self.dx[i].diff(t) == self.Vx[i]).diff(self.Vx[i]).subs(self.Vx[i] == self.dx[i].diff(t))]\n",
    "            py += [L.subs(self.dy[i].diff(t) == self.Vy[i]).diff(self.Vy[i]).subs(self.Vy[i] == self.dy[i].diff(t))]\n",
    "    \n",
    "        return(px, py)\n",
    "    \n",
    "    def Momentum(self):\n",
    "        L = self.Lagrangian()\n",
    "\n",
    "        Px = []\n",
    "        Py = []\n",
    "\n",
    "        for i in range(self.atom_count):\n",
    "            Px += [L.subs(self.dx[i].diff(t) == self.Vx[i]).diff(self.Vx[i]).subs(self.Vx[i] == self.vx[i])]\n",
    "            Py += [L.subs(self.dy[i].diff(t) == self.Vy[i]).diff(self.Vy[i]).subs(self.Vy[i] == self.vy[i])]\n",
    "\n",
    "        return(Px, Py)\n",
    "    \n",
    "    def EulerLagrange(self, n):\n",
    "        if 0 == n:\n",
    "            L = self.Lagrangian()\n",
    "        else:\n",
    "            L = self.LagrangianTaylor(n)\n",
    "        px, py = self.momentum()\n",
    "\n",
    "        # система уравнений Эйлера-Лагранжа\n",
    "        eqs_x = []\n",
    "        eqs_y = []\n",
    "\n",
    "        for i in range(self.atom_count):\n",
    "            eqs_x += [px[i].diff(t) - L.subs(self.dx[i] == self.DX[i]).diff(self.DX[i]).subs(self.DX[i] == self.dx[i]) == 0]\n",
    "            eqs_y += [py[i].diff(t) - L.subs(self.dy[i] == self.DY[i]).diff(self.DY[i]).subs(self.DY[i] == self.dy[i]) == 0]\n",
    "\n",
    "        return eqs_x, eqs_y\n",
    "    \n",
    "    def EulerLagrangeSolution(self, n):\n",
    "        eqs_x, eqs_y = self.EulerLagrange(n)\n",
    "\n",
    "        Ax = []\n",
    "        Ay = []\n",
    "\n",
    "        Amx = []\n",
    "        Amy = []\n",
    "\n",
    "        self.lambda_x = []\n",
    "        self.lambda_y = []\n",
    "\n",
    "        for i in range(self.atom_count):\n",
    "            exec(preparse(\"Ax_\"     + str(i) + \" = var(\\\"A_x_\"     + str(i) + \"\\\"\"\")\"))\n",
    "            exec(preparse(\"Ay_\"     + str(i) + \" = var(\\\"A_y_\"     + str(i) + \"\\\"\"\")\"))\n",
    "            exec(preparse(\"lambdax_\"   + str(i) + \" = var(\\\"lambda_x_\"   + str(i) + \"\\\"\"\")\"))\n",
    "            exec(preparse(\"lambday_\"   + str(i) + \" = var(\\\"lambda_y_\"   + str(i) + \"\\\"\"\")\"))\n",
    "            exec(preparse(\"Ax       += [A_x_\"     + str(i) + \"]\"))\n",
    "            exec(preparse(\"Ay       += [A_y_\"     + str(i) + \"]\"))\n",
    "            exec(preparse(\"self.lambda_x += [lambdax_\"   + str(i) + \"]\"))\n",
    "            exec(preparse(\"self.lambda_y += [lambday_\"   + str(i) + \"]\"))\n",
    "            exec(preparse(\"Amx += [A_x_\" + str(i) + \"* exp(self.lambda_x[\" + str(i) + \"]*t)]\"))\n",
    "            exec(preparse(\"Amy += [A_y_\" + str(i) + \"* exp(self.lambda_y[\" + str(i) + \"]*t)]\"))\n",
    "\n",
    "        # решение системы уравнений Эйлера-Лагранжа\n",
    "        # ищем в виде\n",
    "        xi = []\n",
    "        yi = []\n",
    "\n",
    "        for i in range(self.atom_count):\n",
    "            #xi += [A[i]*cos(omega[i]*t + phi[i])]\n",
    "            xi += [Ax[i]*exp(self.lambda_x[i]*t)]\n",
    "            yi += [Ay[i]*exp(self.lambda_y[i]*t)]\n",
    "\n",
    "        # подставляя решения в систему\n",
    "        # уравнений Эйлера Лагранжа\n",
    "        # получаем систему линейных алгебраичных уравнений\n",
    "        eqsi_x = []\n",
    "        eqsi_y = []\n",
    "        for i in range(self.atom_count):\n",
    "            eqx_i = eqs_x[i].substitute_function(self.dx[i] == xi[i])\n",
    "            eqy_i = eqs_y[i].substitute_function(self.dy[i] == yi[i])\n",
    "            for j in range(self.atom_count):\n",
    "                eqx_i = eqx_i.subs(self.dx[j] == xi[j])\n",
    "                eqx_i = eqx_i.subs(self.dy[j] == yi[j])\n",
    "                \n",
    "                eqy_i = eqy_i.subs(self.dx[j] == xi[j])\n",
    "                eqy_i = eqy_i.subs(self.dy[j] == yi[j])\n",
    "\n",
    "            eqsi_x += [ eqx_i ]\n",
    "            eqsi_y += [ eqy_i ]\n",
    "            disp(eqsi_x[i])\n",
    "            disp(eqsi_y[i])\n",
    "\n",
    "        return eqsi_x, eqsi_y, Ax, Ay, Amx, Amy\n",
    "\n",
    "    def plot(self):\n",
    "        from sage.plot.plot import Graphics\n",
    "        from sage.plot.point import point\n",
    "\n",
    "        p = Graphics()\n",
    "        p += point([[x.subs(l==L), y.subs(l==L)] for x,y in self.get_zink_crd0()],   marker='o', markeredgecolor='blue', size=20)\n",
    "        p += point([[x.subs(l==L), y.subs(l==L)] for x,y in self.get_oxigen_crd0()], marker='o', markeredgecolor='red',  size=2)\n",
    "        \n",
    "        if self.switch_xy:\n",
    "            p += line([(self.ymax().subs(l==L), self.xmax().subs(l==L)),\n",
    "                       (self.ymax().subs(l==L), self.xmin().subs(l==L))])\n",
    "            \n",
    "            p += line([(self.ymax().subs(l==L), self.xmax().subs(l==L)),\n",
    "                       (self.ymin().subs(l==L), self.xmax().subs(l==L))])\n",
    "            \n",
    "            p += line([(self.ymin().subs(l==L), self.xmax().subs(l==L)),\n",
    "                       (self.ymin().subs(l==L), self.xmin().subs(l==L))])\n",
    "            \n",
    "            p += line([(self.ymin().subs(l==L), self.xmin().subs(l==L)),\n",
    "                       (self.ymax().subs(l==L), self.xmin().subs(l==L))])\n",
    "        else:\n",
    "            p += line([(self.xmax().subs(l==L), self.ymax().subs(l==L)),\n",
    "                       (self.xmax().subs(l==L), self.ymin().subs(l==L))])\n",
    "            \n",
    "            p += line([(self.xmax().subs(l==L), self.ymax().subs(l==L)),\n",
    "                       (self.xmin().subs(l==L), self.ymax().subs(l==L))])\n",
    "            \n",
    "            p += line([(self.xmin().subs(l==L), self.ymax().subs(l==L)),\n",
    "                       (self.xmin().subs(l==L), self.ymin().subs(l==L))])\n",
    "            \n",
    "            p += line([(self.xmin().subs(l==L), self.ymin().subs(l==L)),\n",
    "                       (self.xmax().subs(l==L), self.ymin().subs(l==L))])\n",
    "\n",
    "        return p\n",
    "\n",
    "    def xmin(self):\n",
    "        return -l/2 * (1/2*sqrt(3))\n",
    "    def xmax(self):\n",
    "        return -l/2 * (1/2*sqrt(3)) + self.box_x()\n",
    "\n",
    "    def ymax(self):\n",
    "        return +l/2\n",
    "    def ymin(self):\n",
    "        return l/2 - self.box_y()\n",
    "\n",
    "    def show(self, p):\n",
    "        if self.switch_xy:\n",
    "            p.show(aspect_ratio=1, axes=False,\n",
    "                             ymax = self.xmax().subs(l==L), ymin = self.xmin().subs(l==L),\n",
    "                             xmin = self.ymin().subs(l==L), xmax = self.ymax().subs(l==L)\n",
    "                            )\n",
    "        else:\n",
    "            p.show(aspect_ratio=1, axes=False,\n",
    "                             ymax = self.ymax().subs(l==L), ymin = self.ymin().subs(l==L),\n",
    "                             xmin = self.xmin().subs(l==L), xmax = self.xmax().subs(l==L)\n",
    "                            )"
   ]
  },
  {
   "cell_type": "code",
   "execution_count": 5,
   "id": "f2746203",
   "metadata": {},
   "outputs": [],
   "source": [
    "rw = 2\n",
    "cl = 1\n",
    "\n",
    "# here I create two models\n",
    "model = Lagrange(rw * 2, cl)"
   ]
  },
  {
   "cell_type": "code",
   "execution_count": 6,
   "id": "1b24b497",
   "metadata": {},
   "outputs": [
    {
     "data": {
      "text/plain": [
       "[[x_0, -y_0], [x_2, -y_2]]"
      ]
     },
     "execution_count": 6,
     "metadata": {},
     "output_type": "execute_result"
    }
   ],
   "source": [
    "model.get_zink_crd()"
   ]
  },
  {
   "cell_type": "code",
   "execution_count": 7,
   "id": "e3eaf824",
   "metadata": {},
   "outputs": [
    {
     "data": {
      "text/plain": [
       "[[x_1, -y_1], [x_3, -y_3]]"
      ]
     },
     "execution_count": 7,
     "metadata": {},
     "output_type": "execute_result"
    }
   ],
   "source": [
    "model.get_oxigen_crd()"
   ]
  },
  {
   "cell_type": "code",
   "execution_count": 8,
   "id": "9b6126c2",
   "metadata": {},
   "outputs": [
    {
     "data": {
      "image/png": "[encoded data removed]",
      "text/plain": [
       "Graphics object consisting of 6 graphics primitives"
      ]
     },
     "metadata": {},
     "output_type": "display_data"
    }
   ],
   "source": [
    "p = model.plot()\n",
    "model.show(p)"
   ]
  },
  {
   "cell_type": "code",
   "execution_count": 9,
   "id": "67128d58",
   "metadata": {},
   "outputs": [
    {
     "data": {
      "text/latex": [
       "$\\displaystyle 0.000000000000000$"
      ],
      "text/plain": [
       "<IPython.core.display.Math object>"
      ]
     },
     "metadata": {},
     "output_type": "display_data"
    }
   ],
   "source": [
    "model.ComputeForce(use_dxdy=False, use_d0 = True)\n",
    "disp(model.PotentialEnergy())"
   ]
  },
  {
   "cell_type": "code",
   "execution_count": 10,
   "id": "4c0250ad",
   "metadata": {},
   "outputs": [
    {
     "data": {
      "text/latex": [
       "$\\displaystyle \\frac{1}{2} \\, k {\\left(l - \\sqrt{{\\left(3 \\, l + y_{0} - y_{3}\\right)}^{2} + {\\left(x_{0} - x_{3}\\right)}^{2}}\\right)}^{2} + k {\\left(l - \\sqrt{{\\left(x_{0} - x_{1}\\right)}^{2} + {\\left(y_{0} - y_{1}\\right)}^{2}}\\right)}^{2} + \\frac{1}{2} \\, k {\\left(l - \\sqrt{{\\left(x_{1} - x_{2}\\right)}^{2} + {\\left(y_{1} - y_{2}\\right)}^{2}}\\right)}^{2} + k {\\left(l - \\sqrt{{\\left(x_{2} - x_{3}\\right)}^{2} + {\\left(y_{2} - y_{3}\\right)}^{2}}\\right)}^{2}$"
      ],
      "text/plain": [
       "<IPython.core.display.Math object>"
      ]
     },
     "metadata": {},
     "output_type": "display_data"
    }
   ],
   "source": [
    "model.ComputeForce(use_dxdy=False)\n",
    "disp(model.PotentialEnergy())"
   ]
  },
  {
   "cell_type": "code",
   "execution_count": 11,
   "id": "cca13369",
   "metadata": {},
   "outputs": [
    {
     "data": {
      "text/latex": [
       "$\\displaystyle \\frac{1}{4} \\, k {\\left(2 \\, l - \\sqrt{{\\left(\\sqrt{3} l - 2 \\, \\mathit{dx}_{0} + 2 \\, \\mathit{dx}_{1}\\right)}^{2} + {\\left(2 \\, \\mathit{dy}_{0} - 2 \\, \\mathit{dy}_{1} - l\\right)}^{2}}\\right)}^{2} + \\frac{1}{4} \\, k {\\left(2 \\, l - \\sqrt{{\\left(\\sqrt{3} l + 2 \\, \\mathit{dx}_{2} - 2 \\, \\mathit{dx}_{3}\\right)}^{2} + {\\left(2 \\, \\mathit{dy}_{2} - 2 \\, \\mathit{dy}_{3} - l\\right)}^{2}}\\right)}^{2} + \\frac{1}{2} \\, k {\\left(l - \\sqrt{{\\left(\\mathit{dx}_{0} - \\mathit{dx}_{3}\\right)}^{2} + {\\left(\\mathit{dy}_{0} - \\mathit{dy}_{3} + l\\right)}^{2}}\\right)}^{2} + \\frac{1}{2} \\, k {\\left(l - \\sqrt{{\\left(\\mathit{dx}_{1} - \\mathit{dx}_{2}\\right)}^{2} + {\\left(\\mathit{dy}_{1} - \\mathit{dy}_{2} - l\\right)}^{2}}\\right)}^{2}$"
      ],
      "text/plain": [
       "<IPython.core.display.Math object>"
      ]
     },
     "metadata": {},
     "output_type": "display_data"
    }
   ],
   "source": [
    "model.ComputeForce(use_dxdy=True)\n",
    "U = model.PotentialEnergy()\n",
    "disp(U)"
   ]
  },
  {
   "cell_type": "code",
   "execution_count": 12,
   "id": "021909b6",
   "metadata": {},
   "outputs": [
    {
     "data": {
      "text/latex": [
       "$\\displaystyle \\left[0, \\frac{1}{2} \\, \\sqrt{3} k {\\rm dx}_{0}\\left(t\\right) {\\rm dy}_{0}\\left(t\\right) - \\frac{1}{2} \\, \\sqrt{3} k {\\rm dx}_{1}\\left(t\\right) {\\rm dy}_{0}\\left(t\\right) - \\frac{1}{2} \\, \\sqrt{3} k {\\rm dx}_{0}\\left(t\\right) {\\rm dy}_{1}\\left(t\\right) + \\frac{1}{2} \\, \\sqrt{3} k {\\rm dx}_{1}\\left(t\\right) {\\rm dy}_{1}\\left(t\\right) - \\frac{1}{2} \\, \\sqrt{3} k {\\rm dx}_{2}\\left(t\\right) {\\rm dy}_{2}\\left(t\\right) + \\frac{1}{2} \\, \\sqrt{3} k {\\rm dx}_{3}\\left(t\\right) {\\rm dy}_{2}\\left(t\\right) + \\frac{1}{2} \\, \\sqrt{3} k {\\rm dx}_{2}\\left(t\\right) {\\rm dy}_{3}\\left(t\\right) - \\frac{1}{2} \\, \\sqrt{3} k {\\rm dx}_{3}\\left(t\\right) {\\rm dy}_{3}\\left(t\\right) + \\frac{3}{4} \\, k {\\rm dx}_{0}\\left(t\\right)^{2} - \\frac{3}{2} \\, k {\\rm dx}_{0}\\left(t\\right) {\\rm dx}_{1}\\left(t\\right) + \\frac{3}{4} \\, k {\\rm dx}_{1}\\left(t\\right)^{2} + \\frac{3}{4} \\, k {\\rm dx}_{2}\\left(t\\right)^{2} - \\frac{3}{2} \\, k {\\rm dx}_{2}\\left(t\\right) {\\rm dx}_{3}\\left(t\\right) + \\frac{3}{4} \\, k {\\rm dx}_{3}\\left(t\\right)^{2} + \\frac{3}{4} \\, k {\\rm dy}_{0}\\left(t\\right)^{2} - \\frac{1}{2} \\, k {\\rm dy}_{0}\\left(t\\right) {\\rm dy}_{1}\\left(t\\right) + \\frac{3}{4} \\, k {\\rm dy}_{1}\\left(t\\right)^{2} - k {\\rm dy}_{1}\\left(t\\right) {\\rm dy}_{2}\\left(t\\right) + \\frac{3}{4} \\, k {\\rm dy}_{2}\\left(t\\right)^{2} - k {\\rm dy}_{0}\\left(t\\right) {\\rm dy}_{3}\\left(t\\right) - \\frac{1}{2} \\, k {\\rm dy}_{2}\\left(t\\right) {\\rm dy}_{3}\\left(t\\right) + \\frac{3}{4} \\, k {\\rm dy}_{3}\\left(t\\right)^{2}\\right]$"
      ],
      "text/plain": [
       "<IPython.core.display.Math object>"
      ]
     },
     "metadata": {},
     "output_type": "display_data"
    }
   ],
   "source": [
    "Ut2 = model.PotentialEnergyTaylor(2)\n",
    "disp(Ut2)"
   ]
  },
  {
   "cell_type": "markdown",
   "id": "6319ec55",
   "metadata": {},
   "source": [
    "Ut3 = model.PotentialEnergyTaylor(3)\n",
    "disp(Ut3)"
   ]
  },
  {
   "cell_type": "code",
   "execution_count": 13,
   "id": "be647f0d",
   "metadata": {},
   "outputs": [
    {
     "data": {
      "text/latex": [
       "$\\displaystyle \\frac{1}{2} \\, M \\frac{\\partial}{\\partial t}{\\rm dx}_{0}\\left(t\\right)^{2} + \\frac{1}{2} \\, m \\frac{\\partial}{\\partial t}{\\rm dx}_{1}\\left(t\\right)^{2} + \\frac{1}{2} \\, M \\frac{\\partial}{\\partial t}{\\rm dx}_{2}\\left(t\\right)^{2} + \\frac{1}{2} \\, m \\frac{\\partial}{\\partial t}{\\rm dx}_{3}\\left(t\\right)^{2} + \\frac{1}{2} \\, M \\frac{\\partial}{\\partial t}{\\rm dy}_{0}\\left(t\\right)^{2} + \\frac{1}{2} \\, m \\frac{\\partial}{\\partial t}{\\rm dy}_{1}\\left(t\\right)^{2} + \\frac{1}{2} \\, M \\frac{\\partial}{\\partial t}{\\rm dy}_{2}\\left(t\\right)^{2} + \\frac{1}{2} \\, m \\frac{\\partial}{\\partial t}{\\rm dy}_{3}\\left(t\\right)^{2}$"
      ],
      "text/plain": [
       "<IPython.core.display.Math object>"
      ]
     },
     "metadata": {},
     "output_type": "display_data"
    }
   ],
   "source": [
    "disp(model.KineticEnergy())"
   ]
  },
  {
   "cell_type": "code",
   "execution_count": 14,
   "id": "1633acd7",
   "metadata": {},
   "outputs": [
    {
     "data": {
      "text/latex": [
       "$\\displaystyle -\\frac{1}{4} \\, k {\\left(2 \\, l - \\sqrt{{\\left(\\sqrt{3} l - 2 \\, {\\rm dx}_{0}\\left(t\\right) + 2 \\, {\\rm dx}_{1}\\left(t\\right)\\right)}^{2} + {\\left(l - 2 \\, {\\rm dy}_{0}\\left(t\\right) + 2 \\, {\\rm dy}_{1}\\left(t\\right)\\right)}^{2}}\\right)}^{2} - \\frac{1}{4} \\, k {\\left(2 \\, l - \\sqrt{{\\left(\\sqrt{3} l + 2 \\, {\\rm dx}_{2}\\left(t\\right) - 2 \\, {\\rm dx}_{3}\\left(t\\right)\\right)}^{2} + {\\left(l - 2 \\, {\\rm dy}_{2}\\left(t\\right) + 2 \\, {\\rm dy}_{3}\\left(t\\right)\\right)}^{2}}\\right)}^{2} - \\frac{1}{2} \\, k {\\left(l - \\sqrt{{\\left(l + {\\rm dy}_{0}\\left(t\\right) - {\\rm dy}_{3}\\left(t\\right)\\right)}^{2} + {\\left({\\rm dx}_{0}\\left(t\\right) - {\\rm dx}_{3}\\left(t\\right)\\right)}^{2}}\\right)}^{2} - \\frac{1}{2} \\, k {\\left(l - \\sqrt{{\\left(l - {\\rm dy}_{1}\\left(t\\right) + {\\rm dy}_{2}\\left(t\\right)\\right)}^{2} + {\\left({\\rm dx}_{1}\\left(t\\right) - {\\rm dx}_{2}\\left(t\\right)\\right)}^{2}}\\right)}^{2} + \\frac{1}{2} \\, M \\frac{\\partial}{\\partial t}{\\rm dx}_{0}\\left(t\\right)^{2} + \\frac{1}{2} \\, m \\frac{\\partial}{\\partial t}{\\rm dx}_{1}\\left(t\\right)^{2} + \\frac{1}{2} \\, M \\frac{\\partial}{\\partial t}{\\rm dx}_{2}\\left(t\\right)^{2} + \\frac{1}{2} \\, m \\frac{\\partial}{\\partial t}{\\rm dx}_{3}\\left(t\\right)^{2} + \\frac{1}{2} \\, M \\frac{\\partial}{\\partial t}{\\rm dy}_{0}\\left(t\\right)^{2} + \\frac{1}{2} \\, m \\frac{\\partial}{\\partial t}{\\rm dy}_{1}\\left(t\\right)^{2} + \\frac{1}{2} \\, M \\frac{\\partial}{\\partial t}{\\rm dy}_{2}\\left(t\\right)^{2} + \\frac{1}{2} \\, m \\frac{\\partial}{\\partial t}{\\rm dy}_{3}\\left(t\\right)^{2}$"
      ],
      "text/plain": [
       "<IPython.core.display.Math object>"
      ]
     },
     "metadata": {},
     "output_type": "display_data"
    }
   ],
   "source": [
    "disp(model.Lagrangian())"
   ]
  },
  {
   "cell_type": "code",
   "execution_count": 15,
   "id": "ddeb2643",
   "metadata": {},
   "outputs": [
    {
     "data": {
      "text/latex": [
       "$\\displaystyle -\\frac{1}{2} \\, \\sqrt{3} k {\\rm dx}_{0}\\left(t\\right) {\\rm dy}_{0}\\left(t\\right) + \\frac{1}{2} \\, \\sqrt{3} k {\\rm dx}_{1}\\left(t\\right) {\\rm dy}_{0}\\left(t\\right) + \\frac{1}{2} \\, \\sqrt{3} k {\\rm dx}_{0}\\left(t\\right) {\\rm dy}_{1}\\left(t\\right) - \\frac{1}{2} \\, \\sqrt{3} k {\\rm dx}_{1}\\left(t\\right) {\\rm dy}_{1}\\left(t\\right) + \\frac{1}{2} \\, \\sqrt{3} k {\\rm dx}_{2}\\left(t\\right) {\\rm dy}_{2}\\left(t\\right) - \\frac{1}{2} \\, \\sqrt{3} k {\\rm dx}_{3}\\left(t\\right) {\\rm dy}_{2}\\left(t\\right) - \\frac{1}{2} \\, \\sqrt{3} k {\\rm dx}_{2}\\left(t\\right) {\\rm dy}_{3}\\left(t\\right) + \\frac{1}{2} \\, \\sqrt{3} k {\\rm dx}_{3}\\left(t\\right) {\\rm dy}_{3}\\left(t\\right) - \\frac{3}{4} \\, k {\\rm dx}_{0}\\left(t\\right)^{2} + \\frac{3}{2} \\, k {\\rm dx}_{0}\\left(t\\right) {\\rm dx}_{1}\\left(t\\right) - \\frac{3}{4} \\, k {\\rm dx}_{1}\\left(t\\right)^{2} - \\frac{3}{4} \\, k {\\rm dx}_{2}\\left(t\\right)^{2} + \\frac{3}{2} \\, k {\\rm dx}_{2}\\left(t\\right) {\\rm dx}_{3}\\left(t\\right) - \\frac{3}{4} \\, k {\\rm dx}_{3}\\left(t\\right)^{2} - \\frac{3}{4} \\, k {\\rm dy}_{0}\\left(t\\right)^{2} + \\frac{1}{2} \\, k {\\rm dy}_{0}\\left(t\\right) {\\rm dy}_{1}\\left(t\\right) - \\frac{3}{4} \\, k {\\rm dy}_{1}\\left(t\\right)^{2} + k {\\rm dy}_{1}\\left(t\\right) {\\rm dy}_{2}\\left(t\\right) - \\frac{3}{4} \\, k {\\rm dy}_{2}\\left(t\\right)^{2} + k {\\rm dy}_{0}\\left(t\\right) {\\rm dy}_{3}\\left(t\\right) + \\frac{1}{2} \\, k {\\rm dy}_{2}\\left(t\\right) {\\rm dy}_{3}\\left(t\\right) - \\frac{3}{4} \\, k {\\rm dy}_{3}\\left(t\\right)^{2} + \\frac{1}{2} \\, M \\frac{\\partial}{\\partial t}{\\rm dx}_{0}\\left(t\\right)^{2} + \\frac{1}{2} \\, m \\frac{\\partial}{\\partial t}{\\rm dx}_{1}\\left(t\\right)^{2} + \\frac{1}{2} \\, M \\frac{\\partial}{\\partial t}{\\rm dx}_{2}\\left(t\\right)^{2} + \\frac{1}{2} \\, m \\frac{\\partial}{\\partial t}{\\rm dx}_{3}\\left(t\\right)^{2} + \\frac{1}{2} \\, M \\frac{\\partial}{\\partial t}{\\rm dy}_{0}\\left(t\\right)^{2} + \\frac{1}{2} \\, m \\frac{\\partial}{\\partial t}{\\rm dy}_{1}\\left(t\\right)^{2} + \\frac{1}{2} \\, M \\frac{\\partial}{\\partial t}{\\rm dy}_{2}\\left(t\\right)^{2} + \\frac{1}{2} \\, m \\frac{\\partial}{\\partial t}{\\rm dy}_{3}\\left(t\\right)^{2}$"
      ],
      "text/plain": [
       "<IPython.core.display.Math object>"
      ]
     },
     "metadata": {},
     "output_type": "display_data"
    }
   ],
   "source": [
    "disp(model.LagrangianTaylor(2))"
   ]
  },
  {
   "cell_type": "code",
   "execution_count": 16,
   "id": "1b989348",
   "metadata": {},
   "outputs": [
    {
     "data": {
      "text/latex": [
       "$\\displaystyle \\left[M {\\rm vx}_{0}\\left(t\\right), m {\\rm vx}_{1}\\left(t\\right), M {\\rm vx}_{2}\\left(t\\right), m {\\rm vx}_{3}\\left(t\\right)\\right]$"
      ],
      "text/plain": [
       "<IPython.core.display.Math object>"
      ]
     },
     "metadata": {},
     "output_type": "display_data"
    },
    {
     "data": {
      "text/latex": [
       "$\\displaystyle \\left[M {\\rm vy}_{0}\\left(t\\right), m {\\rm vy}_{1}\\left(t\\right), M {\\rm vy}_{2}\\left(t\\right), m {\\rm vy}_{3}\\left(t\\right)\\right]$"
      ],
      "text/plain": [
       "<IPython.core.display.Math object>"
      ]
     },
     "metadata": {},
     "output_type": "display_data"
    }
   ],
   "source": [
    "Px, Py = model.Momentum()\n",
    "disp(Px)\n",
    "disp(Py)"
   ]
  },
  {
   "cell_type": "code",
   "execution_count": 17,
   "id": "788f01eb",
   "metadata": {},
   "outputs": [
    {
     "data": {
      "text/latex": [
       "$\\displaystyle \\left[M \\frac{\\partial}{\\partial t}{\\rm dx}_{0}\\left(t\\right), m \\frac{\\partial}{\\partial t}{\\rm dx}_{1}\\left(t\\right), M \\frac{\\partial}{\\partial t}{\\rm dx}_{2}\\left(t\\right), m \\frac{\\partial}{\\partial t}{\\rm dx}_{3}\\left(t\\right)\\right]$"
      ],
      "text/plain": [
       "<IPython.core.display.Math object>"
      ]
     },
     "metadata": {},
     "output_type": "display_data"
    },
    {
     "data": {
      "text/latex": [
       "$\\displaystyle \\left[M \\frac{\\partial}{\\partial t}{\\rm dy}_{0}\\left(t\\right), m \\frac{\\partial}{\\partial t}{\\rm dy}_{1}\\left(t\\right), M \\frac{\\partial}{\\partial t}{\\rm dy}_{2}\\left(t\\right), m \\frac{\\partial}{\\partial t}{\\rm dy}_{3}\\left(t\\right)\\right]$"
      ],
      "text/plain": [
       "<IPython.core.display.Math object>"
      ]
     },
     "metadata": {},
     "output_type": "display_data"
    }
   ],
   "source": [
    "px, py = model.momentum()\n",
    "disp(px)\n",
    "disp(py)"
   ]
  },
  {
   "cell_type": "code",
   "execution_count": 18,
   "id": "eef5dc3e",
   "metadata": {},
   "outputs": [],
   "source": [
    "eqs_x, eqs_y = model.EulerLagrange(2)"
   ]
  },
  {
   "cell_type": "code",
   "execution_count": 19,
   "id": "1ef19667",
   "metadata": {},
   "outputs": [
    {
     "data": {
      "text/latex": [
       "$\\displaystyle \\frac{1}{2} \\, \\sqrt{3} k {\\rm dy}_{0}\\left(t\\right) - \\frac{1}{2} \\, \\sqrt{3} k {\\rm dy}_{1}\\left(t\\right) + \\frac{3}{2} \\, k {\\rm dx}_{0}\\left(t\\right) - \\frac{3}{2} \\, k {\\rm dx}_{1}\\left(t\\right) + M \\frac{\\partial^{2}}{(\\partial t)^{2}}{\\rm dx}_{0}\\left(t\\right) = 0$"
      ],
      "text/plain": [
       "<IPython.core.display.Math object>"
      ]
     },
     "metadata": {},
     "output_type": "display_data"
    },
    {
     "data": {
      "text/latex": [
       "$\\displaystyle -\\frac{1}{2} \\, \\sqrt{3} k {\\rm dy}_{0}\\left(t\\right) + \\frac{1}{2} \\, \\sqrt{3} k {\\rm dy}_{1}\\left(t\\right) - \\frac{3}{2} \\, k {\\rm dx}_{0}\\left(t\\right) + \\frac{3}{2} \\, k {\\rm dx}_{1}\\left(t\\right) + m \\frac{\\partial^{2}}{(\\partial t)^{2}}{\\rm dx}_{1}\\left(t\\right) = 0$"
      ],
      "text/plain": [
       "<IPython.core.display.Math object>"
      ]
     },
     "metadata": {},
     "output_type": "display_data"
    },
    {
     "data": {
      "text/latex": [
       "$\\displaystyle -\\frac{1}{2} \\, \\sqrt{3} k {\\rm dy}_{2}\\left(t\\right) + \\frac{1}{2} \\, \\sqrt{3} k {\\rm dy}_{3}\\left(t\\right) + \\frac{3}{2} \\, k {\\rm dx}_{2}\\left(t\\right) - \\frac{3}{2} \\, k {\\rm dx}_{3}\\left(t\\right) + M \\frac{\\partial^{2}}{(\\partial t)^{2}}{\\rm dx}_{2}\\left(t\\right) = 0$"
      ],
      "text/plain": [
       "<IPython.core.display.Math object>"
      ]
     },
     "metadata": {},
     "output_type": "display_data"
    },
    {
     "data": {
      "text/latex": [
       "$\\displaystyle \\frac{1}{2} \\, \\sqrt{3} k {\\rm dy}_{2}\\left(t\\right) - \\frac{1}{2} \\, \\sqrt{3} k {\\rm dy}_{3}\\left(t\\right) - \\frac{3}{2} \\, k {\\rm dx}_{2}\\left(t\\right) + \\frac{3}{2} \\, k {\\rm dx}_{3}\\left(t\\right) + m \\frac{\\partial^{2}}{(\\partial t)^{2}}{\\rm dx}_{3}\\left(t\\right) = 0$"
      ],
      "text/plain": [
       "<IPython.core.display.Math object>"
      ]
     },
     "metadata": {},
     "output_type": "display_data"
    }
   ],
   "source": [
    "for eq_x in eqs_x:\n",
    "    disp(eq_x)"
   ]
  },
  {
   "cell_type": "code",
   "execution_count": 20,
   "id": "c3405b5d",
   "metadata": {},
   "outputs": [
    {
     "data": {
      "text/latex": [
       "$\\displaystyle \\frac{1}{2} \\, \\sqrt{3} k {\\rm dx}_{0}\\left(t\\right) - \\frac{1}{2} \\, \\sqrt{3} k {\\rm dx}_{1}\\left(t\\right) + \\frac{3}{2} \\, k {\\rm dy}_{0}\\left(t\\right) - \\frac{1}{2} \\, k {\\rm dy}_{1}\\left(t\\right) - k {\\rm dy}_{3}\\left(t\\right) + M \\frac{\\partial^{2}}{(\\partial t)^{2}}{\\rm dy}_{0}\\left(t\\right) = 0$"
      ],
      "text/plain": [
       "<IPython.core.display.Math object>"
      ]
     },
     "metadata": {},
     "output_type": "display_data"
    },
    {
     "data": {
      "text/latex": [
       "$\\displaystyle -\\frac{1}{2} \\, \\sqrt{3} k {\\rm dx}_{0}\\left(t\\right) + \\frac{1}{2} \\, \\sqrt{3} k {\\rm dx}_{1}\\left(t\\right) - \\frac{1}{2} \\, k {\\rm dy}_{0}\\left(t\\right) + \\frac{3}{2} \\, k {\\rm dy}_{1}\\left(t\\right) - k {\\rm dy}_{2}\\left(t\\right) + m \\frac{\\partial^{2}}{(\\partial t)^{2}}{\\rm dy}_{1}\\left(t\\right) = 0$"
      ],
      "text/plain": [
       "<IPython.core.display.Math object>"
      ]
     },
     "metadata": {},
     "output_type": "display_data"
    },
    {
     "data": {
      "text/latex": [
       "$\\displaystyle -\\frac{1}{2} \\, \\sqrt{3} k {\\rm dx}_{2}\\left(t\\right) + \\frac{1}{2} \\, \\sqrt{3} k {\\rm dx}_{3}\\left(t\\right) - k {\\rm dy}_{1}\\left(t\\right) + \\frac{3}{2} \\, k {\\rm dy}_{2}\\left(t\\right) - \\frac{1}{2} \\, k {\\rm dy}_{3}\\left(t\\right) + M \\frac{\\partial^{2}}{(\\partial t)^{2}}{\\rm dy}_{2}\\left(t\\right) = 0$"
      ],
      "text/plain": [
       "<IPython.core.display.Math object>"
      ]
     },
     "metadata": {},
     "output_type": "display_data"
    },
    {
     "data": {
      "text/latex": [
       "$\\displaystyle \\frac{1}{2} \\, \\sqrt{3} k {\\rm dx}_{2}\\left(t\\right) - \\frac{1}{2} \\, \\sqrt{3} k {\\rm dx}_{3}\\left(t\\right) - k {\\rm dy}_{0}\\left(t\\right) - \\frac{1}{2} \\, k {\\rm dy}_{2}\\left(t\\right) + \\frac{3}{2} \\, k {\\rm dy}_{3}\\left(t\\right) + m \\frac{\\partial^{2}}{(\\partial t)^{2}}{\\rm dy}_{3}\\left(t\\right) = 0$"
      ],
      "text/plain": [
       "<IPython.core.display.Math object>"
      ]
     },
     "metadata": {},
     "output_type": "display_data"
    }
   ],
   "source": [
    "for eq_y in eqs_y:\n",
    "    disp(eq_y)"
   ]
  },
  {
   "cell_type": "code",
   "execution_count": 21,
   "id": "81bfa2dc",
   "metadata": {},
   "outputs": [
    {
     "data": {
      "text/plain": [
       "4"
      ]
     },
     "execution_count": 21,
     "metadata": {},
     "output_type": "execute_result"
    }
   ],
   "source": [
    "len(eqs_x)"
   ]
  },
  {
   "cell_type": "code",
   "execution_count": 22,
   "id": "ace6eef6",
   "metadata": {},
   "outputs": [
    {
     "data": {
      "text/latex": [
       "$\\displaystyle A_{x_{0}} M \\lambda_{x_{0}}^{2} e^{\\left(\\lambda_{x_{0}} t\\right)} + \\frac{1}{2} \\, \\sqrt{3} A_{y_{0}} k e^{\\left(\\lambda_{y_{0}} t\\right)} - \\frac{1}{2} \\, \\sqrt{3} A_{y_{1}} k e^{\\left(\\lambda_{y_{1}} t\\right)} + \\frac{3}{2} \\, A_{x_{0}} k e^{\\left(\\lambda_{x_{0}} t\\right)} - \\frac{3}{2} \\, A_{x_{1}} k e^{\\left(\\lambda_{x_{1}} t\\right)} = 0$"
      ],
      "text/plain": [
       "<IPython.core.display.Math object>"
      ]
     },
     "metadata": {},
     "output_type": "display_data"
    },
    {
     "data": {
      "text/latex": [
       "$\\displaystyle A_{y_{0}} M \\lambda_{y_{0}}^{2} e^{\\left(\\lambda_{y_{0}} t\\right)} + \\frac{1}{2} \\, \\sqrt{3} A_{x_{0}} k e^{\\left(\\lambda_{x_{0}} t\\right)} - \\frac{1}{2} \\, \\sqrt{3} A_{x_{1}} k e^{\\left(\\lambda_{x_{1}} t\\right)} + \\frac{3}{2} \\, A_{y_{0}} k e^{\\left(\\lambda_{y_{0}} t\\right)} - \\frac{1}{2} \\, A_{y_{1}} k e^{\\left(\\lambda_{y_{1}} t\\right)} - A_{y_{3}} k e^{\\left(\\lambda_{y_{3}} t\\right)} = 0$"
      ],
      "text/plain": [
       "<IPython.core.display.Math object>"
      ]
     },
     "metadata": {},
     "output_type": "display_data"
    },
    {
     "data": {
      "text/latex": [
       "$\\displaystyle A_{x_{1}} \\lambda_{x_{1}}^{2} m e^{\\left(\\lambda_{x_{1}} t\\right)} - \\frac{1}{2} \\, \\sqrt{3} A_{y_{0}} k e^{\\left(\\lambda_{y_{0}} t\\right)} + \\frac{1}{2} \\, \\sqrt{3} A_{y_{1}} k e^{\\left(\\lambda_{y_{1}} t\\right)} - \\frac{3}{2} \\, A_{x_{0}} k e^{\\left(\\lambda_{x_{0}} t\\right)} + \\frac{3}{2} \\, A_{x_{1}} k e^{\\left(\\lambda_{x_{1}} t\\right)} = 0$"
      ],
      "text/plain": [
       "<IPython.core.display.Math object>"
      ]
     },
     "metadata": {},
     "output_type": "display_data"
    },
    {
     "data": {
      "text/latex": [
       "$\\displaystyle A_{y_{1}} \\lambda_{y_{1}}^{2} m e^{\\left(\\lambda_{y_{1}} t\\right)} - \\frac{1}{2} \\, \\sqrt{3} A_{x_{0}} k e^{\\left(\\lambda_{x_{0}} t\\right)} + \\frac{1}{2} \\, \\sqrt{3} A_{x_{1}} k e^{\\left(\\lambda_{x_{1}} t\\right)} - \\frac{1}{2} \\, A_{y_{0}} k e^{\\left(\\lambda_{y_{0}} t\\right)} + \\frac{3}{2} \\, A_{y_{1}} k e^{\\left(\\lambda_{y_{1}} t\\right)} - A_{y_{2}} k e^{\\left(\\lambda_{y_{2}} t\\right)} = 0$"
      ],
      "text/plain": [
       "<IPython.core.display.Math object>"
      ]
     },
     "metadata": {},
     "output_type": "display_data"
    },
    {
     "data": {
      "text/latex": [
       "$\\displaystyle A_{x_{2}} M \\lambda_{x_{2}}^{2} e^{\\left(\\lambda_{x_{2}} t\\right)} - \\frac{1}{2} \\, \\sqrt{3} A_{y_{2}} k e^{\\left(\\lambda_{y_{2}} t\\right)} + \\frac{1}{2} \\, \\sqrt{3} A_{y_{3}} k e^{\\left(\\lambda_{y_{3}} t\\right)} + \\frac{3}{2} \\, A_{x_{2}} k e^{\\left(\\lambda_{x_{2}} t\\right)} - \\frac{3}{2} \\, A_{x_{3}} k e^{\\left(\\lambda_{x_{3}} t\\right)} = 0$"
      ],
      "text/plain": [
       "<IPython.core.display.Math object>"
      ]
     },
     "metadata": {},
     "output_type": "display_data"
    },
    {
     "data": {
      "text/latex": [
       "$\\displaystyle A_{y_{2}} M \\lambda_{y_{2}}^{2} e^{\\left(\\lambda_{y_{2}} t\\right)} - \\frac{1}{2} \\, \\sqrt{3} A_{x_{2}} k e^{\\left(\\lambda_{x_{2}} t\\right)} + \\frac{1}{2} \\, \\sqrt{3} A_{x_{3}} k e^{\\left(\\lambda_{x_{3}} t\\right)} - A_{y_{1}} k e^{\\left(\\lambda_{y_{1}} t\\right)} + \\frac{3}{2} \\, A_{y_{2}} k e^{\\left(\\lambda_{y_{2}} t\\right)} - \\frac{1}{2} \\, A_{y_{3}} k e^{\\left(\\lambda_{y_{3}} t\\right)} = 0$"
      ],
      "text/plain": [
       "<IPython.core.display.Math object>"
      ]
     },
     "metadata": {},
     "output_type": "display_data"
    },
    {
     "data": {
      "text/latex": [
       "$\\displaystyle A_{x_{3}} \\lambda_{x_{3}}^{2} m e^{\\left(\\lambda_{x_{3}} t\\right)} + \\frac{1}{2} \\, \\sqrt{3} A_{y_{2}} k e^{\\left(\\lambda_{y_{2}} t\\right)} - \\frac{1}{2} \\, \\sqrt{3} A_{y_{3}} k e^{\\left(\\lambda_{y_{3}} t\\right)} - \\frac{3}{2} \\, A_{x_{2}} k e^{\\left(\\lambda_{x_{2}} t\\right)} + \\frac{3}{2} \\, A_{x_{3}} k e^{\\left(\\lambda_{x_{3}} t\\right)} = 0$"
      ],
      "text/plain": [
       "<IPython.core.display.Math object>"
      ]
     },
     "metadata": {},
     "output_type": "display_data"
    },
    {
     "data": {
      "text/latex": [
       "$\\displaystyle A_{y_{3}} \\lambda_{y_{3}}^{2} m e^{\\left(\\lambda_{y_{3}} t\\right)} + \\frac{1}{2} \\, \\sqrt{3} A_{x_{2}} k e^{\\left(\\lambda_{x_{2}} t\\right)} - \\frac{1}{2} \\, \\sqrt{3} A_{x_{3}} k e^{\\left(\\lambda_{x_{3}} t\\right)} - A_{y_{0}} k e^{\\left(\\lambda_{y_{0}} t\\right)} - \\frac{1}{2} \\, A_{y_{2}} k e^{\\left(\\lambda_{y_{2}} t\\right)} + \\frac{3}{2} \\, A_{y_{3}} k e^{\\left(\\lambda_{y_{3}} t\\right)} = 0$"
      ],
      "text/plain": [
       "<IPython.core.display.Math object>"
      ]
     },
     "metadata": {},
     "output_type": "display_data"
    }
   ],
   "source": [
    "eqsi_x, eqsi_y, Ax, Ay, Amx, Amy = model.EulerLagrangeSolution(2)"
   ]
  },
  {
   "cell_type": "raw",
   "id": "ac2b74df",
   "metadata": {},
   "source": [
    "M = GenerateMatrix(eqsi_x + eqsi_y, Ax + Ay)\n",
    "disp(M)"
   ]
  },
  {
   "cell_type": "code",
   "execution_count": 23,
   "id": "e09f2e13",
   "metadata": {},
   "outputs": [
    {
     "data": {
      "text/latex": [
       "$\\displaystyle \\left(\\begin{array}{rrrrrrrr}\n",
       "M \\lambda_{x_{0}}^{2} + \\frac{3}{2} \\, k & -\\frac{3}{2} \\, k & 0 & 0 & \\frac{1}{2} \\, \\sqrt{3} k & -\\frac{1}{2} \\, \\sqrt{3} k & 0 & 0 \\\\\n",
       "-\\frac{3}{2} \\, k & \\lambda_{x_{1}}^{2} m + \\frac{3}{2} \\, k & 0 & 0 & -\\frac{1}{2} \\, \\sqrt{3} k & \\frac{1}{2} \\, \\sqrt{3} k & 0 & 0 \\\\\n",
       "0 & 0 & M \\lambda_{x_{2}}^{2} + \\frac{3}{2} \\, k & -\\frac{3}{2} \\, k & 0 & 0 & -\\frac{1}{2} \\, \\sqrt{3} k & \\frac{1}{2} \\, \\sqrt{3} k \\\\\n",
       "0 & 0 & -\\frac{3}{2} \\, k & \\lambda_{x_{3}}^{2} m + \\frac{3}{2} \\, k & 0 & 0 & \\frac{1}{2} \\, \\sqrt{3} k & -\\frac{1}{2} \\, \\sqrt{3} k \\\\\n",
       "\\frac{1}{2} \\, \\sqrt{3} k & -\\frac{1}{2} \\, \\sqrt{3} k & 0 & 0 & M \\lambda_{y_{0}}^{2} + \\frac{3}{2} \\, k & -\\frac{1}{2} \\, k & 0 & -k \\\\\n",
       "-\\frac{1}{2} \\, \\sqrt{3} k & \\frac{1}{2} \\, \\sqrt{3} k & 0 & 0 & -\\frac{1}{2} \\, k & \\lambda_{y_{1}}^{2} m + \\frac{3}{2} \\, k & -k & 0 \\\\\n",
       "0 & 0 & -\\frac{1}{2} \\, \\sqrt{3} k & \\frac{1}{2} \\, \\sqrt{3} k & 0 & -k & M \\lambda_{y_{2}}^{2} + \\frac{3}{2} \\, k & -\\frac{1}{2} \\, k \\\\\n",
       "0 & 0 & \\frac{1}{2} \\, \\sqrt{3} k & -\\frac{1}{2} \\, \\sqrt{3} k & -k & 0 & -\\frac{1}{2} \\, k & \\lambda_{y_{3}}^{2} m + \\frac{3}{2} \\, k\n",
       "\\end{array}\\right)$"
      ],
      "text/plain": [
       "<IPython.core.display.Math object>"
      ]
     },
     "metadata": {},
     "output_type": "display_data"
    }
   ],
   "source": [
    "M = GenerateMatrix(eqsi_x + eqsi_y, Amx + Amy)\n",
    "disp(M)"
   ]
  },
  {
   "cell_type": "code",
   "execution_count": 24,
   "id": "0b3a9adb",
   "metadata": {},
   "outputs": [
    {
     "data": {
      "text/latex": [
       "$\\displaystyle 111$"
      ],
      "text/plain": [
       "<IPython.core.display.Math object>"
      ]
     },
     "metadata": {},
     "output_type": "display_data"
    }
   ],
   "source": [
    "det_M = M.det().factor()\n",
    "disp(len(det_M.operands()))"
   ]
  },
  {
   "cell_type": "code",
   "execution_count": 25,
   "id": "48cc9769",
   "metadata": {},
   "outputs": [
    {
     "data": {
      "image/png": "[encoded data removed]",
      "text/plain": [
       "Graphics object consisting of 6 graphics primitives"
      ]
     },
     "metadata": {},
     "output_type": "display_data"
    }
   ],
   "source": [
    "p = model.plot()\n",
    "model.show(p)"
   ]
  },
  {
   "cell_type": "code",
   "execution_count": 26,
   "id": "5b6ebf43",
   "metadata": {},
   "outputs": [],
   "source": [
    "# предполагаем моду в которой\n",
    "# частоты одинаковых по массе\n",
    "# атомов равны друг другу\n",
    "M1 = M.subs(model.lambda_x[2] == +model.lambda_x[0]) \\\n",
    "      .subs(model.lambda_x[3] == +model.lambda_x[1]) \\\n",
    "      .subs(model.lambda_y[2] == +model.lambda_y[0]) \\\n",
    "      .subs(model.lambda_y[3] == +model.lambda_y[1])"
   ]
  },
  {
   "cell_type": "code",
   "execution_count": 27,
   "id": "c9a3a3c8",
   "metadata": {},
   "outputs": [
    {
     "name": "stdout",
     "output_type": "stream",
     "text": [
      "\n"
     ]
    },
    {
     "data": {
      "text/latex": [
       "$\\displaystyle 2 \\, M^{2} \\lambda_{x_{0}}^{2} \\lambda_{x_{1}}^{2} \\lambda_{y_{0}}^{2} \\lambda_{y_{1}}^{2} m^{2} + 3 \\, M^{2} k \\lambda_{x_{0}}^{2} \\lambda_{x_{1}}^{2} \\lambda_{y_{0}}^{2} m + 3 \\, M^{2} k \\lambda_{x_{0}}^{2} \\lambda_{y_{0}}^{2} \\lambda_{y_{1}}^{2} m + 3 \\, M k \\lambda_{x_{0}}^{2} \\lambda_{x_{1}}^{2} \\lambda_{y_{1}}^{2} m^{2} + 3 \\, M k \\lambda_{x_{1}}^{2} \\lambda_{y_{0}}^{2} \\lambda_{y_{1}}^{2} m^{2} + 3 \\, M^{2} k^{2} \\lambda_{x_{0}}^{2} \\lambda_{y_{0}}^{2} + 4 \\, M k^{2} \\lambda_{x_{0}}^{2} \\lambda_{x_{1}}^{2} m + 3 \\, M k^{2} \\lambda_{x_{1}}^{2} \\lambda_{y_{0}}^{2} m + 3 \\, M k^{2} \\lambda_{x_{0}}^{2} \\lambda_{y_{1}}^{2} m + 3 \\, k^{2} \\lambda_{x_{1}}^{2} \\lambda_{y_{1}}^{2} m^{2}$"
      ],
      "text/plain": [
       "<IPython.core.display.Math object>"
      ]
     },
     "metadata": {},
     "output_type": "display_data"
    },
    {
     "name": "stdout",
     "output_type": "stream",
     "text": [
      "\n"
     ]
    },
    {
     "data": {
      "text/latex": [
       "$\\displaystyle 2 \\, M^{2} \\lambda_{x_{0}}^{2} \\lambda_{x_{1}}^{2} \\lambda_{y_{0}}^{2} \\lambda_{y_{1}}^{2} m^{2} + 3 \\, M^{2} k \\lambda_{x_{0}}^{2} \\lambda_{x_{1}}^{2} \\lambda_{y_{0}}^{2} m + 3 \\, M^{2} k \\lambda_{x_{0}}^{2} \\lambda_{y_{0}}^{2} \\lambda_{y_{1}}^{2} m + 3 \\, M k \\lambda_{x_{0}}^{2} \\lambda_{x_{1}}^{2} \\lambda_{y_{1}}^{2} m^{2} + 3 \\, M k \\lambda_{x_{1}}^{2} \\lambda_{y_{0}}^{2} \\lambda_{y_{1}}^{2} m^{2} + 3 \\, M^{2} k^{2} \\lambda_{x_{0}}^{2} \\lambda_{y_{0}}^{2} + 3 \\, M k^{2} \\lambda_{x_{1}}^{2} \\lambda_{y_{0}}^{2} m + 3 \\, M k^{2} \\lambda_{x_{0}}^{2} \\lambda_{y_{1}}^{2} m + 3 \\, k^{2} \\lambda_{x_{1}}^{2} \\lambda_{y_{1}}^{2} m^{2}$"
      ],
      "text/plain": [
       "<IPython.core.display.Math object>"
      ]
     },
     "metadata": {},
     "output_type": "display_data"
    },
    {
     "name": "stdout",
     "output_type": "stream",
     "text": [
      "\n"
     ]
    },
    {
     "data": {
      "text/latex": [
       "$\\displaystyle \\frac{1}{4}$"
      ],
      "text/plain": [
       "<IPython.core.display.Math object>"
      ]
     },
     "metadata": {},
     "output_type": "display_data"
    }
   ],
   "source": [
    "det_M1 = M1.det().factor()\n",
    "for det_M1_operand in det_M1.operands():\n",
    "    print(\"\")\n",
    "    disp(det_M1_operand)"
   ]
  },
  {
   "cell_type": "code",
   "execution_count": 28,
   "id": "010ef6ff",
   "metadata": {},
   "outputs": [
    {
     "data": {
      "text/latex": [
       "$\\displaystyle \\left[\\lambda_{x_{0}}^{2} = -\\frac{3 \\, {\\left(M k^{2} \\lambda_{x_{1}}^{2} \\lambda_{y_{0}}^{2} m + {\\left(M k \\lambda_{x_{1}}^{2} \\lambda_{y_{0}}^{2} + k^{2} \\lambda_{x_{1}}^{2}\\right)} \\lambda_{y_{1}}^{2} m^{2}\\right)}}{3 \\, M^{2} k^{2} \\lambda_{y_{0}}^{2} + {\\left(2 \\, M^{2} \\lambda_{x_{1}}^{2} \\lambda_{y_{0}}^{2} + 3 \\, M k \\lambda_{x_{1}}^{2}\\right)} \\lambda_{y_{1}}^{2} m^{2} + {\\left(3 \\, M^{2} k \\lambda_{x_{1}}^{2} \\lambda_{y_{0}}^{2} + 4 \\, M k^{2} \\lambda_{x_{1}}^{2} + 3 \\, {\\left(M^{2} k \\lambda_{y_{0}}^{2} + M k^{2}\\right)} \\lambda_{y_{1}}^{2}\\right)} m}, \\lambda_{x_{0}}^{2} = -\\frac{3 \\, {\\left(M k^{2} \\lambda_{x_{1}}^{2} \\lambda_{y_{0}}^{2} m + {\\left(M k \\lambda_{x_{1}}^{2} \\lambda_{y_{0}}^{2} + k^{2} \\lambda_{x_{1}}^{2}\\right)} \\lambda_{y_{1}}^{2} m^{2}\\right)}}{3 \\, M^{2} k^{2} \\lambda_{y_{0}}^{2} + {\\left(2 \\, M^{2} \\lambda_{x_{1}}^{2} \\lambda_{y_{0}}^{2} + 3 \\, M k \\lambda_{x_{1}}^{2}\\right)} \\lambda_{y_{1}}^{2} m^{2} + 3 \\, {\\left(M^{2} k \\lambda_{x_{1}}^{2} \\lambda_{y_{0}}^{2} + {\\left(M^{2} k \\lambda_{y_{0}}^{2} + M k^{2}\\right)} \\lambda_{y_{1}}^{2}\\right)} m}\\right]$"
      ],
      "text/plain": [
       "<IPython.core.display.Math object>"
      ]
     },
     "metadata": {},
     "output_type": "display_data"
    }
   ],
   "source": [
    "disp(solve(det_M1 == 0, model.lambda_x[0]^2))"
   ]
  },
  {
   "cell_type": "code",
   "execution_count": 29,
   "id": "00f7be11",
   "metadata": {},
   "outputs": [
    {
     "data": {
      "text/latex": [
       "$\\displaystyle \\left[\\lambda_{x_{1}}^{2} = -\\frac{3 \\, {\\left(M^{2} k^{2} \\lambda_{x_{0}}^{2} \\lambda_{y_{0}}^{2} + {\\left(M^{2} k \\lambda_{x_{0}}^{2} \\lambda_{y_{0}}^{2} + M k^{2} \\lambda_{x_{0}}^{2}\\right)} \\lambda_{y_{1}}^{2} m\\right)}}{{\\left(3 \\, M k \\lambda_{x_{0}}^{2} + {\\left(2 \\, M^{2} \\lambda_{x_{0}}^{2} + 3 \\, M k\\right)} \\lambda_{y_{0}}^{2} + 3 \\, k^{2}\\right)} \\lambda_{y_{1}}^{2} m^{2} + {\\left(4 \\, M k^{2} \\lambda_{x_{0}}^{2} + 3 \\, {\\left(M^{2} k \\lambda_{x_{0}}^{2} + M k^{2}\\right)} \\lambda_{y_{0}}^{2}\\right)} m}, \\lambda_{x_{1}}^{2} = -\\frac{3 \\, {\\left(M^{2} k^{2} \\lambda_{x_{0}}^{2} \\lambda_{y_{0}}^{2} + {\\left(M^{2} k \\lambda_{x_{0}}^{2} \\lambda_{y_{0}}^{2} + M k^{2} \\lambda_{x_{0}}^{2}\\right)} \\lambda_{y_{1}}^{2} m\\right)}}{{\\left(3 \\, M k \\lambda_{x_{0}}^{2} + {\\left(2 \\, M^{2} \\lambda_{x_{0}}^{2} + 3 \\, M k\\right)} \\lambda_{y_{0}}^{2} + 3 \\, k^{2}\\right)} \\lambda_{y_{1}}^{2} m^{2} + 3 \\, {\\left(M^{2} k \\lambda_{x_{0}}^{2} + M k^{2}\\right)} \\lambda_{y_{0}}^{2} m}\\right]$"
      ],
      "text/plain": [
       "<IPython.core.display.Math object>"
      ]
     },
     "metadata": {},
     "output_type": "display_data"
    }
   ],
   "source": [
    "disp(solve(det_M1 == 0, model.lambda_x[1]^2))"
   ]
  },
  {
   "cell_type": "raw",
   "id": "ca581b6e",
   "metadata": {},
   "source": [
    "eqsi_x, eqsi_y, Ax, Ay, Amx, Amy = model.EulerLagrangeSolution(3)"
   ]
  },
  {
   "cell_type": "code",
   "execution_count": null,
   "id": "66020b57",
   "metadata": {},
   "outputs": [],
   "source": []
  }
 ],
 "metadata": {
  "kernelspec": {
   "display_name": "SageMath 9.6.beta7",
   "language": "sage",
   "name": "sagemath"
  },
  "language_info": {
   "codemirror_mode": {
    "name": "ipython",
    "version": 3
   },
   "file_extension": ".py",
   "mimetype": "text/x-python",
   "name": "python",
   "nbconvert_exporter": "python",
   "pygments_lexer": "ipython3",
   "version": "3.10.3"
  }
 },
 "nbformat": 4,
 "nbformat_minor": 5
}
