{
 "cells": [
  {
   "cell_type": "markdown",
   "metadata": {},
   "source": [
    "$k_x = \\frac{\\pi}{a}\\,n_x$, $k_y = \\frac{\\pi}{a}\\,n_y$, $k_z = \\frac{\\pi}{L/2}\\,n_z$ (small cavity, one honeycomb),"
   ]
  },
  {
   "cell_type": "markdown",
   "metadata": {},
   "source": [
    "$k = \\sqrt{k_x^2+k_y^2+k_z^2} = \\sqrt{\\kappa^2+k_z^2}$. "
   ]
  },
  {
   "cell_type": "markdown",
   "metadata": {},
   "source": [
    "$\\frac{1}{2\\,V}\\sum\\,\\hbar\\omega = \\frac{1}{a^2\\,\\pi}\\hbar\\,c\\int\\limits_{0}^{\\infty}\\left[{\\sum\\limits_{n_x=(0)1}^{\\infty}\\sum\\limits_{n_y=(0)1}^{\\infty}\\sqrt{n_x^2\\frac{\\pi^2}{a^2}+n_y^2\\frac{\\pi^2}{a^2}+k_z^2}}\\right]\\,dk_z$  (small cavity, one honeycomb),"
   ]
  },
  {
   "cell_type": "markdown",
   "metadata": {},
   "source": [
    "where the notation $\\left(0\\right) 1$ is meant to indicate that the term with $n = 0$\n",
    "has to be multiplied by $\\frac{1}{2}$. "
   ]
  },
  {
   "cell_type": "markdown",
   "metadata": {},
   "source": [
    "$\\delta\\,\\frac{E}{V} = \\frac{1}{a^2\\,\\pi}\\hbar\\,c\\left\\{\\sum\\limits_{n_x=(0)1}^{\\infty}\\sum\\limits_{n_y=(0)1}^{\\infty}\\left[\\,\\int\\limits_{0}^{\\infty}\\sqrt{n_x^2\\frac{\\pi^2}{a^2}+n_y^2\\frac{\\pi^2}{a^2}+k_z^2}\\,dk_z\\right] - \\int\\limits_{0}^{\\infty}\\int\\limits_{0}^{\\infty}\\left[\\,\\int\\limits_{0}^{\\infty}\\sqrt{k_x^2+k_y^2+k_z^2}\\,dk_z\\right]\\,dn_x\\,dn_y\\right\\}$"
   ]
  },
  {
   "cell_type": "markdown",
   "metadata": {},
   "source": [
    "In order to obtain a finite result it is necessary to multiply the integrands\n",
    "by a function $f(k/k_m)$ which is unity for $k << k_m$ but tends to zero sufficiently rapidly for $(k/k_m)\\, \\rightarrow\\,\\infty$. where km may be defined by $f(1) = \\frac{1}{2}$.\n",
    "The physical meaning is obvious: for very short waves (X~rays e.g.)\n",
    "our plate is hardly an obstacle at all and therefore the zero point energy\n",
    "of these waves will not be influenced by the position of this plate. "
   ]
  },
  {
   "cell_type": "markdown",
   "metadata": {},
   "source": [
    "Introducing the variable $u^2 = a^2\\,k_z^2/\\pi^2$"
   ]
  },
  {
   "cell_type": "markdown",
   "metadata": {},
   "source": [
    "$du = a/\\pi\\,dk_z$"
   ]
  },
  {
   "cell_type": "markdown",
   "metadata": {},
   "source": [
    " and complex $n = n_x + i\\,n_y$\n",
    " \n",
    " we have $n n^* = n_x^2 + n_y^2$"
   ]
  },
  {
   "cell_type": "markdown",
   "metadata": {},
   "source": [
    "$\\delta\\,\\frac{E}{V} = \\hbar\\,c\\frac{\\pi}{a^4}\\left\\{\\sum\\limits_{n_x=\\left(0\\right)\\,1}^{\\infty} \\sum\\limits_{n_y=\\left(0\\right)\\,1}^{\\infty} \\int\\limits_{0}^{\\infty}{\\sqrt{n n^*+u^2}}f\\left(\\pi\\sqrt{n n^*+u^2}/\\left(a\\,k_m\\right)\\right)\\,d{u}-\\int\\limits_{0}^{\\infty}\\int\\limits_{0}^{\\infty}\\int\\limits_{0}^{\\infty}{\\sqrt{n n^*+u^2}}f\\left(\\pi\\sqrt{n n^*+u^2}/\\left(a\\,k_m\\right)\\right)\\,d{u}\\,d{n_x}\\,d{n_y}\\right\\}$"
   ]
  },
  {
   "cell_type": "markdown",
   "metadata": {},
   "source": [
    "Now we need the EULER-MACLAURIN 2D formula: $\\sum\\limits_{\\left(0\\right)\\,1}^{\\infty}\\sum\\limits_{\\left(0\\right)\\,1}^{\\infty}{F\\left(n_x, n_y\\right)}-\\int\\limits_{0}^{\\infty}\\int\\limits_{0}^{\\infty}{F\\left(n_x, n_y\\right)} = $"
   ]
  },
  {
   "cell_type": "markdown",
   "metadata": {},
   "source": [
    "Starting from EULER-MACLAURIN 2D"
   ]
  },
  {
   "cell_type": "markdown",
   "metadata": {},
   "source": [
    "$\\sum\\limits_{0}^{\\infty}\\sum\\limits_{0}^{\\infty}{F\\left(n_x, n_y\\right)} -\\int_{n_{y}}^{b_{y}} \\int_{n_{x}}^{b_{x}} F\\left(x, y\\right)\\,{d x}\\,{d y}= $"
   ]
  },
  {
   "cell_type": "markdown",
   "metadata": {},
   "source": [
    "int_sum= $\\frac{1}{2} \\, \\int_{n_{y}}^{b_{y}} F\\left(n_{x}, y\\right)\\,{d y} - \\frac{1}{12} \\, \\int_{n_{y}}^{b_{y}} \\frac{\\partial}{\\partial n_{x}}F\\left(n_{x}, y\\right)\\,{d y}$\n",
    "\n",
    "int_R_p= $-\\frac{1}{12} \\, \\int_{n_{y}}^{b_{y}} {\\sum_{j_{x}=n_{x}}^{b_{x} - 1} \\int_{0}^{1} 6 \\, u_{x}^{2} \\mathrm{D}_{0, 0}\\left(F\\right)\\left(j_{x} + u_{x}, y\\right) - 6 \\, u_{x} \\mathrm{D}_{0, 0}\\left(F\\right)\\left(j_{x} + u_{x}, y\\right) + \\mathrm{D}_{0, 0}\\left(F\\right)\\left(j_{x} + u_{x}, y\\right)\\,{d u_{x}}}\\,{d y}$\n",
    "\n",
    "sum_int= $\\frac{1}{2} \\, \\int_{n_{x}}^{b_{x}} F\\left(x, n_{y}\\right)\\,{d x} - \\frac{1}{12} \\, \\int_{n_{x}}^{b_{x}} \\frac{\\partial}{\\partial n_{y}}F\\left(x, n_{y}\\right)\\,{d x}$\n",
    "\n",
    "sum_sum= $\\frac{1}{4} \\, F\\left(n_{x}, n_{y}\\right) - \\frac{1}{24} \\, \\frac{\\partial}{\\partial n_{x}}F\\left(n_{x}, n_{y}\\right) + \\frac{1}{144} \\, \\frac{\\partial^{2}}{\\partial n_{x}\\partial n_{y}}F\\left(n_{x}, n_{y}\\right) - \\frac{1}{24} \\, \\frac{\\partial}{\\partial n_{y}}F\\left(n_{x}, n_{y}\\right)$\n",
    "\n",
    "sum_R_p= $\\frac{1}{6} \\, {\\sum_{j_{x}=n_{x}}^{b_{x} - 1} \\int_{0}^{1} 6 \\, u_{x}^{2} \\mathrm{D}_{0, 0, 1}\\left(F\\right)\\left(j_{x} + u_{x}, n_{y}\\right) - 6 \\, u_{x} \\mathrm{D}_{0, 0, 1}\\left(F\\right)\\left(j_{x} + u_{x}, n_{y}\\right) + \\mathrm{D}_{0, 0, 1}\\left(F\\right)\\left(j_{x} + u_{x}, n_{y}\\right)\\,{d u_{x}}}$\n",
    "\n",
    "R_p_int= $-\\frac{1}{12} \\, {\\sum_{j_{y}=n_{y}}^{b_{y} - 1} \\int_{0}^{1} 6 \\, u_{y}^{2} \\int_{n_{x}}^{b_{x}} \\mathrm{D}_{1, 1}\\left(F\\right)\\left(x, j_{y} + u_{y}\\right)\\,{d x} - 6 \\, u_{y} \\int_{n_{x}}^{b_{x}} \\mathrm{D}_{1, 1}\\left(F\\right)\\left(x, j_{y} + u_{y}\\right)\\,{d x} + \\int_{n_{x}}^{b_{x}} \\mathrm{D}_{1, 1}\\left(F\\right)\\left(x, j_{y} + u_{y}\\right)\\,{d x}\\,{d u_{y}}}$\n",
    "\n",
    "R_p_sum= $\\frac{1}{144} \\, {\\sum_{j_{y}=n_{y}}^{b_{y} - 1} \\int_{0}^{1} 6 \\, u_{y}^{2} {\\left(\\mathrm{D}_{0, 1, 1}\\left(F\\right)\\left(n_{x}, j_{y} + u_{y}\\right) - 6 \\, \\mathrm{D}_{1, 1}\\left(F\\right)\\left(n_{x}, j_{y} + u_{y}\\right)\\right)} - 6 \\, u_{y} {\\left(\\mathrm{D}_{0, 1, 1}\\left(F\\right)\\left(n_{x}, j_{y} + u_{y}\\right) - 6 \\, \\mathrm{D}_{1, 1}\\left(F\\right)\\left(n_{x}, j_{y} + u_{y}\\right)\\right)} + \\mathrm{D}_{0, 1, 1}\\left(F\\right)\\left(n_{x}, j_{y} + u_{y}\\right) - 6 \\, \\mathrm{D}_{1, 1}\\left(F\\right)\\left(n_{x}, j_{y} + u_{y}\\right)\\,{d u_{y}}}$\n",
    "\n",
    "R_p_R_p= $-{\\sum_{j_{y}=n_{y}}^{b_{y} - 1} \\int_{0}^{1} -\\frac{1}{1728} \\, {\\left(\\int_{0}^{1} {\\left(6 \\, u_{x}^{2} - 6 \\, u_{x} + 1\\right)} \\mathrm{D}_{0, 0, 1}\\left(F\\right)\\left(j_{x} + u_{x}, j_{y} + u_{y}\\right)\\,{d u_{x}}^{2} \\mathrm{D}_{0, 0}{\\sum_{j_{x}=n_{x}}^{b_{x} - 1} \\frac{1}{12} \\, \\int_{0}^{1} {\\left(6 \\, u_{x}^{2} - 6 \\, u_{x} + 1\\right)} \\mathrm{D}_{0, 0}\\left(F\\right)\\left(j_{x} + u_{x}, j_{y} + u_{y}\\right)\\,{d u_{x}}} + 12 \\, \\int_{0}^{1} {\\left(6 \\, u_{x}^{2} - 6 \\, u_{x} + 1\\right)} \\mathrm{D}_{0, 0, 1, 1}\\left(F\\right)\\left(j_{x} + u_{x}, j_{y} + u_{y}\\right)\\,{d u_{x}} \\mathrm{D}_{0}{\\sum_{j_{x}=n_{x}}^{b_{x} - 1} \\frac{1}{12} \\, \\int_{0}^{1} {\\left(6 \\, u_{x}^{2} - 6 \\, u_{x} + 1\\right)} \\mathrm{D}_{0, 0}\\left(F\\right)\\left(j_{x} + u_{x}, j_{y} + u_{y}\\right)\\,{d u_{x}}}\\right)} {\\left(6 \\, u_{y}^{2} - 6 \\, u_{y} + 1\\right)}\\,{d u_{y}}}$"
   ]
  },
  {
   "cell_type": "markdown",
   "metadata": {},
   "source": [
    "We apply 1D EULER-MACLAURIN formula for :"
   ]
  },
  {
   "cell_type": "markdown",
   "metadata": {},
   "source": [
    "$ \\int_{0}^{b_{y}} F\\left(x, y\\right)\\,{d y} = \\sum\\limits_{y=0}^{b_{y}}{F\\left(x, y\\right)} - \\frac{1}{2} \\, F\\left(x, 0\\right) + \\frac{1}{12} \\, \\frac{\\partial}{\\partial n_{y}}F\\left(x, 0\\right) + \\frac{1}{12} \\, {\\sum_{j_{y}=n_{y}}^{b_{y} - 1} \\int_{0}^{1} 6 \\, u_{y}^{2} \\mathrm{D}_{1, 1}\\left(F\\right)\\left(x, j_{y} + u_{y}\\right) - 6 \\, u_{y} \\mathrm{D}_{1, 1}\\left(F\\right)\\left(x, j_{y} + u_{y}\\right) + \\mathrm{D}_{1, 1}\\left(F\\right)\\left(x, j_{y} + u_{y}\\right)\\,{d u_{y}}} $"
   ]
  },
  {
   "cell_type": "markdown",
   "metadata": {},
   "source": [
    "$ \\int_{0}^{b_{y}} F\\left(x, y\\right)\\,{d y} = \\sum\\limits_{y=(0)1}^{b_{y}}{F\\left(x, y\\right)} + \\frac{1}{12} \\, \\frac{\\partial}{\\partial n_{y}}F\\left(x, 0\\right) + \\frac{1}{12} \\, {\\sum_{j_{y}=n_{y}}^{b_{y} - 1} \\int_{0}^{1} 6 \\, u_{y}^{2} \\mathrm{D}_{1, 1}\\left(F\\right)\\left(x, j_{y} + u_{y}\\right) - 6 \\, u_{y} \\mathrm{D}_{1, 1}\\left(F\\right)\\left(x, j_{y} + u_{y}\\right) + \\mathrm{D}_{1, 1}\\left(F\\right)\\left(x, j_{y} + u_{y}\\right)\\,{d u_{y}}} $"
   ]
  },
  {
   "cell_type": "markdown",
   "metadata": {},
   "source": [
    "and"
   ]
  },
  {
   "cell_type": "markdown",
   "metadata": {},
   "source": [
    "$\\int_{0}^{b_{x}} F\\left(x, y\\right)\\,{d x} =  \\sum\\limits_{x=0}^{b_{x}}{F\\left(x, y\\right)} -\\frac{1}{2} \\, F\\left(0, y\\right) + \\frac{1}{12} \\, \\frac{\\partial}{\\partial n_{x}}F\\left(0, y\\right) +\\frac{1}{12} \\, {\\sum_{j_{x}=n_{x}}^{b_{x} - 1} \\int_{0}^{1} 6 \\, u_{x}^{2} \\mathrm{D}_{0, 0}\\left(F\\right)\\left(j_{x} + u_{x}, y\\right) - 6 \\, u_{x} \\mathrm{D}_{0, 0}\\left(F\\right)\\left(j_{x} + u_{x}, y\\right) + \\mathrm{D}_{0, 0}\\left(F\\right)\\left(j_{x} + u_{x}, y\\right)\\,{d u_{x}}} $"
   ]
  },
  {
   "cell_type": "markdown",
   "metadata": {},
   "source": [
    "$\\int_{0}^{b_{x}} F\\left(x, y\\right)\\,{d x} =  \\sum\\limits_{x=(0)1}^{b_{x}}{F\\left(x, y\\right)} + \\frac{1}{12} \\, \\frac{\\partial}{\\partial n_{x}}F\\left(0, y\\right) +\\frac{1}{12} \\, {\\sum_{j_{x}=n_{x}}^{b_{x} - 1} \\int_{0}^{1} 6 \\, u_{x}^{2} \\mathrm{D}_{0, 0}\\left(F\\right)\\left(j_{x} + u_{x}, y\\right) - 6 \\, u_{x} \\mathrm{D}_{0, 0}\\left(F\\right)\\left(j_{x} + u_{x}, y\\right) + \\mathrm{D}_{0, 0}\\left(F\\right)\\left(j_{x} + u_{x}, y\\right)\\,{d u_{x}}} $"
   ]
  },
  {
   "cell_type": "markdown",
   "metadata": {},
   "source": [
    "Assuming that:"
   ]
  },
  {
   "cell_type": "markdown",
   "metadata": {},
   "source": [
    "$\\sum\\limits_{\\left(0\\right)\\,1}^{\\infty}\\sum\\limits_{\\left(0\\right)\\,1}^{\\infty}{F\\left(n_x, n_y\\right)}-\\int\\limits_{0}^{\\infty}\\int\\limits_{0}^{\\infty}{F\\left(n_x, n_y\\right)} = $\n",
    "$\\sum\\limits_{0}^{\\infty}\\sum\\limits_{0}^{\\infty}{F\\left(n_x, n_y\\right)} -\\int_{0}^{b_{y}} \\int_{0}^{b_{x}} F\\left(x, y\\right)\\,{d x}\\,{d y} $\n",
    "$-\\frac{1}{2} \\sum\\limits_{x=(0)1}^{b_{x}}{F\\left(x, y\\right)}-\\frac{1}{2} \\sum\\limits_{y=(0)1}^{b_{y}}{F\\left(x, y\\right)}-\\frac{1}{4} \\, F\\left(n_{x}, n_{y}\\right) =$"
   ]
  },
  {
   "cell_type": "markdown",
   "metadata": {},
   "source": [
    "we have"
   ]
  },
  {
   "cell_type": "markdown",
   "metadata": {},
   "source": [
    "int_sum= $- \\frac{1}{12} \\, \\int_{n_{y}}^{b_{y}} \\frac{\\partial}{\\partial n_{x}}F\\left(n_{x}, y\\right)\\,{d y}$\n",
    "\n",
    "int_R_p= $-\\frac{1}{12} \\, \\int_{n_{y}}^{b_{y}} {\\sum_{j_{x}=n_{x}}^{b_{x} - 1} \\int_{0}^{1} 6 \\, u_{x}^{2} \\mathrm{D}_{0, 0}\\left(F\\right)\\left(j_{x} + u_{x}, y\\right) - 6 \\, u_{x} \\mathrm{D}_{0, 0}\\left(F\\right)\\left(j_{x} + u_{x}, y\\right) + \\mathrm{D}_{0, 0}\\left(F\\right)\\left(j_{x} + u_{x}, y\\right)\\,{d u_{x}}}\\,{d y}$\n",
    "\n",
    "sum_int= $ - \\frac{1}{12} \\, \\int_{n_{x}}^{b_{x}} \\frac{\\partial}{\\partial n_{y}}F\\left(x, n_{y}\\right)\\,{d x}$\n",
    "\n",
    "sum_sum= $ + \\frac{1}{144} \\, \\frac{\\partial^{2}}{\\partial n_{x}\\partial n_{y}}F\\left(n_{x}, n_{y}\\right)$\n",
    "\n",
    "-0.5 x_R_p=$ \\frac{1}{24} \\, {\\sum_{j_{x}=n_{x}}^{b_{x} - 1} \\int_{0}^{1} 6 \\, u_{x}^{2} \\mathrm{D}_{0, 0}\\left(F\\right)\\left(j_{x} + u_{x}, y\\right) - 6 \\, u_{x} \\mathrm{D}_{0, 0}\\left(F\\right)\\left(j_{x} + u_{x}, y\\right) + \\mathrm{D}_{0, 0}\\left(F\\right)\\left(j_{x} + u_{x}, y\\right)\\,{d u_{x}}} $\n",
    "\n",
    "-0.5 y_R_p=$ \\frac{1}{24} \\, {\\sum_{j_{y}=n_{y}}^{b_{y} - 1} \\int_{0}^{1} 6 \\, u_{y}^{2} \\mathrm{D}_{1, 1}\\left(F\\right)\\left(x, j_{y} + u_{y}\\right) - 6 \\, u_{y} \\mathrm{D}_{1, 1}\\left(F\\right)\\left(x, j_{y} + u_{y}\\right) + \\mathrm{D}_{1, 1}\\left(F\\right)\\left(x, j_{y} + u_{y}\\right)\\,{d u_{y}}} $\n",
    "\n",
    "sum_R_p= $\\frac{1}{6} \\, {\\sum_{j_{x}=n_{x}}^{b_{x} - 1} \\int_{0}^{1} 6 \\, u_{x}^{2} \\mathrm{D}_{0, 0, 1}\\left(F\\right)\\left(j_{x} + u_{x}, n_{y}\\right) - 6 \\, u_{x} \\mathrm{D}_{0, 0, 1}\\left(F\\right)\\left(j_{x} + u_{x}, n_{y}\\right) + \\mathrm{D}_{0, 0, 1}\\left(F\\right)\\left(j_{x} + u_{x}, n_{y}\\right)\\,{d u_{x}}}$\n",
    "\n",
    "R_p_int= $-\\frac{1}{12} \\, {\\sum_{j_{y}=n_{y}}^{b_{y} - 1} \\int_{0}^{1} 6 \\, u_{y}^{2} \\int_{n_{x}}^{b_{x}} \\mathrm{D}_{1, 1}\\left(F\\right)\\left(x, j_{y} + u_{y}\\right)\\,{d x} - 6 \\, u_{y} \\int_{n_{x}}^{b_{x}} \\mathrm{D}_{1, 1}\\left(F\\right)\\left(x, j_{y} + u_{y}\\right)\\,{d x} + \\int_{n_{x}}^{b_{x}} \\mathrm{D}_{1, 1}\\left(F\\right)\\left(x, j_{y} + u_{y}\\right)\\,{d x}\\,{d u_{y}}}$\n",
    "\n",
    "R_p_sum= $\\frac{1}{144} \\, {\\sum_{j_{y}=n_{y}}^{b_{y} - 1} \\int_{0}^{1} 6 \\, u_{y}^{2} {\\left(\\mathrm{D}_{0, 1, 1}\\left(F\\right)\\left(n_{x}, j_{y} + u_{y}\\right) - 6 \\, \\mathrm{D}_{1, 1}\\left(F\\right)\\left(n_{x}, j_{y} + u_{y}\\right)\\right)} - 6 \\, u_{y} {\\left(\\mathrm{D}_{0, 1, 1}\\left(F\\right)\\left(n_{x}, j_{y} + u_{y}\\right) - 6 \\, \\mathrm{D}_{1, 1}\\left(F\\right)\\left(n_{x}, j_{y} + u_{y}\\right)\\right)} + \\mathrm{D}_{0, 1, 1}\\left(F\\right)\\left(n_{x}, j_{y} + u_{y}\\right) - 6 \\, \\mathrm{D}_{1, 1}\\left(F\\right)\\left(n_{x}, j_{y} + u_{y}\\right)\\,{d u_{y}}}$\n",
    "\n",
    "R_p_R_p= $-{\\sum_{j_{y}=n_{y}}^{b_{y} - 1} \\int_{0}^{1} -\\frac{1}{1728} \\, {\\left(\\int_{0}^{1} {\\left(6 \\, u_{x}^{2} - 6 \\, u_{x} + 1\\right)} \\mathrm{D}_{0, 0, 1}\\left(F\\right)\\left(j_{x} + u_{x}, j_{y} + u_{y}\\right)\\,{d u_{x}}^{2} \\mathrm{D}_{0, 0}{\\sum_{j_{x}=n_{x}}^{b_{x} - 1} \\frac{1}{12} \\, \\int_{0}^{1} {\\left(6 \\, u_{x}^{2} - 6 \\, u_{x} + 1\\right)} \\mathrm{D}_{0, 0}\\left(F\\right)\\left(j_{x} + u_{x}, j_{y} + u_{y}\\right)\\,{d u_{x}}} + 12 \\, \\int_{0}^{1} {\\left(6 \\, u_{x}^{2} - 6 \\, u_{x} + 1\\right)} \\mathrm{D}_{0, 0, 1, 1}\\left(F\\right)\\left(j_{x} + u_{x}, j_{y} + u_{y}\\right)\\,{d u_{x}} \\mathrm{D}_{0}{\\sum_{j_{x}=n_{x}}^{b_{x} - 1} \\frac{1}{12} \\, \\int_{0}^{1} {\\left(6 \\, u_{x}^{2} - 6 \\, u_{x} + 1\\right)} \\mathrm{D}_{0, 0}\\left(F\\right)\\left(j_{x} + u_{x}, j_{y} + u_{y}\\right)\\,{d u_{x}}}\\right)} {\\left(6 \\, u_{y}^{2} - 6 \\, u_{y} + 1\\right)}\\,{d u_{y}}}$"
   ]
  },
  {
   "cell_type": "markdown",
   "metadata": {},
   "source": [
    "$F\\left(n_x, n_y\\right) = \\int\\limits_{0}^{\\infty}{\\sqrt{n_x^2 + n_y^2+u^2}}f\\left(\\pi\\sqrt{n_x^2 + n_y^2+u^2}/\\left(a\\,k_m\\right)\\right)\\,d{u}$"
   ]
  },
  {
   "cell_type": "markdown",
   "metadata": {},
   "source": [
    "Introducing $w^2 = u^2 + n_x^2 + n_y^2$ we have "
   ]
  },
  {
   "cell_type": "markdown",
   "metadata": {},
   "source": [
    "$u = \\sqrt{w^2 - n_x^2 + n_y^2}$"
   ]
  },
  {
   "cell_type": "markdown",
   "metadata": {},
   "source": [
    "$du = \\frac{w {d w}}{\\sqrt{w^2 - (n_x^2 + n_y^2)}}$"
   ]
  },
  {
   "cell_type": "markdown",
   "metadata": {},
   "source": [
    "$F\\left(n_x, n_y\\right) = \\int\\limits_{n_x^2 + n_y^2}^{\\infty}\\frac{{w^2}f\\left(\\pi w/\\left(a\\,k_m\\right)\\right)}{\\sqrt{w^2 - (n_x^2 + n_y^2)}}\\,{d w}$"
   ]
  },
  {
   "cell_type": "code",
   "execution_count": 4,
   "metadata": {},
   "outputs": [],
   "source": [
    "from IPython.display import display, Math, Latex"
   ]
  },
  {
   "cell_type": "code",
   "execution_count": 5,
   "metadata": {},
   "outputs": [],
   "source": [
    "w = var(\"w\")\n",
    "assume(w, 'real')\n",
    "assume(w > 0)"
   ]
  },
  {
   "cell_type": "code",
   "execution_count": 6,
   "metadata": {},
   "outputs": [],
   "source": [
    "f = function('f')(var(\"k_km\"))"
   ]
  },
  {
   "cell_type": "code",
   "execution_count": 16,
   "metadata": {},
   "outputs": [],
   "source": [
    "a = var(\"a\")\n",
    "assume(a, 'real')\n",
    "assume(a > 0)\n",
    "\n",
    "n_x = var(\"n_x\")\n",
    "assume(n_x, \"real\")\n",
    "assume(n_x > 0)\n",
    "\n",
    "n_y = var(\"n_y\")\n",
    "assume(n_y, \"real\")\n",
    "assume(n_y > 0)"
   ]
  },
  {
   "cell_type": "code",
   "execution_count": 17,
   "metadata": {},
   "outputs": [],
   "source": [
    "k_m = var(\"k_m\")\n",
    "assume(k_m, 'real')\n",
    "assume(k_m > 0)"
   ]
  },
  {
   "cell_type": "code",
   "execution_count": 18,
   "metadata": {},
   "outputs": [
    {
     "data": {
      "text/latex": [
       "$\\displaystyle \\frac{w^{2} f\\left(\\frac{\\pi w}{a k_{m}}\\right)}{\\sqrt{-n_{x}^{2} - n_{y}^{2} + w^{2}}}$"
      ],
      "text/plain": [
       "<IPython.core.display.Math object>"
      ]
     },
     "metadata": {},
     "output_type": "display_data"
    }
   ],
   "source": [
    "integrand_w = w^2*f(pi*w/(a*k_m))/(sqrt(w^2-n_x^2-n_y^2))\n",
    "display(Math(latex(integrand_w)))"
   ]
  },
  {
   "cell_type": "code",
   "execution_count": 19,
   "metadata": {},
   "outputs": [],
   "source": [
    "from sage.symbolic.integration.integral import definite_integral\n",
    "F(n_x, n_y) = definite_integral(integrand_w, w, n_y^2+n_x^2, Infinity)"
   ]
  },
  {
   "cell_type": "code",
   "execution_count": 20,
   "metadata": {},
   "outputs": [
    {
     "data": {
      "text/latex": [
       "$\\displaystyle \\int_{n_{x}^{2} + n_{y}^{2}}^{+\\infty} \\frac{w^{2} f\\left(\\frac{\\pi w}{a k_{m}}\\right)}{\\sqrt{-n_{x}^{2} - n_{y}^{2} + w^{2}}}\\,{d w}$"
      ],
      "text/plain": [
       "<IPython.core.display.Math object>"
      ]
     },
     "metadata": {},
     "output_type": "display_data"
    }
   ],
   "source": [
    "display(Math(latex(F(n_x, n_y))))"
   ]
  },
  {
   "cell_type": "code",
   "execution_count": 21,
   "metadata": {},
   "outputs": [],
   "source": [
    "def definite_integral_derivative(f, x, a, b, diff_param=None):\n",
    "    \"\"\"\n",
    "    Return the derivative of symbolic integration\n",
    "\n",
    "    EXAMPLES::\n",
    "\n",
    "        sage: from sage.symbolic.integration.integral import definite_integral\n",
    "        sage: f = function('f'); a,b=var('a,b')\n",
    "        sage: h = definite_integral(f(x), x,a,b)\n",
    "        sage: h.diff(x) # indirect doctest\n",
    "        0\n",
    "        sage: h.diff(a)\n",
    "        -f(a)\n",
    "        sage: h.diff(b)\n",
    "        f(b)\n",
    "    \"\"\"\n",
    "    if not x.has(diff_param):\n",
    "        # integration variable != differentiation variable\n",
    "        ans = definite_integral(f.diff(diff_param), x, a, b)\n",
    "    else:\n",
    "        ans = SR.zero()\n",
    "\n",
    "    if hasattr(b, 'diff'):\n",
    "        if b.diff(diff_param) != 0:\n",
    "            ans += f.subs(x == b) * b.diff(diff_param)\n",
    "    if hasattr(a, 'diff'):\n",
    "        if a.diff(diff_param) != 0:\n",
    "            ans -= f.subs(x == a) * a.diff(diff_param)\n",
    "\n",
    "    return ans"
   ]
  },
  {
   "cell_type": "code",
   "execution_count": 22,
   "metadata": {},
   "outputs": [
    {
     "data": {
      "text/latex": [
       "$\\displaystyle -\\frac{2 \\, {\\left(n_{x}^{2} + n_{y}^{2}\\right)}^{2} n_{x} f\\left(\\frac{\\pi {\\left(n_{x}^{2} + n_{y}^{2}\\right)}}{a k_{m}}\\right)}{\\sqrt{{\\left(n_{x}^{2} + n_{y}^{2}\\right)}^{2} - n_{x}^{2} - n_{y}^{2}}} + n_{x} \\int_{n_{x}^{2} + n_{y}^{2}}^{+\\infty} \\frac{w^{2} f\\left(\\frac{\\pi w}{a k_{m}}\\right)}{{\\left(-n_{x}^{2} - n_{y}^{2} + w^{2}\\right)}^{\\frac{3}{2}}}\\,{d w}$"
      ],
      "text/plain": [
       "<IPython.core.display.Math object>"
      ]
     },
     "metadata": {},
     "output_type": "display_data"
    }
   ],
   "source": [
    "dFdnx(n_x, n_y) = definite_integral_derivative(integrand_w, w, n_y^2+n_x^2, Infinity, n_x)\n",
    "display(Math(latex(dFdnx(n_x, n_y))))"
   ]
  },
  {
   "cell_type": "code",
   "execution_count": 27,
   "metadata": {},
   "outputs": [
    {
     "data": {
      "text/latex": [
       "$\\displaystyle -\\frac{2 \\, {\\left(n_{x}^{2} + n_{y}^{2}\\right)}^{2} n_{x} f\\left(\\frac{\\pi {\\left(n_{x}^{2} + n_{y}^{2}\\right)}}{a k_{m}}\\right)}{\\sqrt{{\\left(n_{x}^{2} + n_{y}^{2}\\right)}^{2} - n_{x}^{2} - n_{y}^{2}}} + \\int_{n_{x}^{2} + n_{y}^{2}}^{+\\infty} \\frac{n_{x} w^{2} f\\left(\\frac{\\pi w}{a k_{m}}\\right)}{{\\left(-n_{x}^{2} - n_{y}^{2} + w^{2}\\right)}^{\\frac{3}{2}}}\\,{d w}$"
      ],
      "text/plain": [
       "<IPython.core.display.Math object>"
      ]
     },
     "metadata": {},
     "output_type": "display_data"
    },
    {
     "data": {
      "text/latex": [
       "$\\displaystyle 0$"
      ],
      "text/plain": [
       "<IPython.core.display.Math object>"
      ]
     },
     "metadata": {},
     "output_type": "display_data"
    }
   ],
   "source": [
    "dFdnx(n_x, n_y) = F(n_x, n_y).diff(n_x)\n",
    "display(Math(latex(dFdnx(n_x, n_y))))\n",
    "display(Math(latex(dFdnx(n_x, n_y).subs(n_x == 0))))"
   ]
  },
  {
   "cell_type": "code",
   "execution_count": 28,
   "metadata": {},
   "outputs": [
    {
     "data": {
      "text/latex": [
       "$\\displaystyle \\frac{2 \\, {\\left(n_{x}^{2} + n_{y}^{2}\\right)}^{2} {\\left(2 \\, {\\left(n_{x}^{2} + n_{y}^{2}\\right)} n_{y} - n_{y}\\right)} n_{x} f\\left(\\frac{\\pi {\\left(n_{x}^{2} + n_{y}^{2}\\right)}}{a k_{m}}\\right)}{{\\left({\\left(n_{x}^{2} + n_{y}^{2}\\right)}^{2} - n_{x}^{2} - n_{y}^{2}\\right)}^{\\frac{3}{2}}} - \\frac{8 \\, {\\left(n_{x}^{2} + n_{y}^{2}\\right)} n_{x} n_{y} f\\left(\\frac{\\pi {\\left(n_{x}^{2} + n_{y}^{2}\\right)}}{a k_{m}}\\right)}{\\sqrt{{\\left(n_{x}^{2} + n_{y}^{2}\\right)}^{2} - n_{x}^{2} - n_{y}^{2}}} - \\frac{2 \\, {\\left(n_{x}^{2} + n_{y}^{2}\\right)}^{2} n_{x} n_{y} f\\left(\\frac{\\pi {\\left(n_{x}^{2} + n_{y}^{2}\\right)}}{a k_{m}}\\right)}{{\\left({\\left(n_{x}^{2} + n_{y}^{2}\\right)}^{2} - n_{x}^{2} - n_{y}^{2}\\right)}^{\\frac{3}{2}}} - \\frac{4 \\, \\pi {\\left(n_{x}^{2} + n_{y}^{2}\\right)}^{2} n_{x} n_{y} \\mathrm{D}_{0}\\left(f\\right)\\left(\\frac{\\pi {\\left(n_{x}^{2} + n_{y}^{2}\\right)}}{a k_{m}}\\right)}{\\sqrt{{\\left(n_{x}^{2} + n_{y}^{2}\\right)}^{2} - n_{x}^{2} - n_{y}^{2}} a k_{m}} + \\int_{n_{x}^{2} + n_{y}^{2}}^{+\\infty} \\frac{3 \\, n_{x} n_{y} w^{2} f\\left(\\frac{\\pi w}{a k_{m}}\\right)}{{\\left(-n_{x}^{2} - n_{y}^{2} + w^{2}\\right)}^{\\frac{5}{2}}}\\,{d w}$"
      ],
      "text/plain": [
       "<IPython.core.display.Math object>"
      ]
     },
     "metadata": {},
     "output_type": "display_data"
    },
    {
     "data": {
      "text/latex": [
       "$\\displaystyle 0$"
      ],
      "text/plain": [
       "<IPython.core.display.Math object>"
      ]
     },
     "metadata": {},
     "output_type": "display_data"
    }
   ],
   "source": [
    "f.diff(symb,p)d2Fdnxdny = dFdnx(n_x, n_y).diff(n_y)\n",
    "display(Math(latex(d2Fdnxdny)))\n",
    "display(Math(latex(d2Fdnxdny.subs(n_x == 0))))"
   ]
  },
  {
   "cell_type": "code",
   "execution_count": 29,
   "metadata": {},
   "outputs": [
    {
     "data": {
      "text/latex": [
       "$\\displaystyle \\int_{0}^{+\\infty} -\\frac{2 \\, n_{x}^{5} f\\left(\\frac{\\pi n_{x}^{2}}{a k_{m}} + \\frac{\\pi n_{y}^{2}}{a k_{m}}\\right) + 4 \\, n_{x}^{3} n_{y}^{2} f\\left(\\frac{\\pi n_{x}^{2}}{a k_{m}} + \\frac{\\pi n_{y}^{2}}{a k_{m}}\\right) + 2 \\, n_{x} n_{y}^{4} f\\left(\\frac{\\pi n_{x}^{2}}{a k_{m}} + \\frac{\\pi n_{y}^{2}}{a k_{m}}\\right) + \\sqrt{n_{x}^{4} + 2 \\, n_{x}^{2} n_{y}^{2} + n_{y}^{4} - n_{x}^{2} - n_{y}^{2}} n_{x} \\int_{n_{x}^{2} + n_{y}^{2}}^{+\\infty} \\frac{w^{2} f\\left(\\frac{\\pi w}{a k_{m}}\\right)}{\\sqrt{-n_{x}^{2} - n_{y}^{2} + w^{2}} n_{x}^{2} + \\sqrt{-n_{x}^{2} - n_{y}^{2} + w^{2}} n_{y}^{2} - \\sqrt{-n_{x}^{2} - n_{y}^{2} + w^{2}} w^{2}}\\,{d w}}{\\sqrt{{\\left(n_{x}^{2} + n_{y}^{2}\\right)} {\\left(n_{x}^{2} + n_{y}^{2} - 1\\right)}}}\\,{d n_{y}}$"
      ],
      "text/plain": [
       "<IPython.core.display.Math object>"
      ]
     },
     "metadata": {},
     "output_type": "display_data"
    }
   ],
   "source": [
    "int_dFdnx = integrate(dFdnx(n_x, n_y), n_y, 0, Infinity)\n",
    "display(Math(latex(int_dFdnx)))"
   ]
  },
  {
   "cell_type": "code",
   "execution_count": 30,
   "metadata": {},
   "outputs": [
    {
     "data": {
      "text/latex": [
       "$\\displaystyle 0$"
      ],
      "text/plain": [
       "<IPython.core.display.Math object>"
      ]
     },
     "metadata": {},
     "output_type": "display_data"
    }
   ],
   "source": [
    "display(Math(latex(int_dFdnx.subs(n_x == 0))))"
   ]
  },
  {
   "cell_type": "markdown",
   "metadata": {},
   "source": [
    "$${\\displaystyle R_{p}=(-1)^{p+1}\\sum_{j=a}^{b-1} \\int _{0}^{1}f^{(p)}(v+j){\\frac {B_{p}(v)}{p!}}\\,dv.}$$"
   ]
  },
  {
   "cell_type": "code",
   "execution_count": 42,
   "metadata": {},
   "outputs": [
    {
     "data": {
      "text/latex": [
       "$\\displaystyle -\\frac{1}{12} \\, {\\sum_{j=0}^{+\\infty} \\int_{0}^{1} 6 \\, v^{2} \\mathrm{D}_{0, 0}\\left(f\\right)\\left(j + v, n_{y}\\right) - 6 \\, v \\mathrm{D}_{0, 0}\\left(f\\right)\\left(j + v, n_{y}\\right) + \\mathrm{D}_{0, 0}\\left(f\\right)\\left(j + v, n_{y}\\right)\\,{d v}}$"
      ],
      "text/plain": [
       "<IPython.core.display.Math object>"
      ]
     },
     "metadata": {},
     "output_type": "display_data"
    }
   ],
   "source": [
    "p = 2\n",
    "v, j = var(\"v, j\")\n",
    "f = function(\"f\")(n_x, n_y)\n",
    "display(Math(latex((-1)^(p+1)*sum(integrate(f(n_x, n_y).diff(n_x,p).subs(n_x == v+j) * bernoulli_polynomial(v,p)/factorial(p),v,0,1),j,0,Infinity))))"
   ]
  },
  {
   "cell_type": "code",
   "execution_count": 45,
   "metadata": {},
   "outputs": [
    {
     "data": {
      "text/latex": [
       "$\\displaystyle -\\int_{0}^{1} {\\sum_{j=0}^{+\\infty} \\frac{1}{12} \\, {\\left(6 \\, v^{2} - 6 \\, v + 1\\right)} \\mathrm{D}_{0, 0}\\left(f\\right)\\left(j + v, n_{y}\\right)}\\,{d v}$"
      ],
      "text/plain": [
       "<IPython.core.display.Math object>"
      ]
     },
     "metadata": {},
     "output_type": "display_data"
    }
   ],
   "source": [
    "display(Math(latex((-1)^(p+1)*integrate(sum(f(n_x, n_y).diff(n_x,p).subs(n_x == v+j) * bernoulli_polynomial(v,p)/factorial(p),j,0,Infinity,hold=True),v,0,1,hold=True))))"
   ]
  },
  {
   "cell_type": "markdown",
   "metadata": {},
   "source": [
    "int_R_p= $-\\frac{1}{12} \\, \\int_{n_{y}}^{b_{y}} {\\sum_{j_{x}=0}^{b_{x} - 1} \\int_{0}^{1} 6 \\, u_{x}^{2} \\mathrm{D}_{0, 0}\\left(F\\right)\\left(j_{x} + u_{x}, y\\right) - 6 \\, u_{x} \\mathrm{D}_{0, 0}\\left(F\\right)\\left(j_{x} + u_{x}, y\\right) + \\mathrm{D}_{0, 0}\\left(F\\right)\\left(j_{x} + u_{x}, y\\right)\\,{d u_{x}}}\\,{d y}$\n"
   ]
  },
  {
   "cell_type": "markdown",
   "metadata": {},
   "source": [
    "-0.5 x_R_p=$ \\frac{1}{24} \\, {\\sum_{j_{x}=n_{x}}^{b_{x} - 1} \\int_{0}^{1} 6 \\, u_{x}^{2} \\mathrm{D}_{0, 0}\\left(F\\right)\\left(j_{x} + u_{x}, y\\right) - 6 \\, u_{x} \\mathrm{D}_{0, 0}\\left(F\\right)\\left(j_{x} + u_{x}, y\\right) + \\mathrm{D}_{0, 0}\\left(F\\right)\\left(j_{x} + u_{x}, y\\right)\\,{d u_{x}}} $\n"
   ]
  },
  {
   "cell_type": "code",
   "execution_count": null,
   "metadata": {},
   "outputs": [],
   "source": []
  }
 ],
 "metadata": {
  "kernelspec": {
   "display_name": "SageMath 9.3",
   "language": "sage",
   "name": "sagemath"
  },
  "language_info": {
   "codemirror_mode": {
    "name": "ipython",
    "version": 3
   },
   "file_extension": ".py",
   "mimetype": "text/x-python",
   "name": "python",
   "nbconvert_exporter": "python",
   "pygments_lexer": "ipython3",
   "version": "3.9.2"
  }
 },
 "nbformat": 4,
 "nbformat_minor": 2
}
