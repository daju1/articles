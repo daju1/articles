{
 "cells": [
  {
   "cell_type": "code",
   "execution_count": 1,
   "metadata": {},
   "outputs": [],
   "source": [
    "%display latex"
   ]
  },
  {
   "cell_type": "code",
   "execution_count": 2,
   "metadata": {},
   "outputs": [],
   "source": [
    "from IPython.display import display, Math, Latex"
   ]
  },
  {
   "cell_type": "code",
   "execution_count": 3,
   "metadata": {},
   "outputs": [],
   "source": [
    "kappa = var(\"kappa\")\n",
    "\n",
    "z = var(\"z\")\n",
    "rh = var(\"rho\")\n",
    "ph = var(\"varphi\")\n",
    "\n",
    "c = var(\"c\")\n",
    "omega = var(\"omega\")\n",
    "\n",
    "h = var(\"h\")\n",
    "a = var(\"a\")"
   ]
  },
  {
   "cell_type": "code",
   "execution_count": 4,
   "metadata": {},
   "outputs": [],
   "source": [
    "n_layers = 2"
   ]
  },
  {
   "cell_type": "code",
   "execution_count": 5,
   "metadata": {},
   "outputs": [],
   "source": [
    "mu = []\n",
    "for i in range(n_layers):\n",
    "    exec(\"mu_\" + str(i) + \"= var('mu_\" + str(i) + \"')\")\n",
    "    exec(\"mu += [mu_\" + str(i) +\"]\")"
   ]
  },
  {
   "cell_type": "code",
   "execution_count": 6,
   "metadata": {},
   "outputs": [],
   "source": [
    "epsilon = []\n",
    "for i in range(n_layers):\n",
    "    exec(\"epsilon_\" + str(i) + \"= var('epsilon_\" + str(i) + \"')\")\n",
    "    exec(\"epsilon += [epsilon_\" + str(i) +\"]\")"
   ]
  },
  {
   "cell_type": "code",
   "execution_count": 7,
   "metadata": {},
   "outputs": [],
   "source": [
    "A_z = []\n",
    "for i in range(n_layers):\n",
    "    exec(\"A_z_\" + str(i) + \"= var('A_z_\" + str(i) + \"')\")\n",
    "    exec(\"A_z += [A_z_\" + str(i) +\"]\")"
   ]
  },
  {
   "cell_type": "code",
   "execution_count": 8,
   "metadata": {},
   "outputs": [],
   "source": [
    "A_r = []\n",
    "for i in range(n_layers):\n",
    "    exec(\"A_r_\" + str(i) + \"= var('A_r_\" + str(i) + \"')\")\n",
    "    exec(\"A_r += [A_r_\" + str(i) +\"]\")"
   ]
  },
  {
   "cell_type": "code",
   "execution_count": 9,
   "metadata": {},
   "outputs": [
    {
     "data": {
      "text/html": [
       "<html><script type=\"math/tex; mode=display\">\\newcommand{\\Bold}[1]{\\mathbf{#1}}\\left(\\left[A_{z_{0}}, A_{z_{1}}\\right], \\left[A_{r_{0}}, A_{r_{1}}\\right]\\right)</script></html>"
      ],
      "text/plain": [
       "([A_z_0, A_z_1], [A_r_0, A_r_1])"
      ]
     },
     "execution_count": 9,
     "metadata": {},
     "output_type": "execute_result"
    }
   ],
   "source": [
    "A_z,A_r"
   ]
  },
  {
   "cell_type": "code",
   "execution_count": 10,
   "metadata": {},
   "outputs": [],
   "source": [
    "B_z = []\n",
    "for i in range(n_layers):\n",
    "    exec(\"B_z_\" + str(i) + \"= var('B_z_\" + str(i) + \"')\")\n",
    "    exec(\"B_z += [B_z_\" + str(i) +\"]\")"
   ]
  },
  {
   "cell_type": "code",
   "execution_count": 11,
   "metadata": {},
   "outputs": [],
   "source": [
    "B_r = []\n",
    "for i in range(n_layers):\n",
    "    exec(\"B_r_\" + str(i) + \"= var('B_r_\" + str(i) + \"')\")\n",
    "    exec(\"B_r += [B_r_\" + str(i) +\"]\")"
   ]
  },
  {
   "cell_type": "code",
   "execution_count": 12,
   "metadata": {},
   "outputs": [
    {
     "data": {
      "text/html": [
       "<html><script type=\"math/tex; mode=display\">\\newcommand{\\Bold}[1]{\\mathbf{#1}}\\left(\\left[B_{z_{0}}, B_{z_{1}}\\right], \\left[B_{r_{0}}, B_{r_{1}}\\right]\\right)</script></html>"
      ],
      "text/plain": [
       "([B_z_0, B_z_1], [B_r_0, B_r_1])"
      ]
     },
     "execution_count": 12,
     "metadata": {},
     "output_type": "execute_result"
    }
   ],
   "source": [
    "B_z,B_r"
   ]
  },
  {
   "cell_type": "code",
   "execution_count": 13,
   "metadata": {},
   "outputs": [],
   "source": [
    "k = []\n",
    "for i in range(n_layers):\n",
    "    exec(\"k_\" + str(i) + \"= var('k_\" + str(i) + \"')\")\n",
    "    exec(\"k += [k_\" + str(i) +\"]\")"
   ]
  },
  {
   "cell_type": "code",
   "execution_count": 14,
   "metadata": {},
   "outputs": [
    {
     "data": {
      "text/latex": [
       "$$\\left[-k_{0}^{2} + \\frac{\\epsilon_{0} \\mu_{0} \\omega^{2}}{c^{2}} = \\kappa^{2}, -k_{1}^{2} + \\frac{\\epsilon_{1} \\mu_{1} \\omega^{2}}{c^{2}} = \\kappa^{2}\\right]$$"
      ],
      "text/plain": [
       "<IPython.core.display.Math object>"
      ]
     },
     "metadata": {},
     "output_type": "display_data"
    }
   ],
   "source": [
    "# исходя из вида дифференциальных уравнений для диэлектрика\n",
    "# записываем соотнощения для волнового вектора в виде уравнений\n",
    "eq_kappa = []\n",
    "for i in range(n_layers):\n",
    "    eq_kappa += [mu[i] * epsilon[i] * omega^2 / c^2 - k[i]^2 == kappa^2]\n",
    "\n",
    "display(Math(latex(eq_kappa)))"
   ]
  },
  {
   "cell_type": "code",
   "execution_count": 15,
   "metadata": {},
   "outputs": [],
   "source": [
    "E_r = []\n",
    "for i in range(n_layers):\n",
    "    exec(\"Erh_\" + str(i) + \" = function('E_r_\" + str(i) + \"', nargs=2)\")\n",
    "    exec(\"E_r += [Erh_\" + str(i) +\"]\")"
   ]
  },
  {
   "cell_type": "code",
   "execution_count": 16,
   "metadata": {},
   "outputs": [
    {
     "data": {
      "text/html": [
       "<html><script type=\"math/tex; mode=display\">\\newcommand{\\Bold}[1]{\\mathbf{#1}}E_{r_{0}}\\left(\\rho, \\varphi\\right)</script></html>"
      ],
      "text/plain": [
       "E_r_0(rho, varphi)"
      ]
     },
     "execution_count": 16,
     "metadata": {},
     "output_type": "execute_result"
    }
   ],
   "source": [
    "E_r[0](rh,ph)"
   ]
  },
  {
   "cell_type": "code",
   "execution_count": 17,
   "metadata": {},
   "outputs": [],
   "source": [
    "E_rh = []\n",
    "for i in range(n_layers):\n",
    "    E_rh += [lambda rh,ph,z, i=i: E_r[i](rh,ph)*(B_r[i]*sin(k[i]*z)+A_r[i]*cos(k[i]*z))]"
   ]
  },
  {
   "cell_type": "code",
   "execution_count": 18,
   "metadata": {},
   "outputs": [
    {
     "data": {
      "text/html": [
       "<html><script type=\"math/tex; mode=display\">\\newcommand{\\Bold}[1]{\\mathbf{#1}}{\\left(A_{r_{0}} \\cos\\left(k_{0} z\\right) + B_{r_{0}} \\sin\\left(k_{0} z\\right)\\right)} E_{r_{0}}\\left(\\rho, \\varphi\\right)</script></html>"
      ],
      "text/plain": [
       "(A_r_0*cos(k_0*z) + B_r_0*sin(k_0*z))*E_r_0(rho, varphi)"
      ]
     },
     "execution_count": 18,
     "metadata": {},
     "output_type": "execute_result"
    }
   ],
   "source": [
    "E_rh[0](rh,ph,z)"
   ]
  },
  {
   "cell_type": "code",
   "execution_count": 19,
   "metadata": {},
   "outputs": [
    {
     "data": {
      "text/html": [
       "<html><script type=\"math/tex; mode=display\">\\newcommand{\\Bold}[1]{\\mathbf{#1}}{\\left(A_{r_{1}} \\cos\\left(k_{1} z\\right) + B_{r_{1}} \\sin\\left(k_{1} z\\right)\\right)} E_{r_{1}}\\left(\\rho, \\varphi\\right)</script></html>"
      ],
      "text/plain": [
       "(A_r_1*cos(k_1*z) + B_r_1*sin(k_1*z))*E_r_1(rho, varphi)"
      ]
     },
     "execution_count": 19,
     "metadata": {},
     "output_type": "execute_result"
    }
   ],
   "source": [
    "E_rh[1](rh,ph,z)"
   ]
  },
  {
   "cell_type": "code",
   "execution_count": 20,
   "metadata": {},
   "outputs": [],
   "source": [
    "E_z = []\n",
    "for i in range(n_layers):\n",
    "    E_z += [lambda rh,ph,z, i=i: bessel_J(0,kappa*rh)*(B_z[i]*sin(k[i]*z)+A_z[i]*cos(k[i]*z))]"
   ]
  },
  {
   "cell_type": "code",
   "execution_count": 21,
   "metadata": {},
   "outputs": [
    {
     "data": {
      "text/html": [
       "<html><script type=\"math/tex; mode=display\">\\newcommand{\\Bold}[1]{\\mathbf{#1}}{\\left(A_{z_{0}} \\cos\\left(k_{0} z\\right) + B_{z_{0}} \\sin\\left(k_{0} z\\right)\\right)} J_{0}(\\kappa \\rho)</script></html>"
      ],
      "text/plain": [
       "(A_z_0*cos(k_0*z) + B_z_0*sin(k_0*z))*bessel_J(0, kappa*rho)"
      ]
     },
     "execution_count": 21,
     "metadata": {},
     "output_type": "execute_result"
    }
   ],
   "source": [
    "E_z[0](rh,ph,z)"
   ]
  },
  {
   "cell_type": "code",
   "execution_count": 22,
   "metadata": {
    "scrolled": true
   },
   "outputs": [
    {
     "data": {
      "text/html": [
       "<html><script type=\"math/tex; mode=display\">\\newcommand{\\Bold}[1]{\\mathbf{#1}}{\\left(A_{z_{1}} \\cos\\left(k_{1} z\\right) + B_{z_{1}} \\sin\\left(k_{1} z\\right)\\right)} J_{0}(\\kappa \\rho)</script></html>"
      ],
      "text/plain": [
       "(A_z_1*cos(k_1*z) + B_z_1*sin(k_1*z))*bessel_J(0, kappa*rho)"
      ]
     },
     "execution_count": 22,
     "metadata": {},
     "output_type": "execute_result"
    }
   ],
   "source": [
    "E_z[1](rh,ph,z)"
   ]
  },
  {
   "cell_type": "code",
   "execution_count": 23,
   "metadata": {},
   "outputs": [],
   "source": [
    "rotE_ph =[]\n",
    "for i in range(n_layers):\n",
    "    exec(preparse(\"rotE_ph += [lambda rh,ph,z, i=i: \" + str(E_rh[i](rh,ph,z).diff(z)-E_z[i](rh,ph,z).diff(rh)) +\"]\"))"
   ]
  },
  {
   "cell_type": "code",
   "execution_count": 24,
   "metadata": {
    "scrolled": true
   },
   "outputs": [
    {
     "data": {
      "text/html": [
       "<html><script type=\"math/tex; mode=display\">\\newcommand{\\Bold}[1]{\\mathbf{#1}}\\frac{1}{2} \\, {\\left(A_{z_{0}} \\cos\\left(k_{0} z\\right) + B_{z_{0}} \\sin\\left(k_{0} z\\right)\\right)} \\kappa {\\left(J_{1}(\\kappa \\rho) - J_{-1}(\\kappa \\rho)\\right)} + {\\left(B_{r_{0}} k_{0} \\cos\\left(k_{0} z\\right) - A_{r_{0}} k_{0} \\sin\\left(k_{0} z\\right)\\right)} E_{r_{0}}\\left(\\rho, \\varphi\\right)</script></html>"
      ],
      "text/plain": [
       "1/2*(A_z_0*cos(k_0*z) + B_z_0*sin(k_0*z))*kappa*(bessel_J(1, kappa*rho) - bessel_J(-1, kappa*rho)) + (B_r_0*k_0*cos(k_0*z) - A_r_0*k_0*sin(k_0*z))*E_r_0(rho, varphi)"
      ]
     },
     "execution_count": 24,
     "metadata": {},
     "output_type": "execute_result"
    }
   ],
   "source": [
    "rotE_ph[0](rh,ph,z)"
   ]
  },
  {
   "cell_type": "code",
   "execution_count": 25,
   "metadata": {},
   "outputs": [
    {
     "data": {
      "text/html": [
       "<html><script type=\"math/tex; mode=display\">\\newcommand{\\Bold}[1]{\\mathbf{#1}}\\frac{1}{2} \\, {\\left(A_{z_{1}} \\cos\\left(k_{1} z\\right) + B_{z_{1}} \\sin\\left(k_{1} z\\right)\\right)} \\kappa {\\left(J_{1}(\\kappa \\rho) - J_{-1}(\\kappa \\rho)\\right)} + {\\left(B_{r_{1}} k_{1} \\cos\\left(k_{1} z\\right) - A_{r_{1}} k_{1} \\sin\\left(k_{1} z\\right)\\right)} E_{r_{1}}\\left(\\rho, \\varphi\\right)</script></html>"
      ],
      "text/plain": [
       "1/2*(A_z_1*cos(k_1*z) + B_z_1*sin(k_1*z))*kappa*(bessel_J(1, kappa*rho) - bessel_J(-1, kappa*rho)) + (B_r_1*k_1*cos(k_1*z) - A_r_1*k_1*sin(k_1*z))*E_r_1(rho, varphi)"
      ]
     },
     "execution_count": 25,
     "metadata": {},
     "output_type": "execute_result"
    }
   ],
   "source": [
    "rotE_ph[1](rh,ph,z)"
   ]
  },
  {
   "cell_type": "code",
   "execution_count": 26,
   "metadata": {},
   "outputs": [],
   "source": [
    "H_ph = []\n",
    "for i in range(n_layers):\n",
    "    H_ph += [lambda rh,ph,z, i=i : rotE_ph[i](rh,ph,z)*c/(I*omega *mu[i])]"
   ]
  },
  {
   "cell_type": "code",
   "execution_count": 27,
   "metadata": {
    "scrolled": true
   },
   "outputs": [
    {
     "data": {
      "text/html": [
       "<html><script type=\"math/tex; mode=display\">\\newcommand{\\Bold}[1]{\\mathbf{#1}}-\\frac{i \\, {\\left({\\left(A_{z_{0}} \\cos\\left(k_{0} z\\right) + B_{z_{0}} \\sin\\left(k_{0} z\\right)\\right)} \\kappa {\\left(J_{1}(\\kappa \\rho) - J_{-1}(\\kappa \\rho)\\right)} + 2 \\, {\\left(B_{r_{0}} k_{0} \\cos\\left(k_{0} z\\right) - A_{r_{0}} k_{0} \\sin\\left(k_{0} z\\right)\\right)} E_{r_{0}}\\left(\\rho, \\varphi\\right)\\right)} c}{2 \\, \\mu_{0} \\omega}</script></html>"
      ],
      "text/plain": [
       "-1/2*I*((A_z_0*cos(k_0*z) + B_z_0*sin(k_0*z))*kappa*(bessel_J(1, kappa*rho) - bessel_J(-1, kappa*rho)) + 2*(B_r_0*k_0*cos(k_0*z) - A_r_0*k_0*sin(k_0*z))*E_r_0(rho, varphi))*c/(mu_0*omega)"
      ]
     },
     "execution_count": 27,
     "metadata": {},
     "output_type": "execute_result"
    }
   ],
   "source": [
    "H_ph[0](rh,ph,z)"
   ]
  },
  {
   "cell_type": "code",
   "execution_count": 28,
   "metadata": {},
   "outputs": [
    {
     "data": {
      "text/html": [
       "<html><script type=\"math/tex; mode=display\">\\newcommand{\\Bold}[1]{\\mathbf{#1}}-\\frac{i \\, {\\left({\\left(A_{z_{1}} \\cos\\left(k_{1} z\\right) + B_{z_{1}} \\sin\\left(k_{1} z\\right)\\right)} \\kappa {\\left(J_{1}(\\kappa \\rho) - J_{-1}(\\kappa \\rho)\\right)} + 2 \\, {\\left(B_{r_{1}} k_{1} \\cos\\left(k_{1} z\\right) - A_{r_{1}} k_{1} \\sin\\left(k_{1} z\\right)\\right)} E_{r_{1}}\\left(\\rho, \\varphi\\right)\\right)} c}{2 \\, \\mu_{1} \\omega}</script></html>"
      ],
      "text/plain": [
       "-1/2*I*((A_z_1*cos(k_1*z) + B_z_1*sin(k_1*z))*kappa*(bessel_J(1, kappa*rho) - bessel_J(-1, kappa*rho)) + 2*(B_r_1*k_1*cos(k_1*z) - A_r_1*k_1*sin(k_1*z))*E_r_1(rho, varphi))*c/(mu_1*omega)"
      ]
     },
     "execution_count": 28,
     "metadata": {},
     "output_type": "execute_result"
    }
   ],
   "source": [
    "H_ph[1](rh,ph,z)"
   ]
  },
  {
   "cell_type": "code",
   "execution_count": 29,
   "metadata": {},
   "outputs": [],
   "source": [
    "rotH_rh = []\n",
    "for i in range(n_layers):\n",
    "    exec(preparse(\"rotH_rh += [lambda rh,ph,z, i=i : \" + str(- H_ph[i](rh,ph,z).diff(z)) + \"]\"))"
   ]
  },
  {
   "cell_type": "code",
   "execution_count": 30,
   "metadata": {},
   "outputs": [
    {
     "data": {
      "text/html": [
       "<html><script type=\"math/tex; mode=display\">\\newcommand{\\Bold}[1]{\\mathbf{#1}}-\\frac{{\\left(-i \\, {\\left(B_{z_{0}} k_{0} \\cos\\left(k_{0} z\\right) - A_{z_{0}} k_{0} \\sin\\left(k_{0} z\\right)\\right)} \\kappa {\\left(J_{1}(\\kappa \\rho) - J_{-1}(\\kappa \\rho)\\right)} + 2 i \\, {\\left(A_{r_{0}} k_{0}^{2} \\cos\\left(k_{0} z\\right) + B_{r_{0}} k_{0}^{2} \\sin\\left(k_{0} z\\right)\\right)} E_{r_{0}}\\left(\\rho, \\varphi\\right)\\right)} c}{2 \\, \\mu_{0} \\omega}</script></html>"
      ],
      "text/plain": [
       "-1/2*(-I*(B_z_0*k_0*cos(k_0*z) - A_z_0*k_0*sin(k_0*z))*kappa*(bessel_J(1, kappa*rho) - bessel_J(-1, kappa*rho)) + 2*I*(A_r_0*k_0^2*cos(k_0*z) + B_r_0*k_0^2*sin(k_0*z))*E_r_0(rho, varphi))*c/(mu_0*omega)"
      ]
     },
     "execution_count": 30,
     "metadata": {},
     "output_type": "execute_result"
    }
   ],
   "source": [
    "rotH_rh[0](rh,ph,z)"
   ]
  },
  {
   "cell_type": "code",
   "execution_count": 31,
   "metadata": {},
   "outputs": [
    {
     "data": {
      "text/html": [
       "<html><script type=\"math/tex; mode=display\">\\newcommand{\\Bold}[1]{\\mathbf{#1}}-\\frac{{\\left(-i \\, {\\left(B_{z_{1}} k_{1} \\cos\\left(k_{1} z\\right) - A_{z_{1}} k_{1} \\sin\\left(k_{1} z\\right)\\right)} \\kappa {\\left(J_{1}(\\kappa \\rho) - J_{-1}(\\kappa \\rho)\\right)} + 2 i \\, {\\left(A_{r_{1}} k_{1}^{2} \\cos\\left(k_{1} z\\right) + B_{r_{1}} k_{1}^{2} \\sin\\left(k_{1} z\\right)\\right)} E_{r_{1}}\\left(\\rho, \\varphi\\right)\\right)} c}{2 \\, \\mu_{1} \\omega}</script></html>"
      ],
      "text/plain": [
       "-1/2*(-I*(B_z_1*k_1*cos(k_1*z) - A_z_1*k_1*sin(k_1*z))*kappa*(bessel_J(1, kappa*rho) - bessel_J(-1, kappa*rho)) + 2*I*(A_r_1*k_1^2*cos(k_1*z) + B_r_1*k_1^2*sin(k_1*z))*E_r_1(rho, varphi))*c/(mu_1*omega)"
      ]
     },
     "execution_count": 31,
     "metadata": {},
     "output_type": "execute_result"
    }
   ],
   "source": [
    "rotH_rh[1](rh,ph,z)"
   ]
  },
  {
   "cell_type": "code",
   "execution_count": 32,
   "metadata": {},
   "outputs": [],
   "source": [
    "eqE_rh = []\n",
    "for i in range(n_layers):\n",
    "    eqE_rh += [rotH_rh[i](rh,ph,z) == -I * omega / c * epsilon[i] * E_rh[i](rh,ph,z) ]"
   ]
  },
  {
   "cell_type": "code",
   "execution_count": 33,
   "metadata": {},
   "outputs": [
    {
     "data": {
      "text/html": [
       "<html><script type=\"math/tex; mode=display\">\\newcommand{\\Bold}[1]{\\mathbf{#1}}-\\frac{{\\left(-i \\, {\\left(B_{z_{0}} k_{0} \\cos\\left(k_{0} z\\right) - A_{z_{0}} k_{0} \\sin\\left(k_{0} z\\right)\\right)} \\kappa {\\left(J_{1}(\\kappa \\rho) - J_{-1}(\\kappa \\rho)\\right)} + 2 i \\, {\\left(A_{r_{0}} k_{0}^{2} \\cos\\left(k_{0} z\\right) + B_{r_{0}} k_{0}^{2} \\sin\\left(k_{0} z\\right)\\right)} E_{r_{0}}\\left(\\rho, \\varphi\\right)\\right)} c}{2 \\, \\mu_{0} \\omega} = -\\frac{i \\, {\\left(A_{r_{0}} \\cos\\left(k_{0} z\\right) + B_{r_{0}} \\sin\\left(k_{0} z\\right)\\right)} \\epsilon_{0} \\omega E_{r_{0}}\\left(\\rho, \\varphi\\right)}{c}</script></html>"
      ],
      "text/plain": [
       "-1/2*(-I*(B_z_0*k_0*cos(k_0*z) - A_z_0*k_0*sin(k_0*z))*kappa*(bessel_J(1, kappa*rho) - bessel_J(-1, kappa*rho)) + 2*I*(A_r_0*k_0^2*cos(k_0*z) + B_r_0*k_0^2*sin(k_0*z))*E_r_0(rho, varphi))*c/(mu_0*omega) == -I*(A_r_0*cos(k_0*z) + B_r_0*sin(k_0*z))*epsilon_0*omega*E_r_0(rho, varphi)/c"
      ]
     },
     "execution_count": 33,
     "metadata": {},
     "output_type": "execute_result"
    }
   ],
   "source": [
    "eqE_rh[0]"
   ]
  },
  {
   "cell_type": "code",
   "execution_count": 34,
   "metadata": {},
   "outputs": [
    {
     "data": {
      "text/html": [
       "<html><script type=\"math/tex; mode=display\">\\newcommand{\\Bold}[1]{\\mathbf{#1}}-\\frac{{\\left(-i \\, {\\left(B_{z_{1}} k_{1} \\cos\\left(k_{1} z\\right) - A_{z_{1}} k_{1} \\sin\\left(k_{1} z\\right)\\right)} \\kappa {\\left(J_{1}(\\kappa \\rho) - J_{-1}(\\kappa \\rho)\\right)} + 2 i \\, {\\left(A_{r_{1}} k_{1}^{2} \\cos\\left(k_{1} z\\right) + B_{r_{1}} k_{1}^{2} \\sin\\left(k_{1} z\\right)\\right)} E_{r_{1}}\\left(\\rho, \\varphi\\right)\\right)} c}{2 \\, \\mu_{1} \\omega} = -\\frac{i \\, {\\left(A_{r_{1}} \\cos\\left(k_{1} z\\right) + B_{r_{1}} \\sin\\left(k_{1} z\\right)\\right)} \\epsilon_{1} \\omega E_{r_{1}}\\left(\\rho, \\varphi\\right)}{c}</script></html>"
      ],
      "text/plain": [
       "-1/2*(-I*(B_z_1*k_1*cos(k_1*z) - A_z_1*k_1*sin(k_1*z))*kappa*(bessel_J(1, kappa*rho) - bessel_J(-1, kappa*rho)) + 2*I*(A_r_1*k_1^2*cos(k_1*z) + B_r_1*k_1^2*sin(k_1*z))*E_r_1(rho, varphi))*c/(mu_1*omega) == -I*(A_r_1*cos(k_1*z) + B_r_1*sin(k_1*z))*epsilon_1*omega*E_r_1(rho, varphi)/c"
      ]
     },
     "execution_count": 34,
     "metadata": {},
     "output_type": "execute_result"
    }
   ],
   "source": [
    "eqE_rh[1]"
   ]
  },
  {
   "cell_type": "code",
   "execution_count": 35,
   "metadata": {},
   "outputs": [],
   "source": [
    "E_rs = []\n",
    "for i in range(n_layers):\n",
    "    exec(preparse(\"E_rs += [lambda rh,ph,i=i : \" + str(solve(eqE_rh[i], E_r[i](rh,ph))[0].rhs()) +\"]\"))"
   ]
  },
  {
   "cell_type": "code",
   "execution_count": 36,
   "metadata": {
    "scrolled": true
   },
   "outputs": [
    {
     "data": {
      "text/html": [
       "<html><script type=\"math/tex; mode=display\">\\newcommand{\\Bold}[1]{\\mathbf{#1}}\\frac{B_{z_{0}} c^{2} k_{0} \\kappa J_{1}(\\kappa \\rho) \\cos\\left(k_{0} z\\right) - A_{z_{0}} c^{2} k_{0} \\kappa J_{1}(\\kappa \\rho) \\sin\\left(k_{0} z\\right)}{{\\left(A_{r_{0}} c^{2} k_{0}^{2} - A_{r_{0}} \\epsilon_{0} \\mu_{0} \\omega^{2}\\right)} \\cos\\left(k_{0} z\\right) + {\\left(B_{r_{0}} c^{2} k_{0}^{2} - B_{r_{0}} \\epsilon_{0} \\mu_{0} \\omega^{2}\\right)} \\sin\\left(k_{0} z\\right)}</script></html>"
      ],
      "text/plain": [
       "(B_z_0*c^2*k_0*kappa*bessel_J(1, kappa*rho)*cos(k_0*z) - A_z_0*c^2*k_0*kappa*bessel_J(1, kappa*rho)*sin(k_0*z))/((A_r_0*c^2*k_0^2 - A_r_0*epsilon_0*mu_0*omega^2)*cos(k_0*z) + (B_r_0*c^2*k_0^2 - B_r_0*epsilon_0*mu_0*omega^2)*sin(k_0*z))"
      ]
     },
     "execution_count": 36,
     "metadata": {},
     "output_type": "execute_result"
    }
   ],
   "source": [
    "E_rs[0](rh,ph)"
   ]
  },
  {
   "cell_type": "code",
   "execution_count": 37,
   "metadata": {},
   "outputs": [
    {
     "data": {
      "text/html": [
       "<html><script type=\"math/tex; mode=display\">\\newcommand{\\Bold}[1]{\\mathbf{#1}}\\frac{B_{z_{1}} c^{2} k_{1} \\kappa J_{1}(\\kappa \\rho) \\cos\\left(k_{1} z\\right) - A_{z_{1}} c^{2} k_{1} \\kappa J_{1}(\\kappa \\rho) \\sin\\left(k_{1} z\\right)}{{\\left(A_{r_{1}} c^{2} k_{1}^{2} - A_{r_{1}} \\epsilon_{1} \\mu_{1} \\omega^{2}\\right)} \\cos\\left(k_{1} z\\right) + {\\left(B_{r_{1}} c^{2} k_{1}^{2} - B_{r_{1}} \\epsilon_{1} \\mu_{1} \\omega^{2}\\right)} \\sin\\left(k_{1} z\\right)}</script></html>"
      ],
      "text/plain": [
       "(B_z_1*c^2*k_1*kappa*bessel_J(1, kappa*rho)*cos(k_1*z) - A_z_1*c^2*k_1*kappa*bessel_J(1, kappa*rho)*sin(k_1*z))/((A_r_1*c^2*k_1^2 - A_r_1*epsilon_1*mu_1*omega^2)*cos(k_1*z) + (B_r_1*c^2*k_1^2 - B_r_1*epsilon_1*mu_1*omega^2)*sin(k_1*z))"
      ]
     },
     "execution_count": 37,
     "metadata": {},
     "output_type": "execute_result"
    }
   ],
   "source": [
    "E_rs[1](rh,ph)"
   ]
  },
  {
   "cell_type": "code",
   "execution_count": 38,
   "metadata": {},
   "outputs": [],
   "source": [
    "E_rs = []\n",
    "for i in range(n_layers):\n",
    "    exec(preparse(\"E_rs += [lambda rh,ph,i=i : \" + str(solve(eqE_rh[i], E_r[i](rh,ph))[0].rhs().subs(solve(eq_kappa[i],omega^2)).full_simplify()) +\"]\"))"
   ]
  },
  {
   "cell_type": "code",
   "execution_count": 39,
   "metadata": {},
   "outputs": [
    {
     "data": {
      "text/html": [
       "<html><script type=\"math/tex; mode=display\">\\newcommand{\\Bold}[1]{\\mathbf{#1}}-\\frac{B_{z_{0}} k_{0} J_{1}(\\kappa \\rho) \\cos\\left(k_{0} z\\right) - A_{z_{0}} k_{0} J_{1}(\\kappa \\rho) \\sin\\left(k_{0} z\\right)}{A_{r_{0}} \\kappa \\cos\\left(k_{0} z\\right) + B_{r_{0}} \\kappa \\sin\\left(k_{0} z\\right)}</script></html>"
      ],
      "text/plain": [
       "-(B_z_0*k_0*bessel_J(1, kappa*rho)*cos(k_0*z) - A_z_0*k_0*bessel_J(1, kappa*rho)*sin(k_0*z))/(A_r_0*kappa*cos(k_0*z) + B_r_0*kappa*sin(k_0*z))"
      ]
     },
     "execution_count": 39,
     "metadata": {},
     "output_type": "execute_result"
    }
   ],
   "source": [
    "E_rs[0](rh,ph)"
   ]
  },
  {
   "cell_type": "code",
   "execution_count": 40,
   "metadata": {
    "scrolled": true
   },
   "outputs": [
    {
     "data": {
      "text/html": [
       "<html><script type=\"math/tex; mode=display\">\\newcommand{\\Bold}[1]{\\mathbf{#1}}-\\frac{B_{z_{1}} k_{1} J_{1}(\\kappa \\rho) \\cos\\left(k_{1} z\\right) - A_{z_{1}} k_{1} J_{1}(\\kappa \\rho) \\sin\\left(k_{1} z\\right)}{A_{r_{1}} \\kappa \\cos\\left(k_{1} z\\right) + B_{r_{1}} \\kappa \\sin\\left(k_{1} z\\right)}</script></html>"
      ],
      "text/plain": [
       "-(B_z_1*k_1*bessel_J(1, kappa*rho)*cos(k_1*z) - A_z_1*k_1*bessel_J(1, kappa*rho)*sin(k_1*z))/(A_r_1*kappa*cos(k_1*z) + B_r_1*kappa*sin(k_1*z))"
      ]
     },
     "execution_count": 40,
     "metadata": {},
     "output_type": "execute_result"
    }
   ],
   "source": [
    "E_rs[1](rh,ph)"
   ]
  },
  {
   "cell_type": "code",
   "execution_count": null,
   "metadata": {},
   "outputs": [],
   "source": []
  },
  {
   "cell_type": "code",
   "execution_count": 41,
   "metadata": {},
   "outputs": [],
   "source": [
    "E_rhs = []\n",
    "for i in range(n_layers):\n",
    "    E_rhs += [lambda rh,ph,z, i=i: E_rs[i](rh,ph)*(B_r[i]*sin(k[i]*z)+A_r[i]*cos(k[i]*z))]"
   ]
  },
  {
   "cell_type": "code",
   "execution_count": 42,
   "metadata": {
    "scrolled": true
   },
   "outputs": [
    {
     "data": {
      "text/html": [
       "<html><script type=\"math/tex; mode=display\">\\newcommand{\\Bold}[1]{\\mathbf{#1}}-\\frac{{\\left(B_{z_{0}} k_{0} J_{1}(\\kappa \\rho) \\cos\\left(k_{0} z\\right) - A_{z_{0}} k_{0} J_{1}(\\kappa \\rho) \\sin\\left(k_{0} z\\right)\\right)} {\\left(A_{r_{0}} \\cos\\left(k_{0} z\\right) + B_{r_{0}} \\sin\\left(k_{0} z\\right)\\right)}}{A_{r_{0}} \\kappa \\cos\\left(k_{0} z\\right) + B_{r_{0}} \\kappa \\sin\\left(k_{0} z\\right)}</script></html>"
      ],
      "text/plain": [
       "-(B_z_0*k_0*bessel_J(1, kappa*rho)*cos(k_0*z) - A_z_0*k_0*bessel_J(1, kappa*rho)*sin(k_0*z))*(A_r_0*cos(k_0*z) + B_r_0*sin(k_0*z))/(A_r_0*kappa*cos(k_0*z) + B_r_0*kappa*sin(k_0*z))"
      ]
     },
     "execution_count": 42,
     "metadata": {},
     "output_type": "execute_result"
    }
   ],
   "source": [
    "E_rhs[0](rh,ph,z)"
   ]
  },
  {
   "cell_type": "code",
   "execution_count": 43,
   "metadata": {},
   "outputs": [
    {
     "data": {
      "text/html": [
       "<html><script type=\"math/tex; mode=display\">\\newcommand{\\Bold}[1]{\\mathbf{#1}}-\\frac{{\\left(B_{z_{1}} k_{1} J_{1}(\\kappa \\rho) \\cos\\left(k_{1} z\\right) - A_{z_{1}} k_{1} J_{1}(\\kappa \\rho) \\sin\\left(k_{1} z\\right)\\right)} {\\left(A_{r_{1}} \\cos\\left(k_{1} z\\right) + B_{r_{1}} \\sin\\left(k_{1} z\\right)\\right)}}{A_{r_{1}} \\kappa \\cos\\left(k_{1} z\\right) + B_{r_{1}} \\kappa \\sin\\left(k_{1} z\\right)}</script></html>"
      ],
      "text/plain": [
       "-(B_z_1*k_1*bessel_J(1, kappa*rho)*cos(k_1*z) - A_z_1*k_1*bessel_J(1, kappa*rho)*sin(k_1*z))*(A_r_1*cos(k_1*z) + B_r_1*sin(k_1*z))/(A_r_1*kappa*cos(k_1*z) + B_r_1*kappa*sin(k_1*z))"
      ]
     },
     "execution_count": 43,
     "metadata": {},
     "output_type": "execute_result"
    }
   ],
   "source": [
    "E_rhs[1](rh,ph,z)"
   ]
  },
  {
   "cell_type": "code",
   "execution_count": 44,
   "metadata": {},
   "outputs": [
    {
     "data": {
      "text/latex": [
       "$$\\left[-\\frac{{\\left(B_{z_{0}} k_{0} J_{1}(\\kappa \\rho) \\cos\\left(k_{0} z\\right) - A_{z_{0}} k_{0} J_{1}(\\kappa \\rho) \\sin\\left(k_{0} z\\right)\\right)} A_{r_{0}}}{A_{r_{0}} \\kappa \\cos\\left(k_{0} z\\right) + B_{r_{0}} \\kappa \\sin\\left(k_{0} z\\right)} = 0.000000000000000, -\\frac{{\\left(B_{z_{1}} k_{1} J_{1}(\\kappa \\rho) \\cos\\left(k_{1} z\\right) - A_{z_{1}} k_{1} J_{1}(\\kappa \\rho) \\sin\\left(k_{1} z\\right)\\right)} {\\left(A_{r_{1}} \\cos\\left(2 \\, h k_{1}\\right) + B_{r_{1}} \\sin\\left(2 \\, h k_{1}\\right)\\right)}}{A_{r_{1}} \\kappa \\cos\\left(k_{1} z\\right) + B_{r_{1}} \\kappa \\sin\\left(k_{1} z\\right)} = 0.000000000000000\\right]$$"
      ],
      "text/plain": [
       "<IPython.core.display.Math object>"
      ]
     },
     "metadata": {},
     "output_type": "display_data"
    },
    {
     "data": {
      "text/latex": [
       "$$\\left[A_{z_{0}} J_{0}(\\kappa \\rho) = 0.000000000000000, {\\left(A_{z_{1}} \\cos\\left(2 \\, h k_{1}\\right) + B_{z_{1}} \\sin\\left(2 \\, h k_{1}\\right)\\right)} J_{0}(\\kappa \\rho) = 0.000000000000000\\right]$$"
      ],
      "text/plain": [
       "<IPython.core.display.Math object>"
      ]
     },
     "metadata": {},
     "output_type": "display_data"
    },
    {
     "data": {
      "text/latex": [
       "$$A_{r_{0}} = 0$$"
      ],
      "text/plain": [
       "<IPython.core.display.Math object>"
      ]
     },
     "metadata": {},
     "output_type": "display_data"
    },
    {
     "data": {
      "text/latex": [
       "$$A_{r_{1}} = -\\frac{B_{r_{1}} \\sin\\left(2 \\, h k_{1}\\right)}{\\cos\\left(2 \\, h k_{1}\\right)}$$"
      ],
      "text/plain": [
       "<IPython.core.display.Math object>"
      ]
     },
     "metadata": {},
     "output_type": "display_data"
    },
    {
     "data": {
      "text/latex": [
       "$$A_{z_{0}} = 0$$"
      ],
      "text/plain": [
       "<IPython.core.display.Math object>"
      ]
     },
     "metadata": {},
     "output_type": "display_data"
    },
    {
     "data": {
      "text/latex": [
       "$$A_{z_{1}} = -\\frac{B_{z_{1}} \\sin\\left(2 \\, h k_{1}\\right)}{\\cos\\left(2 \\, h k_{1}\\right)}$$"
      ],
      "text/plain": [
       "<IPython.core.display.Math object>"
      ]
     },
     "metadata": {},
     "output_type": "display_data"
    },
    {
     "data": {
      "text/latex": [
       "$$\\left[A_{r_{0}} = 0, A_{r_{1}} = -\\frac{B_{r_{1}} \\sin\\left(2 \\, h k_{1}\\right)}{\\cos\\left(2 \\, h k_{1}\\right)}, A_{z_{0}} = 0, A_{z_{1}} = -\\frac{B_{z_{1}} \\sin\\left(2 \\, h k_{1}\\right)}{\\cos\\left(2 \\, h k_{1}\\right)}\\right]$$"
      ],
      "text/plain": [
       "<IPython.core.display.Math object>"
      ]
     },
     "metadata": {},
     "output_type": "display_data"
    }
   ],
   "source": [
    "# граничные условия\n",
    "# тангенциальная компонента электрического поля\n",
    "eq_Erh_superconductor_boundary_conditions = []\n",
    "eq_Erh_superconductor_boundary_conditions += [E_rhs[0](rh,ph,0) == 0.0]\n",
    "eq_Erh_superconductor_boundary_conditions += [E_rhs[n_layers - 1](rh,ph,h*n_layers) == 0.0]\n",
    "\n",
    "eq_Ez_superconductor_boundary_conditions = []\n",
    "eq_Ez_superconductor_boundary_conditions += [E_z[0](rh,ph,0) == 0.0]\n",
    "eq_Ez_superconductor_boundary_conditions += [E_z[n_layers - 1](rh,ph,h*n_layers) == 0.0]\n",
    "\n",
    "display(Math(latex(eq_Erh_superconductor_boundary_conditions)))\n",
    "display(Math(latex(eq_Ez_superconductor_boundary_conditions)))\n",
    "\n",
    "boundary_Erh_subs_begin = solve(eq_Erh_superconductor_boundary_conditions[0], A_r[0])[0]\n",
    "boundary_Erh_subs_end = solve(eq_Erh_superconductor_boundary_conditions[1], A_r[n_layers - 1])[0]\n",
    "\n",
    "boundary_Ez_subs_begin = solve(eq_Ez_superconductor_boundary_conditions[0], A_z[0])[0]\n",
    "boundary_Ez_subs_end = solve(eq_Ez_superconductor_boundary_conditions[1], A_z[n_layers - 1])[0]\n",
    "\n",
    "display(Math(latex(boundary_Erh_subs_begin)))\n",
    "display(Math(latex(boundary_Erh_subs_end)))\n",
    "\n",
    "display(Math(latex(boundary_Ez_subs_begin)))\n",
    "display(Math(latex(boundary_Ez_subs_end)))\n",
    "\n",
    "boundary_subs = [boundary_Erh_subs_begin, boundary_Erh_subs_end, boundary_Ez_subs_begin, boundary_Ez_subs_end]\n",
    "display(Math(latex(boundary_subs)))"
   ]
  },
  {
   "cell_type": "code",
   "execution_count": 45,
   "metadata": {},
   "outputs": [],
   "source": [
    "E_rho = []\n",
    "for i in range(n_layers):\n",
    "    E_rho += [ lambda rh, ph, z, i=i : E_rhs[i](rh,ph,z).subs(boundary_subs).full_simplify()]"
   ]
  },
  {
   "cell_type": "code",
   "execution_count": 46,
   "metadata": {},
   "outputs": [
    {
     "data": {
      "text/html": [
       "<html><script type=\"math/tex; mode=display\">\\newcommand{\\Bold}[1]{\\mathbf{#1}}-\\frac{B_{z_{0}} k_{0} J_{1}(\\kappa \\rho) \\cos\\left(k_{0} z\\right)}{\\kappa}</script></html>"
      ],
      "text/plain": [
       "-B_z_0*k_0*bessel_J(1, kappa*rho)*cos(k_0*z)/kappa"
      ]
     },
     "execution_count": 46,
     "metadata": {},
     "output_type": "execute_result"
    }
   ],
   "source": [
    "E_rho[0](rh,ph,z)"
   ]
  },
  {
   "cell_type": "code",
   "execution_count": 47,
   "metadata": {},
   "outputs": [
    {
     "data": {
      "text/html": [
       "<html><script type=\"math/tex; mode=display\">\\newcommand{\\Bold}[1]{\\mathbf{#1}}\\frac{2 \\, B_{z_{1}} k_{1} J_{1}(\\kappa \\rho) \\cos\\left(h k_{1}\\right) \\sin\\left(h k_{1}\\right) \\sin\\left(k_{1} z\\right) + {\\left(2 \\, B_{z_{1}} k_{1} J_{1}(\\kappa \\rho) \\cos\\left(h k_{1}\\right)^{2} - B_{z_{1}} k_{1} J_{1}(\\kappa \\rho)\\right)} \\cos\\left(k_{1} z\\right)}{{\\left(2 \\, \\sin\\left(h k_{1}\\right)^{2} - 1\\right)} \\kappa}</script></html>"
      ],
      "text/plain": [
       "(2*B_z_1*k_1*bessel_J(1, kappa*rho)*cos(h*k_1)*sin(h*k_1)*sin(k_1*z) + (2*B_z_1*k_1*bessel_J(1, kappa*rho)*cos(h*k_1)^2 - B_z_1*k_1*bessel_J(1, kappa*rho))*cos(k_1*z))/((2*sin(h*k_1)^2 - 1)*kappa)"
      ]
     },
     "execution_count": 47,
     "metadata": {},
     "output_type": "execute_result"
    }
   ],
   "source": [
    "E_rho[1](rh,ph,z)"
   ]
  },
  {
   "cell_type": "code",
   "execution_count": 48,
   "metadata": {},
   "outputs": [
    {
     "data": {
      "text/html": [
       "<html><script type=\"math/tex; mode=display\">\\newcommand{\\Bold}[1]{\\mathbf{#1}}\\frac{{\\left(2 \\, \\cos\\left(h k_{1}\\right)^{2} \\cos\\left(k_{1} z\\right) + 2 \\, \\cos\\left(h k_{1}\\right) \\sin\\left(h k_{1}\\right) \\sin\\left(k_{1} z\\right) - \\cos\\left(k_{1} z\\right)\\right)} B_{z_{1}} k_{1} J_{1}(\\kappa \\rho)}{{\\left(2 \\, \\sin\\left(h k_{1}\\right)^{2} - 1\\right)} \\kappa}</script></html>"
      ],
      "text/plain": [
       "(2*cos(h*k_1)^2*cos(k_1*z) + 2*cos(h*k_1)*sin(h*k_1)*sin(k_1*z) - cos(k_1*z))*B_z_1*k_1*bessel_J(1, kappa*rho)/((2*sin(h*k_1)^2 - 1)*kappa)"
      ]
     },
     "execution_count": 48,
     "metadata": {},
     "output_type": "execute_result"
    }
   ],
   "source": [
    "E_rho[1](rh,ph,z).factor()"
   ]
  },
  {
   "cell_type": "code",
   "execution_count": 49,
   "metadata": {},
   "outputs": [],
   "source": [
    "def my_simplify(v):\n",
    "    print (\"v =\", v)\n",
    "    from sage.symbolic.operators import add_vararg, mul_vararg\n",
    "\n",
    "    operand_list1 = []\n",
    "    operand_list2 = []\n",
    "\n",
    "    if mul_vararg == v.operator():\n",
    "        for operand in v.operands():\n",
    "            op = operand.operator()\n",
    "            if op == add_vararg:\n",
    "                operand_list1 += [(op, operand)]\n",
    "            else:\n",
    "                operand_list2 += [(op, operand)]\n",
    "    res_list = ()\n",
    "    if len(operand_list1) == 1:\n",
    "        for (op1, operand1) in operand_list1:\n",
    "            print (op1, operand1)\n",
    "            print (\"\")\n",
    "            for operand1_operand in operand1.operands():\n",
    "                print(operand1_operand)\n",
    "                res1 = operand1_operand\n",
    "                for (op2, operand2) in operand_list2:\n",
    "                    print (op2, operand2)\n",
    "                    res1 = mul_vararg(res1, operand2)\n",
    "                print (\"\")\n",
    "                print (\"res1 = \", res1)\n",
    "                print (\"\")\n",
    "                res_list += (res1,)\n",
    "    print (res_list)\n",
    "    if len (res_list) > 0:\n",
    "        res = add_vararg(*res_list)\n",
    "    else:\n",
    "        res = v\n",
    "    print(res)\n",
    "    return res\n",
    "    "
   ]
  },
  {
   "cell_type": "code",
   "execution_count": 50,
   "metadata": {},
   "outputs": [],
   "source": [
    "def my_simp(i, m, v):\n",
    "    return my_simplify((v / m).full_simplify() \\\n",
    "             .subs(2*sin(h*k[i])^2 - 1 == sin(h*k[i])^2 - cos(h*k[i])^2) \\\n",
    "             .subs(2*cos(h*k[i])^2 - 1 == cos(h*k[i])^2 - sin(h*k[i])^2)) \\\n",
    "             *m"
   ]
  },
  {
   "cell_type": "code",
   "execution_count": 51,
   "metadata": {},
   "outputs": [
    {
     "name": "stdout",
     "output_type": "stream",
     "text": [
      "v = -cos(k_0*z)/kappa\n",
      "()\n",
      "-cos(k_0*z)/kappa\n",
      "v = -(2*cos(h*k_1)*sin(h*k_1)*sin(k_1*z) + (cos(h*k_1)^2 - sin(h*k_1)^2)*cos(k_1*z))/((cos(h*k_1)^2 - sin(h*k_1)^2)*kappa)\n",
      "<function add_vararg at 0x6fb7cd85510> 2*cos(h*k_1)*sin(h*k_1)*sin(k_1*z) + (cos(h*k_1)^2 - sin(h*k_1)^2)*cos(k_1*z)\n",
      "\n",
      "2*cos(h*k_1)*sin(h*k_1)*sin(k_1*z)\n",
      "<built-in function pow> 1/(cos(h*k_1)^2 - sin(h*k_1)^2)\n",
      "<built-in function pow> 1/kappa\n",
      "None -1\n",
      "\n",
      "res1 =  -2*cos(h*k_1)*sin(h*k_1)*sin(k_1*z)/((cos(h*k_1)^2 - sin(h*k_1)^2)*kappa)\n",
      "\n",
      "(cos(h*k_1)^2 - sin(h*k_1)^2)*cos(k_1*z)\n",
      "<built-in function pow> 1/(cos(h*k_1)^2 - sin(h*k_1)^2)\n",
      "<built-in function pow> 1/kappa\n",
      "None -1\n",
      "\n",
      "res1 =  -cos(k_1*z)/kappa\n",
      "\n",
      "(-2*cos(h*k_1)*sin(h*k_1)*sin(k_1*z)/((cos(h*k_1)^2 - sin(h*k_1)^2)*kappa), -cos(k_1*z)/kappa)\n",
      "-2*cos(h*k_1)*sin(h*k_1)*sin(k_1*z)/((cos(h*k_1)^2 - sin(h*k_1)^2)*kappa) - cos(k_1*z)/kappa\n"
     ]
    }
   ],
   "source": [
    "E_rho = []\n",
    "for i in range(n_layers):\n",
    "    exec(preparse(\"E_rho += [ lambda rh, ph, z, i=i : \" + str(my_simplify((E_rhs[i](rh,ph,z).subs(boundary_subs).full_simplify() \\\n",
    "             /(B_z[i]*k[i]*bessel_J(1, kappa*rho))).full_simplify() \\\n",
    "             .subs(2*sin(h*k[i])^2 - 1 == sin(h*k[i])^2 - cos(h*k[i])^2) \\\n",
    "             .subs(2*cos(h*k[i])^2 - 1 == cos(h*k[i])^2 - sin(h*k[i])^2)) \\\n",
    "             *(B_z[i]*k[i]*bessel_J(1, kappa*rho)) ) + \"]\" ))"
   ]
  },
  {
   "cell_type": "code",
   "execution_count": 52,
   "metadata": {},
   "outputs": [
    {
     "data": {
      "text/html": [
       "<html><script type=\"math/tex; mode=display\">\\newcommand{\\Bold}[1]{\\mathbf{#1}}-\\frac{B_{z_{0}} k_{0} J_{1}(\\kappa \\rho) \\cos\\left(k_{0} z\\right)}{\\kappa}</script></html>"
      ],
      "text/plain": [
       "-B_z_0*k_0*bessel_J(1, kappa*rho)*cos(k_0*z)/kappa"
      ]
     },
     "execution_count": 52,
     "metadata": {},
     "output_type": "execute_result"
    }
   ],
   "source": [
    "E_rho[0](rh,ph,z)"
   ]
  },
  {
   "cell_type": "code",
   "execution_count": 53,
   "metadata": {},
   "outputs": [
    {
     "data": {
      "text/html": [
       "<html><script type=\"math/tex; mode=display\">\\newcommand{\\Bold}[1]{\\mathbf{#1}}-B_{z_{1}} k_{1} {\\left(\\frac{2 \\, \\cos\\left(h k_{1}\\right) \\sin\\left(h k_{1}\\right) \\sin\\left(k_{1} z\\right)}{{\\left(\\cos\\left(h k_{1}\\right)^{2} - \\sin\\left(h k_{1}\\right)^{2}\\right)} \\kappa} + \\frac{\\cos\\left(k_{1} z\\right)}{\\kappa}\\right)} J_{1}(\\kappa \\rho)</script></html>"
      ],
      "text/plain": [
       "-B_z_1*k_1*(2*cos(h*k_1)*sin(h*k_1)*sin(k_1*z)/((cos(h*k_1)^2 - sin(h*k_1)^2)*kappa) + cos(k_1*z)/kappa)*bessel_J(1, kappa*rho)"
      ]
     },
     "execution_count": 53,
     "metadata": {},
     "output_type": "execute_result"
    }
   ],
   "source": [
    "E_rho[1](rh,ph,z)"
   ]
  },
  {
   "cell_type": "code",
   "execution_count": 54,
   "metadata": {},
   "outputs": [
    {
     "name": "stdout",
     "output_type": "stream",
     "text": [
      "v = -cos(k_0*z)/kappa\n",
      "()\n",
      "-cos(k_0*z)/kappa\n",
      "v = -(2*cos(h*k_1)*sin(h*k_1)*sin(k_1*z) + (cos(h*k_1)^2 - sin(h*k_1)^2)*cos(k_1*z))/((cos(h*k_1)^2 - sin(h*k_1)^2)*kappa)\n",
      "<function add_vararg at 0x6fb7cd85510> 2*cos(h*k_1)*sin(h*k_1)*sin(k_1*z) + (cos(h*k_1)^2 - sin(h*k_1)^2)*cos(k_1*z)\n",
      "\n",
      "2*cos(h*k_1)*sin(h*k_1)*sin(k_1*z)\n",
      "<built-in function pow> 1/(cos(h*k_1)^2 - sin(h*k_1)^2)\n",
      "<built-in function pow> 1/kappa\n",
      "None -1\n",
      "\n",
      "res1 =  -2*cos(h*k_1)*sin(h*k_1)*sin(k_1*z)/((cos(h*k_1)^2 - sin(h*k_1)^2)*kappa)\n",
      "\n",
      "(cos(h*k_1)^2 - sin(h*k_1)^2)*cos(k_1*z)\n",
      "<built-in function pow> 1/(cos(h*k_1)^2 - sin(h*k_1)^2)\n",
      "<built-in function pow> 1/kappa\n",
      "None -1\n",
      "\n",
      "res1 =  -cos(k_1*z)/kappa\n",
      "\n",
      "(-2*cos(h*k_1)*sin(h*k_1)*sin(k_1*z)/((cos(h*k_1)^2 - sin(h*k_1)^2)*kappa), -cos(k_1*z)/kappa)\n",
      "-2*cos(h*k_1)*sin(h*k_1)*sin(k_1*z)/((cos(h*k_1)^2 - sin(h*k_1)^2)*kappa) - cos(k_1*z)/kappa\n"
     ]
    }
   ],
   "source": [
    "E_rho = []\n",
    "for i in range(n_layers):\n",
    "    m = B_z[i]*k[i]*bessel_J(1, kappa*rho)\n",
    "    exec(preparse(\"E_rho += [ lambda rh, ph, z, i=i : \" + str(my_simp(i, m, E_rhs[i](rh,ph,z).subs(boundary_subs).full_simplify() )) + \"]\" ))"
   ]
  },
  {
   "cell_type": "code",
   "execution_count": 55,
   "metadata": {},
   "outputs": [
    {
     "data": {
      "text/html": [
       "<html><script type=\"math/tex; mode=display\">\\newcommand{\\Bold}[1]{\\mathbf{#1}}-\\frac{B_{z_{0}} k_{0} J_{1}(\\kappa \\rho) \\cos\\left(k_{0} z\\right)}{\\kappa}</script></html>"
      ],
      "text/plain": [
       "-B_z_0*k_0*bessel_J(1, kappa*rho)*cos(k_0*z)/kappa"
      ]
     },
     "execution_count": 55,
     "metadata": {},
     "output_type": "execute_result"
    }
   ],
   "source": [
    "E_rho[0](rh,ph,z)"
   ]
  },
  {
   "cell_type": "code",
   "execution_count": 56,
   "metadata": {},
   "outputs": [
    {
     "data": {
      "text/html": [
       "<html><script type=\"math/tex; mode=display\">\\newcommand{\\Bold}[1]{\\mathbf{#1}}-B_{z_{1}} k_{1} {\\left(\\frac{2 \\, \\cos\\left(h k_{1}\\right) \\sin\\left(h k_{1}\\right) \\sin\\left(k_{1} z\\right)}{{\\left(\\cos\\left(h k_{1}\\right)^{2} - \\sin\\left(h k_{1}\\right)^{2}\\right)} \\kappa} + \\frac{\\cos\\left(k_{1} z\\right)}{\\kappa}\\right)} J_{1}(\\kappa \\rho)</script></html>"
      ],
      "text/plain": [
       "-B_z_1*k_1*(2*cos(h*k_1)*sin(h*k_1)*sin(k_1*z)/((cos(h*k_1)^2 - sin(h*k_1)^2)*kappa) + cos(k_1*z)/kappa)*bessel_J(1, kappa*rho)"
      ]
     },
     "execution_count": 56,
     "metadata": {},
     "output_type": "execute_result"
    }
   ],
   "source": [
    "E_rho[1](rh,ph,z)"
   ]
  },
  {
   "cell_type": "code",
   "execution_count": 57,
   "metadata": {},
   "outputs": [],
   "source": [
    "E_zz = []\n",
    "for i in range(n_layers):\n",
    "    E_zz += [ lambda rh, ph, z, i=i : E_z[i](rh,ph,z).subs(boundary_subs) ]"
   ]
  },
  {
   "cell_type": "code",
   "execution_count": 58,
   "metadata": {},
   "outputs": [
    {
     "data": {
      "text/html": [
       "<html><script type=\"math/tex; mode=display\">\\newcommand{\\Bold}[1]{\\mathbf{#1}}B_{z_{0}} J_{0}(\\kappa \\rho) \\sin\\left(k_{0} z\\right)</script></html>"
      ],
      "text/plain": [
       "B_z_0*bessel_J(0, kappa*rho)*sin(k_0*z)"
      ]
     },
     "execution_count": 58,
     "metadata": {},
     "output_type": "execute_result"
    }
   ],
   "source": [
    "E_zz[0](rh,ph,z)"
   ]
  },
  {
   "cell_type": "code",
   "execution_count": 59,
   "metadata": {
    "scrolled": true
   },
   "outputs": [
    {
     "data": {
      "text/html": [
       "<html><script type=\"math/tex; mode=display\">\\newcommand{\\Bold}[1]{\\mathbf{#1}}-{\\left(\\frac{B_{z_{1}} \\cos\\left(k_{1} z\\right) \\sin\\left(2 \\, h k_{1}\\right)}{\\cos\\left(2 \\, h k_{1}\\right)} - B_{z_{1}} \\sin\\left(k_{1} z\\right)\\right)} J_{0}(\\kappa \\rho)</script></html>"
      ],
      "text/plain": [
       "-(B_z_1*cos(k_1*z)*sin(2*h*k_1)/cos(2*h*k_1) - B_z_1*sin(k_1*z))*bessel_J(0, kappa*rho)"
      ]
     },
     "execution_count": 59,
     "metadata": {},
     "output_type": "execute_result"
    }
   ],
   "source": [
    "E_zz[1](rh,ph,z)"
   ]
  },
  {
   "cell_type": "code",
   "execution_count": null,
   "metadata": {},
   "outputs": [],
   "source": []
  },
  {
   "cell_type": "code",
   "execution_count": 60,
   "metadata": {},
   "outputs": [],
   "source": [
    "rotE_phi = []\n",
    "for i in range(n_layers):\n",
    "    exec(preparse(\"rotE_phi += [lambda rh,ph,z, i=i: \" + str((E_rho[i](rh,ph,z).diff(z)-E_zz[i](rh,ph,z).diff(rh)).full_simplify()) +\"]\"))"
   ]
  },
  {
   "cell_type": "code",
   "execution_count": 61,
   "metadata": {},
   "outputs": [
    {
     "data": {
      "text/html": [
       "<html><script type=\"math/tex; mode=display\">\\newcommand{\\Bold}[1]{\\mathbf{#1}}\\frac{{\\left(B_{z_{0}} k_{0}^{2} J_{1}(\\kappa \\rho) + B_{z_{0}} \\kappa^{2} J_{1}(\\kappa \\rho)\\right)} \\sin\\left(k_{0} z\\right)}{\\kappa}</script></html>"
      ],
      "text/plain": [
       "(B_z_0*k_0^2*bessel_J(1, kappa*rho) + B_z_0*kappa^2*bessel_J(1, kappa*rho))*sin(k_0*z)/kappa"
      ]
     },
     "execution_count": 61,
     "metadata": {},
     "output_type": "execute_result"
    }
   ],
   "source": [
    "rotE_phi[0](rh,ph,z)"
   ]
  },
  {
   "cell_type": "code",
   "execution_count": 62,
   "metadata": {},
   "outputs": [
    {
     "data": {
      "text/html": [
       "<html><script type=\"math/tex; mode=display\">\\newcommand{\\Bold}[1]{\\mathbf{#1}}\\frac{2 \\, {\\left(B_{z_{1}} k_{1}^{2} J_{1}(\\kappa \\rho) \\cos\\left(h k_{1}\\right) \\sin\\left(h k_{1}\\right) + B_{z_{1}} \\kappa^{2} J_{1}(\\kappa \\rho) \\cos\\left(h k_{1}\\right) \\sin\\left(h k_{1}\\right)\\right)} \\cos\\left(k_{1} z\\right) - {\\left(2 \\, B_{z_{1}} k_{1}^{2} J_{1}(\\kappa \\rho) \\cos\\left(h k_{1}\\right)^{2} - B_{z_{1}} k_{1}^{2} J_{1}(\\kappa \\rho) + {\\left(2 \\, B_{z_{1}} J_{1}(\\kappa \\rho) \\cos\\left(h k_{1}\\right)^{2} - B_{z_{1}} J_{1}(\\kappa \\rho)\\right)} \\kappa^{2}\\right)} \\sin\\left(k_{1} z\\right)}{{\\left(2 \\, \\sin\\left(h k_{1}\\right)^{2} - 1\\right)} \\kappa}</script></html>"
      ],
      "text/plain": [
       "(2*(B_z_1*k_1^2*bessel_J(1, kappa*rho)*cos(h*k_1)*sin(h*k_1) + B_z_1*kappa^2*bessel_J(1, kappa*rho)*cos(h*k_1)*sin(h*k_1))*cos(k_1*z) - (2*B_z_1*k_1^2*bessel_J(1, kappa*rho)*cos(h*k_1)^2 - B_z_1*k_1^2*bessel_J(1, kappa*rho) + (2*B_z_1*bessel_J(1, kappa*rho)*cos(h*k_1)^2 - B_z_1*bessel_J(1, kappa*rho))*kappa^2)*sin(k_1*z))/((2*sin(h*k_1)^2 - 1)*kappa)"
      ]
     },
     "execution_count": 62,
     "metadata": {},
     "output_type": "execute_result"
    }
   ],
   "source": [
    "rotE_phi[1](rh,ph,z)"
   ]
  },
  {
   "cell_type": "code",
   "execution_count": 63,
   "metadata": {},
   "outputs": [],
   "source": [
    "rotE_phi = []\n",
    "for i in range(n_layers):\n",
    "    exec(preparse(\"rotE_phi += [lambda rh,ph,z, i=i: \" + str((E_rho[i](rh,ph,z).diff(z)-E_zz[i](rh,ph,z).diff(rh)).full_simplify().subs(solve(eq_kappa[i],kappa^2)).full_simplify()) +\"]\"))"
   ]
  },
  {
   "cell_type": "code",
   "execution_count": 64,
   "metadata": {},
   "outputs": [
    {
     "data": {
      "text/html": [
       "<html><script type=\"math/tex; mode=display\">\\newcommand{\\Bold}[1]{\\mathbf{#1}}\\frac{B_{z_{0}} \\epsilon_{0} \\mu_{0} \\omega^{2} J_{1}(\\kappa \\rho) \\sin\\left(k_{0} z\\right)}{c^{2} \\kappa}</script></html>"
      ],
      "text/plain": [
       "B_z_0*epsilon_0*mu_0*omega^2*bessel_J(1, kappa*rho)*sin(k_0*z)/(c^2*kappa)"
      ]
     },
     "execution_count": 64,
     "metadata": {},
     "output_type": "execute_result"
    }
   ],
   "source": [
    "rotE_phi[0](rh,ph,z)"
   ]
  },
  {
   "cell_type": "code",
   "execution_count": 65,
   "metadata": {},
   "outputs": [
    {
     "data": {
      "text/html": [
       "<html><script type=\"math/tex; mode=display\">\\newcommand{\\Bold}[1]{\\mathbf{#1}}-\\frac{2 \\, B_{z_{1}} \\epsilon_{1} \\mu_{1} \\omega^{2} J_{1}(\\kappa \\rho) \\cos\\left(h k_{1}\\right) \\cos\\left(k_{1} z\\right) \\sin\\left(h k_{1}\\right) + {\\left(2 \\, B_{z_{1}} \\epsilon_{1} J_{1}(\\kappa \\rho) \\sin\\left(h k_{1}\\right)^{2} - B_{z_{1}} \\epsilon_{1} J_{1}(\\kappa \\rho)\\right)} \\mu_{1} \\omega^{2} \\sin\\left(k_{1} z\\right)}{{\\left(2 \\, c^{2} \\cos\\left(h k_{1}\\right)^{2} - c^{2}\\right)} \\kappa}</script></html>"
      ],
      "text/plain": [
       "-(2*B_z_1*epsilon_1*mu_1*omega^2*bessel_J(1, kappa*rho)*cos(h*k_1)*cos(k_1*z)*sin(h*k_1) + (2*B_z_1*epsilon_1*bessel_J(1, kappa*rho)*sin(h*k_1)^2 - B_z_1*epsilon_1*bessel_J(1, kappa*rho))*mu_1*omega^2*sin(k_1*z))/((2*c^2*cos(h*k_1)^2 - c^2)*kappa)"
      ]
     },
     "execution_count": 65,
     "metadata": {},
     "output_type": "execute_result"
    }
   ],
   "source": [
    "rotE_phi[1](rh,ph,z)"
   ]
  },
  {
   "cell_type": "code",
   "execution_count": 66,
   "metadata": {},
   "outputs": [],
   "source": [
    "H_phi = []\n",
    "for i in range(n_layers):\n",
    "    exec(preparse(\"H_phi += [lambda rh,ph,z, i=i : \" + str(rotE_phi[i](rh,ph,z)*c/(I*omega *mu[i]).full_simplify()) +\"]\"))"
   ]
  },
  {
   "cell_type": "code",
   "execution_count": 67,
   "metadata": {},
   "outputs": [
    {
     "data": {
      "text/html": [
       "<html><script type=\"math/tex; mode=display\">\\newcommand{\\Bold}[1]{\\mathbf{#1}}-\\frac{i \\, B_{z_{0}} \\epsilon_{0} \\omega J_{1}(\\kappa \\rho) \\sin\\left(k_{0} z\\right)}{c \\kappa}</script></html>"
      ],
      "text/plain": [
       "-I*B_z_0*epsilon_0*omega*bessel_J(1, kappa*rho)*sin(k_0*z)/(c*kappa)"
      ]
     },
     "execution_count": 67,
     "metadata": {},
     "output_type": "execute_result"
    }
   ],
   "source": [
    "H_phi[0](rh,ph,z)"
   ]
  },
  {
   "cell_type": "code",
   "execution_count": 68,
   "metadata": {},
   "outputs": [
    {
     "data": {
      "text/html": [
       "<html><script type=\"math/tex; mode=display\">\\newcommand{\\Bold}[1]{\\mathbf{#1}}\\frac{{\\left(2 i \\, B_{z_{1}} \\epsilon_{1} \\mu_{1} \\omega^{2} J_{1}(\\kappa \\rho) \\cos\\left(h k_{1}\\right) \\cos\\left(k_{1} z\\right) \\sin\\left(h k_{1}\\right) + i \\, {\\left(2 \\, B_{z_{1}} \\epsilon_{1} J_{1}(\\kappa \\rho) \\sin\\left(h k_{1}\\right)^{2} - B_{z_{1}} \\epsilon_{1} J_{1}(\\kappa \\rho)\\right)} \\mu_{1} \\omega^{2} \\sin\\left(k_{1} z\\right)\\right)} c}{{\\left(2 \\, c^{2} \\cos\\left(h k_{1}\\right)^{2} - c^{2}\\right)} \\kappa \\mu_{1} \\omega}</script></html>"
      ],
      "text/plain": [
       "(2*I*B_z_1*epsilon_1*mu_1*omega^2*bessel_J(1, kappa*rho)*cos(h*k_1)*cos(k_1*z)*sin(h*k_1) + I*(2*B_z_1*epsilon_1*bessel_J(1, kappa*rho)*sin(h*k_1)^2 - B_z_1*epsilon_1*bessel_J(1, kappa*rho))*mu_1*omega^2*sin(k_1*z))*c/((2*c^2*cos(h*k_1)^2 - c^2)*kappa*mu_1*omega)"
      ]
     },
     "execution_count": 68,
     "metadata": {},
     "output_type": "execute_result"
    }
   ],
   "source": [
    "H_phi[1](rh,ph,z)"
   ]
  },
  {
   "cell_type": "code",
   "execution_count": 69,
   "metadata": {},
   "outputs": [
    {
     "name": "stdout",
     "output_type": "stream",
     "text": [
      "v = -omega*sin(k_0*z)/kappa\n",
      "()\n",
      "-omega*sin(k_0*z)/kappa\n",
      "v = (2*omega*cos(h*k_1)*cos(k_1*z)*sin(h*k_1) - (cos(h*k_1)^2 - sin(h*k_1)^2)*omega*sin(k_1*z))/((cos(h*k_1)^2 - sin(h*k_1)^2)*kappa)\n",
      "<function add_vararg at 0x6fb7cd85510> 2*omega*cos(h*k_1)*cos(k_1*z)*sin(h*k_1) - (cos(h*k_1)^2 - sin(h*k_1)^2)*omega*sin(k_1*z)\n",
      "\n",
      "2*omega*cos(h*k_1)*cos(k_1*z)*sin(h*k_1)\n",
      "<built-in function pow> 1/(cos(h*k_1)^2 - sin(h*k_1)^2)\n",
      "<built-in function pow> 1/kappa\n",
      "\n",
      "res1 =  2*omega*cos(h*k_1)*cos(k_1*z)*sin(h*k_1)/((cos(h*k_1)^2 - sin(h*k_1)^2)*kappa)\n",
      "\n",
      "-(cos(h*k_1)^2 - sin(h*k_1)^2)*omega*sin(k_1*z)\n",
      "<built-in function pow> 1/(cos(h*k_1)^2 - sin(h*k_1)^2)\n",
      "<built-in function pow> 1/kappa\n",
      "\n",
      "res1 =  -omega*sin(k_1*z)/kappa\n",
      "\n",
      "(2*omega*cos(h*k_1)*cos(k_1*z)*sin(h*k_1)/((cos(h*k_1)^2 - sin(h*k_1)^2)*kappa), -omega*sin(k_1*z)/kappa)\n",
      "2*omega*cos(h*k_1)*cos(k_1*z)*sin(h*k_1)/((cos(h*k_1)^2 - sin(h*k_1)^2)*kappa) - omega*sin(k_1*z)/kappa\n"
     ]
    }
   ],
   "source": [
    "H_phi = []\n",
    "for i in range(n_layers):\n",
    "    m = epsilon[i]*I/c*B_z[i]*bessel_J(1, kappa*rho)\n",
    "    exec(preparse(\"H_phi += [lambda rh,ph,z, i=i : \" + str(my_simp(i,m,rotE_phi[i](rh,ph,z)*c/(I*omega *mu[i]).full_simplify())) +\"]\"))"
   ]
  },
  {
   "cell_type": "code",
   "execution_count": 70,
   "metadata": {},
   "outputs": [
    {
     "data": {
      "text/html": [
       "<html><script type=\"math/tex; mode=display\">\\newcommand{\\Bold}[1]{\\mathbf{#1}}-\\frac{i \\, B_{z_{0}} \\epsilon_{0} \\omega J_{1}(\\kappa \\rho) \\sin\\left(k_{0} z\\right)}{c \\kappa}</script></html>"
      ],
      "text/plain": [
       "-I*B_z_0*epsilon_0*omega*bessel_J(1, kappa*rho)*sin(k_0*z)/(c*kappa)"
      ]
     },
     "execution_count": 70,
     "metadata": {},
     "output_type": "execute_result"
    }
   ],
   "source": [
    "H_phi[0](rh,ph,z)"
   ]
  },
  {
   "cell_type": "code",
   "execution_count": 71,
   "metadata": {},
   "outputs": [
    {
     "data": {
      "text/html": [
       "<html><script type=\"math/tex; mode=display\">\\newcommand{\\Bold}[1]{\\mathbf{#1}}\\frac{{\\left(\\frac{2 i \\, \\omega \\cos\\left(h k_{1}\\right) \\cos\\left(k_{1} z\\right) \\sin\\left(h k_{1}\\right)}{{\\left(\\cos\\left(h k_{1}\\right)^{2} - \\sin\\left(h k_{1}\\right)^{2}\\right)} \\kappa} - \\frac{i \\, \\omega \\sin\\left(k_{1} z\\right)}{\\kappa}\\right)} B_{z_{1}} \\epsilon_{1} J_{1}(\\kappa \\rho)}{c}</script></html>"
      ],
      "text/plain": [
       "(2*I*omega*cos(h*k_1)*cos(k_1*z)*sin(h*k_1)/((cos(h*k_1)^2 - sin(h*k_1)^2)*kappa) - I*omega*sin(k_1*z)/kappa)*B_z_1*epsilon_1*bessel_J(1, kappa*rho)/c"
      ]
     },
     "execution_count": 71,
     "metadata": {},
     "output_type": "execute_result"
    }
   ],
   "source": [
    "H_phi[1](rh,ph,z)"
   ]
  },
  {
   "cell_type": "code",
   "execution_count": 72,
   "metadata": {},
   "outputs": [],
   "source": [
    "H_phi = []\n",
    "for i in range(n_layers):\n",
    "    exec(preparse(\"H_phi += [lambda rh,ph,z, i=i : \" + str(rotE_phi[i](rh,ph,z)*c/(I*omega *mu[i]).full_simplify()) +\"]\"))"
   ]
  },
  {
   "cell_type": "code",
   "execution_count": 73,
   "metadata": {},
   "outputs": [],
   "source": [
    "bch = []\n",
    "bc =  []\n",
    "for i  in range (n_layers-1):\n",
    "    bc += [E_rho[i](rh,ph, (i + 1) * h).full_simplify() == E_rho[i+1](rh,ph,(i+1)*h).full_simplify()]\n",
    "\n",
    "    bc += [epsilon[i] * E_zz[i](rh,ph,(i+1)*h).full_simplify() == epsilon[i+1]*E_zz[i+1](rh,ph,(i+1)*h).full_simplify()]\n",
    "\n",
    "    bch += [H_phi [i](rh,ph,(i+1)*h).full_simplify() == H_phi [i+1](rh,ph,(i+1)*h).full_simplify()]"
   ]
  },
  {
   "cell_type": "code",
   "execution_count": 74,
   "metadata": {},
   "outputs": [
    {
     "data": {
      "text/html": [
       "<html><script type=\"math/tex; mode=display\">\\newcommand{\\Bold}[1]{\\mathbf{#1}}\\left[-\\frac{B_{z_{0}} k_{0} J_{1}(\\kappa \\rho) \\cos\\left(h k_{0}\\right)}{\\kappa} = \\frac{B_{z_{1}} k_{1} J_{1}(\\kappa \\rho) \\cos\\left(h k_{1}\\right)}{{\\left(2 \\, \\sin\\left(h k_{1}\\right)^{2} - 1\\right)} \\kappa}, B_{z_{0}} \\epsilon_{0} J_{0}(\\kappa \\rho) \\sin\\left(h k_{0}\\right) = \\frac{B_{z_{1}} \\epsilon_{1} J_{0}(\\kappa \\rho) \\sin\\left(h k_{1}\\right)}{2 \\, \\sin\\left(h k_{1}\\right)^{2} - 1}\\right]</script></html>"
      ],
      "text/plain": [
       "[-B_z_0*k_0*bessel_J(1, kappa*rho)*cos(h*k_0)/kappa == B_z_1*k_1*bessel_J(1, kappa*rho)*cos(h*k_1)/((2*sin(h*k_1)^2 - 1)*kappa),\n",
       " B_z_0*epsilon_0*bessel_J(0, kappa*rho)*sin(h*k_0) == B_z_1*epsilon_1*bessel_J(0, kappa*rho)*sin(h*k_1)/(2*sin(h*k_1)^2 - 1)]"
      ]
     },
     "execution_count": 74,
     "metadata": {},
     "output_type": "execute_result"
    }
   ],
   "source": [
    "bc"
   ]
  },
  {
   "cell_type": "code",
   "execution_count": 75,
   "metadata": {
    "scrolled": true
   },
   "outputs": [
    {
     "data": {
      "text/html": [
       "<html><script type=\"math/tex; mode=display\">\\newcommand{\\Bold}[1]{\\mathbf{#1}}\\left[-\\frac{i \\, B_{z_{0}} \\epsilon_{0} \\omega J_{1}(\\kappa \\rho) \\sin\\left(h k_{0}\\right)}{c \\kappa} = \\frac{i \\, B_{z_{1}} \\epsilon_{1} \\omega J_{1}(\\kappa \\rho) \\sin\\left(h k_{1}\\right)}{{\\left(2 \\, c \\cos\\left(h k_{1}\\right)^{2} - c\\right)} \\kappa}\\right]</script></html>"
      ],
      "text/plain": [
       "[-I*B_z_0*epsilon_0*omega*bessel_J(1, kappa*rho)*sin(h*k_0)/(c*kappa) == I*B_z_1*epsilon_1*omega*bessel_J(1, kappa*rho)*sin(h*k_1)/((2*c*cos(h*k_1)^2 - c)*kappa)]"
      ]
     },
     "execution_count": 75,
     "metadata": {},
     "output_type": "execute_result"
    }
   ],
   "source": [
    "bch"
   ]
  },
  {
   "cell_type": "code",
   "execution_count": 76,
   "metadata": {},
   "outputs": [],
   "source": [
    "def GenerateMatrix(equsys, vars):\n",
    "    A=matrix(SR, [[(equ.lhs() - equ.rhs()).coefficient(v) for v in vars] for equ in equsys])\n",
    "    return A"
   ]
  },
  {
   "cell_type": "code",
   "execution_count": 77,
   "metadata": {},
   "outputs": [],
   "source": [
    "M = GenerateMatrix(bc, B_z)"
   ]
  },
  {
   "cell_type": "code",
   "execution_count": 78,
   "metadata": {},
   "outputs": [
    {
     "data": {
      "text/html": [
       "<html><script type=\"math/tex; mode=display\">\\newcommand{\\Bold}[1]{\\mathbf{#1}}\\left(\\begin{array}{rr}\n",
       "-\\frac{k_{0} J_{1}(\\kappa \\rho) \\cos\\left(h k_{0}\\right)}{\\kappa} & -\\frac{k_{1} J_{1}(\\kappa \\rho) \\cos\\left(h k_{1}\\right)}{{\\left(2 \\, \\sin\\left(h k_{1}\\right)^{2} - 1\\right)} \\kappa} \\\\\n",
       "\\epsilon_{0} J_{0}(\\kappa \\rho) \\sin\\left(h k_{0}\\right) & -\\frac{\\epsilon_{1} J_{0}(\\kappa \\rho) \\sin\\left(h k_{1}\\right)}{2 \\, \\sin\\left(h k_{1}\\right)^{2} - 1}\n",
       "\\end{array}\\right)</script></html>"
      ],
      "text/plain": [
       "[                       -k_0*bessel_J(1, kappa*rho)*cos(h*k_0)/kappa -k_1*bessel_J(1, kappa*rho)*cos(h*k_1)/((2*sin(h*k_1)^2 - 1)*kappa)]\n",
       "[                        epsilon_0*bessel_J(0, kappa*rho)*sin(h*k_0)   -epsilon_1*bessel_J(0, kappa*rho)*sin(h*k_1)/(2*sin(h*k_1)^2 - 1)]"
      ]
     },
     "execution_count": 78,
     "metadata": {},
     "output_type": "execute_result"
    }
   ],
   "source": [
    "M"
   ]
  },
  {
   "cell_type": "code",
   "execution_count": 79,
   "metadata": {},
   "outputs": [
    {
     "data": {
      "text/html": [
       "<html><script type=\"math/tex; mode=display\">\\newcommand{\\Bold}[1]{\\mathbf{#1}}2</script></html>"
      ],
      "text/plain": [
       "2"
      ]
     },
     "execution_count": 79,
     "metadata": {},
     "output_type": "execute_result"
    }
   ],
   "source": [
    "M.rank()"
   ]
  },
  {
   "cell_type": "code",
   "execution_count": 80,
   "metadata": {},
   "outputs": [],
   "source": [
    "M_det  = M.det().combine()"
   ]
  },
  {
   "cell_type": "code",
   "execution_count": 81,
   "metadata": {},
   "outputs": [
    {
     "data": {
      "text/html": [
       "<html><script type=\"math/tex; mode=display\">\\newcommand{\\Bold}[1]{\\mathbf{#1}}\\frac{\\epsilon_{0} k_{1} J_{1}(\\kappa \\rho) J_{0}(\\kappa \\rho) \\cos\\left(h k_{1}\\right) \\sin\\left(h k_{0}\\right) + \\epsilon_{1} k_{0} J_{1}(\\kappa \\rho) J_{0}(\\kappa \\rho) \\cos\\left(h k_{0}\\right) \\sin\\left(h k_{1}\\right)}{{\\left(2 \\, \\sin\\left(h k_{1}\\right)^{2} - 1\\right)} \\kappa}</script></html>"
      ],
      "text/plain": [
       "(epsilon_0*k_1*bessel_J(1, kappa*rho)*bessel_J(0, kappa*rho)*cos(h*k_1)*sin(h*k_0) + epsilon_1*k_0*bessel_J(1, kappa*rho)*bessel_J(0, kappa*rho)*cos(h*k_0)*sin(h*k_1))/((2*sin(h*k_1)^2 - 1)*kappa)"
      ]
     },
     "execution_count": 81,
     "metadata": {},
     "output_type": "execute_result"
    }
   ],
   "source": [
    "M_det"
   ]
  },
  {
   "cell_type": "code",
   "execution_count": 82,
   "metadata": {},
   "outputs": [],
   "source": [
    "M_det_num = M_det.numerator()"
   ]
  },
  {
   "cell_type": "code",
   "execution_count": 83,
   "metadata": {},
   "outputs": [
    {
     "data": {
      "text/html": [
       "<html><script type=\"math/tex; mode=display\">\\newcommand{\\Bold}[1]{\\mathbf{#1}}{\\left(\\epsilon_{0} k_{1} \\cos\\left(h k_{1}\\right) \\sin\\left(h k_{0}\\right) + \\epsilon_{1} k_{0} \\cos\\left(h k_{0}\\right) \\sin\\left(h k_{1}\\right)\\right)} J_{1}(\\kappa \\rho) J_{0}(\\kappa \\rho)</script></html>"
      ],
      "text/plain": [
       "(epsilon_0*k_1*cos(h*k_1)*sin(h*k_0) + epsilon_1*k_0*cos(h*k_0)*sin(h*k_1))*bessel_J(1, kappa*rho)*bessel_J(0, kappa*rho)"
      ]
     },
     "execution_count": 83,
     "metadata": {},
     "output_type": "execute_result"
    }
   ],
   "source": [
    "M_det_num.factor()"
   ]
  },
  {
   "cell_type": "code",
   "execution_count": 84,
   "metadata": {},
   "outputs": [],
   "source": [
    "for m in [0,1]:\n",
    "    M_det_num = (M_det_num/bessel_J(m,kappa * rh)).full_simplify ().expand ()"
   ]
  },
  {
   "cell_type": "code",
   "execution_count": 85,
   "metadata": {},
   "outputs": [
    {
     "data": {
      "text/html": [
       "<html><script type=\"math/tex; mode=display\">\\newcommand{\\Bold}[1]{\\mathbf{#1}}\\epsilon_{0} k_{1} \\cos\\left(h k_{1}\\right) \\sin\\left(h k_{0}\\right) + \\epsilon_{1} k_{0} \\cos\\left(h k_{0}\\right) \\sin\\left(h k_{1}\\right)</script></html>"
      ],
      "text/plain": [
       "epsilon_0*k_1*cos(h*k_1)*sin(h*k_0) + epsilon_1*k_0*cos(h*k_0)*sin(h*k_1)"
      ]
     },
     "execution_count": 85,
     "metadata": {},
     "output_type": "execute_result"
    }
   ],
   "source": [
    "M_det_num"
   ]
  },
  {
   "cell_type": "code",
   "execution_count": 86,
   "metadata": {},
   "outputs": [],
   "source": [
    "for i in range(n_layers):\n",
    "    M_det_num = (M_det_num/(k [i]*cos(h*k[i]))).full_simplify ().expand ()"
   ]
  },
  {
   "cell_type": "code",
   "execution_count": 87,
   "metadata": {},
   "outputs": [
    {
     "data": {
      "text/html": [
       "<html><script type=\"math/tex; mode=display\">\\newcommand{\\Bold}[1]{\\mathbf{#1}}\\frac{\\epsilon_{0} \\sin\\left(h k_{0}\\right)}{k_{0} \\cos\\left(h k_{0}\\right)} + \\frac{\\epsilon_{1} \\sin\\left(h k_{1}\\right)}{k_{1} \\cos\\left(h k_{1}\\right)}</script></html>"
      ],
      "text/plain": [
       "epsilon_0*sin(h*k_0)/(k_0*cos(h*k_0)) + epsilon_1*sin(h*k_1)/(k_1*cos(h*k_1))"
      ]
     },
     "execution_count": 87,
     "metadata": {},
     "output_type": "execute_result"
    }
   ],
   "source": [
    "M_det_num"
   ]
  },
  {
   "cell_type": "code",
   "execution_count": 88,
   "metadata": {},
   "outputs": [],
   "source": [
    "disp_eq = M_det_num == 0"
   ]
  },
  {
   "cell_type": "code",
   "execution_count": 89,
   "metadata": {},
   "outputs": [
    {
     "data": {
      "text/html": [
       "<html><script type=\"math/tex; mode=display\">\\newcommand{\\Bold}[1]{\\mathbf{#1}}\\frac{\\epsilon_{0} \\sin\\left(h k_{0}\\right)}{k_{0} \\cos\\left(h k_{0}\\right)} + \\frac{\\epsilon_{1} \\sin\\left(h k_{1}\\right)}{k_{1} \\cos\\left(h k_{1}\\right)} = 0</script></html>"
      ],
      "text/plain": [
       "epsilon_0*sin(h*k_0)/(k_0*cos(h*k_0)) + epsilon_1*sin(h*k_1)/(k_1*cos(h*k_1)) == 0"
      ]
     },
     "execution_count": 89,
     "metadata": {},
     "output_type": "execute_result"
    }
   ],
   "source": [
    "disp_eq"
   ]
  },
  {
   "cell_type": "code",
   "execution_count": 90,
   "metadata": {},
   "outputs": [
    {
     "data": {
      "text/html": [
       "<html><script type=\"math/tex; mode=display\">\\newcommand{\\Bold}[1]{\\mathbf{#1}}\\left[-\\frac{i \\, B_{z_{0}} \\epsilon_{0} \\omega J_{1}(\\kappa \\rho) \\sin\\left(h k_{0}\\right)}{c \\kappa} = \\frac{i \\, B_{z_{1}} \\epsilon_{1} \\omega J_{1}(\\kappa \\rho) \\sin\\left(h k_{1}\\right)}{{\\left(2 \\, c \\cos\\left(h k_{1}\\right)^{2} - c\\right)} \\kappa}\\right]</script></html>"
      ],
      "text/plain": [
       "[-I*B_z_0*epsilon_0*omega*bessel_J(1, kappa*rho)*sin(h*k_0)/(c*kappa) == I*B_z_1*epsilon_1*omega*bessel_J(1, kappa*rho)*sin(h*k_1)/((2*c*cos(h*k_1)^2 - c)*kappa)]"
      ]
     },
     "execution_count": 90,
     "metadata": {},
     "output_type": "execute_result"
    }
   ],
   "source": [
    "bch"
   ]
  },
  {
   "cell_type": "code",
   "execution_count": 91,
   "metadata": {},
   "outputs": [],
   "source": [
    "bchs = []\n",
    "for i in range(n_layers-1):\n",
    "    bchs +=  [solve (bch, B_z[i+1])[0].full_simplify ().expand () ]"
   ]
  },
  {
   "cell_type": "code",
   "execution_count": 92,
   "metadata": {},
   "outputs": [
    {
     "data": {
      "text/html": [
       "<html><script type=\"math/tex; mode=display\">\\newcommand{\\Bold}[1]{\\mathbf{#1}}\\left[B_{z_{1}} = \\frac{2 \\, B_{z_{0}} \\epsilon_{0} \\sin\\left(h k_{0}\\right) \\sin\\left(h k_{1}\\right)}{\\epsilon_{1}} - \\frac{B_{z_{0}} \\epsilon_{0} \\sin\\left(h k_{0}\\right)}{\\epsilon_{1} \\sin\\left(h k_{1}\\right)}\\right]</script></html>"
      ],
      "text/plain": [
       "[B_z_1 == 2*B_z_0*epsilon_0*sin(h*k_0)*sin(h*k_1)/epsilon_1 - B_z_0*epsilon_0*sin(h*k_0)/(epsilon_1*sin(h*k_1))]"
      ]
     },
     "execution_count": 92,
     "metadata": {},
     "output_type": "execute_result"
    }
   ],
   "source": [
    "bchs"
   ]
  },
  {
   "cell_type": "code",
   "execution_count": null,
   "metadata": {},
   "outputs": [],
   "source": []
  },
  {
   "cell_type": "code",
   "execution_count": 93,
   "metadata": {},
   "outputs": [],
   "source": [
    "E_rho_s = []\n",
    "for i in range(n_layers):\n",
    "    E_rho_s += [ lambda rh, ph, z, i=i : E_rho[i](rh,ph,z).subs(bchs) ]"
   ]
  },
  {
   "cell_type": "code",
   "execution_count": 94,
   "metadata": {},
   "outputs": [],
   "source": [
    "E_zz_s = []\n",
    "for i in range(n_layers):\n",
    "    E_zz_s += [ lambda rh, ph, z, i=i : E_zz[i](rh,ph,z).subs(bchs) ]"
   ]
  },
  {
   "cell_type": "code",
   "execution_count": 95,
   "metadata": {},
   "outputs": [],
   "source": [
    "H_phi_s = []\n",
    "for i in range(n_layers):\n",
    "    H_phi_s += [ lambda rh, ph, z, i=i : H_phi[i](rh,ph,z).subs(bchs) ]\n"
   ]
  },
  {
   "cell_type": "code",
   "execution_count": 96,
   "metadata": {},
   "outputs": [
    {
     "data": {
      "text/html": [
       "<html><script type=\"math/tex; mode=display\">\\newcommand{\\Bold}[1]{\\mathbf{#1}}-{\\left(\\frac{2 \\, B_{z_{0}} \\epsilon_{0} \\sin\\left(h k_{0}\\right) \\sin\\left(h k_{1}\\right)}{\\epsilon_{1}} - \\frac{B_{z_{0}} \\epsilon_{0} \\sin\\left(h k_{0}\\right)}{\\epsilon_{1} \\sin\\left(h k_{1}\\right)}\\right)} k_{1} {\\left(\\frac{2 \\, \\cos\\left(h k_{1}\\right) \\sin\\left(h k_{1}\\right) \\sin\\left(k_{1} z\\right)}{{\\left(\\cos\\left(h k_{1}\\right)^{2} - \\sin\\left(h k_{1}\\right)^{2}\\right)} \\kappa} + \\frac{\\cos\\left(k_{1} z\\right)}{\\kappa}\\right)} J_{1}(\\kappa \\rho)</script></html>"
      ],
      "text/plain": [
       "-(2*B_z_0*epsilon_0*sin(h*k_0)*sin(h*k_1)/epsilon_1 - B_z_0*epsilon_0*sin(h*k_0)/(epsilon_1*sin(h*k_1)))*k_1*(2*cos(h*k_1)*sin(h*k_1)*sin(k_1*z)/((cos(h*k_1)^2 - sin(h*k_1)^2)*kappa) + cos(k_1*z)/kappa)*bessel_J(1, kappa*rho)"
      ]
     },
     "execution_count": 96,
     "metadata": {},
     "output_type": "execute_result"
    }
   ],
   "source": [
    "E_rho_s [1](rh,ph,z)"
   ]
  },
  {
   "cell_type": "code",
   "execution_count": 97,
   "metadata": {},
   "outputs": [
    {
     "data": {
      "text/html": [
       "<html><script type=\"math/tex; mode=display\">\\newcommand{\\Bold}[1]{\\mathbf{#1}}-{\\left(\\frac{{\\left(\\frac{2 \\, B_{z_{0}} \\epsilon_{0} \\sin\\left(h k_{0}\\right) \\sin\\left(h k_{1}\\right)}{\\epsilon_{1}} - \\frac{B_{z_{0}} \\epsilon_{0} \\sin\\left(h k_{0}\\right)}{\\epsilon_{1} \\sin\\left(h k_{1}\\right)}\\right)} \\cos\\left(k_{1} z\\right) \\sin\\left(2 \\, h k_{1}\\right)}{\\cos\\left(2 \\, h k_{1}\\right)} - {\\left(\\frac{2 \\, B_{z_{0}} \\epsilon_{0} \\sin\\left(h k_{0}\\right) \\sin\\left(h k_{1}\\right)}{\\epsilon_{1}} - \\frac{B_{z_{0}} \\epsilon_{0} \\sin\\left(h k_{0}\\right)}{\\epsilon_{1} \\sin\\left(h k_{1}\\right)}\\right)} \\sin\\left(k_{1} z\\right)\\right)} J_{0}(\\kappa \\rho)</script></html>"
      ],
      "text/plain": [
       "-((2*B_z_0*epsilon_0*sin(h*k_0)*sin(h*k_1)/epsilon_1 - B_z_0*epsilon_0*sin(h*k_0)/(epsilon_1*sin(h*k_1)))*cos(k_1*z)*sin(2*h*k_1)/cos(2*h*k_1) - (2*B_z_0*epsilon_0*sin(h*k_0)*sin(h*k_1)/epsilon_1 - B_z_0*epsilon_0*sin(h*k_0)/(epsilon_1*sin(h*k_1)))*sin(k_1*z))*bessel_J(0, kappa*rho)"
      ]
     },
     "execution_count": 97,
     "metadata": {},
     "output_type": "execute_result"
    }
   ],
   "source": [
    "E_zz_s[1](rh,ph,z)"
   ]
  },
  {
   "cell_type": "code",
   "execution_count": 98,
   "metadata": {},
   "outputs": [
    {
     "data": {
      "text/html": [
       "<html><script type=\"math/tex; mode=display\">\\newcommand{\\Bold}[1]{\\mathbf{#1}}\\frac{{\\left(2 i \\, {\\left(\\frac{2 \\, B_{z_{0}} \\epsilon_{0} \\sin\\left(h k_{0}\\right) \\sin\\left(h k_{1}\\right)}{\\epsilon_{1}} - \\frac{B_{z_{0}} \\epsilon_{0} \\sin\\left(h k_{0}\\right)}{\\epsilon_{1} \\sin\\left(h k_{1}\\right)}\\right)} \\epsilon_{1} \\mu_{1} \\omega^{2} J_{1}(\\kappa \\rho) \\cos\\left(h k_{1}\\right) \\cos\\left(k_{1} z\\right) \\sin\\left(h k_{1}\\right) + i \\, {\\left(2 \\, {\\left(\\frac{2 \\, B_{z_{0}} \\epsilon_{0} \\sin\\left(h k_{0}\\right) \\sin\\left(h k_{1}\\right)}{\\epsilon_{1}} - \\frac{B_{z_{0}} \\epsilon_{0} \\sin\\left(h k_{0}\\right)}{\\epsilon_{1} \\sin\\left(h k_{1}\\right)}\\right)} \\epsilon_{1} J_{1}(\\kappa \\rho) \\sin\\left(h k_{1}\\right)^{2} - {\\left(\\frac{2 \\, B_{z_{0}} \\epsilon_{0} \\sin\\left(h k_{0}\\right) \\sin\\left(h k_{1}\\right)}{\\epsilon_{1}} - \\frac{B_{z_{0}} \\epsilon_{0} \\sin\\left(h k_{0}\\right)}{\\epsilon_{1} \\sin\\left(h k_{1}\\right)}\\right)} \\epsilon_{1} J_{1}(\\kappa \\rho)\\right)} \\mu_{1} \\omega^{2} \\sin\\left(k_{1} z\\right)\\right)} c}{{\\left(2 \\, c^{2} \\cos\\left(h k_{1}\\right)^{2} - c^{2}\\right)} \\kappa \\mu_{1} \\omega}</script></html>"
      ],
      "text/plain": [
       "(2*I*(2*B_z_0*epsilon_0*sin(h*k_0)*sin(h*k_1)/epsilon_1 - B_z_0*epsilon_0*sin(h*k_0)/(epsilon_1*sin(h*k_1)))*epsilon_1*mu_1*omega^2*bessel_J(1, kappa*rho)*cos(h*k_1)*cos(k_1*z)*sin(h*k_1) + I*(2*(2*B_z_0*epsilon_0*sin(h*k_0)*sin(h*k_1)/epsilon_1 - B_z_0*epsilon_0*sin(h*k_0)/(epsilon_1*sin(h*k_1)))*epsilon_1*bessel_J(1, kappa*rho)*sin(h*k_1)^2 - (2*B_z_0*epsilon_0*sin(h*k_0)*sin(h*k_1)/epsilon_1 - B_z_0*epsilon_0*sin(h*k_0)/(epsilon_1*sin(h*k_1)))*epsilon_1*bessel_J(1, kappa*rho))*mu_1*omega^2*sin(k_1*z))*c/((2*c^2*cos(h*k_1)^2 - c^2)*kappa*mu_1*omega)"
      ]
     },
     "execution_count": 98,
     "metadata": {},
     "output_type": "execute_result"
    }
   ],
   "source": [
    "H_phi_s[1](rh,ph,z)"
   ]
  },
  {
   "cell_type": "code",
   "execution_count": 99,
   "metadata": {},
   "outputs": [
    {
     "data": {
      "text/html": [
       "<html><script type=\"math/tex; mode=display\">\\newcommand{\\Bold}[1]{\\mathbf{#1}}\\left[-k_{0}^{2} + \\frac{\\epsilon_{0} \\mu_{0} \\omega^{2}}{c^{2}} = \\kappa^{2}, -k_{1}^{2} + \\frac{\\epsilon_{1} \\mu_{1} \\omega^{2}}{c^{2}} = \\kappa^{2}\\right]</script></html>"
      ],
      "text/plain": [
       "[-k_0^2 + epsilon_0*mu_0*omega^2/c^2 == kappa^2,\n",
       " -k_1^2 + epsilon_1*mu_1*omega^2/c^2 == kappa^2]"
      ]
     },
     "execution_count": 99,
     "metadata": {},
     "output_type": "execute_result"
    }
   ],
   "source": [
    "eq_kappa"
   ]
  },
  {
   "cell_type": "code",
   "execution_count": 100,
   "metadata": {},
   "outputs": [
    {
     "data": {
      "text/html": [
       "<html><script type=\"math/tex; mode=display\">\\newcommand{\\Bold}[1]{\\mathbf{#1}}\\frac{\\epsilon_{0} \\sin\\left(h k_{0}\\right)}{k_{0} \\cos\\left(h k_{0}\\right)} + \\frac{\\epsilon_{1} \\sin\\left(h k_{1}\\right)}{k_{1} \\cos\\left(h k_{1}\\right)} = 0</script></html>"
      ],
      "text/plain": [
       "epsilon_0*sin(h*k_0)/(k_0*cos(h*k_0)) + epsilon_1*sin(h*k_1)/(k_1*cos(h*k_1)) == 0"
      ]
     },
     "execution_count": 100,
     "metadata": {},
     "output_type": "execute_result"
    }
   ],
   "source": [
    "disp_eq"
   ]
  },
  {
   "cell_type": "code",
   "execution_count": 101,
   "metadata": {},
   "outputs": [],
   "source": [
    "bessel_root_1 = find_root (bessel_J(0,x),  0, pi)"
   ]
  },
  {
   "cell_type": "code",
   "execution_count": 102,
   "metadata": {},
   "outputs": [],
   "source": [
    "bessel_root_2 =  find_root (bessel_J(0,x),  pi, pi*2)"
   ]
  },
  {
   "cell_type": "code",
   "execution_count": 103,
   "metadata": {
    "scrolled": true
   },
   "outputs": [],
   "source": [
    "kappa_d1 = bessel_root_1/a"
   ]
  },
  {
   "cell_type": "code",
   "execution_count": 104,
   "metadata": {},
   "outputs": [],
   "source": [
    "#sgs\n",
    "lambda_d = 632*100*10^-9\n",
    "# 632 nm\n",
    "digit_values = [a == 12, mu[0] == 1, mu[1] == 1, epsilon[0] == 2.468^2, epsilon[1] == 1.67^2]\n",
    "\n",
    "c_value  = [ c == 299792458 * 100]\n",
    "\n",
    "omega_value = [ omega  == ((2*pi * c)/ lambda_d).subs (c_value) ]"
   ]
  },
  {
   "cell_type": "code",
   "execution_count": 105,
   "metadata": {},
   "outputs": [],
   "source": [
    "epsilon_d = []\n",
    "for i in range(n_layers):\n",
    "    epsilon_d += [epsilon[i].subs(digit_values)]"
   ]
  },
  {
   "cell_type": "code",
   "execution_count": 106,
   "metadata": {},
   "outputs": [],
   "source": [
    "eq_kappa_d = []\n",
    "for i in range(n_layers):\n",
    "    eq_kappa_d += [eq_kappa[i].subs(kappa == kappa_d1).subs(digit_values).subs (c_value).subs(omega_value)]"
   ]
  },
  {
   "cell_type": "code",
   "execution_count": 107,
   "metadata": {
    "scrolled": true
   },
   "outputs": [
    {
     "data": {
      "text/html": [
       "<html><script type=\"math/tex; mode=display\">\\newcommand{\\Bold}[1]{\\mathbf{#1}}\\left[6.09980772312129 \\times 10^{9} \\, \\pi^{2} - k_{0}^{2} = 0.04016101363157489, 2.79292180740266 \\times 10^{9} \\, \\pi^{2} - k_{1}^{2} = 0.04016101363157489\\right]</script></html>"
      ],
      "text/plain": [
       "[6.09980772312129e9*pi^2 - k_0^2 == 0.04016101363157489,\n",
       " 2.79292180740266e9*pi^2 - k_1^2 == 0.04016101363157489]"
      ]
     },
     "execution_count": 107,
     "metadata": {},
     "output_type": "execute_result"
    }
   ],
   "source": [
    "eq_kappa_d"
   ]
  },
  {
   "cell_type": "code",
   "execution_count": 108,
   "metadata": {},
   "outputs": [],
   "source": [
    "disp_eq_d = disp_eq.subs(digit_values).subs (c_value)"
   ]
  },
  {
   "cell_type": "code",
   "execution_count": 109,
   "metadata": {},
   "outputs": [
    {
     "data": {
      "text/html": [
       "<html><script type=\"math/tex; mode=display\">\\newcommand{\\Bold}[1]{\\mathbf{#1}}\\frac{6.09102400000000 \\, \\sin\\left(h k_{0}\\right)}{k_{0} \\cos\\left(h k_{0}\\right)} + \\frac{2.78890000000000 \\, \\sin\\left(h k_{1}\\right)}{k_{1} \\cos\\left(h k_{1}\\right)} = 0</script></html>"
      ],
      "text/plain": [
       "6.09102400000000*sin(h*k_0)/(k_0*cos(h*k_0)) + 2.78890000000000*sin(h*k_1)/(k_1*cos(h*k_1)) == 0"
      ]
     },
     "execution_count": 109,
     "metadata": {},
     "output_type": "execute_result"
    }
   ],
   "source": [
    "disp_eq_d"
   ]
  },
  {
   "cell_type": "code",
   "execution_count": 110,
   "metadata": {},
   "outputs": [],
   "source": [
    "k_values = []\n",
    "for i in range(n_layers):\n",
    "    assume (k [i] > 0)\n",
    "    k_values += solve (eq_kappa_d[i], k[i])"
   ]
  },
  {
   "cell_type": "code",
   "execution_count": 111,
   "metadata": {},
   "outputs": [
    {
     "data": {
      "text/html": [
       "<html><script type=\"math/tex; mode=display\">\\newcommand{\\Bold}[1]{\\mathbf{#1}}\\left[k_{0} = \\frac{1}{39} \\, \\sqrt{\\frac{18555615093735}{2} \\, \\pi^{2} - \\frac{926467802}{15166887}}, k_{1} = \\frac{1}{3} \\, \\sqrt{\\frac{5680802956257}{226} \\, \\pi^{2} - \\frac{5482058}{15166887}}\\right]</script></html>"
      ],
      "text/plain": [
       "[k_0 == 1/39*sqrt(18555615093735/2*pi^2 - 926467802/15166887),\n",
       " k_1 == 1/3*sqrt(5680802956257/226*pi^2 - 5482058/15166887)]"
      ]
     },
     "execution_count": 111,
     "metadata": {},
     "output_type": "execute_result"
    }
   ],
   "source": [
    "k_values"
   ]
  },
  {
   "cell_type": "code",
   "execution_count": 112,
   "metadata": {},
   "outputs": [],
   "source": [
    "k_values_d = []\n",
    "for i in range(n_layers):\n",
    "    k_values_d += [k_values [i].lhs() == k_values [i].rhs().n() ]"
   ]
  },
  {
   "cell_type": "code",
   "execution_count": 113,
   "metadata": {},
   "outputs": [
    {
     "data": {
      "text/html": [
       "<html><script type=\"math/tex; mode=display\">\\newcommand{\\Bold}[1]{\\mathbf{#1}}\\left[k_{0} = 245362.362944843, k_{1} = 166027.206692757\\right]</script></html>"
      ],
      "text/plain": [
       "[k_0 == 245362.362944843, k_1 == 166027.206692757]"
      ]
     },
     "execution_count": 113,
     "metadata": {},
     "output_type": "execute_result"
    }
   ],
   "source": [
    "k_values_d"
   ]
  },
  {
   "cell_type": "code",
   "execution_count": 114,
   "metadata": {},
   "outputs": [],
   "source": [
    "disp_eq_s = disp_eq_d.subs(k_values_d)"
   ]
  },
  {
   "cell_type": "code",
   "execution_count": 115,
   "metadata": {},
   "outputs": [
    {
     "data": {
      "text/html": [
       "<html><script type=\"math/tex; mode=display\">\\newcommand{\\Bold}[1]{\\mathbf{#1}}\\frac{0.0000248246060516187 \\, \\sin\\left(245362.362944843 \\, h\\right)}{\\cos\\left(245362.362944843 \\, h\\right)} + \\frac{0.0000167978493137033 \\, \\sin\\left(166027.206692757 \\, h\\right)}{\\cos\\left(166027.206692757 \\, h\\right)} = 0</script></html>"
      ],
      "text/plain": [
       "0.0000248246060516187*sin(245362.362944843*h)/cos(245362.362944843*h) + 0.0000167978493137033*sin(166027.206692757*h)/cos(166027.206692757*h) == 0"
      ]
     },
     "execution_count": 115,
     "metadata": {},
     "output_type": "execute_result"
    }
   ],
   "source": [
    "disp_eq_s"
   ]
  },
  {
   "cell_type": "code",
   "execution_count": 116,
   "metadata": {},
   "outputs": [],
   "source": [
    "disp_eq_brakes = []\n",
    "for i in range(n_layers):\n",
    "    disp_eq_brake = find_root( cos(k_values_d[i].rhs()*x) == 0, lambda_d/32, lambda_d/4)\n",
    "    for j in range (3):\n",
    "        disp_eq_brakes += [ j * pi / k_values_d [i].rhs() + disp_eq_brake]"
   ]
  },
  {
   "cell_type": "code",
   "execution_count": 117,
   "metadata": {},
   "outputs": [
    {
     "data": {
      "text/html": [
       "<html><script type=\"math/tex; mode=display\">\\newcommand{\\Bold}[1]{\\mathbf{#1}}\\left[6.401944900718174 \\times 10^{-06}, \\left(4.07560470154422 \\times 10^{-6}\\right) \\, \\pi + 6.401944900718174 \\times 10^{-06}, \\left(8.15120940308844 \\times 10^{-6}\\right) \\, \\pi + 6.401944900718174 \\times 10^{-06}, 9.46107784453728 \\times 10^{-06}, \\left(6.02310922360187 \\times 10^{-6}\\right) \\, \\pi + 9.46107784453728 \\times 10^{-06}, 0.0000120462184472037 \\, \\pi + 9.46107784453728 \\times 10^{-06}\\right]</script></html>"
      ],
      "text/plain": [
       "[6.401944900718174e-06,\n",
       " (4.07560470154422e-6)*pi + 6.401944900718174e-06,\n",
       " (8.15120940308844e-6)*pi + 6.401944900718174e-06,\n",
       " 9.46107784453728e-06,\n",
       " (6.02310922360187e-6)*pi + 9.46107784453728e-06,\n",
       " 0.0000120462184472037*pi + 9.46107784453728e-06]"
      ]
     },
     "execution_count": 117,
     "metadata": {},
     "output_type": "execute_result"
    }
   ],
   "source": [
    "disp_eq_brakes"
   ]
  },
  {
   "cell_type": "code",
   "execution_count": null,
   "metadata": {},
   "outputs": [],
   "source": []
  },
  {
   "cell_type": "code",
   "execution_count": null,
   "metadata": {},
   "outputs": [],
   "source": []
  },
  {
   "cell_type": "code",
   "execution_count": 118,
   "metadata": {},
   "outputs": [
    {
     "data": {
      "image/png": "[encoded data removed]",
      "text/plain": [
       "Graphics object consisting of 2 graphics primitives"
      ]
     },
     "metadata": {},
     "output_type": "display_data"
    }
   ],
   "source": [
    "p = sage.plot.graphics.Graphics()\n",
    "for i in range(n_layers):   p += plot ( cos(k_values_d[i].rhs()* x), lambda_d/32, lambda_d/4)\n",
    "\n",
    "p.show()"
   ]
  },
  {
   "cell_type": "code",
   "execution_count": 119,
   "metadata": {
    "scrolled": true
   },
   "outputs": [
    {
     "data": {
      "text/html": [
       "<html><script type=\"math/tex; mode=display\">\\newcommand{\\Bold}[1]{\\mathbf{#1}}\\left[6.401944900718174 \\times 10^{-06}, \\left(4.07560470154422 \\times 10^{-6}\\right) \\, \\pi + 6.401944900718174 \\times 10^{-06}, \\left(8.15120940308844 \\times 10^{-6}\\right) \\, \\pi + 6.401944900718174 \\times 10^{-06}, 9.46107784453728 \\times 10^{-06}, \\left(6.02310922360187 \\times 10^{-6}\\right) \\, \\pi + 9.46107784453728 \\times 10^{-06}, 0.0000120462184472037 \\, \\pi + 9.46107784453728 \\times 10^{-06}\\right]</script></html>"
      ],
      "text/plain": [
       "[6.401944900718174e-06,\n",
       " (4.07560470154422e-6)*pi + 6.401944900718174e-06,\n",
       " (8.15120940308844e-6)*pi + 6.401944900718174e-06,\n",
       " 9.46107784453728e-06,\n",
       " (6.02310922360187e-6)*pi + 9.46107784453728e-06,\n",
       " 0.0000120462184472037*pi + 9.46107784453728e-06]"
      ]
     },
     "execution_count": 119,
     "metadata": {},
     "output_type": "execute_result"
    }
   ],
   "source": [
    "disp_eq_brakes"
   ]
  },
  {
   "cell_type": "code",
   "execution_count": 120,
   "metadata": {},
   "outputs": [],
   "source": [
    "disp_eq_brakes.sort()"
   ]
  },
  {
   "cell_type": "code",
   "execution_count": 121,
   "metadata": {
    "scrolled": true
   },
   "outputs": [
    {
     "data": {
      "text/latex": [
       "$$6.40194490071817 \\times 10^{-6}$$"
      ],
      "text/plain": [
       "<IPython.core.display.Math object>"
      ]
     },
     "metadata": {},
     "output_type": "display_data"
    },
    {
     "data": {
      "text/latex": [
       "$$9.46107784453728 \\times 10^{-6}$$"
      ],
      "text/plain": [
       "<IPython.core.display.Math object>"
      ]
     },
     "metadata": {},
     "output_type": "display_data"
    },
    {
     "data": {
      "text/latex": [
       "$$0.0000192058346900255$$"
      ],
      "text/plain": [
       "<IPython.core.display.Math object>"
      ]
     },
     "metadata": {},
     "output_type": "display_data"
    },
    {
     "data": {
      "text/latex": [
       "$$0.0000283832335331738$$"
      ],
      "text/plain": [
       "<IPython.core.display.Math object>"
      ]
     },
     "metadata": {},
     "output_type": "display_data"
    },
    {
     "data": {
      "text/latex": [
       "$$0.0000320097244793329$$"
      ],
      "text/plain": [
       "<IPython.core.display.Math object>"
      ]
     },
     "metadata": {},
     "output_type": "display_data"
    },
    {
     "data": {
      "text/latex": [
       "$$0.0000473053892218104$$"
      ],
      "text/plain": [
       "<IPython.core.display.Math object>"
      ]
     },
     "metadata": {},
     "output_type": "display_data"
    }
   ],
   "source": [
    "for i in range(len(disp_eq_brakes)):\n",
    "    display(Math(latex(disp_eq_brakes [i].n())))"
   ]
  },
  {
   "cell_type": "code",
   "execution_count": 122,
   "metadata": {},
   "outputs": [
    {
     "data": {
      "text/html": [
       "<html><script type=\"math/tex; mode=display\">\\newcommand{\\Bold}[1]{\\mathbf{#1}}-0.0000535459271799272</script></html>"
      ],
      "text/plain": [
       "-0.0000535459271799272"
      ]
     },
     "execution_count": 122,
     "metadata": {},
     "output_type": "execute_result"
    }
   ],
   "source": [
    "disp_eq_s.lhs ().subs(h  == disp_eq_brakes [0] + lambda_d/64)"
   ]
  },
  {
   "cell_type": "code",
   "execution_count": 123,
   "metadata": {},
   "outputs": [
    {
     "data": {
      "image/png": "[encoded data removed]",
      "text/plain": [
       "Graphics object consisting of 6 graphics primitives"
      ]
     },
     "metadata": {},
     "output_type": "display_data"
    }
   ],
   "source": [
    "p = sage.plot.graphics.Graphics()\n",
    "ylim = 5*10^-5\n",
    "xeps = lambda_d/1024\n",
    "p += plot(disp_eq_s.lhs(), xeps, disp_eq_brakes[0])\n",
    "for i in range(len(disp_eq_brakes)-1):\n",
    "    p += plot (disp_eq_s.lhs(), disp_eq_brakes[i] + xeps, disp_eq_brakes[i+1] - xeps, ymin = -ylim, ymax = ylim)\n",
    "\n",
    "p.show()"
   ]
  },
  {
   "cell_type": "code",
   "execution_count": 124,
   "metadata": {},
   "outputs": [],
   "source": [
    "h_lst = []\n",
    "\n",
    "xeps = lambda_d/1024\n",
    "for i in range(len(disp_eq_brakes)-1):\n",
    "    try:\n",
    "        \n",
    "        h_lst += [find_root (disp_eq_s.lhs(), disp_eq_brakes[i] + xeps, disp_eq_brakes[i+1] - xeps)]\n",
    "    except  Exception as ex:\n",
    "        print(str(ex))\n",
    "        print(disp_eq_brakes[i].n())\n",
    "        print(disp_eq_brakes [i+1].n())\n",
    "\n"
   ]
  },
  {
   "cell_type": "code",
   "execution_count": 125,
   "metadata": {},
   "outputs": [
    {
     "data": {
      "text/html": [
       "<html><script type=\"math/tex; mode=display\">\\newcommand{\\Bold}[1]{\\mathbf{#1}}\\left[7.912445811917557 \\times 10^{-06}, 1.4837838458846448 \\times 10^{-05}, 2.3362398803716038 \\times 10^{-05}, 3.0227971185250063 \\times 10^{-05}, 3.823338828143392 \\times 10^{-05}\\right]</script></html>"
      ],
      "text/plain": [
       "[7.912445811917557e-06,\n",
       " 1.4837838458846448e-05,\n",
       " 2.3362398803716038e-05,\n",
       " 3.0227971185250063e-05,\n",
       " 3.823338828143392e-05]"
      ]
     },
     "execution_count": 125,
     "metadata": {},
     "output_type": "execute_result"
    }
   ],
   "source": [
    "h_lst "
   ]
  },
  {
   "cell_type": "code",
   "execution_count": 126,
   "metadata": {},
   "outputs": [],
   "source": [
    "def find_newton_root(f,x,a,b):\n",
    "    df = f.diff(x)\n",
    "    NewtonIt(x)=x-(f/df)(x)\n",
    "    \n",
    "    xn=(a+b)/2;                      # initial guess\n",
    "\n",
    "    print (xn)\n",
    "    for i in range(10):\n",
    "        xn=N(NewtonIt(xn),digits=20)\n",
    "\n",
    "        \n",
    "        print (xn)\n",
    "\n",
    "    return xn"
   ]
  },
  {
   "cell_type": "code",
   "execution_count": 127,
   "metadata": {},
   "outputs": [
    {
     "name": "stdout",
     "output_type": "stream",
     "text": [
      "7.931511372627727e-06\n",
      "7.9124430686072461745e-6\n",
      "7.9124458054833236419e-6\n",
      "7.9124458054834981307e-6\n",
      "7.9124458054834981307e-6\n",
      "7.9124458054834981307e-6\n",
      "7.9124458054834981307e-6\n",
      "7.9124458054834981307e-6\n",
      "7.9124458054834981307e-6\n",
      "7.9124458054834981307e-6\n",
      "7.9124458054834981307e-6\n",
      "(2.03780235077211e-6)*pi + 7.931511372627727e-06\n",
      "0.000014838541742404423096\n",
      "0.000014837838476370171896\n",
      "0.000014837838458871777331\n",
      "0.000014837838458871777331\n",
      "0.000014837838458871777331\n",
      "0.000014837838458871777331\n",
      "0.000014837838458871777331\n",
      "0.000014837838458871777331\n",
      "0.000014837838458871777331\n",
      "0.000014837838458871777331\n",
      "(5.04935696257304e-6)*pi + 7.931511372627727e-06\n",
      "0.000023361473217958104209\n",
      "0.000023362398537261905361\n",
      "0.000023362398568945396370\n",
      "0.000023362398568945396370\n",
      "0.000023362398568945396370\n",
      "0.000023362398568945396370\n",
      "0.000023362398568945396370\n",
      "0.000023362398568945396370\n",
      "0.000023362398568945396370\n",
      "0.000023362398568945396370\n",
      "(7.08715931334515e-6)*pi + 7.931511372627727e-06\n",
      "0.000030227979675305298077\n",
      "0.000030227971195738909094\n",
      "0.000030227971195736981247\n",
      "0.000030227971195736981247\n",
      "0.000030227971195736981247\n",
      "0.000030227971195736981247\n",
      "0.000030227971195736981247\n",
      "0.000030227971195736981247\n",
      "0.000030227971195736981247\n",
      "0.000030227971195736981247\n",
      "0.0000100987139251461*pi + 7.931511372627727e-06\n",
      "0.000038319860063625613194\n",
      "0.000038233380039062060251\n",
      "0.000038233388183861904042\n",
      "0.000038233388183862175092\n",
      "0.000038233388183862168316\n",
      "0.000038233388183862168316\n",
      "0.000038233388183862168316\n",
      "0.000038233388183862168316\n",
      "0.000038233388183862168316\n",
      "0.000038233388183862168316\n"
     ]
    },
    {
     "name": "stderr",
     "output_type": "stream",
     "text": [
      "/opt/sagemath-9.0/local/lib/python3.7/site-packages/sage/repl/ipython_kernel/__main__.py:6: DeprecationWarning: Substitution using function-call syntax and unnamed arguments is deprecated and will be removed from a future release of Sage; you can use named arguments instead, like EXPR(x=..., y=...)\n",
      "See http://trac.sagemath.org/5930 for details.\n"
     ]
    }
   ],
   "source": [
    "h_lst =[]\n",
    "\n",
    "xeps = lambda_d/1024\n",
    "for i in range(len(disp_eq_brakes)-1):\n",
    "    try:\n",
    "        h_lst += [find_newton_root (disp_eq_s.lhs(),h,disp_eq_brakes[i] + xeps, disp_eq_brakes[i+1] - xeps)]\n",
    "    except  Exception as ex:\n",
    "        print(str(ex))\n",
    "        print(disp_eq_brakes[i].n())\n",
    "        print(disp_eq_brakes [i+1].n())\n",
    "\n"
   ]
  },
  {
   "cell_type": "code",
   "execution_count": 128,
   "metadata": {},
   "outputs": [
    {
     "data": {
      "text/html": [
       "<html><script type=\"math/tex; mode=display\">\\newcommand{\\Bold}[1]{\\mathbf{#1}}\\left[7.9124458054834981307 \\times 10^{-6}, 0.000014837838458871777331, 0.000023362398568945396370, 0.000030227971195736981247, 0.000038233388183862168316\\right]</script></html>"
      ],
      "text/plain": [
       "[7.9124458054834981307e-6,\n",
       " 0.000014837838458871777331,\n",
       " 0.000023362398568945396370,\n",
       " 0.000030227971195736981247,\n",
       " 0.000038233388183862168316]"
      ]
     },
     "execution_count": 128,
     "metadata": {},
     "output_type": "execute_result"
    }
   ],
   "source": [
    "h_lst"
   ]
  },
  {
   "cell_type": "code",
   "execution_count": 129,
   "metadata": {},
   "outputs": [],
   "source": [
    "h_sol = h_lst[0]"
   ]
  },
  {
   "cell_type": "code",
   "execution_count": 130,
   "metadata": {},
   "outputs": [
    {
     "data": {
      "text/html": [
       "<html><script type=\"math/tex; mode=display\">\\newcommand{\\Bold}[1]{\\mathbf{#1}}7.9124458054834981307 \\times 10^{-6}</script></html>"
      ],
      "text/plain": [
       "7.9124458054834981307e-6"
      ]
     },
     "execution_count": 130,
     "metadata": {},
     "output_type": "execute_result"
    }
   ],
   "source": [
    "h_sol"
   ]
  },
  {
   "cell_type": "code",
   "execution_count": 131,
   "metadata": {},
   "outputs": [],
   "source": [
    "E_rho_sol = []\n",
    "for i in range(n_layers):\n",
    "    E_rho_sol += [lambda rh,ph,z,  i=i: E_rho_s[i](rh,ph,z).subs(digit_values).subs(h == h_sol).subs(omega_value).subs(kappa == kappa_d1).subs(c_value).subs(k_values_d).subs(B_z[0] == 1).subs (digit_values)]"
   ]
  },
  {
   "cell_type": "code",
   "execution_count": 132,
   "metadata": {},
   "outputs": [],
   "source": [
    "E_z_sol = []\n",
    "for i in range(n_layers):\n",
    "    E_z_sol += [lambda rh,ph,z,  i=i: E_zz_s[i](rh,ph,z).subs(digit_values).subs(h == h_sol).subs(omega_value).subs(kappa == kappa_d1).subs(c_value).subs(k_values_d).subs(B_z[0] == 1).subs (digit_values)]"
   ]
  },
  {
   "cell_type": "code",
   "execution_count": 133,
   "metadata": {},
   "outputs": [],
   "source": [
    "H_phi_sol = []\n",
    "for i in range(n_layers):\n",
    "    H_phi_sol += [lambda rh,ph,z,  i=i: H_phi_s[i](rh,ph,z).subs(digit_values).subs(h == h_sol).subs(omega_value).subs(kappa == kappa_d1).subs(c_value).subs(k_values_d).subs(B_z[0] == 1).subs (digit_values)]"
   ]
  },
  {
   "cell_type": "code",
   "execution_count": 134,
   "metadata": {},
   "outputs": [
    {
     "data": {
      "text/html": [
       "<html><script type=\"math/tex; mode=display\">\\newcommand{\\Bold}[1]{\\mathbf{#1}}\\left[-304278.405511409 \\, {\\left(4.989966927787485 \\, \\cos\\left(166027.206692757 \\, z\\right) - 2.81895980052769 \\, \\sin\\left(166027.206692757 \\, z\\right)\\right)} J_{1}(0.20040212980798106 \\, \\rho), -304278.405511409 \\, {\\left(4.989966927787485 \\, \\cos\\left(166027.206692757 \\, z\\right) - 2.81895980052769 \\, \\sin\\left(166027.206692757 \\, z\\right)\\right)} J_{1}(0.20040212980798106 \\, \\rho), -304278.405511409 \\, {\\left(4.989966927787485 \\, \\cos\\left(166027.206692757 \\, z\\right) - 2.81895980052769 \\, \\sin\\left(166027.206692757 \\, z\\right)\\right)} J_{1}(0.20040212980798106 \\, \\rho), -304278.405511409 \\, {\\left(4.989966927787485 \\, \\cos\\left(166027.206692757 \\, z\\right) - 2.81895980052769 \\, \\sin\\left(166027.206692757 \\, z\\right)\\right)} J_{1}(0.20040212980798106 \\, \\rho), -304278.405511409 \\, {\\left(4.989966927787485 \\, \\cos\\left(166027.206692757 \\, z\\right) - 2.81895980052769 \\, \\sin\\left(166027.206692757 \\, z\\right)\\right)} J_{1}(0.20040212980798106 \\, \\rho), -304278.405511409 \\, {\\left(4.989966927787485 \\, \\cos\\left(166027.206692757 \\, z\\right) - 2.81895980052769 \\, \\sin\\left(166027.206692757 \\, z\\right)\\right)} J_{1}(0.20040212980798106 \\, \\rho), -304278.405511409 \\, {\\left(4.989966927787485 \\, \\cos\\left(166027.206692757 \\, z\\right) - 2.81895980052769 \\, \\sin\\left(166027.206692757 \\, z\\right)\\right)} J_{1}(0.20040212980798106 \\, \\rho), -304278.405511409 \\, {\\left(4.989966927787485 \\, \\cos\\left(166027.206692757 \\, z\\right) - 2.81895980052769 \\, \\sin\\left(166027.206692757 \\, z\\right)\\right)} J_{1}(0.20040212980798106 \\, \\rho), -304278.405511409 \\, {\\left(4.989966927787485 \\, \\cos\\left(166027.206692757 \\, z\\right) - 2.81895980052769 \\, \\sin\\left(166027.206692757 \\, z\\right)\\right)} J_{1}(0.20040212980798106 \\, \\rho), -304278.405511409 \\, {\\left(4.989966927787485 \\, \\cos\\left(166027.206692757 \\, z\\right) - 2.81895980052769 \\, \\sin\\left(166027.206692757 \\, z\\right)\\right)} J_{1}(0.20040212980798106 \\, \\rho), -304278.405511409 \\, {\\left(4.989966927787485 \\, \\cos\\left(166027.206692757 \\, z\\right) - 2.81895980052769 \\, \\sin\\left(166027.206692757 \\, z\\right)\\right)} J_{1}(0.20040212980798106 \\, \\rho), -304278.405511409 \\, {\\left(4.989966927787485 \\, \\cos\\left(166027.206692757 \\, z\\right) - 2.81895980052769 \\, \\sin\\left(166027.206692757 \\, z\\right)\\right)} J_{1}(0.20040212980798106 \\, \\rho), -304278.405511409 \\, {\\left(4.989966927787485 \\, \\cos\\left(166027.206692757 \\, z\\right) - 2.81895980052769 \\, \\sin\\left(166027.206692757 \\, z\\right)\\right)} J_{1}(0.20040212980798106 \\, \\rho)\\right]</script></html>"
      ],
      "text/plain": [
       "[-304278.405511409*(4.989966927787485*cos(166027.206692757*z) - 2.81895980052769*sin(166027.206692757*z))*bessel_J(1, 0.20040212980798106*rho),\n",
       " -304278.405511409*(4.989966927787485*cos(166027.206692757*z) - 2.81895980052769*sin(166027.206692757*z))*bessel_J(1, 0.20040212980798106*rho),\n",
       " -304278.405511409*(4.989966927787485*cos(166027.206692757*z) - 2.81895980052769*sin(166027.206692757*z))*bessel_J(1, 0.20040212980798106*rho),\n",
       " -304278.405511409*(4.989966927787485*cos(166027.206692757*z) - 2.81895980052769*sin(166027.206692757*z))*bessel_J(1, 0.20040212980798106*rho),\n",
       " -304278.405511409*(4.989966927787485*cos(166027.206692757*z) - 2.81895980052769*sin(166027.206692757*z))*bessel_J(1, 0.20040212980798106*rho),\n",
       " -304278.405511409*(4.989966927787485*cos(166027.206692757*z) - 2.81895980052769*sin(166027.206692757*z))*bessel_J(1, 0.20040212980798106*rho),\n",
       " -304278.405511409*(4.989966927787485*cos(166027.206692757*z) - 2.81895980052769*sin(166027.206692757*z))*bessel_J(1, 0.20040212980798106*rho),\n",
       " -304278.405511409*(4.989966927787485*cos(166027.206692757*z) - 2.81895980052769*sin(166027.206692757*z))*bessel_J(1, 0.20040212980798106*rho),\n",
       " -304278.405511409*(4.989966927787485*cos(166027.206692757*z) - 2.81895980052769*sin(166027.206692757*z))*bessel_J(1, 0.20040212980798106*rho),\n",
       " -304278.405511409*(4.989966927787485*cos(166027.206692757*z) - 2.81895980052769*sin(166027.206692757*z))*bessel_J(1, 0.20040212980798106*rho),\n",
       " -304278.405511409*(4.989966927787485*cos(166027.206692757*z) - 2.81895980052769*sin(166027.206692757*z))*bessel_J(1, 0.20040212980798106*rho),\n",
       " -304278.405511409*(4.989966927787485*cos(166027.206692757*z) - 2.81895980052769*sin(166027.206692757*z))*bessel_J(1, 0.20040212980798106*rho),\n",
       " -304278.405511409*(4.989966927787485*cos(166027.206692757*z) - 2.81895980052769*sin(166027.206692757*z))*bessel_J(1, 0.20040212980798106*rho)]"
      ]
     },
     "execution_count": 134,
     "metadata": {},
     "output_type": "execute_result"
    }
   ],
   "source": [
    "[E_rho_sol [1](rho,ph,z) for rho in [0..12]]"
   ]
  },
  {
   "cell_type": "code",
   "execution_count": null,
   "metadata": {},
   "outputs": [],
   "source": []
  },
  {
   "cell_type": "code",
   "execution_count": null,
   "metadata": {},
   "outputs": [],
   "source": []
  },
  {
   "cell_type": "code",
   "execution_count": 135,
   "metadata": {},
   "outputs": [
    {
     "data": {
      "image/png": "[encoded data removed]",
      "text/plain": [
       "Graphics object consisting of 26 graphics primitives"
      ]
     },
     "metadata": {},
     "output_type": "display_data"
    }
   ],
   "source": [
    "p = sage.plot.graphics.Graphics()\n",
    "\n",
    "for i in range(n_layers):\n",
    "    p += plot ([E_rho_sol[i](rh,ph,z).subs(rh == rho) for rho in [0..12]],(z, i*h_sol, (i+1)*h_sol))\n",
    "p.show ()\n"
   ]
  },
  {
   "cell_type": "code",
   "execution_count": 136,
   "metadata": {},
   "outputs": [
    {
     "data": {
      "image/png": "[encoded data removed]",
      "text/plain": [
       "Graphics object consisting of 26 graphics primitives"
      ]
     },
     "metadata": {},
     "output_type": "display_data"
    }
   ],
   "source": [
    "p = sage.plot.graphics.Graphics()\n",
    "\n",
    "for i in range(n_layers):\n",
    "    p += plot ([E_z_sol[i](rh,ph,z).subs(rh == rho) for rho in [0..12]],(z, i*h_sol, (i+1)*h_sol))\n",
    "p.show ()\n"
   ]
  },
  {
   "cell_type": "code",
   "execution_count": 137,
   "metadata": {},
   "outputs": [
    {
     "data": {
      "image/png": "[encoded data removed]",
      "text/plain": [
       "Graphics object consisting of 26 graphics primitives"
      ]
     },
     "metadata": {},
     "output_type": "display_data"
    }
   ],
   "source": [
    "p = sage.plot.graphics.Graphics()\n",
    "\n",
    "for i in range(n_layers):\n",
    "    p += plot ([epsilon_d[i]*E_z_sol[i](rh,ph,z).subs(rh == rho) for rho in [0..12]],(z, i*h_sol, (i+1)*h_sol))\n",
    "p.show ()"
   ]
  },
  {
   "cell_type": "code",
   "execution_count": 139,
   "metadata": {},
   "outputs": [
    {
     "data": {
      "image/png": "[encoded data removed]",
      "text/plain": [
       "Graphics object consisting of 26 graphics primitives"
      ]
     },
     "metadata": {},
     "output_type": "display_data"
    }
   ],
   "source": [
    "p = sage.plot.graphics.Graphics()\n",
    "\n",
    "for i in range(n_layers):\n",
    "    p += plot ([H_phi_sol[i](rh,ph,z).subs(rh == rho).imag_part() for rho in [0..12]],(z, i*h_sol, (i+1)*h_sol))\n",
    "p.show ()\n"
   ]
  },
  {
   "cell_type": "code",
   "execution_count": null,
   "metadata": {},
   "outputs": [],
   "source": []
  },
  {
   "cell_type": "code",
   "execution_count": null,
   "metadata": {},
   "outputs": [],
   "source": []
  },
  {
   "cell_type": "code",
   "execution_count": null,
   "metadata": {},
   "outputs": [],
   "source": []
  },
  {
   "cell_type": "code",
   "execution_count": null,
   "metadata": {},
   "outputs": [],
   "source": [
    "exclude_vars = []"
   ]
  },
  {
   "cell_type": "code",
   "execution_count": null,
   "metadata": {},
   "outputs": [],
   "source": [
    "res_rot_H"
   ]
  },
  {
   "cell_type": "code",
   "execution_count": null,
   "metadata": {},
   "outputs": [],
   "source": []
  }
 ],
 "metadata": {
  "kernelspec": {
   "display_name": "SageMath 9.0",
   "language": "sage",
   "name": "sagemath"
  },
  "language_info": {
   "codemirror_mode": {
    "name": "ipython",
    "version": 3
   },
   "file_extension": ".py",
   "mimetype": "text/x-python",
   "name": "python",
   "nbconvert_exporter": "python",
   "pygments_lexer": "ipython3",
   "version": "3.7.3"
  }
 },
 "nbformat": 4,
 "nbformat_minor": 4
}
