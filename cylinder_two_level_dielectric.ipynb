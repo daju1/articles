{
 "cells": [
  {
   "cell_type": "code",
   "execution_count": 1,
   "metadata": {},
   "outputs": [],
   "source": [
    "# %display latex"
   ]
  },
  {
   "cell_type": "code",
   "execution_count": 2,
   "metadata": {},
   "outputs": [],
   "source": [
    "from IPython.display import display, Math, Latex"
   ]
  },
  {
   "cell_type": "code",
   "execution_count": 3,
   "metadata": {},
   "outputs": [],
   "source": [
    "kappa = var(\"kappa\")\n",
    "\n",
    "z = var(\"z\")\n",
    "rh = var(\"rho\")\n",
    "ph = var(\"varphi\")\n",
    "\n",
    "c = var(\"c\")\n",
    "omega = var(\"omega\")\n",
    "\n",
    "h = var(\"h\")\n",
    "a = var(\"a\")\n",
    "\n",
    "m = var(\"m\")\n",
    "m_val = 0"
   ]
  },
  {
   "cell_type": "code",
   "execution_count": 4,
   "metadata": {},
   "outputs": [],
   "source": [
    "n_layers = 2"
   ]
  },
  {
   "cell_type": "code",
   "execution_count": 5,
   "metadata": {},
   "outputs": [],
   "source": [
    "mu = []\n",
    "for i in range(n_layers):\n",
    "    exec(\"mu_\" + str(i) + \"= var('mu_\" + str(i) + \"')\")\n",
    "    exec(\"mu += [mu_\" + str(i) +\"]\")"
   ]
  },
  {
   "cell_type": "code",
   "execution_count": 6,
   "metadata": {},
   "outputs": [],
   "source": [
    "epsilon = []\n",
    "for i in range(n_layers):\n",
    "    exec(\"epsilon_\" + str(i) + \"= var('epsilon_\" + str(i) + \"')\")\n",
    "    exec(\"epsilon += [epsilon_\" + str(i) +\"]\")"
   ]
  },
  {
   "cell_type": "code",
   "execution_count": 7,
   "metadata": {},
   "outputs": [],
   "source": [
    "A_z = []\n",
    "for i in range(n_layers):\n",
    "    exec(\"A_z_\" + str(i) + \"= var('A_z_\" + str(i) + \"')\")\n",
    "    exec(\"A_z += [A_z_\" + str(i) +\"]\")"
   ]
  },
  {
   "cell_type": "code",
   "execution_count": 8,
   "metadata": {},
   "outputs": [],
   "source": [
    "A_r = []\n",
    "for i in range(n_layers):\n",
    "    exec(\"A_r_\" + str(i) + \"= var('A_r_\" + str(i) + \"')\")\n",
    "    exec(\"A_r += [A_r_\" + str(i) +\"]\")"
   ]
  },
  {
   "cell_type": "code",
   "execution_count": 9,
   "metadata": {},
   "outputs": [],
   "source": [
    "A_p = []\n",
    "for i in range(n_layers):\n",
    "    exec(\"A_p_\" + str(i) + \"= var('A_phi_\" + str(i) + \"')\")\n",
    "    exec(\"A_p += [A_p_\" + str(i) +\"]\")"
   ]
  },
  {
   "cell_type": "code",
   "execution_count": 10,
   "metadata": {},
   "outputs": [
    {
     "data": {
      "text/plain": [
       "([A_z_0, A_z_1], [A_r_0, A_r_1], [A_phi_0, A_phi_1])"
      ]
     },
     "execution_count": 10,
     "metadata": {},
     "output_type": "execute_result"
    }
   ],
   "source": [
    "A_z,A_r,A_p"
   ]
  },
  {
   "cell_type": "code",
   "execution_count": 11,
   "metadata": {},
   "outputs": [],
   "source": [
    "B_z = []\n",
    "for i in range(n_layers):\n",
    "    exec(\"B_z_\" + str(i) + \"= var('B_z_\" + str(i) + \"')\")\n",
    "    exec(\"B_z += [B_z_\" + str(i) +\"]\")"
   ]
  },
  {
   "cell_type": "code",
   "execution_count": 12,
   "metadata": {},
   "outputs": [],
   "source": [
    "B_r = []\n",
    "for i in range(n_layers):\n",
    "    exec(\"B_r_\" + str(i) + \"= var('B_r_\" + str(i) + \"')\")\n",
    "    exec(\"B_r += [B_r_\" + str(i) +\"]\")"
   ]
  },
  {
   "cell_type": "code",
   "execution_count": 13,
   "metadata": {},
   "outputs": [],
   "source": [
    "B_p = []\n",
    "for i in range(n_layers):\n",
    "    exec(\"B_p_\" + str(i) + \"= var('B_phi_\" + str(i) + \"')\")\n",
    "    exec(\"B_p += [B_p_\" + str(i) +\"]\")"
   ]
  },
  {
   "cell_type": "code",
   "execution_count": 14,
   "metadata": {},
   "outputs": [
    {
     "data": {
      "text/plain": [
       "([B_z_0, B_z_1], [B_r_0, B_r_1], [B_phi_0, B_phi_1])"
      ]
     },
     "execution_count": 14,
     "metadata": {},
     "output_type": "execute_result"
    }
   ],
   "source": [
    "B_z,B_r,B_p"
   ]
  },
  {
   "cell_type": "code",
   "execution_count": 15,
   "metadata": {},
   "outputs": [],
   "source": [
    "C_z = []\n",
    "for i in range(n_layers):\n",
    "    exec(\"C_z_\" + str(i) + \"= var('C_z_\" + str(i) + \"')\")\n",
    "    exec(\"C_z += [C_z_\" + str(i) +\"]\")"
   ]
  },
  {
   "cell_type": "code",
   "execution_count": 16,
   "metadata": {},
   "outputs": [],
   "source": [
    "C_r = []\n",
    "for i in range(n_layers):\n",
    "    exec(\"C_r_\" + str(i) + \"= var('C_r_\" + str(i) + \"')\")\n",
    "    exec(\"C_r += [C_r_\" + str(i) +\"]\")"
   ]
  },
  {
   "cell_type": "code",
   "execution_count": 17,
   "metadata": {},
   "outputs": [],
   "source": [
    "C_p = []\n",
    "for i in range(n_layers):\n",
    "    exec(\"C_p_\" + str(i) + \"= var('C_p_\" + str(i) + \"')\")\n",
    "    exec(\"C_p += [C_p_\" + str(i) +\"]\")"
   ]
  },
  {
   "cell_type": "code",
   "execution_count": 18,
   "metadata": {},
   "outputs": [],
   "source": [
    "D_z = []\n",
    "for i in range(n_layers):\n",
    "    exec(\"D_z_\" + str(i) + \"= var('D_z_\" + str(i) + \"')\")\n",
    "    exec(\"D_z += [D_z_\" + str(i) +\"]\")"
   ]
  },
  {
   "cell_type": "code",
   "execution_count": 19,
   "metadata": {},
   "outputs": [],
   "source": [
    "D_r = []\n",
    "for i in range(n_layers):\n",
    "    exec(\"D_r_\" + str(i) + \"= var('D_r_\" + str(i) + \"')\")\n",
    "    exec(\"D_r += [D_r_\" + str(i) +\"]\")"
   ]
  },
  {
   "cell_type": "code",
   "execution_count": 20,
   "metadata": {},
   "outputs": [],
   "source": [
    "D_p = []\n",
    "for i in range(n_layers):\n",
    "    exec(\"D_p_\" + str(i) + \"= var('D_p_\" + str(i) + \"')\")\n",
    "    exec(\"D_p += [D_p_\" + str(i) +\"]\")"
   ]
  },
  {
   "cell_type": "code",
   "execution_count": 21,
   "metadata": {},
   "outputs": [],
   "source": [
    "k = []\n",
    "for i in range(n_layers):\n",
    "    exec(\"k_\" + str(i) + \"= var('k_\" + str(i) + \"')\")\n",
    "    exec(\"k += [k_\" + str(i) +\"]\")"
   ]
  },
  {
   "cell_type": "code",
   "execution_count": 22,
   "metadata": {},
   "outputs": [
    {
     "data": {
      "text/latex": [
       "$$\\left[-k_{0}^{2} + \\frac{\\epsilon_{0} \\mu_{0} \\omega^{2}}{c^{2}} = \\kappa^{2}, -k_{1}^{2} + \\frac{\\epsilon_{1} \\mu_{1} \\omega^{2}}{c^{2}} = \\kappa^{2}\\right]$$"
      ],
      "text/plain": [
       "<IPython.core.display.Math object>"
      ]
     },
     "metadata": {},
     "output_type": "display_data"
    }
   ],
   "source": [
    "# исходя из вида дифференциальных уравнений для диэлектрика\n",
    "# записываем соотнощения для волнового вектора в виде уравнений\n",
    "eq_kappa = []\n",
    "for i in range(n_layers):\n",
    "    eq_kappa += [mu[i] * epsilon[i] * omega^2 / c^2 - k[i]^2 == kappa^2]\n",
    "\n",
    "display(Math(latex(eq_kappa)))"
   ]
  },
  {
   "cell_type": "code",
   "execution_count": 23,
   "metadata": {},
   "outputs": [],
   "source": [
    "#E_r = []\n",
    "E_r_r = []\n",
    "#E_r_p = []\n",
    "for i in range(n_layers):\n",
    "    exec(\"Erh_r_\" + str(i) + \" = function('E_r_r\" + str(i) + \"', nargs=1)\")\n",
    "    #exec(\"Erh_p_\" + str(i) + \" = function('E_r_p\" + str(i) + \"', nargs=1)\")\n",
    "    #exec(\"E_r   += [Erh_r_\" + str(i) +\"(rh)*(C_r[i]*cos(m*ph)+D_r[i]*sin(m*ph))]\")\n",
    "    exec(\"E_r_r += [Erh_r_\" + str(i) +\"(rh)]\")\n",
    "    #exec(\"E_r_p += [Erh_p_\" + str(i) +\"(ph)]\")"
   ]
  },
  {
   "cell_type": "code",
   "execution_count": 24,
   "metadata": {},
   "outputs": [],
   "source": [
    "#E_p = []\n",
    "#E_p_r = []\n",
    "E_p_p = []\n",
    "for i in range(n_layers):\n",
    "    #exec(\"Eph_r_\" + str(i) + \" = function('E_p_r\" + str(i) + \"', nargs=1)\")\n",
    "    exec(\"Eph_p_\" + str(i) + \" = function('E_p_p\" + str(i) + \"', nargs=1)\")\n",
    "    #exec(\"E_p   += [Eph_r_\" + str(i) +\"(rh)*(C_p[i]*cos(m*ph)+D_p[i]*sin(m*ph))]\")\n",
    "    #exec(\"E_p_r += [Eph_r_\" + str(i) +\"(rh)]\")\n",
    "    exec(\"E_p_p += [Eph_p_\" + str(i) +\"(ph)]\")"
   ]
  },
  {
   "cell_type": "code",
   "execution_count": 25,
   "metadata": {},
   "outputs": [],
   "source": [
    "E_rh = []\n",
    "for i in range(n_layers):\n",
    "    # E_rh += [lambda rh,ph,z, i=i: E_r_r[i](rh=rh)*(B_r[i]*sin(k[i]*z)+A_r[i]*cos(k[i]*z))*(C_r[i]*cos(m*ph)+D_r[i]*sin(m*ph))]\n",
    "    E_rh += [lambda rh,ph,z, i=i: E_r_r[i](rh=rh)*(A_r[i]*cos(k[i]*z) + B_r[i]*sin(k[i]*z)) * cos(m*ph)]"
   ]
  },
  {
   "cell_type": "code",
   "execution_count": 26,
   "metadata": {},
   "outputs": [],
   "source": [
    "E_ph = []\n",
    "for i in range(n_layers):\n",
    "    #E_ph += [lambda rh,ph,z, i=i: bessel_J(m,kappa*rh)*(B_p[i]*sin(k[i]*z)+A_p[i]*cos(k[i]*z))*(C_p[i]*cos(m*ph)+D_p[i]*sin(m*ph))]\n",
    "    E_ph += [lambda rh,ph,z, i=i: bessel_J(m,kappa*rh)*(A_p[i]*cos(k[i]*z) + B_p[i]*sin(k[i]*z)) * sin(m*ph)]"
   ]
  },
  {
   "cell_type": "code",
   "execution_count": 27,
   "metadata": {},
   "outputs": [
    {
     "data": {
      "text/plain": [
       "(A_r_0*cos(k_0*z) + B_r_0*sin(k_0*z))*E_r_r0(rho)*cos(m*varphi)"
      ]
     },
     "execution_count": 27,
     "metadata": {},
     "output_type": "execute_result"
    }
   ],
   "source": [
    "E_rh[0](rh,ph,z)"
   ]
  },
  {
   "cell_type": "code",
   "execution_count": 28,
   "metadata": {},
   "outputs": [
    {
     "data": {
      "text/plain": [
       "(A_phi_0*cos(k_0*z) + B_phi_0*sin(k_0*z))*bessel_J(m, kappa*rho)*sin(m*varphi)"
      ]
     },
     "execution_count": 28,
     "metadata": {},
     "output_type": "execute_result"
    }
   ],
   "source": [
    "E_ph[0](rh,ph,z)"
   ]
  },
  {
   "cell_type": "code",
   "execution_count": 29,
   "metadata": {},
   "outputs": [
    {
     "data": {
      "text/plain": [
       "(A_r_1*cos(k_1*z) + B_r_1*sin(k_1*z))*E_r_r1(rho)*cos(m*varphi)"
      ]
     },
     "execution_count": 29,
     "metadata": {},
     "output_type": "execute_result"
    }
   ],
   "source": [
    "E_rh[1](rh,ph,z)"
   ]
  },
  {
   "cell_type": "code",
   "execution_count": 30,
   "metadata": {},
   "outputs": [
    {
     "data": {
      "text/plain": [
       "(A_phi_1*cos(k_1*z) + B_phi_1*sin(k_1*z))*bessel_J(m, kappa*rho)*sin(m*varphi)"
      ]
     },
     "execution_count": 30,
     "metadata": {},
     "output_type": "execute_result"
    }
   ],
   "source": [
    "E_ph[1](rh,ph,z)"
   ]
  },
  {
   "cell_type": "code",
   "execution_count": 31,
   "metadata": {},
   "outputs": [],
   "source": [
    "E_z = []\n",
    "for i in range(n_layers):\n",
    "    # E_z += [lambda rh,ph,z, i=i: bessel_J(m,kappa*rh)*(A_z[i]*cos(k[i]*z)+B_z[i]*sin(k[i]*z))*(C_z[i]*cos(m*ph)+D_z[i]*sin(m*ph))]\n",
    "    E_z += [lambda rh,ph,z, i=i: bessel_J(m,kappa*rh)*(A_z[i]*cos(k[i]*z) + B_z[i]*sin(k[i]*z)) * cos(m*ph)]"
   ]
  },
  {
   "cell_type": "code",
   "execution_count": 32,
   "metadata": {},
   "outputs": [
    {
     "data": {
      "text/plain": [
       "(A_z_0*cos(k_0*z) + B_z_0*sin(k_0*z))*bessel_J(m, kappa*rho)*cos(m*varphi)"
      ]
     },
     "execution_count": 32,
     "metadata": {},
     "output_type": "execute_result"
    }
   ],
   "source": [
    "E_z[0](rh,ph,z)"
   ]
  },
  {
   "cell_type": "code",
   "execution_count": 33,
   "metadata": {
    "scrolled": true
   },
   "outputs": [
    {
     "data": {
      "text/plain": [
       "(A_z_1*cos(k_1*z) + B_z_1*sin(k_1*z))*bessel_J(m, kappa*rho)*cos(m*varphi)"
      ]
     },
     "execution_count": 33,
     "metadata": {},
     "output_type": "execute_result"
    }
   ],
   "source": [
    "E_z[1](rh,ph,z)"
   ]
  },
  {
   "cell_type": "code",
   "execution_count": 34,
   "metadata": {},
   "outputs": [],
   "source": [
    "rotE_rh = []\n",
    "for i in range(n_layers):\n",
    "    exec(preparse(\"rotE_rh += [lambda rh,ph,z, i=i: \" + str(E_z[i](rh,ph,z).diff(ph)/rh - E_ph[i](rh,ph,z).diff(z)) +\"]\"))"
   ]
  },
  {
   "cell_type": "code",
   "execution_count": 35,
   "metadata": {},
   "outputs": [],
   "source": [
    "rotE_ph = []\n",
    "for i in range(n_layers):\n",
    "    exec(preparse(\"rotE_ph += [lambda rh,ph,z, i=i: \" + str(E_rh[i](rh,ph,z).diff(z)-E_z[i](rh,ph,z).diff(rh)) +\"]\"))"
   ]
  },
  {
   "cell_type": "code",
   "execution_count": 36,
   "metadata": {},
   "outputs": [],
   "source": [
    "rotE_z = []\n",
    "for i in range(n_layers):\n",
    "    exec(preparse(\"rotE_z += [lambda rh,ph,z, i=i: \" + str((rh*E_ph[i](rh,ph,z)).diff(rh) - E_rh[i](rh,ph,z).diff(ph)) +\"]\"))"
   ]
  },
  {
   "cell_type": "code",
   "execution_count": 37,
   "metadata": {
    "scrolled": true
   },
   "outputs": [
    {
     "data": {
      "text/plain": [
       "1/2*(A_z_0*cos(k_0*z) + B_z_0*sin(k_0*z))*kappa*(bessel_J(m + 1, kappa*rho) - bessel_J(m - 1, kappa*rho))*cos(m*varphi) + (B_r_0*k_0*cos(k_0*z) - A_r_0*k_0*sin(k_0*z))*E_r_r0(rho)*cos(m*varphi)"
      ]
     },
     "execution_count": 37,
     "metadata": {},
     "output_type": "execute_result"
    }
   ],
   "source": [
    "rotE_ph[0](rh,ph,z)"
   ]
  },
  {
   "cell_type": "code",
   "execution_count": 38,
   "metadata": {},
   "outputs": [
    {
     "data": {
      "text/plain": [
       "1/2*(A_z_1*cos(k_1*z) + B_z_1*sin(k_1*z))*kappa*(bessel_J(m + 1, kappa*rho) - bessel_J(m - 1, kappa*rho))*cos(m*varphi) + (B_r_1*k_1*cos(k_1*z) - A_r_1*k_1*sin(k_1*z))*E_r_r1(rho)*cos(m*varphi)"
      ]
     },
     "execution_count": 38,
     "metadata": {},
     "output_type": "execute_result"
    }
   ],
   "source": [
    "rotE_ph[1](rh,ph,z)"
   ]
  },
  {
   "cell_type": "code",
   "execution_count": 39,
   "metadata": {},
   "outputs": [
    {
     "data": {
      "text/plain": [
       "-(B_phi_0*k_0*cos(k_0*z) - A_phi_0*k_0*sin(k_0*z))*bessel_J(m, kappa*rho)*sin(m*varphi) - (A_z_0*cos(k_0*z) + B_z_0*sin(k_0*z))*m*bessel_J(m, kappa*rho)*sin(m*varphi)/rho"
      ]
     },
     "execution_count": 39,
     "metadata": {},
     "output_type": "execute_result"
    }
   ],
   "source": [
    "rotE_rh[0](rh,ph,z)"
   ]
  },
  {
   "cell_type": "code",
   "execution_count": 40,
   "metadata": {},
   "outputs": [
    {
     "data": {
      "text/plain": [
       "-1/2*(A_phi_0*cos(k_0*z) + B_phi_0*sin(k_0*z))*kappa*rho*(bessel_J(m + 1, kappa*rho) - bessel_J(m - 1, kappa*rho))*sin(m*varphi) + (A_r_0*cos(k_0*z) + B_r_0*sin(k_0*z))*m*E_r_r0(rho)*sin(m*varphi) + (A_phi_0*cos(k_0*z) + B_phi_0*sin(k_0*z))*bessel_J(m, kappa*rho)*sin(m*varphi)"
      ]
     },
     "execution_count": 40,
     "metadata": {},
     "output_type": "execute_result"
    }
   ],
   "source": [
    "rotE_z[0](rh,ph,z)"
   ]
  },
  {
   "cell_type": "code",
   "execution_count": 41,
   "metadata": {},
   "outputs": [],
   "source": [
    "H_rh = []\n",
    "for i in range(n_layers):\n",
    "    H_rh += [lambda rh,ph,z, i=i : rotE_rh[i](rh,ph,z)*c/(I*omega *mu[i])]"
   ]
  },
  {
   "cell_type": "code",
   "execution_count": 42,
   "metadata": {},
   "outputs": [],
   "source": [
    "H_ph = []\n",
    "for i in range(n_layers):\n",
    "    H_ph += [lambda rh,ph,z, i=i : rotE_ph[i](rh,ph,z)*c/(I*omega *mu[i])]"
   ]
  },
  {
   "cell_type": "code",
   "execution_count": 43,
   "metadata": {},
   "outputs": [],
   "source": [
    "H_z = []\n",
    "for i in range(n_layers):\n",
    "    H_z += [lambda rh,ph,z, i=i : rotE_z[i](rh,ph,z)*c/(I*omega *mu[i])]"
   ]
  },
  {
   "cell_type": "code",
   "execution_count": 44,
   "metadata": {},
   "outputs": [
    {
     "data": {
      "text/plain": [
       "I*((B_phi_0*k_0*cos(k_0*z) - A_phi_0*k_0*sin(k_0*z))*bessel_J(m, kappa*rho)*sin(m*varphi) + (A_z_0*cos(k_0*z) + B_z_0*sin(k_0*z))*m*bessel_J(m, kappa*rho)*sin(m*varphi)/rho)*c/(mu_0*omega)"
      ]
     },
     "execution_count": 44,
     "metadata": {},
     "output_type": "execute_result"
    }
   ],
   "source": [
    "H_rh[0](rh,ph,z)"
   ]
  },
  {
   "cell_type": "code",
   "execution_count": 45,
   "metadata": {},
   "outputs": [
    {
     "data": {
      "text/plain": [
       "I*((B_phi_1*k_1*cos(k_1*z) - A_phi_1*k_1*sin(k_1*z))*bessel_J(m, kappa*rho)*sin(m*varphi) + (A_z_1*cos(k_1*z) + B_z_1*sin(k_1*z))*m*bessel_J(m, kappa*rho)*sin(m*varphi)/rho)*c/(mu_1*omega)"
      ]
     },
     "execution_count": 45,
     "metadata": {},
     "output_type": "execute_result"
    }
   ],
   "source": [
    "H_rh[1](rh,ph,z)"
   ]
  },
  {
   "cell_type": "code",
   "execution_count": 46,
   "metadata": {
    "scrolled": true
   },
   "outputs": [
    {
     "data": {
      "text/plain": [
       "-1/2*I*((A_z_0*cos(k_0*z) + B_z_0*sin(k_0*z))*kappa*(bessel_J(m + 1, kappa*rho) - bessel_J(m - 1, kappa*rho))*cos(m*varphi) + 2*(B_r_0*k_0*cos(k_0*z) - A_r_0*k_0*sin(k_0*z))*E_r_r0(rho)*cos(m*varphi))*c/(mu_0*omega)"
      ]
     },
     "execution_count": 46,
     "metadata": {},
     "output_type": "execute_result"
    }
   ],
   "source": [
    "H_ph[0](rh,ph,z)"
   ]
  },
  {
   "cell_type": "code",
   "execution_count": 47,
   "metadata": {},
   "outputs": [
    {
     "data": {
      "text/plain": [
       "-1/2*I*((A_z_1*cos(k_1*z) + B_z_1*sin(k_1*z))*kappa*(bessel_J(m + 1, kappa*rho) - bessel_J(m - 1, kappa*rho))*cos(m*varphi) + 2*(B_r_1*k_1*cos(k_1*z) - A_r_1*k_1*sin(k_1*z))*E_r_r1(rho)*cos(m*varphi))*c/(mu_1*omega)"
      ]
     },
     "execution_count": 47,
     "metadata": {},
     "output_type": "execute_result"
    }
   ],
   "source": [
    "H_ph[1](rh,ph,z)"
   ]
  },
  {
   "cell_type": "code",
   "execution_count": 48,
   "metadata": {},
   "outputs": [
    {
     "data": {
      "text/plain": [
       "1/2*I*((A_phi_0*cos(k_0*z) + B_phi_0*sin(k_0*z))*kappa*rho*(bessel_J(m + 1, kappa*rho) - bessel_J(m - 1, kappa*rho))*sin(m*varphi) - 2*(A_r_0*cos(k_0*z) + B_r_0*sin(k_0*z))*m*E_r_r0(rho)*sin(m*varphi) - 2*(A_phi_0*cos(k_0*z) + B_phi_0*sin(k_0*z))*bessel_J(m, kappa*rho)*sin(m*varphi))*c/(mu_0*omega)"
      ]
     },
     "execution_count": 48,
     "metadata": {},
     "output_type": "execute_result"
    }
   ],
   "source": [
    "H_z[0](rh,ph,z)"
   ]
  },
  {
   "cell_type": "code",
   "execution_count": 49,
   "metadata": {},
   "outputs": [
    {
     "data": {
      "text/plain": [
       "1/2*I*((A_phi_1*cos(k_1*z) + B_phi_1*sin(k_1*z))*kappa*rho*(bessel_J(m + 1, kappa*rho) - bessel_J(m - 1, kappa*rho))*sin(m*varphi) - 2*(A_r_1*cos(k_1*z) + B_r_1*sin(k_1*z))*m*E_r_r1(rho)*sin(m*varphi) - 2*(A_phi_1*cos(k_1*z) + B_phi_1*sin(k_1*z))*bessel_J(m, kappa*rho)*sin(m*varphi))*c/(mu_1*omega)"
      ]
     },
     "execution_count": 49,
     "metadata": {},
     "output_type": "execute_result"
    }
   ],
   "source": [
    "H_z[1](rh,ph,z)"
   ]
  },
  {
   "cell_type": "code",
   "execution_count": 50,
   "metadata": {},
   "outputs": [
    {
     "data": {
      "text/latex": [
       "$$\\left[A_{r_{0}} E_{r_{r_{0}}}\\left(\\rho\\right) \\cos\\left(m \\varphi\\right) = 0.000000000000000, {\\left(A_{r_{1}} \\cos\\left(2 \\, h k_{1}\\right) + B_{r_{1}} \\sin\\left(2 \\, h k_{1}\\right)\\right)} E_{r_{r_{1}}}\\left(\\rho\\right) \\cos\\left(m \\varphi\\right) = 0.000000000000000\\right]$$"
      ],
      "text/plain": [
       "<IPython.core.display.Math object>"
      ]
     },
     "metadata": {},
     "output_type": "display_data"
    },
    {
     "data": {
      "text/latex": [
       "$$\\left[A_{\\phi_{0}} J_{m}(\\kappa \\rho) \\sin\\left(m \\varphi\\right) = 0.000000000000000, {\\left(A_{\\phi_{1}} \\cos\\left(2 \\, h k_{1}\\right) + B_{\\phi_{1}} \\sin\\left(2 \\, h k_{1}\\right)\\right)} J_{m}(\\kappa \\rho) \\sin\\left(m \\varphi\\right) = 0.000000000000000\\right]$$"
      ],
      "text/plain": [
       "<IPython.core.display.Math object>"
      ]
     },
     "metadata": {},
     "output_type": "display_data"
    },
    {
     "data": {
      "text/latex": [
       "$$A_{r_{0}} = 0$$"
      ],
      "text/plain": [
       "<IPython.core.display.Math object>"
      ]
     },
     "metadata": {},
     "output_type": "display_data"
    },
    {
     "data": {
      "text/latex": [
       "$$A_{r_{1}} = -\\frac{B_{r_{1}} \\sin\\left(2 \\, h k_{1}\\right)}{\\cos\\left(2 \\, h k_{1}\\right)}$$"
      ],
      "text/plain": [
       "<IPython.core.display.Math object>"
      ]
     },
     "metadata": {},
     "output_type": "display_data"
    },
    {
     "data": {
      "text/latex": [
       "$$A_{\\phi_{0}} = 0$$"
      ],
      "text/plain": [
       "<IPython.core.display.Math object>"
      ]
     },
     "metadata": {},
     "output_type": "display_data"
    },
    {
     "data": {
      "text/latex": [
       "$$A_{\\phi_{1}} = -\\frac{B_{\\phi_{1}} \\sin\\left(2 \\, h k_{1}\\right)}{\\cos\\left(2 \\, h k_{1}\\right)}$$"
      ],
      "text/plain": [
       "<IPython.core.display.Math object>"
      ]
     },
     "metadata": {},
     "output_type": "display_data"
    },
    {
     "data": {
      "text/latex": [
       "$$\\left[A_{r_{0}} = 0, A_{r_{1}} = -\\frac{B_{r_{1}} \\sin\\left(2 \\, h k_{1}\\right)}{\\cos\\left(2 \\, h k_{1}\\right)}, A_{\\phi_{0}} = 0, A_{\\phi_{1}} = -\\frac{B_{\\phi_{1}} \\sin\\left(2 \\, h k_{1}\\right)}{\\cos\\left(2 \\, h k_{1}\\right)}\\right]$$"
      ],
      "text/plain": [
       "<IPython.core.display.Math object>"
      ]
     },
     "metadata": {},
     "output_type": "display_data"
    }
   ],
   "source": [
    "# граничные условия\n",
    "# тангенциальная компонента электрического поля\n",
    "eq_Erh_superconductor_boundary_conditions = []\n",
    "eq_Erh_superconductor_boundary_conditions += [E_rh[0](rh,ph,0) == 0.0]\n",
    "eq_Erh_superconductor_boundary_conditions += [E_rh[n_layers - 1](rh,ph,h*n_layers) == 0.0]\n",
    "\n",
    "eq_Eph_superconductor_boundary_conditions = []\n",
    "eq_Eph_superconductor_boundary_conditions += [E_ph[0](rh,ph,0) == 0.0]\n",
    "eq_Eph_superconductor_boundary_conditions += [E_ph[n_layers - 1](rh,ph,h*n_layers) == 0.0]\n",
    "\n",
    "display(Math(latex(eq_Erh_superconductor_boundary_conditions)))\n",
    "display(Math(latex(eq_Eph_superconductor_boundary_conditions)))\n",
    "\n",
    "boundary_Erh_subs_begin = solve(eq_Erh_superconductor_boundary_conditions[0], A_r[0])[0]\n",
    "boundary_Erh_subs_end = solve(eq_Erh_superconductor_boundary_conditions[1], A_r[n_layers - 1])[0]\n",
    "\n",
    "boundary_Eph_subs_begin = solve(eq_Eph_superconductor_boundary_conditions[0], A_p[0])[0]\n",
    "boundary_Eph_subs_end = solve(eq_Eph_superconductor_boundary_conditions[1], A_p[n_layers - 1])[0]\n",
    "\n",
    "display(Math(latex(boundary_Erh_subs_begin)))\n",
    "display(Math(latex(boundary_Erh_subs_end)))\n",
    "\n",
    "display(Math(latex(boundary_Eph_subs_begin)))\n",
    "display(Math(latex(boundary_Eph_subs_end)))\n",
    "\n",
    "boundary_subs = [boundary_Erh_subs_begin, boundary_Erh_subs_end, boundary_Eph_subs_begin, boundary_Eph_subs_end]\n",
    "display(Math(latex(boundary_subs)))"
   ]
  },
  {
   "cell_type": "code",
   "execution_count": 51,
   "metadata": {},
   "outputs": [
    {
     "data": {
      "text/plain": [
       "[A_r_0, A_r_1, A_phi_0, A_phi_1]"
      ]
     },
     "execution_count": 51,
     "metadata": {},
     "output_type": "execute_result"
    }
   ],
   "source": [
    "exclude_vars = [A_r[0], A_r[n_layers - 1], A_p[0], A_p[n_layers - 1]]\n",
    "exclude_vars"
   ]
  },
  {
   "cell_type": "code",
   "execution_count": 52,
   "metadata": {},
   "outputs": [],
   "source": [
    "def my_simplify(v):\n",
    "    print (\"v =\", v)\n",
    "    from sage.symbolic.operators import add_vararg, mul_vararg\n",
    "\n",
    "    operand_list1 = []\n",
    "    operand_list2 = []\n",
    "\n",
    "    if mul_vararg == v.operator():\n",
    "        for operand in v.operands():\n",
    "            op = operand.operator()\n",
    "            if op == add_vararg:\n",
    "                operand_list1 += [(op, operand)]\n",
    "            else:\n",
    "                operand_list2 += [(op, operand)]\n",
    "    res_list = ()\n",
    "    if len(operand_list1) == 1:\n",
    "        for (op1, operand1) in operand_list1:\n",
    "            print (op1, operand1)\n",
    "            print (\"\")\n",
    "            for operand1_operand in operand1.operands():\n",
    "                print(operand1_operand)\n",
    "                res1 = operand1_operand\n",
    "                for (op2, operand2) in operand_list2:\n",
    "                    print (op2, operand2)\n",
    "                    res1 = mul_vararg(res1, operand2)\n",
    "                print (\"\")\n",
    "                print (\"res1 = \", res1)\n",
    "                print (\"\")\n",
    "                res_list += (res1,)\n",
    "    print (res_list)\n",
    "    if len (res_list) > 0:\n",
    "        res = add_vararg(*res_list)\n",
    "    else:\n",
    "        res = v\n",
    "    print(res)\n",
    "    return res\n",
    "    "
   ]
  },
  {
   "cell_type": "code",
   "execution_count": 53,
   "metadata": {},
   "outputs": [],
   "source": [
    "def my_simp(i, ml, v):\n",
    "    print (\"v =\", v)\n",
    "    return my_simplify((v / ml).full_simplify() \\\n",
    "             .subs(2*sin(h*k[i])^2 - 1 == sin(h*k[i])^2 - cos(h*k[i])^2) \\\n",
    "             .subs(2*cos(h*k[i])^2 - 1 == cos(h*k[i])^2 - sin(h*k[i])^2)) \\\n",
    "             *ml"
   ]
  },
  {
   "cell_type": "code",
   "execution_count": 54,
   "metadata": {},
   "outputs": [],
   "source": [
    "def my_subs(i, ml, lm, v):\n",
    "    print (\"v =\", v)\n",
    "    vv = (v / ml).full_simplify()\n",
    "    vvv = vv.subs(2*sin(h*k[i])^2 - 1 == sin(h*k[i])^2 - cos(h*k[i])^2) \\\n",
    "            .subs(2*cos(h*k[i])^2 - 1 == cos(h*k[i])^2 - sin(h*k[i])^2)\n",
    "    for mm in lm:\n",
    "        vvv = vvv.subs(((2*sin(h*k[i])^2 - 1) * mm).expand() == (sin(h*k[i])^2 - cos(h*k[i])^2) * mm)\n",
    "        vvv = vvv.subs(((2*cos(h*k[i])^2 - 1) * mm).expand() == (cos(h*k[i])^2 - sin(h*k[i])^2) * mm)\n",
    "    return vvv * ml"
   ]
  },
  {
   "cell_type": "code",
   "execution_count": 55,
   "metadata": {},
   "outputs": [],
   "source": [
    "rotH_ph = []\n",
    "for i in range(n_layers):\n",
    "    exec(preparse(\"rotH_ph += [lambda rh,ph,z, i=i: \" + str(H_rh[i](rh,ph,z).diff(z)-H_z[i](rh,ph,z).diff(rh)) +\"]\"))"
   ]
  },
  {
   "cell_type": "code",
   "execution_count": 56,
   "metadata": {},
   "outputs": [],
   "source": [
    "rotH_rh = []\n",
    "for i in range(n_layers):\n",
    "    exec(preparse(\"rotH_rh += [lambda rh,ph,z, i=i : \" + str(H_z[i](rh,ph,z).diff(ph)/rh - H_ph[i](rh,ph,z).diff(z)) + \"]\"))"
   ]
  },
  {
   "cell_type": "code",
   "execution_count": 57,
   "metadata": {},
   "outputs": [],
   "source": [
    "rotH_z = []\n",
    "for i in range(n_layers):\n",
    "    exec(preparse(\"rotH_z += [lambda rh,ph,z, i=i : \"+ str((rh * H_ph[i](rh,ph,z)).diff(rh) - H_rh[i](rh,ph,z).diff(ph)) + \"]\"))"
   ]
  },
  {
   "cell_type": "code",
   "execution_count": 58,
   "metadata": {},
   "outputs": [],
   "source": [
    "eq_rotH_ph = []\n",
    "for i in range(n_layers):\n",
    "    eq_rotH_ph += [rotH_ph[i](rh,ph,z) == -I * omega / c * epsilon[i] * E_ph[i](rh,ph,z) ]"
   ]
  },
  {
   "cell_type": "code",
   "execution_count": 59,
   "metadata": {},
   "outputs": [],
   "source": [
    "eq_rotH_rh = []\n",
    "for i in range(n_layers):\n",
    "    eq_rotH_rh += [rotH_rh[i](rh,ph,z) == -I * omega / c * epsilon[i] * E_rh[i](rh,ph,z) ]"
   ]
  },
  {
   "cell_type": "code",
   "execution_count": 60,
   "metadata": {},
   "outputs": [],
   "source": [
    "eq_rotH_z = []\n",
    "for i in range(n_layers):\n",
    "    eq_rotH_z += [rotH_z[i](rh,ph,z) - I * omega / c * epsilon[i] * E_z[i](rh,ph,z) == 0]"
   ]
  },
  {
   "cell_type": "code",
   "execution_count": 61,
   "metadata": {},
   "outputs": [
    {
     "data": {
      "text/plain": [
       "-1/4*(-I*(kappa*(bessel_J(m + 2, kappa*rho) - bessel_J(m, kappa*rho)) + kappa*(bessel_J(m - 2, kappa*rho) - bessel_J(m, kappa*rho)))*(A_phi_0*cos(k_0*z) + B_phi_0*sin(k_0*z))*kappa*rho*sin(m*varphi) + 4*I*(A_phi_0*cos(k_0*z) + B_phi_0*sin(k_0*z))*kappa*(bessel_J(m + 1, kappa*rho) - bessel_J(m - 1, kappa*rho))*sin(m*varphi) - 4*I*(A_r_0*cos(k_0*z) + B_r_0*sin(k_0*z))*m*sin(m*varphi)*diff(E_r_r0(rho), rho))*c/(mu_0*omega) - (I*(A_phi_0*k_0^2*cos(k_0*z) + B_phi_0*k_0^2*sin(k_0*z))*bessel_J(m, kappa*rho)*sin(m*varphi) - I*(B_z_0*k_0*cos(k_0*z) - A_z_0*k_0*sin(k_0*z))*m*bessel_J(m, kappa*rho)*sin(m*varphi)/rho)*c/(mu_0*omega)"
      ]
     },
     "execution_count": 61,
     "metadata": {},
     "output_type": "execute_result"
    }
   ],
   "source": [
    "rotH_ph[0](rh,ph,z)"
   ]
  },
  {
   "cell_type": "code",
   "execution_count": 62,
   "metadata": {},
   "outputs": [
    {
     "data": {
      "text/plain": [
       "-1/4*(-I*(kappa*(bessel_J(m + 2, kappa*rho) - bessel_J(m, kappa*rho)) + kappa*(bessel_J(m - 2, kappa*rho) - bessel_J(m, kappa*rho)))*(A_phi_1*cos(k_1*z) + B_phi_1*sin(k_1*z))*kappa*rho*sin(m*varphi) + 4*I*(A_phi_1*cos(k_1*z) + B_phi_1*sin(k_1*z))*kappa*(bessel_J(m + 1, kappa*rho) - bessel_J(m - 1, kappa*rho))*sin(m*varphi) - 4*I*(A_r_1*cos(k_1*z) + B_r_1*sin(k_1*z))*m*sin(m*varphi)*diff(E_r_r1(rho), rho))*c/(mu_1*omega) - (I*(A_phi_1*k_1^2*cos(k_1*z) + B_phi_1*k_1^2*sin(k_1*z))*bessel_J(m, kappa*rho)*sin(m*varphi) - I*(B_z_1*k_1*cos(k_1*z) - A_z_1*k_1*sin(k_1*z))*m*bessel_J(m, kappa*rho)*sin(m*varphi)/rho)*c/(mu_1*omega)"
      ]
     },
     "execution_count": 62,
     "metadata": {},
     "output_type": "execute_result"
    }
   ],
   "source": [
    "rotH_ph[1](rh,ph,z)"
   ]
  },
  {
   "cell_type": "code",
   "execution_count": 63,
   "metadata": {},
   "outputs": [
    {
     "data": {
      "text/plain": [
       "-1/2*(-I*(B_z_0*k_0*cos(k_0*z) - A_z_0*k_0*sin(k_0*z))*kappa*(bessel_J(m + 1, kappa*rho) - bessel_J(m - 1, kappa*rho))*cos(m*varphi) + 2*I*(A_r_0*k_0^2*cos(k_0*z) + B_r_0*k_0^2*sin(k_0*z))*E_r_r0(rho)*cos(m*varphi))*c/(mu_0*omega) - 1/2*(-I*(A_phi_0*cos(k_0*z) + B_phi_0*sin(k_0*z))*kappa*m*rho*(bessel_J(m + 1, kappa*rho) - bessel_J(m - 1, kappa*rho))*cos(m*varphi) + 2*I*(A_r_0*cos(k_0*z) + B_r_0*sin(k_0*z))*m^2*E_r_r0(rho)*cos(m*varphi) + 2*I*(A_phi_0*cos(k_0*z) + B_phi_0*sin(k_0*z))*m*bessel_J(m, kappa*rho)*cos(m*varphi))*c/(mu_0*omega*rho)"
      ]
     },
     "execution_count": 63,
     "metadata": {},
     "output_type": "execute_result"
    }
   ],
   "source": [
    "rotH_rh[0](rh,ph,z)"
   ]
  },
  {
   "cell_type": "code",
   "execution_count": 64,
   "metadata": {},
   "outputs": [
    {
     "data": {
      "text/plain": [
       "-1/2*(-I*(B_z_1*k_1*cos(k_1*z) - A_z_1*k_1*sin(k_1*z))*kappa*(bessel_J(m + 1, kappa*rho) - bessel_J(m - 1, kappa*rho))*cos(m*varphi) + 2*I*(A_r_1*k_1^2*cos(k_1*z) + B_r_1*k_1^2*sin(k_1*z))*E_r_r1(rho)*cos(m*varphi))*c/(mu_1*omega) - 1/2*(-I*(A_phi_1*cos(k_1*z) + B_phi_1*sin(k_1*z))*kappa*m*rho*(bessel_J(m + 1, kappa*rho) - bessel_J(m - 1, kappa*rho))*cos(m*varphi) + 2*I*(A_r_1*cos(k_1*z) + B_r_1*sin(k_1*z))*m^2*E_r_r1(rho)*cos(m*varphi) + 2*I*(A_phi_1*cos(k_1*z) + B_phi_1*sin(k_1*z))*m*bessel_J(m, kappa*rho)*cos(m*varphi))*c/(mu_1*omega*rho)"
      ]
     },
     "execution_count": 64,
     "metadata": {},
     "output_type": "execute_result"
    }
   ],
   "source": [
    "rotH_rh[1](rh,ph,z)"
   ]
  },
  {
   "cell_type": "code",
   "execution_count": 65,
   "metadata": {},
   "outputs": [
    {
     "data": {
      "text/plain": [
       "-1/4*(-I*(kappa*(bessel_J(m + 2, kappa*rho) - bessel_J(m, kappa*rho)) + kappa*(bessel_J(m - 2, kappa*rho) - bessel_J(m, kappa*rho)))*(A_z_0*cos(k_0*z) + B_z_0*sin(k_0*z))*kappa*cos(m*varphi) + 4*I*(B_r_0*k_0*cos(k_0*z) - A_r_0*k_0*sin(k_0*z))*cos(m*varphi)*diff(E_r_r0(rho), rho))*c*rho/(mu_0*omega) + 1/2*(-I*(A_z_0*cos(k_0*z) + B_z_0*sin(k_0*z))*kappa*(bessel_J(m + 1, kappa*rho) - bessel_J(m - 1, kappa*rho))*cos(m*varphi) - 2*I*(B_r_0*k_0*cos(k_0*z) - A_r_0*k_0*sin(k_0*z))*E_r_r0(rho)*cos(m*varphi))*c/(mu_0*omega) - (I*(B_phi_0*k_0*cos(k_0*z) - A_phi_0*k_0*sin(k_0*z))*m*bessel_J(m, kappa*rho)*cos(m*varphi) + I*(A_z_0*cos(k_0*z) + B_z_0*sin(k_0*z))*m^2*bessel_J(m, kappa*rho)*cos(m*varphi)/rho)*c/(mu_0*omega)"
      ]
     },
     "execution_count": 65,
     "metadata": {},
     "output_type": "execute_result"
    }
   ],
   "source": [
    "rotH_z[0](rh,ph,z)"
   ]
  },
  {
   "cell_type": "code",
   "execution_count": 66,
   "metadata": {},
   "outputs": [
    {
     "data": {
      "text/plain": [
       "-1/4*(-I*(kappa*(bessel_J(m + 2, kappa*rho) - bessel_J(m, kappa*rho)) + kappa*(bessel_J(m - 2, kappa*rho) - bessel_J(m, kappa*rho)))*(A_z_1*cos(k_1*z) + B_z_1*sin(k_1*z))*kappa*cos(m*varphi) + 4*I*(B_r_1*k_1*cos(k_1*z) - A_r_1*k_1*sin(k_1*z))*cos(m*varphi)*diff(E_r_r1(rho), rho))*c*rho/(mu_1*omega) + 1/2*(-I*(A_z_1*cos(k_1*z) + B_z_1*sin(k_1*z))*kappa*(bessel_J(m + 1, kappa*rho) - bessel_J(m - 1, kappa*rho))*cos(m*varphi) - 2*I*(B_r_1*k_1*cos(k_1*z) - A_r_1*k_1*sin(k_1*z))*E_r_r1(rho)*cos(m*varphi))*c/(mu_1*omega) - (I*(B_phi_1*k_1*cos(k_1*z) - A_phi_1*k_1*sin(k_1*z))*m*bessel_J(m, kappa*rho)*cos(m*varphi) + I*(A_z_1*cos(k_1*z) + B_z_1*sin(k_1*z))*m^2*bessel_J(m, kappa*rho)*cos(m*varphi)/rho)*c/(mu_1*omega)"
      ]
     },
     "execution_count": 66,
     "metadata": {},
     "output_type": "execute_result"
    }
   ],
   "source": [
    "rotH_z[1](rh,ph,z)"
   ]
  },
  {
   "cell_type": "code",
   "execution_count": 67,
   "metadata": {},
   "outputs": [
    {
     "data": {
      "text/plain": [
       "[-I*(A_z_0*cos(k_0*z) + B_z_0*sin(k_0*z))*epsilon_0*omega*bessel_J(m, kappa*rho)*cos(m*varphi)/c - 1/4*(-I*(kappa*(bessel_J(m + 2, kappa*rho) - bessel_J(m, kappa*rho)) + kappa*(bessel_J(m - 2, kappa*rho) - bessel_J(m, kappa*rho)))*(A_z_0*cos(k_0*z) + B_z_0*sin(k_0*z))*kappa*cos(m*varphi) + 4*I*(B_r_0*k_0*cos(k_0*z) - A_r_0*k_0*sin(k_0*z))*cos(m*varphi)*diff(E_r_r0(rho), rho))*c*rho/(mu_0*omega) + 1/2*(-I*(A_z_0*cos(k_0*z) + B_z_0*sin(k_0*z))*kappa*(bessel_J(m + 1, kappa*rho) - bessel_J(m - 1, kappa*rho))*cos(m*varphi) - 2*I*(B_r_0*k_0*cos(k_0*z) - A_r_0*k_0*sin(k_0*z))*E_r_r0(rho)*cos(m*varphi))*c/(mu_0*omega) - (I*(B_phi_0*k_0*cos(k_0*z) - A_phi_0*k_0*sin(k_0*z))*m*bessel_J(m, kappa*rho)*cos(m*varphi) + I*(A_z_0*cos(k_0*z) + B_z_0*sin(k_0*z))*m^2*bessel_J(m, kappa*rho)*cos(m*varphi)/rho)*c/(mu_0*omega) == 0,\n",
       " -I*(A_z_1*cos(k_1*z) + B_z_1*sin(k_1*z))*epsilon_1*omega*bessel_J(m, kappa*rho)*cos(m*varphi)/c - 1/4*(-I*(kappa*(bessel_J(m + 2, kappa*rho) - bessel_J(m, kappa*rho)) + kappa*(bessel_J(m - 2, kappa*rho) - bessel_J(m, kappa*rho)))*(A_z_1*cos(k_1*z) + B_z_1*sin(k_1*z))*kappa*cos(m*varphi) + 4*I*(B_r_1*k_1*cos(k_1*z) - A_r_1*k_1*sin(k_1*z))*cos(m*varphi)*diff(E_r_r1(rho), rho))*c*rho/(mu_1*omega) + 1/2*(-I*(A_z_1*cos(k_1*z) + B_z_1*sin(k_1*z))*kappa*(bessel_J(m + 1, kappa*rho) - bessel_J(m - 1, kappa*rho))*cos(m*varphi) - 2*I*(B_r_1*k_1*cos(k_1*z) - A_r_1*k_1*sin(k_1*z))*E_r_r1(rho)*cos(m*varphi))*c/(mu_1*omega) - (I*(B_phi_1*k_1*cos(k_1*z) - A_phi_1*k_1*sin(k_1*z))*m*bessel_J(m, kappa*rho)*cos(m*varphi) + I*(A_z_1*cos(k_1*z) + B_z_1*sin(k_1*z))*m^2*bessel_J(m, kappa*rho)*cos(m*varphi)/rho)*c/(mu_1*omega) == 0]"
      ]
     },
     "execution_count": 67,
     "metadata": {},
     "output_type": "execute_result"
    }
   ],
   "source": [
    "eq_rotH_z"
   ]
  },
  {
   "cell_type": "code",
   "execution_count": 68,
   "metadata": {},
   "outputs": [
    {
     "name": "stdout",
     "output_type": "stream",
     "text": [
      "E_r_r_s[i](rh)=\n"
     ]
    },
    {
     "data": {
      "text/latex": [
       "$$-\\frac{{\\left(B_{z_{0}} k_{0} \\kappa J_{m + 1}(\\kappa \\rho) - B_{z_{0}} k_{0} \\kappa J_{m - 1}(\\kappa \\rho)\\right)} \\rho \\cos\\left(k_{0} z\\right) - {\\left(2 \\, B_{\\phi_{0}} m J_{m}(\\kappa \\rho) - {\\left(A_{z_{0}} k_{0} \\kappa J_{m - 1}(\\kappa \\rho) - B_{\\phi_{0}} \\kappa m J_{m - 1}(\\kappa \\rho) - {\\left(A_{z_{0}} k_{0} \\kappa - B_{\\phi_{0}} \\kappa m\\right)} J_{m + 1}(\\kappa \\rho)\\right)} \\rho\\right)} \\sin\\left(k_{0} z\\right)}{2 \\, {\\left(B_{r_{0}} \\kappa^{2} \\rho - B_{r_{0}} m^{2}\\right)} \\sin\\left(k_{0} z\\right)}$$"
      ],
      "text/plain": [
       "<IPython.core.display.Math object>"
      ]
     },
     "metadata": {},
     "output_type": "display_data"
    },
    {
     "name": "stdout",
     "output_type": "stream",
     "text": [
      "E_r_r_s[i](rh)=\n"
     ]
    },
    {
     "data": {
      "text/latex": [
       "$$\\frac{{\\left(2 \\, B_{\\phi_{1}} m J_{m}(\\kappa \\rho) \\sin\\left(2 \\, h k_{1}\\right) - {\\left(B_{z_{1}} k_{1} \\kappa J_{m - 1}(\\kappa \\rho) \\cos\\left(2 \\, h k_{1}\\right) - B_{\\phi_{1}} \\kappa m J_{m - 1}(\\kappa \\rho) \\sin\\left(2 \\, h k_{1}\\right) - {\\left(B_{z_{1}} k_{1} \\kappa \\cos\\left(2 \\, h k_{1}\\right) - B_{\\phi_{1}} \\kappa m \\sin\\left(2 \\, h k_{1}\\right)\\right)} J_{m + 1}(\\kappa \\rho)\\right)} \\rho\\right)} \\cos\\left(k_{1} z\\right) - {\\left(2 \\, B_{\\phi_{1}} m J_{m}(\\kappa \\rho) \\cos\\left(2 \\, h k_{1}\\right) - {\\left(A_{z_{1}} k_{1} \\kappa J_{m - 1}(\\kappa \\rho) \\cos\\left(2 \\, h k_{1}\\right) - B_{\\phi_{1}} \\kappa m J_{m - 1}(\\kappa \\rho) \\cos\\left(2 \\, h k_{1}\\right) - {\\left(A_{z_{1}} k_{1} \\kappa \\cos\\left(2 \\, h k_{1}\\right) - B_{\\phi_{1}} \\kappa m \\cos\\left(2 \\, h k_{1}\\right)\\right)} J_{m + 1}(\\kappa \\rho)\\right)} \\rho\\right)} \\sin\\left(k_{1} z\\right)}{2 \\, {\\left({\\left(B_{r_{1}} \\kappa^{2} \\rho \\sin\\left(2 \\, h k_{1}\\right) - B_{r_{1}} m^{2} \\sin\\left(2 \\, h k_{1}\\right)\\right)} \\cos\\left(k_{1} z\\right) - {\\left(B_{r_{1}} \\kappa^{2} \\rho \\cos\\left(2 \\, h k_{1}\\right) - B_{r_{1}} m^{2} \\cos\\left(2 \\, h k_{1}\\right)\\right)} \\sin\\left(k_{1} z\\right)\\right)}}$$"
      ],
      "text/plain": [
       "<IPython.core.display.Math object>"
      ]
     },
     "metadata": {},
     "output_type": "display_data"
    }
   ],
   "source": [
    "E_r_r_s = []\n",
    "for i in range(n_layers):\n",
    "    eq_rotH_rh_i = (eq_rotH_rh[i]*(-I)*omega/c).subs(solve(eq_kappa[i], omega^2)).subs(boundary_subs)\n",
    "    exec(preparse(\"E_r_r_s += [lambda rh,i=i : \" + str(solve(eq_rotH_rh_i, E_r_r[i](rh))[0].rhs()) +\"]\"))\n",
    "    print(\"E_r_r_s[i](rh)=\")\n",
    "    display(Math(latex(E_r_r_s[i](rh))))"
   ]
  },
  {
   "cell_type": "code",
   "execution_count": 69,
   "metadata": {},
   "outputs": [],
   "source": [
    "E_rhs = []\n",
    "for i in range(n_layers):\n",
    "    # E_rhs += [lambda rh,ph,z, i=i: E_r_r_s[i](rh=rh)*(B_r[i]*sin(k[i]*z)+A_r[i]*cos(k[i]*z))*(C_r[i]*cos(m*ph)+D_r[i]*sin(m*ph))]\n",
    "    E_rhs += [lambda rh,ph,z, i=i: E_r_r_s[i](rh=rh)*(A_r[i]*cos(k[i]*z) + B_r[i]*sin(k[i]*z)) * cos(m*ph)]"
   ]
  },
  {
   "cell_type": "code",
   "execution_count": 70,
   "metadata": {},
   "outputs": [],
   "source": [
    "E_rho = []\n",
    "for i in range(n_layers):\n",
    "    exec(preparse(\"E_rho += [ lambda rh, ph, z, i=i : \" + str(E_rhs[i](rh,ph,z).subs(boundary_subs)) +\"]\"))"
   ]
  },
  {
   "cell_type": "code",
   "execution_count": 71,
   "metadata": {},
   "outputs": [],
   "source": [
    "E_phi = []\n",
    "for i in range(n_layers):\n",
    "    exec(preparse(\"E_phi += [ lambda rh, ph, z, i=i : \" + str(E_ph[i](rh,ph,z).subs(boundary_subs)) +\"]\"))"
   ]
  },
  {
   "cell_type": "code",
   "execution_count": 72,
   "metadata": {},
   "outputs": [],
   "source": [
    "E_zz = []\n",
    "for i in range(n_layers):\n",
    "    exec(preparse(\"E_zz += [ lambda rh, ph, z, i=i : \" + str(E_z[i](rh,ph,z).subs(boundary_subs)) +\"]\"))"
   ]
  },
  {
   "cell_type": "code",
   "execution_count": 73,
   "metadata": {},
   "outputs": [
    {
     "data": {
      "text/plain": [
       "-(B_z_1*k_1*bessel_J(1, kappa*rho)*cos(k_1*z) - A_z_1*k_1*bessel_J(1, kappa*rho)*sin(k_1*z))/kappa"
      ]
     },
     "execution_count": 73,
     "metadata": {},
     "output_type": "execute_result"
    }
   ],
   "source": [
    "E_rho[1](rh,ph,z).subs(m == m_val).full_simplify()"
   ]
  },
  {
   "cell_type": "code",
   "execution_count": 74,
   "metadata": {},
   "outputs": [
    {
     "data": {
      "text/plain": [
       "-(B_z_1*k_1*bessel_J(1, kappa*rho)*cos(k_1*z) - A_z_1*k_1*bessel_J(1, kappa*rho)*sin(k_1*z))/kappa"
      ]
     },
     "execution_count": 74,
     "metadata": {},
     "output_type": "execute_result"
    }
   ],
   "source": [
    "E_rh[1](rh,ph,z).subs(E_r_r[1](rh) == E_r_r_s[1](rh)).subs(boundary_subs).subs(m == m_val).full_simplify()"
   ]
  },
  {
   "cell_type": "code",
   "execution_count": 75,
   "metadata": {},
   "outputs": [
    {
     "data": {
      "text/latex": [
       "$$B_{\\phi_{0}} J_{m}(\\kappa \\rho) \\sin\\left(m \\varphi\\right) \\sin\\left(k_{0} z\\right)$$"
      ],
      "text/plain": [
       "<IPython.core.display.Math object>"
      ]
     },
     "metadata": {},
     "output_type": "display_data"
    }
   ],
   "source": [
    "display(Math(latex(E_phi[0](rh,ph,z))))"
   ]
  },
  {
   "cell_type": "code",
   "execution_count": 76,
   "metadata": {
    "scrolled": true
   },
   "outputs": [
    {
     "data": {
      "text/latex": [
       "$$-{\\left(\\frac{B_{\\phi_{1}} \\cos\\left(k_{1} z\\right) \\sin\\left(2 \\, h k_{1}\\right)}{\\cos\\left(2 \\, h k_{1}\\right)} - B_{\\phi_{1}} \\sin\\left(k_{1} z\\right)\\right)} J_{m}(\\kappa \\rho) \\sin\\left(m \\varphi\\right)$$"
      ],
      "text/plain": [
       "<IPython.core.display.Math object>"
      ]
     },
     "metadata": {},
     "output_type": "display_data"
    }
   ],
   "source": [
    "display(Math(latex(E_phi[1](rh,ph,z))))"
   ]
  },
  {
   "cell_type": "code",
   "execution_count": 77,
   "metadata": {},
   "outputs": [
    {
     "name": "stdout",
     "output_type": "stream",
     "text": [
      "v = B_phi_0*bessel_J(m, kappa*rho)*sin(m*varphi)*sin(k_0*z)\n",
      "v = -(B_phi_1*cos(k_1*z)*sin(2*h*k_1)/cos(2*h*k_1) - B_phi_1*sin(k_1*z))*bessel_J(m, kappa*rho)*sin(m*varphi)\n"
     ]
    }
   ],
   "source": [
    "E_phi_s = []\n",
    "for i in range(n_layers):\n",
    "    ml = B_p[i]\n",
    "    lm = [C_p[i], D_p[i]]\n",
    "    exec(preparse(\"E_phi_s += [ lambda rh, ph, z, i=i : \" + str(my_subs(i, ml, lm, E_phi[i](rh,ph,z))) +\"]\"))"
   ]
  },
  {
   "cell_type": "code",
   "execution_count": 78,
   "metadata": {},
   "outputs": [],
   "source": [
    "rotE_rho = []\n",
    "for i in range(n_layers):\n",
    "    exec(preparse(\"rotE_rho += [lambda rh,ph,z, i=i: \" + str(E_zz[i](rh,ph,z).diff(ph)/rh - E_phi[i](rh,ph,z).diff(z)) +\"]\"))"
   ]
  },
  {
   "cell_type": "code",
   "execution_count": 79,
   "metadata": {},
   "outputs": [],
   "source": [
    "rotE_phi = []\n",
    "for i in range(n_layers):\n",
    "    exec(preparse(\"rotE_phi += [lambda rh,ph,z, i=i: \" + str(E_rho[i](rh,ph,z).diff(z)-E_zz[i](rh,ph,z).diff(rh)) +\"]\"))"
   ]
  },
  {
   "cell_type": "code",
   "execution_count": 80,
   "metadata": {},
   "outputs": [],
   "source": [
    "rotE_zz = []\n",
    "for i in range(n_layers):\n",
    "    exec(preparse(\"rotE_zz += [lambda rh,ph,z, i=i: \" + str((rh*E_phi[i](rh,ph,z)).diff(rh) - E_rho[i](rh,ph,z).diff(ph)) +\"]\"))"
   ]
  },
  {
   "cell_type": "code",
   "execution_count": 81,
   "metadata": {},
   "outputs": [],
   "source": [
    "H_rho = []\n",
    "for i in range(n_layers):\n",
    "    H_rho += [lambda rh,ph,z, i=i : rotE_rho[i](rh,ph,z)*c/(I*omega *mu[i])]"
   ]
  },
  {
   "cell_type": "code",
   "execution_count": 82,
   "metadata": {},
   "outputs": [],
   "source": [
    "H_phi = []\n",
    "for i in range(n_layers):\n",
    "    H_phi += [lambda rh,ph,z, i=i : rotE_phi[i](rh,ph,z)*c/(I*omega *mu[i])]"
   ]
  },
  {
   "cell_type": "code",
   "execution_count": 83,
   "metadata": {},
   "outputs": [],
   "source": [
    "H_zz = []\n",
    "for i in range(n_layers):\n",
    "    H_zz += [lambda rh,ph,z, i=i : rotE_zz[i](rh,ph,z)*c/(I*omega *mu[i])]"
   ]
  },
  {
   "cell_type": "code",
   "execution_count": 84,
   "metadata": {},
   "outputs": [],
   "source": [
    "rotH_phi = []\n",
    "for i in range(n_layers):\n",
    "    exec(preparse(\"rotH_phi += [lambda rh,ph,z, i=i: \" + str(H_rho[i](rh,ph,z).diff(z)-H_zz[i](rh,ph,z).diff(rh)) +\"]\"))"
   ]
  },
  {
   "cell_type": "code",
   "execution_count": 85,
   "metadata": {},
   "outputs": [],
   "source": [
    "rotH_rho = []\n",
    "for i in range(n_layers):\n",
    "    exec(preparse(\"rotH_rho += [lambda rh,ph,z, i=i : \" + str(H_zz[i](rh,ph,z).diff(ph)/rh - H_phi[i](rh,ph,z).diff(z)) + \"]\"))"
   ]
  },
  {
   "cell_type": "code",
   "execution_count": 86,
   "metadata": {},
   "outputs": [],
   "source": [
    "rotH_zz = []\n",
    "for i in range(n_layers):\n",
    "    exec(preparse(\"rotH_zz += [lambda rh,ph,z, i=i : \"+ str((rh * H_phi[i](rh,ph,z)).diff(rh) - H_rho[i](rh,ph,z).diff(ph)) + \"]\"))"
   ]
  },
  {
   "cell_type": "code",
   "execution_count": 87,
   "metadata": {},
   "outputs": [],
   "source": [
    "eq_rotH_phi = []\n",
    "for i in range(n_layers):\n",
    "    eq_rotH_phi += [rotH_phi[i](rh,ph,z) == -I * omega / c * epsilon[i] * E_phi[i](rh,ph,z) ]"
   ]
  },
  {
   "cell_type": "code",
   "execution_count": 88,
   "metadata": {},
   "outputs": [],
   "source": [
    "eq_rotH_rho = []\n",
    "for i in range(n_layers):\n",
    "    eq_rotH_rho += [rotH_rho[i](rh,ph,z) == -I * omega / c * epsilon[i] * E_rho[i](rh,ph,z) ]"
   ]
  },
  {
   "cell_type": "code",
   "execution_count": 89,
   "metadata": {},
   "outputs": [],
   "source": [
    "eq_rotH_zz = []\n",
    "for i in range(n_layers):\n",
    "    eq_rotH_zz += [rotH_zz[i](rh,ph,z) - I * omega / c * epsilon[i] * E_zz[i](rh,ph,z) == 0]"
   ]
  },
  {
   "cell_type": "code",
   "execution_count": 90,
   "metadata": {},
   "outputs": [
    {
     "data": {
      "text/latex": [
       "$$-\\frac{{\\left({\\left(2 \\, B_{\\phi_{1}} m J_{m}(\\kappa \\rho) \\sin\\left(2 \\, h k_{1}\\right) - {\\left(B_{z_{1}} k_{1} \\kappa J_{m - 1}(\\kappa \\rho) \\cos\\left(2 \\, h k_{1}\\right) - B_{\\phi_{1}} \\kappa m J_{m - 1}(\\kappa \\rho) \\sin\\left(2 \\, h k_{1}\\right) - {\\left(B_{z_{1}} k_{1} \\kappa \\cos\\left(2 \\, h k_{1}\\right) - B_{\\phi_{1}} \\kappa m \\sin\\left(2 \\, h k_{1}\\right)\\right)} J_{m + 1}(\\kappa \\rho)\\right)} \\rho\\right)} \\cos\\left(k_{1} z\\right) - {\\left(2 \\, B_{\\phi_{1}} m J_{m}(\\kappa \\rho) \\cos\\left(2 \\, h k_{1}\\right) - {\\left(A_{z_{1}} k_{1} \\kappa J_{m - 1}(\\kappa \\rho) \\cos\\left(2 \\, h k_{1}\\right) - B_{\\phi_{1}} \\kappa m J_{m - 1}(\\kappa \\rho) \\cos\\left(2 \\, h k_{1}\\right) - {\\left(A_{z_{1}} k_{1} \\kappa \\cos\\left(2 \\, h k_{1}\\right) - B_{\\phi_{1}} \\kappa m \\cos\\left(2 \\, h k_{1}\\right)\\right)} J_{m + 1}(\\kappa \\rho)\\right)} \\rho\\right)} \\sin\\left(k_{1} z\\right)\\right)} {\\left(\\frac{B_{r_{1}} \\cos\\left(k_{1} z\\right) \\sin\\left(2 \\, h k_{1}\\right)}{\\cos\\left(2 \\, h k_{1}\\right)} - B_{r_{1}} \\sin\\left(k_{1} z\\right)\\right)} \\cos\\left(m \\varphi\\right)}{2 \\, {\\left({\\left(B_{r_{1}} \\kappa^{2} \\rho \\sin\\left(2 \\, h k_{1}\\right) - B_{r_{1}} m^{2} \\sin\\left(2 \\, h k_{1}\\right)\\right)} \\cos\\left(k_{1} z\\right) - {\\left(B_{r_{1}} \\kappa^{2} \\rho \\cos\\left(2 \\, h k_{1}\\right) - B_{r_{1}} m^{2} \\cos\\left(2 \\, h k_{1}\\right)\\right)} \\sin\\left(k_{1} z\\right)\\right)}}$$"
      ],
      "text/plain": [
       "<IPython.core.display.Math object>"
      ]
     },
     "metadata": {},
     "output_type": "display_data"
    }
   ],
   "source": [
    "display(Math(latex(E_rho[1](rh,ph,z))))"
   ]
  },
  {
   "cell_type": "code",
   "execution_count": 91,
   "metadata": {},
   "outputs": [
    {
     "data": {
      "text/latex": [
       "$${\\left(A_{z_{1}} \\cos\\left(k_{1} z\\right) + B_{z_{1}} \\sin\\left(k_{1} z\\right)\\right)} J_{m}(\\kappa \\rho) \\cos\\left(m \\varphi\\right)$$"
      ],
      "text/plain": [
       "<IPython.core.display.Math object>"
      ]
     },
     "metadata": {},
     "output_type": "display_data"
    }
   ],
   "source": [
    "display(Math(latex(E_zz[1](rh,ph,z))))"
   ]
  },
  {
   "cell_type": "code",
   "execution_count": 92,
   "metadata": {},
   "outputs": [
    {
     "data": {
      "text/plain": [
       "I*((B_phi_1*k_1*cos(k_1*z) + B_phi_1*k_1*sin(2*h*k_1)*sin(k_1*z)/cos(2*h*k_1))*bessel_J(m, kappa*rho)*sin(m*varphi) + (A_z_1*cos(k_1*z) + B_z_1*sin(k_1*z))*m*bessel_J(m, kappa*rho)*sin(m*varphi)/rho)*c/(mu_1*omega)"
      ]
     },
     "execution_count": 92,
     "metadata": {},
     "output_type": "execute_result"
    }
   ],
   "source": [
    "H_rho[1](rh,ph,z)"
   ]
  },
  {
   "cell_type": "code",
   "execution_count": 93,
   "metadata": {},
   "outputs": [
    {
     "data": {
      "text/plain": [
       "-1/2*I*((A_z_1*cos(k_1*z) + B_z_1*sin(k_1*z))*kappa*(bessel_J(m + 1, kappa*rho) - bessel_J(m - 1, kappa*rho))*cos(m*varphi) + (B_r_1*k_1*cos(k_1*z) + B_r_1*k_1*sin(2*h*k_1)*sin(k_1*z)/cos(2*h*k_1))*((2*B_phi_1*m*bessel_J(m, kappa*rho)*sin(2*h*k_1) - (B_z_1*k_1*kappa*bessel_J(m - 1, kappa*rho)*cos(2*h*k_1) - B_phi_1*kappa*m*bessel_J(m - 1, kappa*rho)*sin(2*h*k_1) - (B_z_1*k_1*kappa*cos(2*h*k_1) - B_phi_1*kappa*m*sin(2*h*k_1))*bessel_J(m + 1, kappa*rho))*rho)*cos(k_1*z) - (2*B_phi_1*m*bessel_J(m, kappa*rho)*cos(2*h*k_1) - (A_z_1*k_1*kappa*bessel_J(m - 1, kappa*rho)*cos(2*h*k_1) - B_phi_1*kappa*m*bessel_J(m - 1, kappa*rho)*cos(2*h*k_1) - (A_z_1*k_1*kappa*cos(2*h*k_1) - B_phi_1*kappa*m*cos(2*h*k_1))*bessel_J(m + 1, kappa*rho))*rho)*sin(k_1*z))*cos(m*varphi)/((B_r_1*kappa^2*rho*sin(2*h*k_1) - B_r_1*m^2*sin(2*h*k_1))*cos(k_1*z) - (B_r_1*kappa^2*rho*cos(2*h*k_1) - B_r_1*m^2*cos(2*h*k_1))*sin(k_1*z)) + ((2*B_phi_1*m*bessel_J(m, kappa*rho)*cos(2*h*k_1) - (A_z_1*k_1*kappa*bessel_J(m - 1, kappa*rho)*cos(2*h*k_1) - B_phi_1*kappa*m*bessel_J(m - 1, kappa*rho)*cos(2*h*k_1) - (A_z_1*k_1*kappa*cos(2*h*k_1) - B_phi_1*kappa*m*cos(2*h*k_1))*bessel_J(m + 1, kappa*rho))*rho)*k_1*cos(k_1*z) + (2*B_phi_1*m*bessel_J(m, kappa*rho)*sin(2*h*k_1) - (B_z_1*k_1*kappa*bessel_J(m - 1, kappa*rho)*cos(2*h*k_1) - B_phi_1*kappa*m*bessel_J(m - 1, kappa*rho)*sin(2*h*k_1) - (B_z_1*k_1*kappa*cos(2*h*k_1) - B_phi_1*kappa*m*sin(2*h*k_1))*bessel_J(m + 1, kappa*rho))*rho)*k_1*sin(k_1*z))*(B_r_1*cos(k_1*z)*sin(2*h*k_1)/cos(2*h*k_1) - B_r_1*sin(k_1*z))*cos(m*varphi)/((B_r_1*kappa^2*rho*sin(2*h*k_1) - B_r_1*m^2*sin(2*h*k_1))*cos(k_1*z) - (B_r_1*kappa^2*rho*cos(2*h*k_1) - B_r_1*m^2*cos(2*h*k_1))*sin(k_1*z)) - ((B_r_1*kappa^2*rho*cos(2*h*k_1) - B_r_1*m^2*cos(2*h*k_1))*k_1*cos(k_1*z) + (B_r_1*kappa^2*rho*sin(2*h*k_1) - B_r_1*m^2*sin(2*h*k_1))*k_1*sin(k_1*z))*((2*B_phi_1*m*bessel_J(m, kappa*rho)*sin(2*h*k_1) - (B_z_1*k_1*kappa*bessel_J(m - 1, kappa*rho)*cos(2*h*k_1) - B_phi_1*kappa*m*bessel_J(m - 1, kappa*rho)*sin(2*h*k_1) - (B_z_1*k_1*kappa*cos(2*h*k_1) - B_phi_1*kappa*m*sin(2*h*k_1))*bessel_J(m + 1, kappa*rho))*rho)*cos(k_1*z) - (2*B_phi_1*m*bessel_J(m, kappa*rho)*cos(2*h*k_1) - (A_z_1*k_1*kappa*bessel_J(m - 1, kappa*rho)*cos(2*h*k_1) - B_phi_1*kappa*m*bessel_J(m - 1, kappa*rho)*cos(2*h*k_1) - (A_z_1*k_1*kappa*cos(2*h*k_1) - B_phi_1*kappa*m*cos(2*h*k_1))*bessel_J(m + 1, kappa*rho))*rho)*sin(k_1*z))*(B_r_1*cos(k_1*z)*sin(2*h*k_1)/cos(2*h*k_1) - B_r_1*sin(k_1*z))*cos(m*varphi)/((B_r_1*kappa^2*rho*sin(2*h*k_1) - B_r_1*m^2*sin(2*h*k_1))*cos(k_1*z) - (B_r_1*kappa^2*rho*cos(2*h*k_1) - B_r_1*m^2*cos(2*h*k_1))*sin(k_1*z))^2)*c/(mu_1*omega)"
      ]
     },
     "execution_count": 93,
     "metadata": {},
     "output_type": "execute_result"
    }
   ],
   "source": [
    "H_phi[1](rh,ph,z)"
   ]
  },
  {
   "cell_type": "code",
   "execution_count": 94,
   "metadata": {},
   "outputs": [
    {
     "data": {
      "text/plain": [
       "-1/2*I*((B_phi_1*cos(k_1*z)*sin(2*h*k_1)/cos(2*h*k_1) - B_phi_1*sin(k_1*z))*kappa*rho*(bessel_J(m + 1, kappa*rho) - bessel_J(m - 1, kappa*rho))*sin(m*varphi) - ((2*B_phi_1*m*bessel_J(m, kappa*rho)*sin(2*h*k_1) - (B_z_1*k_1*kappa*bessel_J(m - 1, kappa*rho)*cos(2*h*k_1) - B_phi_1*kappa*m*bessel_J(m - 1, kappa*rho)*sin(2*h*k_1) - (B_z_1*k_1*kappa*cos(2*h*k_1) - B_phi_1*kappa*m*sin(2*h*k_1))*bessel_J(m + 1, kappa*rho))*rho)*cos(k_1*z) - (2*B_phi_1*m*bessel_J(m, kappa*rho)*cos(2*h*k_1) - (A_z_1*k_1*kappa*bessel_J(m - 1, kappa*rho)*cos(2*h*k_1) - B_phi_1*kappa*m*bessel_J(m - 1, kappa*rho)*cos(2*h*k_1) - (A_z_1*k_1*kappa*cos(2*h*k_1) - B_phi_1*kappa*m*cos(2*h*k_1))*bessel_J(m + 1, kappa*rho))*rho)*sin(k_1*z))*(B_r_1*cos(k_1*z)*sin(2*h*k_1)/cos(2*h*k_1) - B_r_1*sin(k_1*z))*m*sin(m*varphi)/((B_r_1*kappa^2*rho*sin(2*h*k_1) - B_r_1*m^2*sin(2*h*k_1))*cos(k_1*z) - (B_r_1*kappa^2*rho*cos(2*h*k_1) - B_r_1*m^2*cos(2*h*k_1))*sin(k_1*z)) - 2*(B_phi_1*cos(k_1*z)*sin(2*h*k_1)/cos(2*h*k_1) - B_phi_1*sin(k_1*z))*bessel_J(m, kappa*rho)*sin(m*varphi))*c/(mu_1*omega)"
      ]
     },
     "execution_count": 94,
     "metadata": {},
     "output_type": "execute_result"
    }
   ],
   "source": [
    "H_zz[1](rh,ph,z)"
   ]
  },
  {
   "cell_type": "code",
   "execution_count": 95,
   "metadata": {},
   "outputs": [
    {
     "data": {
      "text/plain": [
       "[-1/4*(-I*(kappa*(bessel_J(m + 2, kappa*rho) - bessel_J(m, kappa*rho)) + kappa*(bessel_J(m - 2, kappa*rho) - bessel_J(m, kappa*rho)))*B_phi_0*kappa*rho*sin(m*varphi)*sin(k_0*z) - 2*I*((B_z_0*k_0*kappa*bessel_J(m + 1, kappa*rho) - B_z_0*k_0*kappa*bessel_J(m - 1, kappa*rho))*rho*cos(k_0*z) - (2*B_phi_0*m*bessel_J(m, kappa*rho) - (A_z_0*k_0*kappa*bessel_J(m - 1, kappa*rho) - B_phi_0*kappa*m*bessel_J(m - 1, kappa*rho) - (A_z_0*k_0*kappa - B_phi_0*kappa*m)*bessel_J(m + 1, kappa*rho))*rho)*sin(k_0*z))*B_r_0^2*kappa^2*m*sin(m*varphi)/(B_r_0*kappa^2*rho - B_r_0*m^2)^2 + 4*I*B_phi_0*kappa*(bessel_J(m + 1, kappa*rho) - bessel_J(m - 1, kappa*rho))*sin(m*varphi)*sin(k_0*z) - I*((B_z_0*k_0*kappa^2*(bessel_J(m + 2, kappa*rho) - bessel_J(m, kappa*rho)) + B_z_0*k_0*kappa^2*(bessel_J(m - 2, kappa*rho) - bessel_J(m, kappa*rho)))*rho*cos(k_0*z) - 2*(B_z_0*k_0*kappa*bessel_J(m + 1, kappa*rho) - B_z_0*k_0*kappa*bessel_J(m - 1, kappa*rho))*cos(k_0*z) - (2*B_phi_0*kappa*m*(bessel_J(m + 1, kappa*rho) - bessel_J(m - 1, kappa*rho)) + 2*A_z_0*k_0*kappa*bessel_J(m - 1, kappa*rho) - 2*B_phi_0*kappa*m*bessel_J(m - 1, kappa*rho) + (A_z_0*k_0*kappa^2*(bessel_J(m - 2, kappa*rho) - bessel_J(m, kappa*rho)) - B_phi_0*kappa^2*m*(bessel_J(m - 2, kappa*rho) - bessel_J(m, kappa*rho)) + (A_z_0*k_0*kappa - B_phi_0*kappa*m)*kappa*(bessel_J(m + 2, kappa*rho) - bessel_J(m, kappa*rho)))*rho - 2*(A_z_0*k_0*kappa - B_phi_0*kappa*m)*bessel_J(m + 1, kappa*rho))*sin(k_0*z))*B_r_0*m*sin(m*varphi)/(B_r_0*kappa^2*rho - B_r_0*m^2))*c/(mu_0*omega) - (I*B_phi_0*k_0^2*bessel_J(m, kappa*rho)*sin(m*varphi)*sin(k_0*z) - I*(B_z_0*k_0*cos(k_0*z) - A_z_0*k_0*sin(k_0*z))*m*bessel_J(m, kappa*rho)*sin(m*varphi)/rho)*c/(mu_0*omega) == -I*B_phi_0*epsilon_0*omega*bessel_J(m, kappa*rho)*sin(m*varphi)*sin(k_0*z)/c,\n",
       " -1/4*(I*(kappa*(bessel_J(m + 2, kappa*rho) - bessel_J(m, kappa*rho)) + kappa*(bessel_J(m - 2, kappa*rho) - bessel_J(m, kappa*rho)))*(B_phi_1*cos(k_1*z)*sin(2*h*k_1)/cos(2*h*k_1) - B_phi_1*sin(k_1*z))*kappa*rho*sin(m*varphi) - 4*I*(B_phi_1*cos(k_1*z)*sin(2*h*k_1)/cos(2*h*k_1) - B_phi_1*sin(k_1*z))*kappa*(bessel_J(m + 1, kappa*rho) - bessel_J(m - 1, kappa*rho))*sin(m*varphi) - I*((2*B_z_1*k_1*kappa*bessel_J(m - 1, kappa*rho)*cos(2*h*k_1) + 2*B_phi_1*kappa*m*(bessel_J(m + 1, kappa*rho) - bessel_J(m - 1, kappa*rho))*sin(2*h*k_1) - 2*B_phi_1*kappa*m*bessel_J(m - 1, kappa*rho)*sin(2*h*k_1) + (B_z_1*k_1*kappa^2*(bessel_J(m - 2, kappa*rho) - bessel_J(m, kappa*rho))*cos(2*h*k_1) - B_phi_1*kappa^2*m*(bessel_J(m - 2, kappa*rho) - bessel_J(m, kappa*rho))*sin(2*h*k_1) + (B_z_1*k_1*kappa*cos(2*h*k_1) - B_phi_1*kappa*m*sin(2*h*k_1))*kappa*(bessel_J(m + 2, kappa*rho) - bessel_J(m, kappa*rho)))*rho - 2*(B_z_1*k_1*kappa*cos(2*h*k_1) - B_phi_1*kappa*m*sin(2*h*k_1))*bessel_J(m + 1, kappa*rho))*cos(k_1*z) - (2*B_phi_1*kappa*m*(bessel_J(m + 1, kappa*rho) - bessel_J(m - 1, kappa*rho))*cos(2*h*k_1) + 2*A_z_1*k_1*kappa*bessel_J(m - 1, kappa*rho)*cos(2*h*k_1) - 2*B_phi_1*kappa*m*bessel_J(m - 1, kappa*rho)*cos(2*h*k_1) + (A_z_1*k_1*kappa^2*(bessel_J(m - 2, kappa*rho) - bessel_J(m, kappa*rho))*cos(2*h*k_1) - B_phi_1*kappa^2*m*(bessel_J(m - 2, kappa*rho) - bessel_J(m, kappa*rho))*cos(2*h*k_1) + (A_z_1*k_1*kappa*cos(2*h*k_1) - B_phi_1*kappa*m*cos(2*h*k_1))*kappa*(bessel_J(m + 2, kappa*rho) - bessel_J(m, kappa*rho)))*rho - 2*(A_z_1*k_1*kappa*cos(2*h*k_1) - B_phi_1*kappa*m*cos(2*h*k_1))*bessel_J(m + 1, kappa*rho))*sin(k_1*z))*(B_r_1*cos(k_1*z)*sin(2*h*k_1)/cos(2*h*k_1) - B_r_1*sin(k_1*z))*m*sin(m*varphi)/((B_r_1*kappa^2*rho*sin(2*h*k_1) - B_r_1*m^2*sin(2*h*k_1))*cos(k_1*z) - (B_r_1*kappa^2*rho*cos(2*h*k_1) - B_r_1*m^2*cos(2*h*k_1))*sin(k_1*z)) - 2*I*(B_r_1*kappa^2*cos(k_1*z)*sin(2*h*k_1) - B_r_1*kappa^2*cos(2*h*k_1)*sin(k_1*z))*((2*B_phi_1*m*bessel_J(m, kappa*rho)*sin(2*h*k_1) - (B_z_1*k_1*kappa*bessel_J(m - 1, kappa*rho)*cos(2*h*k_1) - B_phi_1*kappa*m*bessel_J(m - 1, kappa*rho)*sin(2*h*k_1) - (B_z_1*k_1*kappa*cos(2*h*k_1) - B_phi_1*kappa*m*sin(2*h*k_1))*bessel_J(m + 1, kappa*rho))*rho)*cos(k_1*z) - (2*B_phi_1*m*bessel_J(m, kappa*rho)*cos(2*h*k_1) - (A_z_1*k_1*kappa*bessel_J(m - 1, kappa*rho)*cos(2*h*k_1) - B_phi_1*kappa*m*bessel_J(m - 1, kappa*rho)*cos(2*h*k_1) - (A_z_1*k_1*kappa*cos(2*h*k_1) - B_phi_1*kappa*m*cos(2*h*k_1))*bessel_J(m + 1, kappa*rho))*rho)*sin(k_1*z))*(B_r_1*cos(k_1*z)*sin(2*h*k_1)/cos(2*h*k_1) - B_r_1*sin(k_1*z))*m*sin(m*varphi)/((B_r_1*kappa^2*rho*sin(2*h*k_1) - B_r_1*m^2*sin(2*h*k_1))*cos(k_1*z) - (B_r_1*kappa^2*rho*cos(2*h*k_1) - B_r_1*m^2*cos(2*h*k_1))*sin(k_1*z))^2)*c/(mu_1*omega) + (I*(B_phi_1*k_1^2*cos(k_1*z)*sin(2*h*k_1)/cos(2*h*k_1) - B_phi_1*k_1^2*sin(k_1*z))*bessel_J(m, kappa*rho)*sin(m*varphi) + I*(B_z_1*k_1*cos(k_1*z) - A_z_1*k_1*sin(k_1*z))*m*bessel_J(m, kappa*rho)*sin(m*varphi)/rho)*c/(mu_1*omega) == I*(B_phi_1*cos(k_1*z)*sin(2*h*k_1)/cos(2*h*k_1) - B_phi_1*sin(k_1*z))*epsilon_1*omega*bessel_J(m, kappa*rho)*sin(m*varphi)/c]"
      ]
     },
     "execution_count": 95,
     "metadata": {},
     "output_type": "execute_result"
    }
   ],
   "source": [
    "eq_rotH_phi"
   ]
  },
  {
   "cell_type": "code",
   "execution_count": 96,
   "metadata": {},
   "outputs": [
    {
     "data": {
      "text/plain": [
       "[-1/2*(-I*(B_z_0*k_0*cos(k_0*z) - A_z_0*k_0*sin(k_0*z))*kappa*(bessel_J(m + 1, kappa*rho) - bessel_J(m - 1, kappa*rho))*cos(m*varphi) - I*((B_z_0*k_0*kappa*bessel_J(m + 1, kappa*rho) - B_z_0*k_0*kappa*bessel_J(m - 1, kappa*rho))*k_0^2*rho*cos(k_0*z) - (2*B_phi_0*m*bessel_J(m, kappa*rho) - (A_z_0*k_0*kappa*bessel_J(m - 1, kappa*rho) - B_phi_0*kappa*m*bessel_J(m - 1, kappa*rho) - (A_z_0*k_0*kappa - B_phi_0*kappa*m)*bessel_J(m + 1, kappa*rho))*rho)*k_0^2*sin(k_0*z))*B_r_0*cos(m*varphi)/(B_r_0*kappa^2*rho - B_r_0*m^2))*c/(mu_0*omega) - 1/2*(-I*B_phi_0*kappa*m*rho*(bessel_J(m + 1, kappa*rho) - bessel_J(m - 1, kappa*rho))*cos(m*varphi)*sin(k_0*z) + 2*I*B_phi_0*m*bessel_J(m, kappa*rho)*cos(m*varphi)*sin(k_0*z) - I*((B_z_0*k_0*kappa*bessel_J(m + 1, kappa*rho) - B_z_0*k_0*kappa*bessel_J(m - 1, kappa*rho))*rho*cos(k_0*z) - (2*B_phi_0*m*bessel_J(m, kappa*rho) - (A_z_0*k_0*kappa*bessel_J(m - 1, kappa*rho) - B_phi_0*kappa*m*bessel_J(m - 1, kappa*rho) - (A_z_0*k_0*kappa - B_phi_0*kappa*m)*bessel_J(m + 1, kappa*rho))*rho)*sin(k_0*z))*B_r_0*m^2*cos(m*varphi)/(B_r_0*kappa^2*rho - B_r_0*m^2))*c/(mu_0*omega*rho) == 1/2*I*((B_z_0*k_0*kappa*bessel_J(m + 1, kappa*rho) - B_z_0*k_0*kappa*bessel_J(m - 1, kappa*rho))*rho*cos(k_0*z) - (2*B_phi_0*m*bessel_J(m, kappa*rho) - (A_z_0*k_0*kappa*bessel_J(m - 1, kappa*rho) - B_phi_0*kappa*m*bessel_J(m - 1, kappa*rho) - (A_z_0*k_0*kappa - B_phi_0*kappa*m)*bessel_J(m + 1, kappa*rho))*rho)*sin(k_0*z))*B_r_0*epsilon_0*omega*cos(m*varphi)/((B_r_0*kappa^2*rho - B_r_0*m^2)*c),\n",
       " -1/2*(-I*(B_z_1*k_1*cos(k_1*z) - A_z_1*k_1*sin(k_1*z))*kappa*(bessel_J(m + 1, kappa*rho) - bessel_J(m - 1, kappa*rho))*cos(m*varphi) + 2*I*((2*B_phi_1*m*bessel_J(m, kappa*rho)*cos(2*h*k_1) - (A_z_1*k_1*kappa*bessel_J(m - 1, kappa*rho)*cos(2*h*k_1) - B_phi_1*kappa*m*bessel_J(m - 1, kappa*rho)*cos(2*h*k_1) - (A_z_1*k_1*kappa*cos(2*h*k_1) - B_phi_1*kappa*m*cos(2*h*k_1))*bessel_J(m + 1, kappa*rho))*rho)*k_1*cos(k_1*z) + (2*B_phi_1*m*bessel_J(m, kappa*rho)*sin(2*h*k_1) - (B_z_1*k_1*kappa*bessel_J(m - 1, kappa*rho)*cos(2*h*k_1) - B_phi_1*kappa*m*bessel_J(m - 1, kappa*rho)*sin(2*h*k_1) - (B_z_1*k_1*kappa*cos(2*h*k_1) - B_phi_1*kappa*m*sin(2*h*k_1))*bessel_J(m + 1, kappa*rho))*rho)*k_1*sin(k_1*z))*(B_r_1*k_1*cos(k_1*z) + B_r_1*k_1*sin(2*h*k_1)*sin(k_1*z)/cos(2*h*k_1))*cos(m*varphi)/((B_r_1*kappa^2*rho*sin(2*h*k_1) - B_r_1*m^2*sin(2*h*k_1))*cos(k_1*z) - (B_r_1*kappa^2*rho*cos(2*h*k_1) - B_r_1*m^2*cos(2*h*k_1))*sin(k_1*z)) - 2*I*((B_r_1*kappa^2*rho*cos(2*h*k_1) - B_r_1*m^2*cos(2*h*k_1))*k_1*cos(k_1*z) + (B_r_1*kappa^2*rho*sin(2*h*k_1) - B_r_1*m^2*sin(2*h*k_1))*k_1*sin(k_1*z))*(B_r_1*k_1*cos(k_1*z) + B_r_1*k_1*sin(2*h*k_1)*sin(k_1*z)/cos(2*h*k_1))*((2*B_phi_1*m*bessel_J(m, kappa*rho)*sin(2*h*k_1) - (B_z_1*k_1*kappa*bessel_J(m - 1, kappa*rho)*cos(2*h*k_1) - B_phi_1*kappa*m*bessel_J(m - 1, kappa*rho)*sin(2*h*k_1) - (B_z_1*k_1*kappa*cos(2*h*k_1) - B_phi_1*kappa*m*sin(2*h*k_1))*bessel_J(m + 1, kappa*rho))*rho)*cos(k_1*z) - (2*B_phi_1*m*bessel_J(m, kappa*rho)*cos(2*h*k_1) - (A_z_1*k_1*kappa*bessel_J(m - 1, kappa*rho)*cos(2*h*k_1) - B_phi_1*kappa*m*bessel_J(m - 1, kappa*rho)*cos(2*h*k_1) - (A_z_1*k_1*kappa*cos(2*h*k_1) - B_phi_1*kappa*m*cos(2*h*k_1))*bessel_J(m + 1, kappa*rho))*rho)*sin(k_1*z))*cos(m*varphi)/((B_r_1*kappa^2*rho*sin(2*h*k_1) - B_r_1*m^2*sin(2*h*k_1))*cos(k_1*z) - (B_r_1*kappa^2*rho*cos(2*h*k_1) - B_r_1*m^2*cos(2*h*k_1))*sin(k_1*z))^2 - I*(B_r_1*k_1^2*cos(k_1*z)*sin(2*h*k_1)/cos(2*h*k_1) - B_r_1*k_1^2*sin(k_1*z))*((2*B_phi_1*m*bessel_J(m, kappa*rho)*sin(2*h*k_1) - (B_z_1*k_1*kappa*bessel_J(m - 1, kappa*rho)*cos(2*h*k_1) - B_phi_1*kappa*m*bessel_J(m - 1, kappa*rho)*sin(2*h*k_1) - (B_z_1*k_1*kappa*cos(2*h*k_1) - B_phi_1*kappa*m*sin(2*h*k_1))*bessel_J(m + 1, kappa*rho))*rho)*cos(k_1*z) - (2*B_phi_1*m*bessel_J(m, kappa*rho)*cos(2*h*k_1) - (A_z_1*k_1*kappa*bessel_J(m - 1, kappa*rho)*cos(2*h*k_1) - B_phi_1*kappa*m*bessel_J(m - 1, kappa*rho)*cos(2*h*k_1) - (A_z_1*k_1*kappa*cos(2*h*k_1) - B_phi_1*kappa*m*cos(2*h*k_1))*bessel_J(m + 1, kappa*rho))*rho)*sin(k_1*z))*cos(m*varphi)/((B_r_1*kappa^2*rho*sin(2*h*k_1) - B_r_1*m^2*sin(2*h*k_1))*cos(k_1*z) - (B_r_1*kappa^2*rho*cos(2*h*k_1) - B_r_1*m^2*cos(2*h*k_1))*sin(k_1*z)) - 2*I*((B_r_1*kappa^2*rho*cos(2*h*k_1) - B_r_1*m^2*cos(2*h*k_1))*k_1*cos(k_1*z) + (B_r_1*kappa^2*rho*sin(2*h*k_1) - B_r_1*m^2*sin(2*h*k_1))*k_1*sin(k_1*z))*((2*B_phi_1*m*bessel_J(m, kappa*rho)*cos(2*h*k_1) - (A_z_1*k_1*kappa*bessel_J(m - 1, kappa*rho)*cos(2*h*k_1) - B_phi_1*kappa*m*bessel_J(m - 1, kappa*rho)*cos(2*h*k_1) - (A_z_1*k_1*kappa*cos(2*h*k_1) - B_phi_1*kappa*m*cos(2*h*k_1))*bessel_J(m + 1, kappa*rho))*rho)*k_1*cos(k_1*z) + (2*B_phi_1*m*bessel_J(m, kappa*rho)*sin(2*h*k_1) - (B_z_1*k_1*kappa*bessel_J(m - 1, kappa*rho)*cos(2*h*k_1) - B_phi_1*kappa*m*bessel_J(m - 1, kappa*rho)*sin(2*h*k_1) - (B_z_1*k_1*kappa*cos(2*h*k_1) - B_phi_1*kappa*m*sin(2*h*k_1))*bessel_J(m + 1, kappa*rho))*rho)*k_1*sin(k_1*z))*(B_r_1*cos(k_1*z)*sin(2*h*k_1)/cos(2*h*k_1) - B_r_1*sin(k_1*z))*cos(m*varphi)/((B_r_1*kappa^2*rho*sin(2*h*k_1) - B_r_1*m^2*sin(2*h*k_1))*cos(k_1*z) - (B_r_1*kappa^2*rho*cos(2*h*k_1) - B_r_1*m^2*cos(2*h*k_1))*sin(k_1*z))^2 - I*((2*B_phi_1*m*bessel_J(m, kappa*rho)*sin(2*h*k_1) - (B_z_1*k_1*kappa*bessel_J(m - 1, kappa*rho)*cos(2*h*k_1) - B_phi_1*kappa*m*bessel_J(m - 1, kappa*rho)*sin(2*h*k_1) - (B_z_1*k_1*kappa*cos(2*h*k_1) - B_phi_1*kappa*m*sin(2*h*k_1))*bessel_J(m + 1, kappa*rho))*rho)*k_1^2*cos(k_1*z) - (2*B_phi_1*m*bessel_J(m, kappa*rho)*cos(2*h*k_1) - (A_z_1*k_1*kappa*bessel_J(m - 1, kappa*rho)*cos(2*h*k_1) - B_phi_1*kappa*m*bessel_J(m - 1, kappa*rho)*cos(2*h*k_1) - (A_z_1*k_1*kappa*cos(2*h*k_1) - B_phi_1*kappa*m*cos(2*h*k_1))*bessel_J(m + 1, kappa*rho))*rho)*k_1^2*sin(k_1*z))*(B_r_1*cos(k_1*z)*sin(2*h*k_1)/cos(2*h*k_1) - B_r_1*sin(k_1*z))*cos(m*varphi)/((B_r_1*kappa^2*rho*sin(2*h*k_1) - B_r_1*m^2*sin(2*h*k_1))*cos(k_1*z) - (B_r_1*kappa^2*rho*cos(2*h*k_1) - B_r_1*m^2*cos(2*h*k_1))*sin(k_1*z)) + 2*I*((B_r_1*kappa^2*rho*cos(2*h*k_1) - B_r_1*m^2*cos(2*h*k_1))*k_1*cos(k_1*z) + (B_r_1*kappa^2*rho*sin(2*h*k_1) - B_r_1*m^2*sin(2*h*k_1))*k_1*sin(k_1*z))^2*((2*B_phi_1*m*bessel_J(m, kappa*rho)*sin(2*h*k_1) - (B_z_1*k_1*kappa*bessel_J(m - 1, kappa*rho)*cos(2*h*k_1) - B_phi_1*kappa*m*bessel_J(m - 1, kappa*rho)*sin(2*h*k_1) - (B_z_1*k_1*kappa*cos(2*h*k_1) - B_phi_1*kappa*m*sin(2*h*k_1))*bessel_J(m + 1, kappa*rho))*rho)*cos(k_1*z) - (2*B_phi_1*m*bessel_J(m, kappa*rho)*cos(2*h*k_1) - (A_z_1*k_1*kappa*bessel_J(m - 1, kappa*rho)*cos(2*h*k_1) - B_phi_1*kappa*m*bessel_J(m - 1, kappa*rho)*cos(2*h*k_1) - (A_z_1*k_1*kappa*cos(2*h*k_1) - B_phi_1*kappa*m*cos(2*h*k_1))*bessel_J(m + 1, kappa*rho))*rho)*sin(k_1*z))*(B_r_1*cos(k_1*z)*sin(2*h*k_1)/cos(2*h*k_1) - B_r_1*sin(k_1*z))*cos(m*varphi)/((B_r_1*kappa^2*rho*sin(2*h*k_1) - B_r_1*m^2*sin(2*h*k_1))*cos(k_1*z) - (B_r_1*kappa^2*rho*cos(2*h*k_1) - B_r_1*m^2*cos(2*h*k_1))*sin(k_1*z))^3 + I*((B_r_1*kappa^2*rho*sin(2*h*k_1) - B_r_1*m^2*sin(2*h*k_1))*k_1^2*cos(k_1*z) - (B_r_1*kappa^2*rho*cos(2*h*k_1) - B_r_1*m^2*cos(2*h*k_1))*k_1^2*sin(k_1*z))*((2*B_phi_1*m*bessel_J(m, kappa*rho)*sin(2*h*k_1) - (B_z_1*k_1*kappa*bessel_J(m - 1, kappa*rho)*cos(2*h*k_1) - B_phi_1*kappa*m*bessel_J(m - 1, kappa*rho)*sin(2*h*k_1) - (B_z_1*k_1*kappa*cos(2*h*k_1) - B_phi_1*kappa*m*sin(2*h*k_1))*bessel_J(m + 1, kappa*rho))*rho)*cos(k_1*z) - (2*B_phi_1*m*bessel_J(m, kappa*rho)*cos(2*h*k_1) - (A_z_1*k_1*kappa*bessel_J(m - 1, kappa*rho)*cos(2*h*k_1) - B_phi_1*kappa*m*bessel_J(m - 1, kappa*rho)*cos(2*h*k_1) - (A_z_1*k_1*kappa*cos(2*h*k_1) - B_phi_1*kappa*m*cos(2*h*k_1))*bessel_J(m + 1, kappa*rho))*rho)*sin(k_1*z))*(B_r_1*cos(k_1*z)*sin(2*h*k_1)/cos(2*h*k_1) - B_r_1*sin(k_1*z))*cos(m*varphi)/((B_r_1*kappa^2*rho*sin(2*h*k_1) - B_r_1*m^2*sin(2*h*k_1))*cos(k_1*z) - (B_r_1*kappa^2*rho*cos(2*h*k_1) - B_r_1*m^2*cos(2*h*k_1))*sin(k_1*z))^2)*c/(mu_1*omega) + 1/2*(-I*(B_phi_1*cos(k_1*z)*sin(2*h*k_1)/cos(2*h*k_1) - B_phi_1*sin(k_1*z))*kappa*m*rho*(bessel_J(m + 1, kappa*rho) - bessel_J(m - 1, kappa*rho))*cos(m*varphi) + I*((2*B_phi_1*m*bessel_J(m, kappa*rho)*sin(2*h*k_1) - (B_z_1*k_1*kappa*bessel_J(m - 1, kappa*rho)*cos(2*h*k_1) - B_phi_1*kappa*m*bessel_J(m - 1, kappa*rho)*sin(2*h*k_1) - (B_z_1*k_1*kappa*cos(2*h*k_1) - B_phi_1*kappa*m*sin(2*h*k_1))*bessel_J(m + 1, kappa*rho))*rho)*cos(k_1*z) - (2*B_phi_1*m*bessel_J(m, kappa*rho)*cos(2*h*k_1) - (A_z_1*k_1*kappa*bessel_J(m - 1, kappa*rho)*cos(2*h*k_1) - B_phi_1*kappa*m*bessel_J(m - 1, kappa*rho)*cos(2*h*k_1) - (A_z_1*k_1*kappa*cos(2*h*k_1) - B_phi_1*kappa*m*cos(2*h*k_1))*bessel_J(m + 1, kappa*rho))*rho)*sin(k_1*z))*(B_r_1*cos(k_1*z)*sin(2*h*k_1)/cos(2*h*k_1) - B_r_1*sin(k_1*z))*m^2*cos(m*varphi)/((B_r_1*kappa^2*rho*sin(2*h*k_1) - B_r_1*m^2*sin(2*h*k_1))*cos(k_1*z) - (B_r_1*kappa^2*rho*cos(2*h*k_1) - B_r_1*m^2*cos(2*h*k_1))*sin(k_1*z)) + 2*I*(B_phi_1*cos(k_1*z)*sin(2*h*k_1)/cos(2*h*k_1) - B_phi_1*sin(k_1*z))*m*bessel_J(m, kappa*rho)*cos(m*varphi))*c/(mu_1*omega*rho) == 1/2*I*((2*B_phi_1*m*bessel_J(m, kappa*rho)*sin(2*h*k_1) - (B_z_1*k_1*kappa*bessel_J(m - 1, kappa*rho)*cos(2*h*k_1) - B_phi_1*kappa*m*bessel_J(m - 1, kappa*rho)*sin(2*h*k_1) - (B_z_1*k_1*kappa*cos(2*h*k_1) - B_phi_1*kappa*m*sin(2*h*k_1))*bessel_J(m + 1, kappa*rho))*rho)*cos(k_1*z) - (2*B_phi_1*m*bessel_J(m, kappa*rho)*cos(2*h*k_1) - (A_z_1*k_1*kappa*bessel_J(m - 1, kappa*rho)*cos(2*h*k_1) - B_phi_1*kappa*m*bessel_J(m - 1, kappa*rho)*cos(2*h*k_1) - (A_z_1*k_1*kappa*cos(2*h*k_1) - B_phi_1*kappa*m*cos(2*h*k_1))*bessel_J(m + 1, kappa*rho))*rho)*sin(k_1*z))*(B_r_1*cos(k_1*z)*sin(2*h*k_1)/cos(2*h*k_1) - B_r_1*sin(k_1*z))*epsilon_1*omega*cos(m*varphi)/(((B_r_1*kappa^2*rho*sin(2*h*k_1) - B_r_1*m^2*sin(2*h*k_1))*cos(k_1*z) - (B_r_1*kappa^2*rho*cos(2*h*k_1) - B_r_1*m^2*cos(2*h*k_1))*sin(k_1*z))*c)]"
      ]
     },
     "execution_count": 96,
     "metadata": {},
     "output_type": "execute_result"
    }
   ],
   "source": [
    "eq_rotH_rho"
   ]
  },
  {
   "cell_type": "code",
   "execution_count": 97,
   "metadata": {},
   "outputs": [
    {
     "data": {
      "text/plain": [
       "[-I*(A_z_0*cos(k_0*z) + B_z_0*sin(k_0*z))*epsilon_0*omega*bessel_J(m, kappa*rho)*cos(m*varphi)/c - 1/4*(-I*(kappa*(bessel_J(m + 2, kappa*rho) - bessel_J(m, kappa*rho)) + kappa*(bessel_J(m - 2, kappa*rho) - bessel_J(m, kappa*rho)))*(A_z_0*cos(k_0*z) + B_z_0*sin(k_0*z))*kappa*cos(m*varphi) - 2*I*((B_z_0*k_0*kappa*bessel_J(m + 1, kappa*rho) - B_z_0*k_0*kappa*bessel_J(m - 1, kappa*rho))*k_0*rho*sin(k_0*z) + (2*B_phi_0*m*bessel_J(m, kappa*rho) - (A_z_0*k_0*kappa*bessel_J(m - 1, kappa*rho) - B_phi_0*kappa*m*bessel_J(m - 1, kappa*rho) - (A_z_0*k_0*kappa - B_phi_0*kappa*m)*bessel_J(m + 1, kappa*rho))*rho)*k_0*cos(k_0*z))*B_r_0^2*kappa^2*cos(m*varphi)/(B_r_0*kappa^2*rho - B_r_0*m^2)^2 - I*((B_z_0*k_0*kappa^2*(bessel_J(m + 2, kappa*rho) - bessel_J(m, kappa*rho)) + B_z_0*k_0*kappa^2*(bessel_J(m - 2, kappa*rho) - bessel_J(m, kappa*rho)))*k_0*rho*sin(k_0*z) + (2*B_phi_0*kappa*m*(bessel_J(m + 1, kappa*rho) - bessel_J(m - 1, kappa*rho)) + 2*A_z_0*k_0*kappa*bessel_J(m - 1, kappa*rho) - 2*B_phi_0*kappa*m*bessel_J(m - 1, kappa*rho) + (A_z_0*k_0*kappa^2*(bessel_J(m - 2, kappa*rho) - bessel_J(m, kappa*rho)) - B_phi_0*kappa^2*m*(bessel_J(m - 2, kappa*rho) - bessel_J(m, kappa*rho)) + (A_z_0*k_0*kappa - B_phi_0*kappa*m)*kappa*(bessel_J(m + 2, kappa*rho) - bessel_J(m, kappa*rho)))*rho - 2*(A_z_0*k_0*kappa - B_phi_0*kappa*m)*bessel_J(m + 1, kappa*rho))*k_0*cos(k_0*z) - 2*(B_z_0*k_0*kappa*bessel_J(m + 1, kappa*rho) - B_z_0*k_0*kappa*bessel_J(m - 1, kappa*rho))*k_0*sin(k_0*z))*B_r_0*cos(m*varphi)/(B_r_0*kappa^2*rho - B_r_0*m^2))*c*rho/(mu_0*omega) - (I*B_phi_0*k_0*m*bessel_J(m, kappa*rho)*cos(m*varphi)*cos(k_0*z) + I*(A_z_0*cos(k_0*z) + B_z_0*sin(k_0*z))*m^2*bessel_J(m, kappa*rho)*cos(m*varphi)/rho)*c/(mu_0*omega) + 1/2*(-I*(A_z_0*cos(k_0*z) + B_z_0*sin(k_0*z))*kappa*(bessel_J(m + 1, kappa*rho) - bessel_J(m - 1, kappa*rho))*cos(m*varphi) - I*((B_z_0*k_0*kappa*bessel_J(m + 1, kappa*rho) - B_z_0*k_0*kappa*bessel_J(m - 1, kappa*rho))*k_0*rho*sin(k_0*z) + (2*B_phi_0*m*bessel_J(m, kappa*rho) - (A_z_0*k_0*kappa*bessel_J(m - 1, kappa*rho) - B_phi_0*kappa*m*bessel_J(m - 1, kappa*rho) - (A_z_0*k_0*kappa - B_phi_0*kappa*m)*bessel_J(m + 1, kappa*rho))*rho)*k_0*cos(k_0*z))*B_r_0*cos(m*varphi)/(B_r_0*kappa^2*rho - B_r_0*m^2))*c/(mu_0*omega) == 0,\n",
       " -I*(A_z_1*cos(k_1*z) + B_z_1*sin(k_1*z))*epsilon_1*omega*bessel_J(m, kappa*rho)*cos(m*varphi)/c - 1/4*(-I*(kappa*(bessel_J(m + 2, kappa*rho) - bessel_J(m, kappa*rho)) + kappa*(bessel_J(m - 2, kappa*rho) - bessel_J(m, kappa*rho)))*(A_z_1*cos(k_1*z) + B_z_1*sin(k_1*z))*kappa*cos(m*varphi) - I*(B_r_1*k_1*cos(k_1*z) + B_r_1*k_1*sin(2*h*k_1)*sin(k_1*z)/cos(2*h*k_1))*((2*B_z_1*k_1*kappa*bessel_J(m - 1, kappa*rho)*cos(2*h*k_1) + 2*B_phi_1*kappa*m*(bessel_J(m + 1, kappa*rho) - bessel_J(m - 1, kappa*rho))*sin(2*h*k_1) - 2*B_phi_1*kappa*m*bessel_J(m - 1, kappa*rho)*sin(2*h*k_1) + (B_z_1*k_1*kappa^2*(bessel_J(m - 2, kappa*rho) - bessel_J(m, kappa*rho))*cos(2*h*k_1) - B_phi_1*kappa^2*m*(bessel_J(m - 2, kappa*rho) - bessel_J(m, kappa*rho))*sin(2*h*k_1) + (B_z_1*k_1*kappa*cos(2*h*k_1) - B_phi_1*kappa*m*sin(2*h*k_1))*kappa*(bessel_J(m + 2, kappa*rho) - bessel_J(m, kappa*rho)))*rho - 2*(B_z_1*k_1*kappa*cos(2*h*k_1) - B_phi_1*kappa*m*sin(2*h*k_1))*bessel_J(m + 1, kappa*rho))*cos(k_1*z) - (2*B_phi_1*kappa*m*(bessel_J(m + 1, kappa*rho) - bessel_J(m - 1, kappa*rho))*cos(2*h*k_1) + 2*A_z_1*k_1*kappa*bessel_J(m - 1, kappa*rho)*cos(2*h*k_1) - 2*B_phi_1*kappa*m*bessel_J(m - 1, kappa*rho)*cos(2*h*k_1) + (A_z_1*k_1*kappa^2*(bessel_J(m - 2, kappa*rho) - bessel_J(m, kappa*rho))*cos(2*h*k_1) - B_phi_1*kappa^2*m*(bessel_J(m - 2, kappa*rho) - bessel_J(m, kappa*rho))*cos(2*h*k_1) + (A_z_1*k_1*kappa*cos(2*h*k_1) - B_phi_1*kappa*m*cos(2*h*k_1))*kappa*(bessel_J(m + 2, kappa*rho) - bessel_J(m, kappa*rho)))*rho - 2*(A_z_1*k_1*kappa*cos(2*h*k_1) - B_phi_1*kappa*m*cos(2*h*k_1))*bessel_J(m + 1, kappa*rho))*sin(k_1*z))*cos(m*varphi)/((B_r_1*kappa^2*rho*sin(2*h*k_1) - B_r_1*m^2*sin(2*h*k_1))*cos(k_1*z) - (B_r_1*kappa^2*rho*cos(2*h*k_1) - B_r_1*m^2*cos(2*h*k_1))*sin(k_1*z)) - 2*I*(B_r_1*kappa^2*cos(k_1*z)*sin(2*h*k_1) - B_r_1*kappa^2*cos(2*h*k_1)*sin(k_1*z))*(B_r_1*k_1*cos(k_1*z) + B_r_1*k_1*sin(2*h*k_1)*sin(k_1*z)/cos(2*h*k_1))*((2*B_phi_1*m*bessel_J(m, kappa*rho)*sin(2*h*k_1) - (B_z_1*k_1*kappa*bessel_J(m - 1, kappa*rho)*cos(2*h*k_1) - B_phi_1*kappa*m*bessel_J(m - 1, kappa*rho)*sin(2*h*k_1) - (B_z_1*k_1*kappa*cos(2*h*k_1) - B_phi_1*kappa*m*sin(2*h*k_1))*bessel_J(m + 1, kappa*rho))*rho)*cos(k_1*z) - (2*B_phi_1*m*bessel_J(m, kappa*rho)*cos(2*h*k_1) - (A_z_1*k_1*kappa*bessel_J(m - 1, kappa*rho)*cos(2*h*k_1) - B_phi_1*kappa*m*bessel_J(m - 1, kappa*rho)*cos(2*h*k_1) - (A_z_1*k_1*kappa*cos(2*h*k_1) - B_phi_1*kappa*m*cos(2*h*k_1))*bessel_J(m + 1, kappa*rho))*rho)*sin(k_1*z))*cos(m*varphi)/((B_r_1*kappa^2*rho*sin(2*h*k_1) - B_r_1*m^2*sin(2*h*k_1))*cos(k_1*z) - (B_r_1*kappa^2*rho*cos(2*h*k_1) - B_r_1*m^2*cos(2*h*k_1))*sin(k_1*z))^2 - 2*I*(B_r_1*kappa^2*cos(k_1*z)*sin(2*h*k_1) - B_r_1*kappa^2*cos(2*h*k_1)*sin(k_1*z))*((2*B_phi_1*m*bessel_J(m, kappa*rho)*cos(2*h*k_1) - (A_z_1*k_1*kappa*bessel_J(m - 1, kappa*rho)*cos(2*h*k_1) - B_phi_1*kappa*m*bessel_J(m - 1, kappa*rho)*cos(2*h*k_1) - (A_z_1*k_1*kappa*cos(2*h*k_1) - B_phi_1*kappa*m*cos(2*h*k_1))*bessel_J(m + 1, kappa*rho))*rho)*k_1*cos(k_1*z) + (2*B_phi_1*m*bessel_J(m, kappa*rho)*sin(2*h*k_1) - (B_z_1*k_1*kappa*bessel_J(m - 1, kappa*rho)*cos(2*h*k_1) - B_phi_1*kappa*m*bessel_J(m - 1, kappa*rho)*sin(2*h*k_1) - (B_z_1*k_1*kappa*cos(2*h*k_1) - B_phi_1*kappa*m*sin(2*h*k_1))*bessel_J(m + 1, kappa*rho))*rho)*k_1*sin(k_1*z))*(B_r_1*cos(k_1*z)*sin(2*h*k_1)/cos(2*h*k_1) - B_r_1*sin(k_1*z))*cos(m*varphi)/((B_r_1*kappa^2*rho*sin(2*h*k_1) - B_r_1*m^2*sin(2*h*k_1))*cos(k_1*z) - (B_r_1*kappa^2*rho*cos(2*h*k_1) - B_r_1*m^2*cos(2*h*k_1))*sin(k_1*z))^2 + I*((B_r_1*kappa^2*rho*cos(2*h*k_1) - B_r_1*m^2*cos(2*h*k_1))*k_1*cos(k_1*z) + (B_r_1*kappa^2*rho*sin(2*h*k_1) - B_r_1*m^2*sin(2*h*k_1))*k_1*sin(k_1*z))*((2*B_z_1*k_1*kappa*bessel_J(m - 1, kappa*rho)*cos(2*h*k_1) + 2*B_phi_1*kappa*m*(bessel_J(m + 1, kappa*rho) - bessel_J(m - 1, kappa*rho))*sin(2*h*k_1) - 2*B_phi_1*kappa*m*bessel_J(m - 1, kappa*rho)*sin(2*h*k_1) + (B_z_1*k_1*kappa^2*(bessel_J(m - 2, kappa*rho) - bessel_J(m, kappa*rho))*cos(2*h*k_1) - B_phi_1*kappa^2*m*(bessel_J(m - 2, kappa*rho) - bessel_J(m, kappa*rho))*sin(2*h*k_1) + (B_z_1*k_1*kappa*cos(2*h*k_1) - B_phi_1*kappa*m*sin(2*h*k_1))*kappa*(bessel_J(m + 2, kappa*rho) - bessel_J(m, kappa*rho)))*rho - 2*(B_z_1*k_1*kappa*cos(2*h*k_1) - B_phi_1*kappa*m*sin(2*h*k_1))*bessel_J(m + 1, kappa*rho))*cos(k_1*z) - (2*B_phi_1*kappa*m*(bessel_J(m + 1, kappa*rho) - bessel_J(m - 1, kappa*rho))*cos(2*h*k_1) + 2*A_z_1*k_1*kappa*bessel_J(m - 1, kappa*rho)*cos(2*h*k_1) - 2*B_phi_1*kappa*m*bessel_J(m - 1, kappa*rho)*cos(2*h*k_1) + (A_z_1*k_1*kappa^2*(bessel_J(m - 2, kappa*rho) - bessel_J(m, kappa*rho))*cos(2*h*k_1) - B_phi_1*kappa^2*m*(bessel_J(m - 2, kappa*rho) - bessel_J(m, kappa*rho))*cos(2*h*k_1) + (A_z_1*k_1*kappa*cos(2*h*k_1) - B_phi_1*kappa*m*cos(2*h*k_1))*kappa*(bessel_J(m + 2, kappa*rho) - bessel_J(m, kappa*rho)))*rho - 2*(A_z_1*k_1*kappa*cos(2*h*k_1) - B_phi_1*kappa*m*cos(2*h*k_1))*bessel_J(m + 1, kappa*rho))*sin(k_1*z))*(B_r_1*cos(k_1*z)*sin(2*h*k_1)/cos(2*h*k_1) - B_r_1*sin(k_1*z))*cos(m*varphi)/((B_r_1*kappa^2*rho*sin(2*h*k_1) - B_r_1*m^2*sin(2*h*k_1))*cos(k_1*z) - (B_r_1*kappa^2*rho*cos(2*h*k_1) - B_r_1*m^2*cos(2*h*k_1))*sin(k_1*z))^2 - I*((2*B_phi_1*kappa*m*(bessel_J(m + 1, kappa*rho) - bessel_J(m - 1, kappa*rho))*cos(2*h*k_1) + 2*A_z_1*k_1*kappa*bessel_J(m - 1, kappa*rho)*cos(2*h*k_1) - 2*B_phi_1*kappa*m*bessel_J(m - 1, kappa*rho)*cos(2*h*k_1) + (A_z_1*k_1*kappa^2*(bessel_J(m - 2, kappa*rho) - bessel_J(m, kappa*rho))*cos(2*h*k_1) - B_phi_1*kappa^2*m*(bessel_J(m - 2, kappa*rho) - bessel_J(m, kappa*rho))*cos(2*h*k_1) + (A_z_1*k_1*kappa*cos(2*h*k_1) - B_phi_1*kappa*m*cos(2*h*k_1))*kappa*(bessel_J(m + 2, kappa*rho) - bessel_J(m, kappa*rho)))*rho - 2*(A_z_1*k_1*kappa*cos(2*h*k_1) - B_phi_1*kappa*m*cos(2*h*k_1))*bessel_J(m + 1, kappa*rho))*k_1*cos(k_1*z) + (2*B_z_1*k_1*kappa*bessel_J(m - 1, kappa*rho)*cos(2*h*k_1) + 2*B_phi_1*kappa*m*(bessel_J(m + 1, kappa*rho) - bessel_J(m - 1, kappa*rho))*sin(2*h*k_1) - 2*B_phi_1*kappa*m*bessel_J(m - 1, kappa*rho)*sin(2*h*k_1) + (B_z_1*k_1*kappa^2*(bessel_J(m - 2, kappa*rho) - bessel_J(m, kappa*rho))*cos(2*h*k_1) - B_phi_1*kappa^2*m*(bessel_J(m - 2, kappa*rho) - bessel_J(m, kappa*rho))*sin(2*h*k_1) + (B_z_1*k_1*kappa*cos(2*h*k_1) - B_phi_1*kappa*m*sin(2*h*k_1))*kappa*(bessel_J(m + 2, kappa*rho) - bessel_J(m, kappa*rho)))*rho - 2*(B_z_1*k_1*kappa*cos(2*h*k_1) - B_phi_1*kappa*m*sin(2*h*k_1))*bessel_J(m + 1, kappa*rho))*k_1*sin(k_1*z))*(B_r_1*cos(k_1*z)*sin(2*h*k_1)/cos(2*h*k_1) - B_r_1*sin(k_1*z))*cos(m*varphi)/((B_r_1*kappa^2*rho*sin(2*h*k_1) - B_r_1*m^2*sin(2*h*k_1))*cos(k_1*z) - (B_r_1*kappa^2*rho*cos(2*h*k_1) - B_r_1*m^2*cos(2*h*k_1))*sin(k_1*z)) + 4*I*(B_r_1*kappa^2*cos(k_1*z)*sin(2*h*k_1) - B_r_1*kappa^2*cos(2*h*k_1)*sin(k_1*z))*((B_r_1*kappa^2*rho*cos(2*h*k_1) - B_r_1*m^2*cos(2*h*k_1))*k_1*cos(k_1*z) + (B_r_1*kappa^2*rho*sin(2*h*k_1) - B_r_1*m^2*sin(2*h*k_1))*k_1*sin(k_1*z))*((2*B_phi_1*m*bessel_J(m, kappa*rho)*sin(2*h*k_1) - (B_z_1*k_1*kappa*bessel_J(m - 1, kappa*rho)*cos(2*h*k_1) - B_phi_1*kappa*m*bessel_J(m - 1, kappa*rho)*sin(2*h*k_1) - (B_z_1*k_1*kappa*cos(2*h*k_1) - B_phi_1*kappa*m*sin(2*h*k_1))*bessel_J(m + 1, kappa*rho))*rho)*cos(k_1*z) - (2*B_phi_1*m*bessel_J(m, kappa*rho)*cos(2*h*k_1) - (A_z_1*k_1*kappa*bessel_J(m - 1, kappa*rho)*cos(2*h*k_1) - B_phi_1*kappa*m*bessel_J(m - 1, kappa*rho)*cos(2*h*k_1) - (A_z_1*k_1*kappa*cos(2*h*k_1) - B_phi_1*kappa*m*cos(2*h*k_1))*bessel_J(m + 1, kappa*rho))*rho)*sin(k_1*z))*(B_r_1*cos(k_1*z)*sin(2*h*k_1)/cos(2*h*k_1) - B_r_1*sin(k_1*z))*cos(m*varphi)/((B_r_1*kappa^2*rho*sin(2*h*k_1) - B_r_1*m^2*sin(2*h*k_1))*cos(k_1*z) - (B_r_1*kappa^2*rho*cos(2*h*k_1) - B_r_1*m^2*cos(2*h*k_1))*sin(k_1*z))^3 - 2*I*(B_r_1*k_1*kappa^2*cos(2*h*k_1)*cos(k_1*z) + B_r_1*k_1*kappa^2*sin(2*h*k_1)*sin(k_1*z))*((2*B_phi_1*m*bessel_J(m, kappa*rho)*sin(2*h*k_1) - (B_z_1*k_1*kappa*bessel_J(m - 1, kappa*rho)*cos(2*h*k_1) - B_phi_1*kappa*m*bessel_J(m - 1, kappa*rho)*sin(2*h*k_1) - (B_z_1*k_1*kappa*cos(2*h*k_1) - B_phi_1*kappa*m*sin(2*h*k_1))*bessel_J(m + 1, kappa*rho))*rho)*cos(k_1*z) - (2*B_phi_1*m*bessel_J(m, kappa*rho)*cos(2*h*k_1) - (A_z_1*k_1*kappa*bessel_J(m - 1, kappa*rho)*cos(2*h*k_1) - B_phi_1*kappa*m*bessel_J(m - 1, kappa*rho)*cos(2*h*k_1) - (A_z_1*k_1*kappa*cos(2*h*k_1) - B_phi_1*kappa*m*cos(2*h*k_1))*bessel_J(m + 1, kappa*rho))*rho)*sin(k_1*z))*(B_r_1*cos(k_1*z)*sin(2*h*k_1)/cos(2*h*k_1) - B_r_1*sin(k_1*z))*cos(m*varphi)/((B_r_1*kappa^2*rho*sin(2*h*k_1) - B_r_1*m^2*sin(2*h*k_1))*cos(k_1*z) - (B_r_1*kappa^2*rho*cos(2*h*k_1) - B_r_1*m^2*cos(2*h*k_1))*sin(k_1*z))^2)*c*rho/(mu_1*omega) + 1/2*(-I*(A_z_1*cos(k_1*z) + B_z_1*sin(k_1*z))*kappa*(bessel_J(m + 1, kappa*rho) - bessel_J(m - 1, kappa*rho))*cos(m*varphi) - I*(B_r_1*k_1*cos(k_1*z) + B_r_1*k_1*sin(2*h*k_1)*sin(k_1*z)/cos(2*h*k_1))*((2*B_phi_1*m*bessel_J(m, kappa*rho)*sin(2*h*k_1) - (B_z_1*k_1*kappa*bessel_J(m - 1, kappa*rho)*cos(2*h*k_1) - B_phi_1*kappa*m*bessel_J(m - 1, kappa*rho)*sin(2*h*k_1) - (B_z_1*k_1*kappa*cos(2*h*k_1) - B_phi_1*kappa*m*sin(2*h*k_1))*bessel_J(m + 1, kappa*rho))*rho)*cos(k_1*z) - (2*B_phi_1*m*bessel_J(m, kappa*rho)*cos(2*h*k_1) - (A_z_1*k_1*kappa*bessel_J(m - 1, kappa*rho)*cos(2*h*k_1) - B_phi_1*kappa*m*bessel_J(m - 1, kappa*rho)*cos(2*h*k_1) - (A_z_1*k_1*kappa*cos(2*h*k_1) - B_phi_1*kappa*m*cos(2*h*k_1))*bessel_J(m + 1, kappa*rho))*rho)*sin(k_1*z))*cos(m*varphi)/((B_r_1*kappa^2*rho*sin(2*h*k_1) - B_r_1*m^2*sin(2*h*k_1))*cos(k_1*z) - (B_r_1*kappa^2*rho*cos(2*h*k_1) - B_r_1*m^2*cos(2*h*k_1))*sin(k_1*z)) - I*((2*B_phi_1*m*bessel_J(m, kappa*rho)*cos(2*h*k_1) - (A_z_1*k_1*kappa*bessel_J(m - 1, kappa*rho)*cos(2*h*k_1) - B_phi_1*kappa*m*bessel_J(m - 1, kappa*rho)*cos(2*h*k_1) - (A_z_1*k_1*kappa*cos(2*h*k_1) - B_phi_1*kappa*m*cos(2*h*k_1))*bessel_J(m + 1, kappa*rho))*rho)*k_1*cos(k_1*z) + (2*B_phi_1*m*bessel_J(m, kappa*rho)*sin(2*h*k_1) - (B_z_1*k_1*kappa*bessel_J(m - 1, kappa*rho)*cos(2*h*k_1) - B_phi_1*kappa*m*bessel_J(m - 1, kappa*rho)*sin(2*h*k_1) - (B_z_1*k_1*kappa*cos(2*h*k_1) - B_phi_1*kappa*m*sin(2*h*k_1))*bessel_J(m + 1, kappa*rho))*rho)*k_1*sin(k_1*z))*(B_r_1*cos(k_1*z)*sin(2*h*k_1)/cos(2*h*k_1) - B_r_1*sin(k_1*z))*cos(m*varphi)/((B_r_1*kappa^2*rho*sin(2*h*k_1) - B_r_1*m^2*sin(2*h*k_1))*cos(k_1*z) - (B_r_1*kappa^2*rho*cos(2*h*k_1) - B_r_1*m^2*cos(2*h*k_1))*sin(k_1*z)) + I*((B_r_1*kappa^2*rho*cos(2*h*k_1) - B_r_1*m^2*cos(2*h*k_1))*k_1*cos(k_1*z) + (B_r_1*kappa^2*rho*sin(2*h*k_1) - B_r_1*m^2*sin(2*h*k_1))*k_1*sin(k_1*z))*((2*B_phi_1*m*bessel_J(m, kappa*rho)*sin(2*h*k_1) - (B_z_1*k_1*kappa*bessel_J(m - 1, kappa*rho)*cos(2*h*k_1) - B_phi_1*kappa*m*bessel_J(m - 1, kappa*rho)*sin(2*h*k_1) - (B_z_1*k_1*kappa*cos(2*h*k_1) - B_phi_1*kappa*m*sin(2*h*k_1))*bessel_J(m + 1, kappa*rho))*rho)*cos(k_1*z) - (2*B_phi_1*m*bessel_J(m, kappa*rho)*cos(2*h*k_1) - (A_z_1*k_1*kappa*bessel_J(m - 1, kappa*rho)*cos(2*h*k_1) - B_phi_1*kappa*m*bessel_J(m - 1, kappa*rho)*cos(2*h*k_1) - (A_z_1*k_1*kappa*cos(2*h*k_1) - B_phi_1*kappa*m*cos(2*h*k_1))*bessel_J(m + 1, kappa*rho))*rho)*sin(k_1*z))*(B_r_1*cos(k_1*z)*sin(2*h*k_1)/cos(2*h*k_1) - B_r_1*sin(k_1*z))*cos(m*varphi)/((B_r_1*kappa^2*rho*sin(2*h*k_1) - B_r_1*m^2*sin(2*h*k_1))*cos(k_1*z) - (B_r_1*kappa^2*rho*cos(2*h*k_1) - B_r_1*m^2*cos(2*h*k_1))*sin(k_1*z))^2)*c/(mu_1*omega) - (I*(B_phi_1*k_1*cos(k_1*z) + B_phi_1*k_1*sin(2*h*k_1)*sin(k_1*z)/cos(2*h*k_1))*m*bessel_J(m, kappa*rho)*cos(m*varphi) + I*(A_z_1*cos(k_1*z) + B_z_1*sin(k_1*z))*m^2*bessel_J(m, kappa*rho)*cos(m*varphi)/rho)*c/(mu_1*omega) == 0]"
      ]
     },
     "execution_count": 97,
     "metadata": {},
     "output_type": "execute_result"
    }
   ],
   "source": [
    "eq_rotH_zz"
   ]
  },
  {
   "cell_type": "code",
   "execution_count": 98,
   "metadata": {},
   "outputs": [],
   "source": [
    "def rot_H_solve(M_rotH, vars, eq_kappa, k):\n",
    "    # print(\"M_rotH =\")\n",
    "    # display(Math(latex(M_rotH)))\n",
    "    \n",
    "    if (M_rotH.ncols() != len(vars)):\n",
    "        return\n",
    "    \n",
    "    n = M_rotH.nrows()\n",
    "    \n",
    "    xx = vector(SR, vars)\n",
    "    yy = zero_vector(SR, n)\n",
    "    eqns = [(M_rotH*xx)[index] == yy[index] for index in range(n)]\n",
    "    # display(Math(latex(eqns)))\n",
    "    res = []\n",
    "\n",
    "    for index in range(n):\n",
    "        row_M = M_rotH[index]\n",
    "        # print(\"row_M =\")\n",
    "        # display(Math(latex(row_M)))\n",
    "        eq = eqns[index].full_simplify()\n",
    "        # print (\"eq =\")\n",
    "        # display(Math(latex(eq)))\n",
    "        # print (\"\")\n",
    "        \n",
    "        eq2 = (eq / cos(k * z)).full_simplify().expand()\n",
    "        # print (\"eq2 =\")\n",
    "        # display(Math(latex(eq2)))\n",
    "        \n",
    "        tg_k_z_coeff = eq2.lhs().coefficient(sin(k * z) / cos(k * z))\n",
    "        # print (\"tg_k_z_coeff =\")\n",
    "        # display(Math(latex(tg_k_z_coeff)))\n",
    "        \n",
    "        eq_tg_k_z_coeff = tg_k_z_coeff == 0\n",
    "        for var in vars:\n",
    "            # print (\"var =\")\n",
    "            # display(Math(latex(var)))\n",
    "            sol_tg_k_z_coeff = solve(eq_tg_k_z_coeff, var)\n",
    "            # print(\"sol_tg_k_z_coeff=\")\n",
    "            # display(Math(latex(sol_tg_k_z_coeff)))\n",
    "            if len(sol_tg_k_z_coeff) > 0:\n",
    "                res += sol_tg_k_z_coeff           \n",
    "            \n",
    "                eq4 = eq.subs(sol_tg_k_z_coeff)\n",
    "                # print (\"eq4 =\")\n",
    "                # display(Math(latex(eq4)))\n",
    "\n",
    "                eq4 = eq4.full_simplify()\n",
    "              \n",
    "                if 0 == eq4.lhs() and 0 == eq4.rhs():\n",
    "                    continue\n",
    "                    \n",
    "                # print (\"eq4 =\")\n",
    "                # display(Math(latex(eq4)))\n",
    "                for var in vars:\n",
    "                    if var in eq4.variables():\n",
    "                        # print (\"var =\")\n",
    "                        # display(Math(latex(var)))\n",
    "                        # print (\"\")\n",
    "                        sol = solve(eq4, var)\n",
    "                        # print(\"sol=\")\n",
    "                        # display(Math(latex(sol)))\n",
    "                        # print (\"\")\n",
    "                        res += sol\n",
    "    # print (\"res=\", res)\n",
    "    return res"
   ]
  },
  {
   "cell_type": "code",
   "execution_count": 99,
   "metadata": {},
   "outputs": [],
   "source": [
    "def GenerateMatrix(equsys, vars):\n",
    "    A=matrix(SR, [[(equ.lhs() - equ.rhs()).coefficient(v) for v in vars] for equ in equsys])\n",
    "    return A"
   ]
  },
  {
   "cell_type": "code",
   "execution_count": null,
   "metadata": {},
   "outputs": [
    {
     "data": {
      "text/latex": [
       "$$\\left[A_{z_{0}}, B_{r_{0}}, B_{\\phi_{0}}, B_{z_{0}}\\right]$$"
      ],
      "text/plain": [
       "<IPython.core.display.Math object>"
      ]
     },
     "metadata": {},
     "output_type": "display_data"
    },
    {
     "name": "stdout",
     "output_type": "stream",
     "text": [
      "M_rotH.nrows = 3\n",
      "M_rotH.ncols = 4\n",
      "M_rotH.rank = 3\n",
      "eq4 =\n"
     ]
    },
    {
     "data": {
      "text/latex": [
       "$$-\\frac{{\\left(B_{z_{0}} k_{0} \\kappa J_{m + 1}(\\kappa \\rho) - B_{z_{0}} k_{0} \\kappa J_{m - 1}(\\kappa \\rho)\\right)} \\cos\\left(m \\varphi\\right) \\cos\\left(k_{0} z\\right)}{2 \\, \\mu_{0}} = 0$$"
      ],
      "text/plain": [
       "<IPython.core.display.Math object>"
      ]
     },
     "metadata": {},
     "output_type": "display_data"
    },
    {
     "name": "stdout",
     "output_type": "stream",
     "text": [
      "var =\n"
     ]
    },
    {
     "data": {
      "text/latex": [
       "$$B_{z_{0}}$$"
      ],
      "text/plain": [
       "<IPython.core.display.Math object>"
      ]
     },
     "metadata": {},
     "output_type": "display_data"
    },
    {
     "name": "stdout",
     "output_type": "stream",
     "text": [
      "\n",
      "sol=\n"
     ]
    },
    {
     "data": {
      "text/latex": [
       "$$\\left[B_{z_{0}} = 0\\right]$$"
      ],
      "text/plain": [
       "<IPython.core.display.Math object>"
      ]
     },
     "metadata": {},
     "output_type": "display_data"
    },
    {
     "name": "stdout",
     "output_type": "stream",
     "text": [
      "\n",
      "eq4 =\n"
     ]
    },
    {
     "data": {
      "text/latex": [
       "$$-\\frac{{\\left(B_{z_{0}} k_{0} \\kappa J_{m + 1}(\\kappa \\rho) - B_{z_{0}} k_{0} \\kappa J_{m - 1}(\\kappa \\rho)\\right)} \\cos\\left(m \\varphi\\right) \\cos\\left(k_{0} z\\right)}{2 \\, \\mu_{0}} = 0$$"
      ],
      "text/plain": [
       "<IPython.core.display.Math object>"
      ]
     },
     "metadata": {},
     "output_type": "display_data"
    },
    {
     "name": "stdout",
     "output_type": "stream",
     "text": [
      "var =\n"
     ]
    },
    {
     "data": {
      "text/latex": [
       "$$B_{z_{0}}$$"
      ],
      "text/plain": [
       "<IPython.core.display.Math object>"
      ]
     },
     "metadata": {},
     "output_type": "display_data"
    },
    {
     "name": "stdout",
     "output_type": "stream",
     "text": [
      "\n",
      "sol=\n"
     ]
    },
    {
     "data": {
      "text/latex": [
       "$$\\left[B_{z_{0}} = 0\\right]$$"
      ],
      "text/plain": [
       "<IPython.core.display.Math object>"
      ]
     },
     "metadata": {},
     "output_type": "display_data"
    },
    {
     "name": "stdout",
     "output_type": "stream",
     "text": [
      "\n",
      "eq4 =\n"
     ]
    },
    {
     "data": {
      "text/latex": [
       "$$\\frac{{\\left(2 \\, B_{z_{0}} k_{0} m^{5} J_{m}(\\kappa \\rho) + {\\left(B_{z_{0}} k_{0} \\kappa^{4} m J_{m + 2}(\\kappa \\rho) + B_{z_{0}} k_{0} \\kappa^{4} m J_{m - 2}(\\kappa \\rho) - 2 \\, B_{z_{0}} k_{0} \\kappa^{4} m J_{m}(\\kappa \\rho)\\right)} \\rho^{3} - {\\left(B_{z_{0}} k_{0} \\kappa^{2} m^{3} J_{m + 2}(\\kappa \\rho) + B_{z_{0}} k_{0} \\kappa^{2} m^{3} J_{m - 2}(\\kappa \\rho) + B_{z_{0}} k_{0} \\kappa^{3} m J_{m + 1}(\\kappa \\rho) - B_{z_{0}} k_{0} \\kappa^{3} m J_{m - 1}(\\kappa \\rho) - 2 \\, {\\left(B_{z_{0}} k_{0} \\kappa^{4} m + B_{z_{0}} k_{0} \\kappa^{2} m^{3}\\right)} J_{m}(\\kappa \\rho)\\right)} \\rho^{2} - 2 \\, {\\left(2 \\, B_{z_{0}} k_{0} \\kappa^{2} m^{3} J_{m}(\\kappa \\rho) - B_{z_{0}} k_{0} \\kappa m^{3} J_{m + 1}(\\kappa \\rho) + B_{z_{0}} k_{0} \\kappa m^{3} J_{m - 1}(\\kappa \\rho)\\right)} \\rho\\right)} \\cos\\left(k_{0} z\\right) \\sin\\left(m \\varphi\\right)}{2 \\, {\\left(\\kappa^{4} \\mu_{0} \\rho^{3} - 2 \\, \\kappa^{2} m^{2} \\mu_{0} \\rho^{2} + m^{4} \\mu_{0} \\rho\\right)}} = 0$$"
      ],
      "text/plain": [
       "<IPython.core.display.Math object>"
      ]
     },
     "metadata": {},
     "output_type": "display_data"
    },
    {
     "name": "stdout",
     "output_type": "stream",
     "text": [
      "var =\n"
     ]
    },
    {
     "data": {
      "text/latex": [
       "$$B_{z_{0}}$$"
      ],
      "text/plain": [
       "<IPython.core.display.Math object>"
      ]
     },
     "metadata": {},
     "output_type": "display_data"
    },
    {
     "name": "stdout",
     "output_type": "stream",
     "text": [
      "\n",
      "sol=\n"
     ]
    },
    {
     "data": {
      "text/latex": [
       "$$\\left[B_{z_{0}} = 0\\right]$$"
      ],
      "text/plain": [
       "<IPython.core.display.Math object>"
      ]
     },
     "metadata": {},
     "output_type": "display_data"
    },
    {
     "name": "stdout",
     "output_type": "stream",
     "text": [
      "\n",
      "eq4 =\n"
     ]
    },
    {
     "data": {
      "text/latex": [
       "$$\\frac{{\\left(2 \\, B_{z_{0}} k_{0} m^{5} J_{m}(\\kappa \\rho) + {\\left(B_{z_{0}} k_{0} \\kappa^{4} m J_{m + 2}(\\kappa \\rho) + B_{z_{0}} k_{0} \\kappa^{4} m J_{m - 2}(\\kappa \\rho) - 2 \\, B_{z_{0}} k_{0} \\kappa^{4} m J_{m}(\\kappa \\rho)\\right)} \\rho^{3} - {\\left(B_{z_{0}} k_{0} \\kappa^{2} m^{3} J_{m + 2}(\\kappa \\rho) + B_{z_{0}} k_{0} \\kappa^{2} m^{3} J_{m - 2}(\\kappa \\rho) + B_{z_{0}} k_{0} \\kappa^{3} m J_{m + 1}(\\kappa \\rho) - B_{z_{0}} k_{0} \\kappa^{3} m J_{m - 1}(\\kappa \\rho) - 2 \\, {\\left(B_{z_{0}} k_{0} \\kappa^{4} m + B_{z_{0}} k_{0} \\kappa^{2} m^{3}\\right)} J_{m}(\\kappa \\rho)\\right)} \\rho^{2} - 2 \\, {\\left(2 \\, B_{z_{0}} k_{0} \\kappa^{2} m^{3} J_{m}(\\kappa \\rho) - B_{z_{0}} k_{0} \\kappa m^{3} J_{m + 1}(\\kappa \\rho) + B_{z_{0}} k_{0} \\kappa m^{3} J_{m - 1}(\\kappa \\rho)\\right)} \\rho\\right)} \\cos\\left(k_{0} z\\right) \\sin\\left(m \\varphi\\right)}{2 \\, {\\left(\\kappa^{4} \\mu_{0} \\rho^{3} - 2 \\, \\kappa^{2} m^{2} \\mu_{0} \\rho^{2} + m^{4} \\mu_{0} \\rho\\right)}} = 0$$"
      ],
      "text/plain": [
       "<IPython.core.display.Math object>"
      ]
     },
     "metadata": {},
     "output_type": "display_data"
    },
    {
     "name": "stdout",
     "output_type": "stream",
     "text": [
      "var =\n"
     ]
    },
    {
     "data": {
      "text/latex": [
       "$$B_{z_{0}}$$"
      ],
      "text/plain": [
       "<IPython.core.display.Math object>"
      ]
     },
     "metadata": {},
     "output_type": "display_data"
    },
    {
     "name": "stdout",
     "output_type": "stream",
     "text": [
      "\n",
      "sol=\n"
     ]
    },
    {
     "data": {
      "text/latex": [
       "$$\\left[B_{z_{0}} = 0\\right]$$"
      ],
      "text/plain": [
       "<IPython.core.display.Math object>"
      ]
     },
     "metadata": {},
     "output_type": "display_data"
    },
    {
     "name": "stdout",
     "output_type": "stream",
     "text": [
      "\n",
      "eq4 =\n"
     ]
    },
    {
     "data": {
      "text/latex": [
       "$$-\\frac{{\\left(4 \\, A_{z_{0}} c^{2} m^{6} J_{m}(\\kappa \\rho) + {\\left(2 \\, B_{\\phi_{0}} c^{2} k_{0} \\kappa^{4} m J_{m - 2}(\\kappa \\rho) - {\\left(2 \\, A_{z_{0}} c^{2} k_{0}^{2} \\kappa^{4} + A_{z_{0}} c^{2} \\kappa^{6} - 2 \\, B_{\\phi_{0}} c^{2} k_{0} \\kappa^{4} m\\right)} J_{m + 2}(\\kappa \\rho) - {\\left(2 \\, A_{z_{0}} c^{2} k_{0}^{2} \\kappa^{4} + A_{z_{0}} c^{2} \\kappa^{6}\\right)} J_{m - 2}(\\kappa \\rho) + 2 \\, {\\left(2 \\, A_{z_{0}} c^{2} k_{0}^{2} \\kappa^{4} + A_{z_{0}} c^{2} \\kappa^{6} - 2 \\, B_{\\phi_{0}} c^{2} k_{0} \\kappa^{4} m\\right)} J_{m}(\\kappa \\rho)\\right)} \\rho^{4} - 2 \\, {\\left(B_{\\phi_{0}} c^{2} k_{0} \\kappa^{2} m^{3} J_{m - 2}(\\kappa \\rho) - 2 \\, A_{z_{0}} \\epsilon_{0} \\kappa^{4} \\mu_{0} \\omega^{2} J_{m}(\\kappa \\rho) - 5 \\, B_{\\phi_{0}} c^{2} k_{0} \\kappa^{3} m J_{m - 1}(\\kappa \\rho) - {\\left(A_{z_{0}} c^{2} k_{0}^{2} \\kappa^{2} + A_{z_{0}} c^{2} \\kappa^{4}\\right)} m^{2} J_{m - 2}(\\kappa \\rho) + {\\left(B_{\\phi_{0}} c^{2} k_{0} \\kappa^{2} m^{3} - {\\left(A_{z_{0}} c^{2} k_{0}^{2} \\kappa^{2} + A_{z_{0}} c^{2} \\kappa^{4}\\right)} m^{2}\\right)} J_{m + 2}(\\kappa \\rho) - {\\left(3 \\, A_{z_{0}} c^{2} k_{0}^{2} \\kappa^{3} + A_{z_{0}} c^{2} \\kappa^{5} - 5 \\, B_{\\phi_{0}} c^{2} k_{0} \\kappa^{3} m\\right)} J_{m + 1}(\\kappa \\rho) + {\\left(3 \\, A_{z_{0}} c^{2} k_{0}^{2} \\kappa^{3} + A_{z_{0}} c^{2} \\kappa^{5}\\right)} J_{m - 1}(\\kappa \\rho) - 2 \\, {\\left(B_{\\phi_{0}} c^{2} k_{0} \\kappa^{4} m + B_{\\phi_{0}} c^{2} k_{0} \\kappa^{2} m^{3} - {\\left(A_{z_{0}} c^{2} k_{0}^{2} \\kappa^{2} + A_{z_{0}} c^{2} \\kappa^{4}\\right)} m^{2}\\right)} J_{m}(\\kappa \\rho)\\right)} \\rho^{3} - {\\left(A_{z_{0}} c^{2} \\kappa^{2} m^{4} J_{m + 2}(\\kappa \\rho) + A_{z_{0}} c^{2} \\kappa^{2} m^{4} J_{m - 2}(\\kappa \\rho) + 8 \\, A_{z_{0}} \\epsilon_{0} \\kappa^{2} m^{2} \\mu_{0} \\omega^{2} J_{m}(\\kappa \\rho) + 12 \\, B_{\\phi_{0}} c^{2} k_{0} \\kappa m^{3} J_{m - 1}(\\kappa \\rho) - 4 \\, {\\left(2 \\, A_{z_{0}} c^{2} k_{0}^{2} \\kappa + A_{z_{0}} c^{2} \\kappa^{3}\\right)} m^{2} J_{m - 1}(\\kappa \\rho) - 4 \\, {\\left(3 \\, B_{\\phi_{0}} c^{2} k_{0} \\kappa m^{3} - {\\left(2 \\, A_{z_{0}} c^{2} k_{0}^{2} \\kappa + A_{z_{0}} c^{2} \\kappa^{3}\\right)} m^{2}\\right)} J_{m + 1}(\\kappa \\rho) - 2 \\, {\\left(2 \\, A_{z_{0}} c^{2} \\kappa^{4} m^{2} - 4 \\, B_{\\phi_{0}} c^{2} k_{0} \\kappa^{2} m^{3} + A_{z_{0}} c^{2} \\kappa^{2} m^{4} + 2 \\, B_{\\phi_{0}} c^{2} k_{0} \\kappa^{2} m\\right)} J_{m}(\\kappa \\rho)\\right)} \\rho^{2} + 2 \\, {\\left(2 \\, A_{z_{0}} \\epsilon_{0} m^{4} \\mu_{0} \\omega^{2} J_{m}(\\kappa \\rho) + A_{z_{0}} c^{2} \\kappa m^{4} J_{m + 1}(\\kappa \\rho) - A_{z_{0}} c^{2} \\kappa m^{4} J_{m - 1}(\\kappa \\rho) - 2 \\, {\\left(2 \\, A_{z_{0}} c^{2} \\kappa^{2} m^{4} - B_{\\phi_{0}} c^{2} k_{0} m^{5} + 2 \\, B_{\\phi_{0}} c^{2} k_{0} m^{3}\\right)} J_{m}(\\kappa \\rho)\\right)} \\rho\\right)} \\cos\\left(m \\varphi\\right) \\cos\\left(k_{0} z\\right)}{4 \\, {\\left(c^{2} \\kappa^{4} \\mu_{0} \\rho^{3} - 2 \\, c^{2} \\kappa^{2} m^{2} \\mu_{0} \\rho^{2} + c^{2} m^{4} \\mu_{0} \\rho\\right)}} = 0$$"
      ],
      "text/plain": [
       "<IPython.core.display.Math object>"
      ]
     },
     "metadata": {},
     "output_type": "display_data"
    },
    {
     "name": "stdout",
     "output_type": "stream",
     "text": [
      "var =\n"
     ]
    },
    {
     "data": {
      "text/latex": [
       "$$A_{z_{0}}$$"
      ],
      "text/plain": [
       "<IPython.core.display.Math object>"
      ]
     },
     "metadata": {},
     "output_type": "display_data"
    },
    {
     "name": "stdout",
     "output_type": "stream",
     "text": [
      "\n",
      "sol=\n"
     ]
    },
    {
     "data": {
      "text/latex": [
       "$$\\left[A_{z_{0}} = -\\frac{2 \\, {\\left({\\left(B_{\\phi_{0}} c^{2} k_{0} \\kappa^{4} m J_{m + 2}(\\kappa \\rho) + B_{\\phi_{0}} c^{2} k_{0} \\kappa^{4} m J_{m - 2}(\\kappa \\rho) - 2 \\, B_{\\phi_{0}} c^{2} k_{0} \\kappa^{4} m J_{m}(\\kappa \\rho)\\right)} \\rho^{4} - {\\left(B_{\\phi_{0}} c^{2} k_{0} \\kappa^{2} m^{3} J_{m + 2}(\\kappa \\rho) + B_{\\phi_{0}} c^{2} k_{0} \\kappa^{2} m^{3} J_{m - 2}(\\kappa \\rho) + 5 \\, B_{\\phi_{0}} c^{2} k_{0} \\kappa^{3} m J_{m + 1}(\\kappa \\rho) - 5 \\, B_{\\phi_{0}} c^{2} k_{0} \\kappa^{3} m J_{m - 1}(\\kappa \\rho) - 2 \\, {\\left(B_{\\phi_{0}} c^{2} k_{0} \\kappa^{4} m + B_{\\phi_{0}} c^{2} k_{0} \\kappa^{2} m^{3}\\right)} J_{m}(\\kappa \\rho)\\right)} \\rho^{3} + 2 \\, {\\left(3 \\, B_{\\phi_{0}} c^{2} k_{0} \\kappa m^{3} J_{m + 1}(\\kappa \\rho) - 3 \\, B_{\\phi_{0}} c^{2} k_{0} \\kappa m^{3} J_{m - 1}(\\kappa \\rho) - {\\left(2 \\, B_{\\phi_{0}} c^{2} k_{0} \\kappa^{2} m^{3} - B_{\\phi_{0}} c^{2} k_{0} \\kappa^{2} m\\right)} J_{m}(\\kappa \\rho)\\right)} \\rho^{2} + 2 \\, {\\left(B_{\\phi_{0}} c^{2} k_{0} m^{5} - 2 \\, B_{\\phi_{0}} c^{2} k_{0} m^{3}\\right)} \\rho J_{m}(\\kappa \\rho)\\right)}}{4 \\, c^{2} m^{6} J_{m}(\\kappa \\rho) - {\\left({\\left(2 \\, c^{2} k_{0}^{2} \\kappa^{4} + c^{2} \\kappa^{6}\\right)} J_{m + 2}(\\kappa \\rho) + {\\left(2 \\, c^{2} k_{0}^{2} \\kappa^{4} + c^{2} \\kappa^{6}\\right)} J_{m - 2}(\\kappa \\rho) - 2 \\, {\\left(2 \\, c^{2} k_{0}^{2} \\kappa^{4} + c^{2} \\kappa^{6}\\right)} J_{m}(\\kappa \\rho)\\right)} \\rho^{4} + 2 \\, {\\left(2 \\, \\epsilon_{0} \\kappa^{4} \\mu_{0} \\omega^{2} J_{m}(\\kappa \\rho) + {\\left(c^{2} k_{0}^{2} \\kappa^{2} + c^{2} \\kappa^{4}\\right)} m^{2} J_{m + 2}(\\kappa \\rho) + {\\left(c^{2} k_{0}^{2} \\kappa^{2} + c^{2} \\kappa^{4}\\right)} m^{2} J_{m - 2}(\\kappa \\rho) - 2 \\, {\\left(c^{2} k_{0}^{2} \\kappa^{2} + c^{2} \\kappa^{4}\\right)} m^{2} J_{m}(\\kappa \\rho) + {\\left(3 \\, c^{2} k_{0}^{2} \\kappa^{3} + c^{2} \\kappa^{5}\\right)} J_{m + 1}(\\kappa \\rho) - {\\left(3 \\, c^{2} k_{0}^{2} \\kappa^{3} + c^{2} \\kappa^{5}\\right)} J_{m - 1}(\\kappa \\rho)\\right)} \\rho^{3} - {\\left(c^{2} \\kappa^{2} m^{4} J_{m + 2}(\\kappa \\rho) + c^{2} \\kappa^{2} m^{4} J_{m - 2}(\\kappa \\rho) + 8 \\, \\epsilon_{0} \\kappa^{2} m^{2} \\mu_{0} \\omega^{2} J_{m}(\\kappa \\rho) + 4 \\, {\\left(2 \\, c^{2} k_{0}^{2} \\kappa + c^{2} \\kappa^{3}\\right)} m^{2} J_{m + 1}(\\kappa \\rho) - 4 \\, {\\left(2 \\, c^{2} k_{0}^{2} \\kappa + c^{2} \\kappa^{3}\\right)} m^{2} J_{m - 1}(\\kappa \\rho) - 2 \\, {\\left(2 \\, c^{2} \\kappa^{4} m^{2} + c^{2} \\kappa^{2} m^{4}\\right)} J_{m}(\\kappa \\rho)\\right)} \\rho^{2} - 2 \\, {\\left(4 \\, c^{2} \\kappa^{2} m^{4} J_{m}(\\kappa \\rho) - 2 \\, \\epsilon_{0} m^{4} \\mu_{0} \\omega^{2} J_{m}(\\kappa \\rho) - c^{2} \\kappa m^{4} J_{m + 1}(\\kappa \\rho) + c^{2} \\kappa m^{4} J_{m - 1}(\\kappa \\rho)\\right)} \\rho}\\right]$$"
      ],
      "text/plain": [
       "<IPython.core.display.Math object>"
      ]
     },
     "metadata": {},
     "output_type": "display_data"
    },
    {
     "name": "stdout",
     "output_type": "stream",
     "text": [
      "\n",
      "var =\n"
     ]
    },
    {
     "data": {
      "text/latex": [
       "$$B_{\\phi_{0}}$$"
      ],
      "text/plain": [
       "<IPython.core.display.Math object>"
      ]
     },
     "metadata": {},
     "output_type": "display_data"
    },
    {
     "name": "stdout",
     "output_type": "stream",
     "text": [
      "\n",
      "sol=\n"
     ]
    },
    {
     "data": {
      "text/latex": [
       "$$\\left[B_{\\phi_{0}} = -\\frac{4 \\, A_{z_{0}} c^{2} m^{6} J_{m}(\\kappa \\rho) - {\\left({\\left(2 \\, A_{z_{0}} c^{2} k_{0}^{2} \\kappa^{4} + A_{z_{0}} c^{2} \\kappa^{6}\\right)} J_{m + 2}(\\kappa \\rho) + {\\left(2 \\, A_{z_{0}} c^{2} k_{0}^{2} \\kappa^{4} + A_{z_{0}} c^{2} \\kappa^{6}\\right)} J_{m - 2}(\\kappa \\rho) - 2 \\, {\\left(2 \\, A_{z_{0}} c^{2} k_{0}^{2} \\kappa^{4} + A_{z_{0}} c^{2} \\kappa^{6}\\right)} J_{m}(\\kappa \\rho)\\right)} \\rho^{4} + 2 \\, {\\left(2 \\, A_{z_{0}} \\epsilon_{0} \\kappa^{4} \\mu_{0} \\omega^{2} J_{m}(\\kappa \\rho) + {\\left(A_{z_{0}} c^{2} k_{0}^{2} \\kappa^{2} + A_{z_{0}} c^{2} \\kappa^{4}\\right)} m^{2} J_{m + 2}(\\kappa \\rho) + {\\left(A_{z_{0}} c^{2} k_{0}^{2} \\kappa^{2} + A_{z_{0}} c^{2} \\kappa^{4}\\right)} m^{2} J_{m - 2}(\\kappa \\rho) - 2 \\, {\\left(A_{z_{0}} c^{2} k_{0}^{2} \\kappa^{2} + A_{z_{0}} c^{2} \\kappa^{4}\\right)} m^{2} J_{m}(\\kappa \\rho) + {\\left(3 \\, A_{z_{0}} c^{2} k_{0}^{2} \\kappa^{3} + A_{z_{0}} c^{2} \\kappa^{5}\\right)} J_{m + 1}(\\kappa \\rho) - {\\left(3 \\, A_{z_{0}} c^{2} k_{0}^{2} \\kappa^{3} + A_{z_{0}} c^{2} \\kappa^{5}\\right)} J_{m - 1}(\\kappa \\rho)\\right)} \\rho^{3} - {\\left(A_{z_{0}} c^{2} \\kappa^{2} m^{4} J_{m + 2}(\\kappa \\rho) + A_{z_{0}} c^{2} \\kappa^{2} m^{4} J_{m - 2}(\\kappa \\rho) + 8 \\, A_{z_{0}} \\epsilon_{0} \\kappa^{2} m^{2} \\mu_{0} \\omega^{2} J_{m}(\\kappa \\rho) + 4 \\, {\\left(2 \\, A_{z_{0}} c^{2} k_{0}^{2} \\kappa + A_{z_{0}} c^{2} \\kappa^{3}\\right)} m^{2} J_{m + 1}(\\kappa \\rho) - 4 \\, {\\left(2 \\, A_{z_{0}} c^{2} k_{0}^{2} \\kappa + A_{z_{0}} c^{2} \\kappa^{3}\\right)} m^{2} J_{m - 1}(\\kappa \\rho) - 2 \\, {\\left(2 \\, A_{z_{0}} c^{2} \\kappa^{4} m^{2} + A_{z_{0}} c^{2} \\kappa^{2} m^{4}\\right)} J_{m}(\\kappa \\rho)\\right)} \\rho^{2} - 2 \\, {\\left(4 \\, A_{z_{0}} c^{2} \\kappa^{2} m^{4} J_{m}(\\kappa \\rho) - 2 \\, A_{z_{0}} \\epsilon_{0} m^{4} \\mu_{0} \\omega^{2} J_{m}(\\kappa \\rho) - A_{z_{0}} c^{2} \\kappa m^{4} J_{m + 1}(\\kappa \\rho) + A_{z_{0}} c^{2} \\kappa m^{4} J_{m - 1}(\\kappa \\rho)\\right)} \\rho}{2 \\, {\\left({\\left(c^{2} k_{0} \\kappa^{4} m J_{m + 2}(\\kappa \\rho) + c^{2} k_{0} \\kappa^{4} m J_{m - 2}(\\kappa \\rho) - 2 \\, c^{2} k_{0} \\kappa^{4} m J_{m}(\\kappa \\rho)\\right)} \\rho^{4} - {\\left(c^{2} k_{0} \\kappa^{2} m^{3} J_{m + 2}(\\kappa \\rho) + c^{2} k_{0} \\kappa^{2} m^{3} J_{m - 2}(\\kappa \\rho) + 5 \\, c^{2} k_{0} \\kappa^{3} m J_{m + 1}(\\kappa \\rho) - 5 \\, c^{2} k_{0} \\kappa^{3} m J_{m - 1}(\\kappa \\rho) - 2 \\, {\\left(c^{2} k_{0} \\kappa^{4} m + c^{2} k_{0} \\kappa^{2} m^{3}\\right)} J_{m}(\\kappa \\rho)\\right)} \\rho^{3} + 2 \\, {\\left(3 \\, c^{2} k_{0} \\kappa m^{3} J_{m + 1}(\\kappa \\rho) - 3 \\, c^{2} k_{0} \\kappa m^{3} J_{m - 1}(\\kappa \\rho) - {\\left(2 \\, c^{2} k_{0} \\kappa^{2} m^{3} - c^{2} k_{0} \\kappa^{2} m\\right)} J_{m}(\\kappa \\rho)\\right)} \\rho^{2} + 2 \\, {\\left(c^{2} k_{0} m^{5} - 2 \\, c^{2} k_{0} m^{3}\\right)} \\rho J_{m}(\\kappa \\rho)\\right)}}\\right]$$"
      ],
      "text/plain": [
       "<IPython.core.display.Math object>"
      ]
     },
     "metadata": {},
     "output_type": "display_data"
    },
    {
     "name": "stdout",
     "output_type": "stream",
     "text": [
      "\n"
     ]
    },
    {
     "data": {
      "text/latex": [
       "$$\\left[A_{z_{1}}, B_{r_{1}}, B_{\\phi_{1}}, B_{z_{1}}\\right]$$"
      ],
      "text/plain": [
       "<IPython.core.display.Math object>"
      ]
     },
     "metadata": {},
     "output_type": "display_data"
    },
    {
     "name": "stdout",
     "output_type": "stream",
     "text": [
      "M_rotH.nrows = 3\n",
      "M_rotH.ncols = 4\n",
      "M_rotH.rank = 3\n",
      "eq4 =\n"
     ]
    },
    {
     "data": {
      "text/latex": [
       "$$\\frac{2 \\, {\\left(8 \\, {\\left(B_{\\phi_{1}} B_{r_{1}} \\cos\\left(h k_{1}\\right)^{5} - B_{\\phi_{1}} B_{r_{1}} \\cos\\left(h k_{1}\\right)^{3}\\right)} m^{3} J_{m}(\\kappa \\rho) \\sin\\left(h k_{1}\\right) - {\\left(4 \\, {\\left({\\left(B_{\\phi_{1}} B_{r_{1}} \\cos\\left(h k_{1}\\right)^{5} - B_{\\phi_{1}} B_{r_{1}} \\cos\\left(h k_{1}\\right)^{3}\\right)} \\kappa^{3} \\sin\\left(h k_{1}\\right) - {\\left(5 \\, {\\left(B_{\\phi_{1}} B_{r_{1}} - B_{\\phi_{1}}\\right)} k_{1}^{2} \\cos\\left(h k_{1}\\right)^{5} - 5 \\, {\\left(B_{\\phi_{1}} B_{r_{1}} - B_{\\phi_{1}}\\right)} k_{1}^{2} \\cos\\left(h k_{1}\\right)^{3} + {\\left(B_{\\phi_{1}} B_{r_{1}} - B_{\\phi_{1}}\\right)} k_{1}^{2} \\cos\\left(h k_{1}\\right)\\right)} \\kappa \\sin\\left(h k_{1}\\right)\\right)} m J_{m - 1}(\\kappa \\rho) - 2 \\, {\\left({\\left(4 \\, {\\left(B_{r_{1}} - 1\\right)} k_{1}^{3} \\cos\\left(h k_{1}\\right)^{5} - 4 \\, {\\left(B_{r_{1}} - 1\\right)} k_{1}^{3} \\cos\\left(h k_{1}\\right)^{3} + {\\left(B_{r_{1}} - 1\\right)} k_{1}^{3} \\cos\\left(h k_{1}\\right)\\right)} \\kappa J_{m + 1}(\\kappa \\rho) \\sin\\left(h k_{1}\\right) - {\\left(4 \\, {\\left(B_{r_{1}} - 1\\right)} k_{1}^{3} \\cos\\left(h k_{1}\\right)^{5} - 4 \\, {\\left(B_{r_{1}} - 1\\right)} k_{1}^{3} \\cos\\left(h k_{1}\\right)^{3} + {\\left(B_{r_{1}} - 1\\right)} k_{1}^{3} \\cos\\left(h k_{1}\\right)\\right)} \\kappa J_{m - 1}(\\kappa \\rho) \\sin\\left(h k_{1}\\right)\\right)} r_{1} + {\\left(2 \\, {\\left(2 \\, B_{r_{1}} B_{z_{1}} k_{1} \\cos\\left(h k_{1}\\right)^{6} - 3 \\, B_{r_{1}} B_{z_{1}} k_{1} \\cos\\left(h k_{1}\\right)^{4} + B_{r_{1}} B_{z_{1}} k_{1} \\cos\\left(h k_{1}\\right)^{2}\\right)} \\kappa^{3} - {\\left(12 \\, {\\left(B_{r_{1}} - 1\\right)} B_{z_{1}} k_{1}^{3} \\cos\\left(h k_{1}\\right)^{6} - 18 \\, {\\left(B_{r_{1}} - 1\\right)} B_{z_{1}} k_{1}^{3} \\cos\\left(h k_{1}\\right)^{4} + 8 \\, {\\left(B_{r_{1}} - 1\\right)} B_{z_{1}} k_{1}^{3} \\cos\\left(h k_{1}\\right)^{2} - {\\left(B_{r_{1}} - 1\\right)} B_{z_{1}} k_{1}^{3}\\right)} \\kappa - 4 \\, {\\left({\\left(B_{\\phi_{1}} B_{r_{1}} \\cos\\left(h k_{1}\\right)^{5} - B_{\\phi_{1}} B_{r_{1}} \\cos\\left(h k_{1}\\right)^{3}\\right)} \\kappa^{3} \\sin\\left(h k_{1}\\right) - {\\left(5 \\, {\\left(B_{\\phi_{1}} B_{r_{1}} - B_{\\phi_{1}}\\right)} k_{1}^{2} \\cos\\left(h k_{1}\\right)^{5} - 5 \\, {\\left(B_{\\phi_{1}} B_{r_{1}} - B_{\\phi_{1}}\\right)} k_{1}^{2} \\cos\\left(h k_{1}\\right)^{3} + {\\left(B_{\\phi_{1}} B_{r_{1}} - B_{\\phi_{1}}\\right)} k_{1}^{2} \\cos\\left(h k_{1}\\right)\\right)} \\kappa \\sin\\left(h k_{1}\\right)\\right)} m\\right)} J_{m + 1}(\\kappa \\rho) - {\\left(2 \\, {\\left(2 \\, B_{r_{1}} B_{z_{1}} k_{1} \\cos\\left(h k_{1}\\right)^{6} - 3 \\, B_{r_{1}} B_{z_{1}} k_{1} \\cos\\left(h k_{1}\\right)^{4} + B_{r_{1}} B_{z_{1}} k_{1} \\cos\\left(h k_{1}\\right)^{2}\\right)} \\kappa^{3} - {\\left(12 \\, {\\left(B_{r_{1}} - 1\\right)} B_{z_{1}} k_{1}^{3} \\cos\\left(h k_{1}\\right)^{6} - 18 \\, {\\left(B_{r_{1}} - 1\\right)} B_{z_{1}} k_{1}^{3} \\cos\\left(h k_{1}\\right)^{4} + 8 \\, {\\left(B_{r_{1}} - 1\\right)} B_{z_{1}} k_{1}^{3} \\cos\\left(h k_{1}\\right)^{2} - {\\left(B_{r_{1}} - 1\\right)} B_{z_{1}} k_{1}^{3}\\right)} \\kappa\\right)} J_{m - 1}(\\kappa \\rho)\\right)} \\rho^{2} + 2 \\, {\\left(2 \\, {\\left(B_{\\phi_{1}} B_{r_{1}} \\cos\\left(h k_{1}\\right)^{5} - B_{\\phi_{1}} B_{r_{1}} \\cos\\left(h k_{1}\\right)^{3}\\right)} \\kappa m^{3} J_{m - 1}(\\kappa \\rho) \\sin\\left(h k_{1}\\right) - {\\left(2 \\, B_{r_{1}} B_{z_{1}} k_{1} \\cos\\left(h k_{1}\\right)^{6} - 3 \\, B_{r_{1}} B_{z_{1}} k_{1} \\cos\\left(h k_{1}\\right)^{4} + B_{r_{1}} B_{z_{1}} k_{1} \\cos\\left(h k_{1}\\right)^{2}\\right)} \\kappa m^{2} J_{m - 1}(\\kappa \\rho) - 4 \\, {\\left({\\left(B_{\\phi_{1}} B_{r_{1}} \\cos\\left(h k_{1}\\right)^{5} - B_{\\phi_{1}} B_{r_{1}} \\cos\\left(h k_{1}\\right)^{3}\\right)} \\kappa^{2} \\sin\\left(h k_{1}\\right) - {\\left(5 \\, {\\left(B_{\\phi_{1}} B_{r_{1}} - B_{\\phi_{1}}\\right)} k_{1}^{2} \\cos\\left(h k_{1}\\right)^{5} - 5 \\, {\\left(B_{\\phi_{1}} B_{r_{1}} - B_{\\phi_{1}}\\right)} k_{1}^{2} \\cos\\left(h k_{1}\\right)^{3} + {\\left(B_{\\phi_{1}} B_{r_{1}} - B_{\\phi_{1}}\\right)} k_{1}^{2} \\cos\\left(h k_{1}\\right)\\right)} \\sin\\left(h k_{1}\\right)\\right)} m J_{m}(\\kappa \\rho) - {\\left(2 \\, {\\left(B_{\\phi_{1}} B_{r_{1}} \\cos\\left(h k_{1}\\right)^{5} - B_{\\phi_{1}} B_{r_{1}} \\cos\\left(h k_{1}\\right)^{3}\\right)} \\kappa m^{3} \\sin\\left(h k_{1}\\right) - {\\left(2 \\, B_{r_{1}} B_{z_{1}} k_{1} \\cos\\left(h k_{1}\\right)^{6} - 3 \\, B_{r_{1}} B_{z_{1}} k_{1} \\cos\\left(h k_{1}\\right)^{4} + B_{r_{1}} B_{z_{1}} k_{1} \\cos\\left(h k_{1}\\right)^{2}\\right)} \\kappa m^{2}\\right)} J_{m + 1}(\\kappa \\rho)\\right)} \\rho\\right)} \\cos\\left(m \\varphi\\right) \\cos\\left(k_{1} z\\right)^{3} - 4 \\, {\\left(6 \\, {\\left(2 \\, B_{\\phi_{1}} B_{r_{1}} \\cos\\left(h k_{1}\\right)^{6} - 3 \\, B_{\\phi_{1}} B_{r_{1}} \\cos\\left(h k_{1}\\right)^{4} + B_{\\phi_{1}} B_{r_{1}} \\cos\\left(h k_{1}\\right)^{2}\\right)} m^{3} J_{m}(\\kappa \\rho) - {\\left({\\left(3 \\, {\\left(2 \\, B_{\\phi_{1}} B_{r_{1}} \\cos\\left(h k_{1}\\right)^{6} - 3 \\, B_{\\phi_{1}} B_{r_{1}} \\cos\\left(h k_{1}\\right)^{4} + B_{\\phi_{1}} B_{r_{1}} \\cos\\left(h k_{1}\\right)^{2}\\right)} \\kappa^{3} - {\\left(30 \\, {\\left(B_{\\phi_{1}} B_{r_{1}} - B_{\\phi_{1}}\\right)} k_{1}^{2} \\cos\\left(h k_{1}\\right)^{6} - 45 \\, {\\left(B_{\\phi_{1}} B_{r_{1}} - B_{\\phi_{1}}\\right)} k_{1}^{2} \\cos\\left(h k_{1}\\right)^{4} + 17 \\, {\\left(B_{\\phi_{1}} B_{r_{1}} - B_{\\phi_{1}}\\right)} k_{1}^{2} \\cos\\left(h k_{1}\\right)^{2} - {\\left(B_{\\phi_{1}} B_{r_{1}} - B_{\\phi_{1}}\\right)} k_{1}^{2}\\right)} \\kappa\\right)} m J_{m - 1}(\\kappa \\rho) + {\\left({\\left({\\left(2 \\, B_{r_{1}} k_{1} \\cos\\left(h k_{1}\\right)^{6} - 3 \\, B_{r_{1}} k_{1} \\cos\\left(h k_{1}\\right)^{4} + B_{r_{1}} k_{1} \\cos\\left(h k_{1}\\right)^{2}\\right)} \\kappa^{3} - {\\left(14 \\, {\\left(B_{r_{1}} - 1\\right)} k_{1}^{3} \\cos\\left(h k_{1}\\right)^{6} - 21 \\, {\\left(B_{r_{1}} - 1\\right)} k_{1}^{3} \\cos\\left(h k_{1}\\right)^{4} + 9 \\, {\\left(B_{r_{1}} - 1\\right)} k_{1}^{3} \\cos\\left(h k_{1}\\right)^{2} - {\\left(B_{r_{1}} - 1\\right)} k_{1}^{3}\\right)} \\kappa\\right)} J_{m + 1}(\\kappa \\rho) - {\\left({\\left(2 \\, B_{r_{1}} k_{1} \\cos\\left(h k_{1}\\right)^{6} - 3 \\, B_{r_{1}} k_{1} \\cos\\left(h k_{1}\\right)^{4} + B_{r_{1}} k_{1} \\cos\\left(h k_{1}\\right)^{2}\\right)} \\kappa^{3} - {\\left(14 \\, {\\left(B_{r_{1}} - 1\\right)} k_{1}^{3} \\cos\\left(h k_{1}\\right)^{6} - 21 \\, {\\left(B_{r_{1}} - 1\\right)} k_{1}^{3} \\cos\\left(h k_{1}\\right)^{4} + 9 \\, {\\left(B_{r_{1}} - 1\\right)} k_{1}^{3} \\cos\\left(h k_{1}\\right)^{2} - {\\left(B_{r_{1}} - 1\\right)} k_{1}^{3}\\right)} \\kappa\\right)} J_{m - 1}(\\kappa \\rho)\\right)} r_{1} - {\\left({\\left(4 \\, B_{r_{1}} B_{z_{1}} k_{1} \\cos\\left(h k_{1}\\right)^{5} - 4 \\, B_{r_{1}} B_{z_{1}} k_{1} \\cos\\left(h k_{1}\\right)^{3} + B_{r_{1}} B_{z_{1}} k_{1} \\cos\\left(h k_{1}\\right)\\right)} \\kappa^{3} \\sin\\left(h k_{1}\\right) - 4 \\, {\\left(4 \\, {\\left(B_{r_{1}} - 1\\right)} B_{z_{1}} k_{1}^{3} \\cos\\left(h k_{1}\\right)^{5} - 4 \\, {\\left(B_{r_{1}} - 1\\right)} B_{z_{1}} k_{1}^{3} \\cos\\left(h k_{1}\\right)^{3} + {\\left(B_{r_{1}} - 1\\right)} B_{z_{1}} k_{1}^{3} \\cos\\left(h k_{1}\\right)\\right)} \\kappa \\sin\\left(h k_{1}\\right) + {\\left(3 \\, {\\left(2 \\, B_{\\phi_{1}} B_{r_{1}} \\cos\\left(h k_{1}\\right)^{6} - 3 \\, B_{\\phi_{1}} B_{r_{1}} \\cos\\left(h k_{1}\\right)^{4} + B_{\\phi_{1}} B_{r_{1}} \\cos\\left(h k_{1}\\right)^{2}\\right)} \\kappa^{3} - {\\left(30 \\, {\\left(B_{\\phi_{1}} B_{r_{1}} - B_{\\phi_{1}}\\right)} k_{1}^{2} \\cos\\left(h k_{1}\\right)^{6} - 45 \\, {\\left(B_{\\phi_{1}} B_{r_{1}} - B_{\\phi_{1}}\\right)} k_{1}^{2} \\cos\\left(h k_{1}\\right)^{4} + 17 \\, {\\left(B_{\\phi_{1}} B_{r_{1}} - B_{\\phi_{1}}\\right)} k_{1}^{2} \\cos\\left(h k_{1}\\right)^{2} - {\\left(B_{\\phi_{1}} B_{r_{1}} - B_{\\phi_{1}}\\right)} k_{1}^{2}\\right)} \\kappa\\right)} m\\right)} J_{m + 1}(\\kappa \\rho) + {\\left({\\left(4 \\, B_{r_{1}} B_{z_{1}} k_{1} \\cos\\left(h k_{1}\\right)^{5} - 4 \\, B_{r_{1}} B_{z_{1}} k_{1} \\cos\\left(h k_{1}\\right)^{3} + B_{r_{1}} B_{z_{1}} k_{1} \\cos\\left(h k_{1}\\right)\\right)} \\kappa^{3} \\sin\\left(h k_{1}\\right) - 4 \\, {\\left(4 \\, {\\left(B_{r_{1}} - 1\\right)} B_{z_{1}} k_{1}^{3} \\cos\\left(h k_{1}\\right)^{5} - 4 \\, {\\left(B_{r_{1}} - 1\\right)} B_{z_{1}} k_{1}^{3} \\cos\\left(h k_{1}\\right)^{3} + {\\left(B_{r_{1}} - 1\\right)} B_{z_{1}} k_{1}^{3} \\cos\\left(h k_{1}\\right)\\right)} \\kappa \\sin\\left(h k_{1}\\right)\\right)} J_{m - 1}(\\kappa \\rho)\\right)} \\rho^{2} + {\\left(3 \\, {\\left(2 \\, B_{\\phi_{1}} B_{r_{1}} \\cos\\left(h k_{1}\\right)^{6} - 3 \\, B_{\\phi_{1}} B_{r_{1}} \\cos\\left(h k_{1}\\right)^{4} + B_{\\phi_{1}} B_{r_{1}} \\cos\\left(h k_{1}\\right)^{2}\\right)} \\kappa m^{3} J_{m - 1}(\\kappa \\rho) + {\\left(4 \\, B_{r_{1}} B_{z_{1}} k_{1} \\cos\\left(h k_{1}\\right)^{5} - 4 \\, B_{r_{1}} B_{z_{1}} k_{1} \\cos\\left(h k_{1}\\right)^{3} + B_{r_{1}} B_{z_{1}} k_{1} \\cos\\left(h k_{1}\\right)\\right)} \\kappa m^{2} J_{m - 1}(\\kappa \\rho) \\sin\\left(h k_{1}\\right) + 2 \\, {\\left(30 \\, {\\left(B_{\\phi_{1}} B_{r_{1}} - B_{\\phi_{1}}\\right)} k_{1}^{2} \\cos\\left(h k_{1}\\right)^{6} - 45 \\, {\\left(B_{\\phi_{1}} B_{r_{1}} - B_{\\phi_{1}}\\right)} k_{1}^{2} \\cos\\left(h k_{1}\\right)^{4} + 17 \\, {\\left(B_{\\phi_{1}} B_{r_{1}} - B_{\\phi_{1}}\\right)} k_{1}^{2} \\cos\\left(h k_{1}\\right)^{2} - {\\left(B_{\\phi_{1}} B_{r_{1}} - B_{\\phi_{1}}\\right)} k_{1}^{2} - 3 \\, {\\left(2 \\, B_{\\phi_{1}} B_{r_{1}} \\cos\\left(h k_{1}\\right)^{6} - 3 \\, B_{\\phi_{1}} B_{r_{1}} \\cos\\left(h k_{1}\\right)^{4} + B_{\\phi_{1}} B_{r_{1}} \\cos\\left(h k_{1}\\right)^{2}\\right)} \\kappa^{2}\\right)} m J_{m}(\\kappa \\rho) + {\\left({\\left(2 \\, B_{r_{1}} k_{1} \\cos\\left(h k_{1}\\right)^{6} - 3 \\, B_{r_{1}} k_{1} \\cos\\left(h k_{1}\\right)^{4} + B_{r_{1}} k_{1} \\cos\\left(h k_{1}\\right)^{2}\\right)} \\kappa m^{2} J_{m + 1}(\\kappa \\rho) - {\\left(2 \\, B_{r_{1}} k_{1} \\cos\\left(h k_{1}\\right)^{6} - 3 \\, B_{r_{1}} k_{1} \\cos\\left(h k_{1}\\right)^{4} + B_{r_{1}} k_{1} \\cos\\left(h k_{1}\\right)^{2}\\right)} \\kappa m^{2} J_{m - 1}(\\kappa \\rho)\\right)} r_{1} - {\\left(3 \\, {\\left(2 \\, B_{\\phi_{1}} B_{r_{1}} \\cos\\left(h k_{1}\\right)^{6} - 3 \\, B_{\\phi_{1}} B_{r_{1}} \\cos\\left(h k_{1}\\right)^{4} + B_{\\phi_{1}} B_{r_{1}} \\cos\\left(h k_{1}\\right)^{2}\\right)} \\kappa m^{3} + {\\left(4 \\, B_{r_{1}} B_{z_{1}} k_{1} \\cos\\left(h k_{1}\\right)^{5} - 4 \\, B_{r_{1}} B_{z_{1}} k_{1} \\cos\\left(h k_{1}\\right)^{3} + B_{r_{1}} B_{z_{1}} k_{1} \\cos\\left(h k_{1}\\right)\\right)} \\kappa m^{2} \\sin\\left(h k_{1}\\right)\\right)} J_{m + 1}(\\kappa \\rho)\\right)} \\rho\\right)} \\cos\\left(m \\varphi\\right) \\cos\\left(k_{1} z\\right)^{2} \\sin\\left(k_{1} z\\right) - {\\left(12 \\, {\\left(4 \\, B_{\\phi_{1}} B_{r_{1}} \\cos\\left(h k_{1}\\right)^{5} - 4 \\, B_{\\phi_{1}} B_{r_{1}} \\cos\\left(h k_{1}\\right)^{3} + B_{\\phi_{1}} B_{r_{1}} \\cos\\left(h k_{1}\\right)\\right)} m^{3} J_{m}(\\kappa \\rho) \\sin\\left(h k_{1}\\right) - {\\left(2 \\, {\\left(3 \\, {\\left(4 \\, B_{\\phi_{1}} B_{r_{1}} \\cos\\left(h k_{1}\\right)^{5} - 4 \\, B_{\\phi_{1}} B_{r_{1}} \\cos\\left(h k_{1}\\right)^{3} + B_{\\phi_{1}} B_{r_{1}} \\cos\\left(h k_{1}\\right)\\right)} \\kappa^{3} \\sin\\left(h k_{1}\\right) - {\\left(60 \\, {\\left(B_{\\phi_{1}} B_{r_{1}} - B_{\\phi_{1}}\\right)} k_{1}^{2} \\cos\\left(h k_{1}\\right)^{5} - 60 \\, {\\left(B_{\\phi_{1}} B_{r_{1}} - B_{\\phi_{1}}\\right)} k_{1}^{2} \\cos\\left(h k_{1}\\right)^{3} + 11 \\, {\\left(B_{\\phi_{1}} B_{r_{1}} - B_{\\phi_{1}}\\right)} k_{1}^{2} \\cos\\left(h k_{1}\\right)\\right)} \\kappa \\sin\\left(h k_{1}\\right)\\right)} m J_{m - 1}(\\kappa \\rho) + 4 \\, {\\left({\\left({\\left(4 \\, B_{r_{1}} k_{1} \\cos\\left(h k_{1}\\right)^{5} - 4 \\, B_{r_{1}} k_{1} \\cos\\left(h k_{1}\\right)^{3} + B_{r_{1}} k_{1} \\cos\\left(h k_{1}\\right)\\right)} \\kappa^{3} \\sin\\left(h k_{1}\\right) - 4 \\, {\\left(4 \\, {\\left(B_{r_{1}} - 1\\right)} k_{1}^{3} \\cos\\left(h k_{1}\\right)^{5} - 4 \\, {\\left(B_{r_{1}} - 1\\right)} k_{1}^{3} \\cos\\left(h k_{1}\\right)^{3} + {\\left(B_{r_{1}} - 1\\right)} k_{1}^{3} \\cos\\left(h k_{1}\\right)\\right)} \\kappa \\sin\\left(h k_{1}\\right)\\right)} J_{m + 1}(\\kappa \\rho) - {\\left({\\left(4 \\, B_{r_{1}} k_{1} \\cos\\left(h k_{1}\\right)^{5} - 4 \\, B_{r_{1}} k_{1} \\cos\\left(h k_{1}\\right)^{3} + B_{r_{1}} k_{1} \\cos\\left(h k_{1}\\right)\\right)} \\kappa^{3} \\sin\\left(h k_{1}\\right) - 4 \\, {\\left(4 \\, {\\left(B_{r_{1}} - 1\\right)} k_{1}^{3} \\cos\\left(h k_{1}\\right)^{5} - 4 \\, {\\left(B_{r_{1}} - 1\\right)} k_{1}^{3} \\cos\\left(h k_{1}\\right)^{3} + {\\left(B_{r_{1}} - 1\\right)} k_{1}^{3} \\cos\\left(h k_{1}\\right)\\right)} \\kappa \\sin\\left(h k_{1}\\right)\\right)} J_{m - 1}(\\kappa \\rho)\\right)} r_{1} + {\\left({\\left(8 \\, B_{r_{1}} B_{z_{1}} k_{1} \\cos\\left(h k_{1}\\right)^{6} - 12 \\, B_{r_{1}} B_{z_{1}} k_{1} \\cos\\left(h k_{1}\\right)^{4} + 6 \\, B_{r_{1}} B_{z_{1}} k_{1} \\cos\\left(h k_{1}\\right)^{2} - B_{r_{1}} B_{z_{1}} k_{1}\\right)} \\kappa^{3} - {\\left(56 \\, {\\left(B_{r_{1}} - 1\\right)} B_{z_{1}} k_{1}^{3} \\cos\\left(h k_{1}\\right)^{6} - 84 \\, {\\left(B_{r_{1}} - 1\\right)} B_{z_{1}} k_{1}^{3} \\cos\\left(h k_{1}\\right)^{4} + 34 \\, {\\left(B_{r_{1}} - 1\\right)} B_{z_{1}} k_{1}^{3} \\cos\\left(h k_{1}\\right)^{2} - 3 \\, {\\left(B_{r_{1}} - 1\\right)} B_{z_{1}} k_{1}^{3}\\right)} \\kappa - 2 \\, {\\left(3 \\, {\\left(4 \\, B_{\\phi_{1}} B_{r_{1}} \\cos\\left(h k_{1}\\right)^{5} - 4 \\, B_{\\phi_{1}} B_{r_{1}} \\cos\\left(h k_{1}\\right)^{3} + B_{\\phi_{1}} B_{r_{1}} \\cos\\left(h k_{1}\\right)\\right)} \\kappa^{3} \\sin\\left(h k_{1}\\right) - {\\left(60 \\, {\\left(B_{\\phi_{1}} B_{r_{1}} - B_{\\phi_{1}}\\right)} k_{1}^{2} \\cos\\left(h k_{1}\\right)^{5} - 60 \\, {\\left(B_{\\phi_{1}} B_{r_{1}} - B_{\\phi_{1}}\\right)} k_{1}^{2} \\cos\\left(h k_{1}\\right)^{3} + 11 \\, {\\left(B_{\\phi_{1}} B_{r_{1}} - B_{\\phi_{1}}\\right)} k_{1}^{2} \\cos\\left(h k_{1}\\right)\\right)} \\kappa \\sin\\left(h k_{1}\\right)\\right)} m\\right)} J_{m + 1}(\\kappa \\rho) - {\\left({\\left(8 \\, B_{r_{1}} B_{z_{1}} k_{1} \\cos\\left(h k_{1}\\right)^{6} - 12 \\, B_{r_{1}} B_{z_{1}} k_{1} \\cos\\left(h k_{1}\\right)^{4} + 6 \\, B_{r_{1}} B_{z_{1}} k_{1} \\cos\\left(h k_{1}\\right)^{2} - B_{r_{1}} B_{z_{1}} k_{1}\\right)} \\kappa^{3} - {\\left(56 \\, {\\left(B_{r_{1}} - 1\\right)} B_{z_{1}} k_{1}^{3} \\cos\\left(h k_{1}\\right)^{6} - 84 \\, {\\left(B_{r_{1}} - 1\\right)} B_{z_{1}} k_{1}^{3} \\cos\\left(h k_{1}\\right)^{4} + 34 \\, {\\left(B_{r_{1}} - 1\\right)} B_{z_{1}} k_{1}^{3} \\cos\\left(h k_{1}\\right)^{2} - 3 \\, {\\left(B_{r_{1}} - 1\\right)} B_{z_{1}} k_{1}^{3}\\right)} \\kappa\\right)} J_{m - 1}(\\kappa \\rho)\\right)} \\rho^{2} + {\\left(6 \\, {\\left(4 \\, B_{\\phi_{1}} B_{r_{1}} \\cos\\left(h k_{1}\\right)^{5} - 4 \\, B_{\\phi_{1}} B_{r_{1}} \\cos\\left(h k_{1}\\right)^{3} + B_{\\phi_{1}} B_{r_{1}} \\cos\\left(h k_{1}\\right)\\right)} \\kappa m^{3} J_{m - 1}(\\kappa \\rho) \\sin\\left(h k_{1}\\right) - {\\left(8 \\, B_{r_{1}} B_{z_{1}} k_{1} \\cos\\left(h k_{1}\\right)^{6} - 12 \\, B_{r_{1}} B_{z_{1}} k_{1} \\cos\\left(h k_{1}\\right)^{4} + 6 \\, B_{r_{1}} B_{z_{1}} k_{1} \\cos\\left(h k_{1}\\right)^{2} - B_{r_{1}} B_{z_{1}} k_{1}\\right)} \\kappa m^{2} J_{m - 1}(\\kappa \\rho) - 4 \\, {\\left(3 \\, {\\left(4 \\, B_{\\phi_{1}} B_{r_{1}} \\cos\\left(h k_{1}\\right)^{5} - 4 \\, B_{\\phi_{1}} B_{r_{1}} \\cos\\left(h k_{1}\\right)^{3} + B_{\\phi_{1}} B_{r_{1}} \\cos\\left(h k_{1}\\right)\\right)} \\kappa^{2} \\sin\\left(h k_{1}\\right) - {\\left(60 \\, {\\left(B_{\\phi_{1}} B_{r_{1}} - B_{\\phi_{1}}\\right)} k_{1}^{2} \\cos\\left(h k_{1}\\right)^{5} - 60 \\, {\\left(B_{\\phi_{1}} B_{r_{1}} - B_{\\phi_{1}}\\right)} k_{1}^{2} \\cos\\left(h k_{1}\\right)^{3} + 11 \\, {\\left(B_{\\phi_{1}} B_{r_{1}} - B_{\\phi_{1}}\\right)} k_{1}^{2} \\cos\\left(h k_{1}\\right)\\right)} \\sin\\left(h k_{1}\\right)\\right)} m J_{m}(\\kappa \\rho) + 4 \\, {\\left({\\left(4 \\, B_{r_{1}} k_{1} \\cos\\left(h k_{1}\\right)^{5} - 4 \\, B_{r_{1}} k_{1} \\cos\\left(h k_{1}\\right)^{3} + B_{r_{1}} k_{1} \\cos\\left(h k_{1}\\right)\\right)} \\kappa m^{2} J_{m + 1}(\\kappa \\rho) \\sin\\left(h k_{1}\\right) - {\\left(4 \\, B_{r_{1}} k_{1} \\cos\\left(h k_{1}\\right)^{5} - 4 \\, B_{r_{1}} k_{1} \\cos\\left(h k_{1}\\right)^{3} + B_{r_{1}} k_{1} \\cos\\left(h k_{1}\\right)\\right)} \\kappa m^{2} J_{m - 1}(\\kappa \\rho) \\sin\\left(h k_{1}\\right)\\right)} r_{1} - {\\left(6 \\, {\\left(4 \\, B_{\\phi_{1}} B_{r_{1}} \\cos\\left(h k_{1}\\right)^{5} - 4 \\, B_{\\phi_{1}} B_{r_{1}} \\cos\\left(h k_{1}\\right)^{3} + B_{\\phi_{1}} B_{r_{1}} \\cos\\left(h k_{1}\\right)\\right)} \\kappa m^{3} \\sin\\left(h k_{1}\\right) - {\\left(8 \\, B_{r_{1}} B_{z_{1}} k_{1} \\cos\\left(h k_{1}\\right)^{6} - 12 \\, B_{r_{1}} B_{z_{1}} k_{1} \\cos\\left(h k_{1}\\right)^{4} + 6 \\, B_{r_{1}} B_{z_{1}} k_{1} \\cos\\left(h k_{1}\\right)^{2} - B_{r_{1}} B_{z_{1}} k_{1}\\right)} \\kappa m^{2}\\right)} J_{m + 1}(\\kappa \\rho)\\right)} \\rho\\right)} \\cos\\left(m \\varphi\\right) \\cos\\left(k_{1} z\\right) \\sin\\left(k_{1} z\\right)^{2} + {\\left(2 \\, {\\left(8 \\, B_{\\phi_{1}} B_{r_{1}} \\cos\\left(h k_{1}\\right)^{6} - 12 \\, B_{\\phi_{1}} B_{r_{1}} \\cos\\left(h k_{1}\\right)^{4} + 6 \\, B_{\\phi_{1}} B_{r_{1}} \\cos\\left(h k_{1}\\right)^{2} - B_{\\phi_{1}} B_{r_{1}}\\right)} m^{3} J_{m}(\\kappa \\rho) + {\\left(4 \\, {\\left(4 \\, {\\left(B_{r_{1}} - 1\\right)} B_{z_{1}} k_{1}^{3} \\cos\\left(h k_{1}\\right)^{5} - 4 \\, {\\left(B_{r_{1}} - 1\\right)} B_{z_{1}} k_{1}^{3} \\cos\\left(h k_{1}\\right)^{3} + {\\left(B_{r_{1}} - 1\\right)} B_{z_{1}} k_{1}^{3} \\cos\\left(h k_{1}\\right)\\right)} \\kappa J_{m - 1}(\\kappa \\rho) \\sin\\left(h k_{1}\\right) - {\\left({\\left(8 \\, B_{\\phi_{1}} B_{r_{1}} \\cos\\left(h k_{1}\\right)^{6} - 12 \\, B_{\\phi_{1}} B_{r_{1}} \\cos\\left(h k_{1}\\right)^{4} + 6 \\, B_{\\phi_{1}} B_{r_{1}} \\cos\\left(h k_{1}\\right)^{2} - B_{\\phi_{1}} B_{r_{1}}\\right)} \\kappa^{3} - {\\left(40 \\, {\\left(B_{\\phi_{1}} B_{r_{1}} - B_{\\phi_{1}}\\right)} k_{1}^{2} \\cos\\left(h k_{1}\\right)^{6} - 60 \\, {\\left(B_{\\phi_{1}} B_{r_{1}} - B_{\\phi_{1}}\\right)} k_{1}^{2} \\cos\\left(h k_{1}\\right)^{4} + 22 \\, {\\left(B_{\\phi_{1}} B_{r_{1}} - B_{\\phi_{1}}\\right)} k_{1}^{2} \\cos\\left(h k_{1}\\right)^{2} - {\\left(B_{\\phi_{1}} B_{r_{1}} - B_{\\phi_{1}}\\right)} k_{1}^{2}\\right)} \\kappa\\right)} m J_{m - 1}(\\kappa \\rho) - {\\left({\\left({\\left(8 \\, B_{r_{1}} k_{1} \\cos\\left(h k_{1}\\right)^{6} - 12 \\, B_{r_{1}} k_{1} \\cos\\left(h k_{1}\\right)^{4} + 6 \\, B_{r_{1}} k_{1} \\cos\\left(h k_{1}\\right)^{2} - B_{r_{1}} k_{1}\\right)} \\kappa^{3} - {\\left(24 \\, {\\left(B_{r_{1}} - 1\\right)} k_{1}^{3} \\cos\\left(h k_{1}\\right)^{6} - 36 \\, {\\left(B_{r_{1}} - 1\\right)} k_{1}^{3} \\cos\\left(h k_{1}\\right)^{4} + 14 \\, {\\left(B_{r_{1}} - 1\\right)} k_{1}^{3} \\cos\\left(h k_{1}\\right)^{2} - {\\left(B_{r_{1}} - 1\\right)} k_{1}^{3}\\right)} \\kappa\\right)} J_{m + 1}(\\kappa \\rho) - {\\left({\\left(8 \\, B_{r_{1}} k_{1} \\cos\\left(h k_{1}\\right)^{6} - 12 \\, B_{r_{1}} k_{1} \\cos\\left(h k_{1}\\right)^{4} + 6 \\, B_{r_{1}} k_{1} \\cos\\left(h k_{1}\\right)^{2} - B_{r_{1}} k_{1}\\right)} \\kappa^{3} - {\\left(24 \\, {\\left(B_{r_{1}} - 1\\right)} k_{1}^{3} \\cos\\left(h k_{1}\\right)^{6} - 36 \\, {\\left(B_{r_{1}} - 1\\right)} k_{1}^{3} \\cos\\left(h k_{1}\\right)^{4} + 14 \\, {\\left(B_{r_{1}} - 1\\right)} k_{1}^{3} \\cos\\left(h k_{1}\\right)^{2} - {\\left(B_{r_{1}} - 1\\right)} k_{1}^{3}\\right)} \\kappa\\right)} J_{m - 1}(\\kappa \\rho)\\right)} r_{1} - {\\left(4 \\, {\\left(4 \\, {\\left(B_{r_{1}} - 1\\right)} B_{z_{1}} k_{1}^{3} \\cos\\left(h k_{1}\\right)^{5} - 4 \\, {\\left(B_{r_{1}} - 1\\right)} B_{z_{1}} k_{1}^{3} \\cos\\left(h k_{1}\\right)^{3} + {\\left(B_{r_{1}} - 1\\right)} B_{z_{1}} k_{1}^{3} \\cos\\left(h k_{1}\\right)\\right)} \\kappa \\sin\\left(h k_{1}\\right) - {\\left({\\left(8 \\, B_{\\phi_{1}} B_{r_{1}} \\cos\\left(h k_{1}\\right)^{6} - 12 \\, B_{\\phi_{1}} B_{r_{1}} \\cos\\left(h k_{1}\\right)^{4} + 6 \\, B_{\\phi_{1}} B_{r_{1}} \\cos\\left(h k_{1}\\right)^{2} - B_{\\phi_{1}} B_{r_{1}}\\right)} \\kappa^{3} - {\\left(40 \\, {\\left(B_{\\phi_{1}} B_{r_{1}} - B_{\\phi_{1}}\\right)} k_{1}^{2} \\cos\\left(h k_{1}\\right)^{6} - 60 \\, {\\left(B_{\\phi_{1}} B_{r_{1}} - B_{\\phi_{1}}\\right)} k_{1}^{2} \\cos\\left(h k_{1}\\right)^{4} + 22 \\, {\\left(B_{\\phi_{1}} B_{r_{1}} - B_{\\phi_{1}}\\right)} k_{1}^{2} \\cos\\left(h k_{1}\\right)^{2} - {\\left(B_{\\phi_{1}} B_{r_{1}} - B_{\\phi_{1}}\\right)} k_{1}^{2}\\right)} \\kappa\\right)} m\\right)} J_{m + 1}(\\kappa \\rho)\\right)} \\rho^{2} - {\\left({\\left(8 \\, B_{\\phi_{1}} B_{r_{1}} \\cos\\left(h k_{1}\\right)^{6} - 12 \\, B_{\\phi_{1}} B_{r_{1}} \\cos\\left(h k_{1}\\right)^{4} + 6 \\, B_{\\phi_{1}} B_{r_{1}} \\cos\\left(h k_{1}\\right)^{2} - B_{\\phi_{1}} B_{r_{1}}\\right)} \\kappa m^{3} J_{m + 1}(\\kappa \\rho) - {\\left(8 \\, B_{\\phi_{1}} B_{r_{1}} \\cos\\left(h k_{1}\\right)^{6} - 12 \\, B_{\\phi_{1}} B_{r_{1}} \\cos\\left(h k_{1}\\right)^{4} + 6 \\, B_{\\phi_{1}} B_{r_{1}} \\cos\\left(h k_{1}\\right)^{2} - B_{\\phi_{1}} B_{r_{1}}\\right)} \\kappa m^{3} J_{m - 1}(\\kappa \\rho) - 2 \\, {\\left(40 \\, {\\left(B_{\\phi_{1}} B_{r_{1}} - B_{\\phi_{1}}\\right)} k_{1}^{2} \\cos\\left(h k_{1}\\right)^{6} - 60 \\, {\\left(B_{\\phi_{1}} B_{r_{1}} - B_{\\phi_{1}}\\right)} k_{1}^{2} \\cos\\left(h k_{1}\\right)^{4} + 22 \\, {\\left(B_{\\phi_{1}} B_{r_{1}} - B_{\\phi_{1}}\\right)} k_{1}^{2} \\cos\\left(h k_{1}\\right)^{2} - {\\left(B_{\\phi_{1}} B_{r_{1}} - B_{\\phi_{1}}\\right)} k_{1}^{2} - {\\left(8 \\, B_{\\phi_{1}} B_{r_{1}} \\cos\\left(h k_{1}\\right)^{6} - 12 \\, B_{\\phi_{1}} B_{r_{1}} \\cos\\left(h k_{1}\\right)^{4} + 6 \\, B_{\\phi_{1}} B_{r_{1}} \\cos\\left(h k_{1}\\right)^{2} - B_{\\phi_{1}} B_{r_{1}}\\right)} \\kappa^{2}\\right)} m J_{m}(\\kappa \\rho) - {\\left({\\left(8 \\, B_{r_{1}} k_{1} \\cos\\left(h k_{1}\\right)^{6} - 12 \\, B_{r_{1}} k_{1} \\cos\\left(h k_{1}\\right)^{4} + 6 \\, B_{r_{1}} k_{1} \\cos\\left(h k_{1}\\right)^{2} - B_{r_{1}} k_{1}\\right)} \\kappa m^{2} J_{m + 1}(\\kappa \\rho) - {\\left(8 \\, B_{r_{1}} k_{1} \\cos\\left(h k_{1}\\right)^{6} - 12 \\, B_{r_{1}} k_{1} \\cos\\left(h k_{1}\\right)^{4} + 6 \\, B_{r_{1}} k_{1} \\cos\\left(h k_{1}\\right)^{2} - B_{r_{1}} k_{1}\\right)} \\kappa m^{2} J_{m - 1}(\\kappa \\rho)\\right)} r_{1}\\right)} \\rho\\right)} \\cos\\left(m \\varphi\\right) \\sin\\left(k_{1} z\\right)^{3}}{2 \\, {\\left(4 \\, {\\left({\\left(2 \\, B_{r_{1}} \\cos\\left(h k_{1}\\right)^{6} - 3 \\, B_{r_{1}} \\cos\\left(h k_{1}\\right)^{4} + B_{r_{1}} \\cos\\left(h k_{1}\\right)^{2}\\right)} \\kappa^{2} \\mu_{1} \\rho^{2} - {\\left(2 \\, B_{r_{1}} \\cos\\left(h k_{1}\\right)^{6} - 3 \\, B_{r_{1}} \\cos\\left(h k_{1}\\right)^{4} + B_{r_{1}} \\cos\\left(h k_{1}\\right)^{2}\\right)} m^{2} \\mu_{1} \\rho\\right)} \\cos\\left(k_{1} z\\right)^{2} + 4 \\, {\\left({\\left(4 \\, B_{r_{1}} \\cos\\left(h k_{1}\\right)^{5} - 4 \\, B_{r_{1}} \\cos\\left(h k_{1}\\right)^{3} + B_{r_{1}} \\cos\\left(h k_{1}\\right)\\right)} \\kappa^{2} \\mu_{1} \\rho^{2} \\sin\\left(h k_{1}\\right) - {\\left(4 \\, B_{r_{1}} \\cos\\left(h k_{1}\\right)^{5} - 4 \\, B_{r_{1}} \\cos\\left(h k_{1}\\right)^{3} + B_{r_{1}} \\cos\\left(h k_{1}\\right)\\right)} m^{2} \\mu_{1} \\rho \\sin\\left(h k_{1}\\right)\\right)} \\cos\\left(k_{1} z\\right) \\sin\\left(k_{1} z\\right) - {\\left({\\left(8 \\, B_{r_{1}} \\cos\\left(h k_{1}\\right)^{6} - 12 \\, B_{r_{1}} \\cos\\left(h k_{1}\\right)^{4} + 6 \\, B_{r_{1}} \\cos\\left(h k_{1}\\right)^{2} - B_{r_{1}}\\right)} \\kappa^{2} \\mu_{1} \\rho^{2} - {\\left(8 \\, B_{r_{1}} \\cos\\left(h k_{1}\\right)^{6} - 12 \\, B_{r_{1}} \\cos\\left(h k_{1}\\right)^{4} + 6 \\, B_{r_{1}} \\cos\\left(h k_{1}\\right)^{2} - B_{r_{1}}\\right)} m^{2} \\mu_{1} \\rho\\right)} \\sin\\left(k_{1} z\\right)^{2}\\right)}} = 0$$"
      ],
      "text/plain": [
       "<IPython.core.display.Math object>"
      ]
     },
     "metadata": {},
     "output_type": "display_data"
    },
    {
     "name": "stdout",
     "output_type": "stream",
     "text": [
      "var =\n"
     ]
    },
    {
     "data": {
      "text/latex": [
       "$$B_{r_{1}}$$"
      ],
      "text/plain": [
       "<IPython.core.display.Math object>"
      ]
     },
     "metadata": {},
     "output_type": "display_data"
    },
    {
     "name": "stdout",
     "output_type": "stream",
     "text": [
      "\n",
      "sol=\n"
     ]
    },
    {
     "data": {
      "text/latex": [
       "$$\\left[B_{r_{1}} = \\frac{2 \\, {\\left(8 \\, {\\left(5 \\, B_{\\phi_{1}} k_{1}^{2} \\cos\\left(h k_{1}\\right)^{5} - 5 \\, B_{\\phi_{1}} k_{1}^{2} \\cos\\left(h k_{1}\\right)^{3} + B_{\\phi_{1}} k_{1}^{2} \\cos\\left(h k_{1}\\right)\\right)} m \\rho J_{m}(\\kappa \\rho) \\sin\\left(h k_{1}\\right) + {\\left(4 \\, {\\left(5 \\, B_{\\phi_{1}} k_{1}^{2} \\cos\\left(h k_{1}\\right)^{5} - 5 \\, B_{\\phi_{1}} k_{1}^{2} \\cos\\left(h k_{1}\\right)^{3} + B_{\\phi_{1}} k_{1}^{2} \\cos\\left(h k_{1}\\right)\\right)} \\kappa m J_{m - 1}(\\kappa \\rho) \\sin\\left(h k_{1}\\right) - {\\left(12 \\, B_{z_{1}} k_{1}^{3} \\cos\\left(h k_{1}\\right)^{6} - 18 \\, B_{z_{1}} k_{1}^{3} \\cos\\left(h k_{1}\\right)^{4} + 8 \\, B_{z_{1}} k_{1}^{3} \\cos\\left(h k_{1}\\right)^{2} - B_{z_{1}} k_{1}^{3}\\right)} \\kappa J_{m - 1}(\\kappa \\rho) + 2 \\, {\\left({\\left(4 \\, k_{1}^{3} \\cos\\left(h k_{1}\\right)^{5} - 4 \\, k_{1}^{3} \\cos\\left(h k_{1}\\right)^{3} + k_{1}^{3} \\cos\\left(h k_{1}\\right)\\right)} \\kappa J_{m + 1}(\\kappa \\rho) \\sin\\left(h k_{1}\\right) - {\\left(4 \\, k_{1}^{3} \\cos\\left(h k_{1}\\right)^{5} - 4 \\, k_{1}^{3} \\cos\\left(h k_{1}\\right)^{3} + k_{1}^{3} \\cos\\left(h k_{1}\\right)\\right)} \\kappa J_{m - 1}(\\kappa \\rho) \\sin\\left(h k_{1}\\right)\\right)} r_{1} - {\\left(4 \\, {\\left(5 \\, B_{\\phi_{1}} k_{1}^{2} \\cos\\left(h k_{1}\\right)^{5} - 5 \\, B_{\\phi_{1}} k_{1}^{2} \\cos\\left(h k_{1}\\right)^{3} + B_{\\phi_{1}} k_{1}^{2} \\cos\\left(h k_{1}\\right)\\right)} \\kappa m \\sin\\left(h k_{1}\\right) - {\\left(12 \\, B_{z_{1}} k_{1}^{3} \\cos\\left(h k_{1}\\right)^{6} - 18 \\, B_{z_{1}} k_{1}^{3} \\cos\\left(h k_{1}\\right)^{4} + 8 \\, B_{z_{1}} k_{1}^{3} \\cos\\left(h k_{1}\\right)^{2} - B_{z_{1}} k_{1}^{3}\\right)} \\kappa\\right)} J_{m + 1}(\\kappa \\rho)\\right)} \\rho^{2}\\right)} \\cos\\left(k_{1} z\\right)^{3} - 4 \\, {\\left(2 \\, {\\left(30 \\, B_{\\phi_{1}} k_{1}^{2} \\cos\\left(h k_{1}\\right)^{6} - 45 \\, B_{\\phi_{1}} k_{1}^{2} \\cos\\left(h k_{1}\\right)^{4} + 17 \\, B_{\\phi_{1}} k_{1}^{2} \\cos\\left(h k_{1}\\right)^{2} - B_{\\phi_{1}} k_{1}^{2}\\right)} m \\rho J_{m}(\\kappa \\rho) + {\\left({\\left(30 \\, B_{\\phi_{1}} k_{1}^{2} \\cos\\left(h k_{1}\\right)^{6} - 45 \\, B_{\\phi_{1}} k_{1}^{2} \\cos\\left(h k_{1}\\right)^{4} + 17 \\, B_{\\phi_{1}} k_{1}^{2} \\cos\\left(h k_{1}\\right)^{2} - B_{\\phi_{1}} k_{1}^{2}\\right)} \\kappa m J_{m - 1}(\\kappa \\rho) + 4 \\, {\\left(4 \\, B_{z_{1}} k_{1}^{3} \\cos\\left(h k_{1}\\right)^{5} - 4 \\, B_{z_{1}} k_{1}^{3} \\cos\\left(h k_{1}\\right)^{3} + B_{z_{1}} k_{1}^{3} \\cos\\left(h k_{1}\\right)\\right)} \\kappa J_{m - 1}(\\kappa \\rho) \\sin\\left(h k_{1}\\right) + {\\left({\\left(14 \\, k_{1}^{3} \\cos\\left(h k_{1}\\right)^{6} - 21 \\, k_{1}^{3} \\cos\\left(h k_{1}\\right)^{4} + 9 \\, k_{1}^{3} \\cos\\left(h k_{1}\\right)^{2} - k_{1}^{3}\\right)} \\kappa J_{m + 1}(\\kappa \\rho) - {\\left(14 \\, k_{1}^{3} \\cos\\left(h k_{1}\\right)^{6} - 21 \\, k_{1}^{3} \\cos\\left(h k_{1}\\right)^{4} + 9 \\, k_{1}^{3} \\cos\\left(h k_{1}\\right)^{2} - k_{1}^{3}\\right)} \\kappa J_{m - 1}(\\kappa \\rho)\\right)} r_{1} - {\\left({\\left(30 \\, B_{\\phi_{1}} k_{1}^{2} \\cos\\left(h k_{1}\\right)^{6} - 45 \\, B_{\\phi_{1}} k_{1}^{2} \\cos\\left(h k_{1}\\right)^{4} + 17 \\, B_{\\phi_{1}} k_{1}^{2} \\cos\\left(h k_{1}\\right)^{2} - B_{\\phi_{1}} k_{1}^{2}\\right)} \\kappa m + 4 \\, {\\left(4 \\, B_{z_{1}} k_{1}^{3} \\cos\\left(h k_{1}\\right)^{5} - 4 \\, B_{z_{1}} k_{1}^{3} \\cos\\left(h k_{1}\\right)^{3} + B_{z_{1}} k_{1}^{3} \\cos\\left(h k_{1}\\right)\\right)} \\kappa \\sin\\left(h k_{1}\\right)\\right)} J_{m + 1}(\\kappa \\rho)\\right)} \\rho^{2}\\right)} \\cos\\left(k_{1} z\\right)^{2} \\sin\\left(k_{1} z\\right) - {\\left(4 \\, {\\left(60 \\, B_{\\phi_{1}} k_{1}^{2} \\cos\\left(h k_{1}\\right)^{5} - 60 \\, B_{\\phi_{1}} k_{1}^{2} \\cos\\left(h k_{1}\\right)^{3} + 11 \\, B_{\\phi_{1}} k_{1}^{2} \\cos\\left(h k_{1}\\right)\\right)} m \\rho J_{m}(\\kappa \\rho) \\sin\\left(h k_{1}\\right) + {\\left(2 \\, {\\left(60 \\, B_{\\phi_{1}} k_{1}^{2} \\cos\\left(h k_{1}\\right)^{5} - 60 \\, B_{\\phi_{1}} k_{1}^{2} \\cos\\left(h k_{1}\\right)^{3} + 11 \\, B_{\\phi_{1}} k_{1}^{2} \\cos\\left(h k_{1}\\right)\\right)} \\kappa m J_{m - 1}(\\kappa \\rho) \\sin\\left(h k_{1}\\right) - {\\left(56 \\, B_{z_{1}} k_{1}^{3} \\cos\\left(h k_{1}\\right)^{6} - 84 \\, B_{z_{1}} k_{1}^{3} \\cos\\left(h k_{1}\\right)^{4} + 34 \\, B_{z_{1}} k_{1}^{3} \\cos\\left(h k_{1}\\right)^{2} - 3 \\, B_{z_{1}} k_{1}^{3}\\right)} \\kappa J_{m - 1}(\\kappa \\rho) + 16 \\, {\\left({\\left(4 \\, k_{1}^{3} \\cos\\left(h k_{1}\\right)^{5} - 4 \\, k_{1}^{3} \\cos\\left(h k_{1}\\right)^{3} + k_{1}^{3} \\cos\\left(h k_{1}\\right)\\right)} \\kappa J_{m + 1}(\\kappa \\rho) \\sin\\left(h k_{1}\\right) - {\\left(4 \\, k_{1}^{3} \\cos\\left(h k_{1}\\right)^{5} - 4 \\, k_{1}^{3} \\cos\\left(h k_{1}\\right)^{3} + k_{1}^{3} \\cos\\left(h k_{1}\\right)\\right)} \\kappa J_{m - 1}(\\kappa \\rho) \\sin\\left(h k_{1}\\right)\\right)} r_{1} - {\\left(2 \\, {\\left(60 \\, B_{\\phi_{1}} k_{1}^{2} \\cos\\left(h k_{1}\\right)^{5} - 60 \\, B_{\\phi_{1}} k_{1}^{2} \\cos\\left(h k_{1}\\right)^{3} + 11 \\, B_{\\phi_{1}} k_{1}^{2} \\cos\\left(h k_{1}\\right)\\right)} \\kappa m \\sin\\left(h k_{1}\\right) - {\\left(56 \\, B_{z_{1}} k_{1}^{3} \\cos\\left(h k_{1}\\right)^{6} - 84 \\, B_{z_{1}} k_{1}^{3} \\cos\\left(h k_{1}\\right)^{4} + 34 \\, B_{z_{1}} k_{1}^{3} \\cos\\left(h k_{1}\\right)^{2} - 3 \\, B_{z_{1}} k_{1}^{3}\\right)} \\kappa\\right)} J_{m + 1}(\\kappa \\rho)\\right)} \\rho^{2}\\right)} \\cos\\left(k_{1} z\\right) \\sin\\left(k_{1} z\\right)^{2} + {\\left(2 \\, {\\left(40 \\, B_{\\phi_{1}} k_{1}^{2} \\cos\\left(h k_{1}\\right)^{6} - 60 \\, B_{\\phi_{1}} k_{1}^{2} \\cos\\left(h k_{1}\\right)^{4} + 22 \\, B_{\\phi_{1}} k_{1}^{2} \\cos\\left(h k_{1}\\right)^{2} - B_{\\phi_{1}} k_{1}^{2}\\right)} m \\rho J_{m}(\\kappa \\rho) + {\\left({\\left(40 \\, B_{\\phi_{1}} k_{1}^{2} \\cos\\left(h k_{1}\\right)^{6} - 60 \\, B_{\\phi_{1}} k_{1}^{2} \\cos\\left(h k_{1}\\right)^{4} + 22 \\, B_{\\phi_{1}} k_{1}^{2} \\cos\\left(h k_{1}\\right)^{2} - B_{\\phi_{1}} k_{1}^{2}\\right)} \\kappa m J_{m - 1}(\\kappa \\rho) + 4 \\, {\\left(4 \\, B_{z_{1}} k_{1}^{3} \\cos\\left(h k_{1}\\right)^{5} - 4 \\, B_{z_{1}} k_{1}^{3} \\cos\\left(h k_{1}\\right)^{3} + B_{z_{1}} k_{1}^{3} \\cos\\left(h k_{1}\\right)\\right)} \\kappa J_{m - 1}(\\kappa \\rho) \\sin\\left(h k_{1}\\right) + {\\left({\\left(24 \\, k_{1}^{3} \\cos\\left(h k_{1}\\right)^{6} - 36 \\, k_{1}^{3} \\cos\\left(h k_{1}\\right)^{4} + 14 \\, k_{1}^{3} \\cos\\left(h k_{1}\\right)^{2} - k_{1}^{3}\\right)} \\kappa J_{m + 1}(\\kappa \\rho) - {\\left(24 \\, k_{1}^{3} \\cos\\left(h k_{1}\\right)^{6} - 36 \\, k_{1}^{3} \\cos\\left(h k_{1}\\right)^{4} + 14 \\, k_{1}^{3} \\cos\\left(h k_{1}\\right)^{2} - k_{1}^{3}\\right)} \\kappa J_{m - 1}(\\kappa \\rho)\\right)} r_{1} - {\\left({\\left(40 \\, B_{\\phi_{1}} k_{1}^{2} \\cos\\left(h k_{1}\\right)^{6} - 60 \\, B_{\\phi_{1}} k_{1}^{2} \\cos\\left(h k_{1}\\right)^{4} + 22 \\, B_{\\phi_{1}} k_{1}^{2} \\cos\\left(h k_{1}\\right)^{2} - B_{\\phi_{1}} k_{1}^{2}\\right)} \\kappa m + 4 \\, {\\left(4 \\, B_{z_{1}} k_{1}^{3} \\cos\\left(h k_{1}\\right)^{5} - 4 \\, B_{z_{1}} k_{1}^{3} \\cos\\left(h k_{1}\\right)^{3} + B_{z_{1}} k_{1}^{3} \\cos\\left(h k_{1}\\right)\\right)} \\kappa \\sin\\left(h k_{1}\\right)\\right)} J_{m + 1}(\\kappa \\rho)\\right)} \\rho^{2}\\right)} \\sin\\left(k_{1} z\\right)^{3}}{2 \\, {\\left(8 \\, {\\left(B_{\\phi_{1}} \\cos\\left(h k_{1}\\right)^{5} - B_{\\phi_{1}} \\cos\\left(h k_{1}\\right)^{3}\\right)} m^{3} J_{m}(\\kappa \\rho) \\sin\\left(h k_{1}\\right) - {\\left(4 \\, {\\left({\\left(B_{\\phi_{1}} \\cos\\left(h k_{1}\\right)^{5} - B_{\\phi_{1}} \\cos\\left(h k_{1}\\right)^{3}\\right)} \\kappa^{3} \\sin\\left(h k_{1}\\right) - {\\left(5 \\, B_{\\phi_{1}} k_{1}^{2} \\cos\\left(h k_{1}\\right)^{5} - 5 \\, B_{\\phi_{1}} k_{1}^{2} \\cos\\left(h k_{1}\\right)^{3} + B_{\\phi_{1}} k_{1}^{2} \\cos\\left(h k_{1}\\right)\\right)} \\kappa \\sin\\left(h k_{1}\\right)\\right)} m J_{m - 1}(\\kappa \\rho) - 2 \\, {\\left({\\left(4 \\, k_{1}^{3} \\cos\\left(h k_{1}\\right)^{5} - 4 \\, k_{1}^{3} \\cos\\left(h k_{1}\\right)^{3} + k_{1}^{3} \\cos\\left(h k_{1}\\right)\\right)} \\kappa J_{m + 1}(\\kappa \\rho) \\sin\\left(h k_{1}\\right) - {\\left(4 \\, k_{1}^{3} \\cos\\left(h k_{1}\\right)^{5} - 4 \\, k_{1}^{3} \\cos\\left(h k_{1}\\right)^{3} + k_{1}^{3} \\cos\\left(h k_{1}\\right)\\right)} \\kappa J_{m - 1}(\\kappa \\rho) \\sin\\left(h k_{1}\\right)\\right)} r_{1} + {\\left(2 \\, {\\left(2 \\, B_{z_{1}} k_{1} \\cos\\left(h k_{1}\\right)^{6} - 3 \\, B_{z_{1}} k_{1} \\cos\\left(h k_{1}\\right)^{4} + B_{z_{1}} k_{1} \\cos\\left(h k_{1}\\right)^{2}\\right)} \\kappa^{3} - {\\left(12 \\, B_{z_{1}} k_{1}^{3} \\cos\\left(h k_{1}\\right)^{6} - 18 \\, B_{z_{1}} k_{1}^{3} \\cos\\left(h k_{1}\\right)^{4} + 8 \\, B_{z_{1}} k_{1}^{3} \\cos\\left(h k_{1}\\right)^{2} - B_{z_{1}} k_{1}^{3}\\right)} \\kappa - 4 \\, {\\left({\\left(B_{\\phi_{1}} \\cos\\left(h k_{1}\\right)^{5} - B_{\\phi_{1}} \\cos\\left(h k_{1}\\right)^{3}\\right)} \\kappa^{3} \\sin\\left(h k_{1}\\right) - {\\left(5 \\, B_{\\phi_{1}} k_{1}^{2} \\cos\\left(h k_{1}\\right)^{5} - 5 \\, B_{\\phi_{1}} k_{1}^{2} \\cos\\left(h k_{1}\\right)^{3} + B_{\\phi_{1}} k_{1}^{2} \\cos\\left(h k_{1}\\right)\\right)} \\kappa \\sin\\left(h k_{1}\\right)\\right)} m\\right)} J_{m + 1}(\\kappa \\rho) - {\\left(2 \\, {\\left(2 \\, B_{z_{1}} k_{1} \\cos\\left(h k_{1}\\right)^{6} - 3 \\, B_{z_{1}} k_{1} \\cos\\left(h k_{1}\\right)^{4} + B_{z_{1}} k_{1} \\cos\\left(h k_{1}\\right)^{2}\\right)} \\kappa^{3} - {\\left(12 \\, B_{z_{1}} k_{1}^{3} \\cos\\left(h k_{1}\\right)^{6} - 18 \\, B_{z_{1}} k_{1}^{3} \\cos\\left(h k_{1}\\right)^{4} + 8 \\, B_{z_{1}} k_{1}^{3} \\cos\\left(h k_{1}\\right)^{2} - B_{z_{1}} k_{1}^{3}\\right)} \\kappa\\right)} J_{m - 1}(\\kappa \\rho)\\right)} \\rho^{2} + 2 \\, {\\left(2 \\, {\\left(B_{\\phi_{1}} \\cos\\left(h k_{1}\\right)^{5} - B_{\\phi_{1}} \\cos\\left(h k_{1}\\right)^{3}\\right)} \\kappa m^{3} J_{m - 1}(\\kappa \\rho) \\sin\\left(h k_{1}\\right) - {\\left(2 \\, B_{z_{1}} k_{1} \\cos\\left(h k_{1}\\right)^{6} - 3 \\, B_{z_{1}} k_{1} \\cos\\left(h k_{1}\\right)^{4} + B_{z_{1}} k_{1} \\cos\\left(h k_{1}\\right)^{2}\\right)} \\kappa m^{2} J_{m - 1}(\\kappa \\rho) - 4 \\, {\\left({\\left(B_{\\phi_{1}} \\cos\\left(h k_{1}\\right)^{5} - B_{\\phi_{1}} \\cos\\left(h k_{1}\\right)^{3}\\right)} \\kappa^{2} \\sin\\left(h k_{1}\\right) - {\\left(5 \\, B_{\\phi_{1}} k_{1}^{2} \\cos\\left(h k_{1}\\right)^{5} - 5 \\, B_{\\phi_{1}} k_{1}^{2} \\cos\\left(h k_{1}\\right)^{3} + B_{\\phi_{1}} k_{1}^{2} \\cos\\left(h k_{1}\\right)\\right)} \\sin\\left(h k_{1}\\right)\\right)} m J_{m}(\\kappa \\rho) - {\\left(2 \\, {\\left(B_{\\phi_{1}} \\cos\\left(h k_{1}\\right)^{5} - B_{\\phi_{1}} \\cos\\left(h k_{1}\\right)^{3}\\right)} \\kappa m^{3} \\sin\\left(h k_{1}\\right) - {\\left(2 \\, B_{z_{1}} k_{1} \\cos\\left(h k_{1}\\right)^{6} - 3 \\, B_{z_{1}} k_{1} \\cos\\left(h k_{1}\\right)^{4} + B_{z_{1}} k_{1} \\cos\\left(h k_{1}\\right)^{2}\\right)} \\kappa m^{2}\\right)} J_{m + 1}(\\kappa \\rho)\\right)} \\rho\\right)} \\cos\\left(k_{1} z\\right)^{3} - 4 \\, {\\left(6 \\, {\\left(2 \\, B_{\\phi_{1}} \\cos\\left(h k_{1}\\right)^{6} - 3 \\, B_{\\phi_{1}} \\cos\\left(h k_{1}\\right)^{4} + B_{\\phi_{1}} \\cos\\left(h k_{1}\\right)^{2}\\right)} m^{3} J_{m}(\\kappa \\rho) - {\\left({\\left(3 \\, {\\left(2 \\, B_{\\phi_{1}} \\cos\\left(h k_{1}\\right)^{6} - 3 \\, B_{\\phi_{1}} \\cos\\left(h k_{1}\\right)^{4} + B_{\\phi_{1}} \\cos\\left(h k_{1}\\right)^{2}\\right)} \\kappa^{3} - {\\left(30 \\, B_{\\phi_{1}} k_{1}^{2} \\cos\\left(h k_{1}\\right)^{6} - 45 \\, B_{\\phi_{1}} k_{1}^{2} \\cos\\left(h k_{1}\\right)^{4} + 17 \\, B_{\\phi_{1}} k_{1}^{2} \\cos\\left(h k_{1}\\right)^{2} - B_{\\phi_{1}} k_{1}^{2}\\right)} \\kappa\\right)} m J_{m - 1}(\\kappa \\rho) + {\\left({\\left({\\left(2 \\, k_{1} \\cos\\left(h k_{1}\\right)^{6} - 3 \\, k_{1} \\cos\\left(h k_{1}\\right)^{4} + k_{1} \\cos\\left(h k_{1}\\right)^{2}\\right)} \\kappa^{3} - {\\left(14 \\, k_{1}^{3} \\cos\\left(h k_{1}\\right)^{6} - 21 \\, k_{1}^{3} \\cos\\left(h k_{1}\\right)^{4} + 9 \\, k_{1}^{3} \\cos\\left(h k_{1}\\right)^{2} - k_{1}^{3}\\right)} \\kappa\\right)} J_{m + 1}(\\kappa \\rho) - {\\left({\\left(2 \\, k_{1} \\cos\\left(h k_{1}\\right)^{6} - 3 \\, k_{1} \\cos\\left(h k_{1}\\right)^{4} + k_{1} \\cos\\left(h k_{1}\\right)^{2}\\right)} \\kappa^{3} - {\\left(14 \\, k_{1}^{3} \\cos\\left(h k_{1}\\right)^{6} - 21 \\, k_{1}^{3} \\cos\\left(h k_{1}\\right)^{4} + 9 \\, k_{1}^{3} \\cos\\left(h k_{1}\\right)^{2} - k_{1}^{3}\\right)} \\kappa\\right)} J_{m - 1}(\\kappa \\rho)\\right)} r_{1} - {\\left({\\left(4 \\, B_{z_{1}} k_{1} \\cos\\left(h k_{1}\\right)^{5} - 4 \\, B_{z_{1}} k_{1} \\cos\\left(h k_{1}\\right)^{3} + B_{z_{1}} k_{1} \\cos\\left(h k_{1}\\right)\\right)} \\kappa^{3} \\sin\\left(h k_{1}\\right) - 4 \\, {\\left(4 \\, B_{z_{1}} k_{1}^{3} \\cos\\left(h k_{1}\\right)^{5} - 4 \\, B_{z_{1}} k_{1}^{3} \\cos\\left(h k_{1}\\right)^{3} + B_{z_{1}} k_{1}^{3} \\cos\\left(h k_{1}\\right)\\right)} \\kappa \\sin\\left(h k_{1}\\right) + {\\left(3 \\, {\\left(2 \\, B_{\\phi_{1}} \\cos\\left(h k_{1}\\right)^{6} - 3 \\, B_{\\phi_{1}} \\cos\\left(h k_{1}\\right)^{4} + B_{\\phi_{1}} \\cos\\left(h k_{1}\\right)^{2}\\right)} \\kappa^{3} - {\\left(30 \\, B_{\\phi_{1}} k_{1}^{2} \\cos\\left(h k_{1}\\right)^{6} - 45 \\, B_{\\phi_{1}} k_{1}^{2} \\cos\\left(h k_{1}\\right)^{4} + 17 \\, B_{\\phi_{1}} k_{1}^{2} \\cos\\left(h k_{1}\\right)^{2} - B_{\\phi_{1}} k_{1}^{2}\\right)} \\kappa\\right)} m\\right)} J_{m + 1}(\\kappa \\rho) + {\\left({\\left(4 \\, B_{z_{1}} k_{1} \\cos\\left(h k_{1}\\right)^{5} - 4 \\, B_{z_{1}} k_{1} \\cos\\left(h k_{1}\\right)^{3} + B_{z_{1}} k_{1} \\cos\\left(h k_{1}\\right)\\right)} \\kappa^{3} \\sin\\left(h k_{1}\\right) - 4 \\, {\\left(4 \\, B_{z_{1}} k_{1}^{3} \\cos\\left(h k_{1}\\right)^{5} - 4 \\, B_{z_{1}} k_{1}^{3} \\cos\\left(h k_{1}\\right)^{3} + B_{z_{1}} k_{1}^{3} \\cos\\left(h k_{1}\\right)\\right)} \\kappa \\sin\\left(h k_{1}\\right)\\right)} J_{m - 1}(\\kappa \\rho)\\right)} \\rho^{2} + {\\left(3 \\, {\\left(2 \\, B_{\\phi_{1}} \\cos\\left(h k_{1}\\right)^{6} - 3 \\, B_{\\phi_{1}} \\cos\\left(h k_{1}\\right)^{4} + B_{\\phi_{1}} \\cos\\left(h k_{1}\\right)^{2}\\right)} \\kappa m^{3} J_{m - 1}(\\kappa \\rho) + {\\left(4 \\, B_{z_{1}} k_{1} \\cos\\left(h k_{1}\\right)^{5} - 4 \\, B_{z_{1}} k_{1} \\cos\\left(h k_{1}\\right)^{3} + B_{z_{1}} k_{1} \\cos\\left(h k_{1}\\right)\\right)} \\kappa m^{2} J_{m - 1}(\\kappa \\rho) \\sin\\left(h k_{1}\\right) + 2 \\, {\\left(30 \\, B_{\\phi_{1}} k_{1}^{2} \\cos\\left(h k_{1}\\right)^{6} - 45 \\, B_{\\phi_{1}} k_{1}^{2} \\cos\\left(h k_{1}\\right)^{4} + 17 \\, B_{\\phi_{1}} k_{1}^{2} \\cos\\left(h k_{1}\\right)^{2} - B_{\\phi_{1}} k_{1}^{2} - 3 \\, {\\left(2 \\, B_{\\phi_{1}} \\cos\\left(h k_{1}\\right)^{6} - 3 \\, B_{\\phi_{1}} \\cos\\left(h k_{1}\\right)^{4} + B_{\\phi_{1}} \\cos\\left(h k_{1}\\right)^{2}\\right)} \\kappa^{2}\\right)} m J_{m}(\\kappa \\rho) + {\\left({\\left(2 \\, k_{1} \\cos\\left(h k_{1}\\right)^{6} - 3 \\, k_{1} \\cos\\left(h k_{1}\\right)^{4} + k_{1} \\cos\\left(h k_{1}\\right)^{2}\\right)} \\kappa m^{2} J_{m + 1}(\\kappa \\rho) - {\\left(2 \\, k_{1} \\cos\\left(h k_{1}\\right)^{6} - 3 \\, k_{1} \\cos\\left(h k_{1}\\right)^{4} + k_{1} \\cos\\left(h k_{1}\\right)^{2}\\right)} \\kappa m^{2} J_{m - 1}(\\kappa \\rho)\\right)} r_{1} - {\\left(3 \\, {\\left(2 \\, B_{\\phi_{1}} \\cos\\left(h k_{1}\\right)^{6} - 3 \\, B_{\\phi_{1}} \\cos\\left(h k_{1}\\right)^{4} + B_{\\phi_{1}} \\cos\\left(h k_{1}\\right)^{2}\\right)} \\kappa m^{3} + {\\left(4 \\, B_{z_{1}} k_{1} \\cos\\left(h k_{1}\\right)^{5} - 4 \\, B_{z_{1}} k_{1} \\cos\\left(h k_{1}\\right)^{3} + B_{z_{1}} k_{1} \\cos\\left(h k_{1}\\right)\\right)} \\kappa m^{2} \\sin\\left(h k_{1}\\right)\\right)} J_{m + 1}(\\kappa \\rho)\\right)} \\rho\\right)} \\cos\\left(k_{1} z\\right)^{2} \\sin\\left(k_{1} z\\right) - {\\left(12 \\, {\\left(4 \\, B_{\\phi_{1}} \\cos\\left(h k_{1}\\right)^{5} - 4 \\, B_{\\phi_{1}} \\cos\\left(h k_{1}\\right)^{3} + B_{\\phi_{1}} \\cos\\left(h k_{1}\\right)\\right)} m^{3} J_{m}(\\kappa \\rho) \\sin\\left(h k_{1}\\right) - {\\left(2 \\, {\\left(3 \\, {\\left(4 \\, B_{\\phi_{1}} \\cos\\left(h k_{1}\\right)^{5} - 4 \\, B_{\\phi_{1}} \\cos\\left(h k_{1}\\right)^{3} + B_{\\phi_{1}} \\cos\\left(h k_{1}\\right)\\right)} \\kappa^{3} \\sin\\left(h k_{1}\\right) - {\\left(60 \\, B_{\\phi_{1}} k_{1}^{2} \\cos\\left(h k_{1}\\right)^{5} - 60 \\, B_{\\phi_{1}} k_{1}^{2} \\cos\\left(h k_{1}\\right)^{3} + 11 \\, B_{\\phi_{1}} k_{1}^{2} \\cos\\left(h k_{1}\\right)\\right)} \\kappa \\sin\\left(h k_{1}\\right)\\right)} m J_{m - 1}(\\kappa \\rho) + 4 \\, {\\left({\\left({\\left(4 \\, k_{1} \\cos\\left(h k_{1}\\right)^{5} - 4 \\, k_{1} \\cos\\left(h k_{1}\\right)^{3} + k_{1} \\cos\\left(h k_{1}\\right)\\right)} \\kappa^{3} \\sin\\left(h k_{1}\\right) - 4 \\, {\\left(4 \\, k_{1}^{3} \\cos\\left(h k_{1}\\right)^{5} - 4 \\, k_{1}^{3} \\cos\\left(h k_{1}\\right)^{3} + k_{1}^{3} \\cos\\left(h k_{1}\\right)\\right)} \\kappa \\sin\\left(h k_{1}\\right)\\right)} J_{m + 1}(\\kappa \\rho) - {\\left({\\left(4 \\, k_{1} \\cos\\left(h k_{1}\\right)^{5} - 4 \\, k_{1} \\cos\\left(h k_{1}\\right)^{3} + k_{1} \\cos\\left(h k_{1}\\right)\\right)} \\kappa^{3} \\sin\\left(h k_{1}\\right) - 4 \\, {\\left(4 \\, k_{1}^{3} \\cos\\left(h k_{1}\\right)^{5} - 4 \\, k_{1}^{3} \\cos\\left(h k_{1}\\right)^{3} + k_{1}^{3} \\cos\\left(h k_{1}\\right)\\right)} \\kappa \\sin\\left(h k_{1}\\right)\\right)} J_{m - 1}(\\kappa \\rho)\\right)} r_{1} + {\\left({\\left(8 \\, B_{z_{1}} k_{1} \\cos\\left(h k_{1}\\right)^{6} - 12 \\, B_{z_{1}} k_{1} \\cos\\left(h k_{1}\\right)^{4} + 6 \\, B_{z_{1}} k_{1} \\cos\\left(h k_{1}\\right)^{2} - B_{z_{1}} k_{1}\\right)} \\kappa^{3} - {\\left(56 \\, B_{z_{1}} k_{1}^{3} \\cos\\left(h k_{1}\\right)^{6} - 84 \\, B_{z_{1}} k_{1}^{3} \\cos\\left(h k_{1}\\right)^{4} + 34 \\, B_{z_{1}} k_{1}^{3} \\cos\\left(h k_{1}\\right)^{2} - 3 \\, B_{z_{1}} k_{1}^{3}\\right)} \\kappa - 2 \\, {\\left(3 \\, {\\left(4 \\, B_{\\phi_{1}} \\cos\\left(h k_{1}\\right)^{5} - 4 \\, B_{\\phi_{1}} \\cos\\left(h k_{1}\\right)^{3} + B_{\\phi_{1}} \\cos\\left(h k_{1}\\right)\\right)} \\kappa^{3} \\sin\\left(h k_{1}\\right) - {\\left(60 \\, B_{\\phi_{1}} k_{1}^{2} \\cos\\left(h k_{1}\\right)^{5} - 60 \\, B_{\\phi_{1}} k_{1}^{2} \\cos\\left(h k_{1}\\right)^{3} + 11 \\, B_{\\phi_{1}} k_{1}^{2} \\cos\\left(h k_{1}\\right)\\right)} \\kappa \\sin\\left(h k_{1}\\right)\\right)} m\\right)} J_{m + 1}(\\kappa \\rho) - {\\left({\\left(8 \\, B_{z_{1}} k_{1} \\cos\\left(h k_{1}\\right)^{6} - 12 \\, B_{z_{1}} k_{1} \\cos\\left(h k_{1}\\right)^{4} + 6 \\, B_{z_{1}} k_{1} \\cos\\left(h k_{1}\\right)^{2} - B_{z_{1}} k_{1}\\right)} \\kappa^{3} - {\\left(56 \\, B_{z_{1}} k_{1}^{3} \\cos\\left(h k_{1}\\right)^{6} - 84 \\, B_{z_{1}} k_{1}^{3} \\cos\\left(h k_{1}\\right)^{4} + 34 \\, B_{z_{1}} k_{1}^{3} \\cos\\left(h k_{1}\\right)^{2} - 3 \\, B_{z_{1}} k_{1}^{3}\\right)} \\kappa\\right)} J_{m - 1}(\\kappa \\rho)\\right)} \\rho^{2} + {\\left(6 \\, {\\left(4 \\, B_{\\phi_{1}} \\cos\\left(h k_{1}\\right)^{5} - 4 \\, B_{\\phi_{1}} \\cos\\left(h k_{1}\\right)^{3} + B_{\\phi_{1}} \\cos\\left(h k_{1}\\right)\\right)} \\kappa m^{3} J_{m - 1}(\\kappa \\rho) \\sin\\left(h k_{1}\\right) - {\\left(8 \\, B_{z_{1}} k_{1} \\cos\\left(h k_{1}\\right)^{6} - 12 \\, B_{z_{1}} k_{1} \\cos\\left(h k_{1}\\right)^{4} + 6 \\, B_{z_{1}} k_{1} \\cos\\left(h k_{1}\\right)^{2} - B_{z_{1}} k_{1}\\right)} \\kappa m^{2} J_{m - 1}(\\kappa \\rho) - 4 \\, {\\left(3 \\, {\\left(4 \\, B_{\\phi_{1}} \\cos\\left(h k_{1}\\right)^{5} - 4 \\, B_{\\phi_{1}} \\cos\\left(h k_{1}\\right)^{3} + B_{\\phi_{1}} \\cos\\left(h k_{1}\\right)\\right)} \\kappa^{2} \\sin\\left(h k_{1}\\right) - {\\left(60 \\, B_{\\phi_{1}} k_{1}^{2} \\cos\\left(h k_{1}\\right)^{5} - 60 \\, B_{\\phi_{1}} k_{1}^{2} \\cos\\left(h k_{1}\\right)^{3} + 11 \\, B_{\\phi_{1}} k_{1}^{2} \\cos\\left(h k_{1}\\right)\\right)} \\sin\\left(h k_{1}\\right)\\right)} m J_{m}(\\kappa \\rho) + 4 \\, {\\left({\\left(4 \\, k_{1} \\cos\\left(h k_{1}\\right)^{5} - 4 \\, k_{1} \\cos\\left(h k_{1}\\right)^{3} + k_{1} \\cos\\left(h k_{1}\\right)\\right)} \\kappa m^{2} J_{m + 1}(\\kappa \\rho) \\sin\\left(h k_{1}\\right) - {\\left(4 \\, k_{1} \\cos\\left(h k_{1}\\right)^{5} - 4 \\, k_{1} \\cos\\left(h k_{1}\\right)^{3} + k_{1} \\cos\\left(h k_{1}\\right)\\right)} \\kappa m^{2} J_{m - 1}(\\kappa \\rho) \\sin\\left(h k_{1}\\right)\\right)} r_{1} - {\\left(6 \\, {\\left(4 \\, B_{\\phi_{1}} \\cos\\left(h k_{1}\\right)^{5} - 4 \\, B_{\\phi_{1}} \\cos\\left(h k_{1}\\right)^{3} + B_{\\phi_{1}} \\cos\\left(h k_{1}\\right)\\right)} \\kappa m^{3} \\sin\\left(h k_{1}\\right) - {\\left(8 \\, B_{z_{1}} k_{1} \\cos\\left(h k_{1}\\right)^{6} - 12 \\, B_{z_{1}} k_{1} \\cos\\left(h k_{1}\\right)^{4} + 6 \\, B_{z_{1}} k_{1} \\cos\\left(h k_{1}\\right)^{2} - B_{z_{1}} k_{1}\\right)} \\kappa m^{2}\\right)} J_{m + 1}(\\kappa \\rho)\\right)} \\rho\\right)} \\cos\\left(k_{1} z\\right) \\sin\\left(k_{1} z\\right)^{2} + {\\left(2 \\, {\\left(8 \\, B_{\\phi_{1}} \\cos\\left(h k_{1}\\right)^{6} - 12 \\, B_{\\phi_{1}} \\cos\\left(h k_{1}\\right)^{4} + 6 \\, B_{\\phi_{1}} \\cos\\left(h k_{1}\\right)^{2} - B_{\\phi_{1}}\\right)} m^{3} J_{m}(\\kappa \\rho) + {\\left(4 \\, {\\left(4 \\, B_{z_{1}} k_{1}^{3} \\cos\\left(h k_{1}\\right)^{5} - 4 \\, B_{z_{1}} k_{1}^{3} \\cos\\left(h k_{1}\\right)^{3} + B_{z_{1}} k_{1}^{3} \\cos\\left(h k_{1}\\right)\\right)} \\kappa J_{m - 1}(\\kappa \\rho) \\sin\\left(h k_{1}\\right) - {\\left({\\left(8 \\, B_{\\phi_{1}} \\cos\\left(h k_{1}\\right)^{6} - 12 \\, B_{\\phi_{1}} \\cos\\left(h k_{1}\\right)^{4} + 6 \\, B_{\\phi_{1}} \\cos\\left(h k_{1}\\right)^{2} - B_{\\phi_{1}}\\right)} \\kappa^{3} - {\\left(40 \\, B_{\\phi_{1}} k_{1}^{2} \\cos\\left(h k_{1}\\right)^{6} - 60 \\, B_{\\phi_{1}} k_{1}^{2} \\cos\\left(h k_{1}\\right)^{4} + 22 \\, B_{\\phi_{1}} k_{1}^{2} \\cos\\left(h k_{1}\\right)^{2} - B_{\\phi_{1}} k_{1}^{2}\\right)} \\kappa\\right)} m J_{m - 1}(\\kappa \\rho) - {\\left({\\left({\\left(8 \\, k_{1} \\cos\\left(h k_{1}\\right)^{6} - 12 \\, k_{1} \\cos\\left(h k_{1}\\right)^{4} + 6 \\, k_{1} \\cos\\left(h k_{1}\\right)^{2} - k_{1}\\right)} \\kappa^{3} - {\\left(24 \\, k_{1}^{3} \\cos\\left(h k_{1}\\right)^{6} - 36 \\, k_{1}^{3} \\cos\\left(h k_{1}\\right)^{4} + 14 \\, k_{1}^{3} \\cos\\left(h k_{1}\\right)^{2} - k_{1}^{3}\\right)} \\kappa\\right)} J_{m + 1}(\\kappa \\rho) - {\\left({\\left(8 \\, k_{1} \\cos\\left(h k_{1}\\right)^{6} - 12 \\, k_{1} \\cos\\left(h k_{1}\\right)^{4} + 6 \\, k_{1} \\cos\\left(h k_{1}\\right)^{2} - k_{1}\\right)} \\kappa^{3} - {\\left(24 \\, k_{1}^{3} \\cos\\left(h k_{1}\\right)^{6} - 36 \\, k_{1}^{3} \\cos\\left(h k_{1}\\right)^{4} + 14 \\, k_{1}^{3} \\cos\\left(h k_{1}\\right)^{2} - k_{1}^{3}\\right)} \\kappa\\right)} J_{m - 1}(\\kappa \\rho)\\right)} r_{1} - {\\left(4 \\, {\\left(4 \\, B_{z_{1}} k_{1}^{3} \\cos\\left(h k_{1}\\right)^{5} - 4 \\, B_{z_{1}} k_{1}^{3} \\cos\\left(h k_{1}\\right)^{3} + B_{z_{1}} k_{1}^{3} \\cos\\left(h k_{1}\\right)\\right)} \\kappa \\sin\\left(h k_{1}\\right) - {\\left({\\left(8 \\, B_{\\phi_{1}} \\cos\\left(h k_{1}\\right)^{6} - 12 \\, B_{\\phi_{1}} \\cos\\left(h k_{1}\\right)^{4} + 6 \\, B_{\\phi_{1}} \\cos\\left(h k_{1}\\right)^{2} - B_{\\phi_{1}}\\right)} \\kappa^{3} - {\\left(40 \\, B_{\\phi_{1}} k_{1}^{2} \\cos\\left(h k_{1}\\right)^{6} - 60 \\, B_{\\phi_{1}} k_{1}^{2} \\cos\\left(h k_{1}\\right)^{4} + 22 \\, B_{\\phi_{1}} k_{1}^{2} \\cos\\left(h k_{1}\\right)^{2} - B_{\\phi_{1}} k_{1}^{2}\\right)} \\kappa\\right)} m\\right)} J_{m + 1}(\\kappa \\rho)\\right)} \\rho^{2} - {\\left({\\left(8 \\, B_{\\phi_{1}} \\cos\\left(h k_{1}\\right)^{6} - 12 \\, B_{\\phi_{1}} \\cos\\left(h k_{1}\\right)^{4} + 6 \\, B_{\\phi_{1}} \\cos\\left(h k_{1}\\right)^{2} - B_{\\phi_{1}}\\right)} \\kappa m^{3} J_{m + 1}(\\kappa \\rho) - {\\left(8 \\, B_{\\phi_{1}} \\cos\\left(h k_{1}\\right)^{6} - 12 \\, B_{\\phi_{1}} \\cos\\left(h k_{1}\\right)^{4} + 6 \\, B_{\\phi_{1}} \\cos\\left(h k_{1}\\right)^{2} - B_{\\phi_{1}}\\right)} \\kappa m^{3} J_{m - 1}(\\kappa \\rho) - 2 \\, {\\left(40 \\, B_{\\phi_{1}} k_{1}^{2} \\cos\\left(h k_{1}\\right)^{6} - 60 \\, B_{\\phi_{1}} k_{1}^{2} \\cos\\left(h k_{1}\\right)^{4} + 22 \\, B_{\\phi_{1}} k_{1}^{2} \\cos\\left(h k_{1}\\right)^{2} - B_{\\phi_{1}} k_{1}^{2} - {\\left(8 \\, B_{\\phi_{1}} \\cos\\left(h k_{1}\\right)^{6} - 12 \\, B_{\\phi_{1}} \\cos\\left(h k_{1}\\right)^{4} + 6 \\, B_{\\phi_{1}} \\cos\\left(h k_{1}\\right)^{2} - B_{\\phi_{1}}\\right)} \\kappa^{2}\\right)} m J_{m}(\\kappa \\rho) - {\\left({\\left(8 \\, k_{1} \\cos\\left(h k_{1}\\right)^{6} - 12 \\, k_{1} \\cos\\left(h k_{1}\\right)^{4} + 6 \\, k_{1} \\cos\\left(h k_{1}\\right)^{2} - k_{1}\\right)} \\kappa m^{2} J_{m + 1}(\\kappa \\rho) - {\\left(8 \\, k_{1} \\cos\\left(h k_{1}\\right)^{6} - 12 \\, k_{1} \\cos\\left(h k_{1}\\right)^{4} + 6 \\, k_{1} \\cos\\left(h k_{1}\\right)^{2} - k_{1}\\right)} \\kappa m^{2} J_{m - 1}(\\kappa \\rho)\\right)} r_{1}\\right)} \\rho\\right)} \\sin\\left(k_{1} z\\right)^{3}}\\right]$$"
      ],
      "text/plain": [
       "<IPython.core.display.Math object>"
      ]
     },
     "metadata": {},
     "output_type": "display_data"
    },
    {
     "name": "stdout",
     "output_type": "stream",
     "text": [
      "\n",
      "var =\n"
     ]
    },
    {
     "data": {
      "text/latex": [
       "$$B_{\\phi_{1}}$$"
      ],
      "text/plain": [
       "<IPython.core.display.Math object>"
      ]
     },
     "metadata": {},
     "output_type": "display_data"
    },
    {
     "name": "stdout",
     "output_type": "stream",
     "text": [
      "\n",
      "sol=\n"
     ]
    },
    {
     "data": {
      "text/latex": [
       "$$\\left[B_{\\phi_{1}} = -\\frac{2 \\, {\\left({\\left(2 \\, {\\left({\\left(4 \\, {\\left(B_{r_{1}} - 1\\right)} k_{1}^{3} \\cos\\left(h k_{1}\\right)^{5} - 4 \\, {\\left(B_{r_{1}} - 1\\right)} k_{1}^{3} \\cos\\left(h k_{1}\\right)^{3} + {\\left(B_{r_{1}} - 1\\right)} k_{1}^{3} \\cos\\left(h k_{1}\\right)\\right)} \\kappa J_{m + 1}(\\kappa \\rho) \\sin\\left(h k_{1}\\right) - {\\left(4 \\, {\\left(B_{r_{1}} - 1\\right)} k_{1}^{3} \\cos\\left(h k_{1}\\right)^{5} - 4 \\, {\\left(B_{r_{1}} - 1\\right)} k_{1}^{3} \\cos\\left(h k_{1}\\right)^{3} + {\\left(B_{r_{1}} - 1\\right)} k_{1}^{3} \\cos\\left(h k_{1}\\right)\\right)} \\kappa J_{m - 1}(\\kappa \\rho) \\sin\\left(h k_{1}\\right)\\right)} r_{1} - {\\left(2 \\, {\\left(2 \\, B_{r_{1}} B_{z_{1}} k_{1} \\cos\\left(h k_{1}\\right)^{6} - 3 \\, B_{r_{1}} B_{z_{1}} k_{1} \\cos\\left(h k_{1}\\right)^{4} + B_{r_{1}} B_{z_{1}} k_{1} \\cos\\left(h k_{1}\\right)^{2}\\right)} \\kappa^{3} - {\\left(12 \\, {\\left(B_{r_{1}} - 1\\right)} B_{z_{1}} k_{1}^{3} \\cos\\left(h k_{1}\\right)^{6} - 18 \\, {\\left(B_{r_{1}} - 1\\right)} B_{z_{1}} k_{1}^{3} \\cos\\left(h k_{1}\\right)^{4} + 8 \\, {\\left(B_{r_{1}} - 1\\right)} B_{z_{1}} k_{1}^{3} \\cos\\left(h k_{1}\\right)^{2} - {\\left(B_{r_{1}} - 1\\right)} B_{z_{1}} k_{1}^{3}\\right)} \\kappa\\right)} J_{m + 1}(\\kappa \\rho) + {\\left(2 \\, {\\left(2 \\, B_{r_{1}} B_{z_{1}} k_{1} \\cos\\left(h k_{1}\\right)^{6} - 3 \\, B_{r_{1}} B_{z_{1}} k_{1} \\cos\\left(h k_{1}\\right)^{4} + B_{r_{1}} B_{z_{1}} k_{1} \\cos\\left(h k_{1}\\right)^{2}\\right)} \\kappa^{3} - {\\left(12 \\, {\\left(B_{r_{1}} - 1\\right)} B_{z_{1}} k_{1}^{3} \\cos\\left(h k_{1}\\right)^{6} - 18 \\, {\\left(B_{r_{1}} - 1\\right)} B_{z_{1}} k_{1}^{3} \\cos\\left(h k_{1}\\right)^{4} + 8 \\, {\\left(B_{r_{1}} - 1\\right)} B_{z_{1}} k_{1}^{3} \\cos\\left(h k_{1}\\right)^{2} - {\\left(B_{r_{1}} - 1\\right)} B_{z_{1}} k_{1}^{3}\\right)} \\kappa\\right)} J_{m - 1}(\\kappa \\rho)\\right)} \\rho^{2} + 2 \\, {\\left({\\left(2 \\, B_{r_{1}} B_{z_{1}} k_{1} \\cos\\left(h k_{1}\\right)^{6} - 3 \\, B_{r_{1}} B_{z_{1}} k_{1} \\cos\\left(h k_{1}\\right)^{4} + B_{r_{1}} B_{z_{1}} k_{1} \\cos\\left(h k_{1}\\right)^{2}\\right)} \\kappa m^{2} J_{m + 1}(\\kappa \\rho) - {\\left(2 \\, B_{r_{1}} B_{z_{1}} k_{1} \\cos\\left(h k_{1}\\right)^{6} - 3 \\, B_{r_{1}} B_{z_{1}} k_{1} \\cos\\left(h k_{1}\\right)^{4} + B_{r_{1}} B_{z_{1}} k_{1} \\cos\\left(h k_{1}\\right)^{2}\\right)} \\kappa m^{2} J_{m - 1}(\\kappa \\rho)\\right)} \\rho\\right)} \\cos\\left(k_{1} z\\right)^{3} + 4 \\, {\\left({\\left({\\left({\\left({\\left(2 \\, B_{r_{1}} k_{1} \\cos\\left(h k_{1}\\right)^{6} - 3 \\, B_{r_{1}} k_{1} \\cos\\left(h k_{1}\\right)^{4} + B_{r_{1}} k_{1} \\cos\\left(h k_{1}\\right)^{2}\\right)} \\kappa^{3} - {\\left(14 \\, {\\left(B_{r_{1}} - 1\\right)} k_{1}^{3} \\cos\\left(h k_{1}\\right)^{6} - 21 \\, {\\left(B_{r_{1}} - 1\\right)} k_{1}^{3} \\cos\\left(h k_{1}\\right)^{4} + 9 \\, {\\left(B_{r_{1}} - 1\\right)} k_{1}^{3} \\cos\\left(h k_{1}\\right)^{2} - {\\left(B_{r_{1}} - 1\\right)} k_{1}^{3}\\right)} \\kappa\\right)} J_{m + 1}(\\kappa \\rho) - {\\left({\\left(2 \\, B_{r_{1}} k_{1} \\cos\\left(h k_{1}\\right)^{6} - 3 \\, B_{r_{1}} k_{1} \\cos\\left(h k_{1}\\right)^{4} + B_{r_{1}} k_{1} \\cos\\left(h k_{1}\\right)^{2}\\right)} \\kappa^{3} - {\\left(14 \\, {\\left(B_{r_{1}} - 1\\right)} k_{1}^{3} \\cos\\left(h k_{1}\\right)^{6} - 21 \\, {\\left(B_{r_{1}} - 1\\right)} k_{1}^{3} \\cos\\left(h k_{1}\\right)^{4} + 9 \\, {\\left(B_{r_{1}} - 1\\right)} k_{1}^{3} \\cos\\left(h k_{1}\\right)^{2} - {\\left(B_{r_{1}} - 1\\right)} k_{1}^{3}\\right)} \\kappa\\right)} J_{m - 1}(\\kappa \\rho)\\right)} r_{1} - {\\left({\\left(4 \\, B_{r_{1}} B_{z_{1}} k_{1} \\cos\\left(h k_{1}\\right)^{5} - 4 \\, B_{r_{1}} B_{z_{1}} k_{1} \\cos\\left(h k_{1}\\right)^{3} + B_{r_{1}} B_{z_{1}} k_{1} \\cos\\left(h k_{1}\\right)\\right)} \\kappa^{3} \\sin\\left(h k_{1}\\right) - 4 \\, {\\left(4 \\, {\\left(B_{r_{1}} - 1\\right)} B_{z_{1}} k_{1}^{3} \\cos\\left(h k_{1}\\right)^{5} - 4 \\, {\\left(B_{r_{1}} - 1\\right)} B_{z_{1}} k_{1}^{3} \\cos\\left(h k_{1}\\right)^{3} + {\\left(B_{r_{1}} - 1\\right)} B_{z_{1}} k_{1}^{3} \\cos\\left(h k_{1}\\right)\\right)} \\kappa \\sin\\left(h k_{1}\\right)\\right)} J_{m + 1}(\\kappa \\rho) + {\\left({\\left(4 \\, B_{r_{1}} B_{z_{1}} k_{1} \\cos\\left(h k_{1}\\right)^{5} - 4 \\, B_{r_{1}} B_{z_{1}} k_{1} \\cos\\left(h k_{1}\\right)^{3} + B_{r_{1}} B_{z_{1}} k_{1} \\cos\\left(h k_{1}\\right)\\right)} \\kappa^{3} \\sin\\left(h k_{1}\\right) - 4 \\, {\\left(4 \\, {\\left(B_{r_{1}} - 1\\right)} B_{z_{1}} k_{1}^{3} \\cos\\left(h k_{1}\\right)^{5} - 4 \\, {\\left(B_{r_{1}} - 1\\right)} B_{z_{1}} k_{1}^{3} \\cos\\left(h k_{1}\\right)^{3} + {\\left(B_{r_{1}} - 1\\right)} B_{z_{1}} k_{1}^{3} \\cos\\left(h k_{1}\\right)\\right)} \\kappa \\sin\\left(h k_{1}\\right)\\right)} J_{m - 1}(\\kappa \\rho)\\right)} \\rho^{2} + {\\left({\\left(4 \\, B_{r_{1}} B_{z_{1}} k_{1} \\cos\\left(h k_{1}\\right)^{5} - 4 \\, B_{r_{1}} B_{z_{1}} k_{1} \\cos\\left(h k_{1}\\right)^{3} + B_{r_{1}} B_{z_{1}} k_{1} \\cos\\left(h k_{1}\\right)\\right)} \\kappa m^{2} J_{m + 1}(\\kappa \\rho) \\sin\\left(h k_{1}\\right) - {\\left(4 \\, B_{r_{1}} B_{z_{1}} k_{1} \\cos\\left(h k_{1}\\right)^{5} - 4 \\, B_{r_{1}} B_{z_{1}} k_{1} \\cos\\left(h k_{1}\\right)^{3} + B_{r_{1}} B_{z_{1}} k_{1} \\cos\\left(h k_{1}\\right)\\right)} \\kappa m^{2} J_{m - 1}(\\kappa \\rho) \\sin\\left(h k_{1}\\right) - {\\left({\\left(2 \\, B_{r_{1}} k_{1} \\cos\\left(h k_{1}\\right)^{6} - 3 \\, B_{r_{1}} k_{1} \\cos\\left(h k_{1}\\right)^{4} + B_{r_{1}} k_{1} \\cos\\left(h k_{1}\\right)^{2}\\right)} \\kappa m^{2} J_{m + 1}(\\kappa \\rho) - {\\left(2 \\, B_{r_{1}} k_{1} \\cos\\left(h k_{1}\\right)^{6} - 3 \\, B_{r_{1}} k_{1} \\cos\\left(h k_{1}\\right)^{4} + B_{r_{1}} k_{1} \\cos\\left(h k_{1}\\right)^{2}\\right)} \\kappa m^{2} J_{m - 1}(\\kappa \\rho)\\right)} r_{1}\\right)} \\rho\\right)} \\cos\\left(k_{1} z\\right)^{2} \\sin\\left(k_{1} z\\right) + {\\left({\\left(4 \\, {\\left({\\left({\\left(4 \\, B_{r_{1}} k_{1} \\cos\\left(h k_{1}\\right)^{5} - 4 \\, B_{r_{1}} k_{1} \\cos\\left(h k_{1}\\right)^{3} + B_{r_{1}} k_{1} \\cos\\left(h k_{1}\\right)\\right)} \\kappa^{3} \\sin\\left(h k_{1}\\right) - 4 \\, {\\left(4 \\, {\\left(B_{r_{1}} - 1\\right)} k_{1}^{3} \\cos\\left(h k_{1}\\right)^{5} - 4 \\, {\\left(B_{r_{1}} - 1\\right)} k_{1}^{3} \\cos\\left(h k_{1}\\right)^{3} + {\\left(B_{r_{1}} - 1\\right)} k_{1}^{3} \\cos\\left(h k_{1}\\right)\\right)} \\kappa \\sin\\left(h k_{1}\\right)\\right)} J_{m + 1}(\\kappa \\rho) - {\\left({\\left(4 \\, B_{r_{1}} k_{1} \\cos\\left(h k_{1}\\right)^{5} - 4 \\, B_{r_{1}} k_{1} \\cos\\left(h k_{1}\\right)^{3} + B_{r_{1}} k_{1} \\cos\\left(h k_{1}\\right)\\right)} \\kappa^{3} \\sin\\left(h k_{1}\\right) - 4 \\, {\\left(4 \\, {\\left(B_{r_{1}} - 1\\right)} k_{1}^{3} \\cos\\left(h k_{1}\\right)^{5} - 4 \\, {\\left(B_{r_{1}} - 1\\right)} k_{1}^{3} \\cos\\left(h k_{1}\\right)^{3} + {\\left(B_{r_{1}} - 1\\right)} k_{1}^{3} \\cos\\left(h k_{1}\\right)\\right)} \\kappa \\sin\\left(h k_{1}\\right)\\right)} J_{m - 1}(\\kappa \\rho)\\right)} r_{1} + {\\left({\\left(8 \\, B_{r_{1}} B_{z_{1}} k_{1} \\cos\\left(h k_{1}\\right)^{6} - 12 \\, B_{r_{1}} B_{z_{1}} k_{1} \\cos\\left(h k_{1}\\right)^{4} + 6 \\, B_{r_{1}} B_{z_{1}} k_{1} \\cos\\left(h k_{1}\\right)^{2} - B_{r_{1}} B_{z_{1}} k_{1}\\right)} \\kappa^{3} - {\\left(56 \\, {\\left(B_{r_{1}} - 1\\right)} B_{z_{1}} k_{1}^{3} \\cos\\left(h k_{1}\\right)^{6} - 84 \\, {\\left(B_{r_{1}} - 1\\right)} B_{z_{1}} k_{1}^{3} \\cos\\left(h k_{1}\\right)^{4} + 34 \\, {\\left(B_{r_{1}} - 1\\right)} B_{z_{1}} k_{1}^{3} \\cos\\left(h k_{1}\\right)^{2} - 3 \\, {\\left(B_{r_{1}} - 1\\right)} B_{z_{1}} k_{1}^{3}\\right)} \\kappa\\right)} J_{m + 1}(\\kappa \\rho) - {\\left({\\left(8 \\, B_{r_{1}} B_{z_{1}} k_{1} \\cos\\left(h k_{1}\\right)^{6} - 12 \\, B_{r_{1}} B_{z_{1}} k_{1} \\cos\\left(h k_{1}\\right)^{4} + 6 \\, B_{r_{1}} B_{z_{1}} k_{1} \\cos\\left(h k_{1}\\right)^{2} - B_{r_{1}} B_{z_{1}} k_{1}\\right)} \\kappa^{3} - {\\left(56 \\, {\\left(B_{r_{1}} - 1\\right)} B_{z_{1}} k_{1}^{3} \\cos\\left(h k_{1}\\right)^{6} - 84 \\, {\\left(B_{r_{1}} - 1\\right)} B_{z_{1}} k_{1}^{3} \\cos\\left(h k_{1}\\right)^{4} + 34 \\, {\\left(B_{r_{1}} - 1\\right)} B_{z_{1}} k_{1}^{3} \\cos\\left(h k_{1}\\right)^{2} - 3 \\, {\\left(B_{r_{1}} - 1\\right)} B_{z_{1}} k_{1}^{3}\\right)} \\kappa\\right)} J_{m - 1}(\\kappa \\rho)\\right)} \\rho^{2} - {\\left({\\left(8 \\, B_{r_{1}} B_{z_{1}} k_{1} \\cos\\left(h k_{1}\\right)^{6} - 12 \\, B_{r_{1}} B_{z_{1}} k_{1} \\cos\\left(h k_{1}\\right)^{4} + 6 \\, B_{r_{1}} B_{z_{1}} k_{1} \\cos\\left(h k_{1}\\right)^{2} - B_{r_{1}} B_{z_{1}} k_{1}\\right)} \\kappa m^{2} J_{m + 1}(\\kappa \\rho) - {\\left(8 \\, B_{r_{1}} B_{z_{1}} k_{1} \\cos\\left(h k_{1}\\right)^{6} - 12 \\, B_{r_{1}} B_{z_{1}} k_{1} \\cos\\left(h k_{1}\\right)^{4} + 6 \\, B_{r_{1}} B_{z_{1}} k_{1} \\cos\\left(h k_{1}\\right)^{2} - B_{r_{1}} B_{z_{1}} k_{1}\\right)} \\kappa m^{2} J_{m - 1}(\\kappa \\rho) + 4 \\, {\\left({\\left(4 \\, B_{r_{1}} k_{1} \\cos\\left(h k_{1}\\right)^{5} - 4 \\, B_{r_{1}} k_{1} \\cos\\left(h k_{1}\\right)^{3} + B_{r_{1}} k_{1} \\cos\\left(h k_{1}\\right)\\right)} \\kappa m^{2} J_{m + 1}(\\kappa \\rho) \\sin\\left(h k_{1}\\right) - {\\left(4 \\, B_{r_{1}} k_{1} \\cos\\left(h k_{1}\\right)^{5} - 4 \\, B_{r_{1}} k_{1} \\cos\\left(h k_{1}\\right)^{3} + B_{r_{1}} k_{1} \\cos\\left(h k_{1}\\right)\\right)} \\kappa m^{2} J_{m - 1}(\\kappa \\rho) \\sin\\left(h k_{1}\\right)\\right)} r_{1}\\right)} \\rho\\right)} \\cos\\left(k_{1} z\\right) \\sin\\left(k_{1} z\\right)^{2} + {\\left({\\left({\\left(8 \\, B_{r_{1}} k_{1} \\cos\\left(h k_{1}\\right)^{6} - 12 \\, B_{r_{1}} k_{1} \\cos\\left(h k_{1}\\right)^{4} + 6 \\, B_{r_{1}} k_{1} \\cos\\left(h k_{1}\\right)^{2} - B_{r_{1}} k_{1}\\right)} \\kappa m^{2} J_{m + 1}(\\kappa \\rho) - {\\left(8 \\, B_{r_{1}} k_{1} \\cos\\left(h k_{1}\\right)^{6} - 12 \\, B_{r_{1}} k_{1} \\cos\\left(h k_{1}\\right)^{4} + 6 \\, B_{r_{1}} k_{1} \\cos\\left(h k_{1}\\right)^{2} - B_{r_{1}} k_{1}\\right)} \\kappa m^{2} J_{m - 1}(\\kappa \\rho)\\right)} r_{1} \\rho - {\\left(4 \\, {\\left(4 \\, {\\left(B_{r_{1}} - 1\\right)} B_{z_{1}} k_{1}^{3} \\cos\\left(h k_{1}\\right)^{5} - 4 \\, {\\left(B_{r_{1}} - 1\\right)} B_{z_{1}} k_{1}^{3} \\cos\\left(h k_{1}\\right)^{3} + {\\left(B_{r_{1}} - 1\\right)} B_{z_{1}} k_{1}^{3} \\cos\\left(h k_{1}\\right)\\right)} \\kappa J_{m + 1}(\\kappa \\rho) \\sin\\left(h k_{1}\\right) - 4 \\, {\\left(4 \\, {\\left(B_{r_{1}} - 1\\right)} B_{z_{1}} k_{1}^{3} \\cos\\left(h k_{1}\\right)^{5} - 4 \\, {\\left(B_{r_{1}} - 1\\right)} B_{z_{1}} k_{1}^{3} \\cos\\left(h k_{1}\\right)^{3} + {\\left(B_{r_{1}} - 1\\right)} B_{z_{1}} k_{1}^{3} \\cos\\left(h k_{1}\\right)\\right)} \\kappa J_{m - 1}(\\kappa \\rho) \\sin\\left(h k_{1}\\right) + {\\left({\\left({\\left(8 \\, B_{r_{1}} k_{1} \\cos\\left(h k_{1}\\right)^{6} - 12 \\, B_{r_{1}} k_{1} \\cos\\left(h k_{1}\\right)^{4} + 6 \\, B_{r_{1}} k_{1} \\cos\\left(h k_{1}\\right)^{2} - B_{r_{1}} k_{1}\\right)} \\kappa^{3} - {\\left(24 \\, {\\left(B_{r_{1}} - 1\\right)} k_{1}^{3} \\cos\\left(h k_{1}\\right)^{6} - 36 \\, {\\left(B_{r_{1}} - 1\\right)} k_{1}^{3} \\cos\\left(h k_{1}\\right)^{4} + 14 \\, {\\left(B_{r_{1}} - 1\\right)} k_{1}^{3} \\cos\\left(h k_{1}\\right)^{2} - {\\left(B_{r_{1}} - 1\\right)} k_{1}^{3}\\right)} \\kappa\\right)} J_{m + 1}(\\kappa \\rho) - {\\left({\\left(8 \\, B_{r_{1}} k_{1} \\cos\\left(h k_{1}\\right)^{6} - 12 \\, B_{r_{1}} k_{1} \\cos\\left(h k_{1}\\right)^{4} + 6 \\, B_{r_{1}} k_{1} \\cos\\left(h k_{1}\\right)^{2} - B_{r_{1}} k_{1}\\right)} \\kappa^{3} - {\\left(24 \\, {\\left(B_{r_{1}} - 1\\right)} k_{1}^{3} \\cos\\left(h k_{1}\\right)^{6} - 36 \\, {\\left(B_{r_{1}} - 1\\right)} k_{1}^{3} \\cos\\left(h k_{1}\\right)^{4} + 14 \\, {\\left(B_{r_{1}} - 1\\right)} k_{1}^{3} \\cos\\left(h k_{1}\\right)^{2} - {\\left(B_{r_{1}} - 1\\right)} k_{1}^{3}\\right)} \\kappa\\right)} J_{m - 1}(\\kappa \\rho)\\right)} r_{1}\\right)} \\rho^{2}\\right)} \\sin\\left(k_{1} z\\right)^{3}}{8 \\, {\\left(2 \\, {\\left(B_{r_{1}} \\cos\\left(h k_{1}\\right)^{5} - B_{r_{1}} \\cos\\left(h k_{1}\\right)^{3}\\right)} m^{3} J_{m}(\\kappa \\rho) \\sin\\left(h k_{1}\\right) + {\\left({\\left({\\left(B_{r_{1}} \\cos\\left(h k_{1}\\right)^{5} - B_{r_{1}} \\cos\\left(h k_{1}\\right)^{3}\\right)} \\kappa^{3} \\sin\\left(h k_{1}\\right) - {\\left(5 \\, {\\left(B_{r_{1}} - 1\\right)} k_{1}^{2} \\cos\\left(h k_{1}\\right)^{5} - 5 \\, {\\left(B_{r_{1}} - 1\\right)} k_{1}^{2} \\cos\\left(h k_{1}\\right)^{3} + {\\left(B_{r_{1}} - 1\\right)} k_{1}^{2} \\cos\\left(h k_{1}\\right)\\right)} \\kappa \\sin\\left(h k_{1}\\right)\\right)} m J_{m + 1}(\\kappa \\rho) - {\\left({\\left(B_{r_{1}} \\cos\\left(h k_{1}\\right)^{5} - B_{r_{1}} \\cos\\left(h k_{1}\\right)^{3}\\right)} \\kappa^{3} \\sin\\left(h k_{1}\\right) - {\\left(5 \\, {\\left(B_{r_{1}} - 1\\right)} k_{1}^{2} \\cos\\left(h k_{1}\\right)^{5} - 5 \\, {\\left(B_{r_{1}} - 1\\right)} k_{1}^{2} \\cos\\left(h k_{1}\\right)^{3} + {\\left(B_{r_{1}} - 1\\right)} k_{1}^{2} \\cos\\left(h k_{1}\\right)\\right)} \\kappa \\sin\\left(h k_{1}\\right)\\right)} m J_{m - 1}(\\kappa \\rho)\\right)} \\rho^{2} - {\\left({\\left(B_{r_{1}} \\cos\\left(h k_{1}\\right)^{5} - B_{r_{1}} \\cos\\left(h k_{1}\\right)^{3}\\right)} \\kappa m^{3} J_{m + 1}(\\kappa \\rho) \\sin\\left(h k_{1}\\right) - {\\left(B_{r_{1}} \\cos\\left(h k_{1}\\right)^{5} - B_{r_{1}} \\cos\\left(h k_{1}\\right)^{3}\\right)} \\kappa m^{3} J_{m - 1}(\\kappa \\rho) \\sin\\left(h k_{1}\\right) + 2 \\, {\\left({\\left(B_{r_{1}} \\cos\\left(h k_{1}\\right)^{5} - B_{r_{1}} \\cos\\left(h k_{1}\\right)^{3}\\right)} \\kappa^{2} \\sin\\left(h k_{1}\\right) - {\\left(5 \\, {\\left(B_{r_{1}} - 1\\right)} k_{1}^{2} \\cos\\left(h k_{1}\\right)^{5} - 5 \\, {\\left(B_{r_{1}} - 1\\right)} k_{1}^{2} \\cos\\left(h k_{1}\\right)^{3} + {\\left(B_{r_{1}} - 1\\right)} k_{1}^{2} \\cos\\left(h k_{1}\\right)\\right)} \\sin\\left(h k_{1}\\right)\\right)} m J_{m}(\\kappa \\rho)\\right)} \\rho\\right)} \\cos\\left(k_{1} z\\right)^{3} - 4 \\, {\\left(6 \\, {\\left(2 \\, B_{r_{1}} \\cos\\left(h k_{1}\\right)^{6} - 3 \\, B_{r_{1}} \\cos\\left(h k_{1}\\right)^{4} + B_{r_{1}} \\cos\\left(h k_{1}\\right)^{2}\\right)} m^{3} J_{m}(\\kappa \\rho) + {\\left({\\left(3 \\, {\\left(2 \\, B_{r_{1}} \\cos\\left(h k_{1}\\right)^{6} - 3 \\, B_{r_{1}} \\cos\\left(h k_{1}\\right)^{4} + B_{r_{1}} \\cos\\left(h k_{1}\\right)^{2}\\right)} \\kappa^{3} - {\\left(30 \\, {\\left(B_{r_{1}} - 1\\right)} k_{1}^{2} \\cos\\left(h k_{1}\\right)^{6} - 45 \\, {\\left(B_{r_{1}} - 1\\right)} k_{1}^{2} \\cos\\left(h k_{1}\\right)^{4} + 17 \\, {\\left(B_{r_{1}} - 1\\right)} k_{1}^{2} \\cos\\left(h k_{1}\\right)^{2} - {\\left(B_{r_{1}} - 1\\right)} k_{1}^{2}\\right)} \\kappa\\right)} m J_{m + 1}(\\kappa \\rho) - {\\left(3 \\, {\\left(2 \\, B_{r_{1}} \\cos\\left(h k_{1}\\right)^{6} - 3 \\, B_{r_{1}} \\cos\\left(h k_{1}\\right)^{4} + B_{r_{1}} \\cos\\left(h k_{1}\\right)^{2}\\right)} \\kappa^{3} - {\\left(30 \\, {\\left(B_{r_{1}} - 1\\right)} k_{1}^{2} \\cos\\left(h k_{1}\\right)^{6} - 45 \\, {\\left(B_{r_{1}} - 1\\right)} k_{1}^{2} \\cos\\left(h k_{1}\\right)^{4} + 17 \\, {\\left(B_{r_{1}} - 1\\right)} k_{1}^{2} \\cos\\left(h k_{1}\\right)^{2} - {\\left(B_{r_{1}} - 1\\right)} k_{1}^{2}\\right)} \\kappa\\right)} m J_{m - 1}(\\kappa \\rho)\\right)} \\rho^{2} - {\\left(3 \\, {\\left(2 \\, B_{r_{1}} \\cos\\left(h k_{1}\\right)^{6} - 3 \\, B_{r_{1}} \\cos\\left(h k_{1}\\right)^{4} + B_{r_{1}} \\cos\\left(h k_{1}\\right)^{2}\\right)} \\kappa m^{3} J_{m + 1}(\\kappa \\rho) - 3 \\, {\\left(2 \\, B_{r_{1}} \\cos\\left(h k_{1}\\right)^{6} - 3 \\, B_{r_{1}} \\cos\\left(h k_{1}\\right)^{4} + B_{r_{1}} \\cos\\left(h k_{1}\\right)^{2}\\right)} \\kappa m^{3} J_{m - 1}(\\kappa \\rho) - 2 \\, {\\left(30 \\, {\\left(B_{r_{1}} - 1\\right)} k_{1}^{2} \\cos\\left(h k_{1}\\right)^{6} - 45 \\, {\\left(B_{r_{1}} - 1\\right)} k_{1}^{2} \\cos\\left(h k_{1}\\right)^{4} + 17 \\, {\\left(B_{r_{1}} - 1\\right)} k_{1}^{2} \\cos\\left(h k_{1}\\right)^{2} - {\\left(B_{r_{1}} - 1\\right)} k_{1}^{2} - 3 \\, {\\left(2 \\, B_{r_{1}} \\cos\\left(h k_{1}\\right)^{6} - 3 \\, B_{r_{1}} \\cos\\left(h k_{1}\\right)^{4} + B_{r_{1}} \\cos\\left(h k_{1}\\right)^{2}\\right)} \\kappa^{2}\\right)} m J_{m}(\\kappa \\rho)\\right)} \\rho\\right)} \\cos\\left(k_{1} z\\right)^{2} \\sin\\left(k_{1} z\\right) - 2 \\, {\\left(6 \\, {\\left(4 \\, B_{r_{1}} \\cos\\left(h k_{1}\\right)^{5} - 4 \\, B_{r_{1}} \\cos\\left(h k_{1}\\right)^{3} + B_{r_{1}} \\cos\\left(h k_{1}\\right)\\right)} m^{3} J_{m}(\\kappa \\rho) \\sin\\left(h k_{1}\\right) + {\\left({\\left(3 \\, {\\left(4 \\, B_{r_{1}} \\cos\\left(h k_{1}\\right)^{5} - 4 \\, B_{r_{1}} \\cos\\left(h k_{1}\\right)^{3} + B_{r_{1}} \\cos\\left(h k_{1}\\right)\\right)} \\kappa^{3} \\sin\\left(h k_{1}\\right) - {\\left(60 \\, {\\left(B_{r_{1}} - 1\\right)} k_{1}^{2} \\cos\\left(h k_{1}\\right)^{5} - 60 \\, {\\left(B_{r_{1}} - 1\\right)} k_{1}^{2} \\cos\\left(h k_{1}\\right)^{3} + 11 \\, {\\left(B_{r_{1}} - 1\\right)} k_{1}^{2} \\cos\\left(h k_{1}\\right)\\right)} \\kappa \\sin\\left(h k_{1}\\right)\\right)} m J_{m + 1}(\\kappa \\rho) - {\\left(3 \\, {\\left(4 \\, B_{r_{1}} \\cos\\left(h k_{1}\\right)^{5} - 4 \\, B_{r_{1}} \\cos\\left(h k_{1}\\right)^{3} + B_{r_{1}} \\cos\\left(h k_{1}\\right)\\right)} \\kappa^{3} \\sin\\left(h k_{1}\\right) - {\\left(60 \\, {\\left(B_{r_{1}} - 1\\right)} k_{1}^{2} \\cos\\left(h k_{1}\\right)^{5} - 60 \\, {\\left(B_{r_{1}} - 1\\right)} k_{1}^{2} \\cos\\left(h k_{1}\\right)^{3} + 11 \\, {\\left(B_{r_{1}} - 1\\right)} k_{1}^{2} \\cos\\left(h k_{1}\\right)\\right)} \\kappa \\sin\\left(h k_{1}\\right)\\right)} m J_{m - 1}(\\kappa \\rho)\\right)} \\rho^{2} - {\\left(3 \\, {\\left(4 \\, B_{r_{1}} \\cos\\left(h k_{1}\\right)^{5} - 4 \\, B_{r_{1}} \\cos\\left(h k_{1}\\right)^{3} + B_{r_{1}} \\cos\\left(h k_{1}\\right)\\right)} \\kappa m^{3} J_{m + 1}(\\kappa \\rho) \\sin\\left(h k_{1}\\right) - 3 \\, {\\left(4 \\, B_{r_{1}} \\cos\\left(h k_{1}\\right)^{5} - 4 \\, B_{r_{1}} \\cos\\left(h k_{1}\\right)^{3} + B_{r_{1}} \\cos\\left(h k_{1}\\right)\\right)} \\kappa m^{3} J_{m - 1}(\\kappa \\rho) \\sin\\left(h k_{1}\\right) + 2 \\, {\\left(3 \\, {\\left(4 \\, B_{r_{1}} \\cos\\left(h k_{1}\\right)^{5} - 4 \\, B_{r_{1}} \\cos\\left(h k_{1}\\right)^{3} + B_{r_{1}} \\cos\\left(h k_{1}\\right)\\right)} \\kappa^{2} \\sin\\left(h k_{1}\\right) - {\\left(60 \\, {\\left(B_{r_{1}} - 1\\right)} k_{1}^{2} \\cos\\left(h k_{1}\\right)^{5} - 60 \\, {\\left(B_{r_{1}} - 1\\right)} k_{1}^{2} \\cos\\left(h k_{1}\\right)^{3} + 11 \\, {\\left(B_{r_{1}} - 1\\right)} k_{1}^{2} \\cos\\left(h k_{1}\\right)\\right)} \\sin\\left(h k_{1}\\right)\\right)} m J_{m}(\\kappa \\rho)\\right)} \\rho\\right)} \\cos\\left(k_{1} z\\right) \\sin\\left(k_{1} z\\right)^{2} + {\\left(2 \\, {\\left(8 \\, B_{r_{1}} \\cos\\left(h k_{1}\\right)^{6} - 12 \\, B_{r_{1}} \\cos\\left(h k_{1}\\right)^{4} + 6 \\, B_{r_{1}} \\cos\\left(h k_{1}\\right)^{2} - B_{r_{1}}\\right)} m^{3} J_{m}(\\kappa \\rho) + {\\left({\\left({\\left(8 \\, B_{r_{1}} \\cos\\left(h k_{1}\\right)^{6} - 12 \\, B_{r_{1}} \\cos\\left(h k_{1}\\right)^{4} + 6 \\, B_{r_{1}} \\cos\\left(h k_{1}\\right)^{2} - B_{r_{1}}\\right)} \\kappa^{3} - {\\left(40 \\, {\\left(B_{r_{1}} - 1\\right)} k_{1}^{2} \\cos\\left(h k_{1}\\right)^{6} - 60 \\, {\\left(B_{r_{1}} - 1\\right)} k_{1}^{2} \\cos\\left(h k_{1}\\right)^{4} + 22 \\, {\\left(B_{r_{1}} - 1\\right)} k_{1}^{2} \\cos\\left(h k_{1}\\right)^{2} - {\\left(B_{r_{1}} - 1\\right)} k_{1}^{2}\\right)} \\kappa\\right)} m J_{m + 1}(\\kappa \\rho) - {\\left({\\left(8 \\, B_{r_{1}} \\cos\\left(h k_{1}\\right)^{6} - 12 \\, B_{r_{1}} \\cos\\left(h k_{1}\\right)^{4} + 6 \\, B_{r_{1}} \\cos\\left(h k_{1}\\right)^{2} - B_{r_{1}}\\right)} \\kappa^{3} - {\\left(40 \\, {\\left(B_{r_{1}} - 1\\right)} k_{1}^{2} \\cos\\left(h k_{1}\\right)^{6} - 60 \\, {\\left(B_{r_{1}} - 1\\right)} k_{1}^{2} \\cos\\left(h k_{1}\\right)^{4} + 22 \\, {\\left(B_{r_{1}} - 1\\right)} k_{1}^{2} \\cos\\left(h k_{1}\\right)^{2} - {\\left(B_{r_{1}} - 1\\right)} k_{1}^{2}\\right)} \\kappa\\right)} m J_{m - 1}(\\kappa \\rho)\\right)} \\rho^{2} - {\\left({\\left(8 \\, B_{r_{1}} \\cos\\left(h k_{1}\\right)^{6} - 12 \\, B_{r_{1}} \\cos\\left(h k_{1}\\right)^{4} + 6 \\, B_{r_{1}} \\cos\\left(h k_{1}\\right)^{2} - B_{r_{1}}\\right)} \\kappa m^{3} J_{m + 1}(\\kappa \\rho) - {\\left(8 \\, B_{r_{1}} \\cos\\left(h k_{1}\\right)^{6} - 12 \\, B_{r_{1}} \\cos\\left(h k_{1}\\right)^{4} + 6 \\, B_{r_{1}} \\cos\\left(h k_{1}\\right)^{2} - B_{r_{1}}\\right)} \\kappa m^{3} J_{m - 1}(\\kappa \\rho) - 2 \\, {\\left(40 \\, {\\left(B_{r_{1}} - 1\\right)} k_{1}^{2} \\cos\\left(h k_{1}\\right)^{6} - 60 \\, {\\left(B_{r_{1}} - 1\\right)} k_{1}^{2} \\cos\\left(h k_{1}\\right)^{4} + 22 \\, {\\left(B_{r_{1}} - 1\\right)} k_{1}^{2} \\cos\\left(h k_{1}\\right)^{2} - {\\left(B_{r_{1}} - 1\\right)} k_{1}^{2} - {\\left(8 \\, B_{r_{1}} \\cos\\left(h k_{1}\\right)^{6} - 12 \\, B_{r_{1}} \\cos\\left(h k_{1}\\right)^{4} + 6 \\, B_{r_{1}} \\cos\\left(h k_{1}\\right)^{2} - B_{r_{1}}\\right)} \\kappa^{2}\\right)} m J_{m}(\\kappa \\rho)\\right)} \\rho\\right)} \\sin\\left(k_{1} z\\right)^{3}}\\right]$$"
      ],
      "text/plain": [
       "<IPython.core.display.Math object>"
      ]
     },
     "metadata": {},
     "output_type": "display_data"
    },
    {
     "name": "stdout",
     "output_type": "stream",
     "text": [
      "\n",
      "var =\n"
     ]
    },
    {
     "data": {
      "text/latex": [
       "$$B_{z_{1}}$$"
      ],
      "text/plain": [
       "<IPython.core.display.Math object>"
      ]
     },
     "metadata": {},
     "output_type": "display_data"
    },
    {
     "name": "stdout",
     "output_type": "stream",
     "text": [
      "\n",
      "sol=\n"
     ]
    },
    {
     "data": {
      "text/latex": [
       "$$\\left[B_{z_{1}} = \\frac{4 \\, {\\left(4 \\, {\\left(B_{\\phi_{1}} B_{r_{1}} \\cos\\left(h k_{1}\\right)^{5} - B_{\\phi_{1}} B_{r_{1}} \\cos\\left(h k_{1}\\right)^{3}\\right)} m^{3} J_{m}(\\kappa \\rho) \\sin\\left(h k_{1}\\right) + {\\left(2 \\, {\\left({\\left(B_{\\phi_{1}} B_{r_{1}} \\cos\\left(h k_{1}\\right)^{5} - B_{\\phi_{1}} B_{r_{1}} \\cos\\left(h k_{1}\\right)^{3}\\right)} \\kappa^{3} \\sin\\left(h k_{1}\\right) - {\\left(5 \\, {\\left(B_{\\phi_{1}} B_{r_{1}} - B_{\\phi_{1}}\\right)} k_{1}^{2} \\cos\\left(h k_{1}\\right)^{5} - 5 \\, {\\left(B_{\\phi_{1}} B_{r_{1}} - B_{\\phi_{1}}\\right)} k_{1}^{2} \\cos\\left(h k_{1}\\right)^{3} + {\\left(B_{\\phi_{1}} B_{r_{1}} - B_{\\phi_{1}}\\right)} k_{1}^{2} \\cos\\left(h k_{1}\\right)\\right)} \\kappa \\sin\\left(h k_{1}\\right)\\right)} m J_{m + 1}(\\kappa \\rho) - 2 \\, {\\left({\\left(B_{\\phi_{1}} B_{r_{1}} \\cos\\left(h k_{1}\\right)^{5} - B_{\\phi_{1}} B_{r_{1}} \\cos\\left(h k_{1}\\right)^{3}\\right)} \\kappa^{3} \\sin\\left(h k_{1}\\right) - {\\left(5 \\, {\\left(B_{\\phi_{1}} B_{r_{1}} - B_{\\phi_{1}}\\right)} k_{1}^{2} \\cos\\left(h k_{1}\\right)^{5} - 5 \\, {\\left(B_{\\phi_{1}} B_{r_{1}} - B_{\\phi_{1}}\\right)} k_{1}^{2} \\cos\\left(h k_{1}\\right)^{3} + {\\left(B_{\\phi_{1}} B_{r_{1}} - B_{\\phi_{1}}\\right)} k_{1}^{2} \\cos\\left(h k_{1}\\right)\\right)} \\kappa \\sin\\left(h k_{1}\\right)\\right)} m J_{m - 1}(\\kappa \\rho) + {\\left({\\left(4 \\, {\\left(B_{r_{1}} - 1\\right)} k_{1}^{3} \\cos\\left(h k_{1}\\right)^{5} - 4 \\, {\\left(B_{r_{1}} - 1\\right)} k_{1}^{3} \\cos\\left(h k_{1}\\right)^{3} + {\\left(B_{r_{1}} - 1\\right)} k_{1}^{3} \\cos\\left(h k_{1}\\right)\\right)} \\kappa J_{m + 1}(\\kappa \\rho) \\sin\\left(h k_{1}\\right) - {\\left(4 \\, {\\left(B_{r_{1}} - 1\\right)} k_{1}^{3} \\cos\\left(h k_{1}\\right)^{5} - 4 \\, {\\left(B_{r_{1}} - 1\\right)} k_{1}^{3} \\cos\\left(h k_{1}\\right)^{3} + {\\left(B_{r_{1}} - 1\\right)} k_{1}^{3} \\cos\\left(h k_{1}\\right)\\right)} \\kappa J_{m - 1}(\\kappa \\rho) \\sin\\left(h k_{1}\\right)\\right)} r_{1}\\right)} \\rho^{2} - 2 \\, {\\left({\\left(B_{\\phi_{1}} B_{r_{1}} \\cos\\left(h k_{1}\\right)^{5} - B_{\\phi_{1}} B_{r_{1}} \\cos\\left(h k_{1}\\right)^{3}\\right)} \\kappa m^{3} J_{m + 1}(\\kappa \\rho) \\sin\\left(h k_{1}\\right) - {\\left(B_{\\phi_{1}} B_{r_{1}} \\cos\\left(h k_{1}\\right)^{5} - B_{\\phi_{1}} B_{r_{1}} \\cos\\left(h k_{1}\\right)^{3}\\right)} \\kappa m^{3} J_{m - 1}(\\kappa \\rho) \\sin\\left(h k_{1}\\right) + 2 \\, {\\left({\\left(B_{\\phi_{1}} B_{r_{1}} \\cos\\left(h k_{1}\\right)^{5} - B_{\\phi_{1}} B_{r_{1}} \\cos\\left(h k_{1}\\right)^{3}\\right)} \\kappa^{2} \\sin\\left(h k_{1}\\right) - {\\left(5 \\, {\\left(B_{\\phi_{1}} B_{r_{1}} - B_{\\phi_{1}}\\right)} k_{1}^{2} \\cos\\left(h k_{1}\\right)^{5} - 5 \\, {\\left(B_{\\phi_{1}} B_{r_{1}} - B_{\\phi_{1}}\\right)} k_{1}^{2} \\cos\\left(h k_{1}\\right)^{3} + {\\left(B_{\\phi_{1}} B_{r_{1}} - B_{\\phi_{1}}\\right)} k_{1}^{2} \\cos\\left(h k_{1}\\right)\\right)} \\sin\\left(h k_{1}\\right)\\right)} m J_{m}(\\kappa \\rho)\\right)} \\rho\\right)} \\cos\\left(k_{1} z\\right)^{3} - 4 \\, {\\left(6 \\, {\\left(2 \\, B_{\\phi_{1}} B_{r_{1}} \\cos\\left(h k_{1}\\right)^{6} - 3 \\, B_{\\phi_{1}} B_{r_{1}} \\cos\\left(h k_{1}\\right)^{4} + B_{\\phi_{1}} B_{r_{1}} \\cos\\left(h k_{1}\\right)^{2}\\right)} m^{3} J_{m}(\\kappa \\rho) + {\\left({\\left(3 \\, {\\left(2 \\, B_{\\phi_{1}} B_{r_{1}} \\cos\\left(h k_{1}\\right)^{6} - 3 \\, B_{\\phi_{1}} B_{r_{1}} \\cos\\left(h k_{1}\\right)^{4} + B_{\\phi_{1}} B_{r_{1}} \\cos\\left(h k_{1}\\right)^{2}\\right)} \\kappa^{3} - {\\left(30 \\, {\\left(B_{\\phi_{1}} B_{r_{1}} - B_{\\phi_{1}}\\right)} k_{1}^{2} \\cos\\left(h k_{1}\\right)^{6} - 45 \\, {\\left(B_{\\phi_{1}} B_{r_{1}} - B_{\\phi_{1}}\\right)} k_{1}^{2} \\cos\\left(h k_{1}\\right)^{4} + 17 \\, {\\left(B_{\\phi_{1}} B_{r_{1}} - B_{\\phi_{1}}\\right)} k_{1}^{2} \\cos\\left(h k_{1}\\right)^{2} - {\\left(B_{\\phi_{1}} B_{r_{1}} - B_{\\phi_{1}}\\right)} k_{1}^{2}\\right)} \\kappa\\right)} m J_{m + 1}(\\kappa \\rho) - {\\left(3 \\, {\\left(2 \\, B_{\\phi_{1}} B_{r_{1}} \\cos\\left(h k_{1}\\right)^{6} - 3 \\, B_{\\phi_{1}} B_{r_{1}} \\cos\\left(h k_{1}\\right)^{4} + B_{\\phi_{1}} B_{r_{1}} \\cos\\left(h k_{1}\\right)^{2}\\right)} \\kappa^{3} - {\\left(30 \\, {\\left(B_{\\phi_{1}} B_{r_{1}} - B_{\\phi_{1}}\\right)} k_{1}^{2} \\cos\\left(h k_{1}\\right)^{6} - 45 \\, {\\left(B_{\\phi_{1}} B_{r_{1}} - B_{\\phi_{1}}\\right)} k_{1}^{2} \\cos\\left(h k_{1}\\right)^{4} + 17 \\, {\\left(B_{\\phi_{1}} B_{r_{1}} - B_{\\phi_{1}}\\right)} k_{1}^{2} \\cos\\left(h k_{1}\\right)^{2} - {\\left(B_{\\phi_{1}} B_{r_{1}} - B_{\\phi_{1}}\\right)} k_{1}^{2}\\right)} \\kappa\\right)} m J_{m - 1}(\\kappa \\rho) - {\\left({\\left({\\left(2 \\, B_{r_{1}} k_{1} \\cos\\left(h k_{1}\\right)^{6} - 3 \\, B_{r_{1}} k_{1} \\cos\\left(h k_{1}\\right)^{4} + B_{r_{1}} k_{1} \\cos\\left(h k_{1}\\right)^{2}\\right)} \\kappa^{3} - {\\left(14 \\, {\\left(B_{r_{1}} - 1\\right)} k_{1}^{3} \\cos\\left(h k_{1}\\right)^{6} - 21 \\, {\\left(B_{r_{1}} - 1\\right)} k_{1}^{3} \\cos\\left(h k_{1}\\right)^{4} + 9 \\, {\\left(B_{r_{1}} - 1\\right)} k_{1}^{3} \\cos\\left(h k_{1}\\right)^{2} - {\\left(B_{r_{1}} - 1\\right)} k_{1}^{3}\\right)} \\kappa\\right)} J_{m + 1}(\\kappa \\rho) - {\\left({\\left(2 \\, B_{r_{1}} k_{1} \\cos\\left(h k_{1}\\right)^{6} - 3 \\, B_{r_{1}} k_{1} \\cos\\left(h k_{1}\\right)^{4} + B_{r_{1}} k_{1} \\cos\\left(h k_{1}\\right)^{2}\\right)} \\kappa^{3} - {\\left(14 \\, {\\left(B_{r_{1}} - 1\\right)} k_{1}^{3} \\cos\\left(h k_{1}\\right)^{6} - 21 \\, {\\left(B_{r_{1}} - 1\\right)} k_{1}^{3} \\cos\\left(h k_{1}\\right)^{4} + 9 \\, {\\left(B_{r_{1}} - 1\\right)} k_{1}^{3} \\cos\\left(h k_{1}\\right)^{2} - {\\left(B_{r_{1}} - 1\\right)} k_{1}^{3}\\right)} \\kappa\\right)} J_{m - 1}(\\kappa \\rho)\\right)} r_{1}\\right)} \\rho^{2} - {\\left(3 \\, {\\left(2 \\, B_{\\phi_{1}} B_{r_{1}} \\cos\\left(h k_{1}\\right)^{6} - 3 \\, B_{\\phi_{1}} B_{r_{1}} \\cos\\left(h k_{1}\\right)^{4} + B_{\\phi_{1}} B_{r_{1}} \\cos\\left(h k_{1}\\right)^{2}\\right)} \\kappa m^{3} J_{m + 1}(\\kappa \\rho) - 3 \\, {\\left(2 \\, B_{\\phi_{1}} B_{r_{1}} \\cos\\left(h k_{1}\\right)^{6} - 3 \\, B_{\\phi_{1}} B_{r_{1}} \\cos\\left(h k_{1}\\right)^{4} + B_{\\phi_{1}} B_{r_{1}} \\cos\\left(h k_{1}\\right)^{2}\\right)} \\kappa m^{3} J_{m - 1}(\\kappa \\rho) - 2 \\, {\\left(30 \\, {\\left(B_{\\phi_{1}} B_{r_{1}} - B_{\\phi_{1}}\\right)} k_{1}^{2} \\cos\\left(h k_{1}\\right)^{6} - 45 \\, {\\left(B_{\\phi_{1}} B_{r_{1}} - B_{\\phi_{1}}\\right)} k_{1}^{2} \\cos\\left(h k_{1}\\right)^{4} + 17 \\, {\\left(B_{\\phi_{1}} B_{r_{1}} - B_{\\phi_{1}}\\right)} k_{1}^{2} \\cos\\left(h k_{1}\\right)^{2} - {\\left(B_{\\phi_{1}} B_{r_{1}} - B_{\\phi_{1}}\\right)} k_{1}^{2} - 3 \\, {\\left(2 \\, B_{\\phi_{1}} B_{r_{1}} \\cos\\left(h k_{1}\\right)^{6} - 3 \\, B_{\\phi_{1}} B_{r_{1}} \\cos\\left(h k_{1}\\right)^{4} + B_{\\phi_{1}} B_{r_{1}} \\cos\\left(h k_{1}\\right)^{2}\\right)} \\kappa^{2}\\right)} m J_{m}(\\kappa \\rho) - {\\left({\\left(2 \\, B_{r_{1}} k_{1} \\cos\\left(h k_{1}\\right)^{6} - 3 \\, B_{r_{1}} k_{1} \\cos\\left(h k_{1}\\right)^{4} + B_{r_{1}} k_{1} \\cos\\left(h k_{1}\\right)^{2}\\right)} \\kappa m^{2} J_{m + 1}(\\kappa \\rho) - {\\left(2 \\, B_{r_{1}} k_{1} \\cos\\left(h k_{1}\\right)^{6} - 3 \\, B_{r_{1}} k_{1} \\cos\\left(h k_{1}\\right)^{4} + B_{r_{1}} k_{1} \\cos\\left(h k_{1}\\right)^{2}\\right)} \\kappa m^{2} J_{m - 1}(\\kappa \\rho)\\right)} r_{1}\\right)} \\rho\\right)} \\cos\\left(k_{1} z\\right)^{2} \\sin\\left(k_{1} z\\right) - 2 \\, {\\left(6 \\, {\\left(4 \\, B_{\\phi_{1}} B_{r_{1}} \\cos\\left(h k_{1}\\right)^{5} - 4 \\, B_{\\phi_{1}} B_{r_{1}} \\cos\\left(h k_{1}\\right)^{3} + B_{\\phi_{1}} B_{r_{1}} \\cos\\left(h k_{1}\\right)\\right)} m^{3} J_{m}(\\kappa \\rho) \\sin\\left(h k_{1}\\right) + {\\left({\\left(3 \\, {\\left(4 \\, B_{\\phi_{1}} B_{r_{1}} \\cos\\left(h k_{1}\\right)^{5} - 4 \\, B_{\\phi_{1}} B_{r_{1}} \\cos\\left(h k_{1}\\right)^{3} + B_{\\phi_{1}} B_{r_{1}} \\cos\\left(h k_{1}\\right)\\right)} \\kappa^{3} \\sin\\left(h k_{1}\\right) - {\\left(60 \\, {\\left(B_{\\phi_{1}} B_{r_{1}} - B_{\\phi_{1}}\\right)} k_{1}^{2} \\cos\\left(h k_{1}\\right)^{5} - 60 \\, {\\left(B_{\\phi_{1}} B_{r_{1}} - B_{\\phi_{1}}\\right)} k_{1}^{2} \\cos\\left(h k_{1}\\right)^{3} + 11 \\, {\\left(B_{\\phi_{1}} B_{r_{1}} - B_{\\phi_{1}}\\right)} k_{1}^{2} \\cos\\left(h k_{1}\\right)\\right)} \\kappa \\sin\\left(h k_{1}\\right)\\right)} m J_{m + 1}(\\kappa \\rho) - {\\left(3 \\, {\\left(4 \\, B_{\\phi_{1}} B_{r_{1}} \\cos\\left(h k_{1}\\right)^{5} - 4 \\, B_{\\phi_{1}} B_{r_{1}} \\cos\\left(h k_{1}\\right)^{3} + B_{\\phi_{1}} B_{r_{1}} \\cos\\left(h k_{1}\\right)\\right)} \\kappa^{3} \\sin\\left(h k_{1}\\right) - {\\left(60 \\, {\\left(B_{\\phi_{1}} B_{r_{1}} - B_{\\phi_{1}}\\right)} k_{1}^{2} \\cos\\left(h k_{1}\\right)^{5} - 60 \\, {\\left(B_{\\phi_{1}} B_{r_{1}} - B_{\\phi_{1}}\\right)} k_{1}^{2} \\cos\\left(h k_{1}\\right)^{3} + 11 \\, {\\left(B_{\\phi_{1}} B_{r_{1}} - B_{\\phi_{1}}\\right)} k_{1}^{2} \\cos\\left(h k_{1}\\right)\\right)} \\kappa \\sin\\left(h k_{1}\\right)\\right)} m J_{m - 1}(\\kappa \\rho) - 2 \\, {\\left({\\left({\\left(4 \\, B_{r_{1}} k_{1} \\cos\\left(h k_{1}\\right)^{5} - 4 \\, B_{r_{1}} k_{1} \\cos\\left(h k_{1}\\right)^{3} + B_{r_{1}} k_{1} \\cos\\left(h k_{1}\\right)\\right)} \\kappa^{3} \\sin\\left(h k_{1}\\right) - 4 \\, {\\left(4 \\, {\\left(B_{r_{1}} - 1\\right)} k_{1}^{3} \\cos\\left(h k_{1}\\right)^{5} - 4 \\, {\\left(B_{r_{1}} - 1\\right)} k_{1}^{3} \\cos\\left(h k_{1}\\right)^{3} + {\\left(B_{r_{1}} - 1\\right)} k_{1}^{3} \\cos\\left(h k_{1}\\right)\\right)} \\kappa \\sin\\left(h k_{1}\\right)\\right)} J_{m + 1}(\\kappa \\rho) - {\\left({\\left(4 \\, B_{r_{1}} k_{1} \\cos\\left(h k_{1}\\right)^{5} - 4 \\, B_{r_{1}} k_{1} \\cos\\left(h k_{1}\\right)^{3} + B_{r_{1}} k_{1} \\cos\\left(h k_{1}\\right)\\right)} \\kappa^{3} \\sin\\left(h k_{1}\\right) - 4 \\, {\\left(4 \\, {\\left(B_{r_{1}} - 1\\right)} k_{1}^{3} \\cos\\left(h k_{1}\\right)^{5} - 4 \\, {\\left(B_{r_{1}} - 1\\right)} k_{1}^{3} \\cos\\left(h k_{1}\\right)^{3} + {\\left(B_{r_{1}} - 1\\right)} k_{1}^{3} \\cos\\left(h k_{1}\\right)\\right)} \\kappa \\sin\\left(h k_{1}\\right)\\right)} J_{m - 1}(\\kappa \\rho)\\right)} r_{1}\\right)} \\rho^{2} - {\\left(3 \\, {\\left(4 \\, B_{\\phi_{1}} B_{r_{1}} \\cos\\left(h k_{1}\\right)^{5} - 4 \\, B_{\\phi_{1}} B_{r_{1}} \\cos\\left(h k_{1}\\right)^{3} + B_{\\phi_{1}} B_{r_{1}} \\cos\\left(h k_{1}\\right)\\right)} \\kappa m^{3} J_{m + 1}(\\kappa \\rho) \\sin\\left(h k_{1}\\right) - 3 \\, {\\left(4 \\, B_{\\phi_{1}} B_{r_{1}} \\cos\\left(h k_{1}\\right)^{5} - 4 \\, B_{\\phi_{1}} B_{r_{1}} \\cos\\left(h k_{1}\\right)^{3} + B_{\\phi_{1}} B_{r_{1}} \\cos\\left(h k_{1}\\right)\\right)} \\kappa m^{3} J_{m - 1}(\\kappa \\rho) \\sin\\left(h k_{1}\\right) + 2 \\, {\\left(3 \\, {\\left(4 \\, B_{\\phi_{1}} B_{r_{1}} \\cos\\left(h k_{1}\\right)^{5} - 4 \\, B_{\\phi_{1}} B_{r_{1}} \\cos\\left(h k_{1}\\right)^{3} + B_{\\phi_{1}} B_{r_{1}} \\cos\\left(h k_{1}\\right)\\right)} \\kappa^{2} \\sin\\left(h k_{1}\\right) - {\\left(60 \\, {\\left(B_{\\phi_{1}} B_{r_{1}} - B_{\\phi_{1}}\\right)} k_{1}^{2} \\cos\\left(h k_{1}\\right)^{5} - 60 \\, {\\left(B_{\\phi_{1}} B_{r_{1}} - B_{\\phi_{1}}\\right)} k_{1}^{2} \\cos\\left(h k_{1}\\right)^{3} + 11 \\, {\\left(B_{\\phi_{1}} B_{r_{1}} - B_{\\phi_{1}}\\right)} k_{1}^{2} \\cos\\left(h k_{1}\\right)\\right)} \\sin\\left(h k_{1}\\right)\\right)} m J_{m}(\\kappa \\rho) - 2 \\, {\\left({\\left(4 \\, B_{r_{1}} k_{1} \\cos\\left(h k_{1}\\right)^{5} - 4 \\, B_{r_{1}} k_{1} \\cos\\left(h k_{1}\\right)^{3} + B_{r_{1}} k_{1} \\cos\\left(h k_{1}\\right)\\right)} \\kappa m^{2} J_{m + 1}(\\kappa \\rho) \\sin\\left(h k_{1}\\right) - {\\left(4 \\, B_{r_{1}} k_{1} \\cos\\left(h k_{1}\\right)^{5} - 4 \\, B_{r_{1}} k_{1} \\cos\\left(h k_{1}\\right)^{3} + B_{r_{1}} k_{1} \\cos\\left(h k_{1}\\right)\\right)} \\kappa m^{2} J_{m - 1}(\\kappa \\rho) \\sin\\left(h k_{1}\\right)\\right)} r_{1}\\right)} \\rho\\right)} \\cos\\left(k_{1} z\\right) \\sin\\left(k_{1} z\\right)^{2} + {\\left(2 \\, {\\left(8 \\, B_{\\phi_{1}} B_{r_{1}} \\cos\\left(h k_{1}\\right)^{6} - 12 \\, B_{\\phi_{1}} B_{r_{1}} \\cos\\left(h k_{1}\\right)^{4} + 6 \\, B_{\\phi_{1}} B_{r_{1}} \\cos\\left(h k_{1}\\right)^{2} - B_{\\phi_{1}} B_{r_{1}}\\right)} m^{3} J_{m}(\\kappa \\rho) + {\\left({\\left({\\left(8 \\, B_{\\phi_{1}} B_{r_{1}} \\cos\\left(h k_{1}\\right)^{6} - 12 \\, B_{\\phi_{1}} B_{r_{1}} \\cos\\left(h k_{1}\\right)^{4} + 6 \\, B_{\\phi_{1}} B_{r_{1}} \\cos\\left(h k_{1}\\right)^{2} - B_{\\phi_{1}} B_{r_{1}}\\right)} \\kappa^{3} - {\\left(40 \\, {\\left(B_{\\phi_{1}} B_{r_{1}} - B_{\\phi_{1}}\\right)} k_{1}^{2} \\cos\\left(h k_{1}\\right)^{6} - 60 \\, {\\left(B_{\\phi_{1}} B_{r_{1}} - B_{\\phi_{1}}\\right)} k_{1}^{2} \\cos\\left(h k_{1}\\right)^{4} + 22 \\, {\\left(B_{\\phi_{1}} B_{r_{1}} - B_{\\phi_{1}}\\right)} k_{1}^{2} \\cos\\left(h k_{1}\\right)^{2} - {\\left(B_{\\phi_{1}} B_{r_{1}} - B_{\\phi_{1}}\\right)} k_{1}^{2}\\right)} \\kappa\\right)} m J_{m + 1}(\\kappa \\rho) - {\\left({\\left(8 \\, B_{\\phi_{1}} B_{r_{1}} \\cos\\left(h k_{1}\\right)^{6} - 12 \\, B_{\\phi_{1}} B_{r_{1}} \\cos\\left(h k_{1}\\right)^{4} + 6 \\, B_{\\phi_{1}} B_{r_{1}} \\cos\\left(h k_{1}\\right)^{2} - B_{\\phi_{1}} B_{r_{1}}\\right)} \\kappa^{3} - {\\left(40 \\, {\\left(B_{\\phi_{1}} B_{r_{1}} - B_{\\phi_{1}}\\right)} k_{1}^{2} \\cos\\left(h k_{1}\\right)^{6} - 60 \\, {\\left(B_{\\phi_{1}} B_{r_{1}} - B_{\\phi_{1}}\\right)} k_{1}^{2} \\cos\\left(h k_{1}\\right)^{4} + 22 \\, {\\left(B_{\\phi_{1}} B_{r_{1}} - B_{\\phi_{1}}\\right)} k_{1}^{2} \\cos\\left(h k_{1}\\right)^{2} - {\\left(B_{\\phi_{1}} B_{r_{1}} - B_{\\phi_{1}}\\right)} k_{1}^{2}\\right)} \\kappa\\right)} m J_{m - 1}(\\kappa \\rho) - {\\left({\\left({\\left(8 \\, B_{r_{1}} k_{1} \\cos\\left(h k_{1}\\right)^{6} - 12 \\, B_{r_{1}} k_{1} \\cos\\left(h k_{1}\\right)^{4} + 6 \\, B_{r_{1}} k_{1} \\cos\\left(h k_{1}\\right)^{2} - B_{r_{1}} k_{1}\\right)} \\kappa^{3} - {\\left(24 \\, {\\left(B_{r_{1}} - 1\\right)} k_{1}^{3} \\cos\\left(h k_{1}\\right)^{6} - 36 \\, {\\left(B_{r_{1}} - 1\\right)} k_{1}^{3} \\cos\\left(h k_{1}\\right)^{4} + 14 \\, {\\left(B_{r_{1}} - 1\\right)} k_{1}^{3} \\cos\\left(h k_{1}\\right)^{2} - {\\left(B_{r_{1}} - 1\\right)} k_{1}^{3}\\right)} \\kappa\\right)} J_{m + 1}(\\kappa \\rho) - {\\left({\\left(8 \\, B_{r_{1}} k_{1} \\cos\\left(h k_{1}\\right)^{6} - 12 \\, B_{r_{1}} k_{1} \\cos\\left(h k_{1}\\right)^{4} + 6 \\, B_{r_{1}} k_{1} \\cos\\left(h k_{1}\\right)^{2} - B_{r_{1}} k_{1}\\right)} \\kappa^{3} - {\\left(24 \\, {\\left(B_{r_{1}} - 1\\right)} k_{1}^{3} \\cos\\left(h k_{1}\\right)^{6} - 36 \\, {\\left(B_{r_{1}} - 1\\right)} k_{1}^{3} \\cos\\left(h k_{1}\\right)^{4} + 14 \\, {\\left(B_{r_{1}} - 1\\right)} k_{1}^{3} \\cos\\left(h k_{1}\\right)^{2} - {\\left(B_{r_{1}} - 1\\right)} k_{1}^{3}\\right)} \\kappa\\right)} J_{m - 1}(\\kappa \\rho)\\right)} r_{1}\\right)} \\rho^{2} - {\\left({\\left(8 \\, B_{\\phi_{1}} B_{r_{1}} \\cos\\left(h k_{1}\\right)^{6} - 12 \\, B_{\\phi_{1}} B_{r_{1}} \\cos\\left(h k_{1}\\right)^{4} + 6 \\, B_{\\phi_{1}} B_{r_{1}} \\cos\\left(h k_{1}\\right)^{2} - B_{\\phi_{1}} B_{r_{1}}\\right)} \\kappa m^{3} J_{m + 1}(\\kappa \\rho) - {\\left(8 \\, B_{\\phi_{1}} B_{r_{1}} \\cos\\left(h k_{1}\\right)^{6} - 12 \\, B_{\\phi_{1}} B_{r_{1}} \\cos\\left(h k_{1}\\right)^{4} + 6 \\, B_{\\phi_{1}} B_{r_{1}} \\cos\\left(h k_{1}\\right)^{2} - B_{\\phi_{1}} B_{r_{1}}\\right)} \\kappa m^{3} J_{m - 1}(\\kappa \\rho) - 2 \\, {\\left(40 \\, {\\left(B_{\\phi_{1}} B_{r_{1}} - B_{\\phi_{1}}\\right)} k_{1}^{2} \\cos\\left(h k_{1}\\right)^{6} - 60 \\, {\\left(B_{\\phi_{1}} B_{r_{1}} - B_{\\phi_{1}}\\right)} k_{1}^{2} \\cos\\left(h k_{1}\\right)^{4} + 22 \\, {\\left(B_{\\phi_{1}} B_{r_{1}} - B_{\\phi_{1}}\\right)} k_{1}^{2} \\cos\\left(h k_{1}\\right)^{2} - {\\left(B_{\\phi_{1}} B_{r_{1}} - B_{\\phi_{1}}\\right)} k_{1}^{2} - {\\left(8 \\, B_{\\phi_{1}} B_{r_{1}} \\cos\\left(h k_{1}\\right)^{6} - 12 \\, B_{\\phi_{1}} B_{r_{1}} \\cos\\left(h k_{1}\\right)^{4} + 6 \\, B_{\\phi_{1}} B_{r_{1}} \\cos\\left(h k_{1}\\right)^{2} - B_{\\phi_{1}} B_{r_{1}}\\right)} \\kappa^{2}\\right)} m J_{m}(\\kappa \\rho) - {\\left({\\left(8 \\, B_{r_{1}} k_{1} \\cos\\left(h k_{1}\\right)^{6} - 12 \\, B_{r_{1}} k_{1} \\cos\\left(h k_{1}\\right)^{4} + 6 \\, B_{r_{1}} k_{1} \\cos\\left(h k_{1}\\right)^{2} - B_{r_{1}} k_{1}\\right)} \\kappa m^{2} J_{m + 1}(\\kappa \\rho) - {\\left(8 \\, B_{r_{1}} k_{1} \\cos\\left(h k_{1}\\right)^{6} - 12 \\, B_{r_{1}} k_{1} \\cos\\left(h k_{1}\\right)^{4} + 6 \\, B_{r_{1}} k_{1} \\cos\\left(h k_{1}\\right)^{2} - B_{r_{1}} k_{1}\\right)} \\kappa m^{2} J_{m - 1}(\\kappa \\rho)\\right)} r_{1}\\right)} \\rho\\right)} \\sin\\left(k_{1} z\\right)^{3}}{4 \\, {\\left({\\left(4 \\, {\\left(B_{r_{1}} - 1\\right)} k_{1}^{3} \\cos\\left(h k_{1}\\right)^{5} - 4 \\, {\\left(B_{r_{1}} - 1\\right)} k_{1}^{3} \\cos\\left(h k_{1}\\right)^{3} + {\\left(B_{r_{1}} - 1\\right)} k_{1}^{3} \\cos\\left(h k_{1}\\right)\\right)} \\kappa J_{m + 1}(\\kappa \\rho) \\sin\\left(h k_{1}\\right) - {\\left(4 \\, {\\left(B_{r_{1}} - 1\\right)} k_{1}^{3} \\cos\\left(h k_{1}\\right)^{5} - 4 \\, {\\left(B_{r_{1}} - 1\\right)} k_{1}^{3} \\cos\\left(h k_{1}\\right)^{3} + {\\left(B_{r_{1}} - 1\\right)} k_{1}^{3} \\cos\\left(h k_{1}\\right)\\right)} \\kappa J_{m - 1}(\\kappa \\rho) \\sin\\left(h k_{1}\\right)\\right)} \\rho^{2} \\sin\\left(k_{1} z\\right)^{3} + 2 \\, {\\left({\\left({\\left(2 \\, {\\left(2 \\, B_{r_{1}} k_{1} \\cos\\left(h k_{1}\\right)^{6} - 3 \\, B_{r_{1}} k_{1} \\cos\\left(h k_{1}\\right)^{4} + B_{r_{1}} k_{1} \\cos\\left(h k_{1}\\right)^{2}\\right)} \\kappa^{3} - {\\left(12 \\, {\\left(B_{r_{1}} - 1\\right)} k_{1}^{3} \\cos\\left(h k_{1}\\right)^{6} - 18 \\, {\\left(B_{r_{1}} - 1\\right)} k_{1}^{3} \\cos\\left(h k_{1}\\right)^{4} + 8 \\, {\\left(B_{r_{1}} - 1\\right)} k_{1}^{3} \\cos\\left(h k_{1}\\right)^{2} - {\\left(B_{r_{1}} - 1\\right)} k_{1}^{3}\\right)} \\kappa\\right)} J_{m + 1}(\\kappa \\rho) - {\\left(2 \\, {\\left(2 \\, B_{r_{1}} k_{1} \\cos\\left(h k_{1}\\right)^{6} - 3 \\, B_{r_{1}} k_{1} \\cos\\left(h k_{1}\\right)^{4} + B_{r_{1}} k_{1} \\cos\\left(h k_{1}\\right)^{2}\\right)} \\kappa^{3} - {\\left(12 \\, {\\left(B_{r_{1}} - 1\\right)} k_{1}^{3} \\cos\\left(h k_{1}\\right)^{6} - 18 \\, {\\left(B_{r_{1}} - 1\\right)} k_{1}^{3} \\cos\\left(h k_{1}\\right)^{4} + 8 \\, {\\left(B_{r_{1}} - 1\\right)} k_{1}^{3} \\cos\\left(h k_{1}\\right)^{2} - {\\left(B_{r_{1}} - 1\\right)} k_{1}^{3}\\right)} \\kappa\\right)} J_{m - 1}(\\kappa \\rho)\\right)} \\rho^{2} - 2 \\, {\\left({\\left(2 \\, B_{r_{1}} k_{1} \\cos\\left(h k_{1}\\right)^{6} - 3 \\, B_{r_{1}} k_{1} \\cos\\left(h k_{1}\\right)^{4} + B_{r_{1}} k_{1} \\cos\\left(h k_{1}\\right)^{2}\\right)} \\kappa m^{2} J_{m + 1}(\\kappa \\rho) - {\\left(2 \\, B_{r_{1}} k_{1} \\cos\\left(h k_{1}\\right)^{6} - 3 \\, B_{r_{1}} k_{1} \\cos\\left(h k_{1}\\right)^{4} + B_{r_{1}} k_{1} \\cos\\left(h k_{1}\\right)^{2}\\right)} \\kappa m^{2} J_{m - 1}(\\kappa \\rho)\\right)} \\rho\\right)} \\cos\\left(k_{1} z\\right)^{3} + 4 \\, {\\left({\\left({\\left({\\left(4 \\, B_{r_{1}} k_{1} \\cos\\left(h k_{1}\\right)^{5} - 4 \\, B_{r_{1}} k_{1} \\cos\\left(h k_{1}\\right)^{3} + B_{r_{1}} k_{1} \\cos\\left(h k_{1}\\right)\\right)} \\kappa^{3} \\sin\\left(h k_{1}\\right) - 4 \\, {\\left(4 \\, {\\left(B_{r_{1}} - 1\\right)} k_{1}^{3} \\cos\\left(h k_{1}\\right)^{5} - 4 \\, {\\left(B_{r_{1}} - 1\\right)} k_{1}^{3} \\cos\\left(h k_{1}\\right)^{3} + {\\left(B_{r_{1}} - 1\\right)} k_{1}^{3} \\cos\\left(h k_{1}\\right)\\right)} \\kappa \\sin\\left(h k_{1}\\right)\\right)} J_{m + 1}(\\kappa \\rho) - {\\left({\\left(4 \\, B_{r_{1}} k_{1} \\cos\\left(h k_{1}\\right)^{5} - 4 \\, B_{r_{1}} k_{1} \\cos\\left(h k_{1}\\right)^{3} + B_{r_{1}} k_{1} \\cos\\left(h k_{1}\\right)\\right)} \\kappa^{3} \\sin\\left(h k_{1}\\right) - 4 \\, {\\left(4 \\, {\\left(B_{r_{1}} - 1\\right)} k_{1}^{3} \\cos\\left(h k_{1}\\right)^{5} - 4 \\, {\\left(B_{r_{1}} - 1\\right)} k_{1}^{3} \\cos\\left(h k_{1}\\right)^{3} + {\\left(B_{r_{1}} - 1\\right)} k_{1}^{3} \\cos\\left(h k_{1}\\right)\\right)} \\kappa \\sin\\left(h k_{1}\\right)\\right)} J_{m - 1}(\\kappa \\rho)\\right)} \\rho^{2} - {\\left({\\left(4 \\, B_{r_{1}} k_{1} \\cos\\left(h k_{1}\\right)^{5} - 4 \\, B_{r_{1}} k_{1} \\cos\\left(h k_{1}\\right)^{3} + B_{r_{1}} k_{1} \\cos\\left(h k_{1}\\right)\\right)} \\kappa m^{2} J_{m + 1}(\\kappa \\rho) \\sin\\left(h k_{1}\\right) - {\\left(4 \\, B_{r_{1}} k_{1} \\cos\\left(h k_{1}\\right)^{5} - 4 \\, B_{r_{1}} k_{1} \\cos\\left(h k_{1}\\right)^{3} + B_{r_{1}} k_{1} \\cos\\left(h k_{1}\\right)\\right)} \\kappa m^{2} J_{m - 1}(\\kappa \\rho) \\sin\\left(h k_{1}\\right)\\right)} \\rho\\right)} \\cos\\left(k_{1} z\\right)^{2} \\sin\\left(k_{1} z\\right) - {\\left({\\left({\\left({\\left(8 \\, B_{r_{1}} k_{1} \\cos\\left(h k_{1}\\right)^{6} - 12 \\, B_{r_{1}} k_{1} \\cos\\left(h k_{1}\\right)^{4} + 6 \\, B_{r_{1}} k_{1} \\cos\\left(h k_{1}\\right)^{2} - B_{r_{1}} k_{1}\\right)} \\kappa^{3} - {\\left(56 \\, {\\left(B_{r_{1}} - 1\\right)} k_{1}^{3} \\cos\\left(h k_{1}\\right)^{6} - 84 \\, {\\left(B_{r_{1}} - 1\\right)} k_{1}^{3} \\cos\\left(h k_{1}\\right)^{4} + 34 \\, {\\left(B_{r_{1}} - 1\\right)} k_{1}^{3} \\cos\\left(h k_{1}\\right)^{2} - 3 \\, {\\left(B_{r_{1}} - 1\\right)} k_{1}^{3}\\right)} \\kappa\\right)} J_{m + 1}(\\kappa \\rho) - {\\left({\\left(8 \\, B_{r_{1}} k_{1} \\cos\\left(h k_{1}\\right)^{6} - 12 \\, B_{r_{1}} k_{1} \\cos\\left(h k_{1}\\right)^{4} + 6 \\, B_{r_{1}} k_{1} \\cos\\left(h k_{1}\\right)^{2} - B_{r_{1}} k_{1}\\right)} \\kappa^{3} - {\\left(56 \\, {\\left(B_{r_{1}} - 1\\right)} k_{1}^{3} \\cos\\left(h k_{1}\\right)^{6} - 84 \\, {\\left(B_{r_{1}} - 1\\right)} k_{1}^{3} \\cos\\left(h k_{1}\\right)^{4} + 34 \\, {\\left(B_{r_{1}} - 1\\right)} k_{1}^{3} \\cos\\left(h k_{1}\\right)^{2} - 3 \\, {\\left(B_{r_{1}} - 1\\right)} k_{1}^{3}\\right)} \\kappa\\right)} J_{m - 1}(\\kappa \\rho)\\right)} \\rho^{2} - {\\left({\\left(8 \\, B_{r_{1}} k_{1} \\cos\\left(h k_{1}\\right)^{6} - 12 \\, B_{r_{1}} k_{1} \\cos\\left(h k_{1}\\right)^{4} + 6 \\, B_{r_{1}} k_{1} \\cos\\left(h k_{1}\\right)^{2} - B_{r_{1}} k_{1}\\right)} \\kappa m^{2} J_{m + 1}(\\kappa \\rho) - {\\left(8 \\, B_{r_{1}} k_{1} \\cos\\left(h k_{1}\\right)^{6} - 12 \\, B_{r_{1}} k_{1} \\cos\\left(h k_{1}\\right)^{4} + 6 \\, B_{r_{1}} k_{1} \\cos\\left(h k_{1}\\right)^{2} - B_{r_{1}} k_{1}\\right)} \\kappa m^{2} J_{m - 1}(\\kappa \\rho)\\right)} \\rho\\right)} \\cos\\left(k_{1} z\\right) \\sin\\left(k_{1} z\\right)^{2}}\\right]$$"
      ],
      "text/plain": [
       "<IPython.core.display.Math object>"
      ]
     },
     "metadata": {},
     "output_type": "display_data"
    },
    {
     "name": "stdout",
     "output_type": "stream",
     "text": [
      "\n",
      "eq4 =\n"
     ]
    },
    {
     "data": {
      "text/latex": [
       "$$\\frac{2 \\, {\\left(8 \\, {\\left(B_{\\phi_{1}} \\cos\\left(h k_{1}\\right)^{5} - B_{\\phi_{1}} \\cos\\left(h k_{1}\\right)^{3}\\right)} m^{3} r_{1} J_{m}(\\kappa \\rho) \\sin\\left(h k_{1}\\right) - {\\left(4 \\, {\\left(5 \\, B_{\\phi_{1}} k_{1}^{2} \\cos\\left(h k_{1}\\right)^{5} - 5 \\, B_{\\phi_{1}} k_{1}^{2} \\cos\\left(h k_{1}\\right)^{3} + B_{\\phi_{1}} k_{1}^{2} \\cos\\left(h k_{1}\\right)\\right)} \\kappa m J_{m - 1}(\\kappa \\rho) \\sin\\left(h k_{1}\\right) - {\\left(12 \\, B_{z_{1}} k_{1}^{3} \\cos\\left(h k_{1}\\right)^{6} - 18 \\, B_{z_{1}} k_{1}^{3} \\cos\\left(h k_{1}\\right)^{4} + 8 \\, B_{z_{1}} k_{1}^{3} \\cos\\left(h k_{1}\\right)^{2} - B_{z_{1}} k_{1}^{3} + 2 \\, {\\left(4 \\, A_{z_{1}} k_{1}^{3} \\cos\\left(h k_{1}\\right)^{5} - 4 \\, A_{z_{1}} k_{1}^{3} \\cos\\left(h k_{1}\\right)^{3} + A_{z_{1}} k_{1}^{3} \\cos\\left(h k_{1}\\right)\\right)} \\sin\\left(h k_{1}\\right)\\right)} \\kappa J_{m - 1}(\\kappa \\rho) + {\\left(4 \\, {\\left({\\left(B_{\\phi_{1}} \\cos\\left(h k_{1}\\right)^{5} - B_{\\phi_{1}} \\cos\\left(h k_{1}\\right)^{3}\\right)} \\kappa^{3} \\sin\\left(h k_{1}\\right) - {\\left(5 \\, B_{\\phi_{1}} k_{1}^{2} \\cos\\left(h k_{1}\\right)^{5} - 5 \\, B_{\\phi_{1}} k_{1}^{2} \\cos\\left(h k_{1}\\right)^{3} + B_{\\phi_{1}} k_{1}^{2} \\cos\\left(h k_{1}\\right)\\right)} \\kappa \\sin\\left(h k_{1}\\right)\\right)} m J_{m - 1}(\\kappa \\rho) + {\\left(2 \\, {\\left(2 \\, B_{z_{1}} k_{1} \\cos\\left(h k_{1}\\right)^{6} - 3 \\, B_{z_{1}} k_{1} \\cos\\left(h k_{1}\\right)^{4} + B_{z_{1}} k_{1} \\cos\\left(h k_{1}\\right)^{2}\\right)} \\kappa^{3} - {\\left(12 \\, B_{z_{1}} k_{1}^{3} \\cos\\left(h k_{1}\\right)^{6} - 18 \\, B_{z_{1}} k_{1}^{3} \\cos\\left(h k_{1}\\right)^{4} + 8 \\, B_{z_{1}} k_{1}^{3} \\cos\\left(h k_{1}\\right)^{2} - B_{z_{1}} k_{1}^{3} + 2 \\, {\\left(4 \\, A_{z_{1}} k_{1}^{3} \\cos\\left(h k_{1}\\right)^{5} - 4 \\, A_{z_{1}} k_{1}^{3} \\cos\\left(h k_{1}\\right)^{3} + A_{z_{1}} k_{1}^{3} \\cos\\left(h k_{1}\\right)\\right)} \\sin\\left(h k_{1}\\right)\\right)} \\kappa - 4 \\, {\\left({\\left(B_{\\phi_{1}} \\cos\\left(h k_{1}\\right)^{5} - B_{\\phi_{1}} \\cos\\left(h k_{1}\\right)^{3}\\right)} \\kappa^{3} \\sin\\left(h k_{1}\\right) - {\\left(5 \\, B_{\\phi_{1}} k_{1}^{2} \\cos\\left(h k_{1}\\right)^{5} - 5 \\, B_{\\phi_{1}} k_{1}^{2} \\cos\\left(h k_{1}\\right)^{3} + B_{\\phi_{1}} k_{1}^{2} \\cos\\left(h k_{1}\\right)\\right)} \\kappa \\sin\\left(h k_{1}\\right)\\right)} m\\right)} J_{m + 1}(\\kappa \\rho) - {\\left(2 \\, {\\left(2 \\, B_{z_{1}} k_{1} \\cos\\left(h k_{1}\\right)^{6} - 3 \\, B_{z_{1}} k_{1} \\cos\\left(h k_{1}\\right)^{4} + B_{z_{1}} k_{1} \\cos\\left(h k_{1}\\right)^{2}\\right)} \\kappa^{3} - {\\left(12 \\, B_{z_{1}} k_{1}^{3} \\cos\\left(h k_{1}\\right)^{6} - 18 \\, B_{z_{1}} k_{1}^{3} \\cos\\left(h k_{1}\\right)^{4} + 8 \\, B_{z_{1}} k_{1}^{3} \\cos\\left(h k_{1}\\right)^{2} - B_{z_{1}} k_{1}^{3} + 2 \\, {\\left(4 \\, A_{z_{1}} k_{1}^{3} \\cos\\left(h k_{1}\\right)^{5} - 4 \\, A_{z_{1}} k_{1}^{3} \\cos\\left(h k_{1}\\right)^{3} + A_{z_{1}} k_{1}^{3} \\cos\\left(h k_{1}\\right)\\right)} \\sin\\left(h k_{1}\\right)\\right)} \\kappa\\right)} J_{m - 1}(\\kappa \\rho)\\right)} r_{1} - {\\left(4 \\, {\\left(5 \\, B_{\\phi_{1}} k_{1}^{2} \\cos\\left(h k_{1}\\right)^{5} - 5 \\, B_{\\phi_{1}} k_{1}^{2} \\cos\\left(h k_{1}\\right)^{3} + B_{\\phi_{1}} k_{1}^{2} \\cos\\left(h k_{1}\\right)\\right)} \\kappa m \\sin\\left(h k_{1}\\right) - {\\left(12 \\, B_{z_{1}} k_{1}^{3} \\cos\\left(h k_{1}\\right)^{6} - 18 \\, B_{z_{1}} k_{1}^{3} \\cos\\left(h k_{1}\\right)^{4} + 8 \\, B_{z_{1}} k_{1}^{3} \\cos\\left(h k_{1}\\right)^{2} - B_{z_{1}} k_{1}^{3} + 2 \\, {\\left(4 \\, A_{z_{1}} k_{1}^{3} \\cos\\left(h k_{1}\\right)^{5} - 4 \\, A_{z_{1}} k_{1}^{3} \\cos\\left(h k_{1}\\right)^{3} + A_{z_{1}} k_{1}^{3} \\cos\\left(h k_{1}\\right)\\right)} \\sin\\left(h k_{1}\\right)\\right)} \\kappa\\right)} J_{m + 1}(\\kappa \\rho)\\right)} \\rho^{2} - 2 \\, {\\left(4 \\, {\\left(5 \\, B_{\\phi_{1}} k_{1}^{2} \\cos\\left(h k_{1}\\right)^{5} - 5 \\, B_{\\phi_{1}} k_{1}^{2} \\cos\\left(h k_{1}\\right)^{3} + B_{\\phi_{1}} k_{1}^{2} \\cos\\left(h k_{1}\\right)\\right)} m J_{m}(\\kappa \\rho) \\sin\\left(h k_{1}\\right) - {\\left(2 \\, {\\left(B_{\\phi_{1}} \\cos\\left(h k_{1}\\right)^{5} - B_{\\phi_{1}} \\cos\\left(h k_{1}\\right)^{3}\\right)} \\kappa m^{3} J_{m - 1}(\\kappa \\rho) \\sin\\left(h k_{1}\\right) - {\\left(2 \\, B_{z_{1}} k_{1} \\cos\\left(h k_{1}\\right)^{6} - 3 \\, B_{z_{1}} k_{1} \\cos\\left(h k_{1}\\right)^{4} + B_{z_{1}} k_{1} \\cos\\left(h k_{1}\\right)^{2}\\right)} \\kappa m^{2} J_{m - 1}(\\kappa \\rho) - 4 \\, {\\left({\\left(B_{\\phi_{1}} \\cos\\left(h k_{1}\\right)^{5} - B_{\\phi_{1}} \\cos\\left(h k_{1}\\right)^{3}\\right)} \\kappa^{2} \\sin\\left(h k_{1}\\right) - {\\left(5 \\, B_{\\phi_{1}} k_{1}^{2} \\cos\\left(h k_{1}\\right)^{5} - 5 \\, B_{\\phi_{1}} k_{1}^{2} \\cos\\left(h k_{1}\\right)^{3} + B_{\\phi_{1}} k_{1}^{2} \\cos\\left(h k_{1}\\right)\\right)} \\sin\\left(h k_{1}\\right)\\right)} m J_{m}(\\kappa \\rho) - {\\left(2 \\, {\\left(B_{\\phi_{1}} \\cos\\left(h k_{1}\\right)^{5} - B_{\\phi_{1}} \\cos\\left(h k_{1}\\right)^{3}\\right)} \\kappa m^{3} \\sin\\left(h k_{1}\\right) - {\\left(2 \\, B_{z_{1}} k_{1} \\cos\\left(h k_{1}\\right)^{6} - 3 \\, B_{z_{1}} k_{1} \\cos\\left(h k_{1}\\right)^{4} + B_{z_{1}} k_{1} \\cos\\left(h k_{1}\\right)^{2}\\right)} \\kappa m^{2}\\right)} J_{m + 1}(\\kappa \\rho)\\right)} r_{1}\\right)} \\rho\\right)} \\cos\\left(m \\varphi\\right) \\cos\\left(k_{1} z\\right)^{3} - 4 \\, {\\left(6 \\, {\\left(2 \\, B_{\\phi_{1}} \\cos\\left(h k_{1}\\right)^{6} - 3 \\, B_{\\phi_{1}} \\cos\\left(h k_{1}\\right)^{4} + B_{\\phi_{1}} \\cos\\left(h k_{1}\\right)^{2}\\right)} m^{3} r_{1} J_{m}(\\kappa \\rho) - {\\left({\\left(30 \\, B_{\\phi_{1}} k_{1}^{2} \\cos\\left(h k_{1}\\right)^{6} - 45 \\, B_{\\phi_{1}} k_{1}^{2} \\cos\\left(h k_{1}\\right)^{4} + 17 \\, B_{\\phi_{1}} k_{1}^{2} \\cos\\left(h k_{1}\\right)^{2} - B_{\\phi_{1}} k_{1}^{2}\\right)} \\kappa m J_{m - 1}(\\kappa \\rho) - {\\left(14 \\, A_{z_{1}} k_{1}^{3} \\cos\\left(h k_{1}\\right)^{6} - 21 \\, A_{z_{1}} k_{1}^{3} \\cos\\left(h k_{1}\\right)^{4} + 9 \\, A_{z_{1}} k_{1}^{3} \\cos\\left(h k_{1}\\right)^{2} - A_{z_{1}} k_{1}^{3} - 4 \\, {\\left(4 \\, B_{z_{1}} k_{1}^{3} \\cos\\left(h k_{1}\\right)^{5} - 4 \\, B_{z_{1}} k_{1}^{3} \\cos\\left(h k_{1}\\right)^{3} + B_{z_{1}} k_{1}^{3} \\cos\\left(h k_{1}\\right)\\right)} \\sin\\left(h k_{1}\\right)\\right)} \\kappa J_{m - 1}(\\kappa \\rho) + {\\left({\\left(3 \\, {\\left(2 \\, B_{\\phi_{1}} \\cos\\left(h k_{1}\\right)^{6} - 3 \\, B_{\\phi_{1}} \\cos\\left(h k_{1}\\right)^{4} + B_{\\phi_{1}} \\cos\\left(h k_{1}\\right)^{2}\\right)} \\kappa^{3} - {\\left(30 \\, B_{\\phi_{1}} k_{1}^{2} \\cos\\left(h k_{1}\\right)^{6} - 45 \\, B_{\\phi_{1}} k_{1}^{2} \\cos\\left(h k_{1}\\right)^{4} + 17 \\, B_{\\phi_{1}} k_{1}^{2} \\cos\\left(h k_{1}\\right)^{2} - B_{\\phi_{1}} k_{1}^{2}\\right)} \\kappa\\right)} m J_{m - 1}(\\kappa \\rho) + {\\left({\\left(2 \\, A_{z_{1}} k_{1} \\cos\\left(h k_{1}\\right)^{6} - 3 \\, A_{z_{1}} k_{1} \\cos\\left(h k_{1}\\right)^{4} + A_{z_{1}} k_{1} \\cos\\left(h k_{1}\\right)^{2} - {\\left(4 \\, B_{z_{1}} k_{1} \\cos\\left(h k_{1}\\right)^{5} - 4 \\, B_{z_{1}} k_{1} \\cos\\left(h k_{1}\\right)^{3} + B_{z_{1}} k_{1} \\cos\\left(h k_{1}\\right)\\right)} \\sin\\left(h k_{1}\\right)\\right)} \\kappa^{3} - {\\left(14 \\, A_{z_{1}} k_{1}^{3} \\cos\\left(h k_{1}\\right)^{6} - 21 \\, A_{z_{1}} k_{1}^{3} \\cos\\left(h k_{1}\\right)^{4} + 9 \\, A_{z_{1}} k_{1}^{3} \\cos\\left(h k_{1}\\right)^{2} - A_{z_{1}} k_{1}^{3} - 4 \\, {\\left(4 \\, B_{z_{1}} k_{1}^{3} \\cos\\left(h k_{1}\\right)^{5} - 4 \\, B_{z_{1}} k_{1}^{3} \\cos\\left(h k_{1}\\right)^{3} + B_{z_{1}} k_{1}^{3} \\cos\\left(h k_{1}\\right)\\right)} \\sin\\left(h k_{1}\\right)\\right)} \\kappa - {\\left(3 \\, {\\left(2 \\, B_{\\phi_{1}} \\cos\\left(h k_{1}\\right)^{6} - 3 \\, B_{\\phi_{1}} \\cos\\left(h k_{1}\\right)^{4} + B_{\\phi_{1}} \\cos\\left(h k_{1}\\right)^{2}\\right)} \\kappa^{3} - {\\left(30 \\, B_{\\phi_{1}} k_{1}^{2} \\cos\\left(h k_{1}\\right)^{6} - 45 \\, B_{\\phi_{1}} k_{1}^{2} \\cos\\left(h k_{1}\\right)^{4} + 17 \\, B_{\\phi_{1}} k_{1}^{2} \\cos\\left(h k_{1}\\right)^{2} - B_{\\phi_{1}} k_{1}^{2}\\right)} \\kappa\\right)} m\\right)} J_{m + 1}(\\kappa \\rho) - {\\left({\\left(2 \\, A_{z_{1}} k_{1} \\cos\\left(h k_{1}\\right)^{6} - 3 \\, A_{z_{1}} k_{1} \\cos\\left(h k_{1}\\right)^{4} + A_{z_{1}} k_{1} \\cos\\left(h k_{1}\\right)^{2} - {\\left(4 \\, B_{z_{1}} k_{1} \\cos\\left(h k_{1}\\right)^{5} - 4 \\, B_{z_{1}} k_{1} \\cos\\left(h k_{1}\\right)^{3} + B_{z_{1}} k_{1} \\cos\\left(h k_{1}\\right)\\right)} \\sin\\left(h k_{1}\\right)\\right)} \\kappa^{3} - {\\left(14 \\, A_{z_{1}} k_{1}^{3} \\cos\\left(h k_{1}\\right)^{6} - 21 \\, A_{z_{1}} k_{1}^{3} \\cos\\left(h k_{1}\\right)^{4} + 9 \\, A_{z_{1}} k_{1}^{3} \\cos\\left(h k_{1}\\right)^{2} - A_{z_{1}} k_{1}^{3} - 4 \\, {\\left(4 \\, B_{z_{1}} k_{1}^{3} \\cos\\left(h k_{1}\\right)^{5} - 4 \\, B_{z_{1}} k_{1}^{3} \\cos\\left(h k_{1}\\right)^{3} + B_{z_{1}} k_{1}^{3} \\cos\\left(h k_{1}\\right)\\right)} \\sin\\left(h k_{1}\\right)\\right)} \\kappa\\right)} J_{m - 1}(\\kappa \\rho)\\right)} r_{1} - {\\left({\\left(30 \\, B_{\\phi_{1}} k_{1}^{2} \\cos\\left(h k_{1}\\right)^{6} - 45 \\, B_{\\phi_{1}} k_{1}^{2} \\cos\\left(h k_{1}\\right)^{4} + 17 \\, B_{\\phi_{1}} k_{1}^{2} \\cos\\left(h k_{1}\\right)^{2} - B_{\\phi_{1}} k_{1}^{2}\\right)} \\kappa m - {\\left(14 \\, A_{z_{1}} k_{1}^{3} \\cos\\left(h k_{1}\\right)^{6} - 21 \\, A_{z_{1}} k_{1}^{3} \\cos\\left(h k_{1}\\right)^{4} + 9 \\, A_{z_{1}} k_{1}^{3} \\cos\\left(h k_{1}\\right)^{2} - A_{z_{1}} k_{1}^{3} - 4 \\, {\\left(4 \\, B_{z_{1}} k_{1}^{3} \\cos\\left(h k_{1}\\right)^{5} - 4 \\, B_{z_{1}} k_{1}^{3} \\cos\\left(h k_{1}\\right)^{3} + B_{z_{1}} k_{1}^{3} \\cos\\left(h k_{1}\\right)\\right)} \\sin\\left(h k_{1}\\right)\\right)} \\kappa\\right)} J_{m + 1}(\\kappa \\rho)\\right)} \\rho^{2} - {\\left(2 \\, {\\left(30 \\, B_{\\phi_{1}} k_{1}^{2} \\cos\\left(h k_{1}\\right)^{6} - 45 \\, B_{\\phi_{1}} k_{1}^{2} \\cos\\left(h k_{1}\\right)^{4} + 17 \\, B_{\\phi_{1}} k_{1}^{2} \\cos\\left(h k_{1}\\right)^{2} - B_{\\phi_{1}} k_{1}^{2}\\right)} m J_{m}(\\kappa \\rho) - {\\left(3 \\, {\\left(2 \\, B_{\\phi_{1}} \\cos\\left(h k_{1}\\right)^{6} - 3 \\, B_{\\phi_{1}} \\cos\\left(h k_{1}\\right)^{4} + B_{\\phi_{1}} \\cos\\left(h k_{1}\\right)^{2}\\right)} \\kappa m^{3} J_{m - 1}(\\kappa \\rho) - {\\left(2 \\, A_{z_{1}} k_{1} \\cos\\left(h k_{1}\\right)^{6} - 3 \\, A_{z_{1}} k_{1} \\cos\\left(h k_{1}\\right)^{4} + A_{z_{1}} k_{1} \\cos\\left(h k_{1}\\right)^{2} - {\\left(4 \\, B_{z_{1}} k_{1} \\cos\\left(h k_{1}\\right)^{5} - 4 \\, B_{z_{1}} k_{1} \\cos\\left(h k_{1}\\right)^{3} + B_{z_{1}} k_{1} \\cos\\left(h k_{1}\\right)\\right)} \\sin\\left(h k_{1}\\right)\\right)} \\kappa m^{2} J_{m - 1}(\\kappa \\rho) + 2 \\, {\\left(30 \\, B_{\\phi_{1}} k_{1}^{2} \\cos\\left(h k_{1}\\right)^{6} - 45 \\, B_{\\phi_{1}} k_{1}^{2} \\cos\\left(h k_{1}\\right)^{4} + 17 \\, B_{\\phi_{1}} k_{1}^{2} \\cos\\left(h k_{1}\\right)^{2} - B_{\\phi_{1}} k_{1}^{2} - 3 \\, {\\left(2 \\, B_{\\phi_{1}} \\cos\\left(h k_{1}\\right)^{6} - 3 \\, B_{\\phi_{1}} \\cos\\left(h k_{1}\\right)^{4} + B_{\\phi_{1}} \\cos\\left(h k_{1}\\right)^{2}\\right)} \\kappa^{2}\\right)} m J_{m}(\\kappa \\rho) - {\\left(3 \\, {\\left(2 \\, B_{\\phi_{1}} \\cos\\left(h k_{1}\\right)^{6} - 3 \\, B_{\\phi_{1}} \\cos\\left(h k_{1}\\right)^{4} + B_{\\phi_{1}} \\cos\\left(h k_{1}\\right)^{2}\\right)} \\kappa m^{3} - {\\left(2 \\, A_{z_{1}} k_{1} \\cos\\left(h k_{1}\\right)^{6} - 3 \\, A_{z_{1}} k_{1} \\cos\\left(h k_{1}\\right)^{4} + A_{z_{1}} k_{1} \\cos\\left(h k_{1}\\right)^{2} - {\\left(4 \\, B_{z_{1}} k_{1} \\cos\\left(h k_{1}\\right)^{5} - 4 \\, B_{z_{1}} k_{1} \\cos\\left(h k_{1}\\right)^{3} + B_{z_{1}} k_{1} \\cos\\left(h k_{1}\\right)\\right)} \\sin\\left(h k_{1}\\right)\\right)} \\kappa m^{2}\\right)} J_{m + 1}(\\kappa \\rho)\\right)} r_{1}\\right)} \\rho\\right)} \\cos\\left(m \\varphi\\right) \\cos\\left(k_{1} z\\right)^{2} \\sin\\left(k_{1} z\\right) - {\\left(12 \\, {\\left(4 \\, B_{\\phi_{1}} \\cos\\left(h k_{1}\\right)^{5} - 4 \\, B_{\\phi_{1}} \\cos\\left(h k_{1}\\right)^{3} + B_{\\phi_{1}} \\cos\\left(h k_{1}\\right)\\right)} m^{3} r_{1} J_{m}(\\kappa \\rho) \\sin\\left(h k_{1}\\right) - {\\left(2 \\, {\\left(60 \\, B_{\\phi_{1}} k_{1}^{2} \\cos\\left(h k_{1}\\right)^{5} - 60 \\, B_{\\phi_{1}} k_{1}^{2} \\cos\\left(h k_{1}\\right)^{3} + 11 \\, B_{\\phi_{1}} k_{1}^{2} \\cos\\left(h k_{1}\\right)\\right)} \\kappa m J_{m - 1}(\\kappa \\rho) \\sin\\left(h k_{1}\\right) - {\\left(56 \\, B_{z_{1}} k_{1}^{3} \\cos\\left(h k_{1}\\right)^{6} - 84 \\, B_{z_{1}} k_{1}^{3} \\cos\\left(h k_{1}\\right)^{4} + 34 \\, B_{z_{1}} k_{1}^{3} \\cos\\left(h k_{1}\\right)^{2} - 3 \\, B_{z_{1}} k_{1}^{3} + 16 \\, {\\left(4 \\, A_{z_{1}} k_{1}^{3} \\cos\\left(h k_{1}\\right)^{5} - 4 \\, A_{z_{1}} k_{1}^{3} \\cos\\left(h k_{1}\\right)^{3} + A_{z_{1}} k_{1}^{3} \\cos\\left(h k_{1}\\right)\\right)} \\sin\\left(h k_{1}\\right)\\right)} \\kappa J_{m - 1}(\\kappa \\rho) + {\\left(2 \\, {\\left(3 \\, {\\left(4 \\, B_{\\phi_{1}} \\cos\\left(h k_{1}\\right)^{5} - 4 \\, B_{\\phi_{1}} \\cos\\left(h k_{1}\\right)^{3} + B_{\\phi_{1}} \\cos\\left(h k_{1}\\right)\\right)} \\kappa^{3} \\sin\\left(h k_{1}\\right) - {\\left(60 \\, B_{\\phi_{1}} k_{1}^{2} \\cos\\left(h k_{1}\\right)^{5} - 60 \\, B_{\\phi_{1}} k_{1}^{2} \\cos\\left(h k_{1}\\right)^{3} + 11 \\, B_{\\phi_{1}} k_{1}^{2} \\cos\\left(h k_{1}\\right)\\right)} \\kappa \\sin\\left(h k_{1}\\right)\\right)} m J_{m - 1}(\\kappa \\rho) + {\\left({\\left(8 \\, B_{z_{1}} k_{1} \\cos\\left(h k_{1}\\right)^{6} - 12 \\, B_{z_{1}} k_{1} \\cos\\left(h k_{1}\\right)^{4} + 6 \\, B_{z_{1}} k_{1} \\cos\\left(h k_{1}\\right)^{2} - B_{z_{1}} k_{1} + 4 \\, {\\left(4 \\, A_{z_{1}} k_{1} \\cos\\left(h k_{1}\\right)^{5} - 4 \\, A_{z_{1}} k_{1} \\cos\\left(h k_{1}\\right)^{3} + A_{z_{1}} k_{1} \\cos\\left(h k_{1}\\right)\\right)} \\sin\\left(h k_{1}\\right)\\right)} \\kappa^{3} - {\\left(56 \\, B_{z_{1}} k_{1}^{3} \\cos\\left(h k_{1}\\right)^{6} - 84 \\, B_{z_{1}} k_{1}^{3} \\cos\\left(h k_{1}\\right)^{4} + 34 \\, B_{z_{1}} k_{1}^{3} \\cos\\left(h k_{1}\\right)^{2} - 3 \\, B_{z_{1}} k_{1}^{3} + 16 \\, {\\left(4 \\, A_{z_{1}} k_{1}^{3} \\cos\\left(h k_{1}\\right)^{5} - 4 \\, A_{z_{1}} k_{1}^{3} \\cos\\left(h k_{1}\\right)^{3} + A_{z_{1}} k_{1}^{3} \\cos\\left(h k_{1}\\right)\\right)} \\sin\\left(h k_{1}\\right)\\right)} \\kappa - 2 \\, {\\left(3 \\, {\\left(4 \\, B_{\\phi_{1}} \\cos\\left(h k_{1}\\right)^{5} - 4 \\, B_{\\phi_{1}} \\cos\\left(h k_{1}\\right)^{3} + B_{\\phi_{1}} \\cos\\left(h k_{1}\\right)\\right)} \\kappa^{3} \\sin\\left(h k_{1}\\right) - {\\left(60 \\, B_{\\phi_{1}} k_{1}^{2} \\cos\\left(h k_{1}\\right)^{5} - 60 \\, B_{\\phi_{1}} k_{1}^{2} \\cos\\left(h k_{1}\\right)^{3} + 11 \\, B_{\\phi_{1}} k_{1}^{2} \\cos\\left(h k_{1}\\right)\\right)} \\kappa \\sin\\left(h k_{1}\\right)\\right)} m\\right)} J_{m + 1}(\\kappa \\rho) - {\\left({\\left(8 \\, B_{z_{1}} k_{1} \\cos\\left(h k_{1}\\right)^{6} - 12 \\, B_{z_{1}} k_{1} \\cos\\left(h k_{1}\\right)^{4} + 6 \\, B_{z_{1}} k_{1} \\cos\\left(h k_{1}\\right)^{2} - B_{z_{1}} k_{1} + 4 \\, {\\left(4 \\, A_{z_{1}} k_{1} \\cos\\left(h k_{1}\\right)^{5} - 4 \\, A_{z_{1}} k_{1} \\cos\\left(h k_{1}\\right)^{3} + A_{z_{1}} k_{1} \\cos\\left(h k_{1}\\right)\\right)} \\sin\\left(h k_{1}\\right)\\right)} \\kappa^{3} - {\\left(56 \\, B_{z_{1}} k_{1}^{3} \\cos\\left(h k_{1}\\right)^{6} - 84 \\, B_{z_{1}} k_{1}^{3} \\cos\\left(h k_{1}\\right)^{4} + 34 \\, B_{z_{1}} k_{1}^{3} \\cos\\left(h k_{1}\\right)^{2} - 3 \\, B_{z_{1}} k_{1}^{3} + 16 \\, {\\left(4 \\, A_{z_{1}} k_{1}^{3} \\cos\\left(h k_{1}\\right)^{5} - 4 \\, A_{z_{1}} k_{1}^{3} \\cos\\left(h k_{1}\\right)^{3} + A_{z_{1}} k_{1}^{3} \\cos\\left(h k_{1}\\right)\\right)} \\sin\\left(h k_{1}\\right)\\right)} \\kappa\\right)} J_{m - 1}(\\kappa \\rho)\\right)} r_{1} - {\\left(2 \\, {\\left(60 \\, B_{\\phi_{1}} k_{1}^{2} \\cos\\left(h k_{1}\\right)^{5} - 60 \\, B_{\\phi_{1}} k_{1}^{2} \\cos\\left(h k_{1}\\right)^{3} + 11 \\, B_{\\phi_{1}} k_{1}^{2} \\cos\\left(h k_{1}\\right)\\right)} \\kappa m \\sin\\left(h k_{1}\\right) - {\\left(56 \\, B_{z_{1}} k_{1}^{3} \\cos\\left(h k_{1}\\right)^{6} - 84 \\, B_{z_{1}} k_{1}^{3} \\cos\\left(h k_{1}\\right)^{4} + 34 \\, B_{z_{1}} k_{1}^{3} \\cos\\left(h k_{1}\\right)^{2} - 3 \\, B_{z_{1}} k_{1}^{3} + 16 \\, {\\left(4 \\, A_{z_{1}} k_{1}^{3} \\cos\\left(h k_{1}\\right)^{5} - 4 \\, A_{z_{1}} k_{1}^{3} \\cos\\left(h k_{1}\\right)^{3} + A_{z_{1}} k_{1}^{3} \\cos\\left(h k_{1}\\right)\\right)} \\sin\\left(h k_{1}\\right)\\right)} \\kappa\\right)} J_{m + 1}(\\kappa \\rho)\\right)} \\rho^{2} - {\\left(4 \\, {\\left(60 \\, B_{\\phi_{1}} k_{1}^{2} \\cos\\left(h k_{1}\\right)^{5} - 60 \\, B_{\\phi_{1}} k_{1}^{2} \\cos\\left(h k_{1}\\right)^{3} + 11 \\, B_{\\phi_{1}} k_{1}^{2} \\cos\\left(h k_{1}\\right)\\right)} m J_{m}(\\kappa \\rho) \\sin\\left(h k_{1}\\right) - {\\left(6 \\, {\\left(4 \\, B_{\\phi_{1}} \\cos\\left(h k_{1}\\right)^{5} - 4 \\, B_{\\phi_{1}} \\cos\\left(h k_{1}\\right)^{3} + B_{\\phi_{1}} \\cos\\left(h k_{1}\\right)\\right)} \\kappa m^{3} J_{m - 1}(\\kappa \\rho) \\sin\\left(h k_{1}\\right) - {\\left(8 \\, B_{z_{1}} k_{1} \\cos\\left(h k_{1}\\right)^{6} - 12 \\, B_{z_{1}} k_{1} \\cos\\left(h k_{1}\\right)^{4} + 6 \\, B_{z_{1}} k_{1} \\cos\\left(h k_{1}\\right)^{2} - B_{z_{1}} k_{1} + 4 \\, {\\left(4 \\, A_{z_{1}} k_{1} \\cos\\left(h k_{1}\\right)^{5} - 4 \\, A_{z_{1}} k_{1} \\cos\\left(h k_{1}\\right)^{3} + A_{z_{1}} k_{1} \\cos\\left(h k_{1}\\right)\\right)} \\sin\\left(h k_{1}\\right)\\right)} \\kappa m^{2} J_{m - 1}(\\kappa \\rho) - 4 \\, {\\left(3 \\, {\\left(4 \\, B_{\\phi_{1}} \\cos\\left(h k_{1}\\right)^{5} - 4 \\, B_{\\phi_{1}} \\cos\\left(h k_{1}\\right)^{3} + B_{\\phi_{1}} \\cos\\left(h k_{1}\\right)\\right)} \\kappa^{2} \\sin\\left(h k_{1}\\right) - {\\left(60 \\, B_{\\phi_{1}} k_{1}^{2} \\cos\\left(h k_{1}\\right)^{5} - 60 \\, B_{\\phi_{1}} k_{1}^{2} \\cos\\left(h k_{1}\\right)^{3} + 11 \\, B_{\\phi_{1}} k_{1}^{2} \\cos\\left(h k_{1}\\right)\\right)} \\sin\\left(h k_{1}\\right)\\right)} m J_{m}(\\kappa \\rho) - {\\left(6 \\, {\\left(4 \\, B_{\\phi_{1}} \\cos\\left(h k_{1}\\right)^{5} - 4 \\, B_{\\phi_{1}} \\cos\\left(h k_{1}\\right)^{3} + B_{\\phi_{1}} \\cos\\left(h k_{1}\\right)\\right)} \\kappa m^{3} \\sin\\left(h k_{1}\\right) - {\\left(8 \\, B_{z_{1}} k_{1} \\cos\\left(h k_{1}\\right)^{6} - 12 \\, B_{z_{1}} k_{1} \\cos\\left(h k_{1}\\right)^{4} + 6 \\, B_{z_{1}} k_{1} \\cos\\left(h k_{1}\\right)^{2} - B_{z_{1}} k_{1} + 4 \\, {\\left(4 \\, A_{z_{1}} k_{1} \\cos\\left(h k_{1}\\right)^{5} - 4 \\, A_{z_{1}} k_{1} \\cos\\left(h k_{1}\\right)^{3} + A_{z_{1}} k_{1} \\cos\\left(h k_{1}\\right)\\right)} \\sin\\left(h k_{1}\\right)\\right)} \\kappa m^{2}\\right)} J_{m + 1}(\\kappa \\rho)\\right)} r_{1}\\right)} \\rho\\right)} \\cos\\left(m \\varphi\\right) \\cos\\left(k_{1} z\\right) \\sin\\left(k_{1} z\\right)^{2} + {\\left(2 \\, {\\left(8 \\, B_{\\phi_{1}} \\cos\\left(h k_{1}\\right)^{6} - 12 \\, B_{\\phi_{1}} \\cos\\left(h k_{1}\\right)^{4} + 6 \\, B_{\\phi_{1}} \\cos\\left(h k_{1}\\right)^{2} - B_{\\phi_{1}}\\right)} m^{3} r_{1} J_{m}(\\kappa \\rho) - {\\left({\\left(40 \\, B_{\\phi_{1}} k_{1}^{2} \\cos\\left(h k_{1}\\right)^{6} - 60 \\, B_{\\phi_{1}} k_{1}^{2} \\cos\\left(h k_{1}\\right)^{4} + 22 \\, B_{\\phi_{1}} k_{1}^{2} \\cos\\left(h k_{1}\\right)^{2} - B_{\\phi_{1}} k_{1}^{2}\\right)} \\kappa m J_{m - 1}(\\kappa \\rho) - {\\left(24 \\, A_{z_{1}} k_{1}^{3} \\cos\\left(h k_{1}\\right)^{6} - 36 \\, A_{z_{1}} k_{1}^{3} \\cos\\left(h k_{1}\\right)^{4} + 14 \\, A_{z_{1}} k_{1}^{3} \\cos\\left(h k_{1}\\right)^{2} - A_{z_{1}} k_{1}^{3} - 4 \\, {\\left(4 \\, B_{z_{1}} k_{1}^{3} \\cos\\left(h k_{1}\\right)^{5} - 4 \\, B_{z_{1}} k_{1}^{3} \\cos\\left(h k_{1}\\right)^{3} + B_{z_{1}} k_{1}^{3} \\cos\\left(h k_{1}\\right)\\right)} \\sin\\left(h k_{1}\\right)\\right)} \\kappa J_{m - 1}(\\kappa \\rho) + {\\left({\\left({\\left(8 \\, B_{\\phi_{1}} \\cos\\left(h k_{1}\\right)^{6} - 12 \\, B_{\\phi_{1}} \\cos\\left(h k_{1}\\right)^{4} + 6 \\, B_{\\phi_{1}} \\cos\\left(h k_{1}\\right)^{2} - B_{\\phi_{1}}\\right)} \\kappa^{3} - {\\left(40 \\, B_{\\phi_{1}} k_{1}^{2} \\cos\\left(h k_{1}\\right)^{6} - 60 \\, B_{\\phi_{1}} k_{1}^{2} \\cos\\left(h k_{1}\\right)^{4} + 22 \\, B_{\\phi_{1}} k_{1}^{2} \\cos\\left(h k_{1}\\right)^{2} - B_{\\phi_{1}} k_{1}^{2}\\right)} \\kappa\\right)} m J_{m - 1}(\\kappa \\rho) + {\\left({\\left(8 \\, A_{z_{1}} k_{1} \\cos\\left(h k_{1}\\right)^{6} - 12 \\, A_{z_{1}} k_{1} \\cos\\left(h k_{1}\\right)^{4} + 6 \\, A_{z_{1}} k_{1} \\cos\\left(h k_{1}\\right)^{2} - A_{z_{1}} k_{1}\\right)} \\kappa^{3} - {\\left(24 \\, A_{z_{1}} k_{1}^{3} \\cos\\left(h k_{1}\\right)^{6} - 36 \\, A_{z_{1}} k_{1}^{3} \\cos\\left(h k_{1}\\right)^{4} + 14 \\, A_{z_{1}} k_{1}^{3} \\cos\\left(h k_{1}\\right)^{2} - A_{z_{1}} k_{1}^{3} - 4 \\, {\\left(4 \\, B_{z_{1}} k_{1}^{3} \\cos\\left(h k_{1}\\right)^{5} - 4 \\, B_{z_{1}} k_{1}^{3} \\cos\\left(h k_{1}\\right)^{3} + B_{z_{1}} k_{1}^{3} \\cos\\left(h k_{1}\\right)\\right)} \\sin\\left(h k_{1}\\right)\\right)} \\kappa - {\\left({\\left(8 \\, B_{\\phi_{1}} \\cos\\left(h k_{1}\\right)^{6} - 12 \\, B_{\\phi_{1}} \\cos\\left(h k_{1}\\right)^{4} + 6 \\, B_{\\phi_{1}} \\cos\\left(h k_{1}\\right)^{2} - B_{\\phi_{1}}\\right)} \\kappa^{3} - {\\left(40 \\, B_{\\phi_{1}} k_{1}^{2} \\cos\\left(h k_{1}\\right)^{6} - 60 \\, B_{\\phi_{1}} k_{1}^{2} \\cos\\left(h k_{1}\\right)^{4} + 22 \\, B_{\\phi_{1}} k_{1}^{2} \\cos\\left(h k_{1}\\right)^{2} - B_{\\phi_{1}} k_{1}^{2}\\right)} \\kappa\\right)} m\\right)} J_{m + 1}(\\kappa \\rho) - {\\left({\\left(8 \\, A_{z_{1}} k_{1} \\cos\\left(h k_{1}\\right)^{6} - 12 \\, A_{z_{1}} k_{1} \\cos\\left(h k_{1}\\right)^{4} + 6 \\, A_{z_{1}} k_{1} \\cos\\left(h k_{1}\\right)^{2} - A_{z_{1}} k_{1}\\right)} \\kappa^{3} - {\\left(24 \\, A_{z_{1}} k_{1}^{3} \\cos\\left(h k_{1}\\right)^{6} - 36 \\, A_{z_{1}} k_{1}^{3} \\cos\\left(h k_{1}\\right)^{4} + 14 \\, A_{z_{1}} k_{1}^{3} \\cos\\left(h k_{1}\\right)^{2} - A_{z_{1}} k_{1}^{3} - 4 \\, {\\left(4 \\, B_{z_{1}} k_{1}^{3} \\cos\\left(h k_{1}\\right)^{5} - 4 \\, B_{z_{1}} k_{1}^{3} \\cos\\left(h k_{1}\\right)^{3} + B_{z_{1}} k_{1}^{3} \\cos\\left(h k_{1}\\right)\\right)} \\sin\\left(h k_{1}\\right)\\right)} \\kappa\\right)} J_{m - 1}(\\kappa \\rho)\\right)} r_{1} - {\\left({\\left(40 \\, B_{\\phi_{1}} k_{1}^{2} \\cos\\left(h k_{1}\\right)^{6} - 60 \\, B_{\\phi_{1}} k_{1}^{2} \\cos\\left(h k_{1}\\right)^{4} + 22 \\, B_{\\phi_{1}} k_{1}^{2} \\cos\\left(h k_{1}\\right)^{2} - B_{\\phi_{1}} k_{1}^{2}\\right)} \\kappa m - {\\left(24 \\, A_{z_{1}} k_{1}^{3} \\cos\\left(h k_{1}\\right)^{6} - 36 \\, A_{z_{1}} k_{1}^{3} \\cos\\left(h k_{1}\\right)^{4} + 14 \\, A_{z_{1}} k_{1}^{3} \\cos\\left(h k_{1}\\right)^{2} - A_{z_{1}} k_{1}^{3} - 4 \\, {\\left(4 \\, B_{z_{1}} k_{1}^{3} \\cos\\left(h k_{1}\\right)^{5} - 4 \\, B_{z_{1}} k_{1}^{3} \\cos\\left(h k_{1}\\right)^{3} + B_{z_{1}} k_{1}^{3} \\cos\\left(h k_{1}\\right)\\right)} \\sin\\left(h k_{1}\\right)\\right)} \\kappa\\right)} J_{m + 1}(\\kappa \\rho)\\right)} \\rho^{2} - {\\left(2 \\, {\\left(40 \\, B_{\\phi_{1}} k_{1}^{2} \\cos\\left(h k_{1}\\right)^{6} - 60 \\, B_{\\phi_{1}} k_{1}^{2} \\cos\\left(h k_{1}\\right)^{4} + 22 \\, B_{\\phi_{1}} k_{1}^{2} \\cos\\left(h k_{1}\\right)^{2} - B_{\\phi_{1}} k_{1}^{2}\\right)} m J_{m}(\\kappa \\rho) - {\\left({\\left(8 \\, B_{\\phi_{1}} \\cos\\left(h k_{1}\\right)^{6} - 12 \\, B_{\\phi_{1}} \\cos\\left(h k_{1}\\right)^{4} + 6 \\, B_{\\phi_{1}} \\cos\\left(h k_{1}\\right)^{2} - B_{\\phi_{1}}\\right)} \\kappa m^{3} J_{m - 1}(\\kappa \\rho) - {\\left(8 \\, A_{z_{1}} k_{1} \\cos\\left(h k_{1}\\right)^{6} - 12 \\, A_{z_{1}} k_{1} \\cos\\left(h k_{1}\\right)^{4} + 6 \\, A_{z_{1}} k_{1} \\cos\\left(h k_{1}\\right)^{2} - A_{z_{1}} k_{1}\\right)} \\kappa m^{2} J_{m - 1}(\\kappa \\rho) + 2 \\, {\\left(40 \\, B_{\\phi_{1}} k_{1}^{2} \\cos\\left(h k_{1}\\right)^{6} - 60 \\, B_{\\phi_{1}} k_{1}^{2} \\cos\\left(h k_{1}\\right)^{4} + 22 \\, B_{\\phi_{1}} k_{1}^{2} \\cos\\left(h k_{1}\\right)^{2} - B_{\\phi_{1}} k_{1}^{2} - {\\left(8 \\, B_{\\phi_{1}} \\cos\\left(h k_{1}\\right)^{6} - 12 \\, B_{\\phi_{1}} \\cos\\left(h k_{1}\\right)^{4} + 6 \\, B_{\\phi_{1}} \\cos\\left(h k_{1}\\right)^{2} - B_{\\phi_{1}}\\right)} \\kappa^{2}\\right)} m J_{m}(\\kappa \\rho) - {\\left({\\left(8 \\, B_{\\phi_{1}} \\cos\\left(h k_{1}\\right)^{6} - 12 \\, B_{\\phi_{1}} \\cos\\left(h k_{1}\\right)^{4} + 6 \\, B_{\\phi_{1}} \\cos\\left(h k_{1}\\right)^{2} - B_{\\phi_{1}}\\right)} \\kappa m^{3} - {\\left(8 \\, A_{z_{1}} k_{1} \\cos\\left(h k_{1}\\right)^{6} - 12 \\, A_{z_{1}} k_{1} \\cos\\left(h k_{1}\\right)^{4} + 6 \\, A_{z_{1}} k_{1} \\cos\\left(h k_{1}\\right)^{2} - A_{z_{1}} k_{1}\\right)} \\kappa m^{2}\\right)} J_{m + 1}(\\kappa \\rho)\\right)} r_{1}\\right)} \\rho\\right)} \\cos\\left(m \\varphi\\right) \\sin\\left(k_{1} z\\right)^{3}}{2 \\, {\\left(4 \\, {\\left({\\left(2 \\, \\cos\\left(h k_{1}\\right)^{6} - 3 \\, \\cos\\left(h k_{1}\\right)^{4} + \\cos\\left(h k_{1}\\right)^{2}\\right)} \\kappa^{2} \\mu_{1} r_{1} \\rho^{2} - {\\left(2 \\, \\cos\\left(h k_{1}\\right)^{6} - 3 \\, \\cos\\left(h k_{1}\\right)^{4} + \\cos\\left(h k_{1}\\right)^{2}\\right)} m^{2} \\mu_{1} r_{1} \\rho\\right)} \\cos\\left(k_{1} z\\right)^{2} + 4 \\, {\\left({\\left(4 \\, \\cos\\left(h k_{1}\\right)^{5} - 4 \\, \\cos\\left(h k_{1}\\right)^{3} + \\cos\\left(h k_{1}\\right)\\right)} \\kappa^{2} \\mu_{1} r_{1} \\rho^{2} \\sin\\left(h k_{1}\\right) - {\\left(4 \\, \\cos\\left(h k_{1}\\right)^{5} - 4 \\, \\cos\\left(h k_{1}\\right)^{3} + \\cos\\left(h k_{1}\\right)\\right)} m^{2} \\mu_{1} r_{1} \\rho \\sin\\left(h k_{1}\\right)\\right)} \\cos\\left(k_{1} z\\right) \\sin\\left(k_{1} z\\right) - {\\left({\\left(8 \\, \\cos\\left(h k_{1}\\right)^{6} - 12 \\, \\cos\\left(h k_{1}\\right)^{4} + 6 \\, \\cos\\left(h k_{1}\\right)^{2} - 1\\right)} \\kappa^{2} \\mu_{1} r_{1} \\rho^{2} - {\\left(8 \\, \\cos\\left(h k_{1}\\right)^{6} - 12 \\, \\cos\\left(h k_{1}\\right)^{4} + 6 \\, \\cos\\left(h k_{1}\\right)^{2} - 1\\right)} m^{2} \\mu_{1} r_{1} \\rho\\right)} \\sin\\left(k_{1} z\\right)^{2}\\right)}} = 0$$"
      ],
      "text/plain": [
       "<IPython.core.display.Math object>"
      ]
     },
     "metadata": {},
     "output_type": "display_data"
    },
    {
     "name": "stdout",
     "output_type": "stream",
     "text": [
      "var =\n"
     ]
    },
    {
     "data": {
      "text/latex": [
       "$$A_{z_{1}}$$"
      ],
      "text/plain": [
       "<IPython.core.display.Math object>"
      ]
     },
     "metadata": {},
     "output_type": "display_data"
    },
    {
     "name": "stdout",
     "output_type": "stream",
     "text": [
      "\n",
      "sol=\n"
     ]
    },
    {
     "data": {
      "text/latex": [
       "$$\\left[A_{z_{1}} = \\frac{2 \\, {\\left(8 \\, {\\left(B_{\\phi_{1}} \\cos\\left(h k_{1}\\right)^{5} - B_{\\phi_{1}} \\cos\\left(h k_{1}\\right)^{3}\\right)} m^{3} r_{1} J_{m}(\\kappa \\rho) \\sin\\left(h k_{1}\\right) - {\\left(4 \\, {\\left(5 \\, B_{\\phi_{1}} k_{1}^{2} \\cos\\left(h k_{1}\\right)^{5} - 5 \\, B_{\\phi_{1}} k_{1}^{2} \\cos\\left(h k_{1}\\right)^{3} + B_{\\phi_{1}} k_{1}^{2} \\cos\\left(h k_{1}\\right)\\right)} \\kappa m J_{m - 1}(\\kappa \\rho) \\sin\\left(h k_{1}\\right) - {\\left(12 \\, B_{z_{1}} k_{1}^{3} \\cos\\left(h k_{1}\\right)^{6} - 18 \\, B_{z_{1}} k_{1}^{3} \\cos\\left(h k_{1}\\right)^{4} + 8 \\, B_{z_{1}} k_{1}^{3} \\cos\\left(h k_{1}\\right)^{2} - B_{z_{1}} k_{1}^{3}\\right)} \\kappa J_{m - 1}(\\kappa \\rho) + {\\left(4 \\, {\\left({\\left(B_{\\phi_{1}} \\cos\\left(h k_{1}\\right)^{5} - B_{\\phi_{1}} \\cos\\left(h k_{1}\\right)^{3}\\right)} \\kappa^{3} \\sin\\left(h k_{1}\\right) - {\\left(5 \\, B_{\\phi_{1}} k_{1}^{2} \\cos\\left(h k_{1}\\right)^{5} - 5 \\, B_{\\phi_{1}} k_{1}^{2} \\cos\\left(h k_{1}\\right)^{3} + B_{\\phi_{1}} k_{1}^{2} \\cos\\left(h k_{1}\\right)\\right)} \\kappa \\sin\\left(h k_{1}\\right)\\right)} m J_{m - 1}(\\kappa \\rho) + {\\left(2 \\, {\\left(2 \\, B_{z_{1}} k_{1} \\cos\\left(h k_{1}\\right)^{6} - 3 \\, B_{z_{1}} k_{1} \\cos\\left(h k_{1}\\right)^{4} + B_{z_{1}} k_{1} \\cos\\left(h k_{1}\\right)^{2}\\right)} \\kappa^{3} - {\\left(12 \\, B_{z_{1}} k_{1}^{3} \\cos\\left(h k_{1}\\right)^{6} - 18 \\, B_{z_{1}} k_{1}^{3} \\cos\\left(h k_{1}\\right)^{4} + 8 \\, B_{z_{1}} k_{1}^{3} \\cos\\left(h k_{1}\\right)^{2} - B_{z_{1}} k_{1}^{3}\\right)} \\kappa - 4 \\, {\\left({\\left(B_{\\phi_{1}} \\cos\\left(h k_{1}\\right)^{5} - B_{\\phi_{1}} \\cos\\left(h k_{1}\\right)^{3}\\right)} \\kappa^{3} \\sin\\left(h k_{1}\\right) - {\\left(5 \\, B_{\\phi_{1}} k_{1}^{2} \\cos\\left(h k_{1}\\right)^{5} - 5 \\, B_{\\phi_{1}} k_{1}^{2} \\cos\\left(h k_{1}\\right)^{3} + B_{\\phi_{1}} k_{1}^{2} \\cos\\left(h k_{1}\\right)\\right)} \\kappa \\sin\\left(h k_{1}\\right)\\right)} m\\right)} J_{m + 1}(\\kappa \\rho) - {\\left(2 \\, {\\left(2 \\, B_{z_{1}} k_{1} \\cos\\left(h k_{1}\\right)^{6} - 3 \\, B_{z_{1}} k_{1} \\cos\\left(h k_{1}\\right)^{4} + B_{z_{1}} k_{1} \\cos\\left(h k_{1}\\right)^{2}\\right)} \\kappa^{3} - {\\left(12 \\, B_{z_{1}} k_{1}^{3} \\cos\\left(h k_{1}\\right)^{6} - 18 \\, B_{z_{1}} k_{1}^{3} \\cos\\left(h k_{1}\\right)^{4} + 8 \\, B_{z_{1}} k_{1}^{3} \\cos\\left(h k_{1}\\right)^{2} - B_{z_{1}} k_{1}^{3}\\right)} \\kappa\\right)} J_{m - 1}(\\kappa \\rho)\\right)} r_{1} - {\\left(4 \\, {\\left(5 \\, B_{\\phi_{1}} k_{1}^{2} \\cos\\left(h k_{1}\\right)^{5} - 5 \\, B_{\\phi_{1}} k_{1}^{2} \\cos\\left(h k_{1}\\right)^{3} + B_{\\phi_{1}} k_{1}^{2} \\cos\\left(h k_{1}\\right)\\right)} \\kappa m \\sin\\left(h k_{1}\\right) - {\\left(12 \\, B_{z_{1}} k_{1}^{3} \\cos\\left(h k_{1}\\right)^{6} - 18 \\, B_{z_{1}} k_{1}^{3} \\cos\\left(h k_{1}\\right)^{4} + 8 \\, B_{z_{1}} k_{1}^{3} \\cos\\left(h k_{1}\\right)^{2} - B_{z_{1}} k_{1}^{3}\\right)} \\kappa\\right)} J_{m + 1}(\\kappa \\rho)\\right)} \\rho^{2} - 2 \\, {\\left(4 \\, {\\left(5 \\, B_{\\phi_{1}} k_{1}^{2} \\cos\\left(h k_{1}\\right)^{5} - 5 \\, B_{\\phi_{1}} k_{1}^{2} \\cos\\left(h k_{1}\\right)^{3} + B_{\\phi_{1}} k_{1}^{2} \\cos\\left(h k_{1}\\right)\\right)} m J_{m}(\\kappa \\rho) \\sin\\left(h k_{1}\\right) - {\\left(2 \\, {\\left(B_{\\phi_{1}} \\cos\\left(h k_{1}\\right)^{5} - B_{\\phi_{1}} \\cos\\left(h k_{1}\\right)^{3}\\right)} \\kappa m^{3} J_{m - 1}(\\kappa \\rho) \\sin\\left(h k_{1}\\right) - {\\left(2 \\, B_{z_{1}} k_{1} \\cos\\left(h k_{1}\\right)^{6} - 3 \\, B_{z_{1}} k_{1} \\cos\\left(h k_{1}\\right)^{4} + B_{z_{1}} k_{1} \\cos\\left(h k_{1}\\right)^{2}\\right)} \\kappa m^{2} J_{m - 1}(\\kappa \\rho) - 4 \\, {\\left({\\left(B_{\\phi_{1}} \\cos\\left(h k_{1}\\right)^{5} - B_{\\phi_{1}} \\cos\\left(h k_{1}\\right)^{3}\\right)} \\kappa^{2} \\sin\\left(h k_{1}\\right) - {\\left(5 \\, B_{\\phi_{1}} k_{1}^{2} \\cos\\left(h k_{1}\\right)^{5} - 5 \\, B_{\\phi_{1}} k_{1}^{2} \\cos\\left(h k_{1}\\right)^{3} + B_{\\phi_{1}} k_{1}^{2} \\cos\\left(h k_{1}\\right)\\right)} \\sin\\left(h k_{1}\\right)\\right)} m J_{m}(\\kappa \\rho) - {\\left(2 \\, {\\left(B_{\\phi_{1}} \\cos\\left(h k_{1}\\right)^{5} - B_{\\phi_{1}} \\cos\\left(h k_{1}\\right)^{3}\\right)} \\kappa m^{3} \\sin\\left(h k_{1}\\right) - {\\left(2 \\, B_{z_{1}} k_{1} \\cos\\left(h k_{1}\\right)^{6} - 3 \\, B_{z_{1}} k_{1} \\cos\\left(h k_{1}\\right)^{4} + B_{z_{1}} k_{1} \\cos\\left(h k_{1}\\right)^{2}\\right)} \\kappa m^{2}\\right)} J_{m + 1}(\\kappa \\rho)\\right)} r_{1}\\right)} \\rho\\right)} \\cos\\left(k_{1} z\\right)^{3} - 4 \\, {\\left(6 \\, {\\left(2 \\, B_{\\phi_{1}} \\cos\\left(h k_{1}\\right)^{6} - 3 \\, B_{\\phi_{1}} \\cos\\left(h k_{1}\\right)^{4} + B_{\\phi_{1}} \\cos\\left(h k_{1}\\right)^{2}\\right)} m^{3} r_{1} J_{m}(\\kappa \\rho) - {\\left({\\left(30 \\, B_{\\phi_{1}} k_{1}^{2} \\cos\\left(h k_{1}\\right)^{6} - 45 \\, B_{\\phi_{1}} k_{1}^{2} \\cos\\left(h k_{1}\\right)^{4} + 17 \\, B_{\\phi_{1}} k_{1}^{2} \\cos\\left(h k_{1}\\right)^{2} - B_{\\phi_{1}} k_{1}^{2}\\right)} \\kappa m J_{m - 1}(\\kappa \\rho) + 4 \\, {\\left(4 \\, B_{z_{1}} k_{1}^{3} \\cos\\left(h k_{1}\\right)^{5} - 4 \\, B_{z_{1}} k_{1}^{3} \\cos\\left(h k_{1}\\right)^{3} + B_{z_{1}} k_{1}^{3} \\cos\\left(h k_{1}\\right)\\right)} \\kappa J_{m - 1}(\\kappa \\rho) \\sin\\left(h k_{1}\\right) + {\\left({\\left(3 \\, {\\left(2 \\, B_{\\phi_{1}} \\cos\\left(h k_{1}\\right)^{6} - 3 \\, B_{\\phi_{1}} \\cos\\left(h k_{1}\\right)^{4} + B_{\\phi_{1}} \\cos\\left(h k_{1}\\right)^{2}\\right)} \\kappa^{3} - {\\left(30 \\, B_{\\phi_{1}} k_{1}^{2} \\cos\\left(h k_{1}\\right)^{6} - 45 \\, B_{\\phi_{1}} k_{1}^{2} \\cos\\left(h k_{1}\\right)^{4} + 17 \\, B_{\\phi_{1}} k_{1}^{2} \\cos\\left(h k_{1}\\right)^{2} - B_{\\phi_{1}} k_{1}^{2}\\right)} \\kappa\\right)} m J_{m - 1}(\\kappa \\rho) - {\\left({\\left(4 \\, B_{z_{1}} k_{1} \\cos\\left(h k_{1}\\right)^{5} - 4 \\, B_{z_{1}} k_{1} \\cos\\left(h k_{1}\\right)^{3} + B_{z_{1}} k_{1} \\cos\\left(h k_{1}\\right)\\right)} \\kappa^{3} \\sin\\left(h k_{1}\\right) - 4 \\, {\\left(4 \\, B_{z_{1}} k_{1}^{3} \\cos\\left(h k_{1}\\right)^{5} - 4 \\, B_{z_{1}} k_{1}^{3} \\cos\\left(h k_{1}\\right)^{3} + B_{z_{1}} k_{1}^{3} \\cos\\left(h k_{1}\\right)\\right)} \\kappa \\sin\\left(h k_{1}\\right) + {\\left(3 \\, {\\left(2 \\, B_{\\phi_{1}} \\cos\\left(h k_{1}\\right)^{6} - 3 \\, B_{\\phi_{1}} \\cos\\left(h k_{1}\\right)^{4} + B_{\\phi_{1}} \\cos\\left(h k_{1}\\right)^{2}\\right)} \\kappa^{3} - {\\left(30 \\, B_{\\phi_{1}} k_{1}^{2} \\cos\\left(h k_{1}\\right)^{6} - 45 \\, B_{\\phi_{1}} k_{1}^{2} \\cos\\left(h k_{1}\\right)^{4} + 17 \\, B_{\\phi_{1}} k_{1}^{2} \\cos\\left(h k_{1}\\right)^{2} - B_{\\phi_{1}} k_{1}^{2}\\right)} \\kappa\\right)} m\\right)} J_{m + 1}(\\kappa \\rho) + {\\left({\\left(4 \\, B_{z_{1}} k_{1} \\cos\\left(h k_{1}\\right)^{5} - 4 \\, B_{z_{1}} k_{1} \\cos\\left(h k_{1}\\right)^{3} + B_{z_{1}} k_{1} \\cos\\left(h k_{1}\\right)\\right)} \\kappa^{3} \\sin\\left(h k_{1}\\right) - 4 \\, {\\left(4 \\, B_{z_{1}} k_{1}^{3} \\cos\\left(h k_{1}\\right)^{5} - 4 \\, B_{z_{1}} k_{1}^{3} \\cos\\left(h k_{1}\\right)^{3} + B_{z_{1}} k_{1}^{3} \\cos\\left(h k_{1}\\right)\\right)} \\kappa \\sin\\left(h k_{1}\\right)\\right)} J_{m - 1}(\\kappa \\rho)\\right)} r_{1} - {\\left({\\left(30 \\, B_{\\phi_{1}} k_{1}^{2} \\cos\\left(h k_{1}\\right)^{6} - 45 \\, B_{\\phi_{1}} k_{1}^{2} \\cos\\left(h k_{1}\\right)^{4} + 17 \\, B_{\\phi_{1}} k_{1}^{2} \\cos\\left(h k_{1}\\right)^{2} - B_{\\phi_{1}} k_{1}^{2}\\right)} \\kappa m + 4 \\, {\\left(4 \\, B_{z_{1}} k_{1}^{3} \\cos\\left(h k_{1}\\right)^{5} - 4 \\, B_{z_{1}} k_{1}^{3} \\cos\\left(h k_{1}\\right)^{3} + B_{z_{1}} k_{1}^{3} \\cos\\left(h k_{1}\\right)\\right)} \\kappa \\sin\\left(h k_{1}\\right)\\right)} J_{m + 1}(\\kappa \\rho)\\right)} \\rho^{2} - {\\left(2 \\, {\\left(30 \\, B_{\\phi_{1}} k_{1}^{2} \\cos\\left(h k_{1}\\right)^{6} - 45 \\, B_{\\phi_{1}} k_{1}^{2} \\cos\\left(h k_{1}\\right)^{4} + 17 \\, B_{\\phi_{1}} k_{1}^{2} \\cos\\left(h k_{1}\\right)^{2} - B_{\\phi_{1}} k_{1}^{2}\\right)} m J_{m}(\\kappa \\rho) - {\\left(3 \\, {\\left(2 \\, B_{\\phi_{1}} \\cos\\left(h k_{1}\\right)^{6} - 3 \\, B_{\\phi_{1}} \\cos\\left(h k_{1}\\right)^{4} + B_{\\phi_{1}} \\cos\\left(h k_{1}\\right)^{2}\\right)} \\kappa m^{3} J_{m - 1}(\\kappa \\rho) + {\\left(4 \\, B_{z_{1}} k_{1} \\cos\\left(h k_{1}\\right)^{5} - 4 \\, B_{z_{1}} k_{1} \\cos\\left(h k_{1}\\right)^{3} + B_{z_{1}} k_{1} \\cos\\left(h k_{1}\\right)\\right)} \\kappa m^{2} J_{m - 1}(\\kappa \\rho) \\sin\\left(h k_{1}\\right) + 2 \\, {\\left(30 \\, B_{\\phi_{1}} k_{1}^{2} \\cos\\left(h k_{1}\\right)^{6} - 45 \\, B_{\\phi_{1}} k_{1}^{2} \\cos\\left(h k_{1}\\right)^{4} + 17 \\, B_{\\phi_{1}} k_{1}^{2} \\cos\\left(h k_{1}\\right)^{2} - B_{\\phi_{1}} k_{1}^{2} - 3 \\, {\\left(2 \\, B_{\\phi_{1}} \\cos\\left(h k_{1}\\right)^{6} - 3 \\, B_{\\phi_{1}} \\cos\\left(h k_{1}\\right)^{4} + B_{\\phi_{1}} \\cos\\left(h k_{1}\\right)^{2}\\right)} \\kappa^{2}\\right)} m J_{m}(\\kappa \\rho) - {\\left(3 \\, {\\left(2 \\, B_{\\phi_{1}} \\cos\\left(h k_{1}\\right)^{6} - 3 \\, B_{\\phi_{1}} \\cos\\left(h k_{1}\\right)^{4} + B_{\\phi_{1}} \\cos\\left(h k_{1}\\right)^{2}\\right)} \\kappa m^{3} + {\\left(4 \\, B_{z_{1}} k_{1} \\cos\\left(h k_{1}\\right)^{5} - 4 \\, B_{z_{1}} k_{1} \\cos\\left(h k_{1}\\right)^{3} + B_{z_{1}} k_{1} \\cos\\left(h k_{1}\\right)\\right)} \\kappa m^{2} \\sin\\left(h k_{1}\\right)\\right)} J_{m + 1}(\\kappa \\rho)\\right)} r_{1}\\right)} \\rho\\right)} \\cos\\left(k_{1} z\\right)^{2} \\sin\\left(k_{1} z\\right) - {\\left(12 \\, {\\left(4 \\, B_{\\phi_{1}} \\cos\\left(h k_{1}\\right)^{5} - 4 \\, B_{\\phi_{1}} \\cos\\left(h k_{1}\\right)^{3} + B_{\\phi_{1}} \\cos\\left(h k_{1}\\right)\\right)} m^{3} r_{1} J_{m}(\\kappa \\rho) \\sin\\left(h k_{1}\\right) - {\\left(2 \\, {\\left(60 \\, B_{\\phi_{1}} k_{1}^{2} \\cos\\left(h k_{1}\\right)^{5} - 60 \\, B_{\\phi_{1}} k_{1}^{2} \\cos\\left(h k_{1}\\right)^{3} + 11 \\, B_{\\phi_{1}} k_{1}^{2} \\cos\\left(h k_{1}\\right)\\right)} \\kappa m J_{m - 1}(\\kappa \\rho) \\sin\\left(h k_{1}\\right) - {\\left(56 \\, B_{z_{1}} k_{1}^{3} \\cos\\left(h k_{1}\\right)^{6} - 84 \\, B_{z_{1}} k_{1}^{3} \\cos\\left(h k_{1}\\right)^{4} + 34 \\, B_{z_{1}} k_{1}^{3} \\cos\\left(h k_{1}\\right)^{2} - 3 \\, B_{z_{1}} k_{1}^{3}\\right)} \\kappa J_{m - 1}(\\kappa \\rho) + {\\left(2 \\, {\\left(3 \\, {\\left(4 \\, B_{\\phi_{1}} \\cos\\left(h k_{1}\\right)^{5} - 4 \\, B_{\\phi_{1}} \\cos\\left(h k_{1}\\right)^{3} + B_{\\phi_{1}} \\cos\\left(h k_{1}\\right)\\right)} \\kappa^{3} \\sin\\left(h k_{1}\\right) - {\\left(60 \\, B_{\\phi_{1}} k_{1}^{2} \\cos\\left(h k_{1}\\right)^{5} - 60 \\, B_{\\phi_{1}} k_{1}^{2} \\cos\\left(h k_{1}\\right)^{3} + 11 \\, B_{\\phi_{1}} k_{1}^{2} \\cos\\left(h k_{1}\\right)\\right)} \\kappa \\sin\\left(h k_{1}\\right)\\right)} m J_{m - 1}(\\kappa \\rho) + {\\left({\\left(8 \\, B_{z_{1}} k_{1} \\cos\\left(h k_{1}\\right)^{6} - 12 \\, B_{z_{1}} k_{1} \\cos\\left(h k_{1}\\right)^{4} + 6 \\, B_{z_{1}} k_{1} \\cos\\left(h k_{1}\\right)^{2} - B_{z_{1}} k_{1}\\right)} \\kappa^{3} - {\\left(56 \\, B_{z_{1}} k_{1}^{3} \\cos\\left(h k_{1}\\right)^{6} - 84 \\, B_{z_{1}} k_{1}^{3} \\cos\\left(h k_{1}\\right)^{4} + 34 \\, B_{z_{1}} k_{1}^{3} \\cos\\left(h k_{1}\\right)^{2} - 3 \\, B_{z_{1}} k_{1}^{3}\\right)} \\kappa - 2 \\, {\\left(3 \\, {\\left(4 \\, B_{\\phi_{1}} \\cos\\left(h k_{1}\\right)^{5} - 4 \\, B_{\\phi_{1}} \\cos\\left(h k_{1}\\right)^{3} + B_{\\phi_{1}} \\cos\\left(h k_{1}\\right)\\right)} \\kappa^{3} \\sin\\left(h k_{1}\\right) - {\\left(60 \\, B_{\\phi_{1}} k_{1}^{2} \\cos\\left(h k_{1}\\right)^{5} - 60 \\, B_{\\phi_{1}} k_{1}^{2} \\cos\\left(h k_{1}\\right)^{3} + 11 \\, B_{\\phi_{1}} k_{1}^{2} \\cos\\left(h k_{1}\\right)\\right)} \\kappa \\sin\\left(h k_{1}\\right)\\right)} m\\right)} J_{m + 1}(\\kappa \\rho) - {\\left({\\left(8 \\, B_{z_{1}} k_{1} \\cos\\left(h k_{1}\\right)^{6} - 12 \\, B_{z_{1}} k_{1} \\cos\\left(h k_{1}\\right)^{4} + 6 \\, B_{z_{1}} k_{1} \\cos\\left(h k_{1}\\right)^{2} - B_{z_{1}} k_{1}\\right)} \\kappa^{3} - {\\left(56 \\, B_{z_{1}} k_{1}^{3} \\cos\\left(h k_{1}\\right)^{6} - 84 \\, B_{z_{1}} k_{1}^{3} \\cos\\left(h k_{1}\\right)^{4} + 34 \\, B_{z_{1}} k_{1}^{3} \\cos\\left(h k_{1}\\right)^{2} - 3 \\, B_{z_{1}} k_{1}^{3}\\right)} \\kappa\\right)} J_{m - 1}(\\kappa \\rho)\\right)} r_{1} - {\\left(2 \\, {\\left(60 \\, B_{\\phi_{1}} k_{1}^{2} \\cos\\left(h k_{1}\\right)^{5} - 60 \\, B_{\\phi_{1}} k_{1}^{2} \\cos\\left(h k_{1}\\right)^{3} + 11 \\, B_{\\phi_{1}} k_{1}^{2} \\cos\\left(h k_{1}\\right)\\right)} \\kappa m \\sin\\left(h k_{1}\\right) - {\\left(56 \\, B_{z_{1}} k_{1}^{3} \\cos\\left(h k_{1}\\right)^{6} - 84 \\, B_{z_{1}} k_{1}^{3} \\cos\\left(h k_{1}\\right)^{4} + 34 \\, B_{z_{1}} k_{1}^{3} \\cos\\left(h k_{1}\\right)^{2} - 3 \\, B_{z_{1}} k_{1}^{3}\\right)} \\kappa\\right)} J_{m + 1}(\\kappa \\rho)\\right)} \\rho^{2} - {\\left(4 \\, {\\left(60 \\, B_{\\phi_{1}} k_{1}^{2} \\cos\\left(h k_{1}\\right)^{5} - 60 \\, B_{\\phi_{1}} k_{1}^{2} \\cos\\left(h k_{1}\\right)^{3} + 11 \\, B_{\\phi_{1}} k_{1}^{2} \\cos\\left(h k_{1}\\right)\\right)} m J_{m}(\\kappa \\rho) \\sin\\left(h k_{1}\\right) - {\\left(6 \\, {\\left(4 \\, B_{\\phi_{1}} \\cos\\left(h k_{1}\\right)^{5} - 4 \\, B_{\\phi_{1}} \\cos\\left(h k_{1}\\right)^{3} + B_{\\phi_{1}} \\cos\\left(h k_{1}\\right)\\right)} \\kappa m^{3} J_{m - 1}(\\kappa \\rho) \\sin\\left(h k_{1}\\right) - {\\left(8 \\, B_{z_{1}} k_{1} \\cos\\left(h k_{1}\\right)^{6} - 12 \\, B_{z_{1}} k_{1} \\cos\\left(h k_{1}\\right)^{4} + 6 \\, B_{z_{1}} k_{1} \\cos\\left(h k_{1}\\right)^{2} - B_{z_{1}} k_{1}\\right)} \\kappa m^{2} J_{m - 1}(\\kappa \\rho) - 4 \\, {\\left(3 \\, {\\left(4 \\, B_{\\phi_{1}} \\cos\\left(h k_{1}\\right)^{5} - 4 \\, B_{\\phi_{1}} \\cos\\left(h k_{1}\\right)^{3} + B_{\\phi_{1}} \\cos\\left(h k_{1}\\right)\\right)} \\kappa^{2} \\sin\\left(h k_{1}\\right) - {\\left(60 \\, B_{\\phi_{1}} k_{1}^{2} \\cos\\left(h k_{1}\\right)^{5} - 60 \\, B_{\\phi_{1}} k_{1}^{2} \\cos\\left(h k_{1}\\right)^{3} + 11 \\, B_{\\phi_{1}} k_{1}^{2} \\cos\\left(h k_{1}\\right)\\right)} \\sin\\left(h k_{1}\\right)\\right)} m J_{m}(\\kappa \\rho) - {\\left(6 \\, {\\left(4 \\, B_{\\phi_{1}} \\cos\\left(h k_{1}\\right)^{5} - 4 \\, B_{\\phi_{1}} \\cos\\left(h k_{1}\\right)^{3} + B_{\\phi_{1}} \\cos\\left(h k_{1}\\right)\\right)} \\kappa m^{3} \\sin\\left(h k_{1}\\right) - {\\left(8 \\, B_{z_{1}} k_{1} \\cos\\left(h k_{1}\\right)^{6} - 12 \\, B_{z_{1}} k_{1} \\cos\\left(h k_{1}\\right)^{4} + 6 \\, B_{z_{1}} k_{1} \\cos\\left(h k_{1}\\right)^{2} - B_{z_{1}} k_{1}\\right)} \\kappa m^{2}\\right)} J_{m + 1}(\\kappa \\rho)\\right)} r_{1}\\right)} \\rho\\right)} \\cos\\left(k_{1} z\\right) \\sin\\left(k_{1} z\\right)^{2} + {\\left(2 \\, {\\left(8 \\, B_{\\phi_{1}} \\cos\\left(h k_{1}\\right)^{6} - 12 \\, B_{\\phi_{1}} \\cos\\left(h k_{1}\\right)^{4} + 6 \\, B_{\\phi_{1}} \\cos\\left(h k_{1}\\right)^{2} - B_{\\phi_{1}}\\right)} m^{3} r_{1} J_{m}(\\kappa \\rho) - {\\left({\\left(40 \\, B_{\\phi_{1}} k_{1}^{2} \\cos\\left(h k_{1}\\right)^{6} - 60 \\, B_{\\phi_{1}} k_{1}^{2} \\cos\\left(h k_{1}\\right)^{4} + 22 \\, B_{\\phi_{1}} k_{1}^{2} \\cos\\left(h k_{1}\\right)^{2} - B_{\\phi_{1}} k_{1}^{2}\\right)} \\kappa m J_{m - 1}(\\kappa \\rho) + 4 \\, {\\left(4 \\, B_{z_{1}} k_{1}^{3} \\cos\\left(h k_{1}\\right)^{5} - 4 \\, B_{z_{1}} k_{1}^{3} \\cos\\left(h k_{1}\\right)^{3} + B_{z_{1}} k_{1}^{3} \\cos\\left(h k_{1}\\right)\\right)} \\kappa J_{m - 1}(\\kappa \\rho) \\sin\\left(h k_{1}\\right) - {\\left(4 \\, {\\left(4 \\, B_{z_{1}} k_{1}^{3} \\cos\\left(h k_{1}\\right)^{5} - 4 \\, B_{z_{1}} k_{1}^{3} \\cos\\left(h k_{1}\\right)^{3} + B_{z_{1}} k_{1}^{3} \\cos\\left(h k_{1}\\right)\\right)} \\kappa J_{m - 1}(\\kappa \\rho) \\sin\\left(h k_{1}\\right) - {\\left({\\left(8 \\, B_{\\phi_{1}} \\cos\\left(h k_{1}\\right)^{6} - 12 \\, B_{\\phi_{1}} \\cos\\left(h k_{1}\\right)^{4} + 6 \\, B_{\\phi_{1}} \\cos\\left(h k_{1}\\right)^{2} - B_{\\phi_{1}}\\right)} \\kappa^{3} - {\\left(40 \\, B_{\\phi_{1}} k_{1}^{2} \\cos\\left(h k_{1}\\right)^{6} - 60 \\, B_{\\phi_{1}} k_{1}^{2} \\cos\\left(h k_{1}\\right)^{4} + 22 \\, B_{\\phi_{1}} k_{1}^{2} \\cos\\left(h k_{1}\\right)^{2} - B_{\\phi_{1}} k_{1}^{2}\\right)} \\kappa\\right)} m J_{m - 1}(\\kappa \\rho) - {\\left(4 \\, {\\left(4 \\, B_{z_{1}} k_{1}^{3} \\cos\\left(h k_{1}\\right)^{5} - 4 \\, B_{z_{1}} k_{1}^{3} \\cos\\left(h k_{1}\\right)^{3} + B_{z_{1}} k_{1}^{3} \\cos\\left(h k_{1}\\right)\\right)} \\kappa \\sin\\left(h k_{1}\\right) - {\\left({\\left(8 \\, B_{\\phi_{1}} \\cos\\left(h k_{1}\\right)^{6} - 12 \\, B_{\\phi_{1}} \\cos\\left(h k_{1}\\right)^{4} + 6 \\, B_{\\phi_{1}} \\cos\\left(h k_{1}\\right)^{2} - B_{\\phi_{1}}\\right)} \\kappa^{3} - {\\left(40 \\, B_{\\phi_{1}} k_{1}^{2} \\cos\\left(h k_{1}\\right)^{6} - 60 \\, B_{\\phi_{1}} k_{1}^{2} \\cos\\left(h k_{1}\\right)^{4} + 22 \\, B_{\\phi_{1}} k_{1}^{2} \\cos\\left(h k_{1}\\right)^{2} - B_{\\phi_{1}} k_{1}^{2}\\right)} \\kappa\\right)} m\\right)} J_{m + 1}(\\kappa \\rho)\\right)} r_{1} - {\\left({\\left(40 \\, B_{\\phi_{1}} k_{1}^{2} \\cos\\left(h k_{1}\\right)^{6} - 60 \\, B_{\\phi_{1}} k_{1}^{2} \\cos\\left(h k_{1}\\right)^{4} + 22 \\, B_{\\phi_{1}} k_{1}^{2} \\cos\\left(h k_{1}\\right)^{2} - B_{\\phi_{1}} k_{1}^{2}\\right)} \\kappa m + 4 \\, {\\left(4 \\, B_{z_{1}} k_{1}^{3} \\cos\\left(h k_{1}\\right)^{5} - 4 \\, B_{z_{1}} k_{1}^{3} \\cos\\left(h k_{1}\\right)^{3} + B_{z_{1}} k_{1}^{3} \\cos\\left(h k_{1}\\right)\\right)} \\kappa \\sin\\left(h k_{1}\\right)\\right)} J_{m + 1}(\\kappa \\rho)\\right)} \\rho^{2} - {\\left(2 \\, {\\left(40 \\, B_{\\phi_{1}} k_{1}^{2} \\cos\\left(h k_{1}\\right)^{6} - 60 \\, B_{\\phi_{1}} k_{1}^{2} \\cos\\left(h k_{1}\\right)^{4} + 22 \\, B_{\\phi_{1}} k_{1}^{2} \\cos\\left(h k_{1}\\right)^{2} - B_{\\phi_{1}} k_{1}^{2}\\right)} m J_{m}(\\kappa \\rho) + {\\left({\\left(8 \\, B_{\\phi_{1}} \\cos\\left(h k_{1}\\right)^{6} - 12 \\, B_{\\phi_{1}} \\cos\\left(h k_{1}\\right)^{4} + 6 \\, B_{\\phi_{1}} \\cos\\left(h k_{1}\\right)^{2} - B_{\\phi_{1}}\\right)} \\kappa m^{3} J_{m + 1}(\\kappa \\rho) - {\\left(8 \\, B_{\\phi_{1}} \\cos\\left(h k_{1}\\right)^{6} - 12 \\, B_{\\phi_{1}} \\cos\\left(h k_{1}\\right)^{4} + 6 \\, B_{\\phi_{1}} \\cos\\left(h k_{1}\\right)^{2} - B_{\\phi_{1}}\\right)} \\kappa m^{3} J_{m - 1}(\\kappa \\rho) - 2 \\, {\\left(40 \\, B_{\\phi_{1}} k_{1}^{2} \\cos\\left(h k_{1}\\right)^{6} - 60 \\, B_{\\phi_{1}} k_{1}^{2} \\cos\\left(h k_{1}\\right)^{4} + 22 \\, B_{\\phi_{1}} k_{1}^{2} \\cos\\left(h k_{1}\\right)^{2} - B_{\\phi_{1}} k_{1}^{2} - {\\left(8 \\, B_{\\phi_{1}} \\cos\\left(h k_{1}\\right)^{6} - 12 \\, B_{\\phi_{1}} \\cos\\left(h k_{1}\\right)^{4} + 6 \\, B_{\\phi_{1}} \\cos\\left(h k_{1}\\right)^{2} - B_{\\phi_{1}}\\right)} \\kappa^{2}\\right)} m J_{m}(\\kappa \\rho)\\right)} r_{1}\\right)} \\rho\\right)} \\sin\\left(k_{1} z\\right)^{3}}{4 \\, {\\left({\\left(4 \\, k_{1}^{3} \\cos\\left(h k_{1}\\right)^{5} - 4 \\, k_{1}^{3} \\cos\\left(h k_{1}\\right)^{3} + k_{1}^{3} \\cos\\left(h k_{1}\\right)\\right)} \\kappa J_{m + 1}(\\kappa \\rho) \\sin\\left(h k_{1}\\right) - {\\left(4 \\, k_{1}^{3} \\cos\\left(h k_{1}\\right)^{5} - 4 \\, k_{1}^{3} \\cos\\left(h k_{1}\\right)^{3} + k_{1}^{3} \\cos\\left(h k_{1}\\right)\\right)} \\kappa J_{m - 1}(\\kappa \\rho) \\sin\\left(h k_{1}\\right) - {\\left({\\left(4 \\, k_{1}^{3} \\cos\\left(h k_{1}\\right)^{5} - 4 \\, k_{1}^{3} \\cos\\left(h k_{1}\\right)^{3} + k_{1}^{3} \\cos\\left(h k_{1}\\right)\\right)} \\kappa J_{m + 1}(\\kappa \\rho) \\sin\\left(h k_{1}\\right) - {\\left(4 \\, k_{1}^{3} \\cos\\left(h k_{1}\\right)^{5} - 4 \\, k_{1}^{3} \\cos\\left(h k_{1}\\right)^{3} + k_{1}^{3} \\cos\\left(h k_{1}\\right)\\right)} \\kappa J_{m - 1}(\\kappa \\rho) \\sin\\left(h k_{1}\\right)\\right)} r_{1}\\right)} \\rho^{2} \\cos\\left(k_{1} z\\right)^{3} + 4 \\, {\\left({\\left({\\left(2 \\, k_{1} \\cos\\left(h k_{1}\\right)^{6} - 3 \\, k_{1} \\cos\\left(h k_{1}\\right)^{4} + k_{1} \\cos\\left(h k_{1}\\right)^{2}\\right)} \\kappa m^{2} J_{m + 1}(\\kappa \\rho) - {\\left(2 \\, k_{1} \\cos\\left(h k_{1}\\right)^{6} - 3 \\, k_{1} \\cos\\left(h k_{1}\\right)^{4} + k_{1} \\cos\\left(h k_{1}\\right)^{2}\\right)} \\kappa m^{2} J_{m - 1}(\\kappa \\rho)\\right)} r_{1} \\rho - {\\left({\\left(14 \\, k_{1}^{3} \\cos\\left(h k_{1}\\right)^{6} - 21 \\, k_{1}^{3} \\cos\\left(h k_{1}\\right)^{4} + 9 \\, k_{1}^{3} \\cos\\left(h k_{1}\\right)^{2} - k_{1}^{3}\\right)} \\kappa J_{m + 1}(\\kappa \\rho) - {\\left(14 \\, k_{1}^{3} \\cos\\left(h k_{1}\\right)^{6} - 21 \\, k_{1}^{3} \\cos\\left(h k_{1}\\right)^{4} + 9 \\, k_{1}^{3} \\cos\\left(h k_{1}\\right)^{2} - k_{1}^{3}\\right)} \\kappa J_{m - 1}(\\kappa \\rho) + {\\left({\\left({\\left(2 \\, k_{1} \\cos\\left(h k_{1}\\right)^{6} - 3 \\, k_{1} \\cos\\left(h k_{1}\\right)^{4} + k_{1} \\cos\\left(h k_{1}\\right)^{2}\\right)} \\kappa^{3} - {\\left(14 \\, k_{1}^{3} \\cos\\left(h k_{1}\\right)^{6} - 21 \\, k_{1}^{3} \\cos\\left(h k_{1}\\right)^{4} + 9 \\, k_{1}^{3} \\cos\\left(h k_{1}\\right)^{2} - k_{1}^{3}\\right)} \\kappa\\right)} J_{m + 1}(\\kappa \\rho) - {\\left({\\left(2 \\, k_{1} \\cos\\left(h k_{1}\\right)^{6} - 3 \\, k_{1} \\cos\\left(h k_{1}\\right)^{4} + k_{1} \\cos\\left(h k_{1}\\right)^{2}\\right)} \\kappa^{3} - {\\left(14 \\, k_{1}^{3} \\cos\\left(h k_{1}\\right)^{6} - 21 \\, k_{1}^{3} \\cos\\left(h k_{1}\\right)^{4} + 9 \\, k_{1}^{3} \\cos\\left(h k_{1}\\right)^{2} - k_{1}^{3}\\right)} \\kappa\\right)} J_{m - 1}(\\kappa \\rho)\\right)} r_{1}\\right)} \\rho^{2}\\right)} \\cos\\left(k_{1} z\\right)^{2} \\sin\\left(k_{1} z\\right) + 4 \\, {\\left({\\left({\\left(4 \\, k_{1} \\cos\\left(h k_{1}\\right)^{5} - 4 \\, k_{1} \\cos\\left(h k_{1}\\right)^{3} + k_{1} \\cos\\left(h k_{1}\\right)\\right)} \\kappa m^{2} J_{m + 1}(\\kappa \\rho) \\sin\\left(h k_{1}\\right) - {\\left(4 \\, k_{1} \\cos\\left(h k_{1}\\right)^{5} - 4 \\, k_{1} \\cos\\left(h k_{1}\\right)^{3} + k_{1} \\cos\\left(h k_{1}\\right)\\right)} \\kappa m^{2} J_{m - 1}(\\kappa \\rho) \\sin\\left(h k_{1}\\right)\\right)} r_{1} \\rho - {\\left(4 \\, {\\left(4 \\, k_{1}^{3} \\cos\\left(h k_{1}\\right)^{5} - 4 \\, k_{1}^{3} \\cos\\left(h k_{1}\\right)^{3} + k_{1}^{3} \\cos\\left(h k_{1}\\right)\\right)} \\kappa J_{m + 1}(\\kappa \\rho) \\sin\\left(h k_{1}\\right) - 4 \\, {\\left(4 \\, k_{1}^{3} \\cos\\left(h k_{1}\\right)^{5} - 4 \\, k_{1}^{3} \\cos\\left(h k_{1}\\right)^{3} + k_{1}^{3} \\cos\\left(h k_{1}\\right)\\right)} \\kappa J_{m - 1}(\\kappa \\rho) \\sin\\left(h k_{1}\\right) + {\\left({\\left({\\left(4 \\, k_{1} \\cos\\left(h k_{1}\\right)^{5} - 4 \\, k_{1} \\cos\\left(h k_{1}\\right)^{3} + k_{1} \\cos\\left(h k_{1}\\right)\\right)} \\kappa^{3} \\sin\\left(h k_{1}\\right) - 4 \\, {\\left(4 \\, k_{1}^{3} \\cos\\left(h k_{1}\\right)^{5} - 4 \\, k_{1}^{3} \\cos\\left(h k_{1}\\right)^{3} + k_{1}^{3} \\cos\\left(h k_{1}\\right)\\right)} \\kappa \\sin\\left(h k_{1}\\right)\\right)} J_{m + 1}(\\kappa \\rho) - {\\left({\\left(4 \\, k_{1} \\cos\\left(h k_{1}\\right)^{5} - 4 \\, k_{1} \\cos\\left(h k_{1}\\right)^{3} + k_{1} \\cos\\left(h k_{1}\\right)\\right)} \\kappa^{3} \\sin\\left(h k_{1}\\right) - 4 \\, {\\left(4 \\, k_{1}^{3} \\cos\\left(h k_{1}\\right)^{5} - 4 \\, k_{1}^{3} \\cos\\left(h k_{1}\\right)^{3} + k_{1}^{3} \\cos\\left(h k_{1}\\right)\\right)} \\kappa \\sin\\left(h k_{1}\\right)\\right)} J_{m - 1}(\\kappa \\rho)\\right)} r_{1}\\right)} \\rho^{2}\\right)} \\cos\\left(k_{1} z\\right) \\sin\\left(k_{1} z\\right)^{2} - {\\left({\\left({\\left(8 \\, k_{1} \\cos\\left(h k_{1}\\right)^{6} - 12 \\, k_{1} \\cos\\left(h k_{1}\\right)^{4} + 6 \\, k_{1} \\cos\\left(h k_{1}\\right)^{2} - k_{1}\\right)} \\kappa m^{2} J_{m + 1}(\\kappa \\rho) - {\\left(8 \\, k_{1} \\cos\\left(h k_{1}\\right)^{6} - 12 \\, k_{1} \\cos\\left(h k_{1}\\right)^{4} + 6 \\, k_{1} \\cos\\left(h k_{1}\\right)^{2} - k_{1}\\right)} \\kappa m^{2} J_{m - 1}(\\kappa \\rho)\\right)} r_{1} \\rho - {\\left({\\left(24 \\, k_{1}^{3} \\cos\\left(h k_{1}\\right)^{6} - 36 \\, k_{1}^{3} \\cos\\left(h k_{1}\\right)^{4} + 14 \\, k_{1}^{3} \\cos\\left(h k_{1}\\right)^{2} - k_{1}^{3}\\right)} \\kappa J_{m + 1}(\\kappa \\rho) - {\\left(24 \\, k_{1}^{3} \\cos\\left(h k_{1}\\right)^{6} - 36 \\, k_{1}^{3} \\cos\\left(h k_{1}\\right)^{4} + 14 \\, k_{1}^{3} \\cos\\left(h k_{1}\\right)^{2} - k_{1}^{3}\\right)} \\kappa J_{m - 1}(\\kappa \\rho) + {\\left({\\left({\\left(8 \\, k_{1} \\cos\\left(h k_{1}\\right)^{6} - 12 \\, k_{1} \\cos\\left(h k_{1}\\right)^{4} + 6 \\, k_{1} \\cos\\left(h k_{1}\\right)^{2} - k_{1}\\right)} \\kappa^{3} - {\\left(24 \\, k_{1}^{3} \\cos\\left(h k_{1}\\right)^{6} - 36 \\, k_{1}^{3} \\cos\\left(h k_{1}\\right)^{4} + 14 \\, k_{1}^{3} \\cos\\left(h k_{1}\\right)^{2} - k_{1}^{3}\\right)} \\kappa\\right)} J_{m + 1}(\\kappa \\rho) - {\\left({\\left(8 \\, k_{1} \\cos\\left(h k_{1}\\right)^{6} - 12 \\, k_{1} \\cos\\left(h k_{1}\\right)^{4} + 6 \\, k_{1} \\cos\\left(h k_{1}\\right)^{2} - k_{1}\\right)} \\kappa^{3} - {\\left(24 \\, k_{1}^{3} \\cos\\left(h k_{1}\\right)^{6} - 36 \\, k_{1}^{3} \\cos\\left(h k_{1}\\right)^{4} + 14 \\, k_{1}^{3} \\cos\\left(h k_{1}\\right)^{2} - k_{1}^{3}\\right)} \\kappa\\right)} J_{m - 1}(\\kappa \\rho)\\right)} r_{1}\\right)} \\rho^{2}\\right)} \\sin\\left(k_{1} z\\right)^{3}}\\right]$$"
      ],
      "text/plain": [
       "<IPython.core.display.Math object>"
      ]
     },
     "metadata": {},
     "output_type": "display_data"
    },
    {
     "name": "stdout",
     "output_type": "stream",
     "text": [
      "\n",
      "var =\n"
     ]
    },
    {
     "data": {
      "text/latex": [
       "$$B_{\\phi_{1}}$$"
      ],
      "text/plain": [
       "<IPython.core.display.Math object>"
      ]
     },
     "metadata": {},
     "output_type": "display_data"
    },
    {
     "name": "stdout",
     "output_type": "stream",
     "text": [
      "\n",
      "sol=\n"
     ]
    },
    {
     "data": {
      "text/latex": [
       "$$\\left[B_{\\phi_{1}} = -\\frac{2 \\, {\\left(2 \\, {\\left({\\left(2 \\, B_{z_{1}} k_{1} \\cos\\left(h k_{1}\\right)^{6} - 3 \\, B_{z_{1}} k_{1} \\cos\\left(h k_{1}\\right)^{4} + B_{z_{1}} k_{1} \\cos\\left(h k_{1}\\right)^{2}\\right)} \\kappa m^{2} J_{m + 1}(\\kappa \\rho) - {\\left(2 \\, B_{z_{1}} k_{1} \\cos\\left(h k_{1}\\right)^{6} - 3 \\, B_{z_{1}} k_{1} \\cos\\left(h k_{1}\\right)^{4} + B_{z_{1}} k_{1} \\cos\\left(h k_{1}\\right)^{2}\\right)} \\kappa m^{2} J_{m - 1}(\\kappa \\rho)\\right)} r_{1} \\rho - {\\left({\\left(12 \\, B_{z_{1}} k_{1}^{3} \\cos\\left(h k_{1}\\right)^{6} - 18 \\, B_{z_{1}} k_{1}^{3} \\cos\\left(h k_{1}\\right)^{4} + 8 \\, B_{z_{1}} k_{1}^{3} \\cos\\left(h k_{1}\\right)^{2} - B_{z_{1}} k_{1}^{3} + 2 \\, {\\left(4 \\, A_{z_{1}} k_{1}^{3} \\cos\\left(h k_{1}\\right)^{5} - 4 \\, A_{z_{1}} k_{1}^{3} \\cos\\left(h k_{1}\\right)^{3} + A_{z_{1}} k_{1}^{3} \\cos\\left(h k_{1}\\right)\\right)} \\sin\\left(h k_{1}\\right)\\right)} \\kappa J_{m + 1}(\\kappa \\rho) - {\\left(12 \\, B_{z_{1}} k_{1}^{3} \\cos\\left(h k_{1}\\right)^{6} - 18 \\, B_{z_{1}} k_{1}^{3} \\cos\\left(h k_{1}\\right)^{4} + 8 \\, B_{z_{1}} k_{1}^{3} \\cos\\left(h k_{1}\\right)^{2} - B_{z_{1}} k_{1}^{3} + 2 \\, {\\left(4 \\, A_{z_{1}} k_{1}^{3} \\cos\\left(h k_{1}\\right)^{5} - 4 \\, A_{z_{1}} k_{1}^{3} \\cos\\left(h k_{1}\\right)^{3} + A_{z_{1}} k_{1}^{3} \\cos\\left(h k_{1}\\right)\\right)} \\sin\\left(h k_{1}\\right)\\right)} \\kappa J_{m - 1}(\\kappa \\rho) + {\\left({\\left(2 \\, {\\left(2 \\, B_{z_{1}} k_{1} \\cos\\left(h k_{1}\\right)^{6} - 3 \\, B_{z_{1}} k_{1} \\cos\\left(h k_{1}\\right)^{4} + B_{z_{1}} k_{1} \\cos\\left(h k_{1}\\right)^{2}\\right)} \\kappa^{3} - {\\left(12 \\, B_{z_{1}} k_{1}^{3} \\cos\\left(h k_{1}\\right)^{6} - 18 \\, B_{z_{1}} k_{1}^{3} \\cos\\left(h k_{1}\\right)^{4} + 8 \\, B_{z_{1}} k_{1}^{3} \\cos\\left(h k_{1}\\right)^{2} - B_{z_{1}} k_{1}^{3} + 2 \\, {\\left(4 \\, A_{z_{1}} k_{1}^{3} \\cos\\left(h k_{1}\\right)^{5} - 4 \\, A_{z_{1}} k_{1}^{3} \\cos\\left(h k_{1}\\right)^{3} + A_{z_{1}} k_{1}^{3} \\cos\\left(h k_{1}\\right)\\right)} \\sin\\left(h k_{1}\\right)\\right)} \\kappa\\right)} J_{m + 1}(\\kappa \\rho) - {\\left(2 \\, {\\left(2 \\, B_{z_{1}} k_{1} \\cos\\left(h k_{1}\\right)^{6} - 3 \\, B_{z_{1}} k_{1} \\cos\\left(h k_{1}\\right)^{4} + B_{z_{1}} k_{1} \\cos\\left(h k_{1}\\right)^{2}\\right)} \\kappa^{3} - {\\left(12 \\, B_{z_{1}} k_{1}^{3} \\cos\\left(h k_{1}\\right)^{6} - 18 \\, B_{z_{1}} k_{1}^{3} \\cos\\left(h k_{1}\\right)^{4} + 8 \\, B_{z_{1}} k_{1}^{3} \\cos\\left(h k_{1}\\right)^{2} - B_{z_{1}} k_{1}^{3} + 2 \\, {\\left(4 \\, A_{z_{1}} k_{1}^{3} \\cos\\left(h k_{1}\\right)^{5} - 4 \\, A_{z_{1}} k_{1}^{3} \\cos\\left(h k_{1}\\right)^{3} + A_{z_{1}} k_{1}^{3} \\cos\\left(h k_{1}\\right)\\right)} \\sin\\left(h k_{1}\\right)\\right)} \\kappa\\right)} J_{m - 1}(\\kappa \\rho)\\right)} r_{1}\\right)} \\rho^{2}\\right)} \\cos\\left(k_{1} z\\right)^{3} - 4 \\, {\\left({\\left({\\left(2 \\, A_{z_{1}} k_{1} \\cos\\left(h k_{1}\\right)^{6} - 3 \\, A_{z_{1}} k_{1} \\cos\\left(h k_{1}\\right)^{4} + A_{z_{1}} k_{1} \\cos\\left(h k_{1}\\right)^{2} - {\\left(4 \\, B_{z_{1}} k_{1} \\cos\\left(h k_{1}\\right)^{5} - 4 \\, B_{z_{1}} k_{1} \\cos\\left(h k_{1}\\right)^{3} + B_{z_{1}} k_{1} \\cos\\left(h k_{1}\\right)\\right)} \\sin\\left(h k_{1}\\right)\\right)} \\kappa m^{2} J_{m + 1}(\\kappa \\rho) - {\\left(2 \\, A_{z_{1}} k_{1} \\cos\\left(h k_{1}\\right)^{6} - 3 \\, A_{z_{1}} k_{1} \\cos\\left(h k_{1}\\right)^{4} + A_{z_{1}} k_{1} \\cos\\left(h k_{1}\\right)^{2} - {\\left(4 \\, B_{z_{1}} k_{1} \\cos\\left(h k_{1}\\right)^{5} - 4 \\, B_{z_{1}} k_{1} \\cos\\left(h k_{1}\\right)^{3} + B_{z_{1}} k_{1} \\cos\\left(h k_{1}\\right)\\right)} \\sin\\left(h k_{1}\\right)\\right)} \\kappa m^{2} J_{m - 1}(\\kappa \\rho)\\right)} r_{1} \\rho - {\\left({\\left(14 \\, A_{z_{1}} k_{1}^{3} \\cos\\left(h k_{1}\\right)^{6} - 21 \\, A_{z_{1}} k_{1}^{3} \\cos\\left(h k_{1}\\right)^{4} + 9 \\, A_{z_{1}} k_{1}^{3} \\cos\\left(h k_{1}\\right)^{2} - A_{z_{1}} k_{1}^{3} - 4 \\, {\\left(4 \\, B_{z_{1}} k_{1}^{3} \\cos\\left(h k_{1}\\right)^{5} - 4 \\, B_{z_{1}} k_{1}^{3} \\cos\\left(h k_{1}\\right)^{3} + B_{z_{1}} k_{1}^{3} \\cos\\left(h k_{1}\\right)\\right)} \\sin\\left(h k_{1}\\right)\\right)} \\kappa J_{m + 1}(\\kappa \\rho) - {\\left(14 \\, A_{z_{1}} k_{1}^{3} \\cos\\left(h k_{1}\\right)^{6} - 21 \\, A_{z_{1}} k_{1}^{3} \\cos\\left(h k_{1}\\right)^{4} + 9 \\, A_{z_{1}} k_{1}^{3} \\cos\\left(h k_{1}\\right)^{2} - A_{z_{1}} k_{1}^{3} - 4 \\, {\\left(4 \\, B_{z_{1}} k_{1}^{3} \\cos\\left(h k_{1}\\right)^{5} - 4 \\, B_{z_{1}} k_{1}^{3} \\cos\\left(h k_{1}\\right)^{3} + B_{z_{1}} k_{1}^{3} \\cos\\left(h k_{1}\\right)\\right)} \\sin\\left(h k_{1}\\right)\\right)} \\kappa J_{m - 1}(\\kappa \\rho) + {\\left({\\left({\\left(2 \\, A_{z_{1}} k_{1} \\cos\\left(h k_{1}\\right)^{6} - 3 \\, A_{z_{1}} k_{1} \\cos\\left(h k_{1}\\right)^{4} + A_{z_{1}} k_{1} \\cos\\left(h k_{1}\\right)^{2} - {\\left(4 \\, B_{z_{1}} k_{1} \\cos\\left(h k_{1}\\right)^{5} - 4 \\, B_{z_{1}} k_{1} \\cos\\left(h k_{1}\\right)^{3} + B_{z_{1}} k_{1} \\cos\\left(h k_{1}\\right)\\right)} \\sin\\left(h k_{1}\\right)\\right)} \\kappa^{3} - {\\left(14 \\, A_{z_{1}} k_{1}^{3} \\cos\\left(h k_{1}\\right)^{6} - 21 \\, A_{z_{1}} k_{1}^{3} \\cos\\left(h k_{1}\\right)^{4} + 9 \\, A_{z_{1}} k_{1}^{3} \\cos\\left(h k_{1}\\right)^{2} - A_{z_{1}} k_{1}^{3} - 4 \\, {\\left(4 \\, B_{z_{1}} k_{1}^{3} \\cos\\left(h k_{1}\\right)^{5} - 4 \\, B_{z_{1}} k_{1}^{3} \\cos\\left(h k_{1}\\right)^{3} + B_{z_{1}} k_{1}^{3} \\cos\\left(h k_{1}\\right)\\right)} \\sin\\left(h k_{1}\\right)\\right)} \\kappa\\right)} J_{m + 1}(\\kappa \\rho) - {\\left({\\left(2 \\, A_{z_{1}} k_{1} \\cos\\left(h k_{1}\\right)^{6} - 3 \\, A_{z_{1}} k_{1} \\cos\\left(h k_{1}\\right)^{4} + A_{z_{1}} k_{1} \\cos\\left(h k_{1}\\right)^{2} - {\\left(4 \\, B_{z_{1}} k_{1} \\cos\\left(h k_{1}\\right)^{5} - 4 \\, B_{z_{1}} k_{1} \\cos\\left(h k_{1}\\right)^{3} + B_{z_{1}} k_{1} \\cos\\left(h k_{1}\\right)\\right)} \\sin\\left(h k_{1}\\right)\\right)} \\kappa^{3} - {\\left(14 \\, A_{z_{1}} k_{1}^{3} \\cos\\left(h k_{1}\\right)^{6} - 21 \\, A_{z_{1}} k_{1}^{3} \\cos\\left(h k_{1}\\right)^{4} + 9 \\, A_{z_{1}} k_{1}^{3} \\cos\\left(h k_{1}\\right)^{2} - A_{z_{1}} k_{1}^{3} - 4 \\, {\\left(4 \\, B_{z_{1}} k_{1}^{3} \\cos\\left(h k_{1}\\right)^{5} - 4 \\, B_{z_{1}} k_{1}^{3} \\cos\\left(h k_{1}\\right)^{3} + B_{z_{1}} k_{1}^{3} \\cos\\left(h k_{1}\\right)\\right)} \\sin\\left(h k_{1}\\right)\\right)} \\kappa\\right)} J_{m - 1}(\\kappa \\rho)\\right)} r_{1}\\right)} \\rho^{2}\\right)} \\cos\\left(k_{1} z\\right)^{2} \\sin\\left(k_{1} z\\right) - {\\left({\\left({\\left(8 \\, B_{z_{1}} k_{1} \\cos\\left(h k_{1}\\right)^{6} - 12 \\, B_{z_{1}} k_{1} \\cos\\left(h k_{1}\\right)^{4} + 6 \\, B_{z_{1}} k_{1} \\cos\\left(h k_{1}\\right)^{2} - B_{z_{1}} k_{1} + 4 \\, {\\left(4 \\, A_{z_{1}} k_{1} \\cos\\left(h k_{1}\\right)^{5} - 4 \\, A_{z_{1}} k_{1} \\cos\\left(h k_{1}\\right)^{3} + A_{z_{1}} k_{1} \\cos\\left(h k_{1}\\right)\\right)} \\sin\\left(h k_{1}\\right)\\right)} \\kappa m^{2} J_{m + 1}(\\kappa \\rho) - {\\left(8 \\, B_{z_{1}} k_{1} \\cos\\left(h k_{1}\\right)^{6} - 12 \\, B_{z_{1}} k_{1} \\cos\\left(h k_{1}\\right)^{4} + 6 \\, B_{z_{1}} k_{1} \\cos\\left(h k_{1}\\right)^{2} - B_{z_{1}} k_{1} + 4 \\, {\\left(4 \\, A_{z_{1}} k_{1} \\cos\\left(h k_{1}\\right)^{5} - 4 \\, A_{z_{1}} k_{1} \\cos\\left(h k_{1}\\right)^{3} + A_{z_{1}} k_{1} \\cos\\left(h k_{1}\\right)\\right)} \\sin\\left(h k_{1}\\right)\\right)} \\kappa m^{2} J_{m - 1}(\\kappa \\rho)\\right)} r_{1} \\rho - {\\left({\\left(56 \\, B_{z_{1}} k_{1}^{3} \\cos\\left(h k_{1}\\right)^{6} - 84 \\, B_{z_{1}} k_{1}^{3} \\cos\\left(h k_{1}\\right)^{4} + 34 \\, B_{z_{1}} k_{1}^{3} \\cos\\left(h k_{1}\\right)^{2} - 3 \\, B_{z_{1}} k_{1}^{3} + 16 \\, {\\left(4 \\, A_{z_{1}} k_{1}^{3} \\cos\\left(h k_{1}\\right)^{5} - 4 \\, A_{z_{1}} k_{1}^{3} \\cos\\left(h k_{1}\\right)^{3} + A_{z_{1}} k_{1}^{3} \\cos\\left(h k_{1}\\right)\\right)} \\sin\\left(h k_{1}\\right)\\right)} \\kappa J_{m + 1}(\\kappa \\rho) - {\\left(56 \\, B_{z_{1}} k_{1}^{3} \\cos\\left(h k_{1}\\right)^{6} - 84 \\, B_{z_{1}} k_{1}^{3} \\cos\\left(h k_{1}\\right)^{4} + 34 \\, B_{z_{1}} k_{1}^{3} \\cos\\left(h k_{1}\\right)^{2} - 3 \\, B_{z_{1}} k_{1}^{3} + 16 \\, {\\left(4 \\, A_{z_{1}} k_{1}^{3} \\cos\\left(h k_{1}\\right)^{5} - 4 \\, A_{z_{1}} k_{1}^{3} \\cos\\left(h k_{1}\\right)^{3} + A_{z_{1}} k_{1}^{3} \\cos\\left(h k_{1}\\right)\\right)} \\sin\\left(h k_{1}\\right)\\right)} \\kappa J_{m - 1}(\\kappa \\rho) + {\\left({\\left({\\left(8 \\, B_{z_{1}} k_{1} \\cos\\left(h k_{1}\\right)^{6} - 12 \\, B_{z_{1}} k_{1} \\cos\\left(h k_{1}\\right)^{4} + 6 \\, B_{z_{1}} k_{1} \\cos\\left(h k_{1}\\right)^{2} - B_{z_{1}} k_{1} + 4 \\, {\\left(4 \\, A_{z_{1}} k_{1} \\cos\\left(h k_{1}\\right)^{5} - 4 \\, A_{z_{1}} k_{1} \\cos\\left(h k_{1}\\right)^{3} + A_{z_{1}} k_{1} \\cos\\left(h k_{1}\\right)\\right)} \\sin\\left(h k_{1}\\right)\\right)} \\kappa^{3} - {\\left(56 \\, B_{z_{1}} k_{1}^{3} \\cos\\left(h k_{1}\\right)^{6} - 84 \\, B_{z_{1}} k_{1}^{3} \\cos\\left(h k_{1}\\right)^{4} + 34 \\, B_{z_{1}} k_{1}^{3} \\cos\\left(h k_{1}\\right)^{2} - 3 \\, B_{z_{1}} k_{1}^{3} + 16 \\, {\\left(4 \\, A_{z_{1}} k_{1}^{3} \\cos\\left(h k_{1}\\right)^{5} - 4 \\, A_{z_{1}} k_{1}^{3} \\cos\\left(h k_{1}\\right)^{3} + A_{z_{1}} k_{1}^{3} \\cos\\left(h k_{1}\\right)\\right)} \\sin\\left(h k_{1}\\right)\\right)} \\kappa\\right)} J_{m + 1}(\\kappa \\rho) - {\\left({\\left(8 \\, B_{z_{1}} k_{1} \\cos\\left(h k_{1}\\right)^{6} - 12 \\, B_{z_{1}} k_{1} \\cos\\left(h k_{1}\\right)^{4} + 6 \\, B_{z_{1}} k_{1} \\cos\\left(h k_{1}\\right)^{2} - B_{z_{1}} k_{1} + 4 \\, {\\left(4 \\, A_{z_{1}} k_{1} \\cos\\left(h k_{1}\\right)^{5} - 4 \\, A_{z_{1}} k_{1} \\cos\\left(h k_{1}\\right)^{3} + A_{z_{1}} k_{1} \\cos\\left(h k_{1}\\right)\\right)} \\sin\\left(h k_{1}\\right)\\right)} \\kappa^{3} - {\\left(56 \\, B_{z_{1}} k_{1}^{3} \\cos\\left(h k_{1}\\right)^{6} - 84 \\, B_{z_{1}} k_{1}^{3} \\cos\\left(h k_{1}\\right)^{4} + 34 \\, B_{z_{1}} k_{1}^{3} \\cos\\left(h k_{1}\\right)^{2} - 3 \\, B_{z_{1}} k_{1}^{3} + 16 \\, {\\left(4 \\, A_{z_{1}} k_{1}^{3} \\cos\\left(h k_{1}\\right)^{5} - 4 \\, A_{z_{1}} k_{1}^{3} \\cos\\left(h k_{1}\\right)^{3} + A_{z_{1}} k_{1}^{3} \\cos\\left(h k_{1}\\right)\\right)} \\sin\\left(h k_{1}\\right)\\right)} \\kappa\\right)} J_{m - 1}(\\kappa \\rho)\\right)} r_{1}\\right)} \\rho^{2}\\right)} \\cos\\left(k_{1} z\\right) \\sin\\left(k_{1} z\\right)^{2} + {\\left({\\left({\\left(8 \\, A_{z_{1}} k_{1} \\cos\\left(h k_{1}\\right)^{6} - 12 \\, A_{z_{1}} k_{1} \\cos\\left(h k_{1}\\right)^{4} + 6 \\, A_{z_{1}} k_{1} \\cos\\left(h k_{1}\\right)^{2} - A_{z_{1}} k_{1}\\right)} \\kappa m^{2} J_{m + 1}(\\kappa \\rho) - {\\left(8 \\, A_{z_{1}} k_{1} \\cos\\left(h k_{1}\\right)^{6} - 12 \\, A_{z_{1}} k_{1} \\cos\\left(h k_{1}\\right)^{4} + 6 \\, A_{z_{1}} k_{1} \\cos\\left(h k_{1}\\right)^{2} - A_{z_{1}} k_{1}\\right)} \\kappa m^{2} J_{m - 1}(\\kappa \\rho)\\right)} r_{1} \\rho - {\\left({\\left(24 \\, A_{z_{1}} k_{1}^{3} \\cos\\left(h k_{1}\\right)^{6} - 36 \\, A_{z_{1}} k_{1}^{3} \\cos\\left(h k_{1}\\right)^{4} + 14 \\, A_{z_{1}} k_{1}^{3} \\cos\\left(h k_{1}\\right)^{2} - A_{z_{1}} k_{1}^{3} - 4 \\, {\\left(4 \\, B_{z_{1}} k_{1}^{3} \\cos\\left(h k_{1}\\right)^{5} - 4 \\, B_{z_{1}} k_{1}^{3} \\cos\\left(h k_{1}\\right)^{3} + B_{z_{1}} k_{1}^{3} \\cos\\left(h k_{1}\\right)\\right)} \\sin\\left(h k_{1}\\right)\\right)} \\kappa J_{m + 1}(\\kappa \\rho) - {\\left(24 \\, A_{z_{1}} k_{1}^{3} \\cos\\left(h k_{1}\\right)^{6} - 36 \\, A_{z_{1}} k_{1}^{3} \\cos\\left(h k_{1}\\right)^{4} + 14 \\, A_{z_{1}} k_{1}^{3} \\cos\\left(h k_{1}\\right)^{2} - A_{z_{1}} k_{1}^{3} - 4 \\, {\\left(4 \\, B_{z_{1}} k_{1}^{3} \\cos\\left(h k_{1}\\right)^{5} - 4 \\, B_{z_{1}} k_{1}^{3} \\cos\\left(h k_{1}\\right)^{3} + B_{z_{1}} k_{1}^{3} \\cos\\left(h k_{1}\\right)\\right)} \\sin\\left(h k_{1}\\right)\\right)} \\kappa J_{m - 1}(\\kappa \\rho) + {\\left({\\left({\\left(8 \\, A_{z_{1}} k_{1} \\cos\\left(h k_{1}\\right)^{6} - 12 \\, A_{z_{1}} k_{1} \\cos\\left(h k_{1}\\right)^{4} + 6 \\, A_{z_{1}} k_{1} \\cos\\left(h k_{1}\\right)^{2} - A_{z_{1}} k_{1}\\right)} \\kappa^{3} - {\\left(24 \\, A_{z_{1}} k_{1}^{3} \\cos\\left(h k_{1}\\right)^{6} - 36 \\, A_{z_{1}} k_{1}^{3} \\cos\\left(h k_{1}\\right)^{4} + 14 \\, A_{z_{1}} k_{1}^{3} \\cos\\left(h k_{1}\\right)^{2} - A_{z_{1}} k_{1}^{3} - 4 \\, {\\left(4 \\, B_{z_{1}} k_{1}^{3} \\cos\\left(h k_{1}\\right)^{5} - 4 \\, B_{z_{1}} k_{1}^{3} \\cos\\left(h k_{1}\\right)^{3} + B_{z_{1}} k_{1}^{3} \\cos\\left(h k_{1}\\right)\\right)} \\sin\\left(h k_{1}\\right)\\right)} \\kappa\\right)} J_{m + 1}(\\kappa \\rho) - {\\left({\\left(8 \\, A_{z_{1}} k_{1} \\cos\\left(h k_{1}\\right)^{6} - 12 \\, A_{z_{1}} k_{1} \\cos\\left(h k_{1}\\right)^{4} + 6 \\, A_{z_{1}} k_{1} \\cos\\left(h k_{1}\\right)^{2} - A_{z_{1}} k_{1}\\right)} \\kappa^{3} - {\\left(24 \\, A_{z_{1}} k_{1}^{3} \\cos\\left(h k_{1}\\right)^{6} - 36 \\, A_{z_{1}} k_{1}^{3} \\cos\\left(h k_{1}\\right)^{4} + 14 \\, A_{z_{1}} k_{1}^{3} \\cos\\left(h k_{1}\\right)^{2} - A_{z_{1}} k_{1}^{3} - 4 \\, {\\left(4 \\, B_{z_{1}} k_{1}^{3} \\cos\\left(h k_{1}\\right)^{5} - 4 \\, B_{z_{1}} k_{1}^{3} \\cos\\left(h k_{1}\\right)^{3} + B_{z_{1}} k_{1}^{3} \\cos\\left(h k_{1}\\right)\\right)} \\sin\\left(h k_{1}\\right)\\right)} \\kappa\\right)} J_{m - 1}(\\kappa \\rho)\\right)} r_{1}\\right)} \\rho^{2}\\right)} \\sin\\left(k_{1} z\\right)^{3}}{8 \\, {\\left(2 \\, {\\left(\\cos\\left(h k_{1}\\right)^{5} - \\cos\\left(h k_{1}\\right)^{3}\\right)} m^{3} r_{1} J_{m}(\\kappa \\rho) \\sin\\left(h k_{1}\\right) + {\\left({\\left(5 \\, k_{1}^{2} \\cos\\left(h k_{1}\\right)^{5} - 5 \\, k_{1}^{2} \\cos\\left(h k_{1}\\right)^{3} + k_{1}^{2} \\cos\\left(h k_{1}\\right)\\right)} \\kappa m J_{m + 1}(\\kappa \\rho) \\sin\\left(h k_{1}\\right) - {\\left(5 \\, k_{1}^{2} \\cos\\left(h k_{1}\\right)^{5} - 5 \\, k_{1}^{2} \\cos\\left(h k_{1}\\right)^{3} + k_{1}^{2} \\cos\\left(h k_{1}\\right)\\right)} \\kappa m J_{m - 1}(\\kappa \\rho) \\sin\\left(h k_{1}\\right) + {\\left({\\left({\\left(\\cos\\left(h k_{1}\\right)^{5} - \\cos\\left(h k_{1}\\right)^{3}\\right)} \\kappa^{3} \\sin\\left(h k_{1}\\right) - {\\left(5 \\, k_{1}^{2} \\cos\\left(h k_{1}\\right)^{5} - 5 \\, k_{1}^{2} \\cos\\left(h k_{1}\\right)^{3} + k_{1}^{2} \\cos\\left(h k_{1}\\right)\\right)} \\kappa \\sin\\left(h k_{1}\\right)\\right)} m J_{m + 1}(\\kappa \\rho) - {\\left({\\left(\\cos\\left(h k_{1}\\right)^{5} - \\cos\\left(h k_{1}\\right)^{3}\\right)} \\kappa^{3} \\sin\\left(h k_{1}\\right) - {\\left(5 \\, k_{1}^{2} \\cos\\left(h k_{1}\\right)^{5} - 5 \\, k_{1}^{2} \\cos\\left(h k_{1}\\right)^{3} + k_{1}^{2} \\cos\\left(h k_{1}\\right)\\right)} \\kappa \\sin\\left(h k_{1}\\right)\\right)} m J_{m - 1}(\\kappa \\rho)\\right)} r_{1}\\right)} \\rho^{2} - {\\left(2 \\, {\\left(5 \\, k_{1}^{2} \\cos\\left(h k_{1}\\right)^{5} - 5 \\, k_{1}^{2} \\cos\\left(h k_{1}\\right)^{3} + k_{1}^{2} \\cos\\left(h k_{1}\\right)\\right)} m J_{m}(\\kappa \\rho) \\sin\\left(h k_{1}\\right) + {\\left({\\left(\\cos\\left(h k_{1}\\right)^{5} - \\cos\\left(h k_{1}\\right)^{3}\\right)} \\kappa m^{3} J_{m + 1}(\\kappa \\rho) \\sin\\left(h k_{1}\\right) - {\\left(\\cos\\left(h k_{1}\\right)^{5} - \\cos\\left(h k_{1}\\right)^{3}\\right)} \\kappa m^{3} J_{m - 1}(\\kappa \\rho) \\sin\\left(h k_{1}\\right) + 2 \\, {\\left({\\left(\\cos\\left(h k_{1}\\right)^{5} - \\cos\\left(h k_{1}\\right)^{3}\\right)} \\kappa^{2} \\sin\\left(h k_{1}\\right) - {\\left(5 \\, k_{1}^{2} \\cos\\left(h k_{1}\\right)^{5} - 5 \\, k_{1}^{2} \\cos\\left(h k_{1}\\right)^{3} + k_{1}^{2} \\cos\\left(h k_{1}\\right)\\right)} \\sin\\left(h k_{1}\\right)\\right)} m J_{m}(\\kappa \\rho)\\right)} r_{1}\\right)} \\rho\\right)} \\cos\\left(k_{1} z\\right)^{3} - 4 \\, {\\left(6 \\, {\\left(2 \\, \\cos\\left(h k_{1}\\right)^{6} - 3 \\, \\cos\\left(h k_{1}\\right)^{4} + \\cos\\left(h k_{1}\\right)^{2}\\right)} m^{3} r_{1} J_{m}(\\kappa \\rho) + {\\left({\\left(30 \\, k_{1}^{2} \\cos\\left(h k_{1}\\right)^{6} - 45 \\, k_{1}^{2} \\cos\\left(h k_{1}\\right)^{4} + 17 \\, k_{1}^{2} \\cos\\left(h k_{1}\\right)^{2} - k_{1}^{2}\\right)} \\kappa m J_{m + 1}(\\kappa \\rho) - {\\left(30 \\, k_{1}^{2} \\cos\\left(h k_{1}\\right)^{6} - 45 \\, k_{1}^{2} \\cos\\left(h k_{1}\\right)^{4} + 17 \\, k_{1}^{2} \\cos\\left(h k_{1}\\right)^{2} - k_{1}^{2}\\right)} \\kappa m J_{m - 1}(\\kappa \\rho) + {\\left({\\left(3 \\, {\\left(2 \\, \\cos\\left(h k_{1}\\right)^{6} - 3 \\, \\cos\\left(h k_{1}\\right)^{4} + \\cos\\left(h k_{1}\\right)^{2}\\right)} \\kappa^{3} - {\\left(30 \\, k_{1}^{2} \\cos\\left(h k_{1}\\right)^{6} - 45 \\, k_{1}^{2} \\cos\\left(h k_{1}\\right)^{4} + 17 \\, k_{1}^{2} \\cos\\left(h k_{1}\\right)^{2} - k_{1}^{2}\\right)} \\kappa\\right)} m J_{m + 1}(\\kappa \\rho) - {\\left(3 \\, {\\left(2 \\, \\cos\\left(h k_{1}\\right)^{6} - 3 \\, \\cos\\left(h k_{1}\\right)^{4} + \\cos\\left(h k_{1}\\right)^{2}\\right)} \\kappa^{3} - {\\left(30 \\, k_{1}^{2} \\cos\\left(h k_{1}\\right)^{6} - 45 \\, k_{1}^{2} \\cos\\left(h k_{1}\\right)^{4} + 17 \\, k_{1}^{2} \\cos\\left(h k_{1}\\right)^{2} - k_{1}^{2}\\right)} \\kappa\\right)} m J_{m - 1}(\\kappa \\rho)\\right)} r_{1}\\right)} \\rho^{2} - {\\left(2 \\, {\\left(30 \\, k_{1}^{2} \\cos\\left(h k_{1}\\right)^{6} - 45 \\, k_{1}^{2} \\cos\\left(h k_{1}\\right)^{4} + 17 \\, k_{1}^{2} \\cos\\left(h k_{1}\\right)^{2} - k_{1}^{2}\\right)} m J_{m}(\\kappa \\rho) + {\\left(3 \\, {\\left(2 \\, \\cos\\left(h k_{1}\\right)^{6} - 3 \\, \\cos\\left(h k_{1}\\right)^{4} + \\cos\\left(h k_{1}\\right)^{2}\\right)} \\kappa m^{3} J_{m + 1}(\\kappa \\rho) - 3 \\, {\\left(2 \\, \\cos\\left(h k_{1}\\right)^{6} - 3 \\, \\cos\\left(h k_{1}\\right)^{4} + \\cos\\left(h k_{1}\\right)^{2}\\right)} \\kappa m^{3} J_{m - 1}(\\kappa \\rho) - 2 \\, {\\left(30 \\, k_{1}^{2} \\cos\\left(h k_{1}\\right)^{6} - 45 \\, k_{1}^{2} \\cos\\left(h k_{1}\\right)^{4} + 17 \\, k_{1}^{2} \\cos\\left(h k_{1}\\right)^{2} - 3 \\, {\\left(2 \\, \\cos\\left(h k_{1}\\right)^{6} - 3 \\, \\cos\\left(h k_{1}\\right)^{4} + \\cos\\left(h k_{1}\\right)^{2}\\right)} \\kappa^{2} - k_{1}^{2}\\right)} m J_{m}(\\kappa \\rho)\\right)} r_{1}\\right)} \\rho\\right)} \\cos\\left(k_{1} z\\right)^{2} \\sin\\left(k_{1} z\\right) - 2 \\, {\\left(6 \\, {\\left(4 \\, \\cos\\left(h k_{1}\\right)^{5} - 4 \\, \\cos\\left(h k_{1}\\right)^{3} + \\cos\\left(h k_{1}\\right)\\right)} m^{3} r_{1} J_{m}(\\kappa \\rho) \\sin\\left(h k_{1}\\right) + {\\left({\\left(60 \\, k_{1}^{2} \\cos\\left(h k_{1}\\right)^{5} - 60 \\, k_{1}^{2} \\cos\\left(h k_{1}\\right)^{3} + 11 \\, k_{1}^{2} \\cos\\left(h k_{1}\\right)\\right)} \\kappa m J_{m + 1}(\\kappa \\rho) \\sin\\left(h k_{1}\\right) - {\\left(60 \\, k_{1}^{2} \\cos\\left(h k_{1}\\right)^{5} - 60 \\, k_{1}^{2} \\cos\\left(h k_{1}\\right)^{3} + 11 \\, k_{1}^{2} \\cos\\left(h k_{1}\\right)\\right)} \\kappa m J_{m - 1}(\\kappa \\rho) \\sin\\left(h k_{1}\\right) + {\\left({\\left(3 \\, {\\left(4 \\, \\cos\\left(h k_{1}\\right)^{5} - 4 \\, \\cos\\left(h k_{1}\\right)^{3} + \\cos\\left(h k_{1}\\right)\\right)} \\kappa^{3} \\sin\\left(h k_{1}\\right) - {\\left(60 \\, k_{1}^{2} \\cos\\left(h k_{1}\\right)^{5} - 60 \\, k_{1}^{2} \\cos\\left(h k_{1}\\right)^{3} + 11 \\, k_{1}^{2} \\cos\\left(h k_{1}\\right)\\right)} \\kappa \\sin\\left(h k_{1}\\right)\\right)} m J_{m + 1}(\\kappa \\rho) - {\\left(3 \\, {\\left(4 \\, \\cos\\left(h k_{1}\\right)^{5} - 4 \\, \\cos\\left(h k_{1}\\right)^{3} + \\cos\\left(h k_{1}\\right)\\right)} \\kappa^{3} \\sin\\left(h k_{1}\\right) - {\\left(60 \\, k_{1}^{2} \\cos\\left(h k_{1}\\right)^{5} - 60 \\, k_{1}^{2} \\cos\\left(h k_{1}\\right)^{3} + 11 \\, k_{1}^{2} \\cos\\left(h k_{1}\\right)\\right)} \\kappa \\sin\\left(h k_{1}\\right)\\right)} m J_{m - 1}(\\kappa \\rho)\\right)} r_{1}\\right)} \\rho^{2} - {\\left(2 \\, {\\left(60 \\, k_{1}^{2} \\cos\\left(h k_{1}\\right)^{5} - 60 \\, k_{1}^{2} \\cos\\left(h k_{1}\\right)^{3} + 11 \\, k_{1}^{2} \\cos\\left(h k_{1}\\right)\\right)} m J_{m}(\\kappa \\rho) \\sin\\left(h k_{1}\\right) + {\\left(3 \\, {\\left(4 \\, \\cos\\left(h k_{1}\\right)^{5} - 4 \\, \\cos\\left(h k_{1}\\right)^{3} + \\cos\\left(h k_{1}\\right)\\right)} \\kappa m^{3} J_{m + 1}(\\kappa \\rho) \\sin\\left(h k_{1}\\right) - 3 \\, {\\left(4 \\, \\cos\\left(h k_{1}\\right)^{5} - 4 \\, \\cos\\left(h k_{1}\\right)^{3} + \\cos\\left(h k_{1}\\right)\\right)} \\kappa m^{3} J_{m - 1}(\\kappa \\rho) \\sin\\left(h k_{1}\\right) + 2 \\, {\\left(3 \\, {\\left(4 \\, \\cos\\left(h k_{1}\\right)^{5} - 4 \\, \\cos\\left(h k_{1}\\right)^{3} + \\cos\\left(h k_{1}\\right)\\right)} \\kappa^{2} \\sin\\left(h k_{1}\\right) - {\\left(60 \\, k_{1}^{2} \\cos\\left(h k_{1}\\right)^{5} - 60 \\, k_{1}^{2} \\cos\\left(h k_{1}\\right)^{3} + 11 \\, k_{1}^{2} \\cos\\left(h k_{1}\\right)\\right)} \\sin\\left(h k_{1}\\right)\\right)} m J_{m}(\\kappa \\rho)\\right)} r_{1}\\right)} \\rho\\right)} \\cos\\left(k_{1} z\\right) \\sin\\left(k_{1} z\\right)^{2} + {\\left(2 \\, {\\left(8 \\, \\cos\\left(h k_{1}\\right)^{6} - 12 \\, \\cos\\left(h k_{1}\\right)^{4} + 6 \\, \\cos\\left(h k_{1}\\right)^{2} - 1\\right)} m^{3} r_{1} J_{m}(\\kappa \\rho) + {\\left({\\left(40 \\, k_{1}^{2} \\cos\\left(h k_{1}\\right)^{6} - 60 \\, k_{1}^{2} \\cos\\left(h k_{1}\\right)^{4} + 22 \\, k_{1}^{2} \\cos\\left(h k_{1}\\right)^{2} - k_{1}^{2}\\right)} \\kappa m J_{m + 1}(\\kappa \\rho) - {\\left(40 \\, k_{1}^{2} \\cos\\left(h k_{1}\\right)^{6} - 60 \\, k_{1}^{2} \\cos\\left(h k_{1}\\right)^{4} + 22 \\, k_{1}^{2} \\cos\\left(h k_{1}\\right)^{2} - k_{1}^{2}\\right)} \\kappa m J_{m - 1}(\\kappa \\rho) + {\\left({\\left({\\left(8 \\, \\cos\\left(h k_{1}\\right)^{6} - 12 \\, \\cos\\left(h k_{1}\\right)^{4} + 6 \\, \\cos\\left(h k_{1}\\right)^{2} - 1\\right)} \\kappa^{3} - {\\left(40 \\, k_{1}^{2} \\cos\\left(h k_{1}\\right)^{6} - 60 \\, k_{1}^{2} \\cos\\left(h k_{1}\\right)^{4} + 22 \\, k_{1}^{2} \\cos\\left(h k_{1}\\right)^{2} - k_{1}^{2}\\right)} \\kappa\\right)} m J_{m + 1}(\\kappa \\rho) - {\\left({\\left(8 \\, \\cos\\left(h k_{1}\\right)^{6} - 12 \\, \\cos\\left(h k_{1}\\right)^{4} + 6 \\, \\cos\\left(h k_{1}\\right)^{2} - 1\\right)} \\kappa^{3} - {\\left(40 \\, k_{1}^{2} \\cos\\left(h k_{1}\\right)^{6} - 60 \\, k_{1}^{2} \\cos\\left(h k_{1}\\right)^{4} + 22 \\, k_{1}^{2} \\cos\\left(h k_{1}\\right)^{2} - k_{1}^{2}\\right)} \\kappa\\right)} m J_{m - 1}(\\kappa \\rho)\\right)} r_{1}\\right)} \\rho^{2} - {\\left(2 \\, {\\left(40 \\, k_{1}^{2} \\cos\\left(h k_{1}\\right)^{6} - 60 \\, k_{1}^{2} \\cos\\left(h k_{1}\\right)^{4} + 22 \\, k_{1}^{2} \\cos\\left(h k_{1}\\right)^{2} - k_{1}^{2}\\right)} m J_{m}(\\kappa \\rho) + {\\left({\\left(8 \\, \\cos\\left(h k_{1}\\right)^{6} - 12 \\, \\cos\\left(h k_{1}\\right)^{4} + 6 \\, \\cos\\left(h k_{1}\\right)^{2} - 1\\right)} \\kappa m^{3} J_{m + 1}(\\kappa \\rho) - {\\left(8 \\, \\cos\\left(h k_{1}\\right)^{6} - 12 \\, \\cos\\left(h k_{1}\\right)^{4} + 6 \\, \\cos\\left(h k_{1}\\right)^{2} - 1\\right)} \\kappa m^{3} J_{m - 1}(\\kappa \\rho) - 2 \\, {\\left(40 \\, k_{1}^{2} \\cos\\left(h k_{1}\\right)^{6} - 60 \\, k_{1}^{2} \\cos\\left(h k_{1}\\right)^{4} + 22 \\, k_{1}^{2} \\cos\\left(h k_{1}\\right)^{2} - {\\left(8 \\, \\cos\\left(h k_{1}\\right)^{6} - 12 \\, \\cos\\left(h k_{1}\\right)^{4} + 6 \\, \\cos\\left(h k_{1}\\right)^{2} - 1\\right)} \\kappa^{2} - k_{1}^{2}\\right)} m J_{m}(\\kappa \\rho)\\right)} r_{1}\\right)} \\rho\\right)} \\sin\\left(k_{1} z\\right)^{3}}\\right]$$"
      ],
      "text/plain": [
       "<IPython.core.display.Math object>"
      ]
     },
     "metadata": {},
     "output_type": "display_data"
    },
    {
     "name": "stdout",
     "output_type": "stream",
     "text": [
      "\n",
      "var =\n"
     ]
    },
    {
     "data": {
      "text/latex": [
       "$$B_{z_{1}}$$"
      ],
      "text/plain": [
       "<IPython.core.display.Math object>"
      ]
     },
     "metadata": {},
     "output_type": "display_data"
    },
    {
     "name": "stdout",
     "output_type": "stream",
     "text": [
      "\n",
      "sol=\n"
     ]
    },
    {
     "data": {
      "text/latex": [
       "$$\\left[B_{z_{1}} = -\\frac{4 \\, {\\left(4 \\, {\\left(B_{\\phi_{1}} \\cos\\left(h k_{1}\\right)^{5} - B_{\\phi_{1}} \\cos\\left(h k_{1}\\right)^{3}\\right)} m^{3} r_{1} J_{m}(\\kappa \\rho) \\sin\\left(h k_{1}\\right) - {\\left(2 \\, {\\left(5 \\, B_{\\phi_{1}} k_{1}^{2} \\cos\\left(h k_{1}\\right)^{5} - 5 \\, B_{\\phi_{1}} k_{1}^{2} \\cos\\left(h k_{1}\\right)^{3} + B_{\\phi_{1}} k_{1}^{2} \\cos\\left(h k_{1}\\right)\\right)} \\kappa m J_{m - 1}(\\kappa \\rho) \\sin\\left(h k_{1}\\right) - {\\left(4 \\, A_{z_{1}} k_{1}^{3} \\cos\\left(h k_{1}\\right)^{5} - 4 \\, A_{z_{1}} k_{1}^{3} \\cos\\left(h k_{1}\\right)^{3} + A_{z_{1}} k_{1}^{3} \\cos\\left(h k_{1}\\right)\\right)} \\kappa J_{m - 1}(\\kappa \\rho) \\sin\\left(h k_{1}\\right) + {\\left({\\left(4 \\, A_{z_{1}} k_{1}^{3} \\cos\\left(h k_{1}\\right)^{5} - 4 \\, A_{z_{1}} k_{1}^{3} \\cos\\left(h k_{1}\\right)^{3} + A_{z_{1}} k_{1}^{3} \\cos\\left(h k_{1}\\right)\\right)} \\kappa J_{m - 1}(\\kappa \\rho) \\sin\\left(h k_{1}\\right) + 2 \\, {\\left({\\left(B_{\\phi_{1}} \\cos\\left(h k_{1}\\right)^{5} - B_{\\phi_{1}} \\cos\\left(h k_{1}\\right)^{3}\\right)} \\kappa^{3} \\sin\\left(h k_{1}\\right) - {\\left(5 \\, B_{\\phi_{1}} k_{1}^{2} \\cos\\left(h k_{1}\\right)^{5} - 5 \\, B_{\\phi_{1}} k_{1}^{2} \\cos\\left(h k_{1}\\right)^{3} + B_{\\phi_{1}} k_{1}^{2} \\cos\\left(h k_{1}\\right)\\right)} \\kappa \\sin\\left(h k_{1}\\right)\\right)} m J_{m - 1}(\\kappa \\rho) - {\\left({\\left(4 \\, A_{z_{1}} k_{1}^{3} \\cos\\left(h k_{1}\\right)^{5} - 4 \\, A_{z_{1}} k_{1}^{3} \\cos\\left(h k_{1}\\right)^{3} + A_{z_{1}} k_{1}^{3} \\cos\\left(h k_{1}\\right)\\right)} \\kappa \\sin\\left(h k_{1}\\right) + 2 \\, {\\left({\\left(B_{\\phi_{1}} \\cos\\left(h k_{1}\\right)^{5} - B_{\\phi_{1}} \\cos\\left(h k_{1}\\right)^{3}\\right)} \\kappa^{3} \\sin\\left(h k_{1}\\right) - {\\left(5 \\, B_{\\phi_{1}} k_{1}^{2} \\cos\\left(h k_{1}\\right)^{5} - 5 \\, B_{\\phi_{1}} k_{1}^{2} \\cos\\left(h k_{1}\\right)^{3} + B_{\\phi_{1}} k_{1}^{2} \\cos\\left(h k_{1}\\right)\\right)} \\kappa \\sin\\left(h k_{1}\\right)\\right)} m\\right)} J_{m + 1}(\\kappa \\rho)\\right)} r_{1} - {\\left(2 \\, {\\left(5 \\, B_{\\phi_{1}} k_{1}^{2} \\cos\\left(h k_{1}\\right)^{5} - 5 \\, B_{\\phi_{1}} k_{1}^{2} \\cos\\left(h k_{1}\\right)^{3} + B_{\\phi_{1}} k_{1}^{2} \\cos\\left(h k_{1}\\right)\\right)} \\kappa m \\sin\\left(h k_{1}\\right) - {\\left(4 \\, A_{z_{1}} k_{1}^{3} \\cos\\left(h k_{1}\\right)^{5} - 4 \\, A_{z_{1}} k_{1}^{3} \\cos\\left(h k_{1}\\right)^{3} + A_{z_{1}} k_{1}^{3} \\cos\\left(h k_{1}\\right)\\right)} \\kappa \\sin\\left(h k_{1}\\right)\\right)} J_{m + 1}(\\kappa \\rho)\\right)} \\rho^{2} - 2 \\, {\\left(2 \\, {\\left(5 \\, B_{\\phi_{1}} k_{1}^{2} \\cos\\left(h k_{1}\\right)^{5} - 5 \\, B_{\\phi_{1}} k_{1}^{2} \\cos\\left(h k_{1}\\right)^{3} + B_{\\phi_{1}} k_{1}^{2} \\cos\\left(h k_{1}\\right)\\right)} m J_{m}(\\kappa \\rho) \\sin\\left(h k_{1}\\right) + {\\left({\\left(B_{\\phi_{1}} \\cos\\left(h k_{1}\\right)^{5} - B_{\\phi_{1}} \\cos\\left(h k_{1}\\right)^{3}\\right)} \\kappa m^{3} J_{m + 1}(\\kappa \\rho) \\sin\\left(h k_{1}\\right) - {\\left(B_{\\phi_{1}} \\cos\\left(h k_{1}\\right)^{5} - B_{\\phi_{1}} \\cos\\left(h k_{1}\\right)^{3}\\right)} \\kappa m^{3} J_{m - 1}(\\kappa \\rho) \\sin\\left(h k_{1}\\right) + 2 \\, {\\left({\\left(B_{\\phi_{1}} \\cos\\left(h k_{1}\\right)^{5} - B_{\\phi_{1}} \\cos\\left(h k_{1}\\right)^{3}\\right)} \\kappa^{2} \\sin\\left(h k_{1}\\right) - {\\left(5 \\, B_{\\phi_{1}} k_{1}^{2} \\cos\\left(h k_{1}\\right)^{5} - 5 \\, B_{\\phi_{1}} k_{1}^{2} \\cos\\left(h k_{1}\\right)^{3} + B_{\\phi_{1}} k_{1}^{2} \\cos\\left(h k_{1}\\right)\\right)} \\sin\\left(h k_{1}\\right)\\right)} m J_{m}(\\kappa \\rho)\\right)} r_{1}\\right)} \\rho\\right)} \\cos\\left(k_{1} z\\right)^{3} - 4 \\, {\\left(6 \\, {\\left(2 \\, B_{\\phi_{1}} \\cos\\left(h k_{1}\\right)^{6} - 3 \\, B_{\\phi_{1}} \\cos\\left(h k_{1}\\right)^{4} + B_{\\phi_{1}} \\cos\\left(h k_{1}\\right)^{2}\\right)} m^{3} r_{1} J_{m}(\\kappa \\rho) - {\\left({\\left(30 \\, B_{\\phi_{1}} k_{1}^{2} \\cos\\left(h k_{1}\\right)^{6} - 45 \\, B_{\\phi_{1}} k_{1}^{2} \\cos\\left(h k_{1}\\right)^{4} + 17 \\, B_{\\phi_{1}} k_{1}^{2} \\cos\\left(h k_{1}\\right)^{2} - B_{\\phi_{1}} k_{1}^{2}\\right)} \\kappa m J_{m - 1}(\\kappa \\rho) - {\\left(14 \\, A_{z_{1}} k_{1}^{3} \\cos\\left(h k_{1}\\right)^{6} - 21 \\, A_{z_{1}} k_{1}^{3} \\cos\\left(h k_{1}\\right)^{4} + 9 \\, A_{z_{1}} k_{1}^{3} \\cos\\left(h k_{1}\\right)^{2} - A_{z_{1}} k_{1}^{3}\\right)} \\kappa J_{m - 1}(\\kappa \\rho) + {\\left({\\left(3 \\, {\\left(2 \\, B_{\\phi_{1}} \\cos\\left(h k_{1}\\right)^{6} - 3 \\, B_{\\phi_{1}} \\cos\\left(h k_{1}\\right)^{4} + B_{\\phi_{1}} \\cos\\left(h k_{1}\\right)^{2}\\right)} \\kappa^{3} - {\\left(30 \\, B_{\\phi_{1}} k_{1}^{2} \\cos\\left(h k_{1}\\right)^{6} - 45 \\, B_{\\phi_{1}} k_{1}^{2} \\cos\\left(h k_{1}\\right)^{4} + 17 \\, B_{\\phi_{1}} k_{1}^{2} \\cos\\left(h k_{1}\\right)^{2} - B_{\\phi_{1}} k_{1}^{2}\\right)} \\kappa\\right)} m J_{m - 1}(\\kappa \\rho) + {\\left({\\left(2 \\, A_{z_{1}} k_{1} \\cos\\left(h k_{1}\\right)^{6} - 3 \\, A_{z_{1}} k_{1} \\cos\\left(h k_{1}\\right)^{4} + A_{z_{1}} k_{1} \\cos\\left(h k_{1}\\right)^{2}\\right)} \\kappa^{3} - {\\left(14 \\, A_{z_{1}} k_{1}^{3} \\cos\\left(h k_{1}\\right)^{6} - 21 \\, A_{z_{1}} k_{1}^{3} \\cos\\left(h k_{1}\\right)^{4} + 9 \\, A_{z_{1}} k_{1}^{3} \\cos\\left(h k_{1}\\right)^{2} - A_{z_{1}} k_{1}^{3}\\right)} \\kappa - {\\left(3 \\, {\\left(2 \\, B_{\\phi_{1}} \\cos\\left(h k_{1}\\right)^{6} - 3 \\, B_{\\phi_{1}} \\cos\\left(h k_{1}\\right)^{4} + B_{\\phi_{1}} \\cos\\left(h k_{1}\\right)^{2}\\right)} \\kappa^{3} - {\\left(30 \\, B_{\\phi_{1}} k_{1}^{2} \\cos\\left(h k_{1}\\right)^{6} - 45 \\, B_{\\phi_{1}} k_{1}^{2} \\cos\\left(h k_{1}\\right)^{4} + 17 \\, B_{\\phi_{1}} k_{1}^{2} \\cos\\left(h k_{1}\\right)^{2} - B_{\\phi_{1}} k_{1}^{2}\\right)} \\kappa\\right)} m\\right)} J_{m + 1}(\\kappa \\rho) - {\\left({\\left(2 \\, A_{z_{1}} k_{1} \\cos\\left(h k_{1}\\right)^{6} - 3 \\, A_{z_{1}} k_{1} \\cos\\left(h k_{1}\\right)^{4} + A_{z_{1}} k_{1} \\cos\\left(h k_{1}\\right)^{2}\\right)} \\kappa^{3} - {\\left(14 \\, A_{z_{1}} k_{1}^{3} \\cos\\left(h k_{1}\\right)^{6} - 21 \\, A_{z_{1}} k_{1}^{3} \\cos\\left(h k_{1}\\right)^{4} + 9 \\, A_{z_{1}} k_{1}^{3} \\cos\\left(h k_{1}\\right)^{2} - A_{z_{1}} k_{1}^{3}\\right)} \\kappa\\right)} J_{m - 1}(\\kappa \\rho)\\right)} r_{1} - {\\left({\\left(30 \\, B_{\\phi_{1}} k_{1}^{2} \\cos\\left(h k_{1}\\right)^{6} - 45 \\, B_{\\phi_{1}} k_{1}^{2} \\cos\\left(h k_{1}\\right)^{4} + 17 \\, B_{\\phi_{1}} k_{1}^{2} \\cos\\left(h k_{1}\\right)^{2} - B_{\\phi_{1}} k_{1}^{2}\\right)} \\kappa m - {\\left(14 \\, A_{z_{1}} k_{1}^{3} \\cos\\left(h k_{1}\\right)^{6} - 21 \\, A_{z_{1}} k_{1}^{3} \\cos\\left(h k_{1}\\right)^{4} + 9 \\, A_{z_{1}} k_{1}^{3} \\cos\\left(h k_{1}\\right)^{2} - A_{z_{1}} k_{1}^{3}\\right)} \\kappa\\right)} J_{m + 1}(\\kappa \\rho)\\right)} \\rho^{2} - {\\left(2 \\, {\\left(30 \\, B_{\\phi_{1}} k_{1}^{2} \\cos\\left(h k_{1}\\right)^{6} - 45 \\, B_{\\phi_{1}} k_{1}^{2} \\cos\\left(h k_{1}\\right)^{4} + 17 \\, B_{\\phi_{1}} k_{1}^{2} \\cos\\left(h k_{1}\\right)^{2} - B_{\\phi_{1}} k_{1}^{2}\\right)} m J_{m}(\\kappa \\rho) - {\\left(3 \\, {\\left(2 \\, B_{\\phi_{1}} \\cos\\left(h k_{1}\\right)^{6} - 3 \\, B_{\\phi_{1}} \\cos\\left(h k_{1}\\right)^{4} + B_{\\phi_{1}} \\cos\\left(h k_{1}\\right)^{2}\\right)} \\kappa m^{3} J_{m - 1}(\\kappa \\rho) - {\\left(2 \\, A_{z_{1}} k_{1} \\cos\\left(h k_{1}\\right)^{6} - 3 \\, A_{z_{1}} k_{1} \\cos\\left(h k_{1}\\right)^{4} + A_{z_{1}} k_{1} \\cos\\left(h k_{1}\\right)^{2}\\right)} \\kappa m^{2} J_{m - 1}(\\kappa \\rho) + 2 \\, {\\left(30 \\, B_{\\phi_{1}} k_{1}^{2} \\cos\\left(h k_{1}\\right)^{6} - 45 \\, B_{\\phi_{1}} k_{1}^{2} \\cos\\left(h k_{1}\\right)^{4} + 17 \\, B_{\\phi_{1}} k_{1}^{2} \\cos\\left(h k_{1}\\right)^{2} - B_{\\phi_{1}} k_{1}^{2} - 3 \\, {\\left(2 \\, B_{\\phi_{1}} \\cos\\left(h k_{1}\\right)^{6} - 3 \\, B_{\\phi_{1}} \\cos\\left(h k_{1}\\right)^{4} + B_{\\phi_{1}} \\cos\\left(h k_{1}\\right)^{2}\\right)} \\kappa^{2}\\right)} m J_{m}(\\kappa \\rho) - {\\left(3 \\, {\\left(2 \\, B_{\\phi_{1}} \\cos\\left(h k_{1}\\right)^{6} - 3 \\, B_{\\phi_{1}} \\cos\\left(h k_{1}\\right)^{4} + B_{\\phi_{1}} \\cos\\left(h k_{1}\\right)^{2}\\right)} \\kappa m^{3} - {\\left(2 \\, A_{z_{1}} k_{1} \\cos\\left(h k_{1}\\right)^{6} - 3 \\, A_{z_{1}} k_{1} \\cos\\left(h k_{1}\\right)^{4} + A_{z_{1}} k_{1} \\cos\\left(h k_{1}\\right)^{2}\\right)} \\kappa m^{2}\\right)} J_{m + 1}(\\kappa \\rho)\\right)} r_{1}\\right)} \\rho\\right)} \\cos\\left(k_{1} z\\right)^{2} \\sin\\left(k_{1} z\\right) - 2 \\, {\\left(6 \\, {\\left(4 \\, B_{\\phi_{1}} \\cos\\left(h k_{1}\\right)^{5} - 4 \\, B_{\\phi_{1}} \\cos\\left(h k_{1}\\right)^{3} + B_{\\phi_{1}} \\cos\\left(h k_{1}\\right)\\right)} m^{3} r_{1} J_{m}(\\kappa \\rho) \\sin\\left(h k_{1}\\right) - {\\left({\\left(60 \\, B_{\\phi_{1}} k_{1}^{2} \\cos\\left(h k_{1}\\right)^{5} - 60 \\, B_{\\phi_{1}} k_{1}^{2} \\cos\\left(h k_{1}\\right)^{3} + 11 \\, B_{\\phi_{1}} k_{1}^{2} \\cos\\left(h k_{1}\\right)\\right)} \\kappa m J_{m - 1}(\\kappa \\rho) \\sin\\left(h k_{1}\\right) - 8 \\, {\\left(4 \\, A_{z_{1}} k_{1}^{3} \\cos\\left(h k_{1}\\right)^{5} - 4 \\, A_{z_{1}} k_{1}^{3} \\cos\\left(h k_{1}\\right)^{3} + A_{z_{1}} k_{1}^{3} \\cos\\left(h k_{1}\\right)\\right)} \\kappa J_{m - 1}(\\kappa \\rho) \\sin\\left(h k_{1}\\right) + {\\left({\\left(3 \\, {\\left(4 \\, B_{\\phi_{1}} \\cos\\left(h k_{1}\\right)^{5} - 4 \\, B_{\\phi_{1}} \\cos\\left(h k_{1}\\right)^{3} + B_{\\phi_{1}} \\cos\\left(h k_{1}\\right)\\right)} \\kappa^{3} \\sin\\left(h k_{1}\\right) - {\\left(60 \\, B_{\\phi_{1}} k_{1}^{2} \\cos\\left(h k_{1}\\right)^{5} - 60 \\, B_{\\phi_{1}} k_{1}^{2} \\cos\\left(h k_{1}\\right)^{3} + 11 \\, B_{\\phi_{1}} k_{1}^{2} \\cos\\left(h k_{1}\\right)\\right)} \\kappa \\sin\\left(h k_{1}\\right)\\right)} m J_{m - 1}(\\kappa \\rho) + {\\left(2 \\, {\\left(4 \\, A_{z_{1}} k_{1} \\cos\\left(h k_{1}\\right)^{5} - 4 \\, A_{z_{1}} k_{1} \\cos\\left(h k_{1}\\right)^{3} + A_{z_{1}} k_{1} \\cos\\left(h k_{1}\\right)\\right)} \\kappa^{3} \\sin\\left(h k_{1}\\right) - 8 \\, {\\left(4 \\, A_{z_{1}} k_{1}^{3} \\cos\\left(h k_{1}\\right)^{5} - 4 \\, A_{z_{1}} k_{1}^{3} \\cos\\left(h k_{1}\\right)^{3} + A_{z_{1}} k_{1}^{3} \\cos\\left(h k_{1}\\right)\\right)} \\kappa \\sin\\left(h k_{1}\\right) - {\\left(3 \\, {\\left(4 \\, B_{\\phi_{1}} \\cos\\left(h k_{1}\\right)^{5} - 4 \\, B_{\\phi_{1}} \\cos\\left(h k_{1}\\right)^{3} + B_{\\phi_{1}} \\cos\\left(h k_{1}\\right)\\right)} \\kappa^{3} \\sin\\left(h k_{1}\\right) - {\\left(60 \\, B_{\\phi_{1}} k_{1}^{2} \\cos\\left(h k_{1}\\right)^{5} - 60 \\, B_{\\phi_{1}} k_{1}^{2} \\cos\\left(h k_{1}\\right)^{3} + 11 \\, B_{\\phi_{1}} k_{1}^{2} \\cos\\left(h k_{1}\\right)\\right)} \\kappa \\sin\\left(h k_{1}\\right)\\right)} m\\right)} J_{m + 1}(\\kappa \\rho) - 2 \\, {\\left({\\left(4 \\, A_{z_{1}} k_{1} \\cos\\left(h k_{1}\\right)^{5} - 4 \\, A_{z_{1}} k_{1} \\cos\\left(h k_{1}\\right)^{3} + A_{z_{1}} k_{1} \\cos\\left(h k_{1}\\right)\\right)} \\kappa^{3} \\sin\\left(h k_{1}\\right) - 4 \\, {\\left(4 \\, A_{z_{1}} k_{1}^{3} \\cos\\left(h k_{1}\\right)^{5} - 4 \\, A_{z_{1}} k_{1}^{3} \\cos\\left(h k_{1}\\right)^{3} + A_{z_{1}} k_{1}^{3} \\cos\\left(h k_{1}\\right)\\right)} \\kappa \\sin\\left(h k_{1}\\right)\\right)} J_{m - 1}(\\kappa \\rho)\\right)} r_{1} - {\\left({\\left(60 \\, B_{\\phi_{1}} k_{1}^{2} \\cos\\left(h k_{1}\\right)^{5} - 60 \\, B_{\\phi_{1}} k_{1}^{2} \\cos\\left(h k_{1}\\right)^{3} + 11 \\, B_{\\phi_{1}} k_{1}^{2} \\cos\\left(h k_{1}\\right)\\right)} \\kappa m \\sin\\left(h k_{1}\\right) - 8 \\, {\\left(4 \\, A_{z_{1}} k_{1}^{3} \\cos\\left(h k_{1}\\right)^{5} - 4 \\, A_{z_{1}} k_{1}^{3} \\cos\\left(h k_{1}\\right)^{3} + A_{z_{1}} k_{1}^{3} \\cos\\left(h k_{1}\\right)\\right)} \\kappa \\sin\\left(h k_{1}\\right)\\right)} J_{m + 1}(\\kappa \\rho)\\right)} \\rho^{2} - {\\left(2 \\, {\\left(60 \\, B_{\\phi_{1}} k_{1}^{2} \\cos\\left(h k_{1}\\right)^{5} - 60 \\, B_{\\phi_{1}} k_{1}^{2} \\cos\\left(h k_{1}\\right)^{3} + 11 \\, B_{\\phi_{1}} k_{1}^{2} \\cos\\left(h k_{1}\\right)\\right)} m J_{m}(\\kappa \\rho) \\sin\\left(h k_{1}\\right) - {\\left(3 \\, {\\left(4 \\, B_{\\phi_{1}} \\cos\\left(h k_{1}\\right)^{5} - 4 \\, B_{\\phi_{1}} \\cos\\left(h k_{1}\\right)^{3} + B_{\\phi_{1}} \\cos\\left(h k_{1}\\right)\\right)} \\kappa m^{3} J_{m - 1}(\\kappa \\rho) \\sin\\left(h k_{1}\\right) - 2 \\, {\\left(4 \\, A_{z_{1}} k_{1} \\cos\\left(h k_{1}\\right)^{5} - 4 \\, A_{z_{1}} k_{1} \\cos\\left(h k_{1}\\right)^{3} + A_{z_{1}} k_{1} \\cos\\left(h k_{1}\\right)\\right)} \\kappa m^{2} J_{m - 1}(\\kappa \\rho) \\sin\\left(h k_{1}\\right) - 2 \\, {\\left(3 \\, {\\left(4 \\, B_{\\phi_{1}} \\cos\\left(h k_{1}\\right)^{5} - 4 \\, B_{\\phi_{1}} \\cos\\left(h k_{1}\\right)^{3} + B_{\\phi_{1}} \\cos\\left(h k_{1}\\right)\\right)} \\kappa^{2} \\sin\\left(h k_{1}\\right) - {\\left(60 \\, B_{\\phi_{1}} k_{1}^{2} \\cos\\left(h k_{1}\\right)^{5} - 60 \\, B_{\\phi_{1}} k_{1}^{2} \\cos\\left(h k_{1}\\right)^{3} + 11 \\, B_{\\phi_{1}} k_{1}^{2} \\cos\\left(h k_{1}\\right)\\right)} \\sin\\left(h k_{1}\\right)\\right)} m J_{m}(\\kappa \\rho) - {\\left(3 \\, {\\left(4 \\, B_{\\phi_{1}} \\cos\\left(h k_{1}\\right)^{5} - 4 \\, B_{\\phi_{1}} \\cos\\left(h k_{1}\\right)^{3} + B_{\\phi_{1}} \\cos\\left(h k_{1}\\right)\\right)} \\kappa m^{3} \\sin\\left(h k_{1}\\right) - 2 \\, {\\left(4 \\, A_{z_{1}} k_{1} \\cos\\left(h k_{1}\\right)^{5} - 4 \\, A_{z_{1}} k_{1} \\cos\\left(h k_{1}\\right)^{3} + A_{z_{1}} k_{1} \\cos\\left(h k_{1}\\right)\\right)} \\kappa m^{2} \\sin\\left(h k_{1}\\right)\\right)} J_{m + 1}(\\kappa \\rho)\\right)} r_{1}\\right)} \\rho\\right)} \\cos\\left(k_{1} z\\right) \\sin\\left(k_{1} z\\right)^{2} + {\\left(2 \\, {\\left(8 \\, B_{\\phi_{1}} \\cos\\left(h k_{1}\\right)^{6} - 12 \\, B_{\\phi_{1}} \\cos\\left(h k_{1}\\right)^{4} + 6 \\, B_{\\phi_{1}} \\cos\\left(h k_{1}\\right)^{2} - B_{\\phi_{1}}\\right)} m^{3} r_{1} J_{m}(\\kappa \\rho) - {\\left({\\left(40 \\, B_{\\phi_{1}} k_{1}^{2} \\cos\\left(h k_{1}\\right)^{6} - 60 \\, B_{\\phi_{1}} k_{1}^{2} \\cos\\left(h k_{1}\\right)^{4} + 22 \\, B_{\\phi_{1}} k_{1}^{2} \\cos\\left(h k_{1}\\right)^{2} - B_{\\phi_{1}} k_{1}^{2}\\right)} \\kappa m J_{m - 1}(\\kappa \\rho) - {\\left(24 \\, A_{z_{1}} k_{1}^{3} \\cos\\left(h k_{1}\\right)^{6} - 36 \\, A_{z_{1}} k_{1}^{3} \\cos\\left(h k_{1}\\right)^{4} + 14 \\, A_{z_{1}} k_{1}^{3} \\cos\\left(h k_{1}\\right)^{2} - A_{z_{1}} k_{1}^{3}\\right)} \\kappa J_{m - 1}(\\kappa \\rho) + {\\left({\\left({\\left(8 \\, B_{\\phi_{1}} \\cos\\left(h k_{1}\\right)^{6} - 12 \\, B_{\\phi_{1}} \\cos\\left(h k_{1}\\right)^{4} + 6 \\, B_{\\phi_{1}} \\cos\\left(h k_{1}\\right)^{2} - B_{\\phi_{1}}\\right)} \\kappa^{3} - {\\left(40 \\, B_{\\phi_{1}} k_{1}^{2} \\cos\\left(h k_{1}\\right)^{6} - 60 \\, B_{\\phi_{1}} k_{1}^{2} \\cos\\left(h k_{1}\\right)^{4} + 22 \\, B_{\\phi_{1}} k_{1}^{2} \\cos\\left(h k_{1}\\right)^{2} - B_{\\phi_{1}} k_{1}^{2}\\right)} \\kappa\\right)} m J_{m - 1}(\\kappa \\rho) + {\\left({\\left(8 \\, A_{z_{1}} k_{1} \\cos\\left(h k_{1}\\right)^{6} - 12 \\, A_{z_{1}} k_{1} \\cos\\left(h k_{1}\\right)^{4} + 6 \\, A_{z_{1}} k_{1} \\cos\\left(h k_{1}\\right)^{2} - A_{z_{1}} k_{1}\\right)} \\kappa^{3} - {\\left(24 \\, A_{z_{1}} k_{1}^{3} \\cos\\left(h k_{1}\\right)^{6} - 36 \\, A_{z_{1}} k_{1}^{3} \\cos\\left(h k_{1}\\right)^{4} + 14 \\, A_{z_{1}} k_{1}^{3} \\cos\\left(h k_{1}\\right)^{2} - A_{z_{1}} k_{1}^{3}\\right)} \\kappa - {\\left({\\left(8 \\, B_{\\phi_{1}} \\cos\\left(h k_{1}\\right)^{6} - 12 \\, B_{\\phi_{1}} \\cos\\left(h k_{1}\\right)^{4} + 6 \\, B_{\\phi_{1}} \\cos\\left(h k_{1}\\right)^{2} - B_{\\phi_{1}}\\right)} \\kappa^{3} - {\\left(40 \\, B_{\\phi_{1}} k_{1}^{2} \\cos\\left(h k_{1}\\right)^{6} - 60 \\, B_{\\phi_{1}} k_{1}^{2} \\cos\\left(h k_{1}\\right)^{4} + 22 \\, B_{\\phi_{1}} k_{1}^{2} \\cos\\left(h k_{1}\\right)^{2} - B_{\\phi_{1}} k_{1}^{2}\\right)} \\kappa\\right)} m\\right)} J_{m + 1}(\\kappa \\rho) - {\\left({\\left(8 \\, A_{z_{1}} k_{1} \\cos\\left(h k_{1}\\right)^{6} - 12 \\, A_{z_{1}} k_{1} \\cos\\left(h k_{1}\\right)^{4} + 6 \\, A_{z_{1}} k_{1} \\cos\\left(h k_{1}\\right)^{2} - A_{z_{1}} k_{1}\\right)} \\kappa^{3} - {\\left(24 \\, A_{z_{1}} k_{1}^{3} \\cos\\left(h k_{1}\\right)^{6} - 36 \\, A_{z_{1}} k_{1}^{3} \\cos\\left(h k_{1}\\right)^{4} + 14 \\, A_{z_{1}} k_{1}^{3} \\cos\\left(h k_{1}\\right)^{2} - A_{z_{1}} k_{1}^{3}\\right)} \\kappa\\right)} J_{m - 1}(\\kappa \\rho)\\right)} r_{1} - {\\left({\\left(40 \\, B_{\\phi_{1}} k_{1}^{2} \\cos\\left(h k_{1}\\right)^{6} - 60 \\, B_{\\phi_{1}} k_{1}^{2} \\cos\\left(h k_{1}\\right)^{4} + 22 \\, B_{\\phi_{1}} k_{1}^{2} \\cos\\left(h k_{1}\\right)^{2} - B_{\\phi_{1}} k_{1}^{2}\\right)} \\kappa m - {\\left(24 \\, A_{z_{1}} k_{1}^{3} \\cos\\left(h k_{1}\\right)^{6} - 36 \\, A_{z_{1}} k_{1}^{3} \\cos\\left(h k_{1}\\right)^{4} + 14 \\, A_{z_{1}} k_{1}^{3} \\cos\\left(h k_{1}\\right)^{2} - A_{z_{1}} k_{1}^{3}\\right)} \\kappa\\right)} J_{m + 1}(\\kappa \\rho)\\right)} \\rho^{2} - {\\left(2 \\, {\\left(40 \\, B_{\\phi_{1}} k_{1}^{2} \\cos\\left(h k_{1}\\right)^{6} - 60 \\, B_{\\phi_{1}} k_{1}^{2} \\cos\\left(h k_{1}\\right)^{4} + 22 \\, B_{\\phi_{1}} k_{1}^{2} \\cos\\left(h k_{1}\\right)^{2} - B_{\\phi_{1}} k_{1}^{2}\\right)} m J_{m}(\\kappa \\rho) - {\\left({\\left(8 \\, B_{\\phi_{1}} \\cos\\left(h k_{1}\\right)^{6} - 12 \\, B_{\\phi_{1}} \\cos\\left(h k_{1}\\right)^{4} + 6 \\, B_{\\phi_{1}} \\cos\\left(h k_{1}\\right)^{2} - B_{\\phi_{1}}\\right)} \\kappa m^{3} J_{m - 1}(\\kappa \\rho) - {\\left(8 \\, A_{z_{1}} k_{1} \\cos\\left(h k_{1}\\right)^{6} - 12 \\, A_{z_{1}} k_{1} \\cos\\left(h k_{1}\\right)^{4} + 6 \\, A_{z_{1}} k_{1} \\cos\\left(h k_{1}\\right)^{2} - A_{z_{1}} k_{1}\\right)} \\kappa m^{2} J_{m - 1}(\\kappa \\rho) + 2 \\, {\\left(40 \\, B_{\\phi_{1}} k_{1}^{2} \\cos\\left(h k_{1}\\right)^{6} - 60 \\, B_{\\phi_{1}} k_{1}^{2} \\cos\\left(h k_{1}\\right)^{4} + 22 \\, B_{\\phi_{1}} k_{1}^{2} \\cos\\left(h k_{1}\\right)^{2} - B_{\\phi_{1}} k_{1}^{2} - {\\left(8 \\, B_{\\phi_{1}} \\cos\\left(h k_{1}\\right)^{6} - 12 \\, B_{\\phi_{1}} \\cos\\left(h k_{1}\\right)^{4} + 6 \\, B_{\\phi_{1}} \\cos\\left(h k_{1}\\right)^{2} - B_{\\phi_{1}}\\right)} \\kappa^{2}\\right)} m J_{m}(\\kappa \\rho) - {\\left({\\left(8 \\, B_{\\phi_{1}} \\cos\\left(h k_{1}\\right)^{6} - 12 \\, B_{\\phi_{1}} \\cos\\left(h k_{1}\\right)^{4} + 6 \\, B_{\\phi_{1}} \\cos\\left(h k_{1}\\right)^{2} - B_{\\phi_{1}}\\right)} \\kappa m^{3} - {\\left(8 \\, A_{z_{1}} k_{1} \\cos\\left(h k_{1}\\right)^{6} - 12 \\, A_{z_{1}} k_{1} \\cos\\left(h k_{1}\\right)^{4} + 6 \\, A_{z_{1}} k_{1} \\cos\\left(h k_{1}\\right)^{2} - A_{z_{1}} k_{1}\\right)} \\kappa m^{2}\\right)} J_{m + 1}(\\kappa \\rho)\\right)} r_{1}\\right)} \\rho\\right)} \\sin\\left(k_{1} z\\right)^{3}}{4 \\, {\\left({\\left(4 \\, k_{1}^{3} \\cos\\left(h k_{1}\\right)^{5} - 4 \\, k_{1}^{3} \\cos\\left(h k_{1}\\right)^{3} + k_{1}^{3} \\cos\\left(h k_{1}\\right)\\right)} \\kappa J_{m + 1}(\\kappa \\rho) \\sin\\left(h k_{1}\\right) - {\\left(4 \\, k_{1}^{3} \\cos\\left(h k_{1}\\right)^{5} - 4 \\, k_{1}^{3} \\cos\\left(h k_{1}\\right)^{3} + k_{1}^{3} \\cos\\left(h k_{1}\\right)\\right)} \\kappa J_{m - 1}(\\kappa \\rho) \\sin\\left(h k_{1}\\right) - {\\left({\\left(4 \\, k_{1}^{3} \\cos\\left(h k_{1}\\right)^{5} - 4 \\, k_{1}^{3} \\cos\\left(h k_{1}\\right)^{3} + k_{1}^{3} \\cos\\left(h k_{1}\\right)\\right)} \\kappa J_{m + 1}(\\kappa \\rho) \\sin\\left(h k_{1}\\right) - {\\left(4 \\, k_{1}^{3} \\cos\\left(h k_{1}\\right)^{5} - 4 \\, k_{1}^{3} \\cos\\left(h k_{1}\\right)^{3} + k_{1}^{3} \\cos\\left(h k_{1}\\right)\\right)} \\kappa J_{m - 1}(\\kappa \\rho) \\sin\\left(h k_{1}\\right)\\right)} r_{1}\\right)} \\rho^{2} \\sin\\left(k_{1} z\\right)^{3} + 2 \\, {\\left(2 \\, {\\left({\\left(2 \\, k_{1} \\cos\\left(h k_{1}\\right)^{6} - 3 \\, k_{1} \\cos\\left(h k_{1}\\right)^{4} + k_{1} \\cos\\left(h k_{1}\\right)^{2}\\right)} \\kappa m^{2} J_{m + 1}(\\kappa \\rho) - {\\left(2 \\, k_{1} \\cos\\left(h k_{1}\\right)^{6} - 3 \\, k_{1} \\cos\\left(h k_{1}\\right)^{4} + k_{1} \\cos\\left(h k_{1}\\right)^{2}\\right)} \\kappa m^{2} J_{m - 1}(\\kappa \\rho)\\right)} r_{1} \\rho - {\\left({\\left(12 \\, k_{1}^{3} \\cos\\left(h k_{1}\\right)^{6} - 18 \\, k_{1}^{3} \\cos\\left(h k_{1}\\right)^{4} + 8 \\, k_{1}^{3} \\cos\\left(h k_{1}\\right)^{2} - k_{1}^{3}\\right)} \\kappa J_{m + 1}(\\kappa \\rho) - {\\left(12 \\, k_{1}^{3} \\cos\\left(h k_{1}\\right)^{6} - 18 \\, k_{1}^{3} \\cos\\left(h k_{1}\\right)^{4} + 8 \\, k_{1}^{3} \\cos\\left(h k_{1}\\right)^{2} - k_{1}^{3}\\right)} \\kappa J_{m - 1}(\\kappa \\rho) + {\\left({\\left(2 \\, {\\left(2 \\, k_{1} \\cos\\left(h k_{1}\\right)^{6} - 3 \\, k_{1} \\cos\\left(h k_{1}\\right)^{4} + k_{1} \\cos\\left(h k_{1}\\right)^{2}\\right)} \\kappa^{3} - {\\left(12 \\, k_{1}^{3} \\cos\\left(h k_{1}\\right)^{6} - 18 \\, k_{1}^{3} \\cos\\left(h k_{1}\\right)^{4} + 8 \\, k_{1}^{3} \\cos\\left(h k_{1}\\right)^{2} - k_{1}^{3}\\right)} \\kappa\\right)} J_{m + 1}(\\kappa \\rho) - {\\left(2 \\, {\\left(2 \\, k_{1} \\cos\\left(h k_{1}\\right)^{6} - 3 \\, k_{1} \\cos\\left(h k_{1}\\right)^{4} + k_{1} \\cos\\left(h k_{1}\\right)^{2}\\right)} \\kappa^{3} - {\\left(12 \\, k_{1}^{3} \\cos\\left(h k_{1}\\right)^{6} - 18 \\, k_{1}^{3} \\cos\\left(h k_{1}\\right)^{4} + 8 \\, k_{1}^{3} \\cos\\left(h k_{1}\\right)^{2} - k_{1}^{3}\\right)} \\kappa\\right)} J_{m - 1}(\\kappa \\rho)\\right)} r_{1}\\right)} \\rho^{2}\\right)} \\cos\\left(k_{1} z\\right)^{3} + 4 \\, {\\left({\\left({\\left(4 \\, k_{1} \\cos\\left(h k_{1}\\right)^{5} - 4 \\, k_{1} \\cos\\left(h k_{1}\\right)^{3} + k_{1} \\cos\\left(h k_{1}\\right)\\right)} \\kappa m^{2} J_{m + 1}(\\kappa \\rho) \\sin\\left(h k_{1}\\right) - {\\left(4 \\, k_{1} \\cos\\left(h k_{1}\\right)^{5} - 4 \\, k_{1} \\cos\\left(h k_{1}\\right)^{3} + k_{1} \\cos\\left(h k_{1}\\right)\\right)} \\kappa m^{2} J_{m - 1}(\\kappa \\rho) \\sin\\left(h k_{1}\\right)\\right)} r_{1} \\rho - {\\left(4 \\, {\\left(4 \\, k_{1}^{3} \\cos\\left(h k_{1}\\right)^{5} - 4 \\, k_{1}^{3} \\cos\\left(h k_{1}\\right)^{3} + k_{1}^{3} \\cos\\left(h k_{1}\\right)\\right)} \\kappa J_{m + 1}(\\kappa \\rho) \\sin\\left(h k_{1}\\right) - 4 \\, {\\left(4 \\, k_{1}^{3} \\cos\\left(h k_{1}\\right)^{5} - 4 \\, k_{1}^{3} \\cos\\left(h k_{1}\\right)^{3} + k_{1}^{3} \\cos\\left(h k_{1}\\right)\\right)} \\kappa J_{m - 1}(\\kappa \\rho) \\sin\\left(h k_{1}\\right) + {\\left({\\left({\\left(4 \\, k_{1} \\cos\\left(h k_{1}\\right)^{5} - 4 \\, k_{1} \\cos\\left(h k_{1}\\right)^{3} + k_{1} \\cos\\left(h k_{1}\\right)\\right)} \\kappa^{3} \\sin\\left(h k_{1}\\right) - 4 \\, {\\left(4 \\, k_{1}^{3} \\cos\\left(h k_{1}\\right)^{5} - 4 \\, k_{1}^{3} \\cos\\left(h k_{1}\\right)^{3} + k_{1}^{3} \\cos\\left(h k_{1}\\right)\\right)} \\kappa \\sin\\left(h k_{1}\\right)\\right)} J_{m + 1}(\\kappa \\rho) - {\\left({\\left(4 \\, k_{1} \\cos\\left(h k_{1}\\right)^{5} - 4 \\, k_{1} \\cos\\left(h k_{1}\\right)^{3} + k_{1} \\cos\\left(h k_{1}\\right)\\right)} \\kappa^{3} \\sin\\left(h k_{1}\\right) - 4 \\, {\\left(4 \\, k_{1}^{3} \\cos\\left(h k_{1}\\right)^{5} - 4 \\, k_{1}^{3} \\cos\\left(h k_{1}\\right)^{3} + k_{1}^{3} \\cos\\left(h k_{1}\\right)\\right)} \\kappa \\sin\\left(h k_{1}\\right)\\right)} J_{m - 1}(\\kappa \\rho)\\right)} r_{1}\\right)} \\rho^{2}\\right)} \\cos\\left(k_{1} z\\right)^{2} \\sin\\left(k_{1} z\\right) - {\\left({\\left({\\left(8 \\, k_{1} \\cos\\left(h k_{1}\\right)^{6} - 12 \\, k_{1} \\cos\\left(h k_{1}\\right)^{4} + 6 \\, k_{1} \\cos\\left(h k_{1}\\right)^{2} - k_{1}\\right)} \\kappa m^{2} J_{m + 1}(\\kappa \\rho) - {\\left(8 \\, k_{1} \\cos\\left(h k_{1}\\right)^{6} - 12 \\, k_{1} \\cos\\left(h k_{1}\\right)^{4} + 6 \\, k_{1} \\cos\\left(h k_{1}\\right)^{2} - k_{1}\\right)} \\kappa m^{2} J_{m - 1}(\\kappa \\rho)\\right)} r_{1} \\rho - {\\left({\\left(56 \\, k_{1}^{3} \\cos\\left(h k_{1}\\right)^{6} - 84 \\, k_{1}^{3} \\cos\\left(h k_{1}\\right)^{4} + 34 \\, k_{1}^{3} \\cos\\left(h k_{1}\\right)^{2} - 3 \\, k_{1}^{3}\\right)} \\kappa J_{m + 1}(\\kappa \\rho) - {\\left(56 \\, k_{1}^{3} \\cos\\left(h k_{1}\\right)^{6} - 84 \\, k_{1}^{3} \\cos\\left(h k_{1}\\right)^{4} + 34 \\, k_{1}^{3} \\cos\\left(h k_{1}\\right)^{2} - 3 \\, k_{1}^{3}\\right)} \\kappa J_{m - 1}(\\kappa \\rho) + {\\left({\\left({\\left(8 \\, k_{1} \\cos\\left(h k_{1}\\right)^{6} - 12 \\, k_{1} \\cos\\left(h k_{1}\\right)^{4} + 6 \\, k_{1} \\cos\\left(h k_{1}\\right)^{2} - k_{1}\\right)} \\kappa^{3} - {\\left(56 \\, k_{1}^{3} \\cos\\left(h k_{1}\\right)^{6} - 84 \\, k_{1}^{3} \\cos\\left(h k_{1}\\right)^{4} + 34 \\, k_{1}^{3} \\cos\\left(h k_{1}\\right)^{2} - 3 \\, k_{1}^{3}\\right)} \\kappa\\right)} J_{m + 1}(\\kappa \\rho) - {\\left({\\left(8 \\, k_{1} \\cos\\left(h k_{1}\\right)^{6} - 12 \\, k_{1} \\cos\\left(h k_{1}\\right)^{4} + 6 \\, k_{1} \\cos\\left(h k_{1}\\right)^{2} - k_{1}\\right)} \\kappa^{3} - {\\left(56 \\, k_{1}^{3} \\cos\\left(h k_{1}\\right)^{6} - 84 \\, k_{1}^{3} \\cos\\left(h k_{1}\\right)^{4} + 34 \\, k_{1}^{3} \\cos\\left(h k_{1}\\right)^{2} - 3 \\, k_{1}^{3}\\right)} \\kappa\\right)} J_{m - 1}(\\kappa \\rho)\\right)} r_{1}\\right)} \\rho^{2}\\right)} \\cos\\left(k_{1} z\\right) \\sin\\left(k_{1} z\\right)^{2}}\\right]$$"
      ],
      "text/plain": [
       "<IPython.core.display.Math object>"
      ]
     },
     "metadata": {},
     "output_type": "display_data"
    },
    {
     "name": "stdout",
     "output_type": "stream",
     "text": [
      "\n",
      "eq4 =\n"
     ]
    },
    {
     "data": {
      "text/latex": [
       "$$\\frac{2 \\, {\\left(8 \\, {\\left(B_{r_{1}} \\cos\\left(h k_{1}\\right)^{5} - B_{r_{1}} \\cos\\left(h k_{1}\\right)^{3}\\right)} m^{3} r_{1} J_{m}(\\kappa \\rho) \\sin\\left(h k_{1}\\right) + {\\left(4 \\, {\\left({\\left({\\left(B_{r_{1}} \\cos\\left(h k_{1}\\right)^{5} - B_{r_{1}} \\cos\\left(h k_{1}\\right)^{3}\\right)} \\kappa^{3} \\sin\\left(h k_{1}\\right) - {\\left(5 \\, {\\left(B_{r_{1}} - 1\\right)} k_{1}^{2} \\cos\\left(h k_{1}\\right)^{5} - 5 \\, {\\left(B_{r_{1}} - 1\\right)} k_{1}^{2} \\cos\\left(h k_{1}\\right)^{3} + {\\left(B_{r_{1}} - 1\\right)} k_{1}^{2} \\cos\\left(h k_{1}\\right)\\right)} \\kappa \\sin\\left(h k_{1}\\right)\\right)} m J_{m + 1}(\\kappa \\rho) - {\\left({\\left(B_{r_{1}} \\cos\\left(h k_{1}\\right)^{5} - B_{r_{1}} \\cos\\left(h k_{1}\\right)^{3}\\right)} \\kappa^{3} \\sin\\left(h k_{1}\\right) - {\\left(5 \\, {\\left(B_{r_{1}} - 1\\right)} k_{1}^{2} \\cos\\left(h k_{1}\\right)^{5} - 5 \\, {\\left(B_{r_{1}} - 1\\right)} k_{1}^{2} \\cos\\left(h k_{1}\\right)^{3} + {\\left(B_{r_{1}} - 1\\right)} k_{1}^{2} \\cos\\left(h k_{1}\\right)\\right)} \\kappa \\sin\\left(h k_{1}\\right)\\right)} m J_{m - 1}(\\kappa \\rho)\\right)} r_{1} - {\\left(2 \\, {\\left(2 \\, B_{r_{1}} B_{z_{1}} k_{1} \\cos\\left(h k_{1}\\right)^{6} - 3 \\, B_{r_{1}} B_{z_{1}} k_{1} \\cos\\left(h k_{1}\\right)^{4} + B_{r_{1}} B_{z_{1}} k_{1} \\cos\\left(h k_{1}\\right)^{2}\\right)} \\kappa^{3} - {\\left(12 \\, {\\left(B_{r_{1}} - 1\\right)} B_{z_{1}} k_{1}^{3} \\cos\\left(h k_{1}\\right)^{6} - 18 \\, {\\left(B_{r_{1}} - 1\\right)} B_{z_{1}} k_{1}^{3} \\cos\\left(h k_{1}\\right)^{4} + 8 \\, {\\left(B_{r_{1}} - 1\\right)} B_{z_{1}} k_{1}^{3} \\cos\\left(h k_{1}\\right)^{2} - {\\left(B_{r_{1}} - 1\\right)} B_{z_{1}} k_{1}^{3} + 2 \\, {\\left(4 \\, {\\left(A_{z_{1}} B_{r_{1}} - A_{z_{1}}\\right)} k_{1}^{3} \\cos\\left(h k_{1}\\right)^{5} - 4 \\, {\\left(A_{z_{1}} B_{r_{1}} - A_{z_{1}}\\right)} k_{1}^{3} \\cos\\left(h k_{1}\\right)^{3} + {\\left(A_{z_{1}} B_{r_{1}} - A_{z_{1}}\\right)} k_{1}^{3} \\cos\\left(h k_{1}\\right)\\right)} \\sin\\left(h k_{1}\\right)\\right)} \\kappa\\right)} J_{m + 1}(\\kappa \\rho) + {\\left(2 \\, {\\left(2 \\, B_{r_{1}} B_{z_{1}} k_{1} \\cos\\left(h k_{1}\\right)^{6} - 3 \\, B_{r_{1}} B_{z_{1}} k_{1} \\cos\\left(h k_{1}\\right)^{4} + B_{r_{1}} B_{z_{1}} k_{1} \\cos\\left(h k_{1}\\right)^{2}\\right)} \\kappa^{3} - {\\left(12 \\, {\\left(B_{r_{1}} - 1\\right)} B_{z_{1}} k_{1}^{3} \\cos\\left(h k_{1}\\right)^{6} - 18 \\, {\\left(B_{r_{1}} - 1\\right)} B_{z_{1}} k_{1}^{3} \\cos\\left(h k_{1}\\right)^{4} + 8 \\, {\\left(B_{r_{1}} - 1\\right)} B_{z_{1}} k_{1}^{3} \\cos\\left(h k_{1}\\right)^{2} - {\\left(B_{r_{1}} - 1\\right)} B_{z_{1}} k_{1}^{3} + 2 \\, {\\left(4 \\, {\\left(A_{z_{1}} B_{r_{1}} - A_{z_{1}}\\right)} k_{1}^{3} \\cos\\left(h k_{1}\\right)^{5} - 4 \\, {\\left(A_{z_{1}} B_{r_{1}} - A_{z_{1}}\\right)} k_{1}^{3} \\cos\\left(h k_{1}\\right)^{3} + {\\left(A_{z_{1}} B_{r_{1}} - A_{z_{1}}\\right)} k_{1}^{3} \\cos\\left(h k_{1}\\right)\\right)} \\sin\\left(h k_{1}\\right)\\right)} \\kappa\\right)} J_{m - 1}(\\kappa \\rho)\\right)} \\rho^{2} + 2 \\, {\\left({\\left(2 \\, B_{r_{1}} B_{z_{1}} k_{1} \\cos\\left(h k_{1}\\right)^{6} - 3 \\, B_{r_{1}} B_{z_{1}} k_{1} \\cos\\left(h k_{1}\\right)^{4} + B_{r_{1}} B_{z_{1}} k_{1} \\cos\\left(h k_{1}\\right)^{2}\\right)} \\kappa m^{2} J_{m + 1}(\\kappa \\rho) - {\\left(2 \\, B_{r_{1}} B_{z_{1}} k_{1} \\cos\\left(h k_{1}\\right)^{6} - 3 \\, B_{r_{1}} B_{z_{1}} k_{1} \\cos\\left(h k_{1}\\right)^{4} + B_{r_{1}} B_{z_{1}} k_{1} \\cos\\left(h k_{1}\\right)^{2}\\right)} \\kappa m^{2} J_{m - 1}(\\kappa \\rho) - 2 \\, {\\left({\\left(B_{r_{1}} \\cos\\left(h k_{1}\\right)^{5} - B_{r_{1}} \\cos\\left(h k_{1}\\right)^{3}\\right)} \\kappa m^{3} J_{m + 1}(\\kappa \\rho) \\sin\\left(h k_{1}\\right) - {\\left(B_{r_{1}} \\cos\\left(h k_{1}\\right)^{5} - B_{r_{1}} \\cos\\left(h k_{1}\\right)^{3}\\right)} \\kappa m^{3} J_{m - 1}(\\kappa \\rho) \\sin\\left(h k_{1}\\right) + 2 \\, {\\left({\\left(B_{r_{1}} \\cos\\left(h k_{1}\\right)^{5} - B_{r_{1}} \\cos\\left(h k_{1}\\right)^{3}\\right)} \\kappa^{2} \\sin\\left(h k_{1}\\right) - {\\left(5 \\, {\\left(B_{r_{1}} - 1\\right)} k_{1}^{2} \\cos\\left(h k_{1}\\right)^{5} - 5 \\, {\\left(B_{r_{1}} - 1\\right)} k_{1}^{2} \\cos\\left(h k_{1}\\right)^{3} + {\\left(B_{r_{1}} - 1\\right)} k_{1}^{2} \\cos\\left(h k_{1}\\right)\\right)} \\sin\\left(h k_{1}\\right)\\right)} m J_{m}(\\kappa \\rho)\\right)} r_{1}\\right)} \\rho\\right)} \\cos\\left(m \\varphi\\right) \\cos\\left(k_{1} z\\right)^{3} - 4 \\, {\\left(6 \\, {\\left(2 \\, B_{r_{1}} \\cos\\left(h k_{1}\\right)^{6} - 3 \\, B_{r_{1}} \\cos\\left(h k_{1}\\right)^{4} + B_{r_{1}} \\cos\\left(h k_{1}\\right)^{2}\\right)} m^{3} r_{1} J_{m}(\\kappa \\rho) + {\\left({\\left({\\left(3 \\, {\\left(2 \\, B_{r_{1}} \\cos\\left(h k_{1}\\right)^{6} - 3 \\, B_{r_{1}} \\cos\\left(h k_{1}\\right)^{4} + B_{r_{1}} \\cos\\left(h k_{1}\\right)^{2}\\right)} \\kappa^{3} - {\\left(30 \\, {\\left(B_{r_{1}} - 1\\right)} k_{1}^{2} \\cos\\left(h k_{1}\\right)^{6} - 45 \\, {\\left(B_{r_{1}} - 1\\right)} k_{1}^{2} \\cos\\left(h k_{1}\\right)^{4} + 17 \\, {\\left(B_{r_{1}} - 1\\right)} k_{1}^{2} \\cos\\left(h k_{1}\\right)^{2} - {\\left(B_{r_{1}} - 1\\right)} k_{1}^{2}\\right)} \\kappa\\right)} m J_{m + 1}(\\kappa \\rho) - {\\left(3 \\, {\\left(2 \\, B_{r_{1}} \\cos\\left(h k_{1}\\right)^{6} - 3 \\, B_{r_{1}} \\cos\\left(h k_{1}\\right)^{4} + B_{r_{1}} \\cos\\left(h k_{1}\\right)^{2}\\right)} \\kappa^{3} - {\\left(30 \\, {\\left(B_{r_{1}} - 1\\right)} k_{1}^{2} \\cos\\left(h k_{1}\\right)^{6} - 45 \\, {\\left(B_{r_{1}} - 1\\right)} k_{1}^{2} \\cos\\left(h k_{1}\\right)^{4} + 17 \\, {\\left(B_{r_{1}} - 1\\right)} k_{1}^{2} \\cos\\left(h k_{1}\\right)^{2} - {\\left(B_{r_{1}} - 1\\right)} k_{1}^{2}\\right)} \\kappa\\right)} m J_{m - 1}(\\kappa \\rho)\\right)} r_{1} - {\\left({\\left(2 \\, A_{z_{1}} B_{r_{1}} k_{1} \\cos\\left(h k_{1}\\right)^{6} - 3 \\, A_{z_{1}} B_{r_{1}} k_{1} \\cos\\left(h k_{1}\\right)^{4} + A_{z_{1}} B_{r_{1}} k_{1} \\cos\\left(h k_{1}\\right)^{2} - {\\left(4 \\, B_{r_{1}} B_{z_{1}} k_{1} \\cos\\left(h k_{1}\\right)^{5} - 4 \\, B_{r_{1}} B_{z_{1}} k_{1} \\cos\\left(h k_{1}\\right)^{3} + B_{r_{1}} B_{z_{1}} k_{1} \\cos\\left(h k_{1}\\right)\\right)} \\sin\\left(h k_{1}\\right)\\right)} \\kappa^{3} - {\\left(14 \\, {\\left(A_{z_{1}} B_{r_{1}} - A_{z_{1}}\\right)} k_{1}^{3} \\cos\\left(h k_{1}\\right)^{6} - 21 \\, {\\left(A_{z_{1}} B_{r_{1}} - A_{z_{1}}\\right)} k_{1}^{3} \\cos\\left(h k_{1}\\right)^{4} + 9 \\, {\\left(A_{z_{1}} B_{r_{1}} - A_{z_{1}}\\right)} k_{1}^{3} \\cos\\left(h k_{1}\\right)^{2} - {\\left(A_{z_{1}} B_{r_{1}} - A_{z_{1}}\\right)} k_{1}^{3} - 4 \\, {\\left(4 \\, {\\left(B_{r_{1}} - 1\\right)} B_{z_{1}} k_{1}^{3} \\cos\\left(h k_{1}\\right)^{5} - 4 \\, {\\left(B_{r_{1}} - 1\\right)} B_{z_{1}} k_{1}^{3} \\cos\\left(h k_{1}\\right)^{3} + {\\left(B_{r_{1}} - 1\\right)} B_{z_{1}} k_{1}^{3} \\cos\\left(h k_{1}\\right)\\right)} \\sin\\left(h k_{1}\\right)\\right)} \\kappa\\right)} J_{m + 1}(\\kappa \\rho) + {\\left({\\left(2 \\, A_{z_{1}} B_{r_{1}} k_{1} \\cos\\left(h k_{1}\\right)^{6} - 3 \\, A_{z_{1}} B_{r_{1}} k_{1} \\cos\\left(h k_{1}\\right)^{4} + A_{z_{1}} B_{r_{1}} k_{1} \\cos\\left(h k_{1}\\right)^{2} - {\\left(4 \\, B_{r_{1}} B_{z_{1}} k_{1} \\cos\\left(h k_{1}\\right)^{5} - 4 \\, B_{r_{1}} B_{z_{1}} k_{1} \\cos\\left(h k_{1}\\right)^{3} + B_{r_{1}} B_{z_{1}} k_{1} \\cos\\left(h k_{1}\\right)\\right)} \\sin\\left(h k_{1}\\right)\\right)} \\kappa^{3} - {\\left(14 \\, {\\left(A_{z_{1}} B_{r_{1}} - A_{z_{1}}\\right)} k_{1}^{3} \\cos\\left(h k_{1}\\right)^{6} - 21 \\, {\\left(A_{z_{1}} B_{r_{1}} - A_{z_{1}}\\right)} k_{1}^{3} \\cos\\left(h k_{1}\\right)^{4} + 9 \\, {\\left(A_{z_{1}} B_{r_{1}} - A_{z_{1}}\\right)} k_{1}^{3} \\cos\\left(h k_{1}\\right)^{2} - {\\left(A_{z_{1}} B_{r_{1}} - A_{z_{1}}\\right)} k_{1}^{3} - 4 \\, {\\left(4 \\, {\\left(B_{r_{1}} - 1\\right)} B_{z_{1}} k_{1}^{3} \\cos\\left(h k_{1}\\right)^{5} - 4 \\, {\\left(B_{r_{1}} - 1\\right)} B_{z_{1}} k_{1}^{3} \\cos\\left(h k_{1}\\right)^{3} + {\\left(B_{r_{1}} - 1\\right)} B_{z_{1}} k_{1}^{3} \\cos\\left(h k_{1}\\right)\\right)} \\sin\\left(h k_{1}\\right)\\right)} \\kappa\\right)} J_{m - 1}(\\kappa \\rho)\\right)} \\rho^{2} + {\\left({\\left(2 \\, A_{z_{1}} B_{r_{1}} k_{1} \\cos\\left(h k_{1}\\right)^{6} - 3 \\, A_{z_{1}} B_{r_{1}} k_{1} \\cos\\left(h k_{1}\\right)^{4} + A_{z_{1}} B_{r_{1}} k_{1} \\cos\\left(h k_{1}\\right)^{2} - {\\left(4 \\, B_{r_{1}} B_{z_{1}} k_{1} \\cos\\left(h k_{1}\\right)^{5} - 4 \\, B_{r_{1}} B_{z_{1}} k_{1} \\cos\\left(h k_{1}\\right)^{3} + B_{r_{1}} B_{z_{1}} k_{1} \\cos\\left(h k_{1}\\right)\\right)} \\sin\\left(h k_{1}\\right)\\right)} \\kappa m^{2} J_{m + 1}(\\kappa \\rho) - {\\left(2 \\, A_{z_{1}} B_{r_{1}} k_{1} \\cos\\left(h k_{1}\\right)^{6} - 3 \\, A_{z_{1}} B_{r_{1}} k_{1} \\cos\\left(h k_{1}\\right)^{4} + A_{z_{1}} B_{r_{1}} k_{1} \\cos\\left(h k_{1}\\right)^{2} - {\\left(4 \\, B_{r_{1}} B_{z_{1}} k_{1} \\cos\\left(h k_{1}\\right)^{5} - 4 \\, B_{r_{1}} B_{z_{1}} k_{1} \\cos\\left(h k_{1}\\right)^{3} + B_{r_{1}} B_{z_{1}} k_{1} \\cos\\left(h k_{1}\\right)\\right)} \\sin\\left(h k_{1}\\right)\\right)} \\kappa m^{2} J_{m - 1}(\\kappa \\rho) - {\\left(3 \\, {\\left(2 \\, B_{r_{1}} \\cos\\left(h k_{1}\\right)^{6} - 3 \\, B_{r_{1}} \\cos\\left(h k_{1}\\right)^{4} + B_{r_{1}} \\cos\\left(h k_{1}\\right)^{2}\\right)} \\kappa m^{3} J_{m + 1}(\\kappa \\rho) - 3 \\, {\\left(2 \\, B_{r_{1}} \\cos\\left(h k_{1}\\right)^{6} - 3 \\, B_{r_{1}} \\cos\\left(h k_{1}\\right)^{4} + B_{r_{1}} \\cos\\left(h k_{1}\\right)^{2}\\right)} \\kappa m^{3} J_{m - 1}(\\kappa \\rho) - 2 \\, {\\left(30 \\, {\\left(B_{r_{1}} - 1\\right)} k_{1}^{2} \\cos\\left(h k_{1}\\right)^{6} - 45 \\, {\\left(B_{r_{1}} - 1\\right)} k_{1}^{2} \\cos\\left(h k_{1}\\right)^{4} + 17 \\, {\\left(B_{r_{1}} - 1\\right)} k_{1}^{2} \\cos\\left(h k_{1}\\right)^{2} - {\\left(B_{r_{1}} - 1\\right)} k_{1}^{2} - 3 \\, {\\left(2 \\, B_{r_{1}} \\cos\\left(h k_{1}\\right)^{6} - 3 \\, B_{r_{1}} \\cos\\left(h k_{1}\\right)^{4} + B_{r_{1}} \\cos\\left(h k_{1}\\right)^{2}\\right)} \\kappa^{2}\\right)} m J_{m}(\\kappa \\rho)\\right)} r_{1}\\right)} \\rho\\right)} \\cos\\left(m \\varphi\\right) \\cos\\left(k_{1} z\\right)^{2} \\sin\\left(k_{1} z\\right) - {\\left(12 \\, {\\left(4 \\, B_{r_{1}} \\cos\\left(h k_{1}\\right)^{5} - 4 \\, B_{r_{1}} \\cos\\left(h k_{1}\\right)^{3} + B_{r_{1}} \\cos\\left(h k_{1}\\right)\\right)} m^{3} r_{1} J_{m}(\\kappa \\rho) \\sin\\left(h k_{1}\\right) + {\\left(2 \\, {\\left({\\left(3 \\, {\\left(4 \\, B_{r_{1}} \\cos\\left(h k_{1}\\right)^{5} - 4 \\, B_{r_{1}} \\cos\\left(h k_{1}\\right)^{3} + B_{r_{1}} \\cos\\left(h k_{1}\\right)\\right)} \\kappa^{3} \\sin\\left(h k_{1}\\right) - {\\left(60 \\, {\\left(B_{r_{1}} - 1\\right)} k_{1}^{2} \\cos\\left(h k_{1}\\right)^{5} - 60 \\, {\\left(B_{r_{1}} - 1\\right)} k_{1}^{2} \\cos\\left(h k_{1}\\right)^{3} + 11 \\, {\\left(B_{r_{1}} - 1\\right)} k_{1}^{2} \\cos\\left(h k_{1}\\right)\\right)} \\kappa \\sin\\left(h k_{1}\\right)\\right)} m J_{m + 1}(\\kappa \\rho) - {\\left(3 \\, {\\left(4 \\, B_{r_{1}} \\cos\\left(h k_{1}\\right)^{5} - 4 \\, B_{r_{1}} \\cos\\left(h k_{1}\\right)^{3} + B_{r_{1}} \\cos\\left(h k_{1}\\right)\\right)} \\kappa^{3} \\sin\\left(h k_{1}\\right) - {\\left(60 \\, {\\left(B_{r_{1}} - 1\\right)} k_{1}^{2} \\cos\\left(h k_{1}\\right)^{5} - 60 \\, {\\left(B_{r_{1}} - 1\\right)} k_{1}^{2} \\cos\\left(h k_{1}\\right)^{3} + 11 \\, {\\left(B_{r_{1}} - 1\\right)} k_{1}^{2} \\cos\\left(h k_{1}\\right)\\right)} \\kappa \\sin\\left(h k_{1}\\right)\\right)} m J_{m - 1}(\\kappa \\rho)\\right)} r_{1} - {\\left({\\left(8 \\, B_{r_{1}} B_{z_{1}} k_{1} \\cos\\left(h k_{1}\\right)^{6} - 12 \\, B_{r_{1}} B_{z_{1}} k_{1} \\cos\\left(h k_{1}\\right)^{4} + 6 \\, B_{r_{1}} B_{z_{1}} k_{1} \\cos\\left(h k_{1}\\right)^{2} - B_{r_{1}} B_{z_{1}} k_{1} + 4 \\, {\\left(4 \\, A_{z_{1}} B_{r_{1}} k_{1} \\cos\\left(h k_{1}\\right)^{5} - 4 \\, A_{z_{1}} B_{r_{1}} k_{1} \\cos\\left(h k_{1}\\right)^{3} + A_{z_{1}} B_{r_{1}} k_{1} \\cos\\left(h k_{1}\\right)\\right)} \\sin\\left(h k_{1}\\right)\\right)} \\kappa^{3} - {\\left(56 \\, {\\left(B_{r_{1}} - 1\\right)} B_{z_{1}} k_{1}^{3} \\cos\\left(h k_{1}\\right)^{6} - 84 \\, {\\left(B_{r_{1}} - 1\\right)} B_{z_{1}} k_{1}^{3} \\cos\\left(h k_{1}\\right)^{4} + 34 \\, {\\left(B_{r_{1}} - 1\\right)} B_{z_{1}} k_{1}^{3} \\cos\\left(h k_{1}\\right)^{2} - 3 \\, {\\left(B_{r_{1}} - 1\\right)} B_{z_{1}} k_{1}^{3} + 16 \\, {\\left(4 \\, {\\left(A_{z_{1}} B_{r_{1}} - A_{z_{1}}\\right)} k_{1}^{3} \\cos\\left(h k_{1}\\right)^{5} - 4 \\, {\\left(A_{z_{1}} B_{r_{1}} - A_{z_{1}}\\right)} k_{1}^{3} \\cos\\left(h k_{1}\\right)^{3} + {\\left(A_{z_{1}} B_{r_{1}} - A_{z_{1}}\\right)} k_{1}^{3} \\cos\\left(h k_{1}\\right)\\right)} \\sin\\left(h k_{1}\\right)\\right)} \\kappa\\right)} J_{m + 1}(\\kappa \\rho) + {\\left({\\left(8 \\, B_{r_{1}} B_{z_{1}} k_{1} \\cos\\left(h k_{1}\\right)^{6} - 12 \\, B_{r_{1}} B_{z_{1}} k_{1} \\cos\\left(h k_{1}\\right)^{4} + 6 \\, B_{r_{1}} B_{z_{1}} k_{1} \\cos\\left(h k_{1}\\right)^{2} - B_{r_{1}} B_{z_{1}} k_{1} + 4 \\, {\\left(4 \\, A_{z_{1}} B_{r_{1}} k_{1} \\cos\\left(h k_{1}\\right)^{5} - 4 \\, A_{z_{1}} B_{r_{1}} k_{1} \\cos\\left(h k_{1}\\right)^{3} + A_{z_{1}} B_{r_{1}} k_{1} \\cos\\left(h k_{1}\\right)\\right)} \\sin\\left(h k_{1}\\right)\\right)} \\kappa^{3} - {\\left(56 \\, {\\left(B_{r_{1}} - 1\\right)} B_{z_{1}} k_{1}^{3} \\cos\\left(h k_{1}\\right)^{6} - 84 \\, {\\left(B_{r_{1}} - 1\\right)} B_{z_{1}} k_{1}^{3} \\cos\\left(h k_{1}\\right)^{4} + 34 \\, {\\left(B_{r_{1}} - 1\\right)} B_{z_{1}} k_{1}^{3} \\cos\\left(h k_{1}\\right)^{2} - 3 \\, {\\left(B_{r_{1}} - 1\\right)} B_{z_{1}} k_{1}^{3} + 16 \\, {\\left(4 \\, {\\left(A_{z_{1}} B_{r_{1}} - A_{z_{1}}\\right)} k_{1}^{3} \\cos\\left(h k_{1}\\right)^{5} - 4 \\, {\\left(A_{z_{1}} B_{r_{1}} - A_{z_{1}}\\right)} k_{1}^{3} \\cos\\left(h k_{1}\\right)^{3} + {\\left(A_{z_{1}} B_{r_{1}} - A_{z_{1}}\\right)} k_{1}^{3} \\cos\\left(h k_{1}\\right)\\right)} \\sin\\left(h k_{1}\\right)\\right)} \\kappa\\right)} J_{m - 1}(\\kappa \\rho)\\right)} \\rho^{2} + {\\left({\\left(8 \\, B_{r_{1}} B_{z_{1}} k_{1} \\cos\\left(h k_{1}\\right)^{6} - 12 \\, B_{r_{1}} B_{z_{1}} k_{1} \\cos\\left(h k_{1}\\right)^{4} + 6 \\, B_{r_{1}} B_{z_{1}} k_{1} \\cos\\left(h k_{1}\\right)^{2} - B_{r_{1}} B_{z_{1}} k_{1} + 4 \\, {\\left(4 \\, A_{z_{1}} B_{r_{1}} k_{1} \\cos\\left(h k_{1}\\right)^{5} - 4 \\, A_{z_{1}} B_{r_{1}} k_{1} \\cos\\left(h k_{1}\\right)^{3} + A_{z_{1}} B_{r_{1}} k_{1} \\cos\\left(h k_{1}\\right)\\right)} \\sin\\left(h k_{1}\\right)\\right)} \\kappa m^{2} J_{m + 1}(\\kappa \\rho) - {\\left(8 \\, B_{r_{1}} B_{z_{1}} k_{1} \\cos\\left(h k_{1}\\right)^{6} - 12 \\, B_{r_{1}} B_{z_{1}} k_{1} \\cos\\left(h k_{1}\\right)^{4} + 6 \\, B_{r_{1}} B_{z_{1}} k_{1} \\cos\\left(h k_{1}\\right)^{2} - B_{r_{1}} B_{z_{1}} k_{1} + 4 \\, {\\left(4 \\, A_{z_{1}} B_{r_{1}} k_{1} \\cos\\left(h k_{1}\\right)^{5} - 4 \\, A_{z_{1}} B_{r_{1}} k_{1} \\cos\\left(h k_{1}\\right)^{3} + A_{z_{1}} B_{r_{1}} k_{1} \\cos\\left(h k_{1}\\right)\\right)} \\sin\\left(h k_{1}\\right)\\right)} \\kappa m^{2} J_{m - 1}(\\kappa \\rho) - 2 \\, {\\left(3 \\, {\\left(4 \\, B_{r_{1}} \\cos\\left(h k_{1}\\right)^{5} - 4 \\, B_{r_{1}} \\cos\\left(h k_{1}\\right)^{3} + B_{r_{1}} \\cos\\left(h k_{1}\\right)\\right)} \\kappa m^{3} J_{m + 1}(\\kappa \\rho) \\sin\\left(h k_{1}\\right) - 3 \\, {\\left(4 \\, B_{r_{1}} \\cos\\left(h k_{1}\\right)^{5} - 4 \\, B_{r_{1}} \\cos\\left(h k_{1}\\right)^{3} + B_{r_{1}} \\cos\\left(h k_{1}\\right)\\right)} \\kappa m^{3} J_{m - 1}(\\kappa \\rho) \\sin\\left(h k_{1}\\right) + 2 \\, {\\left(3 \\, {\\left(4 \\, B_{r_{1}} \\cos\\left(h k_{1}\\right)^{5} - 4 \\, B_{r_{1}} \\cos\\left(h k_{1}\\right)^{3} + B_{r_{1}} \\cos\\left(h k_{1}\\right)\\right)} \\kappa^{2} \\sin\\left(h k_{1}\\right) - {\\left(60 \\, {\\left(B_{r_{1}} - 1\\right)} k_{1}^{2} \\cos\\left(h k_{1}\\right)^{5} - 60 \\, {\\left(B_{r_{1}} - 1\\right)} k_{1}^{2} \\cos\\left(h k_{1}\\right)^{3} + 11 \\, {\\left(B_{r_{1}} - 1\\right)} k_{1}^{2} \\cos\\left(h k_{1}\\right)\\right)} \\sin\\left(h k_{1}\\right)\\right)} m J_{m}(\\kappa \\rho)\\right)} r_{1}\\right)} \\rho\\right)} \\cos\\left(m \\varphi\\right) \\cos\\left(k_{1} z\\right) \\sin\\left(k_{1} z\\right)^{2} + {\\left(2 \\, {\\left(8 \\, B_{r_{1}} \\cos\\left(h k_{1}\\right)^{6} - 12 \\, B_{r_{1}} \\cos\\left(h k_{1}\\right)^{4} + 6 \\, B_{r_{1}} \\cos\\left(h k_{1}\\right)^{2} - B_{r_{1}}\\right)} m^{3} r_{1} J_{m}(\\kappa \\rho) + {\\left({\\left({\\left({\\left(8 \\, B_{r_{1}} \\cos\\left(h k_{1}\\right)^{6} - 12 \\, B_{r_{1}} \\cos\\left(h k_{1}\\right)^{4} + 6 \\, B_{r_{1}} \\cos\\left(h k_{1}\\right)^{2} - B_{r_{1}}\\right)} \\kappa^{3} - {\\left(40 \\, {\\left(B_{r_{1}} - 1\\right)} k_{1}^{2} \\cos\\left(h k_{1}\\right)^{6} - 60 \\, {\\left(B_{r_{1}} - 1\\right)} k_{1}^{2} \\cos\\left(h k_{1}\\right)^{4} + 22 \\, {\\left(B_{r_{1}} - 1\\right)} k_{1}^{2} \\cos\\left(h k_{1}\\right)^{2} - {\\left(B_{r_{1}} - 1\\right)} k_{1}^{2}\\right)} \\kappa\\right)} m J_{m + 1}(\\kappa \\rho) - {\\left({\\left(8 \\, B_{r_{1}} \\cos\\left(h k_{1}\\right)^{6} - 12 \\, B_{r_{1}} \\cos\\left(h k_{1}\\right)^{4} + 6 \\, B_{r_{1}} \\cos\\left(h k_{1}\\right)^{2} - B_{r_{1}}\\right)} \\kappa^{3} - {\\left(40 \\, {\\left(B_{r_{1}} - 1\\right)} k_{1}^{2} \\cos\\left(h k_{1}\\right)^{6} - 60 \\, {\\left(B_{r_{1}} - 1\\right)} k_{1}^{2} \\cos\\left(h k_{1}\\right)^{4} + 22 \\, {\\left(B_{r_{1}} - 1\\right)} k_{1}^{2} \\cos\\left(h k_{1}\\right)^{2} - {\\left(B_{r_{1}} - 1\\right)} k_{1}^{2}\\right)} \\kappa\\right)} m J_{m - 1}(\\kappa \\rho)\\right)} r_{1} - {\\left({\\left(8 \\, A_{z_{1}} B_{r_{1}} k_{1} \\cos\\left(h k_{1}\\right)^{6} - 12 \\, A_{z_{1}} B_{r_{1}} k_{1} \\cos\\left(h k_{1}\\right)^{4} + 6 \\, A_{z_{1}} B_{r_{1}} k_{1} \\cos\\left(h k_{1}\\right)^{2} - A_{z_{1}} B_{r_{1}} k_{1}\\right)} \\kappa^{3} - {\\left(24 \\, {\\left(A_{z_{1}} B_{r_{1}} - A_{z_{1}}\\right)} k_{1}^{3} \\cos\\left(h k_{1}\\right)^{6} - 36 \\, {\\left(A_{z_{1}} B_{r_{1}} - A_{z_{1}}\\right)} k_{1}^{3} \\cos\\left(h k_{1}\\right)^{4} + 14 \\, {\\left(A_{z_{1}} B_{r_{1}} - A_{z_{1}}\\right)} k_{1}^{3} \\cos\\left(h k_{1}\\right)^{2} - {\\left(A_{z_{1}} B_{r_{1}} - A_{z_{1}}\\right)} k_{1}^{3} - 4 \\, {\\left(4 \\, {\\left(B_{r_{1}} - 1\\right)} B_{z_{1}} k_{1}^{3} \\cos\\left(h k_{1}\\right)^{5} - 4 \\, {\\left(B_{r_{1}} - 1\\right)} B_{z_{1}} k_{1}^{3} \\cos\\left(h k_{1}\\right)^{3} + {\\left(B_{r_{1}} - 1\\right)} B_{z_{1}} k_{1}^{3} \\cos\\left(h k_{1}\\right)\\right)} \\sin\\left(h k_{1}\\right)\\right)} \\kappa\\right)} J_{m + 1}(\\kappa \\rho) + {\\left({\\left(8 \\, A_{z_{1}} B_{r_{1}} k_{1} \\cos\\left(h k_{1}\\right)^{6} - 12 \\, A_{z_{1}} B_{r_{1}} k_{1} \\cos\\left(h k_{1}\\right)^{4} + 6 \\, A_{z_{1}} B_{r_{1}} k_{1} \\cos\\left(h k_{1}\\right)^{2} - A_{z_{1}} B_{r_{1}} k_{1}\\right)} \\kappa^{3} - {\\left(24 \\, {\\left(A_{z_{1}} B_{r_{1}} - A_{z_{1}}\\right)} k_{1}^{3} \\cos\\left(h k_{1}\\right)^{6} - 36 \\, {\\left(A_{z_{1}} B_{r_{1}} - A_{z_{1}}\\right)} k_{1}^{3} \\cos\\left(h k_{1}\\right)^{4} + 14 \\, {\\left(A_{z_{1}} B_{r_{1}} - A_{z_{1}}\\right)} k_{1}^{3} \\cos\\left(h k_{1}\\right)^{2} - {\\left(A_{z_{1}} B_{r_{1}} - A_{z_{1}}\\right)} k_{1}^{3} - 4 \\, {\\left(4 \\, {\\left(B_{r_{1}} - 1\\right)} B_{z_{1}} k_{1}^{3} \\cos\\left(h k_{1}\\right)^{5} - 4 \\, {\\left(B_{r_{1}} - 1\\right)} B_{z_{1}} k_{1}^{3} \\cos\\left(h k_{1}\\right)^{3} + {\\left(B_{r_{1}} - 1\\right)} B_{z_{1}} k_{1}^{3} \\cos\\left(h k_{1}\\right)\\right)} \\sin\\left(h k_{1}\\right)\\right)} \\kappa\\right)} J_{m - 1}(\\kappa \\rho)\\right)} \\rho^{2} + {\\left({\\left(8 \\, A_{z_{1}} B_{r_{1}} k_{1} \\cos\\left(h k_{1}\\right)^{6} - 12 \\, A_{z_{1}} B_{r_{1}} k_{1} \\cos\\left(h k_{1}\\right)^{4} + 6 \\, A_{z_{1}} B_{r_{1}} k_{1} \\cos\\left(h k_{1}\\right)^{2} - A_{z_{1}} B_{r_{1}} k_{1}\\right)} \\kappa m^{2} J_{m + 1}(\\kappa \\rho) - {\\left(8 \\, A_{z_{1}} B_{r_{1}} k_{1} \\cos\\left(h k_{1}\\right)^{6} - 12 \\, A_{z_{1}} B_{r_{1}} k_{1} \\cos\\left(h k_{1}\\right)^{4} + 6 \\, A_{z_{1}} B_{r_{1}} k_{1} \\cos\\left(h k_{1}\\right)^{2} - A_{z_{1}} B_{r_{1}} k_{1}\\right)} \\kappa m^{2} J_{m - 1}(\\kappa \\rho) - {\\left({\\left(8 \\, B_{r_{1}} \\cos\\left(h k_{1}\\right)^{6} - 12 \\, B_{r_{1}} \\cos\\left(h k_{1}\\right)^{4} + 6 \\, B_{r_{1}} \\cos\\left(h k_{1}\\right)^{2} - B_{r_{1}}\\right)} \\kappa m^{3} J_{m + 1}(\\kappa \\rho) - {\\left(8 \\, B_{r_{1}} \\cos\\left(h k_{1}\\right)^{6} - 12 \\, B_{r_{1}} \\cos\\left(h k_{1}\\right)^{4} + 6 \\, B_{r_{1}} \\cos\\left(h k_{1}\\right)^{2} - B_{r_{1}}\\right)} \\kappa m^{3} J_{m - 1}(\\kappa \\rho) - 2 \\, {\\left(40 \\, {\\left(B_{r_{1}} - 1\\right)} k_{1}^{2} \\cos\\left(h k_{1}\\right)^{6} - 60 \\, {\\left(B_{r_{1}} - 1\\right)} k_{1}^{2} \\cos\\left(h k_{1}\\right)^{4} + 22 \\, {\\left(B_{r_{1}} - 1\\right)} k_{1}^{2} \\cos\\left(h k_{1}\\right)^{2} - {\\left(B_{r_{1}} - 1\\right)} k_{1}^{2} - {\\left(8 \\, B_{r_{1}} \\cos\\left(h k_{1}\\right)^{6} - 12 \\, B_{r_{1}} \\cos\\left(h k_{1}\\right)^{4} + 6 \\, B_{r_{1}} \\cos\\left(h k_{1}\\right)^{2} - B_{r_{1}}\\right)} \\kappa^{2}\\right)} m J_{m}(\\kappa \\rho)\\right)} r_{1}\\right)} \\rho\\right)} \\cos\\left(m \\varphi\\right) \\sin\\left(k_{1} z\\right)^{3}}{2 \\, {\\left(4 \\, {\\left({\\left(2 \\, B_{r_{1}} \\cos\\left(h k_{1}\\right)^{6} - 3 \\, B_{r_{1}} \\cos\\left(h k_{1}\\right)^{4} + B_{r_{1}} \\cos\\left(h k_{1}\\right)^{2}\\right)} \\kappa^{2} \\mu_{1} \\rho^{2} - {\\left(2 \\, B_{r_{1}} \\cos\\left(h k_{1}\\right)^{6} - 3 \\, B_{r_{1}} \\cos\\left(h k_{1}\\right)^{4} + B_{r_{1}} \\cos\\left(h k_{1}\\right)^{2}\\right)} m^{2} \\mu_{1} \\rho\\right)} \\cos\\left(k_{1} z\\right)^{2} + 4 \\, {\\left({\\left(4 \\, B_{r_{1}} \\cos\\left(h k_{1}\\right)^{5} - 4 \\, B_{r_{1}} \\cos\\left(h k_{1}\\right)^{3} + B_{r_{1}} \\cos\\left(h k_{1}\\right)\\right)} \\kappa^{2} \\mu_{1} \\rho^{2} \\sin\\left(h k_{1}\\right) - {\\left(4 \\, B_{r_{1}} \\cos\\left(h k_{1}\\right)^{5} - 4 \\, B_{r_{1}} \\cos\\left(h k_{1}\\right)^{3} + B_{r_{1}} \\cos\\left(h k_{1}\\right)\\right)} m^{2} \\mu_{1} \\rho \\sin\\left(h k_{1}\\right)\\right)} \\cos\\left(k_{1} z\\right) \\sin\\left(k_{1} z\\right) - {\\left({\\left(8 \\, B_{r_{1}} \\cos\\left(h k_{1}\\right)^{6} - 12 \\, B_{r_{1}} \\cos\\left(h k_{1}\\right)^{4} + 6 \\, B_{r_{1}} \\cos\\left(h k_{1}\\right)^{2} - B_{r_{1}}\\right)} \\kappa^{2} \\mu_{1} \\rho^{2} - {\\left(8 \\, B_{r_{1}} \\cos\\left(h k_{1}\\right)^{6} - 12 \\, B_{r_{1}} \\cos\\left(h k_{1}\\right)^{4} + 6 \\, B_{r_{1}} \\cos\\left(h k_{1}\\right)^{2} - B_{r_{1}}\\right)} m^{2} \\mu_{1} \\rho\\right)} \\sin\\left(k_{1} z\\right)^{2}\\right)}} = 0$$"
      ],
      "text/plain": [
       "<IPython.core.display.Math object>"
      ]
     },
     "metadata": {},
     "output_type": "display_data"
    },
    {
     "name": "stdout",
     "output_type": "stream",
     "text": [
      "var =\n"
     ]
    },
    {
     "data": {
      "text/latex": [
       "$$A_{z_{1}}$$"
      ],
      "text/plain": [
       "<IPython.core.display.Math object>"
      ]
     },
     "metadata": {},
     "output_type": "display_data"
    },
    {
     "name": "stdout",
     "output_type": "stream",
     "text": [
      "\n",
      "sol=\n"
     ]
    },
    {
     "data": {
      "text/latex": [
       "$$\\left[A_{z_{1}} = -\\frac{2 \\, {\\left(8 \\, {\\left(B_{r_{1}} \\cos\\left(h k_{1}\\right)^{5} - B_{r_{1}} \\cos\\left(h k_{1}\\right)^{3}\\right)} m^{3} r_{1} J_{m}(\\kappa \\rho) \\sin\\left(h k_{1}\\right) + {\\left(4 \\, {\\left({\\left({\\left(B_{r_{1}} \\cos\\left(h k_{1}\\right)^{5} - B_{r_{1}} \\cos\\left(h k_{1}\\right)^{3}\\right)} \\kappa^{3} \\sin\\left(h k_{1}\\right) - {\\left(5 \\, {\\left(B_{r_{1}} - 1\\right)} k_{1}^{2} \\cos\\left(h k_{1}\\right)^{5} - 5 \\, {\\left(B_{r_{1}} - 1\\right)} k_{1}^{2} \\cos\\left(h k_{1}\\right)^{3} + {\\left(B_{r_{1}} - 1\\right)} k_{1}^{2} \\cos\\left(h k_{1}\\right)\\right)} \\kappa \\sin\\left(h k_{1}\\right)\\right)} m J_{m + 1}(\\kappa \\rho) - {\\left({\\left(B_{r_{1}} \\cos\\left(h k_{1}\\right)^{5} - B_{r_{1}} \\cos\\left(h k_{1}\\right)^{3}\\right)} \\kappa^{3} \\sin\\left(h k_{1}\\right) - {\\left(5 \\, {\\left(B_{r_{1}} - 1\\right)} k_{1}^{2} \\cos\\left(h k_{1}\\right)^{5} - 5 \\, {\\left(B_{r_{1}} - 1\\right)} k_{1}^{2} \\cos\\left(h k_{1}\\right)^{3} + {\\left(B_{r_{1}} - 1\\right)} k_{1}^{2} \\cos\\left(h k_{1}\\right)\\right)} \\kappa \\sin\\left(h k_{1}\\right)\\right)} m J_{m - 1}(\\kappa \\rho)\\right)} r_{1} - {\\left(2 \\, {\\left(2 \\, B_{r_{1}} B_{z_{1}} k_{1} \\cos\\left(h k_{1}\\right)^{6} - 3 \\, B_{r_{1}} B_{z_{1}} k_{1} \\cos\\left(h k_{1}\\right)^{4} + B_{r_{1}} B_{z_{1}} k_{1} \\cos\\left(h k_{1}\\right)^{2}\\right)} \\kappa^{3} - {\\left(12 \\, {\\left(B_{r_{1}} - 1\\right)} B_{z_{1}} k_{1}^{3} \\cos\\left(h k_{1}\\right)^{6} - 18 \\, {\\left(B_{r_{1}} - 1\\right)} B_{z_{1}} k_{1}^{3} \\cos\\left(h k_{1}\\right)^{4} + 8 \\, {\\left(B_{r_{1}} - 1\\right)} B_{z_{1}} k_{1}^{3} \\cos\\left(h k_{1}\\right)^{2} - {\\left(B_{r_{1}} - 1\\right)} B_{z_{1}} k_{1}^{3}\\right)} \\kappa\\right)} J_{m + 1}(\\kappa \\rho) + {\\left(2 \\, {\\left(2 \\, B_{r_{1}} B_{z_{1}} k_{1} \\cos\\left(h k_{1}\\right)^{6} - 3 \\, B_{r_{1}} B_{z_{1}} k_{1} \\cos\\left(h k_{1}\\right)^{4} + B_{r_{1}} B_{z_{1}} k_{1} \\cos\\left(h k_{1}\\right)^{2}\\right)} \\kappa^{3} - {\\left(12 \\, {\\left(B_{r_{1}} - 1\\right)} B_{z_{1}} k_{1}^{3} \\cos\\left(h k_{1}\\right)^{6} - 18 \\, {\\left(B_{r_{1}} - 1\\right)} B_{z_{1}} k_{1}^{3} \\cos\\left(h k_{1}\\right)^{4} + 8 \\, {\\left(B_{r_{1}} - 1\\right)} B_{z_{1}} k_{1}^{3} \\cos\\left(h k_{1}\\right)^{2} - {\\left(B_{r_{1}} - 1\\right)} B_{z_{1}} k_{1}^{3}\\right)} \\kappa\\right)} J_{m - 1}(\\kappa \\rho)\\right)} \\rho^{2} + 2 \\, {\\left({\\left(2 \\, B_{r_{1}} B_{z_{1}} k_{1} \\cos\\left(h k_{1}\\right)^{6} - 3 \\, B_{r_{1}} B_{z_{1}} k_{1} \\cos\\left(h k_{1}\\right)^{4} + B_{r_{1}} B_{z_{1}} k_{1} \\cos\\left(h k_{1}\\right)^{2}\\right)} \\kappa m^{2} J_{m + 1}(\\kappa \\rho) - {\\left(2 \\, B_{r_{1}} B_{z_{1}} k_{1} \\cos\\left(h k_{1}\\right)^{6} - 3 \\, B_{r_{1}} B_{z_{1}} k_{1} \\cos\\left(h k_{1}\\right)^{4} + B_{r_{1}} B_{z_{1}} k_{1} \\cos\\left(h k_{1}\\right)^{2}\\right)} \\kappa m^{2} J_{m - 1}(\\kappa \\rho) - 2 \\, {\\left({\\left(B_{r_{1}} \\cos\\left(h k_{1}\\right)^{5} - B_{r_{1}} \\cos\\left(h k_{1}\\right)^{3}\\right)} \\kappa m^{3} J_{m + 1}(\\kappa \\rho) \\sin\\left(h k_{1}\\right) - {\\left(B_{r_{1}} \\cos\\left(h k_{1}\\right)^{5} - B_{r_{1}} \\cos\\left(h k_{1}\\right)^{3}\\right)} \\kappa m^{3} J_{m - 1}(\\kappa \\rho) \\sin\\left(h k_{1}\\right) + 2 \\, {\\left({\\left(B_{r_{1}} \\cos\\left(h k_{1}\\right)^{5} - B_{r_{1}} \\cos\\left(h k_{1}\\right)^{3}\\right)} \\kappa^{2} \\sin\\left(h k_{1}\\right) - {\\left(5 \\, {\\left(B_{r_{1}} - 1\\right)} k_{1}^{2} \\cos\\left(h k_{1}\\right)^{5} - 5 \\, {\\left(B_{r_{1}} - 1\\right)} k_{1}^{2} \\cos\\left(h k_{1}\\right)^{3} + {\\left(B_{r_{1}} - 1\\right)} k_{1}^{2} \\cos\\left(h k_{1}\\right)\\right)} \\sin\\left(h k_{1}\\right)\\right)} m J_{m}(\\kappa \\rho)\\right)} r_{1}\\right)} \\rho\\right)} \\cos\\left(k_{1} z\\right)^{3} - 4 \\, {\\left(6 \\, {\\left(2 \\, B_{r_{1}} \\cos\\left(h k_{1}\\right)^{6} - 3 \\, B_{r_{1}} \\cos\\left(h k_{1}\\right)^{4} + B_{r_{1}} \\cos\\left(h k_{1}\\right)^{2}\\right)} m^{3} r_{1} J_{m}(\\kappa \\rho) + {\\left({\\left({\\left(3 \\, {\\left(2 \\, B_{r_{1}} \\cos\\left(h k_{1}\\right)^{6} - 3 \\, B_{r_{1}} \\cos\\left(h k_{1}\\right)^{4} + B_{r_{1}} \\cos\\left(h k_{1}\\right)^{2}\\right)} \\kappa^{3} - {\\left(30 \\, {\\left(B_{r_{1}} - 1\\right)} k_{1}^{2} \\cos\\left(h k_{1}\\right)^{6} - 45 \\, {\\left(B_{r_{1}} - 1\\right)} k_{1}^{2} \\cos\\left(h k_{1}\\right)^{4} + 17 \\, {\\left(B_{r_{1}} - 1\\right)} k_{1}^{2} \\cos\\left(h k_{1}\\right)^{2} - {\\left(B_{r_{1}} - 1\\right)} k_{1}^{2}\\right)} \\kappa\\right)} m J_{m + 1}(\\kappa \\rho) - {\\left(3 \\, {\\left(2 \\, B_{r_{1}} \\cos\\left(h k_{1}\\right)^{6} - 3 \\, B_{r_{1}} \\cos\\left(h k_{1}\\right)^{4} + B_{r_{1}} \\cos\\left(h k_{1}\\right)^{2}\\right)} \\kappa^{3} - {\\left(30 \\, {\\left(B_{r_{1}} - 1\\right)} k_{1}^{2} \\cos\\left(h k_{1}\\right)^{6} - 45 \\, {\\left(B_{r_{1}} - 1\\right)} k_{1}^{2} \\cos\\left(h k_{1}\\right)^{4} + 17 \\, {\\left(B_{r_{1}} - 1\\right)} k_{1}^{2} \\cos\\left(h k_{1}\\right)^{2} - {\\left(B_{r_{1}} - 1\\right)} k_{1}^{2}\\right)} \\kappa\\right)} m J_{m - 1}(\\kappa \\rho)\\right)} r_{1} + {\\left({\\left(4 \\, B_{r_{1}} B_{z_{1}} k_{1} \\cos\\left(h k_{1}\\right)^{5} - 4 \\, B_{r_{1}} B_{z_{1}} k_{1} \\cos\\left(h k_{1}\\right)^{3} + B_{r_{1}} B_{z_{1}} k_{1} \\cos\\left(h k_{1}\\right)\\right)} \\kappa^{3} \\sin\\left(h k_{1}\\right) - 4 \\, {\\left(4 \\, {\\left(B_{r_{1}} - 1\\right)} B_{z_{1}} k_{1}^{3} \\cos\\left(h k_{1}\\right)^{5} - 4 \\, {\\left(B_{r_{1}} - 1\\right)} B_{z_{1}} k_{1}^{3} \\cos\\left(h k_{1}\\right)^{3} + {\\left(B_{r_{1}} - 1\\right)} B_{z_{1}} k_{1}^{3} \\cos\\left(h k_{1}\\right)\\right)} \\kappa \\sin\\left(h k_{1}\\right)\\right)} J_{m + 1}(\\kappa \\rho) - {\\left({\\left(4 \\, B_{r_{1}} B_{z_{1}} k_{1} \\cos\\left(h k_{1}\\right)^{5} - 4 \\, B_{r_{1}} B_{z_{1}} k_{1} \\cos\\left(h k_{1}\\right)^{3} + B_{r_{1}} B_{z_{1}} k_{1} \\cos\\left(h k_{1}\\right)\\right)} \\kappa^{3} \\sin\\left(h k_{1}\\right) - 4 \\, {\\left(4 \\, {\\left(B_{r_{1}} - 1\\right)} B_{z_{1}} k_{1}^{3} \\cos\\left(h k_{1}\\right)^{5} - 4 \\, {\\left(B_{r_{1}} - 1\\right)} B_{z_{1}} k_{1}^{3} \\cos\\left(h k_{1}\\right)^{3} + {\\left(B_{r_{1}} - 1\\right)} B_{z_{1}} k_{1}^{3} \\cos\\left(h k_{1}\\right)\\right)} \\kappa \\sin\\left(h k_{1}\\right)\\right)} J_{m - 1}(\\kappa \\rho)\\right)} \\rho^{2} - {\\left({\\left(4 \\, B_{r_{1}} B_{z_{1}} k_{1} \\cos\\left(h k_{1}\\right)^{5} - 4 \\, B_{r_{1}} B_{z_{1}} k_{1} \\cos\\left(h k_{1}\\right)^{3} + B_{r_{1}} B_{z_{1}} k_{1} \\cos\\left(h k_{1}\\right)\\right)} \\kappa m^{2} J_{m + 1}(\\kappa \\rho) \\sin\\left(h k_{1}\\right) - {\\left(4 \\, B_{r_{1}} B_{z_{1}} k_{1} \\cos\\left(h k_{1}\\right)^{5} - 4 \\, B_{r_{1}} B_{z_{1}} k_{1} \\cos\\left(h k_{1}\\right)^{3} + B_{r_{1}} B_{z_{1}} k_{1} \\cos\\left(h k_{1}\\right)\\right)} \\kappa m^{2} J_{m - 1}(\\kappa \\rho) \\sin\\left(h k_{1}\\right) + {\\left(3 \\, {\\left(2 \\, B_{r_{1}} \\cos\\left(h k_{1}\\right)^{6} - 3 \\, B_{r_{1}} \\cos\\left(h k_{1}\\right)^{4} + B_{r_{1}} \\cos\\left(h k_{1}\\right)^{2}\\right)} \\kappa m^{3} J_{m + 1}(\\kappa \\rho) - 3 \\, {\\left(2 \\, B_{r_{1}} \\cos\\left(h k_{1}\\right)^{6} - 3 \\, B_{r_{1}} \\cos\\left(h k_{1}\\right)^{4} + B_{r_{1}} \\cos\\left(h k_{1}\\right)^{2}\\right)} \\kappa m^{3} J_{m - 1}(\\kappa \\rho) - 2 \\, {\\left(30 \\, {\\left(B_{r_{1}} - 1\\right)} k_{1}^{2} \\cos\\left(h k_{1}\\right)^{6} - 45 \\, {\\left(B_{r_{1}} - 1\\right)} k_{1}^{2} \\cos\\left(h k_{1}\\right)^{4} + 17 \\, {\\left(B_{r_{1}} - 1\\right)} k_{1}^{2} \\cos\\left(h k_{1}\\right)^{2} - {\\left(B_{r_{1}} - 1\\right)} k_{1}^{2} - 3 \\, {\\left(2 \\, B_{r_{1}} \\cos\\left(h k_{1}\\right)^{6} - 3 \\, B_{r_{1}} \\cos\\left(h k_{1}\\right)^{4} + B_{r_{1}} \\cos\\left(h k_{1}\\right)^{2}\\right)} \\kappa^{2}\\right)} m J_{m}(\\kappa \\rho)\\right)} r_{1}\\right)} \\rho\\right)} \\cos\\left(k_{1} z\\right)^{2} \\sin\\left(k_{1} z\\right) - {\\left(12 \\, {\\left(4 \\, B_{r_{1}} \\cos\\left(h k_{1}\\right)^{5} - 4 \\, B_{r_{1}} \\cos\\left(h k_{1}\\right)^{3} + B_{r_{1}} \\cos\\left(h k_{1}\\right)\\right)} m^{3} r_{1} J_{m}(\\kappa \\rho) \\sin\\left(h k_{1}\\right) + {\\left(2 \\, {\\left({\\left(3 \\, {\\left(4 \\, B_{r_{1}} \\cos\\left(h k_{1}\\right)^{5} - 4 \\, B_{r_{1}} \\cos\\left(h k_{1}\\right)^{3} + B_{r_{1}} \\cos\\left(h k_{1}\\right)\\right)} \\kappa^{3} \\sin\\left(h k_{1}\\right) - {\\left(60 \\, {\\left(B_{r_{1}} - 1\\right)} k_{1}^{2} \\cos\\left(h k_{1}\\right)^{5} - 60 \\, {\\left(B_{r_{1}} - 1\\right)} k_{1}^{2} \\cos\\left(h k_{1}\\right)^{3} + 11 \\, {\\left(B_{r_{1}} - 1\\right)} k_{1}^{2} \\cos\\left(h k_{1}\\right)\\right)} \\kappa \\sin\\left(h k_{1}\\right)\\right)} m J_{m + 1}(\\kappa \\rho) - {\\left(3 \\, {\\left(4 \\, B_{r_{1}} \\cos\\left(h k_{1}\\right)^{5} - 4 \\, B_{r_{1}} \\cos\\left(h k_{1}\\right)^{3} + B_{r_{1}} \\cos\\left(h k_{1}\\right)\\right)} \\kappa^{3} \\sin\\left(h k_{1}\\right) - {\\left(60 \\, {\\left(B_{r_{1}} - 1\\right)} k_{1}^{2} \\cos\\left(h k_{1}\\right)^{5} - 60 \\, {\\left(B_{r_{1}} - 1\\right)} k_{1}^{2} \\cos\\left(h k_{1}\\right)^{3} + 11 \\, {\\left(B_{r_{1}} - 1\\right)} k_{1}^{2} \\cos\\left(h k_{1}\\right)\\right)} \\kappa \\sin\\left(h k_{1}\\right)\\right)} m J_{m - 1}(\\kappa \\rho)\\right)} r_{1} - {\\left({\\left(8 \\, B_{r_{1}} B_{z_{1}} k_{1} \\cos\\left(h k_{1}\\right)^{6} - 12 \\, B_{r_{1}} B_{z_{1}} k_{1} \\cos\\left(h k_{1}\\right)^{4} + 6 \\, B_{r_{1}} B_{z_{1}} k_{1} \\cos\\left(h k_{1}\\right)^{2} - B_{r_{1}} B_{z_{1}} k_{1}\\right)} \\kappa^{3} - {\\left(56 \\, {\\left(B_{r_{1}} - 1\\right)} B_{z_{1}} k_{1}^{3} \\cos\\left(h k_{1}\\right)^{6} - 84 \\, {\\left(B_{r_{1}} - 1\\right)} B_{z_{1}} k_{1}^{3} \\cos\\left(h k_{1}\\right)^{4} + 34 \\, {\\left(B_{r_{1}} - 1\\right)} B_{z_{1}} k_{1}^{3} \\cos\\left(h k_{1}\\right)^{2} - 3 \\, {\\left(B_{r_{1}} - 1\\right)} B_{z_{1}} k_{1}^{3}\\right)} \\kappa\\right)} J_{m + 1}(\\kappa \\rho) + {\\left({\\left(8 \\, B_{r_{1}} B_{z_{1}} k_{1} \\cos\\left(h k_{1}\\right)^{6} - 12 \\, B_{r_{1}} B_{z_{1}} k_{1} \\cos\\left(h k_{1}\\right)^{4} + 6 \\, B_{r_{1}} B_{z_{1}} k_{1} \\cos\\left(h k_{1}\\right)^{2} - B_{r_{1}} B_{z_{1}} k_{1}\\right)} \\kappa^{3} - {\\left(56 \\, {\\left(B_{r_{1}} - 1\\right)} B_{z_{1}} k_{1}^{3} \\cos\\left(h k_{1}\\right)^{6} - 84 \\, {\\left(B_{r_{1}} - 1\\right)} B_{z_{1}} k_{1}^{3} \\cos\\left(h k_{1}\\right)^{4} + 34 \\, {\\left(B_{r_{1}} - 1\\right)} B_{z_{1}} k_{1}^{3} \\cos\\left(h k_{1}\\right)^{2} - 3 \\, {\\left(B_{r_{1}} - 1\\right)} B_{z_{1}} k_{1}^{3}\\right)} \\kappa\\right)} J_{m - 1}(\\kappa \\rho)\\right)} \\rho^{2} + {\\left({\\left(8 \\, B_{r_{1}} B_{z_{1}} k_{1} \\cos\\left(h k_{1}\\right)^{6} - 12 \\, B_{r_{1}} B_{z_{1}} k_{1} \\cos\\left(h k_{1}\\right)^{4} + 6 \\, B_{r_{1}} B_{z_{1}} k_{1} \\cos\\left(h k_{1}\\right)^{2} - B_{r_{1}} B_{z_{1}} k_{1}\\right)} \\kappa m^{2} J_{m + 1}(\\kappa \\rho) - {\\left(8 \\, B_{r_{1}} B_{z_{1}} k_{1} \\cos\\left(h k_{1}\\right)^{6} - 12 \\, B_{r_{1}} B_{z_{1}} k_{1} \\cos\\left(h k_{1}\\right)^{4} + 6 \\, B_{r_{1}} B_{z_{1}} k_{1} \\cos\\left(h k_{1}\\right)^{2} - B_{r_{1}} B_{z_{1}} k_{1}\\right)} \\kappa m^{2} J_{m - 1}(\\kappa \\rho) - 2 \\, {\\left(3 \\, {\\left(4 \\, B_{r_{1}} \\cos\\left(h k_{1}\\right)^{5} - 4 \\, B_{r_{1}} \\cos\\left(h k_{1}\\right)^{3} + B_{r_{1}} \\cos\\left(h k_{1}\\right)\\right)} \\kappa m^{3} J_{m + 1}(\\kappa \\rho) \\sin\\left(h k_{1}\\right) - 3 \\, {\\left(4 \\, B_{r_{1}} \\cos\\left(h k_{1}\\right)^{5} - 4 \\, B_{r_{1}} \\cos\\left(h k_{1}\\right)^{3} + B_{r_{1}} \\cos\\left(h k_{1}\\right)\\right)} \\kappa m^{3} J_{m - 1}(\\kappa \\rho) \\sin\\left(h k_{1}\\right) + 2 \\, {\\left(3 \\, {\\left(4 \\, B_{r_{1}} \\cos\\left(h k_{1}\\right)^{5} - 4 \\, B_{r_{1}} \\cos\\left(h k_{1}\\right)^{3} + B_{r_{1}} \\cos\\left(h k_{1}\\right)\\right)} \\kappa^{2} \\sin\\left(h k_{1}\\right) - {\\left(60 \\, {\\left(B_{r_{1}} - 1\\right)} k_{1}^{2} \\cos\\left(h k_{1}\\right)^{5} - 60 \\, {\\left(B_{r_{1}} - 1\\right)} k_{1}^{2} \\cos\\left(h k_{1}\\right)^{3} + 11 \\, {\\left(B_{r_{1}} - 1\\right)} k_{1}^{2} \\cos\\left(h k_{1}\\right)\\right)} \\sin\\left(h k_{1}\\right)\\right)} m J_{m}(\\kappa \\rho)\\right)} r_{1}\\right)} \\rho\\right)} \\cos\\left(k_{1} z\\right) \\sin\\left(k_{1} z\\right)^{2} + {\\left(2 \\, {\\left(8 \\, B_{r_{1}} \\cos\\left(h k_{1}\\right)^{6} - 12 \\, B_{r_{1}} \\cos\\left(h k_{1}\\right)^{4} + 6 \\, B_{r_{1}} \\cos\\left(h k_{1}\\right)^{2} - B_{r_{1}}\\right)} m^{3} r_{1} J_{m}(\\kappa \\rho) - {\\left({\\left(8 \\, B_{r_{1}} \\cos\\left(h k_{1}\\right)^{6} - 12 \\, B_{r_{1}} \\cos\\left(h k_{1}\\right)^{4} + 6 \\, B_{r_{1}} \\cos\\left(h k_{1}\\right)^{2} - B_{r_{1}}\\right)} \\kappa m^{3} J_{m + 1}(\\kappa \\rho) - {\\left(8 \\, B_{r_{1}} \\cos\\left(h k_{1}\\right)^{6} - 12 \\, B_{r_{1}} \\cos\\left(h k_{1}\\right)^{4} + 6 \\, B_{r_{1}} \\cos\\left(h k_{1}\\right)^{2} - B_{r_{1}}\\right)} \\kappa m^{3} J_{m - 1}(\\kappa \\rho) - 2 \\, {\\left(40 \\, {\\left(B_{r_{1}} - 1\\right)} k_{1}^{2} \\cos\\left(h k_{1}\\right)^{6} - 60 \\, {\\left(B_{r_{1}} - 1\\right)} k_{1}^{2} \\cos\\left(h k_{1}\\right)^{4} + 22 \\, {\\left(B_{r_{1}} - 1\\right)} k_{1}^{2} \\cos\\left(h k_{1}\\right)^{2} - {\\left(B_{r_{1}} - 1\\right)} k_{1}^{2} - {\\left(8 \\, B_{r_{1}} \\cos\\left(h k_{1}\\right)^{6} - 12 \\, B_{r_{1}} \\cos\\left(h k_{1}\\right)^{4} + 6 \\, B_{r_{1}} \\cos\\left(h k_{1}\\right)^{2} - B_{r_{1}}\\right)} \\kappa^{2}\\right)} m J_{m}(\\kappa \\rho)\\right)} r_{1} \\rho - {\\left(4 \\, {\\left(4 \\, {\\left(B_{r_{1}} - 1\\right)} B_{z_{1}} k_{1}^{3} \\cos\\left(h k_{1}\\right)^{5} - 4 \\, {\\left(B_{r_{1}} - 1\\right)} B_{z_{1}} k_{1}^{3} \\cos\\left(h k_{1}\\right)^{3} + {\\left(B_{r_{1}} - 1\\right)} B_{z_{1}} k_{1}^{3} \\cos\\left(h k_{1}\\right)\\right)} \\kappa J_{m + 1}(\\kappa \\rho) \\sin\\left(h k_{1}\\right) - 4 \\, {\\left(4 \\, {\\left(B_{r_{1}} - 1\\right)} B_{z_{1}} k_{1}^{3} \\cos\\left(h k_{1}\\right)^{5} - 4 \\, {\\left(B_{r_{1}} - 1\\right)} B_{z_{1}} k_{1}^{3} \\cos\\left(h k_{1}\\right)^{3} + {\\left(B_{r_{1}} - 1\\right)} B_{z_{1}} k_{1}^{3} \\cos\\left(h k_{1}\\right)\\right)} \\kappa J_{m - 1}(\\kappa \\rho) \\sin\\left(h k_{1}\\right) - {\\left({\\left({\\left(8 \\, B_{r_{1}} \\cos\\left(h k_{1}\\right)^{6} - 12 \\, B_{r_{1}} \\cos\\left(h k_{1}\\right)^{4} + 6 \\, B_{r_{1}} \\cos\\left(h k_{1}\\right)^{2} - B_{r_{1}}\\right)} \\kappa^{3} - {\\left(40 \\, {\\left(B_{r_{1}} - 1\\right)} k_{1}^{2} \\cos\\left(h k_{1}\\right)^{6} - 60 \\, {\\left(B_{r_{1}} - 1\\right)} k_{1}^{2} \\cos\\left(h k_{1}\\right)^{4} + 22 \\, {\\left(B_{r_{1}} - 1\\right)} k_{1}^{2} \\cos\\left(h k_{1}\\right)^{2} - {\\left(B_{r_{1}} - 1\\right)} k_{1}^{2}\\right)} \\kappa\\right)} m J_{m + 1}(\\kappa \\rho) - {\\left({\\left(8 \\, B_{r_{1}} \\cos\\left(h k_{1}\\right)^{6} - 12 \\, B_{r_{1}} \\cos\\left(h k_{1}\\right)^{4} + 6 \\, B_{r_{1}} \\cos\\left(h k_{1}\\right)^{2} - B_{r_{1}}\\right)} \\kappa^{3} - {\\left(40 \\, {\\left(B_{r_{1}} - 1\\right)} k_{1}^{2} \\cos\\left(h k_{1}\\right)^{6} - 60 \\, {\\left(B_{r_{1}} - 1\\right)} k_{1}^{2} \\cos\\left(h k_{1}\\right)^{4} + 22 \\, {\\left(B_{r_{1}} - 1\\right)} k_{1}^{2} \\cos\\left(h k_{1}\\right)^{2} - {\\left(B_{r_{1}} - 1\\right)} k_{1}^{2}\\right)} \\kappa\\right)} m J_{m - 1}(\\kappa \\rho)\\right)} r_{1}\\right)} \\rho^{2}\\right)} \\sin\\left(k_{1} z\\right)^{3}}{4 \\, {\\left({\\left(4 \\, {\\left(B_{r_{1}} - 1\\right)} k_{1}^{3} \\cos\\left(h k_{1}\\right)^{5} - 4 \\, {\\left(B_{r_{1}} - 1\\right)} k_{1}^{3} \\cos\\left(h k_{1}\\right)^{3} + {\\left(B_{r_{1}} - 1\\right)} k_{1}^{3} \\cos\\left(h k_{1}\\right)\\right)} \\kappa J_{m + 1}(\\kappa \\rho) \\sin\\left(h k_{1}\\right) - {\\left(4 \\, {\\left(B_{r_{1}} - 1\\right)} k_{1}^{3} \\cos\\left(h k_{1}\\right)^{5} - 4 \\, {\\left(B_{r_{1}} - 1\\right)} k_{1}^{3} \\cos\\left(h k_{1}\\right)^{3} + {\\left(B_{r_{1}} - 1\\right)} k_{1}^{3} \\cos\\left(h k_{1}\\right)\\right)} \\kappa J_{m - 1}(\\kappa \\rho) \\sin\\left(h k_{1}\\right)\\right)} \\rho^{2} \\cos\\left(k_{1} z\\right)^{3} + 4 \\, {\\left({\\left({\\left({\\left(2 \\, B_{r_{1}} k_{1} \\cos\\left(h k_{1}\\right)^{6} - 3 \\, B_{r_{1}} k_{1} \\cos\\left(h k_{1}\\right)^{4} + B_{r_{1}} k_{1} \\cos\\left(h k_{1}\\right)^{2}\\right)} \\kappa^{3} - {\\left(14 \\, {\\left(B_{r_{1}} - 1\\right)} k_{1}^{3} \\cos\\left(h k_{1}\\right)^{6} - 21 \\, {\\left(B_{r_{1}} - 1\\right)} k_{1}^{3} \\cos\\left(h k_{1}\\right)^{4} + 9 \\, {\\left(B_{r_{1}} - 1\\right)} k_{1}^{3} \\cos\\left(h k_{1}\\right)^{2} - {\\left(B_{r_{1}} - 1\\right)} k_{1}^{3}\\right)} \\kappa\\right)} J_{m + 1}(\\kappa \\rho) - {\\left({\\left(2 \\, B_{r_{1}} k_{1} \\cos\\left(h k_{1}\\right)^{6} - 3 \\, B_{r_{1}} k_{1} \\cos\\left(h k_{1}\\right)^{4} + B_{r_{1}} k_{1} \\cos\\left(h k_{1}\\right)^{2}\\right)} \\kappa^{3} - {\\left(14 \\, {\\left(B_{r_{1}} - 1\\right)} k_{1}^{3} \\cos\\left(h k_{1}\\right)^{6} - 21 \\, {\\left(B_{r_{1}} - 1\\right)} k_{1}^{3} \\cos\\left(h k_{1}\\right)^{4} + 9 \\, {\\left(B_{r_{1}} - 1\\right)} k_{1}^{3} \\cos\\left(h k_{1}\\right)^{2} - {\\left(B_{r_{1}} - 1\\right)} k_{1}^{3}\\right)} \\kappa\\right)} J_{m - 1}(\\kappa \\rho)\\right)} \\rho^{2} - {\\left({\\left(2 \\, B_{r_{1}} k_{1} \\cos\\left(h k_{1}\\right)^{6} - 3 \\, B_{r_{1}} k_{1} \\cos\\left(h k_{1}\\right)^{4} + B_{r_{1}} k_{1} \\cos\\left(h k_{1}\\right)^{2}\\right)} \\kappa m^{2} J_{m + 1}(\\kappa \\rho) - {\\left(2 \\, B_{r_{1}} k_{1} \\cos\\left(h k_{1}\\right)^{6} - 3 \\, B_{r_{1}} k_{1} \\cos\\left(h k_{1}\\right)^{4} + B_{r_{1}} k_{1} \\cos\\left(h k_{1}\\right)^{2}\\right)} \\kappa m^{2} J_{m - 1}(\\kappa \\rho)\\right)} \\rho\\right)} \\cos\\left(k_{1} z\\right)^{2} \\sin\\left(k_{1} z\\right) + 4 \\, {\\left({\\left({\\left({\\left(4 \\, B_{r_{1}} k_{1} \\cos\\left(h k_{1}\\right)^{5} - 4 \\, B_{r_{1}} k_{1} \\cos\\left(h k_{1}\\right)^{3} + B_{r_{1}} k_{1} \\cos\\left(h k_{1}\\right)\\right)} \\kappa^{3} \\sin\\left(h k_{1}\\right) - 4 \\, {\\left(4 \\, {\\left(B_{r_{1}} - 1\\right)} k_{1}^{3} \\cos\\left(h k_{1}\\right)^{5} - 4 \\, {\\left(B_{r_{1}} - 1\\right)} k_{1}^{3} \\cos\\left(h k_{1}\\right)^{3} + {\\left(B_{r_{1}} - 1\\right)} k_{1}^{3} \\cos\\left(h k_{1}\\right)\\right)} \\kappa \\sin\\left(h k_{1}\\right)\\right)} J_{m + 1}(\\kappa \\rho) - {\\left({\\left(4 \\, B_{r_{1}} k_{1} \\cos\\left(h k_{1}\\right)^{5} - 4 \\, B_{r_{1}} k_{1} \\cos\\left(h k_{1}\\right)^{3} + B_{r_{1}} k_{1} \\cos\\left(h k_{1}\\right)\\right)} \\kappa^{3} \\sin\\left(h k_{1}\\right) - 4 \\, {\\left(4 \\, {\\left(B_{r_{1}} - 1\\right)} k_{1}^{3} \\cos\\left(h k_{1}\\right)^{5} - 4 \\, {\\left(B_{r_{1}} - 1\\right)} k_{1}^{3} \\cos\\left(h k_{1}\\right)^{3} + {\\left(B_{r_{1}} - 1\\right)} k_{1}^{3} \\cos\\left(h k_{1}\\right)\\right)} \\kappa \\sin\\left(h k_{1}\\right)\\right)} J_{m - 1}(\\kappa \\rho)\\right)} \\rho^{2} - {\\left({\\left(4 \\, B_{r_{1}} k_{1} \\cos\\left(h k_{1}\\right)^{5} - 4 \\, B_{r_{1}} k_{1} \\cos\\left(h k_{1}\\right)^{3} + B_{r_{1}} k_{1} \\cos\\left(h k_{1}\\right)\\right)} \\kappa m^{2} J_{m + 1}(\\kappa \\rho) \\sin\\left(h k_{1}\\right) - {\\left(4 \\, B_{r_{1}} k_{1} \\cos\\left(h k_{1}\\right)^{5} - 4 \\, B_{r_{1}} k_{1} \\cos\\left(h k_{1}\\right)^{3} + B_{r_{1}} k_{1} \\cos\\left(h k_{1}\\right)\\right)} \\kappa m^{2} J_{m - 1}(\\kappa \\rho) \\sin\\left(h k_{1}\\right)\\right)} \\rho\\right)} \\cos\\left(k_{1} z\\right) \\sin\\left(k_{1} z\\right)^{2} - {\\left({\\left({\\left({\\left(8 \\, B_{r_{1}} k_{1} \\cos\\left(h k_{1}\\right)^{6} - 12 \\, B_{r_{1}} k_{1} \\cos\\left(h k_{1}\\right)^{4} + 6 \\, B_{r_{1}} k_{1} \\cos\\left(h k_{1}\\right)^{2} - B_{r_{1}} k_{1}\\right)} \\kappa^{3} - {\\left(24 \\, {\\left(B_{r_{1}} - 1\\right)} k_{1}^{3} \\cos\\left(h k_{1}\\right)^{6} - 36 \\, {\\left(B_{r_{1}} - 1\\right)} k_{1}^{3} \\cos\\left(h k_{1}\\right)^{4} + 14 \\, {\\left(B_{r_{1}} - 1\\right)} k_{1}^{3} \\cos\\left(h k_{1}\\right)^{2} - {\\left(B_{r_{1}} - 1\\right)} k_{1}^{3}\\right)} \\kappa\\right)} J_{m + 1}(\\kappa \\rho) - {\\left({\\left(8 \\, B_{r_{1}} k_{1} \\cos\\left(h k_{1}\\right)^{6} - 12 \\, B_{r_{1}} k_{1} \\cos\\left(h k_{1}\\right)^{4} + 6 \\, B_{r_{1}} k_{1} \\cos\\left(h k_{1}\\right)^{2} - B_{r_{1}} k_{1}\\right)} \\kappa^{3} - {\\left(24 \\, {\\left(B_{r_{1}} - 1\\right)} k_{1}^{3} \\cos\\left(h k_{1}\\right)^{6} - 36 \\, {\\left(B_{r_{1}} - 1\\right)} k_{1}^{3} \\cos\\left(h k_{1}\\right)^{4} + 14 \\, {\\left(B_{r_{1}} - 1\\right)} k_{1}^{3} \\cos\\left(h k_{1}\\right)^{2} - {\\left(B_{r_{1}} - 1\\right)} k_{1}^{3}\\right)} \\kappa\\right)} J_{m - 1}(\\kappa \\rho)\\right)} \\rho^{2} - {\\left({\\left(8 \\, B_{r_{1}} k_{1} \\cos\\left(h k_{1}\\right)^{6} - 12 \\, B_{r_{1}} k_{1} \\cos\\left(h k_{1}\\right)^{4} + 6 \\, B_{r_{1}} k_{1} \\cos\\left(h k_{1}\\right)^{2} - B_{r_{1}} k_{1}\\right)} \\kappa m^{2} J_{m + 1}(\\kappa \\rho) - {\\left(8 \\, B_{r_{1}} k_{1} \\cos\\left(h k_{1}\\right)^{6} - 12 \\, B_{r_{1}} k_{1} \\cos\\left(h k_{1}\\right)^{4} + 6 \\, B_{r_{1}} k_{1} \\cos\\left(h k_{1}\\right)^{2} - B_{r_{1}} k_{1}\\right)} \\kappa m^{2} J_{m - 1}(\\kappa \\rho)\\right)} \\rho\\right)} \\sin\\left(k_{1} z\\right)^{3}}\\right]$$"
      ],
      "text/plain": [
       "<IPython.core.display.Math object>"
      ]
     },
     "metadata": {},
     "output_type": "display_data"
    },
    {
     "name": "stdout",
     "output_type": "stream",
     "text": [
      "\n",
      "var =\n"
     ]
    },
    {
     "data": {
      "text/latex": [
       "$$B_{r_{1}}$$"
      ],
      "text/plain": [
       "<IPython.core.display.Math object>"
      ]
     },
     "metadata": {},
     "output_type": "display_data"
    },
    {
     "name": "stdout",
     "output_type": "stream",
     "text": [
      "\n",
      "sol=\n"
     ]
    },
    {
     "data": {
      "text/latex": [
       "$$\\left[B_{r_{1}} = \\frac{2 \\, {\\left(8 \\, {\\left(5 \\, k_{1}^{2} \\cos\\left(h k_{1}\\right)^{5} - 5 \\, k_{1}^{2} \\cos\\left(h k_{1}\\right)^{3} + k_{1}^{2} \\cos\\left(h k_{1}\\right)\\right)} m r_{1} \\rho J_{m}(\\kappa \\rho) \\sin\\left(h k_{1}\\right) + {\\left({\\left(12 \\, B_{z_{1}} k_{1}^{3} \\cos\\left(h k_{1}\\right)^{6} - 18 \\, B_{z_{1}} k_{1}^{3} \\cos\\left(h k_{1}\\right)^{4} + 8 \\, B_{z_{1}} k_{1}^{3} \\cos\\left(h k_{1}\\right)^{2} - B_{z_{1}} k_{1}^{3} + 2 \\, {\\left(4 \\, A_{z_{1}} k_{1}^{3} \\cos\\left(h k_{1}\\right)^{5} - 4 \\, A_{z_{1}} k_{1}^{3} \\cos\\left(h k_{1}\\right)^{3} + A_{z_{1}} k_{1}^{3} \\cos\\left(h k_{1}\\right)\\right)} \\sin\\left(h k_{1}\\right)\\right)} \\kappa J_{m + 1}(\\kappa \\rho) - {\\left(12 \\, B_{z_{1}} k_{1}^{3} \\cos\\left(h k_{1}\\right)^{6} - 18 \\, B_{z_{1}} k_{1}^{3} \\cos\\left(h k_{1}\\right)^{4} + 8 \\, B_{z_{1}} k_{1}^{3} \\cos\\left(h k_{1}\\right)^{2} - B_{z_{1}} k_{1}^{3} + 2 \\, {\\left(4 \\, A_{z_{1}} k_{1}^{3} \\cos\\left(h k_{1}\\right)^{5} - 4 \\, A_{z_{1}} k_{1}^{3} \\cos\\left(h k_{1}\\right)^{3} + A_{z_{1}} k_{1}^{3} \\cos\\left(h k_{1}\\right)\\right)} \\sin\\left(h k_{1}\\right)\\right)} \\kappa J_{m - 1}(\\kappa \\rho) - 4 \\, {\\left({\\left(5 \\, k_{1}^{2} \\cos\\left(h k_{1}\\right)^{5} - 5 \\, k_{1}^{2} \\cos\\left(h k_{1}\\right)^{3} + k_{1}^{2} \\cos\\left(h k_{1}\\right)\\right)} \\kappa m J_{m + 1}(\\kappa \\rho) \\sin\\left(h k_{1}\\right) - {\\left(5 \\, k_{1}^{2} \\cos\\left(h k_{1}\\right)^{5} - 5 \\, k_{1}^{2} \\cos\\left(h k_{1}\\right)^{3} + k_{1}^{2} \\cos\\left(h k_{1}\\right)\\right)} \\kappa m J_{m - 1}(\\kappa \\rho) \\sin\\left(h k_{1}\\right)\\right)} r_{1}\\right)} \\rho^{2}\\right)} \\cos\\left(k_{1} z\\right)^{3} - 4 \\, {\\left(2 \\, {\\left(30 \\, k_{1}^{2} \\cos\\left(h k_{1}\\right)^{6} - 45 \\, k_{1}^{2} \\cos\\left(h k_{1}\\right)^{4} + 17 \\, k_{1}^{2} \\cos\\left(h k_{1}\\right)^{2} - k_{1}^{2}\\right)} m r_{1} \\rho J_{m}(\\kappa \\rho) + {\\left({\\left(14 \\, A_{z_{1}} k_{1}^{3} \\cos\\left(h k_{1}\\right)^{6} - 21 \\, A_{z_{1}} k_{1}^{3} \\cos\\left(h k_{1}\\right)^{4} + 9 \\, A_{z_{1}} k_{1}^{3} \\cos\\left(h k_{1}\\right)^{2} - A_{z_{1}} k_{1}^{3} - 4 \\, {\\left(4 \\, B_{z_{1}} k_{1}^{3} \\cos\\left(h k_{1}\\right)^{5} - 4 \\, B_{z_{1}} k_{1}^{3} \\cos\\left(h k_{1}\\right)^{3} + B_{z_{1}} k_{1}^{3} \\cos\\left(h k_{1}\\right)\\right)} \\sin\\left(h k_{1}\\right)\\right)} \\kappa J_{m + 1}(\\kappa \\rho) - {\\left(14 \\, A_{z_{1}} k_{1}^{3} \\cos\\left(h k_{1}\\right)^{6} - 21 \\, A_{z_{1}} k_{1}^{3} \\cos\\left(h k_{1}\\right)^{4} + 9 \\, A_{z_{1}} k_{1}^{3} \\cos\\left(h k_{1}\\right)^{2} - A_{z_{1}} k_{1}^{3} - 4 \\, {\\left(4 \\, B_{z_{1}} k_{1}^{3} \\cos\\left(h k_{1}\\right)^{5} - 4 \\, B_{z_{1}} k_{1}^{3} \\cos\\left(h k_{1}\\right)^{3} + B_{z_{1}} k_{1}^{3} \\cos\\left(h k_{1}\\right)\\right)} \\sin\\left(h k_{1}\\right)\\right)} \\kappa J_{m - 1}(\\kappa \\rho) - {\\left({\\left(30 \\, k_{1}^{2} \\cos\\left(h k_{1}\\right)^{6} - 45 \\, k_{1}^{2} \\cos\\left(h k_{1}\\right)^{4} + 17 \\, k_{1}^{2} \\cos\\left(h k_{1}\\right)^{2} - k_{1}^{2}\\right)} \\kappa m J_{m + 1}(\\kappa \\rho) - {\\left(30 \\, k_{1}^{2} \\cos\\left(h k_{1}\\right)^{6} - 45 \\, k_{1}^{2} \\cos\\left(h k_{1}\\right)^{4} + 17 \\, k_{1}^{2} \\cos\\left(h k_{1}\\right)^{2} - k_{1}^{2}\\right)} \\kappa m J_{m - 1}(\\kappa \\rho)\\right)} r_{1}\\right)} \\rho^{2}\\right)} \\cos\\left(k_{1} z\\right)^{2} \\sin\\left(k_{1} z\\right) - {\\left(4 \\, {\\left(60 \\, k_{1}^{2} \\cos\\left(h k_{1}\\right)^{5} - 60 \\, k_{1}^{2} \\cos\\left(h k_{1}\\right)^{3} + 11 \\, k_{1}^{2} \\cos\\left(h k_{1}\\right)\\right)} m r_{1} \\rho J_{m}(\\kappa \\rho) \\sin\\left(h k_{1}\\right) + {\\left({\\left(56 \\, B_{z_{1}} k_{1}^{3} \\cos\\left(h k_{1}\\right)^{6} - 84 \\, B_{z_{1}} k_{1}^{3} \\cos\\left(h k_{1}\\right)^{4} + 34 \\, B_{z_{1}} k_{1}^{3} \\cos\\left(h k_{1}\\right)^{2} - 3 \\, B_{z_{1}} k_{1}^{3} + 16 \\, {\\left(4 \\, A_{z_{1}} k_{1}^{3} \\cos\\left(h k_{1}\\right)^{5} - 4 \\, A_{z_{1}} k_{1}^{3} \\cos\\left(h k_{1}\\right)^{3} + A_{z_{1}} k_{1}^{3} \\cos\\left(h k_{1}\\right)\\right)} \\sin\\left(h k_{1}\\right)\\right)} \\kappa J_{m + 1}(\\kappa \\rho) - {\\left(56 \\, B_{z_{1}} k_{1}^{3} \\cos\\left(h k_{1}\\right)^{6} - 84 \\, B_{z_{1}} k_{1}^{3} \\cos\\left(h k_{1}\\right)^{4} + 34 \\, B_{z_{1}} k_{1}^{3} \\cos\\left(h k_{1}\\right)^{2} - 3 \\, B_{z_{1}} k_{1}^{3} + 16 \\, {\\left(4 \\, A_{z_{1}} k_{1}^{3} \\cos\\left(h k_{1}\\right)^{5} - 4 \\, A_{z_{1}} k_{1}^{3} \\cos\\left(h k_{1}\\right)^{3} + A_{z_{1}} k_{1}^{3} \\cos\\left(h k_{1}\\right)\\right)} \\sin\\left(h k_{1}\\right)\\right)} \\kappa J_{m - 1}(\\kappa \\rho) - 2 \\, {\\left({\\left(60 \\, k_{1}^{2} \\cos\\left(h k_{1}\\right)^{5} - 60 \\, k_{1}^{2} \\cos\\left(h k_{1}\\right)^{3} + 11 \\, k_{1}^{2} \\cos\\left(h k_{1}\\right)\\right)} \\kappa m J_{m + 1}(\\kappa \\rho) \\sin\\left(h k_{1}\\right) - {\\left(60 \\, k_{1}^{2} \\cos\\left(h k_{1}\\right)^{5} - 60 \\, k_{1}^{2} \\cos\\left(h k_{1}\\right)^{3} + 11 \\, k_{1}^{2} \\cos\\left(h k_{1}\\right)\\right)} \\kappa m J_{m - 1}(\\kappa \\rho) \\sin\\left(h k_{1}\\right)\\right)} r_{1}\\right)} \\rho^{2}\\right)} \\cos\\left(k_{1} z\\right) \\sin\\left(k_{1} z\\right)^{2} + {\\left(2 \\, {\\left(40 \\, k_{1}^{2} \\cos\\left(h k_{1}\\right)^{6} - 60 \\, k_{1}^{2} \\cos\\left(h k_{1}\\right)^{4} + 22 \\, k_{1}^{2} \\cos\\left(h k_{1}\\right)^{2} - k_{1}^{2}\\right)} m r_{1} \\rho J_{m}(\\kappa \\rho) + {\\left({\\left(24 \\, A_{z_{1}} k_{1}^{3} \\cos\\left(h k_{1}\\right)^{6} - 36 \\, A_{z_{1}} k_{1}^{3} \\cos\\left(h k_{1}\\right)^{4} + 14 \\, A_{z_{1}} k_{1}^{3} \\cos\\left(h k_{1}\\right)^{2} - A_{z_{1}} k_{1}^{3} - 4 \\, {\\left(4 \\, B_{z_{1}} k_{1}^{3} \\cos\\left(h k_{1}\\right)^{5} - 4 \\, B_{z_{1}} k_{1}^{3} \\cos\\left(h k_{1}\\right)^{3} + B_{z_{1}} k_{1}^{3} \\cos\\left(h k_{1}\\right)\\right)} \\sin\\left(h k_{1}\\right)\\right)} \\kappa J_{m + 1}(\\kappa \\rho) - {\\left(24 \\, A_{z_{1}} k_{1}^{3} \\cos\\left(h k_{1}\\right)^{6} - 36 \\, A_{z_{1}} k_{1}^{3} \\cos\\left(h k_{1}\\right)^{4} + 14 \\, A_{z_{1}} k_{1}^{3} \\cos\\left(h k_{1}\\right)^{2} - A_{z_{1}} k_{1}^{3} - 4 \\, {\\left(4 \\, B_{z_{1}} k_{1}^{3} \\cos\\left(h k_{1}\\right)^{5} - 4 \\, B_{z_{1}} k_{1}^{3} \\cos\\left(h k_{1}\\right)^{3} + B_{z_{1}} k_{1}^{3} \\cos\\left(h k_{1}\\right)\\right)} \\sin\\left(h k_{1}\\right)\\right)} \\kappa J_{m - 1}(\\kappa \\rho) - {\\left({\\left(40 \\, k_{1}^{2} \\cos\\left(h k_{1}\\right)^{6} - 60 \\, k_{1}^{2} \\cos\\left(h k_{1}\\right)^{4} + 22 \\, k_{1}^{2} \\cos\\left(h k_{1}\\right)^{2} - k_{1}^{2}\\right)} \\kappa m J_{m + 1}(\\kappa \\rho) - {\\left(40 \\, k_{1}^{2} \\cos\\left(h k_{1}\\right)^{6} - 60 \\, k_{1}^{2} \\cos\\left(h k_{1}\\right)^{4} + 22 \\, k_{1}^{2} \\cos\\left(h k_{1}\\right)^{2} - k_{1}^{2}\\right)} \\kappa m J_{m - 1}(\\kappa \\rho)\\right)} r_{1}\\right)} \\rho^{2}\\right)} \\sin\\left(k_{1} z\\right)^{3}}{2 \\, {\\left(8 \\, {\\left(\\cos\\left(h k_{1}\\right)^{5} - \\cos\\left(h k_{1}\\right)^{3}\\right)} m^{3} r_{1} J_{m}(\\kappa \\rho) \\sin\\left(h k_{1}\\right) + {\\left(4 \\, {\\left({\\left({\\left(\\cos\\left(h k_{1}\\right)^{5} - \\cos\\left(h k_{1}\\right)^{3}\\right)} \\kappa^{3} \\sin\\left(h k_{1}\\right) - {\\left(5 \\, k_{1}^{2} \\cos\\left(h k_{1}\\right)^{5} - 5 \\, k_{1}^{2} \\cos\\left(h k_{1}\\right)^{3} + k_{1}^{2} \\cos\\left(h k_{1}\\right)\\right)} \\kappa \\sin\\left(h k_{1}\\right)\\right)} m J_{m + 1}(\\kappa \\rho) - {\\left({\\left(\\cos\\left(h k_{1}\\right)^{5} - \\cos\\left(h k_{1}\\right)^{3}\\right)} \\kappa^{3} \\sin\\left(h k_{1}\\right) - {\\left(5 \\, k_{1}^{2} \\cos\\left(h k_{1}\\right)^{5} - 5 \\, k_{1}^{2} \\cos\\left(h k_{1}\\right)^{3} + k_{1}^{2} \\cos\\left(h k_{1}\\right)\\right)} \\kappa \\sin\\left(h k_{1}\\right)\\right)} m J_{m - 1}(\\kappa \\rho)\\right)} r_{1} - {\\left(2 \\, {\\left(2 \\, B_{z_{1}} k_{1} \\cos\\left(h k_{1}\\right)^{6} - 3 \\, B_{z_{1}} k_{1} \\cos\\left(h k_{1}\\right)^{4} + B_{z_{1}} k_{1} \\cos\\left(h k_{1}\\right)^{2}\\right)} \\kappa^{3} - {\\left(12 \\, B_{z_{1}} k_{1}^{3} \\cos\\left(h k_{1}\\right)^{6} - 18 \\, B_{z_{1}} k_{1}^{3} \\cos\\left(h k_{1}\\right)^{4} + 8 \\, B_{z_{1}} k_{1}^{3} \\cos\\left(h k_{1}\\right)^{2} - B_{z_{1}} k_{1}^{3} + 2 \\, {\\left(4 \\, A_{z_{1}} k_{1}^{3} \\cos\\left(h k_{1}\\right)^{5} - 4 \\, A_{z_{1}} k_{1}^{3} \\cos\\left(h k_{1}\\right)^{3} + A_{z_{1}} k_{1}^{3} \\cos\\left(h k_{1}\\right)\\right)} \\sin\\left(h k_{1}\\right)\\right)} \\kappa\\right)} J_{m + 1}(\\kappa \\rho) + {\\left(2 \\, {\\left(2 \\, B_{z_{1}} k_{1} \\cos\\left(h k_{1}\\right)^{6} - 3 \\, B_{z_{1}} k_{1} \\cos\\left(h k_{1}\\right)^{4} + B_{z_{1}} k_{1} \\cos\\left(h k_{1}\\right)^{2}\\right)} \\kappa^{3} - {\\left(12 \\, B_{z_{1}} k_{1}^{3} \\cos\\left(h k_{1}\\right)^{6} - 18 \\, B_{z_{1}} k_{1}^{3} \\cos\\left(h k_{1}\\right)^{4} + 8 \\, B_{z_{1}} k_{1}^{3} \\cos\\left(h k_{1}\\right)^{2} - B_{z_{1}} k_{1}^{3} + 2 \\, {\\left(4 \\, A_{z_{1}} k_{1}^{3} \\cos\\left(h k_{1}\\right)^{5} - 4 \\, A_{z_{1}} k_{1}^{3} \\cos\\left(h k_{1}\\right)^{3} + A_{z_{1}} k_{1}^{3} \\cos\\left(h k_{1}\\right)\\right)} \\sin\\left(h k_{1}\\right)\\right)} \\kappa\\right)} J_{m - 1}(\\kappa \\rho)\\right)} \\rho^{2} + 2 \\, {\\left({\\left(2 \\, B_{z_{1}} k_{1} \\cos\\left(h k_{1}\\right)^{6} - 3 \\, B_{z_{1}} k_{1} \\cos\\left(h k_{1}\\right)^{4} + B_{z_{1}} k_{1} \\cos\\left(h k_{1}\\right)^{2}\\right)} \\kappa m^{2} J_{m + 1}(\\kappa \\rho) - {\\left(2 \\, B_{z_{1}} k_{1} \\cos\\left(h k_{1}\\right)^{6} - 3 \\, B_{z_{1}} k_{1} \\cos\\left(h k_{1}\\right)^{4} + B_{z_{1}} k_{1} \\cos\\left(h k_{1}\\right)^{2}\\right)} \\kappa m^{2} J_{m - 1}(\\kappa \\rho) - 2 \\, {\\left({\\left(\\cos\\left(h k_{1}\\right)^{5} - \\cos\\left(h k_{1}\\right)^{3}\\right)} \\kappa m^{3} J_{m + 1}(\\kappa \\rho) \\sin\\left(h k_{1}\\right) - {\\left(\\cos\\left(h k_{1}\\right)^{5} - \\cos\\left(h k_{1}\\right)^{3}\\right)} \\kappa m^{3} J_{m - 1}(\\kappa \\rho) \\sin\\left(h k_{1}\\right) + 2 \\, {\\left({\\left(\\cos\\left(h k_{1}\\right)^{5} - \\cos\\left(h k_{1}\\right)^{3}\\right)} \\kappa^{2} \\sin\\left(h k_{1}\\right) - {\\left(5 \\, k_{1}^{2} \\cos\\left(h k_{1}\\right)^{5} - 5 \\, k_{1}^{2} \\cos\\left(h k_{1}\\right)^{3} + k_{1}^{2} \\cos\\left(h k_{1}\\right)\\right)} \\sin\\left(h k_{1}\\right)\\right)} m J_{m}(\\kappa \\rho)\\right)} r_{1}\\right)} \\rho\\right)} \\cos\\left(k_{1} z\\right)^{3} - 4 \\, {\\left(6 \\, {\\left(2 \\, \\cos\\left(h k_{1}\\right)^{6} - 3 \\, \\cos\\left(h k_{1}\\right)^{4} + \\cos\\left(h k_{1}\\right)^{2}\\right)} m^{3} r_{1} J_{m}(\\kappa \\rho) + {\\left({\\left({\\left(3 \\, {\\left(2 \\, \\cos\\left(h k_{1}\\right)^{6} - 3 \\, \\cos\\left(h k_{1}\\right)^{4} + \\cos\\left(h k_{1}\\right)^{2}\\right)} \\kappa^{3} - {\\left(30 \\, k_{1}^{2} \\cos\\left(h k_{1}\\right)^{6} - 45 \\, k_{1}^{2} \\cos\\left(h k_{1}\\right)^{4} + 17 \\, k_{1}^{2} \\cos\\left(h k_{1}\\right)^{2} - k_{1}^{2}\\right)} \\kappa\\right)} m J_{m + 1}(\\kappa \\rho) - {\\left(3 \\, {\\left(2 \\, \\cos\\left(h k_{1}\\right)^{6} - 3 \\, \\cos\\left(h k_{1}\\right)^{4} + \\cos\\left(h k_{1}\\right)^{2}\\right)} \\kappa^{3} - {\\left(30 \\, k_{1}^{2} \\cos\\left(h k_{1}\\right)^{6} - 45 \\, k_{1}^{2} \\cos\\left(h k_{1}\\right)^{4} + 17 \\, k_{1}^{2} \\cos\\left(h k_{1}\\right)^{2} - k_{1}^{2}\\right)} \\kappa\\right)} m J_{m - 1}(\\kappa \\rho)\\right)} r_{1} - {\\left({\\left(2 \\, A_{z_{1}} k_{1} \\cos\\left(h k_{1}\\right)^{6} - 3 \\, A_{z_{1}} k_{1} \\cos\\left(h k_{1}\\right)^{4} + A_{z_{1}} k_{1} \\cos\\left(h k_{1}\\right)^{2} - {\\left(4 \\, B_{z_{1}} k_{1} \\cos\\left(h k_{1}\\right)^{5} - 4 \\, B_{z_{1}} k_{1} \\cos\\left(h k_{1}\\right)^{3} + B_{z_{1}} k_{1} \\cos\\left(h k_{1}\\right)\\right)} \\sin\\left(h k_{1}\\right)\\right)} \\kappa^{3} - {\\left(14 \\, A_{z_{1}} k_{1}^{3} \\cos\\left(h k_{1}\\right)^{6} - 21 \\, A_{z_{1}} k_{1}^{3} \\cos\\left(h k_{1}\\right)^{4} + 9 \\, A_{z_{1}} k_{1}^{3} \\cos\\left(h k_{1}\\right)^{2} - A_{z_{1}} k_{1}^{3} - 4 \\, {\\left(4 \\, B_{z_{1}} k_{1}^{3} \\cos\\left(h k_{1}\\right)^{5} - 4 \\, B_{z_{1}} k_{1}^{3} \\cos\\left(h k_{1}\\right)^{3} + B_{z_{1}} k_{1}^{3} \\cos\\left(h k_{1}\\right)\\right)} \\sin\\left(h k_{1}\\right)\\right)} \\kappa\\right)} J_{m + 1}(\\kappa \\rho) + {\\left({\\left(2 \\, A_{z_{1}} k_{1} \\cos\\left(h k_{1}\\right)^{6} - 3 \\, A_{z_{1}} k_{1} \\cos\\left(h k_{1}\\right)^{4} + A_{z_{1}} k_{1} \\cos\\left(h k_{1}\\right)^{2} - {\\left(4 \\, B_{z_{1}} k_{1} \\cos\\left(h k_{1}\\right)^{5} - 4 \\, B_{z_{1}} k_{1} \\cos\\left(h k_{1}\\right)^{3} + B_{z_{1}} k_{1} \\cos\\left(h k_{1}\\right)\\right)} \\sin\\left(h k_{1}\\right)\\right)} \\kappa^{3} - {\\left(14 \\, A_{z_{1}} k_{1}^{3} \\cos\\left(h k_{1}\\right)^{6} - 21 \\, A_{z_{1}} k_{1}^{3} \\cos\\left(h k_{1}\\right)^{4} + 9 \\, A_{z_{1}} k_{1}^{3} \\cos\\left(h k_{1}\\right)^{2} - A_{z_{1}} k_{1}^{3} - 4 \\, {\\left(4 \\, B_{z_{1}} k_{1}^{3} \\cos\\left(h k_{1}\\right)^{5} - 4 \\, B_{z_{1}} k_{1}^{3} \\cos\\left(h k_{1}\\right)^{3} + B_{z_{1}} k_{1}^{3} \\cos\\left(h k_{1}\\right)\\right)} \\sin\\left(h k_{1}\\right)\\right)} \\kappa\\right)} J_{m - 1}(\\kappa \\rho)\\right)} \\rho^{2} + {\\left({\\left(2 \\, A_{z_{1}} k_{1} \\cos\\left(h k_{1}\\right)^{6} - 3 \\, A_{z_{1}} k_{1} \\cos\\left(h k_{1}\\right)^{4} + A_{z_{1}} k_{1} \\cos\\left(h k_{1}\\right)^{2} - {\\left(4 \\, B_{z_{1}} k_{1} \\cos\\left(h k_{1}\\right)^{5} - 4 \\, B_{z_{1}} k_{1} \\cos\\left(h k_{1}\\right)^{3} + B_{z_{1}} k_{1} \\cos\\left(h k_{1}\\right)\\right)} \\sin\\left(h k_{1}\\right)\\right)} \\kappa m^{2} J_{m + 1}(\\kappa \\rho) - {\\left(2 \\, A_{z_{1}} k_{1} \\cos\\left(h k_{1}\\right)^{6} - 3 \\, A_{z_{1}} k_{1} \\cos\\left(h k_{1}\\right)^{4} + A_{z_{1}} k_{1} \\cos\\left(h k_{1}\\right)^{2} - {\\left(4 \\, B_{z_{1}} k_{1} \\cos\\left(h k_{1}\\right)^{5} - 4 \\, B_{z_{1}} k_{1} \\cos\\left(h k_{1}\\right)^{3} + B_{z_{1}} k_{1} \\cos\\left(h k_{1}\\right)\\right)} \\sin\\left(h k_{1}\\right)\\right)} \\kappa m^{2} J_{m - 1}(\\kappa \\rho) - {\\left(3 \\, {\\left(2 \\, \\cos\\left(h k_{1}\\right)^{6} - 3 \\, \\cos\\left(h k_{1}\\right)^{4} + \\cos\\left(h k_{1}\\right)^{2}\\right)} \\kappa m^{3} J_{m + 1}(\\kappa \\rho) - 3 \\, {\\left(2 \\, \\cos\\left(h k_{1}\\right)^{6} - 3 \\, \\cos\\left(h k_{1}\\right)^{4} + \\cos\\left(h k_{1}\\right)^{2}\\right)} \\kappa m^{3} J_{m - 1}(\\kappa \\rho) - 2 \\, {\\left(30 \\, k_{1}^{2} \\cos\\left(h k_{1}\\right)^{6} - 45 \\, k_{1}^{2} \\cos\\left(h k_{1}\\right)^{4} + 17 \\, k_{1}^{2} \\cos\\left(h k_{1}\\right)^{2} - 3 \\, {\\left(2 \\, \\cos\\left(h k_{1}\\right)^{6} - 3 \\, \\cos\\left(h k_{1}\\right)^{4} + \\cos\\left(h k_{1}\\right)^{2}\\right)} \\kappa^{2} - k_{1}^{2}\\right)} m J_{m}(\\kappa \\rho)\\right)} r_{1}\\right)} \\rho\\right)} \\cos\\left(k_{1} z\\right)^{2} \\sin\\left(k_{1} z\\right) - {\\left(12 \\, {\\left(4 \\, \\cos\\left(h k_{1}\\right)^{5} - 4 \\, \\cos\\left(h k_{1}\\right)^{3} + \\cos\\left(h k_{1}\\right)\\right)} m^{3} r_{1} J_{m}(\\kappa \\rho) \\sin\\left(h k_{1}\\right) + {\\left(2 \\, {\\left({\\left(3 \\, {\\left(4 \\, \\cos\\left(h k_{1}\\right)^{5} - 4 \\, \\cos\\left(h k_{1}\\right)^{3} + \\cos\\left(h k_{1}\\right)\\right)} \\kappa^{3} \\sin\\left(h k_{1}\\right) - {\\left(60 \\, k_{1}^{2} \\cos\\left(h k_{1}\\right)^{5} - 60 \\, k_{1}^{2} \\cos\\left(h k_{1}\\right)^{3} + 11 \\, k_{1}^{2} \\cos\\left(h k_{1}\\right)\\right)} \\kappa \\sin\\left(h k_{1}\\right)\\right)} m J_{m + 1}(\\kappa \\rho) - {\\left(3 \\, {\\left(4 \\, \\cos\\left(h k_{1}\\right)^{5} - 4 \\, \\cos\\left(h k_{1}\\right)^{3} + \\cos\\left(h k_{1}\\right)\\right)} \\kappa^{3} \\sin\\left(h k_{1}\\right) - {\\left(60 \\, k_{1}^{2} \\cos\\left(h k_{1}\\right)^{5} - 60 \\, k_{1}^{2} \\cos\\left(h k_{1}\\right)^{3} + 11 \\, k_{1}^{2} \\cos\\left(h k_{1}\\right)\\right)} \\kappa \\sin\\left(h k_{1}\\right)\\right)} m J_{m - 1}(\\kappa \\rho)\\right)} r_{1} - {\\left({\\left(8 \\, B_{z_{1}} k_{1} \\cos\\left(h k_{1}\\right)^{6} - 12 \\, B_{z_{1}} k_{1} \\cos\\left(h k_{1}\\right)^{4} + 6 \\, B_{z_{1}} k_{1} \\cos\\left(h k_{1}\\right)^{2} - B_{z_{1}} k_{1} + 4 \\, {\\left(4 \\, A_{z_{1}} k_{1} \\cos\\left(h k_{1}\\right)^{5} - 4 \\, A_{z_{1}} k_{1} \\cos\\left(h k_{1}\\right)^{3} + A_{z_{1}} k_{1} \\cos\\left(h k_{1}\\right)\\right)} \\sin\\left(h k_{1}\\right)\\right)} \\kappa^{3} - {\\left(56 \\, B_{z_{1}} k_{1}^{3} \\cos\\left(h k_{1}\\right)^{6} - 84 \\, B_{z_{1}} k_{1}^{3} \\cos\\left(h k_{1}\\right)^{4} + 34 \\, B_{z_{1}} k_{1}^{3} \\cos\\left(h k_{1}\\right)^{2} - 3 \\, B_{z_{1}} k_{1}^{3} + 16 \\, {\\left(4 \\, A_{z_{1}} k_{1}^{3} \\cos\\left(h k_{1}\\right)^{5} - 4 \\, A_{z_{1}} k_{1}^{3} \\cos\\left(h k_{1}\\right)^{3} + A_{z_{1}} k_{1}^{3} \\cos\\left(h k_{1}\\right)\\right)} \\sin\\left(h k_{1}\\right)\\right)} \\kappa\\right)} J_{m + 1}(\\kappa \\rho) + {\\left({\\left(8 \\, B_{z_{1}} k_{1} \\cos\\left(h k_{1}\\right)^{6} - 12 \\, B_{z_{1}} k_{1} \\cos\\left(h k_{1}\\right)^{4} + 6 \\, B_{z_{1}} k_{1} \\cos\\left(h k_{1}\\right)^{2} - B_{z_{1}} k_{1} + 4 \\, {\\left(4 \\, A_{z_{1}} k_{1} \\cos\\left(h k_{1}\\right)^{5} - 4 \\, A_{z_{1}} k_{1} \\cos\\left(h k_{1}\\right)^{3} + A_{z_{1}} k_{1} \\cos\\left(h k_{1}\\right)\\right)} \\sin\\left(h k_{1}\\right)\\right)} \\kappa^{3} - {\\left(56 \\, B_{z_{1}} k_{1}^{3} \\cos\\left(h k_{1}\\right)^{6} - 84 \\, B_{z_{1}} k_{1}^{3} \\cos\\left(h k_{1}\\right)^{4} + 34 \\, B_{z_{1}} k_{1}^{3} \\cos\\left(h k_{1}\\right)^{2} - 3 \\, B_{z_{1}} k_{1}^{3} + 16 \\, {\\left(4 \\, A_{z_{1}} k_{1}^{3} \\cos\\left(h k_{1}\\right)^{5} - 4 \\, A_{z_{1}} k_{1}^{3} \\cos\\left(h k_{1}\\right)^{3} + A_{z_{1}} k_{1}^{3} \\cos\\left(h k_{1}\\right)\\right)} \\sin\\left(h k_{1}\\right)\\right)} \\kappa\\right)} J_{m - 1}(\\kappa \\rho)\\right)} \\rho^{2} + {\\left({\\left(8 \\, B_{z_{1}} k_{1} \\cos\\left(h k_{1}\\right)^{6} - 12 \\, B_{z_{1}} k_{1} \\cos\\left(h k_{1}\\right)^{4} + 6 \\, B_{z_{1}} k_{1} \\cos\\left(h k_{1}\\right)^{2} - B_{z_{1}} k_{1} + 4 \\, {\\left(4 \\, A_{z_{1}} k_{1} \\cos\\left(h k_{1}\\right)^{5} - 4 \\, A_{z_{1}} k_{1} \\cos\\left(h k_{1}\\right)^{3} + A_{z_{1}} k_{1} \\cos\\left(h k_{1}\\right)\\right)} \\sin\\left(h k_{1}\\right)\\right)} \\kappa m^{2} J_{m + 1}(\\kappa \\rho) - {\\left(8 \\, B_{z_{1}} k_{1} \\cos\\left(h k_{1}\\right)^{6} - 12 \\, B_{z_{1}} k_{1} \\cos\\left(h k_{1}\\right)^{4} + 6 \\, B_{z_{1}} k_{1} \\cos\\left(h k_{1}\\right)^{2} - B_{z_{1}} k_{1} + 4 \\, {\\left(4 \\, A_{z_{1}} k_{1} \\cos\\left(h k_{1}\\right)^{5} - 4 \\, A_{z_{1}} k_{1} \\cos\\left(h k_{1}\\right)^{3} + A_{z_{1}} k_{1} \\cos\\left(h k_{1}\\right)\\right)} \\sin\\left(h k_{1}\\right)\\right)} \\kappa m^{2} J_{m - 1}(\\kappa \\rho) - 2 \\, {\\left(3 \\, {\\left(4 \\, \\cos\\left(h k_{1}\\right)^{5} - 4 \\, \\cos\\left(h k_{1}\\right)^{3} + \\cos\\left(h k_{1}\\right)\\right)} \\kappa m^{3} J_{m + 1}(\\kappa \\rho) \\sin\\left(h k_{1}\\right) - 3 \\, {\\left(4 \\, \\cos\\left(h k_{1}\\right)^{5} - 4 \\, \\cos\\left(h k_{1}\\right)^{3} + \\cos\\left(h k_{1}\\right)\\right)} \\kappa m^{3} J_{m - 1}(\\kappa \\rho) \\sin\\left(h k_{1}\\right) + 2 \\, {\\left(3 \\, {\\left(4 \\, \\cos\\left(h k_{1}\\right)^{5} - 4 \\, \\cos\\left(h k_{1}\\right)^{3} + \\cos\\left(h k_{1}\\right)\\right)} \\kappa^{2} \\sin\\left(h k_{1}\\right) - {\\left(60 \\, k_{1}^{2} \\cos\\left(h k_{1}\\right)^{5} - 60 \\, k_{1}^{2} \\cos\\left(h k_{1}\\right)^{3} + 11 \\, k_{1}^{2} \\cos\\left(h k_{1}\\right)\\right)} \\sin\\left(h k_{1}\\right)\\right)} m J_{m}(\\kappa \\rho)\\right)} r_{1}\\right)} \\rho\\right)} \\cos\\left(k_{1} z\\right) \\sin\\left(k_{1} z\\right)^{2} + {\\left(2 \\, {\\left(8 \\, \\cos\\left(h k_{1}\\right)^{6} - 12 \\, \\cos\\left(h k_{1}\\right)^{4} + 6 \\, \\cos\\left(h k_{1}\\right)^{2} - 1\\right)} m^{3} r_{1} J_{m}(\\kappa \\rho) + {\\left({\\left({\\left({\\left(8 \\, \\cos\\left(h k_{1}\\right)^{6} - 12 \\, \\cos\\left(h k_{1}\\right)^{4} + 6 \\, \\cos\\left(h k_{1}\\right)^{2} - 1\\right)} \\kappa^{3} - {\\left(40 \\, k_{1}^{2} \\cos\\left(h k_{1}\\right)^{6} - 60 \\, k_{1}^{2} \\cos\\left(h k_{1}\\right)^{4} + 22 \\, k_{1}^{2} \\cos\\left(h k_{1}\\right)^{2} - k_{1}^{2}\\right)} \\kappa\\right)} m J_{m + 1}(\\kappa \\rho) - {\\left({\\left(8 \\, \\cos\\left(h k_{1}\\right)^{6} - 12 \\, \\cos\\left(h k_{1}\\right)^{4} + 6 \\, \\cos\\left(h k_{1}\\right)^{2} - 1\\right)} \\kappa^{3} - {\\left(40 \\, k_{1}^{2} \\cos\\left(h k_{1}\\right)^{6} - 60 \\, k_{1}^{2} \\cos\\left(h k_{1}\\right)^{4} + 22 \\, k_{1}^{2} \\cos\\left(h k_{1}\\right)^{2} - k_{1}^{2}\\right)} \\kappa\\right)} m J_{m - 1}(\\kappa \\rho)\\right)} r_{1} - {\\left({\\left(8 \\, A_{z_{1}} k_{1} \\cos\\left(h k_{1}\\right)^{6} - 12 \\, A_{z_{1}} k_{1} \\cos\\left(h k_{1}\\right)^{4} + 6 \\, A_{z_{1}} k_{1} \\cos\\left(h k_{1}\\right)^{2} - A_{z_{1}} k_{1}\\right)} \\kappa^{3} - {\\left(24 \\, A_{z_{1}} k_{1}^{3} \\cos\\left(h k_{1}\\right)^{6} - 36 \\, A_{z_{1}} k_{1}^{3} \\cos\\left(h k_{1}\\right)^{4} + 14 \\, A_{z_{1}} k_{1}^{3} \\cos\\left(h k_{1}\\right)^{2} - A_{z_{1}} k_{1}^{3} - 4 \\, {\\left(4 \\, B_{z_{1}} k_{1}^{3} \\cos\\left(h k_{1}\\right)^{5} - 4 \\, B_{z_{1}} k_{1}^{3} \\cos\\left(h k_{1}\\right)^{3} + B_{z_{1}} k_{1}^{3} \\cos\\left(h k_{1}\\right)\\right)} \\sin\\left(h k_{1}\\right)\\right)} \\kappa\\right)} J_{m + 1}(\\kappa \\rho) + {\\left({\\left(8 \\, A_{z_{1}} k_{1} \\cos\\left(h k_{1}\\right)^{6} - 12 \\, A_{z_{1}} k_{1} \\cos\\left(h k_{1}\\right)^{4} + 6 \\, A_{z_{1}} k_{1} \\cos\\left(h k_{1}\\right)^{2} - A_{z_{1}} k_{1}\\right)} \\kappa^{3} - {\\left(24 \\, A_{z_{1}} k_{1}^{3} \\cos\\left(h k_{1}\\right)^{6} - 36 \\, A_{z_{1}} k_{1}^{3} \\cos\\left(h k_{1}\\right)^{4} + 14 \\, A_{z_{1}} k_{1}^{3} \\cos\\left(h k_{1}\\right)^{2} - A_{z_{1}} k_{1}^{3} - 4 \\, {\\left(4 \\, B_{z_{1}} k_{1}^{3} \\cos\\left(h k_{1}\\right)^{5} - 4 \\, B_{z_{1}} k_{1}^{3} \\cos\\left(h k_{1}\\right)^{3} + B_{z_{1}} k_{1}^{3} \\cos\\left(h k_{1}\\right)\\right)} \\sin\\left(h k_{1}\\right)\\right)} \\kappa\\right)} J_{m - 1}(\\kappa \\rho)\\right)} \\rho^{2} + {\\left({\\left(8 \\, A_{z_{1}} k_{1} \\cos\\left(h k_{1}\\right)^{6} - 12 \\, A_{z_{1}} k_{1} \\cos\\left(h k_{1}\\right)^{4} + 6 \\, A_{z_{1}} k_{1} \\cos\\left(h k_{1}\\right)^{2} - A_{z_{1}} k_{1}\\right)} \\kappa m^{2} J_{m + 1}(\\kappa \\rho) - {\\left(8 \\, A_{z_{1}} k_{1} \\cos\\left(h k_{1}\\right)^{6} - 12 \\, A_{z_{1}} k_{1} \\cos\\left(h k_{1}\\right)^{4} + 6 \\, A_{z_{1}} k_{1} \\cos\\left(h k_{1}\\right)^{2} - A_{z_{1}} k_{1}\\right)} \\kappa m^{2} J_{m - 1}(\\kappa \\rho) - {\\left({\\left(8 \\, \\cos\\left(h k_{1}\\right)^{6} - 12 \\, \\cos\\left(h k_{1}\\right)^{4} + 6 \\, \\cos\\left(h k_{1}\\right)^{2} - 1\\right)} \\kappa m^{3} J_{m + 1}(\\kappa \\rho) - {\\left(8 \\, \\cos\\left(h k_{1}\\right)^{6} - 12 \\, \\cos\\left(h k_{1}\\right)^{4} + 6 \\, \\cos\\left(h k_{1}\\right)^{2} - 1\\right)} \\kappa m^{3} J_{m - 1}(\\kappa \\rho) - 2 \\, {\\left(40 \\, k_{1}^{2} \\cos\\left(h k_{1}\\right)^{6} - 60 \\, k_{1}^{2} \\cos\\left(h k_{1}\\right)^{4} + 22 \\, k_{1}^{2} \\cos\\left(h k_{1}\\right)^{2} - {\\left(8 \\, \\cos\\left(h k_{1}\\right)^{6} - 12 \\, \\cos\\left(h k_{1}\\right)^{4} + 6 \\, \\cos\\left(h k_{1}\\right)^{2} - 1\\right)} \\kappa^{2} - k_{1}^{2}\\right)} m J_{m}(\\kappa \\rho)\\right)} r_{1}\\right)} \\rho\\right)} \\sin\\left(k_{1} z\\right)^{3}}\\right]$$"
      ],
      "text/plain": [
       "<IPython.core.display.Math object>"
      ]
     },
     "metadata": {},
     "output_type": "display_data"
    },
    {
     "name": "stdout",
     "output_type": "stream",
     "text": [
      "\n",
      "var =\n"
     ]
    },
    {
     "data": {
      "text/latex": [
       "$$B_{z_{1}}$$"
      ],
      "text/plain": [
       "<IPython.core.display.Math object>"
      ]
     },
     "metadata": {},
     "output_type": "display_data"
    },
    {
     "name": "stdout",
     "output_type": "stream",
     "text": [
      "\n",
      "sol=\n"
     ]
    },
    {
     "data": {
      "text/latex": [
       "$$\\left[B_{z_{1}} = \\frac{4 \\, {\\left(4 \\, {\\left(B_{r_{1}} \\cos\\left(h k_{1}\\right)^{5} - B_{r_{1}} \\cos\\left(h k_{1}\\right)^{3}\\right)} m^{3} r_{1} J_{m}(\\kappa \\rho) \\sin\\left(h k_{1}\\right) - 2 \\, {\\left({\\left(B_{r_{1}} \\cos\\left(h k_{1}\\right)^{5} - B_{r_{1}} \\cos\\left(h k_{1}\\right)^{3}\\right)} \\kappa m^{3} J_{m + 1}(\\kappa \\rho) \\sin\\left(h k_{1}\\right) - {\\left(B_{r_{1}} \\cos\\left(h k_{1}\\right)^{5} - B_{r_{1}} \\cos\\left(h k_{1}\\right)^{3}\\right)} \\kappa m^{3} J_{m - 1}(\\kappa \\rho) \\sin\\left(h k_{1}\\right) + 2 \\, {\\left({\\left(B_{r_{1}} \\cos\\left(h k_{1}\\right)^{5} - B_{r_{1}} \\cos\\left(h k_{1}\\right)^{3}\\right)} \\kappa^{2} \\sin\\left(h k_{1}\\right) - {\\left(5 \\, {\\left(B_{r_{1}} - 1\\right)} k_{1}^{2} \\cos\\left(h k_{1}\\right)^{5} - 5 \\, {\\left(B_{r_{1}} - 1\\right)} k_{1}^{2} \\cos\\left(h k_{1}\\right)^{3} + {\\left(B_{r_{1}} - 1\\right)} k_{1}^{2} \\cos\\left(h k_{1}\\right)\\right)} \\sin\\left(h k_{1}\\right)\\right)} m J_{m}(\\kappa \\rho)\\right)} r_{1} \\rho + {\\left({\\left(4 \\, {\\left(A_{z_{1}} B_{r_{1}} - A_{z_{1}}\\right)} k_{1}^{3} \\cos\\left(h k_{1}\\right)^{5} - 4 \\, {\\left(A_{z_{1}} B_{r_{1}} - A_{z_{1}}\\right)} k_{1}^{3} \\cos\\left(h k_{1}\\right)^{3} + {\\left(A_{z_{1}} B_{r_{1}} - A_{z_{1}}\\right)} k_{1}^{3} \\cos\\left(h k_{1}\\right)\\right)} \\kappa J_{m + 1}(\\kappa \\rho) \\sin\\left(h k_{1}\\right) - {\\left(4 \\, {\\left(A_{z_{1}} B_{r_{1}} - A_{z_{1}}\\right)} k_{1}^{3} \\cos\\left(h k_{1}\\right)^{5} - 4 \\, {\\left(A_{z_{1}} B_{r_{1}} - A_{z_{1}}\\right)} k_{1}^{3} \\cos\\left(h k_{1}\\right)^{3} + {\\left(A_{z_{1}} B_{r_{1}} - A_{z_{1}}\\right)} k_{1}^{3} \\cos\\left(h k_{1}\\right)\\right)} \\kappa J_{m - 1}(\\kappa \\rho) \\sin\\left(h k_{1}\\right) + 2 \\, {\\left({\\left({\\left(B_{r_{1}} \\cos\\left(h k_{1}\\right)^{5} - B_{r_{1}} \\cos\\left(h k_{1}\\right)^{3}\\right)} \\kappa^{3} \\sin\\left(h k_{1}\\right) - {\\left(5 \\, {\\left(B_{r_{1}} - 1\\right)} k_{1}^{2} \\cos\\left(h k_{1}\\right)^{5} - 5 \\, {\\left(B_{r_{1}} - 1\\right)} k_{1}^{2} \\cos\\left(h k_{1}\\right)^{3} + {\\left(B_{r_{1}} - 1\\right)} k_{1}^{2} \\cos\\left(h k_{1}\\right)\\right)} \\kappa \\sin\\left(h k_{1}\\right)\\right)} m J_{m + 1}(\\kappa \\rho) - {\\left({\\left(B_{r_{1}} \\cos\\left(h k_{1}\\right)^{5} - B_{r_{1}} \\cos\\left(h k_{1}\\right)^{3}\\right)} \\kappa^{3} \\sin\\left(h k_{1}\\right) - {\\left(5 \\, {\\left(B_{r_{1}} - 1\\right)} k_{1}^{2} \\cos\\left(h k_{1}\\right)^{5} - 5 \\, {\\left(B_{r_{1}} - 1\\right)} k_{1}^{2} \\cos\\left(h k_{1}\\right)^{3} + {\\left(B_{r_{1}} - 1\\right)} k_{1}^{2} \\cos\\left(h k_{1}\\right)\\right)} \\kappa \\sin\\left(h k_{1}\\right)\\right)} m J_{m - 1}(\\kappa \\rho)\\right)} r_{1}\\right)} \\rho^{2}\\right)} \\cos\\left(k_{1} z\\right)^{3} - 4 \\, {\\left(6 \\, {\\left(2 \\, B_{r_{1}} \\cos\\left(h k_{1}\\right)^{6} - 3 \\, B_{r_{1}} \\cos\\left(h k_{1}\\right)^{4} + B_{r_{1}} \\cos\\left(h k_{1}\\right)^{2}\\right)} m^{3} r_{1} J_{m}(\\kappa \\rho) + {\\left({\\left({\\left(3 \\, {\\left(2 \\, B_{r_{1}} \\cos\\left(h k_{1}\\right)^{6} - 3 \\, B_{r_{1}} \\cos\\left(h k_{1}\\right)^{4} + B_{r_{1}} \\cos\\left(h k_{1}\\right)^{2}\\right)} \\kappa^{3} - {\\left(30 \\, {\\left(B_{r_{1}} - 1\\right)} k_{1}^{2} \\cos\\left(h k_{1}\\right)^{6} - 45 \\, {\\left(B_{r_{1}} - 1\\right)} k_{1}^{2} \\cos\\left(h k_{1}\\right)^{4} + 17 \\, {\\left(B_{r_{1}} - 1\\right)} k_{1}^{2} \\cos\\left(h k_{1}\\right)^{2} - {\\left(B_{r_{1}} - 1\\right)} k_{1}^{2}\\right)} \\kappa\\right)} m J_{m + 1}(\\kappa \\rho) - {\\left(3 \\, {\\left(2 \\, B_{r_{1}} \\cos\\left(h k_{1}\\right)^{6} - 3 \\, B_{r_{1}} \\cos\\left(h k_{1}\\right)^{4} + B_{r_{1}} \\cos\\left(h k_{1}\\right)^{2}\\right)} \\kappa^{3} - {\\left(30 \\, {\\left(B_{r_{1}} - 1\\right)} k_{1}^{2} \\cos\\left(h k_{1}\\right)^{6} - 45 \\, {\\left(B_{r_{1}} - 1\\right)} k_{1}^{2} \\cos\\left(h k_{1}\\right)^{4} + 17 \\, {\\left(B_{r_{1}} - 1\\right)} k_{1}^{2} \\cos\\left(h k_{1}\\right)^{2} - {\\left(B_{r_{1}} - 1\\right)} k_{1}^{2}\\right)} \\kappa\\right)} m J_{m - 1}(\\kappa \\rho)\\right)} r_{1} - {\\left({\\left(2 \\, A_{z_{1}} B_{r_{1}} k_{1} \\cos\\left(h k_{1}\\right)^{6} - 3 \\, A_{z_{1}} B_{r_{1}} k_{1} \\cos\\left(h k_{1}\\right)^{4} + A_{z_{1}} B_{r_{1}} k_{1} \\cos\\left(h k_{1}\\right)^{2}\\right)} \\kappa^{3} - {\\left(14 \\, {\\left(A_{z_{1}} B_{r_{1}} - A_{z_{1}}\\right)} k_{1}^{3} \\cos\\left(h k_{1}\\right)^{6} - 21 \\, {\\left(A_{z_{1}} B_{r_{1}} - A_{z_{1}}\\right)} k_{1}^{3} \\cos\\left(h k_{1}\\right)^{4} + 9 \\, {\\left(A_{z_{1}} B_{r_{1}} - A_{z_{1}}\\right)} k_{1}^{3} \\cos\\left(h k_{1}\\right)^{2} - {\\left(A_{z_{1}} B_{r_{1}} - A_{z_{1}}\\right)} k_{1}^{3}\\right)} \\kappa\\right)} J_{m + 1}(\\kappa \\rho) + {\\left({\\left(2 \\, A_{z_{1}} B_{r_{1}} k_{1} \\cos\\left(h k_{1}\\right)^{6} - 3 \\, A_{z_{1}} B_{r_{1}} k_{1} \\cos\\left(h k_{1}\\right)^{4} + A_{z_{1}} B_{r_{1}} k_{1} \\cos\\left(h k_{1}\\right)^{2}\\right)} \\kappa^{3} - {\\left(14 \\, {\\left(A_{z_{1}} B_{r_{1}} - A_{z_{1}}\\right)} k_{1}^{3} \\cos\\left(h k_{1}\\right)^{6} - 21 \\, {\\left(A_{z_{1}} B_{r_{1}} - A_{z_{1}}\\right)} k_{1}^{3} \\cos\\left(h k_{1}\\right)^{4} + 9 \\, {\\left(A_{z_{1}} B_{r_{1}} - A_{z_{1}}\\right)} k_{1}^{3} \\cos\\left(h k_{1}\\right)^{2} - {\\left(A_{z_{1}} B_{r_{1}} - A_{z_{1}}\\right)} k_{1}^{3}\\right)} \\kappa\\right)} J_{m - 1}(\\kappa \\rho)\\right)} \\rho^{2} + {\\left({\\left(2 \\, A_{z_{1}} B_{r_{1}} k_{1} \\cos\\left(h k_{1}\\right)^{6} - 3 \\, A_{z_{1}} B_{r_{1}} k_{1} \\cos\\left(h k_{1}\\right)^{4} + A_{z_{1}} B_{r_{1}} k_{1} \\cos\\left(h k_{1}\\right)^{2}\\right)} \\kappa m^{2} J_{m + 1}(\\kappa \\rho) - {\\left(2 \\, A_{z_{1}} B_{r_{1}} k_{1} \\cos\\left(h k_{1}\\right)^{6} - 3 \\, A_{z_{1}} B_{r_{1}} k_{1} \\cos\\left(h k_{1}\\right)^{4} + A_{z_{1}} B_{r_{1}} k_{1} \\cos\\left(h k_{1}\\right)^{2}\\right)} \\kappa m^{2} J_{m - 1}(\\kappa \\rho) - {\\left(3 \\, {\\left(2 \\, B_{r_{1}} \\cos\\left(h k_{1}\\right)^{6} - 3 \\, B_{r_{1}} \\cos\\left(h k_{1}\\right)^{4} + B_{r_{1}} \\cos\\left(h k_{1}\\right)^{2}\\right)} \\kappa m^{3} J_{m + 1}(\\kappa \\rho) - 3 \\, {\\left(2 \\, B_{r_{1}} \\cos\\left(h k_{1}\\right)^{6} - 3 \\, B_{r_{1}} \\cos\\left(h k_{1}\\right)^{4} + B_{r_{1}} \\cos\\left(h k_{1}\\right)^{2}\\right)} \\kappa m^{3} J_{m - 1}(\\kappa \\rho) - 2 \\, {\\left(30 \\, {\\left(B_{r_{1}} - 1\\right)} k_{1}^{2} \\cos\\left(h k_{1}\\right)^{6} - 45 \\, {\\left(B_{r_{1}} - 1\\right)} k_{1}^{2} \\cos\\left(h k_{1}\\right)^{4} + 17 \\, {\\left(B_{r_{1}} - 1\\right)} k_{1}^{2} \\cos\\left(h k_{1}\\right)^{2} - {\\left(B_{r_{1}} - 1\\right)} k_{1}^{2} - 3 \\, {\\left(2 \\, B_{r_{1}} \\cos\\left(h k_{1}\\right)^{6} - 3 \\, B_{r_{1}} \\cos\\left(h k_{1}\\right)^{4} + B_{r_{1}} \\cos\\left(h k_{1}\\right)^{2}\\right)} \\kappa^{2}\\right)} m J_{m}(\\kappa \\rho)\\right)} r_{1}\\right)} \\rho\\right)} \\cos\\left(k_{1} z\\right)^{2} \\sin\\left(k_{1} z\\right) - 2 \\, {\\left(6 \\, {\\left(4 \\, B_{r_{1}} \\cos\\left(h k_{1}\\right)^{5} - 4 \\, B_{r_{1}} \\cos\\left(h k_{1}\\right)^{3} + B_{r_{1}} \\cos\\left(h k_{1}\\right)\\right)} m^{3} r_{1} J_{m}(\\kappa \\rho) \\sin\\left(h k_{1}\\right) + {\\left({\\left({\\left(3 \\, {\\left(4 \\, B_{r_{1}} \\cos\\left(h k_{1}\\right)^{5} - 4 \\, B_{r_{1}} \\cos\\left(h k_{1}\\right)^{3} + B_{r_{1}} \\cos\\left(h k_{1}\\right)\\right)} \\kappa^{3} \\sin\\left(h k_{1}\\right) - {\\left(60 \\, {\\left(B_{r_{1}} - 1\\right)} k_{1}^{2} \\cos\\left(h k_{1}\\right)^{5} - 60 \\, {\\left(B_{r_{1}} - 1\\right)} k_{1}^{2} \\cos\\left(h k_{1}\\right)^{3} + 11 \\, {\\left(B_{r_{1}} - 1\\right)} k_{1}^{2} \\cos\\left(h k_{1}\\right)\\right)} \\kappa \\sin\\left(h k_{1}\\right)\\right)} m J_{m + 1}(\\kappa \\rho) - {\\left(3 \\, {\\left(4 \\, B_{r_{1}} \\cos\\left(h k_{1}\\right)^{5} - 4 \\, B_{r_{1}} \\cos\\left(h k_{1}\\right)^{3} + B_{r_{1}} \\cos\\left(h k_{1}\\right)\\right)} \\kappa^{3} \\sin\\left(h k_{1}\\right) - {\\left(60 \\, {\\left(B_{r_{1}} - 1\\right)} k_{1}^{2} \\cos\\left(h k_{1}\\right)^{5} - 60 \\, {\\left(B_{r_{1}} - 1\\right)} k_{1}^{2} \\cos\\left(h k_{1}\\right)^{3} + 11 \\, {\\left(B_{r_{1}} - 1\\right)} k_{1}^{2} \\cos\\left(h k_{1}\\right)\\right)} \\kappa \\sin\\left(h k_{1}\\right)\\right)} m J_{m - 1}(\\kappa \\rho)\\right)} r_{1} - 2 \\, {\\left({\\left(4 \\, A_{z_{1}} B_{r_{1}} k_{1} \\cos\\left(h k_{1}\\right)^{5} - 4 \\, A_{z_{1}} B_{r_{1}} k_{1} \\cos\\left(h k_{1}\\right)^{3} + A_{z_{1}} B_{r_{1}} k_{1} \\cos\\left(h k_{1}\\right)\\right)} \\kappa^{3} \\sin\\left(h k_{1}\\right) - 4 \\, {\\left(4 \\, {\\left(A_{z_{1}} B_{r_{1}} - A_{z_{1}}\\right)} k_{1}^{3} \\cos\\left(h k_{1}\\right)^{5} - 4 \\, {\\left(A_{z_{1}} B_{r_{1}} - A_{z_{1}}\\right)} k_{1}^{3} \\cos\\left(h k_{1}\\right)^{3} + {\\left(A_{z_{1}} B_{r_{1}} - A_{z_{1}}\\right)} k_{1}^{3} \\cos\\left(h k_{1}\\right)\\right)} \\kappa \\sin\\left(h k_{1}\\right)\\right)} J_{m + 1}(\\kappa \\rho) + 2 \\, {\\left({\\left(4 \\, A_{z_{1}} B_{r_{1}} k_{1} \\cos\\left(h k_{1}\\right)^{5} - 4 \\, A_{z_{1}} B_{r_{1}} k_{1} \\cos\\left(h k_{1}\\right)^{3} + A_{z_{1}} B_{r_{1}} k_{1} \\cos\\left(h k_{1}\\right)\\right)} \\kappa^{3} \\sin\\left(h k_{1}\\right) - 4 \\, {\\left(4 \\, {\\left(A_{z_{1}} B_{r_{1}} - A_{z_{1}}\\right)} k_{1}^{3} \\cos\\left(h k_{1}\\right)^{5} - 4 \\, {\\left(A_{z_{1}} B_{r_{1}} - A_{z_{1}}\\right)} k_{1}^{3} \\cos\\left(h k_{1}\\right)^{3} + {\\left(A_{z_{1}} B_{r_{1}} - A_{z_{1}}\\right)} k_{1}^{3} \\cos\\left(h k_{1}\\right)\\right)} \\kappa \\sin\\left(h k_{1}\\right)\\right)} J_{m - 1}(\\kappa \\rho)\\right)} \\rho^{2} + {\\left(2 \\, {\\left(4 \\, A_{z_{1}} B_{r_{1}} k_{1} \\cos\\left(h k_{1}\\right)^{5} - 4 \\, A_{z_{1}} B_{r_{1}} k_{1} \\cos\\left(h k_{1}\\right)^{3} + A_{z_{1}} B_{r_{1}} k_{1} \\cos\\left(h k_{1}\\right)\\right)} \\kappa m^{2} J_{m + 1}(\\kappa \\rho) \\sin\\left(h k_{1}\\right) - 2 \\, {\\left(4 \\, A_{z_{1}} B_{r_{1}} k_{1} \\cos\\left(h k_{1}\\right)^{5} - 4 \\, A_{z_{1}} B_{r_{1}} k_{1} \\cos\\left(h k_{1}\\right)^{3} + A_{z_{1}} B_{r_{1}} k_{1} \\cos\\left(h k_{1}\\right)\\right)} \\kappa m^{2} J_{m - 1}(\\kappa \\rho) \\sin\\left(h k_{1}\\right) - {\\left(3 \\, {\\left(4 \\, B_{r_{1}} \\cos\\left(h k_{1}\\right)^{5} - 4 \\, B_{r_{1}} \\cos\\left(h k_{1}\\right)^{3} + B_{r_{1}} \\cos\\left(h k_{1}\\right)\\right)} \\kappa m^{3} J_{m + 1}(\\kappa \\rho) \\sin\\left(h k_{1}\\right) - 3 \\, {\\left(4 \\, B_{r_{1}} \\cos\\left(h k_{1}\\right)^{5} - 4 \\, B_{r_{1}} \\cos\\left(h k_{1}\\right)^{3} + B_{r_{1}} \\cos\\left(h k_{1}\\right)\\right)} \\kappa m^{3} J_{m - 1}(\\kappa \\rho) \\sin\\left(h k_{1}\\right) + 2 \\, {\\left(3 \\, {\\left(4 \\, B_{r_{1}} \\cos\\left(h k_{1}\\right)^{5} - 4 \\, B_{r_{1}} \\cos\\left(h k_{1}\\right)^{3} + B_{r_{1}} \\cos\\left(h k_{1}\\right)\\right)} \\kappa^{2} \\sin\\left(h k_{1}\\right) - {\\left(60 \\, {\\left(B_{r_{1}} - 1\\right)} k_{1}^{2} \\cos\\left(h k_{1}\\right)^{5} - 60 \\, {\\left(B_{r_{1}} - 1\\right)} k_{1}^{2} \\cos\\left(h k_{1}\\right)^{3} + 11 \\, {\\left(B_{r_{1}} - 1\\right)} k_{1}^{2} \\cos\\left(h k_{1}\\right)\\right)} \\sin\\left(h k_{1}\\right)\\right)} m J_{m}(\\kappa \\rho)\\right)} r_{1}\\right)} \\rho\\right)} \\cos\\left(k_{1} z\\right) \\sin\\left(k_{1} z\\right)^{2} + {\\left(2 \\, {\\left(8 \\, B_{r_{1}} \\cos\\left(h k_{1}\\right)^{6} - 12 \\, B_{r_{1}} \\cos\\left(h k_{1}\\right)^{4} + 6 \\, B_{r_{1}} \\cos\\left(h k_{1}\\right)^{2} - B_{r_{1}}\\right)} m^{3} r_{1} J_{m}(\\kappa \\rho) + {\\left({\\left({\\left({\\left(8 \\, B_{r_{1}} \\cos\\left(h k_{1}\\right)^{6} - 12 \\, B_{r_{1}} \\cos\\left(h k_{1}\\right)^{4} + 6 \\, B_{r_{1}} \\cos\\left(h k_{1}\\right)^{2} - B_{r_{1}}\\right)} \\kappa^{3} - {\\left(40 \\, {\\left(B_{r_{1}} - 1\\right)} k_{1}^{2} \\cos\\left(h k_{1}\\right)^{6} - 60 \\, {\\left(B_{r_{1}} - 1\\right)} k_{1}^{2} \\cos\\left(h k_{1}\\right)^{4} + 22 \\, {\\left(B_{r_{1}} - 1\\right)} k_{1}^{2} \\cos\\left(h k_{1}\\right)^{2} - {\\left(B_{r_{1}} - 1\\right)} k_{1}^{2}\\right)} \\kappa\\right)} m J_{m + 1}(\\kappa \\rho) - {\\left({\\left(8 \\, B_{r_{1}} \\cos\\left(h k_{1}\\right)^{6} - 12 \\, B_{r_{1}} \\cos\\left(h k_{1}\\right)^{4} + 6 \\, B_{r_{1}} \\cos\\left(h k_{1}\\right)^{2} - B_{r_{1}}\\right)} \\kappa^{3} - {\\left(40 \\, {\\left(B_{r_{1}} - 1\\right)} k_{1}^{2} \\cos\\left(h k_{1}\\right)^{6} - 60 \\, {\\left(B_{r_{1}} - 1\\right)} k_{1}^{2} \\cos\\left(h k_{1}\\right)^{4} + 22 \\, {\\left(B_{r_{1}} - 1\\right)} k_{1}^{2} \\cos\\left(h k_{1}\\right)^{2} - {\\left(B_{r_{1}} - 1\\right)} k_{1}^{2}\\right)} \\kappa\\right)} m J_{m - 1}(\\kappa \\rho)\\right)} r_{1} - {\\left({\\left(8 \\, A_{z_{1}} B_{r_{1}} k_{1} \\cos\\left(h k_{1}\\right)^{6} - 12 \\, A_{z_{1}} B_{r_{1}} k_{1} \\cos\\left(h k_{1}\\right)^{4} + 6 \\, A_{z_{1}} B_{r_{1}} k_{1} \\cos\\left(h k_{1}\\right)^{2} - A_{z_{1}} B_{r_{1}} k_{1}\\right)} \\kappa^{3} - {\\left(24 \\, {\\left(A_{z_{1}} B_{r_{1}} - A_{z_{1}}\\right)} k_{1}^{3} \\cos\\left(h k_{1}\\right)^{6} - 36 \\, {\\left(A_{z_{1}} B_{r_{1}} - A_{z_{1}}\\right)} k_{1}^{3} \\cos\\left(h k_{1}\\right)^{4} + 14 \\, {\\left(A_{z_{1}} B_{r_{1}} - A_{z_{1}}\\right)} k_{1}^{3} \\cos\\left(h k_{1}\\right)^{2} - {\\left(A_{z_{1}} B_{r_{1}} - A_{z_{1}}\\right)} k_{1}^{3}\\right)} \\kappa\\right)} J_{m + 1}(\\kappa \\rho) + {\\left({\\left(8 \\, A_{z_{1}} B_{r_{1}} k_{1} \\cos\\left(h k_{1}\\right)^{6} - 12 \\, A_{z_{1}} B_{r_{1}} k_{1} \\cos\\left(h k_{1}\\right)^{4} + 6 \\, A_{z_{1}} B_{r_{1}} k_{1} \\cos\\left(h k_{1}\\right)^{2} - A_{z_{1}} B_{r_{1}} k_{1}\\right)} \\kappa^{3} - {\\left(24 \\, {\\left(A_{z_{1}} B_{r_{1}} - A_{z_{1}}\\right)} k_{1}^{3} \\cos\\left(h k_{1}\\right)^{6} - 36 \\, {\\left(A_{z_{1}} B_{r_{1}} - A_{z_{1}}\\right)} k_{1}^{3} \\cos\\left(h k_{1}\\right)^{4} + 14 \\, {\\left(A_{z_{1}} B_{r_{1}} - A_{z_{1}}\\right)} k_{1}^{3} \\cos\\left(h k_{1}\\right)^{2} - {\\left(A_{z_{1}} B_{r_{1}} - A_{z_{1}}\\right)} k_{1}^{3}\\right)} \\kappa\\right)} J_{m - 1}(\\kappa \\rho)\\right)} \\rho^{2} + {\\left({\\left(8 \\, A_{z_{1}} B_{r_{1}} k_{1} \\cos\\left(h k_{1}\\right)^{6} - 12 \\, A_{z_{1}} B_{r_{1}} k_{1} \\cos\\left(h k_{1}\\right)^{4} + 6 \\, A_{z_{1}} B_{r_{1}} k_{1} \\cos\\left(h k_{1}\\right)^{2} - A_{z_{1}} B_{r_{1}} k_{1}\\right)} \\kappa m^{2} J_{m + 1}(\\kappa \\rho) - {\\left(8 \\, A_{z_{1}} B_{r_{1}} k_{1} \\cos\\left(h k_{1}\\right)^{6} - 12 \\, A_{z_{1}} B_{r_{1}} k_{1} \\cos\\left(h k_{1}\\right)^{4} + 6 \\, A_{z_{1}} B_{r_{1}} k_{1} \\cos\\left(h k_{1}\\right)^{2} - A_{z_{1}} B_{r_{1}} k_{1}\\right)} \\kappa m^{2} J_{m - 1}(\\kappa \\rho) - {\\left({\\left(8 \\, B_{r_{1}} \\cos\\left(h k_{1}\\right)^{6} - 12 \\, B_{r_{1}} \\cos\\left(h k_{1}\\right)^{4} + 6 \\, B_{r_{1}} \\cos\\left(h k_{1}\\right)^{2} - B_{r_{1}}\\right)} \\kappa m^{3} J_{m + 1}(\\kappa \\rho) - {\\left(8 \\, B_{r_{1}} \\cos\\left(h k_{1}\\right)^{6} - 12 \\, B_{r_{1}} \\cos\\left(h k_{1}\\right)^{4} + 6 \\, B_{r_{1}} \\cos\\left(h k_{1}\\right)^{2} - B_{r_{1}}\\right)} \\kappa m^{3} J_{m - 1}(\\kappa \\rho) - 2 \\, {\\left(40 \\, {\\left(B_{r_{1}} - 1\\right)} k_{1}^{2} \\cos\\left(h k_{1}\\right)^{6} - 60 \\, {\\left(B_{r_{1}} - 1\\right)} k_{1}^{2} \\cos\\left(h k_{1}\\right)^{4} + 22 \\, {\\left(B_{r_{1}} - 1\\right)} k_{1}^{2} \\cos\\left(h k_{1}\\right)^{2} - {\\left(B_{r_{1}} - 1\\right)} k_{1}^{2} - {\\left(8 \\, B_{r_{1}} \\cos\\left(h k_{1}\\right)^{6} - 12 \\, B_{r_{1}} \\cos\\left(h k_{1}\\right)^{4} + 6 \\, B_{r_{1}} \\cos\\left(h k_{1}\\right)^{2} - B_{r_{1}}\\right)} \\kappa^{2}\\right)} m J_{m}(\\kappa \\rho)\\right)} r_{1}\\right)} \\rho\\right)} \\sin\\left(k_{1} z\\right)^{3}}{4 \\, {\\left({\\left(4 \\, {\\left(B_{r_{1}} - 1\\right)} k_{1}^{3} \\cos\\left(h k_{1}\\right)^{5} - 4 \\, {\\left(B_{r_{1}} - 1\\right)} k_{1}^{3} \\cos\\left(h k_{1}\\right)^{3} + {\\left(B_{r_{1}} - 1\\right)} k_{1}^{3} \\cos\\left(h k_{1}\\right)\\right)} \\kappa J_{m + 1}(\\kappa \\rho) \\sin\\left(h k_{1}\\right) - {\\left(4 \\, {\\left(B_{r_{1}} - 1\\right)} k_{1}^{3} \\cos\\left(h k_{1}\\right)^{5} - 4 \\, {\\left(B_{r_{1}} - 1\\right)} k_{1}^{3} \\cos\\left(h k_{1}\\right)^{3} + {\\left(B_{r_{1}} - 1\\right)} k_{1}^{3} \\cos\\left(h k_{1}\\right)\\right)} \\kappa J_{m - 1}(\\kappa \\rho) \\sin\\left(h k_{1}\\right)\\right)} \\rho^{2} \\sin\\left(k_{1} z\\right)^{3} + 2 \\, {\\left({\\left({\\left(2 \\, {\\left(2 \\, B_{r_{1}} k_{1} \\cos\\left(h k_{1}\\right)^{6} - 3 \\, B_{r_{1}} k_{1} \\cos\\left(h k_{1}\\right)^{4} + B_{r_{1}} k_{1} \\cos\\left(h k_{1}\\right)^{2}\\right)} \\kappa^{3} - {\\left(12 \\, {\\left(B_{r_{1}} - 1\\right)} k_{1}^{3} \\cos\\left(h k_{1}\\right)^{6} - 18 \\, {\\left(B_{r_{1}} - 1\\right)} k_{1}^{3} \\cos\\left(h k_{1}\\right)^{4} + 8 \\, {\\left(B_{r_{1}} - 1\\right)} k_{1}^{3} \\cos\\left(h k_{1}\\right)^{2} - {\\left(B_{r_{1}} - 1\\right)} k_{1}^{3}\\right)} \\kappa\\right)} J_{m + 1}(\\kappa \\rho) - {\\left(2 \\, {\\left(2 \\, B_{r_{1}} k_{1} \\cos\\left(h k_{1}\\right)^{6} - 3 \\, B_{r_{1}} k_{1} \\cos\\left(h k_{1}\\right)^{4} + B_{r_{1}} k_{1} \\cos\\left(h k_{1}\\right)^{2}\\right)} \\kappa^{3} - {\\left(12 \\, {\\left(B_{r_{1}} - 1\\right)} k_{1}^{3} \\cos\\left(h k_{1}\\right)^{6} - 18 \\, {\\left(B_{r_{1}} - 1\\right)} k_{1}^{3} \\cos\\left(h k_{1}\\right)^{4} + 8 \\, {\\left(B_{r_{1}} - 1\\right)} k_{1}^{3} \\cos\\left(h k_{1}\\right)^{2} - {\\left(B_{r_{1}} - 1\\right)} k_{1}^{3}\\right)} \\kappa\\right)} J_{m - 1}(\\kappa \\rho)\\right)} \\rho^{2} - 2 \\, {\\left({\\left(2 \\, B_{r_{1}} k_{1} \\cos\\left(h k_{1}\\right)^{6} - 3 \\, B_{r_{1}} k_{1} \\cos\\left(h k_{1}\\right)^{4} + B_{r_{1}} k_{1} \\cos\\left(h k_{1}\\right)^{2}\\right)} \\kappa m^{2} J_{m + 1}(\\kappa \\rho) - {\\left(2 \\, B_{r_{1}} k_{1} \\cos\\left(h k_{1}\\right)^{6} - 3 \\, B_{r_{1}} k_{1} \\cos\\left(h k_{1}\\right)^{4} + B_{r_{1}} k_{1} \\cos\\left(h k_{1}\\right)^{2}\\right)} \\kappa m^{2} J_{m - 1}(\\kappa \\rho)\\right)} \\rho\\right)} \\cos\\left(k_{1} z\\right)^{3} + 4 \\, {\\left({\\left({\\left({\\left(4 \\, B_{r_{1}} k_{1} \\cos\\left(h k_{1}\\right)^{5} - 4 \\, B_{r_{1}} k_{1} \\cos\\left(h k_{1}\\right)^{3} + B_{r_{1}} k_{1} \\cos\\left(h k_{1}\\right)\\right)} \\kappa^{3} \\sin\\left(h k_{1}\\right) - 4 \\, {\\left(4 \\, {\\left(B_{r_{1}} - 1\\right)} k_{1}^{3} \\cos\\left(h k_{1}\\right)^{5} - 4 \\, {\\left(B_{r_{1}} - 1\\right)} k_{1}^{3} \\cos\\left(h k_{1}\\right)^{3} + {\\left(B_{r_{1}} - 1\\right)} k_{1}^{3} \\cos\\left(h k_{1}\\right)\\right)} \\kappa \\sin\\left(h k_{1}\\right)\\right)} J_{m + 1}(\\kappa \\rho) - {\\left({\\left(4 \\, B_{r_{1}} k_{1} \\cos\\left(h k_{1}\\right)^{5} - 4 \\, B_{r_{1}} k_{1} \\cos\\left(h k_{1}\\right)^{3} + B_{r_{1}} k_{1} \\cos\\left(h k_{1}\\right)\\right)} \\kappa^{3} \\sin\\left(h k_{1}\\right) - 4 \\, {\\left(4 \\, {\\left(B_{r_{1}} - 1\\right)} k_{1}^{3} \\cos\\left(h k_{1}\\right)^{5} - 4 \\, {\\left(B_{r_{1}} - 1\\right)} k_{1}^{3} \\cos\\left(h k_{1}\\right)^{3} + {\\left(B_{r_{1}} - 1\\right)} k_{1}^{3} \\cos\\left(h k_{1}\\right)\\right)} \\kappa \\sin\\left(h k_{1}\\right)\\right)} J_{m - 1}(\\kappa \\rho)\\right)} \\rho^{2} - {\\left({\\left(4 \\, B_{r_{1}} k_{1} \\cos\\left(h k_{1}\\right)^{5} - 4 \\, B_{r_{1}} k_{1} \\cos\\left(h k_{1}\\right)^{3} + B_{r_{1}} k_{1} \\cos\\left(h k_{1}\\right)\\right)} \\kappa m^{2} J_{m + 1}(\\kappa \\rho) \\sin\\left(h k_{1}\\right) - {\\left(4 \\, B_{r_{1}} k_{1} \\cos\\left(h k_{1}\\right)^{5} - 4 \\, B_{r_{1}} k_{1} \\cos\\left(h k_{1}\\right)^{3} + B_{r_{1}} k_{1} \\cos\\left(h k_{1}\\right)\\right)} \\kappa m^{2} J_{m - 1}(\\kappa \\rho) \\sin\\left(h k_{1}\\right)\\right)} \\rho\\right)} \\cos\\left(k_{1} z\\right)^{2} \\sin\\left(k_{1} z\\right) - {\\left({\\left({\\left({\\left(8 \\, B_{r_{1}} k_{1} \\cos\\left(h k_{1}\\right)^{6} - 12 \\, B_{r_{1}} k_{1} \\cos\\left(h k_{1}\\right)^{4} + 6 \\, B_{r_{1}} k_{1} \\cos\\left(h k_{1}\\right)^{2} - B_{r_{1}} k_{1}\\right)} \\kappa^{3} - {\\left(56 \\, {\\left(B_{r_{1}} - 1\\right)} k_{1}^{3} \\cos\\left(h k_{1}\\right)^{6} - 84 \\, {\\left(B_{r_{1}} - 1\\right)} k_{1}^{3} \\cos\\left(h k_{1}\\right)^{4} + 34 \\, {\\left(B_{r_{1}} - 1\\right)} k_{1}^{3} \\cos\\left(h k_{1}\\right)^{2} - 3 \\, {\\left(B_{r_{1}} - 1\\right)} k_{1}^{3}\\right)} \\kappa\\right)} J_{m + 1}(\\kappa \\rho) - {\\left({\\left(8 \\, B_{r_{1}} k_{1} \\cos\\left(h k_{1}\\right)^{6} - 12 \\, B_{r_{1}} k_{1} \\cos\\left(h k_{1}\\right)^{4} + 6 \\, B_{r_{1}} k_{1} \\cos\\left(h k_{1}\\right)^{2} - B_{r_{1}} k_{1}\\right)} \\kappa^{3} - {\\left(56 \\, {\\left(B_{r_{1}} - 1\\right)} k_{1}^{3} \\cos\\left(h k_{1}\\right)^{6} - 84 \\, {\\left(B_{r_{1}} - 1\\right)} k_{1}^{3} \\cos\\left(h k_{1}\\right)^{4} + 34 \\, {\\left(B_{r_{1}} - 1\\right)} k_{1}^{3} \\cos\\left(h k_{1}\\right)^{2} - 3 \\, {\\left(B_{r_{1}} - 1\\right)} k_{1}^{3}\\right)} \\kappa\\right)} J_{m - 1}(\\kappa \\rho)\\right)} \\rho^{2} - {\\left({\\left(8 \\, B_{r_{1}} k_{1} \\cos\\left(h k_{1}\\right)^{6} - 12 \\, B_{r_{1}} k_{1} \\cos\\left(h k_{1}\\right)^{4} + 6 \\, B_{r_{1}} k_{1} \\cos\\left(h k_{1}\\right)^{2} - B_{r_{1}} k_{1}\\right)} \\kappa m^{2} J_{m + 1}(\\kappa \\rho) - {\\left(8 \\, B_{r_{1}} k_{1} \\cos\\left(h k_{1}\\right)^{6} - 12 \\, B_{r_{1}} k_{1} \\cos\\left(h k_{1}\\right)^{4} + 6 \\, B_{r_{1}} k_{1} \\cos\\left(h k_{1}\\right)^{2} - B_{r_{1}} k_{1}\\right)} \\kappa m^{2} J_{m - 1}(\\kappa \\rho)\\right)} \\rho\\right)} \\cos\\left(k_{1} z\\right) \\sin\\left(k_{1} z\\right)^{2}}\\right]$$"
      ],
      "text/plain": [
       "<IPython.core.display.Math object>"
      ]
     },
     "metadata": {},
     "output_type": "display_data"
    },
    {
     "name": "stdout",
     "output_type": "stream",
     "text": [
      "\n",
      "eq4 =\n"
     ]
    },
    {
     "data": {
      "text/latex": [
       "$$\\frac{2 \\, {\\left(8 \\, {\\left(B_{\\phi_{1}} B_{r_{1}} \\cos\\left(h k_{1}\\right)^{5} - B_{\\phi_{1}} B_{r_{1}} \\cos\\left(h k_{1}\\right)^{3}\\right)} m^{3} J_{m}(\\kappa \\rho) \\sin\\left(h k_{1}\\right) - {\\left(2 \\, {\\left(4 \\, {\\left(A_{z_{1}} B_{r_{1}} - A_{z_{1}}\\right)} k_{1}^{3} \\cos\\left(h k_{1}\\right)^{5} - 4 \\, {\\left(A_{z_{1}} B_{r_{1}} - A_{z_{1}}\\right)} k_{1}^{3} \\cos\\left(h k_{1}\\right)^{3} + {\\left(A_{z_{1}} B_{r_{1}} - A_{z_{1}}\\right)} k_{1}^{3} \\cos\\left(h k_{1}\\right)\\right)} \\kappa J_{m - 1}(\\kappa \\rho) \\sin\\left(h k_{1}\\right) + 4 \\, {\\left({\\left(B_{\\phi_{1}} B_{r_{1}} \\cos\\left(h k_{1}\\right)^{5} - B_{\\phi_{1}} B_{r_{1}} \\cos\\left(h k_{1}\\right)^{3}\\right)} \\kappa^{3} \\sin\\left(h k_{1}\\right) - {\\left(5 \\, {\\left(B_{\\phi_{1}} B_{r_{1}} - B_{\\phi_{1}}\\right)} k_{1}^{2} \\cos\\left(h k_{1}\\right)^{5} - 5 \\, {\\left(B_{\\phi_{1}} B_{r_{1}} - B_{\\phi_{1}}\\right)} k_{1}^{2} \\cos\\left(h k_{1}\\right)^{3} + {\\left(B_{\\phi_{1}} B_{r_{1}} - B_{\\phi_{1}}\\right)} k_{1}^{2} \\cos\\left(h k_{1}\\right)\\right)} \\kappa \\sin\\left(h k_{1}\\right)\\right)} m J_{m - 1}(\\kappa \\rho) + {\\left({\\left(2 \\, {\\left(2 \\, B_{r_{1}} k_{1} \\cos\\left(h k_{1}\\right)^{6} - 3 \\, B_{r_{1}} k_{1} \\cos\\left(h k_{1}\\right)^{4} + B_{r_{1}} k_{1} \\cos\\left(h k_{1}\\right)^{2}\\right)} \\kappa^{3} - {\\left(12 \\, {\\left(B_{r_{1}} - 1\\right)} k_{1}^{3} \\cos\\left(h k_{1}\\right)^{6} - 18 \\, {\\left(B_{r_{1}} - 1\\right)} k_{1}^{3} \\cos\\left(h k_{1}\\right)^{4} + 8 \\, {\\left(B_{r_{1}} - 1\\right)} k_{1}^{3} \\cos\\left(h k_{1}\\right)^{2} - {\\left(B_{r_{1}} - 1\\right)} k_{1}^{3}\\right)} \\kappa\\right)} J_{m + 1}(\\kappa \\rho) - {\\left(2 \\, {\\left(2 \\, B_{r_{1}} k_{1} \\cos\\left(h k_{1}\\right)^{6} - 3 \\, B_{r_{1}} k_{1} \\cos\\left(h k_{1}\\right)^{4} + B_{r_{1}} k_{1} \\cos\\left(h k_{1}\\right)^{2}\\right)} \\kappa^{3} - {\\left(12 \\, {\\left(B_{r_{1}} - 1\\right)} k_{1}^{3} \\cos\\left(h k_{1}\\right)^{6} - 18 \\, {\\left(B_{r_{1}} - 1\\right)} k_{1}^{3} \\cos\\left(h k_{1}\\right)^{4} + 8 \\, {\\left(B_{r_{1}} - 1\\right)} k_{1}^{3} \\cos\\left(h k_{1}\\right)^{2} - {\\left(B_{r_{1}} - 1\\right)} k_{1}^{3}\\right)} \\kappa\\right)} J_{m - 1}(\\kappa \\rho)\\right)} r_{1} - 2 \\, {\\left({\\left(4 \\, {\\left(A_{z_{1}} B_{r_{1}} - A_{z_{1}}\\right)} k_{1}^{3} \\cos\\left(h k_{1}\\right)^{5} - 4 \\, {\\left(A_{z_{1}} B_{r_{1}} - A_{z_{1}}\\right)} k_{1}^{3} \\cos\\left(h k_{1}\\right)^{3} + {\\left(A_{z_{1}} B_{r_{1}} - A_{z_{1}}\\right)} k_{1}^{3} \\cos\\left(h k_{1}\\right)\\right)} \\kappa \\sin\\left(h k_{1}\\right) + 2 \\, {\\left({\\left(B_{\\phi_{1}} B_{r_{1}} \\cos\\left(h k_{1}\\right)^{5} - B_{\\phi_{1}} B_{r_{1}} \\cos\\left(h k_{1}\\right)^{3}\\right)} \\kappa^{3} \\sin\\left(h k_{1}\\right) - {\\left(5 \\, {\\left(B_{\\phi_{1}} B_{r_{1}} - B_{\\phi_{1}}\\right)} k_{1}^{2} \\cos\\left(h k_{1}\\right)^{5} - 5 \\, {\\left(B_{\\phi_{1}} B_{r_{1}} - B_{\\phi_{1}}\\right)} k_{1}^{2} \\cos\\left(h k_{1}\\right)^{3} + {\\left(B_{\\phi_{1}} B_{r_{1}} - B_{\\phi_{1}}\\right)} k_{1}^{2} \\cos\\left(h k_{1}\\right)\\right)} \\kappa \\sin\\left(h k_{1}\\right)\\right)} m\\right)} J_{m + 1}(\\kappa \\rho)\\right)} \\rho^{2} - 2 \\, {\\left(2 \\, {\\left(B_{\\phi_{1}} B_{r_{1}} \\cos\\left(h k_{1}\\right)^{5} - B_{\\phi_{1}} B_{r_{1}} \\cos\\left(h k_{1}\\right)^{3}\\right)} \\kappa m^{3} J_{m + 1}(\\kappa \\rho) \\sin\\left(h k_{1}\\right) - 2 \\, {\\left(B_{\\phi_{1}} B_{r_{1}} \\cos\\left(h k_{1}\\right)^{5} - B_{\\phi_{1}} B_{r_{1}} \\cos\\left(h k_{1}\\right)^{3}\\right)} \\kappa m^{3} J_{m - 1}(\\kappa \\rho) \\sin\\left(h k_{1}\\right) + 4 \\, {\\left({\\left(B_{\\phi_{1}} B_{r_{1}} \\cos\\left(h k_{1}\\right)^{5} - B_{\\phi_{1}} B_{r_{1}} \\cos\\left(h k_{1}\\right)^{3}\\right)} \\kappa^{2} \\sin\\left(h k_{1}\\right) - {\\left(5 \\, {\\left(B_{\\phi_{1}} B_{r_{1}} - B_{\\phi_{1}}\\right)} k_{1}^{2} \\cos\\left(h k_{1}\\right)^{5} - 5 \\, {\\left(B_{\\phi_{1}} B_{r_{1}} - B_{\\phi_{1}}\\right)} k_{1}^{2} \\cos\\left(h k_{1}\\right)^{3} + {\\left(B_{\\phi_{1}} B_{r_{1}} - B_{\\phi_{1}}\\right)} k_{1}^{2} \\cos\\left(h k_{1}\\right)\\right)} \\sin\\left(h k_{1}\\right)\\right)} m J_{m}(\\kappa \\rho) - {\\left({\\left(2 \\, B_{r_{1}} k_{1} \\cos\\left(h k_{1}\\right)^{6} - 3 \\, B_{r_{1}} k_{1} \\cos\\left(h k_{1}\\right)^{4} + B_{r_{1}} k_{1} \\cos\\left(h k_{1}\\right)^{2}\\right)} \\kappa m^{2} J_{m + 1}(\\kappa \\rho) - {\\left(2 \\, B_{r_{1}} k_{1} \\cos\\left(h k_{1}\\right)^{6} - 3 \\, B_{r_{1}} k_{1} \\cos\\left(h k_{1}\\right)^{4} + B_{r_{1}} k_{1} \\cos\\left(h k_{1}\\right)^{2}\\right)} \\kappa m^{2} J_{m - 1}(\\kappa \\rho)\\right)} r_{1}\\right)} \\rho\\right)} \\cos\\left(m \\varphi\\right) \\cos\\left(k_{1} z\\right)^{3} - 4 \\, {\\left(6 \\, {\\left(2 \\, B_{\\phi_{1}} B_{r_{1}} \\cos\\left(h k_{1}\\right)^{6} - 3 \\, B_{\\phi_{1}} B_{r_{1}} \\cos\\left(h k_{1}\\right)^{4} + B_{\\phi_{1}} B_{r_{1}} \\cos\\left(h k_{1}\\right)^{2}\\right)} m^{3} J_{m}(\\kappa \\rho) - {\\left({\\left(3 \\, {\\left(2 \\, B_{\\phi_{1}} B_{r_{1}} \\cos\\left(h k_{1}\\right)^{6} - 3 \\, B_{\\phi_{1}} B_{r_{1}} \\cos\\left(h k_{1}\\right)^{4} + B_{\\phi_{1}} B_{r_{1}} \\cos\\left(h k_{1}\\right)^{2}\\right)} \\kappa^{3} - {\\left(30 \\, {\\left(B_{\\phi_{1}} B_{r_{1}} - B_{\\phi_{1}}\\right)} k_{1}^{2} \\cos\\left(h k_{1}\\right)^{6} - 45 \\, {\\left(B_{\\phi_{1}} B_{r_{1}} - B_{\\phi_{1}}\\right)} k_{1}^{2} \\cos\\left(h k_{1}\\right)^{4} + 17 \\, {\\left(B_{\\phi_{1}} B_{r_{1}} - B_{\\phi_{1}}\\right)} k_{1}^{2} \\cos\\left(h k_{1}\\right)^{2} - {\\left(B_{\\phi_{1}} B_{r_{1}} - B_{\\phi_{1}}\\right)} k_{1}^{2}\\right)} \\kappa\\right)} m J_{m - 1}(\\kappa \\rho) - {\\left({\\left({\\left(4 \\, B_{r_{1}} k_{1} \\cos\\left(h k_{1}\\right)^{5} - 4 \\, B_{r_{1}} k_{1} \\cos\\left(h k_{1}\\right)^{3} + B_{r_{1}} k_{1} \\cos\\left(h k_{1}\\right)\\right)} \\kappa^{3} \\sin\\left(h k_{1}\\right) - 4 \\, {\\left(4 \\, {\\left(B_{r_{1}} - 1\\right)} k_{1}^{3} \\cos\\left(h k_{1}\\right)^{5} - 4 \\, {\\left(B_{r_{1}} - 1\\right)} k_{1}^{3} \\cos\\left(h k_{1}\\right)^{3} + {\\left(B_{r_{1}} - 1\\right)} k_{1}^{3} \\cos\\left(h k_{1}\\right)\\right)} \\kappa \\sin\\left(h k_{1}\\right)\\right)} J_{m + 1}(\\kappa \\rho) - {\\left({\\left(4 \\, B_{r_{1}} k_{1} \\cos\\left(h k_{1}\\right)^{5} - 4 \\, B_{r_{1}} k_{1} \\cos\\left(h k_{1}\\right)^{3} + B_{r_{1}} k_{1} \\cos\\left(h k_{1}\\right)\\right)} \\kappa^{3} \\sin\\left(h k_{1}\\right) - 4 \\, {\\left(4 \\, {\\left(B_{r_{1}} - 1\\right)} k_{1}^{3} \\cos\\left(h k_{1}\\right)^{5} - 4 \\, {\\left(B_{r_{1}} - 1\\right)} k_{1}^{3} \\cos\\left(h k_{1}\\right)^{3} + {\\left(B_{r_{1}} - 1\\right)} k_{1}^{3} \\cos\\left(h k_{1}\\right)\\right)} \\kappa \\sin\\left(h k_{1}\\right)\\right)} J_{m - 1}(\\kappa \\rho)\\right)} r_{1} + {\\left({\\left(2 \\, A_{z_{1}} B_{r_{1}} k_{1} \\cos\\left(h k_{1}\\right)^{6} - 3 \\, A_{z_{1}} B_{r_{1}} k_{1} \\cos\\left(h k_{1}\\right)^{4} + A_{z_{1}} B_{r_{1}} k_{1} \\cos\\left(h k_{1}\\right)^{2}\\right)} \\kappa^{3} - {\\left(14 \\, {\\left(A_{z_{1}} B_{r_{1}} - A_{z_{1}}\\right)} k_{1}^{3} \\cos\\left(h k_{1}\\right)^{6} - 21 \\, {\\left(A_{z_{1}} B_{r_{1}} - A_{z_{1}}\\right)} k_{1}^{3} \\cos\\left(h k_{1}\\right)^{4} + 9 \\, {\\left(A_{z_{1}} B_{r_{1}} - A_{z_{1}}\\right)} k_{1}^{3} \\cos\\left(h k_{1}\\right)^{2} - {\\left(A_{z_{1}} B_{r_{1}} - A_{z_{1}}\\right)} k_{1}^{3}\\right)} \\kappa - {\\left(3 \\, {\\left(2 \\, B_{\\phi_{1}} B_{r_{1}} \\cos\\left(h k_{1}\\right)^{6} - 3 \\, B_{\\phi_{1}} B_{r_{1}} \\cos\\left(h k_{1}\\right)^{4} + B_{\\phi_{1}} B_{r_{1}} \\cos\\left(h k_{1}\\right)^{2}\\right)} \\kappa^{3} - {\\left(30 \\, {\\left(B_{\\phi_{1}} B_{r_{1}} - B_{\\phi_{1}}\\right)} k_{1}^{2} \\cos\\left(h k_{1}\\right)^{6} - 45 \\, {\\left(B_{\\phi_{1}} B_{r_{1}} - B_{\\phi_{1}}\\right)} k_{1}^{2} \\cos\\left(h k_{1}\\right)^{4} + 17 \\, {\\left(B_{\\phi_{1}} B_{r_{1}} - B_{\\phi_{1}}\\right)} k_{1}^{2} \\cos\\left(h k_{1}\\right)^{2} - {\\left(B_{\\phi_{1}} B_{r_{1}} - B_{\\phi_{1}}\\right)} k_{1}^{2}\\right)} \\kappa\\right)} m\\right)} J_{m + 1}(\\kappa \\rho) - {\\left({\\left(2 \\, A_{z_{1}} B_{r_{1}} k_{1} \\cos\\left(h k_{1}\\right)^{6} - 3 \\, A_{z_{1}} B_{r_{1}} k_{1} \\cos\\left(h k_{1}\\right)^{4} + A_{z_{1}} B_{r_{1}} k_{1} \\cos\\left(h k_{1}\\right)^{2}\\right)} \\kappa^{3} - {\\left(14 \\, {\\left(A_{z_{1}} B_{r_{1}} - A_{z_{1}}\\right)} k_{1}^{3} \\cos\\left(h k_{1}\\right)^{6} - 21 \\, {\\left(A_{z_{1}} B_{r_{1}} - A_{z_{1}}\\right)} k_{1}^{3} \\cos\\left(h k_{1}\\right)^{4} + 9 \\, {\\left(A_{z_{1}} B_{r_{1}} - A_{z_{1}}\\right)} k_{1}^{3} \\cos\\left(h k_{1}\\right)^{2} - {\\left(A_{z_{1}} B_{r_{1}} - A_{z_{1}}\\right)} k_{1}^{3}\\right)} \\kappa\\right)} J_{m - 1}(\\kappa \\rho)\\right)} \\rho^{2} + {\\left(3 \\, {\\left(2 \\, B_{\\phi_{1}} B_{r_{1}} \\cos\\left(h k_{1}\\right)^{6} - 3 \\, B_{\\phi_{1}} B_{r_{1}} \\cos\\left(h k_{1}\\right)^{4} + B_{\\phi_{1}} B_{r_{1}} \\cos\\left(h k_{1}\\right)^{2}\\right)} \\kappa m^{3} J_{m - 1}(\\kappa \\rho) - {\\left(2 \\, A_{z_{1}} B_{r_{1}} k_{1} \\cos\\left(h k_{1}\\right)^{6} - 3 \\, A_{z_{1}} B_{r_{1}} k_{1} \\cos\\left(h k_{1}\\right)^{4} + A_{z_{1}} B_{r_{1}} k_{1} \\cos\\left(h k_{1}\\right)^{2}\\right)} \\kappa m^{2} J_{m - 1}(\\kappa \\rho) + 2 \\, {\\left(30 \\, {\\left(B_{\\phi_{1}} B_{r_{1}} - B_{\\phi_{1}}\\right)} k_{1}^{2} \\cos\\left(h k_{1}\\right)^{6} - 45 \\, {\\left(B_{\\phi_{1}} B_{r_{1}} - B_{\\phi_{1}}\\right)} k_{1}^{2} \\cos\\left(h k_{1}\\right)^{4} + 17 \\, {\\left(B_{\\phi_{1}} B_{r_{1}} - B_{\\phi_{1}}\\right)} k_{1}^{2} \\cos\\left(h k_{1}\\right)^{2} - {\\left(B_{\\phi_{1}} B_{r_{1}} - B_{\\phi_{1}}\\right)} k_{1}^{2} - 3 \\, {\\left(2 \\, B_{\\phi_{1}} B_{r_{1}} \\cos\\left(h k_{1}\\right)^{6} - 3 \\, B_{\\phi_{1}} B_{r_{1}} \\cos\\left(h k_{1}\\right)^{4} + B_{\\phi_{1}} B_{r_{1}} \\cos\\left(h k_{1}\\right)^{2}\\right)} \\kappa^{2}\\right)} m J_{m}(\\kappa \\rho) - {\\left({\\left(4 \\, B_{r_{1}} k_{1} \\cos\\left(h k_{1}\\right)^{5} - 4 \\, B_{r_{1}} k_{1} \\cos\\left(h k_{1}\\right)^{3} + B_{r_{1}} k_{1} \\cos\\left(h k_{1}\\right)\\right)} \\kappa m^{2} J_{m + 1}(\\kappa \\rho) \\sin\\left(h k_{1}\\right) - {\\left(4 \\, B_{r_{1}} k_{1} \\cos\\left(h k_{1}\\right)^{5} - 4 \\, B_{r_{1}} k_{1} \\cos\\left(h k_{1}\\right)^{3} + B_{r_{1}} k_{1} \\cos\\left(h k_{1}\\right)\\right)} \\kappa m^{2} J_{m - 1}(\\kappa \\rho) \\sin\\left(h k_{1}\\right)\\right)} r_{1} - {\\left(3 \\, {\\left(2 \\, B_{\\phi_{1}} B_{r_{1}} \\cos\\left(h k_{1}\\right)^{6} - 3 \\, B_{\\phi_{1}} B_{r_{1}} \\cos\\left(h k_{1}\\right)^{4} + B_{\\phi_{1}} B_{r_{1}} \\cos\\left(h k_{1}\\right)^{2}\\right)} \\kappa m^{3} - {\\left(2 \\, A_{z_{1}} B_{r_{1}} k_{1} \\cos\\left(h k_{1}\\right)^{6} - 3 \\, A_{z_{1}} B_{r_{1}} k_{1} \\cos\\left(h k_{1}\\right)^{4} + A_{z_{1}} B_{r_{1}} k_{1} \\cos\\left(h k_{1}\\right)^{2}\\right)} \\kappa m^{2}\\right)} J_{m + 1}(\\kappa \\rho)\\right)} \\rho\\right)} \\cos\\left(m \\varphi\\right) \\cos\\left(k_{1} z\\right)^{2} \\sin\\left(k_{1} z\\right) - {\\left(12 \\, {\\left(4 \\, B_{\\phi_{1}} B_{r_{1}} \\cos\\left(h k_{1}\\right)^{5} - 4 \\, B_{\\phi_{1}} B_{r_{1}} \\cos\\left(h k_{1}\\right)^{3} + B_{\\phi_{1}} B_{r_{1}} \\cos\\left(h k_{1}\\right)\\right)} m^{3} J_{m}(\\kappa \\rho) \\sin\\left(h k_{1}\\right) - {\\left(2 \\, {\\left(3 \\, {\\left(4 \\, B_{\\phi_{1}} B_{r_{1}} \\cos\\left(h k_{1}\\right)^{5} - 4 \\, B_{\\phi_{1}} B_{r_{1}} \\cos\\left(h k_{1}\\right)^{3} + B_{\\phi_{1}} B_{r_{1}} \\cos\\left(h k_{1}\\right)\\right)} \\kappa^{3} \\sin\\left(h k_{1}\\right) - {\\left(60 \\, {\\left(B_{\\phi_{1}} B_{r_{1}} - B_{\\phi_{1}}\\right)} k_{1}^{2} \\cos\\left(h k_{1}\\right)^{5} - 60 \\, {\\left(B_{\\phi_{1}} B_{r_{1}} - B_{\\phi_{1}}\\right)} k_{1}^{2} \\cos\\left(h k_{1}\\right)^{3} + 11 \\, {\\left(B_{\\phi_{1}} B_{r_{1}} - B_{\\phi_{1}}\\right)} k_{1}^{2} \\cos\\left(h k_{1}\\right)\\right)} \\kappa \\sin\\left(h k_{1}\\right)\\right)} m J_{m - 1}(\\kappa \\rho) + {\\left({\\left({\\left(8 \\, B_{r_{1}} k_{1} \\cos\\left(h k_{1}\\right)^{6} - 12 \\, B_{r_{1}} k_{1} \\cos\\left(h k_{1}\\right)^{4} + 6 \\, B_{r_{1}} k_{1} \\cos\\left(h k_{1}\\right)^{2} - B_{r_{1}} k_{1}\\right)} \\kappa^{3} - {\\left(56 \\, {\\left(B_{r_{1}} - 1\\right)} k_{1}^{3} \\cos\\left(h k_{1}\\right)^{6} - 84 \\, {\\left(B_{r_{1}} - 1\\right)} k_{1}^{3} \\cos\\left(h k_{1}\\right)^{4} + 34 \\, {\\left(B_{r_{1}} - 1\\right)} k_{1}^{3} \\cos\\left(h k_{1}\\right)^{2} - 3 \\, {\\left(B_{r_{1}} - 1\\right)} k_{1}^{3}\\right)} \\kappa\\right)} J_{m + 1}(\\kappa \\rho) - {\\left({\\left(8 \\, B_{r_{1}} k_{1} \\cos\\left(h k_{1}\\right)^{6} - 12 \\, B_{r_{1}} k_{1} \\cos\\left(h k_{1}\\right)^{4} + 6 \\, B_{r_{1}} k_{1} \\cos\\left(h k_{1}\\right)^{2} - B_{r_{1}} k_{1}\\right)} \\kappa^{3} - {\\left(56 \\, {\\left(B_{r_{1}} - 1\\right)} k_{1}^{3} \\cos\\left(h k_{1}\\right)^{6} - 84 \\, {\\left(B_{r_{1}} - 1\\right)} k_{1}^{3} \\cos\\left(h k_{1}\\right)^{4} + 34 \\, {\\left(B_{r_{1}} - 1\\right)} k_{1}^{3} \\cos\\left(h k_{1}\\right)^{2} - 3 \\, {\\left(B_{r_{1}} - 1\\right)} k_{1}^{3}\\right)} \\kappa\\right)} J_{m - 1}(\\kappa \\rho)\\right)} r_{1} + 2 \\, {\\left(2 \\, {\\left(4 \\, A_{z_{1}} B_{r_{1}} k_{1} \\cos\\left(h k_{1}\\right)^{5} - 4 \\, A_{z_{1}} B_{r_{1}} k_{1} \\cos\\left(h k_{1}\\right)^{3} + A_{z_{1}} B_{r_{1}} k_{1} \\cos\\left(h k_{1}\\right)\\right)} \\kappa^{3} \\sin\\left(h k_{1}\\right) - 8 \\, {\\left(4 \\, {\\left(A_{z_{1}} B_{r_{1}} - A_{z_{1}}\\right)} k_{1}^{3} \\cos\\left(h k_{1}\\right)^{5} - 4 \\, {\\left(A_{z_{1}} B_{r_{1}} - A_{z_{1}}\\right)} k_{1}^{3} \\cos\\left(h k_{1}\\right)^{3} + {\\left(A_{z_{1}} B_{r_{1}} - A_{z_{1}}\\right)} k_{1}^{3} \\cos\\left(h k_{1}\\right)\\right)} \\kappa \\sin\\left(h k_{1}\\right) - {\\left(3 \\, {\\left(4 \\, B_{\\phi_{1}} B_{r_{1}} \\cos\\left(h k_{1}\\right)^{5} - 4 \\, B_{\\phi_{1}} B_{r_{1}} \\cos\\left(h k_{1}\\right)^{3} + B_{\\phi_{1}} B_{r_{1}} \\cos\\left(h k_{1}\\right)\\right)} \\kappa^{3} \\sin\\left(h k_{1}\\right) - {\\left(60 \\, {\\left(B_{\\phi_{1}} B_{r_{1}} - B_{\\phi_{1}}\\right)} k_{1}^{2} \\cos\\left(h k_{1}\\right)^{5} - 60 \\, {\\left(B_{\\phi_{1}} B_{r_{1}} - B_{\\phi_{1}}\\right)} k_{1}^{2} \\cos\\left(h k_{1}\\right)^{3} + 11 \\, {\\left(B_{\\phi_{1}} B_{r_{1}} - B_{\\phi_{1}}\\right)} k_{1}^{2} \\cos\\left(h k_{1}\\right)\\right)} \\kappa \\sin\\left(h k_{1}\\right)\\right)} m\\right)} J_{m + 1}(\\kappa \\rho) - 4 \\, {\\left({\\left(4 \\, A_{z_{1}} B_{r_{1}} k_{1} \\cos\\left(h k_{1}\\right)^{5} - 4 \\, A_{z_{1}} B_{r_{1}} k_{1} \\cos\\left(h k_{1}\\right)^{3} + A_{z_{1}} B_{r_{1}} k_{1} \\cos\\left(h k_{1}\\right)\\right)} \\kappa^{3} \\sin\\left(h k_{1}\\right) - 4 \\, {\\left(4 \\, {\\left(A_{z_{1}} B_{r_{1}} - A_{z_{1}}\\right)} k_{1}^{3} \\cos\\left(h k_{1}\\right)^{5} - 4 \\, {\\left(A_{z_{1}} B_{r_{1}} - A_{z_{1}}\\right)} k_{1}^{3} \\cos\\left(h k_{1}\\right)^{3} + {\\left(A_{z_{1}} B_{r_{1}} - A_{z_{1}}\\right)} k_{1}^{3} \\cos\\left(h k_{1}\\right)\\right)} \\kappa \\sin\\left(h k_{1}\\right)\\right)} J_{m - 1}(\\kappa \\rho)\\right)} \\rho^{2} + {\\left(6 \\, {\\left(4 \\, B_{\\phi_{1}} B_{r_{1}} \\cos\\left(h k_{1}\\right)^{5} - 4 \\, B_{\\phi_{1}} B_{r_{1}} \\cos\\left(h k_{1}\\right)^{3} + B_{\\phi_{1}} B_{r_{1}} \\cos\\left(h k_{1}\\right)\\right)} \\kappa m^{3} J_{m - 1}(\\kappa \\rho) \\sin\\left(h k_{1}\\right) - 4 \\, {\\left(4 \\, A_{z_{1}} B_{r_{1}} k_{1} \\cos\\left(h k_{1}\\right)^{5} - 4 \\, A_{z_{1}} B_{r_{1}} k_{1} \\cos\\left(h k_{1}\\right)^{3} + A_{z_{1}} B_{r_{1}} k_{1} \\cos\\left(h k_{1}\\right)\\right)} \\kappa m^{2} J_{m - 1}(\\kappa \\rho) \\sin\\left(h k_{1}\\right) - 4 \\, {\\left(3 \\, {\\left(4 \\, B_{\\phi_{1}} B_{r_{1}} \\cos\\left(h k_{1}\\right)^{5} - 4 \\, B_{\\phi_{1}} B_{r_{1}} \\cos\\left(h k_{1}\\right)^{3} + B_{\\phi_{1}} B_{r_{1}} \\cos\\left(h k_{1}\\right)\\right)} \\kappa^{2} \\sin\\left(h k_{1}\\right) - {\\left(60 \\, {\\left(B_{\\phi_{1}} B_{r_{1}} - B_{\\phi_{1}}\\right)} k_{1}^{2} \\cos\\left(h k_{1}\\right)^{5} - 60 \\, {\\left(B_{\\phi_{1}} B_{r_{1}} - B_{\\phi_{1}}\\right)} k_{1}^{2} \\cos\\left(h k_{1}\\right)^{3} + 11 \\, {\\left(B_{\\phi_{1}} B_{r_{1}} - B_{\\phi_{1}}\\right)} k_{1}^{2} \\cos\\left(h k_{1}\\right)\\right)} \\sin\\left(h k_{1}\\right)\\right)} m J_{m}(\\kappa \\rho) + {\\left({\\left(8 \\, B_{r_{1}} k_{1} \\cos\\left(h k_{1}\\right)^{6} - 12 \\, B_{r_{1}} k_{1} \\cos\\left(h k_{1}\\right)^{4} + 6 \\, B_{r_{1}} k_{1} \\cos\\left(h k_{1}\\right)^{2} - B_{r_{1}} k_{1}\\right)} \\kappa m^{2} J_{m + 1}(\\kappa \\rho) - {\\left(8 \\, B_{r_{1}} k_{1} \\cos\\left(h k_{1}\\right)^{6} - 12 \\, B_{r_{1}} k_{1} \\cos\\left(h k_{1}\\right)^{4} + 6 \\, B_{r_{1}} k_{1} \\cos\\left(h k_{1}\\right)^{2} - B_{r_{1}} k_{1}\\right)} \\kappa m^{2} J_{m - 1}(\\kappa \\rho)\\right)} r_{1} - 2 \\, {\\left(3 \\, {\\left(4 \\, B_{\\phi_{1}} B_{r_{1}} \\cos\\left(h k_{1}\\right)^{5} - 4 \\, B_{\\phi_{1}} B_{r_{1}} \\cos\\left(h k_{1}\\right)^{3} + B_{\\phi_{1}} B_{r_{1}} \\cos\\left(h k_{1}\\right)\\right)} \\kappa m^{3} \\sin\\left(h k_{1}\\right) - 2 \\, {\\left(4 \\, A_{z_{1}} B_{r_{1}} k_{1} \\cos\\left(h k_{1}\\right)^{5} - 4 \\, A_{z_{1}} B_{r_{1}} k_{1} \\cos\\left(h k_{1}\\right)^{3} + A_{z_{1}} B_{r_{1}} k_{1} \\cos\\left(h k_{1}\\right)\\right)} \\kappa m^{2} \\sin\\left(h k_{1}\\right)\\right)} J_{m + 1}(\\kappa \\rho)\\right)} \\rho\\right)} \\cos\\left(m \\varphi\\right) \\cos\\left(k_{1} z\\right) \\sin\\left(k_{1} z\\right)^{2} + {\\left(2 \\, {\\left(8 \\, B_{\\phi_{1}} B_{r_{1}} \\cos\\left(h k_{1}\\right)^{6} - 12 \\, B_{\\phi_{1}} B_{r_{1}} \\cos\\left(h k_{1}\\right)^{4} + 6 \\, B_{\\phi_{1}} B_{r_{1}} \\cos\\left(h k_{1}\\right)^{2} - B_{\\phi_{1}} B_{r_{1}}\\right)} m^{3} J_{m}(\\kappa \\rho) - {\\left({\\left({\\left(8 \\, B_{\\phi_{1}} B_{r_{1}} \\cos\\left(h k_{1}\\right)^{6} - 12 \\, B_{\\phi_{1}} B_{r_{1}} \\cos\\left(h k_{1}\\right)^{4} + 6 \\, B_{\\phi_{1}} B_{r_{1}} \\cos\\left(h k_{1}\\right)^{2} - B_{\\phi_{1}} B_{r_{1}}\\right)} \\kappa^{3} - {\\left(40 \\, {\\left(B_{\\phi_{1}} B_{r_{1}} - B_{\\phi_{1}}\\right)} k_{1}^{2} \\cos\\left(h k_{1}\\right)^{6} - 60 \\, {\\left(B_{\\phi_{1}} B_{r_{1}} - B_{\\phi_{1}}\\right)} k_{1}^{2} \\cos\\left(h k_{1}\\right)^{4} + 22 \\, {\\left(B_{\\phi_{1}} B_{r_{1}} - B_{\\phi_{1}}\\right)} k_{1}^{2} \\cos\\left(h k_{1}\\right)^{2} - {\\left(B_{\\phi_{1}} B_{r_{1}} - B_{\\phi_{1}}\\right)} k_{1}^{2}\\right)} \\kappa\\right)} m J_{m - 1}(\\kappa \\rho) + 4 \\, {\\left({\\left(4 \\, {\\left(B_{r_{1}} - 1\\right)} k_{1}^{3} \\cos\\left(h k_{1}\\right)^{5} - 4 \\, {\\left(B_{r_{1}} - 1\\right)} k_{1}^{3} \\cos\\left(h k_{1}\\right)^{3} + {\\left(B_{r_{1}} - 1\\right)} k_{1}^{3} \\cos\\left(h k_{1}\\right)\\right)} \\kappa J_{m + 1}(\\kappa \\rho) \\sin\\left(h k_{1}\\right) - {\\left(4 \\, {\\left(B_{r_{1}} - 1\\right)} k_{1}^{3} \\cos\\left(h k_{1}\\right)^{5} - 4 \\, {\\left(B_{r_{1}} - 1\\right)} k_{1}^{3} \\cos\\left(h k_{1}\\right)^{3} + {\\left(B_{r_{1}} - 1\\right)} k_{1}^{3} \\cos\\left(h k_{1}\\right)\\right)} \\kappa J_{m - 1}(\\kappa \\rho) \\sin\\left(h k_{1}\\right)\\right)} r_{1} + {\\left({\\left(8 \\, A_{z_{1}} B_{r_{1}} k_{1} \\cos\\left(h k_{1}\\right)^{6} - 12 \\, A_{z_{1}} B_{r_{1}} k_{1} \\cos\\left(h k_{1}\\right)^{4} + 6 \\, A_{z_{1}} B_{r_{1}} k_{1} \\cos\\left(h k_{1}\\right)^{2} - A_{z_{1}} B_{r_{1}} k_{1}\\right)} \\kappa^{3} - {\\left(24 \\, {\\left(A_{z_{1}} B_{r_{1}} - A_{z_{1}}\\right)} k_{1}^{3} \\cos\\left(h k_{1}\\right)^{6} - 36 \\, {\\left(A_{z_{1}} B_{r_{1}} - A_{z_{1}}\\right)} k_{1}^{3} \\cos\\left(h k_{1}\\right)^{4} + 14 \\, {\\left(A_{z_{1}} B_{r_{1}} - A_{z_{1}}\\right)} k_{1}^{3} \\cos\\left(h k_{1}\\right)^{2} - {\\left(A_{z_{1}} B_{r_{1}} - A_{z_{1}}\\right)} k_{1}^{3}\\right)} \\kappa - {\\left({\\left(8 \\, B_{\\phi_{1}} B_{r_{1}} \\cos\\left(h k_{1}\\right)^{6} - 12 \\, B_{\\phi_{1}} B_{r_{1}} \\cos\\left(h k_{1}\\right)^{4} + 6 \\, B_{\\phi_{1}} B_{r_{1}} \\cos\\left(h k_{1}\\right)^{2} - B_{\\phi_{1}} B_{r_{1}}\\right)} \\kappa^{3} - {\\left(40 \\, {\\left(B_{\\phi_{1}} B_{r_{1}} - B_{\\phi_{1}}\\right)} k_{1}^{2} \\cos\\left(h k_{1}\\right)^{6} - 60 \\, {\\left(B_{\\phi_{1}} B_{r_{1}} - B_{\\phi_{1}}\\right)} k_{1}^{2} \\cos\\left(h k_{1}\\right)^{4} + 22 \\, {\\left(B_{\\phi_{1}} B_{r_{1}} - B_{\\phi_{1}}\\right)} k_{1}^{2} \\cos\\left(h k_{1}\\right)^{2} - {\\left(B_{\\phi_{1}} B_{r_{1}} - B_{\\phi_{1}}\\right)} k_{1}^{2}\\right)} \\kappa\\right)} m\\right)} J_{m + 1}(\\kappa \\rho) - {\\left({\\left(8 \\, A_{z_{1}} B_{r_{1}} k_{1} \\cos\\left(h k_{1}\\right)^{6} - 12 \\, A_{z_{1}} B_{r_{1}} k_{1} \\cos\\left(h k_{1}\\right)^{4} + 6 \\, A_{z_{1}} B_{r_{1}} k_{1} \\cos\\left(h k_{1}\\right)^{2} - A_{z_{1}} B_{r_{1}} k_{1}\\right)} \\kappa^{3} - {\\left(24 \\, {\\left(A_{z_{1}} B_{r_{1}} - A_{z_{1}}\\right)} k_{1}^{3} \\cos\\left(h k_{1}\\right)^{6} - 36 \\, {\\left(A_{z_{1}} B_{r_{1}} - A_{z_{1}}\\right)} k_{1}^{3} \\cos\\left(h k_{1}\\right)^{4} + 14 \\, {\\left(A_{z_{1}} B_{r_{1}} - A_{z_{1}}\\right)} k_{1}^{3} \\cos\\left(h k_{1}\\right)^{2} - {\\left(A_{z_{1}} B_{r_{1}} - A_{z_{1}}\\right)} k_{1}^{3}\\right)} \\kappa\\right)} J_{m - 1}(\\kappa \\rho)\\right)} \\rho^{2} + {\\left({\\left(8 \\, B_{\\phi_{1}} B_{r_{1}} \\cos\\left(h k_{1}\\right)^{6} - 12 \\, B_{\\phi_{1}} B_{r_{1}} \\cos\\left(h k_{1}\\right)^{4} + 6 \\, B_{\\phi_{1}} B_{r_{1}} \\cos\\left(h k_{1}\\right)^{2} - B_{\\phi_{1}} B_{r_{1}}\\right)} \\kappa m^{3} J_{m - 1}(\\kappa \\rho) - {\\left(8 \\, A_{z_{1}} B_{r_{1}} k_{1} \\cos\\left(h k_{1}\\right)^{6} - 12 \\, A_{z_{1}} B_{r_{1}} k_{1} \\cos\\left(h k_{1}\\right)^{4} + 6 \\, A_{z_{1}} B_{r_{1}} k_{1} \\cos\\left(h k_{1}\\right)^{2} - A_{z_{1}} B_{r_{1}} k_{1}\\right)} \\kappa m^{2} J_{m - 1}(\\kappa \\rho) + 2 \\, {\\left(40 \\, {\\left(B_{\\phi_{1}} B_{r_{1}} - B_{\\phi_{1}}\\right)} k_{1}^{2} \\cos\\left(h k_{1}\\right)^{6} - 60 \\, {\\left(B_{\\phi_{1}} B_{r_{1}} - B_{\\phi_{1}}\\right)} k_{1}^{2} \\cos\\left(h k_{1}\\right)^{4} + 22 \\, {\\left(B_{\\phi_{1}} B_{r_{1}} - B_{\\phi_{1}}\\right)} k_{1}^{2} \\cos\\left(h k_{1}\\right)^{2} - {\\left(B_{\\phi_{1}} B_{r_{1}} - B_{\\phi_{1}}\\right)} k_{1}^{2} - {\\left(8 \\, B_{\\phi_{1}} B_{r_{1}} \\cos\\left(h k_{1}\\right)^{6} - 12 \\, B_{\\phi_{1}} B_{r_{1}} \\cos\\left(h k_{1}\\right)^{4} + 6 \\, B_{\\phi_{1}} B_{r_{1}} \\cos\\left(h k_{1}\\right)^{2} - B_{\\phi_{1}} B_{r_{1}}\\right)} \\kappa^{2}\\right)} m J_{m}(\\kappa \\rho) - {\\left({\\left(8 \\, B_{\\phi_{1}} B_{r_{1}} \\cos\\left(h k_{1}\\right)^{6} - 12 \\, B_{\\phi_{1}} B_{r_{1}} \\cos\\left(h k_{1}\\right)^{4} + 6 \\, B_{\\phi_{1}} B_{r_{1}} \\cos\\left(h k_{1}\\right)^{2} - B_{\\phi_{1}} B_{r_{1}}\\right)} \\kappa m^{3} - {\\left(8 \\, A_{z_{1}} B_{r_{1}} k_{1} \\cos\\left(h k_{1}\\right)^{6} - 12 \\, A_{z_{1}} B_{r_{1}} k_{1} \\cos\\left(h k_{1}\\right)^{4} + 6 \\, A_{z_{1}} B_{r_{1}} k_{1} \\cos\\left(h k_{1}\\right)^{2} - A_{z_{1}} B_{r_{1}} k_{1}\\right)} \\kappa m^{2}\\right)} J_{m + 1}(\\kappa \\rho)\\right)} \\rho\\right)} \\cos\\left(m \\varphi\\right) \\sin\\left(k_{1} z\\right)^{3}}{2 \\, {\\left(4 \\, {\\left({\\left(2 \\, B_{r_{1}} \\cos\\left(h k_{1}\\right)^{6} - 3 \\, B_{r_{1}} \\cos\\left(h k_{1}\\right)^{4} + B_{r_{1}} \\cos\\left(h k_{1}\\right)^{2}\\right)} \\kappa^{2} \\mu_{1} \\rho^{2} - {\\left(2 \\, B_{r_{1}} \\cos\\left(h k_{1}\\right)^{6} - 3 \\, B_{r_{1}} \\cos\\left(h k_{1}\\right)^{4} + B_{r_{1}} \\cos\\left(h k_{1}\\right)^{2}\\right)} m^{2} \\mu_{1} \\rho\\right)} \\cos\\left(k_{1} z\\right)^{2} + 4 \\, {\\left({\\left(4 \\, B_{r_{1}} \\cos\\left(h k_{1}\\right)^{5} - 4 \\, B_{r_{1}} \\cos\\left(h k_{1}\\right)^{3} + B_{r_{1}} \\cos\\left(h k_{1}\\right)\\right)} \\kappa^{2} \\mu_{1} \\rho^{2} \\sin\\left(h k_{1}\\right) - {\\left(4 \\, B_{r_{1}} \\cos\\left(h k_{1}\\right)^{5} - 4 \\, B_{r_{1}} \\cos\\left(h k_{1}\\right)^{3} + B_{r_{1}} \\cos\\left(h k_{1}\\right)\\right)} m^{2} \\mu_{1} \\rho \\sin\\left(h k_{1}\\right)\\right)} \\cos\\left(k_{1} z\\right) \\sin\\left(k_{1} z\\right) - {\\left({\\left(8 \\, B_{r_{1}} \\cos\\left(h k_{1}\\right)^{6} - 12 \\, B_{r_{1}} \\cos\\left(h k_{1}\\right)^{4} + 6 \\, B_{r_{1}} \\cos\\left(h k_{1}\\right)^{2} - B_{r_{1}}\\right)} \\kappa^{2} \\mu_{1} \\rho^{2} - {\\left(8 \\, B_{r_{1}} \\cos\\left(h k_{1}\\right)^{6} - 12 \\, B_{r_{1}} \\cos\\left(h k_{1}\\right)^{4} + 6 \\, B_{r_{1}} \\cos\\left(h k_{1}\\right)^{2} - B_{r_{1}}\\right)} m^{2} \\mu_{1} \\rho\\right)} \\sin\\left(k_{1} z\\right)^{2}\\right)}} = 0$$"
      ],
      "text/plain": [
       "<IPython.core.display.Math object>"
      ]
     },
     "metadata": {},
     "output_type": "display_data"
    },
    {
     "name": "stdout",
     "output_type": "stream",
     "text": [
      "var =\n"
     ]
    },
    {
     "data": {
      "text/latex": [
       "$$A_{z_{1}}$$"
      ],
      "text/plain": [
       "<IPython.core.display.Math object>"
      ]
     },
     "metadata": {},
     "output_type": "display_data"
    },
    {
     "name": "stdout",
     "output_type": "stream",
     "text": [
      "\n",
      "sol=\n"
     ]
    },
    {
     "data": {
      "text/latex": [
       "$$\\left[A_{z_{1}} = -\\frac{2 \\, {\\left(8 \\, {\\left(B_{\\phi_{1}} B_{r_{1}} \\cos\\left(h k_{1}\\right)^{5} - B_{\\phi_{1}} B_{r_{1}} \\cos\\left(h k_{1}\\right)^{3}\\right)} m^{3} J_{m}(\\kappa \\rho) \\sin\\left(h k_{1}\\right) + {\\left(4 \\, {\\left({\\left(B_{\\phi_{1}} B_{r_{1}} \\cos\\left(h k_{1}\\right)^{5} - B_{\\phi_{1}} B_{r_{1}} \\cos\\left(h k_{1}\\right)^{3}\\right)} \\kappa^{3} \\sin\\left(h k_{1}\\right) - {\\left(5 \\, {\\left(B_{\\phi_{1}} B_{r_{1}} - B_{\\phi_{1}}\\right)} k_{1}^{2} \\cos\\left(h k_{1}\\right)^{5} - 5 \\, {\\left(B_{\\phi_{1}} B_{r_{1}} - B_{\\phi_{1}}\\right)} k_{1}^{2} \\cos\\left(h k_{1}\\right)^{3} + {\\left(B_{\\phi_{1}} B_{r_{1}} - B_{\\phi_{1}}\\right)} k_{1}^{2} \\cos\\left(h k_{1}\\right)\\right)} \\kappa \\sin\\left(h k_{1}\\right)\\right)} m J_{m + 1}(\\kappa \\rho) - 4 \\, {\\left({\\left(B_{\\phi_{1}} B_{r_{1}} \\cos\\left(h k_{1}\\right)^{5} - B_{\\phi_{1}} B_{r_{1}} \\cos\\left(h k_{1}\\right)^{3}\\right)} \\kappa^{3} \\sin\\left(h k_{1}\\right) - {\\left(5 \\, {\\left(B_{\\phi_{1}} B_{r_{1}} - B_{\\phi_{1}}\\right)} k_{1}^{2} \\cos\\left(h k_{1}\\right)^{5} - 5 \\, {\\left(B_{\\phi_{1}} B_{r_{1}} - B_{\\phi_{1}}\\right)} k_{1}^{2} \\cos\\left(h k_{1}\\right)^{3} + {\\left(B_{\\phi_{1}} B_{r_{1}} - B_{\\phi_{1}}\\right)} k_{1}^{2} \\cos\\left(h k_{1}\\right)\\right)} \\kappa \\sin\\left(h k_{1}\\right)\\right)} m J_{m - 1}(\\kappa \\rho) - {\\left({\\left(2 \\, {\\left(2 \\, B_{r_{1}} k_{1} \\cos\\left(h k_{1}\\right)^{6} - 3 \\, B_{r_{1}} k_{1} \\cos\\left(h k_{1}\\right)^{4} + B_{r_{1}} k_{1} \\cos\\left(h k_{1}\\right)^{2}\\right)} \\kappa^{3} - {\\left(12 \\, {\\left(B_{r_{1}} - 1\\right)} k_{1}^{3} \\cos\\left(h k_{1}\\right)^{6} - 18 \\, {\\left(B_{r_{1}} - 1\\right)} k_{1}^{3} \\cos\\left(h k_{1}\\right)^{4} + 8 \\, {\\left(B_{r_{1}} - 1\\right)} k_{1}^{3} \\cos\\left(h k_{1}\\right)^{2} - {\\left(B_{r_{1}} - 1\\right)} k_{1}^{3}\\right)} \\kappa\\right)} J_{m + 1}(\\kappa \\rho) - {\\left(2 \\, {\\left(2 \\, B_{r_{1}} k_{1} \\cos\\left(h k_{1}\\right)^{6} - 3 \\, B_{r_{1}} k_{1} \\cos\\left(h k_{1}\\right)^{4} + B_{r_{1}} k_{1} \\cos\\left(h k_{1}\\right)^{2}\\right)} \\kappa^{3} - {\\left(12 \\, {\\left(B_{r_{1}} - 1\\right)} k_{1}^{3} \\cos\\left(h k_{1}\\right)^{6} - 18 \\, {\\left(B_{r_{1}} - 1\\right)} k_{1}^{3} \\cos\\left(h k_{1}\\right)^{4} + 8 \\, {\\left(B_{r_{1}} - 1\\right)} k_{1}^{3} \\cos\\left(h k_{1}\\right)^{2} - {\\left(B_{r_{1}} - 1\\right)} k_{1}^{3}\\right)} \\kappa\\right)} J_{m - 1}(\\kappa \\rho)\\right)} r_{1}\\right)} \\rho^{2} - 2 \\, {\\left(2 \\, {\\left(B_{\\phi_{1}} B_{r_{1}} \\cos\\left(h k_{1}\\right)^{5} - B_{\\phi_{1}} B_{r_{1}} \\cos\\left(h k_{1}\\right)^{3}\\right)} \\kappa m^{3} J_{m + 1}(\\kappa \\rho) \\sin\\left(h k_{1}\\right) - 2 \\, {\\left(B_{\\phi_{1}} B_{r_{1}} \\cos\\left(h k_{1}\\right)^{5} - B_{\\phi_{1}} B_{r_{1}} \\cos\\left(h k_{1}\\right)^{3}\\right)} \\kappa m^{3} J_{m - 1}(\\kappa \\rho) \\sin\\left(h k_{1}\\right) + 4 \\, {\\left({\\left(B_{\\phi_{1}} B_{r_{1}} \\cos\\left(h k_{1}\\right)^{5} - B_{\\phi_{1}} B_{r_{1}} \\cos\\left(h k_{1}\\right)^{3}\\right)} \\kappa^{2} \\sin\\left(h k_{1}\\right) - {\\left(5 \\, {\\left(B_{\\phi_{1}} B_{r_{1}} - B_{\\phi_{1}}\\right)} k_{1}^{2} \\cos\\left(h k_{1}\\right)^{5} - 5 \\, {\\left(B_{\\phi_{1}} B_{r_{1}} - B_{\\phi_{1}}\\right)} k_{1}^{2} \\cos\\left(h k_{1}\\right)^{3} + {\\left(B_{\\phi_{1}} B_{r_{1}} - B_{\\phi_{1}}\\right)} k_{1}^{2} \\cos\\left(h k_{1}\\right)\\right)} \\sin\\left(h k_{1}\\right)\\right)} m J_{m}(\\kappa \\rho) - {\\left({\\left(2 \\, B_{r_{1}} k_{1} \\cos\\left(h k_{1}\\right)^{6} - 3 \\, B_{r_{1}} k_{1} \\cos\\left(h k_{1}\\right)^{4} + B_{r_{1}} k_{1} \\cos\\left(h k_{1}\\right)^{2}\\right)} \\kappa m^{2} J_{m + 1}(\\kappa \\rho) - {\\left(2 \\, B_{r_{1}} k_{1} \\cos\\left(h k_{1}\\right)^{6} - 3 \\, B_{r_{1}} k_{1} \\cos\\left(h k_{1}\\right)^{4} + B_{r_{1}} k_{1} \\cos\\left(h k_{1}\\right)^{2}\\right)} \\kappa m^{2} J_{m - 1}(\\kappa \\rho)\\right)} r_{1}\\right)} \\rho\\right)} \\cos\\left(k_{1} z\\right)^{3} - 4 \\, {\\left(6 \\, {\\left(2 \\, B_{\\phi_{1}} B_{r_{1}} \\cos\\left(h k_{1}\\right)^{6} - 3 \\, B_{\\phi_{1}} B_{r_{1}} \\cos\\left(h k_{1}\\right)^{4} + B_{\\phi_{1}} B_{r_{1}} \\cos\\left(h k_{1}\\right)^{2}\\right)} m^{3} J_{m}(\\kappa \\rho) + {\\left({\\left(3 \\, {\\left(2 \\, B_{\\phi_{1}} B_{r_{1}} \\cos\\left(h k_{1}\\right)^{6} - 3 \\, B_{\\phi_{1}} B_{r_{1}} \\cos\\left(h k_{1}\\right)^{4} + B_{\\phi_{1}} B_{r_{1}} \\cos\\left(h k_{1}\\right)^{2}\\right)} \\kappa^{3} - {\\left(30 \\, {\\left(B_{\\phi_{1}} B_{r_{1}} - B_{\\phi_{1}}\\right)} k_{1}^{2} \\cos\\left(h k_{1}\\right)^{6} - 45 \\, {\\left(B_{\\phi_{1}} B_{r_{1}} - B_{\\phi_{1}}\\right)} k_{1}^{2} \\cos\\left(h k_{1}\\right)^{4} + 17 \\, {\\left(B_{\\phi_{1}} B_{r_{1}} - B_{\\phi_{1}}\\right)} k_{1}^{2} \\cos\\left(h k_{1}\\right)^{2} - {\\left(B_{\\phi_{1}} B_{r_{1}} - B_{\\phi_{1}}\\right)} k_{1}^{2}\\right)} \\kappa\\right)} m J_{m + 1}(\\kappa \\rho) - {\\left(3 \\, {\\left(2 \\, B_{\\phi_{1}} B_{r_{1}} \\cos\\left(h k_{1}\\right)^{6} - 3 \\, B_{\\phi_{1}} B_{r_{1}} \\cos\\left(h k_{1}\\right)^{4} + B_{\\phi_{1}} B_{r_{1}} \\cos\\left(h k_{1}\\right)^{2}\\right)} \\kappa^{3} - {\\left(30 \\, {\\left(B_{\\phi_{1}} B_{r_{1}} - B_{\\phi_{1}}\\right)} k_{1}^{2} \\cos\\left(h k_{1}\\right)^{6} - 45 \\, {\\left(B_{\\phi_{1}} B_{r_{1}} - B_{\\phi_{1}}\\right)} k_{1}^{2} \\cos\\left(h k_{1}\\right)^{4} + 17 \\, {\\left(B_{\\phi_{1}} B_{r_{1}} - B_{\\phi_{1}}\\right)} k_{1}^{2} \\cos\\left(h k_{1}\\right)^{2} - {\\left(B_{\\phi_{1}} B_{r_{1}} - B_{\\phi_{1}}\\right)} k_{1}^{2}\\right)} \\kappa\\right)} m J_{m - 1}(\\kappa \\rho) + {\\left({\\left({\\left(4 \\, B_{r_{1}} k_{1} \\cos\\left(h k_{1}\\right)^{5} - 4 \\, B_{r_{1}} k_{1} \\cos\\left(h k_{1}\\right)^{3} + B_{r_{1}} k_{1} \\cos\\left(h k_{1}\\right)\\right)} \\kappa^{3} \\sin\\left(h k_{1}\\right) - 4 \\, {\\left(4 \\, {\\left(B_{r_{1}} - 1\\right)} k_{1}^{3} \\cos\\left(h k_{1}\\right)^{5} - 4 \\, {\\left(B_{r_{1}} - 1\\right)} k_{1}^{3} \\cos\\left(h k_{1}\\right)^{3} + {\\left(B_{r_{1}} - 1\\right)} k_{1}^{3} \\cos\\left(h k_{1}\\right)\\right)} \\kappa \\sin\\left(h k_{1}\\right)\\right)} J_{m + 1}(\\kappa \\rho) - {\\left({\\left(4 \\, B_{r_{1}} k_{1} \\cos\\left(h k_{1}\\right)^{5} - 4 \\, B_{r_{1}} k_{1} \\cos\\left(h k_{1}\\right)^{3} + B_{r_{1}} k_{1} \\cos\\left(h k_{1}\\right)\\right)} \\kappa^{3} \\sin\\left(h k_{1}\\right) - 4 \\, {\\left(4 \\, {\\left(B_{r_{1}} - 1\\right)} k_{1}^{3} \\cos\\left(h k_{1}\\right)^{5} - 4 \\, {\\left(B_{r_{1}} - 1\\right)} k_{1}^{3} \\cos\\left(h k_{1}\\right)^{3} + {\\left(B_{r_{1}} - 1\\right)} k_{1}^{3} \\cos\\left(h k_{1}\\right)\\right)} \\kappa \\sin\\left(h k_{1}\\right)\\right)} J_{m - 1}(\\kappa \\rho)\\right)} r_{1}\\right)} \\rho^{2} - {\\left(3 \\, {\\left(2 \\, B_{\\phi_{1}} B_{r_{1}} \\cos\\left(h k_{1}\\right)^{6} - 3 \\, B_{\\phi_{1}} B_{r_{1}} \\cos\\left(h k_{1}\\right)^{4} + B_{\\phi_{1}} B_{r_{1}} \\cos\\left(h k_{1}\\right)^{2}\\right)} \\kappa m^{3} J_{m + 1}(\\kappa \\rho) - 3 \\, {\\left(2 \\, B_{\\phi_{1}} B_{r_{1}} \\cos\\left(h k_{1}\\right)^{6} - 3 \\, B_{\\phi_{1}} B_{r_{1}} \\cos\\left(h k_{1}\\right)^{4} + B_{\\phi_{1}} B_{r_{1}} \\cos\\left(h k_{1}\\right)^{2}\\right)} \\kappa m^{3} J_{m - 1}(\\kappa \\rho) - 2 \\, {\\left(30 \\, {\\left(B_{\\phi_{1}} B_{r_{1}} - B_{\\phi_{1}}\\right)} k_{1}^{2} \\cos\\left(h k_{1}\\right)^{6} - 45 \\, {\\left(B_{\\phi_{1}} B_{r_{1}} - B_{\\phi_{1}}\\right)} k_{1}^{2} \\cos\\left(h k_{1}\\right)^{4} + 17 \\, {\\left(B_{\\phi_{1}} B_{r_{1}} - B_{\\phi_{1}}\\right)} k_{1}^{2} \\cos\\left(h k_{1}\\right)^{2} - {\\left(B_{\\phi_{1}} B_{r_{1}} - B_{\\phi_{1}}\\right)} k_{1}^{2} - 3 \\, {\\left(2 \\, B_{\\phi_{1}} B_{r_{1}} \\cos\\left(h k_{1}\\right)^{6} - 3 \\, B_{\\phi_{1}} B_{r_{1}} \\cos\\left(h k_{1}\\right)^{4} + B_{\\phi_{1}} B_{r_{1}} \\cos\\left(h k_{1}\\right)^{2}\\right)} \\kappa^{2}\\right)} m J_{m}(\\kappa \\rho) + {\\left({\\left(4 \\, B_{r_{1}} k_{1} \\cos\\left(h k_{1}\\right)^{5} - 4 \\, B_{r_{1}} k_{1} \\cos\\left(h k_{1}\\right)^{3} + B_{r_{1}} k_{1} \\cos\\left(h k_{1}\\right)\\right)} \\kappa m^{2} J_{m + 1}(\\kappa \\rho) \\sin\\left(h k_{1}\\right) - {\\left(4 \\, B_{r_{1}} k_{1} \\cos\\left(h k_{1}\\right)^{5} - 4 \\, B_{r_{1}} k_{1} \\cos\\left(h k_{1}\\right)^{3} + B_{r_{1}} k_{1} \\cos\\left(h k_{1}\\right)\\right)} \\kappa m^{2} J_{m - 1}(\\kappa \\rho) \\sin\\left(h k_{1}\\right)\\right)} r_{1}\\right)} \\rho\\right)} \\cos\\left(k_{1} z\\right)^{2} \\sin\\left(k_{1} z\\right) - {\\left(12 \\, {\\left(4 \\, B_{\\phi_{1}} B_{r_{1}} \\cos\\left(h k_{1}\\right)^{5} - 4 \\, B_{\\phi_{1}} B_{r_{1}} \\cos\\left(h k_{1}\\right)^{3} + B_{\\phi_{1}} B_{r_{1}} \\cos\\left(h k_{1}\\right)\\right)} m^{3} J_{m}(\\kappa \\rho) \\sin\\left(h k_{1}\\right) + {\\left(2 \\, {\\left(3 \\, {\\left(4 \\, B_{\\phi_{1}} B_{r_{1}} \\cos\\left(h k_{1}\\right)^{5} - 4 \\, B_{\\phi_{1}} B_{r_{1}} \\cos\\left(h k_{1}\\right)^{3} + B_{\\phi_{1}} B_{r_{1}} \\cos\\left(h k_{1}\\right)\\right)} \\kappa^{3} \\sin\\left(h k_{1}\\right) - {\\left(60 \\, {\\left(B_{\\phi_{1}} B_{r_{1}} - B_{\\phi_{1}}\\right)} k_{1}^{2} \\cos\\left(h k_{1}\\right)^{5} - 60 \\, {\\left(B_{\\phi_{1}} B_{r_{1}} - B_{\\phi_{1}}\\right)} k_{1}^{2} \\cos\\left(h k_{1}\\right)^{3} + 11 \\, {\\left(B_{\\phi_{1}} B_{r_{1}} - B_{\\phi_{1}}\\right)} k_{1}^{2} \\cos\\left(h k_{1}\\right)\\right)} \\kappa \\sin\\left(h k_{1}\\right)\\right)} m J_{m + 1}(\\kappa \\rho) - 2 \\, {\\left(3 \\, {\\left(4 \\, B_{\\phi_{1}} B_{r_{1}} \\cos\\left(h k_{1}\\right)^{5} - 4 \\, B_{\\phi_{1}} B_{r_{1}} \\cos\\left(h k_{1}\\right)^{3} + B_{\\phi_{1}} B_{r_{1}} \\cos\\left(h k_{1}\\right)\\right)} \\kappa^{3} \\sin\\left(h k_{1}\\right) - {\\left(60 \\, {\\left(B_{\\phi_{1}} B_{r_{1}} - B_{\\phi_{1}}\\right)} k_{1}^{2} \\cos\\left(h k_{1}\\right)^{5} - 60 \\, {\\left(B_{\\phi_{1}} B_{r_{1}} - B_{\\phi_{1}}\\right)} k_{1}^{2} \\cos\\left(h k_{1}\\right)^{3} + 11 \\, {\\left(B_{\\phi_{1}} B_{r_{1}} - B_{\\phi_{1}}\\right)} k_{1}^{2} \\cos\\left(h k_{1}\\right)\\right)} \\kappa \\sin\\left(h k_{1}\\right)\\right)} m J_{m - 1}(\\kappa \\rho) - {\\left({\\left({\\left(8 \\, B_{r_{1}} k_{1} \\cos\\left(h k_{1}\\right)^{6} - 12 \\, B_{r_{1}} k_{1} \\cos\\left(h k_{1}\\right)^{4} + 6 \\, B_{r_{1}} k_{1} \\cos\\left(h k_{1}\\right)^{2} - B_{r_{1}} k_{1}\\right)} \\kappa^{3} - {\\left(56 \\, {\\left(B_{r_{1}} - 1\\right)} k_{1}^{3} \\cos\\left(h k_{1}\\right)^{6} - 84 \\, {\\left(B_{r_{1}} - 1\\right)} k_{1}^{3} \\cos\\left(h k_{1}\\right)^{4} + 34 \\, {\\left(B_{r_{1}} - 1\\right)} k_{1}^{3} \\cos\\left(h k_{1}\\right)^{2} - 3 \\, {\\left(B_{r_{1}} - 1\\right)} k_{1}^{3}\\right)} \\kappa\\right)} J_{m + 1}(\\kappa \\rho) - {\\left({\\left(8 \\, B_{r_{1}} k_{1} \\cos\\left(h k_{1}\\right)^{6} - 12 \\, B_{r_{1}} k_{1} \\cos\\left(h k_{1}\\right)^{4} + 6 \\, B_{r_{1}} k_{1} \\cos\\left(h k_{1}\\right)^{2} - B_{r_{1}} k_{1}\\right)} \\kappa^{3} - {\\left(56 \\, {\\left(B_{r_{1}} - 1\\right)} k_{1}^{3} \\cos\\left(h k_{1}\\right)^{6} - 84 \\, {\\left(B_{r_{1}} - 1\\right)} k_{1}^{3} \\cos\\left(h k_{1}\\right)^{4} + 34 \\, {\\left(B_{r_{1}} - 1\\right)} k_{1}^{3} \\cos\\left(h k_{1}\\right)^{2} - 3 \\, {\\left(B_{r_{1}} - 1\\right)} k_{1}^{3}\\right)} \\kappa\\right)} J_{m - 1}(\\kappa \\rho)\\right)} r_{1}\\right)} \\rho^{2} - {\\left(6 \\, {\\left(4 \\, B_{\\phi_{1}} B_{r_{1}} \\cos\\left(h k_{1}\\right)^{5} - 4 \\, B_{\\phi_{1}} B_{r_{1}} \\cos\\left(h k_{1}\\right)^{3} + B_{\\phi_{1}} B_{r_{1}} \\cos\\left(h k_{1}\\right)\\right)} \\kappa m^{3} J_{m + 1}(\\kappa \\rho) \\sin\\left(h k_{1}\\right) - 6 \\, {\\left(4 \\, B_{\\phi_{1}} B_{r_{1}} \\cos\\left(h k_{1}\\right)^{5} - 4 \\, B_{\\phi_{1}} B_{r_{1}} \\cos\\left(h k_{1}\\right)^{3} + B_{\\phi_{1}} B_{r_{1}} \\cos\\left(h k_{1}\\right)\\right)} \\kappa m^{3} J_{m - 1}(\\kappa \\rho) \\sin\\left(h k_{1}\\right) + 4 \\, {\\left(3 \\, {\\left(4 \\, B_{\\phi_{1}} B_{r_{1}} \\cos\\left(h k_{1}\\right)^{5} - 4 \\, B_{\\phi_{1}} B_{r_{1}} \\cos\\left(h k_{1}\\right)^{3} + B_{\\phi_{1}} B_{r_{1}} \\cos\\left(h k_{1}\\right)\\right)} \\kappa^{2} \\sin\\left(h k_{1}\\right) - {\\left(60 \\, {\\left(B_{\\phi_{1}} B_{r_{1}} - B_{\\phi_{1}}\\right)} k_{1}^{2} \\cos\\left(h k_{1}\\right)^{5} - 60 \\, {\\left(B_{\\phi_{1}} B_{r_{1}} - B_{\\phi_{1}}\\right)} k_{1}^{2} \\cos\\left(h k_{1}\\right)^{3} + 11 \\, {\\left(B_{\\phi_{1}} B_{r_{1}} - B_{\\phi_{1}}\\right)} k_{1}^{2} \\cos\\left(h k_{1}\\right)\\right)} \\sin\\left(h k_{1}\\right)\\right)} m J_{m}(\\kappa \\rho) - {\\left({\\left(8 \\, B_{r_{1}} k_{1} \\cos\\left(h k_{1}\\right)^{6} - 12 \\, B_{r_{1}} k_{1} \\cos\\left(h k_{1}\\right)^{4} + 6 \\, B_{r_{1}} k_{1} \\cos\\left(h k_{1}\\right)^{2} - B_{r_{1}} k_{1}\\right)} \\kappa m^{2} J_{m + 1}(\\kappa \\rho) - {\\left(8 \\, B_{r_{1}} k_{1} \\cos\\left(h k_{1}\\right)^{6} - 12 \\, B_{r_{1}} k_{1} \\cos\\left(h k_{1}\\right)^{4} + 6 \\, B_{r_{1}} k_{1} \\cos\\left(h k_{1}\\right)^{2} - B_{r_{1}} k_{1}\\right)} \\kappa m^{2} J_{m - 1}(\\kappa \\rho)\\right)} r_{1}\\right)} \\rho\\right)} \\cos\\left(k_{1} z\\right) \\sin\\left(k_{1} z\\right)^{2} + {\\left(2 \\, {\\left(8 \\, B_{\\phi_{1}} B_{r_{1}} \\cos\\left(h k_{1}\\right)^{6} - 12 \\, B_{\\phi_{1}} B_{r_{1}} \\cos\\left(h k_{1}\\right)^{4} + 6 \\, B_{\\phi_{1}} B_{r_{1}} \\cos\\left(h k_{1}\\right)^{2} - B_{\\phi_{1}} B_{r_{1}}\\right)} m^{3} J_{m}(\\kappa \\rho) + {\\left({\\left({\\left(8 \\, B_{\\phi_{1}} B_{r_{1}} \\cos\\left(h k_{1}\\right)^{6} - 12 \\, B_{\\phi_{1}} B_{r_{1}} \\cos\\left(h k_{1}\\right)^{4} + 6 \\, B_{\\phi_{1}} B_{r_{1}} \\cos\\left(h k_{1}\\right)^{2} - B_{\\phi_{1}} B_{r_{1}}\\right)} \\kappa^{3} - {\\left(40 \\, {\\left(B_{\\phi_{1}} B_{r_{1}} - B_{\\phi_{1}}\\right)} k_{1}^{2} \\cos\\left(h k_{1}\\right)^{6} - 60 \\, {\\left(B_{\\phi_{1}} B_{r_{1}} - B_{\\phi_{1}}\\right)} k_{1}^{2} \\cos\\left(h k_{1}\\right)^{4} + 22 \\, {\\left(B_{\\phi_{1}} B_{r_{1}} - B_{\\phi_{1}}\\right)} k_{1}^{2} \\cos\\left(h k_{1}\\right)^{2} - {\\left(B_{\\phi_{1}} B_{r_{1}} - B_{\\phi_{1}}\\right)} k_{1}^{2}\\right)} \\kappa\\right)} m J_{m + 1}(\\kappa \\rho) - {\\left({\\left(8 \\, B_{\\phi_{1}} B_{r_{1}} \\cos\\left(h k_{1}\\right)^{6} - 12 \\, B_{\\phi_{1}} B_{r_{1}} \\cos\\left(h k_{1}\\right)^{4} + 6 \\, B_{\\phi_{1}} B_{r_{1}} \\cos\\left(h k_{1}\\right)^{2} - B_{\\phi_{1}} B_{r_{1}}\\right)} \\kappa^{3} - {\\left(40 \\, {\\left(B_{\\phi_{1}} B_{r_{1}} - B_{\\phi_{1}}\\right)} k_{1}^{2} \\cos\\left(h k_{1}\\right)^{6} - 60 \\, {\\left(B_{\\phi_{1}} B_{r_{1}} - B_{\\phi_{1}}\\right)} k_{1}^{2} \\cos\\left(h k_{1}\\right)^{4} + 22 \\, {\\left(B_{\\phi_{1}} B_{r_{1}} - B_{\\phi_{1}}\\right)} k_{1}^{2} \\cos\\left(h k_{1}\\right)^{2} - {\\left(B_{\\phi_{1}} B_{r_{1}} - B_{\\phi_{1}}\\right)} k_{1}^{2}\\right)} \\kappa\\right)} m J_{m - 1}(\\kappa \\rho) - 4 \\, {\\left({\\left(4 \\, {\\left(B_{r_{1}} - 1\\right)} k_{1}^{3} \\cos\\left(h k_{1}\\right)^{5} - 4 \\, {\\left(B_{r_{1}} - 1\\right)} k_{1}^{3} \\cos\\left(h k_{1}\\right)^{3} + {\\left(B_{r_{1}} - 1\\right)} k_{1}^{3} \\cos\\left(h k_{1}\\right)\\right)} \\kappa J_{m + 1}(\\kappa \\rho) \\sin\\left(h k_{1}\\right) - {\\left(4 \\, {\\left(B_{r_{1}} - 1\\right)} k_{1}^{3} \\cos\\left(h k_{1}\\right)^{5} - 4 \\, {\\left(B_{r_{1}} - 1\\right)} k_{1}^{3} \\cos\\left(h k_{1}\\right)^{3} + {\\left(B_{r_{1}} - 1\\right)} k_{1}^{3} \\cos\\left(h k_{1}\\right)\\right)} \\kappa J_{m - 1}(\\kappa \\rho) \\sin\\left(h k_{1}\\right)\\right)} r_{1}\\right)} \\rho^{2} - {\\left({\\left(8 \\, B_{\\phi_{1}} B_{r_{1}} \\cos\\left(h k_{1}\\right)^{6} - 12 \\, B_{\\phi_{1}} B_{r_{1}} \\cos\\left(h k_{1}\\right)^{4} + 6 \\, B_{\\phi_{1}} B_{r_{1}} \\cos\\left(h k_{1}\\right)^{2} - B_{\\phi_{1}} B_{r_{1}}\\right)} \\kappa m^{3} J_{m + 1}(\\kappa \\rho) - {\\left(8 \\, B_{\\phi_{1}} B_{r_{1}} \\cos\\left(h k_{1}\\right)^{6} - 12 \\, B_{\\phi_{1}} B_{r_{1}} \\cos\\left(h k_{1}\\right)^{4} + 6 \\, B_{\\phi_{1}} B_{r_{1}} \\cos\\left(h k_{1}\\right)^{2} - B_{\\phi_{1}} B_{r_{1}}\\right)} \\kappa m^{3} J_{m - 1}(\\kappa \\rho) - 2 \\, {\\left(40 \\, {\\left(B_{\\phi_{1}} B_{r_{1}} - B_{\\phi_{1}}\\right)} k_{1}^{2} \\cos\\left(h k_{1}\\right)^{6} - 60 \\, {\\left(B_{\\phi_{1}} B_{r_{1}} - B_{\\phi_{1}}\\right)} k_{1}^{2} \\cos\\left(h k_{1}\\right)^{4} + 22 \\, {\\left(B_{\\phi_{1}} B_{r_{1}} - B_{\\phi_{1}}\\right)} k_{1}^{2} \\cos\\left(h k_{1}\\right)^{2} - {\\left(B_{\\phi_{1}} B_{r_{1}} - B_{\\phi_{1}}\\right)} k_{1}^{2} - {\\left(8 \\, B_{\\phi_{1}} B_{r_{1}} \\cos\\left(h k_{1}\\right)^{6} - 12 \\, B_{\\phi_{1}} B_{r_{1}} \\cos\\left(h k_{1}\\right)^{4} + 6 \\, B_{\\phi_{1}} B_{r_{1}} \\cos\\left(h k_{1}\\right)^{2} - B_{\\phi_{1}} B_{r_{1}}\\right)} \\kappa^{2}\\right)} m J_{m}(\\kappa \\rho)\\right)} \\rho\\right)} \\sin\\left(k_{1} z\\right)^{3}}{4 \\, {\\left({\\left(4 \\, {\\left(B_{r_{1}} - 1\\right)} k_{1}^{3} \\cos\\left(h k_{1}\\right)^{5} - 4 \\, {\\left(B_{r_{1}} - 1\\right)} k_{1}^{3} \\cos\\left(h k_{1}\\right)^{3} + {\\left(B_{r_{1}} - 1\\right)} k_{1}^{3} \\cos\\left(h k_{1}\\right)\\right)} \\kappa J_{m + 1}(\\kappa \\rho) \\sin\\left(h k_{1}\\right) - {\\left(4 \\, {\\left(B_{r_{1}} - 1\\right)} k_{1}^{3} \\cos\\left(h k_{1}\\right)^{5} - 4 \\, {\\left(B_{r_{1}} - 1\\right)} k_{1}^{3} \\cos\\left(h k_{1}\\right)^{3} + {\\left(B_{r_{1}} - 1\\right)} k_{1}^{3} \\cos\\left(h k_{1}\\right)\\right)} \\kappa J_{m - 1}(\\kappa \\rho) \\sin\\left(h k_{1}\\right)\\right)} \\rho^{2} \\cos\\left(k_{1} z\\right)^{3} + 4 \\, {\\left({\\left({\\left({\\left(2 \\, B_{r_{1}} k_{1} \\cos\\left(h k_{1}\\right)^{6} - 3 \\, B_{r_{1}} k_{1} \\cos\\left(h k_{1}\\right)^{4} + B_{r_{1}} k_{1} \\cos\\left(h k_{1}\\right)^{2}\\right)} \\kappa^{3} - {\\left(14 \\, {\\left(B_{r_{1}} - 1\\right)} k_{1}^{3} \\cos\\left(h k_{1}\\right)^{6} - 21 \\, {\\left(B_{r_{1}} - 1\\right)} k_{1}^{3} \\cos\\left(h k_{1}\\right)^{4} + 9 \\, {\\left(B_{r_{1}} - 1\\right)} k_{1}^{3} \\cos\\left(h k_{1}\\right)^{2} - {\\left(B_{r_{1}} - 1\\right)} k_{1}^{3}\\right)} \\kappa\\right)} J_{m + 1}(\\kappa \\rho) - {\\left({\\left(2 \\, B_{r_{1}} k_{1} \\cos\\left(h k_{1}\\right)^{6} - 3 \\, B_{r_{1}} k_{1} \\cos\\left(h k_{1}\\right)^{4} + B_{r_{1}} k_{1} \\cos\\left(h k_{1}\\right)^{2}\\right)} \\kappa^{3} - {\\left(14 \\, {\\left(B_{r_{1}} - 1\\right)} k_{1}^{3} \\cos\\left(h k_{1}\\right)^{6} - 21 \\, {\\left(B_{r_{1}} - 1\\right)} k_{1}^{3} \\cos\\left(h k_{1}\\right)^{4} + 9 \\, {\\left(B_{r_{1}} - 1\\right)} k_{1}^{3} \\cos\\left(h k_{1}\\right)^{2} - {\\left(B_{r_{1}} - 1\\right)} k_{1}^{3}\\right)} \\kappa\\right)} J_{m - 1}(\\kappa \\rho)\\right)} \\rho^{2} - {\\left({\\left(2 \\, B_{r_{1}} k_{1} \\cos\\left(h k_{1}\\right)^{6} - 3 \\, B_{r_{1}} k_{1} \\cos\\left(h k_{1}\\right)^{4} + B_{r_{1}} k_{1} \\cos\\left(h k_{1}\\right)^{2}\\right)} \\kappa m^{2} J_{m + 1}(\\kappa \\rho) - {\\left(2 \\, B_{r_{1}} k_{1} \\cos\\left(h k_{1}\\right)^{6} - 3 \\, B_{r_{1}} k_{1} \\cos\\left(h k_{1}\\right)^{4} + B_{r_{1}} k_{1} \\cos\\left(h k_{1}\\right)^{2}\\right)} \\kappa m^{2} J_{m - 1}(\\kappa \\rho)\\right)} \\rho\\right)} \\cos\\left(k_{1} z\\right)^{2} \\sin\\left(k_{1} z\\right) + 4 \\, {\\left({\\left({\\left({\\left(4 \\, B_{r_{1}} k_{1} \\cos\\left(h k_{1}\\right)^{5} - 4 \\, B_{r_{1}} k_{1} \\cos\\left(h k_{1}\\right)^{3} + B_{r_{1}} k_{1} \\cos\\left(h k_{1}\\right)\\right)} \\kappa^{3} \\sin\\left(h k_{1}\\right) - 4 \\, {\\left(4 \\, {\\left(B_{r_{1}} - 1\\right)} k_{1}^{3} \\cos\\left(h k_{1}\\right)^{5} - 4 \\, {\\left(B_{r_{1}} - 1\\right)} k_{1}^{3} \\cos\\left(h k_{1}\\right)^{3} + {\\left(B_{r_{1}} - 1\\right)} k_{1}^{3} \\cos\\left(h k_{1}\\right)\\right)} \\kappa \\sin\\left(h k_{1}\\right)\\right)} J_{m + 1}(\\kappa \\rho) - {\\left({\\left(4 \\, B_{r_{1}} k_{1} \\cos\\left(h k_{1}\\right)^{5} - 4 \\, B_{r_{1}} k_{1} \\cos\\left(h k_{1}\\right)^{3} + B_{r_{1}} k_{1} \\cos\\left(h k_{1}\\right)\\right)} \\kappa^{3} \\sin\\left(h k_{1}\\right) - 4 \\, {\\left(4 \\, {\\left(B_{r_{1}} - 1\\right)} k_{1}^{3} \\cos\\left(h k_{1}\\right)^{5} - 4 \\, {\\left(B_{r_{1}} - 1\\right)} k_{1}^{3} \\cos\\left(h k_{1}\\right)^{3} + {\\left(B_{r_{1}} - 1\\right)} k_{1}^{3} \\cos\\left(h k_{1}\\right)\\right)} \\kappa \\sin\\left(h k_{1}\\right)\\right)} J_{m - 1}(\\kappa \\rho)\\right)} \\rho^{2} - {\\left({\\left(4 \\, B_{r_{1}} k_{1} \\cos\\left(h k_{1}\\right)^{5} - 4 \\, B_{r_{1}} k_{1} \\cos\\left(h k_{1}\\right)^{3} + B_{r_{1}} k_{1} \\cos\\left(h k_{1}\\right)\\right)} \\kappa m^{2} J_{m + 1}(\\kappa \\rho) \\sin\\left(h k_{1}\\right) - {\\left(4 \\, B_{r_{1}} k_{1} \\cos\\left(h k_{1}\\right)^{5} - 4 \\, B_{r_{1}} k_{1} \\cos\\left(h k_{1}\\right)^{3} + B_{r_{1}} k_{1} \\cos\\left(h k_{1}\\right)\\right)} \\kappa m^{2} J_{m - 1}(\\kappa \\rho) \\sin\\left(h k_{1}\\right)\\right)} \\rho\\right)} \\cos\\left(k_{1} z\\right) \\sin\\left(k_{1} z\\right)^{2} - {\\left({\\left({\\left({\\left(8 \\, B_{r_{1}} k_{1} \\cos\\left(h k_{1}\\right)^{6} - 12 \\, B_{r_{1}} k_{1} \\cos\\left(h k_{1}\\right)^{4} + 6 \\, B_{r_{1}} k_{1} \\cos\\left(h k_{1}\\right)^{2} - B_{r_{1}} k_{1}\\right)} \\kappa^{3} - {\\left(24 \\, {\\left(B_{r_{1}} - 1\\right)} k_{1}^{3} \\cos\\left(h k_{1}\\right)^{6} - 36 \\, {\\left(B_{r_{1}} - 1\\right)} k_{1}^{3} \\cos\\left(h k_{1}\\right)^{4} + 14 \\, {\\left(B_{r_{1}} - 1\\right)} k_{1}^{3} \\cos\\left(h k_{1}\\right)^{2} - {\\left(B_{r_{1}} - 1\\right)} k_{1}^{3}\\right)} \\kappa\\right)} J_{m + 1}(\\kappa \\rho) - {\\left({\\left(8 \\, B_{r_{1}} k_{1} \\cos\\left(h k_{1}\\right)^{6} - 12 \\, B_{r_{1}} k_{1} \\cos\\left(h k_{1}\\right)^{4} + 6 \\, B_{r_{1}} k_{1} \\cos\\left(h k_{1}\\right)^{2} - B_{r_{1}} k_{1}\\right)} \\kappa^{3} - {\\left(24 \\, {\\left(B_{r_{1}} - 1\\right)} k_{1}^{3} \\cos\\left(h k_{1}\\right)^{6} - 36 \\, {\\left(B_{r_{1}} - 1\\right)} k_{1}^{3} \\cos\\left(h k_{1}\\right)^{4} + 14 \\, {\\left(B_{r_{1}} - 1\\right)} k_{1}^{3} \\cos\\left(h k_{1}\\right)^{2} - {\\left(B_{r_{1}} - 1\\right)} k_{1}^{3}\\right)} \\kappa\\right)} J_{m - 1}(\\kappa \\rho)\\right)} \\rho^{2} - {\\left({\\left(8 \\, B_{r_{1}} k_{1} \\cos\\left(h k_{1}\\right)^{6} - 12 \\, B_{r_{1}} k_{1} \\cos\\left(h k_{1}\\right)^{4} + 6 \\, B_{r_{1}} k_{1} \\cos\\left(h k_{1}\\right)^{2} - B_{r_{1}} k_{1}\\right)} \\kappa m^{2} J_{m + 1}(\\kappa \\rho) - {\\left(8 \\, B_{r_{1}} k_{1} \\cos\\left(h k_{1}\\right)^{6} - 12 \\, B_{r_{1}} k_{1} \\cos\\left(h k_{1}\\right)^{4} + 6 \\, B_{r_{1}} k_{1} \\cos\\left(h k_{1}\\right)^{2} - B_{r_{1}} k_{1}\\right)} \\kappa m^{2} J_{m - 1}(\\kappa \\rho)\\right)} \\rho\\right)} \\sin\\left(k_{1} z\\right)^{3}}\\right]$$"
      ],
      "text/plain": [
       "<IPython.core.display.Math object>"
      ]
     },
     "metadata": {},
     "output_type": "display_data"
    },
    {
     "name": "stdout",
     "output_type": "stream",
     "text": [
      "\n",
      "var =\n"
     ]
    },
    {
     "data": {
      "text/latex": [
       "$$B_{r_{1}}$$"
      ],
      "text/plain": [
       "<IPython.core.display.Math object>"
      ]
     },
     "metadata": {},
     "output_type": "display_data"
    },
    {
     "name": "stdout",
     "output_type": "stream",
     "text": [
      "\n",
      "sol=\n"
     ]
    },
    {
     "data": {
      "text/latex": [
       "$$\\left[B_{r_{1}} = \\frac{2 \\, {\\left(8 \\, {\\left(5 \\, B_{\\phi_{1}} k_{1}^{2} \\cos\\left(h k_{1}\\right)^{5} - 5 \\, B_{\\phi_{1}} k_{1}^{2} \\cos\\left(h k_{1}\\right)^{3} + B_{\\phi_{1}} k_{1}^{2} \\cos\\left(h k_{1}\\right)\\right)} m \\rho J_{m}(\\kappa \\rho) \\sin\\left(h k_{1}\\right) + {\\left(4 \\, {\\left(5 \\, B_{\\phi_{1}} k_{1}^{2} \\cos\\left(h k_{1}\\right)^{5} - 5 \\, B_{\\phi_{1}} k_{1}^{2} \\cos\\left(h k_{1}\\right)^{3} + B_{\\phi_{1}} k_{1}^{2} \\cos\\left(h k_{1}\\right)\\right)} \\kappa m J_{m - 1}(\\kappa \\rho) \\sin\\left(h k_{1}\\right) - 2 \\, {\\left(4 \\, A_{z_{1}} k_{1}^{3} \\cos\\left(h k_{1}\\right)^{5} - 4 \\, A_{z_{1}} k_{1}^{3} \\cos\\left(h k_{1}\\right)^{3} + A_{z_{1}} k_{1}^{3} \\cos\\left(h k_{1}\\right)\\right)} \\kappa J_{m - 1}(\\kappa \\rho) \\sin\\left(h k_{1}\\right) + {\\left({\\left(12 \\, k_{1}^{3} \\cos\\left(h k_{1}\\right)^{6} - 18 \\, k_{1}^{3} \\cos\\left(h k_{1}\\right)^{4} + 8 \\, k_{1}^{3} \\cos\\left(h k_{1}\\right)^{2} - k_{1}^{3}\\right)} \\kappa J_{m + 1}(\\kappa \\rho) - {\\left(12 \\, k_{1}^{3} \\cos\\left(h k_{1}\\right)^{6} - 18 \\, k_{1}^{3} \\cos\\left(h k_{1}\\right)^{4} + 8 \\, k_{1}^{3} \\cos\\left(h k_{1}\\right)^{2} - k_{1}^{3}\\right)} \\kappa J_{m - 1}(\\kappa \\rho)\\right)} r_{1} - 2 \\, {\\left(2 \\, {\\left(5 \\, B_{\\phi_{1}} k_{1}^{2} \\cos\\left(h k_{1}\\right)^{5} - 5 \\, B_{\\phi_{1}} k_{1}^{2} \\cos\\left(h k_{1}\\right)^{3} + B_{\\phi_{1}} k_{1}^{2} \\cos\\left(h k_{1}\\right)\\right)} \\kappa m \\sin\\left(h k_{1}\\right) - {\\left(4 \\, A_{z_{1}} k_{1}^{3} \\cos\\left(h k_{1}\\right)^{5} - 4 \\, A_{z_{1}} k_{1}^{3} \\cos\\left(h k_{1}\\right)^{3} + A_{z_{1}} k_{1}^{3} \\cos\\left(h k_{1}\\right)\\right)} \\kappa \\sin\\left(h k_{1}\\right)\\right)} J_{m + 1}(\\kappa \\rho)\\right)} \\rho^{2}\\right)} \\cos\\left(k_{1} z\\right)^{3} - 4 \\, {\\left(2 \\, {\\left(30 \\, B_{\\phi_{1}} k_{1}^{2} \\cos\\left(h k_{1}\\right)^{6} - 45 \\, B_{\\phi_{1}} k_{1}^{2} \\cos\\left(h k_{1}\\right)^{4} + 17 \\, B_{\\phi_{1}} k_{1}^{2} \\cos\\left(h k_{1}\\right)^{2} - B_{\\phi_{1}} k_{1}^{2}\\right)} m \\rho J_{m}(\\kappa \\rho) + {\\left({\\left(30 \\, B_{\\phi_{1}} k_{1}^{2} \\cos\\left(h k_{1}\\right)^{6} - 45 \\, B_{\\phi_{1}} k_{1}^{2} \\cos\\left(h k_{1}\\right)^{4} + 17 \\, B_{\\phi_{1}} k_{1}^{2} \\cos\\left(h k_{1}\\right)^{2} - B_{\\phi_{1}} k_{1}^{2}\\right)} \\kappa m J_{m - 1}(\\kappa \\rho) - {\\left(14 \\, A_{z_{1}} k_{1}^{3} \\cos\\left(h k_{1}\\right)^{6} - 21 \\, A_{z_{1}} k_{1}^{3} \\cos\\left(h k_{1}\\right)^{4} + 9 \\, A_{z_{1}} k_{1}^{3} \\cos\\left(h k_{1}\\right)^{2} - A_{z_{1}} k_{1}^{3}\\right)} \\kappa J_{m - 1}(\\kappa \\rho) - 4 \\, {\\left({\\left(4 \\, k_{1}^{3} \\cos\\left(h k_{1}\\right)^{5} - 4 \\, k_{1}^{3} \\cos\\left(h k_{1}\\right)^{3} + k_{1}^{3} \\cos\\left(h k_{1}\\right)\\right)} \\kappa J_{m + 1}(\\kappa \\rho) \\sin\\left(h k_{1}\\right) - {\\left(4 \\, k_{1}^{3} \\cos\\left(h k_{1}\\right)^{5} - 4 \\, k_{1}^{3} \\cos\\left(h k_{1}\\right)^{3} + k_{1}^{3} \\cos\\left(h k_{1}\\right)\\right)} \\kappa J_{m - 1}(\\kappa \\rho) \\sin\\left(h k_{1}\\right)\\right)} r_{1} - {\\left({\\left(30 \\, B_{\\phi_{1}} k_{1}^{2} \\cos\\left(h k_{1}\\right)^{6} - 45 \\, B_{\\phi_{1}} k_{1}^{2} \\cos\\left(h k_{1}\\right)^{4} + 17 \\, B_{\\phi_{1}} k_{1}^{2} \\cos\\left(h k_{1}\\right)^{2} - B_{\\phi_{1}} k_{1}^{2}\\right)} \\kappa m - {\\left(14 \\, A_{z_{1}} k_{1}^{3} \\cos\\left(h k_{1}\\right)^{6} - 21 \\, A_{z_{1}} k_{1}^{3} \\cos\\left(h k_{1}\\right)^{4} + 9 \\, A_{z_{1}} k_{1}^{3} \\cos\\left(h k_{1}\\right)^{2} - A_{z_{1}} k_{1}^{3}\\right)} \\kappa\\right)} J_{m + 1}(\\kappa \\rho)\\right)} \\rho^{2}\\right)} \\cos\\left(k_{1} z\\right)^{2} \\sin\\left(k_{1} z\\right) - {\\left(4 \\, {\\left(60 \\, B_{\\phi_{1}} k_{1}^{2} \\cos\\left(h k_{1}\\right)^{5} - 60 \\, B_{\\phi_{1}} k_{1}^{2} \\cos\\left(h k_{1}\\right)^{3} + 11 \\, B_{\\phi_{1}} k_{1}^{2} \\cos\\left(h k_{1}\\right)\\right)} m \\rho J_{m}(\\kappa \\rho) \\sin\\left(h k_{1}\\right) + {\\left(2 \\, {\\left(60 \\, B_{\\phi_{1}} k_{1}^{2} \\cos\\left(h k_{1}\\right)^{5} - 60 \\, B_{\\phi_{1}} k_{1}^{2} \\cos\\left(h k_{1}\\right)^{3} + 11 \\, B_{\\phi_{1}} k_{1}^{2} \\cos\\left(h k_{1}\\right)\\right)} \\kappa m J_{m - 1}(\\kappa \\rho) \\sin\\left(h k_{1}\\right) - 16 \\, {\\left(4 \\, A_{z_{1}} k_{1}^{3} \\cos\\left(h k_{1}\\right)^{5} - 4 \\, A_{z_{1}} k_{1}^{3} \\cos\\left(h k_{1}\\right)^{3} + A_{z_{1}} k_{1}^{3} \\cos\\left(h k_{1}\\right)\\right)} \\kappa J_{m - 1}(\\kappa \\rho) \\sin\\left(h k_{1}\\right) + {\\left({\\left(56 \\, k_{1}^{3} \\cos\\left(h k_{1}\\right)^{6} - 84 \\, k_{1}^{3} \\cos\\left(h k_{1}\\right)^{4} + 34 \\, k_{1}^{3} \\cos\\left(h k_{1}\\right)^{2} - 3 \\, k_{1}^{3}\\right)} \\kappa J_{m + 1}(\\kappa \\rho) - {\\left(56 \\, k_{1}^{3} \\cos\\left(h k_{1}\\right)^{6} - 84 \\, k_{1}^{3} \\cos\\left(h k_{1}\\right)^{4} + 34 \\, k_{1}^{3} \\cos\\left(h k_{1}\\right)^{2} - 3 \\, k_{1}^{3}\\right)} \\kappa J_{m - 1}(\\kappa \\rho)\\right)} r_{1} - 2 \\, {\\left({\\left(60 \\, B_{\\phi_{1}} k_{1}^{2} \\cos\\left(h k_{1}\\right)^{5} - 60 \\, B_{\\phi_{1}} k_{1}^{2} \\cos\\left(h k_{1}\\right)^{3} + 11 \\, B_{\\phi_{1}} k_{1}^{2} \\cos\\left(h k_{1}\\right)\\right)} \\kappa m \\sin\\left(h k_{1}\\right) - 8 \\, {\\left(4 \\, A_{z_{1}} k_{1}^{3} \\cos\\left(h k_{1}\\right)^{5} - 4 \\, A_{z_{1}} k_{1}^{3} \\cos\\left(h k_{1}\\right)^{3} + A_{z_{1}} k_{1}^{3} \\cos\\left(h k_{1}\\right)\\right)} \\kappa \\sin\\left(h k_{1}\\right)\\right)} J_{m + 1}(\\kappa \\rho)\\right)} \\rho^{2}\\right)} \\cos\\left(k_{1} z\\right) \\sin\\left(k_{1} z\\right)^{2} + {\\left(2 \\, {\\left(40 \\, B_{\\phi_{1}} k_{1}^{2} \\cos\\left(h k_{1}\\right)^{6} - 60 \\, B_{\\phi_{1}} k_{1}^{2} \\cos\\left(h k_{1}\\right)^{4} + 22 \\, B_{\\phi_{1}} k_{1}^{2} \\cos\\left(h k_{1}\\right)^{2} - B_{\\phi_{1}} k_{1}^{2}\\right)} m \\rho J_{m}(\\kappa \\rho) + {\\left({\\left(40 \\, B_{\\phi_{1}} k_{1}^{2} \\cos\\left(h k_{1}\\right)^{6} - 60 \\, B_{\\phi_{1}} k_{1}^{2} \\cos\\left(h k_{1}\\right)^{4} + 22 \\, B_{\\phi_{1}} k_{1}^{2} \\cos\\left(h k_{1}\\right)^{2} - B_{\\phi_{1}} k_{1}^{2}\\right)} \\kappa m J_{m - 1}(\\kappa \\rho) - {\\left(24 \\, A_{z_{1}} k_{1}^{3} \\cos\\left(h k_{1}\\right)^{6} - 36 \\, A_{z_{1}} k_{1}^{3} \\cos\\left(h k_{1}\\right)^{4} + 14 \\, A_{z_{1}} k_{1}^{3} \\cos\\left(h k_{1}\\right)^{2} - A_{z_{1}} k_{1}^{3}\\right)} \\kappa J_{m - 1}(\\kappa \\rho) - 4 \\, {\\left({\\left(4 \\, k_{1}^{3} \\cos\\left(h k_{1}\\right)^{5} - 4 \\, k_{1}^{3} \\cos\\left(h k_{1}\\right)^{3} + k_{1}^{3} \\cos\\left(h k_{1}\\right)\\right)} \\kappa J_{m + 1}(\\kappa \\rho) \\sin\\left(h k_{1}\\right) - {\\left(4 \\, k_{1}^{3} \\cos\\left(h k_{1}\\right)^{5} - 4 \\, k_{1}^{3} \\cos\\left(h k_{1}\\right)^{3} + k_{1}^{3} \\cos\\left(h k_{1}\\right)\\right)} \\kappa J_{m - 1}(\\kappa \\rho) \\sin\\left(h k_{1}\\right)\\right)} r_{1} - {\\left({\\left(40 \\, B_{\\phi_{1}} k_{1}^{2} \\cos\\left(h k_{1}\\right)^{6} - 60 \\, B_{\\phi_{1}} k_{1}^{2} \\cos\\left(h k_{1}\\right)^{4} + 22 \\, B_{\\phi_{1}} k_{1}^{2} \\cos\\left(h k_{1}\\right)^{2} - B_{\\phi_{1}} k_{1}^{2}\\right)} \\kappa m - {\\left(24 \\, A_{z_{1}} k_{1}^{3} \\cos\\left(h k_{1}\\right)^{6} - 36 \\, A_{z_{1}} k_{1}^{3} \\cos\\left(h k_{1}\\right)^{4} + 14 \\, A_{z_{1}} k_{1}^{3} \\cos\\left(h k_{1}\\right)^{2} - A_{z_{1}} k_{1}^{3}\\right)} \\kappa\\right)} J_{m + 1}(\\kappa \\rho)\\right)} \\rho^{2}\\right)} \\sin\\left(k_{1} z\\right)^{3}}{2 \\, {\\left(8 \\, {\\left(B_{\\phi_{1}} \\cos\\left(h k_{1}\\right)^{5} - B_{\\phi_{1}} \\cos\\left(h k_{1}\\right)^{3}\\right)} m^{3} J_{m}(\\kappa \\rho) \\sin\\left(h k_{1}\\right) - {\\left(2 \\, {\\left(4 \\, A_{z_{1}} k_{1}^{3} \\cos\\left(h k_{1}\\right)^{5} - 4 \\, A_{z_{1}} k_{1}^{3} \\cos\\left(h k_{1}\\right)^{3} + A_{z_{1}} k_{1}^{3} \\cos\\left(h k_{1}\\right)\\right)} \\kappa J_{m - 1}(\\kappa \\rho) \\sin\\left(h k_{1}\\right) + 4 \\, {\\left({\\left(B_{\\phi_{1}} \\cos\\left(h k_{1}\\right)^{5} - B_{\\phi_{1}} \\cos\\left(h k_{1}\\right)^{3}\\right)} \\kappa^{3} \\sin\\left(h k_{1}\\right) - {\\left(5 \\, B_{\\phi_{1}} k_{1}^{2} \\cos\\left(h k_{1}\\right)^{5} - 5 \\, B_{\\phi_{1}} k_{1}^{2} \\cos\\left(h k_{1}\\right)^{3} + B_{\\phi_{1}} k_{1}^{2} \\cos\\left(h k_{1}\\right)\\right)} \\kappa \\sin\\left(h k_{1}\\right)\\right)} m J_{m - 1}(\\kappa \\rho) + {\\left({\\left(2 \\, {\\left(2 \\, k_{1} \\cos\\left(h k_{1}\\right)^{6} - 3 \\, k_{1} \\cos\\left(h k_{1}\\right)^{4} + k_{1} \\cos\\left(h k_{1}\\right)^{2}\\right)} \\kappa^{3} - {\\left(12 \\, k_{1}^{3} \\cos\\left(h k_{1}\\right)^{6} - 18 \\, k_{1}^{3} \\cos\\left(h k_{1}\\right)^{4} + 8 \\, k_{1}^{3} \\cos\\left(h k_{1}\\right)^{2} - k_{1}^{3}\\right)} \\kappa\\right)} J_{m + 1}(\\kappa \\rho) - {\\left(2 \\, {\\left(2 \\, k_{1} \\cos\\left(h k_{1}\\right)^{6} - 3 \\, k_{1} \\cos\\left(h k_{1}\\right)^{4} + k_{1} \\cos\\left(h k_{1}\\right)^{2}\\right)} \\kappa^{3} - {\\left(12 \\, k_{1}^{3} \\cos\\left(h k_{1}\\right)^{6} - 18 \\, k_{1}^{3} \\cos\\left(h k_{1}\\right)^{4} + 8 \\, k_{1}^{3} \\cos\\left(h k_{1}\\right)^{2} - k_{1}^{3}\\right)} \\kappa\\right)} J_{m - 1}(\\kappa \\rho)\\right)} r_{1} - 2 \\, {\\left({\\left(4 \\, A_{z_{1}} k_{1}^{3} \\cos\\left(h k_{1}\\right)^{5} - 4 \\, A_{z_{1}} k_{1}^{3} \\cos\\left(h k_{1}\\right)^{3} + A_{z_{1}} k_{1}^{3} \\cos\\left(h k_{1}\\right)\\right)} \\kappa \\sin\\left(h k_{1}\\right) + 2 \\, {\\left({\\left(B_{\\phi_{1}} \\cos\\left(h k_{1}\\right)^{5} - B_{\\phi_{1}} \\cos\\left(h k_{1}\\right)^{3}\\right)} \\kappa^{3} \\sin\\left(h k_{1}\\right) - {\\left(5 \\, B_{\\phi_{1}} k_{1}^{2} \\cos\\left(h k_{1}\\right)^{5} - 5 \\, B_{\\phi_{1}} k_{1}^{2} \\cos\\left(h k_{1}\\right)^{3} + B_{\\phi_{1}} k_{1}^{2} \\cos\\left(h k_{1}\\right)\\right)} \\kappa \\sin\\left(h k_{1}\\right)\\right)} m\\right)} J_{m + 1}(\\kappa \\rho)\\right)} \\rho^{2} - 2 \\, {\\left(2 \\, {\\left(B_{\\phi_{1}} \\cos\\left(h k_{1}\\right)^{5} - B_{\\phi_{1}} \\cos\\left(h k_{1}\\right)^{3}\\right)} \\kappa m^{3} J_{m + 1}(\\kappa \\rho) \\sin\\left(h k_{1}\\right) - 2 \\, {\\left(B_{\\phi_{1}} \\cos\\left(h k_{1}\\right)^{5} - B_{\\phi_{1}} \\cos\\left(h k_{1}\\right)^{3}\\right)} \\kappa m^{3} J_{m - 1}(\\kappa \\rho) \\sin\\left(h k_{1}\\right) + 4 \\, {\\left({\\left(B_{\\phi_{1}} \\cos\\left(h k_{1}\\right)^{5} - B_{\\phi_{1}} \\cos\\left(h k_{1}\\right)^{3}\\right)} \\kappa^{2} \\sin\\left(h k_{1}\\right) - {\\left(5 \\, B_{\\phi_{1}} k_{1}^{2} \\cos\\left(h k_{1}\\right)^{5} - 5 \\, B_{\\phi_{1}} k_{1}^{2} \\cos\\left(h k_{1}\\right)^{3} + B_{\\phi_{1}} k_{1}^{2} \\cos\\left(h k_{1}\\right)\\right)} \\sin\\left(h k_{1}\\right)\\right)} m J_{m}(\\kappa \\rho) - {\\left({\\left(2 \\, k_{1} \\cos\\left(h k_{1}\\right)^{6} - 3 \\, k_{1} \\cos\\left(h k_{1}\\right)^{4} + k_{1} \\cos\\left(h k_{1}\\right)^{2}\\right)} \\kappa m^{2} J_{m + 1}(\\kappa \\rho) - {\\left(2 \\, k_{1} \\cos\\left(h k_{1}\\right)^{6} - 3 \\, k_{1} \\cos\\left(h k_{1}\\right)^{4} + k_{1} \\cos\\left(h k_{1}\\right)^{2}\\right)} \\kappa m^{2} J_{m - 1}(\\kappa \\rho)\\right)} r_{1}\\right)} \\rho\\right)} \\cos\\left(k_{1} z\\right)^{3} - 4 \\, {\\left(6 \\, {\\left(2 \\, B_{\\phi_{1}} \\cos\\left(h k_{1}\\right)^{6} - 3 \\, B_{\\phi_{1}} \\cos\\left(h k_{1}\\right)^{4} + B_{\\phi_{1}} \\cos\\left(h k_{1}\\right)^{2}\\right)} m^{3} J_{m}(\\kappa \\rho) - {\\left({\\left(3 \\, {\\left(2 \\, B_{\\phi_{1}} \\cos\\left(h k_{1}\\right)^{6} - 3 \\, B_{\\phi_{1}} \\cos\\left(h k_{1}\\right)^{4} + B_{\\phi_{1}} \\cos\\left(h k_{1}\\right)^{2}\\right)} \\kappa^{3} - {\\left(30 \\, B_{\\phi_{1}} k_{1}^{2} \\cos\\left(h k_{1}\\right)^{6} - 45 \\, B_{\\phi_{1}} k_{1}^{2} \\cos\\left(h k_{1}\\right)^{4} + 17 \\, B_{\\phi_{1}} k_{1}^{2} \\cos\\left(h k_{1}\\right)^{2} - B_{\\phi_{1}} k_{1}^{2}\\right)} \\kappa\\right)} m J_{m - 1}(\\kappa \\rho) - {\\left({\\left({\\left(4 \\, k_{1} \\cos\\left(h k_{1}\\right)^{5} - 4 \\, k_{1} \\cos\\left(h k_{1}\\right)^{3} + k_{1} \\cos\\left(h k_{1}\\right)\\right)} \\kappa^{3} \\sin\\left(h k_{1}\\right) - 4 \\, {\\left(4 \\, k_{1}^{3} \\cos\\left(h k_{1}\\right)^{5} - 4 \\, k_{1}^{3} \\cos\\left(h k_{1}\\right)^{3} + k_{1}^{3} \\cos\\left(h k_{1}\\right)\\right)} \\kappa \\sin\\left(h k_{1}\\right)\\right)} J_{m + 1}(\\kappa \\rho) - {\\left({\\left(4 \\, k_{1} \\cos\\left(h k_{1}\\right)^{5} - 4 \\, k_{1} \\cos\\left(h k_{1}\\right)^{3} + k_{1} \\cos\\left(h k_{1}\\right)\\right)} \\kappa^{3} \\sin\\left(h k_{1}\\right) - 4 \\, {\\left(4 \\, k_{1}^{3} \\cos\\left(h k_{1}\\right)^{5} - 4 \\, k_{1}^{3} \\cos\\left(h k_{1}\\right)^{3} + k_{1}^{3} \\cos\\left(h k_{1}\\right)\\right)} \\kappa \\sin\\left(h k_{1}\\right)\\right)} J_{m - 1}(\\kappa \\rho)\\right)} r_{1} + {\\left({\\left(2 \\, A_{z_{1}} k_{1} \\cos\\left(h k_{1}\\right)^{6} - 3 \\, A_{z_{1}} k_{1} \\cos\\left(h k_{1}\\right)^{4} + A_{z_{1}} k_{1} \\cos\\left(h k_{1}\\right)^{2}\\right)} \\kappa^{3} - {\\left(14 \\, A_{z_{1}} k_{1}^{3} \\cos\\left(h k_{1}\\right)^{6} - 21 \\, A_{z_{1}} k_{1}^{3} \\cos\\left(h k_{1}\\right)^{4} + 9 \\, A_{z_{1}} k_{1}^{3} \\cos\\left(h k_{1}\\right)^{2} - A_{z_{1}} k_{1}^{3}\\right)} \\kappa - {\\left(3 \\, {\\left(2 \\, B_{\\phi_{1}} \\cos\\left(h k_{1}\\right)^{6} - 3 \\, B_{\\phi_{1}} \\cos\\left(h k_{1}\\right)^{4} + B_{\\phi_{1}} \\cos\\left(h k_{1}\\right)^{2}\\right)} \\kappa^{3} - {\\left(30 \\, B_{\\phi_{1}} k_{1}^{2} \\cos\\left(h k_{1}\\right)^{6} - 45 \\, B_{\\phi_{1}} k_{1}^{2} \\cos\\left(h k_{1}\\right)^{4} + 17 \\, B_{\\phi_{1}} k_{1}^{2} \\cos\\left(h k_{1}\\right)^{2} - B_{\\phi_{1}} k_{1}^{2}\\right)} \\kappa\\right)} m\\right)} J_{m + 1}(\\kappa \\rho) - {\\left({\\left(2 \\, A_{z_{1}} k_{1} \\cos\\left(h k_{1}\\right)^{6} - 3 \\, A_{z_{1}} k_{1} \\cos\\left(h k_{1}\\right)^{4} + A_{z_{1}} k_{1} \\cos\\left(h k_{1}\\right)^{2}\\right)} \\kappa^{3} - {\\left(14 \\, A_{z_{1}} k_{1}^{3} \\cos\\left(h k_{1}\\right)^{6} - 21 \\, A_{z_{1}} k_{1}^{3} \\cos\\left(h k_{1}\\right)^{4} + 9 \\, A_{z_{1}} k_{1}^{3} \\cos\\left(h k_{1}\\right)^{2} - A_{z_{1}} k_{1}^{3}\\right)} \\kappa\\right)} J_{m - 1}(\\kappa \\rho)\\right)} \\rho^{2} + {\\left(3 \\, {\\left(2 \\, B_{\\phi_{1}} \\cos\\left(h k_{1}\\right)^{6} - 3 \\, B_{\\phi_{1}} \\cos\\left(h k_{1}\\right)^{4} + B_{\\phi_{1}} \\cos\\left(h k_{1}\\right)^{2}\\right)} \\kappa m^{3} J_{m - 1}(\\kappa \\rho) - {\\left(2 \\, A_{z_{1}} k_{1} \\cos\\left(h k_{1}\\right)^{6} - 3 \\, A_{z_{1}} k_{1} \\cos\\left(h k_{1}\\right)^{4} + A_{z_{1}} k_{1} \\cos\\left(h k_{1}\\right)^{2}\\right)} \\kappa m^{2} J_{m - 1}(\\kappa \\rho) + 2 \\, {\\left(30 \\, B_{\\phi_{1}} k_{1}^{2} \\cos\\left(h k_{1}\\right)^{6} - 45 \\, B_{\\phi_{1}} k_{1}^{2} \\cos\\left(h k_{1}\\right)^{4} + 17 \\, B_{\\phi_{1}} k_{1}^{2} \\cos\\left(h k_{1}\\right)^{2} - B_{\\phi_{1}} k_{1}^{2} - 3 \\, {\\left(2 \\, B_{\\phi_{1}} \\cos\\left(h k_{1}\\right)^{6} - 3 \\, B_{\\phi_{1}} \\cos\\left(h k_{1}\\right)^{4} + B_{\\phi_{1}} \\cos\\left(h k_{1}\\right)^{2}\\right)} \\kappa^{2}\\right)} m J_{m}(\\kappa \\rho) - {\\left({\\left(4 \\, k_{1} \\cos\\left(h k_{1}\\right)^{5} - 4 \\, k_{1} \\cos\\left(h k_{1}\\right)^{3} + k_{1} \\cos\\left(h k_{1}\\right)\\right)} \\kappa m^{2} J_{m + 1}(\\kappa \\rho) \\sin\\left(h k_{1}\\right) - {\\left(4 \\, k_{1} \\cos\\left(h k_{1}\\right)^{5} - 4 \\, k_{1} \\cos\\left(h k_{1}\\right)^{3} + k_{1} \\cos\\left(h k_{1}\\right)\\right)} \\kappa m^{2} J_{m - 1}(\\kappa \\rho) \\sin\\left(h k_{1}\\right)\\right)} r_{1} - {\\left(3 \\, {\\left(2 \\, B_{\\phi_{1}} \\cos\\left(h k_{1}\\right)^{6} - 3 \\, B_{\\phi_{1}} \\cos\\left(h k_{1}\\right)^{4} + B_{\\phi_{1}} \\cos\\left(h k_{1}\\right)^{2}\\right)} \\kappa m^{3} - {\\left(2 \\, A_{z_{1}} k_{1} \\cos\\left(h k_{1}\\right)^{6} - 3 \\, A_{z_{1}} k_{1} \\cos\\left(h k_{1}\\right)^{4} + A_{z_{1}} k_{1} \\cos\\left(h k_{1}\\right)^{2}\\right)} \\kappa m^{2}\\right)} J_{m + 1}(\\kappa \\rho)\\right)} \\rho\\right)} \\cos\\left(k_{1} z\\right)^{2} \\sin\\left(k_{1} z\\right) - {\\left(12 \\, {\\left(4 \\, B_{\\phi_{1}} \\cos\\left(h k_{1}\\right)^{5} - 4 \\, B_{\\phi_{1}} \\cos\\left(h k_{1}\\right)^{3} + B_{\\phi_{1}} \\cos\\left(h k_{1}\\right)\\right)} m^{3} J_{m}(\\kappa \\rho) \\sin\\left(h k_{1}\\right) - {\\left(2 \\, {\\left(3 \\, {\\left(4 \\, B_{\\phi_{1}} \\cos\\left(h k_{1}\\right)^{5} - 4 \\, B_{\\phi_{1}} \\cos\\left(h k_{1}\\right)^{3} + B_{\\phi_{1}} \\cos\\left(h k_{1}\\right)\\right)} \\kappa^{3} \\sin\\left(h k_{1}\\right) - {\\left(60 \\, B_{\\phi_{1}} k_{1}^{2} \\cos\\left(h k_{1}\\right)^{5} - 60 \\, B_{\\phi_{1}} k_{1}^{2} \\cos\\left(h k_{1}\\right)^{3} + 11 \\, B_{\\phi_{1}} k_{1}^{2} \\cos\\left(h k_{1}\\right)\\right)} \\kappa \\sin\\left(h k_{1}\\right)\\right)} m J_{m - 1}(\\kappa \\rho) + {\\left({\\left({\\left(8 \\, k_{1} \\cos\\left(h k_{1}\\right)^{6} - 12 \\, k_{1} \\cos\\left(h k_{1}\\right)^{4} + 6 \\, k_{1} \\cos\\left(h k_{1}\\right)^{2} - k_{1}\\right)} \\kappa^{3} - {\\left(56 \\, k_{1}^{3} \\cos\\left(h k_{1}\\right)^{6} - 84 \\, k_{1}^{3} \\cos\\left(h k_{1}\\right)^{4} + 34 \\, k_{1}^{3} \\cos\\left(h k_{1}\\right)^{2} - 3 \\, k_{1}^{3}\\right)} \\kappa\\right)} J_{m + 1}(\\kappa \\rho) - {\\left({\\left(8 \\, k_{1} \\cos\\left(h k_{1}\\right)^{6} - 12 \\, k_{1} \\cos\\left(h k_{1}\\right)^{4} + 6 \\, k_{1} \\cos\\left(h k_{1}\\right)^{2} - k_{1}\\right)} \\kappa^{3} - {\\left(56 \\, k_{1}^{3} \\cos\\left(h k_{1}\\right)^{6} - 84 \\, k_{1}^{3} \\cos\\left(h k_{1}\\right)^{4} + 34 \\, k_{1}^{3} \\cos\\left(h k_{1}\\right)^{2} - 3 \\, k_{1}^{3}\\right)} \\kappa\\right)} J_{m - 1}(\\kappa \\rho)\\right)} r_{1} + 2 \\, {\\left(2 \\, {\\left(4 \\, A_{z_{1}} k_{1} \\cos\\left(h k_{1}\\right)^{5} - 4 \\, A_{z_{1}} k_{1} \\cos\\left(h k_{1}\\right)^{3} + A_{z_{1}} k_{1} \\cos\\left(h k_{1}\\right)\\right)} \\kappa^{3} \\sin\\left(h k_{1}\\right) - 8 \\, {\\left(4 \\, A_{z_{1}} k_{1}^{3} \\cos\\left(h k_{1}\\right)^{5} - 4 \\, A_{z_{1}} k_{1}^{3} \\cos\\left(h k_{1}\\right)^{3} + A_{z_{1}} k_{1}^{3} \\cos\\left(h k_{1}\\right)\\right)} \\kappa \\sin\\left(h k_{1}\\right) - {\\left(3 \\, {\\left(4 \\, B_{\\phi_{1}} \\cos\\left(h k_{1}\\right)^{5} - 4 \\, B_{\\phi_{1}} \\cos\\left(h k_{1}\\right)^{3} + B_{\\phi_{1}} \\cos\\left(h k_{1}\\right)\\right)} \\kappa^{3} \\sin\\left(h k_{1}\\right) - {\\left(60 \\, B_{\\phi_{1}} k_{1}^{2} \\cos\\left(h k_{1}\\right)^{5} - 60 \\, B_{\\phi_{1}} k_{1}^{2} \\cos\\left(h k_{1}\\right)^{3} + 11 \\, B_{\\phi_{1}} k_{1}^{2} \\cos\\left(h k_{1}\\right)\\right)} \\kappa \\sin\\left(h k_{1}\\right)\\right)} m\\right)} J_{m + 1}(\\kappa \\rho) - 4 \\, {\\left({\\left(4 \\, A_{z_{1}} k_{1} \\cos\\left(h k_{1}\\right)^{5} - 4 \\, A_{z_{1}} k_{1} \\cos\\left(h k_{1}\\right)^{3} + A_{z_{1}} k_{1} \\cos\\left(h k_{1}\\right)\\right)} \\kappa^{3} \\sin\\left(h k_{1}\\right) - 4 \\, {\\left(4 \\, A_{z_{1}} k_{1}^{3} \\cos\\left(h k_{1}\\right)^{5} - 4 \\, A_{z_{1}} k_{1}^{3} \\cos\\left(h k_{1}\\right)^{3} + A_{z_{1}} k_{1}^{3} \\cos\\left(h k_{1}\\right)\\right)} \\kappa \\sin\\left(h k_{1}\\right)\\right)} J_{m - 1}(\\kappa \\rho)\\right)} \\rho^{2} + {\\left(6 \\, {\\left(4 \\, B_{\\phi_{1}} \\cos\\left(h k_{1}\\right)^{5} - 4 \\, B_{\\phi_{1}} \\cos\\left(h k_{1}\\right)^{3} + B_{\\phi_{1}} \\cos\\left(h k_{1}\\right)\\right)} \\kappa m^{3} J_{m - 1}(\\kappa \\rho) \\sin\\left(h k_{1}\\right) - 4 \\, {\\left(4 \\, A_{z_{1}} k_{1} \\cos\\left(h k_{1}\\right)^{5} - 4 \\, A_{z_{1}} k_{1} \\cos\\left(h k_{1}\\right)^{3} + A_{z_{1}} k_{1} \\cos\\left(h k_{1}\\right)\\right)} \\kappa m^{2} J_{m - 1}(\\kappa \\rho) \\sin\\left(h k_{1}\\right) - 4 \\, {\\left(3 \\, {\\left(4 \\, B_{\\phi_{1}} \\cos\\left(h k_{1}\\right)^{5} - 4 \\, B_{\\phi_{1}} \\cos\\left(h k_{1}\\right)^{3} + B_{\\phi_{1}} \\cos\\left(h k_{1}\\right)\\right)} \\kappa^{2} \\sin\\left(h k_{1}\\right) - {\\left(60 \\, B_{\\phi_{1}} k_{1}^{2} \\cos\\left(h k_{1}\\right)^{5} - 60 \\, B_{\\phi_{1}} k_{1}^{2} \\cos\\left(h k_{1}\\right)^{3} + 11 \\, B_{\\phi_{1}} k_{1}^{2} \\cos\\left(h k_{1}\\right)\\right)} \\sin\\left(h k_{1}\\right)\\right)} m J_{m}(\\kappa \\rho) + {\\left({\\left(8 \\, k_{1} \\cos\\left(h k_{1}\\right)^{6} - 12 \\, k_{1} \\cos\\left(h k_{1}\\right)^{4} + 6 \\, k_{1} \\cos\\left(h k_{1}\\right)^{2} - k_{1}\\right)} \\kappa m^{2} J_{m + 1}(\\kappa \\rho) - {\\left(8 \\, k_{1} \\cos\\left(h k_{1}\\right)^{6} - 12 \\, k_{1} \\cos\\left(h k_{1}\\right)^{4} + 6 \\, k_{1} \\cos\\left(h k_{1}\\right)^{2} - k_{1}\\right)} \\kappa m^{2} J_{m - 1}(\\kappa \\rho)\\right)} r_{1} - 2 \\, {\\left(3 \\, {\\left(4 \\, B_{\\phi_{1}} \\cos\\left(h k_{1}\\right)^{5} - 4 \\, B_{\\phi_{1}} \\cos\\left(h k_{1}\\right)^{3} + B_{\\phi_{1}} \\cos\\left(h k_{1}\\right)\\right)} \\kappa m^{3} \\sin\\left(h k_{1}\\right) - 2 \\, {\\left(4 \\, A_{z_{1}} k_{1} \\cos\\left(h k_{1}\\right)^{5} - 4 \\, A_{z_{1}} k_{1} \\cos\\left(h k_{1}\\right)^{3} + A_{z_{1}} k_{1} \\cos\\left(h k_{1}\\right)\\right)} \\kappa m^{2} \\sin\\left(h k_{1}\\right)\\right)} J_{m + 1}(\\kappa \\rho)\\right)} \\rho\\right)} \\cos\\left(k_{1} z\\right) \\sin\\left(k_{1} z\\right)^{2} + {\\left(2 \\, {\\left(8 \\, B_{\\phi_{1}} \\cos\\left(h k_{1}\\right)^{6} - 12 \\, B_{\\phi_{1}} \\cos\\left(h k_{1}\\right)^{4} + 6 \\, B_{\\phi_{1}} \\cos\\left(h k_{1}\\right)^{2} - B_{\\phi_{1}}\\right)} m^{3} J_{m}(\\kappa \\rho) - {\\left({\\left({\\left(8 \\, B_{\\phi_{1}} \\cos\\left(h k_{1}\\right)^{6} - 12 \\, B_{\\phi_{1}} \\cos\\left(h k_{1}\\right)^{4} + 6 \\, B_{\\phi_{1}} \\cos\\left(h k_{1}\\right)^{2} - B_{\\phi_{1}}\\right)} \\kappa^{3} - {\\left(40 \\, B_{\\phi_{1}} k_{1}^{2} \\cos\\left(h k_{1}\\right)^{6} - 60 \\, B_{\\phi_{1}} k_{1}^{2} \\cos\\left(h k_{1}\\right)^{4} + 22 \\, B_{\\phi_{1}} k_{1}^{2} \\cos\\left(h k_{1}\\right)^{2} - B_{\\phi_{1}} k_{1}^{2}\\right)} \\kappa\\right)} m J_{m - 1}(\\kappa \\rho) + 4 \\, {\\left({\\left(4 \\, k_{1}^{3} \\cos\\left(h k_{1}\\right)^{5} - 4 \\, k_{1}^{3} \\cos\\left(h k_{1}\\right)^{3} + k_{1}^{3} \\cos\\left(h k_{1}\\right)\\right)} \\kappa J_{m + 1}(\\kappa \\rho) \\sin\\left(h k_{1}\\right) - {\\left(4 \\, k_{1}^{3} \\cos\\left(h k_{1}\\right)^{5} - 4 \\, k_{1}^{3} \\cos\\left(h k_{1}\\right)^{3} + k_{1}^{3} \\cos\\left(h k_{1}\\right)\\right)} \\kappa J_{m - 1}(\\kappa \\rho) \\sin\\left(h k_{1}\\right)\\right)} r_{1} + {\\left({\\left(8 \\, A_{z_{1}} k_{1} \\cos\\left(h k_{1}\\right)^{6} - 12 \\, A_{z_{1}} k_{1} \\cos\\left(h k_{1}\\right)^{4} + 6 \\, A_{z_{1}} k_{1} \\cos\\left(h k_{1}\\right)^{2} - A_{z_{1}} k_{1}\\right)} \\kappa^{3} - {\\left(24 \\, A_{z_{1}} k_{1}^{3} \\cos\\left(h k_{1}\\right)^{6} - 36 \\, A_{z_{1}} k_{1}^{3} \\cos\\left(h k_{1}\\right)^{4} + 14 \\, A_{z_{1}} k_{1}^{3} \\cos\\left(h k_{1}\\right)^{2} - A_{z_{1}} k_{1}^{3}\\right)} \\kappa - {\\left({\\left(8 \\, B_{\\phi_{1}} \\cos\\left(h k_{1}\\right)^{6} - 12 \\, B_{\\phi_{1}} \\cos\\left(h k_{1}\\right)^{4} + 6 \\, B_{\\phi_{1}} \\cos\\left(h k_{1}\\right)^{2} - B_{\\phi_{1}}\\right)} \\kappa^{3} - {\\left(40 \\, B_{\\phi_{1}} k_{1}^{2} \\cos\\left(h k_{1}\\right)^{6} - 60 \\, B_{\\phi_{1}} k_{1}^{2} \\cos\\left(h k_{1}\\right)^{4} + 22 \\, B_{\\phi_{1}} k_{1}^{2} \\cos\\left(h k_{1}\\right)^{2} - B_{\\phi_{1}} k_{1}^{2}\\right)} \\kappa\\right)} m\\right)} J_{m + 1}(\\kappa \\rho) - {\\left({\\left(8 \\, A_{z_{1}} k_{1} \\cos\\left(h k_{1}\\right)^{6} - 12 \\, A_{z_{1}} k_{1} \\cos\\left(h k_{1}\\right)^{4} + 6 \\, A_{z_{1}} k_{1} \\cos\\left(h k_{1}\\right)^{2} - A_{z_{1}} k_{1}\\right)} \\kappa^{3} - {\\left(24 \\, A_{z_{1}} k_{1}^{3} \\cos\\left(h k_{1}\\right)^{6} - 36 \\, A_{z_{1}} k_{1}^{3} \\cos\\left(h k_{1}\\right)^{4} + 14 \\, A_{z_{1}} k_{1}^{3} \\cos\\left(h k_{1}\\right)^{2} - A_{z_{1}} k_{1}^{3}\\right)} \\kappa\\right)} J_{m - 1}(\\kappa \\rho)\\right)} \\rho^{2} + {\\left({\\left(8 \\, B_{\\phi_{1}} \\cos\\left(h k_{1}\\right)^{6} - 12 \\, B_{\\phi_{1}} \\cos\\left(h k_{1}\\right)^{4} + 6 \\, B_{\\phi_{1}} \\cos\\left(h k_{1}\\right)^{2} - B_{\\phi_{1}}\\right)} \\kappa m^{3} J_{m - 1}(\\kappa \\rho) - {\\left(8 \\, A_{z_{1}} k_{1} \\cos\\left(h k_{1}\\right)^{6} - 12 \\, A_{z_{1}} k_{1} \\cos\\left(h k_{1}\\right)^{4} + 6 \\, A_{z_{1}} k_{1} \\cos\\left(h k_{1}\\right)^{2} - A_{z_{1}} k_{1}\\right)} \\kappa m^{2} J_{m - 1}(\\kappa \\rho) + 2 \\, {\\left(40 \\, B_{\\phi_{1}} k_{1}^{2} \\cos\\left(h k_{1}\\right)^{6} - 60 \\, B_{\\phi_{1}} k_{1}^{2} \\cos\\left(h k_{1}\\right)^{4} + 22 \\, B_{\\phi_{1}} k_{1}^{2} \\cos\\left(h k_{1}\\right)^{2} - B_{\\phi_{1}} k_{1}^{2} - {\\left(8 \\, B_{\\phi_{1}} \\cos\\left(h k_{1}\\right)^{6} - 12 \\, B_{\\phi_{1}} \\cos\\left(h k_{1}\\right)^{4} + 6 \\, B_{\\phi_{1}} \\cos\\left(h k_{1}\\right)^{2} - B_{\\phi_{1}}\\right)} \\kappa^{2}\\right)} m J_{m}(\\kappa \\rho) - {\\left({\\left(8 \\, B_{\\phi_{1}} \\cos\\left(h k_{1}\\right)^{6} - 12 \\, B_{\\phi_{1}} \\cos\\left(h k_{1}\\right)^{4} + 6 \\, B_{\\phi_{1}} \\cos\\left(h k_{1}\\right)^{2} - B_{\\phi_{1}}\\right)} \\kappa m^{3} - {\\left(8 \\, A_{z_{1}} k_{1} \\cos\\left(h k_{1}\\right)^{6} - 12 \\, A_{z_{1}} k_{1} \\cos\\left(h k_{1}\\right)^{4} + 6 \\, A_{z_{1}} k_{1} \\cos\\left(h k_{1}\\right)^{2} - A_{z_{1}} k_{1}\\right)} \\kappa m^{2}\\right)} J_{m + 1}(\\kappa \\rho)\\right)} \\rho\\right)} \\sin\\left(k_{1} z\\right)^{3}}\\right]$$"
      ],
      "text/plain": [
       "<IPython.core.display.Math object>"
      ]
     },
     "metadata": {},
     "output_type": "display_data"
    },
    {
     "name": "stdout",
     "output_type": "stream",
     "text": [
      "\n",
      "var =\n"
     ]
    },
    {
     "data": {
      "text/latex": [
       "$$B_{\\phi_{1}}$$"
      ],
      "text/plain": [
       "<IPython.core.display.Math object>"
      ]
     },
     "metadata": {},
     "output_type": "display_data"
    },
    {
     "name": "stdout",
     "output_type": "stream",
     "text": [
      "\n",
      "sol=\n"
     ]
    },
    {
     "data": {
      "text/latex": [
       "$$\\left[B_{\\phi_{1}} = -\\frac{2 \\, {\\left(2 \\, {\\left({\\left(2 \\, B_{r_{1}} k_{1} \\cos\\left(h k_{1}\\right)^{6} - 3 \\, B_{r_{1}} k_{1} \\cos\\left(h k_{1}\\right)^{4} + B_{r_{1}} k_{1} \\cos\\left(h k_{1}\\right)^{2}\\right)} \\kappa m^{2} J_{m + 1}(\\kappa \\rho) - {\\left(2 \\, B_{r_{1}} k_{1} \\cos\\left(h k_{1}\\right)^{6} - 3 \\, B_{r_{1}} k_{1} \\cos\\left(h k_{1}\\right)^{4} + B_{r_{1}} k_{1} \\cos\\left(h k_{1}\\right)^{2}\\right)} \\kappa m^{2} J_{m - 1}(\\kappa \\rho)\\right)} r_{1} \\rho + {\\left(2 \\, {\\left(4 \\, {\\left(A_{z_{1}} B_{r_{1}} - A_{z_{1}}\\right)} k_{1}^{3} \\cos\\left(h k_{1}\\right)^{5} - 4 \\, {\\left(A_{z_{1}} B_{r_{1}} - A_{z_{1}}\\right)} k_{1}^{3} \\cos\\left(h k_{1}\\right)^{3} + {\\left(A_{z_{1}} B_{r_{1}} - A_{z_{1}}\\right)} k_{1}^{3} \\cos\\left(h k_{1}\\right)\\right)} \\kappa J_{m + 1}(\\kappa \\rho) \\sin\\left(h k_{1}\\right) - 2 \\, {\\left(4 \\, {\\left(A_{z_{1}} B_{r_{1}} - A_{z_{1}}\\right)} k_{1}^{3} \\cos\\left(h k_{1}\\right)^{5} - 4 \\, {\\left(A_{z_{1}} B_{r_{1}} - A_{z_{1}}\\right)} k_{1}^{3} \\cos\\left(h k_{1}\\right)^{3} + {\\left(A_{z_{1}} B_{r_{1}} - A_{z_{1}}\\right)} k_{1}^{3} \\cos\\left(h k_{1}\\right)\\right)} \\kappa J_{m - 1}(\\kappa \\rho) \\sin\\left(h k_{1}\\right) - {\\left({\\left(2 \\, {\\left(2 \\, B_{r_{1}} k_{1} \\cos\\left(h k_{1}\\right)^{6} - 3 \\, B_{r_{1}} k_{1} \\cos\\left(h k_{1}\\right)^{4} + B_{r_{1}} k_{1} \\cos\\left(h k_{1}\\right)^{2}\\right)} \\kappa^{3} - {\\left(12 \\, {\\left(B_{r_{1}} - 1\\right)} k_{1}^{3} \\cos\\left(h k_{1}\\right)^{6} - 18 \\, {\\left(B_{r_{1}} - 1\\right)} k_{1}^{3} \\cos\\left(h k_{1}\\right)^{4} + 8 \\, {\\left(B_{r_{1}} - 1\\right)} k_{1}^{3} \\cos\\left(h k_{1}\\right)^{2} - {\\left(B_{r_{1}} - 1\\right)} k_{1}^{3}\\right)} \\kappa\\right)} J_{m + 1}(\\kappa \\rho) - {\\left(2 \\, {\\left(2 \\, B_{r_{1}} k_{1} \\cos\\left(h k_{1}\\right)^{6} - 3 \\, B_{r_{1}} k_{1} \\cos\\left(h k_{1}\\right)^{4} + B_{r_{1}} k_{1} \\cos\\left(h k_{1}\\right)^{2}\\right)} \\kappa^{3} - {\\left(12 \\, {\\left(B_{r_{1}} - 1\\right)} k_{1}^{3} \\cos\\left(h k_{1}\\right)^{6} - 18 \\, {\\left(B_{r_{1}} - 1\\right)} k_{1}^{3} \\cos\\left(h k_{1}\\right)^{4} + 8 \\, {\\left(B_{r_{1}} - 1\\right)} k_{1}^{3} \\cos\\left(h k_{1}\\right)^{2} - {\\left(B_{r_{1}} - 1\\right)} k_{1}^{3}\\right)} \\kappa\\right)} J_{m - 1}(\\kappa \\rho)\\right)} r_{1}\\right)} \\rho^{2}\\right)} \\cos\\left(k_{1} z\\right)^{3} - 4 \\, {\\left({\\left({\\left({\\left({\\left(4 \\, B_{r_{1}} k_{1} \\cos\\left(h k_{1}\\right)^{5} - 4 \\, B_{r_{1}} k_{1} \\cos\\left(h k_{1}\\right)^{3} + B_{r_{1}} k_{1} \\cos\\left(h k_{1}\\right)\\right)} \\kappa^{3} \\sin\\left(h k_{1}\\right) - 4 \\, {\\left(4 \\, {\\left(B_{r_{1}} - 1\\right)} k_{1}^{3} \\cos\\left(h k_{1}\\right)^{5} - 4 \\, {\\left(B_{r_{1}} - 1\\right)} k_{1}^{3} \\cos\\left(h k_{1}\\right)^{3} + {\\left(B_{r_{1}} - 1\\right)} k_{1}^{3} \\cos\\left(h k_{1}\\right)\\right)} \\kappa \\sin\\left(h k_{1}\\right)\\right)} J_{m + 1}(\\kappa \\rho) - {\\left({\\left(4 \\, B_{r_{1}} k_{1} \\cos\\left(h k_{1}\\right)^{5} - 4 \\, B_{r_{1}} k_{1} \\cos\\left(h k_{1}\\right)^{3} + B_{r_{1}} k_{1} \\cos\\left(h k_{1}\\right)\\right)} \\kappa^{3} \\sin\\left(h k_{1}\\right) - 4 \\, {\\left(4 \\, {\\left(B_{r_{1}} - 1\\right)} k_{1}^{3} \\cos\\left(h k_{1}\\right)^{5} - 4 \\, {\\left(B_{r_{1}} - 1\\right)} k_{1}^{3} \\cos\\left(h k_{1}\\right)^{3} + {\\left(B_{r_{1}} - 1\\right)} k_{1}^{3} \\cos\\left(h k_{1}\\right)\\right)} \\kappa \\sin\\left(h k_{1}\\right)\\right)} J_{m - 1}(\\kappa \\rho)\\right)} r_{1} - {\\left({\\left(2 \\, A_{z_{1}} B_{r_{1}} k_{1} \\cos\\left(h k_{1}\\right)^{6} - 3 \\, A_{z_{1}} B_{r_{1}} k_{1} \\cos\\left(h k_{1}\\right)^{4} + A_{z_{1}} B_{r_{1}} k_{1} \\cos\\left(h k_{1}\\right)^{2}\\right)} \\kappa^{3} - {\\left(14 \\, {\\left(A_{z_{1}} B_{r_{1}} - A_{z_{1}}\\right)} k_{1}^{3} \\cos\\left(h k_{1}\\right)^{6} - 21 \\, {\\left(A_{z_{1}} B_{r_{1}} - A_{z_{1}}\\right)} k_{1}^{3} \\cos\\left(h k_{1}\\right)^{4} + 9 \\, {\\left(A_{z_{1}} B_{r_{1}} - A_{z_{1}}\\right)} k_{1}^{3} \\cos\\left(h k_{1}\\right)^{2} - {\\left(A_{z_{1}} B_{r_{1}} - A_{z_{1}}\\right)} k_{1}^{3}\\right)} \\kappa\\right)} J_{m + 1}(\\kappa \\rho) + {\\left({\\left(2 \\, A_{z_{1}} B_{r_{1}} k_{1} \\cos\\left(h k_{1}\\right)^{6} - 3 \\, A_{z_{1}} B_{r_{1}} k_{1} \\cos\\left(h k_{1}\\right)^{4} + A_{z_{1}} B_{r_{1}} k_{1} \\cos\\left(h k_{1}\\right)^{2}\\right)} \\kappa^{3} - {\\left(14 \\, {\\left(A_{z_{1}} B_{r_{1}} - A_{z_{1}}\\right)} k_{1}^{3} \\cos\\left(h k_{1}\\right)^{6} - 21 \\, {\\left(A_{z_{1}} B_{r_{1}} - A_{z_{1}}\\right)} k_{1}^{3} \\cos\\left(h k_{1}\\right)^{4} + 9 \\, {\\left(A_{z_{1}} B_{r_{1}} - A_{z_{1}}\\right)} k_{1}^{3} \\cos\\left(h k_{1}\\right)^{2} - {\\left(A_{z_{1}} B_{r_{1}} - A_{z_{1}}\\right)} k_{1}^{3}\\right)} \\kappa\\right)} J_{m - 1}(\\kappa \\rho)\\right)} \\rho^{2} + {\\left({\\left(2 \\, A_{z_{1}} B_{r_{1}} k_{1} \\cos\\left(h k_{1}\\right)^{6} - 3 \\, A_{z_{1}} B_{r_{1}} k_{1} \\cos\\left(h k_{1}\\right)^{4} + A_{z_{1}} B_{r_{1}} k_{1} \\cos\\left(h k_{1}\\right)^{2}\\right)} \\kappa m^{2} J_{m + 1}(\\kappa \\rho) - {\\left(2 \\, A_{z_{1}} B_{r_{1}} k_{1} \\cos\\left(h k_{1}\\right)^{6} - 3 \\, A_{z_{1}} B_{r_{1}} k_{1} \\cos\\left(h k_{1}\\right)^{4} + A_{z_{1}} B_{r_{1}} k_{1} \\cos\\left(h k_{1}\\right)^{2}\\right)} \\kappa m^{2} J_{m - 1}(\\kappa \\rho) - {\\left({\\left(4 \\, B_{r_{1}} k_{1} \\cos\\left(h k_{1}\\right)^{5} - 4 \\, B_{r_{1}} k_{1} \\cos\\left(h k_{1}\\right)^{3} + B_{r_{1}} k_{1} \\cos\\left(h k_{1}\\right)\\right)} \\kappa m^{2} J_{m + 1}(\\kappa \\rho) \\sin\\left(h k_{1}\\right) - {\\left(4 \\, B_{r_{1}} k_{1} \\cos\\left(h k_{1}\\right)^{5} - 4 \\, B_{r_{1}} k_{1} \\cos\\left(h k_{1}\\right)^{3} + B_{r_{1}} k_{1} \\cos\\left(h k_{1}\\right)\\right)} \\kappa m^{2} J_{m - 1}(\\kappa \\rho) \\sin\\left(h k_{1}\\right)\\right)} r_{1}\\right)} \\rho\\right)} \\cos\\left(k_{1} z\\right)^{2} \\sin\\left(k_{1} z\\right) + {\\left({\\left({\\left({\\left({\\left(8 \\, B_{r_{1}} k_{1} \\cos\\left(h k_{1}\\right)^{6} - 12 \\, B_{r_{1}} k_{1} \\cos\\left(h k_{1}\\right)^{4} + 6 \\, B_{r_{1}} k_{1} \\cos\\left(h k_{1}\\right)^{2} - B_{r_{1}} k_{1}\\right)} \\kappa^{3} - {\\left(56 \\, {\\left(B_{r_{1}} - 1\\right)} k_{1}^{3} \\cos\\left(h k_{1}\\right)^{6} - 84 \\, {\\left(B_{r_{1}} - 1\\right)} k_{1}^{3} \\cos\\left(h k_{1}\\right)^{4} + 34 \\, {\\left(B_{r_{1}} - 1\\right)} k_{1}^{3} \\cos\\left(h k_{1}\\right)^{2} - 3 \\, {\\left(B_{r_{1}} - 1\\right)} k_{1}^{3}\\right)} \\kappa\\right)} J_{m + 1}(\\kappa \\rho) - {\\left({\\left(8 \\, B_{r_{1}} k_{1} \\cos\\left(h k_{1}\\right)^{6} - 12 \\, B_{r_{1}} k_{1} \\cos\\left(h k_{1}\\right)^{4} + 6 \\, B_{r_{1}} k_{1} \\cos\\left(h k_{1}\\right)^{2} - B_{r_{1}} k_{1}\\right)} \\kappa^{3} - {\\left(56 \\, {\\left(B_{r_{1}} - 1\\right)} k_{1}^{3} \\cos\\left(h k_{1}\\right)^{6} - 84 \\, {\\left(B_{r_{1}} - 1\\right)} k_{1}^{3} \\cos\\left(h k_{1}\\right)^{4} + 34 \\, {\\left(B_{r_{1}} - 1\\right)} k_{1}^{3} \\cos\\left(h k_{1}\\right)^{2} - 3 \\, {\\left(B_{r_{1}} - 1\\right)} k_{1}^{3}\\right)} \\kappa\\right)} J_{m - 1}(\\kappa \\rho)\\right)} r_{1} + 4 \\, {\\left({\\left(4 \\, A_{z_{1}} B_{r_{1}} k_{1} \\cos\\left(h k_{1}\\right)^{5} - 4 \\, A_{z_{1}} B_{r_{1}} k_{1} \\cos\\left(h k_{1}\\right)^{3} + A_{z_{1}} B_{r_{1}} k_{1} \\cos\\left(h k_{1}\\right)\\right)} \\kappa^{3} \\sin\\left(h k_{1}\\right) - 4 \\, {\\left(4 \\, {\\left(A_{z_{1}} B_{r_{1}} - A_{z_{1}}\\right)} k_{1}^{3} \\cos\\left(h k_{1}\\right)^{5} - 4 \\, {\\left(A_{z_{1}} B_{r_{1}} - A_{z_{1}}\\right)} k_{1}^{3} \\cos\\left(h k_{1}\\right)^{3} + {\\left(A_{z_{1}} B_{r_{1}} - A_{z_{1}}\\right)} k_{1}^{3} \\cos\\left(h k_{1}\\right)\\right)} \\kappa \\sin\\left(h k_{1}\\right)\\right)} J_{m + 1}(\\kappa \\rho) - 4 \\, {\\left({\\left(4 \\, A_{z_{1}} B_{r_{1}} k_{1} \\cos\\left(h k_{1}\\right)^{5} - 4 \\, A_{z_{1}} B_{r_{1}} k_{1} \\cos\\left(h k_{1}\\right)^{3} + A_{z_{1}} B_{r_{1}} k_{1} \\cos\\left(h k_{1}\\right)\\right)} \\kappa^{3} \\sin\\left(h k_{1}\\right) - 4 \\, {\\left(4 \\, {\\left(A_{z_{1}} B_{r_{1}} - A_{z_{1}}\\right)} k_{1}^{3} \\cos\\left(h k_{1}\\right)^{5} - 4 \\, {\\left(A_{z_{1}} B_{r_{1}} - A_{z_{1}}\\right)} k_{1}^{3} \\cos\\left(h k_{1}\\right)^{3} + {\\left(A_{z_{1}} B_{r_{1}} - A_{z_{1}}\\right)} k_{1}^{3} \\cos\\left(h k_{1}\\right)\\right)} \\kappa \\sin\\left(h k_{1}\\right)\\right)} J_{m - 1}(\\kappa \\rho)\\right)} \\rho^{2} - {\\left(4 \\, {\\left(4 \\, A_{z_{1}} B_{r_{1}} k_{1} \\cos\\left(h k_{1}\\right)^{5} - 4 \\, A_{z_{1}} B_{r_{1}} k_{1} \\cos\\left(h k_{1}\\right)^{3} + A_{z_{1}} B_{r_{1}} k_{1} \\cos\\left(h k_{1}\\right)\\right)} \\kappa m^{2} J_{m + 1}(\\kappa \\rho) \\sin\\left(h k_{1}\\right) - 4 \\, {\\left(4 \\, A_{z_{1}} B_{r_{1}} k_{1} \\cos\\left(h k_{1}\\right)^{5} - 4 \\, A_{z_{1}} B_{r_{1}} k_{1} \\cos\\left(h k_{1}\\right)^{3} + A_{z_{1}} B_{r_{1}} k_{1} \\cos\\left(h k_{1}\\right)\\right)} \\kappa m^{2} J_{m - 1}(\\kappa \\rho) \\sin\\left(h k_{1}\\right) + {\\left({\\left(8 \\, B_{r_{1}} k_{1} \\cos\\left(h k_{1}\\right)^{6} - 12 \\, B_{r_{1}} k_{1} \\cos\\left(h k_{1}\\right)^{4} + 6 \\, B_{r_{1}} k_{1} \\cos\\left(h k_{1}\\right)^{2} - B_{r_{1}} k_{1}\\right)} \\kappa m^{2} J_{m + 1}(\\kappa \\rho) - {\\left(8 \\, B_{r_{1}} k_{1} \\cos\\left(h k_{1}\\right)^{6} - 12 \\, B_{r_{1}} k_{1} \\cos\\left(h k_{1}\\right)^{4} + 6 \\, B_{r_{1}} k_{1} \\cos\\left(h k_{1}\\right)^{2} - B_{r_{1}} k_{1}\\right)} \\kappa m^{2} J_{m - 1}(\\kappa \\rho)\\right)} r_{1}\\right)} \\rho\\right)} \\cos\\left(k_{1} z\\right) \\sin\\left(k_{1} z\\right)^{2} - {\\left({\\left(4 \\, {\\left({\\left(4 \\, {\\left(B_{r_{1}} - 1\\right)} k_{1}^{3} \\cos\\left(h k_{1}\\right)^{5} - 4 \\, {\\left(B_{r_{1}} - 1\\right)} k_{1}^{3} \\cos\\left(h k_{1}\\right)^{3} + {\\left(B_{r_{1}} - 1\\right)} k_{1}^{3} \\cos\\left(h k_{1}\\right)\\right)} \\kappa J_{m + 1}(\\kappa \\rho) \\sin\\left(h k_{1}\\right) - {\\left(4 \\, {\\left(B_{r_{1}} - 1\\right)} k_{1}^{3} \\cos\\left(h k_{1}\\right)^{5} - 4 \\, {\\left(B_{r_{1}} - 1\\right)} k_{1}^{3} \\cos\\left(h k_{1}\\right)^{3} + {\\left(B_{r_{1}} - 1\\right)} k_{1}^{3} \\cos\\left(h k_{1}\\right)\\right)} \\kappa J_{m - 1}(\\kappa \\rho) \\sin\\left(h k_{1}\\right)\\right)} r_{1} + {\\left({\\left(8 \\, A_{z_{1}} B_{r_{1}} k_{1} \\cos\\left(h k_{1}\\right)^{6} - 12 \\, A_{z_{1}} B_{r_{1}} k_{1} \\cos\\left(h k_{1}\\right)^{4} + 6 \\, A_{z_{1}} B_{r_{1}} k_{1} \\cos\\left(h k_{1}\\right)^{2} - A_{z_{1}} B_{r_{1}} k_{1}\\right)} \\kappa^{3} - {\\left(24 \\, {\\left(A_{z_{1}} B_{r_{1}} - A_{z_{1}}\\right)} k_{1}^{3} \\cos\\left(h k_{1}\\right)^{6} - 36 \\, {\\left(A_{z_{1}} B_{r_{1}} - A_{z_{1}}\\right)} k_{1}^{3} \\cos\\left(h k_{1}\\right)^{4} + 14 \\, {\\left(A_{z_{1}} B_{r_{1}} - A_{z_{1}}\\right)} k_{1}^{3} \\cos\\left(h k_{1}\\right)^{2} - {\\left(A_{z_{1}} B_{r_{1}} - A_{z_{1}}\\right)} k_{1}^{3}\\right)} \\kappa\\right)} J_{m + 1}(\\kappa \\rho) - {\\left({\\left(8 \\, A_{z_{1}} B_{r_{1}} k_{1} \\cos\\left(h k_{1}\\right)^{6} - 12 \\, A_{z_{1}} B_{r_{1}} k_{1} \\cos\\left(h k_{1}\\right)^{4} + 6 \\, A_{z_{1}} B_{r_{1}} k_{1} \\cos\\left(h k_{1}\\right)^{2} - A_{z_{1}} B_{r_{1}} k_{1}\\right)} \\kappa^{3} - {\\left(24 \\, {\\left(A_{z_{1}} B_{r_{1}} - A_{z_{1}}\\right)} k_{1}^{3} \\cos\\left(h k_{1}\\right)^{6} - 36 \\, {\\left(A_{z_{1}} B_{r_{1}} - A_{z_{1}}\\right)} k_{1}^{3} \\cos\\left(h k_{1}\\right)^{4} + 14 \\, {\\left(A_{z_{1}} B_{r_{1}} - A_{z_{1}}\\right)} k_{1}^{3} \\cos\\left(h k_{1}\\right)^{2} - {\\left(A_{z_{1}} B_{r_{1}} - A_{z_{1}}\\right)} k_{1}^{3}\\right)} \\kappa\\right)} J_{m - 1}(\\kappa \\rho)\\right)} \\rho^{2} - {\\left({\\left(8 \\, A_{z_{1}} B_{r_{1}} k_{1} \\cos\\left(h k_{1}\\right)^{6} - 12 \\, A_{z_{1}} B_{r_{1}} k_{1} \\cos\\left(h k_{1}\\right)^{4} + 6 \\, A_{z_{1}} B_{r_{1}} k_{1} \\cos\\left(h k_{1}\\right)^{2} - A_{z_{1}} B_{r_{1}} k_{1}\\right)} \\kappa m^{2} J_{m + 1}(\\kappa \\rho) - {\\left(8 \\, A_{z_{1}} B_{r_{1}} k_{1} \\cos\\left(h k_{1}\\right)^{6} - 12 \\, A_{z_{1}} B_{r_{1}} k_{1} \\cos\\left(h k_{1}\\right)^{4} + 6 \\, A_{z_{1}} B_{r_{1}} k_{1} \\cos\\left(h k_{1}\\right)^{2} - A_{z_{1}} B_{r_{1}} k_{1}\\right)} \\kappa m^{2} J_{m - 1}(\\kappa \\rho)\\right)} \\rho\\right)} \\sin\\left(k_{1} z\\right)^{3}}{8 \\, {\\left(2 \\, {\\left(B_{r_{1}} \\cos\\left(h k_{1}\\right)^{5} - B_{r_{1}} \\cos\\left(h k_{1}\\right)^{3}\\right)} m^{3} J_{m}(\\kappa \\rho) \\sin\\left(h k_{1}\\right) + {\\left({\\left({\\left(B_{r_{1}} \\cos\\left(h k_{1}\\right)^{5} - B_{r_{1}} \\cos\\left(h k_{1}\\right)^{3}\\right)} \\kappa^{3} \\sin\\left(h k_{1}\\right) - {\\left(5 \\, {\\left(B_{r_{1}} - 1\\right)} k_{1}^{2} \\cos\\left(h k_{1}\\right)^{5} - 5 \\, {\\left(B_{r_{1}} - 1\\right)} k_{1}^{2} \\cos\\left(h k_{1}\\right)^{3} + {\\left(B_{r_{1}} - 1\\right)} k_{1}^{2} \\cos\\left(h k_{1}\\right)\\right)} \\kappa \\sin\\left(h k_{1}\\right)\\right)} m J_{m + 1}(\\kappa \\rho) - {\\left({\\left(B_{r_{1}} \\cos\\left(h k_{1}\\right)^{5} - B_{r_{1}} \\cos\\left(h k_{1}\\right)^{3}\\right)} \\kappa^{3} \\sin\\left(h k_{1}\\right) - {\\left(5 \\, {\\left(B_{r_{1}} - 1\\right)} k_{1}^{2} \\cos\\left(h k_{1}\\right)^{5} - 5 \\, {\\left(B_{r_{1}} - 1\\right)} k_{1}^{2} \\cos\\left(h k_{1}\\right)^{3} + {\\left(B_{r_{1}} - 1\\right)} k_{1}^{2} \\cos\\left(h k_{1}\\right)\\right)} \\kappa \\sin\\left(h k_{1}\\right)\\right)} m J_{m - 1}(\\kappa \\rho)\\right)} \\rho^{2} - {\\left({\\left(B_{r_{1}} \\cos\\left(h k_{1}\\right)^{5} - B_{r_{1}} \\cos\\left(h k_{1}\\right)^{3}\\right)} \\kappa m^{3} J_{m + 1}(\\kappa \\rho) \\sin\\left(h k_{1}\\right) - {\\left(B_{r_{1}} \\cos\\left(h k_{1}\\right)^{5} - B_{r_{1}} \\cos\\left(h k_{1}\\right)^{3}\\right)} \\kappa m^{3} J_{m - 1}(\\kappa \\rho) \\sin\\left(h k_{1}\\right) + 2 \\, {\\left({\\left(B_{r_{1}} \\cos\\left(h k_{1}\\right)^{5} - B_{r_{1}} \\cos\\left(h k_{1}\\right)^{3}\\right)} \\kappa^{2} \\sin\\left(h k_{1}\\right) - {\\left(5 \\, {\\left(B_{r_{1}} - 1\\right)} k_{1}^{2} \\cos\\left(h k_{1}\\right)^{5} - 5 \\, {\\left(B_{r_{1}} - 1\\right)} k_{1}^{2} \\cos\\left(h k_{1}\\right)^{3} + {\\left(B_{r_{1}} - 1\\right)} k_{1}^{2} \\cos\\left(h k_{1}\\right)\\right)} \\sin\\left(h k_{1}\\right)\\right)} m J_{m}(\\kappa \\rho)\\right)} \\rho\\right)} \\cos\\left(k_{1} z\\right)^{3} - 4 \\, {\\left(6 \\, {\\left(2 \\, B_{r_{1}} \\cos\\left(h k_{1}\\right)^{6} - 3 \\, B_{r_{1}} \\cos\\left(h k_{1}\\right)^{4} + B_{r_{1}} \\cos\\left(h k_{1}\\right)^{2}\\right)} m^{3} J_{m}(\\kappa \\rho) + {\\left({\\left(3 \\, {\\left(2 \\, B_{r_{1}} \\cos\\left(h k_{1}\\right)^{6} - 3 \\, B_{r_{1}} \\cos\\left(h k_{1}\\right)^{4} + B_{r_{1}} \\cos\\left(h k_{1}\\right)^{2}\\right)} \\kappa^{3} - {\\left(30 \\, {\\left(B_{r_{1}} - 1\\right)} k_{1}^{2} \\cos\\left(h k_{1}\\right)^{6} - 45 \\, {\\left(B_{r_{1}} - 1\\right)} k_{1}^{2} \\cos\\left(h k_{1}\\right)^{4} + 17 \\, {\\left(B_{r_{1}} - 1\\right)} k_{1}^{2} \\cos\\left(h k_{1}\\right)^{2} - {\\left(B_{r_{1}} - 1\\right)} k_{1}^{2}\\right)} \\kappa\\right)} m J_{m + 1}(\\kappa \\rho) - {\\left(3 \\, {\\left(2 \\, B_{r_{1}} \\cos\\left(h k_{1}\\right)^{6} - 3 \\, B_{r_{1}} \\cos\\left(h k_{1}\\right)^{4} + B_{r_{1}} \\cos\\left(h k_{1}\\right)^{2}\\right)} \\kappa^{3} - {\\left(30 \\, {\\left(B_{r_{1}} - 1\\right)} k_{1}^{2} \\cos\\left(h k_{1}\\right)^{6} - 45 \\, {\\left(B_{r_{1}} - 1\\right)} k_{1}^{2} \\cos\\left(h k_{1}\\right)^{4} + 17 \\, {\\left(B_{r_{1}} - 1\\right)} k_{1}^{2} \\cos\\left(h k_{1}\\right)^{2} - {\\left(B_{r_{1}} - 1\\right)} k_{1}^{2}\\right)} \\kappa\\right)} m J_{m - 1}(\\kappa \\rho)\\right)} \\rho^{2} - {\\left(3 \\, {\\left(2 \\, B_{r_{1}} \\cos\\left(h k_{1}\\right)^{6} - 3 \\, B_{r_{1}} \\cos\\left(h k_{1}\\right)^{4} + B_{r_{1}} \\cos\\left(h k_{1}\\right)^{2}\\right)} \\kappa m^{3} J_{m + 1}(\\kappa \\rho) - 3 \\, {\\left(2 \\, B_{r_{1}} \\cos\\left(h k_{1}\\right)^{6} - 3 \\, B_{r_{1}} \\cos\\left(h k_{1}\\right)^{4} + B_{r_{1}} \\cos\\left(h k_{1}\\right)^{2}\\right)} \\kappa m^{3} J_{m - 1}(\\kappa \\rho) - 2 \\, {\\left(30 \\, {\\left(B_{r_{1}} - 1\\right)} k_{1}^{2} \\cos\\left(h k_{1}\\right)^{6} - 45 \\, {\\left(B_{r_{1}} - 1\\right)} k_{1}^{2} \\cos\\left(h k_{1}\\right)^{4} + 17 \\, {\\left(B_{r_{1}} - 1\\right)} k_{1}^{2} \\cos\\left(h k_{1}\\right)^{2} - {\\left(B_{r_{1}} - 1\\right)} k_{1}^{2} - 3 \\, {\\left(2 \\, B_{r_{1}} \\cos\\left(h k_{1}\\right)^{6} - 3 \\, B_{r_{1}} \\cos\\left(h k_{1}\\right)^{4} + B_{r_{1}} \\cos\\left(h k_{1}\\right)^{2}\\right)} \\kappa^{2}\\right)} m J_{m}(\\kappa \\rho)\\right)} \\rho\\right)} \\cos\\left(k_{1} z\\right)^{2} \\sin\\left(k_{1} z\\right) - 2 \\, {\\left(6 \\, {\\left(4 \\, B_{r_{1}} \\cos\\left(h k_{1}\\right)^{5} - 4 \\, B_{r_{1}} \\cos\\left(h k_{1}\\right)^{3} + B_{r_{1}} \\cos\\left(h k_{1}\\right)\\right)} m^{3} J_{m}(\\kappa \\rho) \\sin\\left(h k_{1}\\right) + {\\left({\\left(3 \\, {\\left(4 \\, B_{r_{1}} \\cos\\left(h k_{1}\\right)^{5} - 4 \\, B_{r_{1}} \\cos\\left(h k_{1}\\right)^{3} + B_{r_{1}} \\cos\\left(h k_{1}\\right)\\right)} \\kappa^{3} \\sin\\left(h k_{1}\\right) - {\\left(60 \\, {\\left(B_{r_{1}} - 1\\right)} k_{1}^{2} \\cos\\left(h k_{1}\\right)^{5} - 60 \\, {\\left(B_{r_{1}} - 1\\right)} k_{1}^{2} \\cos\\left(h k_{1}\\right)^{3} + 11 \\, {\\left(B_{r_{1}} - 1\\right)} k_{1}^{2} \\cos\\left(h k_{1}\\right)\\right)} \\kappa \\sin\\left(h k_{1}\\right)\\right)} m J_{m + 1}(\\kappa \\rho) - {\\left(3 \\, {\\left(4 \\, B_{r_{1}} \\cos\\left(h k_{1}\\right)^{5} - 4 \\, B_{r_{1}} \\cos\\left(h k_{1}\\right)^{3} + B_{r_{1}} \\cos\\left(h k_{1}\\right)\\right)} \\kappa^{3} \\sin\\left(h k_{1}\\right) - {\\left(60 \\, {\\left(B_{r_{1}} - 1\\right)} k_{1}^{2} \\cos\\left(h k_{1}\\right)^{5} - 60 \\, {\\left(B_{r_{1}} - 1\\right)} k_{1}^{2} \\cos\\left(h k_{1}\\right)^{3} + 11 \\, {\\left(B_{r_{1}} - 1\\right)} k_{1}^{2} \\cos\\left(h k_{1}\\right)\\right)} \\kappa \\sin\\left(h k_{1}\\right)\\right)} m J_{m - 1}(\\kappa \\rho)\\right)} \\rho^{2} - {\\left(3 \\, {\\left(4 \\, B_{r_{1}} \\cos\\left(h k_{1}\\right)^{5} - 4 \\, B_{r_{1}} \\cos\\left(h k_{1}\\right)^{3} + B_{r_{1}} \\cos\\left(h k_{1}\\right)\\right)} \\kappa m^{3} J_{m + 1}(\\kappa \\rho) \\sin\\left(h k_{1}\\right) - 3 \\, {\\left(4 \\, B_{r_{1}} \\cos\\left(h k_{1}\\right)^{5} - 4 \\, B_{r_{1}} \\cos\\left(h k_{1}\\right)^{3} + B_{r_{1}} \\cos\\left(h k_{1}\\right)\\right)} \\kappa m^{3} J_{m - 1}(\\kappa \\rho) \\sin\\left(h k_{1}\\right) + 2 \\, {\\left(3 \\, {\\left(4 \\, B_{r_{1}} \\cos\\left(h k_{1}\\right)^{5} - 4 \\, B_{r_{1}} \\cos\\left(h k_{1}\\right)^{3} + B_{r_{1}} \\cos\\left(h k_{1}\\right)\\right)} \\kappa^{2} \\sin\\left(h k_{1}\\right) - {\\left(60 \\, {\\left(B_{r_{1}} - 1\\right)} k_{1}^{2} \\cos\\left(h k_{1}\\right)^{5} - 60 \\, {\\left(B_{r_{1}} - 1\\right)} k_{1}^{2} \\cos\\left(h k_{1}\\right)^{3} + 11 \\, {\\left(B_{r_{1}} - 1\\right)} k_{1}^{2} \\cos\\left(h k_{1}\\right)\\right)} \\sin\\left(h k_{1}\\right)\\right)} m J_{m}(\\kappa \\rho)\\right)} \\rho\\right)} \\cos\\left(k_{1} z\\right) \\sin\\left(k_{1} z\\right)^{2} + {\\left(2 \\, {\\left(8 \\, B_{r_{1}} \\cos\\left(h k_{1}\\right)^{6} - 12 \\, B_{r_{1}} \\cos\\left(h k_{1}\\right)^{4} + 6 \\, B_{r_{1}} \\cos\\left(h k_{1}\\right)^{2} - B_{r_{1}}\\right)} m^{3} J_{m}(\\kappa \\rho) + {\\left({\\left({\\left(8 \\, B_{r_{1}} \\cos\\left(h k_{1}\\right)^{6} - 12 \\, B_{r_{1}} \\cos\\left(h k_{1}\\right)^{4} + 6 \\, B_{r_{1}} \\cos\\left(h k_{1}\\right)^{2} - B_{r_{1}}\\right)} \\kappa^{3} - {\\left(40 \\, {\\left(B_{r_{1}} - 1\\right)} k_{1}^{2} \\cos\\left(h k_{1}\\right)^{6} - 60 \\, {\\left(B_{r_{1}} - 1\\right)} k_{1}^{2} \\cos\\left(h k_{1}\\right)^{4} + 22 \\, {\\left(B_{r_{1}} - 1\\right)} k_{1}^{2} \\cos\\left(h k_{1}\\right)^{2} - {\\left(B_{r_{1}} - 1\\right)} k_{1}^{2}\\right)} \\kappa\\right)} m J_{m + 1}(\\kappa \\rho) - {\\left({\\left(8 \\, B_{r_{1}} \\cos\\left(h k_{1}\\right)^{6} - 12 \\, B_{r_{1}} \\cos\\left(h k_{1}\\right)^{4} + 6 \\, B_{r_{1}} \\cos\\left(h k_{1}\\right)^{2} - B_{r_{1}}\\right)} \\kappa^{3} - {\\left(40 \\, {\\left(B_{r_{1}} - 1\\right)} k_{1}^{2} \\cos\\left(h k_{1}\\right)^{6} - 60 \\, {\\left(B_{r_{1}} - 1\\right)} k_{1}^{2} \\cos\\left(h k_{1}\\right)^{4} + 22 \\, {\\left(B_{r_{1}} - 1\\right)} k_{1}^{2} \\cos\\left(h k_{1}\\right)^{2} - {\\left(B_{r_{1}} - 1\\right)} k_{1}^{2}\\right)} \\kappa\\right)} m J_{m - 1}(\\kappa \\rho)\\right)} \\rho^{2} - {\\left({\\left(8 \\, B_{r_{1}} \\cos\\left(h k_{1}\\right)^{6} - 12 \\, B_{r_{1}} \\cos\\left(h k_{1}\\right)^{4} + 6 \\, B_{r_{1}} \\cos\\left(h k_{1}\\right)^{2} - B_{r_{1}}\\right)} \\kappa m^{3} J_{m + 1}(\\kappa \\rho) - {\\left(8 \\, B_{r_{1}} \\cos\\left(h k_{1}\\right)^{6} - 12 \\, B_{r_{1}} \\cos\\left(h k_{1}\\right)^{4} + 6 \\, B_{r_{1}} \\cos\\left(h k_{1}\\right)^{2} - B_{r_{1}}\\right)} \\kappa m^{3} J_{m - 1}(\\kappa \\rho) - 2 \\, {\\left(40 \\, {\\left(B_{r_{1}} - 1\\right)} k_{1}^{2} \\cos\\left(h k_{1}\\right)^{6} - 60 \\, {\\left(B_{r_{1}} - 1\\right)} k_{1}^{2} \\cos\\left(h k_{1}\\right)^{4} + 22 \\, {\\left(B_{r_{1}} - 1\\right)} k_{1}^{2} \\cos\\left(h k_{1}\\right)^{2} - {\\left(B_{r_{1}} - 1\\right)} k_{1}^{2} - {\\left(8 \\, B_{r_{1}} \\cos\\left(h k_{1}\\right)^{6} - 12 \\, B_{r_{1}} \\cos\\left(h k_{1}\\right)^{4} + 6 \\, B_{r_{1}} \\cos\\left(h k_{1}\\right)^{2} - B_{r_{1}}\\right)} \\kappa^{2}\\right)} m J_{m}(\\kappa \\rho)\\right)} \\rho\\right)} \\sin\\left(k_{1} z\\right)^{3}}\\right]$$"
      ],
      "text/plain": [
       "<IPython.core.display.Math object>"
      ]
     },
     "metadata": {},
     "output_type": "display_data"
    },
    {
     "name": "stdout",
     "output_type": "stream",
     "text": [
      "\n",
      "eq4 =\n"
     ]
    },
    {
     "data": {
      "text/latex": [
       "$$\\frac{{\\left(2 \\, {\\left(2 \\, B_{r_{1}} B_{z_{1}} k_{1} \\sin\\left(h k_{1}\\right)^{2} - B_{r_{1}} B_{z_{1}} k_{1}\\right)} m^{5} J_{m}(\\kappa \\rho) + {\\left(B_{\\phi_{1}} B_{r_{1}} \\kappa^{6} J_{m + 2}(\\kappa \\rho) \\cos\\left(h k_{1}\\right) \\sin\\left(h k_{1}\\right) + B_{\\phi_{1}} B_{r_{1}} \\kappa^{6} J_{m - 2}(\\kappa \\rho) \\cos\\left(h k_{1}\\right) \\sin\\left(h k_{1}\\right) - 2 \\, B_{\\phi_{1}} B_{r_{1}} \\kappa^{6} J_{m}(\\kappa \\rho) \\cos\\left(h k_{1}\\right) \\sin\\left(h k_{1}\\right)\\right)} \\rho^{4} - {\\left(4 \\, B_{\\phi_{1}} B_{r_{1}} \\kappa^{5} J_{m + 1}(\\kappa \\rho) \\cos\\left(h k_{1}\\right) \\sin\\left(h k_{1}\\right) - 4 \\, B_{\\phi_{1}} B_{r_{1}} \\kappa^{5} J_{m - 1}(\\kappa \\rho) \\cos\\left(h k_{1}\\right) \\sin\\left(h k_{1}\\right) - {\\left(2 \\, B_{r_{1}} B_{z_{1}} k_{1} \\sin\\left(h k_{1}\\right)^{2} - B_{r_{1}} B_{z_{1}} k_{1}\\right)} \\kappa^{4} m J_{m + 2}(\\kappa \\rho) - {\\left(2 \\, B_{r_{1}} B_{z_{1}} k_{1} \\sin\\left(h k_{1}\\right)^{2} - B_{r_{1}} B_{z_{1}} k_{1}\\right)} \\kappa^{4} m J_{m - 2}(\\kappa \\rho) - 2 \\, {\\left(2 \\, B_{\\phi_{1}} B_{r_{1}} \\kappa^{6} \\cos\\left(h k_{1}\\right) \\sin\\left(h k_{1}\\right) - {\\left(2 \\, B_{r_{1}} B_{z_{1}} k_{1} \\sin\\left(h k_{1}\\right)^{2} - B_{r_{1}} B_{z_{1}} k_{1}\\right)} \\kappa^{4} m\\right)} J_{m}(\\kappa \\rho)\\right)} \\rho^{3} - {\\left(B_{\\phi_{1}} B_{r_{1}} \\kappa^{2} m^{4} J_{m - 2}(\\kappa \\rho) \\cos\\left(h k_{1}\\right) \\sin\\left(h k_{1}\\right) + 2 \\, {\\left(B_{\\phi_{1}} B_{r_{1}} + B_{\\phi_{1}}\\right)} \\kappa^{3} m^{2} J_{m - 1}(\\kappa \\rho) \\cos\\left(h k_{1}\\right) \\sin\\left(h k_{1}\\right) + {\\left(2 \\, B_{r_{1}} B_{z_{1}} k_{1} \\sin\\left(h k_{1}\\right)^{2} - B_{r_{1}} B_{z_{1}} k_{1}\\right)} \\kappa^{2} m^{3} J_{m - 2}(\\kappa \\rho) - {\\left(2 \\, {\\left(B_{r_{1}} - 1\\right)} B_{z_{1}} k_{1} \\sin\\left(h k_{1}\\right)^{2} - {\\left(B_{r_{1}} - 1\\right)} B_{z_{1}} k_{1}\\right)} \\kappa^{3} m J_{m - 1}(\\kappa \\rho) + {\\left(B_{\\phi_{1}} B_{r_{1}} \\kappa^{2} m^{4} \\cos\\left(h k_{1}\\right) \\sin\\left(h k_{1}\\right) + {\\left(2 \\, B_{r_{1}} B_{z_{1}} k_{1} \\sin\\left(h k_{1}\\right)^{2} - B_{r_{1}} B_{z_{1}} k_{1}\\right)} \\kappa^{2} m^{3}\\right)} J_{m + 2}(\\kappa \\rho) - {\\left(2 \\, {\\left(B_{\\phi_{1}} B_{r_{1}} + B_{\\phi_{1}}\\right)} \\kappa^{3} m^{2} \\cos\\left(h k_{1}\\right) \\sin\\left(h k_{1}\\right) - {\\left(2 \\, {\\left(B_{r_{1}} - 1\\right)} B_{z_{1}} k_{1} \\sin\\left(h k_{1}\\right)^{2} - {\\left(B_{r_{1}} - 1\\right)} B_{z_{1}} k_{1}\\right)} \\kappa^{3} m\\right)} J_{m + 1}(\\kappa \\rho) + 2 \\, {\\left(4 \\, B_{\\phi_{1}} B_{r_{1}} \\kappa^{4} m^{2} \\cos\\left(h k_{1}\\right) \\sin\\left(h k_{1}\\right) - B_{\\phi_{1}} B_{r_{1}} \\kappa^{2} m^{4} \\cos\\left(h k_{1}\\right) \\sin\\left(h k_{1}\\right) - {\\left(2 \\, B_{r_{1}} B_{z_{1}} k_{1} \\sin\\left(h k_{1}\\right)^{2} - B_{r_{1}} B_{z_{1}} k_{1}\\right)} \\kappa^{4} m - {\\left(2 \\, B_{r_{1}} B_{z_{1}} k_{1} \\sin\\left(h k_{1}\\right)^{2} - B_{r_{1}} B_{z_{1}} k_{1}\\right)} \\kappa^{2} m^{3}\\right)} J_{m}(\\kappa \\rho)\\right)} \\rho^{2} - 2 \\, {\\left(2 \\, B_{\\phi_{1}} B_{r_{1}} \\kappa m^{4} J_{m - 1}(\\kappa \\rho) \\cos\\left(h k_{1}\\right) \\sin\\left(h k_{1}\\right) + {\\left(2 \\, B_{r_{1}} B_{z_{1}} k_{1} \\sin\\left(h k_{1}\\right)^{2} - B_{r_{1}} B_{z_{1}} k_{1}\\right)} \\kappa m^{3} J_{m - 1}(\\kappa \\rho) - {\\left(2 \\, B_{\\phi_{1}} B_{r_{1}} \\kappa m^{4} \\cos\\left(h k_{1}\\right) \\sin\\left(h k_{1}\\right) + {\\left(2 \\, B_{r_{1}} B_{z_{1}} k_{1} \\sin\\left(h k_{1}\\right)^{2} - B_{r_{1}} B_{z_{1}} k_{1}\\right)} \\kappa m^{3}\\right)} J_{m + 1}(\\kappa \\rho) - 2 \\, {\\left(B_{\\phi_{1}} B_{r_{1}} \\kappa^{2} m^{4} \\cos\\left(h k_{1}\\right) \\sin\\left(h k_{1}\\right) - {\\left(B_{\\phi_{1}} B_{r_{1}} + B_{\\phi_{1}}\\right)} \\kappa^{2} m^{2} \\cos\\left(h k_{1}\\right) \\sin\\left(h k_{1}\\right) - {\\left(2 \\, B_{r_{1}} B_{z_{1}} k_{1} \\sin\\left(h k_{1}\\right)^{2} - B_{r_{1}} B_{z_{1}} k_{1}\\right)} \\kappa^{2} m^{3}\\right)} J_{m}(\\kappa \\rho)\\right)} \\rho\\right)} \\cos\\left(k_{1} z\\right) \\sin\\left(m \\varphi\\right)}{2 \\, {\\left({\\left(2 \\, B_{r_{1}} \\sin\\left(h k_{1}\\right)^{2} - B_{r_{1}}\\right)} \\kappa^{4} \\mu_{1} \\rho^{3} - 2 \\, {\\left(2 \\, B_{r_{1}} \\sin\\left(h k_{1}\\right)^{2} - B_{r_{1}}\\right)} \\kappa^{2} m^{2} \\mu_{1} \\rho^{2} + {\\left(2 \\, B_{r_{1}} \\sin\\left(h k_{1}\\right)^{2} - B_{r_{1}}\\right)} m^{4} \\mu_{1} \\rho\\right)}} = 0$$"
      ],
      "text/plain": [
       "<IPython.core.display.Math object>"
      ]
     },
     "metadata": {},
     "output_type": "display_data"
    },
    {
     "name": "stdout",
     "output_type": "stream",
     "text": [
      "var =\n"
     ]
    },
    {
     "data": {
      "text/latex": [
       "$$B_{r_{1}}$$"
      ],
      "text/plain": [
       "<IPython.core.display.Math object>"
      ]
     },
     "metadata": {},
     "output_type": "display_data"
    },
    {
     "name": "stdout",
     "output_type": "stream",
     "text": [
      "\n",
      "sol=\n"
     ]
    },
    {
     "data": {
      "text/latex": [
       "$$\\left[B_{r_{1}} = \\frac{4 \\, B_{\\phi_{1}} \\kappa^{2} m^{2} \\rho J_{m}(\\kappa \\rho) \\cos\\left(h k_{1}\\right) \\sin\\left(h k_{1}\\right) + {\\left(2 \\, B_{\\phi_{1}} \\kappa^{3} m^{2} J_{m - 1}(\\kappa \\rho) \\cos\\left(h k_{1}\\right) \\sin\\left(h k_{1}\\right) + {\\left(2 \\, B_{z_{1}} k_{1} \\sin\\left(h k_{1}\\right)^{2} - B_{z_{1}} k_{1}\\right)} \\kappa^{3} m J_{m - 1}(\\kappa \\rho) - {\\left(2 \\, B_{\\phi_{1}} \\kappa^{3} m^{2} \\cos\\left(h k_{1}\\right) \\sin\\left(h k_{1}\\right) + {\\left(2 \\, B_{z_{1}} k_{1} \\sin\\left(h k_{1}\\right)^{2} - B_{z_{1}} k_{1}\\right)} \\kappa^{3} m\\right)} J_{m + 1}(\\kappa \\rho)\\right)} \\rho^{2}}{2 \\, {\\left(2 \\, B_{z_{1}} k_{1} \\sin\\left(h k_{1}\\right)^{2} - B_{z_{1}} k_{1}\\right)} m^{5} J_{m}(\\kappa \\rho) + {\\left(B_{\\phi_{1}} \\kappa^{6} J_{m + 2}(\\kappa \\rho) \\cos\\left(h k_{1}\\right) \\sin\\left(h k_{1}\\right) + B_{\\phi_{1}} \\kappa^{6} J_{m - 2}(\\kappa \\rho) \\cos\\left(h k_{1}\\right) \\sin\\left(h k_{1}\\right) - 2 \\, B_{\\phi_{1}} \\kappa^{6} J_{m}(\\kappa \\rho) \\cos\\left(h k_{1}\\right) \\sin\\left(h k_{1}\\right)\\right)} \\rho^{4} - {\\left(4 \\, B_{\\phi_{1}} \\kappa^{5} J_{m + 1}(\\kappa \\rho) \\cos\\left(h k_{1}\\right) \\sin\\left(h k_{1}\\right) - 4 \\, B_{\\phi_{1}} \\kappa^{5} J_{m - 1}(\\kappa \\rho) \\cos\\left(h k_{1}\\right) \\sin\\left(h k_{1}\\right) - {\\left(2 \\, B_{z_{1}} k_{1} \\sin\\left(h k_{1}\\right)^{2} - B_{z_{1}} k_{1}\\right)} \\kappa^{4} m J_{m + 2}(\\kappa \\rho) - {\\left(2 \\, B_{z_{1}} k_{1} \\sin\\left(h k_{1}\\right)^{2} - B_{z_{1}} k_{1}\\right)} \\kappa^{4} m J_{m - 2}(\\kappa \\rho) - 2 \\, {\\left(2 \\, B_{\\phi_{1}} \\kappa^{6} \\cos\\left(h k_{1}\\right) \\sin\\left(h k_{1}\\right) - {\\left(2 \\, B_{z_{1}} k_{1} \\sin\\left(h k_{1}\\right)^{2} - B_{z_{1}} k_{1}\\right)} \\kappa^{4} m\\right)} J_{m}(\\kappa \\rho)\\right)} \\rho^{3} - {\\left(B_{\\phi_{1}} \\kappa^{2} m^{4} J_{m - 2}(\\kappa \\rho) \\cos\\left(h k_{1}\\right) \\sin\\left(h k_{1}\\right) + 2 \\, B_{\\phi_{1}} \\kappa^{3} m^{2} J_{m - 1}(\\kappa \\rho) \\cos\\left(h k_{1}\\right) \\sin\\left(h k_{1}\\right) + {\\left(2 \\, B_{z_{1}} k_{1} \\sin\\left(h k_{1}\\right)^{2} - B_{z_{1}} k_{1}\\right)} \\kappa^{2} m^{3} J_{m - 2}(\\kappa \\rho) - {\\left(2 \\, B_{z_{1}} k_{1} \\sin\\left(h k_{1}\\right)^{2} - B_{z_{1}} k_{1}\\right)} \\kappa^{3} m J_{m - 1}(\\kappa \\rho) + {\\left(B_{\\phi_{1}} \\kappa^{2} m^{4} \\cos\\left(h k_{1}\\right) \\sin\\left(h k_{1}\\right) + {\\left(2 \\, B_{z_{1}} k_{1} \\sin\\left(h k_{1}\\right)^{2} - B_{z_{1}} k_{1}\\right)} \\kappa^{2} m^{3}\\right)} J_{m + 2}(\\kappa \\rho) - {\\left(2 \\, B_{\\phi_{1}} \\kappa^{3} m^{2} \\cos\\left(h k_{1}\\right) \\sin\\left(h k_{1}\\right) - {\\left(2 \\, B_{z_{1}} k_{1} \\sin\\left(h k_{1}\\right)^{2} - B_{z_{1}} k_{1}\\right)} \\kappa^{3} m\\right)} J_{m + 1}(\\kappa \\rho) + 2 \\, {\\left(4 \\, B_{\\phi_{1}} \\kappa^{4} m^{2} \\cos\\left(h k_{1}\\right) \\sin\\left(h k_{1}\\right) - B_{\\phi_{1}} \\kappa^{2} m^{4} \\cos\\left(h k_{1}\\right) \\sin\\left(h k_{1}\\right) - {\\left(2 \\, B_{z_{1}} k_{1} \\sin\\left(h k_{1}\\right)^{2} - B_{z_{1}} k_{1}\\right)} \\kappa^{4} m - {\\left(2 \\, B_{z_{1}} k_{1} \\sin\\left(h k_{1}\\right)^{2} - B_{z_{1}} k_{1}\\right)} \\kappa^{2} m^{3}\\right)} J_{m}(\\kappa \\rho)\\right)} \\rho^{2} - 2 \\, {\\left(2 \\, B_{\\phi_{1}} \\kappa m^{4} J_{m - 1}(\\kappa \\rho) \\cos\\left(h k_{1}\\right) \\sin\\left(h k_{1}\\right) + {\\left(2 \\, B_{z_{1}} k_{1} \\sin\\left(h k_{1}\\right)^{2} - B_{z_{1}} k_{1}\\right)} \\kappa m^{3} J_{m - 1}(\\kappa \\rho) - {\\left(2 \\, B_{\\phi_{1}} \\kappa m^{4} \\cos\\left(h k_{1}\\right) \\sin\\left(h k_{1}\\right) + {\\left(2 \\, B_{z_{1}} k_{1} \\sin\\left(h k_{1}\\right)^{2} - B_{z_{1}} k_{1}\\right)} \\kappa m^{3}\\right)} J_{m + 1}(\\kappa \\rho) - 2 \\, {\\left(B_{\\phi_{1}} \\kappa^{2} m^{4} \\cos\\left(h k_{1}\\right) \\sin\\left(h k_{1}\\right) - B_{\\phi_{1}} \\kappa^{2} m^{2} \\cos\\left(h k_{1}\\right) \\sin\\left(h k_{1}\\right) - {\\left(2 \\, B_{z_{1}} k_{1} \\sin\\left(h k_{1}\\right)^{2} - B_{z_{1}} k_{1}\\right)} \\kappa^{2} m^{3}\\right)} J_{m}(\\kappa \\rho)\\right)} \\rho}\\right]$$"
      ],
      "text/plain": [
       "<IPython.core.display.Math object>"
      ]
     },
     "metadata": {},
     "output_type": "display_data"
    },
    {
     "name": "stdout",
     "output_type": "stream",
     "text": [
      "\n",
      "var =\n"
     ]
    },
    {
     "data": {
      "text/latex": [
       "$$B_{\\phi_{1}}$$"
      ],
      "text/plain": [
       "<IPython.core.display.Math object>"
      ]
     },
     "metadata": {},
     "output_type": "display_data"
    },
    {
     "name": "stdout",
     "output_type": "stream",
     "text": [
      "\n",
      "sol=\n"
     ]
    },
    {
     "data": {
      "text/latex": [
       "$$\\left[B_{\\phi_{1}} = -\\frac{2 \\, {\\left(2 \\, B_{r_{1}} B_{z_{1}} k_{1} \\sin\\left(h k_{1}\\right)^{2} - B_{r_{1}} B_{z_{1}} k_{1}\\right)} m^{5} J_{m}(\\kappa \\rho) + {\\left({\\left(2 \\, B_{r_{1}} B_{z_{1}} k_{1} \\sin\\left(h k_{1}\\right)^{2} - B_{r_{1}} B_{z_{1}} k_{1}\\right)} \\kappa^{4} m J_{m + 2}(\\kappa \\rho) + {\\left(2 \\, B_{r_{1}} B_{z_{1}} k_{1} \\sin\\left(h k_{1}\\right)^{2} - B_{r_{1}} B_{z_{1}} k_{1}\\right)} \\kappa^{4} m J_{m - 2}(\\kappa \\rho) - 2 \\, {\\left(2 \\, B_{r_{1}} B_{z_{1}} k_{1} \\sin\\left(h k_{1}\\right)^{2} - B_{r_{1}} B_{z_{1}} k_{1}\\right)} \\kappa^{4} m J_{m}(\\kappa \\rho)\\right)} \\rho^{3} - {\\left({\\left(2 \\, B_{r_{1}} B_{z_{1}} k_{1} \\sin\\left(h k_{1}\\right)^{2} - B_{r_{1}} B_{z_{1}} k_{1}\\right)} \\kappa^{2} m^{3} J_{m + 2}(\\kappa \\rho) + {\\left(2 \\, B_{r_{1}} B_{z_{1}} k_{1} \\sin\\left(h k_{1}\\right)^{2} - B_{r_{1}} B_{z_{1}} k_{1}\\right)} \\kappa^{2} m^{3} J_{m - 2}(\\kappa \\rho) + {\\left(2 \\, {\\left(B_{r_{1}} - 1\\right)} B_{z_{1}} k_{1} \\sin\\left(h k_{1}\\right)^{2} - {\\left(B_{r_{1}} - 1\\right)} B_{z_{1}} k_{1}\\right)} \\kappa^{3} m J_{m + 1}(\\kappa \\rho) - {\\left(2 \\, {\\left(B_{r_{1}} - 1\\right)} B_{z_{1}} k_{1} \\sin\\left(h k_{1}\\right)^{2} - {\\left(B_{r_{1}} - 1\\right)} B_{z_{1}} k_{1}\\right)} \\kappa^{3} m J_{m - 1}(\\kappa \\rho) - 2 \\, {\\left({\\left(2 \\, B_{r_{1}} B_{z_{1}} k_{1} \\sin\\left(h k_{1}\\right)^{2} - B_{r_{1}} B_{z_{1}} k_{1}\\right)} \\kappa^{4} m + {\\left(2 \\, B_{r_{1}} B_{z_{1}} k_{1} \\sin\\left(h k_{1}\\right)^{2} - B_{r_{1}} B_{z_{1}} k_{1}\\right)} \\kappa^{2} m^{3}\\right)} J_{m}(\\kappa \\rho)\\right)} \\rho^{2} - 2 \\, {\\left(2 \\, {\\left(2 \\, B_{r_{1}} B_{z_{1}} k_{1} \\sin\\left(h k_{1}\\right)^{2} - B_{r_{1}} B_{z_{1}} k_{1}\\right)} \\kappa^{2} m^{3} J_{m}(\\kappa \\rho) - {\\left(2 \\, B_{r_{1}} B_{z_{1}} k_{1} \\sin\\left(h k_{1}\\right)^{2} - B_{r_{1}} B_{z_{1}} k_{1}\\right)} \\kappa m^{3} J_{m + 1}(\\kappa \\rho) + {\\left(2 \\, B_{r_{1}} B_{z_{1}} k_{1} \\sin\\left(h k_{1}\\right)^{2} - B_{r_{1}} B_{z_{1}} k_{1}\\right)} \\kappa m^{3} J_{m - 1}(\\kappa \\rho)\\right)} \\rho}{{\\left(B_{r_{1}} \\kappa^{6} J_{m + 2}(\\kappa \\rho) \\cos\\left(h k_{1}\\right) \\sin\\left(h k_{1}\\right) + B_{r_{1}} \\kappa^{6} J_{m - 2}(\\kappa \\rho) \\cos\\left(h k_{1}\\right) \\sin\\left(h k_{1}\\right) - 2 \\, B_{r_{1}} \\kappa^{6} J_{m}(\\kappa \\rho) \\cos\\left(h k_{1}\\right) \\sin\\left(h k_{1}\\right)\\right)} \\rho^{4} + 4 \\, {\\left(B_{r_{1}} \\kappa^{6} J_{m}(\\kappa \\rho) \\cos\\left(h k_{1}\\right) \\sin\\left(h k_{1}\\right) - B_{r_{1}} \\kappa^{5} J_{m + 1}(\\kappa \\rho) \\cos\\left(h k_{1}\\right) \\sin\\left(h k_{1}\\right) + B_{r_{1}} \\kappa^{5} J_{m - 1}(\\kappa \\rho) \\cos\\left(h k_{1}\\right) \\sin\\left(h k_{1}\\right)\\right)} \\rho^{3} - {\\left(B_{r_{1}} \\kappa^{2} m^{4} J_{m + 2}(\\kappa \\rho) \\cos\\left(h k_{1}\\right) \\sin\\left(h k_{1}\\right) + B_{r_{1}} \\kappa^{2} m^{4} J_{m - 2}(\\kappa \\rho) \\cos\\left(h k_{1}\\right) \\sin\\left(h k_{1}\\right) - 2 \\, {\\left(B_{r_{1}} + 1\\right)} \\kappa^{3} m^{2} J_{m + 1}(\\kappa \\rho) \\cos\\left(h k_{1}\\right) \\sin\\left(h k_{1}\\right) + 2 \\, {\\left(B_{r_{1}} + 1\\right)} \\kappa^{3} m^{2} J_{m - 1}(\\kappa \\rho) \\cos\\left(h k_{1}\\right) \\sin\\left(h k_{1}\\right) + 2 \\, {\\left(4 \\, B_{r_{1}} \\kappa^{4} m^{2} \\cos\\left(h k_{1}\\right) \\sin\\left(h k_{1}\\right) - B_{r_{1}} \\kappa^{2} m^{4} \\cos\\left(h k_{1}\\right) \\sin\\left(h k_{1}\\right)\\right)} J_{m}(\\kappa \\rho)\\right)} \\rho^{2} + 4 \\, {\\left(B_{r_{1}} \\kappa m^{4} J_{m + 1}(\\kappa \\rho) \\cos\\left(h k_{1}\\right) \\sin\\left(h k_{1}\\right) - B_{r_{1}} \\kappa m^{4} J_{m - 1}(\\kappa \\rho) \\cos\\left(h k_{1}\\right) \\sin\\left(h k_{1}\\right) + {\\left(B_{r_{1}} \\kappa^{2} m^{4} \\cos\\left(h k_{1}\\right) \\sin\\left(h k_{1}\\right) - {\\left(B_{r_{1}} + 1\\right)} \\kappa^{2} m^{2} \\cos\\left(h k_{1}\\right) \\sin\\left(h k_{1}\\right)\\right)} J_{m}(\\kappa \\rho)\\right)} \\rho}\\right]$$"
      ],
      "text/plain": [
       "<IPython.core.display.Math object>"
      ]
     },
     "metadata": {},
     "output_type": "display_data"
    },
    {
     "name": "stdout",
     "output_type": "stream",
     "text": [
      "\n",
      "var =\n"
     ]
    },
    {
     "data": {
      "text/latex": [
       "$$B_{z_{1}}$$"
      ],
      "text/plain": [
       "<IPython.core.display.Math object>"
      ]
     },
     "metadata": {},
     "output_type": "display_data"
    },
    {
     "name": "stdout",
     "output_type": "stream",
     "text": [
      "\n",
      "sol=\n"
     ]
    },
    {
     "data": {
      "text/latex": [
       "$$\\left[B_{z_{1}} = -\\frac{{\\left(B_{\\phi_{1}} B_{r_{1}} \\kappa^{6} J_{m + 2}(\\kappa \\rho) \\cos\\left(h k_{1}\\right) \\sin\\left(h k_{1}\\right) + B_{\\phi_{1}} B_{r_{1}} \\kappa^{6} J_{m - 2}(\\kappa \\rho) \\cos\\left(h k_{1}\\right) \\sin\\left(h k_{1}\\right) - 2 \\, B_{\\phi_{1}} B_{r_{1}} \\kappa^{6} J_{m}(\\kappa \\rho) \\cos\\left(h k_{1}\\right) \\sin\\left(h k_{1}\\right)\\right)} \\rho^{4} + 4 \\, {\\left(B_{\\phi_{1}} B_{r_{1}} \\kappa^{6} J_{m}(\\kappa \\rho) \\cos\\left(h k_{1}\\right) \\sin\\left(h k_{1}\\right) - B_{\\phi_{1}} B_{r_{1}} \\kappa^{5} J_{m + 1}(\\kappa \\rho) \\cos\\left(h k_{1}\\right) \\sin\\left(h k_{1}\\right) + B_{\\phi_{1}} B_{r_{1}} \\kappa^{5} J_{m - 1}(\\kappa \\rho) \\cos\\left(h k_{1}\\right) \\sin\\left(h k_{1}\\right)\\right)} \\rho^{3} - {\\left(B_{\\phi_{1}} B_{r_{1}} \\kappa^{2} m^{4} J_{m + 2}(\\kappa \\rho) \\cos\\left(h k_{1}\\right) \\sin\\left(h k_{1}\\right) + B_{\\phi_{1}} B_{r_{1}} \\kappa^{2} m^{4} J_{m - 2}(\\kappa \\rho) \\cos\\left(h k_{1}\\right) \\sin\\left(h k_{1}\\right) - 2 \\, {\\left(B_{\\phi_{1}} B_{r_{1}} + B_{\\phi_{1}}\\right)} \\kappa^{3} m^{2} J_{m + 1}(\\kappa \\rho) \\cos\\left(h k_{1}\\right) \\sin\\left(h k_{1}\\right) + 2 \\, {\\left(B_{\\phi_{1}} B_{r_{1}} + B_{\\phi_{1}}\\right)} \\kappa^{3} m^{2} J_{m - 1}(\\kappa \\rho) \\cos\\left(h k_{1}\\right) \\sin\\left(h k_{1}\\right) + 2 \\, {\\left(4 \\, B_{\\phi_{1}} B_{r_{1}} \\kappa^{4} m^{2} \\cos\\left(h k_{1}\\right) \\sin\\left(h k_{1}\\right) - B_{\\phi_{1}} B_{r_{1}} \\kappa^{2} m^{4} \\cos\\left(h k_{1}\\right) \\sin\\left(h k_{1}\\right)\\right)} J_{m}(\\kappa \\rho)\\right)} \\rho^{2} + 4 \\, {\\left(B_{\\phi_{1}} B_{r_{1}} \\kappa m^{4} J_{m + 1}(\\kappa \\rho) \\cos\\left(h k_{1}\\right) \\sin\\left(h k_{1}\\right) - B_{\\phi_{1}} B_{r_{1}} \\kappa m^{4} J_{m - 1}(\\kappa \\rho) \\cos\\left(h k_{1}\\right) \\sin\\left(h k_{1}\\right) + {\\left(B_{\\phi_{1}} B_{r_{1}} \\kappa^{2} m^{4} \\cos\\left(h k_{1}\\right) \\sin\\left(h k_{1}\\right) - {\\left(B_{\\phi_{1}} B_{r_{1}} + B_{\\phi_{1}}\\right)} \\kappa^{2} m^{2} \\cos\\left(h k_{1}\\right) \\sin\\left(h k_{1}\\right)\\right)} J_{m}(\\kappa \\rho)\\right)} \\rho}{2 \\, {\\left(2 \\, B_{r_{1}} k_{1} \\sin\\left(h k_{1}\\right)^{2} - B_{r_{1}} k_{1}\\right)} m^{5} J_{m}(\\kappa \\rho) + {\\left({\\left(2 \\, B_{r_{1}} k_{1} \\sin\\left(h k_{1}\\right)^{2} - B_{r_{1}} k_{1}\\right)} \\kappa^{4} m J_{m + 2}(\\kappa \\rho) + {\\left(2 \\, B_{r_{1}} k_{1} \\sin\\left(h k_{1}\\right)^{2} - B_{r_{1}} k_{1}\\right)} \\kappa^{4} m J_{m - 2}(\\kappa \\rho) - 2 \\, {\\left(2 \\, B_{r_{1}} k_{1} \\sin\\left(h k_{1}\\right)^{2} - B_{r_{1}} k_{1}\\right)} \\kappa^{4} m J_{m}(\\kappa \\rho)\\right)} \\rho^{3} - {\\left({\\left(2 \\, B_{r_{1}} k_{1} \\sin\\left(h k_{1}\\right)^{2} - B_{r_{1}} k_{1}\\right)} \\kappa^{2} m^{3} J_{m + 2}(\\kappa \\rho) + {\\left(2 \\, B_{r_{1}} k_{1} \\sin\\left(h k_{1}\\right)^{2} - B_{r_{1}} k_{1}\\right)} \\kappa^{2} m^{3} J_{m - 2}(\\kappa \\rho) + {\\left(2 \\, {\\left(B_{r_{1}} - 1\\right)} k_{1} \\sin\\left(h k_{1}\\right)^{2} - {\\left(B_{r_{1}} - 1\\right)} k_{1}\\right)} \\kappa^{3} m J_{m + 1}(\\kappa \\rho) - {\\left(2 \\, {\\left(B_{r_{1}} - 1\\right)} k_{1} \\sin\\left(h k_{1}\\right)^{2} - {\\left(B_{r_{1}} - 1\\right)} k_{1}\\right)} \\kappa^{3} m J_{m - 1}(\\kappa \\rho) - 2 \\, {\\left({\\left(2 \\, B_{r_{1}} k_{1} \\sin\\left(h k_{1}\\right)^{2} - B_{r_{1}} k_{1}\\right)} \\kappa^{4} m + {\\left(2 \\, B_{r_{1}} k_{1} \\sin\\left(h k_{1}\\right)^{2} - B_{r_{1}} k_{1}\\right)} \\kappa^{2} m^{3}\\right)} J_{m}(\\kappa \\rho)\\right)} \\rho^{2} - 2 \\, {\\left(2 \\, {\\left(2 \\, B_{r_{1}} k_{1} \\sin\\left(h k_{1}\\right)^{2} - B_{r_{1}} k_{1}\\right)} \\kappa^{2} m^{3} J_{m}(\\kappa \\rho) - {\\left(2 \\, B_{r_{1}} k_{1} \\sin\\left(h k_{1}\\right)^{2} - B_{r_{1}} k_{1}\\right)} \\kappa m^{3} J_{m + 1}(\\kappa \\rho) + {\\left(2 \\, B_{r_{1}} k_{1} \\sin\\left(h k_{1}\\right)^{2} - B_{r_{1}} k_{1}\\right)} \\kappa m^{3} J_{m - 1}(\\kappa \\rho)\\right)} \\rho}\\right]$$"
      ],
      "text/plain": [
       "<IPython.core.display.Math object>"
      ]
     },
     "metadata": {},
     "output_type": "display_data"
    },
    {
     "name": "stdout",
     "output_type": "stream",
     "text": [
      "\n",
      "eq4 =\n"
     ]
    },
    {
     "data": {
      "text/latex": [
       "$$\\frac{{\\left(8 \\, {\\left(2 \\, B_{\\phi_{1}} B_{z_{1}} k_{1} \\cos\\left(h k_{1}\\right)^{2} - 2 \\, A_{z_{1}} B_{\\phi_{1}} k_{1} \\cos\\left(h k_{1}\\right) \\sin\\left(h k_{1}\\right) - B_{\\phi_{1}} B_{z_{1}} k_{1}\\right)} m^{4} J_{m}(\\kappa \\rho)^{2} + {\\left({\\left(2 \\, B_{\\phi_{1}} B_{z_{1}} k_{1} \\cos\\left(h k_{1}\\right)^{2} - 2 \\, A_{z_{1}} B_{\\phi_{1}} k_{1} \\cos\\left(h k_{1}\\right) \\sin\\left(h k_{1}\\right) - B_{\\phi_{1}} B_{z_{1}} k_{1}\\right)} \\kappa^{5} J_{m - 1}(\\kappa \\rho) J_{m - 2}(\\kappa \\rho) - 2 \\, {\\left(2 \\, B_{\\phi_{1}} B_{z_{1}} k_{1} \\cos\\left(h k_{1}\\right)^{2} - 2 \\, A_{z_{1}} B_{\\phi_{1}} k_{1} \\cos\\left(h k_{1}\\right) \\sin\\left(h k_{1}\\right) - B_{\\phi_{1}} B_{z_{1}} k_{1}\\right)} \\kappa^{5} J_{m - 1}(\\kappa \\rho) J_{m}(\\kappa \\rho) - {\\left({\\left(2 \\, B_{\\phi_{1}} B_{z_{1}} k_{1} \\cos\\left(h k_{1}\\right)^{2} - 2 \\, A_{z_{1}} B_{\\phi_{1}} k_{1} \\cos\\left(h k_{1}\\right) \\sin\\left(h k_{1}\\right) - B_{\\phi_{1}} B_{z_{1}} k_{1}\\right)} \\kappa^{5} J_{m + 1}(\\kappa \\rho) - {\\left(2 \\, B_{\\phi_{1}} B_{z_{1}} k_{1} \\cos\\left(h k_{1}\\right)^{2} - 2 \\, A_{z_{1}} B_{\\phi_{1}} k_{1} \\cos\\left(h k_{1}\\right) \\sin\\left(h k_{1}\\right) - B_{\\phi_{1}} B_{z_{1}} k_{1}\\right)} \\kappa^{5} J_{m - 1}(\\kappa \\rho)\\right)} J_{m + 2}(\\kappa \\rho) - {\\left({\\left(2 \\, B_{\\phi_{1}} B_{z_{1}} k_{1} \\cos\\left(h k_{1}\\right)^{2} - 2 \\, A_{z_{1}} B_{\\phi_{1}} k_{1} \\cos\\left(h k_{1}\\right) \\sin\\left(h k_{1}\\right) - B_{\\phi_{1}} B_{z_{1}} k_{1}\\right)} \\kappa^{5} J_{m - 2}(\\kappa \\rho) - 2 \\, {\\left(2 \\, B_{\\phi_{1}} B_{z_{1}} k_{1} \\cos\\left(h k_{1}\\right)^{2} - 2 \\, A_{z_{1}} B_{\\phi_{1}} k_{1} \\cos\\left(h k_{1}\\right) \\sin\\left(h k_{1}\\right) - B_{\\phi_{1}} B_{z_{1}} k_{1}\\right)} \\kappa^{5} J_{m}(\\kappa \\rho)\\right)} J_{m + 1}(\\kappa \\rho)\\right)} \\rho^{4} - {\\left({\\left(2 \\, B_{\\phi_{1}} B_{z_{1}} k_{1} \\cos\\left(h k_{1}\\right)^{2} - 2 \\, A_{z_{1}} B_{\\phi_{1}} k_{1} \\cos\\left(h k_{1}\\right) \\sin\\left(h k_{1}\\right) - B_{\\phi_{1}} B_{z_{1}} k_{1}\\right)} \\kappa^{3} m^{2} J_{m - 1}(\\kappa \\rho) J_{m - 2}(\\kappa \\rho) - 4 \\, {\\left(2 \\, B_{\\phi_{1}} B_{z_{1}} k_{1} \\cos\\left(h k_{1}\\right)^{2} - 2 \\, A_{z_{1}} B_{\\phi_{1}} k_{1} \\cos\\left(h k_{1}\\right) \\sin\\left(h k_{1}\\right) - B_{\\phi_{1}} B_{z_{1}} k_{1}\\right)} \\kappa^{4} J_{m + 1}(\\kappa \\rho)^{2} - 4 \\, {\\left(2 \\, B_{\\phi_{1}} B_{z_{1}} k_{1} \\cos\\left(h k_{1}\\right)^{2} - 2 \\, A_{z_{1}} B_{\\phi_{1}} k_{1} \\cos\\left(h k_{1}\\right) \\sin\\left(h k_{1}\\right) - B_{\\phi_{1}} B_{z_{1}} k_{1}\\right)} \\kappa^{4} J_{m - 1}(\\kappa \\rho)^{2} - {\\left({\\left(2 \\, B_{\\phi_{1}} B_{z_{1}} k_{1} \\cos\\left(h k_{1}\\right)^{2} - 2 \\, A_{z_{1}} B_{\\phi_{1}} k_{1} \\cos\\left(h k_{1}\\right) \\sin\\left(h k_{1}\\right) - B_{\\phi_{1}} B_{z_{1}} k_{1}\\right)} \\kappa^{3} m^{2} J_{m + 1}(\\kappa \\rho) - {\\left(2 \\, B_{\\phi_{1}} B_{z_{1}} k_{1} \\cos\\left(h k_{1}\\right)^{2} - 2 \\, A_{z_{1}} B_{\\phi_{1}} k_{1} \\cos\\left(h k_{1}\\right) \\sin\\left(h k_{1}\\right) - B_{\\phi_{1}} B_{z_{1}} k_{1}\\right)} \\kappa^{3} m^{2} J_{m - 1}(\\kappa \\rho)\\right)} J_{m + 2}(\\kappa \\rho) - {\\left({\\left(2 \\, B_{\\phi_{1}} B_{z_{1}} k_{1} \\cos\\left(h k_{1}\\right)^{2} - 2 \\, A_{z_{1}} B_{\\phi_{1}} k_{1} \\cos\\left(h k_{1}\\right) \\sin\\left(h k_{1}\\right) - B_{\\phi_{1}} B_{z_{1}} k_{1}\\right)} \\kappa^{3} m^{2} J_{m - 2}(\\kappa \\rho) - 8 \\, {\\left(2 \\, B_{\\phi_{1}} B_{z_{1}} k_{1} \\cos\\left(h k_{1}\\right)^{2} - 2 \\, A_{z_{1}} B_{\\phi_{1}} k_{1} \\cos\\left(h k_{1}\\right) \\sin\\left(h k_{1}\\right) - B_{\\phi_{1}} B_{z_{1}} k_{1}\\right)} \\kappa^{4} J_{m - 1}(\\kappa \\rho) - 2 \\, {\\left(2 \\, {\\left(2 \\, B_{\\phi_{1}} B_{z_{1}} k_{1} \\cos\\left(h k_{1}\\right)^{2} - 2 \\, A_{z_{1}} B_{\\phi_{1}} k_{1} \\cos\\left(h k_{1}\\right) \\sin\\left(h k_{1}\\right) - B_{\\phi_{1}} B_{z_{1}} k_{1}\\right)} \\kappa^{5} + {\\left(2 \\, B_{\\phi_{1}} B_{z_{1}} k_{1} \\cos\\left(h k_{1}\\right)^{2} - 2 \\, A_{z_{1}} B_{\\phi_{1}} k_{1} \\cos\\left(h k_{1}\\right) \\sin\\left(h k_{1}\\right) - B_{\\phi_{1}} B_{z_{1}} k_{1}\\right)} \\kappa^{3} m^{2}\\right)} J_{m}(\\kappa \\rho)\\right)} J_{m + 1}(\\kappa \\rho) - 2 \\, {\\left(2 \\, {\\left(2 \\, B_{\\phi_{1}} B_{z_{1}} k_{1} \\cos\\left(h k_{1}\\right)^{2} - 2 \\, A_{z_{1}} B_{\\phi_{1}} k_{1} \\cos\\left(h k_{1}\\right) \\sin\\left(h k_{1}\\right) - B_{\\phi_{1}} B_{z_{1}} k_{1}\\right)} \\kappa^{5} J_{m - 1}(\\kappa \\rho) + {\\left(2 \\, B_{\\phi_{1}} B_{z_{1}} k_{1} \\cos\\left(h k_{1}\\right)^{2} - 2 \\, A_{z_{1}} B_{\\phi_{1}} k_{1} \\cos\\left(h k_{1}\\right) \\sin\\left(h k_{1}\\right) - B_{\\phi_{1}} B_{z_{1}} k_{1}\\right)} \\kappa^{3} m^{2} J_{m - 1}(\\kappa \\rho)\\right)} J_{m}(\\kappa \\rho)\\right)} \\rho^{3} + 4 \\, {\\left(2 \\, {\\left(2 \\, B_{\\phi_{1}} B_{z_{1}} k_{1} \\cos\\left(h k_{1}\\right)^{2} - 2 \\, A_{z_{1}} B_{\\phi_{1}} k_{1} \\cos\\left(h k_{1}\\right) \\sin\\left(h k_{1}\\right) - B_{\\phi_{1}} B_{z_{1}} k_{1}\\right)} \\kappa^{3} m^{2} J_{m + 1}(\\kappa \\rho) J_{m}(\\kappa \\rho) - {\\left(2 \\, B_{\\phi_{1}} B_{z_{1}} k_{1} \\cos\\left(h k_{1}\\right)^{2} - 2 \\, A_{z_{1}} B_{\\phi_{1}} k_{1} \\cos\\left(h k_{1}\\right) \\sin\\left(h k_{1}\\right) - B_{\\phi_{1}} B_{z_{1}} k_{1}\\right)} \\kappa^{2} m^{2} J_{m + 2}(\\kappa \\rho) J_{m}(\\kappa \\rho) + 2 \\, {\\left(2 \\, B_{\\phi_{1}} B_{z_{1}} k_{1} \\cos\\left(h k_{1}\\right)^{2} - 2 \\, A_{z_{1}} B_{\\phi_{1}} k_{1} \\cos\\left(h k_{1}\\right) \\sin\\left(h k_{1}\\right) - B_{\\phi_{1}} B_{z_{1}} k_{1}\\right)} \\kappa^{2} m^{2} J_{m}(\\kappa \\rho)^{2} - {\\left(2 \\, {\\left(2 \\, B_{\\phi_{1}} B_{z_{1}} k_{1} \\cos\\left(h k_{1}\\right)^{2} - 2 \\, A_{z_{1}} B_{\\phi_{1}} k_{1} \\cos\\left(h k_{1}\\right) \\sin\\left(h k_{1}\\right) - B_{\\phi_{1}} B_{z_{1}} k_{1}\\right)} \\kappa^{3} J_{m - 1}(\\kappa \\rho) + {\\left(2 \\, B_{\\phi_{1}} B_{z_{1}} k_{1} \\cos\\left(h k_{1}\\right)^{2} - 2 \\, A_{z_{1}} B_{\\phi_{1}} k_{1} \\cos\\left(h k_{1}\\right) \\sin\\left(h k_{1}\\right) - B_{\\phi_{1}} B_{z_{1}} k_{1}\\right)} \\kappa^{2} J_{m - 2}(\\kappa \\rho)\\right)} m^{2} J_{m}(\\kappa \\rho)\\right)} \\rho^{2} - 4 \\, {\\left(2 \\, {\\left(2 \\, B_{\\phi_{1}} B_{z_{1}} k_{1} \\cos\\left(h k_{1}\\right)^{2} - 2 \\, A_{z_{1}} B_{\\phi_{1}} k_{1} \\cos\\left(h k_{1}\\right) \\sin\\left(h k_{1}\\right) - B_{\\phi_{1}} B_{z_{1}} k_{1}\\right)} \\kappa^{2} m^{2} J_{m}(\\kappa \\rho)^{2} + {\\left({\\left(2 \\, B_{\\phi_{1}} B_{z_{1}} k_{1} \\cos\\left(h k_{1}\\right)^{2} - 2 \\, A_{z_{1}} B_{\\phi_{1}} k_{1} \\cos\\left(h k_{1}\\right) \\sin\\left(h k_{1}\\right) - B_{\\phi_{1}} B_{z_{1}} k_{1}\\right)} \\kappa m^{4} - 2 \\, {\\left(2 \\, B_{\\phi_{1}} B_{z_{1}} k_{1} \\cos\\left(h k_{1}\\right)^{2} - 2 \\, A_{z_{1}} B_{\\phi_{1}} k_{1} \\cos\\left(h k_{1}\\right) \\sin\\left(h k_{1}\\right) - B_{\\phi_{1}} B_{z_{1}} k_{1}\\right)} \\kappa m^{2}\\right)} J_{m + 1}(\\kappa \\rho) J_{m}(\\kappa \\rho) - {\\left({\\left(2 \\, B_{\\phi_{1}} B_{z_{1}} k_{1} \\cos\\left(h k_{1}\\right)^{2} - 2 \\, A_{z_{1}} B_{\\phi_{1}} k_{1} \\cos\\left(h k_{1}\\right) \\sin\\left(h k_{1}\\right) - B_{\\phi_{1}} B_{z_{1}} k_{1}\\right)} \\kappa m^{4} J_{m - 1}(\\kappa \\rho) - 2 \\, {\\left(2 \\, B_{\\phi_{1}} B_{z_{1}} k_{1} \\cos\\left(h k_{1}\\right)^{2} - 2 \\, A_{z_{1}} B_{\\phi_{1}} k_{1} \\cos\\left(h k_{1}\\right) \\sin\\left(h k_{1}\\right) - B_{\\phi_{1}} B_{z_{1}} k_{1}\\right)} \\kappa m^{2} J_{m - 1}(\\kappa \\rho)\\right)} J_{m}(\\kappa \\rho)\\right)} \\rho\\right)} \\cos\\left(k_{1} z\\right) \\sin\\left(m \\varphi\\right)}{4 \\, {\\left(2 \\, {\\left(2 \\, B_{\\phi_{1}} \\cos\\left(h k_{1}\\right)^{2} - B_{\\phi_{1}}\\right)} m^{3} \\mu_{1} \\rho J_{m}(\\kappa \\rho) - {\\left({\\left(2 \\, B_{\\phi_{1}} \\cos\\left(h k_{1}\\right)^{2} - B_{\\phi_{1}}\\right)} \\kappa^{3} m J_{m - 1}(\\kappa \\rho) - {\\left(2 \\, A_{z_{1}} k_{1} \\cos\\left(h k_{1}\\right)^{2} - A_{z_{1}} k_{1}\\right)} \\kappa^{3} J_{m - 1}(\\kappa \\rho) - {\\left({\\left(2 \\, B_{\\phi_{1}} \\cos\\left(h k_{1}\\right)^{2} - B_{\\phi_{1}}\\right)} \\kappa^{3} m - {\\left(2 \\, A_{z_{1}} k_{1} \\cos\\left(h k_{1}\\right)^{2} - A_{z_{1}} k_{1}\\right)} \\kappa^{3}\\right)} J_{m + 1}(\\kappa \\rho)\\right)} \\mu_{1} \\rho^{3} + {\\left({\\left(2 \\, B_{\\phi_{1}} \\cos\\left(h k_{1}\\right)^{2} - B_{\\phi_{1}}\\right)} \\kappa m^{3} J_{m - 1}(\\kappa \\rho) - {\\left(2 \\, A_{z_{1}} k_{1} \\cos\\left(h k_{1}\\right)^{2} - A_{z_{1}} k_{1}\\right)} \\kappa m^{2} J_{m - 1}(\\kappa \\rho) - 2 \\, {\\left(2 \\, B_{\\phi_{1}} \\cos\\left(h k_{1}\\right)^{2} - B_{\\phi_{1}}\\right)} \\kappa^{2} m J_{m}(\\kappa \\rho) - {\\left({\\left(2 \\, B_{\\phi_{1}} \\cos\\left(h k_{1}\\right)^{2} - B_{\\phi_{1}}\\right)} \\kappa m^{3} - {\\left(2 \\, A_{z_{1}} k_{1} \\cos\\left(h k_{1}\\right)^{2} - A_{z_{1}} k_{1}\\right)} \\kappa m^{2}\\right)} J_{m + 1}(\\kappa \\rho)\\right)} \\mu_{1} \\rho^{2}\\right)}} = 0$$"
      ],
      "text/plain": [
       "<IPython.core.display.Math object>"
      ]
     },
     "metadata": {},
     "output_type": "display_data"
    },
    {
     "name": "stdout",
     "output_type": "stream",
     "text": [
      "var =\n"
     ]
    },
    {
     "data": {
      "text/latex": [
       "$$A_{z_{1}}$$"
      ],
      "text/plain": [
       "<IPython.core.display.Math object>"
      ]
     },
     "metadata": {},
     "output_type": "display_data"
    },
    {
     "name": "stdout",
     "output_type": "stream",
     "text": [
      "\n",
      "sol=\n"
     ]
    },
    {
     "data": {
      "text/latex": [
       "$$\\left[A_{z_{1}} = \\frac{2 \\, B_{z_{1}} \\cos\\left(h k_{1}\\right)^{2} - B_{z_{1}}}{2 \\, \\cos\\left(h k_{1}\\right) \\sin\\left(h k_{1}\\right)}\\right]$$"
      ],
      "text/plain": [
       "<IPython.core.display.Math object>"
      ]
     },
     "metadata": {},
     "output_type": "display_data"
    },
    {
     "name": "stdout",
     "output_type": "stream",
     "text": [
      "\n",
      "var =\n"
     ]
    },
    {
     "data": {
      "text/latex": [
       "$$B_{\\phi_{1}}$$"
      ],
      "text/plain": [
       "<IPython.core.display.Math object>"
      ]
     },
     "metadata": {},
     "output_type": "display_data"
    },
    {
     "name": "stdout",
     "output_type": "stream",
     "text": [
      "\n",
      "sol=\n"
     ]
    },
    {
     "data": {
      "text/latex": [
       "$$\\left[B_{\\phi_{1}} = 0\\right]$$"
      ],
      "text/plain": [
       "<IPython.core.display.Math object>"
      ]
     },
     "metadata": {},
     "output_type": "display_data"
    },
    {
     "name": "stdout",
     "output_type": "stream",
     "text": [
      "\n",
      "var =\n"
     ]
    },
    {
     "data": {
      "text/latex": [
       "$$B_{z_{1}}$$"
      ],
      "text/plain": [
       "<IPython.core.display.Math object>"
      ]
     },
     "metadata": {},
     "output_type": "display_data"
    },
    {
     "name": "stdout",
     "output_type": "stream",
     "text": [
      "\n",
      "sol=\n"
     ]
    },
    {
     "data": {
      "text/latex": [
       "$$\\left[B_{z_{1}} = \\frac{2 \\, A_{z_{1}} \\cos\\left(h k_{1}\\right) \\sin\\left(h k_{1}\\right)}{2 \\, \\cos\\left(h k_{1}\\right)^{2} - 1}\\right]$$"
      ],
      "text/plain": [
       "<IPython.core.display.Math object>"
      ]
     },
     "metadata": {},
     "output_type": "display_data"
    },
    {
     "name": "stdout",
     "output_type": "stream",
     "text": [
      "\n",
      "eq4 =\n"
     ]
    },
    {
     "data": {
      "text/latex": [
       "$$\\frac{{\\left(2 \\, {\\left(2 \\, A_{z_{1}} B_{r_{1}} k_{1} \\cos\\left(h k_{1}\\right) \\sin\\left(h k_{1}\\right) + 2 \\, B_{r_{1}} B_{z_{1}} k_{1} \\sin\\left(h k_{1}\\right)^{2} - B_{r_{1}} B_{z_{1}} k_{1}\\right)} m^{5} J_{m}(\\kappa \\rho) + {\\left({\\left(2 \\, A_{z_{1}} B_{r_{1}} k_{1} \\cos\\left(h k_{1}\\right) \\sin\\left(h k_{1}\\right) + 2 \\, B_{r_{1}} B_{z_{1}} k_{1} \\sin\\left(h k_{1}\\right)^{2} - B_{r_{1}} B_{z_{1}} k_{1}\\right)} \\kappa^{4} m J_{m + 2}(\\kappa \\rho) + {\\left(2 \\, A_{z_{1}} B_{r_{1}} k_{1} \\cos\\left(h k_{1}\\right) \\sin\\left(h k_{1}\\right) + 2 \\, B_{r_{1}} B_{z_{1}} k_{1} \\sin\\left(h k_{1}\\right)^{2} - B_{r_{1}} B_{z_{1}} k_{1}\\right)} \\kappa^{4} m J_{m - 2}(\\kappa \\rho) - 2 \\, {\\left(2 \\, A_{z_{1}} B_{r_{1}} k_{1} \\cos\\left(h k_{1}\\right) \\sin\\left(h k_{1}\\right) + 2 \\, B_{r_{1}} B_{z_{1}} k_{1} \\sin\\left(h k_{1}\\right)^{2} - B_{r_{1}} B_{z_{1}} k_{1}\\right)} \\kappa^{4} m J_{m}(\\kappa \\rho)\\right)} \\rho^{3} - {\\left({\\left(2 \\, A_{z_{1}} B_{r_{1}} k_{1} \\cos\\left(h k_{1}\\right) \\sin\\left(h k_{1}\\right) + 2 \\, B_{r_{1}} B_{z_{1}} k_{1} \\sin\\left(h k_{1}\\right)^{2} - B_{r_{1}} B_{z_{1}} k_{1}\\right)} \\kappa^{2} m^{3} J_{m + 2}(\\kappa \\rho) + {\\left(2 \\, A_{z_{1}} B_{r_{1}} k_{1} \\cos\\left(h k_{1}\\right) \\sin\\left(h k_{1}\\right) + 2 \\, B_{r_{1}} B_{z_{1}} k_{1} \\sin\\left(h k_{1}\\right)^{2} - B_{r_{1}} B_{z_{1}} k_{1}\\right)} \\kappa^{2} m^{3} J_{m - 2}(\\kappa \\rho) + {\\left(2 \\, {\\left(B_{r_{1}} - 1\\right)} B_{z_{1}} k_{1} \\sin\\left(h k_{1}\\right)^{2} + 2 \\, {\\left(A_{z_{1}} B_{r_{1}} - A_{z_{1}}\\right)} k_{1} \\cos\\left(h k_{1}\\right) \\sin\\left(h k_{1}\\right) - {\\left(B_{r_{1}} - 1\\right)} B_{z_{1}} k_{1}\\right)} \\kappa^{3} m J_{m + 1}(\\kappa \\rho) - {\\left(2 \\, {\\left(B_{r_{1}} - 1\\right)} B_{z_{1}} k_{1} \\sin\\left(h k_{1}\\right)^{2} + 2 \\, {\\left(A_{z_{1}} B_{r_{1}} - A_{z_{1}}\\right)} k_{1} \\cos\\left(h k_{1}\\right) \\sin\\left(h k_{1}\\right) - {\\left(B_{r_{1}} - 1\\right)} B_{z_{1}} k_{1}\\right)} \\kappa^{3} m J_{m - 1}(\\kappa \\rho) - 2 \\, {\\left({\\left(2 \\, A_{z_{1}} B_{r_{1}} k_{1} \\cos\\left(h k_{1}\\right) \\sin\\left(h k_{1}\\right) + 2 \\, B_{r_{1}} B_{z_{1}} k_{1} \\sin\\left(h k_{1}\\right)^{2} - B_{r_{1}} B_{z_{1}} k_{1}\\right)} \\kappa^{4} m + {\\left(2 \\, A_{z_{1}} B_{r_{1}} k_{1} \\cos\\left(h k_{1}\\right) \\sin\\left(h k_{1}\\right) + 2 \\, B_{r_{1}} B_{z_{1}} k_{1} \\sin\\left(h k_{1}\\right)^{2} - B_{r_{1}} B_{z_{1}} k_{1}\\right)} \\kappa^{2} m^{3}\\right)} J_{m}(\\kappa \\rho)\\right)} \\rho^{2} - 2 \\, {\\left(2 \\, {\\left(2 \\, A_{z_{1}} B_{r_{1}} k_{1} \\cos\\left(h k_{1}\\right) \\sin\\left(h k_{1}\\right) + 2 \\, B_{r_{1}} B_{z_{1}} k_{1} \\sin\\left(h k_{1}\\right)^{2} - B_{r_{1}} B_{z_{1}} k_{1}\\right)} \\kappa^{2} m^{3} J_{m}(\\kappa \\rho) - {\\left(2 \\, A_{z_{1}} B_{r_{1}} k_{1} \\cos\\left(h k_{1}\\right) \\sin\\left(h k_{1}\\right) + 2 \\, B_{r_{1}} B_{z_{1}} k_{1} \\sin\\left(h k_{1}\\right)^{2} - B_{r_{1}} B_{z_{1}} k_{1}\\right)} \\kappa m^{3} J_{m + 1}(\\kappa \\rho) + {\\left(2 \\, A_{z_{1}} B_{r_{1}} k_{1} \\cos\\left(h k_{1}\\right) \\sin\\left(h k_{1}\\right) + 2 \\, B_{r_{1}} B_{z_{1}} k_{1} \\sin\\left(h k_{1}\\right)^{2} - B_{r_{1}} B_{z_{1}} k_{1}\\right)} \\kappa m^{3} J_{m - 1}(\\kappa \\rho)\\right)} \\rho\\right)} \\cos\\left(k_{1} z\\right) \\sin\\left(m \\varphi\\right)}{2 \\, {\\left({\\left(2 \\, B_{r_{1}} \\sin\\left(h k_{1}\\right)^{2} - B_{r_{1}}\\right)} \\kappa^{4} \\mu_{1} \\rho^{3} - 2 \\, {\\left(2 \\, B_{r_{1}} \\sin\\left(h k_{1}\\right)^{2} - B_{r_{1}}\\right)} \\kappa^{2} m^{2} \\mu_{1} \\rho^{2} + {\\left(2 \\, B_{r_{1}} \\sin\\left(h k_{1}\\right)^{2} - B_{r_{1}}\\right)} m^{4} \\mu_{1} \\rho\\right)}} = 0$$"
      ],
      "text/plain": [
       "<IPython.core.display.Math object>"
      ]
     },
     "metadata": {},
     "output_type": "display_data"
    },
    {
     "name": "stdout",
     "output_type": "stream",
     "text": [
      "var =\n"
     ]
    },
    {
     "data": {
      "text/latex": [
       "$$A_{z_{1}}$$"
      ],
      "text/plain": [
       "<IPython.core.display.Math object>"
      ]
     },
     "metadata": {},
     "output_type": "display_data"
    },
    {
     "name": "stdout",
     "output_type": "stream",
     "text": [
      "\n",
      "sol=\n"
     ]
    },
    {
     "data": {
      "text/latex": [
       "$$\\left[A_{z_{1}} = -\\frac{2 \\, B_{z_{1}} \\sin\\left(h k_{1}\\right)^{2} - B_{z_{1}}}{2 \\, \\cos\\left(h k_{1}\\right) \\sin\\left(h k_{1}\\right)}\\right]$$"
      ],
      "text/plain": [
       "<IPython.core.display.Math object>"
      ]
     },
     "metadata": {},
     "output_type": "display_data"
    },
    {
     "name": "stdout",
     "output_type": "stream",
     "text": [
      "\n",
      "var =\n"
     ]
    },
    {
     "data": {
      "text/latex": [
       "$$B_{r_{1}}$$"
      ],
      "text/plain": [
       "<IPython.core.display.Math object>"
      ]
     },
     "metadata": {},
     "output_type": "display_data"
    },
    {
     "name": "stdout",
     "output_type": "stream",
     "text": [
      "\n",
      "sol=\n"
     ]
    },
    {
     "data": {
      "text/latex": [
       "$$\\left[B_{r_{1}} = -\\frac{{\\left(\\kappa^{3} J_{m + 1}(\\kappa \\rho) - \\kappa^{3} J_{m - 1}(\\kappa \\rho)\\right)} \\rho^{2}}{2 \\, m^{4} J_{m}(\\kappa \\rho) + {\\left(\\kappa^{4} J_{m + 2}(\\kappa \\rho) + \\kappa^{4} J_{m - 2}(\\kappa \\rho) - 2 \\, \\kappa^{4} J_{m}(\\kappa \\rho)\\right)} \\rho^{3} - {\\left(\\kappa^{2} m^{2} J_{m + 2}(\\kappa \\rho) + \\kappa^{2} m^{2} J_{m - 2}(\\kappa \\rho) + \\kappa^{3} J_{m + 1}(\\kappa \\rho) - \\kappa^{3} J_{m - 1}(\\kappa \\rho) - 2 \\, {\\left(\\kappa^{4} + \\kappa^{2} m^{2}\\right)} J_{m}(\\kappa \\rho)\\right)} \\rho^{2} - 2 \\, {\\left(2 \\, \\kappa^{2} m^{2} J_{m}(\\kappa \\rho) - \\kappa m^{2} J_{m + 1}(\\kappa \\rho) + \\kappa m^{2} J_{m - 1}(\\kappa \\rho)\\right)} \\rho}\\right]$$"
      ],
      "text/plain": [
       "<IPython.core.display.Math object>"
      ]
     },
     "metadata": {},
     "output_type": "display_data"
    },
    {
     "name": "stdout",
     "output_type": "stream",
     "text": [
      "\n",
      "var =\n"
     ]
    },
    {
     "data": {
      "text/latex": [
       "$$B_{z_{1}}$$"
      ],
      "text/plain": [
       "<IPython.core.display.Math object>"
      ]
     },
     "metadata": {},
     "output_type": "display_data"
    },
    {
     "name": "stdout",
     "output_type": "stream",
     "text": [
      "\n",
      "sol=\n"
     ]
    },
    {
     "data": {
      "text/latex": [
       "$$\\left[B_{z_{1}} = -\\frac{2 \\, A_{z_{1}} \\cos\\left(h k_{1}\\right) \\sin\\left(h k_{1}\\right)}{2 \\, \\sin\\left(h k_{1}\\right)^{2} - 1}\\right]$$"
      ],
      "text/plain": [
       "<IPython.core.display.Math object>"
      ]
     },
     "metadata": {},
     "output_type": "display_data"
    },
    {
     "name": "stdout",
     "output_type": "stream",
     "text": [
      "\n",
      "eq4 =\n"
     ]
    },
    {
     "data": {
      "text/latex": [
       "$$-\\frac{{\\left(8 \\, {\\left(2 \\, B_{r_{1}}^{2} c^{2} \\cos\\left(h k_{1}\\right)^{3} - B_{r_{1}}^{2} c^{2} \\cos\\left(h k_{1}\\right)\\right)} m^{6} r_{1} J_{m}(\\kappa \\rho) \\sin\\left(h k_{1}\\right) + {\\left(2 \\, {\\left(2 \\, {\\left(3 \\, B_{\\phi_{1}} B_{r_{1}}^{2} - B_{\\phi_{1}} B_{r_{1}}\\right)} c^{2} k_{1} \\cos\\left(h k_{1}\\right)^{3} - {\\left(3 \\, B_{\\phi_{1}} B_{r_{1}}^{2} - B_{\\phi_{1}} B_{r_{1}}\\right)} c^{2} k_{1} \\cos\\left(h k_{1}\\right)\\right)} \\kappa^{4} m J_{m - 2}(\\kappa \\rho) \\sin\\left(h k_{1}\\right) - {\\left(4 \\, {\\left(B_{r_{1}}^{2} - B_{r_{1}}\\right)} B_{z_{1}} c^{2} k_{1}^{2} \\cos\\left(h k_{1}\\right)^{4} - 4 \\, {\\left(B_{r_{1}}^{2} - B_{r_{1}}\\right)} B_{z_{1}} c^{2} k_{1}^{2} \\cos\\left(h k_{1}\\right)^{2} + {\\left(B_{r_{1}}^{2} - B_{r_{1}}\\right)} B_{z_{1}} c^{2} k_{1}^{2}\\right)} \\kappa^{4} J_{m - 2}(\\kappa \\rho) - 2 \\, {\\left({\\left({\\left(2 \\, B_{r_{1}}^{2} c^{2} \\cos\\left(h k_{1}\\right)^{3} - B_{r_{1}}^{2} c^{2} \\cos\\left(h k_{1}\\right)\\right)} \\kappa^{6} \\sin\\left(h k_{1}\\right) + 2 \\, {\\left(2 \\, B_{r_{1}}^{2} c^{2} k_{1}^{2} \\cos\\left(h k_{1}\\right)^{3} - B_{r_{1}}^{2} c^{2} k_{1}^{2} \\cos\\left(h k_{1}\\right)\\right)} \\kappa^{4} \\sin\\left(h k_{1}\\right)\\right)} J_{m + 2}(\\kappa \\rho) + {\\left({\\left(2 \\, B_{r_{1}}^{2} c^{2} \\cos\\left(h k_{1}\\right)^{3} - B_{r_{1}}^{2} c^{2} \\cos\\left(h k_{1}\\right)\\right)} \\kappa^{6} \\sin\\left(h k_{1}\\right) + 2 \\, {\\left(2 \\, B_{r_{1}}^{2} c^{2} k_{1}^{2} \\cos\\left(h k_{1}\\right)^{3} - B_{r_{1}}^{2} c^{2} k_{1}^{2} \\cos\\left(h k_{1}\\right)\\right)} \\kappa^{4} \\sin\\left(h k_{1}\\right)\\right)} J_{m - 2}(\\kappa \\rho) - 2 \\, {\\left({\\left(2 \\, B_{r_{1}}^{2} c^{2} \\cos\\left(h k_{1}\\right)^{3} - B_{r_{1}}^{2} c^{2} \\cos\\left(h k_{1}\\right)\\right)} \\kappa^{6} \\sin\\left(h k_{1}\\right) + 2 \\, {\\left(2 \\, B_{r_{1}}^{2} c^{2} k_{1}^{2} \\cos\\left(h k_{1}\\right)^{3} - B_{r_{1}}^{2} c^{2} k_{1}^{2} \\cos\\left(h k_{1}\\right)\\right)} \\kappa^{4} \\sin\\left(h k_{1}\\right)\\right)} J_{m}(\\kappa \\rho)\\right)} r_{1} + {\\left(2 \\, {\\left(2 \\, {\\left(3 \\, B_{\\phi_{1}} B_{r_{1}}^{2} - B_{\\phi_{1}} B_{r_{1}}\\right)} c^{2} k_{1} \\cos\\left(h k_{1}\\right)^{3} - {\\left(3 \\, B_{\\phi_{1}} B_{r_{1}}^{2} - B_{\\phi_{1}} B_{r_{1}}\\right)} c^{2} k_{1} \\cos\\left(h k_{1}\\right)\\right)} \\kappa^{4} m \\sin\\left(h k_{1}\\right) - {\\left(4 \\, {\\left(B_{r_{1}}^{2} - B_{r_{1}}\\right)} B_{z_{1}} c^{2} k_{1}^{2} \\cos\\left(h k_{1}\\right)^{4} - 4 \\, {\\left(B_{r_{1}}^{2} - B_{r_{1}}\\right)} B_{z_{1}} c^{2} k_{1}^{2} \\cos\\left(h k_{1}\\right)^{2} + {\\left(B_{r_{1}}^{2} - B_{r_{1}}\\right)} B_{z_{1}} c^{2} k_{1}^{2}\\right)} \\kappa^{4}\\right)} J_{m + 2}(\\kappa \\rho) - 2 \\, {\\left(2 \\, {\\left(2 \\, {\\left(3 \\, B_{\\phi_{1}} B_{r_{1}}^{2} - B_{\\phi_{1}} B_{r_{1}}\\right)} c^{2} k_{1} \\cos\\left(h k_{1}\\right)^{3} - {\\left(3 \\, B_{\\phi_{1}} B_{r_{1}}^{2} - B_{\\phi_{1}} B_{r_{1}}\\right)} c^{2} k_{1} \\cos\\left(h k_{1}\\right)\\right)} \\kappa^{4} m \\sin\\left(h k_{1}\\right) - {\\left(4 \\, {\\left(B_{r_{1}}^{2} - B_{r_{1}}\\right)} B_{z_{1}} c^{2} k_{1}^{2} \\cos\\left(h k_{1}\\right)^{4} - 4 \\, {\\left(B_{r_{1}}^{2} - B_{r_{1}}\\right)} B_{z_{1}} c^{2} k_{1}^{2} \\cos\\left(h k_{1}\\right)^{2} + {\\left(B_{r_{1}}^{2} - B_{r_{1}}\\right)} B_{z_{1}} c^{2} k_{1}^{2}\\right)} \\kappa^{4}\\right)} J_{m}(\\kappa \\rho)\\right)} \\rho^{4} - {\\left(2 \\, {\\left(2 \\, {\\left(3 \\, B_{\\phi_{1}} B_{r_{1}}^{2} - B_{\\phi_{1}} B_{r_{1}}\\right)} c^{2} k_{1} \\cos\\left(h k_{1}\\right)^{3} - {\\left(3 \\, B_{\\phi_{1}} B_{r_{1}}^{2} - B_{\\phi_{1}} B_{r_{1}}\\right)} c^{2} k_{1} \\cos\\left(h k_{1}\\right)\\right)} \\kappa^{2} m^{3} J_{m - 2}(\\kappa \\rho) \\sin\\left(h k_{1}\\right) - 8 \\, {\\left(2 \\, {\\left(4 \\, B_{\\phi_{1}} B_{r_{1}}^{2} - 3 \\, B_{\\phi_{1}} B_{r_{1}} + B_{\\phi_{1}}\\right)} c^{2} k_{1} \\cos\\left(h k_{1}\\right)^{3} - {\\left(4 \\, B_{\\phi_{1}} B_{r_{1}}^{2} - 3 \\, B_{\\phi_{1}} B_{r_{1}} + B_{\\phi_{1}}\\right)} c^{2} k_{1} \\cos\\left(h k_{1}\\right)\\right)} \\kappa^{3} m J_{m - 1}(\\kappa \\rho) \\sin\\left(h k_{1}\\right) - {\\left(4 \\, {\\left(B_{r_{1}}^{2} - B_{r_{1}}\\right)} B_{z_{1}} c^{2} k_{1}^{2} \\cos\\left(h k_{1}\\right)^{4} - 4 \\, {\\left(B_{r_{1}}^{2} - B_{r_{1}}\\right)} B_{z_{1}} c^{2} k_{1}^{2} \\cos\\left(h k_{1}\\right)^{2} + {\\left(B_{r_{1}}^{2} - B_{r_{1}}\\right)} B_{z_{1}} c^{2} k_{1}^{2}\\right)} \\kappa^{2} m^{2} J_{m - 2}(\\kappa \\rho) + 4 \\, {\\left(4 \\, {\\left(B_{r_{1}}^{2} - 2 \\, B_{r_{1}} + 1\\right)} B_{z_{1}} c^{2} k_{1}^{2} \\cos\\left(h k_{1}\\right)^{4} - 4 \\, {\\left(B_{r_{1}}^{2} - 2 \\, B_{r_{1}} + 1\\right)} B_{z_{1}} c^{2} k_{1}^{2} \\cos\\left(h k_{1}\\right)^{2} + {\\left(B_{r_{1}}^{2} - 2 \\, B_{r_{1}} + 1\\right)} B_{z_{1}} c^{2} k_{1}^{2}\\right)} \\kappa^{3} J_{m - 1}(\\kappa \\rho) - 4 \\, {\\left(2 \\, {\\left(2 \\, B_{r_{1}}^{2} \\epsilon_{1} \\cos\\left(h k_{1}\\right)^{3} - B_{r_{1}}^{2} \\epsilon_{1} \\cos\\left(h k_{1}\\right)\\right)} \\kappa^{4} \\mu_{1} \\omega^{2} J_{m}(\\kappa \\rho) \\sin\\left(h k_{1}\\right) + {\\left({\\left(2 \\, B_{r_{1}}^{2} c^{2} \\cos\\left(h k_{1}\\right)^{3} - B_{r_{1}}^{2} c^{2} \\cos\\left(h k_{1}\\right)\\right)} \\kappa^{4} \\sin\\left(h k_{1}\\right) + {\\left(2 \\, B_{r_{1}}^{2} c^{2} k_{1}^{2} \\cos\\left(h k_{1}\\right)^{3} - B_{r_{1}}^{2} c^{2} k_{1}^{2} \\cos\\left(h k_{1}\\right)\\right)} \\kappa^{2} \\sin\\left(h k_{1}\\right)\\right)} m^{2} J_{m + 2}(\\kappa \\rho) + {\\left({\\left(2 \\, B_{r_{1}}^{2} c^{2} \\cos\\left(h k_{1}\\right)^{3} - B_{r_{1}}^{2} c^{2} \\cos\\left(h k_{1}\\right)\\right)} \\kappa^{4} \\sin\\left(h k_{1}\\right) + {\\left(2 \\, B_{r_{1}}^{2} c^{2} k_{1}^{2} \\cos\\left(h k_{1}\\right)^{3} - B_{r_{1}}^{2} c^{2} k_{1}^{2} \\cos\\left(h k_{1}\\right)\\right)} \\kappa^{2} \\sin\\left(h k_{1}\\right)\\right)} m^{2} J_{m - 2}(\\kappa \\rho) - 2 \\, {\\left({\\left(2 \\, B_{r_{1}}^{2} c^{2} \\cos\\left(h k_{1}\\right)^{3} - B_{r_{1}}^{2} c^{2} \\cos\\left(h k_{1}\\right)\\right)} \\kappa^{4} \\sin\\left(h k_{1}\\right) + {\\left(2 \\, B_{r_{1}}^{2} c^{2} k_{1}^{2} \\cos\\left(h k_{1}\\right)^{3} - B_{r_{1}}^{2} c^{2} k_{1}^{2} \\cos\\left(h k_{1}\\right)\\right)} \\kappa^{2} \\sin\\left(h k_{1}\\right)\\right)} m^{2} J_{m}(\\kappa \\rho) + {\\left({\\left(2 \\, B_{r_{1}}^{2} c^{2} \\cos\\left(h k_{1}\\right)^{3} - B_{r_{1}}^{2} c^{2} \\cos\\left(h k_{1}\\right)\\right)} \\kappa^{5} \\sin\\left(h k_{1}\\right) + {\\left(2 \\, {\\left(3 \\, B_{r_{1}}^{2} - B_{r_{1}}\\right)} c^{2} k_{1}^{2} \\cos\\left(h k_{1}\\right)^{3} - {\\left(3 \\, B_{r_{1}}^{2} - B_{r_{1}}\\right)} c^{2} k_{1}^{2} \\cos\\left(h k_{1}\\right)\\right)} \\kappa^{3} \\sin\\left(h k_{1}\\right)\\right)} J_{m + 1}(\\kappa \\rho) - {\\left({\\left(2 \\, B_{r_{1}}^{2} c^{2} \\cos\\left(h k_{1}\\right)^{3} - B_{r_{1}}^{2} c^{2} \\cos\\left(h k_{1}\\right)\\right)} \\kappa^{5} \\sin\\left(h k_{1}\\right) + {\\left(2 \\, {\\left(3 \\, B_{r_{1}}^{2} - B_{r_{1}}\\right)} c^{2} k_{1}^{2} \\cos\\left(h k_{1}\\right)^{3} - {\\left(3 \\, B_{r_{1}}^{2} - B_{r_{1}}\\right)} c^{2} k_{1}^{2} \\cos\\left(h k_{1}\\right)\\right)} \\kappa^{3} \\sin\\left(h k_{1}\\right)\\right)} J_{m - 1}(\\kappa \\rho)\\right)} r_{1} + {\\left(2 \\, {\\left(2 \\, {\\left(3 \\, B_{\\phi_{1}} B_{r_{1}}^{2} - B_{\\phi_{1}} B_{r_{1}}\\right)} c^{2} k_{1} \\cos\\left(h k_{1}\\right)^{3} - {\\left(3 \\, B_{\\phi_{1}} B_{r_{1}}^{2} - B_{\\phi_{1}} B_{r_{1}}\\right)} c^{2} k_{1} \\cos\\left(h k_{1}\\right)\\right)} \\kappa^{2} m^{3} \\sin\\left(h k_{1}\\right) - {\\left(4 \\, {\\left(B_{r_{1}}^{2} - B_{r_{1}}\\right)} B_{z_{1}} c^{2} k_{1}^{2} \\cos\\left(h k_{1}\\right)^{4} - 4 \\, {\\left(B_{r_{1}}^{2} - B_{r_{1}}\\right)} B_{z_{1}} c^{2} k_{1}^{2} \\cos\\left(h k_{1}\\right)^{2} + {\\left(B_{r_{1}}^{2} - B_{r_{1}}\\right)} B_{z_{1}} c^{2} k_{1}^{2}\\right)} \\kappa^{2} m^{2}\\right)} J_{m + 2}(\\kappa \\rho) + 4 \\, {\\left(2 \\, {\\left(2 \\, {\\left(4 \\, B_{\\phi_{1}} B_{r_{1}}^{2} - 3 \\, B_{\\phi_{1}} B_{r_{1}} + B_{\\phi_{1}}\\right)} c^{2} k_{1} \\cos\\left(h k_{1}\\right)^{3} - {\\left(4 \\, B_{\\phi_{1}} B_{r_{1}}^{2} - 3 \\, B_{\\phi_{1}} B_{r_{1}} + B_{\\phi_{1}}\\right)} c^{2} k_{1} \\cos\\left(h k_{1}\\right)\\right)} \\kappa^{3} m \\sin\\left(h k_{1}\\right) - {\\left(4 \\, {\\left(B_{r_{1}}^{2} - 2 \\, B_{r_{1}} + 1\\right)} B_{z_{1}} c^{2} k_{1}^{2} \\cos\\left(h k_{1}\\right)^{4} - 4 \\, {\\left(B_{r_{1}}^{2} - 2 \\, B_{r_{1}} + 1\\right)} B_{z_{1}} c^{2} k_{1}^{2} \\cos\\left(h k_{1}\\right)^{2} + {\\left(B_{r_{1}}^{2} - 2 \\, B_{r_{1}} + 1\\right)} B_{z_{1}} c^{2} k_{1}^{2}\\right)} \\kappa^{3}\\right)} J_{m + 1}(\\kappa \\rho) - 2 \\, {\\left(4 \\, {\\left(2 \\, B_{\\phi_{1}} B_{r_{1}}^{2} c^{2} k_{1} \\cos\\left(h k_{1}\\right)^{3} - B_{\\phi_{1}} B_{r_{1}}^{2} c^{2} k_{1} \\cos\\left(h k_{1}\\right)\\right)} \\kappa^{4} m \\sin\\left(h k_{1}\\right) + 2 \\, {\\left(2 \\, {\\left(3 \\, B_{\\phi_{1}} B_{r_{1}}^{2} - B_{\\phi_{1}} B_{r_{1}}\\right)} c^{2} k_{1} \\cos\\left(h k_{1}\\right)^{3} - {\\left(3 \\, B_{\\phi_{1}} B_{r_{1}}^{2} - B_{\\phi_{1}} B_{r_{1}}\\right)} c^{2} k_{1} \\cos\\left(h k_{1}\\right)\\right)} \\kappa^{2} m^{3} \\sin\\left(h k_{1}\\right) - {\\left(4 \\, {\\left(B_{r_{1}}^{2} - B_{r_{1}}\\right)} B_{z_{1}} c^{2} k_{1}^{2} \\cos\\left(h k_{1}\\right)^{4} - 4 \\, {\\left(B_{r_{1}}^{2} - B_{r_{1}}\\right)} B_{z_{1}} c^{2} k_{1}^{2} \\cos\\left(h k_{1}\\right)^{2} + {\\left(B_{r_{1}}^{2} - B_{r_{1}}\\right)} B_{z_{1}} c^{2} k_{1}^{2}\\right)} \\kappa^{2} m^{2}\\right)} J_{m}(\\kappa \\rho)\\right)} \\rho^{3} - 2 \\, {\\left(6 \\, {\\left(2 \\, {\\left(3 \\, B_{\\phi_{1}} B_{r_{1}}^{2} - B_{\\phi_{1}} B_{r_{1}}\\right)} c^{2} k_{1} \\cos\\left(h k_{1}\\right)^{3} - {\\left(3 \\, B_{\\phi_{1}} B_{r_{1}}^{2} - B_{\\phi_{1}} B_{r_{1}}\\right)} c^{2} k_{1} \\cos\\left(h k_{1}\\right)\\right)} \\kappa m^{3} J_{m - 1}(\\kappa \\rho) \\sin\\left(h k_{1}\\right) - 2 \\, {\\left(4 \\, {\\left(B_{r_{1}}^{2} - B_{r_{1}}\\right)} B_{z_{1}} c^{2} k_{1}^{2} \\cos\\left(h k_{1}\\right)^{4} - 4 \\, {\\left(B_{r_{1}}^{2} - B_{r_{1}}\\right)} B_{z_{1}} c^{2} k_{1}^{2} \\cos\\left(h k_{1}\\right)^{2} + {\\left(B_{r_{1}}^{2} - B_{r_{1}}\\right)} B_{z_{1}} c^{2} k_{1}^{2}\\right)} \\kappa m^{2} J_{m - 1}(\\kappa \\rho) + {\\left(8 \\, {\\left(2 \\, B_{r_{1}}^{2} \\epsilon_{1} \\cos\\left(h k_{1}\\right)^{3} - B_{r_{1}}^{2} \\epsilon_{1} \\cos\\left(h k_{1}\\right)\\right)} \\kappa^{2} m^{2} \\mu_{1} \\omega^{2} J_{m}(\\kappa \\rho) \\sin\\left(h k_{1}\\right) + {\\left(2 \\, B_{r_{1}}^{2} c^{2} \\cos\\left(h k_{1}\\right)^{3} - B_{r_{1}}^{2} c^{2} \\cos\\left(h k_{1}\\right)\\right)} \\kappa^{2} m^{4} J_{m + 2}(\\kappa \\rho) \\sin\\left(h k_{1}\\right) + {\\left(2 \\, B_{r_{1}}^{2} c^{2} \\cos\\left(h k_{1}\\right)^{3} - B_{r_{1}}^{2} c^{2} \\cos\\left(h k_{1}\\right)\\right)} \\kappa^{2} m^{4} J_{m - 2}(\\kappa \\rho) \\sin\\left(h k_{1}\\right) + 4 \\, {\\left({\\left(2 \\, B_{r_{1}}^{2} c^{2} \\cos\\left(h k_{1}\\right)^{3} - B_{r_{1}}^{2} c^{2} \\cos\\left(h k_{1}\\right)\\right)} \\kappa^{3} \\sin\\left(h k_{1}\\right) + 2 \\, {\\left(2 \\, B_{r_{1}}^{2} c^{2} k_{1}^{2} \\cos\\left(h k_{1}\\right)^{3} - B_{r_{1}}^{2} c^{2} k_{1}^{2} \\cos\\left(h k_{1}\\right)\\right)} \\kappa \\sin\\left(h k_{1}\\right)\\right)} m^{2} J_{m + 1}(\\kappa \\rho) - 4 \\, {\\left({\\left(2 \\, B_{r_{1}}^{2} c^{2} \\cos\\left(h k_{1}\\right)^{3} - B_{r_{1}}^{2} c^{2} \\cos\\left(h k_{1}\\right)\\right)} \\kappa^{3} \\sin\\left(h k_{1}\\right) + 2 \\, {\\left(2 \\, B_{r_{1}}^{2} c^{2} k_{1}^{2} \\cos\\left(h k_{1}\\right)^{3} - B_{r_{1}}^{2} c^{2} k_{1}^{2} \\cos\\left(h k_{1}\\right)\\right)} \\kappa \\sin\\left(h k_{1}\\right)\\right)} m^{2} J_{m - 1}(\\kappa \\rho) - 2 \\, {\\left(2 \\, {\\left(2 \\, B_{r_{1}}^{2} c^{2} \\cos\\left(h k_{1}\\right)^{3} - B_{r_{1}}^{2} c^{2} \\cos\\left(h k_{1}\\right)\\right)} \\kappa^{4} m^{2} \\sin\\left(h k_{1}\\right) + {\\left(2 \\, B_{r_{1}}^{2} c^{2} \\cos\\left(h k_{1}\\right)^{3} - B_{r_{1}}^{2} c^{2} \\cos\\left(h k_{1}\\right)\\right)} \\kappa^{2} m^{4} \\sin\\left(h k_{1}\\right)\\right)} J_{m}(\\kappa \\rho)\\right)} r_{1} - 2 \\, {\\left(3 \\, {\\left(2 \\, {\\left(3 \\, B_{\\phi_{1}} B_{r_{1}}^{2} - B_{\\phi_{1}} B_{r_{1}}\\right)} c^{2} k_{1} \\cos\\left(h k_{1}\\right)^{3} - {\\left(3 \\, B_{\\phi_{1}} B_{r_{1}}^{2} - B_{\\phi_{1}} B_{r_{1}}\\right)} c^{2} k_{1} \\cos\\left(h k_{1}\\right)\\right)} \\kappa m^{3} \\sin\\left(h k_{1}\\right) - {\\left(4 \\, {\\left(B_{r_{1}}^{2} - B_{r_{1}}\\right)} B_{z_{1}} c^{2} k_{1}^{2} \\cos\\left(h k_{1}\\right)^{4} - 4 \\, {\\left(B_{r_{1}}^{2} - B_{r_{1}}\\right)} B_{z_{1}} c^{2} k_{1}^{2} \\cos\\left(h k_{1}\\right)^{2} + {\\left(B_{r_{1}}^{2} - B_{r_{1}}\\right)} B_{z_{1}} c^{2} k_{1}^{2}\\right)} \\kappa m^{2}\\right)} J_{m + 1}(\\kappa \\rho) + 8 \\, {\\left({\\left(2 \\, B_{\\phi_{1}} B_{r_{1}}^{2} c^{2} k_{1} \\cos\\left(h k_{1}\\right)^{3} - B_{\\phi_{1}} B_{r_{1}}^{2} c^{2} k_{1} \\cos\\left(h k_{1}\\right)\\right)} \\kappa^{2} m^{3} \\sin\\left(h k_{1}\\right) - {\\left(2 \\, {\\left(B_{\\phi_{1}} B_{r_{1}}^{2} - 2 \\, B_{\\phi_{1}} B_{r_{1}} + B_{\\phi_{1}}\\right)} c^{2} k_{1} \\cos\\left(h k_{1}\\right)^{3} - {\\left(B_{\\phi_{1}} B_{r_{1}}^{2} - 2 \\, B_{\\phi_{1}} B_{r_{1}} + B_{\\phi_{1}}\\right)} c^{2} k_{1} \\cos\\left(h k_{1}\\right)\\right)} \\kappa^{2} m \\sin\\left(h k_{1}\\right)\\right)} J_{m}(\\kappa \\rho)\\right)} \\rho^{2} + 4 \\, {\\left({\\left(2 \\, {\\left(2 \\, B_{r_{1}}^{2} \\epsilon_{1} \\cos\\left(h k_{1}\\right)^{3} - B_{r_{1}}^{2} \\epsilon_{1} \\cos\\left(h k_{1}\\right)\\right)} m^{4} \\mu_{1} \\omega^{2} J_{m}(\\kappa \\rho) \\sin\\left(h k_{1}\\right) - 4 \\, {\\left(2 \\, B_{r_{1}}^{2} c^{2} \\cos\\left(h k_{1}\\right)^{3} - B_{r_{1}}^{2} c^{2} \\cos\\left(h k_{1}\\right)\\right)} \\kappa^{2} m^{4} J_{m}(\\kappa \\rho) \\sin\\left(h k_{1}\\right) + {\\left(2 \\, B_{r_{1}}^{2} c^{2} \\cos\\left(h k_{1}\\right)^{3} - B_{r_{1}}^{2} c^{2} \\cos\\left(h k_{1}\\right)\\right)} \\kappa m^{4} J_{m + 1}(\\kappa \\rho) \\sin\\left(h k_{1}\\right) - {\\left(2 \\, B_{r_{1}}^{2} c^{2} \\cos\\left(h k_{1}\\right)^{3} - B_{r_{1}}^{2} c^{2} \\cos\\left(h k_{1}\\right)\\right)} \\kappa m^{4} J_{m - 1}(\\kappa \\rho) \\sin\\left(h k_{1}\\right)\\right)} r_{1} + 2 \\, {\\left({\\left(2 \\, B_{\\phi_{1}} B_{r_{1}}^{2} c^{2} k_{1} \\cos\\left(h k_{1}\\right)^{3} - B_{\\phi_{1}} B_{r_{1}}^{2} c^{2} k_{1} \\cos\\left(h k_{1}\\right)\\right)} m^{5} \\sin\\left(h k_{1}\\right) - {\\left(2 \\, {\\left(3 \\, B_{\\phi_{1}} B_{r_{1}}^{2} - B_{\\phi_{1}} B_{r_{1}}\\right)} c^{2} k_{1} \\cos\\left(h k_{1}\\right)^{3} - {\\left(3 \\, B_{\\phi_{1}} B_{r_{1}}^{2} - B_{\\phi_{1}} B_{r_{1}}\\right)} c^{2} k_{1} \\cos\\left(h k_{1}\\right)\\right)} m^{3} \\sin\\left(h k_{1}\\right)\\right)} J_{m}(\\kappa \\rho)\\right)} \\rho\\right)} \\cos\\left(m \\varphi\\right) \\cos\\left(k_{1} z\\right)^{2} - {\\left(4 \\, {\\left(4 \\, B_{r_{1}}^{2} c^{2} \\cos\\left(h k_{1}\\right)^{4} - 4 \\, B_{r_{1}}^{2} c^{2} \\cos\\left(h k_{1}\\right)^{2} + B_{r_{1}}^{2} c^{2}\\right)} m^{6} r_{1} J_{m}(\\kappa \\rho) - 8 \\, {\\left(2 \\, B_{r_{1}}^{2} B_{z_{1}} c^{2} \\cos\\left(h k_{1}\\right)^{3} - B_{r_{1}}^{2} B_{z_{1}} c^{2} \\cos\\left(h k_{1}\\right)\\right)} m^{6} J_{m}(\\kappa \\rho) \\sin\\left(h k_{1}\\right) + {\\left({\\left(8 \\, {\\left(3 \\, B_{\\phi_{1}} B_{r_{1}}^{2} - B_{\\phi_{1}} B_{r_{1}}\\right)} c^{2} k_{1} \\cos\\left(h k_{1}\\right)^{4} - 8 \\, {\\left(3 \\, B_{\\phi_{1}} B_{r_{1}}^{2} - B_{\\phi_{1}} B_{r_{1}}\\right)} c^{2} k_{1} \\cos\\left(h k_{1}\\right)^{2} + {\\left(3 \\, B_{\\phi_{1}} B_{r_{1}}^{2} - B_{\\phi_{1}} B_{r_{1}}\\right)} c^{2} k_{1}\\right)} \\kappa^{4} m J_{m - 2}(\\kappa \\rho) - {\\left({\\left({\\left(4 \\, B_{r_{1}}^{2} c^{2} \\cos\\left(h k_{1}\\right)^{4} - 4 \\, B_{r_{1}}^{2} c^{2} \\cos\\left(h k_{1}\\right)^{2} + B_{r_{1}}^{2} c^{2}\\right)} \\kappa^{6} + {\\left(4 \\, {\\left(3 \\, B_{r_{1}}^{2} - B_{r_{1}}\\right)} c^{2} k_{1}^{2} \\cos\\left(h k_{1}\\right)^{4} - 4 \\, {\\left(3 \\, B_{r_{1}}^{2} - B_{r_{1}}\\right)} c^{2} k_{1}^{2} \\cos\\left(h k_{1}\\right)^{2} + {\\left(3 \\, B_{r_{1}}^{2} - B_{r_{1}}\\right)} c^{2} k_{1}^{2}\\right)} \\kappa^{4}\\right)} J_{m + 2}(\\kappa \\rho) + {\\left({\\left(4 \\, B_{r_{1}}^{2} c^{2} \\cos\\left(h k_{1}\\right)^{4} - 4 \\, B_{r_{1}}^{2} c^{2} \\cos\\left(h k_{1}\\right)^{2} + B_{r_{1}}^{2} c^{2}\\right)} \\kappa^{6} + {\\left(4 \\, {\\left(3 \\, B_{r_{1}}^{2} - B_{r_{1}}\\right)} c^{2} k_{1}^{2} \\cos\\left(h k_{1}\\right)^{4} - 4 \\, {\\left(3 \\, B_{r_{1}}^{2} - B_{r_{1}}\\right)} c^{2} k_{1}^{2} \\cos\\left(h k_{1}\\right)^{2} + {\\left(3 \\, B_{r_{1}}^{2} - B_{r_{1}}\\right)} c^{2} k_{1}^{2}\\right)} \\kappa^{4}\\right)} J_{m - 2}(\\kappa \\rho) - 2 \\, {\\left({\\left(4 \\, B_{r_{1}}^{2} c^{2} \\cos\\left(h k_{1}\\right)^{4} - 4 \\, B_{r_{1}}^{2} c^{2} \\cos\\left(h k_{1}\\right)^{2} + B_{r_{1}}^{2} c^{2}\\right)} \\kappa^{6} + {\\left(4 \\, {\\left(3 \\, B_{r_{1}}^{2} - B_{r_{1}}\\right)} c^{2} k_{1}^{2} \\cos\\left(h k_{1}\\right)^{4} - 4 \\, {\\left(3 \\, B_{r_{1}}^{2} - B_{r_{1}}\\right)} c^{2} k_{1}^{2} \\cos\\left(h k_{1}\\right)^{2} + {\\left(3 \\, B_{r_{1}}^{2} - B_{r_{1}}\\right)} c^{2} k_{1}^{2}\\right)} \\kappa^{4}\\right)} J_{m}(\\kappa \\rho)\\right)} r_{1} + {\\left(2 \\, {\\left(2 \\, B_{r_{1}}^{2} B_{z_{1}} c^{2} \\cos\\left(h k_{1}\\right)^{3} - B_{r_{1}}^{2} B_{z_{1}} c^{2} \\cos\\left(h k_{1}\\right)\\right)} \\kappa^{6} \\sin\\left(h k_{1}\\right) + {\\left(8 \\, {\\left(3 \\, B_{\\phi_{1}} B_{r_{1}}^{2} - B_{\\phi_{1}} B_{r_{1}}\\right)} c^{2} k_{1} \\cos\\left(h k_{1}\\right)^{4} - 8 \\, {\\left(3 \\, B_{\\phi_{1}} B_{r_{1}}^{2} - B_{\\phi_{1}} B_{r_{1}}\\right)} c^{2} k_{1} \\cos\\left(h k_{1}\\right)^{2} + {\\left(3 \\, B_{\\phi_{1}} B_{r_{1}}^{2} - B_{\\phi_{1}} B_{r_{1}}\\right)} c^{2} k_{1}\\right)} \\kappa^{4} m + 2 \\, {\\left(2 \\, {\\left(3 \\, B_{r_{1}}^{2} - B_{r_{1}}\\right)} B_{z_{1}} c^{2} k_{1}^{2} \\cos\\left(h k_{1}\\right)^{3} - {\\left(3 \\, B_{r_{1}}^{2} - B_{r_{1}}\\right)} B_{z_{1}} c^{2} k_{1}^{2} \\cos\\left(h k_{1}\\right)\\right)} \\kappa^{4} \\sin\\left(h k_{1}\\right)\\right)} J_{m + 2}(\\kappa \\rho) + 2 \\, {\\left({\\left(2 \\, B_{r_{1}}^{2} B_{z_{1}} c^{2} \\cos\\left(h k_{1}\\right)^{3} - B_{r_{1}}^{2} B_{z_{1}} c^{2} \\cos\\left(h k_{1}\\right)\\right)} \\kappa^{6} \\sin\\left(h k_{1}\\right) + {\\left(2 \\, {\\left(3 \\, B_{r_{1}}^{2} - B_{r_{1}}\\right)} B_{z_{1}} c^{2} k_{1}^{2} \\cos\\left(h k_{1}\\right)^{3} - {\\left(3 \\, B_{r_{1}}^{2} - B_{r_{1}}\\right)} B_{z_{1}} c^{2} k_{1}^{2} \\cos\\left(h k_{1}\\right)\\right)} \\kappa^{4} \\sin\\left(h k_{1}\\right)\\right)} J_{m - 2}(\\kappa \\rho) - 2 \\, {\\left(2 \\, {\\left(2 \\, B_{r_{1}}^{2} B_{z_{1}} c^{2} \\cos\\left(h k_{1}\\right)^{3} - B_{r_{1}}^{2} B_{z_{1}} c^{2} \\cos\\left(h k_{1}\\right)\\right)} \\kappa^{6} \\sin\\left(h k_{1}\\right) + {\\left(8 \\, {\\left(3 \\, B_{\\phi_{1}} B_{r_{1}}^{2} - B_{\\phi_{1}} B_{r_{1}}\\right)} c^{2} k_{1} \\cos\\left(h k_{1}\\right)^{4} - 8 \\, {\\left(3 \\, B_{\\phi_{1}} B_{r_{1}}^{2} - B_{\\phi_{1}} B_{r_{1}}\\right)} c^{2} k_{1} \\cos\\left(h k_{1}\\right)^{2} + {\\left(3 \\, B_{\\phi_{1}} B_{r_{1}}^{2} - B_{\\phi_{1}} B_{r_{1}}\\right)} c^{2} k_{1}\\right)} \\kappa^{4} m + 2 \\, {\\left(2 \\, {\\left(3 \\, B_{r_{1}}^{2} - B_{r_{1}}\\right)} B_{z_{1}} c^{2} k_{1}^{2} \\cos\\left(h k_{1}\\right)^{3} - {\\left(3 \\, B_{r_{1}}^{2} - B_{r_{1}}\\right)} B_{z_{1}} c^{2} k_{1}^{2} \\cos\\left(h k_{1}\\right)\\right)} \\kappa^{4} \\sin\\left(h k_{1}\\right)\\right)} J_{m}(\\kappa \\rho)\\right)} \\rho^{4} - {\\left(8 \\, {\\left(2 \\, B_{r_{1}}^{2} B_{z_{1}} \\epsilon_{1} \\cos\\left(h k_{1}\\right)^{3} - B_{r_{1}}^{2} B_{z_{1}} \\epsilon_{1} \\cos\\left(h k_{1}\\right)\\right)} \\kappa^{4} \\mu_{1} \\omega^{2} J_{m}(\\kappa \\rho) \\sin\\left(h k_{1}\\right) + {\\left(8 \\, {\\left(3 \\, B_{\\phi_{1}} B_{r_{1}}^{2} - B_{\\phi_{1}} B_{r_{1}}\\right)} c^{2} k_{1} \\cos\\left(h k_{1}\\right)^{4} - 8 \\, {\\left(3 \\, B_{\\phi_{1}} B_{r_{1}}^{2} - B_{\\phi_{1}} B_{r_{1}}\\right)} c^{2} k_{1} \\cos\\left(h k_{1}\\right)^{2} + {\\left(3 \\, B_{\\phi_{1}} B_{r_{1}}^{2} - B_{\\phi_{1}} B_{r_{1}}\\right)} c^{2} k_{1}\\right)} \\kappa^{2} m^{3} J_{m - 2}(\\kappa \\rho) - 4 \\, {\\left(8 \\, {\\left(4 \\, B_{\\phi_{1}} B_{r_{1}}^{2} - 3 \\, B_{\\phi_{1}} B_{r_{1}} + B_{\\phi_{1}}\\right)} c^{2} k_{1} \\cos\\left(h k_{1}\\right)^{4} - 8 \\, {\\left(4 \\, B_{\\phi_{1}} B_{r_{1}}^{2} - 3 \\, B_{\\phi_{1}} B_{r_{1}} + B_{\\phi_{1}}\\right)} c^{2} k_{1} \\cos\\left(h k_{1}\\right)^{2} + {\\left(4 \\, B_{\\phi_{1}} B_{r_{1}}^{2} - 3 \\, B_{\\phi_{1}} B_{r_{1}} + B_{\\phi_{1}}\\right)} c^{2} k_{1}\\right)} \\kappa^{3} m J_{m - 1}(\\kappa \\rho) + 2 \\, {\\left(2 \\, {\\left(2 \\, B_{r_{1}}^{2} B_{z_{1}} c^{2} \\cos\\left(h k_{1}\\right)^{3} - B_{r_{1}}^{2} B_{z_{1}} c^{2} \\cos\\left(h k_{1}\\right)\\right)} \\kappa^{4} \\sin\\left(h k_{1}\\right) + {\\left(2 \\, {\\left(3 \\, B_{r_{1}}^{2} - B_{r_{1}}\\right)} B_{z_{1}} c^{2} k_{1}^{2} \\cos\\left(h k_{1}\\right)^{3} - {\\left(3 \\, B_{r_{1}}^{2} - B_{r_{1}}\\right)} B_{z_{1}} c^{2} k_{1}^{2} \\cos\\left(h k_{1}\\right)\\right)} \\kappa^{2} \\sin\\left(h k_{1}\\right)\\right)} m^{2} J_{m - 2}(\\kappa \\rho) - {\\left(4 \\, {\\left(4 \\, B_{r_{1}}^{2} \\epsilon_{1} \\cos\\left(h k_{1}\\right)^{4} - 4 \\, B_{r_{1}}^{2} \\epsilon_{1} \\cos\\left(h k_{1}\\right)^{2} + B_{r_{1}}^{2} \\epsilon_{1}\\right)} \\kappa^{4} \\mu_{1} \\omega^{2} J_{m}(\\kappa \\rho) + {\\left(2 \\, {\\left(4 \\, B_{r_{1}}^{2} c^{2} \\cos\\left(h k_{1}\\right)^{4} - 4 \\, B_{r_{1}}^{2} c^{2} \\cos\\left(h k_{1}\\right)^{2} + B_{r_{1}}^{2} c^{2}\\right)} \\kappa^{4} + {\\left(4 \\, {\\left(3 \\, B_{r_{1}}^{2} - B_{r_{1}}\\right)} c^{2} k_{1}^{2} \\cos\\left(h k_{1}\\right)^{4} - 4 \\, {\\left(3 \\, B_{r_{1}}^{2} - B_{r_{1}}\\right)} c^{2} k_{1}^{2} \\cos\\left(h k_{1}\\right)^{2} + {\\left(3 \\, B_{r_{1}}^{2} - B_{r_{1}}\\right)} c^{2} k_{1}^{2}\\right)} \\kappa^{2}\\right)} m^{2} J_{m + 2}(\\kappa \\rho) + {\\left(2 \\, {\\left(4 \\, B_{r_{1}}^{2} c^{2} \\cos\\left(h k_{1}\\right)^{4} - 4 \\, B_{r_{1}}^{2} c^{2} \\cos\\left(h k_{1}\\right)^{2} + B_{r_{1}}^{2} c^{2}\\right)} \\kappa^{4} + {\\left(4 \\, {\\left(3 \\, B_{r_{1}}^{2} - B_{r_{1}}\\right)} c^{2} k_{1}^{2} \\cos\\left(h k_{1}\\right)^{4} - 4 \\, {\\left(3 \\, B_{r_{1}}^{2} - B_{r_{1}}\\right)} c^{2} k_{1}^{2} \\cos\\left(h k_{1}\\right)^{2} + {\\left(3 \\, B_{r_{1}}^{2} - B_{r_{1}}\\right)} c^{2} k_{1}^{2}\\right)} \\kappa^{2}\\right)} m^{2} J_{m - 2}(\\kappa \\rho) - 2 \\, {\\left(2 \\, {\\left(4 \\, B_{r_{1}}^{2} c^{2} \\cos\\left(h k_{1}\\right)^{4} - 4 \\, B_{r_{1}}^{2} c^{2} \\cos\\left(h k_{1}\\right)^{2} + B_{r_{1}}^{2} c^{2}\\right)} \\kappa^{4} + {\\left(4 \\, {\\left(3 \\, B_{r_{1}}^{2} - B_{r_{1}}\\right)} c^{2} k_{1}^{2} \\cos\\left(h k_{1}\\right)^{4} - 4 \\, {\\left(3 \\, B_{r_{1}}^{2} - B_{r_{1}}\\right)} c^{2} k_{1}^{2} \\cos\\left(h k_{1}\\right)^{2} + {\\left(3 \\, B_{r_{1}}^{2} - B_{r_{1}}\\right)} c^{2} k_{1}^{2}\\right)} \\kappa^{2}\\right)} m^{2} J_{m}(\\kappa \\rho) + 2 \\, {\\left({\\left(4 \\, B_{r_{1}}^{2} c^{2} \\cos\\left(h k_{1}\\right)^{4} - 4 \\, B_{r_{1}}^{2} c^{2} \\cos\\left(h k_{1}\\right)^{2} + B_{r_{1}}^{2} c^{2}\\right)} \\kappa^{5} + {\\left(4 \\, {\\left(5 \\, B_{r_{1}}^{2} - 5 \\, B_{r_{1}} + 2\\right)} c^{2} k_{1}^{2} \\cos\\left(h k_{1}\\right)^{4} - 4 \\, {\\left(5 \\, B_{r_{1}}^{2} - 5 \\, B_{r_{1}} + 2\\right)} c^{2} k_{1}^{2} \\cos\\left(h k_{1}\\right)^{2} + {\\left(5 \\, B_{r_{1}}^{2} - 5 \\, B_{r_{1}} + 2\\right)} c^{2} k_{1}^{2}\\right)} \\kappa^{3}\\right)} J_{m + 1}(\\kappa \\rho) - 2 \\, {\\left({\\left(4 \\, B_{r_{1}}^{2} c^{2} \\cos\\left(h k_{1}\\right)^{4} - 4 \\, B_{r_{1}}^{2} c^{2} \\cos\\left(h k_{1}\\right)^{2} + B_{r_{1}}^{2} c^{2}\\right)} \\kappa^{5} + {\\left(4 \\, {\\left(5 \\, B_{r_{1}}^{2} - 5 \\, B_{r_{1}} + 2\\right)} c^{2} k_{1}^{2} \\cos\\left(h k_{1}\\right)^{4} - 4 \\, {\\left(5 \\, B_{r_{1}}^{2} - 5 \\, B_{r_{1}} + 2\\right)} c^{2} k_{1}^{2} \\cos\\left(h k_{1}\\right)^{2} + {\\left(5 \\, B_{r_{1}}^{2} - 5 \\, B_{r_{1}} + 2\\right)} c^{2} k_{1}^{2}\\right)} \\kappa^{3}\\right)} J_{m - 1}(\\kappa \\rho)\\right)} r_{1} + {\\left({\\left(8 \\, {\\left(3 \\, B_{\\phi_{1}} B_{r_{1}}^{2} - B_{\\phi_{1}} B_{r_{1}}\\right)} c^{2} k_{1} \\cos\\left(h k_{1}\\right)^{4} - 8 \\, {\\left(3 \\, B_{\\phi_{1}} B_{r_{1}}^{2} - B_{\\phi_{1}} B_{r_{1}}\\right)} c^{2} k_{1} \\cos\\left(h k_{1}\\right)^{2} + {\\left(3 \\, B_{\\phi_{1}} B_{r_{1}}^{2} - B_{\\phi_{1}} B_{r_{1}}\\right)} c^{2} k_{1}\\right)} \\kappa^{2} m^{3} + 2 \\, {\\left(2 \\, {\\left(2 \\, B_{r_{1}}^{2} B_{z_{1}} c^{2} \\cos\\left(h k_{1}\\right)^{3} - B_{r_{1}}^{2} B_{z_{1}} c^{2} \\cos\\left(h k_{1}\\right)\\right)} \\kappa^{4} \\sin\\left(h k_{1}\\right) + {\\left(2 \\, {\\left(3 \\, B_{r_{1}}^{2} - B_{r_{1}}\\right)} B_{z_{1}} c^{2} k_{1}^{2} \\cos\\left(h k_{1}\\right)^{3} - {\\left(3 \\, B_{r_{1}}^{2} - B_{r_{1}}\\right)} B_{z_{1}} c^{2} k_{1}^{2} \\cos\\left(h k_{1}\\right)\\right)} \\kappa^{2} \\sin\\left(h k_{1}\\right)\\right)} m^{2}\\right)} J_{m + 2}(\\kappa \\rho) + 4 \\, {\\left({\\left(2 \\, B_{r_{1}}^{2} B_{z_{1}} c^{2} \\cos\\left(h k_{1}\\right)^{3} - B_{r_{1}}^{2} B_{z_{1}} c^{2} \\cos\\left(h k_{1}\\right)\\right)} \\kappa^{5} \\sin\\left(h k_{1}\\right) + {\\left(8 \\, {\\left(4 \\, B_{\\phi_{1}} B_{r_{1}}^{2} - 3 \\, B_{\\phi_{1}} B_{r_{1}} + B_{\\phi_{1}}\\right)} c^{2} k_{1} \\cos\\left(h k_{1}\\right)^{4} - 8 \\, {\\left(4 \\, B_{\\phi_{1}} B_{r_{1}}^{2} - 3 \\, B_{\\phi_{1}} B_{r_{1}} + B_{\\phi_{1}}\\right)} c^{2} k_{1} \\cos\\left(h k_{1}\\right)^{2} + {\\left(4 \\, B_{\\phi_{1}} B_{r_{1}}^{2} - 3 \\, B_{\\phi_{1}} B_{r_{1}} + B_{\\phi_{1}}\\right)} c^{2} k_{1}\\right)} \\kappa^{3} m + {\\left(2 \\, {\\left(5 \\, B_{r_{1}}^{2} - 5 \\, B_{r_{1}} + 2\\right)} B_{z_{1}} c^{2} k_{1}^{2} \\cos\\left(h k_{1}\\right)^{3} - {\\left(5 \\, B_{r_{1}}^{2} - 5 \\, B_{r_{1}} + 2\\right)} B_{z_{1}} c^{2} k_{1}^{2} \\cos\\left(h k_{1}\\right)\\right)} \\kappa^{3} \\sin\\left(h k_{1}\\right)\\right)} J_{m + 1}(\\kappa \\rho) - 4 \\, {\\left({\\left(2 \\, B_{r_{1}}^{2} B_{z_{1}} c^{2} \\cos\\left(h k_{1}\\right)^{3} - B_{r_{1}}^{2} B_{z_{1}} c^{2} \\cos\\left(h k_{1}\\right)\\right)} \\kappa^{5} \\sin\\left(h k_{1}\\right) + {\\left(2 \\, {\\left(5 \\, B_{r_{1}}^{2} - 5 \\, B_{r_{1}} + 2\\right)} B_{z_{1}} c^{2} k_{1}^{2} \\cos\\left(h k_{1}\\right)^{3} - {\\left(5 \\, B_{r_{1}}^{2} - 5 \\, B_{r_{1}} + 2\\right)} B_{z_{1}} c^{2} k_{1}^{2} \\cos\\left(h k_{1}\\right)\\right)} \\kappa^{3} \\sin\\left(h k_{1}\\right)\\right)} J_{m - 1}(\\kappa \\rho) - 2 \\, {\\left(2 \\, {\\left(8 \\, B_{\\phi_{1}} B_{r_{1}}^{2} c^{2} k_{1} \\cos\\left(h k_{1}\\right)^{4} - 8 \\, B_{\\phi_{1}} B_{r_{1}}^{2} c^{2} k_{1} \\cos\\left(h k_{1}\\right)^{2} + B_{\\phi_{1}} B_{r_{1}}^{2} c^{2} k_{1}\\right)} \\kappa^{4} m + {\\left(8 \\, {\\left(3 \\, B_{\\phi_{1}} B_{r_{1}}^{2} - B_{\\phi_{1}} B_{r_{1}}\\right)} c^{2} k_{1} \\cos\\left(h k_{1}\\right)^{4} - 8 \\, {\\left(3 \\, B_{\\phi_{1}} B_{r_{1}}^{2} - B_{\\phi_{1}} B_{r_{1}}\\right)} c^{2} k_{1} \\cos\\left(h k_{1}\\right)^{2} + {\\left(3 \\, B_{\\phi_{1}} B_{r_{1}}^{2} - B_{\\phi_{1}} B_{r_{1}}\\right)} c^{2} k_{1}\\right)} \\kappa^{2} m^{3} + 2 \\, {\\left(2 \\, {\\left(2 \\, B_{r_{1}}^{2} B_{z_{1}} c^{2} \\cos\\left(h k_{1}\\right)^{3} - B_{r_{1}}^{2} B_{z_{1}} c^{2} \\cos\\left(h k_{1}\\right)\\right)} \\kappa^{4} \\sin\\left(h k_{1}\\right) + {\\left(2 \\, {\\left(3 \\, B_{r_{1}}^{2} - B_{r_{1}}\\right)} B_{z_{1}} c^{2} k_{1}^{2} \\cos\\left(h k_{1}\\right)^{3} - {\\left(3 \\, B_{r_{1}}^{2} - B_{r_{1}}\\right)} B_{z_{1}} c^{2} k_{1}^{2} \\cos\\left(h k_{1}\\right)\\right)} \\kappa^{2} \\sin\\left(h k_{1}\\right)\\right)} m^{2}\\right)} J_{m}(\\kappa \\rho)\\right)} \\rho^{3} + {\\left(16 \\, {\\left(2 \\, B_{r_{1}}^{2} B_{z_{1}} \\epsilon_{1} \\cos\\left(h k_{1}\\right)^{3} - B_{r_{1}}^{2} B_{z_{1}} \\epsilon_{1} \\cos\\left(h k_{1}\\right)\\right)} \\kappa^{2} m^{2} \\mu_{1} \\omega^{2} J_{m}(\\kappa \\rho) \\sin\\left(h k_{1}\\right) + 2 \\, {\\left(2 \\, B_{r_{1}}^{2} B_{z_{1}} c^{2} \\cos\\left(h k_{1}\\right)^{3} - B_{r_{1}}^{2} B_{z_{1}} c^{2} \\cos\\left(h k_{1}\\right)\\right)} \\kappa^{2} m^{4} J_{m + 2}(\\kappa \\rho) \\sin\\left(h k_{1}\\right) + 2 \\, {\\left(2 \\, B_{r_{1}}^{2} B_{z_{1}} c^{2} \\cos\\left(h k_{1}\\right)^{3} - B_{r_{1}}^{2} B_{z_{1}} c^{2} \\cos\\left(h k_{1}\\right)\\right)} \\kappa^{2} m^{4} J_{m - 2}(\\kappa \\rho) \\sin\\left(h k_{1}\\right) - 6 \\, {\\left(8 \\, {\\left(3 \\, B_{\\phi_{1}} B_{r_{1}}^{2} - B_{\\phi_{1}} B_{r_{1}}\\right)} c^{2} k_{1} \\cos\\left(h k_{1}\\right)^{4} - 8 \\, {\\left(3 \\, B_{\\phi_{1}} B_{r_{1}}^{2} - B_{\\phi_{1}} B_{r_{1}}\\right)} c^{2} k_{1} \\cos\\left(h k_{1}\\right)^{2} + {\\left(3 \\, B_{\\phi_{1}} B_{r_{1}}^{2} - B_{\\phi_{1}} B_{r_{1}}\\right)} c^{2} k_{1}\\right)} \\kappa m^{3} J_{m - 1}(\\kappa \\rho) - 8 \\, {\\left({\\left(2 \\, B_{r_{1}}^{2} B_{z_{1}} c^{2} \\cos\\left(h k_{1}\\right)^{3} - B_{r_{1}}^{2} B_{z_{1}} c^{2} \\cos\\left(h k_{1}\\right)\\right)} \\kappa^{3} \\sin\\left(h k_{1}\\right) + {\\left(2 \\, {\\left(3 \\, B_{r_{1}}^{2} - B_{r_{1}}\\right)} B_{z_{1}} c^{2} k_{1}^{2} \\cos\\left(h k_{1}\\right)^{3} - {\\left(3 \\, B_{r_{1}}^{2} - B_{r_{1}}\\right)} B_{z_{1}} c^{2} k_{1}^{2} \\cos\\left(h k_{1}\\right)\\right)} \\kappa \\sin\\left(h k_{1}\\right)\\right)} m^{2} J_{m - 1}(\\kappa \\rho) - {\\left(8 \\, {\\left(4 \\, B_{r_{1}}^{2} \\epsilon_{1} \\cos\\left(h k_{1}\\right)^{4} - 4 \\, B_{r_{1}}^{2} \\epsilon_{1} \\cos\\left(h k_{1}\\right)^{2} + B_{r_{1}}^{2} \\epsilon_{1}\\right)} \\kappa^{2} m^{2} \\mu_{1} \\omega^{2} J_{m}(\\kappa \\rho) + {\\left(4 \\, B_{r_{1}}^{2} c^{2} \\cos\\left(h k_{1}\\right)^{4} - 4 \\, B_{r_{1}}^{2} c^{2} \\cos\\left(h k_{1}\\right)^{2} + B_{r_{1}}^{2} c^{2}\\right)} \\kappa^{2} m^{4} J_{m + 2}(\\kappa \\rho) + {\\left(4 \\, B_{r_{1}}^{2} c^{2} \\cos\\left(h k_{1}\\right)^{4} - 4 \\, B_{r_{1}}^{2} c^{2} \\cos\\left(h k_{1}\\right)^{2} + B_{r_{1}}^{2} c^{2}\\right)} \\kappa^{2} m^{4} J_{m - 2}(\\kappa \\rho) + 4 \\, {\\left({\\left(4 \\, B_{r_{1}}^{2} c^{2} \\cos\\left(h k_{1}\\right)^{4} - 4 \\, B_{r_{1}}^{2} c^{2} \\cos\\left(h k_{1}\\right)^{2} + B_{r_{1}}^{2} c^{2}\\right)} \\kappa^{3} + {\\left(4 \\, {\\left(3 \\, B_{r_{1}}^{2} - B_{r_{1}}\\right)} c^{2} k_{1}^{2} \\cos\\left(h k_{1}\\right)^{4} - 4 \\, {\\left(3 \\, B_{r_{1}}^{2} - B_{r_{1}}\\right)} c^{2} k_{1}^{2} \\cos\\left(h k_{1}\\right)^{2} + {\\left(3 \\, B_{r_{1}}^{2} - B_{r_{1}}\\right)} c^{2} k_{1}^{2}\\right)} \\kappa\\right)} m^{2} J_{m + 1}(\\kappa \\rho) - 4 \\, {\\left({\\left(4 \\, B_{r_{1}}^{2} c^{2} \\cos\\left(h k_{1}\\right)^{4} - 4 \\, B_{r_{1}}^{2} c^{2} \\cos\\left(h k_{1}\\right)^{2} + B_{r_{1}}^{2} c^{2}\\right)} \\kappa^{3} + {\\left(4 \\, {\\left(3 \\, B_{r_{1}}^{2} - B_{r_{1}}\\right)} c^{2} k_{1}^{2} \\cos\\left(h k_{1}\\right)^{4} - 4 \\, {\\left(3 \\, B_{r_{1}}^{2} - B_{r_{1}}\\right)} c^{2} k_{1}^{2} \\cos\\left(h k_{1}\\right)^{2} + {\\left(3 \\, B_{r_{1}}^{2} - B_{r_{1}}\\right)} c^{2} k_{1}^{2}\\right)} \\kappa\\right)} m^{2} J_{m - 1}(\\kappa \\rho) - 2 \\, {\\left(2 \\, {\\left(4 \\, B_{r_{1}}^{2} c^{2} \\cos\\left(h k_{1}\\right)^{4} - 4 \\, B_{r_{1}}^{2} c^{2} \\cos\\left(h k_{1}\\right)^{2} + B_{r_{1}}^{2} c^{2}\\right)} \\kappa^{4} m^{2} + {\\left(4 \\, B_{r_{1}}^{2} c^{2} \\cos\\left(h k_{1}\\right)^{4} - 4 \\, B_{r_{1}}^{2} c^{2} \\cos\\left(h k_{1}\\right)^{2} + B_{r_{1}}^{2} c^{2}\\right)} \\kappa^{2} m^{4}\\right)} J_{m}(\\kappa \\rho)\\right)} r_{1} + 2 \\, {\\left(3 \\, {\\left(8 \\, {\\left(3 \\, B_{\\phi_{1}} B_{r_{1}}^{2} - B_{\\phi_{1}} B_{r_{1}}\\right)} c^{2} k_{1} \\cos\\left(h k_{1}\\right)^{4} - 8 \\, {\\left(3 \\, B_{\\phi_{1}} B_{r_{1}}^{2} - B_{\\phi_{1}} B_{r_{1}}\\right)} c^{2} k_{1} \\cos\\left(h k_{1}\\right)^{2} + {\\left(3 \\, B_{\\phi_{1}} B_{r_{1}}^{2} - B_{\\phi_{1}} B_{r_{1}}\\right)} c^{2} k_{1}\\right)} \\kappa m^{3} + 4 \\, {\\left({\\left(2 \\, B_{r_{1}}^{2} B_{z_{1}} c^{2} \\cos\\left(h k_{1}\\right)^{3} - B_{r_{1}}^{2} B_{z_{1}} c^{2} \\cos\\left(h k_{1}\\right)\\right)} \\kappa^{3} \\sin\\left(h k_{1}\\right) + {\\left(2 \\, {\\left(3 \\, B_{r_{1}}^{2} - B_{r_{1}}\\right)} B_{z_{1}} c^{2} k_{1}^{2} \\cos\\left(h k_{1}\\right)^{3} - {\\left(3 \\, B_{r_{1}}^{2} - B_{r_{1}}\\right)} B_{z_{1}} c^{2} k_{1}^{2} \\cos\\left(h k_{1}\\right)\\right)} \\kappa \\sin\\left(h k_{1}\\right)\\right)} m^{2}\\right)} J_{m + 1}(\\kappa \\rho) - 4 \\, {\\left(2 \\, {\\left(2 \\, B_{r_{1}}^{2} B_{z_{1}} c^{2} \\cos\\left(h k_{1}\\right)^{3} - B_{r_{1}}^{2} B_{z_{1}} c^{2} \\cos\\left(h k_{1}\\right)\\right)} \\kappa^{4} m^{2} \\sin\\left(h k_{1}\\right) + {\\left(2 \\, B_{r_{1}}^{2} B_{z_{1}} c^{2} \\cos\\left(h k_{1}\\right)^{3} - B_{r_{1}}^{2} B_{z_{1}} c^{2} \\cos\\left(h k_{1}\\right)\\right)} \\kappa^{2} m^{4} \\sin\\left(h k_{1}\\right) + 2 \\, {\\left(8 \\, B_{\\phi_{1}} B_{r_{1}}^{2} c^{2} k_{1} \\cos\\left(h k_{1}\\right)^{4} - 8 \\, B_{\\phi_{1}} B_{r_{1}}^{2} c^{2} k_{1} \\cos\\left(h k_{1}\\right)^{2} + B_{\\phi_{1}} B_{r_{1}}^{2} c^{2} k_{1}\\right)} \\kappa^{2} m^{3} - 2 \\, {\\left(8 \\, {\\left(B_{\\phi_{1}} B_{r_{1}}^{2} - 2 \\, B_{\\phi_{1}} B_{r_{1}} + B_{\\phi_{1}}\\right)} c^{2} k_{1} \\cos\\left(h k_{1}\\right)^{4} - 8 \\, {\\left(B_{\\phi_{1}} B_{r_{1}}^{2} - 2 \\, B_{\\phi_{1}} B_{r_{1}} + B_{\\phi_{1}}\\right)} c^{2} k_{1} \\cos\\left(h k_{1}\\right)^{2} + {\\left(B_{\\phi_{1}} B_{r_{1}}^{2} - 2 \\, B_{\\phi_{1}} B_{r_{1}} + B_{\\phi_{1}}\\right)} c^{2} k_{1}\\right)} \\kappa^{2} m\\right)} J_{m}(\\kappa \\rho)\\right)} \\rho^{2} - 2 \\, {\\left(4 \\, {\\left(2 \\, B_{r_{1}}^{2} B_{z_{1}} \\epsilon_{1} \\cos\\left(h k_{1}\\right)^{3} - B_{r_{1}}^{2} B_{z_{1}} \\epsilon_{1} \\cos\\left(h k_{1}\\right)\\right)} m^{4} \\mu_{1} \\omega^{2} J_{m}(\\kappa \\rho) \\sin\\left(h k_{1}\\right) + 2 \\, {\\left(2 \\, B_{r_{1}}^{2} B_{z_{1}} c^{2} \\cos\\left(h k_{1}\\right)^{3} - B_{r_{1}}^{2} B_{z_{1}} c^{2} \\cos\\left(h k_{1}\\right)\\right)} \\kappa m^{4} J_{m + 1}(\\kappa \\rho) \\sin\\left(h k_{1}\\right) - 2 \\, {\\left(2 \\, B_{r_{1}}^{2} B_{z_{1}} c^{2} \\cos\\left(h k_{1}\\right)^{3} - B_{r_{1}}^{2} B_{z_{1}} c^{2} \\cos\\left(h k_{1}\\right)\\right)} \\kappa m^{4} J_{m - 1}(\\kappa \\rho) \\sin\\left(h k_{1}\\right) - {\\left(2 \\, {\\left(4 \\, B_{r_{1}}^{2} \\epsilon_{1} \\cos\\left(h k_{1}\\right)^{4} - 4 \\, B_{r_{1}}^{2} \\epsilon_{1} \\cos\\left(h k_{1}\\right)^{2} + B_{r_{1}}^{2} \\epsilon_{1}\\right)} m^{4} \\mu_{1} \\omega^{2} J_{m}(\\kappa \\rho) - 4 \\, {\\left(4 \\, B_{r_{1}}^{2} c^{2} \\cos\\left(h k_{1}\\right)^{4} - 4 \\, B_{r_{1}}^{2} c^{2} \\cos\\left(h k_{1}\\right)^{2} + B_{r_{1}}^{2} c^{2}\\right)} \\kappa^{2} m^{4} J_{m}(\\kappa \\rho) + {\\left(4 \\, B_{r_{1}}^{2} c^{2} \\cos\\left(h k_{1}\\right)^{4} - 4 \\, B_{r_{1}}^{2} c^{2} \\cos\\left(h k_{1}\\right)^{2} + B_{r_{1}}^{2} c^{2}\\right)} \\kappa m^{4} J_{m + 1}(\\kappa \\rho) - {\\left(4 \\, B_{r_{1}}^{2} c^{2} \\cos\\left(h k_{1}\\right)^{4} - 4 \\, B_{r_{1}}^{2} c^{2} \\cos\\left(h k_{1}\\right)^{2} + B_{r_{1}}^{2} c^{2}\\right)} \\kappa m^{4} J_{m - 1}(\\kappa \\rho)\\right)} r_{1} - 2 \\, {\\left(4 \\, {\\left(2 \\, B_{r_{1}}^{2} B_{z_{1}} c^{2} \\cos\\left(h k_{1}\\right)^{3} - B_{r_{1}}^{2} B_{z_{1}} c^{2} \\cos\\left(h k_{1}\\right)\\right)} \\kappa^{2} m^{4} \\sin\\left(h k_{1}\\right) + {\\left(8 \\, B_{\\phi_{1}} B_{r_{1}}^{2} c^{2} k_{1} \\cos\\left(h k_{1}\\right)^{4} - 8 \\, B_{\\phi_{1}} B_{r_{1}}^{2} c^{2} k_{1} \\cos\\left(h k_{1}\\right)^{2} + B_{\\phi_{1}} B_{r_{1}}^{2} c^{2} k_{1}\\right)} m^{5} - {\\left(8 \\, {\\left(3 \\, B_{\\phi_{1}} B_{r_{1}}^{2} - B_{\\phi_{1}} B_{r_{1}}\\right)} c^{2} k_{1} \\cos\\left(h k_{1}\\right)^{4} - 8 \\, {\\left(3 \\, B_{\\phi_{1}} B_{r_{1}}^{2} - B_{\\phi_{1}} B_{r_{1}}\\right)} c^{2} k_{1} \\cos\\left(h k_{1}\\right)^{2} + {\\left(3 \\, B_{\\phi_{1}} B_{r_{1}}^{2} - B_{\\phi_{1}} B_{r_{1}}\\right)} c^{2} k_{1}\\right)} m^{3}\\right)} J_{m}(\\kappa \\rho)\\right)} \\rho\\right)} \\cos\\left(m \\varphi\\right) \\cos\\left(k_{1} z\\right) \\sin\\left(k_{1} z\\right) - {\\left(4 \\, {\\left(4 \\, B_{r_{1}}^{2} B_{z_{1}} c^{2} \\cos\\left(h k_{1}\\right)^{4} - 4 \\, B_{r_{1}}^{2} B_{z_{1}} c^{2} \\cos\\left(h k_{1}\\right)^{2} + B_{r_{1}}^{2} B_{z_{1}} c^{2}\\right)} m^{6} J_{m}(\\kappa \\rho) + {\\left(2 \\, {\\left(2 \\, {\\left(3 \\, B_{\\phi_{1}} B_{r_{1}}^{2} - B_{\\phi_{1}} B_{r_{1}}\\right)} c^{2} k_{1} \\cos\\left(h k_{1}\\right)^{3} - {\\left(3 \\, B_{\\phi_{1}} B_{r_{1}}^{2} - B_{\\phi_{1}} B_{r_{1}}\\right)} c^{2} k_{1} \\cos\\left(h k_{1}\\right)\\right)} \\kappa^{4} m J_{m - 2}(\\kappa \\rho) \\sin\\left(h k_{1}\\right) - 2 \\, {\\left({\\left(2 \\, {\\left(B_{r_{1}}^{2} - B_{r_{1}}\\right)} c^{2} k_{1}^{2} \\cos\\left(h k_{1}\\right)^{3} - {\\left(B_{r_{1}}^{2} - B_{r_{1}}\\right)} c^{2} k_{1}^{2} \\cos\\left(h k_{1}\\right)\\right)} \\kappa^{4} J_{m + 2}(\\kappa \\rho) \\sin\\left(h k_{1}\\right) + {\\left(2 \\, {\\left(B_{r_{1}}^{2} - B_{r_{1}}\\right)} c^{2} k_{1}^{2} \\cos\\left(h k_{1}\\right)^{3} - {\\left(B_{r_{1}}^{2} - B_{r_{1}}\\right)} c^{2} k_{1}^{2} \\cos\\left(h k_{1}\\right)\\right)} \\kappa^{4} J_{m - 2}(\\kappa \\rho) \\sin\\left(h k_{1}\\right) - 2 \\, {\\left(2 \\, {\\left(B_{r_{1}}^{2} - B_{r_{1}}\\right)} c^{2} k_{1}^{2} \\cos\\left(h k_{1}\\right)^{3} - {\\left(B_{r_{1}}^{2} - B_{r_{1}}\\right)} c^{2} k_{1}^{2} \\cos\\left(h k_{1}\\right)\\right)} \\kappa^{4} J_{m}(\\kappa \\rho) \\sin\\left(h k_{1}\\right)\\right)} r_{1} - {\\left({\\left(4 \\, B_{r_{1}}^{2} B_{z_{1}} c^{2} \\cos\\left(h k_{1}\\right)^{4} - 4 \\, B_{r_{1}}^{2} B_{z_{1}} c^{2} \\cos\\left(h k_{1}\\right)^{2} + B_{r_{1}}^{2} B_{z_{1}} c^{2}\\right)} \\kappa^{6} - 2 \\, {\\left(2 \\, {\\left(3 \\, B_{\\phi_{1}} B_{r_{1}}^{2} - B_{\\phi_{1}} B_{r_{1}}\\right)} c^{2} k_{1} \\cos\\left(h k_{1}\\right)^{3} - {\\left(3 \\, B_{\\phi_{1}} B_{r_{1}}^{2} - B_{\\phi_{1}} B_{r_{1}}\\right)} c^{2} k_{1} \\cos\\left(h k_{1}\\right)\\right)} \\kappa^{4} m \\sin\\left(h k_{1}\\right) + 2 \\, {\\left(4 \\, B_{r_{1}}^{2} B_{z_{1}} c^{2} k_{1}^{2} \\cos\\left(h k_{1}\\right)^{4} - 4 \\, B_{r_{1}}^{2} B_{z_{1}} c^{2} k_{1}^{2} \\cos\\left(h k_{1}\\right)^{2} + B_{r_{1}}^{2} B_{z_{1}} c^{2} k_{1}^{2}\\right)} \\kappa^{4}\\right)} J_{m + 2}(\\kappa \\rho) - {\\left({\\left(4 \\, B_{r_{1}}^{2} B_{z_{1}} c^{2} \\cos\\left(h k_{1}\\right)^{4} - 4 \\, B_{r_{1}}^{2} B_{z_{1}} c^{2} \\cos\\left(h k_{1}\\right)^{2} + B_{r_{1}}^{2} B_{z_{1}} c^{2}\\right)} \\kappa^{6} + 2 \\, {\\left(4 \\, B_{r_{1}}^{2} B_{z_{1}} c^{2} k_{1}^{2} \\cos\\left(h k_{1}\\right)^{4} - 4 \\, B_{r_{1}}^{2} B_{z_{1}} c^{2} k_{1}^{2} \\cos\\left(h k_{1}\\right)^{2} + B_{r_{1}}^{2} B_{z_{1}} c^{2} k_{1}^{2}\\right)} \\kappa^{4}\\right)} J_{m - 2}(\\kappa \\rho) + 2 \\, {\\left({\\left(4 \\, B_{r_{1}}^{2} B_{z_{1}} c^{2} \\cos\\left(h k_{1}\\right)^{4} - 4 \\, B_{r_{1}}^{2} B_{z_{1}} c^{2} \\cos\\left(h k_{1}\\right)^{2} + B_{r_{1}}^{2} B_{z_{1}} c^{2}\\right)} \\kappa^{6} - 2 \\, {\\left(2 \\, {\\left(3 \\, B_{\\phi_{1}} B_{r_{1}}^{2} - B_{\\phi_{1}} B_{r_{1}}\\right)} c^{2} k_{1} \\cos\\left(h k_{1}\\right)^{3} - {\\left(3 \\, B_{\\phi_{1}} B_{r_{1}}^{2} - B_{\\phi_{1}} B_{r_{1}}\\right)} c^{2} k_{1} \\cos\\left(h k_{1}\\right)\\right)} \\kappa^{4} m \\sin\\left(h k_{1}\\right) + 2 \\, {\\left(4 \\, B_{r_{1}}^{2} B_{z_{1}} c^{2} k_{1}^{2} \\cos\\left(h k_{1}\\right)^{4} - 4 \\, B_{r_{1}}^{2} B_{z_{1}} c^{2} k_{1}^{2} \\cos\\left(h k_{1}\\right)^{2} + B_{r_{1}}^{2} B_{z_{1}} c^{2} k_{1}^{2}\\right)} \\kappa^{4}\\right)} J_{m}(\\kappa \\rho)\\right)} \\rho^{4} + 2 \\, {\\left(2 \\, {\\left(4 \\, B_{r_{1}}^{2} B_{z_{1}} \\epsilon_{1} \\cos\\left(h k_{1}\\right)^{4} - 4 \\, B_{r_{1}}^{2} B_{z_{1}} \\epsilon_{1} \\cos\\left(h k_{1}\\right)^{2} + B_{r_{1}}^{2} B_{z_{1}} \\epsilon_{1}\\right)} \\kappa^{4} \\mu_{1} \\omega^{2} J_{m}(\\kappa \\rho) - {\\left(2 \\, {\\left(3 \\, B_{\\phi_{1}} B_{r_{1}}^{2} - B_{\\phi_{1}} B_{r_{1}}\\right)} c^{2} k_{1} \\cos\\left(h k_{1}\\right)^{3} - {\\left(3 \\, B_{\\phi_{1}} B_{r_{1}}^{2} - B_{\\phi_{1}} B_{r_{1}}\\right)} c^{2} k_{1} \\cos\\left(h k_{1}\\right)\\right)} \\kappa^{2} m^{3} J_{m - 2}(\\kappa \\rho) \\sin\\left(h k_{1}\\right) + 4 \\, {\\left(2 \\, {\\left(4 \\, B_{\\phi_{1}} B_{r_{1}}^{2} - 3 \\, B_{\\phi_{1}} B_{r_{1}} + B_{\\phi_{1}}\\right)} c^{2} k_{1} \\cos\\left(h k_{1}\\right)^{3} - {\\left(4 \\, B_{\\phi_{1}} B_{r_{1}}^{2} - 3 \\, B_{\\phi_{1}} B_{r_{1}} + B_{\\phi_{1}}\\right)} c^{2} k_{1} \\cos\\left(h k_{1}\\right)\\right)} \\kappa^{3} m J_{m - 1}(\\kappa \\rho) \\sin\\left(h k_{1}\\right) + {\\left({\\left(4 \\, B_{r_{1}}^{2} B_{z_{1}} c^{2} \\cos\\left(h k_{1}\\right)^{4} - 4 \\, B_{r_{1}}^{2} B_{z_{1}} c^{2} \\cos\\left(h k_{1}\\right)^{2} + B_{r_{1}}^{2} B_{z_{1}} c^{2}\\right)} \\kappa^{4} + {\\left(4 \\, B_{r_{1}}^{2} B_{z_{1}} c^{2} k_{1}^{2} \\cos\\left(h k_{1}\\right)^{4} - 4 \\, B_{r_{1}}^{2} B_{z_{1}} c^{2} k_{1}^{2} \\cos\\left(h k_{1}\\right)^{2} + B_{r_{1}}^{2} B_{z_{1}} c^{2} k_{1}^{2}\\right)} \\kappa^{2}\\right)} m^{2} J_{m - 2}(\\kappa \\rho) + {\\left({\\left(2 \\, {\\left(B_{r_{1}}^{2} - B_{r_{1}}\\right)} c^{2} k_{1}^{2} \\cos\\left(h k_{1}\\right)^{3} - {\\left(B_{r_{1}}^{2} - B_{r_{1}}\\right)} c^{2} k_{1}^{2} \\cos\\left(h k_{1}\\right)\\right)} \\kappa^{2} m^{2} J_{m + 2}(\\kappa \\rho) \\sin\\left(h k_{1}\\right) + {\\left(2 \\, {\\left(B_{r_{1}}^{2} - B_{r_{1}}\\right)} c^{2} k_{1}^{2} \\cos\\left(h k_{1}\\right)^{3} - {\\left(B_{r_{1}}^{2} - B_{r_{1}}\\right)} c^{2} k_{1}^{2} \\cos\\left(h k_{1}\\right)\\right)} \\kappa^{2} m^{2} J_{m - 2}(\\kappa \\rho) \\sin\\left(h k_{1}\\right) - 2 \\, {\\left(2 \\, {\\left(B_{r_{1}}^{2} - B_{r_{1}}\\right)} c^{2} k_{1}^{2} \\cos\\left(h k_{1}\\right)^{3} - {\\left(B_{r_{1}}^{2} - B_{r_{1}}\\right)} c^{2} k_{1}^{2} \\cos\\left(h k_{1}\\right)\\right)} \\kappa^{2} m^{2} J_{m}(\\kappa \\rho) \\sin\\left(h k_{1}\\right) + 4 \\, {\\left(2 \\, {\\left(B_{r_{1}}^{2} - 2 \\, B_{r_{1}} + 1\\right)} c^{2} k_{1}^{2} \\cos\\left(h k_{1}\\right)^{3} - {\\left(B_{r_{1}}^{2} - 2 \\, B_{r_{1}} + 1\\right)} c^{2} k_{1}^{2} \\cos\\left(h k_{1}\\right)\\right)} \\kappa^{3} J_{m + 1}(\\kappa \\rho) \\sin\\left(h k_{1}\\right) - 4 \\, {\\left(2 \\, {\\left(B_{r_{1}}^{2} - 2 \\, B_{r_{1}} + 1\\right)} c^{2} k_{1}^{2} \\cos\\left(h k_{1}\\right)^{3} - {\\left(B_{r_{1}}^{2} - 2 \\, B_{r_{1}} + 1\\right)} c^{2} k_{1}^{2} \\cos\\left(h k_{1}\\right)\\right)} \\kappa^{3} J_{m - 1}(\\kappa \\rho) \\sin\\left(h k_{1}\\right)\\right)} r_{1} - {\\left({\\left(2 \\, {\\left(3 \\, B_{\\phi_{1}} B_{r_{1}}^{2} - B_{\\phi_{1}} B_{r_{1}}\\right)} c^{2} k_{1} \\cos\\left(h k_{1}\\right)^{3} - {\\left(3 \\, B_{\\phi_{1}} B_{r_{1}}^{2} - B_{\\phi_{1}} B_{r_{1}}\\right)} c^{2} k_{1} \\cos\\left(h k_{1}\\right)\\right)} \\kappa^{2} m^{3} \\sin\\left(h k_{1}\\right) - {\\left({\\left(4 \\, B_{r_{1}}^{2} B_{z_{1}} c^{2} \\cos\\left(h k_{1}\\right)^{4} - 4 \\, B_{r_{1}}^{2} B_{z_{1}} c^{2} \\cos\\left(h k_{1}\\right)^{2} + B_{r_{1}}^{2} B_{z_{1}} c^{2}\\right)} \\kappa^{4} + {\\left(4 \\, B_{r_{1}}^{2} B_{z_{1}} c^{2} k_{1}^{2} \\cos\\left(h k_{1}\\right)^{4} - 4 \\, B_{r_{1}}^{2} B_{z_{1}} c^{2} k_{1}^{2} \\cos\\left(h k_{1}\\right)^{2} + B_{r_{1}}^{2} B_{z_{1}} c^{2} k_{1}^{2}\\right)} \\kappa^{2}\\right)} m^{2}\\right)} J_{m + 2}(\\kappa \\rho) + {\\left({\\left(4 \\, B_{r_{1}}^{2} B_{z_{1}} c^{2} \\cos\\left(h k_{1}\\right)^{4} - 4 \\, B_{r_{1}}^{2} B_{z_{1}} c^{2} \\cos\\left(h k_{1}\\right)^{2} + B_{r_{1}}^{2} B_{z_{1}} c^{2}\\right)} \\kappa^{5} - 4 \\, {\\left(2 \\, {\\left(4 \\, B_{\\phi_{1}} B_{r_{1}}^{2} - 3 \\, B_{\\phi_{1}} B_{r_{1}} + B_{\\phi_{1}}\\right)} c^{2} k_{1} \\cos\\left(h k_{1}\\right)^{3} - {\\left(4 \\, B_{\\phi_{1}} B_{r_{1}}^{2} - 3 \\, B_{\\phi_{1}} B_{r_{1}} + B_{\\phi_{1}}\\right)} c^{2} k_{1} \\cos\\left(h k_{1}\\right)\\right)} \\kappa^{3} m \\sin\\left(h k_{1}\\right) + {\\left(4 \\, {\\left(3 \\, B_{r_{1}}^{2} - B_{r_{1}}\\right)} B_{z_{1}} c^{2} k_{1}^{2} \\cos\\left(h k_{1}\\right)^{4} - 4 \\, {\\left(3 \\, B_{r_{1}}^{2} - B_{r_{1}}\\right)} B_{z_{1}} c^{2} k_{1}^{2} \\cos\\left(h k_{1}\\right)^{2} + {\\left(3 \\, B_{r_{1}}^{2} - B_{r_{1}}\\right)} B_{z_{1}} c^{2} k_{1}^{2}\\right)} \\kappa^{3}\\right)} J_{m + 1}(\\kappa \\rho) - {\\left({\\left(4 \\, B_{r_{1}}^{2} B_{z_{1}} c^{2} \\cos\\left(h k_{1}\\right)^{4} - 4 \\, B_{r_{1}}^{2} B_{z_{1}} c^{2} \\cos\\left(h k_{1}\\right)^{2} + B_{r_{1}}^{2} B_{z_{1}} c^{2}\\right)} \\kappa^{5} + {\\left(4 \\, {\\left(3 \\, B_{r_{1}}^{2} - B_{r_{1}}\\right)} B_{z_{1}} c^{2} k_{1}^{2} \\cos\\left(h k_{1}\\right)^{4} - 4 \\, {\\left(3 \\, B_{r_{1}}^{2} - B_{r_{1}}\\right)} B_{z_{1}} c^{2} k_{1}^{2} \\cos\\left(h k_{1}\\right)^{2} + {\\left(3 \\, B_{r_{1}}^{2} - B_{r_{1}}\\right)} B_{z_{1}} c^{2} k_{1}^{2}\\right)} \\kappa^{3}\\right)} J_{m - 1}(\\kappa \\rho) + 2 \\, {\\left(2 \\, {\\left(2 \\, B_{\\phi_{1}} B_{r_{1}}^{2} c^{2} k_{1} \\cos\\left(h k_{1}\\right)^{3} - B_{\\phi_{1}} B_{r_{1}}^{2} c^{2} k_{1} \\cos\\left(h k_{1}\\right)\\right)} \\kappa^{4} m \\sin\\left(h k_{1}\\right) + {\\left(2 \\, {\\left(3 \\, B_{\\phi_{1}} B_{r_{1}}^{2} - B_{\\phi_{1}} B_{r_{1}}\\right)} c^{2} k_{1} \\cos\\left(h k_{1}\\right)^{3} - {\\left(3 \\, B_{\\phi_{1}} B_{r_{1}}^{2} - B_{\\phi_{1}} B_{r_{1}}\\right)} c^{2} k_{1} \\cos\\left(h k_{1}\\right)\\right)} \\kappa^{2} m^{3} \\sin\\left(h k_{1}\\right) - {\\left({\\left(4 \\, B_{r_{1}}^{2} B_{z_{1}} c^{2} \\cos\\left(h k_{1}\\right)^{4} - 4 \\, B_{r_{1}}^{2} B_{z_{1}} c^{2} \\cos\\left(h k_{1}\\right)^{2} + B_{r_{1}}^{2} B_{z_{1}} c^{2}\\right)} \\kappa^{4} + {\\left(4 \\, B_{r_{1}}^{2} B_{z_{1}} c^{2} k_{1}^{2} \\cos\\left(h k_{1}\\right)^{4} - 4 \\, B_{r_{1}}^{2} B_{z_{1}} c^{2} k_{1}^{2} \\cos\\left(h k_{1}\\right)^{2} + B_{r_{1}}^{2} B_{z_{1}} c^{2} k_{1}^{2}\\right)} \\kappa^{2}\\right)} m^{2}\\right)} J_{m}(\\kappa \\rho)\\right)} \\rho^{3} - {\\left(8 \\, {\\left(4 \\, B_{r_{1}}^{2} B_{z_{1}} \\epsilon_{1} \\cos\\left(h k_{1}\\right)^{4} - 4 \\, B_{r_{1}}^{2} B_{z_{1}} \\epsilon_{1} \\cos\\left(h k_{1}\\right)^{2} + B_{r_{1}}^{2} B_{z_{1}} \\epsilon_{1}\\right)} \\kappa^{2} m^{2} \\mu_{1} \\omega^{2} J_{m}(\\kappa \\rho) + {\\left(4 \\, B_{r_{1}}^{2} B_{z_{1}} c^{2} \\cos\\left(h k_{1}\\right)^{4} - 4 \\, B_{r_{1}}^{2} B_{z_{1}} c^{2} \\cos\\left(h k_{1}\\right)^{2} + B_{r_{1}}^{2} B_{z_{1}} c^{2}\\right)} \\kappa^{2} m^{4} J_{m + 2}(\\kappa \\rho) + {\\left(4 \\, B_{r_{1}}^{2} B_{z_{1}} c^{2} \\cos\\left(h k_{1}\\right)^{4} - 4 \\, B_{r_{1}}^{2} B_{z_{1}} c^{2} \\cos\\left(h k_{1}\\right)^{2} + B_{r_{1}}^{2} B_{z_{1}} c^{2}\\right)} \\kappa^{2} m^{4} J_{m - 2}(\\kappa \\rho) + 12 \\, {\\left(2 \\, {\\left(3 \\, B_{\\phi_{1}} B_{r_{1}}^{2} - B_{\\phi_{1}} B_{r_{1}}\\right)} c^{2} k_{1} \\cos\\left(h k_{1}\\right)^{3} - {\\left(3 \\, B_{\\phi_{1}} B_{r_{1}}^{2} - B_{\\phi_{1}} B_{r_{1}}\\right)} c^{2} k_{1} \\cos\\left(h k_{1}\\right)\\right)} \\kappa m^{3} J_{m - 1}(\\kappa \\rho) \\sin\\left(h k_{1}\\right) - 4 \\, {\\left({\\left(4 \\, B_{r_{1}}^{2} B_{z_{1}} c^{2} \\cos\\left(h k_{1}\\right)^{4} - 4 \\, B_{r_{1}}^{2} B_{z_{1}} c^{2} \\cos\\left(h k_{1}\\right)^{2} + B_{r_{1}}^{2} B_{z_{1}} c^{2}\\right)} \\kappa^{3} + 2 \\, {\\left(4 \\, B_{r_{1}}^{2} B_{z_{1}} c^{2} k_{1}^{2} \\cos\\left(h k_{1}\\right)^{4} - 4 \\, B_{r_{1}}^{2} B_{z_{1}} c^{2} k_{1}^{2} \\cos\\left(h k_{1}\\right)^{2} + B_{r_{1}}^{2} B_{z_{1}} c^{2} k_{1}^{2}\\right)} \\kappa\\right)} m^{2} J_{m - 1}(\\kappa \\rho) + 8 \\, {\\left({\\left(2 \\, {\\left(B_{r_{1}}^{2} - B_{r_{1}}\\right)} c^{2} k_{1}^{2} \\cos\\left(h k_{1}\\right)^{3} - {\\left(B_{r_{1}}^{2} - B_{r_{1}}\\right)} c^{2} k_{1}^{2} \\cos\\left(h k_{1}\\right)\\right)} \\kappa m^{2} J_{m + 1}(\\kappa \\rho) \\sin\\left(h k_{1}\\right) - {\\left(2 \\, {\\left(B_{r_{1}}^{2} - B_{r_{1}}\\right)} c^{2} k_{1}^{2} \\cos\\left(h k_{1}\\right)^{3} - {\\left(B_{r_{1}}^{2} - B_{r_{1}}\\right)} c^{2} k_{1}^{2} \\cos\\left(h k_{1}\\right)\\right)} \\kappa m^{2} J_{m - 1}(\\kappa \\rho) \\sin\\left(h k_{1}\\right)\\right)} r_{1} - 4 \\, {\\left(3 \\, {\\left(2 \\, {\\left(3 \\, B_{\\phi_{1}} B_{r_{1}}^{2} - B_{\\phi_{1}} B_{r_{1}}\\right)} c^{2} k_{1} \\cos\\left(h k_{1}\\right)^{3} - {\\left(3 \\, B_{\\phi_{1}} B_{r_{1}}^{2} - B_{\\phi_{1}} B_{r_{1}}\\right)} c^{2} k_{1} \\cos\\left(h k_{1}\\right)\\right)} \\kappa m^{3} \\sin\\left(h k_{1}\\right) - {\\left({\\left(4 \\, B_{r_{1}}^{2} B_{z_{1}} c^{2} \\cos\\left(h k_{1}\\right)^{4} - 4 \\, B_{r_{1}}^{2} B_{z_{1}} c^{2} \\cos\\left(h k_{1}\\right)^{2} + B_{r_{1}}^{2} B_{z_{1}} c^{2}\\right)} \\kappa^{3} + 2 \\, {\\left(4 \\, B_{r_{1}}^{2} B_{z_{1}} c^{2} k_{1}^{2} \\cos\\left(h k_{1}\\right)^{4} - 4 \\, B_{r_{1}}^{2} B_{z_{1}} c^{2} k_{1}^{2} \\cos\\left(h k_{1}\\right)^{2} + B_{r_{1}}^{2} B_{z_{1}} c^{2} k_{1}^{2}\\right)} \\kappa\\right)} m^{2}\\right)} J_{m + 1}(\\kappa \\rho) - 2 \\, {\\left(2 \\, {\\left(4 \\, B_{r_{1}}^{2} B_{z_{1}} c^{2} \\cos\\left(h k_{1}\\right)^{4} - 4 \\, B_{r_{1}}^{2} B_{z_{1}} c^{2} \\cos\\left(h k_{1}\\right)^{2} + B_{r_{1}}^{2} B_{z_{1}} c^{2}\\right)} \\kappa^{4} m^{2} + {\\left(4 \\, B_{r_{1}}^{2} B_{z_{1}} c^{2} \\cos\\left(h k_{1}\\right)^{4} - 4 \\, B_{r_{1}}^{2} B_{z_{1}} c^{2} \\cos\\left(h k_{1}\\right)^{2} + B_{r_{1}}^{2} B_{z_{1}} c^{2}\\right)} \\kappa^{2} m^{4} - 8 \\, {\\left(2 \\, B_{\\phi_{1}} B_{r_{1}}^{2} c^{2} k_{1} \\cos\\left(h k_{1}\\right)^{3} - B_{\\phi_{1}} B_{r_{1}}^{2} c^{2} k_{1} \\cos\\left(h k_{1}\\right)\\right)} \\kappa^{2} m^{3} \\sin\\left(h k_{1}\\right) + 8 \\, {\\left(2 \\, {\\left(B_{\\phi_{1}} B_{r_{1}}^{2} - 2 \\, B_{\\phi_{1}} B_{r_{1}} + B_{\\phi_{1}}\\right)} c^{2} k_{1} \\cos\\left(h k_{1}\\right)^{3} - {\\left(B_{\\phi_{1}} B_{r_{1}}^{2} - 2 \\, B_{\\phi_{1}} B_{r_{1}} + B_{\\phi_{1}}\\right)} c^{2} k_{1} \\cos\\left(h k_{1}\\right)\\right)} \\kappa^{2} m \\sin\\left(h k_{1}\\right)\\right)} J_{m}(\\kappa \\rho)\\right)} \\rho^{2} + 2 \\, {\\left(2 \\, {\\left(4 \\, B_{r_{1}}^{2} B_{z_{1}} \\epsilon_{1} \\cos\\left(h k_{1}\\right)^{4} - 4 \\, B_{r_{1}}^{2} B_{z_{1}} \\epsilon_{1} \\cos\\left(h k_{1}\\right)^{2} + B_{r_{1}}^{2} B_{z_{1}} \\epsilon_{1}\\right)} m^{4} \\mu_{1} \\omega^{2} J_{m}(\\kappa \\rho) + {\\left(4 \\, B_{r_{1}}^{2} B_{z_{1}} c^{2} \\cos\\left(h k_{1}\\right)^{4} - 4 \\, B_{r_{1}}^{2} B_{z_{1}} c^{2} \\cos\\left(h k_{1}\\right)^{2} + B_{r_{1}}^{2} B_{z_{1}} c^{2}\\right)} \\kappa m^{4} J_{m + 1}(\\kappa \\rho) - {\\left(4 \\, B_{r_{1}}^{2} B_{z_{1}} c^{2} \\cos\\left(h k_{1}\\right)^{4} - 4 \\, B_{r_{1}}^{2} B_{z_{1}} c^{2} \\cos\\left(h k_{1}\\right)^{2} + B_{r_{1}}^{2} B_{z_{1}} c^{2}\\right)} \\kappa m^{4} J_{m - 1}(\\kappa \\rho) - 4 \\, {\\left({\\left(4 \\, B_{r_{1}}^{2} B_{z_{1}} c^{2} \\cos\\left(h k_{1}\\right)^{4} - 4 \\, B_{r_{1}}^{2} B_{z_{1}} c^{2} \\cos\\left(h k_{1}\\right)^{2} + B_{r_{1}}^{2} B_{z_{1}} c^{2}\\right)} \\kappa^{2} m^{4} - {\\left(2 \\, B_{\\phi_{1}} B_{r_{1}}^{2} c^{2} k_{1} \\cos\\left(h k_{1}\\right)^{3} - B_{\\phi_{1}} B_{r_{1}}^{2} c^{2} k_{1} \\cos\\left(h k_{1}\\right)\\right)} m^{5} \\sin\\left(h k_{1}\\right) + {\\left(2 \\, {\\left(3 \\, B_{\\phi_{1}} B_{r_{1}}^{2} - B_{\\phi_{1}} B_{r_{1}}\\right)} c^{2} k_{1} \\cos\\left(h k_{1}\\right)^{3} - {\\left(3 \\, B_{\\phi_{1}} B_{r_{1}}^{2} - B_{\\phi_{1}} B_{r_{1}}\\right)} c^{2} k_{1} \\cos\\left(h k_{1}\\right)\\right)} m^{3} \\sin\\left(h k_{1}\\right)\\right)} J_{m}(\\kappa \\rho)\\right)} \\rho\\right)} \\cos\\left(m \\varphi\\right) \\sin\\left(k_{1} z\\right)^{2}}{4 \\, {\\left(2 \\, {\\left({\\left(2 \\, B_{r_{1}}^{2} c^{2} \\cos\\left(h k_{1}\\right)^{3} - B_{r_{1}}^{2} c^{2} \\cos\\left(h k_{1}\\right)\\right)} \\kappa^{4} \\mu_{1} \\rho^{3} \\sin\\left(h k_{1}\\right) - 2 \\, {\\left(2 \\, B_{r_{1}}^{2} c^{2} \\cos\\left(h k_{1}\\right)^{3} - B_{r_{1}}^{2} c^{2} \\cos\\left(h k_{1}\\right)\\right)} \\kappa^{2} m^{2} \\mu_{1} \\rho^{2} \\sin\\left(h k_{1}\\right) + {\\left(2 \\, B_{r_{1}}^{2} c^{2} \\cos\\left(h k_{1}\\right)^{3} - B_{r_{1}}^{2} c^{2} \\cos\\left(h k_{1}\\right)\\right)} m^{4} \\mu_{1} \\rho \\sin\\left(h k_{1}\\right)\\right)} \\cos\\left(k_{1} z\\right) - {\\left({\\left(4 \\, B_{r_{1}}^{2} c^{2} \\cos\\left(h k_{1}\\right)^{4} - 4 \\, B_{r_{1}}^{2} c^{2} \\cos\\left(h k_{1}\\right)^{2} + B_{r_{1}}^{2} c^{2}\\right)} \\kappa^{4} \\mu_{1} \\rho^{3} - 2 \\, {\\left(4 \\, B_{r_{1}}^{2} c^{2} \\cos\\left(h k_{1}\\right)^{4} - 4 \\, B_{r_{1}}^{2} c^{2} \\cos\\left(h k_{1}\\right)^{2} + B_{r_{1}}^{2} c^{2}\\right)} \\kappa^{2} m^{2} \\mu_{1} \\rho^{2} + {\\left(4 \\, B_{r_{1}}^{2} c^{2} \\cos\\left(h k_{1}\\right)^{4} - 4 \\, B_{r_{1}}^{2} c^{2} \\cos\\left(h k_{1}\\right)^{2} + B_{r_{1}}^{2} c^{2}\\right)} m^{4} \\mu_{1} \\rho\\right)} \\sin\\left(k_{1} z\\right)\\right)}} = 0$$"
      ],
      "text/plain": [
       "<IPython.core.display.Math object>"
      ]
     },
     "metadata": {},
     "output_type": "display_data"
    },
    {
     "name": "stdout",
     "output_type": "stream",
     "text": [
      "var =\n"
     ]
    },
    {
     "data": {
      "text/latex": [
       "$$B_{r_{1}}$$"
      ],
      "text/plain": [
       "<IPython.core.display.Math object>"
      ]
     },
     "metadata": {},
     "output_type": "display_data"
    },
    {
     "name": "stdout",
     "output_type": "stream",
     "text": [
      "\n",
      "sol=\n"
     ]
    }
   ],
   "source": [
    "res_rot_H = []\n",
    "eqs_rot_H = []\n",
    "for i in range(n_layers):\n",
    "    eqs_rotH = [(eq_rotH_rho[i]*(-I)*omega/c).subs(solve(eq_kappa[i], omega^2)).subs(boundary_subs),#.full_simplify(),\n",
    "                (eq_rotH_phi[i]*(-I)*omega/c).subs(solve(eq_kappa[i], omega^2)).subs(boundary_subs),#.full_simplify(),\n",
    "                (eq_rotH_zz [i]*(-I)*omega/c).subs(solve(eq_kappa[i], omega^2)).subs(boundary_subs),#.full_simplify(),\n",
    "               ]\n",
    "    eqs_rot_H += eqs_rotH\n",
    "\n",
    "    vars_dielectric = [A_r[i], A_p[i], A_z[i], B_r[i], B_p[i], B_z[i]]\n",
    "\n",
    "    vars_dielectric = [var for var in vars_dielectric if var not in exclude_vars]\n",
    "    display(Math(latex(vars_dielectric)))\n",
    "    M_rotH = GenerateMatrix(eqs_rotH, vars_dielectric)\n",
    "    #print (\"M_rotH =\")\n",
    "    #display(Math(latex(M_rotH)))\n",
    "    print (\"M_rotH.nrows =\", M_rotH.nrows())\n",
    "    print (\"M_rotH.ncols =\", M_rotH.ncols())\n",
    "    print (\"M_rotH.rank =\", M_rotH.rank())\n",
    "\n",
    "    res_rot_H += rot_H_solve(M_rotH, vars_dielectric, eq_kappa[i], k[i])"
   ]
  },
  {
   "cell_type": "code",
   "execution_count": null,
   "metadata": {
    "scrolled": false
   },
   "outputs": [],
   "source": [
    "# display(Math(latex(res_rot_H)))"
   ]
  },
  {
   "cell_type": "code",
   "execution_count": null,
   "metadata": {},
   "outputs": [],
   "source": [
    "all_vars = []\n",
    "for i in range(n_layers):\n",
    "    all_vars += [A_r[i], A_p[i], A_z[i], B_r[i], B_p[i], B_z[i]]\n",
    "    \n",
    "all_vars = [var for var in all_vars if var not in exclude_vars]\n",
    "all_vars"
   ]
  },
  {
   "cell_type": "code",
   "execution_count": null,
   "metadata": {},
   "outputs": [],
   "source": [
    "M_res_rot_H = GenerateMatrix(res_rot_H, all_vars)\n",
    "# display(Math(latex(M_res_rot_H)))"
   ]
  },
  {
   "cell_type": "code",
   "execution_count": null,
   "metadata": {},
   "outputs": [],
   "source": [
    "def reduceDependedRows(M):\n",
    "    print (\"\")\n",
    "    print (\"M.nrows()\", M.nrows())\n",
    "    print (\"M.ncols()\", M.ncols())\n",
    "    print (\"M.rank()\", M.rank())\n",
    "\n",
    "    M_pivot_rows = M.pivot_rows()\n",
    "    print (\"M.pivot_rows() =\", M_pivot_rows)\n",
    "\n",
    "    M_rows = M.rows()\n",
    "    #for row in M_rows:\n",
    "    #    print(\"row =\")\n",
    "    #    display(Math(latex(row)))\n",
    "\n",
    "    reduced_list = []\n",
    "    for r in M_pivot_rows:\n",
    "        #print (\"M_rows[\", r, \"] =\")\n",
    "        #display(Math(latex(M_rows[r])))\n",
    "        reduced_list.append(M_rows[r])\n",
    "\n",
    "    reduced_M = matrix(SR, len(M_pivot_rows), M.ncols(), reduced_list)\n",
    "    #if reduced_M.nrows() == reduced_M.ncols():\n",
    "        #reduced_M_det = reduced_M.det()\n",
    "        #print (\"\")\n",
    "        #print (\"reduced_M.det() =\")\n",
    "        #display(Math(latex(reduced_M_det)))\n",
    "    return reduced_M"
   ]
  },
  {
   "cell_type": "code",
   "execution_count": null,
   "metadata": {},
   "outputs": [],
   "source": [
    "reduced_M_res_rot_H = reduceDependedRows(M_res_rot_H)"
   ]
  },
  {
   "cell_type": "code",
   "execution_count": null,
   "metadata": {},
   "outputs": [],
   "source": [
    "reduced_M_res_rot_H.nrows(), reduced_M_res_rot_H.ncols(), reduced_M_res_rot_H.rank()"
   ]
  },
  {
   "cell_type": "code",
   "execution_count": null,
   "metadata": {},
   "outputs": [],
   "source": [
    "# display(Math(latex(reduced_M_res_rot_H)))"
   ]
  },
  {
   "cell_type": "code",
   "execution_count": null,
   "metadata": {},
   "outputs": [],
   "source": [
    "reduced_M_res_rot_H"
   ]
  },
  {
   "cell_type": "code",
   "execution_count": null,
   "metadata": {},
   "outputs": [],
   "source": [
    "def make_eqsys_from_reduced_M(M_rotH, vars):\n",
    "    xx = vector(SR, vars)\n",
    "    # print(\"eqns =\")\n",
    "    eqns = [(M_rotH*xx)[index] == 0 for index in range(M_rotH.nrows())]\n",
    "    # display(Math(latex(eqns)))\n",
    "    return (eqns)"
   ]
  },
  {
   "cell_type": "code",
   "execution_count": null,
   "metadata": {},
   "outputs": [],
   "source": [
    "eqsys_rotH_simplified = make_eqsys_from_reduced_M(reduced_M_res_rot_H, all_vars)"
   ]
  },
  {
   "cell_type": "code",
   "execution_count": null,
   "metadata": {},
   "outputs": [],
   "source": [
    "eqsys_rotH_simplified"
   ]
  },
  {
   "cell_type": "code",
   "execution_count": null,
   "metadata": {},
   "outputs": [],
   "source": [
    "bch = []\n",
    "bc =  []\n",
    "for i  in range (n_layers-1):\n",
    "    bc += [E_rho[i](rh,ph, (i + 1) * h).full_simplify() == E_rho[i+1](rh,ph,(i+1)*h).full_simplify()]\n",
    "    bc += [E_phi[i](rh,ph, (i + 1) * h).full_simplify() == E_phi[i+1](rh,ph,(i+1)*h).full_simplify()]\n",
    "    bc += [epsilon[i] * E_zz[i](rh,ph,(i+1)*h).full_simplify() == epsilon[i+1]*E_zz[i+1](rh,ph,(i+1)*h).full_simplify()]\n",
    "\n",
    "    bch += [H_phi [i](rh,ph,(i+1)*h).full_simplify() == H_phi [i+1](rh,ph,(i+1)*h).full_simplify()]"
   ]
  },
  {
   "cell_type": "code",
   "execution_count": null,
   "metadata": {},
   "outputs": [],
   "source": [
    "bc"
   ]
  },
  {
   "cell_type": "code",
   "execution_count": null,
   "metadata": {
    "scrolled": true
   },
   "outputs": [],
   "source": [
    "bch"
   ]
  },
  {
   "cell_type": "code",
   "execution_count": null,
   "metadata": {},
   "outputs": [],
   "source": [
    "        # + bch \\\n",
    "all_eqs = bc \\\n",
    "        + eqsys_rotH_simplified\n",
    "\n",
    "#display(Math(latex(all_eqs)))"
   ]
  },
  {
   "cell_type": "code",
   "execution_count": null,
   "metadata": {},
   "outputs": [],
   "source": [
    "M = GenerateMatrix(all_eqs, all_vars)"
   ]
  },
  {
   "cell_type": "code",
   "execution_count": null,
   "metadata": {},
   "outputs": [],
   "source": [
    "M"
   ]
  },
  {
   "cell_type": "code",
   "execution_count": null,
   "metadata": {},
   "outputs": [],
   "source": [
    "M.nrows(), M.ncols(), len(all_vars)"
   ]
  },
  {
   "cell_type": "code",
   "execution_count": null,
   "metadata": {},
   "outputs": [],
   "source": [
    "M.rank()"
   ]
  },
  {
   "cell_type": "code",
   "execution_count": null,
   "metadata": {},
   "outputs": [],
   "source": [
    "reduced_M = reduceDependedRows(M)"
   ]
  },
  {
   "cell_type": "code",
   "execution_count": null,
   "metadata": {},
   "outputs": [],
   "source": [
    "reduced_M.nrows(), reduced_M.ncols(),"
   ]
  },
  {
   "cell_type": "code",
   "execution_count": null,
   "metadata": {},
   "outputs": [],
   "source": [
    "reduced_M.pivots()"
   ]
  },
  {
   "cell_type": "code",
   "execution_count": null,
   "metadata": {},
   "outputs": [],
   "source": [
    "def reduceEmptyCols(M, vars):\n",
    "    print (\"\")\n",
    "    print (\"M.nrows()\", M.nrows())\n",
    "    print (\"M.ncols()\", M.ncols())\n",
    "    print (\"M.rank()\", M.rank())\n",
    "    print (\"len(vars)\", len(vars))\n",
    "\n",
    "    M_pivots = M.pivots()\n",
    "    print (\"M.pivots() =\", M_pivots)\n",
    "    \n",
    "    M_transposed = M.transpose()\n",
    "\n",
    "    M_cols = M_transposed.rows()\n",
    "    #for col in M_cols:\n",
    "    #    print(\"col =\")\n",
    "    #    display(Math(latex(col)))\n",
    "\n",
    "    reduced_list = []\n",
    "    reduced_vars = []\n",
    "    for c in M_pivots:\n",
    "        #print (\"M_cols[\", c, \"] =\")\n",
    "        #display(Math(latex(M_cols[c])))\n",
    "        reduced_list.append(M_cols[c])\n",
    "        reduced_vars.append(vars[c])\n",
    "\n",
    "    reduced_M_transposed = matrix(SR, len(M_pivots), M.nrows(), reduced_list)\n",
    "    return reduced_vars, reduced_M_transposed.transpose()"
   ]
  },
  {
   "cell_type": "code",
   "execution_count": null,
   "metadata": {},
   "outputs": [],
   "source": [
    "reduced_vars, reduced_reduced_M = reduceEmptyCols(reduced_M, all_vars)"
   ]
  },
  {
   "cell_type": "code",
   "execution_count": null,
   "metadata": {},
   "outputs": [],
   "source": [
    "reduced_reduced_M.nrows(), reduced_reduced_M.ncols(), len(reduced_vars)"
   ]
  },
  {
   "cell_type": "code",
   "execution_count": null,
   "metadata": {},
   "outputs": [],
   "source": [
    "reduced_vars"
   ]
  },
  {
   "cell_type": "code",
   "execution_count": null,
   "metadata": {},
   "outputs": [],
   "source": [
    "M_det  = reduced_reduced_M.det().subs(m == m_val).combine()"
   ]
  },
  {
   "cell_type": "code",
   "execution_count": null,
   "metadata": {},
   "outputs": [],
   "source": []
  },
  {
   "cell_type": "code",
   "execution_count": null,
   "metadata": {},
   "outputs": [],
   "source": [
    "display(Math(latex(M_det)))"
   ]
  },
  {
   "cell_type": "code",
   "execution_count": null,
   "metadata": {},
   "outputs": [],
   "source": [
    "M_det_num = M_det.numerator()"
   ]
  },
  {
   "cell_type": "code",
   "execution_count": null,
   "metadata": {},
   "outputs": [],
   "source": [
    "m"
   ]
  },
  {
   "cell_type": "code",
   "execution_count": null,
   "metadata": {},
   "outputs": [],
   "source": [
    "M_det_num.subs(m == m_val)"
   ]
  },
  {
   "cell_type": "code",
   "execution_count": null,
   "metadata": {},
   "outputs": [],
   "source": [
    "for md in [0,1]:\n",
    "    M_det_num = (M_det_num/bessel_J(md,kappa * rh)).full_simplify ().expand ()"
   ]
  },
  {
   "cell_type": "code",
   "execution_count": null,
   "metadata": {},
   "outputs": [],
   "source": [
    "M_det_num"
   ]
  },
  {
   "cell_type": "code",
   "execution_count": null,
   "metadata": {},
   "outputs": [],
   "source": [
    "for i in range(n_layers):\n",
    "    M_det_num = (M_det_num/(k [i]*cos(h*k[i]))).full_simplify ().expand ()"
   ]
  },
  {
   "cell_type": "code",
   "execution_count": null,
   "metadata": {},
   "outputs": [],
   "source": [
    "M_det_num"
   ]
  },
  {
   "cell_type": "code",
   "execution_count": null,
   "metadata": {},
   "outputs": [],
   "source": [
    "disp_eq = M_det_num == 0"
   ]
  },
  {
   "cell_type": "code",
   "execution_count": null,
   "metadata": {},
   "outputs": [],
   "source": [
    "display(Math(latex(disp_eq)))"
   ]
  },
  {
   "cell_type": "code",
   "execution_count": null,
   "metadata": {},
   "outputs": [],
   "source": [
    "bch"
   ]
  },
  {
   "cell_type": "code",
   "execution_count": null,
   "metadata": {},
   "outputs": [],
   "source": [
    "bchs = []\n",
    "for i in range(n_layers-1):\n",
    "    bchs +=  [solve (bch, B_z[i+1])[0].full_simplify ().expand () ]"
   ]
  },
  {
   "cell_type": "code",
   "execution_count": null,
   "metadata": {},
   "outputs": [],
   "source": [
    "bchs"
   ]
  },
  {
   "cell_type": "code",
   "execution_count": null,
   "metadata": {},
   "outputs": [],
   "source": []
  },
  {
   "cell_type": "code",
   "execution_count": null,
   "metadata": {},
   "outputs": [],
   "source": [
    "E_rho_s = []\n",
    "for i in range(n_layers):\n",
    "    E_rho_s += [ lambda rh, ph, z, i=i : E_rho[i](rh,ph,z).subs(bchs) ]"
   ]
  },
  {
   "cell_type": "code",
   "execution_count": null,
   "metadata": {},
   "outputs": [],
   "source": [
    "E_zz_s = []\n",
    "for i in range(n_layers):\n",
    "    E_zz_s += [ lambda rh, ph, z, i=i : E_zz[i](rh,ph,z).subs(bchs) ]"
   ]
  },
  {
   "cell_type": "code",
   "execution_count": null,
   "metadata": {},
   "outputs": [],
   "source": [
    "H_phi_s = []\n",
    "for i in range(n_layers):\n",
    "    H_phi_s += [ lambda rh, ph, z, i=i : H_phi[i](rh,ph,z).subs(bchs) ]\n"
   ]
  },
  {
   "cell_type": "code",
   "execution_count": null,
   "metadata": {},
   "outputs": [],
   "source": [
    "E_rho_s [1](rh,ph,z)"
   ]
  },
  {
   "cell_type": "code",
   "execution_count": null,
   "metadata": {},
   "outputs": [],
   "source": [
    "E_zz_s[1](rh,ph,z)"
   ]
  },
  {
   "cell_type": "code",
   "execution_count": null,
   "metadata": {},
   "outputs": [],
   "source": [
    "H_phi_s[1](rh,ph,z)"
   ]
  },
  {
   "cell_type": "code",
   "execution_count": null,
   "metadata": {},
   "outputs": [],
   "source": [
    "eq_kappa"
   ]
  },
  {
   "cell_type": "code",
   "execution_count": null,
   "metadata": {},
   "outputs": [],
   "source": [
    "disp_eq"
   ]
  },
  {
   "cell_type": "code",
   "execution_count": null,
   "metadata": {},
   "outputs": [],
   "source": [
    "bessel_root_1 = find_root (bessel_J(0,x),  0, pi)"
   ]
  },
  {
   "cell_type": "code",
   "execution_count": null,
   "metadata": {},
   "outputs": [],
   "source": [
    "bessel_root_2 =  find_root (bessel_J(0,x),  pi, pi*2)"
   ]
  },
  {
   "cell_type": "code",
   "execution_count": null,
   "metadata": {
    "scrolled": true
   },
   "outputs": [],
   "source": [
    "kappa_d1 = bessel_root_1/a"
   ]
  },
  {
   "cell_type": "code",
   "execution_count": null,
   "metadata": {},
   "outputs": [],
   "source": [
    "#sgs\n",
    "lambda_d = 632*100*10^-9\n",
    "# 632 nm\n",
    "digit_values = [m == m_val, a == 12, mu[0] == 1, mu[1] == 1, epsilon[0] == 2.468^2, epsilon[1] == 1.67^2]\n",
    "\n",
    "c_value  = [ c == 299792458 * 100]\n",
    "\n",
    "omega_value = [ omega  == ((2*pi * c)/ lambda_d).subs (c_value) ]"
   ]
  },
  {
   "cell_type": "code",
   "execution_count": null,
   "metadata": {},
   "outputs": [],
   "source": [
    "epsilon_d = []\n",
    "for i in range(n_layers):\n",
    "    epsilon_d += [epsilon[i].subs(digit_values)]"
   ]
  },
  {
   "cell_type": "code",
   "execution_count": null,
   "metadata": {},
   "outputs": [],
   "source": [
    "eq_kappa_d = []\n",
    "for i in range(n_layers):\n",
    "    eq_kappa_d += [eq_kappa[i].subs(kappa == kappa_d1).subs(digit_values).subs (c_value).subs(omega_value)]"
   ]
  },
  {
   "cell_type": "code",
   "execution_count": null,
   "metadata": {
    "scrolled": true
   },
   "outputs": [],
   "source": [
    "eq_kappa_d"
   ]
  },
  {
   "cell_type": "code",
   "execution_count": null,
   "metadata": {},
   "outputs": [],
   "source": [
    "disp_eq_d = disp_eq.subs(digit_values).subs (c_value)"
   ]
  },
  {
   "cell_type": "code",
   "execution_count": null,
   "metadata": {},
   "outputs": [],
   "source": [
    "disp_eq_d"
   ]
  },
  {
   "cell_type": "code",
   "execution_count": null,
   "metadata": {},
   "outputs": [],
   "source": [
    "k_values = []\n",
    "for i in range(n_layers):\n",
    "    assume (k [i] > 0)\n",
    "    k_values += solve (eq_kappa_d[i], k[i])"
   ]
  },
  {
   "cell_type": "code",
   "execution_count": null,
   "metadata": {},
   "outputs": [],
   "source": [
    "k_values"
   ]
  },
  {
   "cell_type": "code",
   "execution_count": null,
   "metadata": {},
   "outputs": [],
   "source": [
    "k_values_d = []\n",
    "for i in range(n_layers):\n",
    "    k_values_d += [k_values [i].lhs() == k_values [i].rhs().n() ]"
   ]
  },
  {
   "cell_type": "code",
   "execution_count": null,
   "metadata": {},
   "outputs": [],
   "source": [
    "k_values_d"
   ]
  },
  {
   "cell_type": "code",
   "execution_count": null,
   "metadata": {},
   "outputs": [],
   "source": [
    "disp_eq_s = disp_eq_d.subs(k_values_d)"
   ]
  },
  {
   "cell_type": "code",
   "execution_count": null,
   "metadata": {},
   "outputs": [],
   "source": [
    "disp_eq_s"
   ]
  },
  {
   "cell_type": "code",
   "execution_count": null,
   "metadata": {},
   "outputs": [],
   "source": [
    "disp_eq_brakes = []\n",
    "for i in range(n_layers):\n",
    "    disp_eq_brake = find_root( cos(k_values_d[i].rhs()*x) == 0, lambda_d/32, lambda_d/4)\n",
    "    for j in range (3):\n",
    "        disp_eq_brakes += [ j * pi / k_values_d [i].rhs() + disp_eq_brake]"
   ]
  },
  {
   "cell_type": "code",
   "execution_count": null,
   "metadata": {},
   "outputs": [],
   "source": [
    "disp_eq_brakes"
   ]
  },
  {
   "cell_type": "code",
   "execution_count": null,
   "metadata": {},
   "outputs": [],
   "source": []
  },
  {
   "cell_type": "code",
   "execution_count": null,
   "metadata": {},
   "outputs": [],
   "source": []
  },
  {
   "cell_type": "code",
   "execution_count": null,
   "metadata": {},
   "outputs": [],
   "source": [
    "p = sage.plot.graphics.Graphics()\n",
    "for i in range(n_layers):\n",
    "    p += plot ( cos(k_values_d[i].rhs()* x), lambda_d/32, lambda_d/4)\n",
    "\n",
    "p.show()"
   ]
  },
  {
   "cell_type": "code",
   "execution_count": null,
   "metadata": {
    "scrolled": true
   },
   "outputs": [],
   "source": [
    "disp_eq_brakes"
   ]
  },
  {
   "cell_type": "code",
   "execution_count": null,
   "metadata": {},
   "outputs": [],
   "source": [
    "disp_eq_brakes.sort()"
   ]
  },
  {
   "cell_type": "code",
   "execution_count": null,
   "metadata": {
    "scrolled": true
   },
   "outputs": [],
   "source": [
    "for i in range(len(disp_eq_brakes)):\n",
    "    display(Math(latex(disp_eq_brakes [i].n())))"
   ]
  },
  {
   "cell_type": "code",
   "execution_count": null,
   "metadata": {},
   "outputs": [],
   "source": [
    "disp_eq_s.lhs ().subs(h  == disp_eq_brakes [0] + lambda_d/64)"
   ]
  },
  {
   "cell_type": "code",
   "execution_count": null,
   "metadata": {},
   "outputs": [],
   "source": [
    "p = sage.plot.graphics.Graphics()\n",
    "ylim = 5*10^-5\n",
    "xeps = lambda_d/1024\n",
    "p += plot(disp_eq_s.lhs(), xeps, disp_eq_brakes[0])\n",
    "for i in range(len(disp_eq_brakes)-1):\n",
    "    p += plot (disp_eq_s.lhs(), disp_eq_brakes[i] + xeps, disp_eq_brakes[i+1] - xeps, ymin = -ylim, ymax = ylim)\n",
    "\n",
    "p.show()"
   ]
  },
  {
   "cell_type": "code",
   "execution_count": null,
   "metadata": {},
   "outputs": [],
   "source": [
    "h_lst = []\n",
    "\n",
    "xeps = lambda_d/1024\n",
    "for i in range(len(disp_eq_brakes)-1):\n",
    "    try:\n",
    "        \n",
    "        h_lst += [find_root (disp_eq_s.lhs(), disp_eq_brakes[i] + xeps, disp_eq_brakes[i+1] - xeps)]\n",
    "    except  Exception as ex:\n",
    "        print(str(ex))\n",
    "        print(disp_eq_brakes[i].n())\n",
    "        print(disp_eq_brakes [i+1].n())\n",
    "\n"
   ]
  },
  {
   "cell_type": "code",
   "execution_count": null,
   "metadata": {},
   "outputs": [],
   "source": [
    "h_lst "
   ]
  },
  {
   "cell_type": "code",
   "execution_count": null,
   "metadata": {},
   "outputs": [],
   "source": [
    "def find_newton_root(f,x,a,b):\n",
    "    df = f.diff(x)\n",
    "    NewtonIt(x)=x-(f/df)(x)\n",
    "    \n",
    "    xn=(a+b)/2;                      # initial guess\n",
    "\n",
    "    print (xn)\n",
    "    for i in range(10):\n",
    "        xn=N(NewtonIt(xn),digits=20)\n",
    "\n",
    "        \n",
    "        print (xn)\n",
    "\n",
    "    return xn"
   ]
  },
  {
   "cell_type": "code",
   "execution_count": null,
   "metadata": {},
   "outputs": [],
   "source": [
    "h_lst =[]\n",
    "\n",
    "xeps = lambda_d/1024\n",
    "for i in range(len(disp_eq_brakes)-1):\n",
    "    try:\n",
    "        h_lst += [find_newton_root (disp_eq_s.lhs(),h,disp_eq_brakes[i] + xeps, disp_eq_brakes[i+1] - xeps)]\n",
    "    except  Exception as ex:\n",
    "        print(str(ex))\n",
    "        print(disp_eq_brakes[i].n())\n",
    "        print(disp_eq_brakes [i+1].n())\n",
    "\n"
   ]
  },
  {
   "cell_type": "code",
   "execution_count": null,
   "metadata": {},
   "outputs": [],
   "source": [
    "h_lst"
   ]
  },
  {
   "cell_type": "code",
   "execution_count": null,
   "metadata": {},
   "outputs": [],
   "source": [
    "h_sol = h_lst[0]"
   ]
  },
  {
   "cell_type": "code",
   "execution_count": null,
   "metadata": {},
   "outputs": [],
   "source": [
    "h_sol"
   ]
  },
  {
   "cell_type": "code",
   "execution_count": null,
   "metadata": {},
   "outputs": [],
   "source": [
    "E_rho_sol = []\n",
    "for i in range(n_layers):\n",
    "    E_rho_sol += [lambda rh,ph,z,  i=i: E_rho_s[i](rh,ph,z).subs(digit_values).subs(h == h_sol).subs(omega_value).subs(kappa == kappa_d1).subs(c_value).subs(k_values_d).subs(B_z[0] == 1).subs (digit_values)]"
   ]
  },
  {
   "cell_type": "code",
   "execution_count": null,
   "metadata": {},
   "outputs": [],
   "source": [
    "E_z_sol = []\n",
    "for i in range(n_layers):\n",
    "    E_z_sol += [lambda rh,ph,z,  i=i: E_zz_s[i](rh,ph,z).subs(digit_values).subs(h == h_sol).subs(omega_value).subs(kappa == kappa_d1).subs(c_value).subs(k_values_d).subs(B_z[0] == 1).subs (digit_values)]"
   ]
  },
  {
   "cell_type": "code",
   "execution_count": null,
   "metadata": {},
   "outputs": [],
   "source": [
    "H_phi_sol = []\n",
    "for i in range(n_layers):\n",
    "    H_phi_sol += [lambda rh,ph,z,  i=i: H_phi_s[i](rh,ph,z).subs(digit_values).subs(h == h_sol).subs(omega_value).subs(kappa == kappa_d1).subs(c_value).subs(k_values_d).subs(B_z[0] == 1).subs (digit_values)]"
   ]
  },
  {
   "cell_type": "code",
   "execution_count": null,
   "metadata": {},
   "outputs": [],
   "source": [
    "[E_rho_sol [1](rho,ph,z) for rho in [0..12]]"
   ]
  },
  {
   "cell_type": "code",
   "execution_count": null,
   "metadata": {},
   "outputs": [],
   "source": []
  },
  {
   "cell_type": "code",
   "execution_count": null,
   "metadata": {},
   "outputs": [],
   "source": []
  },
  {
   "cell_type": "code",
   "execution_count": null,
   "metadata": {},
   "outputs": [],
   "source": [
    "p = sage.plot.graphics.Graphics()\n",
    "\n",
    "for i in range(n_layers):\n",
    "    p += plot ([E_rho_sol[i](rh,ph,z).subs(rh == rho) for rho in [0..12]],(z, i*h_sol, (i+1)*h_sol))\n",
    "p.show ()\n"
   ]
  },
  {
   "cell_type": "code",
   "execution_count": null,
   "metadata": {},
   "outputs": [],
   "source": [
    "p = sage.plot.graphics.Graphics()\n",
    "\n",
    "for i in range(n_layers):\n",
    "    p += plot ([E_z_sol[i](rh,ph,z).subs(rh == rho) for rho in [0..12]],(z, i*h_sol, (i+1)*h_sol))\n",
    "p.show ()\n"
   ]
  },
  {
   "cell_type": "code",
   "execution_count": null,
   "metadata": {},
   "outputs": [],
   "source": [
    "p = sage.plot.graphics.Graphics()\n",
    "\n",
    "for i in range(n_layers):\n",
    "    p += plot ([epsilon_d[i]*E_z_sol[i](rh,ph,z).subs(rh == rho) for rho in [0..12]],(z, i*h_sol, (i+1)*h_sol))\n",
    "p.show ()"
   ]
  },
  {
   "cell_type": "code",
   "execution_count": null,
   "metadata": {},
   "outputs": [],
   "source": [
    "p = sage.plot.graphics.Graphics()\n",
    "\n",
    "for i in range(n_layers):\n",
    "    p += plot ([H_phi_sol[i](rh,ph,z).subs(rh == rho).imag_part() for rho in [0..12]],(z, i*h_sol, (i+1)*h_sol))\n",
    "p.show ()\n"
   ]
  },
  {
   "cell_type": "code",
   "execution_count": null,
   "metadata": {},
   "outputs": [],
   "source": []
  },
  {
   "cell_type": "code",
   "execution_count": null,
   "metadata": {},
   "outputs": [],
   "source": []
  }
 ],
 "metadata": {
  "kernelspec": {
   "display_name": "SageMath 9.0",
   "language": "sage",
   "name": "sagemath"
  },
  "language_info": {
   "codemirror_mode": {
    "name": "ipython",
    "version": 3
   },
   "file_extension": ".py",
   "mimetype": "text/x-python",
   "name": "python",
   "nbconvert_exporter": "python",
   "pygments_lexer": "ipython3",
   "version": "3.7.3"
  }
 },
 "nbformat": 4,
 "nbformat_minor": 4
}
