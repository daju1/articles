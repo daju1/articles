{
 "cells": [
  {
   "cell_type": "markdown",
   "id": "68ccde62",
   "metadata": {},
   "source": [
    "I have a question about kinetic Energy\n",
    "\n",
    "\n",
    "Have you ever seen the following form of the kinetic Energy in MD\n",
    "\n",
    "\n",
    "$T = \\sum_{i}^{} \\frac{1}{2} m_i \\dot{x_i}^2 + \\sum_{i}^{} \\sum_{j}^{} \\frac{1}{2} m_{ij} \\left(\\vec {\\dot{x_i}}, \\vec {\\dot{x_j}}\\right)$"
   ]
  },
  {
   "cell_type": "markdown",
   "id": "586f534e",
   "metadata": {},
   "source": [
    "$m_i$ - self-induction coefficient of the particle (electromagnetic mass)"
   ]
  },
  {
   "cell_type": "markdown",
   "id": "c2ce44fb",
   "metadata": {},
   "source": [
    "$m_{ij}$ - mutual induction coefficient of two particles (electromagnetic cross mass)"
   ]
  },
  {
   "cell_type": "markdown",
   "id": "9be5c764",
   "metadata": {},
   "source": [
    "$U = -\\frac{1}{c^2}\\left(\\frac{1}{2}L_{11}\\,J_{1}^2+L_{12}\\,J_{1}\\,J_{2}+\\frac{1}{2}L_{22}\\,J_{2}^2\\right). \\,\\,\\,(52.9)$"
   ]
  },
  {
   "cell_type": "markdown",
   "id": "e05baf98",
   "metadata": {},
   "source": [
    "$U = -\\frac{1}{c^2}\\frac{1}{2}\\left(L_{11}\\,J_{1}^2+L_{12}\\,J_{1}\\,J_{2}+L_{21}\\,J_{2}\\,J_{1}+L_{22}\\,J_{2}^2\\right). \\,\\,\\,(52.10)$"
   ]
  },
  {
   "cell_type": "markdown",
   "id": "65bfa444",
   "metadata": {},
   "source": [
    "$U = -\\frac{1}{c^2}\\frac{1}{2}\\left(L_{11}\\,\\left(\\frac{q_{1}\\,v_1}{2\\,R_1}\\right)^2+L_{12}\\,\\left(\\frac{q_{1}\\,v_1}{2\\,R_1}\\right)\\,\\left(\\frac{q_{2}\\,v_2}{2\\,R_2}\\right)+L_{21}\\,\\left(\\frac{q_{2}\\,v_2}{2\\,R_2}\\right)\\,\\left(\\frac{q_{1}\\,v_1}{2\\,R_1}\\right)+L_{22}\\,\\left(\\frac{q_{2}\\,v_2}{2\\,R_2}\\right)^2\\right). \\,\\,\\,(52.10)$"
   ]
  },
  {
   "cell_type": "markdown",
   "id": "ae92d32c",
   "metadata": {},
   "source": [
    "$m_i = \\frac{L_{ii}}{c^2}=\\frac{1}{c^2\\,J_i^2}\\int\\limits_{V_i}\\int\\limits_{V_i}\\frac{\\left(\\vec{j_i},\\vec{j'_i}\\right)\\,dV\\,dV'}{r}$"
   ]
  },
  {
   "cell_type": "markdown",
   "id": "bf1e4e58",
   "metadata": {},
   "source": [
    "$m_{ij} = m_{ji} = \\left(\\frac{q_{i}\\,q_{j}}{4\\,R_i\\,R_j}\\right)\\frac{L_{ij}}{c^2} = \\frac{q_{i}\\,q_{j}}{4\\,R_i\\,R_j}\\frac{L_{ji}}{c^2} = \\\\\n",
    "\\left(\\frac{q_{i}\\,q_{j}}{4\\,R_i\\,R_j}\\right)\\frac{1}{c^2\\,J_i\\,J_j}\\int\\limits_{V_i}\\int\\limits_{V_j}\\frac{\\left(\\vec{j_i},\\vec{j_j}\\right)\\,dV_i\\,dV_j}{r} = \\\\\n",
    "\\left(\\frac{q_{i}\\,q_{j}}{4\\,R_i\\,R_j}\\right)\\frac{1}{c^2\\,J_i\\,J_j}\\int\\limits_{V_i}\\int\\limits_{V_j}\\frac{\\left(\\rho_i\\,\\vec{v_i},\\rho_j\\,\\vec{v_j}\\right)\\,dV_i\\,dV_j}{r} \\approx \\frac{q_{i}\\,q_{j}}{4\\,R_i\\,R_j}\\frac{1}{c^2\\,J_i\\,J_j}\\,q_i\\,q_j\\,\\frac{\\left(\\vec{v_i},\\vec{v_j}\\right)}{r}$"
   ]
  },
  {
   "cell_type": "markdown",
   "id": "dfa219c4",
   "metadata": {},
   "source": [
    "$A_{i} = \\frac{1}{c}\\int\\limits_{V_i}\\frac{\\vec{j_i}\\,dV_i}{R} = \\frac{1}{c}\\int\\limits_{V_i}\\frac{\\rho_i\\vec{v_i}\\,dV_i}{r}$"
   ]
  },
  {
   "cell_type": "markdown",
   "id": "57b71f9c",
   "metadata": {},
   "source": [
    "$m_{ij} = m_{ji} = \\frac{q_{i}\\,q_{j}}{4\\,R_i\\,R_j}\\frac{L_{ij}}{c^2} = \\frac{q_{i}\\,q_{j}}{4\\,R_i\\,R_j}\\frac{L_{ji}}{c^2} = \\frac{q_{i}\\,q_{j}}{4\\,R_i\\,R_j}\\frac{1}{c\\,J_i\\,J_j}\\int\\limits_{V_j}{\\left(\\vec{A_i},\\vec{j_j}\\right)\\,dV_i\\,dV_j}$"
   ]
  },
  {
   "cell_type": "markdown",
   "id": "9830628e",
   "metadata": {},
   "source": [
    "\n",
    "    V = 4/3 * pi * R^3\n",
    "    q = rho * V\n",
    "    # J = (rho*v).integrate(dS) -> (mean) -> (rho*v).integrate(dV) / (2*R) = q*v / (2 * R)\n",
    "    J = q * v / (2 * R)\n"
   ]
  },
  {
   "cell_type": "markdown",
   "id": "dbb0db25",
   "metadata": {},
   "source": [
    "$m_{ij} \\approx \\frac{q_{i}\\,q_{j}}{4\\,R_i\\,R_j}\\frac{1}{c^2\\,J_i\\,J_j}\\,q_i\\,q_j\\,\\frac{\\left(\\vec{v_i},\\vec{v_j}\\right)}{r} = \\frac{q_{i}\\,q_{j}}{4\\,R_i\\,R_j}\\frac{2\\,R_i\\,2\\,R_j}{c^2\\,q_i\\,v_i\\,q_j\\,v_j}\\,q_i\\,q_j\\,\\frac{\\left(\\vec{v_i},\\vec{v_j}\\right)}{r} = \\frac{q_{i}\\,q_{j}}{c^2}\\,\\frac{cos\\left(\\vec{v_i},\\vec{v_j}\\right)}{r}$"
   ]
  },
  {
   "cell_type": "markdown",
   "id": "461d275f",
   "metadata": {},
   "source": [
    "$L = T - V$"
   ]
  },
  {
   "cell_type": "markdown",
   "id": "e6f474e3",
   "metadata": {},
   "source": [
    "$L = \\sum_{i}^{} \\frac{1}{2} m_i \\dot{x_i}^2 + \\sum_{i}^{} \\sum_{j}^{} \\frac{1}{2} m_{ij} \\dot{x_i} \\dot{x_j} - V(x)$"
   ]
  },
  {
   "cell_type": "markdown",
   "id": "08296d03",
   "metadata": {},
   "source": [
    "$L = \\sum_{i}^{} \\frac{1}{2} m_i \\dot{x_i}^2 + \\sum_{i}^{} \\sum_{j}^{} \\frac{1}{2} \\frac{q_{i}\\,q_{j}}{c^2}\\,\\frac{cos\\left(\\vec{\\dot{x_i}},\\vec{\\dot{x_j}}\\right)}{r} \\dot{x_i} \\dot{x_j} - V(r)$"
   ]
  },
  {
   "cell_type": "markdown",
   "id": "e8d476dc",
   "metadata": {},
   "source": [
    "$L = \\sum_{i}^{} \\frac{1}{2} m_i \\dot{x_i}^2 + \\sum_{i}^{} \\sum_{j}^{} \\frac{1}{2} \\frac{q_{i}\\,q_{j}}{c^2}\\,\\frac{\\left(\\vec{\\dot{x_i}},\\vec{\\dot{x_j}}\\right)}{r} - V(r)$"
   ]
  },
  {
   "cell_type": "markdown",
   "id": "bd877443",
   "metadata": {},
   "source": [
    "$L = \\sum_{i}^{} \\frac{1}{2} m_i \\left(\\dot{x_i}^2+\\dot{y_i}^2+\\dot{z_i}^2\\right) + \\sum_{i}^{} \\sum_{j}^{} \\frac{1}{2} \\frac{q_{i}\\,q_{j}}{c^2}\\,\\frac{\\left(\\dot{x_i}\\dot{x_j} + \\dot{y_i}\\dot{y_j}+\\dot{z_i}\\dot{z_j}\\right)}{r} - V(r)$"
   ]
  },
  {
   "cell_type": "markdown",
   "id": "a813a395",
   "metadata": {},
   "source": [
    "$L = \\sum_{i}^{} \\frac{1}{2} m_i \\left(\\dot{x_i}^2+\\dot{y_i}^2+\\dot{z_i}^2\\right) + \\sum_{i}^{} \\sum_{j}^{} \\frac{1}{2} \\frac{q_{i}\\,q_{j}}{c^2}\\,\\frac{\\left(\\dot{x_i}\\dot{x_j} + \\dot{y_i}\\dot{y_j}+\\dot{z_i}\\dot{z_j}\\right)}{\\sqrt{\\left(x_i-x_j\\right)^2+\\left(y_i-y_j\\right)^2+\\left(z_i-z_j\\right)^2}} - V\\left(\\sqrt{\\left(x_i-x_j\\right)^2+\\left(y_i-y_j\\right)^2+\\left(z_i-z_j\\right)^2}\\right)$"
   ]
  },
  {
   "cell_type": "code",
   "execution_count": 3,
   "id": "0272bec1",
   "metadata": {},
   "outputs": [],
   "source": [
    "from IPython.display import display, Math, Latex\n",
    "\n",
    "def disp(ex):\n",
    "    display(Math(latex(ex)))\n",
    "\n",
    "def displ(tex):\n",
    "    display(Math(tex))"
   ]
  },
  {
   "cell_type": "code",
   "execution_count": 15,
   "id": "a9ae2e04",
   "metadata": {},
   "outputs": [],
   "source": [
    "# Объявление переменных и функций\n",
    "\n",
    "m_1,m_2 = var(\"m_1,m_2\")\n",
    "t = var(\"t\")\n",
    "C = var(\"C\")\n",
    "\n",
    "V_x_1 = var(\"v_x_1\")\n",
    "v_x_1 = function(\"v_x_1\")(t)\n",
    "\n",
    "V_x_2 = var(\"v_x_2\")\n",
    "v_x_2 = function(\"v_x_2\")(t)\n",
    "\n",
    "V_y_1 = var(\"v_y_1\")\n",
    "v_y_1 = function(\"v_y_1\")(t)\n",
    "\n",
    "V_y_2 = var(\"v_y_2\")\n",
    "v_y_2 = function(\"v_y_2\")(t)\n",
    "\n",
    "V_z_1 = var(\"v_z_1\")\n",
    "v_z_1 = function(\"v_z_1\")(t)\n",
    "\n",
    "V_z_2 = var(\"v_z_2\")\n",
    "v_z_2 = function(\"v_z_2\")(t)\n",
    "\n",
    "X_1 = var(\"x_1\")\n",
    "x_1 = function(\"x_1\")(t)\n",
    "\n",
    "X_2 = var(\"x_2\")\n",
    "x_2 = function(\"x_2\")(t)\n",
    "\n",
    "Y_1 = var(\"y_1\")\n",
    "y_1 = function(\"y_1\")(t)\n",
    "\n",
    "Y_2 = var(\"y_2\")\n",
    "y_2 = function(\"y_2\")(t)\n",
    "\n",
    "Z_1 = var(\"z_1\")\n",
    "z_1 = function(\"z_1\")(t)\n",
    "\n",
    "Z_2 = var(\"z_2\")\n",
    "z_2 = function(\"z_2\")(t)\n",
    "\n",
    "r = var(\"r\")\n",
    "V = function(\"V\")(r)\n",
    "\n",
    "P = var(\"p\")\n",
    "p = function(\"p\")(t)"
   ]
  },
  {
   "cell_type": "code",
   "execution_count": 13,
   "id": "5473f152",
   "metadata": {},
   "outputs": [
    {
     "data": {
      "text/latex": [
       "$\\displaystyle \\frac{1}{2} \\, {\\left(\\frac{\\partial}{\\partial t}x_{1}\\left(t\\right)^{2} + \\frac{\\partial}{\\partial t}y_{1}\\left(t\\right)^{2} + \\frac{\\partial}{\\partial t}z_{1}\\left(t\\right)^{2}\\right)} m_{1} + \\frac{1}{2} \\, {\\left(\\frac{\\partial}{\\partial t}x_{2}\\left(t\\right)^{2} + \\frac{\\partial}{\\partial t}y_{2}\\left(t\\right)^{2} + \\frac{\\partial}{\\partial t}z_{2}\\left(t\\right)^{2}\\right)} m_{2} + \\frac{{\\left(\\frac{\\partial}{\\partial t}x_{1}\\left(t\\right) \\frac{\\partial}{\\partial t}x_{2}\\left(t\\right) + \\frac{\\partial}{\\partial t}y_{1}\\left(t\\right) \\frac{\\partial}{\\partial t}y_{2}\\left(t\\right) + \\frac{\\partial}{\\partial t}z_{1}\\left(t\\right) \\frac{\\partial}{\\partial t}z_{2}\\left(t\\right)\\right)} C}{\\sqrt{{\\left(x_{1}\\left(t\\right) - x_{2}\\left(t\\right)\\right)}^{2} + {\\left(y_{1}\\left(t\\right) - y_{2}\\left(t\\right)\\right)}^{2} + {\\left(z_{1}\\left(t\\right) - z_{2}\\left(t\\right)\\right)}^{2}}}$"
      ],
      "text/plain": [
       "<IPython.core.display.Math object>"
      ]
     },
     "metadata": {},
     "output_type": "display_data"
    }
   ],
   "source": [
    "# Кинетическая энергия\n",
    "\n",
    "T = (1/2) * m_1 * ((x_1.diff(t))^2 + (y_1.diff(t))^2 + (z_1.diff(t))^2) \\\n",
    "  + (1/2) * m_2 * ((x_2.diff(t))^2 + (y_2.diff(t))^2 + (z_2.diff(t))^2) \\\n",
    "  + C * (x_1.diff(t)*x_2.diff(t) + y_1.diff(t)*y_2.diff(t) + z_1.diff(t)*z_2.diff(t)) \\\n",
    "  / sqrt((x_1 - x_2)^2 + (y_1 - y_2)^2 + (z_1 - z_2)^2)\n",
    "disp(T)"
   ]
  },
  {
   "cell_type": "code",
   "execution_count": 18,
   "id": "dbfc4610",
   "metadata": {},
   "outputs": [
    {
     "data": {
      "text/latex": [
       "$\\displaystyle V\\left(\\sqrt{{\\left(x_{1}\\left(t\\right) - x_{2}\\left(t\\right)\\right)}^{2} + {\\left(y_{1}\\left(t\\right) - y_{2}\\left(t\\right)\\right)}^{2} + {\\left(z_{1}\\left(t\\right) - z_{2}\\left(t\\right)\\right)}^{2}}\\right)$"
      ],
      "text/plain": [
       "<IPython.core.display.Math object>"
      ]
     },
     "metadata": {},
     "output_type": "display_data"
    }
   ],
   "source": [
    "U = V(r = sqrt((x_1 - x_2)^2 + (y_1 - y_2)^2 + (z_1 - z_2)^2))\n",
    "disp(U)"
   ]
  },
  {
   "cell_type": "code",
   "execution_count": 20,
   "id": "4f3b2c83",
   "metadata": {},
   "outputs": [
    {
     "data": {
      "text/latex": [
       "$\\displaystyle \\frac{1}{2} \\, {\\left(\\frac{\\partial}{\\partial t}x_{1}\\left(t\\right)^{2} + \\frac{\\partial}{\\partial t}y_{1}\\left(t\\right)^{2} + \\frac{\\partial}{\\partial t}z_{1}\\left(t\\right)^{2}\\right)} m_{1} + \\frac{1}{2} \\, {\\left(\\frac{\\partial}{\\partial t}x_{2}\\left(t\\right)^{2} + \\frac{\\partial}{\\partial t}y_{2}\\left(t\\right)^{2} + \\frac{\\partial}{\\partial t}z_{2}\\left(t\\right)^{2}\\right)} m_{2} + \\frac{{\\left(\\frac{\\partial}{\\partial t}x_{1}\\left(t\\right) \\frac{\\partial}{\\partial t}x_{2}\\left(t\\right) + \\frac{\\partial}{\\partial t}y_{1}\\left(t\\right) \\frac{\\partial}{\\partial t}y_{2}\\left(t\\right) + \\frac{\\partial}{\\partial t}z_{1}\\left(t\\right) \\frac{\\partial}{\\partial t}z_{2}\\left(t\\right)\\right)} C}{\\sqrt{{\\left(x_{1}\\left(t\\right) - x_{2}\\left(t\\right)\\right)}^{2} + {\\left(y_{1}\\left(t\\right) - y_{2}\\left(t\\right)\\right)}^{2} + {\\left(z_{1}\\left(t\\right) - z_{2}\\left(t\\right)\\right)}^{2}}} - V\\left(\\sqrt{{\\left(x_{1}\\left(t\\right) - x_{2}\\left(t\\right)\\right)}^{2} + {\\left(y_{1}\\left(t\\right) - y_{2}\\left(t\\right)\\right)}^{2} + {\\left(z_{1}\\left(t\\right) - z_{2}\\left(t\\right)\\right)}^{2}}\\right)$"
      ],
      "text/plain": [
       "<IPython.core.display.Math object>"
      ]
     },
     "metadata": {},
     "output_type": "display_data"
    }
   ],
   "source": [
    "L = T - U\n",
    "disp(L)"
   ]
  },
  {
   "cell_type": "code",
   "execution_count": 74,
   "id": "ae999177",
   "metadata": {},
   "outputs": [
    {
     "data": {
      "text/latex": [
       "$\\displaystyle \\left[\\frac{\\partial}{\\partial t}x_{1}\\left(t\\right) = v_{x_{1}}, \\frac{\\partial}{\\partial t}y_{1}\\left(t\\right) = v_{y_{1}}, \\frac{\\partial}{\\partial t}z_{1}\\left(t\\right) = v_{z_{1}}, \\frac{\\partial}{\\partial t}x_{2}\\left(t\\right) = v_{x_{2}}, \\frac{\\partial}{\\partial t}y_{2}\\left(t\\right) = v_{y_{2}}, \\frac{\\partial}{\\partial t}z_{2}\\left(t\\right) = v_{z_{2}}\\right]$"
      ],
      "text/plain": [
       "<IPython.core.display.Math object>"
      ]
     },
     "metadata": {},
     "output_type": "display_data"
    },
    {
     "data": {
      "text/latex": [
       "$\\displaystyle \\left[\\frac{\\partial}{\\partial t}x_{1}\\left(t\\right) = v_{x_{1}}\\left(t\\right), \\frac{\\partial}{\\partial t}y_{1}\\left(t\\right) = v_{y_{1}}\\left(t\\right), \\frac{\\partial}{\\partial t}z_{1}\\left(t\\right) = v_{z_{1}}\\left(t\\right), \\frac{\\partial}{\\partial t}x_{2}\\left(t\\right) = v_{x_{2}}\\left(t\\right), \\frac{\\partial}{\\partial t}y_{2}\\left(t\\right) = v_{y_{2}}\\left(t\\right), \\frac{\\partial}{\\partial t}z_{2}\\left(t\\right) = v_{z_{2}}\\left(t\\right)\\right]$"
      ],
      "text/plain": [
       "<IPython.core.display.Math object>"
      ]
     },
     "metadata": {},
     "output_type": "display_data"
    }
   ],
   "source": [
    "# уравнения замены производных обобщенных координат на v\n",
    "\n",
    "xdot_to_v      = [x_1.diff(t) == V_x_1,\n",
    "                  y_1.diff(t) == V_y_1,\n",
    "                  z_1.diff(t) == V_z_1,\n",
    "                  x_2.diff(t) == V_x_2,\n",
    "                  y_2.diff(t) == V_y_2,\n",
    "                  z_2.diff(t) == V_z_2,\n",
    "                 ]\n",
    "disp(xdot_to_v)\n",
    "\n",
    "xdot_to_v_func = [x_1.diff(t) == v_x_1,\n",
    "                  y_1.diff(t) == v_y_1,\n",
    "                  z_1.diff(t) == v_z_1,\n",
    "                  x_2.diff(t) == v_x_2,\n",
    "                  y_2.diff(t) == v_y_2,\n",
    "                  z_2.diff(t) == v_z_2,\n",
    "                 ]\n",
    "disp(xdot_to_v_func)"
   ]
  },
  {
   "cell_type": "code",
   "execution_count": 75,
   "id": "f0853b79",
   "metadata": {},
   "outputs": [
    {
     "data": {
      "text/latex": [
       "$\\displaystyle \\left[v_{x_{1}} = \\frac{\\partial}{\\partial t}x_{1}\\left(t\\right), v_{y_{1}} = \\frac{\\partial}{\\partial t}y_{1}\\left(t\\right), v_{z_{1}} = \\frac{\\partial}{\\partial t}z_{1}\\left(t\\right), v_{x_{2}} = \\frac{\\partial}{\\partial t}x_{2}\\left(t\\right), v_{y_{2}} = \\frac{\\partial}{\\partial t}y_{2}\\left(t\\right), v_{z_{2}} = \\frac{\\partial}{\\partial t}z_{2}\\left(t\\right)\\right]$"
      ],
      "text/plain": [
       "<IPython.core.display.Math object>"
      ]
     },
     "metadata": {},
     "output_type": "display_data"
    }
   ],
   "source": [
    "# уравнения замены производных обобщенных координат на v\n",
    "\n",
    "v_to_xdot      = [V_x_1 == x_1.diff(t),\n",
    "                  V_y_1 == y_1.diff(t),\n",
    "                  V_z_1 == z_1.diff(t),\n",
    "                  V_x_2 == x_2.diff(t),\n",
    "                  V_y_2 == y_2.diff(t),\n",
    "                  V_z_2 == z_2.diff(t),\n",
    "                 ]\n",
    "disp(v_to_xdot)"
   ]
  },
  {
   "cell_type": "code",
   "execution_count": 31,
   "id": "9e4af5ac",
   "metadata": {},
   "outputs": [
    {
     "data": {
      "text/latex": [
       "$\\displaystyle \\left[\\frac{\\partial}{\\partial t}x_{1}\\left(t\\right) = v_{x_{1}}, \\frac{\\partial}{\\partial t}y_{1}\\left(t\\right) = v_{y_{1}}, \\frac{\\partial}{\\partial t}z_{1}\\left(t\\right) = v_{z_{1}}, \\frac{\\partial}{\\partial t}x_{2}\\left(t\\right) = v_{x_{2}}, \\frac{\\partial}{\\partial t}y_{2}\\left(t\\right) = v_{y_{2}}, \\frac{\\partial}{\\partial t}z_{2}\\left(t\\right) = v_{z_{2}}\\right]$"
      ],
      "text/plain": [
       "<IPython.core.display.Math object>"
      ]
     },
     "metadata": {},
     "output_type": "display_data"
    }
   ],
   "source": []
  },
  {
   "cell_type": "code",
   "execution_count": 32,
   "id": "8745c30d",
   "metadata": {},
   "outputs": [
    {
     "data": {
      "text/latex": [
       "$\\displaystyle \\left[\\frac{\\partial}{\\partial t}x_{1}\\left(t\\right) = v_{x_{1}}\\left(t\\right), \\frac{\\partial}{\\partial t}y_{1}\\left(t\\right) = v_{y_{1}}\\left(t\\right), \\frac{\\partial}{\\partial t}z_{1}\\left(t\\right) = v_{z_{1}}\\left(t\\right), \\frac{\\partial}{\\partial t}x_{2}\\left(t\\right) = v_{x_{2}}\\left(t\\right), \\frac{\\partial}{\\partial t}y_{2}\\left(t\\right) = v_{y_{2}}\\left(t\\right), \\frac{\\partial}{\\partial t}z_{2}\\left(t\\right) = v_{z_{2}}\\left(t\\right)\\right]$"
      ],
      "text/plain": [
       "<IPython.core.display.Math object>"
      ]
     },
     "metadata": {},
     "output_type": "display_data"
    }
   ],
   "source": []
  },
  {
   "cell_type": "code",
   "execution_count": 50,
   "id": "8667195a",
   "metadata": {},
   "outputs": [
    {
     "data": {
      "text/latex": [
       "$\\displaystyle \\left[x_{1} = x_{1}\\left(t\\right), y_{1} = y_{1}\\left(t\\right), z_{1} = z_{1}\\left(t\\right), x_{2} = x_{2}\\left(t\\right), y_{2} = y_{2}\\left(t\\right), z_{2} = z_{2}\\left(t\\right)\\right]$"
      ],
      "text/plain": [
       "<IPython.core.display.Math object>"
      ]
     },
     "metadata": {},
     "output_type": "display_data"
    }
   ],
   "source": [
    "X_to_x = [X_1 == x_1,\n",
    "          Y_1 == y_1,\n",
    "          Z_1 == z_1,\n",
    "          X_2 == x_2,\n",
    "          Y_2 == y_2,\n",
    "          Z_2 == z_2,\n",
    "         ]\n",
    "disp(X_to_x)"
   ]
  },
  {
   "cell_type": "code",
   "execution_count": 56,
   "id": "10654426",
   "metadata": {},
   "outputs": [
    {
     "data": {
      "text/latex": [
       "$\\displaystyle \\left[x_{1}\\left(t\\right) = x_{1}, y_{1}\\left(t\\right) = y_{1}, z_{1}\\left(t\\right) = z_{1}, x_{2}\\left(t\\right) = x_{2}, y_{2}\\left(t\\right) = y_{2}, z_{2}\\left(t\\right) = z_{2}\\right]$"
      ],
      "text/plain": [
       "<IPython.core.display.Math object>"
      ]
     },
     "metadata": {},
     "output_type": "display_data"
    }
   ],
   "source": [
    "x_to_X = [x_1 == X_1,\n",
    "          y_1 == Y_1,\n",
    "          z_1 == Z_1,\n",
    "          x_2 == X_2,\n",
    "          y_2 == Y_2,\n",
    "          z_2 == Z_2,\n",
    "         ]\n",
    "disp(x_to_X)"
   ]
  },
  {
   "cell_type": "markdown",
   "id": "c4d831e8",
   "metadata": {},
   "source": [
    "Найдем обобщенные импульсы\n",
    "\n",
    "$P = \\frac{\\partial L}{\\partial \\dot{x}} = \\frac{\\partial L}{\\partial {v}}$"
   ]
  },
  {
   "cell_type": "code",
   "execution_count": 76,
   "id": "fa6f550b",
   "metadata": {},
   "outputs": [
    {
     "data": {
      "text/latex": [
       "$\\displaystyle \\frac{1}{2} \\, {\\left(v_{x_{1}}^{2} + v_{y_{1}}^{2} + v_{z_{1}}^{2}\\right)} m_{1} + \\frac{1}{2} \\, {\\left(v_{x_{2}}^{2} + v_{y_{2}}^{2} + v_{z_{2}}^{2}\\right)} m_{2} + \\frac{{\\left(v_{x_{1}} v_{x_{2}} + v_{y_{1}} v_{y_{2}} + v_{z_{1}} v_{z_{2}}\\right)} C}{\\sqrt{{\\left(x_{1}\\left(t\\right) - x_{2}\\left(t\\right)\\right)}^{2} + {\\left(y_{1}\\left(t\\right) - y_{2}\\left(t\\right)\\right)}^{2} + {\\left(z_{1}\\left(t\\right) - z_{2}\\left(t\\right)\\right)}^{2}}} - V\\left(\\sqrt{{\\left(x_{1}\\left(t\\right) - x_{2}\\left(t\\right)\\right)}^{2} + {\\left(y_{1}\\left(t\\right) - y_{2}\\left(t\\right)\\right)}^{2} + {\\left(z_{1}\\left(t\\right) - z_{2}\\left(t\\right)\\right)}^{2}}\\right)$"
      ],
      "text/plain": [
       "<IPython.core.display.Math object>"
      ]
     },
     "metadata": {},
     "output_type": "display_data"
    }
   ],
   "source": [
    "L_ = L.subs(xdot_to_v)\n",
    "disp(L_)"
   ]
  },
  {
   "cell_type": "code",
   "execution_count": 78,
   "id": "586dee6b",
   "metadata": {},
   "outputs": [
    {
     "data": {
      "text/latex": [
       "$\\displaystyle Px_1= m_{1} \\frac{\\partial}{\\partial t}x_{1}\\left(t\\right) + \\frac{C \\frac{\\partial}{\\partial t}x_{2}\\left(t\\right)}{\\sqrt{{\\left(x_{1}\\left(t\\right) - x_{2}\\left(t\\right)\\right)}^{2} + {\\left(y_{1}\\left(t\\right) - y_{2}\\left(t\\right)\\right)}^{2} + {\\left(z_{1}\\left(t\\right) - z_{2}\\left(t\\right)\\right)}^{2}}}$"
      ],
      "text/plain": [
       "<IPython.core.display.Math object>"
      ]
     },
     "metadata": {},
     "output_type": "display_data"
    },
    {
     "data": {
      "text/latex": [
       "$\\displaystyle Px_2= m_{2} \\frac{\\partial}{\\partial t}x_{2}\\left(t\\right) + \\frac{C \\frac{\\partial}{\\partial t}x_{1}\\left(t\\right)}{\\sqrt{{\\left(x_{1}\\left(t\\right) - x_{2}\\left(t\\right)\\right)}^{2} + {\\left(y_{1}\\left(t\\right) - y_{2}\\left(t\\right)\\right)}^{2} + {\\left(z_{1}\\left(t\\right) - z_{2}\\left(t\\right)\\right)}^{2}}}$"
      ],
      "text/plain": [
       "<IPython.core.display.Math object>"
      ]
     },
     "metadata": {},
     "output_type": "display_data"
    },
    {
     "name": "stdout",
     "output_type": "stream",
     "text": [
      "\n"
     ]
    },
    {
     "data": {
      "text/latex": [
       "$\\displaystyle Py_1= m_{1} v_{y_{1}} + \\frac{C v_{y_{2}}}{\\sqrt{{\\left(x_{1} - x_{2}\\right)}^{2} + {\\left(y_{1} - y_{2}\\right)}^{2} + {\\left(z_{1} - z_{2}\\right)}^{2}}}$"
      ],
      "text/plain": [
       "<IPython.core.display.Math object>"
      ]
     },
     "metadata": {},
     "output_type": "display_data"
    },
    {
     "data": {
      "text/latex": [
       "$\\displaystyle Py_2= m_{2} v_{y_{2}} + \\frac{C v_{y_{1}}}{\\sqrt{{\\left(x_{1} - x_{2}\\right)}^{2} + {\\left(y_{1} - y_{2}\\right)}^{2} + {\\left(z_{1} - z_{2}\\right)}^{2}}}$"
      ],
      "text/plain": [
       "<IPython.core.display.Math object>"
      ]
     },
     "metadata": {},
     "output_type": "display_data"
    },
    {
     "name": "stdout",
     "output_type": "stream",
     "text": [
      "\n"
     ]
    },
    {
     "data": {
      "text/latex": [
       "$\\displaystyle Pz_1= m_{1} \\frac{\\partial}{\\partial t}z_{1}\\left(t\\right) + \\frac{C \\frac{\\partial}{\\partial t}z_{2}\\left(t\\right)}{\\sqrt{{\\left(x_{1}\\left(t\\right) - x_{2}\\left(t\\right)\\right)}^{2} + {\\left(y_{1}\\left(t\\right) - y_{2}\\left(t\\right)\\right)}^{2} + {\\left(z_{1}\\left(t\\right) - z_{2}\\left(t\\right)\\right)}^{2}}}$"
      ],
      "text/plain": [
       "<IPython.core.display.Math object>"
      ]
     },
     "metadata": {},
     "output_type": "display_data"
    },
    {
     "data": {
      "text/latex": [
       "$\\displaystyle Pz_2= m_{2} \\frac{\\partial}{\\partial t}z_{2}\\left(t\\right) + \\frac{C \\frac{\\partial}{\\partial t}z_{1}\\left(t\\right)}{\\sqrt{{\\left(x_{1}\\left(t\\right) - x_{2}\\left(t\\right)\\right)}^{2} + {\\left(y_{1}\\left(t\\right) - y_{2}\\left(t\\right)\\right)}^{2} + {\\left(z_{1}\\left(t\\right) - z_{2}\\left(t\\right)\\right)}^{2}}}$"
      ],
      "text/plain": [
       "<IPython.core.display.Math object>"
      ]
     },
     "metadata": {},
     "output_type": "display_data"
    }
   ],
   "source": [
    "Px1 = L_.diff(V_x_1).subs(v_to_xdot)\n",
    "Px2 = L_.diff(V_x_2).subs(v_to_xdot)\n",
    "\n",
    "displ(\"Px_1=\" + latex(Px1))\n",
    "displ(\"Px_2=\" + latex(Px2))\n",
    "print(\"\")\n",
    "\n",
    "Py1 = L_.diff(V_y_1).subs(v_to_xdot)\n",
    "Py2 = L_.diff(V_y_2).subs(v_to_xdot)\n",
    "\n",
    "displ(\"Py_1=\"+latex(P_y_1))\n",
    "displ(\"Py_2=\"+latex(P_y_2))\n",
    "print(\"\")\n",
    "\n",
    "Pz1 = L_.diff(V_z_1).subs(v_to_xdot)\n",
    "Pz2 = L_.diff(V_z_2).subs(v_to_xdot)\n",
    "\n",
    "displ(\"Pz_1=\"+latex(Pz1))\n",
    "displ(\"Pz_2=\"+latex(Pz2))"
   ]
  },
  {
   "cell_type": "markdown",
   "id": "bdcb3be1",
   "metadata": {},
   "source": [
    "Найдем обобщенные силы\n",
    "\n",
    "$\\frac{\\partial L}{\\partial {x}} = F$"
   ]
  },
  {
   "cell_type": "code",
   "execution_count": 79,
   "id": "4a064e46",
   "metadata": {},
   "outputs": [
    {
     "data": {
      "text/latex": [
       "$\\displaystyle Fx_1= -\\frac{{\\left(\\frac{\\partial}{\\partial t}x_{1}\\left(t\\right) \\frac{\\partial}{\\partial t}x_{2}\\left(t\\right) + \\frac{\\partial}{\\partial t}y_{1}\\left(t\\right) \\frac{\\partial}{\\partial t}y_{2}\\left(t\\right) + \\frac{\\partial}{\\partial t}z_{1}\\left(t\\right) \\frac{\\partial}{\\partial t}z_{2}\\left(t\\right)\\right)} C {\\left(x_{1}\\left(t\\right) - x_{2}\\left(t\\right)\\right)}}{{\\left({\\left(x_{1}\\left(t\\right) - x_{2}\\left(t\\right)\\right)}^{2} + {\\left(y_{1}\\left(t\\right) - y_{2}\\left(t\\right)\\right)}^{2} + {\\left(z_{1}\\left(t\\right) - z_{2}\\left(t\\right)\\right)}^{2}\\right)}^{\\frac{3}{2}}} - \\frac{{\\left(x_{1}\\left(t\\right) - x_{2}\\left(t\\right)\\right)} \\mathrm{D}_{0}\\left(V\\right)\\left(\\sqrt{{\\left(x_{1}\\left(t\\right) - x_{2}\\left(t\\right)\\right)}^{2} + {\\left(y_{1}\\left(t\\right) - y_{2}\\left(t\\right)\\right)}^{2} + {\\left(z_{1}\\left(t\\right) - z_{2}\\left(t\\right)\\right)}^{2}}\\right)}{\\sqrt{{\\left(x_{1}\\left(t\\right) - x_{2}\\left(t\\right)\\right)}^{2} + {\\left(y_{1}\\left(t\\right) - y_{2}\\left(t\\right)\\right)}^{2} + {\\left(z_{1}\\left(t\\right) - z_{2}\\left(t\\right)\\right)}^{2}}}$"
      ],
      "text/plain": [
       "<IPython.core.display.Math object>"
      ]
     },
     "metadata": {},
     "output_type": "display_data"
    },
    {
     "data": {
      "text/latex": [
       "$\\displaystyle Fx_2= \\frac{{\\left(\\frac{\\partial}{\\partial t}x_{1}\\left(t\\right) \\frac{\\partial}{\\partial t}x_{2}\\left(t\\right) + \\frac{\\partial}{\\partial t}y_{1}\\left(t\\right) \\frac{\\partial}{\\partial t}y_{2}\\left(t\\right) + \\frac{\\partial}{\\partial t}z_{1}\\left(t\\right) \\frac{\\partial}{\\partial t}z_{2}\\left(t\\right)\\right)} C {\\left(x_{1}\\left(t\\right) - x_{2}\\left(t\\right)\\right)}}{{\\left({\\left(x_{1}\\left(t\\right) - x_{2}\\left(t\\right)\\right)}^{2} + {\\left(y_{1}\\left(t\\right) - y_{2}\\left(t\\right)\\right)}^{2} + {\\left(z_{1}\\left(t\\right) - z_{2}\\left(t\\right)\\right)}^{2}\\right)}^{\\frac{3}{2}}} + \\frac{{\\left(x_{1}\\left(t\\right) - x_{2}\\left(t\\right)\\right)} \\mathrm{D}_{0}\\left(V\\right)\\left(\\sqrt{{\\left(x_{1}\\left(t\\right) - x_{2}\\left(t\\right)\\right)}^{2} + {\\left(y_{1}\\left(t\\right) - y_{2}\\left(t\\right)\\right)}^{2} + {\\left(z_{1}\\left(t\\right) - z_{2}\\left(t\\right)\\right)}^{2}}\\right)}{\\sqrt{{\\left(x_{1}\\left(t\\right) - x_{2}\\left(t\\right)\\right)}^{2} + {\\left(y_{1}\\left(t\\right) - y_{2}\\left(t\\right)\\right)}^{2} + {\\left(z_{1}\\left(t\\right) - z_{2}\\left(t\\right)\\right)}^{2}}}$"
      ],
      "text/plain": [
       "<IPython.core.display.Math object>"
      ]
     },
     "metadata": {},
     "output_type": "display_data"
    },
    {
     "name": "stdout",
     "output_type": "stream",
     "text": [
      "\n"
     ]
    },
    {
     "data": {
      "text/latex": [
       "$\\displaystyle Fy_1= -\\frac{{\\left(\\frac{\\partial}{\\partial t}x_{1}\\left(t\\right) \\frac{\\partial}{\\partial t}x_{2}\\left(t\\right) + \\frac{\\partial}{\\partial t}y_{1}\\left(t\\right) \\frac{\\partial}{\\partial t}y_{2}\\left(t\\right) + \\frac{\\partial}{\\partial t}z_{1}\\left(t\\right) \\frac{\\partial}{\\partial t}z_{2}\\left(t\\right)\\right)} C {\\left(y_{1}\\left(t\\right) - y_{2}\\left(t\\right)\\right)}}{{\\left({\\left(x_{1}\\left(t\\right) - x_{2}\\left(t\\right)\\right)}^{2} + {\\left(y_{1}\\left(t\\right) - y_{2}\\left(t\\right)\\right)}^{2} + {\\left(z_{1}\\left(t\\right) - z_{2}\\left(t\\right)\\right)}^{2}\\right)}^{\\frac{3}{2}}} - \\frac{{\\left(y_{1}\\left(t\\right) - y_{2}\\left(t\\right)\\right)} \\mathrm{D}_{0}\\left(V\\right)\\left(\\sqrt{{\\left(x_{1}\\left(t\\right) - x_{2}\\left(t\\right)\\right)}^{2} + {\\left(y_{1}\\left(t\\right) - y_{2}\\left(t\\right)\\right)}^{2} + {\\left(z_{1}\\left(t\\right) - z_{2}\\left(t\\right)\\right)}^{2}}\\right)}{\\sqrt{{\\left(x_{1}\\left(t\\right) - x_{2}\\left(t\\right)\\right)}^{2} + {\\left(y_{1}\\left(t\\right) - y_{2}\\left(t\\right)\\right)}^{2} + {\\left(z_{1}\\left(t\\right) - z_{2}\\left(t\\right)\\right)}^{2}}}$"
      ],
      "text/plain": [
       "<IPython.core.display.Math object>"
      ]
     },
     "metadata": {},
     "output_type": "display_data"
    },
    {
     "data": {
      "text/latex": [
       "$\\displaystyle Fy_2= \\frac{{\\left(\\frac{\\partial}{\\partial t}x_{1}\\left(t\\right) \\frac{\\partial}{\\partial t}x_{2}\\left(t\\right) + \\frac{\\partial}{\\partial t}y_{1}\\left(t\\right) \\frac{\\partial}{\\partial t}y_{2}\\left(t\\right) + \\frac{\\partial}{\\partial t}z_{1}\\left(t\\right) \\frac{\\partial}{\\partial t}z_{2}\\left(t\\right)\\right)} C {\\left(x_{1}\\left(t\\right) - x_{2}\\left(t\\right)\\right)}}{{\\left({\\left(x_{1}\\left(t\\right) - x_{2}\\left(t\\right)\\right)}^{2} + {\\left(y_{1}\\left(t\\right) - y_{2}\\left(t\\right)\\right)}^{2} + {\\left(z_{1}\\left(t\\right) - z_{2}\\left(t\\right)\\right)}^{2}\\right)}^{\\frac{3}{2}}} + \\frac{{\\left(x_{1}\\left(t\\right) - x_{2}\\left(t\\right)\\right)} \\mathrm{D}_{0}\\left(V\\right)\\left(\\sqrt{{\\left(x_{1}\\left(t\\right) - x_{2}\\left(t\\right)\\right)}^{2} + {\\left(y_{1}\\left(t\\right) - y_{2}\\left(t\\right)\\right)}^{2} + {\\left(z_{1}\\left(t\\right) - z_{2}\\left(t\\right)\\right)}^{2}}\\right)}{\\sqrt{{\\left(x_{1}\\left(t\\right) - x_{2}\\left(t\\right)\\right)}^{2} + {\\left(y_{1}\\left(t\\right) - y_{2}\\left(t\\right)\\right)}^{2} + {\\left(z_{1}\\left(t\\right) - z_{2}\\left(t\\right)\\right)}^{2}}}$"
      ],
      "text/plain": [
       "<IPython.core.display.Math object>"
      ]
     },
     "metadata": {},
     "output_type": "display_data"
    },
    {
     "name": "stdout",
     "output_type": "stream",
     "text": [
      "\n"
     ]
    },
    {
     "data": {
      "text/latex": [
       "$\\displaystyle Fz_1= -\\frac{{\\left(\\frac{\\partial}{\\partial t}x_{1}\\left(t\\right) \\frac{\\partial}{\\partial t}x_{2}\\left(t\\right) + \\frac{\\partial}{\\partial t}y_{1}\\left(t\\right) \\frac{\\partial}{\\partial t}y_{2}\\left(t\\right) + \\frac{\\partial}{\\partial t}z_{1}\\left(t\\right) \\frac{\\partial}{\\partial t}z_{2}\\left(t\\right)\\right)} C {\\left(z_{1}\\left(t\\right) - z_{2}\\left(t\\right)\\right)}}{{\\left({\\left(x_{1}\\left(t\\right) - x_{2}\\left(t\\right)\\right)}^{2} + {\\left(y_{1}\\left(t\\right) - y_{2}\\left(t\\right)\\right)}^{2} + {\\left(z_{1}\\left(t\\right) - z_{2}\\left(t\\right)\\right)}^{2}\\right)}^{\\frac{3}{2}}} - \\frac{{\\left(z_{1}\\left(t\\right) - z_{2}\\left(t\\right)\\right)} \\mathrm{D}_{0}\\left(V\\right)\\left(\\sqrt{{\\left(x_{1}\\left(t\\right) - x_{2}\\left(t\\right)\\right)}^{2} + {\\left(y_{1}\\left(t\\right) - y_{2}\\left(t\\right)\\right)}^{2} + {\\left(z_{1}\\left(t\\right) - z_{2}\\left(t\\right)\\right)}^{2}}\\right)}{\\sqrt{{\\left(x_{1}\\left(t\\right) - x_{2}\\left(t\\right)\\right)}^{2} + {\\left(y_{1}\\left(t\\right) - y_{2}\\left(t\\right)\\right)}^{2} + {\\left(z_{1}\\left(t\\right) - z_{2}\\left(t\\right)\\right)}^{2}}}$"
      ],
      "text/plain": [
       "<IPython.core.display.Math object>"
      ]
     },
     "metadata": {},
     "output_type": "display_data"
    },
    {
     "data": {
      "text/latex": [
       "$\\displaystyle Fx_2= \\frac{{\\left(\\frac{\\partial}{\\partial t}x_{1}\\left(t\\right) \\frac{\\partial}{\\partial t}x_{2}\\left(t\\right) + \\frac{\\partial}{\\partial t}y_{1}\\left(t\\right) \\frac{\\partial}{\\partial t}y_{2}\\left(t\\right) + \\frac{\\partial}{\\partial t}z_{1}\\left(t\\right) \\frac{\\partial}{\\partial t}z_{2}\\left(t\\right)\\right)} C {\\left(z_{1}\\left(t\\right) - z_{2}\\left(t\\right)\\right)}}{{\\left({\\left(x_{1}\\left(t\\right) - x_{2}\\left(t\\right)\\right)}^{2} + {\\left(y_{1}\\left(t\\right) - y_{2}\\left(t\\right)\\right)}^{2} + {\\left(z_{1}\\left(t\\right) - z_{2}\\left(t\\right)\\right)}^{2}\\right)}^{\\frac{3}{2}}} + \\frac{{\\left(z_{1}\\left(t\\right) - z_{2}\\left(t\\right)\\right)} \\mathrm{D}_{0}\\left(V\\right)\\left(\\sqrt{{\\left(x_{1}\\left(t\\right) - x_{2}\\left(t\\right)\\right)}^{2} + {\\left(y_{1}\\left(t\\right) - y_{2}\\left(t\\right)\\right)}^{2} + {\\left(z_{1}\\left(t\\right) - z_{2}\\left(t\\right)\\right)}^{2}}\\right)}{\\sqrt{{\\left(x_{1}\\left(t\\right) - x_{2}\\left(t\\right)\\right)}^{2} + {\\left(y_{1}\\left(t\\right) - y_{2}\\left(t\\right)\\right)}^{2} + {\\left(z_{1}\\left(t\\right) - z_{2}\\left(t\\right)\\right)}^{2}}}$"
      ],
      "text/plain": [
       "<IPython.core.display.Math object>"
      ]
     },
     "metadata": {},
     "output_type": "display_data"
    }
   ],
   "source": [
    "Fx1 = L.subs(x_to_X).diff(X_1).subs(X_to_x)\n",
    "Fx2 = L.subs(x_to_X).diff(X_2).subs(X_to_x)\n",
    "\n",
    "Fy1 = L.subs(x_to_X).diff(Y_1).subs(X_to_x)\n",
    "Fy2 = L.subs(x_to_X).diff(Y_2).subs(X_to_x)\n",
    "\n",
    "Fz1 = L.subs(x_to_X).diff(Z_1).subs(X_to_x)\n",
    "Fz2 = L.subs(x_to_X).diff(Z_2).subs(X_to_x)\n",
    "\n",
    "displ(\"Fx_1=\" + latex(Fx1))\n",
    "displ(\"Fx_2=\" + latex(Fx2))\n",
    "print(\"\")\n",
    "\n",
    "displ(\"Fy_1=\" + latex(Fy1))\n",
    "displ(\"Fy_2=\" + latex(Fx2))\n",
    "print(\"\")\n",
    "\n",
    "displ(\"Fz_1=\" + latex(Fz1))\n",
    "displ(\"Fx_2=\" + latex(Fz2))"
   ]
  },
  {
   "cell_type": "markdown",
   "id": "db8d9ed2",
   "metadata": {},
   "source": [
    "Запишем уравнения Эйлера-Лагранжа\n",
    "\n",
    "$\\frac{d}{dt}\\frac{\\partial L}{\\partial \\dot{x}} - \\frac{\\partial L}{\\partial {x}} = 0$"
   ]
  },
  {
   "cell_type": "code",
   "execution_count": 86,
   "id": "938e5699",
   "metadata": {},
   "outputs": [
    {
     "data": {
      "text/latex": [
       "$\\displaystyle m_{1} \\frac{\\partial^{2}}{(\\partial t)^{2}}x_{1}\\left(t\\right) - \\frac{{\\left({\\left(v_{x_{1}} - v_{x_{2}}\\right)} {\\left(x_{1} - x_{2}\\right)} + {\\left(v_{y_{1}} - v_{y_{2}}\\right)} {\\left(y_{1} - y_{2}\\right)} + {\\left(v_{z_{1}} - v_{z_{2}}\\right)} {\\left(z_{1} - z_{2}\\right)}\\right)} C v_{x_{2}}}{{\\left({\\left(x_{1} - x_{2}\\right)}^{2} + {\\left(y_{1} - y_{2}\\right)}^{2} + {\\left(z_{1} - z_{2}\\right)}^{2}\\right)}^{\\frac{3}{2}}} + \\frac{{\\left(v_{x_{1}} v_{x_{2}} + v_{y_{1}} v_{y_{2}} + v_{z_{1}} v_{z_{2}}\\right)} C {\\left(x_{1} - x_{2}\\right)}}{{\\left({\\left(x_{1} - x_{2}\\right)}^{2} + {\\left(y_{1} - y_{2}\\right)}^{2} + {\\left(z_{1} - z_{2}\\right)}^{2}\\right)}^{\\frac{3}{2}}} + \\frac{{\\left(x_{1} - x_{2}\\right)} \\mathrm{D}_{0}\\left(V\\right)\\left(\\sqrt{{\\left(x_{1} - x_{2}\\right)}^{2} + {\\left(y_{1} - y_{2}\\right)}^{2} + {\\left(z_{1} - z_{2}\\right)}^{2}}\\right)}{\\sqrt{{\\left(x_{1} - x_{2}\\right)}^{2} + {\\left(y_{1} - y_{2}\\right)}^{2} + {\\left(z_{1} - z_{2}\\right)}^{2}}} + \\frac{C \\frac{\\partial^{2}}{(\\partial t)^{2}}x_{2}\\left(t\\right)}{\\sqrt{{\\left(x_{1} - x_{2}\\right)}^{2} + {\\left(y_{1} - y_{2}\\right)}^{2} + {\\left(z_{1} - z_{2}\\right)}^{2}}} = 0$"
      ],
      "text/plain": [
       "<IPython.core.display.Math object>"
      ]
     },
     "metadata": {},
     "output_type": "display_data"
    }
   ],
   "source": [
    "dex1 = Px1.diff(t) - Fx1 == 0\n",
    "deX1 = dex1.subs(xdot_to_v).subs(x_to_X)\n",
    "disp(deX1)"
   ]
  },
  {
   "cell_type": "code",
   "execution_count": 87,
   "id": "f38f25a6",
   "metadata": {},
   "outputs": [
    {
     "data": {
      "text/latex": [
       "$\\displaystyle m_{2} \\frac{\\partial^{2}}{(\\partial t)^{2}}x_{2}\\left(t\\right) - \\frac{{\\left({\\left(v_{x_{1}} - v_{x_{2}}\\right)} {\\left(x_{1} - x_{2}\\right)} + {\\left(v_{y_{1}} - v_{y_{2}}\\right)} {\\left(y_{1} - y_{2}\\right)} + {\\left(v_{z_{1}} - v_{z_{2}}\\right)} {\\left(z_{1} - z_{2}\\right)}\\right)} C v_{x_{1}}}{{\\left({\\left(x_{1} - x_{2}\\right)}^{2} + {\\left(y_{1} - y_{2}\\right)}^{2} + {\\left(z_{1} - z_{2}\\right)}^{2}\\right)}^{\\frac{3}{2}}} - \\frac{{\\left(v_{x_{1}} v_{x_{2}} + v_{y_{1}} v_{y_{2}} + v_{z_{1}} v_{z_{2}}\\right)} C {\\left(x_{1} - x_{2}\\right)}}{{\\left({\\left(x_{1} - x_{2}\\right)}^{2} + {\\left(y_{1} - y_{2}\\right)}^{2} + {\\left(z_{1} - z_{2}\\right)}^{2}\\right)}^{\\frac{3}{2}}} - \\frac{{\\left(x_{1} - x_{2}\\right)} \\mathrm{D}_{0}\\left(V\\right)\\left(\\sqrt{{\\left(x_{1} - x_{2}\\right)}^{2} + {\\left(y_{1} - y_{2}\\right)}^{2} + {\\left(z_{1} - z_{2}\\right)}^{2}}\\right)}{\\sqrt{{\\left(x_{1} - x_{2}\\right)}^{2} + {\\left(y_{1} - y_{2}\\right)}^{2} + {\\left(z_{1} - z_{2}\\right)}^{2}}} + \\frac{C \\frac{\\partial^{2}}{(\\partial t)^{2}}x_{1}\\left(t\\right)}{\\sqrt{{\\left(x_{1} - x_{2}\\right)}^{2} + {\\left(y_{1} - y_{2}\\right)}^{2} + {\\left(z_{1} - z_{2}\\right)}^{2}}} = 0$"
      ],
      "text/plain": [
       "<IPython.core.display.Math object>"
      ]
     },
     "metadata": {},
     "output_type": "display_data"
    }
   ],
   "source": [
    "dex2 = Px2.diff(t) - Fx2 == 0\n",
    "deX2 = dex2.subs(xdot_to_v).subs(x_to_X)\n",
    "disp(deX2)"
   ]
  },
  {
   "cell_type": "code",
   "execution_count": 93,
   "id": "f78838b2",
   "metadata": {},
   "outputs": [
    {
     "data": {
      "text/latex": [
       "$\\displaystyle -m_{1} \\frac{\\partial^{2}}{(\\partial t)^{2}}x_{1}\\left(t\\right) + m_{2} \\frac{\\partial^{2}}{(\\partial t)^{2}}x_{2}\\left(t\\right) - \\frac{{\\left({\\left(v_{x_{1}} - v_{x_{2}}\\right)} {\\left(x_{1} - x_{2}\\right)} + {\\left(v_{y_{1}} - v_{y_{2}}\\right)} {\\left(y_{1} - y_{2}\\right)} + {\\left(v_{z_{1}} - v_{z_{2}}\\right)} {\\left(z_{1} - z_{2}\\right)}\\right)} C v_{x_{1}}}{{\\left({\\left(x_{1} - x_{2}\\right)}^{2} + {\\left(y_{1} - y_{2}\\right)}^{2} + {\\left(z_{1} - z_{2}\\right)}^{2}\\right)}^{\\frac{3}{2}}} + \\frac{{\\left({\\left(v_{x_{1}} - v_{x_{2}}\\right)} {\\left(x_{1} - x_{2}\\right)} + {\\left(v_{y_{1}} - v_{y_{2}}\\right)} {\\left(y_{1} - y_{2}\\right)} + {\\left(v_{z_{1}} - v_{z_{2}}\\right)} {\\left(z_{1} - z_{2}\\right)}\\right)} C v_{x_{2}}}{{\\left({\\left(x_{1} - x_{2}\\right)}^{2} + {\\left(y_{1} - y_{2}\\right)}^{2} + {\\left(z_{1} - z_{2}\\right)}^{2}\\right)}^{\\frac{3}{2}}} - \\frac{2 \\, {\\left(v_{x_{1}} v_{x_{2}} + v_{y_{1}} v_{y_{2}} + v_{z_{1}} v_{z_{2}}\\right)} C {\\left(x_{1} - x_{2}\\right)}}{{\\left({\\left(x_{1} - x_{2}\\right)}^{2} + {\\left(y_{1} - y_{2}\\right)}^{2} + {\\left(z_{1} - z_{2}\\right)}^{2}\\right)}^{\\frac{3}{2}}} - \\frac{2 \\, {\\left(x_{1} - x_{2}\\right)} \\mathrm{D}_{0}\\left(V\\right)\\left(\\sqrt{{\\left(x_{1} - x_{2}\\right)}^{2} + {\\left(y_{1} - y_{2}\\right)}^{2} + {\\left(z_{1} - z_{2}\\right)}^{2}}\\right)}{\\sqrt{{\\left(x_{1} - x_{2}\\right)}^{2} + {\\left(y_{1} - y_{2}\\right)}^{2} + {\\left(z_{1} - z_{2}\\right)}^{2}}} + \\frac{C \\frac{\\partial^{2}}{(\\partial t)^{2}}x_{1}\\left(t\\right)}{\\sqrt{{\\left(x_{1} - x_{2}\\right)}^{2} + {\\left(y_{1} - y_{2}\\right)}^{2} + {\\left(z_{1} - z_{2}\\right)}^{2}}} - \\frac{C \\frac{\\partial^{2}}{(\\partial t)^{2}}x_{2}\\left(t\\right)}{\\sqrt{{\\left(x_{1} - x_{2}\\right)}^{2} + {\\left(y_{1} - y_{2}\\right)}^{2} + {\\left(z_{1} - z_{2}\\right)}^{2}}} = 0$"
      ],
      "text/plain": [
       "<IPython.core.display.Math object>"
      ]
     },
     "metadata": {},
     "output_type": "display_data"
    }
   ],
   "source": [
    "disp((deX2-deX1))"
   ]
  },
  {
   "cell_type": "markdown",
   "id": "4d08dd1d",
   "metadata": {},
   "source": [
    "Выразим энергию через Лагранжиан\n",
    "\n",
    "$E = \\Sigma_{i}^{} \\frac {\\partial L}{\\partial \\dot{q}_i} \\frac {q_i}{dt} - L$"
   ]
  },
  {
   "cell_type": "code",
   "execution_count": 106,
   "id": "4bf38fc7",
   "metadata": {},
   "outputs": [
    {
     "data": {
      "text/latex": [
       "$\\displaystyle \\frac{1}{2} \\, m_{1} \\frac{\\partial}{\\partial t}x_{1}\\left(t\\right)^{2} + \\frac{1}{2} \\, m_{2} \\frac{\\partial}{\\partial t}x_{2}\\left(t\\right)^{2} + \\frac{1}{2} \\, m_{1} \\frac{\\partial}{\\partial t}y_{1}\\left(t\\right)^{2} + \\frac{1}{2} \\, m_{2} \\frac{\\partial}{\\partial t}y_{2}\\left(t\\right)^{2} + \\frac{1}{2} \\, m_{1} \\frac{\\partial}{\\partial t}z_{1}\\left(t\\right)^{2} + \\frac{1}{2} \\, m_{2} \\frac{\\partial}{\\partial t}z_{2}\\left(t\\right)^{2} + \\frac{C \\frac{\\partial}{\\partial t}x_{1}\\left(t\\right) \\frac{\\partial}{\\partial t}x_{2}\\left(t\\right)}{\\sqrt{x_{1}\\left(t\\right)^{2} - 2 \\, x_{1}\\left(t\\right) x_{2}\\left(t\\right) + x_{2}\\left(t\\right)^{2} + y_{1}\\left(t\\right)^{2} - 2 \\, y_{1}\\left(t\\right) y_{2}\\left(t\\right) + y_{2}\\left(t\\right)^{2} + z_{1}\\left(t\\right)^{2} - 2 \\, z_{1}\\left(t\\right) z_{2}\\left(t\\right) + z_{2}\\left(t\\right)^{2}}} + \\frac{C \\frac{\\partial}{\\partial t}y_{1}\\left(t\\right) \\frac{\\partial}{\\partial t}y_{2}\\left(t\\right)}{\\sqrt{x_{1}\\left(t\\right)^{2} - 2 \\, x_{1}\\left(t\\right) x_{2}\\left(t\\right) + x_{2}\\left(t\\right)^{2} + y_{1}\\left(t\\right)^{2} - 2 \\, y_{1}\\left(t\\right) y_{2}\\left(t\\right) + y_{2}\\left(t\\right)^{2} + z_{1}\\left(t\\right)^{2} - 2 \\, z_{1}\\left(t\\right) z_{2}\\left(t\\right) + z_{2}\\left(t\\right)^{2}}} + \\frac{C \\frac{\\partial}{\\partial t}z_{1}\\left(t\\right) \\frac{\\partial}{\\partial t}z_{2}\\left(t\\right)}{\\sqrt{x_{1}\\left(t\\right)^{2} - 2 \\, x_{1}\\left(t\\right) x_{2}\\left(t\\right) + x_{2}\\left(t\\right)^{2} + y_{1}\\left(t\\right)^{2} - 2 \\, y_{1}\\left(t\\right) y_{2}\\left(t\\right) + y_{2}\\left(t\\right)^{2} + z_{1}\\left(t\\right)^{2} - 2 \\, z_{1}\\left(t\\right) z_{2}\\left(t\\right) + z_{2}\\left(t\\right)^{2}}} + V\\left(\\sqrt{x_{1}\\left(t\\right)^{2} - 2 \\, x_{1}\\left(t\\right) x_{2}\\left(t\\right) + x_{2}\\left(t\\right)^{2} + y_{1}\\left(t\\right)^{2} - 2 \\, y_{1}\\left(t\\right) y_{2}\\left(t\\right) + y_{2}\\left(t\\right)^{2} + z_{1}\\left(t\\right)^{2} - 2 \\, z_{1}\\left(t\\right) z_{2}\\left(t\\right) + z_{2}\\left(t\\right)^{2}}\\right)$"
      ],
      "text/plain": [
       "<IPython.core.display.Math object>"
      ]
     },
     "metadata": {},
     "output_type": "display_data"
    }
   ],
   "source": [
    "E = Px1 * x_1.diff(t) + Px2 * x_2.diff(t) \\\n",
    "  + Py1 * y_1.diff(t) + Py2 * y_2.diff(t) \\\n",
    "  + Pz1 * z_1.diff(t) + Pz2 * z_2.diff(t) \\\n",
    "  - L\n",
    "E = E.expand()\n",
    "disp(E)"
   ]
  },
  {
   "cell_type": "code",
   "execution_count": 126,
   "id": "bb708b96",
   "metadata": {},
   "outputs": [
    {
     "data": {
      "text/latex": [
       "$\\displaystyle \\frac{1}{2} \\, m_{1} v_{x_{1}}^{2} + \\frac{1}{2} \\, m_{2} v_{x_{2}}^{2} + \\frac{1}{2} \\, m_{1} v_{y_{1}}^{2} + \\frac{1}{2} \\, m_{2} v_{y_{2}}^{2} + \\frac{1}{2} \\, m_{1} v_{z_{1}}^{2} + \\frac{1}{2} \\, m_{2} v_{z_{2}}^{2} + \\frac{C v_{x_{1}} v_{x_{2}}}{\\sqrt{x_{1}\\left(t\\right)^{2} - 2 \\, x_{1}\\left(t\\right) x_{2}\\left(t\\right) + x_{2}\\left(t\\right)^{2} + y_{1}\\left(t\\right)^{2} - 2 \\, y_{1}\\left(t\\right) y_{2}\\left(t\\right) + y_{2}\\left(t\\right)^{2} + z_{1}\\left(t\\right)^{2} - 2 \\, z_{1}\\left(t\\right) z_{2}\\left(t\\right) + z_{2}\\left(t\\right)^{2}}} + \\frac{C v_{y_{1}} v_{y_{2}}}{\\sqrt{x_{1}\\left(t\\right)^{2} - 2 \\, x_{1}\\left(t\\right) x_{2}\\left(t\\right) + x_{2}\\left(t\\right)^{2} + y_{1}\\left(t\\right)^{2} - 2 \\, y_{1}\\left(t\\right) y_{2}\\left(t\\right) + y_{2}\\left(t\\right)^{2} + z_{1}\\left(t\\right)^{2} - 2 \\, z_{1}\\left(t\\right) z_{2}\\left(t\\right) + z_{2}\\left(t\\right)^{2}}} + \\frac{C v_{z_{1}} v_{z_{2}}}{\\sqrt{x_{1}\\left(t\\right)^{2} - 2 \\, x_{1}\\left(t\\right) x_{2}\\left(t\\right) + x_{2}\\left(t\\right)^{2} + y_{1}\\left(t\\right)^{2} - 2 \\, y_{1}\\left(t\\right) y_{2}\\left(t\\right) + y_{2}\\left(t\\right)^{2} + z_{1}\\left(t\\right)^{2} - 2 \\, z_{1}\\left(t\\right) z_{2}\\left(t\\right) + z_{2}\\left(t\\right)^{2}}} + V\\left(\\sqrt{x_{1}\\left(t\\right)^{2} - 2 \\, x_{1}\\left(t\\right) x_{2}\\left(t\\right) + x_{2}\\left(t\\right)^{2} + y_{1}\\left(t\\right)^{2} - 2 \\, y_{1}\\left(t\\right) y_{2}\\left(t\\right) + y_{2}\\left(t\\right)^{2} + z_{1}\\left(t\\right)^{2} - 2 \\, z_{1}\\left(t\\right) z_{2}\\left(t\\right) + z_{2}\\left(t\\right)^{2}}\\right)$"
      ],
      "text/plain": [
       "<IPython.core.display.Math object>"
      ]
     },
     "metadata": {},
     "output_type": "display_data"
    }
   ],
   "source": [
    "Ev = E.subs(xdot_to_v)\n",
    "disp(Ev)"
   ]
  },
  {
   "cell_type": "markdown",
   "id": "08751022",
   "metadata": {},
   "source": [
    "# Интегрирование уравнений Гамильтона"
   ]
  },
  {
   "cell_type": "code",
   "execution_count": 107,
   "id": "29011b71",
   "metadata": {},
   "outputs": [],
   "source": [
    "# Объявление переменных - обобщенные импульсы\n",
    "\n",
    "p_x_1, p_x_2 = var (\"p_x_1, p_x_2\")\n",
    "p_y_1, p_y_2 = var (\"p_y_1, p_y_2\")\n",
    "p_z_1, p_z_2 = var (\"p_z_1, p_z_2\")"
   ]
  },
  {
   "cell_type": "code",
   "execution_count": 121,
   "id": "637734fa",
   "metadata": {},
   "outputs": [
    {
     "data": {
      "text/latex": [
       "$\\displaystyle p_{x_{1}} = m_{1} v_{x_{1}} + \\frac{C v_{x_{2}}}{\\sqrt{{\\left(x_{1}\\left(t\\right) - x_{2}\\left(t\\right)\\right)}^{2} + {\\left(y_{1}\\left(t\\right) - y_{2}\\left(t\\right)\\right)}^{2} + {\\left(z_{1}\\left(t\\right) - z_{2}\\left(t\\right)\\right)}^{2}}}$"
      ],
      "text/plain": [
       "<IPython.core.display.Math object>"
      ]
     },
     "metadata": {},
     "output_type": "display_data"
    },
    {
     "data": {
      "text/latex": [
       "$\\displaystyle p_{x_{2}} = m_{2} v_{x_{2}} + \\frac{C v_{x_{1}}}{\\sqrt{{\\left(x_{1}\\left(t\\right) - x_{2}\\left(t\\right)\\right)}^{2} + {\\left(y_{1}\\left(t\\right) - y_{2}\\left(t\\right)\\right)}^{2} + {\\left(z_{1}\\left(t\\right) - z_{2}\\left(t\\right)\\right)}^{2}}}$"
      ],
      "text/plain": [
       "<IPython.core.display.Math object>"
      ]
     },
     "metadata": {},
     "output_type": "display_data"
    },
    {
     "data": {
      "text/latex": [
       "$\\displaystyle p_{y_{1}} = m_{1} v_{y_{1}} + \\frac{C v_{y_{2}}}{\\sqrt{{\\left(x_{1}\\left(t\\right) - x_{2}\\left(t\\right)\\right)}^{2} + {\\left(y_{1}\\left(t\\right) - y_{2}\\left(t\\right)\\right)}^{2} + {\\left(z_{1}\\left(t\\right) - z_{2}\\left(t\\right)\\right)}^{2}}}$"
      ],
      "text/plain": [
       "<IPython.core.display.Math object>"
      ]
     },
     "metadata": {},
     "output_type": "display_data"
    },
    {
     "data": {
      "text/latex": [
       "$\\displaystyle p_{y_{2}} = m_{2} v_{y_{2}} + \\frac{C v_{y_{1}}}{\\sqrt{{\\left(x_{1}\\left(t\\right) - x_{2}\\left(t\\right)\\right)}^{2} + {\\left(y_{1}\\left(t\\right) - y_{2}\\left(t\\right)\\right)}^{2} + {\\left(z_{1}\\left(t\\right) - z_{2}\\left(t\\right)\\right)}^{2}}}$"
      ],
      "text/plain": [
       "<IPython.core.display.Math object>"
      ]
     },
     "metadata": {},
     "output_type": "display_data"
    },
    {
     "data": {
      "text/latex": [
       "$\\displaystyle p_{z_{1}} = m_{1} v_{z_{1}} + \\frac{C v_{z_{2}}}{\\sqrt{{\\left(x_{1}\\left(t\\right) - x_{2}\\left(t\\right)\\right)}^{2} + {\\left(y_{1}\\left(t\\right) - y_{2}\\left(t\\right)\\right)}^{2} + {\\left(z_{1}\\left(t\\right) - z_{2}\\left(t\\right)\\right)}^{2}}}$"
      ],
      "text/plain": [
       "<IPython.core.display.Math object>"
      ]
     },
     "metadata": {},
     "output_type": "display_data"
    },
    {
     "data": {
      "text/latex": [
       "$\\displaystyle p_{z_{2}} = m_{2} v_{z_{2}} + \\frac{C v_{z_{1}}}{\\sqrt{{\\left(x_{1}\\left(t\\right) - x_{2}\\left(t\\right)\\right)}^{2} + {\\left(y_{1}\\left(t\\right) - y_{2}\\left(t\\right)\\right)}^{2} + {\\left(z_{1}\\left(t\\right) - z_{2}\\left(t\\right)\\right)}^{2}}}$"
      ],
      "text/plain": [
       "<IPython.core.display.Math object>"
      ]
     },
     "metadata": {},
     "output_type": "display_data"
    }
   ],
   "source": [
    "# Записываем уравнения выражающие обобщенные импульсы\n",
    "# через производные Лагранжиана по скорости изменения обобщенной координаты (по v)\n",
    "\n",
    "eq_p_v = [p_x_1 == L_.diff(V_x_1),\n",
    "          p_x_2 == L_.diff(V_x_2),\n",
    "          p_y_1 == L_.diff(V_y_1),\n",
    "          p_y_2 == L_.diff(V_y_2),\n",
    "          p_z_1 == L_.diff(V_z_1),\n",
    "          p_z_2 == L_.diff(V_z_2),\n",
    "         ]\n",
    "for eq_p in eq_p_v:\n",
    "    disp(eq_p)"
   ]
  },
  {
   "cell_type": "code",
   "execution_count": 122,
   "id": "5aaffb2c",
   "metadata": {},
   "outputs": [],
   "source": [
    "V = [V_x_1,V_x_2,V_y_1,V_y_2,V_z_1,V_z_2]"
   ]
  },
  {
   "cell_type": "code",
   "execution_count": 124,
   "id": "0e3adc33",
   "metadata": {},
   "outputs": [
    {
     "data": {
      "text/latex": [
       "$\\displaystyle v_{x_{1}} = -\\frac{C v_{x_{2}} - \\sqrt{{\\left(x_{1}\\left(t\\right) - x_{2}\\left(t\\right)\\right)}^{2} + {\\left(y_{1}\\left(t\\right) - y_{2}\\left(t\\right)\\right)}^{2} + {\\left(z_{1}\\left(t\\right) - z_{2}\\left(t\\right)\\right)}^{2}} p_{x_{1}}}{\\sqrt{{\\left(x_{1}\\left(t\\right) - x_{2}\\left(t\\right)\\right)}^{2} + {\\left(y_{1}\\left(t\\right) - y_{2}\\left(t\\right)\\right)}^{2} + {\\left(z_{1}\\left(t\\right) - z_{2}\\left(t\\right)\\right)}^{2}} m_{1}}$"
      ],
      "text/plain": [
       "<IPython.core.display.Math object>"
      ]
     },
     "metadata": {},
     "output_type": "display_data"
    },
    {
     "data": {
      "text/latex": [
       "$\\displaystyle v_{x_{2}} = -\\frac{C v_{x_{1}} - \\sqrt{{\\left(x_{1}\\left(t\\right) - x_{2}\\left(t\\right)\\right)}^{2} + {\\left(y_{1}\\left(t\\right) - y_{2}\\left(t\\right)\\right)}^{2} + {\\left(z_{1}\\left(t\\right) - z_{2}\\left(t\\right)\\right)}^{2}} p_{x_{2}}}{\\sqrt{{\\left(x_{1}\\left(t\\right) - x_{2}\\left(t\\right)\\right)}^{2} + {\\left(y_{1}\\left(t\\right) - y_{2}\\left(t\\right)\\right)}^{2} + {\\left(z_{1}\\left(t\\right) - z_{2}\\left(t\\right)\\right)}^{2}} m_{2}}$"
      ],
      "text/plain": [
       "<IPython.core.display.Math object>"
      ]
     },
     "metadata": {},
     "output_type": "display_data"
    },
    {
     "data": {
      "text/latex": [
       "$\\displaystyle v_{y_{1}} = -\\frac{C v_{y_{2}} - \\sqrt{{\\left(x_{1}\\left(t\\right) - x_{2}\\left(t\\right)\\right)}^{2} + {\\left(y_{1}\\left(t\\right) - y_{2}\\left(t\\right)\\right)}^{2} + {\\left(z_{1}\\left(t\\right) - z_{2}\\left(t\\right)\\right)}^{2}} p_{y_{1}}}{\\sqrt{{\\left(x_{1}\\left(t\\right) - x_{2}\\left(t\\right)\\right)}^{2} + {\\left(y_{1}\\left(t\\right) - y_{2}\\left(t\\right)\\right)}^{2} + {\\left(z_{1}\\left(t\\right) - z_{2}\\left(t\\right)\\right)}^{2}} m_{1}}$"
      ],
      "text/plain": [
       "<IPython.core.display.Math object>"
      ]
     },
     "metadata": {},
     "output_type": "display_data"
    },
    {
     "data": {
      "text/latex": [
       "$\\displaystyle v_{y_{2}} = -\\frac{C v_{y_{1}} - \\sqrt{{\\left(x_{1}\\left(t\\right) - x_{2}\\left(t\\right)\\right)}^{2} + {\\left(y_{1}\\left(t\\right) - y_{2}\\left(t\\right)\\right)}^{2} + {\\left(z_{1}\\left(t\\right) - z_{2}\\left(t\\right)\\right)}^{2}} p_{y_{2}}}{\\sqrt{{\\left(x_{1}\\left(t\\right) - x_{2}\\left(t\\right)\\right)}^{2} + {\\left(y_{1}\\left(t\\right) - y_{2}\\left(t\\right)\\right)}^{2} + {\\left(z_{1}\\left(t\\right) - z_{2}\\left(t\\right)\\right)}^{2}} m_{2}}$"
      ],
      "text/plain": [
       "<IPython.core.display.Math object>"
      ]
     },
     "metadata": {},
     "output_type": "display_data"
    },
    {
     "data": {
      "text/latex": [
       "$\\displaystyle v_{z_{1}} = -\\frac{C v_{z_{2}} - \\sqrt{{\\left(x_{1}\\left(t\\right) - x_{2}\\left(t\\right)\\right)}^{2} + {\\left(y_{1}\\left(t\\right) - y_{2}\\left(t\\right)\\right)}^{2} + {\\left(z_{1}\\left(t\\right) - z_{2}\\left(t\\right)\\right)}^{2}} p_{z_{1}}}{\\sqrt{{\\left(x_{1}\\left(t\\right) - x_{2}\\left(t\\right)\\right)}^{2} + {\\left(y_{1}\\left(t\\right) - y_{2}\\left(t\\right)\\right)}^{2} + {\\left(z_{1}\\left(t\\right) - z_{2}\\left(t\\right)\\right)}^{2}} m_{1}}$"
      ],
      "text/plain": [
       "<IPython.core.display.Math object>"
      ]
     },
     "metadata": {},
     "output_type": "display_data"
    },
    {
     "data": {
      "text/latex": [
       "$\\displaystyle v_{z_{2}} = -\\frac{C v_{z_{1}} - \\sqrt{{\\left(x_{1}\\left(t\\right) - x_{2}\\left(t\\right)\\right)}^{2} + {\\left(y_{1}\\left(t\\right) - y_{2}\\left(t\\right)\\right)}^{2} + {\\left(z_{1}\\left(t\\right) - z_{2}\\left(t\\right)\\right)}^{2}} p_{z_{2}}}{\\sqrt{{\\left(x_{1}\\left(t\\right) - x_{2}\\left(t\\right)\\right)}^{2} + {\\left(y_{1}\\left(t\\right) - y_{2}\\left(t\\right)\\right)}^{2} + {\\left(z_{1}\\left(t\\right) - z_{2}\\left(t\\right)\\right)}^{2}} m_{2}}$"
      ],
      "text/plain": [
       "<IPython.core.display.Math object>"
      ]
     },
     "metadata": {},
     "output_type": "display_data"
    }
   ],
   "source": [
    "# Ищем выражение для v через обобщенные импульсы, решая вышесозданную систему уравнений\n",
    "\n",
    "sol_v_p = []\n",
    "for i in range(len(V)):\n",
    "    sol_v_p += solve(eq_p_v[i], V[i])\n",
    "    disp(sol_v_p[i])"
   ]
  },
  {
   "cell_type": "code",
   "execution_count": 132,
   "id": "6c9bc11b",
   "metadata": {},
   "outputs": [
    {
     "data": {
      "text/latex": [
       "$\\displaystyle v_{x_{1}} = \\frac{\\sqrt{{\\left(x_{1}\\left(t\\right) - x_{2}\\left(t\\right)\\right)}^{2} + {\\left(y_{1}\\left(t\\right) - y_{2}\\left(t\\right)\\right)}^{2} + {\\left(z_{1}\\left(t\\right) - z_{2}\\left(t\\right)\\right)}^{2}} p_{x_{1}} + \\frac{{\\left(C v_{x_{1}} - \\sqrt{{\\left(x_{1}\\left(t\\right) - x_{2}\\left(t\\right)\\right)}^{2} + {\\left(y_{1}\\left(t\\right) - y_{2}\\left(t\\right)\\right)}^{2} + {\\left(z_{1}\\left(t\\right) - z_{2}\\left(t\\right)\\right)}^{2}} p_{x_{2}}\\right)} C}{\\sqrt{{\\left(x_{1}\\left(t\\right) - x_{2}\\left(t\\right)\\right)}^{2} + {\\left(y_{1}\\left(t\\right) - y_{2}\\left(t\\right)\\right)}^{2} + {\\left(z_{1}\\left(t\\right) - z_{2}\\left(t\\right)\\right)}^{2}} m_{2}}}{\\sqrt{{\\left(x_{1}\\left(t\\right) - x_{2}\\left(t\\right)\\right)}^{2} + {\\left(y_{1}\\left(t\\right) - y_{2}\\left(t\\right)\\right)}^{2} + {\\left(z_{1}\\left(t\\right) - z_{2}\\left(t\\right)\\right)}^{2}} m_{1}}$"
      ],
      "text/plain": [
       "<IPython.core.display.Math object>"
      ]
     },
     "metadata": {},
     "output_type": "display_data"
    },
    {
     "data": {
      "text/latex": [
       "$\\displaystyle v_{x_{1}} = \\frac{m_{2} p_{x_{1}} x_{1}\\left(t\\right)^{2} - 2 \\, m_{2} p_{x_{1}} x_{1}\\left(t\\right) x_{2}\\left(t\\right) + m_{2} p_{x_{1}} x_{2}\\left(t\\right)^{2} + m_{2} p_{x_{1}} y_{1}\\left(t\\right)^{2} - 2 \\, m_{2} p_{x_{1}} y_{1}\\left(t\\right) y_{2}\\left(t\\right) + m_{2} p_{x_{1}} y_{2}\\left(t\\right)^{2} + m_{2} p_{x_{1}} z_{1}\\left(t\\right)^{2} - 2 \\, m_{2} p_{x_{1}} z_{1}\\left(t\\right) z_{2}\\left(t\\right) + m_{2} p_{x_{1}} z_{2}\\left(t\\right)^{2} - \\sqrt{x_{1}\\left(t\\right)^{2} - 2 \\, x_{1}\\left(t\\right) x_{2}\\left(t\\right) + x_{2}\\left(t\\right)^{2} + y_{1}\\left(t\\right)^{2} - 2 \\, y_{1}\\left(t\\right) y_{2}\\left(t\\right) + y_{2}\\left(t\\right)^{2} + z_{1}\\left(t\\right)^{2} - 2 \\, z_{1}\\left(t\\right) z_{2}\\left(t\\right) + z_{2}\\left(t\\right)^{2}} C p_{x_{2}}}{m_{1} m_{2} x_{1}\\left(t\\right)^{2} - 2 \\, m_{1} m_{2} x_{1}\\left(t\\right) x_{2}\\left(t\\right) + m_{1} m_{2} x_{2}\\left(t\\right)^{2} + m_{1} m_{2} y_{1}\\left(t\\right)^{2} - 2 \\, m_{1} m_{2} y_{1}\\left(t\\right) y_{2}\\left(t\\right) + m_{1} m_{2} y_{2}\\left(t\\right)^{2} + m_{1} m_{2} z_{1}\\left(t\\right)^{2} - 2 \\, m_{1} m_{2} z_{1}\\left(t\\right) z_{2}\\left(t\\right) + m_{1} m_{2} z_{2}\\left(t\\right)^{2} - C^{2}}$"
      ],
      "text/plain": [
       "<IPython.core.display.Math object>"
      ]
     },
     "metadata": {},
     "output_type": "display_data"
    },
    {
     "data": {
      "text/latex": [
       "$\\displaystyle v_{x_{2}} = \\frac{\\sqrt{{\\left(x_{1}\\left(t\\right) - x_{2}\\left(t\\right)\\right)}^{2} + {\\left(y_{1}\\left(t\\right) - y_{2}\\left(t\\right)\\right)}^{2} + {\\left(z_{1}\\left(t\\right) - z_{2}\\left(t\\right)\\right)}^{2}} p_{x_{2}} + \\frac{{\\left(C v_{x_{2}} - \\sqrt{{\\left(x_{1}\\left(t\\right) - x_{2}\\left(t\\right)\\right)}^{2} + {\\left(y_{1}\\left(t\\right) - y_{2}\\left(t\\right)\\right)}^{2} + {\\left(z_{1}\\left(t\\right) - z_{2}\\left(t\\right)\\right)}^{2}} p_{x_{1}}\\right)} C}{\\sqrt{{\\left(x_{1}\\left(t\\right) - x_{2}\\left(t\\right)\\right)}^{2} + {\\left(y_{1}\\left(t\\right) - y_{2}\\left(t\\right)\\right)}^{2} + {\\left(z_{1}\\left(t\\right) - z_{2}\\left(t\\right)\\right)}^{2}} m_{1}}}{\\sqrt{{\\left(x_{1}\\left(t\\right) - x_{2}\\left(t\\right)\\right)}^{2} + {\\left(y_{1}\\left(t\\right) - y_{2}\\left(t\\right)\\right)}^{2} + {\\left(z_{1}\\left(t\\right) - z_{2}\\left(t\\right)\\right)}^{2}} m_{2}}$"
      ],
      "text/plain": [
       "<IPython.core.display.Math object>"
      ]
     },
     "metadata": {},
     "output_type": "display_data"
    },
    {
     "data": {
      "text/latex": [
       "$\\displaystyle v_{x_{2}} = \\frac{m_{1} p_{x_{2}} x_{1}\\left(t\\right)^{2} - 2 \\, m_{1} p_{x_{2}} x_{1}\\left(t\\right) x_{2}\\left(t\\right) + m_{1} p_{x_{2}} x_{2}\\left(t\\right)^{2} + m_{1} p_{x_{2}} y_{1}\\left(t\\right)^{2} - 2 \\, m_{1} p_{x_{2}} y_{1}\\left(t\\right) y_{2}\\left(t\\right) + m_{1} p_{x_{2}} y_{2}\\left(t\\right)^{2} + m_{1} p_{x_{2}} z_{1}\\left(t\\right)^{2} - 2 \\, m_{1} p_{x_{2}} z_{1}\\left(t\\right) z_{2}\\left(t\\right) + m_{1} p_{x_{2}} z_{2}\\left(t\\right)^{2} - \\sqrt{x_{1}\\left(t\\right)^{2} - 2 \\, x_{1}\\left(t\\right) x_{2}\\left(t\\right) + x_{2}\\left(t\\right)^{2} + y_{1}\\left(t\\right)^{2} - 2 \\, y_{1}\\left(t\\right) y_{2}\\left(t\\right) + y_{2}\\left(t\\right)^{2} + z_{1}\\left(t\\right)^{2} - 2 \\, z_{1}\\left(t\\right) z_{2}\\left(t\\right) + z_{2}\\left(t\\right)^{2}} C p_{x_{1}}}{m_{1} m_{2} x_{1}\\left(t\\right)^{2} - 2 \\, m_{1} m_{2} x_{1}\\left(t\\right) x_{2}\\left(t\\right) + m_{1} m_{2} x_{2}\\left(t\\right)^{2} + m_{1} m_{2} y_{1}\\left(t\\right)^{2} - 2 \\, m_{1} m_{2} y_{1}\\left(t\\right) y_{2}\\left(t\\right) + m_{1} m_{2} y_{2}\\left(t\\right)^{2} + m_{1} m_{2} z_{1}\\left(t\\right)^{2} - 2 \\, m_{1} m_{2} z_{1}\\left(t\\right) z_{2}\\left(t\\right) + m_{1} m_{2} z_{2}\\left(t\\right)^{2} - C^{2}}$"
      ],
      "text/plain": [
       "<IPython.core.display.Math object>"
      ]
     },
     "metadata": {},
     "output_type": "display_data"
    },
    {
     "data": {
      "text/latex": [
       "$\\displaystyle v_{y_{1}} = \\frac{\\sqrt{{\\left(x_{1}\\left(t\\right) - x_{2}\\left(t\\right)\\right)}^{2} + {\\left(y_{1}\\left(t\\right) - y_{2}\\left(t\\right)\\right)}^{2} + {\\left(z_{1}\\left(t\\right) - z_{2}\\left(t\\right)\\right)}^{2}} p_{y_{1}} + \\frac{{\\left(C v_{y_{1}} - \\sqrt{{\\left(x_{1}\\left(t\\right) - x_{2}\\left(t\\right)\\right)}^{2} + {\\left(y_{1}\\left(t\\right) - y_{2}\\left(t\\right)\\right)}^{2} + {\\left(z_{1}\\left(t\\right) - z_{2}\\left(t\\right)\\right)}^{2}} p_{y_{2}}\\right)} C}{\\sqrt{{\\left(x_{1}\\left(t\\right) - x_{2}\\left(t\\right)\\right)}^{2} + {\\left(y_{1}\\left(t\\right) - y_{2}\\left(t\\right)\\right)}^{2} + {\\left(z_{1}\\left(t\\right) - z_{2}\\left(t\\right)\\right)}^{2}} m_{2}}}{\\sqrt{{\\left(x_{1}\\left(t\\right) - x_{2}\\left(t\\right)\\right)}^{2} + {\\left(y_{1}\\left(t\\right) - y_{2}\\left(t\\right)\\right)}^{2} + {\\left(z_{1}\\left(t\\right) - z_{2}\\left(t\\right)\\right)}^{2}} m_{1}}$"
      ],
      "text/plain": [
       "<IPython.core.display.Math object>"
      ]
     },
     "metadata": {},
     "output_type": "display_data"
    },
    {
     "data": {
      "text/latex": [
       "$\\displaystyle v_{y_{1}} = \\frac{m_{2} p_{y_{1}} x_{1}\\left(t\\right)^{2} - 2 \\, m_{2} p_{y_{1}} x_{1}\\left(t\\right) x_{2}\\left(t\\right) + m_{2} p_{y_{1}} x_{2}\\left(t\\right)^{2} + m_{2} p_{y_{1}} y_{1}\\left(t\\right)^{2} - 2 \\, m_{2} p_{y_{1}} y_{1}\\left(t\\right) y_{2}\\left(t\\right) + m_{2} p_{y_{1}} y_{2}\\left(t\\right)^{2} + m_{2} p_{y_{1}} z_{1}\\left(t\\right)^{2} - 2 \\, m_{2} p_{y_{1}} z_{1}\\left(t\\right) z_{2}\\left(t\\right) + m_{2} p_{y_{1}} z_{2}\\left(t\\right)^{2} - \\sqrt{x_{1}\\left(t\\right)^{2} - 2 \\, x_{1}\\left(t\\right) x_{2}\\left(t\\right) + x_{2}\\left(t\\right)^{2} + y_{1}\\left(t\\right)^{2} - 2 \\, y_{1}\\left(t\\right) y_{2}\\left(t\\right) + y_{2}\\left(t\\right)^{2} + z_{1}\\left(t\\right)^{2} - 2 \\, z_{1}\\left(t\\right) z_{2}\\left(t\\right) + z_{2}\\left(t\\right)^{2}} C p_{y_{2}}}{m_{1} m_{2} x_{1}\\left(t\\right)^{2} - 2 \\, m_{1} m_{2} x_{1}\\left(t\\right) x_{2}\\left(t\\right) + m_{1} m_{2} x_{2}\\left(t\\right)^{2} + m_{1} m_{2} y_{1}\\left(t\\right)^{2} - 2 \\, m_{1} m_{2} y_{1}\\left(t\\right) y_{2}\\left(t\\right) + m_{1} m_{2} y_{2}\\left(t\\right)^{2} + m_{1} m_{2} z_{1}\\left(t\\right)^{2} - 2 \\, m_{1} m_{2} z_{1}\\left(t\\right) z_{2}\\left(t\\right) + m_{1} m_{2} z_{2}\\left(t\\right)^{2} - C^{2}}$"
      ],
      "text/plain": [
       "<IPython.core.display.Math object>"
      ]
     },
     "metadata": {},
     "output_type": "display_data"
    },
    {
     "data": {
      "text/latex": [
       "$\\displaystyle v_{y_{2}} = \\frac{\\sqrt{{\\left(x_{1}\\left(t\\right) - x_{2}\\left(t\\right)\\right)}^{2} + {\\left(y_{1}\\left(t\\right) - y_{2}\\left(t\\right)\\right)}^{2} + {\\left(z_{1}\\left(t\\right) - z_{2}\\left(t\\right)\\right)}^{2}} p_{y_{2}} + \\frac{{\\left(C v_{y_{2}} - \\sqrt{{\\left(x_{1}\\left(t\\right) - x_{2}\\left(t\\right)\\right)}^{2} + {\\left(y_{1}\\left(t\\right) - y_{2}\\left(t\\right)\\right)}^{2} + {\\left(z_{1}\\left(t\\right) - z_{2}\\left(t\\right)\\right)}^{2}} p_{y_{1}}\\right)} C}{\\sqrt{{\\left(x_{1}\\left(t\\right) - x_{2}\\left(t\\right)\\right)}^{2} + {\\left(y_{1}\\left(t\\right) - y_{2}\\left(t\\right)\\right)}^{2} + {\\left(z_{1}\\left(t\\right) - z_{2}\\left(t\\right)\\right)}^{2}} m_{1}}}{\\sqrt{{\\left(x_{1}\\left(t\\right) - x_{2}\\left(t\\right)\\right)}^{2} + {\\left(y_{1}\\left(t\\right) - y_{2}\\left(t\\right)\\right)}^{2} + {\\left(z_{1}\\left(t\\right) - z_{2}\\left(t\\right)\\right)}^{2}} m_{2}}$"
      ],
      "text/plain": [
       "<IPython.core.display.Math object>"
      ]
     },
     "metadata": {},
     "output_type": "display_data"
    },
    {
     "data": {
      "text/latex": [
       "$\\displaystyle v_{y_{2}} = \\frac{m_{1} p_{y_{2}} x_{1}\\left(t\\right)^{2} - 2 \\, m_{1} p_{y_{2}} x_{1}\\left(t\\right) x_{2}\\left(t\\right) + m_{1} p_{y_{2}} x_{2}\\left(t\\right)^{2} + m_{1} p_{y_{2}} y_{1}\\left(t\\right)^{2} - 2 \\, m_{1} p_{y_{2}} y_{1}\\left(t\\right) y_{2}\\left(t\\right) + m_{1} p_{y_{2}} y_{2}\\left(t\\right)^{2} + m_{1} p_{y_{2}} z_{1}\\left(t\\right)^{2} - 2 \\, m_{1} p_{y_{2}} z_{1}\\left(t\\right) z_{2}\\left(t\\right) + m_{1} p_{y_{2}} z_{2}\\left(t\\right)^{2} - \\sqrt{x_{1}\\left(t\\right)^{2} - 2 \\, x_{1}\\left(t\\right) x_{2}\\left(t\\right) + x_{2}\\left(t\\right)^{2} + y_{1}\\left(t\\right)^{2} - 2 \\, y_{1}\\left(t\\right) y_{2}\\left(t\\right) + y_{2}\\left(t\\right)^{2} + z_{1}\\left(t\\right)^{2} - 2 \\, z_{1}\\left(t\\right) z_{2}\\left(t\\right) + z_{2}\\left(t\\right)^{2}} C p_{y_{1}}}{m_{1} m_{2} x_{1}\\left(t\\right)^{2} - 2 \\, m_{1} m_{2} x_{1}\\left(t\\right) x_{2}\\left(t\\right) + m_{1} m_{2} x_{2}\\left(t\\right)^{2} + m_{1} m_{2} y_{1}\\left(t\\right)^{2} - 2 \\, m_{1} m_{2} y_{1}\\left(t\\right) y_{2}\\left(t\\right) + m_{1} m_{2} y_{2}\\left(t\\right)^{2} + m_{1} m_{2} z_{1}\\left(t\\right)^{2} - 2 \\, m_{1} m_{2} z_{1}\\left(t\\right) z_{2}\\left(t\\right) + m_{1} m_{2} z_{2}\\left(t\\right)^{2} - C^{2}}$"
      ],
      "text/plain": [
       "<IPython.core.display.Math object>"
      ]
     },
     "metadata": {},
     "output_type": "display_data"
    },
    {
     "data": {
      "text/latex": [
       "$\\displaystyle v_{z_{1}} = \\frac{\\sqrt{{\\left(x_{1}\\left(t\\right) - x_{2}\\left(t\\right)\\right)}^{2} + {\\left(y_{1}\\left(t\\right) - y_{2}\\left(t\\right)\\right)}^{2} + {\\left(z_{1}\\left(t\\right) - z_{2}\\left(t\\right)\\right)}^{2}} p_{z_{1}} + \\frac{{\\left(C v_{z_{1}} - \\sqrt{{\\left(x_{1}\\left(t\\right) - x_{2}\\left(t\\right)\\right)}^{2} + {\\left(y_{1}\\left(t\\right) - y_{2}\\left(t\\right)\\right)}^{2} + {\\left(z_{1}\\left(t\\right) - z_{2}\\left(t\\right)\\right)}^{2}} p_{z_{2}}\\right)} C}{\\sqrt{{\\left(x_{1}\\left(t\\right) - x_{2}\\left(t\\right)\\right)}^{2} + {\\left(y_{1}\\left(t\\right) - y_{2}\\left(t\\right)\\right)}^{2} + {\\left(z_{1}\\left(t\\right) - z_{2}\\left(t\\right)\\right)}^{2}} m_{2}}}{\\sqrt{{\\left(x_{1}\\left(t\\right) - x_{2}\\left(t\\right)\\right)}^{2} + {\\left(y_{1}\\left(t\\right) - y_{2}\\left(t\\right)\\right)}^{2} + {\\left(z_{1}\\left(t\\right) - z_{2}\\left(t\\right)\\right)}^{2}} m_{1}}$"
      ],
      "text/plain": [
       "<IPython.core.display.Math object>"
      ]
     },
     "metadata": {},
     "output_type": "display_data"
    },
    {
     "data": {
      "text/latex": [
       "$\\displaystyle v_{z_{1}} = \\frac{m_{2} p_{z_{1}} x_{1}\\left(t\\right)^{2} - 2 \\, m_{2} p_{z_{1}} x_{1}\\left(t\\right) x_{2}\\left(t\\right) + m_{2} p_{z_{1}} x_{2}\\left(t\\right)^{2} + m_{2} p_{z_{1}} y_{1}\\left(t\\right)^{2} - 2 \\, m_{2} p_{z_{1}} y_{1}\\left(t\\right) y_{2}\\left(t\\right) + m_{2} p_{z_{1}} y_{2}\\left(t\\right)^{2} + m_{2} p_{z_{1}} z_{1}\\left(t\\right)^{2} - 2 \\, m_{2} p_{z_{1}} z_{1}\\left(t\\right) z_{2}\\left(t\\right) + m_{2} p_{z_{1}} z_{2}\\left(t\\right)^{2} - \\sqrt{x_{1}\\left(t\\right)^{2} - 2 \\, x_{1}\\left(t\\right) x_{2}\\left(t\\right) + x_{2}\\left(t\\right)^{2} + y_{1}\\left(t\\right)^{2} - 2 \\, y_{1}\\left(t\\right) y_{2}\\left(t\\right) + y_{2}\\left(t\\right)^{2} + z_{1}\\left(t\\right)^{2} - 2 \\, z_{1}\\left(t\\right) z_{2}\\left(t\\right) + z_{2}\\left(t\\right)^{2}} C p_{z_{2}}}{m_{1} m_{2} x_{1}\\left(t\\right)^{2} - 2 \\, m_{1} m_{2} x_{1}\\left(t\\right) x_{2}\\left(t\\right) + m_{1} m_{2} x_{2}\\left(t\\right)^{2} + m_{1} m_{2} y_{1}\\left(t\\right)^{2} - 2 \\, m_{1} m_{2} y_{1}\\left(t\\right) y_{2}\\left(t\\right) + m_{1} m_{2} y_{2}\\left(t\\right)^{2} + m_{1} m_{2} z_{1}\\left(t\\right)^{2} - 2 \\, m_{1} m_{2} z_{1}\\left(t\\right) z_{2}\\left(t\\right) + m_{1} m_{2} z_{2}\\left(t\\right)^{2} - C^{2}}$"
      ],
      "text/plain": [
       "<IPython.core.display.Math object>"
      ]
     },
     "metadata": {},
     "output_type": "display_data"
    },
    {
     "data": {
      "text/latex": [
       "$\\displaystyle v_{z_{2}} = \\frac{\\sqrt{{\\left(x_{1}\\left(t\\right) - x_{2}\\left(t\\right)\\right)}^{2} + {\\left(y_{1}\\left(t\\right) - y_{2}\\left(t\\right)\\right)}^{2} + {\\left(z_{1}\\left(t\\right) - z_{2}\\left(t\\right)\\right)}^{2}} p_{z_{2}} + \\frac{{\\left(C v_{z_{2}} - \\sqrt{{\\left(x_{1}\\left(t\\right) - x_{2}\\left(t\\right)\\right)}^{2} + {\\left(y_{1}\\left(t\\right) - y_{2}\\left(t\\right)\\right)}^{2} + {\\left(z_{1}\\left(t\\right) - z_{2}\\left(t\\right)\\right)}^{2}} p_{z_{1}}\\right)} C}{\\sqrt{{\\left(x_{1}\\left(t\\right) - x_{2}\\left(t\\right)\\right)}^{2} + {\\left(y_{1}\\left(t\\right) - y_{2}\\left(t\\right)\\right)}^{2} + {\\left(z_{1}\\left(t\\right) - z_{2}\\left(t\\right)\\right)}^{2}} m_{1}}}{\\sqrt{{\\left(x_{1}\\left(t\\right) - x_{2}\\left(t\\right)\\right)}^{2} + {\\left(y_{1}\\left(t\\right) - y_{2}\\left(t\\right)\\right)}^{2} + {\\left(z_{1}\\left(t\\right) - z_{2}\\left(t\\right)\\right)}^{2}} m_{2}}$"
      ],
      "text/plain": [
       "<IPython.core.display.Math object>"
      ]
     },
     "metadata": {},
     "output_type": "display_data"
    },
    {
     "data": {
      "text/latex": [
       "$\\displaystyle v_{z_{2}} = \\frac{m_{1} p_{z_{2}} x_{1}\\left(t\\right)^{2} - 2 \\, m_{1} p_{z_{2}} x_{1}\\left(t\\right) x_{2}\\left(t\\right) + m_{1} p_{z_{2}} x_{2}\\left(t\\right)^{2} + m_{1} p_{z_{2}} y_{1}\\left(t\\right)^{2} - 2 \\, m_{1} p_{z_{2}} y_{1}\\left(t\\right) y_{2}\\left(t\\right) + m_{1} p_{z_{2}} y_{2}\\left(t\\right)^{2} + m_{1} p_{z_{2}} z_{1}\\left(t\\right)^{2} - 2 \\, m_{1} p_{z_{2}} z_{1}\\left(t\\right) z_{2}\\left(t\\right) + m_{1} p_{z_{2}} z_{2}\\left(t\\right)^{2} - \\sqrt{x_{1}\\left(t\\right)^{2} - 2 \\, x_{1}\\left(t\\right) x_{2}\\left(t\\right) + x_{2}\\left(t\\right)^{2} + y_{1}\\left(t\\right)^{2} - 2 \\, y_{1}\\left(t\\right) y_{2}\\left(t\\right) + y_{2}\\left(t\\right)^{2} + z_{1}\\left(t\\right)^{2} - 2 \\, z_{1}\\left(t\\right) z_{2}\\left(t\\right) + z_{2}\\left(t\\right)^{2}} C p_{z_{1}}}{m_{1} m_{2} x_{1}\\left(t\\right)^{2} - 2 \\, m_{1} m_{2} x_{1}\\left(t\\right) x_{2}\\left(t\\right) + m_{1} m_{2} x_{2}\\left(t\\right)^{2} + m_{1} m_{2} y_{1}\\left(t\\right)^{2} - 2 \\, m_{1} m_{2} y_{1}\\left(t\\right) y_{2}\\left(t\\right) + m_{1} m_{2} y_{2}\\left(t\\right)^{2} + m_{1} m_{2} z_{1}\\left(t\\right)^{2} - 2 \\, m_{1} m_{2} z_{1}\\left(t\\right) z_{2}\\left(t\\right) + m_{1} m_{2} z_{2}\\left(t\\right)^{2} - C^{2}}$"
      ],
      "text/plain": [
       "<IPython.core.display.Math object>"
      ]
     },
     "metadata": {},
     "output_type": "display_data"
    }
   ],
   "source": [
    "sol_vp = []\n",
    "for i in range(len(V)):\n",
    "    vp = sol_v_p[i].lhs() == sol_v_p[i].rhs().subs(sol_v_p)\n",
    "    disp(vp)\n",
    "    v_p = vp.solve(V[i])[0].full_simplify()\n",
    "    disp(v_p)\n",
    "    sol_vp += [v_p]"
   ]
  },
  {
   "cell_type": "code",
   "execution_count": 134,
   "id": "e63ed180",
   "metadata": {},
   "outputs": [
    {
     "data": {
      "text/latex": [
       "$\\displaystyle \\frac{{\\left(m_{2} p_{x_{1}} x_{1}^{2} - 2 \\, m_{2} p_{x_{1}} x_{1} x_{2} + m_{2} p_{x_{1}} x_{2}^{2} + m_{2} p_{x_{1}} y_{1}^{2} - 2 \\, m_{2} p_{x_{1}} y_{1} y_{2} + m_{2} p_{x_{1}} y_{2}^{2} + m_{2} p_{x_{1}} z_{1}^{2} - 2 \\, m_{2} p_{x_{1}} z_{1} z_{2} + m_{2} p_{x_{1}} z_{2}^{2} - \\sqrt{x_{1}^{2} - 2 \\, x_{1} x_{2} + x_{2}^{2} + y_{1}^{2} - 2 \\, y_{1} y_{2} + y_{2}^{2} + z_{1}^{2} - 2 \\, z_{1} z_{2} + z_{2}^{2}} C p_{x_{2}}\\right)}^{2} m_{1}}{2 \\, {\\left(m_{1} m_{2} x_{1}^{2} - 2 \\, m_{1} m_{2} x_{1} x_{2} + m_{1} m_{2} x_{2}^{2} + m_{1} m_{2} y_{1}^{2} - 2 \\, m_{1} m_{2} y_{1} y_{2} + m_{1} m_{2} y_{2}^{2} + m_{1} m_{2} z_{1}^{2} - 2 \\, m_{1} m_{2} z_{1} z_{2} + m_{1} m_{2} z_{2}^{2} - C^{2}\\right)}^{2}} + \\frac{{\\left(m_{2} p_{y_{1}} x_{1}^{2} - 2 \\, m_{2} p_{y_{1}} x_{1} x_{2} + m_{2} p_{y_{1}} x_{2}^{2} + m_{2} p_{y_{1}} y_{1}^{2} - 2 \\, m_{2} p_{y_{1}} y_{1} y_{2} + m_{2} p_{y_{1}} y_{2}^{2} + m_{2} p_{y_{1}} z_{1}^{2} - 2 \\, m_{2} p_{y_{1}} z_{1} z_{2} + m_{2} p_{y_{1}} z_{2}^{2} - \\sqrt{x_{1}^{2} - 2 \\, x_{1} x_{2} + x_{2}^{2} + y_{1}^{2} - 2 \\, y_{1} y_{2} + y_{2}^{2} + z_{1}^{2} - 2 \\, z_{1} z_{2} + z_{2}^{2}} C p_{y_{2}}\\right)}^{2} m_{1}}{2 \\, {\\left(m_{1} m_{2} x_{1}^{2} - 2 \\, m_{1} m_{2} x_{1} x_{2} + m_{1} m_{2} x_{2}^{2} + m_{1} m_{2} y_{1}^{2} - 2 \\, m_{1} m_{2} y_{1} y_{2} + m_{1} m_{2} y_{2}^{2} + m_{1} m_{2} z_{1}^{2} - 2 \\, m_{1} m_{2} z_{1} z_{2} + m_{1} m_{2} z_{2}^{2} - C^{2}\\right)}^{2}} + \\frac{{\\left(m_{2} p_{z_{1}} x_{1}^{2} - 2 \\, m_{2} p_{z_{1}} x_{1} x_{2} + m_{2} p_{z_{1}} x_{2}^{2} + m_{2} p_{z_{1}} y_{1}^{2} - 2 \\, m_{2} p_{z_{1}} y_{1} y_{2} + m_{2} p_{z_{1}} y_{2}^{2} + m_{2} p_{z_{1}} z_{1}^{2} - 2 \\, m_{2} p_{z_{1}} z_{1} z_{2} + m_{2} p_{z_{1}} z_{2}^{2} - \\sqrt{x_{1}^{2} - 2 \\, x_{1} x_{2} + x_{2}^{2} + y_{1}^{2} - 2 \\, y_{1} y_{2} + y_{2}^{2} + z_{1}^{2} - 2 \\, z_{1} z_{2} + z_{2}^{2}} C p_{z_{2}}\\right)}^{2} m_{1}}{2 \\, {\\left(m_{1} m_{2} x_{1}^{2} - 2 \\, m_{1} m_{2} x_{1} x_{2} + m_{1} m_{2} x_{2}^{2} + m_{1} m_{2} y_{1}^{2} - 2 \\, m_{1} m_{2} y_{1} y_{2} + m_{1} m_{2} y_{2}^{2} + m_{1} m_{2} z_{1}^{2} - 2 \\, m_{1} m_{2} z_{1} z_{2} + m_{1} m_{2} z_{2}^{2} - C^{2}\\right)}^{2}} + \\frac{{\\left(m_{1} p_{x_{2}} x_{1}^{2} - 2 \\, m_{1} p_{x_{2}} x_{1} x_{2} + m_{1} p_{x_{2}} x_{2}^{2} + m_{1} p_{x_{2}} y_{1}^{2} - 2 \\, m_{1} p_{x_{2}} y_{1} y_{2} + m_{1} p_{x_{2}} y_{2}^{2} + m_{1} p_{x_{2}} z_{1}^{2} - 2 \\, m_{1} p_{x_{2}} z_{1} z_{2} + m_{1} p_{x_{2}} z_{2}^{2} - \\sqrt{x_{1}^{2} - 2 \\, x_{1} x_{2} + x_{2}^{2} + y_{1}^{2} - 2 \\, y_{1} y_{2} + y_{2}^{2} + z_{1}^{2} - 2 \\, z_{1} z_{2} + z_{2}^{2}} C p_{x_{1}}\\right)}^{2} m_{2}}{2 \\, {\\left(m_{1} m_{2} x_{1}^{2} - 2 \\, m_{1} m_{2} x_{1} x_{2} + m_{1} m_{2} x_{2}^{2} + m_{1} m_{2} y_{1}^{2} - 2 \\, m_{1} m_{2} y_{1} y_{2} + m_{1} m_{2} y_{2}^{2} + m_{1} m_{2} z_{1}^{2} - 2 \\, m_{1} m_{2} z_{1} z_{2} + m_{1} m_{2} z_{2}^{2} - C^{2}\\right)}^{2}} + \\frac{{\\left(m_{1} p_{y_{2}} x_{1}^{2} - 2 \\, m_{1} p_{y_{2}} x_{1} x_{2} + m_{1} p_{y_{2}} x_{2}^{2} + m_{1} p_{y_{2}} y_{1}^{2} - 2 \\, m_{1} p_{y_{2}} y_{1} y_{2} + m_{1} p_{y_{2}} y_{2}^{2} + m_{1} p_{y_{2}} z_{1}^{2} - 2 \\, m_{1} p_{y_{2}} z_{1} z_{2} + m_{1} p_{y_{2}} z_{2}^{2} - \\sqrt{x_{1}^{2} - 2 \\, x_{1} x_{2} + x_{2}^{2} + y_{1}^{2} - 2 \\, y_{1} y_{2} + y_{2}^{2} + z_{1}^{2} - 2 \\, z_{1} z_{2} + z_{2}^{2}} C p_{y_{1}}\\right)}^{2} m_{2}}{2 \\, {\\left(m_{1} m_{2} x_{1}^{2} - 2 \\, m_{1} m_{2} x_{1} x_{2} + m_{1} m_{2} x_{2}^{2} + m_{1} m_{2} y_{1}^{2} - 2 \\, m_{1} m_{2} y_{1} y_{2} + m_{1} m_{2} y_{2}^{2} + m_{1} m_{2} z_{1}^{2} - 2 \\, m_{1} m_{2} z_{1} z_{2} + m_{1} m_{2} z_{2}^{2} - C^{2}\\right)}^{2}} + \\frac{{\\left(m_{1} p_{z_{2}} x_{1}^{2} - 2 \\, m_{1} p_{z_{2}} x_{1} x_{2} + m_{1} p_{z_{2}} x_{2}^{2} + m_{1} p_{z_{2}} y_{1}^{2} - 2 \\, m_{1} p_{z_{2}} y_{1} y_{2} + m_{1} p_{z_{2}} y_{2}^{2} + m_{1} p_{z_{2}} z_{1}^{2} - 2 \\, m_{1} p_{z_{2}} z_{1} z_{2} + m_{1} p_{z_{2}} z_{2}^{2} - \\sqrt{x_{1}^{2} - 2 \\, x_{1} x_{2} + x_{2}^{2} + y_{1}^{2} - 2 \\, y_{1} y_{2} + y_{2}^{2} + z_{1}^{2} - 2 \\, z_{1} z_{2} + z_{2}^{2}} C p_{z_{1}}\\right)}^{2} m_{2}}{2 \\, {\\left(m_{1} m_{2} x_{1}^{2} - 2 \\, m_{1} m_{2} x_{1} x_{2} + m_{1} m_{2} x_{2}^{2} + m_{1} m_{2} y_{1}^{2} - 2 \\, m_{1} m_{2} y_{1} y_{2} + m_{1} m_{2} y_{2}^{2} + m_{1} m_{2} z_{1}^{2} - 2 \\, m_{1} m_{2} z_{1} z_{2} + m_{1} m_{2} z_{2}^{2} - C^{2}\\right)}^{2}} + \\frac{{\\left(m_{2} p_{x_{1}} x_{1}^{2} - 2 \\, m_{2} p_{x_{1}} x_{1} x_{2} + m_{2} p_{x_{1}} x_{2}^{2} + m_{2} p_{x_{1}} y_{1}^{2} - 2 \\, m_{2} p_{x_{1}} y_{1} y_{2} + m_{2} p_{x_{1}} y_{2}^{2} + m_{2} p_{x_{1}} z_{1}^{2} - 2 \\, m_{2} p_{x_{1}} z_{1} z_{2} + m_{2} p_{x_{1}} z_{2}^{2} - \\sqrt{x_{1}^{2} - 2 \\, x_{1} x_{2} + x_{2}^{2} + y_{1}^{2} - 2 \\, y_{1} y_{2} + y_{2}^{2} + z_{1}^{2} - 2 \\, z_{1} z_{2} + z_{2}^{2}} C p_{x_{2}}\\right)} {\\left(m_{1} p_{x_{2}} x_{1}^{2} - 2 \\, m_{1} p_{x_{2}} x_{1} x_{2} + m_{1} p_{x_{2}} x_{2}^{2} + m_{1} p_{x_{2}} y_{1}^{2} - 2 \\, m_{1} p_{x_{2}} y_{1} y_{2} + m_{1} p_{x_{2}} y_{2}^{2} + m_{1} p_{x_{2}} z_{1}^{2} - 2 \\, m_{1} p_{x_{2}} z_{1} z_{2} + m_{1} p_{x_{2}} z_{2}^{2} - \\sqrt{x_{1}^{2} - 2 \\, x_{1} x_{2} + x_{2}^{2} + y_{1}^{2} - 2 \\, y_{1} y_{2} + y_{2}^{2} + z_{1}^{2} - 2 \\, z_{1} z_{2} + z_{2}^{2}} C p_{x_{1}}\\right)} C}{{\\left(m_{1} m_{2} x_{1}^{2} - 2 \\, m_{1} m_{2} x_{1} x_{2} + m_{1} m_{2} x_{2}^{2} + m_{1} m_{2} y_{1}^{2} - 2 \\, m_{1} m_{2} y_{1} y_{2} + m_{1} m_{2} y_{2}^{2} + m_{1} m_{2} z_{1}^{2} - 2 \\, m_{1} m_{2} z_{1} z_{2} + m_{1} m_{2} z_{2}^{2} - C^{2}\\right)}^{2} \\sqrt{x_{1}^{2} - 2 \\, x_{1} x_{2} + x_{2}^{2} + y_{1}^{2} - 2 \\, y_{1} y_{2} + y_{2}^{2} + z_{1}^{2} - 2 \\, z_{1} z_{2} + z_{2}^{2}}} + \\frac{{\\left(m_{2} p_{y_{1}} x_{1}^{2} - 2 \\, m_{2} p_{y_{1}} x_{1} x_{2} + m_{2} p_{y_{1}} x_{2}^{2} + m_{2} p_{y_{1}} y_{1}^{2} - 2 \\, m_{2} p_{y_{1}} y_{1} y_{2} + m_{2} p_{y_{1}} y_{2}^{2} + m_{2} p_{y_{1}} z_{1}^{2} - 2 \\, m_{2} p_{y_{1}} z_{1} z_{2} + m_{2} p_{y_{1}} z_{2}^{2} - \\sqrt{x_{1}^{2} - 2 \\, x_{1} x_{2} + x_{2}^{2} + y_{1}^{2} - 2 \\, y_{1} y_{2} + y_{2}^{2} + z_{1}^{2} - 2 \\, z_{1} z_{2} + z_{2}^{2}} C p_{y_{2}}\\right)} {\\left(m_{1} p_{y_{2}} x_{1}^{2} - 2 \\, m_{1} p_{y_{2}} x_{1} x_{2} + m_{1} p_{y_{2}} x_{2}^{2} + m_{1} p_{y_{2}} y_{1}^{2} - 2 \\, m_{1} p_{y_{2}} y_{1} y_{2} + m_{1} p_{y_{2}} y_{2}^{2} + m_{1} p_{y_{2}} z_{1}^{2} - 2 \\, m_{1} p_{y_{2}} z_{1} z_{2} + m_{1} p_{y_{2}} z_{2}^{2} - \\sqrt{x_{1}^{2} - 2 \\, x_{1} x_{2} + x_{2}^{2} + y_{1}^{2} - 2 \\, y_{1} y_{2} + y_{2}^{2} + z_{1}^{2} - 2 \\, z_{1} z_{2} + z_{2}^{2}} C p_{y_{1}}\\right)} C}{{\\left(m_{1} m_{2} x_{1}^{2} - 2 \\, m_{1} m_{2} x_{1} x_{2} + m_{1} m_{2} x_{2}^{2} + m_{1} m_{2} y_{1}^{2} - 2 \\, m_{1} m_{2} y_{1} y_{2} + m_{1} m_{2} y_{2}^{2} + m_{1} m_{2} z_{1}^{2} - 2 \\, m_{1} m_{2} z_{1} z_{2} + m_{1} m_{2} z_{2}^{2} - C^{2}\\right)}^{2} \\sqrt{x_{1}^{2} - 2 \\, x_{1} x_{2} + x_{2}^{2} + y_{1}^{2} - 2 \\, y_{1} y_{2} + y_{2}^{2} + z_{1}^{2} - 2 \\, z_{1} z_{2} + z_{2}^{2}}} + \\frac{{\\left(m_{2} p_{z_{1}} x_{1}^{2} - 2 \\, m_{2} p_{z_{1}} x_{1} x_{2} + m_{2} p_{z_{1}} x_{2}^{2} + m_{2} p_{z_{1}} y_{1}^{2} - 2 \\, m_{2} p_{z_{1}} y_{1} y_{2} + m_{2} p_{z_{1}} y_{2}^{2} + m_{2} p_{z_{1}} z_{1}^{2} - 2 \\, m_{2} p_{z_{1}} z_{1} z_{2} + m_{2} p_{z_{1}} z_{2}^{2} - \\sqrt{x_{1}^{2} - 2 \\, x_{1} x_{2} + x_{2}^{2} + y_{1}^{2} - 2 \\, y_{1} y_{2} + y_{2}^{2} + z_{1}^{2} - 2 \\, z_{1} z_{2} + z_{2}^{2}} C p_{z_{2}}\\right)} {\\left(m_{1} p_{z_{2}} x_{1}^{2} - 2 \\, m_{1} p_{z_{2}} x_{1} x_{2} + m_{1} p_{z_{2}} x_{2}^{2} + m_{1} p_{z_{2}} y_{1}^{2} - 2 \\, m_{1} p_{z_{2}} y_{1} y_{2} + m_{1} p_{z_{2}} y_{2}^{2} + m_{1} p_{z_{2}} z_{1}^{2} - 2 \\, m_{1} p_{z_{2}} z_{1} z_{2} + m_{1} p_{z_{2}} z_{2}^{2} - \\sqrt{x_{1}^{2} - 2 \\, x_{1} x_{2} + x_{2}^{2} + y_{1}^{2} - 2 \\, y_{1} y_{2} + y_{2}^{2} + z_{1}^{2} - 2 \\, z_{1} z_{2} + z_{2}^{2}} C p_{z_{1}}\\right)} C}{{\\left(m_{1} m_{2} x_{1}^{2} - 2 \\, m_{1} m_{2} x_{1} x_{2} + m_{1} m_{2} x_{2}^{2} + m_{1} m_{2} y_{1}^{2} - 2 \\, m_{1} m_{2} y_{1} y_{2} + m_{1} m_{2} y_{2}^{2} + m_{1} m_{2} z_{1}^{2} - 2 \\, m_{1} m_{2} z_{1} z_{2} + m_{1} m_{2} z_{2}^{2} - C^{2}\\right)}^{2} \\sqrt{x_{1}^{2} - 2 \\, x_{1} x_{2} + x_{2}^{2} + y_{1}^{2} - 2 \\, y_{1} y_{2} + y_{2}^{2} + z_{1}^{2} - 2 \\, z_{1} z_{2} + z_{2}^{2}}} + V\\left(\\sqrt{x_{1}^{2} - 2 \\, x_{1} x_{2} + x_{2}^{2} + y_{1}^{2} - 2 \\, y_{1} y_{2} + y_{2}^{2} + z_{1}^{2} - 2 \\, z_{1} z_{2} + z_{2}^{2}}\\right)$"
      ],
      "text/plain": [
       "<IPython.core.display.Math object>"
      ]
     },
     "metadata": {},
     "output_type": "display_data"
    }
   ],
   "source": [
    "# Находим выражение для Гамильтониана исходя из\n",
    "# выражения энергии через Лагранжиан\n",
    "# используя вышенайденную подстановку,\n",
    "# выражающую v через обобщенные импульсы и координаты\n",
    "\n",
    "H = (Ev).subs(sol_vp).subs(x_to_X)\n",
    "disp(H)"
   ]
  },
  {
   "cell_type": "code",
   "execution_count": 135,
   "id": "0a84bada",
   "metadata": {},
   "outputs": [
    {
     "data": {
      "text/plain": [
       "(C,\n",
       " m_1,\n",
       " m_2,\n",
       " p_x_1,\n",
       " p_x_2,\n",
       " p_y_1,\n",
       " p_y_2,\n",
       " p_z_1,\n",
       " p_z_2,\n",
       " x_1,\n",
       " x_2,\n",
       " y_1,\n",
       " y_2,\n",
       " z_1,\n",
       " z_2)"
      ]
     },
     "execution_count": 135,
     "metadata": {},
     "output_type": "execute_result"
    }
   ],
   "source": [
    "H.variables()"
   ]
  },
  {
   "cell_type": "code",
   "execution_count": null,
   "id": "48789f10",
   "metadata": {},
   "outputs": [],
   "source": []
  }
 ],
 "metadata": {
  "kernelspec": {
   "display_name": "SageMath 9.6.beta7",
   "language": "sage",
   "name": "sagemath"
  },
  "language_info": {
   "codemirror_mode": {
    "name": "ipython",
    "version": 3
   },
   "file_extension": ".py",
   "mimetype": "text/x-python",
   "name": "python",
   "nbconvert_exporter": "python",
   "pygments_lexer": "ipython3",
   "version": "3.10.3"
  }
 },
 "nbformat": 4,
 "nbformat_minor": 5
}
