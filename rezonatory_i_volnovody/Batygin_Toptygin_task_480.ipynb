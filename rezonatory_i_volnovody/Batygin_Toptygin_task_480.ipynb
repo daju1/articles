{
 "cells": [
  {
   "cell_type": "markdown",
   "metadata": {},
   "source": [
    "Batygin_Toptygin_task_480.sage\n",
    "\n",
    "В. В. БАТЫГИН, И. Н. ТОПТЫГИН\n",
    "СБОРНИК ЗАДАЧ\n",
    "по\n",
    "ЭЛЕКТРОДИНАМИКЕ\n",
    "МОСКВА 1970\n",
    "\n",
    "529. Определить собственные частоты колебаний и нормированные собственные функции полого резонатора с идеально проводящими стенками. Резонатор имеет форму прямоугольного\n",
    "паралелепипеда, его размеры $а\\,\\cdot\\,b\\,\\cdot\\,h$. Собственные функции выбрать таким образом, чтобы все они были взаимно ортогональны.\n",
    "\n",
    "В издании 1962 года номера этих задач 480"
   ]
  },
  {
   "cell_type": "markdown",
   "metadata": {},
   "source": [
    "https://emineter.files.wordpress.com/2018/12/v-v-batygin-i-n-toptygin-d-ter-haar-problems-in-electrodynamics-second-edition-academic-press-inc-1978.pdf\n",
    "\n",
    "task 9.20\n",
    "\n",
    "page 409"
   ]
  },
  {
   "cell_type": "code",
   "execution_count": 1,
   "metadata": {},
   "outputs": [],
   "source": [
    "from IPython.display import display, Math, Latex\n",
    "\n",
    "\n",
    "hbar = var(\"hbar\")\n",
    "\n",
    "def disp(ex):\n",
    "    latex_ex = latex(ex)\n",
    "    latex_ex = latex_ex.replace(\"hbar\", \"\\\\hbar\")    \n",
    "    display(Math(latex_ex))\n",
    "\n",
    "mu = var('mu')\n",
    "assume(mu, 'real')\n",
    "assume(mu>0)\n",
    "\n",
    "epsilon = var('epsilon')\n",
    "assume(epsilon, 'real')\n",
    "assume(epsilon>0)\n",
    "\n",
    "k_1 = var ('k_x')\n",
    "assume(k_1, 'real')\n",
    "\n",
    "k_2 = var ('k_y')\n",
    "assume(k_2, 'real')\n",
    "\n",
    "k_3 = var ('k_z')\n",
    "assume(k_3, 'real')\n",
    "\n",
    "n_1 = var ('n_x')\n",
    "assume(n_1, 'real')\n",
    "assume(n_1, 'integer')\n",
    "\n",
    "n_2 = var ('n_y')\n",
    "assume(n_2, 'real')\n",
    "assume(n_2, 'integer')\n",
    "\n",
    "n_3 = var ('n_z')\n",
    "assume(n_3, 'real')\n",
    "assume(n_3, 'integer')\n",
    "\n",
    "a = var('a')\n",
    "assume(a, 'real')\n",
    "assume(a>0)\n",
    "\n",
    "b = var('b')\n",
    "assume(b, 'real')\n",
    "assume(b>0)\n",
    "\n",
    "h = var('h')\n",
    "assume(h, 'real')\n",
    "assume(h>0)\n",
    "\n",
    "x = var('x')\n",
    "y = var('y')\n",
    "z = var('z')\n",
    "\n",
    "assume(x, 'real')\n",
    "assume(y, 'real')\n",
    "assume(z, 'real')\n",
    "\n",
    "c = var('c')\n",
    "assume(c, 'real')\n",
    "assume(c>0)\n",
    "\n",
    "omega = var('omega')\n",
    "assume(omega, 'real')\n",
    "\n",
    "L = var(\"L\")"
   ]
  },
  {
   "cell_type": "code",
   "execution_count": 2,
   "metadata": {},
   "outputs": [],
   "source": [
    "# E mode"
   ]
  },
  {
   "cell_type": "markdown",
   "metadata": {},
   "source": [
    "$rot\\,\\vec{E} = \\mu\\,\\frac{i\\,\\omega}{c}\\,\\vec{H}$\n",
    "\n",
    "$rot\\,\\vec{H} = - \\frac{i\\,\\omega}{c} \\epsilon \\vec{E}$\n",
    "\n",
    "$rot\\,rot\\,\\vec{E} = \\mu\\,\\frac{i\\,\\omega}{c}rot\\,\\vec{H}$\n",
    "\n",
    "$rot\\,rot\\,\\vec{E} = \\mu\\,\\frac{i\\,\\omega}{c}\\left(- \\frac{i\\,\\omega}{c} \\epsilon \\vec{E}\\right)$\n",
    "\n",
    "$rot\\,rot\\,\\vec{E} = \\mu\\,\\frac{\\omega^2}{c^2} \\epsilon \\vec{E}$\n",
    "\n",
    "$rot\\,rot\\,\\vec{E} = grad\\,div\\,\\vec{E} - Laplasian\\,\\vec{E}$\n",
    "\n",
    "$Laplasian\\,\\vec{E} + \\frac{\\mu \\epsilon \\omega^2}{c^2}\\,\\vec{E} - grad\\,div\\,\\vec{E} = 0$"
   ]
  },
  {
   "cell_type": "markdown",
   "metadata": {},
   "source": [
    "$div\\,\\vec{E} = 0$\n",
    "\n",
    "Ищем решение в виде\n",
    "\n",
    "$E_x = A_1\\,cos\\left(k_1\\,x\\right)\\,sin\\left(k_2\\,y\\right)\\,sin\\left(k_3\\,z\\right)\\,e^{-i\\,\\omega\\,t}$\n",
    "\n",
    "$E_y = A_2\\,sin\\left(k_1\\,x\\right)\\,cos\\left(k_2\\,y\\right)\\,sin\\left(k_3\\,z\\right)\\,e^{-i\\,\\omega\\,t}$\n",
    "\n",
    "$E_z = A_3\\,sin\\left(k_1\\,x\\right)\\,sin\\left(k_2\\,y\\right)\\,cos\\left(k_3\\,z\\right)\\,e^{-i\\,\\omega\\,t}$\n",
    "\n",
    "\n",
    "$k_1 = \\frac{n_1 \\pi}{a}$\n",
    "\n",
    "$k_2 = \\frac{n_2 \\pi}{b}$\n",
    "\n",
    "$k_3 = \\frac{n_3 \\pi}{h}$"
   ]
  },
  {
   "cell_type": "code",
   "execution_count": 3,
   "metadata": {},
   "outputs": [],
   "source": [
    "A_1 = var ('A_x')\n",
    "A_2 = var ('A_y')\n",
    "A_3 = var ('A_z')"
   ]
  },
  {
   "cell_type": "code",
   "execution_count": 4,
   "metadata": {},
   "outputs": [],
   "source": [
    "# выражения для электрического поля\n",
    "\n",
    "e_x = cos(k_1*x)*sin(k_2*y)*sin(k_3*z)\n",
    "e_y = sin(k_1*x)*cos(k_2*y)*sin(k_3*z)\n",
    "e_z = sin(k_1*x)*sin(k_2*y)*cos(k_3*z)"
   ]
  },
  {
   "cell_type": "code",
   "execution_count": 5,
   "metadata": {},
   "outputs": [],
   "source": [
    "# выражения для электрического поля\n",
    "\n",
    "E_x_em = A_1*e_x\n",
    "E_y_em = A_2*e_y\n",
    "E_z_em = A_3*e_z"
   ]
  },
  {
   "cell_type": "markdown",
   "metadata": {},
   "source": [
    "подставляя в исходное уравнение приходим к обыкновенному дифференциальному уравнению\n",
    "\n",
    "$\\frac{\\partial^2 \\vec E(x,y,z)}{\\partial x^2} + \\frac{\\partial^2 \\vec E(x,y,z)}{\\partial y^2} + \\frac{\\partial^2 \\vec E(x,y,z)}{\\partial z^2} + \\frac{\\mu\\, \\epsilon \\, \\omega^2}{c^2} \\vec E(x,y,z) = 0$"
   ]
  },
  {
   "cell_type": "markdown",
   "metadata": {},
   "source": [
    "$\\frac{\\partial^2 E_x(x,y,z)}{\\partial x^2} + \\frac{\\partial^2 E_x(x,y,z)}{\\partial y^2} + \\frac{\\partial^2 E_x(x,y,z)}{\\partial z^2} + \\frac{\\mu\\, \\epsilon \\, \\omega^2}{c^2} E_x(x,y,z) = 0$"
   ]
  },
  {
   "cell_type": "markdown",
   "metadata": {},
   "source": [
    "$\\frac{\\partial^2 E_y(x,y,z)}{\\partial x^2} + \\frac{\\partial^2 E_y(x,y,z)}{\\partial y^2} + \\frac{\\partial^2 E_y(x,y,z)}{\\partial z^2} + \\frac{\\mu\\, \\epsilon \\, \\omega^2}{c^2} E_y(x,y,z) = 0$"
   ]
  },
  {
   "cell_type": "markdown",
   "metadata": {},
   "source": [
    "$\\frac{\\partial^2 E_z(x,y,z)}{\\partial x^2} + \\frac{\\partial^2 E_z(x,y,z)}{\\partial y^2} + \\frac{\\partial^2 E_z(x,y,z)}{\\partial z^2} + \\frac{\\mu\\, \\epsilon \\, \\omega^2}{c^2} E_z(x,y,z) = 0$"
   ]
  },
  {
   "cell_type": "code",
   "execution_count": 6,
   "metadata": {},
   "outputs": [],
   "source": [
    "eq_x_em = E_x_em.diff(x,2) + E_x_em.diff(y,2) + E_x_em.diff(z,2) + mu*epsilon*omega^2/c^2 * E_x_em == 0\n",
    "eq_y_em = E_y_em.diff(x,2) + E_y_em.diff(y,2) + E_y_em.diff(z,2) + mu*epsilon*omega^2/c^2 * E_y_em == 0\n",
    "eq_z_em = E_z_em.diff(x,2) + E_z_em.diff(y,2) + E_z_em.diff(z,2) + mu*epsilon*omega^2/c^2 * E_z_em == 0"
   ]
  },
  {
   "cell_type": "code",
   "execution_count": 7,
   "metadata": {},
   "outputs": [
    {
     "data": {
      "text/latex": [
       "$\\displaystyle -\\frac{{\\left(c^{2} k_{x}^{2} + c^{2} k_{y}^{2} + c^{2} k_{z}^{2} - \\epsilon \\mu \\omega^{2}\\right)} A_{x} \\cos\\left(k_{x} x\\right) \\sin\\left(k_{y} y\\right) \\sin\\left(k_{z} z\\right)}{c^{2}} = 0$"
      ],
      "text/plain": [
       "<IPython.core.display.Math object>"
      ]
     },
     "metadata": {},
     "output_type": "display_data"
    },
    {
     "data": {
      "text/latex": [
       "$\\displaystyle -\\frac{{\\left(c^{2} k_{x}^{2} + c^{2} k_{y}^{2} + c^{2} k_{z}^{2} - \\epsilon \\mu \\omega^{2}\\right)} A_{y} \\cos\\left(k_{y} y\\right) \\sin\\left(k_{x} x\\right) \\sin\\left(k_{z} z\\right)}{c^{2}} = 0$"
      ],
      "text/plain": [
       "<IPython.core.display.Math object>"
      ]
     },
     "metadata": {},
     "output_type": "display_data"
    },
    {
     "data": {
      "text/latex": [
       "$\\displaystyle -\\frac{{\\left(c^{2} k_{x}^{2} + c^{2} k_{y}^{2} + c^{2} k_{z}^{2} - \\epsilon \\mu \\omega^{2}\\right)} A_{z} \\cos\\left(k_{z} z\\right) \\sin\\left(k_{x} x\\right) \\sin\\left(k_{y} y\\right)}{c^{2}} = 0$"
      ],
      "text/plain": [
       "<IPython.core.display.Math object>"
      ]
     },
     "metadata": {},
     "output_type": "display_data"
    }
   ],
   "source": [
    "display(Math(latex(eq_x_em.full_simplify().factor())))\n",
    "display(Math(latex(eq_y_em.full_simplify().factor())))\n",
    "display(Math(latex(eq_z_em.full_simplify().factor())))"
   ]
  },
  {
   "cell_type": "code",
   "execution_count": 8,
   "metadata": {},
   "outputs": [
    {
     "data": {
      "text/latex": [
       "$\\displaystyle k_{x}^{2} + k_{y}^{2} + k_{z}^{2} - \\frac{\\epsilon \\mu \\omega^{2}}{c^{2}} = 0$"
      ],
      "text/plain": [
       "<IPython.core.display.Math object>"
      ]
     },
     "metadata": {},
     "output_type": "display_data"
    }
   ],
   "source": [
    "dispersion_eq = (eq_z_em.full_simplify().factor().lhs().operands()[0]/c^2).expand() == 0\n",
    "disp(dispersion_eq)"
   ]
  },
  {
   "cell_type": "code",
   "execution_count": 9,
   "metadata": {},
   "outputs": [
    {
     "data": {
      "text/latex": [
       "$\\displaystyle \\left[\\omega^{2} = \\frac{c^{2} k_{x}^{2} + c^{2} k_{y}^{2} + c^{2} k_{z}^{2}}{\\epsilon \\mu}\\right]$"
      ],
      "text/plain": [
       "<IPython.core.display.Math object>"
      ]
     },
     "metadata": {},
     "output_type": "display_data"
    }
   ],
   "source": [
    "display(Math(latex(solve(eq_x_em, omega^2))))"
   ]
  },
  {
   "cell_type": "code",
   "execution_count": 10,
   "metadata": {},
   "outputs": [
    {
     "data": {
      "text/latex": [
       "$\\displaystyle \\left[\\omega^{2} = \\frac{c^{2} k_{x}^{2} + c^{2} k_{y}^{2} + c^{2} k_{z}^{2}}{\\epsilon \\mu}\\right]$"
      ],
      "text/plain": [
       "<IPython.core.display.Math object>"
      ]
     },
     "metadata": {},
     "output_type": "display_data"
    }
   ],
   "source": [
    "display(Math(latex(solve(eq_y_em, omega^2))))"
   ]
  },
  {
   "cell_type": "code",
   "execution_count": 11,
   "metadata": {},
   "outputs": [
    {
     "data": {
      "text/latex": [
       "$\\displaystyle \\left[\\omega^{2} = \\frac{c^{2} k_{x}^{2} + c^{2} k_{y}^{2} + c^{2} k_{z}^{2}}{\\epsilon \\mu}\\right]$"
      ],
      "text/plain": [
       "<IPython.core.display.Math object>"
      ]
     },
     "metadata": {},
     "output_type": "display_data"
    }
   ],
   "source": [
    "display(Math(latex(solve(eq_z_em, omega^2))))"
   ]
  },
  {
   "cell_type": "code",
   "execution_count": 12,
   "metadata": {},
   "outputs": [],
   "source": [
    "omega_2 = solve(eq_x_em, omega^2)[0]"
   ]
  },
  {
   "cell_type": "code",
   "execution_count": 13,
   "metadata": {},
   "outputs": [
    {
     "data": {
      "text/latex": [
       "$\\displaystyle \\omega^{2} = \\frac{c^{2} k_{x}^{2} + c^{2} k_{y}^{2} + c^{2} k_{z}^{2}}{\\epsilon \\mu}$"
      ],
      "text/plain": [
       "<IPython.core.display.Math object>"
      ]
     },
     "metadata": {},
     "output_type": "display_data"
    }
   ],
   "source": [
    "display(Math(latex(omega_2)))"
   ]
  },
  {
   "cell_type": "code",
   "execution_count": null,
   "metadata": {},
   "outputs": [],
   "source": []
  },
  {
   "cell_type": "code",
   "execution_count": 14,
   "metadata": {},
   "outputs": [
    {
     "data": {
      "text/latex": [
       "$\\displaystyle \\omega = c \\sqrt{\\frac{k_{x}^{2}}{\\epsilon \\mu} + \\frac{k_{y}^{2}}{\\epsilon \\mu} + \\frac{k_{z}^{2}}{\\epsilon \\mu}}$"
      ],
      "text/plain": [
       "<IPython.core.display.Math object>"
      ]
     },
     "metadata": {},
     "output_type": "display_data"
    }
   ],
   "source": [
    "omega_1 = solve(eq_x_em, omega)[1]\n",
    "disp(omega_1)"
   ]
  },
  {
   "cell_type": "code",
   "execution_count": 15,
   "metadata": {},
   "outputs": [
    {
     "data": {
      "text/latex": [
       "$\\displaystyle \\omega = \\sqrt{k_{x}^{2} + k_{y}^{2} + k_{z}^{2}} c$"
      ],
      "text/plain": [
       "<IPython.core.display.Math object>"
      ]
     },
     "metadata": {},
     "output_type": "display_data"
    }
   ],
   "source": [
    "omega_1_vacuum =  omega_1.subs(epsilon == 1, mu == 1)\n",
    "disp(omega_1_vacuum)"
   ]
  },
  {
   "cell_type": "markdown",
   "metadata": {},
   "source": [
    "$rot\\,\\vec{E} = \\mu\\,\\frac{i\\,\\omega}{c}\\,\\vec{H}$"
   ]
  },
  {
   "cell_type": "code",
   "execution_count": 16,
   "metadata": {},
   "outputs": [],
   "source": [
    "rotE_x_em = E_z_em.diff(y) - E_y_em.diff(z)\n",
    "rotE_y_em = E_x_em.diff(z) - E_z_em.diff(x)\n",
    "rotE_z_em = E_y_em.diff(x) - E_x_em.diff(y)"
   ]
  },
  {
   "cell_type": "code",
   "execution_count": 17,
   "metadata": {},
   "outputs": [],
   "source": [
    "H_x_em = c / (I * omega * mu) * rotE_x_em\n",
    "H_y_em = c / (I * omega * mu) * rotE_y_em\n",
    "H_z_em = c / (I * omega * mu) * rotE_z_em"
   ]
  },
  {
   "cell_type": "code",
   "execution_count": 18,
   "metadata": {},
   "outputs": [
    {
     "data": {
      "text/latex": [
       "$\\displaystyle -\\frac{i \\, {\\left(A_{z} k_{y} - A_{y} k_{z}\\right)} c \\cos\\left(k_{y} y\\right) \\cos\\left(k_{z} z\\right) \\sin\\left(k_{x} x\\right)}{\\mu \\omega}$"
      ],
      "text/plain": [
       "<IPython.core.display.Math object>"
      ]
     },
     "metadata": {},
     "output_type": "display_data"
    },
    {
     "data": {
      "text/latex": [
       "$\\displaystyle \\frac{i \\, {\\left(A_{z} k_{x} - A_{x} k_{z}\\right)} c \\cos\\left(k_{x} x\\right) \\cos\\left(k_{z} z\\right) \\sin\\left(k_{y} y\\right)}{\\mu \\omega}$"
      ],
      "text/plain": [
       "<IPython.core.display.Math object>"
      ]
     },
     "metadata": {},
     "output_type": "display_data"
    },
    {
     "data": {
      "text/latex": [
       "$\\displaystyle -\\frac{i \\, {\\left(A_{y} k_{x} - A_{x} k_{y}\\right)} c \\cos\\left(k_{x} x\\right) \\cos\\left(k_{y} y\\right) \\sin\\left(k_{z} z\\right)}{\\mu \\omega}$"
      ],
      "text/plain": [
       "<IPython.core.display.Math object>"
      ]
     },
     "metadata": {},
     "output_type": "display_data"
    }
   ],
   "source": [
    "display(Math(latex(H_x_em.full_simplify().factor())))\n",
    "display(Math(latex(H_y_em.full_simplify().factor())))\n",
    "display(Math(latex(H_z_em.full_simplify().factor())))"
   ]
  },
  {
   "cell_type": "markdown",
   "metadata": {},
   "source": [
    "$div\\,\\vec{E} = 0$"
   ]
  },
  {
   "cell_type": "code",
   "execution_count": 19,
   "metadata": {},
   "outputs": [],
   "source": [
    "div_E_em = E_x_em.diff(x) + E_y_em.diff(y) + E_z_em.diff(z)"
   ]
  },
  {
   "cell_type": "code",
   "execution_count": 20,
   "metadata": {},
   "outputs": [
    {
     "data": {
      "text/plain": [
       "-(A_x*k_x + A_y*k_y + A_z*k_z)*sin(k_x*x)*sin(k_y*y)*sin(k_z*z)"
      ]
     },
     "execution_count": 20,
     "metadata": {},
     "output_type": "execute_result"
    }
   ],
   "source": [
    "div_E_em.full_simplify()"
   ]
  },
  {
   "cell_type": "code",
   "execution_count": 21,
   "metadata": {},
   "outputs": [
    {
     "data": {
      "text/latex": [
       "$\\displaystyle -{\\left(A_{x} k_{x} + A_{y} k_{y} + A_{z} k_{z}\\right)} \\sin\\left(k_{x} x\\right) \\sin\\left(k_{y} y\\right) \\sin\\left(k_{z} z\\right) = 0$"
      ],
      "text/plain": [
       "<IPython.core.display.Math object>"
      ]
     },
     "metadata": {},
     "output_type": "display_data"
    }
   ],
   "source": [
    "display(Math(latex(div_E_em.full_simplify().factor() == 0)))"
   ]
  },
  {
   "cell_type": "code",
   "execution_count": 22,
   "metadata": {},
   "outputs": [
    {
     "data": {
      "text/latex": [
       "$\\displaystyle \\left[A_{x} k_{x} + A_{y} k_{y} + A_{z} k_{z}, \\sin\\left(k_{x} x\\right), \\sin\\left(k_{y} y\\right), \\sin\\left(k_{z} z\\right), -1\\right]$"
      ],
      "text/plain": [
       "<IPython.core.display.Math object>"
      ]
     },
     "metadata": {},
     "output_type": "display_data"
    }
   ],
   "source": [
    "disp(div_E_em.full_simplify().factor().operands())"
   ]
  },
  {
   "cell_type": "code",
   "execution_count": 23,
   "metadata": {},
   "outputs": [],
   "source": [
    "eq_A = div_E_em.full_simplify().factor().operands()[0] == 0"
   ]
  },
  {
   "cell_type": "code",
   "execution_count": 24,
   "metadata": {},
   "outputs": [
    {
     "data": {
      "text/latex": [
       "$\\displaystyle A_{x} k_{x} + A_{y} k_{y} + A_{z} k_{z} = 0$"
      ],
      "text/plain": [
       "<IPython.core.display.Math object>"
      ]
     },
     "metadata": {},
     "output_type": "display_data"
    }
   ],
   "source": [
    "disp(eq_A)"
   ]
  },
  {
   "cell_type": "code",
   "execution_count": 25,
   "metadata": {},
   "outputs": [],
   "source": [
    "k_subs_z = [k_3 == n_3 * pi / h]"
   ]
  },
  {
   "cell_type": "code",
   "execution_count": 26,
   "metadata": {},
   "outputs": [],
   "source": [
    "k_subs_xy = [k_1 == n_1 * pi / a, k_2 == n_2 * pi / b]"
   ]
  },
  {
   "cell_type": "code",
   "execution_count": 27,
   "metadata": {},
   "outputs": [],
   "source": [
    "# h_subs = h == n_3 * pi / k_3"
   ]
  },
  {
   "cell_type": "code",
   "execution_count": 28,
   "metadata": {},
   "outputs": [
    {
     "data": {
      "text/latex": [
       "$\\displaystyle A_{z} k_{z} + \\frac{\\pi A_{x} n_{x}}{a} + \\frac{\\pi A_{y} n_{y}}{b} = 0$"
      ],
      "text/plain": [
       "<IPython.core.display.Math object>"
      ]
     },
     "metadata": {},
     "output_type": "display_data"
    }
   ],
   "source": [
    "eq_A = eq_A.subs(k_subs_xy)\n",
    "disp(eq_A)"
   ]
  },
  {
   "cell_type": "code",
   "execution_count": 29,
   "metadata": {},
   "outputs": [
    {
     "data": {
      "text/latex": [
       "$\\displaystyle A_{z} k_{z} + \\frac{\\pi A_{x} n_{x}}{a} + \\frac{\\pi A_{y} n_{y}}{a} = 0$"
      ],
      "text/plain": [
       "<IPython.core.display.Math object>"
      ]
     },
     "metadata": {},
     "output_type": "display_data"
    }
   ],
   "source": [
    "eq_A = eq_A.subs(b == a)\n",
    "disp(eq_A)"
   ]
  },
  {
   "cell_type": "markdown",
   "metadata": {},
   "source": [
    "$k_1 = \\frac{n_1 \\pi}{a}$ $k_2 = \\frac{n_2 \\pi}{b}$ $k_3 = \\frac{n_3 \\pi}{h}$"
   ]
  },
  {
   "cell_type": "code",
   "execution_count": 30,
   "metadata": {},
   "outputs": [
    {
     "data": {
      "text/latex": [
       "$\\displaystyle \\left[A_{x} = -\\frac{A_{z} a k_{z} + \\pi A_{y} n_{y}}{\\pi n_{x}}\\right]$"
      ],
      "text/plain": [
       "<IPython.core.display.Math object>"
      ]
     },
     "metadata": {},
     "output_type": "display_data"
    }
   ],
   "source": [
    "display(Math(latex(solve(eq_A, A_1))))"
   ]
  },
  {
   "cell_type": "code",
   "execution_count": 31,
   "metadata": {
    "scrolled": true
   },
   "outputs": [
    {
     "data": {
      "text/latex": [
       "$\\displaystyle \\left[A_{y} = -\\frac{A_{z} a k_{z} + \\pi A_{x} n_{x}}{\\pi n_{y}}\\right]$"
      ],
      "text/plain": [
       "<IPython.core.display.Math object>"
      ]
     },
     "metadata": {},
     "output_type": "display_data"
    }
   ],
   "source": [
    "display(Math(latex(solve(eq_A, A_2))))"
   ]
  },
  {
   "cell_type": "code",
   "execution_count": 32,
   "metadata": {},
   "outputs": [
    {
     "data": {
      "text/latex": [
       "$\\displaystyle \\left[A_{z} = -\\frac{\\pi A_{x} n_{x} + \\pi A_{y} n_{y}}{a k_{z}}\\right]$"
      ],
      "text/plain": [
       "<IPython.core.display.Math object>"
      ]
     },
     "metadata": {},
     "output_type": "display_data"
    }
   ],
   "source": [
    "display(Math(latex(solve(eq_A, A_3))))"
   ]
  },
  {
   "cell_type": "code",
   "execution_count": 33,
   "metadata": {},
   "outputs": [
    {
     "data": {
      "text/latex": [
       "$\\displaystyle \\frac{i \\, {\\left(A_{y} k_{z} \\cos\\left(\\frac{\\pi n_{y} y}{b}\\right) \\sin\\left(\\frac{\\pi n_{x} x}{a}\\right) + \\frac{\\pi {\\left(\\pi A_{x} n_{x} + \\pi A_{y} n_{y}\\right)} n_{y} \\cos\\left(\\frac{\\pi n_{y} y}{b}\\right) \\sin\\left(\\frac{\\pi n_{x} x}{a}\\right)}{a b k_{z}}\\right)}}{\\mu \\sqrt{\\frac{k_{z}^{2}}{\\epsilon \\mu} + \\frac{\\pi^{2} n_{x}^{2}}{a^{2} \\epsilon \\mu} + \\frac{\\pi^{2} n_{y}^{2}}{b^{2} \\epsilon \\mu}}}$"
      ],
      "text/plain": [
       "<IPython.core.display.Math object>"
      ]
     },
     "metadata": {},
     "output_type": "display_data"
    }
   ],
   "source": [
    "disp(H_x_em.subs(omega_1).subs(z==0).subs(k_subs_xy).subs(solve(eq_A, A_3)))"
   ]
  },
  {
   "cell_type": "code",
   "execution_count": 34,
   "metadata": {},
   "outputs": [
    {
     "data": {
      "text/latex": [
       "$\\displaystyle -\\frac{i \\, {\\left(A_{x} k_{z} \\cos\\left(\\frac{\\pi n_{x} x}{a}\\right) \\sin\\left(\\frac{\\pi n_{y} y}{b}\\right) - \\frac{\\pi A_{z} n_{x} \\cos\\left(\\frac{\\pi n_{x} x}{a}\\right) \\sin\\left(\\frac{\\pi n_{y} y}{b}\\right)}{a}\\right)} c}{\\mu \\omega}$"
      ],
      "text/plain": [
       "<IPython.core.display.Math object>"
      ]
     },
     "metadata": {},
     "output_type": "display_data"
    }
   ],
   "source": [
    "disp(H_y_em.subs(z==0).subs(k_subs_xy))"
   ]
  },
  {
   "cell_type": "code",
   "execution_count": 35,
   "metadata": {},
   "outputs": [
    {
     "data": {
      "text/latex": [
       "$\\displaystyle -\\frac{\\frac{{\\left(A_{z} k_{y} \\cos\\left(k_{y} y\\right) \\cos\\left(k_{z} z\\right) \\sin\\left(k_{x} x\\right) - A_{y} k_{z} \\cos\\left(k_{y} y\\right) \\cos\\left(k_{z} z\\right) \\sin\\left(k_{x} x\\right)\\right)}^{2}}{\\mu^{2} {\\left(\\frac{k_{x}^{2}}{\\epsilon \\mu} + \\frac{k_{y}^{2}}{\\epsilon \\mu} + \\frac{k_{z}^{2}}{\\epsilon \\mu}\\right)}} + \\frac{{\\left(A_{z} k_{x} \\cos\\left(k_{x} x\\right) \\cos\\left(k_{z} z\\right) \\sin\\left(k_{y} y\\right) - A_{x} k_{z} \\cos\\left(k_{x} x\\right) \\cos\\left(k_{z} z\\right) \\sin\\left(k_{y} y\\right)\\right)}^{2}}{\\mu^{2} {\\left(\\frac{k_{x}^{2}}{\\epsilon \\mu} + \\frac{k_{y}^{2}}{\\epsilon \\mu} + \\frac{k_{z}^{2}}{\\epsilon \\mu}\\right)}} + \\frac{{\\left(A_{y} k_{x} \\cos\\left(k_{x} x\\right) \\cos\\left(k_{y} y\\right) \\sin\\left(k_{z} z\\right) - A_{x} k_{y} \\cos\\left(k_{x} x\\right) \\cos\\left(k_{y} y\\right) \\sin\\left(k_{z} z\\right)\\right)}^{2}}{\\mu^{2} {\\left(\\frac{k_{x}^{2}}{\\epsilon \\mu} + \\frac{k_{y}^{2}}{\\epsilon \\mu} + \\frac{k_{z}^{2}}{\\epsilon \\mu}\\right)}}}{8 \\, \\pi}$"
      ],
      "text/plain": [
       "<IPython.core.display.Math object>"
      ]
     },
     "metadata": {},
     "output_type": "display_data"
    }
   ],
   "source": [
    "disp(((H_x_em^2+H_y_em^2+H_z_em^2)/(8*pi)).subs(omega_1))"
   ]
  },
  {
   "cell_type": "code",
   "execution_count": 36,
   "metadata": {},
   "outputs": [
    {
     "data": {
      "text/latex": [
       "$\\displaystyle \\frac{2 \\, {\\left(A_{x}^{2} + A_{y}^{2} + A_{z}^{2}\\right)} a b h k_{z} - {\\left(A_{x}^{2} + A_{y}^{2} - A_{z}^{2}\\right)} a b \\sin\\left(2 \\, h k_{z}\\right)}{128 \\, \\pi k_{z}}$"
      ],
      "text/plain": [
       "<IPython.core.display.Math object>"
      ]
     },
     "metadata": {},
     "output_type": "display_data"
    }
   ],
   "source": [
    "E_E_em = ((E_x_em^2+E_y_em^2+E_z_em^2)/(8*pi)).subs(k_subs_xy).integrate(x, 0, a).integrate(y, 0, b).integrate(z, 0, h)\n",
    "disp(E_E_em)"
   ]
  },
  {
   "cell_type": "code",
   "execution_count": 37,
   "metadata": {},
   "outputs": [
    {
     "data": {
      "text/latex": [
       "$\\displaystyle -\\frac{{\\left(A_{x}^{2} + A_{y}^{2}\\right)} a^{4} b^{3} h k_{z}^{5} + {\\left(A_{x}^{2} + A_{y}^{2}\\right)} a^{4} b^{3} k_{z}^{4} \\cos\\left(h k_{z}\\right) \\sin\\left(h k_{z}\\right) + {\\left(\\pi^{4} A_{x}^{2} b^{3} h k_{z} + \\pi^{4} A_{x}^{2} b^{3} \\cos\\left(h k_{z}\\right) \\sin\\left(h k_{z}\\right)\\right)} n_{x}^{4} + 2 \\, {\\left(\\pi^{4} A_{x} A_{y} a^{2} b h k_{z} + \\pi^{4} A_{x} A_{y} a^{2} b \\cos\\left(h k_{z}\\right) \\sin\\left(h k_{z}\\right)\\right)} n_{x} n_{y}^{3} + {\\left(\\pi^{4} A_{y}^{2} a^{2} b h k_{z} + \\pi^{4} A_{y}^{2} a^{2} b \\cos\\left(h k_{z}\\right) \\sin\\left(h k_{z}\\right)\\right)} n_{y}^{4} + {\\left({\\left(2 \\, \\pi^{2} A_{x}^{2} + \\pi^{2} A_{y}^{2}\\right)} a^{2} b^{3} h k_{z}^{3} + {\\left(2 \\, \\pi^{2} A_{x}^{2} - \\pi^{2} A_{y}^{2}\\right)} a^{2} b^{3} k_{z}^{2} \\cos\\left(h k_{z}\\right) \\sin\\left(h k_{z}\\right)\\right)} n_{x}^{2} + {\\left({\\left(\\pi^{2} A_{x}^{2} a^{4} b + 2 \\, \\pi^{2} A_{y}^{2} a^{3} b^{2}\\right)} h k_{z}^{3} - {\\left(\\pi^{2} A_{x}^{2} a^{4} b - 2 \\, \\pi^{2} A_{y}^{2} a^{3} b^{2}\\right)} k_{z}^{2} \\cos\\left(h k_{z}\\right) \\sin\\left(h k_{z}\\right) + {\\left({\\left(\\pi^{4} A_{x}^{2} a^{2} b + \\pi^{4} A_{y}^{2} b^{3}\\right)} h k_{z} + {\\left(\\pi^{4} A_{x}^{2} a^{2} b + \\pi^{4} A_{y}^{2} b^{3}\\right)} \\cos\\left(h k_{z}\\right) \\sin\\left(h k_{z}\\right)\\right)} n_{x}^{2}\\right)} n_{y}^{2} + 2 \\, {\\left({\\left(\\pi^{4} A_{x} A_{y} b^{3} h k_{z} + \\pi^{4} A_{x} A_{y} b^{3} \\cos\\left(h k_{z}\\right) \\sin\\left(h k_{z}\\right)\\right)} n_{x}^{3} + {\\left(\\pi^{2} A_{x} A_{y} a^{2} b^{3} h k_{z}^{3} + {\\left(2 \\, \\pi^{2} A_{x} A_{y} a^{3} b^{2} + \\pi^{2} A_{x} A_{y} a^{2} b^{3}\\right)} k_{z}^{2} \\cos\\left(h k_{z}\\right) \\sin\\left(h k_{z}\\right)\\right)} n_{x}\\right)} n_{y}}{64 \\, {\\left(\\pi a^{3} b^{2} k_{z}^{5} + \\pi^{3} a b^{2} k_{z}^{3} n_{x}^{2} + \\pi^{3} a^{3} k_{z}^{3} n_{y}^{2}\\right)}}$"
      ],
      "text/plain": [
       "<IPython.core.display.Math object>"
      ]
     },
     "metadata": {},
     "output_type": "display_data"
    }
   ],
   "source": [
    "E_H_em = (((H_x_em^2+H_y_em^2+H_z_em^2)/(8*pi)).subs(omega_1).subs(k_subs_xy).subs(epsilon == 1, mu == 1).subs(solve(eq_A, A_3)).integrate(x, 0, a).integrate(y, 0, b).integrate(z, 0, h).subs(omega_2)).expand().full_simplify()\n",
    "disp(E_H_em)"
   ]
  },
  {
   "cell_type": "code",
   "execution_count": 38,
   "metadata": {},
   "outputs": [
    {
     "data": {
      "text/latex": [
       "$\\displaystyle \\frac{2 \\, {\\left(A_{x}^{2} + A_{y}^{2}\\right)} a^{2} b h k_{z}^{3} - {\\left(A_{x}^{2} + A_{y}^{2}\\right)} a^{2} b k_{z}^{2} \\sin\\left(2 \\, h k_{z}\\right) + {\\left(2 \\, \\pi^{2} A_{x}^{2} b h k_{z} + \\pi^{2} A_{x}^{2} b \\sin\\left(2 \\, h k_{z}\\right)\\right)} n_{x}^{2} + 2 \\, {\\left(2 \\, \\pi^{2} A_{x} A_{y} b h k_{z} + \\pi^{2} A_{x} A_{y} b \\sin\\left(2 \\, h k_{z}\\right)\\right)} n_{x} n_{y} + {\\left(2 \\, \\pi^{2} A_{y}^{2} b h k_{z} + \\pi^{2} A_{y}^{2} b \\sin\\left(2 \\, h k_{z}\\right)\\right)} n_{y}^{2}}{128 \\, \\pi a k_{z}^{3}}$"
      ],
      "text/plain": [
       "<IPython.core.display.Math object>"
      ]
     },
     "metadata": {},
     "output_type": "display_data"
    }
   ],
   "source": [
    "E_E_em = ((E_x_em^2+E_y_em^2+E_z_em^2)/(8*pi)).subs(k_subs_xy).subs(solve(eq_A, A_3)).integrate(x, 0, a).integrate(y, 0, b).integrate(z, 0, h)\n",
    "disp(E_E_em)"
   ]
  },
  {
   "cell_type": "markdown",
   "metadata": {},
   "source": [
    "$E_H = E_E$"
   ]
  },
  {
   "cell_type": "markdown",
   "metadata": {},
   "source": [
    "$E = \\frac{\\hbar\\omega}{2} = \\frac{\\hbar\\,c}{2}\\sqrt{k_x^2+k_y^2+k_z^2}$"
   ]
  },
  {
   "cell_type": "code",
   "execution_count": 39,
   "metadata": {},
   "outputs": [
    {
     "data": {
      "text/latex": [
       "$\\displaystyle -\\frac{2 \\, \\pi^{2} A_{x}^{2} a^{2} b^{3} k_{z}^{2} n_{x}^{2} + \\pi^{4} A_{x}^{2} b^{3} n_{x}^{4} + 2 \\, \\pi^{4} A_{x} A_{y} a^{2} b n_{x} n_{y}^{3} + \\pi^{4} A_{y}^{2} a^{2} b n_{y}^{4} + {\\left(A_{x}^{2} + A_{y}^{2}\\right)} a^{4} b^{3} k_{z}^{4} + {\\left(2 \\, \\pi^{2} A_{y}^{2} a^{3} b^{2} k_{z}^{2} + {\\left(\\pi^{4} A_{x}^{2} a^{2} b + \\pi^{4} A_{y}^{2} b^{3}\\right)} n_{x}^{2}\\right)} n_{y}^{2} + 2 \\, {\\left(\\pi^{4} A_{x} A_{y} b^{3} n_{x}^{3} + {\\left(\\pi^{2} A_{x} A_{y} a^{3} b^{2} + \\pi^{2} A_{x} A_{y} a^{2} b^{3}\\right)} k_{z}^{2} n_{x}\\right)} n_{y}}{32 \\, {\\left(\\pi a^{3} b^{2} k_{z}^{4} + \\pi^{3} a b^{2} k_{z}^{2} n_{x}^{2} + \\pi^{3} a^{3} k_{z}^{2} n_{y}^{2}\\right)}}$"
      ],
      "text/plain": [
       "<IPython.core.display.Math object>"
      ]
     },
     "metadata": {},
     "output_type": "display_data"
    }
   ],
   "source": [
    "F_z_em = (((H_x_em^2+H_y_em^2)/(8*pi)).subs(omega_1).subs(k_subs_xy).subs(epsilon == 1, mu == 1).subs(solve(eq_A, A_3)).integrate(x, 0, a).integrate(y, 0, b).subs(z == 0).subs(omega_2)).expand().full_simplify()\n",
    "disp(F_z_em)"
   ]
  },
  {
   "cell_type": "code",
   "execution_count": null,
   "metadata": {},
   "outputs": [],
   "source": []
  },
  {
   "cell_type": "markdown",
   "metadata": {},
   "source": [
    "$rot\\,\\vec{H} = - \\frac{i\\,\\omega}{c} \\epsilon \\vec{E}$"
   ]
  },
  {
   "cell_type": "code",
   "execution_count": 40,
   "metadata": {},
   "outputs": [],
   "source": [
    "rotH_x_em = H_z_em.diff(y) - H_y_em.diff(z)\n",
    "rotH_y_em = H_x_em.diff(z) - H_z_em.diff(x)\n",
    "rotH_z_em = H_y_em.diff(x) - H_x_em.diff(y)"
   ]
  },
  {
   "cell_type": "code",
   "execution_count": 41,
   "metadata": {},
   "outputs": [],
   "source": [
    "E_x_rotH_em = - c / (I * omega * epsilon) * rotH_x_em\n",
    "E_y_rotH_em = - c / (I * omega * epsilon) * rotH_y_em\n",
    "E_z_rotH_em = - c / (I * omega * epsilon) * rotH_z_em"
   ]
  },
  {
   "cell_type": "code",
   "execution_count": 42,
   "metadata": {},
   "outputs": [
    {
     "data": {
      "text/latex": [
       "$\\displaystyle -\\frac{{\\left(A_{y} k_{x} k_{y} - A_{x} k_{y}^{2} + A_{z} k_{x} k_{z} - A_{x} k_{z}^{2}\\right)} c^{2} \\cos\\left(k_{x} x\\right) \\sin\\left(k_{y} y\\right) \\sin\\left(k_{z} z\\right)}{\\epsilon \\mu \\omega^{2}}$"
      ],
      "text/plain": [
       "<IPython.core.display.Math object>"
      ]
     },
     "metadata": {},
     "output_type": "display_data"
    },
    {
     "data": {
      "text/latex": [
       "$\\displaystyle \\frac{{\\left(A_{y} k_{x}^{2} - A_{x} k_{x} k_{y} - A_{z} k_{y} k_{z} + A_{y} k_{z}^{2}\\right)} c^{2} \\cos\\left(k_{y} y\\right) \\sin\\left(k_{x} x\\right) \\sin\\left(k_{z} z\\right)}{\\epsilon \\mu \\omega^{2}}$"
      ],
      "text/plain": [
       "<IPython.core.display.Math object>"
      ]
     },
     "metadata": {},
     "output_type": "display_data"
    },
    {
     "data": {
      "text/latex": [
       "$\\displaystyle \\frac{{\\left(A_{z} k_{x}^{2} + A_{z} k_{y}^{2} - A_{x} k_{x} k_{z} - A_{y} k_{y} k_{z}\\right)} c^{2} \\cos\\left(k_{z} z\\right) \\sin\\left(k_{x} x\\right) \\sin\\left(k_{y} y\\right)}{\\epsilon \\mu \\omega^{2}}$"
      ],
      "text/plain": [
       "<IPython.core.display.Math object>"
      ]
     },
     "metadata": {},
     "output_type": "display_data"
    }
   ],
   "source": [
    "display(Math(latex(E_x_rotH_em.full_simplify().factor())))\n",
    "display(Math(latex(E_y_rotH_em.full_simplify().factor())))\n",
    "display(Math(latex(E_z_rotH_em.full_simplify().factor())))"
   ]
  },
  {
   "cell_type": "code",
   "execution_count": 43,
   "metadata": {},
   "outputs": [],
   "source": [
    "# сравниваем выражения для электрического поля\n",
    "\n",
    "eq_x_em = (E_x_rotH_em - E_x_em)/(e_x) == 0\n",
    "eq_y_em = (E_y_rotH_em - E_y_em)/(e_y) == 0\n",
    "eq_z_em = (E_z_rotH_em - E_z_em)/(e_z) == 0"
   ]
  },
  {
   "cell_type": "code",
   "execution_count": 44,
   "metadata": {},
   "outputs": [
    {
     "data": {
      "text/latex": [
       "$\\displaystyle -\\frac{A_{x} \\cos\\left(k_{x} x\\right) \\sin\\left(k_{y} y\\right) \\sin\\left(k_{z} z\\right) - \\frac{i \\, c {\\left(\\frac{i \\, {\\left(A_{y} k_{x} k_{y} \\cos\\left(k_{x} x\\right) \\sin\\left(k_{y} y\\right) \\sin\\left(k_{z} z\\right) - A_{x} k_{y}^{2} \\cos\\left(k_{x} x\\right) \\sin\\left(k_{y} y\\right) \\sin\\left(k_{z} z\\right)\\right)} c}{\\mu \\omega} + \\frac{i \\, {\\left(A_{z} k_{x} k_{z} \\cos\\left(k_{x} x\\right) \\sin\\left(k_{y} y\\right) \\sin\\left(k_{z} z\\right) - A_{x} k_{z}^{2} \\cos\\left(k_{x} x\\right) \\sin\\left(k_{y} y\\right) \\sin\\left(k_{z} z\\right)\\right)} c}{\\mu \\omega}\\right)}}{\\epsilon \\omega}}{\\cos\\left(k_{x} x\\right) \\sin\\left(k_{y} y\\right) \\sin\\left(k_{z} z\\right)} = 0$"
      ],
      "text/plain": [
       "<IPython.core.display.Math object>"
      ]
     },
     "metadata": {},
     "output_type": "display_data"
    },
    {
     "data": {
      "text/latex": [
       "$\\displaystyle -\\frac{A_{y} \\cos\\left(k_{y} y\\right) \\sin\\left(k_{x} x\\right) \\sin\\left(k_{z} z\\right) - \\frac{i \\, c {\\left(-\\frac{i \\, {\\left(A_{y} k_{x}^{2} \\cos\\left(k_{y} y\\right) \\sin\\left(k_{x} x\\right) \\sin\\left(k_{z} z\\right) - A_{x} k_{x} k_{y} \\cos\\left(k_{y} y\\right) \\sin\\left(k_{x} x\\right) \\sin\\left(k_{z} z\\right)\\right)} c}{\\mu \\omega} + \\frac{i \\, {\\left(A_{z} k_{y} k_{z} \\cos\\left(k_{y} y\\right) \\sin\\left(k_{x} x\\right) \\sin\\left(k_{z} z\\right) - A_{y} k_{z}^{2} \\cos\\left(k_{y} y\\right) \\sin\\left(k_{x} x\\right) \\sin\\left(k_{z} z\\right)\\right)} c}{\\mu \\omega}\\right)}}{\\epsilon \\omega}}{\\cos\\left(k_{y} y\\right) \\sin\\left(k_{x} x\\right) \\sin\\left(k_{z} z\\right)} = 0$"
      ],
      "text/plain": [
       "<IPython.core.display.Math object>"
      ]
     },
     "metadata": {},
     "output_type": "display_data"
    },
    {
     "data": {
      "text/latex": [
       "$\\displaystyle -\\frac{A_{z} \\cos\\left(k_{z} z\\right) \\sin\\left(k_{x} x\\right) \\sin\\left(k_{y} y\\right) - \\frac{i \\, c {\\left(-\\frac{i \\, {\\left(A_{z} k_{x}^{2} \\cos\\left(k_{z} z\\right) \\sin\\left(k_{x} x\\right) \\sin\\left(k_{y} y\\right) - A_{x} k_{x} k_{z} \\cos\\left(k_{z} z\\right) \\sin\\left(k_{x} x\\right) \\sin\\left(k_{y} y\\right)\\right)} c}{\\mu \\omega} - \\frac{i \\, {\\left(A_{z} k_{y}^{2} \\cos\\left(k_{z} z\\right) \\sin\\left(k_{x} x\\right) \\sin\\left(k_{y} y\\right) - A_{y} k_{y} k_{z} \\cos\\left(k_{z} z\\right) \\sin\\left(k_{x} x\\right) \\sin\\left(k_{y} y\\right)\\right)} c}{\\mu \\omega}\\right)}}{\\epsilon \\omega}}{\\cos\\left(k_{z} z\\right) \\sin\\left(k_{x} x\\right) \\sin\\left(k_{y} y\\right)} = 0$"
      ],
      "text/plain": [
       "<IPython.core.display.Math object>"
      ]
     },
     "metadata": {},
     "output_type": "display_data"
    }
   ],
   "source": [
    "display(Math(latex(eq_x_em)))\n",
    "display(Math(latex(eq_y_em)))\n",
    "display(Math(latex(eq_z_em)))"
   ]
  },
  {
   "cell_type": "code",
   "execution_count": 45,
   "metadata": {},
   "outputs": [
    {
     "data": {
      "text/latex": [
       "$\\displaystyle -\\frac{A_{y} c^{2} k_{x} k_{y} - A_{x} c^{2} k_{y}^{2} + A_{z} c^{2} k_{x} k_{z} - A_{x} c^{2} k_{z}^{2} + A_{x} \\epsilon \\mu \\omega^{2}}{\\epsilon \\mu \\omega^{2}} = 0$"
      ],
      "text/plain": [
       "<IPython.core.display.Math object>"
      ]
     },
     "metadata": {},
     "output_type": "display_data"
    },
    {
     "data": {
      "text/latex": [
       "$\\displaystyle \\frac{A_{y} c^{2} k_{x}^{2} - A_{x} c^{2} k_{x} k_{y} - A_{z} c^{2} k_{y} k_{z} + A_{y} c^{2} k_{z}^{2} - A_{y} \\epsilon \\mu \\omega^{2}}{\\epsilon \\mu \\omega^{2}} = 0$"
      ],
      "text/plain": [
       "<IPython.core.display.Math object>"
      ]
     },
     "metadata": {},
     "output_type": "display_data"
    },
    {
     "data": {
      "text/latex": [
       "$\\displaystyle \\frac{A_{z} c^{2} k_{x}^{2} + A_{z} c^{2} k_{y}^{2} - A_{x} c^{2} k_{x} k_{z} - A_{y} c^{2} k_{y} k_{z} - A_{z} \\epsilon \\mu \\omega^{2}}{\\epsilon \\mu \\omega^{2}} = 0$"
      ],
      "text/plain": [
       "<IPython.core.display.Math object>"
      ]
     },
     "metadata": {},
     "output_type": "display_data"
    }
   ],
   "source": [
    "display(Math(latex(eq_x_em.full_simplify().factor())))\n",
    "display(Math(latex(eq_y_em.full_simplify().factor())))\n",
    "display(Math(latex(eq_z_em.full_simplify().factor())))"
   ]
  },
  {
   "cell_type": "code",
   "execution_count": 46,
   "metadata": {},
   "outputs": [
    {
     "data": {
      "text/latex": [
       "$\\displaystyle -A_{y} c^{2} k_{x} k_{y} + A_{x} c^{2} k_{y}^{2} - A_{z} c^{2} k_{x} k_{z} + A_{x} c^{2} k_{z}^{2} - A_{x} \\epsilon \\mu \\omega^{2} = 0$"
      ],
      "text/plain": [
       "<IPython.core.display.Math object>"
      ]
     },
     "metadata": {},
     "output_type": "display_data"
    },
    {
     "data": {
      "text/latex": [
       "$\\displaystyle A_{y} c^{2} k_{x}^{2} - A_{x} c^{2} k_{x} k_{y} - A_{z} c^{2} k_{y} k_{z} + A_{y} c^{2} k_{z}^{2} - A_{y} \\epsilon \\mu \\omega^{2} = 0$"
      ],
      "text/plain": [
       "<IPython.core.display.Math object>"
      ]
     },
     "metadata": {},
     "output_type": "display_data"
    },
    {
     "data": {
      "text/latex": [
       "$\\displaystyle A_{z} c^{2} k_{x}^{2} + A_{z} c^{2} k_{y}^{2} - A_{x} c^{2} k_{x} k_{z} - A_{y} c^{2} k_{y} k_{z} - A_{z} \\epsilon \\mu \\omega^{2} = 0$"
      ],
      "text/plain": [
       "<IPython.core.display.Math object>"
      ]
     },
     "metadata": {},
     "output_type": "display_data"
    },
    {
     "data": {
      "text/latex": [
       "$\\displaystyle A_{z} k_{z} + \\frac{\\pi A_{x} n_{x}}{a} + \\frac{\\pi A_{y} n_{y}}{a} = 0$"
      ],
      "text/plain": [
       "<IPython.core.display.Math object>"
      ]
     },
     "metadata": {},
     "output_type": "display_data"
    }
   ],
   "source": [
    "eq_x_em = eq_x_em.full_simplify().factor().lhs().numerator() == 0\n",
    "eq_y_em = eq_y_em.full_simplify().factor().lhs().numerator() == 0\n",
    "eq_z_em = eq_z_em.full_simplify().factor().lhs().numerator() == 0\n",
    "\n",
    "disp(eq_x_em)\n",
    "disp(eq_y_em)\n",
    "disp(eq_z_em)\n",
    "\n",
    "disp(eq_A)"
   ]
  },
  {
   "cell_type": "code",
   "execution_count": 47,
   "metadata": {},
   "outputs": [
    {
     "data": {
      "text/latex": [
       "$\\displaystyle \\omega^{2} = \\frac{c^{2} k_{z}^{2} + \\frac{\\pi^{2} c^{2} n_{x}^{2}}{a^{2}} + \\frac{\\pi^{2} c^{2} n_{y}^{2}}{b^{2}}}{\\epsilon \\mu}$"
      ],
      "text/plain": [
       "<IPython.core.display.Math object>"
      ]
     },
     "metadata": {},
     "output_type": "display_data"
    }
   ],
   "source": [
    "omega_2 = omega_2.subs(k_subs_xy)\n",
    "display(Math(latex(omega_2)))"
   ]
  },
  {
   "cell_type": "code",
   "execution_count": 48,
   "metadata": {},
   "outputs": [
    {
     "data": {
      "text/latex": [
       "$\\displaystyle \\omega^{2} = \\frac{c^{2} k_{z}^{2} + \\frac{\\pi^{2} c^{2} n_{x}^{2}}{a^{2}} + \\frac{\\pi^{2} c^{2} n_{y}^{2}}{a^{2}}}{\\epsilon \\mu}$"
      ],
      "text/plain": [
       "<IPython.core.display.Math object>"
      ]
     },
     "metadata": {},
     "output_type": "display_data"
    }
   ],
   "source": [
    "if True:\n",
    "    omega_2 = omega_2.subs(b == a)\n",
    "    display(Math(latex(omega_2)))"
   ]
  },
  {
   "cell_type": "code",
   "execution_count": 49,
   "metadata": {},
   "outputs": [
    {
     "data": {
      "text/latex": [
       "$\\displaystyle A_{x} c^{2} k_{z}^{2} - \\frac{\\pi A_{z} c^{2} k_{z} n_{x}}{a} - \\frac{\\pi^{2} A_{y} c^{2} n_{x} n_{y}}{a b} + \\frac{\\pi^{2} A_{x} c^{2} n_{y}^{2}}{b^{2}} - {\\left(c^{2} k_{z}^{2} + \\frac{\\pi^{2} c^{2} n_{x}^{2}}{a^{2}} + \\frac{\\pi^{2} c^{2} n_{y}^{2}}{a^{2}}\\right)} A_{x} = 0$"
      ],
      "text/plain": [
       "<IPython.core.display.Math object>"
      ]
     },
     "metadata": {},
     "output_type": "display_data"
    },
    {
     "data": {
      "text/latex": [
       "$\\displaystyle A_{y} c^{2} k_{z}^{2} + \\frac{\\pi^{2} A_{y} c^{2} n_{x}^{2}}{a^{2}} - \\frac{\\pi A_{z} c^{2} k_{z} n_{y}}{b} - \\frac{\\pi^{2} A_{x} c^{2} n_{x} n_{y}}{a b} - {\\left(c^{2} k_{z}^{2} + \\frac{\\pi^{2} c^{2} n_{x}^{2}}{a^{2}} + \\frac{\\pi^{2} c^{2} n_{y}^{2}}{a^{2}}\\right)} A_{y} = 0$"
      ],
      "text/plain": [
       "<IPython.core.display.Math object>"
      ]
     },
     "metadata": {},
     "output_type": "display_data"
    },
    {
     "data": {
      "text/latex": [
       "$\\displaystyle -\\frac{\\pi A_{x} c^{2} k_{z} n_{x}}{a} + \\frac{\\pi^{2} A_{z} c^{2} n_{x}^{2}}{a^{2}} - \\frac{\\pi A_{y} c^{2} k_{z} n_{y}}{b} + \\frac{\\pi^{2} A_{z} c^{2} n_{y}^{2}}{b^{2}} - {\\left(c^{2} k_{z}^{2} + \\frac{\\pi^{2} c^{2} n_{x}^{2}}{a^{2}} + \\frac{\\pi^{2} c^{2} n_{y}^{2}}{a^{2}}\\right)} A_{z} = 0$"
      ],
      "text/plain": [
       "<IPython.core.display.Math object>"
      ]
     },
     "metadata": {},
     "output_type": "display_data"
    },
    {
     "data": {
      "text/latex": [
       "$\\displaystyle A_{z} k_{z} + \\frac{\\pi A_{x} n_{x}}{a} + \\frac{\\pi A_{y} n_{y}}{a} = 0$"
      ],
      "text/plain": [
       "<IPython.core.display.Math object>"
      ]
     },
     "metadata": {},
     "output_type": "display_data"
    }
   ],
   "source": [
    "eq_x_em = eq_x_em.subs(k_subs_xy).subs(omega_2)\n",
    "eq_y_em = eq_y_em.subs(k_subs_xy).subs(omega_2)\n",
    "eq_z_em = eq_z_em.subs(k_subs_xy).subs(omega_2)\n",
    "\n",
    "disp(eq_x_em)\n",
    "disp(eq_y_em)\n",
    "disp(eq_z_em)\n",
    "\n",
    "disp(eq_A)"
   ]
  },
  {
   "cell_type": "code",
   "execution_count": 50,
   "metadata": {},
   "outputs": [
    {
     "data": {
      "text/latex": [
       "$\\displaystyle \\frac{A_{x} c^{2} k_{z}^{2} - \\frac{\\pi A_{z} c^{2} k_{z} n_{x}}{a} - \\frac{\\pi^{2} A_{y} c^{2} n_{x} n_{y}}{a b} + \\frac{\\pi^{2} A_{x} c^{2} n_{y}^{2}}{b^{2}} - {\\left(c^{2} k_{z}^{2} + \\frac{\\pi^{2} c^{2} n_{x}^{2}}{a^{2}} + \\frac{\\pi^{2} c^{2} n_{y}^{2}}{a^{2}}\\right)} A_{x}}{\\pi^{2} c^{2}} = 0$"
      ],
      "text/plain": [
       "<IPython.core.display.Math object>"
      ]
     },
     "metadata": {},
     "output_type": "display_data"
    },
    {
     "data": {
      "text/latex": [
       "$\\displaystyle \\frac{A_{y} c^{2} k_{z}^{2} + \\frac{\\pi^{2} A_{y} c^{2} n_{x}^{2}}{a^{2}} - \\frac{\\pi A_{z} c^{2} k_{z} n_{y}}{b} - \\frac{\\pi^{2} A_{x} c^{2} n_{x} n_{y}}{a b} - {\\left(c^{2} k_{z}^{2} + \\frac{\\pi^{2} c^{2} n_{x}^{2}}{a^{2}} + \\frac{\\pi^{2} c^{2} n_{y}^{2}}{a^{2}}\\right)} A_{y}}{\\pi^{2} c^{2}} = 0$"
      ],
      "text/plain": [
       "<IPython.core.display.Math object>"
      ]
     },
     "metadata": {},
     "output_type": "display_data"
    },
    {
     "data": {
      "text/latex": [
       "$\\displaystyle -\\frac{\\frac{\\pi A_{x} c^{2} k_{z} n_{x}}{a} - \\frac{\\pi^{2} A_{z} c^{2} n_{x}^{2}}{a^{2}} + \\frac{\\pi A_{y} c^{2} k_{z} n_{y}}{b} - \\frac{\\pi^{2} A_{z} c^{2} n_{y}^{2}}{b^{2}} + {\\left(c^{2} k_{z}^{2} + \\frac{\\pi^{2} c^{2} n_{x}^{2}}{a^{2}} + \\frac{\\pi^{2} c^{2} n_{y}^{2}}{a^{2}}\\right)} A_{z}}{\\pi^{2} c^{2}} = 0$"
      ],
      "text/plain": [
       "<IPython.core.display.Math object>"
      ]
     },
     "metadata": {},
     "output_type": "display_data"
    },
    {
     "data": {
      "text/latex": [
       "$\\displaystyle A_{z} k_{z} + \\frac{\\pi A_{x} n_{x}}{a} + \\frac{\\pi A_{y} n_{y}}{a} = 0$"
      ],
      "text/plain": [
       "<IPython.core.display.Math object>"
      ]
     },
     "metadata": {},
     "output_type": "display_data"
    }
   ],
   "source": [
    "eq_x_em = eq_x_em / (pi^2*c^2)\n",
    "eq_y_em = eq_y_em / (pi^2*c^2)\n",
    "eq_z_em = eq_z_em / (pi^2*c^2)\n",
    "\n",
    "disp(eq_x_em)\n",
    "disp(eq_y_em)\n",
    "disp(eq_z_em)\n",
    "\n",
    "disp(eq_A)"
   ]
  },
  {
   "cell_type": "code",
   "execution_count": 51,
   "metadata": {},
   "outputs": [
    {
     "data": {
      "text/latex": [
       "$\\displaystyle \\frac{A_{x} c^{2} k_{z}^{2} - \\frac{\\pi A_{z} c^{2} k_{z} n_{x}}{a} - \\frac{\\pi^{2} A_{y} c^{2} n_{x} n_{y}}{a^{2}} + \\frac{\\pi^{2} A_{x} c^{2} n_{y}^{2}}{a^{2}} - {\\left(c^{2} k_{z}^{2} + \\frac{\\pi^{2} c^{2} n_{x}^{2}}{a^{2}} + \\frac{\\pi^{2} c^{2} n_{y}^{2}}{a^{2}}\\right)} A_{x}}{\\pi^{2} c^{2}} = 0$"
      ],
      "text/plain": [
       "<IPython.core.display.Math object>"
      ]
     },
     "metadata": {},
     "output_type": "display_data"
    },
    {
     "data": {
      "text/latex": [
       "$\\displaystyle \\frac{A_{y} c^{2} k_{z}^{2} + \\frac{\\pi^{2} A_{y} c^{2} n_{x}^{2}}{a^{2}} - \\frac{\\pi A_{z} c^{2} k_{z} n_{y}}{a} - \\frac{\\pi^{2} A_{x} c^{2} n_{x} n_{y}}{a^{2}} - {\\left(c^{2} k_{z}^{2} + \\frac{\\pi^{2} c^{2} n_{x}^{2}}{a^{2}} + \\frac{\\pi^{2} c^{2} n_{y}^{2}}{a^{2}}\\right)} A_{y}}{\\pi^{2} c^{2}} = 0$"
      ],
      "text/plain": [
       "<IPython.core.display.Math object>"
      ]
     },
     "metadata": {},
     "output_type": "display_data"
    },
    {
     "data": {
      "text/latex": [
       "$\\displaystyle -\\frac{\\frac{\\pi A_{x} c^{2} k_{z} n_{x}}{a} - \\frac{\\pi^{2} A_{z} c^{2} n_{x}^{2}}{a^{2}} + \\frac{\\pi A_{y} c^{2} k_{z} n_{y}}{a} - \\frac{\\pi^{2} A_{z} c^{2} n_{y}^{2}}{a^{2}} + {\\left(c^{2} k_{z}^{2} + \\frac{\\pi^{2} c^{2} n_{x}^{2}}{a^{2}} + \\frac{\\pi^{2} c^{2} n_{y}^{2}}{a^{2}}\\right)} A_{z}}{\\pi^{2} c^{2}} = 0$"
      ],
      "text/plain": [
       "<IPython.core.display.Math object>"
      ]
     },
     "metadata": {},
     "output_type": "display_data"
    },
    {
     "data": {
      "text/latex": [
       "$\\displaystyle A_{z} k_{z} + \\frac{\\pi A_{x} n_{x}}{a} + \\frac{\\pi A_{y} n_{y}}{a} = 0$"
      ],
      "text/plain": [
       "<IPython.core.display.Math object>"
      ]
     },
     "metadata": {},
     "output_type": "display_data"
    }
   ],
   "source": [
    "if True:\n",
    "    eq_x_em = eq_x_em.subs(b == a)\n",
    "    eq_y_em = eq_y_em.subs(b == a)\n",
    "    eq_z_em = eq_z_em.subs(b == a)\n",
    "    eq_A_em = eq_A.subs(b == a)\n",
    "    \n",
    "disp(eq_x_em)\n",
    "disp(eq_y_em)\n",
    "disp(eq_z_em)\n",
    "\n",
    "disp(eq_A)"
   ]
  },
  {
   "cell_type": "code",
   "execution_count": 52,
   "metadata": {},
   "outputs": [
    {
     "data": {
      "text/latex": [
       "$\\displaystyle -\\frac{{\\left(A_{z} a k_{z} + \\pi A_{x} n_{x} + \\pi A_{y} n_{y}\\right)} n_{x}}{\\pi a^{2}} = 0$"
      ],
      "text/plain": [
       "<IPython.core.display.Math object>"
      ]
     },
     "metadata": {},
     "output_type": "display_data"
    },
    {
     "data": {
      "text/latex": [
       "$\\displaystyle -\\frac{{\\left(A_{z} a k_{z} + \\pi A_{x} n_{x} + \\pi A_{y} n_{y}\\right)} n_{y}}{\\pi a^{2}} = 0$"
      ],
      "text/plain": [
       "<IPython.core.display.Math object>"
      ]
     },
     "metadata": {},
     "output_type": "display_data"
    },
    {
     "data": {
      "text/latex": [
       "$\\displaystyle -\\frac{{\\left(A_{z} a k_{z} + \\pi A_{x} n_{x} + \\pi A_{y} n_{y}\\right)} k_{z}}{\\pi^{2} a} = 0$"
      ],
      "text/plain": [
       "<IPython.core.display.Math object>"
      ]
     },
     "metadata": {},
     "output_type": "display_data"
    },
    {
     "data": {
      "text/latex": [
       "$\\displaystyle A_{z} k_{z} + \\frac{\\pi A_{x} n_{x}}{a} + \\frac{\\pi A_{y} n_{y}}{a} = 0$"
      ],
      "text/plain": [
       "<IPython.core.display.Math object>"
      ]
     },
     "metadata": {},
     "output_type": "display_data"
    }
   ],
   "source": [
    "eq_x_em = eq_x_em.full_simplify().expand().factor()\n",
    "eq_y_em = eq_y_em.full_simplify().expand().factor()\n",
    "eq_z_em = eq_z_em.full_simplify().expand().factor()\n",
    "\n",
    "disp(eq_x_em)\n",
    "disp(eq_y_em)\n",
    "disp(eq_z_em)\n",
    "\n",
    "disp(eq_A)"
   ]
  },
  {
   "cell_type": "code",
   "execution_count": 53,
   "metadata": {},
   "outputs": [
    {
     "data": {
      "text/latex": [
       "$\\displaystyle -{\\left(A_{z} a k_{z} + \\pi A_{x} n_{x} + \\pi A_{y} n_{y}\\right)} n_{x} = 0$"
      ],
      "text/plain": [
       "<IPython.core.display.Math object>"
      ]
     },
     "metadata": {},
     "output_type": "display_data"
    },
    {
     "data": {
      "text/latex": [
       "$\\displaystyle -{\\left(A_{z} a k_{z} + \\pi A_{x} n_{x} + \\pi A_{y} n_{y}\\right)} n_{y} = 0$"
      ],
      "text/plain": [
       "<IPython.core.display.Math object>"
      ]
     },
     "metadata": {},
     "output_type": "display_data"
    },
    {
     "data": {
      "text/latex": [
       "$\\displaystyle -{\\left(A_{z} a k_{z} + \\pi A_{x} n_{x} + \\pi A_{y} n_{y}\\right)} k_{z} = 0$"
      ],
      "text/plain": [
       "<IPython.core.display.Math object>"
      ]
     },
     "metadata": {},
     "output_type": "display_data"
    },
    {
     "data": {
      "text/latex": [
       "$\\displaystyle A_{z} k_{z} + \\frac{\\pi A_{x} n_{x}}{a} + \\frac{\\pi A_{y} n_{y}}{a} = 0$"
      ],
      "text/plain": [
       "<IPython.core.display.Math object>"
      ]
     },
     "metadata": {},
     "output_type": "display_data"
    }
   ],
   "source": [
    "eq_x_em = eq_x_em.lhs().numerator() == 0\n",
    "eq_y_em = eq_y_em.lhs().numerator() == 0\n",
    "eq_z_em = eq_z_em.lhs().numerator() == 0\n",
    "\n",
    "disp(eq_x_em)\n",
    "disp(eq_y_em)\n",
    "disp(eq_z_em)\n",
    "\n",
    "disp(eq_A)"
   ]
  },
  {
   "cell_type": "code",
   "execution_count": 54,
   "metadata": {},
   "outputs": [
    {
     "data": {
      "text/latex": [
       "$\\displaystyle -{\\left(A_{z} a k_{z} + \\pi A_{x} n_{x} + \\pi A_{y} n_{y}\\right)} n_{x} = 0$"
      ],
      "text/plain": [
       "<IPython.core.display.Math object>"
      ]
     },
     "metadata": {},
     "output_type": "display_data"
    },
    {
     "data": {
      "text/latex": [
       "$\\displaystyle -{\\left(A_{z} a k_{z} + \\pi A_{x} n_{x} + \\pi A_{y} n_{y}\\right)} n_{y} = 0$"
      ],
      "text/plain": [
       "<IPython.core.display.Math object>"
      ]
     },
     "metadata": {},
     "output_type": "display_data"
    },
    {
     "data": {
      "text/latex": [
       "$\\displaystyle -{\\left(A_{z} a k_{z} + \\pi A_{x} n_{x} + \\pi A_{y} n_{y}\\right)} k_{z} = 0$"
      ],
      "text/plain": [
       "<IPython.core.display.Math object>"
      ]
     },
     "metadata": {},
     "output_type": "display_data"
    },
    {
     "data": {
      "text/latex": [
       "$\\displaystyle A_{z} k_{z} + \\frac{\\pi A_{x} n_{x}}{a} + \\frac{\\pi A_{y} n_{y}}{a} = 0$"
      ],
      "text/plain": [
       "<IPython.core.display.Math object>"
      ]
     },
     "metadata": {},
     "output_type": "display_data"
    }
   ],
   "source": [
    "display(Math(latex(eq_x_em)))\n",
    "display(Math(latex(eq_y_em)))\n",
    "display(Math(latex(eq_z_em)))\n",
    "display(Math(latex(eq_A)))"
   ]
  },
  {
   "cell_type": "code",
   "execution_count": null,
   "metadata": {},
   "outputs": [],
   "source": []
  },
  {
   "cell_type": "markdown",
   "metadata": {},
   "source": [
    "$div\\,\\vec{B} = 0$ or in case if $\\mu = const$ $div\\,\\vec{H} = 0$ "
   ]
  },
  {
   "cell_type": "code",
   "execution_count": 55,
   "metadata": {},
   "outputs": [
    {
     "data": {
      "text/latex": [
       "$\\displaystyle -\\frac{i \\, {\\left(A_{z} k_{x} k_{y} \\cos\\left(k_{x} x\\right) \\cos\\left(k_{y} y\\right) \\cos\\left(k_{z} z\\right) - A_{y} k_{x} k_{z} \\cos\\left(k_{x} x\\right) \\cos\\left(k_{y} y\\right) \\cos\\left(k_{z} z\\right)\\right)} c}{\\mu \\omega} + \\frac{i \\, {\\left(A_{z} k_{x} k_{y} \\cos\\left(k_{x} x\\right) \\cos\\left(k_{y} y\\right) \\cos\\left(k_{z} z\\right) - A_{x} k_{y} k_{z} \\cos\\left(k_{x} x\\right) \\cos\\left(k_{y} y\\right) \\cos\\left(k_{z} z\\right)\\right)} c}{\\mu \\omega} - \\frac{i \\, {\\left(A_{y} k_{x} k_{z} \\cos\\left(k_{x} x\\right) \\cos\\left(k_{y} y\\right) \\cos\\left(k_{z} z\\right) - A_{x} k_{y} k_{z} \\cos\\left(k_{x} x\\right) \\cos\\left(k_{y} y\\right) \\cos\\left(k_{z} z\\right)\\right)} c}{\\mu \\omega}$"
      ],
      "text/plain": [
       "<IPython.core.display.Math object>"
      ]
     },
     "metadata": {},
     "output_type": "display_data"
    }
   ],
   "source": [
    "div_H_em = H_x_em.diff(x) + H_y_em.diff(y) + H_z_em.diff(z)\n",
    "disp(div_H_em)"
   ]
  },
  {
   "cell_type": "code",
   "execution_count": 56,
   "metadata": {},
   "outputs": [
    {
     "data": {
      "text/latex": [
       "$\\displaystyle 0 = 0$"
      ],
      "text/plain": [
       "<IPython.core.display.Math object>"
      ]
     },
     "metadata": {},
     "output_type": "display_data"
    }
   ],
   "source": [
    "disp(div_H_em.full_simplify().factor() == 0)"
   ]
  },
  {
   "cell_type": "code",
   "execution_count": null,
   "metadata": {},
   "outputs": [],
   "source": []
  },
  {
   "cell_type": "code",
   "execution_count": 57,
   "metadata": {},
   "outputs": [],
   "source": [
    "def GenerateMatrix(equsys, vars):\n",
    "    A=matrix(SR, [[(equ.lhs() - equ.rhs()).coefficient(v) for v in vars] for equ in equsys])\n",
    "    return A"
   ]
  },
  {
   "cell_type": "code",
   "execution_count": 58,
   "metadata": {},
   "outputs": [],
   "source": [
    "vars = [A_1, A_2, A_3]"
   ]
  },
  {
   "cell_type": "code",
   "execution_count": 59,
   "metadata": {},
   "outputs": [],
   "source": [
    "eqs3 = [eq_x_em, eq_y_em, eq_z_em]"
   ]
  },
  {
   "cell_type": "code",
   "execution_count": 60,
   "metadata": {},
   "outputs": [],
   "source": [
    "eqs3 = [eq_x_em, eq_y_em, eq_A]"
   ]
  },
  {
   "cell_type": "code",
   "execution_count": 61,
   "metadata": {},
   "outputs": [],
   "source": [
    "eqs4 = [eq_x_em, eq_y_em, eq_z_em, eq_A]"
   ]
  },
  {
   "cell_type": "code",
   "execution_count": 62,
   "metadata": {},
   "outputs": [],
   "source": [
    "M = GenerateMatrix(eqs3, vars)"
   ]
  },
  {
   "cell_type": "code",
   "execution_count": 63,
   "metadata": {},
   "outputs": [
    {
     "data": {
      "text/latex": [
       "$\\displaystyle \\left(\\begin{array}{rrr}\n",
       "-\\pi n_{x}^{2} & -\\pi n_{x} n_{y} & -a k_{z} n_{x} \\\\\n",
       "-\\pi n_{x} n_{y} & -\\pi n_{y}^{2} & -a k_{z} n_{y} \\\\\n",
       "\\frac{\\pi n_{x}}{a} & \\frac{\\pi n_{y}}{a} & k_{z}\n",
       "\\end{array}\\right)$"
      ],
      "text/plain": [
       "<IPython.core.display.Math object>"
      ]
     },
     "metadata": {},
     "output_type": "display_data"
    }
   ],
   "source": [
    "display(Math(latex(M)))"
   ]
  },
  {
   "cell_type": "code",
   "execution_count": 64,
   "metadata": {},
   "outputs": [
    {
     "data": {
      "text/latex": [
       "$\\displaystyle 0$"
      ],
      "text/plain": [
       "<IPython.core.display.Math object>"
      ]
     },
     "metadata": {},
     "output_type": "display_data"
    }
   ],
   "source": [
    "display(Math(latex(M.determinant())))"
   ]
  },
  {
   "cell_type": "code",
   "execution_count": null,
   "metadata": {},
   "outputs": [],
   "source": []
  },
  {
   "cell_type": "code",
   "execution_count": null,
   "metadata": {},
   "outputs": [],
   "source": []
  },
  {
   "cell_type": "markdown",
   "metadata": {},
   "source": [
    "Магнитная мода колебаний"
   ]
  },
  {
   "cell_type": "markdown",
   "metadata": {},
   "source": [
    "$rot\\,rot\\,\\vec{H} = - \\frac{i\\,\\omega}{c} \\epsilon_{\\alpha\\,\\beta} rot\\, \\vec{E}  + \\frac{4\\pi}{c} \\sigma rot\\,\\vec{E}$\n",
    "\n",
    "$rot\\,rot\\,\\vec{H} = \\left(- \\frac{i\\,\\omega}{c} \\epsilon_{\\alpha\\,\\beta} + \\frac{4\\pi}{c} \\sigma \\right) rot\\,\\vec{E}$\n",
    "\n",
    "$rot\\,rot\\,\\vec{H} = \\left(- \\frac{i\\,\\omega}{c} \\epsilon_{\\alpha\\,\\beta} + \\frac{4\\pi}{c} \\sigma \\right) \\mu\\,\\frac{i\\,\\omega}{c}\\,\\vec{H}$\n",
    "\n",
    "$rot\\,rot\\,\\vec{H} = \\mu\\,\\left(\\frac{\\omega^2}{c^2} \\epsilon_{\\alpha\\,\\beta} + i\\,\\frac{4\\pi\\omega}{c^2} \\sigma \\right)\\,\\vec{H}$\n",
    "\n",
    "$rot\\,rot\\,\\vec{H} = \\mu\\,\\frac{\\omega^2}{c^2}\\left(\\epsilon_{\\alpha\\,\\beta} + 4\\pi\\,i\\,\\frac{\\sigma}{\\omega}  \\right)\\,\\vec{H}$\n",
    "\n",
    "$rot\\,rot\\,\\vec{H} = grad\\,div\\,\\vec{H} - Laplasian\\,\\vec{H}$\n",
    "\n",
    "$Laplasian\\,\\vec{H} + \\frac{\\mu \\epsilon \\omega^2}{c^2}\\,\\vec{H} - grad\\,div\\,\\vec{H} = 0$"
   ]
  },
  {
   "cell_type": "code",
   "execution_count": 65,
   "metadata": {},
   "outputs": [],
   "source": [
    "B_1 = var ('B_1')\n",
    "B_2 = var ('B_2')\n",
    "B_3 = var ('B_3')"
   ]
  },
  {
   "cell_type": "code",
   "execution_count": 66,
   "metadata": {},
   "outputs": [],
   "source": [
    "# выражения для магнитного поля\n",
    "\n",
    "h_x = sin(k_1*x)*cos(k_2*y)*cos(k_3*z)\n",
    "h_y = cos(k_1*x)*sin(k_2*y)*cos(k_3*z)\n",
    "h_z = cos(k_1*x)*cos(k_2*y)*sin(k_3*z)"
   ]
  },
  {
   "cell_type": "code",
   "execution_count": 67,
   "metadata": {},
   "outputs": [],
   "source": [
    "# выражения для магнитного поля\n",
    "\n",
    "H_x = B_1*h_x\n",
    "H_y = B_2*h_y\n",
    "H_z = B_3*h_z"
   ]
  },
  {
   "cell_type": "code",
   "execution_count": 68,
   "metadata": {},
   "outputs": [
    {
     "data": {
      "text/latex": [
       "$\\displaystyle B_{1} \\cos\\left(\\frac{\\pi n_{y} y}{b}\\right) \\cos\\left(k_{z} z\\right) \\sin\\left(\\frac{\\pi n_{x} x}{a}\\right)$"
      ],
      "text/plain": [
       "<IPython.core.display.Math object>"
      ]
     },
     "metadata": {},
     "output_type": "display_data"
    },
    {
     "data": {
      "text/latex": [
       "$\\displaystyle B_{2} \\cos\\left(\\frac{\\pi n_{x} x}{a}\\right) \\cos\\left(k_{z} z\\right) \\sin\\left(\\frac{\\pi n_{y} y}{b}\\right)$"
      ],
      "text/plain": [
       "<IPython.core.display.Math object>"
      ]
     },
     "metadata": {},
     "output_type": "display_data"
    },
    {
     "data": {
      "text/latex": [
       "$\\displaystyle B_{3} \\cos\\left(\\frac{\\pi n_{x} x}{a}\\right) \\cos\\left(\\frac{\\pi n_{y} y}{b}\\right) \\sin\\left(k_{z} z\\right)$"
      ],
      "text/plain": [
       "<IPython.core.display.Math object>"
      ]
     },
     "metadata": {},
     "output_type": "display_data"
    }
   ],
   "source": [
    "disp(H_x.subs(k_subs_xy))\n",
    "disp(H_y.subs(k_subs_xy))\n",
    "disp(H_z.subs(k_subs_xy))"
   ]
  },
  {
   "cell_type": "code",
   "execution_count": 69,
   "metadata": {},
   "outputs": [
    {
     "name": "stdout",
     "output_type": "stream",
     "text": [
      "H_{x} = B_{1} \\cos\\left(\\frac{\\pi n_{y} y}{b}\\right) \\cos\\left(k_{z} z\\right) \\sin\\left(\\frac{\\pi n_{x} x}{a}\\right)\n",
      "H_{y} = B_{2} \\cos\\left(\\frac{\\pi n_{x} x}{a}\\right) \\cos\\left(k_{z} z\\right) \\sin\\left(\\frac{\\pi n_{y} y}{b}\\right)\n",
      "H_{z} = B_{3} \\cos\\left(\\frac{\\pi n_{x} x}{a}\\right) \\cos\\left(\\frac{\\pi n_{y} y}{b}\\right) \\sin\\left(k_{z} z\\right)\n"
     ]
    }
   ],
   "source": [
    "print(\"H_{x} = \" + latex(H_x.subs(k_subs_xy)))\n",
    "print(\"H_{y} = \" + latex(H_y.subs(k_subs_xy)))\n",
    "print(\"H_{z} = \" + latex(H_z.subs(k_subs_xy)))"
   ]
  },
  {
   "cell_type": "markdown",
   "metadata": {},
   "source": [
    "подставляя в исходное уравнение приходим к обыкновенному дифференциальному уравнению\n",
    "\n",
    "$\\frac{\\partial^2 \\vec H(x,y,z)}{\\partial x^2} + \\frac{\\partial^2 \\vec H(x,y,z)}{\\partial y^2} + \\frac{\\partial^2 \\vec H(x,y,z)}{\\partial z^2} + \\frac{\\mu\\, \\epsilon \\, \\omega^2}{c^2} \\vec H(x,y,z) = 0$"
   ]
  },
  {
   "cell_type": "code",
   "execution_count": 70,
   "metadata": {},
   "outputs": [],
   "source": [
    "eq_x = H_x.diff(x,2) + H_x.diff(y,2) + H_x.diff(z,2) + mu*epsilon*omega^2/c^2 * H_x == 0\n",
    "eq_y = H_y.diff(x,2) + H_y.diff(y,2) + H_y.diff(z,2) + mu*epsilon*omega^2/c^2 * H_y == 0\n",
    "eq_z = H_z.diff(x,2) + H_z.diff(y,2) + H_z.diff(z,2) + mu*epsilon*omega^2/c^2 * H_z == 0"
   ]
  },
  {
   "cell_type": "code",
   "execution_count": 71,
   "metadata": {},
   "outputs": [
    {
     "data": {
      "text/latex": [
       "$\\displaystyle -\\frac{{\\left(c^{2} k_{x}^{2} + c^{2} k_{y}^{2} + c^{2} k_{z}^{2} - \\epsilon \\mu \\omega^{2}\\right)} B_{1} \\cos\\left(k_{y} y\\right) \\cos\\left(k_{z} z\\right) \\sin\\left(k_{x} x\\right)}{c^{2}} = 0$"
      ],
      "text/plain": [
       "<IPython.core.display.Math object>"
      ]
     },
     "metadata": {},
     "output_type": "display_data"
    },
    {
     "data": {
      "text/latex": [
       "$\\displaystyle -\\frac{{\\left(c^{2} k_{x}^{2} + c^{2} k_{y}^{2} + c^{2} k_{z}^{2} - \\epsilon \\mu \\omega^{2}\\right)} B_{2} \\cos\\left(k_{x} x\\right) \\cos\\left(k_{z} z\\right) \\sin\\left(k_{y} y\\right)}{c^{2}} = 0$"
      ],
      "text/plain": [
       "<IPython.core.display.Math object>"
      ]
     },
     "metadata": {},
     "output_type": "display_data"
    },
    {
     "data": {
      "text/latex": [
       "$\\displaystyle -\\frac{{\\left(c^{2} k_{x}^{2} + c^{2} k_{y}^{2} + c^{2} k_{z}^{2} - \\epsilon \\mu \\omega^{2}\\right)} B_{3} \\cos\\left(k_{x} x\\right) \\cos\\left(k_{y} y\\right) \\sin\\left(k_{z} z\\right)}{c^{2}} = 0$"
      ],
      "text/plain": [
       "<IPython.core.display.Math object>"
      ]
     },
     "metadata": {},
     "output_type": "display_data"
    }
   ],
   "source": [
    "display(Math(latex(eq_x.full_simplify().factor())))\n",
    "display(Math(latex(eq_y.full_simplify().factor())))\n",
    "display(Math(latex(eq_z.full_simplify().factor())))"
   ]
  },
  {
   "cell_type": "markdown",
   "metadata": {},
   "source": [
    "$div\\,\\vec{H} = 0$"
   ]
  },
  {
   "cell_type": "code",
   "execution_count": 72,
   "metadata": {},
   "outputs": [],
   "source": [
    "div_H = H_x.diff(x) + H_y.diff(y) + H_z.diff(z)"
   ]
  },
  {
   "cell_type": "code",
   "execution_count": 73,
   "metadata": {},
   "outputs": [
    {
     "data": {
      "text/latex": [
       "$\\displaystyle {\\left(B_{1} k_{x} + B_{2} k_{y} + B_{3} k_{z}\\right)} \\cos\\left(k_{x} x\\right) \\cos\\left(k_{y} y\\right) \\cos\\left(k_{z} z\\right) = 0$"
      ],
      "text/plain": [
       "<IPython.core.display.Math object>"
      ]
     },
     "metadata": {},
     "output_type": "display_data"
    }
   ],
   "source": [
    "display(Math(latex(div_H.full_simplify().factor() == 0)))"
   ]
  },
  {
   "cell_type": "code",
   "execution_count": 74,
   "metadata": {},
   "outputs": [
    {
     "data": {
      "text/latex": [
       "$\\displaystyle B_{1} k_{x} + B_{2} k_{y} + B_{3} k_{z} = 0$"
      ],
      "text/plain": [
       "<IPython.core.display.Math object>"
      ]
     },
     "metadata": {},
     "output_type": "display_data"
    }
   ],
   "source": [
    "eq_B = div_H.full_simplify().factor().operands()[0] == 0\n",
    "disp(eq_B)"
   ]
  },
  {
   "cell_type": "code",
   "execution_count": 75,
   "metadata": {},
   "outputs": [
    {
     "data": {
      "text/latex": [
       "$\\displaystyle B_{3} k_{z} + \\frac{\\pi B_{1} n_{x}}{a} + \\frac{\\pi B_{2} n_{y}}{a} = 0$"
      ],
      "text/plain": [
       "<IPython.core.display.Math object>"
      ]
     },
     "metadata": {},
     "output_type": "display_data"
    }
   ],
   "source": [
    "eq_B = eq_B.subs(k_subs_xy).subs(b == a)\n",
    "disp(eq_B)"
   ]
  },
  {
   "cell_type": "code",
   "execution_count": 76,
   "metadata": {},
   "outputs": [
    {
     "name": "stdout",
     "output_type": "stream",
     "text": [
      "B_{3} k_{z} + \\frac{\\pi B_{1} n_{x}}{a} + \\frac{\\pi B_{2} n_{y}}{a} = 0\n"
     ]
    }
   ],
   "source": [
    "print(latex(eq_B))"
   ]
  },
  {
   "cell_type": "markdown",
   "metadata": {},
   "source": [
    "$rot\\,\\vec{H} = - \\frac{i\\,\\omega}{c} \\epsilon \\vec{E}$"
   ]
  },
  {
   "cell_type": "code",
   "execution_count": 77,
   "metadata": {},
   "outputs": [],
   "source": [
    "rotH_x = H_z.diff(y) - H_y.diff(z)\n",
    "rotH_y = H_x.diff(z) - H_z.diff(x)\n",
    "rotH_z = H_y.diff(x) - H_x.diff(y)"
   ]
  },
  {
   "cell_type": "code",
   "execution_count": 78,
   "metadata": {},
   "outputs": [],
   "source": [
    "E_x = - c / (I * omega * mu) * rotH_x\n",
    "E_y = - c / (I * omega * mu) * rotH_y\n",
    "E_z = - c / (I * omega * mu) * rotH_z"
   ]
  },
  {
   "cell_type": "code",
   "execution_count": 79,
   "metadata": {},
   "outputs": [],
   "source": [
    "E_x = E_x.full_simplify().factor()\n",
    "E_y = E_y.full_simplify().factor()\n",
    "E_z = E_z.full_simplify().factor()"
   ]
  },
  {
   "cell_type": "code",
   "execution_count": 80,
   "metadata": {},
   "outputs": [
    {
     "data": {
      "text/latex": [
       "$\\displaystyle \\frac{i \\, {\\left(B_{2} k_{z} - \\frac{\\pi B_{3} n_{y}}{b}\\right)} c \\cos\\left(\\frac{\\pi n_{x} x}{a}\\right) \\sin\\left(\\frac{\\pi n_{y} y}{b}\\right) \\sin\\left(k_{z} z\\right)}{\\mu \\omega}$"
      ],
      "text/plain": [
       "<IPython.core.display.Math object>"
      ]
     },
     "metadata": {},
     "output_type": "display_data"
    },
    {
     "data": {
      "text/latex": [
       "$\\displaystyle -\\frac{i \\, {\\left(B_{1} k_{z} - \\frac{\\pi B_{3} n_{x}}{a}\\right)} c \\cos\\left(\\frac{\\pi n_{y} y}{b}\\right) \\sin\\left(\\frac{\\pi n_{x} x}{a}\\right) \\sin\\left(k_{z} z\\right)}{\\mu \\omega}$"
      ],
      "text/plain": [
       "<IPython.core.display.Math object>"
      ]
     },
     "metadata": {},
     "output_type": "display_data"
    },
    {
     "data": {
      "text/latex": [
       "$\\displaystyle -\\frac{i \\, {\\left(\\frac{\\pi B_{2} n_{x}}{a} - \\frac{\\pi B_{1} n_{y}}{b}\\right)} c \\cos\\left(k_{z} z\\right) \\sin\\left(\\frac{\\pi n_{x} x}{a}\\right) \\sin\\left(\\frac{\\pi n_{y} y}{b}\\right)}{\\mu \\omega}$"
      ],
      "text/plain": [
       "<IPython.core.display.Math object>"
      ]
     },
     "metadata": {},
     "output_type": "display_data"
    }
   ],
   "source": [
    "display(Math(latex(E_x.subs(k_subs_xy))))\n",
    "display(Math(latex(E_y.subs(k_subs_xy))))\n",
    "display(Math(latex(E_z.subs(k_subs_xy))))"
   ]
  },
  {
   "cell_type": "code",
   "execution_count": 81,
   "metadata": {},
   "outputs": [
    {
     "name": "stdout",
     "output_type": "stream",
     "text": [
      "E_{x} = \\frac{i \\, {\\left(B_{2} k_{z} - \\frac{\\pi B_{3} n_{y}}{b}\\right)} c \\cos\\left(\\frac{\\pi n_{x} x}{a}\\right) \\sin\\left(\\frac{\\pi n_{y} y}{b}\\right) \\sin\\left(k_{z} z\\right)}{\\mu \\omega}\n",
      "E_{y} = -\\frac{i \\, {\\left(B_{1} k_{z} - \\frac{\\pi B_{3} n_{x}}{a}\\right)} c \\cos\\left(\\frac{\\pi n_{y} y}{b}\\right) \\sin\\left(\\frac{\\pi n_{x} x}{a}\\right) \\sin\\left(k_{z} z\\right)}{\\mu \\omega}\n",
      "E_{z} = -\\frac{i \\, {\\left(\\frac{\\pi B_{2} n_{x}}{a} - \\frac{\\pi B_{1} n_{y}}{b}\\right)} c \\cos\\left(k_{z} z\\right) \\sin\\left(\\frac{\\pi n_{x} x}{a}\\right) \\sin\\left(\\frac{\\pi n_{y} y}{b}\\right)}{\\mu \\omega}\n"
     ]
    }
   ],
   "source": [
    "print(\"E_{x} = \" + latex(E_x.subs(k_subs_xy)))\n",
    "print(\"E_{y} = \" + latex(E_y.subs(k_subs_xy)))\n",
    "print(\"E_{z} = \" + latex(E_z.subs(k_subs_xy)))"
   ]
  },
  {
   "cell_type": "code",
   "execution_count": 82,
   "metadata": {},
   "outputs": [
    {
     "data": {
      "text/latex": [
       "$\\displaystyle -\\frac{i \\, {\\left(B_{2} k_{x} - B_{1} k_{y}\\right)} c \\cos\\left(k_{z} z\\right) \\sin\\left(k_{x} x\\right) \\sin\\left(k_{y} y\\right)}{\\mu \\omega} = 0$"
      ],
      "text/plain": [
       "<IPython.core.display.Math object>"
      ]
     },
     "metadata": {},
     "output_type": "display_data"
    }
   ],
   "source": [
    "eq_Ez0 = E_z == 0\n",
    "disp(eq_Ez0)"
   ]
  },
  {
   "cell_type": "code",
   "execution_count": 83,
   "metadata": {},
   "outputs": [
    {
     "data": {
      "text/latex": [
       "$\\displaystyle -\\frac{i \\, {\\left(B_{3} k_{y} - B_{2} k_{z}\\right)} c \\cos\\left(k_{x} x\\right) \\sin\\left(k_{y} y\\right) \\sin\\left(k_{z} z\\right)}{\\mu \\omega} = 0$"
      ],
      "text/plain": [
       "<IPython.core.display.Math object>"
      ]
     },
     "metadata": {},
     "output_type": "display_data"
    }
   ],
   "source": [
    "eq_Ex0 = E_x == 0\n",
    "disp(eq_Ex0)"
   ]
  },
  {
   "cell_type": "code",
   "execution_count": 84,
   "metadata": {},
   "outputs": [
    {
     "data": {
      "text/latex": [
       "$\\displaystyle \\frac{i \\, {\\left(B_{3} k_{x} - B_{1} k_{z}\\right)} c \\cos\\left(k_{y} y\\right) \\sin\\left(k_{x} x\\right) \\sin\\left(k_{z} z\\right)}{\\mu \\omega} = 0$"
      ],
      "text/plain": [
       "<IPython.core.display.Math object>"
      ]
     },
     "metadata": {},
     "output_type": "display_data"
    }
   ],
   "source": [
    "eq_Ey0 = E_y == 0\n",
    "disp(eq_Ey0)"
   ]
  },
  {
   "cell_type": "code",
   "execution_count": 85,
   "metadata": {},
   "outputs": [
    {
     "data": {
      "text/latex": [
       "$\\displaystyle B_{2} k_{x} - B_{1} k_{y} = 0$"
      ],
      "text/plain": [
       "<IPython.core.display.Math object>"
      ]
     },
     "metadata": {},
     "output_type": "display_data"
    }
   ],
   "source": [
    "eq_Ez_0 = eq_Ez0.lhs().numerator().operands()[0] == 0\n",
    "disp(eq_Ez_0)"
   ]
  },
  {
   "cell_type": "code",
   "execution_count": 86,
   "metadata": {},
   "outputs": [
    {
     "data": {
      "text/latex": [
       "$\\displaystyle B_{3} k_{y} - B_{2} k_{z} = 0$"
      ],
      "text/plain": [
       "<IPython.core.display.Math object>"
      ]
     },
     "metadata": {},
     "output_type": "display_data"
    }
   ],
   "source": [
    "eq_Ex_0 = eq_Ex0.lhs().numerator().operands()[0] == 0\n",
    "disp(eq_Ex_0)"
   ]
  },
  {
   "cell_type": "code",
   "execution_count": 87,
   "metadata": {},
   "outputs": [
    {
     "data": {
      "text/latex": [
       "$\\displaystyle B_{3} k_{x} - B_{1} k_{z} = 0$"
      ],
      "text/plain": [
       "<IPython.core.display.Math object>"
      ]
     },
     "metadata": {},
     "output_type": "display_data"
    }
   ],
   "source": [
    "eq_Ey_0 = eq_Ey0.lhs().numerator().operands()[0] == 0\n",
    "disp(eq_Ey_0)"
   ]
  },
  {
   "cell_type": "code",
   "execution_count": 88,
   "metadata": {},
   "outputs": [
    {
     "data": {
      "text/latex": [
       "$\\displaystyle \\frac{\\pi B_{2} n_{x}}{a} - \\frac{\\pi B_{1} n_{y}}{b} = 0$"
      ],
      "text/plain": [
       "<IPython.core.display.Math object>"
      ]
     },
     "metadata": {},
     "output_type": "display_data"
    }
   ],
   "source": [
    "eq_Ez_0 = eq_Ez_0.subs(k_subs_xy)\n",
    "disp(eq_Ez_0)"
   ]
  },
  {
   "cell_type": "code",
   "execution_count": 89,
   "metadata": {},
   "outputs": [
    {
     "data": {
      "text/latex": [
       "$\\displaystyle -B_{2} k_{z} + \\frac{\\pi B_{3} n_{y}}{b} = 0$"
      ],
      "text/plain": [
       "<IPython.core.display.Math object>"
      ]
     },
     "metadata": {},
     "output_type": "display_data"
    }
   ],
   "source": [
    "eq_Ex_0 = eq_Ex_0.subs(k_subs_xy)\n",
    "disp(eq_Ex_0)"
   ]
  },
  {
   "cell_type": "code",
   "execution_count": 90,
   "metadata": {},
   "outputs": [
    {
     "data": {
      "text/latex": [
       "$\\displaystyle -B_{1} k_{z} + \\frac{\\pi B_{3} n_{x}}{a} = 0$"
      ],
      "text/plain": [
       "<IPython.core.display.Math object>"
      ]
     },
     "metadata": {},
     "output_type": "display_data"
    }
   ],
   "source": [
    "eq_Ey_0 = eq_Ey_0.subs(k_subs_xy)\n",
    "disp(eq_Ey_0)"
   ]
  },
  {
   "cell_type": "code",
   "execution_count": 91,
   "metadata": {},
   "outputs": [
    {
     "data": {
      "text/plain": [
       "\\frac{\\pi B_{2} n_{x}}{a} - \\frac{\\pi B_{1} n_{y}}{b} = 0"
      ]
     },
     "execution_count": 91,
     "metadata": {},
     "output_type": "execute_result"
    }
   ],
   "source": [
    "latex(eq_Ez_0)"
   ]
  },
  {
   "cell_type": "markdown",
   "metadata": {},
   "source": [
    "$rot\\,\\vec{E} = \\mu\\,\\frac{i\\,\\omega}{c}\\,\\vec{H}$"
   ]
  },
  {
   "cell_type": "code",
   "execution_count": 92,
   "metadata": {},
   "outputs": [],
   "source": [
    "rotE_x = E_z.diff(y) - E_y.diff(z)\n",
    "rotE_y = E_x.diff(z) - E_z.diff(x)\n",
    "rotE_z = E_y.diff(x) - E_x.diff(y)"
   ]
  },
  {
   "cell_type": "code",
   "execution_count": 93,
   "metadata": {},
   "outputs": [],
   "source": [
    "H_x_rotE = c / (I * omega * mu) * rotE_x\n",
    "H_y_rotE = c / (I * omega * mu) * rotE_y\n",
    "H_z_rotE = c / (I * omega * mu) * rotE_z"
   ]
  },
  {
   "cell_type": "code",
   "execution_count": 94,
   "metadata": {},
   "outputs": [
    {
     "data": {
      "text/latex": [
       "$\\displaystyle -\\frac{i \\, {\\left(-\\frac{i \\, {\\left(B_{2} k_{x} - B_{1} k_{y}\\right)} c k_{y} \\cos\\left(k_{y} y\\right) \\cos\\left(k_{z} z\\right) \\sin\\left(k_{x} x\\right)}{\\mu \\omega} - \\frac{i \\, {\\left(B_{3} k_{x} - B_{1} k_{z}\\right)} c k_{z} \\cos\\left(k_{y} y\\right) \\cos\\left(k_{z} z\\right) \\sin\\left(k_{x} x\\right)}{\\mu \\omega}\\right)} c}{\\mu \\omega}$"
      ],
      "text/plain": [
       "<IPython.core.display.Math object>"
      ]
     },
     "metadata": {},
     "output_type": "display_data"
    },
    {
     "data": {
      "text/latex": [
       "$\\displaystyle -\\frac{i \\, {\\left(\\frac{i \\, {\\left(B_{2} k_{x} - B_{1} k_{y}\\right)} c k_{x} \\cos\\left(k_{x} x\\right) \\cos\\left(k_{z} z\\right) \\sin\\left(k_{y} y\\right)}{\\mu \\omega} - \\frac{i \\, {\\left(B_{3} k_{y} - B_{2} k_{z}\\right)} c k_{z} \\cos\\left(k_{x} x\\right) \\cos\\left(k_{z} z\\right) \\sin\\left(k_{y} y\\right)}{\\mu \\omega}\\right)} c}{\\mu \\omega}$"
      ],
      "text/plain": [
       "<IPython.core.display.Math object>"
      ]
     },
     "metadata": {},
     "output_type": "display_data"
    },
    {
     "data": {
      "text/latex": [
       "$\\displaystyle -\\frac{i \\, {\\left(\\frac{i \\, {\\left(B_{3} k_{x} - B_{1} k_{z}\\right)} c k_{x} \\cos\\left(k_{x} x\\right) \\cos\\left(k_{y} y\\right) \\sin\\left(k_{z} z\\right)}{\\mu \\omega} + \\frac{i \\, {\\left(B_{3} k_{y} - B_{2} k_{z}\\right)} c k_{y} \\cos\\left(k_{x} x\\right) \\cos\\left(k_{y} y\\right) \\sin\\left(k_{z} z\\right)}{\\mu \\omega}\\right)} c}{\\mu \\omega}$"
      ],
      "text/plain": [
       "<IPython.core.display.Math object>"
      ]
     },
     "metadata": {},
     "output_type": "display_data"
    }
   ],
   "source": [
    "disp(H_x_rotE)\n",
    "disp(H_y_rotE)\n",
    "disp(H_z_rotE)"
   ]
  },
  {
   "cell_type": "code",
   "execution_count": 95,
   "metadata": {},
   "outputs": [],
   "source": [
    "# сравниваем выражения для магнитного поля\n",
    "\n",
    "eq_x = (H_x_rotE - H_x)/(h_x) == 0\n",
    "eq_y = (H_y_rotE - H_y)/(h_y) == 0\n",
    "eq_z = (H_z_rotE - H_z)/(h_z) == 0"
   ]
  },
  {
   "cell_type": "code",
   "execution_count": 96,
   "metadata": {},
   "outputs": [
    {
     "data": {
      "text/latex": [
       "$\\displaystyle -\\frac{B_{2} c^{2} k_{x} k_{y} - B_{1} c^{2} k_{y}^{2} + B_{3} c^{2} k_{x} k_{z} - B_{1} c^{2} k_{z}^{2} + B_{1} \\mu^{2} \\omega^{2}}{\\mu^{2} \\omega^{2}} = 0$"
      ],
      "text/plain": [
       "<IPython.core.display.Math object>"
      ]
     },
     "metadata": {},
     "output_type": "display_data"
    },
    {
     "data": {
      "text/latex": [
       "$\\displaystyle \\frac{B_{2} c^{2} k_{x}^{2} - B_{1} c^{2} k_{x} k_{y} - B_{3} c^{2} k_{y} k_{z} + B_{2} c^{2} k_{z}^{2} - B_{2} \\mu^{2} \\omega^{2}}{\\mu^{2} \\omega^{2}} = 0$"
      ],
      "text/plain": [
       "<IPython.core.display.Math object>"
      ]
     },
     "metadata": {},
     "output_type": "display_data"
    },
    {
     "data": {
      "text/latex": [
       "$\\displaystyle \\frac{B_{3} c^{2} k_{x}^{2} + B_{3} c^{2} k_{y}^{2} - B_{1} c^{2} k_{x} k_{z} - B_{2} c^{2} k_{y} k_{z} - B_{3} \\mu^{2} \\omega^{2}}{\\mu^{2} \\omega^{2}} = 0$"
      ],
      "text/plain": [
       "<IPython.core.display.Math object>"
      ]
     },
     "metadata": {},
     "output_type": "display_data"
    }
   ],
   "source": [
    "display(Math(latex(eq_x.full_simplify().factor())))\n",
    "display(Math(latex(eq_y.full_simplify().factor())))\n",
    "display(Math(latex(eq_z.full_simplify().factor())))"
   ]
  },
  {
   "cell_type": "code",
   "execution_count": 97,
   "metadata": {},
   "outputs": [
    {
     "data": {
      "text/latex": [
       "$\\displaystyle -B_{2} c^{2} k_{x} k_{y} + B_{1} c^{2} k_{y}^{2} - B_{3} c^{2} k_{x} k_{z} + B_{1} c^{2} k_{z}^{2} - B_{1} \\mu^{2} \\omega^{2} = 0$"
      ],
      "text/plain": [
       "<IPython.core.display.Math object>"
      ]
     },
     "metadata": {},
     "output_type": "display_data"
    },
    {
     "data": {
      "text/latex": [
       "$\\displaystyle B_{2} c^{2} k_{x}^{2} - B_{1} c^{2} k_{x} k_{y} - B_{3} c^{2} k_{y} k_{z} + B_{2} c^{2} k_{z}^{2} - B_{2} \\mu^{2} \\omega^{2} = 0$"
      ],
      "text/plain": [
       "<IPython.core.display.Math object>"
      ]
     },
     "metadata": {},
     "output_type": "display_data"
    },
    {
     "data": {
      "text/latex": [
       "$\\displaystyle B_{3} c^{2} k_{x}^{2} + B_{3} c^{2} k_{y}^{2} - B_{1} c^{2} k_{x} k_{z} - B_{2} c^{2} k_{y} k_{z} - B_{3} \\mu^{2} \\omega^{2} = 0$"
      ],
      "text/plain": [
       "<IPython.core.display.Math object>"
      ]
     },
     "metadata": {},
     "output_type": "display_data"
    }
   ],
   "source": [
    "eq_x = eq_x.full_simplify().factor().lhs().numerator() == 0\n",
    "eq_y = eq_y.full_simplify().factor().lhs().numerator() == 0\n",
    "eq_z = eq_z.full_simplify().factor().lhs().numerator() == 0\n",
    "\n",
    "disp(eq_x)\n",
    "disp(eq_y)\n",
    "disp(eq_z)"
   ]
  },
  {
   "cell_type": "code",
   "execution_count": 98,
   "metadata": {},
   "outputs": [
    {
     "data": {
      "text/latex": [
       "$\\displaystyle B_{1} c^{2} k_{z}^{2} - \\frac{\\pi B_{3} c^{2} k_{z} n_{x}}{a} - \\frac{\\pi^{2} B_{2} c^{2} n_{x} n_{y}}{a b} + \\frac{\\pi^{2} B_{1} c^{2} n_{y}^{2}}{b^{2}} - \\frac{{\\left(c^{2} k_{z}^{2} + \\frac{\\pi^{2} c^{2} n_{x}^{2}}{a^{2}} + \\frac{\\pi^{2} c^{2} n_{y}^{2}}{a^{2}}\\right)} B_{1} \\mu}{\\epsilon} = 0$"
      ],
      "text/plain": [
       "<IPython.core.display.Math object>"
      ]
     },
     "metadata": {},
     "output_type": "display_data"
    },
    {
     "data": {
      "text/latex": [
       "$\\displaystyle B_{2} c^{2} k_{z}^{2} + \\frac{\\pi^{2} B_{2} c^{2} n_{x}^{2}}{a^{2}} - \\frac{\\pi B_{3} c^{2} k_{z} n_{y}}{b} - \\frac{\\pi^{2} B_{1} c^{2} n_{x} n_{y}}{a b} - \\frac{{\\left(c^{2} k_{z}^{2} + \\frac{\\pi^{2} c^{2} n_{x}^{2}}{a^{2}} + \\frac{\\pi^{2} c^{2} n_{y}^{2}}{a^{2}}\\right)} B_{2} \\mu}{\\epsilon} = 0$"
      ],
      "text/plain": [
       "<IPython.core.display.Math object>"
      ]
     },
     "metadata": {},
     "output_type": "display_data"
    },
    {
     "data": {
      "text/latex": [
       "$\\displaystyle -\\frac{\\pi B_{1} c^{2} k_{z} n_{x}}{a} + \\frac{\\pi^{2} B_{3} c^{2} n_{x}^{2}}{a^{2}} - \\frac{\\pi B_{2} c^{2} k_{z} n_{y}}{b} + \\frac{\\pi^{2} B_{3} c^{2} n_{y}^{2}}{b^{2}} - \\frac{{\\left(c^{2} k_{z}^{2} + \\frac{\\pi^{2} c^{2} n_{x}^{2}}{a^{2}} + \\frac{\\pi^{2} c^{2} n_{y}^{2}}{a^{2}}\\right)} B_{3} \\mu}{\\epsilon} = 0$"
      ],
      "text/plain": [
       "<IPython.core.display.Math object>"
      ]
     },
     "metadata": {},
     "output_type": "display_data"
    }
   ],
   "source": [
    "eq_x = eq_x.subs(k_subs_xy).subs(omega_2)\n",
    "eq_y = eq_y.subs(k_subs_xy).subs(omega_2)\n",
    "eq_z = eq_z.subs(k_subs_xy).subs(omega_2)\n",
    "\n",
    "disp(eq_x)\n",
    "disp(eq_y)\n",
    "disp(eq_z)"
   ]
  },
  {
   "cell_type": "code",
   "execution_count": 99,
   "metadata": {},
   "outputs": [
    {
     "data": {
      "text/latex": [
       "$\\displaystyle k_{z}^{2} + \\frac{\\pi^{2} n_{x}^{2}}{a^{2}} + \\frac{\\pi^{2} n_{y}^{2}}{b^{2}} - \\frac{\\omega^{2}}{c^{2}} = 0$"
      ],
      "text/plain": [
       "<IPython.core.display.Math object>"
      ]
     },
     "metadata": {},
     "output_type": "display_data"
    }
   ],
   "source": [
    "dispersion_eq = dispersion_eq.subs(k_subs_xy).subs(mu == 1, epsilon = 1)\n",
    "disp(dispersion_eq)"
   ]
  },
  {
   "cell_type": "code",
   "execution_count": 100,
   "metadata": {},
   "outputs": [
    {
     "data": {
      "text/latex": [
       "$\\displaystyle \\frac{B_{1} c^{2} k_{z}^{2} - \\frac{\\pi B_{3} c^{2} k_{z} n_{x}}{a} - \\frac{\\pi^{2} B_{2} c^{2} n_{x} n_{y}}{a b} + \\frac{\\pi^{2} B_{1} c^{2} n_{y}^{2}}{b^{2}} - \\frac{{\\left(c^{2} k_{z}^{2} + \\frac{\\pi^{2} c^{2} n_{x}^{2}}{a^{2}} + \\frac{\\pi^{2} c^{2} n_{y}^{2}}{a^{2}}\\right)} B_{1} \\mu}{\\epsilon}}{\\pi^{2} c^{2}} = 0$"
      ],
      "text/plain": [
       "<IPython.core.display.Math object>"
      ]
     },
     "metadata": {},
     "output_type": "display_data"
    },
    {
     "data": {
      "text/latex": [
       "$\\displaystyle \\frac{B_{2} c^{2} k_{z}^{2} + \\frac{\\pi^{2} B_{2} c^{2} n_{x}^{2}}{a^{2}} - \\frac{\\pi B_{3} c^{2} k_{z} n_{y}}{b} - \\frac{\\pi^{2} B_{1} c^{2} n_{x} n_{y}}{a b} - \\frac{{\\left(c^{2} k_{z}^{2} + \\frac{\\pi^{2} c^{2} n_{x}^{2}}{a^{2}} + \\frac{\\pi^{2} c^{2} n_{y}^{2}}{a^{2}}\\right)} B_{2} \\mu}{\\epsilon}}{\\pi^{2} c^{2}} = 0$"
      ],
      "text/plain": [
       "<IPython.core.display.Math object>"
      ]
     },
     "metadata": {},
     "output_type": "display_data"
    },
    {
     "data": {
      "text/latex": [
       "$\\displaystyle -\\frac{\\frac{\\pi B_{1} c^{2} k_{z} n_{x}}{a} - \\frac{\\pi^{2} B_{3} c^{2} n_{x}^{2}}{a^{2}} + \\frac{\\pi B_{2} c^{2} k_{z} n_{y}}{b} - \\frac{\\pi^{2} B_{3} c^{2} n_{y}^{2}}{b^{2}} + \\frac{{\\left(c^{2} k_{z}^{2} + \\frac{\\pi^{2} c^{2} n_{x}^{2}}{a^{2}} + \\frac{\\pi^{2} c^{2} n_{y}^{2}}{a^{2}}\\right)} B_{3} \\mu}{\\epsilon}}{\\pi^{2} c^{2}} = 0$"
      ],
      "text/plain": [
       "<IPython.core.display.Math object>"
      ]
     },
     "metadata": {},
     "output_type": "display_data"
    }
   ],
   "source": [
    "eq_x = eq_x / (pi^2*c^2)\n",
    "eq_y = eq_y / (pi^2*c^2)\n",
    "eq_z = eq_z / (pi^2*c^2)\n",
    "\n",
    "\n",
    "disp(eq_x)\n",
    "disp(eq_y)\n",
    "disp(eq_z)"
   ]
  },
  {
   "cell_type": "code",
   "execution_count": 101,
   "metadata": {},
   "outputs": [
    {
     "data": {
      "text/latex": [
       "$\\displaystyle \\frac{B_{1} c^{2} k_{z}^{2} - \\frac{\\pi B_{3} c^{2} k_{z} n_{x}}{a} - \\frac{\\pi^{2} B_{2} c^{2} n_{x} n_{y}}{a^{2}} + \\frac{\\pi^{2} B_{1} c^{2} n_{y}^{2}}{a^{2}} - \\frac{{\\left(c^{2} k_{z}^{2} + \\frac{\\pi^{2} c^{2} n_{x}^{2}}{a^{2}} + \\frac{\\pi^{2} c^{2} n_{y}^{2}}{a^{2}}\\right)} B_{1} \\mu}{\\epsilon}}{\\pi^{2} c^{2}} = 0$"
      ],
      "text/plain": [
       "<IPython.core.display.Math object>"
      ]
     },
     "metadata": {},
     "output_type": "display_data"
    },
    {
     "data": {
      "text/latex": [
       "$\\displaystyle \\frac{B_{2} c^{2} k_{z}^{2} + \\frac{\\pi^{2} B_{2} c^{2} n_{x}^{2}}{a^{2}} - \\frac{\\pi B_{3} c^{2} k_{z} n_{y}}{a} - \\frac{\\pi^{2} B_{1} c^{2} n_{x} n_{y}}{a^{2}} - \\frac{{\\left(c^{2} k_{z}^{2} + \\frac{\\pi^{2} c^{2} n_{x}^{2}}{a^{2}} + \\frac{\\pi^{2} c^{2} n_{y}^{2}}{a^{2}}\\right)} B_{2} \\mu}{\\epsilon}}{\\pi^{2} c^{2}} = 0$"
      ],
      "text/plain": [
       "<IPython.core.display.Math object>"
      ]
     },
     "metadata": {},
     "output_type": "display_data"
    },
    {
     "data": {
      "text/latex": [
       "$\\displaystyle -\\frac{\\frac{\\pi B_{1} c^{2} k_{z} n_{x}}{a} - \\frac{\\pi^{2} B_{3} c^{2} n_{x}^{2}}{a^{2}} + \\frac{\\pi B_{2} c^{2} k_{z} n_{y}}{a} - \\frac{\\pi^{2} B_{3} c^{2} n_{y}^{2}}{a^{2}} + \\frac{{\\left(c^{2} k_{z}^{2} + \\frac{\\pi^{2} c^{2} n_{x}^{2}}{a^{2}} + \\frac{\\pi^{2} c^{2} n_{y}^{2}}{a^{2}}\\right)} B_{3} \\mu}{\\epsilon}}{\\pi^{2} c^{2}} = 0$"
      ],
      "text/plain": [
       "<IPython.core.display.Math object>"
      ]
     },
     "metadata": {},
     "output_type": "display_data"
    }
   ],
   "source": [
    "if True:\n",
    "    eq_x = eq_x.subs(b == a)\n",
    "    eq_y = eq_y.subs(b == a)\n",
    "    eq_z = eq_z.subs(b == a)\n",
    "    eq_B = eq_B.subs(b == a)\n",
    "    eq_Ez_0 = eq_Ez_0.subs(b == a)\n",
    "    eq_Ex_0 = eq_Ex_0.subs(b == a)\n",
    "    eq_Ey_0 = eq_Ey_0.subs(b == a)\n",
    "    dispersion_eq = dispersion_eq.subs(b == a)\n",
    "\n",
    "    disp(eq_x)\n",
    "    disp(eq_y)\n",
    "    disp(eq_z)"
   ]
  },
  {
   "cell_type": "code",
   "execution_count": 102,
   "metadata": {},
   "outputs": [],
   "source": [
    "#eq_z.factor().lhs().operands()"
   ]
  },
  {
   "cell_type": "code",
   "execution_count": 103,
   "metadata": {},
   "outputs": [
    {
     "data": {
      "text/latex": [
       "$\\displaystyle k_{z}^{2} + \\frac{\\pi^{2} n_{x}^{2}}{a^{2}} + \\frac{\\pi^{2} n_{y}^{2}}{a^{2}} - \\frac{\\omega^{2}}{c^{2}} = 0$"
      ],
      "text/plain": [
       "<IPython.core.display.Math object>"
      ]
     },
     "metadata": {},
     "output_type": "display_data"
    }
   ],
   "source": [
    "#dispersion_eq = eq_z.factor().lhs().operands()[0] == 0\n",
    "disp(dispersion_eq)"
   ]
  },
  {
   "cell_type": "code",
   "execution_count": 104,
   "metadata": {},
   "outputs": [
    {
     "data": {
      "text/plain": [
       "k_{z}^{2} + \\frac{\\pi^{2} n_{x}^{2}}{a^{2}} + \\frac{\\pi^{2} n_{y}^{2}}{a^{2}} - \\frac{\\omega^{2}}{c^{2}} = 0"
      ]
     },
     "execution_count": 104,
     "metadata": {},
     "output_type": "execute_result"
    }
   ],
   "source": [
    "latex(dispersion_eq)"
   ]
  },
  {
   "cell_type": "code",
   "execution_count": 105,
   "metadata": {},
   "outputs": [
    {
     "data": {
      "text/latex": [
       "$\\displaystyle B_{1} {\\left(\\frac{k_{z}^{2}}{\\pi^{2}} - \\frac{k_{z}^{2} \\mu}{\\pi^{2} \\epsilon} - \\frac{\\mu n_{x}^{2}}{a^{2} \\epsilon} + \\frac{n_{y}^{2}}{a^{2}} - \\frac{\\mu n_{y}^{2}}{a^{2} \\epsilon}\\right)} - \\frac{B_{3} k_{z} n_{x}}{\\pi a} - \\frac{B_{2} n_{x} n_{y}}{a^{2}} = 0$"
      ],
      "text/plain": [
       "<IPython.core.display.Math object>"
      ]
     },
     "metadata": {},
     "output_type": "display_data"
    },
    {
     "data": {
      "text/latex": [
       "$\\displaystyle B_{2} {\\left(\\frac{k_{z}^{2}}{\\pi^{2}} - \\frac{k_{z}^{2} \\mu}{\\pi^{2} \\epsilon} + \\frac{n_{x}^{2}}{a^{2}} - \\frac{\\mu n_{x}^{2}}{a^{2} \\epsilon} - \\frac{\\mu n_{y}^{2}}{a^{2} \\epsilon}\\right)} - \\frac{B_{3} k_{z} n_{y}}{\\pi a} - \\frac{B_{1} n_{x} n_{y}}{a^{2}} = 0$"
      ],
      "text/plain": [
       "<IPython.core.display.Math object>"
      ]
     },
     "metadata": {},
     "output_type": "display_data"
    },
    {
     "data": {
      "text/latex": [
       "$\\displaystyle -B_{3} {\\left(\\frac{k_{z}^{2} \\mu}{\\pi^{2} \\epsilon} - \\frac{n_{x}^{2}}{a^{2}} + \\frac{\\mu n_{x}^{2}}{a^{2} \\epsilon} - \\frac{n_{y}^{2}}{a^{2}} + \\frac{\\mu n_{y}^{2}}{a^{2} \\epsilon}\\right)} - \\frac{B_{1} k_{z} n_{x}}{\\pi a} - \\frac{B_{2} k_{z} n_{y}}{\\pi a} = 0$"
      ],
      "text/plain": [
       "<IPython.core.display.Math object>"
      ]
     },
     "metadata": {},
     "output_type": "display_data"
    }
   ],
   "source": [
    "eq_x = eq_x.full_simplify().expand().lhs().collect(B_1) == 0\n",
    "eq_y = eq_y.full_simplify().expand().lhs().collect(B_2) == 0\n",
    "eq_z = eq_z.full_simplify().expand().lhs().collect(B_3) == 0\n",
    "\n",
    "\n",
    "disp(eq_x)\n",
    "disp(eq_y)\n",
    "disp(eq_z)"
   ]
  },
  {
   "cell_type": "code",
   "execution_count": 106,
   "metadata": {},
   "outputs": [
    {
     "data": {
      "text/latex": [
       "$\\displaystyle -{\\left(B_{3} a k_{z} + \\pi B_{1} n_{x} + \\pi B_{2} n_{y}\\right)} n_{x} = 0$"
      ],
      "text/plain": [
       "<IPython.core.display.Math object>"
      ]
     },
     "metadata": {},
     "output_type": "display_data"
    },
    {
     "data": {
      "text/latex": [
       "$\\displaystyle -{\\left(B_{3} a k_{z} + \\pi B_{1} n_{x} + \\pi B_{2} n_{y}\\right)} n_{y} = 0$"
      ],
      "text/plain": [
       "<IPython.core.display.Math object>"
      ]
     },
     "metadata": {},
     "output_type": "display_data"
    },
    {
     "data": {
      "text/latex": [
       "$\\displaystyle -{\\left(B_{3} a k_{z} + \\pi B_{1} n_{x} + \\pi B_{2} n_{y}\\right)} k_{z} = 0$"
      ],
      "text/plain": [
       "<IPython.core.display.Math object>"
      ]
     },
     "metadata": {},
     "output_type": "display_data"
    },
    {
     "data": {
      "text/latex": [
       "$\\displaystyle B_{3} k_{z} + \\frac{\\pi B_{1} n_{x}}{a} + \\frac{\\pi B_{2} n_{y}}{a} = 0$"
      ],
      "text/plain": [
       "<IPython.core.display.Math object>"
      ]
     },
     "metadata": {},
     "output_type": "display_data"
    },
    {
     "data": {
      "text/latex": [
       "$\\displaystyle \\frac{\\pi B_{2} n_{x}}{a} - \\frac{\\pi B_{1} n_{y}}{a} = 0$"
      ],
      "text/plain": [
       "<IPython.core.display.Math object>"
      ]
     },
     "metadata": {},
     "output_type": "display_data"
    },
    {
     "data": {
      "text/latex": [
       "$\\displaystyle -B_{2} k_{z} + \\frac{\\pi B_{3} n_{y}}{a} = 0$"
      ],
      "text/plain": [
       "<IPython.core.display.Math object>"
      ]
     },
     "metadata": {},
     "output_type": "display_data"
    },
    {
     "data": {
      "text/latex": [
       "$\\displaystyle -B_{1} k_{z} + \\frac{\\pi B_{3} n_{x}}{a} = 0$"
      ],
      "text/plain": [
       "<IPython.core.display.Math object>"
      ]
     },
     "metadata": {},
     "output_type": "display_data"
    },
    {
     "data": {
      "text/latex": [
       "$\\displaystyle k_{z}^{2} + \\frac{\\pi^{2} n_{x}^{2}}{a^{2}} + \\frac{\\pi^{2} n_{y}^{2}}{a^{2}} - \\frac{\\omega^{2}}{c^{2}} = 0$"
      ],
      "text/plain": [
       "<IPython.core.display.Math object>"
      ]
     },
     "metadata": {},
     "output_type": "display_data"
    }
   ],
   "source": [
    "eq_x = eq_x.subs(epsilon == 1, mu == 1).factor().lhs().numerator() == 0\n",
    "eq_y = eq_y.subs(epsilon == 1, mu == 1).factor().lhs().numerator() == 0\n",
    "eq_z = eq_z.subs(epsilon == 1, mu == 1).factor().lhs().numerator() == 0\n",
    "\n",
    "\n",
    "disp(eq_x)\n",
    "disp(eq_y)\n",
    "disp(eq_z)\n",
    "disp(eq_B)\n",
    "\n",
    "disp(eq_Ez_0)\n",
    "disp(eq_Ex_0)\n",
    "disp(eq_Ey_0)\n",
    "disp(dispersion_eq)"
   ]
  },
  {
   "cell_type": "code",
   "execution_count": 107,
   "metadata": {},
   "outputs": [
    {
     "data": {
      "text/latex": [
       "$\\displaystyle \\frac{\\pi B_{2} n_{x}}{a} - \\frac{\\pi B_{1} n_{y}}{a} = 0$"
      ],
      "text/plain": [
       "<IPython.core.display.Math object>"
      ]
     },
     "metadata": {},
     "output_type": "display_data"
    }
   ],
   "source": [
    "eq_Ez_0 = eq_Ez_0.subs(k_subs_xy)\n",
    "disp(eq_Ez_0)"
   ]
  },
  {
   "cell_type": "code",
   "execution_count": 108,
   "metadata": {},
   "outputs": [
    {
     "data": {
      "text/latex": [
       "$\\displaystyle -\\frac{B_{3} a k_{z} n_{x}}{\\pi n_{x}^{2} + \\pi n_{y}^{2}}$"
      ],
      "text/plain": [
       "<IPython.core.display.Math object>"
      ]
     },
     "metadata": {},
     "output_type": "display_data"
    },
    {
     "data": {
      "text/latex": [
       "$\\displaystyle -\\frac{B_{3} a k_{z} n_{y}}{\\pi n_{x}^{2} + \\pi n_{y}^{2}}$"
      ],
      "text/plain": [
       "<IPython.core.display.Math object>"
      ]
     },
     "metadata": {},
     "output_type": "display_data"
    }
   ],
   "source": [
    "B1_sol_z = solve(eq_B.subs(solve(eq_Ez_0, B_2)), B_1)[0].rhs()\n",
    "B2_sol_z = solve(eq_B.subs(solve(eq_Ez_0, B_1)), B_2)[0].rhs()\n",
    "disp(B1_sol_z)\n",
    "disp(B2_sol_z)"
   ]
  },
  {
   "cell_type": "code",
   "execution_count": 109,
   "metadata": {},
   "outputs": [
    {
     "data": {
      "text/latex": [
       "$\\displaystyle -\\frac{\\pi B_{1} a k_{z} n_{x}}{a^{2} k_{z}^{2} + \\pi^{2} n_{y}^{2}}$"
      ],
      "text/plain": [
       "<IPython.core.display.Math object>"
      ]
     },
     "metadata": {},
     "output_type": "display_data"
    },
    {
     "data": {
      "text/latex": [
       "$\\displaystyle -\\frac{\\pi^{2} B_{1} n_{x} n_{y}}{a^{2} k_{z}^{2} + \\pi^{2} n_{y}^{2}}$"
      ],
      "text/plain": [
       "<IPython.core.display.Math object>"
      ]
     },
     "metadata": {},
     "output_type": "display_data"
    }
   ],
   "source": [
    "B3_sol_x = solve(eq_B.subs(solve(eq_Ex_0, B_2)), B_3)[0].rhs()\n",
    "B2_sol_x = solve(eq_B.subs(solve(eq_Ex_0, B_3)), B_2)[0].rhs()\n",
    "disp(B3_sol_x)\n",
    "disp(B2_sol_x)"
   ]
  },
  {
   "cell_type": "code",
   "execution_count": 110,
   "metadata": {},
   "outputs": [
    {
     "data": {
      "text/latex": [
       "$\\displaystyle -\\frac{\\pi^{2} B_{2} n_{x} n_{y}}{a^{2} k_{z}^{2} + \\pi^{2} n_{x}^{2}}$"
      ],
      "text/plain": [
       "<IPython.core.display.Math object>"
      ]
     },
     "metadata": {},
     "output_type": "display_data"
    },
    {
     "data": {
      "text/latex": [
       "$\\displaystyle -\\frac{\\pi B_{2} a k_{z} n_{y}}{a^{2} k_{z}^{2} + \\pi^{2} n_{x}^{2}}$"
      ],
      "text/plain": [
       "<IPython.core.display.Math object>"
      ]
     },
     "metadata": {},
     "output_type": "display_data"
    }
   ],
   "source": [
    "B1_sol_y = solve(eq_B.subs(solve(eq_Ey_0, B_3)), B_1)[0].rhs()\n",
    "B3_sol_y = solve(eq_B.subs(solve(eq_Ey_0, B_1)), B_3)[0].rhs()\n",
    "disp(B1_sol_y)\n",
    "disp(B3_sol_y)"
   ]
  },
  {
   "cell_type": "code",
   "execution_count": 111,
   "metadata": {},
   "outputs": [
    {
     "name": "stdout",
     "output_type": "stream",
     "text": [
      "B_1 = -\\frac{B_{3} a k_{z} n_{x}}{\\pi n_{x}^{2} + \\pi n_{y}^{2}}\n",
      "B_2 = -\\frac{B_{3} a k_{z} n_{y}}{\\pi n_{x}^{2} + \\pi n_{y}^{2}}\n"
     ]
    }
   ],
   "source": [
    "print(\"B_1 = \" + latex(B1_sol_z))\n",
    "print(\"B_2 = \" + latex(B2_sol_z))"
   ]
  },
  {
   "cell_type": "code",
   "execution_count": 112,
   "metadata": {},
   "outputs": [
    {
     "name": "stdout",
     "output_type": "stream",
     "text": [
      "B_3 = -\\frac{\\pi B_{1} a k_{z} n_{x}}{a^{2} k_{z}^{2} + \\pi^{2} n_{y}^{2}}\n",
      "B_2 = -\\frac{\\pi^{2} B_{1} n_{x} n_{y}}{a^{2} k_{z}^{2} + \\pi^{2} n_{y}^{2}}\n"
     ]
    }
   ],
   "source": [
    "print(\"B_3 = \" + latex(B3_sol_x))\n",
    "print(\"B_2 = \" + latex(B2_sol_x))"
   ]
  },
  {
   "cell_type": "markdown",
   "metadata": {},
   "source": [
    "$div\\,\\vec{E} = 0$"
   ]
  },
  {
   "cell_type": "code",
   "execution_count": 113,
   "metadata": {},
   "outputs": [],
   "source": [
    "div_E = E_x.diff(x) + E_y.diff(y) + E_z.diff(z)"
   ]
  },
  {
   "cell_type": "code",
   "execution_count": 114,
   "metadata": {},
   "outputs": [
    {
     "data": {
      "text/latex": [
       "$\\displaystyle 0$"
      ],
      "text/plain": [
       "<IPython.core.display.Math object>"
      ]
     },
     "metadata": {},
     "output_type": "display_data"
    }
   ],
   "source": [
    "disp(div_E.full_simplify())"
   ]
  },
  {
   "cell_type": "code",
   "execution_count": null,
   "metadata": {},
   "outputs": [],
   "source": []
  },
  {
   "cell_type": "code",
   "execution_count": 115,
   "metadata": {},
   "outputs": [
    {
     "data": {
      "text/latex": [
       "$\\displaystyle -\\frac{2 \\, {\\left(B_{1}^{2} + B_{2}^{2}\\right)} a^{2} b^{3} c^{2} h k_{z}^{3} - {\\left(B_{1}^{2} + B_{2}^{2}\\right)} a^{2} b^{3} c^{2} k_{z}^{2} \\sin\\left(2 \\, h k_{z}\\right) + {\\left(2 \\, {\\left(\\pi^{2} B_{2}^{2} + \\pi^{2} B_{3}^{2}\\right)} b^{3} c^{2} h k_{z} + {\\left(\\pi^{2} B_{2}^{2} - \\pi^{2} B_{3}^{2}\\right)} b^{3} c^{2} \\sin\\left(2 \\, h k_{z}\\right)\\right)} n_{x}^{2} + {\\left(2 \\, {\\left(\\pi^{2} B_{1}^{2} + \\pi^{2} B_{3}^{2}\\right)} a^{2} b c^{2} h k_{z} + {\\left(\\pi^{2} B_{1}^{2} - \\pi^{2} B_{3}^{2}\\right)} a^{2} b c^{2} \\sin\\left(2 \\, h k_{z}\\right)\\right)} n_{y}^{2} - 2 \\, {\\left(2 \\, \\pi B_{1} B_{3} a b^{3} c^{2} h k_{z}^{2} - \\pi B_{1} B_{3} a b^{3} c^{2} k_{z} \\sin\\left(2 \\, h k_{z}\\right)\\right)} n_{x} - 2 \\, {\\left(2 \\, \\pi B_{2} B_{3} a^{2} b^{2} c^{2} h k_{z}^{2} - \\pi B_{2} B_{3} a^{2} b^{2} c^{2} k_{z} \\sin\\left(2 \\, h k_{z}\\right) + {\\left(2 \\, \\pi^{2} B_{1} B_{2} a b^{2} c^{2} h k_{z} + \\pi^{2} B_{1} B_{2} a b^{2} c^{2} \\sin\\left(2 \\, h k_{z}\\right)\\right)} n_{x}\\right)} n_{y}}{128 \\, \\pi a b^{2} k_{z} \\mu^{2} \\omega^{2}}$"
      ],
      "text/plain": [
       "<IPython.core.display.Math object>"
      ]
     },
     "metadata": {},
     "output_type": "display_data"
    }
   ],
   "source": [
    "E_E = ((E_x^2+E_y^2+E_z^2)/(8*pi)).subs(k_subs_xy).integrate(x, 0, a).integrate(y, 0, b).integrate(z, 0, h)\n",
    "disp(E_E)"
   ]
  },
  {
   "cell_type": "code",
   "execution_count": 116,
   "metadata": {},
   "outputs": [
    {
     "data": {
      "text/latex": [
       "$\\displaystyle \\frac{{\\left(B_{1}^{2} + B_{2}^{2} + B_{3}^{2}\\right)} a b h}{64 \\, \\pi}$"
      ],
      "text/plain": [
       "<IPython.core.display.Math object>"
      ]
     },
     "metadata": {},
     "output_type": "display_data"
    }
   ],
   "source": [
    "E_H = (((H_x^2+H_y^2+H_z^2)/(8*pi)).subs(omega_1).subs(k_subs_xy).subs(k_subs_z).subs(epsilon == 1, mu == 1).integrate(x, 0, a).integrate(y, 0, b).integrate(z, 0, h).subs(omega_2)).expand().full_simplify()\n",
    "disp(E_H)"
   ]
  },
  {
   "cell_type": "code",
   "execution_count": 117,
   "metadata": {},
   "outputs": [
    {
     "data": {
      "text/plain": [
       "\\frac{{\\left(B_{1}^{2} + B_{2}^{2} + B_{3}^{2}\\right)} a b h}{64 \\, \\pi}"
      ]
     },
     "execution_count": 117,
     "metadata": {},
     "output_type": "execute_result"
    }
   ],
   "source": [
    "latex(E_H)"
   ]
  },
  {
   "cell_type": "code",
   "execution_count": 118,
   "metadata": {},
   "outputs": [
    {
     "data": {
      "text/latex": [
       "$\\displaystyle -\\frac{\\pi^{2} B_{2}^{2} a^{2} b^{3} c^{2} h^{3} k_{z}^{2} n_{x}^{2} + \\pi^{4} B_{1}^{2} b^{3} c^{2} h^{3} n_{x}^{4} + 2 \\, \\pi^{4} B_{1} B_{2} a^{2} b c^{2} h^{3} n_{x} n_{y}^{3} + \\pi^{4} B_{2}^{2} a^{2} b c^{2} h^{3} n_{y}^{4} + {\\left(\\pi^{2} B_{1}^{2} + \\pi^{2} B_{2}^{2}\\right)} a^{4} b^{3} c^{2} h k_{z}^{2} n_{z}^{2} + {\\left(\\pi^{2} B_{1}^{2} a^{4} b c^{2} h^{3} k_{z}^{2} + {\\left(\\pi^{4} B_{1}^{2} a^{2} b + \\pi^{4} B_{2}^{2} b^{3}\\right)} c^{2} h^{3} n_{x}^{2}\\right)} n_{y}^{2} - 2 \\, {\\left(\\pi^{2} B_{1} B_{2} a^{3} b^{2} c^{2} h^{3} k_{z}^{2} n_{x} - \\pi^{4} B_{1} B_{2} b^{3} c^{2} h^{3} n_{x}^{3}\\right)} n_{y} + 2 \\, {\\left(\\pi^{3} B_{1}^{2} a^{2} b^{3} c^{2} h^{2} k_{z} n_{x}^{2} + \\pi^{3} B_{2}^{2} a^{3} b^{2} c^{2} h^{2} k_{z} n_{y}^{2} + {\\left(\\pi^{3} B_{1} B_{2} a^{3} b^{2} + \\pi^{3} B_{1} B_{2} a^{2} b^{3}\\right)} c^{2} h^{2} k_{z} n_{x} n_{y}\\right)} n_{z}}{64 \\, \\pi a^{3} b^{2} h^{2} k_{z}^{2} \\mu^{2} \\omega^{2}}$"
      ],
      "text/plain": [
       "<IPython.core.display.Math object>"
      ]
     },
     "metadata": {},
     "output_type": "display_data"
    }
   ],
   "source": [
    "E_E = ((E_x^2+E_y^2+E_z^2)/(8*pi)).subs(k_subs_xy).subs(k_subs_z).subs(solve(eq_B, B_3)).integrate(x, 0, a).integrate(y, 0, b).integrate(z, 0, h)\n",
    "disp(E_E)"
   ]
  },
  {
   "cell_type": "markdown",
   "metadata": {},
   "source": [
    "$E_H = E_E$"
   ]
  },
  {
   "cell_type": "markdown",
   "metadata": {},
   "source": [
    "$E = \\frac{\\hbar\\omega}{2} = \\frac{\\hbar\\,c}{2}\\sqrt{k_x^2+k_y^2+k_z^2}$"
   ]
  },
  {
   "cell_type": "markdown",
   "metadata": {},
   "source": [
    "$2\\,E_H = \\frac{\\hbar\\omega}{2}$"
   ]
  },
  {
   "cell_type": "code",
   "execution_count": 119,
   "metadata": {},
   "outputs": [
    {
     "data": {
      "text/latex": [
       "$\\displaystyle B_{1}^{2} + B_{2}^{2} + B_{3}^{2} = \\frac{16 \\, \\pi \\sqrt{k_{x}^{2} + k_{y}^{2} + k_{z}^{2}} c \\mathit{\\hbar}}{a b h}$"
      ],
      "text/plain": [
       "<IPython.core.display.Math object>"
      ]
     },
     "metadata": {},
     "output_type": "display_data"
    }
   ],
   "source": [
    "eq_homega_2E_H = (2*E_H)/(a*b*h)*32*pi == hbar*omega_1_vacuum.rhs()/2/(a*b*h)*32*pi\n",
    "disp(eq_homega_2E_H)"
   ]
  },
  {
   "cell_type": "code",
   "execution_count": 120,
   "metadata": {},
   "outputs": [
    {
     "data": {
      "text/latex": [
       "$\\displaystyle B_{1}^{2} + B_{2}^{2} + B_{3}^{2} = \\frac{16 \\, \\pi \\sqrt{k_{z}^{2} + \\frac{\\pi^{2} n_{x}^{2}}{a^{2}} + \\frac{\\pi^{2} n_{y}^{2}}{a^{2}}} c \\mathit{\\hbar}}{a^{2} h}$"
      ],
      "text/plain": [
       "<IPython.core.display.Math object>"
      ]
     },
     "metadata": {},
     "output_type": "display_data"
    }
   ],
   "source": [
    "eq_homega_2E_H=eq_homega_2E_H.subs(k_subs_xy).subs(b == a)#.subs(h_subs)\n",
    "disp(eq_homega_2E_H)"
   ]
  },
  {
   "cell_type": "raw",
   "metadata": {},
   "source": [
    "eq_homega_2E_H=eq_homega_2E_H.subs(k_subs_xy).subs(b == a,h == L/2)\n",
    "disp(eq_homega_2E_H)"
   ]
  },
  {
   "cell_type": "raw",
   "metadata": {},
   "source": [
    "eq_homega_2E_H=eq_homega_2E_H.subs(k_subs).subs(h == L/2)\n",
    "disp(eq_homega_2E_H)"
   ]
  },
  {
   "cell_type": "code",
   "execution_count": 121,
   "metadata": {},
   "outputs": [
    {
     "data": {
      "text/latex": [
       "$\\displaystyle \\frac{{\\left(B_{1}^{2} + B_{2}^{2}\\right)} a b}{32 \\, \\pi}$"
      ],
      "text/plain": [
       "<IPython.core.display.Math object>"
      ]
     },
     "metadata": {},
     "output_type": "display_data"
    }
   ],
   "source": [
    "F_z = (((H_x^2+H_y^2)/(8*pi)).subs(omega_1).subs(k_subs_xy).subs(epsilon == 1, mu == 1).subs(solve(eq_A, A_3)).integrate(x, 0, a).integrate(y, 0, b).subs(z == 0).subs(omega_2)).expand().full_simplify()\n",
    "disp(F_z)"
   ]
  },
  {
   "cell_type": "code",
   "execution_count": 122,
   "metadata": {},
   "outputs": [
    {
     "data": {
      "text/latex": [
       "$\\displaystyle \\frac{{\\left(B_{1}^{2} + B_{2}^{2}\\right)} a^{2}}{32 \\, \\pi}$"
      ],
      "text/plain": [
       "<IPython.core.display.Math object>"
      ]
     },
     "metadata": {},
     "output_type": "display_data"
    }
   ],
   "source": [
    "F_z = F_z.subs(b == a)\n",
    "disp(F_z)"
   ]
  },
  {
   "cell_type": "code",
   "execution_count": 123,
   "metadata": {},
   "outputs": [
    {
     "data": {
      "text/latex": [
       "$\\displaystyle \\frac{2 \\, {\\left(B_{1}^{2} + B_{2}^{2}\\right)} a}{{\\left(B_{1}^{2} + B_{2}^{2} + B_{3}^{2}\\right)} b}$"
      ],
      "text/plain": [
       "<IPython.core.display.Math object>"
      ]
     },
     "metadata": {},
     "output_type": "display_data"
    }
   ],
   "source": [
    "F_z_E_H = F_z/(a*b) / (E_H/(a*b*h))\n",
    "disp(F_z_E_H)"
   ]
  },
  {
   "cell_type": "code",
   "execution_count": 124,
   "metadata": {},
   "outputs": [
    {
     "data": {
      "text/plain": [
       "\\frac{2 \\, {\\left(B_{1}^{2} + B_{2}^{2}\\right)} a}{{\\left(B_{1}^{2} + B_{2}^{2} + B_{3}^{2}\\right)} b}"
      ]
     },
     "execution_count": 124,
     "metadata": {},
     "output_type": "execute_result"
    }
   ],
   "source": [
    "latex(F_z_E_H)"
   ]
  },
  {
   "cell_type": "code",
   "execution_count": 125,
   "metadata": {},
   "outputs": [
    {
     "data": {
      "text/latex": [
       "$\\displaystyle \\frac{2 \\, a^{3} k_{z}^{2}}{{\\left(a^{2} k_{z}^{2} + \\pi^{2} n_{x}^{2} + \\pi^{2} n_{y}^{2}\\right)} b}$"
      ],
      "text/plain": [
       "<IPython.core.display.Math object>"
      ]
     },
     "metadata": {},
     "output_type": "display_data"
    },
    {
     "name": "stdout",
     "output_type": "stream",
     "text": [
      "\\frac{2 \\, a^{3} k_{z}^{2}}{{\\left(a^{2} k_{z}^{2} + \\pi^{2} n_{x}^{2} + \\pi^{2} n_{y}^{2}\\right)} b}\n"
     ]
    },
    {
     "data": {
      "text/latex": [
       "$\\displaystyle \\frac{2 \\, {\\left(a^{4} k_{z}^{4} + 2 \\, \\pi^{2} a^{2} k_{z}^{2} n_{y}^{2} + \\pi^{4} n_{x}^{2} n_{y}^{2} + \\pi^{4} n_{y}^{4}\\right)} a}{{\\left(a^{2} k_{z}^{2} + \\pi^{2} n_{x}^{2} + \\pi^{2} n_{y}^{2}\\right)} {\\left(a^{2} k_{z}^{2} + \\pi^{2} n_{y}^{2}\\right)} b}$"
      ],
      "text/plain": [
       "<IPython.core.display.Math object>"
      ]
     },
     "metadata": {},
     "output_type": "display_data"
    },
    {
     "name": "stdout",
     "output_type": "stream",
     "text": [
      "\\frac{2 \\, {\\left(a^{4} k_{z}^{4} + 2 \\, \\pi^{2} a^{2} k_{z}^{2} n_{y}^{2} + \\pi^{4} n_{x}^{2} n_{y}^{2} + \\pi^{4} n_{y}^{4}\\right)} a}{{\\left(a^{2} k_{z}^{2} + \\pi^{2} n_{x}^{2} + \\pi^{2} n_{y}^{2}\\right)} {\\left(a^{2} k_{z}^{2} + \\pi^{2} n_{y}^{2}\\right)} b}\n"
     ]
    },
    {
     "data": {
      "text/latex": [
       "$\\displaystyle \\frac{2 \\, {\\left(a^{4} k_{z}^{4} + 2 \\, \\pi^{2} a^{2} k_{z}^{2} n_{x}^{2} + \\pi^{4} n_{x}^{4} + \\pi^{4} n_{x}^{2} n_{y}^{2}\\right)} a}{{\\left(a^{2} k_{z}^{2} + \\pi^{2} n_{x}^{2} + \\pi^{2} n_{y}^{2}\\right)} {\\left(a^{2} k_{z}^{2} + \\pi^{2} n_{x}^{2}\\right)} b}$"
      ],
      "text/plain": [
       "<IPython.core.display.Math object>"
      ]
     },
     "metadata": {},
     "output_type": "display_data"
    },
    {
     "name": "stdout",
     "output_type": "stream",
     "text": [
      "\\frac{2 \\, {\\left(a^{4} k_{z}^{4} + 2 \\, \\pi^{2} a^{2} k_{z}^{2} n_{x}^{2} + \\pi^{4} n_{x}^{4} + \\pi^{4} n_{x}^{2} n_{y}^{2}\\right)} a}{{\\left(a^{2} k_{z}^{2} + \\pi^{2} n_{x}^{2} + \\pi^{2} n_{y}^{2}\\right)} {\\left(a^{2} k_{z}^{2} + \\pi^{2} n_{x}^{2}\\right)} b}\n"
     ]
    }
   ],
   "source": [
    "F_z_E_H_z = F_z_E_H.subs(B_1 == B1_sol_z, B_2 = B2_sol_z).factor()\n",
    "disp(F_z_E_H_z)\n",
    "print(latex(F_z_E_H_z))\n",
    "\n",
    "F_z_E_H_x = F_z_E_H.subs(B_3 == B3_sol_x, B_2 = B2_sol_x).factor()\n",
    "disp(F_z_E_H_x)\n",
    "print(latex(F_z_E_H_x))\n",
    "\n",
    "F_z_E_H_y = F_z_E_H.subs(B_1 == B1_sol_y, B_3 = B3_sol_y).factor()\n",
    "disp(F_z_E_H_y)\n",
    "print(latex(F_z_E_H_y))\n"
   ]
  },
  {
   "cell_type": "code",
   "execution_count": 126,
   "metadata": {},
   "outputs": [
    {
     "data": {
      "text/latex": [
       "$\\displaystyle \\frac{2 \\, {\\left(a^{5} k_{z}^{4} + 2 \\, \\pi^{2} a^{3} k_{z}^{2} n_{y}^{2} + \\pi^{4} a n_{x}^{2} n_{y}^{2} + \\pi^{4} a n_{y}^{4}\\right)}}{a^{4} b k_{z}^{4} + \\pi^{2} a^{2} b k_{z}^{2} n_{x}^{2} + 2 \\, \\pi^{2} a^{2} b k_{z}^{2} n_{y}^{2} + \\pi^{4} b n_{x}^{2} n_{y}^{2} + \\pi^{4} b n_{y}^{4}}$"
      ],
      "text/plain": [
       "<IPython.core.display.Math object>"
      ]
     },
     "metadata": {},
     "output_type": "display_data"
    },
    {
     "name": "stdout",
     "output_type": "stream",
     "text": [
      "\\frac{2 \\, {\\left(a^{5} k_{z}^{4} + 2 \\, \\pi^{2} a^{3} k_{z}^{2} n_{y}^{2} + \\pi^{4} a n_{x}^{2} n_{y}^{2} + \\pi^{4} a n_{y}^{4}\\right)}}{a^{4} b k_{z}^{4} + \\pi^{2} a^{2} b k_{z}^{2} n_{x}^{2} + 2 \\, \\pi^{2} a^{2} b k_{z}^{2} n_{y}^{2} + \\pi^{4} b n_{x}^{2} n_{y}^{2} + \\pi^{4} b n_{y}^{4}}\n"
     ]
    }
   ],
   "source": [
    "F_z_E_H_x_ex = 2*(F_z_E_H_x.numerator()/2).expand()/F_z_E_H_x.denominator().expand()\n",
    "disp(F_z_E_H_x_ex)\n",
    "print(latex(F_z_E_H_x_ex))"
   ]
  },
  {
   "cell_type": "code",
   "execution_count": 127,
   "metadata": {},
   "outputs": [
    {
     "data": {
      "text/plain": [
       "a^5*k_z^4 + 2*pi^2*a^3*k_z^2*n_y^2 + pi^4*a*n_x^2*n_y^2 + pi^4*a*n_y^4"
      ]
     },
     "execution_count": 127,
     "metadata": {},
     "output_type": "execute_result"
    }
   ],
   "source": [
    "(F_z_E_H_x.numerator()/2).expand()"
   ]
  },
  {
   "cell_type": "code",
   "execution_count": 128,
   "metadata": {},
   "outputs": [
    {
     "data": {
      "text/plain": [
       "a^4*b*k_z^4 + pi^2*a^2*b*k_z^2*n_x^2 + 2*pi^2*a^2*b*k_z^2*n_y^2 + pi^4*b*n_x^2*n_y^2 + pi^4*b*n_y^4"
      ]
     },
     "execution_count": 128,
     "metadata": {},
     "output_type": "execute_result"
    }
   ],
   "source": [
    "F_z_E_H_x.denominator().expand()"
   ]
  },
  {
   "cell_type": "code",
   "execution_count": 129,
   "metadata": {},
   "outputs": [
    {
     "data": {
      "text/plain": [
       "\\frac{{\\left(B_{1}^{2} + B_{2}^{2}\\right)} a^{2}}{32 \\, \\pi}"
      ]
     },
     "execution_count": 129,
     "metadata": {},
     "output_type": "execute_result"
    }
   ],
   "source": [
    "latex(F_z)"
   ]
  },
  {
   "cell_type": "code",
   "execution_count": 131,
   "metadata": {},
   "outputs": [
    {
     "data": {
      "text/latex": [
       "$\\displaystyle \\frac{{\\left(a^{2} k_{z}^{2} + \\pi^{2} n_{x}^{2} + \\pi^{2} n_{y}^{2}\\right)} B_{3}^{2} a b h}{64 \\, \\pi^{3} {\\left(n_{x}^{2} + n_{y}^{2}\\right)}}$"
      ],
      "text/plain": [
       "<IPython.core.display.Math object>"
      ]
     },
     "metadata": {},
     "output_type": "display_data"
    }
   ],
   "source": [
    "disp(E_H.subs(B_1 == B1_sol_z, B_2 = B2_sol_z).factor())"
   ]
  },
  {
   "cell_type": "code",
   "execution_count": 133,
   "metadata": {},
   "outputs": [
    {
     "data": {
      "text/latex": [
       "$\\displaystyle \\frac{B_{3}^{2} a^{4} k_{z}^{2}}{32 \\, \\pi^{3} {\\left(n_{x}^{2} + n_{y}^{2}\\right)}}$"
      ],
      "text/plain": [
       "<IPython.core.display.Math object>"
      ]
     },
     "metadata": {},
     "output_type": "display_data"
    }
   ],
   "source": [
    "disp(F_z.subs(B_1 == B1_sol_z, B_2 = B2_sol_z).factor())"
   ]
  },
  {
   "cell_type": "code",
   "execution_count": 134,
   "metadata": {},
   "outputs": [],
   "source": [
    "eq_B = eq_B.subs(b == a)"
   ]
  },
  {
   "cell_type": "code",
   "execution_count": 135,
   "metadata": {},
   "outputs": [
    {
     "data": {
      "text/latex": [
       "$\\displaystyle B_{3} k_{z} + \\frac{\\pi B_{1} n_{x}}{a} + \\frac{\\pi B_{2} n_{y}}{a} = 0$"
      ],
      "text/plain": [
       "<IPython.core.display.Math object>"
      ]
     },
     "metadata": {},
     "output_type": "display_data"
    }
   ],
   "source": [
    "disp(eq_B)"
   ]
  },
  {
   "cell_type": "code",
   "execution_count": 136,
   "metadata": {},
   "outputs": [
    {
     "data": {
      "text/latex": [
       "$\\displaystyle \\left[B_{3} = -\\frac{\\pi B_{1} n_{x} + \\pi B_{2} n_{y}}{a k_{z}}\\right]$"
      ],
      "text/plain": [
       "<IPython.core.display.Math object>"
      ]
     },
     "metadata": {},
     "output_type": "display_data"
    }
   ],
   "source": [
    "eq_B3 = solve(eq_B, B_3)\n",
    "disp(eq_B3)"
   ]
  },
  {
   "cell_type": "code",
   "execution_count": 137,
   "metadata": {},
   "outputs": [
    {
     "data": {
      "text/latex": [
       "$\\displaystyle -{\\left(B_{3} a k_{z} + \\pi B_{1} n_{x} + \\pi B_{2} n_{y}\\right)} n_{x} = 0$"
      ],
      "text/plain": [
       "<IPython.core.display.Math object>"
      ]
     },
     "metadata": {},
     "output_type": "display_data"
    }
   ],
   "source": [
    "disp(eq_x)"
   ]
  },
  {
   "cell_type": "code",
   "execution_count": 138,
   "metadata": {},
   "outputs": [
    {
     "data": {
      "text/latex": [
       "$\\displaystyle \\left[B_{3} = -\\frac{\\pi B_{1} n_{x} + \\pi B_{2} n_{y}}{a k_{z}}\\right]$"
      ],
      "text/plain": [
       "<IPython.core.display.Math object>"
      ]
     },
     "metadata": {},
     "output_type": "display_data"
    }
   ],
   "source": [
    "eq_B3x = solve(eq_z, B_3)\n",
    "disp(eq_B3x)"
   ]
  },
  {
   "cell_type": "code",
   "execution_count": 139,
   "metadata": {},
   "outputs": [
    {
     "data": {
      "text/latex": [
       "$\\displaystyle B_{1}^{2} + B_{2}^{2} + \\frac{{\\left(\\pi B_{1} n_{x} + \\pi B_{2} n_{y}\\right)}^{2}}{a^{2} k_{z}^{2}} = \\frac{16 \\, \\pi \\sqrt{k_{z}^{2} + \\frac{\\pi^{2} n_{x}^{2}}{a^{2}} + \\frac{\\pi^{2} n_{y}^{2}}{a^{2}}} c \\mathit{\\hbar}}{a^{2} h}$"
      ],
      "text/plain": [
       "<IPython.core.display.Math object>"
      ]
     },
     "metadata": {},
     "output_type": "display_data"
    }
   ],
   "source": [
    "eq_homega_2E_H = eq_homega_2E_H.subs(eq_B3)\n",
    "disp(eq_homega_2E_H)"
   ]
  },
  {
   "cell_type": "markdown",
   "metadata": {},
   "source": [
    "$\\frac{1}{2}\\sum\\,\\hbar\\omega = \\hbar\\,c\\frac{1}{2}\\int\\limits_{0}^{\\infty}\\left[{\\sqrt{k_z^2}+2\\sum\\limits_{n_x=1}^{\\infty}\\sum\\limits_{n_y=1}^{\\infty}\\sqrt{n_x^2\\frac{\\pi^2}{a^2}+n_y^2\\frac{\\pi^2}{a^2}+k_z^2}}\\right]d{n_z}$  (small cavity, one honeycomb),"
   ]
  },
  {
   "cell_type": "markdown",
   "metadata": {},
   "source": [
    "where $\\omega _{n_x,n_y} = c\\,\\sqrt{n_x^2\\frac{\\pi^2}{a^2}+n_y^2\\frac{\\pi^2}{a^2}+k_z^2}$"
   ]
  },
  {
   "cell_type": "markdown",
   "metadata": {},
   "source": [
    "Introducing the variable $u^2 = a^2\\,k_z^2/\\pi^2$\n",
    "\n",
    "$du = a/\\pi\\,dk_z$"
   ]
  },
  {
   "cell_type": "markdown",
   "metadata": {},
   "source": [
    "$\\omega _{n_x,n_y} = c\\,\\frac{\\pi}{a}\\sqrt{n_x^2+n_y^2+u^2}$"
   ]
  },
  {
   "cell_type": "markdown",
   "metadata": {},
   "source": [
    "\\begin{equation}\n",
    "\\delta\\,\\frac{E}{V} = \\frac{\\hbar\\,c\\,\\pi}{a^4}\\left\\{\n",
    "\\sum\\limits_{n_x=\\left(0\\right)\\,1}^{\\infty}\n",
    "\\sum\\limits_{n_y=\\left(0\\right)\\,1}^{\\infty}\n",
    "\\int\\limits_{0}^{\\infty}\n",
    "{\\sqrt{n_x^2 + n_y^2 + u^2}}\n",
    "f\\left(\\frac{\\pi\\sqrt{n_x^2 + n_y^2 + u^2}}{a\\,k_m}\\right)\n",
    "\\,d{u}\n",
    "-\n",
    "\\int\\limits_{0}^{\\infty}\n",
    "\\int\\limits_{0}^{\\infty}\n",
    "\\int\\limits_{0}^{\\infty}\n",
    "{\\sqrt{n_x^2 + n_y^2 + u^2}}\n",
    "f\\left(\\frac{\\pi\\sqrt{n_x^2 + n_y^2 + u^2}}{a\\,k_m}\\right)\n",
    "\\,d{u}\\,d{n_x}\\,d{n_y}\n",
    "\\right\\}\n",
    "\\end{equation}"
   ]
  },
  {
   "cell_type": "code",
   "execution_count": null,
   "metadata": {},
   "outputs": [],
   "source": []
  }
 ],
 "metadata": {
  "kernelspec": {
   "display_name": "SageMath 9.6.beta7",
   "language": "sage",
   "name": "sagemath"
  },
  "language_info": {
   "codemirror_mode": {
    "name": "ipython",
    "version": 3
   },
   "file_extension": ".py",
   "mimetype": "text/x-python",
   "name": "python",
   "nbconvert_exporter": "python",
   "pygments_lexer": "ipython3",
   "version": "3.10.3"
  }
 },
 "nbformat": 4,
 "nbformat_minor": 2
}
