{
 "cells": [
  {
   "cell_type": "markdown",
   "metadata": {},
   "source": [
    "В данной работе я, развивая подход Казимира, показываю что по аналогии с обычным эффектом Казимира, когда на каждую из двух пластин действует приталкивающая сила Казимира как разность электромагнитных давлений квантовых колебаний вакуума нулевой температуры по разные стороны каждой из пластин, за счет того, что геометрия вакуумного резонатора во внутренней и во внешней области различна, можно попытаться создать разность электромагнитных давлений квантовых колебаний вакуума по разные стороны только лишь одной пластины за счет различия геометрии вакуумных резонаторов по обе ее стороны. Для этого на одной из поверхностей гладкой металлической пластины нужно вырастить наносоты.\n",
    "\n",
    "В данной работе для простоты расчётов я анализирую наносоты квадратной формы. Результат моего расчёта может быть с некоторой неизвестной пока поправкой использован для оценки эффекта Казимира в сотах например шестигранной формы, изготовление которых является более простой задачей, однако строгий расчёт полей для шестигранной формы сот весьма затруднителен."
   ]
  },
  {
   "cell_type": "markdown",
   "metadata": {},
   "source": [
    "https://www.dwc.knaw.nl/DL/publications/PU00018547.pdf\n",
    "\n",
    "Mathematics.\n",
    "\n",
    "# On the specific energy density difference on different sides of perfectly conducting honeycomb on a plate.\n",
    "\n",
    "By A. Ju. Drozdov\n",
    "\n",
    "(Feb 14. 2021. - Feb 09. 2022 - July 20 2022 - Sept 1 2022) "
   ]
  },
  {
   "cell_type": "markdown",
   "metadata": {},
   "source": [
    "Let us consider a cubic cavity of volume $L^3$ bounded by perfectly conducting walls and let a perfectly conducting square plate with side $L$ be\n",
    "placed in this cavity parallel to the $xy$ face and let us compare the\n",
    "situation in whieh this plate is at a very large, say $L/2$ distance a from the $xy$ face. \n",
    "\n",
    "One side of this perfectly conducting square plate is a pure plane and other is covered by perfectly conducting honeycomb.\n",
    "\n",
    "On both sided of the the plate\n",
    "expressions $\\frac{1}{2}\\sum\\,\\hbar\\omega$ where the summation extends over all possible\n",
    "resonance frequencies of the cavity $L/2\\times L\\times L$ (large cavity beetween pure plane and $xy$ face) and the cavity $L/2\\times a\\times a$ (small cavity, one honeycomb) are divergent and devoid of physical\n",
    "meaning but the difference between these sums on the opposite sides,\n",
    "$\\frac{1}{2\\,V_{I}}\\left(\\sum\\,\\,\\hbar\\omega\\right)_{I} - \\frac{1}{2\\,V_{II}}\\left(\\sum\\,\\,\\hbar\\omega\\right)_{II}$, will be shown to have a weIl defined value and this\n",
    "value will be interpreted as the interaction between the plate and the both\n",
    "$xy$ faces."
   ]
  },
  {
   "cell_type": "markdown",
   "metadata": {},
   "source": [
    "The possible vibrations of the cavities defined by "
   ]
  },
  {
   "cell_type": "markdown",
   "metadata": {},
   "source": [
    "$0<=x<=L$, $0<=y<=L$, $0<=z<=L/2$ (large cavity beetween pure plane and $xy$ face)"
   ]
  },
  {
   "cell_type": "markdown",
   "metadata": {},
   "source": [
    "and"
   ]
  },
  {
   "cell_type": "markdown",
   "metadata": {},
   "source": [
    "$0<=x<=a$, $0<=y<=a$, $0<=z<=L/2$ (small cavity, one honeycomb)"
   ]
  },
  {
   "cell_type": "markdown",
   "metadata": {},
   "source": [
    "have wave vectors"
   ]
  },
  {
   "cell_type": "markdown",
   "metadata": {},
   "source": [
    "$k_x = \\frac{\\pi}{L}\\,n_x$, $k_y = \\frac{\\pi}{L}\\,n_y$, $k_z = \\frac{\\pi}{L/2}\\,n_z$ (large cavity beetween pure plane and $xy$ face),"
   ]
  },
  {
   "cell_type": "markdown",
   "metadata": {},
   "source": [
    "and"
   ]
  },
  {
   "cell_type": "markdown",
   "metadata": {},
   "source": [
    "$k_x = \\frac{\\pi}{a}\\,n_x$, $k_y = \\frac{\\pi}{a}\\,n_y$, $k_z = \\frac{\\pi}{L/2}\\,n_z$ (small cavity, one honeycomb),\n",
    "\n",
    "where $n_x$. $n_y$, $n_z$:\n",
    "\n",
    "are positive integers;"
   ]
  },
  {
   "cell_type": "markdown",
   "metadata": {},
   "source": [
    "$k = \\sqrt{k_x^2+k_y^2+k_z^2} = \\sqrt{\\kappa^2+k_z^2}$. "
   ]
  },
  {
   "cell_type": "markdown",
   "metadata": {},
   "source": [
    "$E = \\frac{1}{2}\\sum\\,\\hbar\\omega = \\hbar\\,c\\frac{1}{2}\\sum\\limits_{n_x}^{}\\sum\\limits_{n_y}^{}\\sum\\limits_{n_z}^{}k$"
   ]
  },
  {
   "cell_type": "markdown",
   "metadata": {},
   "source": [
    "To every $k_x$, $k_y$, $k_z$ correspond two standing waves unless one of the $n_i$\n",
    "is zero, when there is only one."
   ]
  },
  {
   "cell_type": "markdown",
   "metadata": {},
   "source": [
    "In case of one honeycomb cavity for $k_z$ this is without importance since\n",
    "for very large $L/2$ we may regard $k_z$ as continuous variable. Thus we\n",
    "find "
   ]
  },
  {
   "cell_type": "markdown",
   "metadata": {},
   "source": [
    "$\\frac{1}{2}\\sum\\,\\hbar\\omega = \\hbar\\,c\\frac{1}{2}\\int\\limits_{0}^{\\infty}\\left[{\\sqrt{k_z^2}+2\\sum\\limits_{n_x=1}^{\\infty}\\sum\\limits_{n_y=1}^{\\infty}\\sqrt{n_x^2\\frac{\\pi^2}{a^2}+n_y^2\\frac{\\pi^2}{a^2}+k_z^2}}\\right]d{n_z}$  (small cavity, one honeycomb),"
   ]
  },
  {
   "cell_type": "markdown",
   "metadata": {},
   "source": [
    "$dn_z = \\frac{L/2}{\\pi}\\,dk_z$,"
   ]
  },
  {
   "cell_type": "markdown",
   "metadata": {},
   "source": [
    "Now we can find the specific energy density $E/V$, where $V = V_{small} = L/2 a^2$:"
   ]
  },
  {
   "cell_type": "markdown",
   "metadata": {},
   "source": [
    "$\\frac{1}{2\\,V}\\sum\\,\\hbar\\omega = \\frac{1}{a^2\\,L/2}\\hbar\\,c\\frac{1}{2}\\int\\limits_{0}^{\\infty}\\left[{\\sqrt{k_z^2}+2\\sum\\limits_{n_x=1}^{\\infty}\\sum\\limits_{n_y=1}^{\\infty}\\sqrt{n_x^2\\frac{\\pi^2}{a^2}+n_y^2\\frac{\\pi^2}{a^2}+k_z^2}}\\right]\\frac{L/2}{\\pi}\\,dk_z$  (small cavity, one honeycomb),"
   ]
  },
  {
   "cell_type": "markdown",
   "metadata": {},
   "source": [
    "$\\frac{1}{2\\,V}\\sum\\,\\hbar\\omega = \\frac{1}{a^2\\,\\pi}\\hbar\\,c\\int\\limits_{0}^{\\infty}\\left[{\\frac{1}{2}\\sqrt{k_z^2}+\\sum\\limits_{n_x=1}^{\\infty}\\sum\\limits_{n_y=1}^{\\infty}\\sqrt{n_x^2\\frac{\\pi^2}{a^2}+n_y^2\\frac{\\pi^2}{a^2}+k_z^2}}\\right]\\,dk_z$  (small cavity, one honeycomb),"
   ]
  },
  {
   "cell_type": "markdown",
   "metadata": {},
   "source": [
    "$\\frac{1}{2\\,V}\\sum\\,\\hbar\\omega = \\frac{1}{a^2\\,\\pi}\\hbar\\,c\\int\\limits_{0}^{\\infty}\\left[{\\sum\\limits_{n_x=(0)1}^{\\infty}\\sum\\limits_{n_y=(0)1}^{\\infty}\\sqrt{n_x^2\\frac{\\pi^2}{a^2}+n_y^2\\frac{\\pi^2}{a^2}+k_z^2}}\\right]\\,dk_z$  (small cavity, one honeycomb),"
   ]
  },
  {
   "cell_type": "markdown",
   "metadata": {},
   "source": [
    "where the notation $\\left(0\\right) 1$ is meant to indicate that the term with $n_x = 0$ and $n_y = 0$\n",
    "has to be multiplied by $\\frac{1}{2}$. "
   ]
  },
  {
   "cell_type": "markdown",
   "metadata": {},
   "source": [
    "$\\frac{1}{2\\,V}\\sum\\,\\hbar\\omega = \\frac{1}{a^2\\,\\pi}\\hbar\\,c\\sum\\limits_{n_x=(0)1}^{\\infty}\\sum\\limits_{n_y=(0)1}^{\\infty}\\left[\\int\\limits_{0}^{\\infty}\\sqrt{n_x^2\\frac{\\pi^2}{a^2}+n_y^2\\frac{\\pi^2}{a^2}+k_z^2}\\,dk_z\\right]$  (small cavity, one honeycomb),"
   ]
  },
  {
   "cell_type": "raw",
   "metadata": {},
   "source": []
  },
  {
   "cell_type": "markdown",
   "metadata": {},
   "source": [
    "And in case of large cavity for $k_x$, $k_y$ this is without importance since\n",
    "for very large $L$ we may regard $k_x$, $k_y$ as continuous variables. Thus we\n",
    "find "
   ]
  },
  {
   "cell_type": "markdown",
   "metadata": {},
   "source": [
    "$\\frac{1}{2}\\sum\\,\\hbar\\omega = \\hbar\\,c\\frac{1}{2}\\int\\limits_{0}^{\\infty}\\int\\limits_{0}^{\\infty}\\left[{\\sqrt{k_x^2+k_y^2}+2\\sum\\limits_{n_z=1}^{\\infty}\\sqrt{n_z^2\\frac{\\pi^2}{(L/2)^2}+k_x^2+k_y^2}}\\right]d{n_x}d{n_y}$ (large cavity beetween pure plane and $xy$ face),"
   ]
  },
  {
   "cell_type": "markdown",
   "metadata": {},
   "source": [
    "For very large $L/2$ also this last summation may\n",
    "be replaced by an integral and it is therefore easily seen that our interaction energy is given by "
   ]
  },
  {
   "cell_type": "markdown",
   "metadata": {},
   "source": [
    "$\\frac{1}{2}\\sum\\,\\hbar\\omega = \\hbar\\,c\\int\\limits_{0}^{\\infty}\\int\\limits_{0}^{\\infty}\\int\\limits_{0}^{\\infty}\\sqrt{k_z^2+k_x^2+k_y^2}\\,d{n_x}\\,d{n_y}\\,d{n_z}$ (large cavity beetween pure plane and $xy$ face),"
   ]
  },
  {
   "cell_type": "markdown",
   "metadata": {},
   "source": [
    "$dn_x = \\frac{L}{\\pi}\\,dk_x$, $dn_y = \\frac{L}{\\pi}\\,dk_y$, $dn_z = \\frac{L/2}{\\pi}\\,dk_z$,"
   ]
  },
  {
   "cell_type": "markdown",
   "metadata": {},
   "source": [
    "Now we can find the specific energy density $E/V$, where $V = V_{large} = L^3/2$ :"
   ]
  },
  {
   "cell_type": "markdown",
   "metadata": {},
   "source": [
    "$\\frac{1}{2\\,V}\\sum\\,\\hbar\\omega = \\frac{1}{L^3/2}\\hbar\\,c\\int\\limits_{0}^{\\infty}\\int\\limits_{0}^{\\infty}\\int\\limits_{0}^{\\infty}\\sqrt{k_z^2+k_x^2+k_y^2}\\,dn_x\\,dn_y\\,\\frac{L/2}{\\pi}\\,dk_z$ (large cavity beetween pure plane and $xy$ face),"
   ]
  },
  {
   "cell_type": "markdown",
   "metadata": {},
   "source": [
    "$\\frac{1}{2\\,V}\\sum\\,\\hbar\\omega = \\frac{1}{L^2\\,\\pi}\\hbar\\,c\\int\\limits_{0}^{\\infty}\\int\\limits_{0}^{\\infty}\\left[\\,\\int\\limits_{0}^{\\infty}\\sqrt{k_z^2+k_x^2+k_y^2}\\,dk_z\\right]\\,dn_x\\,dn_y$ (large cavity beetween pure plane and $xy$ face),"
   ]
  },
  {
   "cell_type": "raw",
   "metadata": {},
   "source": []
  },
  {
   "cell_type": "markdown",
   "metadata": {},
   "source": [
    "$\\frac{1}{2\\,V}\\sum\\,\\hbar\\omega = \\frac{1}{a^2\\,\\pi}\\hbar\\,c\\sum\\limits_{n_x=(0)1}^{\\infty}\\sum\\limits_{n_y=(0)1}^{\\infty}\\left[\\,\\int\\limits_{0}^{\\infty}\\sqrt{n_x^2\\frac{\\pi^2}{a^2}+n_y^2\\frac{\\pi^2}{a^2}+k_z^2}\\,dk_z\\right]$  (small cavity, one honeycomb),"
   ]
  },
  {
   "cell_type": "markdown",
   "metadata": {},
   "source": [
    "$\\frac{1}{2\\,V}\\sum\\,\\hbar\\omega = \\frac{1}{L^2\\,\\pi}\\hbar\\,c\\int\\limits_{0}^{\\infty}\\int\\limits_{0}^{\\infty}\\left[\\,\\int\\limits_{0}^{\\infty}\\sqrt{k_x^2+k_y^2+k_z^2}\\,dk_z\\right]\\,dn_x\\,dn_y$ (large cavity beetween pure plane and $xy$ face),"
   ]
  },
  {
   "cell_type": "markdown",
   "metadata": {},
   "source": [
    "$\\frac{1}{2\\,V}\\sum\\,\\hbar\\omega = \\frac{1}{L^2\\,\\pi}\\hbar\\,c\\int\\limits_{0}^{\\infty}\\int\\limits_{0}^{\\infty}\\left[\\,\\int\\limits_{0}^{\\infty}\\sqrt{k_x^2+k_y^2+k_z^2}\\,dk_z\\right]\\,\\left(\\frac{L}{\\pi}dk_x\\right)\\,\\left(\\frac{L}{\\pi}dk_y\\right)$ (large cavity beetween pure plane and $xy$ face),"
   ]
  },
  {
   "cell_type": "markdown",
   "metadata": {},
   "source": [
    "$\\frac{a^2}{2\\,V}\\sum\\,\\hbar\\omega = \\frac{1}{\\pi}\\hbar\\,c\\int\\limits_{0}^{\\infty}\\int\\limits_{0}^{\\infty}\\left[\\,\\int\\limits_{0}^{\\infty}\\sqrt{k_x^2+k_y^2+k_z^2}\\,dk_z\\right]\\,\\left(\\frac{a}{\\pi}dk_x\\right)\\,\\left(\\frac{a}{\\pi}dk_y\\right)$ (large cavity beetween pure plane and $xy$ face),"
   ]
  },
  {
   "cell_type": "markdown",
   "metadata": {},
   "source": [
    "$\\frac{1}{2\\,V}\\sum\\,\\hbar\\omega = \\frac{1}{a^2\\,\\pi}\\hbar\\,c\\int\\limits_{0}^{\\infty}\\int\\limits_{0}^{\\infty}\\left[\\,\\int\\limits_{0}^{\\infty}\\sqrt{k_x^2+k_y^2+k_z^2}\\,dk_z\\right]\\,\\left(\\frac{a}{\\pi}dk_x\\right)\\,\\left(\\frac{a}{\\pi}dk_y\\right)$ (large cavity beetween pure plane and $xy$ face),"
   ]
  },
  {
   "cell_type": "markdown",
   "metadata": {},
   "source": [
    "it is therefore easily seen that our interaction energy is given by "
   ]
  },
  {
   "cell_type": "markdown",
   "metadata": {},
   "source": [
    "$\\delta\\,\\frac{E}{V} = \\frac{1}{a^2\\,\\pi}\\hbar\\,c\\left\\{\\sum\\limits_{n_x=(0)1}^{\\infty}\\sum\\limits_{n_y=(0)1}^{\\infty}\\left[\\,\\int\\limits_{0}^{\\infty}\\sqrt{n_x^2\\frac{\\pi^2}{a^2}+n_y^2\\frac{\\pi^2}{a^2}+k_z^2}\\,dk_z\\right] - \\int\\limits_{0}^{\\infty}\\int\\limits_{0}^{\\infty}\\left[\\,\\int\\limits_{0}^{\\infty}\\sqrt{k_x^2+k_y^2+k_z^2}\\,dk_z\\right]\\,\\left(\\frac{a}{\\pi}dk_x\\right)\\,\\left(\\frac{a}{\\pi}dk_y\\right)\\right\\}$"
   ]
  },
  {
   "cell_type": "markdown",
   "metadata": {},
   "source": [
    "$\\delta\\,\\frac{E}{V} = \\frac{1}{a^2\\,\\pi}\\hbar\\,c\\left\\{\\sum\\limits_{n_x=(0)1}^{\\infty}\\sum\\limits_{n_y=(0)1}^{\\infty}\\left[\\,\\int\\limits_{0}^{\\infty}\\sqrt{n_x^2\\frac{\\pi^2}{a^2}+n_y^2\\frac{\\pi^2}{a^2}+k_z^2}\\,dk_z\\right] - \\int\\limits_{0}^{\\infty}\\int\\limits_{0}^{\\infty}\\left[\\,\\int\\limits_{0}^{\\infty}\\sqrt{k_x^2+k_y^2+k_z^2}\\,dk_z\\right]\\,dn_x\\,dn_y\\right\\}$"
   ]
  },
  {
   "cell_type": "raw",
   "metadata": {},
   "source": []
  },
  {
   "cell_type": "markdown",
   "metadata": {},
   "source": [
    "${\\left(\\frac{E}{V}\\right)_{small\\,cavity} = \\frac{1}{a^2}\\hbar \\, \\sum\\limits_{n_x=(0)1}^{\\infty}\\sum\\limits_{n_y=(0)1}^{\\infty}\\,\\int\\limits_{0}^{\\infty} {\\frac {dk_{z}}{\\pi}}\\omega _{n_x,n_y}.}$"
   ]
  },
  {
   "cell_type": "markdown",
   "metadata": {},
   "source": [
    "where $\\omega _{n_x,n_y} = c\\,\\sqrt{n_x^2\\frac{\\pi^2}{a^2}+n_y^2\\frac{\\pi^2}{a^2}+k_z^2}$"
   ]
  },
  {
   "cell_type": "markdown",
   "metadata": {},
   "source": [
    "This expression is clearly infinite, and to proceed with the calculation, it is convenient to introduce a regulator."
   ]
  },
  {
   "cell_type": "markdown",
   "metadata": {},
   "source": [
    "In order to obtain a finite result it is necessary to multiply the integrands\n",
    "by a function $f(k/k_m)$ which is unity for $k << k_m$ but tends to zero sufficiently rapidly for $(k/k_m)\\, \\rightarrow\\,\\infty$. where $k_m$ may be defined by $f(1) = \\frac{1}{2}$.\n",
    "The physical meaning is obvious: for very short waves (X~rays e.g.)\n",
    "our plate is hardly an obstacle at all and therefore the zero point energy\n",
    "of these waves will not be influenced by the position of this plate. "
   ]
  },
  {
   "cell_type": "markdown",
   "metadata": {},
   "source": [
    "The regulator will serve to make the expression finite, and in the end will be removed. The regulated version of the energy per unit-area of the plate is"
   ]
  },
  {
   "cell_type": "markdown",
   "metadata": {},
   "source": [
    "Introducing the variable $u^2 = a^2\\,k_z^2/\\pi^2$, $du = a/\\pi\\,dk_z$, we have:"
   ]
  },
  {
   "cell_type": "markdown",
   "metadata": {},
   "source": [
    "\\begin{eqnarray}\n",
    "\\delta\\,\\frac{E}{V} = \\frac{\\hbar\\,c\\,\\pi}{a^4}\\left\\{\n",
    "\\sum\\limits_{n_x=\\left(0\\right)\\,1}^{\\infty}\n",
    "\\sum\\limits_{n_y=\\left(0\\right)\\,1}^{\\infty}\n",
    "\\int\\limits_{0}^{\\infty}\n",
    "{\\sqrt{n_x^2 + n_y^2 + u^2}}\n",
    "f\\left(\\frac{\\pi\\sqrt{n_x^2 + n_y^2 + u^2}}{a\\,k_m}\\right)\n",
    "\\,d{u}\n",
    "- \\\\\n",
    "- \\int\\limits_{0}^{\\infty}\n",
    "\\int\\limits_{0}^{\\infty}\n",
    "\\int\\limits_{0}^{\\infty}\n",
    "{\\sqrt{n_x^2 + n_y^2 + u^2}}\n",
    "f\\left(\\frac{\\pi\\sqrt{n_x^2 + n_y^2 + u^2}}{a\\,k_m}\\right)\n",
    "\\,d{u}\\,d{n_x}\\,d{n_y}\n",
    "\\right\\}\n",
    "\\end{eqnarray}"
   ]
  },
  {
   "cell_type": "markdown",
   "metadata": {},
   "source": [
    "\\begin{eqnarray}\n",
    "\\delta\\,\\frac{E}{V} = \\frac{\\hbar\\,c\\,\\pi}{a^4}\n",
    "\\int\\limits_{0}^{\\infty}\n",
    "\\left\\{\n",
    "\\sum\\limits_{n_x=\\left(0\\right)\\,1}^{\\infty}\n",
    "\\sum\\limits_{n_y=\\left(0\\right)\\,1}^{\\infty}\n",
    "{\\sqrt{n_x^2 + n_y^2 + u^2}}\n",
    "f\\left(\\frac{\\pi\\sqrt{n_x^2 + n_y^2 + u^2}}{a\\,k_m}\\right)\n",
    "- \\\\\n",
    "- \\int\\limits_{0}^{\\infty}\n",
    "\\int\\limits_{0}^{\\infty}\n",
    "{\\sqrt{n_x^2 + n_y^2 + u^2}}\n",
    "f\\left(\\frac{\\pi\\sqrt{n_x^2 + n_y^2 + u^2}}{a\\,k_m}\\right)\n",
    "\\,d{n_x}\\,d{n_y}\n",
    "\\right\\}\n",
    "\\,d{u}\n",
    "\\end{eqnarray}"
   ]
  },
  {
   "cell_type": "markdown",
   "metadata": {},
   "source": [
    "Introdusing function:"
   ]
  },
  {
   "cell_type": "markdown",
   "metadata": {},
   "source": [
    "\\begin{equation}\n",
    "F\\left(u, n_x, n_y\\right) = \n",
    "\\sqrt{n_x^2 + n_y^2+u^2}\\,\n",
    "f\\left(\\frac{\\pi\\sqrt{n_x^2 + n_y^2+u^2}}{a\\,k_m}\\right)\n",
    "\\end{equation}"
   ]
  },
  {
   "cell_type": "markdown",
   "metadata": {},
   "source": [
    "we can write:"
   ]
  },
  {
   "cell_type": "markdown",
   "metadata": {},
   "source": [
    "\\begin{equation}\n",
    "\\delta\\,\\frac{E}{V} = \\frac{\\hbar\\,c\\,\\pi}{a^4}\n",
    "\\int\\limits_{0}^{\\infty}{\n",
    "\\left\\{\n",
    "\\sum\\limits_{n_x=\\left(0\\right)\\,1}^{\\infty}\n",
    "\\sum\\limits_{n_y=\\left(0\\right)\\,1}^{\\infty}\n",
    "F\\left(u, n_x, n_y\\right)\n",
    "-\n",
    "\\int\\limits_{0}^{\\infty}\n",
    "\\int\\limits_{0}^{\\infty}\n",
    "F\\left(u, n_x, n_y\\right)\\,d{n_x}\\,d{n_y}\n",
    "\\right\\}\n",
    "}\\,d{u}\n",
    "\\end{equation}"
   ]
  },
  {
   "cell_type": "markdown",
   "metadata": {},
   "source": [
    "\\begin{equation}\n",
    "\\delta\\,\\frac{E}{V} = \\frac{\\hbar\\,c\\,\\pi}{a^4}\n",
    "\\left\\{\n",
    "\\sum\\limits_{n_x=\\left(0\\right)\\,1}^{\\infty}\n",
    "\\sum\\limits_{n_y=\\left(0\\right)\\,1}^{\\infty}\n",
    "\\left(\\int\\limits_{0}^{\\infty}F\\left(u, n_x, n_y\\right)\\,d{u}\\right)\n",
    "-\n",
    "\\int\\limits_{0}^{\\infty}\n",
    "\\int\\limits_{0}^{\\infty}\n",
    "\\left(\\int\\limits_{0}^{\\infty}F\\left(u, n_x, n_y\\right)\\,d{u}\\right)\n",
    "\\,d{n_x}\\,d{n_y}\n",
    "\\right\\}\n",
    "\\end{equation}"
   ]
  },
  {
   "cell_type": "markdown",
   "metadata": {},
   "source": [
    "And at least, introdusing"
   ]
  },
  {
   "cell_type": "markdown",
   "metadata": {},
   "source": [
    "\\begin{equation}\n",
    "G\\left(n_x, n_y\\right) = \\left(\\int\\limits_{0}^{\\infty}F\\left(u, n_x, n_y\\right)\\,d{u}\\right)\n",
    "\\end{equation}"
   ]
  },
  {
   "cell_type": "markdown",
   "metadata": {},
   "source": [
    "We have"
   ]
  },
  {
   "cell_type": "markdown",
   "metadata": {},
   "source": [
    "\\begin{equation}\n",
    "\\delta\\,\\frac{E}{V} = \\frac{\\hbar\\,c\\,\\pi}{a^4}\n",
    "\\left\\{\n",
    "\\sum\\limits_{n_x=\\left(0\\right)\\,1}^{\\infty}\n",
    "\\sum\\limits_{n_y=\\left(0\\right)\\,1}^{\\infty}\n",
    "G\\left(n_x, n_y\\right)\n",
    "-\n",
    "\\int\\limits_{0}^{\\infty}\n",
    "\\int\\limits_{0}^{\\infty}\n",
    "G\\left(n_x, n_y\\right)\n",
    "\\,d{n_x}\\,d{n_y}\n",
    "\\right\\}\n",
    "\\end{equation}"
   ]
  },
  {
   "cell_type": "markdown",
   "metadata": {},
   "source": [
    "Let's use the following regulator function"
   ]
  },
  {
   "cell_type": "code",
   "execution_count": 8,
   "metadata": {},
   "outputs": [
    {
     "data": {
      "text/latex": [
       "$\\displaystyle f\\left(\\frac{k}{k_m}\\right) = \\frac{1}{\\frac{k^{4}}{k_{m}^{4}} + 1}$"
      ],
      "text/plain": [
       "<IPython.core.display.Math object>"
      ]
     },
     "metadata": {},
     "output_type": "display_data"
    }
   ],
   "source": [
    "f = function('f')(var(\"k_km\"))\n",
    "fn = lambda k_km : 1 / (1 + (k_km)^4)\n",
    "display(Math(\"f\\\\left(\\\\frac{k}{k_m}\\\\right) = \" + latex(fn(k/k_m))))"
   ]
  },
  {
   "cell_type": "markdown",
   "metadata": {},
   "source": [
    "$k_m$ may be defined by $f(1) = \\frac{1}{2}$."
   ]
  },
  {
   "cell_type": "code",
   "execution_count": 9,
   "metadata": {},
   "outputs": [
    {
     "data": {
      "text/plain": [
       "0.500000000000000"
      ]
     },
     "execution_count": 9,
     "metadata": {},
     "output_type": "execute_result"
    }
   ],
   "source": [
    "e2n(fn(1))"
   ]
  },
  {
   "cell_type": "markdown",
   "metadata": {},
   "source": [
    "which is unity for $k << k_m$ but tends to zero sufficiently rapidly for $(k/k_m)\\, \\rightarrow\\,\\infty$. "
   ]
  },
  {
   "cell_type": "code",
   "execution_count": 10,
   "metadata": {},
   "outputs": [
    {
     "data": {
      "image/png": "[encoded data removed]",
      "text/plain": [
       "Graphics object consisting of 1 graphics primitive"
      ]
     },
     "execution_count": 10,
     "metadata": {},
     "output_type": "execute_result"
    }
   ],
   "source": [
    "plot(fn(x), (x, 0, 3))"
   ]
  },
  {
   "cell_type": "code",
   "execution_count": 11,
   "metadata": {},
   "outputs": [
    {
     "data": {
      "text/plain": [
       "(1.00000000000000, 0)"
      ]
     },
     "execution_count": 11,
     "metadata": {},
     "output_type": "execute_result"
    }
   ],
   "source": [
    "e2n(fn(0)), limit(fn(k_km), k_km=Infinity)"
   ]
  },
  {
   "cell_type": "markdown",
   "metadata": {},
   "source": [
    "Integral of regulator function"
   ]
  },
  {
   "cell_type": "code",
   "execution_count": 12,
   "metadata": {},
   "outputs": [
    {
     "data": {
      "text/latex": [
       "$\\displaystyle \\int{f(k/k_m)d(k/k_m)}= \\frac{1}{4} \\, \\sqrt{2} \\arctan\\left(\\frac{1}{2} \\, \\sqrt{2} {\\left(\\sqrt{2} + \\frac{2 \\, k}{k_{m}}\\right)}\\right) + \\frac{1}{4} \\, \\sqrt{2} \\arctan\\left(-\\frac{1}{2} \\, \\sqrt{2} {\\left(\\sqrt{2} - \\frac{2 \\, k}{k_{m}}\\right)}\\right) + \\frac{1}{8} \\, \\sqrt{2} \\log\\left(\\frac{\\sqrt{2} k}{k_{m}} + \\frac{k^{2}}{k_{m}^{2}} + 1\\right) - \\frac{1}{8} \\, \\sqrt{2} \\log\\left(-\\frac{\\sqrt{2} k}{k_{m}} + \\frac{k^{2}}{k_{m}^{2}} + 1\\right)$"
      ],
      "text/plain": [
       "<IPython.core.display.Math object>"
      ]
     },
     "metadata": {},
     "output_type": "display_data"
    }
   ],
   "source": [
    "Jfn = integrate(fn(k_km), k_km)\n",
    "display(Math(\"\\\\int{f(k/k_m)d(k/k_m)}=\" + latex(Jfn.subs(k_km == k/k_m))))"
   ]
  },
  {
   "cell_type": "markdown",
   "metadata": {},
   "source": [
    "The limit of regulator function integral at Infinity has finite value:"
   ]
  },
  {
   "cell_type": "code",
   "execution_count": 13,
   "metadata": {},
   "outputs": [
    {
     "data": {
      "text/latex": [
       "$\\displaystyle \\frac{1}{4} \\, \\sqrt{2} \\pi$"
      ],
      "text/plain": [
       "<IPython.core.display.Math object>"
      ]
     },
     "metadata": {},
     "output_type": "display_data"
    }
   ],
   "source": [
    "disp(limit(Jfn, k_km = Infinity))"
   ]
  },
  {
   "cell_type": "code",
   "execution_count": 14,
   "metadata": {},
   "outputs": [
    {
     "data": {
      "image/png": "[encoded data removed]",
      "text/plain": [
       "Graphics object consisting of 1 graphics primitive"
      ]
     },
     "execution_count": 14,
     "metadata": {},
     "output_type": "execute_result"
    }
   ],
   "source": [
    "plot(Jfn, k_km, 0, 100)"
   ]
  },
  {
   "cell_type": "markdown",
   "metadata": {},
   "source": [
    "If $\\omega _{n_x,n_y} = c\\,\\sqrt{n_x^2\\frac{\\pi^2}{a^2}+n_y^2\\frac{\\pi^2}{a^2}+k_z^2}$\n",
    "\n",
    "and \n",
    "\n",
    "$k_z^2 = u^2 \\frac{\\pi^2}{a^2}$\n",
    "\n",
    "we have\n",
    "\n",
    "$\\omega _{n_x,n_y} = c \\, \\frac{\\pi}{a} \\sqrt{n_x^2+n_y^2+u^2}$\n",
    "\n",
    "so\n",
    "\n",
    "$f\\left(\\frac{\\pi\\sqrt{n_x^2 + n_y^2+u^2}}{a\\,k_m}\\right) = f\\left(\\frac{\\omega _{n_x,n_y}}{c\\,k_m}\\right)$\n",
    "\n",
    "where the cutting frequency is\n",
    "\n",
    "$\\omega_m = c\\,k_m$"
   ]
  },
  {
   "cell_type": "markdown",
   "metadata": {},
   "source": [
    "\\begin{equation}\n",
    "F\\left(u, n_x, n_y\\right) = \n",
    "\\sqrt{n_x^2 + n_y^2+u^2}\\,\n",
    "f\\left(\\frac{\\pi\\sqrt{n_x^2 + n_y^2+u^2}}{a\\,k_m}\\right)\n",
    "\\end{equation}"
   ]
  },
  {
   "cell_type": "code",
   "execution_count": 15,
   "metadata": {},
   "outputs": [
    {
     "data": {
      "text/latex": [
       "$\\displaystyle F\\left(u, n_x, n_y, a, k_m\\right) = \\sqrt{n_{x}^{2} + n_{y}^{2} + u^{2}} f\\left(\\frac{\\pi \\sqrt{n_{x}^{2} + n_{y}^{2} + u^{2}}}{a k_{m}}\\right)$"
      ],
      "text/plain": [
       "<IPython.core.display.Math object>"
      ]
     },
     "metadata": {},
     "output_type": "display_data"
    }
   ],
   "source": [
    "Fu = lambda u, n_x, n_y, a, k_m : sqrt(n_x^2 + n_y^2 + u^2)*f(k_km=pi*sqrt(n_x^2 + n_y^2 + u^2)/(a*k_m))\n",
    "display(Math(\"F\\\\left(u, n_x, n_y, a, k_m\\\\right) = \" + latex(Fu(u, n_x, n_y, a, k_m))))"
   ]
  },
  {
   "cell_type": "code",
   "execution_count": 16,
   "metadata": {},
   "outputs": [
    {
     "data": {
      "text/latex": [
       "$\\displaystyle F\\left(u, n_x, n_y, a, k_m\\right) = \\frac{\\sqrt{n_{x}^{2} + n_{y}^{2} + u^{2}}}{\\frac{\\pi^{4} {\\left(n_{x}^{2} + n_{y}^{2} + u^{2}\\right)}^{2}}{a^{4} k_{m}^{4}} + 1}$"
      ],
      "text/plain": [
       "<IPython.core.display.Math object>"
      ]
     },
     "metadata": {},
     "output_type": "display_data"
    }
   ],
   "source": [
    "Fn = lambda u, n_x, n_y, a, k_m : sqrt(n_x^2 + n_y^2 + u^2)*fn(k_km=pi*sqrt(n_x^2 + n_y^2 + u^2)/(a*k_m))\n",
    "display(Math(\"F\\\\left(u, n_x, n_y, a, k_m\\\\right) = \" + latex(Fn(u, n_x, n_y, a, k_m))))"
   ]
  },
  {
   "cell_type": "markdown",
   "metadata": {},
   "source": [
    "Introducing the variable \n",
    "\n",
    "$n_{xy} = \\sqrt{n_x^2 + n_y^2}$"
   ]
  },
  {
   "cell_type": "code",
   "execution_count": 17,
   "metadata": {},
   "outputs": [
    {
     "data": {
      "text/latex": [
       "$\\displaystyle F\\left(u, n_{xy}, ak_m\\right) = \\frac{\\sqrt{n_{\\mathit{xy}}^{2} + u^{2}}}{\\frac{\\pi^{4} {\\left(n_{\\mathit{xy}}^{2} + u^{2}\\right)}^{2}}{\\mathit{ak}_{m}^{4}} + 1}$"
      ],
      "text/plain": [
       "<IPython.core.display.Math object>"
      ]
     },
     "metadata": {},
     "output_type": "display_data"
    }
   ],
   "source": [
    "ak_m, n_xy = var(\"ak_m, n_xy\")\n",
    "assume(n_xy>0, ak_m > 1)\n",
    "\n",
    "Fnu = lambda u, n_xy, ak_m : sqrt(n_xy^2 + u^2)*fn(k_km=pi*sqrt(n_xy^2 + u^2)/(ak_m))\n",
    "display(Math(\"F\\\\left(u, n_{xy}, ak_m\\\\right) = \" + latex(Fnu(u, n_xy, ak_m))))"
   ]
  },
  {
   "cell_type": "markdown",
   "metadata": {},
   "source": [
    "we have\n",
    "\n",
    "$n = \\sqrt{n_x^2 + n_y^2 + u^2} = \\sqrt{n_{xy}^2 + u^2}$\n",
    "\n",
    "And using this variable we can make the following substitution\n",
    "\n",
    "$u = \\sqrt{n^2 - n_x^2 - n_y^2} = \\sqrt{n^2 - n_{xy}^2}$\n",
    "\n",
    "$\\frac{du}{dn} = \\frac{n}{\\sqrt{n^{2} - \\mathit{n_{xy}}^{2}}}$\n",
    "\n",
    "$d{u}= \\frac{n\\,d{n}}{\\sqrt{n^{2} - \\mathit{n_{xy}}^{2}}}$"
   ]
  },
  {
   "cell_type": "markdown",
   "metadata": {},
   "source": [
    "And now we can rewrite our integral"
   ]
  },
  {
   "cell_type": "markdown",
   "metadata": {},
   "source": [
    "\\begin{equation}\n",
    "G\\left(n_x, n_y\\right) = \\int\\limits_{0}^{\\infty}\\sqrt{n_x^2 + n_y^2+u^2}\\,\n",
    "f\\left(\\frac{\\pi\\sqrt{n_x^2 + n_y^2+u^2}}{a\\,k_m}\\right)\\,d{u}, \n",
    "\\end{equation}\n",
    "changing integration variable from $u$ into $n$"
   ]
  },
  {
   "cell_type": "markdown",
   "metadata": {},
   "source": [
    "\\begin{equation}\n",
    "G\\left(n_x, n_y\\right) = \\int\\limits_{\\sqrt{n_x^2 + n_y^2}}^{\\infty}\\sqrt{n_x^2 + n_y^2+u^2}\\,\n",
    "f\\left(\\frac{\\pi\\sqrt{n_x^2 + n_y^2+u^2}}{a\\,k_m}\\right)\\,dn{\\frac{n}{\\sqrt{n^{2} - n_{x}^{2} - n_{y}^{2}}}}\n",
    "\\end{equation}"
   ]
  },
  {
   "cell_type": "markdown",
   "metadata": {},
   "source": [
    "\\begin{equation}\n",
    "G\\left(n_x, n_y\\right) = \\int\\limits_{n_{xy}}^{\\infty}n\\,\n",
    "f\\left(\\frac{\\pi\\,n}{a\\,k_m}\\right)\\,dn{\\frac{n}{\\sqrt{n^{2} - n_{xy}^{2}}}}\n",
    "\\end{equation}"
   ]
  },
  {
   "cell_type": "markdown",
   "metadata": {},
   "source": [
    "Because in this form that integral can be taken analitically. So we have the following integrand:"
   ]
  },
  {
   "cell_type": "code",
   "execution_count": 18,
   "metadata": {},
   "outputs": [
    {
     "data": {
      "text/latex": [
       "$\\displaystyle F\\left(n, n_{xy}, ak_m\\right) = \\frac{n^{2}}{{\\left(\\frac{\\pi^{4} n^{4}}{\\mathit{ak}_{m}^{4}} + 1\\right)} \\sqrt{n^{2} - n_{\\mathit{xy}}^{2}}}$"
      ],
      "text/plain": [
       "<IPython.core.display.Math object>"
      ]
     },
     "metadata": {},
     "output_type": "display_data"
    }
   ],
   "source": [
    "ak_m, n = var(\"ak_m, n\")\n",
    "assume(n > 0, ak_m > 1)\n",
    "\n",
    "Fnn = lambda n, n_xy, ak_m : n^2*fn(k_km=pi*n/(ak_m))/sqrt(n^2-n_xy^2)\n",
    "display(Math(\"F\\\\left(n, n_{xy}, ak_m\\\\right) = \" + latex(Fnn(n, n_xy, ak_m))))"
   ]
  },
  {
   "cell_type": "markdown",
   "metadata": {},
   "source": [
    "and the following limits of integration by $n$"
   ]
  },
  {
   "cell_type": "code",
   "execution_count": 19,
   "metadata": {},
   "outputs": [],
   "source": [
    "n_a = n_xy\n",
    "n_b = Infinity"
   ]
  },
  {
   "cell_type": "markdown",
   "metadata": {},
   "source": [
    "Lets use Abel substitution:\n",
    "\n",
    "$$t = \\left(\\sqrt{n^2-n_{xy}^2}\\right)'$$"
   ]
  },
  {
   "cell_type": "code",
   "execution_count": 20,
   "metadata": {},
   "outputs": [
    {
     "data": {
      "text/latex": [
       "$\\displaystyle t = \\frac{n}{\\sqrt{n^{2} - n_{\\mathit{xy}}^{2}}}$"
      ],
      "text/plain": [
       "<IPython.core.display.Math object>"
      ]
     },
     "metadata": {},
     "output_type": "display_data"
    }
   ],
   "source": [
    "t = var(\"t\")\n",
    "exec(preparse(\"abel_subs_t = t == \" + str(sqrt(n^2-n_xy^2).diff(n))))\n",
    "disp(abel_subs_t)"
   ]
  },
  {
   "cell_type": "markdown",
   "metadata": {},
   "source": [
    "and the following limits of integration by $t$"
   ]
  },
  {
   "cell_type": "code",
   "execution_count": 21,
   "metadata": {},
   "outputs": [
    {
     "data": {
      "text/plain": [
       "limit(n/sqrt(n^2 - n_xy^2), n, n_xy)"
      ]
     },
     "execution_count": 21,
     "metadata": {},
     "output_type": "execute_result"
    }
   ],
   "source": [
    "t_a = limit(abel_subs_t.rhs(), n = n_a)\n",
    "t_a"
   ]
  },
  {
   "cell_type": "code",
   "execution_count": 23,
   "metadata": {},
   "outputs": [],
   "source": [
    "t_a = +Infinity"
   ]
  },
  {
   "cell_type": "code",
   "execution_count": 24,
   "metadata": {},
   "outputs": [
    {
     "data": {
      "text/plain": [
       "1"
      ]
     },
     "execution_count": 24,
     "metadata": {},
     "output_type": "execute_result"
    }
   ],
   "source": [
    "t_b = limit(abel_subs_t.rhs(), n = n_b)\n",
    "t_b"
   ]
  },
  {
   "cell_type": "markdown",
   "metadata": {},
   "source": [
    "Let's write dependency of $n$ from $t$"
   ]
  },
  {
   "cell_type": "code",
   "execution_count": 25,
   "metadata": {},
   "outputs": [
    {
     "data": {
      "text/latex": [
       "$\\displaystyle n = \\sqrt{n^{2} - n_{\\mathit{xy}}^{2}} t$"
      ],
      "text/plain": [
       "<IPython.core.display.Math object>"
      ]
     },
     "metadata": {},
     "output_type": "display_data"
    },
    {
     "data": {
      "text/latex": [
       "$\\displaystyle n^{2} = {\\left(n^{2} - n_{\\mathit{xy}}^{2}\\right)} t^{2}$"
      ],
      "text/plain": [
       "<IPython.core.display.Math object>"
      ]
     },
     "metadata": {},
     "output_type": "display_data"
    },
    {
     "data": {
      "text/latex": [
       "$\\displaystyle n^{2} = \\frac{n_{\\mathit{xy}}^{2} t^{2}}{t^{2} - 1}$"
      ],
      "text/plain": [
       "<IPython.core.display.Math object>"
      ]
     },
     "metadata": {},
     "output_type": "display_data"
    }
   ],
   "source": [
    "abel_subs_n = abel_subs_t.solve(n)[0]\n",
    "abel_subs_n2 = abel_subs_n.lhs()^2 == abel_subs_n.rhs()^2\n",
    "abel_subs_n2_solve_n2 = abel_subs_n2.solve(n^2)[0]\n",
    "disp(abel_subs_n2_solve_n2)"
   ]
  },
  {
   "cell_type": "code",
   "execution_count": 26,
   "metadata": {},
   "outputs": [
    {
     "data": {
      "text/latex": [
       "$\\displaystyle n = n_{\\mathit{xy}} \\sqrt{\\frac{t^{2}}{t^{2} - 1}}$"
      ],
      "text/plain": [
       "<IPython.core.display.Math object>"
      ]
     },
     "metadata": {},
     "output_type": "display_data"
    }
   ],
   "source": [
    "abel_subs_n2_solve_n1 = (abel_subs_n2_solve_n2.lhs()^(1/2)) == abel_subs_n2_solve_n2.rhs()^(1/2)\n",
    "disp(abel_subs_n2_solve_n1)"
   ]
  },
  {
   "cell_type": "code",
   "execution_count": 27,
   "metadata": {},
   "outputs": [
    {
     "data": {
      "text/latex": [
       "$\\displaystyle n^{4} = \\frac{n_{\\mathit{xy}}^{4} t^{4}}{{\\left(t^{2} - 1\\right)}^{2}}$"
      ],
      "text/plain": [
       "<IPython.core.display.Math object>"
      ]
     },
     "metadata": {},
     "output_type": "display_data"
    }
   ],
   "source": [
    "abel_subs_n2_solve_n4 = abel_subs_n2_solve_n2.lhs()^2 == abel_subs_n2_solve_n2.rhs()^2\n",
    "disp(abel_subs_n2_solve_n4)"
   ]
  },
  {
   "cell_type": "markdown",
   "metadata": {},
   "source": [
    "and derivatives:"
   ]
  },
  {
   "cell_type": "code",
   "execution_count": 28,
   "metadata": {},
   "outputs": [
    {
     "data": {
      "text/latex": [
       "$\\displaystyle \\frac{dt}{dn} = \\frac{d}{dn} \\left( \\frac{n}{\\sqrt{n^{2} - n_{\\mathit{xy}}^{2}}} \\right)= -\\frac{n^{2}}{{\\left(n^{2} - n_{\\mathit{xy}}^{2}\\right)}^{\\frac{3}{2}}} + \\frac{1}{\\sqrt{n^{2} - n_{\\mathit{xy}}^{2}}}$"
      ],
      "text/plain": [
       "<IPython.core.display.Math object>"
      ]
     },
     "metadata": {},
     "output_type": "display_data"
    }
   ],
   "source": [
    "dtdn = abel_subs_t.rhs().diff(n)\n",
    "display(Math(\"\\\\frac{dt}{dn} = \\\\frac{d}{dn} \\\\left(\" + latex(abel_subs_t.rhs()) + \" \\\\right)=\" + latex(dtdn)))"
   ]
  },
  {
   "cell_type": "code",
   "execution_count": 29,
   "metadata": {},
   "outputs": [
    {
     "data": {
      "text/latex": [
       "$\\displaystyle \\frac{dn}{dt} = -\\frac{n^{4} - 2 \\, n^{2} n_{\\mathit{xy}}^{2} + n_{\\mathit{xy}}^{4}}{\\sqrt{n^{2} - n_{\\mathit{xy}}^{2}} n_{\\mathit{xy}}^{2}}$"
      ],
      "text/plain": [
       "<IPython.core.display.Math object>"
      ]
     },
     "metadata": {},
     "output_type": "display_data"
    }
   ],
   "source": [
    "dndt = (1/dtdn).full_simplify()\n",
    "display(Math(\"\\\\frac{dn}{dt} = \" + latex(dndt)))"
   ]
  },
  {
   "cell_type": "markdown",
   "metadata": {},
   "source": [
    "Now we can rewrite the integrand making it depending from $t$"
   ]
  },
  {
   "cell_type": "code",
   "execution_count": 30,
   "metadata": {},
   "outputs": [
    {
     "data": {
      "text/latex": [
       "$\\displaystyle F\\left(t, n_{xy}, ak_m\\right) = F\\left(n, n_{xy}, ak_m\\right) \\cdot \\frac{dn}{dt} \\, \\Bigg\\rvert_{ n = n_{\\mathit{xy}} \\sqrt{\\frac{t^{2}}{t^{2} - 1}} }$"
      ],
      "text/plain": [
       "<IPython.core.display.Math object>"
      ]
     },
     "metadata": {},
     "output_type": "display_data"
    },
    {
     "data": {
      "text/latex": [
       "$\\displaystyle F\\left(n, n_{xy}, ak_m\\right) \\cdot \\frac{dn}{dt} = -\\frac{{\\left(n^{4} - 2 \\, n^{2} n_{\\mathit{xy}}^{2} + n_{\\mathit{xy}}^{4}\\right)} n^{2}}{{\\left(\\frac{\\pi^{4} n^{4}}{\\mathit{ak}_{m}^{4}} + 1\\right)} {\\left(n^{2} - n_{\\mathit{xy}}^{2}\\right)} n_{\\mathit{xy}}^{2}}$"
      ],
      "text/plain": [
       "<IPython.core.display.Math object>"
      ]
     },
     "metadata": {},
     "output_type": "display_data"
    },
    {
     "data": {
      "text/latex": [
       "$\\displaystyle F\\left(t, n_{xy}, ak_m\\right) = -\\frac{{\\left(\\frac{n_{\\mathit{xy}}^{4} t^{4}}{{\\left(t^{2} - 1\\right)}^{2}} - \\frac{2 \\, n_{\\mathit{xy}}^{4} t^{2}}{t^{2} - 1} + n_{\\mathit{xy}}^{4}\\right)} t^{2}}{{\\left(\\frac{\\pi^{4} n_{\\mathit{xy}}^{4} t^{4}}{{\\left(t^{2} - 1\\right)}^{2} \\mathit{ak}_{m}^{4}} + 1\\right)} {\\left(\\frac{n_{\\mathit{xy}}^{2} t^{2}}{t^{2} - 1} - n_{\\mathit{xy}}^{2}\\right)} {\\left(t^{2} - 1\\right)}}$"
      ],
      "text/plain": [
       "<IPython.core.display.Math object>"
      ]
     },
     "metadata": {},
     "output_type": "display_data"
    },
    {
     "data": {
      "text/latex": [
       "$\\displaystyle F\\left(t, n_{xy}, ak_m\\right) = \\frac{\\mathit{ak}_{m}^{4} n_{\\mathit{xy}}^{2} t^{2}}{2 \\, \\mathit{ak}_{m}^{4} t^{2} - {\\left(\\pi^{4} n_{\\mathit{xy}}^{4} + \\mathit{ak}_{m}^{4}\\right)} t^{4} - \\mathit{ak}_{m}^{4}}$"
      ],
      "text/plain": [
       "<IPython.core.display.Math object>"
      ]
     },
     "metadata": {},
     "output_type": "display_data"
    }
   ],
   "source": [
    "display(Math(\"F\\\\left(t, n_{xy}, ak_m\\\\right) = F\\\\left(n, n_{xy}, ak_m\\\\right) \\\\cdot \\\\frac{dn}{dt} \\\\, \\\\Bigg\\\\rvert_{\" + latex(abel_subs_n2_solve_n1) + \"}\"))\n",
    "\n",
    "integrand_tn = Fnn(n, n_xy, ak_m)*dndt\n",
    "display(Math(\"F\\\\left(n, n_{xy}, ak_m\\\\right) \\\\cdot \\\\frac{dn}{dt} = \" + latex(integrand_tn)))\n",
    "\n",
    "integrand_t = integrand_tn.subs(abel_subs_n2_solve_n2).subs(abel_subs_n2_solve_n4)\n",
    "display(Math(\"F\\\\left(t, n_{xy}, ak_m\\\\right) = \" + latex(integrand_t)))\n",
    "\n",
    "integrand_t = integrand_t.full_simplify()\n",
    "display(Math(\"F\\\\left(t, n_{xy}, ak_m\\\\right) = \" + latex(integrand_t)))"
   ]
  },
  {
   "cell_type": "markdown",
   "metadata": {},
   "source": [
    "Numerator is:"
   ]
  },
  {
   "cell_type": "code",
   "execution_count": 31,
   "metadata": {},
   "outputs": [
    {
     "data": {
      "text/latex": [
       "$\\displaystyle -\\mathit{ak}_{m}^{4} n_{\\mathit{xy}}^{2} t^{2}$"
      ],
      "text/plain": [
       "<IPython.core.display.Math object>"
      ]
     },
     "metadata": {},
     "output_type": "display_data"
    }
   ],
   "source": [
    "integrand_t_num = integrand_t.numerator()\n",
    "disp(integrand_t_num)"
   ]
  },
  {
   "cell_type": "markdown",
   "metadata": {},
   "source": [
    "denominator is:"
   ]
  },
  {
   "cell_type": "code",
   "execution_count": 32,
   "metadata": {},
   "outputs": [
    {
     "data": {
      "text/latex": [
       "$\\displaystyle -2 \\, \\mathit{ak}_{m}^{4} t^{2} + {\\left(\\pi^{4} n_{\\mathit{xy}}^{4} + \\mathit{ak}_{m}^{4}\\right)} t^{4} + \\mathit{ak}_{m}^{4}$"
      ],
      "text/plain": [
       "<IPython.core.display.Math object>"
      ]
     },
     "metadata": {},
     "output_type": "display_data"
    }
   ],
   "source": [
    "integrand_t_den = integrand_t.denominator().collect(t^4)\n",
    "disp(integrand_t_den)"
   ]
  },
  {
   "cell_type": "markdown",
   "metadata": {},
   "source": [
    "Let's extract coefficient near $t^4$ from the numerator"
   ]
  },
  {
   "cell_type": "code",
   "execution_count": 33,
   "metadata": {},
   "outputs": [
    {
     "data": {
      "text/latex": [
       "$\\displaystyle \\pi^{4} n_{\\mathit{xy}}^{4} + \\mathit{ak}_{m}^{4}$"
      ],
      "text/plain": [
       "<IPython.core.display.Math object>"
      ]
     },
     "metadata": {},
     "output_type": "display_data"
    }
   ],
   "source": [
    "integrand_t_den_coef_t4 = integrand_t_den.coefficient(t,4)\n",
    "disp(integrand_t_den_coef_t4)"
   ]
  },
  {
   "cell_type": "markdown",
   "metadata": {},
   "source": [
    "Now let's move the above coefficient up to the numerator. So new numerator will be:"
   ]
  },
  {
   "cell_type": "code",
   "execution_count": 34,
   "metadata": {},
   "outputs": [
    {
     "data": {
      "text/latex": [
       "$\\displaystyle -\\frac{\\mathit{ak}_{m}^{4} n_{\\mathit{xy}}^{2} t^{2}}{\\pi^{4} n_{\\mathit{xy}}^{4} + \\mathit{ak}_{m}^{4}}$"
      ],
      "text/plain": [
       "<IPython.core.display.Math object>"
      ]
     },
     "metadata": {},
     "output_type": "display_data"
    }
   ],
   "source": [
    "integrand_t_num2 = integrand_t_num / integrand_t_den_coef_t4\n",
    "disp(integrand_t_num2)"
   ]
  },
  {
   "cell_type": "markdown",
   "metadata": {},
   "source": [
    "And so new denominator will be:"
   ]
  },
  {
   "cell_type": "code",
   "execution_count": 35,
   "metadata": {},
   "outputs": [
    {
     "data": {
      "text/latex": [
       "$\\displaystyle -\\frac{2 \\, \\mathit{ak}_{m}^{4} t^{2}}{\\pi^{4} n_{\\mathit{xy}}^{4} + \\mathit{ak}_{m}^{4}} + {\\left(\\frac{\\pi^{4} n_{\\mathit{xy}}^{4}}{\\pi^{4} n_{\\mathit{xy}}^{4} + \\mathit{ak}_{m}^{4}} + \\frac{\\mathit{ak}_{m}^{4}}{\\pi^{4} n_{\\mathit{xy}}^{4} + \\mathit{ak}_{m}^{4}}\\right)} t^{4} + \\frac{\\mathit{ak}_{m}^{4}}{\\pi^{4} n_{\\mathit{xy}}^{4} + \\mathit{ak}_{m}^{4}}$"
      ],
      "text/plain": [
       "<IPython.core.display.Math object>"
      ]
     },
     "metadata": {},
     "output_type": "display_data"
    }
   ],
   "source": [
    "integrand_t_den2 = (integrand_t_den/integrand_t_den_coef_t4).expand().collect(t^4)\n",
    "disp(integrand_t_den2)"
   ]
  },
  {
   "cell_type": "code",
   "execution_count": 36,
   "metadata": {
    "scrolled": true
   },
   "outputs": [
    {
     "data": {
      "text/latex": [
       "$\\displaystyle -\\frac{2 \\, \\mathit{ak}_{m}^{4} t^{2}}{\\pi^{4} n_{\\mathit{xy}}^{4} + \\mathit{ak}_{m}^{4}} + t^{4} + \\frac{\\mathit{ak}_{m}^{4}}{\\pi^{4} n_{\\mathit{xy}}^{4} + \\mathit{ak}_{m}^{4}}$"
      ],
      "text/plain": [
       "<IPython.core.display.Math object>"
      ]
     },
     "metadata": {},
     "output_type": "display_data"
    }
   ],
   "source": [
    "integrand_t_den_2 = 0\n",
    "for c, pw in integrand_t_den2.coefficients(t):\n",
    "    integrand_t_den_2 += c.full_simplify() * t^pw\n",
    "disp(integrand_t_den_2)"
   ]
  },
  {
   "cell_type": "markdown",
   "metadata": {},
   "source": [
    "Now we should convert this denominator into the following form:"
   ]
  },
  {
   "cell_type": "code",
   "execution_count": 37,
   "metadata": {},
   "outputs": [
    {
     "data": {
      "text/latex": [
       "$\\displaystyle -{\\left(\\alpha_{1} t + t^{2} + \\beta_{1}\\right)} {\\left(\\alpha_{1} t - t^{2} - \\beta_{1}\\right)}$"
      ],
      "text/plain": [
       "<IPython.core.display.Math object>"
      ]
     },
     "metadata": {},
     "output_type": "display_data"
    },
    {
     "data": {
      "text/latex": [
       "$\\displaystyle t^{4} - {\\left(\\alpha_{1}^{2} - 2 \\, \\beta_{1}\\right)} t^{2} + \\beta_{1}^{2}$"
      ],
      "text/plain": [
       "<IPython.core.display.Math object>"
      ]
     },
     "metadata": {},
     "output_type": "display_data"
    }
   ],
   "source": [
    "alpha_1, beta_1 = var(\"alpha_1, beta_1\")\n",
    "integrand_t_den_alpha_beta = (t^2+alpha_1*t+beta_1)*(t^2-alpha_1*t+beta_1)\n",
    "disp(integrand_t_den_alpha_beta)\n",
    "\n",
    "integrand_t_den_alpha_beta_expanded = integrand_t_den_alpha_beta.expand().collect(t^3).collect(t^2).collect(t)\n",
    "disp(integrand_t_den_alpha_beta_expanded)"
   ]
  },
  {
   "cell_type": "markdown",
   "metadata": {},
   "source": [
    "Begin:"
   ]
  },
  {
   "cell_type": "code",
   "execution_count": 38,
   "metadata": {},
   "outputs": [
    {
     "data": {
      "text/latex": [
       "$\\displaystyle -\\frac{2 \\, \\mathit{ak}_{m}^{4} t^{2}}{\\pi^{4} n_{\\mathit{xy}}^{4} + \\mathit{ak}_{m}^{4}} + t^{4} + \\frac{\\mathit{ak}_{m}^{4}}{\\pi^{4} n_{\\mathit{xy}}^{4} + \\mathit{ak}_{m}^{4}} = t^{4} - {\\left(\\alpha_{1}^{2} - 2 \\, \\beta_{1}\\right)} t^{2} + \\beta_{1}^{2}$"
      ],
      "text/plain": [
       "<IPython.core.display.Math object>"
      ]
     },
     "metadata": {},
     "output_type": "display_data"
    },
    {
     "data": {
      "text/latex": [
       "$\\displaystyle \\left[\\beta_{1} = \\frac{\\mathit{ak}_{m}^{2}}{\\sqrt{\\pi^{4} n_{\\mathit{xy}}^{4} + \\mathit{ak}_{m}^{4}}}, \\alpha_{1} = \\sqrt{\\frac{2 \\, \\pi^{4} n_{\\mathit{xy}}^{4}}{{\\left(\\pi^{4} n_{\\mathit{xy}}^{4} + \\mathit{ak}_{m}^{4}\\right)}^{\\frac{3}{2}}} + \\frac{2 \\, \\mathit{ak}_{m}^{4}}{{\\left(\\pi^{4} n_{\\mathit{xy}}^{4} + \\mathit{ak}_{m}^{4}\\right)}^{\\frac{3}{2}}} + \\frac{2 \\, \\mathit{ak}_{m}^{2}}{\\pi^{4} n_{\\mathit{xy}}^{4} + \\mathit{ak}_{m}^{4}}} \\mathit{ak}_{m}\\right]$"
      ],
      "text/plain": [
       "<IPython.core.display.Math object>"
      ]
     },
     "metadata": {},
     "output_type": "display_data"
    }
   ],
   "source": [
    "eq_integrand_t_den = integrand_t_den_2 == integrand_t_den_alpha_beta_expanded\n",
    "disp(eq_integrand_t_den)\n",
    "\n",
    "eq_t0 = eq_integrand_t_den.lhs().coefficient(t,0) == eq_integrand_t_den.rhs().coefficient(t,0)\n",
    "#disp(eq_t0)\n",
    "\n",
    "sol_beta1 = solve(eq_t0, beta_1)\n",
    "#disp(sol_beta1)\n",
    "\n",
    "if 2 == len(sol_beta1):\n",
    "    sol_beta1 = [sol_beta1[1]]\n",
    "\n",
    "eq_t2 = eq_integrand_t_den.lhs().coefficient(t,2) == eq_integrand_t_den.rhs().coefficient(t,2)\n",
    "#disp(eq_t2)\n",
    "\n",
    "eq_t2_sub = eq_t2.subs(sol_beta1)\n",
    "#disp(eq_t2_sub)\n",
    "\n",
    "sol_alpha1 = solve(eq_t2_sub, alpha_1)\n",
    "#disp(sol_alpha1)\n",
    "\n",
    "alpha1_beta1_subs = sol_beta1 + [sol_alpha1[1]]\n",
    "disp(alpha1_beta1_subs)"
   ]
  },
  {
   "cell_type": "markdown",
   "metadata": {},
   "source": [
    "After above determined conversion the integrand can be written as:"
   ]
  },
  {
   "cell_type": "code",
   "execution_count": 39,
   "metadata": {},
   "outputs": [
    {
     "data": {
      "text/latex": [
       "$\\displaystyle \\frac{\\mathit{ak}_{m}^{4} n_{\\mathit{xy}}^{2} t^{2}}{{\\left(\\pi^{4} n_{\\mathit{xy}}^{4} + \\mathit{ak}_{m}^{4}\\right)} {\\left(\\alpha_{1} t + t^{2} + \\beta_{1}\\right)} {\\left(\\alpha_{1} t - t^{2} - \\beta_{1}\\right)}}$"
      ],
      "text/plain": [
       "<IPython.core.display.Math object>"
      ]
     },
     "metadata": {},
     "output_type": "display_data"
    }
   ],
   "source": [
    "integrand_t_alpha_beta = integrand_t_num2 / integrand_t_den_alpha_beta\n",
    "disp(integrand_t_alpha_beta)"
   ]
  },
  {
   "cell_type": "markdown",
   "metadata": {},
   "source": [
    "Let's check determinant:"
   ]
  },
  {
   "cell_type": "code",
   "execution_count": 40,
   "metadata": {},
   "outputs": [],
   "source": [
    "D = alpha_1^2 - 4*beta_1 "
   ]
  },
  {
   "cell_type": "code",
   "execution_count": 41,
   "metadata": {},
   "outputs": [],
   "source": [
    "D_subs = D.subs(alpha1_beta1_subs).full_simplify()"
   ]
  },
  {
   "cell_type": "code",
   "execution_count": 42,
   "metadata": {},
   "outputs": [
    {
     "data": {
      "text/latex": [
       "$\\displaystyle -\\frac{2 \\, {\\left(\\pi^{4} \\mathit{ak}_{m}^{2} n_{\\mathit{xy}}^{4} + \\mathit{ak}_{m}^{6} - \\sqrt{\\pi^{4} n_{\\mathit{xy}}^{4} + \\mathit{ak}_{m}^{4}} \\mathit{ak}_{m}^{4}\\right)}}{{\\left(\\pi^{4} n_{\\mathit{xy}}^{4} + \\mathit{ak}_{m}^{4}\\right)}^{\\frac{3}{2}}}$"
      ],
      "text/plain": [
       "<IPython.core.display.Math object>"
      ]
     },
     "metadata": {},
     "output_type": "display_data"
    }
   ],
   "source": [
    "disp(D_subs)"
   ]
  },
  {
   "cell_type": "code",
   "execution_count": 43,
   "metadata": {},
   "outputs": [
    {
     "data": {
      "text/plain": [
       "(ak_m, n_xy)"
      ]
     },
     "execution_count": 43,
     "metadata": {},
     "output_type": "execute_result"
    }
   ],
   "source": [
    "D_subs.variables()"
   ]
  },
  {
   "cell_type": "code",
   "execution_count": 44,
   "metadata": {},
   "outputs": [
    {
     "data": {
      "image/png": "[encoded data removed]",
      "text/plain": [
       "Graphics object consisting of 1 graphics primitive"
      ]
     },
     "execution_count": 44,
     "metadata": {},
     "output_type": "execute_result"
    }
   ],
   "source": [
    "plot(D_subs.subs(ak_m = 0.1), n_xy)"
   ]
  },
  {
   "cell_type": "code",
   "execution_count": 45,
   "metadata": {},
   "outputs": [
    {
     "data": {
      "image/png": "[encoded data removed]",
      "text/plain": [
       "Graphics object consisting of 1 graphics primitive"
      ]
     },
     "execution_count": 45,
     "metadata": {},
     "output_type": "execute_result"
    }
   ],
   "source": [
    "plot(D_subs.subs(n_xy = 0.1), ak_m)"
   ]
  },
  {
   "cell_type": "markdown",
   "metadata": {},
   "source": [
    "Determinant is negative. So the integral can be easily taken:"
   ]
  },
  {
   "cell_type": "code",
   "execution_count": 46,
   "metadata": {},
   "outputs": [
    {
     "data": {
      "text/latex": [
       "$\\displaystyle \\int F\\left(t, n_{xy}, ak_m\\right) dt = -\\frac{\\mathit{ak}_{m}^{4} n_{\\mathit{xy}}^{2} {\\left(\\frac{2 \\, \\arctan\\left(\\frac{\\alpha_{1} + 2 \\, t}{\\sqrt{-\\alpha_{1}^{2} + 4 \\, \\beta_{1}}}\\right)}{\\sqrt{-\\alpha_{1}^{2} + 4 \\, \\beta_{1}}} + \\frac{2 \\, \\arctan\\left(-\\frac{\\alpha_{1} - 2 \\, t}{\\sqrt{-\\alpha_{1}^{2} + 4 \\, \\beta_{1}}}\\right)}{\\sqrt{-\\alpha_{1}^{2} + 4 \\, \\beta_{1}}} - \\frac{\\log\\left(\\alpha_{1} t + t^{2} + \\beta_{1}\\right)}{\\alpha_{1}} + \\frac{\\log\\left(-\\alpha_{1} t + t^{2} + \\beta_{1}\\right)}{\\alpha_{1}}\\right)}}{4 \\, {\\left(\\pi^{4} n_{\\mathit{xy}}^{4} + \\mathit{ak}_{m}^{4}\\right)}}$"
      ],
      "text/plain": [
       "<IPython.core.display.Math object>"
      ]
     },
     "metadata": {},
     "output_type": "display_data"
    }
   ],
   "source": [
    "assume(D<0)\n",
    "exec(preparse(\"integrand_t_alpha_beta_int_t = \" + str(integrate(integrand_t_alpha_beta, t))))\n",
    "display(Math(\"\\\\int F\\\\left(t, n_{xy}, ak_m\\\\right) dt = \" + latex(integrand_t_alpha_beta_int_t)))"
   ]
  },
  {
   "cell_type": "markdown",
   "metadata": {},
   "source": [
    "And after substitution of $\\alpha_1$ and, $\\beta_1$ values $\\int F\\left(t, n_{xy}, ak_m\\right) dt$ is:"
   ]
  },
  {
   "cell_type": "code",
   "execution_count": 47,
   "metadata": {},
   "outputs": [
    {
     "data": {
      "text/latex": [
       "$\\displaystyle -\\frac{\\mathit{ak}_{m}^{4} n_{\\mathit{xy}}^{2} {\\left(\\frac{2 \\, \\arctan\\left(\\frac{\\sqrt{\\frac{2 \\, \\pi^{4} n_{\\mathit{xy}}^{4}}{{\\left(\\pi^{4} n_{\\mathit{xy}}^{4} + \\mathit{ak}_{m}^{4}\\right)}^{\\frac{3}{2}}} + \\frac{2 \\, \\mathit{ak}_{m}^{4}}{{\\left(\\pi^{4} n_{\\mathit{xy}}^{4} + \\mathit{ak}_{m}^{4}\\right)}^{\\frac{3}{2}}} + \\frac{2 \\, \\mathit{ak}_{m}^{2}}{\\pi^{4} n_{\\mathit{xy}}^{4} + \\mathit{ak}_{m}^{4}}} \\mathit{ak}_{m} + 2 \\, t}{\\sqrt{-2 \\, {\\left(\\frac{\\pi^{4} n_{\\mathit{xy}}^{4}}{{\\left(\\pi^{4} n_{\\mathit{xy}}^{4} + \\mathit{ak}_{m}^{4}\\right)}^{\\frac{3}{2}}} + \\frac{\\mathit{ak}_{m}^{4}}{{\\left(\\pi^{4} n_{\\mathit{xy}}^{4} + \\mathit{ak}_{m}^{4}\\right)}^{\\frac{3}{2}}} + \\frac{\\mathit{ak}_{m}^{2}}{\\pi^{4} n_{\\mathit{xy}}^{4} + \\mathit{ak}_{m}^{4}}\\right)} \\mathit{ak}_{m}^{2} + \\frac{4 \\, \\mathit{ak}_{m}^{2}}{\\sqrt{\\pi^{4} n_{\\mathit{xy}}^{4} + \\mathit{ak}_{m}^{4}}}}}\\right)}{\\sqrt{-2 \\, {\\left(\\frac{\\pi^{4} n_{\\mathit{xy}}^{4}}{{\\left(\\pi^{4} n_{\\mathit{xy}}^{4} + \\mathit{ak}_{m}^{4}\\right)}^{\\frac{3}{2}}} + \\frac{\\mathit{ak}_{m}^{4}}{{\\left(\\pi^{4} n_{\\mathit{xy}}^{4} + \\mathit{ak}_{m}^{4}\\right)}^{\\frac{3}{2}}} + \\frac{\\mathit{ak}_{m}^{2}}{\\pi^{4} n_{\\mathit{xy}}^{4} + \\mathit{ak}_{m}^{4}}\\right)} \\mathit{ak}_{m}^{2} + \\frac{4 \\, \\mathit{ak}_{m}^{2}}{\\sqrt{\\pi^{4} n_{\\mathit{xy}}^{4} + \\mathit{ak}_{m}^{4}}}}} + \\frac{2 \\, \\arctan\\left(-\\frac{\\sqrt{\\frac{2 \\, \\pi^{4} n_{\\mathit{xy}}^{4}}{{\\left(\\pi^{4} n_{\\mathit{xy}}^{4} + \\mathit{ak}_{m}^{4}\\right)}^{\\frac{3}{2}}} + \\frac{2 \\, \\mathit{ak}_{m}^{4}}{{\\left(\\pi^{4} n_{\\mathit{xy}}^{4} + \\mathit{ak}_{m}^{4}\\right)}^{\\frac{3}{2}}} + \\frac{2 \\, \\mathit{ak}_{m}^{2}}{\\pi^{4} n_{\\mathit{xy}}^{4} + \\mathit{ak}_{m}^{4}}} \\mathit{ak}_{m} - 2 \\, t}{\\sqrt{-2 \\, {\\left(\\frac{\\pi^{4} n_{\\mathit{xy}}^{4}}{{\\left(\\pi^{4} n_{\\mathit{xy}}^{4} + \\mathit{ak}_{m}^{4}\\right)}^{\\frac{3}{2}}} + \\frac{\\mathit{ak}_{m}^{4}}{{\\left(\\pi^{4} n_{\\mathit{xy}}^{4} + \\mathit{ak}_{m}^{4}\\right)}^{\\frac{3}{2}}} + \\frac{\\mathit{ak}_{m}^{2}}{\\pi^{4} n_{\\mathit{xy}}^{4} + \\mathit{ak}_{m}^{4}}\\right)} \\mathit{ak}_{m}^{2} + \\frac{4 \\, \\mathit{ak}_{m}^{2}}{\\sqrt{\\pi^{4} n_{\\mathit{xy}}^{4} + \\mathit{ak}_{m}^{4}}}}}\\right)}{\\sqrt{-2 \\, {\\left(\\frac{\\pi^{4} n_{\\mathit{xy}}^{4}}{{\\left(\\pi^{4} n_{\\mathit{xy}}^{4} + \\mathit{ak}_{m}^{4}\\right)}^{\\frac{3}{2}}} + \\frac{\\mathit{ak}_{m}^{4}}{{\\left(\\pi^{4} n_{\\mathit{xy}}^{4} + \\mathit{ak}_{m}^{4}\\right)}^{\\frac{3}{2}}} + \\frac{\\mathit{ak}_{m}^{2}}{\\pi^{4} n_{\\mathit{xy}}^{4} + \\mathit{ak}_{m}^{4}}\\right)} \\mathit{ak}_{m}^{2} + \\frac{4 \\, \\mathit{ak}_{m}^{2}}{\\sqrt{\\pi^{4} n_{\\mathit{xy}}^{4} + \\mathit{ak}_{m}^{4}}}}} - \\frac{\\log\\left(\\sqrt{\\frac{2 \\, \\pi^{4} n_{\\mathit{xy}}^{4}}{{\\left(\\pi^{4} n_{\\mathit{xy}}^{4} + \\mathit{ak}_{m}^{4}\\right)}^{\\frac{3}{2}}} + \\frac{2 \\, \\mathit{ak}_{m}^{4}}{{\\left(\\pi^{4} n_{\\mathit{xy}}^{4} + \\mathit{ak}_{m}^{4}\\right)}^{\\frac{3}{2}}} + \\frac{2 \\, \\mathit{ak}_{m}^{2}}{\\pi^{4} n_{\\mathit{xy}}^{4} + \\mathit{ak}_{m}^{4}}} \\mathit{ak}_{m} t + t^{2} + \\frac{\\mathit{ak}_{m}^{2}}{\\sqrt{\\pi^{4} n_{\\mathit{xy}}^{4} + \\mathit{ak}_{m}^{4}}}\\right)}{\\sqrt{\\frac{2 \\, \\pi^{4} n_{\\mathit{xy}}^{4}}{{\\left(\\pi^{4} n_{\\mathit{xy}}^{4} + \\mathit{ak}_{m}^{4}\\right)}^{\\frac{3}{2}}} + \\frac{2 \\, \\mathit{ak}_{m}^{4}}{{\\left(\\pi^{4} n_{\\mathit{xy}}^{4} + \\mathit{ak}_{m}^{4}\\right)}^{\\frac{3}{2}}} + \\frac{2 \\, \\mathit{ak}_{m}^{2}}{\\pi^{4} n_{\\mathit{xy}}^{4} + \\mathit{ak}_{m}^{4}}} \\mathit{ak}_{m}} + \\frac{\\log\\left(-\\sqrt{\\frac{2 \\, \\pi^{4} n_{\\mathit{xy}}^{4}}{{\\left(\\pi^{4} n_{\\mathit{xy}}^{4} + \\mathit{ak}_{m}^{4}\\right)}^{\\frac{3}{2}}} + \\frac{2 \\, \\mathit{ak}_{m}^{4}}{{\\left(\\pi^{4} n_{\\mathit{xy}}^{4} + \\mathit{ak}_{m}^{4}\\right)}^{\\frac{3}{2}}} + \\frac{2 \\, \\mathit{ak}_{m}^{2}}{\\pi^{4} n_{\\mathit{xy}}^{4} + \\mathit{ak}_{m}^{4}}} \\mathit{ak}_{m} t + t^{2} + \\frac{\\mathit{ak}_{m}^{2}}{\\sqrt{\\pi^{4} n_{\\mathit{xy}}^{4} + \\mathit{ak}_{m}^{4}}}\\right)}{\\sqrt{\\frac{2 \\, \\pi^{4} n_{\\mathit{xy}}^{4}}{{\\left(\\pi^{4} n_{\\mathit{xy}}^{4} + \\mathit{ak}_{m}^{4}\\right)}^{\\frac{3}{2}}} + \\frac{2 \\, \\mathit{ak}_{m}^{4}}{{\\left(\\pi^{4} n_{\\mathit{xy}}^{4} + \\mathit{ak}_{m}^{4}\\right)}^{\\frac{3}{2}}} + \\frac{2 \\, \\mathit{ak}_{m}^{2}}{\\pi^{4} n_{\\mathit{xy}}^{4} + \\mathit{ak}_{m}^{4}}} \\mathit{ak}_{m}}\\right)}}{4 \\, {\\left(\\pi^{4} n_{\\mathit{xy}}^{4} + \\mathit{ak}_{m}^{4}\\right)}}$"
      ],
      "text/plain": [
       "<IPython.core.display.Math object>"
      ]
     },
     "metadata": {},
     "output_type": "display_data"
    }
   ],
   "source": [
    "exec(preparse(\"integrand_t_int_t = \" + str(integrand_t_alpha_beta_int_t.subs(alpha1_beta1_subs))))\n",
    "disp(integrand_t_int_t)"
   ]
  },
  {
   "cell_type": "markdown",
   "metadata": {},
   "source": [
    "And after substitution of $t$ value $\\int F\\left(n, n_{xy}, ak_m\\right) dn$ is:"
   ]
  },
  {
   "cell_type": "code",
   "execution_count": 48,
   "metadata": {},
   "outputs": [
    {
     "data": {
      "text/latex": [
       "$\\displaystyle -\\frac{\\mathit{ak}_{m}^{4} n_{\\mathit{xy}}^{2} {\\left(\\frac{2 \\, \\arctan\\left(\\frac{\\sqrt{\\frac{2 \\, \\pi^{4} n_{\\mathit{xy}}^{4}}{{\\left(\\pi^{4} n_{\\mathit{xy}}^{4} + \\mathit{ak}_{m}^{4}\\right)}^{\\frac{3}{2}}} + \\frac{2 \\, \\mathit{ak}_{m}^{4}}{{\\left(\\pi^{4} n_{\\mathit{xy}}^{4} + \\mathit{ak}_{m}^{4}\\right)}^{\\frac{3}{2}}} + \\frac{2 \\, \\mathit{ak}_{m}^{2}}{\\pi^{4} n_{\\mathit{xy}}^{4} + \\mathit{ak}_{m}^{4}}} \\mathit{ak}_{m} + \\frac{2 \\, n}{\\sqrt{n^{2} - n_{\\mathit{xy}}^{2}}}}{\\sqrt{-2 \\, {\\left(\\frac{\\pi^{4} n_{\\mathit{xy}}^{4}}{{\\left(\\pi^{4} n_{\\mathit{xy}}^{4} + \\mathit{ak}_{m}^{4}\\right)}^{\\frac{3}{2}}} + \\frac{\\mathit{ak}_{m}^{4}}{{\\left(\\pi^{4} n_{\\mathit{xy}}^{4} + \\mathit{ak}_{m}^{4}\\right)}^{\\frac{3}{2}}} + \\frac{\\mathit{ak}_{m}^{2}}{\\pi^{4} n_{\\mathit{xy}}^{4} + \\mathit{ak}_{m}^{4}}\\right)} \\mathit{ak}_{m}^{2} + \\frac{4 \\, \\mathit{ak}_{m}^{2}}{\\sqrt{\\pi^{4} n_{\\mathit{xy}}^{4} + \\mathit{ak}_{m}^{4}}}}}\\right)}{\\sqrt{-2 \\, {\\left(\\frac{\\pi^{4} n_{\\mathit{xy}}^{4}}{{\\left(\\pi^{4} n_{\\mathit{xy}}^{4} + \\mathit{ak}_{m}^{4}\\right)}^{\\frac{3}{2}}} + \\frac{\\mathit{ak}_{m}^{4}}{{\\left(\\pi^{4} n_{\\mathit{xy}}^{4} + \\mathit{ak}_{m}^{4}\\right)}^{\\frac{3}{2}}} + \\frac{\\mathit{ak}_{m}^{2}}{\\pi^{4} n_{\\mathit{xy}}^{4} + \\mathit{ak}_{m}^{4}}\\right)} \\mathit{ak}_{m}^{2} + \\frac{4 \\, \\mathit{ak}_{m}^{2}}{\\sqrt{\\pi^{4} n_{\\mathit{xy}}^{4} + \\mathit{ak}_{m}^{4}}}}} + \\frac{2 \\, \\arctan\\left(-\\frac{\\sqrt{\\frac{2 \\, \\pi^{4} n_{\\mathit{xy}}^{4}}{{\\left(\\pi^{4} n_{\\mathit{xy}}^{4} + \\mathit{ak}_{m}^{4}\\right)}^{\\frac{3}{2}}} + \\frac{2 \\, \\mathit{ak}_{m}^{4}}{{\\left(\\pi^{4} n_{\\mathit{xy}}^{4} + \\mathit{ak}_{m}^{4}\\right)}^{\\frac{3}{2}}} + \\frac{2 \\, \\mathit{ak}_{m}^{2}}{\\pi^{4} n_{\\mathit{xy}}^{4} + \\mathit{ak}_{m}^{4}}} \\mathit{ak}_{m} - \\frac{2 \\, n}{\\sqrt{n^{2} - n_{\\mathit{xy}}^{2}}}}{\\sqrt{-2 \\, {\\left(\\frac{\\pi^{4} n_{\\mathit{xy}}^{4}}{{\\left(\\pi^{4} n_{\\mathit{xy}}^{4} + \\mathit{ak}_{m}^{4}\\right)}^{\\frac{3}{2}}} + \\frac{\\mathit{ak}_{m}^{4}}{{\\left(\\pi^{4} n_{\\mathit{xy}}^{4} + \\mathit{ak}_{m}^{4}\\right)}^{\\frac{3}{2}}} + \\frac{\\mathit{ak}_{m}^{2}}{\\pi^{4} n_{\\mathit{xy}}^{4} + \\mathit{ak}_{m}^{4}}\\right)} \\mathit{ak}_{m}^{2} + \\frac{4 \\, \\mathit{ak}_{m}^{2}}{\\sqrt{\\pi^{4} n_{\\mathit{xy}}^{4} + \\mathit{ak}_{m}^{4}}}}}\\right)}{\\sqrt{-2 \\, {\\left(\\frac{\\pi^{4} n_{\\mathit{xy}}^{4}}{{\\left(\\pi^{4} n_{\\mathit{xy}}^{4} + \\mathit{ak}_{m}^{4}\\right)}^{\\frac{3}{2}}} + \\frac{\\mathit{ak}_{m}^{4}}{{\\left(\\pi^{4} n_{\\mathit{xy}}^{4} + \\mathit{ak}_{m}^{4}\\right)}^{\\frac{3}{2}}} + \\frac{\\mathit{ak}_{m}^{2}}{\\pi^{4} n_{\\mathit{xy}}^{4} + \\mathit{ak}_{m}^{4}}\\right)} \\mathit{ak}_{m}^{2} + \\frac{4 \\, \\mathit{ak}_{m}^{2}}{\\sqrt{\\pi^{4} n_{\\mathit{xy}}^{4} + \\mathit{ak}_{m}^{4}}}}} - \\frac{\\log\\left(\\frac{\\sqrt{\\frac{2 \\, \\pi^{4} n_{\\mathit{xy}}^{4}}{{\\left(\\pi^{4} n_{\\mathit{xy}}^{4} + \\mathit{ak}_{m}^{4}\\right)}^{\\frac{3}{2}}} + \\frac{2 \\, \\mathit{ak}_{m}^{4}}{{\\left(\\pi^{4} n_{\\mathit{xy}}^{4} + \\mathit{ak}_{m}^{4}\\right)}^{\\frac{3}{2}}} + \\frac{2 \\, \\mathit{ak}_{m}^{2}}{\\pi^{4} n_{\\mathit{xy}}^{4} + \\mathit{ak}_{m}^{4}}} \\mathit{ak}_{m} n}{\\sqrt{n^{2} - n_{\\mathit{xy}}^{2}}} + \\frac{\\mathit{ak}_{m}^{2}}{\\sqrt{\\pi^{4} n_{\\mathit{xy}}^{4} + \\mathit{ak}_{m}^{4}}} + \\frac{n^{2}}{n^{2} - n_{\\mathit{xy}}^{2}}\\right)}{\\sqrt{\\frac{2 \\, \\pi^{4} n_{\\mathit{xy}}^{4}}{{\\left(\\pi^{4} n_{\\mathit{xy}}^{4} + \\mathit{ak}_{m}^{4}\\right)}^{\\frac{3}{2}}} + \\frac{2 \\, \\mathit{ak}_{m}^{4}}{{\\left(\\pi^{4} n_{\\mathit{xy}}^{4} + \\mathit{ak}_{m}^{4}\\right)}^{\\frac{3}{2}}} + \\frac{2 \\, \\mathit{ak}_{m}^{2}}{\\pi^{4} n_{\\mathit{xy}}^{4} + \\mathit{ak}_{m}^{4}}} \\mathit{ak}_{m}} + \\frac{\\log\\left(-\\frac{\\sqrt{\\frac{2 \\, \\pi^{4} n_{\\mathit{xy}}^{4}}{{\\left(\\pi^{4} n_{\\mathit{xy}}^{4} + \\mathit{ak}_{m}^{4}\\right)}^{\\frac{3}{2}}} + \\frac{2 \\, \\mathit{ak}_{m}^{4}}{{\\left(\\pi^{4} n_{\\mathit{xy}}^{4} + \\mathit{ak}_{m}^{4}\\right)}^{\\frac{3}{2}}} + \\frac{2 \\, \\mathit{ak}_{m}^{2}}{\\pi^{4} n_{\\mathit{xy}}^{4} + \\mathit{ak}_{m}^{4}}} \\mathit{ak}_{m} n}{\\sqrt{n^{2} - n_{\\mathit{xy}}^{2}}} + \\frac{\\mathit{ak}_{m}^{2}}{\\sqrt{\\pi^{4} n_{\\mathit{xy}}^{4} + \\mathit{ak}_{m}^{4}}} + \\frac{n^{2}}{n^{2} - n_{\\mathit{xy}}^{2}}\\right)}{\\sqrt{\\frac{2 \\, \\pi^{4} n_{\\mathit{xy}}^{4}}{{\\left(\\pi^{4} n_{\\mathit{xy}}^{4} + \\mathit{ak}_{m}^{4}\\right)}^{\\frac{3}{2}}} + \\frac{2 \\, \\mathit{ak}_{m}^{4}}{{\\left(\\pi^{4} n_{\\mathit{xy}}^{4} + \\mathit{ak}_{m}^{4}\\right)}^{\\frac{3}{2}}} + \\frac{2 \\, \\mathit{ak}_{m}^{2}}{\\pi^{4} n_{\\mathit{xy}}^{4} + \\mathit{ak}_{m}^{4}}} \\mathit{ak}_{m}}\\right)}}{4 \\, {\\left(\\pi^{4} n_{\\mathit{xy}}^{4} + \\mathit{ak}_{m}^{4}\\right)}}$"
      ],
      "text/plain": [
       "<IPython.core.display.Math object>"
      ]
     },
     "metadata": {},
     "output_type": "display_data"
    },
    {
     "data": {
      "text/plain": [
       "(ak_m, n, n_xy)"
      ]
     },
     "execution_count": 48,
     "metadata": {},
     "output_type": "execute_result"
    }
   ],
   "source": [
    "exec(preparse(\"integrand_n_int_n = \" + str(integrand_t_int_t.subs(abel_subs_t))))\n",
    "disp(integrand_n_int_n)\n",
    "integrand_n_int_n.variables()"
   ]
  },
  {
   "cell_type": "markdown",
   "metadata": {},
   "source": [
    "Checking that found integral is true by differentiation:"
   ]
  },
  {
   "cell_type": "code",
   "execution_count": 49,
   "metadata": {},
   "outputs": [
    {
     "data": {
      "text/latex": [
       "$\\displaystyle \\frac{\\sqrt{n^{2} - n_{\\mathit{xy}}^{2}} \\mathit{ak}_{m}^{4} n^{2}}{\\pi^{4} n^{6} + \\mathit{ak}_{m}^{4} n^{2} - {\\left(\\pi^{4} n^{4} + \\mathit{ak}_{m}^{4}\\right)} n_{\\mathit{xy}}^{2}}$"
      ],
      "text/plain": [
       "<IPython.core.display.Math object>"
      ]
     },
     "metadata": {},
     "output_type": "display_data"
    }
   ],
   "source": [
    "disp(integrand_n_int_n.diff(n).full_simplify())"
   ]
  },
  {
   "cell_type": "code",
   "execution_count": 50,
   "metadata": {},
   "outputs": [
    {
     "data": {
      "text/latex": [
       "$\\displaystyle \\frac{n^{2}}{{\\left(\\frac{\\pi^{4} n^{4}}{\\mathit{ak}_{m}^{4}} + 1\\right)} \\sqrt{n^{2} - n_{\\mathit{xy}}^{2}}}$"
      ],
      "text/plain": [
       "<IPython.core.display.Math object>"
      ]
     },
     "metadata": {},
     "output_type": "display_data"
    }
   ],
   "source": [
    "disp(Fnn(n, n_xy, ak_m))"
   ]
  },
  {
   "cell_type": "code",
   "execution_count": 51,
   "metadata": {},
   "outputs": [
    {
     "data": {
      "text/latex": [
       "$\\displaystyle 0$"
      ],
      "text/plain": [
       "<IPython.core.display.Math object>"
      ]
     },
     "metadata": {},
     "output_type": "display_data"
    }
   ],
   "source": [
    "disp((integrand_n_int_n.diff(n).full_simplify() - Fnn(n, n_xy, ak_m)).full_simplify())"
   ]
  },
  {
   "cell_type": "markdown",
   "metadata": {},
   "source": [
    "Ok, we received true expression of integral $\\int F\\left(n, n_{xy}, ak_m\\right) dn$\n",
    "\n",
    "Now using its $t_a$ and $t_b$ limits we  "
   ]
  },
  {
   "cell_type": "code",
   "execution_count": 52,
   "metadata": {},
   "outputs": [
    {
     "data": {
      "text/latex": [
       "$\\displaystyle -\\frac{\\pi \\mathit{ak}_{m}^{4} n_{\\mathit{xy}}^{2}}{2 \\, {\\left(\\pi^{4} \\sqrt{-\\alpha_{1}^{2} + 4 \\, \\beta_{1}} n_{\\mathit{xy}}^{4} + \\sqrt{-\\alpha_{1}^{2} + 4 \\, \\beta_{1}} \\mathit{ak}_{m}^{4}\\right)}}$"
      ],
      "text/plain": [
       "<IPython.core.display.Math object>"
      ]
     },
     "metadata": {},
     "output_type": "display_data"
    }
   ],
   "source": [
    "exec(preparse(\"integrand_t_alpha_beta_int_t_a = \" + str(limit(integrand_t_alpha_beta_int_t, t = t_a))))\n",
    "disp(integrand_t_alpha_beta_int_t_a)"
   ]
  },
  {
   "cell_type": "code",
   "execution_count": 53,
   "metadata": {},
   "outputs": [
    {
     "data": {
      "text/latex": [
       "$\\displaystyle -\\frac{\\mathit{ak}_{m}^{4} n_{\\mathit{xy}}^{2} {\\left(\\frac{2 \\, \\arctan\\left(\\frac{\\alpha_{1} + 2}{\\sqrt{-\\alpha_{1}^{2} + 4 \\, \\beta_{1}}}\\right)}{\\sqrt{-\\alpha_{1}^{2} + 4 \\, \\beta_{1}}} + \\frac{2 \\, \\arctan\\left(-\\frac{\\alpha_{1} - 2}{\\sqrt{-\\alpha_{1}^{2} + 4 \\, \\beta_{1}}}\\right)}{\\sqrt{-\\alpha_{1}^{2} + 4 \\, \\beta_{1}}} - \\frac{\\log\\left(\\alpha_{1} + \\beta_{1} + 1\\right)}{\\alpha_{1}} + \\frac{\\log\\left(-\\alpha_{1} + \\beta_{1} + 1\\right)}{\\alpha_{1}}\\right)}}{4 \\, {\\left(\\pi^{4} n_{\\mathit{xy}}^{4} + \\mathit{ak}_{m}^{4}\\right)}}$"
      ],
      "text/plain": [
       "<IPython.core.display.Math object>"
      ]
     },
     "metadata": {},
     "output_type": "display_data"
    }
   ],
   "source": [
    "exec(preparse(\"integrand_t_alpha_beta_int_t_b = \" + str(integrand_t_alpha_beta_int_t.subs(t = t_b))))\n",
    "disp(integrand_t_alpha_beta_int_t_b)"
   ]
  },
  {
   "cell_type": "code",
   "execution_count": 54,
   "metadata": {},
   "outputs": [
    {
     "data": {
      "text/latex": [
       "$\\displaystyle \\frac{{\\left(\\mathit{ak}_{m}^{4} \\log\\left(\\alpha_{1} + \\beta_{1} + 1\\right) - \\mathit{ak}_{m}^{4} \\log\\left(-\\alpha_{1} + \\beta_{1} + 1\\right)\\right)} \\sqrt{-\\alpha_{1}^{2} + 4 \\, \\beta_{1}} n_{\\mathit{xy}}^{2} + 2 \\, {\\left(\\pi \\mathit{ak}_{m}^{4} \\alpha_{1} - \\mathit{ak}_{m}^{4} \\alpha_{1} \\arctan\\left(\\frac{\\alpha_{1} + 2}{\\sqrt{-\\alpha_{1}^{2} + 4 \\, \\beta_{1}}}\\right) + \\mathit{ak}_{m}^{4} \\alpha_{1} \\arctan\\left(\\frac{\\alpha_{1} - 2}{\\sqrt{-\\alpha_{1}^{2} + 4 \\, \\beta_{1}}}\\right)\\right)} n_{\\mathit{xy}}^{2}}{4 \\, {\\left(\\pi^{4} \\alpha_{1} n_{\\mathit{xy}}^{4} + \\mathit{ak}_{m}^{4} \\alpha_{1}\\right)} \\sqrt{-\\alpha_{1}^{2} + 4 \\, \\beta_{1}}}$"
      ],
      "text/plain": [
       "<IPython.core.display.Math object>"
      ]
     },
     "metadata": {},
     "output_type": "display_data"
    }
   ],
   "source": [
    "integrand_t_alpha_beta_int_t_a_b = integrand_t_alpha_beta_int_t_b - integrand_t_alpha_beta_int_t_a\n",
    "disp(integrand_t_alpha_beta_int_t_a_b.full_simplify())"
   ]
  },
  {
   "cell_type": "code",
   "execution_count": null,
   "metadata": {},
   "outputs": [],
   "source": []
  },
  {
   "cell_type": "code",
   "execution_count": 55,
   "metadata": {},
   "outputs": [
    {
     "data": {
      "text/latex": [
       "$\\displaystyle \\frac{2 \\, \\sqrt{2} \\pi \\mathit{ak}_{m}^{4} n_{\\mathit{xy}}^{2} \\sqrt{\\frac{\\mathit{ak}_{m}^{2} + \\sqrt{\\pi^{4} n_{\\mathit{xy}}^{4} + \\mathit{ak}_{m}^{4}}}{\\pi^{4} n_{\\mathit{xy}}^{4} + \\mathit{ak}_{m}^{4}}} - 2 \\, \\sqrt{2} \\mathit{ak}_{m}^{4} n_{\\mathit{xy}}^{2} \\sqrt{\\frac{\\mathit{ak}_{m}^{2} + \\sqrt{\\pi^{4} n_{\\mathit{xy}}^{4} + \\mathit{ak}_{m}^{4}}}{\\pi^{4} n_{\\mathit{xy}}^{4} + \\mathit{ak}_{m}^{4}}} \\arctan\\left(\\frac{\\sqrt{2} {\\left(\\sqrt{2} \\mathit{ak}_{m} \\sqrt{\\frac{\\mathit{ak}_{m}^{2} + \\sqrt{\\pi^{4} n_{\\mathit{xy}}^{4} + \\mathit{ak}_{m}^{4}}}{\\pi^{4} n_{\\mathit{xy}}^{4} + \\mathit{ak}_{m}^{4}}} + 2\\right)}}{2 \\, \\sqrt{\\frac{\\pi^{4} \\mathit{ak}_{m}^{2} n_{\\mathit{xy}}^{4} + \\mathit{ak}_{m}^{6} - \\sqrt{\\pi^{4} n_{\\mathit{xy}}^{4} + \\mathit{ak}_{m}^{4}} \\mathit{ak}_{m}^{4}}{{\\left(\\pi^{4} n_{\\mathit{xy}}^{4} + \\mathit{ak}_{m}^{4}\\right)}^{\\frac{3}{2}}}}}\\right) + 2 \\, \\sqrt{2} \\mathit{ak}_{m}^{4} n_{\\mathit{xy}}^{2} \\sqrt{\\frac{\\mathit{ak}_{m}^{2} + \\sqrt{\\pi^{4} n_{\\mathit{xy}}^{4} + \\mathit{ak}_{m}^{4}}}{\\pi^{4} n_{\\mathit{xy}}^{4} + \\mathit{ak}_{m}^{4}}} \\arctan\\left(\\frac{\\sqrt{2} {\\left(\\sqrt{2} \\mathit{ak}_{m} \\sqrt{\\frac{\\mathit{ak}_{m}^{2} + \\sqrt{\\pi^{4} n_{\\mathit{xy}}^{4} + \\mathit{ak}_{m}^{4}}}{\\pi^{4} n_{\\mathit{xy}}^{4} + \\mathit{ak}_{m}^{4}}} - 2\\right)}}{2 \\, \\sqrt{\\frac{\\pi^{4} \\mathit{ak}_{m}^{2} n_{\\mathit{xy}}^{4} + \\mathit{ak}_{m}^{6} - \\sqrt{\\pi^{4} n_{\\mathit{xy}}^{4} + \\mathit{ak}_{m}^{4}} \\mathit{ak}_{m}^{4}}{{\\left(\\pi^{4} n_{\\mathit{xy}}^{4} + \\mathit{ak}_{m}^{4}\\right)}^{\\frac{3}{2}}}}}\\right) + \\sqrt{2} \\mathit{ak}_{m}^{3} n_{\\mathit{xy}}^{2} \\sqrt{\\frac{\\pi^{4} \\mathit{ak}_{m}^{2} n_{\\mathit{xy}}^{4} + \\mathit{ak}_{m}^{6} - \\sqrt{\\pi^{4} n_{\\mathit{xy}}^{4} + \\mathit{ak}_{m}^{4}} \\mathit{ak}_{m}^{4}}{{\\left(\\pi^{4} n_{\\mathit{xy}}^{4} + \\mathit{ak}_{m}^{4}\\right)}^{\\frac{3}{2}}}} \\log\\left(\\frac{\\sqrt{2} \\sqrt{\\pi^{4} n_{\\mathit{xy}}^{4} + \\mathit{ak}_{m}^{4}} \\mathit{ak}_{m} \\sqrt{\\frac{\\mathit{ak}_{m}^{2} + \\sqrt{\\pi^{4} n_{\\mathit{xy}}^{4} + \\mathit{ak}_{m}^{4}}}{\\pi^{4} n_{\\mathit{xy}}^{4} + \\mathit{ak}_{m}^{4}}} + \\mathit{ak}_{m}^{2} + \\sqrt{\\pi^{4} n_{\\mathit{xy}}^{4} + \\mathit{ak}_{m}^{4}}}{\\sqrt{\\pi^{4} n_{\\mathit{xy}}^{4} + \\mathit{ak}_{m}^{4}}}\\right) - \\sqrt{2} \\mathit{ak}_{m}^{3} n_{\\mathit{xy}}^{2} \\sqrt{\\frac{\\pi^{4} \\mathit{ak}_{m}^{2} n_{\\mathit{xy}}^{4} + \\mathit{ak}_{m}^{6} - \\sqrt{\\pi^{4} n_{\\mathit{xy}}^{4} + \\mathit{ak}_{m}^{4}} \\mathit{ak}_{m}^{4}}{{\\left(\\pi^{4} n_{\\mathit{xy}}^{4} + \\mathit{ak}_{m}^{4}\\right)}^{\\frac{3}{2}}}} \\log\\left(-\\frac{\\sqrt{2} \\sqrt{\\pi^{4} n_{\\mathit{xy}}^{4} + \\mathit{ak}_{m}^{4}} \\mathit{ak}_{m} \\sqrt{\\frac{\\mathit{ak}_{m}^{2} + \\sqrt{\\pi^{4} n_{\\mathit{xy}}^{4} + \\mathit{ak}_{m}^{4}}}{\\pi^{4} n_{\\mathit{xy}}^{4} + \\mathit{ak}_{m}^{4}}} - \\mathit{ak}_{m}^{2} - \\sqrt{\\pi^{4} n_{\\mathit{xy}}^{4} + \\mathit{ak}_{m}^{4}}}{\\sqrt{\\pi^{4} n_{\\mathit{xy}}^{4} + \\mathit{ak}_{m}^{4}}}\\right)}{8 \\, {\\left(\\pi^{4} n_{\\mathit{xy}}^{4} + \\mathit{ak}_{m}^{4}\\right)} \\sqrt{\\frac{\\mathit{ak}_{m}^{2} + \\sqrt{\\pi^{4} n_{\\mathit{xy}}^{4} + \\mathit{ak}_{m}^{4}}}{\\pi^{4} n_{\\mathit{xy}}^{4} + \\mathit{ak}_{m}^{4}}} \\sqrt{\\frac{\\pi^{4} \\mathit{ak}_{m}^{2} n_{\\mathit{xy}}^{4} + \\mathit{ak}_{m}^{6} - \\sqrt{\\pi^{4} n_{\\mathit{xy}}^{4} + \\mathit{ak}_{m}^{4}} \\mathit{ak}_{m}^{4}}{{\\left(\\pi^{4} n_{\\mathit{xy}}^{4} + \\mathit{ak}_{m}^{4}\\right)}^{\\frac{3}{2}}}}}$"
      ],
      "text/plain": [
       "<IPython.core.display.Math object>"
      ]
     },
     "metadata": {},
     "output_type": "display_data"
    }
   ],
   "source": [
    "exec(preparse(\"integrand_t_int_t_a_b = \" + str(integrand_t_alpha_beta_int_t_a_b. \\\n",
    "                                               subs(alpha1_beta1_subs).full_simplify())))\n",
    "disp(integrand_t_int_t_a_b)"
   ]
  },
  {
   "cell_type": "markdown",
   "metadata": {},
   "source": [
    "So we just found the following integral:"
   ]
  },
  {
   "cell_type": "markdown",
   "metadata": {},
   "source": [
    "\\begin{equation}\n",
    "G\\left(n_x, n_y\\right) = \\int\\limits_{0}^{\\infty}\\sqrt{n_x^2 + n_y^2+u^2}\\,\n",
    "f\\left(\\frac{\\pi\\sqrt{n_x^2 + n_y^2+u^2}}{a\\,k_m}\\right)\\,d{u}\n",
    "\\end{equation}"
   ]
  },
  {
   "cell_type": "markdown",
   "metadata": {},
   "source": [
    "\\begin{equation}\n",
    "G\\left(n_x, n_y\\right) = \\int\\limits_{\\sqrt{n_x^2 + n_y^2}}^{\\infty}\\sqrt{n_x^2 + n_y^2+u^2}\\,\n",
    "f\\left(\\frac{\\pi\\sqrt{n_x^2 + n_y^2+u^2}}{a\\,k_m}\\right)\\,dn{\\frac{n}{\\sqrt{n^{2} - n_{x}^{2} - n_{y}^{2}}}}\n",
    "\\end{equation}"
   ]
  },
  {
   "cell_type": "markdown",
   "metadata": {},
   "source": [
    "\\begin{equation}\n",
    "G\\left(n_x, n_y\\right) = \\int\\limits_{n_{xy}}^{\\infty}n\\,\n",
    "f\\left(\\frac{\\pi\\,n}{a\\,k_m}\\right)\\,dn{\\frac{n}{\\sqrt{n^{2} - n_{xy}^{2}}}}\n",
    "\\end{equation}"
   ]
  },
  {
   "cell_type": "code",
   "execution_count": 56,
   "metadata": {},
   "outputs": [],
   "source": [
    "exec(preparse(\"G = lambda n_x, n_y, ak_m : \" + str(integrand_t_int_t_a_b.full_simplify().subs(n_xy = sqrt(n_x^2+n_y^2)))))"
   ]
  },
  {
   "cell_type": "code",
   "execution_count": 57,
   "metadata": {},
   "outputs": [
    {
     "data": {
      "text/plain": [
       "1/8*(2*sqrt(2)*pi*(n_x^2 + n_y^2)*ak_m^4*sqrt((ak_m^2 + sqrt(pi^4*(n_x^2 + n_y^2)^2 + ak_m^4))/(pi^4*(n_x^2 + n_y^2)^2 + ak_m^4)) - 2*sqrt(2)*(n_x^2 + n_y^2)*ak_m^4*sqrt((ak_m^2 + sqrt(pi^4*(n_x^2 + n_y^2)^2 + ak_m^4))/(pi^4*(n_x^2 + n_y^2)^2 + ak_m^4))*arctan(1/2*sqrt(2)*(sqrt(2)*ak_m*sqrt((ak_m^2 + sqrt(pi^4*(n_x^2 + n_y^2)^2 + ak_m^4))/(pi^4*(n_x^2 + n_y^2)^2 + ak_m^4)) + 2)/sqrt((pi^4*(n_x^2 + n_y^2)^2*ak_m^2 + ak_m^6 - sqrt(pi^4*(n_x^2 + n_y^2)^2 + ak_m^4)*ak_m^4)/(pi^4*(n_x^2 + n_y^2)^2 + ak_m^4)^(3/2))) + 2*sqrt(2)*(n_x^2 + n_y^2)*ak_m^4*sqrt((ak_m^2 + sqrt(pi^4*(n_x^2 + n_y^2)^2 + ak_m^4))/(pi^4*(n_x^2 + n_y^2)^2 + ak_m^4))*arctan(1/2*sqrt(2)*(sqrt(2)*ak_m*sqrt((ak_m^2 + sqrt(pi^4*(n_x^2 + n_y^2)^2 + ak_m^4))/(pi^4*(n_x^2 + n_y^2)^2 + ak_m^4)) - 2)/sqrt((pi^4*(n_x^2 + n_y^2)^2*ak_m^2 + ak_m^6 - sqrt(pi^4*(n_x^2 + n_y^2)^2 + ak_m^4)*ak_m^4)/(pi^4*(n_x^2 + n_y^2)^2 + ak_m^4)^(3/2))) + sqrt(2)*(n_x^2 + n_y^2)*ak_m^3*sqrt((pi^4*(n_x^2 + n_y^2)^2*ak_m^2 + ak_m^6 - sqrt(pi^4*(n_x^2 + n_y^2)^2 + ak_m^4)*ak_m^4)/(pi^4*(n_x^2 + n_y^2)^2 + ak_m^4)^(3/2))*log((sqrt(2)*sqrt(pi^4*(n_x^2 + n_y^2)^2 + ak_m^4)*ak_m*sqrt((ak_m^2 + sqrt(pi^4*(n_x^2 + n_y^2)^2 + ak_m^4))/(pi^4*(n_x^2 + n_y^2)^2 + ak_m^4)) + ak_m^2 + sqrt(pi^4*(n_x^2 + n_y^2)^2 + ak_m^4))/sqrt(pi^4*(n_x^2 + n_y^2)^2 + ak_m^4)) - sqrt(2)*(n_x^2 + n_y^2)*ak_m^3*sqrt((pi^4*(n_x^2 + n_y^2)^2*ak_m^2 + ak_m^6 - sqrt(pi^4*(n_x^2 + n_y^2)^2 + ak_m^4)*ak_m^4)/(pi^4*(n_x^2 + n_y^2)^2 + ak_m^4)^(3/2))*log(-(sqrt(2)*sqrt(pi^4*(n_x^2 + n_y^2)^2 + ak_m^4)*ak_m*sqrt((ak_m^2 + sqrt(pi^4*(n_x^2 + n_y^2)^2 + ak_m^4))/(pi^4*(n_x^2 + n_y^2)^2 + ak_m^4)) - ak_m^2 - sqrt(pi^4*(n_x^2 + n_y^2)^2 + ak_m^4))/sqrt(pi^4*(n_x^2 + n_y^2)^2 + ak_m^4)))/((pi^4*(n_x^2 + n_y^2)^2 + ak_m^4)*sqrt((ak_m^2 + sqrt(pi^4*(n_x^2 + n_y^2)^2 + ak_m^4))/(pi^4*(n_x^2 + n_y^2)^2 + ak_m^4))*sqrt((pi^4*(n_x^2 + n_y^2)^2*ak_m^2 + ak_m^6 - sqrt(pi^4*(n_x^2 + n_y^2)^2 + ak_m^4)*ak_m^4)/(pi^4*(n_x^2 + n_y^2)^2 + ak_m^4)^(3/2)))"
      ]
     },
     "execution_count": 57,
     "metadata": {},
     "output_type": "execute_result"
    }
   ],
   "source": [
    "G(n_x, n_y, ak_m)"
   ]
  },
  {
   "cell_type": "markdown",
   "metadata": {},
   "source": [
    "Now aiming to receive a way of calculating $\\delta\\,\\frac{E}{V}$ we should consider \n",
    "\n",
    "# Euler–Maclaurin 2D formula\n",
    "\n",
    "Reading in\n",
    "\n",
    "https://www.journals.vu.lt/LMJ/article/view/20600/19701\n",
    "ФОРМУЛА СУММИРОВАНИЯ ЭЙЛЕРА—МАКЛОРЕНА ДЛЯ ФУНКЦИИ МНОГИХ ПЕРЕМЕННЫХ А.БИКЯЛИС\n",
    "VIII LIETUVOS MATEMATIKOS RINKINYS 4\n",
    "ЛИТОВСКИЙ МАТЕМАТИЧЕСКИЙ СБОРНИК\n",
    "1968\n",
    "\n",
    "The following:\n",
    "\"Далее,обе стороны этого равенства суммируем по всем целым m2 из интервала(z2,y2). Получаем\"\n",
    "\n",
    "We just apply Euler–Maclaurin formula twice on $n_x$ and on $n_y$\n",
    "\n",
    "Starting from the following form of this formula\n",
    "\n",
    "$${\\displaystyle \\sum _{i=a}^{b}f(i)=\\int _{a}^{b}f(x)\\,dx+{\\frac {f(a)+f(b)}{2}}+\\sum _{k=1}^{\\lfloor p/2\\rfloor }{\\frac {B_{2k}}{(2k)!}}(f^{(2k-1)}(b)-f^{(2k-1)}(a))+R_{p},}$$\n",
    "\n",
    "$${\\displaystyle P_{k}(x)=B_{k}(x-\\lfloor x\\rfloor ),}$$\n",
    "\n",
    "$${\\displaystyle R_{p}=(-1)^{p+1}\\int _{a}^{b}f^{(p)}(x){\\frac {P_{p}(x)}{p!}}\\,dx.}$$\n",
    "\n",
    "or better use\n",
    "\n",
    "$${\\displaystyle R_{p}=(-1)^{p+1}\\sum_{j=a}^{b-1} \\int _{0}^{1}f^{(p)}(v+j){\\frac {B_{p}(v)}{p!}}\\,dv.}$$\n",
    "\n",
    "we see that it consists from 4 terms: intergal (int), half sum (half), sum of Bernoulli polynomials (sum) and Remained part (Rp). When applying it to $F$ twice on $n_x$ and on $n_y$ we should have the following terms which can be represented in the table form:\n",
    "\n",
    "$\\begin{array}{rrrr}\n",
    " inty\\_intx\\_F  &  inty\\_halfx\\_F  &  inty\\_sumx\\_F  &  inty\\_Rpx\\_F  \\\\\n",
    " halfy\\_intx\\_F &  halfy\\_halfx\\_F &  halfy\\_sumx\\_F &  halfy\\_Rpx\\_F \\\\\n",
    " sumy\\_intx\\_F  &  sumy\\_halfx\\_F  &  sumy\\_sumx\\_F  &  sumy\\_Rpx\\_F  \\\\\n",
    " Rpy\\_intx\\_F   &  Rpy\\_halfx\\_F   &  Rpy\\_sumx\\_F   &  Rpy\\_Rpx\\_F\n",
    "\\end{array}$\n",
    "\n",
    "And taking on account that we have function $F$ which is symmertic on its  $n_x$ and $n_y$ arguments, so above marix is symmetric too."
   ]
  },
  {
   "cell_type": "markdown",
   "metadata": {},
   "source": [
    "# Summary Euler–Maclaurin 2D \n",
    "\n",
    "Taking value of parameter $p = 1$ we have:"
   ]
  },
  {
   "cell_type": "code",
   "execution_count": 153,
   "metadata": {},
   "outputs": [
    {
     "data": {
      "text/latex": [
       "$\\displaystyle \\int_{a_{y}}^{b_{y}} \\int_{a_{x}}^{b_{x}} F\\left(n_{x}, n_{y}\\right)\\,{d n_{x}}\\,{d n_{y}}$"
      ],
      "text/plain": [
       "<IPython.core.display.Math object>"
      ]
     },
     "metadata": {},
     "output_type": "display_data"
    },
    {
     "data": {
      "text/latex": [
       "$\\displaystyle \\frac{1}{2} \\, \\int_{a_{y}}^{b_{y}} F\\left(a_{x}, n_{y}\\right)\\,{d n_{y}}$"
      ],
      "text/plain": [
       "<IPython.core.display.Math object>"
      ]
     },
     "metadata": {},
     "output_type": "display_data"
    },
    {
     "data": {
      "text/latex": [
       "$\\displaystyle 0$"
      ],
      "text/plain": [
       "<IPython.core.display.Math object>"
      ]
     },
     "metadata": {},
     "output_type": "display_data"
    },
    {
     "data": {
      "text/latex": [
       "$\\displaystyle \\int_{a_{y}}^{b_{y}} \\int_{a_{x}}^{b_{x}} \\frac{1}{2} \\, {\\left(2 \\, n_{x} - 2 \\, \\left \\lfloor n_{x} \\right \\rfloor - 1\\right)} \\frac{\\partial}{\\partial n_{x}}F\\left(n_{x}, n_{y}\\right)\\,{d n_{x}}\\,{d n_{y}}$"
      ],
      "text/plain": [
       "<IPython.core.display.Math object>"
      ]
     },
     "metadata": {},
     "output_type": "display_data"
    },
    {
     "data": {
      "text/plain": [
       "(None, None, None, None)"
      ]
     },
     "execution_count": 153,
     "metadata": {},
     "output_type": "execute_result"
    }
   ],
   "source": [
    "disp(inty_intx_F), disp(inty_halfx_F), disp(inty_sumx_F), disp(inty_Rpx_F)"
   ]
  },
  {
   "cell_type": "code",
   "execution_count": 154,
   "metadata": {},
   "outputs": [
    {
     "data": {
      "text/latex": [
       "$\\displaystyle \\frac{1}{2} \\, \\int_{a_{x}}^{b_{x}} F\\left(n_{x}, a_{y}\\right)\\,{d n_{x}}$"
      ],
      "text/plain": [
       "<IPython.core.display.Math object>"
      ]
     },
     "metadata": {},
     "output_type": "display_data"
    },
    {
     "data": {
      "text/latex": [
       "$\\displaystyle \\frac{1}{4} \\, F\\left(a_{x}, a_{y}\\right)$"
      ],
      "text/plain": [
       "<IPython.core.display.Math object>"
      ]
     },
     "metadata": {},
     "output_type": "display_data"
    },
    {
     "data": {
      "text/latex": [
       "$\\displaystyle 0$"
      ],
      "text/plain": [
       "<IPython.core.display.Math object>"
      ]
     },
     "metadata": {},
     "output_type": "display_data"
    },
    {
     "data": {
      "text/latex": [
       "$\\displaystyle -\\frac{1}{4} \\, \\int_{a_{x}}^{b_{x}} -2 \\, n_{x} \\frac{\\partial}{\\partial n_{x}}F\\left(n_{x}, a_{y}\\right)\\,{d n_{x}} - \\frac{1}{4} \\, \\int_{a_{x}}^{b_{x}} 2 \\, \\left \\lfloor n_{x} \\right \\rfloor \\frac{\\partial}{\\partial n_{x}}F\\left(n_{x}, a_{y}\\right)\\,{d n_{x}} - \\frac{1}{4} \\, \\int_{a_{x}}^{b_{x}} \\frac{\\partial}{\\partial n_{x}}F\\left(n_{x}, a_{y}\\right)\\,{d n_{x}}$"
      ],
      "text/plain": [
       "<IPython.core.display.Math object>"
      ]
     },
     "metadata": {},
     "output_type": "display_data"
    },
    {
     "data": {
      "text/plain": [
       "(None, None, None, None)"
      ]
     },
     "execution_count": 154,
     "metadata": {},
     "output_type": "execute_result"
    }
   ],
   "source": [
    "disp(halfy_intx_F), disp(halfy_halfx_F), disp(halfy_sumx_F), disp(halfy_Rpx_F)"
   ]
  },
  {
   "cell_type": "code",
   "execution_count": 155,
   "metadata": {},
   "outputs": [
    {
     "data": {
      "text/latex": [
       "$\\displaystyle 0$"
      ],
      "text/plain": [
       "<IPython.core.display.Math object>"
      ]
     },
     "metadata": {},
     "output_type": "display_data"
    },
    {
     "data": {
      "text/latex": [
       "$\\displaystyle 0$"
      ],
      "text/plain": [
       "<IPython.core.display.Math object>"
      ]
     },
     "metadata": {},
     "output_type": "display_data"
    },
    {
     "data": {
      "text/latex": [
       "$\\displaystyle 0$"
      ],
      "text/plain": [
       "<IPython.core.display.Math object>"
      ]
     },
     "metadata": {},
     "output_type": "display_data"
    },
    {
     "data": {
      "text/latex": [
       "$\\displaystyle 0$"
      ],
      "text/plain": [
       "<IPython.core.display.Math object>"
      ]
     },
     "metadata": {},
     "output_type": "display_data"
    },
    {
     "data": {
      "text/plain": [
       "(None, None, None, None)"
      ]
     },
     "execution_count": 155,
     "metadata": {},
     "output_type": "execute_result"
    }
   ],
   "source": [
    "disp(sumy_intx_F), disp(sumy_halfx_F), disp(sumy_sumx_F), disp(sumy_Rpx_F)"
   ]
  },
  {
   "cell_type": "code",
   "execution_count": 156,
   "metadata": {},
   "outputs": [],
   "source": [
    "Rpy_intx_F=inty_Rpx_F\n",
    "Rpy_intx_Fu=inty_Rpx_Fu\n",
    "Rpy_intx_Fn=inty_Rpx_Fn"
   ]
  },
  {
   "cell_type": "code",
   "execution_count": 157,
   "metadata": {
    "scrolled": true
   },
   "outputs": [
    {
     "data": {
      "text/latex": [
       "$\\displaystyle \\int_{a_{y}}^{b_{y}} \\int_{a_{x}}^{b_{x}} \\frac{1}{2} \\, {\\left(2 \\, n_{x} - 2 \\, \\left \\lfloor n_{x} \\right \\rfloor - 1\\right)} \\frac{\\partial}{\\partial n_{x}}F\\left(n_{x}, n_{y}\\right)\\,{d n_{x}}\\,{d n_{y}}$"
      ],
      "text/plain": [
       "<IPython.core.display.Math object>"
      ]
     },
     "metadata": {},
     "output_type": "display_data"
    },
    {
     "data": {
      "text/latex": [
       "$\\displaystyle \\int_{a_{y}}^{b_{y}} \\frac{1}{4} \\, {\\left(2 \\, n_{y} - 2 \\, \\left \\lfloor n_{y} \\right \\rfloor - 1\\right)} \\frac{\\partial}{\\partial n_{y}}F\\left(a_{x}, n_{y}\\right)\\,{d n_{y}}$"
      ],
      "text/plain": [
       "<IPython.core.display.Math object>"
      ]
     },
     "metadata": {},
     "output_type": "display_data"
    },
    {
     "data": {
      "text/latex": [
       "$\\displaystyle \\int_{a_{y}}^{b_{y}} 0\\,{d n_{y}}$"
      ],
      "text/plain": [
       "<IPython.core.display.Math object>"
      ]
     },
     "metadata": {},
     "output_type": "display_data"
    },
    {
     "data": {
      "text/latex": [
       "$\\displaystyle \\int_{a_{y}}^{b_{y}} \\frac{1}{2} \\, {\\left(2 \\, n_{y} - 2 \\, \\left \\lfloor n_{y} \\right \\rfloor - 1\\right)} \\int_{a_{x}}^{b_{x}} \\frac{1}{2} \\, {\\left(2 \\, n_{x} - 2 \\, \\left \\lfloor n_{x} \\right \\rfloor - 1\\right)} \\frac{\\partial^{2}}{\\partial n_{x}\\partial n_{y}}F\\left(n_{x}, n_{y}\\right)\\,{d n_{x}}\\,{d n_{y}}$"
      ],
      "text/plain": [
       "<IPython.core.display.Math object>"
      ]
     },
     "metadata": {},
     "output_type": "display_data"
    },
    {
     "data": {
      "text/plain": [
       "(None, None, None, None)"
      ]
     },
     "execution_count": 157,
     "metadata": {},
     "output_type": "execute_result"
    }
   ],
   "source": [
    "disp(Rpy_intx_F), disp(Rpy_halfx_F), disp(Rpy_sumx_F), disp(Rpy_Rpx_F)"
   ]
  },
  {
   "cell_type": "code",
   "execution_count": null,
   "metadata": {},
   "outputs": [],
   "source": []
  },
  {
   "cell_type": "code",
   "execution_count": 158,
   "metadata": {},
   "outputs": [
    {
     "data": {
      "text/latex": [
       "$\\displaystyle \\int_{a_{y}}^{b_{y}} \\int_{a_{x}}^{b_{x}} F\\left(n_{x}, n_{y}\\right)\\,{d n_{x}}\\,{d n_{y}}$"
      ],
      "text/plain": [
       "<IPython.core.display.Math object>"
      ]
     },
     "metadata": {},
     "output_type": "display_data"
    },
    {
     "data": {
      "text/latex": [
       "$\\displaystyle \\int_{0}^{+\\infty} \\frac{1}{2} \\, \\sqrt{n_{y}^{2} + u^{2}} f\\left(\\frac{\\pi \\sqrt{n_{y}^{2} + u^{2}}}{a k_{m}}\\right)\\,{d n_{y}}$"
      ],
      "text/plain": [
       "<IPython.core.display.Math object>"
      ]
     },
     "metadata": {},
     "output_type": "display_data"
    },
    {
     "data": {
      "text/latex": [
       "$\\displaystyle 0.0$"
      ],
      "text/plain": [
       "<IPython.core.display.Math object>"
      ]
     },
     "metadata": {},
     "output_type": "display_data"
    },
    {
     "data": {
      "text/latex": [
       "$\\displaystyle \\int_{0}^{+\\infty} \\int_{0}^{+\\infty} \\frac{1}{2} \\, {\\left(\\frac{n_{x} f\\left(\\frac{\\pi \\sqrt{n_{x}^{2} + n_{y}^{2} + u^{2}}}{a k_{m}}\\right)}{\\sqrt{n_{x}^{2} + n_{y}^{2} + u^{2}}} + \\frac{\\pi n_{x} \\mathrm{D}_{0}\\left(f\\right)\\left(\\frac{\\pi \\sqrt{n_{x}^{2} + n_{y}^{2} + u^{2}}}{a k_{m}}\\right)}{a k_{m}}\\right)} {\\left(2 \\, n_{x} - 2 \\, \\left \\lfloor n_{x} \\right \\rfloor - 1\\right)}\\,{d n_{x}}\\,{d n_{y}}$"
      ],
      "text/plain": [
       "<IPython.core.display.Math object>"
      ]
     },
     "metadata": {},
     "output_type": "display_data"
    },
    {
     "data": {
      "text/plain": [
       "(None, None, None, None)"
      ]
     },
     "execution_count": 158,
     "metadata": {},
     "output_type": "execute_result"
    }
   ],
   "source": [
    "disp(inty_intx_F), disp(inty_halfx_Fu(u, a, k_m)), disp(inty_sumx_Fu(u, a, k_m)), disp(inty_Rpx_Fu)"
   ]
  },
  {
   "cell_type": "code",
   "execution_count": 159,
   "metadata": {},
   "outputs": [
    {
     "data": {
      "text/latex": [
       "$\\displaystyle \\int_{a_{y}}^{b_{y}} \\int_{a_{x}}^{b_{x}} F\\left(n_{x}, n_{y}\\right)\\,{d n_{x}}\\,{d n_{y}}$"
      ],
      "text/plain": [
       "<IPython.core.display.Math object>"
      ]
     },
     "metadata": {},
     "output_type": "display_data"
    },
    {
     "data": {
      "text/latex": [
       "$\\displaystyle \\int_{0}^{+\\infty} \\frac{\\sqrt{n_{y}^{2} + u^{2}}}{2 \\, {\\left(\\frac{\\pi^{4} {\\left(n_{y}^{2} + u^{2}\\right)}^{2}}{a^{4} k_{m}^{4}} + 1\\right)}}\\,{d n_{y}}$"
      ],
      "text/plain": [
       "<IPython.core.display.Math object>"
      ]
     },
     "metadata": {},
     "output_type": "display_data"
    },
    {
     "data": {
      "text/latex": [
       "$\\displaystyle 0.0$"
      ],
      "text/plain": [
       "<IPython.core.display.Math object>"
      ]
     },
     "metadata": {},
     "output_type": "display_data"
    },
    {
     "data": {
      "text/latex": [
       "$\\displaystyle \\int_{0}^{+\\infty} \\int_{0}^{+\\infty} \\frac{1}{2} \\, {\\left(2 \\, n_{x} - 2 \\, \\left \\lfloor n_{x} \\right \\rfloor - 1\\right)} {\\left(\\frac{n_{x}}{\\sqrt{n_{x}^{2} + n_{y}^{2} + u^{2}} {\\left(\\frac{\\pi^{4} {\\left(n_{x}^{2} + n_{y}^{2} + u^{2}\\right)}^{2}}{a^{4} k_{m}^{4}} + 1\\right)}} - \\frac{4 \\, \\pi^{4} {\\left(n_{x}^{2} + n_{y}^{2} + u^{2}\\right)}^{\\frac{3}{2}} n_{x}}{a^{4} k_{m}^{4} {\\left(\\frac{\\pi^{4} {\\left(n_{x}^{2} + n_{y}^{2} + u^{2}\\right)}^{2}}{a^{4} k_{m}^{4}} + 1\\right)}^{2}}\\right)}\\,{d n_{x}}\\,{d n_{y}}$"
      ],
      "text/plain": [
       "<IPython.core.display.Math object>"
      ]
     },
     "metadata": {},
     "output_type": "display_data"
    },
    {
     "data": {
      "text/plain": [
       "(None, None, None, None)"
      ]
     },
     "execution_count": 159,
     "metadata": {},
     "output_type": "execute_result"
    }
   ],
   "source": [
    "disp(inty_intx_F), disp(inty_halfx_Fn(u, a, k_m)), disp(inty_sumx_Fn(u, a, k_m)), disp(inty_Rpx_Fn)"
   ]
  },
  {
   "cell_type": "code",
   "execution_count": null,
   "metadata": {},
   "outputs": [],
   "source": []
  },
  {
   "cell_type": "code",
   "execution_count": 160,
   "metadata": {},
   "outputs": [
    {
     "data": {
      "text/latex": [
       "$\\displaystyle \\frac{1}{2} \\, \\int_{0}^{+\\infty} \\sqrt{n_{x}^{2} + u^{2}} f\\left(\\frac{\\pi \\sqrt{n_{x}^{2} + u^{2}}}{a k_{m}}\\right)\\,{d n_{x}}$"
      ],
      "text/plain": [
       "<IPython.core.display.Math object>"
      ]
     },
     "metadata": {},
     "output_type": "display_data"
    },
    {
     "data": {
      "text/latex": [
       "$\\displaystyle \\frac{1}{4} \\, u f\\left(\\frac{\\pi u}{a k_{m}}\\right)$"
      ],
      "text/plain": [
       "<IPython.core.display.Math object>"
      ]
     },
     "metadata": {},
     "output_type": "display_data"
    },
    {
     "data": {
      "text/latex": [
       "$\\displaystyle 0$"
      ],
      "text/plain": [
       "<IPython.core.display.Math object>"
      ]
     },
     "metadata": {},
     "output_type": "display_data"
    },
    {
     "data": {
      "text/latex": [
       "$\\displaystyle -\\frac{1}{4} \\, \\int_{a_{x}}^{b_{x}} -2 \\, n_{x} \\frac{\\partial}{\\partial n_{x}}F\\left(n_{x}, a_{y}\\right)\\,{d n_{x}} - \\frac{1}{4} \\, \\int_{a_{x}}^{b_{x}} 2 \\, \\left \\lfloor n_{x} \\right \\rfloor \\frac{\\partial}{\\partial n_{x}}F\\left(n_{x}, a_{y}\\right)\\,{d n_{x}} - \\frac{1}{4} \\, \\int_{a_{x}}^{b_{x}} \\frac{\\partial}{\\partial n_{x}}F\\left(n_{x}, a_{y}\\right)\\,{d n_{x}}$"
      ],
      "text/plain": [
       "<IPython.core.display.Math object>"
      ]
     },
     "metadata": {},
     "output_type": "display_data"
    },
    {
     "data": {
      "text/plain": [
       "(None, None, None, None)"
      ]
     },
     "execution_count": 160,
     "metadata": {},
     "output_type": "execute_result"
    }
   ],
   "source": [
    "disp(halfy_intx_Fu), disp(halfy_halfx_Fu), disp(halfy_sumx_Fu), disp(halfy_Rpx_F)"
   ]
  },
  {
   "cell_type": "code",
   "execution_count": 161,
   "metadata": {},
   "outputs": [
    {
     "data": {
      "text/latex": [
       "$\\displaystyle \\frac{1}{2} \\, a^{4} k_{m}^{4} \\int_{0}^{+\\infty} \\frac{\\sqrt{n_{x}^{2} + u^{2}}}{a^{4} k_{m}^{4} + \\pi^{4} n_{x}^{4} + 2 \\, \\pi^{4} n_{x}^{2} u^{2} + \\pi^{4} u^{4}}\\,{d n_{x}}$"
      ],
      "text/plain": [
       "<IPython.core.display.Math object>"
      ]
     },
     "metadata": {},
     "output_type": "display_data"
    },
    {
     "data": {
      "text/latex": [
       "$\\displaystyle \\frac{u}{4 \\, {\\left(\\frac{\\pi^{4} u^{4}}{a^{4} k_{m}^{4}} + 1\\right)}}$"
      ],
      "text/plain": [
       "<IPython.core.display.Math object>"
      ]
     },
     "metadata": {},
     "output_type": "display_data"
    },
    {
     "data": {
      "text/latex": [
       "$\\displaystyle 0$"
      ],
      "text/plain": [
       "<IPython.core.display.Math object>"
      ]
     },
     "metadata": {},
     "output_type": "display_data"
    },
    {
     "data": {
      "text/latex": [
       "$\\displaystyle -\\frac{1}{4} \\, \\int_{a_{x}}^{b_{x}} -2 \\, n_{x} \\frac{\\partial}{\\partial n_{x}}F\\left(n_{x}, a_{y}\\right)\\,{d n_{x}} - \\frac{1}{4} \\, \\int_{a_{x}}^{b_{x}} 2 \\, \\left \\lfloor n_{x} \\right \\rfloor \\frac{\\partial}{\\partial n_{x}}F\\left(n_{x}, a_{y}\\right)\\,{d n_{x}} - \\frac{1}{4} \\, \\int_{a_{x}}^{b_{x}} \\frac{\\partial}{\\partial n_{x}}F\\left(n_{x}, a_{y}\\right)\\,{d n_{x}}$"
      ],
      "text/plain": [
       "<IPython.core.display.Math object>"
      ]
     },
     "metadata": {},
     "output_type": "display_data"
    },
    {
     "data": {
      "text/plain": [
       "(None, None, None, None)"
      ]
     },
     "execution_count": 161,
     "metadata": {},
     "output_type": "execute_result"
    }
   ],
   "source": [
    "disp(halfy_intx_Fn), disp(halfy_halfx_Fn), disp(halfy_sumx_Fn), disp(halfy_Rpx_F)"
   ]
  },
  {
   "cell_type": "code",
   "execution_count": null,
   "metadata": {},
   "outputs": [],
   "source": []
  },
  {
   "cell_type": "code",
   "execution_count": 162,
   "metadata": {},
   "outputs": [
    {
     "data": {
      "text/latex": [
       "$\\displaystyle 0$"
      ],
      "text/plain": [
       "<IPython.core.display.Math object>"
      ]
     },
     "metadata": {},
     "output_type": "display_data"
    },
    {
     "data": {
      "text/latex": [
       "$\\displaystyle 0$"
      ],
      "text/plain": [
       "<IPython.core.display.Math object>"
      ]
     },
     "metadata": {},
     "output_type": "display_data"
    },
    {
     "data": {
      "text/latex": [
       "$\\displaystyle 0$"
      ],
      "text/plain": [
       "<IPython.core.display.Math object>"
      ]
     },
     "metadata": {},
     "output_type": "display_data"
    },
    {
     "data": {
      "text/latex": [
       "$\\displaystyle 0$"
      ],
      "text/plain": [
       "<IPython.core.display.Math object>"
      ]
     },
     "metadata": {},
     "output_type": "display_data"
    },
    {
     "data": {
      "text/plain": [
       "(None, None, None, None)"
      ]
     },
     "execution_count": 162,
     "metadata": {},
     "output_type": "execute_result"
    }
   ],
   "source": [
    "disp(sumy_intx_Fu), disp(sumy_halfx_Fu), disp(sumy_sumx_Fu(u, a, k_m)), disp(sumy_Rpx_F)"
   ]
  },
  {
   "cell_type": "code",
   "execution_count": null,
   "metadata": {},
   "outputs": [],
   "source": []
  },
  {
   "cell_type": "code",
   "execution_count": 163,
   "metadata": {
    "scrolled": true
   },
   "outputs": [
    {
     "data": {
      "text/latex": [
       "$\\displaystyle \\int_{0}^{+\\infty} \\int_{0}^{+\\infty} \\frac{1}{2} \\, {\\left(\\frac{n_{x} f\\left(\\frac{\\pi \\sqrt{n_{x}^{2} + n_{y}^{2} + u^{2}}}{a k_{m}}\\right)}{\\sqrt{n_{x}^{2} + n_{y}^{2} + u^{2}}} + \\frac{\\pi n_{x} \\mathrm{D}_{0}\\left(f\\right)\\left(\\frac{\\pi \\sqrt{n_{x}^{2} + n_{y}^{2} + u^{2}}}{a k_{m}}\\right)}{a k_{m}}\\right)} {\\left(2 \\, n_{x} - 2 \\, \\left \\lfloor n_{x} \\right \\rfloor - 1\\right)}\\,{d n_{x}}\\,{d n_{y}}$"
      ],
      "text/plain": [
       "<IPython.core.display.Math object>"
      ]
     },
     "metadata": {},
     "output_type": "display_data"
    },
    {
     "data": {
      "text/latex": [
       "$\\displaystyle \\int_{0}^{+\\infty} \\frac{1}{4} \\, {\\left(\\frac{n_{y} f\\left(\\frac{\\pi \\sqrt{n_{y}^{2} + u^{2}}}{a k_{m}}\\right)}{\\sqrt{n_{y}^{2} + u^{2}}} + \\frac{\\pi n_{y} \\mathrm{D}_{0}\\left(f\\right)\\left(\\frac{\\pi \\sqrt{n_{y}^{2} + u^{2}}}{a k_{m}}\\right)}{a k_{m}}\\right)} {\\left(2 \\, n_{y} - 2 \\, \\left \\lfloor n_{y} \\right \\rfloor - 1\\right)}\\,{d n_{y}}$"
      ],
      "text/plain": [
       "<IPython.core.display.Math object>"
      ]
     },
     "metadata": {},
     "output_type": "display_data"
    },
    {
     "data": {
      "text/latex": [
       "$\\displaystyle \\int_{0}^{+\\infty} 0\\,{d n_{y}}$"
      ],
      "text/plain": [
       "<IPython.core.display.Math object>"
      ]
     },
     "metadata": {},
     "output_type": "display_data"
    },
    {
     "data": {
      "text/latex": [
       "$\\displaystyle \\int_{a_{y}}^{b_{y}} \\frac{1}{2} \\, {\\left(2 \\, n_{y} - 2 \\, \\left \\lfloor n_{y} \\right \\rfloor - 1\\right)} \\int_{a_{x}}^{b_{x}} \\frac{1}{2} \\, {\\left(2 \\, n_{x} - 2 \\, \\left \\lfloor n_{x} \\right \\rfloor - 1\\right)} \\frac{\\partial^{2}}{\\partial n_{x}\\partial n_{y}}F\\left(n_{x}, n_{y}\\right)\\,{d n_{x}}\\,{d n_{y}}$"
      ],
      "text/plain": [
       "<IPython.core.display.Math object>"
      ]
     },
     "metadata": {},
     "output_type": "display_data"
    },
    {
     "data": {
      "text/plain": [
       "(None, None, None, None)"
      ]
     },
     "execution_count": 163,
     "metadata": {},
     "output_type": "execute_result"
    }
   ],
   "source": [
    "disp(Rpy_intx_Fu), disp(Rpy_halfx_Fu), disp(Rpy_sumx_Fu), disp(Rpy_Rpx_F)"
   ]
  },
  {
   "cell_type": "code",
   "execution_count": 164,
   "metadata": {
    "scrolled": true
   },
   "outputs": [
    {
     "data": {
      "text/latex": [
       "$\\displaystyle \\int_{0}^{+\\infty} \\int_{0}^{+\\infty} \\frac{1}{2} \\, {\\left(2 \\, n_{x} - 2 \\, \\left \\lfloor n_{x} \\right \\rfloor - 1\\right)} {\\left(\\frac{n_{x}}{\\sqrt{n_{x}^{2} + n_{y}^{2} + u^{2}} {\\left(\\frac{\\pi^{4} {\\left(n_{x}^{2} + n_{y}^{2} + u^{2}\\right)}^{2}}{a^{4} k_{m}^{4}} + 1\\right)}} - \\frac{4 \\, \\pi^{4} {\\left(n_{x}^{2} + n_{y}^{2} + u^{2}\\right)}^{\\frac{3}{2}} n_{x}}{a^{4} k_{m}^{4} {\\left(\\frac{\\pi^{4} {\\left(n_{x}^{2} + n_{y}^{2} + u^{2}\\right)}^{2}}{a^{4} k_{m}^{4}} + 1\\right)}^{2}}\\right)}\\,{d n_{x}}\\,{d n_{y}}$"
      ],
      "text/plain": [
       "<IPython.core.display.Math object>"
      ]
     },
     "metadata": {},
     "output_type": "display_data"
    },
    {
     "data": {
      "text/latex": [
       "$\\displaystyle \\int_{0}^{+\\infty} \\frac{1}{4} \\, {\\left(2 \\, n_{y} - 2 \\, \\left \\lfloor n_{y} \\right \\rfloor - 1\\right)} {\\left(\\frac{n_{y}}{\\sqrt{n_{y}^{2} + u^{2}} {\\left(\\frac{\\pi^{4} {\\left(n_{y}^{2} + u^{2}\\right)}^{2}}{a^{4} k_{m}^{4}} + 1\\right)}} - \\frac{4 \\, \\pi^{4} {\\left(n_{y}^{2} + u^{2}\\right)}^{\\frac{3}{2}} n_{y}}{a^{4} k_{m}^{4} {\\left(\\frac{\\pi^{4} {\\left(n_{y}^{2} + u^{2}\\right)}^{2}}{a^{4} k_{m}^{4}} + 1\\right)}^{2}}\\right)}\\,{d n_{y}}$"
      ],
      "text/plain": [
       "<IPython.core.display.Math object>"
      ]
     },
     "metadata": {},
     "output_type": "display_data"
    },
    {
     "data": {
      "text/latex": [
       "$\\displaystyle \\int_{0}^{+\\infty} 0\\,{d n_{y}}$"
      ],
      "text/plain": [
       "<IPython.core.display.Math object>"
      ]
     },
     "metadata": {},
     "output_type": "display_data"
    },
    {
     "data": {
      "text/latex": [
       "$\\displaystyle \\int_{a_{y}}^{b_{y}} \\frac{1}{2} \\, {\\left(2 \\, n_{y} - 2 \\, \\left \\lfloor n_{y} \\right \\rfloor - 1\\right)} \\int_{a_{x}}^{b_{x}} \\frac{1}{2} \\, {\\left(2 \\, n_{x} - 2 \\, \\left \\lfloor n_{x} \\right \\rfloor - 1\\right)} \\frac{\\partial^{2}}{\\partial n_{x}\\partial n_{y}}F\\left(n_{x}, n_{y}\\right)\\,{d n_{x}}\\,{d n_{y}}$"
      ],
      "text/plain": [
       "<IPython.core.display.Math object>"
      ]
     },
     "metadata": {},
     "output_type": "display_data"
    },
    {
     "data": {
      "text/plain": [
       "(None, None, None, None)"
      ]
     },
     "execution_count": 164,
     "metadata": {},
     "output_type": "execute_result"
    }
   ],
   "source": [
    "disp(Rpy_intx_Fn), disp(Rpy_halfx_Fn), disp(Rpy_sumx_Fn), disp(Rpy_Rpx_F)"
   ]
  },
  {
   "cell_type": "markdown",
   "metadata": {},
   "source": [
    "# A way of calculating $\\delta\\,\\frac{E}{V}$"
   ]
  },
  {
   "cell_type": "markdown",
   "metadata": {},
   "source": [
    "Let's consider\n",
    "\n",
    "\\begin{equation}\n",
    "\\sum\\limits_{n_x=\\left(0\\right)\\,1}^{\\infty}\n",
    "\\sum\\limits_{n_y=\\left(0\\right)\\,1}^{\\infty}\n",
    "F\\left(n_x, n_y\\right)\n",
    "-\n",
    "\\int\\limits_{0}^{\\infty}\n",
    "\\int\\limits_{0}^{\\infty}\n",
    "F\\left(n_x, n_y\\right)\\,d{n_x}\\,d{n_y}\n",
    "\\end{equation}"
   ]
  },
  {
   "cell_type": "markdown",
   "metadata": {},
   "source": [
    "First we see, that"
   ]
  },
  {
   "cell_type": "markdown",
   "metadata": {},
   "source": [
    "\\begin{equation}\n",
    "\\sum\\limits_{n_x=\\left(0\\right)\\,1}^{\\infty}\n",
    "\\sum\\limits_{n_y=\\left(0\\right)\\,1}^{\\infty}\n",
    "{F\\left(n_x, n_y\\right)}\n",
    "= \\sum\\limits_{n_x=\\left(0\\right)\\,1}^{\\infty}\n",
    "\\left(\n",
    "-\\frac{1}{2}F\\left(n_x, 0\\right) + \\sum\\limits_{n_y=0}^{\\infty}{F\\left(n_x, n_y\\right)}\n",
    "\\right)\n",
    "= -\\frac{1}{2}\n",
    "\\left(\n",
    "-\\frac{1}{2}F\\left(0, 0\\right) + \\sum\\limits_{n_y=0}^{\\infty}{F\\left(0, n_y\\right)}\n",
    "\\right)\n",
    "+\\sum\\limits_{n_x=0}^{\\infty}\n",
    "\\left(\n",
    "-\\frac{1}{2}F\\left(n_x, 0\\right) + \\sum\\limits_{n_y=0}^{\\infty}{F\\left(n_x, n_y\\right)}\n",
    "\\right)\n",
    "= \\frac{1}{4}F\\left(0, 0\\right)\n",
    "- \\frac{1}{2}\\sum\\limits_{n_y=0}^{\\infty}{F\\left(0, n_y\\right)}\n",
    "- \\frac{1}{2}\\sum\\limits_{n_x=0}^{\\infty}{F\\left(n_x, 0\\right)}\n",
    "+ \\sum\\limits_{n_x=0}^{\\infty}\\sum\\limits_{n_y=0}^{\\infty}{F\\left(n_x, n_y\\right)}\n",
    "\\end{equation}"
   ]
  },
  {
   "cell_type": "markdown",
   "metadata": {},
   "source": [
    "So we have\n",
    "\\begin{equation}\n",
    "\\sum\\limits_{n_x=\\left(0\\right)\\,1}^{\\infty}\n",
    "\\sum\\limits_{n_y=\\left(0\\right)\\,1}^{\\infty}\n",
    "{F\\left(n_x, n_y\\right)}\n",
    "=\\frac{1}{4}F\\left(0, 0\\right)\n",
    "-\\frac{1}{2}\\sum\\limits_{n_y=0}^{\\infty}{F\\left(0, n_y\\right)}\n",
    "-\\frac{1}{2}\\sum\\limits_{n_x=0}^{\\infty}{F\\left(n_x, 0\\right)}\n",
    "+\\sum\\limits_{n_x=0}^{\\infty}\\sum\\limits_{n_y=0}^{\\infty}{F\\left(n_x, n_y\\right)}\n",
    "\\end{equation}"
   ]
  },
  {
   "cell_type": "markdown",
   "metadata": {},
   "source": [
    "And\n",
    "\n",
    "\\begin{equation}\n",
    "\\sum\\limits_{n_x=\\left(0\\right)\\,1}^{\\infty}\n",
    "\\sum\\limits_{n_y=\\left(0\\right)\\,1}^{\\infty}\n",
    "F\\left(n_x, n_y\\right)\n",
    "-\n",
    "\\int\\limits_{0}^{\\infty}\n",
    "\\int\\limits_{0}^{\\infty}\n",
    "F\\left(n_x, n_y\\right)\\,d{n_x}\\,d{n_y} =\n",
    "\\end{equation}"
   ]
  },
  {
   "cell_type": "markdown",
   "metadata": {},
   "source": [
    "\\begin{equation}\n",
    "=\\frac{1}{4}F\\left(0, 0\\right)\n",
    "-\\frac{1}{2}\\sum\\limits_{n_y=0}^{\\infty}{F\\left(0, n_y\\right)}\n",
    "-\\frac{1}{2}\\sum\\limits_{n_x=0}^{\\infty}{F\\left(n_x, 0\\right)}\n",
    "+\\sum\\limits_{n_x=0}^{\\infty}\\sum\\limits_{n_y=0}^{\\infty}{F\\left(n_x, n_y\\right)}\n",
    "-\n",
    "\\int\\limits_{0}^{\\infty}\n",
    "\\int\\limits_{0}^{\\infty}\n",
    "F\\left(n_x, n_y\\right)\\,d{n_x}\\,d{n_y}\n",
    "\\end{equation}"
   ]
  },
  {
   "cell_type": "markdown",
   "metadata": {},
   "source": [
    "On the other hand we have found that\n",
    "\\begin{equation}\n",
    "\\sum\\limits_{n_x=0}^{\\infty}\n",
    "\\sum\\limits_{n_y=0}^{\\infty}\n",
    "F\\left(n_x, n_y\\right)\n",
    "-\\int\\limits_{0}^{\\infty}\n",
    "\\int\\limits_{0}^{\\infty}\n",
    "F\\left(n_x, n_y\\right)\\,d{n_x}\\,d{n_y}\n",
    "\\end{equation}\n",
    "is"
   ]
  },
  {
   "cell_type": "markdown",
   "metadata": {},
   "source": [
    "$\\begin{array}{rrrr}\n",
    "                 & + inty\\_halfx\\_F  & + inty\\_sumx\\_F  & + inty\\_Rpx\\_F  \\\\\n",
    "+ halfy\\_intx\\_F & + halfy\\_halfx\\_F & + halfy\\_sumx\\_F & + halfy\\_Rpx\\_F \\\\\n",
    "+ sumy\\_intx\\_F  & + sumy\\_halfx\\_F  & + sumy\\_sumx\\_F  & + sumy\\_Rpx\\_F  \\\\\n",
    "+ Rpy\\_intx\\_F   & + Rpy\\_halfx\\_F   & + Rpy\\_sumx\\_F   & + Rpy\\_Rpx\\_F\n",
    "\\end{array}$"
   ]
  },
  {
   "cell_type": "markdown",
   "metadata": {},
   "source": [
    "where $halfy\\_halfx\\_F$, $inty\\_halfx\\_F$ and $halfy\\_intx\\_F$ are:"
   ]
  },
  {
   "cell_type": "code",
   "execution_count": 165,
   "metadata": {},
   "outputs": [
    {
     "data": {
      "text/latex": [
       "$\\displaystyle \\frac{1}{4} \\, F\\left(a_{x}, a_{y}\\right)$"
      ],
      "text/plain": [
       "<IPython.core.display.Math object>"
      ]
     },
     "metadata": {},
     "output_type": "display_data"
    },
    {
     "data": {
      "text/latex": [
       "$\\displaystyle \\frac{1}{2} \\, \\int_{a_{y}}^{b_{y}} F\\left(a_{x}, n_{y}\\right)\\,{d n_{y}}$"
      ],
      "text/plain": [
       "<IPython.core.display.Math object>"
      ]
     },
     "metadata": {},
     "output_type": "display_data"
    },
    {
     "data": {
      "text/latex": [
       "$\\displaystyle \\frac{1}{2} \\, \\int_{a_{x}}^{b_{x}} F\\left(n_{x}, a_{y}\\right)\\,{d n_{x}}$"
      ],
      "text/plain": [
       "<IPython.core.display.Math object>"
      ]
     },
     "metadata": {},
     "output_type": "display_data"
    },
    {
     "data": {
      "text/plain": [
       "(None, None, None)"
      ]
     },
     "execution_count": 165,
     "metadata": {},
     "output_type": "execute_result"
    }
   ],
   "source": [
    "disp(halfy_halfx_F), disp(inty_halfx_F), disp(halfy_intx_F)"
   ]
  },
  {
   "cell_type": "markdown",
   "metadata": {},
   "source": [
    "Now using 1D EULER-MACLAURIN formula in form:"
   ]
  },
  {
   "cell_type": "markdown",
   "metadata": {},
   "source": [
    "$${\\displaystyle \\sum _{i=a}^{b}f(i)=\\int _{a}^{b}f(x)\\,dx+{\\frac {f(a)+f(b)}{2}}+\\sum _{k=1}^{\\lfloor p/2\\rfloor }{\\frac {B_{2k}}{(2k)!}}(f^{(2k-1)}(b)-f^{(2k-1)}(a))+R_{p},}$$"
   ]
  },
  {
   "cell_type": "markdown",
   "metadata": {},
   "source": [
    "we can see that"
   ]
  },
  {
   "cell_type": "markdown",
   "metadata": {},
   "source": [
    "$$\n",
    "\\frac{1}{4}F\\left(0, 0\\right)\n",
    "- \\frac{1}{2}\\sum\\limits_{n_y=0}^{\\infty}{F\\left(0, n_y\\right)}\n",
    "- \\frac{1}{2}\\sum\\limits_{n_x=0}^{\\infty}{F\\left(n_x, 0\\right)}\n",
    "$$"
   ]
  },
  {
   "cell_type": "markdown",
   "metadata": {},
   "source": [
    "will be equial to"
   ]
  },
  {
   "cell_type": "code",
   "execution_count": 166,
   "metadata": {},
   "outputs": [
    {
     "data": {
      "text/latex": [
       "$\\displaystyle -\\frac{1}{4} \\, F\\left(a_{x}, a_{y}\\right) - \\frac{1}{2} \\, \\int_{a_{x}}^{b_{x}} \\frac{1}{2} \\, {\\left(2 \\, n_{x} - 2 \\, \\left \\lfloor n_{x} \\right \\rfloor - 1\\right)} \\frac{\\partial}{\\partial n_{x}}F\\left(n_{x}, n_{y}\\right)\\,{d n_{x}} - \\frac{1}{2} \\, \\int_{a_{y}}^{b_{y}} \\frac{1}{2} \\, {\\left(2 \\, n_{y} - 2 \\, \\left \\lfloor n_{y} \\right \\rfloor - 1\\right)} \\frac{\\partial}{\\partial n_{y}}F\\left(n_{x}, n_{y}\\right)\\,{d n_{y}} - \\frac{1}{2} \\, \\int_{a_{y}}^{b_{y}} F\\left(a_{x}, n_{y}\\right)\\,{d n_{y}} - \\frac{1}{2} \\, \\int_{a_{x}}^{b_{x}} F\\left(n_{x}, a_{y}\\right)\\,{d n_{x}}$"
      ],
      "text/plain": [
       "<IPython.core.display.Math object>"
      ]
     },
     "metadata": {},
     "output_type": "display_data"
    }
   ],
   "source": [
    "disp((halfy_halfx_F) \n",
    "     - (inty_halfx_F + halfy_halfx_F + sumy_F/2 + Rpy_F/2)\n",
    "     - (halfy_intx_F + halfy_halfx_F + sumx_F/2 + Rpx_F/2))"
   ]
  },
  {
   "cell_type": "markdown",
   "metadata": {},
   "source": [
    "So we can find\n",
    "\n",
    "\\begin{equation}\n",
    "\\sum\\limits_{n_x=\\left(0\\right)\\,1}^{\\infty}\n",
    "\\sum\\limits_{n_y=\\left(0\\right)\\,1}^{\\infty}\n",
    "F\\left(n_x, n_y\\right)\n",
    "-\n",
    "\\int\\limits_{0}^{\\infty}\n",
    "\\int\\limits_{0}^{\\infty}\n",
    "F\\left(n_x, n_y\\right)\\,d{n_x}\\,d{n_y}\n",
    "\\end{equation}\n",
    "\n",
    "using the following formula:"
   ]
  },
  {
   "cell_type": "code",
   "execution_count": 167,
   "metadata": {},
   "outputs": [],
   "source": [
    "result_F = \\\n",
    "                             + inty_sumx_F  + inty_Rpx_F  + \\\n",
    "                             + halfy_sumx_F + halfy_Rpx_F + \\\n",
    "sumy_intx_F  + sumy_halfx_F  + sumy_sumx_F  + sumy_Rpx_F + \\\n",
    "Rpy_intx_F   + Rpy_halfx_F   + Rpy_sumx_F   + Rpy_Rpx_F \\\n",
    "- (sumy_F/2 + Rpy_F/2) \\\n",
    "- (sumx_F/2 + Rpx_F/2)"
   ]
  },
  {
   "cell_type": "code",
   "execution_count": 168,
   "metadata": {},
   "outputs": [
    {
     "data": {
      "text/latex": [
       "$\\displaystyle \\int_{a_{y}}^{b_{y}} 0\\,{d n_{y}} + \\int_{a_{y}}^{b_{y}} \\frac{1}{2} \\, {\\left(2 \\, n_{y} - 2 \\, \\left \\lfloor n_{y} \\right \\rfloor - 1\\right)} \\int_{a_{x}}^{b_{x}} \\frac{1}{2} \\, {\\left(2 \\, n_{x} - 2 \\, \\left \\lfloor n_{x} \\right \\rfloor - 1\\right)} \\frac{\\partial^{2}}{\\partial n_{x}\\partial n_{y}}F\\left(n_{x}, n_{y}\\right)\\,{d n_{x}}\\,{d n_{y}} + \\int_{a_{y}}^{b_{y}} \\frac{1}{4} \\, {\\left(2 \\, n_{y} - 2 \\, \\left \\lfloor n_{y} \\right \\rfloor - 1\\right)} \\frac{\\partial}{\\partial n_{y}}F\\left(a_{x}, n_{y}\\right)\\,{d n_{y}} - \\frac{1}{4} \\, \\int_{a_{x}}^{b_{x}} -2 \\, n_{x} \\frac{\\partial}{\\partial n_{x}}F\\left(n_{x}, a_{y}\\right)\\,{d n_{x}} - \\frac{1}{4} \\, \\int_{a_{x}}^{b_{x}} 2 \\, \\left \\lfloor n_{x} \\right \\rfloor \\frac{\\partial}{\\partial n_{x}}F\\left(n_{x}, a_{y}\\right)\\,{d n_{x}} - \\frac{1}{2} \\, \\int_{a_{x}}^{b_{x}} \\frac{1}{2} \\, {\\left(2 \\, n_{x} - 2 \\, \\left \\lfloor n_{x} \\right \\rfloor - 1\\right)} \\frac{\\partial}{\\partial n_{x}}F\\left(n_{x}, n_{y}\\right)\\,{d n_{x}} - \\frac{1}{2} \\, \\int_{a_{y}}^{b_{y}} \\frac{1}{2} \\, {\\left(2 \\, n_{y} - 2 \\, \\left \\lfloor n_{y} \\right \\rfloor - 1\\right)} \\frac{\\partial}{\\partial n_{y}}F\\left(n_{x}, n_{y}\\right)\\,{d n_{y}} + 2 \\, \\int_{a_{y}}^{b_{y}} \\int_{a_{x}}^{b_{x}} \\frac{1}{2} \\, {\\left(2 \\, n_{x} - 2 \\, \\left \\lfloor n_{x} \\right \\rfloor - 1\\right)} \\frac{\\partial}{\\partial n_{x}}F\\left(n_{x}, n_{y}\\right)\\,{d n_{x}}\\,{d n_{y}} - \\frac{1}{4} \\, \\int_{a_{x}}^{b_{x}} \\frac{\\partial}{\\partial n_{x}}F\\left(n_{x}, a_{y}\\right)\\,{d n_{x}}$"
      ],
      "text/plain": [
       "<IPython.core.display.Math object>"
      ]
     },
     "metadata": {},
     "output_type": "display_data"
    }
   ],
   "source": [
    "disp(result_F)"
   ]
  },
  {
   "cell_type": "markdown",
   "metadata": {},
   "source": [
    "Without remainer part:"
   ]
  },
  {
   "cell_type": "code",
   "execution_count": null,
   "metadata": {},
   "outputs": [],
   "source": [
    "result_F_without_Rp = \\\n",
    "                             + inty_sumx_F  + \\\n",
    "                             + halfy_sumx_F + \\\n",
    "sumy_intx_F  + sumy_halfx_F  + sumy_sumx_F  + \\\n",
    "- (sumy_F/2) \\\n",
    "- (sumx_F/2)"
   ]
  },
  {
   "cell_type": "code",
   "execution_count": 170,
   "metadata": {},
   "outputs": [
    {
     "data": {
      "text/latex": [
       "$\\displaystyle 0$"
      ],
      "text/plain": [
       "<IPython.core.display.Math object>"
      ]
     },
     "metadata": {},
     "output_type": "display_data"
    }
   ],
   "source": [
    "disp(result_F_without_Rp)"
   ]
  },
  {
   "cell_type": "markdown",
   "metadata": {},
   "source": [
    "So we see that all terms without remainer part are 0. And so any potencial non zero result should be related with remainer part:"
   ]
  },
  {
   "cell_type": "code",
   "execution_count": 172,
   "metadata": {},
   "outputs": [],
   "source": [
    "result_energy_density_difference_F = \\\n",
    "                                            + inty_Rpx_F  + \\\n",
    "                                            + halfy_Rpx_F + \\\n",
    "                                            + sumy_Rpx_F + \\\n",
    "Rpy_intx_F   + Rpy_halfx_F   + Rpy_sumx_F   + Rpy_Rpx_F \\\n",
    "- (Rpy_F/2) \\\n",
    "- (Rpx_F/2)"
   ]
  },
  {
   "cell_type": "markdown",
   "metadata": {},
   "source": [
    "Or using simmetric properties we can:"
   ]
  },
  {
   "cell_type": "code",
   "execution_count": 173,
   "metadata": {},
   "outputs": [],
   "source": [
    "result_energy_density_difference_F = 2 * Rpy_intx_F + 2 * Rpy_halfx_F + 2 * Rpy_sumx_F + Rpy_Rpx_F - Rpy_F"
   ]
  },
  {
   "cell_type": "code",
   "execution_count": 174,
   "metadata": {},
   "outputs": [
    {
     "data": {
      "text/latex": [
       "$\\displaystyle 2 \\, \\int_{a_{y}}^{b_{y}} \\int_{a_{x}}^{b_{x}} \\frac{1}{2} \\, {\\left(2 \\, n_{x} - 2 \\, \\left \\lfloor n_{x} \\right \\rfloor - 1\\right)} \\frac{\\partial}{\\partial n_{x}}F\\left(n_{x}, n_{y}\\right)\\,{d n_{x}}\\,{d n_{y}}$"
      ],
      "text/plain": [
       "<IPython.core.display.Math object>"
      ]
     },
     "metadata": {},
     "output_type": "display_data"
    },
    {
     "data": {
      "text/latex": [
       "$\\displaystyle 2 \\, \\int_{a_{y}}^{b_{y}} \\frac{1}{4} \\, {\\left(2 \\, n_{y} - 2 \\, \\left \\lfloor n_{y} \\right \\rfloor - 1\\right)} \\frac{\\partial}{\\partial n_{y}}F\\left(a_{x}, n_{y}\\right)\\,{d n_{y}}$"
      ],
      "text/plain": [
       "<IPython.core.display.Math object>"
      ]
     },
     "metadata": {},
     "output_type": "display_data"
    },
    {
     "data": {
      "text/latex": [
       "$\\displaystyle 2 \\, \\int_{a_{y}}^{b_{y}} 0\\,{d n_{y}}$"
      ],
      "text/plain": [
       "<IPython.core.display.Math object>"
      ]
     },
     "metadata": {},
     "output_type": "display_data"
    },
    {
     "data": {
      "text/latex": [
       "$\\displaystyle \\int_{a_{y}}^{b_{y}} \\frac{1}{2} \\, {\\left(2 \\, n_{y} - 2 \\, \\left \\lfloor n_{y} \\right \\rfloor - 1\\right)} \\int_{a_{x}}^{b_{x}} \\frac{1}{2} \\, {\\left(2 \\, n_{x} - 2 \\, \\left \\lfloor n_{x} \\right \\rfloor - 1\\right)} \\frac{\\partial^{2}}{\\partial n_{x}\\partial n_{y}}F\\left(n_{x}, n_{y}\\right)\\,{d n_{x}}\\,{d n_{y}}$"
      ],
      "text/plain": [
       "<IPython.core.display.Math object>"
      ]
     },
     "metadata": {},
     "output_type": "display_data"
    },
    {
     "data": {
      "text/latex": [
       "$\\displaystyle -\\int_{a_{y}}^{b_{y}} \\frac{1}{2} \\, {\\left(2 \\, n_{y} - 2 \\, \\left \\lfloor n_{y} \\right \\rfloor - 1\\right)} \\frac{\\partial}{\\partial n_{y}}F\\left(n_{x}, n_{y}\\right)\\,{d n_{y}}$"
      ],
      "text/plain": [
       "<IPython.core.display.Math object>"
      ]
     },
     "metadata": {},
     "output_type": "display_data"
    },
    {
     "data": {
      "text/plain": [
       "(None, None, None, None, None)"
      ]
     },
     "execution_count": 174,
     "metadata": {},
     "output_type": "execute_result"
    }
   ],
   "source": [
    "disp(2 * Rpy_intx_F ), disp(2 * Rpy_halfx_F), disp (2 * Rpy_sumx_F), disp(Rpy_Rpx_F), disp(- Rpy_F)"
   ]
  },
  {
   "cell_type": "markdown",
   "metadata": {},
   "source": [
    "Rpy_sumx_F should be 0, bacause derivative by n_x when n_x = 0 gives 0.\n",
    "\n",
    "2 * Rpy_halfx_F - Rpy_F gives 0 in summation.\n",
    "\n",
    "So "
   ]
  },
  {
   "cell_type": "code",
   "execution_count": 175,
   "metadata": {},
   "outputs": [],
   "source": [
    "result_energy_density_difference_F = 2 * Rpy_intx_F + Rpy_Rpx_F"
   ]
  },
  {
   "cell_type": "code",
   "execution_count": 176,
   "metadata": {},
   "outputs": [
    {
     "data": {
      "text/latex": [
       "$\\displaystyle \\int_{a_{y}}^{b_{y}} \\frac{1}{2} \\, {\\left(2 \\, n_{y} - 2 \\, \\left \\lfloor n_{y} \\right \\rfloor - 1\\right)} \\int_{a_{x}}^{b_{x}} \\frac{1}{2} \\, {\\left(2 \\, n_{x} - 2 \\, \\left \\lfloor n_{x} \\right \\rfloor - 1\\right)} \\frac{\\partial^{2}}{\\partial n_{x}\\partial n_{y}}F\\left(n_{x}, n_{y}\\right)\\,{d n_{x}}\\,{d n_{y}} + 2 \\, \\int_{a_{y}}^{b_{y}} \\int_{a_{x}}^{b_{x}} \\frac{1}{2} \\, {\\left(2 \\, n_{x} - 2 \\, \\left \\lfloor n_{x} \\right \\rfloor - 1\\right)} \\frac{\\partial}{\\partial n_{x}}F\\left(n_{x}, n_{y}\\right)\\,{d n_{x}}\\,{d n_{y}}$"
      ],
      "text/plain": [
       "<IPython.core.display.Math object>"
      ]
     },
     "metadata": {},
     "output_type": "display_data"
    }
   ],
   "source": [
    "disp(result_energy_density_difference_F)"
   ]
  },
  {
   "cell_type": "code",
   "execution_count": 177,
   "metadata": {},
   "outputs": [
    {
     "data": {
      "text/latex": [
       "$\\displaystyle 2 \\, \\int_{0}^{+\\infty} \\int_{0}^{+\\infty} \\frac{1}{2} \\, {\\left(\\frac{n_{x} f\\left(\\frac{\\pi \\sqrt{n_{x}^{2} + n_{y}^{2} + u^{2}}}{a k_{m}}\\right)}{\\sqrt{n_{x}^{2} + n_{y}^{2} + u^{2}}} + \\frac{\\pi n_{x} \\mathrm{D}_{0}\\left(f\\right)\\left(\\frac{\\pi \\sqrt{n_{x}^{2} + n_{y}^{2} + u^{2}}}{a k_{m}}\\right)}{a k_{m}}\\right)} {\\left(2 \\, n_{x} - 2 \\, \\left \\lfloor n_{x} \\right \\rfloor - 1\\right)}\\,{d n_{x}}\\,{d n_{y}}$"
      ],
      "text/plain": [
       "<IPython.core.display.Math object>"
      ]
     },
     "metadata": {},
     "output_type": "display_data"
    }
   ],
   "source": [
    "disp(2 * Rpy_intx_Fu)"
   ]
  },
  {
   "cell_type": "code",
   "execution_count": 178,
   "metadata": {},
   "outputs": [
    {
     "data": {
      "text/latex": [
       "$\\displaystyle \\int_{0}^{+\\infty} \\int_{0}^{+\\infty} -\\frac{1}{4} \\, {\\left(2 \\, n_{x} - 2 \\, \\left \\lfloor n_{x} \\right \\rfloor - 1\\right)} {\\left(2 \\, n_{y} - 2 \\, \\left \\lfloor n_{y} \\right \\rfloor - 1\\right)} {\\left(\\frac{n_{x} n_{y}}{{\\left(n_{x}^{2} + n_{y}^{2} + u^{2}\\right)}^{\\frac{3}{2}} {\\left(\\frac{\\pi^{4} {\\left(n_{x}^{2} + n_{y}^{2} + u^{2}\\right)}^{2}}{a^{4} k_{m}^{4}} + 1\\right)}} + \\frac{16 \\, \\pi^{4} \\sqrt{n_{x}^{2} + n_{y}^{2} + u^{2}} n_{x} n_{y}}{a^{4} k_{m}^{4} {\\left(\\frac{\\pi^{4} {\\left(n_{x}^{2} + n_{y}^{2} + u^{2}\\right)}^{2}}{a^{4} k_{m}^{4}} + 1\\right)}^{2}} - \\frac{32 \\, \\pi^{8} {\\left(n_{x}^{2} + n_{y}^{2} + u^{2}\\right)}^{\\frac{5}{2}} n_{x} n_{y}}{a^{8} k_{m}^{8} {\\left(\\frac{\\pi^{4} {\\left(n_{x}^{2} + n_{y}^{2} + u^{2}\\right)}^{2}}{a^{4} k_{m}^{4}} + 1\\right)}^{3}}\\right)}\\,{d n_{y}}\\,{d n_{x}} + 2 \\, \\int_{0}^{+\\infty} \\int_{0}^{+\\infty} \\frac{1}{2} \\, {\\left(2 \\, n_{x} - 2 \\, \\left \\lfloor n_{x} \\right \\rfloor - 1\\right)} {\\left(\\frac{n_{x}}{\\sqrt{n_{x}^{2} + n_{y}^{2} + u^{2}} {\\left(\\frac{\\pi^{4} {\\left(n_{x}^{2} + n_{y}^{2} + u^{2}\\right)}^{2}}{a^{4} k_{m}^{4}} + 1\\right)}} - \\frac{4 \\, \\pi^{4} {\\left(n_{x}^{2} + n_{y}^{2} + u^{2}\\right)}^{\\frac{3}{2}} n_{x}}{a^{4} k_{m}^{4} {\\left(\\frac{\\pi^{4} {\\left(n_{x}^{2} + n_{y}^{2} + u^{2}\\right)}^{2}}{a^{4} k_{m}^{4}} + 1\\right)}^{2}}\\right)}\\,{d n_{x}}\\,{d n_{y}}$"
      ],
      "text/plain": [
       "<IPython.core.display.Math object>"
      ]
     },
     "metadata": {},
     "output_type": "display_data"
    }
   ],
   "source": [
    "disp(2 * inty_Rpx_Fn + integrate(integrate(Rpy_Rpx_Fn_integrand(u, n_x, n_y, a, k_m), n_y, 0, Infinity, hold=True), n_x, 0, Infinity, hold=True))"
   ]
  },
  {
   "cell_type": "code",
   "execution_count": null,
   "metadata": {},
   "outputs": [],
   "source": []
  },
  {
   "cell_type": "markdown",
   "metadata": {},
   "source": [
    "# Result_energy_density_difference calculation via Euler–Maclaurin 2D"
   ]
  },
  {
   "cell_type": "code",
   "execution_count": 214,
   "metadata": {},
   "outputs": [],
   "source": [
    "str_energy_density_difference_akm1 = \"\"\"\n",
    "0 0.0006061883111035354 0.0006061883111035354\n",
    "1 0.0017975635908745761 0.0024037519019781115\n",
    "2 0.00035749773184259783 0.0027612496338207094\n",
    "3 0.00012788697859491643 0.0028891366124156256\n",
    "4 5.9705484001188586e-05 0.0029488420964168143\n",
    "5 3.257148744888141e-05 0.002981413583865696\n",
    "6 1.968745192542542e-05 0.0030011010357911213\n",
    "7 1.2797274646692704e-05 0.003013898310437814\n",
    "8 8.782630461354662e-06 0.0030226809408991687\n",
    "9 6.286568945150221e-06 0.003028967509844319\n",
    "10 4.653726092487851e-06 0.003033621235936807\n",
    "11 3.5410584083251118e-06 0.003037162294345132\n",
    "12 2.75679543325626e-06 0.003039919089778388\n",
    "13 2.1876911407025913e-06 0.003042106780919091\n",
    "14 1.7653796431461397e-06 0.003043872160562237\n",
    "15 1.4449179129158848e-06 0.003045317078475153\n",
    "16 1.1976496673269677e-06 0.00304651472814248\n",
    "17 1.0037556551007683e-06 0.003047518483797581\n",
    "18 8.495559555607291e-07 0.003048368039753142\n",
    "19 7.253977933560336e-07 0.003049093437546498\n",
    "20 6.243082554640035e-07 0.003049717745801962\n",
    "21 5.411649832104003e-07 0.0030502589107851722\n",
    "22 4.721552783665532e-07 0.003050731066063539\n",
    "23 4.144594797762564e-07 0.003051145525543315\n",
    "24 3.6583976909206116e-07 0.003051511365312407\n",
    "25 3.2450273727752887e-07 0.0030518358680496844\n",
    "26 2.8919355367709493e-07 0.0030521250616033615\n",
    "27 2.588291409228736e-07 0.0030523838907442844\n",
    "28 2.325689954440146e-07 0.0030526164597397282\n",
    "29 2.0973868119740283e-07 0.0030528261984209258\n",
    "30 1.8979289639058487e-07 0.0030530159913173165\n",
    "31 1.7228985609844344e-07 0.003053188281173415\n",
    "32 1.5686119813373244e-07 0.003053345142371549\n",
    "33 1.4338501326615822e-07 0.003053488527384815\n",
    "34 1.3108364660302253e-07 0.003053619611031418\n",
    "35 1.2041292696876326e-07 0.003053740023958387\n",
    "36 1.1061631735931385e-07 0.0030538506402757464\n",
    "37 1.0213900501314245e-07 0.0030539527792807597\n",
    "38 9.422207002695633e-08 0.0030540470013507865\n",
    "39 8.717997188395283e-08 0.0030541341813226704\n",
    "40 8.190528201498716e-08 0.0030542160866046855\n",
    "41 7.507802147236051e-08 0.003054291164626158\n",
    "42 6.992982141603731e-08 0.003054361094447574\n",
    "43 6.505042645995223e-08 0.003054426144874034\n",
    "44 6.071581946749412e-08 0.0030544868606935016\n",
    "45 5.675623650037818e-08 0.003054543616930002\n",
    "46 5.3170333530302065e-08 0.0030545967872635323\n",
    "47 4.9810964223396824e-08 0.003054646598227756\n",
    "48 4.6760847526554185e-08 0.0030546933590752823\n",
    "49 4.3955678298020916e-08 0.0030547373147535805\n",
    "50 4.13718307494964e-08 0.00305477868658433\n",
    "\"\"\""
   ]
  },
  {
   "cell_type": "code",
   "execution_count": 206,
   "metadata": {},
   "outputs": [
    {
     "data": {
      "text/latex": [
       "$\\displaystyle \\begin{array} \\,\\Delta\\,\\delta\\,\\frac{E}{V} & \\delta\\,\\frac{E}{V}\\\\ 0.0006061883111035354 & 0.0006061883111035354\\\\ 0.0017975635908745761 & 0.0024037519019781115\\\\ 0.00035749773184259783 & 0.0027612496338207094\\\\ 0.00012788697859491643 & 0.0028891366124156256\\\\ 5.9705484001188586e-05 & 0.0029488420964168143\\\\ 3.257148744888141e-05 & 0.002981413583865696\\\\ 1.968745192542542e-05 & 0.0030011010357911213\\\\ 1.2797274646692704e-05 & 0.003013898310437814\\\\ 8.782630461354662e-06 & 0.0030226809408991687\\\\ 6.286568945150221e-06 & 0.003028967509844319\\\\ 4.653726092487851e-06 & 0.003033621235936807\\\\ 3.5410584083251118e-06 & 0.003037162294345132\\\\ 2.75679543325626e-06 & 0.003039919089778388\\\\ 2.1876911407025913e-06 & 0.003042106780919091\\\\ 1.7653796431461397e-06 & 0.003043872160562237\\\\ 1.4449179129158848e-06 & 0.003045317078475153\\\\ 1.1976496673269677e-06 & 0.00304651472814248\\\\ 1.0037556551007683e-06 & 0.003047518483797581\\\\ 8.495559555607291e-07 & 0.003048368039753142\\\\ 7.253977933560336e-07 & 0.003049093437546498\\\\ 6.243082554640035e-07 & 0.003049717745801962\\\\ 5.411649832104003e-07 & 0.0030502589107851722\\\\ 4.721552783665532e-07 & 0.003050731066063539\\\\ 4.144594797762564e-07 & 0.003051145525543315\\\\ 3.6583976909206116e-07 & 0.003051511365312407\\\\ 3.2450273727752887e-07 & 0.0030518358680496844\\\\ 2.8919355367709493e-07 & 0.0030521250616033615\\\\ 2.588291409228736e-07 & 0.0030523838907442844\\\\ 2.325689954440146e-07 & 0.0030526164597397282\\\\ 2.0973868119740283e-07 & 0.0030528261984209258\\\\ 1.8979289639058487e-07 & 0.0030530159913173165\\\\ 1.7228985609844344e-07 & 0.003053188281173415\\\\ 1.5686119813373244e-07 & 0.003053345142371549\\\\ 1.4338501326615822e-07 & 0.003053488527384815\\\\ 1.3108364660302253e-07 & 0.003053619611031418\\\\ 1.2041292696876326e-07 & 0.003053740023958387\\\\ 1.1061631735931385e-07 & 0.0030538506402757464\\\\ 1.0213900501314245e-07 & 0.0030539527792807597\\\\ 9.422207002695633e-08 & 0.0030540470013507865\\\\ 8.717997188395283e-08 & 0.0030541341813226704\\\\ 8.190528201498716e-08 & 0.0030542160866046855\\\\ 7.507802147236051e-08 & 0.003054291164626158\\\\ 6.992982141603731e-08 & 0.003054361094447574\\\\ 6.505042645995223e-08 & 0.003054426144874034\\\\ 6.071581946749412e-08 & 0.0030544868606935016\\\\ 5.675623650037818e-08 & 0.003054543616930002\\\\ 5.3170333530302065e-08 & 0.0030545967872635323\\\\ 4.9810964223396824e-08 & 0.003054646598227756\\\\ 4.6760847526554185e-08 & 0.0030546933590752823\\\\ 4.3955678298020916e-08 & 0.0030547373147535805\\\\ 4.13718307494964e-08 & 0.00305477868658433\\\\\\end{array}$"
      ],
      "text/plain": [
       "<IPython.core.display.Math object>"
      ]
     },
     "metadata": {},
     "output_type": "display_data"
    }
   ],
   "source": [
    "display(Math(latex_arr_str(str_energy_density_difference_akm1, \\\n",
    "                           \"\\\\,\\\\Delta\\\\,\\\\delta\\\\,\\\\frac{E}{V}\", \\\n",
    "                           \"\\\\delta\\\\,\\\\frac{E}{V}\")))"
   ]
  },
  {
   "cell_type": "code",
   "execution_count": 272,
   "metadata": {},
   "outputs": [
    {
     "data": {
      "image/png": "[encoded data removed]",
      "text/plain": [
       "Graphics object consisting of 1 graphics primitive"
      ]
     },
     "metadata": {},
     "output_type": "display_data"
    },
    {
     "data": {
      "image/png": "[encoded data removed]",
      "text/plain": [
       "Graphics object consisting of 1 graphics primitive"
      ]
     },
     "metadata": {},
     "output_type": "display_data"
    }
   ],
   "source": [
    "list_plot_str(str_energy_density_difference_akm1+str_energy_density_difference_akm1_, \"add energy_density_difference $a k_m = 1$\", \"energy_density_difference $a k_m = 1$\")"
   ]
  },
  {
   "cell_type": "markdown",
   "metadata": {},
   "source": [
    "Now we should understood can received coefficient be reduced to zero when N will be Infinity? So we try to recalc this coefficient with ..."
   ]
  },
  {
   "cell_type": "markdown",
   "metadata": {},
   "source": [
    "# Just numerical summation of"
   ]
  },
  {
   "cell_type": "markdown",
   "metadata": {},
   "source": [
    "\\begin{equation}\n",
    "\\sum\\limits_{n_x=\\left(0\\right)\\,1}^{\\infty}\n",
    "\\sum\\limits_{n_y=\\left(0\\right)\\,1}^{\\infty}\n",
    "G\\left(n_x, n_y\\right)\n",
    "-\n",
    "\\int\\limits_{0}^{\\infty}\n",
    "\\int\\limits_{0}^{\\infty}\n",
    "G\\left(n_x, n_y\\right)\\,d{n_x}\\,d{n_y}\n",
    "\\end{equation}\n",
    "\n",
    "assuming that $a \\cdot k_m = 1$ "
   ]
  },
  {
   "cell_type": "code",
   "execution_count": 210,
   "metadata": {},
   "outputs": [],
   "source": [
    "str1 = \"\"\"\n",
    "0 dsum= 0.0198943678864859 dsum/dN +infinity sum= 0.0198943678864859 sum-iii= -0.134341519977472\n",
    "1 dsum= 0.0352305566330501 dsum/dN 0.0352305566330501 sum= 0.0352305566330501 sum-iii= -0.119005331230908\n",
    "5 dsum= 0.0205338804136644 dsum/dN 0.00513347010341610 sum= 0.0557644370467145 sum-iii= -0.0984714508172436\n",
    "10 dsum= 0.0104011881525500 dsum/dN 0.00208023763050999 sum= 0.0661656251992645 sum-iii= -0.0880702626646937\n",
    "20 dsum= 0.0107815429480582 dsum/dN 0.00107815429480582 sum= 0.0769471681473227 sum-iii= -0.0772887197166355\n",
    "30 dsum= 0.00640533503238599 dsum/dN 0.000640533503238599 sum= 0.0833525031797086 sum-iii= -0.0708833846842495\n",
    "40 dsum= 0.00457232481780638 dsum/dN 0.000457232481780638 sum= 0.0879248279975150 sum-iii= -0.0663110598664431\n",
    "50 dsum= 0.00355823432941396 dsum/dN 0.000355823432941396 sum= 0.0914830623269290 sum-iii= -0.0627528255370292\n",
    "60 dsum= 0.00291324567109136 dsum/dN 0.000291324567109136 sum= 0.0943963079980203 sum-iii= -0.0598395798659378\n",
    "70 dsum= 0.00246607902755200 dsum/dN 0.000246607902755200 sum= 0.0968623870255723 sum-iii= -0.0573735008383858\n",
    "80 dsum= 0.00213755399769267 dsum/dN 0.000213755399769267 sum= 0.0989999410232650 sum-iii= -0.0552359468406931\n",
    "90 dsum= 0.00188588682799802 dsum/dN 0.000188588682799802 sum= 0.100885827851263 sum-iii= -0.0533500600126951\n",
    "100 dsum= 0.00168218102905312 dsum/dN 0.000168218102905312 sum= 0.102568008880316 sum-iii= -0.0516678789836420\n",
    "110 dsum= 0.00151579857856997 dsum/dN 0.000151579857856997 sum= 0.104083807458886 sum-iii= -0.0501520804050720\n",
    "120 dsum= 0.00137420314877361 dsum/dN 0.000137420314877361 sum= 0.105458010607660 sum-iii= -0.0487778772562984\n",
    "130 dsum= 0.00124870468734300 dsum/dN 0.000124870468734300 sum= 0.106706715295003 sum-iii= -0.0475291725689554\n",
    "140 dsum= 0.00115420307976286 dsum/dN 0.000115420307976286 sum= 0.107860918374766 sum-iii= -0.0463749694891926\n",
    "150 dsum= 0.00107592899833926 dsum/dN 0.000107592899833926 sum= 0.108936847373105 sum-iii= -0.0452990404908533\n",
    "200 dsum= 0.00456227662966188 dsum/dN 0.0000912455325932376 sum= 0.113499124002767 sum-iii= -0.0407367638611914\n",
    "300 dsum= 0.00696745140300445 dsum/dN 0.0000696745140300445 sum= 0.120466575405771 sum-iii= -0.0337693124581870\n",
    "400 dsum= 0.00548862501748618 dsum/dN 0.0000548862501748618 sum= 0.125955200423257 sum-iii= -0.0282806874407008\n",
    "500 dsum= 0.00447437280661616 dsum/dN 0.0000447437280661616 sum= 0.130429573229874 sum-iii= -0.0238063146340846\n",
    "600 dsum= 0.00366495364599495 dsum/dN 0.0000366495364599495 sum= 0.134094526875869 sum-iii= -0.0201413609880897\n",
    "700 dsum= 0.00301484382418922 dsum/dN 0.0000301484382418922 sum= 0.137109370700058 sum-iii= -0.0171265171639005\n",
    "800 dsum= 0.00249769518000750 dsum/dN 0.0000249769518000750 sum= 0.139607065880065 sum-iii= -0.0146288219838930\n",
    "900 dsum= 0.00208781147706876 dsum/dN 0.0000208781147706876 sum= 0.141694877357134 sum-iii= -0.0125410105068242\n",
    "1000 dsum= 0.00176209435879926 dsum/dN 0.0000176209435879926 sum= 0.143456971715933 sum-iii= -0.0107789161480249\n",
    "1100 dsum= 0.00150157172140458 dsum/dN 0.0000150157172140458 sum= 0.144958543437338 sum-iii= -0.00927734442662034\n",
    "1200 dsum= 0.00129141221826351 dsum/dN 0.0000129141221826351 sum= 0.146249955655601 sum-iii= -0.00798593220835683\n",
    "1300 dsum= 0.00112028756255747 dsum/dN 0.0000112028756255747 sum= 0.147370243218159 sum-iii= -0.00686564464579936\n",
    "1400 dsum= 0.000979617855017924 dsum/dN 9.79617855017924e-6 sum= 0.148349861073177 sum-iii= -0.00588602679078143\n",
    "1500 dsum= 0.000862906224947237 dsum/dN 8.62906224947237e-6 sum= 0.149212767298124 sum-iii= -0.00502312056583420\n",
    "1600 dsum= 0.000765211747012566 dsum/dN 7.65211747012565e-6 sum= 0.149977979045137 sum-iii= -0.00425790881882163\n",
    "1700 dsum= 0.000682751149806610 dsum/dN 6.82751149806610e-6 sum= 0.150660730194943 sum-iii= -0.00357515766901501\n",
    "1800 dsum= 0.000612604112616117 dsum/dN 6.12604112616117e-6 sum= 0.151273334307559 sum-iii= -0.00296255355639888\n",
    "1900 dsum= 0.000552496910736090 dsum/dN 5.52496910736090e-6 sum= 0.151825831218295 sum-iii= -0.00241005664566310\n",
    "2000 dsum= 0.000500643683209297 dsum/dN 5.00643683209297e-6 sum= 0.152326474901504 sum-iii= -0.00190941296245381\n",
    "2100 dsum= 0.000455629578886566 dsum/dN 4.55629578886566e-6 sum= 0.152782104480391 sum-iii= -0.00145378338356725\n",
    "2200 dsum= 0.000416324238790998 dsum/dN 4.16324238790998e-6 sum= 0.153198428719182 sum-iii= -0.00103745914477624\n",
    "2300 dsum= 0.000381817288792229 dsum/dN 3.81817288792229e-6 sum= 0.153580246007974 sum-iii= -0.000655641855984018\n",
    "2400 dsum= 0.000351369872403857 dsum/dN 3.51369872403857e-6 sum= 0.153931615880378 sum-iii= -0.000304271983580157\n",
    "2500 dsum= 0.000324377943951202 dsum/dN 3.24377943951202e-6 sum= 0.154255993824329 sum-iii= 0.0000201059603710529\n",
    "2600 dsum= 0.000300344244716323 dsum/dN 3.00344244716323e-6 sum= 0.154556338069046 sum-iii= 0.000320450205087364\n",
    "2700 dsum= 0.000278856737998353 dsum/dN 2.78856737998353e-6 sum= 0.154835194807044 sum-iii= 0.000599306943086186\n",
    "2800 dsum= 0.000259571885673236 dsum/dN 2.59571885673236e-6 sum= 0.155094766692718 sum-iii= 0.000858878828759430\n",
    "2900 dsum= 0.000242201581855405 dsum/dN 2.42201581855405e-6 sum= 0.155336968274573 sum-iii= 0.00110108041061482\n",
    "3000 dsum= 0.000226502870041521 dsum/dN 2.26502870041521e-6 sum= 0.155563471144615 sum-iii= 0.00132758328065635\n",
    "3100 dsum= 0.000212269794574291 dsum/dN 2.12269794574291e-6 sum= 0.155775740939189 sum-iii= 0.00153985307523063\n",
    "3200 dsum= 0.000199326900483113 dsum/dN 1.99326900483113e-6 sum= 0.155975067839672 sum-iii= 0.00173917997571374\n",
    "3300 dsum= 0.000187524015283643 dsum/dN 1.87524015283643e-6 sum= 0.156162591854956 sum-iii= 0.00192670399099745\n",
    "3400 dsum= 0.000176732034471598 dsum/dN 1.76732034471598e-6 sum= 0.156339323889427 sum-iii= 0.00210343602546906\n",
    "3500 dsum= 0.000166839497923727 dsum/dN 1.66839497923727e-6 sum= 0.156506163387351 sum-iii= 0.00227027552339279\n",
    "3600 dsum= 0.000157749793394469 dsum/dN 1.57749793394468e-6 sum= 0.156663913180745 sum-iii= 0.00242802531678726\n",
    "3700 dsum= 0.000149378860180625 dsum/dN 1.49378860180625e-6 sum= 0.156813292040926 sum-iii= 0.00257740417696789\n",
    "3800 dsum= 0.000141653293989460 dsum/dN 1.41653293989460e-6 sum= 0.156954945334915 sum-iii= 0.00271905747095730\n",
    "3900 dsum= 0.000134508775382901 dsum/dN 1.34508775382901e-6 sum= 0.157089454110298 sum-iii= 0.00285356624634020\n",
    "4000 dsum= 0.000127888760554336 dsum/dN 1.27888760554336e-6 sum= 0.157217342870853 sum-iii= 0.00298145500689453\n",
    "4100 dsum= 0.000121743385850995 dsum/dN 1.21743385850995e-6 sum= 0.157339086256704 sum-iii= 0.00310319839274553\n",
    "4150 dsum= 0.0000587033017550138 dsum/dN 1.17406603510028e-6 sum= 0.157397789558459 sum-iii= 0.00316190169450084\n",
    "4200 dsum= 0.0000573252455343998 dsum/dN 1.14650491068800e-6 sum= 0.157455114803993 sum-iii= 0.00321922694003524\n",
    "4250 dsum= 0.0000559949323027917 dsum/dN 1.11989864605583e-6 sum= 0.157511109736296 sum-iii= 0.00327522187233803\n",
    "4300 dsum= 0.0000547101916934751 dsum/dN 1.09420383386950e-6 sum= 0.157565819927990 sum-iii= 0.00332993206403151\n",
    "4350 dsum= 0.0000534689747315329 dsum/dN 1.06937949463066e-6 sum= 0.157619288902721 sum-iii= 0.00338340103876306\n",
    "\"\"\""
   ]
  },
  {
   "cell_type": "code",
   "execution_count": 235,
   "metadata": {
    "scrolled": true
   },
   "outputs": [
    {
     "data": {
      "image/png": "[encoded data removed]",
      "text/plain": [
       "Graphics object consisting of 1 graphics primitive"
      ]
     },
     "metadata": {},
     "output_type": "display_data"
    }
   ],
   "source": [
    "list_plot(data_sum_sum_intu_Fn_inty_intx_intu_Fn).show(title=\"sum_sum_intu_Fn-inty_intx_intu_Fn\")"
   ]
  },
  {
   "cell_type": "markdown",
   "metadata": {},
   "source": [
    "Here while make summation of non negative terms we receive very similar positive result. So result energy_density_difference calculation via Euler–Maclaurin 2D is not zero!"
   ]
  },
  {
   "cell_type": "markdown",
   "metadata": {},
   "source": [
    "# Let's investigate how result energy_density_difference depends on $a k_m$"
   ]
  },
  {
   "cell_type": "markdown",
   "metadata": {},
   "source": [
    "Casimir in his original work has provided his formula in assumption when as $a\\,k_m\\,»\\,1$. "
   ]
  },
  {
   "cell_type": "markdown",
   "metadata": {},
   "source": [
    "as long as $a\\,k_m\\,»\\,1$:"
   ]
  },
  {
   "cell_type": "code",
   "execution_count": 242,
   "metadata": {},
   "outputs": [],
   "source": [
    "str_energy_density_difference_depending_on_akm = \"\"\"\n",
    "0.25 0.0010898998026781217 4.996697073620143e-07\n",
    "0.5 0.0032237749029524953 7.998369526561223e-07\n",
    "0.75 0.004403922584267899 8.721734991096397e-07\n",
    "1.0 0.003048368039753142 8.495559555607291e-07\n",
    "1.25 -0.0014811539004775248 1.7711588730298828e-06\n",
    "1.5 -0.008708226320289525 3.6727148564415e-06\n",
    "1.75 -0.01722786703218093 6.80405403998826e-06\n",
    "2.0 -0.025174603512904688 9.989436530283013e-06\n",
    "2.25 -0.030834142522710325 9.370330676246764e-06\n",
    "2.5 -0.03328670643720081 1.4281938944775391e-05\n",
    "2.75 -0.03243630208049284 2.091015549165456e-05\n",
    "3.0 -0.028986396523536337 2.961508478431949e-05\n",
    "3.25 -0.024047951283080123 4.0789713256873105e-05\n",
    "3.5 -0.018714969156221863 4.8655469165263e-05\n",
    "3.75 -0.013989569010672758 6.411919749415085e-05\n",
    "4.0 -0.010423767489065656 8.30044022793454e-05\n",
    "4.25 -0.008178055421486956 9.426047181031493e-05\n",
    "4.5 -0.007193884048542008 9.52314944927027e-05\n",
    "4.75 -0.007332665464974667 9.643849822254043e-05\n",
    "5 -0.008473209162937152 0.00011844032478033679\n",
    "5.25 -0.01010637485582903 0.00014397879515633646\n",
    "5.5 -0.01192446632714947 0.00017341677938113108\n",
    "5.75 -0.013697176515721627 0.0002071614647900619\n",
    "6 -0.01528559035759333 0.0002456065660432048\n",
    "6.25 -0.016636604048237844 0.0002891753264144723\n",
    "6.5 -0.01776511838855004 0.0003382916236615607\n",
    "6.75 -0.018729740588144923 0.00039341124855553925\n",
    "7.0 -0.019609329497582085 0.0004550083692779921\n",
    "7.25 -0.02048454809560672 0.0005235670625174755\n",
    "7.5 -0.021425344750511447 0.0005995933336979223\n",
    "\"\"\""
   ]
  },
  {
   "cell_type": "code",
   "execution_count": 233,
   "metadata": {},
   "outputs": [
    {
     "data": {
      "image/png": "[encoded data removed]",
      "text/plain": [
       "Graphics object consisting of 1 graphics primitive"
      ]
     },
     "metadata": {},
     "output_type": "display_data"
    }
   ],
   "source": [
    "list_plot_str(str_energy_density_difference_depending_on_akm, \"energy_density_difference depending on $a k_m$\", \"last add energy_density_difference depending on $a k_m$\")"
   ]
  },
  {
   "cell_type": "code",
   "execution_count": null,
   "metadata": {},
   "outputs": [],
   "source": []
  },
  {
   "cell_type": "markdown",
   "metadata": {},
   "source": [
    "Thus for the energy_density_difference per $cm^2$ we find"
   ]
  },
  {
   "cell_type": "markdown",
   "metadata": {},
   "source": [
    "\\begin{equation}\n",
    "\\delta\\,\\frac{E}{V} = \\frac{\\hbar\\,c\\,\\pi}{a^4}\n",
    "\\int\\limits_{0}^{\\infty}{\n",
    "\\left\\{\n",
    "\\sum\\limits_{n_x=\\left(0\\right)\\,1}^{\\infty}\n",
    "\\sum\\limits_{n_y=\\left(0\\right)\\,1}^{\\infty}\n",
    "F\\left(n_x, n_y\\right)\n",
    "-\n",
    "\\int\\limits_{0}^{\\infty}\n",
    "\\int\\limits_{0}^{\\infty}\n",
    "F\\left(n_x, n_y\\right)\\,d{n_x}\\,d{n_y}\n",
    "\\right\\}\n",
    "}\\,d{u}\n",
    "\\end{equation}"
   ]
  },
  {
   "cell_type": "markdown",
   "metadata": {},
   "source": [
    "According to our calculation we can see that "
   ]
  },
  {
   "cell_type": "markdown",
   "metadata": {},
   "source": [
    "\\begin{equation}\n",
    "\\int\\limits_{0}^{\\infty}{\n",
    "\\left\\{\n",
    "\\sum\\limits_{n_x=\\left(0\\right)\\,1}^{\\infty}\n",
    "\\sum\\limits_{n_y=\\left(0\\right)\\,1}^{\\infty}\n",
    "F\\left(n_x, n_y\\right)\n",
    "-\n",
    "\\int\\limits_{0}^{\\infty}\n",
    "\\int\\limits_{0}^{\\infty}\n",
    "F\\left(n_x, n_y\\right)\\,d{n_x}\\,d{n_y}\n",
    "\\right\\}\n",
    "}\\,d{u} \\approx R\\left(a k_m\\right)\n",
    "\\end{equation}"
   ]
  },
  {
   "cell_type": "markdown",
   "metadata": {},
   "source": [
    "Where $R\\left(a k_m\\right)$ is some material specific value. So"
   ]
  },
  {
   "cell_type": "markdown",
   "metadata": {},
   "source": [
    "$\\delta\\,\\frac{E}{V} \\approx R\\left(a k_m\\right)\\,\\frac{\\hbar\\,c\\,\\pi}{a^4}$"
   ]
  },
  {
   "cell_type": "markdown",
   "metadata": {},
   "source": [
    "For the energy_density_difference per $cm^2$ we find"
   ]
  },
  {
   "cell_type": "markdown",
   "metadata": {},
   "source": [
    "$\\delta\\,\\frac{E}{V} = \\hbar\\,c\\, \\pi\\frac{R}{a^4}\\,=\\,0.02\\,\\frac{1}{a_{\\mu}^4}\\,dyne/cm^2$"
   ]
  },
  {
   "cell_type": "markdown",
   "metadata": {},
   "source": [
    "where $a_{\\mu}$ is the distance measured in microns. "
   ]
  },
  {
   "cell_type": "markdown",
   "metadata": {},
   "source": [
    "Can this difference of specific energy density $\\delta\\,\\frac{E}{V}$ be interpreted as the cause of the force $F$ applied to perfectly conducting honeycomb on a plate? For example my investigations of the original Casimir's configuration shown that in geometric configuration of two perfectly conducting plates $F = -3 \\cdot \\delta\\,\\frac{E}{V}$. But what about honeycomb configutation?"
   ]
  },
  {
   "cell_type": "markdown",
   "metadata": {},
   "source": [
    "Let's consider rectangular resonator. In magnetic mode $\\nabla\\,\\vec{H} + \\frac{\\omega^2}{c^2}\\,\\vec{H} = 0$ we have the following solution\n",
    "\n",
    "$$H_{x} = B_{1} \\cos\\left(\\frac{\\pi n_{y} y}{b}\\right) \\cos\\left(k_{z} z\\right) \\sin\\left(\\frac{\\pi n_{x} x}{a}\\right)$$\n",
    "$$H_{y} = B_{2} \\cos\\left(\\frac{\\pi n_{x} x}{a}\\right) \\cos\\left(k_{z} z\\right) \\sin\\left(\\frac{\\pi n_{y} y}{b}\\right)$$\n",
    "$$H_{z} = B_{3} \\cos\\left(\\frac{\\pi n_{x} x}{a}\\right) \\cos\\left(\\frac{\\pi n_{y} y}{b}\\right) \\sin\\left(k_{z} z\\right)$$\n",
    "\n",
    "and \n",
    "\n",
    "$$E_{x} = \\frac{i \\, {\\left(B_{2} k_{z} - \\frac{\\pi B_{3} n_{y}}{b}\\right)} c \\cos\\left(\\frac{\\pi n_{x} x}{a}\\right) \\sin\\left(\\frac{\\pi n_{y} y}{b}\\right) \\sin\\left(k_{z} z\\right)}{\\mu \\omega}$$\n",
    "$$E_{y} = -\\frac{i \\, {\\left(B_{1} k_{z} - \\frac{\\pi B_{3} n_{x}}{a}\\right)} c \\cos\\left(\\frac{\\pi n_{y} y}{b}\\right) \\sin\\left(\\frac{\\pi n_{x} x}{a}\\right) \\sin\\left(k_{z} z\\right)}{\\mu \\omega}$$\n",
    "$$E_{z} = -\\frac{i \\, {\\left(\\frac{\\pi B_{2} n_{x}}{a} - \\frac{\\pi B_{1} n_{y}}{b}\\right)} c \\cos\\left(k_{z} z\\right) \\sin\\left(\\frac{\\pi n_{x} x}{a}\\right) \\sin\\left(\\frac{\\pi n_{y} y}{b}\\right)}{\\mu \\omega}$$\n",
    "\n",
    "with\n",
    "\n",
    "$$k_{z}^{2} + \\frac{\\pi^{2} n_{x}^{2}}{a^{2}} + \\frac{\\pi^{2} n_{y}^{2}}{a^{2}} - \\frac{\\omega^{2}}{c^{2}} = 0$$\n",
    "\n",
    "using $div\\,\\vec{H} = 0$ we have\n",
    "\n",
    "$$B_{3} k_{z} + \\frac{\\pi B_{1} n_{x}}{a} + \\frac{\\pi B_{2} n_{y}}{a} = 0$$\n",
    "\n",
    "Field energy density $\\frac{\\int \\frac{H_x^2+H_y^2+H_z^2}{8 \\pi}dV}{V}$ is\n",
    "\n",
    "$$\\frac{E}{V} = \\frac{{\\left(B_{1}^{2} + B_{2}^{2} + B_{3}^{2}\\right)}}{64 \\, \\pi}$$\n",
    "\n",
    "Electromagnetic pressure on $xy$ plate $\\frac{\\int \\frac {H_x^2+H_y^2}{8 \\pi} dS}{S}$ is\n",
    "\n",
    "$$\\frac{f_z}{S}=\\frac{{\\left(B_{1}^{2} + B_{2}^{2}\\right)}}{32 \\, \\pi}$$\n",
    "\n",
    "Their relation $\\frac{f_z/S}{E/V}$ is\n",
    "\n",
    "$$\\frac{f_z/S}{E/V} = 2 \\, \\frac{{\\left(B_{1}^{2} + B_{2}^{2}\\right)}}{B_{1}^{2} + B_{2}^{2} + B_{3}^{2}}$$\n",
    "\n",
    "Considering terms with wave propagation in $z$ direction we have $E_z = 0$ which give:\n",
    "\n",
    "$$\\frac{\\pi B_{2} n_{x}}{a} - \\frac{\\pi B_{1} n_{y}}{a} = 0$$\n",
    "\n",
    "$$B_1 = -\\frac{B_{3} a k_{z} n_{x}}{\\pi n_{x}^{2} + \\pi n_{y}^{2}}$$\n",
    "$$B_2 = -\\frac{B_{3} a k_{z} n_{y}}{\\pi n_{x}^{2} + \\pi n_{y}^{2}}$$\n",
    "\n",
    "Relation of electromagnetic pressure per field energy density in this case is\n",
    "\n",
    "$$\\frac{f_z/S}{E/V} = \\frac{2 \\, a^{2} k_{z}^{2}}{a^{2} k_{z}^{2} + \\pi^{2} n_{x}^{2} + \\pi^{2} n_{y}^{2}}$$\n",
    "\n",
    "Considering terms with wave propagation in $x$ direction we have $E_x = 0$ which give:\n",
    "\n",
    "$$B_3 = -\\frac{\\pi B_{1} a k_{z} n_{x}}{a^{2} k_{z}^{2} + \\pi^{2} n_{y}^{2}}$$\n",
    "$$B_2 = -\\frac{\\pi^{2} B_{1} n_{x} n_{y}}{a^{2} k_{z}^{2} + \\pi^{2} n_{y}^{2}}$$\n",
    "\n",
    "Relation of electromagnetic pressure per field energy density in this case is\n",
    "\n",
    "$$\\frac{f_z/S}{E/V} = 2 \\, \\frac{ {\\left(a^{4} k_{z}^{4} + 2 \\, \\pi^{2} a^{2} k_{z}^{2} n_{y}^{2} + \\pi^{4} n_{x}^{2} n_{y}^{2} + \\pi^{4} n_{y}^{4}\\right)}}{a^{4} k_{z}^{4} + \\pi^{2} a^{2} k_{z}^{2} n_{x}^{2} + 2 \\, \\pi^{2} a^{2} k_{z}^{2} n_{y}^{2} + \\pi^{4} n_{x}^{2} n_{y}^{2} + \\pi^{4} n_{y}^{4}}$$\n",
    "\n",
    "Considering terms with wave propagation in $y$ direction is similar to them in $x$ direction"
   ]
  },
  {
   "cell_type": "markdown",
   "metadata": {},
   "source": [
    "So we see that task of precise calculation of electromagnetic force in the honeycomb configuration is not easy, because seems like we should apply to $\\frac{f_z/S}{E/V}$ both regulator function and Euler–Maclaurin 2D approach. So this is the task for next investigation.\n",
    "\n",
    "But it is clear that this force is nonzero and should correspond to the difference of specific energy density found in this work."
   ]
  },
  {
   "cell_type": "markdown",
   "metadata": {},
   "source": [
    "We are thus led to the following conclusions. There exists force to perfectly conducting honeycomb on a plate as result of a difference of specific energy density on its different sides. This force is dependent of the material of the plate. This force may be interpreted as a zero point pressure of electromagnetic waves."
   ]
  },
  {
   "cell_type": "markdown",
   "metadata": {},
   "source": [
    "Although the effect is smalI, an experimental confirmation seems not\n",
    "unfeasable and might be of a certain interest. "
   ]
  },
  {
   "cell_type": "markdown",
   "metadata": {},
   "source": [
    "Kharkov"
   ]
  },
  {
   "cell_type": "code",
   "execution_count": 234,
   "metadata": {},
   "outputs": [],
   "source": [
    "# below are usefull reference"
   ]
  },
  {
   "cell_type": "markdown",
   "metadata": {},
   "source": [
    "30 January 2019\n",
    "\n",
    "Metal nano-honeycomb fabricated by colloidal assembly and femtosecond-laser annealing\n",
    "\n",
    "https://www.spiedigitallibrary.org/conference-proceedings-of-spie/10841/108410A/Metal-nano-honeycomb-fabricated-by-colloidal-assembly-and-femtosecond-laser/10.1117/12.2508593.full?SSO=1"
   ]
  },
  {
   "cell_type": "markdown",
   "metadata": {},
   "source": [
    "Bio-Inspired Engineering of Honeycomb Structure - Using Nature to Inspire Human Innovation\n",
    "\n",
    "https://www.researchgate.net/figure/Mechanical-behavior-of-micro-and-nano-honeycomb-materials_tbl1_280239925"
   ]
  },
  {
   "cell_type": "markdown",
   "metadata": {},
   "source": [
    "Nano-honeycomb structures for optimal energy absorption: numerical analysis and experiments\n",
    "\n",
    "https://www.alliedacademies.org/articles/nanohoneycomb-structures-for-optimal-energy-absorption-numerical-analysisand-experiments-8375.html"
   ]
  },
  {
   "cell_type": "code",
   "execution_count": null,
   "metadata": {},
   "outputs": [],
   "source": []
  },
  {
   "cell_type": "markdown",
   "metadata": {},
   "source": [
    "Уже практически при подготовке данного моего расчета к релизу я обнаружил, что уже предложена идея использования силы Казимира для создания тяги в устройстве:"
   ]
  },
  {
   "cell_type": "markdown",
   "metadata": {},
   "source": [
    "Антипин Александр Вениаминович"
   ]
  },
  {
   "cell_type": "markdown",
   "metadata": {},
   "source": [
    "СПОСОБ ПРИВЕДЕНИЯ В ДВИЖЕНИЕ ТЕЛ ПРИ ПОМОЩИ ЭФФЕКТА КАЗИМИРА И/ИЛИ\n",
    "ЕГО АНАЛОГОВ\n",
    "\n",
    "https://rusneb.ru/catalog/000224_000128_0002610018_20170207_C2_RU/"
   ]
  },
  {
   "cell_type": "markdown",
   "metadata": {},
   "source": [
    "ДВИГАТЕЛЬ НА ЭНЕРГИИ ВАКУУМА\n",
    "\n",
    "https://www.youtube.com/watch?v=YvDlQnpodeU"
   ]
  },
  {
   "cell_type": "markdown",
   "metadata": {},
   "source": [
    "ИСПОЛЬЗОВАНИЕ СИЛЫ КАЗИМИРА ДЛЯ УПРАВЛЯЕМОГО ДВИЖЕНИЯ МАКРОТЕЛ\n",
    "\n",
    "https://science.snauka.ru/2014/03/6710"
   ]
  },
  {
   "cell_type": "markdown",
   "metadata": {},
   "source": [
    "Автор справедливо предполагает возможность возникновения силы тяги вследствие эффекта Казимира в геометрии плоских, но не параллельных пластин.\n",
    "\n",
    "В качестве рабочего элемента автор предлагает «уголок» в виде буквы V, которые можно собирать в панели, которые в плане будет выглядеть как сборка уголков: «VVV…VVV».\n",
    "\n",
    "Автор приводит оценочный расчёт силы тяги «уголка» при помощи формулы Казимира, «при самых общих и естественных приближениях, известных, как PFA (Proximity energy_density_difference Approximation), или PAA (Pairwise Additive Approximation), способ расчёта [5], [6]».\n",
    "\n",
    "Fтяги [дин] ~ 217 * b / (Lmin)^3, где b измеряется в [см], а Lmin в [нм].\n",
    "\n",
    "где b – «длина» уголка (буквы V «вглубь» страницы), Lmin - расстояние между сторонами уголка по уровню Zmin, Lmax - расстояние между сторонами уголка по уровню Zmax.\n",
    "\n",
    "Проблема, однако в том, что при сборке V-образных уголков в панели автор рисует примыкание угла в основании буквы V на плоскость, но в своих расчетах автор никак не учитывает влияние плоскости основания на результирующие поля. Однако, если предположить, что основание будет выполнено из того же материала что и уголки, тогда конструкция Антипина отдаленно напоминает наносоты выращенные на плоской поверхности металла, проанализированные мною в данной работе.\n",
    "\n",
    "С другой стороны автор указывает, что величина Lmin ограничена снизу уровнем «обрезания», который определяется технологически:\n",
    "\n",
    "- точностью изготовления пластин (их шероховатостью, степенью плоскостности), а также\n",
    "\n",
    "- МИНИМАЛЬНОЙ длиной волны фотонов, которые может эффективно отражать вещество, из которого изготовлен уголок.\n",
    "\n",
    "В этой связи автор указывает, что в его конструкции нужно добиваться увеличения коэффициента отражения поверхностей и/или расширения диапазона эффективности отражателя в область высоких частот.\n",
    "\n",
    "Мои же исследования показывают что в случае наносот результирующая сила Казимировской тяги хотя и зависит от частоты обрезания, но для стабилизации коэффициента тяги достаточно добиться того чтобы произведение внутреннего размера ячейки сот на волновой вектор обрезания $a \\cdot k_m$ было не меньше $7$."
   ]
  },
  {
   "cell_type": "markdown",
   "metadata": {},
   "source": [
    "5. F. Intravaia et al., Strong Casimir energy_density_difference reduction through metallic surface nanostructuring // Nature Comm, art. 2515, 4 (Sep. 2013) pp. 1-20\n",
    "\n",
    "6. A.W. Rodriguez, F. Capasso, S.G. Johnson, The Casimir effect in microstructured geometries // Nature Photonics, V.5, (Apr. 2011), p.211-221"
   ]
  },
  {
   "cell_type": "markdown",
   "metadata": {},
   "source": [
    "В моём расчёте получается, что разница плотностей казимировских электромагнитных энергий будет равна $\\delta\\,\\frac{E}{V} = 0.02\\,\\frac{1}{a_{\\mu}^4}\\,dyne/cm^2$ где $a_{\\mu}$ измеряется в микронах. Чтобы сопоставить мой результат с результатом Антипина, я перепишу свою формулу так: $\\delta\\,\\frac{E}{V} = 0.02 \\cdot 10^{12} \\,\\frac{1}{a_{nm}^4}\\,dyne/cm^2$ где $a_{nm}$ измеряется в нанометрах. Если теперь я из одного квадратоного сантиметра выделяю (вдоль направления $x$ или $y$ один столбик с квадратными сотами, то  разница плотностей казимировских электромагнитных энегрий приходящаяся на погонный сантиметр такого столбика $\\delta\\,\\frac{E}{V} = 2 \\cdot 10^{10} \\,\\frac{1}{a_{nm}^3}\\,dyne/cm$. То есть получается, что мой расчет дал результат более завышенный, чем расчёт Антипина для панели из V-образных уголков. Это не удивительно потому что Антипин хотя и нарисовал примыкание угла в основании буквы V на плоскость, но в своих расчетах он никак не учитывает влияние плоскости основания на результирующие поля. И кроме того результат моего расчёта это все таки не сила, а величина должна соответствать этой силе по порядку величины."
   ]
  },
  {
   "cell_type": "markdown",
   "metadata": {},
   "source": [
    "Антипин в своей работе показывает что для его панелей при Lmin = 200 [нм], Fтяги~ 10 [дин]. \n",
    "\n",
    "В работе \"Metal nano-honeycomb fabricated by colloidal assembly and femtosecond-laser annealing\" было сообщено о получении наносот из золота с размером ячейки порядка 2 микрон. Такие соты должны обладать разницей плотностей казимировских электромагнитных энергий $\\delta\\,\\frac{E}{V} = 0.02\\,\\frac{1}{2^4} = 0.0012\\,dyne/cm^2 = 0.0012 \\cdot 10^4 = 12\\,dyne/m^2$, то есть 12 дин на квадратный метр панели, что уже является вполне приемлимой величиной для практического использования предполагаемого эффекта для корректировки орбит спутников.\n",
    "\n",
    "Единственно нужно указать, что в согласно моёму способу расчёта полученная формула даёт $\\delta\\,\\frac{E}{V}$ в расчёте не на общую площадь поверхности сот, а на ту часть площади панели, занятую углублениями за вычетом части площади сот занятой стенками. \n",
    "\n",
    "Это не означает необходимости стремиться делать очень уж тонкие стенки сот, потому как при уменьшении толщины стенки уменьшится также и величина $k_m$."
   ]
  },
  {
   "cell_type": "markdown",
   "metadata": {},
   "source": [
    "Будет нелишним также заметить, что применение мною формулы вида"
   ]
  },
  {
   "cell_type": "markdown",
   "metadata": {},
   "source": [
    "\\begin{equation}\n",
    "\\delta\\,\\frac{E}{V} = \\frac{\\hbar\\,c\\,\\pi}{a^4}\n",
    "\\int\\limits_{0}^{\\infty}\n",
    "\\left\\{\n",
    "\\sum\\limits_{n_x=\\left(0\\right)\\,1}^{\\infty}\n",
    "\\sum\\limits_{n_y=\\left(0\\right)\\,1}^{\\infty}\n",
    "{\\sqrt{n_x^2 + n_y^2 + u^2}}\n",
    "f\\left(\\frac{\\pi\\sqrt{n_x^2 + n_y^2 + u^2}}{a\\,k_m}\\right)\n",
    "-\n",
    "\\int\\limits_{0}^{\\infty}\n",
    "\\int\\limits_{0}^{\\infty}\n",
    "{\\sqrt{n_x^2 + n_y^2 + u^2}}\n",
    "f\\left(\\frac{\\pi\\sqrt{n_x^2 + n_y^2 + u^2}}{a\\,k_m}\\right)\n",
    "\\,d{n_x}\\,d{n_y}\n",
    "\\right\\}\n",
    "\\,d{u}\n",
    "\\end{equation}"
   ]
  },
  {
   "cell_type": "markdown",
   "metadata": {},
   "source": [
    "неявно подразумевает, что приведенный в данной работе расчёт справедлив при условии, что величина $k_m$ одинакова для всех трёх направлений волнового вектора. Данное условие может быть нарушено, если толщина стенок и толщина самой пластины, на которой выращены соты будет отличаться. Однако теоретический учет этого обстоятельства многократно усложнил бы громоздкость формул."
   ]
  },
  {
   "cell_type": "markdown",
   "metadata": {},
   "source": [
    "Кроме того слабым местом моего расчёта является неявное допущение бесконечной величины высоты стенок сот тогда как реальная высота стенок будет конечно. Однако целью данной работы было принципиальное исследование вопроса. По моему мнению конечная фактическая высота стенок внесёт некоторую поправку в величину полученного результат (что может быть темой дальнейших исследований), но принципиальный вывод не изменит."
   ]
  },
  {
   "cell_type": "markdown",
   "metadata": {},
   "source": [
    "В данной работе я рассчитал разность плотностей электромагнитной энегрии по разные стороны от материала плоскости с наносотами. Теперь предстоит исследовать задачу вычисления соотношения этой разностей плотностей электромагнитной энергии и силы тяги в геометри наносот."
   ]
  },
  {
   "cell_type": "markdown",
   "metadata": {},
   "source": [
    "В отношении критики: многие авторы рассматривают эффект Казимира не как следствие существования виртуальных квантовых фотонов, а как только лишь проявление дисперсионных сил Лондона - Ван-дер-Ваальса.\n",
    "\n",
    "В свою очередь хочу отметить, что постановка эксперимента по измерению силы тяги производимой наносотами выращенными на металле могла бы служить в некотором роде критическим экспериментом для выяснения того какая из точек зрения на природу сил Казимира соответсвует действительности"
   ]
  },
  {
   "cell_type": "code",
   "execution_count": null,
   "metadata": {},
   "outputs": [],
   "source": []
  }
 ],
 "metadata": {
  "kernelspec": {
   "display_name": "SageMath 9.6.beta7",
   "language": "sage",
   "name": "sagemath"
  },
  "language_info": {
   "codemirror_mode": {
    "name": "ipython",
    "version": 3
   },
   "file_extension": ".py",
   "mimetype": "text/x-python",
   "name": "python",
   "nbconvert_exporter": "python",
   "pygments_lexer": "ipython3",
   "version": "3.10.3"
  }
 },
 "nbformat": 4,
 "nbformat_minor": 2
}
