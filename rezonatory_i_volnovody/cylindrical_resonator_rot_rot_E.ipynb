{
 "cells": [
  {
   "cell_type": "code",
   "execution_count": 1,
   "metadata": {},
   "outputs": [],
   "source": [
    "from IPython.display import display, Math, Latex"
   ]
  },
  {
   "cell_type": "code",
   "execution_count": 2,
   "metadata": {},
   "outputs": [],
   "source": [
    "%display latex"
   ]
  },
  {
   "cell_type": "code",
   "execution_count": 3,
   "metadata": {},
   "outputs": [],
   "source": [
    "ES.<rh,ph,z> = EuclideanSpace(coordinates='cylindrical')"
   ]
  },
  {
   "cell_type": "code",
   "execution_count": 4,
   "metadata": {},
   "outputs": [
    {
     "data": {
      "text/html": [
       "<html><script type=\"math/tex; mode=display\">\\newcommand{\\Bold}[1]{\\mathbf{#1}}{\\rho} :\\ \\left( 0 , +\\infty \\right) ;\\quad {\\phi} :\\ \\left[ 0 , 2 \\, \\pi \\right] \\mbox{(periodic)} ;\\quad z :\\ \\left( -\\infty, +\\infty \\right)</script></html>"
      ],
      "text/plain": [
       "rh: (0, +oo); ph: [0, 2*pi] (periodic); z: (-oo, +oo)"
      ]
     },
     "execution_count": 4,
     "metadata": {},
     "output_type": "execute_result"
    }
   ],
   "source": [
    "ES.cylindrical_coordinates().coord_range()"
   ]
  },
  {
   "cell_type": "code",
   "execution_count": null,
   "metadata": {},
   "outputs": [],
   "source": [
    "# подставляя в исходное уравнение \n",
    "if True:\n",
    "    ES.<rho,phi,zz> = EuclideanSpace(coordinates='cylindrical')\n",
    "\n",
    "    H = ES.vector_field(\n",
    "        function('H_rho_rho')(rho) * function('H_rho_phi')(phi) * function('H_rho_z')(zz),\n",
    "        function('H_phi_pho')(rho) * function('H_phi_phi')(phi) * function('H_phi_z')(zz),\n",
    "        function('H_z_rho')  (rho) * function('H_z_phi')  (phi) * function('H_z_z')  (zz),\n",
    "        name='H')\n",
    "\n",
    "    E = ES.vector_field(\n",
    "        function('E_rho_rho')(rho) * function('E_rho_phi')(phi) * function('E_rho_z')(zz),\n",
    "        function('E_phi_pho')(rho) * function('E_phi_phi')(phi) * function('E_phi_z')(zz),\n",
    "        function('E_z_rho')  (rho) * function('E_z_phi')  (phi) * function('E_z_z')  (zz),\n",
    "        name='E')\n",
    "\n",
    "    E = ES.vector_field(\n",
    "        function('E_rho')(rho,phi,zz),\n",
    "        function('E_phi')(rho,phi,zz),\n",
    "        function('E_z')(rho,phi,zz),\n",
    "        name='E')\n",
    "    \n",
    "    H = ES.vector_field(\n",
    "        function('H_rho')(rho,phi,zz),\n",
    "        function('H_phi')(rho,phi,zz),\n",
    "        function('H_z')(rho,phi,zz),\n",
    "        name='H')\n",
    "    \n",
    "    #E = ES.vector_field(\n",
    "    #    function('E_rho_rho')(rho) * function('E_rho_phi')(phi) * function('E_rho_z')(zz),\n",
    "    #    function('E_phi_pho')(rho) * function('E_phi_phi')(phi) * function('E_phi_z')(zz),\n",
    "    #    function('E_z_rho')  (rho) * sin(m*phi+psi_m) * e^(I*k[0]*zz),\n",
    "    #    name='E')\n",
    "    \n",
    "    from sage.manifolds.operators import curl, laplacian\n",
    "    rot_rot_E = curl(curl(E))\n",
    "    rot_rot_H = curl(curl(H))\n",
    "    laplacian_E = laplacian(E)\n",
    "\n",
    "    #print (rot_rot_E.display())\n",
    "    #print (rot_rot_H.display())\n",
    "    #print (laplacian_E.display())\n",
    "    \n",
    "    #eq_z = (rot_rot_E[3] - mu[0] * epsilon[0] * omega^2 / c^2 * E[3]).expand()\n",
    "    #display(Math(latex(eq_z.expr())))\n",
    "    \n",
    "    eq_z = (laplacian_E[3] + mu[0] * epsilon[0] * omega^2 / c^2 * E[3]).expand().expr() == 0\n",
    "    display(Math(latex(eq_z)))"
   ]
  },
  {
   "cell_type": "code",
   "execution_count": null,
   "metadata": {},
   "outputs": [],
   "source": [
    "# curl(curl(E)) =\n",
    "# - (rho^2*E_rho_phi(phi)*E_rho_rho(rho)*d^2(E_rho_z)/dzz^2 - rho^2*E_z_phi(phi)*d(E_z_rho)/drho*d(E_z_z)/dzz + E_rho_rho(rho)*E_rho_z(zz)*d^2(E_rho_phi)/dphi^2 - (rho*d(E_phi_phi)/dphi*d(E_phi_pho)/drho    + E_phi_pho(rho)*d(E_phi_phi)/dphi)*E_phi_z(zz))/rho^2                                                                                                                   e_rho\n",
    "# - (rho^2*E_phi_phi(phi)*E_phi_pho(rho)*d^2(E_phi_z)/dzz^2 - rho*E_z_rho(rho)*d(E_z_phi)/dphi*d(E_z_z)/dzz   + (rho^2*E_phi_phi(phi)*d^2(E_phi_pho)/drho^2      + rho*E_phi_phi(phi)*d(E_phi_pho)/drho        - E_phi_phi(phi)*E_phi_pho(rho))*E_phi_z(zz)           - (rho*d(E_rho_phi)/dphi*d(E_rho_rho)/drho                 - E_rho_rho(rho)*d(E_rho_phi)/dphi)*E_rho_z(zz))/rho^2 e_phi\n",
    "# + (rho*E_phi_pho(rho)*d(E_phi_phi)/dphi*d(E_phi_z)/dzz    - (rho^2*E_z_phi(phi)*d^2(E_z_rho)/drho^2         + rho*E_z_phi(phi)*d(E_z_rho)/drho                 + E_z_rho(rho)*d^2(E_z_phi)/dphi^2)*E_z_z(zz) + (rho^2*E_rho_phi(phi)*d(E_rho_rho)/drho              + rho*E_rho_phi(phi)*E_rho_rho(rho))*d(E_rho_z)/dzz)/rho^2                                                        e_zz\n",
    "\n",
    "# curl(curl(H)) = \n",
    "# - (rho^2*H_rho_phi(phi)*H_rho_rho(rho)*d^2(H_rho_z)/dzz^2 - rho^2*H_z_phi(phi)*d(H_z_rho)/drho*d(H_z_z)/dzz + H_rho_rho(rho)*H_rho_z(zz)*d^2(H_rho_phi)/dphi^2 - (rho*d(H_phi_phi)/dphi*d(H_phi_pho)/drho    + H_phi_pho(rho)*d(H_phi_phi)/dphi)*H_phi_z(zz))/rho^2                                                                                                                   e_rho\n",
    "# - (rho^2*H_phi_phi(phi)*H_phi_pho(rho)*d^2(H_phi_z)/dzz^2 - rho*H_z_rho(rho)*d(H_z_phi)/dphi*d(H_z_z)/dzz   + (rho^2*H_phi_phi(phi)*d^2(H_phi_pho)/drho^2      + rho*H_phi_phi(phi)*d(H_phi_pho)/drho        - H_phi_phi(phi)*H_phi_pho(rho))*H_phi_z(zz)           - (rho*d(H_rho_phi)/dphi*d(H_rho_rho)/drho                 - H_rho_rho(rho)*d(H_rho_phi)/dphi)*H_rho_z(zz))/rho^2 e_phi\n",
    "# + (rho*H_phi_pho(rho)*d(H_phi_phi)/dphi*d(H_phi_z)/dzz    - (rho^2*H_z_phi(phi)*d^2(H_z_rho)/drho^2         + rho*H_z_phi(phi)*d(H_z_rho)/drho                 + H_z_rho(rho)*d^2(H_z_phi)/dphi^2)*H_z_z(zz) + (rho^2*H_rho_phi(phi)*d(H_rho_rho)/drho              + rho*H_rho_phi(phi)*H_rho_rho(rho))*d(H_rho_z)/dzz)/rho^2                                                        e_zz\n",
    "\n",
    "#Delta(E) =\n",
    "# + (rho^2*E_rho_phi(phi)*E_rho_rho(rho)*d^2(E_rho_z)/dzz^2 - 2*E_phi_pho(rho)*E_phi_z(zz)*d(E_phi_phi)/dphi + (rho^2*E_rho_phi(phi)*d^2(E_rho_rho)/drho^2 + rho*E_rho_phi(phi)*d(E_rho_rho)/drho - (E_rho_phi(phi) - d^2(E_rho_phi)/dphi^2)*E_rho_rho(rho))*E_rho_z(zz))/rho^2 e_rho\n",
    "# + (rho^2*E_phi_phi(phi)*E_phi_pho(rho)*d^2(E_phi_z)/dzz^2 + 2*E_rho_rho(rho)*E_rho_z(zz)*d(E_rho_phi)/dphi + (rho^2*E_phi_phi(phi)*d^2(E_phi_pho)/drho^2 + rho*E_phi_phi(phi)*d(E_phi_pho)/drho - (E_phi_phi(phi) - d^2(E_phi_phi)/dphi^2)*E_phi_pho(rho))*E_phi_z(zz))/rho^2 e_phi\n",
    "# + (rho^2*E_z_phi(phi)*E_z_rho(rho)*d^2(E_z_z)/dzz^2       + (rho^2*E_z_phi(phi)*d^2(E_z_rho)/drho^2        + rho*E_z_phi(phi)*d(E_z_rho)/drho            + E_z_rho(rho)*d^2(E_z_phi)/dphi^2)*E_z_z(zz))/rho^2                                                                 e_zz"
   ]
  },
  {
   "cell_type": "code",
   "execution_count": null,
   "metadata": {},
   "outputs": [],
   "source": [
    "H_rho_rho(rh) = function('H_rho_rho')(rh)\n",
    "H_rho_phi(ph) = function('H_rho_phi')(ph)\n",
    "H_rho_z  (z)  = function('H_rho_z'  )(z)\n",
    "H_phi_pho(rh) = function('H_phi_pho')(rh)\n",
    "H_phi_phi(ph) = function('H_phi_phi')(ph)\n",
    "H_phi_z  (z)  = function('H_phi_z'  )(z)\n",
    "H_z_rho  (rh) = function('H_z_rho'  )(rh)\n",
    "H_z_phi  (ph) = function('H_z_phi'  )(ph)\n",
    "H_z_z    (z)  = function('H_z_z'    )(z)\n",
    "\n",
    "E_rho_rho(rh) = function('E_rho_rho')(rh)\n",
    "E_rho_phi(ph) = function('E_rho_phi')(ph)\n",
    "E_rho_z  (z)  = function('E_rho_z'  )(z)\n",
    "E_phi_pho(rh) = function('E_phi_pho')(rh)\n",
    "E_phi_phi(ph) = function('E_phi_phi')(ph)\n",
    "E_phi_z  (z)  = function('E_phi_z'  )(z)\n",
    "E_z_rho  (rh) = function('E_z_rho'  )(rh)\n",
    "E_z_phi  (ph) = function('E_z_phi'  )(ph)\n",
    "E_z_z    (z)  = function('E_z_z'    )(z)"
   ]
  },
  {
   "cell_type": "code",
   "execution_count": null,
   "metadata": {},
   "outputs": [],
   "source": [
    "# - (rho^2*E_rho_phi(phi)*E_rho_rho(rho)*d^2(E_rho_z)/dzz^2 - rho^2*E_z_phi(phi)*d(E_z_rho)/drho*d(E_z_z)/dzz + E_rho_rho(rho)*E_rho_z(zz)*d^2(E_rho_phi)/dphi^2 - (rho*d(E_phi_phi)/dphi*d(E_phi_pho)/drho    + E_phi_pho(rho)*d(E_phi_phi)/dphi)*E_phi_z(zz))/rho^2                                                                                                                   e_rho\n",
    "# - (rho^2*E_phi_phi(phi)*E_phi_pho(rho)*d^2(E_phi_z)/dzz^2 - rho*E_z_rho(rho)*d(E_z_phi)/dphi*d(E_z_z)/dzz   + (rho^2*E_phi_phi(phi)*d^2(E_phi_pho)/drho^2      + rho*E_phi_phi(phi)*d(E_phi_pho)/drho        - E_phi_phi(phi)*E_phi_pho(rho))*E_phi_z(zz)           - (rho*d(E_rho_phi)/dphi*d(E_rho_rho)/drho                 - E_rho_rho(rho)*d(E_rho_phi)/dphi)*E_rho_z(zz))/rho^2 e_phi\n",
    "\n",
    "# + (rho*E_phi_pho(rho)*d(E_phi_phi)/dphi*d(E_phi_z)/dzz\n",
    "# - (rho^2*E_z_phi(phi)*d^2(E_z_rho)/drho^2\n",
    "# + rho*E_z_phi(phi)*d(E_z_rho)/drho\n",
    "# + E_z_rho(rho)*d^2(E_z_phi)/dphi^2)*E_z_z(zz)\n",
    "# + (rho^2*E_rho_phi(phi)*d(E_rho_rho)/drho\n",
    "# + rho*E_rho_phi(phi)*E_rho_rho(rho))*d(E_rho_z)/dzz)/rho^2                                                        e_zz\n",
    "curl_curl_E_z(rh,ph,z) = \\\n",
    "    + (rh*E_phi_pho(rh)*diff(E_phi_phi(ph),ph)*diff(E_phi_z(z),z)\n",
    "    - (rh^2*E_z_phi(ph)*diff(diff(E_z_rho(rh),rh),rh)\n",
    "    + rh*E_z_phi(ph)*diff(E_z_rho(rh),rh)\n",
    "    + E_z_rho(rh)*diff(diff(E_z_phi(ph), ph), ph))*E_z_z(z)\n",
    "    + (rh^2*E_rho_phi(ph)*diff(E_rho_rho(rh),rh)\n",
    "    + rh*E_rho_phi(ph)*E_rho_rho(rh))*diff(E_rho_z(z),z))/rh^2 "
   ]
  },
  {
   "cell_type": "code",
   "execution_count": 5,
   "metadata": {},
   "outputs": [],
   "source": [
    "H = ES.vector_field(\n",
    "    function('H_rho')(rh,ph,z),\n",
    "    function('H_phi')(rh,ph,z),\n",
    "    function('H_z')(rh,ph,z),\n",
    "    name='H')"
   ]
  },
  {
   "cell_type": "code",
   "execution_count": 6,
   "metadata": {},
   "outputs": [],
   "source": [
    "E = ES.vector_field(\n",
    "    function('E_rho')(rh,ph,z),\n",
    "    function('E_phi')(rh,ph,z),\n",
    "    function('E_z')(rh,ph,z),\n",
    "    name='E')"
   ]
  },
  {
   "cell_type": "code",
   "execution_count": 7,
   "metadata": {},
   "outputs": [
    {
     "data": {
      "text/html": [
       "<html><script type=\"math/tex; mode=display\">\\newcommand{\\Bold}[1]{\\mathbf{#1}}E = E_{\\rho}\\left({\\rho}, {\\phi}, z\\right) e_{ {\\rho} } + E_{\\phi}\\left({\\rho}, {\\phi}, z\\right) e_{ {\\phi} } + E_{z}\\left({\\rho}, {\\phi}, z\\right) e_{ z }</script></html>"
      ],
      "text/plain": [
       "E = E_rho(rh, ph, z) e_rh + E_phi(rh, ph, z) e_ph + E_z(rh, ph, z) e_z"
      ]
     },
     "execution_count": 7,
     "metadata": {},
     "output_type": "execute_result"
    }
   ],
   "source": [
    "E.display()"
   ]
  },
  {
   "cell_type": "markdown",
   "metadata": {},
   "source": [
    "$rot\\,\\vec{E} = \\mu\\,\\frac{i\\,\\omega}{c}\\,\\vec{H}$\n",
    "\n",
    "$rot\\,\\vec{H} = - \\frac{i\\,\\omega}{c} \\epsilon_{\\alpha\\,\\beta} \\vec{E}$\n",
    "\n",
    "$rot\\,rot\\,\\vec{E} = \\mu\\,\\frac{i\\,\\omega}{c}rot\\,\\vec{H}$\n",
    "\n",
    "$rot\\,rot\\,\\vec{E} = \\mu\\,\\frac{i\\,\\omega}{c}\\left(- \\frac{i\\,\\omega}{c} \\epsilon_{\\alpha\\,\\beta} \\vec{E}\\right)$\n",
    "\n",
    "$rot\\,rot\\,\\vec{E} = \\mu\\,\\frac{\\omega^2}{c^2} \\epsilon_{\\alpha\\,\\beta} \\vec{E}$\n",
    "\n",
    "$rot\\,rot\\,\\vec{E} = grad\\,div\\,\\vec{E} - Laplasian\\,\\vec{E}$\n",
    "\n",
    "$Laplasian\\,\\vec{E} + \\mu\\frac{\\omega^2}{c^2}\\,\\epsilon_{\\alpha\\,\\beta}\\vec{E} - grad\\,div\\,\\vec{E} = 0$"
   ]
  },
  {
   "cell_type": "markdown",
   "metadata": {},
   "source": [
    "The Laplacian of a vector field:"
   ]
  },
  {
   "cell_type": "code",
   "execution_count": 8,
   "metadata": {},
   "outputs": [],
   "source": [
    "from sage.manifolds.operators import *"
   ]
  },
  {
   "cell_type": "code",
   "execution_count": 9,
   "metadata": {},
   "outputs": [
    {
     "data": {
      "text/html": [
       "<html><script type=\"math/tex; mode=display\">\\newcommand{\\Bold}[1]{\\mathbf{#1}}\\mathrm{curl}\\left(E\\right) = \\left( -\\frac{{\\rho} \\frac{\\partial\\,E_{\\phi}}{\\partial z} - \\frac{\\partial\\,E_{z}}{\\partial {\\phi}}}{{\\rho}} \\right) e_{ {\\rho} } + \\left( \\frac{\\partial\\,E_{\\rho}}{\\partial z} - \\frac{\\partial\\,E_{z}}{\\partial {\\rho}} \\right) e_{ {\\phi} } + \\left( \\frac{{\\rho} \\frac{\\partial\\,E_{\\phi}}{\\partial {\\rho}} + E_{\\phi}\\left({\\rho}, {\\phi}, z\\right) - \\frac{\\partial\\,E_{\\rho}}{\\partial {\\phi}}}{{\\rho}} \\right) e_{ z }</script></html>"
      ],
      "text/plain": [
       "curl(E) = -(rh*d(E_phi)/dz - d(E_z)/dph)/rh e_rh + (d(E_rho)/dz - d(E_z)/drh) e_ph + (rh*d(E_phi)/drh + E_phi(rh, ph, z) - d(E_rho)/dph)/rh e_z"
      ]
     },
     "execution_count": 9,
     "metadata": {},
     "output_type": "execute_result"
    }
   ],
   "source": [
    "rot_E = curl(E)\n",
    "rot_E.display()"
   ]
  },
  {
   "cell_type": "code",
   "execution_count": 10,
   "metadata": {},
   "outputs": [
    {
     "data": {
      "text/html": [
       "<html><script type=\"math/tex; mode=display\">\\newcommand{\\Bold}[1]{\\mathbf{#1}}\\mathrm{grad}\\left(\\mathrm{div}\\left(E\\right)\\right) = \\left( \\frac{{\\rho}^{2} \\frac{\\partial^2\\,E_{\\rho}}{\\partial {\\rho} ^ 2} + {\\rho}^{2} \\frac{\\partial^2\\,E_{z}}{\\partial {\\rho}\\partial z} + {\\rho} \\frac{\\partial^2\\,E_{\\phi}}{\\partial {\\rho}\\partial {\\phi}} + {\\rho} \\frac{\\partial\\,E_{\\rho}}{\\partial {\\rho}} - E_{\\rho}\\left({\\rho}, {\\phi}, z\\right) - \\frac{\\partial\\,E_{\\phi}}{\\partial {\\phi}}}{{\\rho}^{2}} \\right) e_{ {\\rho} } + \\left( \\frac{{\\rho} \\frac{\\partial^2\\,E_{\\rho}}{\\partial {\\rho}\\partial {\\phi}} + {\\rho} \\frac{\\partial^2\\,E_{z}}{\\partial {\\phi}\\partial z} + \\frac{\\partial^2\\,E_{\\phi}}{\\partial {\\phi} ^ 2} + \\frac{\\partial\\,E_{\\rho}}{\\partial {\\phi}}}{{\\rho}^{2}} \\right) e_{ {\\phi} } + \\left( \\frac{{\\rho} \\frac{\\partial^2\\,E_{\\rho}}{\\partial {\\rho}\\partial z} + {\\rho} \\frac{\\partial^2\\,E_{z}}{\\partial z ^ 2} + \\frac{\\partial^2\\,E_{\\phi}}{\\partial {\\phi}\\partial z} + \\frac{\\partial\\,E_{\\rho}}{\\partial z}}{{\\rho}} \\right) e_{ z }</script></html>"
      ],
      "text/plain": [
       "grad(div(E)) = (rh^2*d^2(E_rho)/drh^2 + rh^2*d^2(E_z)/drhdz + rh*d^2(E_phi)/drhdph + rh*d(E_rho)/drh - E_rho(rh, ph, z) - d(E_phi)/dph)/rh^2 e_rh + (rh*d^2(E_rho)/drhdph + rh*d^2(E_z)/dphdz + d^2(E_phi)/dph^2 + d(E_rho)/dph)/rh^2 e_ph + (rh*d^2(E_rho)/drhdz + rh*d^2(E_z)/dz^2 + d^2(E_phi)/dphdz + d(E_rho)/dz)/rh e_z"
      ]
     },
     "execution_count": 10,
     "metadata": {},
     "output_type": "execute_result"
    }
   ],
   "source": [
    "grad_div_E = grad(div(E))\n",
    "grad_div_E.display()"
   ]
  },
  {
   "cell_type": "code",
   "execution_count": 11,
   "metadata": {},
   "outputs": [
    {
     "data": {
      "text/latex": [
       "$$\\mathrm{curl}\\left(\\mathrm{curl}\\left(E\\right)\\right) = \\left( -\\frac{{\\rho}^{2} \\frac{\\partial^2\\,E_{\\rho}}{\\partial z ^ 2} - {\\rho}^{2} \\frac{\\partial^2\\,E_{z}}{\\partial {\\rho}\\partial z} - {\\rho} \\frac{\\partial^2\\,E_{\\phi}}{\\partial {\\rho}\\partial {\\phi}} - \\frac{\\partial\\,E_{\\phi}}{\\partial {\\phi}} + \\frac{\\partial^2\\,E_{\\rho}}{\\partial {\\phi} ^ 2}}{{\\rho}^{2}} \\right) e_{ {\\rho} } + \\left( -\\frac{{\\rho}^{2} \\frac{\\partial^2\\,E_{\\phi}}{\\partial {\\rho} ^ 2} + {\\rho}^{2} \\frac{\\partial^2\\,E_{\\phi}}{\\partial z ^ 2} + {\\rho} \\frac{\\partial\\,E_{\\phi}}{\\partial {\\rho}} - {\\rho} \\frac{\\partial^2\\,E_{\\rho}}{\\partial {\\rho}\\partial {\\phi}} - {\\rho} \\frac{\\partial^2\\,E_{z}}{\\partial {\\phi}\\partial z} - E_{\\phi}\\left({\\rho}, {\\phi}, z\\right) + \\frac{\\partial\\,E_{\\rho}}{\\partial {\\phi}}}{{\\rho}^{2}} \\right) e_{ {\\phi} } + \\left( \\frac{{\\rho}^{2} \\frac{\\partial^2\\,E_{\\rho}}{\\partial {\\rho}\\partial z} - {\\rho}^{2} \\frac{\\partial^2\\,E_{z}}{\\partial {\\rho} ^ 2} + {\\rho} \\frac{\\partial^2\\,E_{\\phi}}{\\partial {\\phi}\\partial z} + {\\rho} \\frac{\\partial\\,E_{\\rho}}{\\partial z} - {\\rho} \\frac{\\partial\\,E_{z}}{\\partial {\\rho}} - \\frac{\\partial^2\\,E_{z}}{\\partial {\\phi} ^ 2}}{{\\rho}^{2}} \\right) e_{ z }$$"
      ],
      "text/plain": [
       "<IPython.core.display.Math object>"
      ]
     },
     "metadata": {},
     "output_type": "display_data"
    }
   ],
   "source": [
    "rot_rot_E = curl(curl(E))\n",
    "display(Math(latex(rot_rot_E.display())))"
   ]
  },
  {
   "cell_type": "code",
   "execution_count": 12,
   "metadata": {},
   "outputs": [
    {
     "name": "stdout",
     "output_type": "stream",
     "text": [
      "curl(curl(E)) = -(rh^2*d^2(E_rho)/dz^2 - rh^2*d^2(E_z)/drhdz - rh*d^2(E_phi)/drhdph - d(E_phi)/dph + d^2(E_rho)/dph^2)/rh^2 e_rh - (rh^2*d^2(E_phi)/drh^2 + rh^2*d^2(E_phi)/dz^2 + rh*d(E_phi)/drh - rh*d^2(E_rho)/drhdph - rh*d^2(E_z)/dphdz - E_phi(rh, ph, z) + d(E_rho)/dph)/rh^2 e_ph + (rh^2*d^2(E_rho)/drhdz - rh^2*d^2(E_z)/drh^2 + rh*d^2(E_phi)/dphdz + rh*d(E_rho)/dz - rh*d(E_z)/drh - d^2(E_z)/dph^2)/rh^2 e_z\n"
     ]
    }
   ],
   "source": [
    "print(rot_rot_E.display())"
   ]
  },
  {
   "cell_type": "raw",
   "metadata": {},
   "source": [
    "curl(curl(E)) = \n",
    "- (rh^2*d^2(E_rho)/dz^2  - rh^2*d^2(E_z)/drhdz  - rh*d^2(E_phi)/drhdph - d(E_phi)/dph         + d^2(E_rho)/dph^2)/rh^2                                    e_rh \n",
    "- (rh^2*d^2(E_phi)/drh^2 + rh^2*d^2(E_phi)/dz^2 + rh*d(E_phi)/drh      - rh*d^2(E_rho)/drhdph - rh*d^2(E_z)/dphdz - E_phi(rh, ph, z) + d(E_rho)/dph)/rh^2 e_ph \n",
    "+ (rh^2*d^2(E_rho)/drhdz - rh^2*d^2(E_z)/drh^2  + rh*d^2(E_phi)/dphdz  + rh*d(E_rho)/dz       - rh*d(E_z)/drh     - d^2(E_z)/dph^2)/rh^2                   e_z"
   ]
  },
  {
   "cell_type": "raw",
   "metadata": {},
   "source": [
    "- curl(curl(E)) =\n",
    "+ (rh^2*d^2(E_rho)/dz^2  - rh^2*d^2(E_z)/drhdz  - rh*d^2(E_phi)/drhdph - d(E_phi)/dph         + d^2(E_rho)/dph^2                                   )/rh^2 # e_rh \n",
    "+ (rh^2*d^2(E_phi)/drh^2 + rh^2*d^2(E_phi)/dz^2 + rh*d(E_phi)/drh      - rh*d^2(E_rho)/drhdph - rh*d^2(E_z)/dphdz - E_phi(rh, ph, z) + d(E_rho)/dph)/rh^2 # e_ph \n",
    "- (rh^2*d^2(E_rho)/drhdz - rh^2*d^2(E_z)/drh^2  + rh*d^2(E_phi)/dphdz  + rh*d(E_rho)/dz       - rh*d(E_z)/drh     - d^2(E_z)/dph^2                 )/rh^2 # e_z"
   ]
  },
  {
   "cell_type": "code",
   "execution_count": null,
   "metadata": {},
   "outputs": [],
   "source": [
    "DE = laplacian(E)\n",
    "DE.display()"
   ]
  },
  {
   "cell_type": "code",
   "execution_count": null,
   "metadata": {},
   "outputs": [],
   "source": [
    "for i in ES.irange():\n",
    "    print(i)\n",
    "    display(Math(latex((DE[i].display()))))\n",
    "    print(DE[i].display())"
   ]
  },
  {
   "cell_type": "code",
   "execution_count": null,
   "metadata": {},
   "outputs": [],
   "source": [
    "omega = var(\"omega\")\n",
    "c = var(\"c\")\n",
    "mu = var(\"mu\")"
   ]
  },
  {
   "cell_type": "code",
   "execution_count": null,
   "metadata": {},
   "outputs": [],
   "source": [
    "epsilon_rh_rh = var(\"epsilon_rh_rh\")"
   ]
  },
  {
   "cell_type": "code",
   "execution_count": null,
   "metadata": {},
   "outputs": [],
   "source": [
    "epsilon_ph_ph = var(\"epsilon_ph_ph\")"
   ]
  },
  {
   "cell_type": "code",
   "execution_count": null,
   "metadata": {},
   "outputs": [],
   "source": [
    "epsilon_z_z = var(\"epsilon_z_z\")"
   ]
  },
  {
   "cell_type": "code",
   "execution_count": null,
   "metadata": {},
   "outputs": [],
   "source": [
    "eq_rh = (DE[1] + mu * epsilon_rh_rh * omega^2 / c^2 * E[1]).expand()"
   ]
  },
  {
   "cell_type": "code",
   "execution_count": null,
   "metadata": {},
   "outputs": [],
   "source": [
    "eq_ph = (DE[2] + mu * epsilon_ph_ph * omega^2 / c^2 * E[2]).expand()"
   ]
  },
  {
   "cell_type": "code",
   "execution_count": null,
   "metadata": {},
   "outputs": [],
   "source": [
    "eq_z = (DE[3] + mu * epsilon_z_z * omega^2 / c^2 * E[3]).expand()"
   ]
  },
  {
   "cell_type": "code",
   "execution_count": null,
   "metadata": {},
   "outputs": [],
   "source": [
    "eq_rh.display()"
   ]
  },
  {
   "cell_type": "code",
   "execution_count": null,
   "metadata": {
    "scrolled": true
   },
   "outputs": [],
   "source": [
    "eq_ph.display()"
   ]
  },
  {
   "cell_type": "code",
   "execution_count": null,
   "metadata": {},
   "outputs": [],
   "source": [
    "eq_z.display()"
   ]
  },
  {
   "cell_type": "markdown",
   "metadata": {},
   "source": [
    "desolve_laplace(eq_z,E[3],ivar=rh)"
   ]
  },
  {
   "cell_type": "code",
   "execution_count": null,
   "metadata": {},
   "outputs": [],
   "source": [
    "k = var(\"k\")\n",
    "m = var(\"m\")\n",
    "# kappa_z^2 = epsilon_z_z * mu * omega^2 / c^2 - k^2\n",
    "kappa_z = var(\"kappa_z\")\n",
    "\n",
    "# kappa_rh^2 = epsilon_rh_rh * mu * omega^2 / c^2 - k^2\n",
    "kappa_rh = var(\"kappa_rh\")\n",
    "\n",
    "# kappa_ph^2 = epsilon_ph_ph * mu * omega^2 / c^2 - k^2\n",
    "kappa_ph = var(\"kappa_ph\")"
   ]
  },
  {
   "cell_type": "code",
   "execution_count": null,
   "metadata": {},
   "outputs": [],
   "source": [
    "eq_z_ex = eq_z.expr().subs(diff(E_z(rh, ph, z), z, z) == -k^2*E_z(rh, ph, z))\n",
    "eq_z_ex"
   ]
  },
  {
   "cell_type": "code",
   "execution_count": null,
   "metadata": {},
   "outputs": [],
   "source": [
    "eq_z_ex = (eq_z_ex.subs(epsilon_z_z * mu * omega^2 * E_z(rh, ph, z) / c^2 == (kappa_z^2 + k^2) * E_z(rh, ph, z))) \\\n",
    "    .full_simplify() \\\n",
    "    .expand()\n",
    "eq_z_ex"
   ]
  },
  {
   "cell_type": "code",
   "execution_count": null,
   "metadata": {},
   "outputs": [],
   "source": [
    "eq_z_ex = eq_z_ex.subs(diff(E_z(rh, ph, z), ph, ph) == -m^2*E_z(rh, ph, z))\n",
    "eq_z_ex"
   ]
  },
  {
   "cell_type": "code",
   "execution_count": null,
   "metadata": {},
   "outputs": [],
   "source": [
    "psi_m = var(\"psi_m\")"
   ]
  },
  {
   "cell_type": "markdown",
   "metadata": {},
   "source": [
    "desolve(eq_z_ex == 0, E_z(rh, ph, z), ivar=rh, contrib_ode=True)"
   ]
  },
  {
   "cell_type": "markdown",
   "metadata": {},
   "source": [
    "E_z(rh, ph, z) = E_z(rh, ph, z)"
   ]
  },
  {
   "cell_type": "code",
   "execution_count": null,
   "metadata": {},
   "outputs": [],
   "source": [
    "E_sol_z(rh, ph, z) = bessel_J(m, kappa_z * rh)*sin(m * ph + psi_m) * exp(-I*k*z)"
   ]
  },
  {
   "cell_type": "code",
   "execution_count": null,
   "metadata": {},
   "outputs": [],
   "source": [
    "E_sol_z(rh, ph, z)"
   ]
  },
  {
   "cell_type": "code",
   "execution_count": null,
   "metadata": {},
   "outputs": [],
   "source": [
    "eq_z_sol_field = laplacian(E_sol_z) + mu * epsilon_z_z * omega^2 / c^2 * E_sol_z"
   ]
  },
  {
   "cell_type": "code",
   "execution_count": null,
   "metadata": {},
   "outputs": [],
   "source": [
    "eq_z_sol.expr().subs(m == 0, psi_m == 0)"
   ]
  },
  {
   "cell_type": "code",
   "execution_count": null,
   "metadata": {},
   "outputs": [],
   "source": [
    "eq_z_sol.expr().subs(m == 1, psi_m == 0).full_simplify().expand()"
   ]
  },
  {
   "cell_type": "code",
   "execution_count": null,
   "metadata": {},
   "outputs": [],
   "source": [
    "eq_rh.expr()"
   ]
  },
  {
   "cell_type": "code",
   "execution_count": null,
   "metadata": {},
   "outputs": [],
   "source": [
    "eq_rh_ex = eq_rh.expr().subs(diff(E_rho(rh, ph, z), z, z) == -k^2*E_rho(rh, ph, z))\n",
    "eq_rh_ex"
   ]
  },
  {
   "cell_type": "code",
   "execution_count": null,
   "metadata": {},
   "outputs": [],
   "source": [
    "eq_rh_ex = (eq_rh_ex.subs(epsilon_rh_rh * mu * omega^2 * E_rho(rh, ph, z) / c^2 == (kappa_rh^2 + k^2) * E_rho(rh, ph, z))).full_simplify().expand()\n",
    "eq_rh_ex"
   ]
  },
  {
   "cell_type": "code",
   "execution_count": null,
   "metadata": {},
   "outputs": [],
   "source": [
    "eq_rh_ex = eq_rh_ex.subs(diff(E_rho(rh, ph, z), ph, ph) == -m^2*E_rho(rh, ph, z))\n",
    "eq_rh_ex"
   ]
  },
  {
   "cell_type": "code",
   "execution_count": null,
   "metadata": {},
   "outputs": [],
   "source": [
    "eq_ph.expr()"
   ]
  },
  {
   "cell_type": "code",
   "execution_count": null,
   "metadata": {},
   "outputs": [],
   "source": [
    "eq_ph_ex = eq_ph.expr().subs(diff(E_phi(rh, ph, z), z, z) == -k^2*E_phi(rh, ph, z))\n",
    "eq_ph_ex"
   ]
  },
  {
   "cell_type": "code",
   "execution_count": null,
   "metadata": {},
   "outputs": [],
   "source": [
    "eq_ph_ex = (eq_ph_ex.subs(epsilon_ph_ph * mu * omega^2 * E_phi(rh, ph, z) / c^2 == (kappa_ph^2 + k^2) * E_phi(rh, ph, z))).full_simplify().expand()\n",
    "eq_ph_ex"
   ]
  },
  {
   "cell_type": "code",
   "execution_count": null,
   "metadata": {},
   "outputs": [],
   "source": [
    "eq_ph_ex = eq_ph_ex.subs(diff(E_phi(rh, ph, z), ph, ph) == -m^2*E_phi(rh, ph, z))\n",
    "eq_ph_ex"
   ]
  },
  {
   "cell_type": "code",
   "execution_count": null,
   "metadata": {},
   "outputs": [],
   "source": [
    "eq_rh_ex"
   ]
  },
  {
   "cell_type": "code",
   "execution_count": null,
   "metadata": {},
   "outputs": [],
   "source": [
    "eq_ph_ex.operands()"
   ]
  },
  {
   "cell_type": "code",
   "execution_count": null,
   "metadata": {},
   "outputs": [],
   "source": [
    "eq_rh_ex.operands()[5] + eq_rh_ex.operands()[2] + eq_rh_ex.operands()[0] + eq_rh_ex.operands()[1]"
   ]
  },
  {
   "cell_type": "code",
   "execution_count": null,
   "metadata": {},
   "outputs": [],
   "source": [
    "eq_ph_ex.operands()[5] + eq_ph_ex.operands()[2] + eq_ph_ex.operands()[0] + eq_ph_ex.operands()[1]"
   ]
  },
  {
   "cell_type": "code",
   "execution_count": null,
   "metadata": {},
   "outputs": [],
   "source": [
    "def bessel_J_diff(m, arg):\n",
    "    return bessel_J(m, x).diff(x).subs(x == arg)"
   ]
  },
  {
   "cell_type": "code",
   "execution_count": null,
   "metadata": {},
   "outputs": [],
   "source": [
    "E_sol_rh(rh, ph, z) = - k / kappa_rh * bessel_J_diff(m, kappa_rh * rh)*sin(m * ph + psi_m)*exp(-I*k*z)"
   ]
  },
  {
   "cell_type": "code",
   "execution_count": null,
   "metadata": {},
   "outputs": [],
   "source": [
    "E_sol_ph(rh, ph, z) = -m * k / kappa_ph^2 / rh * bessel_J(m, kappa_ph * rh)*cos(m * ph + psi_m)*exp(-I*k*z)"
   ]
  },
  {
   "cell_type": "code",
   "execution_count": null,
   "metadata": {},
   "outputs": [],
   "source": [
    "E_sol_rh(rh, ph, z)"
   ]
  },
  {
   "cell_type": "code",
   "execution_count": null,
   "metadata": {},
   "outputs": [],
   "source": [
    "E_sol_ph(rh, ph, z)"
   ]
  },
  {
   "cell_type": "code",
   "execution_count": null,
   "metadata": {},
   "outputs": [],
   "source": [
    "((eq_rh_ex.operands()[3] + eq_rh_ex.operands()[4])*rh^2).full_simplify() == 0"
   ]
  },
  {
   "cell_type": "code",
   "execution_count": null,
   "metadata": {},
   "outputs": [],
   "source": [
    "((eq_ph_ex.operands()[3] + eq_ph_ex.operands()[4])*rh^2).full_simplify() == 0"
   ]
  },
  {
   "cell_type": "code",
   "execution_count": null,
   "metadata": {},
   "outputs": [],
   "source": [
    "((E_sol_rh(rh, ph, z) + 2*E_sol_ph(rh, ph, z).diff(ph))/sin(m * ph + psi_m)/exp(-I*k*z)/k).full_simplify().expand()"
   ]
  },
  {
   "cell_type": "code",
   "execution_count": null,
   "metadata": {},
   "outputs": [],
   "source": [
    "((2*E_sol_rh(rh, ph, z).diff(ph) - E_sol_ph(rh, ph, z))/cos(m * ph + psi_m)/exp(-I*k*z)/k/m).full_simplify().expand()"
   ]
  },
  {
   "cell_type": "code",
   "execution_count": null,
   "metadata": {},
   "outputs": [],
   "source": [
    "E_sol = ES.vector_field(\n",
    "    E_sol_rh(rh, ph, z),\n",
    "    E_sol_ph(rh, ph, z),\n",
    "    E_sol_z(rh, ph, z),\n",
    "    name='E_sol')"
   ]
  },
  {
   "cell_type": "code",
   "execution_count": null,
   "metadata": {},
   "outputs": [],
   "source": [
    "E_sol.display()"
   ]
  },
  {
   "cell_type": "code",
   "execution_count": null,
   "metadata": {},
   "outputs": [],
   "source": [
    "div_E_sol = div(E_sol)\n",
    "div_E_sol.expr()"
   ]
  },
  {
   "cell_type": "code",
   "execution_count": null,
   "metadata": {},
   "outputs": [],
   "source": [
    "div_E_sol.expr().subs(m == 0, psi_m == 0)"
   ]
  },
  {
   "cell_type": "code",
   "execution_count": null,
   "metadata": {},
   "outputs": [],
   "source": [
    "div_E_sol.expr().subs(m == 1, psi_m == 0)"
   ]
  },
  {
   "cell_type": "code",
   "execution_count": null,
   "metadata": {},
   "outputs": [],
   "source": [
    "find_root(bessel_J(0,x)==0,0,2*pi)"
   ]
  },
  {
   "cell_type": "code",
   "execution_count": null,
   "metadata": {
    "scrolled": true
   },
   "outputs": [],
   "source": [
    "p = sage.plot.graphics.Graphics()\n",
    "for i in range(2 ):\n",
    "    p += plot(bessel_J(0, (2+0.5*i)*x),(x,0,4*pi))\n",
    "p.show()"
   ]
  },
  {
   "cell_type": "code",
   "execution_count": null,
   "metadata": {},
   "outputs": [],
   "source": [
    "p = sage.plot.graphics.Graphics()\n",
    "for i in range(1):\n",
    "    p += plot(bessel_J(i, x),(x,0,4*pi))\n",
    "    p += plot(bessel_J(i, x).diff(x),(x,0,4*pi))\n",
    "    p += plot(bessel_J(i, x).diff(x) / bessel_J(i, x),(x,0,4*pi), ymin = -1, ymax = 1)\n",
    "p.show()"
   ]
  },
  {
   "cell_type": "code",
   "execution_count": null,
   "metadata": {},
   "outputs": [],
   "source": [
    "eq_z = eq_z.subs()\n",
    "\n",
    "eq_z.subs(epsilon_z_z * mu * omega^2 / c^2 == kappa_z^2 + k^2)"
   ]
  },
  {
   "cell_type": "code",
   "execution_count": null,
   "metadata": {},
   "outputs": [],
   "source": [
    "p = sage.plot.graphics.Graphics()\n",
    "for i in range(4):\n",
    "    p += plot(bessel_J(i, x).diff(x),(x,0,4*pi))\n",
    "p.show()⁰"
   ]
  },
  {
   "cell_type": "code",
   "execution_count": null,
   "metadata": {},
   "outputs": [],
   "source": [
    "display(Math(latex(bessel_J(1, x).diff(x))))"
   ]
  },
  {
   "cell_type": "code",
   "execution_count": null,
   "metadata": {},
   "outputs": [],
   "source": [
    "bessel_J(1, x).diff(x)"
   ]
  },
  {
   "cell_type": "code",
   "execution_count": null,
   "metadata": {},
   "outputs": [],
   "source": [
    "bessel_J(0, x).diff(x).full_simplify()"
   ]
  },
  {
   "cell_type": "code",
   "execution_count": null,
   "metadata": {},
   "outputs": [],
   "source": [
    "p = sage.plot.graphics.Graphics()\n",
    "p += plot(bessel_J(3, x),(x,0,4*pi))\n",
    "p.show()"
   ]
  },
  {
   "cell_type": "code",
   "execution_count": null,
   "metadata": {},
   "outputs": [],
   "source": [
    "p = sage.plot.graphics.Graphics()\n",
    "p += plot(bessel_J(-3, x),(x,0,4*pi))\n",
    "p.show()"
   ]
  },
  {
   "cell_type": "code",
   "execution_count": null,
   "metadata": {},
   "outputs": [],
   "source": [
    "p = sage.plot.graphics.Graphics()\n",
    "p += plot(bessel_J(1, x) + bessel_J(-1, x),(x,0,4*pi))\n",
    "p.show()"
   ]
  },
  {
   "cell_type": "code",
   "execution_count": null,
   "metadata": {},
   "outputs": [],
   "source": []
  }
 ],
 "metadata": {
  "kernelspec": {
   "display_name": "SageMath 9.6.beta7",
   "language": "sage",
   "name": "sagemath"
  },
  "language_info": {
   "codemirror_mode": {
    "name": "ipython",
    "version": 3
   },
   "file_extension": ".py",
   "mimetype": "text/x-python",
   "name": "python",
   "nbconvert_exporter": "python",
   "pygments_lexer": "ipython3",
   "version": "3.10.3"
  }
 },
 "nbformat": 4,
 "nbformat_minor": 4
}
