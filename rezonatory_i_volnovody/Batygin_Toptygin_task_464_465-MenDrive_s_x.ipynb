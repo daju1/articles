{
 "cells": [
  {
   "cell_type": "markdown",
   "metadata": {},
   "source": [
    "# Электродинамический расчёт волнового двигателя с внутренним расходом энергии Ф.Ф.Менде (MenDrive)\n",
    "\n",
    "А.Ю.Дроздов"
   ]
  },
  {
   "cell_type": "markdown",
   "metadata": {},
   "source": [
    "Основываясь на решении задач из задачника Батыгина Топтыгина\n",
    "\n",
    "Batygin_Toptygin_task_464_465.sage\n",
    "\n",
    "В. В. БАТЫГИН, И. Н. ТОПТЫГИН\n",
    "СБОРНИК ЗАДАЧ\n",
    "по\n",
    "ЭЛЕКТРОДИНАМИКЕ\n",
    "МОСКВА 1970\n",
    "\n",
    "512. Бесконечно протяженный диэлектрический слой заполняет в вакууме область $-a<=x<=a$ и имеет проницаемости $\\epsilon$ и $\\mu$.\n",
    "Показать, что такой слой может действовать как волновод (для этого нужно, чтобы поле бегущей электромагнитной волны концентрировалось, в основном, внутри слоя). Определить типы волн, которые могут распространяться в таком волноводе. Ограничиться случаем, когда векторы поля не зависят от координаты $y$.\n",
    "\n",
    "513. Диэлектрический слой с проницаемостями $\\epsilon$, $\\mu$, заполняющий область $0<=x<=a$, нанесен на поверхность идеального\n",
    "проводника. В области $x>a$ - вакуум. Какие типы электромагнитных волн с амплитудой, убывающей при удалении от слоя, могут распространяться вдоль слоя? Сравнить возможные типы волн с системой волн, полученной в предыдущей задаче.\n",
    "\n",
    "В издании 1962 года номера этих задач 464 и 465"
   ]
  },
  {
   "cell_type": "markdown",
   "metadata": {},
   "source": [
    "рассчитаем тягу в\n",
    "\n",
    "http://fmnauka.narod.ru/dvigatel_emdrive.pdf\n",
    "\n",
    "Ф.Ф. МЕНДЕ, ВОЛНОВОЙ ДВИГАТЕЛЬ С ВНУТРЕННИМ РАСХОДОМ ЭНЕРГИИ ЭЛЕКТРОМАГНИТНЫХ КОЛЕБАНИЙ"
   ]
  },
  {
   "cell_type": "markdown",
   "metadata": {},
   "source": [
    "геометрия задачи следующая: \n",
    "\n",
    "поверхность идеального проводника $x<=0$\n",
    "\n",
    "вакуума внутри резонатора заполняет область $0<=x<=a$\n",
    "\n",
    "В области $x>a$ - плохой проводник"
   ]
  },
  {
   "cell_type": "markdown",
   "metadata": {},
   "source": [
    "$$rot\\,\\vec{E} = \\mu\\,\\frac{i\\,\\omega}{c}\\,\\vec{H}$$\n",
    "\n",
    "$$rot\\,\\vec{H} = - \\frac{i\\,\\omega}{c} \\epsilon \\vec{E}$$\n",
    "\n",
    "$$rot\\,rot\\,\\vec{E} = \\mu\\,\\frac{i\\,\\omega}{c}rot\\,\\vec{H}$$\n",
    "\n",
    "$$rot\\,rot\\,\\vec{E} = \\mu\\,\\frac{i\\,\\omega}{c}\\left(- \\frac{i\\,\\omega}{c} \\epsilon \\vec{E}\\right)$$\n",
    "\n",
    "$$rot\\,rot\\,\\vec{E} = \\mu\\,\\frac{\\omega^2}{c^2} \\epsilon \\vec{E}$$\n",
    "\n",
    "$$rot\\,rot\\,\\vec{E} = grad\\,div\\,\\vec{E} - Laplasian\\,\\vec{E}$$\n",
    "\n",
    "$$Laplasian\\,\\vec{E} + \\frac{\\mu \\epsilon \\omega^2}{c^2}\\,\\vec{E} - grad\\,div\\,\\vec{E} = 0$$\n"
   ]
  },
  {
   "cell_type": "markdown",
   "metadata": {},
   "source": [
    "$$div\\,\\vec{E} = - \\frac{\\vec{n}}{c} \\frac{\\partial \\vec E}{\\partial t}$$\n",
    "\n",
    "$$grad\\,div\\,\\vec{E} = - grad\\,\\frac{\\vec{n}}{c} \\frac{\\partial \\vec E}{\\partial t}$$\n",
    "\n",
    "для вакуума внутри резонатора ищем решение в виде\n",
    "\n",
    "$$\\vec{E} = \\vec{E}(x)\\,e^{i\\,k\\,z}\\,e^{-i\\,\\omega\\,t}$$"
   ]
  },
  {
   "cell_type": "markdown",
   "metadata": {},
   "source": [
    "подставляя в исходное уравнение приходим к обыкновенному дифференциальному уравнению\n",
    "\n",
    "$$\\frac{\\partial^{2}}{(\\partial {x})^{2}}\\vec{E}(x) + \\left(\\frac{\\mu \\epsilon \\omega^2}{c^2} - {k'_z}^2\\right)\\,\\vec{E}(x) - grad\\,div\\,\\vec{E} = 0$$"
   ]
  },
  {
   "cell_type": "markdown",
   "metadata": {},
   "source": [
    "для вакуума внутри резонатора производим следующую замену переменных\n",
    "\n",
    "$$\\kappa^2 = \\frac{\\mu \\epsilon \\omega^2}{c^2} - {k'_z}^2$$\n",
    "\n",
    "$$\\kappa^2 = \\frac{\\mu \\epsilon \\omega^2}{c^2} - \\left(k_z + i\\,s_z\\right)^2$$\n",
    "\n",
    "\n",
    "теперь получаем дифференциальное уравнение для вакуума внутри резонатора\n",
    "\n",
    "$$\\frac{\\partial^{2}}{(\\partial {x})^{2}}\\vec{E}(x) + \\kappa^2\\,\\vec{E}(x) = 0$$"
   ]
  },
  {
   "cell_type": "code",
   "execution_count": null,
   "metadata": {},
   "outputs": [],
   "source": []
  },
  {
   "cell_type": "markdown",
   "metadata": {},
   "source": [
    "для проводящего металла с потерями ищем решение в виде\n",
    "\n",
    "$$\\vec{E} = \\vec{E}\\,e^{i\\,k'_x\\,x}\\,e^{i\\,k'_z\\,z}\\,e^{-i\\,\\omega\\,t}$$\n",
    "\n",
    "в котором волновой вектор, направленный вдоль оси z комплексный $k'_z = k_z + i\\,s_z$, как и волновой вектор, направленный вдоль оси x может быть комплексным $k'_x = k_x + i\\,s_x$\n",
    "\n",
    "$$\\vec{E} = \\vec{E}\\,e^{i\\,(k_x + i\\,s_x)\\,(x-a)}\\,e^{i\\,(k_z + i\\,s_z)\\,z}\\,e^{-i\\,\\omega\\,t}$$"
   ]
  },
  {
   "cell_type": "code",
   "execution_count": null,
   "metadata": {},
   "outputs": [],
   "source": []
  },
  {
   "cell_type": "markdown",
   "metadata": {},
   "source": [
    "принимая модель комплексного представления диэлектрической проницаемости $\\epsilon' = \\epsilon + \\frac{4\\pi\\,\\sigma}{\\omega}\\,i$ (плохой проводник)"
   ]
  },
  {
   "cell_type": "markdown",
   "metadata": {},
   "source": [
    "подставляем решение в\n",
    "\n",
    "$$Laplasian\\,\\vec{E} + \\frac{\\mu \\omega^2}{c^2}\\left(\\epsilon + \\frac{4\\pi\\,\\sigma}{\\omega}\\,i\\right)\\,\\vec{E} - grad\\,div\\,\\vec{E} = 0$$\n",
    "\n",
    "и принимая\n",
    "\n",
    "$$div\\,\\vec{E} = - \\frac{\\vec{n}}{c} \\frac{\\partial \\vec E}{\\partial t}$$"
   ]
  },
  {
   "cell_type": "markdown",
   "metadata": {},
   "source": [
    "приходим к\n",
    "\n",
    "$$-{k'_x}^{2}\\vec{E} + \\left(\\frac{\\mu \\omega^2}{c^2}\\left(\\epsilon + \\frac{4\\pi\\,\\sigma}{\\omega}\\,i\\right) - {k'_z}^2\\right)\\,\\vec{E} - grad\\, \\left(\\frac{\\vec{n}}{c} \\frac{\\partial \\vec E}{\\partial t} \\right) = 0$$"
   ]
  },
  {
   "cell_type": "markdown",
   "metadata": {},
   "source": [
    "$${k'_x}^2=\\left(k_x + i\\,s_x \\right)^2 = k_x^2 - s_x^2 + 2\\,i\\,k_x\\,s_x$$"
   ]
  },
  {
   "cell_type": "markdown",
   "metadata": {},
   "source": [
    "$${k'_z}^2=\\left(k_z + i\\,s_z \\right)^2 = k_z^2 - s_z^2 + 2\\,i\\,k_z\\,s_z$$"
   ]
  },
  {
   "cell_type": "markdown",
   "metadata": {},
   "source": [
    "приходим к\n",
    "\n",
    "$$- {k'_x}^{2} + \\left(\\frac{\\mu \\omega^2}{c^2}\\epsilon + \\frac{\\mu \\omega^2}{c^2}\\frac{4\\pi\\,\\sigma}{\\omega}\\,i - {k'_z}^{2}\\right) = 0$$\n"
   ]
  },
  {
   "cell_type": "markdown",
   "metadata": {},
   "source": [
    "приходим к\n",
    "\n",
    "$$-\\left(k_x^2 - s_x^2 + 2\\,i\\,k_x\\,s_x\\right) + \\left(\\frac{\\mu \\omega^2}{c^2}\\epsilon + \\frac{\\mu \\omega^2}{c^2}\\frac{4\\pi\\,\\sigma}{\\omega}\\,i - \\left(k_z^2 - s_z^2 + 2\\,i\\,k_z\\,s_z\\right)\\right) = 0$$\n"
   ]
  },
  {
   "cell_type": "markdown",
   "metadata": {},
   "source": [
    "поскольку должны быть равны нулю как действительная так и мнимая части этого равенства, то\n",
    "\n",
    "$$\\frac{\\mu \\omega^2}{c^2}\\frac{4\\pi\\,\\sigma}{\\omega}\\,i - 2\\,i\\,k_x\\,s_x - 2\\,i\\,k_z\\,s_z = 0$$"
   ]
  },
  {
   "cell_type": "markdown",
   "metadata": {},
   "source": [
    "и\n",
    "\n",
    "$$\\left(\\frac{\\mu \\omega^2}{c^2}\\epsilon - \\left(k_z^2 - s_z^2\\right)\\right) - \\left(k_x^2 - s_x^2 \\right) = 0$$"
   ]
  },
  {
   "cell_type": "markdown",
   "metadata": {},
   "source": [
    "откуда"
   ]
  },
  {
   "cell_type": "markdown",
   "metadata": {},
   "source": [
    "$$ 2\\,i\\,\\left(k_x\\,s_x + k_z\\,s_z\\right) = \\frac{\\mu \\omega}{c^2}{4\\pi\\,\\sigma}\\,i$$"
   ]
  },
  {
   "cell_type": "markdown",
   "metadata": {},
   "source": [
    "и\n",
    "\n",
    "$$\\frac{\\mu \\omega^2}{c^2}\\epsilon - \\left(k_z^2 + k_x^2\\right) + \\left(s_x^2+s_z^2\\right) = 0$$"
   ]
  },
  {
   "cell_type": "code",
   "execution_count": 1,
   "metadata": {},
   "outputs": [],
   "source": [
    "from IPython.display import display, Math, Latex\n",
    "\n",
    "mu = var('mu')\n",
    "assume(mu, 'real')\n",
    "assume(mu>0)\n",
    "\n",
    "epsilon = var('epsilon')\n",
    "assume(epsilon, 'real')\n",
    "assume(epsilon>0)\n",
    "\n",
    "sigma = var('sigma')\n",
    "assume(sigma, 'real')\n",
    "assume(sigma>0)\n",
    "\n",
    "sx = var ('sx')\n",
    "assume(sx, 'real')\n",
    "assume(sx>0)\n",
    "\n",
    "sz = var ('sz')\n",
    "assume(sz, 'real')\n",
    "assume(sz>0)\n",
    "\n",
    "kappa = var ('kappa')\n",
    "assume(kappa, 'real')\n",
    "assume(kappa>0)\n",
    "\n",
    "kx = var ('kx')\n",
    "assume(kx, 'real')\n",
    "\n",
    "kz = var ('kz')\n",
    "assume(kz, 'real')\n",
    "\n",
    "k__x = var ('k__x')\n",
    "assume(k__x, 'complex')\n",
    "\n",
    "k__z = var ('k__z')\n",
    "assume(k__z, 'complex')\n",
    "\n",
    "a = var('a')\n",
    "assume(a, 'real')\n",
    "assume(a>0)\n",
    "\n",
    "x = var('x')\n",
    "y = var('y')\n",
    "z = var('z')\n",
    "\n",
    "assume(x, 'real')\n",
    "assume(y, 'real')\n",
    "assume(z, 'real')\n",
    "\n",
    "c = var('c')\n",
    "assume(c, 'real')\n",
    "assume(c>0)\n",
    "\n",
    "omega = var('omega')\n",
    "assume(omega, 'real')"
   ]
  },
  {
   "cell_type": "markdown",
   "metadata": {},
   "source": [
    "$$\\kappa^2 = \\frac{\\mu \\epsilon \\omega^2}{c^2} - \\left(k_z + i\\,s_z\\right)^2$$"
   ]
  },
  {
   "cell_type": "code",
   "execution_count": 2,
   "metadata": {},
   "outputs": [
    {
     "name": "stdout",
     "output_type": "stream",
     "text": [
      "eq_kappa_inner_vacuum =\n"
     ]
    },
    {
     "data": {
      "text/latex": [
       "$\\displaystyle -{\\left(\\mathit{kz} + i \\, \\mathit{sz}\\right)}^{2} + \\frac{\\omega^{2}}{c^{2}} = \\kappa^{2}$"
      ],
      "text/plain": [
       "<IPython.core.display.Math object>"
      ]
     },
     "metadata": {},
     "output_type": "display_data"
    }
   ],
   "source": [
    "# исходя из вида дифференциальных уравнений для вакуума внутри резонатора и проводящего металла с потерями\n",
    "# записываем соотнощения для волнового вектора в виде уравнений\n",
    "eq_kappa_inner_vacuum = omega^2 / c^2 - (kz + I*sz)^2 == kappa^2\n",
    "print(\"eq_kappa_inner_vacuum =\")\n",
    "display(Math(latex(eq_kappa_inner_vacuum)))"
   ]
  },
  {
   "cell_type": "code",
   "execution_count": null,
   "metadata": {},
   "outputs": [],
   "source": []
  },
  {
   "cell_type": "markdown",
   "metadata": {},
   "source": [
    "приходим к\n",
    "\n",
    "$$- {k'_x}^{2} + \\left(\\frac{\\mu \\omega^2}{c^2}\\epsilon + \\frac{\\mu \\omega^2}{c^2}\\frac{4\\pi\\,\\sigma}{\\omega}\\,i - {k'_z}^{2}\\right) = 0$$\n"
   ]
  },
  {
   "cell_type": "markdown",
   "metadata": {},
   "source": [
    "$$\\frac{\\mu \\omega^2}{c^2}\\epsilon - \\left(k_z^2 + k_x^2\\right) + \\left(s_x^2+s_z^2\\right) = 0$$"
   ]
  },
  {
   "cell_type": "markdown",
   "metadata": {},
   "source": [
    "$$ \\left(k_x\\,s_x + k_z\\,s_z\\right) = {2\\pi\\,\\sigma}\\frac{\\mu \\omega}{c^2}$$"
   ]
  },
  {
   "cell_type": "code",
   "execution_count": 3,
   "metadata": {},
   "outputs": [
    {
     "name": "stdout",
     "output_type": "stream",
     "text": [
      "eq_bad_conductor =\n"
     ]
    },
    {
     "data": {
      "text/latex": [
       "$\\displaystyle -k_{_{x}}^{2} - k_{_{z}}^{2} + \\frac{\\epsilon \\mu \\omega^{2}}{c^{2}} + \\frac{4 i \\, \\pi \\mu \\omega \\sigma}{c^{2}} = 0$"
      ],
      "text/plain": [
       "<IPython.core.display.Math object>"
      ]
     },
     "metadata": {},
     "output_type": "display_data"
    },
    {
     "name": "stdout",
     "output_type": "stream",
     "text": [
      "eq_k_bad_conductor =\n"
     ]
    },
    {
     "data": {
      "text/latex": [
       "$\\displaystyle -\\mathit{kx}^{2} - \\mathit{kz}^{2} + \\frac{\\epsilon \\mu \\omega^{2}}{c^{2}} + \\mathit{sx}^{2} + \\mathit{sz}^{2} = 0$"
      ],
      "text/plain": [
       "<IPython.core.display.Math object>"
      ]
     },
     "metadata": {},
     "output_type": "display_data"
    },
    {
     "name": "stdout",
     "output_type": "stream",
     "text": [
      "eq_s_bad_conductor =\n"
     ]
    },
    {
     "data": {
      "text/latex": [
       "$\\displaystyle \\mathit{kx} \\mathit{sx} + \\mathit{kz} \\mathit{sz} = \\frac{2 \\, \\pi \\mu \\omega \\sigma}{c^{2}}$"
      ],
      "text/plain": [
       "<IPython.core.display.Math object>"
      ]
     },
     "metadata": {},
     "output_type": "display_data"
    }
   ],
   "source": [
    "eq_bad_conductor   = mu * epsilon * omega^2 / c^2 + 4*pi*sigma * mu * omega / c^2 * I - k__z^2 - k__x^2 == 0\n",
    "eq_k_bad_conductor = mu * epsilon * omega^2 / c^2 - (kx^2 + kz^2) + (sx^2 + sz^2) == 0\n",
    "eq_s_bad_conductor = kx * sx + kz * sz == 2*pi*sigma * mu * omega / c^2\n",
    "\n",
    "print(\"eq_bad_conductor =\")\n",
    "display(Math(latex(eq_bad_conductor)))\n",
    "\n",
    "print(\"eq_k_bad_conductor =\")\n",
    "display(Math(latex(eq_k_bad_conductor)))\n",
    "\n",
    "print(\"eq_s_bad_conductor =\")\n",
    "display(Math(latex(eq_s_bad_conductor)))"
   ]
  },
  {
   "cell_type": "markdown",
   "metadata": {},
   "source": []
  },
  {
   "cell_type": "code",
   "execution_count": 4,
   "metadata": {},
   "outputs": [
    {
     "name": "stdout",
     "output_type": "stream",
     "text": [
      "omega_sol_k =\n"
     ]
    },
    {
     "data": {
      "text/latex": [
       "$\\displaystyle \\left[\\omega = -c \\sqrt{\\frac{\\mathit{kx}^{2}}{\\epsilon \\mu} + \\frac{\\mathit{kz}^{2}}{\\epsilon \\mu} - \\frac{\\mathit{sx}^{2}}{\\epsilon \\mu} - \\frac{\\mathit{sz}^{2}}{\\epsilon \\mu}}, \\omega = c \\sqrt{\\frac{\\mathit{kx}^{2}}{\\epsilon \\mu} + \\frac{\\mathit{kz}^{2}}{\\epsilon \\mu} - \\frac{\\mathit{sx}^{2}}{\\epsilon \\mu} - \\frac{\\mathit{sz}^{2}}{\\epsilon \\mu}}\\right]$"
      ],
      "text/plain": [
       "<IPython.core.display.Math object>"
      ]
     },
     "metadata": {},
     "output_type": "display_data"
    },
    {
     "name": "stdout",
     "output_type": "stream",
     "text": [
      "omega_sol_s =\n"
     ]
    },
    {
     "data": {
      "text/latex": [
       "$\\displaystyle \\left[\\omega = \\frac{c^{2} \\mathit{kx} \\mathit{sx} + c^{2} \\mathit{kz} \\mathit{sz}}{2 \\, \\pi \\mu \\sigma}\\right]$"
      ],
      "text/plain": [
       "<IPython.core.display.Math object>"
      ]
     },
     "metadata": {},
     "output_type": "display_data"
    },
    {
     "name": "stdout",
     "output_type": "stream",
     "text": [
      "omega2_sol =\n"
     ]
    },
    {
     "data": {
      "text/latex": [
       "$\\displaystyle \\left[\\omega^{2} = \\frac{c^{2} k_{_{x}}^{2} + c^{2} k_{_{z}}^{2} - 4 i \\, \\pi \\mu \\omega \\sigma}{\\epsilon \\mu}\\right]$"
      ],
      "text/plain": [
       "<IPython.core.display.Math object>"
      ]
     },
     "metadata": {},
     "output_type": "display_data"
    }
   ],
   "source": [
    "#sx_bad_conductor = solve(eq_s_bad_conductor, s_x)\n",
    "#print(\"sx_bad_conductor =\")\n",
    "#display(Math(latex(sx_bad_conductor)))\n",
    "\n",
    "#sz_bad_conductor = solve(eq_s_bad_conductor, s_z)\n",
    "#print(\"sz_bad_conductor =\")\n",
    "#display(Math(latex(sz_bad_conductor)))\n",
    "\n",
    "omega_sol_k = solve(eq_k_bad_conductor, omega)\n",
    "print(\"omega_sol_k =\")\n",
    "display(Math(latex(omega_sol_k)))\n",
    "\n",
    "omega_sol_s = solve(eq_s_bad_conductor, omega)\n",
    "print(\"omega_sol_s =\")\n",
    "display(Math(latex(omega_sol_s)))\n",
    "\n",
    "omega2_sol = solve(eq_bad_conductor, omega^2)\n",
    "print(\"omega2_sol =\")\n",
    "display(Math(latex(omega2_sol)))\n"
   ]
  },
  {
   "cell_type": "code",
   "execution_count": null,
   "metadata": {},
   "outputs": [],
   "source": []
  },
  {
   "cell_type": "code",
   "execution_count": 5,
   "metadata": {},
   "outputs": [
    {
     "name": "stdout",
     "output_type": "stream",
     "text": [
      "eq0_omega =\n"
     ]
    },
    {
     "data": {
      "text/latex": [
       "$\\displaystyle -c \\sqrt{\\frac{\\mathit{kx}^{2}}{\\epsilon \\mu} + \\frac{\\mathit{kz}^{2}}{\\epsilon \\mu} - \\frac{\\mathit{sx}^{2}}{\\epsilon \\mu} - \\frac{\\mathit{sz}^{2}}{\\epsilon \\mu}} = \\frac{c^{2} \\mathit{kx} \\mathit{sx} + c^{2} \\mathit{kz} \\mathit{sz}}{2 \\, \\pi \\mu \\sigma}$"
      ],
      "text/plain": [
       "<IPython.core.display.Math object>"
      ]
     },
     "metadata": {},
     "output_type": "display_data"
    }
   ],
   "source": [
    "eq0_omega = omega_sol_k[0].rhs() == omega_sol_s[0].rhs()\n",
    "print(\"eq0_omega =\")\n",
    "display(Math(latex(eq0_omega)))"
   ]
  },
  {
   "cell_type": "code",
   "execution_count": 6,
   "metadata": {},
   "outputs": [
    {
     "name": "stdout",
     "output_type": "stream",
     "text": [
      "eq1_omega =\n"
     ]
    },
    {
     "data": {
      "text/latex": [
       "$\\displaystyle c \\sqrt{\\frac{\\mathit{kx}^{2}}{\\epsilon \\mu} + \\frac{\\mathit{kz}^{2}}{\\epsilon \\mu} - \\frac{\\mathit{sx}^{2}}{\\epsilon \\mu} - \\frac{\\mathit{sz}^{2}}{\\epsilon \\mu}} = \\frac{c^{2} \\mathit{kx} \\mathit{sx} + c^{2} \\mathit{kz} \\mathit{sz}}{2 \\, \\pi \\mu \\sigma}$"
      ],
      "text/plain": [
       "<IPython.core.display.Math object>"
      ]
     },
     "metadata": {},
     "output_type": "display_data"
    }
   ],
   "source": [
    "eq1_omega = omega_sol_k[1].rhs() == omega_sol_s[0].rhs()\n",
    "print(\"eq1_omega =\")\n",
    "display(Math(latex(eq1_omega)))"
   ]
  },
  {
   "cell_type": "code",
   "execution_count": 7,
   "metadata": {},
   "outputs": [
    {
     "name": "stdout",
     "output_type": "stream",
     "text": [
      "eq2_omega =\n"
     ]
    },
    {
     "data": {
      "text/latex": [
       "$\\displaystyle c^{2} {\\left(\\frac{\\mathit{kx}^{2}}{\\epsilon \\mu} + \\frac{\\mathit{kz}^{2}}{\\epsilon \\mu} - \\frac{\\mathit{sx}^{2}}{\\epsilon \\mu} - \\frac{\\mathit{sz}^{2}}{\\epsilon \\mu}\\right)} = \\frac{{\\left(c^{2} \\mathit{kx} \\mathit{sx} + c^{2} \\mathit{kz} \\mathit{sz}\\right)}^{2}}{4 \\, \\pi^{2} \\mu^{2} \\sigma^{2}}$"
      ],
      "text/plain": [
       "<IPython.core.display.Math object>"
      ]
     },
     "metadata": {},
     "output_type": "display_data"
    }
   ],
   "source": [
    "eq2_omega = omega_sol_k[1].rhs()^2 == omega_sol_s[0].rhs()^2\n",
    "print(\"eq2_omega =\")\n",
    "display(Math(latex(eq2_omega)))"
   ]
  },
  {
   "cell_type": "code",
   "execution_count": null,
   "metadata": {},
   "outputs": [],
   "source": []
  },
  {
   "cell_type": "code",
   "execution_count": 8,
   "metadata": {},
   "outputs": [
    {
     "name": "stdout",
     "output_type": "stream",
     "text": [
      "sx_bad_conductor =\n"
     ]
    },
    {
     "data": {
      "text/latex": [
       "$\\displaystyle \\left[\\mathit{sx} = -\\frac{c^{2} \\epsilon \\mathit{kx} \\mathit{kz} \\mathit{sz} + 2 \\, \\pi \\sqrt{4 \\, {\\left(\\pi^{2} \\mathit{kx}^{2} + \\pi^{2} \\mathit{kz}^{2}\\right)} \\mu^{2} \\sigma^{2} - {\\left(4 \\, \\pi^{2} \\mu^{2} \\sigma^{2} + {\\left(c^{2} \\epsilon \\mathit{kx}^{2} + c^{2} \\epsilon \\mathit{kz}^{2}\\right)} \\mu\\right)} \\mathit{sz}^{2} + {\\left(c^{2} \\epsilon \\mathit{kx}^{4} + c^{2} \\epsilon \\mathit{kx}^{2} \\mathit{kz}^{2}\\right)} \\mu} \\sigma}{c^{2} \\epsilon \\mathit{kx}^{2} + 4 \\, \\pi^{2} \\mu \\sigma^{2}}, \\mathit{sx} = -\\frac{c^{2} \\epsilon \\mathit{kx} \\mathit{kz} \\mathit{sz} - 2 \\, \\pi \\sqrt{4 \\, {\\left(\\pi^{2} \\mathit{kx}^{2} + \\pi^{2} \\mathit{kz}^{2}\\right)} \\mu^{2} \\sigma^{2} - {\\left(4 \\, \\pi^{2} \\mu^{2} \\sigma^{2} + {\\left(c^{2} \\epsilon \\mathit{kx}^{2} + c^{2} \\epsilon \\mathit{kz}^{2}\\right)} \\mu\\right)} \\mathit{sz}^{2} + {\\left(c^{2} \\epsilon \\mathit{kx}^{4} + c^{2} \\epsilon \\mathit{kx}^{2} \\mathit{kz}^{2}\\right)} \\mu} \\sigma}{c^{2} \\epsilon \\mathit{kx}^{2} + 4 \\, \\pi^{2} \\mu \\sigma^{2}}\\right]$"
      ],
      "text/plain": [
       "<IPython.core.display.Math object>"
      ]
     },
     "metadata": {},
     "output_type": "display_data"
    },
    {
     "data": {
      "text/latex": [
       "$\\displaystyle \\left(c, \\epsilon, \\mathit{kx}, \\mathit{kz}, \\mu, \\sigma, \\mathit{sz}\\right)$"
      ],
      "text/plain": [
       "<IPython.core.display.Math object>"
      ]
     },
     "metadata": {},
     "output_type": "display_data"
    }
   ],
   "source": [
    "sx_bad_conductor = solve(eq2_omega, sx)\n",
    "print(\"sx_bad_conductor =\")\n",
    "display(Math(latex(sx_bad_conductor)))\n",
    "\n",
    "display(Math(latex(sx_bad_conductor[0].rhs().variables())))"
   ]
  },
  {
   "cell_type": "code",
   "execution_count": 9,
   "metadata": {},
   "outputs": [
    {
     "name": "stdout",
     "output_type": "stream",
     "text": [
      "sz_bad_conductor =\n"
     ]
    },
    {
     "data": {
      "text/latex": [
       "$\\displaystyle \\left[\\mathit{sz} = -\\frac{c^{2} \\epsilon \\mathit{kx} \\mathit{kz} \\mathit{sx} + 2 \\, \\pi \\sqrt{4 \\, {\\left(\\pi^{2} \\mathit{kx}^{2} + \\pi^{2} \\mathit{kz}^{2}\\right)} \\mu^{2} \\sigma^{2} - {\\left(4 \\, \\pi^{2} \\mu^{2} \\sigma^{2} + {\\left(c^{2} \\epsilon \\mathit{kx}^{2} + c^{2} \\epsilon \\mathit{kz}^{2}\\right)} \\mu\\right)} \\mathit{sx}^{2} + {\\left(c^{2} \\epsilon \\mathit{kx}^{2} \\mathit{kz}^{2} + c^{2} \\epsilon \\mathit{kz}^{4}\\right)} \\mu} \\sigma}{c^{2} \\epsilon \\mathit{kz}^{2} + 4 \\, \\pi^{2} \\mu \\sigma^{2}}, \\mathit{sz} = -\\frac{c^{2} \\epsilon \\mathit{kx} \\mathit{kz} \\mathit{sx} - 2 \\, \\pi \\sqrt{4 \\, {\\left(\\pi^{2} \\mathit{kx}^{2} + \\pi^{2} \\mathit{kz}^{2}\\right)} \\mu^{2} \\sigma^{2} - {\\left(4 \\, \\pi^{2} \\mu^{2} \\sigma^{2} + {\\left(c^{2} \\epsilon \\mathit{kx}^{2} + c^{2} \\epsilon \\mathit{kz}^{2}\\right)} \\mu\\right)} \\mathit{sx}^{2} + {\\left(c^{2} \\epsilon \\mathit{kx}^{2} \\mathit{kz}^{2} + c^{2} \\epsilon \\mathit{kz}^{4}\\right)} \\mu} \\sigma}{c^{2} \\epsilon \\mathit{kz}^{2} + 4 \\, \\pi^{2} \\mu \\sigma^{2}}\\right]$"
      ],
      "text/plain": [
       "<IPython.core.display.Math object>"
      ]
     },
     "metadata": {},
     "output_type": "display_data"
    },
    {
     "data": {
      "text/latex": [
       "$\\displaystyle \\left(c, \\epsilon, \\mathit{kx}, \\mathit{kz}, \\mu, \\sigma, \\mathit{sx}\\right)$"
      ],
      "text/plain": [
       "<IPython.core.display.Math object>"
      ]
     },
     "metadata": {},
     "output_type": "display_data"
    }
   ],
   "source": [
    "sz_bad_conductor = solve(eq2_omega, sz)\n",
    "print(\"sz_bad_conductor =\")\n",
    "display(Math(latex(sz_bad_conductor)))\n",
    "\n",
    "display(Math(latex(sz_bad_conductor[0].rhs().variables())))"
   ]
  },
  {
   "cell_type": "code",
   "execution_count": 10,
   "metadata": {},
   "outputs": [
    {
     "name": "stdout",
     "output_type": "stream",
     "text": [
      "kx_bad_conductor =\n"
     ]
    },
    {
     "data": {
      "text/latex": [
       "$\\displaystyle \\left[\\mathit{kx} = \\frac{c^{2} \\epsilon \\mathit{kz} \\mathit{sx} \\mathit{sz} - 2 \\, \\pi \\sqrt{-4 \\, \\pi^{2} \\mathit{kz}^{2} \\mu^{2} \\sigma^{2} - c^{2} \\epsilon \\mu \\mathit{sx}^{4} + {\\left(c^{2} \\epsilon \\mathit{kz}^{2} \\mu + 4 \\, \\pi^{2} \\mu^{2} \\sigma^{2}\\right)} \\mathit{sx}^{2} + {\\left(c^{2} \\epsilon \\mathit{kz}^{2} \\mu + 4 \\, \\pi^{2} \\mu^{2} \\sigma^{2} - c^{2} \\epsilon \\mu \\mathit{sx}^{2}\\right)} \\mathit{sz}^{2}} \\sigma}{4 \\, \\pi^{2} \\mu \\sigma^{2} - c^{2} \\epsilon \\mathit{sx}^{2}}, \\mathit{kx} = \\frac{c^{2} \\epsilon \\mathit{kz} \\mathit{sx} \\mathit{sz} + 2 \\, \\pi \\sqrt{-4 \\, \\pi^{2} \\mathit{kz}^{2} \\mu^{2} \\sigma^{2} - c^{2} \\epsilon \\mu \\mathit{sx}^{4} + {\\left(c^{2} \\epsilon \\mathit{kz}^{2} \\mu + 4 \\, \\pi^{2} \\mu^{2} \\sigma^{2}\\right)} \\mathit{sx}^{2} + {\\left(c^{2} \\epsilon \\mathit{kz}^{2} \\mu + 4 \\, \\pi^{2} \\mu^{2} \\sigma^{2} - c^{2} \\epsilon \\mu \\mathit{sx}^{2}\\right)} \\mathit{sz}^{2}} \\sigma}{4 \\, \\pi^{2} \\mu \\sigma^{2} - c^{2} \\epsilon \\mathit{sx}^{2}}\\right]$"
      ],
      "text/plain": [
       "<IPython.core.display.Math object>"
      ]
     },
     "metadata": {},
     "output_type": "display_data"
    },
    {
     "data": {
      "text/latex": [
       "$\\displaystyle \\left(c, \\epsilon, \\mathit{kz}, \\mu, \\sigma, \\mathit{sx}, \\mathit{sz}\\right)$"
      ],
      "text/plain": [
       "<IPython.core.display.Math object>"
      ]
     },
     "metadata": {},
     "output_type": "display_data"
    }
   ],
   "source": [
    "kx_bad_conductor = solve(eq2_omega, kx)\n",
    "print(\"kx_bad_conductor =\")\n",
    "display(Math(latex(kx_bad_conductor)))\n",
    "\n",
    "display(Math(latex(kx_bad_conductor[0].rhs().variables())))"
   ]
  },
  {
   "cell_type": "code",
   "execution_count": 11,
   "metadata": {},
   "outputs": [
    {
     "name": "stdout",
     "output_type": "stream",
     "text": [
      "kz_bad_conductor =\n"
     ]
    },
    {
     "data": {
      "text/latex": [
       "$\\displaystyle \\left[\\mathit{kz} = \\frac{c^{2} \\epsilon \\mathit{kx} \\mathit{sx} \\mathit{sz} - 2 \\, \\pi \\sqrt{-4 \\, \\pi^{2} \\mathit{kx}^{2} \\mu^{2} \\sigma^{2} - c^{2} \\epsilon \\mu \\mathit{sz}^{4} + {\\left(c^{2} \\epsilon \\mathit{kx}^{2} \\mu + 4 \\, \\pi^{2} \\mu^{2} \\sigma^{2}\\right)} \\mathit{sx}^{2} + {\\left(c^{2} \\epsilon \\mathit{kx}^{2} \\mu + 4 \\, \\pi^{2} \\mu^{2} \\sigma^{2} - c^{2} \\epsilon \\mu \\mathit{sx}^{2}\\right)} \\mathit{sz}^{2}} \\sigma}{4 \\, \\pi^{2} \\mu \\sigma^{2} - c^{2} \\epsilon \\mathit{sz}^{2}}, \\mathit{kz} = \\frac{c^{2} \\epsilon \\mathit{kx} \\mathit{sx} \\mathit{sz} + 2 \\, \\pi \\sqrt{-4 \\, \\pi^{2} \\mathit{kx}^{2} \\mu^{2} \\sigma^{2} - c^{2} \\epsilon \\mu \\mathit{sz}^{4} + {\\left(c^{2} \\epsilon \\mathit{kx}^{2} \\mu + 4 \\, \\pi^{2} \\mu^{2} \\sigma^{2}\\right)} \\mathit{sx}^{2} + {\\left(c^{2} \\epsilon \\mathit{kx}^{2} \\mu + 4 \\, \\pi^{2} \\mu^{2} \\sigma^{2} - c^{2} \\epsilon \\mu \\mathit{sx}^{2}\\right)} \\mathit{sz}^{2}} \\sigma}{4 \\, \\pi^{2} \\mu \\sigma^{2} - c^{2} \\epsilon \\mathit{sz}^{2}}\\right]$"
      ],
      "text/plain": [
       "<IPython.core.display.Math object>"
      ]
     },
     "metadata": {},
     "output_type": "display_data"
    },
    {
     "data": {
      "text/latex": [
       "$\\displaystyle \\left(c, \\epsilon, \\mathit{kx}, \\mu, \\sigma, \\mathit{sx}, \\mathit{sz}\\right)$"
      ],
      "text/plain": [
       "<IPython.core.display.Math object>"
      ]
     },
     "metadata": {},
     "output_type": "display_data"
    }
   ],
   "source": [
    "kz_bad_conductor = solve(eq2_omega, kz)\n",
    "print(\"kz_bad_conductor =\")\n",
    "display(Math(latex(kz_bad_conductor)))\n",
    "\n",
    "display(Math(latex(kz_bad_conductor[0].rhs().variables())))"
   ]
  },
  {
   "cell_type": "code",
   "execution_count": null,
   "metadata": {},
   "outputs": [],
   "source": []
  },
  {
   "cell_type": "markdown",
   "metadata": {},
   "source": [
    "$$\\frac{\\partial^{2}}{(\\partial {x})^{2}}\\vec{E}(x) + \\left(\\frac{\\mu \\epsilon \\omega^2}{c^2} - {k'_z}^2\\right)\\,\\vec{E}(x) - grad\\,div\\,\\vec{E} = 0$$"
   ]
  },
  {
   "cell_type": "code",
   "execution_count": 12,
   "metadata": {},
   "outputs": [
    {
     "name": "stdout",
     "output_type": "stream",
     "text": [
      "de_inner_vacuum =\n"
     ]
    },
    {
     "data": {
      "text/latex": [
       "$\\displaystyle \\kappa^{2} E\\left(x\\right) + \\frac{\\partial^{2}}{(\\partial x)^{2}}E\\left(x\\right) = 0$"
      ],
      "text/plain": [
       "<IPython.core.display.Math object>"
      ]
     },
     "metadata": {},
     "output_type": "display_data"
    }
   ],
   "source": [
    "# решаем полученные обыкновенные дифференциальные уравнения\n",
    "E = function('E')(x)\n",
    "\n",
    "de_inner_vacuum = diff (E, x, 2) + kappa^2 * E == 0\n",
    "# получая таким образом выражения для электрического поля в вакуума внутри резонатора и внутри проводящего металла с потерями\n",
    "print(\"de_inner_vacuum =\")\n",
    "display(Math(latex(de_inner_vacuum)))"
   ]
  },
  {
   "cell_type": "code",
   "execution_count": 13,
   "metadata": {},
   "outputs": [
    {
     "name": "stdout",
     "output_type": "stream",
     "text": [
      "E_inner_vacuum =\n"
     ]
    },
    {
     "data": {
      "text/latex": [
       "$\\displaystyle K_{2} \\cos\\left(\\kappa x\\right) + K_{1} \\sin\\left(\\kappa x\\right)$"
      ],
      "text/plain": [
       "<IPython.core.display.Math object>"
      ]
     },
     "metadata": {},
     "output_type": "display_data"
    }
   ],
   "source": [
    "E_inner_vacuum = desolve(de_inner_vacuum, E, ivar = x)\n",
    "\n",
    "# получая таким образом выражения для электрического поля в вакуума внутри резонатора и внутри проводящего металла с потерями\n",
    "print(\"E_inner_vacuum =\")\n",
    "display(Math(latex(E_inner_vacuum)))"
   ]
  },
  {
   "cell_type": "code",
   "execution_count": 14,
   "metadata": {},
   "outputs": [],
   "source": [
    "B1_z = var ('B1_z')\n",
    "B2_z = var ('B2_z')\n",
    "A2_z = var ('A2_z')\n",
    "\n",
    "B1_x = var ('B1_x')\n",
    "B2_x = var ('B2_x')\n",
    "A2_x = var ('A2_x')\n",
    "\n",
    "B1_y = var ('B1_y')\n",
    "B2_y = var ('B2_y')\n",
    "A2_y = var ('A2_y')"
   ]
  },
  {
   "cell_type": "code",
   "execution_count": 15,
   "metadata": {},
   "outputs": [],
   "source": [
    "# 2D\n",
    "set_Ey_0 = True"
   ]
  },
  {
   "cell_type": "code",
   "execution_count": 16,
   "metadata": {},
   "outputs": [],
   "source": [
    "if set_Ey_0:\n",
    "    B1_y = 0\n",
    "    B2_y = 0\n",
    "    A2_y = 0\n",
    "    ky  = 0"
   ]
  },
  {
   "cell_type": "code",
   "execution_count": 17,
   "metadata": {},
   "outputs": [
    {
     "name": "stdout",
     "output_type": "stream",
     "text": [
      "E_inner_vacuum_z (x) \n"
     ]
    },
    {
     "data": {
      "text/latex": [
       "$\\displaystyle \\mathit{B1}_{z} \\cos\\left(\\kappa x\\right) + \\mathit{B2}_{z} \\sin\\left(\\kappa x\\right)$"
      ],
      "text/plain": [
       "<IPython.core.display.Math object>"
      ]
     },
     "metadata": {},
     "output_type": "display_data"
    },
    {
     "name": "stdout",
     "output_type": "stream",
     "text": [
      "E_inner_vacuum_x (x) =\n"
     ]
    },
    {
     "data": {
      "text/latex": [
       "$\\displaystyle \\mathit{B1}_{x} \\cos\\left(\\kappa x\\right) + \\mathit{B2}_{x} \\sin\\left(\\kappa x\\right)$"
      ],
      "text/plain": [
       "<IPython.core.display.Math object>"
      ]
     },
     "metadata": {},
     "output_type": "display_data"
    },
    {
     "name": "stdout",
     "output_type": "stream",
     "text": [
      "E_inner_vacuum_y (x) =\n"
     ]
    },
    {
     "data": {
      "text/latex": [
       "$\\displaystyle 0$"
      ],
      "text/plain": [
       "<IPython.core.display.Math object>"
      ]
     },
     "metadata": {},
     "output_type": "display_data"
    }
   ],
   "source": [
    "# выражения для электрического поля\n",
    "# в вакууме внутри резонатора \n",
    "E_inner_vacuum_z (x) = B1_z*cos(kappa*x) + B2_z*sin(kappa*x)\n",
    "E_inner_vacuum_x (x) = B1_x*cos(kappa*x) + B2_x*sin(kappa*x)\n",
    "E_inner_vacuum_y (x) = B1_y*cos(kappa*x) + B2_y*sin(kappa*x)\n",
    "\n",
    "print (\"E_inner_vacuum_z (x) \")\n",
    "display(Math(latex(E_inner_vacuum_z (x))))\n",
    "print (\"E_inner_vacuum_x (x) =\")\n",
    "display(Math(latex(E_inner_vacuum_x (x))))\n",
    "print (\"E_inner_vacuum_y (x) =\")\n",
    "display(Math(latex(E_inner_vacuum_y (x))))"
   ]
  },
  {
   "cell_type": "markdown",
   "metadata": {},
   "source": [
    "решение для проводящего металла с потерями\n",
    "\n",
    "$\\vec{E} = \\vec{E}\\,e^{i\\,k_x'\\,x}\\,e^{i\\,k_z\\,z}\\,e^{-i\\,\\omega\\,t}$\n",
    "\n",
    "$k_x' = k_x + i\\,s_x$\n",
    "\n",
    "$\\vec{E} = \\vec{E}\\,e^{-s_x\\,x}\\,e^{i\\,k_x\\,x}\\,e^{i\\,k_z\\,z}\\,e^{-i\\,\\omega\\,t}$"
   ]
  },
  {
   "cell_type": "code",
   "execution_count": 18,
   "metadata": {},
   "outputs": [
    {
     "name": "stdout",
     "output_type": "stream",
     "text": [
      "E_bad_conductor_z (x) \n"
     ]
    },
    {
     "data": {
      "text/latex": [
       "$\\displaystyle \\mathit{A2}_{z} e^{\\left(-i \\, {\\left(a - x\\right)} \\mathit{kx} + {\\left(a - x\\right)} \\mathit{sx}\\right)}$"
      ],
      "text/plain": [
       "<IPython.core.display.Math object>"
      ]
     },
     "metadata": {},
     "output_type": "display_data"
    },
    {
     "name": "stdout",
     "output_type": "stream",
     "text": [
      "E_bad_conductor_x (x) =\n"
     ]
    },
    {
     "data": {
      "text/latex": [
       "$\\displaystyle \\mathit{A2}_{x} e^{\\left(-i \\, {\\left(a - x\\right)} \\mathit{kx} + {\\left(a - x\\right)} \\mathit{sx}\\right)}$"
      ],
      "text/plain": [
       "<IPython.core.display.Math object>"
      ]
     },
     "metadata": {},
     "output_type": "display_data"
    },
    {
     "name": "stdout",
     "output_type": "stream",
     "text": [
      "E_bad_conductor_y (x) =\n"
     ]
    },
    {
     "data": {
      "text/latex": [
       "$\\displaystyle 0$"
      ],
      "text/plain": [
       "<IPython.core.display.Math object>"
      ]
     },
     "metadata": {},
     "output_type": "display_data"
    }
   ],
   "source": [
    "# x > a\n",
    "# в проводящем металле с потерями\n",
    "if False:\n",
    "    E_bad_conductor_z (x) = A2_z * e^(-sx*x) * e^(I*kx*x)\n",
    "    E_bad_conductor_x (x) = A2_x * e^(-sx*x) * e^(I*kx*x)\n",
    "    E_bad_conductor_y (x) = A2_y * e^(-sx*x) * e^(I*kx*x)\n",
    "else:\n",
    "    E_bad_conductor_z (x) = A2_z * e^(-sx*(x-a)) * e^(I*kx*(x-a))\n",
    "    E_bad_conductor_x (x) = A2_x * e^(-sx*(x-a)) * e^(I*kx*(x-a))\n",
    "    E_bad_conductor_y (x) = A2_y * e^(-sx*(x-a)) * e^(I*kx*(x-a))\n",
    "\n",
    "print (\"E_bad_conductor_z (x) \")\n",
    "display(Math(latex(E_bad_conductor_z (x))))\n",
    "print (\"E_bad_conductor_x (x) =\")\n",
    "display(Math(latex(E_bad_conductor_x (x))))\n",
    "print (\"E_bad_conductor_y (x) =\")\n",
    "display(Math(latex(E_bad_conductor_y (x))))"
   ]
  },
  {
   "cell_type": "code",
   "execution_count": 19,
   "metadata": {},
   "outputs": [],
   "source": [
    "# (E_bad_conductor_z (x).diff(x, 2)/E_bad_conductor_z (x)).expand()"
   ]
  },
  {
   "cell_type": "code",
   "execution_count": 20,
   "metadata": {},
   "outputs": [
    {
     "name": "stdout",
     "output_type": "stream",
     "text": [
      "H_inner_vacuum_y (x) \n"
     ]
    },
    {
     "data": {
      "text/latex": [
       "$\\displaystyle \\frac{{\\left(i \\, \\mathit{B2}_{z} \\kappa \\cos\\left(\\kappa x\\right) - i \\, \\mathit{B1}_{z} \\kappa \\sin\\left(\\kappa x\\right) + {\\left(\\mathit{B1}_{x} \\cos\\left(\\kappa x\\right) + \\mathit{B2}_{x} \\sin\\left(\\kappa x\\right)\\right)} \\mathit{kz}\\right)} c}{\\omega}$"
      ],
      "text/plain": [
       "<IPython.core.display.Math object>"
      ]
     },
     "metadata": {},
     "output_type": "display_data"
    },
    {
     "name": "stdout",
     "output_type": "stream",
     "text": [
      "H_bad_conductor_y (x) =\n"
     ]
    },
    {
     "data": {
      "text/latex": [
       "$\\displaystyle \\frac{{\\left(i \\, \\mathit{A2}_{z} {\\left(i \\, \\mathit{kx} - \\mathit{sx}\\right)} e^{\\left(-i \\, {\\left(a - x\\right)} \\mathit{kx} + {\\left(a - x\\right)} \\mathit{sx}\\right)} + \\mathit{A2}_{x} \\mathit{kz} e^{\\left(-i \\, {\\left(a - x\\right)} \\mathit{kx} + {\\left(a - x\\right)} \\mathit{sx}\\right)}\\right)} c}{\\mu \\omega}$"
      ],
      "text/plain": [
       "<IPython.core.display.Math object>"
      ]
     },
     "metadata": {},
     "output_type": "display_data"
    }
   ],
   "source": [
    "# выражения для магнитного поля в вакууме внутри резонатора и в проводящем металле с потерями\n",
    "# rot E = -1/c dB/dt\n",
    "# H_y = c / (I * omega * mu) * (diff(E_x, z) - diff(E_z, x))\n",
    "\n",
    "# H_inner_vacuum_y  (x) = c / (I * omega)      * (I*k_z*E_inner_vacuum_x  (x) - diff(E_inner_vacuum_z  (x), x))\n",
    "# H_bad_conductor_y (x) = c / (I * omega * mu) * (I*k_z*E_bad_conductor_x (x) - diff(E_bad_conductor_z (x), x))\n",
    "\n",
    "H_inner_vacuum_y  (x) = c / (omega)      * (kz*E_inner_vacuum_x  (x) + I * diff(E_inner_vacuum_z  (x), x))\n",
    "H_bad_conductor_y (x) = c / (omega * mu) * (kz*E_bad_conductor_x (x) + I * diff(E_bad_conductor_z (x), x))\n",
    "\n",
    "print (\"H_inner_vacuum_y (x) \")\n",
    "display(Math(latex(H_inner_vacuum_y (x).simplify())))\n",
    "print (\"H_bad_conductor_y (x) =\")\n",
    "display(Math(latex(H_bad_conductor_y (x))))"
   ]
  },
  {
   "cell_type": "code",
   "execution_count": 21,
   "metadata": {},
   "outputs": [
    {
     "name": "stdout",
     "output_type": "stream",
     "text": [
      "H_inner_vacuum_x (x) \n"
     ]
    },
    {
     "data": {
      "text/latex": [
       "$\\displaystyle 0$"
      ],
      "text/plain": [
       "<IPython.core.display.Math object>"
      ]
     },
     "metadata": {},
     "output_type": "display_data"
    },
    {
     "name": "stdout",
     "output_type": "stream",
     "text": [
      "H_bad_conductor_x (x) =\n"
     ]
    },
    {
     "data": {
      "text/latex": [
       "$\\displaystyle 0$"
      ],
      "text/plain": [
       "<IPython.core.display.Math object>"
      ]
     },
     "metadata": {},
     "output_type": "display_data"
    }
   ],
   "source": [
    "# выражения для магнитного поля в вакууме внутри резонатора и в проводящем металле с потерями\n",
    "# rot E = -1/c dB/dt\n",
    "# H_x = c / (I * omega * mu) * (diff(E_z, y) - diff(E_y, z))\n",
    "\n",
    "H_inner_vacuum_x  (x) = c / (I * omega)      * (I*ky*E_inner_vacuum_z  (x) - I*kz*E_inner_vacuum_y  (x))\n",
    "H_bad_conductor_x (x) = c / (I * omega * mu) * (I*ky*E_bad_conductor_z (x) - I*kz*E_bad_conductor_y (x))\n",
    "\n",
    "print (\"H_inner_vacuum_x (x) \")\n",
    "display(Math(latex(H_inner_vacuum_x (x).simplify())))\n",
    "print (\"H_bad_conductor_x (x) =\")\n",
    "display(Math(latex(H_bad_conductor_x (x))))"
   ]
  },
  {
   "cell_type": "code",
   "execution_count": 22,
   "metadata": {},
   "outputs": [
    {
     "name": "stdout",
     "output_type": "stream",
     "text": [
      "H_inner_vacuum_z (x) \n"
     ]
    },
    {
     "data": {
      "text/latex": [
       "$\\displaystyle 0$"
      ],
      "text/plain": [
       "<IPython.core.display.Math object>"
      ]
     },
     "metadata": {},
     "output_type": "display_data"
    },
    {
     "name": "stdout",
     "output_type": "stream",
     "text": [
      "H_bad_conductor_z (x) =\n"
     ]
    },
    {
     "data": {
      "text/latex": [
       "$\\displaystyle 0$"
      ],
      "text/plain": [
       "<IPython.core.display.Math object>"
      ]
     },
     "metadata": {},
     "output_type": "display_data"
    }
   ],
   "source": [
    "# выражения для магнитного поля в вакууме внутри резонатора и в проводящем металле с потерями\n",
    "# rot E = -1/c dB/dt\n",
    "# H_z = c / (I * omega * mu) * (diff(E_y, x) - diff(E_x, y))\n",
    "\n",
    "H_inner_vacuum_z  (x) = c / (I * omega)      * (diff(E_inner_vacuum_y  (x), x) - I*ky*E_inner_vacuum_x  (x))\n",
    "H_bad_conductor_z (x) = c / (I * omega * mu) * (diff(E_bad_conductor_y (x), x) - I*ky*E_bad_conductor_x (x))\n",
    "\n",
    "print (\"H_inner_vacuum_z (x) \")\n",
    "display(Math(latex(H_inner_vacuum_z (x).simplify())))\n",
    "print (\"H_bad_conductor_z (x) =\")\n",
    "display(Math(latex(H_bad_conductor_z (x))))"
   ]
  },
  {
   "cell_type": "code",
   "execution_count": 23,
   "metadata": {},
   "outputs": [
    {
     "name": "stdout",
     "output_type": "stream",
     "text": [
      "rot_H_inner_vacuum_x =\n"
     ]
    },
    {
     "data": {
      "text/latex": [
       "$\\displaystyle -\\frac{i \\, {\\left(i \\, \\mathit{B2}_{z} \\kappa \\cos\\left(\\kappa x\\right) - i \\, \\mathit{B1}_{z} \\kappa \\sin\\left(\\kappa x\\right) + {\\left(\\mathit{B1}_{x} \\cos\\left(\\kappa x\\right) + \\mathit{B2}_{x} \\sin\\left(\\kappa x\\right)\\right)} \\mathit{kz}\\right)} c \\mathit{kz}}{\\omega}$"
      ],
      "text/plain": [
       "<IPython.core.display.Math object>"
      ]
     },
     "metadata": {},
     "output_type": "display_data"
    },
    {
     "name": "stdout",
     "output_type": "stream",
     "text": [
      "rot_H_bad_conductor_x =\n"
     ]
    },
    {
     "data": {
      "text/latex": [
       "$\\displaystyle -\\frac{i \\, {\\left(i \\, \\mathit{A2}_{z} {\\left(i \\, \\mathit{kx} - \\mathit{sx}\\right)} e^{\\left(-i \\, {\\left(a - x\\right)} \\mathit{kx} + {\\left(a - x\\right)} \\mathit{sx}\\right)} + \\mathit{A2}_{x} \\mathit{kz} e^{\\left(-i \\, {\\left(a - x\\right)} \\mathit{kx} + {\\left(a - x\\right)} \\mathit{sx}\\right)}\\right)} c \\mathit{kz}}{\\mu \\omega}$"
      ],
      "text/plain": [
       "<IPython.core.display.Math object>"
      ]
     },
     "metadata": {},
     "output_type": "display_data"
    },
    {
     "name": "stdout",
     "output_type": "stream",
     "text": [
      "rot_H_inner_vacuum_y =\n"
     ]
    },
    {
     "data": {
      "text/latex": [
       "$\\displaystyle 0$"
      ],
      "text/plain": [
       "<IPython.core.display.Math object>"
      ]
     },
     "metadata": {},
     "output_type": "display_data"
    },
    {
     "name": "stdout",
     "output_type": "stream",
     "text": [
      "rot_H_bad_conductor_y =\n"
     ]
    },
    {
     "data": {
      "text/latex": [
       "$\\displaystyle 0$"
      ],
      "text/plain": [
       "<IPython.core.display.Math object>"
      ]
     },
     "metadata": {},
     "output_type": "display_data"
    },
    {
     "name": "stdout",
     "output_type": "stream",
     "text": [
      "rot_H_inner_vacuum_z =\n"
     ]
    },
    {
     "data": {
      "text/latex": [
       "$\\displaystyle \\frac{{\\left(-i \\, \\mathit{B1}_{z} \\kappa^{2} \\cos\\left(\\kappa x\\right) - i \\, \\mathit{B2}_{z} \\kappa^{2} \\sin\\left(\\kappa x\\right) + {\\left(\\mathit{B2}_{x} \\kappa \\cos\\left(\\kappa x\\right) - \\mathit{B1}_{x} \\kappa \\sin\\left(\\kappa x\\right)\\right)} \\mathit{kz}\\right)} c}{\\omega}$"
      ],
      "text/plain": [
       "<IPython.core.display.Math object>"
      ]
     },
     "metadata": {},
     "output_type": "display_data"
    },
    {
     "name": "stdout",
     "output_type": "stream",
     "text": [
      "rot_H_bad_conductor_z =\n"
     ]
    },
    {
     "data": {
      "text/latex": [
       "$\\displaystyle \\frac{{\\left(i \\, \\mathit{A2}_{z} {\\left(i \\, \\mathit{kx} - \\mathit{sx}\\right)}^{2} e^{\\left(-i \\, {\\left(a - x\\right)} \\mathit{kx} + {\\left(a - x\\right)} \\mathit{sx}\\right)} + \\mathit{A2}_{x} {\\left(i \\, \\mathit{kx} - \\mathit{sx}\\right)} \\mathit{kz} e^{\\left(-i \\, {\\left(a - x\\right)} \\mathit{kx} + {\\left(a - x\\right)} \\mathit{sx}\\right)}\\right)} c}{\\mu \\omega}$"
      ],
      "text/plain": [
       "<IPython.core.display.Math object>"
      ]
     },
     "metadata": {},
     "output_type": "display_data"
    }
   ],
   "source": [
    "# уравнение Максвелла для тока смещения\n",
    "# rot_H   = - I * epsilon * omega / c * E\n",
    "# rot_H_x = diff(H_z, y) - diff(H_y, z)\n",
    "# rot_H_y = diff(H_x, z) - diff(H_z, x)\n",
    "# rot_H_z = diff(H_y, x) - diff(H_x, y)\n",
    "\n",
    "rot_H_inner_vacuum_x  = I * ky * H_inner_vacuum_z  (x) - I * kz * H_inner_vacuum_y  (x)\n",
    "rot_H_bad_conductor_x = I * ky * H_bad_conductor_z (x) - I * kz * H_bad_conductor_y (x)\n",
    "\n",
    "rot_H_inner_vacuum_y  = I * kz * H_inner_vacuum_x  (x) - diff(H_inner_vacuum_z  (x), x)\n",
    "rot_H_bad_conductor_y = I * kz * H_bad_conductor_x (x) - diff(H_bad_conductor_z (x), x)\n",
    "\n",
    "rot_H_inner_vacuum_z  = diff(H_inner_vacuum_y  (x), x) - I * ky * H_inner_vacuum_x  (x)\n",
    "rot_H_bad_conductor_z = diff(H_bad_conductor_y (x), x) - I * ky * H_bad_conductor_x (x)\n",
    "\n",
    "print (\"rot_H_inner_vacuum_x =\")\n",
    "display(Math(latex(rot_H_inner_vacuum_x)))\n",
    "print (\"rot_H_bad_conductor_x =\")\n",
    "display(Math(latex(rot_H_bad_conductor_x)))\n",
    "\n",
    "print (\"rot_H_inner_vacuum_y =\")\n",
    "display(Math(latex(rot_H_inner_vacuum_y)))\n",
    "print (\"rot_H_bad_conductor_y =\")\n",
    "display(Math(latex(rot_H_bad_conductor_y)))\n",
    "\n",
    "print (\"rot_H_inner_vacuum_z =\")\n",
    "display(Math(latex(rot_H_inner_vacuum_z)))\n",
    "print (\"rot_H_bad_conductor_z =\")\n",
    "display(Math(latex(rot_H_bad_conductor_z)))"
   ]
  },
  {
   "cell_type": "code",
   "execution_count": 24,
   "metadata": {},
   "outputs": [],
   "source": [
    "eq_rot_H_inner_vacuum_x  = rot_H_inner_vacuum_x  == -I * omega / c * E_inner_vacuum_x (x)\n",
    "eq_rot_H_inner_vacuum_y  = rot_H_inner_vacuum_y  == -I * omega / c * E_inner_vacuum_y (x)\n",
    "eq_rot_H_inner_vacuum_z  = rot_H_inner_vacuum_z  == -I * omega / c * E_inner_vacuum_z (x)\n",
    "\n",
    "eq_rot_H_bad_conductor_x = rot_H_bad_conductor_x == -I * omega / c * epsilon * E_bad_conductor_x (x)\n",
    "eq_rot_H_bad_conductor_y = rot_H_bad_conductor_y == -I * omega / c * epsilon * E_bad_conductor_y (x)\n",
    "eq_rot_H_bad_conductor_z = rot_H_bad_conductor_z == -I * omega / c * epsilon * E_bad_conductor_z (x)"
   ]
  },
  {
   "cell_type": "code",
   "execution_count": 25,
   "metadata": {},
   "outputs": [
    {
     "name": "stdout",
     "output_type": "stream",
     "text": [
      "eq_rot_H_inner_vacuum_x =\n"
     ]
    },
    {
     "data": {
      "text/latex": [
       "$\\displaystyle -\\frac{i \\, {\\left(i \\, \\mathit{B2}_{z} \\kappa \\cos\\left(\\kappa x\\right) - i \\, \\mathit{B1}_{z} \\kappa \\sin\\left(\\kappa x\\right) + {\\left(\\mathit{B1}_{x} \\cos\\left(\\kappa x\\right) + \\mathit{B2}_{x} \\sin\\left(\\kappa x\\right)\\right)} \\mathit{kz}\\right)} c \\mathit{kz}}{\\omega} = -\\frac{i \\, {\\left(\\mathit{B1}_{x} \\cos\\left(\\kappa x\\right) + \\mathit{B2}_{x} \\sin\\left(\\kappa x\\right)\\right)} \\omega}{c}$"
      ],
      "text/plain": [
       "<IPython.core.display.Math object>"
      ]
     },
     "metadata": {},
     "output_type": "display_data"
    },
    {
     "name": "stdout",
     "output_type": "stream",
     "text": [
      "eq_rot_H_inner_vacuum_y =\n"
     ]
    },
    {
     "data": {
      "text/latex": [
       "$\\displaystyle 0 = 0$"
      ],
      "text/plain": [
       "<IPython.core.display.Math object>"
      ]
     },
     "metadata": {},
     "output_type": "display_data"
    },
    {
     "name": "stdout",
     "output_type": "stream",
     "text": [
      "eq_rot_H_inner_vacuum_z =\n"
     ]
    },
    {
     "data": {
      "text/latex": [
       "$\\displaystyle \\frac{{\\left(-i \\, \\mathit{B1}_{z} \\kappa^{2} \\cos\\left(\\kappa x\\right) - i \\, \\mathit{B2}_{z} \\kappa^{2} \\sin\\left(\\kappa x\\right) + {\\left(\\mathit{B2}_{x} \\kappa \\cos\\left(\\kappa x\\right) - \\mathit{B1}_{x} \\kappa \\sin\\left(\\kappa x\\right)\\right)} \\mathit{kz}\\right)} c}{\\omega} = -\\frac{i \\, {\\left(\\mathit{B1}_{z} \\cos\\left(\\kappa x\\right) + \\mathit{B2}_{z} \\sin\\left(\\kappa x\\right)\\right)} \\omega}{c}$"
      ],
      "text/plain": [
       "<IPython.core.display.Math object>"
      ]
     },
     "metadata": {},
     "output_type": "display_data"
    }
   ],
   "source": [
    "print (\"eq_rot_H_inner_vacuum_x =\")\n",
    "display(Math(latex(eq_rot_H_inner_vacuum_x.simplify())))\n",
    "\n",
    "print (\"eq_rot_H_inner_vacuum_y =\")\n",
    "display(Math(latex(eq_rot_H_inner_vacuum_y.simplify())))\n",
    "\n",
    "print (\"eq_rot_H_inner_vacuum_z =\")\n",
    "display(Math(latex(eq_rot_H_inner_vacuum_z.simplify())))"
   ]
  },
  {
   "cell_type": "code",
   "execution_count": 26,
   "metadata": {},
   "outputs": [
    {
     "name": "stdout",
     "output_type": "stream",
     "text": [
      "eq_rot_H_bad_conductor_x =\n"
     ]
    },
    {
     "data": {
      "text/latex": [
       "$\\displaystyle -\\frac{i \\, {\\left(i \\, \\mathit{A2}_{z} {\\left(i \\, \\mathit{kx} - \\mathit{sx}\\right)} e^{\\left(-i \\, {\\left(a - x\\right)} \\mathit{kx} + {\\left(a - x\\right)} \\mathit{sx}\\right)} + \\mathit{A2}_{x} \\mathit{kz} e^{\\left(-i \\, {\\left(a - x\\right)} \\mathit{kx} + {\\left(a - x\\right)} \\mathit{sx}\\right)}\\right)} c \\mathit{kz}}{\\mu \\omega} = -\\frac{i \\, \\mathit{A2}_{x} \\epsilon \\omega e^{\\left(-i \\, {\\left(a - x\\right)} \\mathit{kx} + {\\left(a - x\\right)} \\mathit{sx}\\right)}}{c}$"
      ],
      "text/plain": [
       "<IPython.core.display.Math object>"
      ]
     },
     "metadata": {},
     "output_type": "display_data"
    },
    {
     "name": "stdout",
     "output_type": "stream",
     "text": [
      "eq_rot_H_bad_conductor_y =\n"
     ]
    },
    {
     "data": {
      "text/latex": [
       "$\\displaystyle 0 = 0$"
      ],
      "text/plain": [
       "<IPython.core.display.Math object>"
      ]
     },
     "metadata": {},
     "output_type": "display_data"
    },
    {
     "name": "stdout",
     "output_type": "stream",
     "text": [
      "eq_rot_H_bad_conductor_z =\n"
     ]
    },
    {
     "data": {
      "text/latex": [
       "$\\displaystyle \\frac{{\\left(i \\, \\mathit{A2}_{z} {\\left(i \\, \\mathit{kx} - \\mathit{sx}\\right)}^{2} e^{\\left(-i \\, {\\left(a - x\\right)} \\mathit{kx} + {\\left(a - x\\right)} \\mathit{sx}\\right)} + \\mathit{A2}_{x} {\\left(i \\, \\mathit{kx} - \\mathit{sx}\\right)} \\mathit{kz} e^{\\left(-i \\, {\\left(a - x\\right)} \\mathit{kx} + {\\left(a - x\\right)} \\mathit{sx}\\right)}\\right)} c}{\\mu \\omega} = -\\frac{i \\, \\mathit{A2}_{z} \\epsilon \\omega e^{\\left(-i \\, {\\left(a - x\\right)} \\mathit{kx} + {\\left(a - x\\right)} \\mathit{sx}\\right)}}{c}$"
      ],
      "text/plain": [
       "<IPython.core.display.Math object>"
      ]
     },
     "metadata": {},
     "output_type": "display_data"
    }
   ],
   "source": [
    "print (\"eq_rot_H_bad_conductor_x =\")\n",
    "display(Math(latex(eq_rot_H_bad_conductor_x.simplify())))\n",
    "\n",
    "print (\"eq_rot_H_bad_conductor_y =\")\n",
    "display(Math(latex(eq_rot_H_bad_conductor_y.simplify())))\n",
    "\n",
    "print (\"eq_rot_H_bad_conductor_z =\")\n",
    "display(Math(latex(eq_rot_H_bad_conductor_z.simplify())))"
   ]
  },
  {
   "cell_type": "code",
   "execution_count": 27,
   "metadata": {},
   "outputs": [
    {
     "data": {
      "text/latex": [
       "$\\displaystyle \\left[\\mathit{B1}_{x} = -\\frac{i \\, \\mathit{B2}_{z} c^{2} \\kappa \\mathit{kz}}{c^{2} \\mathit{kz}^{2} - \\omega^{2}}\\right]$"
      ],
      "text/plain": [
       "<IPython.core.display.Math object>"
      ]
     },
     "metadata": {},
     "output_type": "display_data"
    }
   ],
   "source": [
    "res = solve(eq_rot_H_inner_vacuum_x.subs(B1_z == 0, B2_x == 0), B1_x)\n",
    "display(Math(latex(res)))"
   ]
  },
  {
   "cell_type": "code",
   "execution_count": 28,
   "metadata": {},
   "outputs": [
    {
     "data": {
      "text/latex": [
       "$\\displaystyle \\left[\\kappa = -\\frac{\\sqrt{-c^{2} \\mathit{kz}^{2} - 2 i \\, c^{2} \\mathit{kz} \\mathit{sz} + c^{2} \\mathit{sz}^{2} + \\omega^{2}}}{c}, \\kappa = \\frac{\\sqrt{-c^{2} \\mathit{kz}^{2} - 2 i \\, c^{2} \\mathit{kz} \\mathit{sz} + c^{2} \\mathit{sz}^{2} + \\omega^{2}}}{c}\\right]$"
      ],
      "text/plain": [
       "<IPython.core.display.Math object>"
      ]
     },
     "metadata": {},
     "output_type": "display_data"
    }
   ],
   "source": [
    "res = solve(eq_kappa_inner_vacuum, kappa)\n",
    "display(Math(latex(res)))"
   ]
  },
  {
   "cell_type": "code",
   "execution_count": 29,
   "metadata": {},
   "outputs": [
    {
     "data": {
      "text/latex": [
       "$\\displaystyle \\left[\\mathit{B1}_{x} = \\frac{-i \\, \\mathit{B2}_{z} c^{2} \\kappa^{2} + i \\, \\mathit{B2}_{z} \\omega^{2}}{c^{2} \\kappa \\mathit{kz}}\\right]$"
      ],
      "text/plain": [
       "<IPython.core.display.Math object>"
      ]
     },
     "metadata": {},
     "output_type": "display_data"
    }
   ],
   "source": [
    "res = solve( eq_rot_H_inner_vacuum_z.subs(B1_z == 0, B2_x == 0), B1_x)\n",
    "display(Math(latex(res)))"
   ]
  },
  {
   "cell_type": "code",
   "execution_count": 30,
   "metadata": {},
   "outputs": [
    {
     "data": {
      "text/plain": [
       "(A2_z, A2_x)"
      ]
     },
     "execution_count": 30,
     "metadata": {},
     "output_type": "execute_result"
    }
   ],
   "source": [
    " E_bad_conductor_z (a), E_bad_conductor_x (a)"
   ]
  },
  {
   "cell_type": "code",
   "execution_count": 31,
   "metadata": {},
   "outputs": [
    {
     "data": {
      "text/plain": [
       "A2_z*e^(-I*(a - x)*kx + (a - x)*sx)"
      ]
     },
     "execution_count": 31,
     "metadata": {},
     "output_type": "execute_result"
    }
   ],
   "source": [
    "E_bad_conductor_z (x)"
   ]
  },
  {
   "cell_type": "code",
   "execution_count": 32,
   "metadata": {},
   "outputs": [
    {
     "name": "stdout",
     "output_type": "stream",
     "text": [
      "eqEz_0 = \n"
     ]
    },
    {
     "data": {
      "text/latex": [
       "$\\displaystyle \\mathit{B1}_{z} = 0$"
      ],
      "text/plain": [
       "<IPython.core.display.Math object>"
      ]
     },
     "metadata": {},
     "output_type": "display_data"
    },
    {
     "name": "stdout",
     "output_type": "stream",
     "text": [
      "eqEy_0 = \n"
     ]
    },
    {
     "data": {
      "text/latex": [
       "$\\displaystyle 0 = 0$"
      ],
      "text/plain": [
       "<IPython.core.display.Math object>"
      ]
     },
     "metadata": {},
     "output_type": "display_data"
    }
   ],
   "source": [
    "# граничные условия на границе идеального проводника и вакуума внутри резонатора\n",
    "# тангенциальная компонента электрического поля\n",
    "eqEz_0  = E_inner_vacuum_z (0) == 0\n",
    "eqEy_0  = E_inner_vacuum_y (0) == 0\n",
    "\n",
    "print (\"eqEz_0 = \")\n",
    "display(Math(latex(eqEz_0)))\n",
    "print (\"eqEy_0 = \")\n",
    "display(Math(latex(eqEy_0)))"
   ]
  },
  {
   "cell_type": "code",
   "execution_count": 33,
   "metadata": {},
   "outputs": [
    {
     "name": "stdout",
     "output_type": "stream",
     "text": [
      "eqEz_a = \n"
     ]
    },
    {
     "data": {
      "text/latex": [
       "$\\displaystyle \\mathit{B1}_{z} \\cos\\left(a \\kappa\\right) + \\mathit{B2}_{z} \\sin\\left(a \\kappa\\right) = \\mathit{A2}_{z}$"
      ],
      "text/plain": [
       "<IPython.core.display.Math object>"
      ]
     },
     "metadata": {},
     "output_type": "display_data"
    },
    {
     "name": "stdout",
     "output_type": "stream",
     "text": [
      "eqEy_a = \n"
     ]
    },
    {
     "data": {
      "text/latex": [
       "$\\displaystyle 0 = 0$"
      ],
      "text/plain": [
       "<IPython.core.display.Math object>"
      ]
     },
     "metadata": {},
     "output_type": "display_data"
    }
   ],
   "source": [
    "# граничные условия на границе вакуума внутри резонатора и проводящего металла с потерями\n",
    "# тангенциальная компонента электрического поля\n",
    "eqEz_a  = E_inner_vacuum_z (a) == E_bad_conductor_z (a)\n",
    "eqEy_a  = E_inner_vacuum_y (a) == E_bad_conductor_y (a)\n",
    "\n",
    "print (\"eqEz_a = \")\n",
    "display(Math(latex(eqEz_a)))\n",
    "print (\"eqEy_a = \")\n",
    "display(Math(latex(eqEy_a)))"
   ]
  },
  {
   "cell_type": "code",
   "execution_count": 34,
   "metadata": {},
   "outputs": [
    {
     "name": "stdout",
     "output_type": "stream",
     "text": [
      "eqDx_a =\n"
     ]
    },
    {
     "data": {
      "text/latex": [
       "$\\displaystyle \\mathit{B1}_{x} \\cos\\left(a \\kappa\\right) + \\mathit{B2}_{x} \\sin\\left(a \\kappa\\right) = \\mathit{A2}_{x} \\epsilon$"
      ],
      "text/plain": [
       "<IPython.core.display.Math object>"
      ]
     },
     "metadata": {},
     "output_type": "display_data"
    }
   ],
   "source": [
    "# нормальная компонента электрического смещения\n",
    "eqDx_a  = E_inner_vacuum_x (a) == E_bad_conductor_x (a) * epsilon\n",
    "\n",
    "print (\"eqDx_a =\")\n",
    "display(Math(latex(eqDx_a)))"
   ]
  },
  {
   "cell_type": "code",
   "execution_count": 35,
   "metadata": {},
   "outputs": [
    {
     "name": "stdout",
     "output_type": "stream",
     "text": [
      "eqHz_a =\n"
     ]
    },
    {
     "data": {
      "text/latex": [
       "$\\displaystyle 0 = 0$"
      ],
      "text/plain": [
       "<IPython.core.display.Math object>"
      ]
     },
     "metadata": {},
     "output_type": "display_data"
    },
    {
     "name": "stdout",
     "output_type": "stream",
     "text": [
      "eqHy_a =\n"
     ]
    },
    {
     "data": {
      "text/latex": [
       "$\\displaystyle \\frac{{\\left(i \\, \\mathit{A2}_{z} {\\left(i \\, \\mathit{kx} - \\mathit{sx}\\right)} + \\mathit{A2}_{x} \\mathit{kz}\\right)} c}{\\mu \\omega} = \\frac{{\\left(i \\, \\mathit{B2}_{z} \\kappa \\cos\\left(a \\kappa\\right) - i \\, \\mathit{B1}_{z} \\kappa \\sin\\left(a \\kappa\\right) + {\\left(\\mathit{B1}_{x} \\cos\\left(a \\kappa\\right) + \\mathit{B2}_{x} \\sin\\left(a \\kappa\\right)\\right)} \\mathit{kz}\\right)} c}{\\omega}$"
      ],
      "text/plain": [
       "<IPython.core.display.Math object>"
      ]
     },
     "metadata": {},
     "output_type": "display_data"
    }
   ],
   "source": [
    "# тангенциальная компонента напряженности магнитного поля\n",
    "eqHz_a  = H_bad_conductor_z (a)  == H_inner_vacuum_z (a)\n",
    "eqHy_a  = H_bad_conductor_y (a)  == H_inner_vacuum_y (a)\n",
    "\n",
    "print (\"eqHz_a =\")\n",
    "display(Math(latex(eqHz_a)))\n",
    "print (\"eqHy_a =\")\n",
    "display(Math(latex(eqHy_a)))"
   ]
  },
  {
   "cell_type": "code",
   "execution_count": 36,
   "metadata": {},
   "outputs": [
    {
     "name": "stdout",
     "output_type": "stream",
     "text": [
      "eqBx_a =\n"
     ]
    },
    {
     "data": {
      "text/latex": [
       "$\\displaystyle 0 = 0$"
      ],
      "text/plain": [
       "<IPython.core.display.Math object>"
      ]
     },
     "metadata": {},
     "output_type": "display_data"
    }
   ],
   "source": [
    "# нормальная компонента индукции магнитного поля\n",
    "eqBx_a  = mu * H_bad_conductor_x (a)  == H_inner_vacuum_x (a)\n",
    "\n",
    "print (\"eqBx_a =\")\n",
    "display(Math(latex(eqBx_a)))"
   ]
  },
  {
   "cell_type": "code",
   "execution_count": 37,
   "metadata": {},
   "outputs": [],
   "source": [
    "def GenerateMatrix(equsys, vars):\n",
    "    A=matrix(SR, [[(equ.lhs() - equ.rhs()).coefficient(v) for v in vars] for equ in equsys])\n",
    "    return A\n",
    "\n",
    "def GenerateMatrixSubs(equsys, vars, vars_subs):\n",
    "    A=matrix(SR, [[(equ.lhs() - equ.rhs()).subs(vars_subs).coefficient(v) for v in vars] for equ in equsys])\n",
    "    return A\n",
    "\n",
    "def GenerateMatrixMult(equsys, vars):\n",
    "    A=matrix(SR, [[(equ.lhs() - equ.rhs()).coefficient(v) * v for v in vars] for equ in equsys])\n",
    "    return A\n",
    "\n",
    "def reduceDependedRows(M):\n",
    "    print (\"\")\n",
    "    print (\"M.nrows()\", M.nrows())\n",
    "    print (\"M.ncols()\", M.ncols())\n",
    "    print (\"M.rank()\", M.rank())\n",
    "\n",
    "    M_pivot_rows = M.pivot_rows()\n",
    "    print (\"M.pivot_rows() =\", M_pivot_rows)\n",
    "\n",
    "    M_rows = M.rows()\n",
    "    for row in M_rows:\n",
    "        print (\"row =\", row)\n",
    "\n",
    "    reduced_list = []\n",
    "    for r in M_pivot_rows:\n",
    "        print (\"M_rows[\", r, \"] =\")\n",
    "        display(Math(latex(M_rows[r])))\n",
    "        reduced_list.append(M_rows[r])\n",
    "\n",
    "    reduced_M = matrix(SR, len(M_pivot_rows), M.ncols(), reduced_list)\n",
    "    reduced_M_det = reduced_M.det()\n",
    "    print (\"\")\n",
    "    print(\"reduced_M.det() =\", reduced_M_det)\n",
    "    return reduced_M\n",
    "\n",
    "\n",
    "def reduceRows(M, M_pivot_rows):\n",
    "    print (\"\")\n",
    "    print (\"M.nrows()\", M.nrows())\n",
    "    print (\"M.ncols()\", M.ncols())\n",
    "    print (\"M.rank()\", M.rank())\n",
    "\n",
    "    print (\"M.pivot_rows() =\", M_pivot_rows)\n",
    "\n",
    "    M_rows = M.rows()\n",
    "    for row in M_rows:\n",
    "        print (\"row =\", row)\n",
    "\n",
    "    reduced_list = []\n",
    "    for r in M_pivot_rows:\n",
    "        print (\"M_rows[\", r, \"] =\")\n",
    "        display(Math(latex(M_rows[r])))\n",
    "        reduced_list.append(M_rows[r])\n",
    "\n",
    "    reduced_M = matrix(SR, len(M_pivot_rows), M.ncols(), reduced_list)\n",
    "    reduced_M_det = reduced_M.det()\n",
    "    print (\"\")\n",
    "    print(\"reduced_M.det() =\", reduced_M_det)\n",
    "    return reduced_M"
   ]
  },
  {
   "cell_type": "code",
   "execution_count": 38,
   "metadata": {},
   "outputs": [],
   "source": [
    "def rot_H_solve(M_rotH, vars, eq_s_or_kappa, s_or_kappa):\n",
    "    if (M_rotH.ncols() != len(vars)):\n",
    "        return\n",
    "    n = M_rotH.nrows()\n",
    "    xx = vector(SR, vars)\n",
    "    yy = zero_vector(SR, n)\n",
    "    eqns = [(M_rotH*xx)[index] == yy[index] for index in range(n)]\n",
    "    display(Math(latex(eqns)))\n",
    "    res = []\n",
    "\n",
    "    for index in range(n):\n",
    "        eq = eqns[index]\n",
    "        # print(eq)\n",
    "        \n",
    "        if 0 == eq.lhs() and 0 == eq.rhs():\n",
    "            continue\n",
    "            \n",
    "        for var in vars:\n",
    "            print(\"solve([eq, var])\")\n",
    "            display(Math(latex([eq, var])))\n",
    "            print(\"\")\n",
    "            \n",
    "            sol = solve(eq, var)\n",
    "            print(\"sol=\")\n",
    "            display(Math(latex(sol)))\n",
    "            if 0 == len(sol):\n",
    "                continue\n",
    "\n",
    "            print(\"eq_s_or_kappa =\")\n",
    "            display(Math(latex(eq_s_or_kappa)))\n",
    "            sol_s_or_kappa_2 = solve(eq_s_or_kappa, s_or_kappa^2)\n",
    "            print(\"sol_s_or_kappa_2[0].rhs()=\")\n",
    "            display(Math(latex(sol_s_or_kappa_2[0].rhs())))\n",
    "            print(\"\")\n",
    "\n",
    "            vars_for_collect = vars\n",
    "            vars_for_collect.remove(var)\n",
    "\n",
    "            sl = sol[0].rhs()\n",
    "\n",
    "            for var_for_collect in vars_for_collect:\n",
    "                sl = sl.collect(var_for_collect)\n",
    "                    \n",
    "            print(\"sl =\")\n",
    "            display(Math(latex(sl)))\n",
    "            print(\"\")\n",
    "\n",
    "            ans1 = sl.subs( sol_s_or_kappa_2[0].rhs()*c^2 ==  sol_s_or_kappa_2[0].lhs()*c^2)\n",
    "            ans2 = sl.subs(-sol_s_or_kappa_2[0].rhs()*c^2 == -sol_s_or_kappa_2[0].lhs()*c^2)\n",
    "\n",
    "            ans = ans1\n",
    "            if ans1.number_of_operands() > ans2.number_of_operands():\n",
    "                ans = ans2\n",
    "\n",
    "            print(\"ans =\")\n",
    "            display(Math(latex(ans)))\n",
    "\n",
    "            if omega in ans.arguments():\n",
    "                print(ans.arguments())\n",
    "                sol_omega_2 = solve(eq_s_or_kappa, omega^2)\n",
    "                print(\"sol_omega_2 =\")\n",
    "                display(Math(latex(sol_omega_2[0].rhs())))\n",
    "                som = ans.subs(omega^2 == sol_omega_2[0].rhs())\n",
    "                print(\"som =\")\n",
    "                display(Math(latex(som)))\n",
    "                som = som.full_simplify()\n",
    "                print(\"som =\")\n",
    "                display(Math(latex(som)))\n",
    "                res.append(var == som)\n",
    "            else:\n",
    "                res.append(var == ans)\n",
    "\n",
    "            print(\"\")\n",
    "    return res"
   ]
  },
  {
   "cell_type": "code",
   "execution_count": 39,
   "metadata": {},
   "outputs": [],
   "source": [
    "def rot_H_solve_s(M_rotH, vars):\n",
    "    if (M_rotH.ncols() != len(vars)):\n",
    "        return\n",
    "    n = M_rotH.nrows()\n",
    "    xx = vector(SR, vars)\n",
    "    yy = zero_vector(SR, n)\n",
    "    eqns = [(M_rotH*xx)[index] == yy[index] for index in range(n)]\n",
    "    display(Math(latex(eqns)))\n",
    "    res = []\n",
    "\n",
    "    for index in range(n):\n",
    "        eq = eqns[index]\n",
    "        \n",
    "        if 0 == eq.lhs() and 0 == eq.rhs():\n",
    "            continue\n",
    "            \n",
    "        for var in vars:\n",
    "            print(\"solve([eq, var])\")\n",
    "            display(Math(latex([eq, var])))\n",
    "            print(\"\")\n",
    "            \n",
    "            sol = solve(eq, var)\n",
    "            if len(sol) > 0:\n",
    "                print(\"sol=\")\n",
    "                display(Math(latex(sol[0])))\n",
    "                \n",
    "                vars_for_collect = vars\n",
    "                vars_for_collect.remove(var)\n",
    "                \n",
    "                sl = sol[0].rhs()\n",
    "                \n",
    "                for var_for_collect in vars_for_collect:\n",
    "                    sl = sl.collect(var_for_collect)\n",
    "                    \n",
    "                print(\"sl =\")\n",
    "                display(Math(latex(sl)))\n",
    "                print(\"\")\n",
    "\n",
    "                res.append(var == sl)\n",
    " \n",
    "        print(\"\")\n",
    "    return res\n",
    "\n"
   ]
  },
  {
   "cell_type": "code",
   "execution_count": 40,
   "metadata": {},
   "outputs": [],
   "source": [
    "eqsys_rotH_inner_vacuum = [eq_rot_H_inner_vacuum_x*(-I)*omega/c,\n",
    "                           #eq_rot_H_inner_vacuum_y*(-I)*omega/c,\n",
    "                           eq_rot_H_inner_vacuum_z*(-I)*omega/c,\n",
    "                          ]\n",
    "\n",
    "eqsys_rotH_bad_conductor = [eq_rot_H_bad_conductor_x*(-I)*omega/c,\n",
    "                            #eq_rot_H_bad_conductor_y*(-I)*omega/c,\n",
    "                            eq_rot_H_bad_conductor_z*(-I)*omega/c,\n",
    "                           ]\n",
    "\n",
    "eqsys_boundary_conditions = [#eqEz_0,\n",
    "                             #eqEy_0,\n",
    "                             eqDx_a,\n",
    "                             #eqEy_a,\n",
    "                             eqEz_a,\n",
    "                             #eqBx_a*(-I)*omega/c,\n",
    "                             #eqHz_a*(-I)*omega/c,\n",
    "#                             eqHy_a*(-I)*omega/c,\n",
    "                            ]"
   ]
  },
  {
   "cell_type": "code",
   "execution_count": 41,
   "metadata": {},
   "outputs": [
    {
     "data": {
      "text/plain": [
       "[B1_x*cos(a*kappa) + B2_x*sin(a*kappa) == A2_x*epsilon,\n",
       " B1_z*cos(a*kappa) + B2_z*sin(a*kappa) == A2_z]"
      ]
     },
     "execution_count": 41,
     "metadata": {},
     "output_type": "execute_result"
    }
   ],
   "source": [
    "eqsys_boundary_conditions"
   ]
  },
  {
   "cell_type": "code",
   "execution_count": 42,
   "metadata": {},
   "outputs": [
    {
     "name": "stdout",
     "output_type": "stream",
     "text": [
      "even_vars =\n"
     ]
    },
    {
     "data": {
      "text/latex": [
       "$\\displaystyle \\left[\\mathit{B1}_{x}, \\mathit{B2}_{z}, \\mathit{A2}_{x}, \\mathit{A2}_{z}\\right]$"
      ],
      "text/plain": [
       "<IPython.core.display.Math object>"
      ]
     },
     "metadata": {},
     "output_type": "display_data"
    },
    {
     "name": "stdout",
     "output_type": "stream",
     "text": [
      "even_vars_inner_vacuum =\n"
     ]
    },
    {
     "data": {
      "text/latex": [
       "$\\displaystyle \\left[\\mathit{B1}_{x}, \\mathit{B2}_{z}\\right]$"
      ],
      "text/plain": [
       "<IPython.core.display.Math object>"
      ]
     },
     "metadata": {},
     "output_type": "display_data"
    },
    {
     "name": "stdout",
     "output_type": "stream",
     "text": [
      "eqsys_rotH_inner_vacuum =\n"
     ]
    },
    {
     "data": {
      "text/latex": [
       "$\\displaystyle \\left[-{\\left(i \\, \\mathit{B2}_{z} \\kappa \\cos\\left(\\kappa x\\right) - i \\, \\mathit{B1}_{z} \\kappa \\sin\\left(\\kappa x\\right) + {\\left(\\mathit{B1}_{x} \\cos\\left(\\kappa x\\right) + \\mathit{B2}_{x} \\sin\\left(\\kappa x\\right)\\right)} \\mathit{kz}\\right)} \\mathit{kz} = -\\frac{{\\left(\\mathit{B1}_{x} \\cos\\left(\\kappa x\\right) + \\mathit{B2}_{x} \\sin\\left(\\kappa x\\right)\\right)} \\omega^{2}}{c^{2}}, -\\mathit{B1}_{z} \\kappa^{2} \\cos\\left(\\kappa x\\right) - \\mathit{B2}_{z} \\kappa^{2} \\sin\\left(\\kappa x\\right) - i \\, {\\left(\\mathit{B2}_{x} \\kappa \\cos\\left(\\kappa x\\right) - \\mathit{B1}_{x} \\kappa \\sin\\left(\\kappa x\\right)\\right)} \\mathit{kz} = -\\frac{{\\left(\\mathit{B1}_{z} \\cos\\left(\\kappa x\\right) + \\mathit{B2}_{z} \\sin\\left(\\kappa x\\right)\\right)} \\omega^{2}}{c^{2}}\\right]$"
      ],
      "text/plain": [
       "<IPython.core.display.Math object>"
      ]
     },
     "metadata": {},
     "output_type": "display_data"
    },
    {
     "name": "stdout",
     "output_type": "stream",
     "text": [
      "even_M_rotH_inner_vacuum =\n"
     ]
    },
    {
     "data": {
      "text/latex": [
       "$\\displaystyle \\left(\\begin{array}{rr}\n",
       "-\\mathit{kz}^{2} \\cos\\left(\\kappa x\\right) + \\frac{\\omega^{2} \\cos\\left(\\kappa x\\right)}{c^{2}} & -i \\, \\kappa \\mathit{kz} \\cos\\left(\\kappa x\\right) \\\\\n",
       "i \\, \\kappa \\mathit{kz} \\sin\\left(\\kappa x\\right) & -\\kappa^{2} \\sin\\left(\\kappa x\\right) + \\frac{\\omega^{2} \\sin\\left(\\kappa x\\right)}{c^{2}}\n",
       "\\end{array}\\right)$"
      ],
      "text/plain": [
       "<IPython.core.display.Math object>"
      ]
     },
     "metadata": {},
     "output_type": "display_data"
    }
   ],
   "source": [
    "# чётные\n",
    "even_vars = [B1_x, B1_y, B1_z, B2_x, B2_y, B2_z, A2_x, A2_y, A2_z]\n",
    "even_vars = [B1_x,       B1_z, B2_x,       B2_z, A2_x,       A2_z] #2d -> E_y = 0\n",
    "\n",
    "even_vars_inner_vacuum = [B1_x, B1_y, B1_z, B2_x, B2_y, B2_z]\n",
    "even_vars_inner_vacuum = [B1_x,       B1_z, B2_x,       B2_z] #2d -> E_y = 0\n",
    "\n",
    "# выражения для электрического поля в диэлектрике\n",
    "#   E_dielectric_z (x) = B1_z*cos(kappa*x) + B2_z*sin(kappa*x)\n",
    "#   E_dielectric_x (x) = B1_x*cos(kappa*x) + B2_x*sin(kappa*x)\n",
    "\n",
    "# граничные условия на границе идеального проводника и вакуума внутри резонатора\n",
    "# тангенциальная компонента электрического поля\n",
    "# B1_z == 0\n",
    "\n",
    "# условие отражающие выбор именно чётного характера решения\n",
    "# B2_x == 0\n",
    "\n",
    "even_eqs_inner_vacuum = [B2_x == 0, B1_z == 0]\n",
    "\n",
    "for even_eq_inner_vacuum in even_eqs_inner_vacuum:\n",
    "    even_vars.remove(even_eq_inner_vacuum.lhs())\n",
    "    even_vars_inner_vacuum.remove(even_eq_inner_vacuum.lhs())\n",
    "    \n",
    "print (\"even_vars =\")\n",
    "display(Math(latex(even_vars)))\n",
    "\n",
    "print (\"even_vars_inner_vacuum =\")\n",
    "display(Math(latex(even_vars_inner_vacuum)))\n",
    "\n",
    "even_M_rotH_inner_vacuum = GenerateMatrix(eqsys_rotH_inner_vacuum, even_vars_inner_vacuum)\n",
    "\n",
    "print (\"eqsys_rotH_inner_vacuum =\")\n",
    "display(Math(latex(eqsys_rotH_inner_vacuum)))\n",
    "\n",
    "print (\"even_M_rotH_inner_vacuum =\")\n",
    "display(Math(latex(even_M_rotH_inner_vacuum)))"
   ]
  },
  {
   "cell_type": "code",
   "execution_count": 43,
   "metadata": {},
   "outputs": [
    {
     "data": {
      "text/latex": [
       "$\\displaystyle \\left[-i \\, \\mathit{B2}_{z} \\kappa \\mathit{kz} \\cos\\left(\\kappa x\\right) - {\\left(\\mathit{kz}^{2} \\cos\\left(\\kappa x\\right) - \\frac{\\omega^{2} \\cos\\left(\\kappa x\\right)}{c^{2}}\\right)} \\mathit{B1}_{x} = 0, i \\, \\mathit{B1}_{x} \\kappa \\mathit{kz} \\sin\\left(\\kappa x\\right) - {\\left(\\kappa^{2} \\sin\\left(\\kappa x\\right) - \\frac{\\omega^{2} \\sin\\left(\\kappa x\\right)}{c^{2}}\\right)} \\mathit{B2}_{z} = 0\\right]$"
      ],
      "text/plain": [
       "<IPython.core.display.Math object>"
      ]
     },
     "metadata": {},
     "output_type": "display_data"
    },
    {
     "name": "stdout",
     "output_type": "stream",
     "text": [
      "solve([eq, var])\n"
     ]
    },
    {
     "data": {
      "text/latex": [
       "$\\displaystyle \\left[-i \\, \\mathit{B2}_{z} \\kappa \\mathit{kz} \\cos\\left(\\kappa x\\right) - {\\left(\\mathit{kz}^{2} \\cos\\left(\\kappa x\\right) - \\frac{\\omega^{2} \\cos\\left(\\kappa x\\right)}{c^{2}}\\right)} \\mathit{B1}_{x} = 0, \\mathit{B1}_{x}\\right]$"
      ],
      "text/plain": [
       "<IPython.core.display.Math object>"
      ]
     },
     "metadata": {},
     "output_type": "display_data"
    },
    {
     "name": "stdout",
     "output_type": "stream",
     "text": [
      "\n",
      "sol=\n"
     ]
    },
    {
     "data": {
      "text/latex": [
       "$\\displaystyle \\left[\\mathit{B1}_{x} = -\\frac{i \\, \\mathit{B2}_{z} c^{2} \\kappa \\mathit{kz}}{c^{2} \\mathit{kz}^{2} - \\omega^{2}}\\right]$"
      ],
      "text/plain": [
       "<IPython.core.display.Math object>"
      ]
     },
     "metadata": {},
     "output_type": "display_data"
    },
    {
     "name": "stdout",
     "output_type": "stream",
     "text": [
      "eq_s_or_kappa =\n"
     ]
    },
    {
     "data": {
      "text/latex": [
       "$\\displaystyle -{\\left(\\mathit{kz} + i \\, \\mathit{sz}\\right)}^{2} + \\frac{\\omega^{2}}{c^{2}} = \\kappa^{2}$"
      ],
      "text/plain": [
       "<IPython.core.display.Math object>"
      ]
     },
     "metadata": {},
     "output_type": "display_data"
    },
    {
     "name": "stdout",
     "output_type": "stream",
     "text": [
      "sol_s_or_kappa_2[0].rhs()=\n"
     ]
    },
    {
     "data": {
      "text/latex": [
       "$\\displaystyle -\\frac{c^{2} \\mathit{kz}^{2} + 2 i \\, c^{2} \\mathit{kz} \\mathit{sz} - c^{2} \\mathit{sz}^{2} - \\omega^{2}}{c^{2}}$"
      ],
      "text/plain": [
       "<IPython.core.display.Math object>"
      ]
     },
     "metadata": {},
     "output_type": "display_data"
    },
    {
     "name": "stdout",
     "output_type": "stream",
     "text": [
      "\n",
      "sl =\n"
     ]
    },
    {
     "data": {
      "text/latex": [
       "$\\displaystyle -\\frac{i \\, \\mathit{B2}_{z} c^{2} \\kappa \\mathit{kz}}{c^{2} \\mathit{kz}^{2} - \\omega^{2}}$"
      ],
      "text/plain": [
       "<IPython.core.display.Math object>"
      ]
     },
     "metadata": {},
     "output_type": "display_data"
    },
    {
     "name": "stdout",
     "output_type": "stream",
     "text": [
      "\n",
      "ans =\n"
     ]
    },
    {
     "data": {
      "text/latex": [
       "$\\displaystyle -\\frac{i \\, \\mathit{B2}_{z} c^{2} \\kappa \\mathit{kz}}{c^{2} \\mathit{kz}^{2} - \\omega^{2}}$"
      ],
      "text/plain": [
       "<IPython.core.display.Math object>"
      ]
     },
     "metadata": {},
     "output_type": "display_data"
    },
    {
     "name": "stdout",
     "output_type": "stream",
     "text": [
      "(B2_z, c, kappa, kz, omega)\n",
      "sol_omega_2 =\n"
     ]
    },
    {
     "data": {
      "text/latex": [
       "$\\displaystyle c^{2} \\kappa^{2} + c^{2} \\mathit{kz}^{2} + 2 i \\, c^{2} \\mathit{kz} \\mathit{sz} - c^{2} \\mathit{sz}^{2}$"
      ],
      "text/plain": [
       "<IPython.core.display.Math object>"
      ]
     },
     "metadata": {},
     "output_type": "display_data"
    },
    {
     "name": "stdout",
     "output_type": "stream",
     "text": [
      "som =\n"
     ]
    },
    {
     "data": {
      "text/latex": [
       "$\\displaystyle \\frac{i \\, \\mathit{B2}_{z} c^{2} \\kappa \\mathit{kz}}{c^{2} \\kappa^{2} + 2 i \\, c^{2} \\mathit{kz} \\mathit{sz} - c^{2} \\mathit{sz}^{2}}$"
      ],
      "text/plain": [
       "<IPython.core.display.Math object>"
      ]
     },
     "metadata": {},
     "output_type": "display_data"
    },
    {
     "name": "stdout",
     "output_type": "stream",
     "text": [
      "som =\n"
     ]
    },
    {
     "data": {
      "text/latex": [
       "$\\displaystyle \\frac{i \\, \\mathit{B2}_{z} \\kappa \\mathit{kz}}{\\kappa^{2} + 2 i \\, \\mathit{kz} \\mathit{sz} - \\mathit{sz}^{2}}$"
      ],
      "text/plain": [
       "<IPython.core.display.Math object>"
      ]
     },
     "metadata": {},
     "output_type": "display_data"
    },
    {
     "name": "stdout",
     "output_type": "stream",
     "text": [
      "\n",
      "solve([eq, var])\n"
     ]
    },
    {
     "data": {
      "text/latex": [
       "$\\displaystyle \\left[i \\, \\mathit{B1}_{x} \\kappa \\mathit{kz} \\sin\\left(\\kappa x\\right) - {\\left(\\kappa^{2} \\sin\\left(\\kappa x\\right) - \\frac{\\omega^{2} \\sin\\left(\\kappa x\\right)}{c^{2}}\\right)} \\mathit{B2}_{z} = 0, \\mathit{B2}_{z}\\right]$"
      ],
      "text/plain": [
       "<IPython.core.display.Math object>"
      ]
     },
     "metadata": {},
     "output_type": "display_data"
    },
    {
     "name": "stdout",
     "output_type": "stream",
     "text": [
      "\n",
      "sol=\n"
     ]
    },
    {
     "data": {
      "text/latex": [
       "$\\displaystyle \\left[\\mathit{B2}_{z} = \\frac{i \\, \\mathit{B1}_{x} c^{2} \\kappa \\mathit{kz}}{c^{2} \\kappa^{2} - \\omega^{2}}\\right]$"
      ],
      "text/plain": [
       "<IPython.core.display.Math object>"
      ]
     },
     "metadata": {},
     "output_type": "display_data"
    },
    {
     "name": "stdout",
     "output_type": "stream",
     "text": [
      "eq_s_or_kappa =\n"
     ]
    },
    {
     "data": {
      "text/latex": [
       "$\\displaystyle -{\\left(\\mathit{kz} + i \\, \\mathit{sz}\\right)}^{2} + \\frac{\\omega^{2}}{c^{2}} = \\kappa^{2}$"
      ],
      "text/plain": [
       "<IPython.core.display.Math object>"
      ]
     },
     "metadata": {},
     "output_type": "display_data"
    },
    {
     "name": "stdout",
     "output_type": "stream",
     "text": [
      "sol_s_or_kappa_2[0].rhs()=\n"
     ]
    },
    {
     "data": {
      "text/latex": [
       "$\\displaystyle -\\frac{c^{2} \\mathit{kz}^{2} + 2 i \\, c^{2} \\mathit{kz} \\mathit{sz} - c^{2} \\mathit{sz}^{2} - \\omega^{2}}{c^{2}}$"
      ],
      "text/plain": [
       "<IPython.core.display.Math object>"
      ]
     },
     "metadata": {},
     "output_type": "display_data"
    },
    {
     "name": "stdout",
     "output_type": "stream",
     "text": [
      "\n",
      "sl =\n"
     ]
    },
    {
     "data": {
      "text/latex": [
       "$\\displaystyle \\frac{i \\, \\mathit{B1}_{x} c^{2} \\kappa \\mathit{kz}}{c^{2} \\kappa^{2} - \\omega^{2}}$"
      ],
      "text/plain": [
       "<IPython.core.display.Math object>"
      ]
     },
     "metadata": {},
     "output_type": "display_data"
    },
    {
     "name": "stdout",
     "output_type": "stream",
     "text": [
      "\n",
      "ans =\n"
     ]
    },
    {
     "data": {
      "text/latex": [
       "$\\displaystyle \\frac{i \\, \\mathit{B1}_{x} c^{2} \\kappa \\mathit{kz}}{c^{2} \\kappa^{2} - \\omega^{2}}$"
      ],
      "text/plain": [
       "<IPython.core.display.Math object>"
      ]
     },
     "metadata": {},
     "output_type": "display_data"
    },
    {
     "name": "stdout",
     "output_type": "stream",
     "text": [
      "(B1_x, c, kappa, kz, omega)\n",
      "sol_omega_2 =\n"
     ]
    },
    {
     "data": {
      "text/latex": [
       "$\\displaystyle c^{2} \\kappa^{2} + c^{2} \\mathit{kz}^{2} + 2 i \\, c^{2} \\mathit{kz} \\mathit{sz} - c^{2} \\mathit{sz}^{2}$"
      ],
      "text/plain": [
       "<IPython.core.display.Math object>"
      ]
     },
     "metadata": {},
     "output_type": "display_data"
    },
    {
     "name": "stdout",
     "output_type": "stream",
     "text": [
      "som =\n"
     ]
    },
    {
     "data": {
      "text/latex": [
       "$\\displaystyle -\\frac{i \\, \\mathit{B1}_{x} c^{2} \\kappa \\mathit{kz}}{c^{2} \\mathit{kz}^{2} + 2 i \\, c^{2} \\mathit{kz} \\mathit{sz} - c^{2} \\mathit{sz}^{2}}$"
      ],
      "text/plain": [
       "<IPython.core.display.Math object>"
      ]
     },
     "metadata": {},
     "output_type": "display_data"
    },
    {
     "name": "stdout",
     "output_type": "stream",
     "text": [
      "som =\n"
     ]
    },
    {
     "data": {
      "text/latex": [
       "$\\displaystyle -\\frac{i \\, \\mathit{B1}_{x} \\kappa \\mathit{kz}}{\\mathit{kz}^{2} + 2 i \\, \\mathit{kz} \\mathit{sz} - \\mathit{sz}^{2}}$"
      ],
      "text/plain": [
       "<IPython.core.display.Math object>"
      ]
     },
     "metadata": {},
     "output_type": "display_data"
    },
    {
     "name": "stdout",
     "output_type": "stream",
     "text": [
      "\n"
     ]
    }
   ],
   "source": [
    "even_res_rotH_inner_vacuum = rot_H_solve(even_M_rotH_inner_vacuum, even_vars_inner_vacuum, eq_kappa_inner_vacuum, kappa)"
   ]
  },
  {
   "cell_type": "code",
   "execution_count": 44,
   "metadata": {},
   "outputs": [
    {
     "name": "stdout",
     "output_type": "stream",
     "text": [
      "even_res_rotH_inner_vacuum =\n"
     ]
    },
    {
     "data": {
      "text/latex": [
       "$\\displaystyle \\left[\\mathit{B1}_{x} = \\frac{i \\, \\mathit{B2}_{z} \\kappa \\mathit{kz}}{\\kappa^{2} + 2 i \\, \\mathit{kz} \\mathit{sz} - \\mathit{sz}^{2}}, \\mathit{B2}_{z} = -\\frac{i \\, \\mathit{B1}_{x} \\kappa \\mathit{kz}}{\\mathit{kz}^{2} + 2 i \\, \\mathit{kz} \\mathit{sz} - \\mathit{sz}^{2}}\\right]$"
      ],
      "text/plain": [
       "<IPython.core.display.Math object>"
      ]
     },
     "metadata": {},
     "output_type": "display_data"
    }
   ],
   "source": [
    "print (\"even_res_rotH_inner_vacuum =\")\n",
    "display(Math(latex(even_res_rotH_inner_vacuum)))"
   ]
  },
  {
   "cell_type": "code",
   "execution_count": 45,
   "metadata": {},
   "outputs": [
    {
     "name": "stdout",
     "output_type": "stream",
     "text": [
      "eqsys_rotH_bad_conductor =\n"
     ]
    },
    {
     "data": {
      "text/latex": [
       "$\\displaystyle \\left[-\\frac{{\\left(i \\, \\mathit{A2}_{z} {\\left(i \\, \\mathit{kx} - \\mathit{sx}\\right)} e^{\\left(-i \\, {\\left(a - x\\right)} \\mathit{kx} + {\\left(a - x\\right)} \\mathit{sx}\\right)} + \\mathit{A2}_{x} \\mathit{kz} e^{\\left(-i \\, {\\left(a - x\\right)} \\mathit{kx} + {\\left(a - x\\right)} \\mathit{sx}\\right)}\\right)} \\mathit{kz}}{\\mu} = -\\frac{\\mathit{A2}_{x} \\epsilon \\omega^{2} e^{\\left(-i \\, {\\left(a - x\\right)} \\mathit{kx} + {\\left(a - x\\right)} \\mathit{sx}\\right)}}{c^{2}}, -\\frac{i \\, {\\left(i \\, \\mathit{A2}_{z} {\\left(i \\, \\mathit{kx} - \\mathit{sx}\\right)}^{2} e^{\\left(-i \\, {\\left(a - x\\right)} \\mathit{kx} + {\\left(a - x\\right)} \\mathit{sx}\\right)} + \\mathit{A2}_{x} {\\left(i \\, \\mathit{kx} - \\mathit{sx}\\right)} \\mathit{kz} e^{\\left(-i \\, {\\left(a - x\\right)} \\mathit{kx} + {\\left(a - x\\right)} \\mathit{sx}\\right)}\\right)}}{\\mu} = -\\frac{\\mathit{A2}_{z} \\epsilon \\omega^{2} e^{\\left(-i \\, {\\left(a - x\\right)} \\mathit{kx} + {\\left(a - x\\right)} \\mathit{sx}\\right)}}{c^{2}}\\right]$"
      ],
      "text/plain": [
       "<IPython.core.display.Math object>"
      ]
     },
     "metadata": {},
     "output_type": "display_data"
    },
    {
     "name": "stdout",
     "output_type": "stream",
     "text": [
      "even_M_rotH_bad_conductor =\n"
     ]
    },
    {
     "data": {
      "text/latex": [
       "$\\displaystyle \\left(\\begin{array}{rr}\n",
       "-\\frac{\\mathit{kz}^{2} e^{\\left(-i \\, {\\left(a - x\\right)} \\mathit{kx} + {\\left(a - x\\right)} \\mathit{sx}\\right)}}{\\mu} + \\frac{\\epsilon \\omega^{2} e^{\\left(-i \\, {\\left(a - x\\right)} \\mathit{kx} + {\\left(a - x\\right)} \\mathit{sx}\\right)}}{c^{2}} & -\\frac{i \\, {\\left(i \\, \\mathit{kx} - \\mathit{sx}\\right)} \\mathit{kz} e^{\\left(-i \\, {\\left(a - x\\right)} \\mathit{kx} + {\\left(a - x\\right)} \\mathit{sx}\\right)}}{\\mu} \\\\\n",
       "-\\frac{i \\, {\\left(i \\, \\mathit{kx} - \\mathit{sx}\\right)} \\mathit{kz} e^{\\left(-i \\, {\\left(a - x\\right)} \\mathit{kx} + {\\left(a - x\\right)} \\mathit{sx}\\right)}}{\\mu} & \\frac{{\\left(i \\, \\mathit{kx} - \\mathit{sx}\\right)}^{2} e^{\\left(-i \\, {\\left(a - x\\right)} \\mathit{kx} + {\\left(a - x\\right)} \\mathit{sx}\\right)}}{\\mu} + \\frac{\\epsilon \\omega^{2} e^{\\left(-i \\, {\\left(a - x\\right)} \\mathit{kx} + {\\left(a - x\\right)} \\mathit{sx}\\right)}}{c^{2}}\n",
       "\\end{array}\\right)$"
      ],
      "text/plain": [
       "<IPython.core.display.Math object>"
      ]
     },
     "metadata": {},
     "output_type": "display_data"
    }
   ],
   "source": [
    "even_vars_bad_conductor = [A2_x, A2_y, A2_z]\n",
    "even_vars_bad_conductor = [A2_x,       A2_z] #2d\n",
    "\n",
    "even_M_rotH_bad_conductor = GenerateMatrix(eqsys_rotH_bad_conductor, even_vars_bad_conductor)\n",
    "\n",
    "print (\"eqsys_rotH_bad_conductor =\")\n",
    "display(Math(latex(eqsys_rotH_bad_conductor)))\n",
    "\n",
    "print (\"even_M_rotH_bad_conductor =\")\n",
    "display(Math(latex(even_M_rotH_bad_conductor)))"
   ]
  },
  {
   "cell_type": "code",
   "execution_count": 46,
   "metadata": {},
   "outputs": [
    {
     "data": {
      "text/latex": [
       "$\\displaystyle \\left[-\\frac{i \\, \\mathit{A2}_{z} {\\left(i \\, \\mathit{kx} - \\mathit{sx}\\right)} \\mathit{kz} e^{\\left(-i \\, {\\left(a - x\\right)} \\mathit{kx} + {\\left(a - x\\right)} \\mathit{sx}\\right)}}{\\mu} - {\\left(\\frac{\\mathit{kz}^{2} e^{\\left(-i \\, {\\left(a - x\\right)} \\mathit{kx} + {\\left(a - x\\right)} \\mathit{sx}\\right)}}{\\mu} - \\frac{\\epsilon \\omega^{2} e^{\\left(-i \\, {\\left(a - x\\right)} \\mathit{kx} + {\\left(a - x\\right)} \\mathit{sx}\\right)}}{c^{2}}\\right)} \\mathit{A2}_{x} = 0, -\\frac{i \\, \\mathit{A2}_{x} {\\left(i \\, \\mathit{kx} - \\mathit{sx}\\right)} \\mathit{kz} e^{\\left(-i \\, {\\left(a - x\\right)} \\mathit{kx} + {\\left(a - x\\right)} \\mathit{sx}\\right)}}{\\mu} + {\\left(\\frac{{\\left(i \\, \\mathit{kx} - \\mathit{sx}\\right)}^{2} e^{\\left(-i \\, {\\left(a - x\\right)} \\mathit{kx} + {\\left(a - x\\right)} \\mathit{sx}\\right)}}{\\mu} + \\frac{\\epsilon \\omega^{2} e^{\\left(-i \\, {\\left(a - x\\right)} \\mathit{kx} + {\\left(a - x\\right)} \\mathit{sx}\\right)}}{c^{2}}\\right)} \\mathit{A2}_{z} = 0\\right]$"
      ],
      "text/plain": [
       "<IPython.core.display.Math object>"
      ]
     },
     "metadata": {},
     "output_type": "display_data"
    },
    {
     "name": "stdout",
     "output_type": "stream",
     "text": [
      "solve([eq, var])\n"
     ]
    },
    {
     "data": {
      "text/latex": [
       "$\\displaystyle \\left[-\\frac{i \\, \\mathit{A2}_{z} {\\left(i \\, \\mathit{kx} - \\mathit{sx}\\right)} \\mathit{kz} e^{\\left(-i \\, {\\left(a - x\\right)} \\mathit{kx} + {\\left(a - x\\right)} \\mathit{sx}\\right)}}{\\mu} - {\\left(\\frac{\\mathit{kz}^{2} e^{\\left(-i \\, {\\left(a - x\\right)} \\mathit{kx} + {\\left(a - x\\right)} \\mathit{sx}\\right)}}{\\mu} - \\frac{\\epsilon \\omega^{2} e^{\\left(-i \\, {\\left(a - x\\right)} \\mathit{kx} + {\\left(a - x\\right)} \\mathit{sx}\\right)}}{c^{2}}\\right)} \\mathit{A2}_{x} = 0, \\mathit{A2}_{x}\\right]$"
      ],
      "text/plain": [
       "<IPython.core.display.Math object>"
      ]
     },
     "metadata": {},
     "output_type": "display_data"
    },
    {
     "name": "stdout",
     "output_type": "stream",
     "text": [
      "\n",
      "sol=\n"
     ]
    },
    {
     "data": {
      "text/latex": [
       "$\\displaystyle \\mathit{A2}_{x} = \\frac{\\mathit{A2}_{z} c^{2} \\mathit{kx} \\mathit{kz} + i \\, \\mathit{A2}_{z} c^{2} \\mathit{kz} \\mathit{sx}}{c^{2} \\mathit{kz}^{2} - \\epsilon \\mu \\omega^{2}}$"
      ],
      "text/plain": [
       "<IPython.core.display.Math object>"
      ]
     },
     "metadata": {},
     "output_type": "display_data"
    },
    {
     "name": "stdout",
     "output_type": "stream",
     "text": [
      "sl =\n"
     ]
    },
    {
     "data": {
      "text/latex": [
       "$\\displaystyle {\\left(\\frac{c^{2} \\mathit{kx} \\mathit{kz}}{c^{2} \\mathit{kz}^{2} - \\epsilon \\mu \\omega^{2}} + \\frac{i \\, c^{2} \\mathit{kz} \\mathit{sx}}{c^{2} \\mathit{kz}^{2} - \\epsilon \\mu \\omega^{2}}\\right)} \\mathit{A2}_{z}$"
      ],
      "text/plain": [
       "<IPython.core.display.Math object>"
      ]
     },
     "metadata": {},
     "output_type": "display_data"
    },
    {
     "name": "stdout",
     "output_type": "stream",
     "text": [
      "\n",
      "\n",
      "solve([eq, var])\n"
     ]
    },
    {
     "data": {
      "text/latex": [
       "$\\displaystyle \\left[-\\frac{i \\, \\mathit{A2}_{x} {\\left(i \\, \\mathit{kx} - \\mathit{sx}\\right)} \\mathit{kz} e^{\\left(-i \\, {\\left(a - x\\right)} \\mathit{kx} + {\\left(a - x\\right)} \\mathit{sx}\\right)}}{\\mu} + {\\left(\\frac{{\\left(i \\, \\mathit{kx} - \\mathit{sx}\\right)}^{2} e^{\\left(-i \\, {\\left(a - x\\right)} \\mathit{kx} + {\\left(a - x\\right)} \\mathit{sx}\\right)}}{\\mu} + \\frac{\\epsilon \\omega^{2} e^{\\left(-i \\, {\\left(a - x\\right)} \\mathit{kx} + {\\left(a - x\\right)} \\mathit{sx}\\right)}}{c^{2}}\\right)} \\mathit{A2}_{z} = 0, \\mathit{A2}_{z}\\right]$"
      ],
      "text/plain": [
       "<IPython.core.display.Math object>"
      ]
     },
     "metadata": {},
     "output_type": "display_data"
    },
    {
     "name": "stdout",
     "output_type": "stream",
     "text": [
      "\n",
      "sol=\n"
     ]
    },
    {
     "data": {
      "text/latex": [
       "$\\displaystyle \\mathit{A2}_{z} = \\frac{\\mathit{A2}_{x} c^{2} \\mathit{kx} \\mathit{kz} + i \\, \\mathit{A2}_{x} c^{2} \\mathit{kz} \\mathit{sx}}{c^{2} \\mathit{kx}^{2} - \\epsilon \\mu \\omega^{2} + 2 i \\, c^{2} \\mathit{kx} \\mathit{sx} - c^{2} \\mathit{sx}^{2}}$"
      ],
      "text/plain": [
       "<IPython.core.display.Math object>"
      ]
     },
     "metadata": {},
     "output_type": "display_data"
    },
    {
     "name": "stdout",
     "output_type": "stream",
     "text": [
      "sl =\n"
     ]
    },
    {
     "data": {
      "text/latex": [
       "$\\displaystyle \\frac{\\mathit{A2}_{x} c^{2} \\mathit{kx} \\mathit{kz} + i \\, \\mathit{A2}_{x} c^{2} \\mathit{kz} \\mathit{sx}}{c^{2} \\mathit{kx}^{2} - \\epsilon \\mu \\omega^{2} + 2 i \\, c^{2} \\mathit{kx} \\mathit{sx} - c^{2} \\mathit{sx}^{2}}$"
      ],
      "text/plain": [
       "<IPython.core.display.Math object>"
      ]
     },
     "metadata": {},
     "output_type": "display_data"
    },
    {
     "name": "stdout",
     "output_type": "stream",
     "text": [
      "\n",
      "\n"
     ]
    }
   ],
   "source": [
    "even_res_rotH_bad_conductor = rot_H_solve_s(even_M_rotH_bad_conductor, even_vars_bad_conductor)"
   ]
  },
  {
   "cell_type": "code",
   "execution_count": 47,
   "metadata": {},
   "outputs": [
    {
     "name": "stdout",
     "output_type": "stream",
     "text": [
      "even_res_rotH_bad_conductor =\n"
     ]
    },
    {
     "data": {
      "text/latex": [
       "$\\displaystyle \\left[\\mathit{A2}_{x} = {\\left(\\frac{c^{2} \\mathit{kx} \\mathit{kz}}{c^{2} \\mathit{kz}^{2} - \\epsilon \\mu \\omega^{2}} + \\frac{i \\, c^{2} \\mathit{kz} \\mathit{sx}}{c^{2} \\mathit{kz}^{2} - \\epsilon \\mu \\omega^{2}}\\right)} \\mathit{A2}_{z}, \\mathit{A2}_{z} = \\frac{\\mathit{A2}_{x} c^{2} \\mathit{kx} \\mathit{kz} + i \\, \\mathit{A2}_{x} c^{2} \\mathit{kz} \\mathit{sx}}{c^{2} \\mathit{kx}^{2} - \\epsilon \\mu \\omega^{2} + 2 i \\, c^{2} \\mathit{kx} \\mathit{sx} - c^{2} \\mathit{sx}^{2}}\\right]$"
      ],
      "text/plain": [
       "<IPython.core.display.Math object>"
      ]
     },
     "metadata": {},
     "output_type": "display_data"
    }
   ],
   "source": [
    "print (\"even_res_rotH_bad_conductor =\")\n",
    "display(Math(latex(even_res_rotH_bad_conductor)))"
   ]
  },
  {
   "cell_type": "code",
   "execution_count": 48,
   "metadata": {},
   "outputs": [
    {
     "data": {
      "text/latex": [
       "$\\displaystyle \\mathit{A2}_{x} = {\\left(\\frac{c^{2} \\mathit{kx} \\mathit{kz}}{c^{2} \\mathit{kz}^{2} - \\epsilon \\mu \\omega^{2}} + \\frac{i \\, c^{2} \\mathit{kz} \\mathit{sx}}{c^{2} \\mathit{kz}^{2} - \\epsilon \\mu \\omega^{2}}\\right)} \\mathit{A2}_{z}$"
      ],
      "text/plain": [
       "<IPython.core.display.Math object>"
      ]
     },
     "metadata": {},
     "output_type": "display_data"
    }
   ],
   "source": [
    "display(Math(latex(even_res_rotH_bad_conductor[0])))"
   ]
  },
  {
   "cell_type": "code",
   "execution_count": 49,
   "metadata": {},
   "outputs": [
    {
     "data": {
      "text/plain": [
       "[B1_x*cos(a*kappa) + B2_x*sin(a*kappa) == A2_x*epsilon,\n",
       " B1_z*cos(a*kappa) + B2_z*sin(a*kappa) == A2_z]"
      ]
     },
     "execution_count": 49,
     "metadata": {},
     "output_type": "execute_result"
    }
   ],
   "source": [
    "eqsys_boundary_conditions"
   ]
  },
  {
   "cell_type": "code",
   "execution_count": 50,
   "metadata": {},
   "outputs": [
    {
     "data": {
      "text/plain": [
       "[B1_x, B2_z, A2_x, A2_z]"
      ]
     },
     "execution_count": 50,
     "metadata": {},
     "output_type": "execute_result"
    }
   ],
   "source": [
    "even_vars"
   ]
  },
  {
   "cell_type": "code",
   "execution_count": 51,
   "metadata": {},
   "outputs": [
    {
     "data": {
      "text/plain": [
       "[B1_x*cos(a*kappa) + B2_x*sin(a*kappa) == A2_x*epsilon,\n",
       " B1_z*cos(a*kappa) + B2_z*sin(a*kappa) == A2_z,\n",
       " B1_x == I*B2_z*kappa*kz/(kappa^2 + 2*I*kz*sz - sz^2),\n",
       " B2_z == -I*B1_x*kappa*kz/(kz^2 + 2*I*kz*sz - sz^2),\n",
       " A2_x == (c^2*kx*kz/(c^2*kz^2 - epsilon*mu*omega^2) + I*c^2*kz*sx/(c^2*kz^2 - epsilon*mu*omega^2))*A2_z,\n",
       " A2_z == (A2_x*c^2*kx*kz + I*A2_x*c^2*kz*sx)/(c^2*kx^2 - epsilon*mu*omega^2 + 2*I*c^2*kx*sx - c^2*sx^2)]"
      ]
     },
     "execution_count": 51,
     "metadata": {},
     "output_type": "execute_result"
    }
   ],
   "source": [
    "eq_sys = eqsys_boundary_conditions + even_res_rotH_inner_vacuum + even_res_rotH_bad_conductor\n",
    "eq_sys"
   ]
  },
  {
   "cell_type": "code",
   "execution_count": 52,
   "metadata": {},
   "outputs": [
    {
     "data": {
      "text/plain": [
       "[B1_x*cos(a*kappa) + B2_x*sin(a*kappa) == A2_x*epsilon,\n",
       " B1_z*cos(a*kappa) + B2_z*sin(a*kappa) == A2_z]"
      ]
     },
     "execution_count": 52,
     "metadata": {},
     "output_type": "execute_result"
    }
   ],
   "source": [
    "eqsys_boundary_conditions"
   ]
  },
  {
   "cell_type": "code",
   "execution_count": 53,
   "metadata": {},
   "outputs": [
    {
     "data": {
      "text/plain": [
       "[B1_x, B2_z, A2_x, A2_z]"
      ]
     },
     "execution_count": 53,
     "metadata": {},
     "output_type": "execute_result"
    }
   ],
   "source": [
    "even_vars"
   ]
  },
  {
   "cell_type": "code",
   "execution_count": 54,
   "metadata": {},
   "outputs": [
    {
     "name": "stdout",
     "output_type": "stream",
     "text": [
      "even_M =\n"
     ]
    },
    {
     "data": {
      "text/latex": [
       "$\\displaystyle \\left(\\begin{array}{rrrr}\n",
       "\\cos\\left(a \\kappa\\right) & 0 & -\\epsilon & 0 \\\\\n",
       "0 & \\sin\\left(a \\kappa\\right) & 0 & -1 \\\\\n",
       "1 & -\\frac{i \\, \\kappa \\mathit{kz}}{\\kappa^{2} + 2 i \\, \\mathit{kz} \\mathit{sz} - \\mathit{sz}^{2}} & 0 & 0 \\\\\n",
       "\\frac{i \\, \\kappa \\mathit{kz}}{\\mathit{kz}^{2} + 2 i \\, \\mathit{kz} \\mathit{sz} - \\mathit{sz}^{2}} & 1 & 0 & 0 \\\\\n",
       "0 & 0 & 1 & -\\frac{c^{2} \\mathit{kx} \\mathit{kz}}{c^{2} \\mathit{kz}^{2} - \\epsilon \\mu \\omega^{2}} - \\frac{i \\, c^{2} \\mathit{kz} \\mathit{sx}}{c^{2} \\mathit{kz}^{2} - \\epsilon \\mu \\omega^{2}} \\\\\n",
       "0 & 0 & -\\frac{c^{2} \\mathit{kx} \\mathit{kz} + i \\, c^{2} \\mathit{kz} \\mathit{sx}}{c^{2} \\mathit{kx}^{2} - \\epsilon \\mu \\omega^{2} + 2 i \\, c^{2} \\mathit{kx} \\mathit{sx} - c^{2} \\mathit{sx}^{2}} & 1\n",
       "\\end{array}\\right)$"
      ],
      "text/plain": [
       "<IPython.core.display.Math object>"
      ]
     },
     "metadata": {},
     "output_type": "display_data"
    }
   ],
   "source": [
    "even_M = GenerateMatrix(eq_sys, even_vars)\n",
    "print (\"even_M =\")\n",
    "display(Math(latex(even_M)))"
   ]
  },
  {
   "cell_type": "code",
   "execution_count": null,
   "metadata": {},
   "outputs": [],
   "source": []
  },
  {
   "cell_type": "code",
   "execution_count": 55,
   "metadata": {},
   "outputs": [
    {
     "name": "stdout",
     "output_type": "stream",
     "text": [
      "\n",
      "M.nrows() 6\n",
      "M.ncols() 4\n",
      "M.rank() 4\n",
      "M.pivot_rows() = (0, 1, 2, 3)\n",
      "row = (cos(a*kappa), 0, -epsilon, 0)\n",
      "row = (0, sin(a*kappa), 0, -1)\n",
      "row = (1, -I*kappa*kz/(kappa^2 + 2*I*kz*sz - sz^2), 0, 0)\n",
      "row = (I*kappa*kz/(kz^2 + 2*I*kz*sz - sz^2), 1, 0, 0)\n",
      "row = (0, 0, 1, -c^2*kx*kz/(c^2*kz^2 - epsilon*mu*omega^2) - I*c^2*kz*sx/(c^2*kz^2 - epsilon*mu*omega^2))\n",
      "row = (0, 0, -(c^2*kx*kz + I*c^2*kz*sx)/(c^2*kx^2 - epsilon*mu*omega^2 + 2*I*c^2*kx*sx - c^2*sx^2), 1)\n",
      "M_rows[ 0 ] =\n"
     ]
    },
    {
     "data": {
      "text/latex": [
       "$\\displaystyle \\left(\\cos\\left(a \\kappa\\right),\\,0,\\,-\\epsilon,\\,0\\right)$"
      ],
      "text/plain": [
       "<IPython.core.display.Math object>"
      ]
     },
     "metadata": {},
     "output_type": "display_data"
    },
    {
     "name": "stdout",
     "output_type": "stream",
     "text": [
      "M_rows[ 1 ] =\n"
     ]
    },
    {
     "data": {
      "text/latex": [
       "$\\displaystyle \\left(0,\\,\\sin\\left(a \\kappa\\right),\\,0,\\,-1\\right)$"
      ],
      "text/plain": [
       "<IPython.core.display.Math object>"
      ]
     },
     "metadata": {},
     "output_type": "display_data"
    },
    {
     "name": "stdout",
     "output_type": "stream",
     "text": [
      "M_rows[ 2 ] =\n"
     ]
    },
    {
     "data": {
      "text/latex": [
       "$\\displaystyle \\left(1,\\,-\\frac{i \\, \\kappa \\mathit{kz}}{\\kappa^{2} + 2 i \\, \\mathit{kz} \\mathit{sz} - \\mathit{sz}^{2}},\\,0,\\,0\\right)$"
      ],
      "text/plain": [
       "<IPython.core.display.Math object>"
      ]
     },
     "metadata": {},
     "output_type": "display_data"
    },
    {
     "name": "stdout",
     "output_type": "stream",
     "text": [
      "M_rows[ 3 ] =\n"
     ]
    },
    {
     "data": {
      "text/latex": [
       "$\\displaystyle \\left(\\frac{i \\, \\kappa \\mathit{kz}}{\\mathit{kz}^{2} + 2 i \\, \\mathit{kz} \\mathit{sz} - \\mathit{sz}^{2}},\\,1,\\,0,\\,0\\right)$"
      ],
      "text/plain": [
       "<IPython.core.display.Math object>"
      ]
     },
     "metadata": {},
     "output_type": "display_data"
    },
    {
     "name": "stdout",
     "output_type": "stream",
     "text": [
      "\n",
      "reduced_M.det() = -epsilon*kappa^2*kz^2/((kappa^2 + 2*I*kz*sz - sz^2)*(kz^2 + 2*I*kz*sz - sz^2)) + epsilon\n"
     ]
    },
    {
     "data": {
      "text/latex": [
       "$\\displaystyle \\left(\\begin{array}{rrrr}\n",
       "\\cos\\left(a \\kappa\\right) & 0 & -\\epsilon & 0 \\\\\n",
       "0 & \\sin\\left(a \\kappa\\right) & 0 & -1 \\\\\n",
       "1 & -\\frac{i \\, \\kappa \\mathit{kz}}{\\kappa^{2} + 2 i \\, \\mathit{kz} \\mathit{sz} - \\mathit{sz}^{2}} & 0 & 0 \\\\\n",
       "\\frac{i \\, \\kappa \\mathit{kz}}{\\mathit{kz}^{2} + 2 i \\, \\mathit{kz} \\mathit{sz} - \\mathit{sz}^{2}} & 1 & 0 & 0\n",
       "\\end{array}\\right)$"
      ],
      "text/plain": [
       "<IPython.core.display.Math object>"
      ]
     },
     "metadata": {},
     "output_type": "display_data"
    }
   ],
   "source": [
    "try:\n",
    "    even_reduced_M = reduceDependedRows(even_M)\n",
    "except:\n",
    "    M_pivot_rows = (0, 1, 2, 3, 4, 6)\n",
    "    even_reduced_M = reduceRows(even_M, M_pivot_rows)\n",
    "even_reduced_M_det = even_reduced_M.det()\n",
    "display(Math(latex(even_reduced_M)))"
   ]
  },
  {
   "cell_type": "code",
   "execution_count": 56,
   "metadata": {},
   "outputs": [
    {
     "name": "stdout",
     "output_type": "stream",
     "text": [
      "\n",
      "M.nrows() 6\n",
      "M.ncols() 4\n",
      "M.rank() 4\n",
      "M.pivot_rows() = (0, 1, 2, 4)\n",
      "row = (cos(a*kappa), 0, -epsilon, 0)\n",
      "row = (0, sin(a*kappa), 0, -1)\n",
      "row = (1, -I*kappa*kz/(kappa^2 + 2*I*kz*sz - sz^2), 0, 0)\n",
      "row = (I*kappa*kz/(kz^2 + 2*I*kz*sz - sz^2), 1, 0, 0)\n",
      "row = (0, 0, 1, -c^2*kx*kz/(c^2*kz^2 - epsilon*mu*omega^2) - I*c^2*kz*sx/(c^2*kz^2 - epsilon*mu*omega^2))\n",
      "row = (0, 0, -(c^2*kx*kz + I*c^2*kz*sx)/(c^2*kx^2 - epsilon*mu*omega^2 + 2*I*c^2*kx*sx - c^2*sx^2), 1)\n",
      "M_rows[ 0 ] =\n"
     ]
    },
    {
     "data": {
      "text/latex": [
       "$\\displaystyle \\left(\\cos\\left(a \\kappa\\right),\\,0,\\,-\\epsilon,\\,0\\right)$"
      ],
      "text/plain": [
       "<IPython.core.display.Math object>"
      ]
     },
     "metadata": {},
     "output_type": "display_data"
    },
    {
     "name": "stdout",
     "output_type": "stream",
     "text": [
      "M_rows[ 1 ] =\n"
     ]
    },
    {
     "data": {
      "text/latex": [
       "$\\displaystyle \\left(0,\\,\\sin\\left(a \\kappa\\right),\\,0,\\,-1\\right)$"
      ],
      "text/plain": [
       "<IPython.core.display.Math object>"
      ]
     },
     "metadata": {},
     "output_type": "display_data"
    },
    {
     "name": "stdout",
     "output_type": "stream",
     "text": [
      "M_rows[ 2 ] =\n"
     ]
    },
    {
     "data": {
      "text/latex": [
       "$\\displaystyle \\left(1,\\,-\\frac{i \\, \\kappa \\mathit{kz}}{\\kappa^{2} + 2 i \\, \\mathit{kz} \\mathit{sz} - \\mathit{sz}^{2}},\\,0,\\,0\\right)$"
      ],
      "text/plain": [
       "<IPython.core.display.Math object>"
      ]
     },
     "metadata": {},
     "output_type": "display_data"
    },
    {
     "name": "stdout",
     "output_type": "stream",
     "text": [
      "M_rows[ 4 ] =\n"
     ]
    },
    {
     "data": {
      "text/latex": [
       "$\\displaystyle \\left(0,\\,0,\\,1,\\,-\\frac{c^{2} \\mathit{kx} \\mathit{kz}}{c^{2} \\mathit{kz}^{2} - \\epsilon \\mu \\omega^{2}} - \\frac{i \\, c^{2} \\mathit{kz} \\mathit{sx}}{c^{2} \\mathit{kz}^{2} - \\epsilon \\mu \\omega^{2}}\\right)$"
      ],
      "text/plain": [
       "<IPython.core.display.Math object>"
      ]
     },
     "metadata": {},
     "output_type": "display_data"
    },
    {
     "name": "stdout",
     "output_type": "stream",
     "text": [
      "\n",
      "reduced_M.det() = -c^2*epsilon*kx*kz*sin(a*kappa)/(c^2*kz^2 - epsilon*mu*omega^2) - I*c^2*epsilon*kz*sx*sin(a*kappa)/(c^2*kz^2 - epsilon*mu*omega^2) + I*kappa*kz*cos(a*kappa)/(kappa^2 + 2*I*kz*sz - sz^2)\n"
     ]
    },
    {
     "data": {
      "text/latex": [
       "$\\displaystyle \\left(\\begin{array}{rrrr}\n",
       "\\cos\\left(a \\kappa\\right) & 0 & -\\epsilon & 0 \\\\\n",
       "0 & \\sin\\left(a \\kappa\\right) & 0 & -1 \\\\\n",
       "1 & -\\frac{i \\, \\kappa \\mathit{kz}}{\\kappa^{2} + 2 i \\, \\mathit{kz} \\mathit{sz} - \\mathit{sz}^{2}} & 0 & 0 \\\\\n",
       "0 & 0 & 1 & -\\frac{c^{2} \\mathit{kx} \\mathit{kz}}{c^{2} \\mathit{kz}^{2} - \\epsilon \\mu \\omega^{2}} - \\frac{i \\, c^{2} \\mathit{kz} \\mathit{sx}}{c^{2} \\mathit{kz}^{2} - \\epsilon \\mu \\omega^{2}}\n",
       "\\end{array}\\right)$"
      ],
      "text/plain": [
       "<IPython.core.display.Math object>"
      ]
     },
     "metadata": {},
     "output_type": "display_data"
    }
   ],
   "source": [
    "M_pivot_rows = (0, 1, 2, 4)\n",
    "even_reduced_M = reduceRows(even_M, M_pivot_rows)\n",
    "even_reduced_M_det = even_reduced_M.det()\n",
    "display(Math(latex(even_reduced_M)))"
   ]
  },
  {
   "cell_type": "code",
   "execution_count": 57,
   "metadata": {},
   "outputs": [
    {
     "data": {
      "text/latex": [
       "$\\displaystyle \\left(\\begin{array}{rrrr}\n",
       "\\cos\\left(a \\kappa\\right) & 0 & -\\epsilon & 0 \\\\\n",
       "0 & \\sin\\left(a \\kappa\\right) & 0 & -1 \\\\\n",
       "1 & -\\frac{i \\, \\kappa \\mathit{kz}}{\\kappa^{2} + 2 i \\, \\mathit{kz} \\mathit{sz} - \\mathit{sz}^{2}} & 0 & 0 \\\\\n",
       "0 & 0 & 1 & -\\frac{c^{2} \\mathit{kx} \\mathit{kz}}{c^{2} \\mathit{kz}^{2} - \\epsilon \\mu \\omega^{2}} - \\frac{i \\, c^{2} \\mathit{kz} \\mathit{sx}}{c^{2} \\mathit{kz}^{2} - \\epsilon \\mu \\omega^{2}}\n",
       "\\end{array}\\right)$"
      ],
      "text/plain": [
       "<IPython.core.display.Math object>"
      ]
     },
     "metadata": {},
     "output_type": "display_data"
    }
   ],
   "source": [
    "display(Math(latex(even_reduced_M)))"
   ]
  },
  {
   "cell_type": "code",
   "execution_count": 58,
   "metadata": {},
   "outputs": [
    {
     "name": "stdout",
     "output_type": "stream",
     "text": [
      "even_reduced_M_det =\n"
     ]
    },
    {
     "data": {
      "text/latex": [
       "$\\displaystyle -\\frac{c^{2} \\epsilon \\mathit{kx} \\mathit{kz} \\sin\\left(a \\kappa\\right)}{c^{2} \\mathit{kz}^{2} - \\epsilon \\mu \\omega^{2}} - \\frac{i \\, c^{2} \\epsilon \\mathit{kz} \\mathit{sx} \\sin\\left(a \\kappa\\right)}{c^{2} \\mathit{kz}^{2} - \\epsilon \\mu \\omega^{2}} + \\frac{i \\, \\kappa \\mathit{kz} \\cos\\left(a \\kappa\\right)}{\\kappa^{2} + 2 i \\, \\mathit{kz} \\mathit{sz} - \\mathit{sz}^{2}}$"
      ],
      "text/plain": [
       "<IPython.core.display.Math object>"
      ]
     },
     "metadata": {},
     "output_type": "display_data"
    }
   ],
   "source": [
    "print (\"even_reduced_M_det =\")\n",
    "display(Math(latex(even_reduced_M_det)))"
   ]
  },
  {
   "cell_type": "code",
   "execution_count": 59,
   "metadata": {},
   "outputs": [
    {
     "name": "stdout",
     "output_type": "stream",
     "text": [
      "even_disp_eq =\n"
     ]
    },
    {
     "data": {
      "text/latex": [
       "$\\displaystyle -\\frac{c^{2} \\epsilon \\mathit{kx} \\mathit{kz} \\sin\\left(a \\kappa\\right)}{c^{2} \\mathit{kz}^{2} - \\epsilon \\mu \\omega^{2}} - \\frac{i \\, c^{2} \\epsilon \\mathit{kz} \\mathit{sx} \\sin\\left(a \\kappa\\right)}{c^{2} \\mathit{kz}^{2} - \\epsilon \\mu \\omega^{2}} + \\frac{i \\, \\kappa \\mathit{kz} \\cos\\left(a \\kappa\\right)}{\\kappa^{2} + 2 i \\, \\mathit{kz} \\mathit{sz} - \\mathit{sz}^{2}} = 0$"
      ],
      "text/plain": [
       "<IPython.core.display.Math object>"
      ]
     },
     "metadata": {},
     "output_type": "display_data"
    }
   ],
   "source": [
    "even_disp_eq = (even_reduced_M_det == 0)\n",
    "print (\"even_disp_eq =\")\n",
    "display(Math(latex(even_disp_eq)))"
   ]
  },
  {
   "cell_type": "code",
   "execution_count": 60,
   "metadata": {},
   "outputs": [
    {
     "name": "stdout",
     "output_type": "stream",
     "text": [
      "even_disp_eq_re =\n"
     ]
    },
    {
     "data": {
      "text/latex": [
       "$\\displaystyle -\\frac{c^{2} \\epsilon \\mathit{kx} \\mathit{kz} \\sin\\left(a \\kappa\\right)}{c^{2} \\mathit{kz}^{2} - \\epsilon \\mu \\omega^{2}} + \\frac{2 \\, \\kappa \\mathit{kz}^{2} \\mathit{sz} \\cos\\left(a \\kappa\\right)}{\\kappa^{4} - 2 \\, \\kappa^{2} \\mathit{sz}^{2} + 4 \\, \\mathit{kz}^{2} \\mathit{sz}^{2} + \\mathit{sz}^{4}} = 0$"
      ],
      "text/plain": [
       "<IPython.core.display.Math object>"
      ]
     },
     "metadata": {},
     "output_type": "display_data"
    }
   ],
   "source": [
    "even_disp_eq_re = (even_reduced_M_det.real() == 0)\n",
    "print (\"even_disp_eq_re =\")\n",
    "display(Math(latex(even_disp_eq_re)))"
   ]
  },
  {
   "cell_type": "code",
   "execution_count": 61,
   "metadata": {},
   "outputs": [
    {
     "data": {
      "text/plain": [
       "[sx == -(c^2*epsilon*kx*kz*sz + 2*pi*sqrt(4*(pi^2*kx^2 + pi^2*kz^2)*mu^2*sigma^2 - (4*pi^2*mu^2*sigma^2 + (c^2*epsilon*kx^2 + c^2*epsilon*kz^2)*mu)*sz^2 + (c^2*epsilon*kx^4 + c^2*epsilon*kx^2*kz^2)*mu)*sigma)/(c^2*epsilon*kx^2 + 4*pi^2*mu*sigma^2), sx == -(c^2*epsilon*kx*kz*sz - 2*pi*sqrt(4*(pi^2*kx^2 + pi^2*kz^2)*mu^2*sigma^2 - (4*pi^2*mu^2*sigma^2 + (c^2*epsilon*kx^2 + c^2*epsilon*kz^2)*mu)*sz^2 + (c^2*epsilon*kx^4 + c^2*epsilon*kx^2*kz^2)*mu)*sigma)/(c^2*epsilon*kx^2 + 4*pi^2*mu*sigma^2)]"
      ]
     },
     "execution_count": 61,
     "metadata": {},
     "output_type": "execute_result"
    }
   ],
   "source": [
    "sx_bad_conductor"
   ]
  },
  {
   "cell_type": "code",
   "execution_count": 62,
   "metadata": {},
   "outputs": [
    {
     "data": {
      "text/plain": [
       "[kx == (c^2*epsilon*kz*sx*sz - 2*pi*sqrt(-4*pi^2*kz^2*mu^2*sigma^2 - c^2*epsilon*mu*sx^4 + (c^2*epsilon*kz^2*mu + 4*pi^2*mu^2*sigma^2)*sx^2 + (c^2*epsilon*kz^2*mu + 4*pi^2*mu^2*sigma^2 - c^2*epsilon*mu*sx^2)*sz^2)*sigma)/(4*pi^2*mu*sigma^2 - c^2*epsilon*sx^2), kx == (c^2*epsilon*kz*sx*sz + 2*pi*sqrt(-4*pi^2*kz^2*mu^2*sigma^2 - c^2*epsilon*mu*sx^4 + (c^2*epsilon*kz^2*mu + 4*pi^2*mu^2*sigma^2)*sx^2 + (c^2*epsilon*kz^2*mu + 4*pi^2*mu^2*sigma^2 - c^2*epsilon*mu*sx^2)*sz^2)*sigma)/(4*pi^2*mu*sigma^2 - c^2*epsilon*sx^2)]"
      ]
     },
     "execution_count": 62,
     "metadata": {},
     "output_type": "execute_result"
    }
   ],
   "source": [
    "kx_bad_conductor"
   ]
  },
  {
   "cell_type": "code",
   "execution_count": 63,
   "metadata": {},
   "outputs": [
    {
     "data": {
      "text/plain": [
       "[sz == -(c^2*epsilon*kx*kz*sx + 2*pi*sqrt(4*(pi^2*kx^2 + pi^2*kz^2)*mu^2*sigma^2 - (4*pi^2*mu^2*sigma^2 + (c^2*epsilon*kx^2 + c^2*epsilon*kz^2)*mu)*sx^2 + (c^2*epsilon*kx^2*kz^2 + c^2*epsilon*kz^4)*mu)*sigma)/(c^2*epsilon*kz^2 + 4*pi^2*mu*sigma^2), sz == -(c^2*epsilon*kx*kz*sx - 2*pi*sqrt(4*(pi^2*kx^2 + pi^2*kz^2)*mu^2*sigma^2 - (4*pi^2*mu^2*sigma^2 + (c^2*epsilon*kx^2 + c^2*epsilon*kz^2)*mu)*sx^2 + (c^2*epsilon*kx^2*kz^2 + c^2*epsilon*kz^4)*mu)*sigma)/(c^2*epsilon*kz^2 + 4*pi^2*mu*sigma^2)]"
      ]
     },
     "execution_count": 63,
     "metadata": {},
     "output_type": "execute_result"
    }
   ],
   "source": [
    "sz_bad_conductor"
   ]
  },
  {
   "cell_type": "code",
   "execution_count": 64,
   "metadata": {},
   "outputs": [
    {
     "data": {
      "text/plain": [
       "[kz == (c^2*epsilon*kx*sx*sz - 2*pi*sqrt(-4*pi^2*kx^2*mu^2*sigma^2 - c^2*epsilon*mu*sz^4 + (c^2*epsilon*kx^2*mu + 4*pi^2*mu^2*sigma^2)*sx^2 + (c^2*epsilon*kx^2*mu + 4*pi^2*mu^2*sigma^2 - c^2*epsilon*mu*sx^2)*sz^2)*sigma)/(4*pi^2*mu*sigma^2 - c^2*epsilon*sz^2), kz == (c^2*epsilon*kx*sx*sz + 2*pi*sqrt(-4*pi^2*kx^2*mu^2*sigma^2 - c^2*epsilon*mu*sz^4 + (c^2*epsilon*kx^2*mu + 4*pi^2*mu^2*sigma^2)*sx^2 + (c^2*epsilon*kx^2*mu + 4*pi^2*mu^2*sigma^2 - c^2*epsilon*mu*sx^2)*sz^2)*sigma)/(4*pi^2*mu*sigma^2 - c^2*epsilon*sz^2)]"
      ]
     },
     "execution_count": 64,
     "metadata": {},
     "output_type": "execute_result"
    }
   ],
   "source": [
    "kz_bad_conductor"
   ]
  },
  {
   "cell_type": "code",
   "execution_count": 65,
   "metadata": {},
   "outputs": [
    {
     "name": "stdout",
     "output_type": "stream",
     "text": [
      "even_disp_eq_kx_ =\n"
     ]
    },
    {
     "data": {
      "text/latex": [
       "$\\displaystyle \\left[\\mathit{kx} = \\frac{2 \\, {\\left(c^{2} \\kappa \\mathit{kz}^{3} \\cos\\left(a \\kappa\\right) - \\epsilon \\kappa \\mathit{kz} \\mu \\omega^{2} \\cos\\left(a \\kappa\\right)\\right)} \\mathit{sz}}{c^{2} \\epsilon \\kappa^{4} \\sin\\left(a \\kappa\\right) + c^{2} \\epsilon \\mathit{sz}^{4} \\sin\\left(a \\kappa\\right) - 2 \\, {\\left(c^{2} \\epsilon \\kappa^{2} \\sin\\left(a \\kappa\\right) - 2 \\, c^{2} \\epsilon \\mathit{kz}^{2} \\sin\\left(a \\kappa\\right)\\right)} \\mathit{sz}^{2}}\\right]$"
      ],
      "text/plain": [
       "<IPython.core.display.Math object>"
      ]
     },
     "metadata": {},
     "output_type": "display_data"
    }
   ],
   "source": [
    "even_disp_eq_kx_ = solve(even_disp_eq_re, kx)\n",
    "print (\"even_disp_eq_kx_ =\")\n",
    "display(Math(latex(even_disp_eq_kx_)))"
   ]
  },
  {
   "cell_type": "code",
   "execution_count": 66,
   "metadata": {},
   "outputs": [
    {
     "name": "stdout",
     "output_type": "stream",
     "text": [
      "even_disp_eq_kz_ =\n",
      "[\n",
      "kz == -2/3*(1/4)^(2/3)*(4*epsilon^2*kx^2*sz^2*sin(a*kappa)^2/(kappa^2*cos(a*kappa)^2) + 3*epsilon*mu*omega^2/c^2)*(-I*sqrt(3) + 1)/(32*epsilon^3*kx^3*sz^3*sin(a*kappa)^3/(kappa^3*cos(a*kappa)^3) + 36*epsilon^2*kx*mu*omega^2*sz*sin(a*kappa)/(c^2*kappa*cos(a*kappa)) + 27*(kappa^4*kx*sin(a*kappa) - 2*kappa^2*kx*sz^2*sin(a*kappa) + kx*sz^4*sin(a*kappa))*epsilon/(kappa*sz*cos(a*kappa)) + 9*sqrt(9*c^6*kappa^10*kx^2*cos(a*kappa)^2*sin(a*kappa)^2 + 1/3*(64*c^6*epsilon^2*kx^4*sin(a*kappa)^4 + 27*c^6*kappa^2*kx^2*cos(a*kappa)^2*sin(a*kappa)^2)*sz^8 - 4/3*(32*c^6*epsilon^2*kappa^2*kx^4*sin(a*kappa)^4 + 27*c^6*kappa^4*kx^2*cos(a*kappa)^2*sin(a*kappa)^2 - 18*c^4*epsilon*kappa^2*kx^2*mu*omega^2*cos(a*kappa)^2*sin(a*kappa)^2)*sz^6 + 2/3*(32*c^6*epsilon^2*kappa^4*kx^4*sin(a*kappa)^4 + 81*c^6*kappa^6*kx^2*cos(a*kappa)^2*sin(a*kappa)^2 - 72*c^4*epsilon*kappa^4*kx^2*mu*omega^2*cos(a*kappa)^2*sin(a*kappa)^2 - 8*c^2*epsilon^2*kappa^2*kx^2*mu^2*omega^4*cos(a*kappa)^2*sin(a*kappa)^2)*sz^4 - 4/3*(27*c^6*kappa^8*kx^2*cos(a*kappa)^2*sin(a*kappa)^2 - 18*c^4*epsilon*kappa^6*kx^2*mu*omega^2*cos(a*kappa)^2*sin(a*kappa)^2 + 4*epsilon*kappa^4*mu^3*omega^6*cos(a*kappa)^4)*sz^2)*epsilon/(c^3*kappa^2*sz*cos(a*kappa)^2))^(1/3) + 2/3*epsilon*kx*sz*sin(a*kappa)/(kappa*cos(a*kappa)) - 1/6*(1/4)^(1/3)*(32*epsilon^3*kx^3*sz^3*sin(a*kappa)^3/(kappa^3*cos(a*kappa)^3) + 36*epsilon^2*kx*mu*omega^2*sz*sin(a*kappa)/(c^2*kappa*cos(a*kappa)) + 27*(kappa^4*kx*sin(a*kappa) - 2*kappa^2*kx*sz^2*sin(a*kappa) + kx*sz^4*sin(a*kappa))*epsilon/(kappa*sz*cos(a*kappa)) + 9*sqrt(9*c^6*kappa^10*kx^2*cos(a*kappa)^2*sin(a*kappa)^2 + 1/3*(64*c^6*epsilon^2*kx^4*sin(a*kappa)^4 + 27*c^6*kappa^2*kx^2*cos(a*kappa)^2*sin(a*kappa)^2)*sz^8 - 4/3*(32*c^6*epsilon^2*kappa^2*kx^4*sin(a*kappa)^4 + 27*c^6*kappa^4*kx^2*cos(a*kappa)^2*sin(a*kappa)^2 - 18*c^4*epsilon*kappa^2*kx^2*mu*omega^2*cos(a*kappa)^2*sin(a*kappa)^2)*sz^6 + 2/3*(32*c^6*epsilon^2*kappa^4*kx^4*sin(a*kappa)^4 + 81*c^6*kappa^6*kx^2*cos(a*kappa)^2*sin(a*kappa)^2 - 72*c^4*epsilon*kappa^4*kx^2*mu*omega^2*cos(a*kappa)^2*sin(a*kappa)^2 - 8*c^2*epsilon^2*kappa^2*kx^2*mu^2*omega^4*cos(a*kappa)^2*sin(a*kappa)^2)*sz^4 - 4/3*(27*c^6*kappa^8*kx^2*cos(a*kappa)^2*sin(a*kappa)^2 - 18*c^4*epsilon*kappa^6*kx^2*mu*omega^2*cos(a*kappa)^2*sin(a*kappa)^2 + 4*epsilon*kappa^4*mu^3*omega^6*cos(a*kappa)^4)*sz^2)*epsilon/(c^3*kappa^2*sz*cos(a*kappa)^2))^(1/3)*(I*sqrt(3) + 1),\n",
      "kz == -2/3*(1/4)^(2/3)*(4*epsilon^2*kx^2*sz^2*sin(a*kappa)^2/(kappa^2*cos(a*kappa)^2) + 3*epsilon*mu*omega^2/c^2)*(I*sqrt(3) + 1)/(32*epsilon^3*kx^3*sz^3*sin(a*kappa)^3/(kappa^3*cos(a*kappa)^3) + 36*epsilon^2*kx*mu*omega^2*sz*sin(a*kappa)/(c^2*kappa*cos(a*kappa)) + 27*(kappa^4*kx*sin(a*kappa) - 2*kappa^2*kx*sz^2*sin(a*kappa) + kx*sz^4*sin(a*kappa))*epsilon/(kappa*sz*cos(a*kappa)) + 9*sqrt(9*c^6*kappa^10*kx^2*cos(a*kappa)^2*sin(a*kappa)^2 + 1/3*(64*c^6*epsilon^2*kx^4*sin(a*kappa)^4 + 27*c^6*kappa^2*kx^2*cos(a*kappa)^2*sin(a*kappa)^2)*sz^8 - 4/3*(32*c^6*epsilon^2*kappa^2*kx^4*sin(a*kappa)^4 + 27*c^6*kappa^4*kx^2*cos(a*kappa)^2*sin(a*kappa)^2 - 18*c^4*epsilon*kappa^2*kx^2*mu*omega^2*cos(a*kappa)^2*sin(a*kappa)^2)*sz^6 + 2/3*(32*c^6*epsilon^2*kappa^4*kx^4*sin(a*kappa)^4 + 81*c^6*kappa^6*kx^2*cos(a*kappa)^2*sin(a*kappa)^2 - 72*c^4*epsilon*kappa^4*kx^2*mu*omega^2*cos(a*kappa)^2*sin(a*kappa)^2 - 8*c^2*epsilon^2*kappa^2*kx^2*mu^2*omega^4*cos(a*kappa)^2*sin(a*kappa)^2)*sz^4 - 4/3*(27*c^6*kappa^8*kx^2*cos(a*kappa)^2*sin(a*kappa)^2 - 18*c^4*epsilon*kappa^6*kx^2*mu*omega^2*cos(a*kappa)^2*sin(a*kappa)^2 + 4*epsilon*kappa^4*mu^3*omega^6*cos(a*kappa)^4)*sz^2)*epsilon/(c^3*kappa^2*sz*cos(a*kappa)^2))^(1/3) + 2/3*epsilon*kx*sz*sin(a*kappa)/(kappa*cos(a*kappa)) - 1/6*(1/4)^(1/3)*(32*epsilon^3*kx^3*sz^3*sin(a*kappa)^3/(kappa^3*cos(a*kappa)^3) + 36*epsilon^2*kx*mu*omega^2*sz*sin(a*kappa)/(c^2*kappa*cos(a*kappa)) + 27*(kappa^4*kx*sin(a*kappa) - 2*kappa^2*kx*sz^2*sin(a*kappa) + kx*sz^4*sin(a*kappa))*epsilon/(kappa*sz*cos(a*kappa)) + 9*sqrt(9*c^6*kappa^10*kx^2*cos(a*kappa)^2*sin(a*kappa)^2 + 1/3*(64*c^6*epsilon^2*kx^4*sin(a*kappa)^4 + 27*c^6*kappa^2*kx^2*cos(a*kappa)^2*sin(a*kappa)^2)*sz^8 - 4/3*(32*c^6*epsilon^2*kappa^2*kx^4*sin(a*kappa)^4 + 27*c^6*kappa^4*kx^2*cos(a*kappa)^2*sin(a*kappa)^2 - 18*c^4*epsilon*kappa^2*kx^2*mu*omega^2*cos(a*kappa)^2*sin(a*kappa)^2)*sz^6 + 2/3*(32*c^6*epsilon^2*kappa^4*kx^4*sin(a*kappa)^4 + 81*c^6*kappa^6*kx^2*cos(a*kappa)^2*sin(a*kappa)^2 - 72*c^4*epsilon*kappa^4*kx^2*mu*omega^2*cos(a*kappa)^2*sin(a*kappa)^2 - 8*c^2*epsilon^2*kappa^2*kx^2*mu^2*omega^4*cos(a*kappa)^2*sin(a*kappa)^2)*sz^4 - 4/3*(27*c^6*kappa^8*kx^2*cos(a*kappa)^2*sin(a*kappa)^2 - 18*c^4*epsilon*kappa^6*kx^2*mu*omega^2*cos(a*kappa)^2*sin(a*kappa)^2 + 4*epsilon*kappa^4*mu^3*omega^6*cos(a*kappa)^4)*sz^2)*epsilon/(c^3*kappa^2*sz*cos(a*kappa)^2))^(1/3)*(-I*sqrt(3) + 1),\n",
      "kz == 2/3*epsilon*kx*sz*sin(a*kappa)/(kappa*cos(a*kappa)) + 4/3*(1/4)^(2/3)*(4*epsilon^2*kx^2*sz^2*sin(a*kappa)^2/(kappa^2*cos(a*kappa)^2) + 3*epsilon*mu*omega^2/c^2)/(32*epsilon^3*kx^3*sz^3*sin(a*kappa)^3/(kappa^3*cos(a*kappa)^3) + 36*epsilon^2*kx*mu*omega^2*sz*sin(a*kappa)/(c^2*kappa*cos(a*kappa)) + 27*(kappa^4*kx*sin(a*kappa) - 2*kappa^2*kx*sz^2*sin(a*kappa) + kx*sz^4*sin(a*kappa))*epsilon/(kappa*sz*cos(a*kappa)) + 9*sqrt(9*c^6*kappa^10*kx^2*cos(a*kappa)^2*sin(a*kappa)^2 + 1/3*(64*c^6*epsilon^2*kx^4*sin(a*kappa)^4 + 27*c^6*kappa^2*kx^2*cos(a*kappa)^2*sin(a*kappa)^2)*sz^8 - 4/3*(32*c^6*epsilon^2*kappa^2*kx^4*sin(a*kappa)^4 + 27*c^6*kappa^4*kx^2*cos(a*kappa)^2*sin(a*kappa)^2 - 18*c^4*epsilon*kappa^2*kx^2*mu*omega^2*cos(a*kappa)^2*sin(a*kappa)^2)*sz^6 + 2/3*(32*c^6*epsilon^2*kappa^4*kx^4*sin(a*kappa)^4 + 81*c^6*kappa^6*kx^2*cos(a*kappa)^2*sin(a*kappa)^2 - 72*c^4*epsilon*kappa^4*kx^2*mu*omega^2*cos(a*kappa)^2*sin(a*kappa)^2 - 8*c^2*epsilon^2*kappa^2*kx^2*mu^2*omega^4*cos(a*kappa)^2*sin(a*kappa)^2)*sz^4 - 4/3*(27*c^6*kappa^8*kx^2*cos(a*kappa)^2*sin(a*kappa)^2 - 18*c^4*epsilon*kappa^6*kx^2*mu*omega^2*cos(a*kappa)^2*sin(a*kappa)^2 + 4*epsilon*kappa^4*mu^3*omega^6*cos(a*kappa)^4)*sz^2)*epsilon/(c^3*kappa^2*sz*cos(a*kappa)^2))^(1/3) + 1/3*(1/4)^(1/3)*(32*epsilon^3*kx^3*sz^3*sin(a*kappa)^3/(kappa^3*cos(a*kappa)^3) + 36*epsilon^2*kx*mu*omega^2*sz*sin(a*kappa)/(c^2*kappa*cos(a*kappa)) + 27*(kappa^4*kx*sin(a*kappa) - 2*kappa^2*kx*sz^2*sin(a*kappa) + kx*sz^4*sin(a*kappa))*epsilon/(kappa*sz*cos(a*kappa)) + 9*sqrt(9*c^6*kappa^10*kx^2*cos(a*kappa)^2*sin(a*kappa)^2 + 1/3*(64*c^6*epsilon^2*kx^4*sin(a*kappa)^4 + 27*c^6*kappa^2*kx^2*cos(a*kappa)^2*sin(a*kappa)^2)*sz^8 - 4/3*(32*c^6*epsilon^2*kappa^2*kx^4*sin(a*kappa)^4 + 27*c^6*kappa^4*kx^2*cos(a*kappa)^2*sin(a*kappa)^2 - 18*c^4*epsilon*kappa^2*kx^2*mu*omega^2*cos(a*kappa)^2*sin(a*kappa)^2)*sz^6 + 2/3*(32*c^6*epsilon^2*kappa^4*kx^4*sin(a*kappa)^4 + 81*c^6*kappa^6*kx^2*cos(a*kappa)^2*sin(a*kappa)^2 - 72*c^4*epsilon*kappa^4*kx^2*mu*omega^2*cos(a*kappa)^2*sin(a*kappa)^2 - 8*c^2*epsilon^2*kappa^2*kx^2*mu^2*omega^4*cos(a*kappa)^2*sin(a*kappa)^2)*sz^4 - 4/3*(27*c^6*kappa^8*kx^2*cos(a*kappa)^2*sin(a*kappa)^2 - 18*c^4*epsilon*kappa^6*kx^2*mu*omega^2*cos(a*kappa)^2*sin(a*kappa)^2 + 4*epsilon*kappa^4*mu^3*omega^6*cos(a*kappa)^4)*sz^2)*epsilon/(c^3*kappa^2*sz*cos(a*kappa)^2))^(1/3),\n",
      "kz == 0\n",
      "]\n"
     ]
    },
    {
     "data": {
      "text/latex": [
       "$\\displaystyle \\left[\\mathit{kz} = -\\frac{2 \\, \\left(\\frac{1}{4}\\right)^{\\frac{2}{3}} {\\left(\\frac{4 \\, \\epsilon^{2} \\mathit{kx}^{2} \\mathit{sz}^{2} \\sin\\left(a \\kappa\\right)^{2}}{\\kappa^{2} \\cos\\left(a \\kappa\\right)^{2}} + \\frac{3 \\, \\epsilon \\mu \\omega^{2}}{c^{2}}\\right)} {\\left(-i \\, \\sqrt{3} + 1\\right)}}{3 \\, {\\left(\\frac{32 \\, \\epsilon^{3} \\mathit{kx}^{3} \\mathit{sz}^{3} \\sin\\left(a \\kappa\\right)^{3}}{\\kappa^{3} \\cos\\left(a \\kappa\\right)^{3}} + \\frac{36 \\, \\epsilon^{2} \\mathit{kx} \\mu \\omega^{2} \\mathit{sz} \\sin\\left(a \\kappa\\right)}{c^{2} \\kappa \\cos\\left(a \\kappa\\right)} + \\frac{27 \\, {\\left(\\kappa^{4} \\mathit{kx} \\sin\\left(a \\kappa\\right) - 2 \\, \\kappa^{2} \\mathit{kx} \\mathit{sz}^{2} \\sin\\left(a \\kappa\\right) + \\mathit{kx} \\mathit{sz}^{4} \\sin\\left(a \\kappa\\right)\\right)} \\epsilon}{\\kappa \\mathit{sz} \\cos\\left(a \\kappa\\right)} + \\frac{9 \\, \\sqrt{9 \\, c^{6} \\kappa^{10} \\mathit{kx}^{2} \\cos\\left(a \\kappa\\right)^{2} \\sin\\left(a \\kappa\\right)^{2} + \\frac{1}{3} \\, {\\left(64 \\, c^{6} \\epsilon^{2} \\mathit{kx}^{4} \\sin\\left(a \\kappa\\right)^{4} + 27 \\, c^{6} \\kappa^{2} \\mathit{kx}^{2} \\cos\\left(a \\kappa\\right)^{2} \\sin\\left(a \\kappa\\right)^{2}\\right)} \\mathit{sz}^{8} - \\frac{4}{3} \\, {\\left(32 \\, c^{6} \\epsilon^{2} \\kappa^{2} \\mathit{kx}^{4} \\sin\\left(a \\kappa\\right)^{4} + 27 \\, c^{6} \\kappa^{4} \\mathit{kx}^{2} \\cos\\left(a \\kappa\\right)^{2} \\sin\\left(a \\kappa\\right)^{2} - 18 \\, c^{4} \\epsilon \\kappa^{2} \\mathit{kx}^{2} \\mu \\omega^{2} \\cos\\left(a \\kappa\\right)^{2} \\sin\\left(a \\kappa\\right)^{2}\\right)} \\mathit{sz}^{6} + \\frac{2}{3} \\, {\\left(32 \\, c^{6} \\epsilon^{2} \\kappa^{4} \\mathit{kx}^{4} \\sin\\left(a \\kappa\\right)^{4} + 81 \\, c^{6} \\kappa^{6} \\mathit{kx}^{2} \\cos\\left(a \\kappa\\right)^{2} \\sin\\left(a \\kappa\\right)^{2} - 72 \\, c^{4} \\epsilon \\kappa^{4} \\mathit{kx}^{2} \\mu \\omega^{2} \\cos\\left(a \\kappa\\right)^{2} \\sin\\left(a \\kappa\\right)^{2} - 8 \\, c^{2} \\epsilon^{2} \\kappa^{2} \\mathit{kx}^{2} \\mu^{2} \\omega^{4} \\cos\\left(a \\kappa\\right)^{2} \\sin\\left(a \\kappa\\right)^{2}\\right)} \\mathit{sz}^{4} - \\frac{4}{3} \\, {\\left(27 \\, c^{6} \\kappa^{8} \\mathit{kx}^{2} \\cos\\left(a \\kappa\\right)^{2} \\sin\\left(a \\kappa\\right)^{2} - 18 \\, c^{4} \\epsilon \\kappa^{6} \\mathit{kx}^{2} \\mu \\omega^{2} \\cos\\left(a \\kappa\\right)^{2} \\sin\\left(a \\kappa\\right)^{2} + 4 \\, \\epsilon \\kappa^{4} \\mu^{3} \\omega^{6} \\cos\\left(a \\kappa\\right)^{4}\\right)} \\mathit{sz}^{2}} \\epsilon}{c^{3} \\kappa^{2} \\mathit{sz} \\cos\\left(a \\kappa\\right)^{2}}\\right)}^{\\frac{1}{3}}} + \\frac{2 \\, \\epsilon \\mathit{kx} \\mathit{sz} \\sin\\left(a \\kappa\\right)}{3 \\, \\kappa \\cos\\left(a \\kappa\\right)} - \\frac{1}{6} \\, \\left(\\frac{1}{4}\\right)^{\\frac{1}{3}} {\\left(\\frac{32 \\, \\epsilon^{3} \\mathit{kx}^{3} \\mathit{sz}^{3} \\sin\\left(a \\kappa\\right)^{3}}{\\kappa^{3} \\cos\\left(a \\kappa\\right)^{3}} + \\frac{36 \\, \\epsilon^{2} \\mathit{kx} \\mu \\omega^{2} \\mathit{sz} \\sin\\left(a \\kappa\\right)}{c^{2} \\kappa \\cos\\left(a \\kappa\\right)} + \\frac{27 \\, {\\left(\\kappa^{4} \\mathit{kx} \\sin\\left(a \\kappa\\right) - 2 \\, \\kappa^{2} \\mathit{kx} \\mathit{sz}^{2} \\sin\\left(a \\kappa\\right) + \\mathit{kx} \\mathit{sz}^{4} \\sin\\left(a \\kappa\\right)\\right)} \\epsilon}{\\kappa \\mathit{sz} \\cos\\left(a \\kappa\\right)} + \\frac{9 \\, \\sqrt{9 \\, c^{6} \\kappa^{10} \\mathit{kx}^{2} \\cos\\left(a \\kappa\\right)^{2} \\sin\\left(a \\kappa\\right)^{2} + \\frac{1}{3} \\, {\\left(64 \\, c^{6} \\epsilon^{2} \\mathit{kx}^{4} \\sin\\left(a \\kappa\\right)^{4} + 27 \\, c^{6} \\kappa^{2} \\mathit{kx}^{2} \\cos\\left(a \\kappa\\right)^{2} \\sin\\left(a \\kappa\\right)^{2}\\right)} \\mathit{sz}^{8} - \\frac{4}{3} \\, {\\left(32 \\, c^{6} \\epsilon^{2} \\kappa^{2} \\mathit{kx}^{4} \\sin\\left(a \\kappa\\right)^{4} + 27 \\, c^{6} \\kappa^{4} \\mathit{kx}^{2} \\cos\\left(a \\kappa\\right)^{2} \\sin\\left(a \\kappa\\right)^{2} - 18 \\, c^{4} \\epsilon \\kappa^{2} \\mathit{kx}^{2} \\mu \\omega^{2} \\cos\\left(a \\kappa\\right)^{2} \\sin\\left(a \\kappa\\right)^{2}\\right)} \\mathit{sz}^{6} + \\frac{2}{3} \\, {\\left(32 \\, c^{6} \\epsilon^{2} \\kappa^{4} \\mathit{kx}^{4} \\sin\\left(a \\kappa\\right)^{4} + 81 \\, c^{6} \\kappa^{6} \\mathit{kx}^{2} \\cos\\left(a \\kappa\\right)^{2} \\sin\\left(a \\kappa\\right)^{2} - 72 \\, c^{4} \\epsilon \\kappa^{4} \\mathit{kx}^{2} \\mu \\omega^{2} \\cos\\left(a \\kappa\\right)^{2} \\sin\\left(a \\kappa\\right)^{2} - 8 \\, c^{2} \\epsilon^{2} \\kappa^{2} \\mathit{kx}^{2} \\mu^{2} \\omega^{4} \\cos\\left(a \\kappa\\right)^{2} \\sin\\left(a \\kappa\\right)^{2}\\right)} \\mathit{sz}^{4} - \\frac{4}{3} \\, {\\left(27 \\, c^{6} \\kappa^{8} \\mathit{kx}^{2} \\cos\\left(a \\kappa\\right)^{2} \\sin\\left(a \\kappa\\right)^{2} - 18 \\, c^{4} \\epsilon \\kappa^{6} \\mathit{kx}^{2} \\mu \\omega^{2} \\cos\\left(a \\kappa\\right)^{2} \\sin\\left(a \\kappa\\right)^{2} + 4 \\, \\epsilon \\kappa^{4} \\mu^{3} \\omega^{6} \\cos\\left(a \\kappa\\right)^{4}\\right)} \\mathit{sz}^{2}} \\epsilon}{c^{3} \\kappa^{2} \\mathit{sz} \\cos\\left(a \\kappa\\right)^{2}}\\right)}^{\\frac{1}{3}} {\\left(i \\, \\sqrt{3} + 1\\right)}, \\mathit{kz} = -\\frac{2 \\, \\left(\\frac{1}{4}\\right)^{\\frac{2}{3}} {\\left(\\frac{4 \\, \\epsilon^{2} \\mathit{kx}^{2} \\mathit{sz}^{2} \\sin\\left(a \\kappa\\right)^{2}}{\\kappa^{2} \\cos\\left(a \\kappa\\right)^{2}} + \\frac{3 \\, \\epsilon \\mu \\omega^{2}}{c^{2}}\\right)} {\\left(i \\, \\sqrt{3} + 1\\right)}}{3 \\, {\\left(\\frac{32 \\, \\epsilon^{3} \\mathit{kx}^{3} \\mathit{sz}^{3} \\sin\\left(a \\kappa\\right)^{3}}{\\kappa^{3} \\cos\\left(a \\kappa\\right)^{3}} + \\frac{36 \\, \\epsilon^{2} \\mathit{kx} \\mu \\omega^{2} \\mathit{sz} \\sin\\left(a \\kappa\\right)}{c^{2} \\kappa \\cos\\left(a \\kappa\\right)} + \\frac{27 \\, {\\left(\\kappa^{4} \\mathit{kx} \\sin\\left(a \\kappa\\right) - 2 \\, \\kappa^{2} \\mathit{kx} \\mathit{sz}^{2} \\sin\\left(a \\kappa\\right) + \\mathit{kx} \\mathit{sz}^{4} \\sin\\left(a \\kappa\\right)\\right)} \\epsilon}{\\kappa \\mathit{sz} \\cos\\left(a \\kappa\\right)} + \\frac{9 \\, \\sqrt{9 \\, c^{6} \\kappa^{10} \\mathit{kx}^{2} \\cos\\left(a \\kappa\\right)^{2} \\sin\\left(a \\kappa\\right)^{2} + \\frac{1}{3} \\, {\\left(64 \\, c^{6} \\epsilon^{2} \\mathit{kx}^{4} \\sin\\left(a \\kappa\\right)^{4} + 27 \\, c^{6} \\kappa^{2} \\mathit{kx}^{2} \\cos\\left(a \\kappa\\right)^{2} \\sin\\left(a \\kappa\\right)^{2}\\right)} \\mathit{sz}^{8} - \\frac{4}{3} \\, {\\left(32 \\, c^{6} \\epsilon^{2} \\kappa^{2} \\mathit{kx}^{4} \\sin\\left(a \\kappa\\right)^{4} + 27 \\, c^{6} \\kappa^{4} \\mathit{kx}^{2} \\cos\\left(a \\kappa\\right)^{2} \\sin\\left(a \\kappa\\right)^{2} - 18 \\, c^{4} \\epsilon \\kappa^{2} \\mathit{kx}^{2} \\mu \\omega^{2} \\cos\\left(a \\kappa\\right)^{2} \\sin\\left(a \\kappa\\right)^{2}\\right)} \\mathit{sz}^{6} + \\frac{2}{3} \\, {\\left(32 \\, c^{6} \\epsilon^{2} \\kappa^{4} \\mathit{kx}^{4} \\sin\\left(a \\kappa\\right)^{4} + 81 \\, c^{6} \\kappa^{6} \\mathit{kx}^{2} \\cos\\left(a \\kappa\\right)^{2} \\sin\\left(a \\kappa\\right)^{2} - 72 \\, c^{4} \\epsilon \\kappa^{4} \\mathit{kx}^{2} \\mu \\omega^{2} \\cos\\left(a \\kappa\\right)^{2} \\sin\\left(a \\kappa\\right)^{2} - 8 \\, c^{2} \\epsilon^{2} \\kappa^{2} \\mathit{kx}^{2} \\mu^{2} \\omega^{4} \\cos\\left(a \\kappa\\right)^{2} \\sin\\left(a \\kappa\\right)^{2}\\right)} \\mathit{sz}^{4} - \\frac{4}{3} \\, {\\left(27 \\, c^{6} \\kappa^{8} \\mathit{kx}^{2} \\cos\\left(a \\kappa\\right)^{2} \\sin\\left(a \\kappa\\right)^{2} - 18 \\, c^{4} \\epsilon \\kappa^{6} \\mathit{kx}^{2} \\mu \\omega^{2} \\cos\\left(a \\kappa\\right)^{2} \\sin\\left(a \\kappa\\right)^{2} + 4 \\, \\epsilon \\kappa^{4} \\mu^{3} \\omega^{6} \\cos\\left(a \\kappa\\right)^{4}\\right)} \\mathit{sz}^{2}} \\epsilon}{c^{3} \\kappa^{2} \\mathit{sz} \\cos\\left(a \\kappa\\right)^{2}}\\right)}^{\\frac{1}{3}}} + \\frac{2 \\, \\epsilon \\mathit{kx} \\mathit{sz} \\sin\\left(a \\kappa\\right)}{3 \\, \\kappa \\cos\\left(a \\kappa\\right)} - \\frac{1}{6} \\, \\left(\\frac{1}{4}\\right)^{\\frac{1}{3}} {\\left(\\frac{32 \\, \\epsilon^{3} \\mathit{kx}^{3} \\mathit{sz}^{3} \\sin\\left(a \\kappa\\right)^{3}}{\\kappa^{3} \\cos\\left(a \\kappa\\right)^{3}} + \\frac{36 \\, \\epsilon^{2} \\mathit{kx} \\mu \\omega^{2} \\mathit{sz} \\sin\\left(a \\kappa\\right)}{c^{2} \\kappa \\cos\\left(a \\kappa\\right)} + \\frac{27 \\, {\\left(\\kappa^{4} \\mathit{kx} \\sin\\left(a \\kappa\\right) - 2 \\, \\kappa^{2} \\mathit{kx} \\mathit{sz}^{2} \\sin\\left(a \\kappa\\right) + \\mathit{kx} \\mathit{sz}^{4} \\sin\\left(a \\kappa\\right)\\right)} \\epsilon}{\\kappa \\mathit{sz} \\cos\\left(a \\kappa\\right)} + \\frac{9 \\, \\sqrt{9 \\, c^{6} \\kappa^{10} \\mathit{kx}^{2} \\cos\\left(a \\kappa\\right)^{2} \\sin\\left(a \\kappa\\right)^{2} + \\frac{1}{3} \\, {\\left(64 \\, c^{6} \\epsilon^{2} \\mathit{kx}^{4} \\sin\\left(a \\kappa\\right)^{4} + 27 \\, c^{6} \\kappa^{2} \\mathit{kx}^{2} \\cos\\left(a \\kappa\\right)^{2} \\sin\\left(a \\kappa\\right)^{2}\\right)} \\mathit{sz}^{8} - \\frac{4}{3} \\, {\\left(32 \\, c^{6} \\epsilon^{2} \\kappa^{2} \\mathit{kx}^{4} \\sin\\left(a \\kappa\\right)^{4} + 27 \\, c^{6} \\kappa^{4} \\mathit{kx}^{2} \\cos\\left(a \\kappa\\right)^{2} \\sin\\left(a \\kappa\\right)^{2} - 18 \\, c^{4} \\epsilon \\kappa^{2} \\mathit{kx}^{2} \\mu \\omega^{2} \\cos\\left(a \\kappa\\right)^{2} \\sin\\left(a \\kappa\\right)^{2}\\right)} \\mathit{sz}^{6} + \\frac{2}{3} \\, {\\left(32 \\, c^{6} \\epsilon^{2} \\kappa^{4} \\mathit{kx}^{4} \\sin\\left(a \\kappa\\right)^{4} + 81 \\, c^{6} \\kappa^{6} \\mathit{kx}^{2} \\cos\\left(a \\kappa\\right)^{2} \\sin\\left(a \\kappa\\right)^{2} - 72 \\, c^{4} \\epsilon \\kappa^{4} \\mathit{kx}^{2} \\mu \\omega^{2} \\cos\\left(a \\kappa\\right)^{2} \\sin\\left(a \\kappa\\right)^{2} - 8 \\, c^{2} \\epsilon^{2} \\kappa^{2} \\mathit{kx}^{2} \\mu^{2} \\omega^{4} \\cos\\left(a \\kappa\\right)^{2} \\sin\\left(a \\kappa\\right)^{2}\\right)} \\mathit{sz}^{4} - \\frac{4}{3} \\, {\\left(27 \\, c^{6} \\kappa^{8} \\mathit{kx}^{2} \\cos\\left(a \\kappa\\right)^{2} \\sin\\left(a \\kappa\\right)^{2} - 18 \\, c^{4} \\epsilon \\kappa^{6} \\mathit{kx}^{2} \\mu \\omega^{2} \\cos\\left(a \\kappa\\right)^{2} \\sin\\left(a \\kappa\\right)^{2} + 4 \\, \\epsilon \\kappa^{4} \\mu^{3} \\omega^{6} \\cos\\left(a \\kappa\\right)^{4}\\right)} \\mathit{sz}^{2}} \\epsilon}{c^{3} \\kappa^{2} \\mathit{sz} \\cos\\left(a \\kappa\\right)^{2}}\\right)}^{\\frac{1}{3}} {\\left(-i \\, \\sqrt{3} + 1\\right)}, \\mathit{kz} = \\frac{2 \\, \\epsilon \\mathit{kx} \\mathit{sz} \\sin\\left(a \\kappa\\right)}{3 \\, \\kappa \\cos\\left(a \\kappa\\right)} + \\frac{4 \\, \\left(\\frac{1}{4}\\right)^{\\frac{2}{3}} {\\left(\\frac{4 \\, \\epsilon^{2} \\mathit{kx}^{2} \\mathit{sz}^{2} \\sin\\left(a \\kappa\\right)^{2}}{\\kappa^{2} \\cos\\left(a \\kappa\\right)^{2}} + \\frac{3 \\, \\epsilon \\mu \\omega^{2}}{c^{2}}\\right)}}{3 \\, {\\left(\\frac{32 \\, \\epsilon^{3} \\mathit{kx}^{3} \\mathit{sz}^{3} \\sin\\left(a \\kappa\\right)^{3}}{\\kappa^{3} \\cos\\left(a \\kappa\\right)^{3}} + \\frac{36 \\, \\epsilon^{2} \\mathit{kx} \\mu \\omega^{2} \\mathit{sz} \\sin\\left(a \\kappa\\right)}{c^{2} \\kappa \\cos\\left(a \\kappa\\right)} + \\frac{27 \\, {\\left(\\kappa^{4} \\mathit{kx} \\sin\\left(a \\kappa\\right) - 2 \\, \\kappa^{2} \\mathit{kx} \\mathit{sz}^{2} \\sin\\left(a \\kappa\\right) + \\mathit{kx} \\mathit{sz}^{4} \\sin\\left(a \\kappa\\right)\\right)} \\epsilon}{\\kappa \\mathit{sz} \\cos\\left(a \\kappa\\right)} + \\frac{9 \\, \\sqrt{9 \\, c^{6} \\kappa^{10} \\mathit{kx}^{2} \\cos\\left(a \\kappa\\right)^{2} \\sin\\left(a \\kappa\\right)^{2} + \\frac{1}{3} \\, {\\left(64 \\, c^{6} \\epsilon^{2} \\mathit{kx}^{4} \\sin\\left(a \\kappa\\right)^{4} + 27 \\, c^{6} \\kappa^{2} \\mathit{kx}^{2} \\cos\\left(a \\kappa\\right)^{2} \\sin\\left(a \\kappa\\right)^{2}\\right)} \\mathit{sz}^{8} - \\frac{4}{3} \\, {\\left(32 \\, c^{6} \\epsilon^{2} \\kappa^{2} \\mathit{kx}^{4} \\sin\\left(a \\kappa\\right)^{4} + 27 \\, c^{6} \\kappa^{4} \\mathit{kx}^{2} \\cos\\left(a \\kappa\\right)^{2} \\sin\\left(a \\kappa\\right)^{2} - 18 \\, c^{4} \\epsilon \\kappa^{2} \\mathit{kx}^{2} \\mu \\omega^{2} \\cos\\left(a \\kappa\\right)^{2} \\sin\\left(a \\kappa\\right)^{2}\\right)} \\mathit{sz}^{6} + \\frac{2}{3} \\, {\\left(32 \\, c^{6} \\epsilon^{2} \\kappa^{4} \\mathit{kx}^{4} \\sin\\left(a \\kappa\\right)^{4} + 81 \\, c^{6} \\kappa^{6} \\mathit{kx}^{2} \\cos\\left(a \\kappa\\right)^{2} \\sin\\left(a \\kappa\\right)^{2} - 72 \\, c^{4} \\epsilon \\kappa^{4} \\mathit{kx}^{2} \\mu \\omega^{2} \\cos\\left(a \\kappa\\right)^{2} \\sin\\left(a \\kappa\\right)^{2} - 8 \\, c^{2} \\epsilon^{2} \\kappa^{2} \\mathit{kx}^{2} \\mu^{2} \\omega^{4} \\cos\\left(a \\kappa\\right)^{2} \\sin\\left(a \\kappa\\right)^{2}\\right)} \\mathit{sz}^{4} - \\frac{4}{3} \\, {\\left(27 \\, c^{6} \\kappa^{8} \\mathit{kx}^{2} \\cos\\left(a \\kappa\\right)^{2} \\sin\\left(a \\kappa\\right)^{2} - 18 \\, c^{4} \\epsilon \\kappa^{6} \\mathit{kx}^{2} \\mu \\omega^{2} \\cos\\left(a \\kappa\\right)^{2} \\sin\\left(a \\kappa\\right)^{2} + 4 \\, \\epsilon \\kappa^{4} \\mu^{3} \\omega^{6} \\cos\\left(a \\kappa\\right)^{4}\\right)} \\mathit{sz}^{2}} \\epsilon}{c^{3} \\kappa^{2} \\mathit{sz} \\cos\\left(a \\kappa\\right)^{2}}\\right)}^{\\frac{1}{3}}} + \\frac{1}{3} \\, \\left(\\frac{1}{4}\\right)^{\\frac{1}{3}} {\\left(\\frac{32 \\, \\epsilon^{3} \\mathit{kx}^{3} \\mathit{sz}^{3} \\sin\\left(a \\kappa\\right)^{3}}{\\kappa^{3} \\cos\\left(a \\kappa\\right)^{3}} + \\frac{36 \\, \\epsilon^{2} \\mathit{kx} \\mu \\omega^{2} \\mathit{sz} \\sin\\left(a \\kappa\\right)}{c^{2} \\kappa \\cos\\left(a \\kappa\\right)} + \\frac{27 \\, {\\left(\\kappa^{4} \\mathit{kx} \\sin\\left(a \\kappa\\right) - 2 \\, \\kappa^{2} \\mathit{kx} \\mathit{sz}^{2} \\sin\\left(a \\kappa\\right) + \\mathit{kx} \\mathit{sz}^{4} \\sin\\left(a \\kappa\\right)\\right)} \\epsilon}{\\kappa \\mathit{sz} \\cos\\left(a \\kappa\\right)} + \\frac{9 \\, \\sqrt{9 \\, c^{6} \\kappa^{10} \\mathit{kx}^{2} \\cos\\left(a \\kappa\\right)^{2} \\sin\\left(a \\kappa\\right)^{2} + \\frac{1}{3} \\, {\\left(64 \\, c^{6} \\epsilon^{2} \\mathit{kx}^{4} \\sin\\left(a \\kappa\\right)^{4} + 27 \\, c^{6} \\kappa^{2} \\mathit{kx}^{2} \\cos\\left(a \\kappa\\right)^{2} \\sin\\left(a \\kappa\\right)^{2}\\right)} \\mathit{sz}^{8} - \\frac{4}{3} \\, {\\left(32 \\, c^{6} \\epsilon^{2} \\kappa^{2} \\mathit{kx}^{4} \\sin\\left(a \\kappa\\right)^{4} + 27 \\, c^{6} \\kappa^{4} \\mathit{kx}^{2} \\cos\\left(a \\kappa\\right)^{2} \\sin\\left(a \\kappa\\right)^{2} - 18 \\, c^{4} \\epsilon \\kappa^{2} \\mathit{kx}^{2} \\mu \\omega^{2} \\cos\\left(a \\kappa\\right)^{2} \\sin\\left(a \\kappa\\right)^{2}\\right)} \\mathit{sz}^{6} + \\frac{2}{3} \\, {\\left(32 \\, c^{6} \\epsilon^{2} \\kappa^{4} \\mathit{kx}^{4} \\sin\\left(a \\kappa\\right)^{4} + 81 \\, c^{6} \\kappa^{6} \\mathit{kx}^{2} \\cos\\left(a \\kappa\\right)^{2} \\sin\\left(a \\kappa\\right)^{2} - 72 \\, c^{4} \\epsilon \\kappa^{4} \\mathit{kx}^{2} \\mu \\omega^{2} \\cos\\left(a \\kappa\\right)^{2} \\sin\\left(a \\kappa\\right)^{2} - 8 \\, c^{2} \\epsilon^{2} \\kappa^{2} \\mathit{kx}^{2} \\mu^{2} \\omega^{4} \\cos\\left(a \\kappa\\right)^{2} \\sin\\left(a \\kappa\\right)^{2}\\right)} \\mathit{sz}^{4} - \\frac{4}{3} \\, {\\left(27 \\, c^{6} \\kappa^{8} \\mathit{kx}^{2} \\cos\\left(a \\kappa\\right)^{2} \\sin\\left(a \\kappa\\right)^{2} - 18 \\, c^{4} \\epsilon \\kappa^{6} \\mathit{kx}^{2} \\mu \\omega^{2} \\cos\\left(a \\kappa\\right)^{2} \\sin\\left(a \\kappa\\right)^{2} + 4 \\, \\epsilon \\kappa^{4} \\mu^{3} \\omega^{6} \\cos\\left(a \\kappa\\right)^{4}\\right)} \\mathit{sz}^{2}} \\epsilon}{c^{3} \\kappa^{2} \\mathit{sz} \\cos\\left(a \\kappa\\right)^{2}}\\right)}^{\\frac{1}{3}}, \\mathit{kz} = 0\\right]$"
      ],
      "text/plain": [
       "<IPython.core.display.Math object>"
      ]
     },
     "metadata": {},
     "output_type": "display_data"
    }
   ],
   "source": [
    "even_disp_eq_kz_ = solve(even_disp_eq_re, kz)\n",
    "print (\"even_disp_eq_kz_ =\")\n",
    "print(even_disp_eq_kz_)\n",
    "display(Math(latex(even_disp_eq_kz_)))"
   ]
  },
  {
   "cell_type": "code",
   "execution_count": 67,
   "metadata": {},
   "outputs": [
    {
     "name": "stdout",
     "output_type": "stream",
     "text": [
      "even_disp_eq_im =\n"
     ]
    },
    {
     "data": {
      "text/latex": [
       "$\\displaystyle -\\frac{c^{2} \\epsilon \\mathit{kz} \\mathit{sx} \\sin\\left(a \\kappa\\right)}{c^{2} \\mathit{kz}^{2} - \\epsilon \\mu \\omega^{2}} + \\frac{\\kappa^{3} \\mathit{kz} \\cos\\left(a \\kappa\\right)}{\\kappa^{4} - 2 \\, \\kappa^{2} \\mathit{sz}^{2} + 4 \\, \\mathit{kz}^{2} \\mathit{sz}^{2} + \\mathit{sz}^{4}} - \\frac{\\kappa \\mathit{kz} \\mathit{sz}^{2} \\cos\\left(a \\kappa\\right)}{\\kappa^{4} - 2 \\, \\kappa^{2} \\mathit{sz}^{2} + 4 \\, \\mathit{kz}^{2} \\mathit{sz}^{2} + \\mathit{sz}^{4}} = 0$"
      ],
      "text/plain": [
       "<IPython.core.display.Math object>"
      ]
     },
     "metadata": {},
     "output_type": "display_data"
    }
   ],
   "source": [
    "even_disp_eq_im = (even_reduced_M_det.imag() == 0)\n",
    "print (\"even_disp_eq_im =\")\n",
    "display(Math(latex(even_disp_eq_im)))"
   ]
  },
  {
   "cell_type": "code",
   "execution_count": 68,
   "metadata": {},
   "outputs": [
    {
     "name": "stdout",
     "output_type": "stream",
     "text": [
      "even_disp_eq_s =\n"
     ]
    },
    {
     "data": {
      "text/latex": [
       "$\\displaystyle \\left[\\mathit{sx} = \\frac{c^{2} \\kappa^{3} \\mathit{kz}^{2} \\cos\\left(a \\kappa\\right) - \\epsilon \\kappa^{3} \\mu \\omega^{2} \\cos\\left(a \\kappa\\right) - {\\left(c^{2} \\kappa \\mathit{kz}^{2} \\cos\\left(a \\kappa\\right) - \\epsilon \\kappa \\mu \\omega^{2} \\cos\\left(a \\kappa\\right)\\right)} \\mathit{sz}^{2}}{c^{2} \\epsilon \\kappa^{4} \\sin\\left(a \\kappa\\right) + c^{2} \\epsilon \\mathit{sz}^{4} \\sin\\left(a \\kappa\\right) - 2 \\, {\\left(c^{2} \\epsilon \\kappa^{2} \\sin\\left(a \\kappa\\right) - 2 \\, c^{2} \\epsilon \\mathit{kz}^{2} \\sin\\left(a \\kappa\\right)\\right)} \\mathit{sz}^{2}}\\right]$"
      ],
      "text/plain": [
       "<IPython.core.display.Math object>"
      ]
     },
     "metadata": {},
     "output_type": "display_data"
    }
   ],
   "source": [
    "even_disp_eq_s = solve(even_disp_eq_im, sx)\n",
    "print (\"even_disp_eq_s =\")\n",
    "display(Math(latex(even_disp_eq_s)))"
   ]
  },
  {
   "cell_type": "code",
   "execution_count": 69,
   "metadata": {},
   "outputs": [
    {
     "data": {
      "text/latex": [
       "$\\displaystyle \\mathit{sx} = \\frac{c^{2} \\kappa^{3} \\mathit{kz}^{2} \\cos\\left(a \\kappa\\right)}{c^{2} \\epsilon \\kappa^{4} \\sin\\left(a \\kappa\\right) - 2 \\, c^{2} \\epsilon \\kappa^{2} \\mathit{sz}^{2} \\sin\\left(a \\kappa\\right) + 4 \\, c^{2} \\epsilon \\mathit{kz}^{2} \\mathit{sz}^{2} \\sin\\left(a \\kappa\\right) + c^{2} \\epsilon \\mathit{sz}^{4} \\sin\\left(a \\kappa\\right)} - \\frac{\\epsilon \\kappa^{3} \\mu \\omega^{2} \\cos\\left(a \\kappa\\right)}{c^{2} \\epsilon \\kappa^{4} \\sin\\left(a \\kappa\\right) - 2 \\, c^{2} \\epsilon \\kappa^{2} \\mathit{sz}^{2} \\sin\\left(a \\kappa\\right) + 4 \\, c^{2} \\epsilon \\mathit{kz}^{2} \\mathit{sz}^{2} \\sin\\left(a \\kappa\\right) + c^{2} \\epsilon \\mathit{sz}^{4} \\sin\\left(a \\kappa\\right)} - \\frac{c^{2} \\kappa \\mathit{kz}^{2} \\mathit{sz}^{2} \\cos\\left(a \\kappa\\right)}{c^{2} \\epsilon \\kappa^{4} \\sin\\left(a \\kappa\\right) - 2 \\, c^{2} \\epsilon \\kappa^{2} \\mathit{sz}^{2} \\sin\\left(a \\kappa\\right) + 4 \\, c^{2} \\epsilon \\mathit{kz}^{2} \\mathit{sz}^{2} \\sin\\left(a \\kappa\\right) + c^{2} \\epsilon \\mathit{sz}^{4} \\sin\\left(a \\kappa\\right)} + \\frac{\\epsilon \\kappa \\mu \\omega^{2} \\mathit{sz}^{2} \\cos\\left(a \\kappa\\right)}{c^{2} \\epsilon \\kappa^{4} \\sin\\left(a \\kappa\\right) - 2 \\, c^{2} \\epsilon \\kappa^{2} \\mathit{sz}^{2} \\sin\\left(a \\kappa\\right) + 4 \\, c^{2} \\epsilon \\mathit{kz}^{2} \\mathit{sz}^{2} \\sin\\left(a \\kappa\\right) + c^{2} \\epsilon \\mathit{sz}^{4} \\sin\\left(a \\kappa\\right)}$"
      ],
      "text/plain": [
       "<IPython.core.display.Math object>"
      ]
     },
     "metadata": {},
     "output_type": "display_data"
    }
   ],
   "source": [
    "display(Math(latex(\n",
    "    even_disp_eq_s[0].expand()\n",
    ")))"
   ]
  },
  {
   "cell_type": "code",
   "execution_count": 70,
   "metadata": {},
   "outputs": [
    {
     "name": "stdout",
     "output_type": "stream",
     "text": [
      "even_disp_eq_kx =\n"
     ]
    },
    {
     "data": {
      "text/latex": [
       "$\\displaystyle \\left[\\right]$"
      ],
      "text/plain": [
       "<IPython.core.display.Math object>"
      ]
     },
     "metadata": {},
     "output_type": "display_data"
    }
   ],
   "source": [
    "even_disp_eq_kx = solve([even_disp_eq_re, even_disp_eq_im], kx)\n",
    "print (\"even_disp_eq_kx =\")\n",
    "display(Math(latex(even_disp_eq_kx)))"
   ]
  },
  {
   "cell_type": "code",
   "execution_count": 71,
   "metadata": {},
   "outputs": [
    {
     "name": "stdout",
     "output_type": "stream",
     "text": [
      "even_disp_eq_kx =\n"
     ]
    },
    {
     "data": {
      "text/latex": [
       "$\\displaystyle \\mathit{kx} = -\\frac{i \\, c^{2} \\epsilon \\kappa^{2} \\mathit{sx} \\sin\\left(a \\kappa\\right)}{c^{2} \\epsilon \\kappa^{2} \\sin\\left(a \\kappa\\right) + 2 i \\, c^{2} \\epsilon \\mathit{kz} \\mathit{sz} \\sin\\left(a \\kappa\\right) - c^{2} \\epsilon \\mathit{sz}^{2} \\sin\\left(a \\kappa\\right)} + \\frac{2 \\, c^{2} \\epsilon \\mathit{kz} \\mathit{sx} \\mathit{sz} \\sin\\left(a \\kappa\\right)}{c^{2} \\epsilon \\kappa^{2} \\sin\\left(a \\kappa\\right) + 2 i \\, c^{2} \\epsilon \\mathit{kz} \\mathit{sz} \\sin\\left(a \\kappa\\right) - c^{2} \\epsilon \\mathit{sz}^{2} \\sin\\left(a \\kappa\\right)} + \\frac{i \\, c^{2} \\epsilon \\mathit{sx} \\mathit{sz}^{2} \\sin\\left(a \\kappa\\right)}{c^{2} \\epsilon \\kappa^{2} \\sin\\left(a \\kappa\\right) + 2 i \\, c^{2} \\epsilon \\mathit{kz} \\mathit{sz} \\sin\\left(a \\kappa\\right) - c^{2} \\epsilon \\mathit{sz}^{2} \\sin\\left(a \\kappa\\right)} + \\frac{i \\, c^{2} \\kappa \\mathit{kz}^{2} \\cos\\left(a \\kappa\\right)}{c^{2} \\epsilon \\kappa^{2} \\sin\\left(a \\kappa\\right) + 2 i \\, c^{2} \\epsilon \\mathit{kz} \\mathit{sz} \\sin\\left(a \\kappa\\right) - c^{2} \\epsilon \\mathit{sz}^{2} \\sin\\left(a \\kappa\\right)} - \\frac{i \\, \\epsilon \\kappa \\mu \\omega^{2} \\cos\\left(a \\kappa\\right)}{c^{2} \\epsilon \\kappa^{2} \\sin\\left(a \\kappa\\right) + 2 i \\, c^{2} \\epsilon \\mathit{kz} \\mathit{sz} \\sin\\left(a \\kappa\\right) - c^{2} \\epsilon \\mathit{sz}^{2} \\sin\\left(a \\kappa\\right)}$"
      ],
      "text/plain": [
       "<IPython.core.display.Math object>"
      ]
     },
     "metadata": {},
     "output_type": "display_data"
    }
   ],
   "source": [
    "even_disp_eq_kx = solve([even_reduced_M_det == 0], kx)\n",
    "print (\"even_disp_eq_kx =\")\n",
    "display(Math(latex(even_disp_eq_kx[0].expand())))"
   ]
  },
  {
   "cell_type": "code",
   "execution_count": 72,
   "metadata": {},
   "outputs": [
    {
     "name": "stdout",
     "output_type": "stream",
     "text": [
      "even_disp_eq_kx =\n"
     ]
    },
    {
     "data": {
      "text/latex": [
       "$\\displaystyle \\mathit{kz} = \\frac{\\epsilon \\mathit{kx} \\mathit{sz} \\sin\\left(a \\kappa\\right)}{\\kappa \\cos\\left(a \\kappa\\right)} + \\frac{i \\, \\epsilon \\mathit{sx} \\mathit{sz} \\sin\\left(a \\kappa\\right)}{\\kappa \\cos\\left(a \\kappa\\right)} + \\frac{i \\, \\sqrt{-c^{2} \\epsilon^{2} \\mathit{kx}^{2} \\mathit{sz}^{2} \\sin\\left(a \\kappa\\right)^{2} - 2 i \\, c^{2} \\epsilon^{2} \\mathit{kx} \\mathit{sx} \\mathit{sz}^{2} \\sin\\left(a \\kappa\\right)^{2} + c^{2} \\epsilon^{2} \\mathit{sx}^{2} \\mathit{sz}^{2} \\sin\\left(a \\kappa\\right)^{2} + i \\, c^{2} \\epsilon \\kappa^{3} \\mathit{kx} \\cos\\left(a \\kappa\\right) \\sin\\left(a \\kappa\\right) - c^{2} \\epsilon \\kappa^{3} \\mathit{sx} \\cos\\left(a \\kappa\\right) \\sin\\left(a \\kappa\\right) - i \\, c^{2} \\epsilon \\kappa \\mathit{kx} \\mathit{sz}^{2} \\cos\\left(a \\kappa\\right) \\sin\\left(a \\kappa\\right) + c^{2} \\epsilon \\kappa \\mathit{sx} \\mathit{sz}^{2} \\cos\\left(a \\kappa\\right) \\sin\\left(a \\kappa\\right) - \\epsilon \\kappa^{2} \\mu \\omega^{2} \\cos\\left(a \\kappa\\right)^{2}}}{c \\kappa \\cos\\left(a \\kappa\\right)}$"
      ],
      "text/plain": [
       "<IPython.core.display.Math object>"
      ]
     },
     "metadata": {},
     "output_type": "display_data"
    }
   ],
   "source": [
    "even_disp_eq_kx = solve([even_reduced_M_det == 0], kz)\n",
    "print (\"even_disp_eq_kx =\")\n",
    "display(Math(latex(even_disp_eq_kx[0].expand())))"
   ]
  },
  {
   "cell_type": "code",
   "execution_count": 73,
   "metadata": {},
   "outputs": [
    {
     "data": {
      "text/plain": [
       "kx*sx + kz*sz == 2*pi*mu*omega*sigma/c^2"
      ]
     },
     "execution_count": 73,
     "metadata": {},
     "output_type": "execute_result"
    }
   ],
   "source": [
    "eq_s_bad_conductor"
   ]
  },
  {
   "cell_type": "code",
   "execution_count": 74,
   "metadata": {},
   "outputs": [
    {
     "data": {
      "text/plain": [
       "kx == (2*pi*mu*omega*sigma - c^2*kz*sz)/(c^2*sx)"
      ]
     },
     "execution_count": 74,
     "metadata": {},
     "output_type": "execute_result"
    }
   ],
   "source": [
    "eq_k_x_bad_conductor = solve(eq_s_bad_conductor,kx)[0]\n",
    "eq_k_x_bad_conductor"
   ]
  },
  {
   "cell_type": "code",
   "execution_count": 75,
   "metadata": {},
   "outputs": [
    {
     "data": {
      "text/plain": [
       "((I*c^2*kz*sx/(c^2*kz^2 - epsilon*mu*omega^2) + (2*pi*mu*omega*sigma - c^2*kz*sz)*kz/((c^2*kz^2 - epsilon*mu*omega^2)*sx))*A2_z*kz*e^(-2*I*pi*a*mu*omega*sigma/(c^2*sx) + a*sx + I*a*kz*sz/sx + 2*I*pi*mu*omega*sigma*x/(c^2*sx) - sx*x - I*kz*sz*x/sx) - I*A2_z*(sx - I*(2*pi*mu*omega*sigma - c^2*kz*sz)/(c^2*sx))*e^(-2*I*pi*a*mu*omega*sigma/(c^2*sx) + a*sx + I*a*kz*sz/sx + 2*I*pi*mu*omega*sigma*x/(c^2*sx) - sx*x - I*kz*sz*x/sx))*c/(mu*omega)"
      ]
     },
     "execution_count": 75,
     "metadata": {},
     "output_type": "execute_result"
    }
   ],
   "source": [
    "H_bad_conductor_y(x).subs(even_res_rotH_bad_conductor[0]).subs(eq_k_x_bad_conductor)"
   ]
  },
  {
   "cell_type": "code",
   "execution_count": 76,
   "metadata": {},
   "outputs": [
    {
     "name": "stdout",
     "output_type": "stream",
     "text": [
      "even_H_inner_vacuum_y (x)  I*B2_z*kappa*omega*cos(kappa*x)/(c*kappa^2 + 2*I*c*kz*sz - c*sz^2)\n"
     ]
    }
   ],
   "source": [
    "even_H_inner_vacuum_y (x) = H_inner_vacuum_y (x).subs(even_res_rotH_inner_vacuum[0]).subs(even_eqs_inner_vacuum).subs(solve(eq_kappa_inner_vacuum,kz^2)).full_simplify()\n",
    "print (\"even_H_inner_vacuum_y (x) \", even_H_inner_vacuum_y (x))"
   ]
  },
  {
   "cell_type": "code",
   "execution_count": 77,
   "metadata": {},
   "outputs": [
    {
     "name": "stdout",
     "output_type": "stream",
     "text": [
      "even_H_bad_conductor_y (x) = -(A2_z*c^2*epsilon*kz*omega*sz*e^(a*sx) - (2*pi*A2_z*epsilon*mu*omega^2*sigma + I*A2_z*c^2*epsilon*omega*sx^2)*e^(a*sx))*e^(-2*I*pi*a*mu*omega*sigma/(c^2*sx) + I*a*kz*sz/sx + 2*I*pi*mu*omega*sigma*x/(c^2*sx) - sx*x - I*kz*sz*x/sx)/((c^3*kz^2 - c*epsilon*mu*omega^2)*sx)\n"
     ]
    }
   ],
   "source": [
    "even_H_bad_conductor_y(x) = H_bad_conductor_y(x).subs(even_res_rotH_bad_conductor[0]).subs(solve(eq_s_bad_conductor,kx)).full_simplify()\n",
    "print (\"even_H_bad_conductor_y (x) =\", even_H_bad_conductor_y (x))"
   ]
  },
  {
   "cell_type": "code",
   "execution_count": 78,
   "metadata": {},
   "outputs": [
    {
     "name": "stdout",
     "output_type": "stream",
     "text": [
      "even_E_inner_vacuum_z (x) = B2_z*sin(kappa*x)\n",
      "even_E_inner_vacuum_x (x) = I*B2_z*kappa*kz*cos(kappa*x)/(kappa^2 + 2*I*kz*sz - sz^2)\n",
      "\n",
      "even_E_bad_conductor_z (x) = A2_z*e^(-I*(a - x)*kx + (a - x)*sx)\n",
      "even_E_bad_conductor_x (x) = (c^2*kx*kz/(c^2*kz^2 - epsilon*mu*omega^2) + I*c^2*kz*sx/(c^2*kz^2 - epsilon*mu*omega^2))*A2_z*e^(-I*(a - x)*kx + (a - x)*sx)\n"
     ]
    }
   ],
   "source": [
    "even_E_inner_vacuum_z (x) = E_inner_vacuum_z (x).subs(even_res_rotH_inner_vacuum[0]).subs(even_eqs_inner_vacuum).subs(solve(eq_kappa_inner_vacuum,kz^2)).full_simplify()\n",
    "even_E_inner_vacuum_x (x) = E_inner_vacuum_x (x).subs(even_res_rotH_inner_vacuum[0]).subs(even_eqs_inner_vacuum).subs(solve(eq_kappa_inner_vacuum,kz^2)).full_simplify()\n",
    "\n",
    "# x > a\n",
    "even_E_bad_conductor_z (x) = E_bad_conductor_z (x).subs(even_res_rotH_bad_conductor[0])#.subs(solve(eq_s_bad_conductor,k_z)).full_simplify()\n",
    "even_E_bad_conductor_x (x) = E_bad_conductor_x (x).subs(even_res_rotH_bad_conductor[0])#.subs(solve(eq_s_bad_conductor,k_z)).full_simplify()\n",
    "\n",
    "print (\"even_E_inner_vacuum_z (x) =\", even_E_inner_vacuum_z (x))\n",
    "print (\"even_E_inner_vacuum_x (x) =\", even_E_inner_vacuum_x (x))\n",
    "print (\"\")\n",
    "\n",
    "print (\"even_E_bad_conductor_z (x) =\", even_E_bad_conductor_z (x))\n",
    "print (\"even_E_bad_conductor_x (x) =\", even_E_bad_conductor_x (x))"
   ]
  },
  {
   "cell_type": "code",
   "execution_count": 79,
   "metadata": {},
   "outputs": [
    {
     "data": {
      "text/plain": [
       "-(A2_z*c^2*epsilon*kz*omega*sz*e^(a*sx) - (2*pi*A2_z*epsilon*mu*omega^2*sigma + I*A2_z*c^2*epsilon*omega*sx^2)*e^(a*sx))*e^(-a*sx)/((c^3*kz^2 - c*epsilon*mu*omega^2)*sx) == I*B2_z*kappa*omega*cos(a*kappa)/(c*kappa^2 + 2*I*c*kz*sz - c*sz^2)"
      ]
     },
     "execution_count": 79,
     "metadata": {},
     "output_type": "execute_result"
    }
   ],
   "source": [
    "# тангенциальная компонента напряженности магнитного поля\n",
    "even_eqHy_a  = even_H_bad_conductor_y (a)  == even_H_inner_vacuum_y (a)\n",
    "even_eqHy_a"
   ]
  },
  {
   "cell_type": "code",
   "execution_count": 80,
   "metadata": {},
   "outputs": [
    {
     "name": "stdout",
     "output_type": "stream",
     "text": [
      "even_A =\n"
     ]
    },
    {
     "data": {
      "text/latex": [
       "$\\displaystyle \\left[\\mathit{A2}_{z} = -\\frac{{\\left(-i \\, \\mathit{B2}_{z} c^{2} \\kappa \\mathit{kz}^{2} \\cos\\left(a \\kappa\\right) + i \\, \\mathit{B2}_{z} \\epsilon \\kappa \\mu \\omega^{2} \\cos\\left(a \\kappa\\right)\\right)} \\mathit{sx}}{2 \\, \\pi \\epsilon \\kappa^{2} \\mu \\omega \\sigma + i \\, c^{2} \\epsilon \\kappa^{2} \\mathit{sx}^{2} + c^{2} \\epsilon \\mathit{kz} \\mathit{sz}^{3} + {\\left(-2 i \\, c^{2} \\epsilon \\mathit{kz}^{2} - 2 \\, \\pi \\epsilon \\mu \\omega \\sigma - i \\, c^{2} \\epsilon \\mathit{sx}^{2}\\right)} \\mathit{sz}^{2} - {\\left(c^{2} \\epsilon \\kappa^{2} \\mathit{kz} - 4 i \\, \\pi \\epsilon \\mathit{kz} \\mu \\omega \\sigma + 2 \\, c^{2} \\epsilon \\mathit{kz} \\mathit{sx}^{2}\\right)} \\mathit{sz}}\\right]$"
      ],
      "text/plain": [
       "<IPython.core.display.Math object>"
      ]
     },
     "metadata": {},
     "output_type": "display_data"
    },
    {
     "name": "stdout",
     "output_type": "stream",
     "text": [
      "even_A =\n"
     ]
    },
    {
     "data": {
      "text/latex": [
       "$\\displaystyle -\\frac{{\\left(-i \\, \\mathit{B2}_{z} c^{2} \\kappa \\mathit{kz}^{2} \\cos\\left(a \\kappa\\right) + i \\, \\mathit{B2}_{z} \\epsilon \\kappa \\mu \\omega^{2} \\cos\\left(a \\kappa\\right)\\right)} \\mathit{sx} e^{\\left(a \\mathit{sx}\\right)}}{c^{2} \\epsilon \\mathit{kz} \\mathit{sz}^{3} e^{\\left(a \\mathit{sx}\\right)} + {\\left(-2 i \\, c^{2} \\epsilon \\mathit{kz}^{2} - 2 \\, \\pi \\epsilon \\mu \\omega \\sigma - i \\, c^{2} \\epsilon \\mathit{sx}^{2}\\right)} \\mathit{sz}^{2} e^{\\left(a \\mathit{sx}\\right)} - {\\left(c^{2} \\epsilon \\kappa^{2} \\mathit{kz} - 4 i \\, \\pi \\epsilon \\mathit{kz} \\mu \\omega \\sigma + 2 \\, c^{2} \\epsilon \\mathit{kz} \\mathit{sx}^{2}\\right)} \\mathit{sz} e^{\\left(a \\mathit{sx}\\right)} + {\\left(2 \\, \\pi \\epsilon \\kappa^{2} \\mu \\omega \\sigma + i \\, c^{2} \\epsilon \\kappa^{2} \\mathit{sx}^{2}\\right)} e^{\\left(a \\mathit{sx}\\right)}}$"
      ],
      "text/plain": [
       "<IPython.core.display.Math object>"
      ]
     },
     "metadata": {},
     "output_type": "display_data"
    }
   ],
   "source": [
    "even_A = solve (even_eqHy_a, A2_z)\n",
    "print (\"even_A =\")\n",
    "display(Math(latex(even_A)))\n",
    "even_A = ((even_A[0].rhs()/e^(a*sx)).subs(even_disp_eq).full_simplify())*e^(a*sx)\n",
    "print (\"even_A =\")\n",
    "display(Math(latex(even_A)))"
   ]
  },
  {
   "cell_type": "code",
   "execution_count": 81,
   "metadata": {},
   "outputs": [
    {
     "name": "stdout",
     "output_type": "stream",
     "text": [
      "even_eq_kappa =\n"
     ]
    },
    {
     "data": {
      "text/latex": [
       "$\\displaystyle -\\frac{c^{2} \\mathit{kz}^{2} + 2 i \\, c^{2} \\mathit{kz} \\mathit{sz} - c^{2} \\mathit{sz}^{2} - \\omega^{2}}{c^{2}} = \\kappa^{2}$"
      ],
      "text/plain": [
       "<IPython.core.display.Math object>"
      ]
     },
     "metadata": {},
     "output_type": "display_data"
    }
   ],
   "source": [
    "even_eq_kappa = eq_kappa_inner_vacuum.subs(even_disp_eq).full_simplify()\n",
    "print(\"even_eq_kappa =\")\n",
    "display(Math(latex(even_eq_kappa)))"
   ]
  },
  {
   "cell_type": "code",
   "execution_count": 82,
   "metadata": {},
   "outputs": [
    {
     "name": "stdout",
     "output_type": "stream",
     "text": [
      "even_sol_kappa =\n"
     ]
    },
    {
     "data": {
      "text/latex": [
       "$\\displaystyle \\left[\\kappa = -\\frac{\\sqrt{-c^{2} \\mathit{kz}^{2} - 2 i \\, c^{2} \\mathit{kz} \\mathit{sz} + c^{2} \\mathit{sz}^{2} + \\omega^{2}}}{c}, \\kappa = \\frac{\\sqrt{-c^{2} \\mathit{kz}^{2} - 2 i \\, c^{2} \\mathit{kz} \\mathit{sz} + c^{2} \\mathit{sz}^{2} + \\omega^{2}}}{c}\\right]$"
      ],
      "text/plain": [
       "<IPython.core.display.Math object>"
      ]
     },
     "metadata": {},
     "output_type": "display_data"
    }
   ],
   "source": [
    "even_sol_kappa = solve(even_eq_kappa, kappa)\n",
    "print(\"even_sol_kappa =\")\n",
    "display(Math(latex(even_sol_kappa)))"
   ]
  },
  {
   "cell_type": "code",
   "execution_count": 83,
   "metadata": {},
   "outputs": [],
   "source": [
    "# eq_kappa_s = eq_kappa.subs(solve(eq_s, k^2)).full_simplify()\n",
    "#eq_s2 = eq_kappa_s.solve(s^2)\n",
    "#eq_kappa2 = eq_kappa_s.solve(kappa^2)\n",
    "\n",
    "#print(\"eq_s2 =\")\n",
    "#display(Math(latex(eq_s2[0].expand())))\n",
    "#print(\"eq_kappa2 =\")\n",
    "#display(Math(latex(eq_kappa2[0].expand())))\n",
    "\n",
    "#eq_kappa2_s2 = (eq_kappa_s.solve(omega^2)[0]/c^2).full_simplify()\n",
    "\n",
    "#print(\"eq_kappa2_s2 =\")\n",
    "#display(Math(latex(eq_kappa2_s2)))"
   ]
  },
  {
   "cell_type": "code",
   "execution_count": 84,
   "metadata": {},
   "outputs": [
    {
     "name": "stdout",
     "output_type": "stream",
     "text": [
      "[omega == 6.28318530717959e11, mu == 1, c == 29979245800, epsilon == 5]\n"
     ]
    }
   ],
   "source": [
    "# sgs\n",
    "A = 0.1\n",
    "kappa_A_max = 13*pi.n()/2\n",
    "s_A_max = 20\n",
    "digit_values = [omega == 2*pi.n()*10^11, mu == 1, c == 299792458 * 100, epsilon == 5]\n",
    "print (digit_values)"
   ]
  },
  {
   "cell_type": "code",
   "execution_count": 85,
   "metadata": {},
   "outputs": [
    {
     "name": "stdout",
     "output_type": "stream",
     "text": [
      "even_sol_kappa_d = kappa == -1/29979245800*sqrt(-898755178736817640000*kz^2 - 1797510357473635280000*I*kz*sz + 898755178736817640000*sz^2 + 3.94784176043574e23)\n"
     ]
    }
   ],
   "source": [
    "even_sol_kappa_d = even_sol_kappa[0].subs(digit_values)\n",
    "print(\"even_sol_kappa_d =\", even_sol_kappa_d)"
   ]
  },
  {
   "cell_type": "code",
   "execution_count": 86,
   "metadata": {},
   "outputs": [
    {
     "name": "stdout",
     "output_type": "stream",
     "text": [
      "even_disp_eq_s_d = sx == 1/4493775893684088200000*(898755178736817640000*kappa^3*kz^2*cos(a*kappa) - 1.97392088021787e24*kappa^3*cos(a*kappa) - (898755178736817640000*kappa*kz^2*cos(a*kappa) - 1.97392088021787e24*kappa*cos(a*kappa))*sz^2)/(kappa^4*sin(a*kappa) + sz^4*sin(a*kappa) - 2*(kappa^2*sin(a*kappa) - 2*kz^2*sin(a*kappa))*sz^2)\n"
     ]
    }
   ],
   "source": [
    "even_disp_eq_s_d = even_disp_eq_s[0].subs(digit_values)\n",
    "print (\"even_disp_eq_s_d =\", even_disp_eq_s_d)"
   ]
  },
  {
   "cell_type": "code",
   "execution_count": 87,
   "metadata": {},
   "outputs": [
    {
     "name": "stdout",
     "output_type": "stream",
     "text": [
      "even_disp_eq_s_da = a*sx == 1/4493775893684088200000*(898755178736817640000*kappa^3*kz^2*cos(a*kappa) - 1.97392088021787e24*kappa^3*cos(a*kappa) - (898755178736817640000*kappa*kz^2*cos(a*kappa) - 1.97392088021787e24*kappa*cos(a*kappa))*sz^2)*a/(kappa^4*sin(a*kappa) + sz^4*sin(a*kappa) - 2*(kappa^2*sin(a*kappa) - 2*kz^2*sin(a*kappa))*sz^2)\n"
     ]
    }
   ],
   "source": [
    "even_disp_eq_s_da = even_disp_eq_s_d * a\n",
    "print (\"even_disp_eq_s_da =\", even_disp_eq_s_da)"
   ]
  },
  {
   "cell_type": "code",
   "execution_count": 88,
   "metadata": {},
   "outputs": [
    {
     "name": "stdout",
     "output_type": "stream",
     "text": [
      "1/4493775893684088200000*(898755178736817640000*kz^2*x^3*cos(x) - 1.97392088021787e24*x^3*cos(x) - (898755178736817640000*kz^2*x*cos(x) - 1.97392088021787e24*x*cos(x))*sz^2)/(sz^4*sin(x) + x^4*sin(x) + 2*(2*kz^2*sin(x) - x^2*sin(x))*sz^2)\n"
     ]
    }
   ],
   "source": [
    "print (even_disp_eq_s_d.rhs().subs(a * kappa == x).subs(kappa == x))"
   ]
  },
  {
   "cell_type": "code",
   "execution_count": 89,
   "metadata": {},
   "outputs": [
    {
     "name": "stdout",
     "output_type": "stream",
     "text": [
      "r = sqrt(epsilon*mu - 1)*omega/c\n",
      "r = 41.9169004390336\n"
     ]
    }
   ],
   "source": [
    "r = omega / c * sqrt(epsilon * mu - 1)\n",
    "print (\"r =\", r)\n",
    "\n",
    "r = r.subs(digit_values)\n",
    "print (\"r =\", r)"
   ]
  },
  {
   "cell_type": "code",
   "execution_count": 90,
   "metadata": {},
   "outputs": [
    {
     "data": {
      "text/plain": [
       "1/4493775893684088200000*(1.97302212503913e24*sz^2*x*cos(x) - 1.97302212503913e24*x^3*cos(x))/(sz^4*sin(x) + x^4*sin(x) - 2*(x^2*sin(x) - 2*sin(x))*sz^2)"
      ]
     },
     "execution_count": 90,
     "metadata": {},
     "output_type": "execute_result"
    }
   ],
   "source": [
    "even_disp_eq_fa = lambda x : even_disp_eq_s_d.rhs().subs(a == 1).subs(kappa == x).subs(kz == 1, kx == 1)\n",
    "even_disp_eq_fa(x)"
   ]
  },
  {
   "cell_type": "code",
   "execution_count": 91,
   "metadata": {},
   "outputs": [
    {
     "data": {
      "text/plain": [
       "1/4493775893684088200000*(1.97302212503913e24*sz^2*x*cos(x) - 1.97302212503913e24*x^3*cos(x))/(sz^4*sin(x) + x^4*sin(x) - 2*(x^2*sin(x) - 2*sin(x))*sz^2)"
      ]
     },
     "execution_count": 91,
     "metadata": {},
     "output_type": "execute_result"
    }
   ],
   "source": [
    "even_disp_eq_fa(x)"
   ]
  },
  {
   "cell_type": "code",
   "execution_count": 92,
   "metadata": {},
   "outputs": [
    {
     "ename": "ValueError",
     "evalue": "Variable 'sz' not found",
     "output_type": "error",
     "traceback": [
      "\u001b[0;31m---------------------------------------------------------------------------\u001b[0m",
      "\u001b[0;31mValueError\u001b[0m                                Traceback (most recent call last)",
      "\u001b[0;32m/usr3/articles/sagemath_docker_build/sage/local/lib/python3.9/site-packages/sage/ext/fast_callable.pyx\u001b[0m in \u001b[0;36msage.ext.fast_callable.ExpressionTreeBuilder.var (build/cythonized/sage/ext/fast_callable.c:6739)\u001b[0;34m()\u001b[0m\n\u001b[1;32m    686\u001b[0m         \u001b[0;32mtry\u001b[0m\u001b[0;34m:\u001b[0m\u001b[0;34m\u001b[0m\u001b[0;34m\u001b[0m\u001b[0m\n\u001b[0;32m--> 687\u001b[0;31m             \u001b[0mind\u001b[0m \u001b[0;34m=\u001b[0m \u001b[0mself\u001b[0m\u001b[0;34m.\u001b[0m\u001b[0m_vars\u001b[0m\u001b[0;34m.\u001b[0m\u001b[0mindex\u001b[0m\u001b[0;34m(\u001b[0m\u001b[0mvar_name\u001b[0m\u001b[0;34m)\u001b[0m\u001b[0;34m\u001b[0m\u001b[0;34m\u001b[0m\u001b[0m\n\u001b[0m\u001b[1;32m    688\u001b[0m         \u001b[0;32mexcept\u001b[0m \u001b[0mValueError\u001b[0m\u001b[0;34m:\u001b[0m\u001b[0;34m\u001b[0m\u001b[0;34m\u001b[0m\u001b[0m\n",
      "\u001b[0;31mValueError\u001b[0m: 'sz' is not in list",
      "\nDuring handling of the above exception, another exception occurred:\n",
      "\u001b[0;31mValueError\u001b[0m                                Traceback (most recent call last)",
      "\u001b[0;32m<ipython-input-92-ccfec4d4361d>\u001b[0m in \u001b[0;36m<module>\u001b[0;34m\u001b[0m\n\u001b[0;32m----> 1\u001b[0;31m \u001b[0mp\u001b[0m \u001b[0;34m=\u001b[0m \u001b[0mplot\u001b[0m\u001b[0;34m(\u001b[0m\u001b[0;34m[\u001b[0m\u001b[0meven_disp_eq_fa\u001b[0m\u001b[0;34m(\u001b[0m\u001b[0mx\u001b[0m\u001b[0;34m)\u001b[0m\u001b[0;34m.\u001b[0m\u001b[0mreal\u001b[0m\u001b[0;34m(\u001b[0m\u001b[0;34m)\u001b[0m\u001b[0;34m,\u001b[0m \u001b[0msqrt\u001b[0m\u001b[0;34m(\u001b[0m\u001b[0;34m(\u001b[0m\u001b[0mr\u001b[0m \u001b[0;34m*\u001b[0m \u001b[0mA\u001b[0m\u001b[0;34m)\u001b[0m\u001b[0;34m**\u001b[0m\u001b[0mInteger\u001b[0m\u001b[0;34m(\u001b[0m\u001b[0;36m2\u001b[0m\u001b[0;34m)\u001b[0m \u001b[0;34m-\u001b[0m \u001b[0mx\u001b[0m\u001b[0;34m**\u001b[0m\u001b[0mInteger\u001b[0m\u001b[0;34m(\u001b[0m\u001b[0;36m2\u001b[0m\u001b[0;34m)\u001b[0m\u001b[0;34m)\u001b[0m\u001b[0;34m]\u001b[0m\u001b[0;34m,\u001b[0m \u001b[0;34m(\u001b[0m\u001b[0mx\u001b[0m\u001b[0;34m,\u001b[0m \u001b[0mInteger\u001b[0m\u001b[0;34m(\u001b[0m\u001b[0;36m0\u001b[0m\u001b[0;34m)\u001b[0m\u001b[0;34m,\u001b[0m \u001b[0mkappa_A_max\u001b[0m\u001b[0;34m)\u001b[0m\u001b[0;34m,\u001b[0m \u001b[0mymin\u001b[0m \u001b[0;34m=\u001b[0m \u001b[0mInteger\u001b[0m\u001b[0;34m(\u001b[0m\u001b[0;36m0\u001b[0m\u001b[0;34m)\u001b[0m\u001b[0;34m,\u001b[0m \u001b[0mymax\u001b[0m \u001b[0;34m=\u001b[0m \u001b[0ms_A_max\u001b[0m\u001b[0;34m)\u001b[0m\u001b[0;34m\u001b[0m\u001b[0;34m\u001b[0m\u001b[0m\n\u001b[0m\u001b[1;32m      2\u001b[0m \u001b[0mp\u001b[0m\u001b[0;34m.\u001b[0m\u001b[0mshow\u001b[0m\u001b[0;34m(\u001b[0m\u001b[0;34m)\u001b[0m\u001b[0;34m\u001b[0m\u001b[0;34m\u001b[0m\u001b[0m\n",
      "\u001b[0;32m/usr3/articles/sagemath_docker_build/sage/local/lib/python3.9/site-packages/sage/misc/decorators.py\u001b[0m in \u001b[0;36mwrapper\u001b[0;34m(*args, **kwds)\u001b[0m\n\u001b[1;32m    489\u001b[0m                 \u001b[0moptions\u001b[0m\u001b[0;34m[\u001b[0m\u001b[0;34m'__original_opts'\u001b[0m\u001b[0;34m]\u001b[0m \u001b[0;34m=\u001b[0m \u001b[0mkwds\u001b[0m\u001b[0;34m\u001b[0m\u001b[0;34m\u001b[0m\u001b[0m\n\u001b[1;32m    490\u001b[0m             \u001b[0moptions\u001b[0m\u001b[0;34m.\u001b[0m\u001b[0mupdate\u001b[0m\u001b[0;34m(\u001b[0m\u001b[0mkwds\u001b[0m\u001b[0;34m)\u001b[0m\u001b[0;34m\u001b[0m\u001b[0;34m\u001b[0m\u001b[0m\n\u001b[0;32m--> 491\u001b[0;31m             \u001b[0;32mreturn\u001b[0m \u001b[0mfunc\u001b[0m\u001b[0;34m(\u001b[0m\u001b[0;34m*\u001b[0m\u001b[0margs\u001b[0m\u001b[0;34m,\u001b[0m \u001b[0;34m**\u001b[0m\u001b[0moptions\u001b[0m\u001b[0;34m)\u001b[0m\u001b[0;34m\u001b[0m\u001b[0;34m\u001b[0m\u001b[0m\n\u001b[0m\u001b[1;32m    492\u001b[0m \u001b[0;34m\u001b[0m\u001b[0m\n\u001b[1;32m    493\u001b[0m         \u001b[0;31m#Add the options specified by @options to the signature of the wrapped\u001b[0m\u001b[0;34m\u001b[0m\u001b[0;34m\u001b[0m\u001b[0;34m\u001b[0m\u001b[0m\n",
      "\u001b[0;32m/usr3/articles/sagemath_docker_build/sage/local/lib/python3.9/site-packages/sage/plot/plot.py\u001b[0m in \u001b[0;36mplot\u001b[0;34m(funcs, *args, **kwds)\u001b[0m\n\u001b[1;32m   1974\u001b[0m         \u001b[0;31m# if there is one extra arg, then it had better be a tuple\u001b[0m\u001b[0;34m\u001b[0m\u001b[0;34m\u001b[0m\u001b[0;34m\u001b[0m\u001b[0m\n\u001b[1;32m   1975\u001b[0m         \u001b[0;32melif\u001b[0m \u001b[0mn\u001b[0m \u001b[0;34m==\u001b[0m \u001b[0;36m1\u001b[0m\u001b[0;34m:\u001b[0m\u001b[0;34m\u001b[0m\u001b[0;34m\u001b[0m\u001b[0m\n\u001b[0;32m-> 1976\u001b[0;31m             \u001b[0mG\u001b[0m \u001b[0;34m=\u001b[0m \u001b[0m_plot\u001b[0m\u001b[0;34m(\u001b[0m\u001b[0mfuncs\u001b[0m\u001b[0;34m,\u001b[0m \u001b[0;34m*\u001b[0m\u001b[0margs\u001b[0m\u001b[0;34m,\u001b[0m \u001b[0;34m**\u001b[0m\u001b[0mkwds\u001b[0m\u001b[0;34m)\u001b[0m\u001b[0;34m\u001b[0m\u001b[0;34m\u001b[0m\u001b[0m\n\u001b[0m\u001b[1;32m   1977\u001b[0m         \u001b[0;32melif\u001b[0m \u001b[0mn\u001b[0m \u001b[0;34m==\u001b[0m \u001b[0;36m2\u001b[0m\u001b[0;34m:\u001b[0m\u001b[0;34m\u001b[0m\u001b[0;34m\u001b[0m\u001b[0m\n\u001b[1;32m   1978\u001b[0m         \u001b[0;31m# if there are two extra args, then pull them out and pass them as a tuple\u001b[0m\u001b[0;34m\u001b[0m\u001b[0;34m\u001b[0m\u001b[0;34m\u001b[0m\u001b[0m\n",
      "\u001b[0;32m/usr3/articles/sagemath_docker_build/sage/local/lib/python3.9/site-packages/sage/plot/plot.py\u001b[0m in \u001b[0;36m_plot\u001b[0;34m(funcs, xrange, parametric, polar, fill, label, randomize, **options)\u001b[0m\n\u001b[1;32m   2092\u001b[0m     \u001b[0morig_funcs\u001b[0m \u001b[0;34m=\u001b[0m \u001b[0mfuncs\u001b[0m \u001b[0;31m# keep the original functions (for use in legend labels)\u001b[0m\u001b[0;34m\u001b[0m\u001b[0;34m\u001b[0m\u001b[0m\n\u001b[1;32m   2093\u001b[0m     \u001b[0mexcluded_points\u001b[0m \u001b[0;34m=\u001b[0m \u001b[0;34m[\u001b[0m\u001b[0;34m]\u001b[0m\u001b[0;34m\u001b[0m\u001b[0;34m\u001b[0m\u001b[0m\n\u001b[0;32m-> 2094\u001b[0;31m     \u001b[0mfuncs\u001b[0m\u001b[0;34m,\u001b[0m \u001b[0mranges\u001b[0m \u001b[0;34m=\u001b[0m \u001b[0msetup_for_eval_on_grid\u001b[0m\u001b[0;34m(\u001b[0m\u001b[0mfuncs\u001b[0m\u001b[0;34m,\u001b[0m \u001b[0;34m[\u001b[0m\u001b[0mxrange\u001b[0m\u001b[0;34m]\u001b[0m\u001b[0;34m,\u001b[0m \u001b[0moptions\u001b[0m\u001b[0;34m[\u001b[0m\u001b[0;34m'plot_points'\u001b[0m\u001b[0;34m]\u001b[0m\u001b[0;34m)\u001b[0m\u001b[0;34m\u001b[0m\u001b[0;34m\u001b[0m\u001b[0m\n\u001b[0m\u001b[1;32m   2095\u001b[0m     \u001b[0mxmin\u001b[0m\u001b[0;34m,\u001b[0m \u001b[0mxmax\u001b[0m\u001b[0;34m,\u001b[0m \u001b[0mdelta\u001b[0m \u001b[0;34m=\u001b[0m \u001b[0mranges\u001b[0m\u001b[0;34m[\u001b[0m\u001b[0;36m0\u001b[0m\u001b[0;34m]\u001b[0m\u001b[0;34m\u001b[0m\u001b[0;34m\u001b[0m\u001b[0m\n\u001b[1;32m   2096\u001b[0m     \u001b[0mxrange\u001b[0m\u001b[0;34m=\u001b[0m\u001b[0mranges\u001b[0m\u001b[0;34m[\u001b[0m\u001b[0;36m0\u001b[0m\u001b[0;34m]\u001b[0m\u001b[0;34m[\u001b[0m\u001b[0;34m:\u001b[0m\u001b[0;36m2\u001b[0m\u001b[0;34m]\u001b[0m\u001b[0;34m\u001b[0m\u001b[0;34m\u001b[0m\u001b[0m\n",
      "\u001b[0;32m/usr3/articles/sagemath_docker_build/sage/local/lib/python3.9/site-packages/sage/plot/misc.py\u001b[0m in \u001b[0;36msetup_for_eval_on_grid\u001b[0;34m(funcs, ranges, plot_points, return_vars)\u001b[0m\n\u001b[1;32m    149\u001b[0m                 vars)\n\u001b[1;32m    150\u001b[0m     \u001b[0;32melse\u001b[0m\u001b[0;34m:\u001b[0m\u001b[0;34m\u001b[0m\u001b[0;34m\u001b[0m\u001b[0m\n\u001b[0;32m--> 151\u001b[0;31m         return (fast_float(funcs, *vars, **options),\n\u001b[0m\u001b[1;32m    152\u001b[0m                 [tuple(_range + [range_step])\n\u001b[1;32m    153\u001b[0m                  for _range, range_step in zip(ranges, range_steps)])\n",
      "\u001b[0;32m/usr3/articles/sagemath_docker_build/sage/local/lib/python3.9/site-packages/sage/ext/fast_eval.pyx\u001b[0m in \u001b[0;36msage.ext.fast_eval.fast_float (build/cythonized/sage/ext/fast_eval.c:10999)\u001b[0;34m()\u001b[0m\n\u001b[1;32m   1374\u001b[0m \u001b[0;34m\u001b[0m\u001b[0m\n\u001b[1;32m   1375\u001b[0m     \u001b[0;32mif\u001b[0m \u001b[0misinstance\u001b[0m\u001b[0;34m(\u001b[0m\u001b[0mf\u001b[0m\u001b[0;34m,\u001b[0m \u001b[0;34m(\u001b[0m\u001b[0mtuple\u001b[0m\u001b[0;34m,\u001b[0m \u001b[0mlist\u001b[0m\u001b[0;34m)\u001b[0m\u001b[0;34m)\u001b[0m\u001b[0;34m:\u001b[0m\u001b[0;34m\u001b[0m\u001b[0;34m\u001b[0m\u001b[0m\n\u001b[0;32m-> 1376\u001b[0;31m         \u001b[0;32mreturn\u001b[0m \u001b[0mtuple\u001b[0m\u001b[0;34m(\u001b[0m\u001b[0;34m[\u001b[0m\u001b[0mfast_float\u001b[0m\u001b[0;34m(\u001b[0m\u001b[0mx\u001b[0m\u001b[0;34m,\u001b[0m \u001b[0;34m*\u001b[0m\u001b[0mvars\u001b[0m\u001b[0;34m,\u001b[0m \u001b[0mexpect_one_var\u001b[0m\u001b[0;34m=\u001b[0m\u001b[0mexpect_one_var\u001b[0m\u001b[0;34m)\u001b[0m \u001b[0;32mfor\u001b[0m \u001b[0mx\u001b[0m \u001b[0;32min\u001b[0m \u001b[0mf\u001b[0m\u001b[0;34m]\u001b[0m\u001b[0;34m)\u001b[0m\u001b[0;34m\u001b[0m\u001b[0;34m\u001b[0m\u001b[0m\n\u001b[0m\u001b[1;32m   1377\u001b[0m \u001b[0;34m\u001b[0m\u001b[0m\n\u001b[1;32m   1378\u001b[0m     \u001b[0mcdef\u001b[0m \u001b[0mint\u001b[0m \u001b[0mi\u001b[0m\u001b[0;34m\u001b[0m\u001b[0;34m\u001b[0m\u001b[0m\n",
      "\u001b[0;32m/usr3/articles/sagemath_docker_build/sage/local/lib/python3.9/site-packages/sage/ext/fast_eval.pyx\u001b[0m in \u001b[0;36msage.ext.fast_eval.fast_float (build/cythonized/sage/ext/fast_eval.c:11249)\u001b[0;34m()\u001b[0m\n\u001b[1;32m   1389\u001b[0m             \u001b[0;32mreturn\u001b[0m \u001b[0mf\u001b[0m\u001b[0;34m.\u001b[0m\u001b[0m_fast_float_\u001b[0m\u001b[0;34m(\u001b[0m\u001b[0;34m*\u001b[0m\u001b[0mvars\u001b[0m\u001b[0;34m)\u001b[0m\u001b[0;34m\u001b[0m\u001b[0;34m\u001b[0m\u001b[0m\n\u001b[1;32m   1390\u001b[0m         \u001b[0;32melse\u001b[0m\u001b[0;34m:\u001b[0m\u001b[0;34m\u001b[0m\u001b[0;34m\u001b[0m\u001b[0m\n\u001b[0;32m-> 1391\u001b[0;31m             return fast_callable(f, vars=vars, domain=float,\n\u001b[0m\u001b[1;32m   1392\u001b[0m                                  expect_one_var=expect_one_var)\n\u001b[1;32m   1393\u001b[0m     \u001b[0;32mexcept\u001b[0m \u001b[0mAttributeError\u001b[0m\u001b[0;34m:\u001b[0m\u001b[0;34m\u001b[0m\u001b[0;34m\u001b[0m\u001b[0m\n",
      "\u001b[0;32m/usr3/articles/sagemath_docker_build/sage/local/lib/python3.9/site-packages/sage/ext/fast_callable.pyx\u001b[0m in \u001b[0;36msage.ext.fast_callable.fast_callable (build/cythonized/sage/ext/fast_callable.c:4707)\u001b[0;34m()\u001b[0m\n\u001b[1;32m    454\u001b[0m \u001b[0;34m\u001b[0m\u001b[0m\n\u001b[1;32m    455\u001b[0m         \u001b[0metb\u001b[0m \u001b[0;34m=\u001b[0m \u001b[0mExpressionTreeBuilder\u001b[0m\u001b[0;34m(\u001b[0m\u001b[0mvars\u001b[0m\u001b[0;34m=\u001b[0m\u001b[0mvars\u001b[0m\u001b[0;34m,\u001b[0m \u001b[0mdomain\u001b[0m\u001b[0;34m=\u001b[0m\u001b[0mdomain\u001b[0m\u001b[0;34m)\u001b[0m\u001b[0;34m\u001b[0m\u001b[0;34m\u001b[0m\u001b[0m\n\u001b[0;32m--> 456\u001b[0;31m         \u001b[0met\u001b[0m \u001b[0;34m=\u001b[0m \u001b[0mx\u001b[0m\u001b[0;34m.\u001b[0m\u001b[0m_fast_callable_\u001b[0m\u001b[0;34m(\u001b[0m\u001b[0metb\u001b[0m\u001b[0;34m)\u001b[0m\u001b[0;34m\u001b[0m\u001b[0;34m\u001b[0m\u001b[0m\n\u001b[0m\u001b[1;32m    457\u001b[0m \u001b[0;34m\u001b[0m\u001b[0m\n\u001b[1;32m    458\u001b[0m     \u001b[0;32mif\u001b[0m \u001b[0misinstance\u001b[0m\u001b[0;34m(\u001b[0m\u001b[0mdomain\u001b[0m\u001b[0;34m,\u001b[0m \u001b[0mRealField_class\u001b[0m\u001b[0;34m)\u001b[0m\u001b[0;34m:\u001b[0m\u001b[0;34m\u001b[0m\u001b[0;34m\u001b[0m\u001b[0m\n",
      "\u001b[0;32m/usr3/articles/sagemath_docker_build/sage/local/lib/python3.9/site-packages/sage/symbolic/expression.pyx\u001b[0m in \u001b[0;36msage.symbolic.expression.Expression._fast_callable_ (build/cythonized/sage/symbolic/expression.cpp:65349)\u001b[0;34m()\u001b[0m\n\u001b[1;32m  12285\u001b[0m         \"\"\"\n\u001b[1;32m  12286\u001b[0m         \u001b[0;32mfrom\u001b[0m \u001b[0msage\u001b[0m\u001b[0;34m.\u001b[0m\u001b[0msymbolic\u001b[0m\u001b[0;34m.\u001b[0m\u001b[0mexpression_conversions\u001b[0m \u001b[0;32mimport\u001b[0m \u001b[0mfast_callable\u001b[0m\u001b[0;34m\u001b[0m\u001b[0;34m\u001b[0m\u001b[0m\n\u001b[0;32m> 12287\u001b[0;31m         \u001b[0;32mreturn\u001b[0m \u001b[0mfast_callable\u001b[0m\u001b[0;34m(\u001b[0m\u001b[0mself\u001b[0m\u001b[0;34m,\u001b[0m \u001b[0metb\u001b[0m\u001b[0;34m)\u001b[0m\u001b[0;34m\u001b[0m\u001b[0;34m\u001b[0m\u001b[0m\n\u001b[0m\u001b[1;32m  12288\u001b[0m \u001b[0;34m\u001b[0m\u001b[0m\n\u001b[1;32m  12289\u001b[0m     \u001b[0;32mdef\u001b[0m \u001b[0mshow\u001b[0m\u001b[0;34m(\u001b[0m\u001b[0mself\u001b[0m\u001b[0;34m)\u001b[0m\u001b[0;34m:\u001b[0m\u001b[0;34m\u001b[0m\u001b[0;34m\u001b[0m\u001b[0m\n",
      "\u001b[0;32m/usr3/articles/sagemath_docker_build/sage/local/lib/python3.9/site-packages/sage/symbolic/expression_conversions.py\u001b[0m in \u001b[0;36mfast_callable\u001b[0;34m(ex, etb)\u001b[0m\n\u001b[1;32m   2140\u001b[0m \u001b[0;34m\u001b[0m\u001b[0m\n\u001b[1;32m   2141\u001b[0m     \"\"\"\n\u001b[0;32m-> 2142\u001b[0;31m     \u001b[0;32mreturn\u001b[0m \u001b[0mFastCallableConverter\u001b[0m\u001b[0;34m(\u001b[0m\u001b[0mex\u001b[0m\u001b[0;34m,\u001b[0m \u001b[0metb\u001b[0m\u001b[0;34m)\u001b[0m\u001b[0;34m(\u001b[0m\u001b[0;34m)\u001b[0m\u001b[0;34m\u001b[0m\u001b[0;34m\u001b[0m\u001b[0m\n\u001b[0m\u001b[1;32m   2143\u001b[0m \u001b[0;34m\u001b[0m\u001b[0m\n\u001b[1;32m   2144\u001b[0m \u001b[0;32mclass\u001b[0m \u001b[0mRingConverter\u001b[0m\u001b[0;34m(\u001b[0m\u001b[0mConverter\u001b[0m\u001b[0;34m)\u001b[0m\u001b[0;34m:\u001b[0m\u001b[0;34m\u001b[0m\u001b[0;34m\u001b[0m\u001b[0m\n",
      "\u001b[0;32m/usr3/articles/sagemath_docker_build/sage/local/lib/python3.9/site-packages/sage/symbolic/expression_conversions.py\u001b[0m in \u001b[0;36m__call__\u001b[0;34m(self, ex)\u001b[0m\n\u001b[1;32m    214\u001b[0m             \u001b[0;32mif\u001b[0m \u001b[0mgetattr\u001b[0m\u001b[0;34m(\u001b[0m\u001b[0mself\u001b[0m\u001b[0;34m,\u001b[0m \u001b[0;34m'use_fake_div'\u001b[0m\u001b[0;34m,\u001b[0m \u001b[0;32mFalse\u001b[0m\u001b[0;34m)\u001b[0m \u001b[0;32mand\u001b[0m \u001b[0;34m(\u001b[0m\u001b[0moperator\u001b[0m \u001b[0;32mis\u001b[0m \u001b[0m_operator\u001b[0m\u001b[0;34m.\u001b[0m\u001b[0mmul\u001b[0m \u001b[0;32mor\u001b[0m \u001b[0moperator\u001b[0m \u001b[0;32mis\u001b[0m \u001b[0mmul_vararg\u001b[0m\u001b[0;34m)\u001b[0m\u001b[0;34m:\u001b[0m\u001b[0;34m\u001b[0m\u001b[0;34m\u001b[0m\u001b[0m\n\u001b[1;32m    215\u001b[0m                 \u001b[0mdiv\u001b[0m \u001b[0;34m=\u001b[0m \u001b[0mself\u001b[0m\u001b[0;34m.\u001b[0m\u001b[0mget_fake_div\u001b[0m\u001b[0;34m(\u001b[0m\u001b[0mex\u001b[0m\u001b[0;34m)\u001b[0m\u001b[0;34m\u001b[0m\u001b[0;34m\u001b[0m\u001b[0m\n\u001b[0;32m--> 216\u001b[0;31m                 \u001b[0;32mreturn\u001b[0m \u001b[0mself\u001b[0m\u001b[0;34m.\u001b[0m\u001b[0marithmetic\u001b[0m\u001b[0;34m(\u001b[0m\u001b[0mdiv\u001b[0m\u001b[0;34m,\u001b[0m \u001b[0mdiv\u001b[0m\u001b[0;34m.\u001b[0m\u001b[0moperator\u001b[0m\u001b[0;34m(\u001b[0m\u001b[0;34m)\u001b[0m\u001b[0;34m)\u001b[0m\u001b[0;34m\u001b[0m\u001b[0;34m\u001b[0m\u001b[0m\n\u001b[0m\u001b[1;32m    217\u001b[0m             \u001b[0;32mreturn\u001b[0m \u001b[0mself\u001b[0m\u001b[0;34m.\u001b[0m\u001b[0marithmetic\u001b[0m\u001b[0;34m(\u001b[0m\u001b[0mex\u001b[0m\u001b[0;34m,\u001b[0m \u001b[0moperator\u001b[0m\u001b[0;34m)\u001b[0m\u001b[0;34m\u001b[0m\u001b[0;34m\u001b[0m\u001b[0m\n\u001b[1;32m    218\u001b[0m         \u001b[0;32melif\u001b[0m \u001b[0moperator\u001b[0m \u001b[0;32min\u001b[0m \u001b[0mrelation_operators\u001b[0m\u001b[0;34m:\u001b[0m\u001b[0;34m\u001b[0m\u001b[0;34m\u001b[0m\u001b[0m\n",
      "\u001b[0;32m/usr3/articles/sagemath_docker_build/sage/local/lib/python3.9/site-packages/sage/symbolic/expression_conversions.py\u001b[0m in \u001b[0;36marithmetic\u001b[0;34m(self, ex, operator)\u001b[0m\n\u001b[1;32m   2068\u001b[0m         \u001b[0;32melif\u001b[0m \u001b[0moperator\u001b[0m \u001b[0;34m==\u001b[0m \u001b[0mmul_vararg\u001b[0m\u001b[0;34m:\u001b[0m\u001b[0;34m\u001b[0m\u001b[0;34m\u001b[0m\u001b[0m\n\u001b[1;32m   2069\u001b[0m             \u001b[0moperator\u001b[0m \u001b[0;34m=\u001b[0m \u001b[0m_operator\u001b[0m\u001b[0;34m.\u001b[0m\u001b[0mmul\u001b[0m\u001b[0;34m\u001b[0m\u001b[0;34m\u001b[0m\u001b[0m\n\u001b[0;32m-> 2070\u001b[0;31m         \u001b[0;32mreturn\u001b[0m \u001b[0mreduce\u001b[0m\u001b[0;34m(\u001b[0m\u001b[0;32mlambda\u001b[0m \u001b[0mx\u001b[0m\u001b[0;34m,\u001b[0m\u001b[0my\u001b[0m\u001b[0;34m:\u001b[0m \u001b[0mself\u001b[0m\u001b[0;34m.\u001b[0m\u001b[0metb\u001b[0m\u001b[0;34m.\u001b[0m\u001b[0mcall\u001b[0m\u001b[0;34m(\u001b[0m\u001b[0moperator\u001b[0m\u001b[0;34m,\u001b[0m \u001b[0mx\u001b[0m\u001b[0;34m,\u001b[0m\u001b[0my\u001b[0m\u001b[0;34m)\u001b[0m\u001b[0;34m,\u001b[0m \u001b[0moperands\u001b[0m\u001b[0;34m)\u001b[0m\u001b[0;34m\u001b[0m\u001b[0;34m\u001b[0m\u001b[0m\n\u001b[0m\u001b[1;32m   2071\u001b[0m \u001b[0;34m\u001b[0m\u001b[0m\n\u001b[1;32m   2072\u001b[0m     \u001b[0;32mdef\u001b[0m \u001b[0msymbol\u001b[0m\u001b[0;34m(\u001b[0m\u001b[0mself\u001b[0m\u001b[0;34m,\u001b[0m \u001b[0mex\u001b[0m\u001b[0;34m)\u001b[0m\u001b[0;34m:\u001b[0m\u001b[0;34m\u001b[0m\u001b[0;34m\u001b[0m\u001b[0m\n",
      "\u001b[0;32m/usr3/articles/sagemath_docker_build/sage/local/lib/python3.9/site-packages/sage/symbolic/expression_conversions.py\u001b[0m in \u001b[0;36m<lambda>\u001b[0;34m(x, y)\u001b[0m\n\u001b[1;32m   2068\u001b[0m         \u001b[0;32melif\u001b[0m \u001b[0moperator\u001b[0m \u001b[0;34m==\u001b[0m \u001b[0mmul_vararg\u001b[0m\u001b[0;34m:\u001b[0m\u001b[0;34m\u001b[0m\u001b[0;34m\u001b[0m\u001b[0m\n\u001b[1;32m   2069\u001b[0m             \u001b[0moperator\u001b[0m \u001b[0;34m=\u001b[0m \u001b[0m_operator\u001b[0m\u001b[0;34m.\u001b[0m\u001b[0mmul\u001b[0m\u001b[0;34m\u001b[0m\u001b[0;34m\u001b[0m\u001b[0m\n\u001b[0;32m-> 2070\u001b[0;31m         \u001b[0;32mreturn\u001b[0m \u001b[0mreduce\u001b[0m\u001b[0;34m(\u001b[0m\u001b[0;32mlambda\u001b[0m \u001b[0mx\u001b[0m\u001b[0;34m,\u001b[0m\u001b[0my\u001b[0m\u001b[0;34m:\u001b[0m \u001b[0mself\u001b[0m\u001b[0;34m.\u001b[0m\u001b[0metb\u001b[0m\u001b[0;34m.\u001b[0m\u001b[0mcall\u001b[0m\u001b[0;34m(\u001b[0m\u001b[0moperator\u001b[0m\u001b[0;34m,\u001b[0m \u001b[0mx\u001b[0m\u001b[0;34m,\u001b[0m\u001b[0my\u001b[0m\u001b[0;34m)\u001b[0m\u001b[0;34m,\u001b[0m \u001b[0moperands\u001b[0m\u001b[0;34m)\u001b[0m\u001b[0;34m\u001b[0m\u001b[0;34m\u001b[0m\u001b[0m\n\u001b[0m\u001b[1;32m   2071\u001b[0m \u001b[0;34m\u001b[0m\u001b[0m\n\u001b[1;32m   2072\u001b[0m     \u001b[0;32mdef\u001b[0m \u001b[0msymbol\u001b[0m\u001b[0;34m(\u001b[0m\u001b[0mself\u001b[0m\u001b[0;34m,\u001b[0m \u001b[0mex\u001b[0m\u001b[0;34m)\u001b[0m\u001b[0;34m:\u001b[0m\u001b[0;34m\u001b[0m\u001b[0;34m\u001b[0m\u001b[0m\n",
      "\u001b[0;32m/usr3/articles/sagemath_docker_build/sage/local/lib/python3.9/site-packages/sage/ext/fast_callable.pyx\u001b[0m in \u001b[0;36msage.ext.fast_callable.ExpressionTreeBuilder.call (build/cythonized/sage/ext/fast_callable.c:7204)\u001b[0;34m()\u001b[0m\n\u001b[1;32m    741\u001b[0m             \u001b[0;32mreturn\u001b[0m \u001b[0mself\u001b[0m\u001b[0;34m(\u001b[0m\u001b[0mbase\u001b[0m\u001b[0;34m)\u001b[0m\u001b[0;34m**\u001b[0m\u001b[0mexponent\u001b[0m\u001b[0;34m\u001b[0m\u001b[0;34m\u001b[0m\u001b[0m\n\u001b[1;32m    742\u001b[0m         \u001b[0;32melse\u001b[0m\u001b[0;34m:\u001b[0m\u001b[0;34m\u001b[0m\u001b[0;34m\u001b[0m\u001b[0m\n\u001b[0;32m--> 743\u001b[0;31m             \u001b[0;32mreturn\u001b[0m \u001b[0mExpressionCall\u001b[0m\u001b[0;34m(\u001b[0m\u001b[0mself\u001b[0m\u001b[0;34m,\u001b[0m \u001b[0mfn\u001b[0m\u001b[0;34m,\u001b[0m \u001b[0;34m[\u001b[0m\u001b[0mself\u001b[0m\u001b[0;34m(\u001b[0m\u001b[0ma\u001b[0m\u001b[0;34m)\u001b[0m \u001b[0;32mfor\u001b[0m \u001b[0ma\u001b[0m \u001b[0;32min\u001b[0m \u001b[0margs\u001b[0m\u001b[0;34m]\u001b[0m\u001b[0;34m)\u001b[0m\u001b[0;34m\u001b[0m\u001b[0;34m\u001b[0m\u001b[0m\n\u001b[0m\u001b[1;32m    744\u001b[0m \u001b[0;34m\u001b[0m\u001b[0m\n\u001b[1;32m    745\u001b[0m     \u001b[0;32mdef\u001b[0m \u001b[0mchoice\u001b[0m\u001b[0;34m(\u001b[0m\u001b[0mself\u001b[0m\u001b[0;34m,\u001b[0m \u001b[0mcond\u001b[0m\u001b[0;34m,\u001b[0m \u001b[0miftrue\u001b[0m\u001b[0;34m,\u001b[0m \u001b[0miffalse\u001b[0m\u001b[0;34m)\u001b[0m\u001b[0;34m:\u001b[0m\u001b[0;34m\u001b[0m\u001b[0;34m\u001b[0m\u001b[0m\n",
      "\u001b[0;32m/usr3/articles/sagemath_docker_build/sage/local/lib/python3.9/site-packages/sage/ext/fast_callable.pyx\u001b[0m in \u001b[0;36msage.ext.fast_callable.ExpressionTreeBuilder.__call__ (build/cythonized/sage/ext/fast_callable.c:6320)\u001b[0;34m()\u001b[0m\n\u001b[1;32m    615\u001b[0m             \u001b[0;32mreturn\u001b[0m \u001b[0mself\u001b[0m\u001b[0;34m.\u001b[0m\u001b[0mconstant\u001b[0m\u001b[0;34m(\u001b[0m\u001b[0mx\u001b[0m\u001b[0;34m)\u001b[0m\u001b[0;34m\u001b[0m\u001b[0;34m\u001b[0m\u001b[0m\n\u001b[1;32m    616\u001b[0m \u001b[0;34m\u001b[0m\u001b[0m\n\u001b[0;32m--> 617\u001b[0;31m         \u001b[0;32mreturn\u001b[0m \u001b[0mfc\u001b[0m\u001b[0;34m(\u001b[0m\u001b[0mself\u001b[0m\u001b[0;34m)\u001b[0m\u001b[0;34m\u001b[0m\u001b[0;34m\u001b[0m\u001b[0m\n\u001b[0m\u001b[1;32m    618\u001b[0m \u001b[0;34m\u001b[0m\u001b[0m\n\u001b[1;32m    619\u001b[0m     \u001b[0;32mdef\u001b[0m \u001b[0m_clean_var\u001b[0m\u001b[0;34m(\u001b[0m\u001b[0mself\u001b[0m\u001b[0;34m,\u001b[0m \u001b[0mv\u001b[0m\u001b[0;34m)\u001b[0m\u001b[0;34m:\u001b[0m\u001b[0;34m\u001b[0m\u001b[0;34m\u001b[0m\u001b[0m\n",
      "\u001b[0;32m/usr3/articles/sagemath_docker_build/sage/local/lib/python3.9/site-packages/sage/symbolic/expression_conversions.py\u001b[0m in \u001b[0;36m_fast_callable_\u001b[0;34m(self, etb)\u001b[0m\n\u001b[1;32m    122\u001b[0m             \u001b[0;34m[\u001b[0m\u001b[0;34m(\u001b[0m\u001b[0;34m'load_arg'\u001b[0m\u001b[0;34m,\u001b[0m \u001b[0;36m0\u001b[0m\u001b[0;34m)\u001b[0m\u001b[0;34m,\u001b[0m \u001b[0;34m(\u001b[0m\u001b[0;34m'load_arg'\u001b[0m\u001b[0;34m,\u001b[0m \u001b[0;36m1\u001b[0m\u001b[0;34m)\u001b[0m\u001b[0;34m,\u001b[0m \u001b[0;34m'div'\u001b[0m\u001b[0;34m,\u001b[0m \u001b[0;34m'return'\u001b[0m\u001b[0;34m]\u001b[0m\u001b[0;34m\u001b[0m\u001b[0;34m\u001b[0m\u001b[0m\n\u001b[1;32m    123\u001b[0m         \"\"\"\n\u001b[0;32m--> 124\u001b[0;31m         \u001b[0;32mreturn\u001b[0m \u001b[0mfast_callable\u001b[0m\u001b[0;34m(\u001b[0m\u001b[0mself\u001b[0m\u001b[0;34m,\u001b[0m \u001b[0metb\u001b[0m\u001b[0;34m)\u001b[0m\u001b[0;34m\u001b[0m\u001b[0;34m\u001b[0m\u001b[0m\n\u001b[0m\u001b[1;32m    125\u001b[0m \u001b[0;34m\u001b[0m\u001b[0m\n\u001b[1;32m    126\u001b[0m     \u001b[0;32mdef\u001b[0m \u001b[0m_fast_float_\u001b[0m\u001b[0;34m(\u001b[0m\u001b[0mself\u001b[0m\u001b[0;34m,\u001b[0m \u001b[0;34m*\u001b[0m\u001b[0mvars\u001b[0m\u001b[0;34m)\u001b[0m\u001b[0;34m:\u001b[0m\u001b[0;34m\u001b[0m\u001b[0;34m\u001b[0m\u001b[0m\n",
      "\u001b[0;32m/usr3/articles/sagemath_docker_build/sage/local/lib/python3.9/site-packages/sage/symbolic/expression_conversions.py\u001b[0m in \u001b[0;36mfast_callable\u001b[0;34m(ex, etb)\u001b[0m\n\u001b[1;32m   2140\u001b[0m \u001b[0;34m\u001b[0m\u001b[0m\n\u001b[1;32m   2141\u001b[0m     \"\"\"\n\u001b[0;32m-> 2142\u001b[0;31m     \u001b[0;32mreturn\u001b[0m \u001b[0mFastCallableConverter\u001b[0m\u001b[0;34m(\u001b[0m\u001b[0mex\u001b[0m\u001b[0;34m,\u001b[0m \u001b[0metb\u001b[0m\u001b[0;34m)\u001b[0m\u001b[0;34m(\u001b[0m\u001b[0;34m)\u001b[0m\u001b[0;34m\u001b[0m\u001b[0;34m\u001b[0m\u001b[0m\n\u001b[0m\u001b[1;32m   2143\u001b[0m \u001b[0;34m\u001b[0m\u001b[0m\n\u001b[1;32m   2144\u001b[0m \u001b[0;32mclass\u001b[0m \u001b[0mRingConverter\u001b[0m\u001b[0;34m(\u001b[0m\u001b[0mConverter\u001b[0m\u001b[0;34m)\u001b[0m\u001b[0;34m:\u001b[0m\u001b[0;34m\u001b[0m\u001b[0;34m\u001b[0m\u001b[0m\n",
      "\u001b[0;32m/usr3/articles/sagemath_docker_build/sage/local/lib/python3.9/site-packages/sage/symbolic/expression_conversions.py\u001b[0m in \u001b[0;36m__call__\u001b[0;34m(self, ex)\u001b[0m\n\u001b[1;32m    214\u001b[0m             \u001b[0;32mif\u001b[0m \u001b[0mgetattr\u001b[0m\u001b[0;34m(\u001b[0m\u001b[0mself\u001b[0m\u001b[0;34m,\u001b[0m \u001b[0;34m'use_fake_div'\u001b[0m\u001b[0;34m,\u001b[0m \u001b[0;32mFalse\u001b[0m\u001b[0;34m)\u001b[0m \u001b[0;32mand\u001b[0m \u001b[0;34m(\u001b[0m\u001b[0moperator\u001b[0m \u001b[0;32mis\u001b[0m \u001b[0m_operator\u001b[0m\u001b[0;34m.\u001b[0m\u001b[0mmul\u001b[0m \u001b[0;32mor\u001b[0m \u001b[0moperator\u001b[0m \u001b[0;32mis\u001b[0m \u001b[0mmul_vararg\u001b[0m\u001b[0;34m)\u001b[0m\u001b[0;34m:\u001b[0m\u001b[0;34m\u001b[0m\u001b[0;34m\u001b[0m\u001b[0m\n\u001b[1;32m    215\u001b[0m                 \u001b[0mdiv\u001b[0m \u001b[0;34m=\u001b[0m \u001b[0mself\u001b[0m\u001b[0;34m.\u001b[0m\u001b[0mget_fake_div\u001b[0m\u001b[0;34m(\u001b[0m\u001b[0mex\u001b[0m\u001b[0;34m)\u001b[0m\u001b[0;34m\u001b[0m\u001b[0;34m\u001b[0m\u001b[0m\n\u001b[0;32m--> 216\u001b[0;31m                 \u001b[0;32mreturn\u001b[0m \u001b[0mself\u001b[0m\u001b[0;34m.\u001b[0m\u001b[0marithmetic\u001b[0m\u001b[0;34m(\u001b[0m\u001b[0mdiv\u001b[0m\u001b[0;34m,\u001b[0m \u001b[0mdiv\u001b[0m\u001b[0;34m.\u001b[0m\u001b[0moperator\u001b[0m\u001b[0;34m(\u001b[0m\u001b[0;34m)\u001b[0m\u001b[0;34m)\u001b[0m\u001b[0;34m\u001b[0m\u001b[0;34m\u001b[0m\u001b[0m\n\u001b[0m\u001b[1;32m    217\u001b[0m             \u001b[0;32mreturn\u001b[0m \u001b[0mself\u001b[0m\u001b[0;34m.\u001b[0m\u001b[0marithmetic\u001b[0m\u001b[0;34m(\u001b[0m\u001b[0mex\u001b[0m\u001b[0;34m,\u001b[0m \u001b[0moperator\u001b[0m\u001b[0;34m)\u001b[0m\u001b[0;34m\u001b[0m\u001b[0;34m\u001b[0m\u001b[0m\n\u001b[1;32m    218\u001b[0m         \u001b[0;32melif\u001b[0m \u001b[0moperator\u001b[0m \u001b[0;32min\u001b[0m \u001b[0mrelation_operators\u001b[0m\u001b[0;34m:\u001b[0m\u001b[0;34m\u001b[0m\u001b[0;34m\u001b[0m\u001b[0m\n",
      "\u001b[0;32m/usr3/articles/sagemath_docker_build/sage/local/lib/python3.9/site-packages/sage/symbolic/expression_conversions.py\u001b[0m in \u001b[0;36marithmetic\u001b[0;34m(self, ex, operator)\u001b[0m\n\u001b[1;32m   2068\u001b[0m         \u001b[0;32melif\u001b[0m \u001b[0moperator\u001b[0m \u001b[0;34m==\u001b[0m \u001b[0mmul_vararg\u001b[0m\u001b[0;34m:\u001b[0m\u001b[0;34m\u001b[0m\u001b[0;34m\u001b[0m\u001b[0m\n\u001b[1;32m   2069\u001b[0m             \u001b[0moperator\u001b[0m \u001b[0;34m=\u001b[0m \u001b[0m_operator\u001b[0m\u001b[0;34m.\u001b[0m\u001b[0mmul\u001b[0m\u001b[0;34m\u001b[0m\u001b[0;34m\u001b[0m\u001b[0m\n\u001b[0;32m-> 2070\u001b[0;31m         \u001b[0;32mreturn\u001b[0m \u001b[0mreduce\u001b[0m\u001b[0;34m(\u001b[0m\u001b[0;32mlambda\u001b[0m \u001b[0mx\u001b[0m\u001b[0;34m,\u001b[0m\u001b[0my\u001b[0m\u001b[0;34m:\u001b[0m \u001b[0mself\u001b[0m\u001b[0;34m.\u001b[0m\u001b[0metb\u001b[0m\u001b[0;34m.\u001b[0m\u001b[0mcall\u001b[0m\u001b[0;34m(\u001b[0m\u001b[0moperator\u001b[0m\u001b[0;34m,\u001b[0m \u001b[0mx\u001b[0m\u001b[0;34m,\u001b[0m\u001b[0my\u001b[0m\u001b[0;34m)\u001b[0m\u001b[0;34m,\u001b[0m \u001b[0moperands\u001b[0m\u001b[0;34m)\u001b[0m\u001b[0;34m\u001b[0m\u001b[0;34m\u001b[0m\u001b[0m\n\u001b[0m\u001b[1;32m   2071\u001b[0m \u001b[0;34m\u001b[0m\u001b[0m\n\u001b[1;32m   2072\u001b[0m     \u001b[0;32mdef\u001b[0m \u001b[0msymbol\u001b[0m\u001b[0;34m(\u001b[0m\u001b[0mself\u001b[0m\u001b[0;34m,\u001b[0m \u001b[0mex\u001b[0m\u001b[0;34m)\u001b[0m\u001b[0;34m:\u001b[0m\u001b[0;34m\u001b[0m\u001b[0;34m\u001b[0m\u001b[0m\n",
      "\u001b[0;32m/usr3/articles/sagemath_docker_build/sage/local/lib/python3.9/site-packages/sage/symbolic/expression_conversions.py\u001b[0m in \u001b[0;36m<lambda>\u001b[0;34m(x, y)\u001b[0m\n\u001b[1;32m   2068\u001b[0m         \u001b[0;32melif\u001b[0m \u001b[0moperator\u001b[0m \u001b[0;34m==\u001b[0m \u001b[0mmul_vararg\u001b[0m\u001b[0;34m:\u001b[0m\u001b[0;34m\u001b[0m\u001b[0;34m\u001b[0m\u001b[0m\n\u001b[1;32m   2069\u001b[0m             \u001b[0moperator\u001b[0m \u001b[0;34m=\u001b[0m \u001b[0m_operator\u001b[0m\u001b[0;34m.\u001b[0m\u001b[0mmul\u001b[0m\u001b[0;34m\u001b[0m\u001b[0;34m\u001b[0m\u001b[0m\n\u001b[0;32m-> 2070\u001b[0;31m         \u001b[0;32mreturn\u001b[0m \u001b[0mreduce\u001b[0m\u001b[0;34m(\u001b[0m\u001b[0;32mlambda\u001b[0m \u001b[0mx\u001b[0m\u001b[0;34m,\u001b[0m\u001b[0my\u001b[0m\u001b[0;34m:\u001b[0m \u001b[0mself\u001b[0m\u001b[0;34m.\u001b[0m\u001b[0metb\u001b[0m\u001b[0;34m.\u001b[0m\u001b[0mcall\u001b[0m\u001b[0;34m(\u001b[0m\u001b[0moperator\u001b[0m\u001b[0;34m,\u001b[0m \u001b[0mx\u001b[0m\u001b[0;34m,\u001b[0m\u001b[0my\u001b[0m\u001b[0;34m)\u001b[0m\u001b[0;34m,\u001b[0m \u001b[0moperands\u001b[0m\u001b[0;34m)\u001b[0m\u001b[0;34m\u001b[0m\u001b[0;34m\u001b[0m\u001b[0m\n\u001b[0m\u001b[1;32m   2071\u001b[0m \u001b[0;34m\u001b[0m\u001b[0m\n\u001b[1;32m   2072\u001b[0m     \u001b[0;32mdef\u001b[0m \u001b[0msymbol\u001b[0m\u001b[0;34m(\u001b[0m\u001b[0mself\u001b[0m\u001b[0;34m,\u001b[0m \u001b[0mex\u001b[0m\u001b[0;34m)\u001b[0m\u001b[0;34m:\u001b[0m\u001b[0;34m\u001b[0m\u001b[0;34m\u001b[0m\u001b[0m\n",
      "\u001b[0;32m/usr3/articles/sagemath_docker_build/sage/local/lib/python3.9/site-packages/sage/ext/fast_callable.pyx\u001b[0m in \u001b[0;36msage.ext.fast_callable.ExpressionTreeBuilder.call (build/cythonized/sage/ext/fast_callable.c:7204)\u001b[0;34m()\u001b[0m\n\u001b[1;32m    741\u001b[0m             \u001b[0;32mreturn\u001b[0m \u001b[0mself\u001b[0m\u001b[0;34m(\u001b[0m\u001b[0mbase\u001b[0m\u001b[0;34m)\u001b[0m\u001b[0;34m**\u001b[0m\u001b[0mexponent\u001b[0m\u001b[0;34m\u001b[0m\u001b[0;34m\u001b[0m\u001b[0m\n\u001b[1;32m    742\u001b[0m         \u001b[0;32melse\u001b[0m\u001b[0;34m:\u001b[0m\u001b[0;34m\u001b[0m\u001b[0;34m\u001b[0m\u001b[0m\n\u001b[0;32m--> 743\u001b[0;31m             \u001b[0;32mreturn\u001b[0m \u001b[0mExpressionCall\u001b[0m\u001b[0;34m(\u001b[0m\u001b[0mself\u001b[0m\u001b[0;34m,\u001b[0m \u001b[0mfn\u001b[0m\u001b[0;34m,\u001b[0m \u001b[0;34m[\u001b[0m\u001b[0mself\u001b[0m\u001b[0;34m(\u001b[0m\u001b[0ma\u001b[0m\u001b[0;34m)\u001b[0m \u001b[0;32mfor\u001b[0m \u001b[0ma\u001b[0m \u001b[0;32min\u001b[0m \u001b[0margs\u001b[0m\u001b[0;34m]\u001b[0m\u001b[0;34m)\u001b[0m\u001b[0;34m\u001b[0m\u001b[0;34m\u001b[0m\u001b[0m\n\u001b[0m\u001b[1;32m    744\u001b[0m \u001b[0;34m\u001b[0m\u001b[0m\n\u001b[1;32m    745\u001b[0m     \u001b[0;32mdef\u001b[0m \u001b[0mchoice\u001b[0m\u001b[0;34m(\u001b[0m\u001b[0mself\u001b[0m\u001b[0;34m,\u001b[0m \u001b[0mcond\u001b[0m\u001b[0;34m,\u001b[0m \u001b[0miftrue\u001b[0m\u001b[0;34m,\u001b[0m \u001b[0miffalse\u001b[0m\u001b[0;34m)\u001b[0m\u001b[0;34m:\u001b[0m\u001b[0;34m\u001b[0m\u001b[0;34m\u001b[0m\u001b[0m\n",
      "\u001b[0;32m/usr3/articles/sagemath_docker_build/sage/local/lib/python3.9/site-packages/sage/ext/fast_callable.pyx\u001b[0m in \u001b[0;36msage.ext.fast_callable.ExpressionTreeBuilder.__call__ (build/cythonized/sage/ext/fast_callable.c:6320)\u001b[0;34m()\u001b[0m\n\u001b[1;32m    615\u001b[0m             \u001b[0;32mreturn\u001b[0m \u001b[0mself\u001b[0m\u001b[0;34m.\u001b[0m\u001b[0mconstant\u001b[0m\u001b[0;34m(\u001b[0m\u001b[0mx\u001b[0m\u001b[0;34m)\u001b[0m\u001b[0;34m\u001b[0m\u001b[0;34m\u001b[0m\u001b[0m\n\u001b[1;32m    616\u001b[0m \u001b[0;34m\u001b[0m\u001b[0m\n\u001b[0;32m--> 617\u001b[0;31m         \u001b[0;32mreturn\u001b[0m \u001b[0mfc\u001b[0m\u001b[0;34m(\u001b[0m\u001b[0mself\u001b[0m\u001b[0;34m)\u001b[0m\u001b[0;34m\u001b[0m\u001b[0;34m\u001b[0m\u001b[0m\n\u001b[0m\u001b[1;32m    618\u001b[0m \u001b[0;34m\u001b[0m\u001b[0m\n\u001b[1;32m    619\u001b[0m     \u001b[0;32mdef\u001b[0m \u001b[0m_clean_var\u001b[0m\u001b[0;34m(\u001b[0m\u001b[0mself\u001b[0m\u001b[0;34m,\u001b[0m \u001b[0mv\u001b[0m\u001b[0;34m)\u001b[0m\u001b[0;34m:\u001b[0m\u001b[0;34m\u001b[0m\u001b[0;34m\u001b[0m\u001b[0m\n",
      "\u001b[0;32m/usr3/articles/sagemath_docker_build/sage/local/lib/python3.9/site-packages/sage/symbolic/expression.pyx\u001b[0m in \u001b[0;36msage.symbolic.expression.Expression._fast_callable_ (build/cythonized/sage/symbolic/expression.cpp:65349)\u001b[0;34m()\u001b[0m\n\u001b[1;32m  12285\u001b[0m         \"\"\"\n\u001b[1;32m  12286\u001b[0m         \u001b[0;32mfrom\u001b[0m \u001b[0msage\u001b[0m\u001b[0;34m.\u001b[0m\u001b[0msymbolic\u001b[0m\u001b[0;34m.\u001b[0m\u001b[0mexpression_conversions\u001b[0m \u001b[0;32mimport\u001b[0m \u001b[0mfast_callable\u001b[0m\u001b[0;34m\u001b[0m\u001b[0;34m\u001b[0m\u001b[0m\n\u001b[0;32m> 12287\u001b[0;31m         \u001b[0;32mreturn\u001b[0m \u001b[0mfast_callable\u001b[0m\u001b[0;34m(\u001b[0m\u001b[0mself\u001b[0m\u001b[0;34m,\u001b[0m \u001b[0metb\u001b[0m\u001b[0;34m)\u001b[0m\u001b[0;34m\u001b[0m\u001b[0;34m\u001b[0m\u001b[0m\n\u001b[0m\u001b[1;32m  12288\u001b[0m \u001b[0;34m\u001b[0m\u001b[0m\n\u001b[1;32m  12289\u001b[0m     \u001b[0;32mdef\u001b[0m \u001b[0mshow\u001b[0m\u001b[0;34m(\u001b[0m\u001b[0mself\u001b[0m\u001b[0;34m)\u001b[0m\u001b[0;34m:\u001b[0m\u001b[0;34m\u001b[0m\u001b[0;34m\u001b[0m\u001b[0m\n",
      "\u001b[0;32m/usr3/articles/sagemath_docker_build/sage/local/lib/python3.9/site-packages/sage/symbolic/expression_conversions.py\u001b[0m in \u001b[0;36mfast_callable\u001b[0;34m(ex, etb)\u001b[0m\n\u001b[1;32m   2140\u001b[0m \u001b[0;34m\u001b[0m\u001b[0m\n\u001b[1;32m   2141\u001b[0m     \"\"\"\n\u001b[0;32m-> 2142\u001b[0;31m     \u001b[0;32mreturn\u001b[0m \u001b[0mFastCallableConverter\u001b[0m\u001b[0;34m(\u001b[0m\u001b[0mex\u001b[0m\u001b[0;34m,\u001b[0m \u001b[0metb\u001b[0m\u001b[0;34m)\u001b[0m\u001b[0;34m(\u001b[0m\u001b[0;34m)\u001b[0m\u001b[0;34m\u001b[0m\u001b[0;34m\u001b[0m\u001b[0m\n\u001b[0m\u001b[1;32m   2143\u001b[0m \u001b[0;34m\u001b[0m\u001b[0m\n\u001b[1;32m   2144\u001b[0m \u001b[0;32mclass\u001b[0m \u001b[0mRingConverter\u001b[0m\u001b[0;34m(\u001b[0m\u001b[0mConverter\u001b[0m\u001b[0;34m)\u001b[0m\u001b[0;34m:\u001b[0m\u001b[0;34m\u001b[0m\u001b[0;34m\u001b[0m\u001b[0m\n",
      "\u001b[0;32m/usr3/articles/sagemath_docker_build/sage/local/lib/python3.9/site-packages/sage/symbolic/expression_conversions.py\u001b[0m in \u001b[0;36m__call__\u001b[0;34m(self, ex)\u001b[0m\n\u001b[1;32m    215\u001b[0m                 \u001b[0mdiv\u001b[0m \u001b[0;34m=\u001b[0m \u001b[0mself\u001b[0m\u001b[0;34m.\u001b[0m\u001b[0mget_fake_div\u001b[0m\u001b[0;34m(\u001b[0m\u001b[0mex\u001b[0m\u001b[0;34m)\u001b[0m\u001b[0;34m\u001b[0m\u001b[0;34m\u001b[0m\u001b[0m\n\u001b[1;32m    216\u001b[0m                 \u001b[0;32mreturn\u001b[0m \u001b[0mself\u001b[0m\u001b[0;34m.\u001b[0m\u001b[0marithmetic\u001b[0m\u001b[0;34m(\u001b[0m\u001b[0mdiv\u001b[0m\u001b[0;34m,\u001b[0m \u001b[0mdiv\u001b[0m\u001b[0;34m.\u001b[0m\u001b[0moperator\u001b[0m\u001b[0;34m(\u001b[0m\u001b[0;34m)\u001b[0m\u001b[0;34m)\u001b[0m\u001b[0;34m\u001b[0m\u001b[0;34m\u001b[0m\u001b[0m\n\u001b[0;32m--> 217\u001b[0;31m             \u001b[0;32mreturn\u001b[0m \u001b[0mself\u001b[0m\u001b[0;34m.\u001b[0m\u001b[0marithmetic\u001b[0m\u001b[0;34m(\u001b[0m\u001b[0mex\u001b[0m\u001b[0;34m,\u001b[0m \u001b[0moperator\u001b[0m\u001b[0;34m)\u001b[0m\u001b[0;34m\u001b[0m\u001b[0;34m\u001b[0m\u001b[0m\n\u001b[0m\u001b[1;32m    218\u001b[0m         \u001b[0;32melif\u001b[0m \u001b[0moperator\u001b[0m \u001b[0;32min\u001b[0m \u001b[0mrelation_operators\u001b[0m\u001b[0;34m:\u001b[0m\u001b[0;34m\u001b[0m\u001b[0;34m\u001b[0m\u001b[0m\n\u001b[1;32m    219\u001b[0m             \u001b[0;32mreturn\u001b[0m \u001b[0mself\u001b[0m\u001b[0;34m.\u001b[0m\u001b[0mrelation\u001b[0m\u001b[0;34m(\u001b[0m\u001b[0mex\u001b[0m\u001b[0;34m,\u001b[0m \u001b[0moperator\u001b[0m\u001b[0;34m)\u001b[0m\u001b[0;34m\u001b[0m\u001b[0;34m\u001b[0m\u001b[0m\n",
      "\u001b[0;32m/usr3/articles/sagemath_docker_build/sage/local/lib/python3.9/site-packages/sage/symbolic/expression_conversions.py\u001b[0m in \u001b[0;36marithmetic\u001b[0;34m(self, ex, operator)\u001b[0m\n\u001b[1;32m   2068\u001b[0m         \u001b[0;32melif\u001b[0m \u001b[0moperator\u001b[0m \u001b[0;34m==\u001b[0m \u001b[0mmul_vararg\u001b[0m\u001b[0;34m:\u001b[0m\u001b[0;34m\u001b[0m\u001b[0;34m\u001b[0m\u001b[0m\n\u001b[1;32m   2069\u001b[0m             \u001b[0moperator\u001b[0m \u001b[0;34m=\u001b[0m \u001b[0m_operator\u001b[0m\u001b[0;34m.\u001b[0m\u001b[0mmul\u001b[0m\u001b[0;34m\u001b[0m\u001b[0;34m\u001b[0m\u001b[0m\n\u001b[0;32m-> 2070\u001b[0;31m         \u001b[0;32mreturn\u001b[0m \u001b[0mreduce\u001b[0m\u001b[0;34m(\u001b[0m\u001b[0;32mlambda\u001b[0m \u001b[0mx\u001b[0m\u001b[0;34m,\u001b[0m\u001b[0my\u001b[0m\u001b[0;34m:\u001b[0m \u001b[0mself\u001b[0m\u001b[0;34m.\u001b[0m\u001b[0metb\u001b[0m\u001b[0;34m.\u001b[0m\u001b[0mcall\u001b[0m\u001b[0;34m(\u001b[0m\u001b[0moperator\u001b[0m\u001b[0;34m,\u001b[0m \u001b[0mx\u001b[0m\u001b[0;34m,\u001b[0m\u001b[0my\u001b[0m\u001b[0;34m)\u001b[0m\u001b[0;34m,\u001b[0m \u001b[0moperands\u001b[0m\u001b[0;34m)\u001b[0m\u001b[0;34m\u001b[0m\u001b[0;34m\u001b[0m\u001b[0m\n\u001b[0m\u001b[1;32m   2071\u001b[0m \u001b[0;34m\u001b[0m\u001b[0m\n\u001b[1;32m   2072\u001b[0m     \u001b[0;32mdef\u001b[0m \u001b[0msymbol\u001b[0m\u001b[0;34m(\u001b[0m\u001b[0mself\u001b[0m\u001b[0;34m,\u001b[0m \u001b[0mex\u001b[0m\u001b[0;34m)\u001b[0m\u001b[0;34m:\u001b[0m\u001b[0;34m\u001b[0m\u001b[0;34m\u001b[0m\u001b[0m\n",
      "\u001b[0;32m/usr3/articles/sagemath_docker_build/sage/local/lib/python3.9/site-packages/sage/symbolic/expression_conversions.py\u001b[0m in \u001b[0;36m<lambda>\u001b[0;34m(x, y)\u001b[0m\n\u001b[1;32m   2068\u001b[0m         \u001b[0;32melif\u001b[0m \u001b[0moperator\u001b[0m \u001b[0;34m==\u001b[0m \u001b[0mmul_vararg\u001b[0m\u001b[0;34m:\u001b[0m\u001b[0;34m\u001b[0m\u001b[0;34m\u001b[0m\u001b[0m\n\u001b[1;32m   2069\u001b[0m             \u001b[0moperator\u001b[0m \u001b[0;34m=\u001b[0m \u001b[0m_operator\u001b[0m\u001b[0;34m.\u001b[0m\u001b[0mmul\u001b[0m\u001b[0;34m\u001b[0m\u001b[0;34m\u001b[0m\u001b[0m\n\u001b[0;32m-> 2070\u001b[0;31m         \u001b[0;32mreturn\u001b[0m \u001b[0mreduce\u001b[0m\u001b[0;34m(\u001b[0m\u001b[0;32mlambda\u001b[0m \u001b[0mx\u001b[0m\u001b[0;34m,\u001b[0m\u001b[0my\u001b[0m\u001b[0;34m:\u001b[0m \u001b[0mself\u001b[0m\u001b[0;34m.\u001b[0m\u001b[0metb\u001b[0m\u001b[0;34m.\u001b[0m\u001b[0mcall\u001b[0m\u001b[0;34m(\u001b[0m\u001b[0moperator\u001b[0m\u001b[0;34m,\u001b[0m \u001b[0mx\u001b[0m\u001b[0;34m,\u001b[0m\u001b[0my\u001b[0m\u001b[0;34m)\u001b[0m\u001b[0;34m,\u001b[0m \u001b[0moperands\u001b[0m\u001b[0;34m)\u001b[0m\u001b[0;34m\u001b[0m\u001b[0;34m\u001b[0m\u001b[0m\n\u001b[0m\u001b[1;32m   2071\u001b[0m \u001b[0;34m\u001b[0m\u001b[0m\n\u001b[1;32m   2072\u001b[0m     \u001b[0;32mdef\u001b[0m \u001b[0msymbol\u001b[0m\u001b[0;34m(\u001b[0m\u001b[0mself\u001b[0m\u001b[0;34m,\u001b[0m \u001b[0mex\u001b[0m\u001b[0;34m)\u001b[0m\u001b[0;34m:\u001b[0m\u001b[0;34m\u001b[0m\u001b[0;34m\u001b[0m\u001b[0m\n",
      "\u001b[0;32m/usr3/articles/sagemath_docker_build/sage/local/lib/python3.9/site-packages/sage/ext/fast_callable.pyx\u001b[0m in \u001b[0;36msage.ext.fast_callable.ExpressionTreeBuilder.call (build/cythonized/sage/ext/fast_callable.c:7204)\u001b[0;34m()\u001b[0m\n\u001b[1;32m    741\u001b[0m             \u001b[0;32mreturn\u001b[0m \u001b[0mself\u001b[0m\u001b[0;34m(\u001b[0m\u001b[0mbase\u001b[0m\u001b[0;34m)\u001b[0m\u001b[0;34m**\u001b[0m\u001b[0mexponent\u001b[0m\u001b[0;34m\u001b[0m\u001b[0;34m\u001b[0m\u001b[0m\n\u001b[1;32m    742\u001b[0m         \u001b[0;32melse\u001b[0m\u001b[0;34m:\u001b[0m\u001b[0;34m\u001b[0m\u001b[0;34m\u001b[0m\u001b[0m\n\u001b[0;32m--> 743\u001b[0;31m             \u001b[0;32mreturn\u001b[0m \u001b[0mExpressionCall\u001b[0m\u001b[0;34m(\u001b[0m\u001b[0mself\u001b[0m\u001b[0;34m,\u001b[0m \u001b[0mfn\u001b[0m\u001b[0;34m,\u001b[0m \u001b[0;34m[\u001b[0m\u001b[0mself\u001b[0m\u001b[0;34m(\u001b[0m\u001b[0ma\u001b[0m\u001b[0;34m)\u001b[0m \u001b[0;32mfor\u001b[0m \u001b[0ma\u001b[0m \u001b[0;32min\u001b[0m \u001b[0margs\u001b[0m\u001b[0;34m]\u001b[0m\u001b[0;34m)\u001b[0m\u001b[0;34m\u001b[0m\u001b[0;34m\u001b[0m\u001b[0m\n\u001b[0m\u001b[1;32m    744\u001b[0m \u001b[0;34m\u001b[0m\u001b[0m\n\u001b[1;32m    745\u001b[0m     \u001b[0;32mdef\u001b[0m \u001b[0mchoice\u001b[0m\u001b[0;34m(\u001b[0m\u001b[0mself\u001b[0m\u001b[0;34m,\u001b[0m \u001b[0mcond\u001b[0m\u001b[0;34m,\u001b[0m \u001b[0miftrue\u001b[0m\u001b[0;34m,\u001b[0m \u001b[0miffalse\u001b[0m\u001b[0;34m)\u001b[0m\u001b[0;34m:\u001b[0m\u001b[0;34m\u001b[0m\u001b[0;34m\u001b[0m\u001b[0m\n",
      "\u001b[0;32m/usr3/articles/sagemath_docker_build/sage/local/lib/python3.9/site-packages/sage/ext/fast_callable.pyx\u001b[0m in \u001b[0;36msage.ext.fast_callable.ExpressionTreeBuilder.__call__ (build/cythonized/sage/ext/fast_callable.c:6320)\u001b[0;34m()\u001b[0m\n\u001b[1;32m    615\u001b[0m             \u001b[0;32mreturn\u001b[0m \u001b[0mself\u001b[0m\u001b[0;34m.\u001b[0m\u001b[0mconstant\u001b[0m\u001b[0;34m(\u001b[0m\u001b[0mx\u001b[0m\u001b[0;34m)\u001b[0m\u001b[0;34m\u001b[0m\u001b[0;34m\u001b[0m\u001b[0m\n\u001b[1;32m    616\u001b[0m \u001b[0;34m\u001b[0m\u001b[0m\n\u001b[0;32m--> 617\u001b[0;31m         \u001b[0;32mreturn\u001b[0m \u001b[0mfc\u001b[0m\u001b[0;34m(\u001b[0m\u001b[0mself\u001b[0m\u001b[0;34m)\u001b[0m\u001b[0;34m\u001b[0m\u001b[0;34m\u001b[0m\u001b[0m\n\u001b[0m\u001b[1;32m    618\u001b[0m \u001b[0;34m\u001b[0m\u001b[0m\n\u001b[1;32m    619\u001b[0m     \u001b[0;32mdef\u001b[0m \u001b[0m_clean_var\u001b[0m\u001b[0;34m(\u001b[0m\u001b[0mself\u001b[0m\u001b[0;34m,\u001b[0m \u001b[0mv\u001b[0m\u001b[0;34m)\u001b[0m\u001b[0;34m:\u001b[0m\u001b[0;34m\u001b[0m\u001b[0;34m\u001b[0m\u001b[0m\n",
      "\u001b[0;32m/usr3/articles/sagemath_docker_build/sage/local/lib/python3.9/site-packages/sage/symbolic/expression.pyx\u001b[0m in \u001b[0;36msage.symbolic.expression.Expression._fast_callable_ (build/cythonized/sage/symbolic/expression.cpp:65349)\u001b[0;34m()\u001b[0m\n\u001b[1;32m  12285\u001b[0m         \"\"\"\n\u001b[1;32m  12286\u001b[0m         \u001b[0;32mfrom\u001b[0m \u001b[0msage\u001b[0m\u001b[0;34m.\u001b[0m\u001b[0msymbolic\u001b[0m\u001b[0;34m.\u001b[0m\u001b[0mexpression_conversions\u001b[0m \u001b[0;32mimport\u001b[0m \u001b[0mfast_callable\u001b[0m\u001b[0;34m\u001b[0m\u001b[0;34m\u001b[0m\u001b[0m\n\u001b[0;32m> 12287\u001b[0;31m         \u001b[0;32mreturn\u001b[0m \u001b[0mfast_callable\u001b[0m\u001b[0;34m(\u001b[0m\u001b[0mself\u001b[0m\u001b[0;34m,\u001b[0m \u001b[0metb\u001b[0m\u001b[0;34m)\u001b[0m\u001b[0;34m\u001b[0m\u001b[0;34m\u001b[0m\u001b[0m\n\u001b[0m\u001b[1;32m  12288\u001b[0m \u001b[0;34m\u001b[0m\u001b[0m\n\u001b[1;32m  12289\u001b[0m     \u001b[0;32mdef\u001b[0m \u001b[0mshow\u001b[0m\u001b[0;34m(\u001b[0m\u001b[0mself\u001b[0m\u001b[0;34m)\u001b[0m\u001b[0;34m:\u001b[0m\u001b[0;34m\u001b[0m\u001b[0;34m\u001b[0m\u001b[0m\n",
      "\u001b[0;32m/usr3/articles/sagemath_docker_build/sage/local/lib/python3.9/site-packages/sage/symbolic/expression_conversions.py\u001b[0m in \u001b[0;36mfast_callable\u001b[0;34m(ex, etb)\u001b[0m\n\u001b[1;32m   2140\u001b[0m \u001b[0;34m\u001b[0m\u001b[0m\n\u001b[1;32m   2141\u001b[0m     \"\"\"\n\u001b[0;32m-> 2142\u001b[0;31m     \u001b[0;32mreturn\u001b[0m \u001b[0mFastCallableConverter\u001b[0m\u001b[0;34m(\u001b[0m\u001b[0mex\u001b[0m\u001b[0;34m,\u001b[0m \u001b[0metb\u001b[0m\u001b[0;34m)\u001b[0m\u001b[0;34m(\u001b[0m\u001b[0;34m)\u001b[0m\u001b[0;34m\u001b[0m\u001b[0;34m\u001b[0m\u001b[0m\n\u001b[0m\u001b[1;32m   2143\u001b[0m \u001b[0;34m\u001b[0m\u001b[0m\n\u001b[1;32m   2144\u001b[0m \u001b[0;32mclass\u001b[0m \u001b[0mRingConverter\u001b[0m\u001b[0;34m(\u001b[0m\u001b[0mConverter\u001b[0m\u001b[0;34m)\u001b[0m\u001b[0;34m:\u001b[0m\u001b[0;34m\u001b[0m\u001b[0;34m\u001b[0m\u001b[0m\n",
      "\u001b[0;32m/usr3/articles/sagemath_docker_build/sage/local/lib/python3.9/site-packages/sage/symbolic/expression_conversions.py\u001b[0m in \u001b[0;36m__call__\u001b[0;34m(self, ex)\u001b[0m\n\u001b[1;32m    214\u001b[0m             \u001b[0;32mif\u001b[0m \u001b[0mgetattr\u001b[0m\u001b[0;34m(\u001b[0m\u001b[0mself\u001b[0m\u001b[0;34m,\u001b[0m \u001b[0;34m'use_fake_div'\u001b[0m\u001b[0;34m,\u001b[0m \u001b[0;32mFalse\u001b[0m\u001b[0;34m)\u001b[0m \u001b[0;32mand\u001b[0m \u001b[0;34m(\u001b[0m\u001b[0moperator\u001b[0m \u001b[0;32mis\u001b[0m \u001b[0m_operator\u001b[0m\u001b[0;34m.\u001b[0m\u001b[0mmul\u001b[0m \u001b[0;32mor\u001b[0m \u001b[0moperator\u001b[0m \u001b[0;32mis\u001b[0m \u001b[0mmul_vararg\u001b[0m\u001b[0;34m)\u001b[0m\u001b[0;34m:\u001b[0m\u001b[0;34m\u001b[0m\u001b[0;34m\u001b[0m\u001b[0m\n\u001b[1;32m    215\u001b[0m                 \u001b[0mdiv\u001b[0m \u001b[0;34m=\u001b[0m \u001b[0mself\u001b[0m\u001b[0;34m.\u001b[0m\u001b[0mget_fake_div\u001b[0m\u001b[0;34m(\u001b[0m\u001b[0mex\u001b[0m\u001b[0;34m)\u001b[0m\u001b[0;34m\u001b[0m\u001b[0;34m\u001b[0m\u001b[0m\n\u001b[0;32m--> 216\u001b[0;31m                 \u001b[0;32mreturn\u001b[0m \u001b[0mself\u001b[0m\u001b[0;34m.\u001b[0m\u001b[0marithmetic\u001b[0m\u001b[0;34m(\u001b[0m\u001b[0mdiv\u001b[0m\u001b[0;34m,\u001b[0m \u001b[0mdiv\u001b[0m\u001b[0;34m.\u001b[0m\u001b[0moperator\u001b[0m\u001b[0;34m(\u001b[0m\u001b[0;34m)\u001b[0m\u001b[0;34m)\u001b[0m\u001b[0;34m\u001b[0m\u001b[0;34m\u001b[0m\u001b[0m\n\u001b[0m\u001b[1;32m    217\u001b[0m             \u001b[0;32mreturn\u001b[0m \u001b[0mself\u001b[0m\u001b[0;34m.\u001b[0m\u001b[0marithmetic\u001b[0m\u001b[0;34m(\u001b[0m\u001b[0mex\u001b[0m\u001b[0;34m,\u001b[0m \u001b[0moperator\u001b[0m\u001b[0;34m)\u001b[0m\u001b[0;34m\u001b[0m\u001b[0;34m\u001b[0m\u001b[0m\n\u001b[1;32m    218\u001b[0m         \u001b[0;32melif\u001b[0m \u001b[0moperator\u001b[0m \u001b[0;32min\u001b[0m \u001b[0mrelation_operators\u001b[0m\u001b[0;34m:\u001b[0m\u001b[0;34m\u001b[0m\u001b[0;34m\u001b[0m\u001b[0m\n",
      "\u001b[0;32m/usr3/articles/sagemath_docker_build/sage/local/lib/python3.9/site-packages/sage/symbolic/expression_conversions.py\u001b[0m in \u001b[0;36marithmetic\u001b[0;34m(self, ex, operator)\u001b[0m\n\u001b[1;32m   2068\u001b[0m         \u001b[0;32melif\u001b[0m \u001b[0moperator\u001b[0m \u001b[0;34m==\u001b[0m \u001b[0mmul_vararg\u001b[0m\u001b[0;34m:\u001b[0m\u001b[0;34m\u001b[0m\u001b[0;34m\u001b[0m\u001b[0m\n\u001b[1;32m   2069\u001b[0m             \u001b[0moperator\u001b[0m \u001b[0;34m=\u001b[0m \u001b[0m_operator\u001b[0m\u001b[0;34m.\u001b[0m\u001b[0mmul\u001b[0m\u001b[0;34m\u001b[0m\u001b[0;34m\u001b[0m\u001b[0m\n\u001b[0;32m-> 2070\u001b[0;31m         \u001b[0;32mreturn\u001b[0m \u001b[0mreduce\u001b[0m\u001b[0;34m(\u001b[0m\u001b[0;32mlambda\u001b[0m \u001b[0mx\u001b[0m\u001b[0;34m,\u001b[0m\u001b[0my\u001b[0m\u001b[0;34m:\u001b[0m \u001b[0mself\u001b[0m\u001b[0;34m.\u001b[0m\u001b[0metb\u001b[0m\u001b[0;34m.\u001b[0m\u001b[0mcall\u001b[0m\u001b[0;34m(\u001b[0m\u001b[0moperator\u001b[0m\u001b[0;34m,\u001b[0m \u001b[0mx\u001b[0m\u001b[0;34m,\u001b[0m\u001b[0my\u001b[0m\u001b[0;34m)\u001b[0m\u001b[0;34m,\u001b[0m \u001b[0moperands\u001b[0m\u001b[0;34m)\u001b[0m\u001b[0;34m\u001b[0m\u001b[0;34m\u001b[0m\u001b[0m\n\u001b[0m\u001b[1;32m   2071\u001b[0m \u001b[0;34m\u001b[0m\u001b[0m\n\u001b[1;32m   2072\u001b[0m     \u001b[0;32mdef\u001b[0m \u001b[0msymbol\u001b[0m\u001b[0;34m(\u001b[0m\u001b[0mself\u001b[0m\u001b[0;34m,\u001b[0m \u001b[0mex\u001b[0m\u001b[0;34m)\u001b[0m\u001b[0;34m:\u001b[0m\u001b[0;34m\u001b[0m\u001b[0;34m\u001b[0m\u001b[0m\n",
      "\u001b[0;32m/usr3/articles/sagemath_docker_build/sage/local/lib/python3.9/site-packages/sage/symbolic/expression_conversions.py\u001b[0m in \u001b[0;36m<lambda>\u001b[0;34m(x, y)\u001b[0m\n\u001b[1;32m   2068\u001b[0m         \u001b[0;32melif\u001b[0m \u001b[0moperator\u001b[0m \u001b[0;34m==\u001b[0m \u001b[0mmul_vararg\u001b[0m\u001b[0;34m:\u001b[0m\u001b[0;34m\u001b[0m\u001b[0;34m\u001b[0m\u001b[0m\n\u001b[1;32m   2069\u001b[0m             \u001b[0moperator\u001b[0m \u001b[0;34m=\u001b[0m \u001b[0m_operator\u001b[0m\u001b[0;34m.\u001b[0m\u001b[0mmul\u001b[0m\u001b[0;34m\u001b[0m\u001b[0;34m\u001b[0m\u001b[0m\n\u001b[0;32m-> 2070\u001b[0;31m         \u001b[0;32mreturn\u001b[0m \u001b[0mreduce\u001b[0m\u001b[0;34m(\u001b[0m\u001b[0;32mlambda\u001b[0m \u001b[0mx\u001b[0m\u001b[0;34m,\u001b[0m\u001b[0my\u001b[0m\u001b[0;34m:\u001b[0m \u001b[0mself\u001b[0m\u001b[0;34m.\u001b[0m\u001b[0metb\u001b[0m\u001b[0;34m.\u001b[0m\u001b[0mcall\u001b[0m\u001b[0;34m(\u001b[0m\u001b[0moperator\u001b[0m\u001b[0;34m,\u001b[0m \u001b[0mx\u001b[0m\u001b[0;34m,\u001b[0m\u001b[0my\u001b[0m\u001b[0;34m)\u001b[0m\u001b[0;34m,\u001b[0m \u001b[0moperands\u001b[0m\u001b[0;34m)\u001b[0m\u001b[0;34m\u001b[0m\u001b[0;34m\u001b[0m\u001b[0m\n\u001b[0m\u001b[1;32m   2071\u001b[0m \u001b[0;34m\u001b[0m\u001b[0m\n\u001b[1;32m   2072\u001b[0m     \u001b[0;32mdef\u001b[0m \u001b[0msymbol\u001b[0m\u001b[0;34m(\u001b[0m\u001b[0mself\u001b[0m\u001b[0;34m,\u001b[0m \u001b[0mex\u001b[0m\u001b[0;34m)\u001b[0m\u001b[0;34m:\u001b[0m\u001b[0;34m\u001b[0m\u001b[0;34m\u001b[0m\u001b[0m\n",
      "\u001b[0;32m/usr3/articles/sagemath_docker_build/sage/local/lib/python3.9/site-packages/sage/ext/fast_callable.pyx\u001b[0m in \u001b[0;36msage.ext.fast_callable.ExpressionTreeBuilder.call (build/cythonized/sage/ext/fast_callable.c:7204)\u001b[0;34m()\u001b[0m\n\u001b[1;32m    741\u001b[0m             \u001b[0;32mreturn\u001b[0m \u001b[0mself\u001b[0m\u001b[0;34m(\u001b[0m\u001b[0mbase\u001b[0m\u001b[0;34m)\u001b[0m\u001b[0;34m**\u001b[0m\u001b[0mexponent\u001b[0m\u001b[0;34m\u001b[0m\u001b[0;34m\u001b[0m\u001b[0m\n\u001b[1;32m    742\u001b[0m         \u001b[0;32melse\u001b[0m\u001b[0;34m:\u001b[0m\u001b[0;34m\u001b[0m\u001b[0;34m\u001b[0m\u001b[0m\n\u001b[0;32m--> 743\u001b[0;31m             \u001b[0;32mreturn\u001b[0m \u001b[0mExpressionCall\u001b[0m\u001b[0;34m(\u001b[0m\u001b[0mself\u001b[0m\u001b[0;34m,\u001b[0m \u001b[0mfn\u001b[0m\u001b[0;34m,\u001b[0m \u001b[0;34m[\u001b[0m\u001b[0mself\u001b[0m\u001b[0;34m(\u001b[0m\u001b[0ma\u001b[0m\u001b[0;34m)\u001b[0m \u001b[0;32mfor\u001b[0m \u001b[0ma\u001b[0m \u001b[0;32min\u001b[0m \u001b[0margs\u001b[0m\u001b[0;34m]\u001b[0m\u001b[0;34m)\u001b[0m\u001b[0;34m\u001b[0m\u001b[0;34m\u001b[0m\u001b[0m\n\u001b[0m\u001b[1;32m    744\u001b[0m \u001b[0;34m\u001b[0m\u001b[0m\n\u001b[1;32m    745\u001b[0m     \u001b[0;32mdef\u001b[0m \u001b[0mchoice\u001b[0m\u001b[0;34m(\u001b[0m\u001b[0mself\u001b[0m\u001b[0;34m,\u001b[0m \u001b[0mcond\u001b[0m\u001b[0;34m,\u001b[0m \u001b[0miftrue\u001b[0m\u001b[0;34m,\u001b[0m \u001b[0miffalse\u001b[0m\u001b[0;34m)\u001b[0m\u001b[0;34m:\u001b[0m\u001b[0;34m\u001b[0m\u001b[0;34m\u001b[0m\u001b[0m\n",
      "\u001b[0;32m/usr3/articles/sagemath_docker_build/sage/local/lib/python3.9/site-packages/sage/ext/fast_callable.pyx\u001b[0m in \u001b[0;36msage.ext.fast_callable.ExpressionTreeBuilder.__call__ (build/cythonized/sage/ext/fast_callable.c:6320)\u001b[0;34m()\u001b[0m\n\u001b[1;32m    615\u001b[0m             \u001b[0;32mreturn\u001b[0m \u001b[0mself\u001b[0m\u001b[0;34m.\u001b[0m\u001b[0mconstant\u001b[0m\u001b[0;34m(\u001b[0m\u001b[0mx\u001b[0m\u001b[0;34m)\u001b[0m\u001b[0;34m\u001b[0m\u001b[0;34m\u001b[0m\u001b[0m\n\u001b[1;32m    616\u001b[0m \u001b[0;34m\u001b[0m\u001b[0m\n\u001b[0;32m--> 617\u001b[0;31m         \u001b[0;32mreturn\u001b[0m \u001b[0mfc\u001b[0m\u001b[0;34m(\u001b[0m\u001b[0mself\u001b[0m\u001b[0;34m)\u001b[0m\u001b[0;34m\u001b[0m\u001b[0;34m\u001b[0m\u001b[0m\n\u001b[0m\u001b[1;32m    618\u001b[0m \u001b[0;34m\u001b[0m\u001b[0m\n\u001b[1;32m    619\u001b[0m     \u001b[0;32mdef\u001b[0m \u001b[0m_clean_var\u001b[0m\u001b[0;34m(\u001b[0m\u001b[0mself\u001b[0m\u001b[0;34m,\u001b[0m \u001b[0mv\u001b[0m\u001b[0;34m)\u001b[0m\u001b[0;34m:\u001b[0m\u001b[0;34m\u001b[0m\u001b[0;34m\u001b[0m\u001b[0m\n",
      "\u001b[0;32m/usr3/articles/sagemath_docker_build/sage/local/lib/python3.9/site-packages/sage/symbolic/expression.pyx\u001b[0m in \u001b[0;36msage.symbolic.expression.Expression._fast_callable_ (build/cythonized/sage/symbolic/expression.cpp:65349)\u001b[0;34m()\u001b[0m\n\u001b[1;32m  12285\u001b[0m         \"\"\"\n\u001b[1;32m  12286\u001b[0m         \u001b[0;32mfrom\u001b[0m \u001b[0msage\u001b[0m\u001b[0;34m.\u001b[0m\u001b[0msymbolic\u001b[0m\u001b[0;34m.\u001b[0m\u001b[0mexpression_conversions\u001b[0m \u001b[0;32mimport\u001b[0m \u001b[0mfast_callable\u001b[0m\u001b[0;34m\u001b[0m\u001b[0;34m\u001b[0m\u001b[0m\n\u001b[0;32m> 12287\u001b[0;31m         \u001b[0;32mreturn\u001b[0m \u001b[0mfast_callable\u001b[0m\u001b[0;34m(\u001b[0m\u001b[0mself\u001b[0m\u001b[0;34m,\u001b[0m \u001b[0metb\u001b[0m\u001b[0;34m)\u001b[0m\u001b[0;34m\u001b[0m\u001b[0;34m\u001b[0m\u001b[0m\n\u001b[0m\u001b[1;32m  12288\u001b[0m \u001b[0;34m\u001b[0m\u001b[0m\n\u001b[1;32m  12289\u001b[0m     \u001b[0;32mdef\u001b[0m \u001b[0mshow\u001b[0m\u001b[0;34m(\u001b[0m\u001b[0mself\u001b[0m\u001b[0;34m)\u001b[0m\u001b[0;34m:\u001b[0m\u001b[0;34m\u001b[0m\u001b[0;34m\u001b[0m\u001b[0m\n",
      "\u001b[0;32m/usr3/articles/sagemath_docker_build/sage/local/lib/python3.9/site-packages/sage/symbolic/expression_conversions.py\u001b[0m in \u001b[0;36mfast_callable\u001b[0;34m(ex, etb)\u001b[0m\n\u001b[1;32m   2140\u001b[0m \u001b[0;34m\u001b[0m\u001b[0m\n\u001b[1;32m   2141\u001b[0m     \"\"\"\n\u001b[0;32m-> 2142\u001b[0;31m     \u001b[0;32mreturn\u001b[0m \u001b[0mFastCallableConverter\u001b[0m\u001b[0;34m(\u001b[0m\u001b[0mex\u001b[0m\u001b[0;34m,\u001b[0m \u001b[0metb\u001b[0m\u001b[0;34m)\u001b[0m\u001b[0;34m(\u001b[0m\u001b[0;34m)\u001b[0m\u001b[0;34m\u001b[0m\u001b[0;34m\u001b[0m\u001b[0m\n\u001b[0m\u001b[1;32m   2143\u001b[0m \u001b[0;34m\u001b[0m\u001b[0m\n\u001b[1;32m   2144\u001b[0m \u001b[0;32mclass\u001b[0m \u001b[0mRingConverter\u001b[0m\u001b[0;34m(\u001b[0m\u001b[0mConverter\u001b[0m\u001b[0;34m)\u001b[0m\u001b[0;34m:\u001b[0m\u001b[0;34m\u001b[0m\u001b[0;34m\u001b[0m\u001b[0m\n",
      "\u001b[0;32m/usr3/articles/sagemath_docker_build/sage/local/lib/python3.9/site-packages/sage/symbolic/expression_conversions.py\u001b[0m in \u001b[0;36m__call__\u001b[0;34m(self, ex)\u001b[0m\n\u001b[1;32m    215\u001b[0m                 \u001b[0mdiv\u001b[0m \u001b[0;34m=\u001b[0m \u001b[0mself\u001b[0m\u001b[0;34m.\u001b[0m\u001b[0mget_fake_div\u001b[0m\u001b[0;34m(\u001b[0m\u001b[0mex\u001b[0m\u001b[0;34m)\u001b[0m\u001b[0;34m\u001b[0m\u001b[0;34m\u001b[0m\u001b[0m\n\u001b[1;32m    216\u001b[0m                 \u001b[0;32mreturn\u001b[0m \u001b[0mself\u001b[0m\u001b[0;34m.\u001b[0m\u001b[0marithmetic\u001b[0m\u001b[0;34m(\u001b[0m\u001b[0mdiv\u001b[0m\u001b[0;34m,\u001b[0m \u001b[0mdiv\u001b[0m\u001b[0;34m.\u001b[0m\u001b[0moperator\u001b[0m\u001b[0;34m(\u001b[0m\u001b[0;34m)\u001b[0m\u001b[0;34m)\u001b[0m\u001b[0;34m\u001b[0m\u001b[0;34m\u001b[0m\u001b[0m\n\u001b[0;32m--> 217\u001b[0;31m             \u001b[0;32mreturn\u001b[0m \u001b[0mself\u001b[0m\u001b[0;34m.\u001b[0m\u001b[0marithmetic\u001b[0m\u001b[0;34m(\u001b[0m\u001b[0mex\u001b[0m\u001b[0;34m,\u001b[0m \u001b[0moperator\u001b[0m\u001b[0;34m)\u001b[0m\u001b[0;34m\u001b[0m\u001b[0;34m\u001b[0m\u001b[0m\n\u001b[0m\u001b[1;32m    218\u001b[0m         \u001b[0;32melif\u001b[0m \u001b[0moperator\u001b[0m \u001b[0;32min\u001b[0m \u001b[0mrelation_operators\u001b[0m\u001b[0;34m:\u001b[0m\u001b[0;34m\u001b[0m\u001b[0;34m\u001b[0m\u001b[0m\n\u001b[1;32m    219\u001b[0m             \u001b[0;32mreturn\u001b[0m \u001b[0mself\u001b[0m\u001b[0;34m.\u001b[0m\u001b[0mrelation\u001b[0m\u001b[0;34m(\u001b[0m\u001b[0mex\u001b[0m\u001b[0;34m,\u001b[0m \u001b[0moperator\u001b[0m\u001b[0;34m)\u001b[0m\u001b[0;34m\u001b[0m\u001b[0;34m\u001b[0m\u001b[0m\n",
      "\u001b[0;32m/usr3/articles/sagemath_docker_build/sage/local/lib/python3.9/site-packages/sage/symbolic/expression_conversions.py\u001b[0m in \u001b[0;36marithmetic\u001b[0;34m(self, ex, operator)\u001b[0m\n\u001b[1;32m   2068\u001b[0m         \u001b[0;32melif\u001b[0m \u001b[0moperator\u001b[0m \u001b[0;34m==\u001b[0m \u001b[0mmul_vararg\u001b[0m\u001b[0;34m:\u001b[0m\u001b[0;34m\u001b[0m\u001b[0;34m\u001b[0m\u001b[0m\n\u001b[1;32m   2069\u001b[0m             \u001b[0moperator\u001b[0m \u001b[0;34m=\u001b[0m \u001b[0m_operator\u001b[0m\u001b[0;34m.\u001b[0m\u001b[0mmul\u001b[0m\u001b[0;34m\u001b[0m\u001b[0;34m\u001b[0m\u001b[0m\n\u001b[0;32m-> 2070\u001b[0;31m         \u001b[0;32mreturn\u001b[0m \u001b[0mreduce\u001b[0m\u001b[0;34m(\u001b[0m\u001b[0;32mlambda\u001b[0m \u001b[0mx\u001b[0m\u001b[0;34m,\u001b[0m\u001b[0my\u001b[0m\u001b[0;34m:\u001b[0m \u001b[0mself\u001b[0m\u001b[0;34m.\u001b[0m\u001b[0metb\u001b[0m\u001b[0;34m.\u001b[0m\u001b[0mcall\u001b[0m\u001b[0;34m(\u001b[0m\u001b[0moperator\u001b[0m\u001b[0;34m,\u001b[0m \u001b[0mx\u001b[0m\u001b[0;34m,\u001b[0m\u001b[0my\u001b[0m\u001b[0;34m)\u001b[0m\u001b[0;34m,\u001b[0m \u001b[0moperands\u001b[0m\u001b[0;34m)\u001b[0m\u001b[0;34m\u001b[0m\u001b[0;34m\u001b[0m\u001b[0m\n\u001b[0m\u001b[1;32m   2071\u001b[0m \u001b[0;34m\u001b[0m\u001b[0m\n\u001b[1;32m   2072\u001b[0m     \u001b[0;32mdef\u001b[0m \u001b[0msymbol\u001b[0m\u001b[0;34m(\u001b[0m\u001b[0mself\u001b[0m\u001b[0;34m,\u001b[0m \u001b[0mex\u001b[0m\u001b[0;34m)\u001b[0m\u001b[0;34m:\u001b[0m\u001b[0;34m\u001b[0m\u001b[0;34m\u001b[0m\u001b[0m\n",
      "\u001b[0;32m/usr3/articles/sagemath_docker_build/sage/local/lib/python3.9/site-packages/sage/symbolic/expression_conversions.py\u001b[0m in \u001b[0;36m<lambda>\u001b[0;34m(x, y)\u001b[0m\n\u001b[1;32m   2068\u001b[0m         \u001b[0;32melif\u001b[0m \u001b[0moperator\u001b[0m \u001b[0;34m==\u001b[0m \u001b[0mmul_vararg\u001b[0m\u001b[0;34m:\u001b[0m\u001b[0;34m\u001b[0m\u001b[0;34m\u001b[0m\u001b[0m\n\u001b[1;32m   2069\u001b[0m             \u001b[0moperator\u001b[0m \u001b[0;34m=\u001b[0m \u001b[0m_operator\u001b[0m\u001b[0;34m.\u001b[0m\u001b[0mmul\u001b[0m\u001b[0;34m\u001b[0m\u001b[0;34m\u001b[0m\u001b[0m\n\u001b[0;32m-> 2070\u001b[0;31m         \u001b[0;32mreturn\u001b[0m \u001b[0mreduce\u001b[0m\u001b[0;34m(\u001b[0m\u001b[0;32mlambda\u001b[0m \u001b[0mx\u001b[0m\u001b[0;34m,\u001b[0m\u001b[0my\u001b[0m\u001b[0;34m:\u001b[0m \u001b[0mself\u001b[0m\u001b[0;34m.\u001b[0m\u001b[0metb\u001b[0m\u001b[0;34m.\u001b[0m\u001b[0mcall\u001b[0m\u001b[0;34m(\u001b[0m\u001b[0moperator\u001b[0m\u001b[0;34m,\u001b[0m \u001b[0mx\u001b[0m\u001b[0;34m,\u001b[0m\u001b[0my\u001b[0m\u001b[0;34m)\u001b[0m\u001b[0;34m,\u001b[0m \u001b[0moperands\u001b[0m\u001b[0;34m)\u001b[0m\u001b[0;34m\u001b[0m\u001b[0;34m\u001b[0m\u001b[0m\n\u001b[0m\u001b[1;32m   2071\u001b[0m \u001b[0;34m\u001b[0m\u001b[0m\n\u001b[1;32m   2072\u001b[0m     \u001b[0;32mdef\u001b[0m \u001b[0msymbol\u001b[0m\u001b[0;34m(\u001b[0m\u001b[0mself\u001b[0m\u001b[0;34m,\u001b[0m \u001b[0mex\u001b[0m\u001b[0;34m)\u001b[0m\u001b[0;34m:\u001b[0m\u001b[0;34m\u001b[0m\u001b[0;34m\u001b[0m\u001b[0m\n",
      "\u001b[0;32m/usr3/articles/sagemath_docker_build/sage/local/lib/python3.9/site-packages/sage/ext/fast_callable.pyx\u001b[0m in \u001b[0;36msage.ext.fast_callable.ExpressionTreeBuilder.call (build/cythonized/sage/ext/fast_callable.c:7149)\u001b[0;34m()\u001b[0m\n\u001b[1;32m    739\u001b[0m         \u001b[0;32mif\u001b[0m \u001b[0mfn\u001b[0m \u001b[0;32mis\u001b[0m \u001b[0moperator\u001b[0m\u001b[0;34m.\u001b[0m\u001b[0mpow\u001b[0m\u001b[0;34m:\u001b[0m\u001b[0;34m\u001b[0m\u001b[0;34m\u001b[0m\u001b[0m\n\u001b[1;32m    740\u001b[0m             \u001b[0mbase\u001b[0m\u001b[0;34m,\u001b[0m \u001b[0mexponent\u001b[0m \u001b[0;34m=\u001b[0m \u001b[0margs\u001b[0m\u001b[0;34m\u001b[0m\u001b[0;34m\u001b[0m\u001b[0m\n\u001b[0;32m--> 741\u001b[0;31m             \u001b[0;32mreturn\u001b[0m \u001b[0mself\u001b[0m\u001b[0;34m(\u001b[0m\u001b[0mbase\u001b[0m\u001b[0;34m)\u001b[0m\u001b[0;34m**\u001b[0m\u001b[0mexponent\u001b[0m\u001b[0;34m\u001b[0m\u001b[0;34m\u001b[0m\u001b[0m\n\u001b[0m\u001b[1;32m    742\u001b[0m         \u001b[0;32melse\u001b[0m\u001b[0;34m:\u001b[0m\u001b[0;34m\u001b[0m\u001b[0;34m\u001b[0m\u001b[0m\n\u001b[1;32m    743\u001b[0m             \u001b[0;32mreturn\u001b[0m \u001b[0mExpressionCall\u001b[0m\u001b[0;34m(\u001b[0m\u001b[0mself\u001b[0m\u001b[0;34m,\u001b[0m \u001b[0mfn\u001b[0m\u001b[0;34m,\u001b[0m \u001b[0;34m[\u001b[0m\u001b[0mself\u001b[0m\u001b[0;34m(\u001b[0m\u001b[0ma\u001b[0m\u001b[0;34m)\u001b[0m \u001b[0;32mfor\u001b[0m \u001b[0ma\u001b[0m \u001b[0;32min\u001b[0m \u001b[0margs\u001b[0m\u001b[0;34m]\u001b[0m\u001b[0;34m)\u001b[0m\u001b[0;34m\u001b[0m\u001b[0;34m\u001b[0m\u001b[0m\n",
      "\u001b[0;32m/usr3/articles/sagemath_docker_build/sage/local/lib/python3.9/site-packages/sage/ext/fast_callable.pyx\u001b[0m in \u001b[0;36msage.ext.fast_callable.ExpressionTreeBuilder.__call__ (build/cythonized/sage/ext/fast_callable.c:6320)\u001b[0;34m()\u001b[0m\n\u001b[1;32m    615\u001b[0m             \u001b[0;32mreturn\u001b[0m \u001b[0mself\u001b[0m\u001b[0;34m.\u001b[0m\u001b[0mconstant\u001b[0m\u001b[0;34m(\u001b[0m\u001b[0mx\u001b[0m\u001b[0;34m)\u001b[0m\u001b[0;34m\u001b[0m\u001b[0;34m\u001b[0m\u001b[0m\n\u001b[1;32m    616\u001b[0m \u001b[0;34m\u001b[0m\u001b[0m\n\u001b[0;32m--> 617\u001b[0;31m         \u001b[0;32mreturn\u001b[0m \u001b[0mfc\u001b[0m\u001b[0;34m(\u001b[0m\u001b[0mself\u001b[0m\u001b[0;34m)\u001b[0m\u001b[0;34m\u001b[0m\u001b[0;34m\u001b[0m\u001b[0m\n\u001b[0m\u001b[1;32m    618\u001b[0m \u001b[0;34m\u001b[0m\u001b[0m\n\u001b[1;32m    619\u001b[0m     \u001b[0;32mdef\u001b[0m \u001b[0m_clean_var\u001b[0m\u001b[0;34m(\u001b[0m\u001b[0mself\u001b[0m\u001b[0;34m,\u001b[0m \u001b[0mv\u001b[0m\u001b[0;34m)\u001b[0m\u001b[0;34m:\u001b[0m\u001b[0;34m\u001b[0m\u001b[0;34m\u001b[0m\u001b[0m\n",
      "\u001b[0;32m/usr3/articles/sagemath_docker_build/sage/local/lib/python3.9/site-packages/sage/symbolic/expression.pyx\u001b[0m in \u001b[0;36msage.symbolic.expression.Expression._fast_callable_ (build/cythonized/sage/symbolic/expression.cpp:65349)\u001b[0;34m()\u001b[0m\n\u001b[1;32m  12285\u001b[0m         \"\"\"\n\u001b[1;32m  12286\u001b[0m         \u001b[0;32mfrom\u001b[0m \u001b[0msage\u001b[0m\u001b[0;34m.\u001b[0m\u001b[0msymbolic\u001b[0m\u001b[0;34m.\u001b[0m\u001b[0mexpression_conversions\u001b[0m \u001b[0;32mimport\u001b[0m \u001b[0mfast_callable\u001b[0m\u001b[0;34m\u001b[0m\u001b[0;34m\u001b[0m\u001b[0m\n\u001b[0;32m> 12287\u001b[0;31m         \u001b[0;32mreturn\u001b[0m \u001b[0mfast_callable\u001b[0m\u001b[0;34m(\u001b[0m\u001b[0mself\u001b[0m\u001b[0;34m,\u001b[0m \u001b[0metb\u001b[0m\u001b[0;34m)\u001b[0m\u001b[0;34m\u001b[0m\u001b[0;34m\u001b[0m\u001b[0m\n\u001b[0m\u001b[1;32m  12288\u001b[0m \u001b[0;34m\u001b[0m\u001b[0m\n\u001b[1;32m  12289\u001b[0m     \u001b[0;32mdef\u001b[0m \u001b[0mshow\u001b[0m\u001b[0;34m(\u001b[0m\u001b[0mself\u001b[0m\u001b[0;34m)\u001b[0m\u001b[0;34m:\u001b[0m\u001b[0;34m\u001b[0m\u001b[0;34m\u001b[0m\u001b[0m\n",
      "\u001b[0;32m/usr3/articles/sagemath_docker_build/sage/local/lib/python3.9/site-packages/sage/symbolic/expression_conversions.py\u001b[0m in \u001b[0;36mfast_callable\u001b[0;34m(ex, etb)\u001b[0m\n\u001b[1;32m   2140\u001b[0m \u001b[0;34m\u001b[0m\u001b[0m\n\u001b[1;32m   2141\u001b[0m     \"\"\"\n\u001b[0;32m-> 2142\u001b[0;31m     \u001b[0;32mreturn\u001b[0m \u001b[0mFastCallableConverter\u001b[0m\u001b[0;34m(\u001b[0m\u001b[0mex\u001b[0m\u001b[0;34m,\u001b[0m \u001b[0metb\u001b[0m\u001b[0;34m)\u001b[0m\u001b[0;34m(\u001b[0m\u001b[0;34m)\u001b[0m\u001b[0;34m\u001b[0m\u001b[0;34m\u001b[0m\u001b[0m\n\u001b[0m\u001b[1;32m   2143\u001b[0m \u001b[0;34m\u001b[0m\u001b[0m\n\u001b[1;32m   2144\u001b[0m \u001b[0;32mclass\u001b[0m \u001b[0mRingConverter\u001b[0m\u001b[0;34m(\u001b[0m\u001b[0mConverter\u001b[0m\u001b[0;34m)\u001b[0m\u001b[0;34m:\u001b[0m\u001b[0;34m\u001b[0m\u001b[0;34m\u001b[0m\u001b[0m\n",
      "\u001b[0;32m/usr3/articles/sagemath_docker_build/sage/local/lib/python3.9/site-packages/sage/symbolic/expression_conversions.py\u001b[0m in \u001b[0;36m__call__\u001b[0;34m(self, ex)\u001b[0m\n\u001b[1;32m    209\u001b[0m         \u001b[0moperator\u001b[0m \u001b[0;34m=\u001b[0m \u001b[0mex\u001b[0m\u001b[0;34m.\u001b[0m\u001b[0moperator\u001b[0m\u001b[0;34m(\u001b[0m\u001b[0;34m)\u001b[0m\u001b[0;34m\u001b[0m\u001b[0;34m\u001b[0m\u001b[0m\n\u001b[1;32m    210\u001b[0m         \u001b[0;32mif\u001b[0m \u001b[0moperator\u001b[0m \u001b[0;32mis\u001b[0m \u001b[0;32mNone\u001b[0m\u001b[0;34m:\u001b[0m\u001b[0;34m\u001b[0m\u001b[0;34m\u001b[0m\u001b[0m\n\u001b[0;32m--> 211\u001b[0;31m             \u001b[0;32mreturn\u001b[0m \u001b[0mself\u001b[0m\u001b[0;34m.\u001b[0m\u001b[0msymbol\u001b[0m\u001b[0;34m(\u001b[0m\u001b[0mex\u001b[0m\u001b[0;34m)\u001b[0m\u001b[0;34m\u001b[0m\u001b[0;34m\u001b[0m\u001b[0m\n\u001b[0m\u001b[1;32m    212\u001b[0m \u001b[0;34m\u001b[0m\u001b[0m\n\u001b[1;32m    213\u001b[0m         \u001b[0;32mif\u001b[0m \u001b[0moperator\u001b[0m \u001b[0;32min\u001b[0m \u001b[0marithmetic_operators\u001b[0m\u001b[0;34m:\u001b[0m\u001b[0;34m\u001b[0m\u001b[0;34m\u001b[0m\u001b[0m\n",
      "\u001b[0;32m/usr3/articles/sagemath_docker_build/sage/local/lib/python3.9/site-packages/sage/symbolic/expression_conversions.py\u001b[0m in \u001b[0;36msymbol\u001b[0;34m(self, ex)\u001b[0m\n\u001b[1;32m   2089\u001b[0m             \u001b[0mValueError\u001b[0m\u001b[0;34m:\u001b[0m \u001b[0mVariable\u001b[0m \u001b[0;34m'z'\u001b[0m \u001b[0;32mnot\u001b[0m \u001b[0mfound\u001b[0m\u001b[0;34m\u001b[0m\u001b[0;34m\u001b[0m\u001b[0m\n\u001b[1;32m   2090\u001b[0m         \"\"\"\n\u001b[0;32m-> 2091\u001b[0;31m         \u001b[0;32mreturn\u001b[0m \u001b[0mself\u001b[0m\u001b[0;34m.\u001b[0m\u001b[0metb\u001b[0m\u001b[0;34m.\u001b[0m\u001b[0mvar\u001b[0m\u001b[0;34m(\u001b[0m\u001b[0mSR\u001b[0m\u001b[0;34m(\u001b[0m\u001b[0mex\u001b[0m\u001b[0;34m)\u001b[0m\u001b[0;34m)\u001b[0m\u001b[0;34m\u001b[0m\u001b[0;34m\u001b[0m\u001b[0m\n\u001b[0m\u001b[1;32m   2092\u001b[0m \u001b[0;34m\u001b[0m\u001b[0m\n\u001b[1;32m   2093\u001b[0m     \u001b[0;32mdef\u001b[0m \u001b[0mcomposition\u001b[0m\u001b[0;34m(\u001b[0m\u001b[0mself\u001b[0m\u001b[0;34m,\u001b[0m \u001b[0mex\u001b[0m\u001b[0;34m,\u001b[0m \u001b[0mfunction\u001b[0m\u001b[0;34m)\u001b[0m\u001b[0;34m:\u001b[0m\u001b[0;34m\u001b[0m\u001b[0;34m\u001b[0m\u001b[0m\n",
      "\u001b[0;32m/usr3/articles/sagemath_docker_build/sage/local/lib/python3.9/site-packages/sage/ext/fast_callable.pyx\u001b[0m in \u001b[0;36msage.ext.fast_callable.ExpressionTreeBuilder.var (build/cythonized/sage/ext/fast_callable.c:6791)\u001b[0;34m()\u001b[0m\n\u001b[1;32m    687\u001b[0m             \u001b[0mind\u001b[0m \u001b[0;34m=\u001b[0m \u001b[0mself\u001b[0m\u001b[0;34m.\u001b[0m\u001b[0m_vars\u001b[0m\u001b[0;34m.\u001b[0m\u001b[0mindex\u001b[0m\u001b[0;34m(\u001b[0m\u001b[0mvar_name\u001b[0m\u001b[0;34m)\u001b[0m\u001b[0;34m\u001b[0m\u001b[0;34m\u001b[0m\u001b[0m\n\u001b[1;32m    688\u001b[0m         \u001b[0;32mexcept\u001b[0m \u001b[0mValueError\u001b[0m\u001b[0;34m:\u001b[0m\u001b[0;34m\u001b[0m\u001b[0;34m\u001b[0m\u001b[0m\n\u001b[0;32m--> 689\u001b[0;31m             \u001b[0;32mraise\u001b[0m \u001b[0mValueError\u001b[0m\u001b[0;34m(\u001b[0m\u001b[0;34m\"Variable '%s' not found\"\u001b[0m \u001b[0;34m%\u001b[0m \u001b[0mvar_name\u001b[0m\u001b[0;34m)\u001b[0m\u001b[0;34m\u001b[0m\u001b[0;34m\u001b[0m\u001b[0m\n\u001b[0m\u001b[1;32m    690\u001b[0m         \u001b[0;32mreturn\u001b[0m \u001b[0mExpressionVariable\u001b[0m\u001b[0;34m(\u001b[0m\u001b[0mself\u001b[0m\u001b[0;34m,\u001b[0m \u001b[0mind\u001b[0m\u001b[0;34m)\u001b[0m\u001b[0;34m\u001b[0m\u001b[0;34m\u001b[0m\u001b[0m\n\u001b[1;32m    691\u001b[0m \u001b[0;34m\u001b[0m\u001b[0m\n",
      "\u001b[0;31mValueError\u001b[0m: Variable 'sz' not found"
     ]
    }
   ],
   "source": [
    "p = plot([even_disp_eq_fa(x).real(), sqrt((r * A)^2 - x^2)], (x, 0, kappa_A_max), ymin = 0, ymax = s_A_max)\n",
    "p.show()"
   ]
  },
  {
   "cell_type": "code",
   "execution_count": null,
   "metadata": {},
   "outputs": [],
   "source": [
    "p = plot([even_disp_eq_fa(x).imag()], (x, 0, kappa_A_max))\n",
    "p.show()"
   ]
  },
  {
   "cell_type": "code",
   "execution_count": null,
   "metadata": {},
   "outputs": [],
   "source": [
    "even_disp_eq_f = lambda x : even_disp_eq_s_d.rhs().subs(kappa == x).subs(a == A).subs(kz == 1, kx == 1)\n",
    "even_disp_eq_f(x)"
   ]
  },
  {
   "cell_type": "code",
   "execution_count": null,
   "metadata": {},
   "outputs": [],
   "source": [
    "p = plot([even_disp_eq_f(x).real(), sqrt((r)^2 - x^2)], (x, 0, kappa_A_max / A), ymin = 0, ymax = s_A_max / A)\n",
    "p.show()"
   ]
  },
  {
   "cell_type": "code",
   "execution_count": null,
   "metadata": {
    "scrolled": true
   },
   "outputs": [],
   "source": [
    "even_f = lambda x : even_disp_eq_f(x).real() - sqrt((r)^2 - x^2)\n",
    "print (\"even_f(x) =\",even_f(x))\n",
    "p = plot(even_f, (0, kappa_A_max / A), ymin = - s_A_max / A, ymax = s_A_max / A)\n",
    "p.show()"
   ]
  },
  {
   "cell_type": "code",
   "execution_count": null,
   "metadata": {},
   "outputs": [],
   "source": [
    "even_kappa_sol = find_root(even_f(x) == 0, 0, 30)#pi/2/A)\n",
    "print(\"even_kappa_sol\", even_kappa_sol)"
   ]
  },
  {
   "cell_type": "code",
   "execution_count": null,
   "metadata": {},
   "outputs": [],
   "source": [
    "sin(even_kappa_sol*A)"
   ]
  },
  {
   "cell_type": "code",
   "execution_count": null,
   "metadata": {},
   "outputs": [],
   "source": [
    "even_kz_sol = solve(eq_kappa_inner_vacuum, kz)\n",
    "print(\"even_kz_sol =\", even_kz_sol)"
   ]
  },
  {
   "cell_type": "code",
   "execution_count": null,
   "metadata": {},
   "outputs": [],
   "source": [
    "even_kz_sol = abs(even_kz_sol[0].rhs()).subs(digit_values).subs(kappa == even_kappa_sol)\n",
    "print(\"even_kz_sol =\", even_kz_sol)"
   ]
  },
  {
   "cell_type": "code",
   "execution_count": null,
   "metadata": {},
   "outputs": [],
   "source": [
    "even_s_sol = even_disp_eq_s_d.rhs()\n",
    "print(\"even_s_sol =\", even_s_sol)"
   ]
  },
  {
   "cell_type": "code",
   "execution_count": null,
   "metadata": {},
   "outputs": [],
   "source": [
    "even_s_sol = even_s_sol.subs(kappa == even_kappa_sol)\n",
    "print(\"even_s_sol =\", even_s_sol)"
   ]
  },
  {
   "cell_type": "code",
   "execution_count": null,
   "metadata": {},
   "outputs": [],
   "source": [
    "even_s_sol = even_s_sol.subs(a == A).subs(kz == even_kz_sol)\n",
    "print(\"even_s_sol =\", even_s_sol)"
   ]
  },
  {
   "cell_type": "code",
   "execution_count": null,
   "metadata": {},
   "outputs": [],
   "source": [
    "even_s_sol"
   ]
  },
  {
   "cell_type": "code",
   "execution_count": null,
   "metadata": {},
   "outputs": [],
   "source": [
    "even_E_inner_vacuum_z_d (x) = even_E_inner_vacuum_z (x).subs(B2_z == 1, kappa == even_kappa_sol)\n",
    "print (\"even_E_inner_vacuum_z_d (x) =\", even_E_inner_vacuum_z_d (x))\n",
    "even_E_bad_conductor_z_d (x) = even_E_bad_conductor_z (x).subs(A2_z == even_A).subs(B2_z == 1, s_x == even_s_sol, kappa == even_kappa_sol, k_z == even_kz_sol, k_x == 0, a == A).subs(digit_values)\n",
    "print (\"even_E_bad_conductor_z_d (x) =\", even_E_bad_conductor_z_d (x))"
   ]
  },
  {
   "cell_type": "code",
   "execution_count": null,
   "metadata": {
    "scrolled": true
   },
   "outputs": [],
   "source": [
    "even_E_inner_vacuum_x_d (x) = even_E_inner_vacuum_x (x).subs(B2_z == 1, kappa == even_kappa_sol, k_z = even_kz_sol)\n",
    "print (\"even_E_inner_vacuum_x_d (x) =\", even_E_inner_vacuum_x_d (x))\n",
    "even_E_bad_conductor_x_d (x) = even_E_bad_conductor_x (x).subs(A2_z == even_A).subs(B2_z == 1, s_x == even_s_sol, kappa == even_kappa_sol, k_z == even_kz_sol, k_x == 0, a == A).subs(digit_values)\n",
    "print (\"even_E_bad_conductor_x_d (x) =\", even_E_bad_conductor_x_d (x))"
   ]
  },
  {
   "cell_type": "code",
   "execution_count": null,
   "metadata": {},
   "outputs": [],
   "source": [
    "even_H_inner_vacuum_y_d (x) = even_H_inner_vacuum_y (x).subs(B2_z == 1, kappa == even_kappa_sol).subs(digit_values)\n",
    "print (\"even_H_inner_vacuum_y_d (x) =\", even_H_inner_vacuum_y_d (x))\n",
    "even_H_bad_conductor_y_d (x) = even_H_bad_conductor_y (x).subs(A2_z == even_A).subs(B2_z == 1, s_x == even_s_sol, kappa == even_kappa_sol, k_z == even_kz_sol, k_x == 0, a == A).subs(digit_values)\n",
    "print (\"even_H_bad_conductor_y_d (x) =\", even_H_bad_conductor_y_d (x))"
   ]
  },
  {
   "cell_type": "code",
   "execution_count": null,
   "metadata": {},
   "outputs": [],
   "source": [
    "p = plot(even_E_inner_vacuum_z_d (x), (x, 0, A))\n",
    "p += plot(even_E_bad_conductor_z_d (x), (x, A, 3*A))\n",
    "p.show(title=\"График тангенциальной компоненты электрического поля\")"
   ]
  },
  {
   "cell_type": "code",
   "execution_count": null,
   "metadata": {},
   "outputs": [],
   "source": [
    "p = plot(even_E_inner_vacuum_x_d (x).imag(), (x, 0, A))\n",
    "p += plot(even_E_bad_conductor_x_d (x).imag(), (x, A, 3*A))\n",
    "p.show(title=\"График нормальной компоненты электрического поля\")"
   ]
  },
  {
   "cell_type": "code",
   "execution_count": null,
   "metadata": {},
   "outputs": [],
   "source": [
    "p = plot(even_E_inner_vacuum_x_d (x).imag(), (x, 0, A))\n",
    "p += plot(even_E_bad_conductor_x_d (x).imag()*epsilon.subs(digit_values), (x, A, 3*A))\n",
    "p.show(title=\"График нормальной компоненты электрического смещения\")"
   ]
  },
  {
   "cell_type": "code",
   "execution_count": null,
   "metadata": {},
   "outputs": [],
   "source": [
    "p = plot(even_H_inner_vacuum_y_d (x).imag(), (x, 0, A))\n",
    "p += plot(even_H_bad_conductor_y_d (x).imag(), (x, A, 3*A))\n",
    "p.show(title=\"График тангенциальной компоненты напряженности магнитного поля H\")"
   ]
  },
  {
   "cell_type": "markdown",
   "metadata": {},
   "source": [
    "Решение получено и соответствует приведенному в решебнике ответу.\n",
    "\n",
    "Теперь посчитаем:\n",
    "\n",
    "1) пондеромоторную силу, приложенную к идеальному проводнику\n",
    "\n",
    "2) пондеромоторную силу, приложенную к границе диэлектрика и вакуума\n"
   ]
  },
  {
   "cell_type": "code",
   "execution_count": null,
   "metadata": {},
   "outputs": [],
   "source": []
  },
  {
   "cell_type": "markdown",
   "metadata": {},
   "source": [
    "1) пондеромоторная сила, приложенная к идеальному проводнику"
   ]
  },
  {
   "cell_type": "code",
   "execution_count": null,
   "metadata": {},
   "outputs": [],
   "source": [
    "# superconductor force\n",
    "# additional 1/2 arises as result of integration on period\n",
    "f_superconductor = - abs((even_H_inner_vacuum_y (0)^2) / (2*8*pi))\n",
    "print(\"f_superconductor =\", f_superconductor)"
   ]
  },
  {
   "cell_type": "code",
   "execution_count": null,
   "metadata": {},
   "outputs": [],
   "source": [
    "f_superconductor_d = f_superconductor.subs(digit_values).subs(B2_z == 1, kappa == even_kappa_sol)\n",
    "print(\"f_superconductor_d =\", f_superconductor_d)"
   ]
  },
  {
   "cell_type": "markdown",
   "metadata": {},
   "source": [
    "2) пондеромоторная сила, приложенная к плохому проводнику"
   ]
  },
  {
   "cell_type": "code",
   "execution_count": null,
   "metadata": {},
   "outputs": [],
   "source": [
    "# bad conductor force\n",
    "# additional 1/2 arises as result of integration on period\n",
    "f_bad_conductor = abs((even_H_inner_vacuum_y (a)^2) / (2*8*pi))\n",
    "print(\"f_bad_conductor =\", f_bad_conductor)"
   ]
  },
  {
   "cell_type": "code",
   "execution_count": null,
   "metadata": {},
   "outputs": [],
   "source": [
    "f_bad_conductor_d  = f_bad_conductor .subs(digit_values).subs(B2_z == 1, kappa == even_kappa_sol, a == A)\n",
    "print(\"f_bad_conductor_d  =\", f_bad_conductor_d )"
   ]
  },
  {
   "cell_type": "code",
   "execution_count": null,
   "metadata": {},
   "outputs": [],
   "source": []
  },
  {
   "cell_type": "code",
   "execution_count": null,
   "metadata": {},
   "outputs": [],
   "source": [
    "# bad conductor force\n",
    "# additional 1/2 arises as result of integration on period\n",
    "p_bad_conductor = (1.0 - epsilon) *(even_E_inner_vacuum_z (a)^2) / (2*8*pi)\n",
    "print(\"p_bad_conductor =\", p_bad_conductor)"
   ]
  },
  {
   "cell_type": "code",
   "execution_count": null,
   "metadata": {},
   "outputs": [],
   "source": [
    "p_bad_conductor_d  = p_bad_conductor .subs(digit_values).subs(B2_z == 1, kappa == even_kappa_sol, a == A)\n",
    "print(\"p_bad_conductor_d  =\", p_bad_conductor_d )"
   ]
  },
  {
   "cell_type": "code",
   "execution_count": null,
   "metadata": {},
   "outputs": [],
   "source": []
  },
  {
   "cell_type": "code",
   "execution_count": null,
   "metadata": {
    "scrolled": true
   },
   "outputs": [],
   "source": [
    "# super conductor tension\n",
    "# additional 1/2 arises as result of integration on period\n",
    "t_super_conductor = (0.0 - 1/1.) *(even_E_inner_vacuum_x (0).imag()^2 + even_E_inner_vacuum_x(0).real()^2) / (2*8*pi)\n",
    "print(\"t_super_conductor =\", t_super_conductor)"
   ]
  },
  {
   "cell_type": "code",
   "execution_count": null,
   "metadata": {},
   "outputs": [],
   "source": [
    "t_super_conductor_d  = t_super_conductor .subs(digit_values).subs(B2_z == 1, kappa == even_kappa_sol, k_z == even_kz_sol, a == A)\n",
    "print(\"t_super_conductor_d  =\", t_super_conductor_d )"
   ]
  },
  {
   "cell_type": "code",
   "execution_count": null,
   "metadata": {},
   "outputs": [],
   "source": [
    "# bad conductor force\n",
    "# additional 1/2 arises as result of integration on period\n",
    "t_bad_conductor = (1.0/1.0 - 1/epsilon) *(even_E_inner_vacuum_x (a).imag()^2 + even_E_inner_vacuum_x(a).real()^2) / (2*8*pi)\n",
    "print(\"t_bad_conductor =\", t_bad_conductor)"
   ]
  },
  {
   "cell_type": "code",
   "execution_count": null,
   "metadata": {},
   "outputs": [],
   "source": [
    "t_bad_conductor_d  = t_bad_conductor .subs(digit_values).subs(B2_z == 1, kappa == even_kappa_sol, k_z == even_kz_sol, a == A)\n",
    "print(\"t_bad_conductor_d  =\", t_bad_conductor_d )"
   ]
  },
  {
   "cell_type": "code",
   "execution_count": null,
   "metadata": {},
   "outputs": [],
   "source": []
  },
  {
   "cell_type": "markdown",
   "metadata": {},
   "source": [
    "Результаты вычислений показывают, что тяга в волновом двигателе с внутренним расходом энергии Ф.Ф.Менде (MenDrive) ненулевая и равна"
   ]
  },
  {
   "cell_type": "code",
   "execution_count": null,
   "metadata": {},
   "outputs": [],
   "source": [
    "(f_superconductor + f_bad_conductor).full_simplify()"
   ]
  },
  {
   "cell_type": "code",
   "execution_count": null,
   "metadata": {},
   "outputs": [],
   "source": [
    "f_superconductor_d + f_bad_conductor_d + t_super_conductor_d + t_bad_conductor_d - p_bad_conductor_d"
   ]
  },
  {
   "cell_type": "code",
   "execution_count": null,
   "metadata": {},
   "outputs": [],
   "source": [
    "(f_superconductor_d + f_bad_conductor_d)"
   ]
  },
  {
   "cell_type": "code",
   "execution_count": null,
   "metadata": {},
   "outputs": [],
   "source": [
    "(t_super_conductor_d + t_bad_conductor_d)"
   ]
  },
  {
   "cell_type": "code",
   "execution_count": null,
   "metadata": {},
   "outputs": [],
   "source": [
    "-p_bad_conductor_d"
   ]
  },
  {
   "cell_type": "markdown",
   "metadata": {},
   "source": [
    "положительный знак соответствует направлению тяги в сторону увеличения значений x"
   ]
  },
  {
   "cell_type": "code",
   "execution_count": null,
   "metadata": {},
   "outputs": [],
   "source": []
  },
  {
   "cell_type": "code",
   "execution_count": null,
   "metadata": {},
   "outputs": [],
   "source": []
  }
 ],
 "metadata": {
  "kernelspec": {
   "display_name": "SageMath 9.4.rc2",
   "language": "sage",
   "name": "sagemath"
  },
  "language_info": {
   "codemirror_mode": {
    "name": "ipython",
    "version": 3
   },
   "file_extension": ".py",
   "mimetype": "text/x-python",
   "name": "python",
   "nbconvert_exporter": "python",
   "pygments_lexer": "ipython3",
   "version": "3.9.5"
  }
 },
 "nbformat": 4,
 "nbformat_minor": 4
}
