{
 "cells": [
  {
   "cell_type": "code",
   "execution_count": 1,
   "metadata": {
    "collapsed": false
   },
   "outputs": [
   ],
   "source": [
    "from IPython.display import display, Math, Latex"
   ]
  },
  {
   "cell_type": "code",
   "execution_count": 2,
   "metadata": {
    "collapsed": false
   },
   "outputs": [
   ],
   "source": [
    "%display latex"
   ]
  },
  {
   "cell_type": "code",
   "execution_count": 3,
   "metadata": {
    "collapsed": false
   },
   "outputs": [
   ],
   "source": [
    "ES.<rh,ph,z> = EuclideanSpace(coordinates='cylindrical')"
   ]
  },
  {
   "cell_type": "code",
   "execution_count": 4,
   "metadata": {
    "collapsed": false
   },
   "outputs": [
    {
     "data": {
      "text/html": [
       "<html><script type=\"math/tex; mode=display\">\\newcommand{\\Bold}[1]{\\mathbf{#1}}{\\rho} :\\ \\left( 0 , +\\infty \\right) ;\\quad {\\phi} :\\ \\left[ 0 , 2 \\, \\pi \\right] \\mbox{(periodic)} ;\\quad z :\\ \\left( -\\infty, +\\infty \\right)</script></html>"
      ],
      "text/plain": [
       "rh: (0, +oo); ph: [0, 2*pi] (periodic); z: (-oo, +oo)"
      ]
     },
     "execution_count": 4,
     "metadata": {
     },
     "output_type": "execute_result"
    }
   ],
   "source": [
    "ES.cylindrical_coordinates().coord_range()"
   ]
  },
  {
   "cell_type": "code",
   "execution_count": 5,
   "metadata": {
    "collapsed": false
   },
   "outputs": [
   ],
   "source": [
    "H = ES.vector_field(\n",
    "    -I*m*omega/(kappa^2*c*rh) * bessel_J  (m,kappa*rh)*(A_z*cos(k*z) + B_z*sin(k*z)) * sin(m*ph),\n",
    "            I*omega/(kappa*c) * bessel_J_d(m,kappa*rh)*(A_z*cos(k*z) + B_z*sin(k*z)) * cos(m*ph),\n",
    "    0,\n",
    "    name='H')"
   ]
  },
  {
   "cell_type": "code",
   "execution_count": 6,
   "metadata": {
    "collapsed": false
   },
   "outputs": [
   ],
   "source": [
    "E = ES.vector_field(\n",
    "             -k/kappa * bessel_J_d(m,kappa*rh)*(A_z*sin(k*z) + B_z*cos(k*z)) * cos(m*ph),\n",
    "    -m*k/(kappa^2*rh) * bessel_J  (m,kappa*rh)*(A_z*sin(k*z) + B_z*cos(k*z)) * sin(m*ph),\n",
    "                        bessel_J  (m,kappa*rh)*(A_z*cos(k*z) + B_z*sin(k*z)) * cos(m*ph),\n",
    "    name='E')"
   ]
  },
  {
   "cell_type": "code",
   "execution_count": 7,
   "metadata": {
    "collapsed": false
   },
   "outputs": [
    {
     "data": {
      "text/html": [
       "<html><script type=\"math/tex; mode=display\">\\newcommand{\\Bold}[1]{\\mathbf{#1}}E = E_{\\rho}\\left({\\rho}, {\\phi}, z\\right) e_{ {\\rho} } + E_{\\phi}\\left({\\rho}, {\\phi}, z\\right) e_{ {\\phi} } + E_{z}\\left({\\rho}, {\\phi}, z\\right) e_{ z }</script></html>"
      ],
      "text/plain": [
       "E = E_rho(rh, ph, z) e_rh + E_phi(rh, ph, z) e_ph + E_z(rh, ph, z) e_z"
      ]
     },
     "execution_count": 7,
     "metadata": {
     },
     "output_type": "execute_result"
    }
   ],
   "source": [
    "E.display()"
   ]
  },
  {
   "cell_type": "markdown",
   "metadata": {
    "collapsed": false
   },
   "source": [
    "$rot\\,\\vec{E} = \\mu\\,\\frac{i\\,\\omega}{c}\\,\\vec{H}$\n",
    "\n",
    "$rot\\,\\vec{H} = - \\frac{i\\,\\omega}{c} \\epsilon_{\\alpha\\,\\beta} \\vec{E}$\n",
    "\n",
    "$rot\\,rot\\,\\vec{E} = \\mu\\,\\frac{i\\,\\omega}{c}rot\\,\\vec{H}$\n",
    "\n",
    "$rot\\,rot\\,\\vec{E} = \\mu\\,\\frac{i\\,\\omega}{c}\\left(- \\frac{i\\,\\omega}{c} \\epsilon_{\\alpha\\,\\beta} \\vec{E}\\right)$\n",
    "\n",
    "$rot\\,rot\\,\\vec{E} = \\mu\\,\\frac{\\omega^2}{c^2} \\epsilon_{\\alpha\\,\\beta} \\vec{E}$\n",
    "\n",
    "$rot\\,rot\\,\\vec{E} = grad\\,div\\,\\vec{E} - Laplasian\\,\\vec{E}$\n",
    "\n",
    "$Laplasian\\,\\vec{E} + \\mu\\frac{\\omega^2}{c^2}\\,\\epsilon_{\\alpha\\,\\beta}\\vec{E} - grad\\,div\\,\\vec{E} = 0$"
   ]
  },
  {
   "cell_type": "markdown",
   "metadata": {
    "collapsed": false
   },
   "source": [
    "The Laplacian of a vector field:"
   ]
  },
  {
   "cell_type": "code",
   "execution_count": 8,
   "metadata": {
    "collapsed": false
   },
   "outputs": [
   ],
   "source": [
    "from sage.manifolds.operators import *"
   ]
  },
  {
   "cell_type": "code",
   "execution_count": 9,
   "metadata": {
    "collapsed": false
   },
   "outputs": [
    {
     "data": {
      "text/html": [
       "<html><script type=\"math/tex; mode=display\">\\newcommand{\\Bold}[1]{\\mathbf{#1}}\\mathrm{curl}\\left(E\\right) = \\left( -\\frac{{\\rho} \\frac{\\partial\\,E_{\\phi}}{\\partial z} - \\frac{\\partial\\,E_{z}}{\\partial {\\phi}}}{{\\rho}} \\right) e_{ {\\rho} } + \\left( \\frac{\\partial\\,E_{\\rho}}{\\partial z} - \\frac{\\partial\\,E_{z}}{\\partial {\\rho}} \\right) e_{ {\\phi} } + \\left( \\frac{{\\rho} \\frac{\\partial\\,E_{\\phi}}{\\partial {\\rho}} + E_{\\phi}\\left({\\rho}, {\\phi}, z\\right) - \\frac{\\partial\\,E_{\\rho}}{\\partial {\\phi}}}{{\\rho}} \\right) e_{ z }</script></html>"
      ],
      "text/plain": [
       "curl(E) = -(rh*d(E_phi)/dz - d(E_z)/dph)/rh e_rh + (d(E_rho)/dz - d(E_z)/drh) e_ph + (rh*d(E_phi)/drh + E_phi(rh, ph, z) - d(E_rho)/dph)/rh e_z"
      ]
     },
     "execution_count": 9,
     "metadata": {
     },
     "output_type": "execute_result"
    }
   ],
   "source": [
    "rot_E = curl(E)\n",
    "rot_E.display()"
   ]
  },
  {
   "cell_type": "code",
   "execution_count": 77,
   "metadata": {
    "collapsed": false
   },
   "outputs": [
    {
     "data": {
      "text/html": [
       "<html><script type=\"math/tex; mode=display\">\\newcommand{\\Bold}[1]{\\mathbf{#1}}\\mathrm{grad}\\left(\\mathrm{div}\\left(E\\right)\\right) = \\left( \\frac{{\\rho}^{2} \\frac{\\partial^2\\,E_{\\rho}}{\\partial {\\rho} ^ 2} + {\\rho}^{2} \\frac{\\partial^2\\,E_{z}}{\\partial {\\rho}\\partial z} + {\\rho} \\frac{\\partial^2\\,E_{\\phi}}{\\partial {\\rho}\\partial {\\phi}} + {\\rho} \\frac{\\partial\\,E_{\\rho}}{\\partial {\\rho}} - E_{\\rho}\\left({\\rho}, {\\phi}, z\\right) - \\frac{\\partial\\,E_{\\phi}}{\\partial {\\phi}}}{{\\rho}^{2}} \\right) e_{ {\\rho} } + \\left( \\frac{{\\rho} \\frac{\\partial^2\\,E_{\\rho}}{\\partial {\\rho}\\partial {\\phi}} + {\\rho} \\frac{\\partial^2\\,E_{z}}{\\partial {\\phi}\\partial z} + \\frac{\\partial^2\\,E_{\\phi}}{\\partial {\\phi} ^ 2} + \\frac{\\partial\\,E_{\\rho}}{\\partial {\\phi}}}{{\\rho}^{2}} \\right) e_{ {\\phi} } + \\left( \\frac{{\\rho} \\frac{\\partial^2\\,E_{\\rho}}{\\partial {\\rho}\\partial z} + {\\rho} \\frac{\\partial^2\\,E_{z}}{\\partial z ^ 2} + \\frac{\\partial^2\\,E_{\\phi}}{\\partial {\\phi}\\partial z} + \\frac{\\partial\\,E_{\\rho}}{\\partial z}}{{\\rho}} \\right) e_{ z }</script></html>"
      ],
      "text/plain": [
       "grad(div(E)) = (rh^2*d^2(E_rho)/drh^2 + rh^2*d^2(E_z)/drhdz + rh*d^2(E_phi)/drhdph + rh*d(E_rho)/drh - E_rho(rh, ph, z) - d(E_phi)/dph)/rh^2 e_rh + (rh*d^2(E_rho)/drhdph + rh*d^2(E_z)/dphdz + d^2(E_phi)/dph^2 + d(E_rho)/dph)/rh^2 e_ph + (rh*d^2(E_rho)/drhdz + rh*d^2(E_z)/dz^2 + d^2(E_phi)/dphdz + d(E_rho)/dz)/rh e_z"
      ]
     },
     "execution_count": 77,
     "metadata": {
     },
     "output_type": "execute_result"
    }
   ],
   "source": [
    "grad_div_E = grad(div(E))\n",
    "grad_div_E.display()"
   ]
  },
  {
   "cell_type": "code",
   "execution_count": 78,
   "metadata": {
    "collapsed": false
   },
   "outputs": [
    {
     "data": {
      "text/html": [
       "<html><script type=\"math/tex; mode=display\">\\newcommand{\\Bold}[1]{\\mathbf{#1}}-\\mathrm{curl}\\left(\\mathrm{curl}\\left(E\\right)\\right) = \\left( \\frac{{\\rho}^{2} \\frac{\\partial^2\\,E_{\\rho}}{\\partial z ^ 2} - {\\rho}^{2} \\frac{\\partial^2\\,E_{z}}{\\partial {\\rho}\\partial z} - {\\rho} \\frac{\\partial^2\\,E_{\\phi}}{\\partial {\\rho}\\partial {\\phi}} - \\frac{\\partial\\,E_{\\phi}}{\\partial {\\phi}} + \\frac{\\partial^2\\,E_{\\rho}}{\\partial {\\phi} ^ 2}}{{\\rho}^{2}} \\right) e_{ {\\rho} } + \\left( \\frac{{\\rho}^{2} \\frac{\\partial^2\\,E_{\\phi}}{\\partial {\\rho} ^ 2} + {\\rho}^{2} \\frac{\\partial^2\\,E_{\\phi}}{\\partial z ^ 2} + {\\rho} \\frac{\\partial\\,E_{\\phi}}{\\partial {\\rho}} - {\\rho} \\frac{\\partial^2\\,E_{\\rho}}{\\partial {\\rho}\\partial {\\phi}} - {\\rho} \\frac{\\partial^2\\,E_{z}}{\\partial {\\phi}\\partial z} - E_{\\phi}\\left({\\rho}, {\\phi}, z\\right) + \\frac{\\partial\\,E_{\\rho}}{\\partial {\\phi}}}{{\\rho}^{2}} \\right) e_{ {\\phi} } + \\left( -\\frac{{\\rho}^{2} \\frac{\\partial^2\\,E_{\\rho}}{\\partial {\\rho}\\partial z} - {\\rho}^{2} \\frac{\\partial^2\\,E_{z}}{\\partial {\\rho} ^ 2} + {\\rho} \\frac{\\partial^2\\,E_{\\phi}}{\\partial {\\phi}\\partial z} + {\\rho} \\frac{\\partial\\,E_{\\rho}}{\\partial z} - {\\rho} \\frac{\\partial\\,E_{z}}{\\partial {\\rho}} - \\frac{\\partial^2\\,E_{z}}{\\partial {\\phi} ^ 2}}{{\\rho}^{2}} \\right) e_{ z }</script></html>"
      ],
      "text/plain": [
       "-curl(curl(E)) = (rh^2*d^2(E_rho)/dz^2 - rh^2*d^2(E_z)/drhdz - rh*d^2(E_phi)/drhdph - d(E_phi)/dph + d^2(E_rho)/dph^2)/rh^2 e_rh + (rh^2*d^2(E_phi)/drh^2 + rh^2*d^2(E_phi)/dz^2 + rh*d(E_phi)/drh - rh*d^2(E_rho)/drhdph - rh*d^2(E_z)/dphdz - E_phi(rh, ph, z) + d(E_rho)/dph)/rh^2 e_ph - (rh^2*d^2(E_rho)/drhdz - rh^2*d^2(E_z)/drh^2 + rh*d^2(E_phi)/dphdz + rh*d(E_rho)/dz - rh*d(E_z)/drh - d^2(E_z)/dph^2)/rh^2 e_z"
      ]
     },
     "execution_count": 78,
     "metadata": {
     },
     "output_type": "execute_result"
    }
   ],
   "source": [
    "rot_rot_E = -curl(curl(E))\n",
    "rot_rot_E.display()"
   ]
  },
  {
   "cell_type": "code",
   "execution_count": 79,
   "metadata": {
    "collapsed": false
   },
   "outputs": [
    {
     "data": {
      "text/html": [
       "<html><script type=\"math/tex; mode=display\">\\newcommand{\\Bold}[1]{\\mathbf{#1}}\\Delta\\left(E\\right) = \\left( \\frac{{\\rho}^{2} \\frac{\\partial^2\\,E_{\\rho}}{\\partial {\\rho} ^ 2} + {\\rho}^{2} \\frac{\\partial^2\\,E_{\\rho}}{\\partial z ^ 2} + {\\rho} \\frac{\\partial\\,E_{\\rho}}{\\partial {\\rho}} - E_{\\rho}\\left({\\rho}, {\\phi}, z\\right) - 2 \\, \\frac{\\partial\\,E_{\\phi}}{\\partial {\\phi}} + \\frac{\\partial^2\\,E_{\\rho}}{\\partial {\\phi} ^ 2}}{{\\rho}^{2}} \\right) e_{ {\\rho} } + \\left( \\frac{{\\rho}^{2} \\frac{\\partial^2\\,E_{\\phi}}{\\partial {\\rho} ^ 2} + {\\rho}^{2} \\frac{\\partial^2\\,E_{\\phi}}{\\partial z ^ 2} + {\\rho} \\frac{\\partial\\,E_{\\phi}}{\\partial {\\rho}} - E_{\\phi}\\left({\\rho}, {\\phi}, z\\right) + \\frac{\\partial^2\\,E_{\\phi}}{\\partial {\\phi} ^ 2} + 2 \\, \\frac{\\partial\\,E_{\\rho}}{\\partial {\\phi}}}{{\\rho}^{2}} \\right) e_{ {\\phi} } + \\left( \\frac{{\\rho}^{2} \\frac{\\partial^2\\,E_{z}}{\\partial {\\rho} ^ 2} + {\\rho}^{2} \\frac{\\partial^2\\,E_{z}}{\\partial z ^ 2} + {\\rho} \\frac{\\partial\\,E_{z}}{\\partial {\\rho}} + \\frac{\\partial^2\\,E_{z}}{\\partial {\\phi} ^ 2}}{{\\rho}^{2}} \\right) e_{ z }</script></html>"
      ],
      "text/plain": [
       "Delta(E) = (rh^2*d^2(E_rho)/drh^2 + rh^2*d^2(E_rho)/dz^2 + rh*d(E_rho)/drh - E_rho(rh, ph, z) - 2*d(E_phi)/dph + d^2(E_rho)/dph^2)/rh^2 e_rh + (rh^2*d^2(E_phi)/drh^2 + rh^2*d^2(E_phi)/dz^2 + rh*d(E_phi)/drh - E_phi(rh, ph, z) + d^2(E_phi)/dph^2 + 2*d(E_rho)/dph)/rh^2 e_ph + (rh^2*d^2(E_z)/drh^2 + rh^2*d^2(E_z)/dz^2 + rh*d(E_z)/drh + d^2(E_z)/dph^2)/rh^2 e_z"
      ]
     },
     "execution_count": 79,
     "metadata": {
     },
     "output_type": "execute_result"
    }
   ],
   "source": [
    "DE = laplacian(E)\n",
    "DE.display()"
   ]
  },
  {
   "cell_type": "code",
   "execution_count": 16,
   "metadata": {
    "collapsed": false
   },
   "outputs": [
    {
     "name": "stdout",
     "output_type": "stream",
     "text": [
      "1\n"
     ]
    },
    {
     "data": {
      "text/latex": [
       "$$\\left({\\rho}, {\\phi}, z\\right) \\mapsto \\frac{{\\rho}^{2} \\frac{\\partial^2\\,E_{\\rho}}{\\partial {\\rho} ^ 2} + {\\rho}^{2} \\frac{\\partial^2\\,E_{\\rho}}{\\partial z ^ 2} + {\\rho} \\frac{\\partial\\,E_{\\rho}}{\\partial {\\rho}} - E_{\\rho}\\left({\\rho}, {\\phi}, z\\right) - 2 \\, \\frac{\\partial\\,E_{\\phi}}{\\partial {\\phi}} + \\frac{\\partial^2\\,E_{\\rho}}{\\partial {\\phi} ^ 2}}{{\\rho}^{2}}$$"
      ],
      "text/plain": [
       "<IPython.core.display.Math object>"
      ]
     },
     "execution_count": 16,
     "metadata": {
     },
     "output_type": "execute_result"
    },
    {
     "name": "stdout",
     "output_type": "stream",
     "text": [
      "(rh, ph, z) |--> (rh^2*d^2(E_rho)/drh^2 + rh^2*d^2(E_rho)/dz^2 + rh*d(E_rho)/drh - E_rho(rh, ph, z) - 2*d(E_phi)/dph + d^2(E_rho)/dph^2)/rh^2\n",
      "2\n"
     ]
    },
    {
     "data": {
      "text/latex": [
       "$$\\left({\\rho}, {\\phi}, z\\right) \\mapsto \\frac{{\\rho}^{2} \\frac{\\partial^2\\,E_{\\phi}}{\\partial {\\rho} ^ 2} + {\\rho}^{2} \\frac{\\partial^2\\,E_{\\phi}}{\\partial z ^ 2} + {\\rho} \\frac{\\partial\\,E_{\\phi}}{\\partial {\\rho}} - E_{\\phi}\\left({\\rho}, {\\phi}, z\\right) + \\frac{\\partial^2\\,E_{\\phi}}{\\partial {\\phi} ^ 2} + 2 \\, \\frac{\\partial\\,E_{\\rho}}{\\partial {\\phi}}}{{\\rho}^{2}}$$"
      ],
      "text/plain": [
       "<IPython.core.display.Math object>"
      ]
     },
     "execution_count": 16,
     "metadata": {
     },
     "output_type": "execute_result"
    },
    {
     "name": "stdout",
     "output_type": "stream",
     "text": [
      "(rh, ph, z) |--> (rh^2*d^2(E_phi)/drh^2 + rh^2*d^2(E_phi)/dz^2 + rh*d(E_phi)/drh - E_phi(rh, ph, z) + d^2(E_phi)/dph^2 + 2*d(E_rho)/dph)/rh^2\n",
      "3\n"
     ]
    },
    {
     "data": {
      "text/latex": [
       "$$\\left({\\rho}, {\\phi}, z\\right) \\mapsto \\frac{{\\rho}^{2} \\frac{\\partial^2\\,E_{z}}{\\partial {\\rho} ^ 2} + {\\rho}^{2} \\frac{\\partial^2\\,E_{z}}{\\partial z ^ 2} + {\\rho} \\frac{\\partial\\,E_{z}}{\\partial {\\rho}} + \\frac{\\partial^2\\,E_{z}}{\\partial {\\phi} ^ 2}}{{\\rho}^{2}}$$"
      ],
      "text/plain": [
       "<IPython.core.display.Math object>"
      ]
     },
     "execution_count": 16,
     "metadata": {
     },
     "output_type": "execute_result"
    },
    {
     "name": "stdout",
     "output_type": "stream",
     "text": [
      "(rh, ph, z) |--> (rh^2*d^2(E_z)/drh^2 + rh^2*d^2(E_z)/dz^2 + rh*d(E_z)/drh + d^2(E_z)/dph^2)/rh^2\n"
     ]
    }
   ],
   "source": [
    "for i in ES.irange():\n",
    "    print(i)\n",
    "    display(Math(latex((DE[i].display()))))\n",
    "    print(DE[i].display())"
   ]
  },
  {
   "cell_type": "code",
   "execution_count": 17,
   "metadata": {
    "collapsed": false
   },
   "outputs": [
   ],
   "source": [
    "omega = var(\"omega\")\n",
    "c = var(\"c\")\n",
    "mu = var(\"mu\")"
   ]
  },
  {
   "cell_type": "code",
   "execution_count": 18,
   "metadata": {
    "collapsed": false
   },
   "outputs": [
   ],
   "source": [
    "epsilon_rh_rh = var(\"epsilon_rh_rh\")"
   ]
  },
  {
   "cell_type": "code",
   "execution_count": 19,
   "metadata": {
    "collapsed": false
   },
   "outputs": [
   ],
   "source": [
    "epsilon_ph_ph = var(\"epsilon_ph_ph\")"
   ]
  },
  {
   "cell_type": "code",
   "execution_count": 20,
   "metadata": {
    "collapsed": false
   },
   "outputs": [
   ],
   "source": [
    "epsilon_z_z = var(\"epsilon_z_z\")"
   ]
  },
  {
   "cell_type": "code",
   "execution_count": 21,
   "metadata": {
    "collapsed": false
   },
   "outputs": [
   ],
   "source": [
    "eq_rh = (DE[1] + mu * epsilon_rh_rh * omega^2 / c^2 * E[1]).expand()"
   ]
  },
  {
   "cell_type": "code",
   "execution_count": 22,
   "metadata": {
    "collapsed": false
   },
   "outputs": [
   ],
   "source": [
    "eq_ph = (DE[2] + mu * epsilon_ph_ph * omega^2 / c^2 * E[2]).expand()"
   ]
  },
  {
   "cell_type": "code",
   "execution_count": 23,
   "metadata": {
    "collapsed": false
   },
   "outputs": [
   ],
   "source": [
    "eq_z = (DE[3] + mu * epsilon_z_z * omega^2 / c^2 * E[3]).expand()"
   ]
  },
  {
   "cell_type": "code",
   "execution_count": 80,
   "metadata": {
    "collapsed": false
   },
   "outputs": [
    {
     "data": {
      "text/html": [
       "<html><script type=\"math/tex; mode=display\">\\newcommand{\\Bold}[1]{\\mathbf{#1}}\\left({\\rho}, {\\phi}, z\\right) \\mapsto \\frac{\\epsilon_{\\mathit{rh}_{\\mathit{rh}}} \\mu \\omega^{2} E_{\\rho}\\left({\\rho}, {\\phi}, z\\right)}{c^{2}} + \\frac{\\frac{\\partial\\,E_{\\rho}}{\\partial {\\rho}}}{{\\rho}} - \\frac{E_{\\rho}\\left({\\rho}, {\\phi}, z\\right)}{{\\rho}^{2}} - \\frac{2 \\, \\frac{\\partial\\,E_{\\phi}}{\\partial {\\phi}}}{{\\rho}^{2}} + \\frac{\\frac{\\partial^2\\,E_{\\rho}}{\\partial {\\phi} ^ 2}}{{\\rho}^{2}} + \\frac{\\partial^2\\,E_{\\rho}}{\\partial {\\rho} ^ 2} + \\frac{\\partial^2\\,E_{\\rho}}{\\partial z ^ 2}</script></html>"
      ],
      "text/plain": [
       "(rh, ph, z) |--> epsilon_rh_rh*mu*omega^2*E_rho(rh, ph, z)/c^2 + d(E_rho)/drh/rh - E_rho(rh, ph, z)/rh^2 - 2*d(E_phi)/dph/rh^2 + d^2(E_rho)/dph^2/rh^2 + d^2(E_rho)/drh^2 + d^2(E_rho)/dz^2"
      ]
     },
     "execution_count": 80,
     "metadata": {
     },
     "output_type": "execute_result"
    }
   ],
   "source": [
    "eq_rh.display()"
   ]
  },
  {
   "cell_type": "code",
   "execution_count": 81,
   "metadata": {
    "collapsed": false,
    "scrolled": true
   },
   "outputs": [
    {
     "data": {
      "text/html": [
       "<html><script type=\"math/tex; mode=display\">\\newcommand{\\Bold}[1]{\\mathbf{#1}}\\left({\\rho}, {\\phi}, z\\right) \\mapsto \\frac{\\epsilon_{\\mathit{ph}_{\\mathit{ph}}} \\mu \\omega^{2} E_{\\phi}\\left({\\rho}, {\\phi}, z\\right)}{c^{2}} + \\frac{\\frac{\\partial\\,E_{\\phi}}{\\partial {\\rho}}}{{\\rho}} - \\frac{E_{\\phi}\\left({\\rho}, {\\phi}, z\\right)}{{\\rho}^{2}} + \\frac{\\frac{\\partial^2\\,E_{\\phi}}{\\partial {\\phi} ^ 2}}{{\\rho}^{2}} + \\frac{2 \\, \\frac{\\partial\\,E_{\\rho}}{\\partial {\\phi}}}{{\\rho}^{2}} + \\frac{\\partial^2\\,E_{\\phi}}{\\partial {\\rho} ^ 2} + \\frac{\\partial^2\\,E_{\\phi}}{\\partial z ^ 2}</script></html>"
      ],
      "text/plain": [
       "(rh, ph, z) |--> epsilon_ph_ph*mu*omega^2*E_phi(rh, ph, z)/c^2 + d(E_phi)/drh/rh - E_phi(rh, ph, z)/rh^2 + d^2(E_phi)/dph^2/rh^2 + 2*d(E_rho)/dph/rh^2 + d^2(E_phi)/drh^2 + d^2(E_phi)/dz^2"
      ]
     },
     "execution_count": 81,
     "metadata": {
     },
     "output_type": "execute_result"
    }
   ],
   "source": [
    "eq_ph.display()"
   ]
  },
  {
   "cell_type": "code",
   "execution_count": 82,
   "metadata": {
    "collapsed": false
   },
   "outputs": [
    {
     "data": {
      "text/html": [
       "<html><script type=\"math/tex; mode=display\">\\newcommand{\\Bold}[1]{\\mathbf{#1}}\\left({\\rho}, {\\phi}, z\\right) \\mapsto \\frac{\\epsilon_{z_{z}} \\mu \\omega^{2} E_{z}\\left({\\rho}, {\\phi}, z\\right)}{c^{2}} + \\frac{\\frac{\\partial\\,E_{z}}{\\partial {\\rho}}}{{\\rho}} + \\frac{\\frac{\\partial^2\\,E_{z}}{\\partial {\\phi} ^ 2}}{{\\rho}^{2}} + \\frac{\\partial^2\\,E_{z}}{\\partial {\\rho} ^ 2} + \\frac{\\partial^2\\,E_{z}}{\\partial z ^ 2}</script></html>"
      ],
      "text/plain": [
       "(rh, ph, z) |--> epsilon_z_z*mu*omega^2*E_z(rh, ph, z)/c^2 + d(E_z)/drh/rh + d^2(E_z)/dph^2/rh^2 + d^2(E_z)/drh^2 + d^2(E_z)/dz^2"
      ]
     },
     "execution_count": 82,
     "metadata": {
     },
     "output_type": "execute_result"
    }
   ],
   "source": [
    "eq_z.display()"
   ]
  },
  {
   "cell_type": "markdown",
   "metadata": {
    "collapsed": false
   },
   "source": [
    "desolve_laplace(eq_z,E[3],ivar=rh)"
   ]
  },
  {
   "cell_type": "code",
   "execution_count": 27,
   "metadata": {
    "collapsed": false
   },
   "outputs": [
   ],
   "source": [
    "k = var(\"k\")\n",
    "m = var(\"m\")\n",
    "# kappa_z^2 = epsilon_z_z * mu * omega^2 / c^2 - k^2\n",
    "kappa_z = var(\"kappa_z\")\n",
    "\n",
    "# kappa_rh^2 = epsilon_rh_rh * mu * omega^2 / c^2 - k^2\n",
    "kappa_rh = var(\"kappa_rh\")\n",
    "\n",
    "# kappa_ph^2 = epsilon_ph_ph * mu * omega^2 / c^2 - k^2\n",
    "kappa_ph = var(\"kappa_ph\")"
   ]
  },
  {
   "cell_type": "code",
   "execution_count": 87,
   "metadata": {
    "collapsed": false
   },
   "outputs": [
    {
     "data": {
      "text/html": [
       "<html><script type=\"math/tex; mode=display\">\\newcommand{\\Bold}[1]{\\mathbf{#1}}-k^{2} E_{z}\\left({\\rho}, {\\phi}, z\\right) + \\frac{\\epsilon_{z_{z}} \\mu \\omega^{2} E_{z}\\left({\\rho}, {\\phi}, z\\right)}{c^{2}} + \\frac{\\frac{\\partial}{\\partial {\\rho}}E_{z}\\left({\\rho}, {\\phi}, z\\right)}{{\\rho}} + \\frac{\\frac{\\partial^{2}}{(\\partial {\\phi})^{2}}E_{z}\\left({\\rho}, {\\phi}, z\\right)}{{\\rho}^{2}} + \\frac{\\partial^{2}}{(\\partial {\\rho})^{2}}E_{z}\\left({\\rho}, {\\phi}, z\\right)</script></html>"
      ],
      "text/plain": [
       "-k^2*E_z(rh, ph, z) + epsilon_z_z*mu*omega^2*E_z(rh, ph, z)/c^2 + diff(E_z(rh, ph, z), rh)/rh + diff(E_z(rh, ph, z), ph, ph)/rh^2 + diff(E_z(rh, ph, z), rh, rh)"
      ]
     },
     "execution_count": 87,
     "metadata": {
     },
     "output_type": "execute_result"
    }
   ],
   "source": [
    "eq_z_ex = eq_z.expr().subs(diff(E_z(rh, ph, z), z, z) == -k^2*E_z(rh, ph, z))\n",
    "eq_z_ex"
   ]
  },
  {
   "cell_type": "code",
   "execution_count": 85,
   "metadata": {
    "collapsed": false
   },
   "outputs": [
    {
     "data": {
      "text/html": [
       "<html><script type=\"math/tex; mode=display\">\\newcommand{\\Bold}[1]{\\mathbf{#1}}\\kappa_{z}^{2} E_{z}\\left({\\rho}, {\\phi}, z\\right) - \\frac{m^{2} E_{z}\\left({\\rho}, {\\phi}, z\\right)}{{\\rho}^{2}} + \\frac{\\frac{\\partial}{\\partial {\\rho}}E_{z}\\left({\\rho}, {\\phi}, z\\right)}{{\\rho}} + \\frac{\\partial^{2}}{(\\partial {\\rho})^{2}}E_{z}\\left({\\rho}, {\\phi}, z\\right)</script></html>"
      ],
      "text/plain": [
       "kappa_z^2*E_z(rh, ph, z) - m^2*E_z(rh, ph, z)/rh^2 + diff(E_z(rh, ph, z), rh)/rh + diff(E_z(rh, ph, z), rh, rh)"
      ]
     },
     "execution_count": 85,
     "metadata": {
     },
     "output_type": "execute_result"
    }
   ],
   "source": [
    "eq_z_ex = (eq_z_ex.subs(epsilon_z_z * mu * omega^2 * E_z(rh, ph, z) / c^2 == (kappa_z^2 + k^2) * E_z(rh, ph, z))) \\\n",
    "    .full_simplify() \\\n",
    "    .expand()\n",
    "eq_z_ex"
   ]
  },
  {
   "cell_type": "code",
   "execution_count": 86,
   "metadata": {
    "collapsed": false
   },
   "outputs": [
    {
     "data": {
      "text/html": [
       "<html><script type=\"math/tex; mode=display\">\\newcommand{\\Bold}[1]{\\mathbf{#1}}\\kappa_{z}^{2} E_{z}\\left({\\rho}, {\\phi}, z\\right) - \\frac{m^{2} E_{z}\\left({\\rho}, {\\phi}, z\\right)}{{\\rho}^{2}} + \\frac{\\frac{\\partial}{\\partial {\\rho}}E_{z}\\left({\\rho}, {\\phi}, z\\right)}{{\\rho}} + \\frac{\\partial^{2}}{(\\partial {\\rho})^{2}}E_{z}\\left({\\rho}, {\\phi}, z\\right)</script></html>"
      ],
      "text/plain": [
       "kappa_z^2*E_z(rh, ph, z) - m^2*E_z(rh, ph, z)/rh^2 + diff(E_z(rh, ph, z), rh)/rh + diff(E_z(rh, ph, z), rh, rh)"
      ]
     },
     "execution_count": 86,
     "metadata": {
     },
     "output_type": "execute_result"
    }
   ],
   "source": [
    "eq_z_ex = eq_z_ex.subs(diff(E_z(rh, ph, z), ph, ph) == -m^2*E_z(rh, ph, z))\n",
    "eq_z_ex"
   ]
  },
  {
   "cell_type": "code",
   "execution_count": 31,
   "metadata": {
    "collapsed": false
   },
   "outputs": [
   ],
   "source": [
    "psi_m = var(\"psi_m\")"
   ]
  },
  {
   "cell_type": "markdown",
   "metadata": {
    "collapsed": false
   },
   "source": [
    "desolve(eq_z_ex == 0, E_z(rh, ph, z), ivar=rh, contrib_ode=True)"
   ]
  },
  {
   "cell_type": "markdown",
   "metadata": {
    "collapsed": false
   },
   "source": [
    "E_z(rh, ph, z) = E_z(rh, ph, z)"
   ]
  },
  {
   "cell_type": "code",
   "execution_count": 32,
   "metadata": {
    "collapsed": false
   },
   "outputs": [
   ],
   "source": [
    "E_sol_z(rh, ph, z) = bessel_J(m, kappa_z * rh)*sin(m * ph + psi_m) * exp(-I*k*z)"
   ]
  },
  {
   "cell_type": "code",
   "execution_count": 33,
   "metadata": {
    "collapsed": false
   },
   "outputs": [
    {
     "data": {
      "text/html": [
       "<html><script type=\"math/tex; mode=display\">\\newcommand{\\Bold}[1]{\\mathbf{#1}}J_{m}(\\kappa_{z} {\\rho}) e^{\\left(-i \\, k z\\right)} \\sin\\left(m {\\phi} + \\psi_{m}\\right)</script></html>"
      ],
      "text/plain": [
       "bessel_J(m, kappa_z*rh)*e^(-I*k*z)*sin(m*ph + psi_m)"
      ]
     },
     "execution_count": 33,
     "metadata": {
     },
     "output_type": "execute_result"
    }
   ],
   "source": [
    "E_sol_z(rh, ph, z)"
   ]
  },
  {
   "cell_type": "code",
   "execution_count": 36,
   "metadata": {
    "collapsed": false
   },
   "outputs": [
   ],
   "source": [
    "eq_z_sol = laplacian(E_sol_z_field) + mu * epsilon_z_z * omega^2 / c^2 * E_sol_z_field"
   ]
  },
  {
   "cell_type": "code",
   "execution_count": 89,
   "metadata": {
    "collapsed": false
   },
   "outputs": [
    {
     "data": {
      "text/html": [
       "<html><script type=\"math/tex; mode=display\">\\newcommand{\\Bold}[1]{\\mathbf{#1}}0</script></html>"
      ],
      "text/plain": [
       "0"
      ]
     },
     "execution_count": 89,
     "metadata": {
     },
     "output_type": "execute_result"
    }
   ],
   "source": [
    "eq_z_sol.expr().subs(m == 0, psi_m == 0)"
   ]
  },
  {
   "cell_type": "code",
   "execution_count": 37,
   "metadata": {
    "collapsed": false
   },
   "outputs": [
    {
     "data": {
      "text/html": [
       "<html><script type=\"math/tex; mode=display\">\\newcommand{\\Bold}[1]{\\mathbf{#1}}\\frac{1}{4} \\, \\kappa_{z}^{2} J_{3}(\\kappa_{z} {\\rho}) e^{\\left(-i \\, k z\\right)} \\sin\\left({\\phi}\\right) - k^{2} J_{1}(\\kappa_{z} {\\rho}) e^{\\left(-i \\, k z\\right)} \\sin\\left({\\phi}\\right) - \\frac{3}{4} \\, \\kappa_{z}^{2} J_{1}(\\kappa_{z} {\\rho}) e^{\\left(-i \\, k z\\right)} \\sin\\left({\\phi}\\right) + \\frac{\\epsilon_{z_{z}} \\mu \\omega^{2} J_{1}(\\kappa_{z} {\\rho}) e^{\\left(-i \\, k z\\right)} \\sin\\left({\\phi}\\right)}{c^{2}} - \\frac{\\kappa_{z} J_{2}(\\kappa_{z} {\\rho}) e^{\\left(-i \\, k z\\right)} \\sin\\left({\\phi}\\right)}{2 \\, {\\rho}} + \\frac{\\kappa_{z} J_{0}(\\kappa_{z} {\\rho}) e^{\\left(-i \\, k z\\right)} \\sin\\left({\\phi}\\right)}{2 \\, {\\rho}} - \\frac{J_{1}(\\kappa_{z} {\\rho}) e^{\\left(-i \\, k z\\right)} \\sin\\left({\\phi}\\right)}{{\\rho}^{2}}</script></html>"
      ],
      "text/plain": [
       "1/4*kappa_z^2*bessel_J(3, kappa_z*rh)*e^(-I*k*z)*sin(ph) - k^2*bessel_J(1, kappa_z*rh)*e^(-I*k*z)*sin(ph) - 3/4*kappa_z^2*bessel_J(1, kappa_z*rh)*e^(-I*k*z)*sin(ph) + epsilon_z_z*mu*omega^2*bessel_J(1, kappa_z*rh)*e^(-I*k*z)*sin(ph)/c^2 - 1/2*kappa_z*bessel_J(2, kappa_z*rh)*e^(-I*k*z)*sin(ph)/rh + 1/2*kappa_z*bessel_J(0, kappa_z*rh)*e^(-I*k*z)*sin(ph)/rh - bessel_J(1, kappa_z*rh)*e^(-I*k*z)*sin(ph)/rh^2"
      ]
     },
     "execution_count": 37,
     "metadata": {
     },
     "output_type": "execute_result"
    }
   ],
   "source": [
    "eq_z_sol.expr().subs(m == 1, psi_m == 0).full_simplify().expand()"
   ]
  },
  {
   "cell_type": "code",
   "execution_count": 38,
   "metadata": {
    "collapsed": false
   },
   "outputs": [
    {
     "data": {
      "text/html": [
       "<html><script type=\"math/tex; mode=display\">\\newcommand{\\Bold}[1]{\\mathbf{#1}}\\frac{\\epsilon_{\\mathit{rh}_{\\mathit{rh}}} \\mu \\omega^{2} E_{\\rho}\\left({\\rho}, {\\phi}, z\\right)}{c^{2}} + \\frac{\\frac{\\partial}{\\partial {\\rho}}E_{\\rho}\\left({\\rho}, {\\phi}, z\\right)}{{\\rho}} - \\frac{E_{\\rho}\\left({\\rho}, {\\phi}, z\\right)}{{\\rho}^{2}} - \\frac{2 \\, \\frac{\\partial}{\\partial {\\phi}}E_{\\phi}\\left({\\rho}, {\\phi}, z\\right)}{{\\rho}^{2}} + \\frac{\\frac{\\partial^{2}}{(\\partial {\\phi})^{2}}E_{\\rho}\\left({\\rho}, {\\phi}, z\\right)}{{\\rho}^{2}} + \\frac{\\partial^{2}}{(\\partial {\\rho})^{2}}E_{\\rho}\\left({\\rho}, {\\phi}, z\\right) + \\frac{\\partial^{2}}{(\\partial z)^{2}}E_{\\rho}\\left({\\rho}, {\\phi}, z\\right)</script></html>"
      ],
      "text/plain": [
       "epsilon_rh_rh*mu*omega^2*E_rho(rh, ph, z)/c^2 + diff(E_rho(rh, ph, z), rh)/rh - E_rho(rh, ph, z)/rh^2 - 2*diff(E_phi(rh, ph, z), ph)/rh^2 + diff(E_rho(rh, ph, z), ph, ph)/rh^2 + diff(E_rho(rh, ph, z), rh, rh) + diff(E_rho(rh, ph, z), z, z)"
      ]
     },
     "execution_count": 38,
     "metadata": {
     },
     "output_type": "execute_result"
    }
   ],
   "source": [
    "eq_rh.expr()"
   ]
  },
  {
   "cell_type": "code",
   "execution_count": 90,
   "metadata": {
    "collapsed": false
   },
   "outputs": [
    {
     "data": {
      "text/html": [
       "<html><script type=\"math/tex; mode=display\">\\newcommand{\\Bold}[1]{\\mathbf{#1}}-k^{2} E_{\\rho}\\left({\\rho}, {\\phi}, z\\right) + \\frac{\\epsilon_{\\mathit{rh}_{\\mathit{rh}}} \\mu \\omega^{2} E_{\\rho}\\left({\\rho}, {\\phi}, z\\right)}{c^{2}} + \\frac{\\frac{\\partial}{\\partial {\\rho}}E_{\\rho}\\left({\\rho}, {\\phi}, z\\right)}{{\\rho}} - \\frac{E_{\\rho}\\left({\\rho}, {\\phi}, z\\right)}{{\\rho}^{2}} - \\frac{2 \\, \\frac{\\partial}{\\partial {\\phi}}E_{\\phi}\\left({\\rho}, {\\phi}, z\\right)}{{\\rho}^{2}} + \\frac{\\frac{\\partial^{2}}{(\\partial {\\phi})^{2}}E_{\\rho}\\left({\\rho}, {\\phi}, z\\right)}{{\\rho}^{2}} + \\frac{\\partial^{2}}{(\\partial {\\rho})^{2}}E_{\\rho}\\left({\\rho}, {\\phi}, z\\right)</script></html>"
      ],
      "text/plain": [
       "-k^2*E_rho(rh, ph, z) + epsilon_rh_rh*mu*omega^2*E_rho(rh, ph, z)/c^2 + diff(E_rho(rh, ph, z), rh)/rh - E_rho(rh, ph, z)/rh^2 - 2*diff(E_phi(rh, ph, z), ph)/rh^2 + diff(E_rho(rh, ph, z), ph, ph)/rh^2 + diff(E_rho(rh, ph, z), rh, rh)"
      ]
     },
     "execution_count": 90,
     "metadata": {
     },
     "output_type": "execute_result"
    }
   ],
   "source": [
    "eq_rh_ex = eq_rh.expr().subs(diff(E_rho(rh, ph, z), z, z) == -k^2*E_rho(rh, ph, z))\n",
    "eq_rh_ex"
   ]
  },
  {
   "cell_type": "code",
   "execution_count": 91,
   "metadata": {
    "collapsed": false
   },
   "outputs": [
    {
     "data": {
      "text/html": [
       "<html><script type=\"math/tex; mode=display\">\\newcommand{\\Bold}[1]{\\mathbf{#1}}\\kappa_{\\mathit{rh}}^{2} E_{\\rho}\\left({\\rho}, {\\phi}, z\\right) + \\frac{\\frac{\\partial}{\\partial {\\rho}}E_{\\rho}\\left({\\rho}, {\\phi}, z\\right)}{{\\rho}} - \\frac{E_{\\rho}\\left({\\rho}, {\\phi}, z\\right)}{{\\rho}^{2}} - \\frac{2 \\, \\frac{\\partial}{\\partial {\\phi}}E_{\\phi}\\left({\\rho}, {\\phi}, z\\right)}{{\\rho}^{2}} + \\frac{\\frac{\\partial^{2}}{(\\partial {\\phi})^{2}}E_{\\rho}\\left({\\rho}, {\\phi}, z\\right)}{{\\rho}^{2}} + \\frac{\\partial^{2}}{(\\partial {\\rho})^{2}}E_{\\rho}\\left({\\rho}, {\\phi}, z\\right)</script></html>"
      ],
      "text/plain": [
       "kappa_rh^2*E_rho(rh, ph, z) + diff(E_rho(rh, ph, z), rh)/rh - E_rho(rh, ph, z)/rh^2 - 2*diff(E_phi(rh, ph, z), ph)/rh^2 + diff(E_rho(rh, ph, z), ph, ph)/rh^2 + diff(E_rho(rh, ph, z), rh, rh)"
      ]
     },
     "execution_count": 91,
     "metadata": {
     },
     "output_type": "execute_result"
    }
   ],
   "source": [
    "eq_rh_ex = (eq_rh_ex.subs(epsilon_rh_rh * mu * omega^2 * E_rho(rh, ph, z) / c^2 == (kappa_rh^2 + k^2) * E_rho(rh, ph, z))).full_simplify().expand()\n",
    "eq_rh_ex"
   ]
  },
  {
   "cell_type": "code",
   "execution_count": 92,
   "metadata": {
    "collapsed": false
   },
   "outputs": [
    {
     "data": {
      "text/html": [
       "<html><script type=\"math/tex; mode=display\">\\newcommand{\\Bold}[1]{\\mathbf{#1}}\\kappa_{\\mathit{rh}}^{2} E_{\\rho}\\left({\\rho}, {\\phi}, z\\right) - \\frac{m^{2} E_{\\rho}\\left({\\rho}, {\\phi}, z\\right)}{{\\rho}^{2}} + \\frac{\\frac{\\partial}{\\partial {\\rho}}E_{\\rho}\\left({\\rho}, {\\phi}, z\\right)}{{\\rho}} - \\frac{E_{\\rho}\\left({\\rho}, {\\phi}, z\\right)}{{\\rho}^{2}} - \\frac{2 \\, \\frac{\\partial}{\\partial {\\phi}}E_{\\phi}\\left({\\rho}, {\\phi}, z\\right)}{{\\rho}^{2}} + \\frac{\\partial^{2}}{(\\partial {\\rho})^{2}}E_{\\rho}\\left({\\rho}, {\\phi}, z\\right)</script></html>"
      ],
      "text/plain": [
       "kappa_rh^2*E_rho(rh, ph, z) - m^2*E_rho(rh, ph, z)/rh^2 + diff(E_rho(rh, ph, z), rh)/rh - E_rho(rh, ph, z)/rh^2 - 2*diff(E_phi(rh, ph, z), ph)/rh^2 + diff(E_rho(rh, ph, z), rh, rh)"
      ]
     },
     "execution_count": 92,
     "metadata": {
     },
     "output_type": "execute_result"
    }
   ],
   "source": [
    "eq_rh_ex = eq_rh_ex.subs(diff(E_rho(rh, ph, z), ph, ph) == -m^2*E_rho(rh, ph, z))\n",
    "eq_rh_ex"
   ]
  },
  {
   "cell_type": "code",
   "execution_count": 42,
   "metadata": {
    "collapsed": false
   },
   "outputs": [
    {
     "data": {
      "text/html": [
       "<html><script type=\"math/tex; mode=display\">\\newcommand{\\Bold}[1]{\\mathbf{#1}}\\frac{\\epsilon_{\\mathit{ph}_{\\mathit{ph}}} \\mu \\omega^{2} E_{\\phi}\\left({\\rho}, {\\phi}, z\\right)}{c^{2}} + \\frac{\\frac{\\partial}{\\partial {\\rho}}E_{\\phi}\\left({\\rho}, {\\phi}, z\\right)}{{\\rho}} - \\frac{E_{\\phi}\\left({\\rho}, {\\phi}, z\\right)}{{\\rho}^{2}} + \\frac{\\frac{\\partial^{2}}{(\\partial {\\phi})^{2}}E_{\\phi}\\left({\\rho}, {\\phi}, z\\right)}{{\\rho}^{2}} + \\frac{2 \\, \\frac{\\partial}{\\partial {\\phi}}E_{\\rho}\\left({\\rho}, {\\phi}, z\\right)}{{\\rho}^{2}} + \\frac{\\partial^{2}}{(\\partial {\\rho})^{2}}E_{\\phi}\\left({\\rho}, {\\phi}, z\\right) + \\frac{\\partial^{2}}{(\\partial z)^{2}}E_{\\phi}\\left({\\rho}, {\\phi}, z\\right)</script></html>"
      ],
      "text/plain": [
       "epsilon_ph_ph*mu*omega^2*E_phi(rh, ph, z)/c^2 + diff(E_phi(rh, ph, z), rh)/rh - E_phi(rh, ph, z)/rh^2 + diff(E_phi(rh, ph, z), ph, ph)/rh^2 + 2*diff(E_rho(rh, ph, z), ph)/rh^2 + diff(E_phi(rh, ph, z), rh, rh) + diff(E_phi(rh, ph, z), z, z)"
      ]
     },
     "execution_count": 42,
     "metadata": {
     },
     "output_type": "execute_result"
    }
   ],
   "source": [
    "eq_ph.expr()"
   ]
  },
  {
   "cell_type": "code",
   "execution_count": 93,
   "metadata": {
    "collapsed": false
   },
   "outputs": [
    {
     "data": {
      "text/html": [
       "<html><script type=\"math/tex; mode=display\">\\newcommand{\\Bold}[1]{\\mathbf{#1}}-k^{2} E_{\\phi}\\left({\\rho}, {\\phi}, z\\right) + \\frac{\\epsilon_{\\mathit{ph}_{\\mathit{ph}}} \\mu \\omega^{2} E_{\\phi}\\left({\\rho}, {\\phi}, z\\right)}{c^{2}} + \\frac{\\frac{\\partial}{\\partial {\\rho}}E_{\\phi}\\left({\\rho}, {\\phi}, z\\right)}{{\\rho}} - \\frac{E_{\\phi}\\left({\\rho}, {\\phi}, z\\right)}{{\\rho}^{2}} + \\frac{\\frac{\\partial^{2}}{(\\partial {\\phi})^{2}}E_{\\phi}\\left({\\rho}, {\\phi}, z\\right)}{{\\rho}^{2}} + \\frac{2 \\, \\frac{\\partial}{\\partial {\\phi}}E_{\\rho}\\left({\\rho}, {\\phi}, z\\right)}{{\\rho}^{2}} + \\frac{\\partial^{2}}{(\\partial {\\rho})^{2}}E_{\\phi}\\left({\\rho}, {\\phi}, z\\right)</script></html>"
      ],
      "text/plain": [
       "-k^2*E_phi(rh, ph, z) + epsilon_ph_ph*mu*omega^2*E_phi(rh, ph, z)/c^2 + diff(E_phi(rh, ph, z), rh)/rh - E_phi(rh, ph, z)/rh^2 + diff(E_phi(rh, ph, z), ph, ph)/rh^2 + 2*diff(E_rho(rh, ph, z), ph)/rh^2 + diff(E_phi(rh, ph, z), rh, rh)"
      ]
     },
     "execution_count": 93,
     "metadata": {
     },
     "output_type": "execute_result"
    }
   ],
   "source": [
    "eq_ph_ex = eq_ph.expr().subs(diff(E_phi(rh, ph, z), z, z) == -k^2*E_phi(rh, ph, z))\n",
    "eq_ph_ex"
   ]
  },
  {
   "cell_type": "code",
   "execution_count": 94,
   "metadata": {
    "collapsed": false
   },
   "outputs": [
    {
     "data": {
      "text/html": [
       "<html><script type=\"math/tex; mode=display\">\\newcommand{\\Bold}[1]{\\mathbf{#1}}\\kappa_{\\mathit{ph}}^{2} E_{\\phi}\\left({\\rho}, {\\phi}, z\\right) + \\frac{\\frac{\\partial}{\\partial {\\rho}}E_{\\phi}\\left({\\rho}, {\\phi}, z\\right)}{{\\rho}} - \\frac{E_{\\phi}\\left({\\rho}, {\\phi}, z\\right)}{{\\rho}^{2}} + \\frac{\\frac{\\partial^{2}}{(\\partial {\\phi})^{2}}E_{\\phi}\\left({\\rho}, {\\phi}, z\\right)}{{\\rho}^{2}} + \\frac{2 \\, \\frac{\\partial}{\\partial {\\phi}}E_{\\rho}\\left({\\rho}, {\\phi}, z\\right)}{{\\rho}^{2}} + \\frac{\\partial^{2}}{(\\partial {\\rho})^{2}}E_{\\phi}\\left({\\rho}, {\\phi}, z\\right)</script></html>"
      ],
      "text/plain": [
       "kappa_ph^2*E_phi(rh, ph, z) + diff(E_phi(rh, ph, z), rh)/rh - E_phi(rh, ph, z)/rh^2 + diff(E_phi(rh, ph, z), ph, ph)/rh^2 + 2*diff(E_rho(rh, ph, z), ph)/rh^2 + diff(E_phi(rh, ph, z), rh, rh)"
      ]
     },
     "execution_count": 94,
     "metadata": {
     },
     "output_type": "execute_result"
    }
   ],
   "source": [
    "eq_ph_ex = (eq_ph_ex.subs(epsilon_ph_ph * mu * omega^2 * E_phi(rh, ph, z) / c^2 == (kappa_ph^2 + k^2) * E_phi(rh, ph, z))).full_simplify().expand()\n",
    "eq_ph_ex"
   ]
  },
  {
   "cell_type": "code",
   "execution_count": 95,
   "metadata": {
    "collapsed": false
   },
   "outputs": [
    {
     "data": {
      "text/html": [
       "<html><script type=\"math/tex; mode=display\">\\newcommand{\\Bold}[1]{\\mathbf{#1}}\\kappa_{\\mathit{ph}}^{2} E_{\\phi}\\left({\\rho}, {\\phi}, z\\right) - \\frac{m^{2} E_{\\phi}\\left({\\rho}, {\\phi}, z\\right)}{{\\rho}^{2}} + \\frac{\\frac{\\partial}{\\partial {\\rho}}E_{\\phi}\\left({\\rho}, {\\phi}, z\\right)}{{\\rho}} - \\frac{E_{\\phi}\\left({\\rho}, {\\phi}, z\\right)}{{\\rho}^{2}} + \\frac{2 \\, \\frac{\\partial}{\\partial {\\phi}}E_{\\rho}\\left({\\rho}, {\\phi}, z\\right)}{{\\rho}^{2}} + \\frac{\\partial^{2}}{(\\partial {\\rho})^{2}}E_{\\phi}\\left({\\rho}, {\\phi}, z\\right)</script></html>"
      ],
      "text/plain": [
       "kappa_ph^2*E_phi(rh, ph, z) - m^2*E_phi(rh, ph, z)/rh^2 + diff(E_phi(rh, ph, z), rh)/rh - E_phi(rh, ph, z)/rh^2 + 2*diff(E_rho(rh, ph, z), ph)/rh^2 + diff(E_phi(rh, ph, z), rh, rh)"
      ]
     },
     "execution_count": 95,
     "metadata": {
     },
     "output_type": "execute_result"
    }
   ],
   "source": [
    "eq_ph_ex = eq_ph_ex.subs(diff(E_phi(rh, ph, z), ph, ph) == -m^2*E_phi(rh, ph, z))\n",
    "eq_ph_ex"
   ]
  },
  {
   "cell_type": "code",
   "execution_count": 96,
   "metadata": {
    "collapsed": false
   },
   "outputs": [
    {
     "data": {
      "text/html": [
       "<html><script type=\"math/tex; mode=display\">\\newcommand{\\Bold}[1]{\\mathbf{#1}}\\kappa_{\\mathit{rh}}^{2} E_{\\rho}\\left({\\rho}, {\\phi}, z\\right) - \\frac{m^{2} E_{\\rho}\\left({\\rho}, {\\phi}, z\\right)}{{\\rho}^{2}} + \\frac{\\frac{\\partial}{\\partial {\\rho}}E_{\\rho}\\left({\\rho}, {\\phi}, z\\right)}{{\\rho}} - \\frac{E_{\\rho}\\left({\\rho}, {\\phi}, z\\right)}{{\\rho}^{2}} - \\frac{2 \\, \\frac{\\partial}{\\partial {\\phi}}E_{\\phi}\\left({\\rho}, {\\phi}, z\\right)}{{\\rho}^{2}} + \\frac{\\partial^{2}}{(\\partial {\\rho})^{2}}E_{\\rho}\\left({\\rho}, {\\phi}, z\\right)</script></html>"
      ],
      "text/plain": [
       "kappa_rh^2*E_rho(rh, ph, z) - m^2*E_rho(rh, ph, z)/rh^2 + diff(E_rho(rh, ph, z), rh)/rh - E_rho(rh, ph, z)/rh^2 - 2*diff(E_phi(rh, ph, z), ph)/rh^2 + diff(E_rho(rh, ph, z), rh, rh)"
      ]
     },
     "execution_count": 96,
     "metadata": {
     },
     "output_type": "execute_result"
    }
   ],
   "source": [
    "eq_rh_ex"
   ]
  },
  {
   "cell_type": "code",
   "execution_count": 47,
   "metadata": {
    "collapsed": false
   },
   "outputs": [
    {
     "data": {
      "text/html": [
       "<html><script type=\"math/tex; mode=display\">\\newcommand{\\Bold}[1]{\\mathbf{#1}}\\left[\\kappa_{\\mathit{ph}}^{2} E_{\\phi}\\left({\\rho}, {\\phi}, z\\right), -\\frac{m^{2} E_{\\phi}\\left({\\rho}, {\\phi}, z\\right)}{{\\rho}^{2}}, \\frac{\\frac{\\partial}{\\partial {\\rho}}E_{\\phi}\\left({\\rho}, {\\phi}, z\\right)}{{\\rho}}, -\\frac{E_{\\phi}\\left({\\rho}, {\\phi}, z\\right)}{{\\rho}^{2}}, \\frac{2 \\, \\frac{\\partial}{\\partial {\\phi}}E_{\\rho}\\left({\\rho}, {\\phi}, z\\right)}{{\\rho}^{2}}, \\frac{\\partial^{2}}{(\\partial {\\rho})^{2}}E_{\\phi}\\left({\\rho}, {\\phi}, z\\right)\\right]</script></html>"
      ],
      "text/plain": [
       "[kappa_ph^2*E_phi(rh, ph, z),\n",
       " -m^2*E_phi(rh, ph, z)/rh^2,\n",
       " diff(E_phi(rh, ph, z), rh)/rh,\n",
       " -E_phi(rh, ph, z)/rh^2,\n",
       " 2*diff(E_rho(rh, ph, z), ph)/rh^2,\n",
       " diff(E_phi(rh, ph, z), rh, rh)]"
      ]
     },
     "execution_count": 47,
     "metadata": {
     },
     "output_type": "execute_result"
    }
   ],
   "source": [
    "eq_ph_ex.operands()"
   ]
  },
  {
   "cell_type": "code",
   "execution_count": 48,
   "metadata": {
    "collapsed": false
   },
   "outputs": [
    {
     "data": {
      "text/html": [
       "<html><script type=\"math/tex; mode=display\">\\newcommand{\\Bold}[1]{\\mathbf{#1}}\\kappa_{\\mathit{rh}}^{2} E_{\\rho}\\left({\\rho}, {\\phi}, z\\right) - \\frac{m^{2} E_{\\rho}\\left({\\rho}, {\\phi}, z\\right)}{{\\rho}^{2}} + \\frac{\\frac{\\partial}{\\partial {\\rho}}E_{\\rho}\\left({\\rho}, {\\phi}, z\\right)}{{\\rho}} + \\frac{\\partial^{2}}{(\\partial {\\rho})^{2}}E_{\\rho}\\left({\\rho}, {\\phi}, z\\right)</script></html>"
      ],
      "text/plain": [
       "kappa_rh^2*E_rho(rh, ph, z) - m^2*E_rho(rh, ph, z)/rh^2 + diff(E_rho(rh, ph, z), rh)/rh + diff(E_rho(rh, ph, z), rh, rh)"
      ]
     },
     "execution_count": 48,
     "metadata": {
     },
     "output_type": "execute_result"
    }
   ],
   "source": [
    "eq_rh_ex.operands()[5] + eq_rh_ex.operands()[2] + eq_rh_ex.operands()[0] + eq_rh_ex.operands()[1]"
   ]
  },
  {
   "cell_type": "code",
   "execution_count": 49,
   "metadata": {
    "collapsed": false
   },
   "outputs": [
    {
     "data": {
      "text/html": [
       "<html><script type=\"math/tex; mode=display\">\\newcommand{\\Bold}[1]{\\mathbf{#1}}\\kappa_{\\mathit{ph}}^{2} E_{\\phi}\\left({\\rho}, {\\phi}, z\\right) - \\frac{m^{2} E_{\\phi}\\left({\\rho}, {\\phi}, z\\right)}{{\\rho}^{2}} + \\frac{\\frac{\\partial}{\\partial {\\rho}}E_{\\phi}\\left({\\rho}, {\\phi}, z\\right)}{{\\rho}} + \\frac{\\partial^{2}}{(\\partial {\\rho})^{2}}E_{\\phi}\\left({\\rho}, {\\phi}, z\\right)</script></html>"
      ],
      "text/plain": [
       "kappa_ph^2*E_phi(rh, ph, z) - m^2*E_phi(rh, ph, z)/rh^2 + diff(E_phi(rh, ph, z), rh)/rh + diff(E_phi(rh, ph, z), rh, rh)"
      ]
     },
     "execution_count": 49,
     "metadata": {
     },
     "output_type": "execute_result"
    }
   ],
   "source": [
    "eq_ph_ex.operands()[5] + eq_ph_ex.operands()[2] + eq_ph_ex.operands()[0] + eq_ph_ex.operands()[1]"
   ]
  },
  {
   "cell_type": "code",
   "execution_count": 50,
   "metadata": {
    "collapsed": false
   },
   "outputs": [
   ],
   "source": [
    "def bessel_J_diff(m, arg):\n",
    "    return bessel_J(m, x).diff(x).subs(x == arg)"
   ]
  },
  {
   "cell_type": "code",
   "execution_count": 51,
   "metadata": {
    "collapsed": false
   },
   "outputs": [
   ],
   "source": [
    "E_sol_rh(rh, ph, z) = - k / kappa_rh * bessel_J_diff(m, kappa_rh * rh)*sin(m * ph + psi_m)*exp(-I*k*z)"
   ]
  },
  {
   "cell_type": "code",
   "execution_count": 52,
   "metadata": {
    "collapsed": false
   },
   "outputs": [
   ],
   "source": [
    "E_sol_ph(rh, ph, z) = -m * k / kappa_ph^2 / rh * bessel_J(m, kappa_ph * rh)*cos(m * ph + psi_m)*exp(-I*k*z)"
   ]
  },
  {
   "cell_type": "code",
   "execution_count": 53,
   "metadata": {
    "collapsed": false
   },
   "outputs": [
    {
     "data": {
      "text/html": [
       "<html><script type=\"math/tex; mode=display\">\\newcommand{\\Bold}[1]{\\mathbf{#1}}\\frac{k {\\left(J_{m + 1}(\\kappa_{\\mathit{rh}} {\\rho}) - J_{m - 1}(\\kappa_{\\mathit{rh}} {\\rho})\\right)} e^{\\left(-i \\, k z\\right)} \\sin\\left(m {\\phi} + \\psi_{m}\\right)}{2 \\, \\kappa_{\\mathit{rh}}}</script></html>"
      ],
      "text/plain": [
       "1/2*k*(bessel_J(m + 1, kappa_rh*rh) - bessel_J(m - 1, kappa_rh*rh))*e^(-I*k*z)*sin(m*ph + psi_m)/kappa_rh"
      ]
     },
     "execution_count": 53,
     "metadata": {
     },
     "output_type": "execute_result"
    }
   ],
   "source": [
    "E_sol_rh(rh, ph, z)"
   ]
  },
  {
   "cell_type": "code",
   "execution_count": 54,
   "metadata": {
    "collapsed": false
   },
   "outputs": [
    {
     "data": {
      "text/html": [
       "<html><script type=\"math/tex; mode=display\">\\newcommand{\\Bold}[1]{\\mathbf{#1}}-\\frac{k m J_{m}(\\kappa_{\\mathit{ph}} {\\rho}) \\cos\\left(m {\\phi} + \\psi_{m}\\right) e^{\\left(-i \\, k z\\right)}}{\\kappa_{\\mathit{ph}}^{2} {\\rho}}</script></html>"
      ],
      "text/plain": [
       "-k*m*bessel_J(m, kappa_ph*rh)*cos(m*ph + psi_m)*e^(-I*k*z)/(kappa_ph^2*rh)"
      ]
     },
     "execution_count": 54,
     "metadata": {
     },
     "output_type": "execute_result"
    }
   ],
   "source": [
    "E_sol_ph(rh, ph, z)"
   ]
  },
  {
   "cell_type": "code",
   "execution_count": 55,
   "metadata": {
    "collapsed": false
   },
   "outputs": [
    {
     "data": {
      "text/html": [
       "<html><script type=\"math/tex; mode=display\">\\newcommand{\\Bold}[1]{\\mathbf{#1}}-E_{\\rho}\\left({\\rho}, {\\phi}, z\\right) - 2 \\, \\frac{\\partial}{\\partial {\\phi}}E_{\\phi}\\left({\\rho}, {\\phi}, z\\right) = 0</script></html>"
      ],
      "text/plain": [
       "-E_rho(rh, ph, z) - 2*diff(E_phi(rh, ph, z), ph) == 0"
      ]
     },
     "execution_count": 55,
     "metadata": {
     },
     "output_type": "execute_result"
    }
   ],
   "source": [
    "((eq_rh_ex.operands()[3] + eq_rh_ex.operands()[4])*rh^2).full_simplify() == 0"
   ]
  },
  {
   "cell_type": "code",
   "execution_count": 56,
   "metadata": {
    "collapsed": false
   },
   "outputs": [
    {
     "data": {
      "text/html": [
       "<html><script type=\"math/tex; mode=display\">\\newcommand{\\Bold}[1]{\\mathbf{#1}}-E_{\\phi}\\left({\\rho}, {\\phi}, z\\right) + 2 \\, \\frac{\\partial}{\\partial {\\phi}}E_{\\rho}\\left({\\rho}, {\\phi}, z\\right) = 0</script></html>"
      ],
      "text/plain": [
       "-E_phi(rh, ph, z) + 2*diff(E_rho(rh, ph, z), ph) == 0"
      ]
     },
     "execution_count": 56,
     "metadata": {
     },
     "output_type": "execute_result"
    }
   ],
   "source": [
    "((eq_ph_ex.operands()[3] + eq_ph_ex.operands()[4])*rh^2).full_simplify() == 0"
   ]
  },
  {
   "cell_type": "code",
   "execution_count": 57,
   "metadata": {
    "collapsed": false
   },
   "outputs": [
    {
     "data": {
      "text/html": [
       "<html><script type=\"math/tex; mode=display\">\\newcommand{\\Bold}[1]{\\mathbf{#1}}\\frac{J_{m + 1}(\\kappa_{\\mathit{rh}} {\\rho})}{2 \\, \\kappa_{\\mathit{rh}}} - \\frac{J_{m - 1}(\\kappa_{\\mathit{rh}} {\\rho})}{2 \\, \\kappa_{\\mathit{rh}}} + \\frac{2 \\, m^{2} J_{m}(\\kappa_{\\mathit{ph}} {\\rho})}{\\kappa_{\\mathit{ph}}^{2} {\\rho}}</script></html>"
      ],
      "text/plain": [
       "1/2*bessel_J(m + 1, kappa_rh*rh)/kappa_rh - 1/2*bessel_J(m - 1, kappa_rh*rh)/kappa_rh + 2*m^2*bessel_J(m, kappa_ph*rh)/(kappa_ph^2*rh)"
      ]
     },
     "execution_count": 57,
     "metadata": {
     },
     "output_type": "execute_result"
    }
   ],
   "source": [
    "((E_sol_rh(rh, ph, z) + 2*E_sol_ph(rh, ph, z).diff(ph))/sin(m * ph + psi_m)/exp(-I*k*z)/k).full_simplify().expand()"
   ]
  },
  {
   "cell_type": "code",
   "execution_count": 58,
   "metadata": {
    "collapsed": false
   },
   "outputs": [
    {
     "data": {
      "text/html": [
       "<html><script type=\"math/tex; mode=display\">\\newcommand{\\Bold}[1]{\\mathbf{#1}}\\frac{J_{m + 1}(\\kappa_{\\mathit{rh}} {\\rho})}{\\kappa_{\\mathit{rh}}} - \\frac{J_{m - 1}(\\kappa_{\\mathit{rh}} {\\rho})}{\\kappa_{\\mathit{rh}}} + \\frac{J_{m}(\\kappa_{\\mathit{ph}} {\\rho})}{\\kappa_{\\mathit{ph}}^{2} {\\rho}}</script></html>"
      ],
      "text/plain": [
       "bessel_J(m + 1, kappa_rh*rh)/kappa_rh - bessel_J(m - 1, kappa_rh*rh)/kappa_rh + bessel_J(m, kappa_ph*rh)/(kappa_ph^2*rh)"
      ]
     },
     "execution_count": 58,
     "metadata": {
     },
     "output_type": "execute_result"
    }
   ],
   "source": [
    "((2*E_sol_rh(rh, ph, z).diff(ph) - E_sol_ph(rh, ph, z))/cos(m * ph + psi_m)/exp(-I*k*z)/k/m).full_simplify().expand()"
   ]
  },
  {
   "cell_type": "code",
   "execution_count": 67,
   "metadata": {
    "collapsed": false
   },
   "outputs": [
   ],
   "source": [
    "E_sol = ES.vector_field(\n",
    "    E_sol_rh(rh, ph, z),\n",
    "    E_sol_ph(rh, ph, z),\n",
    "    E_sol_z(rh, ph, z),\n",
    "    name='E_sol')"
   ]
  },
  {
   "cell_type": "code",
   "execution_count": 68,
   "metadata": {
    "collapsed": false
   },
   "outputs": [
    {
     "data": {
      "text/html": [
       "<html><script type=\"math/tex; mode=display\">\\newcommand{\\Bold}[1]{\\mathbf{#1}}E_sol = \\frac{k {\\left(J_{m + 1}(\\kappa_{\\mathit{rh}} {\\rho}) - J_{m - 1}(\\kappa_{\\mathit{rh}} {\\rho})\\right)} e^{\\left(-i \\, k z\\right)} \\sin\\left(m {\\phi} + \\psi_{m}\\right)}{2 \\, \\kappa_{\\mathit{rh}}} e_{ {\\rho} } -\\frac{k m J_{m}(\\kappa_{\\mathit{ph}} {\\rho}) \\cos\\left(m {\\phi} + \\psi_{m}\\right) e^{\\left(-i \\, k z\\right)}}{\\kappa_{\\mathit{ph}}^{2} {\\rho}} e_{ {\\phi} } + J_{m}(\\kappa_{z} {\\rho}) e^{\\left(-i \\, k z\\right)} \\sin\\left(m {\\phi} + \\psi_{m}\\right) e_{ z }</script></html>"
      ],
      "text/plain": [
       "E_sol = 1/2*k*(bessel_J(m + 1, kappa_rh*rh) - bessel_J(m - 1, kappa_rh*rh))*e^(-I*k*z)*sin(m*ph + psi_m)/kappa_rh e_rh - k*m*bessel_J(m, kappa_ph*rh)*cos(m*ph + psi_m)*e^(-I*k*z)/(kappa_ph^2*rh) e_ph + bessel_J(m, kappa_z*rh)*e^(-I*k*z)*sin(m*ph + psi_m) e_z"
      ]
     },
     "execution_count": 68,
     "metadata": {
     },
     "output_type": "execute_result"
    }
   ],
   "source": [
    "E_sol.display()"
   ]
  },
  {
   "cell_type": "code",
   "execution_count": 72,
   "metadata": {
    "collapsed": false
   },
   "outputs": [
    {
     "data": {
      "text/html": [
       "<html><script type=\"math/tex; mode=display\">\\newcommand{\\Bold}[1]{\\mathbf{#1}}\\frac{{\\left(4 \\, k \\kappa_{\\mathit{rh}} m^{2} J_{m}(\\kappa_{\\mathit{ph}} {\\rho}) \\cos\\left(\\psi_{m}\\right) \\sin\\left(m {\\phi}\\right) + 4 \\, k \\kappa_{\\mathit{rh}} m^{2} J_{m}(\\kappa_{\\mathit{ph}} {\\rho}) \\cos\\left(m {\\phi}\\right) \\sin\\left(\\psi_{m}\\right) - {\\left({\\left(k \\kappa_{\\mathit{ph}}^{2} \\kappa_{\\mathit{rh}} J_{m + 2}(\\kappa_{\\mathit{rh}} {\\rho}) + k \\kappa_{\\mathit{ph}}^{2} \\kappa_{\\mathit{rh}} J_{m - 2}(\\kappa_{\\mathit{rh}} {\\rho}) - 2 \\, k \\kappa_{\\mathit{ph}}^{2} \\kappa_{\\mathit{rh}} J_{m}(\\kappa_{\\mathit{rh}} {\\rho}) + 4 i \\, k \\kappa_{\\mathit{ph}}^{2} \\kappa_{\\mathit{rh}} J_{m}(\\kappa_{z} {\\rho})\\right)} \\cos\\left(\\psi_{m}\\right) \\sin\\left(m {\\phi}\\right) + {\\left(k \\kappa_{\\mathit{ph}}^{2} \\kappa_{\\mathit{rh}} J_{m + 2}(\\kappa_{\\mathit{rh}} {\\rho}) + k \\kappa_{\\mathit{ph}}^{2} \\kappa_{\\mathit{rh}} J_{m - 2}(\\kappa_{\\mathit{rh}} {\\rho}) - 2 \\, k \\kappa_{\\mathit{ph}}^{2} \\kappa_{\\mathit{rh}} J_{m}(\\kappa_{\\mathit{rh}} {\\rho}) + 4 i \\, k \\kappa_{\\mathit{ph}}^{2} \\kappa_{\\mathit{rh}} J_{m}(\\kappa_{z} {\\rho})\\right)} \\cos\\left(m {\\phi}\\right) \\sin\\left(\\psi_{m}\\right)\\right)} {\\rho}^{2} + 2 \\, {\\left({\\left(k \\kappa_{\\mathit{ph}}^{2} J_{m + 1}(\\kappa_{\\mathit{rh}} {\\rho}) - k \\kappa_{\\mathit{ph}}^{2} J_{m - 1}(\\kappa_{\\mathit{rh}} {\\rho})\\right)} \\cos\\left(\\psi_{m}\\right) \\sin\\left(m {\\phi}\\right) + {\\left(k \\kappa_{\\mathit{ph}}^{2} J_{m + 1}(\\kappa_{\\mathit{rh}} {\\rho}) - k \\kappa_{\\mathit{ph}}^{2} J_{m - 1}(\\kappa_{\\mathit{rh}} {\\rho})\\right)} \\cos\\left(m {\\phi}\\right) \\sin\\left(\\psi_{m}\\right)\\right)} {\\rho}\\right)} e^{\\left(-i \\, k z\\right)}}{4 \\, \\kappa_{\\mathit{ph}}^{2} \\kappa_{\\mathit{rh}} {\\rho}^{2}}</script></html>"
      ],
      "text/plain": [
       "1/4*(4*k*kappa_rh*m^2*bessel_J(m, kappa_ph*rh)*cos(psi_m)*sin(m*ph) + 4*k*kappa_rh*m^2*bessel_J(m, kappa_ph*rh)*cos(m*ph)*sin(psi_m) - ((k*kappa_ph^2*kappa_rh*bessel_J(m + 2, kappa_rh*rh) + k*kappa_ph^2*kappa_rh*bessel_J(m - 2, kappa_rh*rh) - 2*k*kappa_ph^2*kappa_rh*bessel_J(m, kappa_rh*rh) + 4*I*k*kappa_ph^2*kappa_rh*bessel_J(m, kappa_z*rh))*cos(psi_m)*sin(m*ph) + (k*kappa_ph^2*kappa_rh*bessel_J(m + 2, kappa_rh*rh) + k*kappa_ph^2*kappa_rh*bessel_J(m - 2, kappa_rh*rh) - 2*k*kappa_ph^2*kappa_rh*bessel_J(m, kappa_rh*rh) + 4*I*k*kappa_ph^2*kappa_rh*bessel_J(m, kappa_z*rh))*cos(m*ph)*sin(psi_m))*rh^2 + 2*((k*kappa_ph^2*bessel_J(m + 1, kappa_rh*rh) - k*kappa_ph^2*bessel_J(m - 1, kappa_rh*rh))*cos(psi_m)*sin(m*ph) + (k*kappa_ph^2*bessel_J(m + 1, kappa_rh*rh) - k*kappa_ph^2*bessel_J(m - 1, kappa_rh*rh))*cos(m*ph)*sin(psi_m))*rh)*e^(-I*k*z)/(kappa_ph^2*kappa_rh*rh^2)"
      ]
     },
     "execution_count": 72,
     "metadata": {
     },
     "output_type": "execute_result"
    }
   ],
   "source": [
    "div_E_sol = div(E_sol)\n",
    "div_E_sol.expr()"
   ]
  },
  {
   "cell_type": "code",
   "execution_count": 74,
   "metadata": {
    "collapsed": false
   },
   "outputs": [
    {
     "data": {
      "text/html": [
       "<html><script type=\"math/tex; mode=display\">\\newcommand{\\Bold}[1]{\\mathbf{#1}}0</script></html>"
      ],
      "text/plain": [
       "0"
      ]
     },
     "execution_count": 74,
     "metadata": {
     },
     "output_type": "execute_result"
    }
   ],
   "source": [
    "div_E_sol.expr().subs(m == 0, psi_m == 0)"
   ]
  },
  {
   "cell_type": "code",
   "execution_count": 76,
   "metadata": {
    "collapsed": false
   },
   "outputs": [
    {
     "data": {
      "text/html": [
       "<html><script type=\"math/tex; mode=display\">\\newcommand{\\Bold}[1]{\\mathbf{#1}}-\\frac{{\\left({\\left(k \\kappa_{\\mathit{ph}}^{2} \\kappa_{\\mathit{rh}} J_{3}(\\kappa_{\\mathit{rh}} {\\rho}) - 2 \\, k \\kappa_{\\mathit{ph}}^{2} \\kappa_{\\mathit{rh}} J_{1}(\\kappa_{\\mathit{rh}} {\\rho}) + 4 i \\, k \\kappa_{\\mathit{ph}}^{2} \\kappa_{\\mathit{rh}} J_{1}(\\kappa_{z} {\\rho}) + k \\kappa_{\\mathit{ph}}^{2} \\kappa_{\\mathit{rh}} J_{-1}(\\kappa_{\\mathit{rh}} {\\rho})\\right)} {\\rho}^{2} \\sin\\left({\\phi}\\right) - 4 \\, k \\kappa_{\\mathit{rh}} J_{1}(\\kappa_{\\mathit{ph}} {\\rho}) \\sin\\left({\\phi}\\right) - 2 \\, {\\left(k \\kappa_{\\mathit{ph}}^{2} J_{2}(\\kappa_{\\mathit{rh}} {\\rho}) - k \\kappa_{\\mathit{ph}}^{2} J_{0}(\\kappa_{\\mathit{rh}} {\\rho})\\right)} {\\rho} \\sin\\left({\\phi}\\right)\\right)} e^{\\left(-i \\, k z\\right)}}{4 \\, \\kappa_{\\mathit{ph}}^{2} \\kappa_{\\mathit{rh}} {\\rho}^{2}}</script></html>"
      ],
      "text/plain": [
       "-1/4*((k*kappa_ph^2*kappa_rh*bessel_J(3, kappa_rh*rh) - 2*k*kappa_ph^2*kappa_rh*bessel_J(1, kappa_rh*rh) + 4*I*k*kappa_ph^2*kappa_rh*bessel_J(1, kappa_z*rh) + k*kappa_ph^2*kappa_rh*bessel_J(-1, kappa_rh*rh))*rh^2*sin(ph) - 4*k*kappa_rh*bessel_J(1, kappa_ph*rh)*sin(ph) - 2*(k*kappa_ph^2*bessel_J(2, kappa_rh*rh) - k*kappa_ph^2*bessel_J(0, kappa_rh*rh))*rh*sin(ph))*e^(-I*k*z)/(kappa_ph^2*kappa_rh*rh^2)"
      ]
     },
     "execution_count": 76,
     "metadata": {
     },
     "output_type": "execute_result"
    }
   ],
   "source": [
    "div_E_sol.expr().subs(m == 1, psi_m == 0)"
   ]
  },
  {
   "cell_type": "code",
   "execution_count": 2,
   "metadata": {
    "collapsed": false
   },
   "outputs": [
    {
     "data": {
      "text/plain": [
       "5.520078110286276"
      ]
     },
     "execution_count": 2,
     "metadata": {
     },
     "output_type": "execute_result"
    }
   ],
   "source": [
    "find_root(bessel_J(0,x)==0,0,2*pi)"
   ]
  },
  {
   "cell_type": "code",
   "execution_count": 3,
   "metadata": {
    "collapsed": false,
    "scrolled": true
   },
   "outputs": [
    {
     "data": {
      "image/png": "[encoded data removed]",
      "text/plain": [
       "Graphics object consisting of 2 graphics primitives"
      ]
     },
     "execution_count": 3,
     "metadata": {
     },
     "output_type": "execute_result"
    }
   ],
   "source": [
    "p = sage.plot.graphics.Graphics()\n",
    "for i in range(2 ):\n",
    "    p += plot(bessel_J(0, (2+0.5*i)*x),(x,0,4*pi))\n",
    "p.show()"
   ]
  },
  {
   "cell_type": "code",
   "execution_count": 62,
   "metadata": {
    "collapsed": false
   },
   "outputs": [
    {
     "data": {
      "text/html": [
       "<html><script type=\"math/tex; mode=display\">\\newcommand{\\Bold}[1]{\\mathbf{#1}}\\frac{\\epsilon_{z_{z}} \\mu \\omega^{2} E_{z}\\left({\\rho}, {\\phi}, z\\right)}{c^{2}} + \\frac{\\frac{\\partial\\,E_{z}}{\\partial {\\rho}}}{{\\rho}} + \\frac{\\frac{\\partial^2\\,E_{z}}{\\partial {\\phi} ^ 2}}{{\\rho}^{2}} + \\frac{\\partial^2\\,E_{z}}{\\partial {\\rho} ^ 2} + \\frac{\\partial^2\\,E_{z}}{\\partial z ^ 2}</script></html>"
      ],
      "text/plain": [
       "epsilon_z_z*mu*omega^2*E_z(rh, ph, z)/c^2 + d(E_z)/drh/rh + d^2(E_z)/dph^2/rh^2 + d^2(E_z)/drh^2 + d^2(E_z)/dz^2"
      ]
     },
     "execution_count": 62,
     "metadata": {
     },
     "output_type": "execute_result"
    }
   ],
   "source": [
    "eq_z = eq_z.subs()\n",
    "\n",
    "eq_z.subs(epsilon_z_z * mu * omega^2 / c^2 == kappa_z^2 + k^2)"
   ]
  },
  {
   "cell_type": "code",
   "execution_count": 64,
   "metadata": {
    "collapsed": false
   },
   "outputs": [
    {
     "data": {
      "image/png": "[encoded data removed]",
      "text/plain": [
       "Graphics object consisting of 4 graphics primitives"
      ]
     },
     "execution_count": 64,
     "metadata": {
     },
     "output_type": "execute_result"
    }
   ],
   "source": [
    "p = sage.plot.graphics.Graphics()\n",
    "for i in range(4):\n",
    "    p += plot(bessel_J(i, x).diff(x),(x,0,4*pi))\n",
    "p.show()⁰"
   ]
  },
  {
   "cell_type": "code",
   "execution_count": 63,
   "metadata": {
    "collapsed": false
   },
   "outputs": [
    {
     "data": {
      "text/latex": [
       "$$-\\frac{1}{2} \\, J_{2}(x) + \\frac{1}{2} \\, J_{0}(x)$$"
      ],
      "text/plain": [
       "<IPython.core.display.Math object>"
      ]
     },
     "execution_count": 63,
     "metadata": {
     },
     "output_type": "execute_result"
    }
   ],
   "source": [
    "display(Math(latex(bessel_J(1, x).diff(x))))"
   ]
  },
  {
   "cell_type": "code",
   "execution_count": 2,
   "metadata": {
    "collapsed": false
   },
   "outputs": [
    {
     "ename": "NameError",
     "evalue": "name 'Math' is not defined",
     "output_type": "error",
     "traceback": [
      "\u001b[0;31m---------------------------------------------------------------------------\u001b[0m",
      "\u001b[0;31mNameError\u001b[0m                                 Traceback (most recent call last)",
      "\u001b[0;32m<ipython-input-2-26f94582f67d>\u001b[0m in \u001b[0;36m<module>\u001b[0;34m()\u001b[0m\n\u001b[0;32m----> 1\u001b[0;31m \u001b[0mdisplay\u001b[0m\u001b[0;34m(\u001b[0m\u001b[0mMath\u001b[0m\u001b[0;34m(\u001b[0m\u001b[0mlatex\u001b[0m\u001b[0;34m(\u001b[0m\u001b[0mbessel_J\u001b[0m\u001b[0;34m(\u001b[0m\u001b[0mInteger\u001b[0m\u001b[0;34m(\u001b[0m\u001b[0;36m0\u001b[0m\u001b[0;34m)\u001b[0m\u001b[0;34m,\u001b[0m \u001b[0mx\u001b[0m\u001b[0;34m)\u001b[0m\u001b[0;34m.\u001b[0m\u001b[0mdiff\u001b[0m\u001b[0;34m(\u001b[0m\u001b[0mx\u001b[0m\u001b[0;34m)\u001b[0m\u001b[0;34m)\u001b[0m\u001b[0;34m)\u001b[0m\u001b[0;34m)\u001b[0m\u001b[0;34m\u001b[0m\u001b[0;34m\u001b[0m\u001b[0m\n\u001b[0m",
      "\u001b[0;31mNameError\u001b[0m: name 'Math' is not defined"
     ]
    }
   ],
   "source": [
    "bessel_J(0, x).diff(x))))"
   ]
  },
  {
   "cell_type": "code",
   "execution_count": 0,
   "metadata": {
    "collapsed": false
   },
   "outputs": [
   ],
   "source": [
   ]
  },
  {
   "cell_type": "code",
   "execution_count": 0,
   "metadata": {
    "collapsed": false
   },
   "outputs": [
   ],
   "source": [
   ]
  },
  {
   "cell_type": "code",
   "execution_count": 0,
   "metadata": {
    "collapsed": false
   },
   "outputs": [
   ],
   "source": [
   ]
  }
 ],
 "metadata": {
  "kernelspec": {
   "display_name": "SageMath 9.1",
   "language": "sagemath",
   "metadata": {
    "cocalc": {
     "description": "Open-source mathematical software system",
     "priority": 10,
     "url": "https://www.sagemath.org/"
    }
   },
   "name": "sage-9.1"
  },
  "language_info": {
   "codemirror_mode": {
    "name": "ipython",
    "version": 3
   },
   "file_extension": ".py",
   "mimetype": "text/x-python",
   "name": "python",
   "nbconvert_exporter": "python",
   "pygments_lexer": "ipython3",
   "version": "3.7.3"
  }
 },
 "nbformat": 4,
 "nbformat_minor": 4
}
