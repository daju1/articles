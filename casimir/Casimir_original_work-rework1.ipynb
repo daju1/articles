{
 "cells": [
  {
   "cell_type": "markdown",
   "metadata": {},
   "source": [
    "В данной работе я хочу проанализировав статью Казимира показать что выведенная им формула силы Казимира может быть усовершенствована таким образом, что сила Казимира на самом деле должна зависеть не только от расстояния между пластинами но так же и от удельной массы каждой из пластин."
   ]
  },
  {
   "cell_type": "markdown",
   "metadata": {},
   "source": [
    "https://www.dwc.knaw.nl/DL/publications/PU00018547.pdf\n",
    "\n",
    "Mathematics. - On the attraction between two perfectly conducting\n",
    "plates. By H . B. G. CASIMIR\n",
    "\n",
    "(Communicated at the meeting of May 29. 1948.) "
   ]
  },
  {
   "cell_type": "markdown",
   "metadata": {},
   "source": [
    "Let us consider a cubic cavity of volume $L^3$ bounded by perfectly conducting walls and let a perfectly conducting square plate with side $L$ be\n",
    "placed in this cavity parallel to the $xy$ face and let us compare the\n",
    "situation in which this plate is at a small distance a from the $xy$ face and the\n",
    "situation in which it is at a very large distance. say $L/2$. In both cases the\n",
    "expressions $\\frac{1}{2}\\sum\\,\\hbar\\omega$ where the summation extends over all possible\n",
    "resonance frequencies of the cavities are divergent and devoid of physical\n",
    "meaning but the difference between these sums in the two situations,\n",
    "$\\frac{1}{2\\,V_{I}}\\left(\\sum\\,\\,\\hbar\\omega\\right)_{I} - \\frac{1}{2\\,V_{II}}\\left(\\sum\\,\\,\\hbar\\omega\\right)_{II}$, will be shown to have a weIl defined value and this\n",
    "value will be interpreted as the interaction between the plate and the\n",
    "$xy$ face."
   ]
  },
  {
   "cell_type": "markdown",
   "metadata": {},
   "source": [
    "The possible vibrations of a cavity defined by "
   ]
  },
  {
   "cell_type": "markdown",
   "metadata": {},
   "source": [
    "$0<=x<=L$, $0<=y<=L$, $0<=z<=a$ "
   ]
  },
  {
   "cell_type": "markdown",
   "metadata": {},
   "source": [
    "have wave numbers "
   ]
  },
  {
   "cell_type": "markdown",
   "metadata": {},
   "source": [
    "$k_x = \\frac{\\pi}{L}\\,n_x$, $k_y = \\frac{\\pi}{L}\\,n_y$, $k_z = \\frac{\\pi}{a}\\,n_z$,\n",
    "\n",
    "where $n_x$. $n_y$, $n_z$:\n",
    "\n",
    "are positive integers;"
   ]
  },
  {
   "cell_type": "markdown",
   "metadata": {},
   "source": [
    "$k = \\sqrt{k_x^2+k_y^2+k_z^2} = \\sqrt{\\kappa^2+k_z^2}$. "
   ]
  },
  {
   "cell_type": "markdown",
   "metadata": {},
   "source": [
    "To every $k_x$, $k_y$, $k_z$ correspond two standing waves unless one of the $n_i$\n",
    "is zero, when there is only one. For $k_x$, $k_y$ this is without importance since\n",
    "for very large $L$ we may regard $k_x$, $k_y$ as continuous variables. Thus we\n",
    "find "
   ]
  },
  {
   "cell_type": "markdown",
   "metadata": {},
   "source": [
    "$\\frac{1}{2}\\sum\\,\\hbar\\omega = \\hbar\\,c\\frac{L^2}{\\pi^2}\\int\\limits_{0}^{\\infty}\\int\\limits_{0}^{\\infty}\\left[{\\frac{1}{2}\\sqrt{k_x^2+k_y^2}+\\sum\\limits_{n=1}^{\\infty}\\sqrt{n^2\\frac{\\pi^2}{a^2}+k_x^2+k_y^2}}\\right]d{k_x}d{k_y}$"
   ]
  },
  {
   "cell_type": "markdown",
   "metadata": {},
   "source": [
    "or, introducing polar coordinates in the $k_x$, $k_y$ plane. "
   ]
  },
  {
   "cell_type": "markdown",
   "metadata": {},
   "source": [
    "$\\frac{1}{2}\\sum\\,\\hbar\\omega = \\hbar\\,c\\frac{L^2}{\\pi^2}\\cdot\\frac{\\pi}{2}\\sum\\limits_{\\left(0\\right)\\,1}^{\\infty}\\int\\limits_{0}^{\\infty}{\\sqrt{n^2\\frac{\\pi^2}{a^2}+\\kappa^2}}\\kappa\\,d{\\kappa}$"
   ]
  },
  {
   "cell_type": "markdown",
   "metadata": {},
   "source": [
    "where the notation $\\left(0\\right) 1$ is meant to indicate that the term with $n = 0$\n",
    "has to be multiplied by $\\frac{1}{2}$. For very large $a$ also this last summation may\n",
    "be replaced by an integral and it is therefore easily seen that our interaction energy is given by "
   ]
  },
  {
   "cell_type": "markdown",
   "metadata": {},
   "source": [
    "$\\delta\\,E = \\hbar\\,c\\frac{L^2}{\\pi^2}\\cdot\\frac{\\pi}{2}\\left\\{\\sum\\limits_{\\left(0\\right)\\,1}^{\\infty}\\int\\limits_{0}^{\\infty}{\\sqrt{n^2\\frac{\\pi^2}{a^2}+\\kappa^2}}\\kappa\\,d{\\kappa}-\\int\\limits_{0}^{\\infty}\\int\\limits_{0}^{\\infty}{\\sqrt{k_z^2+\\kappa^2}}\\kappa\\,d{\\kappa}\\left(\\frac{a}{\\pi}d{k_z}\\right)\\right\\}$"
   ]
  },
  {
   "cell_type": "markdown",
   "metadata": {},
   "source": [
    "In order to obtain a finite result it is necessary to multiply the integrands\n",
    "by a function $f(k/k_m)$ which is unity for $k << k_m$ but tends to zero sufficiently rapidly for $(k/k_m)\\, \\rightarrow\\,\\infty$. where km may be defined by $f(1) = \\frac{1}{2}$.\n",
    "The physical meaning is obvious: for very short waves (X~rays e.g.)\n",
    "our plate is hardly an obstacle at all and therefore the zero point energy\n",
    "of these waves will not be influenced by the position of this plate. "
   ]
  },
  {
   "cell_type": "markdown",
   "metadata": {},
   "source": [
    "Introducing the variable $u = a^2\\,\\kappa^2/\\pi^2$"
   ]
  },
  {
   "cell_type": "markdown",
   "metadata": {},
   "source": [
    "$du = a^2/\\pi^2\\,\\kappa\\,d\\kappa$"
   ]
  },
  {
   "cell_type": "markdown",
   "metadata": {},
   "source": [
    "$\\delta\\,E = L^2\\,\\hbar\\,c\\frac{\\pi^2}{4\\,a^3}\\left\\{\\sum\\limits_{\\left(0\\right)\\,1}^{\\infty}\\int\\limits_{0}^{\\infty}{\\sqrt{n^2+u}}f\\left(\\pi\\sqrt{n^2+u}/\\left(a\\,k_m\\right)\\right)\\,d{u}-\\int\\limits_{0}^{\\infty}\\int\\limits_{0}^{\\infty}{\\sqrt{n^2+u}}f\\left(\\pi\\sqrt{n^2+u}/\\left(a\\,k_m\\right)\\right)\\,d{u}\\,d{n}\\right\\}$"
   ]
  },
  {
   "cell_type": "markdown",
   "metadata": {},
   "source": [
    "We apply the EULER-MACLAURIN formula: "
   ]
  },
  {
   "cell_type": "markdown",
   "metadata": {},
   "source": [
    "$\\sum\\limits_{\\left(0\\right)\\,1}^{\\infty}{F\\left(n\\right)}-\\int\\limits_{0}^{\\infty}{F\\left(n\\right)} = -\\,\\frac{1}{12}F'\\left(0\\right)\\,+\\,\\frac{1}{24\\times30}F'''\\left(0\\right)\\,+\\,...$"
   ]
  },
  {
   "cell_type": "markdown",
   "metadata": {},
   "source": [
    "Introducing $w = u + n^2$ we have "
   ]
  },
  {
   "cell_type": "markdown",
   "metadata": {},
   "source": [
    "$F\\left(n\\right) = \\int\\limits_{n^2}^{\\infty}{\\sqrt{w}}f\\left(\\pi\\sqrt{w}/\\left(a\\,k_m\\right)\\right)\\,d{w}$"
   ]
  },
  {
   "cell_type": "markdown",
   "metadata": {},
   "source": [
    "whence"
   ]
  },
  {
   "cell_type": "markdown",
   "metadata": {},
   "source": [
    "$F'\\left(n\\right) = -2\\,n^2f\\left(\\pi\\,n/\\left(a\\,k_m\\right)\\right)$"
   ]
  },
  {
   "cell_type": "markdown",
   "metadata": {},
   "source": [
    "$F'\\left(0\\right) = 0$"
   ]
  },
  {
   "cell_type": "markdown",
   "metadata": {},
   "source": [
    "$F'''\\left(0\\right) = -4$"
   ]
  },
  {
   "cell_type": "markdown",
   "metadata": {},
   "source": [
    "The higher derivatives will contain powers of $(\\pi/(a\\,k_m))$ . Thus we find"
   ]
  },
  {
   "cell_type": "markdown",
   "metadata": {},
   "source": [
    "$\\delta\\,E/L^2 = \\hbar\\,c\\frac{\\pi^2}{4\\,a^3}\\left\\{\\frac{-4}{24\\times30}\\right\\}$"
   ]
  },
  {
   "cell_type": "markdown",
   "metadata": {},
   "source": [
    "a formula which holds as long as $a\\,k_m\\,»\\,1$. For the force per $cm^2$ we find"
   ]
  },
  {
   "cell_type": "markdown",
   "metadata": {},
   "source": [
    "$F = \\hbar\\,c\\frac{\\pi^2}{240}\\frac{1}{a^4}\\,=\\,0.013\\,\\frac{1}{a_{\\mu}^4}\\,dyne/cm^2$"
   ]
  },
  {
   "cell_type": "markdown",
   "metadata": {},
   "source": [
    "where $a_{\\mu}$ is the distance measured in microns. "
   ]
  },
  {
   "cell_type": "markdown",
   "metadata": {},
   "source": [
    "We are thus led to the following conclusions. There exists an attractive\n",
    "force between two metal plates which is independent of the material of\n",
    "the plates as long as the distance is so large that for wave . lengths\n",
    "comparable with that distance the penetration depth is small compared with\n",
    "the distance. This force may be interpreted as a zero point pressure of\n",
    "electromagnetic waves."
   ]
  },
  {
   "cell_type": "markdown",
   "metadata": {},
   "source": [
    "Although the effect is smalI, an experimental confirmation seems not\n",
    "unfeasable and might be of a certain interest. "
   ]
  },
  {
   "cell_type": "markdown",
   "metadata": {},
   "source": [
    "Natuurkundig Laboratorium der N.V. Philips'\n",
    "Gloeilampenfabrieken. Eindhoven .) "
   ]
  },
  {
   "cell_type": "code",
   "execution_count": null,
   "metadata": {},
   "outputs": [],
   "source": []
  },
  {
   "cell_type": "markdown",
   "metadata": {},
   "source": [
    "Таким образом мы видим, что Казимир разлагая разность суммы и интеграла в ряд Эйлера Маклорена ограничился только лишь третьей производной, отбросив высшие производные на том основании, что \"The higher derivatives will contain powers of $(\\pi/(a\\,k_m))$\" при том что \"a formula which holds as long as $a\\,k_m\\,»\\,1$\""
   ]
  },
  {
   "cell_type": "code",
   "execution_count": 1,
   "metadata": {},
   "outputs": [],
   "source": [
    "from IPython.display import display, Math, Latex"
   ]
  },
  {
   "cell_type": "code",
   "execution_count": 2,
   "metadata": {},
   "outputs": [],
   "source": [
    "a = var(\"a\")\n",
    "L = var(\"L\")\n",
    "\n",
    "k_x = var(\"k_x\")\n",
    "k_y = var(\"k_y\")\n",
    "k_z = var(\"k_z\")\n",
    "\n",
    "n_x = var(\"n_x\")\n",
    "n_y = var(\"n_y\")\n",
    "n_z = var(\"n_z\")"
   ]
  },
  {
   "cell_type": "code",
   "execution_count": 3,
   "metadata": {},
   "outputs": [],
   "source": [
    "k_x = pi * n_x / L\n",
    "k_y = pi * n_y / L\n",
    "k_z = pi * n_z / a"
   ]
  },
  {
   "cell_type": "code",
   "execution_count": 4,
   "metadata": {},
   "outputs": [],
   "source": [
    "#kappa = sqrt(k_x^2+k_y^2)\n",
    "kappa = var(\"kappa\")"
   ]
  },
  {
   "cell_type": "code",
   "execution_count": 5,
   "metadata": {},
   "outputs": [],
   "source": [
    "k = sqrt(kappa^2+k_z^2)"
   ]
  },
  {
   "cell_type": "code",
   "execution_count": 6,
   "metadata": {},
   "outputs": [
    {
     "data": {
      "text/plain": [
       "sqrt(kappa^2 + pi^2*n_z^2/a^2)"
      ]
     },
     "execution_count": 6,
     "metadata": {},
     "output_type": "execute_result"
    }
   ],
   "source": [
    "k"
   ]
  },
  {
   "cell_type": "code",
   "execution_count": 7,
   "metadata": {},
   "outputs": [],
   "source": [
    "#n = n_z\n",
    "n = var(\"n\")\n",
    "assume (n, \"real\")\n",
    "assume (n > 0)"
   ]
  },
  {
   "cell_type": "code",
   "execution_count": 8,
   "metadata": {},
   "outputs": [],
   "source": [
    "u = var(\"u\")\n",
    "#u = a^2*kappa^2/(n^2)"
   ]
  },
  {
   "cell_type": "code",
   "execution_count": 9,
   "metadata": {},
   "outputs": [],
   "source": [
    "w = var(\"w\")\n",
    "#w = u + n^2\n",
    "w = a^2*kappa^2/n^2 + n^2"
   ]
  },
  {
   "cell_type": "markdown",
   "metadata": {},
   "source": [
    "для дальнейших исследований нужно выбрать явный вид функции регуляризации"
   ]
  },
  {
   "cell_type": "code",
   "execution_count": 10,
   "metadata": {},
   "outputs": [],
   "source": [
    "m = 4\n",
    "\n",
    "f = function('f')(var(\"k_km\"))\n",
    "fn = lambda k, km : 1 / (1 + (k/km)^m)"
   ]
  },
  {
   "cell_type": "markdown",
   "metadata": {},
   "source": [
    "Проверяем, что выбранная функция регуляризации соответствует Казимировскому условию $k_m$ may be defined by $f(1) = \\frac{1}{2}$."
   ]
  },
  {
   "cell_type": "code",
   "execution_count": 11,
   "metadata": {},
   "outputs": [
    {
     "data": {
      "text/plain": [
       "1/2"
      ]
     },
     "execution_count": 11,
     "metadata": {},
     "output_type": "execute_result"
    }
   ],
   "source": [
    "fn(1, 1)"
   ]
  },
  {
   "cell_type": "code",
   "execution_count": 12,
   "metadata": {},
   "outputs": [],
   "source": [
    "k_m = var(\"k_m\")"
   ]
  },
  {
   "cell_type": "code",
   "execution_count": 13,
   "metadata": {},
   "outputs": [
    {
     "data": {
      "image/png": "[encoded data removed]",
      "text/plain": [
       "Graphics object consisting of 2 graphics primitives"
      ]
     },
     "execution_count": 13,
     "metadata": {},
     "output_type": "execute_result"
    }
   ],
   "source": [
    "plot([fn(x, 1000), fn(x, 1000)], (x, 0, 2000))"
   ]
  },
  {
   "cell_type": "markdown",
   "metadata": {},
   "source": [
    "Поскольку частота выражается $\\omega = c\\,\\sqrt{n^2\\frac{\\pi^2}{a^2}+k_x^2+k_y^2} = c\\,\\sqrt{n^2\\frac{\\pi^2}{a^2}+\\kappa^2}$\n",
    "\n",
    "и\n",
    "\n",
    "$u = a^2\\,\\kappa^2/\\pi^2$\n",
    "\n",
    "$\\kappa^2 = u \\frac{\\pi^2}{a^2}$\n",
    "\n",
    "имеем\n",
    "\n",
    "$\\omega = c \\, \\frac{\\pi}{a} \\sqrt{n^2+u}$ \n",
    "\n",
    "Таким образом регуляризационная функция $f$ введённая Казимиром имеет вид\n",
    "\n",
    "$f\\left(\\frac{\\pi\\sqrt{n^2+u}}{a\\,k_m}\\right) = f\\left(\\frac{\\omega}{c\\,k_m}\\right)$\n",
    "\n",
    "и так называемая частота обрезания\n",
    "\n",
    "$\\omega_m = c\\,k_m$"
   ]
  },
  {
   "cell_type": "markdown",
   "metadata": {},
   "source": [
    "Физический смысл частоты обрезания Казимир определяет следующим образом\n",
    "\n",
    "The physical meaning is obvious: for very short waves (X~rays e.g.)\n",
    "our plate is hardly an obstacle at all and therefore the zero point energy\n",
    "of these waves will not be influenced by the position of this plate.\n",
    "\n",
    "Но что мы знаем про рентгеновские лучи из опыта рентгенографии: чем плотнее тело, через которое проходит рентгеновский луч, тем сильнее этот луч поглощается. Человеческая кость на рентгеновском снимке светлая, а мягкие ткани тёмные. \n",
    "\n",
    "Возвращаясь к эффекту Казимира мы можем сказать что частота обрезания для более плотной и массивной пластины будет выше. Иными слувами $k_m$ пропорционален удельной массе пластины"
   ]
  },
  {
   "cell_type": "code",
   "execution_count": 14,
   "metadata": {},
   "outputs": [
    {
     "data": {
      "image/png": "[encoded data removed]",
      "text/plain": [
       "Graphics object consisting of 2 graphics primitives"
      ]
     },
     "execution_count": 14,
     "metadata": {},
     "output_type": "execute_result"
    }
   ],
   "source": [
    "plot([fn(x, 1000), fn(x, 5000)], (x, 0, 10000))"
   ]
  },
  {
   "cell_type": "markdown",
   "metadata": {},
   "source": [
    "Теперь я попытаюсь оценить сумму ряда составленного из \"The higher derivatives will contain powers of $(\\pi/(a\\,k_m))$\""
   ]
  },
  {
   "cell_type": "code",
   "execution_count": 15,
   "metadata": {},
   "outputs": [],
   "source": [
    "integrand = sqrt(w)*fn(pi*sqrt(w)/(a),k_m)"
   ]
  },
  {
   "cell_type": "code",
   "execution_count": 16,
   "metadata": {},
   "outputs": [],
   "source": [
    "N = var (\"N\") # Infinity\n",
    "from sage.symbolic.integration.integral import definite_integral\n",
    "F(n) = definite_integral(integrand, w, n^2, N)"
   ]
  },
  {
   "cell_type": "code",
   "execution_count": 17,
   "metadata": {},
   "outputs": [
    {
     "data": {
      "text/latex": [
       "$\\displaystyle \\int_{n^{2}}^{N} \\frac{\\sqrt{\\frac{a^{2} \\kappa^{2}}{n^{2}} + n^{2}}}{\\frac{\\pi^{4} {\\left(\\frac{a^{2} \\kappa^{2}}{n^{2}} + n^{2}\\right)}^{2}}{a^{4} k_{m}^{4}} + 1}\\,{d \\left(\\frac{a^{2} \\kappa^{2}}{n^{2}} + n^{2}\\right)}$"
      ],
      "text/plain": [
       "<IPython.core.display.Math object>"
      ]
     },
     "metadata": {},
     "output_type": "display_data"
    }
   ],
   "source": [
    "display(Math(latex(F(n))))"
   ]
  },
  {
   "cell_type": "markdown",
   "metadata": {},
   "source": [
    "Для этого нужно применить формулу Эйлера-Маклорена\n",
    "\n",
    "$${\\displaystyle \\sum _{i=a}^{b}f(i)=\\int _{a}^{b}f(x)\\,dx+{\\frac {f(a)+f(b)}{2}}+\\sum _{k=1}^{\\lfloor p/2\\rfloor }{\\frac {B_{2k}}{(2k)!}}(f^{(2k-1)}(b)-f^{(2k-1)}(a))+R_{p},}$$"
   ]
  },
  {
   "cell_type": "markdown",
   "metadata": {},
   "source": [
    "Для начала посмотрим чему равны производные $f^{(2k-1)}(0)$"
   ]
  },
  {
   "cell_type": "code",
   "execution_count": 18,
   "metadata": {},
   "outputs": [
    {
     "data": {
      "text/latex": [
       "$\\displaystyle 0$"
      ],
      "text/plain": [
       "<IPython.core.display.Math object>"
      ]
     },
     "metadata": {},
     "output_type": "display_data"
    }
   ],
   "source": [
    "F1 = F(n).diff(n, 1).expand()\n",
    "#display(Math(latex(F1)))\n",
    "display(Math(latex(F1.subs(n == 0))))"
   ]
  },
  {
   "cell_type": "code",
   "execution_count": 19,
   "metadata": {},
   "outputs": [
    {
     "data": {
      "text/latex": [
       "$\\displaystyle -4$"
      ],
      "text/plain": [
       "<IPython.core.display.Math object>"
      ]
     },
     "metadata": {},
     "output_type": "display_data"
    }
   ],
   "source": [
    "F3 = F(n).diff(n, 3).expand()\n",
    "#display(Math(latex(F3)))\n",
    "display(Math(latex(F3.subs(n == 0))))"
   ]
  },
  {
   "cell_type": "code",
   "execution_count": 20,
   "metadata": {},
   "outputs": [
    {
     "data": {
      "text/latex": [
       "$\\displaystyle 0$"
      ],
      "text/plain": [
       "<IPython.core.display.Math object>"
      ]
     },
     "metadata": {},
     "output_type": "display_data"
    }
   ],
   "source": [
    "F5 = F(n).diff(n, 5).expand()\n",
    "#display(Math(latex(F5)))\n",
    "display(Math(latex(F5.subs(n == 0))))"
   ]
  },
  {
   "cell_type": "code",
   "execution_count": 21,
   "metadata": {},
   "outputs": [
    {
     "data": {
      "text/latex": [
       "$\\displaystyle \\frac{1440 \\, \\pi^{4}}{a^{4} k_{m}^{4}}$"
      ],
      "text/plain": [
       "<IPython.core.display.Math object>"
      ]
     },
     "metadata": {},
     "output_type": "display_data"
    }
   ],
   "source": [
    "F7 = F(n).diff(n, 7).expand()\n",
    "display(Math(latex(F7.subs(n == 0))))"
   ]
  },
  {
   "cell_type": "code",
   "execution_count": 22,
   "metadata": {},
   "outputs": [
    {
     "data": {
      "text/latex": [
       "$\\displaystyle 0$"
      ],
      "text/plain": [
       "<IPython.core.display.Math object>"
      ]
     },
     "metadata": {},
     "output_type": "display_data"
    }
   ],
   "source": [
    "F9 = F(n).diff(n, 9).expand()\n",
    "display(Math(latex(F9.subs(n == 0))))"
   ]
  },
  {
   "cell_type": "code",
   "execution_count": 23,
   "metadata": {},
   "outputs": [
    {
     "data": {
      "text/latex": [
       "$\\displaystyle 0$"
      ],
      "text/plain": [
       "<IPython.core.display.Math object>"
      ]
     },
     "metadata": {},
     "output_type": "display_data"
    }
   ],
   "source": [
    "F11 = F(n).diff(n, 11).expand()\n",
    "display(Math(latex(F9.subs(n == 0))))"
   ]
  },
  {
   "cell_type": "code",
   "execution_count": 24,
   "metadata": {},
   "outputs": [
    {
     "data": {
      "text/latex": [
       "$\\displaystyle 0$"
      ],
      "text/plain": [
       "<IPython.core.display.Math object>"
      ]
     },
     "metadata": {},
     "output_type": "display_data"
    }
   ],
   "source": [
    "F13 = F(n).diff(n, 13).expand()\n",
    "display(Math(latex(F13.subs(n == 0))))"
   ]
  },
  {
   "cell_type": "code",
   "execution_count": 25,
   "metadata": {},
   "outputs": [
    {
     "data": {
      "text/latex": [
       "$\\displaystyle \\frac{174356582400 \\, \\pi^{12}}{a^{12} k_{m}^{12}}$"
      ],
      "text/plain": [
       "<IPython.core.display.Math object>"
      ]
     },
     "metadata": {},
     "output_type": "display_data"
    }
   ],
   "source": [
    "F15 = F(n).diff(n, 15).expand()\n",
    "display(Math(latex(F15.subs(n == 0))))"
   ]
  },
  {
   "cell_type": "markdown",
   "metadata": {},
   "source": [
    "Для численных оценок выбираю характерные для наблюдения эффекта Казимира значения зазора и волнового вектора обрезания"
   ]
  },
  {
   "cell_type": "code",
   "execution_count": 26,
   "metadata": {},
   "outputs": [
    {
     "data": {
      "text/plain": [
       "1/1000000"
      ]
     },
     "execution_count": 26,
     "metadata": {},
     "output_type": "execute_result"
    }
   ],
   "source": [
    "# На расстояниях порядка 10 нм — сотни размеров типичного атома — давление, создаваемое эффектом Казимира, оказывается сравнимым с атмосферным.\n",
    "a_f = 10 * 10^-9 * 100\n",
    "a_f"
   ]
  },
  {
   "cell_type": "code",
   "execution_count": 27,
   "metadata": {},
   "outputs": [
    {
     "data": {
      "text/plain": [
       "20000000*pi"
      ]
     },
     "execution_count": 27,
     "metadata": {},
     "output_type": "execute_result"
    }
   ],
   "source": [
    "# Most X-rays have a wavelength ranging from 10 picometers to 10 nanometers,\n",
    "k_mf = 2*pi/(10 * 10^-9 * 100 * 10^-1)\n",
    "k_mf"
   ]
  },
  {
   "cell_type": "markdown",
   "metadata": {},
   "source": [
    "\"a formula which holds as long as $a\\,k_m\\,»\\,1$\""
   ]
  },
  {
   "cell_type": "code",
   "execution_count": 28,
   "metadata": {},
   "outputs": [
    {
     "data": {
      "text/plain": [
       "20*pi"
      ]
     },
     "execution_count": 28,
     "metadata": {},
     "output_type": "execute_result"
    }
   ],
   "source": [
    "a_f*k_mf"
   ]
  },
  {
   "cell_type": "markdown",
   "metadata": {},
   "source": [
    "Строю ряд с намерением показать, что полученный ряд можно с некоторой степенью точности преобразовать в ряд геометрической прогрессии. Любой член геометрической прогрессии может быть вычислен по формуле $b_n = b_1\\,q^{n-1}$"
   ]
  },
  {
   "cell_type": "code",
   "execution_count": 29,
   "metadata": {},
   "outputs": [],
   "source": [
    "def calc_sum_dE(a_f, k_mf, logging=False):\n",
    "\n",
    "    k_max = 32\n",
    "    vg = []\n",
    "    vq = []\n",
    "\n",
    "    sum_dE_f = 0\n",
    "    v_sum_dE_f = []\n",
    "\n",
    "    for kk in range(1, int(k_max)):\n",
    "        # порядок производной\n",
    "        j = 2*kk-1\n",
    "        # показатель степени of $(\\pi/(a\\,k_m))$\n",
    "        pw = j - 3\n",
    "        # показатель степени геометрической прогрессии (n - 1)\n",
    "        n_1 = pw/m\n",
    "        # вычисляем производную в нуле\n",
    "        djF0 = F(n).diff(n, j).expand().subs(n == 0)\n",
    "        # число Бернулли делим на факториал\n",
    "        mBj = (bernoulli(2*kk)/factorial(2*kk))\n",
    "        # Умножаем производную на число Бернулли делённое на факториал, получаем слагаемое ряда\n",
    "        dE = djF0*mBj\n",
    "\n",
    "        # Отделяем численный множитель от слагаемого ряда\n",
    "        p = dE * (a*k_m/pi)^(pw)\n",
    "\n",
    "        if pw > 0:\n",
    "            # Извлекаем корень степени соответствующий показателю степени of $(\\pi/(a\\,k_m))$ из численного множителя ряда\n",
    "            g = abs(p.n())^(1/pw)\n",
    "            # Извлекаем корень степени соответствующий показателю степени геометрической прогрессии из численного множителя ряда\n",
    "            q = abs(p.n())^(1/n_1)\n",
    "        else:\n",
    "            g = 0.0\n",
    "            q = 0.0\n",
    "\n",
    "        if logging:\n",
    "            print (\"j\", j, \"pw\", pw, \"n_1\", n_1, \"p\", p, \"g\", g, \"q\", q)\n",
    "\n",
    "\n",
    "        # Подставляем численные значения\n",
    "        dE_f = dE.subs(a == a_f, k_m == k_mf)\n",
    "        sum_dE_f += dE_f.n()\n",
    "\n",
    "        if j >= 3:\n",
    "            vg += [(j, g)]\n",
    "            vq += [(j, q)]\n",
    "\n",
    "            v_sum_dE_f += [(j, sum_dE_f)]\n",
    "\n",
    "        if j >= 3 and logging:\n",
    "            display(Math(latex( (j, djF0, mBj, dE, dE_f) )))\n",
    "    return sum_dE_f, vg, vq, v_sum_dE_f"
   ]
  },
  {
   "cell_type": "code",
   "execution_count": 30,
   "metadata": {},
   "outputs": [
    {
     "name": "stdout",
     "output_type": "stream",
     "text": [
      "j 1 pw -2 n_1 -1/2 p 0 g 0.000000000000000 q 0.000000000000000\n",
      "j 3 pw 0 n_1 0 p 1/180 g 0.000000000000000 q 0.000000000000000\n"
     ]
    },
    {
     "data": {
      "text/latex": [
       "$\\displaystyle \\left(3, -4, -\\frac{1}{720}, \\frac{1}{180}, \\frac{1}{180}\\right)$"
      ],
      "text/plain": [
       "<IPython.core.display.Math object>"
      ]
     },
     "metadata": {},
     "output_type": "display_data"
    },
    {
     "name": "stdout",
     "output_type": "stream",
     "text": [
      "j 5 pw 2 n_1 1/2 p 0 g 0.000000000000000 q 0.000000000000000\n"
     ]
    },
    {
     "data": {
      "text/latex": [
       "$\\displaystyle \\left(5, 0, \\frac{1}{30240}, 0, 0\\right)$"
      ],
      "text/plain": [
       "<IPython.core.display.Math object>"
      ]
     },
     "metadata": {},
     "output_type": "display_data"
    },
    {
     "name": "stdout",
     "output_type": "stream",
     "text": [
      "j 7 pw 4 n_1 1 p -1/840 g 0.185750579991336 q 0.00119047619047619\n"
     ]
    },
    {
     "data": {
      "text/latex": [
       "$\\displaystyle \\left(7, \\frac{1440 \\, \\pi^{4}}{a^{4} k_{m}^{4}}, -\\frac{1}{1209600}, -\\frac{\\pi^{4}}{840 \\, a^{4} k_{m}^{4}}, -\\frac{1}{134400000}\\right)$"
      ],
      "text/plain": [
       "<IPython.core.display.Math object>"
      ]
     },
     "metadata": {},
     "output_type": "display_data"
    },
    {
     "name": "stdout",
     "output_type": "stream",
     "text": [
      "j 9 pw 6 n_1 3/2 p 0 g 0.000000000000000 q 0.000000000000000\n"
     ]
    },
    {
     "data": {
      "text/latex": [
       "$\\displaystyle \\left(9, 0, \\frac{1}{47900160}, 0, 0\\right)$"
      ],
      "text/plain": [
       "<IPython.core.display.Math object>"
      ]
     },
     "metadata": {},
     "output_type": "display_data"
    },
    {
     "name": "stdout",
     "output_type": "stream",
     "text": [
      "j 11 pw 8 n_1 2 p 691/180180 g 0.498851673054865 q 0.0619278114828373\n"
     ]
    },
    {
     "data": {
      "text/latex": [
       "$\\displaystyle \\left(11, -\\frac{7257600 \\, \\pi^{8}}{a^{8} k_{m}^{8}}, -\\frac{691}{1307674368000}, \\frac{691 \\, \\pi^{8}}{180180 \\, a^{8} k_{m}^{8}}, \\frac{691}{4612608000000000}\\right)$"
      ],
      "text/plain": [
       "<IPython.core.display.Math object>"
      ]
     },
     "metadata": {},
     "output_type": "display_data"
    },
    {
     "name": "stdout",
     "output_type": "stream",
     "text": [
      "j 13 pw 10 n_1 5/2 p 0 g 0.000000000000000 q 0.000000000000000\n"
     ]
    },
    {
     "data": {
      "text/latex": [
       "$\\displaystyle \\left(13, 0, \\frac{1}{74724249600}, 0, 0\\right)$"
      ],
      "text/plain": [
       "<IPython.core.display.Math object>"
      ]
     },
     "metadata": {},
     "output_type": "display_data"
    },
    {
     "name": "stdout",
     "output_type": "stream",
     "text": [
      "j 15 pw 12 n_1 3 p -3617/61200 g 0.790010912984256 q 0.389522332553338\n"
     ]
    },
    {
     "data": {
      "text/latex": [
       "$\\displaystyle \\left(15, \\frac{174356582400 \\, \\pi^{12}}{a^{12} k_{m}^{12}}, -\\frac{3617}{10670622842880000}, -\\frac{3617 \\, \\pi^{12}}{61200 \\, a^{12} k_{m}^{12}}, -\\frac{3617}{250675200000000000000}\\right)$"
      ],
      "text/plain": [
       "<IPython.core.display.Math object>"
      ]
     },
     "metadata": {},
     "output_type": "display_data"
    },
    {
     "name": "stdout",
     "output_type": "stream",
     "text": [
      "j 17 pw 14 n_1 7/2 p 0 g 0.000000000000000 q 0.000000000000000\n"
     ]
    },
    {
     "data": {
      "text/latex": [
       "$\\displaystyle \\left(17, 0, \\frac{43867}{5109094217170944000}, 0, 0\\right)$"
      ],
      "text/plain": [
       "<IPython.core.display.Math object>"
      ]
     },
     "metadata": {},
     "output_type": "display_data"
    },
    {
     "name": "stdout",
     "output_type": "stream",
     "text": [
      "j 19 pw 16 n_1 4 p 174611/62700 g 1.06610567135651 q 1.29181705718923\n"
     ]
    },
    {
     "data": {
      "text/latex": [
       "$\\displaystyle \\left(19, -\\frac{12804747411456000 \\, \\pi^{16}}{a^{16} k_{m}^{16}}, -\\frac{174611}{802857662698291200000}, \\frac{174611 \\, \\pi^{16}}{62700 \\, a^{16} k_{m}^{16}}, \\frac{174611}{41091072000000000000000000}\\right)$"
      ],
      "text/plain": [
       "<IPython.core.display.Math object>"
      ]
     },
     "metadata": {},
     "output_type": "display_data"
    },
    {
     "name": "stdout",
     "output_type": "stream",
     "text": [
      "j 21 pw 18 n_1 9/2 p 0 g 0.000000000000000 q 0.000000000000000\n"
     ]
    },
    {
     "data": {
      "text/latex": [
       "$\\displaystyle \\left(21, 0, \\frac{77683}{14101100039391805440000}, 0, 0\\right)$"
      ],
      "text/plain": [
       "<IPython.core.display.Math object>"
      ]
     },
     "metadata": {},
     "output_type": "display_data"
    },
    {
     "name": "stdout",
     "output_type": "stream",
     "text": [
      "j 23 pw 20 n_1 5 p -236364091/753480 g 1.33298569397469 q 3.15719897989524\n"
     ]
    },
    {
     "data": {
      "text/latex": [
       "$\\displaystyle \\left(23, \\frac{2248001455555215360000 \\, \\pi^{20}}{a^{20} k_{m}^{20}}, -\\frac{236364091}{1693824136731743669452800000}, -\\frac{236364091 \\, \\pi^{20}}{753480 \\, a^{20} k_{m}^{20}}, -\\frac{236364091}{79008104448000000000000000000000}\\right)$"
      ],
      "text/plain": [
       "<IPython.core.display.Math object>"
      ]
     },
     "metadata": {},
     "output_type": "display_data"
    },
    {
     "name": "stdout",
     "output_type": "stream",
     "text": [
      "j 25 pw 22 n_1 11/2 p 0 g 0.000000000000000 q 0.000000000000000\n"
     ]
    },
    {
     "data": {
      "text/latex": [
       "$\\displaystyle \\left(25, 0, \\frac{657931}{186134520519971831808000000}, 0, 0\\right)$"
      ],
      "text/plain": [
       "<IPython.core.display.Math object>"
      ]
     },
     "metadata": {},
     "output_type": "display_data"
    },
    {
     "name": "stdout",
     "output_type": "stream",
     "text": [
      "j 27 pw 24 n_1 6 p 3392780147/46980 g 1.59383531759339 q 6.45318007634196\n"
     ]
    },
    {
     "data": {
      "text/latex": [
       "$\\displaystyle \\left(27, -\\frac{806582922253211271168000000 \\, \\pi^{24}}{a^{24} k_{m}^{24}}, -\\frac{3392780147}{37893265687455865519472640000000}, \\frac{3392780147 \\, \\pi^{24}}{46980 \\, a^{24} k_{m}^{24}}, \\frac{3392780147}{788193607680000000000000000000000000}\\right)$"
      ],
      "text/plain": [
       "<IPython.core.display.Math object>"
      ]
     },
     "metadata": {},
     "output_type": "display_data"
    },
    {
     "name": "stdout",
     "output_type": "stream",
     "text": [
      "j 29 pw 26 n_1 13/2 p 0 g 0.000000000000000 q 0.000000000000000\n"
     ]
    },
    {
     "data": {
      "text/latex": [
       "$\\displaystyle \\left(29, 0, \\frac{1723168255201}{759790291646040068357842010112000000}, 0, 0\\right)$"
      ],
      "text/plain": [
       "<IPython.core.display.Math object>"
      ]
     },
     "metadata": {},
     "output_type": "display_data"
    },
    {
     "name": "stdout",
     "output_type": "stream",
     "text": [
      "j 31 pw 28 n_1 7 p -7709321041217/252960 g 1.85048018293307 q 11.7256723387447\n"
     ]
    },
    {
     "data": {
      "text/latex": [
       "$\\displaystyle \\left(31, \\frac{530505719624382117272616960000000 \\, \\pi^{28}}{a^{28} k_{m}^{28}}, -\\frac{7709321041217}{134196726836183700385281186201600000000}, -\\frac{7709321041217 \\, \\pi^{28}}{252960 \\, a^{28} k_{m}^{28}}, -\\frac{7709321041217}{679034329497600000000000000000000000000000}\\right)$"
      ],
      "text/plain": [
       "<IPython.core.display.Math object>"
      ]
     },
     "metadata": {},
     "output_type": "display_data"
    },
    {
     "name": "stdout",
     "output_type": "stream",
     "text": [
      "j 33 pw 30 n_1 15/2 p 0 g 0.000000000000000 q 0.000000000000000\n"
     ]
    },
    {
     "data": {
      "text/latex": [
       "$\\displaystyle \\left(33, 0, \\frac{151628697551}{104199811425742637946218332815360000000}, 0, 0\\right)$"
      ],
      "text/plain": [
       "<IPython.core.display.Math object>"
      ]
     },
     "metadata": {},
     "output_type": "display_data"
    },
    {
     "name": "stdout",
     "output_type": "stream",
     "text": [
      "j 35 pw 32 n_1 8 p 26315271553053477373/1209089700 g 2.10404326898010 q 19.5983119803178\n"
     ]
    },
    {
     "data": {
      "text/latex": [
       "$\\displaystyle \\left(35, -\\frac{590465598079208281695237219287040000000 \\, \\pi^{32}}{a^{32} k_{m}^{32}}, -\\frac{26315271553053477373}{713925872841910517552409860896601407488000000000}, \\frac{26315271553053477373 \\, \\pi^{32}}{1209089700 \\, a^{32} k_{m}^{32}}, \\frac{26315271553053477373}{519300071943045120000000000000000000000000000000000}\\right)$"
      ],
      "text/plain": [
       "<IPython.core.display.Math object>"
      ]
     },
     "metadata": {},
     "output_type": "display_data"
    },
    {
     "name": "stdout",
     "output_type": "stream",
     "text": [
      "j 37 pw 34 n_1 17/2 p 0 g 0.000000000000000 q 0.000000000000000\n"
     ]
    },
    {
     "data": {
      "text/latex": [
       "$\\displaystyle \\left(37, 0, \\frac{154210205991661}{165165037094716140555791754978970828800000000}, 0, 0\\right)$"
      ],
      "text/plain": [
       "<IPython.core.display.Math object>"
      ]
     },
     "metadata": {},
     "output_type": "display_data"
    },
    {
     "name": "stdout",
     "output_type": "stream",
     "text": [
      "j 39 pw 36 n_1 9 p -261082718496449122051/10553400 g 2.35525802599791 q 30.7718757117689\n"
     ]
    },
    {
     "data": {
      "text/latex": [
       "$\\displaystyle \\left(39, \\frac{1046045234933202223520014448200148582400000000 \\, \\pi^{36}}{a^{36} k_{m}^{36}}, -\\frac{261082718496449122051}{11039333782344056345696120477635448049500160000000000}, -\\frac{261082718496449122051 \\, \\pi^{36}}{10553400 \\, a^{36} k_{m}^{36}}, -\\frac{261082718496449122051}{725224125785702400000000000000000000000000000000000000}\\right)$"
      ],
      "text/plain": [
       "<IPython.core.display.Math object>"
      ]
     },
     "metadata": {},
     "output_type": "display_data"
    },
    {
     "name": "stdout",
     "output_type": "stream",
     "text": [
      "j 41 pw 38 n_1 19/2 p 0 g 0.000000000000000 q 0.000000000000000\n"
     ]
    },
    {
     "data": {
      "text/latex": [
       "$\\displaystyle \\left(41, 0, \\frac{1520097643918070802691}{2537441048661701096768915546877587895305109504000000000}, 0, 0\\right)$"
      ],
      "text/plain": [
       "<IPython.core.display.Math object>"
      ]
     },
     "metadata": {},
     "output_type": "display_data"
    },
    {
     "name": "stdout",
     "output_type": "stream",
     "text": [
      "j 43 pw 40 n_1 10 p 2530297234481911294093/59340 g 2.60462737037423 q 46.0237921710150\n"
     ]
    },
    {
     "data": {
      "text/latex": [
       "$\\displaystyle \\left(43, -\\frac{2810012235505759797086285212489023139872768000000000 \\, \\pi^{40}}{a^{40} k_{m}^{40}}, -\\frac{2530297234481911294093}{166746126054911786359100164509098633120050053120000000000}, \\frac{2530297234481911294093 \\, \\pi^{40}}{59340 \\, a^{40} k_{m}^{40}}, \\frac{2530297234481911294093}{652450199922278400000000000000000000000000000000000000000}\\right)$"
      ],
      "text/plain": [
       "<IPython.core.display.Math object>"
      ]
     },
     "metadata": {},
     "output_type": "display_data"
    },
    {
     "name": "stdout",
     "output_type": "stream",
     "text": [
      "j 45 pw 42 n_1 21/2 p 0 g 0.000000000000000 q 0.000000000000000\n"
     ]
    },
    {
     "data": {
      "text/latex": [
       "$\\displaystyle \\left(45, 0, \\frac{25932657025822267968607}{67466932568130829732947223083550951296312425840640000000000}, 0, 0\\right)$"
      ],
      "text/plain": [
       "<IPython.core.display.Math object>"
      ]
     },
     "metadata": {},
     "output_type": "display_data"
    },
    {
     "name": "stdout",
     "output_type": "stream",
     "text": [
      "j 47 pw 44 n_1 11 p -5609403368997817686249127547/52350480 g 2.85251004133031 q 66.2077345178471\n"
     ]
    },
    {
     "data": {
      "text/latex": [
       "$\\displaystyle \\left(47, \\frac{11005244319624177899700610857600509785923303505920000000000 \\, \\pi^{44}}{a^{44} k_{m}^{44}}, -\\frac{5609403368997817686249127547}{576129822649599132654718834688598335537782181720594841600000000000}, -\\frac{5609403368997817686249127547 \\, \\pi^{44}}{52350480 \\, a^{44} k_{m}^{44}}, -\\frac{5609403368997817686249127547}{92095938367447891968000000000000000000000000000000000000000000000}\\right)$"
      ],
      "text/plain": [
       "<IPython.core.display.Math object>"
      ]
     },
     "metadata": {},
     "output_type": "display_data"
    },
    {
     "name": "stdout",
     "output_type": "stream",
     "text": [
      "j 49 pw 46 n_1 23/2 p 0 g 0.000000000000000 q 0.000000000000000\n"
     ]
    },
    {
     "data": {
      "text/latex": [
       "$\\displaystyle \\left(49, 0, \\frac{19802288209643185928499101}{80293206052523318035137285558410989749156973742055751680000000000}, 0, 0\\right)$"
      ],
      "text/plain": [
       "<IPython.core.display.Math object>"
      ]
     },
     "metadata": {},
     "output_type": "display_data"
    },
    {
     "name": "stdout",
     "output_type": "stream",
     "text": [
      "j 51 pw 48 n_1 12 p 61628132164268458257532691681/162180 g 3.09917037717562 q 92.2532785045563\n"
     ]
    },
    {
     "data": {
      "text/latex": [
       "$\\displaystyle \\left(51, -\\frac{60828186403426756087225216332129537688755283137921024000000000000 \\, \\pi^{48}}{a^{48} k_{m}^{48}}, -\\frac{61628132164268458257532691681}{9865115270907751302226185584744768422362331819308031672320000000000000}, \\frac{61628132164268458257532691681 \\, \\pi^{48}}{162180 \\, a^{48} k_{m}^{48}}, \\frac{61628132164268458257532691681}{45649611722934190080000000000000000000000000000000000000000000000000}\\right)$"
      ],
      "text/plain": [
       "<IPython.core.display.Math object>"
      ]
     },
     "metadata": {},
     "output_type": "display_data"
    },
    {
     "name": "stdout",
     "output_type": "stream",
     "text": [
      "j 53 pw 50 n_1 25/2 p 0 g 0.000000000000000 q 0.000000000000000\n"
     ]
    },
    {
     "data": {
      "text/latex": [
       "$\\displaystyle \\left(53, 0, \\frac{29149963634884862421418123812691}{184213270476714621616730008661056009704456294528302737023565824000000000000}, 0, 0\\right)$"
      ],
      "text/plain": [
       "<IPython.core.display.Math object>"
      ]
     },
     "metadata": {},
     "output_type": "display_data"
    },
    {
     "name": "stdout",
     "output_type": "stream",
     "text": [
      "j 55 pw 52 n_1 13 p -354198989901889536240773677094747/191400 g 3.34480849388984 q 125.165612694815\n"
     ]
    },
    {
     "data": {
      "text/latex": [
       "$\\displaystyle \\left(55, \\frac{461687394678482760944185485366055162166557129143615882264576000000000000 \\, \\pi^{52}}{a^{52} k_{m}^{52}}, -\\frac{354198989901889536240773677094747}{88366967341461600444717101899062958038679034518088079865439846400000000000000}, -\\frac{354198989901889536240773677094747 \\, \\pi^{52}}{191400 \\, a^{52} k_{m}^{52}}, -\\frac{354198989901889536240773677094747}{8619889686787129344000000000000000000000000000000000000000000000000000000}\\right)$"
      ],
      "text/plain": [
       "<IPython.core.display.Math object>"
      ]
     },
     "metadata": {},
     "output_type": "display_data"
    },
    {
     "name": "stdout",
     "output_type": "stream",
     "text": [
      "j 57 pw 54 n_1 27/2 p 0 g 0.000000000000000 q 0.000000000000000\n"
     ]
    },
    {
     "data": {
      "text/latex": [
       "$\\displaystyle \\left(57, 0, \\frac{2913228046513104891794716413587449}{28693059009453069463021866149046084071566112435728434318790612746240000000000000}, 0, 0\\right)$"
      ],
      "text/plain": [
       "<IPython.core.display.Math object>"
      ]
     },
     "metadata": {},
     "output_type": "display_data"
    },
    {
     "name": "stdout",
     "output_type": "stream",
     "text": [
      "j 59 pw 56 n_1 14 p 1215233140483755572040304994079820246041491/100512512100 g 3.58957938268158 q 166.025290332062\n"
     ]
    },
    {
     "data": {
      "text/latex": [
       "$\\displaystyle \\left(59, -\\frac{4701122662565757143658949821030149367657724636362285848841399828480000000000000 \\, \\pi^{56}}{a^{56} k_{m}^{56}}, -\\frac{1215233140483755572040304994079820246041491}{472521648504724881947681632159585722781504396170832356365329971241033924608000000000000000}, \\frac{1215233140483755572040304994079820246041491 \\, \\pi^{56}}{100512512100 \\, a^{56} k_{m}^{56}}, \\frac{1215233140483755572040304994079820246041491}{724268979263411952612802560000000000000000000000000000000000000000000000000000000000}\\right)$"
      ],
      "text/plain": [
       "<IPython.core.display.Math object>"
      ]
     },
     "metadata": {},
     "output_type": "display_data"
    },
    {
     "name": "stdout",
     "output_type": "stream",
     "text": [
      "j 61 pw 58 n_1 29/2 p 0 g 0.000000000000000 q 0.000000000000000\n"
     ]
    },
    {
     "data": {
      "text/latex": [
       "$\\displaystyle \\left(61, 0, \\frac{396793078518930920708162576045270521}{6090962566526697585610281746119502726712054347856432037192871273771827200000000000000}, 0, 0\\right)$"
      ],
      "text/plain": [
       "<IPython.core.display.Math object>"
      ]
     },
     "metadata": {},
     "output_type": "display_data"
    }
   ],
   "source": [
    "sum_dE_f, vg, vq, v_sum_dE_f = calc_sum_dE(a_f=a_f, k_mf=k_mf, logging = True)"
   ]
  },
  {
   "cell_type": "code",
   "execution_count": 31,
   "metadata": {},
   "outputs": [
    {
     "data": {
      "text/plain": [
       "0.00555554811522916"
      ]
     },
     "execution_count": 31,
     "metadata": {},
     "output_type": "execute_result"
    }
   ],
   "source": [
    "(sum_dE_f).n()"
   ]
  },
  {
   "cell_type": "code",
   "execution_count": 32,
   "metadata": {},
   "outputs": [
    {
     "data": {
      "text/plain": [
       "-7.44032639925923e-9"
      ]
     },
     "execution_count": 32,
     "metadata": {},
     "output_type": "execute_result"
    }
   ],
   "source": [
    "(sum_dE_f-1/180).n()"
   ]
  },
  {
   "cell_type": "code",
   "execution_count": 33,
   "metadata": {},
   "outputs": [
    {
     "data": {
      "text/plain": [
       "-1.33925875186666e-6"
      ]
     },
     "execution_count": 33,
     "metadata": {},
     "output_type": "execute_result"
    }
   ],
   "source": [
    "180*(sum_dE_f-1/180).n()"
   ]
  },
  {
   "cell_type": "code",
   "execution_count": 34,
   "metadata": {},
   "outputs": [
    {
     "data": {
      "image/png": "[encoded data removed]",
      "text/plain": [
       "Graphics object consisting of 1 graphics primitive"
      ]
     },
     "metadata": {},
     "output_type": "display_data"
    }
   ],
   "source": [
    "plt = sage.plot.graphics.Graphics()\n",
    "plt += list_plot (vg)\n",
    "plt.show ()"
   ]
  },
  {
   "cell_type": "code",
   "execution_count": 35,
   "metadata": {},
   "outputs": [
    {
     "data": {
      "image/png": "[encoded data removed]",
      "text/plain": [
       "Graphics object consisting of 1 graphics primitive"
      ]
     },
     "metadata": {},
     "output_type": "display_data"
    }
   ],
   "source": [
    "plt = sage.plot.graphics.Graphics()\n",
    "plt += list_plot (vq)\n",
    "plt.show ()"
   ]
  },
  {
   "cell_type": "code",
   "execution_count": 36,
   "metadata": {},
   "outputs": [
    {
     "data": {
      "text/plain": [
       "[(3, 0.00555555555555556),\n",
       " (5, 0.00555555555555556),\n",
       " (7, 0.00555554811507936),\n",
       " (9, 0.00555554811507936),\n",
       " (11, 0.00555554811522917),\n",
       " (13, 0.00555554811522917),\n",
       " (15, 0.00555554811522916),\n",
       " (17, 0.00555554811522916),\n",
       " (19, 0.00555554811522916),\n",
       " (21, 0.00555554811522916),\n",
       " (23, 0.00555554811522916),\n",
       " (25, 0.00555554811522916),\n",
       " (27, 0.00555554811522916),\n",
       " (29, 0.00555554811522916),\n",
       " (31, 0.00555554811522916),\n",
       " (33, 0.00555554811522916),\n",
       " (35, 0.00555554811522916),\n",
       " (37, 0.00555554811522916),\n",
       " (39, 0.00555554811522916),\n",
       " (41, 0.00555554811522916),\n",
       " (43, 0.00555554811522916),\n",
       " (45, 0.00555554811522916),\n",
       " (47, 0.00555554811522916),\n",
       " (49, 0.00555554811522916),\n",
       " (51, 0.00555554811522916),\n",
       " (53, 0.00555554811522916),\n",
       " (55, 0.00555554811522916),\n",
       " (57, 0.00555554811522916),\n",
       " (59, 0.00555554811522916),\n",
       " (61, 0.00555554811522916)]"
      ]
     },
     "execution_count": 36,
     "metadata": {},
     "output_type": "execute_result"
    }
   ],
   "source": [
    "v_sum_dE_f"
   ]
  },
  {
   "cell_type": "code",
   "execution_count": 37,
   "metadata": {},
   "outputs": [
    {
     "data": {
      "image/png": "[encoded data removed]",
      "text/plain": [
       "Graphics object consisting of 1 graphics primitive"
      ]
     },
     "metadata": {},
     "output_type": "display_data"
    }
   ],
   "source": [
    "plt = sage.plot.graphics.Graphics()\n",
    "plt += list_plot (v_sum_dE_f)\n",
    "plt.show ()"
   ]
  },
  {
   "cell_type": "code",
   "execution_count": 38,
   "metadata": {},
   "outputs": [
    {
     "name": "stdout",
     "output_type": "stream",
     "text": [
      "(1, 0.00555554811522916)\n",
      "(2, 0.00555555509052638)\n",
      "(3, 0.00555555546369785)\n",
      "(4, 0.00555555552649120)\n",
      "(5, 0.00555555554365079)\n",
      "(6, 0.00555555554981445)\n",
      "(7, 0.00555555555245665)\n",
      "(8, 0.00555555555373903)\n",
      "(9, 0.00555555555442151)\n",
      "(10, 0.00555555555481151)\n",
      "(11, 0.00555555555504736)\n",
      "(12, 0.00555555555519674)\n",
      "(13, 0.00555555555529504)\n",
      "(14, 0.00555555555536187)\n",
      "(15, 0.00555555555540858)\n",
      "(16, 0.00555555555544202)\n",
      "(17, 0.00555555555546647)\n",
      "(18, 0.00555555555548468)\n",
      "(19, 0.00555555555549846)\n",
      "(20, 0.00555555555550905)\n",
      "(21, 0.00555555555551730)\n",
      "(22, 0.00555555555552379)\n",
      "(23, 0.00555555555552897)\n",
      "(24, 0.00555555555553313)\n",
      "(25, 0.00555555555553651)\n",
      "(26, 0.00555555555553927)\n",
      "(27, 0.00555555555554155)\n",
      "(28, 0.00555555555554345)\n",
      "(29, 0.00555555555554504)\n",
      "(30, 0.00555555555554637)\n",
      "(31, 0.00555555555554750)\n",
      "(32, 0.00555555555554846)\n",
      "(33, 0.00555555555554928)\n",
      "(34, 0.00555555555554999)\n",
      "(35, 0.00555555555555060)\n",
      "(36, 0.00555555555555113)\n",
      "(37, 0.00555555555555159)\n",
      "(38, 0.00555555555555199)\n",
      "(39, 0.00555555555555234)\n",
      "(40, 0.00555555555555265)\n",
      "(41, 0.00555555555555292)\n",
      "(42, 0.00555555555555316)\n",
      "(43, 0.00555555555555338)\n",
      "(44, 0.00555555555555357)\n",
      "(45, 0.00555555555555374)\n",
      "(46, 0.00555555555555389)\n",
      "(47, 0.00555555555555403)\n",
      "(48, 0.00555555555555415)\n",
      "(49, 0.00555555555555427)\n"
     ]
    },
    {
     "data": {
      "text/plain": [
       "[(1, 0.00555554811522916),\n",
       " (2, 0.00555555509052638),\n",
       " (3, 0.00555555546369785),\n",
       " (4, 0.00555555552649120),\n",
       " (5, 0.00555555554365079),\n",
       " (6, 0.00555555554981445),\n",
       " (7, 0.00555555555245665),\n",
       " (8, 0.00555555555373903),\n",
       " (9, 0.00555555555442151),\n",
       " (10, 0.00555555555481151),\n",
       " (11, 0.00555555555504736),\n",
       " (12, 0.00555555555519674),\n",
       " (13, 0.00555555555529504),\n",
       " (14, 0.00555555555536187),\n",
       " (15, 0.00555555555540858),\n",
       " (16, 0.00555555555544202),\n",
       " (17, 0.00555555555546647),\n",
       " (18, 0.00555555555548468),\n",
       " (19, 0.00555555555549846),\n",
       " (20, 0.00555555555550905),\n",
       " (21, 0.00555555555551730),\n",
       " (22, 0.00555555555552379),\n",
       " (23, 0.00555555555552897),\n",
       " (24, 0.00555555555553313),\n",
       " (25, 0.00555555555553651),\n",
       " (26, 0.00555555555553927),\n",
       " (27, 0.00555555555554155),\n",
       " (28, 0.00555555555554345),\n",
       " (29, 0.00555555555554504),\n",
       " (30, 0.00555555555554637),\n",
       " (31, 0.00555555555554750),\n",
       " (32, 0.00555555555554846),\n",
       " (33, 0.00555555555554928),\n",
       " (34, 0.00555555555554999),\n",
       " (35, 0.00555555555555060),\n",
       " (36, 0.00555555555555113),\n",
       " (37, 0.00555555555555159),\n",
       " (38, 0.00555555555555199),\n",
       " (39, 0.00555555555555234),\n",
       " (40, 0.00555555555555265),\n",
       " (41, 0.00555555555555292),\n",
       " (42, 0.00555555555555316),\n",
       " (43, 0.00555555555555338),\n",
       " (44, 0.00555555555555357),\n",
       " (45, 0.00555555555555374),\n",
       " (46, 0.00555555555555389),\n",
       " (47, 0.00555555555555403),\n",
       " (48, 0.00555555555555415),\n",
       " (49, 0.00555555555555427)]"
      ]
     },
     "execution_count": 38,
     "metadata": {},
     "output_type": "execute_result"
    }
   ],
   "source": [
    "v_sum_E_f = []\n",
    "\n",
    "for nk in range(1, 50):\n",
    "    sum_dE_f, vg, vq, v_sum_dE_f = calc_sum_dE(a_f=a_f, k_mf=nk*k_mf)\n",
    "    print((nk, sum_dE_f))\n",
    "    v_sum_E_f += [(nk, sum_dE_f)]\n",
    "\n",
    "v_sum_E_f"
   ]
  },
  {
   "cell_type": "code",
   "execution_count": 39,
   "metadata": {},
   "outputs": [
    {
     "data": {
      "image/png": "[encoded data removed]",
      "text/plain": [
       "Graphics object consisting of 1 graphics primitive"
      ]
     },
     "metadata": {},
     "output_type": "display_data"
    }
   ],
   "source": [
    "plt = sage.plot.graphics.Graphics()\n",
    "plt += list_plot (v_sum_E_f)\n",
    "plt.show ()"
   ]
  },
  {
   "cell_type": "markdown",
   "metadata": {},
   "source": [
    "$\\delta\\,E/L^2 = \\hbar\\,c\\frac{\\pi^2}{4\\,a^3}\\left\\{\\frac{-4}{24\\times30}\\frac{1}{1-a^2\\,k_m^2/\\pi^2}\\right\\}$"
   ]
  },
  {
   "cell_type": "markdown",
   "metadata": {},
   "source": [
    "$\\delta\\,E/L^2 = \\hbar\\,c\\frac{\\pi^2}{4\\,a^3}\\left\\{\\frac{-4}{24\\times30}\\frac{1}{1-a^2\\,k^2/\\pi^2}\\right\\}$"
   ]
  },
  {
   "cell_type": "code",
   "execution_count": null,
   "metadata": {},
   "outputs": [],
   "source": []
  }
 ],
 "metadata": {
  "kernelspec": {
   "display_name": "SageMath 9.6.beta7",
   "language": "sage",
   "name": "sagemath"
  },
  "language_info": {
   "codemirror_mode": {
    "name": "ipython",
    "version": 3
   },
   "file_extension": ".py",
   "mimetype": "text/x-python",
   "name": "python",
   "nbconvert_exporter": "python",
   "pygments_lexer": "ipython3",
   "version": "3.10.3"
  }
 },
 "nbformat": 4,
 "nbformat_minor": 2
}
