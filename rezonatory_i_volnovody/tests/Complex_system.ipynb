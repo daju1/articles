{
 "cells": [
  {
   "cell_type": "code",
   "execution_count": 1,
   "metadata": {},
   "outputs": [],
   "source": [
    "# https://math.stackexchange.com/questions/1996540/solving-linear-equation-systems-with-complex-coefficients-and-variables"
   ]
  },
  {
   "cell_type": "code",
   "execution_count": 2,
   "metadata": {},
   "outputs": [],
   "source": [
    "from IPython.display import display, Math, Latex"
   ]
  },
  {
   "cell_type": "code",
   "execution_count": 3,
   "metadata": {},
   "outputs": [],
   "source": [
    "a11, b11 = var(\"a11, b11\")\n",
    "a12, b12 = var(\"a12, b12\")\n",
    "a13, b13 = var(\"a13, b13\")"
   ]
  },
  {
   "cell_type": "code",
   "execution_count": 4,
   "metadata": {},
   "outputs": [],
   "source": [
    "a21, b21 = var(\"a21, b21\")\n",
    "a22, b22 = var(\"a22, b22\")\n",
    "a23, b23 = var(\"a23, b23\")"
   ]
  },
  {
   "cell_type": "code",
   "execution_count": 5,
   "metadata": {},
   "outputs": [],
   "source": [
    "a31, b31 = var(\"a31, b31\")\n",
    "a32, b32 = var(\"a32, b32\")\n",
    "a33, b33 = var(\"a33, b33\")"
   ]
  },
  {
   "cell_type": "code",
   "execution_count": 6,
   "metadata": {},
   "outputs": [],
   "source": [
    "assume(a11, 'real')\n",
    "assume(a12, 'real')\n",
    "assume(a13, 'real')\n",
    "\n",
    "assume(b11, 'real')\n",
    "assume(b12, 'real')\n",
    "assume(b13, 'real')"
   ]
  },
  {
   "cell_type": "code",
   "execution_count": 7,
   "metadata": {},
   "outputs": [],
   "source": [
    "assume(a21, 'real')\n",
    "assume(a22, 'real')\n",
    "assume(a23, 'real')\n",
    "\n",
    "assume(b21, 'real')\n",
    "assume(b22, 'real')\n",
    "assume(b23, 'real')"
   ]
  },
  {
   "cell_type": "code",
   "execution_count": 8,
   "metadata": {},
   "outputs": [],
   "source": [
    "assume(a31, 'real')\n",
    "assume(a32, 'real')\n",
    "assume(a33, 'real')\n",
    "\n",
    "assume(b31, 'real')\n",
    "assume(b32, 'real')\n",
    "assume(b33, 'real')"
   ]
  },
  {
   "cell_type": "code",
   "execution_count": 9,
   "metadata": {},
   "outputs": [],
   "source": [
    "x1, y1 = var(\"x1, y1\")\n",
    "x2, y2 = var(\"x2, y2\")\n",
    "x3, y3 = var(\"x3, y3\")"
   ]
  },
  {
   "cell_type": "code",
   "execution_count": 10,
   "metadata": {},
   "outputs": [],
   "source": [
    "assume(x1, 'real')\n",
    "assume(x2, 'real')\n",
    "assume(x3, 'real')\n",
    "\n",
    "assume(y1, 'real')\n",
    "assume(y2, 'real')\n",
    "assume(y3, 'real')"
   ]
  },
  {
   "cell_type": "code",
   "execution_count": 11,
   "metadata": {},
   "outputs": [],
   "source": [
    "c11 = a11 + I * b11\n",
    "c12 = a12 + I * b12\n",
    "c13 = a13 + I * b13\n",
    "\n",
    "c21 = a21 + I * b21\n",
    "c22 = a22 + I * b22\n",
    "c23 = a23 + I * b23\n",
    "\n",
    "c31 = a31 + I * b31\n",
    "c32 = a32 + I * b32\n",
    "c33 = a33 + I * b33"
   ]
  },
  {
   "cell_type": "code",
   "execution_count": 12,
   "metadata": {},
   "outputs": [],
   "source": [
    "z1 = x1 + I * y1\n",
    "z2 = x2 + I * y2\n",
    "z3 = x3 + I * y3"
   ]
  },
  {
   "cell_type": "code",
   "execution_count": 13,
   "metadata": {},
   "outputs": [
    {
     "data": {
      "text/plain": [
       "[a11 + I*b11 a12 + I*b12 a13 + I*b13]\n",
       "[a21 + I*b21 a22 + I*b22 a23 + I*b23]\n",
       "[a31 + I*b31 a32 + I*b32 a33 + I*b33]"
      ]
     },
     "execution_count": 13,
     "metadata": {},
     "output_type": "execute_result"
    }
   ],
   "source": [
    "M3=matrix(SR, [\n",
    "    [c11, c12, c13],\n",
    "    [c21, c22, c23],\n",
    "    [c31, c32, c33],\n",
    "])\n",
    "M3"
   ]
  },
  {
   "cell_type": "raw",
   "metadata": {},
   "source": [
    "M3=matrix(SR, [\n",
    "    [a11 + I * b11, a12 + I * b12, a13 + I * b13],\n",
    "    [a21 + I * b21, a22 + I * b22, a23 + I * b23],\n",
    "    [a31 + I * b31, a32 + I * b32, a33 + I * b33],\n",
    "])\n",
    "M3"
   ]
  },
  {
   "cell_type": "code",
   "execution_count": 14,
   "metadata": {},
   "outputs": [],
   "source": [
    "eq1 = c11*z1 + c12*z2 + c13*z3 == 0\n",
    "eq2 = c21*z1 + c22*z2 + c23*z3 == 0\n",
    "eq3 = c31*z1 + c32*z2 + c33*z3 == 0"
   ]
  },
  {
   "cell_type": "code",
   "execution_count": 15,
   "metadata": {},
   "outputs": [
    {
     "data": {
      "text/plain": [
       "((a11 + I*b11)*(x1 + I*y1) + (a12 + I*b12)*(x2 + I*y2) + (a13 + I*b13)*(x3 + I*y3) == 0,\n",
       " (a21 + I*b21)*(x1 + I*y1) + (a22 + I*b22)*(x2 + I*y2) + (a23 + I*b23)*(x3 + I*y3) == 0,\n",
       " (a31 + I*b31)*(x1 + I*y1) + (a32 + I*b32)*(x2 + I*y2) + (a33 + I*b33)*(x3 + I*y3) == 0)"
      ]
     },
     "execution_count": 15,
     "metadata": {},
     "output_type": "execute_result"
    }
   ],
   "source": [
    "eq1,eq2,eq3"
   ]
  },
  {
   "cell_type": "code",
   "execution_count": 16,
   "metadata": {},
   "outputs": [
    {
     "data": {
      "text/plain": [
       "(a11*x1 + a12*x2 + a13*x3 - b11*y1 - b12*y2 - b13*y3 == 0,\n",
       " b11*x1 + b12*x2 + b13*x3 + a11*y1 + a12*y2 + a13*y3 == 0,\n",
       " a21*x1 + a22*x2 + a23*x3 - b21*y1 - b22*y2 - b23*y3 == 0,\n",
       " b21*x1 + b22*x2 + b23*x3 + a21*y1 + a22*y2 + a23*y3 == 0,\n",
       " a31*x1 + a32*x2 + a33*x3 - b31*y1 - b32*y2 - b33*y3 == 0,\n",
       " b31*x1 + b32*x2 + b33*x3 + a31*y1 + a32*y2 + a33*y3 == 0)"
      ]
     },
     "execution_count": 16,
     "metadata": {},
     "output_type": "execute_result"
    }
   ],
   "source": [
    "eq1.lhs().real() == 0, eq1.lhs().imag() == 0, \\\n",
    "eq2.lhs().real() == 0, eq2.lhs().imag() == 0, \\\n",
    "eq3.lhs().real() == 0, eq3.lhs().imag() == 0"
   ]
  },
  {
   "cell_type": "code",
   "execution_count": 17,
   "metadata": {},
   "outputs": [
    {
     "data": {
      "text/plain": [
       "(x1 + I*y1, x2 + I*y2, x3 + I*y3)"
      ]
     },
     "execution_count": 17,
     "metadata": {},
     "output_type": "execute_result"
    }
   ],
   "source": [
    "X3 = vector(SR, [x1 + I * y1, x2 + I * y2, x3 + I * y3])\n",
    "X3"
   ]
  },
  {
   "cell_type": "code",
   "execution_count": 18,
   "metadata": {},
   "outputs": [],
   "source": [
    "B3 = M3*X3"
   ]
  },
  {
   "cell_type": "code",
   "execution_count": 19,
   "metadata": {},
   "outputs": [
    {
     "data": {
      "text/latex": [
       "$\\displaystyle {\\left(a_{11} + i \\, b_{11}\\right)} {\\left(x_{1} + i \\, y_{1}\\right)} + {\\left(a_{12} + i \\, b_{12}\\right)} {\\left(x_{2} + i \\, y_{2}\\right)} + {\\left(a_{13} + i \\, b_{13}\\right)} {\\left(x_{3} + i \\, y_{3}\\right)}$"
      ],
      "text/plain": [
       "<IPython.core.display.Math object>"
      ]
     },
     "metadata": {},
     "output_type": "display_data"
    },
    {
     "data": {
      "text/latex": [
       "$\\displaystyle {\\left(a_{21} + i \\, b_{21}\\right)} {\\left(x_{1} + i \\, y_{1}\\right)} + {\\left(a_{22} + i \\, b_{22}\\right)} {\\left(x_{2} + i \\, y_{2}\\right)} + {\\left(a_{23} + i \\, b_{23}\\right)} {\\left(x_{3} + i \\, y_{3}\\right)}$"
      ],
      "text/plain": [
       "<IPython.core.display.Math object>"
      ]
     },
     "metadata": {},
     "output_type": "display_data"
    },
    {
     "data": {
      "text/latex": [
       "$\\displaystyle {\\left(a_{31} + i \\, b_{31}\\right)} {\\left(x_{1} + i \\, y_{1}\\right)} + {\\left(a_{32} + i \\, b_{32}\\right)} {\\left(x_{2} + i \\, y_{2}\\right)} + {\\left(a_{33} + i \\, b_{33}\\right)} {\\left(x_{3} + i \\, y_{3}\\right)}$"
      ],
      "text/plain": [
       "<IPython.core.display.Math object>"
      ]
     },
     "metadata": {},
     "output_type": "display_data"
    }
   ],
   "source": [
    "display(Math(latex(B3[0])))\n",
    "display(Math(latex(B3[1])))\n",
    "display(Math(latex(B3[2])))"
   ]
  },
  {
   "cell_type": "code",
   "execution_count": 20,
   "metadata": {},
   "outputs": [
    {
     "data": {
      "text/latex": [
       "$\\displaystyle a_{11} x_{1} + i \\, b_{11} x_{1} + a_{12} x_{2} + i \\, b_{12} x_{2} + a_{13} x_{3} + i \\, b_{13} x_{3} + i \\, a_{11} y_{1} - b_{11} y_{1} + i \\, a_{12} y_{2} - b_{12} y_{2} + i \\, a_{13} y_{3} - b_{13} y_{3}$"
      ],
      "text/plain": [
       "<IPython.core.display.Math object>"
      ]
     },
     "metadata": {},
     "output_type": "display_data"
    },
    {
     "data": {
      "text/latex": [
       "$\\displaystyle a_{21} x_{1} + i \\, b_{21} x_{1} + a_{22} x_{2} + i \\, b_{22} x_{2} + a_{23} x_{3} + i \\, b_{23} x_{3} + i \\, a_{21} y_{1} - b_{21} y_{1} + i \\, a_{22} y_{2} - b_{22} y_{2} + i \\, a_{23} y_{3} - b_{23} y_{3}$"
      ],
      "text/plain": [
       "<IPython.core.display.Math object>"
      ]
     },
     "metadata": {},
     "output_type": "display_data"
    },
    {
     "data": {
      "text/latex": [
       "$\\displaystyle a_{31} x_{1} + i \\, b_{31} x_{1} + a_{32} x_{2} + i \\, b_{32} x_{2} + a_{33} x_{3} + i \\, b_{33} x_{3} + i \\, a_{31} y_{1} - b_{31} y_{1} + i \\, a_{32} y_{2} - b_{32} y_{2} + i \\, a_{33} y_{3} - b_{33} y_{3}$"
      ],
      "text/plain": [
       "<IPython.core.display.Math object>"
      ]
     },
     "metadata": {},
     "output_type": "display_data"
    }
   ],
   "source": [
    "display(Math(latex(B3[0].expand())))\n",
    "display(Math(latex(B3[1].expand())))\n",
    "display(Math(latex(B3[2].expand())))"
   ]
  },
  {
   "cell_type": "code",
   "execution_count": 21,
   "metadata": {},
   "outputs": [
    {
     "data": {
      "text/latex": [
       "$\\displaystyle a_{11} x_{1} + a_{12} x_{2} + a_{13} x_{3} - b_{11} y_{1} - b_{12} y_{2} - b_{13} y_{3}$"
      ],
      "text/plain": [
       "<IPython.core.display.Math object>"
      ]
     },
     "metadata": {},
     "output_type": "display_data"
    },
    {
     "data": {
      "text/latex": [
       "$\\displaystyle b_{11} x_{1} + b_{12} x_{2} + b_{13} x_{3} + a_{11} y_{1} + a_{12} y_{2} + a_{13} y_{3}$"
      ],
      "text/plain": [
       "<IPython.core.display.Math object>"
      ]
     },
     "metadata": {},
     "output_type": "display_data"
    },
    {
     "data": {
      "text/latex": [
       "$\\displaystyle a_{21} x_{1} + a_{22} x_{2} + a_{23} x_{3} - b_{21} y_{1} - b_{22} y_{2} - b_{23} y_{3}$"
      ],
      "text/plain": [
       "<IPython.core.display.Math object>"
      ]
     },
     "metadata": {},
     "output_type": "display_data"
    },
    {
     "data": {
      "text/latex": [
       "$\\displaystyle b_{21} x_{1} + b_{22} x_{2} + b_{23} x_{3} + a_{21} y_{1} + a_{22} y_{2} + a_{23} y_{3}$"
      ],
      "text/plain": [
       "<IPython.core.display.Math object>"
      ]
     },
     "metadata": {},
     "output_type": "display_data"
    },
    {
     "data": {
      "text/latex": [
       "$\\displaystyle a_{31} x_{1} + a_{32} x_{2} + a_{33} x_{3} - b_{31} y_{1} - b_{32} y_{2} - b_{33} y_{3}$"
      ],
      "text/plain": [
       "<IPython.core.display.Math object>"
      ]
     },
     "metadata": {},
     "output_type": "display_data"
    },
    {
     "data": {
      "text/latex": [
       "$\\displaystyle b_{31} x_{1} + b_{32} x_{2} + b_{33} x_{3} + a_{31} y_{1} + a_{32} y_{2} + a_{33} y_{3}$"
      ],
      "text/plain": [
       "<IPython.core.display.Math object>"
      ]
     },
     "metadata": {},
     "output_type": "display_data"
    }
   ],
   "source": [
    "display(Math(latex(B3[0].expand().real())))\n",
    "display(Math(latex(B3[0].expand().imag())))\n",
    "display(Math(latex(B3[1].expand().real())))\n",
    "display(Math(latex(B3[1].expand().imag())))\n",
    "display(Math(latex(B3[2].expand().real())))\n",
    "display(Math(latex(B3[2].expand().imag())))"
   ]
  },
  {
   "cell_type": "code",
   "execution_count": 38,
   "metadata": {},
   "outputs": [],
   "source": [
    "def GenerateMatrix(equsys, vars):\n",
    "    A=matrix(SR, [[(equ.lhs() - equ.rhs()).coefficient(v) for v in vars] for equ in equsys])\n",
    "    return A"
   ]
  },
  {
   "cell_type": "code",
   "execution_count": 39,
   "metadata": {},
   "outputs": [],
   "source": [
    "eq_sys_6  = [B3[0].expand().real() == 0,\n",
    "             B3[0].expand().imag() == 0,\n",
    "             B3[1].expand().real() == 0,\n",
    "             B3[1].expand().imag() == 0,\n",
    "             B3[2].expand().real() == 0,\n",
    "             B3[2].expand().imag() == 0]"
   ]
  },
  {
   "cell_type": "code",
   "execution_count": 40,
   "metadata": {},
   "outputs": [],
   "source": [
    "X6 = vector(SR, [x1, y1, x2, y2, x3, y3])\n",
    "#X6"
   ]
  },
  {
   "cell_type": "code",
   "execution_count": 41,
   "metadata": {},
   "outputs": [
    {
     "data": {
      "text/plain": [
       "[ a11 -b11  a12 -b12  a13 -b13]\n",
       "[ b11  a11  b12  a12  b13  a13]\n",
       "[ a21 -b21  a22 -b22  a23 -b23]\n",
       "[ b21  a21  b22  a22  b23  a23]\n",
       "[ a31 -b31  a32 -b32  a33 -b33]\n",
       "[ b31  a31  b32  a32  b33  a33]"
      ]
     },
     "execution_count": 41,
     "metadata": {},
     "output_type": "execute_result"
    }
   ],
   "source": [
    "M6=GenerateMatrix(eq_sys_6, X6)\n",
    "M6"
   ]
  },
  {
   "cell_type": "code",
   "execution_count": 42,
   "metadata": {},
   "outputs": [],
   "source": [
    "B6 = M6*X6"
   ]
  },
  {
   "cell_type": "code",
   "execution_count": 48,
   "metadata": {},
   "outputs": [
    {
     "data": {
      "text/latex": [
       "$\\displaystyle a_{11} x_{1} + a_{12} x_{2} + a_{13} x_{3} - b_{11} y_{1} - b_{12} y_{2} - b_{13} y_{3}$"
      ],
      "text/plain": [
       "<IPython.core.display.Math object>"
      ]
     },
     "metadata": {},
     "output_type": "display_data"
    },
    {
     "data": {
      "text/latex": [
       "$\\displaystyle b_{11} x_{1} + b_{12} x_{2} + b_{13} x_{3} + a_{11} y_{1} + a_{12} y_{2} + a_{13} y_{3}$"
      ],
      "text/plain": [
       "<IPython.core.display.Math object>"
      ]
     },
     "metadata": {},
     "output_type": "display_data"
    },
    {
     "data": {
      "text/latex": [
       "$\\displaystyle a_{21} x_{1} + a_{22} x_{2} + a_{23} x_{3} - b_{21} y_{1} - b_{22} y_{2} - b_{23} y_{3}$"
      ],
      "text/plain": [
       "<IPython.core.display.Math object>"
      ]
     },
     "metadata": {},
     "output_type": "display_data"
    },
    {
     "data": {
      "text/latex": [
       "$\\displaystyle b_{21} x_{1} + b_{22} x_{2} + b_{23} x_{3} + a_{21} y_{1} + a_{22} y_{2} + a_{23} y_{3}$"
      ],
      "text/plain": [
       "<IPython.core.display.Math object>"
      ]
     },
     "metadata": {},
     "output_type": "display_data"
    },
    {
     "data": {
      "text/latex": [
       "$\\displaystyle a_{31} x_{1} + a_{32} x_{2} + a_{33} x_{3} - b_{31} y_{1} - b_{32} y_{2} - b_{33} y_{3}$"
      ],
      "text/plain": [
       "<IPython.core.display.Math object>"
      ]
     },
     "metadata": {},
     "output_type": "display_data"
    },
    {
     "data": {
      "text/latex": [
       "$\\displaystyle b_{31} x_{1} + b_{32} x_{2} + b_{33} x_{3} + a_{31} y_{1} + a_{32} y_{2} + a_{33} y_{3}$"
      ],
      "text/plain": [
       "<IPython.core.display.Math object>"
      ]
     },
     "metadata": {},
     "output_type": "display_data"
    }
   ],
   "source": [
    "display(Math(latex(B6[0].expand())))\n",
    "display(Math(latex(B6[1].expand())))\n",
    "display(Math(latex(B6[2].expand())))\n",
    "display(Math(latex(B6[3].expand())))\n",
    "display(Math(latex(B6[4].expand())))\n",
    "display(Math(latex(B6[5].expand())))"
   ]
  },
  {
   "cell_type": "code",
   "execution_count": 49,
   "metadata": {},
   "outputs": [],
   "source": [
    "X51 = vector(SR, [1, y1, x2, y2, x3, y3])\n",
    "#X6"
   ]
  },
  {
   "cell_type": "code",
   "execution_count": 50,
   "metadata": {},
   "outputs": [],
   "source": [
    "X01 = vector(SR, [1, 0, 0, 0, 0, 0])\n",
    "#X6"
   ]
  },
  {
   "cell_type": "code",
   "execution_count": 51,
   "metadata": {},
   "outputs": [],
   "source": [
    "B51 = M6*X51"
   ]
  },
  {
   "cell_type": "code",
   "execution_count": 52,
   "metadata": {},
   "outputs": [
    {
     "data": {
      "text/plain": [
       "(a11, b11, a21, b21, a31, b31)"
      ]
     },
     "execution_count": 52,
     "metadata": {},
     "output_type": "execute_result"
    }
   ],
   "source": [
    "B01 = M6*X01\n",
    "B01"
   ]
  },
  {
   "cell_type": "code",
   "execution_count": 53,
   "metadata": {},
   "outputs": [
    {
     "data": {
      "text/latex": [
       "$\\displaystyle \\left(a_{11},\\,b_{11},\\,a_{21},\\,b_{21},\\,a_{31},\\,b_{31}\\right)$"
      ],
      "text/plain": [
       "<IPython.core.display.Math object>"
      ]
     },
     "metadata": {},
     "output_type": "display_data"
    }
   ],
   "source": [
    "display(Math(latex(B01)))"
   ]
  },
  {
   "cell_type": "code",
   "execution_count": 54,
   "metadata": {},
   "outputs": [
    {
     "data": {
      "text/latex": [
       "$\\displaystyle a_{12} x_{2} + a_{13} x_{3} - b_{11} y_{1} - b_{12} y_{2} - b_{13} y_{3} + a_{11}$"
      ],
      "text/plain": [
       "<IPython.core.display.Math object>"
      ]
     },
     "metadata": {},
     "output_type": "display_data"
    },
    {
     "data": {
      "text/latex": [
       "$\\displaystyle b_{12} x_{2} + b_{13} x_{3} + a_{11} y_{1} + a_{12} y_{2} + a_{13} y_{3} + b_{11}$"
      ],
      "text/plain": [
       "<IPython.core.display.Math object>"
      ]
     },
     "metadata": {},
     "output_type": "display_data"
    },
    {
     "data": {
      "text/latex": [
       "$\\displaystyle a_{22} x_{2} + a_{23} x_{3} - b_{21} y_{1} - b_{22} y_{2} - b_{23} y_{3} + a_{21}$"
      ],
      "text/plain": [
       "<IPython.core.display.Math object>"
      ]
     },
     "metadata": {},
     "output_type": "display_data"
    },
    {
     "data": {
      "text/latex": [
       "$\\displaystyle b_{22} x_{2} + b_{23} x_{3} + a_{21} y_{1} + a_{22} y_{2} + a_{23} y_{3} + b_{21}$"
      ],
      "text/plain": [
       "<IPython.core.display.Math object>"
      ]
     },
     "metadata": {},
     "output_type": "display_data"
    },
    {
     "data": {
      "text/latex": [
       "$\\displaystyle a_{32} x_{2} + a_{33} x_{3} - b_{31} y_{1} - b_{32} y_{2} - b_{33} y_{3} + a_{31}$"
      ],
      "text/plain": [
       "<IPython.core.display.Math object>"
      ]
     },
     "metadata": {},
     "output_type": "display_data"
    },
    {
     "data": {
      "text/latex": [
       "$\\displaystyle b_{32} x_{2} + b_{33} x_{3} + a_{31} y_{1} + a_{32} y_{2} + a_{33} y_{3} + b_{31}$"
      ],
      "text/plain": [
       "<IPython.core.display.Math object>"
      ]
     },
     "metadata": {},
     "output_type": "display_data"
    }
   ],
   "source": [
    "display(Math(latex(B51[0].expand())))\n",
    "display(Math(latex(B51[1].expand())))\n",
    "display(Math(latex(B51[2].expand())))\n",
    "display(Math(latex(B51[3].expand())))\n",
    "display(Math(latex(B51[4].expand())))\n",
    "display(Math(latex(B51[5].expand())))"
   ]
  },
  {
   "cell_type": "code",
   "execution_count": null,
   "metadata": {},
   "outputs": [],
   "source": []
  },
  {
   "cell_type": "code",
   "execution_count": null,
   "metadata": {},
   "outputs": [],
   "source": []
  }
 ],
 "metadata": {
  "kernelspec": {
   "display_name": "SageMath 9.4.rc2",
   "language": "sage",
   "name": "sagemath"
  },
  "language_info": {
   "codemirror_mode": {
    "name": "ipython",
    "version": 3
   },
   "file_extension": ".py",
   "mimetype": "text/x-python",
   "name": "python",
   "nbconvert_exporter": "python",
   "pygments_lexer": "ipython3",
   "version": "3.9.5"
  }
 },
 "nbformat": 4,
 "nbformat_minor": 4
}
