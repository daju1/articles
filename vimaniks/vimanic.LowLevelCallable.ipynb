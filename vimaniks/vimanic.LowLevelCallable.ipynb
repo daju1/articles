{
 "cells": [
  {
   "cell_type": "code",
   "execution_count": 6,
   "id": "83bee190",
   "metadata": {},
   "outputs": [
    {
     "data": {
      "text/plain": [
       "0"
      ]
     },
     "execution_count": 6,
     "metadata": {},
     "output_type": "execute_result"
    }
   ],
   "source": [
    "import os \n",
    "import numpy as np\n",
    "from scipy import integrate as scipy_integrate, LowLevelCallable\n",
    "# Command to execute\n",
    "cmd = 'cc -fPIC -shared -o lw_vimanic.so lw_rotate.c lw_vimanic.c  lw_tensor.c lw_vimanic_integrands.c'\n",
    "\n",
    "# Using os.system() method\n",
    "os.system(cmd)"
   ]
  },
  {
   "cell_type": "code",
   "execution_count": 7,
   "id": "ec5fbb97",
   "metadata": {},
   "outputs": [],
   "source": [
    "# Access your C code\n",
    "import ctypes\n",
    "so_file = \"./lw_vimanic.so\"\n",
    "c_functions = ctypes.CDLL(so_file)"
   ]
  },
  {
   "cell_type": "code",
   "execution_count": 8,
   "id": "696ff796",
   "metadata": {},
   "outputs": [],
   "source": [
    "def set_c():\n",
    "    #c_functions.cset_c.restype =  ctypes.c_void\n",
    "    c_functions.cset_c.argtypes = (ctypes.c_longdouble,)\n",
    "    return c_functions.cset_c"
   ]
  },
  {
   "cell_type": "code",
   "execution_count": 9,
   "id": "83d0a3fe",
   "metadata": {},
   "outputs": [],
   "source": [
    "def set_vc():\n",
    "    #c_functions.cset_vc.restype =  ctypes.c_void\n",
    "    c_functions.cset_vc.argtypes = (ctypes.c_longdouble,)\n",
    "    return c_functions.cset_vc"
   ]
  },
  {
   "cell_type": "code",
   "execution_count": 10,
   "id": "34bebd67",
   "metadata": {},
   "outputs": [],
   "source": [
    "def set_sphere_R():\n",
    "    #c_functions.cset_sphere_R.restype =  ctypes.c_void\n",
    "    c_functions.cset_sphere_R.argtypes = (ctypes.c_longdouble,)\n",
    "    return c_functions.cset_sphere_R"
   ]
  },
  {
   "cell_type": "code",
   "execution_count": 11,
   "id": "8d4de30c",
   "metadata": {},
   "outputs": [],
   "source": [
    "def set_S():\n",
    "    #c_functions.cset_S.restype =  ctypes.c_void\n",
    "    c_functions.cset_S.argtypes = (ctypes.c_longdouble,)\n",
    "    return c_functions.cset_S"
   ]
  },
  {
   "cell_type": "code",
   "execution_count": 12,
   "id": "dcf695db",
   "metadata": {},
   "outputs": [],
   "source": [
    "def get_c():\n",
    "    c_functions.cget_c.restype =  ctypes.c_longdouble\n",
    "    c_functions.cget_c.argtypes = ()\n",
    "    return c_functions.cget_c"
   ]
  },
  {
   "cell_type": "code",
   "execution_count": 13,
   "id": "9dfad62d",
   "metadata": {},
   "outputs": [],
   "source": [
    "def get_omega():\n",
    "    c_functions.cget_omega.restype =  ctypes.c_longdouble\n",
    "    c_functions.cget_omega.argtypes = ()\n",
    "    return c_functions.cget_omega"
   ]
  },
  {
   "cell_type": "code",
   "execution_count": 14,
   "id": "8b59dda8",
   "metadata": {},
   "outputs": [],
   "source": [
    "def get_vc():\n",
    "    c_functions.cget_vc.restype =  ctypes.c_longdouble\n",
    "    c_functions.cget_vc.argtypes = ()\n",
    "    return c_functions.cget_vc"
   ]
  },
  {
   "cell_type": "code",
   "execution_count": 15,
   "id": "54ab0a89",
   "metadata": {},
   "outputs": [],
   "source": [
    "def get_R_r():\n",
    "    c_functions.cget_R_r.restype =  ctypes.c_longdouble\n",
    "    c_functions.cget_R_r.argtypes = ()\n",
    "    return c_functions.cget_R_r"
   ]
  },
  {
   "cell_type": "code",
   "execution_count": 16,
   "id": "e1484c0e",
   "metadata": {},
   "outputs": [],
   "source": [
    "def get_R_l():\n",
    "    c_functions.cget_R_l.restype =  ctypes.c_longdouble\n",
    "    c_functions.cget_R_l.argtypes = ()\n",
    "    return c_functions.cget_R_l"
   ]
  },
  {
   "cell_type": "code",
   "execution_count": 17,
   "id": "fabcaa93",
   "metadata": {},
   "outputs": [],
   "source": [
    "def get_S():\n",
    "    c_functions.cget_S.restype =  ctypes.c_longdouble\n",
    "    c_functions.cget_S.argtypes = ()\n",
    "    return c_functions.cget_S"
   ]
  },
  {
   "cell_type": "code",
   "execution_count": 18,
   "id": "8bbbaca1",
   "metadata": {},
   "outputs": [],
   "source": [
    "def get_sphere_R():\n",
    "    c_functions.cget_sphere_R.restype =  ctypes.c_longdouble\n",
    "    c_functions.cget_sphere_R.argtypes = ()\n",
    "    return c_functions.cget_sphere_R"
   ]
  },
  {
   "cell_type": "code",
   "execution_count": 19,
   "id": "187e5da2",
   "metadata": {},
   "outputs": [
    {
     "data": {
      "text/plain": [
       "919937488"
      ]
     },
     "execution_count": 19,
     "metadata": {},
     "output_type": "execute_result"
    }
   ],
   "source": [
    "set_c()(1.0)"
   ]
  },
  {
   "cell_type": "code",
   "execution_count": 20,
   "id": "dcbdb6d7",
   "metadata": {},
   "outputs": [
    {
     "data": {
      "text/plain": [
       "1.0"
      ]
     },
     "execution_count": 20,
     "metadata": {},
     "output_type": "execute_result"
    }
   ],
   "source": [
    "get_c()()"
   ]
  },
  {
   "cell_type": "code",
   "execution_count": 21,
   "id": "d47d94e5",
   "metadata": {},
   "outputs": [
    {
     "data": {
      "text/plain": [
       "0.8"
      ]
     },
     "execution_count": 21,
     "metadata": {},
     "output_type": "execute_result"
    }
   ],
   "source": [
    "get_vc()()"
   ]
  },
  {
   "cell_type": "code",
   "execution_count": 22,
   "id": "54737f23",
   "metadata": {},
   "outputs": [
    {
     "data": {
      "text/plain": [
       "0"
      ]
     },
     "execution_count": 22,
     "metadata": {},
     "output_type": "execute_result"
    }
   ],
   "source": [
    "set_vc()(0.8)"
   ]
  },
  {
   "cell_type": "code",
   "execution_count": 23,
   "id": "9f85489b",
   "metadata": {},
   "outputs": [
    {
     "data": {
      "text/plain": [
       "0.8"
      ]
     },
     "execution_count": 23,
     "metadata": {},
     "output_type": "execute_result"
    }
   ],
   "source": [
    "get_omega()()"
   ]
  },
  {
   "cell_type": "code",
   "execution_count": 24,
   "id": "f2377875",
   "metadata": {},
   "outputs": [
    {
     "data": {
      "text/plain": [
       "6.15000000000000"
      ]
     },
     "execution_count": 24,
     "metadata": {},
     "output_type": "execute_result"
    }
   ],
   "source": [
    "# радиус сферы интегрирования\n",
    "R = 4 * get_R_l()() + 2 * get_S()()\n",
    "R *= 1.5\n",
    "# R = 40 * get_R_l() + 20 * get_S()\n",
    "\n",
    "R"
   ]
  },
  {
   "cell_type": "code",
   "execution_count": 25,
   "id": "1a2991f8",
   "metadata": {},
   "outputs": [
    {
     "data": {
      "text/plain": [
       "6.1499999999999995"
      ]
     },
     "execution_count": 25,
     "metadata": {},
     "output_type": "execute_result"
    }
   ],
   "source": [
    "set_sphere_R()(R)\n",
    "get_sphere_R()()"
   ]
  },
  {
   "cell_type": "code",
   "execution_count": null,
   "id": "3bd2716f",
   "metadata": {},
   "outputs": [],
   "source": []
  },
  {
   "cell_type": "code",
   "execution_count": 26,
   "id": "8d4aad6f",
   "metadata": {},
   "outputs": [],
   "source": [
    "T = np.float128(2*pi)/get_omega()()"
   ]
  },
  {
   "cell_type": "code",
   "execution_count": 27,
   "id": "96f6296c",
   "metadata": {},
   "outputs": [],
   "source": [
    "def sum_Fy_Integrand():\n",
    "    c_functions.sum_Fy_Integrand.restype =  ctypes.c_double\n",
    "    c_functions.sum_Fy_Integrand.argtypes = (ctypes.c_double, ctypes.c_void_p)\n",
    "    return c_functions.sum_Fy_Integrand"
   ]
  },
  {
   "cell_type": "code",
   "execution_count": 28,
   "id": "e08ebc88",
   "metadata": {},
   "outputs": [],
   "source": [
    "def Maxwells_stress_tensor_Integrand():\n",
    "    c_functions.Maxwells_stress_tensor_Integrand.restype =  ctypes.c_double\n",
    "    c_functions.Maxwells_stress_tensor_Integrand.argtypes = (ctypes.c_int, ctypes.POINTER(ctypes.c_double), ctypes.c_void_p)\n",
    "    return c_functions.Maxwells_stress_tensor_Integrand"
   ]
  },
  {
   "cell_type": "code",
   "execution_count": 29,
   "id": "83decf3e",
   "metadata": {},
   "outputs": [
    {
     "data": {
      "text/plain": [
       "(-1.455904203057484, 8.170211071819577e-12)"
      ]
     },
     "execution_count": 29,
     "metadata": {},
     "output_type": "execute_result"
    }
   ],
   "source": [
    "# интеграл компоненты силы по оси y, приложенной к зарядам, по периоду\n",
    "int_fy = scipy_integrate.quad(LowLevelCallable(sum_Fy_Integrand()), 0, T)\n",
    "int_fy"
   ]
  },
  {
   "cell_type": "code",
   "execution_count": 30,
   "id": "c3d5be7a",
   "metadata": {},
   "outputs": [
    {
     "name": "stdout",
     "output_type": "stream",
     "text": [
      "11 ms ± 160 µs per loop (mean ± std. dev. of 7 runs, 100 loops each)\n"
     ]
    }
   ],
   "source": [
    "%timeit scipy_integrate.quad(LowLevelCallable(sum_Fy_Integrand()), 0, T)"
   ]
  },
  {
   "cell_type": "code",
   "execution_count": 31,
   "id": "1246a158",
   "metadata": {},
   "outputs": [
    {
     "data": {
      "text/plain": [
       "-0.18537148046789209862"
      ]
     },
     "execution_count": 31,
     "metadata": {},
     "output_type": "execute_result"
    }
   ],
   "source": [
    "# интеграл компоненты силы по оси y, приложенной к зарядам, по периоду отнесённый к периоду\n",
    "int_fy[0] / T"
   ]
  },
  {
   "cell_type": "code",
   "execution_count": 32,
   "id": "6d234c75",
   "metadata": {},
   "outputs": [],
   "source": [
    "nquad_opts_2 = { 'epsabs' : 1.0e-07,\n",
    "                 'epsrel' : 1.0e-07,\n",
    "                 'limit'  : 100 }"
   ]
  },
  {
   "cell_type": "code",
   "execution_count": 33,
   "id": "3476f48a",
   "metadata": {},
   "outputs": [],
   "source": [
    "nquad_opts_2 = { 'epsabs' : 1.0e-02,\n",
    "                 'epsrel' : 1.0e-04,\n",
    "                 'limit'  : 100 }"
   ]
  },
  {
   "cell_type": "code",
   "execution_count": 34,
   "id": "00e428fc",
   "metadata": {},
   "outputs": [
    {
     "name": "stdout",
     "output_type": "stream",
     "text": [
      "1min ± 312 ms per loop (mean ± std. dev. of 7 runs, 1 loop each)\n"
     ]
    }
   ],
   "source": [
    "%timeit Maxwells_stress_tensor_R_upper_half_sphere = scipy_integrate.nquad( \\\n",
    "    LowLevelCallable(Maxwells_stress_tensor_Integrand()), \\\n",
    "        [ [0, np.float128(pi)/2],  [0, np.float128(2*pi)],  [0, T]], opts=nquad_opts_2)"
   ]
  },
  {
   "cell_type": "code",
   "execution_count": 35,
   "id": "b0a44a18",
   "metadata": {},
   "outputs": [],
   "source": [
    "Maxwells_stress_tensor_R_upper_half_sphere = scipy_integrate.nquad( \\\n",
    "    LowLevelCallable(Maxwells_stress_tensor_Integrand()), \\\n",
    "        [ [0, np.float128(pi)/2],  [0, np.float128(2*pi)],  [0, T]], opts=nquad_opts_2)"
   ]
  },
  {
   "cell_type": "code",
   "execution_count": 36,
   "id": "7edcdd67",
   "metadata": {},
   "outputs": [
    {
     "data": {
      "text/plain": [
       "(10.58782995281271, 0.009992326656096298)"
      ]
     },
     "execution_count": 36,
     "metadata": {},
     "output_type": "execute_result"
    }
   ],
   "source": [
    "Maxwells_stress_tensor_R_upper_half_sphere"
   ]
  },
  {
   "cell_type": "code",
   "execution_count": 37,
   "id": "681f082b",
   "metadata": {},
   "outputs": [
    {
     "data": {
      "text/plain": [
       "(10.58782995281271, 0.009992326656096298)"
      ]
     },
     "execution_count": 37,
     "metadata": {},
     "output_type": "execute_result"
    }
   ],
   "source": [
    "Maxwells_stress_tensor_R_upper_half_sphere"
   ]
  },
  {
   "cell_type": "code",
   "execution_count": 38,
   "id": "8e2d71fc",
   "metadata": {},
   "outputs": [
    {
     "data": {
      "text/plain": [
       "(10.58782995281271, 0.009992326656096298)"
      ]
     },
     "execution_count": 38,
     "metadata": {},
     "output_type": "execute_result"
    }
   ],
   "source": [
    "Maxwells_stress_tensor_R_upper_half_sphere"
   ]
  },
  {
   "cell_type": "code",
   "execution_count": 39,
   "id": "e4658790",
   "metadata": {},
   "outputs": [],
   "source": [
    "Maxwells_stress_tensor_R_down_half_sphere = scipy_integrate.nquad( \\\n",
    "    LowLevelCallable(Maxwells_stress_tensor_Integrand()), \\\n",
    "        [ [np.float128(pi)/2, np.float128(pi)],  [0, np.float128(2*pi)],  [0, T]], opts=nquad_opts_2)"
   ]
  },
  {
   "cell_type": "code",
   "execution_count": 40,
   "id": "d01f7b4a",
   "metadata": {},
   "outputs": [
    {
     "data": {
      "text/plain": [
       "(-9.131892247848509, 0.009992905324533785)"
      ]
     },
     "execution_count": 40,
     "metadata": {},
     "output_type": "execute_result"
    }
   ],
   "source": [
    "Maxwells_stress_tensor_R_down_half_sphere"
   ]
  },
  {
   "cell_type": "code",
   "execution_count": 41,
   "id": "e82a471a",
   "metadata": {},
   "outputs": [
    {
     "data": {
      "text/plain": [
       "1.4559377049642013"
      ]
     },
     "execution_count": 41,
     "metadata": {},
     "output_type": "execute_result"
    }
   ],
   "source": [
    "Maxwells_stress_tensor_R_upper_half_sphere[0] + Maxwells_stress_tensor_R_down_half_sphere[0]"
   ]
  },
  {
   "cell_type": "code",
   "execution_count": 29,
   "id": "ef3567de",
   "metadata": {},
   "outputs": [
    {
     "data": {
      "text/plain": [
       "(-1.455904203057484, 8.170211071819577e-12)"
      ]
     },
     "execution_count": 29,
     "metadata": {},
     "output_type": "execute_result"
    }
   ],
   "source": [
    "# интеграл компоненты силы по оси y, приложенной к зарядам, по периоду\n",
    "int_fy = scipy_integrate.quad(LowLevelCallable(sum_Fy_Integrand()), 0, T)\n",
    "int_fy"
   ]
  },
  {
   "cell_type": "code",
   "execution_count": 42,
   "id": "21a0531c",
   "metadata": {},
   "outputs": [
    {
     "ename": "ValueError",
     "evalue": "",
     "output_type": "error",
     "traceback": [
      "\u001b[0;31m---------------------------------------------------------------------------\u001b[0m",
      "\u001b[0;31mValueError\u001b[0m                                Traceback (most recent call last)",
      "\u001b[0;32m/tmp/ipykernel_947/1507485033.py\u001b[0m in \u001b[0;36m<module>\u001b[0;34m\u001b[0m\n\u001b[0;32m----> 1\u001b[0;31m \u001b[0mMaxwells_stress_tensor_R\u001b[0m \u001b[0;34m=\u001b[0m \u001b[0mscipy_integrate\u001b[0m\u001b[0;34m.\u001b[0m\u001b[0mnquad\u001b[0m\u001b[0;34m(\u001b[0m\u001b[0mLowLevelCallable\u001b[0m\u001b[0;34m(\u001b[0m\u001b[0mMaxwells_stress_tensor_Integrand\u001b[0m\u001b[0;34m(\u001b[0m\u001b[0;34m)\u001b[0m\u001b[0;34m)\u001b[0m         \u001b[0;34m[\u001b[0m \u001b[0;34m[\u001b[0m\u001b[0mInteger\u001b[0m\u001b[0;34m(\u001b[0m\u001b[0;36m0\u001b[0m\u001b[0;34m)\u001b[0m\u001b[0;34m,\u001b[0m \u001b[0mnp\u001b[0m\u001b[0;34m.\u001b[0m\u001b[0mfloat128\u001b[0m\u001b[0;34m(\u001b[0m\u001b[0mpi\u001b[0m\u001b[0;34m)\u001b[0m\u001b[0;34m]\u001b[0m\u001b[0;34m,\u001b[0m  \u001b[0;34m[\u001b[0m\u001b[0mInteger\u001b[0m\u001b[0;34m(\u001b[0m\u001b[0;36m0\u001b[0m\u001b[0;34m)\u001b[0m\u001b[0;34m,\u001b[0m \u001b[0mnp\u001b[0m\u001b[0;34m.\u001b[0m\u001b[0mfloat128\u001b[0m\u001b[0;34m(\u001b[0m\u001b[0mInteger\u001b[0m\u001b[0;34m(\u001b[0m\u001b[0;36m2\u001b[0m\u001b[0;34m)\u001b[0m\u001b[0;34m*\u001b[0m\u001b[0mpi\u001b[0m\u001b[0;34m)\u001b[0m\u001b[0;34m]\u001b[0m\u001b[0;34m,\u001b[0m  \u001b[0;34m[\u001b[0m\u001b[0mInteger\u001b[0m\u001b[0;34m(\u001b[0m\u001b[0;36m0\u001b[0m\u001b[0;34m)\u001b[0m\u001b[0;34m,\u001b[0m \u001b[0mT\u001b[0m\u001b[0;34m]\u001b[0m\u001b[0;34m]\u001b[0m\u001b[0;34m,\u001b[0m \u001b[0mopts\u001b[0m\u001b[0;34m=\u001b[0m\u001b[0mnquad_opts_2\u001b[0m\u001b[0;34m)\u001b[0m\u001b[0;34m\u001b[0m\u001b[0;34m\u001b[0m\u001b[0m\n\u001b[0m",
      "\u001b[0;32m/usr3/articles/sagemath_docker_build/sage/local/lib/python3.10/site-packages/scipy/_lib/_ccallback.py\u001b[0m in \u001b[0;36m__getitem__\u001b[0;34m(self, idx)\u001b[0m\n\u001b[1;32m    104\u001b[0m \u001b[0;34m\u001b[0m\u001b[0m\n\u001b[1;32m    105\u001b[0m     \u001b[0;32mdef\u001b[0m \u001b[0m__getitem__\u001b[0m\u001b[0;34m(\u001b[0m\u001b[0mself\u001b[0m\u001b[0;34m,\u001b[0m \u001b[0midx\u001b[0m\u001b[0;34m)\u001b[0m\u001b[0;34m:\u001b[0m\u001b[0;34m\u001b[0m\u001b[0;34m\u001b[0m\u001b[0m\n\u001b[0;32m--> 106\u001b[0;31m         \u001b[0;32mraise\u001b[0m \u001b[0mValueError\u001b[0m\u001b[0;34m(\u001b[0m\u001b[0;34m)\u001b[0m\u001b[0;34m\u001b[0m\u001b[0;34m\u001b[0m\u001b[0m\n\u001b[0m\u001b[1;32m    107\u001b[0m \u001b[0;34m\u001b[0m\u001b[0m\n\u001b[1;32m    108\u001b[0m     \u001b[0;34m@\u001b[0m\u001b[0mclassmethod\u001b[0m\u001b[0;34m\u001b[0m\u001b[0;34m\u001b[0m\u001b[0m\n",
      "\u001b[0;31mValueError\u001b[0m: "
     ]
    }
   ],
   "source": [
    "Maxwells_stress_tensor_R = scipy_integrate.nquad(LowLevelCallable(Maxwells_stress_tensor_Integrand()) \\\n",
    "        [ [0, np.float128(pi)],  [0, np.float128(2*pi)],  [0, T]], opts=nquad_opts_2)\n"
   ]
  },
  {
   "cell_type": "code",
   "execution_count": null,
   "id": "8d7fb004",
   "metadata": {},
   "outputs": [],
   "source": [
    "Maxwells_stress_tensor_R"
   ]
  },
  {
   "cell_type": "code",
   "execution_count": null,
   "id": "6df51651",
   "metadata": {},
   "outputs": [],
   "source": []
  }
 ],
 "metadata": {
  "kernelspec": {
   "display_name": "SageMath 9.6.beta7",
   "language": "sage",
   "name": "sagemath"
  },
  "language_info": {
   "codemirror_mode": {
    "name": "ipython",
    "version": 3
   },
   "file_extension": ".py",
   "mimetype": "text/x-python",
   "name": "python",
   "nbconvert_exporter": "python",
   "pygments_lexer": "ipython3",
   "version": "3.10.3"
  }
 },
 "nbformat": 4,
 "nbformat_minor": 5
}
