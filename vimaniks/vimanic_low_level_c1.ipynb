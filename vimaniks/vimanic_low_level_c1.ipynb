{
 "cells": [
  {
   "cell_type": "markdown",
   "id": "d9cd2868",
   "metadata": {},
   "source": [
    "# О возникновении силы тяги в системе вращающихся зарядов"
   ]
  },
  {
   "cell_type": "code",
   "execution_count": 1,
   "id": "7c76be40",
   "metadata": {},
   "outputs": [],
   "source": [
    "%%cython\n",
    "cdef extern from \"lw_rotate.c\":\n",
    "    # расчет итерациями запаздывающего момента\n",
    "    double tlag(long double x, long double y, long double z, long double t, \n",
    "                long double (*Coordinate)(long double t_zap,\n",
    "                                     long double xc, long double yc, long double zc,\n",
    "                                     long double R, long double omega, long double alpha),\n",
    "                long double (*Coordinate)(long double t_zap,\n",
    "                                     long double xc, long double yc, long double zc,\n",
    "                                     long double R, long double omega, long double alpha),\n",
    "                long double (*Coordinate)(long double t_zap,\n",
    "                                     long double xc, long double yc, long double zc,\n",
    "                                     long double R, long double omega, long double alpha),\n",
    "                long double (*Velocity)(long double t_zap,\n",
    "                                   long double xc, long double yc, long double zc,\n",
    "                                   long double R, long double omega, long double alpha),\n",
    "                long double (*Velocity)(long double t_zap,\n",
    "                                   long double xc, long double yc, long double zc,\n",
    "                                   long double R, long double omega, long double alpha),\n",
    "                long double (*Velocity)(long double t_zap,\n",
    "                                   long double xc, long double yc, long double zc,\n",
    "                                   long double R, long double omega, long double alpha),\n",
    "                long double xc, long double yc, long double zc,\n",
    "                long double R, long double omega, long double alpha)\n",
    "    \n",
    "    long double tlag_test(long double x, long double y, long double z, long double t1, long double t2, \n",
    "                     long double (*Coordinate)(long double t_zap,\n",
    "                                          long double xc, long double yc, long double zc,\n",
    "                                          long double R, long double omega, long double alpha),\n",
    "                     long double (*Coordinate)(long double t_zap,\n",
    "                                          long double xc, long double yc, long double zc,\n",
    "                                          long double R, long double omega, long double alpha),\n",
    "                     long double (*Coordinate)(long double t_zap,\n",
    "                                          long double xc, long double yc, long double zc,\n",
    "                                          long double R, long double omega, long double alpha),\n",
    "               long double xc, long double yc, long double zc,\n",
    "               long double R, long double omega, long double alpha)\n",
    "\n",
    "    # отношение радиуса Лиенара Вихерта к радиусу\n",
    "    long double klw(long double x, long double y, long double z, long double t,\n",
    "                long double (*Coordinate)(long double t_zap, long double xc, long double yc, long double zc, long double R, long double omega, long double alpha),\n",
    "                long double (*Coordinate)(long double t_zap, long double xc, long double yc, long double zc, long double R, long double omega, long double alpha),\n",
    "                long double (*Coordinate)(long double t_zap, long double xc, long double yc, long double zc, long double R, long double omega, long double alpha),\n",
    "                long double (*Velocity)(long double t_zap, long double xc, long double yc, long double zc, long double R, long double omega, long double alpha),\n",
    "                long double (*Velocity)(long double t_zap, long double xc, long double yc, long double zc, long double R, long double omega, long double alpha),\n",
    "                long double (*Velocity)(long double t_zap, long double xc, long double yc, long double zc, long double R, long double omega, long double alpha),\n",
    "                long double xc, long double yc, long double zc, long double R, long double omega, long double alpha)\n",
    "    # Радиус Лиенара Вихерта\n",
    "    long double Rlw(long double x, long double y, long double z, long double t,\n",
    "                long double (*Coordinate)(long double t_zap, long double xc, long double yc, long double zc, long double R, long double omega, long double alpha),\n",
    "                long double (*Coordinate)(long double t_zap, long double xc, long double yc, long double zc, long double R, long double omega, long double alpha),\n",
    "                long double (*Coordinate)(long double t_zap, long double xc, long double yc, long double zc, long double R, long double omega, long double alpha),\n",
    "                long double (*Velocity)(long double t_zap, long double xc, long double yc, long double zc, long double R, long double omega, long double alpha),\n",
    "                long double (*Velocity)(long double t_zap, long double xc, long double yc, long double zc, long double R, long double omega, long double alpha),\n",
    "                long double (*Velocity)(long double t_zap, long double xc, long double yc, long double zc, long double R, long double omega, long double alpha),\n",
    "                long double xc, long double yc, long double zc, long double R, long double omega, long double alpha)\n",
    "    \n",
    "    \n",
    "    # phi_lw - скалярный потенциал Лиенара Вихерта\n",
    "    long double philw(long double x, long double y, long double z, long double t,\n",
    "                long double (*Coordinate)(long double t_zap, long double xc, long double yc, long double zc, long double R, long double omega, long double alpha),\n",
    "                long double (*Coordinate)(long double t_zap, long double xc, long double yc, long double zc, long double R, long double omega, long double alpha),\n",
    "                long double (*Coordinate)(long double t_zap, long double xc, long double yc, long double zc, long double R, long double omega, long double alpha),\n",
    "                long double (*Velocity)(long double t_zap, long double xc, long double yc, long double zc, long double R, long double omega, long double alpha),\n",
    "                long double (*Velocity)(long double t_zap, long double xc, long double yc, long double zc, long double R, long double omega, long double alpha),\n",
    "                long double (*Velocity)(long double t_zap, long double xc, long double yc, long double zc, long double R, long double omega, long double alpha),\n",
    "                long double q,\n",
    "                long double xc, long double yc, long double zc, long double R, long double omega, long double alpha)\n",
    "\n",
    "\n",
    "    # A_lw - векторный потенциал Лиенара Вихерта\n",
    "    void Alw(long double x, long double y, long double z, long double t,\n",
    "                long double (*Coordinate)(long double t_zap, long double xc, long double yc, long double zc, long double R, long double omega, long double alpha),\n",
    "                long double (*Coordinate)(long double t_zap, long double xc, long double yc, long double zc, long double R, long double omega, long double alpha),\n",
    "                long double (*Coordinate)(long double t_zap, long double xc, long double yc, long double zc, long double R, long double omega, long double alpha),\n",
    "                long double (*Velocity)(long double t_zap, long double xc, long double yc, long double zc, long double R, long double omega, long double alpha),\n",
    "                long double (*Velocity)(long double t_zap, long double xc, long double yc, long double zc, long double R, long double omega, long double alpha),\n",
    "                long double (*Velocity)(long double t_zap, long double xc, long double yc, long double zc, long double R, long double omega, long double alpha),\n",
    "             long double q,\n",
    "             long double * A_x, long double * A_y, long double * A_z,\n",
    "             long double xc, long double yc, long double zc, long double R, long double omega, long double alpha\n",
    "           )\n",
    "    \n",
    "    void electr_magnet(long double x, long double y, long double z, long double t,\n",
    "                long double (*Coordinate)(long double t_zap, long double xc, long double yc, long double zc, long double R, long double omega, long double alpha),\n",
    "                long double (*Coordinate)(long double t_zap, long double xc, long double yc, long double zc, long double R, long double omega, long double alpha),\n",
    "                long double (*Coordinate)(long double t_zap, long double xc, long double yc, long double zc, long double R, long double omega, long double alpha),\n",
    "                long double (*Velocity)(long double t_zap, long double xc, long double yc, long double zc, long double R, long double omega, long double alpha),\n",
    "                long double (*Velocity)(long double t_zap, long double xc, long double yc, long double zc, long double R, long double omega, long double alpha),\n",
    "                long double (*Velocity)(long double t_zap, long double xc, long double yc, long double zc, long double R, long double omega, long double alpha),\n",
    "                long double (*Acceleration)(long double t_zap, long double xc, long double yc, long double zc, long double R, long double omega, long double alpha),\n",
    "                long double (*Acceleration)(long double t_zap, long double xc, long double yc, long double zc, long double R, long double omega, long double alpha),\n",
    "                long double (*Acceleration)(long double t_zap, long double xc, long double yc, long double zc, long double R, long double omega, long double alpha),\n",
    "                long double q,\n",
    "                long double * E_x, long double * E_y, long double * E_z, long double * B_x, long double * B_y, long double * B_z,\n",
    "                       long double xc, long double yc, long double zc, long double R, long double omega, long double alpha)\n",
    "\n",
    "    void cset_c(long double _c)\n",
    "    void cset_timespan_Epsilon(long double _eps)\n",
    "    void cset_max_steps(int _max_steps)\n",
    "    long double cget_c()\n",
    "    long double cget_timespan_Epsilon()\n",
    "\n",
    "cdef extern from \"lw_vimanic.c\":\n",
    "    long double sx(long double t, long double xc, long double yc, long double zc, long double R, long double omega, long double alpha);\n",
    "\n",
    "    long double sy(long double t, long double xc, long double yc, long double zc, long double R, long double omega, long double alpha);\n",
    "\n",
    "    long double sz(long double t, long double xc, long double yc, long double zc, long double R, long double omega, long double alpha);\n",
    "\n",
    "    long double vx(long double t, long double xc, long double yc, long double zc, long double R, long double omega, long double alpha);\n",
    "\n",
    "    long double vy(long double t, long double xc, long double yc, long double zc, long double R, long double omega, long double alpha);\n",
    "\n",
    "    long double vz(long double t, long double xc, long double yc, long double zc, long double R, long double omega, long double alpha);\n",
    "\n",
    "    long double wx(long double t, long double xc, long double yc, long double zc, long double R, long double omega, long double alpha);\n",
    "    long double wy(long double t, long double xc, long double yc, long double zc, long double R, long double omega, long double alpha);\n",
    "    long double wz(long double t, long double xc, long double yc, long double zc, long double R, long double omega, long double alpha);\n",
    "\n",
    "    long double ccalc_sum_Fy_t(int N, long double t_i,\n",
    "                      long double alpha0_l,\n",
    "                      long double alpha0_r, int to_log);\n",
    "\n",
    "    long double ccalc_Maxwells_stress_tensor(long double X_a, long double Y_a, long double Z_a, long double t_i,\n",
    "                                     int N,\n",
    "                                    long double cos_nx, long double cos_ny, long double cos_nz,\n",
    "                                    long double alpha0_l,\n",
    "                                    long double alpha0_r\n",
    "                                   );\n",
    "\n",
    "    long double spherical_ccalc_Maxwells_stress_tensor(\n",
    "        long double r, long double theta, long double varphi, long double t)\n",
    "    \n",
    "    void cset_vc(long double vc)\n",
    "    long double cget_omega()\n",
    "    \n",
    "    long double cget_S();\n",
    "    long double cget_R_l();\n",
    "    long double cget_R_r();\n",
    "\n",
    "    long double cget_xc_l();\n",
    "    long double cget_xc_r();\n",
    "\n",
    "    long double cget_yc_l();\n",
    "    long double cget_yc_r();\n",
    "\n",
    "    long double cget_zc_l();\n",
    "    long double cget_zc_r();\n",
    "    \n",
    "\n",
    "def calc_sum_Fy_t(N, t,\n",
    "                  alpha0_l = 0,\n",
    "                  alpha0_r = 0,\n",
    "                  to_log = False):\n",
    "    \n",
    "    cdef int n = N\n",
    "    cdef long double t_i = t\n",
    "\n",
    "    cdef long double Alpha0_l = alpha0_l\n",
    "    cdef long double Alpha0_r = alpha0_r\n",
    "    cdef int To_log = to_log\n",
    "    \n",
    "    cdef long double Fy = ccalc_sum_Fy_t(n, t_i, Alpha0_l, Alpha0_r, To_log);\n",
    "\n",
    "    return Fy\n",
    "\n",
    "# Интегрируем в сферической системе координат,\n",
    "# у которой однако в соотвествие с принятыми в задаче\n",
    "# наименованиями осей главная ось игрек вместо зет\n",
    "def spherical_calc_Maxwells_stress_tensor (r, theta, varphi, t) :\n",
    "    cdef long double _r = r\n",
    "    cdef long double _theta = theta\n",
    "    cdef long double _varphi = varphi\n",
    "    cdef long double _t = t\n",
    "    \n",
    "    return spherical_ccalc_Maxwells_stress_tensor(\n",
    "        _r, _theta, _varphi, _t)\n",
    "\n",
    "# направление векторов нормали к сферической воображаемой поверхности инвертировано - снаружи вовнутрь\n",
    "\n",
    "def get_c():\n",
    "    return cget_c()\n",
    "def get_timespan_Epsilon():\n",
    "    return cget_timespan_Epsilon()\n",
    "\n",
    "\n",
    "def set_c(c):\n",
    "    cset_c(c)\n",
    "def set_timespan_Epsilon(eps):\n",
    "    cset_timespan_Epsilon(eps)\n",
    "def set_max_steps(_max_steps):\n",
    "    cset_max_steps(_max_steps)\n",
    "    \n",
    "def set_vc(vc):\n",
    "    cset_vc(vc)\n",
    "    \n",
    "def get_S():\n",
    "    return cget_S()\n",
    "def get_R_l():\n",
    "    return cget_R_l()\n",
    "def get_R_r():\n",
    "    return cget_R_r()\n",
    "    \n",
    "def get_omega():\n",
    "    return cget_omega()"
   ]
  },
  {
   "cell_type": "code",
   "execution_count": 2,
   "id": "34f95ed7",
   "metadata": {},
   "outputs": [],
   "source": [
    "import numpy as np\n",
    "set_c(1.0)\n",
    "set_timespan_Epsilon(1.e-15)\n",
    "#v_c = np.float128(0.984)\n",
    "set_vc(np.float128(0.8))\n",
    "#v_c = np.float128(0.2)"
   ]
  },
  {
   "cell_type": "code",
   "execution_count": 3,
   "id": "e89c6098",
   "metadata": {},
   "outputs": [
    {
     "data": {
      "text/plain": [
       "(61.5000000000000, 3782.25000000000)"
      ]
     },
     "execution_count": 3,
     "metadata": {},
     "output_type": "execute_result"
    }
   ],
   "source": [
    "# радиус сферы интегрирования\n",
    "R = 4 * get_R_l() + 2 * get_S()\n",
    "R *= 1.5\n",
    "# R = 40 * get_R_l() + 20 * get_S()\n",
    "R, R^2"
   ]
  },
  {
   "cell_type": "code",
   "execution_count": 4,
   "id": "303664f9",
   "metadata": {},
   "outputs": [],
   "source": [
    "T = np.float128(2*pi)/get_omega() # период вращения\n",
    "time_steps_number = 36000              # разбиваем период на шаги\n",
    "dt = T / time_steps_number             # длительность шага"
   ]
  },
  {
   "cell_type": "code",
   "execution_count": 5,
   "id": "ee803d53",
   "metadata": {},
   "outputs": [
    {
     "data": {
      "text/plain": [
       "-0.00579436383218458"
      ]
     },
     "execution_count": 5,
     "metadata": {},
     "output_type": "execute_result"
    }
   ],
   "source": [
    "calc_sum_Fy_t(N = 1, t = T/3,\n",
    "              alpha0_l = np.float128(0),\n",
    "              alpha0_r = np.float128(0),\n",
    "              to_log = True)"
   ]
  },
  {
   "cell_type": "code",
   "execution_count": 6,
   "id": "5af68cbf",
   "metadata": {},
   "outputs": [],
   "source": [
    "from scipy import integrate as scipy_integrate\n",
    "\n",
    "# epsabs\n",
    "# float or int, optional\n",
    "# Absolute error tolerance.\n",
    "# Default is 1.49e-8.\n",
    "# quad tries to obtain an accuracy of abs(i-result) <= max(epsabs, epsrel*abs(i))\n",
    "# where i = integral of func from a to b, and result is the numerical approximation. See epsrel below.\n",
    "\n",
    "# epsrel\n",
    "# float or int, optional\n",
    "# Relative error tolerance.\n",
    "# Default is 1.49e-8.\n",
    "# If epsabs <= 0, epsrel must be greater than both 5e-29 and 50 * (machine epsilon). See epsabs above.\n",
    "\n",
    "# limit\n",
    "# float or int, optional\n",
    "# An upper bound on the number of subintervals used in the adaptive algorithm.\n",
    "\n",
    "#Returns:\n",
    "# result\n",
    "# float\n",
    "# The result of the integration.\n",
    "\n",
    "# abserr\n",
    "# float\n",
    "# The maximum of the estimates of the absolute error in the various integration results.\n",
    "\n",
    "# out_dict\n",
    "# dict, optional\n",
    "# A dict containing additional information on the integration.\n",
    "\n",
    "\n",
    "\n",
    "nquad_default_opts = \\\n",
    "           { 'epsabs' : 1.49e-08,\n",
    "             'epsrel' : 1.49e-08,\n",
    "             'limit'  : 50 }\n",
    "\n",
    "nquad_opts_2 = { 'epsabs' : 1.0e-07,\n",
    "                 'epsrel' : 1.0e-07,\n",
    "                 'limit'  : 100 }\n",
    "\n",
    "nquad_opts_3 = { 'epsabs' : 1.0e-01,\n",
    "                 'epsrel' : 1.0e-03,\n",
    "                 'limit'  : 100 }\n",
    " \n",
    "#nquad_opts = { 'epsabs' : 1.49e-07,\n",
    "#               'epsrel' : 1.49e-07,\n",
    "#               'limit'  : 200 }\n",
    "\n",
    "#nquad_opts = { 'epsabs' : 1.49e-08,\n",
    "#               'epsrel' : 1.49e-08,\n",
    "#               'limit'  : 100 }"
   ]
  },
  {
   "cell_type": "code",
   "execution_count": 7,
   "id": "48a55dd6",
   "metadata": {},
   "outputs": [],
   "source": [
    "t_fy = []\n",
    "#t_f_alpha_l = []\n",
    "#t_f_alpha_r = []\n",
    "for i in range(0, time_steps_number):\n",
    "    t_i = i * dt\n",
    "    ans = calc_sum_Fy_t(N=1, t = t_i)\n",
    "    #print(i, (i/steps_number).n(), t_i, ans)\n",
    "    t_fy += [(i/time_steps_number, ans)]\n",
    "    #t_f_alpha_l += [(i/time_steps_number, ans[1])]\n",
    "    #t_f_alpha_r += [(i/time_steps_number, ans[2])]"
   ]
  },
  {
   "cell_type": "code",
   "execution_count": 8,
   "id": "46d449f4",
   "metadata": {},
   "outputs": [
    {
     "data": {
      "image/png": "[encoded data removed]",
      "text/plain": [
       "Graphics object consisting of 1 graphics primitive"
      ]
     },
     "execution_count": 8,
     "metadata": {},
     "output_type": "execute_result"
    }
   ],
   "source": [
    "list_plot(t_fy)"
   ]
  },
  {
   "cell_type": "code",
   "execution_count": 9,
   "id": "c7146dbb",
   "metadata": {},
   "outputs": [],
   "source": [
    "#list_plot(t_f_alpha_l)"
   ]
  },
  {
   "cell_type": "code",
   "execution_count": 10,
   "id": "9baccf02",
   "metadata": {},
   "outputs": [],
   "source": [
    "#list_plot(t_f_alpha_r)"
   ]
  },
  {
   "cell_type": "code",
   "execution_count": 11,
   "id": "b3bc970d",
   "metadata": {},
   "outputs": [
    {
     "data": {
      "text/plain": [
       "0.1996899143605901822"
      ]
     },
     "execution_count": 11,
     "metadata": {},
     "output_type": "execute_result"
    }
   ],
   "source": [
    "# интегральная сумма компоненты силы по оси y, приложенной к зарядам, по периоду\n",
    "sum_fy = 0\n",
    "for (t_i, fy) in t_fy:\n",
    "    sum_fy += fy * dt\n",
    "sum_fy"
   ]
  },
  {
   "cell_type": "code",
   "execution_count": 12,
   "id": "9f5ab7f3",
   "metadata": {},
   "outputs": [
    {
     "data": {
      "text/plain": [
       "0.002542530956486814842"
      ]
     },
     "execution_count": 12,
     "metadata": {},
     "output_type": "execute_result"
    }
   ],
   "source": [
    "# интегральная сумма компоненты силы по оси y, приложенной к зарядам, по периоду отнесённая к периоду\n",
    "sum_fy / T"
   ]
  },
  {
   "cell_type": "code",
   "execution_count": 13,
   "id": "8be1dd29",
   "metadata": {},
   "outputs": [
    {
     "data": {
      "text/plain": [
       "(0.19968991436057684, 4.825381532762334e-11)"
      ]
     },
     "execution_count": 13,
     "metadata": {},
     "output_type": "execute_result"
    }
   ],
   "source": [
    "# интеграл компоненты силы по оси y, приложенной к зарядам, по периоду\n",
    "ans = scipy_integrate.quad(lambda t : \\\n",
    "    calc_sum_Fy_t(N=1, t = t), 0, T)\n",
    "ans\n",
    "# (-8.721028191840928e-10, 3.5107927765742514e-09)"
   ]
  },
  {
   "cell_type": "code",
   "execution_count": 14,
   "id": "612e1a7a",
   "metadata": {},
   "outputs": [
    {
     "data": {
      "text/plain": [
       "0.002542530956486644993"
      ]
     },
     "execution_count": 14,
     "metadata": {},
     "output_type": "execute_result"
    }
   ],
   "source": [
    "# интеграл компоненты силы по оси y, приложенной к зарядам, по периоду отнесённая к периоду\n",
    "ans[0] / T"
   ]
  },
  {
   "cell_type": "raw",
   "id": "4385b16c",
   "metadata": {},
   "source": [
    "# интегральная сумма угловой компоненты силы, приложенной к зарядам левого колеса, по периоду\n",
    "# суть работа в тещение одного периода, затрачиваемая двигателем на поддержание угловой скорости колеса постоянной\n",
    "sum_A_alpha_l = 0\n",
    "dl_alpha = dt * get_omega() * get_R_l()\n",
    "for (t_i, f) in t_f_alpha_l:\n",
    "    sum_A_alpha_l += f * dl_alpha\n",
    "sum_A_alpha_l"
   ]
  },
  {
   "cell_type": "raw",
   "id": "da168576",
   "metadata": {},
   "source": [
    "# интегральная сумма угловой компоненты силы, приложенной к зарядам левого колеса, по периоду отнесённая к периоду\n",
    "# суть мощность, затрачиваемая двигателем на поддержание угловой скорости колеса постоянной\n",
    "\n",
    "sum_A_alpha_l / T"
   ]
  },
  {
   "cell_type": "raw",
   "id": "07c8c1e4",
   "metadata": {},
   "source": [
    "# интеграл угловой компоненты силы, приложенной к зарядам левого колеса, по периоду\n",
    "ans = scipy_integrate.quad(lambda t : \\\n",
    "    calc_sum_Fy_t(N=1, S=get_S(), R_l=get_R_l(), R_r=get_R_r(), t_i = t,\n",
    "                  omega = get_omega(), to_animate=False)[1], 0, T)\n",
    "ans\n",
    "# (-8.721028191840928e-10, 3.5107927765742514e-09)"
   ]
  },
  {
   "cell_type": "raw",
   "id": "9f600c28",
   "metadata": {},
   "source": [
    "# интеграл компоненты силы по оси y, приложенной к зарядам, по периоду отнесённый к периоду\n",
    "# мощность, затрачиваемая двигателем на поддержание угловой скорости колеса постоянной\n",
    "ans[0]/T * get_omega() * get_R_l()"
   ]
  },
  {
   "cell_type": "raw",
   "id": "16de3e38",
   "metadata": {},
   "source": [
    "round_R = float(round(R))\n",
    "round_R"
   ]
  },
  {
   "cell_type": "raw",
   "id": "5cb0c685",
   "metadata": {},
   "source": [
    "import matplotlib.pyplot as plt\n",
    "from matplotlib import ticker, cm\n",
    "\n",
    "xa_linspace = np.linspace(-round_R, +round_R, 40*2)\n",
    "ya_linspace = np.linspace(-round_R, +round_R, 40*2)\n",
    "\n",
    "xa_list = xa_linspace.tolist()\n",
    "ya_list = ya_linspace.tolist()\n",
    "\n",
    "xa_grid,ya_grid = np.meshgrid(xa_linspace, ya_linspace)\n",
    "\n",
    "u_ = xa_grid * np.nan\n",
    "v_ = ya_grid * np.nan\n",
    "e_ = xa_grid * np.nan\n",
    "\n",
    "t_ = ya_grid * np.nan\n",
    "rlw_ = ya_grid * np.nan\n",
    "s_ = ya_grid * np.nan\n",
    "bz_ = ya_grid * np.nan\n",
    "\n",
    "ax_ = ya_grid * np.nan\n",
    "ay_ = ya_grid * np.nan\n",
    "am_ = ya_grid * np.nan\n",
    "an_ = ya_grid * np.nan\n",
    "\n",
    "sx_ = ya_grid * np.nan\n",
    "sy_ = ya_grid * np.nan\n",
    "sz_ = ya_grid * np.nan\n",
    "\n",
    "bz_min = +np.finfo(np.float64).max\n",
    "bz_max = -np.finfo(np.float64).max\n",
    "\n",
    "sx_min = +np.finfo(np.float64).max\n",
    "sx_max = -np.finfo(np.float64).max\n",
    "\n",
    "sy_min = +np.finfo(np.float64).max\n",
    "sy_max = -np.finfo(np.float64).max\n",
    "\n",
    "t_cur = 7.5\n",
    "q = 1\n",
    "\n",
    "#def make_R():\n",
    "for ix in np.arange(0, len(xa_linspace), 1):\n",
    "    for iy in np.arange(0, len(ya_linspace), 1):\n",
    "\n",
    "        Xa = xa_list[ix]\n",
    "        Ya = ya_list[iy]\n",
    "        Za = 0.0\n",
    "        Rlw = R_lw(Xa, Ya, Za, t_cur, get_xc_r(), get_yc_r(), get_zc_r(), get_R_r(), -get_omega(), alpha=0)\n",
    "        rlw_[iy][ix] = Rlw\n",
    "\n",
    "        #(E_x, E_y, E_z, B_x, B_y, B_z) = EB_lw(Xa, Ya, Za, t_cur, q)\n",
    "        # The Poynting vector S is defined as to be equal\n",
    "        # to the cross product (1/μ)E × B\n",
    "        #S_x = E_y * B_z - E_z * B_y\n",
    "        #S_y = E_z * B_x - E_x * B_z\n",
    "        #S_z = E_x * B_y - E_y * B_x\n",
    "        #sx_[iy][ix] = S_x\n",
    "        #sy_[iy][ix] = S_y\n",
    "        #sz_[iy][ix] = S_z\n",
    "        \n",
    "        (Al_x, Al_y, Al_z) = A_lw(Xa, Ya, Za, t_cur, q, get_xc_r(), get_yc_r(), get_zc_r(), get_R_r(), -get_omega(), alpha=0)\n",
    "        (Ar_x, Ar_y, Ar_z) = A_lw(Xa, Ya, Za, t_cur, q, get_xc_l(), get_yc_l(), get_zc_l(), get_R_l(), +get_omega(), alpha=0)\n",
    "        ax_[iy][ix] = Al_x + Ar_x\n",
    "        ay_[iy][ix] = Al_y + Ar_y\n",
    "        am_[iy][ix] = sqrt((Al_x + Ar_x)^2 + (Al_y + Ar_y)^2)\n",
    "        an_[iy][ix] = atan2((Al_y + Ar_y),(Al_x + Ar_x))\n",
    "\n",
    "        #if sx_min > S_x:\n",
    "        #    sx_min = S_x\n",
    "        #if sx_max < S_x:\n",
    "        #    sx_max = S_x        \n",
    "\n",
    "        #if sy_min > S_y:\n",
    "        #    sy_min = S_y\n",
    "        #if sy_max < S_y:\n",
    "        #    sy_max = S_y\n",
    "\n",
    "\n",
    "        #u_[iy][ix] = E_x\n",
    "        #v_[iy][ix] = E_y\n",
    "        #e_[iy][ix] = sqrt(E_x*E_x + E_y*E_y)\n",
    "\n",
    "        #t2 = t_lag(Xa, Ya, 0, t_cur)\n",
    "        #t_[iy][ix] = t2\n",
    "\n",
    "\n",
    "        phi_r = phi_lw(Xa, Ya, 0, t_cur, q, get_xc_r(), get_yc_r(), get_zc_r(), get_R_r(), -get_omega(), alpha=0)\n",
    "        phi_l = phi_lw(Xa, Ya, 0, t_cur, q, get_xc_l(), get_yc_l(), get_zc_l(), get_R_l(), +get_omega(), alpha=0)\n",
    "        s_[iy][ix] = phi_r+phi_l\n",
    "        #bz_[iy][ix] = B_z\n",
    "        #if bz_min > B_z:\n",
    "        #    bz_min = B_z\n",
    "        #if bz_max < B_z:\n",
    "        #    bz_max = B_z"
   ]
  },
  {
   "cell_type": "raw",
   "id": "5ef2f306",
   "metadata": {},
   "source": [
    "fig,ax=plt.subplots(1,1)\n",
    "#cp = ax.contourf(xa_grid,ya_grid, rlw_, levels = np.linspace(0, 32, 32/1+1))\n",
    "cp = ax.contourf(xa_grid,ya_grid, rlw_)\n",
    "fig.colorbar(cp) # Add a colorbar to a plot\n",
    "ax.set_title('Лиенар-Вихерт radius')\n",
    "ax.set_xlabel('x (cm)')\n",
    "ax.set_ylabel('y (cm)')\n",
    "ax.set_aspect(1)\n",
    "plt.show()"
   ]
  },
  {
   "cell_type": "raw",
   "id": "593bd99f",
   "metadata": {},
   "source": [
    "fig,ax=plt.subplots(1,1)\n",
    "cp = ax.contourf(xa_grid,ya_grid, s_, levels = np.linspace(0.01, 1, int((1-0.01)/0.01+1)))\n",
    "fig.colorbar(cp) # Add a colorbar to a plot\n",
    "ax.set_title('Filled Contours potential Plot')\n",
    "ax.set_xlabel('x (cm)')\n",
    "ax.set_ylabel('y (cm)')\n",
    "ax.set_aspect(1)\n",
    "plt.show()"
   ]
  },
  {
   "cell_type": "raw",
   "id": "288d241b",
   "metadata": {},
   "source": [
    "fig,ax=plt.subplots(1,1)\n",
    "#cp = ax.contourf(xa_grid,ya_grid, ax_, levels = np.linspace(0.04, 0.5, int((1-0.04)/0.04+1)))\n",
    "cp = ax.contourf(xa_grid,ya_grid, ax_)\n",
    "fig.colorbar(cp) # Add a colorbar to a plot\n",
    "ax.set_title('Filled Contours vector potential x component Plot')\n",
    "ax.set_xlabel('x (cm)')\n",
    "ax.set_ylabel('y (cm)')\n",
    "ax.set_aspect(1)\n",
    "plt.show()"
   ]
  },
  {
   "cell_type": "raw",
   "id": "6e3b64ff",
   "metadata": {},
   "source": [
    "fig,ax=plt.subplots(1,1)\n",
    "#cp = ax.contourf(xa_grid,ya_grid, ax_, levels = np.linspace(0.04, 0.5, int((1-0.04)/0.04+1)))\n",
    "cp = ax.contourf(xa_grid,ya_grid, ay_)\n",
    "fig.colorbar(cp) # Add a colorbar to a plot\n",
    "ax.set_title('Filled Contours vector potential y component Plot')\n",
    "ax.set_xlabel('x (cm)')\n",
    "ax.set_ylabel('y (cm)')\n",
    "ax.set_aspect(1)\n",
    "plt.show()"
   ]
  },
  {
   "cell_type": "raw",
   "id": "cf305f4d",
   "metadata": {},
   "source": [
    "fig,ax=plt.subplots(1,1)\n",
    "cp = ax.contourf(xa_grid,ya_grid, am_, levels = np.linspace(0.01, 0.5, int((1-0.01)/0.01+1)))\n",
    "cp = ax.contourf(xa_grid,ya_grid, am_)\n",
    "fig.colorbar(cp) # Add a colorbar to a plot\n",
    "ax.set_title('Filled Contours vector potential module component Plot')\n",
    "ax.set_xlabel('x (cm)')\n",
    "ax.set_ylabel('y (cm)')\n",
    "ax.set_aspect(1)\n",
    "plt.show()"
   ]
  },
  {
   "cell_type": "raw",
   "id": "64988f4a",
   "metadata": {},
   "source": [
    "fig,ax=plt.subplots(1,1)\n",
    "#cp = ax.contourf(xa_grid,ya_grid, an_, levels = np.linspace(0.04, 0.5, int((1-0.04)/0.04+1)))\n",
    "cp = ax.contourf(xa_grid,ya_grid, an_)\n",
    "fig.colorbar(cp) # Add a colorbar to a plot\n",
    "ax.set_title('Filled Contours vector potential angle component Plot')\n",
    "ax.set_xlabel('x (cm)')\n",
    "ax.set_ylabel('y (cm)')\n",
    "ax.set_aspect(1)\n",
    "plt.show()"
   ]
  },
  {
   "cell_type": "markdown",
   "id": "94e421b9",
   "metadata": {},
   "source": [
    "Начинаем расчёт силы интегрального давления поля на воображаемый ящик сферической формы окружающий систему зарядов (пусть например \"ящик\" будет идеально поглощающим излучение).\n",
    "\n",
    "для расчёта направляющих косинусов нормали к площадке интегрирования при интегрировании по поверхности сферы нам нужен\n",
    "\n",
    "${\\displaystyle {\\boldsymbol {\\hat {r}}}=\\sin \\theta \\cos \\varphi {\\boldsymbol {\\hat {\\imath }}}+\\sin \\theta \\sin \\varphi {\\boldsymbol {\\hat {\\jmath }}}+\\cos \\theta {\\boldsymbol {\\hat {k}}}}$\n",
    "\n",
    "<p>ортогональный единичный вектор сферических координат в направлении увеличения ${\\displaystyle r}$, а ${\\displaystyle {\\boldsymbol {\\hat {\\imath }}},{\\boldsymbol {\\hat {\\jmath }}},{\\boldsymbol {\\hat {k}}}}$,\n",
    "— единичные векторы декартовых координат.</p>"
   ]
  },
  {
   "cell_type": "code",
   "execution_count": 15,
   "id": "b20c6918",
   "metadata": {},
   "outputs": [
    {
     "data": {
      "text/plain": [
       "-7.384836939112673e-10"
      ]
     },
     "execution_count": 15,
     "metadata": {},
     "output_type": "execute_result"
    }
   ],
   "source": [
    "spherical_calc_Maxwells_stress_tensor(r=R, theta=pi/2, varphi=0, t=T/3)"
   ]
  },
  {
   "cell_type": "code",
   "execution_count": 16,
   "id": "80ee7bcb",
   "metadata": {},
   "outputs": [
    {
     "data": {
      "text/plain": [
       "2.705229738791863e-09"
      ]
     },
     "execution_count": 16,
     "metadata": {},
     "output_type": "execute_result"
    }
   ],
   "source": [
    "spherical_calc_Maxwells_stress_tensor(r=R, theta=pi/2, varphi=0, t=T/4)"
   ]
  },
  {
   "cell_type": "code",
   "execution_count": 17,
   "id": "19c48d21",
   "metadata": {},
   "outputs": [],
   "source": [
    "spherical_calc_Maxwells_stress_tensor_R_t = lambda theta, varphi, t : \\\n",
    "     R^2 * spherical_calc_Maxwells_stress_tensor(r = R, theta = theta, varphi = varphi, t = t)"
   ]
  },
  {
   "cell_type": "code",
   "execution_count": 18,
   "id": "0dbad9c4",
   "metadata": {},
   "outputs": [],
   "source": [
    "stress_tensor_upper_half_sphere_R_t = lambda t :  scipy_integrate.nquad( \\\n",
    "    lambda theta, varphi : \\\n",
    "      spherical_calc_Maxwells_stress_tensor_R_t(theta = theta, varphi = varphi, t = t), \\\n",
    "        [ [0, pi/2],  [0, 2*pi]], opts=nquad_opts_2)\n",
    "#          theta     varphi"
   ]
  },
  {
   "cell_type": "code",
   "execution_count": 19,
   "id": "96a4be3e",
   "metadata": {},
   "outputs": [],
   "source": [
    "stress_tensor_down_half_sphere_R_t = lambda t :  scipy_integrate.nquad( \\\n",
    "    lambda theta, varphi : \\\n",
    "      spherical_calc_Maxwells_stress_tensor_R_t(theta = theta, varphi = varphi, t = t), \\\n",
    "        [ [pi/2, pi],  [0, 2*pi]], opts=nquad_opts_2)\n",
    "#          theta     varphi"
   ]
  },
  {
   "cell_type": "code",
   "execution_count": 20,
   "id": "e4c4695e",
   "metadata": {},
   "outputs": [],
   "source": [
    "stress_tensor_R_t = lambda t :  scipy_integrate.nquad( \\\n",
    "    lambda theta, varphi : \\\n",
    "      spherical_calc_Maxwells_stress_tensor_R_t(theta = theta, varphi = varphi, t = t), \\\n",
    "        [ [0, pi],  [0, 2*pi]], opts=nquad_opts_2)\n",
    "#          theta     varphi"
   ]
  },
  {
   "cell_type": "code",
   "execution_count": 21,
   "id": "c36d6418",
   "metadata": {},
   "outputs": [],
   "source": [
    "T = np.float128(2*pi)/get_omega() # период вращения\n",
    "time_steps_number = 36000                # разбиваем период на шаги\n",
    "dt = T / time_steps_number             # длительность шага"
   ]
  },
  {
   "cell_type": "code",
   "execution_count": null,
   "id": "b4911501",
   "metadata": {},
   "outputs": [
    {
     "name": "stdout",
     "output_type": "stream",
     "text": [
      "0 0.000000000000000 0.0 (0.02658364472447905, 7.023088730149005e-08)\n",
      "0 0.000000000000000 0.0 (-0.0025223515463535465, 2.394422666529019e-10)\n",
      "0 0.000000000000000 0.0 0.024061293178125505\n",
      "1 0.0000277777777777778 0.0021816615649929118407 (0.02657560277224945, 7.093025988930519e-08)\n",
      "1 0.0000277777777777778 0.0021816615649929118407 (-0.002522661262054783, 2.4088277187262093e-10)\n",
      "1 0.0000277777777777778 0.0021816615649929118407 0.024052941510194666\n",
      "2 0.0000555555555555556 0.0043633231299858236814 (0.026567562845109173, 8.010215988597802e-08)\n",
      "2 0.0000555555555555556 0.0043633231299858236814 (-0.002522971074692177, 2.423288216649806e-10)\n",
      "2 0.0000555555555555556 0.0043633231299858236814 0.024044591770416995\n",
      "3 0.0000833333333333333 0.006544984694978735522 (0.026559524942352832, 8.731103819797914e-08)\n",
      "3 0.0000833333333333333 0.006544984694978735522 (-0.002523280984304023, 2.4378042486622865e-10)\n",
      "3 0.0000833333333333333 0.006544984694978735522 0.02403624395804881\n",
      "4 0.000111111111111111 0.008726646259971647363 (0.026551489063269828, 7.3067106869155e-08)\n",
      "4 0.000111111111111111 0.008726646259971647363 (-0.0025235909909286326, 2.452375932602874e-10)\n",
      "4 0.000111111111111111 0.008726646259971647363 0.024027898072341194\n",
      "5 0.000138888888888889 0.010908307824964559204 (0.026543455207146002, 7.379241649836417e-08)\n",
      "5 0.000138888888888889 0.010908307824964559204 (-0.0025239010946043416, 2.467003367133966e-10)\n",
      "5 0.000138888888888889 0.010908307824964559204 0.024019554112541662\n",
      "6 0.000166666666666667 0.013089969389957471044 (0.026535423373369126, 7.630528033331231e-08)\n",
      "6 0.000166666666666667 0.013089969389957471044 (-0.002524211295369503, 2.481686686425582e-10)\n",
      "6 0.000166666666666667 0.013089969389957471044 0.024011212077999625\n",
      "7 0.000194444444444444 0.0152716309549503828845 (0.026527393561037164, 7.593261975076423e-08)\n",
      "7 0.000194444444444444 0.0152716309549503828845 (-0.0025245215932624895, 2.496425957461087e-10)\n",
      "7 0.000194444444444444 0.0152716309549503828845 0.024002871967774675\n",
      "8 0.000222222222222222 0.017453292519943294726 (0.026519365769538884, 7.600804684741788e-08)\n",
      "8 0.000222222222222222 0.017453292519943294726 (-0.002524831988321697, 2.511221305906289e-10)\n",
      "8 0.000222222222222222 0.017453292519943294726 0.023994533781217187\n",
      "9 0.000250000000000000 0.019634954084936206567 (0.026511339996994142, 7.675997787360673e-08)\n",
      "9 0.000250000000000000 0.019634954084936206567 (-0.0025251424805855386, 2.5260728311012125e-10)\n",
      "9 0.000250000000000000 0.019634954084936206567 0.023986197516408604\n",
      "10 0.000277777777777778 0.021816615649929118408 (0.02650331624620931, 7.751868081456924e-08)\n",
      "10 0.000277777777777778 0.021816615649929118408 (-0.002525453070092449, 2.5409806455657137e-10)\n",
      "10 0.000277777777777778 0.021816615649929118408 0.02397786317611686\n",
      "11 0.000305555555555556 0.023998277214922030247 (0.02649529451296171, 7.828420303537986e-08)\n",
      "11 0.000305555555555556 0.023998277214922030247 (-0.0025257637568808834, 2.555944875744871e-10)\n",
      "11 0.000305555555555556 0.023998277214922030247 0.023969530756080826\n",
      "12 0.000333333333333333 0.026179938779914942088 (0.02648727479771519, 7.905659216603952e-08)\n",
      "12 0.000333333333333333 0.026179938779914942088 (-0.002526074540989315, 2.570965572020205e-10)\n",
      "12 0.000333333333333333 0.026179938779914942088 0.023961200256725875\n",
      "13 0.000361111111111111 0.02836160034490785393 (0.026479257099762357, 7.983589608994415e-08)\n",
      "13 0.000361111111111111 0.02836160034490785393 (-0.0025263854224562405, 2.5860428850280536e-10)\n",
      "13 0.000361111111111111 0.02836160034490785393 0.023952871677306118\n",
      "14 0.000388888888888889 0.030543261909900765769 (0.02647124141839794, 9.991238831408419e-08)\n",
      "14 0.000388888888888889 0.030543261909900765769 (-0.002526696401320174, 2.60117690557035e-10)\n",
      "14 0.000388888888888889 0.030543261909900765769 0.023944545017077767\n",
      "15 0.000416666666666667 0.032724923474893677612 (0.02646322775291137, 9.826353804514437e-08)\n",
      "15 0.000416666666666667 0.032724923474893677612 (-0.002527007477619651, 2.616367736273605e-10)\n",
      "15 0.000416666666666667 0.032724923474893677612 0.02393622027529172\n",
      "16 0.000444444444444444 0.03490658503988658945 (0.026455216102598066, 9.662034025528614e-08)\n",
      "16 0.000444444444444444 0.03490658503988658945 (-0.0025273186513932273, 2.631615497958599e-10)\n",
      "16 0.000444444444444444 0.03490658503988658945 0.023927897451204837\n",
      "17 0.000472222222222222 0.03708824660487950129 (0.026447206466751794, 9.498297475277195e-08)\n",
      "17 0.000472222222222222 0.03708824660487950129 (-0.002527629922679479, 2.6469202648592995e-10)\n",
      "17 0.000472222222222222 0.03708824660487950129 0.023919576544072316\n",
      "18 0.000500000000000000 0.039269908169872413133 (0.026439198844666657, 9.335162148149797e-08)\n",
      "18 0.000500000000000000 0.039269908169872413133 (-0.002527941291517002, 2.662282197268221e-10)\n",
      "18 0.000500000000000000 0.039269908169872413133 0.023911257553149656\n",
      "19 0.000527777777777778 0.041451569734865324973 (0.02643119323563703, 9.172646056284425e-08)\n",
      "19 0.000527777777777778 0.041451569734865324973 (-0.0025282527579444133, 2.677701325475262e-10)\n",
      "19 0.000527777777777778 0.041451569734865324973 0.023902940477692616\n",
      "20 0.000555555555555556 0.043633231299858236816 (0.026423189638957595, 9.010767226954545e-08)\n",
      "20 0.000555555555555556 0.043633231299858236816 (-0.0025285643220003488, 2.693177806655856e-10)\n",
      "20 0.000555555555555556 0.043633231299858236816 0.023894625316957248\n",
      "21 0.000583333333333333 0.045814892864851148655 (0.026415188053923337, 8.849543707019738e-08)\n",
      "21 0.000583333333333333 0.045814892864851148655 (-0.002528875983723466, 2.7087117206005067e-10)\n",
      "21 0.000583333333333333 0.045814892864851148655 0.02388631207019987\n",
      "22 0.000611111111111111 0.047996554429844060495 (0.026407188479829515, 8.71687891264103e-08)\n",
      "22 0.000611111111111111 0.047996554429844060495 (-0.002529187743152441, 2.7243031723412996e-10)\n",
      "22 0.000611111111111111 0.047996554429844060495 0.023878000736677073\n",
      "23 0.000638888888888889 0.050178215994836972337 (0.026399190915974438, 9.72563243376327e-08)\n",
      "23 0.000638888888888889 0.050178215994836972337 (-0.002529499600325975, 2.739952313869827e-10)\n",
      "23 0.000638888888888889 0.050178215994836972337 0.023869691315648464\n",
      "24 0.000666666666666667 0.052359877559829884177 (0.026391195361648506, 9.297615542584476e-08)\n",
      "24 0.000666666666666667 0.052359877559829884177 (-0.0025298115552827823, 2.755659172460549e-10)\n",
      "24 0.000666666666666667 0.052359877559829884177 0.023861383806365724\n",
      "25 0.000694444444444444 0.054541539124822796016 (0.026383201816150618, 8.974456247272129e-08)\n",
      "25 0.000694444444444444 0.054541539124822796016 (-0.002530123608061603, 2.771423883232162e-10)\n",
      "25 0.000694444444444444 0.054541539124822796016 0.023853078208089015\n",
      "26 0.000722222222222222 0.05672320068981570786 (0.02637521027830156, 9.061819104254313e-08)\n",
      "26 0.000722222222222222 0.05672320068981570786 (-0.0025304357587011958, 2.7872465875375244e-10)\n",
      "26 0.000722222222222222 0.05672320068981570786 0.023844774519600362\n",
      "27 0.000750000000000000 0.0589048622548086197 (0.026367220748342395, 9.149942132622437e-08)\n",
      "27 0.000750000000000000 0.0589048622548086197 (-0.0025307480072403396, 2.803127323560881e-10)\n",
      "27 0.000750000000000000 0.0589048622548086197 0.023836472741102056\n",
      "28 0.000777777777777778 0.061086523819801531538 (0.026359233224541635, 9.238830307554452e-08)\n",
      "28 0.000777777777777778 0.061086523819801531538 (-0.0025310603537178344, 2.819066254677947e-10)\n",
      "28 0.000777777777777778 0.061086523819801531538 0.0238281728708238\n",
      "29 0.000805555555555556 0.06326818538479444338 (0.026351247708373177, 9.328488617842372e-08)\n",
      "29 0.000805555555555556 0.06326818538479444338 (-0.002531372798172499, 2.8350634272044837e-10)\n",
      "29 0.000805555555555556 0.06326818538479444338 0.023819874910200677\n",
      "30 0.000833333333333333 0.065449846949787355224 (0.026343264196468354, 9.418922084003916e-08)\n",
      "30 0.000833333333333333 0.065449846949787355224 (-0.0025316853406431752, 2.85111901335923e-10)\n",
      "30 0.000833333333333333 0.065449846949787355224 0.023811578855825178\n"
     ]
    }
   ],
   "source": [
    "t_py = []\n",
    "t_py_up = []\n",
    "t_py_dw = []\n",
    "for i in range(0, time_steps_number):\n",
    "    t_i = i * dt\n",
    "\n",
    "    ans_dw = stress_tensor_down_half_sphere_R_t(t_i)\n",
    "    print(i, (i/time_steps_number).n(), t_i, ans_dw)\n",
    "\n",
    "    ans_up = stress_tensor_upper_half_sphere_R_t(t_i)\n",
    "    print(i, (i/time_steps_number).n(), t_i, ans_up)\n",
    "\n",
    "    print(i, (i/time_steps_number).n(), t_i, ans_up[0]+ans_dw[0])\n",
    "    t_py_up += [(i/time_steps_number, ans_up[0])]\n",
    "    t_py_dw += [(i/time_steps_number, ans_dw[0])]\n",
    "    t_py += [(i/time_steps_number, ans_up[0]+ans_dw[0])]"
   ]
  },
  {
   "cell_type": "code",
   "execution_count": null,
   "id": "9baf0cc4",
   "metadata": {},
   "outputs": [],
   "source": [
    "list_plot(t_py)"
   ]
  },
  {
   "cell_type": "code",
   "execution_count": null,
   "id": "5e83061b",
   "metadata": {},
   "outputs": [],
   "source": [
    "# интегральная сумма количества импульса, вытекающего в единицу времени из объема воображаемой сферы по периоду\n",
    "# она же\n",
    "# интегральная сумма силы приложенной к поверхности воображаемой сферы по периоду\n",
    "sum_py = 0\n",
    "for (t_i, py) in t_py:\n",
    "    sum_py += py * dt\n",
    "sum_py"
   ]
  },
  {
   "cell_type": "code",
   "execution_count": null,
   "id": "03ec6ada",
   "metadata": {},
   "outputs": [],
   "source": [
    "# интегральная сумма силы приложенной к поверхности воображаемой сферы по периоду отнесённая к периоду\n",
    "sum_py / T"
   ]
  },
  {
   "cell_type": "code",
   "execution_count": null,
   "id": "0d6f2324",
   "metadata": {},
   "outputs": [],
   "source": [
    "# интегральная сумма компоненты силы по оси y, приложенной к зарядам, по периоду отнесённая к периоду\n",
    "sum_fy / T"
   ]
  },
  {
   "cell_type": "code",
   "execution_count": null,
   "id": "437a1e42",
   "metadata": {},
   "outputs": [],
   "source": [
    "# интегральная сумма по периоду количества импульса,\n",
    "# вытекающего в единицу времени из объема воображаемой сферы\n",
    "# через верхнюю полусферу\n",
    "# она же\n",
    "# интегральная сумма силы приложенной к поверхности верхней воображаемой полусферы по периоду\n",
    "sum_py_up = 0\n",
    "for (t_i, py) in t_py_up:\n",
    "    sum_py_up += py * dt\n",
    "sum_py_up"
   ]
  },
  {
   "cell_type": "code",
   "execution_count": null,
   "id": "287764f3",
   "metadata": {},
   "outputs": [],
   "source": [
    "# интегральная сумма силы приложенной к поверхности верхней воображаемой полусферы по периоду отнесённая к периоду\n",
    "sum_py_up / T"
   ]
  },
  {
   "cell_type": "code",
   "execution_count": null,
   "id": "53945cbd",
   "metadata": {},
   "outputs": [],
   "source": [
    "# интегральная сумма по периоду количества импульса,\n",
    "# вытекающего в единицу времени из объема воображаемой сферы\n",
    "# через нижнюю полусферу\n",
    "# она же\n",
    "# интегральная сумма силы приложенной к поверхности нижней воображаемой полусферы по периоду\n",
    "sum_py_dw = 0\n",
    "for (t_i, py) in t_py_dw:\n",
    "    sum_py_dw += py * dt\n",
    "sum_py_dw"
   ]
  },
  {
   "cell_type": "code",
   "execution_count": null,
   "id": "4fe14b1a",
   "metadata": {},
   "outputs": [],
   "source": [
    "# интегральная сумма силы приложенной к поверхности нижней воображаемой полусферы по периоду отнесённая к периоду\n",
    "sum_py_dw / T"
   ]
  },
  {
   "cell_type": "code",
   "execution_count": null,
   "id": "d71cfe8c",
   "metadata": {},
   "outputs": [],
   "source": []
  },
  {
   "cell_type": "raw",
   "id": "b2ad29f6",
   "metadata": {},
   "source": [
    "spherical_calc_Maxwells_stress_tensor_R_t0 = lambda theta, varphi : \\\n",
    "     R^2 * spherical_calc_Maxwells_stress_tensor(r = R, theta = theta, varphi = varphi, t = 0)"
   ]
  },
  {
   "cell_type": "raw",
   "id": "a9ce3f7a",
   "metadata": {},
   "source": [
    "stress_tensor_R_t0 = scipy_integrate.nquad( \\\n",
    "    spherical_calc_Maxwells_stress_tensor_R_t0, \\\n",
    "        [ [0, pi],  [0, 2*pi]], opts=nquad_opts)\n",
    "#          theta      varphi"
   ]
  },
  {
   "cell_type": "raw",
   "id": "936af46e",
   "metadata": {},
   "source": [
    "stress_tensor_R_t0\n",
    "(1.6246454901338203, 0.003282848190480002)"
   ]
  },
  {
   "cell_type": "code",
   "execution_count": null,
   "id": "f0365904",
   "metadata": {},
   "outputs": [],
   "source": [
    "spherical_calc_Maxwells_stress_tensor_R = lambda theta, varphi, t : \\\n",
    "     R^2 * spherical_calc_Maxwells_stress_tensor(r = R, theta = theta, varphi = varphi, t = t)"
   ]
  },
  {
   "cell_type": "code",
   "execution_count": null,
   "id": "8268acc3",
   "metadata": {},
   "outputs": [],
   "source": [
    "# \"upper\\\\,half\\\\,sphere\"\n",
    "\n",
    "Maxwells_stress_tensor_R_upper_half_sphere = scipy_integrate.nquad( \\\n",
    "    spherical_calc_Maxwells_stress_tensor_R, \\\n",
    "        [ [0, np.float128(pi)/2],  [0, np.float128(2*pi)],  [0, np.float128(2*pi)/get_omega()]], opts=nquad_opts_3)\n",
    "#                theta                  varphi                   t"
   ]
  },
  {
   "cell_type": "code",
   "execution_count": null,
   "id": "09517441",
   "metadata": {},
   "outputs": [],
   "source": [
    "Maxwells_stress_tensor_R_upper_half_sphere"
   ]
  },
  {
   "cell_type": "code",
   "execution_count": null,
   "id": "22a3ce44",
   "metadata": {},
   "outputs": [],
   "source": [
    "# \"down\\\\,half\\\\,sphere\"\n",
    "\n",
    "Maxwells_stress_tensor_R_down_half_sphere = scipy_integrate.nquad( \\\n",
    "    spherical_calc_Maxwells_stress_tensor_R, \\\n",
    "        [ [np.float128(pi)/2, np.float128(pi)],  [0, np.float128(2*pi)],  [0, np.float128(2*pi)/get_omega_d()]], opts=nquad_opts)\n",
    "#                theta                  varphi                   t"
   ]
  },
  {
   "cell_type": "code",
   "execution_count": null,
   "id": "3be8cbed",
   "metadata": {},
   "outputs": [],
   "source": [
    "Maxwells_stress_tensor_R_down_half_sphere"
   ]
  },
  {
   "cell_type": "code",
   "execution_count": null,
   "id": "4d495832",
   "metadata": {},
   "outputs": [],
   "source": [
    "Maxwells_stress_tensor_R_upper_half_sphere + Maxwells_stress_tensor_R_down_half_sphere"
   ]
  },
  {
   "cell_type": "code",
   "execution_count": null,
   "id": "b3b43dd9",
   "metadata": {},
   "outputs": [],
   "source": [
    "Maxwells_stress_tensor_R = scipy_integrate.nquad( \\\n",
    "    spherical_calc_Maxwells_stress_tensor_R, \\\n",
    "        [ [0, np.float128(pi)],  [0, np.float128(2*pi)],  [0, np.float128(2*pi)/get_omega()]], opts=nquad_opts)\n",
    "#                theta                  varphi                   t"
   ]
  },
  {
   "cell_type": "code",
   "execution_count": null,
   "id": "a6f8a655",
   "metadata": {},
   "outputs": [],
   "source": [
    "Maxwells_stress_tensor_R\n",
    "# v_c = np.float128(0.984)\n",
    "#         result                  abserr\n",
    "# (-1.553907207973527e-07,  1.0236458948831668)   # 'epsabs' : 1.49e-03, 'epsrel' : 1.49e-03, 'limit'  : 50\n",
    "# (-1.5539075127251786e-07, 0.009103807089559712) # 'epsabs' : 1.49e-05, 'epsrel' : 1.49e-05, 'limit'  : 200\n",
    "\n",
    "# 'epsabs' : 1.49e-07, 'epsrel' : 1.49e-07, 'limit'  : 200\n",
    "# IntegrationWarning: The occurrence of roundoff error is detected, which prevents \n",
    "#  the requested tolerance from being achieved.  The error may be \n",
    "#  underestimated."
   ]
  },
  {
   "cell_type": "code",
   "execution_count": null,
   "id": "54754f81",
   "metadata": {},
   "outputs": [],
   "source": [
    "calc_sum_Fy_t(N=1, S=S, R_l=R_l, R_r=R_r, t_i = 1)"
   ]
  },
  {
   "cell_type": "code",
   "execution_count": null,
   "id": "32eb219c",
   "metadata": {},
   "outputs": [],
   "source": []
  },
  {
   "cell_type": "code",
   "execution_count": null,
   "id": "c5944dbe",
   "metadata": {},
   "outputs": [],
   "source": []
  }
 ],
 "metadata": {
  "kernelspec": {
   "display_name": "SageMath 9.6.beta7",
   "language": "sage",
   "name": "sagemath"
  },
  "language_info": {
   "codemirror_mode": {
    "name": "ipython",
    "version": 3
   },
   "file_extension": ".py",
   "mimetype": "text/x-python",
   "name": "python",
   "nbconvert_exporter": "python",
   "pygments_lexer": "ipython3",
   "version": "3.10.3"
  }
 },
 "nbformat": 4,
 "nbformat_minor": 5
}
