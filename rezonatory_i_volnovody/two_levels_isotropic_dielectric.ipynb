{
 "cells": [
  {
   "cell_type": "markdown",
   "metadata": {},
   "source": [
    "two_levels_isotropic_dielectric"
   ]
  },
  {
   "cell_type": "code",
   "execution_count": 1,
   "metadata": {},
   "outputs": [],
   "source": [
    "from IPython.display import display, Math, Latex\n",
    "\n",
    "k = var ('k')\n",
    "\n",
    "a = var('a')\n",
    "assume(a>0)\n",
    "\n",
    "x = var('x')\n",
    "y = var('y')\n",
    "z = var('z')\n",
    "\n",
    "c = var('c')\n",
    "assume(c>0)\n",
    "omega = var('omega')"
   ]
  },
  {
   "cell_type": "markdown",
   "metadata": {},
   "source": [
    "rot E = mu * i * omega / c * H\n",
    "\n",
    "rot H = - i * omega / c * epsilon_ab * E\n",
    "\n",
    "Laplasian E + mu * epsilon_ab * omega^2 / c^2 * E - grad div E = 0\n",
    "\n",
    "уравнение Даламбера\n",
    "\n",
    "mu * epsilon_ab / c^2 * diff(E, t, 2) - Laplasian E = 0\n",
    "\n",
    "Ищем решение в виде\n",
    "\n",
    "E = E(x) * exp(I * k * z) * exp(-I * omega * t)\n",
    "\n",
    "подставляя в уравнение Даламбера приходим к обыкновенному дифференциальному уравнению\n",
    "\n",
    "diff (E(x), x, 2) + (mu * epsilon * omega^2 / c^2 - k^2) * E(x) = 0\n",
    "\n",
    "для диэлектрика\n",
    "\n",
    "kappa^2 = (mu * epsilon * omega^2 / c^2 - k^2)\n",
    "\n",
    "diff (E(x), x, 2) + kappa^2 * E(x) = 0"
   ]
  },
  {
   "cell_type": "code",
   "execution_count": 2,
   "metadata": {},
   "outputs": [
    {
     "data": {
      "text/latex": [
       "$$\\left[\\kappa_{0}, \\kappa_{1}\\right]$$"
      ],
      "text/plain": [
       "<IPython.core.display.Math object>"
      ]
     },
     "metadata": {},
     "output_type": "display_data"
    }
   ],
   "source": [
    "n_layers = 2\n",
    "\n",
    "kappa = []\n",
    "for i in range(n_layers):\n",
    "    exec (\"kappa_\" + str(i) + \" = var ('kappa_\" + str(i) + \"') \")\n",
    "    exec (\"assume(kappa_\" + str(i) + \" > 0)\")\n",
    "    exec (\"kappa += [kappa_\" + str(i) + \"]\")\n",
    "\n",
    "display(Math(latex(kappa)))"
   ]
  },
  {
   "cell_type": "code",
   "execution_count": 3,
   "metadata": {},
   "outputs": [
    {
     "data": {
      "text/latex": [
       "$$\\left[\\epsilon_{0}, \\epsilon_{1}\\right]$$"
      ],
      "text/plain": [
       "<IPython.core.display.Math object>"
      ]
     },
     "metadata": {},
     "output_type": "display_data"
    }
   ],
   "source": [
    "epsilon = []\n",
    "for i in range(n_layers):\n",
    "    exec (\"epsilon_\" + str(i) + \" = var ('epsilon_\" + str(i) + \"') \")\n",
    "    exec (\"assume(epsilon_\" + str(i) + \" > 0)\")\n",
    "    exec (\"epsilon += [epsilon_\" + str(i) + \"]\")\n",
    "\n",
    "display(Math(latex(epsilon)))"
   ]
  },
  {
   "cell_type": "code",
   "execution_count": 4,
   "metadata": {},
   "outputs": [
    {
     "data": {
      "text/latex": [
       "$$\\left[\\mu_{0}, \\mu_{1}\\right]$$"
      ],
      "text/plain": [
       "<IPython.core.display.Math object>"
      ]
     },
     "metadata": {},
     "output_type": "display_data"
    }
   ],
   "source": [
    "mu = []\n",
    "for i in range(n_layers):\n",
    "    exec (\"mu_\" + str(i) + \" = var ('mu_\" + str(i) + \"') \")\n",
    "    exec (\"assume(mu_\" + str(i) + \" > 0)\")\n",
    "    exec (\"mu += [mu_\" + str(i) + \"]\")\n",
    "\n",
    "display(Math(latex(mu)))"
   ]
  },
  {
   "cell_type": "code",
   "execution_count": 5,
   "metadata": {},
   "outputs": [
    {
     "data": {
      "text/latex": [
       "$$\\left[-k^{2} + \\frac{\\epsilon_{0} \\mu_{0} \\omega^{2}}{c^{2}} = \\kappa_{0}^{2}, -k^{2} + \\frac{\\epsilon_{1} \\mu_{1} \\omega^{2}}{c^{2}} = \\kappa_{1}^{2}\\right]$$"
      ],
      "text/plain": [
       "<IPython.core.display.Math object>"
      ]
     },
     "metadata": {},
     "output_type": "display_data"
    }
   ],
   "source": [
    "# исходя из вида дифференциальных уравнений для диэлектрика\n",
    "# записываем соотнощения для волнового вектора в виде уравнений\n",
    "eq_kappa = []\n",
    "for i in range(n_layers):\n",
    "    eq_kappa += [mu[i] * epsilon[i] * omega^2 / c^2 - k^2 == kappa[i]^2]\n",
    "\n",
    "display(Math(latex(eq_kappa)))"
   ]
  },
  {
   "cell_type": "code",
   "execution_count": 6,
   "metadata": {},
   "outputs": [
    {
     "data": {
      "text/latex": [
       "$$K_{2} \\cos\\left(\\kappa_{1} x\\right) + K_{1} \\sin\\left(\\kappa_{1} x\\right)$$"
      ],
      "text/plain": [
       "<IPython.core.display.Math object>"
      ]
     },
     "metadata": {},
     "output_type": "display_data"
    }
   ],
   "source": [
    "# решаем полученные обыкновенные дифференциальные уравнения\n",
    "E_x = function('E_x')(x)\n",
    "\n",
    "de_dielectric_x = diff (E_x, x, 2) + kappa[i]^2 * E_x == 0\n",
    "E_dielectric_x = desolve(de_dielectric_x, E_x, ivar = x)\n",
    "\n",
    "\n",
    "# получая таким образом выражения для электрического поля в диэлектрике\n",
    "display(Math(latex(E_dielectric_x)))\n",
    "# _K2*cos(kappa*x) + _K1*sin(kappa*x)"
   ]
  },
  {
   "cell_type": "code",
   "execution_count": 7,
   "metadata": {},
   "outputs": [
    {
     "data": {
      "text/latex": [
       "$$\\left[\\mathit{Ax}_{0}, \\mathit{Ax}_{1}\\right]$$"
      ],
      "text/plain": [
       "<IPython.core.display.Math object>"
      ]
     },
     "metadata": {},
     "output_type": "display_data"
    },
    {
     "data": {
      "text/latex": [
       "$$\\left[\\mathit{Az}_{0}, \\mathit{Az}_{1}\\right]$$"
      ],
      "text/plain": [
       "<IPython.core.display.Math object>"
      ]
     },
     "metadata": {},
     "output_type": "display_data"
    },
    {
     "data": {
      "text/latex": [
       "$$\\left[\\mathit{Bx}_{0}, \\mathit{Bx}_{1}\\right]$$"
      ],
      "text/plain": [
       "<IPython.core.display.Math object>"
      ]
     },
     "metadata": {},
     "output_type": "display_data"
    },
    {
     "data": {
      "text/latex": [
       "$$\\left[\\mathit{Bz}_{0}, \\mathit{Bz}_{1}\\right]$$"
      ],
      "text/plain": [
       "<IPython.core.display.Math object>"
      ]
     },
     "metadata": {},
     "output_type": "display_data"
    }
   ],
   "source": [
    "Ax = []\n",
    "Az = []\n",
    "Bx = []\n",
    "Bz = []\n",
    "for i in range(n_layers):\n",
    "    exec (\"Ax_\" + str(i) + \" = var ('Ax_\" + str(i) + \"') \")\n",
    "    exec (\"Az_\" + str(i) + \" = var ('Az_\" + str(i) + \"') \")\n",
    "    exec (\"Bx_\" + str(i) + \" = var ('Bx_\" + str(i) + \"') \")\n",
    "    exec (\"Bz_\" + str(i) + \" = var ('Bz_\" + str(i) + \"') \")\n",
    "    exec (\"Ax += [Ax_\" + str(i) + \"]\")\n",
    "    exec (\"Bx += [Bx_\" + str(i) + \"]\")\n",
    "    exec (\"Az += [Az_\" + str(i) + \"]\")\n",
    "    exec (\"Bz += [Bz_\" + str(i) + \"]\")\n",
    "\n",
    "display(Math(latex(Ax)))\n",
    "display(Math(latex(Az)))\n",
    "display(Math(latex(Bx)))\n",
    "display(Math(latex(Bz)))"
   ]
  },
  {
   "cell_type": "code",
   "execution_count": 8,
   "metadata": {},
   "outputs": [
    {
     "data": {
      "text/latex": [
       "$$\\mathit{Ax}_{0} \\cos\\left(\\kappa_{0} x\\right) + \\mathit{Bx}_{0} \\sin\\left(\\kappa_{0} x\\right)$$"
      ],
      "text/plain": [
       "<IPython.core.display.Math object>"
      ]
     },
     "metadata": {},
     "output_type": "display_data"
    },
    {
     "data": {
      "text/latex": [
       "$$\\mathit{Az}_{0} \\cos\\left(\\kappa_{0} x\\right) + \\mathit{Bz}_{0} \\sin\\left(\\kappa_{0} x\\right)$$"
      ],
      "text/plain": [
       "<IPython.core.display.Math object>"
      ]
     },
     "metadata": {},
     "output_type": "display_data"
    },
    {
     "name": "stdout",
     "output_type": "stream",
     "text": [
      "\n"
     ]
    },
    {
     "data": {
      "text/latex": [
       "$$\\mathit{Ax}_{1} \\cos\\left(\\kappa_{1} x\\right) + \\mathit{Bx}_{1} \\sin\\left(\\kappa_{1} x\\right)$$"
      ],
      "text/plain": [
       "<IPython.core.display.Math object>"
      ]
     },
     "metadata": {},
     "output_type": "display_data"
    },
    {
     "data": {
      "text/latex": [
       "$$\\mathit{Az}_{1} \\cos\\left(\\kappa_{1} x\\right) + \\mathit{Bz}_{1} \\sin\\left(\\kappa_{1} x\\right)$$"
      ],
      "text/plain": [
       "<IPython.core.display.Math object>"
      ]
     },
     "metadata": {},
     "output_type": "display_data"
    },
    {
     "name": "stdout",
     "output_type": "stream",
     "text": [
      "\n"
     ]
    }
   ],
   "source": [
    "Ex = []\n",
    "Ez = []\n",
    "for i in range(n_layers):\n",
    "    Ex += [ lambda x, i=i : Ax[i] * cos(kappa[i] * x) + Bx[i] * sin(kappa[i] * x)]\n",
    "    Ez += [ lambda x, i=i : Az[i] * cos(kappa[i] * x) + Bz[i] * sin(kappa[i] * x)]\n",
    "\n",
    "for i in range(n_layers):\n",
    "    display(Math(latex(Ex[i](x))))\n",
    "    display(Math(latex(Ez[i](x))))\n",
    "    print(\"\")"
   ]
  },
  {
   "cell_type": "code",
   "execution_count": 9,
   "metadata": {},
   "outputs": [
    {
     "data": {
      "text/latex": [
       "$$-\\mathit{Bz}_{0} \\kappa_{0} \\cos\\left(\\kappa_{0} x\\right) + \\mathit{Az}_{0} \\kappa_{0} \\sin\\left(\\kappa_{0} x\\right) + i \\, {\\left(\\mathit{Ax}_{0} \\cos\\left(\\kappa_{0} x\\right) + \\mathit{Bx}_{0} \\sin\\left(\\kappa_{0} x\\right)\\right)} k$$"
      ],
      "text/plain": [
       "<IPython.core.display.Math object>"
      ]
     },
     "metadata": {},
     "output_type": "display_data"
    },
    {
     "data": {
      "text/latex": [
       "$$-\\mathit{Bz}_{0} \\kappa_{0} \\cos\\left(\\kappa_{0} x\\right) + \\mathit{Az}_{0} \\kappa_{0} \\sin\\left(\\kappa_{0} x\\right) + {\\left(i \\, \\mathit{Ax}_{0} \\cos\\left(\\kappa_{0} x\\right) + i \\, \\mathit{Bx}_{0} \\sin\\left(\\kappa_{0} x\\right)\\right)} k$$"
      ],
      "text/plain": [
       "<IPython.core.display.Math object>"
      ]
     },
     "metadata": {},
     "output_type": "display_data"
    },
    {
     "name": "stdout",
     "output_type": "stream",
     "text": [
      "\n"
     ]
    },
    {
     "data": {
      "text/latex": [
       "$$\\frac{i \\, {\\left(\\mathit{Bz}_{0} \\kappa_{0} \\cos\\left(\\kappa_{0} x\\right) - \\mathit{Az}_{0} \\kappa_{0} \\sin\\left(\\kappa_{0} x\\right) - {\\left(i \\, \\mathit{Ax}_{0} \\cos\\left(\\kappa_{0} x\\right) + i \\, \\mathit{Bx}_{0} \\sin\\left(\\kappa_{0} x\\right)\\right)} k\\right)} c}{\\mu_{0} \\omega}$$"
      ],
      "text/plain": [
       "<IPython.core.display.Math object>"
      ]
     },
     "metadata": {},
     "output_type": "display_data"
    },
    {
     "name": "stdout",
     "output_type": "stream",
     "text": [
      "\n"
     ]
    },
    {
     "data": {
      "text/latex": [
       "$$-\\mathit{Bz}_{1} \\kappa_{1} \\cos\\left(\\kappa_{1} x\\right) + \\mathit{Az}_{1} \\kappa_{1} \\sin\\left(\\kappa_{1} x\\right) + i \\, {\\left(\\mathit{Ax}_{1} \\cos\\left(\\kappa_{1} x\\right) + \\mathit{Bx}_{1} \\sin\\left(\\kappa_{1} x\\right)\\right)} k$$"
      ],
      "text/plain": [
       "<IPython.core.display.Math object>"
      ]
     },
     "metadata": {},
     "output_type": "display_data"
    },
    {
     "data": {
      "text/latex": [
       "$$-\\mathit{Bz}_{1} \\kappa_{1} \\cos\\left(\\kappa_{1} x\\right) + \\mathit{Az}_{1} \\kappa_{1} \\sin\\left(\\kappa_{1} x\\right) + {\\left(i \\, \\mathit{Ax}_{1} \\cos\\left(\\kappa_{1} x\\right) + i \\, \\mathit{Bx}_{1} \\sin\\left(\\kappa_{1} x\\right)\\right)} k$$"
      ],
      "text/plain": [
       "<IPython.core.display.Math object>"
      ]
     },
     "metadata": {},
     "output_type": "display_data"
    },
    {
     "name": "stdout",
     "output_type": "stream",
     "text": [
      "\n"
     ]
    },
    {
     "data": {
      "text/latex": [
       "$$\\frac{i \\, {\\left(\\mathit{Bz}_{1} \\kappa_{1} \\cos\\left(\\kappa_{1} x\\right) - \\mathit{Az}_{1} \\kappa_{1} \\sin\\left(\\kappa_{1} x\\right) - {\\left(i \\, \\mathit{Ax}_{1} \\cos\\left(\\kappa_{1} x\\right) + i \\, \\mathit{Bx}_{1} \\sin\\left(\\kappa_{1} x\\right)\\right)} k\\right)} c}{\\mu_{1} \\omega}$$"
      ],
      "text/plain": [
       "<IPython.core.display.Math object>"
      ]
     },
     "metadata": {},
     "output_type": "display_data"
    },
    {
     "name": "stdout",
     "output_type": "stream",
     "text": [
      "\n"
     ]
    }
   ],
   "source": [
    "rot_E_y = []\n",
    "rotE_y = []\n",
    "Hy = []\n",
    "for i in range(n_layers):\n",
    "    rot_E_y += [lambda x, i=i : (I * k * Ex[i](x) - diff(Ez[i](x), x))]\n",
    "    exec (\"rotE_y += [lambda x, i=i :\"+ str(rot_E_y[i](x)) + \"]\")\n",
    "    Hy      += [lambda x, i=i : c / (mu[i] * I * omega) * rotE_y[i](x)]\n",
    "\n",
    "    display(Math(latex(rot_E_y[i](x))))\n",
    "    display(Math(latex(rotE_y[i](x))))\n",
    "    print(\"\")\n",
    "    display(Math(latex(Hy[i](x))))\n",
    "    print(\"\")"
   ]
  },
  {
   "cell_type": "code",
   "execution_count": 10,
   "metadata": {},
   "outputs": [
    {
     "data": {
      "text/latex": [
       "$$\\frac{{\\left(\\mathit{Bz}_{0} \\kappa_{0} \\cos\\left(\\kappa_{0} x\\right) - \\mathit{Az}_{0} \\kappa_{0} \\sin\\left(\\kappa_{0} x\\right) - {\\left(i \\, \\mathit{Ax}_{0} \\cos\\left(\\kappa_{0} x\\right) + i \\, \\mathit{Bx}_{0} \\sin\\left(\\kappa_{0} x\\right)\\right)} k\\right)} c k}{\\mu_{0} \\omega}$$"
      ],
      "text/plain": [
       "<IPython.core.display.Math object>"
      ]
     },
     "metadata": {},
     "output_type": "display_data"
    },
    {
     "data": {
      "text/latex": [
       "$$-\\frac{i \\, {\\left(\\mathit{Az}_{0} \\kappa_{0}^{2} \\cos\\left(\\kappa_{0} x\\right) + \\mathit{Bz}_{0} \\kappa_{0}^{2} \\sin\\left(\\kappa_{0} x\\right) + {\\left(i \\, \\mathit{Bx}_{0} \\kappa_{0} \\cos\\left(\\kappa_{0} x\\right) - i \\, \\mathit{Ax}_{0} \\kappa_{0} \\sin\\left(\\kappa_{0} x\\right)\\right)} k\\right)} c}{\\mu_{0} \\omega}$$"
      ],
      "text/plain": [
       "<IPython.core.display.Math object>"
      ]
     },
     "metadata": {},
     "output_type": "display_data"
    },
    {
     "name": "stdout",
     "output_type": "stream",
     "text": [
      "\n"
     ]
    },
    {
     "data": {
      "text/latex": [
       "$$\\frac{{\\left(\\mathit{Bz}_{1} \\kappa_{1} \\cos\\left(\\kappa_{1} x\\right) - \\mathit{Az}_{1} \\kappa_{1} \\sin\\left(\\kappa_{1} x\\right) - {\\left(i \\, \\mathit{Ax}_{1} \\cos\\left(\\kappa_{1} x\\right) + i \\, \\mathit{Bx}_{1} \\sin\\left(\\kappa_{1} x\\right)\\right)} k\\right)} c k}{\\mu_{1} \\omega}$$"
      ],
      "text/plain": [
       "<IPython.core.display.Math object>"
      ]
     },
     "metadata": {},
     "output_type": "display_data"
    },
    {
     "data": {
      "text/latex": [
       "$$-\\frac{i \\, {\\left(\\mathit{Az}_{1} \\kappa_{1}^{2} \\cos\\left(\\kappa_{1} x\\right) + \\mathit{Bz}_{1} \\kappa_{1}^{2} \\sin\\left(\\kappa_{1} x\\right) + {\\left(i \\, \\mathit{Bx}_{1} \\kappa_{1} \\cos\\left(\\kappa_{1} x\\right) - i \\, \\mathit{Ax}_{1} \\kappa_{1} \\sin\\left(\\kappa_{1} x\\right)\\right)} k\\right)} c}{\\mu_{1} \\omega}$$"
      ],
      "text/plain": [
       "<IPython.core.display.Math object>"
      ]
     },
     "metadata": {},
     "output_type": "display_data"
    },
    {
     "name": "stdout",
     "output_type": "stream",
     "text": [
      "\n"
     ]
    }
   ],
   "source": [
    "rot_H_x = []\n",
    "rot_H_z = []\n",
    "for i in range(n_layers):\n",
    "    rot_H_x += [lambda x, i=i : -I * k * Hy[i](x)]\n",
    "    rot_H_z += [lambda x, i=i : diff(Hy[i](x), x)]\n",
    "\n",
    "    display(Math(latex(rot_H_x[i](x))))\n",
    "    display(Math(latex(rot_H_z[i](x))))\n",
    "    print(\"\")"
   ]
  },
  {
   "cell_type": "code",
   "execution_count": 11,
   "metadata": {},
   "outputs": [
    {
     "data": {
      "text/latex": [
       "$$\\frac{{\\left(\\mathit{Bz}_{0} \\kappa_{0} \\cos\\left(\\kappa_{0} x\\right) - \\mathit{Az}_{0} \\kappa_{0} \\sin\\left(\\kappa_{0} x\\right) - {\\left(i \\, \\mathit{Ax}_{0} \\cos\\left(\\kappa_{0} x\\right) + i \\, \\mathit{Bx}_{0} \\sin\\left(\\kappa_{0} x\\right)\\right)} k\\right)} c k}{\\mu_{0} \\omega} = -\\frac{i \\, {\\left(\\mathit{Ax}_{0} \\cos\\left(\\kappa_{0} x\\right) + \\mathit{Bx}_{0} \\sin\\left(\\kappa_{0} x\\right)\\right)} \\epsilon_{0} \\omega}{c}$$"
      ],
      "text/plain": [
       "<IPython.core.display.Math object>"
      ]
     },
     "metadata": {},
     "output_type": "display_data"
    },
    {
     "name": "stdout",
     "output_type": "stream",
     "text": [
      "\n"
     ]
    },
    {
     "data": {
      "text/latex": [
       "$$-\\frac{i \\, {\\left(\\mathit{Az}_{0} \\kappa_{0}^{2} \\cos\\left(\\kappa_{0} x\\right) + \\mathit{Bz}_{0} \\kappa_{0}^{2} \\sin\\left(\\kappa_{0} x\\right) + {\\left(i \\, \\mathit{Bx}_{0} \\kappa_{0} \\cos\\left(\\kappa_{0} x\\right) - i \\, \\mathit{Ax}_{0} \\kappa_{0} \\sin\\left(\\kappa_{0} x\\right)\\right)} k\\right)} c}{\\mu_{0} \\omega} = -\\frac{i \\, {\\left(\\mathit{Az}_{0} \\cos\\left(\\kappa_{0} x\\right) + \\mathit{Bz}_{0} \\sin\\left(\\kappa_{0} x\\right)\\right)} \\epsilon_{0} \\omega}{c}$$"
      ],
      "text/plain": [
       "<IPython.core.display.Math object>"
      ]
     },
     "metadata": {},
     "output_type": "display_data"
    },
    {
     "name": "stdout",
     "output_type": "stream",
     "text": [
      "\n"
     ]
    },
    {
     "data": {
      "text/latex": [
       "$$\\frac{{\\left(\\mathit{Bz}_{1} \\kappa_{1} \\cos\\left(\\kappa_{1} x\\right) - \\mathit{Az}_{1} \\kappa_{1} \\sin\\left(\\kappa_{1} x\\right) - {\\left(i \\, \\mathit{Ax}_{1} \\cos\\left(\\kappa_{1} x\\right) + i \\, \\mathit{Bx}_{1} \\sin\\left(\\kappa_{1} x\\right)\\right)} k\\right)} c k}{\\mu_{1} \\omega} = -\\frac{i \\, {\\left(\\mathit{Ax}_{1} \\cos\\left(\\kappa_{1} x\\right) + \\mathit{Bx}_{1} \\sin\\left(\\kappa_{1} x\\right)\\right)} \\epsilon_{1} \\omega}{c}$$"
      ],
      "text/plain": [
       "<IPython.core.display.Math object>"
      ]
     },
     "metadata": {},
     "output_type": "display_data"
    },
    {
     "name": "stdout",
     "output_type": "stream",
     "text": [
      "\n"
     ]
    },
    {
     "data": {
      "text/latex": [
       "$$-\\frac{i \\, {\\left(\\mathit{Az}_{1} \\kappa_{1}^{2} \\cos\\left(\\kappa_{1} x\\right) + \\mathit{Bz}_{1} \\kappa_{1}^{2} \\sin\\left(\\kappa_{1} x\\right) + {\\left(i \\, \\mathit{Bx}_{1} \\kappa_{1} \\cos\\left(\\kappa_{1} x\\right) - i \\, \\mathit{Ax}_{1} \\kappa_{1} \\sin\\left(\\kappa_{1} x\\right)\\right)} k\\right)} c}{\\mu_{1} \\omega} = -\\frac{i \\, {\\left(\\mathit{Az}_{1} \\cos\\left(\\kappa_{1} x\\right) + \\mathit{Bz}_{1} \\sin\\left(\\kappa_{1} x\\right)\\right)} \\epsilon_{1} \\omega}{c}$$"
      ],
      "text/plain": [
       "<IPython.core.display.Math object>"
      ]
     },
     "metadata": {},
     "output_type": "display_data"
    },
    {
     "name": "stdout",
     "output_type": "stream",
     "text": [
      "\n"
     ]
    }
   ],
   "source": [
    "# rot H = (1/c) * dD/dt\n",
    "eq_rot_H_x = []\n",
    "eq_rot_H_z = []\n",
    "for i in range(n_layers):\n",
    "    eq_rot_H_x += [rot_H_x[i](x) == (1/c) *(-I * omega) * epsilon[i] * Ex[i](x)]\n",
    "    eq_rot_H_z += [rot_H_z[i](x) == (1/c) *(-I * omega) * epsilon[i] * Ez[i](x)]\n",
    "\n",
    "    display(Math(latex(eq_rot_H_x[i])))\n",
    "    print(\"\")\n",
    "    display(Math(latex(eq_rot_H_z[i])))\n",
    "    print(\"\")"
   ]
  },
  {
   "cell_type": "code",
   "execution_count": 12,
   "metadata": {},
   "outputs": [
    {
     "data": {
      "text/plain": [
       "[Az_0, Az_1]"
      ]
     },
     "execution_count": 12,
     "metadata": {},
     "output_type": "execute_result"
    }
   ],
   "source": [
    "exclude_vars = [Az[0], Az[n_layers - 1]]\n",
    "exclude_vars"
   ]
  },
  {
   "cell_type": "code",
   "execution_count": 13,
   "metadata": {},
   "outputs": [
    {
     "data": {
      "text/latex": [
       "$$\\mathit{Az}_{0} \\cos\\left(\\kappa_{0} x\\right) + \\mathit{Bz}_{0} \\sin\\left(\\kappa_{0} x\\right)$$"
      ],
      "text/plain": [
       "<IPython.core.display.Math object>"
      ]
     },
     "metadata": {},
     "output_type": "display_data"
    },
    {
     "data": {
      "text/latex": [
       "$$\\mathit{Az}_{0}$$"
      ],
      "text/plain": [
       "<IPython.core.display.Math object>"
      ]
     },
     "metadata": {},
     "output_type": "display_data"
    },
    {
     "data": {
      "text/latex": [
       "$$\\left[\\mathit{Az}_{0} = 0.000000000000000, \\mathit{Az}_{1} \\cos\\left(2 \\, a \\kappa_{1}\\right) + \\mathit{Bz}_{1} \\sin\\left(2 \\, a \\kappa_{1}\\right) = 0.000000000000000\\right]$$"
      ],
      "text/plain": [
       "<IPython.core.display.Math object>"
      ]
     },
     "metadata": {},
     "output_type": "display_data"
    },
    {
     "data": {
      "text/latex": [
       "$$\\mathit{Az}_{0} = 0$$"
      ],
      "text/plain": [
       "<IPython.core.display.Math object>"
      ]
     },
     "metadata": {},
     "output_type": "display_data"
    },
    {
     "data": {
      "text/latex": [
       "$$\\mathit{Az}_{1} = -\\frac{\\mathit{Bz}_{1} \\sin\\left(2 \\, a \\kappa_{1}\\right)}{\\cos\\left(2 \\, a \\kappa_{1}\\right)}$$"
      ],
      "text/plain": [
       "<IPython.core.display.Math object>"
      ]
     },
     "metadata": {},
     "output_type": "display_data"
    }
   ],
   "source": [
    "# граничные условия\n",
    "# тангенциальная компонента электрического поля\n",
    "eq_Ez_superconductor_boundary_conditions = []\n",
    "eq_Ez_superconductor_boundary_conditions += [Ez[0](0) == 0.0]\n",
    "eq_Ez_superconductor_boundary_conditions += [Ez[n_layers - 1](a*n_layers) == 0.0]\n",
    "\n",
    "display(Math(latex(Ez[0](x))))\n",
    "display(Math(latex(Ez[0](0))))\n",
    "\n",
    "display(Math(latex(eq_Ez_superconductor_boundary_conditions)))\n",
    "\n",
    "boundary_subs_begin = solve(eq_Ez_superconductor_boundary_conditions[0], Az[0])[0]\n",
    "boundary_subs_end = solve(eq_Ez_superconductor_boundary_conditions[n_layers - 1], Az[n_layers - 1])[0]\n",
    "\n",
    "display(Math(latex(boundary_subs_begin)))\n",
    "display(Math(latex(boundary_subs_end)))"
   ]
  },
  {
   "cell_type": "code",
   "execution_count": 14,
   "metadata": {},
   "outputs": [
    {
     "data": {
      "text/latex": [
       "$$\\mathit{Az}_{0} \\cos\\left(a \\kappa_{0}\\right) + \\mathit{Bz}_{0} \\sin\\left(a \\kappa_{0}\\right) = \\mathit{Az}_{1} \\cos\\left(a \\kappa_{1}\\right) + \\mathit{Bz}_{1} \\sin\\left(a \\kappa_{1}\\right)$$"
      ],
      "text/plain": [
       "<IPython.core.display.Math object>"
      ]
     },
     "metadata": {},
     "output_type": "display_data"
    },
    {
     "name": "stdout",
     "output_type": "stream",
     "text": [
      "\n"
     ]
    }
   ],
   "source": [
    "# граничные условия на гринице диэлектрика и диэлектрика\n",
    "# тангенциальная компонента электрического поля\n",
    "eq_Ez_boundary_conditions = []\n",
    "for i in range(n_layers - 1):\n",
    "    eq_Ez_boundary_conditions += [Ez[i] (a*(i+1)) == Ez[i+1](a*(i+1))]\n",
    "\n",
    "    display(Math(latex(eq_Ez_boundary_conditions[i])))\n",
    "    print(\"\")"
   ]
  },
  {
   "cell_type": "code",
   "execution_count": 15,
   "metadata": {},
   "outputs": [
    {
     "data": {
      "text/latex": [
       "$${\\left(\\mathit{Ax}_{0} \\cos\\left(a \\kappa_{0}\\right) + \\mathit{Bx}_{0} \\sin\\left(a \\kappa_{0}\\right)\\right)} \\epsilon_{0} = {\\left(\\mathit{Ax}_{1} \\cos\\left(a \\kappa_{1}\\right) + \\mathit{Bx}_{1} \\sin\\left(a \\kappa_{1}\\right)\\right)} \\epsilon_{1}$$"
      ],
      "text/plain": [
       "<IPython.core.display.Math object>"
      ]
     },
     "metadata": {},
     "output_type": "display_data"
    },
    {
     "name": "stdout",
     "output_type": "stream",
     "text": [
      "\n"
     ]
    }
   ],
   "source": [
    "# граничные условия на гринице диэлектрика и диэлектрика\n",
    "# нормальная компонента электрического смещения\n",
    "eq_Ex_boundary_conditions = []\n",
    "for i in range(n_layers - 1):\n",
    "    eq_Ex_boundary_conditions += [epsilon[i] * Ex[i](a*(i+1)) == epsilon[i+1] * Ex[i+1](a*(i+1))]\n",
    "\n",
    "    display(Math(latex(eq_Ex_boundary_conditions[i])))\n",
    "    print(\"\")"
   ]
  },
  {
   "cell_type": "code",
   "execution_count": 16,
   "metadata": {},
   "outputs": [
    {
     "data": {
      "text/latex": [
       "$$\\frac{i \\, {\\left(\\mathit{Bz}_{0} \\kappa_{0} \\cos\\left(a \\kappa_{0}\\right) - \\mathit{Az}_{0} \\kappa_{0} \\sin\\left(a \\kappa_{0}\\right) - {\\left(i \\, \\mathit{Ax}_{0} \\cos\\left(a \\kappa_{0}\\right) + i \\, \\mathit{Bx}_{0} \\sin\\left(a \\kappa_{0}\\right)\\right)} k\\right)} c}{\\mu_{0} \\omega} = \\frac{i \\, {\\left(\\mathit{Bz}_{1} \\kappa_{1} \\cos\\left(a \\kappa_{1}\\right) - \\mathit{Az}_{1} \\kappa_{1} \\sin\\left(a \\kappa_{1}\\right) - {\\left(i \\, \\mathit{Ax}_{1} \\cos\\left(a \\kappa_{1}\\right) + i \\, \\mathit{Bx}_{1} \\sin\\left(a \\kappa_{1}\\right)\\right)} k\\right)} c}{\\mu_{1} \\omega}$$"
      ],
      "text/plain": [
       "<IPython.core.display.Math object>"
      ]
     },
     "metadata": {},
     "output_type": "display_data"
    },
    {
     "name": "stdout",
     "output_type": "stream",
     "text": [
      "\n"
     ]
    }
   ],
   "source": [
    "# граничные условия на гринице диэлектрика и диэлектрика\n",
    "# тангенциальная компонента поля H\n",
    "eq_Hy_boundary_conditions = []\n",
    "for i in range(n_layers - 1):\n",
    "    eq_Hy_boundary_conditions += [Hy[i] (a*(i+1)) == Hy[i+1](a*(i+1))]\n",
    "\n",
    "    display(Math(latex(eq_Hy_boundary_conditions[i])))\n",
    "    print(\"\")"
   ]
  },
  {
   "cell_type": "code",
   "execution_count": 17,
   "metadata": {},
   "outputs": [],
   "source": [
    "def GenerateMatrix(equsys, vars):\n",
    "    A=matrix(SR, [[(equ.lhs() - equ.rhs()).coefficient(v) for v in vars] for equ in equsys])\n",
    "    return A\n",
    "\n",
    "def GenerateMatrixMult(equsys, vars):\n",
    "    A=matrix(SR, [[(equ.lhs() - equ.rhs()).coefficient(v) * v for v in vars] for equ in equsys])\n",
    "    return A\n",
    "\n",
    "def reduceDependedRows(M):\n",
    "    print (\"\")\n",
    "    print (\"M.nrows()\", M.nrows())\n",
    "    print (\"M.ncols()\", M.ncols())\n",
    "    print (\"M.rank()\", M.rank())\n",
    "\n",
    "    M_pivot_rows = M.pivot_rows()\n",
    "    print (\"M.pivot_rows() =\", M_pivot_rows)\n",
    "\n",
    "    M_rows = M.rows()\n",
    "    for row in M_rows:\n",
    "        print(\"row =\")\n",
    "        display(Math(latex(row)))\n",
    "\n",
    "    reduced_list = []\n",
    "    for r in M_pivot_rows:\n",
    "        print (\"M_rows[\", r, \"] =\")\n",
    "        display(Math(latex(M_rows[r])))\n",
    "        reduced_list.append(M_rows[r])\n",
    "\n",
    "    reduced_M = matrix(SR, len(M_pivot_rows), M.ncols(), reduced_list)\n",
    "    if reduced_M.nrows() == reduced_M.ncols():\n",
    "        reduced_M_det = reduced_M.det()\n",
    "        print (\"\")\n",
    "        print (\"reduced_M.det() =\")\n",
    "        display(Math(latex(reduced_M_det)))\n",
    "    return reduced_M"
   ]
  },
  {
   "cell_type": "code",
   "execution_count": 18,
   "metadata": {},
   "outputs": [],
   "source": [
    "def rot_H_solve(M_rotH, vars, eq_kappa, kappa):\n",
    "    if (M_rotH.nrows() != 2):\n",
    "        return\n",
    "    if (M_rotH.ncols() != len(vars)):\n",
    "        return\n",
    "    xx = vector(SR, vars)\n",
    "    yy = vector(SR, [0, 0])\n",
    "    print(\"eqns =\")\n",
    "    eqns = [(M_rotH*xx)[index] == yy[index] for index in [0,1]]\n",
    "    display(Math(latex(eqns)))\n",
    "    res = []\n",
    "\n",
    "    for index in [0,1]:\n",
    "        row_M = M_rotH[index]\n",
    "        print(\"row_M =\")\n",
    "        display(Math(latex(row_M)))\n",
    "        eq = eqns[index].full_simplify()\n",
    "        print (\"eq =\")\n",
    "        display(Math(latex(eq)))\n",
    "        print (\"\")\n",
    "        \n",
    "        eq2 = (eq / cos(kappa * x)).full_simplify().expand()\n",
    "        print (\"eq2 =\")\n",
    "        display(Math(latex(eq2)))\n",
    "        \n",
    "        tg_kappa_x_coeff = eq2.lhs().coefficient(sin(kappa * x) / cos(kappa * x))\n",
    "        print (\"tg_kappa_x_coeff =\")\n",
    "        display(Math(latex(tg_kappa_x_coeff)))\n",
    "        \n",
    "        eq_tg_kappa_x_coeff = tg_kappa_x_coeff == 0\n",
    "        for var in vars:\n",
    "            print (\"var =\")\n",
    "            display(Math(latex(var)))\n",
    "            sol_tg_kappa_x_coeff = solve(eq_tg_kappa_x_coeff, var)\n",
    "            print(\"sol_tg_kappa_x_coeff=\")\n",
    "            display(Math(latex(sol_tg_kappa_x_coeff)))\n",
    "            if len(sol_tg_kappa_x_coeff) > 0:\n",
    "                res += sol_tg_kappa_x_coeff            \n",
    "            \n",
    "                eq4 = eq.subs(sol_tg_kappa_x_coeff)\n",
    "                print (\"eq4 =\")\n",
    "                display(Math(latex(eq4)))\n",
    "\n",
    "                eq4 = eq4.full_simplify()\n",
    "                print (\"eq4 =\")\n",
    "                display(Math(latex(eq4)))\n",
    "\n",
    "                for var in vars:\n",
    "                    print (\"var =\")\n",
    "                    display(Math(latex(var)))\n",
    "                    print (\"\")\n",
    "                    sol = solve(eq4, var)\n",
    "                    print(\"sol=\")\n",
    "                    display(Math(latex(sol)))\n",
    "                    print (\"\")\n",
    "                    res += sol\n",
    "        \n",
    "        #for var in vars:\n",
    "        #    print (\"var =\")\n",
    "        #    display(Math(latex(var)))\n",
    "        #    print (\"\")\n",
    "        #    sol = solve(eq, var)\n",
    "        #    print(\"sol=\")\n",
    "        #    display(Math(latex(sol[0].full_simplify())))\n",
    "        #    print (\"\")\n",
    "        #    zero_vars = []\n",
    "        #    for v in vars:\n",
    "        #        if v != var:\n",
    "        #            print (\"v = \")\n",
    "        #            display(Math(latex(v)))\n",
    "        #            c_v = sol[0].rhs().coefficient(v)\n",
    "        #            # print (\"sol[0].rhs().coefficient(v) = \")\n",
    "        #            display(Math(latex(c_v)))\n",
    "        #            # print (\"c_v.variables() =\", c_v.variables())\n",
    "        #            for c_v_var in c_v.variables():\n",
    "        #                if \"x\" == str(c_v_var):\n",
    "        #                    zero_vars.append(v == 0)\n",
    "        #    if len(vars) - len(zero_vars) > 1:\n",
    "        #        result_rhs = sol[0].rhs().subs(zero_vars)\n",
    "        #        result = var == result_rhs\n",
    "        #        print (\"result =\")\n",
    "        #        display(Math(latex(result)))\n",
    "        #        if omega in result_rhs.arguments():\n",
    "        #            sol_omega_2 = solve(eq_kappa, omega^2)\n",
    "        #            display(Math(latex(sol_omega_2[0].rhs())))\n",
    "        #            result_rhs = result_rhs.subs(omega^2 == sol_omega_2[0].rhs())\n",
    "        #            result_rhs = result_rhs.full_simplify()\n",
    "        #            result = var == result_rhs\n",
    "        #        print (\"result =\")\n",
    "        #        display(Math(latex(result)))\n",
    "        #        res.append(result)\n",
    "        #        res += zero_vars\n",
    "        #print(\"\")\n",
    "    return res"
   ]
  },
  {
   "cell_type": "code",
   "execution_count": 19,
   "metadata": {},
   "outputs": [
    {
     "name": "stdout",
     "output_type": "stream",
     "text": [
      "eq_rot_H_x = \n"
     ]
    },
    {
     "data": {
      "text/latex": [
       "$$-\\frac{\\mathit{Bx}_{0} k^{2} \\sin\\left(\\kappa_{0} x\\right) + {\\left(\\mathit{Ax}_{0} k^{2} + i \\, \\mathit{Bz}_{0} k \\kappa_{0}\\right)} \\cos\\left(\\kappa_{0} x\\right)}{\\mu_{0}} = -\\frac{{\\left(\\mathit{Ax}_{0} k^{2} + \\mathit{Ax}_{0} \\kappa_{0}^{2}\\right)} \\cos\\left(\\kappa_{0} x\\right) + {\\left(\\mathit{Bx}_{0} k^{2} + \\mathit{Bx}_{0} \\kappa_{0}^{2}\\right)} \\sin\\left(\\kappa_{0} x\\right)}{\\mu_{0}}$$"
      ],
      "text/plain": [
       "<IPython.core.display.Math object>"
      ]
     },
     "metadata": {},
     "output_type": "display_data"
    },
    {
     "name": "stdout",
     "output_type": "stream",
     "text": [
      "eq_rot_H_z = \n"
     ]
    },
    {
     "data": {
      "text/latex": [
       "$$\\frac{-i \\, \\mathit{Bx}_{0} k \\kappa_{0} \\cos\\left(\\kappa_{0} x\\right) + {\\left(i \\, \\mathit{Ax}_{0} k \\kappa_{0} - \\mathit{Bz}_{0} \\kappa_{0}^{2}\\right)} \\sin\\left(\\kappa_{0} x\\right)}{\\mu_{0}} = -\\frac{{\\left(\\mathit{Bz}_{0} k^{2} + \\mathit{Bz}_{0} \\kappa_{0}^{2}\\right)} \\sin\\left(\\kappa_{0} x\\right)}{\\mu_{0}}$$"
      ],
      "text/plain": [
       "<IPython.core.display.Math object>"
      ]
     },
     "metadata": {},
     "output_type": "display_data"
    },
    {
     "name": "stdout",
     "output_type": "stream",
     "text": [
      "\n"
     ]
    },
    {
     "data": {
      "text/latex": [
       "$$\\left[\\mathit{Ax}_{0}, \\mathit{Bx}_{0}, \\mathit{Bz}_{0}\\right]$$"
      ],
      "text/plain": [
       "<IPython.core.display.Math object>"
      ]
     },
     "metadata": {},
     "output_type": "display_data"
    },
    {
     "name": "stdout",
     "output_type": "stream",
     "text": [
      "M_rotH =\n"
     ]
    },
    {
     "data": {
      "text/latex": [
       "$$\\left(\\begin{array}{rrr}\n",
       "-\\frac{k^{2} \\cos\\left(\\kappa_{0} x\\right)}{\\mu_{0}} + \\frac{{\\left(k^{2} + \\kappa_{0}^{2}\\right)} \\cos\\left(\\kappa_{0} x\\right)}{\\mu_{0}} & -\\frac{k^{2} \\sin\\left(\\kappa_{0} x\\right)}{\\mu_{0}} + \\frac{{\\left(k^{2} + \\kappa_{0}^{2}\\right)} \\sin\\left(\\kappa_{0} x\\right)}{\\mu_{0}} & -\\frac{i \\, k \\kappa_{0} \\cos\\left(\\kappa_{0} x\\right)}{\\mu_{0}} \\\\\n",
       "\\frac{i \\, k \\kappa_{0} \\sin\\left(\\kappa_{0} x\\right)}{\\mu_{0}} & -\\frac{i \\, k \\kappa_{0} \\cos\\left(\\kappa_{0} x\\right)}{\\mu_{0}} & -\\frac{\\kappa_{0}^{2} \\sin\\left(\\kappa_{0} x\\right)}{\\mu_{0}} + \\frac{{\\left(k^{2} + \\kappa_{0}^{2}\\right)} \\sin\\left(\\kappa_{0} x\\right)}{\\mu_{0}}\n",
       "\\end{array}\\right)$$"
      ],
      "text/plain": [
       "<IPython.core.display.Math object>"
      ]
     },
     "metadata": {},
     "output_type": "display_data"
    },
    {
     "name": "stdout",
     "output_type": "stream",
     "text": [
      "M_rotH.nrows = 2\n",
      "M_rotH.ncols = 3\n",
      "M_rotH.rank = 2\n",
      "eqns =\n"
     ]
    },
    {
     "data": {
      "text/latex": [
       "$$\\left[-\\frac{i \\, \\mathit{Bz}_{0} k \\kappa_{0} \\cos\\left(\\kappa_{0} x\\right)}{\\mu_{0}} - {\\left(\\frac{k^{2} \\cos\\left(\\kappa_{0} x\\right)}{\\mu_{0}} - \\frac{{\\left(k^{2} + \\kappa_{0}^{2}\\right)} \\cos\\left(\\kappa_{0} x\\right)}{\\mu_{0}}\\right)} \\mathit{Ax}_{0} - {\\left(\\frac{k^{2} \\sin\\left(\\kappa_{0} x\\right)}{\\mu_{0}} - \\frac{{\\left(k^{2} + \\kappa_{0}^{2}\\right)} \\sin\\left(\\kappa_{0} x\\right)}{\\mu_{0}}\\right)} \\mathit{Bx}_{0} = 0, -\\frac{i \\, \\mathit{Bx}_{0} k \\kappa_{0} \\cos\\left(\\kappa_{0} x\\right)}{\\mu_{0}} + \\frac{i \\, \\mathit{Ax}_{0} k \\kappa_{0} \\sin\\left(\\kappa_{0} x\\right)}{\\mu_{0}} - {\\left(\\frac{\\kappa_{0}^{2} \\sin\\left(\\kappa_{0} x\\right)}{\\mu_{0}} - \\frac{{\\left(k^{2} + \\kappa_{0}^{2}\\right)} \\sin\\left(\\kappa_{0} x\\right)}{\\mu_{0}}\\right)} \\mathit{Bz}_{0} = 0\\right]$$"
      ],
      "text/plain": [
       "<IPython.core.display.Math object>"
      ]
     },
     "metadata": {},
     "output_type": "display_data"
    },
    {
     "name": "stdout",
     "output_type": "stream",
     "text": [
      "row_M =\n"
     ]
    },
    {
     "data": {
      "text/latex": [
       "$$\\left(-\\frac{k^{2} \\cos\\left(\\kappa_{0} x\\right)}{\\mu_{0}} + \\frac{{\\left(k^{2} + \\kappa_{0}^{2}\\right)} \\cos\\left(\\kappa_{0} x\\right)}{\\mu_{0}},\\,-\\frac{k^{2} \\sin\\left(\\kappa_{0} x\\right)}{\\mu_{0}} + \\frac{{\\left(k^{2} + \\kappa_{0}^{2}\\right)} \\sin\\left(\\kappa_{0} x\\right)}{\\mu_{0}},\\,-\\frac{i \\, k \\kappa_{0} \\cos\\left(\\kappa_{0} x\\right)}{\\mu_{0}}\\right)$$"
      ],
      "text/plain": [
       "<IPython.core.display.Math object>"
      ]
     },
     "metadata": {},
     "output_type": "display_data"
    },
    {
     "name": "stdout",
     "output_type": "stream",
     "text": [
      "eq =\n"
     ]
    },
    {
     "data": {
      "text/latex": [
       "$$\\frac{\\mathit{Bx}_{0} \\kappa_{0}^{2} \\sin\\left(\\kappa_{0} x\\right) + {\\left(-i \\, \\mathit{Bz}_{0} k \\kappa_{0} + \\mathit{Ax}_{0} \\kappa_{0}^{2}\\right)} \\cos\\left(\\kappa_{0} x\\right)}{\\mu_{0}} = 0$$"
      ],
      "text/plain": [
       "<IPython.core.display.Math object>"
      ]
     },
     "metadata": {},
     "output_type": "display_data"
    },
    {
     "name": "stdout",
     "output_type": "stream",
     "text": [
      "\n",
      "eq2 =\n"
     ]
    },
    {
     "data": {
      "text/latex": [
       "$$-\\frac{i \\, \\mathit{Bz}_{0} k \\kappa_{0}}{\\mu_{0}} + \\frac{\\mathit{Ax}_{0} \\kappa_{0}^{2}}{\\mu_{0}} + \\frac{\\mathit{Bx}_{0} \\kappa_{0}^{2} \\sin\\left(\\kappa_{0} x\\right)}{\\mu_{0} \\cos\\left(\\kappa_{0} x\\right)} = 0$$"
      ],
      "text/plain": [
       "<IPython.core.display.Math object>"
      ]
     },
     "metadata": {},
     "output_type": "display_data"
    },
    {
     "name": "stdout",
     "output_type": "stream",
     "text": [
      "tg_kappa_x_coeff =\n"
     ]
    },
    {
     "data": {
      "text/latex": [
       "$$\\frac{\\mathit{Bx}_{0} \\kappa_{0}^{2}}{\\mu_{0}}$$"
      ],
      "text/plain": [
       "<IPython.core.display.Math object>"
      ]
     },
     "metadata": {},
     "output_type": "display_data"
    },
    {
     "name": "stdout",
     "output_type": "stream",
     "text": [
      "var =\n"
     ]
    },
    {
     "data": {
      "text/latex": [
       "$$\\mathit{Ax}_{0}$$"
      ],
      "text/plain": [
       "<IPython.core.display.Math object>"
      ]
     },
     "metadata": {},
     "output_type": "display_data"
    },
    {
     "name": "stdout",
     "output_type": "stream",
     "text": [
      "sol_tg_kappa_x_coeff=\n"
     ]
    },
    {
     "data": {
      "text/latex": [
       "$$\\left[\\right]$$"
      ],
      "text/plain": [
       "<IPython.core.display.Math object>"
      ]
     },
     "metadata": {},
     "output_type": "display_data"
    },
    {
     "name": "stdout",
     "output_type": "stream",
     "text": [
      "var =\n"
     ]
    },
    {
     "data": {
      "text/latex": [
       "$$\\mathit{Bx}_{0}$$"
      ],
      "text/plain": [
       "<IPython.core.display.Math object>"
      ]
     },
     "metadata": {},
     "output_type": "display_data"
    },
    {
     "name": "stdout",
     "output_type": "stream",
     "text": [
      "sol_tg_kappa_x_coeff=\n"
     ]
    },
    {
     "data": {
      "text/latex": [
       "$$\\left[\\mathit{Bx}_{0} = 0\\right]$$"
      ],
      "text/plain": [
       "<IPython.core.display.Math object>"
      ]
     },
     "metadata": {},
     "output_type": "display_data"
    },
    {
     "name": "stdout",
     "output_type": "stream",
     "text": [
      "eq4 =\n"
     ]
    },
    {
     "data": {
      "text/latex": [
       "$$\\frac{{\\left(-i \\, \\mathit{Bz}_{0} k \\kappa_{0} + \\mathit{Ax}_{0} \\kappa_{0}^{2}\\right)} \\cos\\left(\\kappa_{0} x\\right)}{\\mu_{0}} = 0$$"
      ],
      "text/plain": [
       "<IPython.core.display.Math object>"
      ]
     },
     "metadata": {},
     "output_type": "display_data"
    },
    {
     "name": "stdout",
     "output_type": "stream",
     "text": [
      "eq4 =\n"
     ]
    },
    {
     "data": {
      "text/latex": [
       "$$\\frac{{\\left(-i \\, \\mathit{Bz}_{0} k \\kappa_{0} + \\mathit{Ax}_{0} \\kappa_{0}^{2}\\right)} \\cos\\left(\\kappa_{0} x\\right)}{\\mu_{0}} = 0$$"
      ],
      "text/plain": [
       "<IPython.core.display.Math object>"
      ]
     },
     "metadata": {},
     "output_type": "display_data"
    },
    {
     "name": "stdout",
     "output_type": "stream",
     "text": [
      "var =\n"
     ]
    },
    {
     "data": {
      "text/latex": [
       "$$\\mathit{Ax}_{0}$$"
      ],
      "text/plain": [
       "<IPython.core.display.Math object>"
      ]
     },
     "metadata": {},
     "output_type": "display_data"
    },
    {
     "name": "stdout",
     "output_type": "stream",
     "text": [
      "\n",
      "sol=\n"
     ]
    },
    {
     "data": {
      "text/latex": [
       "$$\\left[\\mathit{Ax}_{0} = \\frac{i \\, \\mathit{Bz}_{0} k}{\\kappa_{0}}\\right]$$"
      ],
      "text/plain": [
       "<IPython.core.display.Math object>"
      ]
     },
     "metadata": {},
     "output_type": "display_data"
    },
    {
     "name": "stdout",
     "output_type": "stream",
     "text": [
      "\n",
      "var =\n"
     ]
    },
    {
     "data": {
      "text/latex": [
       "$$\\mathit{Bx}_{0}$$"
      ],
      "text/plain": [
       "<IPython.core.display.Math object>"
      ]
     },
     "metadata": {},
     "output_type": "display_data"
    },
    {
     "name": "stdout",
     "output_type": "stream",
     "text": [
      "\n",
      "sol=\n"
     ]
    },
    {
     "data": {
      "text/latex": [
       "$$\\left[\\right]$$"
      ],
      "text/plain": [
       "<IPython.core.display.Math object>"
      ]
     },
     "metadata": {},
     "output_type": "display_data"
    },
    {
     "name": "stdout",
     "output_type": "stream",
     "text": [
      "\n",
      "var =\n"
     ]
    },
    {
     "data": {
      "text/latex": [
       "$$\\mathit{Bz}_{0}$$"
      ],
      "text/plain": [
       "<IPython.core.display.Math object>"
      ]
     },
     "metadata": {},
     "output_type": "display_data"
    },
    {
     "name": "stdout",
     "output_type": "stream",
     "text": [
      "\n",
      "sol=\n"
     ]
    },
    {
     "data": {
      "text/latex": [
       "$$\\left[\\mathit{Bz}_{0} = -\\frac{i \\, \\mathit{Ax}_{0} \\kappa_{0}}{k}\\right]$$"
      ],
      "text/plain": [
       "<IPython.core.display.Math object>"
      ]
     },
     "metadata": {},
     "output_type": "display_data"
    },
    {
     "name": "stdout",
     "output_type": "stream",
     "text": [
      "\n",
      "var =\n"
     ]
    },
    {
     "data": {
      "text/latex": [
       "$$\\mathit{Bz}_{0}$$"
      ],
      "text/plain": [
       "<IPython.core.display.Math object>"
      ]
     },
     "metadata": {},
     "output_type": "display_data"
    },
    {
     "name": "stdout",
     "output_type": "stream",
     "text": [
      "sol_tg_kappa_x_coeff=\n"
     ]
    },
    {
     "data": {
      "text/latex": [
       "$$\\left[\\right]$$"
      ],
      "text/plain": [
       "<IPython.core.display.Math object>"
      ]
     },
     "metadata": {},
     "output_type": "display_data"
    },
    {
     "name": "stdout",
     "output_type": "stream",
     "text": [
      "row_M =\n"
     ]
    },
    {
     "data": {
      "text/latex": [
       "$$\\left(\\frac{i \\, k \\kappa_{0} \\sin\\left(\\kappa_{0} x\\right)}{\\mu_{0}},\\,-\\frac{i \\, k \\kappa_{0} \\cos\\left(\\kappa_{0} x\\right)}{\\mu_{0}},\\,-\\frac{\\kappa_{0}^{2} \\sin\\left(\\kappa_{0} x\\right)}{\\mu_{0}} + \\frac{{\\left(k^{2} + \\kappa_{0}^{2}\\right)} \\sin\\left(\\kappa_{0} x\\right)}{\\mu_{0}}\\right)$$"
      ],
      "text/plain": [
       "<IPython.core.display.Math object>"
      ]
     },
     "metadata": {},
     "output_type": "display_data"
    },
    {
     "name": "stdout",
     "output_type": "stream",
     "text": [
      "eq =\n"
     ]
    },
    {
     "data": {
      "text/latex": [
       "$$\\frac{-i \\, \\mathit{Bx}_{0} k \\kappa_{0} \\cos\\left(\\kappa_{0} x\\right) + {\\left(\\mathit{Bz}_{0} k^{2} + i \\, \\mathit{Ax}_{0} k \\kappa_{0}\\right)} \\sin\\left(\\kappa_{0} x\\right)}{\\mu_{0}} = 0$$"
      ],
      "text/plain": [
       "<IPython.core.display.Math object>"
      ]
     },
     "metadata": {},
     "output_type": "display_data"
    },
    {
     "name": "stdout",
     "output_type": "stream",
     "text": [
      "\n",
      "eq2 =\n"
     ]
    },
    {
     "data": {
      "text/latex": [
       "$$-\\frac{i \\, \\mathit{Bx}_{0} k \\kappa_{0}}{\\mu_{0}} + \\frac{\\mathit{Bz}_{0} k^{2} \\sin\\left(\\kappa_{0} x\\right)}{\\mu_{0} \\cos\\left(\\kappa_{0} x\\right)} + \\frac{i \\, \\mathit{Ax}_{0} k \\kappa_{0} \\sin\\left(\\kappa_{0} x\\right)}{\\mu_{0} \\cos\\left(\\kappa_{0} x\\right)} = 0$$"
      ],
      "text/plain": [
       "<IPython.core.display.Math object>"
      ]
     },
     "metadata": {},
     "output_type": "display_data"
    },
    {
     "name": "stdout",
     "output_type": "stream",
     "text": [
      "tg_kappa_x_coeff =\n"
     ]
    },
    {
     "data": {
      "text/latex": [
       "$$\\frac{\\mathit{Bz}_{0} k^{2}}{\\mu_{0}} + \\frac{i \\, \\mathit{Ax}_{0} k \\kappa_{0}}{\\mu_{0}}$$"
      ],
      "text/plain": [
       "<IPython.core.display.Math object>"
      ]
     },
     "metadata": {},
     "output_type": "display_data"
    },
    {
     "name": "stdout",
     "output_type": "stream",
     "text": [
      "var =\n"
     ]
    },
    {
     "data": {
      "text/latex": [
       "$$\\mathit{Ax}_{0}$$"
      ],
      "text/plain": [
       "<IPython.core.display.Math object>"
      ]
     },
     "metadata": {},
     "output_type": "display_data"
    },
    {
     "name": "stdout",
     "output_type": "stream",
     "text": [
      "sol_tg_kappa_x_coeff=\n"
     ]
    },
    {
     "data": {
      "text/latex": [
       "$$\\left[\\mathit{Ax}_{0} = \\frac{i \\, \\mathit{Bz}_{0} k}{\\kappa_{0}}\\right]$$"
      ],
      "text/plain": [
       "<IPython.core.display.Math object>"
      ]
     },
     "metadata": {},
     "output_type": "display_data"
    },
    {
     "name": "stdout",
     "output_type": "stream",
     "text": [
      "eq4 =\n"
     ]
    },
    {
     "data": {
      "text/latex": [
       "$$-\\frac{i \\, \\mathit{Bx}_{0} k \\kappa_{0} \\cos\\left(\\kappa_{0} x\\right)}{\\mu_{0}} = 0$$"
      ],
      "text/plain": [
       "<IPython.core.display.Math object>"
      ]
     },
     "metadata": {},
     "output_type": "display_data"
    },
    {
     "name": "stdout",
     "output_type": "stream",
     "text": [
      "eq4 =\n"
     ]
    },
    {
     "data": {
      "text/latex": [
       "$$-\\frac{i \\, \\mathit{Bx}_{0} k \\kappa_{0} \\cos\\left(\\kappa_{0} x\\right)}{\\mu_{0}} = 0$$"
      ],
      "text/plain": [
       "<IPython.core.display.Math object>"
      ]
     },
     "metadata": {},
     "output_type": "display_data"
    },
    {
     "name": "stdout",
     "output_type": "stream",
     "text": [
      "var =\n"
     ]
    },
    {
     "data": {
      "text/latex": [
       "$$\\mathit{Ax}_{0}$$"
      ],
      "text/plain": [
       "<IPython.core.display.Math object>"
      ]
     },
     "metadata": {},
     "output_type": "display_data"
    },
    {
     "name": "stdout",
     "output_type": "stream",
     "text": [
      "\n",
      "sol=\n"
     ]
    },
    {
     "data": {
      "text/latex": [
       "$$\\left[\\right]$$"
      ],
      "text/plain": [
       "<IPython.core.display.Math object>"
      ]
     },
     "metadata": {},
     "output_type": "display_data"
    },
    {
     "name": "stdout",
     "output_type": "stream",
     "text": [
      "\n",
      "var =\n"
     ]
    },
    {
     "data": {
      "text/latex": [
       "$$\\mathit{Bx}_{0}$$"
      ],
      "text/plain": [
       "<IPython.core.display.Math object>"
      ]
     },
     "metadata": {},
     "output_type": "display_data"
    },
    {
     "name": "stdout",
     "output_type": "stream",
     "text": [
      "\n",
      "sol=\n"
     ]
    },
    {
     "data": {
      "text/latex": [
       "$$\\left[\\mathit{Bx}_{0} = 0\\right]$$"
      ],
      "text/plain": [
       "<IPython.core.display.Math object>"
      ]
     },
     "metadata": {},
     "output_type": "display_data"
    },
    {
     "name": "stdout",
     "output_type": "stream",
     "text": [
      "\n",
      "var =\n"
     ]
    },
    {
     "data": {
      "text/latex": [
       "$$\\mathit{Bz}_{0}$$"
      ],
      "text/plain": [
       "<IPython.core.display.Math object>"
      ]
     },
     "metadata": {},
     "output_type": "display_data"
    },
    {
     "name": "stdout",
     "output_type": "stream",
     "text": [
      "\n",
      "sol=\n"
     ]
    },
    {
     "data": {
      "text/latex": [
       "$$\\left[\\right]$$"
      ],
      "text/plain": [
       "<IPython.core.display.Math object>"
      ]
     },
     "metadata": {},
     "output_type": "display_data"
    },
    {
     "name": "stdout",
     "output_type": "stream",
     "text": [
      "\n",
      "var =\n"
     ]
    },
    {
     "data": {
      "text/latex": [
       "$$\\mathit{Bx}_{0}$$"
      ],
      "text/plain": [
       "<IPython.core.display.Math object>"
      ]
     },
     "metadata": {},
     "output_type": "display_data"
    },
    {
     "name": "stdout",
     "output_type": "stream",
     "text": [
      "sol_tg_kappa_x_coeff=\n"
     ]
    },
    {
     "data": {
      "text/latex": [
       "$$\\left[\\right]$$"
      ],
      "text/plain": [
       "<IPython.core.display.Math object>"
      ]
     },
     "metadata": {},
     "output_type": "display_data"
    },
    {
     "name": "stdout",
     "output_type": "stream",
     "text": [
      "var =\n"
     ]
    },
    {
     "data": {
      "text/latex": [
       "$$\\mathit{Bz}_{0}$$"
      ],
      "text/plain": [
       "<IPython.core.display.Math object>"
      ]
     },
     "metadata": {},
     "output_type": "display_data"
    },
    {
     "name": "stdout",
     "output_type": "stream",
     "text": [
      "sol_tg_kappa_x_coeff=\n"
     ]
    },
    {
     "data": {
      "text/latex": [
       "$$\\left[\\mathit{Bz}_{0} = -\\frac{i \\, \\mathit{Ax}_{0} \\kappa_{0}}{k}\\right]$$"
      ],
      "text/plain": [
       "<IPython.core.display.Math object>"
      ]
     },
     "metadata": {},
     "output_type": "display_data"
    },
    {
     "name": "stdout",
     "output_type": "stream",
     "text": [
      "eq4 =\n"
     ]
    },
    {
     "data": {
      "text/latex": [
       "$$-\\frac{i \\, \\mathit{Bx}_{0} k \\kappa_{0} \\cos\\left(\\kappa_{0} x\\right)}{\\mu_{0}} = 0$$"
      ],
      "text/plain": [
       "<IPython.core.display.Math object>"
      ]
     },
     "metadata": {},
     "output_type": "display_data"
    },
    {
     "name": "stdout",
     "output_type": "stream",
     "text": [
      "eq4 =\n"
     ]
    },
    {
     "data": {
      "text/latex": [
       "$$-\\frac{i \\, \\mathit{Bx}_{0} k \\kappa_{0} \\cos\\left(\\kappa_{0} x\\right)}{\\mu_{0}} = 0$$"
      ],
      "text/plain": [
       "<IPython.core.display.Math object>"
      ]
     },
     "metadata": {},
     "output_type": "display_data"
    },
    {
     "name": "stdout",
     "output_type": "stream",
     "text": [
      "var =\n"
     ]
    },
    {
     "data": {
      "text/latex": [
       "$$\\mathit{Ax}_{0}$$"
      ],
      "text/plain": [
       "<IPython.core.display.Math object>"
      ]
     },
     "metadata": {},
     "output_type": "display_data"
    },
    {
     "name": "stdout",
     "output_type": "stream",
     "text": [
      "\n",
      "sol=\n"
     ]
    },
    {
     "data": {
      "text/latex": [
       "$$\\left[\\right]$$"
      ],
      "text/plain": [
       "<IPython.core.display.Math object>"
      ]
     },
     "metadata": {},
     "output_type": "display_data"
    },
    {
     "name": "stdout",
     "output_type": "stream",
     "text": [
      "\n",
      "var =\n"
     ]
    },
    {
     "data": {
      "text/latex": [
       "$$\\mathit{Bx}_{0}$$"
      ],
      "text/plain": [
       "<IPython.core.display.Math object>"
      ]
     },
     "metadata": {},
     "output_type": "display_data"
    },
    {
     "name": "stdout",
     "output_type": "stream",
     "text": [
      "\n",
      "sol=\n"
     ]
    },
    {
     "data": {
      "text/latex": [
       "$$\\left[\\mathit{Bx}_{0} = 0\\right]$$"
      ],
      "text/plain": [
       "<IPython.core.display.Math object>"
      ]
     },
     "metadata": {},
     "output_type": "display_data"
    },
    {
     "name": "stdout",
     "output_type": "stream",
     "text": [
      "\n",
      "var =\n"
     ]
    },
    {
     "data": {
      "text/latex": [
       "$$\\mathit{Bz}_{0}$$"
      ],
      "text/plain": [
       "<IPython.core.display.Math object>"
      ]
     },
     "metadata": {},
     "output_type": "display_data"
    },
    {
     "name": "stdout",
     "output_type": "stream",
     "text": [
      "\n",
      "sol=\n"
     ]
    },
    {
     "data": {
      "text/latex": [
       "$$\\left[\\right]$$"
      ],
      "text/plain": [
       "<IPython.core.display.Math object>"
      ]
     },
     "metadata": {},
     "output_type": "display_data"
    },
    {
     "name": "stdout",
     "output_type": "stream",
     "text": [
      "\n",
      "eq_rot_H_x = \n"
     ]
    },
    {
     "data": {
      "text/latex": [
       "$$\\frac{{\\left(\\mathit{Ax}_{1} k^{2} + i \\, \\mathit{Bz}_{1} k \\kappa_{1} - 2 \\, {\\left(\\mathit{Ax}_{1} k^{2} + i \\, \\mathit{Bz}_{1} k \\kappa_{1}\\right)} \\cos\\left(a \\kappa_{1}\\right)^{2}\\right)} \\cos\\left(\\kappa_{1} x\\right) - {\\left(2 \\, \\mathit{Bx}_{1} k^{2} \\cos\\left(a \\kappa_{1}\\right)^{2} + 2 i \\, \\mathit{Bz}_{1} k \\kappa_{1} \\cos\\left(a \\kappa_{1}\\right) \\sin\\left(a \\kappa_{1}\\right) - \\mathit{Bx}_{1} k^{2}\\right)} \\sin\\left(\\kappa_{1} x\\right)}{{\\left(2 \\, \\cos\\left(a \\kappa_{1}\\right)^{2} - 1\\right)} \\mu_{1}} = -\\frac{{\\left(\\mathit{Ax}_{1} k^{2} + \\mathit{Ax}_{1} \\kappa_{1}^{2}\\right)} \\cos\\left(\\kappa_{1} x\\right) + {\\left(\\mathit{Bx}_{1} k^{2} + \\mathit{Bx}_{1} \\kappa_{1}^{2}\\right)} \\sin\\left(\\kappa_{1} x\\right)}{\\mu_{1}}$$"
      ],
      "text/plain": [
       "<IPython.core.display.Math object>"
      ]
     },
     "metadata": {},
     "output_type": "display_data"
    },
    {
     "name": "stdout",
     "output_type": "stream",
     "text": [
      "eq_rot_H_z = \n"
     ]
    },
    {
     "data": {
      "text/latex": [
       "$$-\\frac{{\\left(2 \\, \\mathit{Bz}_{1} \\kappa_{1}^{2} \\cos\\left(a \\kappa_{1}\\right) \\sin\\left(a \\kappa_{1}\\right) + 2 i \\, \\mathit{Bx}_{1} k \\kappa_{1} \\sin\\left(a \\kappa_{1}\\right)^{2} - i \\, \\mathit{Bx}_{1} k \\kappa_{1}\\right)} \\cos\\left(\\kappa_{1} x\\right) + {\\left(i \\, \\mathit{Ax}_{1} k \\kappa_{1} - \\mathit{Bz}_{1} \\kappa_{1}^{2} + {\\left(-2 i \\, \\mathit{Ax}_{1} k \\kappa_{1} + 2 \\, \\mathit{Bz}_{1} \\kappa_{1}^{2}\\right)} \\sin\\left(a \\kappa_{1}\\right)^{2}\\right)} \\sin\\left(\\kappa_{1} x\\right)}{{\\left(2 \\, \\sin\\left(a \\kappa_{1}\\right)^{2} - 1\\right)} \\mu_{1}} = -\\frac{2 \\, {\\left(\\mathit{Bz}_{1} k^{2} + \\mathit{Bz}_{1} \\kappa_{1}^{2}\\right)} \\cos\\left(a \\kappa_{1}\\right) \\cos\\left(\\kappa_{1} x\\right) \\sin\\left(a \\kappa_{1}\\right) - {\\left(\\mathit{Bz}_{1} k^{2} + \\mathit{Bz}_{1} \\kappa_{1}^{2} - 2 \\, {\\left(\\mathit{Bz}_{1} k^{2} + \\mathit{Bz}_{1} \\kappa_{1}^{2}\\right)} \\sin\\left(a \\kappa_{1}\\right)^{2}\\right)} \\sin\\left(\\kappa_{1} x\\right)}{{\\left(2 \\, \\sin\\left(a \\kappa_{1}\\right)^{2} - 1\\right)} \\mu_{1}}$$"
      ],
      "text/plain": [
       "<IPython.core.display.Math object>"
      ]
     },
     "metadata": {},
     "output_type": "display_data"
    },
    {
     "name": "stdout",
     "output_type": "stream",
     "text": [
      "\n"
     ]
    },
    {
     "data": {
      "text/latex": [
       "$$\\left[\\mathit{Ax}_{1}, \\mathit{Bx}_{1}, \\mathit{Bz}_{1}\\right]$$"
      ],
      "text/plain": [
       "<IPython.core.display.Math object>"
      ]
     },
     "metadata": {},
     "output_type": "display_data"
    },
    {
     "name": "stdout",
     "output_type": "stream",
     "text": [
      "M_rotH =\n"
     ]
    },
    {
     "data": {
      "text/latex": [
       "$$\\left(\\begin{array}{rrr}\n",
       "\\frac{{\\left(k^{2} + \\kappa_{1}^{2}\\right)} \\cos\\left(\\kappa_{1} x\\right)}{\\mu_{1}} - \\frac{{\\left(2 \\, k^{2} \\cos\\left(a \\kappa_{1}\\right)^{2} - k^{2}\\right)} \\cos\\left(\\kappa_{1} x\\right)}{{\\left(2 \\, \\cos\\left(a \\kappa_{1}\\right)^{2} - 1\\right)} \\mu_{1}} & \\frac{{\\left(k^{2} + \\kappa_{1}^{2}\\right)} \\sin\\left(\\kappa_{1} x\\right)}{\\mu_{1}} - \\frac{{\\left(2 \\, k^{2} \\cos\\left(a \\kappa_{1}\\right)^{2} - k^{2}\\right)} \\sin\\left(\\kappa_{1} x\\right)}{{\\left(2 \\, \\cos\\left(a \\kappa_{1}\\right)^{2} - 1\\right)} \\mu_{1}} & \\frac{-2 i \\, k \\kappa_{1} \\cos\\left(a \\kappa_{1}\\right) \\sin\\left(a \\kappa_{1}\\right) \\sin\\left(\\kappa_{1} x\\right) + {\\left(-2 i \\, k \\kappa_{1} \\cos\\left(a \\kappa_{1}\\right)^{2} + i \\, k \\kappa_{1}\\right)} \\cos\\left(\\kappa_{1} x\\right)}{{\\left(2 \\, \\cos\\left(a \\kappa_{1}\\right)^{2} - 1\\right)} \\mu_{1}} \\\\\n",
       "-\\frac{{\\left(-2 i \\, k \\kappa_{1} \\sin\\left(a \\kappa_{1}\\right)^{2} + i \\, k \\kappa_{1}\\right)} \\sin\\left(\\kappa_{1} x\\right)}{{\\left(2 \\, \\sin\\left(a \\kappa_{1}\\right)^{2} - 1\\right)} \\mu_{1}} & -\\frac{{\\left(2 i \\, k \\kappa_{1} \\sin\\left(a \\kappa_{1}\\right)^{2} - i \\, k \\kappa_{1}\\right)} \\cos\\left(\\kappa_{1} x\\right)}{{\\left(2 \\, \\sin\\left(a \\kappa_{1}\\right)^{2} - 1\\right)} \\mu_{1}} & -\\frac{2 \\, \\kappa_{1}^{2} \\cos\\left(a \\kappa_{1}\\right) \\cos\\left(\\kappa_{1} x\\right) \\sin\\left(a \\kappa_{1}\\right) + {\\left(2 \\, \\kappa_{1}^{2} \\sin\\left(a \\kappa_{1}\\right)^{2} - \\kappa_{1}^{2}\\right)} \\sin\\left(\\kappa_{1} x\\right)}{{\\left(2 \\, \\sin\\left(a \\kappa_{1}\\right)^{2} - 1\\right)} \\mu_{1}} + \\frac{2 \\, {\\left(k^{2} + \\kappa_{1}^{2}\\right)} \\cos\\left(a \\kappa_{1}\\right) \\cos\\left(\\kappa_{1} x\\right) \\sin\\left(a \\kappa_{1}\\right) + {\\left(2 \\, {\\left(k^{2} + \\kappa_{1}^{2}\\right)} \\sin\\left(a \\kappa_{1}\\right)^{2} - k^{2} - \\kappa_{1}^{2}\\right)} \\sin\\left(\\kappa_{1} x\\right)}{{\\left(2 \\, \\sin\\left(a \\kappa_{1}\\right)^{2} - 1\\right)} \\mu_{1}}\n",
       "\\end{array}\\right)$$"
      ],
      "text/plain": [
       "<IPython.core.display.Math object>"
      ]
     },
     "metadata": {},
     "output_type": "display_data"
    },
    {
     "name": "stdout",
     "output_type": "stream",
     "text": [
      "M_rotH.nrows = 2\n",
      "M_rotH.ncols = 3\n",
      "M_rotH.rank = 2\n",
      "eqns =\n"
     ]
    },
    {
     "data": {
      "text/latex": [
       "$$\\left[\\mathit{Ax}_{1} {\\left(\\frac{{\\left(k^{2} + \\kappa_{1}^{2}\\right)} \\cos\\left(\\kappa_{1} x\\right)}{\\mu_{1}} - \\frac{{\\left(2 \\, k^{2} \\cos\\left(a \\kappa_{1}\\right)^{2} - k^{2}\\right)} \\cos\\left(\\kappa_{1} x\\right)}{{\\left(2 \\, \\cos\\left(a \\kappa_{1}\\right)^{2} - 1\\right)} \\mu_{1}}\\right)} + \\mathit{Bx}_{1} {\\left(\\frac{{\\left(k^{2} + \\kappa_{1}^{2}\\right)} \\sin\\left(\\kappa_{1} x\\right)}{\\mu_{1}} - \\frac{{\\left(2 \\, k^{2} \\cos\\left(a \\kappa_{1}\\right)^{2} - k^{2}\\right)} \\sin\\left(\\kappa_{1} x\\right)}{{\\left(2 \\, \\cos\\left(a \\kappa_{1}\\right)^{2} - 1\\right)} \\mu_{1}}\\right)} + \\frac{{\\left(-2 i \\, k \\kappa_{1} \\cos\\left(a \\kappa_{1}\\right) \\sin\\left(a \\kappa_{1}\\right) \\sin\\left(\\kappa_{1} x\\right) + {\\left(-2 i \\, k \\kappa_{1} \\cos\\left(a \\kappa_{1}\\right)^{2} + i \\, k \\kappa_{1}\\right)} \\cos\\left(\\kappa_{1} x\\right)\\right)} \\mathit{Bz}_{1}}{{\\left(2 \\, \\cos\\left(a \\kappa_{1}\\right)^{2} - 1\\right)} \\mu_{1}} = 0, -\\mathit{Bz}_{1} {\\left(\\frac{2 \\, \\kappa_{1}^{2} \\cos\\left(a \\kappa_{1}\\right) \\cos\\left(\\kappa_{1} x\\right) \\sin\\left(a \\kappa_{1}\\right) + {\\left(2 \\, \\kappa_{1}^{2} \\sin\\left(a \\kappa_{1}\\right)^{2} - \\kappa_{1}^{2}\\right)} \\sin\\left(\\kappa_{1} x\\right)}{{\\left(2 \\, \\sin\\left(a \\kappa_{1}\\right)^{2} - 1\\right)} \\mu_{1}} - \\frac{2 \\, {\\left(k^{2} + \\kappa_{1}^{2}\\right)} \\cos\\left(a \\kappa_{1}\\right) \\cos\\left(\\kappa_{1} x\\right) \\sin\\left(a \\kappa_{1}\\right) + {\\left(2 \\, {\\left(k^{2} + \\kappa_{1}^{2}\\right)} \\sin\\left(a \\kappa_{1}\\right)^{2} - k^{2} - \\kappa_{1}^{2}\\right)} \\sin\\left(\\kappa_{1} x\\right)}{{\\left(2 \\, \\sin\\left(a \\kappa_{1}\\right)^{2} - 1\\right)} \\mu_{1}}\\right)} - \\frac{{\\left(2 i \\, k \\kappa_{1} \\sin\\left(a \\kappa_{1}\\right)^{2} - i \\, k \\kappa_{1}\\right)} \\mathit{Bx}_{1} \\cos\\left(\\kappa_{1} x\\right)}{{\\left(2 \\, \\sin\\left(a \\kappa_{1}\\right)^{2} - 1\\right)} \\mu_{1}} - \\frac{{\\left(-2 i \\, k \\kappa_{1} \\sin\\left(a \\kappa_{1}\\right)^{2} + i \\, k \\kappa_{1}\\right)} \\mathit{Ax}_{1} \\sin\\left(\\kappa_{1} x\\right)}{{\\left(2 \\, \\sin\\left(a \\kappa_{1}\\right)^{2} - 1\\right)} \\mu_{1}} = 0\\right]$$"
      ],
      "text/plain": [
       "<IPython.core.display.Math object>"
      ]
     },
     "metadata": {},
     "output_type": "display_data"
    },
    {
     "name": "stdout",
     "output_type": "stream",
     "text": [
      "row_M =\n"
     ]
    },
    {
     "data": {
      "text/latex": [
       "$$\\left(\\frac{{\\left(k^{2} + \\kappa_{1}^{2}\\right)} \\cos\\left(\\kappa_{1} x\\right)}{\\mu_{1}} - \\frac{{\\left(2 \\, k^{2} \\cos\\left(a \\kappa_{1}\\right)^{2} - k^{2}\\right)} \\cos\\left(\\kappa_{1} x\\right)}{{\\left(2 \\, \\cos\\left(a \\kappa_{1}\\right)^{2} - 1\\right)} \\mu_{1}},\\,\\frac{{\\left(k^{2} + \\kappa_{1}^{2}\\right)} \\sin\\left(\\kappa_{1} x\\right)}{\\mu_{1}} - \\frac{{\\left(2 \\, k^{2} \\cos\\left(a \\kappa_{1}\\right)^{2} - k^{2}\\right)} \\sin\\left(\\kappa_{1} x\\right)}{{\\left(2 \\, \\cos\\left(a \\kappa_{1}\\right)^{2} - 1\\right)} \\mu_{1}},\\,\\frac{-2 i \\, k \\kappa_{1} \\cos\\left(a \\kappa_{1}\\right) \\sin\\left(a \\kappa_{1}\\right) \\sin\\left(\\kappa_{1} x\\right) + {\\left(-2 i \\, k \\kappa_{1} \\cos\\left(a \\kappa_{1}\\right)^{2} + i \\, k \\kappa_{1}\\right)} \\cos\\left(\\kappa_{1} x\\right)}{{\\left(2 \\, \\cos\\left(a \\kappa_{1}\\right)^{2} - 1\\right)} \\mu_{1}}\\right)$$"
      ],
      "text/plain": [
       "<IPython.core.display.Math object>"
      ]
     },
     "metadata": {},
     "output_type": "display_data"
    },
    {
     "name": "stdout",
     "output_type": "stream",
     "text": [
      "eq =\n"
     ]
    },
    {
     "data": {
      "text/latex": [
       "$$\\frac{{\\left(i \\, \\mathit{Bz}_{1} k \\kappa_{1} - \\mathit{Ax}_{1} \\kappa_{1}^{2} - 2 \\, {\\left(i \\, \\mathit{Bz}_{1} k \\kappa_{1} - \\mathit{Ax}_{1} \\kappa_{1}^{2}\\right)} \\sin\\left(a \\kappa_{1}\\right)^{2}\\right)} \\cos\\left(\\kappa_{1} x\\right) + {\\left(2 i \\, \\mathit{Bz}_{1} k \\kappa_{1} \\cos\\left(a \\kappa_{1}\\right) \\sin\\left(a \\kappa_{1}\\right) + 2 \\, \\mathit{Bx}_{1} \\kappa_{1}^{2} \\sin\\left(a \\kappa_{1}\\right)^{2} - \\mathit{Bx}_{1} \\kappa_{1}^{2}\\right)} \\sin\\left(\\kappa_{1} x\\right)}{{\\left(2 \\, \\sin\\left(a \\kappa_{1}\\right)^{2} - 1\\right)} \\mu_{1}} = 0$$"
      ],
      "text/plain": [
       "<IPython.core.display.Math object>"
      ]
     },
     "metadata": {},
     "output_type": "display_data"
    },
    {
     "name": "stdout",
     "output_type": "stream",
     "text": [
      "\n",
      "eq2 =\n"
     ]
    },
    {
     "data": {
      "text/latex": [
       "$$-\\frac{2 i \\, \\mathit{Bz}_{1} k \\kappa_{1} \\sin\\left(a \\kappa_{1}\\right)^{2}}{{\\left(2 \\, \\sin\\left(a \\kappa_{1}\\right)^{2} - 1\\right)} \\mu_{1}} + \\frac{2 \\, \\mathit{Ax}_{1} \\kappa_{1}^{2} \\sin\\left(a \\kappa_{1}\\right)^{2}}{{\\left(2 \\, \\sin\\left(a \\kappa_{1}\\right)^{2} - 1\\right)} \\mu_{1}} + \\frac{2 i \\, \\mathit{Bz}_{1} k \\kappa_{1} \\cos\\left(a \\kappa_{1}\\right) \\sin\\left(a \\kappa_{1}\\right) \\sin\\left(\\kappa_{1} x\\right)}{{\\left(2 \\, \\sin\\left(a \\kappa_{1}\\right)^{2} - 1\\right)} \\mu_{1} \\cos\\left(\\kappa_{1} x\\right)} + \\frac{2 \\, \\mathit{Bx}_{1} \\kappa_{1}^{2} \\sin\\left(a \\kappa_{1}\\right)^{2} \\sin\\left(\\kappa_{1} x\\right)}{{\\left(2 \\, \\sin\\left(a \\kappa_{1}\\right)^{2} - 1\\right)} \\mu_{1} \\cos\\left(\\kappa_{1} x\\right)} + \\frac{i \\, \\mathit{Bz}_{1} k \\kappa_{1}}{{\\left(2 \\, \\sin\\left(a \\kappa_{1}\\right)^{2} - 1\\right)} \\mu_{1}} - \\frac{\\mathit{Ax}_{1} \\kappa_{1}^{2}}{{\\left(2 \\, \\sin\\left(a \\kappa_{1}\\right)^{2} - 1\\right)} \\mu_{1}} - \\frac{\\mathit{Bx}_{1} \\kappa_{1}^{2} \\sin\\left(\\kappa_{1} x\\right)}{{\\left(2 \\, \\sin\\left(a \\kappa_{1}\\right)^{2} - 1\\right)} \\mu_{1} \\cos\\left(\\kappa_{1} x\\right)} = 0$$"
      ],
      "text/plain": [
       "<IPython.core.display.Math object>"
      ]
     },
     "metadata": {},
     "output_type": "display_data"
    },
    {
     "name": "stdout",
     "output_type": "stream",
     "text": [
      "tg_kappa_x_coeff =\n"
     ]
    },
    {
     "data": {
      "text/latex": [
       "$$\\frac{2 i \\, \\mathit{Bz}_{1} k \\kappa_{1} \\cos\\left(a \\kappa_{1}\\right) \\sin\\left(a \\kappa_{1}\\right)}{{\\left(2 \\, \\sin\\left(a \\kappa_{1}\\right)^{2} - 1\\right)} \\mu_{1}} + \\frac{2 \\, \\mathit{Bx}_{1} \\kappa_{1}^{2} \\sin\\left(a \\kappa_{1}\\right)^{2}}{{\\left(2 \\, \\sin\\left(a \\kappa_{1}\\right)^{2} - 1\\right)} \\mu_{1}} - \\frac{\\mathit{Bx}_{1} \\kappa_{1}^{2}}{{\\left(2 \\, \\sin\\left(a \\kappa_{1}\\right)^{2} - 1\\right)} \\mu_{1}}$$"
      ],
      "text/plain": [
       "<IPython.core.display.Math object>"
      ]
     },
     "metadata": {},
     "output_type": "display_data"
    },
    {
     "name": "stdout",
     "output_type": "stream",
     "text": [
      "var =\n"
     ]
    },
    {
     "data": {
      "text/latex": [
       "$$\\mathit{Ax}_{1}$$"
      ],
      "text/plain": [
       "<IPython.core.display.Math object>"
      ]
     },
     "metadata": {},
     "output_type": "display_data"
    },
    {
     "name": "stdout",
     "output_type": "stream",
     "text": [
      "sol_tg_kappa_x_coeff=\n"
     ]
    },
    {
     "data": {
      "text/latex": [
       "$$\\left[\\right]$$"
      ],
      "text/plain": [
       "<IPython.core.display.Math object>"
      ]
     },
     "metadata": {},
     "output_type": "display_data"
    },
    {
     "name": "stdout",
     "output_type": "stream",
     "text": [
      "var =\n"
     ]
    },
    {
     "data": {
      "text/latex": [
       "$$\\mathit{Bx}_{1}$$"
      ],
      "text/plain": [
       "<IPython.core.display.Math object>"
      ]
     },
     "metadata": {},
     "output_type": "display_data"
    },
    {
     "name": "stdout",
     "output_type": "stream",
     "text": [
      "sol_tg_kappa_x_coeff=\n"
     ]
    },
    {
     "data": {
      "text/latex": [
       "$$\\left[\\mathit{Bx}_{1} = -\\frac{2 i \\, \\mathit{Bz}_{1} k \\cos\\left(a \\kappa_{1}\\right) \\sin\\left(a \\kappa_{1}\\right)}{2 \\, \\kappa_{1} \\sin\\left(a \\kappa_{1}\\right)^{2} - \\kappa_{1}}\\right]$$"
      ],
      "text/plain": [
       "<IPython.core.display.Math object>"
      ]
     },
     "metadata": {},
     "output_type": "display_data"
    },
    {
     "name": "stdout",
     "output_type": "stream",
     "text": [
      "eq4 =\n"
     ]
    },
    {
     "data": {
      "text/latex": [
       "$$\\frac{{\\left(i \\, \\mathit{Bz}_{1} k \\kappa_{1} - \\mathit{Ax}_{1} \\kappa_{1}^{2} - 2 \\, {\\left(i \\, \\mathit{Bz}_{1} k \\kappa_{1} - \\mathit{Ax}_{1} \\kappa_{1}^{2}\\right)} \\sin\\left(a \\kappa_{1}\\right)^{2}\\right)} \\cos\\left(\\kappa_{1} x\\right) + {\\left(-\\frac{4 i \\, \\mathit{Bz}_{1} k \\kappa_{1}^{2} \\cos\\left(a \\kappa_{1}\\right) \\sin\\left(a \\kappa_{1}\\right)^{3}}{2 \\, \\kappa_{1} \\sin\\left(a \\kappa_{1}\\right)^{2} - \\kappa_{1}} + 2 i \\, \\mathit{Bz}_{1} k \\kappa_{1} \\cos\\left(a \\kappa_{1}\\right) \\sin\\left(a \\kappa_{1}\\right) + \\frac{2 i \\, \\mathit{Bz}_{1} k \\kappa_{1}^{2} \\cos\\left(a \\kappa_{1}\\right) \\sin\\left(a \\kappa_{1}\\right)}{2 \\, \\kappa_{1} \\sin\\left(a \\kappa_{1}\\right)^{2} - \\kappa_{1}}\\right)} \\sin\\left(\\kappa_{1} x\\right)}{{\\left(2 \\, \\sin\\left(a \\kappa_{1}\\right)^{2} - 1\\right)} \\mu_{1}} = 0$$"
      ],
      "text/plain": [
       "<IPython.core.display.Math object>"
      ]
     },
     "metadata": {},
     "output_type": "display_data"
    },
    {
     "name": "stdout",
     "output_type": "stream",
     "text": [
      "eq4 =\n"
     ]
    },
    {
     "data": {
      "text/latex": [
       "$$\\frac{{\\left(-i \\, \\mathit{Bz}_{1} k \\kappa_{1} + \\mathit{Ax}_{1} \\kappa_{1}^{2}\\right)} \\cos\\left(\\kappa_{1} x\\right)}{\\mu_{1}} = 0$$"
      ],
      "text/plain": [
       "<IPython.core.display.Math object>"
      ]
     },
     "metadata": {},
     "output_type": "display_data"
    },
    {
     "name": "stdout",
     "output_type": "stream",
     "text": [
      "var =\n"
     ]
    },
    {
     "data": {
      "text/latex": [
       "$$\\mathit{Ax}_{1}$$"
      ],
      "text/plain": [
       "<IPython.core.display.Math object>"
      ]
     },
     "metadata": {},
     "output_type": "display_data"
    },
    {
     "name": "stdout",
     "output_type": "stream",
     "text": [
      "\n",
      "sol=\n"
     ]
    },
    {
     "data": {
      "text/latex": [
       "$$\\left[\\mathit{Ax}_{1} = \\frac{i \\, \\mathit{Bz}_{1} k}{\\kappa_{1}}\\right]$$"
      ],
      "text/plain": [
       "<IPython.core.display.Math object>"
      ]
     },
     "metadata": {},
     "output_type": "display_data"
    },
    {
     "name": "stdout",
     "output_type": "stream",
     "text": [
      "\n",
      "var =\n"
     ]
    },
    {
     "data": {
      "text/latex": [
       "$$\\mathit{Bx}_{1}$$"
      ],
      "text/plain": [
       "<IPython.core.display.Math object>"
      ]
     },
     "metadata": {},
     "output_type": "display_data"
    },
    {
     "name": "stdout",
     "output_type": "stream",
     "text": [
      "\n",
      "sol=\n"
     ]
    },
    {
     "data": {
      "text/latex": [
       "$$\\left[\\right]$$"
      ],
      "text/plain": [
       "<IPython.core.display.Math object>"
      ]
     },
     "metadata": {},
     "output_type": "display_data"
    },
    {
     "name": "stdout",
     "output_type": "stream",
     "text": [
      "\n",
      "var =\n"
     ]
    },
    {
     "data": {
      "text/latex": [
       "$$\\mathit{Bz}_{1}$$"
      ],
      "text/plain": [
       "<IPython.core.display.Math object>"
      ]
     },
     "metadata": {},
     "output_type": "display_data"
    },
    {
     "name": "stdout",
     "output_type": "stream",
     "text": [
      "\n",
      "sol=\n"
     ]
    },
    {
     "data": {
      "text/latex": [
       "$$\\left[\\mathit{Bz}_{1} = -\\frac{i \\, \\mathit{Ax}_{1} \\kappa_{1}}{k}\\right]$$"
      ],
      "text/plain": [
       "<IPython.core.display.Math object>"
      ]
     },
     "metadata": {},
     "output_type": "display_data"
    },
    {
     "name": "stdout",
     "output_type": "stream",
     "text": [
      "\n",
      "var =\n"
     ]
    },
    {
     "data": {
      "text/latex": [
       "$$\\mathit{Bz}_{1}$$"
      ],
      "text/plain": [
       "<IPython.core.display.Math object>"
      ]
     },
     "metadata": {},
     "output_type": "display_data"
    },
    {
     "name": "stdout",
     "output_type": "stream",
     "text": [
      "sol_tg_kappa_x_coeff=\n"
     ]
    },
    {
     "data": {
      "text/latex": [
       "$$\\left[\\mathit{Bz}_{1} = \\frac{2 i \\, \\mathit{Bx}_{1} \\kappa_{1} \\sin\\left(a \\kappa_{1}\\right)^{2} - i \\, \\mathit{Bx}_{1} \\kappa_{1}}{2 \\, k \\cos\\left(a \\kappa_{1}\\right) \\sin\\left(a \\kappa_{1}\\right)}\\right]$$"
      ],
      "text/plain": [
       "<IPython.core.display.Math object>"
      ]
     },
     "metadata": {},
     "output_type": "display_data"
    },
    {
     "name": "stdout",
     "output_type": "stream",
     "text": [
      "eq4 =\n"
     ]
    },
    {
     "data": {
      "text/latex": [
       "$$-\\frac{{\\left(2 \\, \\mathit{Ax}_{1} \\kappa_{1}^{2} - 2 \\, {\\left(2 \\, \\mathit{Ax}_{1} \\kappa_{1}^{2} - \\frac{i \\, {\\left(2 i \\, \\mathit{Bx}_{1} \\kappa_{1} \\sin\\left(a \\kappa_{1}\\right)^{2} - i \\, \\mathit{Bx}_{1} \\kappa_{1}\\right)} \\kappa_{1}}{\\cos\\left(a \\kappa_{1}\\right) \\sin\\left(a \\kappa_{1}\\right)}\\right)} \\sin\\left(a \\kappa_{1}\\right)^{2} - \\frac{i \\, {\\left(2 i \\, \\mathit{Bx}_{1} \\kappa_{1} \\sin\\left(a \\kappa_{1}\\right)^{2} - i \\, \\mathit{Bx}_{1} \\kappa_{1}\\right)} \\kappa_{1}}{\\cos\\left(a \\kappa_{1}\\right) \\sin\\left(a \\kappa_{1}\\right)}\\right)} \\cos\\left(\\kappa_{1} x\\right) - 2 \\, {\\left(2 \\, \\mathit{Bx}_{1} \\kappa_{1}^{2} \\sin\\left(a \\kappa_{1}\\right)^{2} - \\mathit{Bx}_{1} \\kappa_{1}^{2} + i \\, {\\left(2 i \\, \\mathit{Bx}_{1} \\kappa_{1} \\sin\\left(a \\kappa_{1}\\right)^{2} - i \\, \\mathit{Bx}_{1} \\kappa_{1}\\right)} \\kappa_{1}\\right)} \\sin\\left(\\kappa_{1} x\\right)}{2 \\, {\\left(2 \\, \\sin\\left(a \\kappa_{1}\\right)^{2} - 1\\right)} \\mu_{1}} = 0$$"
      ],
      "text/plain": [
       "<IPython.core.display.Math object>"
      ]
     },
     "metadata": {},
     "output_type": "display_data"
    },
    {
     "name": "stdout",
     "output_type": "stream",
     "text": [
      "eq4 =\n"
     ]
    },
    {
     "data": {
      "text/latex": [
       "$$\\frac{{\\left(2 \\, \\mathit{Ax}_{1} \\kappa_{1}^{2} \\cos\\left(a \\kappa_{1}\\right) \\sin\\left(a \\kappa_{1}\\right) + 2 \\, \\mathit{Bx}_{1} \\kappa_{1}^{2} \\sin\\left(a \\kappa_{1}\\right)^{2} - \\mathit{Bx}_{1} \\kappa_{1}^{2}\\right)} \\cos\\left(\\kappa_{1} x\\right)}{2 \\, \\mu_{1} \\cos\\left(a \\kappa_{1}\\right) \\sin\\left(a \\kappa_{1}\\right)} = 0$$"
      ],
      "text/plain": [
       "<IPython.core.display.Math object>"
      ]
     },
     "metadata": {},
     "output_type": "display_data"
    },
    {
     "name": "stdout",
     "output_type": "stream",
     "text": [
      "var =\n"
     ]
    },
    {
     "data": {
      "text/latex": [
       "$$\\mathit{Ax}_{1}$$"
      ],
      "text/plain": [
       "<IPython.core.display.Math object>"
      ]
     },
     "metadata": {},
     "output_type": "display_data"
    },
    {
     "name": "stdout",
     "output_type": "stream",
     "text": [
      "\n",
      "sol=\n"
     ]
    },
    {
     "data": {
      "text/latex": [
       "$$\\left[\\mathit{Ax}_{1} = -\\frac{2 \\, \\mathit{Bx}_{1} \\sin\\left(a \\kappa_{1}\\right)^{2} - \\mathit{Bx}_{1}}{2 \\, \\cos\\left(a \\kappa_{1}\\right) \\sin\\left(a \\kappa_{1}\\right)}\\right]$$"
      ],
      "text/plain": [
       "<IPython.core.display.Math object>"
      ]
     },
     "metadata": {},
     "output_type": "display_data"
    },
    {
     "name": "stdout",
     "output_type": "stream",
     "text": [
      "\n",
      "var =\n"
     ]
    },
    {
     "data": {
      "text/latex": [
       "$$\\mathit{Bx}_{1}$$"
      ],
      "text/plain": [
       "<IPython.core.display.Math object>"
      ]
     },
     "metadata": {},
     "output_type": "display_data"
    },
    {
     "name": "stdout",
     "output_type": "stream",
     "text": [
      "\n",
      "sol=\n"
     ]
    },
    {
     "data": {
      "text/latex": [
       "$$\\left[\\mathit{Bx}_{1} = -\\frac{2 \\, \\mathit{Ax}_{1} \\cos\\left(a \\kappa_{1}\\right) \\sin\\left(a \\kappa_{1}\\right)}{2 \\, \\sin\\left(a \\kappa_{1}\\right)^{2} - 1}\\right]$$"
      ],
      "text/plain": [
       "<IPython.core.display.Math object>"
      ]
     },
     "metadata": {},
     "output_type": "display_data"
    },
    {
     "name": "stdout",
     "output_type": "stream",
     "text": [
      "\n",
      "var =\n"
     ]
    },
    {
     "data": {
      "text/latex": [
       "$$\\mathit{Bz}_{1}$$"
      ],
      "text/plain": [
       "<IPython.core.display.Math object>"
      ]
     },
     "metadata": {},
     "output_type": "display_data"
    },
    {
     "name": "stdout",
     "output_type": "stream",
     "text": [
      "\n",
      "sol=\n"
     ]
    },
    {
     "data": {
      "text/latex": [
       "$$\\left[\\right]$$"
      ],
      "text/plain": [
       "<IPython.core.display.Math object>"
      ]
     },
     "metadata": {},
     "output_type": "display_data"
    },
    {
     "name": "stdout",
     "output_type": "stream",
     "text": [
      "\n",
      "row_M =\n"
     ]
    },
    {
     "data": {
      "text/latex": [
       "$$\\left(-\\frac{{\\left(-2 i \\, k \\kappa_{1} \\sin\\left(a \\kappa_{1}\\right)^{2} + i \\, k \\kappa_{1}\\right)} \\sin\\left(\\kappa_{1} x\\right)}{{\\left(2 \\, \\sin\\left(a \\kappa_{1}\\right)^{2} - 1\\right)} \\mu_{1}},\\,-\\frac{{\\left(2 i \\, k \\kappa_{1} \\sin\\left(a \\kappa_{1}\\right)^{2} - i \\, k \\kappa_{1}\\right)} \\cos\\left(\\kappa_{1} x\\right)}{{\\left(2 \\, \\sin\\left(a \\kappa_{1}\\right)^{2} - 1\\right)} \\mu_{1}},\\,-\\frac{2 \\, \\kappa_{1}^{2} \\cos\\left(a \\kappa_{1}\\right) \\cos\\left(\\kappa_{1} x\\right) \\sin\\left(a \\kappa_{1}\\right) + {\\left(2 \\, \\kappa_{1}^{2} \\sin\\left(a \\kappa_{1}\\right)^{2} - \\kappa_{1}^{2}\\right)} \\sin\\left(\\kappa_{1} x\\right)}{{\\left(2 \\, \\sin\\left(a \\kappa_{1}\\right)^{2} - 1\\right)} \\mu_{1}} + \\frac{2 \\, {\\left(k^{2} + \\kappa_{1}^{2}\\right)} \\cos\\left(a \\kappa_{1}\\right) \\cos\\left(\\kappa_{1} x\\right) \\sin\\left(a \\kappa_{1}\\right) + {\\left(2 \\, {\\left(k^{2} + \\kappa_{1}^{2}\\right)} \\sin\\left(a \\kappa_{1}\\right)^{2} - k^{2} - \\kappa_{1}^{2}\\right)} \\sin\\left(\\kappa_{1} x\\right)}{{\\left(2 \\, \\sin\\left(a \\kappa_{1}\\right)^{2} - 1\\right)} \\mu_{1}}\\right)$$"
      ],
      "text/plain": [
       "<IPython.core.display.Math object>"
      ]
     },
     "metadata": {},
     "output_type": "display_data"
    },
    {
     "name": "stdout",
     "output_type": "stream",
     "text": [
      "eq =\n"
     ]
    },
    {
     "data": {
      "text/latex": [
       "$$\\frac{{\\left(2 \\, \\mathit{Bz}_{1} k^{2} \\cos\\left(a \\kappa_{1}\\right) \\sin\\left(a \\kappa_{1}\\right) - 2 i \\, \\mathit{Bx}_{1} k \\kappa_{1} \\sin\\left(a \\kappa_{1}\\right)^{2} + i \\, \\mathit{Bx}_{1} k \\kappa_{1}\\right)} \\cos\\left(\\kappa_{1} x\\right) - {\\left(\\mathit{Bz}_{1} k^{2} + i \\, \\mathit{Ax}_{1} k \\kappa_{1} - {\\left(2 \\, \\mathit{Bz}_{1} k^{2} + 2 i \\, \\mathit{Ax}_{1} k \\kappa_{1}\\right)} \\sin\\left(a \\kappa_{1}\\right)^{2}\\right)} \\sin\\left(\\kappa_{1} x\\right)}{{\\left(2 \\, \\sin\\left(a \\kappa_{1}\\right)^{2} - 1\\right)} \\mu_{1}} = 0$$"
      ],
      "text/plain": [
       "<IPython.core.display.Math object>"
      ]
     },
     "metadata": {},
     "output_type": "display_data"
    },
    {
     "name": "stdout",
     "output_type": "stream",
     "text": [
      "\n",
      "eq2 =\n"
     ]
    },
    {
     "data": {
      "text/latex": [
       "$$\\frac{2 \\, \\mathit{Bz}_{1} k^{2} \\cos\\left(a \\kappa_{1}\\right) \\sin\\left(a \\kappa_{1}\\right)}{{\\left(2 \\, \\sin\\left(a \\kappa_{1}\\right)^{2} - 1\\right)} \\mu_{1}} - \\frac{2 i \\, \\mathit{Bx}_{1} k \\kappa_{1} \\sin\\left(a \\kappa_{1}\\right)^{2}}{{\\left(2 \\, \\sin\\left(a \\kappa_{1}\\right)^{2} - 1\\right)} \\mu_{1}} + \\frac{2 \\, \\mathit{Bz}_{1} k^{2} \\sin\\left(a \\kappa_{1}\\right)^{2} \\sin\\left(\\kappa_{1} x\\right)}{{\\left(2 \\, \\sin\\left(a \\kappa_{1}\\right)^{2} - 1\\right)} \\mu_{1} \\cos\\left(\\kappa_{1} x\\right)} + \\frac{2 i \\, \\mathit{Ax}_{1} k \\kappa_{1} \\sin\\left(a \\kappa_{1}\\right)^{2} \\sin\\left(\\kappa_{1} x\\right)}{{\\left(2 \\, \\sin\\left(a \\kappa_{1}\\right)^{2} - 1\\right)} \\mu_{1} \\cos\\left(\\kappa_{1} x\\right)} + \\frac{i \\, \\mathit{Bx}_{1} k \\kappa_{1}}{{\\left(2 \\, \\sin\\left(a \\kappa_{1}\\right)^{2} - 1\\right)} \\mu_{1}} - \\frac{\\mathit{Bz}_{1} k^{2} \\sin\\left(\\kappa_{1} x\\right)}{{\\left(2 \\, \\sin\\left(a \\kappa_{1}\\right)^{2} - 1\\right)} \\mu_{1} \\cos\\left(\\kappa_{1} x\\right)} - \\frac{i \\, \\mathit{Ax}_{1} k \\kappa_{1} \\sin\\left(\\kappa_{1} x\\right)}{{\\left(2 \\, \\sin\\left(a \\kappa_{1}\\right)^{2} - 1\\right)} \\mu_{1} \\cos\\left(\\kappa_{1} x\\right)} = 0$$"
      ],
      "text/plain": [
       "<IPython.core.display.Math object>"
      ]
     },
     "metadata": {},
     "output_type": "display_data"
    },
    {
     "name": "stdout",
     "output_type": "stream",
     "text": [
      "tg_kappa_x_coeff =\n"
     ]
    },
    {
     "data": {
      "text/latex": [
       "$$\\frac{2 \\, \\mathit{Bz}_{1} k^{2} \\sin\\left(a \\kappa_{1}\\right)^{2}}{{\\left(2 \\, \\sin\\left(a \\kappa_{1}\\right)^{2} - 1\\right)} \\mu_{1}} + \\frac{2 i \\, \\mathit{Ax}_{1} k \\kappa_{1} \\sin\\left(a \\kappa_{1}\\right)^{2}}{{\\left(2 \\, \\sin\\left(a \\kappa_{1}\\right)^{2} - 1\\right)} \\mu_{1}} - \\frac{\\mathit{Bz}_{1} k^{2}}{{\\left(2 \\, \\sin\\left(a \\kappa_{1}\\right)^{2} - 1\\right)} \\mu_{1}} - \\frac{i \\, \\mathit{Ax}_{1} k \\kappa_{1}}{{\\left(2 \\, \\sin\\left(a \\kappa_{1}\\right)^{2} - 1\\right)} \\mu_{1}}$$"
      ],
      "text/plain": [
       "<IPython.core.display.Math object>"
      ]
     },
     "metadata": {},
     "output_type": "display_data"
    },
    {
     "name": "stdout",
     "output_type": "stream",
     "text": [
      "var =\n"
     ]
    },
    {
     "data": {
      "text/latex": [
       "$$\\mathit{Ax}_{1}$$"
      ],
      "text/plain": [
       "<IPython.core.display.Math object>"
      ]
     },
     "metadata": {},
     "output_type": "display_data"
    },
    {
     "name": "stdout",
     "output_type": "stream",
     "text": [
      "sol_tg_kappa_x_coeff=\n"
     ]
    },
    {
     "data": {
      "text/latex": [
       "$$\\left[\\mathit{Ax}_{1} = \\frac{i \\, \\mathit{Bz}_{1} k}{\\kappa_{1}}\\right]$$"
      ],
      "text/plain": [
       "<IPython.core.display.Math object>"
      ]
     },
     "metadata": {},
     "output_type": "display_data"
    },
    {
     "name": "stdout",
     "output_type": "stream",
     "text": [
      "eq4 =\n"
     ]
    },
    {
     "data": {
      "text/latex": [
       "$$\\frac{{\\left(2 \\, \\mathit{Bz}_{1} k^{2} \\cos\\left(a \\kappa_{1}\\right) \\sin\\left(a \\kappa_{1}\\right) - 2 i \\, \\mathit{Bx}_{1} k \\kappa_{1} \\sin\\left(a \\kappa_{1}\\right)^{2} + i \\, \\mathit{Bx}_{1} k \\kappa_{1}\\right)} \\cos\\left(\\kappa_{1} x\\right)}{{\\left(2 \\, \\sin\\left(a \\kappa_{1}\\right)^{2} - 1\\right)} \\mu_{1}} = 0$$"
      ],
      "text/plain": [
       "<IPython.core.display.Math object>"
      ]
     },
     "metadata": {},
     "output_type": "display_data"
    },
    {
     "name": "stdout",
     "output_type": "stream",
     "text": [
      "eq4 =\n"
     ]
    },
    {
     "data": {
      "text/latex": [
       "$$-\\frac{{\\left(2 i \\, \\mathit{Bx}_{1} k \\kappa_{1} \\cos\\left(a \\kappa_{1}\\right)^{2} + 2 \\, \\mathit{Bz}_{1} k^{2} \\cos\\left(a \\kappa_{1}\\right) \\sin\\left(a \\kappa_{1}\\right) - i \\, \\mathit{Bx}_{1} k \\kappa_{1}\\right)} \\cos\\left(\\kappa_{1} x\\right)}{{\\left(2 \\, \\cos\\left(a \\kappa_{1}\\right)^{2} - 1\\right)} \\mu_{1}} = 0$$"
      ],
      "text/plain": [
       "<IPython.core.display.Math object>"
      ]
     },
     "metadata": {},
     "output_type": "display_data"
    },
    {
     "name": "stdout",
     "output_type": "stream",
     "text": [
      "var =\n"
     ]
    },
    {
     "data": {
      "text/latex": [
       "$$\\mathit{Ax}_{1}$$"
      ],
      "text/plain": [
       "<IPython.core.display.Math object>"
      ]
     },
     "metadata": {},
     "output_type": "display_data"
    },
    {
     "name": "stdout",
     "output_type": "stream",
     "text": [
      "\n",
      "sol=\n"
     ]
    },
    {
     "data": {
      "text/latex": [
       "$$\\left[\\right]$$"
      ],
      "text/plain": [
       "<IPython.core.display.Math object>"
      ]
     },
     "metadata": {},
     "output_type": "display_data"
    },
    {
     "name": "stdout",
     "output_type": "stream",
     "text": [
      "\n",
      "var =\n"
     ]
    },
    {
     "data": {
      "text/latex": [
       "$$\\mathit{Bx}_{1}$$"
      ],
      "text/plain": [
       "<IPython.core.display.Math object>"
      ]
     },
     "metadata": {},
     "output_type": "display_data"
    },
    {
     "name": "stdout",
     "output_type": "stream",
     "text": [
      "\n",
      "sol=\n"
     ]
    },
    {
     "data": {
      "text/latex": [
       "$$\\left[\\mathit{Bx}_{1} = -\\frac{2 \\, \\mathit{Bz}_{1} k \\cos\\left(a \\kappa_{1}\\right) \\sin\\left(a \\kappa_{1}\\right)}{2 i \\, \\kappa_{1} \\cos\\left(a \\kappa_{1}\\right)^{2} - i \\, \\kappa_{1}}\\right]$$"
      ],
      "text/plain": [
       "<IPython.core.display.Math object>"
      ]
     },
     "metadata": {},
     "output_type": "display_data"
    },
    {
     "name": "stdout",
     "output_type": "stream",
     "text": [
      "\n",
      "var =\n"
     ]
    },
    {
     "data": {
      "text/latex": [
       "$$\\mathit{Bz}_{1}$$"
      ],
      "text/plain": [
       "<IPython.core.display.Math object>"
      ]
     },
     "metadata": {},
     "output_type": "display_data"
    },
    {
     "name": "stdout",
     "output_type": "stream",
     "text": [
      "\n",
      "sol=\n"
     ]
    },
    {
     "data": {
      "text/latex": [
       "$$\\left[\\mathit{Bz}_{1} = \\frac{-2 i \\, \\mathit{Bx}_{1} \\kappa_{1} \\cos\\left(a \\kappa_{1}\\right)^{2} + i \\, \\mathit{Bx}_{1} \\kappa_{1}}{2 \\, k \\cos\\left(a \\kappa_{1}\\right) \\sin\\left(a \\kappa_{1}\\right)}\\right]$$"
      ],
      "text/plain": [
       "<IPython.core.display.Math object>"
      ]
     },
     "metadata": {},
     "output_type": "display_data"
    },
    {
     "name": "stdout",
     "output_type": "stream",
     "text": [
      "\n",
      "var =\n"
     ]
    },
    {
     "data": {
      "text/latex": [
       "$$\\mathit{Bx}_{1}$$"
      ],
      "text/plain": [
       "<IPython.core.display.Math object>"
      ]
     },
     "metadata": {},
     "output_type": "display_data"
    },
    {
     "name": "stdout",
     "output_type": "stream",
     "text": [
      "sol_tg_kappa_x_coeff=\n"
     ]
    },
    {
     "data": {
      "text/latex": [
       "$$\\left[\\right]$$"
      ],
      "text/plain": [
       "<IPython.core.display.Math object>"
      ]
     },
     "metadata": {},
     "output_type": "display_data"
    },
    {
     "name": "stdout",
     "output_type": "stream",
     "text": [
      "var =\n"
     ]
    },
    {
     "data": {
      "text/latex": [
       "$$\\mathit{Bz}_{1}$$"
      ],
      "text/plain": [
       "<IPython.core.display.Math object>"
      ]
     },
     "metadata": {},
     "output_type": "display_data"
    },
    {
     "name": "stdout",
     "output_type": "stream",
     "text": [
      "sol_tg_kappa_x_coeff=\n"
     ]
    },
    {
     "data": {
      "text/latex": [
       "$$\\left[\\mathit{Bz}_{1} = -\\frac{i \\, \\mathit{Ax}_{1} \\kappa_{1}}{k}\\right]$$"
      ],
      "text/plain": [
       "<IPython.core.display.Math object>"
      ]
     },
     "metadata": {},
     "output_type": "display_data"
    },
    {
     "name": "stdout",
     "output_type": "stream",
     "text": [
      "eq4 =\n"
     ]
    },
    {
     "data": {
      "text/latex": [
       "$$\\frac{{\\left(-2 i \\, \\mathit{Ax}_{1} k \\kappa_{1} \\cos\\left(a \\kappa_{1}\\right) \\sin\\left(a \\kappa_{1}\\right) - 2 i \\, \\mathit{Bx}_{1} k \\kappa_{1} \\sin\\left(a \\kappa_{1}\\right)^{2} + i \\, \\mathit{Bx}_{1} k \\kappa_{1}\\right)} \\cos\\left(\\kappa_{1} x\\right)}{{\\left(2 \\, \\sin\\left(a \\kappa_{1}\\right)^{2} - 1\\right)} \\mu_{1}} = 0$$"
      ],
      "text/plain": [
       "<IPython.core.display.Math object>"
      ]
     },
     "metadata": {},
     "output_type": "display_data"
    },
    {
     "name": "stdout",
     "output_type": "stream",
     "text": [
      "eq4 =\n"
     ]
    },
    {
     "data": {
      "text/latex": [
       "$$\\frac{{\\left(-2 i \\, \\mathit{Bx}_{1} k \\kappa_{1} \\cos\\left(a \\kappa_{1}\\right)^{2} + 2 i \\, \\mathit{Ax}_{1} k \\kappa_{1} \\cos\\left(a \\kappa_{1}\\right) \\sin\\left(a \\kappa_{1}\\right) + i \\, \\mathit{Bx}_{1} k \\kappa_{1}\\right)} \\cos\\left(\\kappa_{1} x\\right)}{{\\left(2 \\, \\cos\\left(a \\kappa_{1}\\right)^{2} - 1\\right)} \\mu_{1}} = 0$$"
      ],
      "text/plain": [
       "<IPython.core.display.Math object>"
      ]
     },
     "metadata": {},
     "output_type": "display_data"
    },
    {
     "name": "stdout",
     "output_type": "stream",
     "text": [
      "var =\n"
     ]
    },
    {
     "data": {
      "text/latex": [
       "$$\\mathit{Ax}_{1}$$"
      ],
      "text/plain": [
       "<IPython.core.display.Math object>"
      ]
     },
     "metadata": {},
     "output_type": "display_data"
    },
    {
     "name": "stdout",
     "output_type": "stream",
     "text": [
      "\n",
      "sol=\n"
     ]
    },
    {
     "data": {
      "text/latex": [
       "$$\\left[\\mathit{Ax}_{1} = \\frac{2 \\, \\mathit{Bx}_{1} \\cos\\left(a \\kappa_{1}\\right)^{2} - \\mathit{Bx}_{1}}{2 \\, \\cos\\left(a \\kappa_{1}\\right) \\sin\\left(a \\kappa_{1}\\right)}\\right]$$"
      ],
      "text/plain": [
       "<IPython.core.display.Math object>"
      ]
     },
     "metadata": {},
     "output_type": "display_data"
    },
    {
     "name": "stdout",
     "output_type": "stream",
     "text": [
      "\n",
      "var =\n"
     ]
    },
    {
     "data": {
      "text/latex": [
       "$$\\mathit{Bx}_{1}$$"
      ],
      "text/plain": [
       "<IPython.core.display.Math object>"
      ]
     },
     "metadata": {},
     "output_type": "display_data"
    },
    {
     "name": "stdout",
     "output_type": "stream",
     "text": [
      "\n",
      "sol=\n"
     ]
    },
    {
     "data": {
      "text/latex": [
       "$$\\left[\\mathit{Bx}_{1} = \\frac{2 \\, \\mathit{Ax}_{1} \\cos\\left(a \\kappa_{1}\\right) \\sin\\left(a \\kappa_{1}\\right)}{2 \\, \\cos\\left(a \\kappa_{1}\\right)^{2} - 1}\\right]$$"
      ],
      "text/plain": [
       "<IPython.core.display.Math object>"
      ]
     },
     "metadata": {},
     "output_type": "display_data"
    },
    {
     "name": "stdout",
     "output_type": "stream",
     "text": [
      "\n",
      "var =\n"
     ]
    },
    {
     "data": {
      "text/latex": [
       "$$\\mathit{Bz}_{1}$$"
      ],
      "text/plain": [
       "<IPython.core.display.Math object>"
      ]
     },
     "metadata": {},
     "output_type": "display_data"
    },
    {
     "name": "stdout",
     "output_type": "stream",
     "text": [
      "\n",
      "sol=\n"
     ]
    },
    {
     "data": {
      "text/latex": [
       "$$\\left[\\right]$$"
      ],
      "text/plain": [
       "<IPython.core.display.Math object>"
      ]
     },
     "metadata": {},
     "output_type": "display_data"
    },
    {
     "name": "stdout",
     "output_type": "stream",
     "text": [
      "\n"
     ]
    }
   ],
   "source": [
    "res_rot_H = []\n",
    "for i in range(n_layers):\n",
    "    eqs_rotH = [(eq_rot_H_x[i]*(-I)*omega/c)\n",
    "                     .subs(solve(eq_kappa[i], omega^2))\n",
    "                     .subs(boundary_subs_begin).subs(boundary_subs_end)\n",
    "                     .full_simplify(),\n",
    "                (eq_rot_H_z[i]*(-I)*omega/c)\n",
    "                     .subs(solve(eq_kappa[i], omega^2))\n",
    "                     .subs(boundary_subs_begin).subs(boundary_subs_end)\n",
    "                     .full_simplify(),\n",
    "               ]\n",
    "\n",
    "    print(\"eq_rot_H_x = \")\n",
    "    display(Math(latex(eqs_rotH[0])))\n",
    "    print(\"eq_rot_H_z = \")\n",
    "    display(Math(latex(eqs_rotH[1])))\n",
    "    print(\"\")\n",
    "    \n",
    "    vars_dielectric = [Ax[i], Az[i], Bx[i], Bz[i]]\n",
    "    \n",
    "    vars_dielectric = [var for var in vars_dielectric if var not in exclude_vars]\n",
    "    display(Math(latex(vars_dielectric)))\n",
    "    M_rotH = GenerateMatrix(eqs_rotH, vars_dielectric)\n",
    "    print (\"M_rotH =\")\n",
    "    display(Math(latex(M_rotH)))\n",
    "    print (\"M_rotH.nrows =\", M_rotH.nrows())\n",
    "    print (\"M_rotH.ncols =\", M_rotH.ncols())\n",
    "    print (\"M_rotH.rank =\", M_rotH.rank())\n",
    "    res_rot_H += rot_H_solve(M_rotH, vars_dielectric, eq_kappa[i], kappa[i])"
   ]
  },
  {
   "cell_type": "code",
   "execution_count": 20,
   "metadata": {},
   "outputs": [
    {
     "data": {
      "text/latex": [
       "$$\\left[\\mathit{Bx}_{0} = 0, \\mathit{Ax}_{0} = \\frac{i \\, \\mathit{Bz}_{0} k}{\\kappa_{0}}, \\mathit{Bz}_{0} = -\\frac{i \\, \\mathit{Ax}_{0} \\kappa_{0}}{k}, \\mathit{Ax}_{0} = \\frac{i \\, \\mathit{Bz}_{0} k}{\\kappa_{0}}, \\mathit{Bx}_{0} = 0, \\mathit{Bz}_{0} = -\\frac{i \\, \\mathit{Ax}_{0} \\kappa_{0}}{k}, \\mathit{Bx}_{0} = 0, \\mathit{Bx}_{1} = -\\frac{2 i \\, \\mathit{Bz}_{1} k \\cos\\left(a \\kappa_{1}\\right) \\sin\\left(a \\kappa_{1}\\right)}{2 \\, \\kappa_{1} \\sin\\left(a \\kappa_{1}\\right)^{2} - \\kappa_{1}}, \\mathit{Ax}_{1} = \\frac{i \\, \\mathit{Bz}_{1} k}{\\kappa_{1}}, \\mathit{Bz}_{1} = -\\frac{i \\, \\mathit{Ax}_{1} \\kappa_{1}}{k}, \\mathit{Bz}_{1} = \\frac{2 i \\, \\mathit{Bx}_{1} \\kappa_{1} \\sin\\left(a \\kappa_{1}\\right)^{2} - i \\, \\mathit{Bx}_{1} \\kappa_{1}}{2 \\, k \\cos\\left(a \\kappa_{1}\\right) \\sin\\left(a \\kappa_{1}\\right)}, \\mathit{Ax}_{1} = -\\frac{2 \\, \\mathit{Bx}_{1} \\sin\\left(a \\kappa_{1}\\right)^{2} - \\mathit{Bx}_{1}}{2 \\, \\cos\\left(a \\kappa_{1}\\right) \\sin\\left(a \\kappa_{1}\\right)}, \\mathit{Bx}_{1} = -\\frac{2 \\, \\mathit{Ax}_{1} \\cos\\left(a \\kappa_{1}\\right) \\sin\\left(a \\kappa_{1}\\right)}{2 \\, \\sin\\left(a \\kappa_{1}\\right)^{2} - 1}, \\mathit{Ax}_{1} = \\frac{i \\, \\mathit{Bz}_{1} k}{\\kappa_{1}}, \\mathit{Bx}_{1} = -\\frac{2 \\, \\mathit{Bz}_{1} k \\cos\\left(a \\kappa_{1}\\right) \\sin\\left(a \\kappa_{1}\\right)}{2 i \\, \\kappa_{1} \\cos\\left(a \\kappa_{1}\\right)^{2} - i \\, \\kappa_{1}}, \\mathit{Bz}_{1} = \\frac{-2 i \\, \\mathit{Bx}_{1} \\kappa_{1} \\cos\\left(a \\kappa_{1}\\right)^{2} + i \\, \\mathit{Bx}_{1} \\kappa_{1}}{2 \\, k \\cos\\left(a \\kappa_{1}\\right) \\sin\\left(a \\kappa_{1}\\right)}, \\mathit{Bz}_{1} = -\\frac{i \\, \\mathit{Ax}_{1} \\kappa_{1}}{k}, \\mathit{Ax}_{1} = \\frac{2 \\, \\mathit{Bx}_{1} \\cos\\left(a \\kappa_{1}\\right)^{2} - \\mathit{Bx}_{1}}{2 \\, \\cos\\left(a \\kappa_{1}\\right) \\sin\\left(a \\kappa_{1}\\right)}, \\mathit{Bx}_{1} = \\frac{2 \\, \\mathit{Ax}_{1} \\cos\\left(a \\kappa_{1}\\right) \\sin\\left(a \\kappa_{1}\\right)}{2 \\, \\cos\\left(a \\kappa_{1}\\right)^{2} - 1}\\right]$$"
      ],
      "text/plain": [
       "<IPython.core.display.Math object>"
      ]
     },
     "metadata": {},
     "output_type": "display_data"
    }
   ],
   "source": [
    "display(Math(latex(res_rot_H)))"
   ]
  },
  {
   "cell_type": "code",
   "execution_count": 21,
   "metadata": {},
   "outputs": [
    {
     "data": {
      "text/plain": [
       "[Ax_0, Ax_1, Az_0, Az_1, Bx_0, Bx_1, Bz_0, Bz_1]"
      ]
     },
     "execution_count": 21,
     "metadata": {},
     "output_type": "execute_result"
    }
   ],
   "source": [
    "vars = Ax + Az + Bx + Bz\n",
    "vars"
   ]
  },
  {
   "cell_type": "code",
   "execution_count": 22,
   "metadata": {},
   "outputs": [
    {
     "data": {
      "text/latex": [
       "$$\\left(\\begin{array}{rrrrrrrr}\n",
       "0 & 0 & 0 & 0 & 1 & 0 & 0 & 0 \\\\\n",
       "1 & 0 & 0 & 0 & 0 & 0 & -\\frac{i \\, k}{\\kappa_{0}} & 0 \\\\\n",
       "\\frac{i \\, \\kappa_{0}}{k} & 0 & 0 & 0 & 0 & 0 & 1 & 0 \\\\\n",
       "1 & 0 & 0 & 0 & 0 & 0 & -\\frac{i \\, k}{\\kappa_{0}} & 0 \\\\\n",
       "0 & 0 & 0 & 0 & 1 & 0 & 0 & 0 \\\\\n",
       "\\frac{i \\, \\kappa_{0}}{k} & 0 & 0 & 0 & 0 & 0 & 1 & 0 \\\\\n",
       "0 & 0 & 0 & 0 & 1 & 0 & 0 & 0 \\\\\n",
       "0 & 0 & 0 & 0 & 0 & 1 & 0 & \\frac{2 i \\, k \\cos\\left(a \\kappa_{1}\\right) \\sin\\left(a \\kappa_{1}\\right)}{2 \\, \\kappa_{1} \\sin\\left(a \\kappa_{1}\\right)^{2} - \\kappa_{1}} \\\\\n",
       "0 & 1 & 0 & 0 & 0 & 0 & 0 & -\\frac{i \\, k}{\\kappa_{1}} \\\\\n",
       "0 & \\frac{i \\, \\kappa_{1}}{k} & 0 & 0 & 0 & 0 & 0 & 1 \\\\\n",
       "0 & 0 & 0 & 0 & 0 & -\\frac{2 i \\, \\kappa_{1} \\sin\\left(a \\kappa_{1}\\right)^{2} - i \\, \\kappa_{1}}{2 \\, k \\cos\\left(a \\kappa_{1}\\right) \\sin\\left(a \\kappa_{1}\\right)} & 0 & 1 \\\\\n",
       "0 & 1 & 0 & 0 & 0 & \\frac{2 \\, \\sin\\left(a \\kappa_{1}\\right)^{2} - 1}{2 \\, \\cos\\left(a \\kappa_{1}\\right) \\sin\\left(a \\kappa_{1}\\right)} & 0 & 0 \\\\\n",
       "0 & \\frac{2 \\, \\cos\\left(a \\kappa_{1}\\right) \\sin\\left(a \\kappa_{1}\\right)}{2 \\, \\sin\\left(a \\kappa_{1}\\right)^{2} - 1} & 0 & 0 & 0 & 1 & 0 & 0 \\\\\n",
       "0 & 1 & 0 & 0 & 0 & 0 & 0 & -\\frac{i \\, k}{\\kappa_{1}} \\\\\n",
       "0 & 0 & 0 & 0 & 0 & 1 & 0 & \\frac{2 \\, k \\cos\\left(a \\kappa_{1}\\right) \\sin\\left(a \\kappa_{1}\\right)}{2 i \\, \\kappa_{1} \\cos\\left(a \\kappa_{1}\\right)^{2} - i \\, \\kappa_{1}} \\\\\n",
       "0 & 0 & 0 & 0 & 0 & -\\frac{-2 i \\, \\kappa_{1} \\cos\\left(a \\kappa_{1}\\right)^{2} + i \\, \\kappa_{1}}{2 \\, k \\cos\\left(a \\kappa_{1}\\right) \\sin\\left(a \\kappa_{1}\\right)} & 0 & 1 \\\\\n",
       "0 & \\frac{i \\, \\kappa_{1}}{k} & 0 & 0 & 0 & 0 & 0 & 1 \\\\\n",
       "0 & 1 & 0 & 0 & 0 & -\\frac{2 \\, \\cos\\left(a \\kappa_{1}\\right)^{2} - 1}{2 \\, \\cos\\left(a \\kappa_{1}\\right) \\sin\\left(a \\kappa_{1}\\right)} & 0 & 0 \\\\\n",
       "0 & -\\frac{2 \\, \\cos\\left(a \\kappa_{1}\\right) \\sin\\left(a \\kappa_{1}\\right)}{2 \\, \\cos\\left(a \\kappa_{1}\\right)^{2} - 1} & 0 & 0 & 0 & 1 & 0 & 0\n",
       "\\end{array}\\right)$$"
      ],
      "text/plain": [
       "<IPython.core.display.Math object>"
      ]
     },
     "metadata": {},
     "output_type": "display_data"
    }
   ],
   "source": [
    "M_res_rot_H = GenerateMatrix(res_rot_H, vars)\n",
    "display(Math(latex(M_res_rot_H)))"
   ]
  },
  {
   "cell_type": "code",
   "execution_count": 23,
   "metadata": {},
   "outputs": [
    {
     "name": "stdout",
     "output_type": "stream",
     "text": [
      "\n",
      "M.nrows() 19\n",
      "M.ncols() 8\n",
      "M.rank() 4\n",
      "M.pivot_rows() = (0, 1, 7, 8)\n",
      "row =\n"
     ]
    },
    {
     "data": {
      "text/latex": [
       "$$\\left(0,\\,0,\\,0,\\,0,\\,1,\\,0,\\,0,\\,0\\right)$$"
      ],
      "text/plain": [
       "<IPython.core.display.Math object>"
      ]
     },
     "metadata": {},
     "output_type": "display_data"
    },
    {
     "name": "stdout",
     "output_type": "stream",
     "text": [
      "row =\n"
     ]
    },
    {
     "data": {
      "text/latex": [
       "$$\\left(1,\\,0,\\,0,\\,0,\\,0,\\,0,\\,-\\frac{i \\, k}{\\kappa_{0}},\\,0\\right)$$"
      ],
      "text/plain": [
       "<IPython.core.display.Math object>"
      ]
     },
     "metadata": {},
     "output_type": "display_data"
    },
    {
     "name": "stdout",
     "output_type": "stream",
     "text": [
      "row =\n"
     ]
    },
    {
     "data": {
      "text/latex": [
       "$$\\left(\\frac{i \\, \\kappa_{0}}{k},\\,0,\\,0,\\,0,\\,0,\\,0,\\,1,\\,0\\right)$$"
      ],
      "text/plain": [
       "<IPython.core.display.Math object>"
      ]
     },
     "metadata": {},
     "output_type": "display_data"
    },
    {
     "name": "stdout",
     "output_type": "stream",
     "text": [
      "row =\n"
     ]
    },
    {
     "data": {
      "text/latex": [
       "$$\\left(1,\\,0,\\,0,\\,0,\\,0,\\,0,\\,-\\frac{i \\, k}{\\kappa_{0}},\\,0\\right)$$"
      ],
      "text/plain": [
       "<IPython.core.display.Math object>"
      ]
     },
     "metadata": {},
     "output_type": "display_data"
    },
    {
     "name": "stdout",
     "output_type": "stream",
     "text": [
      "row =\n"
     ]
    },
    {
     "data": {
      "text/latex": [
       "$$\\left(0,\\,0,\\,0,\\,0,\\,1,\\,0,\\,0,\\,0\\right)$$"
      ],
      "text/plain": [
       "<IPython.core.display.Math object>"
      ]
     },
     "metadata": {},
     "output_type": "display_data"
    },
    {
     "name": "stdout",
     "output_type": "stream",
     "text": [
      "row =\n"
     ]
    },
    {
     "data": {
      "text/latex": [
       "$$\\left(\\frac{i \\, \\kappa_{0}}{k},\\,0,\\,0,\\,0,\\,0,\\,0,\\,1,\\,0\\right)$$"
      ],
      "text/plain": [
       "<IPython.core.display.Math object>"
      ]
     },
     "metadata": {},
     "output_type": "display_data"
    },
    {
     "name": "stdout",
     "output_type": "stream",
     "text": [
      "row =\n"
     ]
    },
    {
     "data": {
      "text/latex": [
       "$$\\left(0,\\,0,\\,0,\\,0,\\,1,\\,0,\\,0,\\,0\\right)$$"
      ],
      "text/plain": [
       "<IPython.core.display.Math object>"
      ]
     },
     "metadata": {},
     "output_type": "display_data"
    },
    {
     "name": "stdout",
     "output_type": "stream",
     "text": [
      "row =\n"
     ]
    },
    {
     "data": {
      "text/latex": [
       "$$\\left(0,\\,0,\\,0,\\,0,\\,0,\\,1,\\,0,\\,\\frac{2 i \\, k \\cos\\left(a \\kappa_{1}\\right) \\sin\\left(a \\kappa_{1}\\right)}{2 \\, \\kappa_{1} \\sin\\left(a \\kappa_{1}\\right)^{2} - \\kappa_{1}}\\right)$$"
      ],
      "text/plain": [
       "<IPython.core.display.Math object>"
      ]
     },
     "metadata": {},
     "output_type": "display_data"
    },
    {
     "name": "stdout",
     "output_type": "stream",
     "text": [
      "row =\n"
     ]
    },
    {
     "data": {
      "text/latex": [
       "$$\\left(0,\\,1,\\,0,\\,0,\\,0,\\,0,\\,0,\\,-\\frac{i \\, k}{\\kappa_{1}}\\right)$$"
      ],
      "text/plain": [
       "<IPython.core.display.Math object>"
      ]
     },
     "metadata": {},
     "output_type": "display_data"
    },
    {
     "name": "stdout",
     "output_type": "stream",
     "text": [
      "row =\n"
     ]
    },
    {
     "data": {
      "text/latex": [
       "$$\\left(0,\\,\\frac{i \\, \\kappa_{1}}{k},\\,0,\\,0,\\,0,\\,0,\\,0,\\,1\\right)$$"
      ],
      "text/plain": [
       "<IPython.core.display.Math object>"
      ]
     },
     "metadata": {},
     "output_type": "display_data"
    },
    {
     "name": "stdout",
     "output_type": "stream",
     "text": [
      "row =\n"
     ]
    },
    {
     "data": {
      "text/latex": [
       "$$\\left(0,\\,0,\\,0,\\,0,\\,0,\\,-\\frac{2 i \\, \\kappa_{1} \\sin\\left(a \\kappa_{1}\\right)^{2} - i \\, \\kappa_{1}}{2 \\, k \\cos\\left(a \\kappa_{1}\\right) \\sin\\left(a \\kappa_{1}\\right)},\\,0,\\,1\\right)$$"
      ],
      "text/plain": [
       "<IPython.core.display.Math object>"
      ]
     },
     "metadata": {},
     "output_type": "display_data"
    },
    {
     "name": "stdout",
     "output_type": "stream",
     "text": [
      "row =\n"
     ]
    },
    {
     "data": {
      "text/latex": [
       "$$\\left(0,\\,1,\\,0,\\,0,\\,0,\\,\\frac{2 \\, \\sin\\left(a \\kappa_{1}\\right)^{2} - 1}{2 \\, \\cos\\left(a \\kappa_{1}\\right) \\sin\\left(a \\kappa_{1}\\right)},\\,0,\\,0\\right)$$"
      ],
      "text/plain": [
       "<IPython.core.display.Math object>"
      ]
     },
     "metadata": {},
     "output_type": "display_data"
    },
    {
     "name": "stdout",
     "output_type": "stream",
     "text": [
      "row =\n"
     ]
    },
    {
     "data": {
      "text/latex": [
       "$$\\left(0,\\,\\frac{2 \\, \\cos\\left(a \\kappa_{1}\\right) \\sin\\left(a \\kappa_{1}\\right)}{2 \\, \\sin\\left(a \\kappa_{1}\\right)^{2} - 1},\\,0,\\,0,\\,0,\\,1,\\,0,\\,0\\right)$$"
      ],
      "text/plain": [
       "<IPython.core.display.Math object>"
      ]
     },
     "metadata": {},
     "output_type": "display_data"
    },
    {
     "name": "stdout",
     "output_type": "stream",
     "text": [
      "row =\n"
     ]
    },
    {
     "data": {
      "text/latex": [
       "$$\\left(0,\\,1,\\,0,\\,0,\\,0,\\,0,\\,0,\\,-\\frac{i \\, k}{\\kappa_{1}}\\right)$$"
      ],
      "text/plain": [
       "<IPython.core.display.Math object>"
      ]
     },
     "metadata": {},
     "output_type": "display_data"
    },
    {
     "name": "stdout",
     "output_type": "stream",
     "text": [
      "row =\n"
     ]
    },
    {
     "data": {
      "text/latex": [
       "$$\\left(0,\\,0,\\,0,\\,0,\\,0,\\,1,\\,0,\\,\\frac{2 \\, k \\cos\\left(a \\kappa_{1}\\right) \\sin\\left(a \\kappa_{1}\\right)}{2 i \\, \\kappa_{1} \\cos\\left(a \\kappa_{1}\\right)^{2} - i \\, \\kappa_{1}}\\right)$$"
      ],
      "text/plain": [
       "<IPython.core.display.Math object>"
      ]
     },
     "metadata": {},
     "output_type": "display_data"
    },
    {
     "name": "stdout",
     "output_type": "stream",
     "text": [
      "row =\n"
     ]
    },
    {
     "data": {
      "text/latex": [
       "$$\\left(0,\\,0,\\,0,\\,0,\\,0,\\,-\\frac{-2 i \\, \\kappa_{1} \\cos\\left(a \\kappa_{1}\\right)^{2} + i \\, \\kappa_{1}}{2 \\, k \\cos\\left(a \\kappa_{1}\\right) \\sin\\left(a \\kappa_{1}\\right)},\\,0,\\,1\\right)$$"
      ],
      "text/plain": [
       "<IPython.core.display.Math object>"
      ]
     },
     "metadata": {},
     "output_type": "display_data"
    },
    {
     "name": "stdout",
     "output_type": "stream",
     "text": [
      "row =\n"
     ]
    },
    {
     "data": {
      "text/latex": [
       "$$\\left(0,\\,\\frac{i \\, \\kappa_{1}}{k},\\,0,\\,0,\\,0,\\,0,\\,0,\\,1\\right)$$"
      ],
      "text/plain": [
       "<IPython.core.display.Math object>"
      ]
     },
     "metadata": {},
     "output_type": "display_data"
    },
    {
     "name": "stdout",
     "output_type": "stream",
     "text": [
      "row =\n"
     ]
    },
    {
     "data": {
      "text/latex": [
       "$$\\left(0,\\,1,\\,0,\\,0,\\,0,\\,-\\frac{2 \\, \\cos\\left(a \\kappa_{1}\\right)^{2} - 1}{2 \\, \\cos\\left(a \\kappa_{1}\\right) \\sin\\left(a \\kappa_{1}\\right)},\\,0,\\,0\\right)$$"
      ],
      "text/plain": [
       "<IPython.core.display.Math object>"
      ]
     },
     "metadata": {},
     "output_type": "display_data"
    },
    {
     "name": "stdout",
     "output_type": "stream",
     "text": [
      "row =\n"
     ]
    },
    {
     "data": {
      "text/latex": [
       "$$\\left(0,\\,-\\frac{2 \\, \\cos\\left(a \\kappa_{1}\\right) \\sin\\left(a \\kappa_{1}\\right)}{2 \\, \\cos\\left(a \\kappa_{1}\\right)^{2} - 1},\\,0,\\,0,\\,0,\\,1,\\,0,\\,0\\right)$$"
      ],
      "text/plain": [
       "<IPython.core.display.Math object>"
      ]
     },
     "metadata": {},
     "output_type": "display_data"
    },
    {
     "name": "stdout",
     "output_type": "stream",
     "text": [
      "M_rows[ 0 ] =\n"
     ]
    },
    {
     "data": {
      "text/latex": [
       "$$\\left(0,\\,0,\\,0,\\,0,\\,1,\\,0,\\,0,\\,0\\right)$$"
      ],
      "text/plain": [
       "<IPython.core.display.Math object>"
      ]
     },
     "metadata": {},
     "output_type": "display_data"
    },
    {
     "name": "stdout",
     "output_type": "stream",
     "text": [
      "M_rows[ 1 ] =\n"
     ]
    },
    {
     "data": {
      "text/latex": [
       "$$\\left(1,\\,0,\\,0,\\,0,\\,0,\\,0,\\,-\\frac{i \\, k}{\\kappa_{0}},\\,0\\right)$$"
      ],
      "text/plain": [
       "<IPython.core.display.Math object>"
      ]
     },
     "metadata": {},
     "output_type": "display_data"
    },
    {
     "name": "stdout",
     "output_type": "stream",
     "text": [
      "M_rows[ 7 ] =\n"
     ]
    },
    {
     "data": {
      "text/latex": [
       "$$\\left(0,\\,0,\\,0,\\,0,\\,0,\\,1,\\,0,\\,\\frac{2 i \\, k \\cos\\left(a \\kappa_{1}\\right) \\sin\\left(a \\kappa_{1}\\right)}{2 \\, \\kappa_{1} \\sin\\left(a \\kappa_{1}\\right)^{2} - \\kappa_{1}}\\right)$$"
      ],
      "text/plain": [
       "<IPython.core.display.Math object>"
      ]
     },
     "metadata": {},
     "output_type": "display_data"
    },
    {
     "name": "stdout",
     "output_type": "stream",
     "text": [
      "M_rows[ 8 ] =\n"
     ]
    },
    {
     "data": {
      "text/latex": [
       "$$\\left(0,\\,1,\\,0,\\,0,\\,0,\\,0,\\,0,\\,-\\frac{i \\, k}{\\kappa_{1}}\\right)$$"
      ],
      "text/plain": [
       "<IPython.core.display.Math object>"
      ]
     },
     "metadata": {},
     "output_type": "display_data"
    }
   ],
   "source": [
    "reduced_M_res_rot_H = reduceDependedRows(M_res_rot_H)"
   ]
  },
  {
   "cell_type": "code",
   "execution_count": 24,
   "metadata": {},
   "outputs": [
    {
     "data": {
      "text/latex": [
       "$$\\left(\\begin{array}{rrrrrrrr}\n",
       "0 & 0 & 0 & 0 & 1 & 0 & 0 & 0 \\\\\n",
       "1 & 0 & 0 & 0 & 0 & 0 & -\\frac{i \\, k}{\\kappa_{0}} & 0 \\\\\n",
       "0 & 0 & 0 & 0 & 0 & 1 & 0 & \\frac{2 i \\, k \\cos\\left(a \\kappa_{1}\\right) \\sin\\left(a \\kappa_{1}\\right)}{2 \\, \\kappa_{1} \\sin\\left(a \\kappa_{1}\\right)^{2} - \\kappa_{1}} \\\\\n",
       "0 & 1 & 0 & 0 & 0 & 0 & 0 & -\\frac{i \\, k}{\\kappa_{1}}\n",
       "\\end{array}\\right)$$"
      ],
      "text/plain": [
       "<IPython.core.display.Math object>"
      ]
     },
     "metadata": {},
     "output_type": "display_data"
    }
   ],
   "source": [
    "display(Math(latex(reduced_M_res_rot_H)))"
   ]
  },
  {
   "cell_type": "code",
   "execution_count": 25,
   "metadata": {},
   "outputs": [],
   "source": [
    "def make_eqsys_from_reduced_M(M_rotH, vars):\n",
    "    xx = vector(SR, vars)\n",
    "    print(\"eqns =\")\n",
    "    eqns = [(M_rotH*xx)[index] == 0 for index in range(M_rotH.nrows())]\n",
    "    display(Math(latex(eqns)))\n",
    "    return (eqns)"
   ]
  },
  {
   "cell_type": "code",
   "execution_count": 26,
   "metadata": {},
   "outputs": [
    {
     "name": "stdout",
     "output_type": "stream",
     "text": [
      "eqns =\n"
     ]
    },
    {
     "data": {
      "text/latex": [
       "$$\\left[\\mathit{Bx}_{0} = 0, \\mathit{Ax}_{0} - \\frac{i \\, \\mathit{Bz}_{0} k}{\\kappa_{0}} = 0, \\frac{2 i \\, \\mathit{Bz}_{1} k \\cos\\left(a \\kappa_{1}\\right) \\sin\\left(a \\kappa_{1}\\right)}{2 \\, \\kappa_{1} \\sin\\left(a \\kappa_{1}\\right)^{2} - \\kappa_{1}} + \\mathit{Bx}_{1} = 0, \\mathit{Ax}_{1} - \\frac{i \\, \\mathit{Bz}_{1} k}{\\kappa_{1}} = 0\\right]$$"
      ],
      "text/plain": [
       "<IPython.core.display.Math object>"
      ]
     },
     "metadata": {},
     "output_type": "display_data"
    }
   ],
   "source": [
    "eqsys_rotH_simplified = make_eqsys_from_reduced_M(reduced_M_res_rot_H, vars)"
   ]
  },
  {
   "cell_type": "code",
   "execution_count": 27,
   "metadata": {},
   "outputs": [
    {
     "data": {
      "text/latex": [
       "$$-\\frac{{\\left(\\mathit{Ax}_{0} k^{2} + i \\, \\mathit{Bz}_{0} k \\kappa_{0}\\right)} \\cos\\left(\\kappa_{0} x\\right) + {\\left(\\mathit{Bx}_{0} k^{2} - i \\, \\mathit{Az}_{0} k \\kappa_{0}\\right)} \\sin\\left(\\kappa_{0} x\\right)}{\\mu_{0}} = -\\frac{{\\left(\\mathit{Ax}_{0} k^{2} + \\mathit{Ax}_{0} \\kappa_{0}^{2}\\right)} \\cos\\left(\\kappa_{0} x\\right) + {\\left(\\mathit{Bx}_{0} k^{2} + \\mathit{Bx}_{0} \\kappa_{0}^{2}\\right)} \\sin\\left(\\kappa_{0} x\\right)}{\\mu_{0}}$$"
      ],
      "text/plain": [
       "<IPython.core.display.Math object>"
      ]
     },
     "metadata": {},
     "output_type": "display_data"
    },
    {
     "name": "stdout",
     "output_type": "stream",
     "text": [
      "\n"
     ]
    },
    {
     "data": {
      "text/latex": [
       "$$-\\frac{{\\left(i \\, \\mathit{Bx}_{0} k \\kappa_{0} + \\mathit{Az}_{0} \\kappa_{0}^{2}\\right)} \\cos\\left(\\kappa_{0} x\\right) + {\\left(-i \\, \\mathit{Ax}_{0} k \\kappa_{0} + \\mathit{Bz}_{0} \\kappa_{0}^{2}\\right)} \\sin\\left(\\kappa_{0} x\\right)}{\\mu_{0}} = -\\frac{{\\left(\\mathit{Az}_{0} k^{2} + \\mathit{Az}_{0} \\kappa_{0}^{2}\\right)} \\cos\\left(\\kappa_{0} x\\right) + {\\left(\\mathit{Bz}_{0} k^{2} + \\mathit{Bz}_{0} \\kappa_{0}^{2}\\right)} \\sin\\left(\\kappa_{0} x\\right)}{\\mu_{0}}$$"
      ],
      "text/plain": [
       "<IPython.core.display.Math object>"
      ]
     },
     "metadata": {},
     "output_type": "display_data"
    },
    {
     "name": "stdout",
     "output_type": "stream",
     "text": [
      "\n"
     ]
    },
    {
     "data": {
      "text/latex": [
       "$$-\\frac{{\\left(\\mathit{Ax}_{1} k^{2} + i \\, \\mathit{Bz}_{1} k \\kappa_{1}\\right)} \\cos\\left(\\kappa_{1} x\\right) + {\\left(\\mathit{Bx}_{1} k^{2} - i \\, \\mathit{Az}_{1} k \\kappa_{1}\\right)} \\sin\\left(\\kappa_{1} x\\right)}{\\mu_{1}} = -\\frac{{\\left(\\mathit{Ax}_{1} k^{2} + \\mathit{Ax}_{1} \\kappa_{1}^{2}\\right)} \\cos\\left(\\kappa_{1} x\\right) + {\\left(\\mathit{Bx}_{1} k^{2} + \\mathit{Bx}_{1} \\kappa_{1}^{2}\\right)} \\sin\\left(\\kappa_{1} x\\right)}{\\mu_{1}}$$"
      ],
      "text/plain": [
       "<IPython.core.display.Math object>"
      ]
     },
     "metadata": {},
     "output_type": "display_data"
    },
    {
     "name": "stdout",
     "output_type": "stream",
     "text": [
      "\n"
     ]
    },
    {
     "data": {
      "text/latex": [
       "$$-\\frac{{\\left(i \\, \\mathit{Bx}_{1} k \\kappa_{1} + \\mathit{Az}_{1} \\kappa_{1}^{2}\\right)} \\cos\\left(\\kappa_{1} x\\right) + {\\left(-i \\, \\mathit{Ax}_{1} k \\kappa_{1} + \\mathit{Bz}_{1} \\kappa_{1}^{2}\\right)} \\sin\\left(\\kappa_{1} x\\right)}{\\mu_{1}} = -\\frac{{\\left(\\mathit{Az}_{1} k^{2} + \\mathit{Az}_{1} \\kappa_{1}^{2}\\right)} \\cos\\left(\\kappa_{1} x\\right) + {\\left(\\mathit{Bz}_{1} k^{2} + \\mathit{Bz}_{1} \\kappa_{1}^{2}\\right)} \\sin\\left(\\kappa_{1} x\\right)}{\\mu_{1}}$$"
      ],
      "text/plain": [
       "<IPython.core.display.Math object>"
      ]
     },
     "metadata": {},
     "output_type": "display_data"
    },
    {
     "name": "stdout",
     "output_type": "stream",
     "text": [
      "\n"
     ]
    }
   ],
   "source": [
    "eqsys_rotH = []\n",
    "\n",
    "for i in range(n_layers):\n",
    "    eqsys_rotH += [(eq_rot_H_x[i]*(-I)*omega/c).subs(solve(eq_kappa[i], omega^2)).full_simplify(),\n",
    "                   (eq_rot_H_z[i]*(-I)*omega/c).subs(solve(eq_kappa[i], omega^2)).full_simplify(),\n",
    "                  ]\n",
    "    display(Math(latex(eqsys_rotH[2*i])))\n",
    "    print(\"\")\n",
    "    display(Math(latex(eqsys_rotH[2*i + 1])))\n",
    "    print(\"\")"
   ]
  },
  {
   "cell_type": "code",
   "execution_count": 28,
   "metadata": {},
   "outputs": [
    {
     "data": {
      "text/latex": [
       "$$\\left[\\mathit{Az}_{0} \\cos\\left(a \\kappa_{0}\\right) + \\mathit{Bz}_{0} \\sin\\left(a \\kappa_{0}\\right) = \\mathit{Az}_{1} \\cos\\left(a \\kappa_{1}\\right) + \\mathit{Bz}_{1} \\sin\\left(a \\kappa_{1}\\right), {\\left(\\mathit{Ax}_{0} \\cos\\left(a \\kappa_{0}\\right) + \\mathit{Bx}_{0} \\sin\\left(a \\kappa_{0}\\right)\\right)} \\epsilon_{0} = {\\left(\\mathit{Ax}_{1} \\cos\\left(a \\kappa_{1}\\right) + \\mathit{Bx}_{1} \\sin\\left(a \\kappa_{1}\\right)\\right)} \\epsilon_{1}, \\mathit{Bx}_{0} = 0, \\mathit{Ax}_{0} - \\frac{i \\, \\mathit{Bz}_{0} k}{\\kappa_{0}} = 0, \\frac{2 i \\, \\mathit{Bz}_{1} k \\cos\\left(a \\kappa_{1}\\right) \\sin\\left(a \\kappa_{1}\\right)}{2 \\, \\kappa_{1} \\sin\\left(a \\kappa_{1}\\right)^{2} - \\kappa_{1}} + \\mathit{Bx}_{1} = 0, \\mathit{Ax}_{1} - \\frac{i \\, \\mathit{Bz}_{1} k}{\\kappa_{1}} = 0\\right]$$"
      ],
      "text/plain": [
       "<IPython.core.display.Math object>"
      ]
     },
     "metadata": {},
     "output_type": "display_data"
    }
   ],
   "source": [
    "        # + eq_Hy_boundary_conditions \\\n",
    "all_eqs = eq_Ez_boundary_conditions \\\n",
    "        + eq_Ex_boundary_conditions \\\n",
    "        + eqsys_rotH_simplified\n",
    "display(Math(latex(all_eqs)))"
   ]
  },
  {
   "cell_type": "markdown",
   "metadata": {},
   "source": [
    "all_eqs = [eq.subs(boundary_subs_begin).subs(boundary_subs_end).full_simplify() for eq in all_eqs]\n",
    "all_eqs"
   ]
  },
  {
   "cell_type": "code",
   "execution_count": 29,
   "metadata": {},
   "outputs": [
    {
     "data": {
      "text/latex": [
       "$$\\left[\\mathit{Az}_{0} \\cos\\left(a \\kappa_{0}\\right) + \\mathit{Bz}_{0} \\sin\\left(a \\kappa_{0}\\right) = \\mathit{Az}_{1} \\cos\\left(a \\kappa_{1}\\right) + \\mathit{Bz}_{1} \\sin\\left(a \\kappa_{1}\\right), {\\left(\\mathit{Ax}_{0} \\cos\\left(a \\kappa_{0}\\right) + \\mathit{Bx}_{0} \\sin\\left(a \\kappa_{0}\\right)\\right)} \\epsilon_{0} = {\\left(\\mathit{Ax}_{1} \\cos\\left(a \\kappa_{1}\\right) + \\mathit{Bx}_{1} \\sin\\left(a \\kappa_{1}\\right)\\right)} \\epsilon_{1}, \\mathit{Bx}_{0} = 0, \\mathit{Ax}_{0} - \\frac{i \\, \\mathit{Bz}_{0} k}{\\kappa_{0}} = 0, \\frac{2 i \\, \\mathit{Bz}_{1} k \\cos\\left(a \\kappa_{1}\\right) \\sin\\left(a \\kappa_{1}\\right)}{2 \\, \\kappa_{1} \\sin\\left(a \\kappa_{1}\\right)^{2} - \\kappa_{1}} + \\mathit{Bx}_{1} = 0, \\mathit{Ax}_{1} - \\frac{i \\, \\mathit{Bz}_{1} k}{\\kappa_{1}} = 0, \\mathit{Az}_{0} = 0.000000000000000, \\mathit{Az}_{1} \\cos\\left(2 \\, a \\kappa_{1}\\right) + \\mathit{Bz}_{1} \\sin\\left(2 \\, a \\kappa_{1}\\right) = 0.000000000000000\\right]$$"
      ],
      "text/plain": [
       "<IPython.core.display.Math object>"
      ]
     },
     "metadata": {},
     "output_type": "display_data"
    }
   ],
   "source": [
    "all_eqs += eq_Ez_superconductor_boundary_conditions\n",
    "display(Math(latex(all_eqs)))"
   ]
  },
  {
   "cell_type": "code",
   "execution_count": 30,
   "metadata": {},
   "outputs": [
    {
     "data": {
      "text/plain": [
       "8"
      ]
     },
     "execution_count": 30,
     "metadata": {},
     "output_type": "execute_result"
    }
   ],
   "source": [
    "len(all_eqs)"
   ]
  },
  {
   "cell_type": "markdown",
   "metadata": {},
   "source": [
    "vars = [var for var in vars if var not in exclude_vars]\n",
    "vars"
   ]
  },
  {
   "cell_type": "code",
   "execution_count": 31,
   "metadata": {},
   "outputs": [
    {
     "data": {
      "text/latex": [
       "$$\\left(\\begin{array}{rrrrrrrr}\n",
       "0 & 0 & \\cos\\left(a \\kappa_{0}\\right) & -\\cos\\left(a \\kappa_{1}\\right) & 0 & 0 & \\sin\\left(a \\kappa_{0}\\right) & -\\sin\\left(a \\kappa_{1}\\right) \\\\\n",
       "\\epsilon_{0} \\cos\\left(a \\kappa_{0}\\right) & -\\epsilon_{1} \\cos\\left(a \\kappa_{1}\\right) & 0 & 0 & \\epsilon_{0} \\sin\\left(a \\kappa_{0}\\right) & -\\epsilon_{1} \\sin\\left(a \\kappa_{1}\\right) & 0 & 0 \\\\\n",
       "0 & 0 & 0 & 0 & 1 & 0 & 0 & 0 \\\\\n",
       "1 & 0 & 0 & 0 & 0 & 0 & -\\frac{i \\, k}{\\kappa_{0}} & 0 \\\\\n",
       "0 & 0 & 0 & 0 & 0 & 1 & 0 & \\frac{2 i \\, k \\cos\\left(a \\kappa_{1}\\right) \\sin\\left(a \\kappa_{1}\\right)}{2 \\, \\kappa_{1} \\sin\\left(a \\kappa_{1}\\right)^{2} - \\kappa_{1}} \\\\\n",
       "0 & 1 & 0 & 0 & 0 & 0 & 0 & -\\frac{i \\, k}{\\kappa_{1}} \\\\\n",
       "0 & 0 & 1 & 0 & 0 & 0 & 0 & 0 \\\\\n",
       "0 & 0 & 0 & \\cos\\left(2 \\, a \\kappa_{1}\\right) & 0 & 0 & 0 & \\sin\\left(2 \\, a \\kappa_{1}\\right)\n",
       "\\end{array}\\right)$$"
      ],
      "text/plain": [
       "<IPython.core.display.Math object>"
      ]
     },
     "metadata": {},
     "output_type": "display_data"
    }
   ],
   "source": [
    "M = GenerateMatrix(all_eqs, vars)\n",
    "display(Math(latex(M)))"
   ]
  },
  {
   "cell_type": "code",
   "execution_count": 32,
   "metadata": {},
   "outputs": [
    {
     "name": "stdout",
     "output_type": "stream",
     "text": [
      "\n",
      "M.nrows() 8\n",
      "M.ncols() 8\n",
      "M.rank() 8\n",
      "M.pivot_rows() = (0, 1, 2, 3, 4, 5, 6, 7)\n",
      "row =\n"
     ]
    },
    {
     "data": {
      "text/latex": [
       "$$\\left(0,\\,0,\\,\\cos\\left(a \\kappa_{0}\\right),\\,-\\cos\\left(a \\kappa_{1}\\right),\\,0,\\,0,\\,\\sin\\left(a \\kappa_{0}\\right),\\,-\\sin\\left(a \\kappa_{1}\\right)\\right)$$"
      ],
      "text/plain": [
       "<IPython.core.display.Math object>"
      ]
     },
     "metadata": {},
     "output_type": "display_data"
    },
    {
     "name": "stdout",
     "output_type": "stream",
     "text": [
      "row =\n"
     ]
    },
    {
     "data": {
      "text/latex": [
       "$$\\left(\\epsilon_{0} \\cos\\left(a \\kappa_{0}\\right),\\,-\\epsilon_{1} \\cos\\left(a \\kappa_{1}\\right),\\,0,\\,0,\\,\\epsilon_{0} \\sin\\left(a \\kappa_{0}\\right),\\,-\\epsilon_{1} \\sin\\left(a \\kappa_{1}\\right),\\,0,\\,0\\right)$$"
      ],
      "text/plain": [
       "<IPython.core.display.Math object>"
      ]
     },
     "metadata": {},
     "output_type": "display_data"
    },
    {
     "name": "stdout",
     "output_type": "stream",
     "text": [
      "row =\n"
     ]
    },
    {
     "data": {
      "text/latex": [
       "$$\\left(0,\\,0,\\,0,\\,0,\\,1,\\,0,\\,0,\\,0\\right)$$"
      ],
      "text/plain": [
       "<IPython.core.display.Math object>"
      ]
     },
     "metadata": {},
     "output_type": "display_data"
    },
    {
     "name": "stdout",
     "output_type": "stream",
     "text": [
      "row =\n"
     ]
    },
    {
     "data": {
      "text/latex": [
       "$$\\left(1,\\,0,\\,0,\\,0,\\,0,\\,0,\\,-\\frac{i \\, k}{\\kappa_{0}},\\,0\\right)$$"
      ],
      "text/plain": [
       "<IPython.core.display.Math object>"
      ]
     },
     "metadata": {},
     "output_type": "display_data"
    },
    {
     "name": "stdout",
     "output_type": "stream",
     "text": [
      "row =\n"
     ]
    },
    {
     "data": {
      "text/latex": [
       "$$\\left(0,\\,0,\\,0,\\,0,\\,0,\\,1,\\,0,\\,\\frac{2 i \\, k \\cos\\left(a \\kappa_{1}\\right) \\sin\\left(a \\kappa_{1}\\right)}{2 \\, \\kappa_{1} \\sin\\left(a \\kappa_{1}\\right)^{2} - \\kappa_{1}}\\right)$$"
      ],
      "text/plain": [
       "<IPython.core.display.Math object>"
      ]
     },
     "metadata": {},
     "output_type": "display_data"
    },
    {
     "name": "stdout",
     "output_type": "stream",
     "text": [
      "row =\n"
     ]
    },
    {
     "data": {
      "text/latex": [
       "$$\\left(0,\\,1,\\,0,\\,0,\\,0,\\,0,\\,0,\\,-\\frac{i \\, k}{\\kappa_{1}}\\right)$$"
      ],
      "text/plain": [
       "<IPython.core.display.Math object>"
      ]
     },
     "metadata": {},
     "output_type": "display_data"
    },
    {
     "name": "stdout",
     "output_type": "stream",
     "text": [
      "row =\n"
     ]
    },
    {
     "data": {
      "text/latex": [
       "$$\\left(0,\\,0,\\,1,\\,0,\\,0,\\,0,\\,0,\\,0\\right)$$"
      ],
      "text/plain": [
       "<IPython.core.display.Math object>"
      ]
     },
     "metadata": {},
     "output_type": "display_data"
    },
    {
     "name": "stdout",
     "output_type": "stream",
     "text": [
      "row =\n"
     ]
    },
    {
     "data": {
      "text/latex": [
       "$$\\left(0,\\,0,\\,0,\\,\\cos\\left(2 \\, a \\kappa_{1}\\right),\\,0,\\,0,\\,0,\\,\\sin\\left(2 \\, a \\kappa_{1}\\right)\\right)$$"
      ],
      "text/plain": [
       "<IPython.core.display.Math object>"
      ]
     },
     "metadata": {},
     "output_type": "display_data"
    },
    {
     "name": "stdout",
     "output_type": "stream",
     "text": [
      "M_rows[ 0 ] =\n"
     ]
    },
    {
     "data": {
      "text/latex": [
       "$$\\left(0,\\,0,\\,\\cos\\left(a \\kappa_{0}\\right),\\,-\\cos\\left(a \\kappa_{1}\\right),\\,0,\\,0,\\,\\sin\\left(a \\kappa_{0}\\right),\\,-\\sin\\left(a \\kappa_{1}\\right)\\right)$$"
      ],
      "text/plain": [
       "<IPython.core.display.Math object>"
      ]
     },
     "metadata": {},
     "output_type": "display_data"
    },
    {
     "name": "stdout",
     "output_type": "stream",
     "text": [
      "M_rows[ 1 ] =\n"
     ]
    },
    {
     "data": {
      "text/latex": [
       "$$\\left(\\epsilon_{0} \\cos\\left(a \\kappa_{0}\\right),\\,-\\epsilon_{1} \\cos\\left(a \\kappa_{1}\\right),\\,0,\\,0,\\,\\epsilon_{0} \\sin\\left(a \\kappa_{0}\\right),\\,-\\epsilon_{1} \\sin\\left(a \\kappa_{1}\\right),\\,0,\\,0\\right)$$"
      ],
      "text/plain": [
       "<IPython.core.display.Math object>"
      ]
     },
     "metadata": {},
     "output_type": "display_data"
    },
    {
     "name": "stdout",
     "output_type": "stream",
     "text": [
      "M_rows[ 2 ] =\n"
     ]
    },
    {
     "data": {
      "text/latex": [
       "$$\\left(0,\\,0,\\,0,\\,0,\\,1,\\,0,\\,0,\\,0\\right)$$"
      ],
      "text/plain": [
       "<IPython.core.display.Math object>"
      ]
     },
     "metadata": {},
     "output_type": "display_data"
    },
    {
     "name": "stdout",
     "output_type": "stream",
     "text": [
      "M_rows[ 3 ] =\n"
     ]
    },
    {
     "data": {
      "text/latex": [
       "$$\\left(1,\\,0,\\,0,\\,0,\\,0,\\,0,\\,-\\frac{i \\, k}{\\kappa_{0}},\\,0\\right)$$"
      ],
      "text/plain": [
       "<IPython.core.display.Math object>"
      ]
     },
     "metadata": {},
     "output_type": "display_data"
    },
    {
     "name": "stdout",
     "output_type": "stream",
     "text": [
      "M_rows[ 4 ] =\n"
     ]
    },
    {
     "data": {
      "text/latex": [
       "$$\\left(0,\\,0,\\,0,\\,0,\\,0,\\,1,\\,0,\\,\\frac{2 i \\, k \\cos\\left(a \\kappa_{1}\\right) \\sin\\left(a \\kappa_{1}\\right)}{2 \\, \\kappa_{1} \\sin\\left(a \\kappa_{1}\\right)^{2} - \\kappa_{1}}\\right)$$"
      ],
      "text/plain": [
       "<IPython.core.display.Math object>"
      ]
     },
     "metadata": {},
     "output_type": "display_data"
    },
    {
     "name": "stdout",
     "output_type": "stream",
     "text": [
      "M_rows[ 5 ] =\n"
     ]
    },
    {
     "data": {
      "text/latex": [
       "$$\\left(0,\\,1,\\,0,\\,0,\\,0,\\,0,\\,0,\\,-\\frac{i \\, k}{\\kappa_{1}}\\right)$$"
      ],
      "text/plain": [
       "<IPython.core.display.Math object>"
      ]
     },
     "metadata": {},
     "output_type": "display_data"
    },
    {
     "name": "stdout",
     "output_type": "stream",
     "text": [
      "M_rows[ 6 ] =\n"
     ]
    },
    {
     "data": {
      "text/latex": [
       "$$\\left(0,\\,0,\\,1,\\,0,\\,0,\\,0,\\,0,\\,0\\right)$$"
      ],
      "text/plain": [
       "<IPython.core.display.Math object>"
      ]
     },
     "metadata": {},
     "output_type": "display_data"
    },
    {
     "name": "stdout",
     "output_type": "stream",
     "text": [
      "M_rows[ 7 ] =\n"
     ]
    },
    {
     "data": {
      "text/latex": [
       "$$\\left(0,\\,0,\\,0,\\,\\cos\\left(2 \\, a \\kappa_{1}\\right),\\,0,\\,0,\\,0,\\,\\sin\\left(2 \\, a \\kappa_{1}\\right)\\right)$$"
      ],
      "text/plain": [
       "<IPython.core.display.Math object>"
      ]
     },
     "metadata": {},
     "output_type": "display_data"
    },
    {
     "name": "stdout",
     "output_type": "stream",
     "text": [
      "\n",
      "reduced_M.det() =\n"
     ]
    },
    {
     "data": {
      "text/latex": [
       "$$-\\frac{2 i \\, \\epsilon_{1} k \\cos\\left(2 \\, a \\kappa_{1}\\right) \\cos\\left(a \\kappa_{1}\\right) \\sin\\left(a \\kappa_{0}\\right) \\sin\\left(a \\kappa_{1}\\right)^{2}}{2 \\, \\kappa_{1} \\sin\\left(a \\kappa_{1}\\right)^{2} - \\kappa_{1}} + \\frac{i \\, \\epsilon_{1} k \\cos\\left(2 \\, a \\kappa_{1}\\right) \\cos\\left(a \\kappa_{1}\\right) \\sin\\left(a \\kappa_{0}\\right)}{\\kappa_{1}} + \\frac{i \\, \\epsilon_{0} k \\cos\\left(a \\kappa_{0}\\right) \\cos\\left(a \\kappa_{1}\\right) \\sin\\left(2 \\, a \\kappa_{1}\\right)}{\\kappa_{0}} - \\frac{i \\, \\epsilon_{0} k \\cos\\left(a \\kappa_{0}\\right) \\cos\\left(2 \\, a \\kappa_{1}\\right) \\sin\\left(a \\kappa_{1}\\right)}{\\kappa_{0}}$$"
      ],
      "text/plain": [
       "<IPython.core.display.Math object>"
      ]
     },
     "metadata": {},
     "output_type": "display_data"
    }
   ],
   "source": [
    "reduced_M = reduceDependedRows(M)"
   ]
  },
  {
   "cell_type": "code",
   "execution_count": 33,
   "metadata": {},
   "outputs": [
    {
     "data": {
      "text/latex": [
       "$$-\\frac{2 i \\, \\epsilon_{1} k \\cos\\left(2 \\, a \\kappa_{1}\\right) \\cos\\left(a \\kappa_{1}\\right) \\sin\\left(a \\kappa_{0}\\right) \\sin\\left(a \\kappa_{1}\\right)^{2}}{2 \\, \\kappa_{1} \\sin\\left(a \\kappa_{1}\\right)^{2} - \\kappa_{1}} + \\frac{i \\, \\epsilon_{1} k \\cos\\left(2 \\, a \\kappa_{1}\\right) \\cos\\left(a \\kappa_{1}\\right) \\sin\\left(a \\kappa_{0}\\right)}{\\kappa_{1}} + \\frac{i \\, \\epsilon_{0} k \\cos\\left(a \\kappa_{0}\\right) \\cos\\left(a \\kappa_{1}\\right) \\sin\\left(2 \\, a \\kappa_{1}\\right)}{\\kappa_{0}} - \\frac{i \\, \\epsilon_{0} k \\cos\\left(a \\kappa_{0}\\right) \\cos\\left(2 \\, a \\kappa_{1}\\right) \\sin\\left(a \\kappa_{1}\\right)}{\\kappa_{0}}$$"
      ],
      "text/plain": [
       "<IPython.core.display.Math object>"
      ]
     },
     "metadata": {},
     "output_type": "display_data"
    }
   ],
   "source": [
    "reduced_M_det = reduced_M.det()\n",
    "display(Math(latex(reduced_M_det)))"
   ]
  },
  {
   "cell_type": "code",
   "execution_count": 34,
   "metadata": {},
   "outputs": [
    {
     "data": {
      "text/latex": [
       "$$\\frac{i \\, \\epsilon_{1} k \\kappa_{0} \\cos\\left(a \\kappa_{1}\\right) \\sin\\left(a \\kappa_{0}\\right) + i \\, \\epsilon_{0} k \\kappa_{1} \\cos\\left(a \\kappa_{0}\\right) \\sin\\left(a \\kappa_{1}\\right)}{\\kappa_{0} \\kappa_{1}} = 0$$"
      ],
      "text/plain": [
       "<IPython.core.display.Math object>"
      ]
     },
     "metadata": {},
     "output_type": "display_data"
    }
   ],
   "source": [
    "display(Math(latex(((reduced_M_det == 0)).full_simplify())))"
   ]
  },
  {
   "cell_type": "code",
   "execution_count": 35,
   "metadata": {},
   "outputs": [
    {
     "data": {
      "text/latex": [
       "$$\\epsilon_{1} \\kappa_{0} \\cos\\left(a \\kappa_{1}\\right) \\sin\\left(a \\kappa_{0}\\right) + \\epsilon_{0} \\kappa_{1} \\cos\\left(a \\kappa_{0}\\right) \\sin\\left(a \\kappa_{1}\\right) = 0$$"
      ],
      "text/plain": [
       "<IPython.core.display.Math object>"
      ]
     },
     "metadata": {},
     "output_type": "display_data"
    }
   ],
   "source": [
    "display(Math(latex(((reduced_M_det == 0)*kappa_0*kappa_1/I/k).full_simplify())))"
   ]
  },
  {
   "cell_type": "code",
   "execution_count": 36,
   "metadata": {},
   "outputs": [
    {
     "data": {
      "text/plain": [
       "kappa_0/kappa_1 == -epsilon_0*cos(a*kappa_0)*sin(a*kappa_1)/(epsilon_1*cos(a*kappa_1)*sin(a*kappa_0))"
      ]
     },
     "execution_count": 36,
     "metadata": {},
     "output_type": "execute_result"
    }
   ],
   "source": [
    "disp_eq_0 = (solve([reduced_M_det == 0], kappa_0)[0]/kappa_1).full_simplify()\n",
    "disp_eq_0"
   ]
  },
  {
   "cell_type": "code",
   "execution_count": 37,
   "metadata": {},
   "outputs": [
    {
     "data": {
      "text/plain": [
       "kappa_1/kappa_0 == -epsilon_1*cos(a*kappa_1)*sin(a*kappa_0)/(epsilon_0*cos(a*kappa_0)*sin(a*kappa_1))"
      ]
     },
     "execution_count": 37,
     "metadata": {},
     "output_type": "execute_result"
    }
   ],
   "source": [
    "disp_eq_1 = (solve([reduced_M_det == 0], kappa_1)[0]/kappa_0).full_simplify()\n",
    "disp_eq_1"
   ]
  },
  {
   "cell_type": "code",
   "execution_count": 38,
   "metadata": {},
   "outputs": [
    {
     "data": {
      "text/latex": [
       "$$\\frac{\\kappa_{0}}{\\kappa_{1}} = -\\frac{\\epsilon_{0} \\cos\\left(a \\kappa_{0}\\right) \\sin\\left(a \\kappa_{1}\\right)}{\\epsilon_{1} \\cos\\left(a \\kappa_{1}\\right) \\sin\\left(a \\kappa_{0}\\right)}$$"
      ],
      "text/plain": [
       "<IPython.core.display.Math object>"
      ]
     },
     "metadata": {},
     "output_type": "display_data"
    }
   ],
   "source": [
    "display(Math(latex(disp_eq_0)))"
   ]
  },
  {
   "cell_type": "code",
   "execution_count": 39,
   "metadata": {},
   "outputs": [
    {
     "data": {
      "text/latex": [
       "$$\\frac{\\kappa_{1}}{\\kappa_{0}} = -\\frac{\\epsilon_{1} \\cos\\left(a \\kappa_{1}\\right) \\sin\\left(a \\kappa_{0}\\right)}{\\epsilon_{0} \\cos\\left(a \\kappa_{0}\\right) \\sin\\left(a \\kappa_{1}\\right)}$$"
      ],
      "text/plain": [
       "<IPython.core.display.Math object>"
      ]
     },
     "metadata": {},
     "output_type": "display_data"
    }
   ],
   "source": [
    "display(Math(latex(disp_eq_1)))"
   ]
  },
  {
   "cell_type": "code",
   "execution_count": 40,
   "metadata": {},
   "outputs": [
    {
     "data": {
      "text/latex": [
       "$$\\left[\\frac{\\omega^{2}}{c^{2}} = \\frac{\\kappa_{0}^{2} - \\kappa_{1}^{2}}{\\epsilon_{0} \\mu_{0} - \\epsilon_{1} \\mu_{1}}\\right]$$"
      ],
      "text/plain": [
       "<IPython.core.display.Math object>"
      ]
     },
     "metadata": {},
     "output_type": "display_data"
    }
   ],
   "source": [
    "# исходя из вида дифференциальных уравнений для диэлектрика\n",
    "# записываем соотнощения для волнового вектора в виде уравнений\n",
    "eq_kappa_kappa = []\n",
    "eq_kappa2_kappa2 = []\n",
    "\n",
    "for i in range(n_layers - 1):\n",
    "    # eq_kappa_s = eq_kappa.subs(solve(eq_s, k^2)).full_simplify()\n",
    "    eq_kappa_kappa += [eq_kappa[i].subs(solve(eq_kappa[i+1], k^2)).full_simplify()]\n",
    "    eq_kappa2_kappa2 += [(solve(eq_kappa_kappa[i], omega^2)[0]/c^2).full_simplify()]\n",
    "\n",
    "# display(Math(latex(eq_kappa_kappa)))\n",
    "display(Math(latex(eq_kappa2_kappa2)))"
   ]
  },
  {
   "cell_type": "code",
   "execution_count": 41,
   "metadata": {},
   "outputs": [
    {
     "data": {
      "text/latex": [
       "$$\\left[\\frac{i \\, {\\left(\\mathit{Bz}_{0} \\kappa_{0} \\cos\\left(a \\kappa_{0}\\right) - \\mathit{Az}_{0} \\kappa_{0} \\sin\\left(a \\kappa_{0}\\right) - {\\left(i \\, \\mathit{Ax}_{0} \\cos\\left(a \\kappa_{0}\\right) + i \\, \\mathit{Bx}_{0} \\sin\\left(a \\kappa_{0}\\right)\\right)} k\\right)} c}{\\mu_{0} \\omega} = \\frac{i \\, {\\left(\\mathit{Bz}_{1} \\kappa_{1} \\cos\\left(a \\kappa_{1}\\right) - \\mathit{Az}_{1} \\kappa_{1} \\sin\\left(a \\kappa_{1}\\right) - {\\left(i \\, \\mathit{Ax}_{1} \\cos\\left(a \\kappa_{1}\\right) + i \\, \\mathit{Bx}_{1} \\sin\\left(a \\kappa_{1}\\right)\\right)} k\\right)} c}{\\mu_{1} \\omega}\\right]$$"
      ],
      "text/plain": [
       "<IPython.core.display.Math object>"
      ]
     },
     "metadata": {},
     "output_type": "display_data"
    }
   ],
   "source": [
    "display(Math(latex(eq_Hy_boundary_conditions)))"
   ]
  },
  {
   "cell_type": "code",
   "execution_count": 42,
   "metadata": {},
   "outputs": [
    {
     "data": {
      "text/latex": [
       "$$\\frac{\\mathit{Ax}_{0} c k}{\\mu_{0} \\omega} + \\frac{i \\, \\mathit{Bz}_{0} c \\kappa_{0}}{\\mu_{0} \\omega} + \\frac{\\mathit{Bx}_{0} c k \\sin\\left(a \\kappa_{0}\\right)}{\\mu_{0} \\omega \\cos\\left(a \\kappa_{0}\\right)} - \\frac{i \\, \\mathit{Az}_{0} c \\kappa_{0} \\sin\\left(a \\kappa_{0}\\right)}{\\mu_{0} \\omega \\cos\\left(a \\kappa_{0}\\right)} = \\frac{\\mathit{Ax}_{1} c k \\cos\\left(a \\kappa_{1}\\right)}{\\mu_{1} \\omega \\cos\\left(a \\kappa_{0}\\right)} + \\frac{i \\, \\mathit{Bz}_{1} c \\kappa_{1} \\cos\\left(a \\kappa_{1}\\right)}{\\mu_{1} \\omega \\cos\\left(a \\kappa_{0}\\right)} + \\frac{\\mathit{Bx}_{1} c k \\sin\\left(a \\kappa_{1}\\right)}{\\mu_{1} \\omega \\cos\\left(a \\kappa_{0}\\right)} - \\frac{i \\, \\mathit{Az}_{1} c \\kappa_{1} \\sin\\left(a \\kappa_{1}\\right)}{\\mu_{1} \\omega \\cos\\left(a \\kappa_{0}\\right)}$$"
      ],
      "text/plain": [
       "<IPython.core.display.Math object>"
      ]
     },
     "metadata": {},
     "output_type": "display_data"
    }
   ],
   "source": [
    "display(Math(latex((eq_Hy_boundary_conditions[0]/cos(a*kappa_0)).full_simplify().expand())))"
   ]
  },
  {
   "cell_type": "code",
   "execution_count": 43,
   "metadata": {},
   "outputs": [
    {
     "data": {
      "text/latex": [
       "$$\\frac{{\\left(\\mathit{Ax}_{0} c k + i \\, \\mathit{Bz}_{0} c \\kappa_{0}\\right)} \\cos\\left(a \\kappa_{0}\\right) + {\\left(\\mathit{Bx}_{0} c k - i \\, \\mathit{Az}_{0} c \\kappa_{0}\\right)} \\sin\\left(a \\kappa_{0}\\right)}{\\mu_{0} \\omega} = \\frac{{\\left(\\mathit{Ax}_{1} c k + i \\, \\mathit{Bz}_{1} c \\kappa_{1}\\right)} \\cos\\left(a \\kappa_{1}\\right) + {\\left(\\mathit{Bx}_{1} c k - i \\, \\mathit{Az}_{1} c \\kappa_{1}\\right)} \\sin\\left(a \\kappa_{1}\\right)}{\\mu_{1} \\omega}$$"
      ],
      "text/plain": [
       "<IPython.core.display.Math object>"
      ]
     },
     "metadata": {},
     "output_type": "display_data"
    }
   ],
   "source": [
    "Hy_boundary_disp_eq_1 = eq_Hy_boundary_conditions[0].subs(disp_eq_1).full_simplify()\n",
    "display(Math(latex(Hy_boundary_disp_eq_1)))"
   ]
  },
  {
   "cell_type": "code",
   "execution_count": null,
   "metadata": {},
   "outputs": [],
   "source": []
  }
 ],
 "metadata": {
  "kernelspec": {
   "display_name": "SageMath 9.0",
   "language": "sage",
   "name": "sagemath"
  },
  "language_info": {
   "codemirror_mode": {
    "name": "ipython",
    "version": 3
   },
   "file_extension": ".py",
   "mimetype": "text/x-python",
   "name": "python",
   "nbconvert_exporter": "python",
   "pygments_lexer": "ipython3",
   "version": "3.7.3"
  }
 },
 "nbformat": 4,
 "nbformat_minor": 2
}
