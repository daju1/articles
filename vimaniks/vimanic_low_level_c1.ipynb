{
 "cells": [
  {
   "cell_type": "markdown",
   "id": "d9cd2868",
   "metadata": {},
   "source": [
    "# О возникновении силы тяги в системе вращающихся зарядов"
   ]
  },
  {
   "cell_type": "code",
   "execution_count": 1,
   "id": "7c76be40",
   "metadata": {},
   "outputs": [],
   "source": [
    "%%cython\n",
    "cdef extern from \"lw_rotate.c\":\n",
    "    # расчет итерациями запаздывающего момента\n",
    "    double tlag(long double x, long double y, long double z, long double t, \n",
    "                long double (*Coordinate)(long double t_zap,\n",
    "                                     long double xc, long double yc, long double zc,\n",
    "                                     long double R, long double omega, long double alpha),\n",
    "                long double (*Coordinate)(long double t_zap,\n",
    "                                     long double xc, long double yc, long double zc,\n",
    "                                     long double R, long double omega, long double alpha),\n",
    "                long double (*Coordinate)(long double t_zap,\n",
    "                                     long double xc, long double yc, long double zc,\n",
    "                                     long double R, long double omega, long double alpha),\n",
    "                long double (*Velocity)(long double t_zap,\n",
    "                                   long double xc, long double yc, long double zc,\n",
    "                                   long double R, long double omega, long double alpha),\n",
    "                long double (*Velocity)(long double t_zap,\n",
    "                                   long double xc, long double yc, long double zc,\n",
    "                                   long double R, long double omega, long double alpha),\n",
    "                long double (*Velocity)(long double t_zap,\n",
    "                                   long double xc, long double yc, long double zc,\n",
    "                                   long double R, long double omega, long double alpha),\n",
    "                long double xc, long double yc, long double zc,\n",
    "                long double R, long double omega, long double alpha)\n",
    "    \n",
    "    long double tlag_test(long double x, long double y, long double z, long double t1, long double t2, \n",
    "                     long double (*Coordinate)(long double t_zap,\n",
    "                                          long double xc, long double yc, long double zc,\n",
    "                                          long double R, long double omega, long double alpha),\n",
    "                     long double (*Coordinate)(long double t_zap,\n",
    "                                          long double xc, long double yc, long double zc,\n",
    "                                          long double R, long double omega, long double alpha),\n",
    "                     long double (*Coordinate)(long double t_zap,\n",
    "                                          long double xc, long double yc, long double zc,\n",
    "                                          long double R, long double omega, long double alpha),\n",
    "               long double xc, long double yc, long double zc,\n",
    "               long double R, long double omega, long double alpha)\n",
    "\n",
    "    # отношение радиуса Лиенара Вихерта к радиусу\n",
    "    long double klw(long double x, long double y, long double z, long double t,\n",
    "                long double (*Coordinate)(long double t_zap, long double xc, long double yc, long double zc, long double R, long double omega, long double alpha),\n",
    "                long double (*Coordinate)(long double t_zap, long double xc, long double yc, long double zc, long double R, long double omega, long double alpha),\n",
    "                long double (*Coordinate)(long double t_zap, long double xc, long double yc, long double zc, long double R, long double omega, long double alpha),\n",
    "                long double (*Velocity)(long double t_zap, long double xc, long double yc, long double zc, long double R, long double omega, long double alpha),\n",
    "                long double (*Velocity)(long double t_zap, long double xc, long double yc, long double zc, long double R, long double omega, long double alpha),\n",
    "                long double (*Velocity)(long double t_zap, long double xc, long double yc, long double zc, long double R, long double omega, long double alpha),\n",
    "                long double xc, long double yc, long double zc, long double R, long double omega, long double alpha)\n",
    "    # Радиус Лиенара Вихерта\n",
    "    long double Rlw(long double x, long double y, long double z, long double t,\n",
    "                long double (*Coordinate)(long double t_zap, long double xc, long double yc, long double zc, long double R, long double omega, long double alpha),\n",
    "                long double (*Coordinate)(long double t_zap, long double xc, long double yc, long double zc, long double R, long double omega, long double alpha),\n",
    "                long double (*Coordinate)(long double t_zap, long double xc, long double yc, long double zc, long double R, long double omega, long double alpha),\n",
    "                long double (*Velocity)(long double t_zap, long double xc, long double yc, long double zc, long double R, long double omega, long double alpha),\n",
    "                long double (*Velocity)(long double t_zap, long double xc, long double yc, long double zc, long double R, long double omega, long double alpha),\n",
    "                long double (*Velocity)(long double t_zap, long double xc, long double yc, long double zc, long double R, long double omega, long double alpha),\n",
    "                long double xc, long double yc, long double zc, long double R, long double omega, long double alpha)\n",
    "    \n",
    "    \n",
    "    # phi_lw - скалярный потенциал Лиенара Вихерта\n",
    "    long double philw(long double x, long double y, long double z, long double t,\n",
    "                long double (*Coordinate)(long double t_zap, long double xc, long double yc, long double zc, long double R, long double omega, long double alpha),\n",
    "                long double (*Coordinate)(long double t_zap, long double xc, long double yc, long double zc, long double R, long double omega, long double alpha),\n",
    "                long double (*Coordinate)(long double t_zap, long double xc, long double yc, long double zc, long double R, long double omega, long double alpha),\n",
    "                long double (*Velocity)(long double t_zap, long double xc, long double yc, long double zc, long double R, long double omega, long double alpha),\n",
    "                long double (*Velocity)(long double t_zap, long double xc, long double yc, long double zc, long double R, long double omega, long double alpha),\n",
    "                long double (*Velocity)(long double t_zap, long double xc, long double yc, long double zc, long double R, long double omega, long double alpha),\n",
    "                long double q,\n",
    "                long double xc, long double yc, long double zc, long double R, long double omega, long double alpha)\n",
    "\n",
    "\n",
    "    # A_lw - векторный потенциал Лиенара Вихерта\n",
    "    void Alw(long double x, long double y, long double z, long double t,\n",
    "                long double (*Coordinate)(long double t_zap, long double xc, long double yc, long double zc, long double R, long double omega, long double alpha),\n",
    "                long double (*Coordinate)(long double t_zap, long double xc, long double yc, long double zc, long double R, long double omega, long double alpha),\n",
    "                long double (*Coordinate)(long double t_zap, long double xc, long double yc, long double zc, long double R, long double omega, long double alpha),\n",
    "                long double (*Velocity)(long double t_zap, long double xc, long double yc, long double zc, long double R, long double omega, long double alpha),\n",
    "                long double (*Velocity)(long double t_zap, long double xc, long double yc, long double zc, long double R, long double omega, long double alpha),\n",
    "                long double (*Velocity)(long double t_zap, long double xc, long double yc, long double zc, long double R, long double omega, long double alpha),\n",
    "             long double q,\n",
    "             long double * A_x, long double * A_y, long double * A_z,\n",
    "             long double xc, long double yc, long double zc, long double R, long double omega, long double alpha\n",
    "           )\n",
    "    \n",
    "    void electr_magnet(long double x, long double y, long double z, long double t,\n",
    "                long double (*Coordinate)(long double t_zap, long double xc, long double yc, long double zc, long double R, long double omega, long double alpha),\n",
    "                long double (*Coordinate)(long double t_zap, long double xc, long double yc, long double zc, long double R, long double omega, long double alpha),\n",
    "                long double (*Coordinate)(long double t_zap, long double xc, long double yc, long double zc, long double R, long double omega, long double alpha),\n",
    "                long double (*Velocity)(long double t_zap, long double xc, long double yc, long double zc, long double R, long double omega, long double alpha),\n",
    "                long double (*Velocity)(long double t_zap, long double xc, long double yc, long double zc, long double R, long double omega, long double alpha),\n",
    "                long double (*Velocity)(long double t_zap, long double xc, long double yc, long double zc, long double R, long double omega, long double alpha),\n",
    "                long double (*Acceleration)(long double t_zap, long double xc, long double yc, long double zc, long double R, long double omega, long double alpha),\n",
    "                long double (*Acceleration)(long double t_zap, long double xc, long double yc, long double zc, long double R, long double omega, long double alpha),\n",
    "                long double (*Acceleration)(long double t_zap, long double xc, long double yc, long double zc, long double R, long double omega, long double alpha),\n",
    "                long double q,\n",
    "                long double * E_x, long double * E_y, long double * E_z, long double * B_x, long double * B_y, long double * B_z,\n",
    "                       long double xc, long double yc, long double zc, long double R, long double omega, long double alpha)\n",
    "\n",
    "    void cset_c(long double _c)\n",
    "    void cset_timespan_Epsilon(long double _eps)\n",
    "    void cset_max_steps(int _max_steps)\n",
    "    long double cget_c()\n",
    "    long double cget_timespan_Epsilon()\n",
    "\n",
    "cdef extern from \"lw_vimanic.c\":\n",
    "    long double sx(long double t, long double xc, long double yc, long double zc, long double R, long double omega, long double alpha);\n",
    "\n",
    "    long double sy(long double t, long double xc, long double yc, long double zc, long double R, long double omega, long double alpha);\n",
    "\n",
    "    long double sz(long double t, long double xc, long double yc, long double zc, long double R, long double omega, long double alpha);\n",
    "\n",
    "    long double vx(long double t, long double xc, long double yc, long double zc, long double R, long double omega, long double alpha);\n",
    "\n",
    "    long double vy(long double t, long double xc, long double yc, long double zc, long double R, long double omega, long double alpha);\n",
    "\n",
    "    long double vz(long double t, long double xc, long double yc, long double zc, long double R, long double omega, long double alpha);\n",
    "\n",
    "    long double wx(long double t, long double xc, long double yc, long double zc, long double R, long double omega, long double alpha);\n",
    "    long double wy(long double t, long double xc, long double yc, long double zc, long double R, long double omega, long double alpha);\n",
    "    long double wz(long double t, long double xc, long double yc, long double zc, long double R, long double omega, long double alpha);\n",
    "\n",
    "    long double ccalc_sum_Fy_t(int N, long double t_i,\n",
    "                      long double alpha0_l,\n",
    "                      long double alpha0_r, int to_log);\n",
    "\n",
    "    long double ccalc_Maxwells_stress_tensor(long double X_a, long double Y_a, long double Z_a, long double t_i,\n",
    "                                     int N,\n",
    "                                    long double cos_nx, long double cos_ny, long double cos_nz,\n",
    "                                    long double alpha0_l,\n",
    "                                    long double alpha0_r\n",
    "                                   );\n",
    "\n",
    "    long double spherical_ccalc_Maxwells_stress_tensor(\n",
    "        long double r, long double theta, long double varphi, long double t)\n",
    "    \n",
    "    long double spherical_ccalc_Maxwells_stress_tensor_R_t(\n",
    "        long double theta, long double varphi, long double t);\n",
    "\n",
    "    void cset_sphere_R(long double R);\n",
    "    long double cget_sphere_R();\n",
    "    \n",
    "    void cset_vc(long double vc)\n",
    "    long double cget_vc()\n",
    "    long double cget_omega()\n",
    "    \n",
    "    long double cget_S();\n",
    "    long double cget_R_l();\n",
    "    long double cget_R_r();\n",
    "\n",
    "    long double cget_xc_l();\n",
    "    long double cget_xc_r();\n",
    "\n",
    "    long double cget_yc_l();\n",
    "    long double cget_yc_r();\n",
    "\n",
    "    long double cget_zc_l();\n",
    "    long double cget_zc_r();\n",
    "    \n",
    "\n",
    "def calc_sum_Fy_t(N, t,\n",
    "                  alpha0_l = 0,\n",
    "                  alpha0_r = 0,\n",
    "                  to_log = False):\n",
    "    \n",
    "    cdef int n = N\n",
    "    cdef long double t_i = t\n",
    "\n",
    "    cdef long double Alpha0_l = alpha0_l\n",
    "    cdef long double Alpha0_r = alpha0_r\n",
    "    cdef int To_log = to_log\n",
    "    \n",
    "    cdef long double Fy = ccalc_sum_Fy_t(n, t_i, Alpha0_l, Alpha0_r, To_log);\n",
    "\n",
    "    return Fy\n",
    "\n",
    "# Интегрируем в сферической системе координат,\n",
    "# у которой однако в соотвествие с принятыми в задаче\n",
    "# наименованиями осей главная ось игрек вместо зет\n",
    "def spherical_calc_Maxwells_stress_tensor (r, theta, varphi, t) :\n",
    "    cdef long double _r = r\n",
    "    cdef long double _theta = theta\n",
    "    cdef long double _varphi = varphi\n",
    "    cdef long double _t = t\n",
    "    \n",
    "    return spherical_ccalc_Maxwells_stress_tensor(\n",
    "        _r, _theta, _varphi, _t)\n",
    "\n",
    "def spherical_calc_Maxwells_stress_tensor_R_t (theta, varphi, t) :\n",
    "    cdef long double _theta = theta\n",
    "    cdef long double _varphi = varphi\n",
    "    cdef long double _t = t\n",
    "\n",
    "    return spherical_ccalc_Maxwells_stress_tensor_R_t(_theta, _varphi, _t)\n",
    "\n",
    "# направление векторов нормали к сферической воображаемой поверхности инвертировано - снаружи вовнутрь\n",
    "\n",
    "def get_c():\n",
    "    return cget_c()\n",
    "def get_timespan_Epsilon():\n",
    "    return cget_timespan_Epsilon()\n",
    "\n",
    "\n",
    "def set_c(c):\n",
    "    cset_c(c)\n",
    "def set_timespan_Epsilon(eps):\n",
    "    cset_timespan_Epsilon(eps)\n",
    "def set_max_steps(_max_steps):\n",
    "    cset_max_steps(_max_steps)\n",
    "    \n",
    "def set_vc(vc):\n",
    "    cset_vc(vc)\n",
    "def get_vc():\n",
    "    return cget_vc()\n",
    "def set_sphere_R(R):\n",
    "    cset_sphere_R(R)\n",
    "def get_sphere_R():\n",
    "    return cget_sphere_R()\n",
    "    \n",
    "def get_S():\n",
    "    return cget_S()\n",
    "def get_R_l():\n",
    "    return cget_R_l()\n",
    "def get_R_r():\n",
    "    return cget_R_r()\n",
    "    \n",
    "def get_omega():\n",
    "    return cget_omega()"
   ]
  },
  {
   "cell_type": "code",
   "execution_count": 2,
   "id": "34f95ed7",
   "metadata": {},
   "outputs": [],
   "source": [
    "import numpy as np\n",
    "set_c(1.0)\n",
    "set_timespan_Epsilon(1.e-15)\n",
    "set_vc(np.float128(0.8))"
   ]
  },
  {
   "cell_type": "code",
   "execution_count": 3,
   "id": "e89c6098",
   "metadata": {},
   "outputs": [
    {
     "name": "stderr",
     "output_type": "stream",
     "text": [
      "Matplotlib is building the font cache; this may take a moment.\n"
     ]
    },
    {
     "data": {
      "text/plain": [
       "(6.1499999999999995, 6.15000000000000, 37.8225000000000)"
      ]
     },
     "execution_count": 3,
     "metadata": {},
     "output_type": "execute_result"
    }
   ],
   "source": [
    "# радиус сферы интегрирования\n",
    "R = 4 * get_R_l() + 2 * get_S()\n",
    "R *= 1.5\n",
    "# R = 40 * get_R_l() + 20 * get_S()\n",
    "\n",
    "set_sphere_R(R)\n",
    "\n",
    "get_sphere_R(), R, R^2"
   ]
  },
  {
   "cell_type": "code",
   "execution_count": 4,
   "id": "303664f9",
   "metadata": {},
   "outputs": [],
   "source": [
    "T = np.float128(2*pi)/get_omega() # период вращения\n",
    "time_steps_number = 36000              # разбиваем период на шаги\n",
    "dt = T / time_steps_number             # длительность шага"
   ]
  },
  {
   "cell_type": "code",
   "execution_count": 5,
   "id": "ee803d53",
   "metadata": {},
   "outputs": [
    {
     "data": {
      "text/plain": [
       "-0.579436383218458"
      ]
     },
     "execution_count": 5,
     "metadata": {},
     "output_type": "execute_result"
    }
   ],
   "source": [
    "calc_sum_Fy_t(N = 1, t = T/3,\n",
    "              alpha0_l = np.float128(0),\n",
    "              alpha0_r = np.float128(0),\n",
    "              to_log = True)"
   ]
  },
  {
   "cell_type": "code",
   "execution_count": 6,
   "id": "5af68cbf",
   "metadata": {},
   "outputs": [],
   "source": [
    "from scipy import integrate as scipy_integrate\n",
    "\n",
    "# epsabs\n",
    "# float or int, optional\n",
    "# Absolute error tolerance.\n",
    "# Default is 1.49e-8.\n",
    "# quad tries to obtain an accuracy of abs(i-result) <= max(epsabs, epsrel*abs(i))\n",
    "# where i = integral of func from a to b, and result is the numerical approximation. See epsrel below.\n",
    "\n",
    "# epsrel\n",
    "# float or int, optional\n",
    "# Relative error tolerance.\n",
    "# Default is 1.49e-8.\n",
    "# If epsabs <= 0, epsrel must be greater than both 5e-29 and 50 * (machine epsilon). See epsabs above.\n",
    "\n",
    "# limit\n",
    "# float or int, optional\n",
    "# An upper bound on the number of subintervals used in the adaptive algorithm.\n",
    "\n",
    "#Returns:\n",
    "# result\n",
    "# float\n",
    "# The result of the integration.\n",
    "\n",
    "# abserr\n",
    "# float\n",
    "# The maximum of the estimates of the absolute error in the various integration results.\n",
    "\n",
    "# out_dict\n",
    "# dict, optional\n",
    "# A dict containing additional information on the integration.\n",
    "\n",
    "\n",
    "\n",
    "nquad_default_opts = \\\n",
    "           { 'epsabs' : 1.49e-08,\n",
    "             'epsrel' : 1.49e-08,\n",
    "             'limit'  : 50 }\n",
    "\n",
    "nquad_opts_2 = { 'epsabs' : 1.0e-07,\n",
    "                 'epsrel' : 1.0e-07,\n",
    "                 'limit'  : 100 }\n",
    "\n",
    "nquad_opts_3 = { 'epsabs' : 1.0e-01,\n",
    "                 'epsrel' : 1.0e-03,\n",
    "                 'limit'  : 100 }\n",
    " \n",
    "#nquad_opts = { 'epsabs' : 1.49e-07,\n",
    "#               'epsrel' : 1.49e-07,\n",
    "#               'limit'  : 200 }\n",
    "\n",
    "#nquad_opts = { 'epsabs' : 1.49e-08,\n",
    "#               'epsrel' : 1.49e-08,\n",
    "#               'limit'  : 100 }"
   ]
  },
  {
   "cell_type": "code",
   "execution_count": 7,
   "id": "48a55dd6",
   "metadata": {},
   "outputs": [],
   "source": [
    "t_fy = []\n",
    "#t_f_alpha_l = []\n",
    "#t_f_alpha_r = []\n",
    "for i in range(0, time_steps_number):\n",
    "    t_i = i * dt\n",
    "    ans = calc_sum_Fy_t(N=1, t = t_i)\n",
    "    #print(i, (i/steps_number).n(), t_i, ans)\n",
    "    t_fy += [(i/time_steps_number, ans)]\n",
    "    #t_f_alpha_l += [(i/time_steps_number, ans[1])]\n",
    "    #t_f_alpha_r += [(i/time_steps_number, ans[2])]"
   ]
  },
  {
   "cell_type": "code",
   "execution_count": 8,
   "id": "6636d738",
   "metadata": {},
   "outputs": [
    {
     "data": {
      "image/png": "[encoded data removed]",
      "text/plain": [
       "Graphics object consisting of 1 graphics primitive"
      ]
     },
     "execution_count": 8,
     "metadata": {},
     "output_type": "execute_result"
    }
   ],
   "source": [
    "list_plot(t_fy)"
   ]
  },
  {
   "cell_type": "code",
   "execution_count": 9,
   "id": "c7146dbb",
   "metadata": {},
   "outputs": [],
   "source": [
    "#list_plot(t_f_alpha_l)"
   ]
  },
  {
   "cell_type": "code",
   "execution_count": 10,
   "id": "9baccf02",
   "metadata": {},
   "outputs": [],
   "source": [
    "#list_plot(t_f_alpha_r)"
   ]
  },
  {
   "cell_type": "code",
   "execution_count": 11,
   "id": "b3bc970d",
   "metadata": {},
   "outputs": [
    {
     "data": {
      "text/plain": [
       "1.9968991436058485487"
      ]
     },
     "execution_count": 11,
     "metadata": {},
     "output_type": "execute_result"
    }
   ],
   "source": [
    "# интегральная сумма компоненты силы по оси y, приложенной к зарядам, по периоду\n",
    "sum_fy = 0\n",
    "for (t_i, fy) in t_fy:\n",
    "    sum_fy += fy * dt\n",
    "sum_fy"
   ]
  },
  {
   "cell_type": "code",
   "execution_count": 12,
   "id": "9f5ab7f3",
   "metadata": {},
   "outputs": [
    {
     "data": {
      "text/plain": [
       "0.25425309564867471003"
      ]
     },
     "execution_count": 12,
     "metadata": {},
     "output_type": "execute_result"
    }
   ],
   "source": [
    "# интегральная сумма компоненты силы по оси y, приложенной к зарядам, по периоду отнесённая к периоду\n",
    "sum_fy / T"
   ]
  },
  {
   "cell_type": "code",
   "execution_count": 13,
   "id": "8be1dd29",
   "metadata": {},
   "outputs": [
    {
     "data": {
      "text/plain": [
       "(1.9968991436065568, 4.825394424371916e-10)"
      ]
     },
     "execution_count": 13,
     "metadata": {},
     "output_type": "execute_result"
    }
   ],
   "source": [
    "# интеграл компоненты силы по оси y, приложенной к зарядам, по периоду\n",
    "int_fy = scipy_integrate.quad(lambda t : \\\n",
    "    calc_sum_Fy_t(N=1, t = t), 0, T)\n",
    "int_fy\n",
    "# (-8.721028191840928e-10, 3.5107927765742514e-09)"
   ]
  },
  {
   "cell_type": "code",
   "execution_count": 15,
   "id": "612e1a7a",
   "metadata": {},
   "outputs": [
    {
     "data": {
      "text/plain": [
       "0.2542530956487648935"
      ]
     },
     "execution_count": 15,
     "metadata": {},
     "output_type": "execute_result"
    }
   ],
   "source": [
    "# интеграл компоненты силы по оси y, приложенной к зарядам, по периоду отнесённая к периоду\n",
    "int_fy[0] / T"
   ]
  },
  {
   "cell_type": "raw",
   "id": "6c2f8f2b",
   "metadata": {},
   "source": [
    "# интегральная сумма угловой компоненты силы, приложенной к зарядам левого колеса, по периоду\n",
    "# суть работа в тещение одного периода, затрачиваемая двигателем на поддержание угловой скорости колеса постоянной\n",
    "sum_A_alpha_l = 0\n",
    "dl_alpha = dt * get_omega() * get_R_l()\n",
    "for (t_i, f) in t_f_alpha_l:\n",
    "    sum_A_alpha_l += f * dl_alpha\n",
    "sum_A_alpha_l"
   ]
  },
  {
   "cell_type": "raw",
   "id": "3573a549",
   "metadata": {},
   "source": [
    "# интегральная сумма угловой компоненты силы, приложенной к зарядам левого колеса, по периоду отнесённая к периоду\n",
    "# суть мощность, затрачиваемая двигателем на поддержание угловой скорости колеса постоянной\n",
    "\n",
    "sum_A_alpha_l / T"
   ]
  },
  {
   "cell_type": "raw",
   "id": "47dad446",
   "metadata": {},
   "source": [
    "# интеграл угловой компоненты силы, приложенной к зарядам левого колеса, по периоду\n",
    "ans = scipy_integrate.quad(lambda t : \\\n",
    "    calc_sum_Fy_t(N=1, S=get_S(), R_l=get_R_l(), R_r=get_R_r(), t_i = t,\n",
    "                  omega = get_omega(), to_animate=False)[1], 0, T)\n",
    "ans\n",
    "# (-8.721028191840928e-10, 3.5107927765742514e-09)"
   ]
  },
  {
   "cell_type": "raw",
   "id": "6f07d7c4",
   "metadata": {},
   "source": [
    "# интеграл компоненты силы по оси y, приложенной к зарядам, по периоду отнесённый к периоду\n",
    "# мощность, затрачиваемая двигателем на поддержание угловой скорости колеса постоянной\n",
    "ans[0]/T * get_omega() * get_R_l()"
   ]
  },
  {
   "cell_type": "raw",
   "id": "0c27e94f",
   "metadata": {},
   "source": [
    "round_R = float(round(R))\n",
    "round_R"
   ]
  },
  {
   "cell_type": "raw",
   "id": "03afe893",
   "metadata": {},
   "source": [
    "import matplotlib.pyplot as plt\n",
    "from matplotlib import ticker, cm\n",
    "\n",
    "xa_linspace = np.linspace(-round_R, +round_R, 40*2)\n",
    "ya_linspace = np.linspace(-round_R, +round_R, 40*2)\n",
    "\n",
    "xa_list = xa_linspace.tolist()\n",
    "ya_list = ya_linspace.tolist()\n",
    "\n",
    "xa_grid,ya_grid = np.meshgrid(xa_linspace, ya_linspace)\n",
    "\n",
    "u_ = xa_grid * np.nan\n",
    "v_ = ya_grid * np.nan\n",
    "e_ = xa_grid * np.nan\n",
    "\n",
    "t_ = ya_grid * np.nan\n",
    "rlw_ = ya_grid * np.nan\n",
    "s_ = ya_grid * np.nan\n",
    "bz_ = ya_grid * np.nan\n",
    "\n",
    "ax_ = ya_grid * np.nan\n",
    "ay_ = ya_grid * np.nan\n",
    "am_ = ya_grid * np.nan\n",
    "an_ = ya_grid * np.nan\n",
    "\n",
    "sx_ = ya_grid * np.nan\n",
    "sy_ = ya_grid * np.nan\n",
    "sz_ = ya_grid * np.nan\n",
    "\n",
    "bz_min = +np.finfo(np.float64).max\n",
    "bz_max = -np.finfo(np.float64).max\n",
    "\n",
    "sx_min = +np.finfo(np.float64).max\n",
    "sx_max = -np.finfo(np.float64).max\n",
    "\n",
    "sy_min = +np.finfo(np.float64).max\n",
    "sy_max = -np.finfo(np.float64).max\n",
    "\n",
    "t_cur = 7.5\n",
    "q = 1\n",
    "\n",
    "#def make_R():\n",
    "for ix in np.arange(0, len(xa_linspace), 1):\n",
    "    for iy in np.arange(0, len(ya_linspace), 1):\n",
    "\n",
    "        Xa = xa_list[ix]\n",
    "        Ya = ya_list[iy]\n",
    "        Za = 0.0\n",
    "        Rlw = R_lw(Xa, Ya, Za, t_cur, get_xc_r(), get_yc_r(), get_zc_r(), get_R_r(), -get_omega(), alpha=0)\n",
    "        rlw_[iy][ix] = Rlw\n",
    "\n",
    "        #(E_x, E_y, E_z, B_x, B_y, B_z) = EB_lw(Xa, Ya, Za, t_cur, q)\n",
    "        # The Poynting vector S is defined as to be equal\n",
    "        # to the cross product (1/μ)E × B\n",
    "        #S_x = E_y * B_z - E_z * B_y\n",
    "        #S_y = E_z * B_x - E_x * B_z\n",
    "        #S_z = E_x * B_y - E_y * B_x\n",
    "        #sx_[iy][ix] = S_x\n",
    "        #sy_[iy][ix] = S_y\n",
    "        #sz_[iy][ix] = S_z\n",
    "        \n",
    "        (Al_x, Al_y, Al_z) = A_lw(Xa, Ya, Za, t_cur, q, get_xc_r(), get_yc_r(), get_zc_r(), get_R_r(), -get_omega(), alpha=0)\n",
    "        (Ar_x, Ar_y, Ar_z) = A_lw(Xa, Ya, Za, t_cur, q, get_xc_l(), get_yc_l(), get_zc_l(), get_R_l(), +get_omega(), alpha=0)\n",
    "        ax_[iy][ix] = Al_x + Ar_x\n",
    "        ay_[iy][ix] = Al_y + Ar_y\n",
    "        am_[iy][ix] = sqrt((Al_x + Ar_x)^2 + (Al_y + Ar_y)^2)\n",
    "        an_[iy][ix] = atan2((Al_y + Ar_y),(Al_x + Ar_x))\n",
    "\n",
    "        #if sx_min > S_x:\n",
    "        #    sx_min = S_x\n",
    "        #if sx_max < S_x:\n",
    "        #    sx_max = S_x        \n",
    "\n",
    "        #if sy_min > S_y:\n",
    "        #    sy_min = S_y\n",
    "        #if sy_max < S_y:\n",
    "        #    sy_max = S_y\n",
    "\n",
    "\n",
    "        #u_[iy][ix] = E_x\n",
    "        #v_[iy][ix] = E_y\n",
    "        #e_[iy][ix] = sqrt(E_x*E_x + E_y*E_y)\n",
    "\n",
    "        #t2 = t_lag(Xa, Ya, 0, t_cur)\n",
    "        #t_[iy][ix] = t2\n",
    "\n",
    "\n",
    "        phi_r = phi_lw(Xa, Ya, 0, t_cur, q, get_xc_r(), get_yc_r(), get_zc_r(), get_R_r(), -get_omega(), alpha=0)\n",
    "        phi_l = phi_lw(Xa, Ya, 0, t_cur, q, get_xc_l(), get_yc_l(), get_zc_l(), get_R_l(), +get_omega(), alpha=0)\n",
    "        s_[iy][ix] = phi_r+phi_l\n",
    "        #bz_[iy][ix] = B_z\n",
    "        #if bz_min > B_z:\n",
    "        #    bz_min = B_z\n",
    "        #if bz_max < B_z:\n",
    "        #    bz_max = B_z"
   ]
  },
  {
   "cell_type": "raw",
   "id": "ed19d156",
   "metadata": {},
   "source": [
    "fig,ax=plt.subplots(1,1)\n",
    "#cp = ax.contourf(xa_grid,ya_grid, rlw_, levels = np.linspace(0, 32, 32/1+1))\n",
    "cp = ax.contourf(xa_grid,ya_grid, rlw_)\n",
    "fig.colorbar(cp) # Add a colorbar to a plot\n",
    "ax.set_title('Лиенар-Вихерт radius')\n",
    "ax.set_xlabel('x (cm)')\n",
    "ax.set_ylabel('y (cm)')\n",
    "ax.set_aspect(1)\n",
    "plt.show()"
   ]
  },
  {
   "cell_type": "raw",
   "id": "84cf2b23",
   "metadata": {},
   "source": [
    "fig,ax=plt.subplots(1,1)\n",
    "cp = ax.contourf(xa_grid,ya_grid, s_, levels = np.linspace(0.01, 1, int((1-0.01)/0.01+1)))\n",
    "fig.colorbar(cp) # Add a colorbar to a plot\n",
    "ax.set_title('Filled Contours potential Plot')\n",
    "ax.set_xlabel('x (cm)')\n",
    "ax.set_ylabel('y (cm)')\n",
    "ax.set_aspect(1)\n",
    "plt.show()"
   ]
  },
  {
   "cell_type": "raw",
   "id": "e2c86aaf",
   "metadata": {},
   "source": [
    "fig,ax=plt.subplots(1,1)\n",
    "#cp = ax.contourf(xa_grid,ya_grid, ax_, levels = np.linspace(0.04, 0.5, int((1-0.04)/0.04+1)))\n",
    "cp = ax.contourf(xa_grid,ya_grid, ax_)\n",
    "fig.colorbar(cp) # Add a colorbar to a plot\n",
    "ax.set_title('Filled Contours vector potential x component Plot')\n",
    "ax.set_xlabel('x (cm)')\n",
    "ax.set_ylabel('y (cm)')\n",
    "ax.set_aspect(1)\n",
    "plt.show()"
   ]
  },
  {
   "cell_type": "raw",
   "id": "5d5a4644",
   "metadata": {},
   "source": [
    "fig,ax=plt.subplots(1,1)\n",
    "#cp = ax.contourf(xa_grid,ya_grid, ax_, levels = np.linspace(0.04, 0.5, int((1-0.04)/0.04+1)))\n",
    "cp = ax.contourf(xa_grid,ya_grid, ay_)\n",
    "fig.colorbar(cp) # Add a colorbar to a plot\n",
    "ax.set_title('Filled Contours vector potential y component Plot')\n",
    "ax.set_xlabel('x (cm)')\n",
    "ax.set_ylabel('y (cm)')\n",
    "ax.set_aspect(1)\n",
    "plt.show()"
   ]
  },
  {
   "cell_type": "raw",
   "id": "06aa504b",
   "metadata": {},
   "source": [
    "fig,ax=plt.subplots(1,1)\n",
    "cp = ax.contourf(xa_grid,ya_grid, am_, levels = np.linspace(0.01, 0.5, int((1-0.01)/0.01+1)))\n",
    "cp = ax.contourf(xa_grid,ya_grid, am_)\n",
    "fig.colorbar(cp) # Add a colorbar to a plot\n",
    "ax.set_title('Filled Contours vector potential module component Plot')\n",
    "ax.set_xlabel('x (cm)')\n",
    "ax.set_ylabel('y (cm)')\n",
    "ax.set_aspect(1)\n",
    "plt.show()"
   ]
  },
  {
   "cell_type": "raw",
   "id": "f0fa6cb7",
   "metadata": {},
   "source": [
    "fig,ax=plt.subplots(1,1)\n",
    "#cp = ax.contourf(xa_grid,ya_grid, an_, levels = np.linspace(0.04, 0.5, int((1-0.04)/0.04+1)))\n",
    "cp = ax.contourf(xa_grid,ya_grid, an_)\n",
    "fig.colorbar(cp) # Add a colorbar to a plot\n",
    "ax.set_title('Filled Contours vector potential angle component Plot')\n",
    "ax.set_xlabel('x (cm)')\n",
    "ax.set_ylabel('y (cm)')\n",
    "ax.set_aspect(1)\n",
    "plt.show()"
   ]
  },
  {
   "cell_type": "markdown",
   "id": "94e421b9",
   "metadata": {},
   "source": [
    "Начинаем расчёт силы интегрального давления поля на воображаемый ящик сферической формы окружающий систему зарядов (пусть например \"ящик\" будет идеально поглощающим излучение).\n",
    "\n",
    "Тамм параграф 33\n",
    "\n",
    "# Сведение объёмных сил к натяжениям\n",
    "\n",
    "Рассмотрим некоторый объём среды $V$, ограниченный поверхностью $S$. Если $\\vec f$ есть объёмная плотность сил, то равнодействующая всех сил, приложенная к телам, находящимся внутри объёма $V$, будет равна:\n",
    "\n",
    "$$\\vec F = \\int\\limits_{V}^{} \\vec f dV. \\,\\,\\,\\,\\,\\,\\,\\,(33.1)$$\n",
    "\n",
    "С другой стороны, если объёмные силы вообще могут быть сведены к натяжениям, то той же величине должна равняться и совокупность натяжений, действующих <i>извне</i> на замкнутую поверхность $S$.\n",
    "\n",
    "Сила натяжения, испытываемая каким либо элементом поверхности произвольного участка среды, пропорциональна величине этого элемента $dS$ и зависит не только от положения этого элемента, но и от его направления, - иными словами, является не только функцией точки, но и функцией направления нормали $\\vec n$ к элементу $dS$. В частности при повороте площадки $dS$ на $180^{\\circ}$, то есть при изменении направления нормали $\\vec n$ на обратное, сила натяжения меняет свой знак. В этом выражается тот факт, что на протипоположные стороны произвольного элемента поверхности $dS$ (за исключением элементов поверхности разрыва) всегда действуют взаимно уравновешивающиеся равные и противоположные натяжения.\n",
    "\n",
    "Обозначим через $\\vec T_n$ силу, действующую <i>извне</i> на единицу поверхности, внешняя нормаль к которой направлена по $\\vec n$; компоненты этой силы по осям координат будем обозначать через $T_{xn}$, $T_{yn}$, $T_{zn}$. Тогда равнодействующая всех натяжений, приложенных извне к поверхности выразится, очевидно, через\n",
    "\n",
    "$$\\vec F = \\oint\\limits_{S}^{}\\vec T_n dS, \\,\\,\\,\\,\\,\\,\\,\\,(33.2)$$\n",
    "\n",
    "где $\\vec n$ есть внешняя нормаль к элементу $dS$. Приравнивая выражения (33.1) и (33.2) \n",
    "\n",
    "$$\\vec F = \\int\\limits_{V}^{} \\vec f dV= \\oint\\limits_{S}^{}\\vec T_n dS, \\,\\,\\,\\,\\,\\,\\,\\,(33.3)$$\n",
    "\n",
    "мы можем найти соотношение между плотностью объёмных сил $\\vec f$ и натяжения $\\vec T_n$.\n",
    "\n",
    "Выберем какую либо произвольную систему декартовых координат и обозначим через $\\vec T_x$, $\\vec T_y$ и $\\vec T_z$ векторную величину силы натяжения, действующую извне на единичную площадку, внешняя нормаль к которой направлена соответственно по оси $x$, по оси $y$ и по оси $z$. Слагающие этих сил по осям координат обозначим через $T_{xx}$, $T_{xy}$, $T_{xz}$ и т.д., так что\n",
    "\n",
    "$$\\vec T_x = \\vec i T_{xx} + \\vec j T_{yx} + \\vec k T_{zx}$$\n",
    "$$\\vec T_y = \\vec i T_{xy} + \\vec j T_{yy} + \\vec k T_{zy}$$\n",
    "$$\\vec T_z = \\vec i T_{xz} + \\vec j T_{yz} + \\vec k T_{zz}$$\n",
    "\n",
    "Таким образом, например, $T_{xz}$ есть слагающая по оси $x$ силы $\\vec T_{z}$, действующей на единичную площадку, внешняя нормаль к которой направлена по оси $z$.\n",
    "\n",
    "Сила натяжения $\\vec T_n$, действующая извне на произвольно оринтированную единичную площадку, внешняя нормаль к которой имеет направление $\\vec n$, связана с силами $\\vec T_x$, $\\vec T_y$ и $\\vec T_z$ следующим соотношением:\n",
    "\n",
    "$$\\vec T_n = \\vec T_x \\, cos(\\vec n, x) + \\vec T_y \\, cos(\\vec n, y) + \\vec T_z \\, cos(\\vec n, z), \\,\\,\\,\\,\\,\\,\\,\\,(33.4)$$\n",
    "\n",
    "так что слагающая этой силы, например, по оси $y$ равна:\n",
    "\n",
    "$$T_{yn} = T_{yx} \\, cos(\\vec n, x) + T_{yy} \\, cos(\\vec n, y) + \\vec T_{yz} \\, cos(\\vec n, z), \\,\\,\\,\\,\\,\\,\\,\\,(33.5)$$\n",
    "\n",
    "\n",
    "для расчёта направляющих косинусов нормали к площадке интегрирования при интегрировании по поверхности сферы нам нужен\n",
    "\n",
    "${\\displaystyle {\\boldsymbol {\\hat {r}}}=\\sin \\theta \\cos \\varphi {\\boldsymbol {\\hat {\\imath }}}+\\sin \\theta \\sin \\varphi {\\boldsymbol {\\hat {\\jmath }}}+\\cos \\theta {\\boldsymbol {\\hat {k}}}}$\n",
    "\n",
    "<p>ортогональный единичный вектор сферических координат в направлении увеличения ${\\displaystyle r}$, а ${\\displaystyle {\\boldsymbol {\\hat {\\imath }}},{\\boldsymbol {\\hat {\\jmath }}},{\\boldsymbol {\\hat {k}}}}$,\n",
    "— единичные векторы декартовых координат.</p>\n",
    "\n",
    "Но поскольку мы делаем расчёт силы интегрального давления поля изнутри на воображаемый ящик сферической формы окружающий нашу систему зарядов, мы должны использовать в наших расчётах не внешнюю нормаль, а внутреннюю, поэтому наши направляющие косинусы отличаются отличаются от направляющих косинусов ортогонального единичного вектора сферических координат знаком минус. "
   ]
  },
  {
   "cell_type": "code",
   "execution_count": 20,
   "id": "0dbad9c4",
   "metadata": {},
   "outputs": [],
   "source": [
    "stress_tensor_upper_half_sphere_R_t = lambda t : scipy_integrate.nquad( \\\n",
    "    lambda theta, varphi : \\\n",
    "      spherical_calc_Maxwells_stress_tensor_R_t(theta = theta, varphi = varphi, t = t), \\\n",
    "        [ [0, pi/2],  [0, 2*pi]], opts=nquad_opts_2)\n",
    "#          theta     varphi"
   ]
  },
  {
   "cell_type": "code",
   "execution_count": 21,
   "id": "96a4be3e",
   "metadata": {},
   "outputs": [],
   "source": [
    "stress_tensor_down_half_sphere_R_t = lambda t : scipy_integrate.nquad( \\\n",
    "    lambda theta, varphi : \\\n",
    "      spherical_calc_Maxwells_stress_tensor_R_t(theta = theta, varphi = varphi, t = t), \\\n",
    "        [ [pi/2, pi],  [0, 2*pi]], opts=nquad_opts_2)\n",
    "#          theta     varphi"
   ]
  },
  {
   "cell_type": "code",
   "execution_count": 22,
   "id": "e4c4695e",
   "metadata": {},
   "outputs": [],
   "source": [
    "stress_tensor_R_t = lambda t :  scipy_integrate.nquad( \\\n",
    "    lambda theta, varphi : \\\n",
    "      spherical_calc_Maxwells_stress_tensor_R_t(theta = theta, varphi = varphi, t = t), \\\n",
    "        [ [0, pi],  [0, 2*pi]], opts=nquad_opts_2)\n",
    "#          theta     varphi"
   ]
  },
  {
   "cell_type": "code",
   "execution_count": 23,
   "id": "c36d6418",
   "metadata": {},
   "outputs": [],
   "source": [
    "T = np.float128(2*pi)/get_omega() # период вращения\n",
    "time_steps_number = 3600                # разбиваем период на шаги\n",
    "dt = T / time_steps_number             # длительность шага"
   ]
  },
  {
   "cell_type": "code",
   "execution_count": 24,
   "id": "84c08349",
   "metadata": {},
   "outputs": [],
   "source": [
    "fn_ = \"./results/stress_tensor_\" \\\n",
    "    + \"vc=\" + str(get_vc()) \\\n",
    "    + \"_Rl=\" + str(get_R_l()) \\\n",
    "    + \"_S=\" + str(get_S()) \\\n",
    "    + \"_sphere_R=\" + str(get_sphere_R()) \\\n",
    "    + \"_tsn=\"+str(time_steps_number)"
   ]
  },
  {
   "cell_type": "code",
   "execution_count": 25,
   "id": "a60e40b9",
   "metadata": {},
   "outputs": [],
   "source": [
    "fn_up = fn_ + \"_up\""
   ]
  },
  {
   "cell_type": "code",
   "execution_count": 26,
   "id": "6d8b5788",
   "metadata": {},
   "outputs": [],
   "source": [
    "fn_dw = fn_ + \"_dw\""
   ]
  },
  {
   "cell_type": "code",
   "execution_count": 27,
   "id": "626dccbe",
   "metadata": {},
   "outputs": [
    {
     "data": {
      "text/plain": [
       "'./results/stress_tensor_vc=0.8_Rl=1.0_S=0.05_sphere_R=6.1499999999999995_tsn=3600'"
      ]
     },
     "execution_count": 27,
     "metadata": {},
     "output_type": "execute_result"
    }
   ],
   "source": [
    "fn_"
   ]
  },
  {
   "cell_type": "code",
   "execution_count": 28,
   "id": "9c895145",
   "metadata": {},
   "outputs": [],
   "source": [
    "file_up = open(fn_up, 'a')\n",
    "file_up.close()"
   ]
  },
  {
   "cell_type": "code",
   "execution_count": 29,
   "id": "53ef9f3b",
   "metadata": {},
   "outputs": [],
   "source": [
    "file_dw = open(fn_dw, 'a')\n",
    "file_dw.close()"
   ]
  },
  {
   "cell_type": "code",
   "execution_count": 30,
   "id": "f2a426e1",
   "metadata": {},
   "outputs": [],
   "source": [
    "file_ = open(fn_, 'a')\n",
    "file_.close()"
   ]
  },
  {
   "cell_type": "code",
   "execution_count": 31,
   "id": "b4911501",
   "metadata": {},
   "outputs": [],
   "source": [
    "t_py = []\n",
    "t_py_up = []\n",
    "t_py_dw = []\n",
    "sum_py = 0\n",
    "sum_py_up = 0\n",
    "sum_py_dw = 0\n",
    "for i in range(0, time_steps_number):\n",
    "    t_i = i * dt\n",
    "\n",
    "    ans_dw = stress_tensor_down_half_sphere_R_t(t_i)\n",
    "    sum_py_dw += ans_dw[0] * dt / T\n",
    "\n",
    "    file_dw = open(fn_dw, 'a')\n",
    "    file_dw.write(str(i)\n",
    "                  + \" \"\n",
    "                  + str((i/time_steps_number).n())\n",
    "                  + \" \" + str(ans_dw)\n",
    "                  + \" \" + str(sum_py_dw)\n",
    "                  + \"\\n\")\n",
    "    file_dw.close()\n",
    "\n",
    "    ans_up = stress_tensor_upper_half_sphere_R_t(t_i)\n",
    "    sum_py_up += ans_up[0] * dt / T\n",
    "    \n",
    "    file_up = open(fn_up, 'a')\n",
    "    file_up.write(str(i)\n",
    "                  + \" \" + str((i/time_steps_number).n())\n",
    "                  + \" \" + str(ans_up)\n",
    "                  + \" \" + str(sum_py_up)\n",
    "                  + \"\\n\")\n",
    "    file_up.close()\n",
    "    \n",
    "    sum_py += (ans_up[0]+ans_dw[0]) * dt / T\n",
    "    \n",
    "    file_ = open(fn_, 'a')\n",
    "    file_.write(str(i)\n",
    "                + \" \" + str((i/time_steps_number).n())\n",
    "                + \" \" + str(ans_up[0]+ans_dw[0])\n",
    "                + \" \" + str(sum_py)\n",
    "                + \"\\n\")\n",
    "    file_.close()\n",
    "    \n",
    "    t_py_up += [(i/time_steps_number, ans_up[0])]\n",
    "    t_py_dw += [(i/time_steps_number, ans_dw[0])]\n",
    "    t_py += [(i/time_steps_number, ans_up[0]+ans_dw[0])]"
   ]
  },
  {
   "cell_type": "code",
   "execution_count": 32,
   "id": "9baf0cc4",
   "metadata": {},
   "outputs": [
    {
     "data": {
      "image/png": "[encoded data removed]",
      "text/plain": [
       "Graphics object consisting of 1 graphics primitive"
      ]
     },
     "execution_count": 32,
     "metadata": {},
     "output_type": "execute_result"
    }
   ],
   "source": [
    "list_plot(t_py)"
   ]
  },
  {
   "cell_type": "code",
   "execution_count": 33,
   "id": "5e83061b",
   "metadata": {},
   "outputs": [
    {
     "data": {
      "text/plain": [
       "-17.222666699873898024"
      ]
     },
     "execution_count": 33,
     "metadata": {},
     "output_type": "execute_result"
    }
   ],
   "source": [
    "# интегральная сумма количества импульса, вытекающего в единицу времени из объема воображаемой сферы по периоду\n",
    "# она же\n",
    "# интегральная сумма силы приложенной к поверхности воображаемой сферы по периоду\n",
    "sum_py = 0\n",
    "for (t_i, py) in t_py:\n",
    "    sum_py += py * dt\n",
    "sum_py"
   ]
  },
  {
   "cell_type": "code",
   "execution_count": 34,
   "id": "03ec6ada",
   "metadata": {},
   "outputs": [
    {
     "data": {
      "text/plain": [
       "-2.1928580308072890763"
      ]
     },
     "execution_count": 34,
     "metadata": {},
     "output_type": "execute_result"
    }
   ],
   "source": [
    "# интегральная сумма силы приложенной к поверхности воображаемой сферы по периоду отнесённая к периоду\n",
    "sum_py / T"
   ]
  },
  {
   "cell_type": "code",
   "execution_count": 35,
   "id": "0d6f2324",
   "metadata": {},
   "outputs": [
    {
     "data": {
      "text/plain": [
       "0.25425309564867471003"
      ]
     },
     "execution_count": 35,
     "metadata": {},
     "output_type": "execute_result"
    }
   ],
   "source": [
    "# интегральная сумма компоненты силы по оси y, приложенной к зарядам, по периоду отнесённая к периоду\n",
    "sum_fy / T"
   ]
  },
  {
   "cell_type": "code",
   "execution_count": 36,
   "id": "06b386a2",
   "metadata": {},
   "outputs": [
    {
     "data": {
      "text/plain": [
       "-8.624705336281789777"
      ]
     },
     "execution_count": 36,
     "metadata": {},
     "output_type": "execute_result"
    }
   ],
   "source": [
    "sum_py/sum_fy"
   ]
  },
  {
   "cell_type": "code",
   "execution_count": 37,
   "id": "437a1e42",
   "metadata": {},
   "outputs": [
    {
     "data": {
      "text/plain": [
       "-56.198103398551282627"
      ]
     },
     "execution_count": 37,
     "metadata": {},
     "output_type": "execute_result"
    }
   ],
   "source": [
    "# интегральная сумма по периоду количества импульса,\n",
    "# вытекающего в единицу времени из объема воображаемой сферы\n",
    "# через верхнюю полусферу\n",
    "# она же\n",
    "# интегральная сумма силы приложенной к поверхности верхней воображаемой полусферы по периоду\n",
    "sum_py_up = 0\n",
    "for (t_i, py) in t_py_up:\n",
    "    sum_py_up += py * dt\n",
    "sum_py_up"
   ]
  },
  {
   "cell_type": "code",
   "execution_count": 38,
   "id": "287764f3",
   "metadata": {},
   "outputs": [
    {
     "data": {
      "text/plain": [
       "-7.1553647586151040766"
      ]
     },
     "execution_count": 38,
     "metadata": {},
     "output_type": "execute_result"
    }
   ],
   "source": [
    "# интегральная сумма силы приложенной к поверхности верхней воображаемой полусферы по периоду отнесённая к периоду\n",
    "sum_py_up / T"
   ]
  },
  {
   "cell_type": "code",
   "execution_count": 39,
   "id": "53945cbd",
   "metadata": {},
   "outputs": [
    {
     "data": {
      "text/plain": [
       "38.97543669867738464"
      ]
     },
     "execution_count": 39,
     "metadata": {},
     "output_type": "execute_result"
    }
   ],
   "source": [
    "# интегральная сумма по периоду количества импульса,\n",
    "# вытекающего в единицу времени из объема воображаемой сферы\n",
    "# через нижнюю полусферу\n",
    "# она же\n",
    "# интегральная сумма силы приложенной к поверхности нижней воображаемой полусферы по периоду\n",
    "sum_py_dw = 0\n",
    "for (t_i, py) in t_py_dw:\n",
    "    sum_py_dw += py * dt\n",
    "sum_py_dw"
   ]
  },
  {
   "cell_type": "code",
   "execution_count": 40,
   "id": "4fe14b1a",
   "metadata": {},
   "outputs": [
    {
     "data": {
      "text/plain": [
       "4.962506727807815005"
      ]
     },
     "execution_count": 40,
     "metadata": {},
     "output_type": "execute_result"
    }
   ],
   "source": [
    "# интегральная сумма силы приложенной к поверхности нижней воображаемой полусферы по периоду отнесённая к периоду\n",
    "sum_py_dw / T"
   ]
  },
  {
   "cell_type": "code",
   "execution_count": 41,
   "id": "8268acc3",
   "metadata": {},
   "outputs": [],
   "source": [
    "# интеграл силы приложенной к поверхности верхней воображаемой полусферы по периоду\n",
    "\n",
    "Maxwells_stress_tensor_R_upper_half_sphere = scipy_integrate.nquad( \\\n",
    "    spherical_calc_Maxwells_stress_tensor_R_t, \\\n",
    "        [ [0, np.float128(pi)/2],  [0, np.float128(2*pi)],  [0, T]], opts=nquad_opts_2)\n",
    "#                theta                  varphi                t"
   ]
  },
  {
   "cell_type": "code",
   "execution_count": 42,
   "id": "09517441",
   "metadata": {},
   "outputs": [
    {
     "data": {
      "text/plain": [
       "(-56.19810339913391, 1.425492829483015e-05)"
      ]
     },
     "execution_count": 42,
     "metadata": {},
     "output_type": "execute_result"
    }
   ],
   "source": [
    "# интеграл силы приложенной к поверхности верхней воображаемой полусферы по периоду\n",
    "\n",
    "Maxwells_stress_tensor_R_upper_half_sphere\n",
    "# 'epsabs' : 1.0e-01, 'epsrel' : 1.0e-03, 'limit'  : 100\n",
    "# (-5.619771707649721, 0.09951167416151144)\n",
    "# 'epsabs' : 1.49e-07, 'epsrel' : 1.49e-07, 'limit'  : 100\n",
    "# (-5.619810340078861, 2.5359979462970916e-07)"
   ]
  },
  {
   "cell_type": "code",
   "execution_count": 43,
   "id": "22a3ce44",
   "metadata": {},
   "outputs": [],
   "source": [
    "# интеграл силы приложенной к поверхности нижней воображаемой полусферы по периоду\n",
    "\n",
    "Maxwells_stress_tensor_R_down_half_sphere = scipy_integrate.nquad( \\\n",
    "    spherical_calc_Maxwells_stress_tensor_R_t, \\\n",
    "        [ [np.float128(pi)/2, np.float128(pi)],  [0, np.float128(2*pi)],  [0, T]], opts=nquad_opts_2)\n",
    "#                theta                            varphi                   t"
   ]
  },
  {
   "cell_type": "code",
   "execution_count": 44,
   "id": "3be8cbed",
   "metadata": {},
   "outputs": [
    {
     "data": {
      "text/plain": [
       "(38.97543669866311, 3.4945858402715463e-06)"
      ]
     },
     "execution_count": 44,
     "metadata": {},
     "output_type": "execute_result"
    }
   ],
   "source": [
    "# интеграл силы приложенной к поверхности нижней воображаемой полусферы по периоду\n",
    "Maxwells_stress_tensor_R_down_half_sphere\n",
    "# 'epsabs' : 1.0e-01, 'epsrel' : 1.0e-03, 'limit'  : 100\n",
    "# (3.8978874205212657, 0.09897620978994888)\n",
    "# 'epsabs' : 1.49e-07, 'epsrel' : 1.49e-07, 'limit'  : 100\n",
    "# (3.8975436700805086, 1.3240039717966676e-07)"
   ]
  },
  {
   "cell_type": "code",
   "execution_count": 45,
   "id": "4d495832",
   "metadata": {},
   "outputs": [
    {
     "data": {
      "text/plain": [
       "-17.222666700470803"
      ]
     },
     "execution_count": 45,
     "metadata": {},
     "output_type": "execute_result"
    }
   ],
   "source": [
    "Maxwells_stress_tensor_R_upper_half_sphere[0] + Maxwells_stress_tensor_R_down_half_sphere[0]"
   ]
  },
  {
   "cell_type": "code",
   "execution_count": 46,
   "id": "b3b43dd9",
   "metadata": {},
   "outputs": [],
   "source": [
    "# интеграл силы приложенной к поверхности воображаемой сферы по периоду\n",
    "\n",
    "Maxwells_stress_tensor_R = scipy_integrate.nquad( \\\n",
    "    spherical_calc_Maxwells_stress_tensor_R_t, \\\n",
    "        [ [0, np.float128(pi)],  [0, np.float128(2*pi)],  [0, T]], opts=nquad_opts_2)\n",
    "#                theta                  varphi              t"
   ]
  },
  {
   "cell_type": "code",
   "execution_count": 47,
   "id": "a6f8a655",
   "metadata": {},
   "outputs": [
    {
     "data": {
      "text/plain": [
       "(-17.22266669994365, 1.4259473519176882e-05)"
      ]
     },
     "execution_count": 47,
     "metadata": {},
     "output_type": "execute_result"
    }
   ],
   "source": [
    "# интеграл силы приложенной к поверхности воображаемой сферы по периоду\n",
    "Maxwells_stress_tensor_R\n",
    "# v_c = np.float128(0.984)\n",
    "#         result                  abserr\n",
    "# (-1.553907207973527e-07,  1.0236458948831668)   # 'epsabs' : 1.49e-03, 'epsrel' : 1.49e-03, 'limit'  : 50\n",
    "# (-1.5539075127251786e-07, 0.009103807089559712) # 'epsabs' : 1.49e-05, 'epsrel' : 1.49e-05, 'limit'  : 200\n",
    "\n",
    "# 'epsabs' : 1.49e-07, 'epsrel' : 1.49e-07, 'limit'  : 200\n",
    "# IntegrationWarning: The occurrence of roundoff error is detected, which prevents \n",
    "#  the requested tolerance from being achieved.  The error may be \n",
    "#  underestimated.\n",
    "\n",
    "# './results/stress_tensor_vc=0.8_Rl=10.0_S=0.5_sphere_R=61.5_tsn=3600'\n",
    "# -1.7222666724181730717\n",
    "# 'epsabs' : 1.49e-07, 'epsrel' : 1.49e-07, 'limit'  : 100\n",
    "# (-1.7222666701014222, 1.4259473161124864e-07)\n",
    "# (-1.7222666701014226, 1.4259473243003793e-07)\n",
    "\n",
    "# './results/stress_tensor_vc=0.8_Rl=1.0_S=0.05_sphere_R=6.1499999999999995_tsn=3600'\n",
    "# 'epsabs' : 1.49e-07, 'epsrel' : 1.49e-07, 'limit'  : 100\n",
    "# (-17.22266669994365, 1.4259473519176882e-05)"
   ]
  },
  {
   "cell_type": "code",
   "execution_count": 51,
   "id": "3442480c",
   "metadata": {},
   "outputs": [
    {
     "data": {
      "text/plain": [
       "-2.1928580308161703947"
      ]
     },
     "execution_count": 51,
     "metadata": {},
     "output_type": "execute_result"
    }
   ],
   "source": [
    "# интеграл силы приложенной к поверхности воображаемой сферы по периоду отнесённый к периоду\n",
    "Maxwells_stress_tensor_R[0] / T"
   ]
  },
  {
   "cell_type": "code",
   "execution_count": 48,
   "id": "53951aad",
   "metadata": {},
   "outputs": [
    {
     "data": {
      "text/plain": [
       "(1.9968991436065568, 4.825394424371916e-10)"
      ]
     },
     "execution_count": 48,
     "metadata": {},
     "output_type": "execute_result"
    }
   ],
   "source": [
    "# интеграл компоненты силы по оси y, приложенной к зарядам, по периоду\n",
    "int_fy"
   ]
  },
  {
   "cell_type": "code",
   "execution_count": 49,
   "id": "5ed32023",
   "metadata": {},
   "outputs": [
    {
     "data": {
      "text/plain": [
       "-8.624705336313662"
      ]
     },
     "execution_count": 49,
     "metadata": {},
     "output_type": "execute_result"
    }
   ],
   "source": [
    "# интеграл силы приложенной к поверхности воображаемой сферы по периоду\n",
    "# отнесённый к\n",
    "# интегралу компоненты силы по оси y, приложенной к зарядам, по периоду\n",
    "Maxwells_stress_tensor_R[0]/int_fy[0]"
   ]
  },
  {
   "cell_type": "code",
   "execution_count": null,
   "id": "592936d8",
   "metadata": {},
   "outputs": [],
   "source": []
  },
  {
   "cell_type": "code",
   "execution_count": 96,
   "id": "05f5e5ae",
   "metadata": {},
   "outputs": [],
   "source": [
    "arr_vc = [\n",
    "    0.0000001, \n",
    "    0.000001, \n",
    "    0.00001, \n",
    "    0.0001, \n",
    "    0.001, \n",
    "    0.01, \n",
    "    0.02, \n",
    "    0.03,\n",
    "    0.04,\n",
    "    0.05,\n",
    "    0.10,\n",
    "    0.15,\n",
    "    0.20,\n",
    "    0.25,\n",
    "    0.30,\n",
    "    0.40,\n",
    "    0.50,\n",
    "    0.60,\n",
    "    0.70,\n",
    "    0.80,\n",
    "    0.90,\n",
    "]"
   ]
  },
  {
   "cell_type": "code",
   "execution_count": 99,
   "id": "d71cfe8c",
   "metadata": {},
   "outputs": [],
   "source": [
    "nquad_opts_2 = { 'epsabs' : 1.0e-04,\n",
    "                 'epsrel' : 1.0e-05,\n",
    "                 'limit'  : 100 }"
   ]
  },
  {
   "cell_type": "code",
   "execution_count": 100,
   "id": "d4d58d2f",
   "metadata": {},
   "outputs": [],
   "source": [
    "def calc_f_vc(N):\n",
    "    f_vc = []\n",
    "    for vc in arr_vc:\n",
    "        set_vc(vc)\n",
    "        #print(\"get_omega_d(\",vc,\")=\", get_omega_d(vc))\n",
    "        T = np.float128(2*pi)/get_omega() # период вращения\n",
    "        print(\"T = \", T)\n",
    "        # интеграл силы по периоду\n",
    "        \n",
    "        # интеграл компоненты силы по оси y, приложенной к зарядам, по периоду\n",
    "        int_fy = scipy_integrate.quad(lambda t : calc_sum_Fy_t(N=N, t = t), 0, T)\n",
    "        # интеграл силы приложенной к поверхности верхней воображаемой полусферы по периоду\n",
    "        Maxwells_stress_tensor_R_upper_half_sphere = scipy_integrate.nquad( \\\n",
    "            spherical_calc_Maxwells_stress_tensor_R_t, \\\n",
    "                [ [0, np.float128(pi)/2],  [0, np.float128(2*pi)],  [0, T]], opts=nquad_opts_2)\n",
    "        Maxwells_stress_tensor_R_down_half_sphere = scipy_integrate.nquad( \\\n",
    "            spherical_calc_Maxwells_stress_tensor_R_t, \\\n",
    "                [ [np.float128(pi)/2, np.float128(pi)],  [0, np.float128(2*pi)],  [0, T]], opts=nquad_opts_2)\n",
    "        print(\"vc=\", vc,\n",
    "              \"fy=\", int_fy, int_fy[0]/T,\n",
    "              \"py_up=\", Maxwells_stress_tensor_R_upper_half_sphere, Maxwells_stress_tensor_R_upper_half_sphere[0]/T,\n",
    "              \"py_dw=\", Maxwells_stress_tensor_R_down_half_sphere, Maxwells_stress_tensor_R_down_half_sphere[0]/T\n",
    "             )\n",
    "        f_vc += [(vc, int_fy[0]/T, Maxwells_stress_tensor_R_upper_half_sphere[0]/T, Maxwells_stress_tensor_R_down_half_sphere[0]/T)]\n",
    "    return f_vc"
   ]
  },
  {
   "cell_type": "code",
   "execution_count": 101,
   "id": "366a3437",
   "metadata": {},
   "outputs": [
    {
     "name": "stdout",
     "output_type": "stream",
     "text": [
      "T =  62831853.071795865162\n",
      "vc= 1.00000000000000e-7 fy= (-8.776563589958555e-12, 2.3798598407447543e-13) -1.3968334787022544792e-19 py_up= (1.0221980554302419e-22, 4.8106961559449274e-26) 1.6268787334064621874e-30 py_dw= (-1.0221980554302419e-22, 4.8106961559237685e-26) -1.6268787334064621874e-30\n",
      "T =  6283185.307179586516\n",
      "vc= 1.00000000000000e-6 fy= (-3.2884477848422293e-10, 1.1044826427399455e-09) -5.23372720057234273e-17 py_up= (69.69020199008388, 0.00015051659225662206) 1.109154013179449062e-05 py_dw= (-65.99523171452893, 0.0001897761869287251) -1.0503467347862297579e-05\n",
      "T =  628318.5307179585718\n",
      "vc= 0.0000100000000000000 fy= (4.512127588781442e-07, 7.299619758830679e-10) 7.181274096158813709e-13 py_up= (73.15324179687744, 0.00020668570780912887) 0.00011642700035169689381 py_dw= (-39.514076740364494, 0.00028510978135898313) -6.2888606349414970075e-05\n",
      "T =  62831.853071795859307\n",
      "vc= 0.000100000000000000 fy= (3.083524765134149e-09, 6.135303243661609e-09) 4.9075820851737545694e-14 py_up= (14.445831861566388, 9.250151375516859e-05) 0.00022991255478426871578 py_dw= (-14.44583186610524, 9.250151375367701e-05) -0.0002299125548565067742\n",
      "T =  6283.185307179586101\n",
      "vc= 0.00100000000000000 fy= (1.826538477175249e-10, 1.1520253957248521e-10) 2.9070262738998395898e-14 py_up= (1.4446422310647256, 9.249853430108135e-05) 0.000229921952073255122 py_dw= (-1.4446426849534089, 9.24985327273829e-05) -0.00022992202431188268347\n",
      "T =  628.3185307179586101\n",
      "vc= 0.0100000000000000 fy= (2.5859591976395197e-08, 1.4729657681904377e-11) 4.1156818893828110743e-11 py_up= (0.145025662192234, 9.22014622611455e-05) 0.0002308155101306944159 py_dw= (-0.14507109957716224, 9.21998934035291e-05) -0.00023088782597481939766\n",
      "T =  314.15926535897930505\n",
      "vc= 0.0200000000000000 fy= (4.121836438304471e-07, 2.7089255912324717e-11) 1.3120212875448973566e-09 py_up= (0.07326613554624728, 9.13063501744599e-05) 0.00023321335266852152959 py_dw= (-0.0734484736488129, 9.129391356336559e-05) -0.00023379375287526785969\n",
      "T =  209.43951023931954881\n",
      "vc= 0.0300000000000000 fy= (2.085069095189588e-06, 1.392911208723085e-10) 9.955471595627057161e-09 py_up= (0.049508379659031126, 8.98268361446284e-05) 0.00023638510041615142672 py_dw= (-0.04992085113041244, 8.978546247000132e-05) -0.00023835450662279312536\n",
      "T =  157.07963267948965252\n",
      "vc= 0.0400000000000000 fy= (6.585856779180656e-06, 1.7727445347990537e-09) 4.1926866436074818812e-08 py_up= (0.037583582603669945, 8.777756436077031e-05) 0.00023926451801906551754 py_dw= (-0.03832238108761327, 8.768129032831223e-05) -0.00024396785524580067897\n",
      "T =  125.663706143591717666\n",
      "vc= 0.0500000000000000 fy= (1.606659019166397e-05, 1.3166851453203122e-08) 1.2785386238175416993e-07 py_up= (0.030213275587148286, 8.517759066979574e-05) 0.00024042960783461682824 py_dw= (-0.03137876569442559, 8.499350324724064e-05) -0.00024970428341951113886\n",
      "T =  62.831853071795858833\n",
      "vc= 0.100000000000000 fy= (0.00025550025751257255, 2.103438206108133e-12) 4.066412894437809151e-06 py_up= (0.00904908573109548, 8.814227560767118e-05) 0.00014402067245661832607 py_dw= (-0.014088100230716822, 8.659430953994126e-05) -0.00022421907904926535065\n",
      "T =  41.887902047863909763\n",
      "vc= 0.150000000000000 fy= (0.0012814660771625075, 2.8959176620150293e-12) 3.059274908774898554e-05 py_up= (-0.018581528271380984, 5.0600433362305124e-05) -0.00044360131118881271405 py_dw= (0.005770185000538076, 5.008194365723358e-05) 0.00013775301980855183776\n",
      "T =  31.415926535897929417\n",
      "vc= 0.200000000000000 fy= (0.004004427540896249, 4.005065697089202e-12) 0.00012746488747739220012 py_up= (-0.0701753819962075, 3.4133182729656486e-05) -0.0022337517856116844574 py_dw= (0.04349655375827679, 2.1976949384487632e-05) 0.0013845383076184218358\n",
      "T =  25.132741228718344928\n",
      "vc= 0.250000000000000 fy= (0.009662186859293709, 5.102226873200747e-12) 0.00038444619993353730232 py_up= (-0.16115346945280085, 8.976610493732513e-05) -0.0064120928149555032556 py_dw= (0.11094181668412294, 8.970482676146274e-05) 0.004414234630218267827\n",
      "T =  20.943951023931954881\n",
      "vc= 0.300000000000000 fy= (0.019830429974723007, 6.321992240658994e-12) 0.0009468332862344567075 py_up= (-0.3119538501562624, 7.395459204176842e-05) -0.014894699180675277347 py_dw= (0.2229634250651679, 8.352886216339743e-05) 0.010645719368346259792\n",
      "T =  15.707963267948964708\n",
      "vc= 0.400000000000000 fy= (0.06221190443588759, 9.587081826766329e-12) 0.0039605328440528484237 py_up= (-0.9278171443113645, 8.38803470667648e-05) -0.059066673921024031054 py_dw= (0.6759004642517186, 9.896075853107306e-05) 0.04302915996950716671\n",
      "T =  12.566370614359172464\n",
      "vc= 0.500000000000000 fy= (0.15609789745977853, 2.020428732947911e-11) 0.012421875993487783523 py_up= (-2.4157927828522374, 9.927886647343567e-05) -0.1922426814383296639 py_dw= (1.749283894025511, 9.944628612951389e-05) 0.13920358930259965059\n",
      "T =  10.471975511965977441\n",
      "vc= 0.600000000000000 fy= (0.3537235487538771, 1.415766993641343e-10) 0.03377811076331194766 py_up= (-6.149978050257634, 9.997810252908248e-05) -0.58727964396309554696 py_dw= (4.391823359712672, 9.98006270564785e-05) 0.41938823813083610492\n",
      "T =  8.97597901025655233\n",
      "vc= 0.700000000000000 fy= (0.7946331060347728, 8.319162559091974e-11) 0.08852885073893020287 py_up= (-16.767958295617873, 0.00013754132387839104) -1.8680924138144358218 py_dw= (11.790721447540575, 0.00012137947863399358) 1.3135861206969969562\n",
      "T =  7.853981633974482354\n",
      "vc= 0.800000000000000 fy= (1.9968991436065568, 4.825394424371916e-10) 0.2542530956487648935 py_up= (-56.19810337023493, 0.0005058318582964461) -7.155364755009754362 py_dw= (38.97543668417499, 0.0006236917674148952) 4.962506725961312398\n",
      "T =  6.981317007977317863\n",
      "vc= 0.900000000000000 fy= (7.718711736123256, 1.1953706297376798e-10) 1.1056240143948973184 py_up= (-340.0191431128233, 0.01060292564568499) -48.70415463504877261 py_dw= (232.90630910830401, 0.00811738059360323) 33.36137133468796094\n"
     ]
    }
   ],
   "source": [
    "f_vc = calc_f_vc(N=1)"
   ]
  },
  {
   "cell_type": "code",
   "execution_count": 102,
   "id": "9786a841",
   "metadata": {},
   "outputs": [],
   "source": [
    "def latex_arr_lst(f_vc, titles, indexes):\n",
    "    ltx = \"\\\\begin{array}{\"\n",
    "    for index in indexes:\n",
    "        ltx += 'c'\n",
    "    ltx += \"} \"\n",
    "    ititle = 0\n",
    "    for title in titles:\n",
    "        ltx += title\n",
    "        if ititle < len(titles) - 1:\n",
    "            ltx += \" & \"\n",
    "        else:\n",
    "            ltx += \" \\\\\\\\\"\n",
    "        ititle += 1\n",
    "    for (vc, fy, py_up, py_dw) in f_vc:\n",
    "        ltx += \" \"\n",
    "        ltx += \"{:.7f} \".format(vc)\n",
    "        ltx += \" & \"\n",
    "        ltx += \"{:.6e}\".format(fy)\n",
    "        ltx += \" & \"\n",
    "        ltx += \"{:.6e}\".format(py_up)\n",
    "        ltx += \" & \"\n",
    "        ltx += \"{:.6e}\".format(py_dw)\n",
    "        ltx += \" & \"\n",
    "        ltx += \"{:.6e}\".format(py_up+py_dw)\n",
    "        ltx += \" & \"\n",
    "        #ltx += \"{:.6e}\".format(fy/(py_up+py_dw))\n",
    "        #ltx += \" & \"\n",
    "        ltx += \"{:.6e}\".format((py_up+py_dw)/fy)\n",
    "        ltx += \" & \"\n",
    "        ltx += \"{:.6e}\".format(fy+(py_up+py_dw))\n",
    "        ltx += \" \\\\\\\\\" \n",
    "    ltx += \"\\\\end{array}\"\n",
    "    return ltx"
   ]
  },
  {
   "cell_type": "code",
   "execution_count": 103,
   "id": "61909d90",
   "metadata": {},
   "outputs": [
    {
     "data": {
      "text/latex": [
       "$\\displaystyle \\begin{array}{ccccc} \\frac{v}{c} & f_y & \\int\\limits_{S^{up}}^{} T_{yn} dS & \\int\\limits_{S^{dw}}^{} T_{yn} dS & \\int\\limits_{S}^{} T_{yn} dS & \\frac{f_{h \\nu}}{f_y} & {f_y}+{f_{h \\nu}} \\\\ 0.0000001  & -1.396833e-19 & 1.626879e-30 & -1.626879e-30 & 0.000000e+00 & -0.000000e+00 & -1.396833e-19 \\\\ 0.0000010  & -5.233727e-17 & 1.109154e-05 & -1.050347e-05 & 5.880728e-07 & -1.123621e+10 & 5.880728e-07 \\\\ 0.0000100  & 7.181274e-13 & 1.164270e-04 & -6.288861e-05 & 5.353839e-05 & 7.455278e+07 & 5.353839e-05 \\\\ 0.0001000  & 4.907582e-14 & 2.299126e-04 & -2.299126e-04 & -7.223806e-14 & -1.471968e+00 & -2.316224e-14 \\\\ 0.0010000  & 2.907026e-14 & 2.299220e-04 & -2.299220e-04 & -7.223863e-11 & -2.484966e+03 & -7.220956e-11 \\\\ 0.0100000  & 4.115682e-11 & 2.308155e-04 & -2.308878e-04 & -7.231584e-08 & -1.757081e+03 & -7.227469e-08 \\\\ 0.0200000  & 1.312021e-09 & 2.332134e-04 & -2.337938e-04 & -5.804002e-07 & -4.423710e+02 & -5.790882e-07 \\\\ 0.0300000  & 9.955472e-09 & 2.363851e-04 & -2.383545e-04 & -1.969406e-06 & -1.978215e+02 & -1.959451e-06 \\\\ 0.0400000  & 4.192687e-08 & 2.392645e-04 & -2.439679e-04 & -4.703337e-06 & -1.121796e+02 & -4.661410e-06 \\\\ 0.0500000  & 1.278539e-07 & 2.404296e-04 & -2.497043e-04 & -9.274676e-06 & -7.254122e+01 & -9.146822e-06 \\\\ 0.1000000  & 4.066413e-06 & 1.440207e-04 & -2.242191e-04 & -8.019841e-05 & -1.972215e+01 & -7.613199e-05 \\\\ 0.1500000  & 3.059275e-05 & -4.436013e-04 & 1.377530e-04 & -3.058483e-04 & -9.997411e+00 & -2.752555e-04 \\\\ 0.2000000  & 1.274649e-04 & -2.233752e-03 & 1.384538e-03 & -8.492135e-04 & -6.662333e+00 & -7.217486e-04 \\\\ 0.2500000  & 3.844462e-04 & -6.412093e-03 & 4.414235e-03 & -1.997858e-03 & -5.196717e+00 & -1.613412e-03 \\\\ 0.3000000  & 9.468333e-04 & -1.489470e-02 & 1.064572e-02 & -4.248980e-03 & -4.487569e+00 & -3.302147e-03 \\\\ 0.4000000  & 3.960533e-03 & -5.906667e-02 & 4.302916e-02 & -1.603751e-02 & -4.049332e+00 & -1.207698e-02 \\\\ 0.5000000  & 1.242188e-02 & -1.922427e-01 & 1.392036e-01 & -5.303909e-02 & -4.269813e+00 & -4.061722e-02 \\\\ 0.6000000  & 3.377811e-02 & -5.872796e-01 & 4.193882e-01 & -1.678914e-01 & -4.970420e+00 & -1.341133e-01 \\\\ 0.7000000  & 8.852885e-02 & -1.868092e+00 & 1.313586e+00 & -5.545063e-01 & -6.263566e+00 & -4.659774e-01 \\\\ 0.8000000  & 2.542531e-01 & -7.155365e+00 & 4.962507e+00 & -2.192858e+00 & -8.624705e+00 & -1.938605e+00 \\\\ 0.9000000  & 1.105624e+00 & -4.870415e+01 & 3.336137e+01 & -1.534278e+01 & -1.387704e+01 & -1.423716e+01 \\\\\\end{array}$"
      ],
      "text/plain": [
       "<IPython.core.display.Math object>"
      ]
     },
     "metadata": {},
     "output_type": "display_data"
    }
   ],
   "source": [
    "from IPython.display import display, Math, Latex\n",
    "ltx = latex_arr_lst(f_vc, \\\n",
    "                           titles = [\"\\\\frac{v}{c}\",\"f_y\",\n",
    "                                     \"\\\\int\\\\limits_{S^{up}}^{} T_{yn} dS\",\n",
    "                                     \"\\\\int\\\\limits_{S^{dw}}^{} T_{yn} dS\",\n",
    "                                     \"\\\\int\\\\limits_{S}^{} T_{yn} dS\",\n",
    "                                     #\"\\\\frac{f_y}{f_{h \\\\nu}}\",\n",
    "                                     \"\\\\frac{f_{h \\\\nu}}{f_y}\",\n",
    "                                     \"{f_y}+{f_{h \\\\nu}}\",\n",
    "                                    ], \n",
    "                           indexes = [0, 1, 2, 3, 4])\n",
    "display(Math(ltx))"
   ]
  },
  {
   "cell_type": "code",
   "execution_count": null,
   "id": "95230421",
   "metadata": {},
   "outputs": [],
   "source": []
  }
 ],
 "metadata": {
  "kernelspec": {
   "display_name": "SageMath 9.6.beta7",
   "language": "sage",
   "name": "sagemath"
  },
  "language_info": {
   "codemirror_mode": {
    "name": "ipython",
    "version": 3
   },
   "file_extension": ".py",
   "mimetype": "text/x-python",
   "name": "python",
   "nbconvert_exporter": "python",
   "pygments_lexer": "ipython3",
   "version": "3.10.3"
  }
 },
 "nbformat": 4,
 "nbformat_minor": 5
}
