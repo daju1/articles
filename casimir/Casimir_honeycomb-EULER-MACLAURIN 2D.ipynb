{
 "cells": [
  {
   "cell_type": "markdown",
   "metadata": {},
   "source": [
    "$k_x = \\frac{\\pi}{a}\\,n_x$, $k_y = \\frac{\\pi}{a}\\,n_y$, $k_z = \\frac{\\pi}{L/2}\\,n_z$ (small cavity, one honeycomb),\n",
    "\n",
    "where $n_x$. $n_y$, $n_z$:\n",
    "\n",
    "are positive integers;"
   ]
  },
  {
   "cell_type": "markdown",
   "metadata": {},
   "source": [
    "$k = \\sqrt{k_x^2+k_y^2+k_z^2} = \\sqrt{\\kappa^2+k_z^2}$. "
   ]
  },
  {
   "cell_type": "markdown",
   "metadata": {},
   "source": [
    "$\\frac{1}{2\\,V}\\sum\\,\\hbar\\omega = \\frac{1}{a^2\\,\\pi}\\hbar\\,c\\int\\limits_{0}^{\\infty}\\left[{\\sum\\limits_{n_x=(0)1}^{\\infty}\\sum\\limits_{n_y=(0)1}^{\\infty}\\sqrt{n_x^2\\frac{\\pi^2}{a^2}+n_y^2\\frac{\\pi^2}{a^2}+k_z^2}}\\right]\\,dk_z$  (small cavity, one honeycomb),"
   ]
  },
  {
   "cell_type": "markdown",
   "metadata": {},
   "source": [
    "where the notation $\\left(0\\right) 1$ is meant to indicate that the term with $n = 0$\n",
    "has to be multiplied by $\\frac{1}{2}$. "
   ]
  },
  {
   "cell_type": "markdown",
   "metadata": {},
   "source": [
    "$\\frac{1}{2\\,V}\\sum\\,\\hbar\\omega = \\frac{1}{a^2\\,\\pi}\\hbar\\,c\\sum\\limits_{n_x=(0)1}^{\\infty}\\sum\\limits_{n_y=(0)1}^{\\infty}\\left[\\int\\limits_{0}^{\\infty}\\sqrt{n_x^2\\frac{\\pi^2}{a^2}+n_y^2\\frac{\\pi^2}{a^2}+k_z^2}\\,dk_z\\right]$  (small cavity, one honeycomb),"
   ]
  },
  {
   "cell_type": "code",
   "execution_count": null,
   "metadata": {},
   "outputs": [],
   "source": []
  },
  {
   "cell_type": "markdown",
   "metadata": {},
   "source": [
    "$\\delta\\,\\frac{E}{V} = \\frac{1}{a^2\\,\\pi}\\hbar\\,c\\left\\{\\sum\\limits_{n_x=(0)1}^{\\infty}\\sum\\limits_{n_y=(0)1}^{\\infty}\\left[\\,\\int\\limits_{0}^{\\infty}\\sqrt{n_x^2\\frac{\\pi^2}{a^2}+n_y^2\\frac{\\pi^2}{a^2}+k_z^2}\\,dk_z\\right] - \\int\\limits_{0}^{\\infty}\\int\\limits_{0}^{\\infty}\\left[\\,\\int\\limits_{0}^{\\infty}\\sqrt{k_x^2+k_y^2+k_z^2}\\,dk_z\\right]\\,dn_x\\,dn_y\\right\\}$"
   ]
  },
  {
   "cell_type": "code",
   "execution_count": null,
   "metadata": {},
   "outputs": [],
   "source": []
  },
  {
   "cell_type": "markdown",
   "metadata": {},
   "source": [
    "In order to obtain a finite result it is necessary to multiply the integrands\n",
    "by a function $f(k/k_m)$ which is unity for $k << k_m$ but tends to zero sufficiently rapidly for $(k/k_m)\\, \\rightarrow\\,\\infty$. where km may be defined by $f(1) = \\frac{1}{2}$.\n",
    "The physical meaning is obvious: for very short waves (X~rays e.g.)\n",
    "our plate is hardly an obstacle at all and therefore the zero point energy\n",
    "of these waves will not be influenced by the position of this plate. "
   ]
  },
  {
   "cell_type": "markdown",
   "metadata": {},
   "source": [
    "Introducing the variable $u^2 = a^2\\,k_z^2/\\pi^2$"
   ]
  },
  {
   "cell_type": "markdown",
   "metadata": {},
   "source": [
    "$du = a/\\pi\\,dk_z$"
   ]
  },
  {
   "cell_type": "markdown",
   "metadata": {},
   "source": [
    " and complex $n = n_x + i\\,n_y$\n",
    " \n",
    " we have $n n^* = n_x^2 + n_y^2$"
   ]
  },
  {
   "cell_type": "markdown",
   "metadata": {},
   "source": [
    "$\\delta\\,\\frac{E}{V} = \\hbar\\,c\\frac{\\pi}{a^4}\\left\\{\\sum\\limits_{n_x=\\left(0\\right)\\,1}^{\\infty} \\sum\\limits_{n_y=\\left(0\\right)\\,1}^{\\infty} \\int\\limits_{0}^{\\infty}{\\sqrt{n n^*+u^2}}f\\left(\\pi\\sqrt{n n^*+u^2}/\\left(a\\,k_m\\right)\\right)\\,d{u}-\\int\\limits_{0}^{\\infty}\\int\\limits_{0}^{\\infty}\\int\\limits_{0}^{\\infty}{\\sqrt{n n^*+u^2}}f\\left(\\pi\\sqrt{n n^*+u^2}/\\left(a\\,k_m\\right)\\right)\\,d{u}\\,d{n_x}\\,d{n_y}\\right\\}$"
   ]
  },
  {
   "cell_type": "markdown",
   "metadata": {},
   "source": [
    "Now we need the EULER-MACLAURIN 2D formula:"
   ]
  },
  {
   "cell_type": "markdown",
   "metadata": {},
   "source": [
    "$\\sum\\limits_{\\left(0\\right)\\,1}^{\\infty}\\sum\\limits_{\\left(0\\right)\\,1}^{\\infty}{F\\left(n_x, n_y\\right)}-\\int\\limits_{0}^{\\infty}\\int\\limits_{0}^{\\infty}{F\\left(n_x, n_y\\right)} = $"
   ]
  },
  {
   "cell_type": "code",
   "execution_count": 1,
   "metadata": {},
   "outputs": [],
   "source": [
    "# p = 2\n",
    "# my_euler_maclaurin1(my_euler_maclaurin1(f(x,y),x,a_x,b_x,p),y,a_y,b_y,p)"
   ]
  },
  {
   "cell_type": "markdown",
   "metadata": {},
   "source": [
    "$\\sum\\limits_{0}^{\\infty}\\sum\\limits_{0}^{\\infty}{F\\left(n_x, n_y\\right)} = $"
   ]
  },
  {
   "cell_type": "markdown",
   "metadata": {},
   "source": [
    "$$\\frac{1}{4} \\, F\\left(n_{x}, n_{y}\\right) + \\frac{1}{2} \\, \\int_{n_{y}}^{b_{y}} \\, F\\left(n_{x}, y\\right)\\,{d y} + \\, \\int_{n_{y}}^{b_{y}} \\, \\int_{n_{x}}^{b_{x}} F\\left(x, y\\right)\\,{d x}\\,{d y} + \\frac{1}{2} \\, \\int_{n_{x}}^{b_{x}} F\\left(x, n_{y}\\right)\\,{d x} - \\frac{1}{12} \\, \\int_{n_{y}}^{b_{y}} \\frac{\\partial}{\\partial n_{x}}F\\left(n_{x}, y\\right)\\,{d y} - \\frac{1}{12} \\, \\int_{n_{x}}^{b_{x}} \\frac{\\partial}{\\partial n_{y}}F\\left(x, n_{y}\\right)\\,{d x} - \\frac{1}{24} \\, \\frac{\\partial}{\\partial n_{x}}F\\left(n_{x}, n_{y}\\right) + \\frac{1}{144} \\, \\frac{\\partial^{2}}{\\partial n_{x}\\partial n_{y}}F\\left(n_{x}, n_{y}\\right) - \\frac{1}{24} \\, \\frac{\\partial}{\\partial n_{y}}F\\left(n_{x}, n_{y}\\right)$$"
   ]
  },
  {
   "cell_type": "code",
   "execution_count": 2,
   "metadata": {},
   "outputs": [],
   "source": [
    "# subs(n_x == 0, n_y == 0, b_x == Infinity, b_y == Infinity)"
   ]
  },
  {
   "cell_type": "markdown",
   "metadata": {},
   "source": [
    "$$\\frac{1}{4} \\, F\\left(0, 0\\right) + \\frac{1}{2} \\, \\int_{0}^{\\infty} \\, F\\left(0, y\\right)\\,{d y} + \\, \\int_{0}^{\\infty} \\, \\int_{0}^{\\infty} F\\left(x, y\\right)\\,{d x}\\,{d y} + \\frac{1}{2} \\, \\int_{0}^{\\infty} F\\left(x, 0\\right)\\,{d x} - \\frac{1}{12} \\, \\int_{0}^{\\infty} \\frac{\\partial}{\\partial n_{x}}F\\left(0, y\\right)\\,{d y} - \\frac{1}{12} \\, \\int_{0}^{\\infty} \\frac{\\partial}{\\partial n_{y}}F\\left(x, 0\\right)\\,{d x} - \\frac{1}{24} \\, \\frac{\\partial}{\\partial n_{x}}F\\left(0, 0\\right) + \\frac{1}{144} \\, \\frac{\\partial^{2}}{\\partial n_{x}\\partial n_{y}}F\\left(0, 0\\right) - \\frac{1}{24} \\, \\frac{\\partial}{\\partial n_{y}}F\\left(0, 0\\right)$$"
   ]
  },
  {
   "cell_type": "markdown",
   "metadata": {},
   "source": [
    "We apply 1D EULER-MACLAURIN formula:"
   ]
  },
  {
   "cell_type": "markdown",
   "metadata": {},
   "source": [
    "$\\sum\\limits_{\\left(0\\right)\\,1}^{\\infty}{F\\left(n\\right)}-\\int\\limits_{0}^{\\infty}{F\\left(n\\right)} = -\\,\\frac{1}{12}F'\\left(0\\right)\\,+\\,\\frac{1}{24\\times30}F'''\\left(0\\right)\\,+\\,...$"
   ]
  },
  {
   "cell_type": "markdown",
   "metadata": {},
   "source": [
    "$\\int\\limits_{0}^{\\infty}{F\\left(n\\right)} = \\sum\\limits_{\\left(0\\right)\\,1}^{\\infty}{F\\left(n\\right)} +\\,\\frac{1}{12}F'\\left(0\\right)\\,-\\,\\frac{1}{24\\times30}F'''\\left(0\\right)\\,+\\,...$"
   ]
  },
  {
   "cell_type": "markdown",
   "metadata": {},
   "source": [
    "And have"
   ]
  },
  {
   "cell_type": "markdown",
   "metadata": {},
   "source": [
    "$\\sum\\limits_{\\left(0\\right)\\,1}^{\\infty}\\sum\\limits_{\\left(0\\right)\\,1}^{\\infty}{F\\left(n_x, n_y\\right)}-\\int\\limits_{0}^{\\infty}\\int\\limits_{0}^{\\infty}{F\\left(n_x, n_y\\right)} = $"
   ]
  },
  {
   "cell_type": "markdown",
   "metadata": {},
   "source": [
    "$$ - \\frac{1}{12} \\, \\int_{0}^{\\infty} \\frac{\\partial}{\\partial n_{x}}F\\left(0, y\\right)\\,{d y} - \\frac{1}{12} \\, \\int_{0}^{\\infty} \\frac{\\partial}{\\partial n_{y}}F\\left(x, 0\\right)\\,{d x} + \\frac{1}{144} \\, \\frac{\\partial^{2}}{\\partial n_{x}\\partial n_{y}}F\\left(0, 0\\right)$$"
   ]
  },
  {
   "cell_type": "code",
   "execution_count": null,
   "metadata": {},
   "outputs": [],
   "source": [
    "# p = 4\n",
    "# my_euler_maclaurin1(my_euler_maclaurin1(f(x,y),x,a_x,b_x,p),y,a_y,b_y,p)"
   ]
  },
  {
   "cell_type": "markdown",
   "metadata": {},
   "source": [
    "$$\\frac{1}{4} \\, F\\left(n_{x}, n_{y}\\right) + \\frac{1}{2} \\, \\int_{n_{y}}^{b_{y}} \\, F\\left(n_{x}, y\\right)\\,{d y} + \\, \\int_{n_{y}}^{b_{y}} \\, \\int_{n_{x}}^{b_{x}} F\\left(x, y\\right)\\,{d x}\\,{d y} - \\frac{1}{12} \\, \\int_{n_{y}}^{b_{y}} \\, \\frac{\\partial}{\\partial n_{x}}F\\left(n_{x}, y\\right)\\,{d y} + \\frac{1}{2} \\, \\int_{n_{x}}^{b_{x}} F\\left(x, n_{y}\\right)\\,{d x} + \\frac{1}{720} \\, \\int_{n_{y}}^{b_{y}} \\frac{\\partial^{3}}{(\\partial n_{x})^{3}}F\\left(n_{x}, y\\right)\\,{d y} - \\frac{1}{12} \\, \\int_{n_{x}}^{b_{x}} \\frac{\\partial}{\\partial n_{y}}F\\left(x, n_{y}\\right)\\,{d x} + \\frac{1}{720} \\, \\int_{n_{x}}^{b_{x}} \\frac{\\partial^{3}}{(\\partial n_{y})^{3}}F\\left(x, n_{y}\\right)\\,{d x} - \\frac{1}{24} \\, \\frac{\\partial}{\\partial n_{x}}F\\left(n_{x}, n_{y}\\right) + \\frac{1}{1440} \\, \\frac{\\partial^{3}}{(\\partial n_{x})^{3}}F\\left(n_{x}, n_{y}\\right) - \\frac{1}{8640} \\, \\frac{\\partial^{4}}{(\\partial n_{x})^{3}\\partial n_{y}}F\\left(n_{x}, n_{y}\\right) + \\frac{1}{518400} \\, \\frac{\\partial^{6}}{(\\partial n_{x})^{3}(\\partial n_{y})^{3}}F\\left(n_{x}, n_{y}\\right) + \\frac{1}{144} \\, \\frac{\\partial^{2}}{\\partial n_{x}\\partial n_{y}}F\\left(n_{x}, n_{y}\\right) - \\frac{1}{8640} \\, \\frac{\\partial^{4}}{\\partial n_{x}(\\partial n_{y})^{3}}F\\left(n_{x}, n_{y}\\right) - \\frac{1}{24} \\, \\frac{\\partial}{\\partial n_{y}}F\\left(n_{x}, n_{y}\\right) + \\frac{1}{1440} \\, \\frac{\\partial^{3}}{(\\partial n_{y})^{3}}F\\left(n_{x}, n_{y}\\right)$$"
   ]
  },
  {
   "cell_type": "code",
   "execution_count": 2,
   "metadata": {},
   "outputs": [],
   "source": [
    "# subs(n_x == 0, n_y == 0, b_x == Infinity, b_y == Infinity)"
   ]
  },
  {
   "cell_type": "markdown",
   "metadata": {},
   "source": [
    "$$\\frac{1}{4} \\, F\\left(0, 0\\right) + \\frac{1}{2} \\, \\int_{0}^{\\infty} \\, F\\left(0, y\\right)\\,{d y} + \\, \\int_{0}^{\\infty} \\, \\int_{0}^{\\infty} F\\left(x, y\\right)\\,{d x}\\,{d y} - \\frac{1}{12} \\, \\int_{0}^{\\infty} \\, \\frac{\\partial}{\\partial n_{x}}F\\left(0, y\\right)\\,{d y} + \\frac{1}{2} \\, \\int_{0}^{\\infty} F\\left(x, 0\\right)\\,{d x} + \\frac{1}{720} \\, \\int_{0}^{\\infty} \\frac{\\partial^{3}}{(\\partial n_{x})^{3}}F\\left(0, y\\right)\\,{d y} - \\frac{1}{12} \\, \\int_{0}^{\\infty} \\frac{\\partial}{\\partial n_{y}}F\\left(x, 0\\right)\\,{d x} + \\frac{1}{720} \\, \\int_{0}^{\\infty} \\frac{\\partial^{3}}{(\\partial n_{y})^{3}}F\\left(x, 0\\right)\\,{d x} - \\frac{1}{24} \\, \\frac{\\partial}{\\partial n_{x}}F\\left(0, 0\\right) + \\frac{1}{1440} \\, \\frac{\\partial^{3}}{(\\partial n_{x})^{3}}F\\left(0, 0\\right) - \\frac{1}{8640} \\, \\frac{\\partial^{4}}{(\\partial n_{x})^{3}\\partial n_{y}}F\\left(0, 0\\right) + \\frac{1}{518400} \\, \\frac{\\partial^{6}}{(\\partial n_{x})^{3}(\\partial n_{y})^{3}}F\\left(0, 0\\right) + \\frac{1}{144} \\, \\frac{\\partial^{2}}{\\partial n_{x}\\partial n_{y}}F\\left(0, 0\\right) - \\frac{1}{8640} \\, \\frac{\\partial^{4}}{\\partial n_{x}(\\partial n_{y})^{3}}F\\left(0, 0\\right) - \\frac{1}{24} \\, \\frac{\\partial}{\\partial n_{y}}F\\left(0, 0\\right) + \\frac{1}{1440} \\, \\frac{\\partial^{3}}{(\\partial n_{y})^{3}}F\\left(0, 0\\right)$$"
   ]
  },
  {
   "cell_type": "markdown",
   "metadata": {},
   "source": [
    "We apply 1D EULER-MACLAURIN formula:"
   ]
  },
  {
   "cell_type": "markdown",
   "metadata": {},
   "source": [
    "$\\int\\limits_{0}^{\\infty}{F\\left(n\\right)} = \\sum\\limits_{\\left(0\\right)\\,1}^{\\infty}{F\\left(n\\right)} +\\,\\frac{1}{12}F'\\left(0\\right)\\,-\\,\\frac{1}{24\\times30}F'''\\left(0\\right)\\,+\\,...$"
   ]
  },
  {
   "cell_type": "markdown",
   "metadata": {},
   "source": [
    "And have"
   ]
  },
  {
   "cell_type": "markdown",
   "metadata": {},
   "source": [
    "$\\sum\\limits_{\\left(0\\right)\\,1}^{\\infty}\\sum\\limits_{\\left(0\\right)\\,1}^{\\infty}{F\\left(n_x, n_y\\right)}-\\int\\limits_{0}^{\\infty}\\int\\limits_{0}^{\\infty}{F\\left(n_x, n_y\\right)} = $"
   ]
  },
  {
   "cell_type": "markdown",
   "metadata": {},
   "source": [
    "$$ - \\frac{1}{12} \\, \\int_{0}^{\\infty} \\, \\frac{\\partial}{\\partial n_{x}}F\\left(0, y\\right)\\,{d y} + \\frac{1}{720} \\, \\int_{0}^{\\infty} \\frac{\\partial^{3}}{(\\partial n_{x})^{3}}F\\left(0, y\\right)\\,{d y} - \\frac{1}{12} \\, \\int_{0}^{\\infty} \\frac{\\partial}{\\partial n_{y}}F\\left(x, 0\\right)\\,{d x} + \\frac{1}{720} \\, \\int_{0}^{\\infty} \\frac{\\partial^{3}}{(\\partial n_{y})^{3}}F\\left(x, 0\\right)\\,{d x} - \\frac{1}{8640} \\, \\frac{\\partial^{4}}{(\\partial n_{x})^{3}\\partial n_{y}}F\\left(0, 0\\right) + \\frac{1}{518400} \\, \\frac{\\partial^{6}}{(\\partial n_{x})^{3}(\\partial n_{y})^{3}}F\\left(0, 0\\right) + \\frac{1}{144} \\, \\frac{\\partial^{2}}{\\partial n_{x}\\partial n_{y}}F\\left(0, 0\\right) - \\frac{1}{8640} \\, \\frac{\\partial^{4}}{\\partial n_{x}(\\partial n_{y})^{3}}F\\left(0, 0\\right)$$"
   ]
  },
  {
   "cell_type": "code",
   "execution_count": null,
   "metadata": {},
   "outputs": [],
   "source": []
  },
  {
   "cell_type": "markdown",
   "metadata": {},
   "source": [
    "$F\\left(n\\right) = \\int\\limits_{0}^{\\infty}{\\sqrt{n n^*+u^2}}f\\left(\\pi\\sqrt{n n^*+u^2}/\\left(a\\,k_m\\right)\\right)\\,d{u}$"
   ]
  },
  {
   "cell_type": "code",
   "execution_count": null,
   "metadata": {},
   "outputs": [],
   "source": []
  },
  {
   "cell_type": "markdown",
   "metadata": {},
   "source": [
    "Introducing $w = u^2 + n n^*$ we have "
   ]
  },
  {
   "cell_type": "markdown",
   "metadata": {},
   "source": [
    "$\\sum\\limits_{\\left(0\\right)\\,1}^{\\infty}\\sum\\limits_{\\left(0\\right)\\,1}^{\\infty}{F\\left(n_x, n_y\\right)}-\\int\\limits_{0}^{\\infty}\\int\\limits_{0}^{\\infty}{F\\left(n_x, n_y\\right)} = \\frac{1}{2} \\, \\int_{0}^{\\infty} \\, F\\left(0, n_y\\right)\\,{d n_y} + \\frac{1}{2} \\, \\int_{0}^{\\infty} F\\left(n_x, 0\\right)\\,{d n_x} - \\frac{1}{12} \\, \\int_{0}^{\\infty} \\frac{\\partial}{\\partial n_{x}}F\\left(0, n_y\\right)\\,{d n_y} - \\frac{1}{12} \\, \\int_{0}^{\\infty} \\frac{\\partial}{\\partial n_{y}}F\\left(n_x, 0\\right)\\,{d n_x} - \\frac{1}{24} \\, \\frac{\\partial}{\\partial n_{x}}F\\left(0, 0\\right) + \\frac{1}{144} \\, \\frac{\\partial^{2}}{\\partial n_{x}\\partial n_{y}}F\\left(0, 0\\right) - \\frac{1}{24} \\, \\frac{\\partial}{\\partial n_{y}}F\\left(0, 0\\right)\\,+\\,...$"
   ]
  },
  {
   "cell_type": "markdown",
   "metadata": {},
   "source": [
    "$u = \\sqrt{w - n n^*}$"
   ]
  },
  {
   "cell_type": "markdown",
   "metadata": {},
   "source": [
    "$du = \\frac{dw}{2 \\, \\sqrt{-n_{x}^{2} - n_{y}^{2} + w}}$"
   ]
  },
  {
   "cell_type": "markdown",
   "metadata": {},
   "source": [
    "$F\\left(n\\right) = \\int\\limits_{n n^*}^{\\infty}{\\sqrt{w}}f\\left(\\pi\\sqrt{w}/\\left(a\\,k_m\\right)\\right)\\,\\frac{dw}{2 \\, \\sqrt{-n_{x}^{2} - n_{y}^{2} + w}}$"
   ]
  }
 ],
 "metadata": {
  "kernelspec": {
   "display_name": "SageMath 9.3",
   "language": "sage",
   "name": "sagemath"
  },
  "language_info": {
   "codemirror_mode": {
    "name": "ipython",
    "version": 3
   },
   "file_extension": ".py",
   "mimetype": "text/x-python",
   "name": "python",
   "nbconvert_exporter": "python",
   "pygments_lexer": "ipython3",
   "version": "3.9.2"
  }
 },
 "nbformat": 4,
 "nbformat_minor": 2
}
