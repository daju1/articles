{
 "cells": [
  {
   "cell_type": "markdown",
   "id": "d9cd2868",
   "metadata": {},
   "source": [
    "# О возникновении силы тяги в системе вращающихся зарядов"
   ]
  },
  {
   "cell_type": "code",
   "execution_count": 1,
   "id": "7c76be40",
   "metadata": {},
   "outputs": [],
   "source": [
    "%%cython\n",
    "cdef extern from \"lw_rotate.c\":\n",
    "    # расчет итерациями запаздывающего момента\n",
    "    double tlag(double x, double y, double z, double t, \n",
    "                     double (*Coordinate)(double t_zap,\n",
    "                                          double xc, double yc, double zc,\n",
    "                                          double R, double omega, double alpha),\n",
    "                     double (*Coordinate)(double t_zap,\n",
    "                                          double xc, double yc, double zc,\n",
    "                                          double R, double omega, double alpha),\n",
    "                     double (*Coordinate)(double t_zap,\n",
    "                                          double xc, double yc, double zc,\n",
    "                                          double R, double omega, double alpha),\n",
    "               double xc, double yc, double zc,\n",
    "               double R, double omega, double alpha)\n",
    "    # отношение радиуса Лиенара Вихерта к радиусу\n",
    "    double klw(double x, double y, double z, double t,\n",
    "                double (*Coordinate)(double t_zap, double xc, double yc, double zc, double R, double omega, double alpha),\n",
    "                double (*Coordinate)(double t_zap, double xc, double yc, double zc, double R, double omega, double alpha),\n",
    "                double (*Coordinate)(double t_zap, double xc, double yc, double zc, double R, double omega, double alpha),\n",
    "                double (*Velocity)(double t_zap, double xc, double yc, double zc, double R, double omega, double alpha),\n",
    "                double (*Velocity)(double t_zap, double xc, double yc, double zc, double R, double omega, double alpha),\n",
    "                double (*Velocity)(double t_zap, double xc, double yc, double zc, double R, double omega, double alpha),\n",
    "                double (*Tlag)(double x, double y, double z, double t, \n",
    "                     double (*Coordinate)(double t_zap, double xc, double yc, double zc, double R, double omega, double alpha),\n",
    "                     double (*Coordinate)(double t_zap, double xc, double yc, double zc, double R, double omega, double alpha),\n",
    "                     double (*Coordinate)(double t_zap, double xc, double yc, double zc, double R, double omega, double alpha),\n",
    "                              double xc, double yc, double zc, double R, double omega, double alpha),\n",
    "               double xc, double yc, double zc, double R, double omega, double alpha)\n",
    "    # Радиус Лиенара Вихерта\n",
    "    double Rlw(double x, double y, double z, double t,\n",
    "                double (*Coordinate)(double t_zap, double xc, double yc, double zc, double R, double omega, double alpha),\n",
    "                double (*Coordinate)(double t_zap, double xc, double yc, double zc, double R, double omega, double alpha),\n",
    "                double (*Coordinate)(double t_zap, double xc, double yc, double zc, double R, double omega, double alpha),\n",
    "                double (*Velocity)(double t_zap, double xc, double yc, double zc, double R, double omega, double alpha),\n",
    "                double (*Velocity)(double t_zap, double xc, double yc, double zc, double R, double omega, double alpha),\n",
    "                double (*Velocity)(double t_zap, double xc, double yc, double zc, double R, double omega, double alpha),\n",
    "                double (*Tlag)(double x, double y, double z, double t, \n",
    "                     double (*Coordinate)(double t_zap, double xc, double yc, double zc, double R, double omega, double alpha),\n",
    "                     double (*Coordinate)(double t_zap, double xc, double yc, double zc, double R, double omega, double alpha),\n",
    "                     double (*Coordinate)(double t_zap, double xc, double yc, double zc, double R, double omega, double alpha),\n",
    "                              double xc, double yc, double zc, double R, double omega, double alpha),\n",
    "               double xc, double yc, double zc, double R, double omega, double alpha)\n",
    "    \n",
    "    \n",
    "    # phi_lw - скалярный потенциал Лиенара Вихерта\n",
    "    double philw(double x, double y, double z, double t,\n",
    "               double (*Coordinate)(double t_zap, double xc, double yc, double zc, double R, double omega, double alpha),\n",
    "               double (*Coordinate)(double t_zap, double xc, double yc, double zc, double R, double omega, double alpha),\n",
    "               double (*Coordinate)(double t_zap, double xc, double yc, double zc, double R, double omega, double alpha),\n",
    "               double (*Velocity)(double t_zap, double xc, double yc, double zc, double R, double omega, double alpha),\n",
    "               double (*Velocity)(double t_zap, double xc, double yc, double zc, double R, double omega, double alpha),\n",
    "               double (*Velocity)(double t_zap, double xc, double yc, double zc, double R, double omega, double alpha),\n",
    "               double q,\n",
    "               double (*Tlag)(double x, double y, double z, double t, \n",
    "                     double (*Coordinate)(double t_zap, double xc, double yc, double zc, double R, double omega, double alpha),\n",
    "                     double (*Coordinate)(double t_zap, double xc, double yc, double zc, double R, double omega, double alpha),\n",
    "                     double (*Coordinate)(double t_zap, double xc, double yc, double zc, double R, double omega, double alpha),\n",
    "                              double xc, double yc, double zc, double R, double omega, double alpha),\n",
    "               double xc, double yc, double zc, double R, double omega, double alpha)\n",
    "\n",
    "\n",
    "    # A_lw - векторный потенциал Лиенара Вихерта\n",
    "    void Alw(double x, double y, double z, double t,\n",
    "               double (*Coordinate)(double t_zap, double xc, double yc, double zc, double R, double omega, double alpha),\n",
    "               double (*Coordinate)(double t_zap, double xc, double yc, double zc, double R, double omega, double alpha),\n",
    "               double (*Coordinate)(double t_zap, double xc, double yc, double zc, double R, double omega, double alpha),\n",
    "               double (*Velocity)(double t_zap, double xc, double yc, double zc, double R, double omega, double alpha),\n",
    "               double (*Velocity)(double t_zap, double xc, double yc, double zc, double R, double omega, double alpha),\n",
    "               double (*Velocity)(double t_zap, double xc, double yc, double zc, double R, double omega, double alpha),\n",
    "               double q,\n",
    "               double (*Tlag)(double x, double y, double z, double t, \n",
    "                     double (*Coordinate)(double t_zap, double xc, double yc, double zc, double R, double omega, double alpha),\n",
    "                     double (*Coordinate)(double t_zap, double xc, double yc, double zc, double R, double omega, double alpha),\n",
    "                     double (*Coordinate)(double t_zap, double xc, double yc, double zc, double R, double omega, double alpha),\n",
    "                              double xc, double yc, double zc, double R, double omega, double alpha),\n",
    "           double * A_x, double * A_y, double * A_z,\n",
    "               double xc, double yc, double zc, double R, double omega, double alpha\n",
    "           )\n",
    "    \n",
    "    void electr_magnet(double x, double y, double z, double t,\n",
    "                double (*Coordinate)(double t_zap, double xc, double yc, double zc, double R, double omega, double alpha),\n",
    "                double (*Coordinate)(double t_zap, double xc, double yc, double zc, double R, double omega, double alpha),\n",
    "                double (*Coordinate)(double t_zap, double xc, double yc, double zc, double R, double omega, double alpha),\n",
    "                double (*Velocity)(double t_zap, double xc, double yc, double zc, double R, double omega, double alpha),\n",
    "                double (*Velocity)(double t_zap, double xc, double yc, double zc, double R, double omega, double alpha),\n",
    "                double (*Velocity)(double t_zap, double xc, double yc, double zc, double R, double omega, double alpha),\n",
    "                double (*Acceleration)(double t_zap, double xc, double yc, double zc, double R, double omega, double alpha),\n",
    "                double (*Acceleration)(double t_zap, double xc, double yc, double zc, double R, double omega, double alpha),\n",
    "                double (*Acceleration)(double t_zap, double xc, double yc, double zc, double R, double omega, double alpha),\n",
    "                double q, double (*Tlag)(double x, double y, double z, double t, \n",
    "                     double (*Coordinate)(double t_zap, double xc, double yc, double zc, double R, double omega, double alpha),\n",
    "                     double (*Coordinate)(double t_zap, double xc, double yc, double zc, double R, double omega, double alpha),\n",
    "                     double (*Coordinate)(double t_zap, double xc, double yc, double zc, double R, double omega, double alpha),\n",
    "                                         double xc, double yc, double zc, double R, double omega, double alpha), \n",
    "                double * E_x, double * E_y, double * E_z, double * B_x, double * B_y, double * B_z,\n",
    "               double xc, double yc, double zc, double R, double omega, double alpha)\n",
    "\n",
    "    void cset_c(double _c)\n",
    "    void cset_timespan_Epsilon(double _eps)\n",
    "    double cget_c()\n",
    "    double cget_timespan_Epsilon()\n",
    "\n",
    "#sgs \n",
    "import numpy as np\n",
    "cdef double c# = np.float128(1)\n",
    "cdef double timespan_Epsilon = np.float128(1.0e-8)\n",
    "\n",
    "cdef double R_r = np.float128(1)\n",
    "cdef double R_l = np.float128(1)\n",
    "cdef double S = np.float128(0.005)\n",
    "\n",
    "# centers of circles\n",
    "cr = ( S/2+R_r, np.float128(0), np.float128(0))\n",
    "cl = (-S/2-R_l, np.float128(0), np.float128(0))\n",
    "\n",
    "cdef double xc_l = cl[0]\n",
    "cdef double xc_r = cr[0]\n",
    "\n",
    "cdef double yc_l = cl[1]\n",
    "cdef double yc_r = cr[1]\n",
    "\n",
    "cdef double zc_l = cl[2]\n",
    "cdef double zc_r = cr[2]\n",
    "\n",
    "cdef double sx(double t, double xc, double yc, double zc, double R, double omega, double alpha):\n",
    "    cdef double result\n",
    "    cdef double current_angle = omega * t + alpha\n",
    "    result = xc + R*np.cos(current_angle)\n",
    "    return result\n",
    "cdef double sy(double t, double xc, double yc, double zc, double R, double omega, double alpha):\n",
    "    cdef double result\n",
    "    cdef double current_angle = omega * t + alpha\n",
    "    result = yc + R*np.sin(current_angle)\n",
    "    return result\n",
    "cdef double sz(double t, double xc, double yc, double zc, double R, double omega, double alpha):\n",
    "    cdef double result\n",
    "    result = zc\n",
    "    return result\n",
    "\n",
    "cdef double vx(double t, double xc, double yc, double zc, double R, double omega, double alpha):\n",
    "    cdef double result\n",
    "    cdef double current_angle = omega * t + alpha\n",
    "    result = -omega*R*np.sin(current_angle)\n",
    "    return result\n",
    "cdef double vy(double t, double xc, double yc, double zc, double R, double omega, double alpha):\n",
    "    cdef long double result\n",
    "    cdef double current_angle = omega * t + alpha\n",
    "    result = omega*R*np.cos(current_angle)\n",
    "    return result\n",
    "cdef double vz(double t, double xc, double yc, double zc, double R, double omega, double alpha):\n",
    "    cdef double result\n",
    "    result = 0\n",
    "    return result\n",
    "\n",
    "\n",
    "cdef double wx(double t, double xc, double yc, double zc, double R, double omega, double alpha):\n",
    "    cdef double result\n",
    "    cdef double current_angle = omega * t + alpha\n",
    "    result = -omega*omega*R*np.cos(current_angle)\n",
    "    return result\n",
    "cdef double wy(double t, double xc, double yc, double zc, double R, double omega, double alpha):\n",
    "    cdef double result\n",
    "    cdef double current_angle = omega * t + alpha\n",
    "    result = -omega*omega*R*np.sin(current_angle)\n",
    "    return result\n",
    "cdef double wz(double t, double xc, double yc, double zc, double R, double omega, double alpha):\n",
    "    cdef double result\n",
    "    result = 0\n",
    "    return result\n",
    "\n",
    "def R_lw(x, y, z, t, xc, yc, zc, R, omega, alpha):\n",
    "    cdef double Xa = x\n",
    "    cdef double Ya = y\n",
    "    cdef double Za = z\n",
    "    cdef double ta = t\n",
    "\n",
    "    #print(x, y, z, t)\n",
    "    #print(Xa, Ya, Za, ta)\n",
    "    #print(sx(ta))\n",
    "\n",
    "    cdef double Xc = xc\n",
    "    cdef double Yc = yc\n",
    "    cdef double Zc = zc\n",
    "    cdef double Rc = R\n",
    "    cdef double Omega = omega\n",
    "    cdef double Alpha = alpha\n",
    "    \n",
    "    cdef double r_lw = Rlw(Xa, Ya, Za, ta, sx, sy, sz, vx, vy, vz, tlag, Xc, Yc, Zc, Rc, Omega, Alpha)\n",
    "\n",
    "    return r_lw\n",
    "\n",
    "def phi_lw(x, y, z, t, q, xc, yc, zc, R, omega, alpha):\n",
    "    cdef double Xa = x\n",
    "    cdef double Ya = y\n",
    "    cdef double Za = z\n",
    "    cdef double ta = t\n",
    "\n",
    "    cdef double q_ = q\n",
    "    #print(x, y, z, t)\n",
    "    #print(Xa, Ya, Za, ta)\n",
    "    #print(sx(ta))\n",
    "    \n",
    "    cdef double Xc = xc\n",
    "    cdef double Yc = yc\n",
    "    cdef double Zc = zc\n",
    "    cdef double Rc = R\n",
    "    cdef double Omega = omega\n",
    "    cdef double Alpha = alpha\n",
    "\n",
    "    cdef double philw_ = philw(Xa, Ya, Za, ta, sx, sy, sz, vx, vy, vz, q_, tlag, Xc, Yc, Zc, Rc, Omega, Alpha)\n",
    "\n",
    "    return philw_\n",
    "\n",
    "\n",
    "def A_lw(x, y, z, t, q, xc, yc, zc, R, omega, alpha):\n",
    "    cdef double Xa = x\n",
    "    cdef double Ya = y\n",
    "    cdef double Za = z\n",
    "    cdef double ta = t\n",
    "    cdef double q_ = q\n",
    "    \n",
    "    cdef double A_x\n",
    "    cdef double A_y\n",
    "    cdef double A_z\n",
    "    \n",
    "    cdef double Xc = xc\n",
    "    cdef double Yc = yc\n",
    "    cdef double Zc = zc\n",
    "    cdef double Rc = R\n",
    "    cdef double Omega = omega\n",
    "    cdef double Alpha = alpha\n",
    "\n",
    "    Alw(Xa, Ya, Za, ta,\n",
    "                  sx, sy, sz, vx, vy, vz,\n",
    "                  q_, tlag, \n",
    "                  &A_x, &A_y, &A_z, Xc, Yc, Zc, Rc, Omega, Alpha)\n",
    "\n",
    "    return (A_x, A_y, A_z)\n",
    "\n",
    "def EB_lw(x, y, z, t, q, xc, yc, zc, R, omega, alpha):\n",
    "    cdef double Xa = x\n",
    "    cdef double Ya = y\n",
    "    cdef double Za = z\n",
    "    cdef double ta = t\n",
    "    cdef double q_ = q\n",
    "    \n",
    "    cdef double E_x\n",
    "    cdef double E_y\n",
    "    cdef double E_z\n",
    "    cdef double B_x\n",
    "    cdef double B_y\n",
    "    cdef double B_z\n",
    "    \n",
    "    cdef double Xc = xc\n",
    "    cdef double Yc = yc\n",
    "    cdef double Zc = zc\n",
    "    cdef double Rc = R\n",
    "    cdef double Omega = omega\n",
    "    cdef double Alpha = alpha\n",
    "    \n",
    "    electr_magnet(Xa, Ya, Za, ta,\n",
    "                  sx, sy, sz, vx, vy, vz, wx, wy, wz,\n",
    "                  q_, tlag, \n",
    "                  &E_x, &E_y, &E_z, &B_x, &B_y, &B_z, Xc, Yc, Zc, Rc, Omega, Alpha)\n",
    "\n",
    "    return (E_x, E_y, E_z, B_x, B_y, B_z)\n",
    "\n",
    "def t_lag(x, y, z, t, xc, yc, zc, R, omega, alpha):\n",
    "    cdef double Xa = x\n",
    "    cdef double Ya = y\n",
    "    cdef double Za = z\n",
    "    cdef double ta = t\n",
    "    cdef double q = 1\n",
    "    \n",
    "    cdef double Xc = xc\n",
    "    cdef double Yc = yc\n",
    "    cdef double Zc = zc\n",
    "    cdef double Rc = R\n",
    "    cdef double Omega = omega\n",
    "    cdef double Alpha = alpha\n",
    "    \n",
    "    \n",
    "    # расчет итерациями запаздывающего момента\n",
    "    cdef double lag = tlag(Xa, Ya, Za, ta,\n",
    "                  sx, sy, sz,\n",
    "                           Xc, Yc, Zc, Rc, Omega, Alpha)\n",
    "    return lag\n",
    "\n",
    "\n",
    "def calc_sum_Fy_t(N, S, R_l, R_r, t_i,\n",
    "                  omega,\n",
    "                  alpha0_l = np.float128(0),\n",
    "                  alpha0_r = np.float128(0),\n",
    "                  to_animate = False,\n",
    "                  to_log = False):\n",
    "    \n",
    "    cdef int n = N\n",
    "    cdef double sign_a\n",
    "    cdef double sign_q\n",
    "    \n",
    "    cdef double Alpha_l\n",
    "    cdef double Alpha_r\n",
    "    \n",
    "    cdef double Omega_l = + omega\n",
    "    cdef double Omega_r = - omega\n",
    "    \n",
    "    cdef double Xa, Ya, Za\n",
    "    cdef double Xq, Yq, Zq\n",
    "\n",
    "    # current positions of rotated masses\n",
    "    sign_r = []\n",
    "    sign_l = []\n",
    "    alpha_r = []\n",
    "    alpha_l = []\n",
    "    \n",
    "    # n - number of charges per circle\n",
    "    for i in range(n):\n",
    "        sign_r += [lambda i=i : -((i%2)*2-1)]\n",
    "        sign_l += [lambda i=i :   (i%2)*2-1]\n",
    "\n",
    "        alpha_r += [lambda i=i : i * np.float128(2*np.pi)/n + alpha0_r]\n",
    "        alpha_l += [lambda i=i : i * np.float128(2*np.pi)/n + alpha0_l]\n",
    "\n",
    "    cdef double Fx_l = 0.0\n",
    "    cdef double Fy_l = 0.0\n",
    "    cdef double Fx_r = 0.0\n",
    "    cdef double Fy_r = 0.0\n",
    "    \n",
    "    #F_alpha_l = []\n",
    "    #F_alpha_r = []\n",
    "    frames = []\n",
    "\n",
    "    for i_a in range(n):\n",
    "        for i_q in range(n):\n",
    "            if to_animate:\n",
    "                from sage.plot.all import Graphics\n",
    "                p = Graphics()\n",
    "            i_l = i_a \n",
    "            i_r = i_q\n",
    "            \n",
    "            sign_a = sign_l[i_a]()\n",
    "            sign_q = sign_r[i_q]()\n",
    "            if to_animate:\n",
    "                if sign_a > 0:\n",
    "                    color_a = \"red\"\n",
    "                else:\n",
    "                    color_a = \"blue\"\n",
    "                if sign_q > 0:\n",
    "                    color_q = \"red\"\n",
    "                else:\n",
    "                    color_q = \"blue\"\n",
    "            \n",
    "            Alpha_l = np.pi - alpha_l[i_a]()\n",
    "            Alpha_r = alpha_r[i_q]()\n",
    "            \n",
    "            Xa = sx(t_i, xc_l, yc_l, zc_l, R_l, Omega_l, Alpha_l)\n",
    "            Xq = sx(t_i, xc_r, yc_r, zc_r, R_r, Omega_r, Alpha_r)\n",
    "            \n",
    "            Ya = sy(t_i, xc_l, yc_l, zc_l, R_l, Omega_l, Alpha_l)\n",
    "            Yq = sy(t_i, xc_r, yc_r, zc_r, R_r, Omega_r, Alpha_r)\n",
    "            \n",
    "            Za = sz(t_i, xc_l, yc_l, zc_l, R_l, Omega_l, Alpha_l)\n",
    "            Zq = sz(t_i, xc_r, yc_r, zc_r, R_r, Omega_r, Alpha_r)\n",
    "            \n",
    "            if to_animate:\n",
    "                from sage.plot.circle import circle\n",
    "                from sage.plot.line import line\n",
    "                p += circle((cr[0],cr[1]), R_r)\n",
    "                p += circle((cl[0],cl[1]), R_l)\n",
    "                p += line ([(cr[0],cr[1]), (Xq, Yq)], color = color_q, linestyle=\"solid\")\n",
    "                p += line ([(cl[0],cl[1]), (Xa, Ya)], color = color_a, linestyle=\"solid\")\n",
    "                \n",
    "                # время запаздывания поля правого заряда в области левого заряда\n",
    "                t2_a = t_lag(Xa, Ya, Za, t_i, xc_r, yc_r, zc_r, R_r, Omega_r, Alpha_r)\n",
    "                # запаздывающая координата правого заряда в момент прихода его поля в область левого заряда\n",
    "                X2_q = sx(t2_a, xc_r, yc_r, zc_r, R_r, Omega_r, Alpha_r)\n",
    "                Y2_q = sy(t2_a, xc_r, yc_r, zc_r, R_r, Omega_r, Alpha_r)\n",
    "                \n",
    "                # время запаздывания поля левого заряда в области правого заряда\n",
    "                t2_q = t_lag(Xq, Yq, Zq, t_i, xc_l, yc_l, zc_l, R_l, Omega_l, Alpha_l)\n",
    "                # запаздывающая координата левого заряда в момент прихода его поля в область правого заряда\n",
    "                X2_a = sx(t2_q, xc_l, yc_l, zc_l, R_l, Omega_l, Alpha_l)\n",
    "                Y2_a = sy(t2_q, xc_l, yc_l, zc_l, R_l, Omega_l, Alpha_l)\n",
    "                \n",
    "                if (to_log):\n",
    "                    print(\"t2_a=%f t2_q=%f t2_a*omega/2pi=%f t2_q*omega/2pi=%f\" % (t2_a, t2_q, t2_a*omega/(2*np.pi), t2_q*omega/(2*np.pi)))\n",
    "            \n",
    "            # поле создаваемое правым вращающимся зарядом в области левого вращающегося заряда\n",
    "            (E_x, E_y, E_z, B_x, B_y, B_z) = EB_lw(Xa, Ya, Za, t_i, sign_q, xc_r, yc_r, zc_r, R_r, Omega_r, Alpha_r)\n",
    "\n",
    "            # сила действующая на левый заряд со стороны поля правого заряда\n",
    "            fx_l = (E_x)*sign_a\n",
    "            fy_l = (E_y)*sign_a\n",
    "\n",
    "            Fx_l += fx_l\n",
    "            Fy_l += fy_l\n",
    "            \n",
    "            # поле создаваемое левым вращающимся зарядом в области правого вращающегося заряда\n",
    "            (E_x, E_y, E_z, B_x, B_y, B_z) = EB_lw(Xq, Yq, Zq, t_i, sign_a, xc_l, yc_l, zc_l, R_l, Omega_l, Alpha_l)\n",
    "\n",
    "            # сила действующая на правый заряд со стороны поля левого заряда\n",
    "            fx_r = (E_x)*sign_q\n",
    "            fy_r = (E_y)*sign_q\n",
    "            \n",
    "            Fx_r += fx_r\n",
    "            Fy_r += fy_r\n",
    "            \n",
    "            if to_animate:\n",
    "                p += line ([(Xq, Yq), (X2_a, Y2_a)], color = \"green\", linestyle=\"dashed\")\n",
    "                p += line ([(X2_q, Y2_q), (Xa, Ya)], color = \"green\", linestyle=\"dashed\")\n",
    "                p += line ([(cr[0],cr[1]), (X2_q, Y2_q)], color = color_q, linestyle=\"dashed\")\n",
    "                p += line ([(cl[0],cl[1]), (X2_a, Y2_a)], color = color_a, linestyle=\"dashed\")\n",
    "\n",
    "            if to_log:\n",
    "                print(\"fx_l=%f fy_l=%f fx_r=%f fy_r=%f\" % (fx_l, fy_l, fx_r, fy_r))\n",
    "            if to_animate:\n",
    "                p.show(aspect_ratio = 1)\n",
    "                frames += [p]\n",
    "\n",
    "    # Интегральная величина тяги в направлении оси y\n",
    "    # угловое усилие\n",
    "\n",
    "    return Fy_r + Fy_l\n",
    "\n",
    "def calc_Maxwells_stress_tensor(X_a, Y_a, Z_a, t_i, N, S, R_l, R_r,\n",
    "                                cos_nx, cos_ny, cos_nz,\n",
    "                                omega,\n",
    "                                alpha0_l = np.float128(0),\n",
    "                                alpha0_r = np.float128(0)\n",
    "                               ):\n",
    "    \n",
    "    cdef int n = N\n",
    "    cdef double sign_a\n",
    "    cdef double sign_q\n",
    "    \n",
    "    cdef double Alpha_l\n",
    "    cdef double Alpha_r\n",
    "    \n",
    "    cdef double Omega_l = + omega\n",
    "    cdef double Omega_r = - omega\n",
    "    \n",
    "    cdef double Xa, Ya, Za\n",
    "    cdef double Xq, Yq, Zq\n",
    "\n",
    "    # current positions of rotated masses\n",
    "    sign_r = []\n",
    "    sign_l = []\n",
    "    alpha_r = []\n",
    "    alpha_l = []\n",
    "    \n",
    "    # n - number of charges per circle\n",
    "    for i in range(n):\n",
    "        sign_r += [lambda i=i : -((i%2)*2-1)]\n",
    "        sign_l += [lambda i=i :   (i%2)*2-1]\n",
    "\n",
    "        alpha_r += [lambda i=i : i * np.float128(2*np.pi)/n + alpha0_r]\n",
    "        alpha_l += [lambda i=i : i * np.float128(2*np.pi)/n + alpha0_l]\n",
    "\n",
    "    cdef double Ex = 0\n",
    "    cdef double Ey = 0\n",
    "    cdef double Ez = 0\n",
    "    \n",
    "    cdef double Hx = 0\n",
    "    cdef double Hy = 0\n",
    "    cdef double Hz = 0\n",
    "\n",
    "\n",
    "    for i_a in range(n):\n",
    "        for i_q in range(n):\n",
    "            i_l = i_a \n",
    "            i_r = i_q\n",
    "            \n",
    "            sign_a = sign_l[i_a]()\n",
    "            sign_q = sign_r[i_q]()\n",
    "            \n",
    "            Alpha_l = np.pi - alpha_l[i_a]()\n",
    "            Alpha_r = alpha_r[i_q]()\n",
    "            \n",
    "            (E_x, E_y, E_z, B_x, B_y, B_z) = EB_lw(X_a, Y_a, Z_a, t_i, sign_q, xc_r, yc_r, zc_r, R_r, Omega_r, Alpha_r)\n",
    "\n",
    "            Ex += E_x\n",
    "            Ey += E_y\n",
    "            Ez += E_z\n",
    "            \n",
    "            Hx += B_x\n",
    "            Hy += B_y\n",
    "            Hz += B_z\n",
    "            \n",
    "\n",
    "            (E_x, E_y, E_z, B_x, B_y, B_z) = EB_lw(X_a, Y_a, Z_a, t_i, sign_a, xc_l, yc_l, zc_l, R_l, Omega_l, Alpha_l)\n",
    "\n",
    "            Ex += E_x\n",
    "            Ey += E_y\n",
    "            Ez += E_z\n",
    "            \n",
    "            Hx += B_x\n",
    "            Hy += B_y\n",
    "            Hz += B_z\n",
    "            \n",
    "    cdef double sigma_xx = 1/(4*np.pi)*( - Ex*Ex - Hx*Hx + Ey*Ey + Ez*Ez + Hy*Hy + Hz*Hz)\n",
    "    cdef double sigma_yy = 1/(4*np.pi)*( - Ey*Ey - Hy*Hy + Ez*Ez + Ex*Ex + Hz*Hz + Hx*Hx)\n",
    "    cdef double sigma_zz = 1/(4*np.pi)*( - Ez*Ez - Hz*Hz + Ex*Ex + Ey*Ey + Hx*Hx + Hy*Hy)\n",
    "    \n",
    "    cdef double sigma_xy = 1/(4*np.pi)*( - Ex*Ey - Hx*Hy )\n",
    "    cdef double sigma_xz = 1/(4*np.pi)*( - Ex*Ez - Hx*Hz )\n",
    "    cdef double sigma_yz = 1/(4*np.pi)*( - Ey*Ez - Hy*Hz )\n",
    "\n",
    "    cdef double sigma_yx = 1/(4*np.pi)*( - Ey*Ex - Hy*Hx )\n",
    "    cdef double sigma_zx = 1/(4*np.pi)*( - Ez*Ex - Hz*Hx )\n",
    "    cdef double sigma_zy = 1/(4*np.pi)*( - Ez*Ey - Hz*Hy )\n",
    "    \n",
    "    #T = [[sigma_xx, sigma_xy, sigma_xz],\n",
    "    #     [sigma_yx, sigma_yy, sigma_yz],\n",
    "    #     [sigma_zx, sigma_zy, sigma_zz]]\n",
    "    \n",
    "    # Тамм параграф 33 формула (33.5)\n",
    "    # сила натяжения действующая на площадку поверхности интегрирования\n",
    "    # со стороны поля создаваемого вращающимися зарядами\n",
    "    cdef double fy = (sigma_yx * cos_nx + sigma_yy * cos_ny + sigma_yz * cos_nz)\n",
    "    \n",
    "    cdef double S_x = 1/(4*np.pi)*(Ey * Hz - Ez * Hy)\n",
    "    cdef double S_y = 1/(4*np.pi)*(Ez * Hx - Ex * Hz)\n",
    "    cdef double S_z = 1/(4*np.pi)*(Ex * Hy - Ey * Hx)\n",
    "\n",
    "    # Интегральная величина количества имульса электромагнитного поля, \n",
    "    # вытекающего в единицу времени из замкнутого обьёма через площадку ЛЛ2 32.14\n",
    "    return fy\n",
    "\n",
    "def get_S():\n",
    "    return S\n",
    "def get_R_l():\n",
    "    return R_l\n",
    "def get_R_r():\n",
    "    return R_r\n",
    "def get_c():\n",
    "    return cget_c()\n",
    "def get_timespan_Epsilon():\n",
    "    return cget_timespan_Epsilon()\n",
    "\n",
    "def get_xc_l():\n",
    "    return xc_l\n",
    "def get_xc_r():\n",
    "    return xc_r\n",
    "\n",
    "def get_yc_l():\n",
    "    return yc_l\n",
    "def get_yc_r():\n",
    "    return yc_r\n",
    "\n",
    "def get_zc_l():\n",
    "    return zc_l\n",
    "def get_zc_r():\n",
    "    return zc_r\n",
    "\n",
    "def set_c(c):\n",
    "    cset_c(c)\n",
    "def set_timespan_Epsilon(eps):\n",
    "    cset_timespan_Epsilon(eps)\n",
    "    \n",
    "def get_omega_d(vc):\n",
    "    return vc * get_c() / get_R_r()"
   ]
  },
  {
   "cell_type": "code",
   "execution_count": 2,
   "id": "34f95ed7",
   "metadata": {},
   "outputs": [],
   "source": [
    "set_c(299792458 * 100)\n",
    "set_timespan_Epsilon(1.e-16)\n",
    "v_c = np.float128(0.984)"
   ]
  },
  {
   "cell_type": "code",
   "execution_count": 3,
   "id": "ee803d53",
   "metadata": {},
   "outputs": [
    {
     "data": {
      "text/plain": [
       "-0.21947471419902803"
      ]
     },
     "execution_count": 3,
     "metadata": {},
     "output_type": "execute_result"
    }
   ],
   "source": [
    "calc_sum_Fy_t(N = 1, S = get_S(), R_l=get_R_l(), R_r=get_R_r(), t_i = 0.0,\n",
    "              omega = get_omega_d(v_c),\n",
    "              alpha0_l = np.float128(0),\n",
    "              alpha0_r = np.float128(0))"
   ]
  },
  {
   "cell_type": "code",
   "execution_count": 4,
   "id": "015a8e5f",
   "metadata": {},
   "outputs": [],
   "source": [
    "from scipy import integrate as scipy_integrate\n",
    "\n",
    "# epsabs\n",
    "# float or int, optional\n",
    "# Absolute error tolerance.\n",
    "# Default is 1.49e-8.\n",
    "# quad tries to obtain an accuracy of abs(i-result) <= max(epsabs, epsrel*abs(i))\n",
    "# where i = integral of func from a to b, and result is the numerical approximation. See epsrel below.\n",
    "\n",
    "# epsrel\n",
    "# float or int, optional\n",
    "# Relative error tolerance.\n",
    "# Default is 1.49e-8.\n",
    "# If epsabs <= 0, epsrel must be greater than both 5e-29 and 50 * (machine epsilon). See epsabs above.\n",
    "\n",
    "# limit\n",
    "# float or int, optional\n",
    "# An upper bound on the number of subintervals used in the adaptive algorithm.\n",
    "\n",
    "#Returns:\n",
    "# result\n",
    "# float\n",
    "# The result of the integration.\n",
    "\n",
    "# abserr\n",
    "# float\n",
    "# The maximum of the estimates of the absolute error in the various integration results.\n",
    "\n",
    "# out_dict\n",
    "# dict, optional\n",
    "# A dict containing additional information on the integration.\n",
    "\n",
    "\n",
    "\n",
    "nquad_default_opts = \\\n",
    "           { 'epsabs' : 1.49e-08,\n",
    "             'epsrel' : 1.49e-08,\n",
    "             'limit'  : 50 }\n",
    "\n",
    "nquad_opts = { 'epsabs' : 1.00e-03,\n",
    "               'epsrel' : 1.00e-03,\n",
    "               'limit'  : 50 }\n",
    "\n",
    "nquad_opts = { 'epsabs' : 1.49e-07,\n",
    "               'epsrel' : 1.49e-07,\n",
    "               'limit'  : 200 }\n",
    "\n",
    "#nquad_opts = { 'epsabs' : 1.49e-08,\n",
    "#               'epsrel' : 1.49e-08,\n",
    "#               'limit'  : 100 }"
   ]
  },
  {
   "cell_type": "code",
   "execution_count": 5,
   "id": "303664f9",
   "metadata": {},
   "outputs": [],
   "source": [
    "T = np.float128(2*pi)/get_omega_d(v_c) # период вращения\n",
    "time_steps_number = 36000              # разбиваем период на шаги\n",
    "dt = T / time_steps_number             # длительность шага"
   ]
  },
  {
   "cell_type": "code",
   "execution_count": 6,
   "id": "48a55dd6",
   "metadata": {},
   "outputs": [],
   "source": [
    "t_fy = []\n",
    "for i in range(0, time_steps_number):\n",
    "    t_i = i * dt\n",
    "    ans = calc_sum_Fy_t(N=1, S=get_S(), R_l=get_R_l(), R_r=get_R_r(), t_i = t_i,\n",
    "                        omega = get_omega_d(v_c), to_animate=False)\n",
    "    #print(i, (i/steps_number).n(), t_i, ans)\n",
    "    t_fy += [(i/time_steps_number, ans)]"
   ]
  },
  {
   "cell_type": "code",
   "execution_count": 7,
   "id": "9ccbc8f8",
   "metadata": {},
   "outputs": [
    {
     "data": {
      "image/png": "[encoded data removed]",
      "text/plain": [
       "Graphics object consisting of 1 graphics primitive"
      ]
     },
     "execution_count": 7,
     "metadata": {},
     "output_type": "execute_result"
    }
   ],
   "source": [
    "list_plot(t_fy)"
   ]
  },
  {
   "cell_type": "code",
   "execution_count": 8,
   "id": "b3bc970d",
   "metadata": {},
   "outputs": [
    {
     "data": {
      "text/plain": [
       "1.545461614666704243e-09"
      ]
     },
     "execution_count": 8,
     "metadata": {},
     "output_type": "execute_result"
    }
   ],
   "source": [
    "# интегральная сумма силы по периоду\n",
    "sum_fy = 0\n",
    "for (t_i, fy) in t_fy:\n",
    "    sum_fy += fy * dt\n",
    "sum_fy"
   ]
  },
  {
   "cell_type": "code",
   "execution_count": 9,
   "id": "9f5ab7f3",
   "metadata": {},
   "outputs": [
    {
     "data": {
      "text/plain": [
       "7.2559479012236642267"
      ]
     },
     "execution_count": 9,
     "metadata": {},
     "output_type": "execute_result"
    }
   ],
   "source": [
    "# интегральная сумма силы, приложенной к зарядам, по периоду отнесённая к периоду\n",
    "sum_fy / T"
   ]
  },
  {
   "cell_type": "code",
   "execution_count": 10,
   "id": "8be1dd29",
   "metadata": {},
   "outputs": [
    {
     "data": {
      "text/plain": [
       "(1.5434003414576375e-09, 7.439761180265369e-09)"
      ]
     },
     "execution_count": 10,
     "metadata": {},
     "output_type": "execute_result"
    }
   ],
   "source": [
    "# интеграл силы по периоду\n",
    "ans = scipy_integrate.quad(lambda t : \\\n",
    "    calc_sum_Fy_t(N=1, S=get_S(), R_l=get_R_l(), R_r=get_R_r(), t_i = t,\n",
    "                  omega = get_omega_d(v_c), to_animate=False), \\\n",
    "        0, T)\n",
    "ans\n",
    "# (-8.721028191840928e-10, 3.5107927765742514e-09)"
   ]
  },
  {
   "cell_type": "code",
   "execution_count": 11,
   "id": "6eeb9234",
   "metadata": {},
   "outputs": [
    {
     "data": {
      "text/plain": [
       "7.2462702160108861584"
      ]
     },
     "execution_count": 11,
     "metadata": {},
     "output_type": "execute_result"
    }
   ],
   "source": [
    "# интеграл силы, приложенной к зарядам, по периоду отнесённый к периоду\n",
    "ans[0]/T"
   ]
  },
  {
   "cell_type": "code",
   "execution_count": 12,
   "id": "3b91fe3f",
   "metadata": {},
   "outputs": [],
   "source": [
    "t_fy = []\n",
    "for i in range(0, time_steps_number):\n",
    "    t_i = i * dt\n",
    "    ans = calc_sum_Fy_t(N=2, S=get_S(), R_l=get_R_l(), R_r=get_R_r(), t_i = t_i,\n",
    "                        omega = get_omega_d(v_c), to_animate=False)\n",
    "    #print(i, (i/steps_number).n(), t_i, ans)\n",
    "    t_fy += [(i/time_steps_number, ans)]"
   ]
  },
  {
   "cell_type": "code",
   "execution_count": 13,
   "id": "466c6539",
   "metadata": {},
   "outputs": [
    {
     "data": {
      "image/png": "[encoded data removed]",
      "text/plain": [
       "Graphics object consisting of 1 graphics primitive"
      ]
     },
     "execution_count": 13,
     "metadata": {},
     "output_type": "execute_result"
    }
   ],
   "source": [
    "list_plot(t_fy)"
   ]
  },
  {
   "cell_type": "code",
   "execution_count": 14,
   "id": "5875727c",
   "metadata": {},
   "outputs": [
    {
     "data": {
      "text/plain": [
       "3.1015479991029787646e-09"
      ]
     },
     "execution_count": 14,
     "metadata": {},
     "output_type": "execute_result"
    }
   ],
   "source": [
    "# интегральная сумма силы по периоду\n",
    "sum_fy = 0\n",
    "for (t_i, fy) in t_fy:\n",
    "    sum_fy += fy * dt\n",
    "sum_fy"
   ]
  },
  {
   "cell_type": "code",
   "execution_count": 15,
   "id": "0946b2fb",
   "metadata": {},
   "outputs": [
    {
     "data": {
      "text/plain": [
       "14.561779135154445867"
      ]
     },
     "execution_count": 15,
     "metadata": {},
     "output_type": "execute_result"
    }
   ],
   "source": [
    "# интегральная сумма силы по периоду отнесённая к периоду\n",
    "sum_fy / T"
   ]
  },
  {
   "cell_type": "code",
   "execution_count": 16,
   "id": "8598af59",
   "metadata": {},
   "outputs": [
    {
     "data": {
      "text/plain": [
       "(3.315037007951764e-09, 1.3349440403136124e-08)"
      ]
     },
     "execution_count": 16,
     "metadata": {},
     "output_type": "execute_result"
    }
   ],
   "source": [
    "ans = scipy_integrate.quad(lambda t : \\\n",
    "    calc_sum_Fy_t(N=2, S=get_S(), R_l=get_R_l(), R_r=get_R_r(), t_i = t,\n",
    "                  omega = get_omega_d(v_c), to_animate=False), 0, T)\n",
    "ans"
   ]
  },
  {
   "cell_type": "code",
   "execution_count": 17,
   "id": "ef1ee722",
   "metadata": {},
   "outputs": [
    {
     "data": {
      "text/plain": [
       "15.564110808092655856"
      ]
     },
     "execution_count": 17,
     "metadata": {},
     "output_type": "execute_result"
    }
   ],
   "source": [
    "# интеграл силы по периоду отнесённый к периоду\n",
    "ans[0]/T"
   ]
  },
  {
   "cell_type": "code",
   "execution_count": 18,
   "id": "00f1527a",
   "metadata": {},
   "outputs": [],
   "source": [
    "import matplotlib.pyplot as plt\n",
    "from matplotlib import ticker, cm\n",
    "\n",
    "xa_linspace = np.linspace(np.float128(-40), np.float128(+40), 40*2)\n",
    "ya_linspace = np.linspace(np.float128(-40), np.float128(+40), 40*2)\n",
    "\n",
    "xa_list = xa_linspace.tolist()\n",
    "ya_list = ya_linspace.tolist()\n",
    "\n",
    "xa_grid,ya_grid = np.meshgrid(xa_linspace, ya_linspace)\n",
    "\n",
    "u_ = xa_grid * np.nan\n",
    "v_ = ya_grid * np.nan\n",
    "e_ = xa_grid * np.nan\n",
    "\n",
    "t_ = ya_grid * np.nan\n",
    "rlw_ = ya_grid * np.nan\n",
    "s_ = ya_grid * np.nan\n",
    "bz_ = ya_grid * np.nan\n",
    "\n",
    "ax_ = ya_grid * np.nan\n",
    "ay_ = ya_grid * np.nan\n",
    "am_ = ya_grid * np.nan\n",
    "an_ = ya_grid * np.nan\n",
    "\n",
    "sx_ = ya_grid * np.nan\n",
    "sy_ = ya_grid * np.nan\n",
    "sz_ = ya_grid * np.nan\n",
    "\n",
    "bz_min = +np.finfo(np.float64).max\n",
    "bz_max = -np.finfo(np.float64).max\n",
    "\n",
    "sx_min = +np.finfo(np.float64).max\n",
    "sx_max = -np.finfo(np.float64).max\n",
    "\n",
    "sy_min = +np.finfo(np.float64).max\n",
    "sy_max = -np.finfo(np.float64).max\n",
    "\n",
    "t_cur = 7.5\n",
    "q = 1\n",
    "\n",
    "#def make_R():\n",
    "for ix in np.arange(0, len(xa_linspace), 1):\n",
    "    for iy in np.arange(0, len(ya_linspace), 1):\n",
    "\n",
    "        Xa = xa_list[ix]\n",
    "        Ya = ya_list[iy]\n",
    "        Za = 0.0\n",
    "        R = R_lw(Xa, Ya, Za, t_cur, get_xc_r(), get_yc_r(), get_zc_r(), get_R_r(), -get_omega_d(v_c), alpha=0)\n",
    "        rlw_[iy][ix] = R\n",
    "\n",
    "        #(E_x, E_y, E_z, B_x, B_y, B_z) = EB_lw(Xa, Ya, Za, t_cur, q)\n",
    "        # The Poynting vector S is defined as to be equal\n",
    "        # to the cross product (1/μ)E × B\n",
    "        #S_x = E_y * B_z - E_z * B_y\n",
    "        #S_y = E_z * B_x - E_x * B_z\n",
    "        #S_z = E_x * B_y - E_y * B_x\n",
    "        #sx_[iy][ix] = S_x\n",
    "        #sy_[iy][ix] = S_y\n",
    "        #sz_[iy][ix] = S_z\n",
    "        \n",
    "        (Al_x, Al_y, Al_z) = A_lw(Xa, Ya, Za, t_cur, q, get_xc_r(), get_yc_r(), get_zc_r(), get_R_r(), -get_omega_d(v_c), alpha=0)\n",
    "        (Ar_x, Ar_y, Ar_z) = A_lw(Xa, Ya, Za, t_cur, q, get_xc_l(), get_yc_l(), get_zc_l(), get_R_l(), +get_omega_d(v_c), alpha=0)\n",
    "        ax_[iy][ix] = Al_x + Ar_x\n",
    "        ay_[iy][ix] = Al_y + Ar_y\n",
    "        am_[iy][ix] = sqrt((Al_x + Ar_x)^2 + (Al_y + Ar_y)^2)\n",
    "        an_[iy][ix] = atan2((Al_y + Ar_y),(Al_x + Ar_x))\n",
    "\n",
    "        #if sx_min > S_x:\n",
    "        #    sx_min = S_x\n",
    "        #if sx_max < S_x:\n",
    "        #    sx_max = S_x        \n",
    "\n",
    "        #if sy_min > S_y:\n",
    "        #    sy_min = S_y\n",
    "        #if sy_max < S_y:\n",
    "        #    sy_max = S_y\n",
    "\n",
    "\n",
    "        #u_[iy][ix] = E_x\n",
    "        #v_[iy][ix] = E_y\n",
    "        #e_[iy][ix] = sqrt(E_x*E_x + E_y*E_y)\n",
    "\n",
    "        #t2 = t_lag(Xa, Ya, 0, t_cur)\n",
    "        #t_[iy][ix] = t2\n",
    "\n",
    "\n",
    "        phi_r = phi_lw(Xa, Ya, 0, t_cur, q, get_xc_r(), get_yc_r(), get_zc_r(), get_R_r(), -get_omega_d(v_c), alpha=0)\n",
    "        phi_l = phi_lw(Xa, Ya, 0, t_cur, q, get_xc_l(), get_yc_l(), get_zc_l(), get_R_l(), +get_omega_d(v_c), alpha=0)\n",
    "        s_[iy][ix] = phi_r+phi_l\n",
    "        #bz_[iy][ix] = B_z\n",
    "        #if bz_min > B_z:\n",
    "        #    bz_min = B_z\n",
    "        #if bz_max < B_z:\n",
    "        #    bz_max = B_z"
   ]
  },
  {
   "cell_type": "code",
   "execution_count": 19,
   "id": "a33f5522",
   "metadata": {},
   "outputs": [
    {
     "name": "stderr",
     "output_type": "stream",
     "text": [
      "/usr3/articles/sagemath_docker_build/sage/local/lib/python3.10/site-packages/matplotlib/contour.py:1486: UserWarning: Warning: converting a masked element to nan.\n",
      "  self.zmax = float(z.max())\n",
      "/usr3/articles/sagemath_docker_build/sage/local/lib/python3.10/site-packages/matplotlib/contour.py:1487: UserWarning: Warning: converting a masked element to nan.\n",
      "  self.zmin = float(z.min())\n"
     ]
    },
    {
     "data": {
      "image/png": "[encoded data removed]",
      "text/plain": [
       "<Figure size 432x288 with 2 Axes>"
      ]
     },
     "metadata": {
      "needs_background": "light"
     },
     "output_type": "display_data"
    }
   ],
   "source": [
    "fig,ax=plt.subplots(1,1)\n",
    "#cp = ax.contourf(xa_grid,ya_grid, rlw_, levels = np.linspace(0, 32, 32/1+1))\n",
    "cp = ax.contourf(xa_grid,ya_grid, rlw_)\n",
    "fig.colorbar(cp) # Add a colorbar to a plot\n",
    "ax.set_title('Лиенар-Вихерт radius')\n",
    "ax.set_xlabel('x (cm)')\n",
    "ax.set_ylabel('y (cm)')\n",
    "ax.set_aspect(1)\n",
    "plt.show()"
   ]
  },
  {
   "cell_type": "code",
   "execution_count": 20,
   "id": "857a50fe",
   "metadata": {},
   "outputs": [
    {
     "data": {
      "image/png": "[encoded data removed]",
      "text/plain": [
       "<Figure size 432x288 with 2 Axes>"
      ]
     },
     "metadata": {
      "needs_background": "light"
     },
     "output_type": "display_data"
    }
   ],
   "source": [
    "fig,ax=plt.subplots(1,1)\n",
    "cp = ax.contourf(xa_grid,ya_grid, s_, levels = np.linspace(0.01, 1, int((1-0.01)/0.01+1)))\n",
    "fig.colorbar(cp) # Add a colorbar to a plot\n",
    "ax.set_title('Filled Contours potential Plot')\n",
    "ax.set_xlabel('x (cm)')\n",
    "ax.set_ylabel('y (cm)')\n",
    "ax.set_aspect(1)\n",
    "plt.show()"
   ]
  },
  {
   "cell_type": "code",
   "execution_count": 21,
   "id": "c0fe3e8a",
   "metadata": {},
   "outputs": [
    {
     "data": {
      "image/png": "[encoded data removed]",
      "text/plain": [
       "<Figure size 432x288 with 2 Axes>"
      ]
     },
     "metadata": {
      "needs_background": "light"
     },
     "output_type": "display_data"
    }
   ],
   "source": [
    "fig,ax=plt.subplots(1,1)\n",
    "#cp = ax.contourf(xa_grid,ya_grid, ax_, levels = np.linspace(0.04, 0.5, int((1-0.04)/0.04+1)))\n",
    "cp = ax.contourf(xa_grid,ya_grid, ax_)\n",
    "fig.colorbar(cp) # Add a colorbar to a plot\n",
    "ax.set_title('Filled Contours vector potential x component Plot')\n",
    "ax.set_xlabel('x (cm)')\n",
    "ax.set_ylabel('y (cm)')\n",
    "ax.set_aspect(1)\n",
    "plt.show()"
   ]
  },
  {
   "cell_type": "code",
   "execution_count": 22,
   "id": "36b2eafc",
   "metadata": {},
   "outputs": [
    {
     "data": {
      "image/png": "[encoded data removed]",
      "text/plain": [
       "<Figure size 432x288 with 2 Axes>"
      ]
     },
     "metadata": {
      "needs_background": "light"
     },
     "output_type": "display_data"
    }
   ],
   "source": [
    "fig,ax=plt.subplots(1,1)\n",
    "#cp = ax.contourf(xa_grid,ya_grid, ax_, levels = np.linspace(0.04, 0.5, int((1-0.04)/0.04+1)))\n",
    "cp = ax.contourf(xa_grid,ya_grid, ay_)\n",
    "fig.colorbar(cp) # Add a colorbar to a plot\n",
    "ax.set_title('Filled Contours vector potential y component Plot')\n",
    "ax.set_xlabel('x (cm)')\n",
    "ax.set_ylabel('y (cm)')\n",
    "ax.set_aspect(1)\n",
    "plt.show()"
   ]
  },
  {
   "cell_type": "code",
   "execution_count": 23,
   "id": "945ed13b",
   "metadata": {},
   "outputs": [
    {
     "data": {
      "image/png": "[encoded data removed]",
      "text/plain": [
       "<Figure size 432x288 with 2 Axes>"
      ]
     },
     "metadata": {
      "needs_background": "light"
     },
     "output_type": "display_data"
    }
   ],
   "source": [
    "fig,ax=plt.subplots(1,1)\n",
    "cp = ax.contourf(xa_grid,ya_grid, am_, levels = np.linspace(0.01, 0.5, int((1-0.01)/0.01+1)))\n",
    "#cp = ax.contourf(xa_grid,ya_grid, am_)\n",
    "fig.colorbar(cp) # Add a colorbar to a plot\n",
    "ax.set_title('Filled Contours vector potential module component Plot')\n",
    "ax.set_xlabel('x (cm)')\n",
    "ax.set_ylabel('y (cm)')\n",
    "ax.set_aspect(1)\n",
    "plt.show()"
   ]
  },
  {
   "cell_type": "code",
   "execution_count": 24,
   "id": "e102165b",
   "metadata": {},
   "outputs": [
    {
     "data": {
      "image/png": "[encoded data removed]",
      "text/plain": [
       "<Figure size 432x288 with 2 Axes>"
      ]
     },
     "metadata": {
      "needs_background": "light"
     },
     "output_type": "display_data"
    }
   ],
   "source": [
    "fig,ax=plt.subplots(1,1)\n",
    "#cp = ax.contourf(xa_grid,ya_grid, an_, levels = np.linspace(0.04, 0.5, int((1-0.04)/0.04+1)))\n",
    "cp = ax.contourf(xa_grid,ya_grid, an_)\n",
    "fig.colorbar(cp) # Add a colorbar to a plot\n",
    "ax.set_title('Filled Contours vector potential angle component Plot')\n",
    "ax.set_xlabel('x (cm)')\n",
    "ax.set_ylabel('y (cm)')\n",
    "ax.set_aspect(1)\n",
    "plt.show()"
   ]
  },
  {
   "cell_type": "markdown",
   "id": "c5ed8fd4",
   "metadata": {},
   "source": [
    "Начинаем расчёт силы интегрального давления поля на воображаемый ящик сферической формы окружающий систему зарядов (пусть например \"ящик\" будет идеально поглощающим излучение).\n",
    "\n",
    "для расчёта направляющих косинусов нормали к площадке интегрирования при интегрировании по поверхности сферы нам нужен\n",
    "\n",
    "${\\displaystyle {\\boldsymbol {\\hat {r}}}=\\sin \\theta \\cos \\varphi {\\boldsymbol {\\hat {\\imath }}}+\\sin \\theta \\sin \\varphi {\\boldsymbol {\\hat {\\jmath }}}+\\cos \\theta {\\boldsymbol {\\hat {k}}}}$\n",
    "\n",
    "<p>ортогональный единичный вектор сферических координат в направлении увеличения ${\\displaystyle r}$, а ${\\displaystyle {\\boldsymbol {\\hat {\\imath }}},{\\boldsymbol {\\hat {\\jmath }}},{\\boldsymbol {\\hat {k}}}}$,\n",
    "— единичные векторы декартовых координат.</p>"
   ]
  },
  {
   "cell_type": "code",
   "execution_count": 25,
   "id": "f88fb344",
   "metadata": {},
   "outputs": [],
   "source": [
    "# Интегрируем в сферической системе координат,\n",
    "# у которой однако в соотвествие с принятыми в задаче\n",
    "# наименованиями осей главная ось игрек вместо зет\n",
    "spherical_calc_Maxwells_stress_tensor = lambda r, theta, varphi, t : \\\n",
    "    calc_Maxwells_stress_tensor(X_a = r*sin(theta)*cos(varphi),\n",
    "                                Y_a = r*cos(theta),\n",
    "                                Z_a = r*sin(theta)*sin(varphi),\n",
    "                                t_i = t,\n",
    "                                N = 1, S=get_S(), R_l=get_R_l(), R_r=get_R_r(),\n",
    "                                cos_nx = - sin(theta)*cos(varphi),\n",
    "                                cos_ny = - cos(theta),\n",
    "                                cos_nz = - sin(theta)*sin(varphi),\n",
    "                                omega = get_omega_d(v_c))\n",
    "\n",
    "# направление векторов нормали к сферической воображаемой поверхности инвертировано - снаружи вовнутрь"
   ]
  },
  {
   "cell_type": "code",
   "execution_count": 26,
   "id": "edcb3617",
   "metadata": {},
   "outputs": [
    {
     "data": {
      "text/plain": [
       "(40.1, 1608.0100000000002)"
      ]
     },
     "execution_count": 26,
     "metadata": {},
     "output_type": "execute_result"
    }
   ],
   "source": [
    "# радиус сферы интегрирования\n",
    "R = 4 * get_R_l() + 2 * get_S()\n",
    "R = 40 * get_R_l() + 20 * get_S()\n",
    "R, R^2"
   ]
  },
  {
   "cell_type": "code",
   "execution_count": 27,
   "id": "42a40b6f",
   "metadata": {},
   "outputs": [],
   "source": [
    "spherical_calc_Maxwells_stress_tensor_R_t = lambda theta, varphi, t : \\\n",
    "     R^2 * spherical_calc_Maxwells_stress_tensor(r = R, theta = theta, varphi = varphi, t = t)"
   ]
  },
  {
   "cell_type": "code",
   "execution_count": 28,
   "id": "0dbad9c4",
   "metadata": {},
   "outputs": [],
   "source": [
    "stress_tensor_upper_half_sphere_R_t = lambda t :  scipy_integrate.nquad( \\\n",
    "    lambda theta, varphi : \\\n",
    "      spherical_calc_Maxwells_stress_tensor_R_t(theta = theta, varphi = varphi, t = t), \\\n",
    "        [ [0, pi/2],  [0, 2*pi]], opts=nquad_opts)\n",
    "#          theta     varphi"
   ]
  },
  {
   "cell_type": "code",
   "execution_count": 29,
   "id": "822b3e16",
   "metadata": {},
   "outputs": [],
   "source": [
    "stress_tensor_down_half_sphere_R_t = lambda t :  scipy_integrate.nquad( \\\n",
    "    lambda theta, varphi : \\\n",
    "      spherical_calc_Maxwells_stress_tensor_R_t(theta = theta, varphi = varphi, t = t), \\\n",
    "        [ [pi/2, pi],  [0, 2*pi]], opts=nquad_opts)\n",
    "#          theta     varphi"
   ]
  },
  {
   "cell_type": "code",
   "execution_count": 30,
   "id": "969e9428",
   "metadata": {},
   "outputs": [],
   "source": [
    "stress_tensor_R_t = lambda t :  scipy_integrate.nquad( \\\n",
    "    lambda theta, varphi : \\\n",
    "      spherical_calc_Maxwells_stress_tensor_R_t(theta = theta, varphi = varphi, t = t), \\\n",
    "        [ [0, pi],  [0, 2*pi]], opts=nquad_opts)\n",
    "#          theta     varphi"
   ]
  },
  {
   "cell_type": "code",
   "execution_count": 31,
   "id": "dda48459",
   "metadata": {},
   "outputs": [],
   "source": [
    "T = np.float128(2*pi)/get_omega_d(v_c) # период вращения\n",
    "time_steps_number = 360                # разбиваем период на шаги\n",
    "dt = T / time_steps_number             # длительность шага"
   ]
  },
  {
   "cell_type": "code",
   "execution_count": null,
   "id": "71759cb5",
   "metadata": {},
   "outputs": [
    {
     "name": "stderr",
     "output_type": "stream",
     "text": [
      "/usr3/articles/sagemath_docker_build/sage/local/lib/python3.10/site-packages/scipy/integrate/quadpack.py:879: IntegrationWarning: The occurrence of roundoff error is detected, which prevents \n",
      "  the requested tolerance from being achieved.  The error may be \n",
      "  underestimated.\n",
      "  quad_r = quad(f, low, high, args=args, full_output=self.full_output,\n"
     ]
    },
    {
     "name": "stdout",
     "output_type": "stream",
     "text": [
      "0 0.000000000000000 0.0 (906.151640860101, 0.00022805246068855031)\n",
      "0 0.000000000000000 0.0 (-0.60505854296905, 1.4037160595138286e-07)\n",
      "0 0.000000000000000 0.0 905.546582317132\n"
     ]
    }
   ],
   "source": [
    "t_py = []\n",
    "t_py_up = []\n",
    "t_py_dw = []\n",
    "for i in range(0, time_steps_number):\n",
    "    t_i = i * dt\n",
    "    ans_up = stress_tensor_down_half_sphere_R_t(t_i)\n",
    "    print(i, (i/time_steps_number).n(), t_i, ans_up)\n",
    "    ans_dw = stress_tensor_upper_half_sphere_R_t(t_i)\n",
    "    print(i, (i/time_steps_number).n(), t_i, ans_dw)\n",
    "    print(i, (i/time_steps_number).n(), t_i, ans_up[0]+ans_dw[0])\n",
    "    t_py_up += [(i/time_steps_number, ans_up[0])]\n",
    "    t_py_dw += [(i/time_steps_number, ans_dw[0])]\n",
    "    t_py += [(i/time_steps_number, ans_up[0]+ans_dw[0])]"
   ]
  },
  {
   "cell_type": "code",
   "execution_count": null,
   "id": "be51759c",
   "metadata": {},
   "outputs": [],
   "source": [
    "list_plot(t_py)"
   ]
  },
  {
   "cell_type": "code",
   "execution_count": null,
   "id": "f3cf22e7",
   "metadata": {},
   "outputs": [],
   "source": [
    "# интегральная сумма количества импульса, вытекающего в единицу времени из объема воображаемой сферы по периоду\n",
    "# она же\n",
    "# интегральная сумма силы приложенной к поверхности воображаемой сферы по периоду\n",
    "sum_py = 0\n",
    "for (t_i, py) in t_py:\n",
    "    sum_py += py * dt\n",
    "sum_py"
   ]
  },
  {
   "cell_type": "code",
   "execution_count": null,
   "id": "212df77f",
   "metadata": {},
   "outputs": [],
   "source": [
    "# интегральная сумма силы приложенной к поверхности воображаемой сферы по периоду отнесённая к периоду\n",
    "sum_py / T"
   ]
  },
  {
   "cell_type": "code",
   "execution_count": null,
   "id": "dacfc0bb",
   "metadata": {},
   "outputs": [],
   "source": [
    "# интегральная сумма по периоду количества импульса,\n",
    "# вытекающего в единицу времени из объема воображаемой сферы\n",
    "# через верхнюю полусферу\n",
    "# она же\n",
    "# интегральная сумма силы приложенной к поверхности верхней воображаемой полусферы по периоду\n",
    "sum_py_up = 0\n",
    "for (t_i, py) in t_py_up:\n",
    "    sum_py_up += py * dt\n",
    "sum_py_up"
   ]
  },
  {
   "cell_type": "code",
   "execution_count": null,
   "id": "de35ede4",
   "metadata": {},
   "outputs": [],
   "source": [
    "# интегральная сумма силы приложенной к поверхности верхней воображаемой полусферы по периоду отнесённая к периоду\n",
    "sum_py_up / T"
   ]
  },
  {
   "cell_type": "code",
   "execution_count": null,
   "id": "9f0ad510",
   "metadata": {},
   "outputs": [],
   "source": [
    "# интегральная сумма по периоду количества импульса,\n",
    "# вытекающего в единицу времени из объема воображаемой сферы\n",
    "# через нижнюю полусферу\n",
    "# она же\n",
    "# интегральная сумма силы приложенной к поверхности нижней воображаемой полусферы по периоду\n",
    "sum_py_dw = 0\n",
    "for (t_i, py) in t_py_dw:\n",
    "    sum_py_dw += py * dt\n",
    "sum_py_dw"
   ]
  },
  {
   "cell_type": "code",
   "execution_count": null,
   "id": "0326ad8f",
   "metadata": {},
   "outputs": [],
   "source": [
    "# интегральная сумма силы приложенной к поверхности нижней воображаемой полусферы по периоду отнесённая к периоду\n",
    "sum_py_dw / T"
   ]
  },
  {
   "cell_type": "code",
   "execution_count": null,
   "id": "f97aa148",
   "metadata": {},
   "outputs": [],
   "source": []
  },
  {
   "cell_type": "raw",
   "id": "0b997c0d",
   "metadata": {},
   "source": [
    "spherical_calc_Maxwells_stress_tensor_R_t0 = lambda theta, varphi : \\\n",
    "     R^2 * spherical_calc_Maxwells_stress_tensor(r = R, theta = theta, varphi = varphi, t = 0)"
   ]
  },
  {
   "cell_type": "raw",
   "id": "b9295664",
   "metadata": {},
   "source": [
    "stress_tensor_R_t0 = scipy_integrate.nquad( \\\n",
    "    spherical_calc_Maxwells_stress_tensor_R_t0, \\\n",
    "        [ [0, pi],  [0, 2*pi]], opts=nquad_opts)\n",
    "#          theta      varphi"
   ]
  },
  {
   "cell_type": "raw",
   "id": "7e51c085",
   "metadata": {},
   "source": [
    "stress_tensor_R_t0\n",
    "(1.6246454901338203, 0.003282848190480002)"
   ]
  },
  {
   "cell_type": "code",
   "execution_count": null,
   "id": "818ca0f9",
   "metadata": {},
   "outputs": [],
   "source": [
    "spherical_calc_Maxwells_stress_tensor_R = lambda theta, varphi, t : \\\n",
    "     R^2 * spherical_calc_Maxwells_stress_tensor(r = R, theta = theta, varphi = varphi, t = t)"
   ]
  },
  {
   "cell_type": "code",
   "execution_count": null,
   "id": "0fc7c529",
   "metadata": {},
   "outputs": [],
   "source": [
    "# \"upper\\\\,half\\\\,sphere\"\n",
    "\n",
    "Maxwells_stress_tensor_R_upper_half_sphere = scipy_integrate.nquad( \\\n",
    "    spherical_calc_Maxwells_stress_tensor_R, \\\n",
    "        [ [0, np.float128(pi)/2],  [0, np.float128(2*pi)],  [0, np.float128(2*pi)/get_omega_d()]], opts=nquad_opts)\n",
    "#                theta                  varphi                   t"
   ]
  },
  {
   "cell_type": "code",
   "execution_count": null,
   "id": "3b06e442",
   "metadata": {},
   "outputs": [],
   "source": [
    "Maxwells_stress_tensor_R_upper_half_sphere"
   ]
  },
  {
   "cell_type": "code",
   "execution_count": null,
   "id": "22a3ce44",
   "metadata": {},
   "outputs": [],
   "source": [
    "# \"down\\\\,half\\\\,sphere\"\n",
    "\n",
    "Maxwells_stress_tensor_R_down_half_sphere = scipy_integrate.nquad( \\\n",
    "    spherical_calc_Maxwells_stress_tensor_R, \\\n",
    "        [ [np.float128(pi)/2, np.float128(pi)],  [0, np.float128(2*pi)],  [0, np.float128(2*pi)/get_omega_d()]], opts=nquad_opts)\n",
    "#                theta                  varphi                   t"
   ]
  },
  {
   "cell_type": "code",
   "execution_count": null,
   "id": "2082b77c",
   "metadata": {},
   "outputs": [],
   "source": [
    "Maxwells_stress_tensor_R_down_half_sphere"
   ]
  },
  {
   "cell_type": "code",
   "execution_count": null,
   "id": "4d495832",
   "metadata": {},
   "outputs": [],
   "source": [
    "Maxwells_stress_tensor_R_upper_half_sphere + Maxwells_stress_tensor_R_down_half_sphere"
   ]
  },
  {
   "cell_type": "code",
   "execution_count": null,
   "id": "b3b43dd9",
   "metadata": {},
   "outputs": [],
   "source": [
    "Maxwells_stress_tensor_R = scipy_integrate.nquad( \\\n",
    "    spherical_calc_Maxwells_stress_tensor_R, \\\n",
    "        [ [0, np.float128(pi)],  [0, np.float128(2*pi)],  [0, np.float128(2*pi)/get_omega_d()]], opts=nquad_opts)\n",
    "#                theta                  varphi                   t"
   ]
  },
  {
   "cell_type": "code",
   "execution_count": null,
   "id": "184b0e76",
   "metadata": {},
   "outputs": [],
   "source": [
    "Maxwells_stress_tensor_R\n",
    "# v_c = np.float128(0.984)\n",
    "#         result                  abserr\n",
    "# (-1.553907207973527e-07,  1.0236458948831668)   # 'epsabs' : 1.49e-03, 'epsrel' : 1.49e-03, 'limit'  : 50\n",
    "# (-1.5539075127251786e-07, 0.009103807089559712) # 'epsabs' : 1.49e-05, 'epsrel' : 1.49e-05, 'limit'  : 200\n",
    "\n",
    "# 'epsabs' : 1.49e-07, 'epsrel' : 1.49e-07, 'limit'  : 200\n",
    "# IntegrationWarning: The occurrence of roundoff error is detected, which prevents \n",
    "#  the requested tolerance from being achieved.  The error may be \n",
    "#  underestimated.\n",
    "# (9.719863017691997e-09, 8.512745300763309e-05)"
   ]
  },
  {
   "cell_type": "code",
   "execution_count": null,
   "id": "08ba43b5",
   "metadata": {},
   "outputs": [],
   "source": [
    "calc_sum_Fy_t(N=1, S=S, R_l=R_l, R_r=R_r, t_i = 1)"
   ]
  },
  {
   "cell_type": "code",
   "execution_count": null,
   "id": "32eb219c",
   "metadata": {},
   "outputs": [],
   "source": []
  }
 ],
 "metadata": {
  "kernelspec": {
   "display_name": "SageMath 9.6.beta7",
   "language": "sage",
   "name": "sagemath"
  },
  "language_info": {
   "codemirror_mode": {
    "name": "ipython",
    "version": 3
   },
   "file_extension": ".py",
   "mimetype": "text/x-python",
   "name": "python",
   "nbconvert_exporter": "python",
   "pygments_lexer": "ipython3",
   "version": "3.10.3"
  }
 },
 "nbformat": 4,
 "nbformat_minor": 5
}
