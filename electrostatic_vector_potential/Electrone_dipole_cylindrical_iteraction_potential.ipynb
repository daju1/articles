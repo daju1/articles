{
 "cells": [
  {
   "cell_type": "markdown",
   "id": "4a4322e5",
   "metadata": {},
   "source": [
    "# Векторный потенциал прецессирующего магнитного диполя"
   ]
  },
  {
   "cell_type": "markdown",
   "id": "d4ed3de1",
   "metadata": {},
   "source": [
    "Предыстория вопроса состоит в том, что в работе \n",
    "\n",
    "https://nbviewer.org/github/daju1/articles/blob/master/electrostatic_vector_potential/Vector_potential_of_the_electrostatic_field_of_a_point_charge.ipynb\n",
    "\n",
    "мне удалось записать векторный потенциал для кулоновского поля точечного электрического заряда. Таким образом формула для векторного потенциала кулоновского заряда получена и проверка показала, что операция ротора примененная к этому векторнному потенциалу дает кулоновское электрическое поле точечного заряда.\n",
    "\n",
    "Полученный векторный потенциал по своей форме весьма интересный. Его вид как будто показал, что существование электростатического заряда не возможно без выделенной оси вращения.\n",
    "\n",
    "Поэтому в настоящей работе я задаюсь следующим вопросом: может ли векторный потенциал кулоновского поля электрона создаваться, например, с помощью прецессии дипольного момента магнетона Бора?\n",
    "\n",
    "Таким образом я рассматриваю далее следующую задачу: имеется магнитный диполь с двумя противоположно заряженными магнитными полюсами, который прецессирует вокруг оси проходящей через центр магнитного диполя. Более наглядно моделируемая в данной работе структура нарисована здесь\n",
    "\n",
    "https://nbviewer.org/github/daju1/articles/blob/master/electrostatic_vector_potential/Structure_of_electron.ipynb\n",
    "\n",
    "\n",
    "Таким образом создаётся симметричная пара кольцевых магнитных токов, которые текут во взаимно противоположных направлениях (потому как движение по окружности в одном и том же направлении, например по часовой стрелке, пары магнитных зарядов, имеющих противоположные знаки создает пару взаимно противоположных по направлению кольцевых магнитных токов).\n",
    "\n",
    "Для решения этой задачи в литературе был найден алгоритм расчета векторного потенциала для кольцевого тока, который сводится к эллиптическим интегралам. Таким образом трехмерное интегрирование сводится к двумерному.\n",
    "\n",
    "Однако работа в цилиндрической системе координат для целей настоящей работы оказалась неудобной. Потому что в цилиндрических координатах интегральное уравнение Фредгольма первого рода не удалось привести к интегральному уравнению Фредгольма второго рода.\n",
    "\n",
    "https://nbviewer.org/github/daju1/articles/blob/master/electrostatic_vector_potential/Vector_potential_of_a_precessing_magnetic_dipole.ipynb\n",
    "\n",
    "Поэтому в данной работе решается задача расчёта векторного потенциала кольцевого тока в сферической системе координат с последующим решением интегрального уравнения Фредгольма.\n",
    "\n",
    "Поскольку я рассматриваю не точечный магнитный заряд в составе прецессирующего диполя магнетона Бора, а распределенный в пространстве магнитный заряд, то в подынтегральном выражении моего интегрального уравнения есть два множителя: неизвестная функция плотности распределения магнитных токов в пространстве и так называемое ядро (или оператор) моего интегрального уравнения.\n",
    "\n",
    "Интегральное уравнение решается методом итераций. Из-за вычислительных сложностей многоитерационного интегирования в данной работе представлен результат лишь нулевого приближения неизвестной функции распределения магнитных токов прецессирующего магнетона Бора в пространстве."
   ]
  },
  {
   "cell_type": "code",
   "execution_count": 1,
   "id": "f92423f4",
   "metadata": {},
   "outputs": [],
   "source": [
    "from IPython.display import display, Math, Latex\n",
    "\n",
    "def disp(ex):\n",
    "    display(Math(latex(ex)))\n",
    "    \n",
    "def displ(tex):\n",
    "    display(Math(tex))"
   ]
  },
  {
   "cell_type": "code",
   "execution_count": 2,
   "id": "983748e7",
   "metadata": {},
   "outputs": [],
   "source": [
    "theta_m = var(\"theta_m\")\n",
    "theta_a = var(\"theta_a\")\n",
    "#assume (theta_a, \"real\")\n",
    "r_m = var(\"r_m\")\n",
    "r_a = var(\"r_a\")\n",
    "\n",
    "assume(r_m>0)\n",
    "assume(r_a>0)"
   ]
  },
  {
   "cell_type": "markdown",
   "id": "ed75fdd4",
   "metadata": {},
   "source": [
    "# Векторный потенциал электростатического поля точечного заряда\n",
    "\n",
    "https://nbviewer.org/github/daju1/articles/blob/master/electrostatic_vector_potential/Vector_potential_of_the_electrostatic_field_of_a_point_charge.ipynb\n",
    "\n",
    "в цилиндрической системе координат\n",
    "\n",
    "$$\\vec A = -\\frac{ z}{{\\rho}\\sqrt{\\rho^{2} + z^{2}} }\\,{\\vec {e}}_{\\varphi }$$"
   ]
  },
  {
   "cell_type": "markdown",
   "id": "87aeafb2",
   "metadata": {},
   "source": [
    "в сферической системе координат\n",
    "\n",
    "$$\\vec A = -\\frac{сtg \\, \\theta}{r}\\,{\\vec {e}}_{\\varphi }$$"
   ]
  },
  {
   "cell_type": "code",
   "execution_count": 3,
   "id": "d6a1c46e",
   "metadata": {},
   "outputs": [],
   "source": [
    "A_q = lambda ra, theta_a : cot(theta_a) / (ra)"
   ]
  },
  {
   "cell_type": "markdown",
   "id": "ed2a781f",
   "metadata": {},
   "source": [
    "# уравнение для векторного потенциала прецессирующего магнитного диполя"
   ]
  },
  {
   "cell_type": "markdown",
   "id": "39e4504a",
   "metadata": {},
   "source": [
    "Итак, для ответа на вопрос может ли векторный потенциал кулоновского поля электрона создаваться, например, с помощью прецессии дипольного момента магнетона Бора? - рассмотрим следующую задачу.\n",
    "\n",
    "Имеется магнитный диполь с двумя противоположно заряженными магнитными полюсами, который прецессирует вокруг оси проходящей через центр магнитного диполя. Таким образом создаётся симметричная пара кольцевых магнитных токов, которые текут во взаимно противоположных направлениях (потому как движение по окружности в одном и том же направлении, например по часовой стрелке, пары магнитных зарядов, имеющих противоположные знаки создает пару взаимно противоположных по направлению кольцевых магнитных токов).\n",
    "\n",
    "Составим теперь уравнение векторного потенциала прецессирующего магнитного диполя на основе данных об объемном распределении магнитных токов."
   ]
  },
  {
   "cell_type": "markdown",
   "id": "5ce5c4d2",
   "metadata": {},
   "source": [
    "\n",
    "в цилиндрической системе координат\n",
    "\n",
    "$\\rho_a$, $z_a$ - координаты наблюдения\n",
    "\n",
    "$\\rho_m$, $z_m$, $\\varphi_m$ - координаты интегрирования, координаты магнитных зарядов"
   ]
  },
  {
   "cell_type": "markdown",
   "id": "2a9e066a",
   "metadata": {},
   "source": [
    "$A_{\\varphi} = \\int\\limits_{z_m=-\\infty}^{\\infty}\\,\\,\\int\\limits_{\\rho_m=0}^{\\infty}\\frac{j_m(\\rho_m, z_m) }{c} \\left(\\int\\limits_{\\varphi_m=0}^{2\\pi}\\frac{cos\\,{\\varphi_m }\\,\\rho_m \\, d \\varphi_m}{R}\\right)d \\rho_m \\, d z_m$"
   ]
  },
  {
   "cell_type": "markdown",
   "id": "dc4ab405",
   "metadata": {},
   "source": [
    "Неизвестные функции\n",
    "\n",
    "$q_m(r_m, \\theta_m)$ - плотность магнитного заряда в зависимости от цилиндрических координат\n",
    "\n",
    "$\\omega_m (r_m, \\theta_m)$ - круговая частота вращения\n",
    "\n",
    "$j_m(r_m, \\theta_m) = q_m(r_m, \\theta_m)\\, \\omega_m (r_m, \\theta_m)$ - плотность магнитного тока"
   ]
  },
  {
   "cell_type": "markdown",
   "id": "9d38cffb",
   "metadata": {},
   "source": [
    "<p>Если заданы сферические координаты точки, то переход к цилиндрическим осуществляется по формулам:\n",
    "</p>"
   ]
  },
  {
   "cell_type": "markdown",
   "id": "7176b143",
   "metadata": {},
   "source": [
    "${\\displaystyle {\\begin{cases}\\rho =r\\sin \\theta ,\\\\\\varphi =\\varphi ,\\\\z=r\\cos \\theta .\\end{cases}}}$"
   ]
  },
  {
   "cell_type": "markdown",
   "id": "264bf0ea",
   "metadata": {},
   "source": [
    "<p>Обратно от цилиндрических к сферическим:\n",
    "</p>"
   ]
  },
  {
   "cell_type": "markdown",
   "id": "3890e69f",
   "metadata": {},
   "source": [
    "${\\displaystyle {\\begin{cases}r={\\sqrt {\\rho ^{2}+z^{2}}},\\\\\\theta =\\mathrm {arctg} {\\dfrac {\\rho }{z}},\\\\\\varphi =\\varphi .\\end{cases}}}$"
   ]
  },
  {
   "cell_type": "markdown",
   "id": "71d85735",
   "metadata": {},
   "source": [
    "в сферической системе координат\n",
    "\n",
    "$r_a$, $\\theta_a$ - координаты наблюдения\n",
    "\n",
    "$r_m$, $\\theta_m$, $\\varphi_m$ - координаты интегрирования, координаты магнитных зарядов"
   ]
  },
  {
   "cell_type": "markdown",
   "id": "e3c1bc68",
   "metadata": {},
   "source": [
    "Ниже приведена имплементация алгоритма расчета векторного потенциала для кольцевого тока, который сводится к эллиптическим интегралам.\n",
    "\n",
    "https://nbviewer.org/github/daju1/articles/blob/master/electrostatic_vector_potential/Vector_potential_of_a_precessing_magnetic_dipole.ipynb"
   ]
  },
  {
   "cell_type": "markdown",
   "id": "6d7d6001",
   "metadata": {},
   "source": [
    "\n",
    "$${{A^{*}}_E}_{\\varphi} = \\frac{1}{c}\\int\\limits_{V}^{}\\frac{{j_m}_{\\varphi}}{R} dV$$\n"
   ]
  },
  {
   "cell_type": "markdown",
   "id": "cbb4f254",
   "metadata": {},
   "source": [
    "Векторный потенциал кольцевого тока\n",
    "\n",
    "$A_{\\varphi} = \\frac{\\mu \\, I}{4 \\pi}\\int\\limits_{\\varphi}^{}\\frac{\\rho_j \\,cos\\,{\\varphi } \\, d \\varphi}{R}$"
   ]
  },
  {
   "cell_type": "markdown",
   "id": "9fd8dfa5",
   "metadata": {},
   "source": [
    "Окончательно имеем\n",
    "\n",
    "$a = 1+\\frac{\\rho_a^2}{\\rho_j^2}+\\frac{(z_j-z_a)^2}{\\rho_j^2}$, $b = 2\\,\\frac{\\rho_a}{\\rho_j}$\n",
    "\n",
    "$m=\\frac{2\\,b}{a\\,+\\,b}$\n",
    "\n",
    "$A_{\\varphi} = \\frac{\\mu \\, I}{4 \\pi} \\left(\\frac{a}{b}\\frac{2}{\\sqrt{a+b}}\\int\\limits_{0}^{\\pi/2}\\frac{d \\psi}{\\sqrt{1\\,-\\,m\\,sin^{~2} \\psi }} - \\frac{2\\sqrt{a+b}}{b}\\int\\limits_{0}^{\\pi/2}{\\sqrt{1\\,-\\,m\\,sin^{~2} \\psi }}\\, d \\psi \\right)$\n",
    "\n",
    "$A_{\\varphi} = \\frac{\\mu \\, I}{4 \\pi} \\left(k_K\\int\\limits_{0}^{\\pi/2}\\frac{d \\psi}{\\sqrt{1\\,-\\,m\\,sin^{~2} \\psi }} - k_E\\int\\limits_{0}^{\\pi/2}{\\sqrt{1\\,-\\,m\\,sin^{~2} \\psi }}\\, d \\psi \\right)$\n",
    "\n",
    "$k_K = \\frac{a}{b}\\frac{2}{\\sqrt{a+b}}$\n",
    "\n",
    "$k_E = \\frac{2\\sqrt{a+b}}{b}$\n",
    "\n",
    "$A_{\\varphi}\\left(\\rho_j, \\rho_a, z_j, z_a\\right) = \\frac{\\mu \\, I}{4 \\pi} \\left(k_K\\,K(m) - k_E\\,E(m) \\right)$\n",
    "\n",
    "где при принятых обозначениях\n",
    "\n",
    "Полный нормальный эллиптический интеграл Лежандра 1-го рода\n",
    "\n",
    "Complete elliptic integral of the first kind\n",
    "\n",
    "class sage.functions.special.EllipticKC\n",
    "\n",
    "Return the complete elliptic integral of the first kind:\n",
    "\n",
    "$K(m) = \\int\\limits_{0}^{\\pi/2}\\frac{d \\psi}{\\sqrt{1\\,-\\,m\\,sin^{~2} \\psi }}$\n",
    "\n",
    "sage: elliptic_kc(m)\n",
    "\n",
    "Полный нормальный эллиптический интеграл Лежандра 2-го рода\n",
    "\n",
    "Complete elliptic integral of the second kind\n",
    "\n",
    "class sage.functions.special.EllipticEC\n",
    "\n",
    "$E(m) = \\int\\limits_{0}^{\\pi/2}{\\sqrt{1\\,-\\,m\\,sin^{~2} \\psi }}\\, d \\psi$\n",
    "\n",
    "sage: elliptic_ec(m)"
   ]
  },
  {
   "cell_type": "markdown",
   "id": "a34de4cd",
   "metadata": {},
   "source": [
    "$A_{\\varphi} = \\int\\limits_{z_m=-\\infty}^{\\infty}\\,\\,\\int\\limits_{\\rho_m=0}^{\\infty}\\frac{j_m(\\rho_m, z_m) }{c} \\left(\\int\\limits_{\\varphi_m=0}^{2\\pi}\\frac{cos\\,{\\varphi_m }\\,\\rho_m \\, d \\varphi_m}{R}\\right)d \\rho_m \\, d z_m$"
   ]
  },
  {
   "cell_type": "markdown",
   "id": "58e9adb3",
   "metadata": {},
   "source": [
    "$ \\int\\limits_{\\varphi}^{}\\frac{\\rho_j \\,cos\\,{\\varphi } \\, d \\varphi}{R} = \\left(k_K\\,K(m) - k_E\\,E(m) \\right)$"
   ]
  },
  {
   "cell_type": "markdown",
   "id": "8074ef81",
   "metadata": {},
   "source": [
    "$A_{\\varphi} = \\int\\limits_{z_m=-\\infty}^{\\infty}\\,\\,\\int\\limits_{\\rho_m=0}^{\\infty}\\frac{j_m(\\rho_m, z_m) }{c} \\left(k_K\\,K(m) - k_E\\,E(m) \\right)d \\rho_m \\, d z_m$"
   ]
  },
  {
   "cell_type": "code",
   "execution_count": 4,
   "id": "714c11ca",
   "metadata": {},
   "outputs": [],
   "source": [
    "# a and b for ring\n",
    "a = lambda rj, ra, zj, za : 1 + (ra/rj)^2 + ((zj-za)/rj)^2\n",
    "b = lambda rj, ra : 2 * (ra/rj)\n",
    "# m for ring\n",
    "M = lambda rj, ra, zj, za : 2 * b (rj, ra) / (a(rj, ra, zj, za) + b(rj, ra))\n",
    "# k_K and k_E for ring\n",
    "k_K = lambda rj, ra, zj, za : 2 * a(rj, ra, zj, za) / b(rj, ra) / sqrt(a(rj, ra, zj, za) + b(rj, ra))\n",
    "k_E = lambda rj, ra, zj, za : 2 * sqrt(a(rj, ra, zj, za) + b(rj, ra)) / b(rj, ra)\n",
    "A_ring_elliptic = lambda rj, ra, zj, za : \\\n",
    "       + k_K(rj, ra, zj, za) * elliptic_kc(M(rj, ra, zj, za)) \\\n",
    "       - k_E(rj, ra, zj, za) * elliptic_ec(M(rj, ra, zj, za))"
   ]
  },
  {
   "cell_type": "code",
   "execution_count": 5,
   "id": "e4edda37",
   "metadata": {},
   "outputs": [
    {
     "data": {
      "image/png": "[encoded data removed]",
      "text/plain": [
       "Graphics object consisting of 1 graphics primitive"
      ]
     },
     "metadata": {},
     "output_type": "display_data"
    }
   ],
   "source": [
    "p = plot(A_ring_elliptic(\n",
    "    rj = 1, ra = r_a, \n",
    "    zj = 0, za = 0.2),\n",
    "         (r_a, 0, 2))\n",
    "p.show(title=\"Векторный потенциал токового кольца на высоте $z_a=0.2r_j$\",\n",
    "       axes_labels=[\"Расстояние от оси $r_a$\", \"\"])"
   ]
  },
  {
   "cell_type": "markdown",
   "id": "505c62da",
   "metadata": {},
   "source": [
    "$A_{\\varphi} \\left(r_a, z_a\\right) = \\int\\limits_{z_m=-\\infty}^{\\infty}\\,\\,\\int\\limits_{\\rho_m=0}^{\\infty}\\frac{j_m(\\rho_j, z_j) }{c} A\\_ring\\_elliptic(\\rho_j, \\rho_a, z_j, z_a)\\, d \\rho_j \\, d z_j$"
   ]
  },
  {
   "cell_type": "markdown",
   "id": "9f532617",
   "metadata": {},
   "source": [
    "Производим инициализацию неизвестной функции магнитных токов для подстановки в уравнение \n",
    "\n",
    "$${{A^{*}}_E}_{\\varphi} = \\frac{1}{c}\\int\\limits_{V}^{}\\frac{{j_m}_{\\varphi}}{R} dV$$\n",
    "\n",
    "Ряд экспериментов показал целесообразность инициализации угловой части магнитного тока в виде\n",
    "\n",
    "$${{j_m}_{\\varphi}}  = {{\\rho_m}} \\cdot {{\\omega_m}} \\sim \\frac{cos(\\theta_m)^{2k+1}}{r^{3}}, k = 0,1,2,... $$\n",
    "\n",
    "where ${{j_m}_{\\varphi}}$ is density of magnetic current\n",
    "\n",
    "$${{\\rho_m}} \\sim \\frac{cos(\\theta_m)^{2k+1}}{r^{2}} $$\n",
    "\n",
    "where ${{\\rho_m}}$ is density of magnetic charge and\n",
    "\n",
    "$${{\\omega_m}} \\sim \\frac{1}{r} $$\n",
    "\n",
    "is angular frequency of magnetic charge\n",
    "\n",
    "Таким образом сохраняется условие нормируемости плотности магнитных зарядов благодаря их убыванию пропорционально $1/r^2$ а так же, вероятно, можно избежать проблемы превышения магнитными зарядами скорости света на больших $r$ благодаря тому что частота вращения магнитных зарядов спадает как $1/r$"
   ]
  },
  {
   "cell_type": "code",
   "execution_count": 6,
   "id": "706626e4",
   "metadata": {},
   "outputs": [],
   "source": [
    "# инициализируем неизвестную функцию распределения\n",
    "# плотности магнитного тока в объёме\n",
    "# прецессирующего магнитного диполя как\n",
    "\n",
    "# J_theta = lambda theta_m : cot(theta_m)\n",
    "# J_theta = lambda theta_m : cos(theta_m)/sin(theta_m)\n",
    "# J_theta = lambda theta_m : cos(theta_m)\n",
    "J_theta   = lambda theta_m : cos(theta_m)^9\n",
    "rho_theta = lambda theta_m : cos(theta_m)^9\n",
    "# J_r = lambda r_m : 1 / r_m^(3/2)\n",
    "# J_r = lambda r_m : 1 / r_m^(2)\n",
    "J_r   = lambda r_m : 1 / r_m^(3)\n",
    "rho_r = lambda r_m : 1 / r_m^(2)\n",
    "\n",
    "# J_r = lambda r_m : 1.1 / r_m^(3/2) + 0.15 / r_m^2\n",
    "\n",
    "# J_r = lambda r_m : exp(-r_m^(2))"
   ]
  },
  {
   "cell_type": "code",
   "execution_count": 7,
   "id": "f51f9344",
   "metadata": {},
   "outputs": [],
   "source": [
    "j1_spherical = lambda r_m, theta_m : J_r(r_m) * J_theta(theta_m)"
   ]
  },
  {
   "cell_type": "code",
   "execution_count": 8,
   "id": "636d2507",
   "metadata": {},
   "outputs": [],
   "source": [
    "j1_cylindrical = lambda rho, z : \\\n",
    "    j1_spherical(r_m = sqrt(rho^2+z^2),\n",
    "                 theta_m = atan2(rho, z))"
   ]
  },
  {
   "cell_type": "markdown",
   "id": "7a0781a0",
   "metadata": {},
   "source": [
    "$A_{\\varphi} \\left(r_a, z_a\\right) = \\int\\limits_{z_m=-\\infty}^{\\infty}\\,\\,\\int\\limits_{\\rho_m=0}^{\\infty}\\frac{j_m(\\rho_j, z_j) }{c} A\\_ring\\_elliptic(\\rho_j, \\rho_a, z_j, z_a)\\, d \\rho_j \\, d z_j$"
   ]
  },
  {
   "cell_type": "code",
   "execution_count": 9,
   "id": "18df1d71",
   "metadata": {},
   "outputs": [],
   "source": [
    "cA_integrand = lambda rho_a, z_a, rho_j, z_j : \\\n",
    "    j1_cylindrical(rho_j, z_j) * A_ring_elliptic(\n",
    "    rj = rho_j, ra = rho_a, \n",
    "    zj = z_j, za = z_a)"
   ]
  },
  {
   "cell_type": "code",
   "execution_count": 10,
   "id": "0f9b66ca",
   "metadata": {},
   "outputs": [
    {
     "data": {
      "text/plain": [
       "z_c"
      ]
     },
     "execution_count": 10,
     "metadata": {},
     "output_type": "execute_result"
    }
   ],
   "source": [
    "var(\"rho_a, z_a\")\n",
    "var(\"rho_j, z_j\")\n",
    "var(\"z_c\")"
   ]
  },
  {
   "cell_type": "code",
   "execution_count": 11,
   "id": "93d894ce",
   "metadata": {},
   "outputs": [
    {
     "data": {
      "text/latex": [
       "$\\displaystyle -\\frac{{\\left(\\frac{\\rho_{j} \\sqrt{\\frac{\\rho_{a}^{2}}{\\rho_{j}^{2}} + \\frac{2 \\, \\rho_{a}}{\\rho_{j}} + \\frac{{\\left(z_{a} - z_{j}\\right)}^{2}}{\\rho_{j}^{2}} + 1} E\\left(\\frac{4 \\, \\rho_{a}}{\\rho_{j} {\\left(\\frac{\\rho_{a}^{2}}{\\rho_{j}^{2}} + \\frac{2 \\, \\rho_{a}}{\\rho_{j}} + \\frac{{\\left(z_{a} - z_{j}\\right)}^{2}}{\\rho_{j}^{2}} + 1\\right)}}\\right)}{\\rho_{a}} - \\frac{\\rho_{j} {\\left(\\frac{\\rho_{a}^{2}}{\\rho_{j}^{2}} + \\frac{{\\left(z_{a} - z_{j}\\right)}^{2}}{\\rho_{j}^{2}} + 1\\right)} K\\left(\\frac{4 \\, \\rho_{a}}{\\rho_{j} {\\left(\\frac{\\rho_{a}^{2}}{\\rho_{j}^{2}} + \\frac{2 \\, \\rho_{a}}{\\rho_{j}} + \\frac{{\\left(z_{a} - z_{j}\\right)}^{2}}{\\rho_{j}^{2}} + 1\\right)}}\\right)}{\\rho_{a} \\sqrt{\\frac{\\rho_{a}^{2}}{\\rho_{j}^{2}} + \\frac{2 \\, \\rho_{a}}{\\rho_{j}} + \\frac{{\\left(z_{a} - z_{j}\\right)}^{2}}{\\rho_{j}^{2}} + 1}}\\right)} z_{j}^{9}}{{\\left(\\rho_{j}^{2} + z_{j}^{2}\\right)}^{6}}$"
      ],
      "text/plain": [
       "<IPython.core.display.Math object>"
      ]
     },
     "metadata": {},
     "output_type": "display_data"
    }
   ],
   "source": [
    "disp(cA_integrand(rho_a, z_a, rho_j, z_j))"
   ]
  },
  {
   "cell_type": "code",
   "execution_count": 20,
   "id": "1e17ed40",
   "metadata": {},
   "outputs": [
    {
     "data": {
      "text/plain": [
       "(rho_a, rho_j, z_a, z_j)"
      ]
     },
     "execution_count": 20,
     "metadata": {},
     "output_type": "execute_result"
    }
   ],
   "source": [
    "cA_integrand(rho_a, z_a, rho_j, z_j).variables()"
   ]
  },
  {
   "cell_type": "code",
   "execution_count": 22,
   "id": "5826dd00",
   "metadata": {},
   "outputs": [
    {
     "data": {
      "image/png": "[encoded data removed]",
      "text/plain": [
       "Graphics object consisting of 1 graphics primitive"
      ]
     },
     "metadata": {},
     "output_type": "display_data"
    }
   ],
   "source": [
    "contour_plot(cA_integrand(rho_a, z_a, rho_j = 1, z_j = 1),\n",
    "             (rho_a, 0, 2), (z_a, 0, 2),\n",
    "             cmap=\"jet\", colorbar=True).show()"
   ]
  },
  {
   "cell_type": "code",
   "execution_count": 12,
   "id": "7c32c72d",
   "metadata": {},
   "outputs": [],
   "source": [
    "from scipy import integrate as scipy_integrate"
   ]
  },
  {
   "cell_type": "code",
   "execution_count": 13,
   "id": "1ec4630f",
   "metadata": {},
   "outputs": [],
   "source": [
    "cA_int_zj = lambda rho_a, z_a, rho_j, zj1, zj2: \\\n",
    "    scipy_integrate.quad( \\\n",
    "        lambda z_j : cA_integrand(rho_a, z_a, rho_j, z_j), zj1, zj2)[0]"
   ]
  },
  {
   "cell_type": "code",
   "execution_count": 26,
   "id": "b341fa04",
   "metadata": {},
   "outputs": [],
   "source": [
    "cA_int_z_j = lambda rho_a, z_a, rho_j, zj1, zj2: \\\n",
    "    cA_integrand(rho_a, z_a, rho_j, z_j).integrate(z_j, zj1, zj2,\n",
    "                                                   algorithm=\"sympy\")"
   ]
  },
  {
   "cell_type": "raw",
   "id": "24cc5a82",
   "metadata": {},
   "source": [
    "contour_plot(cA_int_z_j(rho_a, z_a, rho_j = 1, zj1 = 1, zj2 = 2),\n",
    "             (rho_a, 0, 2), (z_a, 0, 2),\n",
    "             cmap=\"jet\", colorbar=True).show()"
   ]
  },
  {
   "cell_type": "code",
   "execution_count": 14,
   "id": "53dd9a1e",
   "metadata": {},
   "outputs": [],
   "source": [
    "cA_int_zj_rj = lambda rho_a, z_a, zj1, zj2, rj1, rj2: \\\n",
    "    scipy_integrate.quad( \\\n",
    "        lambda rho_j : cA_int_zj(rho_a, z_a, rho_j, zj1, zj2), rj1, rj2)[0]"
   ]
  },
  {
   "cell_type": "code",
   "execution_count": 18,
   "id": "c0b4b201",
   "metadata": {},
   "outputs": [],
   "source": [
    "def A1(rho_a, z_a, zj2, rj2):\n",
    "    return cA_int_zj_rj(rho_a=rho_a, z_a=z_a,\n",
    "                        zj1=-zj2, zj2=zj2,\n",
    "                        rj1=0,    rj2=rj2)[0]"
   ]
  },
  {
   "cell_type": "raw",
   "id": "918f25c1",
   "metadata": {},
   "source": [
    "contour_plot(A1(rho_a, z_a, zj2 = 100, rj2 = 100),\n",
    "             (rho_a, 0, 10), (z_a, 0, 10),\n",
    "             cmap=\"jet\", colorbar=True).show()"
   ]
  },
  {
   "cell_type": "code",
   "execution_count": 16,
   "id": "005c946e",
   "metadata": {},
   "outputs": [
    {
     "data": {
      "text/plain": [
       "(rho_a, rho_j, z_a, z_j)"
      ]
     },
     "execution_count": 16,
     "metadata": {},
     "output_type": "execute_result"
    }
   ],
   "source": [
    "cA_integrand(rho_a, z_a, rho_j, z_j).variables()"
   ]
  },
  {
   "cell_type": "code",
   "execution_count": 34,
   "id": "1cf5c53d",
   "metadata": {},
   "outputs": [],
   "source": [
    "import numpy as np\n",
    "def make_A1(zj2, rj2):\n",
    "    #xa_linspace = np.linspace(np.float64(-20), np.float64(+20),  40)\n",
    "    #ya_linspace = np.linspace(np.float64(-20), np.float64(+80), 100)\n",
    "    xa_linspace = np.linspace(np.float64(-100), np.float64(+100), 20)\n",
    "    ya_linspace = np.linspace(np.float64(-100), np.float64(+300), 40)\n",
    "\n",
    "    xa_list = xa_linspace.tolist()\n",
    "    ya_list = ya_linspace.tolist()\n",
    "\n",
    "    xa_grid,ya_grid = np.meshgrid(xa_linspace, ya_linspace)\n",
    "\n",
    "    a_ = xa_grid * np.nan\n",
    "\n",
    "    for ix in np.arange(0, len(xa_linspace), 1):\n",
    "        for iy in np.arange(0, len(ya_linspace), 1):\n",
    "\n",
    "            Rho = xa_list[ix]\n",
    "            Z   = ya_list[iy]\n",
    "\n",
    "            try:\n",
    "                A1 = cA_int_zj_rj(rho_a=Rho, z_a=Z,\n",
    "                                  zj1=-zj2, zj2=zj2,\n",
    "                                  rj1=0,    rj2=rj2)\n",
    "                a_[iy][ix] = A1\n",
    "                # print (\"Rho = \", Rho, \"Z =\", Z, \"A1 =\", A1)\n",
    "            except Exception as ex:\n",
    "                print (ex)\n",
    "                print (\"Rho = \", Rho, \"Z =\", Z)\n",
    "                pass\n",
    "\n",
    "    return xa_grid, ya_grid, a_"
   ]
  },
  {
   "cell_type": "code",
   "execution_count": 38,
   "id": "7ec647f1",
   "metadata": {},
   "outputs": [
    {
     "name": "stderr",
     "output_type": "stream",
     "text": [
      "/tmp/ipykernel_553/856598083.py:1: IntegrationWarning: The integral is probably divergent, or slowly convergent.\n",
      "  cA_int_zj = lambda rho_a, z_a, rho_j, zj1, zj2:     scipy_integrate.quad(         lambda z_j : cA_integrand(rho_a, z_a, rho_j, z_j), zj1, zj2)[Integer(0)]\n"
     ]
    },
    {
     "name": "stdout",
     "output_type": "stream",
     "text": [
      "CPU times: user 1h 39min 49s, sys: 5.22 s, total: 1h 39min 54s\n",
      "Wall time: 1h 39min 57s\n"
     ]
    }
   ],
   "source": [
    "%time (rho_grid, z_grid, a_) = \\\n",
    "    make_A1(zj2 = 100, rj2 = 100)"
   ]
  },
  {
   "cell_type": "markdown",
   "id": "226627d6",
   "metadata": {},
   "source": [
    "%time (rho_grid, z_grid, a_) = \\\n",
    "    make_A1(zj2 = 50, rj2 = 50)"
   ]
  },
  {
   "cell_type": "code",
   "execution_count": 39,
   "id": "6a31eaeb",
   "metadata": {},
   "outputs": [],
   "source": [
    "def plot_a(rho_grid, z_grid, a, title, levels=None):\n",
    "    fig,ax=plt.subplots(1,1)\n",
    "    cp = ax.contourf(rho_grid, z_grid, a, levels=levels)\n",
    "    fig.colorbar(cp) # Add a colorbar to a plot\n",
    "    ax.set_tit2le(title)\n",
    "    ax.set_xlabel('rho')\n",
    "    ax.set_ylabel('z')\n",
    "    ax.set_aspect(1)"
   ]
  },
  {
   "cell_type": "code",
   "execution_count": 40,
   "id": "cd4f1442",
   "metadata": {},
   "outputs": [
    {
     "ename": "NameError",
     "evalue": "name 'plt' is not defined",
     "output_type": "error",
     "traceback": [
      "\u001b[0;31m---------------------------------------------------------------------------\u001b[0m",
      "\u001b[0;31mNameError\u001b[0m                                 Traceback (most recent call last)",
      "\u001b[0;32m/tmp/ipykernel_553/115964282.py\u001b[0m in \u001b[0;36m<module>\u001b[0;34m\u001b[0m\n\u001b[1;32m      1\u001b[0m \u001b[0mlevels\u001b[0m \u001b[0;34m=\u001b[0m \u001b[0mnp\u001b[0m\u001b[0;34m.\u001b[0m\u001b[0mlinspace\u001b[0m\u001b[0;34m(\u001b[0m\u001b[0;34m-\u001b[0m\u001b[0mRealNumber\u001b[0m\u001b[0;34m(\u001b[0m\u001b[0;34m'0.08'\u001b[0m\u001b[0;34m)\u001b[0m\u001b[0;34m,\u001b[0m \u001b[0mRealNumber\u001b[0m\u001b[0;34m(\u001b[0m\u001b[0;34m'0.08'\u001b[0m\u001b[0;34m)\u001b[0m\u001b[0;34m,\u001b[0m \u001b[0mInteger\u001b[0m\u001b[0;34m(\u001b[0m\u001b[0;36m16\u001b[0m\u001b[0;34m)\u001b[0m\u001b[0;34m)\u001b[0m\u001b[0;34m\u001b[0m\u001b[0;34m\u001b[0m\u001b[0m\n\u001b[0;32m----> 2\u001b[0;31m plot_a(rho_grid, z_grid, a=a_, title='$A_1$ potential',\n\u001b[0m\u001b[1;32m      3\u001b[0m     levels = None)\n",
      "\u001b[0;32m/tmp/ipykernel_553/3850357507.py\u001b[0m in \u001b[0;36mplot_a\u001b[0;34m(rho_grid, z_grid, a, title, levels)\u001b[0m\n\u001b[1;32m      1\u001b[0m \u001b[0;32mdef\u001b[0m \u001b[0mplot_a\u001b[0m\u001b[0;34m(\u001b[0m\u001b[0mrho_grid\u001b[0m\u001b[0;34m,\u001b[0m \u001b[0mz_grid\u001b[0m\u001b[0;34m,\u001b[0m \u001b[0ma\u001b[0m\u001b[0;34m,\u001b[0m \u001b[0mtitle\u001b[0m\u001b[0;34m,\u001b[0m \u001b[0mlevels\u001b[0m\u001b[0;34m=\u001b[0m\u001b[0;32mNone\u001b[0m\u001b[0;34m)\u001b[0m\u001b[0;34m:\u001b[0m\u001b[0;34m\u001b[0m\u001b[0;34m\u001b[0m\u001b[0m\n\u001b[0;32m----> 2\u001b[0;31m     \u001b[0mfig\u001b[0m\u001b[0;34m,\u001b[0m\u001b[0max\u001b[0m\u001b[0;34m=\u001b[0m\u001b[0mplt\u001b[0m\u001b[0;34m.\u001b[0m\u001b[0msubplots\u001b[0m\u001b[0;34m(\u001b[0m\u001b[0mInteger\u001b[0m\u001b[0;34m(\u001b[0m\u001b[0;36m1\u001b[0m\u001b[0;34m)\u001b[0m\u001b[0;34m,\u001b[0m\u001b[0mInteger\u001b[0m\u001b[0;34m(\u001b[0m\u001b[0;36m1\u001b[0m\u001b[0;34m)\u001b[0m\u001b[0;34m)\u001b[0m\u001b[0;34m\u001b[0m\u001b[0;34m\u001b[0m\u001b[0m\n\u001b[0m\u001b[1;32m      3\u001b[0m     \u001b[0mcp\u001b[0m \u001b[0;34m=\u001b[0m \u001b[0max\u001b[0m\u001b[0;34m.\u001b[0m\u001b[0mcontourf\u001b[0m\u001b[0;34m(\u001b[0m\u001b[0mrho_grid\u001b[0m\u001b[0;34m,\u001b[0m \u001b[0mz_grid\u001b[0m\u001b[0;34m,\u001b[0m \u001b[0ma\u001b[0m\u001b[0;34m,\u001b[0m \u001b[0mlevels\u001b[0m\u001b[0;34m=\u001b[0m\u001b[0mlevels\u001b[0m\u001b[0;34m)\u001b[0m\u001b[0;34m\u001b[0m\u001b[0;34m\u001b[0m\u001b[0m\n\u001b[1;32m      4\u001b[0m     \u001b[0mfig\u001b[0m\u001b[0;34m.\u001b[0m\u001b[0mcolorbar\u001b[0m\u001b[0;34m(\u001b[0m\u001b[0mcp\u001b[0m\u001b[0;34m)\u001b[0m \u001b[0;31m# Add a colorbar to a plot\u001b[0m\u001b[0;34m\u001b[0m\u001b[0;34m\u001b[0m\u001b[0m\n\u001b[1;32m      5\u001b[0m     \u001b[0max\u001b[0m\u001b[0;34m.\u001b[0m\u001b[0mset_tit2le\u001b[0m\u001b[0;34m(\u001b[0m\u001b[0mtitle\u001b[0m\u001b[0;34m)\u001b[0m\u001b[0;34m\u001b[0m\u001b[0;34m\u001b[0m\u001b[0m\n",
      "\u001b[0;31mNameError\u001b[0m: name 'plt' is not defined"
     ]
    }
   ],
   "source": [
    "levels = np.linspace(-0.08, 0.08, 16)\n",
    "plot_a(rho_grid, z_grid, a=a_, title='$A_1$ potential',\n",
    "    levels = None)"
   ]
  },
  {
   "cell_type": "markdown",
   "id": "5763b068",
   "metadata": {},
   "source": [
    "# Проверка найденного решения интегрального уравнения методом подстановки в формулу для вычисления векторного потенциала"
   ]
  },
  {
   "cell_type": "markdown",
   "id": "669d64ab",
   "metadata": {},
   "source": [
    "Рассмотрим формулу векторного потенциала для системы распределённых кольцевых магнитных токов"
   ]
  },
  {
   "cell_type": "markdown",
   "id": "679bcbc5",
   "metadata": {},
   "source": [
    "$j_m(r_m, \\theta_m) = j_r(r_m) \\, j_{\\theta}(\\theta_m) = q_r(r_m) \\, q_{\\theta}(\\theta_m)\\, \\omega_{r} (r_m)\\, \\omega_{\\theta} (\\theta_m)$ - плотность магнитного тока"
   ]
  },
  {
   "cell_type": "markdown",
   "id": "7cf40e18",
   "metadata": {},
   "source": [
    "# Проверка найденного решения интегрального уравнения методом подстановки в формулу для вычисления скалярного магнитного кулоновского потенциала"
   ]
  },
  {
   "cell_type": "markdown",
   "id": "e2ecfa60",
   "metadata": {},
   "source": [
    "Рассмотрим формулу скалярного магнитного кулоновского потенциала для системы распределённых кольцевых магнитных зарядов"
   ]
  },
  {
   "cell_type": "markdown",
   "id": "9547d1fc",
   "metadata": {},
   "source": [
    "$$\\phi_m = \\int\\limits_{V}^{}\\frac{{\\rho_m}}{R} dV$$\n",
    "\n",
    "where ${{\\rho_m}}$ is density of magnetic charge\n",
    "\n",
    "$${{\\rho_m}} \\sim \\frac{cos(\\theta_m)^{2k+1}}{r^{2}} $$\n",
    "\n",
    "and\n",
    " \n",
    "$${{\\omega_m}} \\sim \\frac{1}{r} $$\n",
    "\n",
    "is angular frequency of magnetic charge"
   ]
  },
  {
   "cell_type": "markdown",
   "id": "6fdd8751",
   "metadata": {},
   "source": [
    "$j_m(r_m, \\theta_m) = j_r(r_m) \\, j_{\\theta}(\\theta_m) = \\rho_r(r_m) \\, \\rho_{\\theta}(\\theta_m)\\, \\omega_{r} (r_m)\\, \\omega_{\\theta} (\\theta_m)$ - плотность магнитного тока"
   ]
  },
  {
   "cell_type": "code",
   "execution_count": null,
   "id": "d174fa89",
   "metadata": {},
   "outputs": [],
   "source": [
    "pra = 1/J_r(r_a)/r_a^2\n",
    "latex_pra=latex(pra)\n",
    "pra"
   ]
  },
  {
   "cell_type": "markdown",
   "id": "bf91b39a",
   "metadata": {},
   "source": [
    "Векторный потенциал электростатического поля точечного заряда в сферической системе координат"
   ]
  },
  {
   "cell_type": "markdown",
   "id": "e6ade116",
   "metadata": {},
   "source": [
    "$${r_a} A_{\\varphi} = - {сtg \\, \\theta_a}$$"
   ]
  },
  {
   "cell_type": "markdown",
   "id": "e41b247f",
   "metadata": {},
   "source": [
    "# Потенциал взаимодействия магнитных прецессирующих диполей\n",
    "\n",
    "Рассмотрим задачу взаимодействия двух соосно вокруг оси $z$ прецессирующих магнитных диполей в геометрии задачи, которая изображена в работе https://nbviewer.org/github/daju1/articles/blob/master/electrostatic_vector_potential/Structure_of_electron.ipynb\n",
    "\n",
    "на втором рисунке.\n",
    "\n",
    "Запишем выражение для потенциальной функции взаимодействия магнитного тока второй частицы с полем векторного потенциала магнитныого тока первой частицы (Тамм формула 51.10)\n",
    "\n",
    "$U_{12} = -\\frac{1}{c} \\int\\limits_{V_2} \\vec{A_1} \\vec{j_2} dV$\n",
    "\n",
    "Запишем выражение для потенциальной функции взаимодействия магнитного заряда второй частицы с полем скалярного потенциала магнитныого заряда первой частицы (Тамм формула 15.6)\n",
    "\n",
    "$W_{12} = \\int\\limits_{V_2} {\\phi_1} {\\rho_2} dV$\n",
    "\n",
    "Силу взаимодействия двух прецессирующих диполей можно найти исходя из\n",
    "\n",
    "$F = - \\frac{\\partial}{\\partial z} \\left(U_{12} + W_{12}\\right)$\n",
    "\n",
    "для осуществления данных вычислений интегрирование удобно производить в цилиндрической системе координат"
   ]
  },
  {
   "cell_type": "markdown",
   "id": "d35c4d66",
   "metadata": {},
   "source": [
    "$U_{12} = -\\frac{1}{c} \\int\\limits_{z_m=-\\infty}^{\\infty}\\,\\,\\int\\limits_{\\rho_m=0}^{\\infty}\\left(\\int\\limits_{\\varphi_m=0}^{2\\pi}\\vec{A_1} \\vec{j_2} {\\,\\rho_m \\, d \\varphi_m}\\right)d \\rho_m \\, d z_m$"
   ]
  },
  {
   "cell_type": "markdown",
   "id": "dc36bb59",
   "metadata": {},
   "source": [
    "$W_{12} = \\int\\limits_{z_m=-\\infty}^{\\infty}\\,\\,\\int\\limits_{\\rho_m=0}^{\\infty}\\left(\\int\\limits_{\\varphi_m=0}^{2\\pi}{\\phi_1} {\\rho_2} {\\,\\rho_m \\, d \\varphi_m}\\right)d \\rho_m \\, d z_m$"
   ]
  },
  {
   "cell_type": "markdown",
   "id": "626afdc5",
   "metadata": {},
   "source": [
    "Поскольку в рассматриваемой геометрии магнитный ток и векторный потенциал имеют ненулевыми только лишь $\\varphi$ компоненту, следовательно эти векторы всюду параллельны и скалярное произведение этих векторов выражается как произведение модулей этих векторов $\\vec{A_1} \\vec{j_2} = {A_1}_{\\varphi} {j_2}_{\\varphi}$ "
   ]
  },
  {
   "cell_type": "markdown",
   "id": "a890891a",
   "metadata": {},
   "source": [
    "$U_{12} = -\\frac{1}{c} \\int\\limits_{z_m=-\\infty}^{\\infty}\\,\\,\\int\\limits_{\\rho_m=0}^{\\infty}\\left(\\int\\limits_{\\varphi_m=0}^{2\\pi}{A_1}_{\\varphi} {j_2}_{\\varphi} {\\,\\rho_m \\, d \\varphi_m}\\right)d \\rho_m \\, d z_m$"
   ]
  },
  {
   "cell_type": "markdown",
   "id": "c7c255c8",
   "metadata": {},
   "source": [
    "Поскольку данная геометрия задачи не зависит от $\\varphi$ то интегрирование по этой переменной приводит к появлению множителя $2\\pi$"
   ]
  },
  {
   "cell_type": "markdown",
   "id": "84985cd1",
   "metadata": {},
   "source": [
    "$U_{12} = -\\frac{{2\\pi}}{c} \\int\\limits_{z_m=-\\infty}^{\\infty}\\,\\,\\int\\limits_{\\rho_m=0}^{\\infty}{A_1}_{\\varphi} {j_2}_{\\varphi} {\\,\\rho_m \\, }d \\rho_m \\, d z_m$"
   ]
  },
  {
   "cell_type": "markdown",
   "id": "9b8fc3cc",
   "metadata": {},
   "source": [
    "$W_{12} = {2\\pi} \\int\\limits_{z_m=-\\infty}^{\\infty}\\,\\,\\int\\limits_{\\rho_m=0}^{\\infty}{\\phi_1} {\\rho_2} {\\,\\rho_m \\, }d \\rho_m \\, d z_m$"
   ]
  },
  {
   "cell_type": "markdown",
   "id": "c10ee7da",
   "metadata": {},
   "source": [
    "теперь в выражениях для векторного потенциала и плотности магнитного тока необходимо перейти от сферических координат к цилиндрическим. При этом частица 1 будет оставаться в начале коодинат для того чтобы не смещать достаточно сложное выражение для векторного потенциала вдоль оси $z$. Будем изменять координату $z$ частицы 2 "
   ]
  },
  {
   "cell_type": "markdown",
   "id": "b8fda0e7",
   "metadata": {},
   "source": [
    "Исходя из выражения для векторного потенциала в сферических координатах"
   ]
  },
  {
   "cell_type": "markdown",
   "id": "c0beadb2",
   "metadata": {},
   "source": [
    "Переход от цилиндрических к сферическим координатам:"
   ]
  },
  {
   "cell_type": "markdown",
   "id": "070bb382",
   "metadata": {},
   "source": [
    "${\\displaystyle {\\begin{cases}r={\\sqrt {\\rho ^{2}+z^{2}}},\\\\\\theta =\\mathrm {arctg} {\\dfrac {\\rho }{z}},\\\\\\varphi =\\varphi .\\end{cases}}}$"
   ]
  },
  {
   "cell_type": "markdown",
   "id": "d5aa85e1",
   "metadata": {},
   "source": [
    "составляем функцию векторного потенциала и скалярного магнитного потенциала частицы 1 принимающую цилиндрические координаты и производящую переход к сферическим координатам при вызове лямбда функции A1_spherical\n",
    "\n",
    "$A1_{cylindrical}(\\rho, z) = A1_{spherical}(r_a = \\sqrt{\\rho^2+z^2},\n",
    "                 \\theta_a = atan\\dfrac {\\rho }{z})$"
   ]
  },
  {
   "cell_type": "markdown",
   "id": "d75c392a",
   "metadata": {},
   "source": [
    "И точно так же исходя из выражения для магнитного тока в сферических координатах"
   ]
  },
  {
   "cell_type": "code",
   "execution_count": null,
   "id": "808a9d5e",
   "metadata": {},
   "outputs": [],
   "source": [
    "J_r(r_m) * J_theta(theta_m)"
   ]
  },
  {
   "cell_type": "code",
   "execution_count": null,
   "id": "ae71a5aa",
   "metadata": {},
   "outputs": [],
   "source": [
    "rho_r(r_m) * rho_theta(theta_m)"
   ]
  },
  {
   "cell_type": "code",
   "execution_count": null,
   "id": "1f81fb09",
   "metadata": {},
   "outputs": [],
   "source": [
    "j2_spherical = lambda r_m, theta_m : J_r(r_m) * J_theta(theta_m)"
   ]
  },
  {
   "cell_type": "code",
   "execution_count": null,
   "id": "32b3d223",
   "metadata": {},
   "outputs": [],
   "source": [
    "rho2_spherical = lambda r_m, theta_m : rho_r(r_m) * rho_theta(theta_m)"
   ]
  },
  {
   "cell_type": "markdown",
   "id": "d5a2f15d",
   "metadata": {},
   "source": [
    "составляем функцию магнитного тока частицы 2 принимающую цилиндрические координаты и производящую переход к сферическим координатам при вызове лямбда функции j2_spherical, введя в эту функцию третим параметром координату центра частицы 2\n",
    "\n",
    "$j2_{cylindrical}(\\rho, z, z_c) = j2_{spherical}(r_a = \\sqrt{\\rho^2+(z-z_c)^2},\n",
    "                 \\theta_a = atan\\dfrac {\\rho }{z - z_c})$"
   ]
  },
  {
   "cell_type": "code",
   "execution_count": null,
   "id": "31c3f1c1",
   "metadata": {},
   "outputs": [],
   "source": [
    "j2_cylindrical = lambda rho, z, z_c : \\\n",
    "    j2_spherical(r_m = sqrt(rho^2+(z-z_c)^2),\n",
    "                 theta_m = atan2(rho, z-z_c))"
   ]
  },
  {
   "cell_type": "code",
   "execution_count": null,
   "id": "c1314ac5",
   "metadata": {},
   "outputs": [],
   "source": [
    "rho2_cylindrical = lambda rho, z, z_c : \\\n",
    "    rho2_spherical(r_m = sqrt(rho^2+(z-z_c)^2),\n",
    "                 theta_m = atan2(rho, z-z_c))"
   ]
  },
  {
   "cell_type": "code",
   "execution_count": null,
   "id": "55eef869",
   "metadata": {},
   "outputs": [],
   "source": [
    "var(\"rho, z, z_c\")\n",
    "assume(rho > 0)\n",
    "disp(j2_cylindrical(rho, z, z_c))\n",
    "disp(rho2_cylindrical(rho, z, z_c))"
   ]
  },
  {
   "cell_type": "markdown",
   "id": "0bf2d6da",
   "metadata": {},
   "source": [
    "disp(A1_cylindrical(rho, z))"
   ]
  },
  {
   "cell_type": "raw",
   "id": "71dba166",
   "metadata": {},
   "source": [
    "disp(rho1_cylindrical(rho, z))"
   ]
  },
  {
   "cell_type": "markdown",
   "id": "0d1d30d7",
   "metadata": {},
   "source": [
    "Теперь можем записать подыитегральное выражение в интеграле подынтеграьной функции"
   ]
  },
  {
   "cell_type": "code",
   "execution_count": null,
   "id": "4a5c0fd0",
   "metadata": {},
   "outputs": [],
   "source": [
    "U_12_integrand = lambda rho, z, z_c, zj2, rj2: \\\n",
    "    -2*pi*rho * A1(rho, z, zj2, rj2) * j2_cylindrical(rho, z, z_c)"
   ]
  },
  {
   "cell_type": "markdown",
   "id": "c4b54e97",
   "metadata": {},
   "source": [
    "Теперь можно изобразить поле интегранда графически и за одно численно просуммировать это поле"
   ]
  },
  {
   "cell_type": "code",
   "execution_count": null,
   "id": "8e6bde47",
   "metadata": {},
   "outputs": [],
   "source": [
    "import numpy as np\n",
    "def make_U(zc_cur, zj2, rj2):\n",
    "    #xa_linspace = np.linspace(np.float64(-20), np.float64(+20),  40)\n",
    "    #ya_linspace = np.linspace(np.float64(-20), np.float64(+80), 100)\n",
    "    xa_linspace = np.linspace(np.float64(-100), np.float64(+100), 20)\n",
    "    ya_linspace = np.linspace(np.float64(-100), np.float64(+300), 40)\n",
    "\n",
    "    xa_list = xa_linspace.tolist()\n",
    "    ya_list = ya_linspace.tolist()\n",
    "\n",
    "    xa_grid,ya_grid = np.meshgrid(xa_linspace, ya_linspace)\n",
    "\n",
    "    u_ = xa_grid * np.nan\n",
    "\n",
    "    sum_u = 0\n",
    "\n",
    "    for ix in np.arange(0, len(xa_linspace), 1):\n",
    "        for iy in np.arange(0, len(ya_linspace), 1):\n",
    "\n",
    "            Rho = xa_list[ix]\n",
    "            Z   = ya_list[iy]\n",
    "\n",
    "            try:\n",
    "                U = U_12_integrand(rho=Rho, z=Z, z_c=zc_cur,\n",
    "                                   zj2=zj2, rj2=rj2).n()\n",
    "                u_[iy][ix] = U\n",
    "                sum_u += U\n",
    "                #print (\"Rho = \", Rho, \"Z =\", Z, \"U =\", U)\n",
    "            except Exception as ex:\n",
    "                print (ex)\n",
    "                print (\"Rho = \", Rho, \"Z =\", Z, \"z_c =\", zc_cur)\n",
    "                pass\n",
    "\n",
    "    return xa_grid, ya_grid, u_, sum_u"
   ]
  },
  {
   "cell_type": "code",
   "execution_count": null,
   "id": "b87dd6f6",
   "metadata": {},
   "outputs": [],
   "source": [
    "%time (rho_grid, z_grid, u_, sum_u) = \\\n",
    "    make_U(zc_cur = 20, zj2=100, rj2=100)"
   ]
  },
  {
   "cell_type": "code",
   "execution_count": null,
   "id": "ce90f758",
   "metadata": {},
   "outputs": [],
   "source": [
    "from mpl_toolkits import mplot3d\n",
    "import numpy as np\n",
    "import matplotlib.pyplot as plt"
   ]
  },
  {
   "cell_type": "code",
   "execution_count": null,
   "id": "99609bfb",
   "metadata": {},
   "outputs": [],
   "source": [
    "def contour_plot_u(fig, ax, i, rho_grid, z_grid, u, title, levels=None):\n",
    "    cp = ax[i].contourf(rho_grid, z_grid, u, levels=levels)\n",
    "    #fig.colorbar(cp) # Add a colorbar to a plot\n",
    "    ax[i].set_title(title)\n",
    "    ax[i].set_xlabel('rho')\n",
    "    ax[i].set_ylabel('z')\n",
    "    ax[i].set_aspect(1)"
   ]
  },
  {
   "cell_type": "raw",
   "id": "5f18ff85",
   "metadata": {},
   "source": [
    "fig_,ax_=plt.subplots(1,2)\n",
    "\n",
    "levels = np.linspace(-0.0008, 0.0008, 16)\n",
    "contour_plot_u(fig_, ax_, 0,\n",
    "               rho_grid, z_grid, u=u_,\n",
    "               title='Precessing magnets potential',\n",
    "    levels = levels)\n",
    "\n",
    "levels = np.linspace(-0.08, 0.08, 16)\n",
    "contour_plot_u(fig_, ax_, 1,\n",
    "               rho_grid, z_grid, u=w_,\n",
    "               title='Scalar magnets potential',\n",
    "    levels = levels)"
   ]
  },
  {
   "cell_type": "code",
   "execution_count": null,
   "id": "4e1c3281",
   "metadata": {},
   "outputs": [],
   "source": [
    "def plot_u(rho_grid, z_grid, u, title, levels=None):\n",
    "    fig,ax=plt.subplots(1,1)\n",
    "    cp = ax.contourf(rho_grid, z_grid, u, levels=levels)\n",
    "    fig.colorbar(cp) # Add a colorbar to a plot\n",
    "    ax.set_title(title)\n",
    "    ax.set_xlabel('rho')\n",
    "    ax.set_ylabel('z')\n",
    "    ax.set_aspect(1)"
   ]
  },
  {
   "cell_type": "code",
   "execution_count": null,
   "id": "9b8f31de",
   "metadata": {},
   "outputs": [],
   "source": [
    "def plot_surf_u(rho_grid, z_grid, u, title):\n",
    "    ax = plt.axes(projection='3d')\n",
    "    ax.set_xlabel('z (cm)')\n",
    "    ax.set_ylabel('r (cm)')\n",
    "    ax.plot_surface(rho_grid, z_grid, u, cmap='viridis', edgecolor='none')\n",
    "    ax.set_title(title)\n",
    "    plt.show()"
   ]
  },
  {
   "cell_type": "code",
   "execution_count": null,
   "id": "c0eb6b78",
   "metadata": {},
   "outputs": [],
   "source": [
    "levels = np.linspace(-0.0008, 0.0008, 16)\n",
    "plot_u(rho_grid, z_grid, u=u_, title='Precessing magnets potential',\n",
    "    levels = levels)"
   ]
  },
  {
   "cell_type": "code",
   "execution_count": null,
   "id": "602653d2",
   "metadata": {},
   "outputs": [],
   "source": [
    "plot_surf_u(rho_grid, z_grid, u=u_, title='Precessing magnets potential')"
   ]
  },
  {
   "cell_type": "code",
   "execution_count": null,
   "id": "3aca86f0",
   "metadata": {},
   "outputs": [],
   "source": [
    "levels = np.linspace(-0.08, 0.08, 16)\n",
    "plot_u(rho_grid, z_grid, u=w_, title='Scalar magnets potential',\n",
    "    levels = levels)"
   ]
  },
  {
   "cell_type": "code",
   "execution_count": null,
   "id": "e9833634",
   "metadata": {},
   "outputs": [],
   "source": [
    "plot_surf_u(rho_grid, z_grid, u=w_, title='Scalar magnets potential')"
   ]
  },
  {
   "cell_type": "markdown",
   "id": "8b3602c9",
   "metadata": {},
   "source": [
    "А теперь изобразим тоже самое при разных значениях координаты частицы 2"
   ]
  },
  {
   "cell_type": "code",
   "execution_count": null,
   "id": "5521704f",
   "metadata": {},
   "outputs": [],
   "source": [
    "plot_data_sum_U = []\n",
    "plot_data_sum_Uzc1 = []\n",
    "plot_data_sum_Uzc2 = []\n",
    "plot_data_sum_Uzc3 = []\n",
    "\n",
    "plot_data_sum_W = []\n",
    "plot_data_sum_Wzc1 = []\n",
    "plot_data_sum_Wzc2 = []\n",
    "plot_data_sum_Wzc3 = []\n",
    "\n",
    "for zc in np.arange(10, 70, 10):\n",
    "    (rho_grid, z_grid, u_, w_, sum_u, sum_w) = make_U(zc_cur = zc)\n",
    "    # print (zc, sum_u)\n",
    "    plot_data_sum_U += [(zc, sum_u)]\n",
    "    plot_data_sum_Uzc1 += [(zc, sum_u * zc)]\n",
    "    plot_data_sum_Uzc2 += [(zc, sum_u * zc^2)]\n",
    "    plot_data_sum_Uzc3 += [(zc, sum_u * zc^3)]\n",
    "\n",
    "    plot_data_sum_W += [(zc, sum_w)]\n",
    "    plot_data_sum_Wzc1 += [(zc, sum_w * zc)]\n",
    "    plot_data_sum_Wzc2 += [(zc, sum_w * zc^2)]\n",
    "    plot_data_sum_Wzc3 += [(zc, sum_w * zc^3)]\n",
    "\n",
    "    fig_,ax_= plt.subplots(1,2)\n",
    "\n",
    "    levels = np.linspace(-0.0008, 0.0008, 16)\n",
    "    contour_plot_u(fig_, ax_, 0,\n",
    "                   rho_grid, z_grid, u=u_,\n",
    "        title=\"U $z_c$ = {} $\\\\sum u$ = {:.5f}\".format(zc, sum_u),\n",
    "        levels = levels)\n",
    "\n",
    "    levels = np.linspace(-0.08, 0.08, 16)\n",
    "    contour_plot_u(fig_, ax_, 1,\n",
    "                   rho_grid, z_grid, u=w_,\n",
    "        title=\"W $z_c$ = {} $\\\\sum w$ = {:.5f}\".format(zc, sum_w),\n",
    "        levels = levels)\n",
    "\n",
    "    plt.show()"
   ]
  },
  {
   "cell_type": "code",
   "execution_count": null,
   "id": "6729b71f",
   "metadata": {},
   "outputs": [],
   "source": [
    "p = list_plot(plot_data_sum_U)\n",
    "p.show(title=\"Потенциальная функция взаимодействия прецессирующих магнитных диполей\",\n",
    "       axes_labels=[\"Расстояние между частицами zс\", \"\"])\n",
    "\n",
    "p = list_plot(plot_data_sum_Uzc1)\n",
    "p.show(title=\"z * Потенциальная функция взаимодействия прецессирующих магнитных диполей\",\n",
    "       axes_labels=[\"Расстояние между частицами zс\", \"\"])\n",
    "\n",
    "p = list_plot(plot_data_sum_Uzc2)\n",
    "p.show(title=\"z^2 * Потенциальная функция взаимодействия прецессирующих магнитных диполей\",\n",
    "       axes_labels=[\"Расстояние между частицами zс\", \"\"])\n",
    "\n",
    "p = list_plot(plot_data_sum_Uzc3)\n",
    "p.show(title=\"z^3 * Потенциальная функция взаимодействия прецессирующих магнитных диполей\",\n",
    "       axes_labels=[\"Расстояние между частицами zс\", \"\"])"
   ]
  },
  {
   "cell_type": "code",
   "execution_count": null,
   "id": "52c7f24b",
   "metadata": {},
   "outputs": [],
   "source": [
    "p = list_plot(plot_data_sum_W)\n",
    "p.show(title=\"Энергия взаимодействия магнитных диполей\",\n",
    "       axes_labels=[\"Расстояние между частицами zс\", \"\"])\n",
    "\n",
    "p = list_plot(plot_data_sum_Wzc1)\n",
    "p.show(title=\"z * Энергия взаимодействия магнитных диполей\",\n",
    "       axes_labels=[\"Расстояние между частицами zс\", \"\"])\n",
    "\n",
    "p = list_plot(plot_data_sum_Wzc2)\n",
    "p.show(title=\"z^2 * Энергия взаимодействия магнитных диполей\",\n",
    "       axes_labels=[\"Расстояние между частицами zс\", \"\"])\n",
    "\n",
    "p = list_plot(plot_data_sum_Wzc3)\n",
    "p.show(title=\"z^3 * Энергия взаимодействия магнитных диполей\",\n",
    "       axes_labels=[\"Расстояние между частицами zс\", \"\"])"
   ]
  },
  {
   "cell_type": "markdown",
   "id": "8c989713",
   "metadata": {},
   "source": [
    "Таким образом на данных графиках просматривается важный вывод: Потенциальная функция взаимодействия прецессирующих магнитных диполей убывает по закону $\\frac{1}{z}$ что соответствует классическому кулоновскому взаимодействию электрических зарядов. Только в данной модели \"электрический заряд\" становится кажущимся эффективным фантомом, который является лишь следствием проявления магнитной силы Ампера между движущимися магнитными зарядами образующими магнитные токи.\n",
    "\n",
    "А поскольку магнитный заряд это положительная или отрицательная дислокация эфирной среды, поэтому взаимодействие между движущимися магнитными зарядами (дислокациями) происходит вследствие того что движущаяся дислокация производит возбуждение фонона в эфирной среде, которые достигая другого движущегося магнитного заряда (дислокации)  воздействуют на него силой аналогичной силе Пича-Келлера"
   ]
  },
  {
   "cell_type": "markdown",
   "id": "2a26003b",
   "metadata": {},
   "source": [
    "Производим численное интегрирование"
   ]
  },
  {
   "cell_type": "code",
   "execution_count": null,
   "id": "984a4269",
   "metadata": {},
   "outputs": [],
   "source": [
    "U_int_z = lambda z_c, rho, z1, z2: \\\n",
    "    scipy_integrate.quad(lambda z : U_12_integrand(rho, z, z_c), z1, z2)[0]"
   ]
  },
  {
   "cell_type": "code",
   "execution_count": null,
   "id": "a32f23c8",
   "metadata": {},
   "outputs": [],
   "source": [
    "W_int_z = lambda z_c, rho, z1, z2: \\\n",
    "    scipy_integrate.quad(lambda z : W_12_integrand(rho, z, z_c), z1, z2)[0]"
   ]
  },
  {
   "cell_type": "code",
   "execution_count": null,
   "id": "2a453e8d",
   "metadata": {},
   "outputs": [],
   "source": [
    "U_int_z_int_rho = lambda z_c, z1, z2, rho1, rho2: \\\n",
    "    scipy_integrate.quad(lambda rho : U_int_z(z_c, rho, z1, z2), rho1, rho2)[0]"
   ]
  },
  {
   "cell_type": "code",
   "execution_count": null,
   "id": "70ea01fe",
   "metadata": {},
   "outputs": [],
   "source": [
    "W_int_z_int_rho = lambda z_c, z1, z2, rho1, rho2: \\\n",
    "    scipy_integrate.quad(lambda rho : W_int_z(z_c, rho, z1, z2), rho1, rho2)[0]"
   ]
  },
  {
   "cell_type": "markdown",
   "id": "bdf87698",
   "metadata": {},
   "source": [
    "Здесь для быстроты получения предварительного результата производим интегрирование только лишь по $z$ координате зафиксировав с помощью параметра $\\rho = const$ некий цилиндр интегрирования"
   ]
  },
  {
   "cell_type": "code",
   "execution_count": null,
   "id": "8c5c2735",
   "metadata": {},
   "outputs": [],
   "source": [
    "def plot_U_int_z(rho):\n",
    "    import numpy as np\n",
    "    plot_data_U_int_z = []\n",
    "    plot_data_Uzc_int_z = []\n",
    "    plot_data_Uzc2_int_z = []\n",
    "    plot_data_Uzc3_int_z = []\n",
    "    plot_data_Uzc4_int_z = []\n",
    "    plot_data_Uzc5_int_z = []\n",
    "    plot_data_Uzc6_int_z = []\n",
    "    for zc in np.arange(20, 200, 5):\n",
    "        U = U_int_z(z_c = zc, rho = rho, z1 = -1000, z2 = 1000)\n",
    "        print(\"zc\", zc, U)\n",
    "        plot_data_U_int_z += [(zc, U)]\n",
    "        plot_data_Uzc_int_z += [(zc, U * zc)]\n",
    "        plot_data_Uzc2_int_z += [(zc, U * zc^2)]\n",
    "        plot_data_Uzc3_int_z += [(zc, U * zc^3)]\n",
    "        plot_data_Uzc4_int_z += [(zc, U * zc^4)]\n",
    "        plot_data_Uzc5_int_z += [(zc, U * zc^5)]\n",
    "        plot_data_Uzc6_int_z += [(zc, U * zc^6)]\n",
    "        \n",
    "    p = list_plot(plot_data_U_int_z)\n",
    "    p.show(title=\"Потенциальная функция взаимодействия прецессирующих магнитных диполей rho = \"+str(rho),\n",
    "           axes_labels=[\"Расстояние между частицами zс\", \"\"])\n",
    "    \n",
    "    p = list_plot(plot_data_Uzc2_int_z)\n",
    "    p.show(title=\"z^2 Потенциальная функция взаимодействия прецессирующих магнитных диполей rho = \"+str(rho),\n",
    "           axes_labels=[\"Расстояние между частицами zс\", \"\"])\n",
    "    \n",
    "    p = list_plot(plot_data_Uzc3_int_z)\n",
    "    p.show(title=\"z^3 Потенциальная функция взаимодействия прецессирующих магнитных диполей rho = \"+str(rho),\n",
    "           axes_labels=[\"Расстояние между частицами zс\", \"\"])\n",
    "    \n",
    "    p = list_plot(plot_data_Uzc4_int_z)\n",
    "    p.show(title=\"z^4 Потенциальная функция взаимодействия прецессирующих магнитных диполей rho = \"+str(rho),\n",
    "           axes_labels=[\"Расстояние между частицами zс\", \"\"])"
   ]
  },
  {
   "cell_type": "markdown",
   "id": "0e71e554",
   "metadata": {},
   "source": [
    "Графически можно увидеть, что потенциальная функция проинтегрированная лишь в цилиндрическом сечении даёт потенциальную функцию убывающую в третьем порядке от расстояния между центрами частиц"
   ]
  },
  {
   "cell_type": "code",
   "execution_count": null,
   "id": "7beea7bc",
   "metadata": {},
   "outputs": [],
   "source": [
    "for rho in [1,2,3,4,5]:\n",
    "    plot_U_int_z(rho)"
   ]
  },
  {
   "cell_type": "code",
   "execution_count": null,
   "id": "ea03bd66",
   "metadata": {},
   "outputs": [],
   "source": [
    "import numpy as np\n",
    "plot_data_U_int_z_int_rho = []\n",
    "plot_data_Uzc1_int_z_int_rho = []\n",
    "plot_data_Uzc2_int_z_int_rho = []\n",
    "plot_data_Uzc3_int_z_int_rho = []\n",
    "plot_data_Uzc4_int_z_int_rho = []\n",
    "plot_data_Uzc5_int_z_int_rho = []\n",
    "plot_data_Uzc6_int_z_int_rho = []\n",
    "for zc in np.arange(20, 400, 20):\n",
    "    U = U_int_z_int_rho(z_c = zc,\n",
    "                        z1 = -100, z2 = 100,\n",
    "                        rho1 = 0, rho2 = 100)\n",
    "    print(\"zc\", zc, U)\n",
    "    plot_data_U_int_z_int_rho += [(zc, U)]\n",
    "    plot_data_Uzc1_int_z_int_rho += [(zc, U * zc)]\n",
    "    plot_data_Uzc2_int_z_int_rho += [(zc, U * zc^2)]\n",
    "    plot_data_Uzc3_int_z_int_rho += [(zc, U * zc^3)]\n",
    "    plot_data_Uzc4_int_z_int_rho += [(zc, U * zc^4)]\n",
    "    plot_data_Uzc5_int_z_int_rho += [(zc, U * zc^5)]\n",
    "    plot_data_Uzc6_int_z_int_rho += [(zc, U * zc^6)]"
   ]
  },
  {
   "cell_type": "code",
   "execution_count": null,
   "id": "7e2e7334",
   "metadata": {},
   "outputs": [],
   "source": [
    "p = list_plot(plot_data_U_int_z_int_rho)\n",
    "p.show(title=\"Потенциальная функция взаимодействия прецессирующих магнитных диполей\",\n",
    "       axes_labels=[\"Расстояние между частицами zс\", \"\"])"
   ]
  },
  {
   "cell_type": "code",
   "execution_count": null,
   "id": "cdb2f7dd",
   "metadata": {},
   "outputs": [],
   "source": [
    "p = list_plot(plot_data_Uzc2_int_z_int_rho)\n",
    "p.show(title=\"Потенциальная функция взаимодействия прецессирующих магнитных диполей\",\n",
    "       axes_labels=[\"Расстояние между частицами zс\", \"\"])"
   ]
  },
  {
   "cell_type": "code",
   "execution_count": null,
   "id": "f4ed71ee",
   "metadata": {},
   "outputs": [],
   "source": [
    "p = list_plot(plot_data_Uzc3_int_z_int_rho)\n",
    "p.show(title=\"Потенциальная функция взаимодействия прецессирующих магнитных диполей\",\n",
    "       axes_labels=[\"Расстояние между частицами zс\", \"\"])"
   ]
  }
 ],
 "metadata": {
  "kernelspec": {
   "display_name": "SageMath 9.6.beta7",
   "language": "sage",
   "name": "sagemath"
  },
  "language_info": {
   "codemirror_mode": {
    "name": "ipython",
    "version": 3
   },
   "file_extension": ".py",
   "mimetype": "text/x-python",
   "name": "python",
   "nbconvert_exporter": "python",
   "pygments_lexer": "ipython3",
   "version": "3.10.3"
  }
 },
 "nbformat": 4,
 "nbformat_minor": 5
}
