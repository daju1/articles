{
 "cells": [
  {
   "cell_type": "markdown",
   "id": "85e6e7f3",
   "metadata": {},
   "source": [
    "# Варикап"
   ]
  },
  {
   "cell_type": "markdown",
   "id": "d70414f0",
   "metadata": {},
   "source": [
    "https://ru.wikipedia.org/wiki/%D0%92%D0%B0%D1%80%D0%B8%D0%BA%D0%B0%D0%BF"
   ]
  },
  {
   "cell_type": "markdown",
   "id": "e939487c",
   "metadata": {},
   "source": [
    "<p>При отсутствии внешнего приложенного к электродам напряжения в p-n-переходе существуют потенциальный барьер и внутреннее <a href=\"/wiki/%D0%AD%D0%BB%D0%B5%D0%BA%D1%82%D1%80%D0%B8%D1%87%D0%B5%D1%81%D0%BA%D0%BE%D0%B5_%D0%BF%D0%BE%D0%BB%D0%B5\" title=\"Электрическое поле\">электрическое поле</a>, возникновение которого обусловлено <a href=\"/wiki/%D0%9A%D0%BE%D0%BD%D1%82%D0%B0%D0%BA%D1%82%D0%BD%D0%B0%D1%8F_%D1%80%D0%B0%D0%B7%D0%BD%D0%BE%D1%81%D1%82%D1%8C_%D0%BF%D0%BE%D1%82%D0%B5%D0%BD%D1%86%D0%B8%D0%B0%D0%BB%D0%BE%D0%B2\" title=\"Контактная разность потенциалов\">контактной разностью потенциалов</a> между полупроводниками p-типа и n-типа. Нормальный режим работы варикапа&nbsp;— с обратным смещением. Если к диоду приложить обратное напряжение (то есть <a href=\"/wiki/%D0%9A%D0%B0%D1%82%D0%BE%D0%B4\" title=\"Катод\">катод</a> должен иметь положительный потенциал относительно <a href=\"/wiki/%D0%90%D0%BD%D0%BE%D0%B4\" title=\"Анод\">анода</a>), то высота этого потенциального барьера увеличится. Внешнее обратное напряжение отталкивает <a href=\"/wiki/%D0%AD%D0%BB%D0%B5%D0%BA%D1%82%D1%80%D0%BE%D0%BD\" title=\"Электрон\">электроны</a> в глубь n-области, в результате чего происходит расширение обеднённой области p-n-перехода, то есть слой полупроводника, лишенный носителей заряда и по сути являющийся диэлектриком. При увеличении обратного напряжения толщина обеднённого слоя увеличивается. Это можно представить в виде плоского <a href=\"/wiki/%D0%AD%D0%BB%D0%B5%D0%BA%D1%82%D1%80%D0%B8%D1%87%D0%B5%D1%81%D0%BA%D0%B8%D0%B9_%D0%BA%D0%BE%D0%BD%D0%B4%D0%B5%D0%BD%D1%81%D0%B0%D1%82%D0%BE%D1%80\" title=\"Электрический конденсатор\">конденсатора</a>, в котором обкладками служат необеднённые зоны полупроводника и с переменной толщиной слоя диэлектрика.\n",
    "</p>\n",
    "\n",
    "<p>В соответствии с формулой для ёмкости плоского конденсатора, с ростом расстояния между обкладками (вызванной ростом значения обратного напряжения) ёмкость p-n-перехода будет уменьшаться. Это уменьшение ограничено толщиной базы, далее которой толщина обеднённого слоя увеличиваться не может, по достижении этого минимума ёмкости с ростом обратного напряжения ёмкость не изменяется. Другой ограничивающий фактор управляемого снижения ёмкости&nbsp;— электрический лавинный пробой обеднённого слоя.\n",
    "</p>\n",
    "\n",
    "\n",
    "<p>Так как при изменении обратного напряжения толщина диэлектрика (обеднённого слоя) изменяется в широких пределах, для характеристики изменения ёмкости варикапа от приложенного напряжения применяют динамическую $\\displaystyle C_{d}$ или дифференциальную ёмкость&nbsp;— ёмкость для малого изменения напряжения на приборе (малосигнальный параметр). Динамическая емкость определяется как<sup id=\"cite_ref-1\" class=\"reference\"><a href=\"#cite_note-1\">[1]</a></sup>:\n",
    "</p>\n",
    "\n",
    "Так как при изменении обратного напряжения толщина диэлектрика (обеднённого слоя) изменяется в широких пределах, для характеристики изменения ёмкости варикапа от приложенного напряжения применяют динамическую ${\\displaystyle C_{d}}$ или дифференциальную ёмкость&nbsp;— ёмкость для малого изменения напряжения на приборе (малосигнальный параметр). Динамическая емкость определяется как\n",
    "\n",
    "$${\\displaystyle C_{d}(U)=dQ/dU,}$$\n",
    " \n",
    "где ${\\displaystyle dQ}$ — приращение электрического заряда конденсатора;\n",
    "\n",
    "${\\displaystyle dU}$ — приращение напряжения.\n",
    "\n",
    "<p>Дифференциальная ёмкость согласно ГОСТ Р 52002-2003 — это динамическая ёмкость для очень медленного изменения напряжения.\n",
    "</p>\n",
    "\n",
    "<p>Зависимость динамической ёмкости от напряжения называется вольт-фарадной характеристикой и для варикапа приближённо описывается функцией:\n",
    "</p>\n",
    "\n",
    "${\\displaystyle C_{d}(U)={\\frac {C_{0}}{\\left(1+U/U_{0}\\right)^{n}}},}$\n",
    "\n",
    "где ${\\displaystyle C_{0}}$ — динамическая ёмкость прибора при нулевом напряжении;\n",
    "\n",
    "${\\displaystyle U}$ — приложенное обратное напряжение;\n",
    "\n",
    "${\\displaystyle U_{0}}$ — некоторая константа, имеющая размерность напряжения и приближённо равная прямому напряжению p-n-перехода, при небольших прямых токах, для кремниевого прибора около 0,55 В\n",
    "\n",
    "${\\displaystyle n}$ — показатель, характеризующий величину градиента концентрации легирующей примеси в p-n-переходе, для переходов с плавным, например, линейным изменением концентрации ${\\displaystyle n\\approx 0,33}$, для резких переходов ${\\displaystyle n\\approx 0,5}$, для переходов со ступенчатым легированием ${\\displaystyle n}$ может достигать 2<sup id=\"cite_ref-2\" class=\"reference\"><a href=\"#cite_note-2\">[2]</a></sup>.\n",
    " \n",
    " <div class=\"reflist columns\" style=\"list-style-type: decimal;\">\n",
    "<div class=\"mw-references-wrap\"><ol class=\"references\">\n",
    "<li id=\"cite_note-1\"><span class=\"mw-cite-backlink\"><a href=\"#cite_ref-1\" aria-label=\"Обратно к тексту\" title=\"Обратно к тексту\">↑</a></span> <span class=\"reference-text\"><span class=\"citation\"><span class=\"citation\"><span lang=\"und\"><a rel=\"nofollow\" class=\"external text\" href=\"http://docs.cntd.ru/document/1200031279\">ГОСТ Р 52002-2003 Электротехника. Термины и определения основных понятий</a></span><span class=\"hidden-ref\" style=\"display:none\"><b>&nbsp;<small class=\"ref-info\" style=\"cursor:help;\" title=\"на неопределённом языке\">(неопр.)</small></b></span>. <small>Дата обращения: 30 марта 2018.</small> <small><a rel=\"nofollow\" class=\"external text\" href=\"https://web.archive.org/web/20180316182908/http://docs.cntd.ru/document/1200031279\">Архивировано</a> 16&nbsp;марта 2018&nbsp;года.</small></span></span></span>\n",
    "</li>\n",
    "<li id=\"cite_note-2\"><span class=\"mw-cite-backlink\"><a href=\"#cite_ref-2\" aria-label=\"Обратно к тексту\" title=\"Обратно к тексту\">↑</a></span> <span class=\"reference-text\"><span class=\"citation\"><span class=\"citation\"><span lang=\"und\"><a rel=\"nofollow\" class=\"external text\" href=\"http://mysite.du.edu/~etuttle/electron/elect40.htm\">Varactors</a></span><span class=\"hidden-ref\" style=\"display:none\"><b>&nbsp;<small class=\"ref-info\" style=\"cursor:help;\" title=\"на неопределённом языке\">(неопр.)</small></b></span>. <small>Дата обращения: 30 марта 2018.</small> <small><a rel=\"nofollow\" class=\"external text\" href=\"https://web.archive.org/web/20171009032851/http://mysite.du.edu/~etuttle/electron/elect40.htm\">Архивировано</a> 9&nbsp;октября 2017&nbsp;года.</small></span></span></span>\n",
    "</li>\n",
    "</ol></div></div>"
   ]
  },
  {
   "cell_type": "markdown",
   "id": "baef60c8",
   "metadata": {},
   "source": [
    "http://physicsleti.narod.ru/fiz/html/point_4_6.html\n",
    "\n",
    "http://w.ict.nsc.ru/books/textbooks/akhmerov/ode_unicode/s-36/s-36.html"
   ]
  },
  {
   "cell_type": "markdown",
   "id": "28c914a1",
   "metadata": {},
   "source": [
    "Если изменения тока настолько медленны, что за время установления электрического равновесия в цепи относительные изменения токов и ЭДС малы, то мгновенные значения токов и ЭДС будут подчиняться всем законам постоянного тока.\n",
    "\n",
    "Такие токи называются медленно меняющимися, или квазистационарными. В качестве примера квазистационарных токов рассмотрим процессы зарядки и разрядки конденсатора (рис. 4.6).\n",
    "\n",
    "Пусть конденсатор с емкостью С включен в схему, приведенную на рисунке. Тогда, ставя переключатель в положение 1, будем заряжать конденсатор от источника тока, а перебрасывая в положение 2, - разряжать конденсатор.\n",
    "\n",
    "Рассмотрим процесс зарядки конденсатора. Обозначим через $\\varepsilon$ ЭДС источника, через $R$ - сопротивление цепи (включая и внутреннее сопротивление источника) и выберем положительное направление тока, как показано на рисунке. Применим к контуру второе правило Кирхгофа:\n",
    "\n",
    "$$ R\\,i + U = \\varepsilon$$\n",
    "\n",
    "$$ R\\,i + L i' + U = \\varepsilon$$\n",
    "\n",
    "где $i$ - мгновенное значение силы тока; $U$ - мгновенное значение напряжения на конденсаторе. Напряжение и ток выражаем, соответственно, $i=\\frac{dq}{dt}$, где $q$ - заряд конденсатора. \n",
    "\n",
    "\n",
    "$$R\\frac{dq}{dt} + U - \\varepsilon = 0$$\n",
    "\n",
    "\n",
    "$$R\\frac{dq}{dt} + L\\frac{d^{2}q}{dt^2} + U - \\varepsilon = 0$$\n"
   ]
  },
  {
   "cell_type": "markdown",
   "id": "1febdbb3",
   "metadata": {},
   "source": [
    "$q = \\int_{U_a}^{U_b} \\frac{dQ}{dU}dU = \\int_{U_a}^{U_b} {\\displaystyle C_{d}(U)}dU$\n",
    "\n",
    "$$dQ = {\\displaystyle C_{d}(U)\\,dU,}$$\n",
    "\n",
    "$$\\frac{dQ}{dt} = {\\displaystyle C_{d}(U)\\,\\frac{dU}{dt}}$$\n",
    "\n",
    "\n",
    "$$\\frac{d^2Q}{dt^2} = {\\displaystyle C_{d}(U)\\,\\frac{d^2U}{dt^2}}$$"
   ]
  },
  {
   "cell_type": "markdown",
   "id": "0be73177",
   "metadata": {},
   "source": [
    "Исключив из трех написанных уравнений $q$ и $i$, получаем\n",
    "\n",
    "\n",
    "$$R{\\displaystyle C_{d}(U)\\,\\frac{dU}{dt}} + L{\\displaystyle C_{d}(U)\\,\\frac{d^2U}{dt^2}} + U - \\varepsilon = 0$$\n",
    "\n",
    "при $L = 0$\n",
    "\n",
    "$$R{\\displaystyle C_{d}(U)\\,\\frac{dU}{dt}} + U - \\varepsilon = 0$$\n",
    "\n",
    "\n",
    "$$\\frac{dU}{dt} + \\frac{U-\\varepsilon}{R\\,C_{d}(U)} = 0$$\n",
    "\n",
    "Используя зависимость динамической ёмкости от напряжения:\n",
    "\n",
    "$$\\frac{dU}{dt} + \\frac{U-\\varepsilon}{R\\,{\\frac {C_{0}}{\\left(1+U/U_{0}\\right)^{n}}}} = 0$$\n",
    "\n",
    "$$\\frac{dU}{dt} = \\frac{\\varepsilon-U}{R\\,{\\frac {C_{0}}{\\left(1+U(t)/U_{0}\\right)^{n}}}}$$\n",
    "\n",
    "\n",
    "$$\\frac{dU}{dt} = \\frac{\\varepsilon-U}{R\\,C_{0}}\\left(1+\\frac{U}{U_{0}}\\right)^{n}$$"
   ]
  },
  {
   "cell_type": "code",
   "execution_count": 1,
   "id": "1237af27",
   "metadata": {},
   "outputs": [],
   "source": [
    "t = var(\"t\")\n",
    "epsilon = function('epsilon')(t)\n",
    "U = function('U')(t)\n",
    "u = var(\"u\")\n",
    "R, C_0, U_0, n = var(\"R, C_0, U_0, n\")"
   ]
  },
  {
   "cell_type": "code",
   "execution_count": 68,
   "id": "73913d35",
   "metadata": {},
   "outputs": [],
   "source": [
    "periods    = [1,        2,     7,     5,     3,    11]\n",
    "amplitudes = [0.01, 0.003, 0.005, 0.008, 0.001, 0.6]\n",
    "N = 1\n",
    "l = len(periods)\n",
    "\n",
    "epsilon = 0\n",
    "tmax = 3\n",
    "\n",
    "for i in range(N):\n",
    "    epsilon += amplitudes[l-i-1]*sin(2*pi/periods[l-i-1]*t)\n",
    "    tmax    *= periods[l-i-1]"
   ]
  },
  {
   "cell_type": "code",
   "execution_count": 69,
   "id": "e6adeaeb",
   "metadata": {},
   "outputs": [],
   "source": [
    "de = diff(U,t) == (epsilon - U) / (R * C_0) * (1+U/U_0)^n"
   ]
  },
  {
   "cell_type": "code",
   "execution_count": 70,
   "id": "4da72643",
   "metadata": {},
   "outputs": [
    {
     "data": {
      "text/plain": [
       "diff(U(t), t) == -(U(t)/U_0 + 1)^n*(U(t) - 0.600000000000000*sin(2/11*pi*t))/(C_0*R)"
      ]
     },
     "execution_count": 70,
     "metadata": {},
     "output_type": "execute_result"
    }
   ],
   "source": [
    "de"
   ]
  },
  {
   "cell_type": "code",
   "execution_count": 71,
   "id": "6fc0e3b6",
   "metadata": {},
   "outputs": [],
   "source": [
    "from sage.calculus.desolvers import desolve_rk4"
   ]
  },
  {
   "cell_type": "code",
   "execution_count": 72,
   "id": "a3b34aef",
   "metadata": {},
   "outputs": [],
   "source": [
    "from sage.calculus.desolvers import desolve_odeint"
   ]
  },
  {
   "cell_type": "code",
   "execution_count": 73,
   "id": "aac7874c",
   "metadata": {},
   "outputs": [
    {
     "data": {
      "text/plain": [
       "-(u - 0.600000000000000*sin(2/11*pi*t))*(u/U_0 + 1)^n/(C_0*R)"
      ]
     },
     "execution_count": 73,
     "metadata": {},
     "output_type": "execute_result"
    }
   ],
   "source": [
    "d1 = (epsilon - u) / (R * C_0) * (1+u/U_0)^n\n",
    "d1"
   ]
  },
  {
   "cell_type": "code",
   "execution_count": null,
   "id": "23326b4f",
   "metadata": {},
   "outputs": [],
   "source": []
  },
  {
   "cell_type": "code",
   "execution_count": 74,
   "id": "c17ac164",
   "metadata": {},
   "outputs": [
    {
     "data": {
      "text/plain": [
       "[-(1.81818181818182*u + 1)^2*(u - 0.600000000000000*sin(2/11*pi*t))]"
      ]
     },
     "execution_count": 74,
     "metadata": {},
     "output_type": "execute_result"
    }
   ],
   "source": [
    "f = [d1.subs(U_0=0.55, C_0=10^-0, n=2, R = 1)]\n",
    "f"
   ]
  },
  {
   "cell_type": "code",
   "execution_count": 75,
   "id": "e907e89b",
   "metadata": {},
   "outputs": [],
   "source": [
    "times=srange(0,tmax,0.1)\n",
    "\n",
    "sol=desolve_odeint(des=f,ics=0,times=times,dvars=[u],rtol=1e-9,atol=1e-10,compute_jac=True)"
   ]
  },
  {
   "cell_type": "code",
   "execution_count": 76,
   "id": "2eaeca47",
   "metadata": {},
   "outputs": [
    {
     "data": {
      "text/plain": [
       "array([[ 0.        ],\n",
       "       [ 0.00166233],\n",
       "       [ 0.00648481],\n",
       "       [ 0.0142945 ],\n",
       "       [ 0.02499195],\n",
       "       [ 0.03852633],\n",
       "       [ 0.05487438],\n",
       "       [ 0.07402033],\n",
       "       [ 0.0959352 ],\n",
       "       [ 0.12055426],\n",
       "       [ 0.14775332],\n",
       "       [ 0.17732503],\n",
       "       [ 0.20895891],\n",
       "       [ 0.24222938],\n",
       "       [ 0.27659758],\n",
       "       [ 0.3114309 ],\n",
       "       [ 0.34604113],\n",
       "       [ 0.37973656],\n",
       "       [ 0.41187859],\n",
       "       [ 0.44193055],\n",
       "       [ 0.46948881],\n",
       "       [ 0.49429131],\n",
       "       [ 0.51620583],\n",
       "       [ 0.53520456],\n",
       "       [ 0.55133358],\n",
       "       [ 0.56468386],\n",
       "       [ 0.57536819],\n",
       "       [ 0.5835051 ],\n",
       "       [ 0.58920946],\n",
       "       [ 0.59258801],\n",
       "       [ 0.59373843],\n",
       "       [ 0.59275025],\n",
       "       [ 0.58970683],\n",
       "       [ 0.58468745],\n",
       "       [ 0.57776937],\n",
       "       [ 0.5690296 ],\n",
       "       [ 0.55854626],\n",
       "       [ 0.5463996 ],\n",
       "       [ 0.53267276],\n",
       "       [ 0.51745224],\n",
       "       [ 0.50082815],\n",
       "       [ 0.48289429],\n",
       "       [ 0.46374808],\n",
       "       [ 0.44349039],\n",
       "       [ 0.42222521],\n",
       "       [ 0.40005926],\n",
       "       [ 0.37710152],\n",
       "       [ 0.35346264],\n",
       "       [ 0.3292543 ],\n",
       "       [ 0.30458853],\n",
       "       [ 0.2795769 ],\n",
       "       [ 0.25432977],\n",
       "       [ 0.2289554 ],\n",
       "       [ 0.20355915],\n",
       "       [ 0.17824261],\n",
       "       [ 0.15310277],\n",
       "       [ 0.12823127],\n",
       "       [ 0.10371367],\n",
       "       [ 0.07962887],\n",
       "       [ 0.05604852],\n",
       "       [ 0.03303671],\n",
       "       [ 0.01064964],\n",
       "       [-0.01106447],\n",
       "       [-0.03206539],\n",
       "       [-0.05232071],\n",
       "       [-0.07180564],\n",
       "       [-0.09050256],\n",
       "       [-0.10840059],\n",
       "       [-0.12549508],\n",
       "       [-0.14178694],\n",
       "       [-0.15728209],\n",
       "       [-0.17199078],\n",
       "       [-0.18592695],\n",
       "       [-0.19910759],\n",
       "       [-0.21155218],\n",
       "       [-0.22328212],\n",
       "       [-0.23432017],\n",
       "       [-0.24469004],\n",
       "       [-0.25441594],\n",
       "       [-0.26352223],\n",
       "       [-0.27203306],\n",
       "       [-0.27997214],\n",
       "       [-0.28736249],\n",
       "       [-0.29422621],\n",
       "       [-0.30058438],\n",
       "       [-0.30645687],\n",
       "       [-0.31186226],\n",
       "       [-0.31681771],\n",
       "       [-0.32133893],\n",
       "       [-0.32544009],\n",
       "       [-0.32913374],\n",
       "       [-0.3324308 ],\n",
       "       [-0.33534044],\n",
       "       [-0.33787007],\n",
       "       [-0.34002524],\n",
       "       [-0.34180958],\n",
       "       [-0.34322466],\n",
       "       [-0.34426991],\n",
       "       [-0.34494246],\n",
       "       [-0.34523697],\n",
       "       [-0.34514539],\n",
       "       [-0.34465676],\n",
       "       [-0.34375684],\n",
       "       [-0.34242775],\n",
       "       [-0.34064756],\n",
       "       [-0.33838967],\n",
       "       [-0.33562221],\n",
       "       [-0.33230722],\n",
       "       [-0.32839967],\n",
       "       [-0.32384633],\n",
       "       [-0.3185843 ],\n",
       "       [-0.31253935],\n",
       "       [-0.30562381],\n",
       "       [-0.29773408],\n",
       "       [-0.28874754],\n",
       "       [-0.278519  ],\n",
       "       [-0.26687631],\n",
       "       [-0.25361534],\n",
       "       [-0.23849421],\n",
       "       [-0.2212271 ],\n",
       "       [-0.20147797],\n",
       "       [-0.17885553],\n",
       "       [-0.15291131],\n",
       "       [-0.1231449 ],\n",
       "       [-0.08902227],\n",
       "       [-0.05001715],\n",
       "       [-0.0056881 ],\n",
       "       [ 0.04419504],\n",
       "       [ 0.09947028],\n",
       "       [ 0.15936928],\n",
       "       [ 0.22233956],\n",
       "       [ 0.28602548],\n",
       "       [ 0.34752871],\n",
       "       [ 0.40395169],\n",
       "       [ 0.45302957],\n",
       "       [ 0.49355143],\n",
       "       [ 0.52539349],\n",
       "       [ 0.54923184],\n",
       "       [ 0.56614547],\n",
       "       [ 0.57728777],\n",
       "       [ 0.58369298],\n",
       "       [ 0.58620097],\n",
       "       [ 0.58545493],\n",
       "       [ 0.58193219],\n",
       "       [ 0.57598367],\n",
       "       [ 0.56787006],\n",
       "       [ 0.5577907 ],\n",
       "       [ 0.54590488],\n",
       "       [ 0.53234687],\n",
       "       [ 0.51723603],\n",
       "       [ 0.50068354],\n",
       "       [ 0.48279669],\n",
       "       [ 0.46368158],\n",
       "       [ 0.44344461],\n",
       "       [ 0.42219335],\n",
       "       [ 0.40003685],\n",
       "       [ 0.37708557],\n",
       "       [ 0.35345116],\n",
       "       [ 0.32924594],\n",
       "       [ 0.30458237],\n",
       "       [ 0.27957231],\n",
       "       [ 0.2543263 ],\n",
       "       [ 0.22895276],\n",
       "       [ 0.20355711],\n",
       "       [ 0.17824102],\n",
       "       [ 0.15310152],\n",
       "       [ 0.12823028],\n",
       "       [ 0.10371288],\n",
       "       [ 0.07962822],\n",
       "       [ 0.056048  ],\n",
       "       [ 0.03303628],\n",
       "       [ 0.01064928],\n",
       "       [-0.01106477],\n",
       "       [-0.03206564],\n",
       "       [-0.05232093],\n",
       "       [-0.07180582],\n",
       "       [-0.09050271],\n",
       "       [-0.10840073],\n",
       "       [-0.12549519],\n",
       "       [-0.14178704],\n",
       "       [-0.15728218],\n",
       "       [-0.17199086],\n",
       "       [-0.18592702],\n",
       "       [-0.19910765],\n",
       "       [-0.21155224],\n",
       "       [-0.22328217],\n",
       "       [-0.23432021],\n",
       "       [-0.24469008],\n",
       "       [-0.25441598],\n",
       "       [-0.26352226],\n",
       "       [-0.27203309],\n",
       "       [-0.27997217],\n",
       "       [-0.28736251],\n",
       "       [-0.29422624],\n",
       "       [-0.30058441],\n",
       "       [-0.3064569 ],\n",
       "       [-0.31186228],\n",
       "       [-0.31681773],\n",
       "       [-0.32133895],\n",
       "       [-0.32544011],\n",
       "       [-0.32913376],\n",
       "       [-0.33243081],\n",
       "       [-0.33534045],\n",
       "       [-0.33787008],\n",
       "       [-0.34002526],\n",
       "       [-0.34180959],\n",
       "       [-0.34322467],\n",
       "       [-0.34426992],\n",
       "       [-0.34494248],\n",
       "       [-0.34523698],\n",
       "       [-0.34514541],\n",
       "       [-0.34465677],\n",
       "       [-0.34375685],\n",
       "       [-0.34242776],\n",
       "       [-0.34064757],\n",
       "       [-0.33838968],\n",
       "       [-0.33562222],\n",
       "       [-0.33230723],\n",
       "       [-0.32839969],\n",
       "       [-0.32384634],\n",
       "       [-0.31858431],\n",
       "       [-0.31253936],\n",
       "       [-0.30562383],\n",
       "       [-0.29773409],\n",
       "       [-0.28874756],\n",
       "       [-0.27851902],\n",
       "       [-0.26687633],\n",
       "       [-0.25361535],\n",
       "       [-0.23849423],\n",
       "       [-0.22122712],\n",
       "       [-0.201478  ],\n",
       "       [-0.17885555],\n",
       "       [-0.15291134],\n",
       "       [-0.12314493],\n",
       "       [-0.08902231],\n",
       "       [-0.05001719],\n",
       "       [-0.00568814],\n",
       "       [ 0.044195  ],\n",
       "       [ 0.09947024],\n",
       "       [ 0.15936924],\n",
       "       [ 0.22233952],\n",
       "       [ 0.28602544],\n",
       "       [ 0.34752867],\n",
       "       [ 0.40395166],\n",
       "       [ 0.45302955],\n",
       "       [ 0.49355141],\n",
       "       [ 0.52539348],\n",
       "       [ 0.54923183],\n",
       "       [ 0.56614547],\n",
       "       [ 0.57728776],\n",
       "       [ 0.58369297],\n",
       "       [ 0.58620097],\n",
       "       [ 0.58545493],\n",
       "       [ 0.58193219],\n",
       "       [ 0.57598367],\n",
       "       [ 0.56787006],\n",
       "       [ 0.5577907 ],\n",
       "       [ 0.54590488],\n",
       "       [ 0.53234687],\n",
       "       [ 0.51723603],\n",
       "       [ 0.50068354],\n",
       "       [ 0.48279669],\n",
       "       [ 0.46368158],\n",
       "       [ 0.44344461],\n",
       "       [ 0.42219335],\n",
       "       [ 0.40003685],\n",
       "       [ 0.37708557],\n",
       "       [ 0.35345116],\n",
       "       [ 0.32924594],\n",
       "       [ 0.30458237],\n",
       "       [ 0.27957231],\n",
       "       [ 0.2543263 ],\n",
       "       [ 0.22895276],\n",
       "       [ 0.20355711],\n",
       "       [ 0.17824102],\n",
       "       [ 0.15310152],\n",
       "       [ 0.12823028],\n",
       "       [ 0.10371288],\n",
       "       [ 0.07962822],\n",
       "       [ 0.056048  ],\n",
       "       [ 0.03303628],\n",
       "       [ 0.01064928],\n",
       "       [-0.01106477],\n",
       "       [-0.03206564],\n",
       "       [-0.05232093],\n",
       "       [-0.07180582],\n",
       "       [-0.09050271],\n",
       "       [-0.10840073],\n",
       "       [-0.12549519],\n",
       "       [-0.14178704],\n",
       "       [-0.15728218],\n",
       "       [-0.17199086],\n",
       "       [-0.18592702],\n",
       "       [-0.19910765],\n",
       "       [-0.21155224],\n",
       "       [-0.22328217],\n",
       "       [-0.23432021],\n",
       "       [-0.24469008],\n",
       "       [-0.25441598],\n",
       "       [-0.26352226],\n",
       "       [-0.27203309],\n",
       "       [-0.27997217],\n",
       "       [-0.28736251],\n",
       "       [-0.29422624],\n",
       "       [-0.30058441],\n",
       "       [-0.3064569 ],\n",
       "       [-0.31186228],\n",
       "       [-0.31681773],\n",
       "       [-0.32133895],\n",
       "       [-0.3254401 ],\n",
       "       [-0.32913376],\n",
       "       [-0.33243081],\n",
       "       [-0.33534045],\n",
       "       [-0.33787008],\n",
       "       [-0.34002526],\n",
       "       [-0.34180959],\n",
       "       [-0.34322467],\n",
       "       [-0.34426992],\n",
       "       [-0.34494247],\n",
       "       [-0.34523698],\n",
       "       [-0.34514541],\n",
       "       [-0.34465677],\n",
       "       [-0.34375685],\n",
       "       [-0.34242776],\n",
       "       [-0.34064757],\n",
       "       [-0.33838968],\n",
       "       [-0.33562222],\n",
       "       [-0.33230723],\n",
       "       [-0.32839968],\n",
       "       [-0.32384634]])"
      ]
     },
     "execution_count": 76,
     "metadata": {},
     "output_type": "execute_result"
    }
   ],
   "source": [
    "sol"
   ]
  },
  {
   "cell_type": "code",
   "execution_count": 77,
   "id": "91522816",
   "metadata": {},
   "outputs": [
    {
     "data": {
      "image/png": "[encoded data removed]",
      "text/plain": [
       "Graphics object consisting of 2 graphics primitives"
      ]
     },
     "metadata": {},
     "output_type": "display_data"
    }
   ],
   "source": [
    "p=points(zip(times,sol))\n",
    "p += plot(epsilon, t,0, tmax)\n",
    "p.show()"
   ]
  },
  {
   "cell_type": "code",
   "execution_count": 78,
   "id": "edb3028d",
   "metadata": {},
   "outputs": [
    {
     "data": {
      "text/plain": [
       "array([0.59373843])"
      ]
     },
     "execution_count": 78,
     "metadata": {},
     "output_type": "execute_result"
    }
   ],
   "source": [
    "max(sol)"
   ]
  },
  {
   "cell_type": "code",
   "execution_count": 67,
   "id": "efa5c55a",
   "metadata": {},
   "outputs": [
    {
     "data": {
      "text/plain": [
       "array([-0.34523697])"
      ]
     },
     "execution_count": 67,
     "metadata": {},
     "output_type": "execute_result"
    }
   ],
   "source": [
    "min(sol)"
   ]
  },
  {
   "cell_type": "code",
   "execution_count": 46,
   "id": "634e7946",
   "metadata": {},
   "outputs": [
    {
     "data": {
      "text/plain": [
       "array([9.74143044e-05])"
      ]
     },
     "execution_count": 46,
     "metadata": {},
     "output_type": "execute_result"
    }
   ],
   "source": [
    "max(sol)+min(sol)\n",
    "# 1 0.00173141\n",
    "# 2 0.00136604\n",
    "# 3 0.0002314\n",
    "# 4 0.00084151\n",
    "# 5 0.00062668\n",
    "# 6 -0.00023712"
   ]
  },
  {
   "cell_type": "code",
   "execution_count": 47,
   "id": "991e0b3a",
   "metadata": {},
   "outputs": [
    {
     "name": "stderr",
     "output_type": "stream",
     "text": [
      "/tmp/ipykernel_2530/764227749.py:1: DeprecationWarning: sage.stats.basic_stats.mean is deprecated; use numpy.mean or numpy.nanmean instead\n",
      "See https://trac.sagemath.org/29662 for details.\n",
      "  mean(sol)\n"
     ]
    },
    {
     "data": {
      "text/plain": [
       "0.0002496653543633198"
      ]
     },
     "execution_count": 47,
     "metadata": {},
     "output_type": "execute_result"
    }
   ],
   "source": [
    "mean(sol)\n",
    "# 1 0.0010335958036299683\n",
    "# 2 0.0011011145883355919\n",
    "# 3 0.000763928313497344\n",
    "# 4 0.0002912209402134538\n",
    "# 5 4.413993930364804e-05\n",
    "# 6 5.225207259923439e-06"
   ]
  },
  {
   "cell_type": "code",
   "execution_count": 32,
   "id": "e45e03d9",
   "metadata": {},
   "outputs": [],
   "source": [
    "sol_rk4 = desolve_rk4(f[0], u, step=.1, ics=[0, 0], ivar=t, end_points=tmax)"
   ]
  },
  {
   "cell_type": "code",
   "execution_count": 33,
   "id": "6977e8b8",
   "metadata": {},
   "outputs": [
    {
     "data": {
      "image/png": "[encoded data removed]",
      "text/plain": [
       "Graphics object consisting of 2 graphics primitives"
      ]
     },
     "metadata": {},
     "output_type": "display_data"
    }
   ],
   "source": [
    "p=points(sol_rk4)\n",
    "p += plot(epsilon, t, 0, tmax)\n",
    "p.show()"
   ]
  },
  {
   "cell_type": "markdown",
   "id": "14d23566",
   "metadata": {},
   "source": [
    "чем сильнее \"моментальный\" спектр тепловых шумов будет отличаться от спектра белого шума вследствие тепловых флуктуаций, тем больше напряжение на варикапе"
   ]
  },
  {
   "cell_type": "code",
   "execution_count": null,
   "id": "f6a61339",
   "metadata": {},
   "outputs": [],
   "source": []
  }
 ],
 "metadata": {
  "kernelspec": {
   "display_name": "SageMath 9.6.beta7",
   "language": "sage",
   "name": "sagemath"
  },
  "language_info": {
   "codemirror_mode": {
    "name": "ipython",
    "version": 3
   },
   "file_extension": ".py",
   "mimetype": "text/x-python",
   "name": "python",
   "nbconvert_exporter": "python",
   "pygments_lexer": "ipython3",
   "version": "3.10.3"
  }
 },
 "nbformat": 4,
 "nbformat_minor": 5
}
