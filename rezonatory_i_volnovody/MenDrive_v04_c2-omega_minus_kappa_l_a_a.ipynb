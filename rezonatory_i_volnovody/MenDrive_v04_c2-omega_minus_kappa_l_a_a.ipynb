{
 "cells": [
  {
   "cell_type": "markdown",
   "metadata": {},
   "source": [
    "# Электродинамический расчёт волнового двигателя с внутренним расходом энергии Ф.Ф.Менде (MenDrive)\n",
    "\n",
    "А.Ю.Дроздов"
   ]
  },
  {
   "cell_type": "markdown",
   "metadata": {},
   "source": [
    "опираясь на выкладки из параграфа 20 Электродинамики Зоммерфельда"
   ]
  },
  {
   "cell_type": "markdown",
   "metadata": {},
   "source": [
    "рассчитаем тягу в\n",
    "\n",
    "http://fmnauka.narod.ru/dvigatel_emdrive.pdf\n",
    "\n",
    "Ф.Ф. МЕНДЕ, ВОЛНОВОЙ ДВИГАТЕЛЬ С ВНУТРЕННИМ РАСХОДОМ ЭНЕРГИИ ЭЛЕКТРОМАГНИТНЫХ КОЛЕБАНИЙ"
   ]
  },
  {
   "cell_type": "markdown",
   "metadata": {},
   "source": [
    "геометрия задачи следующая: \n",
    "\n",
    "поверхность хорошего проводника $x<=-a$\n",
    "\n",
    "вакуум внутри резонатора заполняет область $-a<=x<=a$\n",
    "\n",
    "В области $x>a$ - плохой проводник"
   ]
  },
  {
   "cell_type": "markdown",
   "metadata": {},
   "source": [
    "$$rot\\,\\vec{E} = \\mu\\,\\frac{i\\,\\omega}{c}\\,\\vec{H}$$\n",
    "\n",
    "$$rot\\,\\vec{H} = \\frac{1}{c}\\frac{\\partial \\vec D}{\\partial t} + \\frac{4\\pi}{c} \\vec j = - \\frac{i\\,\\omega}{c} \\epsilon \\vec{E} + \\frac{4\\pi}{c}\\sigma \\vec E$$\n",
    "\n",
    "$$rot\\,rot\\,\\vec{E} = \\mu\\,\\frac{i\\,\\omega}{c}rot\\,\\vec{H}$$\n",
    "\n",
    "$$rot\\,rot\\,\\vec{E} = \\mu\\,\\frac{i\\,\\omega}{c}\\left(- \\frac{i\\,\\omega}{c} \\epsilon \\vec{E} + \\frac{4\\pi}{c}\\sigma \\vec E\\right)$$\n",
    "\n",
    "$$rot\\,rot\\,\\vec{E} = \\epsilon \\mu\\,\\frac{\\omega^2}{c^2} \\vec{E} + i\\,\\omega\\,\\sigma\\,\\mu\\,\\frac{4\\pi}{c^2} \\vec E$$\n",
    "\n",
    "$$rot\\,rot\\,\\vec{E} = grad\\,div\\,\\vec{E} - Laplasian\\,\\vec{E}$$\n",
    "\n",
    "$$Laplasian\\,\\vec{E} + \\epsilon \\mu \\frac{\\omega^2}{c^2}\\,\\vec{E} + i\\,\\omega\\,\\sigma\\,\\mu\\,\\frac{4\\pi}{c^2} \\vec E - grad\\,div\\,\\vec{E} = 0$$\n"
   ]
  },
  {
   "cell_type": "markdown",
   "metadata": {},
   "source": [
    "$$div\\,\\vec{E} = - \\frac{\\vec{n}}{c} \\frac{\\partial \\vec E}{\\partial t}$$\n",
    "\n",
    "$$grad\\,div\\,\\vec{E} = - grad\\,\\frac{\\vec{n}}{c} \\frac{\\partial \\vec E}{\\partial t}$$\n",
    "\n",
    "для вакуума внутри резонатора ищем решение в виде\n",
    "\n",
    "$$\\vec{E} = \\vec{E}(x)\\,e^{i\\,k\\,z}\\,e^{-i\\,\\omega\\,t}$$"
   ]
  },
  {
   "cell_type": "markdown",
   "metadata": {},
   "source": [
    "подставляя в исходное уравнение приходим к обыкновенному дифференциальному уравнению\n",
    "\n",
    "$$\\frac{\\partial^{2}}{(\\partial {x})^{2}}\\vec{E}(x) + \\frac{\\partial^{2}}{(\\partial {y})^{2}}\\vec{E}(x) + \\left(\\epsilon  \\mu \\frac{\\omega^2}{c^2} + i\\,\\omega\\,\\sigma\\,\\mu\\,\\frac{4\\pi}{c^2} - {k'_z}^2\\right)\\,\\vec{E}(x) - grad\\,div\\,\\vec{E} = 0$$"
   ]
  },
  {
   "cell_type": "markdown",
   "metadata": {},
   "source": [
    "производим следующую замену переменных\n",
    "\n",
    "$$\\kappa^2 = \\epsilon \\mu \\frac{\\omega^2}{c^2} + i\\,\\omega\\,\\sigma\\,\\mu\\,\\frac{4\\pi}{c^2}$$\n",
    "\n",
    "теперь получаем дифференциальное уравнение\n",
    "\n",
    "$$\\frac{\\partial^{2}}{(\\partial {x})^{2}}\\vec{E}(x) + \\frac{\\partial^{2}}{(\\partial {y})^{2}}\\vec{E}(x) + \\left(\\kappa^2 - {k'_z}^2\\right)\\,\\vec{E}(x) = 0$$"
   ]
  },
  {
   "cell_type": "code",
   "execution_count": null,
   "metadata": {},
   "outputs": [],
   "source": []
  },
  {
   "cell_type": "markdown",
   "metadata": {},
   "source": [
    "для проводящего металла с потерями ищем решение в виде\n",
    "\n",
    "$$\\vec{E} = \\vec{E}\\,e^{i\\,k'_x\\,x}\\,e^{i\\,k'_z\\,z}\\,e^{-i\\,\\omega\\,t}$$\n",
    "\n",
    "в котором волновой вектор, направленный вдоль оси z комплексный $k'_z = k_z + i\\,s_z$, как и волновой вектор, направленный вдоль оси x может быть комплексным $k'_x = k_x + i\\,s_x$\n",
    "\n",
    "$$\\vec{E} = \\vec{E}\\,e^{i\\,(k_x + i\\,s_x)\\,(x-a)}\\,e^{i\\,(k_z + i\\,s_z)\\,z}\\,e^{-i\\,\\omega\\,t}$$"
   ]
  },
  {
   "cell_type": "code",
   "execution_count": null,
   "metadata": {},
   "outputs": [],
   "source": []
  },
  {
   "cell_type": "markdown",
   "metadata": {},
   "source": [
    "принимая модель комплексного представления диэлектрической проницаемости $\\epsilon' = \\epsilon + \\frac{4\\pi\\,\\sigma}{\\omega}\\,i$ (плохой проводник)"
   ]
  },
  {
   "cell_type": "markdown",
   "metadata": {},
   "source": [
    "подставляем решение в\n",
    "\n",
    "$$Laplasian\\,\\vec{E} + \\frac{\\mu \\omega^2}{c^2}\\left(\\epsilon + \\frac{4\\pi\\,\\sigma}{\\omega}\\,i\\right)\\,\\vec{E} - grad\\,div\\,\\vec{E} = 0$$\n",
    "\n",
    "и принимая\n",
    "\n",
    "$$div\\,\\vec{E} = - \\frac{\\vec{n}}{c} \\frac{\\partial \\vec E}{\\partial t}$$"
   ]
  },
  {
   "cell_type": "markdown",
   "metadata": {},
   "source": [
    "приходим к\n",
    "\n",
    "$$\\frac{\\partial^{2}}{(\\partial {x})^{2}}\\vec{E}(x) + \\frac{\\partial^{2}}{(\\partial {y})^{2}}\\vec{E}(x) + \\left(\\frac{\\mu \\omega^2}{c^2}\\left(\\epsilon + \\frac{4\\pi\\,\\sigma}{\\omega}\\,i\\right)  - {k'_z}^2\\right)\\,\\vec{E} - grad\\, \\left(\\frac{\\vec{n}}{c} \\frac{\\partial \\vec E}{\\partial t} \\right) = 0$$"
   ]
  },
  {
   "cell_type": "markdown",
   "metadata": {},
   "source": [
    "$$ k = \\frac{\\omega}{c}\\,\\sqrt{\\mu\\,\\left(\\epsilon  + \\frac{4\\pi\\,\\sigma}{\\omega}\\,i\\right)}$$"
   ]
  },
  {
   "cell_type": "markdown",
   "metadata": {},
   "source": [
    "$${k'_z}^2=\\left(k_z + i\\,s_z \\right)^2 = k_z^2 - s_z^2 + 2\\,i\\,k_z\\,s_z$$"
   ]
  },
  {
   "cell_type": "markdown",
   "metadata": {},
   "source": [
    "приходим к\n",
    "\n",
    "$$\\frac{\\partial^{2}}{(\\partial {x})^{2}}\\vec{E}(x) + \\frac{\\partial^{2}}{(\\partial {y})^{2}}\\vec{E}(x) + \\left(\\frac{\\mu \\omega^2}{c^2}\\epsilon + \\frac{\\mu \\omega^2}{c^2}\\frac{4\\pi\\,\\sigma}{\\omega}\\,i - {k'_z}^{2}\\right) = 0$$\n"
   ]
  },
  {
   "cell_type": "code",
   "execution_count": 1,
   "metadata": {},
   "outputs": [],
   "source": [
    "from IPython.display import display, Math, Latex\n",
    "\n",
    "mu_l = var('mu_l')\n",
    "assume(mu_l, 'real')\n",
    "assume(mu_l>0)\n",
    "\n",
    "mu_r = var('mu_r')\n",
    "assume(mu_r, 'real')\n",
    "assume(mu_r>0)\n",
    "\n",
    "epsilon_l = var('epsilon_l')\n",
    "assume(epsilon_l, 'real')\n",
    "assume(epsilon_l>0)\n",
    "\n",
    "epsilon_r = var('epsilon_r')\n",
    "assume(epsilon_r, 'real')\n",
    "assume(epsilon_r>0)\n",
    "\n",
    "mu_0 = 1\n",
    "epsilon_0 = 1\n",
    "\n",
    "# left conductor\n",
    "sigma_l = var('sigma_l')\n",
    "assume(sigma_l, 'real')\n",
    "assume(sigma_l>0)\n",
    "\n",
    "#right conductor\n",
    "sigma_r = var('sigma_r')\n",
    "assume(sigma_r, 'real')\n",
    "assume(sigma_r>0)\n",
    "\n",
    "\n",
    "sx = var ('sx')\n",
    "assume(sx, 'real')\n",
    "assume(sx>0)\n",
    "\n",
    "sy = var ('sy')\n",
    "assume(sy, 'real')\n",
    "assume(sy>0)\n",
    "\n",
    "sz = var ('sz')\n",
    "assume(sz, 'real')\n",
    "assume(sz>0)\n",
    "\n",
    "kappa_vacuum = var ('kappa_vacuum')\n",
    "assume(kappa_vacuum, 'real')\n",
    "assume(kappa_vacuum>0)\n",
    "\n",
    "# left conductor\n",
    "kappa_l = var('kappa_l')\n",
    "assume(kappa_l, 'complex')\n",
    "\n",
    "# right conductor\n",
    "kappa_r = var('kappa_r')\n",
    "assume(kappa_r, 'complex')\n",
    "\n",
    "kx = var ('kx')\n",
    "assume(kx, 'real')\n",
    "\n",
    "ky = var ('ky')\n",
    "assume(ky, 'real')\n",
    "\n",
    "kz = var ('kz')\n",
    "assume(kz, 'real')\n",
    "\n",
    "k__x = var ('k__x')\n",
    "assume(k__x, 'complex')\n",
    "\n",
    "k__y = var ('k__y')\n",
    "assume(k__x, 'complex')\n",
    "\n",
    "k__z = var ('k__z')\n",
    "assume(k__z, 'complex')\n",
    "\n",
    "k_x = var ('k_x')\n",
    "assume(k_x, 'complex')\n",
    "\n",
    "k_y = var ('k_y')\n",
    "assume(k_x, 'complex')\n",
    "\n",
    "k_z = var ('k_z')\n",
    "assume(k_z, 'complex')\n",
    "\n",
    "\n",
    "a = var('a')\n",
    "assume(a, 'real')\n",
    "assume(a>0)\n",
    "\n",
    "x = var('x')\n",
    "y = var('y')\n",
    "z = var('z')\n",
    "\n",
    "assume(x, 'real')\n",
    "assume(y, 'real')\n",
    "assume(z, 'real')\n",
    "\n",
    "c = var('c')\n",
    "assume(c, 'real')\n",
    "assume(c>0)\n",
    "\n",
    "omega = var('omega')\n",
    "assume(omega, 'real')\n",
    "\n",
    "good_conductor = True"
   ]
  },
  {
   "cell_type": "markdown",
   "metadata": {},
   "source": [
    "$$\\kappa^2 = \\epsilon \\mu \\frac{\\omega^2}{c^2} + i\\,\\omega\\,\\sigma\\,\\mu\\,\\frac{4\\pi}{c^2}$$"
   ]
  },
  {
   "cell_type": "code",
   "execution_count": 2,
   "metadata": {},
   "outputs": [
    {
     "name": "stdout",
     "output_type": "stream",
     "text": [
      "eq_kappa_l =\n"
     ]
    },
    {
     "data": {
      "text/latex": [
       "$\\displaystyle \\kappa_{l}^{2} = \\frac{4 i \\, \\pi \\mu_{l} \\omega \\sigma_{l}}{c^{2}}$"
      ],
      "text/plain": [
       "<IPython.core.display.Math object>"
      ]
     },
     "metadata": {},
     "output_type": "display_data"
    },
    {
     "name": "stdout",
     "output_type": "stream",
     "text": [
      "eq_kappa_r =\n"
     ]
    },
    {
     "data": {
      "text/latex": [
       "$\\displaystyle \\kappa_{r}^{2} = \\frac{4 i \\, \\pi \\mu_{r} \\omega \\sigma_{r}}{c^{2}}$"
      ],
      "text/plain": [
       "<IPython.core.display.Math object>"
      ]
     },
     "metadata": {},
     "output_type": "display_data"
    },
    {
     "name": "stdout",
     "output_type": "stream",
     "text": [
      "eq_kappa_inner_vacuum =\n"
     ]
    },
    {
     "data": {
      "text/latex": [
       "$\\displaystyle \\kappa_{\\mathit{vacuum}}^{2} = \\frac{\\omega^{2}}{c^{2}}$"
      ],
      "text/plain": [
       "<IPython.core.display.Math object>"
      ]
     },
     "metadata": {},
     "output_type": "display_data"
    }
   ],
   "source": [
    "# исходя из вида дифференциальных уравнений для вакуума внутри резонатора и проводящего металла с потерями\n",
    "# записываем соотнощения для волнового вектора в виде уравнений\n",
    "\n",
    "if good_conductor:\n",
    "    eq_kappa_l              = kappa_l^2 == I*omega*sigma_l*mu_l*4*pi/c^2\n",
    "    eq_kappa_r              = kappa_r^2 == I*omega*sigma_r*mu_r*4*pi/c^2\n",
    "else:\n",
    "    eq_kappa_l              = kappa_l^2 == mu_l * epsilon_l * omega^2 / c^2 + I*omega*sigma_l*mu_l*4*pi/c^2\n",
    "    eq_kappa_r              = kappa_r^2 == mu_r * epsilon_r * omega^2 / c^2 + I*omega*sigma_r*mu_r*4*pi/c^2\n",
    "eq_kappa_inner_vacuum = kappa_vacuum^2 == omega^2 / c^2\n",
    "\n",
    "kappa_sol_l = solve(eq_kappa_l, kappa_l)[1]\n",
    "kappa_sol_r = solve(eq_kappa_r, kappa_r)[1]\n",
    "#kappa_vacuum_sol = omega / c\n",
    "\n",
    "print(\"eq_kappa_l =\")\n",
    "display(Math(latex(eq_kappa_l)))\n",
    "print(\"eq_kappa_r =\")\n",
    "display(Math(latex(eq_kappa_r)))\n",
    "\n",
    "print(\"eq_kappa_inner_vacuum =\")\n",
    "display(Math(latex(eq_kappa_inner_vacuum)))"
   ]
  },
  {
   "cell_type": "code",
   "execution_count": null,
   "metadata": {},
   "outputs": [],
   "source": []
  },
  {
   "cell_type": "markdown",
   "metadata": {},
   "source": [
    "принимая модель комплексного представления диэлектрической проницаемости $\\epsilon' = \\epsilon + \\frac{4\\pi\\,\\sigma}{\\omega}\\,i$ (плохой проводник)"
   ]
  },
  {
   "cell_type": "code",
   "execution_count": 3,
   "metadata": {},
   "outputs": [],
   "source": [
    "if good_conductor:\n",
    "    epsilon_l_complex = + I * 4 * pi * sigma_l / omega\n",
    "    epsilon_r_complex = + I * 4 * pi * sigma_r / omega\n",
    "else:\n",
    "    epsilon_l_complex = epsilon_l + I * 4 * pi * sigma_l / omega\n",
    "    epsilon_r_complex = epsilon_r + I * 4 * pi * sigma_r / omega"
   ]
  },
  {
   "cell_type": "raw",
   "metadata": {},
   "source": [
    "tst_eq = (kappa == sqrt(epsilon_complex * mu) * omega/c).subs(kappa_sol)\n",
    "(tst_eq.lhs()^2).expand(), (tst_eq.rhs()^2).expand()"
   ]
  },
  {
   "cell_type": "code",
   "execution_count": null,
   "metadata": {},
   "outputs": [],
   "source": []
  },
  {
   "cell_type": "markdown",
   "metadata": {},
   "source": [
    "приходим к\n",
    "\n",
    "$$\\frac{\\partial^{2}}{(\\partial {x})^{2}}\\vec{E}(x) + \\frac{\\partial^{2}}{(\\partial {y})^{2}}\\vec{E}(x) +  \\left(\\frac{\\mu \\omega^2}{c^2}\\epsilon + \\frac{\\mu \\omega^2}{c^2}\\frac{4\\pi\\,\\sigma}{\\omega}\\,i - {k'_z}^{2}\\right) = 0$$\n"
   ]
  },
  {
   "cell_type": "markdown",
   "metadata": {},
   "source": [
    "$${k'_z}^2=\\left(k_z + i\\,s_z \\right)^2 = k_z^2 - s_z^2 + 2\\,i\\,k_z\\,s_z$$"
   ]
  },
  {
   "cell_type": "markdown",
   "metadata": {},
   "source": []
  },
  {
   "cell_type": "code",
   "execution_count": 4,
   "metadata": {},
   "outputs": [],
   "source": [
    "#k__y_subs = k__y == 0 #ky + I * sy"
   ]
  },
  {
   "cell_type": "code",
   "execution_count": 5,
   "metadata": {},
   "outputs": [],
   "source": [
    "#k__z_subs = k__z == kz + I * sz"
   ]
  },
  {
   "cell_type": "code",
   "execution_count": null,
   "metadata": {},
   "outputs": [],
   "source": []
  },
  {
   "cell_type": "markdown",
   "metadata": {},
   "source": [
    "$$\\frac{\\partial^{2}}{(\\partial {x})^{2}}\\vec{E}(x) + \\frac{\\partial^{2}}{(\\partial {y})^{2}}\\vec{E}(x) + \\left(\\frac{\\mu \\epsilon \\omega^2}{c^2} - {k'_z}^2\\right)\\,\\vec{E}(x) - grad\\,div\\,\\vec{E} = 0$$"
   ]
  },
  {
   "cell_type": "markdown",
   "metadata": {},
   "source": [
    "зависимость поля от $y$ отсутствует"
   ]
  },
  {
   "cell_type": "markdown",
   "metadata": {},
   "source": [
    "$$\\frac{\\partial^{2}}{(\\partial {x})^{2}}\\vec{E}(x) + \\left(\\frac{\\mu \\epsilon \\omega^2}{c^2} - {k'_z}^2\\right)\\,\\vec{E}(x) - grad\\,div\\,\\vec{E} = 0$$"
   ]
  },
  {
   "cell_type": "code",
   "execution_count": 6,
   "metadata": {},
   "outputs": [
    {
     "name": "stdout",
     "output_type": "stream",
     "text": [
      "de_inner_vacuum =\n"
     ]
    },
    {
     "data": {
      "text/latex": [
       "$\\displaystyle -{\\left(k_{z}^{2} - \\kappa_{l}^{2}\\right)} E\\left(x\\right) + \\frac{\\partial^{2}}{(\\partial x)^{2}}E\\left(x\\right) = 0$"
      ],
      "text/plain": [
       "<IPython.core.display.Math object>"
      ]
     },
     "metadata": {},
     "output_type": "display_data"
    },
    {
     "data": {
      "text/latex": [
       "$\\displaystyle -{\\left(k_{z}^{2} - \\kappa_{r}^{2}\\right)} E\\left(x\\right) + \\frac{\\partial^{2}}{(\\partial x)^{2}}E\\left(x\\right) = 0$"
      ],
      "text/plain": [
       "<IPython.core.display.Math object>"
      ]
     },
     "metadata": {},
     "output_type": "display_data"
    }
   ],
   "source": [
    "# решаем полученные обыкновенные дифференциальные уравнения\n",
    "E = function('E')(x)\n",
    "\n",
    "\n",
    "de_inner_vacuum_l = diff (E, x, 2) + diff (E, y, 2) + (kappa_l^2 - k_z^2) * E == 0\n",
    "de_inner_vacuum_r = diff (E, x, 2) + diff (E, y, 2) + (kappa_r^2 - k_z^2) * E == 0\n",
    "# diff (E, y, 2) == 0\n",
    "de_inner_vacuum_l = diff (E, x, 2) + (kappa_l^2 - k_z^2) * E == 0\n",
    "de_inner_vacuum_r = diff (E, x, 2) + (kappa_r^2 - k_z^2) * E == 0\n",
    "# получая таким образом выражения для электрического поля в вакуума внутри резонатора и внутри проводящего металла с потерями\n",
    "print(\"de_inner_vacuum =\")\n",
    "display(Math(latex(de_inner_vacuum_l)))\n",
    "display(Math(latex(de_inner_vacuum_r)))"
   ]
  },
  {
   "cell_type": "code",
   "execution_count": 7,
   "metadata": {},
   "outputs": [
    {
     "name": "stdout",
     "output_type": "stream",
     "text": [
      "E_inner_vacuum =\n"
     ]
    },
    {
     "data": {
      "text/latex": [
       "$\\displaystyle K_{1} e^{\\left(i \\, \\sqrt{-k_{z}^{2} + \\kappa_{l}^{2}} x\\right)} + K_{2} e^{\\left(-i \\, \\sqrt{-k_{z}^{2} + \\kappa_{l}^{2}} x\\right)}$"
      ],
      "text/plain": [
       "<IPython.core.display.Math object>"
      ]
     },
     "metadata": {},
     "output_type": "display_data"
    },
    {
     "data": {
      "text/latex": [
       "$\\displaystyle K_{1} e^{\\left(i \\, \\sqrt{-k_{z}^{2} + \\kappa_{r}^{2}} x\\right)} + K_{2} e^{\\left(-i \\, \\sqrt{-k_{z}^{2} + \\kappa_{r}^{2}} x\\right)}$"
      ],
      "text/plain": [
       "<IPython.core.display.Math object>"
      ]
     },
     "metadata": {},
     "output_type": "display_data"
    }
   ],
   "source": [
    "assume(k_z^2-kappa_l^2 > 0)\n",
    "assume(k_z^2-kappa_r^2 > 0)\n",
    "\n",
    "E_inner_vacuum_l = desolve(de_inner_vacuum_l, E, ivar = x)\n",
    "E_inner_vacuum_r = desolve(de_inner_vacuum_r, E, ivar = x)\n",
    "#E_inner_vacuum = desolve(de_inner_vacuum, E, ivar = [x, y], contrib_ode = True)\n",
    "\n",
    "# получая таким образом выражения для электрического поля в вакуума внутри резонатора и внутри проводящего металла с потерями\n",
    "print(\"E_inner_vacuum =\")\n",
    "display(Math(latex(E_inner_vacuum_l)))\n",
    "display(Math(latex(E_inner_vacuum_r)))"
   ]
  },
  {
   "cell_type": "code",
   "execution_count": null,
   "metadata": {},
   "outputs": [],
   "source": []
  },
  {
   "cell_type": "code",
   "execution_count": 8,
   "metadata": {},
   "outputs": [],
   "source": [
    "B1_xl = var ('B1_xl')\n",
    "B2_xl = var ('B2_xl')\n",
    "\n",
    "B1_xr = var ('B1_xr')\n",
    "B2_xr = var ('B2_xr')\n",
    "\n",
    "\n",
    "A1_x = var ('A1_x')\n",
    "A2_x = var ('A2_x')\n",
    "\n",
    "\n",
    "B1_yl = var ('B1_yl')\n",
    "B2_yl = var ('B2_yl')\n",
    "\n",
    "B1_yr = var ('B1_yr')\n",
    "B2_yr = var ('B2_yr')\n",
    "\n",
    "A1_y = var ('A1_y')\n",
    "A2_y = var ('A2_y')\n",
    "\n",
    "\n",
    "B1_zl = var ('B1_zl')\n",
    "B2_zl = var ('B2_zl')\n",
    "\n",
    "B1_zr = var ('B1_zr')\n",
    "B2_zr = var ('B2_zr')\n",
    "\n",
    "A1_z = var ('A1_z')\n",
    "A2_z = var ('A2_z')\n",
    "\n",
    "A1_x_re, A1_y_re, A1_z_re = var(\"A1_x_re, A1_y_re, A1_z_re\")\n",
    "A1_x_im, A1_y_im, A1_z_im = var(\"A1_x_im, A1_y_im, A1_z_im\")\n",
    "\n",
    "A2_x_re, A2_y_re, A2_z_re = var(\"A2_x_re, A2_y_re, A2_z_re\")\n",
    "A2_x_im, A2_y_im, A2_z_im = var(\"A2_x_im, A2_y_im, A2_z_im\")\n",
    "\n",
    "B1_xl_re, B1_yl_re, B1_zl_re = var(\"B1_xl_re, B1_yl_re, B1_zl_re\")\n",
    "B1_xl_im, B1_yl_im, B1_zl_im = var(\"B1_xl_im, B1_yl_im, B1_zl_im\")\n",
    "\n",
    "B1_xr_re, B1_yr_re, B1_zr_re = var(\"B1_xr_re, B1_yr_re, B1_zr_re\")\n",
    "B1_xr_im, B1_yr_im, B1_zr_im = var(\"B1_xr_im, B1_yr_im, B1_zr_im\")\n",
    "\n",
    "\n",
    "assume(A1_x_re, \"real\")\n",
    "assume(A1_x_im, \"real\")\n",
    "\n",
    "assume(A2_x_re, \"real\")\n",
    "assume(A2_x_im, \"real\")\n",
    "\n",
    "assume(A1_y_re, \"real\")\n",
    "assume(A1_y_im, \"real\")\n",
    "\n",
    "assume(A2_y_re, \"real\")\n",
    "assume(A2_y_im, \"real\")\n",
    "\n",
    "assume(A1_z_re, \"real\")\n",
    "assume(A1_z_im, \"real\")\n",
    "\n",
    "assume(A2_z_re, \"real\")\n",
    "assume(A2_z_im, \"real\")\n",
    "\n",
    "\n",
    "assume(B1_xl_re, \"real\")\n",
    "assume(B1_xl_im, \"real\")\n",
    "\n",
    "assume(B1_xr_re, \"real\")\n",
    "assume(B1_xr_im, \"real\")\n",
    "\n",
    "assume(B1_yl_re, \"real\")\n",
    "assume(B1_yl_im, \"real\")\n",
    "\n",
    "assume(B1_yr_re, \"real\")\n",
    "assume(B1_yr_im, \"real\")\n",
    "\n",
    "assume(B1_zl_re, \"real\")\n",
    "assume(B1_zl_im, \"real\")\n",
    "\n",
    "assume(B1_zr_re, \"real\")\n",
    "assume(B1_zr_im, \"real\")"
   ]
  },
  {
   "cell_type": "code",
   "execution_count": 9,
   "metadata": {},
   "outputs": [],
   "source": [
    "A1_x_re_im_subs = A1_x == A1_x_re + I * A1_x_im\n",
    "A2_x_re_im_subs = A2_x == A2_x_re + I * A2_x_im\n",
    "\n",
    "A1_y_re_im_subs = A1_y == A1_y_re + I * A1_y_im\n",
    "A2_y_re_im_subs = A2_y == A2_y_re + I * A2_y_im\n",
    "\n",
    "A1_z_re_im_subs = A1_z == A1_z_re + I * A1_z_im\n",
    "A2_z_re_im_subs = A2_z == A2_z_re + I * A2_z_im\n",
    "\n",
    "B1_xl_re_im_subs = B1_xl == B1_xl_re + I * B1_xl_im\n",
    "B1_yl_re_im_subs = B1_yl == B1_yl_re + I * B1_yl_im\n",
    "B1_zl_re_im_subs = B1_zl == B1_zl_re + I * B1_zl_im\n",
    "\n",
    "B1_xr_re_im_subs = B1_xr == B1_xr_re + I * B1_xr_im\n",
    "B1_yr_re_im_subs = B1_yr == B1_yr_re + I * B1_yr_im\n",
    "B1_zr_re_im_subs = B1_zr == B1_zr_re + I * B1_zr_im"
   ]
  },
  {
   "cell_type": "code",
   "execution_count": 10,
   "metadata": {},
   "outputs": [],
   "source": [
    "# 2D\n",
    "# отсутсвие изменения поля вдоль оси y\n",
    "set_Ey_0 = False"
   ]
  },
  {
   "cell_type": "code",
   "execution_count": 11,
   "metadata": {},
   "outputs": [],
   "source": [
    "if set_Ey_0:\n",
    "    B1_yl = 0\n",
    "    B2_yl = 0\n",
    "    B1_yr = 0\n",
    "    B2_yr = 0\n",
    "\n",
    "    A1_y = 0\n",
    "    A2_y = 0\n",
    "\n",
    "    ky   = 0"
   ]
  },
  {
   "cell_type": "code",
   "execution_count": 12,
   "metadata": {},
   "outputs": [],
   "source": [
    "# K_vacuum = sqrt(kappa_vacuum^2-k_z^2)\n",
    "# K_conductor = sqrt(kappa^2-k_z^2)\n",
    "\n",
    "K_vacuum    = var(\"K_vacuum\")\n",
    "K_left_conductor = var(\"K_left_conductor\")\n",
    "K_right_conductor_r = var(\"K_right_conductor\")"
   ]
  },
  {
   "cell_type": "code",
   "execution_count": 13,
   "metadata": {},
   "outputs": [
    {
     "name": "stdout",
     "output_type": "stream",
     "text": [
      "E_inner_vacuum_sol_z (x) \n"
     ]
    },
    {
     "data": {
      "text/latex": [
       "$\\displaystyle \\mathit{A2}_{z} e^{\\left(i \\, K_{\\mathit{vacuum}} x\\right)} + \\mathit{A1}_{z} e^{\\left(-i \\, K_{\\mathit{vacuum}} x\\right)}$"
      ],
      "text/plain": [
       "<IPython.core.display.Math object>"
      ]
     },
     "metadata": {},
     "output_type": "display_data"
    },
    {
     "name": "stdout",
     "output_type": "stream",
     "text": [
      "E_inner_vacuum_sol_x (x) =\n"
     ]
    },
    {
     "data": {
      "text/latex": [
       "$\\displaystyle \\mathit{A2}_{x} e^{\\left(i \\, K_{\\mathit{vacuum}} x\\right)} + \\mathit{A1}_{x} e^{\\left(-i \\, K_{\\mathit{vacuum}} x\\right)}$"
      ],
      "text/plain": [
       "<IPython.core.display.Math object>"
      ]
     },
     "metadata": {},
     "output_type": "display_data"
    },
    {
     "name": "stdout",
     "output_type": "stream",
     "text": [
      "E_inner_vacuum_sol_y (x) =\n"
     ]
    },
    {
     "data": {
      "text/latex": [
       "$\\displaystyle \\mathit{A2}_{y} e^{\\left(i \\, K_{\\mathit{vacuum}} x\\right)} + \\mathit{A1}_{y} e^{\\left(-i \\, K_{\\mathit{vacuum}} x\\right)}$"
      ],
      "text/plain": [
       "<IPython.core.display.Math object>"
      ]
     },
     "metadata": {},
     "output_type": "display_data"
    }
   ],
   "source": [
    "# выражения для электрического поля\n",
    "# в вакууме внутри резонатора\n",
    "\n",
    "# знак перед корнем (K_vacuum) будем выбирать всегда так чтобы корень имел положительную мнимую часть\n",
    "E_inner_vacuum_sol_z (x) = A1_z*exp(- I * K_vacuum*x) + A2_z*exp( I * K_vacuum*x)\n",
    "E_inner_vacuum_sol_x (x) = A1_x*exp(- I * K_vacuum*x) + A2_x*exp( I * K_vacuum*x)\n",
    "E_inner_vacuum_sol_y (x) = A1_y*exp(- I * K_vacuum*x) + A2_y*exp( I * K_vacuum*x)\n",
    "\n",
    "E_inner_vacuum_z = function(\"E_inner_vacuum_z\")\n",
    "E_inner_vacuum_x = function(\"E_inner_vacuum_x\")\n",
    "E_inner_vacuum_y = function(\"E_inner_vacuum_y\")\n",
    "\n",
    "\n",
    "\n",
    "print (\"E_inner_vacuum_sol_z (x) \")\n",
    "display(Math(latex(E_inner_vacuum_sol_z (x))))\n",
    "print (\"E_inner_vacuum_sol_x (x) =\")\n",
    "display(Math(latex(E_inner_vacuum_sol_x (x))))\n",
    "print (\"E_inner_vacuum_sol_y (x) =\")\n",
    "display(Math(latex(E_inner_vacuum_sol_y (x))))"
   ]
  },
  {
   "cell_type": "markdown",
   "metadata": {},
   "source": [
    "решение для проводящего металла с потерями\n",
    "\n",
    "$\\vec{E} = \\vec{E}\\,e^{i\\,k_x'\\,x}\\,e^{i\\,k_z\\,z}\\,e^{-i\\,\\omega\\,t}$\n",
    "\n",
    "$k_x' = k_x + i\\,s_x$\n",
    "\n",
    "$\\vec{E} = \\vec{E}\\,e^{-s_x\\,x}\\,e^{i\\,k_x\\,x}\\,e^{i\\,k_z\\,z}\\,e^{-i\\,\\omega\\,t}$"
   ]
  },
  {
   "cell_type": "code",
   "execution_count": 14,
   "metadata": {},
   "outputs": [
    {
     "name": "stdout",
     "output_type": "stream",
     "text": [
      "E_left_conductor_sol_z (x) \n"
     ]
    },
    {
     "data": {
      "text/latex": [
       "$\\displaystyle \\mathit{B1}_{\\mathit{zl}} e^{\\left(-i \\, K_{\\mathit{left}_{\\mathit{conductor}}} x\\right)}$"
      ],
      "text/plain": [
       "<IPython.core.display.Math object>"
      ]
     },
     "metadata": {},
     "output_type": "display_data"
    },
    {
     "name": "stdout",
     "output_type": "stream",
     "text": [
      "E_left_conductor_sol_x (x) =\n"
     ]
    },
    {
     "data": {
      "text/latex": [
       "$\\displaystyle \\mathit{B1}_{\\mathit{xl}} e^{\\left(-i \\, K_{\\mathit{left}_{\\mathit{conductor}}} x\\right)}$"
      ],
      "text/plain": [
       "<IPython.core.display.Math object>"
      ]
     },
     "metadata": {},
     "output_type": "display_data"
    },
    {
     "name": "stdout",
     "output_type": "stream",
     "text": [
      "E_left_conductor_sol_y (x) =\n"
     ]
    },
    {
     "data": {
      "text/latex": [
       "$\\displaystyle \\mathit{B1}_{\\mathit{yl}} e^{\\left(-i \\, K_{\\mathit{left}_{\\mathit{conductor}}} x\\right)}$"
      ],
      "text/plain": [
       "<IPython.core.display.Math object>"
      ]
     },
     "metadata": {},
     "output_type": "display_data"
    }
   ],
   "source": [
    "# x > a-{k'_x}^{2}-{k'_y}^{2} +\n",
    "# в проводящем металле с потерями\n",
    "\n",
    "# знак перед корнем будем выбирать всегда так чтобы корень имел положительную мнимую часть\n",
    "E_left_conductor_sol_z (x) = B1_zl*exp(-I * K_left_conductor*x)\n",
    "E_left_conductor_sol_x (x) = B1_xl*exp(-I * K_left_conductor*x)\n",
    "E_left_conductor_sol_y (x) = B1_yl*exp(-I * K_left_conductor*x)\n",
    "\n",
    "E_left_conductor_z = function(\"E_left_conductor_z\")\n",
    "E_left_conductor_x = function(\"E_left_conductor_x\")\n",
    "E_left_conductor_y = function(\"E_left_conductor_y\")\n",
    "\n",
    "\n",
    "print (\"E_left_conductor_sol_z (x) \")\n",
    "display(Math(latex(E_left_conductor_sol_z (x))))\n",
    "print (\"E_left_conductor_sol_x (x) =\")\n",
    "display(Math(latex(E_left_conductor_sol_x (x))))\n",
    "print (\"E_left_conductor_sol_y (x) =\")\n",
    "display(Math(latex(E_left_conductor_sol_y (x))))"
   ]
  },
  {
   "cell_type": "code",
   "execution_count": 15,
   "metadata": {},
   "outputs": [
    {
     "name": "stdout",
     "output_type": "stream",
     "text": [
      "E_right_conductor_sol_z (x) \n"
     ]
    },
    {
     "data": {
      "text/latex": [
       "$\\displaystyle \\mathit{B1}_{\\mathit{zr}} e^{\\left(i \\, K_{\\mathit{right}_{\\mathit{conductor}}} x\\right)}$"
      ],
      "text/plain": [
       "<IPython.core.display.Math object>"
      ]
     },
     "metadata": {},
     "output_type": "display_data"
    },
    {
     "name": "stdout",
     "output_type": "stream",
     "text": [
      "E_right_conductor_sol_x (x) =\n"
     ]
    },
    {
     "data": {
      "text/latex": [
       "$\\displaystyle \\mathit{B1}_{\\mathit{xr}} e^{\\left(i \\, K_{\\mathit{right}_{\\mathit{conductor}}} x\\right)}$"
      ],
      "text/plain": [
       "<IPython.core.display.Math object>"
      ]
     },
     "metadata": {},
     "output_type": "display_data"
    },
    {
     "name": "stdout",
     "output_type": "stream",
     "text": [
      "E_right_conductor_sol_y (x) =\n"
     ]
    },
    {
     "data": {
      "text/latex": [
       "$\\displaystyle \\mathit{B1}_{\\mathit{yr}} e^{\\left(i \\, K_{\\mathit{right}_{\\mathit{conductor}}} x\\right)}$"
      ],
      "text/plain": [
       "<IPython.core.display.Math object>"
      ]
     },
     "metadata": {},
     "output_type": "display_data"
    }
   ],
   "source": [
    "# x > a-{k'_x}^{2}-{k'_y}^{2} +\n",
    "# в проводящем металле с потерями\n",
    "\n",
    "# знак перед корнем будем выбирать всегда так чтобы корень имел положительную мнимую часть\n",
    "E_right_conductor_sol_z (x) = B1_zr*exp(I * K_right_conductor*x)\n",
    "E_right_conductor_sol_x (x) = B1_xr*exp(I * K_right_conductor*x)\n",
    "E_right_conductor_sol_y (x) = B1_yr*exp(I * K_right_conductor*x)\n",
    "\n",
    "E_right_conductor_z = function(\"E_right_conductor_z\")\n",
    "E_right_conductor_x = function(\"E_right_conductor_x\")\n",
    "E_right_conductor_y = function(\"E_right_conductor_y\")\n",
    "\n",
    "\n",
    "print (\"E_right_conductor_sol_z (x) \")\n",
    "display(Math(latex(E_right_conductor_sol_z (x))))\n",
    "print (\"E_right_conductor_sol_x (x) =\")\n",
    "display(Math(latex(E_right_conductor_sol_x (x))))\n",
    "print (\"E_right_conductor_sol_y (x) =\")\n",
    "display(Math(latex(E_right_conductor_sol_y (x))))"
   ]
  },
  {
   "cell_type": "code",
   "execution_count": 16,
   "metadata": {},
   "outputs": [
    {
     "name": "stdout",
     "output_type": "stream",
     "text": [
      "H_inner_vacuum_s_y \n"
     ]
    },
    {
     "data": {
      "text/latex": [
       "$\\displaystyle x \\ {\\mapsto}\\ -\\frac{i \\, {\\left(i \\, k_{z} E_{{\\rm inner}_{{\\rm vacuum}_{x}}}\\left(x\\right) - \\frac{\\partial}{\\partial x}E_{{\\rm inner}_{{\\rm vacuum}_{z}}}\\left(x\\right)\\right)} c}{\\omega}$"
      ],
      "text/plain": [
       "<IPython.core.display.Math object>"
      ]
     },
     "metadata": {},
     "output_type": "display_data"
    },
    {
     "name": "stdout",
     "output_type": "stream",
     "text": [
      "H_left_conductor_s_y =\n"
     ]
    },
    {
     "data": {
      "text/latex": [
       "$\\displaystyle x \\ {\\mapsto}\\ -\\frac{i \\, {\\left(i \\, k_{z} E_{{\\rm left}_{{\\rm conductor}_{x}}}\\left(x\\right) - \\frac{\\partial}{\\partial x}E_{{\\rm left}_{{\\rm conductor}_{z}}}\\left(x\\right)\\right)} c}{\\mu_{l} \\omega}$"
      ],
      "text/plain": [
       "<IPython.core.display.Math object>"
      ]
     },
     "metadata": {},
     "output_type": "display_data"
    },
    {
     "name": "stdout",
     "output_type": "stream",
     "text": [
      "H_right_conductor_s_y =\n"
     ]
    },
    {
     "data": {
      "text/latex": [
       "$\\displaystyle x \\ {\\mapsto}\\ -\\frac{i \\, {\\left(i \\, k_{z} E_{{\\rm right}_{{\\rm conductor}_{x}}}\\left(x\\right) - \\frac{\\partial}{\\partial x}E_{{\\rm right}_{{\\rm conductor}_{z}}}\\left(x\\right)\\right)} c}{\\mu_{r} \\omega}$"
      ],
      "text/plain": [
       "<IPython.core.display.Math object>"
      ]
     },
     "metadata": {},
     "output_type": "display_data"
    },
    {
     "name": "stdout",
     "output_type": "stream",
     "text": [
      "H_inner_vacuum_sol_y (x) \n"
     ]
    },
    {
     "data": {
      "text/latex": [
       "$\\displaystyle -\\frac{i \\, {\\left(-i \\, \\mathit{A2}_{z} K_{\\mathit{vacuum}} e^{\\left(i \\, K_{\\mathit{vacuum}} x\\right)} + i \\, \\mathit{A1}_{z} K_{\\mathit{vacuum}} e^{\\left(-i \\, K_{\\mathit{vacuum}} x\\right)} + i \\, {\\left(\\mathit{A2}_{x} e^{\\left(i \\, K_{\\mathit{vacuum}} x\\right)} + \\mathit{A1}_{x} e^{\\left(-i \\, K_{\\mathit{vacuum}} x\\right)}\\right)} k_{z}\\right)} c}{\\omega}$"
      ],
      "text/plain": [
       "<IPython.core.display.Math object>"
      ]
     },
     "metadata": {},
     "output_type": "display_data"
    },
    {
     "name": "stdout",
     "output_type": "stream",
     "text": [
      "H_left_conductor_sol_y (x) =\n"
     ]
    },
    {
     "data": {
      "text/latex": [
       "$\\displaystyle -\\frac{i \\, {\\left(i \\, \\mathit{B1}_{\\mathit{zl}} K_{\\mathit{left}_{\\mathit{conductor}}} e^{\\left(-i \\, K_{\\mathit{left}_{\\mathit{conductor}}} x\\right)} + i \\, \\mathit{B1}_{\\mathit{xl}} k_{z} e^{\\left(-i \\, K_{\\mathit{left}_{\\mathit{conductor}}} x\\right)}\\right)} c}{\\mu_{l} \\omega}$"
      ],
      "text/plain": [
       "<IPython.core.display.Math object>"
      ]
     },
     "metadata": {},
     "output_type": "display_data"
    },
    {
     "name": "stdout",
     "output_type": "stream",
     "text": [
      "H_right_conductor_sol_y (x) =\n"
     ]
    },
    {
     "data": {
      "text/latex": [
       "$\\displaystyle -\\frac{i \\, {\\left(-i \\, \\mathit{B1}_{\\mathit{zr}} K_{\\mathit{right}_{\\mathit{conductor}}} e^{\\left(i \\, K_{\\mathit{right}_{\\mathit{conductor}}} x\\right)} + i \\, \\mathit{B1}_{\\mathit{xr}} k_{z} e^{\\left(i \\, K_{\\mathit{right}_{\\mathit{conductor}}} x\\right)}\\right)} c}{\\mu_{r} \\omega}$"
      ],
      "text/plain": [
       "<IPython.core.display.Math object>"
      ]
     },
     "metadata": {},
     "output_type": "display_data"
    }
   ],
   "source": [
    "# выражения для магнитного поля в вакууме внутри резонатора и в проводящем металле с потерями\n",
    "# rot E = -1/c dB/dt\n",
    "# H_y = c / (I * omega * mu) * (diff(E_x, z) - diff(E_z, x))\n",
    "\n",
    "# H_inner_vacuum_y  (x) = c / (I * omega)      * (I*k_z*E_inner_vacuum_x  (x) - diff(E_inner_vacuum_z  (x), x))\n",
    "# H_bad_conductor_y (x) = c / (I * omega * mu) * (I*k_z*E_bad_conductor_x (x) - diff(E_bad_conductor_z (x), x))\n",
    "\n",
    "H_inner_vacuum_y    = c/(I*omega)     *(I*k_z*E_inner_vacuum_x (x)   - diff(E_inner_vacuum_z (x), x))\n",
    "H_left_conductor_y  = c/(I*omega*mu_l)*(I*k_z*E_left_conductor_x(x)  - diff(E_left_conductor_z(x), x))\n",
    "H_right_conductor_y = c/(I*omega*mu_r)*(I*k_z*E_right_conductor_x(x) - diff(E_right_conductor_z(x), x))\n",
    "\n",
    "H_inner_vacuum_f_y    = function(\"H_inner_vacuum_f_y\")\n",
    "H_left_conductor_f_y  = function(\"H_left_conductor_f_y\")\n",
    "H_right_conductor_f_y = function(\"H_right_conductor_f_y\")\n",
    "\n",
    "H_inner_vacuum_y    = var(\"H_inner_vacuum_y\")\n",
    "H_left_conductor_y  = var(\"H_left_conductor_y\")\n",
    "H_right_conductor_y = var(\"H_right_conductor_y\")\n",
    "\n",
    "H_inner_vacuum_s_y  (x)   = c/(I*omega)     *(I*k_z*E_inner_vacuum_x (x) - diff(E_inner_vacuum_z (x), x))\n",
    "H_left_conductor_s_y (x)  = c/(I*omega*mu_l)*(I*k_z*E_left_conductor_x(x) - diff(E_left_conductor_z(x), x))\n",
    "H_right_conductor_s_y (x) = c/(I*omega*mu_r)*(I*k_z*E_right_conductor_x(x) - diff(E_right_conductor_z(x), x))\n",
    "\n",
    "H_inner_vacuum_sol_y  (x)   = c/(I*omega)     *(I*k_z*E_inner_vacuum_sol_x (x) - diff(E_inner_vacuum_sol_z (x), x))\n",
    "H_left_conductor_sol_y (x)  = c/(I*omega*mu_l)*(I*k_z*E_left_conductor_sol_x(x) - diff(E_left_conductor_sol_z(x), x))\n",
    "H_right_conductor_sol_y (x) = c/(I*omega*mu_r)*(I*k_z*E_right_conductor_sol_x(x) - diff(E_right_conductor_sol_z(x), x))\n",
    "\n",
    "print (\"H_inner_vacuum_s_y \")\n",
    "display(Math(latex(H_inner_vacuum_s_y.simplify())))\n",
    "print (\"H_left_conductor_s_y =\")\n",
    "display(Math(latex(H_left_conductor_s_y)))\n",
    "print (\"H_right_conductor_s_y =\")\n",
    "display(Math(latex(H_right_conductor_s_y)))\n",
    "\n",
    "print (\"H_inner_vacuum_sol_y (x) \")\n",
    "display(Math(latex(H_inner_vacuum_sol_y (x).simplify())))\n",
    "print (\"H_left_conductor_sol_y (x) =\")\n",
    "display(Math(latex(H_left_conductor_sol_y (x))))\n",
    "print (\"H_right_conductor_sol_y (x) =\")\n",
    "display(Math(latex(H_right_conductor_sol_y (x))))"
   ]
  },
  {
   "cell_type": "code",
   "execution_count": 17,
   "metadata": {},
   "outputs": [
    {
     "name": "stdout",
     "output_type": "stream",
     "text": [
      "H_inner_vacuum_s_x \n"
     ]
    },
    {
     "data": {
      "text/latex": [
       "$\\displaystyle x \\ {\\mapsto}\\ -\\frac{i \\, {\\left(-i \\, k_{z} E_{{\\rm inner}_{{\\rm vacuum}_{y}}}\\left(x\\right) + i \\, k_{y} E_{{\\rm inner}_{{\\rm vacuum}_{z}}}\\left(x\\right)\\right)} c}{\\omega}$"
      ],
      "text/plain": [
       "<IPython.core.display.Math object>"
      ]
     },
     "metadata": {},
     "output_type": "display_data"
    },
    {
     "name": "stdout",
     "output_type": "stream",
     "text": [
      "H_left_conductor_s_x (x) =\n"
     ]
    },
    {
     "data": {
      "text/latex": [
       "$\\displaystyle x \\ {\\mapsto}\\ -\\frac{i \\, {\\left(-i \\, k_{z} E_{{\\rm left}_{{\\rm conductor}_{y}}}\\left(x\\right) + i \\, k_{y} E_{{\\rm left}_{{\\rm conductor}_{z}}}\\left(x\\right)\\right)} c}{\\mu_{l} \\omega}$"
      ],
      "text/plain": [
       "<IPython.core.display.Math object>"
      ]
     },
     "metadata": {},
     "output_type": "display_data"
    },
    {
     "name": "stdout",
     "output_type": "stream",
     "text": [
      "H_right_conductor_s_x (x) =\n"
     ]
    },
    {
     "data": {
      "text/latex": [
       "$\\displaystyle x \\ {\\mapsto}\\ -\\frac{i \\, {\\left(-i \\, k_{z} E_{{\\rm right}_{{\\rm conductor}_{y}}}\\left(x\\right) + i \\, k_{y} E_{{\\rm right}_{{\\rm conductor}_{z}}}\\left(x\\right)\\right)} c}{\\mu_{r} \\omega}$"
      ],
      "text/plain": [
       "<IPython.core.display.Math object>"
      ]
     },
     "metadata": {},
     "output_type": "display_data"
    },
    {
     "name": "stdout",
     "output_type": "stream",
     "text": [
      "H_inner_vacuum_sol_x (x) \n"
     ]
    },
    {
     "data": {
      "text/latex": [
       "$\\displaystyle -\\frac{i \\, {\\left(i \\, {\\left(\\mathit{A2}_{z} e^{\\left(i \\, K_{\\mathit{vacuum}} x\\right)} + \\mathit{A1}_{z} e^{\\left(-i \\, K_{\\mathit{vacuum}} x\\right)}\\right)} k_{y} - i \\, {\\left(\\mathit{A2}_{y} e^{\\left(i \\, K_{\\mathit{vacuum}} x\\right)} + \\mathit{A1}_{y} e^{\\left(-i \\, K_{\\mathit{vacuum}} x\\right)}\\right)} k_{z}\\right)} c}{\\omega}$"
      ],
      "text/plain": [
       "<IPython.core.display.Math object>"
      ]
     },
     "metadata": {},
     "output_type": "display_data"
    },
    {
     "name": "stdout",
     "output_type": "stream",
     "text": [
      "H_left_conductor_sol_x (x) =\n"
     ]
    },
    {
     "data": {
      "text/latex": [
       "$\\displaystyle -\\frac{i \\, {\\left(i \\, \\mathit{B1}_{\\mathit{zl}} k_{y} e^{\\left(-i \\, K_{\\mathit{left}_{\\mathit{conductor}}} x\\right)} - i \\, \\mathit{B1}_{\\mathit{yl}} k_{z} e^{\\left(-i \\, K_{\\mathit{left}_{\\mathit{conductor}}} x\\right)}\\right)} c}{\\mu_{l} \\omega}$"
      ],
      "text/plain": [
       "<IPython.core.display.Math object>"
      ]
     },
     "metadata": {},
     "output_type": "display_data"
    },
    {
     "name": "stdout",
     "output_type": "stream",
     "text": [
      "H_right_conductor_sol_x (x) =\n"
     ]
    },
    {
     "data": {
      "text/latex": [
       "$\\displaystyle -\\frac{i \\, {\\left(i \\, \\mathit{B1}_{\\mathit{zr}} k_{y} e^{\\left(i \\, K_{\\mathit{right}_{\\mathit{conductor}}} x\\right)} - i \\, \\mathit{B1}_{\\mathit{yr}} k_{z} e^{\\left(i \\, K_{\\mathit{right}_{\\mathit{conductor}}} x\\right)}\\right)} c}{\\mu_{r} \\omega}$"
      ],
      "text/plain": [
       "<IPython.core.display.Math object>"
      ]
     },
     "metadata": {},
     "output_type": "display_data"
    }
   ],
   "source": [
    "# выражения для магнитного поля в вакууме внутри резонатора и в проводящем металле с потерями\n",
    "# rot E = -1/c dB/dt\n",
    "# H_x = c / (I * omega * mu) * (diff(E_z, y) - diff(E_y, z))\n",
    "\n",
    "H_inner_vacuum_f_x  = function(\"H_inner_vacuum_f_x\")\n",
    "H_left_conductor_f_x = function(\"H_left_conductor_f_x\")\n",
    "H_right_conductor_f_x = function(\"H_right_conductor_f_x\")\n",
    "\n",
    "H_inner_vacuum_x    = var(\"H_inner_vacuum_x\")\n",
    "H_left_conductor_x  = var(\"H_left_conductor_x\")\n",
    "H_right_conductor_x = var(\"H_right_conductor_x\")\n",
    "\n",
    "H_inner_vacuum_s_x(x)    = c/(I*omega)   *(I*k_y*E_inner_vacuum_z (x) - I*k_z*E_inner_vacuum_y (x))\n",
    "H_left_conductor_s_x(x)  = c/(I*omega*mu_l)*(I*k_y*E_left_conductor_z(x) - I*k_z*E_left_conductor_y(x))\n",
    "H_right_conductor_s_x(x) = c/(I*omega*mu_r)*(I*k_y*E_right_conductor_z(x) - I*k_z*E_right_conductor_y(x))\n",
    "\n",
    "H_inner_vacuum_sol_x (x)   = c/(I*omega)   *(I*k_y*E_inner_vacuum_sol_z (x) - I*k_z*E_inner_vacuum_sol_y (x))\n",
    "H_left_conductor_sol_x(x)  = c/(I*omega*mu_l)*(I*k_y*E_left_conductor_sol_z(x) - I*k_z*E_left_conductor_sol_y(x))\n",
    "H_right_conductor_sol_x(x) = c/(I*omega*mu_r)*(I*k_y*E_right_conductor_sol_z(x) - I*k_z*E_right_conductor_sol_y(x))\n",
    "\n",
    "print (\"H_inner_vacuum_s_x \")\n",
    "display(Math(latex(H_inner_vacuum_s_x.simplify())))\n",
    "print (\"H_left_conductor_s_x (x) =\")\n",
    "display(Math(latex(H_left_conductor_s_x)))\n",
    "print (\"H_right_conductor_s_x (x) =\")\n",
    "display(Math(latex(H_right_conductor_s_x)))\n",
    "\n",
    "print (\"H_inner_vacuum_sol_x (x) \")\n",
    "display(Math(latex(H_inner_vacuum_sol_x (x).simplify())))\n",
    "print (\"H_left_conductor_sol_x (x) =\")\n",
    "display(Math(latex(H_left_conductor_sol_x (x))))\n",
    "print (\"H_right_conductor_sol_x (x) =\")\n",
    "display(Math(latex(H_right_conductor_sol_x (x))))"
   ]
  },
  {
   "cell_type": "code",
   "execution_count": 18,
   "metadata": {},
   "outputs": [
    {
     "name": "stdout",
     "output_type": "stream",
     "text": [
      "H_inner_vacuum_s_z \n"
     ]
    },
    {
     "data": {
      "text/latex": [
       "$\\displaystyle x \\ {\\mapsto}\\ -\\frac{i \\, {\\left(-i \\, k_{y} E_{{\\rm inner}_{{\\rm vacuum}_{x}}}\\left(x\\right) + \\frac{\\partial}{\\partial x}E_{{\\rm inner}_{{\\rm vacuum}_{y}}}\\left(x\\right)\\right)} c}{\\omega}$"
      ],
      "text/plain": [
       "<IPython.core.display.Math object>"
      ]
     },
     "metadata": {},
     "output_type": "display_data"
    },
    {
     "name": "stdout",
     "output_type": "stream",
     "text": [
      "H_left_conductor_s_z =\n"
     ]
    },
    {
     "data": {
      "text/latex": [
       "$\\displaystyle x \\ {\\mapsto}\\ -\\frac{i \\, {\\left(-i \\, k_{y} E_{{\\rm left}_{{\\rm conductor}_{x}}}\\left(x\\right) + \\frac{\\partial}{\\partial x}E_{{\\rm left}_{{\\rm conductor}_{y}}}\\left(x\\right)\\right)} c}{\\mu_{l} \\omega}$"
      ],
      "text/plain": [
       "<IPython.core.display.Math object>"
      ]
     },
     "metadata": {},
     "output_type": "display_data"
    },
    {
     "name": "stdout",
     "output_type": "stream",
     "text": [
      "H_right_conductor_s_z =\n"
     ]
    },
    {
     "data": {
      "text/latex": [
       "$\\displaystyle x \\ {\\mapsto}\\ -\\frac{i \\, {\\left(-i \\, k_{y} E_{{\\rm right}_{{\\rm conductor}_{x}}}\\left(x\\right) + \\frac{\\partial}{\\partial x}E_{{\\rm right}_{{\\rm conductor}_{y}}}\\left(x\\right)\\right)} c}{\\mu_{r} \\omega}$"
      ],
      "text/plain": [
       "<IPython.core.display.Math object>"
      ]
     },
     "metadata": {},
     "output_type": "display_data"
    },
    {
     "name": "stdout",
     "output_type": "stream",
     "text": [
      "H_inner_vacuum_sol_z (x) \n"
     ]
    },
    {
     "data": {
      "text/latex": [
       "$\\displaystyle -\\frac{i \\, {\\left(i \\, \\mathit{A2}_{y} K_{\\mathit{vacuum}} e^{\\left(i \\, K_{\\mathit{vacuum}} x\\right)} - i \\, \\mathit{A1}_{y} K_{\\mathit{vacuum}} e^{\\left(-i \\, K_{\\mathit{vacuum}} x\\right)} - i \\, {\\left(\\mathit{A2}_{x} e^{\\left(i \\, K_{\\mathit{vacuum}} x\\right)} + \\mathit{A1}_{x} e^{\\left(-i \\, K_{\\mathit{vacuum}} x\\right)}\\right)} k_{y}\\right)} c}{\\omega}$"
      ],
      "text/plain": [
       "<IPython.core.display.Math object>"
      ]
     },
     "metadata": {},
     "output_type": "display_data"
    },
    {
     "name": "stdout",
     "output_type": "stream",
     "text": [
      "H_left_conductor_sol_z (x) =\n"
     ]
    },
    {
     "data": {
      "text/latex": [
       "$\\displaystyle -\\frac{i \\, {\\left(-i \\, \\mathit{B1}_{\\mathit{yl}} K_{\\mathit{left}_{\\mathit{conductor}}} e^{\\left(-i \\, K_{\\mathit{left}_{\\mathit{conductor}}} x\\right)} - i \\, \\mathit{B1}_{\\mathit{xl}} k_{y} e^{\\left(-i \\, K_{\\mathit{left}_{\\mathit{conductor}}} x\\right)}\\right)} c}{\\mu_{l} \\omega}$"
      ],
      "text/plain": [
       "<IPython.core.display.Math object>"
      ]
     },
     "metadata": {},
     "output_type": "display_data"
    },
    {
     "name": "stdout",
     "output_type": "stream",
     "text": [
      "H_right_conductor_sol_z (x) =\n"
     ]
    },
    {
     "data": {
      "text/latex": [
       "$\\displaystyle -\\frac{i \\, {\\left(i \\, \\mathit{B1}_{\\mathit{yr}} K_{\\mathit{right}_{\\mathit{conductor}}} e^{\\left(i \\, K_{\\mathit{right}_{\\mathit{conductor}}} x\\right)} - i \\, \\mathit{B1}_{\\mathit{xr}} k_{y} e^{\\left(i \\, K_{\\mathit{right}_{\\mathit{conductor}}} x\\right)}\\right)} c}{\\mu_{r} \\omega}$"
      ],
      "text/plain": [
       "<IPython.core.display.Math object>"
      ]
     },
     "metadata": {},
     "output_type": "display_data"
    }
   ],
   "source": [
    "# выражения для магнитного поля в вакууме внутри резонатора и в проводящем металле с потерями\n",
    "# rot E = -1/c dB/dt\n",
    "# H_z = c / (I * omega * mu) * (diff(E_y, x) - diff(E_x, y))\n",
    "\n",
    "H_inner_vacuum_z    = c / (I*omega)   *(diff(E_inner_vacuum_y (x), x) - I*k_y*E_inner_vacuum_x (x))\n",
    "H_left_conductor_z  = c / (I*omega*mu_l)*(diff(E_left_conductor_y(x), x) - I*k_y*E_left_conductor_x(x))\n",
    "H_right_conductor_z = c / (I*omega*mu_r)*(diff(E_right_conductor_y(x), x) - I*k_y*E_right_conductor_x(x))\n",
    "\n",
    "H_inner_vacuum_f_z    = function(\"H_inner_vacuum_f_z\")\n",
    "H_left_conductor_f_z  = function(\"H_left_conductor_f_z\")\n",
    "H_right_conductor_f_z = function(\"H_right_conductor_f_z\")\n",
    "\n",
    "H_inner_vacuum_z    = var(\"H_inner_vacuum_z\")\n",
    "H_left_conductor_z  = var(\"H_left_conductor_z\")\n",
    "H_right_conductor_z = var(\"H_right_conductor_z\")\n",
    "\n",
    "H_inner_vacuum_s_z(x)    = c / (I*omega)   * (diff(E_inner_vacuum_y (x), x) - I*k_y*E_inner_vacuum_x (x))\n",
    "H_left_conductor_s_z(x)  = c / (I*omega*mu_l)*(diff(E_left_conductor_y(x), x) - I*k_y*E_left_conductor_x(x))\n",
    "H_right_conductor_s_z(x) = c / (I*omega*mu_r)*(diff(E_right_conductor_y(x), x) - I*k_y*E_right_conductor_x(x))\n",
    "\n",
    "H_inner_vacuum_sol_z  (x) = c / (I*omega)   *(diff(E_inner_vacuum_sol_y (x), x) - I*k_y*E_inner_vacuum_sol_x (x))\n",
    "H_left_conductor_sol_z (x) = c / (I*omega*mu_l)*(diff(E_left_conductor_sol_y(x), x) - I*k_y*E_left_conductor_sol_x(x))\n",
    "H_right_conductor_sol_z (x) = c / (I*omega*mu_r)*(diff(E_right_conductor_sol_y(x), x) - I*k_y*E_right_conductor_sol_x(x))\n",
    "\n",
    "print (\"H_inner_vacuum_s_z \")\n",
    "display(Math(latex(H_inner_vacuum_s_z.simplify())))\n",
    "print (\"H_left_conductor_s_z =\")\n",
    "display(Math(latex(H_left_conductor_s_z)))\n",
    "print (\"H_right_conductor_s_z =\")\n",
    "display(Math(latex(H_right_conductor_s_z)))\n",
    "\n",
    "print (\"H_inner_vacuum_sol_z (x) \")\n",
    "display(Math(latex(H_inner_vacuum_sol_z (x))))\n",
    "print (\"H_left_conductor_sol_z (x) =\")\n",
    "display(Math(latex(H_left_conductor_sol_z (x))))\n",
    "print (\"H_right_conductor_sol_z (x) =\")\n",
    "display(Math(latex(H_right_conductor_sol_z (x))))"
   ]
  },
  {
   "cell_type": "code",
   "execution_count": 19,
   "metadata": {},
   "outputs": [
    {
     "name": "stdout",
     "output_type": "stream",
     "text": [
      "rot_H_inner_vacuum_x =\n"
     ]
    },
    {
     "data": {
      "text/latex": [
       "$\\displaystyle -i \\, k_{z} H_{{\\rm inner}_{{\\rm vacuum}_{f_{y}}}}\\left(x\\right) + i \\, k_{y} H_{{\\rm inner}_{{\\rm vacuum}_{f_{z}}}}\\left(x\\right)$"
      ],
      "text/plain": [
       "<IPython.core.display.Math object>"
      ]
     },
     "metadata": {},
     "output_type": "display_data"
    },
    {
     "name": "stdout",
     "output_type": "stream",
     "text": [
      "rot_H_left_conductor_x =\n"
     ]
    },
    {
     "data": {
      "text/latex": [
       "$\\displaystyle -i \\, k_{z} H_{{\\rm left}_{{\\rm conductor}_{f_{y}}}}\\left(x\\right) + i \\, k_{y} H_{{\\rm left}_{{\\rm conductor}_{f_{z}}}}\\left(x\\right)$"
      ],
      "text/plain": [
       "<IPython.core.display.Math object>"
      ]
     },
     "metadata": {},
     "output_type": "display_data"
    },
    {
     "name": "stdout",
     "output_type": "stream",
     "text": [
      "rot_H_right_conductor_x =\n"
     ]
    },
    {
     "data": {
      "text/latex": [
       "$\\displaystyle -i \\, k_{z} H_{{\\rm right}_{{\\rm conductor}_{f_{y}}}}\\left(x\\right) + i \\, k_{y} H_{{\\rm right}_{{\\rm conductor}_{f_{z}}}}\\left(x\\right)$"
      ],
      "text/plain": [
       "<IPython.core.display.Math object>"
      ]
     },
     "metadata": {},
     "output_type": "display_data"
    },
    {
     "name": "stdout",
     "output_type": "stream",
     "text": [
      "rot_H_inner_vacuum_y =\n"
     ]
    },
    {
     "data": {
      "text/latex": [
       "$\\displaystyle i \\, k_{z} H_{{\\rm inner}_{{\\rm vacuum}_{f_{x}}}}\\left(x\\right) - \\frac{\\partial}{\\partial x}H_{{\\rm inner}_{{\\rm vacuum}_{f_{z}}}}\\left(x\\right)$"
      ],
      "text/plain": [
       "<IPython.core.display.Math object>"
      ]
     },
     "metadata": {},
     "output_type": "display_data"
    },
    {
     "name": "stdout",
     "output_type": "stream",
     "text": [
      "rot_H_left_conductor_y =\n"
     ]
    },
    {
     "data": {
      "text/latex": [
       "$\\displaystyle i \\, k_{z} H_{{\\rm left}_{{\\rm conductor}_{f_{x}}}}\\left(x\\right) - \\frac{\\partial}{\\partial x}H_{{\\rm left}_{{\\rm conductor}_{f_{z}}}}\\left(x\\right)$"
      ],
      "text/plain": [
       "<IPython.core.display.Math object>"
      ]
     },
     "metadata": {},
     "output_type": "display_data"
    },
    {
     "name": "stdout",
     "output_type": "stream",
     "text": [
      "rot_H_right_conductor_y =\n"
     ]
    },
    {
     "data": {
      "text/latex": [
       "$\\displaystyle i \\, k_{z} H_{{\\rm right}_{{\\rm conductor}_{f_{x}}}}\\left(x\\right) - \\frac{\\partial}{\\partial x}H_{{\\rm right}_{{\\rm conductor}_{f_{z}}}}\\left(x\\right)$"
      ],
      "text/plain": [
       "<IPython.core.display.Math object>"
      ]
     },
     "metadata": {},
     "output_type": "display_data"
    },
    {
     "name": "stdout",
     "output_type": "stream",
     "text": [
      "rot_H_inner_vacuum_z =\n"
     ]
    },
    {
     "data": {
      "text/latex": [
       "$\\displaystyle -i \\, k_{y} H_{{\\rm inner}_{{\\rm vacuum}_{f_{x}}}}\\left(x\\right) + \\frac{\\partial}{\\partial x}H_{{\\rm inner}_{{\\rm vacuum}_{f_{y}}}}\\left(x\\right)$"
      ],
      "text/plain": [
       "<IPython.core.display.Math object>"
      ]
     },
     "metadata": {},
     "output_type": "display_data"
    },
    {
     "name": "stdout",
     "output_type": "stream",
     "text": [
      "rot_H_left_conductor_z =\n"
     ]
    },
    {
     "data": {
      "text/latex": [
       "$\\displaystyle -i \\, k_{y} H_{{\\rm left}_{{\\rm conductor}_{f_{x}}}}\\left(x\\right) + \\frac{\\partial}{\\partial x}H_{{\\rm left}_{{\\rm conductor}_{f_{y}}}}\\left(x\\right)$"
      ],
      "text/plain": [
       "<IPython.core.display.Math object>"
      ]
     },
     "metadata": {},
     "output_type": "display_data"
    },
    {
     "name": "stdout",
     "output_type": "stream",
     "text": [
      "rot_H_right_conductor_z =\n"
     ]
    },
    {
     "data": {
      "text/latex": [
       "$\\displaystyle -i \\, k_{y} H_{{\\rm right}_{{\\rm conductor}_{f_{x}}}}\\left(x\\right) + \\frac{\\partial}{\\partial x}H_{{\\rm right}_{{\\rm conductor}_{f_{y}}}}\\left(x\\right)$"
      ],
      "text/plain": [
       "<IPython.core.display.Math object>"
      ]
     },
     "metadata": {},
     "output_type": "display_data"
    },
    {
     "name": "stdout",
     "output_type": "stream",
     "text": [
      "rot_H_inner_vacuum_s_x =\n"
     ]
    },
    {
     "data": {
      "text/latex": [
       "$\\displaystyle x \\ {\\mapsto}\\ \\frac{{\\left(-i \\, k_{y} E_{{\\rm inner}_{{\\rm vacuum}_{x}}}\\left(x\\right) + \\frac{\\partial}{\\partial x}E_{{\\rm inner}_{{\\rm vacuum}_{y}}}\\left(x\\right)\\right)} c k_{y}}{\\omega} - \\frac{{\\left(i \\, k_{z} E_{{\\rm inner}_{{\\rm vacuum}_{x}}}\\left(x\\right) - \\frac{\\partial}{\\partial x}E_{{\\rm inner}_{{\\rm vacuum}_{z}}}\\left(x\\right)\\right)} c k_{z}}{\\omega}$"
      ],
      "text/plain": [
       "<IPython.core.display.Math object>"
      ]
     },
     "metadata": {},
     "output_type": "display_data"
    },
    {
     "name": "stdout",
     "output_type": "stream",
     "text": [
      "rot_H_left_conductor_s_x =\n"
     ]
    },
    {
     "data": {
      "text/latex": [
       "$\\displaystyle x \\ {\\mapsto}\\ \\frac{{\\left(-i \\, k_{y} E_{{\\rm left}_{{\\rm conductor}_{x}}}\\left(x\\right) + \\frac{\\partial}{\\partial x}E_{{\\rm left}_{{\\rm conductor}_{y}}}\\left(x\\right)\\right)} c k_{y}}{\\mu_{l} \\omega} - \\frac{{\\left(i \\, k_{z} E_{{\\rm left}_{{\\rm conductor}_{x}}}\\left(x\\right) - \\frac{\\partial}{\\partial x}E_{{\\rm left}_{{\\rm conductor}_{z}}}\\left(x\\right)\\right)} c k_{z}}{\\mu_{l} \\omega}$"
      ],
      "text/plain": [
       "<IPython.core.display.Math object>"
      ]
     },
     "metadata": {},
     "output_type": "display_data"
    },
    {
     "name": "stdout",
     "output_type": "stream",
     "text": [
      "rot_H_right_conductor_s_x =\n"
     ]
    },
    {
     "data": {
      "text/latex": [
       "$\\displaystyle x \\ {\\mapsto}\\ \\frac{{\\left(-i \\, k_{y} E_{{\\rm right}_{{\\rm conductor}_{x}}}\\left(x\\right) + \\frac{\\partial}{\\partial x}E_{{\\rm right}_{{\\rm conductor}_{y}}}\\left(x\\right)\\right)} c k_{y}}{\\mu_{r} \\omega} - \\frac{{\\left(i \\, k_{z} E_{{\\rm right}_{{\\rm conductor}_{x}}}\\left(x\\right) - \\frac{\\partial}{\\partial x}E_{{\\rm right}_{{\\rm conductor}_{z}}}\\left(x\\right)\\right)} c k_{z}}{\\mu_{r} \\omega}$"
      ],
      "text/plain": [
       "<IPython.core.display.Math object>"
      ]
     },
     "metadata": {},
     "output_type": "display_data"
    },
    {
     "name": "stdout",
     "output_type": "stream",
     "text": [
      "rot_H_inner_vacuum_s_y =\n"
     ]
    },
    {
     "data": {
      "text/latex": [
       "$\\displaystyle x \\ {\\mapsto}\\ \\frac{{\\left(-i \\, k_{z} E_{{\\rm inner}_{{\\rm vacuum}_{y}}}\\left(x\\right) + i \\, k_{y} E_{{\\rm inner}_{{\\rm vacuum}_{z}}}\\left(x\\right)\\right)} c k_{z}}{\\omega} + \\frac{i \\, {\\left(-i \\, k_{y} \\frac{\\partial}{\\partial x}E_{{\\rm inner}_{{\\rm vacuum}_{x}}}\\left(x\\right) + \\frac{\\partial^{2}}{(\\partial x)^{2}}E_{{\\rm inner}_{{\\rm vacuum}_{y}}}\\left(x\\right)\\right)} c}{\\omega}$"
      ],
      "text/plain": [
       "<IPython.core.display.Math object>"
      ]
     },
     "metadata": {},
     "output_type": "display_data"
    },
    {
     "name": "stdout",
     "output_type": "stream",
     "text": [
      "rot_H_left_conductor_s_y =\n"
     ]
    },
    {
     "data": {
      "text/latex": [
       "$\\displaystyle x \\ {\\mapsto}\\ \\frac{{\\left(-i \\, k_{z} E_{{\\rm left}_{{\\rm conductor}_{y}}}\\left(x\\right) + i \\, k_{y} E_{{\\rm left}_{{\\rm conductor}_{z}}}\\left(x\\right)\\right)} c k_{z}}{\\mu_{l} \\omega} + \\frac{i \\, {\\left(-i \\, k_{y} \\frac{\\partial}{\\partial x}E_{{\\rm left}_{{\\rm conductor}_{x}}}\\left(x\\right) + \\frac{\\partial^{2}}{(\\partial x)^{2}}E_{{\\rm left}_{{\\rm conductor}_{y}}}\\left(x\\right)\\right)} c}{\\mu_{l} \\omega}$"
      ],
      "text/plain": [
       "<IPython.core.display.Math object>"
      ]
     },
     "metadata": {},
     "output_type": "display_data"
    },
    {
     "name": "stdout",
     "output_type": "stream",
     "text": [
      "rot_H_right_conductor_s_y =\n"
     ]
    },
    {
     "data": {
      "text/latex": [
       "$\\displaystyle x \\ {\\mapsto}\\ \\frac{{\\left(-i \\, k_{z} E_{{\\rm right}_{{\\rm conductor}_{y}}}\\left(x\\right) + i \\, k_{y} E_{{\\rm right}_{{\\rm conductor}_{z}}}\\left(x\\right)\\right)} c k_{z}}{\\mu_{r} \\omega} + \\frac{i \\, {\\left(-i \\, k_{y} \\frac{\\partial}{\\partial x}E_{{\\rm right}_{{\\rm conductor}_{x}}}\\left(x\\right) + \\frac{\\partial^{2}}{(\\partial x)^{2}}E_{{\\rm right}_{{\\rm conductor}_{y}}}\\left(x\\right)\\right)} c}{\\mu_{r} \\omega}$"
      ],
      "text/plain": [
       "<IPython.core.display.Math object>"
      ]
     },
     "metadata": {},
     "output_type": "display_data"
    },
    {
     "name": "stdout",
     "output_type": "stream",
     "text": [
      "rot_H_inner_vacuum_s_z =\n"
     ]
    },
    {
     "data": {
      "text/latex": [
       "$\\displaystyle x \\ {\\mapsto}\\ -\\frac{{\\left(-i \\, k_{z} E_{{\\rm inner}_{{\\rm vacuum}_{y}}}\\left(x\\right) + i \\, k_{y} E_{{\\rm inner}_{{\\rm vacuum}_{z}}}\\left(x\\right)\\right)} c k_{y}}{\\omega} - \\frac{i \\, {\\left(i \\, k_{z} \\frac{\\partial}{\\partial x}E_{{\\rm inner}_{{\\rm vacuum}_{x}}}\\left(x\\right) - \\frac{\\partial^{2}}{(\\partial x)^{2}}E_{{\\rm inner}_{{\\rm vacuum}_{z}}}\\left(x\\right)\\right)} c}{\\omega}$"
      ],
      "text/plain": [
       "<IPython.core.display.Math object>"
      ]
     },
     "metadata": {},
     "output_type": "display_data"
    },
    {
     "name": "stdout",
     "output_type": "stream",
     "text": [
      "rot_H_left_conductor_s_z =\n"
     ]
    },
    {
     "data": {
      "text/latex": [
       "$\\displaystyle x \\ {\\mapsto}\\ -\\frac{{\\left(-i \\, k_{z} E_{{\\rm left}_{{\\rm conductor}_{y}}}\\left(x\\right) + i \\, k_{y} E_{{\\rm left}_{{\\rm conductor}_{z}}}\\left(x\\right)\\right)} c k_{y}}{\\mu_{l} \\omega} - \\frac{i \\, {\\left(i \\, k_{z} \\frac{\\partial}{\\partial x}E_{{\\rm left}_{{\\rm conductor}_{x}}}\\left(x\\right) - \\frac{\\partial^{2}}{(\\partial x)^{2}}E_{{\\rm left}_{{\\rm conductor}_{z}}}\\left(x\\right)\\right)} c}{\\mu_{l} \\omega}$"
      ],
      "text/plain": [
       "<IPython.core.display.Math object>"
      ]
     },
     "metadata": {},
     "output_type": "display_data"
    },
    {
     "name": "stdout",
     "output_type": "stream",
     "text": [
      "rot_H_right_conductor_s_z =\n"
     ]
    },
    {
     "data": {
      "text/latex": [
       "$\\displaystyle x \\ {\\mapsto}\\ -\\frac{{\\left(-i \\, k_{z} E_{{\\rm right}_{{\\rm conductor}_{y}}}\\left(x\\right) + i \\, k_{y} E_{{\\rm right}_{{\\rm conductor}_{z}}}\\left(x\\right)\\right)} c k_{y}}{\\mu_{r} \\omega} - \\frac{i \\, {\\left(i \\, k_{z} \\frac{\\partial}{\\partial x}E_{{\\rm right}_{{\\rm conductor}_{x}}}\\left(x\\right) - \\frac{\\partial^{2}}{(\\partial x)^{2}}E_{{\\rm right}_{{\\rm conductor}_{z}}}\\left(x\\right)\\right)} c}{\\mu_{r} \\omega}$"
      ],
      "text/plain": [
       "<IPython.core.display.Math object>"
      ]
     },
     "metadata": {},
     "output_type": "display_data"
    },
    {
     "name": "stdout",
     "output_type": "stream",
     "text": [
      "rot_H_inner_vacuum_sol_x =\n"
     ]
    },
    {
     "data": {
      "text/latex": [
       "$\\displaystyle \\frac{{\\left(i \\, \\mathit{A2}_{y} K_{\\mathit{vacuum}} e^{\\left(i \\, K_{\\mathit{vacuum}} x\\right)} - i \\, \\mathit{A1}_{y} K_{\\mathit{vacuum}} e^{\\left(-i \\, K_{\\mathit{vacuum}} x\\right)} - i \\, {\\left(\\mathit{A2}_{x} e^{\\left(i \\, K_{\\mathit{vacuum}} x\\right)} + \\mathit{A1}_{x} e^{\\left(-i \\, K_{\\mathit{vacuum}} x\\right)}\\right)} k_{y}\\right)} c k_{y}}{\\omega} - \\frac{{\\left(-i \\, \\mathit{A2}_{z} K_{\\mathit{vacuum}} e^{\\left(i \\, K_{\\mathit{vacuum}} x\\right)} + i \\, \\mathit{A1}_{z} K_{\\mathit{vacuum}} e^{\\left(-i \\, K_{\\mathit{vacuum}} x\\right)} + i \\, {\\left(\\mathit{A2}_{x} e^{\\left(i \\, K_{\\mathit{vacuum}} x\\right)} + \\mathit{A1}_{x} e^{\\left(-i \\, K_{\\mathit{vacuum}} x\\right)}\\right)} k_{z}\\right)} c k_{z}}{\\omega}$"
      ],
      "text/plain": [
       "<IPython.core.display.Math object>"
      ]
     },
     "metadata": {},
     "output_type": "display_data"
    },
    {
     "name": "stdout",
     "output_type": "stream",
     "text": [
      "rot_H_left_conductor_sol_x =\n"
     ]
    },
    {
     "data": {
      "text/latex": [
       "$\\displaystyle \\frac{{\\left(-i \\, \\mathit{B1}_{\\mathit{yl}} K_{\\mathit{left}_{\\mathit{conductor}}} e^{\\left(-i \\, K_{\\mathit{left}_{\\mathit{conductor}}} x\\right)} - i \\, \\mathit{B1}_{\\mathit{xl}} k_{y} e^{\\left(-i \\, K_{\\mathit{left}_{\\mathit{conductor}}} x\\right)}\\right)} c k_{y}}{\\mu_{l} \\omega} - \\frac{{\\left(i \\, \\mathit{B1}_{\\mathit{zl}} K_{\\mathit{left}_{\\mathit{conductor}}} e^{\\left(-i \\, K_{\\mathit{left}_{\\mathit{conductor}}} x\\right)} + i \\, \\mathit{B1}_{\\mathit{xl}} k_{z} e^{\\left(-i \\, K_{\\mathit{left}_{\\mathit{conductor}}} x\\right)}\\right)} c k_{z}}{\\mu_{l} \\omega}$"
      ],
      "text/plain": [
       "<IPython.core.display.Math object>"
      ]
     },
     "metadata": {},
     "output_type": "display_data"
    },
    {
     "name": "stdout",
     "output_type": "stream",
     "text": [
      "rot_H_right_conductor_sol_x =\n"
     ]
    },
    {
     "data": {
      "text/latex": [
       "$\\displaystyle \\frac{{\\left(i \\, \\mathit{B1}_{\\mathit{yr}} K_{\\mathit{right}_{\\mathit{conductor}}} e^{\\left(i \\, K_{\\mathit{right}_{\\mathit{conductor}}} x\\right)} - i \\, \\mathit{B1}_{\\mathit{xr}} k_{y} e^{\\left(i \\, K_{\\mathit{right}_{\\mathit{conductor}}} x\\right)}\\right)} c k_{y}}{\\mu_{r} \\omega} - \\frac{{\\left(-i \\, \\mathit{B1}_{\\mathit{zr}} K_{\\mathit{right}_{\\mathit{conductor}}} e^{\\left(i \\, K_{\\mathit{right}_{\\mathit{conductor}}} x\\right)} + i \\, \\mathit{B1}_{\\mathit{xr}} k_{z} e^{\\left(i \\, K_{\\mathit{right}_{\\mathit{conductor}}} x\\right)}\\right)} c k_{z}}{\\mu_{r} \\omega}$"
      ],
      "text/plain": [
       "<IPython.core.display.Math object>"
      ]
     },
     "metadata": {},
     "output_type": "display_data"
    },
    {
     "name": "stdout",
     "output_type": "stream",
     "text": [
      "rot_H_inner_vacuum_sol_y =\n"
     ]
    },
    {
     "data": {
      "text/latex": [
       "$\\displaystyle \\frac{{\\left(i \\, {\\left(\\mathit{A2}_{z} e^{\\left(i \\, K_{\\mathit{vacuum}} x\\right)} + \\mathit{A1}_{z} e^{\\left(-i \\, K_{\\mathit{vacuum}} x\\right)}\\right)} k_{y} - i \\, {\\left(\\mathit{A2}_{y} e^{\\left(i \\, K_{\\mathit{vacuum}} x\\right)} + \\mathit{A1}_{y} e^{\\left(-i \\, K_{\\mathit{vacuum}} x\\right)}\\right)} k_{z}\\right)} c k_{z}}{\\omega} - \\frac{i \\, {\\left(\\mathit{A2}_{y} K_{\\mathit{vacuum}}^{2} e^{\\left(i \\, K_{\\mathit{vacuum}} x\\right)} + \\mathit{A1}_{y} K_{\\mathit{vacuum}}^{2} e^{\\left(-i \\, K_{\\mathit{vacuum}} x\\right)} + i \\, {\\left(i \\, \\mathit{A2}_{x} K_{\\mathit{vacuum}} e^{\\left(i \\, K_{\\mathit{vacuum}} x\\right)} - i \\, \\mathit{A1}_{x} K_{\\mathit{vacuum}} e^{\\left(-i \\, K_{\\mathit{vacuum}} x\\right)}\\right)} k_{y}\\right)} c}{\\omega}$"
      ],
      "text/plain": [
       "<IPython.core.display.Math object>"
      ]
     },
     "metadata": {},
     "output_type": "display_data"
    },
    {
     "name": "stdout",
     "output_type": "stream",
     "text": [
      "rot_H_left_conductor_sol_y =\n"
     ]
    },
    {
     "data": {
      "text/latex": [
       "$\\displaystyle \\frac{{\\left(i \\, \\mathit{B1}_{\\mathit{zl}} k_{y} e^{\\left(-i \\, K_{\\mathit{left}_{\\mathit{conductor}}} x\\right)} - i \\, \\mathit{B1}_{\\mathit{yl}} k_{z} e^{\\left(-i \\, K_{\\mathit{left}_{\\mathit{conductor}}} x\\right)}\\right)} c k_{z}}{\\mu_{l} \\omega} - \\frac{i \\, {\\left(\\mathit{B1}_{\\mathit{yl}} K_{\\mathit{left}_{\\mathit{conductor}}}^{2} e^{\\left(-i \\, K_{\\mathit{left}_{\\mathit{conductor}}} x\\right)} + \\mathit{B1}_{\\mathit{xl}} K_{\\mathit{left}_{\\mathit{conductor}}} k_{y} e^{\\left(-i \\, K_{\\mathit{left}_{\\mathit{conductor}}} x\\right)}\\right)} c}{\\mu_{l} \\omega}$"
      ],
      "text/plain": [
       "<IPython.core.display.Math object>"
      ]
     },
     "metadata": {},
     "output_type": "display_data"
    },
    {
     "name": "stdout",
     "output_type": "stream",
     "text": [
      "rot_H_right_conductor_sol_y =\n"
     ]
    },
    {
     "data": {
      "text/latex": [
       "$\\displaystyle \\frac{{\\left(i \\, \\mathit{B1}_{\\mathit{zr}} k_{y} e^{\\left(i \\, K_{\\mathit{right}_{\\mathit{conductor}}} x\\right)} - i \\, \\mathit{B1}_{\\mathit{yr}} k_{z} e^{\\left(i \\, K_{\\mathit{right}_{\\mathit{conductor}}} x\\right)}\\right)} c k_{z}}{\\mu_{r} \\omega} - \\frac{i \\, {\\left(\\mathit{B1}_{\\mathit{yr}} K_{\\mathit{right}_{\\mathit{conductor}}}^{2} e^{\\left(i \\, K_{\\mathit{right}_{\\mathit{conductor}}} x\\right)} - \\mathit{B1}_{\\mathit{xr}} K_{\\mathit{right}_{\\mathit{conductor}}} k_{y} e^{\\left(i \\, K_{\\mathit{right}_{\\mathit{conductor}}} x\\right)}\\right)} c}{\\mu_{r} \\omega}$"
      ],
      "text/plain": [
       "<IPython.core.display.Math object>"
      ]
     },
     "metadata": {},
     "output_type": "display_data"
    },
    {
     "name": "stdout",
     "output_type": "stream",
     "text": [
      "rot_H_inner_vacuum_sol_z =\n"
     ]
    },
    {
     "data": {
      "text/latex": [
       "$\\displaystyle -\\frac{{\\left(i \\, {\\left(\\mathit{A2}_{z} e^{\\left(i \\, K_{\\mathit{vacuum}} x\\right)} + \\mathit{A1}_{z} e^{\\left(-i \\, K_{\\mathit{vacuum}} x\\right)}\\right)} k_{y} - i \\, {\\left(\\mathit{A2}_{y} e^{\\left(i \\, K_{\\mathit{vacuum}} x\\right)} + \\mathit{A1}_{y} e^{\\left(-i \\, K_{\\mathit{vacuum}} x\\right)}\\right)} k_{z}\\right)} c k_{y}}{\\omega} - \\frac{i \\, {\\left(\\mathit{A2}_{z} K_{\\mathit{vacuum}}^{2} e^{\\left(i \\, K_{\\mathit{vacuum}} x\\right)} + \\mathit{A1}_{z} K_{\\mathit{vacuum}}^{2} e^{\\left(-i \\, K_{\\mathit{vacuum}} x\\right)} + i \\, {\\left(i \\, \\mathit{A2}_{x} K_{\\mathit{vacuum}} e^{\\left(i \\, K_{\\mathit{vacuum}} x\\right)} - i \\, \\mathit{A1}_{x} K_{\\mathit{vacuum}} e^{\\left(-i \\, K_{\\mathit{vacuum}} x\\right)}\\right)} k_{z}\\right)} c}{\\omega}$"
      ],
      "text/plain": [
       "<IPython.core.display.Math object>"
      ]
     },
     "metadata": {},
     "output_type": "display_data"
    },
    {
     "name": "stdout",
     "output_type": "stream",
     "text": [
      "rot_H_left_conductor_sol_z =\n"
     ]
    },
    {
     "data": {
      "text/latex": [
       "$\\displaystyle -\\frac{{\\left(i \\, \\mathit{B1}_{\\mathit{zl}} k_{y} e^{\\left(-i \\, K_{\\mathit{left}_{\\mathit{conductor}}} x\\right)} - i \\, \\mathit{B1}_{\\mathit{yl}} k_{z} e^{\\left(-i \\, K_{\\mathit{left}_{\\mathit{conductor}}} x\\right)}\\right)} c k_{y}}{\\mu_{l} \\omega} - \\frac{i \\, {\\left(\\mathit{B1}_{\\mathit{zl}} K_{\\mathit{left}_{\\mathit{conductor}}}^{2} e^{\\left(-i \\, K_{\\mathit{left}_{\\mathit{conductor}}} x\\right)} + \\mathit{B1}_{\\mathit{xl}} K_{\\mathit{left}_{\\mathit{conductor}}} k_{z} e^{\\left(-i \\, K_{\\mathit{left}_{\\mathit{conductor}}} x\\right)}\\right)} c}{\\mu_{l} \\omega}$"
      ],
      "text/plain": [
       "<IPython.core.display.Math object>"
      ]
     },
     "metadata": {},
     "output_type": "display_data"
    },
    {
     "name": "stdout",
     "output_type": "stream",
     "text": [
      "rot_H_right_conductor_sol_z =\n"
     ]
    },
    {
     "data": {
      "text/latex": [
       "$\\displaystyle -\\frac{{\\left(i \\, \\mathit{B1}_{\\mathit{zr}} k_{y} e^{\\left(i \\, K_{\\mathit{right}_{\\mathit{conductor}}} x\\right)} - i \\, \\mathit{B1}_{\\mathit{yr}} k_{z} e^{\\left(i \\, K_{\\mathit{right}_{\\mathit{conductor}}} x\\right)}\\right)} c k_{y}}{\\mu_{r} \\omega} - \\frac{i \\, {\\left(\\mathit{B1}_{\\mathit{zr}} K_{\\mathit{right}_{\\mathit{conductor}}}^{2} e^{\\left(i \\, K_{\\mathit{right}_{\\mathit{conductor}}} x\\right)} - \\mathit{B1}_{\\mathit{xr}} K_{\\mathit{right}_{\\mathit{conductor}}} k_{z} e^{\\left(i \\, K_{\\mathit{right}_{\\mathit{conductor}}} x\\right)}\\right)} c}{\\mu_{r} \\omega}$"
      ],
      "text/plain": [
       "<IPython.core.display.Math object>"
      ]
     },
     "metadata": {},
     "output_type": "display_data"
    }
   ],
   "source": [
    "# уравнение Максвелла для тока смещения\n",
    "# rot_H   = - I * epsilon * omega / c * E\n",
    "# rot_H_x = diff(H_z, y) - diff(H_y, z)\n",
    "# rot_H_y = diff(H_x, z) - diff(H_z, x)\n",
    "# rot_H_z = diff(H_y, x) - diff(H_x, y)\n",
    "\n",
    "# rot_H_x = diff(H_z, y) - diff(H_y, z)\n",
    "rot_H_inner_vacuum_x    = I*k_y*H_inner_vacuum_f_z(x)  - I*k_z*H_inner_vacuum_f_y(x)\n",
    "rot_H_left_conductor_x  = I*k_y*H_left_conductor_f_z(x) - I*k_z*H_left_conductor_f_y(x)\n",
    "rot_H_right_conductor_x = I*k_y*H_right_conductor_f_z(x) - I*k_z*H_right_conductor_f_y(x)\n",
    "\n",
    "# rot_H_y = diff(H_x, z) - diff(H_z, x)\n",
    "rot_H_inner_vacuum_y  = I*k_z*H_inner_vacuum_f_x(x)  - diff(H_inner_vacuum_f_z(x), x)\n",
    "rot_H_left_conductor_y = I*k_z*H_left_conductor_f_x(x) - diff(H_left_conductor_f_z(x), x)\n",
    "rot_H_right_conductor_y = I*k_z*H_right_conductor_f_x(x) - diff(H_right_conductor_f_z(x), x)\n",
    "\n",
    "# rot_H_z = diff(H_y, x) - diff(H_x, y)\n",
    "rot_H_inner_vacuum_z    = diff(H_inner_vacuum_f_y(x) , x) - I*k_y*H_inner_vacuum_f_x(x)\n",
    "rot_H_left_conductor_z  = diff(H_left_conductor_f_y(x), x) - I*k_y*H_left_conductor_f_x(x)\n",
    "rot_H_right_conductor_z = diff(H_right_conductor_f_y(x), x) - I*k_y*H_right_conductor_f_x(x)\n",
    "\n",
    "# rot_H_x = diff(H_z, y) - diff(H_y, z)\n",
    "rot_H_inner_vacuum_s_x    = I*k_y*H_inner_vacuum_s_z  - I*k_z*H_inner_vacuum_s_y\n",
    "rot_H_left_conductor_s_x  = I*k_y*H_left_conductor_s_z - I*k_z*H_left_conductor_s_y\n",
    "rot_H_right_conductor_s_x = I*k_y*H_right_conductor_s_z - I*k_z*H_right_conductor_s_y\n",
    "\n",
    "# rot_H_y = diff(H_x, z) - diff(H_z, x)\n",
    "rot_H_inner_vacuum_s_y    = I*k_z*H_inner_vacuum_s_x  - diff(H_inner_vacuum_s_z, x)\n",
    "rot_H_left_conductor_s_y  = I*k_z*H_left_conductor_s_x - diff(H_left_conductor_s_z, x)\n",
    "rot_H_right_conductor_s_y = I*k_z*H_right_conductor_s_x - diff(H_right_conductor_s_z, x)\n",
    "\n",
    "#H_inner_vacuum_s_z(x)  = c / (I*omega)   *(-I*sqrt(kappa_vacuum^2-k^2)*E_inner_vacuum_y (x) - I*k_y*E_inner_vacuum_x (x))\n",
    "#H_bad_conductor_s_z(x) = c / (I*omega*mu)*( I*sqrt(kappa       ^2-k^2)*E_bad_conductor_y(x) - I*k_y*E_bad_conductor_x(x))\n",
    "\n",
    "#print(diff(H_inner_vacuum_s_z, x) \\\n",
    "#      .substitute_function(diff(E_inner_vacuum_y(x), x), - I*sqrt(-k^2 + kappa_vacuum^2) * E_inner_vacuum_y(x)) \\\n",
    "#      .substitute_function(diff(E_inner_vacuum_x(x), x), - I*sqrt(-k^2 + kappa_vacuum^2) * E_inner_vacuum_x(x))) \\\n",
    "\n",
    "#rot_H_inner_vacuum_s_y  = I*k_z*H_inner_vacuum_s_x  - c / (I*omega)*(-I*sqrt(kappa_vacuum^2-k_z^2)*\n",
    "#                                                                     (-I*sqrt(kappa_vacuum^2-k_z^2))*\n",
    "#                                                                             E_inner_vacuum_y (x) \n",
    "#                                                                     - I*k_y*(-I*sqrt(kappa_vacuum^2-k_z^2))*\n",
    "#                                                                             E_inner_vacuum_x (x))\n",
    "#\n",
    "#rot_H_bad_conductor_s_y = I*k_z*H_bad_conductor_s_x - c / (I*omega*mu)*( I*sqrt(kappa^2-k_z^2)*\n",
    "#                                                                         I*sqrt(kappa^2-k_z^2)*\n",
    "#                                                                             E_bad_conductor_y(x) \n",
    "#                                                                       - I*k_y*\n",
    "#                                                                        I*sqrt(kappa^2-k_z^2)*\n",
    "#                                                                        E_bad_conductor_x(x))\n",
    "\n",
    "# rot_H_y = diff(H_x, z) - diff(H_z, x)\n",
    "rot_H_inner_vacuum_s_y  = I*k_z*H_inner_vacuum_s_x  - diff(H_inner_vacuum_s_z, x)\n",
    "rot_H_left_conductor_s_y = I*k_z*H_left_conductor_s_x - diff(H_left_conductor_s_z, x)\n",
    "rot_H_right_conductor_s_y = I*k_z*H_right_conductor_s_x - diff(H_right_conductor_s_z, x)\n",
    "\n",
    "\n",
    "# rot_H_z = diff(H_y, x) - diff(H_x, y)\n",
    "rot_H_inner_vacuum_s_z    = diff(H_inner_vacuum_s_y , x) - I*k_y*H_inner_vacuum_s_x\n",
    "rot_H_left_conductor_s_z  = diff(H_left_conductor_s_y, x) - I*k_y*H_left_conductor_s_x\n",
    "rot_H_right_conductor_s_z = diff(H_right_conductor_s_y, x) - I*k_y*H_right_conductor_s_x\n",
    "\n",
    "rot_H_inner_vacuum_s_z    = diff(H_inner_vacuum_s_y, x)  - I*k_y*H_inner_vacuum_s_x\n",
    "rot_H_left_conductor_s_z  =  diff(H_left_conductor_s_y, x) - I*k_y*H_left_conductor_s_x\n",
    "rot_H_right_conductor_s_z =  diff(H_right_conductor_s_y, x) - I*k_y*H_right_conductor_s_x\n",
    "\n",
    "\n",
    "# sol\n",
    "rot_H_inner_vacuum_sol_x    = I*k_y*H_inner_vacuum_sol_z (x) - I*k_z*H_inner_vacuum_sol_y (x)\n",
    "rot_H_left_conductor_sol_x  = I*k_y*H_left_conductor_sol_z(x) - I*k_z*H_left_conductor_sol_y(x)\n",
    "rot_H_right_conductor_sol_x = I*k_y*H_right_conductor_sol_z(x) - I*k_z*H_right_conductor_sol_y(x)\n",
    "\n",
    "rot_H_inner_vacuum_sol_y    = I*k_z*H_inner_vacuum_sol_x (x) - diff(H_inner_vacuum_sol_z (x), x)\n",
    "rot_H_left_conductor_sol_y  = I*k_z*H_left_conductor_sol_x(x) - diff(H_left_conductor_sol_z(x), x)\n",
    "rot_H_right_conductor_sol_y = I*k_z*H_right_conductor_sol_x(x) - diff(H_right_conductor_sol_z(x), x)\n",
    "\n",
    "rot_H_inner_vacuum_sol_z    = diff(H_inner_vacuum_sol_y (x), x) - I*k_y*H_inner_vacuum_sol_x (x)\n",
    "rot_H_left_conductor_sol_z  = diff(H_left_conductor_sol_y(x), x) - I*k_y*H_left_conductor_sol_x(x)\n",
    "rot_H_right_conductor_sol_z = diff(H_right_conductor_sol_y(x), x) - I*k_y*H_right_conductor_sol_x(x)\n",
    "\n",
    "\n",
    "print (\"rot_H_inner_vacuum_x =\")\n",
    "display(Math(latex(rot_H_inner_vacuum_x)))\n",
    "print (\"rot_H_left_conductor_x =\")\n",
    "display(Math(latex(rot_H_left_conductor_x)))\n",
    "print (\"rot_H_right_conductor_x =\")\n",
    "display(Math(latex(rot_H_right_conductor_x)))\n",
    "\n",
    "print (\"rot_H_inner_vacuum_y =\")\n",
    "display(Math(latex(rot_H_inner_vacuum_y)))\n",
    "print (\"rot_H_left_conductor_y =\")\n",
    "display(Math(latex(rot_H_left_conductor_y)))\n",
    "print (\"rot_H_right_conductor_y =\")\n",
    "display(Math(latex(rot_H_right_conductor_y)))\n",
    "\n",
    "print (\"rot_H_inner_vacuum_z =\")\n",
    "display(Math(latex(rot_H_inner_vacuum_z)))\n",
    "print (\"rot_H_left_conductor_z =\")\n",
    "display(Math(latex(rot_H_left_conductor_z)))\n",
    "print (\"rot_H_right_conductor_z =\")\n",
    "display(Math(latex(rot_H_right_conductor_z)))\n",
    "\n",
    "\n",
    "\n",
    "print (\"rot_H_inner_vacuum_s_x =\")\n",
    "display(Math(latex(rot_H_inner_vacuum_s_x)))\n",
    "print (\"rot_H_left_conductor_s_x =\")\n",
    "display(Math(latex(rot_H_left_conductor_s_x)))\n",
    "print (\"rot_H_right_conductor_s_x =\")\n",
    "display(Math(latex(rot_H_right_conductor_s_x)))\n",
    "\n",
    "print (\"rot_H_inner_vacuum_s_y =\")\n",
    "display(Math(latex(rot_H_inner_vacuum_s_y)))\n",
    "print (\"rot_H_left_conductor_s_y =\")\n",
    "display(Math(latex(rot_H_left_conductor_s_y)))\n",
    "print (\"rot_H_right_conductor_s_y =\")\n",
    "display(Math(latex(rot_H_right_conductor_s_y)))\n",
    "\n",
    "print (\"rot_H_inner_vacuum_s_z =\")\n",
    "display(Math(latex(rot_H_inner_vacuum_s_z)))\n",
    "print (\"rot_H_left_conductor_s_z =\")\n",
    "display(Math(latex(rot_H_left_conductor_s_z)))\n",
    "print (\"rot_H_right_conductor_s_z =\")\n",
    "display(Math(latex(rot_H_right_conductor_s_z)))\n",
    "\n",
    "\n",
    "\n",
    "print (\"rot_H_inner_vacuum_sol_x =\")\n",
    "display(Math(latex(rot_H_inner_vacuum_sol_x)))\n",
    "print (\"rot_H_left_conductor_sol_x =\")\n",
    "display(Math(latex(rot_H_left_conductor_sol_x)))\n",
    "print (\"rot_H_right_conductor_sol_x =\")\n",
    "display(Math(latex(rot_H_right_conductor_sol_x)))\n",
    "\n",
    "print (\"rot_H_inner_vacuum_sol_y =\")\n",
    "display(Math(latex(rot_H_inner_vacuum_sol_y)))\n",
    "print (\"rot_H_left_conductor_sol_y =\")\n",
    "display(Math(latex(rot_H_left_conductor_sol_y)))\n",
    "print (\"rot_H_right_conductor_sol_y =\")\n",
    "display(Math(latex(rot_H_right_conductor_sol_y)))\n",
    "\n",
    "print (\"rot_H_inner_vacuum_sol_z =\")\n",
    "display(Math(latex(rot_H_inner_vacuum_sol_z)))\n",
    "print (\"rot_H_left_conductor_sol_z =\")\n",
    "display(Math(latex(rot_H_left_conductor_sol_z)))\n",
    "print (\"rot_H_right_conductor_sol_z =\")\n",
    "display(Math(latex(rot_H_right_conductor_sol_z)))"
   ]
  },
  {
   "cell_type": "code",
   "execution_count": 20,
   "metadata": {},
   "outputs": [],
   "source": [
    "eq_rot_H_inner_vacuum_sol_x  = rot_H_inner_vacuum_sol_x  == -I*omega/c*E_inner_vacuum_sol_x(x)\n",
    "eq_rot_H_inner_vacuum_sol_y  = rot_H_inner_vacuum_sol_y  == -I*omega/c*E_inner_vacuum_sol_y(x)\n",
    "eq_rot_H_inner_vacuum_sol_z  = rot_H_inner_vacuum_sol_z  == -I*omega/c*E_inner_vacuum_sol_z(x)\n",
    "\n",
    "eq_rot_H_left_conductor_sol_x = rot_H_left_conductor_sol_x == -I*omega/c*epsilon_l*E_left_conductor_sol_x(x)\n",
    "eq_rot_H_left_conductor_sol_y = rot_H_left_conductor_sol_y == -I*omega/c*epsilon_l*E_left_conductor_sol_y(x)\n",
    "eq_rot_H_left_conductor_sol_z = rot_H_left_conductor_sol_z == -I*omega/c*epsilon_l*E_left_conductor_sol_z(x)\n",
    "\n",
    "eq_rot_H_right_conductor_sol_x = rot_H_right_conductor_sol_x == -I*omega/c*epsilon_r*E_right_conductor_sol_x(x)\n",
    "eq_rot_H_right_conductor_sol_y = rot_H_right_conductor_sol_y == -I*omega/c*epsilon_r*E_right_conductor_sol_y(x)\n",
    "eq_rot_H_right_conductor_sol_z = rot_H_right_conductor_sol_z == -I*omega/c*epsilon_r*E_right_conductor_sol_z(x)"
   ]
  },
  {
   "cell_type": "code",
   "execution_count": 21,
   "metadata": {},
   "outputs": [],
   "source": [
    "eq_rot_H_inner_vacuum_s_x  = rot_H_inner_vacuum_s_x  == -I*omega/c*E_inner_vacuum_x(x)\n",
    "eq_rot_H_inner_vacuum_s_y  = rot_H_inner_vacuum_s_y  == -I*omega/c*E_inner_vacuum_y(x)\n",
    "eq_rot_H_inner_vacuum_s_z  = rot_H_inner_vacuum_s_z  == -I*omega/c*E_inner_vacuum_z(x)\n",
    "\n",
    "eq_rot_H_left_conductor_s_x = rot_H_left_conductor_s_x == -I*omega/c*epsilon_l*E_left_conductor_x(x)\n",
    "eq_rot_H_left_conductor_s_y = rot_H_left_conductor_s_y == -I*omega/c*epsilon_l*E_left_conductor_y(x)\n",
    "eq_rot_H_left_conductor_s_z = rot_H_left_conductor_s_z == -I*omega/c*epsilon_l*E_left_conductor_z(x)\n",
    "\n",
    "eq_rot_H_right_conductor_s_x = rot_H_right_conductor_s_x == -I*omega/c*epsilon_r*E_right_conductor_x(x)\n",
    "eq_rot_H_right_conductor_s_y = rot_H_right_conductor_s_y == -I*omega/c*epsilon_r*E_right_conductor_y(x)\n",
    "eq_rot_H_right_conductor_s_z = rot_H_right_conductor_s_z == -I*omega/c*epsilon_r*E_right_conductor_z(x)"
   ]
  },
  {
   "cell_type": "code",
   "execution_count": 22,
   "metadata": {},
   "outputs": [],
   "source": [
    "eq_rot_H_inner_vacuum_x  = rot_H_inner_vacuum_x  == -I*omega/c*E_inner_vacuum_x(x)\n",
    "eq_rot_H_inner_vacuum_y  = rot_H_inner_vacuum_y  == -I*omega/c*E_inner_vacuum_y(x)\n",
    "eq_rot_H_inner_vacuum_z  = rot_H_inner_vacuum_z  == -I*omega/c*E_inner_vacuum_z(x)\n",
    "\n",
    "eq_rot_H_left_conductor_x = rot_H_left_conductor_x == -I*omega/c*epsilon_l*E_left_conductor_x(x)\n",
    "eq_rot_H_left_conductor_y = rot_H_left_conductor_y == -I*omega/c*epsilon_l*E_left_conductor_y(x)\n",
    "eq_rot_H_left_conductor_z = rot_H_left_conductor_z == -I*omega/c*epsilon_l*E_left_conductor_z(x)\n",
    "\n",
    "eq_rot_H_right_conductor_x = rot_H_right_conductor_x == -I*omega/c*epsilon_r*E_right_conductor_x(x)\n",
    "eq_rot_H_right_conductor_y = rot_H_right_conductor_y == -I*omega/c*epsilon_r*E_right_conductor_y(x)\n",
    "eq_rot_H_right_conductor_z = rot_H_right_conductor_z == -I*omega/c*epsilon_r*E_right_conductor_z(x)"
   ]
  },
  {
   "cell_type": "code",
   "execution_count": 23,
   "metadata": {},
   "outputs": [
    {
     "name": "stdout",
     "output_type": "stream",
     "text": [
      "eq_rot_H_inner_vacuum_s_x =\n"
     ]
    },
    {
     "data": {
      "text/latex": [
       "$\\displaystyle x \\ {\\mapsto}\\ \\frac{{\\left(-i \\, k_{y} E_{{\\rm inner}_{{\\rm vacuum}_{x}}}\\left(x\\right) + \\frac{\\partial}{\\partial x}E_{{\\rm inner}_{{\\rm vacuum}_{y}}}\\left(x\\right)\\right)} c k_{y}}{\\omega} - \\frac{{\\left(i \\, k_{z} E_{{\\rm inner}_{{\\rm vacuum}_{x}}}\\left(x\\right) - \\frac{\\partial}{\\partial x}E_{{\\rm inner}_{{\\rm vacuum}_{z}}}\\left(x\\right)\\right)} c k_{z}}{\\omega} = -\\frac{i \\, \\omega E_{{\\rm inner}_{{\\rm vacuum}_{x}}}\\left(x\\right)}{c}$"
      ],
      "text/plain": [
       "<IPython.core.display.Math object>"
      ]
     },
     "metadata": {},
     "output_type": "display_data"
    },
    {
     "name": "stdout",
     "output_type": "stream",
     "text": [
      "eq_rot_H_inner_vacuum_s_y =\n"
     ]
    },
    {
     "data": {
      "text/latex": [
       "$\\displaystyle x \\ {\\mapsto}\\ \\frac{{\\left(-i \\, k_{z} E_{{\\rm inner}_{{\\rm vacuum}_{y}}}\\left(x\\right) + i \\, k_{y} E_{{\\rm inner}_{{\\rm vacuum}_{z}}}\\left(x\\right)\\right)} c k_{z}}{\\omega} + \\frac{i \\, {\\left(-i \\, k_{y} \\frac{\\partial}{\\partial x}E_{{\\rm inner}_{{\\rm vacuum}_{x}}}\\left(x\\right) + \\frac{\\partial^{2}}{(\\partial x)^{2}}E_{{\\rm inner}_{{\\rm vacuum}_{y}}}\\left(x\\right)\\right)} c}{\\omega} = -\\frac{i \\, \\omega E_{{\\rm inner}_{{\\rm vacuum}_{y}}}\\left(x\\right)}{c}$"
      ],
      "text/plain": [
       "<IPython.core.display.Math object>"
      ]
     },
     "metadata": {},
     "output_type": "display_data"
    },
    {
     "name": "stdout",
     "output_type": "stream",
     "text": [
      "eq_rot_H_inner_vacuum_s_z =\n"
     ]
    },
    {
     "data": {
      "text/latex": [
       "$\\displaystyle x \\ {\\mapsto}\\ -\\frac{{\\left(-i \\, k_{z} E_{{\\rm inner}_{{\\rm vacuum}_{y}}}\\left(x\\right) + i \\, k_{y} E_{{\\rm inner}_{{\\rm vacuum}_{z}}}\\left(x\\right)\\right)} c k_{y}}{\\omega} - \\frac{i \\, {\\left(i \\, k_{z} \\frac{\\partial}{\\partial x}E_{{\\rm inner}_{{\\rm vacuum}_{x}}}\\left(x\\right) - \\frac{\\partial^{2}}{(\\partial x)^{2}}E_{{\\rm inner}_{{\\rm vacuum}_{z}}}\\left(x\\right)\\right)} c}{\\omega} = -\\frac{i \\, \\omega E_{{\\rm inner}_{{\\rm vacuum}_{z}}}\\left(x\\right)}{c}$"
      ],
      "text/plain": [
       "<IPython.core.display.Math object>"
      ]
     },
     "metadata": {},
     "output_type": "display_data"
    }
   ],
   "source": [
    "print (\"eq_rot_H_inner_vacuum_s_x =\")\n",
    "display(Math(latex(eq_rot_H_inner_vacuum_s_x.simplify())))\n",
    "\n",
    "print (\"eq_rot_H_inner_vacuum_s_y =\")\n",
    "display(Math(latex(eq_rot_H_inner_vacuum_s_y.simplify())))\n",
    "\n",
    "print (\"eq_rot_H_inner_vacuum_s_z =\")\n",
    "display(Math(latex(eq_rot_H_inner_vacuum_s_z.simplify())))"
   ]
  },
  {
   "cell_type": "code",
   "execution_count": 24,
   "metadata": {},
   "outputs": [
    {
     "name": "stdout",
     "output_type": "stream",
     "text": [
      "eq_rot_H_inner_vacuum_sol_x =\n"
     ]
    },
    {
     "data": {
      "text/latex": [
       "$\\displaystyle \\frac{{\\left(i \\, \\mathit{A2}_{y} K_{\\mathit{vacuum}} e^{\\left(i \\, K_{\\mathit{vacuum}} x\\right)} - i \\, \\mathit{A1}_{y} K_{\\mathit{vacuum}} e^{\\left(-i \\, K_{\\mathit{vacuum}} x\\right)} - i \\, {\\left(\\mathit{A2}_{x} e^{\\left(i \\, K_{\\mathit{vacuum}} x\\right)} + \\mathit{A1}_{x} e^{\\left(-i \\, K_{\\mathit{vacuum}} x\\right)}\\right)} k_{y}\\right)} c k_{y}}{\\omega} - \\frac{{\\left(-i \\, \\mathit{A2}_{z} K_{\\mathit{vacuum}} e^{\\left(i \\, K_{\\mathit{vacuum}} x\\right)} + i \\, \\mathit{A1}_{z} K_{\\mathit{vacuum}} e^{\\left(-i \\, K_{\\mathit{vacuum}} x\\right)} + i \\, {\\left(\\mathit{A2}_{x} e^{\\left(i \\, K_{\\mathit{vacuum}} x\\right)} + \\mathit{A1}_{x} e^{\\left(-i \\, K_{\\mathit{vacuum}} x\\right)}\\right)} k_{z}\\right)} c k_{z}}{\\omega} = -\\frac{i \\, {\\left(\\mathit{A2}_{x} e^{\\left(i \\, K_{\\mathit{vacuum}} x\\right)} + \\mathit{A1}_{x} e^{\\left(-i \\, K_{\\mathit{vacuum}} x\\right)}\\right)} \\omega}{c}$"
      ],
      "text/plain": [
       "<IPython.core.display.Math object>"
      ]
     },
     "metadata": {},
     "output_type": "display_data"
    },
    {
     "name": "stdout",
     "output_type": "stream",
     "text": [
      "eq_rot_H_inner_vacuum_sol_y =\n"
     ]
    },
    {
     "data": {
      "text/latex": [
       "$\\displaystyle \\frac{{\\left(i \\, {\\left(\\mathit{A2}_{z} e^{\\left(i \\, K_{\\mathit{vacuum}} x\\right)} + \\mathit{A1}_{z} e^{\\left(-i \\, K_{\\mathit{vacuum}} x\\right)}\\right)} k_{y} - i \\, {\\left(\\mathit{A2}_{y} e^{\\left(i \\, K_{\\mathit{vacuum}} x\\right)} + \\mathit{A1}_{y} e^{\\left(-i \\, K_{\\mathit{vacuum}} x\\right)}\\right)} k_{z}\\right)} c k_{z}}{\\omega} - \\frac{i \\, {\\left(\\mathit{A2}_{y} K_{\\mathit{vacuum}}^{2} e^{\\left(i \\, K_{\\mathit{vacuum}} x\\right)} + \\mathit{A1}_{y} K_{\\mathit{vacuum}}^{2} e^{\\left(-i \\, K_{\\mathit{vacuum}} x\\right)} + i \\, {\\left(i \\, \\mathit{A2}_{x} K_{\\mathit{vacuum}} e^{\\left(i \\, K_{\\mathit{vacuum}} x\\right)} - i \\, \\mathit{A1}_{x} K_{\\mathit{vacuum}} e^{\\left(-i \\, K_{\\mathit{vacuum}} x\\right)}\\right)} k_{y}\\right)} c}{\\omega} = -\\frac{i \\, {\\left(\\mathit{A2}_{y} e^{\\left(i \\, K_{\\mathit{vacuum}} x\\right)} + \\mathit{A1}_{y} e^{\\left(-i \\, K_{\\mathit{vacuum}} x\\right)}\\right)} \\omega}{c}$"
      ],
      "text/plain": [
       "<IPython.core.display.Math object>"
      ]
     },
     "metadata": {},
     "output_type": "display_data"
    },
    {
     "name": "stdout",
     "output_type": "stream",
     "text": [
      "eq_rot_H_inner_vacuum_sol_z =\n"
     ]
    },
    {
     "data": {
      "text/latex": [
       "$\\displaystyle -\\frac{{\\left(i \\, {\\left(\\mathit{A2}_{z} e^{\\left(i \\, K_{\\mathit{vacuum}} x\\right)} + \\mathit{A1}_{z} e^{\\left(-i \\, K_{\\mathit{vacuum}} x\\right)}\\right)} k_{y} - i \\, {\\left(\\mathit{A2}_{y} e^{\\left(i \\, K_{\\mathit{vacuum}} x\\right)} + \\mathit{A1}_{y} e^{\\left(-i \\, K_{\\mathit{vacuum}} x\\right)}\\right)} k_{z}\\right)} c k_{y}}{\\omega} - \\frac{i \\, {\\left(\\mathit{A2}_{z} K_{\\mathit{vacuum}}^{2} e^{\\left(i \\, K_{\\mathit{vacuum}} x\\right)} + \\mathit{A1}_{z} K_{\\mathit{vacuum}}^{2} e^{\\left(-i \\, K_{\\mathit{vacuum}} x\\right)} + i \\, {\\left(i \\, \\mathit{A2}_{x} K_{\\mathit{vacuum}} e^{\\left(i \\, K_{\\mathit{vacuum}} x\\right)} - i \\, \\mathit{A1}_{x} K_{\\mathit{vacuum}} e^{\\left(-i \\, K_{\\mathit{vacuum}} x\\right)}\\right)} k_{z}\\right)} c}{\\omega} = -\\frac{i \\, {\\left(\\mathit{A2}_{z} e^{\\left(i \\, K_{\\mathit{vacuum}} x\\right)} + \\mathit{A1}_{z} e^{\\left(-i \\, K_{\\mathit{vacuum}} x\\right)}\\right)} \\omega}{c}$"
      ],
      "text/plain": [
       "<IPython.core.display.Math object>"
      ]
     },
     "metadata": {},
     "output_type": "display_data"
    }
   ],
   "source": [
    "print (\"eq_rot_H_inner_vacuum_sol_x =\")\n",
    "display(Math(latex(eq_rot_H_inner_vacuum_sol_x.simplify())))\n",
    "\n",
    "print (\"eq_rot_H_inner_vacuum_sol_y =\")\n",
    "display(Math(latex(eq_rot_H_inner_vacuum_sol_y.simplify())))\n",
    "\n",
    "print (\"eq_rot_H_inner_vacuum_sol_z =\")\n",
    "display(Math(latex(eq_rot_H_inner_vacuum_sol_z.simplify())))"
   ]
  },
  {
   "cell_type": "raw",
   "metadata": {},
   "source": [
    "print (\"eq_rot_H_inner_vacuum_x =\")\n",
    "display(Math(latex(eq_rot_H_inner_vacuum_x.simplify())))\n",
    "\n",
    "print (\"eq_rot_H_inner_vacuum_y =\")\n",
    "display(Math(latex(eq_rot_H_inner_vacuum_y.simplify())))\n",
    "\n",
    "print (\"eq_rot_H_inner_vacuum_z =\")\n",
    "display(Math(latex(eq_rot_H_inner_vacuum_z.simplify())))"
   ]
  },
  {
   "cell_type": "raw",
   "metadata": {},
   "source": [
    "print (\"eq_rot_H_bad_conductor_sol_x =\")\n",
    "display(Math(latex(eq_rot_H_bad_conductor_sol_x.simplify())))\n",
    "\n",
    "print (\"eq_rot_H_bad_conductor_sol_y =\")\n",
    "display(Math(latex(eq_rot_H_bad_conductor_sol_y.simplify())))\n",
    "\n",
    "print (\"eq_rot_H_bad_conductor_sol_z =\")\n",
    "display(Math(latex(eq_rot_H_bad_conductor_sol_z.simplify())))"
   ]
  },
  {
   "cell_type": "raw",
   "metadata": {},
   "source": [
    "print (\"eq_rot_H_bad_conductor_x =\")\n",
    "display(Math(latex(eq_rot_H_bad_conductor_x.simplify())))\n",
    "\n",
    "print (\"eq_rot_H_bad_conductor_y =\")\n",
    "display(Math(latex(eq_rot_H_bad_conductor_y.simplify())))\n",
    "\n",
    "print (\"eq_rot_H_bad_conductor_z =\")\n",
    "display(Math(latex(eq_rot_H_bad_conductor_z.simplify())))"
   ]
  },
  {
   "cell_type": "raw",
   "metadata": {},
   "source": [
    "print (\"eq_rot_H_inner_vacuum_x =\")\n",
    "eq_rot_H_inner_vacuum_x_subs = eq_rot_H_inner_vacuum_x.subs(omega==c*kappa_vacuum/sqrt(epsilon_0*mu_0))\n",
    "eq_rot_H_inner_vacuum_x_subs_solve = solve(eq_rot_H_inner_vacuum_x_subs, E_inner_vacuum_x(x))\n",
    "display(Math(latex(eq_rot_H_inner_vacuum_x_subs_solve)))\n",
    "\n",
    "print (\"H_inner_vacuum_y  (x) =\")\n",
    "H_inner_vacuum_subs_y = H_inner_vacuum_y.subs(omega==c*kappa_vacuum/sqrt(epsilon_0*mu_0), eq_rot_H_inner_vacuum_x_subs_solve)\n",
    "display(Math(latex(H_inner_vacuum_subs_y)))\n",
    "\n",
    "print (\"eq_rot_H_bad_conductor_x =\")\n",
    "eq_rot_H_bad_conductor_x_subs = eq_rot_H_bad_conductor_x.subs(omega==c*kappa/sqrt(epsilon*mu))\n",
    "eq_rot_H_bad_conductor_x_subs_solve = solve(eq_rot_H_bad_conductor_x_subs, E_bad_conductor_x(x))\n",
    "display(Math(latex(eq_rot_H_bad_conductor_x_subs_solve)))\n",
    "\n",
    "print (\"H_bad_conductor_y (x) =\")\n",
    "H_bad_conductor_subs_y = H_bad_conductor_y.subs(omega==c*kappa/sqrt(epsilon*mu), eq_rot_H_bad_conductor_x_subs_solve)\n",
    "display(Math(latex(H_bad_conductor_subs_y)))"
   ]
  },
  {
   "cell_type": "raw",
   "metadata": {},
   "source": [
    "res = solve(eq_kappa_inner_vacuum, kappa_vacuum)\n",
    "display(Math(latex(res)))"
   ]
  },
  {
   "cell_type": "raw",
   "metadata": {},
   "source": [
    "E_inner_vacuum_sol_z(-a)"
   ]
  },
  {
   "cell_type": "code",
   "execution_count": null,
   "metadata": {},
   "outputs": [],
   "source": []
  },
  {
   "cell_type": "code",
   "execution_count": 25,
   "metadata": {},
   "outputs": [],
   "source": [
    "# выражения для электрического поля\n",
    "# в вакууме внутри резонатора \n",
    "#    E_inner_vacuum_z (x) = A1_z_re*cos(sqrt(kappa_vacuum^2-k_z^2)*x) + A1_z_im*sin(sqrt(kappa_vacuum^2-k_z^2)*x)\n",
    "#    E_inner_vacuum_x (x) = A1_x_re*cos(sqrt(kappa_vacuum^2-k_z^2)*x) + A1_x_im*sin(sqrt(kappa_vacuum^2-k_z^2)*x)\n",
    "#    E_inner_vacuum_y (x) = A1_y_re*cos(sqrt(kappa_vacuum^2-k_z^2)*x) + A1_y_im*sin(sqrt(kappa_vacuum^2-k_z^2)*x)\n"
   ]
  },
  {
   "cell_type": "code",
   "execution_count": null,
   "metadata": {},
   "outputs": [],
   "source": []
  },
  {
   "cell_type": "code",
   "execution_count": 26,
   "metadata": {},
   "outputs": [
    {
     "name": "stdout",
     "output_type": "stream",
     "text": [
      "eqEz_r = \n"
     ]
    },
    {
     "data": {
      "text/latex": [
       "$\\displaystyle \\mathit{B1}_{\\mathit{zr}} e^{\\left(i \\, K_{\\mathit{right}_{\\mathit{conductor}}} a\\right)} = \\mathit{A2}_{z} e^{\\left(i \\, K_{\\mathit{vacuum}} a\\right)} + \\mathit{A1}_{z} e^{\\left(-i \\, K_{\\mathit{vacuum}} a\\right)}$"
      ],
      "text/plain": [
       "<IPython.core.display.Math object>"
      ]
     },
     "metadata": {},
     "output_type": "display_data"
    },
    {
     "name": "stdout",
     "output_type": "stream",
     "text": [
      "eqEy_r = \n"
     ]
    },
    {
     "data": {
      "text/latex": [
       "$\\displaystyle \\mathit{B1}_{\\mathit{yr}} e^{\\left(i \\, K_{\\mathit{right}_{\\mathit{conductor}}} a\\right)} = \\mathit{A2}_{y} e^{\\left(i \\, K_{\\mathit{vacuum}} a\\right)} + \\mathit{A1}_{y} e^{\\left(-i \\, K_{\\mathit{vacuum}} a\\right)}$"
      ],
      "text/plain": [
       "<IPython.core.display.Math object>"
      ]
     },
     "metadata": {},
     "output_type": "display_data"
    }
   ],
   "source": [
    "# граничные условия на границе вакуума внутри резонатора и проводящего металла с потерями\n",
    "# тангенциальная компонента электрического поля\n",
    "eqEz_r = E_right_conductor_sol_z(a) == E_inner_vacuum_sol_z(a)\n",
    "eqEy_r = E_right_conductor_sol_y(a) == E_inner_vacuum_sol_y(a)\n",
    "\n",
    "print (\"eqEz_r = \")\n",
    "display(Math(latex(eqEz_r)))\n",
    "print (\"eqEy_r = \")\n",
    "display(Math(latex(eqEy_r)))"
   ]
  },
  {
   "cell_type": "code",
   "execution_count": 27,
   "metadata": {},
   "outputs": [
    {
     "name": "stdout",
     "output_type": "stream",
     "text": [
      "eqEz_l = \n"
     ]
    },
    {
     "data": {
      "text/latex": [
       "$\\displaystyle \\mathit{B1}_{\\mathit{zl}} e^{\\left(i \\, K_{\\mathit{left}_{\\mathit{conductor}}} a\\right)} = \\mathit{A1}_{z} e^{\\left(i \\, K_{\\mathit{vacuum}} a\\right)} + \\mathit{A2}_{z} e^{\\left(-i \\, K_{\\mathit{vacuum}} a\\right)}$"
      ],
      "text/plain": [
       "<IPython.core.display.Math object>"
      ]
     },
     "metadata": {},
     "output_type": "display_data"
    },
    {
     "name": "stdout",
     "output_type": "stream",
     "text": [
      "eqEy_l = \n"
     ]
    },
    {
     "data": {
      "text/latex": [
       "$\\displaystyle \\mathit{B1}_{\\mathit{yl}} e^{\\left(i \\, K_{\\mathit{left}_{\\mathit{conductor}}} a\\right)} = \\mathit{A1}_{y} e^{\\left(i \\, K_{\\mathit{vacuum}} a\\right)} + \\mathit{A2}_{y} e^{\\left(-i \\, K_{\\mathit{vacuum}} a\\right)}$"
      ],
      "text/plain": [
       "<IPython.core.display.Math object>"
      ]
     },
     "metadata": {},
     "output_type": "display_data"
    }
   ],
   "source": [
    "# граничные условия на границе вакуума внутри резонатора и проводящего металла с потерями\n",
    "# тангенциальная компонента электрического поля\n",
    "eqEz_l = E_left_conductor_sol_z(-a) == E_inner_vacuum_sol_z(-a)\n",
    "eqEy_l = E_left_conductor_sol_y(-a) == E_inner_vacuum_sol_y(-a)\n",
    "\n",
    "print (\"eqEz_l = \")\n",
    "display(Math(latex(eqEz_l)))\n",
    "print (\"eqEy_l = \")\n",
    "display(Math(latex(eqEy_l)))"
   ]
  },
  {
   "cell_type": "raw",
   "metadata": {},
   "source": [
    "# нормальная компонента электрического смещения\n",
    "eqDx_a = E_inner_vacuum_sol_x(a) == E_bad_conductor_sol_x(a) * epsilon_complex\n",
    "\n",
    "print (\"eqDx_a =\")\n",
    "display(Math(latex(eqDx_a)))"
   ]
  },
  {
   "cell_type": "code",
   "execution_count": 28,
   "metadata": {},
   "outputs": [
    {
     "name": "stdout",
     "output_type": "stream",
     "text": [
      "eqHz_l =\n"
     ]
    },
    {
     "data": {
      "text/latex": [
       "$\\displaystyle -\\frac{i \\, {\\left(-i \\, \\mathit{B1}_{\\mathit{yl}} K_{\\mathit{left}_{\\mathit{conductor}}} e^{\\left(i \\, K_{\\mathit{left}_{\\mathit{conductor}}} a\\right)} - i \\, \\mathit{B1}_{\\mathit{xl}} k_{y} e^{\\left(i \\, K_{\\mathit{left}_{\\mathit{conductor}}} a\\right)}\\right)} c}{\\mu_{l} \\omega} = -\\frac{i \\, {\\left(-i \\, \\mathit{A1}_{y} K_{\\mathit{vacuum}} e^{\\left(i \\, K_{\\mathit{vacuum}} a\\right)} + i \\, \\mathit{A2}_{y} K_{\\mathit{vacuum}} e^{\\left(-i \\, K_{\\mathit{vacuum}} a\\right)} - i \\, {\\left(\\mathit{A1}_{x} e^{\\left(i \\, K_{\\mathit{vacuum}} a\\right)} + \\mathit{A2}_{x} e^{\\left(-i \\, K_{\\mathit{vacuum}} a\\right)}\\right)} k_{y}\\right)} c}{\\omega}$"
      ],
      "text/plain": [
       "<IPython.core.display.Math object>"
      ]
     },
     "metadata": {},
     "output_type": "display_data"
    },
    {
     "name": "stdout",
     "output_type": "stream",
     "text": [
      "eqHy_l =\n"
     ]
    },
    {
     "data": {
      "text/latex": [
       "$\\displaystyle -\\frac{i \\, {\\left(i \\, \\mathit{B1}_{\\mathit{zl}} K_{\\mathit{left}_{\\mathit{conductor}}} e^{\\left(i \\, K_{\\mathit{left}_{\\mathit{conductor}}} a\\right)} + i \\, \\mathit{B1}_{\\mathit{xl}} k_{z} e^{\\left(i \\, K_{\\mathit{left}_{\\mathit{conductor}}} a\\right)}\\right)} c}{\\mu_{l} \\omega} = -\\frac{i \\, {\\left(i \\, \\mathit{A1}_{z} K_{\\mathit{vacuum}} e^{\\left(i \\, K_{\\mathit{vacuum}} a\\right)} - i \\, \\mathit{A2}_{z} K_{\\mathit{vacuum}} e^{\\left(-i \\, K_{\\mathit{vacuum}} a\\right)} + i \\, {\\left(\\mathit{A1}_{x} e^{\\left(i \\, K_{\\mathit{vacuum}} a\\right)} + \\mathit{A2}_{x} e^{\\left(-i \\, K_{\\mathit{vacuum}} a\\right)}\\right)} k_{z}\\right)} c}{\\omega}$"
      ],
      "text/plain": [
       "<IPython.core.display.Math object>"
      ]
     },
     "metadata": {},
     "output_type": "display_data"
    }
   ],
   "source": [
    "# тангенциальная компонента напряженности магнитного поля\n",
    "eqHz_l  = (H_left_conductor_sol_z(-a)  == H_inner_vacuum_sol_z(-a))\n",
    "eqHy_l  = (H_left_conductor_sol_y(-a)  == H_inner_vacuum_sol_y(-a))\n",
    "\n",
    "print (\"eqHz_l =\")\n",
    "display(Math(latex(eqHz_l)))\n",
    "print (\"eqHy_l =\")\n",
    "display(Math(latex(eqHy_l)))"
   ]
  },
  {
   "cell_type": "code",
   "execution_count": 29,
   "metadata": {},
   "outputs": [
    {
     "name": "stdout",
     "output_type": "stream",
     "text": [
      "eqHz_r =\n"
     ]
    },
    {
     "data": {
      "text/latex": [
       "$\\displaystyle -\\frac{i \\, {\\left(i \\, \\mathit{B1}_{\\mathit{yr}} K_{\\mathit{right}_{\\mathit{conductor}}} e^{\\left(i \\, K_{\\mathit{right}_{\\mathit{conductor}}} a\\right)} - i \\, \\mathit{B1}_{\\mathit{xr}} k_{y} e^{\\left(i \\, K_{\\mathit{right}_{\\mathit{conductor}}} a\\right)}\\right)} c}{\\mu_{r} \\omega} = -\\frac{i \\, {\\left(i \\, \\mathit{A2}_{y} K_{\\mathit{vacuum}} e^{\\left(i \\, K_{\\mathit{vacuum}} a\\right)} - i \\, \\mathit{A1}_{y} K_{\\mathit{vacuum}} e^{\\left(-i \\, K_{\\mathit{vacuum}} a\\right)} - i \\, {\\left(\\mathit{A2}_{x} e^{\\left(i \\, K_{\\mathit{vacuum}} a\\right)} + \\mathit{A1}_{x} e^{\\left(-i \\, K_{\\mathit{vacuum}} a\\right)}\\right)} k_{y}\\right)} c}{\\omega}$"
      ],
      "text/plain": [
       "<IPython.core.display.Math object>"
      ]
     },
     "metadata": {},
     "output_type": "display_data"
    },
    {
     "name": "stdout",
     "output_type": "stream",
     "text": [
      "eqHy_r =\n"
     ]
    },
    {
     "data": {
      "text/latex": [
       "$\\displaystyle -\\frac{i \\, {\\left(-i \\, \\mathit{B1}_{\\mathit{zr}} K_{\\mathit{right}_{\\mathit{conductor}}} e^{\\left(i \\, K_{\\mathit{right}_{\\mathit{conductor}}} a\\right)} + i \\, \\mathit{B1}_{\\mathit{xr}} k_{z} e^{\\left(i \\, K_{\\mathit{right}_{\\mathit{conductor}}} a\\right)}\\right)} c}{\\mu_{r} \\omega} = -\\frac{i \\, {\\left(-i \\, \\mathit{A2}_{z} K_{\\mathit{vacuum}} e^{\\left(i \\, K_{\\mathit{vacuum}} a\\right)} + i \\, \\mathit{A1}_{z} K_{\\mathit{vacuum}} e^{\\left(-i \\, K_{\\mathit{vacuum}} a\\right)} + i \\, {\\left(\\mathit{A2}_{x} e^{\\left(i \\, K_{\\mathit{vacuum}} a\\right)} + \\mathit{A1}_{x} e^{\\left(-i \\, K_{\\mathit{vacuum}} a\\right)}\\right)} k_{z}\\right)} c}{\\omega}$"
      ],
      "text/plain": [
       "<IPython.core.display.Math object>"
      ]
     },
     "metadata": {},
     "output_type": "display_data"
    }
   ],
   "source": [
    "# тангенциальная компонента напряженности магнитного поля\n",
    "eqHz_r  = (H_right_conductor_sol_z(a)  == H_inner_vacuum_sol_z(a))\n",
    "eqHy_r  = (H_right_conductor_sol_y(a)  == H_inner_vacuum_sol_y(a))\n",
    "\n",
    "print (\"eqHz_r =\")\n",
    "display(Math(latex(eqHz_r)))\n",
    "print (\"eqHy_r =\")\n",
    "display(Math(latex(eqHy_r)))"
   ]
  },
  {
   "cell_type": "code",
   "execution_count": 30,
   "metadata": {},
   "outputs": [
    {
     "name": "stdout",
     "output_type": "stream",
     "text": [
      "eqBx_l =\n"
     ]
    },
    {
     "data": {
      "text/latex": [
       "$\\displaystyle -\\frac{i \\, {\\left(i \\, \\mathit{B1}_{\\mathit{zl}} k_{y} e^{\\left(i \\, K_{\\mathit{left}_{\\mathit{conductor}}} a\\right)} - i \\, \\mathit{B1}_{\\mathit{yl}} k_{z} e^{\\left(i \\, K_{\\mathit{left}_{\\mathit{conductor}}} a\\right)}\\right)} c}{\\omega} = -\\frac{i \\, {\\left(i \\, {\\left(\\mathit{A1}_{z} e^{\\left(i \\, K_{\\mathit{vacuum}} a\\right)} + \\mathit{A2}_{z} e^{\\left(-i \\, K_{\\mathit{vacuum}} a\\right)}\\right)} k_{y} - i \\, {\\left(\\mathit{A1}_{y} e^{\\left(i \\, K_{\\mathit{vacuum}} a\\right)} + \\mathit{A2}_{y} e^{\\left(-i \\, K_{\\mathit{vacuum}} a\\right)}\\right)} k_{z}\\right)} c}{\\omega}$"
      ],
      "text/plain": [
       "<IPython.core.display.Math object>"
      ]
     },
     "metadata": {},
     "output_type": "display_data"
    }
   ],
   "source": [
    "# нормальная компонента индукции магнитного поля\n",
    "eqBx_l  = mu_l * H_left_conductor_sol_x (-a)  == H_inner_vacuum_sol_x (-a)\n",
    "\n",
    "print (\"eqBx_l =\")\n",
    "display(Math(latex(eqBx_l)))"
   ]
  },
  {
   "cell_type": "code",
   "execution_count": 31,
   "metadata": {},
   "outputs": [
    {
     "name": "stdout",
     "output_type": "stream",
     "text": [
      "eqBx_r =\n"
     ]
    },
    {
     "data": {
      "text/latex": [
       "$\\displaystyle -\\frac{i \\, {\\left(i \\, \\mathit{B1}_{\\mathit{zr}} k_{y} e^{\\left(i \\, K_{\\mathit{right}_{\\mathit{conductor}}} a\\right)} - i \\, \\mathit{B1}_{\\mathit{yr}} k_{z} e^{\\left(i \\, K_{\\mathit{right}_{\\mathit{conductor}}} a\\right)}\\right)} c}{\\omega} = -\\frac{i \\, {\\left(i \\, {\\left(\\mathit{A2}_{z} e^{\\left(i \\, K_{\\mathit{vacuum}} a\\right)} + \\mathit{A1}_{z} e^{\\left(-i \\, K_{\\mathit{vacuum}} a\\right)}\\right)} k_{y} - i \\, {\\left(\\mathit{A2}_{y} e^{\\left(i \\, K_{\\mathit{vacuum}} a\\right)} + \\mathit{A1}_{y} e^{\\left(-i \\, K_{\\mathit{vacuum}} a\\right)}\\right)} k_{z}\\right)} c}{\\omega}$"
      ],
      "text/plain": [
       "<IPython.core.display.Math object>"
      ]
     },
     "metadata": {},
     "output_type": "display_data"
    }
   ],
   "source": [
    "# нормальная компонента индукции магнитного поля\n",
    "eqBx_r  = mu_r * H_right_conductor_sol_x (a)  == H_inner_vacuum_sol_x (a)\n",
    "\n",
    "print (\"eqBx_r =\")\n",
    "display(Math(latex(eqBx_r)))"
   ]
  },
  {
   "cell_type": "code",
   "execution_count": 32,
   "metadata": {},
   "outputs": [
    {
     "name": "stdout",
     "output_type": "stream",
     "text": [
      "eq_rot_H_inner_vacuum_y rot H (E_y) =\n",
      "I*k_z*H_inner_vacuum_f_x(x) - diff(H_inner_vacuum_f_z(x), x) == -I*omega*E_inner_vacuum_y(x)/c\n"
     ]
    },
    {
     "data": {
      "text/latex": [
       "$\\displaystyle i \\, k_{z} H_{{\\rm inner}_{{\\rm vacuum}_{f_{x}}}}\\left(x\\right) - \\frac{\\partial}{\\partial x}H_{{\\rm inner}_{{\\rm vacuum}_{f_{z}}}}\\left(x\\right) = -\\frac{i \\, \\omega E_{{\\rm inner}_{{\\rm vacuum}_{y}}}\\left(x\\right)}{c}$"
      ],
      "text/plain": [
       "<IPython.core.display.Math object>"
      ]
     },
     "metadata": {},
     "output_type": "display_data"
    },
    {
     "name": "stdout",
     "output_type": "stream",
     "text": [
      "eq_rot_H_inner_vacuum_y_subs_solve rot H (E_y) =\n",
      "kappa_vacuum*E_inner_vacuum_y(x) == -k_z*H_inner_vacuum_f_x(x) - I*diff(H_inner_vacuum_f_z(x), x)\n"
     ]
    },
    {
     "data": {
      "text/latex": [
       "$\\displaystyle \\kappa_{\\mathit{vacuum}} E_{{\\rm inner}_{{\\rm vacuum}_{y}}}\\left(x\\right) = -k_{z} H_{{\\rm inner}_{{\\rm vacuum}_{f_{x}}}}\\left(x\\right) - i \\, \\frac{\\partial}{\\partial x}H_{{\\rm inner}_{{\\rm vacuum}_{f_{z}}}}\\left(x\\right)$"
      ],
      "text/plain": [
       "<IPython.core.display.Math object>"
      ]
     },
     "metadata": {},
     "output_type": "display_data"
    },
    {
     "name": "stdout",
     "output_type": "stream",
     "text": [
      "eq_rot_E_inner_vacuum_x_subs (x) rot E =\n",
      "kappa_vacuum*H_inner_vacuum_f_x(x) == -k_z*E_inner_vacuum_y(x) + k_y*E_inner_vacuum_z(x)\n"
     ]
    },
    {
     "data": {
      "text/latex": [
       "$\\displaystyle \\kappa_{\\mathit{vacuum}} H_{{\\rm inner}_{{\\rm vacuum}_{f_{x}}}}\\left(x\\right) = -k_{z} E_{{\\rm inner}_{{\\rm vacuum}_{y}}}\\left(x\\right) + k_{y} E_{{\\rm inner}_{{\\rm vacuum}_{z}}}\\left(x\\right)$"
      ],
      "text/plain": [
       "<IPython.core.display.Math object>"
      ]
     },
     "metadata": {},
     "output_type": "display_data"
    },
    {
     "name": "stdout",
     "output_type": "stream",
     "text": [
      "eq_rot_H_inner_vacuum_y_subs_solve_m =\n",
      "kappa_vacuum*E_inner_vacuum_y(x) + k_z*H_inner_vacuum_f_x(x) == -I*diff(H_inner_vacuum_f_z(x), x)\n"
     ]
    },
    {
     "data": {
      "text/latex": [
       "$\\displaystyle \\kappa_{\\mathit{vacuum}} E_{{\\rm inner}_{{\\rm vacuum}_{y}}}\\left(x\\right) + k_{z} H_{{\\rm inner}_{{\\rm vacuum}_{f_{x}}}}\\left(x\\right) = -i \\, \\frac{\\partial}{\\partial x}H_{{\\rm inner}_{{\\rm vacuum}_{f_{z}}}}\\left(x\\right)$"
      ],
      "text/plain": [
       "<IPython.core.display.Math object>"
      ]
     },
     "metadata": {},
     "output_type": "display_data"
    },
    {
     "name": "stdout",
     "output_type": "stream",
     "text": [
      "eq_rot_E_inner_vacuum_x_subs_m =\n",
      "k_z*E_inner_vacuum_y(x) + kappa_vacuum*H_inner_vacuum_f_x(x) == k_y*E_inner_vacuum_z(x)\n"
     ]
    },
    {
     "data": {
      "text/latex": [
       "$\\displaystyle k_{z} E_{{\\rm inner}_{{\\rm vacuum}_{y}}}\\left(x\\right) + \\kappa_{\\mathit{vacuum}} H_{{\\rm inner}_{{\\rm vacuum}_{f_{x}}}}\\left(x\\right) = k_{y} E_{{\\rm inner}_{{\\rm vacuum}_{z}}}\\left(x\\right)$"
      ],
      "text/plain": [
       "<IPython.core.display.Math object>"
      ]
     },
     "metadata": {},
     "output_type": "display_data"
    },
    {
     "name": "stdout",
     "output_type": "stream",
     "text": [
      "eq_1 =\n",
      "-(k_z^2 - kappa_vacuum^2)*E_inner_vacuum_y(x) == -k_y*k_z*E_inner_vacuum_z(x) - I*kappa_vacuum*diff(H_inner_vacuum_f_z(x), x)\n"
     ]
    },
    {
     "data": {
      "text/latex": [
       "$\\displaystyle -{\\left(k_{z}^{2} - \\kappa_{\\mathit{vacuum}}^{2}\\right)} E_{{\\rm inner}_{{\\rm vacuum}_{y}}}\\left(x\\right) = -k_{y} k_{z} E_{{\\rm inner}_{{\\rm vacuum}_{z}}}\\left(x\\right) - i \\, \\kappa_{\\mathit{vacuum}} \\frac{\\partial}{\\partial x}H_{{\\rm inner}_{{\\rm vacuum}_{f_{z}}}}\\left(x\\right)$"
      ],
      "text/plain": [
       "<IPython.core.display.Math object>"
      ]
     },
     "metadata": {},
     "output_type": "display_data"
    },
    {
     "name": "stdout",
     "output_type": "stream",
     "text": [
      "eq_2 =\n",
      "(k_z^2 - kappa_vacuum^2)*H_inner_vacuum_f_x(x) == -k_y*kappa_vacuum*E_inner_vacuum_z(x) - I*k_z*diff(H_inner_vacuum_f_z(x), x)\n"
     ]
    },
    {
     "data": {
      "text/latex": [
       "$\\displaystyle {\\left(k_{z}^{2} - \\kappa_{\\mathit{vacuum}}^{2}\\right)} H_{{\\rm inner}_{{\\rm vacuum}_{f_{x}}}}\\left(x\\right) = -k_{y} \\kappa_{\\mathit{vacuum}} E_{{\\rm inner}_{{\\rm vacuum}_{z}}}\\left(x\\right) - i \\, k_{z} \\frac{\\partial}{\\partial x}H_{{\\rm inner}_{{\\rm vacuum}_{f_{z}}}}\\left(x\\right)$"
      ],
      "text/plain": [
       "<IPython.core.display.Math object>"
      ]
     },
     "metadata": {},
     "output_type": "display_data"
    }
   ],
   "source": [
    "eq_rot_H_inner_vacuum_y_subs       = eq_rot_H_inner_vacuum_y.subs(omega==c*kappa_vacuum/sqrt(epsilon_0*mu_0))\n",
    "print (\"eq_rot_H_inner_vacuum_y rot H (E_y) =\")\n",
    "print(eq_rot_H_inner_vacuum_y)\n",
    "display(Math(latex(eq_rot_H_inner_vacuum_y)))\n",
    "\n",
    "eq_rot_H_inner_vacuum_y_subs_solve = solve(eq_rot_H_inner_vacuum_y_subs, E_inner_vacuum_y(x))[0] * kappa_vacuum\n",
    "print (\"eq_rot_H_inner_vacuum_y_subs_solve rot H (E_y) =\")\n",
    "print(eq_rot_H_inner_vacuum_y_subs_solve)\n",
    "display(Math(latex(eq_rot_H_inner_vacuum_y_subs_solve)))\n",
    "\n",
    "eq_rot_E_inner_vacuum_x = H_inner_vacuum_f_x(x) == H_inner_vacuum_s_x(x)\n",
    "eq_rot_E_inner_vacuum_x_subs = eq_rot_E_inner_vacuum_x.subs(omega==c*kappa_vacuum/sqrt(epsilon_0*mu_0)) * kappa_vacuum\n",
    "print (\"eq_rot_E_inner_vacuum_x_subs (x) rot E =\")\n",
    "print             (eq_rot_E_inner_vacuum_x_subs)\n",
    "display(Math(latex(eq_rot_E_inner_vacuum_x_subs)))\n",
    "\n",
    "eq_rot_H_inner_vacuum_y_subs_solve_m \\\n",
    "    =  eq_rot_H_inner_vacuum_y_subs_solve.lhs() \\\n",
    "    -  eq_rot_H_inner_vacuum_y_subs_solve.rhs().expand().operands()[0] \\\n",
    "    == eq_rot_H_inner_vacuum_y_subs_solve.rhs().expand().operands()[1]\n",
    "print (\"eq_rot_H_inner_vacuum_y_subs_solve_m =\")\n",
    "print             (eq_rot_H_inner_vacuum_y_subs_solve_m)\n",
    "display(Math(latex(eq_rot_H_inner_vacuum_y_subs_solve_m)))\n",
    "\n",
    "eq_rot_E_inner_vacuum_x_subs_m \\\n",
    "    =  eq_rot_E_inner_vacuum_x_subs.lhs() \\\n",
    "    -  eq_rot_E_inner_vacuum_x_subs.rhs().expand().operands()[0] \\\n",
    "    == eq_rot_E_inner_vacuum_x_subs.rhs().expand().operands()[1]\n",
    "print (\"eq_rot_E_inner_vacuum_x_subs_m =\")\n",
    "print             (eq_rot_E_inner_vacuum_x_subs_m)\n",
    "display(Math(latex(eq_rot_E_inner_vacuum_x_subs_m)))\n",
    "\n",
    "eq_1 = (eq_rot_H_inner_vacuum_y_subs_solve_m*kappa_vacuum - eq_rot_E_inner_vacuum_x_subs_m*k_z).full_simplify()\n",
    "print (\"eq_1 =\")\n",
    "print             (eq_1)\n",
    "display(Math(latex(eq_1)))\n",
    "\n",
    "eq_2 = (eq_rot_H_inner_vacuum_y_subs_solve_m*k_z - eq_rot_E_inner_vacuum_x_subs_m*kappa_vacuum).full_simplify()\n",
    "print (\"eq_2 =\")\n",
    "print             (eq_2)\n",
    "display(Math(latex(eq_2)))"
   ]
  },
  {
   "cell_type": "raw",
   "metadata": {},
   "source": [
    "eq_rot_H_bad_conductor_y_subs       = eq_rot_H_bad_conductor_y.subs(omega==c*kappa/sqrt(epsilon*mu))\n",
    "print (\"eq_rot_H_bad_conductor_y rot_H = epsilon*d/dt(E_y) =\")\n",
    "print(eq_rot_H_bad_conductor_y)\n",
    "display(Math(latex(eq_rot_H_bad_conductor_y)))\n",
    "\n",
    "eq_rot_H_bad_conductor_y_subs_solve = solve(eq_rot_H_bad_conductor_y_subs, E_bad_conductor_y(x))[0] * kappa\n",
    "print (\"eq_rot_H_bad_conductor_y_subs_solve rot H = epsilon*d/dt(E_y) =\")\n",
    "print(eq_rot_H_bad_conductor_y_subs_solve)\n",
    "display(Math(latex(eq_rot_H_bad_conductor_y_subs_solve)))\n",
    "\n",
    "eq_rot_E_bad_conductor_x = H_bad_conductor_f_x(x) == H_bad_conductor_s_x(x)\n",
    "eq_rot_E_bad_conductor_x_subs = eq_rot_E_bad_conductor_x.subs(omega==c*kappa/sqrt(epsilon*mu)) * kappa\n",
    "print (\"eq_rot_E_bad_conductor_x_subs (x) rot E =\")\n",
    "print             (eq_rot_E_bad_conductor_x_subs)\n",
    "display(Math(latex(eq_rot_E_bad_conductor_x_subs)))\n",
    "\n",
    "eq_rot_H_bad_conductor_y_subs_solve_m \\\n",
    "    =  eq_rot_H_bad_conductor_y_subs_solve.lhs() \\\n",
    "    -  eq_rot_H_bad_conductor_y_subs_solve.rhs().expand().operands()[0] \\\n",
    "    == eq_rot_H_bad_conductor_y_subs_solve.rhs().expand().operands()[1]\n",
    "print (\"eq_rot_H_bad_conductor_y_subs_solve_m =\")\n",
    "print             (eq_rot_H_bad_conductor_y_subs_solve_m)\n",
    "display(Math(latex(eq_rot_H_bad_conductor_y_subs_solve_m)))\n",
    "\n",
    "eq_rot_E_bad_conductor_x_subs_m \\\n",
    "    =  eq_rot_E_bad_conductor_x_subs.lhs() \\\n",
    "    -  eq_rot_E_bad_conductor_x_subs.rhs().expand().operands()[0] \\\n",
    "    == eq_rot_E_bad_conductor_x_subs.rhs().expand().operands()[1]\n",
    "print (\"eq_rot_E_bad_conductor_x_subs_m =\")\n",
    "print             (eq_rot_E_bad_conductor_x_subs_m)\n",
    "display(Math(latex(eq_rot_E_bad_conductor_x_subs_m)))\n",
    "\n",
    "m3 = k_z*sqrt(mu)/sqrt(epsilon)\n",
    "m4 = sqrt(mu)*kappa/sqrt(epsilon)\n",
    "\n",
    "eq_3 = (eq_rot_H_bad_conductor_y_subs_solve_m*kappa - eq_rot_E_bad_conductor_x_subs_m * m3).full_simplify()\n",
    "print (\"eq_3 =\")\n",
    "print             (eq_3)\n",
    "display(Math(latex(eq_3)))\n",
    "\n",
    "eq_4 = (eq_rot_H_bad_conductor_y_subs_solve_m*k_z - eq_rot_E_bad_conductor_x_subs_m * m4).full_simplify()\n",
    "print (\"eq_4 =\")\n",
    "print             (eq_4)\n",
    "display(Math(latex(eq_4)))"
   ]
  },
  {
   "cell_type": "code",
   "execution_count": null,
   "metadata": {},
   "outputs": [],
   "source": []
  },
  {
   "cell_type": "code",
   "execution_count": 33,
   "metadata": {},
   "outputs": [
    {
     "name": "stdout",
     "output_type": "stream",
     "text": [
      "eq_rot_H_inner_vacuum_y rot H (E_x) =\n",
      "-I*k_z*H_inner_vacuum_f_y(x) + I*k_y*H_inner_vacuum_f_z(x) == -I*omega*E_inner_vacuum_x(x)/c\n"
     ]
    },
    {
     "data": {
      "text/latex": [
       "$\\displaystyle -i \\, k_{z} H_{{\\rm inner}_{{\\rm vacuum}_{f_{y}}}}\\left(x\\right) + i \\, k_{y} H_{{\\rm inner}_{{\\rm vacuum}_{f_{z}}}}\\left(x\\right) = -\\frac{i \\, \\omega E_{{\\rm inner}_{{\\rm vacuum}_{x}}}\\left(x\\right)}{c}$"
      ],
      "text/plain": [
       "<IPython.core.display.Math object>"
      ]
     },
     "metadata": {},
     "output_type": "display_data"
    },
    {
     "name": "stdout",
     "output_type": "stream",
     "text": [
      "eq_rot_H_inner_vacuum_x_subs_solve rot H (E_x) =\n",
      "kappa_vacuum*E_inner_vacuum_x(x) == k_z*H_inner_vacuum_f_y(x) - k_y*H_inner_vacuum_f_z(x)\n"
     ]
    },
    {
     "data": {
      "text/latex": [
       "$\\displaystyle \\kappa_{\\mathit{vacuum}} E_{{\\rm inner}_{{\\rm vacuum}_{x}}}\\left(x\\right) = k_{z} H_{{\\rm inner}_{{\\rm vacuum}_{f_{y}}}}\\left(x\\right) - k_{y} H_{{\\rm inner}_{{\\rm vacuum}_{f_{z}}}}\\left(x\\right)$"
      ],
      "text/plain": [
       "<IPython.core.display.Math object>"
      ]
     },
     "metadata": {},
     "output_type": "display_data"
    },
    {
     "name": "stdout",
     "output_type": "stream",
     "text": [
      "eq_rot_E_inner_vacuum_y_subs (x) rot E =\n",
      "kappa_vacuum*H_inner_vacuum_f_y(x) == k_z*E_inner_vacuum_x(x) + I*diff(E_inner_vacuum_z(x), x)\n"
     ]
    },
    {
     "data": {
      "text/latex": [
       "$\\displaystyle \\kappa_{\\mathit{vacuum}} H_{{\\rm inner}_{{\\rm vacuum}_{f_{y}}}}\\left(x\\right) = k_{z} E_{{\\rm inner}_{{\\rm vacuum}_{x}}}\\left(x\\right) + i \\, \\frac{\\partial}{\\partial x}E_{{\\rm inner}_{{\\rm vacuum}_{z}}}\\left(x\\right)$"
      ],
      "text/plain": [
       "<IPython.core.display.Math object>"
      ]
     },
     "metadata": {},
     "output_type": "display_data"
    },
    {
     "name": "stdout",
     "output_type": "stream",
     "text": [
      "eq_rot_H_inner_vacuum_x_subs_solve_m =\n",
      "kappa_vacuum*E_inner_vacuum_x(x) - k_z*H_inner_vacuum_f_y(x) == -k_y*H_inner_vacuum_f_z(x)\n"
     ]
    },
    {
     "data": {
      "text/latex": [
       "$\\displaystyle \\kappa_{\\mathit{vacuum}} E_{{\\rm inner}_{{\\rm vacuum}_{x}}}\\left(x\\right) - k_{z} H_{{\\rm inner}_{{\\rm vacuum}_{f_{y}}}}\\left(x\\right) = -k_{y} H_{{\\rm inner}_{{\\rm vacuum}_{f_{z}}}}\\left(x\\right)$"
      ],
      "text/plain": [
       "<IPython.core.display.Math object>"
      ]
     },
     "metadata": {},
     "output_type": "display_data"
    },
    {
     "name": "stdout",
     "output_type": "stream",
     "text": [
      "eq_rot_E_inner_vacuum_y_subs_m =\n",
      "-k_z*E_inner_vacuum_x(x) + kappa_vacuum*H_inner_vacuum_f_y(x) == I*diff(E_inner_vacuum_z(x), x)\n"
     ]
    },
    {
     "data": {
      "text/latex": [
       "$\\displaystyle -k_{z} E_{{\\rm inner}_{{\\rm vacuum}_{x}}}\\left(x\\right) + \\kappa_{\\mathit{vacuum}} H_{{\\rm inner}_{{\\rm vacuum}_{f_{y}}}}\\left(x\\right) = i \\, \\frac{\\partial}{\\partial x}E_{{\\rm inner}_{{\\rm vacuum}_{z}}}\\left(x\\right)$"
      ],
      "text/plain": [
       "<IPython.core.display.Math object>"
      ]
     },
     "metadata": {},
     "output_type": "display_data"
    },
    {
     "name": "stdout",
     "output_type": "stream",
     "text": [
      "eq_5 =\n",
      "-(k_z^2 - kappa_vacuum^2)*E_inner_vacuum_x(x) == -k_y*kappa_vacuum*H_inner_vacuum_f_z(x) + I*k_z*diff(E_inner_vacuum_z(x), x)\n"
     ]
    },
    {
     "data": {
      "text/latex": [
       "$\\displaystyle -{\\left(k_{z}^{2} - \\kappa_{\\mathit{vacuum}}^{2}\\right)} E_{{\\rm inner}_{{\\rm vacuum}_{x}}}\\left(x\\right) = -k_{y} \\kappa_{\\mathit{vacuum}} H_{{\\rm inner}_{{\\rm vacuum}_{f_{z}}}}\\left(x\\right) + i \\, k_{z} \\frac{\\partial}{\\partial x}E_{{\\rm inner}_{{\\rm vacuum}_{z}}}\\left(x\\right)$"
      ],
      "text/plain": [
       "<IPython.core.display.Math object>"
      ]
     },
     "metadata": {},
     "output_type": "display_data"
    },
    {
     "name": "stdout",
     "output_type": "stream",
     "text": [
      "eq_6 =\n",
      "-(k_z^2 - kappa_vacuum^2)*H_inner_vacuum_f_y(x) == -k_y*k_z*H_inner_vacuum_f_z(x) + I*kappa_vacuum*diff(E_inner_vacuum_z(x), x)\n"
     ]
    },
    {
     "data": {
      "text/latex": [
       "$\\displaystyle -{\\left(k_{z}^{2} - \\kappa_{\\mathit{vacuum}}^{2}\\right)} H_{{\\rm inner}_{{\\rm vacuum}_{f_{y}}}}\\left(x\\right) = -k_{y} k_{z} H_{{\\rm inner}_{{\\rm vacuum}_{f_{z}}}}\\left(x\\right) + i \\, \\kappa_{\\mathit{vacuum}} \\frac{\\partial}{\\partial x}E_{{\\rm inner}_{{\\rm vacuum}_{z}}}\\left(x\\right)$"
      ],
      "text/plain": [
       "<IPython.core.display.Math object>"
      ]
     },
     "metadata": {},
     "output_type": "display_data"
    }
   ],
   "source": [
    "eq_rot_H_inner_vacuum_x_subs       = eq_rot_H_inner_vacuum_x.subs(omega==c*kappa_vacuum/sqrt(epsilon_0*mu_0))\n",
    "print (\"eq_rot_H_inner_vacuum_y rot H (E_x) =\")\n",
    "print(eq_rot_H_inner_vacuum_x)\n",
    "display(Math(latex(eq_rot_H_inner_vacuum_x)))\n",
    "\n",
    "eq_rot_H_inner_vacuum_x_subs_solve = solve(eq_rot_H_inner_vacuum_x_subs, E_inner_vacuum_x(x))[0] * kappa_vacuum\n",
    "print (\"eq_rot_H_inner_vacuum_x_subs_solve rot H (E_x) =\")\n",
    "print(eq_rot_H_inner_vacuum_x_subs_solve)\n",
    "display(Math(latex(eq_rot_H_inner_vacuum_x_subs_solve)))\n",
    "\n",
    "eq_rot_E_inner_vacuum_y = H_inner_vacuum_f_y(x) == H_inner_vacuum_s_y(x)\n",
    "eq_rot_E_inner_vacuum_y_subs = eq_rot_E_inner_vacuum_y.subs(omega==c*kappa_vacuum/sqrt(epsilon_0*mu_0)) * kappa_vacuum\n",
    "print (\"eq_rot_E_inner_vacuum_y_subs (x) rot E =\")\n",
    "print             (eq_rot_E_inner_vacuum_y_subs)\n",
    "display(Math(latex(eq_rot_E_inner_vacuum_y_subs)))\n",
    "\n",
    "eq_rot_H_inner_vacuum_x_subs_solve_m \\\n",
    "    =  eq_rot_H_inner_vacuum_x_subs_solve.lhs() \\\n",
    "    -  eq_rot_H_inner_vacuum_x_subs_solve.rhs().expand().operands()[0] \\\n",
    "    == eq_rot_H_inner_vacuum_x_subs_solve.rhs().expand().operands()[1]\n",
    "print (\"eq_rot_H_inner_vacuum_x_subs_solve_m =\")\n",
    "print             (eq_rot_H_inner_vacuum_x_subs_solve_m)\n",
    "display(Math(latex(eq_rot_H_inner_vacuum_x_subs_solve_m)))\n",
    "\n",
    "eq_rot_E_inner_vacuum_y_subs_m \\\n",
    "    =  eq_rot_E_inner_vacuum_y_subs.lhs() \\\n",
    "    -  eq_rot_E_inner_vacuum_y_subs.rhs().expand().operands()[0] \\\n",
    "    == eq_rot_E_inner_vacuum_y_subs.rhs().expand().operands()[1]\n",
    "print (\"eq_rot_E_inner_vacuum_y_subs_m =\")\n",
    "print             (eq_rot_E_inner_vacuum_y_subs_m)\n",
    "display(Math(latex(eq_rot_E_inner_vacuum_y_subs_m)))\n",
    "\n",
    "eq_5 = (eq_rot_H_inner_vacuum_x_subs_solve_m*kappa_vacuum + eq_rot_E_inner_vacuum_y_subs_m*k_z).full_simplify()\n",
    "print (\"eq_5 =\")\n",
    "print             (eq_5)\n",
    "display(Math(latex(eq_5)))\n",
    "\n",
    "eq_6 = (eq_rot_H_inner_vacuum_x_subs_solve_m*k_z + eq_rot_E_inner_vacuum_y_subs_m*kappa_vacuum).full_simplify()\n",
    "print (\"eq_6 =\")\n",
    "print             (eq_6)\n",
    "display(Math(latex(eq_6)))"
   ]
  },
  {
   "cell_type": "code",
   "execution_count": 34,
   "metadata": {},
   "outputs": [
    {
     "name": "stdout",
     "output_type": "stream",
     "text": [
      "eq_rot_H_left_conductor_x rot_H = epsilon_l*d/dt(E_x) =\n",
      "-I*k_z*H_left_conductor_f_y(x) + I*k_y*H_left_conductor_f_z(x) == -I*epsilon_l*omega*E_left_conductor_x(x)/c\n"
     ]
    },
    {
     "data": {
      "text/latex": [
       "$\\displaystyle -i \\, k_{z} H_{{\\rm left}_{{\\rm conductor}_{f_{y}}}}\\left(x\\right) + i \\, k_{y} H_{{\\rm left}_{{\\rm conductor}_{f_{z}}}}\\left(x\\right) = -\\frac{i \\, \\epsilon_{l} \\omega E_{{\\rm left}_{{\\rm conductor}_{x}}}\\left(x\\right)}{c}$"
      ],
      "text/plain": [
       "<IPython.core.display.Math object>"
      ]
     },
     "metadata": {},
     "output_type": "display_data"
    },
    {
     "name": "stdout",
     "output_type": "stream",
     "text": [
      "eq_rot_H_left_conductor_x_subs rot_H = epsilon_l*d/dt(E_x) =\n",
      "-I*k_z*H_left_conductor_f_y(x) + I*k_y*H_left_conductor_f_z(x) == I*epsilon_l*kappa_l*E_left_conductor_x(x)/sqrt(epsilon_l*mu_l)\n"
     ]
    },
    {
     "data": {
      "text/latex": [
       "$\\displaystyle -i \\, k_{z} H_{{\\rm left}_{{\\rm conductor}_{f_{y}}}}\\left(x\\right) + i \\, k_{y} H_{{\\rm left}_{{\\rm conductor}_{f_{z}}}}\\left(x\\right) = \\frac{i \\, \\epsilon_{l} \\kappa_{l} E_{{\\rm left}_{{\\rm conductor}_{x}}}\\left(x\\right)}{\\sqrt{\\epsilon_{l} \\mu_{l}}}$"
      ],
      "text/plain": [
       "<IPython.core.display.Math object>"
      ]
     },
     "metadata": {},
     "output_type": "display_data"
    },
    {
     "name": "stdout",
     "output_type": "stream",
     "text": [
      "eq_rot_H_left_conductor_x_subs_solve rot H = epsilon_l*d/dt(E_x) =\n",
      "kappa_l*E_left_conductor_x(x) == -(sqrt(epsilon_l*mu_l)*k_z*H_left_conductor_f_y(x) - sqrt(epsilon_l*mu_l)*k_y*H_left_conductor_f_z(x))/epsilon_l\n"
     ]
    },
    {
     "data": {
      "text/latex": [
       "$\\displaystyle \\kappa_{l} E_{{\\rm left}_{{\\rm conductor}_{x}}}\\left(x\\right) = -\\frac{\\sqrt{\\epsilon_{l} \\mu_{l}} k_{z} H_{{\\rm left}_{{\\rm conductor}_{f_{y}}}}\\left(x\\right) - \\sqrt{\\epsilon_{l} \\mu_{l}} k_{y} H_{{\\rm left}_{{\\rm conductor}_{f_{z}}}}\\left(x\\right)}{\\epsilon_{l}}$"
      ],
      "text/plain": [
       "<IPython.core.display.Math object>"
      ]
     },
     "metadata": {},
     "output_type": "display_data"
    },
    {
     "name": "stdout",
     "output_type": "stream",
     "text": [
      "eq_rot_E_left_conductor_y_subs (x) rot E =\n",
      "kappa_l*H_left_conductor_f_y(x) == I*sqrt(epsilon_l*mu_l)*(I*k_z*E_left_conductor_x(x) - diff(E_left_conductor_z(x), x))/mu_l\n"
     ]
    },
    {
     "data": {
      "text/latex": [
       "$\\displaystyle \\kappa_{l} H_{{\\rm left}_{{\\rm conductor}_{f_{y}}}}\\left(x\\right) = \\frac{i \\, \\sqrt{\\epsilon_{l} \\mu_{l}} {\\left(i \\, k_{z} E_{{\\rm left}_{{\\rm conductor}_{x}}}\\left(x\\right) - \\frac{\\partial}{\\partial x}E_{{\\rm left}_{{\\rm conductor}_{z}}}\\left(x\\right)\\right)}}{\\mu_{l}}$"
      ],
      "text/plain": [
       "<IPython.core.display.Math object>"
      ]
     },
     "metadata": {},
     "output_type": "display_data"
    },
    {
     "name": "stdout",
     "output_type": "stream",
     "text": [
      "eq_rot_H_left_conductor_x_subs_solve_m =\n",
      "kappa_l*E_left_conductor_x(x) + k_z*sqrt(mu_l)*H_left_conductor_f_y(x)/sqrt(epsilon_l) == k_y*sqrt(mu_l)*H_left_conductor_f_z(x)/sqrt(epsilon_l)\n"
     ]
    },
    {
     "data": {
      "text/latex": [
       "$\\displaystyle \\kappa_{l} E_{{\\rm left}_{{\\rm conductor}_{x}}}\\left(x\\right) + \\frac{k_{z} \\sqrt{\\mu_{l}} H_{{\\rm left}_{{\\rm conductor}_{f_{y}}}}\\left(x\\right)}{\\sqrt{\\epsilon_{l}}} = \\frac{k_{y} \\sqrt{\\mu_{l}} H_{{\\rm left}_{{\\rm conductor}_{f_{z}}}}\\left(x\\right)}{\\sqrt{\\epsilon_{l}}}$"
      ],
      "text/plain": [
       "<IPython.core.display.Math object>"
      ]
     },
     "metadata": {},
     "output_type": "display_data"
    },
    {
     "name": "stdout",
     "output_type": "stream",
     "text": [
      "eq_rot_E_left_conductor_y_subs_m =\n",
      "sqrt(epsilon_l)*k_z*E_left_conductor_x(x)/sqrt(mu_l) + kappa_l*H_left_conductor_f_y(x) == -I*sqrt(epsilon_l)*diff(E_left_conductor_z(x), x)/sqrt(mu_l)\n"
     ]
    },
    {
     "data": {
      "text/latex": [
       "$\\displaystyle \\frac{\\sqrt{\\epsilon_{l}} k_{z} E_{{\\rm left}_{{\\rm conductor}_{x}}}\\left(x\\right)}{\\sqrt{\\mu_{l}}} + \\kappa_{l} H_{{\\rm left}_{{\\rm conductor}_{f_{y}}}}\\left(x\\right) = -\\frac{i \\, \\sqrt{\\epsilon_{l}} \\frac{\\partial}{\\partial x}E_{{\\rm left}_{{\\rm conductor}_{z}}}\\left(x\\right)}{\\sqrt{\\mu_{l}}}$"
      ],
      "text/plain": [
       "<IPython.core.display.Math object>"
      ]
     },
     "metadata": {},
     "output_type": "display_data"
    },
    {
     "name": "stdout",
     "output_type": "stream",
     "text": [
      "eq_7_l =\n",
      "(2*sqrt(epsilon_l)*k_z*kappa_l*mu_l*H_left_conductor_f_y(x) + (epsilon_l*k_z^2 + epsilon_l*kappa_l^2)*sqrt(mu_l)*E_left_conductor_x(x))/(epsilon_l*sqrt(mu_l)) == (k_y*kappa_l*sqrt(mu_l)*H_left_conductor_f_z(x) - I*sqrt(epsilon_l)*k_z*diff(E_left_conductor_z(x), x))/sqrt(epsilon_l)\n"
     ]
    },
    {
     "data": {
      "text/latex": [
       "$\\displaystyle \\frac{2 \\, \\sqrt{\\epsilon_{l}} k_{z} \\kappa_{l} \\mu_{l} H_{{\\rm left}_{{\\rm conductor}_{f_{y}}}}\\left(x\\right) + {\\left(\\epsilon_{l} k_{z}^{2} + \\epsilon_{l} \\kappa_{l}^{2}\\right)} \\sqrt{\\mu_{l}} E_{{\\rm left}_{{\\rm conductor}_{x}}}\\left(x\\right)}{\\epsilon_{l} \\sqrt{\\mu_{l}}} = \\frac{k_{y} \\kappa_{l} \\sqrt{\\mu_{l}} H_{{\\rm left}_{{\\rm conductor}_{f_{z}}}}\\left(x\\right) - i \\, \\sqrt{\\epsilon_{l}} k_{z} \\frac{\\partial}{\\partial x}E_{{\\rm left}_{{\\rm conductor}_{z}}}\\left(x\\right)}{\\sqrt{\\epsilon_{l}}}$"
      ],
      "text/plain": [
       "<IPython.core.display.Math object>"
      ]
     },
     "metadata": {},
     "output_type": "display_data"
    },
    {
     "name": "stdout",
     "output_type": "stream",
     "text": [
      "eq_8_l =\n",
      "(2*epsilon_l*k_z*kappa_l*sqrt(mu_l)*E_left_conductor_x(x) + (k_z^2 + kappa_l^2)*sqrt(epsilon_l)*mu_l*H_left_conductor_f_y(x))/(epsilon_l*sqrt(mu_l)) == (k_y*k_z*sqrt(mu_l)*H_left_conductor_f_z(x) - I*sqrt(epsilon_l)*kappa_l*diff(E_left_conductor_z(x), x))/sqrt(epsilon_l)\n"
     ]
    },
    {
     "data": {
      "text/latex": [
       "$\\displaystyle \\frac{2 \\, \\epsilon_{l} k_{z} \\kappa_{l} \\sqrt{\\mu_{l}} E_{{\\rm left}_{{\\rm conductor}_{x}}}\\left(x\\right) + {\\left(k_{z}^{2} + \\kappa_{l}^{2}\\right)} \\sqrt{\\epsilon_{l}} \\mu_{l} H_{{\\rm left}_{{\\rm conductor}_{f_{y}}}}\\left(x\\right)}{\\epsilon_{l} \\sqrt{\\mu_{l}}} = \\frac{k_{y} k_{z} \\sqrt{\\mu_{l}} H_{{\\rm left}_{{\\rm conductor}_{f_{z}}}}\\left(x\\right) - i \\, \\sqrt{\\epsilon_{l}} \\kappa_{l} \\frac{\\partial}{\\partial x}E_{{\\rm left}_{{\\rm conductor}_{z}}}\\left(x\\right)}{\\sqrt{\\epsilon_{l}}}$"
      ],
      "text/plain": [
       "<IPython.core.display.Math object>"
      ]
     },
     "metadata": {},
     "output_type": "display_data"
    }
   ],
   "source": [
    "# для левого проводника меняем знак перед корнем из произведения комплексных epsilon и mu\n",
    "# таким образом симметризуется матрица системы уравнений составленной по граничным условиям\n",
    "eq_rot_H_left_conductor_x_subs       = eq_rot_H_left_conductor_x.subs(omega==-c*kappa_l/sqrt(epsilon_l*mu_l))\n",
    "print (\"eq_rot_H_left_conductor_x rot_H = epsilon_l*d/dt(E_x) =\")\n",
    "print(eq_rot_H_left_conductor_x)\n",
    "display(Math(latex(eq_rot_H_left_conductor_x)))\n",
    "\n",
    "print (\"eq_rot_H_left_conductor_x_subs rot_H = epsilon_l*d/dt(E_x) =\")\n",
    "print(eq_rot_H_left_conductor_x_subs)\n",
    "display(Math(latex(eq_rot_H_left_conductor_x_subs)))\n",
    "\n",
    "\n",
    "eq_rot_H_left_conductor_x_subs_solve = solve(eq_rot_H_left_conductor_x_subs, E_left_conductor_x(x))[0] * kappa_l\n",
    "print (\"eq_rot_H_left_conductor_x_subs_solve rot H = epsilon_l*d/dt(E_x) =\")\n",
    "print(eq_rot_H_left_conductor_x_subs_solve)\n",
    "display(Math(latex(eq_rot_H_left_conductor_x_subs_solve)))\n",
    "\n",
    "eq_rot_E_left_conductor_y = H_left_conductor_f_y(x) == H_left_conductor_s_y(x)\n",
    "eq_rot_E_left_conductor_y_subs = eq_rot_E_left_conductor_y.subs(omega==-c*kappa_l/sqrt(epsilon_l*mu_l)) * kappa_l\n",
    "print (\"eq_rot_E_left_conductor_y_subs (x) rot E =\")\n",
    "print             (eq_rot_E_left_conductor_y_subs)\n",
    "display(Math(latex(eq_rot_E_left_conductor_y_subs)))\n",
    "\n",
    "eq_rot_H_left_conductor_x_subs_solve_m \\\n",
    "    =  eq_rot_H_left_conductor_x_subs_solve.lhs() \\\n",
    "    -  eq_rot_H_left_conductor_x_subs_solve.rhs().expand().operands()[0] \\\n",
    "    == eq_rot_H_left_conductor_x_subs_solve.rhs().expand().operands()[1]\n",
    "print (\"eq_rot_H_left_conductor_x_subs_solve_m =\")\n",
    "print             (eq_rot_H_left_conductor_x_subs_solve_m)\n",
    "display(Math(latex(eq_rot_H_left_conductor_x_subs_solve_m)))\n",
    "\n",
    "eq_rot_E_left_conductor_y_subs_m \\\n",
    "    =  eq_rot_E_left_conductor_y_subs.lhs() \\\n",
    "    -  eq_rot_E_left_conductor_y_subs.rhs().expand().operands()[0] \\\n",
    "    == eq_rot_E_left_conductor_y_subs.rhs().expand().operands()[1]\n",
    "print (\"eq_rot_E_left_conductor_y_subs_m =\")\n",
    "print             (eq_rot_E_left_conductor_y_subs_m)\n",
    "display(Math(latex(eq_rot_E_left_conductor_y_subs_m)))\n",
    "\n",
    "m3 = k_z*sqrt(mu_l)/sqrt(epsilon_l)\n",
    "m4 = sqrt(mu_l)*kappa_l/sqrt(epsilon_l)\n",
    "\n",
    "eq_7_l = (eq_rot_H_left_conductor_x_subs_solve_m*kappa_l + eq_rot_E_left_conductor_y_subs_m * m3).full_simplify()\n",
    "print (\"eq_7_l =\")\n",
    "print             (eq_7_l)\n",
    "display(Math(latex(eq_7_l)))\n",
    "\n",
    "eq_8_l = (eq_rot_H_left_conductor_x_subs_solve_m*k_z + eq_rot_E_left_conductor_y_subs_m * m4).full_simplify()\n",
    "print (\"eq_8_l =\")\n",
    "print             (eq_8_l)\n",
    "display(Math(latex(eq_8_l)))"
   ]
  },
  {
   "cell_type": "code",
   "execution_count": 35,
   "metadata": {},
   "outputs": [
    {
     "name": "stdout",
     "output_type": "stream",
     "text": [
      "eq_rot_H_right_conductor_x rot_H = epsilon_r*d/dt(E_x) =\n",
      "-I*k_z*H_right_conductor_f_y(x) + I*k_y*H_right_conductor_f_z(x) == -I*epsilon_r*omega*E_right_conductor_x(x)/c\n"
     ]
    },
    {
     "data": {
      "text/latex": [
       "$\\displaystyle -i \\, k_{z} H_{{\\rm right}_{{\\rm conductor}_{f_{y}}}}\\left(x\\right) + i \\, k_{y} H_{{\\rm right}_{{\\rm conductor}_{f_{z}}}}\\left(x\\right) = -\\frac{i \\, \\epsilon_{r} \\omega E_{{\\rm right}_{{\\rm conductor}_{x}}}\\left(x\\right)}{c}$"
      ],
      "text/plain": [
       "<IPython.core.display.Math object>"
      ]
     },
     "metadata": {},
     "output_type": "display_data"
    },
    {
     "name": "stdout",
     "output_type": "stream",
     "text": [
      "eq_rot_H_right_conductor_x_subs rot_H = epsilon_r*d/dt(E_x) =\n",
      "-I*k_z*H_right_conductor_f_y(x) + I*k_y*H_right_conductor_f_z(x) == -I*epsilon_r*kappa_r*E_right_conductor_x(x)/sqrt(epsilon_r*mu_r)\n"
     ]
    },
    {
     "data": {
      "text/latex": [
       "$\\displaystyle -i \\, k_{z} H_{{\\rm right}_{{\\rm conductor}_{f_{y}}}}\\left(x\\right) + i \\, k_{y} H_{{\\rm right}_{{\\rm conductor}_{f_{z}}}}\\left(x\\right) = -\\frac{i \\, \\epsilon_{r} \\kappa_{r} E_{{\\rm right}_{{\\rm conductor}_{x}}}\\left(x\\right)}{\\sqrt{\\epsilon_{r} \\mu_{r}}}$"
      ],
      "text/plain": [
       "<IPython.core.display.Math object>"
      ]
     },
     "metadata": {},
     "output_type": "display_data"
    },
    {
     "name": "stdout",
     "output_type": "stream",
     "text": [
      "eq_rot_H_right_conductor_x_subs_solve rot H = epsilon_r*d/dt(E_x) =\n",
      "kappa_r*E_right_conductor_x(x) == (sqrt(epsilon_r*mu_r)*k_z*H_right_conductor_f_y(x) - sqrt(epsilon_r*mu_r)*k_y*H_right_conductor_f_z(x))/epsilon_r\n"
     ]
    },
    {
     "data": {
      "text/latex": [
       "$\\displaystyle \\kappa_{r} E_{{\\rm right}_{{\\rm conductor}_{x}}}\\left(x\\right) = \\frac{\\sqrt{\\epsilon_{r} \\mu_{r}} k_{z} H_{{\\rm right}_{{\\rm conductor}_{f_{y}}}}\\left(x\\right) - \\sqrt{\\epsilon_{r} \\mu_{r}} k_{y} H_{{\\rm right}_{{\\rm conductor}_{f_{z}}}}\\left(x\\right)}{\\epsilon_{r}}$"
      ],
      "text/plain": [
       "<IPython.core.display.Math object>"
      ]
     },
     "metadata": {},
     "output_type": "display_data"
    },
    {
     "name": "stdout",
     "output_type": "stream",
     "text": [
      "eq_rot_E_right_conductor_y_subs (x) rot E =\n",
      "kappa_r*H_right_conductor_f_y(x) == -I*sqrt(epsilon_r*mu_r)*(I*k_z*E_right_conductor_x(x) - diff(E_right_conductor_z(x), x))/mu_r\n"
     ]
    },
    {
     "data": {
      "text/latex": [
       "$\\displaystyle \\kappa_{r} H_{{\\rm right}_{{\\rm conductor}_{f_{y}}}}\\left(x\\right) = -\\frac{i \\, \\sqrt{\\epsilon_{r} \\mu_{r}} {\\left(i \\, k_{z} E_{{\\rm right}_{{\\rm conductor}_{x}}}\\left(x\\right) - \\frac{\\partial}{\\partial x}E_{{\\rm right}_{{\\rm conductor}_{z}}}\\left(x\\right)\\right)}}{\\mu_{r}}$"
      ],
      "text/plain": [
       "<IPython.core.display.Math object>"
      ]
     },
     "metadata": {},
     "output_type": "display_data"
    },
    {
     "name": "stdout",
     "output_type": "stream",
     "text": [
      "eq_rot_H_right_conductor_x_subs_solve_m =\n",
      "kappa_r*E_right_conductor_x(x) - k_z*sqrt(mu_r)*H_right_conductor_f_y(x)/sqrt(epsilon_r) == -k_y*sqrt(mu_r)*H_right_conductor_f_z(x)/sqrt(epsilon_r)\n"
     ]
    },
    {
     "data": {
      "text/latex": [
       "$\\displaystyle \\kappa_{r} E_{{\\rm right}_{{\\rm conductor}_{x}}}\\left(x\\right) - \\frac{k_{z} \\sqrt{\\mu_{r}} H_{{\\rm right}_{{\\rm conductor}_{f_{y}}}}\\left(x\\right)}{\\sqrt{\\epsilon_{r}}} = -\\frac{k_{y} \\sqrt{\\mu_{r}} H_{{\\rm right}_{{\\rm conductor}_{f_{z}}}}\\left(x\\right)}{\\sqrt{\\epsilon_{r}}}$"
      ],
      "text/plain": [
       "<IPython.core.display.Math object>"
      ]
     },
     "metadata": {},
     "output_type": "display_data"
    },
    {
     "name": "stdout",
     "output_type": "stream",
     "text": [
      "eq_rot_E_right_conductor_y_subs_m =\n",
      "-sqrt(epsilon_r)*k_z*E_right_conductor_x(x)/sqrt(mu_r) + kappa_r*H_right_conductor_f_y(x) == I*sqrt(epsilon_r)*diff(E_right_conductor_z(x), x)/sqrt(mu_r)\n"
     ]
    },
    {
     "data": {
      "text/latex": [
       "$\\displaystyle -\\frac{\\sqrt{\\epsilon_{r}} k_{z} E_{{\\rm right}_{{\\rm conductor}_{x}}}\\left(x\\right)}{\\sqrt{\\mu_{r}}} + \\kappa_{r} H_{{\\rm right}_{{\\rm conductor}_{f_{y}}}}\\left(x\\right) = \\frac{i \\, \\sqrt{\\epsilon_{r}} \\frac{\\partial}{\\partial x}E_{{\\rm right}_{{\\rm conductor}_{z}}}\\left(x\\right)}{\\sqrt{\\mu_{r}}}$"
      ],
      "text/plain": [
       "<IPython.core.display.Math object>"
      ]
     },
     "metadata": {},
     "output_type": "display_data"
    },
    {
     "name": "stdout",
     "output_type": "stream",
     "text": [
      "eq_7_r=\n",
      "-(k_z^2 - kappa_r^2)*E_right_conductor_x(x) == -(k_y*kappa_r*sqrt(mu_r)*H_right_conductor_f_z(x) - I*sqrt(epsilon_r)*k_z*diff(E_right_conductor_z(x), x))/sqrt(epsilon_r)\n"
     ]
    },
    {
     "data": {
      "text/latex": [
       "$\\displaystyle -{\\left(k_{z}^{2} - \\kappa_{r}^{2}\\right)} E_{{\\rm right}_{{\\rm conductor}_{x}}}\\left(x\\right) = -\\frac{k_{y} \\kappa_{r} \\sqrt{\\mu_{r}} H_{{\\rm right}_{{\\rm conductor}_{f_{z}}}}\\left(x\\right) - i \\, \\sqrt{\\epsilon_{r}} k_{z} \\frac{\\partial}{\\partial x}E_{{\\rm right}_{{\\rm conductor}_{z}}}\\left(x\\right)}{\\sqrt{\\epsilon_{r}}}$"
      ],
      "text/plain": [
       "<IPython.core.display.Math object>"
      ]
     },
     "metadata": {},
     "output_type": "display_data"
    },
    {
     "name": "stdout",
     "output_type": "stream",
     "text": [
      "eq_8_r =\n",
      "-(k_z^2 - kappa_r^2)*sqrt(mu_r)*H_right_conductor_f_y(x)/sqrt(epsilon_r) == -(k_y*k_z*sqrt(mu_r)*H_right_conductor_f_z(x) - I*sqrt(epsilon_r)*kappa_r*diff(E_right_conductor_z(x), x))/sqrt(epsilon_r)\n"
     ]
    },
    {
     "data": {
      "text/latex": [
       "$\\displaystyle -\\frac{{\\left(k_{z}^{2} - \\kappa_{r}^{2}\\right)} \\sqrt{\\mu_{r}} H_{{\\rm right}_{{\\rm conductor}_{f_{y}}}}\\left(x\\right)}{\\sqrt{\\epsilon_{r}}} = -\\frac{k_{y} k_{z} \\sqrt{\\mu_{r}} H_{{\\rm right}_{{\\rm conductor}_{f_{z}}}}\\left(x\\right) - i \\, \\sqrt{\\epsilon_{r}} \\kappa_{r} \\frac{\\partial}{\\partial x}E_{{\\rm right}_{{\\rm conductor}_{z}}}\\left(x\\right)}{\\sqrt{\\epsilon_{r}}}$"
      ],
      "text/plain": [
       "<IPython.core.display.Math object>"
      ]
     },
     "metadata": {},
     "output_type": "display_data"
    }
   ],
   "source": [
    "eq_rot_H_right_conductor_x_subs       = eq_rot_H_right_conductor_x.subs(omega==c*kappa_r/sqrt(epsilon_r*mu_r))\n",
    "print (\"eq_rot_H_right_conductor_x rot_H = epsilon_r*d/dt(E_x) =\")\n",
    "print(eq_rot_H_right_conductor_x)\n",
    "display(Math(latex(eq_rot_H_right_conductor_x)))\n",
    "\n",
    "print (\"eq_rot_H_right_conductor_x_subs rot_H = epsilon_r*d/dt(E_x) =\")\n",
    "print(eq_rot_H_right_conductor_x_subs)\n",
    "display(Math(latex(eq_rot_H_right_conductor_x_subs)))\n",
    "\n",
    "\n",
    "eq_rot_H_right_conductor_x_subs_solve = solve(eq_rot_H_right_conductor_x_subs, E_right_conductor_x(x))[0] * kappa_r\n",
    "print (\"eq_rot_H_right_conductor_x_subs_solve rot H = epsilon_r*d/dt(E_x) =\")\n",
    "print(eq_rot_H_right_conductor_x_subs_solve)\n",
    "display(Math(latex(eq_rot_H_right_conductor_x_subs_solve)))\n",
    "\n",
    "eq_rot_E_right_conductor_y = H_right_conductor_f_y(x) == H_right_conductor_s_y(x)\n",
    "eq_rot_E_right_conductor_y_subs = eq_rot_E_right_conductor_y.subs(omega==c*kappa_r/sqrt(epsilon_r*mu_r)) * kappa_r\n",
    "print (\"eq_rot_E_right_conductor_y_subs (x) rot E =\")\n",
    "print             (eq_rot_E_right_conductor_y_subs)\n",
    "display(Math(latex(eq_rot_E_right_conductor_y_subs)))\n",
    "\n",
    "eq_rot_H_right_conductor_x_subs_solve_m \\\n",
    "    =  eq_rot_H_right_conductor_x_subs_solve.lhs() \\\n",
    "    -  eq_rot_H_right_conductor_x_subs_solve.rhs().expand().operands()[0] \\\n",
    "    == eq_rot_H_right_conductor_x_subs_solve.rhs().expand().operands()[1]\n",
    "print (\"eq_rot_H_right_conductor_x_subs_solve_m =\")\n",
    "print             (eq_rot_H_right_conductor_x_subs_solve_m)\n",
    "display(Math(latex(eq_rot_H_right_conductor_x_subs_solve_m)))\n",
    "\n",
    "eq_rot_E_right_conductor_y_subs_m \\\n",
    "    =  eq_rot_E_right_conductor_y_subs.lhs() \\\n",
    "    -  eq_rot_E_right_conductor_y_subs.rhs().expand().operands()[0] \\\n",
    "    == eq_rot_E_right_conductor_y_subs.rhs().expand().operands()[1]\n",
    "print (\"eq_rot_E_right_conductor_y_subs_m =\")\n",
    "print             (eq_rot_E_right_conductor_y_subs_m)\n",
    "display(Math(latex(eq_rot_E_right_conductor_y_subs_m)))\n",
    "\n",
    "m3 = k_z*sqrt(mu_r)/sqrt(epsilon_r)\n",
    "m4 = sqrt(mu_r)*kappa_r/sqrt(epsilon_r)\n",
    "\n",
    "eq_7_r = (eq_rot_H_right_conductor_x_subs_solve_m*kappa_r + eq_rot_E_right_conductor_y_subs_m * m3).full_simplify()\n",
    "print (\"eq_7_r=\")\n",
    "print             (eq_7_r)\n",
    "display(Math(latex(eq_7_r)))\n",
    "\n",
    "eq_8_r = (eq_rot_H_right_conductor_x_subs_solve_m*k_z + eq_rot_E_right_conductor_y_subs_m * m4).full_simplify()\n",
    "print (\"eq_8_r =\")\n",
    "print             (eq_8_r)\n",
    "display(Math(latex(eq_8_r)))"
   ]
  },
  {
   "cell_type": "code",
   "execution_count": null,
   "metadata": {},
   "outputs": [],
   "source": []
  },
  {
   "cell_type": "code",
   "execution_count": 36,
   "metadata": {},
   "outputs": [],
   "source": [
    "K_vacuum_subs = K_vacuum == sqrt(kappa_vacuum^2-k_z^2)\n",
    "K_left_conductor_subs = K_left_conductor == sqrt(kappa_l^2-k_z^2)\n",
    "K_right_conductor_subs = K_right_conductor == sqrt(kappa_r^2-k_z^2)"
   ]
  },
  {
   "cell_type": "code",
   "execution_count": null,
   "metadata": {},
   "outputs": [],
   "source": []
  },
  {
   "cell_type": "code",
   "execution_count": 37,
   "metadata": {},
   "outputs": [
    {
     "name": "stdout",
     "output_type": "stream",
     "text": [
      "eq_1 =\n",
      "-(k_z^2 - kappa_vacuum^2)*E_inner_vacuum_y(x) == -k_y*k_z*E_inner_vacuum_z(x) - I*kappa_vacuum*diff(H_inner_vacuum_f_z(x), x)\n"
     ]
    },
    {
     "data": {
      "text/latex": [
       "$\\displaystyle -{\\left(k_{z}^{2} - \\kappa_{\\mathit{vacuum}}^{2}\\right)} E_{{\\rm inner}_{{\\rm vacuum}_{y}}}\\left(x\\right) = -k_{y} k_{z} E_{{\\rm inner}_{{\\rm vacuum}_{z}}}\\left(x\\right) - i \\, \\kappa_{\\mathit{vacuum}} \\frac{\\partial}{\\partial x}H_{{\\rm inner}_{{\\rm vacuum}_{f_{z}}}}\\left(x\\right)$"
      ],
      "text/plain": [
       "<IPython.core.display.Math object>"
      ]
     },
     "metadata": {},
     "output_type": "display_data"
    },
    {
     "name": "stdout",
     "output_type": "stream",
     "text": [
      "eq_2 =\n",
      "(k_z^2 - kappa_vacuum^2)*H_inner_vacuum_f_x(x) == -k_y*kappa_vacuum*E_inner_vacuum_z(x) - I*k_z*diff(H_inner_vacuum_f_z(x), x)\n"
     ]
    },
    {
     "data": {
      "text/latex": [
       "$\\displaystyle {\\left(k_{z}^{2} - \\kappa_{\\mathit{vacuum}}^{2}\\right)} H_{{\\rm inner}_{{\\rm vacuum}_{f_{x}}}}\\left(x\\right) = -k_{y} \\kappa_{\\mathit{vacuum}} E_{{\\rm inner}_{{\\rm vacuum}_{z}}}\\left(x\\right) - i \\, k_{z} \\frac{\\partial}{\\partial x}H_{{\\rm inner}_{{\\rm vacuum}_{f_{z}}}}\\left(x\\right)$"
      ],
      "text/plain": [
       "<IPython.core.display.Math object>"
      ]
     },
     "metadata": {},
     "output_type": "display_data"
    }
   ],
   "source": [
    "print (\"eq_1 =\")\n",
    "print             (eq_1)\n",
    "display(Math(latex(eq_1)))\n",
    "\n",
    "print (\"eq_2 =\")\n",
    "print             (eq_2)\n",
    "display(Math(latex(eq_2)))\n"
   ]
  },
  {
   "cell_type": "raw",
   "metadata": {},
   "source": [
    "print (\"eq_3 =\")\n",
    "print             (eq_3)\n",
    "display(Math(latex(eq_3)))\n",
    "\n",
    "print (\"eq_4 =\")\n",
    "print             (eq_4)\n",
    "display(Math(latex(eq_4)))"
   ]
  },
  {
   "cell_type": "code",
   "execution_count": 38,
   "metadata": {},
   "outputs": [
    {
     "name": "stdout",
     "output_type": "stream",
     "text": [
      "eq_1 =\n",
      "-(k_z^2 - kappa_vacuum^2)*E_inner_vacuum_y(x) == -k_y*k_z*E_inner_vacuum_z(x) - I*kappa_vacuum*diff(H_inner_vacuum_f_z(x), x)\n"
     ]
    },
    {
     "data": {
      "text/latex": [
       "$\\displaystyle -{\\left(k_{z}^{2} - \\kappa_{\\mathit{vacuum}}^{2}\\right)} E_{{\\rm inner}_{{\\rm vacuum}_{y}}}\\left(x\\right) = -k_{y} k_{z} E_{{\\rm inner}_{{\\rm vacuum}_{z}}}\\left(x\\right) - i \\, \\kappa_{\\mathit{vacuum}} \\frac{\\partial}{\\partial x}H_{{\\rm inner}_{{\\rm vacuum}_{f_{z}}}}\\left(x\\right)$"
      ],
      "text/plain": [
       "<IPython.core.display.Math object>"
      ]
     },
     "metadata": {},
     "output_type": "display_data"
    }
   ],
   "source": [
    "print (\"eq_1 =\")\n",
    "print             (eq_1)\n",
    "display(Math(latex(eq_1)))"
   ]
  },
  {
   "cell_type": "code",
   "execution_count": 39,
   "metadata": {
    "scrolled": true
   },
   "outputs": [
    {
     "name": "stdout",
     "output_type": "stream",
     "text": [
      "-(k_z^2 - kappa_vacuum^2)*E_inner_vacuum_y(x) == -I*kappa_vacuum*diff(H_inner_vacuum_f_z(x), x)\n"
     ]
    },
    {
     "data": {
      "text/latex": [
       "$\\displaystyle -{\\left(k_{z}^{2} - \\kappa_{\\mathit{vacuum}}^{2}\\right)} E_{{\\rm inner}_{{\\rm vacuum}_{y}}}\\left(x\\right) = -i \\, \\kappa_{\\mathit{vacuum}} \\frac{\\partial}{\\partial x}H_{{\\rm inner}_{{\\rm vacuum}_{f_{z}}}}\\left(x\\right)$"
      ],
      "text/plain": [
       "<IPython.core.display.Math object>"
      ]
     },
     "metadata": {},
     "output_type": "display_data"
    }
   ],
   "source": [
    "eq_1_subs1 = eq_1.subs(k_y == 0)\n",
    "print             (eq_1_subs1)\n",
    "display(Math(latex(eq_1_subs1)))"
   ]
  },
  {
   "cell_type": "code",
   "execution_count": 40,
   "metadata": {
    "scrolled": true
   },
   "outputs": [
    {
     "name": "stdout",
     "output_type": "stream",
     "text": [
      "E_inner_vacuum_y(x) == I*kappa_vacuum*diff(H_inner_vacuum_f_z(x), x)/(k_z^2 - kappa_vacuum^2)\n"
     ]
    },
    {
     "data": {
      "text/latex": [
       "$\\displaystyle E_{{\\rm inner}_{{\\rm vacuum}_{y}}}\\left(x\\right) = \\frac{i \\, \\kappa_{\\mathit{vacuum}} \\frac{\\partial}{\\partial x}H_{{\\rm inner}_{{\\rm vacuum}_{f_{z}}}}\\left(x\\right)}{k_{z}^{2} - \\kappa_{\\mathit{vacuum}}^{2}}$"
      ],
      "text/plain": [
       "<IPython.core.display.Math object>"
      ]
     },
     "metadata": {},
     "output_type": "display_data"
    }
   ],
   "source": [
    "eq_1_subs2 = (eq_1_subs1/(kappa_vacuum^2 - k_z^2)).full_simplify()\n",
    "print             (eq_1_subs2)\n",
    "display(Math(latex(eq_1_subs2)))"
   ]
  },
  {
   "cell_type": "code",
   "execution_count": 41,
   "metadata": {
    "scrolled": true
   },
   "outputs": [
    {
     "name": "stdout",
     "output_type": "stream",
     "text": [
      "E_inner_vacuum_y(x) == -(A2_y*K_vacuum^2*e^(I*K_vacuum*x) + A1_y*K_vacuum^2*e^(-I*K_vacuum*x) + I*(I*A2_x*K_vacuum*e^(I*K_vacuum*x) - I*A1_x*K_vacuum*e^(-I*K_vacuum*x))*k_y)*c*kappa_vacuum/((k_z^2 - kappa_vacuum^2)*omega)\n"
     ]
    },
    {
     "data": {
      "text/latex": [
       "$\\displaystyle E_{{\\rm inner}_{{\\rm vacuum}_{y}}}\\left(x\\right) = -\\frac{{\\left(\\mathit{A2}_{y} K_{\\mathit{vacuum}}^{2} e^{\\left(i \\, K_{\\mathit{vacuum}} x\\right)} + \\mathit{A1}_{y} K_{\\mathit{vacuum}}^{2} e^{\\left(-i \\, K_{\\mathit{vacuum}} x\\right)} + i \\, {\\left(i \\, \\mathit{A2}_{x} K_{\\mathit{vacuum}} e^{\\left(i \\, K_{\\mathit{vacuum}} x\\right)} - i \\, \\mathit{A1}_{x} K_{\\mathit{vacuum}} e^{\\left(-i \\, K_{\\mathit{vacuum}} x\\right)}\\right)} k_{y}\\right)} c \\kappa_{\\mathit{vacuum}}}{{\\left(k_{z}^{2} - \\kappa_{\\mathit{vacuum}}^{2}\\right)} \\omega}$"
      ],
      "text/plain": [
       "<IPython.core.display.Math object>"
      ]
     },
     "metadata": {},
     "output_type": "display_data"
    }
   ],
   "source": [
    "eq_1_subs3 = eq_1_subs2.substitute_function(H_inner_vacuum_f_z, H_inner_vacuum_sol_z)\n",
    "print             (eq_1_subs3)\n",
    "display(Math(latex(eq_1_subs3)))"
   ]
  },
  {
   "cell_type": "code",
   "execution_count": 42,
   "metadata": {},
   "outputs": [
    {
     "name": "stdout",
     "output_type": "stream",
     "text": [
      "E_inner_vacuum_y(x) == -(A2_y*K_vacuum^2*e^(I*K_vacuum*x) + A1_y*K_vacuum^2*e^(-I*K_vacuum*x) + I*(I*A2_x*K_vacuum*e^(I*K_vacuum*x) - I*A1_x*K_vacuum*e^(-I*K_vacuum*x))*k_y)/(k_z^2 - kappa_vacuum^2)\n"
     ]
    },
    {
     "data": {
      "text/latex": [
       "$\\displaystyle E_{{\\rm inner}_{{\\rm vacuum}_{y}}}\\left(x\\right) = -\\frac{\\mathit{A2}_{y} K_{\\mathit{vacuum}}^{2} e^{\\left(i \\, K_{\\mathit{vacuum}} x\\right)} + \\mathit{A1}_{y} K_{\\mathit{vacuum}}^{2} e^{\\left(-i \\, K_{\\mathit{vacuum}} x\\right)} + i \\, {\\left(i \\, \\mathit{A2}_{x} K_{\\mathit{vacuum}} e^{\\left(i \\, K_{\\mathit{vacuum}} x\\right)} - i \\, \\mathit{A1}_{x} K_{\\mathit{vacuum}} e^{\\left(-i \\, K_{\\mathit{vacuum}} x\\right)}\\right)} k_{y}}{k_{z}^{2} - \\kappa_{\\mathit{vacuum}}^{2}}$"
      ],
      "text/plain": [
       "<IPython.core.display.Math object>"
      ]
     },
     "metadata": {},
     "output_type": "display_data"
    }
   ],
   "source": [
    "eq_1_subs4 = eq_1_subs3.subs(omega==c*kappa_vacuum/sqrt(epsilon_0*mu_0))\n",
    "print             (eq_1_subs4)\n",
    "display(Math(latex(eq_1_subs4)))"
   ]
  },
  {
   "cell_type": "code",
   "execution_count": null,
   "metadata": {},
   "outputs": [],
   "source": []
  },
  {
   "cell_type": "code",
   "execution_count": 43,
   "metadata": {},
   "outputs": [
    {
     "name": "stdout",
     "output_type": "stream",
     "text": [
      "eq_2 =\n",
      "(k_z^2 - kappa_vacuum^2)*H_inner_vacuum_f_x(x) == -k_y*kappa_vacuum*E_inner_vacuum_z(x) - I*k_z*diff(H_inner_vacuum_f_z(x), x)\n"
     ]
    },
    {
     "data": {
      "text/latex": [
       "$\\displaystyle {\\left(k_{z}^{2} - \\kappa_{\\mathit{vacuum}}^{2}\\right)} H_{{\\rm inner}_{{\\rm vacuum}_{f_{x}}}}\\left(x\\right) = -k_{y} \\kappa_{\\mathit{vacuum}} E_{{\\rm inner}_{{\\rm vacuum}_{z}}}\\left(x\\right) - i \\, k_{z} \\frac{\\partial}{\\partial x}H_{{\\rm inner}_{{\\rm vacuum}_{f_{z}}}}\\left(x\\right)$"
      ],
      "text/plain": [
       "<IPython.core.display.Math object>"
      ]
     },
     "metadata": {},
     "output_type": "display_data"
    }
   ],
   "source": [
    "print (\"eq_2 =\")\n",
    "print             (eq_2)\n",
    "display(Math(latex(eq_2)))"
   ]
  },
  {
   "cell_type": "code",
   "execution_count": 44,
   "metadata": {
    "scrolled": true
   },
   "outputs": [
    {
     "name": "stdout",
     "output_type": "stream",
     "text": [
      "(k_z^2 - kappa_vacuum^2)*H_inner_vacuum_f_x(x) == -I*k_z*diff(H_inner_vacuum_f_z(x), x)\n"
     ]
    },
    {
     "data": {
      "text/latex": [
       "$\\displaystyle {\\left(k_{z}^{2} - \\kappa_{\\mathit{vacuum}}^{2}\\right)} H_{{\\rm inner}_{{\\rm vacuum}_{f_{x}}}}\\left(x\\right) = -i \\, k_{z} \\frac{\\partial}{\\partial x}H_{{\\rm inner}_{{\\rm vacuum}_{f_{z}}}}\\left(x\\right)$"
      ],
      "text/plain": [
       "<IPython.core.display.Math object>"
      ]
     },
     "metadata": {},
     "output_type": "display_data"
    }
   ],
   "source": [
    "eq_2_subs1 = eq_2.subs(k_y == 0)\n",
    "print             (eq_2_subs1)\n",
    "display(Math(latex(eq_2_subs1)))"
   ]
  },
  {
   "cell_type": "code",
   "execution_count": 45,
   "metadata": {
    "scrolled": true
   },
   "outputs": [
    {
     "name": "stdout",
     "output_type": "stream",
     "text": [
      "-H_inner_vacuum_f_x(x) == I*k_z*diff(H_inner_vacuum_f_z(x), x)/(k_z^2 - kappa_vacuum^2)\n"
     ]
    },
    {
     "data": {
      "text/latex": [
       "$\\displaystyle -H_{{\\rm inner}_{{\\rm vacuum}_{f_{x}}}}\\left(x\\right) = \\frac{i \\, k_{z} \\frac{\\partial}{\\partial x}H_{{\\rm inner}_{{\\rm vacuum}_{f_{z}}}}\\left(x\\right)}{k_{z}^{2} - \\kappa_{\\mathit{vacuum}}^{2}}$"
      ],
      "text/plain": [
       "<IPython.core.display.Math object>"
      ]
     },
     "metadata": {},
     "output_type": "display_data"
    }
   ],
   "source": [
    "eq_2_subs2 = (eq_2_subs1/(kappa_vacuum^2 - k_z^2)).full_simplify()\n",
    "print             (eq_2_subs2)\n",
    "display(Math(latex(eq_2_subs2)))"
   ]
  },
  {
   "cell_type": "code",
   "execution_count": 46,
   "metadata": {
    "scrolled": true
   },
   "outputs": [
    {
     "name": "stdout",
     "output_type": "stream",
     "text": [
      "-H_inner_vacuum_f_x(x) == -(A2_y*K_vacuum^2*e^(I*K_vacuum*x) + A1_y*K_vacuum^2*e^(-I*K_vacuum*x) + I*(I*A2_x*K_vacuum*e^(I*K_vacuum*x) - I*A1_x*K_vacuum*e^(-I*K_vacuum*x))*k_y)*c*k_z/((k_z^2 - kappa_vacuum^2)*omega)\n"
     ]
    },
    {
     "data": {
      "text/latex": [
       "$\\displaystyle -H_{{\\rm inner}_{{\\rm vacuum}_{f_{x}}}}\\left(x\\right) = -\\frac{{\\left(\\mathit{A2}_{y} K_{\\mathit{vacuum}}^{2} e^{\\left(i \\, K_{\\mathit{vacuum}} x\\right)} + \\mathit{A1}_{y} K_{\\mathit{vacuum}}^{2} e^{\\left(-i \\, K_{\\mathit{vacuum}} x\\right)} + i \\, {\\left(i \\, \\mathit{A2}_{x} K_{\\mathit{vacuum}} e^{\\left(i \\, K_{\\mathit{vacuum}} x\\right)} - i \\, \\mathit{A1}_{x} K_{\\mathit{vacuum}} e^{\\left(-i \\, K_{\\mathit{vacuum}} x\\right)}\\right)} k_{y}\\right)} c k_{z}}{{\\left(k_{z}^{2} - \\kappa_{\\mathit{vacuum}}^{2}\\right)} \\omega}$"
      ],
      "text/plain": [
       "<IPython.core.display.Math object>"
      ]
     },
     "metadata": {},
     "output_type": "display_data"
    }
   ],
   "source": [
    "eq_2_subs3 = eq_2_subs2.substitute_function(H_inner_vacuum_f_z, H_inner_vacuum_sol_z)\n",
    "print             (eq_2_subs3)\n",
    "display(Math(latex(eq_2_subs3)))"
   ]
  },
  {
   "cell_type": "code",
   "execution_count": 47,
   "metadata": {},
   "outputs": [
    {
     "name": "stdout",
     "output_type": "stream",
     "text": [
      "-H_inner_vacuum_f_x(x) == -(A2_y*K_vacuum^2*e^(I*K_vacuum*x) + A1_y*K_vacuum^2*e^(-I*K_vacuum*x) + I*(I*A2_x*K_vacuum*e^(I*K_vacuum*x) - I*A1_x*K_vacuum*e^(-I*K_vacuum*x))*k_y)*k_z/((k_z^2 - kappa_vacuum^2)*kappa_vacuum)\n"
     ]
    },
    {
     "data": {
      "text/latex": [
       "$\\displaystyle -H_{{\\rm inner}_{{\\rm vacuum}_{f_{x}}}}\\left(x\\right) = -\\frac{{\\left(\\mathit{A2}_{y} K_{\\mathit{vacuum}}^{2} e^{\\left(i \\, K_{\\mathit{vacuum}} x\\right)} + \\mathit{A1}_{y} K_{\\mathit{vacuum}}^{2} e^{\\left(-i \\, K_{\\mathit{vacuum}} x\\right)} + i \\, {\\left(i \\, \\mathit{A2}_{x} K_{\\mathit{vacuum}} e^{\\left(i \\, K_{\\mathit{vacuum}} x\\right)} - i \\, \\mathit{A1}_{x} K_{\\mathit{vacuum}} e^{\\left(-i \\, K_{\\mathit{vacuum}} x\\right)}\\right)} k_{y}\\right)} k_{z}}{{\\left(k_{z}^{2} - \\kappa_{\\mathit{vacuum}}^{2}\\right)} \\kappa_{\\mathit{vacuum}}}$"
      ],
      "text/plain": [
       "<IPython.core.display.Math object>"
      ]
     },
     "metadata": {},
     "output_type": "display_data"
    }
   ],
   "source": [
    "eq_2_subs4 = eq_2_subs3.subs(omega==c*kappa_vacuum/sqrt(epsilon_0*mu_0))\n",
    "print             (eq_2_subs4)\n",
    "display(Math(latex(eq_2_subs4)))"
   ]
  },
  {
   "cell_type": "code",
   "execution_count": null,
   "metadata": {},
   "outputs": [],
   "source": []
  },
  {
   "cell_type": "raw",
   "metadata": {},
   "source": [
    "print (\"eq_3 =\")\n",
    "print             (eq_3)\n",
    "display(Math(latex(eq_3)))"
   ]
  },
  {
   "cell_type": "raw",
   "metadata": {
    "scrolled": true
   },
   "source": [
    "eq_3_subs1 = eq_3.subs(k_y == 0)\n",
    "print             (eq_3_subs1)\n",
    "display(Math(latex(eq_3_subs1)))"
   ]
  },
  {
   "cell_type": "raw",
   "metadata": {
    "scrolled": true
   },
   "source": [
    "eq_3_subs2 = (eq_3_subs1/(kappa^2 - k_z^2)).full_simplify()\n",
    "print             (eq_3_subs2)\n",
    "display(Math(latex(eq_3_subs2)))"
   ]
  },
  {
   "cell_type": "raw",
   "metadata": {
    "scrolled": true
   },
   "source": [
    "eq_3_subs3 = eq_3_subs2.substitute_function(H_bad_conductor_f_z, H_bad_conductor_sol_z)\n",
    "print             (eq_3_subs3)\n",
    "display(Math(latex(eq_3_subs3)))"
   ]
  },
  {
   "cell_type": "raw",
   "metadata": {},
   "source": [
    "eq_3_subs4 = eq_3_subs3.subs(omega==c*kappa/sqrt(epsilon*mu))\n",
    "print             (eq_3_subs4)\n",
    "display(Math(latex(eq_3_subs4)))"
   ]
  },
  {
   "cell_type": "code",
   "execution_count": null,
   "metadata": {},
   "outputs": [],
   "source": []
  },
  {
   "cell_type": "raw",
   "metadata": {},
   "source": [
    "print (\"eq_4 =\")\n",
    "print             (eq_4)\n",
    "display(Math(latex(eq_4)))"
   ]
  },
  {
   "cell_type": "raw",
   "metadata": {
    "scrolled": true
   },
   "source": [
    "eq_4_subs1 = eq_4.subs(k_y == 0)\n",
    "print             (eq_4_subs1)\n",
    "display(Math(latex(eq_4_subs1)))"
   ]
  },
  {
   "cell_type": "raw",
   "metadata": {
    "scrolled": true
   },
   "source": [
    "eq_4_subs2 = (eq_4_subs1/(kappa^2 - k_z^2)).full_simplify()\n",
    "print             (eq_4_subs2)\n",
    "display(Math(latex(eq_4_subs2)))"
   ]
  },
  {
   "cell_type": "raw",
   "metadata": {
    "scrolled": true
   },
   "source": [
    "eq_4_subs3 = eq_4_subs2.substitute_function(H_bad_conductor_f_z, H_bad_conductor_sol_z)\n",
    "print             (eq_4_subs3)\n",
    "display(Math(latex(eq_4_subs3)))"
   ]
  },
  {
   "cell_type": "raw",
   "metadata": {},
   "source": [
    "eq_4_subs4 = eq_4_subs3.subs(omega==c*kappa/sqrt(epsilon*mu))\n",
    "print             (eq_4_subs4)\n",
    "display(Math(latex(eq_4_subs4)))"
   ]
  },
  {
   "cell_type": "code",
   "execution_count": null,
   "metadata": {},
   "outputs": [],
   "source": []
  },
  {
   "cell_type": "code",
   "execution_count": 48,
   "metadata": {},
   "outputs": [
    {
     "name": "stdout",
     "output_type": "stream",
     "text": [
      "eq_5 =\n",
      "-(k_z^2 - kappa_vacuum^2)*E_inner_vacuum_x(x) == -k_y*kappa_vacuum*H_inner_vacuum_f_z(x) + I*k_z*diff(E_inner_vacuum_z(x), x)\n"
     ]
    },
    {
     "data": {
      "text/latex": [
       "$\\displaystyle -{\\left(k_{z}^{2} - \\kappa_{\\mathit{vacuum}}^{2}\\right)} E_{{\\rm inner}_{{\\rm vacuum}_{x}}}\\left(x\\right) = -k_{y} \\kappa_{\\mathit{vacuum}} H_{{\\rm inner}_{{\\rm vacuum}_{f_{z}}}}\\left(x\\right) + i \\, k_{z} \\frac{\\partial}{\\partial x}E_{{\\rm inner}_{{\\rm vacuum}_{z}}}\\left(x\\right)$"
      ],
      "text/plain": [
       "<IPython.core.display.Math object>"
      ]
     },
     "metadata": {},
     "output_type": "display_data"
    },
    {
     "name": "stdout",
     "output_type": "stream",
     "text": [
      "eq_6 =\n",
      "-(k_z^2 - kappa_vacuum^2)*H_inner_vacuum_f_y(x) == -k_y*k_z*H_inner_vacuum_f_z(x) + I*kappa_vacuum*diff(E_inner_vacuum_z(x), x)\n"
     ]
    },
    {
     "data": {
      "text/latex": [
       "$\\displaystyle -{\\left(k_{z}^{2} - \\kappa_{\\mathit{vacuum}}^{2}\\right)} H_{{\\rm inner}_{{\\rm vacuum}_{f_{y}}}}\\left(x\\right) = -k_{y} k_{z} H_{{\\rm inner}_{{\\rm vacuum}_{f_{z}}}}\\left(x\\right) + i \\, \\kappa_{\\mathit{vacuum}} \\frac{\\partial}{\\partial x}E_{{\\rm inner}_{{\\rm vacuum}_{z}}}\\left(x\\right)$"
      ],
      "text/plain": [
       "<IPython.core.display.Math object>"
      ]
     },
     "metadata": {},
     "output_type": "display_data"
    }
   ],
   "source": [
    "print (\"eq_5 =\")\n",
    "print             (eq_5)\n",
    "display(Math(latex(eq_5)))\n",
    "\n",
    "print (\"eq_6 =\")\n",
    "print             (eq_6)\n",
    "display(Math(latex(eq_6)))"
   ]
  },
  {
   "cell_type": "code",
   "execution_count": 49,
   "metadata": {},
   "outputs": [
    {
     "name": "stdout",
     "output_type": "stream",
     "text": [
      "eq_7_l =\n",
      "(2*sqrt(epsilon_l)*k_z*kappa_l*mu_l*H_left_conductor_f_y(x) + (epsilon_l*k_z^2 + epsilon_l*kappa_l^2)*sqrt(mu_l)*E_left_conductor_x(x))/(epsilon_l*sqrt(mu_l)) == (k_y*kappa_l*sqrt(mu_l)*H_left_conductor_f_z(x) - I*sqrt(epsilon_l)*k_z*diff(E_left_conductor_z(x), x))/sqrt(epsilon_l)\n"
     ]
    },
    {
     "data": {
      "text/latex": [
       "$\\displaystyle \\frac{2 \\, \\sqrt{\\epsilon_{l}} k_{z} \\kappa_{l} \\mu_{l} H_{{\\rm left}_{{\\rm conductor}_{f_{y}}}}\\left(x\\right) + {\\left(\\epsilon_{l} k_{z}^{2} + \\epsilon_{l} \\kappa_{l}^{2}\\right)} \\sqrt{\\mu_{l}} E_{{\\rm left}_{{\\rm conductor}_{x}}}\\left(x\\right)}{\\epsilon_{l} \\sqrt{\\mu_{l}}} = \\frac{k_{y} \\kappa_{l} \\sqrt{\\mu_{l}} H_{{\\rm left}_{{\\rm conductor}_{f_{z}}}}\\left(x\\right) - i \\, \\sqrt{\\epsilon_{l}} k_{z} \\frac{\\partial}{\\partial x}E_{{\\rm left}_{{\\rm conductor}_{z}}}\\left(x\\right)}{\\sqrt{\\epsilon_{l}}}$"
      ],
      "text/plain": [
       "<IPython.core.display.Math object>"
      ]
     },
     "metadata": {},
     "output_type": "display_data"
    },
    {
     "name": "stdout",
     "output_type": "stream",
     "text": [
      "eq_8_l =\n",
      "(2*epsilon_l*k_z*kappa_l*sqrt(mu_l)*E_left_conductor_x(x) + (k_z^2 + kappa_l^2)*sqrt(epsilon_l)*mu_l*H_left_conductor_f_y(x))/(epsilon_l*sqrt(mu_l)) == (k_y*k_z*sqrt(mu_l)*H_left_conductor_f_z(x) - I*sqrt(epsilon_l)*kappa_l*diff(E_left_conductor_z(x), x))/sqrt(epsilon_l)\n"
     ]
    },
    {
     "data": {
      "text/latex": [
       "$\\displaystyle \\frac{2 \\, \\epsilon_{l} k_{z} \\kappa_{l} \\sqrt{\\mu_{l}} E_{{\\rm left}_{{\\rm conductor}_{x}}}\\left(x\\right) + {\\left(k_{z}^{2} + \\kappa_{l}^{2}\\right)} \\sqrt{\\epsilon_{l}} \\mu_{l} H_{{\\rm left}_{{\\rm conductor}_{f_{y}}}}\\left(x\\right)}{\\epsilon_{l} \\sqrt{\\mu_{l}}} = \\frac{k_{y} k_{z} \\sqrt{\\mu_{l}} H_{{\\rm left}_{{\\rm conductor}_{f_{z}}}}\\left(x\\right) - i \\, \\sqrt{\\epsilon_{l}} \\kappa_{l} \\frac{\\partial}{\\partial x}E_{{\\rm left}_{{\\rm conductor}_{z}}}\\left(x\\right)}{\\sqrt{\\epsilon_{l}}}$"
      ],
      "text/plain": [
       "<IPython.core.display.Math object>"
      ]
     },
     "metadata": {},
     "output_type": "display_data"
    }
   ],
   "source": [
    "print (\"eq_7_l =\")\n",
    "print             (eq_7_l)\n",
    "display(Math(latex(eq_7_l)))\n",
    "\n",
    "print (\"eq_8_l =\")\n",
    "print             (eq_8_l)\n",
    "display(Math(latex(eq_8_l)))"
   ]
  },
  {
   "cell_type": "code",
   "execution_count": 50,
   "metadata": {},
   "outputs": [
    {
     "name": "stdout",
     "output_type": "stream",
     "text": [
      "eq_7_r =\n",
      "-(k_z^2 - kappa_r^2)*E_right_conductor_x(x) == -(k_y*kappa_r*sqrt(mu_r)*H_right_conductor_f_z(x) - I*sqrt(epsilon_r)*k_z*diff(E_right_conductor_z(x), x))/sqrt(epsilon_r)\n"
     ]
    },
    {
     "data": {
      "text/latex": [
       "$\\displaystyle -{\\left(k_{z}^{2} - \\kappa_{r}^{2}\\right)} E_{{\\rm right}_{{\\rm conductor}_{x}}}\\left(x\\right) = -\\frac{k_{y} \\kappa_{r} \\sqrt{\\mu_{r}} H_{{\\rm right}_{{\\rm conductor}_{f_{z}}}}\\left(x\\right) - i \\, \\sqrt{\\epsilon_{r}} k_{z} \\frac{\\partial}{\\partial x}E_{{\\rm right}_{{\\rm conductor}_{z}}}\\left(x\\right)}{\\sqrt{\\epsilon_{r}}}$"
      ],
      "text/plain": [
       "<IPython.core.display.Math object>"
      ]
     },
     "metadata": {},
     "output_type": "display_data"
    },
    {
     "name": "stdout",
     "output_type": "stream",
     "text": [
      "eq_8_r =\n",
      "-(k_z^2 - kappa_r^2)*sqrt(mu_r)*H_right_conductor_f_y(x)/sqrt(epsilon_r) == -(k_y*k_z*sqrt(mu_r)*H_right_conductor_f_z(x) - I*sqrt(epsilon_r)*kappa_r*diff(E_right_conductor_z(x), x))/sqrt(epsilon_r)\n"
     ]
    },
    {
     "data": {
      "text/latex": [
       "$\\displaystyle -\\frac{{\\left(k_{z}^{2} - \\kappa_{r}^{2}\\right)} \\sqrt{\\mu_{r}} H_{{\\rm right}_{{\\rm conductor}_{f_{y}}}}\\left(x\\right)}{\\sqrt{\\epsilon_{r}}} = -\\frac{k_{y} k_{z} \\sqrt{\\mu_{r}} H_{{\\rm right}_{{\\rm conductor}_{f_{z}}}}\\left(x\\right) - i \\, \\sqrt{\\epsilon_{r}} \\kappa_{r} \\frac{\\partial}{\\partial x}E_{{\\rm right}_{{\\rm conductor}_{z}}}\\left(x\\right)}{\\sqrt{\\epsilon_{r}}}$"
      ],
      "text/plain": [
       "<IPython.core.display.Math object>"
      ]
     },
     "metadata": {},
     "output_type": "display_data"
    }
   ],
   "source": [
    "print (\"eq_7_r =\")\n",
    "print             (eq_7_r)\n",
    "display(Math(latex(eq_7_r)))\n",
    "\n",
    "print (\"eq_8_r =\")\n",
    "print             (eq_8_r)\n",
    "display(Math(latex(eq_8_r)))"
   ]
  },
  {
   "cell_type": "code",
   "execution_count": null,
   "metadata": {},
   "outputs": [],
   "source": []
  },
  {
   "cell_type": "code",
   "execution_count": 51,
   "metadata": {},
   "outputs": [
    {
     "name": "stdout",
     "output_type": "stream",
     "text": [
      "eq_5 =\n",
      "-(k_z^2 - kappa_vacuum^2)*E_inner_vacuum_x(x) == -k_y*kappa_vacuum*H_inner_vacuum_f_z(x) + I*k_z*diff(E_inner_vacuum_z(x), x)\n"
     ]
    },
    {
     "data": {
      "text/latex": [
       "$\\displaystyle -{\\left(k_{z}^{2} - \\kappa_{\\mathit{vacuum}}^{2}\\right)} E_{{\\rm inner}_{{\\rm vacuum}_{x}}}\\left(x\\right) = -k_{y} \\kappa_{\\mathit{vacuum}} H_{{\\rm inner}_{{\\rm vacuum}_{f_{z}}}}\\left(x\\right) + i \\, k_{z} \\frac{\\partial}{\\partial x}E_{{\\rm inner}_{{\\rm vacuum}_{z}}}\\left(x\\right)$"
      ],
      "text/plain": [
       "<IPython.core.display.Math object>"
      ]
     },
     "metadata": {},
     "output_type": "display_data"
    }
   ],
   "source": [
    "print (\"eq_5 =\")\n",
    "print             (eq_5)\n",
    "display(Math(latex(eq_5)))"
   ]
  },
  {
   "cell_type": "code",
   "execution_count": 52,
   "metadata": {
    "scrolled": true
   },
   "outputs": [
    {
     "name": "stdout",
     "output_type": "stream",
     "text": [
      "-(k_z^2 - kappa_vacuum^2)*E_inner_vacuum_x(x) == I*k_z*diff(E_inner_vacuum_z(x), x)\n"
     ]
    },
    {
     "data": {
      "text/latex": [
       "$\\displaystyle -{\\left(k_{z}^{2} - \\kappa_{\\mathit{vacuum}}^{2}\\right)} E_{{\\rm inner}_{{\\rm vacuum}_{x}}}\\left(x\\right) = i \\, k_{z} \\frac{\\partial}{\\partial x}E_{{\\rm inner}_{{\\rm vacuum}_{z}}}\\left(x\\right)$"
      ],
      "text/plain": [
       "<IPython.core.display.Math object>"
      ]
     },
     "metadata": {},
     "output_type": "display_data"
    }
   ],
   "source": [
    "eq_5_subs1 = eq_5.subs(k_y == 0)\n",
    "print             (eq_5_subs1)\n",
    "display(Math(latex(eq_5_subs1)))"
   ]
  },
  {
   "cell_type": "code",
   "execution_count": 53,
   "metadata": {
    "scrolled": true
   },
   "outputs": [
    {
     "name": "stdout",
     "output_type": "stream",
     "text": [
      "E_inner_vacuum_x(x) == -I*k_z*diff(E_inner_vacuum_z(x), x)/(k_z^2 - kappa_vacuum^2)\n"
     ]
    },
    {
     "data": {
      "text/latex": [
       "$\\displaystyle E_{{\\rm inner}_{{\\rm vacuum}_{x}}}\\left(x\\right) = -\\frac{i \\, k_{z} \\frac{\\partial}{\\partial x}E_{{\\rm inner}_{{\\rm vacuum}_{z}}}\\left(x\\right)}{k_{z}^{2} - \\kappa_{\\mathit{vacuum}}^{2}}$"
      ],
      "text/plain": [
       "<IPython.core.display.Math object>"
      ]
     },
     "metadata": {},
     "output_type": "display_data"
    }
   ],
   "source": [
    "eq_5_subs2 = (eq_5_subs1/(kappa_vacuum^2 - k_z^2)).full_simplify()\n",
    "print             (eq_5_subs2)\n",
    "display(Math(latex(eq_5_subs2)))"
   ]
  },
  {
   "cell_type": "code",
   "execution_count": 54,
   "metadata": {
    "scrolled": true
   },
   "outputs": [
    {
     "name": "stdout",
     "output_type": "stream",
     "text": [
      "E_inner_vacuum_x(x) == -I*(I*A2_z*K_vacuum*e^(I*K_vacuum*x) - I*A1_z*K_vacuum*e^(-I*K_vacuum*x))*k_z/(k_z^2 - kappa_vacuum^2)\n"
     ]
    },
    {
     "data": {
      "text/latex": [
       "$\\displaystyle E_{{\\rm inner}_{{\\rm vacuum}_{x}}}\\left(x\\right) = -\\frac{i \\, {\\left(i \\, \\mathit{A2}_{z} K_{\\mathit{vacuum}} e^{\\left(i \\, K_{\\mathit{vacuum}} x\\right)} - i \\, \\mathit{A1}_{z} K_{\\mathit{vacuum}} e^{\\left(-i \\, K_{\\mathit{vacuum}} x\\right)}\\right)} k_{z}}{k_{z}^{2} - \\kappa_{\\mathit{vacuum}}^{2}}$"
      ],
      "text/plain": [
       "<IPython.core.display.Math object>"
      ]
     },
     "metadata": {},
     "output_type": "display_data"
    }
   ],
   "source": [
    "eq_5_subs3 = eq_5_subs2.substitute_function(E_inner_vacuum_z, E_inner_vacuum_sol_z)\n",
    "print             (eq_5_subs3)\n",
    "display(Math(latex(eq_5_subs3)))"
   ]
  },
  {
   "cell_type": "code",
   "execution_count": 55,
   "metadata": {},
   "outputs": [
    {
     "name": "stdout",
     "output_type": "stream",
     "text": [
      "E_inner_vacuum_x(x) == -(A2_z*k_z*e^(2*I*sqrt(-k_z^2 + kappa_vacuum^2)*x) - A1_z*k_z)*e^(-I*sqrt(-k_z^2 + kappa_vacuum^2)*x)/sqrt(-k_z^2 + kappa_vacuum^2)\n"
     ]
    },
    {
     "data": {
      "text/latex": [
       "$\\displaystyle E_{{\\rm inner}_{{\\rm vacuum}_{x}}}\\left(x\\right) = -\\frac{{\\left(\\mathit{A2}_{z} k_{z} e^{\\left(2 i \\, \\sqrt{-k_{z}^{2} + \\kappa_{\\mathit{vacuum}}^{2}} x\\right)} - \\mathit{A1}_{z} k_{z}\\right)} e^{\\left(-i \\, \\sqrt{-k_{z}^{2} + \\kappa_{\\mathit{vacuum}}^{2}} x\\right)}}{\\sqrt{-k_{z}^{2} + \\kappa_{\\mathit{vacuum}}^{2}}}$"
      ],
      "text/plain": [
       "<IPython.core.display.Math object>"
      ]
     },
     "metadata": {},
     "output_type": "display_data"
    }
   ],
   "source": [
    "eq_5_subs4 = eq_5_subs3.subs(K_vacuum_subs).full_simplify()\n",
    "print             (eq_5_subs4)\n",
    "display(Math(latex(eq_5_subs4)))"
   ]
  },
  {
   "cell_type": "code",
   "execution_count": null,
   "metadata": {},
   "outputs": [],
   "source": []
  },
  {
   "cell_type": "code",
   "execution_count": 56,
   "metadata": {},
   "outputs": [
    {
     "name": "stdout",
     "output_type": "stream",
     "text": [
      "eq_6 =\n",
      "-(k_z^2 - kappa_vacuum^2)*H_inner_vacuum_f_y(x) == -k_y*k_z*H_inner_vacuum_f_z(x) + I*kappa_vacuum*diff(E_inner_vacuum_z(x), x)\n"
     ]
    },
    {
     "data": {
      "text/latex": [
       "$\\displaystyle -{\\left(k_{z}^{2} - \\kappa_{\\mathit{vacuum}}^{2}\\right)} H_{{\\rm inner}_{{\\rm vacuum}_{f_{y}}}}\\left(x\\right) = -k_{y} k_{z} H_{{\\rm inner}_{{\\rm vacuum}_{f_{z}}}}\\left(x\\right) + i \\, \\kappa_{\\mathit{vacuum}} \\frac{\\partial}{\\partial x}E_{{\\rm inner}_{{\\rm vacuum}_{z}}}\\left(x\\right)$"
      ],
      "text/plain": [
       "<IPython.core.display.Math object>"
      ]
     },
     "metadata": {},
     "output_type": "display_data"
    }
   ],
   "source": [
    "print (\"eq_6 =\")\n",
    "print             (eq_6)\n",
    "display(Math(latex(eq_6)))"
   ]
  },
  {
   "cell_type": "code",
   "execution_count": 57,
   "metadata": {
    "scrolled": true
   },
   "outputs": [
    {
     "name": "stdout",
     "output_type": "stream",
     "text": [
      "-(k_z^2 - kappa_vacuum^2)*H_inner_vacuum_f_y(x) == I*kappa_vacuum*diff(E_inner_vacuum_z(x), x)\n"
     ]
    },
    {
     "data": {
      "text/latex": [
       "$\\displaystyle -{\\left(k_{z}^{2} - \\kappa_{\\mathit{vacuum}}^{2}\\right)} H_{{\\rm inner}_{{\\rm vacuum}_{f_{y}}}}\\left(x\\right) = i \\, \\kappa_{\\mathit{vacuum}} \\frac{\\partial}{\\partial x}E_{{\\rm inner}_{{\\rm vacuum}_{z}}}\\left(x\\right)$"
      ],
      "text/plain": [
       "<IPython.core.display.Math object>"
      ]
     },
     "metadata": {},
     "output_type": "display_data"
    }
   ],
   "source": [
    "eq_6_subs1 = eq_6.subs(k_y == 0)\n",
    "print             (eq_6_subs1)\n",
    "display(Math(latex(eq_6_subs1)))"
   ]
  },
  {
   "cell_type": "code",
   "execution_count": 58,
   "metadata": {
    "scrolled": true
   },
   "outputs": [
    {
     "name": "stdout",
     "output_type": "stream",
     "text": [
      "H_inner_vacuum_f_y(x) == -I*kappa_vacuum*diff(E_inner_vacuum_z(x), x)/(k_z^2 - kappa_vacuum^2)\n"
     ]
    },
    {
     "data": {
      "text/latex": [
       "$\\displaystyle H_{{\\rm inner}_{{\\rm vacuum}_{f_{y}}}}\\left(x\\right) = -\\frac{i \\, \\kappa_{\\mathit{vacuum}} \\frac{\\partial}{\\partial x}E_{{\\rm inner}_{{\\rm vacuum}_{z}}}\\left(x\\right)}{k_{z}^{2} - \\kappa_{\\mathit{vacuum}}^{2}}$"
      ],
      "text/plain": [
       "<IPython.core.display.Math object>"
      ]
     },
     "metadata": {},
     "output_type": "display_data"
    }
   ],
   "source": [
    "eq_6_subs2 = (eq_6_subs1/(kappa_vacuum^2 - k_z^2)).full_simplify()\n",
    "print             (eq_6_subs2)\n",
    "display(Math(latex(eq_6_subs2)))"
   ]
  },
  {
   "cell_type": "code",
   "execution_count": 59,
   "metadata": {
    "scrolled": true
   },
   "outputs": [
    {
     "name": "stdout",
     "output_type": "stream",
     "text": [
      "H_inner_vacuum_f_y(x) == -I*(I*A2_z*K_vacuum*e^(I*K_vacuum*x) - I*A1_z*K_vacuum*e^(-I*K_vacuum*x))*kappa_vacuum/(k_z^2 - kappa_vacuum^2)\n"
     ]
    },
    {
     "data": {
      "text/latex": [
       "$\\displaystyle H_{{\\rm inner}_{{\\rm vacuum}_{f_{y}}}}\\left(x\\right) = -\\frac{i \\, {\\left(i \\, \\mathit{A2}_{z} K_{\\mathit{vacuum}} e^{\\left(i \\, K_{\\mathit{vacuum}} x\\right)} - i \\, \\mathit{A1}_{z} K_{\\mathit{vacuum}} e^{\\left(-i \\, K_{\\mathit{vacuum}} x\\right)}\\right)} \\kappa_{\\mathit{vacuum}}}{k_{z}^{2} - \\kappa_{\\mathit{vacuum}}^{2}}$"
      ],
      "text/plain": [
       "<IPython.core.display.Math object>"
      ]
     },
     "metadata": {},
     "output_type": "display_data"
    }
   ],
   "source": [
    "eq_6_subs3 = eq_6_subs2.substitute_function(E_inner_vacuum_z, E_inner_vacuum_sol_z)\n",
    "print             (eq_6_subs3)\n",
    "display(Math(latex(eq_6_subs3)))"
   ]
  },
  {
   "cell_type": "code",
   "execution_count": null,
   "metadata": {},
   "outputs": [],
   "source": []
  },
  {
   "cell_type": "code",
   "execution_count": 60,
   "metadata": {},
   "outputs": [
    {
     "name": "stdout",
     "output_type": "stream",
     "text": [
      "eq_7_l =\n",
      "(2*sqrt(epsilon_l)*k_z*kappa_l*mu_l*H_left_conductor_f_y(x) + (epsilon_l*k_z^2 + epsilon_l*kappa_l^2)*sqrt(mu_l)*E_left_conductor_x(x))/(epsilon_l*sqrt(mu_l)) == (k_y*kappa_l*sqrt(mu_l)*H_left_conductor_f_z(x) - I*sqrt(epsilon_l)*k_z*diff(E_left_conductor_z(x), x))/sqrt(epsilon_l)\n"
     ]
    },
    {
     "data": {
      "text/latex": [
       "$\\displaystyle \\frac{2 \\, \\sqrt{\\epsilon_{l}} k_{z} \\kappa_{l} \\mu_{l} H_{{\\rm left}_{{\\rm conductor}_{f_{y}}}}\\left(x\\right) + {\\left(\\epsilon_{l} k_{z}^{2} + \\epsilon_{l} \\kappa_{l}^{2}\\right)} \\sqrt{\\mu_{l}} E_{{\\rm left}_{{\\rm conductor}_{x}}}\\left(x\\right)}{\\epsilon_{l} \\sqrt{\\mu_{l}}} = \\frac{k_{y} \\kappa_{l} \\sqrt{\\mu_{l}} H_{{\\rm left}_{{\\rm conductor}_{f_{z}}}}\\left(x\\right) - i \\, \\sqrt{\\epsilon_{l}} k_{z} \\frac{\\partial}{\\partial x}E_{{\\rm left}_{{\\rm conductor}_{z}}}\\left(x\\right)}{\\sqrt{\\epsilon_{l}}}$"
      ],
      "text/plain": [
       "<IPython.core.display.Math object>"
      ]
     },
     "metadata": {},
     "output_type": "display_data"
    }
   ],
   "source": [
    "print (\"eq_7_l =\")\n",
    "print             (eq_7_l)\n",
    "display(Math(latex(eq_7_l)))"
   ]
  },
  {
   "cell_type": "code",
   "execution_count": 61,
   "metadata": {
    "scrolled": true
   },
   "outputs": [
    {
     "name": "stdout",
     "output_type": "stream",
     "text": [
      "(2*sqrt(epsilon_l)*k_z*kappa_l*mu_l*H_left_conductor_f_y(x) + (epsilon_l*k_z^2 + epsilon_l*kappa_l^2)*sqrt(mu_l)*E_left_conductor_x(x))/(epsilon_l*sqrt(mu_l)) == -I*k_z*diff(E_left_conductor_z(x), x)\n"
     ]
    },
    {
     "data": {
      "text/latex": [
       "$\\displaystyle \\frac{2 \\, \\sqrt{\\epsilon_{l}} k_{z} \\kappa_{l} \\mu_{l} H_{{\\rm left}_{{\\rm conductor}_{f_{y}}}}\\left(x\\right) + {\\left(\\epsilon_{l} k_{z}^{2} + \\epsilon_{l} \\kappa_{l}^{2}\\right)} \\sqrt{\\mu_{l}} E_{{\\rm left}_{{\\rm conductor}_{x}}}\\left(x\\right)}{\\epsilon_{l} \\sqrt{\\mu_{l}}} = -i \\, k_{z} \\frac{\\partial}{\\partial x}E_{{\\rm left}_{{\\rm conductor}_{z}}}\\left(x\\right)$"
      ],
      "text/plain": [
       "<IPython.core.display.Math object>"
      ]
     },
     "metadata": {},
     "output_type": "display_data"
    }
   ],
   "source": [
    "eq_7_l_subs1 = eq_7_l.subs(k_y == 0)\n",
    "print             (eq_7_l_subs1)\n",
    "display(Math(latex(eq_7_l_subs1)))"
   ]
  },
  {
   "cell_type": "code",
   "execution_count": 62,
   "metadata": {
    "scrolled": true
   },
   "outputs": [
    {
     "name": "stdout",
     "output_type": "stream",
     "text": [
      "-(2*sqrt(epsilon_l)*k_z*kappa_l*mu_l*H_left_conductor_f_y(x) + (epsilon_l*k_z^2 + epsilon_l*kappa_l^2)*sqrt(mu_l)*E_left_conductor_x(x))/((epsilon_l*k_z^2 - epsilon_l*kappa_l^2)*sqrt(mu_l)) == I*k_z*diff(E_left_conductor_z(x), x)/(k_z^2 - kappa_l^2)\n"
     ]
    },
    {
     "data": {
      "text/latex": [
       "$\\displaystyle -\\frac{2 \\, \\sqrt{\\epsilon_{l}} k_{z} \\kappa_{l} \\mu_{l} H_{{\\rm left}_{{\\rm conductor}_{f_{y}}}}\\left(x\\right) + {\\left(\\epsilon_{l} k_{z}^{2} + \\epsilon_{l} \\kappa_{l}^{2}\\right)} \\sqrt{\\mu_{l}} E_{{\\rm left}_{{\\rm conductor}_{x}}}\\left(x\\right)}{{\\left(\\epsilon_{l} k_{z}^{2} - \\epsilon_{l} \\kappa_{l}^{2}\\right)} \\sqrt{\\mu_{l}}} = \\frac{i \\, k_{z} \\frac{\\partial}{\\partial x}E_{{\\rm left}_{{\\rm conductor}_{z}}}\\left(x\\right)}{k_{z}^{2} - \\kappa_{l}^{2}}$"
      ],
      "text/plain": [
       "<IPython.core.display.Math object>"
      ]
     },
     "metadata": {},
     "output_type": "display_data"
    }
   ],
   "source": [
    "eq_7_l_subs2 = (eq_7_l_subs1/(kappa_l^2 - k_z^2)).full_simplify()\n",
    "print             (eq_7_l_subs2)\n",
    "display(Math(latex(eq_7_l_subs2)))"
   ]
  },
  {
   "cell_type": "code",
   "execution_count": 63,
   "metadata": {
    "scrolled": true
   },
   "outputs": [
    {
     "name": "stdout",
     "output_type": "stream",
     "text": [
      "-(2*sqrt(epsilon_l)*k_z*kappa_l*mu_l*H_left_conductor_f_y(x) + (epsilon_l*k_z^2 + epsilon_l*kappa_l^2)*sqrt(mu_l)*E_left_conductor_x(x))/((epsilon_l*k_z^2 - epsilon_l*kappa_l^2)*sqrt(mu_l)) == B1_zl*K_left_conductor*k_z*e^(-I*K_left_conductor*x)/(k_z^2 - kappa_l^2)\n"
     ]
    },
    {
     "data": {
      "text/latex": [
       "$\\displaystyle -\\frac{2 \\, \\sqrt{\\epsilon_{l}} k_{z} \\kappa_{l} \\mu_{l} H_{{\\rm left}_{{\\rm conductor}_{f_{y}}}}\\left(x\\right) + {\\left(\\epsilon_{l} k_{z}^{2} + \\epsilon_{l} \\kappa_{l}^{2}\\right)} \\sqrt{\\mu_{l}} E_{{\\rm left}_{{\\rm conductor}_{x}}}\\left(x\\right)}{{\\left(\\epsilon_{l} k_{z}^{2} - \\epsilon_{l} \\kappa_{l}^{2}\\right)} \\sqrt{\\mu_{l}}} = \\frac{\\mathit{B1}_{\\mathit{zl}} K_{\\mathit{left}_{\\mathit{conductor}}} k_{z} e^{\\left(-i \\, K_{\\mathit{left}_{\\mathit{conductor}}} x\\right)}}{k_{z}^{2} - \\kappa_{l}^{2}}$"
      ],
      "text/plain": [
       "<IPython.core.display.Math object>"
      ]
     },
     "metadata": {},
     "output_type": "display_data"
    }
   ],
   "source": [
    "eq_7_l_subs3 = eq_7_l_subs2.substitute_function(E_left_conductor_z, E_left_conductor_sol_z)\n",
    "print             (eq_7_l_subs3)\n",
    "display(Math(latex(eq_7_l_subs3)))"
   ]
  },
  {
   "cell_type": "code",
   "execution_count": 64,
   "metadata": {},
   "outputs": [
    {
     "name": "stdout",
     "output_type": "stream",
     "text": [
      "-(2*sqrt(epsilon_l)*k_z*kappa_l*mu_l*H_left_conductor_f_y(x) + (epsilon_l*k_z^2 + epsilon_l*kappa_l^2)*sqrt(mu_l)*E_left_conductor_x(x))/((epsilon_l*k_z^2 - epsilon_l*kappa_l^2)*sqrt(mu_l)) == -B1_zl*k_z*e^(-I*sqrt(-k_z^2 + kappa_l^2)*x)/sqrt(-k_z^2 + kappa_l^2)\n"
     ]
    },
    {
     "data": {
      "text/latex": [
       "$\\displaystyle -\\frac{2 \\, \\sqrt{\\epsilon_{l}} k_{z} \\kappa_{l} \\mu_{l} H_{{\\rm left}_{{\\rm conductor}_{f_{y}}}}\\left(x\\right) + {\\left(\\epsilon_{l} k_{z}^{2} + \\epsilon_{l} \\kappa_{l}^{2}\\right)} \\sqrt{\\mu_{l}} E_{{\\rm left}_{{\\rm conductor}_{x}}}\\left(x\\right)}{{\\left(\\epsilon_{l} k_{z}^{2} - \\epsilon_{l} \\kappa_{l}^{2}\\right)} \\sqrt{\\mu_{l}}} = -\\frac{\\mathit{B1}_{\\mathit{zl}} k_{z} e^{\\left(-i \\, \\sqrt{-k_{z}^{2} + \\kappa_{l}^{2}} x\\right)}}{\\sqrt{-k_{z}^{2} + \\kappa_{l}^{2}}}$"
      ],
      "text/plain": [
       "<IPython.core.display.Math object>"
      ]
     },
     "metadata": {},
     "output_type": "display_data"
    }
   ],
   "source": [
    "eq_7_l_subs4 = eq_7_l_subs3.subs(K_left_conductor_subs).full_simplify()\n",
    "print             (eq_7_l_subs4)\n",
    "display(Math(latex(eq_7_l_subs4)))"
   ]
  },
  {
   "cell_type": "code",
   "execution_count": null,
   "metadata": {},
   "outputs": [],
   "source": []
  },
  {
   "cell_type": "code",
   "execution_count": 65,
   "metadata": {},
   "outputs": [
    {
     "name": "stdout",
     "output_type": "stream",
     "text": [
      "eq_7_r =\n",
      "-(k_z^2 - kappa_r^2)*E_right_conductor_x(x) == -(k_y*kappa_r*sqrt(mu_r)*H_right_conductor_f_z(x) - I*sqrt(epsilon_r)*k_z*diff(E_right_conductor_z(x), x))/sqrt(epsilon_r)\n"
     ]
    },
    {
     "data": {
      "text/latex": [
       "$\\displaystyle -{\\left(k_{z}^{2} - \\kappa_{r}^{2}\\right)} E_{{\\rm right}_{{\\rm conductor}_{x}}}\\left(x\\right) = -\\frac{k_{y} \\kappa_{r} \\sqrt{\\mu_{r}} H_{{\\rm right}_{{\\rm conductor}_{f_{z}}}}\\left(x\\right) - i \\, \\sqrt{\\epsilon_{r}} k_{z} \\frac{\\partial}{\\partial x}E_{{\\rm right}_{{\\rm conductor}_{z}}}\\left(x\\right)}{\\sqrt{\\epsilon_{r}}}$"
      ],
      "text/plain": [
       "<IPython.core.display.Math object>"
      ]
     },
     "metadata": {},
     "output_type": "display_data"
    }
   ],
   "source": [
    "print (\"eq_7_r =\")\n",
    "print             (eq_7_r)\n",
    "display(Math(latex(eq_7_r)))"
   ]
  },
  {
   "cell_type": "code",
   "execution_count": 66,
   "metadata": {
    "scrolled": true
   },
   "outputs": [
    {
     "name": "stdout",
     "output_type": "stream",
     "text": [
      "-(k_z^2 - kappa_r^2)*E_right_conductor_x(x) == I*k_z*diff(E_right_conductor_z(x), x)\n"
     ]
    },
    {
     "data": {
      "text/latex": [
       "$\\displaystyle -{\\left(k_{z}^{2} - \\kappa_{r}^{2}\\right)} E_{{\\rm right}_{{\\rm conductor}_{x}}}\\left(x\\right) = i \\, k_{z} \\frac{\\partial}{\\partial x}E_{{\\rm right}_{{\\rm conductor}_{z}}}\\left(x\\right)$"
      ],
      "text/plain": [
       "<IPython.core.display.Math object>"
      ]
     },
     "metadata": {},
     "output_type": "display_data"
    }
   ],
   "source": [
    "eq_7_r_subs1 = eq_7_r.subs(k_y == 0)\n",
    "print             (eq_7_r_subs1)\n",
    "display(Math(latex(eq_7_r_subs1)))"
   ]
  },
  {
   "cell_type": "code",
   "execution_count": 67,
   "metadata": {
    "scrolled": true
   },
   "outputs": [
    {
     "name": "stdout",
     "output_type": "stream",
     "text": [
      "E_right_conductor_x(x) == -I*k_z*diff(E_right_conductor_z(x), x)/(k_z^2 - kappa_r^2)\n"
     ]
    },
    {
     "data": {
      "text/latex": [
       "$\\displaystyle E_{{\\rm right}_{{\\rm conductor}_{x}}}\\left(x\\right) = -\\frac{i \\, k_{z} \\frac{\\partial}{\\partial x}E_{{\\rm right}_{{\\rm conductor}_{z}}}\\left(x\\right)}{k_{z}^{2} - \\kappa_{r}^{2}}$"
      ],
      "text/plain": [
       "<IPython.core.display.Math object>"
      ]
     },
     "metadata": {},
     "output_type": "display_data"
    }
   ],
   "source": [
    "eq_7_r_subs2 = (eq_7_r_subs1/(kappa_r^2 - k_z^2)).full_simplify()\n",
    "print             (eq_7_r_subs2)\n",
    "display(Math(latex(eq_7_r_subs2)))"
   ]
  },
  {
   "cell_type": "code",
   "execution_count": 68,
   "metadata": {
    "scrolled": true
   },
   "outputs": [
    {
     "name": "stdout",
     "output_type": "stream",
     "text": [
      "E_right_conductor_x(x) == B1_zr*K_right_conductor*k_z*e^(I*K_right_conductor*x)/(k_z^2 - kappa_r^2)\n"
     ]
    },
    {
     "data": {
      "text/latex": [
       "$\\displaystyle E_{{\\rm right}_{{\\rm conductor}_{x}}}\\left(x\\right) = \\frac{\\mathit{B1}_{\\mathit{zr}} K_{\\mathit{right}_{\\mathit{conductor}}} k_{z} e^{\\left(i \\, K_{\\mathit{right}_{\\mathit{conductor}}} x\\right)}}{k_{z}^{2} - \\kappa_{r}^{2}}$"
      ],
      "text/plain": [
       "<IPython.core.display.Math object>"
      ]
     },
     "metadata": {},
     "output_type": "display_data"
    }
   ],
   "source": [
    "eq_7_r_subs3 = eq_7_r_subs2.substitute_function(E_right_conductor_z, E_right_conductor_sol_z)\n",
    "print             (eq_7_r_subs3)\n",
    "display(Math(latex(eq_7_r_subs3)))"
   ]
  },
  {
   "cell_type": "code",
   "execution_count": 69,
   "metadata": {},
   "outputs": [
    {
     "name": "stdout",
     "output_type": "stream",
     "text": [
      "E_right_conductor_x(x) == -B1_zr*k_z*e^(I*sqrt(-k_z^2 + kappa_r^2)*x)/sqrt(-k_z^2 + kappa_r^2)\n"
     ]
    },
    {
     "data": {
      "text/latex": [
       "$\\displaystyle E_{{\\rm right}_{{\\rm conductor}_{x}}}\\left(x\\right) = -\\frac{\\mathit{B1}_{\\mathit{zr}} k_{z} e^{\\left(i \\, \\sqrt{-k_{z}^{2} + \\kappa_{r}^{2}} x\\right)}}{\\sqrt{-k_{z}^{2} + \\kappa_{r}^{2}}}$"
      ],
      "text/plain": [
       "<IPython.core.display.Math object>"
      ]
     },
     "metadata": {},
     "output_type": "display_data"
    }
   ],
   "source": [
    "eq_7_r_subs4 = eq_7_r_subs3.subs(K_right_conductor_subs).full_simplify()\n",
    "print             (eq_7_r_subs4)\n",
    "display(Math(latex(eq_7_r_subs4)))"
   ]
  },
  {
   "cell_type": "code",
   "execution_count": null,
   "metadata": {},
   "outputs": [],
   "source": []
  },
  {
   "cell_type": "code",
   "execution_count": 70,
   "metadata": {},
   "outputs": [
    {
     "name": "stdout",
     "output_type": "stream",
     "text": [
      "eq_8_l =\n",
      "(2*epsilon_l*k_z*kappa_l*sqrt(mu_l)*E_left_conductor_x(x) + (k_z^2 + kappa_l^2)*sqrt(epsilon_l)*mu_l*H_left_conductor_f_y(x))/(epsilon_l*sqrt(mu_l)) == (k_y*k_z*sqrt(mu_l)*H_left_conductor_f_z(x) - I*sqrt(epsilon_l)*kappa_l*diff(E_left_conductor_z(x), x))/sqrt(epsilon_l)\n"
     ]
    },
    {
     "data": {
      "text/latex": [
       "$\\displaystyle \\frac{2 \\, \\epsilon_{l} k_{z} \\kappa_{l} \\sqrt{\\mu_{l}} E_{{\\rm left}_{{\\rm conductor}_{x}}}\\left(x\\right) + {\\left(k_{z}^{2} + \\kappa_{l}^{2}\\right)} \\sqrt{\\epsilon_{l}} \\mu_{l} H_{{\\rm left}_{{\\rm conductor}_{f_{y}}}}\\left(x\\right)}{\\epsilon_{l} \\sqrt{\\mu_{l}}} = \\frac{k_{y} k_{z} \\sqrt{\\mu_{l}} H_{{\\rm left}_{{\\rm conductor}_{f_{z}}}}\\left(x\\right) - i \\, \\sqrt{\\epsilon_{l}} \\kappa_{l} \\frac{\\partial}{\\partial x}E_{{\\rm left}_{{\\rm conductor}_{z}}}\\left(x\\right)}{\\sqrt{\\epsilon_{l}}}$"
      ],
      "text/plain": [
       "<IPython.core.display.Math object>"
      ]
     },
     "metadata": {},
     "output_type": "display_data"
    }
   ],
   "source": [
    "print (\"eq_8_l =\")\n",
    "print             (eq_8_l)\n",
    "display(Math(latex(eq_8_l)))"
   ]
  },
  {
   "cell_type": "code",
   "execution_count": 71,
   "metadata": {
    "scrolled": true
   },
   "outputs": [
    {
     "name": "stdout",
     "output_type": "stream",
     "text": [
      "(2*epsilon_l*k_z*kappa_l*sqrt(mu_l)*E_left_conductor_x(x) + (k_z^2 + kappa_l^2)*sqrt(epsilon_l)*mu_l*H_left_conductor_f_y(x))/(epsilon_l*sqrt(mu_l)) == -I*kappa_l*diff(E_left_conductor_z(x), x)\n"
     ]
    },
    {
     "data": {
      "text/latex": [
       "$\\displaystyle \\frac{2 \\, \\epsilon_{l} k_{z} \\kappa_{l} \\sqrt{\\mu_{l}} E_{{\\rm left}_{{\\rm conductor}_{x}}}\\left(x\\right) + {\\left(k_{z}^{2} + \\kappa_{l}^{2}\\right)} \\sqrt{\\epsilon_{l}} \\mu_{l} H_{{\\rm left}_{{\\rm conductor}_{f_{y}}}}\\left(x\\right)}{\\epsilon_{l} \\sqrt{\\mu_{l}}} = -i \\, \\kappa_{l} \\frac{\\partial}{\\partial x}E_{{\\rm left}_{{\\rm conductor}_{z}}}\\left(x\\right)$"
      ],
      "text/plain": [
       "<IPython.core.display.Math object>"
      ]
     },
     "metadata": {},
     "output_type": "display_data"
    }
   ],
   "source": [
    "eq_8_l_subs1 = eq_8_l.subs(k_y == 0)\n",
    "print             (eq_8_l_subs1)\n",
    "display(Math(latex(eq_8_l_subs1)))"
   ]
  },
  {
   "cell_type": "code",
   "execution_count": 72,
   "metadata": {
    "scrolled": true
   },
   "outputs": [
    {
     "name": "stdout",
     "output_type": "stream",
     "text": [
      "-(2*epsilon_l*k_z*kappa_l*sqrt(mu_l)*E_left_conductor_x(x) + (k_z^2 + kappa_l^2)*sqrt(epsilon_l)*mu_l*H_left_conductor_f_y(x))/((epsilon_l*k_z^2 - epsilon_l*kappa_l^2)*sqrt(mu_l)) == I*kappa_l*diff(E_left_conductor_z(x), x)/(k_z^2 - kappa_l^2)\n"
     ]
    },
    {
     "data": {
      "text/latex": [
       "$\\displaystyle -\\frac{2 \\, \\epsilon_{l} k_{z} \\kappa_{l} \\sqrt{\\mu_{l}} E_{{\\rm left}_{{\\rm conductor}_{x}}}\\left(x\\right) + {\\left(k_{z}^{2} + \\kappa_{l}^{2}\\right)} \\sqrt{\\epsilon_{l}} \\mu_{l} H_{{\\rm left}_{{\\rm conductor}_{f_{y}}}}\\left(x\\right)}{{\\left(\\epsilon_{l} k_{z}^{2} - \\epsilon_{l} \\kappa_{l}^{2}\\right)} \\sqrt{\\mu_{l}}} = \\frac{i \\, \\kappa_{l} \\frac{\\partial}{\\partial x}E_{{\\rm left}_{{\\rm conductor}_{z}}}\\left(x\\right)}{k_{z}^{2} - \\kappa_{l}^{2}}$"
      ],
      "text/plain": [
       "<IPython.core.display.Math object>"
      ]
     },
     "metadata": {},
     "output_type": "display_data"
    }
   ],
   "source": [
    "eq_8_l_subs2 = (eq_8_l_subs1/(kappa_l^2 - k_z^2)).full_simplify()\n",
    "print             (eq_8_l_subs2)\n",
    "display(Math(latex(eq_8_l_subs2)))"
   ]
  },
  {
   "cell_type": "code",
   "execution_count": 73,
   "metadata": {
    "scrolled": true
   },
   "outputs": [
    {
     "name": "stdout",
     "output_type": "stream",
     "text": [
      "-(2*epsilon_l*k_z*kappa_l*sqrt(mu_l)*E_left_conductor_x(x) + (k_z^2 + kappa_l^2)*sqrt(epsilon_l)*mu_l*H_left_conductor_f_y(x))/((epsilon_l*k_z^2 - epsilon_l*kappa_l^2)*sqrt(mu_l)) == B1_zl*K_left_conductor*kappa_l*e^(-I*K_left_conductor*x)/(k_z^2 - kappa_l^2)\n"
     ]
    },
    {
     "data": {
      "text/latex": [
       "$\\displaystyle -\\frac{2 \\, \\epsilon_{l} k_{z} \\kappa_{l} \\sqrt{\\mu_{l}} E_{{\\rm left}_{{\\rm conductor}_{x}}}\\left(x\\right) + {\\left(k_{z}^{2} + \\kappa_{l}^{2}\\right)} \\sqrt{\\epsilon_{l}} \\mu_{l} H_{{\\rm left}_{{\\rm conductor}_{f_{y}}}}\\left(x\\right)}{{\\left(\\epsilon_{l} k_{z}^{2} - \\epsilon_{l} \\kappa_{l}^{2}\\right)} \\sqrt{\\mu_{l}}} = \\frac{\\mathit{B1}_{\\mathit{zl}} K_{\\mathit{left}_{\\mathit{conductor}}} \\kappa_{l} e^{\\left(-i \\, K_{\\mathit{left}_{\\mathit{conductor}}} x\\right)}}{k_{z}^{2} - \\kappa_{l}^{2}}$"
      ],
      "text/plain": [
       "<IPython.core.display.Math object>"
      ]
     },
     "metadata": {},
     "output_type": "display_data"
    }
   ],
   "source": [
    "eq_8_l_subs3 = eq_8_l_subs2.substitute_function(E_left_conductor_z, E_left_conductor_sol_z)\n",
    "print             (eq_8_l_subs3)\n",
    "display(Math(latex(eq_8_l_subs3)))"
   ]
  },
  {
   "cell_type": "code",
   "execution_count": null,
   "metadata": {},
   "outputs": [],
   "source": []
  },
  {
   "cell_type": "code",
   "execution_count": 74,
   "metadata": {},
   "outputs": [
    {
     "name": "stdout",
     "output_type": "stream",
     "text": [
      "eq_8_r =\n",
      "-(k_z^2 - kappa_r^2)*sqrt(mu_r)*H_right_conductor_f_y(x)/sqrt(epsilon_r) == -(k_y*k_z*sqrt(mu_r)*H_right_conductor_f_z(x) - I*sqrt(epsilon_r)*kappa_r*diff(E_right_conductor_z(x), x))/sqrt(epsilon_r)\n"
     ]
    },
    {
     "data": {
      "text/latex": [
       "$\\displaystyle -\\frac{{\\left(k_{z}^{2} - \\kappa_{r}^{2}\\right)} \\sqrt{\\mu_{r}} H_{{\\rm right}_{{\\rm conductor}_{f_{y}}}}\\left(x\\right)}{\\sqrt{\\epsilon_{r}}} = -\\frac{k_{y} k_{z} \\sqrt{\\mu_{r}} H_{{\\rm right}_{{\\rm conductor}_{f_{z}}}}\\left(x\\right) - i \\, \\sqrt{\\epsilon_{r}} \\kappa_{r} \\frac{\\partial}{\\partial x}E_{{\\rm right}_{{\\rm conductor}_{z}}}\\left(x\\right)}{\\sqrt{\\epsilon_{r}}}$"
      ],
      "text/plain": [
       "<IPython.core.display.Math object>"
      ]
     },
     "metadata": {},
     "output_type": "display_data"
    }
   ],
   "source": [
    "print (\"eq_8_r =\")\n",
    "print             (eq_8_r)\n",
    "display(Math(latex(eq_8_r)))"
   ]
  },
  {
   "cell_type": "code",
   "execution_count": 75,
   "metadata": {
    "scrolled": true
   },
   "outputs": [
    {
     "name": "stdout",
     "output_type": "stream",
     "text": [
      "-(k_z^2 - kappa_r^2)*sqrt(mu_r)*H_right_conductor_f_y(x)/sqrt(epsilon_r) == I*kappa_r*diff(E_right_conductor_z(x), x)\n"
     ]
    },
    {
     "data": {
      "text/latex": [
       "$\\displaystyle -\\frac{{\\left(k_{z}^{2} - \\kappa_{r}^{2}\\right)} \\sqrt{\\mu_{r}} H_{{\\rm right}_{{\\rm conductor}_{f_{y}}}}\\left(x\\right)}{\\sqrt{\\epsilon_{r}}} = i \\, \\kappa_{r} \\frac{\\partial}{\\partial x}E_{{\\rm right}_{{\\rm conductor}_{z}}}\\left(x\\right)$"
      ],
      "text/plain": [
       "<IPython.core.display.Math object>"
      ]
     },
     "metadata": {},
     "output_type": "display_data"
    }
   ],
   "source": [
    "eq_8_r_subs1 = eq_8_r.subs(k_y == 0)\n",
    "print             (eq_8_r_subs1)\n",
    "display(Math(latex(eq_8_r_subs1)))"
   ]
  },
  {
   "cell_type": "code",
   "execution_count": 76,
   "metadata": {
    "scrolled": true
   },
   "outputs": [
    {
     "name": "stdout",
     "output_type": "stream",
     "text": [
      "sqrt(mu_r)*H_right_conductor_f_y(x)/sqrt(epsilon_r) == -I*kappa_r*diff(E_right_conductor_z(x), x)/(k_z^2 - kappa_r^2)\n"
     ]
    },
    {
     "data": {
      "text/latex": [
       "$\\displaystyle \\frac{\\sqrt{\\mu_{r}} H_{{\\rm right}_{{\\rm conductor}_{f_{y}}}}\\left(x\\right)}{\\sqrt{\\epsilon_{r}}} = -\\frac{i \\, \\kappa_{r} \\frac{\\partial}{\\partial x}E_{{\\rm right}_{{\\rm conductor}_{z}}}\\left(x\\right)}{k_{z}^{2} - \\kappa_{r}^{2}}$"
      ],
      "text/plain": [
       "<IPython.core.display.Math object>"
      ]
     },
     "metadata": {},
     "output_type": "display_data"
    }
   ],
   "source": [
    "eq_8_r_subs2 = (eq_8_r_subs1/(kappa_r^2 - k_z^2)).full_simplify()\n",
    "print             (eq_8_r_subs2)\n",
    "display(Math(latex(eq_8_r_subs2)))"
   ]
  },
  {
   "cell_type": "code",
   "execution_count": 77,
   "metadata": {
    "scrolled": true
   },
   "outputs": [
    {
     "name": "stdout",
     "output_type": "stream",
     "text": [
      "sqrt(mu_r)*H_right_conductor_f_y(x)/sqrt(epsilon_r) == B1_zr*K_right_conductor*kappa_r*e^(I*K_right_conductor*x)/(k_z^2 - kappa_r^2)\n"
     ]
    },
    {
     "data": {
      "text/latex": [
       "$\\displaystyle \\frac{\\sqrt{\\mu_{r}} H_{{\\rm right}_{{\\rm conductor}_{f_{y}}}}\\left(x\\right)}{\\sqrt{\\epsilon_{r}}} = \\frac{\\mathit{B1}_{\\mathit{zr}} K_{\\mathit{right}_{\\mathit{conductor}}} \\kappa_{r} e^{\\left(i \\, K_{\\mathit{right}_{\\mathit{conductor}}} x\\right)}}{k_{z}^{2} - \\kappa_{r}^{2}}$"
      ],
      "text/plain": [
       "<IPython.core.display.Math object>"
      ]
     },
     "metadata": {},
     "output_type": "display_data"
    }
   ],
   "source": [
    "eq_8_r_subs3 = eq_8_r_subs2.substitute_function(E_right_conductor_z, E_right_conductor_sol_z)\n",
    "print             (eq_8_r_subs3)\n",
    "display(Math(latex(eq_8_r_subs3)))"
   ]
  },
  {
   "cell_type": "code",
   "execution_count": null,
   "metadata": {},
   "outputs": [],
   "source": []
  },
  {
   "cell_type": "raw",
   "metadata": {},
   "source": [
    "# нормальная компонента электрического смещения\n",
    "eq_5_subs4x0 = eq_5_subs4.subs(x == 0)\n",
    "print(eq_5_subs4x0)\n",
    "display(Math(latex(eq_5_subs4x0)))\n",
    "\n",
    "print(\"\")\n",
    "\n",
    "eq_7_subs4x0 = eq_7_subs4.subs(x == 0)\n",
    "print(eq_7_subs4x0)\n",
    "display(Math(latex(eq_7_subs4x0)))\n",
    "print(\"\")"
   ]
  },
  {
   "cell_type": "raw",
   "metadata": {},
   "source": [
    "fix_c_epsilon_complex = False"
   ]
  },
  {
   "cell_type": "code",
   "execution_count": 78,
   "metadata": {},
   "outputs": [
    {
     "data": {
      "text/latex": [
       "$\\displaystyle \\frac{\\sqrt{-k_{z}^{2} + \\kappa_{l}^{2}} \\mathit{B1}_{\\mathit{zl}} \\kappa_{l}^{2} e^{\\left(i \\, \\sqrt{-k_{z}^{2} + \\kappa_{l}^{2}} a\\right)}}{{\\left(k_{z}^{2} - \\kappa_{l}^{2}\\right)} \\mu_{l}} = -\\frac{i \\, {\\left(-i \\, \\sqrt{-k_{z}^{2} + \\kappa_{\\mathit{vacuum}}^{2}} \\mathit{A1}_{z} e^{\\left(i \\, \\sqrt{-k_{z}^{2} + \\kappa_{\\mathit{vacuum}}^{2}} a\\right)} + i \\, \\sqrt{-k_{z}^{2} + \\kappa_{\\mathit{vacuum}}^{2}} \\mathit{A2}_{z} e^{\\left(-i \\, \\sqrt{-k_{z}^{2} + \\kappa_{\\mathit{vacuum}}^{2}} a\\right)}\\right)} \\kappa_{\\mathit{vacuum}}^{2}}{k_{z}^{2} - \\kappa_{\\mathit{vacuum}}^{2}}$"
      ],
      "text/plain": [
       "<IPython.core.display.Math object>"
      ]
     },
     "metadata": {},
     "output_type": "display_data"
    },
    {
     "data": {
      "text/latex": [
       "$\\displaystyle \\frac{\\sqrt{-k_{z}^{2} + \\kappa_{r}^{2}} \\mathit{B1}_{\\mathit{zr}} \\kappa_{r}^{2} e^{\\left(i \\, \\sqrt{-k_{z}^{2} + \\kappa_{r}^{2}} a\\right)}}{{\\left(k_{z}^{2} - \\kappa_{r}^{2}\\right)} \\mu_{r}} = -\\frac{i \\, {\\left(i \\, \\sqrt{-k_{z}^{2} + \\kappa_{\\mathit{vacuum}}^{2}} \\mathit{A2}_{z} e^{\\left(i \\, \\sqrt{-k_{z}^{2} + \\kappa_{\\mathit{vacuum}}^{2}} a\\right)} - i \\, \\sqrt{-k_{z}^{2} + \\kappa_{\\mathit{vacuum}}^{2}} \\mathit{A1}_{z} e^{\\left(-i \\, \\sqrt{-k_{z}^{2} + \\kappa_{\\mathit{vacuum}}^{2}} a\\right)}\\right)} \\kappa_{\\mathit{vacuum}}^{2}}{k_{z}^{2} - \\kappa_{\\mathit{vacuum}}^{2}}$"
      ],
      "text/plain": [
       "<IPython.core.display.Math object>"
      ]
     },
     "metadata": {},
     "output_type": "display_data"
    }
   ],
   "source": [
    "# тангенциальная компонента напряженности магнитного поля\n",
    "# eqHz_a  = (H_bad_conductor_sol_z(0)  == H_inner_vacuum_sol_z(0)).subs(eqEz_0, eqEy_0)\n",
    "# eqHy_a  = (H_bad_conductor_sol_y(0)  == H_inner_vacuum_sol_y(0)).subs(eqEy_0, eqEz_0)\n",
    "\n",
    "#8 sqrt(mu)*H_bad_conductor_f_y(x)/sqrt(epsilon) == B1_z*K_conductor*kappa*e^(I*K_conductor*x)/(k_z^2 - kappa^2)\n",
    "#6 H_inner_vacuum_f_y(x) == -I*(I*A2_z*K_vacuum*e^(I*K_vacuum*x) - I*A1_z*K_vacuum*e^(-I*K_vacuum*x))*kappa_vacuum/(k_z^2 - kappa_vacuum^2)\n",
    "\n",
    "# eq_Hy_0 = eq_8_subs3.rhs().subs(x == 0)*sqrt(epsilon_complex)/sqrt(mu) == eq_6_subs3.rhs().subs(x == 0)\n",
    "# eq_Hy_0 = (eq_8_subs3.rhs().subs(x == 0).subs(K_conductor_subs)*sqrt(epsilon_complex)/sqrt(mu)) \\\n",
    "#         == eq_6_subs3.rhs().subs(x == 0).subs(K_vacuum_subs)\n",
    "\n",
    "# sqrt(mu / epsilon_complex) = omega * mu / kappa\n",
    "# sqrt(mu / epsilon_complex) = omega * mu_rel * mu_0 / kappa\n",
    "\n",
    "# kappa/mu == omega * sqrt(epsilon_complex/mu)\n",
    "# sqrt(mu_0 / epsilon_0) = omega * mu_0 / kappa_vacuum\n",
    "\n",
    "# kappa_vacuum == omega/c\n",
    "# sqrt(mu_0 / epsilon_0) = c * mu_0\n",
    "# c = 1 / sqrt(mu_0 * epsilon_0)\n",
    "\n",
    "# kappa = omega * sqrt(epsilon_comlex*mu)\n",
    "# kappa_vacuum = omega * sqrt(epsilon_0*mu_0) = omega/c\n",
    "\n",
    "# sqrt(mu_0 / epsilon_0) = 1/(c*epsilon_0) = omega * mu_0 / kappa_vacuum\n",
    "# sqrt(mu / epsilon_complex) = 1/(c*epsilon_complex) = omega * mu / kappa\n",
    "\n",
    "# 1/mu_0 = c^2*epsolon_0\n",
    "\n",
    "#eq_Hy_0 = (eq_8_subs3.rhs().subs(x == 0).subs(K_conductor_subs)*kappa/(mu_rel * mu_0 * omega/c)) \\\n",
    "#        == eq_6_subs3.rhs().subs(x == 0).subs(K_vacuum_subs)*kappa_vacuum/(mu_0 * omega/c)\n",
    "\n",
    "# 1/mu_0 = c^2 * epsilon_0\n",
    "\n",
    "eq_Hy_l = ((eq_8_l_subs3.rhs().subs(x == -a).subs(K_left_conductor_subs)*kappa_l/(mu_l)) \\\n",
    "        ==  eq_6_subs3.rhs().subs(x == -a).subs(K_vacuum_subs)*kappa_vacuum/(mu_0)) \n",
    "\n",
    "\n",
    "eq_Hy_r = ((eq_8_r_subs3.rhs().subs(x == a).subs(K_right_conductor_subs)*kappa_r/(mu_r)) \\\n",
    "        ==    eq_6_subs3.rhs().subs(x == a).subs(K_vacuum_subs)*kappa_vacuum/(mu_0)) \n",
    "\n",
    "\n",
    "display(Math(latex(eq_Hy_l)))\n",
    "display(Math(latex(eq_Hy_r)))"
   ]
  },
  {
   "cell_type": "code",
   "execution_count": 79,
   "metadata": {},
   "outputs": [
    {
     "data": {
      "text/latex": [
       "$\\displaystyle \\frac{\\sqrt{-k_{z}^{2} + \\kappa_{l}^{2}} {\\left(\\mathit{A1}_{z} e^{\\left(-i \\, K_{\\mathit{left}_{\\mathit{conductor}}} a + i \\, K_{\\mathit{vacuum}} a\\right)} + \\mathit{A2}_{z} e^{\\left(-i \\, K_{\\mathit{left}_{\\mathit{conductor}}} a - i \\, K_{\\mathit{vacuum}} a\\right)}\\right)} \\kappa_{l}^{2} e^{\\left(i \\, \\sqrt{-k_{z}^{2} + \\kappa_{l}^{2}} a\\right)}}{{\\left(k_{z}^{2} - \\kappa_{l}^{2}\\right)} \\mu_{l}} = -\\frac{i \\, {\\left(-i \\, \\sqrt{-k_{z}^{2} + \\kappa_{\\mathit{vacuum}}^{2}} \\mathit{A1}_{z} e^{\\left(i \\, \\sqrt{-k_{z}^{2} + \\kappa_{\\mathit{vacuum}}^{2}} a\\right)} + i \\, \\sqrt{-k_{z}^{2} + \\kappa_{\\mathit{vacuum}}^{2}} \\mathit{A2}_{z} e^{\\left(-i \\, \\sqrt{-k_{z}^{2} + \\kappa_{\\mathit{vacuum}}^{2}} a\\right)}\\right)} \\kappa_{\\mathit{vacuum}}^{2}}{k_{z}^{2} - \\kappa_{\\mathit{vacuum}}^{2}}$"
      ],
      "text/plain": [
       "<IPython.core.display.Math object>"
      ]
     },
     "metadata": {},
     "output_type": "display_data"
    }
   ],
   "source": [
    "eq_Hy_ls = eq_Hy_l.subs(solve(eqEz_l,B1_zl))\n",
    "display(Math(latex(eq_Hy_ls)))"
   ]
  },
  {
   "cell_type": "code",
   "execution_count": 80,
   "metadata": {},
   "outputs": [
    {
     "data": {
      "text/latex": [
       "$\\displaystyle \\frac{\\sqrt{-k_{z}^{2} + \\kappa_{r}^{2}} \\mathit{B1}_{\\mathit{zr}} \\kappa_{r}^{2} e^{\\left(i \\, \\sqrt{-k_{z}^{2} + \\kappa_{r}^{2}} a\\right)}}{{\\left(k_{z}^{2} - \\kappa_{r}^{2}\\right)} \\mu_{r}} = -\\frac{i \\, {\\left(i \\, \\sqrt{-k_{z}^{2} + \\kappa_{\\mathit{vacuum}}^{2}} \\mathit{A2}_{z} e^{\\left(i \\, \\sqrt{-k_{z}^{2} + \\kappa_{\\mathit{vacuum}}^{2}} a\\right)} - i \\, \\sqrt{-k_{z}^{2} + \\kappa_{\\mathit{vacuum}}^{2}} \\mathit{A1}_{z} e^{\\left(-i \\, \\sqrt{-k_{z}^{2} + \\kappa_{\\mathit{vacuum}}^{2}} a\\right)}\\right)} \\kappa_{\\mathit{vacuum}}^{2}}{k_{z}^{2} - \\kappa_{\\mathit{vacuum}}^{2}}$"
      ],
      "text/plain": [
       "<IPython.core.display.Math object>"
      ]
     },
     "metadata": {},
     "output_type": "display_data"
    }
   ],
   "source": [
    "eq_Hy_rs = eq_Hy_r.subs(eqEz_r)\n",
    "display(Math(latex(eq_Hy_rs)))"
   ]
  },
  {
   "cell_type": "code",
   "execution_count": null,
   "metadata": {},
   "outputs": [],
   "source": []
  },
  {
   "cell_type": "raw",
   "metadata": {},
   "source": [
    "eq_Hy_0_lhs_num = eq_Hy_0.lhs().numerator()\n",
    "eq_Hy_0_lhs_den = eq_Hy_0.lhs().denominator()\n",
    "\n",
    "eq_Hy_0_rhs_num = eq_Hy_0.rhs().numerator()\n",
    "eq_Hy_0_rhs_den = eq_Hy_0.rhs().denominator()"
   ]
  },
  {
   "cell_type": "raw",
   "metadata": {},
   "source": [
    "display(Math(latex(eq_Hy_0_lhs_num)))\n",
    "display(Math(latex(eq_Hy_0_lhs_den)))\n",
    "\n",
    "display(Math(latex(eq_Hy_0_rhs_num)))\n",
    "display(Math(latex(eq_Hy_0_rhs_den)))"
   ]
  },
  {
   "cell_type": "raw",
   "metadata": {},
   "source": [
    "eq_kappa_inner_vacuum"
   ]
  },
  {
   "cell_type": "raw",
   "metadata": {},
   "source": [
    "eq_Hy_0_inv = eq_Hy_0_lhs_den / eq_Hy_0_lhs_num == eq_Hy_0_rhs_den / eq_Hy_0_rhs_num\n",
    "display(Math(latex(eq_Hy_0_inv)))"
   ]
  },
  {
   "cell_type": "raw",
   "metadata": {},
   "source": [
    "eq_Hy_0_inv_2 = (eq_Hy_0_inv.lhs()^2).expand() == (eq_Hy_0_inv.rhs()^2).expand()\n",
    "display(Math(latex(eq_Hy_0_inv_2)))"
   ]
  },
  {
   "cell_type": "raw",
   "metadata": {},
   "source": [
    "eq_Hy_0_inv_2_collect = (eq_Hy_0_inv_2.lhs() - eq_Hy_0_inv_2.rhs()).collect(k_z) == 0\n",
    "display(Math(latex(eq_Hy_0_inv_2_collect)))"
   ]
  },
  {
   "cell_type": "raw",
   "metadata": {},
   "source": [
    "one_per_k_z = var(\"one_per_k_z\")\n",
    "one_per_k_z_sol = solve(eq_Hy_0_inv_2_collect.subs(k_z == 1/one_per_k_z), one_per_k_z^2)[0].subs(one_per_k_z == 1/k_z)\n",
    "display(Math(latex(one_per_k_z_sol)))\n",
    "\n",
    "\n",
    "one_per_k_z_sol_num = one_per_k_z_sol.rhs().numerator()\n",
    "one_per_k_z_sol_den = one_per_k_z_sol.rhs().denominator()\n",
    "\n",
    "one_per_k_z_sol_2 = 1/k_z^2 == (one_per_k_z_sol_num/kappa^2/kappa_vacuum^2).expand() / \\\n",
    "                               (one_per_k_z_sol_den/kappa^2/kappa_vacuum^2).expand()\n",
    "\n",
    "display(Math(latex(one_per_k_z_sol_2)))"
   ]
  },
  {
   "cell_type": "code",
   "execution_count": null,
   "metadata": {},
   "outputs": [],
   "source": []
  },
  {
   "cell_type": "code",
   "execution_count": 81,
   "metadata": {},
   "outputs": [
    {
     "name": "stdout",
     "output_type": "stream",
     "text": [
      "kappa_vacuum == omega/c\n"
     ]
    }
   ],
   "source": [
    "kappa_vacuum_sol = solve(eq_kappa_inner_vacuum, kappa_vacuum)[1]\n",
    "print(kappa_vacuum_sol)"
   ]
  },
  {
   "cell_type": "code",
   "execution_count": 82,
   "metadata": {},
   "outputs": [
    {
     "name": "stdout",
     "output_type": "stream",
     "text": [
      "kappa_l == 2*sqrt(I*pi*mu_l*omega*sigma_l)/c\n"
     ]
    }
   ],
   "source": [
    "kappa_l_sol = solve(eq_kappa_l, kappa_l)[1]\n",
    "print(kappa_l_sol)"
   ]
  },
  {
   "cell_type": "code",
   "execution_count": 83,
   "metadata": {},
   "outputs": [
    {
     "name": "stdout",
     "output_type": "stream",
     "text": [
      "kappa_r == 2*sqrt(I*pi*mu_r*omega*sigma_r)/c\n"
     ]
    }
   ],
   "source": [
    "kappa_r_sol = solve(eq_kappa_r, kappa_r)[1]\n",
    "print(kappa_r_sol)"
   ]
  },
  {
   "cell_type": "code",
   "execution_count": null,
   "metadata": {},
   "outputs": [],
   "source": []
  },
  {
   "cell_type": "raw",
   "metadata": {},
   "source": [
    "one_per_k_z_sol_2_subs = one_per_k_z_sol_2.subs(kappa_vacuum_sol).subs(kappa_sol)\n",
    "display(Math(latex(one_per_k_z_sol_2_subs)))"
   ]
  },
  {
   "cell_type": "code",
   "execution_count": null,
   "metadata": {},
   "outputs": [],
   "source": []
  },
  {
   "cell_type": "raw",
   "metadata": {},
   "source": [
    "one_per_k_z_sol = solve(eq_Hy_0_inv_2, k_z)\n",
    "\n",
    "for i in range(len(one_per_k_z_sol)):\n",
    "    #print(one_per_k_z_sol[i])\n",
    "    display(Math(latex(one_per_k_z_sol[i])))\n",
    "    print(\"\")"
   ]
  },
  {
   "cell_type": "code",
   "execution_count": null,
   "metadata": {},
   "outputs": [],
   "source": []
  },
  {
   "cell_type": "raw",
   "metadata": {},
   "source": [
    "eq_Hy_0_2 = \\\n",
    "    (eq_Hy_0_rhs_den * eq_Hy_0_lhs_num)^2 - \\\n",
    "    (eq_Hy_0_rhs_num * eq_Hy_0_lhs_den)^2 == 0"
   ]
  },
  {
   "cell_type": "raw",
   "metadata": {},
   "source": [
    "print(eq_Hy_0_2)\n",
    "display(Math(latex(eq_Hy_0_2)))"
   ]
  },
  {
   "cell_type": "raw",
   "metadata": {},
   "source": [
    "display(Math(latex(eq_Hy_0_2)))"
   ]
  },
  {
   "cell_type": "raw",
   "metadata": {},
   "source": [
    "eq_Hy_0_2_expand = eq_Hy_0_2.expand()"
   ]
  },
  {
   "cell_type": "code",
   "execution_count": null,
   "metadata": {},
   "outputs": [],
   "source": []
  },
  {
   "cell_type": "raw",
   "metadata": {},
   "source": [
    "eq_Hy_0_2_expand = eq_Hy_0_2_expand.subs(kappa_vacuum_sol)#.subs(kappa_sol)\n",
    "display(Math(latex(eq_Hy_0_2_expand)))"
   ]
  },
  {
   "cell_type": "raw",
   "metadata": {},
   "source": [
    "k_z_sol = solve(eq_Hy_0_2_expand, k_z)\n",
    "\n",
    "for i in range(len(k_z_sol)):\n",
    "    #print(k_z_sol[i])\n",
    "    display(Math(latex(k_z_sol[i])))\n",
    "    print(\"\")"
   ]
  },
  {
   "cell_type": "code",
   "execution_count": null,
   "metadata": {},
   "outputs": [],
   "source": []
  },
  {
   "cell_type": "code",
   "execution_count": null,
   "metadata": {},
   "outputs": [],
   "source": []
  },
  {
   "cell_type": "code",
   "execution_count": 84,
   "metadata": {},
   "outputs": [],
   "source": [
    "#E_vacuum_z = A1_z_im*sin(sqrt(kappa_vacuum^2-k_z^2)*(x+a))\n",
    "#E_vacuum_z"
   ]
  },
  {
   "cell_type": "raw",
   "metadata": {},
   "source": [
    "E_inner_vacuum_sol_z(x)"
   ]
  },
  {
   "cell_type": "raw",
   "metadata": {},
   "source": [
    "eqEz_a.rhs() == eqEz_a.lhs()"
   ]
  },
  {
   "cell_type": "raw",
   "metadata": {},
   "source": [
    "eqEz_a"
   ]
  },
  {
   "cell_type": "raw",
   "metadata": {
    "scrolled": true
   },
   "source": [
    "k_z_sol_subs = k_z_sol[1].subs(eqEz_a).full_simplify()\n",
    "k_z_sol_subs.variables()"
   ]
  },
  {
   "cell_type": "code",
   "execution_count": 85,
   "metadata": {},
   "outputs": [],
   "source": [
    "# display(Math(latex(k_z_sol)))"
   ]
  },
  {
   "cell_type": "code",
   "execution_count": 86,
   "metadata": {},
   "outputs": [
    {
     "data": {
      "text/plain": [
       "-(2*sqrt(epsilon_l)*k_z*kappa_l*mu_l*H_left_conductor_f_y(x) + (epsilon_l*k_z^2 + epsilon_l*kappa_l^2)*sqrt(mu_l)*E_left_conductor_x(x))/((epsilon_l*k_z^2 - epsilon_l*kappa_l^2)*sqrt(mu_l)) == -B1_zl*k_z*e^(-I*sqrt(-k_z^2 + kappa_l^2)*x)/sqrt(-k_z^2 + kappa_l^2)"
      ]
     },
     "execution_count": 86,
     "metadata": {},
     "output_type": "execute_result"
    }
   ],
   "source": [
    "eq_7_l_subs4"
   ]
  },
  {
   "cell_type": "code",
   "execution_count": 87,
   "metadata": {},
   "outputs": [
    {
     "name": "stdout",
     "output_type": "stream",
     "text": [
      "E_inner_vacuum_x(-a) == -(A2_z*k_z*e^(-2*I*sqrt(-k_z^2 + kappa_vacuum^2)*a) - A1_z*k_z)*e^(I*sqrt(-k_z^2 + kappa_vacuum^2)*a)/sqrt(-k_z^2 + kappa_vacuum^2)\n"
     ]
    },
    {
     "data": {
      "text/latex": [
       "$\\displaystyle E_{{\\rm inner}_{{\\rm vacuum}_{x}}}\\left(-a\\right) = -\\frac{{\\left(\\mathit{A2}_{z} k_{z} e^{\\left(-2 i \\, \\sqrt{-k_{z}^{2} + \\kappa_{\\mathit{vacuum}}^{2}} a\\right)} - \\mathit{A1}_{z} k_{z}\\right)} e^{\\left(i \\, \\sqrt{-k_{z}^{2} + \\kappa_{\\mathit{vacuum}}^{2}} a\\right)}}{\\sqrt{-k_{z}^{2} + \\kappa_{\\mathit{vacuum}}^{2}}}$"
      ],
      "text/plain": [
       "<IPython.core.display.Math object>"
      ]
     },
     "metadata": {},
     "output_type": "display_data"
    },
    {
     "name": "stdout",
     "output_type": "stream",
     "text": [
      "E_inner_vacuum_x(a) == -(A2_z*k_z*e^(2*I*sqrt(-k_z^2 + kappa_vacuum^2)*a) - A1_z*k_z)*e^(-I*sqrt(-k_z^2 + kappa_vacuum^2)*a)/sqrt(-k_z^2 + kappa_vacuum^2)\n"
     ]
    },
    {
     "data": {
      "text/latex": [
       "$\\displaystyle E_{{\\rm inner}_{{\\rm vacuum}_{x}}}\\left(a\\right) = -\\frac{{\\left(\\mathit{A2}_{z} k_{z} e^{\\left(2 i \\, \\sqrt{-k_{z}^{2} + \\kappa_{\\mathit{vacuum}}^{2}} a\\right)} - \\mathit{A1}_{z} k_{z}\\right)} e^{\\left(-i \\, \\sqrt{-k_{z}^{2} + \\kappa_{\\mathit{vacuum}}^{2}} a\\right)}}{\\sqrt{-k_{z}^{2} + \\kappa_{\\mathit{vacuum}}^{2}}}$"
      ],
      "text/plain": [
       "<IPython.core.display.Math object>"
      ]
     },
     "metadata": {},
     "output_type": "display_data"
    },
    {
     "name": "stdout",
     "output_type": "stream",
     "text": [
      "-(2*sqrt(epsilon_l)*k_z*kappa_l*mu_l*H_left_conductor_f_y(-a) + (epsilon_l*k_z^2 + epsilon_l*kappa_l^2)*sqrt(mu_l)*E_left_conductor_x(-a))/((epsilon_l*k_z^2 - epsilon_l*kappa_l^2)*sqrt(mu_l)) == -B1_zl*k_z*e^(I*sqrt(-k_z^2 + kappa_l^2)*a)/sqrt(-k_z^2 + kappa_l^2)\n"
     ]
    },
    {
     "data": {
      "text/latex": [
       "$\\displaystyle -\\frac{2 \\, \\sqrt{\\epsilon_{l}} k_{z} \\kappa_{l} \\mu_{l} H_{{\\rm left}_{{\\rm conductor}_{f_{y}}}}\\left(-a\\right) + {\\left(\\epsilon_{l} k_{z}^{2} + \\epsilon_{l} \\kappa_{l}^{2}\\right)} \\sqrt{\\mu_{l}} E_{{\\rm left}_{{\\rm conductor}_{x}}}\\left(-a\\right)}{{\\left(\\epsilon_{l} k_{z}^{2} - \\epsilon_{l} \\kappa_{l}^{2}\\right)} \\sqrt{\\mu_{l}}} = -\\frac{\\mathit{B1}_{\\mathit{zl}} k_{z} e^{\\left(i \\, \\sqrt{-k_{z}^{2} + \\kappa_{l}^{2}} a\\right)}}{\\sqrt{-k_{z}^{2} + \\kappa_{l}^{2}}}$"
      ],
      "text/plain": [
       "<IPython.core.display.Math object>"
      ]
     },
     "metadata": {},
     "output_type": "display_data"
    },
    {
     "name": "stdout",
     "output_type": "stream",
     "text": [
      "E_right_conductor_x(a) == -B1_zr*k_z*e^(I*sqrt(-k_z^2 + kappa_r^2)*a)/sqrt(-k_z^2 + kappa_r^2)\n"
     ]
    },
    {
     "data": {
      "text/latex": [
       "$\\displaystyle E_{{\\rm right}_{{\\rm conductor}_{x}}}\\left(a\\right) = -\\frac{\\mathit{B1}_{\\mathit{zr}} k_{z} e^{\\left(i \\, \\sqrt{-k_{z}^{2} + \\kappa_{r}^{2}} a\\right)}}{\\sqrt{-k_{z}^{2} + \\kappa_{r}^{2}}}$"
      ],
      "text/plain": [
       "<IPython.core.display.Math object>"
      ]
     },
     "metadata": {},
     "output_type": "display_data"
    },
    {
     "name": "stdout",
     "output_type": "stream",
     "text": [
      "-4*I*pi*B1_zl*k_z*sigma_l*e^(I*sqrt(-k_z^2 + kappa_l^2)*a)/(sqrt(-k_z^2 + kappa_l^2)*omega) == -(A2_z*k_z*e^(-2*I*sqrt(-k_z^2 + kappa_vacuum^2)*a) - A1_z*k_z)*e^(I*sqrt(-k_z^2 + kappa_vacuum^2)*a)/sqrt(-k_z^2 + kappa_vacuum^2)\n"
     ]
    },
    {
     "data": {
      "text/latex": [
       "$\\displaystyle -\\frac{4 i \\, \\pi \\mathit{B1}_{\\mathit{zl}} k_{z} \\sigma_{l} e^{\\left(i \\, \\sqrt{-k_{z}^{2} + \\kappa_{l}^{2}} a\\right)}}{\\sqrt{-k_{z}^{2} + \\kappa_{l}^{2}} \\omega} = -\\frac{{\\left(\\mathit{A2}_{z} k_{z} e^{\\left(-2 i \\, \\sqrt{-k_{z}^{2} + \\kappa_{\\mathit{vacuum}}^{2}} a\\right)} - \\mathit{A1}_{z} k_{z}\\right)} e^{\\left(i \\, \\sqrt{-k_{z}^{2} + \\kappa_{\\mathit{vacuum}}^{2}} a\\right)}}{\\sqrt{-k_{z}^{2} + \\kappa_{\\mathit{vacuum}}^{2}}}$"
      ],
      "text/plain": [
       "<IPython.core.display.Math object>"
      ]
     },
     "metadata": {},
     "output_type": "display_data"
    },
    {
     "name": "stdout",
     "output_type": "stream",
     "text": [
      "-4*I*pi*B1_zr*k_z*sigma_r*e^(I*sqrt(-k_z^2 + kappa_r^2)*a)/(sqrt(-k_z^2 + kappa_r^2)*omega) == -(A2_z*k_z*e^(2*I*sqrt(-k_z^2 + kappa_vacuum^2)*a) - A1_z*k_z)*e^(-I*sqrt(-k_z^2 + kappa_vacuum^2)*a)/sqrt(-k_z^2 + kappa_vacuum^2)\n"
     ]
    },
    {
     "data": {
      "text/latex": [
       "$\\displaystyle -\\frac{4 i \\, \\pi \\mathit{B1}_{\\mathit{zr}} k_{z} \\sigma_{r} e^{\\left(i \\, \\sqrt{-k_{z}^{2} + \\kappa_{r}^{2}} a\\right)}}{\\sqrt{-k_{z}^{2} + \\kappa_{r}^{2}} \\omega} = -\\frac{{\\left(\\mathit{A2}_{z} k_{z} e^{\\left(2 i \\, \\sqrt{-k_{z}^{2} + \\kappa_{\\mathit{vacuum}}^{2}} a\\right)} - \\mathit{A1}_{z} k_{z}\\right)} e^{\\left(-i \\, \\sqrt{-k_{z}^{2} + \\kappa_{\\mathit{vacuum}}^{2}} a\\right)}}{\\sqrt{-k_{z}^{2} + \\kappa_{\\mathit{vacuum}}^{2}}}$"
      ],
      "text/plain": [
       "<IPython.core.display.Math object>"
      ]
     },
     "metadata": {},
     "output_type": "display_data"
    },
    {
     "name": "stdout",
     "output_type": "stream",
     "text": [
      "\n"
     ]
    }
   ],
   "source": [
    "# нормальная компонента электрического смещения\n",
    "eq_5_l_subs4xa = eq_5_subs4.subs(x == -a)\n",
    "print(eq_5_l_subs4xa)\n",
    "display(Math(latex(eq_5_l_subs4xa)))\n",
    "\n",
    "eq_5_r_subs4x0 = eq_5_subs4.subs(x == a)\n",
    "print(eq_5_r_subs4x0)\n",
    "display(Math(latex(eq_5_r_subs4x0)))\n",
    "\n",
    "\n",
    "eq_7_l_subs4xa = eq_7_l_subs4.subs(x == -a)\n",
    "print(eq_7_l_subs4xa)\n",
    "display(Math(latex(eq_7_l_subs4xa)))\n",
    "\n",
    "eq_7_r_subs4x0 = eq_7_r_subs4.subs(x == a)\n",
    "print(eq_7_r_subs4x0)\n",
    "display(Math(latex(eq_7_r_subs4x0)))\n",
    "\n",
    "\n",
    "# eqDx_a = E_inner_vacuum_sol_x(0) == E_bad_conductor_sol_x(0) * epsilon\n",
    "eq_Dx_l = epsilon_l_complex == (eq_5_l_subs4xa.rhs() / eq_7_l_subs4xa.rhs()).full_simplify()\n",
    "eq_Dx_r = epsilon_r_complex == (eq_5_r_subs4x0.rhs() / eq_7_r_subs4x0.rhs()).full_simplify()\n",
    "\n",
    "eqDx_l = epsilon_l_complex * eq_7_l_subs4xa.rhs() == eq_5_l_subs4xa.rhs()\n",
    "eqDx_r = epsilon_r_complex * eq_7_r_subs4x0.rhs() == eq_5_r_subs4x0.rhs()\n",
    "\n",
    "print(eqDx_l)\n",
    "display(Math(latex(eqDx_l)))\n",
    "print(eqDx_r)\n",
    "display(Math(latex(eqDx_r)))\n",
    "\n",
    "print(\"\")"
   ]
  },
  {
   "cell_type": "raw",
   "metadata": {},
   "source": [
    "eq_Dx_a_subs = eq_Dx_a.subs(eq_kappa).subs(eq_kappa_inner_vacuum)\n",
    "\n",
    "print(eq_Dx_a_subs)\n",
    "display(Math(latex(eq_Dx_a_subs)))"
   ]
  },
  {
   "cell_type": "raw",
   "metadata": {},
   "source": [
    "eq_Dx_a_subs2 = eq_Dx_a_subs.lhs()^2 == eq_Dx_a_subs.rhs()^2\n",
    "\n",
    "print(eq_Dx_a_subs2)\n",
    "display(Math(latex(eq_Dx_a_subs2)))"
   ]
  },
  {
   "cell_type": "raw",
   "metadata": {},
   "source": [
    "sol_eq_Dx_a_subs2_kz = solve(eq_Dx_a_subs2, k_z)\n",
    "\n",
    "#print(sol_eq_Dx_a_subs2_kz)\n",
    "display(Math(latex(sol_eq_Dx_a_subs2_kz)))"
   ]
  },
  {
   "cell_type": "code",
   "execution_count": null,
   "metadata": {},
   "outputs": [],
   "source": []
  },
  {
   "cell_type": "raw",
   "metadata": {},
   "source": [
    "# нормальная компонента электрического смещения\n",
    "# eqDx_a = E_inner_vacuum_sol_x(a) == E_bad_conductor_sol_x(a) * epsilon\n",
    "eqDx_a"
   ]
  },
  {
   "cell_type": "raw",
   "metadata": {},
   "source": [
    "# нормальная компонента электрического смещения\n",
    "# eqDx_a = E_inner_vacuum_sol_x(a) == E_bad_conductor_sol_x(a) * epsilon\n",
    "eqDx_a"
   ]
  },
  {
   "cell_type": "raw",
   "metadata": {},
   "source": [
    "print             (eq_5_subs4)\n",
    "display(Math(latex(eq_5_subs4)))"
   ]
  },
  {
   "cell_type": "raw",
   "metadata": {},
   "source": [
    "print             (eq_7_subs4)\n",
    "display(Math(latex(eq_7_subs4)))"
   ]
  },
  {
   "cell_type": "raw",
   "metadata": {},
   "source": [
    "eq_eqDx_a = eq_5_subs4.rhs().subs(x == 0).subs(K_vacuum_subs) \\\n",
    "         == (eq_7_subs4.rhs().subs(x == 0)*epsilon_complex).subs(K_conductor_subs)\n",
    "print             (eq_eqDx_a)\n",
    "display(Math(latex(eq_eqDx_a)))"
   ]
  },
  {
   "cell_type": "code",
   "execution_count": null,
   "metadata": {},
   "outputs": [],
   "source": []
  },
  {
   "cell_type": "code",
   "execution_count": 88,
   "metadata": {},
   "outputs": [
    {
     "name": "stdout",
     "output_type": "stream",
     "text": [
      "eqHz_l =\n"
     ]
    },
    {
     "data": {
      "text/latex": [
       "$\\displaystyle -\\frac{i \\, {\\left(-i \\, \\mathit{B1}_{\\mathit{yl}} K_{\\mathit{left}_{\\mathit{conductor}}} e^{\\left(i \\, K_{\\mathit{left}_{\\mathit{conductor}}} a\\right)} - i \\, \\mathit{B1}_{\\mathit{xl}} k_{y} e^{\\left(i \\, K_{\\mathit{left}_{\\mathit{conductor}}} a\\right)}\\right)} c}{\\mu_{l} \\omega} = -\\frac{i \\, {\\left(-i \\, \\mathit{A1}_{y} K_{\\mathit{vacuum}} e^{\\left(i \\, K_{\\mathit{vacuum}} a\\right)} + i \\, \\mathit{A2}_{y} K_{\\mathit{vacuum}} e^{\\left(-i \\, K_{\\mathit{vacuum}} a\\right)} - i \\, {\\left(\\mathit{A1}_{x} e^{\\left(i \\, K_{\\mathit{vacuum}} a\\right)} + \\mathit{A2}_{x} e^{\\left(-i \\, K_{\\mathit{vacuum}} a\\right)}\\right)} k_{y}\\right)} c}{\\omega}$"
      ],
      "text/plain": [
       "<IPython.core.display.Math object>"
      ]
     },
     "metadata": {},
     "output_type": "display_data"
    },
    {
     "name": "stdout",
     "output_type": "stream",
     "text": [
      "eqHz_r =\n"
     ]
    },
    {
     "data": {
      "text/latex": [
       "$\\displaystyle -\\frac{i \\, {\\left(i \\, \\mathit{B1}_{\\mathit{yr}} K_{\\mathit{right}_{\\mathit{conductor}}} e^{\\left(i \\, K_{\\mathit{right}_{\\mathit{conductor}}} a\\right)} - i \\, \\mathit{B1}_{\\mathit{xr}} k_{y} e^{\\left(i \\, K_{\\mathit{right}_{\\mathit{conductor}}} a\\right)}\\right)} c}{\\mu_{r} \\omega} = -\\frac{i \\, {\\left(i \\, \\mathit{A2}_{y} K_{\\mathit{vacuum}} e^{\\left(i \\, K_{\\mathit{vacuum}} a\\right)} - i \\, \\mathit{A1}_{y} K_{\\mathit{vacuum}} e^{\\left(-i \\, K_{\\mathit{vacuum}} a\\right)} - i \\, {\\left(\\mathit{A2}_{x} e^{\\left(i \\, K_{\\mathit{vacuum}} a\\right)} + \\mathit{A1}_{x} e^{\\left(-i \\, K_{\\mathit{vacuum}} a\\right)}\\right)} k_{y}\\right)} c}{\\omega}$"
      ],
      "text/plain": [
       "<IPython.core.display.Math object>"
      ]
     },
     "metadata": {},
     "output_type": "display_data"
    },
    {
     "name": "stdout",
     "output_type": "stream",
     "text": [
      "eqHy_l =\n"
     ]
    },
    {
     "data": {
      "text/latex": [
       "$\\displaystyle -\\frac{i \\, {\\left(i \\, \\mathit{B1}_{\\mathit{zl}} K_{\\mathit{left}_{\\mathit{conductor}}} e^{\\left(i \\, K_{\\mathit{left}_{\\mathit{conductor}}} a\\right)} + i \\, \\mathit{B1}_{\\mathit{xl}} k_{z} e^{\\left(i \\, K_{\\mathit{left}_{\\mathit{conductor}}} a\\right)}\\right)} c}{\\mu_{l} \\omega} = -\\frac{i \\, {\\left(i \\, \\mathit{A1}_{z} K_{\\mathit{vacuum}} e^{\\left(i \\, K_{\\mathit{vacuum}} a\\right)} - i \\, \\mathit{A2}_{z} K_{\\mathit{vacuum}} e^{\\left(-i \\, K_{\\mathit{vacuum}} a\\right)} + i \\, {\\left(\\mathit{A1}_{x} e^{\\left(i \\, K_{\\mathit{vacuum}} a\\right)} + \\mathit{A2}_{x} e^{\\left(-i \\, K_{\\mathit{vacuum}} a\\right)}\\right)} k_{z}\\right)} c}{\\omega}$"
      ],
      "text/plain": [
       "<IPython.core.display.Math object>"
      ]
     },
     "metadata": {},
     "output_type": "display_data"
    },
    {
     "name": "stdout",
     "output_type": "stream",
     "text": [
      "eqHy_r =\n"
     ]
    },
    {
     "data": {
      "text/latex": [
       "$\\displaystyle -\\frac{i \\, {\\left(-i \\, \\mathit{B1}_{\\mathit{zr}} K_{\\mathit{right}_{\\mathit{conductor}}} e^{\\left(i \\, K_{\\mathit{right}_{\\mathit{conductor}}} a\\right)} + i \\, \\mathit{B1}_{\\mathit{xr}} k_{z} e^{\\left(i \\, K_{\\mathit{right}_{\\mathit{conductor}}} a\\right)}\\right)} c}{\\mu_{r} \\omega} = -\\frac{i \\, {\\left(-i \\, \\mathit{A2}_{z} K_{\\mathit{vacuum}} e^{\\left(i \\, K_{\\mathit{vacuum}} a\\right)} + i \\, \\mathit{A1}_{z} K_{\\mathit{vacuum}} e^{\\left(-i \\, K_{\\mathit{vacuum}} a\\right)} + i \\, {\\left(\\mathit{A2}_{x} e^{\\left(i \\, K_{\\mathit{vacuum}} a\\right)} + \\mathit{A1}_{x} e^{\\left(-i \\, K_{\\mathit{vacuum}} a\\right)}\\right)} k_{z}\\right)} c}{\\omega}$"
      ],
      "text/plain": [
       "<IPython.core.display.Math object>"
      ]
     },
     "metadata": {},
     "output_type": "display_data"
    },
    {
     "name": "stdout",
     "output_type": "stream",
     "text": [
      "eqHz_l_ =\n"
     ]
    },
    {
     "data": {
      "text/latex": [
       "$\\displaystyle -\\frac{i \\, {\\left(-i \\, {\\left(i \\, \\mathit{B1}_{\\mathit{yl}_{\\mathit{im}}} + \\mathit{B1}_{\\mathit{yl}_{\\mathit{re}}}\\right)} K_{\\mathit{left}_{\\mathit{conductor}}} e^{\\left(i \\, K_{\\mathit{left}_{\\mathit{conductor}}} a\\right)} - i \\, {\\left(i \\, \\mathit{B1}_{\\mathit{xl}_{\\mathit{im}}} + \\mathit{B1}_{\\mathit{xl}_{\\mathit{re}}}\\right)} k_{y} e^{\\left(i \\, K_{\\mathit{left}_{\\mathit{conductor}}} a\\right)}\\right)} c}{\\mu_{l} \\omega} = -\\frac{i \\, {\\left(-i \\, {\\left(i \\, \\mathit{A1}_{y_{\\mathit{im}}} + \\mathit{A1}_{y_{\\mathit{re}}}\\right)} K_{\\mathit{vacuum}} e^{\\left(i \\, K_{\\mathit{vacuum}} a\\right)} + i \\, {\\left(i \\, \\mathit{A2}_{y_{\\mathit{im}}} + \\mathit{A2}_{y_{\\mathit{re}}}\\right)} K_{\\mathit{vacuum}} e^{\\left(-i \\, K_{\\mathit{vacuum}} a\\right)} - i \\, {\\left({\\left(i \\, \\mathit{A1}_{x_{\\mathit{im}}} + \\mathit{A1}_{x_{\\mathit{re}}}\\right)} e^{\\left(i \\, K_{\\mathit{vacuum}} a\\right)} + {\\left(i \\, \\mathit{A2}_{x_{\\mathit{im}}} + \\mathit{A2}_{x_{\\mathit{re}}}\\right)} e^{\\left(-i \\, K_{\\mathit{vacuum}} a\\right)}\\right)} k_{y}\\right)} c}{\\omega}$"
      ],
      "text/plain": [
       "<IPython.core.display.Math object>"
      ]
     },
     "metadata": {},
     "output_type": "display_data"
    },
    {
     "name": "stdout",
     "output_type": "stream",
     "text": [
      "eqHz_r_ =\n"
     ]
    },
    {
     "data": {
      "text/latex": [
       "$\\displaystyle -\\frac{i \\, {\\left(i \\, {\\left(i \\, \\mathit{B1}_{\\mathit{yr}_{\\mathit{im}}} + \\mathit{B1}_{\\mathit{yr}_{\\mathit{re}}}\\right)} K_{\\mathit{right}_{\\mathit{conductor}}} e^{\\left(i \\, K_{\\mathit{right}_{\\mathit{conductor}}} a\\right)} - i \\, {\\left(i \\, \\mathit{B1}_{\\mathit{xr}_{\\mathit{im}}} + \\mathit{B1}_{\\mathit{xr}_{\\mathit{re}}}\\right)} k_{y} e^{\\left(i \\, K_{\\mathit{right}_{\\mathit{conductor}}} a\\right)}\\right)} c}{\\mu_{r} \\omega} = -\\frac{i \\, {\\left(i \\, {\\left(i \\, \\mathit{A2}_{y_{\\mathit{im}}} + \\mathit{A2}_{y_{\\mathit{re}}}\\right)} K_{\\mathit{vacuum}} e^{\\left(i \\, K_{\\mathit{vacuum}} a\\right)} - i \\, {\\left(i \\, \\mathit{A1}_{y_{\\mathit{im}}} + \\mathit{A1}_{y_{\\mathit{re}}}\\right)} K_{\\mathit{vacuum}} e^{\\left(-i \\, K_{\\mathit{vacuum}} a\\right)} - i \\, {\\left({\\left(i \\, \\mathit{A2}_{x_{\\mathit{im}}} + \\mathit{A2}_{x_{\\mathit{re}}}\\right)} e^{\\left(i \\, K_{\\mathit{vacuum}} a\\right)} + {\\left(i \\, \\mathit{A1}_{x_{\\mathit{im}}} + \\mathit{A1}_{x_{\\mathit{re}}}\\right)} e^{\\left(-i \\, K_{\\mathit{vacuum}} a\\right)}\\right)} k_{y}\\right)} c}{\\omega}$"
      ],
      "text/plain": [
       "<IPython.core.display.Math object>"
      ]
     },
     "metadata": {},
     "output_type": "display_data"
    },
    {
     "name": "stdout",
     "output_type": "stream",
     "text": [
      "eqHy_l_ =\n"
     ]
    },
    {
     "data": {
      "text/latex": [
       "$\\displaystyle \\frac{4 i \\, \\pi \\sqrt{-k_{z}^{2} + \\frac{4 i \\, \\pi \\mu_{l} \\omega \\sigma_{l}}{c^{2}}} {\\left(i \\, \\mathit{B1}_{\\mathit{zl}_{\\mathit{im}}} + \\mathit{B1}_{\\mathit{zl}_{\\mathit{re}}}\\right)} \\omega \\sigma_{l} e^{\\left(i \\, \\sqrt{-k_{z}^{2} + \\frac{4 i \\, \\pi \\mu_{l} \\omega \\sigma_{l}}{c^{2}}} a\\right)}}{{\\left(k_{z}^{2} - \\frac{4 i \\, \\pi \\mu_{l} \\omega \\sigma_{l}}{c^{2}}\\right)} c^{2}} = -\\frac{i \\, {\\left(-i \\, \\sqrt{-k_{z}^{2} + \\frac{\\omega^{2}}{c^{2}}} {\\left(i \\, \\mathit{A1}_{z_{\\mathit{im}}} + \\mathit{A1}_{z_{\\mathit{re}}}\\right)} e^{\\left(i \\, \\sqrt{-k_{z}^{2} + \\frac{\\omega^{2}}{c^{2}}} a\\right)} + i \\, \\sqrt{-k_{z}^{2} + \\frac{\\omega^{2}}{c^{2}}} {\\left(i \\, \\mathit{A2}_{z_{\\mathit{im}}} + \\mathit{A2}_{z_{\\mathit{re}}}\\right)} e^{\\left(-i \\, \\sqrt{-k_{z}^{2} + \\frac{\\omega^{2}}{c^{2}}} a\\right)}\\right)} \\omega^{2}}{{\\left(k_{z}^{2} - \\frac{\\omega^{2}}{c^{2}}\\right)} c^{2}}$"
      ],
      "text/plain": [
       "<IPython.core.display.Math object>"
      ]
     },
     "metadata": {},
     "output_type": "display_data"
    },
    {
     "name": "stdout",
     "output_type": "stream",
     "text": [
      "eqHy_r_ =\n"
     ]
    },
    {
     "data": {
      "text/latex": [
       "$\\displaystyle \\frac{4 i \\, \\pi \\sqrt{-k_{z}^{2} + \\frac{4 i \\, \\pi \\mu_{r} \\omega \\sigma_{r}}{c^{2}}} {\\left(i \\, \\mathit{B1}_{\\mathit{zr}_{\\mathit{im}}} + \\mathit{B1}_{\\mathit{zr}_{\\mathit{re}}}\\right)} \\omega \\sigma_{r} e^{\\left(i \\, \\sqrt{-k_{z}^{2} + \\frac{4 i \\, \\pi \\mu_{r} \\omega \\sigma_{r}}{c^{2}}} a\\right)}}{{\\left(k_{z}^{2} - \\frac{4 i \\, \\pi \\mu_{r} \\omega \\sigma_{r}}{c^{2}}\\right)} c^{2}} = -\\frac{i \\, {\\left(i \\, \\sqrt{-k_{z}^{2} + \\frac{\\omega^{2}}{c^{2}}} {\\left(i \\, \\mathit{A2}_{z_{\\mathit{im}}} + \\mathit{A2}_{z_{\\mathit{re}}}\\right)} e^{\\left(i \\, \\sqrt{-k_{z}^{2} + \\frac{\\omega^{2}}{c^{2}}} a\\right)} - i \\, \\sqrt{-k_{z}^{2} + \\frac{\\omega^{2}}{c^{2}}} {\\left(i \\, \\mathit{A1}_{z_{\\mathit{im}}} + \\mathit{A1}_{z_{\\mathit{re}}}\\right)} e^{\\left(-i \\, \\sqrt{-k_{z}^{2} + \\frac{\\omega^{2}}{c^{2}}} a\\right)}\\right)} \\omega^{2}}{{\\left(k_{z}^{2} - \\frac{\\omega^{2}}{c^{2}}\\right)} c^{2}}$"
      ],
      "text/plain": [
       "<IPython.core.display.Math object>"
      ]
     },
     "metadata": {},
     "output_type": "display_data"
    },
    {
     "name": "stdout",
     "output_type": "stream",
     "text": [
      "eqEz_l = \n"
     ]
    },
    {
     "data": {
      "text/latex": [
       "$\\displaystyle \\mathit{B1}_{\\mathit{zl}} e^{\\left(i \\, K_{\\mathit{left}_{\\mathit{conductor}}} a\\right)} = \\mathit{A1}_{z} e^{\\left(i \\, K_{\\mathit{vacuum}} a\\right)} + \\mathit{A2}_{z} e^{\\left(-i \\, K_{\\mathit{vacuum}} a\\right)}$"
      ],
      "text/plain": [
       "<IPython.core.display.Math object>"
      ]
     },
     "metadata": {},
     "output_type": "display_data"
    },
    {
     "name": "stdout",
     "output_type": "stream",
     "text": [
      "eqEz_r = \n"
     ]
    },
    {
     "data": {
      "text/latex": [
       "$\\displaystyle \\mathit{B1}_{\\mathit{zr}} e^{\\left(i \\, K_{\\mathit{right}_{\\mathit{conductor}}} a\\right)} = \\mathit{A2}_{z} e^{\\left(i \\, K_{\\mathit{vacuum}} a\\right)} + \\mathit{A1}_{z} e^{\\left(-i \\, K_{\\mathit{vacuum}} a\\right)}$"
      ],
      "text/plain": [
       "<IPython.core.display.Math object>"
      ]
     },
     "metadata": {},
     "output_type": "display_data"
    },
    {
     "name": "stdout",
     "output_type": "stream",
     "text": [
      "eqEz_l_ = \n"
     ]
    },
    {
     "data": {
      "text/latex": [
       "$\\displaystyle {\\left(i \\, \\mathit{B1}_{\\mathit{zl}_{\\mathit{im}}} + \\mathit{B1}_{\\mathit{zl}_{\\mathit{re}}}\\right)} e^{\\left(i \\, K_{\\mathit{left}_{\\mathit{conductor}}} a\\right)} = {\\left(i \\, \\mathit{A1}_{z_{\\mathit{im}}} + \\mathit{A1}_{z_{\\mathit{re}}}\\right)} e^{\\left(i \\, K_{\\mathit{vacuum}} a\\right)} + {\\left(i \\, \\mathit{A2}_{z_{\\mathit{im}}} + \\mathit{A2}_{z_{\\mathit{re}}}\\right)} e^{\\left(-i \\, K_{\\mathit{vacuum}} a\\right)}$"
      ],
      "text/plain": [
       "<IPython.core.display.Math object>"
      ]
     },
     "metadata": {},
     "output_type": "display_data"
    },
    {
     "name": "stdout",
     "output_type": "stream",
     "text": [
      "eqEz_r_ = \n"
     ]
    },
    {
     "data": {
      "text/latex": [
       "$\\displaystyle {\\left(i \\, \\mathit{B1}_{\\mathit{zr}_{\\mathit{im}}} + \\mathit{B1}_{\\mathit{zr}_{\\mathit{re}}}\\right)} e^{\\left(i \\, K_{\\mathit{right}_{\\mathit{conductor}}} a\\right)} = {\\left(i \\, \\mathit{A2}_{z_{\\mathit{im}}} + \\mathit{A2}_{z_{\\mathit{re}}}\\right)} e^{\\left(i \\, K_{\\mathit{vacuum}} a\\right)} + {\\left(i \\, \\mathit{A1}_{z_{\\mathit{im}}} + \\mathit{A1}_{z_{\\mathit{re}}}\\right)} e^{\\left(-i \\, K_{\\mathit{vacuum}} a\\right)}$"
      ],
      "text/plain": [
       "<IPython.core.display.Math object>"
      ]
     },
     "metadata": {},
     "output_type": "display_data"
    },
    {
     "name": "stdout",
     "output_type": "stream",
     "text": [
      "eqBx_l =\n"
     ]
    },
    {
     "data": {
      "text/latex": [
       "$\\displaystyle -\\frac{i \\, {\\left(i \\, \\mathit{B1}_{\\mathit{zl}} k_{y} e^{\\left(i \\, K_{\\mathit{left}_{\\mathit{conductor}}} a\\right)} - i \\, \\mathit{B1}_{\\mathit{yl}} k_{z} e^{\\left(i \\, K_{\\mathit{left}_{\\mathit{conductor}}} a\\right)}\\right)} c}{\\omega} = -\\frac{i \\, {\\left(i \\, {\\left(\\mathit{A1}_{z} e^{\\left(i \\, K_{\\mathit{vacuum}} a\\right)} + \\mathit{A2}_{z} e^{\\left(-i \\, K_{\\mathit{vacuum}} a\\right)}\\right)} k_{y} - i \\, {\\left(\\mathit{A1}_{y} e^{\\left(i \\, K_{\\mathit{vacuum}} a\\right)} + \\mathit{A2}_{y} e^{\\left(-i \\, K_{\\mathit{vacuum}} a\\right)}\\right)} k_{z}\\right)} c}{\\omega}$"
      ],
      "text/plain": [
       "<IPython.core.display.Math object>"
      ]
     },
     "metadata": {},
     "output_type": "display_data"
    },
    {
     "name": "stdout",
     "output_type": "stream",
     "text": [
      "eqBx_r =\n"
     ]
    },
    {
     "data": {
      "text/latex": [
       "$\\displaystyle -\\frac{i \\, {\\left(i \\, \\mathit{B1}_{\\mathit{zr}} k_{y} e^{\\left(i \\, K_{\\mathit{right}_{\\mathit{conductor}}} a\\right)} - i \\, \\mathit{B1}_{\\mathit{yr}} k_{z} e^{\\left(i \\, K_{\\mathit{right}_{\\mathit{conductor}}} a\\right)}\\right)} c}{\\omega} = -\\frac{i \\, {\\left(i \\, {\\left(\\mathit{A2}_{z} e^{\\left(i \\, K_{\\mathit{vacuum}} a\\right)} + \\mathit{A1}_{z} e^{\\left(-i \\, K_{\\mathit{vacuum}} a\\right)}\\right)} k_{y} - i \\, {\\left(\\mathit{A2}_{y} e^{\\left(i \\, K_{\\mathit{vacuum}} a\\right)} + \\mathit{A1}_{y} e^{\\left(-i \\, K_{\\mathit{vacuum}} a\\right)}\\right)} k_{z}\\right)} c}{\\omega}$"
      ],
      "text/plain": [
       "<IPython.core.display.Math object>"
      ]
     },
     "metadata": {},
     "output_type": "display_data"
    },
    {
     "name": "stdout",
     "output_type": "stream",
     "text": [
      "eqBx_l_ =\n"
     ]
    },
    {
     "data": {
      "text/latex": [
       "$\\displaystyle -\\frac{i \\, {\\left(i \\, {\\left(i \\, \\mathit{B1}_{\\mathit{zl}_{\\mathit{im}}} + \\mathit{B1}_{\\mathit{zl}_{\\mathit{re}}}\\right)} k_{y} e^{\\left(i \\, K_{\\mathit{left}_{\\mathit{conductor}}} a\\right)} - i \\, {\\left(i \\, \\mathit{B1}_{\\mathit{yl}_{\\mathit{im}}} + \\mathit{B1}_{\\mathit{yl}_{\\mathit{re}}}\\right)} k_{z} e^{\\left(i \\, K_{\\mathit{left}_{\\mathit{conductor}}} a\\right)}\\right)} c}{\\omega} = -\\frac{i \\, {\\left(i \\, {\\left({\\left(i \\, \\mathit{A1}_{z_{\\mathit{im}}} + \\mathit{A1}_{z_{\\mathit{re}}}\\right)} e^{\\left(i \\, K_{\\mathit{vacuum}} a\\right)} + {\\left(i \\, \\mathit{A2}_{z_{\\mathit{im}}} + \\mathit{A2}_{z_{\\mathit{re}}}\\right)} e^{\\left(-i \\, K_{\\mathit{vacuum}} a\\right)}\\right)} k_{y} - i \\, {\\left({\\left(i \\, \\mathit{A1}_{y_{\\mathit{im}}} + \\mathit{A1}_{y_{\\mathit{re}}}\\right)} e^{\\left(i \\, K_{\\mathit{vacuum}} a\\right)} + {\\left(i \\, \\mathit{A2}_{y_{\\mathit{im}}} + \\mathit{A2}_{y_{\\mathit{re}}}\\right)} e^{\\left(-i \\, K_{\\mathit{vacuum}} a\\right)}\\right)} k_{z}\\right)} c}{\\omega}$"
      ],
      "text/plain": [
       "<IPython.core.display.Math object>"
      ]
     },
     "metadata": {},
     "output_type": "display_data"
    },
    {
     "name": "stdout",
     "output_type": "stream",
     "text": [
      "eqBx_r_ =\n"
     ]
    },
    {
     "data": {
      "text/latex": [
       "$\\displaystyle -\\frac{i \\, {\\left(i \\, {\\left(i \\, \\mathit{B1}_{\\mathit{zr}_{\\mathit{im}}} + \\mathit{B1}_{\\mathit{zr}_{\\mathit{re}}}\\right)} k_{y} e^{\\left(i \\, K_{\\mathit{right}_{\\mathit{conductor}}} a\\right)} - i \\, {\\left(i \\, \\mathit{B1}_{\\mathit{yr}_{\\mathit{im}}} + \\mathit{B1}_{\\mathit{yr}_{\\mathit{re}}}\\right)} k_{z} e^{\\left(i \\, K_{\\mathit{right}_{\\mathit{conductor}}} a\\right)}\\right)} c}{\\omega} = -\\frac{i \\, {\\left(i \\, {\\left({\\left(i \\, \\mathit{A2}_{z_{\\mathit{im}}} + \\mathit{A2}_{z_{\\mathit{re}}}\\right)} e^{\\left(i \\, K_{\\mathit{vacuum}} a\\right)} + {\\left(i \\, \\mathit{A1}_{z_{\\mathit{im}}} + \\mathit{A1}_{z_{\\mathit{re}}}\\right)} e^{\\left(-i \\, K_{\\mathit{vacuum}} a\\right)}\\right)} k_{y} - i \\, {\\left({\\left(i \\, \\mathit{A2}_{y_{\\mathit{im}}} + \\mathit{A2}_{y_{\\mathit{re}}}\\right)} e^{\\left(i \\, K_{\\mathit{vacuum}} a\\right)} + {\\left(i \\, \\mathit{A1}_{y_{\\mathit{im}}} + \\mathit{A1}_{y_{\\mathit{re}}}\\right)} e^{\\left(-i \\, K_{\\mathit{vacuum}} a\\right)}\\right)} k_{z}\\right)} c}{\\omega}$"
      ],
      "text/plain": [
       "<IPython.core.display.Math object>"
      ]
     },
     "metadata": {},
     "output_type": "display_data"
    },
    {
     "name": "stdout",
     "output_type": "stream",
     "text": [
      "eqDx_l =\n"
     ]
    },
    {
     "data": {
      "text/latex": [
       "$\\displaystyle -\\frac{4 i \\, \\pi \\mathit{B1}_{\\mathit{zl}} k_{z} \\sigma_{l} e^{\\left(i \\, \\sqrt{-k_{z}^{2} + \\kappa_{l}^{2}} a\\right)}}{\\sqrt{-k_{z}^{2} + \\kappa_{l}^{2}} \\omega} = -\\frac{{\\left(\\mathit{A2}_{z} k_{z} e^{\\left(-2 i \\, \\sqrt{-k_{z}^{2} + \\kappa_{\\mathit{vacuum}}^{2}} a\\right)} - \\mathit{A1}_{z} k_{z}\\right)} e^{\\left(i \\, \\sqrt{-k_{z}^{2} + \\kappa_{\\mathit{vacuum}}^{2}} a\\right)}}{\\sqrt{-k_{z}^{2} + \\kappa_{\\mathit{vacuum}}^{2}}}$"
      ],
      "text/plain": [
       "<IPython.core.display.Math object>"
      ]
     },
     "metadata": {},
     "output_type": "display_data"
    },
    {
     "name": "stdout",
     "output_type": "stream",
     "text": [
      "eqDx_r =\n"
     ]
    },
    {
     "data": {
      "text/latex": [
       "$\\displaystyle -\\frac{4 i \\, \\pi \\mathit{B1}_{\\mathit{zr}} k_{z} \\sigma_{r} e^{\\left(i \\, \\sqrt{-k_{z}^{2} + \\kappa_{r}^{2}} a\\right)}}{\\sqrt{-k_{z}^{2} + \\kappa_{r}^{2}} \\omega} = -\\frac{{\\left(\\mathit{A2}_{z} k_{z} e^{\\left(2 i \\, \\sqrt{-k_{z}^{2} + \\kappa_{\\mathit{vacuum}}^{2}} a\\right)} - \\mathit{A1}_{z} k_{z}\\right)} e^{\\left(-i \\, \\sqrt{-k_{z}^{2} + \\kappa_{\\mathit{vacuum}}^{2}} a\\right)}}{\\sqrt{-k_{z}^{2} + \\kappa_{\\mathit{vacuum}}^{2}}}$"
      ],
      "text/plain": [
       "<IPython.core.display.Math object>"
      ]
     },
     "metadata": {},
     "output_type": "display_data"
    },
    {
     "name": "stdout",
     "output_type": "stream",
     "text": [
      "eqDx_l_ =\n"
     ]
    },
    {
     "data": {
      "text/latex": [
       "$\\displaystyle -\\frac{4 i \\, \\pi {\\left(i \\, \\mathit{B1}_{\\mathit{zl}_{\\mathit{im}}} + \\mathit{B1}_{\\mathit{zl}_{\\mathit{re}}}\\right)} k_{z} \\sigma_{l} e^{\\left(i \\, \\sqrt{-k_{z}^{2} + \\kappa_{l}^{2}} a\\right)}}{\\sqrt{-k_{z}^{2} + \\kappa_{l}^{2}} \\omega} = -\\frac{{\\left({\\left(i \\, \\mathit{A2}_{z_{\\mathit{im}}} + \\mathit{A2}_{z_{\\mathit{re}}}\\right)} k_{z} e^{\\left(-2 i \\, \\sqrt{-k_{z}^{2} + \\kappa_{\\mathit{vacuum}}^{2}} a\\right)} - {\\left(i \\, \\mathit{A1}_{z_{\\mathit{im}}} + \\mathit{A1}_{z_{\\mathit{re}}}\\right)} k_{z}\\right)} e^{\\left(i \\, \\sqrt{-k_{z}^{2} + \\kappa_{\\mathit{vacuum}}^{2}} a\\right)}}{\\sqrt{-k_{z}^{2} + \\kappa_{\\mathit{vacuum}}^{2}}}$"
      ],
      "text/plain": [
       "<IPython.core.display.Math object>"
      ]
     },
     "metadata": {},
     "output_type": "display_data"
    },
    {
     "name": "stdout",
     "output_type": "stream",
     "text": [
      "eqDx_r_ =\n"
     ]
    },
    {
     "data": {
      "text/latex": [
       "$\\displaystyle -\\frac{4 i \\, \\pi {\\left(i \\, \\mathit{B1}_{\\mathit{zr}_{\\mathit{im}}} + \\mathit{B1}_{\\mathit{zr}_{\\mathit{re}}}\\right)} k_{z} \\sigma_{r} e^{\\left(i \\, \\sqrt{-k_{z}^{2} + \\kappa_{r}^{2}} a\\right)}}{\\sqrt{-k_{z}^{2} + \\kappa_{r}^{2}} \\omega} = -\\frac{{\\left({\\left(i \\, \\mathit{A2}_{z_{\\mathit{im}}} + \\mathit{A2}_{z_{\\mathit{re}}}\\right)} k_{z} e^{\\left(2 i \\, \\sqrt{-k_{z}^{2} + \\kappa_{\\mathit{vacuum}}^{2}} a\\right)} - {\\left(i \\, \\mathit{A1}_{z_{\\mathit{im}}} + \\mathit{A1}_{z_{\\mathit{re}}}\\right)} k_{z}\\right)} e^{\\left(-i \\, \\sqrt{-k_{z}^{2} + \\kappa_{\\mathit{vacuum}}^{2}} a\\right)}}{\\sqrt{-k_{z}^{2} + \\kappa_{\\mathit{vacuum}}^{2}}}$"
      ],
      "text/plain": [
       "<IPython.core.display.Math object>"
      ]
     },
     "metadata": {},
     "output_type": "display_data"
    }
   ],
   "source": [
    "# тангенциальная компонента напряженности магнитного поля\n",
    "print (\"eqHz_l =\")\n",
    "display(Math(latex(eqHz_l)))\n",
    "print (\"eqHz_r =\")\n",
    "display(Math(latex(eqHz_r)))\n",
    "print (\"eqHy_l =\")\n",
    "display(Math(latex(eqHy_l)))\n",
    "print (\"eqHy_r =\")\n",
    "display(Math(latex(eqHy_r)))\n",
    "\n",
    "eqHz_l_ = eqHz_l \\\n",
    "        .subs(A1_x_re_im_subs).subs(A2_x_re_im_subs) \\\n",
    "        .subs(A1_y_re_im_subs).subs(A2_y_re_im_subs) \\\n",
    "        .subs(A1_z_re_im_subs).subs(A2_z_re_im_subs) \\\n",
    "        .subs(B1_xl_re_im_subs) \\\n",
    "        .subs(B1_yl_re_im_subs) \\\n",
    "        .subs(B1_zl_re_im_subs)\n",
    "\n",
    "eqHz_r_ = eqHz_r \\\n",
    "        .subs(A1_x_re_im_subs).subs(A2_x_re_im_subs) \\\n",
    "        .subs(A1_y_re_im_subs).subs(A2_y_re_im_subs) \\\n",
    "        .subs(A1_z_re_im_subs).subs(A2_z_re_im_subs) \\\n",
    "        .subs(B1_xr_re_im_subs) \\\n",
    "        .subs(B1_yr_re_im_subs) \\\n",
    "        .subs(B1_zr_re_im_subs)\n",
    "\n",
    "eqHy_l_ = eq_Hy_l.subs(kappa_vacuum_sol).subs(kappa_l_sol) \\\n",
    "        .subs(A1_x_re_im_subs).subs(A2_x_re_im_subs) \\\n",
    "        .subs(A1_y_re_im_subs).subs(A2_y_re_im_subs) \\\n",
    "        .subs(A1_z_re_im_subs).subs(A2_z_re_im_subs) \\\n",
    "        .subs(B1_xl_re_im_subs) \\\n",
    "        .subs(B1_yl_re_im_subs) \\\n",
    "        .subs(B1_zl_re_im_subs)\n",
    "\n",
    "eqHy_r_ = eq_Hy_r.subs(kappa_vacuum_sol).subs(kappa_r_sol) \\\n",
    "        .subs(A1_x_re_im_subs).subs(A2_x_re_im_subs) \\\n",
    "        .subs(A1_y_re_im_subs).subs(A2_y_re_im_subs) \\\n",
    "        .subs(A1_z_re_im_subs).subs(A2_z_re_im_subs) \\\n",
    "        .subs(B1_xr_re_im_subs) \\\n",
    "        .subs(B1_yr_re_im_subs) \\\n",
    "        .subs(B1_zr_re_im_subs)\n",
    "\n",
    "print (\"eqHz_l_ =\")\n",
    "display(Math(latex(eqHz_l_)))\n",
    "print (\"eqHz_r_ =\")\n",
    "display(Math(latex(eqHz_r_)))\n",
    "\n",
    "print (\"eqHy_l_ =\")\n",
    "display(Math(latex(eqHy_l_)))\n",
    "print (\"eqHy_r_ =\")\n",
    "display(Math(latex(eqHy_r_)))\n",
    "\n",
    "# граничные условия на границе вакуума внутри резонатора и проводящего металла с потерями\n",
    "# тангенциальная компонента электрического поля\n",
    "\n",
    "print (\"eqEz_l = \")\n",
    "display(Math(latex(eqEz_l)))\n",
    "\n",
    "print (\"eqEz_r = \")\n",
    "display(Math(latex(eqEz_r)))\n",
    "\n",
    "eqEz_l_ = eqEz_l \\\n",
    "        .subs(A1_z_re_im_subs).subs(A2_z_re_im_subs) \\\n",
    "        .subs(B1_zl_re_im_subs)\n",
    "\n",
    "eqEz_r_ = eqEz_r \\\n",
    "        .subs(A1_z_re_im_subs).subs(A2_z_re_im_subs) \\\n",
    "        .subs(B1_zr_re_im_subs)\n",
    "\n",
    "eqEy_l_ = eqEy_l \\\n",
    "        .subs(A1_y_re_im_subs).subs(A2_y_re_im_subs) \\\n",
    "        .subs(B1_yl_re_im_subs)\n",
    "eqEy_r_ = eqEy_r \\\n",
    "        .subs(A1_y_re_im_subs).subs(A2_y_re_im_subs) \\\n",
    "        .subs(B1_yr_re_im_subs)\n",
    "\n",
    "print (\"eqEz_l_ = \")\n",
    "display(Math(latex(eqEz_l_)))\n",
    "print (\"eqEz_r_ = \")\n",
    "display(Math(latex(eqEz_r_)))\n",
    "\n",
    "# нормальная компонента индукции магнитного поля\n",
    "#eqBx_a  = mu * H_bad_conductor_sol_x (a)  == H_inner_vacuum_sol_x (a)\n",
    "\n",
    "print (\"eqBx_l =\")\n",
    "display(Math(latex(eqBx_l)))\n",
    "print (\"eqBx_r =\")\n",
    "display(Math(latex(eqBx_r)))\n",
    "\n",
    "eqBx_l_ = eqBx_l \\\n",
    "        .subs(A1_x_re_im_subs).subs(A2_x_re_im_subs) \\\n",
    "        .subs(A1_y_re_im_subs).subs(A2_y_re_im_subs) \\\n",
    "        .subs(A1_z_re_im_subs).subs(A2_z_re_im_subs) \\\n",
    "        .subs(B1_xl_re_im_subs) \\\n",
    "        .subs(B1_yl_re_im_subs) \\\n",
    "        .subs(B1_zl_re_im_subs)\n",
    "\n",
    "eqBx_r_ = eqBx_r \\\n",
    "        .subs(A1_x_re_im_subs).subs(A2_x_re_im_subs) \\\n",
    "        .subs(A1_y_re_im_subs).subs(A2_y_re_im_subs) \\\n",
    "        .subs(A1_z_re_im_subs).subs(A2_z_re_im_subs) \\\n",
    "        .subs(B1_xr_re_im_subs) \\\n",
    "        .subs(B1_yr_re_im_subs) \\\n",
    "        .subs(B1_zr_re_im_subs)\n",
    "\n",
    "print (\"eqBx_l_ =\")\n",
    "display(Math(latex(eqBx_l_)))\n",
    "\n",
    "print (\"eqBx_r_ =\")\n",
    "display(Math(latex(eqBx_r_)))\n",
    "\n",
    "# нормальная компонента электрического смещения\n",
    "\n",
    "print (\"eqDx_l =\")\n",
    "display(Math(latex(eqDx_l)))\n",
    "print (\"eqDx_r =\")\n",
    "display(Math(latex(eqDx_r)))\n",
    "\n",
    "\n",
    "eqDx_l_ = eqDx_l \\\n",
    "        .subs(A1_x_re_im_subs).subs(A2_x_re_im_subs) \\\n",
    "        .subs(A1_y_re_im_subs).subs(A2_y_re_im_subs) \\\n",
    "        .subs(A1_z_re_im_subs).subs(A2_z_re_im_subs) \\\n",
    "        .subs(B1_xl_re_im_subs) \\\n",
    "        .subs(B1_yl_re_im_subs) \\\n",
    "        .subs(B1_zl_re_im_subs)\n",
    "\n",
    "eqDx_r_ = eqDx_r \\\n",
    "        .subs(A1_x_re_im_subs).subs(A2_x_re_im_subs) \\\n",
    "        .subs(A1_y_re_im_subs).subs(A2_y_re_im_subs) \\\n",
    "        .subs(A1_z_re_im_subs).subs(A2_z_re_im_subs) \\\n",
    "        .subs(B1_xr_re_im_subs) \\\n",
    "        .subs(B1_yr_re_im_subs) \\\n",
    "        .subs(B1_zr_re_im_subs)\n",
    "\n",
    "print (\"eqDx_l_ =\")\n",
    "display(Math(latex(eqDx_l_)))\n",
    "print (\"eqDx_r_ =\")\n",
    "display(Math(latex(eqDx_r_)))"
   ]
  },
  {
   "cell_type": "code",
   "execution_count": 89,
   "metadata": {},
   "outputs": [],
   "source": [
    "# граничные условия на границе идеального проводника и вакуума внутри резонатора\n",
    "# тангенциальная компонента электрического поля"
   ]
  },
  {
   "cell_type": "code",
   "execution_count": 90,
   "metadata": {},
   "outputs": [],
   "source": [
    "eqEz_l_re = eqEz_l_.lhs().real() == 0\n",
    "eqEz_r_re = eqEz_r_.lhs().real() == 0\n",
    "eqEz_l_im = eqEz_l_.lhs().imag() == 0\n",
    "eqEz_r_im = eqEz_r_.lhs().imag() == 0"
   ]
  },
  {
   "cell_type": "code",
   "execution_count": 91,
   "metadata": {},
   "outputs": [],
   "source": [
    "eqEy_l_re = eqEy_l_.lhs().real() == 0\n",
    "eqEy_r_re = eqEy_r_.lhs().real() == 0\n",
    "eqEy_l_im = eqEy_l_.lhs().imag() == 0\n",
    "eqEy_r_im = eqEy_r_.lhs().imag() == 0"
   ]
  },
  {
   "cell_type": "code",
   "execution_count": 92,
   "metadata": {},
   "outputs": [],
   "source": [
    "# тангенциальная компонента напряженности магнитного поля"
   ]
  },
  {
   "cell_type": "code",
   "execution_count": 93,
   "metadata": {},
   "outputs": [],
   "source": [
    "#eqHz_a"
   ]
  },
  {
   "cell_type": "code",
   "execution_count": 94,
   "metadata": {},
   "outputs": [],
   "source": [
    "#eqHy_a"
   ]
  },
  {
   "cell_type": "code",
   "execution_count": 95,
   "metadata": {},
   "outputs": [],
   "source": [
    "eqHz_l_re = eqHz_l_.lhs().real() == eqHz_l_.rhs().real()\n",
    "eqHz_r_re = eqHz_r_.lhs().real() == eqHz_r_.rhs().real()\n",
    "eqHz_l_im = eqHz_l_.lhs().imag() == eqHz_l_.rhs().imag()\n",
    "eqHz_r_im = eqHz_r_.lhs().imag() == eqHz_r_.rhs().imag()"
   ]
  },
  {
   "cell_type": "code",
   "execution_count": 96,
   "metadata": {},
   "outputs": [],
   "source": [
    "eqHy_l_re = eqHy_l_.lhs().real() == eqHy_l_.rhs().real()\n",
    "eqHy_r_re = eqHy_r_.lhs().real() == eqHy_r_.rhs().real()\n",
    "eqHy_l_im = eqHy_l_.lhs().imag() == eqHy_l_.rhs().imag()\n",
    "eqHy_r_im = eqHy_r_.lhs().imag() == eqHy_r_.rhs().imag()"
   ]
  },
  {
   "cell_type": "code",
   "execution_count": 97,
   "metadata": {},
   "outputs": [],
   "source": [
    "# граничные условия на границе вакуума внутри резонатора и проводящего металла с потерями\n",
    "# тангенциальная компонента электрического поля"
   ]
  },
  {
   "cell_type": "code",
   "execution_count": 98,
   "metadata": {},
   "outputs": [],
   "source": [
    "#eqEz_a"
   ]
  },
  {
   "cell_type": "code",
   "execution_count": 99,
   "metadata": {},
   "outputs": [],
   "source": [
    "eqEz_l_re = eqEz_l_.lhs().real() == eqEz_l_.rhs().real()\n",
    "eqEz_r_re = eqEz_r_.lhs().real() == eqEz_r_.rhs().real()\n",
    "eqEz_l_im = eqEz_l_.lhs().imag() == eqEz_l_.rhs().imag()\n",
    "eqEz_r_im = eqEz_r_.lhs().imag() == eqEz_r_.rhs().imag()"
   ]
  },
  {
   "cell_type": "code",
   "execution_count": 100,
   "metadata": {},
   "outputs": [],
   "source": [
    "#eqEy_a"
   ]
  },
  {
   "cell_type": "code",
   "execution_count": 101,
   "metadata": {},
   "outputs": [],
   "source": [
    "eqEy_l_re = eqEy_l_.lhs().real() == eqEy_l_.rhs().real()\n",
    "eqEy_r_re = eqEy_r_.lhs().real() == eqEy_r_.rhs().real()\n",
    "eqEy_l_im = eqEy_l_.lhs().imag() == eqEy_l_.rhs().imag()\n",
    "eqEy_r_im = eqEy_r_.lhs().imag() == eqEy_r_.rhs().imag()"
   ]
  },
  {
   "cell_type": "code",
   "execution_count": 102,
   "metadata": {},
   "outputs": [],
   "source": [
    "# нормальная компонента индукции магнитного поля\n",
    "# на границе вакуума внутри резонатора и проводящего металла с потерями"
   ]
  },
  {
   "cell_type": "code",
   "execution_count": 103,
   "metadata": {},
   "outputs": [],
   "source": [
    "#eqBx_a"
   ]
  },
  {
   "cell_type": "code",
   "execution_count": 104,
   "metadata": {},
   "outputs": [],
   "source": [
    "eqBx_l_re = eqBx_l_.lhs().real() == eqBx_l_.rhs().real()\n",
    "eqBx_r_re = eqBx_r_.lhs().real() == eqBx_r_.rhs().real()\n",
    "eqBx_l_im = eqBx_l_.lhs().imag() == eqBx_l_.rhs().imag()\n",
    "eqBx_r_re = eqBx_r_.lhs().real() == eqBx_r_.rhs().real()"
   ]
  },
  {
   "cell_type": "code",
   "execution_count": 105,
   "metadata": {},
   "outputs": [],
   "source": [
    "# нормальная компонента электрического смещения\n",
    "# на границе вакуума внутри резонатора и проводящего металла с потерями"
   ]
  },
  {
   "cell_type": "code",
   "execution_count": 106,
   "metadata": {},
   "outputs": [],
   "source": [
    "#eqDx_a"
   ]
  },
  {
   "cell_type": "code",
   "execution_count": 107,
   "metadata": {},
   "outputs": [],
   "source": [
    "eqDx_l_re = eqDx_l_.lhs().real() == eqDx_l_.rhs().real()\n",
    "eqDx_r_re = eqDx_r_.lhs().real() == eqDx_r_.rhs().real()\n",
    "eqDx_l_im = eqDx_l_.lhs().imag() == eqDx_l_.rhs().imag()\n",
    "eqDx_r_im = eqDx_r_.lhs().imag() == eqDx_r_.rhs().imag()"
   ]
  },
  {
   "cell_type": "raw",
   "metadata": {},
   "source": [
    "display(Math(latex(k_z_sol)))"
   ]
  },
  {
   "cell_type": "raw",
   "metadata": {},
   "source": [
    "k_z_sol_subs = k_z_sol_subs.subs(K_vacuum_subs).subs(K_conductor_subs).subs(kappa_vacuum_sol).subs(kappa_sol) \\\n",
    "    .subs(A1_z == A1_z_re + I * A1_z_im) \\\n",
    "    .subs(A2_z == A2_z_re + I * A2_z_im)"
   ]
  },
  {
   "cell_type": "raw",
   "metadata": {},
   "source": [
    "display(Math(latex(k_z_sol_subs)))"
   ]
  },
  {
   "cell_type": "raw",
   "metadata": {},
   "source": [
    "K_vacuum_s = K_vacuum_subs.subs(k_z_sol_subs).subs(kappa_vacuum_sol).subs(kappa_sol)\n",
    "K_vacuum_s.rhs().variables()"
   ]
  },
  {
   "cell_type": "raw",
   "metadata": {},
   "source": [
    "K_conductor_s = K_conductor_subs.subs(k_z_sol_subs).subs(kappa_vacuum_sol).subs(kappa_sol)\n",
    "K_conductor_s.rhs().variables()"
   ]
  },
  {
   "cell_type": "code",
   "execution_count": 108,
   "metadata": {},
   "outputs": [],
   "source": [
    "#k_z_sol_subs"
   ]
  },
  {
   "cell_type": "raw",
   "metadata": {},
   "source": [
    "K_vacuum_s = K_vacuum_subs.subs(k_z_sol_subs).subs(kappa_vacuum_sol).subs(kappa_sol) \\\n",
    "    .subs(A1_z == A1_z_re + I * A1_z_im) \\\n",
    "    .subs(A2_z == A2_z_re + I * A2_z_im)\n",
    "\n",
    "K_vacuum_s.rhs().variables()"
   ]
  },
  {
   "cell_type": "raw",
   "metadata": {},
   "source": [
    "K_conductor_s = K_conductor_subs.subs(k_z_sol_subs).subs(kappa_vacuum_sol).subs(kappa_sol) \\\n",
    "    .subs(A1_z == A1_z_re + I * A1_z_im) \\\n",
    "    .subs(A2_z == A2_z_re + I * A2_z_im)\n",
    "\n",
    "K_conductor_s.rhs().variables()"
   ]
  },
  {
   "cell_type": "code",
   "execution_count": null,
   "metadata": {},
   "outputs": [],
   "source": []
  },
  {
   "cell_type": "code",
   "execution_count": 109,
   "metadata": {},
   "outputs": [
    {
     "data": {
      "text/plain": [
       "([a == 1,\n",
       "  mu_l == 1,\n",
       "  mu_r == 1,\n",
       "  c == 29979245800,\n",
       "  sigma_l == (1/144),\n",
       "  sigma_r == (1/4500)],\n",
       " 2.98046134067857e12)"
      ]
     },
     "execution_count": 109,
     "metadata": {},
     "output_type": "execute_result"
    }
   ],
   "source": [
    "# sgs\n",
    "A = 1\n",
    "\n",
    "# на низких частотах ферриты обладают высокой относительной диэлектрической проницаемостью, примерно 10^5\n",
    "#epsilon_l_d = 1000\n",
    "#epsilon_r_d = 100\n",
    "\n",
    "#epsilon_l_d = 1\n",
    "#epsilon_r_d = 1\n",
    "\n",
    "\n",
    "sigma_l_d = 1000\n",
    "sigma_r_d = 100\n",
    "\n",
    "# https://ru.wikipedia.org/wiki/%D0%AD%D0%BB%D0%B5%D0%BA%D1%82%D1%80%D0%BE%D0%BF%D1%80%D0%BE%D0%B2%D0%BE%D0%B4%D0%BD%D0%BE%D1%81%D1%82%D1%8C\n",
    "# серебро    62 500 000\n",
    "# медь       59 500 000\n",
    "# константан  2 000 000\n",
    "\n",
    "# См/м\n",
    "# 1 См = 1 / Ом\n",
    "\n",
    "sigma_l_d = 62500000 / (9*10^9)\n",
    "sigma_r_d =  2000000 / (9*10^9)\n",
    "\n",
    "lambda_d = 632*100*10^-9\n",
    "# 632 nm\n",
    "\n",
    "lambda_d = 632*100*10^-6\n",
    "# 0.632 mm\n",
    "\n",
    "#lambda_d = 632*100*10^-4*1000\n",
    "# 63.2 mm\n",
    "# 6.32 sm\n",
    "\n",
    "c_value  = [ c == 299792458 * 100]\n",
    "omega_value = [ omega  == ((2*pi * c)/ lambda_d).subs (c_value) ]\n",
    "digit_values_init = [a == A, mu_l == 1, mu_r == 1, c == 299792458 * 100, sigma_l == sigma_l_d, sigma_r == sigma_r_d, ]\n",
    "                     #epsilon_l == epsilon_l_d, epsilon_r == epsilon_r_d]\n",
    "digit_values = digit_values_init\n",
    "digit_values, omega_value[0].rhs().n()"
   ]
  },
  {
   "cell_type": "raw",
   "metadata": {},
   "source": [
    "K_vacuum_s_d = K_vacuum_s.subs(digit_values)\n",
    "K_vacuum_s_d.rhs().variables()"
   ]
  },
  {
   "cell_type": "raw",
   "metadata": {},
   "source": [
    "K_conductor_s_d = K_conductor_s.subs(digit_values)\n",
    "K_conductor_s_d.rhs().variables()"
   ]
  },
  {
   "cell_type": "code",
   "execution_count": 110,
   "metadata": {},
   "outputs": [
    {
     "name": "stdout",
     "output_type": "stream",
     "text": [
      "[a == 1, mu_l == 1, mu_r == 1, c == 29979245800, sigma_l == (1/144), sigma_r == (1/4500), omega == 74948114500000/79*pi]\n"
     ]
    }
   ],
   "source": [
    "digit_values = digit_values_init\n",
    "digit_values += omega_value\n",
    "print (digit_values)"
   ]
  },
  {
   "cell_type": "code",
   "execution_count": 111,
   "metadata": {},
   "outputs": [
    {
     "data": {
      "text/plain": [
       "79/2698132122000000*I"
      ]
     },
     "execution_count": 111,
     "metadata": {},
     "output_type": "execute_result"
    }
   ],
   "source": [
    "epsilon_l_complex.subs(digit_values)"
   ]
  },
  {
   "cell_type": "code",
   "execution_count": 112,
   "metadata": {},
   "outputs": [
    {
     "data": {
      "text/plain": [
       "79/84316628812500000*I"
      ]
     },
     "execution_count": 112,
     "metadata": {},
     "output_type": "execute_result"
    }
   ],
   "source": [
    "epsilon_r_complex.subs(digit_values)"
   ]
  },
  {
   "cell_type": "code",
   "execution_count": 113,
   "metadata": {},
   "outputs": [
    {
     "data": {
      "text/plain": [
       "2.89393957631247e-10*I"
      ]
     },
     "execution_count": 113,
     "metadata": {},
     "output_type": "execute_result"
    }
   ],
   "source": [
    "eq_kappa_l.rhs().subs(digit_values).n()"
   ]
  },
  {
   "cell_type": "code",
   "execution_count": 114,
   "metadata": {},
   "outputs": [
    {
     "data": {
      "text/plain": [
       "9.26060664419992e-12*I"
      ]
     },
     "execution_count": 114,
     "metadata": {},
     "output_type": "execute_result"
    }
   ],
   "source": [
    "eq_kappa_r.rhs().subs(digit_values).n()"
   ]
  },
  {
   "cell_type": "code",
   "execution_count": 115,
   "metadata": {},
   "outputs": [
    {
     "data": {
      "text/plain": [
       "[k_y == 0]"
      ]
     },
     "execution_count": 115,
     "metadata": {},
     "output_type": "execute_result"
    }
   ],
   "source": [
    "# отсутсвие изменения поля вдоль оси y\n",
    "k_y0_subs = [k_y == 0]\n",
    "\n",
    "#            A1_y_im == 0, \\\n",
    "#            A1_y_re == 0, \\\n",
    "#            A2_y_im == 0, \\\n",
    "#            A2_y_re == 0]\n",
    "k_y0_subs"
   ]
  },
  {
   "cell_type": "code",
   "execution_count": 116,
   "metadata": {},
   "outputs": [],
   "source": [
    "K_vacuum_subs_2 = K_vacuum_subs.subs(kappa_vacuum_sol)"
   ]
  },
  {
   "cell_type": "code",
   "execution_count": 117,
   "metadata": {},
   "outputs": [],
   "source": [
    "K_left_conductor_subs_2 = K_left_conductor_subs.subs(kappa_l_sol)\n",
    "K_right_conductor_subs_2 = K_right_conductor_subs.subs(kappa_r_sol)"
   ]
  },
  {
   "cell_type": "code",
   "execution_count": 118,
   "metadata": {},
   "outputs": [],
   "source": [
    "K_vacuum_subs_4 = K_vacuum_subs_2.subs(k_z = kz + I * sz)"
   ]
  },
  {
   "cell_type": "code",
   "execution_count": 119,
   "metadata": {},
   "outputs": [],
   "source": [
    "K_left_conductor_subs_4 = K_left_conductor_subs_2.subs(k_z = kz + I * sz)\n",
    "K_right_conductor_subs_4 = K_right_conductor_subs_2.subs(k_z = kz + I * sz)"
   ]
  },
  {
   "cell_type": "code",
   "execution_count": 120,
   "metadata": {},
   "outputs": [],
   "source": [
    "# граничные условия на границе идеального проводника и вакуума внутри резонатора\n",
    "# тангенциальная компонента электрического поля"
   ]
  },
  {
   "cell_type": "code",
   "execution_count": 121,
   "metadata": {},
   "outputs": [],
   "source": [
    "eqEz_l_subs = eqEz_l.subs(K_vacuum_subs_2)\n",
    "eqEz_r_subs = eqEz_r.subs(K_vacuum_subs_2)"
   ]
  },
  {
   "cell_type": "code",
   "execution_count": 122,
   "metadata": {},
   "outputs": [],
   "source": [
    "eqEz_l_re_subs = eqEz_l_re.subs(K_vacuum_subs_4).subs(K_left_conductor_subs_4)\n",
    "eqEz_r_re_subs = eqEz_r_re.subs(K_vacuum_subs_4).subs(K_right_conductor_subs_4)\n",
    "eqEz_l_im_subs = eqEz_l_im.subs(K_vacuum_subs_4).subs(K_left_conductor_subs_4)\n",
    "eqEz_r_im_subs = eqEz_r_im.subs(K_vacuum_subs_4).subs(K_right_conductor_subs_4)"
   ]
  },
  {
   "cell_type": "code",
   "execution_count": 123,
   "metadata": {},
   "outputs": [],
   "source": [
    "# тангенциальная компонента напряженности магнитного поля\n",
    "# на границе вакуума внутри резонатора и проводящего металла с потерями"
   ]
  },
  {
   "cell_type": "code",
   "execution_count": 124,
   "metadata": {},
   "outputs": [],
   "source": [
    "eqHy_l_subs = eqHy_l.subs(K_vacuum_subs_2).subs(K_left_conductor_subs_2)\n",
    "eqHy_r_subs = eqHy_r.subs(K_vacuum_subs_2).subs(K_right_conductor_subs_2)"
   ]
  },
  {
   "cell_type": "code",
   "execution_count": 125,
   "metadata": {},
   "outputs": [],
   "source": [
    "eqHy_l_re_subs = eqHy_l_re.subs(K_vacuum_subs_4).subs(K_left_conductor_subs_4)\n",
    "eqHy_r_re_subs = eqHy_r_re.subs(K_vacuum_subs_4).subs(K_right_conductor_subs_4)\n",
    "eqHy_l_im_subs = eqHy_l_im.subs(K_vacuum_subs_4).subs(K_left_conductor_subs_4)\n",
    "eqHy_r_im_subs = eqHy_r_im.subs(K_vacuum_subs_4).subs(K_right_conductor_subs_4)"
   ]
  },
  {
   "cell_type": "raw",
   "metadata": {},
   "source": [
    "eqHz_a_re_subs = eqHz_a_re.subs(K_vacuum_subs_3).subs(K_conductor_subs_3)\n",
    "eqHz_a_im_subs = eqHz_a_im.subs(K_vacuum_subs_3).subs(K_conductor_subs_3)"
   ]
  },
  {
   "cell_type": "code",
   "execution_count": 126,
   "metadata": {},
   "outputs": [],
   "source": [
    "# граничные условия на границе идеального проводника и вакуума внутри резонатора\n",
    "# тангенциальная компонента электрического поля"
   ]
  },
  {
   "cell_type": "raw",
   "metadata": {},
   "source": [
    "eqEz_a_subs = eqEz_a"
   ]
  },
  {
   "cell_type": "raw",
   "metadata": {},
   "source": [
    "eqEz_a_re_subs = eqEz_a_re\n",
    "eqEz_a_im_subs = eqEz_a_im"
   ]
  },
  {
   "cell_type": "raw",
   "metadata": {},
   "source": [
    "eqEy_a_re_subs = eqEy_a_re\n",
    "eqEy_a_im_subs = eqEy_a_im"
   ]
  },
  {
   "cell_type": "code",
   "execution_count": 127,
   "metadata": {},
   "outputs": [],
   "source": [
    "# нормальная компонента индукции магнитного поля\n",
    "# на границе вакуума внутри резонатора и проводящего металла с потерями"
   ]
  },
  {
   "cell_type": "raw",
   "metadata": {},
   "source": [
    "eqBx_a_re_subs = eqBx_a_re.subs(kappa_vacuum_sol)\n",
    "eqBx_a_im_subs = eqBx_a_im.subs(kappa_vacuum_sol)"
   ]
  },
  {
   "cell_type": "code",
   "execution_count": 128,
   "metadata": {},
   "outputs": [],
   "source": [
    "# нормальная компонента электрического смещения\n",
    "# на границе вакуума внутри резонатора и проводящего металла с потерями"
   ]
  },
  {
   "cell_type": "raw",
   "metadata": {},
   "source": [
    "eqDx_a_re_subs = eqDx_a_re.subs(kappa_vacuum_sol)\n",
    "eqDx_a_im_subs = eqDx_a_im.subs(kappa_vacuum_sol)"
   ]
  },
  {
   "cell_type": "raw",
   "metadata": {},
   "source": [
    "print(eqEz_0_re)\n",
    "print(eqEz_0_im)\n",
    "\n",
    "print(eqEy_0_re)\n",
    "print(eqEy_0_im)\n",
    "\n",
    "print(eqHy_a_re)\n",
    "print(eqHy_a_im)\n",
    "\n",
    "print(eqHz_a_re)\n",
    "print(eqHz_a_im)\n",
    "\n",
    "print(eqEz_a_re)\n",
    "print(eqEz_a_im)\n",
    "\n",
    "print(eqEy_a_re)\n",
    "print(eqEy_a_im)\n",
    "\n",
    "print(eqBx_a_re)\n",
    "print(eqBx_a_im)\n",
    "\n",
    "#print(eqDx_a_re)\n",
    "#print(eqDx_a_im)"
   ]
  },
  {
   "cell_type": "code",
   "execution_count": 129,
   "metadata": {},
   "outputs": [],
   "source": [
    "def GenerateMatrix(equsys, vars):\n",
    "    A=matrix(SR, [[(equ.lhs() - equ.rhs()).coefficient(v) for v in vars] for equ in equsys])\n",
    "    return A"
   ]
  },
  {
   "cell_type": "code",
   "execution_count": 130,
   "metadata": {},
   "outputs": [],
   "source": [
    "def GenerateMatrixNumeric(equsys, vars):\n",
    "    A=matrix(SR, [[(equ.lhs() - equ.rhs()).coefficient(v).n() for v in vars] for equ in equsys])\n",
    "    return A"
   ]
  },
  {
   "cell_type": "code",
   "execution_count": 131,
   "metadata": {},
   "outputs": [],
   "source": [
    "def reduceDependedRows(M):\n",
    "    print (\"\")\n",
    "    print (\"M.nrows()\", M.nrows())\n",
    "    print (\"M.ncols()\", M.ncols())\n",
    "    #print (\"M.rank()\", M.rank())\n",
    "\n",
    "    M_pivot_rows = M.pivot_rows()\n",
    "    print (\"M.pivot_rows() =\", M_pivot_rows)\n",
    "\n",
    "    M_rows = M.rows()\n",
    "    for row in M_rows:\n",
    "        print (\"row =\", row)\n",
    "\n",
    "    reduced_list = []\n",
    "    for r in M_pivot_rows:\n",
    "        print (\"M_rows[\", r, \"] =\")\n",
    "        display(Math(latex(M_rows[r])))\n",
    "        reduced_list.append(M_rows[r])\n",
    "\n",
    "    reduced_M = matrix(SR, len(M_pivot_rows), M.ncols(), reduced_list)\n",
    "    #reduced_M_det = reduced_M.det()\n",
    "    \n",
    "    print (\"reduced_M.nrows()\", reduced_M.nrows())\n",
    "    print (\"reduced_M.ncols()\", reduced_M.ncols())\n",
    "    \n",
    "    #print (\"\")\n",
    "    #print(\"reduced_M.det() =\", reduced_M_det)\n",
    "    return reduced_M"
   ]
  },
  {
   "cell_type": "code",
   "execution_count": 132,
   "metadata": {},
   "outputs": [],
   "source": [
    "def reduceRows(M, M_pivot_rows):\n",
    "    print (\"\")\n",
    "    print (\"M.nrows()\", M.nrows())\n",
    "    print (\"M.ncols()\", M.ncols())\n",
    "    #print (\"M.rank()\", M.rank())\n",
    "\n",
    "    print (\"M.pivot_rows() =\", M_pivot_rows)\n",
    "\n",
    "    M_rows = M.rows()\n",
    "    for row in M_rows:\n",
    "        print (\"row =\", row)\n",
    "\n",
    "    reduced_list = []\n",
    "    for r in M_pivot_rows:\n",
    "        print (\"M_rows[\", r, \"] =\")\n",
    "        display(Math(latex(M_rows[r])))\n",
    "        reduced_list.append(M_rows[r])\n",
    "\n",
    "    reduced_M = matrix(SR, len(M_pivot_rows), M.ncols(), reduced_list)\n",
    "    #reduced_M_det = reduced_M.det()\n",
    "    #print (\"\")\n",
    "    #print(\"reduced_M.det() =\", reduced_M_det)\n",
    "    \n",
    "    print (\"reduced_M.nrows()\", reduced_M.nrows())\n",
    "    print (\"reduced_M.ncols()\", reduced_M.ncols())\n",
    "\n",
    "    return reduced_M"
   ]
  },
  {
   "cell_type": "code",
   "execution_count": 133,
   "metadata": {},
   "outputs": [],
   "source": [
    "# sqrt(mu / epsilon_complex) = omega/c * mu / kappa\n",
    "# sqrt(mu / epsilon_complex) = omega/c * mu_rel * mu_0 / kappa\n",
    "\n",
    "# kappa/mu == omega * sqrt(epsilon_complex/mu)\n",
    "# sqrt(mu_0 / epsilon_0) = omega * mu_0 / kappa_vacuum\n",
    "\n",
    "# kappa_vacuum == omega/c\n",
    "# sqrt(mu_0 / epsilon_0) = c * mu_0\n",
    "# c = 1 / sqrt(mu_0 * epsilon_0)\n",
    "\n",
    "# kappa = omega/c * sqrt(epsilon_comlex*mu)\n",
    "# kappa_vacuum = omega/c * sqrt(epsilon_0*mu_0) = omega/c\n",
    "\n",
    "# sqrt(mu_0 / epsilon_0) = 1/(c*epsilon_0) = omega/c * mu_0 / kappa_vacuum\n",
    "# sqrt(mu / epsilon_complex) = 1/(c*epsilon_complex) = omega/c * mu / kappa\n",
    "\n",
    "# 1/mu_0 = c^2*epsolon_0"
   ]
  },
  {
   "cell_type": "code",
   "execution_count": 134,
   "metadata": {},
   "outputs": [],
   "source": [
    "Ex_left_conductor  = (eq_7_l_subs3.rhs())\n",
    "Ex_vacuum          = (eq_5_subs3.rhs())\n",
    "Ex_right_conductor = (eq_7_r_subs3.rhs())"
   ]
  },
  {
   "cell_type": "code",
   "execution_count": 135,
   "metadata": {},
   "outputs": [],
   "source": [
    "Ez_left_conductor  = E_left_conductor_sol_z(x)\n",
    "Ez_vacuum          = E_inner_vacuum_sol_z(x)\n",
    "Ez_right_conductor = E_right_conductor_sol_z(x)"
   ]
  },
  {
   "cell_type": "code",
   "execution_count": 136,
   "metadata": {},
   "outputs": [],
   "source": [
    "Hy_left_conductor  = c * (eq_8_l_subs3.rhs()*kappa_l   / (mu_l*omega))\n",
    "Hy_vacuum          = c * (eq_6_subs3.rhs()*kappa_vacuum/ (mu_0*omega))\n",
    "Hy_right_conductor = c * (eq_8_r_subs3.rhs()*kappa_r   / (mu_r*omega))"
   ]
  },
  {
   "cell_type": "code",
   "execution_count": 137,
   "metadata": {},
   "outputs": [],
   "source": [
    "rot_H_vacuum_x = - diff(Hy_vacuum(x=x)*e^(I*k_z*z), z)\n",
    "rot_H_vacuum_y =   0\n",
    "rot_H_vacuum_z =   diff(Hy_vacuum(x=x)*e^(I*k_z*z), x)"
   ]
  },
  {
   "cell_type": "code",
   "execution_count": 138,
   "metadata": {},
   "outputs": [],
   "source": [
    "eq_rot_H_vacuum_x = rot_H_vacuum_x == (-I*omega/c*Ex_vacuum(x=x)*e^(I*k_z*z))\n",
    "eq_rot_H_vacuum_z = rot_H_vacuum_z == (-I*omega/c*Ez_vacuum(x=x)*e^(I*k_z*z))"
   ]
  },
  {
   "cell_type": "code",
   "execution_count": 139,
   "metadata": {},
   "outputs": [],
   "source": [
    "rot_H_left_conductor_x = - diff(Hy_left_conductor(x=x)*e^(I*k_z*z), z)\n",
    "rot_H_left_conductor_y =   0\n",
    "rot_H_left_conductor_z =   diff(Hy_left_conductor(x=x)*e^(I*k_z*z), x)"
   ]
  },
  {
   "cell_type": "code",
   "execution_count": 140,
   "metadata": {},
   "outputs": [],
   "source": [
    "eq_rot_H_left_conductor_x = rot_H_left_conductor_x == ((-I*epsilon_l_complex*omega/c) * Ex_left_conductor(x=x)*e^(I*k_z*z))\n",
    "eq_rot_H_left_conductor_z = rot_H_left_conductor_z == ((-I*epsilon_l_complex*omega/c) * Ez_left_conductor(x=x)*e^(I*k_z*z))"
   ]
  },
  {
   "cell_type": "code",
   "execution_count": 141,
   "metadata": {},
   "outputs": [],
   "source": [
    "rot_H_right_conductor_x = - diff(Hy_right_conductor(x=x)*e^(I*k_z*z), z)\n",
    "rot_H_right_conductor_y =   0\n",
    "rot_H_right_conductor_z =   diff(Hy_right_conductor(x=x)*e^(I*k_z*z), x)"
   ]
  },
  {
   "cell_type": "code",
   "execution_count": 142,
   "metadata": {},
   "outputs": [],
   "source": [
    "eq_rot_H_right_conductor_x = rot_H_right_conductor_x == ((-I*epsilon_r_complex*omega/c) * Ex_right_conductor(x=x)*e^(I*k_z*z))\n",
    "eq_rot_H_right_conductor_z = rot_H_right_conductor_z == ((-I*epsilon_r_complex*omega/c) * Ez_right_conductor(x=x)*e^(I*k_z*z))"
   ]
  },
  {
   "cell_type": "code",
   "execution_count": null,
   "metadata": {},
   "outputs": [],
   "source": []
  },
  {
   "cell_type": "code",
   "execution_count": 143,
   "metadata": {},
   "outputs": [],
   "source": [
    "sys_rot_H_vacuum = [\n",
    "    (eq_rot_H_vacuum_x.subs(K_vacuum_subs)/e^(I*k_z*z)/k_z*(k_z^2-kappa_vacuum^2)).subs(kappa_vacuum == omega/c).full_simplify().expand(),\n",
    "    (eq_rot_H_vacuum_z.subs(K_vacuum_subs)/e^(I*k_z*z)).subs(kappa_vacuum == omega/c).full_simplify().expand(),\n",
    "]\n",
    "\n",
    "# 2 equations"
   ]
  },
  {
   "cell_type": "code",
   "execution_count": 144,
   "metadata": {},
   "outputs": [
    {
     "data": {
      "text/latex": [
       "$\\displaystyle \\left(\\begin{array}{rr}\n",
       "0 & 0 \\\\\n",
       "0 & 0\n",
       "\\end{array}\\right)$"
      ],
      "text/plain": [
       "<IPython.core.display.Math object>"
      ]
     },
     "metadata": {},
     "output_type": "display_data"
    }
   ],
   "source": [
    "M2_sys_rot_H_vacuum = GenerateMatrix(sys_rot_H_vacuum, [A1_z, A2_z])\n",
    "display(Math(latex(M2_sys_rot_H_vacuum)))"
   ]
  },
  {
   "cell_type": "code",
   "execution_count": 145,
   "metadata": {},
   "outputs": [],
   "source": [
    "sys_rot_H_left_conductor = [\n",
    "    (eq_rot_H_left_conductor_x/B1_zl*(k_z^2-kappa_l^2)/K_left_conductor/k_z).subs(eq_kappa_l),\n",
    "    (eq_rot_H_left_conductor_z/B1_zl).subs(K_left_conductor_subs).subs(eq_kappa_l)\n",
    "]\n",
    "\n",
    "# 2 equations"
   ]
  },
  {
   "cell_type": "code",
   "execution_count": 146,
   "metadata": {},
   "outputs": [],
   "source": [
    "sys_rot_H_right_conductor = [\n",
    "    (eq_rot_H_right_conductor_x/B1_zr*(k_z^2-kappa_r^2)/K_right_conductor/k_z).subs(eq_kappa_r),\n",
    "    (eq_rot_H_right_conductor_z/B1_zr).subs(K_right_conductor_subs).subs(eq_kappa_r)\n",
    "]\n",
    "\n",
    "# 2 equations"
   ]
  },
  {
   "cell_type": "code",
   "execution_count": 147,
   "metadata": {},
   "outputs": [
    {
     "data": {
      "text/latex": [
       "$\\displaystyle \\frac{4 \\, \\pi \\sigma_{r} e^{\\left(i \\, K_{\\mathit{right}_{\\mathit{conductor}}} x + i \\, k_{z} z\\right)}}{c} = \\frac{4 \\, \\pi \\sigma_{r} e^{\\left(i \\, K_{\\mathit{right}_{\\mathit{conductor}}} x + i \\, k_{z} z\\right)}}{c}$"
      ],
      "text/plain": [
       "<IPython.core.display.Math object>"
      ]
     },
     "metadata": {},
     "output_type": "display_data"
    }
   ],
   "source": [
    "display(Math(latex((eq_rot_H_right_conductor_x/B1_zr*(k_z^2-kappa_r^2)/K_right_conductor/k_z).subs(eq_kappa_r).full_simplify())))"
   ]
  },
  {
   "cell_type": "code",
   "execution_count": 148,
   "metadata": {},
   "outputs": [
    {
     "data": {
      "text/plain": [
       "0"
      ]
     },
     "execution_count": 148,
     "metadata": {},
     "output_type": "execute_result"
    }
   ],
   "source": [
    "(sys_rot_H_left_conductor[0].lhs()-sys_rot_H_left_conductor[0].rhs()).full_simplify()"
   ]
  },
  {
   "cell_type": "code",
   "execution_count": 149,
   "metadata": {},
   "outputs": [
    {
     "data": {
      "text/plain": [
       "-8*pi*sigma_l*e^(I*k_z*z - I*sqrt(-c^2*k_z^2 + 4*I*pi*mu_l*omega*sigma_l)*x/c)/c"
      ]
     },
     "execution_count": 149,
     "metadata": {},
     "output_type": "execute_result"
    }
   ],
   "source": [
    "(sys_rot_H_left_conductor[1].lhs()-sys_rot_H_left_conductor[1].rhs()).full_simplify()"
   ]
  },
  {
   "cell_type": "code",
   "execution_count": 150,
   "metadata": {},
   "outputs": [
    {
     "data": {
      "text/plain": [
       "0"
      ]
     },
     "execution_count": 150,
     "metadata": {},
     "output_type": "execute_result"
    }
   ],
   "source": [
    "(sys_rot_H_right_conductor[0].lhs()-sys_rot_H_right_conductor[0].rhs()).full_simplify()"
   ]
  },
  {
   "cell_type": "code",
   "execution_count": 151,
   "metadata": {},
   "outputs": [
    {
     "data": {
      "text/plain": [
       "0"
      ]
     },
     "execution_count": 151,
     "metadata": {},
     "output_type": "execute_result"
    }
   ],
   "source": [
    "(sys_rot_H_right_conductor[1].lhs()-sys_rot_H_right_conductor[1].rhs()).full_simplify()"
   ]
  },
  {
   "cell_type": "code",
   "execution_count": null,
   "metadata": {},
   "outputs": [],
   "source": []
  },
  {
   "cell_type": "code",
   "execution_count": 152,
   "metadata": {},
   "outputs": [],
   "source": [
    "sys8_subs = [eqEz_l_re_subs.subs(k_z = kz + I * sz).subs(K_left_conductor_subs_4), \\\n",
    "             eqEz_l_im_subs.subs(k_z = kz + I * sz).subs(K_left_conductor_subs_4), \\\n",
    "             eqHy_l_re_subs.subs(k_z = kz + I * sz), \\\n",
    "             eqHy_l_im_subs.subs(k_z = kz + I * sz), \\\n",
    "             eqHy_r_re_subs.subs(k_z = kz + I * sz), \\\n",
    "             eqHy_r_im_subs.subs(k_z = kz + I * sz), \\\n",
    "             eqEz_r_re_subs.subs(k_z = kz + I * sz).subs(K_right_conductor_subs_4), \\\n",
    "             eqEz_r_im_subs.subs(k_z = kz + I * sz).subs(K_right_conductor_subs_4), \\\n",
    "            ]\n",
    "\n",
    "# 6 equations"
   ]
  },
  {
   "cell_type": "code",
   "execution_count": 153,
   "metadata": {},
   "outputs": [],
   "source": [
    "sys8 = [eqEz_l_re, eqEz_l_im, \\\n",
    "        eqHy_l_re, eqHy_l_im, \\\n",
    "        eqHy_r_re, eqHy_r_im, \\\n",
    "        eqEz_r_re, eqEz_r_im, \\\n",
    "        ]\n",
    "\n",
    "# 6 equations"
   ]
  },
  {
   "cell_type": "code",
   "execution_count": 154,
   "metadata": {},
   "outputs": [
    {
     "data": {
      "text/latex": [
       "$\\displaystyle -\\frac{i \\, {\\left(i \\, \\mathit{B1}_{\\mathit{zl}} K_{\\mathit{left}_{\\mathit{conductor}}} e^{\\left(i \\, K_{\\mathit{left}_{\\mathit{conductor}}} a\\right)} + i \\, \\mathit{B1}_{\\mathit{xl}} k_{z} e^{\\left(i \\, K_{\\mathit{left}_{\\mathit{conductor}}} a\\right)}\\right)} c}{\\mu_{l} \\omega} = -\\frac{i \\, {\\left(i \\, \\mathit{A1}_{z} K_{\\mathit{vacuum}} e^{\\left(i \\, K_{\\mathit{vacuum}} a\\right)} - i \\, \\mathit{A2}_{z} K_{\\mathit{vacuum}} e^{\\left(-i \\, K_{\\mathit{vacuum}} a\\right)} + i \\, {\\left(\\mathit{A1}_{x} e^{\\left(i \\, K_{\\mathit{vacuum}} a\\right)} + \\mathit{A2}_{x} e^{\\left(-i \\, K_{\\mathit{vacuum}} a\\right)}\\right)} k_{z}\\right)} c}{\\omega}$"
      ],
      "text/plain": [
       "<IPython.core.display.Math object>"
      ]
     },
     "metadata": {},
     "output_type": "display_data"
    }
   ],
   "source": [
    "display(Math(latex(eqHy_l)))"
   ]
  },
  {
   "cell_type": "code",
   "execution_count": 155,
   "metadata": {},
   "outputs": [
    {
     "data": {
      "text/latex": [
       "$\\displaystyle -\\frac{i \\, {\\left(i \\, \\mathit{B1}_{\\mathit{xl}} k_{z} e^{\\left(i \\, \\sqrt{-k_{z}^{2} + \\frac{4 i \\, \\pi \\mu_{l} \\omega \\sigma_{l}}{c^{2}}} a\\right)} + i \\, \\sqrt{-k_{z}^{2} + \\frac{4 i \\, \\pi \\mu_{l} \\omega \\sigma_{l}}{c^{2}}} \\mathit{B1}_{\\mathit{zl}} e^{\\left(i \\, \\sqrt{-k_{z}^{2} + \\frac{4 i \\, \\pi \\mu_{l} \\omega \\sigma_{l}}{c^{2}}} a\\right)}\\right)} c}{\\mu_{l} \\omega} = -\\frac{i \\, {\\left(i \\, \\sqrt{-k_{z}^{2} + \\frac{\\omega^{2}}{c^{2}}} \\mathit{A1}_{z} e^{\\left(i \\, \\sqrt{-k_{z}^{2} + \\frac{\\omega^{2}}{c^{2}}} a\\right)} - i \\, \\sqrt{-k_{z}^{2} + \\frac{\\omega^{2}}{c^{2}}} \\mathit{A2}_{z} e^{\\left(-i \\, \\sqrt{-k_{z}^{2} + \\frac{\\omega^{2}}{c^{2}}} a\\right)} + i \\, {\\left(\\mathit{A1}_{x} e^{\\left(i \\, \\sqrt{-k_{z}^{2} + \\frac{\\omega^{2}}{c^{2}}} a\\right)} + \\mathit{A2}_{x} e^{\\left(-i \\, \\sqrt{-k_{z}^{2} + \\frac{\\omega^{2}}{c^{2}}} a\\right)}\\right)} k_{z}\\right)} c}{\\omega}$"
      ],
      "text/plain": [
       "<IPython.core.display.Math object>"
      ]
     },
     "metadata": {},
     "output_type": "display_data"
    }
   ],
   "source": [
    "display(Math(latex(eqHy_l_subs)))"
   ]
  },
  {
   "cell_type": "code",
   "execution_count": 156,
   "metadata": {},
   "outputs": [
    {
     "data": {
      "text/latex": [
       "$\\displaystyle \\frac{4 i \\, \\pi \\sqrt{-k_{z}^{2} + \\frac{4 i \\, \\pi \\mu_{l} \\omega \\sigma_{l}}{c^{2}}} \\mathit{B1}_{\\mathit{zl}} \\omega \\sigma_{l} e^{\\left(i \\, \\sqrt{-k_{z}^{2} + \\frac{4 i \\, \\pi \\mu_{l} \\omega \\sigma_{l}}{c^{2}}} a\\right)}}{{\\left(k_{z}^{2} - \\frac{4 i \\, \\pi \\mu_{l} \\omega \\sigma_{l}}{c^{2}}\\right)} c^{2}} = -\\frac{i \\, {\\left(-i \\, \\sqrt{-k_{z}^{2} + \\frac{\\omega^{2}}{c^{2}}} \\mathit{A1}_{z} e^{\\left(i \\, \\sqrt{-k_{z}^{2} + \\frac{\\omega^{2}}{c^{2}}} a\\right)} + i \\, \\sqrt{-k_{z}^{2} + \\frac{\\omega^{2}}{c^{2}}} \\mathit{A2}_{z} e^{\\left(-i \\, \\sqrt{-k_{z}^{2} + \\frac{\\omega^{2}}{c^{2}}} a\\right)}\\right)} \\omega^{2}}{{\\left(k_{z}^{2} - \\frac{\\omega^{2}}{c^{2}}\\right)} c^{2}}$"
      ],
      "text/plain": [
       "<IPython.core.display.Math object>"
      ]
     },
     "metadata": {},
     "output_type": "display_data"
    }
   ],
   "source": [
    "display(Math(latex(eq_Hy_l.subs(kappa_vacuum_sol).subs(kappa_l_sol))))"
   ]
  },
  {
   "cell_type": "code",
   "execution_count": 157,
   "metadata": {},
   "outputs": [
    {
     "data": {
      "text/latex": [
       "$\\displaystyle \\frac{4 i \\, \\pi \\sqrt{-k_{z}^{2} + \\frac{4 i \\, \\pi \\mu_{r} \\omega \\sigma_{r}}{c^{2}}} \\mathit{B1}_{\\mathit{zr}} \\omega \\sigma_{r} e^{\\left(i \\, \\sqrt{-k_{z}^{2} + \\frac{4 i \\, \\pi \\mu_{r} \\omega \\sigma_{r}}{c^{2}}} a\\right)}}{{\\left(k_{z}^{2} - \\frac{4 i \\, \\pi \\mu_{r} \\omega \\sigma_{r}}{c^{2}}\\right)} c^{2}} = -\\frac{i \\, {\\left(i \\, \\sqrt{-k_{z}^{2} + \\frac{\\omega^{2}}{c^{2}}} \\mathit{A2}_{z} e^{\\left(i \\, \\sqrt{-k_{z}^{2} + \\frac{\\omega^{2}}{c^{2}}} a\\right)} - i \\, \\sqrt{-k_{z}^{2} + \\frac{\\omega^{2}}{c^{2}}} \\mathit{A1}_{z} e^{\\left(-i \\, \\sqrt{-k_{z}^{2} + \\frac{\\omega^{2}}{c^{2}}} a\\right)}\\right)} \\omega^{2}}{{\\left(k_{z}^{2} - \\frac{\\omega^{2}}{c^{2}}\\right)} c^{2}}$"
      ],
      "text/plain": [
       "<IPython.core.display.Math object>"
      ]
     },
     "metadata": {},
     "output_type": "display_data"
    }
   ],
   "source": [
    "display(Math(latex(eq_Hy_r.subs(kappa_vacuum_sol).subs(kappa_r_sol))))"
   ]
  },
  {
   "cell_type": "code",
   "execution_count": 158,
   "metadata": {},
   "outputs": [
    {
     "data": {
      "text/latex": [
       "$\\displaystyle \\frac{\\sqrt{-k_{z}^{2} + \\kappa_{l}^{2}} {\\left(\\mathit{A1}_{z} e^{\\left(-i \\, K_{\\mathit{left}_{\\mathit{conductor}}} a + i \\, K_{\\mathit{vacuum}} a\\right)} + \\mathit{A2}_{z} e^{\\left(-i \\, K_{\\mathit{left}_{\\mathit{conductor}}} a - i \\, K_{\\mathit{vacuum}} a\\right)}\\right)} \\kappa_{l}^{2} e^{\\left(i \\, \\sqrt{-k_{z}^{2} + \\kappa_{l}^{2}} a\\right)}}{{\\left(k_{z}^{2} - \\kappa_{l}^{2}\\right)} \\mu_{l}} = -\\frac{i \\, {\\left(-i \\, \\sqrt{-k_{z}^{2} + \\kappa_{\\mathit{vacuum}}^{2}} \\mathit{A1}_{z} e^{\\left(i \\, \\sqrt{-k_{z}^{2} + \\kappa_{\\mathit{vacuum}}^{2}} a\\right)} + i \\, \\sqrt{-k_{z}^{2} + \\kappa_{\\mathit{vacuum}}^{2}} \\mathit{A2}_{z} e^{\\left(-i \\, \\sqrt{-k_{z}^{2} + \\kappa_{\\mathit{vacuum}}^{2}} a\\right)}\\right)} \\kappa_{\\mathit{vacuum}}^{2}}{k_{z}^{2} - \\kappa_{\\mathit{vacuum}}^{2}}$"
      ],
      "text/plain": [
       "<IPython.core.display.Math object>"
      ]
     },
     "metadata": {},
     "output_type": "display_data"
    }
   ],
   "source": [
    "display(Math(latex(eq_Hy_ls)))"
   ]
  },
  {
   "cell_type": "code",
   "execution_count": 159,
   "metadata": {},
   "outputs": [
    {
     "data": {
      "text/latex": [
       "$\\displaystyle \\frac{\\sqrt{-k_{z}^{2} + \\kappa_{r}^{2}} \\mathit{B1}_{\\mathit{zr}} \\kappa_{r}^{2} e^{\\left(i \\, \\sqrt{-k_{z}^{2} + \\kappa_{r}^{2}} a\\right)}}{{\\left(k_{z}^{2} - \\kappa_{r}^{2}\\right)} \\mu_{r}} = -\\frac{i \\, {\\left(i \\, \\sqrt{-k_{z}^{2} + \\kappa_{\\mathit{vacuum}}^{2}} \\mathit{A2}_{z} e^{\\left(i \\, \\sqrt{-k_{z}^{2} + \\kappa_{\\mathit{vacuum}}^{2}} a\\right)} - i \\, \\sqrt{-k_{z}^{2} + \\kappa_{\\mathit{vacuum}}^{2}} \\mathit{A1}_{z} e^{\\left(-i \\, \\sqrt{-k_{z}^{2} + \\kappa_{\\mathit{vacuum}}^{2}} a\\right)}\\right)} \\kappa_{\\mathit{vacuum}}^{2}}{k_{z}^{2} - \\kappa_{\\mathit{vacuum}}^{2}}$"
      ],
      "text/plain": [
       "<IPython.core.display.Math object>"
      ]
     },
     "metadata": {},
     "output_type": "display_data"
    }
   ],
   "source": [
    "display(Math(latex(eq_Hy_rs)))"
   ]
  },
  {
   "cell_type": "code",
   "execution_count": 160,
   "metadata": {},
   "outputs": [],
   "source": [
    "sys4_subs0 = [eqEz_l_subs.subs(K_left_conductor_subs_2), \\\n",
    "             eqHy_l_subs, \\\n",
    "             eqHy_r_subs, \\\n",
    "             eqEz_r_subs, \\\n",
    "            ]\n",
    "\n",
    "# 4 equations"
   ]
  },
  {
   "cell_type": "code",
   "execution_count": 161,
   "metadata": {},
   "outputs": [],
   "source": [
    "sys4_subs1 = [eqEz_l_subs.subs(K_left_conductor_subs_2), \\\n",
    "             eqHy_l.subs(kappa_vacuum_sol).subs(kappa_l_sol), \\\n",
    "             eqHy_r.subs(kappa_vacuum_sol).subs(kappa_r_sol), \\\n",
    "             eqEz_r_subs, \\\n",
    "            ]\n",
    "\n",
    "# 4 equations"
   ]
  },
  {
   "cell_type": "code",
   "execution_count": 162,
   "metadata": {},
   "outputs": [],
   "source": [
    "sys4_subs = [eqEz_l_subs.subs(K_left_conductor_subs_2), \\\n",
    "             eq_Hy_l.subs(K_vacuum_subs_2).subs(K_left_conductor_subs_2).subs(kappa_vacuum_sol).subs(kappa_l_sol), \\\n",
    "             eq_Hy_r.subs(K_right_conductor_subs_2).subs(kappa_vacuum_sol).subs(kappa_r_sol), \\\n",
    "             eqEz_r_subs.subs(K_right_conductor_subs_2), \\\n",
    "            ]\n",
    "\n",
    "# 4 equations"
   ]
  },
  {
   "cell_type": "code",
   "execution_count": 163,
   "metadata": {},
   "outputs": [],
   "source": [
    "sys4_subs2 = [eqEz_l_subs.subs(K_left_conductor_subs_2), \\\n",
    "             eq_Hy_ls.subs(K_vacuum_subs_2).subs(K_left_conductor_subs_2).subs(kappa_vacuum_sol).subs(kappa_l_sol), \\\n",
    "             eq_Hy_rs.subs(K_right_conductor_subs_2).subs(kappa_vacuum_sol).subs(kappa_r_sol), \\\n",
    "             eqEz_r_subs, \\\n",
    "            ]\n",
    "\n",
    "# 4 equations"
   ]
  },
  {
   "cell_type": "code",
   "execution_count": 164,
   "metadata": {},
   "outputs": [],
   "source": [
    "sys4 = [eqEz_l, \\\n",
    "        eqHy_l, \\\n",
    "        eqHy_r, \\\n",
    "        eqEz_r, \\\n",
    "       ]\n",
    "\n",
    "# 4 complex equations"
   ]
  },
  {
   "cell_type": "code",
   "execution_count": 165,
   "metadata": {},
   "outputs": [],
   "source": [
    "vars8 = [B1_zl_re, B1_zl_im, \\\n",
    "         A1_z_re, A1_z_im, \\\n",
    "         A2_z_re, A2_z_im, \\\n",
    "         B1_zr_re, B1_zr_im,\n",
    "]\n",
    "# 6 variables"
   ]
  },
  {
   "cell_type": "code",
   "execution_count": 166,
   "metadata": {},
   "outputs": [],
   "source": [
    "vars4 = [B1_zl,\\\n",
    "         A1_z, \\\n",
    "         A2_z, \\\n",
    "         B1_zr, \\\n",
    "]\n",
    "# 4 complex variables"
   ]
  },
  {
   "cell_type": "code",
   "execution_count": 167,
   "metadata": {},
   "outputs": [],
   "source": [
    "M8_subs = GenerateMatrix(sys8_subs, vars8)"
   ]
  },
  {
   "cell_type": "code",
   "execution_count": 168,
   "metadata": {},
   "outputs": [],
   "source": [
    "M8 = GenerateMatrix(sys8, vars8)"
   ]
  },
  {
   "cell_type": "code",
   "execution_count": 169,
   "metadata": {},
   "outputs": [],
   "source": [
    "M4_subs = GenerateMatrix(sys4_subs, vars4)"
   ]
  },
  {
   "cell_type": "code",
   "execution_count": 170,
   "metadata": {},
   "outputs": [],
   "source": [
    "M4_subs0 = GenerateMatrix(sys4_subs0, vars4)"
   ]
  },
  {
   "cell_type": "code",
   "execution_count": 171,
   "metadata": {},
   "outputs": [],
   "source": [
    "M4_subs1 = GenerateMatrix(sys4_subs1, vars4)"
   ]
  },
  {
   "cell_type": "code",
   "execution_count": 172,
   "metadata": {},
   "outputs": [],
   "source": [
    "M4_subs2 = GenerateMatrix(sys4_subs2, vars4)"
   ]
  },
  {
   "cell_type": "code",
   "execution_count": 173,
   "metadata": {},
   "outputs": [],
   "source": [
    "M4 = GenerateMatrix(sys4, vars4)"
   ]
  },
  {
   "cell_type": "code",
   "execution_count": 174,
   "metadata": {},
   "outputs": [
    {
     "data": {
      "text/latex": [
       "$\\displaystyle \\left(\\begin{array}{rrrr}\n",
       "e^{\\left(i \\, K_{\\mathit{left}_{\\mathit{conductor}}} a\\right)} & -e^{\\left(i \\, K_{\\mathit{vacuum}} a\\right)} & -e^{\\left(-i \\, K_{\\mathit{vacuum}} a\\right)} & 0 \\\\\n",
       "\\frac{K_{\\mathit{left}_{\\mathit{conductor}}} c e^{\\left(i \\, K_{\\mathit{left}_{\\mathit{conductor}}} a\\right)}}{\\mu_{l} \\omega} & -\\frac{K_{\\mathit{vacuum}} c e^{\\left(i \\, K_{\\mathit{vacuum}} a\\right)}}{\\omega} & \\frac{K_{\\mathit{vacuum}} c e^{\\left(-i \\, K_{\\mathit{vacuum}} a\\right)}}{\\omega} & 0 \\\\\n",
       "0 & -\\frac{K_{\\mathit{vacuum}} c e^{\\left(-i \\, K_{\\mathit{vacuum}} a\\right)}}{\\omega} & \\frac{K_{\\mathit{vacuum}} c e^{\\left(i \\, K_{\\mathit{vacuum}} a\\right)}}{\\omega} & -\\frac{K_{\\mathit{right}_{\\mathit{conductor}}} c e^{\\left(i \\, K_{\\mathit{right}_{\\mathit{conductor}}} a\\right)}}{\\mu_{r} \\omega} \\\\\n",
       "0 & -e^{\\left(-i \\, K_{\\mathit{vacuum}} a\\right)} & -e^{\\left(i \\, K_{\\mathit{vacuum}} a\\right)} & e^{\\left(i \\, K_{\\mathit{right}_{\\mathit{conductor}}} a\\right)}\n",
       "\\end{array}\\right)$"
      ],
      "text/plain": [
       "<IPython.core.display.Math object>"
      ]
     },
     "metadata": {},
     "output_type": "display_data"
    }
   ],
   "source": [
    "display(Math(latex(M4)))"
   ]
  },
  {
   "cell_type": "code",
   "execution_count": 175,
   "metadata": {},
   "outputs": [],
   "source": [
    "#M8"
   ]
  },
  {
   "cell_type": "code",
   "execution_count": 176,
   "metadata": {},
   "outputs": [
    {
     "data": {
      "text/plain": [
       "(a, c, kz, mu_l, mu_r, omega, sigma_l, sigma_r, sz)"
      ]
     },
     "execution_count": 176,
     "metadata": {},
     "output_type": "execute_result"
    }
   ],
   "source": [
    "M8_subs.variables()"
   ]
  },
  {
   "cell_type": "code",
   "execution_count": 177,
   "metadata": {},
   "outputs": [
    {
     "data": {
      "text/latex": [
       "$\\displaystyle \\left(\\begin{array}{rrrr}\n",
       "e^{\\left(i \\, \\sqrt{-k_{z}^{2} + \\frac{4 i \\, \\pi \\mu_{l} \\omega \\sigma_{l}}{c^{2}}} a\\right)} & -e^{\\left(i \\, \\sqrt{-k_{z}^{2} + \\frac{\\omega^{2}}{c^{2}}} a\\right)} & -e^{\\left(-i \\, \\sqrt{-k_{z}^{2} + \\frac{\\omega^{2}}{c^{2}}} a\\right)} & 0 \\\\\n",
       "\\frac{\\sqrt{-k_{z}^{2} + \\frac{4 i \\, \\pi \\mu_{l} \\omega \\sigma_{l}}{c^{2}}} c e^{\\left(i \\, \\sqrt{-k_{z}^{2} + \\frac{4 i \\, \\pi \\mu_{l} \\omega \\sigma_{l}}{c^{2}}} a\\right)}}{\\mu_{l} \\omega} & -\\frac{\\sqrt{-k_{z}^{2} + \\frac{\\omega^{2}}{c^{2}}} c e^{\\left(i \\, \\sqrt{-k_{z}^{2} + \\frac{\\omega^{2}}{c^{2}}} a\\right)}}{\\omega} & \\frac{\\sqrt{-k_{z}^{2} + \\frac{\\omega^{2}}{c^{2}}} c e^{\\left(-i \\, \\sqrt{-k_{z}^{2} + \\frac{\\omega^{2}}{c^{2}}} a\\right)}}{\\omega} & 0 \\\\\n",
       "0 & -\\frac{\\sqrt{-k_{z}^{2} + \\frac{\\omega^{2}}{c^{2}}} c e^{\\left(-i \\, \\sqrt{-k_{z}^{2} + \\frac{\\omega^{2}}{c^{2}}} a\\right)}}{\\omega} & \\frac{\\sqrt{-k_{z}^{2} + \\frac{\\omega^{2}}{c^{2}}} c e^{\\left(i \\, \\sqrt{-k_{z}^{2} + \\frac{\\omega^{2}}{c^{2}}} a\\right)}}{\\omega} & -\\frac{\\sqrt{-k_{z}^{2} + \\frac{4 i \\, \\pi \\mu_{r} \\omega \\sigma_{r}}{c^{2}}} c e^{\\left(i \\, \\sqrt{-k_{z}^{2} + \\frac{4 i \\, \\pi \\mu_{r} \\omega \\sigma_{r}}{c^{2}}} a\\right)}}{\\mu_{r} \\omega} \\\\\n",
       "0 & -e^{\\left(-i \\, \\sqrt{-k_{z}^{2} + \\frac{\\omega^{2}}{c^{2}}} a\\right)} & -e^{\\left(i \\, \\sqrt{-k_{z}^{2} + \\frac{\\omega^{2}}{c^{2}}} a\\right)} & e^{\\left(i \\, K_{\\mathit{right}_{\\mathit{conductor}}} a\\right)}\n",
       "\\end{array}\\right)$"
      ],
      "text/plain": [
       "<IPython.core.display.Math object>"
      ]
     },
     "metadata": {},
     "output_type": "display_data"
    }
   ],
   "source": [
    "display(Math(latex(M4_subs0)))"
   ]
  },
  {
   "cell_type": "code",
   "execution_count": 178,
   "metadata": {},
   "outputs": [
    {
     "data": {
      "text/latex": [
       "$\\displaystyle \\left(\\begin{array}{rrrr}\n",
       "e^{\\left(i \\, \\sqrt{-k_{z}^{2} + \\frac{4 i \\, \\pi \\mu_{l} \\omega \\sigma_{l}}{c^{2}}} a\\right)} & -e^{\\left(i \\, \\sqrt{-k_{z}^{2} + \\frac{\\omega^{2}}{c^{2}}} a\\right)} & -e^{\\left(-i \\, \\sqrt{-k_{z}^{2} + \\frac{\\omega^{2}}{c^{2}}} a\\right)} & 0 \\\\\n",
       "\\frac{K_{\\mathit{left}_{\\mathit{conductor}}} c e^{\\left(i \\, K_{\\mathit{left}_{\\mathit{conductor}}} a\\right)}}{\\mu_{l} \\omega} & -\\frac{K_{\\mathit{vacuum}} c e^{\\left(i \\, K_{\\mathit{vacuum}} a\\right)}}{\\omega} & \\frac{K_{\\mathit{vacuum}} c e^{\\left(-i \\, K_{\\mathit{vacuum}} a\\right)}}{\\omega} & 0 \\\\\n",
       "0 & -\\frac{K_{\\mathit{vacuum}} c e^{\\left(-i \\, K_{\\mathit{vacuum}} a\\right)}}{\\omega} & \\frac{K_{\\mathit{vacuum}} c e^{\\left(i \\, K_{\\mathit{vacuum}} a\\right)}}{\\omega} & -\\frac{K_{\\mathit{right}_{\\mathit{conductor}}} c e^{\\left(i \\, K_{\\mathit{right}_{\\mathit{conductor}}} a\\right)}}{\\mu_{r} \\omega} \\\\\n",
       "0 & -e^{\\left(-i \\, \\sqrt{-k_{z}^{2} + \\frac{\\omega^{2}}{c^{2}}} a\\right)} & -e^{\\left(i \\, \\sqrt{-k_{z}^{2} + \\frac{\\omega^{2}}{c^{2}}} a\\right)} & e^{\\left(i \\, K_{\\mathit{right}_{\\mathit{conductor}}} a\\right)}\n",
       "\\end{array}\\right)$"
      ],
      "text/plain": [
       "<IPython.core.display.Math object>"
      ]
     },
     "metadata": {},
     "output_type": "display_data"
    }
   ],
   "source": [
    "display(Math(latex(M4_subs1)))"
   ]
  },
  {
   "cell_type": "code",
   "execution_count": 179,
   "metadata": {},
   "outputs": [
    {
     "data": {
      "text/latex": [
       "$\\displaystyle \\left(\\begin{array}{rrrr}\n",
       "e^{\\left(i \\, \\sqrt{-k_{z}^{2} + \\frac{4 i \\, \\pi \\mu_{l} \\omega \\sigma_{l}}{c^{2}}} a\\right)} & -e^{\\left(i \\, \\sqrt{-k_{z}^{2} + \\frac{\\omega^{2}}{c^{2}}} a\\right)} & -e^{\\left(-i \\, \\sqrt{-k_{z}^{2} + \\frac{\\omega^{2}}{c^{2}}} a\\right)} & 0 \\\\\n",
       "0 & \\frac{4 i \\, \\pi \\sqrt{-k_{z}^{2} + \\frac{4 i \\, \\pi \\mu_{l} \\omega \\sigma_{l}}{c^{2}}} \\omega \\sigma_{l} e^{\\left(i \\, \\sqrt{-k_{z}^{2} + \\frac{\\omega^{2}}{c^{2}}} a\\right)}}{{\\left(k_{z}^{2} - \\frac{4 i \\, \\pi \\mu_{l} \\omega \\sigma_{l}}{c^{2}}\\right)} c^{2}} + \\frac{\\sqrt{-k_{z}^{2} + \\frac{\\omega^{2}}{c^{2}}} \\omega^{2} e^{\\left(i \\, \\sqrt{-k_{z}^{2} + \\frac{\\omega^{2}}{c^{2}}} a\\right)}}{{\\left(k_{z}^{2} - \\frac{\\omega^{2}}{c^{2}}\\right)} c^{2}} & \\frac{4 i \\, \\pi \\sqrt{-k_{z}^{2} + \\frac{4 i \\, \\pi \\mu_{l} \\omega \\sigma_{l}}{c^{2}}} \\omega \\sigma_{l} e^{\\left(-i \\, \\sqrt{-k_{z}^{2} + \\frac{\\omega^{2}}{c^{2}}} a\\right)}}{{\\left(k_{z}^{2} - \\frac{4 i \\, \\pi \\mu_{l} \\omega \\sigma_{l}}{c^{2}}\\right)} c^{2}} - \\frac{\\sqrt{-k_{z}^{2} + \\frac{\\omega^{2}}{c^{2}}} \\omega^{2} e^{\\left(-i \\, \\sqrt{-k_{z}^{2} + \\frac{\\omega^{2}}{c^{2}}} a\\right)}}{{\\left(k_{z}^{2} - \\frac{\\omega^{2}}{c^{2}}\\right)} c^{2}} & 0 \\\\\n",
       "0 & \\frac{\\sqrt{-k_{z}^{2} + \\frac{\\omega^{2}}{c^{2}}} \\omega^{2} e^{\\left(-i \\, \\sqrt{-k_{z}^{2} + \\frac{\\omega^{2}}{c^{2}}} a\\right)}}{{\\left(k_{z}^{2} - \\frac{\\omega^{2}}{c^{2}}\\right)} c^{2}} & -\\frac{\\sqrt{-k_{z}^{2} + \\frac{\\omega^{2}}{c^{2}}} \\omega^{2} e^{\\left(i \\, \\sqrt{-k_{z}^{2} + \\frac{\\omega^{2}}{c^{2}}} a\\right)}}{{\\left(k_{z}^{2} - \\frac{\\omega^{2}}{c^{2}}\\right)} c^{2}} & \\frac{4 i \\, \\pi \\sqrt{-k_{z}^{2} + \\frac{4 i \\, \\pi \\mu_{r} \\omega \\sigma_{r}}{c^{2}}} \\omega \\sigma_{r} e^{\\left(i \\, \\sqrt{-k_{z}^{2} + \\frac{4 i \\, \\pi \\mu_{r} \\omega \\sigma_{r}}{c^{2}}} a\\right)}}{{\\left(k_{z}^{2} - \\frac{4 i \\, \\pi \\mu_{r} \\omega \\sigma_{r}}{c^{2}}\\right)} c^{2}} \\\\\n",
       "0 & -e^{\\left(-i \\, \\sqrt{-k_{z}^{2} + \\frac{\\omega^{2}}{c^{2}}} a\\right)} & -e^{\\left(i \\, \\sqrt{-k_{z}^{2} + \\frac{\\omega^{2}}{c^{2}}} a\\right)} & e^{\\left(i \\, K_{\\mathit{right}_{\\mathit{conductor}}} a\\right)}\n",
       "\\end{array}\\right)$"
      ],
      "text/plain": [
       "<IPython.core.display.Math object>"
      ]
     },
     "metadata": {},
     "output_type": "display_data"
    }
   ],
   "source": [
    "display(Math(latex(M4_subs2)))"
   ]
  },
  {
   "cell_type": "code",
   "execution_count": 180,
   "metadata": {},
   "outputs": [
    {
     "data": {
      "text/latex": [
       "$\\displaystyle \\left(\\begin{array}{rrrr}\n",
       "e^{\\left(i \\, \\sqrt{-k_{z}^{2} + \\frac{4 i \\, \\pi \\mu_{l} \\omega \\sigma_{l}}{c^{2}}} a\\right)} & -e^{\\left(i \\, \\sqrt{-k_{z}^{2} + \\frac{\\omega^{2}}{c^{2}}} a\\right)} & -e^{\\left(-i \\, \\sqrt{-k_{z}^{2} + \\frac{\\omega^{2}}{c^{2}}} a\\right)} & 0 \\\\\n",
       "\\frac{4 i \\, \\pi \\sqrt{-k_{z}^{2} + \\frac{4 i \\, \\pi \\mu_{l} \\omega \\sigma_{l}}{c^{2}}} \\omega \\sigma_{l} e^{\\left(i \\, \\sqrt{-k_{z}^{2} + \\frac{4 i \\, \\pi \\mu_{l} \\omega \\sigma_{l}}{c^{2}}} a\\right)}}{{\\left(k_{z}^{2} - \\frac{4 i \\, \\pi \\mu_{l} \\omega \\sigma_{l}}{c^{2}}\\right)} c^{2}} & \\frac{\\sqrt{-k_{z}^{2} + \\frac{\\omega^{2}}{c^{2}}} \\omega^{2} e^{\\left(i \\, \\sqrt{-k_{z}^{2} + \\frac{\\omega^{2}}{c^{2}}} a\\right)}}{{\\left(k_{z}^{2} - \\frac{\\omega^{2}}{c^{2}}\\right)} c^{2}} & -\\frac{\\sqrt{-k_{z}^{2} + \\frac{\\omega^{2}}{c^{2}}} \\omega^{2} e^{\\left(-i \\, \\sqrt{-k_{z}^{2} + \\frac{\\omega^{2}}{c^{2}}} a\\right)}}{{\\left(k_{z}^{2} - \\frac{\\omega^{2}}{c^{2}}\\right)} c^{2}} & 0 \\\\\n",
       "0 & \\frac{\\sqrt{-k_{z}^{2} + \\frac{\\omega^{2}}{c^{2}}} \\omega^{2} e^{\\left(-i \\, \\sqrt{-k_{z}^{2} + \\frac{\\omega^{2}}{c^{2}}} a\\right)}}{{\\left(k_{z}^{2} - \\frac{\\omega^{2}}{c^{2}}\\right)} c^{2}} & -\\frac{\\sqrt{-k_{z}^{2} + \\frac{\\omega^{2}}{c^{2}}} \\omega^{2} e^{\\left(i \\, \\sqrt{-k_{z}^{2} + \\frac{\\omega^{2}}{c^{2}}} a\\right)}}{{\\left(k_{z}^{2} - \\frac{\\omega^{2}}{c^{2}}\\right)} c^{2}} & \\frac{4 i \\, \\pi \\sqrt{-k_{z}^{2} + \\frac{4 i \\, \\pi \\mu_{r} \\omega \\sigma_{r}}{c^{2}}} \\omega \\sigma_{r} e^{\\left(i \\, \\sqrt{-k_{z}^{2} + \\frac{4 i \\, \\pi \\mu_{r} \\omega \\sigma_{r}}{c^{2}}} a\\right)}}{{\\left(k_{z}^{2} - \\frac{4 i \\, \\pi \\mu_{r} \\omega \\sigma_{r}}{c^{2}}\\right)} c^{2}} \\\\\n",
       "0 & -e^{\\left(-i \\, \\sqrt{-k_{z}^{2} + \\frac{\\omega^{2}}{c^{2}}} a\\right)} & -e^{\\left(i \\, \\sqrt{-k_{z}^{2} + \\frac{\\omega^{2}}{c^{2}}} a\\right)} & e^{\\left(i \\, \\sqrt{-k_{z}^{2} + \\frac{4 i \\, \\pi \\mu_{r} \\omega \\sigma_{r}}{c^{2}}} a\\right)}\n",
       "\\end{array}\\right)$"
      ],
      "text/plain": [
       "<IPython.core.display.Math object>"
      ]
     },
     "metadata": {},
     "output_type": "display_data"
    }
   ],
   "source": [
    "display(Math(latex(M4_subs)))"
   ]
  },
  {
   "cell_type": "code",
   "execution_count": 181,
   "metadata": {},
   "outputs": [],
   "source": [
    "M4_det = M4.det()"
   ]
  },
  {
   "cell_type": "code",
   "execution_count": 182,
   "metadata": {},
   "outputs": [],
   "source": [
    "M4_subs_det = M4_subs.det()"
   ]
  },
  {
   "cell_type": "raw",
   "metadata": {},
   "source": [
    "M8_subs_det = M8_subs.det()"
   ]
  },
  {
   "cell_type": "code",
   "execution_count": 183,
   "metadata": {},
   "outputs": [
    {
     "data": {
      "text/latex": [
       "$\\displaystyle -\\frac{K_{\\mathit{vacuum}}^{2} c^{2} e^{\\left(i \\, K_{\\mathit{left}_{\\mathit{conductor}}} a + i \\, K_{\\mathit{right}_{\\mathit{conductor}}} a + 2 i \\, K_{\\mathit{vacuum}} a\\right)}}{\\omega^{2}} + \\frac{K_{\\mathit{vacuum}}^{2} c^{2} e^{\\left(i \\, K_{\\mathit{left}_{\\mathit{conductor}}} a + i \\, K_{\\mathit{right}_{\\mathit{conductor}}} a - 2 i \\, K_{\\mathit{vacuum}} a\\right)}}{\\omega^{2}} + \\frac{K_{\\mathit{left}_{\\mathit{conductor}}} K_{\\mathit{vacuum}} c^{2} e^{\\left(i \\, K_{\\mathit{left}_{\\mathit{conductor}}} a + i \\, K_{\\mathit{right}_{\\mathit{conductor}}} a + 2 i \\, K_{\\mathit{vacuum}} a\\right)}}{\\mu_{l} \\omega^{2}} + \\frac{K_{\\mathit{right}_{\\mathit{conductor}}} K_{\\mathit{vacuum}} c^{2} e^{\\left(i \\, K_{\\mathit{left}_{\\mathit{conductor}}} a + i \\, K_{\\mathit{right}_{\\mathit{conductor}}} a + 2 i \\, K_{\\mathit{vacuum}} a\\right)}}{\\mu_{r} \\omega^{2}} + \\frac{K_{\\mathit{left}_{\\mathit{conductor}}} K_{\\mathit{vacuum}} c^{2} e^{\\left(i \\, K_{\\mathit{left}_{\\mathit{conductor}}} a + i \\, K_{\\mathit{right}_{\\mathit{conductor}}} a - 2 i \\, K_{\\mathit{vacuum}} a\\right)}}{\\mu_{l} \\omega^{2}} + \\frac{K_{\\mathit{right}_{\\mathit{conductor}}} K_{\\mathit{vacuum}} c^{2} e^{\\left(i \\, K_{\\mathit{left}_{\\mathit{conductor}}} a + i \\, K_{\\mathit{right}_{\\mathit{conductor}}} a - 2 i \\, K_{\\mathit{vacuum}} a\\right)}}{\\mu_{r} \\omega^{2}} - \\frac{K_{\\mathit{left}_{\\mathit{conductor}}} K_{\\mathit{right}_{\\mathit{conductor}}} c^{2} e^{\\left(i \\, K_{\\mathit{left}_{\\mathit{conductor}}} a + i \\, K_{\\mathit{right}_{\\mathit{conductor}}} a + 2 i \\, K_{\\mathit{vacuum}} a\\right)}}{\\mu_{l} \\mu_{r} \\omega^{2}} + \\frac{K_{\\mathit{left}_{\\mathit{conductor}}} K_{\\mathit{right}_{\\mathit{conductor}}} c^{2} e^{\\left(i \\, K_{\\mathit{left}_{\\mathit{conductor}}} a + i \\, K_{\\mathit{right}_{\\mathit{conductor}}} a - 2 i \\, K_{\\mathit{vacuum}} a\\right)}}{\\mu_{l} \\mu_{r} \\omega^{2}}$"
      ],
      "text/plain": [
       "<IPython.core.display.Math object>"
      ]
     },
     "metadata": {},
     "output_type": "display_data"
    }
   ],
   "source": [
    "display(Math(latex(M4_det)))"
   ]
  },
  {
   "cell_type": "code",
   "execution_count": 184,
   "metadata": {},
   "outputs": [
    {
     "data": {
      "text/latex": [
       "$\\displaystyle -\\frac{16 \\, \\pi^{2} \\sqrt{-k_{z}^{2} + \\frac{4 i \\, \\pi \\mu_{l} \\omega \\sigma_{l}}{c^{2}}} \\sqrt{-k_{z}^{2} + \\frac{4 i \\, \\pi \\mu_{r} \\omega \\sigma_{r}}{c^{2}}} \\omega^{2} \\sigma_{l} \\sigma_{r} e^{\\left(i \\, \\sqrt{-k_{z}^{2} + \\frac{4 i \\, \\pi \\mu_{l} \\omega \\sigma_{l}}{c^{2}}} a + i \\, \\sqrt{-k_{z}^{2} + \\frac{4 i \\, \\pi \\mu_{r} \\omega \\sigma_{r}}{c^{2}}} a + 2 i \\, \\sqrt{-k_{z}^{2} + \\frac{\\omega^{2}}{c^{2}}} a\\right)}}{{\\left(k_{z}^{2} - \\frac{4 i \\, \\pi \\mu_{l} \\omega \\sigma_{l}}{c^{2}}\\right)} {\\left(k_{z}^{2} - \\frac{4 i \\, \\pi \\mu_{r} \\omega \\sigma_{r}}{c^{2}}\\right)} c^{4}} + \\frac{16 \\, \\pi^{2} \\sqrt{-k_{z}^{2} + \\frac{4 i \\, \\pi \\mu_{l} \\omega \\sigma_{l}}{c^{2}}} \\sqrt{-k_{z}^{2} + \\frac{4 i \\, \\pi \\mu_{r} \\omega \\sigma_{r}}{c^{2}}} \\omega^{2} \\sigma_{l} \\sigma_{r} e^{\\left(i \\, \\sqrt{-k_{z}^{2} + \\frac{4 i \\, \\pi \\mu_{l} \\omega \\sigma_{l}}{c^{2}}} a + i \\, \\sqrt{-k_{z}^{2} + \\frac{4 i \\, \\pi \\mu_{r} \\omega \\sigma_{r}}{c^{2}}} a - 2 i \\, \\sqrt{-k_{z}^{2} + \\frac{\\omega^{2}}{c^{2}}} a\\right)}}{{\\left(k_{z}^{2} - \\frac{4 i \\, \\pi \\mu_{l} \\omega \\sigma_{l}}{c^{2}}\\right)} {\\left(k_{z}^{2} - \\frac{4 i \\, \\pi \\mu_{r} \\omega \\sigma_{r}}{c^{2}}\\right)} c^{4}} - \\frac{4 i \\, \\pi \\sqrt{-k_{z}^{2} + \\frac{4 i \\, \\pi \\mu_{l} \\omega \\sigma_{l}}{c^{2}}} \\sqrt{-k_{z}^{2} + \\frac{\\omega^{2}}{c^{2}}} \\omega^{3} \\sigma_{l} e^{\\left(i \\, \\sqrt{-k_{z}^{2} + \\frac{4 i \\, \\pi \\mu_{l} \\omega \\sigma_{l}}{c^{2}}} a + i \\, \\sqrt{-k_{z}^{2} + \\frac{4 i \\, \\pi \\mu_{r} \\omega \\sigma_{r}}{c^{2}}} a + 2 i \\, \\sqrt{-k_{z}^{2} + \\frac{\\omega^{2}}{c^{2}}} a\\right)}}{{\\left(k_{z}^{2} - \\frac{4 i \\, \\pi \\mu_{l} \\omega \\sigma_{l}}{c^{2}}\\right)} {\\left(k_{z}^{2} - \\frac{\\omega^{2}}{c^{2}}\\right)} c^{4}} + \\frac{4 i \\, \\pi \\sqrt{-k_{z}^{2} + \\frac{4 i \\, \\pi \\mu_{r} \\omega \\sigma_{r}}{c^{2}}} \\sqrt{-k_{z}^{2} + \\frac{\\omega^{2}}{c^{2}}} \\omega^{3} \\sigma_{r} e^{\\left(i \\, \\sqrt{-k_{z}^{2} + \\frac{4 i \\, \\pi \\mu_{l} \\omega \\sigma_{l}}{c^{2}}} a + i \\, \\sqrt{-k_{z}^{2} + \\frac{4 i \\, \\pi \\mu_{r} \\omega \\sigma_{r}}{c^{2}}} a + 2 i \\, \\sqrt{-k_{z}^{2} + \\frac{\\omega^{2}}{c^{2}}} a\\right)}}{{\\left(k_{z}^{2} - \\frac{4 i \\, \\pi \\mu_{r} \\omega \\sigma_{r}}{c^{2}}\\right)} {\\left(k_{z}^{2} - \\frac{\\omega^{2}}{c^{2}}\\right)} c^{4}} - \\frac{4 i \\, \\pi \\sqrt{-k_{z}^{2} + \\frac{4 i \\, \\pi \\mu_{l} \\omega \\sigma_{l}}{c^{2}}} \\sqrt{-k_{z}^{2} + \\frac{\\omega^{2}}{c^{2}}} \\omega^{3} \\sigma_{l} e^{\\left(i \\, \\sqrt{-k_{z}^{2} + \\frac{4 i \\, \\pi \\mu_{l} \\omega \\sigma_{l}}{c^{2}}} a + i \\, \\sqrt{-k_{z}^{2} + \\frac{4 i \\, \\pi \\mu_{r} \\omega \\sigma_{r}}{c^{2}}} a - 2 i \\, \\sqrt{-k_{z}^{2} + \\frac{\\omega^{2}}{c^{2}}} a\\right)}}{{\\left(k_{z}^{2} - \\frac{4 i \\, \\pi \\mu_{l} \\omega \\sigma_{l}}{c^{2}}\\right)} {\\left(k_{z}^{2} - \\frac{\\omega^{2}}{c^{2}}\\right)} c^{4}} + \\frac{4 i \\, \\pi \\sqrt{-k_{z}^{2} + \\frac{4 i \\, \\pi \\mu_{r} \\omega \\sigma_{r}}{c^{2}}} \\sqrt{-k_{z}^{2} + \\frac{\\omega^{2}}{c^{2}}} \\omega^{3} \\sigma_{r} e^{\\left(i \\, \\sqrt{-k_{z}^{2} + \\frac{4 i \\, \\pi \\mu_{l} \\omega \\sigma_{l}}{c^{2}}} a + i \\, \\sqrt{-k_{z}^{2} + \\frac{4 i \\, \\pi \\mu_{r} \\omega \\sigma_{r}}{c^{2}}} a - 2 i \\, \\sqrt{-k_{z}^{2} + \\frac{\\omega^{2}}{c^{2}}} a\\right)}}{{\\left(k_{z}^{2} - \\frac{4 i \\, \\pi \\mu_{r} \\omega \\sigma_{r}}{c^{2}}\\right)} {\\left(k_{z}^{2} - \\frac{\\omega^{2}}{c^{2}}\\right)} c^{4}} + \\frac{\\omega^{4} e^{\\left(i \\, \\sqrt{-k_{z}^{2} + \\frac{4 i \\, \\pi \\mu_{l} \\omega \\sigma_{l}}{c^{2}}} a + i \\, \\sqrt{-k_{z}^{2} + \\frac{4 i \\, \\pi \\mu_{r} \\omega \\sigma_{r}}{c^{2}}} a + 2 i \\, \\sqrt{-k_{z}^{2} + \\frac{\\omega^{2}}{c^{2}}} a\\right)}}{{\\left(k_{z}^{2} - \\frac{\\omega^{2}}{c^{2}}\\right)} c^{4}} - \\frac{\\omega^{4} e^{\\left(i \\, \\sqrt{-k_{z}^{2} + \\frac{4 i \\, \\pi \\mu_{l} \\omega \\sigma_{l}}{c^{2}}} a + i \\, \\sqrt{-k_{z}^{2} + \\frac{4 i \\, \\pi \\mu_{r} \\omega \\sigma_{r}}{c^{2}}} a - 2 i \\, \\sqrt{-k_{z}^{2} + \\frac{\\omega^{2}}{c^{2}}} a\\right)}}{{\\left(k_{z}^{2} - \\frac{\\omega^{2}}{c^{2}}\\right)} c^{4}}$"
      ],
      "text/plain": [
       "<IPython.core.display.Math object>"
      ]
     },
     "metadata": {},
     "output_type": "display_data"
    }
   ],
   "source": [
    "display(Math(latex(M4_subs_det)))"
   ]
  },
  {
   "cell_type": "code",
   "execution_count": 185,
   "metadata": {},
   "outputs": [
    {
     "data": {
      "text/plain": [
       "2500/79*pi"
      ]
     },
     "execution_count": 185,
     "metadata": {},
     "output_type": "execute_result"
    }
   ],
   "source": [
    "#kz_init_a0_d = kz_init_a0[1].subs(digit_values).rhs()\n",
    "kz_init_a0_d = (omega/c).subs(digit_values)\n",
    "kz_init_a0_d"
   ]
  },
  {
   "cell_type": "code",
   "execution_count": null,
   "metadata": {},
   "outputs": [],
   "source": []
  },
  {
   "cell_type": "code",
   "execution_count": 186,
   "metadata": {},
   "outputs": [],
   "source": [
    "def NewtonIt(f_div_df, x, xn, step):\n",
    "    print(\"xn\", xn)\n",
    "    #print(\"df\", df)\n",
    "    #print(\"(f/df)\", (f/df))\n",
    "    #delta = (f/df).subs(x == xn)\n",
    "    delta = f_div_df.subs(x == xn).n()\n",
    "    print(\"delta\", delta)\n",
    "    #print(\"step\", step)\n",
    "    step_delta = step*delta\n",
    "    #print(\"step_delta\", step_delta)\n",
    "\n",
    "    res = xn-step_delta\n",
    "    #print (\"_x-step_delta\", _x-step_delta)\n",
    "    #print (\"res\", res)\n",
    "    return res, delta\n",
    "\n",
    "def find_newton_root(f, f_div_df, x, xn):\n",
    "    #df = f.diff(x)\n",
    "    #print (\"f\", f)\n",
    "    #print (\"df\", df)\n",
    "    #print (\"f/df\", f/df)\n",
    "    step = 1.0\n",
    "\n",
    "    for i in range(20):\n",
    "        #xn=N(NewtonIt(xn, step), digits=32)\n",
    "        xn, delta = NewtonIt(f_div_df, x, xn, step)\n",
    "        #print (\"xn\", xn)\n",
    "        \n",
    "        f_n = f.subs(x == xn)\n",
    "        print (\"f_n\",f_n)\n",
    "        #step *= 0.999\n",
    "        if 0 == delta:\n",
    "            break\n",
    "\n",
    "    return xn"
   ]
  },
  {
   "cell_type": "code",
   "execution_count": null,
   "metadata": {},
   "outputs": [],
   "source": []
  },
  {
   "cell_type": "code",
   "execution_count": 187,
   "metadata": {},
   "outputs": [],
   "source": [
    "M4_subs_det_kz_sz = M4_subs_det.subs(k_z == kz + I * sz)"
   ]
  },
  {
   "cell_type": "code",
   "execution_count": null,
   "metadata": {},
   "outputs": [],
   "source": []
  },
  {
   "cell_type": "code",
   "execution_count": 188,
   "metadata": {},
   "outputs": [],
   "source": [
    "M4_subs_det_re = M4_subs_det_kz_sz.real()"
   ]
  },
  {
   "cell_type": "code",
   "execution_count": 189,
   "metadata": {},
   "outputs": [],
   "source": [
    "M4_subs_det_im = M4_subs_det_kz_sz.imag()"
   ]
  },
  {
   "cell_type": "code",
   "execution_count": null,
   "metadata": {},
   "outputs": [],
   "source": []
  },
  {
   "cell_type": "raw",
   "metadata": {},
   "source": [
    "display(Math(latex(M4_subs_det_kz_sz)))"
   ]
  },
  {
   "cell_type": "raw",
   "metadata": {},
   "source": [
    "display(Math(latex(M3_subs_det_kz_sz.full_simplify())))"
   ]
  },
  {
   "cell_type": "code",
   "execution_count": null,
   "metadata": {},
   "outputs": [],
   "source": []
  },
  {
   "cell_type": "code",
   "execution_count": 190,
   "metadata": {},
   "outputs": [],
   "source": [
    "M4_subs_det_re_diff_kz = M4_subs_det_re.diff(kz)\n",
    "M4_subs_det_im_diff_kz = M4_subs_det_im.diff(kz)\n",
    "M4_subs_det_re_diff_sz = M4_subs_det_re.diff(sz)\n",
    "M4_subs_det_im_diff_sz = M4_subs_det_im.diff(sz)"
   ]
  },
  {
   "cell_type": "raw",
   "metadata": {},
   "source": [
    "M4_subs_det_re_d2_kz = M4_subs_det_re_diff_kz.diff(kz)\n",
    "M4_subs_det_im_d2_kz = M4_subs_det_im_diff_kz.diff(kz)\n",
    "M4_subs_det_re_d2_sz = M4_subs_det_re_diff_sz.diff(sz)\n",
    "M4_subs_det_im_d2_sz = M4_subs_det_im_diff_sz.diff(sz)"
   ]
  },
  {
   "cell_type": "code",
   "execution_count": null,
   "metadata": {},
   "outputs": [],
   "source": []
  },
  {
   "cell_type": "code",
   "execution_count": 191,
   "metadata": {},
   "outputs": [],
   "source": [
    "M4_subs_det_re_div_diff_kz = (M4_subs_det_re / M4_subs_det_re_diff_kz)\n",
    "M4_subs_det_im_div_diff_kz = (M4_subs_det_im / M4_subs_det_im_diff_kz)\n",
    "M4_subs_det_re_div_diff_sz = (M4_subs_det_re / M4_subs_det_re_diff_sz)\n",
    "M4_subs_det_im_div_diff_sz = (M4_subs_det_im / M4_subs_det_im_diff_sz)"
   ]
  },
  {
   "cell_type": "code",
   "execution_count": null,
   "metadata": {},
   "outputs": [],
   "source": []
  },
  {
   "cell_type": "code",
   "execution_count": 192,
   "metadata": {},
   "outputs": [],
   "source": [
    "M4_subs_det_re_d = M4_subs_det_re.subs(digit_values)\n",
    "M4_subs_det_im_d = M4_subs_det_im.subs(digit_values)"
   ]
  },
  {
   "cell_type": "code",
   "execution_count": null,
   "metadata": {},
   "outputs": [],
   "source": []
  },
  {
   "cell_type": "code",
   "execution_count": 193,
   "metadata": {},
   "outputs": [
    {
     "data": {
      "text/latex": [
       "$\\displaystyle \\left(\\mathit{kz}, \\mathit{sz}\\right)$"
      ],
      "text/plain": [
       "<IPython.core.display.Math object>"
      ]
     },
     "metadata": {},
     "output_type": "display_data"
    }
   ],
   "source": [
    "display(Math(latex(M4_subs_det_re_d.variables())))"
   ]
  },
  {
   "cell_type": "raw",
   "metadata": {},
   "source": [
    "k_z_02 = 2*sqrt(I*pi*mu*omega*sigma/c)*omega*sqrt(-(4*I*pi*c*mu*omega*sigma - mu^2*omega^2)/(16*pi^2*c^2*mu^2*omega^2*sigma^2 + mu^2*omega^4))\n",
    "kz_init_im = k_z_02.subs(digit_values).imag().n()\n",
    "kz_init_im"
   ]
  },
  {
   "cell_type": "code",
   "execution_count": 194,
   "metadata": {},
   "outputs": [],
   "source": [
    "make_investigation_plots = True"
   ]
  },
  {
   "cell_type": "code",
   "execution_count": 204,
   "metadata": {},
   "outputs": [
    {
     "name": "stdout",
     "output_type": "stream",
     "text": [
      "0 21\n",
      "1 21\n",
      "2 21\n",
      "3 21\n",
      "4 21\n",
      "5 21\n",
      "6 21\n",
      "7 21\n",
      "8 21\n",
      "9 21\n",
      "10 21\n",
      "power::eval(): division by zero\n",
      "11 21\n",
      "12 21\n",
      "13 21\n",
      "14 21\n",
      "15 21\n",
      "16 21\n",
      "17 21\n",
      "18 21\n",
      "19 21\n",
      "20 21\n"
     ]
    }
   ],
   "source": [
    "if make_investigation_plots:\n",
    "    import numpy as np\n",
    "    import matplotlib.pyplot as plt\n",
    "    %matplotlib inline\n",
    "\n",
    "    kz_linspace = np.linspace(-10, 10, 21)\n",
    "    sz_linspace = np.linspace(-5, 5, 21)\n",
    "\n",
    "    kz_list = kz_linspace.tolist()\n",
    "    sz_list = sz_linspace.tolist()\n",
    "\n",
    "    kz_grid, sz_grid = np.meshgrid(kz_linspace, sz_linspace)\n",
    "\n",
    "    u = kz_grid * np.nan\n",
    "    v = sz_grid * np.nan\n",
    "\n",
    "    for ikz in np.arange(0, len(kz_linspace), 1):\n",
    "        print(ikz, len(kz_linspace))\n",
    "        for isz in np.arange(0, len(sz_linspace), 1):\n",
    "            kz_i = kz_list[ikz]\n",
    "            sz_i = sz_list[isz]\n",
    "            try:\n",
    "                u[isz][ikz] = M4_subs_det_re_d.subs(kz == kz_i).subs(sz == sz_i).n()\n",
    "                v[isz][ikz] = M4_subs_det_im_d.subs(kz == kz_i).subs(sz == sz_i).n()\n",
    "            except Exception as ex:\n",
    "                print(ex)"
   ]
  },
  {
   "cell_type": "markdown",
   "metadata": {},
   "source": [
    "Искомый волновой вектор можно найти графическим методом как точку пересечения двух нулевых изолиний на контурных графиках зависимости действительной и мнимой компонент детерминанта от действительной и мнимой компонент волнового вектора"
   ]
  },
  {
   "cell_type": "code",
   "execution_count": 205,
   "metadata": {},
   "outputs": [
    {
     "data": {
      "image/png": "[encoded data removed]",
      "text/plain": [
       "<Figure size 432x288 with 2 Axes>"
      ]
     },
     "metadata": {
      "needs_background": "light"
     },
     "output_type": "display_data"
    }
   ],
   "source": [
    "if make_investigation_plots:\n",
    "    fig,ax=plt.subplots(1,1)\n",
    "\n",
    "    cp = ax.contourf(kz_grid,sz_grid, u)\n",
    "    fig.colorbar(cp) # Add a colorbar to a plot\n",
    "    ax.set_title('M4_subs_det_re')\n",
    "    ax.set_xlabel('kz')\n",
    "    ax.set_ylabel('sz')\n",
    "    plt.show()"
   ]
  },
  {
   "cell_type": "code",
   "execution_count": 206,
   "metadata": {},
   "outputs": [
    {
     "data": {
      "image/png": "[encoded data removed]",
      "text/plain": [
       "<Figure size 432x288 with 2 Axes>"
      ]
     },
     "metadata": {
      "needs_background": "light"
     },
     "output_type": "display_data"
    }
   ],
   "source": [
    "if make_investigation_plots:\n",
    "    fig,ax=plt.subplots(1,1)\n",
    "\n",
    "    cp = ax.contourf(kz_grid,sz_grid, v)\n",
    "    fig.colorbar(cp) # Add a colorbar to a plot\n",
    "    ax.set_title('M4_subs_det_im')\n",
    "    ax.set_xlabel('kz')\n",
    "    ax.set_ylabel('sz')\n",
    "    plt.show()"
   ]
  },
  {
   "cell_type": "code",
   "execution_count": 207,
   "metadata": {},
   "outputs": [],
   "source": [
    "if make_investigation_plots:\n",
    "    for ikz in np.arange(0, len(kz_linspace), 1):\n",
    "        for isz in np.arange(0, len(sz_linspace), 1):\n",
    "            if np.isnan(u[isz][ikz]):\n",
    "                u[isz][ikz] = (u[isz + 1][ikz + 1] + u[isz - 1][ikz - 1] + u[isz - 1][ikz + 1] + u[isz + 1][ikz - 1])/4\n",
    "            if np.isnan(v[isz][ikz]):\n",
    "                v[isz][ikz] = (v[isz + 1][ikz + 1] + v[isz - 1][ikz - 1] + v[isz - 1][ikz + 1] + v[isz + 1][ikz - 1])/4"
   ]
  },
  {
   "cell_type": "code",
   "execution_count": 208,
   "metadata": {},
   "outputs": [
    {
     "data": {
      "image/png": "[encoded data removed]",
      "text/plain": [
       "<Figure size 432x288 with 1 Axes>"
      ]
     },
     "metadata": {
      "needs_background": "light"
     },
     "output_type": "display_data"
    }
   ],
   "source": [
    "if make_investigation_plots:\n",
    "    from mpl_toolkits import mplot3d\n",
    "    import numpy as np\n",
    "    import matplotlib.pyplot as plt\n",
    "    fig = plt.figure()\n",
    "\n",
    "    ax = plt.axes(projection='3d')\n",
    "    ax.set_xlabel('kz')\n",
    "    ax.set_ylabel('sz')\n",
    "    ax.plot_surface(kz_grid, sz_grid, u, cmap='viridis', edgecolor='none')\n",
    "    ax.set_title('M4_subs_det_re')\n",
    "    plt.show()"
   ]
  },
  {
   "cell_type": "code",
   "execution_count": 209,
   "metadata": {},
   "outputs": [
    {
     "data": {
      "image/png": "[encoded data removed]",
      "text/plain": [
       "<Figure size 432x288 with 1 Axes>"
      ]
     },
     "metadata": {
      "needs_background": "light"
     },
     "output_type": "display_data"
    }
   ],
   "source": [
    "if make_investigation_plots:\n",
    "    from mpl_toolkits import mplot3d\n",
    "    import numpy as np\n",
    "    import matplotlib.pyplot as plt\n",
    "    fig = plt.figure()\n",
    "\n",
    "    ax = plt.axes(projection='3d')\n",
    "    ax.set_xlabel('kz')\n",
    "    ax.set_ylabel('sz')\n",
    "    ax.plot_surface(kz_grid, sz_grid, v, cmap='viridis', edgecolor='none')\n",
    "    ax.set_title('M4_subs_det_im')\n",
    "    plt.show()"
   ]
  },
  {
   "cell_type": "code",
   "execution_count": null,
   "metadata": {},
   "outputs": [],
   "source": []
  },
  {
   "cell_type": "code",
   "execution_count": 210,
   "metadata": {},
   "outputs": [],
   "source": [
    "M4_subs_det_re_div_diff_kz_d = M4_subs_det_re_div_diff_kz.subs(digit_values)\n",
    "M4_subs_det_im_div_diff_kz_d = M4_subs_det_im_div_diff_kz.subs(digit_values)\n",
    "M4_subs_det_re_div_diff_sz_d = M4_subs_det_re_div_diff_sz.subs(digit_values)\n",
    "M4_subs_det_im_div_diff_sz_d = M4_subs_det_im_div_diff_sz.subs(digit_values)"
   ]
  },
  {
   "cell_type": "markdown",
   "metadata": {},
   "source": [
    "метод ньютона для комплексной функции от комплексного аргумента\n",
    "комплексная функция представляется в виде двух функций: ее действительной и мнимой частей\n",
    "также мы предварительно должны посчитать все четыре варианта первых производных: действительной компоненты функции от обоих компонент аргумента и также и для мнимой части\n",
    "\n",
    "на вход метода find_newton_complex_root() подается:\n",
    "\n",
    "- выражения для действительной и мнимой частей исследуемой комплексной функции\n",
    "\n",
    "- четыре выражения для отношения каждой компоненты комплексной функции к ее производной по каждой компоненте аргумента\n",
    "\n",
    "- символьное представление действительной и мнимой части аргумента\n",
    "\n",
    "- начальные значения действительной и мнимой части аргумента"
   ]
  },
  {
   "cell_type": "code",
   "execution_count": 211,
   "metadata": {},
   "outputs": [],
   "source": [
    "def find_newton_complex_root(f_re, f_im,\n",
    "                             f_re_div_df_re,\n",
    "                             f_im_div_df_re,\n",
    "                             f_re_div_df_im,\n",
    "                             f_im_div_df_im,\n",
    "                             xre, xim,\n",
    "                             xn_re, xn_im, nsteps = 100):\n",
    "    print (\"xre\", xre)\n",
    "    print (\"xim\", xim)\n",
    "    print (\"xn_re\", xn_re)\n",
    "    print (\"xn_im\", xn_im)\n",
    "    \n",
    "    step_init = 0.095\n",
    "    step_init_im_re = 0.000095\n",
    "    step_init_re_im = 0.000095\n",
    "\n",
    "    step_re_im = step_init_re_im\n",
    "    step_im_im = step_init\n",
    "    step_re_re = step_init\n",
    "    step_im_re = step_init_im_re\n",
    "    \n",
    "    step_m = 0.9\n",
    "    \n",
    "    delta_epsilon = 1e-32\n",
    "\n",
    "    f_re_new = f_re.subs(xre == xn_re).subs(xim == xn_im).n()\n",
    "    print(\"\\nf_re_new = \", f_re_new)\n",
    "    \n",
    "    f_im_new = f_im.subs(xre == xn_re).subs(xim == xn_im).n()\n",
    "    print(\"\\nf_im_new = \", f_im_new)\n",
    "\n",
    "    f_abs_2 = f_re_new^2+f_im_new^2\n",
    "    print(\"\\nf_abs_2 = \", f_abs_2)\n",
    "            \n",
    "    for i in range(nsteps):\n",
    "        print(\"\\nre_d_re xn = \", xn_re, xn_im, \"step = \", step_re_re)\n",
    "        xn_re_new, delta_re_re = NewtonIt(f_re_div_df_re.subs(xim == xn_im), xre, xn_re, step_re_re)\n",
    "        f_re_new = f_re.subs(xre == xn_re_new).subs(xim == xn_im).n()\n",
    "        f_im_new = f_im.subs(xre == xn_re_new).subs(xim == xn_im).n()\n",
    "        f_abs_2_new = f_re_new^2+f_im_new^2\n",
    "        print(\"f_abs_2_new\", f_abs_2_new)\n",
    "        if f_abs_2_new > f_abs_2:\n",
    "            step_re_re *= step_m\n",
    "        else:\n",
    "            xn_re = xn_re_new\n",
    "            f_abs_2 = f_abs_2_new\n",
    "            if step_re_re < step_init:\n",
    "                step_re_re /= step_m\n",
    "            print (\"f_new\",f_re_new, f_im_new)\n",
    "\n",
    "        print(\"\\nim_d_re xn = \", xn_re, xn_im, \"step = \", step_im_re)\n",
    "        xn_re_new, delta_im_re = NewtonIt(f_im_div_df_re.subs(xim == xn_im), xre, xn_re, step_im_re)\n",
    "        f_re_new = f_re.subs(xre == xn_re_new).subs(xim == xn_im).n()\n",
    "        f_im_new = f_im.subs(xre == xn_re_new).subs(xim == xn_im).n()\n",
    "        f_abs_2_new = f_re_new^2+f_im_new^2\n",
    "        print(\"f_abs_2_new\", f_abs_2_new)\n",
    "        if f_abs_2_new > f_abs_2:\n",
    "            step_im_re *= step_m\n",
    "        else:\n",
    "            xn_re = xn_re_new\n",
    "            f_abs_2 = f_abs_2_new\n",
    "            if step_im_re < step_init_im_re:\n",
    "                step_im_re /= step_m\n",
    "            print (\"f_new\",f_re_new, f_im_new)\n",
    "\n",
    "        print(\"\\nre_d_im xn = \", xn_re, xn_im, \"step = \", step_re_im)\n",
    "        xn_im_new, delta_re_im = NewtonIt(f_re_div_df_im.subs(xre == xn_re), xim, xn_im, step_re_im)\n",
    "        f_re_new = f_re.subs(xre == xn_re).subs(xim == xn_im_new).n()\n",
    "        f_im_new = f_im.subs(xre == xn_re).subs(xim == xn_im_new).n()\n",
    "        f_abs_2_new = f_re_new^2+f_im_new^2\n",
    "        print(\"f_abs_2_new\", f_abs_2_new)\n",
    "        if f_abs_2_new > f_abs_2:\n",
    "            step_re_im *= step_m\n",
    "        else:\n",
    "            xn_im = xn_im_new\n",
    "            f_abs_2 = f_abs_2_new\n",
    "            if step_re_im < step_init_re_im:\n",
    "                step_re_im /= step_m\n",
    "            print (\"f_new\",f_re_new, f_im_new)\n",
    "\n",
    "        print(\"\\nim_d_im xn = \", xn_re, xn_im, \"step = \", step_im_im)\n",
    "        xn_im_new, delta_im_im = NewtonIt(f_im_div_df_im.subs(xre == xn_re), xim, xn_im, step_im_im)\n",
    "        f_re_new = f_re.subs(xre == xn_re).subs(xim == xn_im_new).n()\n",
    "        f_im_new = f_im.subs(xre == xn_re).subs(xim == xn_im_new).n()\n",
    "        f_abs_2_new = f_re_new^2+f_im_new^2\n",
    "        print(\"f_abs_2_new\", f_abs_2_new)\n",
    "        if f_abs_2_new > f_abs_2:\n",
    "            step_im_im *= step_m\n",
    "        else:\n",
    "            xn_im = xn_im_new\n",
    "            f_abs_2 = f_abs_2_new\n",
    "            if step_im_im < step_init:\n",
    "                step_im_im /= step_m\n",
    "            print (\"f_new\",f_re_new, f_im_new)\n",
    "\n",
    "        if abs(delta_re_re) < delta_epsilon and \\\n",
    "           abs(delta_re_im) < delta_epsilon and \\\n",
    "           abs(delta_im_re) < delta_epsilon and \\\n",
    "           abs(delta_im_im) < delta_epsilon:\n",
    "            break\n",
    "\n",
    "    return xn_re, xn_im, f_re_new, f_im_new"
   ]
  },
  {
   "cell_type": "markdown",
   "metadata": {},
   "source": [
    "инициализируем метод ньютона значениями найденными на глаз графическим методом"
   ]
  },
  {
   "cell_type": "code",
   "execution_count": null,
   "metadata": {
    "scrolled": true
   },
   "outputs": [
    {
     "name": "stdout",
     "output_type": "stream",
     "text": [
      "xre kz\n",
      "xim sz\n",
      "xn_re 9\n",
      "xn_im 1\n",
      "\n",
      "f_re_new =  -2.30104184131157e11\n",
      "\n",
      "f_im_new =  1.55908726794501e11\n",
      "\n",
      "f_abs_2 =  7.72554666453477e22\n",
      "\n",
      "re_d_re xn =  9 1 step =  0.0950000000000000\n",
      "xn 9\n",
      "delta 0.898954309999915\n",
      "f_abs_2_new 5.84260433458703e22\n",
      "f_new -2.08575612449774e11 1.22156691331552e11\n",
      "\n",
      "im_d_re xn =  8.91459934055001 1 step =  0.0000950000000000000\n",
      "xn 8.91459934055001\n",
      "delta 0.346491232631620\n",
      "f_abs_2_new 5.84198113558760e22\n",
      "f_new -2.08567468915878e11 1.22145086949497e11\n",
      "\n",
      "re_d_im xn =  8.91456642388291 1 step =  0.0000950000000000000\n",
      "xn 1\n",
      "delta 0.591642354097825\n",
      "f_abs_2_new 5.84149433215782e22\n",
      "f_new -2.08547654805974e11 1.22158990649507e11\n",
      "\n",
      "im_d_im xn =  8.91456642388291 0.999943793976361 step =  0.0950000000000000\n",
      "xn 0.999943793976361\n",
      "delta -0.493882656273730\n",
      "f_abs_2_new 6.25788111224508e22\n",
      "\n",
      "re_d_re xn =  8.91456642388291 0.999943793976361 step =  0.0950000000000000\n",
      "xn 8.91456642388291\n",
      "delta 0.843147681293046\n",
      "f_abs_2_new 4.51441442535280e22\n",
      "f_new -1.89183768942018e11 9.67142482906264e10\n",
      "\n",
      "im_d_re xn =  8.83446739416007 0.999943793976361 step =  0.0000950000000000000\n",
      "xn 8.83446739416007\n",
      "delta 0.339281549124209\n",
      "f_abs_2_new 4.51394929764003e22\n",
      "f_new -1.89176172352274e11 9.67050608321150e10\n",
      "\n",
      "re_d_im xn =  8.83443516241290 0.999943793976361 step =  0.0000950000000000000\n",
      "xn 0.999943793976361\n",
      "delta 0.663702674104596\n",
      "f_abs_2_new 4.51355675875324e22\n",
      "f_new -1.89158200294570e11 9.67199196073472e10\n",
      "\n",
      "im_d_im xn =  8.83443516241290 0.999880742222321 step =  0.0855000000000000\n",
      "xn 0.999880742222321\n",
      "delta -0.410463246397330\n",
      "f_abs_2_new 4.73606487037020e22\n",
      "\n",
      "re_d_re xn =  8.83443516241290 0.999880742222321 step =  0.0950000000000000\n",
      "xn 8.83443516241290\n",
      "delta 0.802755929603641\n",
      "f_abs_2_new 3.54122569529715e22\n",
      "f_new -1.71680569983582e11 7.70586714334205e10\n",
      "\n",
      "im_d_re xn =  8.75817334910056 0.999880742222321 step =  0.0000950000000000000\n",
      "xn 8.75817334910056\n",
      "delta 0.331756491108291\n",
      "f_abs_2_new 3.54087215004573e22\n",
      "f_new -1.71673558776962e11 7.70513511712177e10\n",
      "\n",
      "re_d_im xn =  8.75814183223390 0.999880742222321 step =  0.0000950000000000000\n",
      "xn 0.999880742222321\n",
      "delta 0.739159721345628\n",
      "f_abs_2_new 3.54055291966304e22\n",
      "f_new -1.71657249339875e11 7.70669705236851e10\n",
      "\n",
      "im_d_im xn =  8.75814183223390 0.999810522048793 step =  0.0769500000000000\n",
      "xn 0.999810522048793\n",
      "delta -0.346505527422452\n",
      "f_abs_2_new 3.66346048926678e22\n",
      "\n",
      "re_d_re xn =  8.75814183223390 0.999810522048793 step =  0.0950000000000000\n",
      "xn 8.75814183223390\n",
      "delta 0.771798674765873\n",
      "f_abs_2_new 2.80868173422374e22\n",
      "f_new -1.55850569650825e11 6.16231878577430e10\n",
      "\n",
      "im_d_re xn =  8.68482095813114 0.999810522048793 step =  0.0000950000000000000\n",
      "xn 8.68482095813114\n",
      "delta 0.323818544333413\n",
      "f_abs_2_new 2.80840955520762e22\n",
      "f_new -1.55844152007648e11 6.16173339012122e10\n",
      "\n",
      "re_d_im xn =  8.68479019536943 0.999810522048793 step =  0.0000950000000000000\n",
      "xn 0.999810522048793\n",
      "delta 0.819001339928634\n",
      "f_abs_2_new 2.80814813067952e22\n",
      "f_new -1.55829346229426e11 6.16335635875835e10\n",
      "\n",
      "im_d_im xn =  8.68479019536943 0.999732716921500 step =  0.0692550000000000\n",
      "xn 0.999732716921500\n",
      "delta -0.295500031805293\n",
      "f_abs_2_new 2.87764449914921e22\n",
      "\n",
      "re_d_re xn =  8.68479019536943 0.999732716921500 step =  0.0950000000000000\n",
      "xn 8.68479019536943\n",
      "delta 0.747118519304149\n",
      "f_abs_2_new 2.24633311167727e22\n",
      "f_new -1.41515826980629e11 4.93619471937789e10\n",
      "\n",
      "im_d_re xn =  8.61381393603554 0.999732716921500 step =  0.0000950000000000000\n",
      "xn 8.61381393603554\n",
      "delta 0.315374261208187\n",
      "f_abs_2_new 2.24612171650858e22\n",
      "f_new -1.41509993454381e11 4.93572580035285e10\n",
      "\n",
      "re_d_im xn =  8.61378397548072 0.999732716921500 step =  0.0000950000000000000\n",
      "xn 0.999732716921500\n",
      "delta 0.904184681580833\n",
      "f_abs_2_new 2.24590634567898e22\n",
      "f_new -1.41496549278499e11 4.93739809926956e10\n",
      "\n",
      "im_d_im xn =  8.61378397548072 0.999646819376749 step =  0.0623295000000000\n",
      "xn 0.999646819376749\n",
      "delta -0.253633466366726\n",
      "f_abs_2_new 2.28587011747980e22\n",
      "\n",
      "re_d_re xn =  8.61378397548072 0.999646819376749 step =  0.0950000000000000\n",
      "xn 8.61378397548072\n",
      "delta 0.726865842107111\n",
      "f_abs_2_new 1.80819643009312e22\n",
      "f_new -1.28524112664339e11 3.95413298306417e10\n",
      "\n",
      "im_d_re xn =  8.54473172048055 0.999646819376749 step =  0.0000950000000000000\n",
      "xn 8.54473172048055\n",
      "delta 0.306326266806292\n",
      "f_abs_2_new 1.80803128593028e22\n",
      "f_new -1.28518843507287e11 3.95375735579755e10\n",
      "\n",
      "re_d_im xn =  8.54470261948520 0.999646819376749 step =  0.0000950000000000000\n",
      "xn 0.999646819376749\n",
      "delta 0.995715592929164\n",
      "f_abs_2_new 1.80785290325266e22\n",
      "f_new -1.28506633338747e11 3.95546990946377e10\n",
      "\n",
      "im_d_im xn =  8.54470261948520 0.999552226395421 step =  0.0560965500000000\n",
      "xn 0.999552226395421\n",
      "delta -0.218501278267406\n",
      "f_abs_2_new 1.83111441161695e22\n",
      "\n",
      "re_d_re xn =  8.54470261948520 0.999552226395421 step =  0.0950000000000000\n",
      "xn 8.54470261948520\n"
     ]
    }
   ],
   "source": [
    "k_z_root = find_newton_complex_root(\n",
    "    M4_subs_det_re_d,\\\n",
    "    M4_subs_det_im_d,\\\n",
    "    M4_subs_det_re_div_diff_kz_d,\\\n",
    "    M4_subs_det_im_div_diff_kz_d,\\\n",
    "    M4_subs_det_re_div_diff_sz_d,\\\n",
    "    M4_subs_det_im_div_diff_sz_d,\\\n",
    "    xre = kz, xim = sz,\\\n",
    "    xn_re = 9, xn_im = 1, nsteps = 50)\n",
    "# 0.00126461806239810   0.000327156790809509\n",
    "# 0.00212802121192967   0.00476327299933315\n",
    "# 0.0000369917483332058 0.0405200691675249\n",
    "# -0.00733877226129633 0.159385663041519"
   ]
  },
  {
   "cell_type": "code",
   "execution_count": null,
   "metadata": {},
   "outputs": [],
   "source": [
    "k_z_root"
   ]
  },
  {
   "cell_type": "code",
   "execution_count": null,
   "metadata": {},
   "outputs": [],
   "source": [
    "fast_M8 = True"
   ]
  },
  {
   "cell_type": "code",
   "execution_count": null,
   "metadata": {},
   "outputs": [],
   "source": [
    "if not fast_M8:\n",
    "    M8_subs_det_re = M8_subs_det.real()\n",
    "\n",
    "    M8_subs_det_re_diff_kz = M8_subs_det_re.diff(kz)\n",
    "    M8_subs_det_re_diff_sz = M8_subs_det_re.diff(sz)\n",
    "\n",
    "    M8_subs_det_re_div_diff_kz = (M8_subs_det_re / M8_subs_det_re_diff_kz)\n",
    "    M8_subs_det_re_div_diff_sz = (M8_subs_det_re / M8_subs_det_re_diff_sz)\n",
    "\n",
    "    M8_subs_det_re_d = M8_subs_det_re.subs(digit_values)"
   ]
  },
  {
   "cell_type": "code",
   "execution_count": null,
   "metadata": {},
   "outputs": [],
   "source": []
  },
  {
   "cell_type": "code",
   "execution_count": null,
   "metadata": {},
   "outputs": [],
   "source": [
    "if not fast_M8 and make_investigation_plots:\n",
    "    import numpy as np\n",
    "    import matplotlib.pyplot as plt\n",
    "    %matplotlib inline\n",
    "\n",
    "    kz_linspace = np.linspace(0, 1e-2, 25)\n",
    "    sz_linspace = np.linspace(0, 1e-3, 25)\n",
    "\n",
    "    kz_list = kz_linspace.tolist()\n",
    "    sz_list = sz_linspace.tolist()\n",
    "\n",
    "    kz_grid, sz_grid = np.meshgrid(kz_linspace, sz_linspace)\n",
    "\n",
    "    u = kz_grid * np.nan\n",
    "\n",
    "    for ikz in np.arange(0, len(kz_linspace), 1):\n",
    "        print(ikz, len(kz_linspace))\n",
    "        for isz in np.arange(0, len(sz_linspace), 1):\n",
    "            kz_i = kz_list[ikz]\n",
    "            sz_i = sz_list[isz]\n",
    "            u[isz][ikz] = M8_subs_det_re_d.subs(kz == kz_i).subs(sz == sz_i).n()"
   ]
  },
  {
   "cell_type": "markdown",
   "metadata": {},
   "source": [
    "Искомый волновой вектор можно найти графическим методом как точку пересечения двух нулевых изолиний на контурных графиках зависимости действительной и мнимой компонент детерминанта от действительной и мнимой компонент волнового вектора"
   ]
  },
  {
   "cell_type": "code",
   "execution_count": null,
   "metadata": {},
   "outputs": [],
   "source": [
    "if not fast_M8 and make_investigation_plots:\n",
    "    fig,ax=plt.subplots(1,1)\n",
    "\n",
    "    cp = ax.contourf(kz_grid,sz_grid, u)\n",
    "    fig.colorbar(cp) # Add a colorbar to a plot\n",
    "    ax.set_title('M8_subs_det_re')\n",
    "    ax.set_xlabel('kz')\n",
    "    ax.set_ylabel('sz')\n",
    "    plt.show()"
   ]
  },
  {
   "cell_type": "code",
   "execution_count": null,
   "metadata": {},
   "outputs": [],
   "source": []
  },
  {
   "cell_type": "code",
   "execution_count": null,
   "metadata": {},
   "outputs": [],
   "source": [
    "if not fast_M8:\n",
    "    M8_subs_det_re_div_diff_kz_d = M8_subs_det_re_div_diff_kz.subs(digit_values)\n",
    "    M8_subs_det_re_div_diff_sz_d = M8_subs_det_re_div_diff_sz.subs(digit_values)"
   ]
  },
  {
   "cell_type": "code",
   "execution_count": null,
   "metadata": {},
   "outputs": [],
   "source": []
  },
  {
   "cell_type": "raw",
   "metadata": {},
   "source": [
    "if not fast_M8:\n",
    "    k_z_root6 = find_newton_complex_root(\n",
    "        M8_subs_det_re_d,\\\n",
    "        M8_subs_det_im_d,\\\n",
    "        M8_subs_det_re_div_diff_kz_d,\\\n",
    "        M8_subs_det_im_div_diff_kz_d,\\\n",
    "        M8_subs_det_re_div_diff_sz_d,\\\n",
    "        M8_subs_det_im_div_diff_sz_d,\\\n",
    "        xre = kz, xim = sz,\\\n",
    "        xn_re = k_z_root[0], xn_im = k_z_root[1], nsteps = 0)"
   ]
  },
  {
   "cell_type": "code",
   "execution_count": null,
   "metadata": {},
   "outputs": [],
   "source": [
    "k_z_sol = [kz == k_z_root[0], sz ==  k_z_root[1]]\n",
    "M8_subs_d = M8_subs.subs(digit_values).subs(k_z_sol)\n",
    "print(M8_subs_d.n())"
   ]
  },
  {
   "cell_type": "code",
   "execution_count": null,
   "metadata": {},
   "outputs": [],
   "source": []
  },
  {
   "cell_type": "code",
   "execution_count": null,
   "metadata": {},
   "outputs": [],
   "source": [
    "# https://www.pythonpool.com/gaussian-elimination-python/\n",
    "\n",
    "#gaussian elimination of M6_subs in symbolic form\n",
    "\n",
    "n = 8\n",
    "rows = n\n",
    "cols = n\n",
    "ma = [[], [], [], [], [], [], [], []]\n",
    "\n",
    "for i in range(rows):# row\n",
    "    for j in range(cols): # col\n",
    "        ma[i] += [M8_subs[i][j]]\n",
    "\n",
    "for i in range(cols):\n",
    "    row_to_change = -1\n",
    "    ii_abs = abs(ma[i][i].subs(digit_values).subs(k_z_sol).n())\n",
    "\n",
    "    for r in range(i+1, rows):\n",
    "        ri_abs = abs(ma[r][i].subs(digit_values).subs(k_z_sol).n())\n",
    "        if ri_abs > ii_abs:\n",
    "            row_to_change = r\n",
    "            cur_abs = ri_abs\n",
    "            print(\"row_to_change\", row_to_change)\n",
    "\n",
    "    if row_to_change > -1:\n",
    "        for col in range(i, cols):#+1):\n",
    "            tmp = ma[i][col]\n",
    "            ma[i][col] = ma[row_to_change][col]\n",
    "            ma[row_to_change][col] = tmp\n",
    "\n",
    "    for j in range(i+1, rows):\n",
    "        ratio = ma[j][i]/ma[i][i]\n",
    "         \n",
    "        for k in range(cols):#+1):\n",
    "            ma[j][k] = ma[j][k] - ratio * ma[i][k]\n",
    "\n",
    "M8_RU = matrix(ma)"
   ]
  },
  {
   "cell_type": "code",
   "execution_count": null,
   "metadata": {},
   "outputs": [],
   "source": [
    "M8_RU_d = M8_RU.subs(digit_values).subs(k_z_sol).n()\n",
    "M8_RU_d"
   ]
  },
  {
   "cell_type": "code",
   "execution_count": null,
   "metadata": {},
   "outputs": [],
   "source": [
    "M8_RU_d.det()"
   ]
  },
  {
   "cell_type": "code",
   "execution_count": null,
   "metadata": {},
   "outputs": [],
   "source": [
    "X8 = vector(vars8)\n",
    "X8"
   ]
  },
  {
   "cell_type": "code",
   "execution_count": null,
   "metadata": {},
   "outputs": [],
   "source": [
    "M8_RU_d_X = M8_RU_d*X8"
   ]
  },
  {
   "cell_type": "code",
   "execution_count": null,
   "metadata": {},
   "outputs": [],
   "source": [
    "M8_RU_d_X"
   ]
  },
  {
   "cell_type": "code",
   "execution_count": null,
   "metadata": {},
   "outputs": [],
   "source": [
    "for i in range(len(M8_RU_d_X)):\n",
    "    print(M8_RU_d_X[i])\n",
    "    print(\"\")"
   ]
  },
  {
   "cell_type": "code",
   "execution_count": null,
   "metadata": {},
   "outputs": [],
   "source": [
    "A1_z_re_d = 1"
   ]
  },
  {
   "cell_type": "code",
   "execution_count": null,
   "metadata": {},
   "outputs": [],
   "source": [
    "M8X_RU_B = []\n",
    "eq_sys_M8X_RU = []\n",
    "for i in range(len(M8_RU_d_X)):\n",
    "    M8X_RU_B_i = - (M8_RU_d_X[i]).coefficient(A1_z_re).n() * A1_z_re_d\n",
    "    print(M8X_RU_B_i)\n",
    "    M8X_RU_B += [M8X_RU_B_i]\n",
    "    eq_sys_M8X_RU += [M8_RU_d_X[i].subs(A1_z_re == 0) == M8X_RU_B_i]"
   ]
  },
  {
   "cell_type": "code",
   "execution_count": null,
   "metadata": {},
   "outputs": [],
   "source": [
    "eq_sys_M8X_vars7 = [B1_zl_re,  B1_zl_im,\\\n",
    "                               A1_z_im, \\\n",
    "                     A2_z_re,  A2_z_im, \\\n",
    "                     B1_zr_re, B1_zr_im, \\\n",
    "                    ]"
   ]
  },
  {
   "cell_type": "code",
   "execution_count": null,
   "metadata": {},
   "outputs": [],
   "source": [
    "eq_sys_M8X_RU_M = GenerateMatrix(eq_sys_M8X_RU, eq_sys_M8X_vars7)\n",
    "\n",
    "display(Math(latex(eq_sys_M8X_RU_M.n())))"
   ]
  },
  {
   "cell_type": "code",
   "execution_count": null,
   "metadata": {},
   "outputs": [],
   "source": [
    "eq_sys_M8X_RU_M_sol = eq_sys_M8X_RU_M.solve_right(vector(M8X_RU_B))"
   ]
  },
  {
   "cell_type": "code",
   "execution_count": null,
   "metadata": {},
   "outputs": [],
   "source": [
    "coeffs_subs_RU8 = [A1_z_re == A1_z_re_d]\n",
    "for i in range(len(eq_sys_M8X_RU_M_sol)):\n",
    "    eq_sys_M8X_RU_M_sol_i_n = eq_sys_M8X_RU_M_sol[i].n()\n",
    "    print(eq_sys_M8X_RU_M_sol_i_n)\n",
    "    coeffs_subs_RU8 += [eq_sys_M8X_vars7[i] == eq_sys_M8X_RU_M_sol_i_n]"
   ]
  },
  {
   "cell_type": "code",
   "execution_count": null,
   "metadata": {},
   "outputs": [],
   "source": [
    "coeffs_subs_RU8"
   ]
  },
  {
   "cell_type": "code",
   "execution_count": null,
   "metadata": {},
   "outputs": [],
   "source": [
    "M8_subs_d_X = M8_subs_d * X8\n",
    "#print(M8_subs_d_X)"
   ]
  },
  {
   "cell_type": "code",
   "execution_count": null,
   "metadata": {},
   "outputs": [],
   "source": [
    "# test solution of coeffs_subs_RU8\n",
    "test_sol_of_coeffs_subs_RU8 = M4_subs_d_X.subs(coeffs_subs_RU8).n()\n",
    "test_sol_of_coeffs_subs_RU8"
   ]
  },
  {
   "cell_type": "code",
   "execution_count": null,
   "metadata": {},
   "outputs": [],
   "source": [
    "test_sol_of_coeffs_subs_RU8_abs = 0\n",
    "for i in range(len(test_sol_of_coeffs_subs_RU8)):\n",
    "    test_sol_of_coeffs_subs_RU8_abs += abs(test_sol_of_coeffs_subs_RU8[i])\n",
    "test_sol_of_coeffs_subs_RU8_abs"
   ]
  },
  {
   "cell_type": "code",
   "execution_count": null,
   "metadata": {},
   "outputs": [],
   "source": [
    "# test solution of coeffs_subs_RU8\n",
    "X8_d = []\n",
    "for var in vars8:\n",
    "    X8_d += [var.subs(coeffs_subs_RU8)]\n",
    "B_d = M8_subs_d*vector(X8_d)\n",
    "for b_i in B_d:\n",
    "    print(b_i.n())"
   ]
  },
  {
   "cell_type": "code",
   "execution_count": null,
   "metadata": {},
   "outputs": [],
   "source": []
  },
  {
   "cell_type": "code",
   "execution_count": null,
   "metadata": {},
   "outputs": [],
   "source": [
    "M8X_B = []\n",
    "eq_sys_M8X = []\n",
    "for i in range(len(M8_subs_d_X)):\n",
    "    M8X_B_i = - (M8_subs_d_X[i]).coefficient(A1_z_re).n() * A1_z_re_d\n",
    "    print(M8X_B_i)\n",
    "    M8X_B += [M8X_B_i]\n",
    "    eq_sys_M8X += [M8_subs_d_X[i].subs(A1_z_re == 0) == M8X_B_i]"
   ]
  },
  {
   "cell_type": "code",
   "execution_count": null,
   "metadata": {},
   "outputs": [],
   "source": [
    "eq_sys_M8X_M = GenerateMatrix(eq_sys_M8X, eq_sys_M8X_vars7)\n",
    "\n",
    "display(Math(latex(eq_sys_M8X_M.n())))"
   ]
  },
  {
   "cell_type": "code",
   "execution_count": null,
   "metadata": {},
   "outputs": [],
   "source": [
    "if False:#ECL says: FLOATING-POINT-OVERFLOW\n",
    "    eq_sys_M8X_M_sol = eq_sys_M8X_M.solve_right(vector(M8X_B))"
   ]
  },
  {
   "cell_type": "code",
   "execution_count": null,
   "metadata": {},
   "outputs": [],
   "source": [
    "if False:\n",
    "    coeffs_subs8 = [A1_z_re == A1_z_re_d]\n",
    "    for i in range(len(eq_sys_M8X_M_sol)):\n",
    "        eq_sys_M8X_M_sol_i_n = eq_sys_M8X_M_sol[i].n()\n",
    "        print(eq_sys_M8X_M_sol_i_n)\n",
    "        coeffs_subs8 += [eq_sys_M8X_vars7[i] == eq_sys_M8X_M_sol_i_n]"
   ]
  },
  {
   "cell_type": "code",
   "execution_count": null,
   "metadata": {},
   "outputs": [],
   "source": [
    "if False:\n",
    "    print (coeffs_subs8)"
   ]
  },
  {
   "cell_type": "code",
   "execution_count": null,
   "metadata": {},
   "outputs": [],
   "source": [
    "# test solution of coeffs_subs8"
   ]
  },
  {
   "cell_type": "code",
   "execution_count": null,
   "metadata": {},
   "outputs": [],
   "source": [
    "if False:\n",
    "    test_sol_of_coeffs_subs8 = M8_subs_d_X.subs(coeffs_subs8).n()\n",
    "    test_sol_of_coeffs_subs8"
   ]
  },
  {
   "cell_type": "code",
   "execution_count": null,
   "metadata": {},
   "outputs": [],
   "source": [
    "if False:\n",
    "    test_sol_of_coeffs_subs8_abs = 0\n",
    "    for i in range(len(test_sol_of_coeffs_subs8)):\n",
    "        test_sol_of_coeffs_subs8_abs += abs(test_sol_of_coeffs_subs_8[i])\n",
    "    test_sol_of_coeffs_subs8_abs"
   ]
  },
  {
   "cell_type": "code",
   "execution_count": null,
   "metadata": {},
   "outputs": [],
   "source": []
  },
  {
   "cell_type": "code",
   "execution_count": null,
   "metadata": {},
   "outputs": [],
   "source": [
    "k_z_sol = [kz == k_z_root[0], sz ==  k_z_root[1], k_z == k_z_root[0] + I * k_z_root[1]]\n",
    "k_z_sol"
   ]
  },
  {
   "cell_type": "code",
   "execution_count": null,
   "metadata": {},
   "outputs": [],
   "source": [
    "M4_subs_d = M4_subs.subs(digit_values).subs(k_z == k_z_root[0] + I * k_z_root[1])"
   ]
  },
  {
   "cell_type": "code",
   "execution_count": null,
   "metadata": {},
   "outputs": [],
   "source": [
    "M4_subs_d.n()"
   ]
  },
  {
   "cell_type": "code",
   "execution_count": null,
   "metadata": {},
   "outputs": [],
   "source": [
    "M4_subs_d.det().n()"
   ]
  },
  {
   "cell_type": "code",
   "execution_count": null,
   "metadata": {},
   "outputs": [],
   "source": [
    "vars8"
   ]
  },
  {
   "cell_type": "code",
   "execution_count": null,
   "metadata": {},
   "outputs": [],
   "source": [
    "X = vector([B1_zl_re + I*B1_zl_im,\\\n",
    "            A1_z_re  + I*A1_z_im, \\\n",
    "            A2_z_re  + I*A2_z_im, \\\n",
    "            B1_zr_re + I*B1_zr_im])\n",
    "X"
   ]
  },
  {
   "cell_type": "code",
   "execution_count": null,
   "metadata": {},
   "outputs": [],
   "source": [
    "M4_subs_d_X = M4_subs_d * X\n",
    "#display(Math(latex(M4_subs_d_X)))"
   ]
  },
  {
   "cell_type": "code",
   "execution_count": null,
   "metadata": {},
   "outputs": [],
   "source": [
    "A1_z_re_d = 1\n",
    "M4X_B = []\n",
    "eq_sys_M4X = []\n",
    "for i in range(len(M4_subs_d_X)):\n",
    "    M4X_B_re = - M4_subs_d_X[i].real().coefficient(A1_z_re).n()\n",
    "    M4X_B_im = - M4_subs_d_X[i].imag().coefficient(A1_z_re).n()\n",
    "    eq_sys_M4X += [M4_subs_d_X[i].real().subs(A1_z_re == 0) == M4X_B_re]\n",
    "    eq_sys_M4X += [M4_subs_d_X[i].imag().subs(A1_z_re == 0) == M4X_B_im]\n",
    "    M4X_B += [M4X_B_re]\n",
    "    M4X_B += [M4X_B_im]"
   ]
  },
  {
   "cell_type": "code",
   "execution_count": null,
   "metadata": {},
   "outputs": [],
   "source": [
    "M4X_B"
   ]
  },
  {
   "cell_type": "code",
   "execution_count": null,
   "metadata": {},
   "outputs": [],
   "source": [
    "eq_sys_M4X_vars7 = [B1_zl_re, B1_zl_im, \\\n",
    "                    A1_z_im,  A2_z_re,  \\\n",
    "                              A2_z_im,  \\\n",
    "                    B1_zr_re, B1_zr_im]"
   ]
  },
  {
   "cell_type": "code",
   "execution_count": null,
   "metadata": {},
   "outputs": [],
   "source": [
    "eq_sys_M4X_M = GenerateMatrixNumeric(eq_sys_M4X, eq_sys_M4X_vars7)\n",
    "display(Math(latex(eq_sys_M4X_M.n())))"
   ]
  },
  {
   "cell_type": "code",
   "execution_count": null,
   "metadata": {},
   "outputs": [],
   "source": [
    "eq_sys_M4X_M_sol = eq_sys_M4X_M.solve_right(vector(M4X_B))"
   ]
  },
  {
   "cell_type": "code",
   "execution_count": null,
   "metadata": {},
   "outputs": [],
   "source": [
    "coeffs_subs4 = [A1_z_re == A1_z_re_d]\n",
    "for i in range(len(eq_sys_M4X_M_sol)):\n",
    "    print(eq_sys_M4X_M_sol[i].n())\n",
    "    coeffs_subs4 += [eq_sys_M4X_vars7[i] == eq_sys_M4X_M_sol[i].n()]"
   ]
  },
  {
   "cell_type": "code",
   "execution_count": null,
   "metadata": {},
   "outputs": [],
   "source": [
    "coeffs_subs4"
   ]
  },
  {
   "cell_type": "code",
   "execution_count": null,
   "metadata": {},
   "outputs": [],
   "source": [
    "# test solution of coeffs_subs4"
   ]
  },
  {
   "cell_type": "code",
   "execution_count": null,
   "metadata": {},
   "outputs": [],
   "source": [
    "test_sol_of_coeffs_subs4 = M4_subs_d_X.subs(coeffs_subs4).n()\n",
    "test_sol_of_coeffs_subs4"
   ]
  },
  {
   "cell_type": "code",
   "execution_count": null,
   "metadata": {},
   "outputs": [],
   "source": [
    "test_sol_of_coeffs_subs4_abs = 0\n",
    "for i in range(len(test_sol_of_coeffs_subs4)):\n",
    "    test_sol_of_coeffs_subs4_abs += abs(test_sol_of_coeffs_subs4[i])\n",
    "test_sol_of_coeffs_subs4_abs"
   ]
  },
  {
   "cell_type": "code",
   "execution_count": null,
   "metadata": {},
   "outputs": [],
   "source": [
    "# test solution of coeffs_subs4\n",
    "X8_d = []\n",
    "for var in vars8:\n",
    "    X8_d += [var.subs(coeffs_subs4)]\n",
    "B_d = M8_subs_d*vector(X8_d)\n",
    "for b_i in B_d:\n",
    "    print(b_i.n())"
   ]
  },
  {
   "cell_type": "code",
   "execution_count": null,
   "metadata": {},
   "outputs": [],
   "source": [
    "coeffs_subs4"
   ]
  },
  {
   "cell_type": "code",
   "execution_count": null,
   "metadata": {},
   "outputs": [],
   "source": [
    "#test_sol_of_coeffs_subs8_abs"
   ]
  },
  {
   "cell_type": "code",
   "execution_count": null,
   "metadata": {},
   "outputs": [],
   "source": [
    "coeffs_subs = coeffs_subs_RU8\n",
    "coeffs_subs"
   ]
  },
  {
   "cell_type": "code",
   "execution_count": null,
   "metadata": {},
   "outputs": [],
   "source": [
    "K_vacuum_subs_d = K_vacuum_subs.subs(kappa_vacuum_sol).subs(k_z_sol).subs(digit_values)\n",
    "K_vacuum_subs_d"
   ]
  },
  {
   "cell_type": "code",
   "execution_count": null,
   "metadata": {},
   "outputs": [],
   "source": [
    "K_vacuum_subs_d.rhs().n()"
   ]
  },
  {
   "cell_type": "code",
   "execution_count": null,
   "metadata": {},
   "outputs": [],
   "source": [
    "K_left_conductor_subs_d = K_left_conductor_subs.subs(kappa_vacuum_sol).subs(kappa_l_sol).subs(k_z_sol).subs(digit_values)\n",
    "K_left_conductor_subs_d"
   ]
  },
  {
   "cell_type": "code",
   "execution_count": null,
   "metadata": {},
   "outputs": [],
   "source": [
    "K_right_conductor_subs_d = K_right_conductor_subs.subs(kappa_vacuum_sol).subs(kappa_r_sol).subs(k_z_sol).subs(digit_values)\n",
    "K_right_conductor_subs_d"
   ]
  },
  {
   "cell_type": "code",
   "execution_count": null,
   "metadata": {},
   "outputs": [],
   "source": [
    "K_left_conductor_subs"
   ]
  },
  {
   "cell_type": "code",
   "execution_count": null,
   "metadata": {},
   "outputs": [],
   "source": [
    "K_right_conductor_subs"
   ]
  },
  {
   "cell_type": "code",
   "execution_count": null,
   "metadata": {},
   "outputs": [],
   "source": [
    "kappa_l_sol, kappa_r_sol"
   ]
  },
  {
   "cell_type": "code",
   "execution_count": null,
   "metadata": {},
   "outputs": [],
   "source": [
    "digit_values"
   ]
  },
  {
   "cell_type": "code",
   "execution_count": null,
   "metadata": {},
   "outputs": [],
   "source": [
    "kappa_l_sol.subs(k_z_sol).subs(digit_values), kappa_r_sol.subs(k_z_sol).subs(digit_values)"
   ]
  },
  {
   "cell_type": "code",
   "execution_count": null,
   "metadata": {},
   "outputs": [],
   "source": [
    "kappa_l_sol.subs(k_z_sol).subs(digit_values).rhs().n(), kappa_r_sol.subs(k_z_sol).subs(digit_values).rhs().n()"
   ]
  },
  {
   "cell_type": "code",
   "execution_count": null,
   "metadata": {},
   "outputs": [],
   "source": [
    "K_left_conductor_subs_d.rhs().n()"
   ]
  },
  {
   "cell_type": "code",
   "execution_count": null,
   "metadata": {},
   "outputs": [],
   "source": [
    "K_right_conductor_subs_d.rhs().n()"
   ]
  },
  {
   "cell_type": "markdown",
   "metadata": {},
   "source": [
    "знак перед корнем будем всегда выбирать так, чтобы корень имел положительнею мнимую часть (Зоммерфельд, Электродинамика, параграф 20, Б)"
   ]
  },
  {
   "cell_type": "raw",
   "metadata": {},
   "source": [
    "E_left_conductor_sol_z (x) = B1_zl*exp(-I * K_left_conductor*x)\n",
    "E_left_conductor_sol_x (x) = B1_xl*exp(-I * K_left_conductor*x)\n",
    "E_left_conductor_sol_y (x) = B1_yl*exp(-I * K_left_conductor*x)"
   ]
  },
  {
   "cell_type": "code",
   "execution_count": null,
   "metadata": {},
   "outputs": [],
   "source": [
    "if K_left_conductor_subs_d.rhs().n().imag() < 0:\n",
    "    print(\"sign of K_left_conductor switched\")\n",
    "    K_left_conductor_subs_d = K_left_conductor_subs_d.lhs() == - K_left_conductor_subs_d.rhs()\n",
    "K_left_conductor_subs_d.rhs().n().imag()"
   ]
  },
  {
   "cell_type": "raw",
   "metadata": {},
   "source": [
    "E_right_conductor_sol_z (x) = B1_zr*exp(I * K_right_conductor*x)\n",
    "E_right_conductor_sol_x (x) = B1_xr*exp(I * K_right_conductor*x)\n",
    "E_right_conductor_sol_y (x) = B1_yr*exp(I * K_right_conductor*x)"
   ]
  },
  {
   "cell_type": "code",
   "execution_count": null,
   "metadata": {},
   "outputs": [],
   "source": [
    "if K_right_conductor_subs_d.rhs().n().imag() < 0:\n",
    "    print(\"sign of K_right_conductor switched\")\n",
    "    K_right_conductor_subs_d = K_right_conductor_subs_d.lhs() == - K_right_conductor_subs_d.rhs()\n",
    "K_right_conductor_subs_d.rhs().n().imag()"
   ]
  },
  {
   "cell_type": "raw",
   "metadata": {},
   "source": [
    "if K_vacuum_subs_d.rhs().n().imag() < 0:\n",
    "    K_vacuum_subs_d = K_vacuum_subs_d.lhs() == - K_vacuum_subs_d.rhs()"
   ]
  },
  {
   "cell_type": "code",
   "execution_count": null,
   "metadata": {},
   "outputs": [],
   "source": [
    "K_vacuum_subs"
   ]
  },
  {
   "cell_type": "code",
   "execution_count": null,
   "metadata": {},
   "outputs": [],
   "source": []
  },
  {
   "cell_type": "code",
   "execution_count": null,
   "metadata": {},
   "outputs": [],
   "source": [
    "Ex_left_conductor  = (eq_7_l_subs3.rhs())\n",
    "Ex_right_conductor = (eq_7_r_subs3.rhs())\n",
    "Ex_vacuum          = (eq_5_subs3.rhs())"
   ]
  },
  {
   "cell_type": "code",
   "execution_count": null,
   "metadata": {},
   "outputs": [],
   "source": [
    "Dx_left_conductor  = Ex_left_conductor * epsilon_l_complex\n",
    "Dx_right_conductor = Ex_right_conductor * epsilon_r_complex\n",
    "Dx_vacuum          = Ex_vacuum"
   ]
  },
  {
   "cell_type": "code",
   "execution_count": null,
   "metadata": {},
   "outputs": [],
   "source": [
    "Ex_left_conductor_subs  = Ex_left_conductor.subs(K_left_conductor_subs_d).subs(kappa_vacuum_sol).subs(kappa_l_sol).subs(k_z_sol)\n",
    "Ex_right_conductor_subs = Ex_right_conductor.subs(K_right_conductor_subs_d).subs(kappa_vacuum_sol).subs(kappa_r_sol).subs(k_z_sol)\n",
    "Ex_vacuum_subs          = Ex_vacuum       .subs(K_vacuum_subs_d)   .subs(kappa_vacuum_sol).subs(kappa_l_sol).subs(k_z_sol)"
   ]
  },
  {
   "cell_type": "code",
   "execution_count": null,
   "metadata": {},
   "outputs": [],
   "source": [
    "Dx_left_conductor_subs  = Ex_left_conductor_subs * epsilon_l_complex\n",
    "Dx_right_conductor_subs = Ex_right_conductor_subs * epsilon_r_complex\n",
    "Dx_vacuum_subs          = Ex_vacuum_subs"
   ]
  },
  {
   "cell_type": "code",
   "execution_count": null,
   "metadata": {},
   "outputs": [],
   "source": []
  },
  {
   "cell_type": "code",
   "execution_count": null,
   "metadata": {},
   "outputs": [],
   "source": [
    "#Hy_bad_conductor = (eq_8_subs3.rhs()*sqrt(epsilon_complex)/sqrt(mu)).subs(K_conductor_subs_d).subs(kappa_vacuum_sol).subs(kappa_sol).subs(k_z_sol).subs(eqEz_a).subs(A1_x_re_im_subs, A2_x_re_im_subs)\n",
    "#Hy_vacuum        = (eq_6_subs3.rhs()).subs(K_vacuum_subs_d).subs(kappa_vacuum_sol).subs(kappa_sol).subs(k_z_sol).subs(eqEz_a).subs(A1_x_re_im_subs, A2_x_re_im_subs)"
   ]
  },
  {
   "cell_type": "code",
   "execution_count": null,
   "metadata": {},
   "outputs": [],
   "source": [
    "# sqrt(mu / epsilon_complex) = omega/c * mu / kappa\n",
    "# sqrt(mu / epsilon_complex) = omega/c * mu_rel * mu_0 / kappa\n",
    "\n",
    "# kappa/mu == omega * sqrt(epsilon_complex/mu)\n",
    "# sqrt(mu_0 / epsilon_0) = omega * mu_0 / kappa_vacuum\n",
    "\n",
    "# kappa_vacuum == omega/c\n",
    "# sqrt(mu_0 / epsilon_0) = c * mu_0\n",
    "# c = 1 / sqrt(mu_0 * epsilon_0)\n",
    "\n",
    "# kappa = omega/c * sqrt(epsilon_comlex*mu)\n",
    "# kappa_vacuum = omega/c * sqrt(epsilon_0*mu_0) = omega/c\n",
    "\n",
    "# sqrt(mu_0 / epsilon_0) = 1/(c*epsilon_0) = omega/c * mu_0 / kappa_vacuum\n",
    "# sqrt(mu / epsilon_complex) = 1/(c*epsilon_complex) = omega/c * mu / kappa\n",
    "\n",
    "# 1/mu_0 = c^2*epsolon_0"
   ]
  },
  {
   "cell_type": "code",
   "execution_count": null,
   "metadata": {},
   "outputs": [],
   "source": [
    "Hy_left_conductor  = c * (eq_8_l_subs3.rhs()*kappa_l    / (mu_l  *omega))\n",
    "Hy_right_conductor = c * (eq_8_r_subs3.rhs()*kappa_r    / (mu_r  *omega))\n",
    "Hy_vacuum          = c * (eq_6_subs3.rhs()*kappa_vacuum / (mu_0*omega))"
   ]
  },
  {
   "cell_type": "code",
   "execution_count": null,
   "metadata": {},
   "outputs": [],
   "source": [
    "Hy_vacuum"
   ]
  },
  {
   "cell_type": "code",
   "execution_count": null,
   "metadata": {},
   "outputs": [],
   "source": [
    "Hy_left_conductor_subs  = Hy_left_conductor .subs(K_left_conductor_subs_d).subs(kappa_vacuum_sol).subs(kappa_l_sol).subs(k_z_sol)\n",
    "Hy_right_conductor_subs = Hy_right_conductor.subs(K_right_conductor_subs_d).subs(kappa_vacuum_sol).subs(kappa_r_sol).subs(k_z_sol)\n",
    "Hy_vacuum_subs          = Hy_vacuum         .subs(K_vacuum_subs_d)   .subs(kappa_vacuum_sol).subs(kappa_l_sol).subs(k_z_sol)"
   ]
  },
  {
   "cell_type": "code",
   "execution_count": null,
   "metadata": {},
   "outputs": [],
   "source": [
    "Hy_vacuum_subs"
   ]
  },
  {
   "cell_type": "code",
   "execution_count": null,
   "metadata": {},
   "outputs": [],
   "source": [
    "Ex_left_conductor_d  = Ex_left_conductor_subs .subs(digit_values).subs([B1_zl_re_im_subs]).subs(coeffs_subs)\n",
    "Ex_right_conductor_d = Ex_right_conductor_subs.subs(digit_values).subs([B1_zr_re_im_subs]).subs(coeffs_subs)\n",
    "Ex_vacuum_d          = Ex_vacuum_subs         .subs(digit_values).subs([A1_z_re_im_subs,A2_z_re_im_subs]).subs(coeffs_subs)"
   ]
  },
  {
   "cell_type": "code",
   "execution_count": null,
   "metadata": {},
   "outputs": [],
   "source": [
    "Dx_left_conductor_d  = Dx_left_conductor_subs .subs(digit_values).subs([B1_zl_re_im_subs]).subs(coeffs_subs)\n",
    "Dx_right_conductor_d = Dx_right_conductor_subs.subs(digit_values).subs([B1_zr_re_im_subs]).subs(coeffs_subs)\n",
    "Dx_vacuum_d          = Dx_vacuum_subs         .subs(digit_values).subs([A1_z_re_im_subs, A2_z_re_im_subs]).subs(coeffs_subs)"
   ]
  },
  {
   "cell_type": "code",
   "execution_count": null,
   "metadata": {},
   "outputs": [],
   "source": []
  },
  {
   "cell_type": "code",
   "execution_count": null,
   "metadata": {},
   "outputs": [],
   "source": [
    "Hy_left_conductor_d  = Hy_left_conductor_subs .subs(digit_values).subs([B1_zl_re_im_subs]).subs(coeffs_subs)\n",
    "Hy_right_conductor_d = Hy_right_conductor_subs.subs(digit_values).subs([B1_zr_re_im_subs]).subs(coeffs_subs)\n",
    "Hy_vacuum_d          = Hy_vacuum_subs         .subs(digit_values).subs([A1_z_re_im_subs,A2_z_re_im_subs]).subs(coeffs_subs)"
   ]
  },
  {
   "cell_type": "code",
   "execution_count": null,
   "metadata": {},
   "outputs": [],
   "source": []
  },
  {
   "cell_type": "code",
   "execution_count": null,
   "metadata": {},
   "outputs": [],
   "source": [
    "Ez_vacuum          = E_inner_vacuum_sol_z   .subs(K_vacuum_subs_d)\n",
    "Ez_left_conductor  = E_left_conductor_sol_z .subs(K_left_conductor_subs).subs(kappa_sol_l)\n",
    "Ez_right_conductor = E_right_conductor_sol_z.subs(K_right_conductor_subs).subs(kappa_sol_r)"
   ]
  },
  {
   "cell_type": "code",
   "execution_count": null,
   "metadata": {},
   "outputs": [],
   "source": [
    "coeffs_subs"
   ]
  },
  {
   "cell_type": "code",
   "execution_count": null,
   "metadata": {},
   "outputs": [],
   "source": [
    "Ez_left_conductor_d  = Ez_left_conductor .subs(k_z_sol).subs(digit_values).subs([B1_zl_re_im_subs]).subs(coeffs_subs)\n",
    "Ez_right_conductor_d = Ez_right_conductor.subs(k_z_sol).subs(digit_values).subs([B1_zr_re_im_subs]).subs(coeffs_subs)\n",
    "Ez_vacuum_d          = Ez_vacuum         .subs(k_z_sol).subs(digit_values).subs([A1_z_re_im_subs,A2_z_re_im_subs]).subs(coeffs_subs)"
   ]
  },
  {
   "cell_type": "code",
   "execution_count": null,
   "metadata": {},
   "outputs": [],
   "source": []
  },
  {
   "cell_type": "code",
   "execution_count": null,
   "metadata": {},
   "outputs": [],
   "source": [
    "divE_vacuum = I*k_z * Ez_vacuum_d (x=x) + Ex_vacuum_d (x=x).diff(x)"
   ]
  },
  {
   "cell_type": "code",
   "execution_count": null,
   "metadata": {
    "scrolled": false
   },
   "outputs": [],
   "source": [
    "divE_vacuum_d = divE_vacuum.subs(k_z_sol).subs(digit_values).subs(coeffs_subs)"
   ]
  },
  {
   "cell_type": "code",
   "execution_count": null,
   "metadata": {},
   "outputs": [],
   "source": []
  },
  {
   "cell_type": "code",
   "execution_count": null,
   "metadata": {},
   "outputs": [],
   "source": [
    "divE_left_conductor  = I*k_z * Ez_left_conductor_d (x=x) + Ex_left_conductor_d (x=x).diff(x)\n",
    "divE_right_conductor = I*k_z * Ez_right_conductor_d (x=x) + Ex_right_conductor_d (x=x).diff(x)"
   ]
  },
  {
   "cell_type": "code",
   "execution_count": null,
   "metadata": {
    "scrolled": false
   },
   "outputs": [],
   "source": [
    "divE_left_conductor_d  = divE_left_conductor .subs(K_left_conductor_subs) .subs(kappa_sol_l).subs(k_z_sol).subs(digit_values).subs(coeffs_subs)\n",
    "divE_right_conductor_d = divE_right_conductor.subs(K_right_conductor_subs).subs(kappa_sol_r).subs(k_z_sol).subs(digit_values).subs(coeffs_subs)"
   ]
  },
  {
   "cell_type": "raw",
   "metadata": {},
   "source": []
  },
  {
   "cell_type": "code",
   "execution_count": null,
   "metadata": {},
   "outputs": [],
   "source": [
    "h_conductor = 1*A"
   ]
  },
  {
   "cell_type": "code",
   "execution_count": null,
   "metadata": {},
   "outputs": [],
   "source": [
    "plt =  plot(divE_vacuum_d.real(), (x, -A, A))\n",
    "#plt = plot(divE_bad_conductor_d.real(), (x, 0, h_conductor))\n",
    "plt.show(title=\"График дивергенции электрического поля\")"
   ]
  },
  {
   "cell_type": "code",
   "execution_count": null,
   "metadata": {},
   "outputs": [],
   "source": [
    "plt =  plot(divE_vacuum_d.imag(), (x, -A, A))\n",
    "#plt = plot(divE_bad_conductor_d.real(), (x, 0, h_conductor))\n",
    "plt.show(title=\"График дивергенции электрического поля\")"
   ]
  },
  {
   "cell_type": "code",
   "execution_count": null,
   "metadata": {},
   "outputs": [],
   "source": [
    "#plt =  plot(divE_vacuum_d.real(), (x, -A, A))\n",
    "plt = plot(divE_left_conductor_d.real(), (x, 0, h_conductor))\n",
    "plt.show(title=\"График дивергенции электрического поля\")"
   ]
  },
  {
   "cell_type": "code",
   "execution_count": null,
   "metadata": {},
   "outputs": [],
   "source": [
    "#plt =  plot(divE_vacuum_d.real(), (x, -A, A))\n",
    "plt = plot(divE_left_conductor_d.imag(), (x, 0, h_conductor))\n",
    "plt.show(title=\"График дивергенции электрического поля\")"
   ]
  },
  {
   "cell_type": "code",
   "execution_count": null,
   "metadata": {},
   "outputs": [],
   "source": [
    "#plt =  plot(divE_vacuum_d.real(), (x, -A, A))\n",
    "plt = plot(divE_right_conductor_d.real(), (x, 0, h_conductor))\n",
    "plt.show(title=\"График дивергенции электрического поля\")"
   ]
  },
  {
   "cell_type": "code",
   "execution_count": null,
   "metadata": {},
   "outputs": [],
   "source": [
    "#plt =  plot(divE_vacuum_d.real(), (x, -A, A))\n",
    "plt = plot(divE_right_conductor_d.imag(), (x, 0, h_conductor))\n",
    "plt.show(title=\"График дивергенции электрического поля\")"
   ]
  },
  {
   "cell_type": "raw",
   "metadata": {},
   "source": []
  },
  {
   "cell_type": "code",
   "execution_count": null,
   "metadata": {},
   "outputs": [],
   "source": [
    "plt  = plot(divE_left_conductor_d.imag(), (x, -A-h_conductor, -A))\n",
    "plt += plot(divE_vacuum_d.imag(), (x, -A, A))\n",
    "plt += plot(divE_right_conductor_d.imag(), (x, A, A+h_conductor))\n",
    "\n",
    "plt.show(title=\"График дивергенции электрического поля\")"
   ]
  },
  {
   "cell_type": "raw",
   "metadata": {},
   "source": []
  },
  {
   "cell_type": "code",
   "execution_count": null,
   "metadata": {},
   "outputs": [],
   "source": [
    "plt  = plot(Ez_left_conductor_d(x=x).real(), (x, -A-h_conductor, -A))\n",
    "plt += plot(Ez_vacuum_d(x=x).real(), (x, -A, A))\n",
    "plt += plot(Ez_right_conductor_d(x=x).real(), (x, A, A+h_conductor))\n",
    "plt.show(title=\"График Re тангенциальной компоненты электрического поля\")"
   ]
  },
  {
   "cell_type": "code",
   "execution_count": null,
   "metadata": {},
   "outputs": [],
   "source": [
    "plt  = plot(Ez_left_conductor_d(x=x).imag(), (x, -A-h_conductor, -A))\n",
    "plt += plot(Ez_vacuum_d(x=x).imag(), (x, -A, A))\n",
    "plt += plot(Ez_right_conductor_d(x=x).imag(), (x, A, A+h_conductor))\n",
    "plt.show(title=\"График Im тангенциальной компоненты электрического поля\")"
   ]
  },
  {
   "cell_type": "code",
   "execution_count": null,
   "metadata": {},
   "outputs": [],
   "source": [
    "plt = plot(Ez_left_conductor_d(x=x).abs(), (x, -A-h_conductor, -A))\n",
    "plt += plot(Ez_vacuum_d(x=x).abs(), (x, -A, A))\n",
    "plt += plot(Ez_right_conductor_d(x=x).abs(), (x, A, A+h_conductor))\n",
    "plt.show(title=\"График Abs тангенциальной компоненты электрического поля\")"
   ]
  },
  {
   "cell_type": "code",
   "execution_count": null,
   "metadata": {},
   "outputs": [],
   "source": [
    "plt  = plot(arg(Ez_left_conductor_d(x=x))/pi, (x, -h_conductor-A, -A))\n",
    "plt += plot(arg(Ez_vacuum_d(x=x))/pi, (x, -A, A))\n",
    "plt += plot(arg(Ez_right_conductor_d(x=x))/pi, (x, A, A+h_conductor))\n",
    "plt.show(title=\"График Arg тангенциальной компоненты электрического поля\")"
   ]
  },
  {
   "cell_type": "code",
   "execution_count": null,
   "metadata": {},
   "outputs": [],
   "source": []
  },
  {
   "cell_type": "code",
   "execution_count": null,
   "metadata": {},
   "outputs": [],
   "source": [
    "plt  = plot((Ex_left_conductor_d(x=x) * epsilon_l_complex).subs(digit_values).real(), (x, -A-h_conductor, -A))\n",
    "plt += plot(Ex_vacuum_d(x=x).real(), (x, -A, A))\n",
    "plt += plot((Ex_right_conductor_d(x=x) * epsilon_r_complex).subs(digit_values).real(), (x, A, A+h_conductor))\n",
    "plt.show(title=\"График Re нормальной компоненты электрического смещения\")"
   ]
  },
  {
   "cell_type": "code",
   "execution_count": null,
   "metadata": {},
   "outputs": [],
   "source": [
    "plt  = plot((Ex_left_conductor_d(x=x) * epsilon_l_complex).subs(digit_values).imag(), (x, -h_conductor-A, -A))\n",
    "plt += plot(Ex_vacuum_d(x=x).imag(), (x, -A, A))\n",
    "plt += plot((Ex_right_conductor_d(x=x) * epsilon_r_complex).subs(digit_values).imag(), (x, A, A+h_conductor))\n",
    "plt.show(title=\"График Im нормальной компоненты электрического смещения\")"
   ]
  },
  {
   "cell_type": "code",
   "execution_count": null,
   "metadata": {},
   "outputs": [],
   "source": [
    "plt  = plot((Ex_left_conductor_d(x=x) * epsilon_l_complex).subs(digit_values).abs(), (x, -h_conductor-A, -A))\n",
    "plt += plot(Ex_vacuum_d(x=x).abs(), (x, -A, A))\n",
    "plt += plot((Ex_right_conductor_d(x=x) * epsilon_r_complex).subs(digit_values).abs(), (x, A, A+h_conductor))\n",
    "plt.show(title=\"График Abs нормальной компоненты электрического смещения\")"
   ]
  },
  {
   "cell_type": "code",
   "execution_count": null,
   "metadata": {},
   "outputs": [],
   "source": [
    "plt  = plot(arg((Ex_left_conductor_d(x=x) * epsilon_l_complex).subs(digit_values))/pi, (x, -h_conductor-A, -A))\n",
    "plt += plot(arg(Ex_vacuum_d(x=x))/pi, (x, -A, A))\n",
    "plt += plot(arg((Ex_right_conductor_d(x=x) * epsilon_r_complex).subs(digit_values))/pi, (x, A, A+h_conductor))\n",
    "plt.show(title=\"График Arg нормальной компоненты электрического смещения\")"
   ]
  },
  {
   "cell_type": "code",
   "execution_count": null,
   "metadata": {},
   "outputs": [],
   "source": []
  },
  {
   "cell_type": "code",
   "execution_count": null,
   "metadata": {},
   "outputs": [],
   "source": [
    "plt  = plot(Hy_left_conductor_d(x=x).real(), (x, -h_conductor-A, -A))\n",
    "plt += plot(Hy_vacuum_d(x=x).real(), (x, -A, A))\n",
    "plt += plot(Hy_right_conductor_d(x=x).real(), (x, A, A+h_conductor))\n",
    "plt.show(title=\"График Re тангенциальной компоненты напряженности магнитного поля H\")"
   ]
  },
  {
   "cell_type": "code",
   "execution_count": null,
   "metadata": {},
   "outputs": [],
   "source": [
    "plt  = plot(Hy_left_conductor_d(x=x).imag(), (x, -h_conductor-A, -A))\n",
    "plt += plot(Hy_vacuum_d(x=x).imag(), (x, -A, A))\n",
    "plt += plot(Hy_right_conductor_d(x=x).imag(), (x, A, A+h_conductor))\n",
    "plt.show(title=\"График Im тангенциальной компоненты напряженности магнитного поля H\")"
   ]
  },
  {
   "cell_type": "code",
   "execution_count": null,
   "metadata": {},
   "outputs": [],
   "source": [
    "plt  = plot(Hy_left_conductor_d(x=x).abs(), (x, -h_conductor-A, -A))\n",
    "plt += plot(Hy_vacuum_d(x=x).abs(), (x, -A, A))\n",
    "plt += plot(Hy_right_conductor_d(x=x).abs(), (x, A, A+h_conductor))\n",
    "plt.show(title=\"График Abs тангенциальной компоненты напряженности магнитного поля H\")"
   ]
  },
  {
   "cell_type": "code",
   "execution_count": null,
   "metadata": {},
   "outputs": [],
   "source": [
    "plt  = plot(arg(Hy_left_conductor_d(x=x))/pi, (x, -h_conductor-A, -A))\n",
    "plt += plot(arg(Hy_vacuum_d(x=x))/pi, (x, -A, A))\n",
    "plt += plot(arg(Hy_right_conductor_d(x=x))/pi, (x, A, A+h_conductor))\n",
    "plt.show(title=\"График Arg тангенциальной компоненты напряженности магнитного поля H\")"
   ]
  },
  {
   "cell_type": "code",
   "execution_count": null,
   "metadata": {},
   "outputs": [],
   "source": []
  },
  {
   "cell_type": "code",
   "execution_count": null,
   "metadata": {},
   "outputs": [],
   "source": [
    "plt  = plot(arg(Hy_left_conductor_d(x=x))/pi  - arg(Ez_left_conductor_d(x=x))/pi, (x, -h_conductor-A, -A))\n",
    "plt += plot(arg(Hy_vacuum_d(x=x))/pi          - arg(Ez_vacuum_d(x=x))/pi, (x, -A, A))\n",
    "plt += plot(arg(Hy_right_conductor_d(x=x))/pi - arg(Ez_right_conductor_d(x=x))/pi, (x, A, A+h_conductor))\n",
    "plt.show(title=\"График delta Arg тангенциальных компонент H и E\")"
   ]
  },
  {
   "cell_type": "code",
   "execution_count": null,
   "metadata": {},
   "outputs": [],
   "source": []
  },
  {
   "cell_type": "markdown",
   "metadata": {},
   "source": [
    "Решение получено.\n",
    "\n",
    "Теперь посчитаем:\n",
    "\n",
    "1) пондеромоторную силу, приложенную к идеальному проводнику\n",
    "\n",
    "2) пондеромоторную силу, приложенную к границе диэлектрика и вакуума\n"
   ]
  },
  {
   "cell_type": "code",
   "execution_count": null,
   "metadata": {},
   "outputs": [],
   "source": []
  },
  {
   "cell_type": "markdown",
   "metadata": {},
   "source": [
    "1) пондеромоторная сила, приложенная к идеальному проводнику"
   ]
  },
  {
   "cell_type": "code",
   "execution_count": null,
   "metadata": {},
   "outputs": [],
   "source": [
    "# superconductor force\n",
    "# additional 1/2 arises as result of integration on period\n",
    "#f_superconductor = - abs((even_H_inner_vacuum_y (a)^2) / (2*8*pi))\n",
    "f_left_conductor = - (Hy_vacuum_d (x=-A).real()^2 + Hy_vacuum_d (x=-A).imag()^2) / (2*8*pi)\n",
    "print(\"f_left_conductor =\", f_left_conductor.n())"
   ]
  },
  {
   "cell_type": "markdown",
   "metadata": {},
   "source": [
    "2) пондеромоторная сила, приложенная к плохому проводнику"
   ]
  },
  {
   "cell_type": "code",
   "execution_count": null,
   "metadata": {},
   "outputs": [],
   "source": [
    "# bad conductor force\n",
    "# additional 1/2 arises as result of integration on period\n",
    "#f_bad_conductor = abs((even_H_inner_vacuum_y (a)^2) / (2*8*pi))\n",
    "f_right_conductor = (Hy_vacuum_d (x=A).real()^2 + Hy_vacuum_d (x=A).imag()^2) / (2*8*pi)\n",
    "\n",
    "print(\"f_right_conductor =\", f_right_conductor.n())"
   ]
  },
  {
   "cell_type": "code",
   "execution_count": null,
   "metadata": {},
   "outputs": [],
   "source": []
  },
  {
   "cell_type": "code",
   "execution_count": null,
   "metadata": {},
   "outputs": [],
   "source": [
    "(f_left_conductor + f_right_conductor).n()"
   ]
  },
  {
   "cell_type": "code",
   "execution_count": null,
   "metadata": {},
   "outputs": [],
   "source": []
  },
  {
   "cell_type": "code",
   "execution_count": null,
   "metadata": {},
   "outputs": [],
   "source": [
    "# Static and dynamic electricity by William R. Smythe, second edition, 1950\n",
    "# paragraph 18 formula 1.47\n",
    "# давление на границу равно разности давлений по обе стороны от нее\n",
    "# $$ P_n = \\frac{1}{2} \\epsilon'{{E'}_t}^2 - \\frac{1}{2} \\epsilon''{{E''}_t}^2 $$"
   ]
  },
  {
   "cell_type": "markdown",
   "metadata": {},
   "source": [
    "$$ P_n = \\frac{1}{2} \\epsilon'{{E'}_t}^2 - \\frac{1}{2} \\epsilon''{{E''}_t}^2 $$"
   ]
  },
  {
   "cell_type": "code",
   "execution_count": null,
   "metadata": {},
   "outputs": [],
   "source": [
    "# bad conductor force\n",
    "# additional 1/2 arises as result of integration on period\n",
    "p_left_conductor = -(((epsilon_l_complex - 1.0)*Ez_vacuum_d(x=-A))*Ez_vacuum_d(x=-A)/(2*8*pi)).subs(digit_values).abs()\n",
    "print(\"p_left_conductor =\", p_left_conductor.n())"
   ]
  },
  {
   "cell_type": "code",
   "execution_count": null,
   "metadata": {},
   "outputs": [],
   "source": [
    "# bad conductor force\n",
    "# additional 1/2 arises as result of integration on period\n",
    "p_right_conductor = (((1.0 - epsilon_r_complex)*Ez_vacuum_d(x=A))*Ez_vacuum_d(x=A)/(2*8*pi)).subs(digit_values).abs()\n",
    "print(\"p_right_conductor =\", p_right_conductor.n())"
   ]
  },
  {
   "cell_type": "code",
   "execution_count": null,
   "metadata": {},
   "outputs": [],
   "source": [
    "# Static and dynamic electricity by William R. Smythe, second edition, 1950\n",
    "# paragraph 18 formula 1.45\n",
    "# натяжение на границе, созданное нормальными компонентами индукции\n",
    "# должно равняться разности натяжений по обе стороны от границы\n",
    "# $$ T_n = \\frac{{{D'}_n}^2}{2 \\epsilon'} - \\frac{{{D''}_n}^2}{2 \\epsilon''} $$"
   ]
  },
  {
   "cell_type": "markdown",
   "metadata": {},
   "source": [
    "$$ T_n = \\frac{{{D'}_n}^2}{2 \\epsilon'} - \\frac{{{D''}_n}^2}{2 \\epsilon''} $$"
   ]
  },
  {
   "cell_type": "code",
   "execution_count": null,
   "metadata": {
    "scrolled": true
   },
   "outputs": [],
   "source": [
    "# super conductor tension\n",
    "# additional 1/2 arises as result of integration on period\n",
    "# epsilon_superconductor -> Infinity\n",
    "# 1 / epsilon_superconductor -> 0.0\n",
    "\n",
    "t_left_conductor = -(((1/epsilon_l_complex - 1/1.)*(Dx_vacuum_d (x=-A)))*Dx_vacuum_d(x=-A)/(2*8*pi)).subs(digit_values).abs() \n",
    "print(\"t_left_conductor =\", t_left_conductor.n())"
   ]
  },
  {
   "cell_type": "code",
   "execution_count": null,
   "metadata": {},
   "outputs": [],
   "source": [
    "# bad conductor force\n",
    "# additional 1/2 arises as result of integration on period\n",
    "t_right_conductor = (((1.0/1.0 - 1/epsilon_r_complex)*Dx_vacuum_d (x=A)) * Dx_vacuum_d(x=A)/(2*8*pi)).subs(digit_values).abs()\n",
    "print(\"t_right_conductor =\", t_right_conductor.n())"
   ]
  },
  {
   "cell_type": "code",
   "execution_count": null,
   "metadata": {},
   "outputs": [],
   "source": []
  },
  {
   "cell_type": "markdown",
   "metadata": {},
   "source": [
    "Результаты вычислений показывают, что тяга в волновом двигателе с внутренним расходом энергии Ф.Ф.Менде (MenDrive) ненулевая и равна"
   ]
  },
  {
   "cell_type": "code",
   "execution_count": null,
   "metadata": {},
   "outputs": [],
   "source": [
    "(f_left_conductor + f_right_conductor + t_left_conductor + t_right_conductor).n()"
   ]
  },
  {
   "cell_type": "code",
   "execution_count": null,
   "metadata": {},
   "outputs": [],
   "source": [
    "(f_left_conductor + f_right_conductor + t_left_conductor + t_right_conductor - p_left_conductor - p_right_conductor).n()"
   ]
  },
  {
   "cell_type": "code",
   "execution_count": null,
   "metadata": {},
   "outputs": [],
   "source": [
    "# H^2/8 pi"
   ]
  },
  {
   "cell_type": "code",
   "execution_count": null,
   "metadata": {},
   "outputs": [],
   "source": [
    "(f_left_conductor + f_right_conductor).n()"
   ]
  },
  {
   "cell_type": "code",
   "execution_count": null,
   "metadata": {},
   "outputs": [],
   "source": [
    "(t_left_conductor + t_right_conductor).n()"
   ]
  },
  {
   "cell_type": "code",
   "execution_count": null,
   "metadata": {},
   "outputs": [],
   "source": [
    "(- p_left_conductor - p_right_conductor).n()"
   ]
  },
  {
   "cell_type": "code",
   "execution_count": null,
   "metadata": {},
   "outputs": [],
   "source": []
  },
  {
   "cell_type": "code",
   "execution_count": null,
   "metadata": {},
   "outputs": [],
   "source": [
    "field_energy = (A1_z_re^2 + A1_z_im^2).subs(coeffs_subs)\n",
    "field_energy"
   ]
  },
  {
   "cell_type": "code",
   "execution_count": null,
   "metadata": {},
   "outputs": [],
   "source": []
  },
  {
   "cell_type": "code",
   "execution_count": null,
   "metadata": {},
   "outputs": [],
   "source": [
    "(f_left_conductor + f_right_conductor).n()/(field_energy)"
   ]
  },
  {
   "cell_type": "code",
   "execution_count": null,
   "metadata": {},
   "outputs": [],
   "source": [
    "(t_left_conductor + t_right_conductor).n()/(field_energy)"
   ]
  },
  {
   "cell_type": "code",
   "execution_count": null,
   "metadata": {},
   "outputs": [],
   "source": [
    "(- p_left_conductor - p_right_conductor).n()/(field_energy)"
   ]
  },
  {
   "cell_type": "code",
   "execution_count": null,
   "metadata": {},
   "outputs": [],
   "source": [
    "(+ f_left_conductor + f_right_conductor \\\n",
    " + t_left_conductor + t_right_conductor \\\n",
    " - p_left_conductor - p_right_conductor).n()/(field_energy)"
   ]
  },
  {
   "cell_type": "code",
   "execution_count": null,
   "metadata": {},
   "outputs": [],
   "source": []
  },
  {
   "cell_type": "code",
   "execution_count": null,
   "metadata": {},
   "outputs": [],
   "source": [
    "#мощность выделения тепла в единице объёма\n",
    "#https://ru.wikipedia.org/wiki/%D0%97%D0%B0%D0%BA%D0%BE%D0%BD_%D0%94%D0%B6%D0%BE%D1%83%D0%BB%D1%8F_%E2%80%94_%D0%9B%D0%B5%D0%BD%D1%86%D0%B0\n",
    "# https://en.wikipedia.org/wiki/Joule_heating\n",
    "# additional 1/2 arises as result of integration on period\n",
    "# dPdV = E^2*sigma / 2\n",
    "# dPdS = integrate(E^2*sigma / 2, x)"
   ]
  },
  {
   "cell_type": "code",
   "execution_count": null,
   "metadata": {},
   "outputs": [],
   "source": [
    "wr = lambda x : sigma_r_d * (Ez_right_conductor_d(x=x).abs()^2 + Ex_right_conductor_d(x=x).abs()^2)"
   ]
  },
  {
   "cell_type": "code",
   "execution_count": null,
   "metadata": {},
   "outputs": [],
   "source": [
    "wrz = lambda x : sigma_r_d * Ez_right_conductor_d(x=x).abs()^2"
   ]
  },
  {
   "cell_type": "code",
   "execution_count": null,
   "metadata": {},
   "outputs": [],
   "source": [
    "wrx = lambda x : sigma_r_d * Ex_right_conductor_d(x=x).abs()^2"
   ]
  },
  {
   "cell_type": "code",
   "execution_count": null,
   "metadata": {},
   "outputs": [],
   "source": [
    "wl = lambda x : sigma_l_d * (Ez_left_conductor_d(x=x).abs()^2 + Ex_left_conductor_d(x=x).abs()^2)"
   ]
  },
  {
   "cell_type": "raw",
   "metadata": {},
   "source": [
    "from scipy import integrate as scipy_integrate\n",
    "w_r = scipy_integrate.quad(wr, 0, +Infinity)\n",
    "w_r\n",
    "\n",
    "#IntegrationWarning: The occurrence of roundoff error is detected, which prevents \n",
    "#  the requested tolerance from being achieved.  The error may be \n",
    "#  underestimated."
   ]
  },
  {
   "cell_type": "raw",
   "metadata": {},
   "source": [
    "from scipy import integrate as scipy_integrate\n",
    "w_rz = scipy_integrate.quad(wrz, 0, +Infinity)\n",
    "w_rz\n",
    "\n",
    "#IntegrationWarning: The occurrence of roundoff error is detected, which prevents \n",
    "#  the requested tolerance from being achieved.  The error may be \n",
    "#  underestimated."
   ]
  },
  {
   "cell_type": "code",
   "execution_count": null,
   "metadata": {},
   "outputs": [],
   "source": [
    "from scipy import integrate as scipy_integrate\n",
    "w_rx = scipy_integrate.quad(wrx, 0, +Infinity)\n",
    "w_rx"
   ]
  },
  {
   "cell_type": "code",
   "execution_count": null,
   "metadata": {},
   "outputs": [],
   "source": [
    "w_l = scipy_integrate.quad(wl, -Infinity, -h_conductor-A)\n",
    "w_l"
   ]
  },
  {
   "cell_type": "code",
   "execution_count": null,
   "metadata": {},
   "outputs": [],
   "source": [
    "W_l = w_l[0]\n",
    "W_l"
   ]
  },
  {
   "cell_type": "code",
   "execution_count": null,
   "metadata": {},
   "outputs": [],
   "source": [
    "W_r = integrate(sigma_r_d * (Ez_right_conductor_d(x=x).abs()^2 + Ex_right_conductor_d(x=x).abs()^2), (x, 0, +Infinity), algorithm = 'sympy').n()\n",
    "W_r"
   ]
  },
  {
   "cell_type": "raw",
   "metadata": {},
   "source": [
    "W_l = integrate(sigma_l_d * (Ez_left_conductor_d(x=x).abs()^2 + Ex_left_conductor_d(x=x).abs()^2), (x, -Infinity, -h_conductor-A), algorithm = 'sympy'  )\n",
    "# too long time\n",
    "W_l"
   ]
  },
  {
   "cell_type": "code",
   "execution_count": null,
   "metadata": {},
   "outputs": [],
   "source": [
    "W = W_r + W_l\n",
    "W"
   ]
  },
  {
   "cell_type": "code",
   "execution_count": null,
   "metadata": {},
   "outputs": [],
   "source": [
    "# F / P\n",
    "# dyne / (erg/s)\n",
    "\n",
    "# 1 erg  = 10^-7 joule\n",
    "# 1 dyne = 10^-5 N\n",
    "\n",
    "# 1 dyne / (erg/s) = 10^-5 / (10^-7) = 100 N/watt"
   ]
  },
  {
   "cell_type": "code",
   "execution_count": null,
   "metadata": {},
   "outputs": [],
   "source": [
    "(f_left_conductor + f_right_conductor).n()/(W)"
   ]
  },
  {
   "cell_type": "code",
   "execution_count": null,
   "metadata": {},
   "outputs": [],
   "source": [
    "(t_left_conductor + t_right_conductor).n()/(W)"
   ]
  },
  {
   "cell_type": "code",
   "execution_count": null,
   "metadata": {},
   "outputs": [],
   "source": [
    "(- p_left_conductor - p_right_conductor).n()/(W)"
   ]
  },
  {
   "cell_type": "code",
   "execution_count": null,
   "metadata": {},
   "outputs": [],
   "source": [
    "# N/watt"
   ]
  },
  {
   "cell_type": "code",
   "execution_count": null,
   "metadata": {},
   "outputs": [],
   "source": [
    "100*(+ f_left_conductor + f_right_conductor \\\n",
    " + t_left_conductor + t_right_conductor \\\n",
    " - p_left_conductor - p_right_conductor).n()/(W)"
   ]
  },
  {
   "cell_type": "code",
   "execution_count": null,
   "metadata": {},
   "outputs": [],
   "source": [
    "# N/kwatt"
   ]
  },
  {
   "cell_type": "code",
   "execution_count": null,
   "metadata": {},
   "outputs": [],
   "source": [
    "10^5*(+ f_left_conductor + f_right_conductor \\\n",
    " + t_left_conductor + t_right_conductor \\\n",
    " - p_left_conductor - p_right_conductor).n()/(W)"
   ]
  },
  {
   "cell_type": "markdown",
   "metadata": {},
   "source": [
    "положительный знак соответствует направлению тяги в сторону увеличения значений x"
   ]
  },
  {
   "cell_type": "code",
   "execution_count": null,
   "metadata": {},
   "outputs": [],
   "source": [
    "#Propulsion and Energy Forum\n",
    "#July 28-30, 2014, Cleveland, OH\n",
    "#50th AIAA/ASME/SAE/ASEE Joint Propulsion Conference\n",
    "#Anomalous Thrust Production from an RF Test Device\n",
    "#Measured on a Low-Thrust Torsion Pendulum\n",
    "#David A. Brady * , Harold G. White † , Paul March ‡ , James T. Lawrence § , and Frank J. Davies **\n",
    "#NASA Lyndon B. Johnson Space Center, Houston, Texas 77058\n",
    "\n",
    "\n",
    "#Tapered Cavity RF Evaluation and Testing, TE012 mode\n",
    "#Prior to the TM211 evaluations, COMSOL® analysis indicated that the TE012 was an effective thrust generation\n",
    "#mode for the tapered cavity thruster being evaluated, so this mode was explored early in the evaluation process.\n",
    "#Figure 22 shows a test run at the TE012 mode with an operating frequency of 1880.4 MHz. The measured quality\n",
    "#factor was ~22,000, with a COMSOL prediction of 21,817. The measured power applied to the test article was\n",
    "#measured to be 2.6 watts, and the (net) measured thrust was 55.4 micronewtons. With an input power of 2.6 watts,\n",
    "#correcting for the quality factor, the predicted thrust is 50 micronewtons. However, since the TE012 mode had\n",
    "#numerous other RF modes in very close proximity, it was impractical to repeatedly operate the system in this mode,\n",
    "#so the decision was made to evaluate the TM211 modes instead.\n",
    "\n",
    "#E. Tapered Cavity Testing: Summary of Results\n",
    "# Mode \n",
    "# Frequency (MHz)\n",
    "# Quality Factor, Q \n",
    "\n",
    "# Input Power (W) \n",
    "# Peak Thrust (μN) \n",
    "# Mean Thrust (μN) \n",
    "# Number of Test Runs\n",
    "# TM211 1932.6   7320  16.9  116.0   91.2  5\n",
    "# TM211 1936.7 18,100  16.7   54.1   50.1  2\n",
    "# TE012 1880.4 22,000   2.6   55.4   55.4  1\n",
    "\n",
    "# Harrington, Roger F. (1961). Time-Harmonic Electromagnetic Fields. McGraw-Hill. ISBN 9780070267459.\n",
    "\n",
    "# EEE TRANSACTIONS ON MICROWAVE THEORY AND TECHNIQUES, VOL. 54, NO. 4, APRIL 2006\n",
    "# Two-Resonator Method for Measurement of Dielectric Anisotropy in Multilayer SamplesPlamen I. Dankov, Member, IEEE\n",
    "# https://www.researchgate.net/publication/3131333_Two-resonator_method_for_measurement_of_dielectric_anisotropy_in_multilayer_samples"
   ]
  },
  {
   "cell_type": "code",
   "execution_count": null,
   "metadata": {},
   "outputs": [],
   "source": [
    "# they have obtained\n",
    "# 0,005396449704142\n",
    "# 0,003\n",
    "# 0,0213076923076923\n",
    "# N/kwatt"
   ]
  },
  {
   "cell_type": "code",
   "execution_count": null,
   "metadata": {},
   "outputs": [],
   "source": [
    "# test found solution with Maxwell equations"
   ]
  },
  {
   "cell_type": "markdown",
   "metadata": {},
   "source": [
    "$$rot\\,\\vec{E} = \\mu\\,\\frac{i\\,\\omega}{c}\\,\\vec{H}$$\n",
    "\n",
    "$$rot\\,\\vec{H} = \\frac{1}{c}\\frac{\\partial \\vec D}{\\partial t} + \\frac{4\\pi}{c} \\vec j = - \\frac{i\\,\\omega}{c} \\epsilon \\vec{E} + \\frac{4\\pi}{c}\\sigma \\vec E$$\n",
    "\n",
    "$$rot\\,rot\\,\\vec{E} = \\mu\\,\\frac{i\\,\\omega}{c}rot\\,\\vec{H}$$\n",
    "\n",
    "$$rot\\,rot\\,\\vec{E} = \\mu\\,\\frac{i\\,\\omega}{c}\\left(- \\frac{i\\,\\omega}{c} \\epsilon \\vec{E} + \\frac{4\\pi}{c}\\sigma \\vec E\\right)$$\n",
    "\n",
    "$$rot\\,rot\\,\\vec{E} = \\epsilon \\mu\\,\\frac{\\omega^2}{c^2} \\vec{E} + i\\,\\omega\\,\\sigma\\,\\mu\\,\\frac{4\\pi}{c^2} \\vec E$$\n",
    "\n",
    "$$rot\\,rot\\,\\vec{E} = grad\\,div\\,\\vec{E} - Laplasian\\,\\vec{E}$$\n",
    "\n",
    "$$Laplasian\\,\\vec{E} + \\epsilon \\mu \\frac{\\omega^2}{c^2}\\,\\vec{E} + i\\,\\omega\\,\\sigma\\,\\mu\\,\\frac{4\\pi}{c^2} \\vec E - grad\\,div\\,\\vec{E} = 0$$"
   ]
  },
  {
   "cell_type": "code",
   "execution_count": null,
   "metadata": {},
   "outputs": [],
   "source": [
    "# уравнение Максвелла для тока смещения\n",
    "# rot_H   = - I * epsilon * omega / c * E\n",
    "# rot_H_x = diff(H_z, y) - diff(H_y, z)\n",
    "# rot_H_y = diff(H_x, z) - diff(H_z, x)\n",
    "# rot_H_z = diff(H_y, x) - diff(H_x, y)"
   ]
  },
  {
   "cell_type": "code",
   "execution_count": null,
   "metadata": {},
   "outputs": [],
   "source": [
    "rot_H_vacuum_x_d = - diff(Hy_vacuum_d(x=x)*e^(I*k_z*z), z).subs(k_z == kz + I * sz).subs(k_z_sol)\n",
    "rot_H_vacuum_y_d =   0\n",
    "rot_H_vacuum_z_d =   diff(Hy_vacuum_d(x=x)*e^(I*k_z*z), x).subs(k_z == kz + I * sz).subs(k_z_sol)"
   ]
  },
  {
   "cell_type": "code",
   "execution_count": null,
   "metadata": {},
   "outputs": [],
   "source": [
    "eq_rot_H_vacuum_x_d = rot_H_vacuum_x_d == \\\n",
    "(-I*omega/c*Ex_vacuum_d(x=x)*e^(I*k_z*z)).subs(k_z==kz+I*sz).subs(k_z_sol).subs(digit_values)"
   ]
  },
  {
   "cell_type": "code",
   "execution_count": null,
   "metadata": {},
   "outputs": [],
   "source": [
    "eq_rot_H_vacuum_z_d = rot_H_vacuum_z_d == \\\n",
    "(-I*omega/c*Ez_vacuum_d(x=x)*e^(I*k_z*z)).subs(k_z==kz+I*sz).subs(k_z_sol).subs(digit_values)"
   ]
  },
  {
   "cell_type": "code",
   "execution_count": null,
   "metadata": {},
   "outputs": [],
   "source": []
  },
  {
   "cell_type": "code",
   "execution_count": null,
   "metadata": {},
   "outputs": [],
   "source": [
    "(eq_rot_H_vacuum_x_d.rhs() / eq_rot_H_vacuum_x_d.lhs()).n()"
   ]
  },
  {
   "cell_type": "code",
   "execution_count": null,
   "metadata": {},
   "outputs": [],
   "source": [
    "plot((eq_rot_H_vacuum_z_d.rhs() / eq_rot_H_vacuum_z_d.lhs()).real(), (x, -A, 0))"
   ]
  },
  {
   "cell_type": "code",
   "execution_count": null,
   "metadata": {},
   "outputs": [],
   "source": [
    "plt =  plot(eq_rot_H_vacuum_z_d.rhs().real().subs(z == 0), (x, -A, A))\n",
    "plt += plot(eq_rot_H_vacuum_z_d.lhs().real().subs(z == 0), (x, -A, A))\n",
    "plt.show()"
   ]
  },
  {
   "cell_type": "code",
   "execution_count": null,
   "metadata": {},
   "outputs": [],
   "source": [
    "plot((eq_rot_H_vacuum_z_d.rhs() / eq_rot_H_vacuum_z_d.lhs()).imag(), (x, -A, A))"
   ]
  },
  {
   "cell_type": "code",
   "execution_count": null,
   "metadata": {},
   "outputs": [],
   "source": [
    "plt = plot(eq_rot_H_vacuum_z_d.rhs().imag().subs(z == 0), (x, -A, A))\n",
    "plt += plot(eq_rot_H_vacuum_z_d.lhs().imag().subs(z == 0), (x, -A, A))\n",
    "plt.show()"
   ]
  },
  {
   "cell_type": "code",
   "execution_count": null,
   "metadata": {},
   "outputs": [],
   "source": []
  },
  {
   "cell_type": "markdown",
   "metadata": {},
   "source": [
    "$$rot\\,\\vec{H} = \\frac{1}{c}\\frac{\\partial \\vec D}{\\partial t} + \\frac{4\\pi}{c} \\vec j = - \\frac{i\\,\\omega}{c} \\epsilon \\vec{E} + \\frac{4\\pi}{c}\\sigma \\vec E$$"
   ]
  },
  {
   "cell_type": "code",
   "execution_count": null,
   "metadata": {},
   "outputs": [],
   "source": [
    "# уравнение Максвелла для тока смещения\n",
    "# rot_H   = - I * epsilon * omega / c * E + 4 * pi / c * sigma * E\n",
    "# rot_H_x = diff(H_z, y) - diff(H_y, z)\n",
    "# rot_H_y = diff(H_x, z) - diff(H_z, x)\n",
    "# rot_H_z = diff(H_y, x) - diff(H_x, y)"
   ]
  },
  {
   "cell_type": "code",
   "execution_count": null,
   "metadata": {},
   "outputs": [],
   "source": [
    "rot_H_conductor_x_d = - diff(Hy_bad_conductor_d(x=x)*e^(I*k_z*z), z).subs(k_z == kz + I * sz).subs(k_z_sol)\n",
    "rot_H_conductor_y_d =   0\n",
    "rot_H_conductor_z_d =   diff(Hy_bad_conductor_d(x=x)*e^(I*k_z*z), x).subs(k_z == kz + I * sz).subs(k_z_sol)"
   ]
  },
  {
   "cell_type": "code",
   "execution_count": null,
   "metadata": {},
   "outputs": [],
   "source": [
    "Hy_bad_conductor = c * (eq_8_subs3.rhs()*kappa        / (mu  *omega))\n",
    "Hy_vacuum        = c * (eq_6_subs3.rhs()*kappa_vacuum / (mu_0*omega))"
   ]
  },
  {
   "cell_type": "code",
   "execution_count": null,
   "metadata": {},
   "outputs": [],
   "source": [
    "rot_H_conductor_x = - diff(Hy_bad_conductor(x=x)*e^(I*k_z*z), z)\n",
    "rot_H_conductor_y =   0\n",
    "rot_H_conductor_z =   diff(Hy_bad_conductor(x=x)*e^(I*k_z*z), x)"
   ]
  },
  {
   "cell_type": "code",
   "execution_count": null,
   "metadata": {},
   "outputs": [],
   "source": [
    "eq_rot_H_conductor_x_d = rot_H_conductor_x_d == \\\n",
    "((-I*epsilon_complex*omega/c) * Ex_bad_conductor_d(x=x)*e^(I*k_z*z)).subs(k_z == kz + I * sz).subs(k_z_sol).subs(digit_values)"
   ]
  },
  {
   "cell_type": "code",
   "execution_count": null,
   "metadata": {},
   "outputs": [],
   "source": [
    "eq_rot_H_conductor_x = rot_H_conductor_x == \\\n",
    "((-I*epsilon_complex*omega/c) * Ex_bad_conductor(x=x)*e^(I*k_z*z))#.subs(k_z == kz + I * sz).subs(k_z_sol).subs(digit_values)"
   ]
  },
  {
   "cell_type": "code",
   "execution_count": null,
   "metadata": {},
   "outputs": [],
   "source": []
  },
  {
   "cell_type": "code",
   "execution_count": null,
   "metadata": {},
   "outputs": [],
   "source": [
    "(eq_rot_H_conductor_x_d.lhs() / eq_rot_H_conductor_x_d.rhs()).n()"
   ]
  },
  {
   "cell_type": "code",
   "execution_count": null,
   "metadata": {},
   "outputs": [],
   "source": [
    "(eq_rot_H_conductor_x_d.lhs() / eq_rot_H_conductor_x_d.rhs()).abs().n()"
   ]
  },
  {
   "cell_type": "code",
   "execution_count": null,
   "metadata": {},
   "outputs": [],
   "source": [
    "(eq_rot_H_conductor_z_d.lhs() / eq_rot_H_conductor_z_d.rhs()).n()"
   ]
  },
  {
   "cell_type": "code",
   "execution_count": null,
   "metadata": {},
   "outputs": [],
   "source": []
  },
  {
   "cell_type": "code",
   "execution_count": null,
   "metadata": {},
   "outputs": [],
   "source": [
    "Ez_vacuum_d (x=x).variables(), Ez_bad_conductor_d (x=x).variables()"
   ]
  },
  {
   "cell_type": "code",
   "execution_count": null,
   "metadata": {},
   "outputs": [],
   "source": [
    "Ex_vacuum_d (x=x).variables(), Ex_bad_conductor_d (x=x).variables()"
   ]
  },
  {
   "cell_type": "markdown",
   "metadata": {},
   "source": [
    "$$rot\\,\\vec{E} = \\mu\\,\\frac{i\\,\\omega}{c}\\,\\vec{H}$$"
   ]
  },
  {
   "cell_type": "code",
   "execution_count": null,
   "metadata": {},
   "outputs": [],
   "source": [
    "# уравнение Максвелла для\n",
    "# rot_E   = I * mu * omega / c * H\n",
    "# rot_E_x = diff(E_z, y) - diff(E_y, z)\n",
    "# rot_E_y = diff(E_x, z) - diff(E_z, x)\n",
    "# rot_E_z = diff(E_y, x) - diff(E_x, y)"
   ]
  },
  {
   "cell_type": "code",
   "execution_count": null,
   "metadata": {},
   "outputs": [],
   "source": [
    "rot_E_vacuum_x_d = diff(Ez_vacuum_d(x=x)*e^(I*k_z*z), y)\n",
    "rot_E_vacuum_y_d = diff(Ex_vacuum_d(x=x)*e^(I*k_z*z), z) - diff(Ez_vacuum_d(x=x)*e^(I*k_z*z), x)\n",
    "rot_E_vacuum_z_d = - diff(Ex_vacuum_d(x=x)*e^(I*k_z*z), y)"
   ]
  },
  {
   "cell_type": "code",
   "execution_count": null,
   "metadata": {},
   "outputs": [],
   "source": [
    "eq_rot_E_vacuum_x_d = rot_E_vacuum_x_d == \\\n",
    "(I * omega / c * 0)"
   ]
  },
  {
   "cell_type": "code",
   "execution_count": null,
   "metadata": {},
   "outputs": [],
   "source": [
    "eq_rot_E_vacuum_y_d = (rot_E_vacuum_y_d == \\\n",
    "I * mu * omega / c * Hy_vacuum_d(x=x)*e^(I*k_z*z)).subs(k_z == kz + I * sz).subs(k_z_sol).subs(digit_values)"
   ]
  },
  {
   "cell_type": "code",
   "execution_count": null,
   "metadata": {},
   "outputs": [],
   "source": [
    "eq_rot_E_vacuum_z_d = rot_E_vacuum_z_d == \\\n",
    "(I * mu * omega / c * 0)"
   ]
  },
  {
   "cell_type": "code",
   "execution_count": null,
   "metadata": {},
   "outputs": [],
   "source": []
  },
  {
   "cell_type": "code",
   "execution_count": null,
   "metadata": {},
   "outputs": [],
   "source": [
    "(eq_rot_E_vacuum_y_d.rhs() / eq_rot_E_vacuum_y_d.lhs()).variables()"
   ]
  },
  {
   "cell_type": "code",
   "execution_count": null,
   "metadata": {},
   "outputs": [],
   "source": [
    "plt = plot(eq_rot_E_vacuum_y_d.rhs().real().subs(z == 0), (x, -A, A))\n",
    "plt += plot(eq_rot_E_vacuum_y_d.lhs().real().subs(z == 0), (x, -A, A))\n",
    "plt.show()"
   ]
  },
  {
   "cell_type": "code",
   "execution_count": null,
   "metadata": {},
   "outputs": [],
   "source": [
    "plt = plot(eq_rot_E_vacuum_y_d.rhs().imag().subs(z == 0), (x, -A, A))\n",
    "plt += plot(eq_rot_E_vacuum_y_d.lhs().imag().subs(z == 0), (x, -A, A))\n",
    "plt.show()"
   ]
  },
  {
   "cell_type": "code",
   "execution_count": null,
   "metadata": {},
   "outputs": [],
   "source": [
    "plt = plot(eq_rot_E_vacuum_y_d.rhs().abs().subs(z == 0), (x, -A, A))\n",
    "plt += plot(eq_rot_E_vacuum_y_d.lhs().abs().subs(z == 0), (x, -A, A  ))\n",
    "plt.show()"
   ]
  },
  {
   "cell_type": "code",
   "execution_count": null,
   "metadata": {},
   "outputs": [],
   "source": []
  },
  {
   "cell_type": "code",
   "execution_count": null,
   "metadata": {},
   "outputs": [],
   "source": [
    "# уравнение Максвелла для\n",
    "# rot_E   = I * mu * omega / c * H\n",
    "# rot_E_x = diff(E_z, y) - diff(E_y, z)\n",
    "# rot_E_y = diff(E_x, z) - diff(E_z, x)\n",
    "# rot_E_z = diff(E_y, x) - diff(E_x, y)"
   ]
  },
  {
   "cell_type": "code",
   "execution_count": null,
   "metadata": {},
   "outputs": [],
   "source": [
    "rot_E_conductor_x_d = diff(Ez_bad_conductor_d(x=x)*e^(I*k_z*z), y)\n",
    "rot_E_conductor_y_d = diff(Ex_bad_conductor_d(x=x)*e^(I*k_z*z), z) - diff(Ez_bad_conductor_d(x=x)*e^(I*k_z*z), x)\n",
    "rot_E_conductor_z_d = - diff(Ex_bad_conductor_d(x=x)*e^(I*k_z*z), y)"
   ]
  },
  {
   "cell_type": "code",
   "execution_count": null,
   "metadata": {},
   "outputs": [],
   "source": [
    "eq_rot_E_conductor_x_d = rot_E_conductor_x_d == \\\n",
    "(I * mu * omega / c * 0)"
   ]
  },
  {
   "cell_type": "code",
   "execution_count": null,
   "metadata": {},
   "outputs": [],
   "source": [
    "eq_rot_E_conductor_y_d = (rot_E_conductor_y_d == \\\n",
    "I * mu * omega / c * Hy_bad_conductor_d(x)*e^(I*k_z*z)).subs(k_z == kz + I * sz).subs(k_z_sol).subs(digit_values)"
   ]
  },
  {
   "cell_type": "code",
   "execution_count": null,
   "metadata": {},
   "outputs": [],
   "source": [
    "eq_rot_E_conductor_z_d = rot_E_conductor_z_d == \\\n",
    "(I * mu * omega / c * 0)"
   ]
  },
  {
   "cell_type": "code",
   "execution_count": null,
   "metadata": {},
   "outputs": [],
   "source": []
  },
  {
   "cell_type": "code",
   "execution_count": null,
   "metadata": {},
   "outputs": [],
   "source": [
    "(eq_rot_E_conductor_y_d.rhs() / eq_rot_E_conductor_y_d.lhs()).variables()"
   ]
  },
  {
   "cell_type": "code",
   "execution_count": null,
   "metadata": {},
   "outputs": [],
   "source": []
  },
  {
   "cell_type": "code",
   "execution_count": null,
   "metadata": {},
   "outputs": [],
   "source": [
    "plt = plot(eq_rot_E_conductor_y_d.rhs().real().subs(z == 0), (x, A, A+h_conductor))\n",
    "plt += plot(eq_rot_E_conductor_y_d.lhs().real().subs(z == 0), (x, A, A+h_conductor))\n",
    "plt.show()"
   ]
  },
  {
   "cell_type": "code",
   "execution_count": null,
   "metadata": {},
   "outputs": [],
   "source": [
    "plt = plot(eq_rot_E_conductor_y_d.rhs().imag().subs(z == 0), (x, A, A+h_conductor))\n",
    "plt += plot(eq_rot_E_conductor_y_d.lhs().imag().subs(z == 0), (x, A, A+h_conductor))\n",
    "plt.show()"
   ]
  },
  {
   "cell_type": "code",
   "execution_count": null,
   "metadata": {},
   "outputs": [],
   "source": []
  },
  {
   "cell_type": "code",
   "execution_count": null,
   "metadata": {},
   "outputs": [],
   "source": [
    "#test found solution with boundary conditions"
   ]
  },
  {
   "cell_type": "code",
   "execution_count": null,
   "metadata": {},
   "outputs": [],
   "source": []
  },
  {
   "cell_type": "code",
   "execution_count": null,
   "metadata": {},
   "outputs": [],
   "source": [
    "# граничные условия на границе идеального проводника и вакуума внутри резонатора\n",
    "# тангенциальная компонента электрического поля\n",
    "eqEz_0_d  = Ez_vacuum_d (x=-A) == 0\n",
    "#eqEy_0_d  = even_E_inner_vacuum_y_d (a) == 0\n",
    "\n",
    "print (\"eqEz_0_d.real = \")\n",
    "display(Math(latex(eqEz_0_d.lhs().real().n())))\n",
    "print (\"eqEz_0_d.imag = \")\n",
    "display(Math(latex(eqEz_0_d.lhs().imag().n())))"
   ]
  },
  {
   "cell_type": "code",
   "execution_count": null,
   "metadata": {},
   "outputs": [],
   "source": [
    "# граничные условия на границе вакуума внутри резонатора и проводящего металла с потерями\n",
    "# тангенциальная компонента электрического поля\n",
    "eqEz_a_d  = Ez_vacuum_d (x=A) == Ez_bad_conductor_d (x=A)\n",
    "#eqEy_a  = E_inner_vacuum_y (a) == E_bad_conductor_y (a)\n",
    "\n",
    "print (\"eqEz_a_d = \")\n",
    "display(Math(latex(eqEz_a_d)))"
   ]
  },
  {
   "cell_type": "code",
   "execution_count": null,
   "metadata": {},
   "outputs": [],
   "source": [
    "# нормальная компонента электрического смещения\n",
    "eqDx_a_d  = Ex_vacuum_d (x=a) == (Ex_bad_conductor_d (x=a) * epsilon_complex).subs(digit_values)\n",
    "\n",
    "print (\"eqDx_a_d =\")\n",
    "display(Math(latex(eqDx_a_d.lhs().n())))\n",
    "display(Math(latex(eqDx_a_d.rhs().n())))"
   ]
  },
  {
   "cell_type": "code",
   "execution_count": null,
   "metadata": {},
   "outputs": [],
   "source": [
    "# тангенциальная компонента напряженности магнитного поля\n",
    "#eqHz_a_d  = even_H_bad_conductor_z_d (A)  == even_H_inner_vacuum_z_d (A)\n",
    "eqHy_a_d  = Hy_bad_conductor_d (x=A)  == Hy_vacuum_d (x=A)\n",
    "\n",
    "print (\"eqHy_a_d =\")\n",
    "display(Math(latex(eqHy_a_d.lhs().n())))\n",
    "display(Math(latex(eqHy_a_d.rhs().n())))"
   ]
  },
  {
   "cell_type": "raw",
   "metadata": {},
   "source": [
    "# нормальная компонента индукции магнитного поля\n",
    "eqBx_a  = mu * Hx_bad_conductor_d (a)  == Hx_inner_vacuum_d (a)\n",
    "\n",
    "print (\"eqBx_a =\")\n",
    "display(Math(latex(eqBx_a)))"
   ]
  },
  {
   "cell_type": "code",
   "execution_count": null,
   "metadata": {},
   "outputs": [],
   "source": []
  }
 ],
 "metadata": {
  "kernelspec": {
   "display_name": "SageMath 9.4.rc2",
   "language": "sage",
   "name": "sagemath"
  },
  "language_info": {
   "codemirror_mode": {
    "name": "ipython",
    "version": 3
   },
   "file_extension": ".py",
   "mimetype": "text/x-python",
   "name": "python",
   "nbconvert_exporter": "python",
   "pygments_lexer": "ipython3",
   "version": "3.9.5"
  }
 },
 "nbformat": 4,
 "nbformat_minor": 4
}
