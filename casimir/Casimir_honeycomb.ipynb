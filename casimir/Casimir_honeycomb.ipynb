{
 "cells": [
  {
   "cell_type": "markdown",
   "metadata": {},
   "source": [
    "https://www.dwc.knaw.nl/DL/publications/PU00018547.pdf\n",
    "\n",
    "Mathematics.\n",
    "\n",
    "# On the force to perfectly conducting honeycomb on a plate.\n",
    "\n",
    "By A. Ju. Drozdov\n",
    "\n",
    "(Feb 14. 2021. - Feb 09. 2022) "
   ]
  },
  {
   "cell_type": "markdown",
   "metadata": {},
   "source": [
    "Let us consider a cubic cavity of volume $L^3$ bounded by perfectly conducting walls and let a perfectly conducting square plate with side $L$ be\n",
    "placed in this cavity parallel to the $xy$ face and let us compare the\n",
    "situation in whieh this plate is at a very large, say $L/2$ distance a from the $xy$ face. \n",
    "\n",
    "One side of this perfectly conducting square plate is a pure plane and other is covered by perfectly conducting honeycomb.\n",
    "\n",
    "On both sided of the the plate\n",
    "expressions $\\frac{1}{2}\\sum\\,\\hbar\\omega$ where the summation extends over all possible\n",
    "resonance frequencies of the cavity $L/2\\times L\\times L$ (large cavity beetween pure plane and $xy$ face) and the cavity $L/2\\times a\\times a$ (small cavity, one honeycomb) are divergent and devoid of physical\n",
    "meaning but the difference between these sums on the opposite sides,\n",
    "$\\frac{1}{2\\,V_{I}}\\left(\\sum\\,\\,\\hbar\\omega\\right)_{I} - \\frac{1}{2\\,V_{II}}\\left(\\sum\\,\\,\\hbar\\omega\\right)_{II}$, will be shown to have a weIl defined value and this\n",
    "value will be interpreted as the interaction between the plate and the both\n",
    "$xy$ faces."
   ]
  },
  {
   "cell_type": "markdown",
   "metadata": {},
   "source": [
    "The possible vibrations of the cavities defined by "
   ]
  },
  {
   "cell_type": "markdown",
   "metadata": {},
   "source": [
    "$0<=x<=L$, $0<=y<=L$, $0<=z<=L/2$ (large cavity beetween pure plane and $xy$ face)"
   ]
  },
  {
   "cell_type": "markdown",
   "metadata": {},
   "source": [
    "and"
   ]
  },
  {
   "cell_type": "markdown",
   "metadata": {},
   "source": [
    "$0<=x<=a$, $0<=y<=a$, $0<=z<=L/2$ (small cavity, one honeycomb)"
   ]
  },
  {
   "cell_type": "markdown",
   "metadata": {},
   "source": [
    "have wave numbers "
   ]
  },
  {
   "cell_type": "markdown",
   "metadata": {},
   "source": [
    "$k_x = \\frac{\\pi}{L}\\,n_x$, $k_y = \\frac{\\pi}{L}\\,n_y$, $k_z = \\frac{\\pi}{L/2}\\,n_z$ (large cavity beetween pure plane and $xy$ face),"
   ]
  },
  {
   "cell_type": "markdown",
   "metadata": {},
   "source": [
    "and"
   ]
  },
  {
   "cell_type": "markdown",
   "metadata": {},
   "source": [
    "$k_x = \\frac{\\pi}{a}\\,n_x$, $k_y = \\frac{\\pi}{a}\\,n_y$, $k_z = \\frac{\\pi}{L/2}\\,n_z$ (small cavity, one honeycomb),\n",
    "\n",
    "where $n_x$. $n_y$, $n_z$:\n",
    "\n",
    "are positive integers;"
   ]
  },
  {
   "cell_type": "markdown",
   "metadata": {},
   "source": [
    "$k = \\sqrt{k_x^2+k_y^2+k_z^2} = \\sqrt{\\kappa^2+k_z^2}$. "
   ]
  },
  {
   "cell_type": "markdown",
   "metadata": {},
   "source": [
    "$E = \\frac{1}{2}\\sum\\,\\hbar\\omega = \\hbar\\,c\\frac{1}{2}\\sum\\limits_{n_x}^{}\\sum\\limits_{n_y}^{}\\sum\\limits_{n_z}^{}k$"
   ]
  },
  {
   "cell_type": "markdown",
   "metadata": {},
   "source": [
    "To every $k_x$, $k_y$, $k_z$ correspond two standing waves unless one of the $n_i$\n",
    "is zero, when there is only one."
   ]
  },
  {
   "cell_type": "markdown",
   "metadata": {},
   "source": [
    "In case of one honeycomb cavity for $k_z$ this is without importance since\n",
    "for very large $L/2$ we may regard $k_z$ as continuous variable. Thus we\n",
    "find "
   ]
  },
  {
   "cell_type": "markdown",
   "metadata": {},
   "source": [
    "$\\frac{1}{2}\\sum\\,\\hbar\\omega = \\hbar\\,c\\frac{1}{2}\\int\\limits_{0}^{\\infty}\\left[{\\sqrt{k_z^2}+2\\sum\\limits_{n_x=1}^{\\infty}\\sum\\limits_{n_y=1}^{\\infty}\\sqrt{n_x^2\\frac{\\pi^2}{a^2}+n_y^2\\frac{\\pi^2}{a^2}+k_z^2}}\\right]d{n_z}$  (small cavity, one honeycomb),"
   ]
  },
  {
   "cell_type": "markdown",
   "metadata": {},
   "source": [
    "$dn_z = \\frac{L/2}{\\pi}\\,dk_z$,"
   ]
  },
  {
   "cell_type": "markdown",
   "metadata": {},
   "source": [
    "$\\frac{1}{2\\,V}\\sum\\,\\hbar\\omega = \\frac{1}{a^2\\,L/2}\\hbar\\,c\\frac{1}{2}\\int\\limits_{0}^{\\infty}\\left[{\\sqrt{k_z^2}+2\\sum\\limits_{n_x=1}^{\\infty}\\sum\\limits_{n_y=1}^{\\infty}\\sqrt{n_x^2\\frac{\\pi^2}{a^2}+n_y^2\\frac{\\pi^2}{a^2}+k_z^2}}\\right]\\frac{L/2}{\\pi}\\,dk_z$  (small cavity, one honeycomb),"
   ]
  },
  {
   "cell_type": "markdown",
   "metadata": {},
   "source": [
    "$\\frac{1}{2\\,V}\\sum\\,\\hbar\\omega = \\frac{1}{a^2\\,\\pi}\\hbar\\,c\\int\\limits_{0}^{\\infty}\\left[{\\frac{1}{2}\\sqrt{k_z^2}+\\sum\\limits_{n_x=1}^{\\infty}\\sum\\limits_{n_y=1}^{\\infty}\\sqrt{n_x^2\\frac{\\pi^2}{a^2}+n_y^2\\frac{\\pi^2}{a^2}+k_z^2}}\\right]\\,dk_z$  (small cavity, one honeycomb),"
   ]
  },
  {
   "cell_type": "markdown",
   "metadata": {},
   "source": [
    "$\\frac{1}{2\\,V}\\sum\\,\\hbar\\omega = \\frac{1}{a^2\\,\\pi}\\hbar\\,c\\int\\limits_{0}^{\\infty}\\left[{\\sum\\limits_{n_x=(0)1}^{\\infty}\\sum\\limits_{n_y=(0)1}^{\\infty}\\sqrt{n_x^2\\frac{\\pi^2}{a^2}+n_y^2\\frac{\\pi^2}{a^2}+k_z^2}}\\right]\\,dk_z$  (small cavity, one honeycomb),"
   ]
  },
  {
   "cell_type": "markdown",
   "metadata": {},
   "source": [
    "where the notation $\\left(0\\right) 1$ is meant to indicate that the term with $n_x = 0$ and $n_y = 0$\n",
    "has to be multiplied by $\\frac{1}{2}$. "
   ]
  },
  {
   "cell_type": "markdown",
   "metadata": {},
   "source": [
    "$\\frac{1}{2\\,V}\\sum\\,\\hbar\\omega = \\frac{1}{a^2\\,\\pi}\\hbar\\,c\\sum\\limits_{n_x=(0)1}^{\\infty}\\sum\\limits_{n_y=(0)1}^{\\infty}\\left[\\int\\limits_{0}^{\\infty}\\sqrt{n_x^2\\frac{\\pi^2}{a^2}+n_y^2\\frac{\\pi^2}{a^2}+k_z^2}\\,dk_z\\right]$  (small cavity, one honeycomb),"
   ]
  },
  {
   "cell_type": "code",
   "execution_count": null,
   "metadata": {},
   "outputs": [],
   "source": []
  },
  {
   "cell_type": "markdown",
   "metadata": {},
   "source": [
    "And in case of large cavity for $k_x$, $k_y$ this is without importance since\n",
    "for very large $L$ we may regard $k_x$, $k_y$ as continuous variables. Thus we\n",
    "find "
   ]
  },
  {
   "cell_type": "markdown",
   "metadata": {},
   "source": [
    "$\\frac{1}{2}\\sum\\,\\hbar\\omega = \\hbar\\,c\\frac{1}{2}\\int\\limits_{0}^{\\infty}\\int\\limits_{0}^{\\infty}\\left[{\\sqrt{k_x^2+k_y^2}+2\\sum\\limits_{n_z=1}^{\\infty}\\sqrt{n_z^2\\frac{\\pi^2}{(L/2)^2}+k_x^2+k_y^2}}\\right]d{n_x}d{n_y}$ (large cavity beetween pure plane and $xy$ face),"
   ]
  },
  {
   "cell_type": "markdown",
   "metadata": {},
   "source": [
    "For very large $L/2$ also this last summation may\n",
    "be replaced by an integral and it is therefore easily seen that our interaction energy is given by "
   ]
  },
  {
   "cell_type": "markdown",
   "metadata": {},
   "source": [
    "$\\frac{1}{2}\\sum\\,\\hbar\\omega = \\hbar\\,c\\int\\limits_{0}^{\\infty}\\int\\limits_{0}^{\\infty}\\int\\limits_{0}^{\\infty}\\sqrt{k_z^2+k_x^2+k_y^2}\\,d{n_x}\\,d{n_y}\\,d{n_z}$ (large cavity beetween pure plane and $xy$ face),"
   ]
  },
  {
   "cell_type": "markdown",
   "metadata": {},
   "source": [
    "$dn_x = \\frac{L}{\\pi}\\,dk_x$, $dn_y = \\frac{L}{\\pi}\\,dk_y$, $dn_z = \\frac{L/2}{\\pi}\\,dk_z$,"
   ]
  },
  {
   "cell_type": "markdown",
   "metadata": {},
   "source": [
    "$\\frac{1}{2\\,V}\\sum\\,\\hbar\\omega = \\frac{1}{L^3/2}\\hbar\\,c\\int\\limits_{0}^{\\infty}\\int\\limits_{0}^{\\infty}\\int\\limits_{0}^{\\infty}\\sqrt{k_z^2+k_x^2+k_y^2}\\,dn_x\\,dn_y\\,\\frac{L/2}{\\pi}\\,dk_z$ (large cavity beetween pure plane and $xy$ face),"
   ]
  },
  {
   "cell_type": "markdown",
   "metadata": {},
   "source": [
    "$\\frac{1}{2\\,V}\\sum\\,\\hbar\\omega = \\frac{1}{L^2\\,\\pi}\\hbar\\,c\\int\\limits_{0}^{\\infty}\\int\\limits_{0}^{\\infty}\\left[\\,\\int\\limits_{0}^{\\infty}\\sqrt{k_z^2+k_x^2+k_y^2}\\,dk_z\\right]\\,dn_x\\,dn_y$ (large cavity beetween pure plane and $xy$ face),"
   ]
  },
  {
   "cell_type": "code",
   "execution_count": null,
   "metadata": {},
   "outputs": [],
   "source": []
  },
  {
   "cell_type": "markdown",
   "metadata": {},
   "source": [
    "$\\frac{1}{2\\,V}\\sum\\,\\hbar\\omega = \\frac{1}{a^2\\,\\pi}\\hbar\\,c\\sum\\limits_{n_x=(0)1}^{\\infty}\\sum\\limits_{n_y=(0)1}^{\\infty}\\left[\\,\\int\\limits_{0}^{\\infty}\\sqrt{n_x^2\\frac{\\pi^2}{a^2}+n_y^2\\frac{\\pi^2}{a^2}+k_z^2}\\,dk_z\\right]$  (small cavity, one honeycomb),"
   ]
  },
  {
   "cell_type": "markdown",
   "metadata": {},
   "source": [
    "$\\frac{1}{2\\,V}\\sum\\,\\hbar\\omega = \\frac{1}{L^2\\,\\pi}\\hbar\\,c\\int\\limits_{0}^{\\infty}\\int\\limits_{0}^{\\infty}\\left[\\,\\int\\limits_{0}^{\\infty}\\sqrt{k_x^2+k_y^2+k_z^2}\\,dk_z\\right]\\,dn_x\\,dn_y$ (large cavity beetween pure plane and $xy$ face),"
   ]
  },
  {
   "cell_type": "markdown",
   "metadata": {},
   "source": [
    "$\\frac{1}{2\\,V}\\sum\\,\\hbar\\omega = \\frac{1}{L^2\\,\\pi}\\hbar\\,c\\int\\limits_{0}^{\\infty}\\int\\limits_{0}^{\\infty}\\left[\\,\\int\\limits_{0}^{\\infty}\\sqrt{k_x^2+k_y^2+k_z^2}\\,dk_z\\right]\\,\\left(\\frac{L}{\\pi}dk_x\\right)\\,\\left(\\frac{L}{\\pi}dk_y\\right)$ (large cavity beetween pure plane and $xy$ face),"
   ]
  },
  {
   "cell_type": "markdown",
   "metadata": {},
   "source": [
    "$\\frac{a^2}{2\\,V}\\sum\\,\\hbar\\omega = \\frac{1}{\\pi}\\hbar\\,c\\int\\limits_{0}^{\\infty}\\int\\limits_{0}^{\\infty}\\left[\\,\\int\\limits_{0}^{\\infty}\\sqrt{k_x^2+k_y^2+k_z^2}\\,dk_z\\right]\\,\\left(\\frac{a}{\\pi}dk_x\\right)\\,\\left(\\frac{a}{\\pi}dk_y\\right)$ (large cavity beetween pure plane and $xy$ face),"
   ]
  },
  {
   "cell_type": "markdown",
   "metadata": {},
   "source": [
    "$\\frac{1}{2\\,V}\\sum\\,\\hbar\\omega = \\frac{1}{a^2\\,\\pi}\\hbar\\,c\\int\\limits_{0}^{\\infty}\\int\\limits_{0}^{\\infty}\\left[\\,\\int\\limits_{0}^{\\infty}\\sqrt{k_x^2+k_y^2+k_z^2}\\,dk_z\\right]\\,\\left(\\frac{a}{\\pi}dk_x\\right)\\,\\left(\\frac{a}{\\pi}dk_y\\right)$ (large cavity beetween pure plane and $xy$ face),"
   ]
  },
  {
   "cell_type": "markdown",
   "metadata": {},
   "source": [
    "it is therefore easily seen that our interaction energy is given by "
   ]
  },
  {
   "cell_type": "markdown",
   "metadata": {},
   "source": [
    "$\\delta\\,\\frac{E}{V} = \\frac{1}{a^2\\,\\pi}\\hbar\\,c\\left\\{\\sum\\limits_{n_x=(0)1}^{\\infty}\\sum\\limits_{n_y=(0)1}^{\\infty}\\left[\\,\\int\\limits_{0}^{\\infty}\\sqrt{n_x^2\\frac{\\pi^2}{a^2}+n_y^2\\frac{\\pi^2}{a^2}+k_z^2}\\,dk_z\\right] - \\int\\limits_{0}^{\\infty}\\int\\limits_{0}^{\\infty}\\left[\\,\\int\\limits_{0}^{\\infty}\\sqrt{k_x^2+k_y^2+k_z^2}\\,dk_z\\right]\\,\\left(\\frac{a}{\\pi}dk_x\\right)\\,\\left(\\frac{a}{\\pi}dk_y\\right)\\right\\}$"
   ]
  },
  {
   "cell_type": "markdown",
   "metadata": {},
   "source": [
    "$\\delta\\,\\frac{E}{V} = \\frac{1}{a^2\\,\\pi}\\hbar\\,c\\left\\{\\sum\\limits_{n_x=(0)1}^{\\infty}\\sum\\limits_{n_y=(0)1}^{\\infty}\\left[\\,\\int\\limits_{0}^{\\infty}\\sqrt{n_x^2\\frac{\\pi^2}{a^2}+n_y^2\\frac{\\pi^2}{a^2}+k_z^2}\\,dk_z\\right] - \\int\\limits_{0}^{\\infty}\\int\\limits_{0}^{\\infty}\\left[\\,\\int\\limits_{0}^{\\infty}\\sqrt{k_x^2+k_y^2+k_z^2}\\,dk_z\\right]\\,dn_x\\,dn_y\\right\\}$"
   ]
  },
  {
   "cell_type": "code",
   "execution_count": null,
   "metadata": {},
   "outputs": [],
   "source": []
  },
  {
   "cell_type": "markdown",
   "metadata": {},
   "source": [
    "${\\left(\\frac{E}{V}\\right)_{small\\,cavity} = \\frac{1}{a^2}\\hbar \\, \\sum\\limits_{n_x=(0)1}^{\\infty}\\sum\\limits_{n_y=(0)1}^{\\infty}\\,\\int\\limits_{0}^{\\infty} {\\frac {dk_{z}}{\\pi}}\\omega _{n_x,n_y}.}$"
   ]
  },
  {
   "cell_type": "markdown",
   "metadata": {},
   "source": [
    "where $\\omega _{n_x,n_y} = c\\,\\sqrt{n_x^2\\frac{\\pi^2}{a^2}+n_y^2\\frac{\\pi^2}{a^2}+k_z^2}$"
   ]
  },
  {
   "cell_type": "markdown",
   "metadata": {},
   "source": [
    "This expression is clearly infinite, and to proceed with the calculation, it is convenient to introduce a regulator."
   ]
  },
  {
   "cell_type": "markdown",
   "metadata": {},
   "source": [
    "In order to obtain a finite result it is necessary to multiply the integrands\n",
    "by a function $f(k/k_m)$ which is unity for $k << k_m$ but tends to zero sufficiently rapidly for $(k/k_m)\\, \\rightarrow\\,\\infty$. where km may be defined by $f(1) = \\frac{1}{2}$.\n",
    "The physical meaning is obvious: for very short waves (X~rays e.g.)\n",
    "our plate is hardly an obstacle at all and therefore the zero point energy\n",
    "of these waves will not be influenced by the position of this plate. "
   ]
  },
  {
   "cell_type": "markdown",
   "metadata": {},
   "source": [
    "The regulator will serve to make the expression finite, and in the end will be removed. The regulated version of the energy per unit-area of the plate is"
   ]
  },
  {
   "cell_type": "markdown",
   "metadata": {},
   "source": [
    "Introducing the variable $u^2 = a^2\\,k_z^2/\\pi^2$"
   ]
  },
  {
   "cell_type": "markdown",
   "metadata": {},
   "source": [
    "$du = a/\\pi\\,dk_z$"
   ]
  },
  {
   "cell_type": "markdown",
   "metadata": {},
   "source": [
    " and complex $n = n_x + i\\,n_y$\n",
    " \n",
    " we have $n n^* = n_x^2 + n_y^2$"
   ]
  },
  {
   "cell_type": "markdown",
   "metadata": {},
   "source": [
    "\\begin{equation}\n",
    "\\delta\\,\\frac{E}{V} = \\frac{\\hbar\\,c\\,\\pi}{a^4}\\left\\{\n",
    "\\sum\\limits_{n_x=\\left(0\\right)\\,1}^{\\infty}\n",
    "\\sum\\limits_{n_y=\\left(0\\right)\\,1}^{\\infty}\n",
    "\\int\\limits_{0}^{\\infty}\n",
    "{\\sqrt{n n^*+u^2}}\n",
    "f\\left(\\frac{\\pi\\sqrt{n n^*+u^2}}{a\\,k_m}\\right)\n",
    "\\,d{u}\n",
    "-\n",
    "\\int\\limits_{0}^{\\infty}\n",
    "\\int\\limits_{0}^{\\infty}\n",
    "\\int\\limits_{0}^{\\infty}\n",
    "{\\sqrt{n n^*+u^2}}\n",
    "f\\left(\\frac{\\pi\\sqrt{n n^*+u^2}}{a\\,k_m}\\right)\n",
    "\\,d{u}\\,d{n_x}\\,d{n_y}\n",
    "\\right\\}\n",
    "\\end{equation}"
   ]
  },
  {
   "cell_type": "code",
   "execution_count": null,
   "metadata": {},
   "outputs": [],
   "source": [
    "# below should be reworked"
   ]
  },
  {
   "cell_type": "markdown",
   "metadata": {},
   "source": [
    "We apply the EULER-MACLAURIN 2D formula:"
   ]
  },
  {
   "cell_type": "markdown",
   "metadata": {},
   "source": [
    "$\\sum\\limits_{\\left(0\\right)\\,1}^{\\infty}\\sum\\limits_{\\left(0\\right)\\,1}^{\\infty}{F\\left(n_x, n_y\\right)}-\\int\\limits_{0}^{\\infty}\\int\\limits_{0}^{\\infty}{F\\left(n_x, n_y\\right)} =  - \\frac{1}{12} \\, \\int_{0}^{\\infty} \\frac{\\partial}{\\partial n_{x}}F\\left(0, n_y\\right)\\,{d n_y} - \\frac{1}{12} \\, \\int_{0}^{\\infty} \\frac{\\partial}{\\partial n_{y}}F\\left(n_x, 0\\right)\\,{d n_x} + \\frac{1}{144} \\, \\frac{\\partial^{2}}{\\partial n_{x}\\partial n_{y}}F\\left(0, 0\\right) \\,+\\,...$"
   ]
  },
  {
   "cell_type": "markdown",
   "metadata": {},
   "source": [
    "or using more terms in the EULER-MACLAURIN 2D formula:"
   ]
  },
  {
   "cell_type": "markdown",
   "metadata": {},
   "source": [
    "$\\sum\\limits_{\\left(0\\right)\\,1}^{\\infty}\\sum\\limits_{\\left(0\\right)\\,1}^{\\infty}{F\\left(n_x, n_y\\right)}-\\int\\limits_{0}^{\\infty}\\int\\limits_{0}^{\\infty}{F\\left(n_x, n_y\\right)} = - \\frac{1}{12} \\, \\int_{0}^{\\infty}  \\, \\frac{\\partial}{\\partial n_{x}}F\\left(0, n_y\\right)\\,{d n_y} + \\frac{1}{720} \\, \\int_{0}^{\\infty} \\frac{\\partial^{3}}{(\\partial n_{x})^{3}}F\\left(0, y\\right)\\,{d n_y} - \\frac{1}{12} \\, \\int_{0}^{\\infty} \\frac{\\partial}{\\partial n_{y}}F\\left(n_x, 0\\right)\\,{d n_x} + \\frac{1}{720} \\, \\int_{0}^{\\infty} \\frac{\\partial^{3}}{(\\partial n_{y})^{3}}F\\left(n_x, 0\\right)\\,{d n_x} - \\frac{1}{8640} \\, \\frac{\\partial^{4}}{(\\partial n_{x})^{3}\\partial n_{y}}F\\left(0, 0\\right) + \\frac{1}{518400} \\, \\frac{\\partial^{6}}{(\\partial n_{x})^{3}(\\partial n_{y})^{3}}F\\left(0, 0\\right) + \\frac{1}{144} \\, \\frac{\\partial^{2}}{\\partial n_{x}\\partial n_{y}}F\\left(0, 0\\right) - \\frac{1}{8640} \\, \\frac{\\partial^{4}}{\\partial n_{x}(\\partial n_{y})^{3}}F\\left(0, 0\\right)\\,+\\,...$"
   ]
  },
  {
   "cell_type": "markdown",
   "metadata": {},
   "source": [
    "$F\\left(n_x, n_y\\right) = \\int\\limits_{0}^{\\infty}{\\sqrt{n_x^2 + n_y^2+u^2}}f\\left(\\pi\\sqrt{n_x^2 + n_y^2+u^2}/\\left(a\\,k_m\\right)\\right)\\,d{u}$"
   ]
  },
  {
   "cell_type": "markdown",
   "metadata": {},
   "source": [
    "Introducing $w^2 = u^2 + n_x^2 + n_y^2$ we have "
   ]
  },
  {
   "cell_type": "markdown",
   "metadata": {},
   "source": [
    "$u = \\sqrt{w^2 - n_x^2 + n_y^2}$"
   ]
  },
  {
   "cell_type": "markdown",
   "metadata": {},
   "source": [
    "$du = \\frac{w {d w}}{\\sqrt{w^2 - (n_x^2 + n_y^2)}}$"
   ]
  },
  {
   "cell_type": "markdown",
   "metadata": {},
   "source": [
    "$F\\left(n_x, n_y\\right) = \\int\\limits_{n_x^2 + n_y^2}^{\\infty}\\frac{{w^2}f\\left(\\pi w/\\left(a\\,k_m\\right)\\right)}{\\sqrt{w^2 - (n_x^2 + n_y^2)}}\\,{d w}$"
   ]
  },
  {
   "cell_type": "code",
   "execution_count": null,
   "metadata": {},
   "outputs": [],
   "source": []
  },
  {
   "cell_type": "markdown",
   "metadata": {},
   "source": [
    "$F\\left(n\\right) = \\int\\limits_{n^2}^{\\infty}{\\sqrt{w}}f\\left(\\pi\\sqrt{w}/\\left(a\\,k_m\\right)\\right)\\,d{w}$"
   ]
  },
  {
   "cell_type": "markdown",
   "metadata": {},
   "source": [
    "whence"
   ]
  },
  {
   "cell_type": "markdown",
   "metadata": {},
   "source": [
    "$F'\\left(n\\right) = -2\\,n^2f\\left(\\pi\\,n/\\left(a\\,k_m\\right)\\right)$"
   ]
  },
  {
   "cell_type": "markdown",
   "metadata": {},
   "source": [
    "$F'\\left(0\\right) = 0$"
   ]
  },
  {
   "cell_type": "markdown",
   "metadata": {},
   "source": [
    "$F'''\\left(0\\right) = -4$"
   ]
  },
  {
   "cell_type": "markdown",
   "metadata": {},
   "source": [
    "The higher derivatives will contain powers of $(\\pi/(a\\,k_m))$ . Thus we find"
   ]
  },
  {
   "cell_type": "markdown",
   "metadata": {},
   "source": [
    "$\\delta\\,E/L^2 = \\hbar\\,c\\frac{\\pi^2}{4\\,a^3}\\left\\{\\frac{-4}{24\\times30}\\right\\}$"
   ]
  },
  {
   "cell_type": "markdown",
   "metadata": {},
   "source": [
    "a formula which holds as long as $a\\,k_m\\,»\\,1$. For the force per $cm^2$ we find"
   ]
  },
  {
   "cell_type": "markdown",
   "metadata": {},
   "source": [
    "$F = \\hbar\\,c\\frac{\\pi^2}{240}\\frac{1}{a^4}\\,=\\,0.013\\,\\frac{1}{a_{\\mu}^4}\\,dyne/cm^2$"
   ]
  },
  {
   "cell_type": "markdown",
   "metadata": {},
   "source": [
    "where $a_{\\mu}$ is the distance measured in microns. "
   ]
  },
  {
   "cell_type": "markdown",
   "metadata": {},
   "source": [
    "We are thus led to the following conclusions. There exists an attractive\n",
    "force between two metal plates which is independent of the material of\n",
    "the plates as long as the distance is so large that for wave . lengths\n",
    "comparable with that distance the penetration depth is small compared with\n",
    "the distance. This force may be interpreted as a zero point pressure of\n",
    "electromagnetic waves."
   ]
  },
  {
   "cell_type": "markdown",
   "metadata": {},
   "source": [
    "Although the effect is smalI, an experimental confirmation seems not\n",
    "unfeasable and might be of a certain interest. "
   ]
  },
  {
   "cell_type": "markdown",
   "metadata": {},
   "source": [
    "Natuurkundig Laboratorium der N.V. Philips'\n",
    "Gloeilampenfabrieken. Eindhoven .) "
   ]
  },
  {
   "cell_type": "markdown",
   "metadata": {},
   "source": [
    "30 January 2019\n",
    "\n",
    "Metal nano-honeycomb fabricated by colloidal assembly and femtosecond-laser annealing\n",
    "\n",
    "https://www.spiedigitallibrary.org/conference-proceedings-of-spie/10841/108410A/Metal-nano-honeycomb-fabricated-by-colloidal-assembly-and-femtosecond-laser/10.1117/12.2508593.full?SSO=1"
   ]
  },
  {
   "cell_type": "markdown",
   "metadata": {},
   "source": [
    "Bio-Inspired Engineering of Honeycomb Structure - Using Nature to Inspire Human Innovation\n",
    "\n",
    "https://www.researchgate.net/figure/Mechanical-behavior-of-micro-and-nano-honeycomb-materials_tbl1_280239925"
   ]
  },
  {
   "cell_type": "markdown",
   "metadata": {},
   "source": [
    "Nano-honeycomb structures for optimal energy absorption: numerical analysis and experiments\n",
    "\n",
    "https://www.alliedacademies.org/articles/nanohoneycomb-structures-for-optimal-energy-absorption-numerical-analysisand-experiments-8375.html"
   ]
  },
  {
   "cell_type": "code",
   "execution_count": 1,
   "metadata": {},
   "outputs": [],
   "source": [
    "from IPython.display import display, Math, Latex"
   ]
  },
  {
   "cell_type": "code",
   "execution_count": 2,
   "metadata": {},
   "outputs": [],
   "source": [
    "a = var(\"a\")\n",
    "L = var(\"L\")\n",
    "\n",
    "k_x = var(\"k_x\")\n",
    "k_y = var(\"k_y\")\n",
    "k_z = var(\"k_z\")\n",
    "\n",
    "n_x = var(\"n_x\")\n",
    "assume(n_x, \"real\")\n",
    "assume(n_x > 0)\n",
    "n_y = var(\"n_y\")\n",
    "assume(n_y, \"real\")\n",
    "assume(n_y > 0)\n",
    "n_z = var(\"n_z\")"
   ]
  },
  {
   "cell_type": "code",
   "execution_count": 3,
   "metadata": {},
   "outputs": [],
   "source": [
    "k_x = pi * n_x / a\n",
    "k_y = pi * n_y / a\n",
    "k_z = pi * n_z / (L/2)"
   ]
  },
  {
   "cell_type": "code",
   "execution_count": 4,
   "metadata": {},
   "outputs": [],
   "source": [
    "#kappa = sqrt(k_x^2+k_y^2)\n",
    "kappa = var(\"kappa\")"
   ]
  },
  {
   "cell_type": "code",
   "execution_count": 5,
   "metadata": {},
   "outputs": [],
   "source": [
    "k = sqrt(kappa^2+k_z^2)"
   ]
  },
  {
   "cell_type": "code",
   "execution_count": 6,
   "metadata": {},
   "outputs": [
    {
     "data": {
      "text/plain": [
       "sqrt(kappa^2 + 4*pi^2*n_z^2/L^2)"
      ]
     },
     "execution_count": 6,
     "metadata": {},
     "output_type": "execute_result"
    }
   ],
   "source": [
    "k"
   ]
  },
  {
   "cell_type": "code",
   "execution_count": 7,
   "metadata": {},
   "outputs": [],
   "source": [
    "#n = n_x + I * n_y\n",
    "n = var(\"n\")\n",
    "assume (n, \"complex\")\n",
    "assume (n >= 0)"
   ]
  },
  {
   "cell_type": "code",
   "execution_count": 8,
   "metadata": {},
   "outputs": [
    {
     "data": {
      "text/plain": [
       "2*a*n_z/L"
      ]
     },
     "execution_count": 8,
     "metadata": {},
     "output_type": "execute_result"
    }
   ],
   "source": [
    "u = var(\"u\")\n",
    "#u = a*k_z/(pi)\n",
    "a*k_z/(pi)"
   ]
  },
  {
   "cell_type": "code",
   "execution_count": 9,
   "metadata": {},
   "outputs": [],
   "source": [
    "w = var(\"w\")\n",
    "# w = u^2 + n_x^2 + n_y^2\n"
   ]
  },
  {
   "cell_type": "code",
   "execution_count": 10,
   "metadata": {},
   "outputs": [],
   "source": [
    "f = function('f')(var(\"k_km\"))\n",
    "#f = lambda k_km : 1 / (1 + (k_km)^3)"
   ]
  },
  {
   "cell_type": "code",
   "execution_count": 11,
   "metadata": {},
   "outputs": [],
   "source": [
    "k_m = var(\"k_m\")\n",
    "assume(k_m, 'real')\n",
    "assume(k_m > 0)"
   ]
  },
  {
   "cell_type": "markdown",
   "metadata": {},
   "source": [
    "$F\\left(n_x, n_y\\right) = \\int\\limits_{n_x^2 + n_y^2}^{\\infty}\\frac{{w^2}f\\left(\\pi w/\\left(a\\,k_m\\right)\\right)}{\\sqrt{w^2 - (n_x^2 + n_y^2)}}\\,{d w}$"
   ]
  },
  {
   "cell_type": "code",
   "execution_count": 12,
   "metadata": {},
   "outputs": [
    {
     "data": {
      "text/latex": [
       "$\\displaystyle \\frac{w^{2} f\\left(\\frac{\\pi w}{a k_{m}}\\right)}{\\sqrt{-n_{x}^{2} - n_{y}^{2} + w^{2}}}$"
      ],
      "text/plain": [
       "<IPython.core.display.Math object>"
      ]
     },
     "metadata": {},
     "output_type": "display_data"
    }
   ],
   "source": [
    "integrand_w = w^2*f(pi*w/(a*k_m))/(sqrt(w^2-n_x^2-n_y^2))\n",
    "display(Math(latex(integrand_w)))"
   ]
  },
  {
   "cell_type": "code",
   "execution_count": 13,
   "metadata": {},
   "outputs": [],
   "source": [
    "N = var (\"N\") # Infinity\n",
    "forget()\n",
    "assume(N,'real')\n",
    "assume(N>0)\n",
    "assume(n_x,'real')\n",
    "assume(n_y,'real')\n",
    "assume(n_x > 0)\n",
    "assume(n_y > 0)\n",
    "assume(n_y^2+n_x^2-N<0)\n",
    "assume(sqrt(n_y^2+n_x^2)-N<0)\n",
    "assume(sqrt(n_y^2+n_x^2)-n_y^2-n_x^2<0)\n",
    "\n",
    "from sage.symbolic.integration.integral import definite_integral\n",
    "#F_w(n_x, n_y) = definite_integral(integrand_w, w, n_y^2+n_x^2, Infinity)\n",
    "F_w(n_x, n_y) = integrate(integrand_w, w, n_y^2+n_x^2, N, algorithm=\"sympy\")"
   ]
  },
  {
   "cell_type": "code",
   "execution_count": 14,
   "metadata": {},
   "outputs": [
    {
     "data": {
      "text/latex": [
       "$\\displaystyle \\int_{n_{x}^{2} + n_{y}^{2}}^{N} \\frac{w^{2} f\\left(\\frac{\\pi w}{a k_{m}}\\right)}{\\sqrt{-n_{x}^{2} - n_{y}^{2} + w^{2}}}\\,{d w}$"
      ],
      "text/plain": [
       "<IPython.core.display.Math object>"
      ]
     },
     "metadata": {},
     "output_type": "display_data"
    }
   ],
   "source": [
    "display(Math(latex(F_w(n_x, n_y))))"
   ]
  },
  {
   "cell_type": "code",
   "execution_count": 15,
   "metadata": {},
   "outputs": [],
   "source": [
    "# local/lib/python3.9/site-packages/sage/symbolic/integration/integral.py\n",
    "# need to be fixed\n",
    "def _tderivative_(self, f, x, a, b, diff_param=None):\n",
    "    \"\"\"\n",
    "    Return the derivative of symbolic integration.\n",
    "\n",
    "    EXAMPLES::\n",
    "\n",
    "        sage: from sage.symbolic.integration.integral import definite_integral\n",
    "        sage: f = function('f'); a,b=var('a,b')\n",
    "        sage: h = definite_integral(f(x), x,a,b)\n",
    "        sage: h.diff(x) # indirect doctest\n",
    "        0\n",
    "        sage: h.diff(a)\n",
    "        -f(a)\n",
    "        sage: h.diff(b)\n",
    "        f(b)\n",
    "\n",
    "    TESTS:\n",
    "\n",
    "    Check for :trac:`28656`::\n",
    "\n",
    "        sage: t = var(\"t\")\n",
    "        sage: f = function(\"f\")\n",
    "        sage: F(x) = integrate(f(t),t,0,x)\n",
    "        sage: F(x).diff(x)\n",
    "        f(x)\n",
    "    \"\"\"\n",
    "    if not x.has(diff_param):\n",
    "        # integration variable != differentiation variable\n",
    "        ans = definite_integral(f.diff(diff_param), x, a, b)\n",
    "    else:\n",
    "        ans = SR.zero()\n",
    "\n",
    "    if hasattr(b, 'diff'):\n",
    "        if b.diff(diff_param) != 0:\n",
    "            ans += f.subs(x == b) * b.diff(diff_param)\n",
    "    if hasattr(a, 'diff'):\n",
    "        if a.diff(diff_param) != 0:\n",
    "            ans -= f.subs(x == a) * a.diff(diff_param)\n",
    "    return ans\n"
   ]
  },
  {
   "cell_type": "code",
   "execution_count": 16,
   "metadata": {},
   "outputs": [],
   "source": [
    "def definite_integral_derivative(f, x, a, b, diff_param=None):\n",
    "    \"\"\"\n",
    "    Return the derivative of symbolic integration\n",
    "\n",
    "    EXAMPLES::\n",
    "\n",
    "        sage: from sage.symbolic.integration.integral import definite_integral\n",
    "        sage: f = function('f'); a,b=var('a,b')\n",
    "        sage: h = definite_integral(f(x), x,a,b)\n",
    "        sage: h.diff(x) # indirect doctest\n",
    "        0\n",
    "        sage: h.diff(a)\n",
    "        -f(a)\n",
    "        sage: h.diff(b)\n",
    "        f(b)\n",
    "    \"\"\"\n",
    "    if not x.has(diff_param):\n",
    "        # integration variable != differentiation variable\n",
    "        ans = definite_integral(f.diff(diff_param), x, a, b)\n",
    "    else:\n",
    "        ans = SR.zero()\n",
    "\n",
    "    if hasattr(b, 'diff'):\n",
    "        if b.diff(diff_param) != 0:\n",
    "            ans += f.subs(x == b) * b.diff(diff_param)\n",
    "    if hasattr(a, 'diff'):\n",
    "        if a.diff(diff_param) != 0:\n",
    "            ans -= f.subs(x == a) * a.diff(diff_param)\n",
    "\n",
    "    return ans"
   ]
  },
  {
   "cell_type": "code",
   "execution_count": 17,
   "metadata": {},
   "outputs": [
    {
     "data": {
      "text/latex": [
       "$\\displaystyle -\\frac{2 \\, {\\left(n_{x}^{2} + n_{y}^{2}\\right)}^{2} n_{x} f\\left(\\frac{\\pi {\\left(n_{x}^{2} + n_{y}^{2}\\right)}}{a k_{m}}\\right)}{\\sqrt{{\\left(n_{x}^{2} + n_{y}^{2}\\right)}^{2} - n_{x}^{2} - n_{y}^{2}}} + n_{x} \\int_{n_{x}^{2} + n_{y}^{2}}^{+\\infty} \\frac{w^{2} f\\left(\\frac{\\pi w}{a k_{m}}\\right)}{{\\left(-n_{x}^{2} - n_{y}^{2} + w^{2}\\right)}^{\\frac{3}{2}}}\\,{d w}$"
      ],
      "text/plain": [
       "<IPython.core.display.Math object>"
      ]
     },
     "metadata": {},
     "output_type": "display_data"
    }
   ],
   "source": [
    "dFdnx(n_x, n_y) = definite_integral_derivative(integrand_w, w, n_y^2+n_x^2, Infinity, n_x)\n",
    "display(Math(latex(dFdnx(n_x, n_y))))"
   ]
  },
  {
   "cell_type": "code",
   "execution_count": 18,
   "metadata": {},
   "outputs": [
    {
     "data": {
      "text/latex": [
       "$\\displaystyle n_{x} {\\left(\\int_{0}^{+\\infty} -\\frac{2 \\, n_{x}^{4} f\\left(\\frac{\\pi n_{x}^{2}}{a k_{m}} + \\frac{\\pi n_{y}^{2}}{a k_{m}}\\right)}{\\sqrt{n_{x}^{4} + 2 \\, n_{x}^{2} n_{y}^{2} + n_{y}^{4} - n_{x}^{2} - n_{y}^{2}}}\\,{d n_{y}} + \\int_{0}^{+\\infty} -\\frac{4 \\, n_{x}^{2} n_{y}^{2} f\\left(\\frac{\\pi n_{x}^{2}}{a k_{m}} + \\frac{\\pi n_{y}^{2}}{a k_{m}}\\right)}{\\sqrt{n_{x}^{4} + 2 \\, n_{x}^{2} n_{y}^{2} + n_{y}^{4} - n_{x}^{2} - n_{y}^{2}}}\\,{d n_{y}} + \\int_{0}^{+\\infty} -\\frac{2 \\, n_{y}^{4} f\\left(\\frac{\\pi n_{x}^{2}}{a k_{m}} + \\frac{\\pi n_{y}^{2}}{a k_{m}}\\right)}{\\sqrt{n_{x}^{4} + 2 \\, n_{x}^{2} n_{y}^{2} + n_{y}^{4} - n_{x}^{2} - n_{y}^{2}}}\\,{d n_{y}} + \\int_{0}^{+\\infty} \\int_{n_{x}^{2} + n_{y}^{2}}^{+\\infty} -\\frac{w^{2} f\\left(\\frac{\\pi w}{a k_{m}}\\right)}{\\sqrt{-n_{x}^{2} - n_{y}^{2} + w^{2}} n_{x}^{2} + \\sqrt{-n_{x}^{2} - n_{y}^{2} + w^{2}} n_{y}^{2} - \\sqrt{-n_{x}^{2} - n_{y}^{2} + w^{2}} w^{2}}\\,{d w}\\,{d n_{y}}\\right)}$"
      ],
      "text/plain": [
       "<IPython.core.display.Math object>"
      ]
     },
     "metadata": {},
     "output_type": "display_data"
    }
   ],
   "source": [
    "int_dFdnx = integrate(dFdnx(n_x, n_y), n_y, 0, Infinity)\n",
    "display(Math(latex(int_dFdnx)))"
   ]
  },
  {
   "cell_type": "code",
   "execution_count": 19,
   "metadata": {},
   "outputs": [
    {
     "data": {
      "text/latex": [
       "$\\displaystyle \\frac{2 \\, {\\left(n_{x}^{2} + n_{y}^{2}\\right)}^{2} {\\left(2 \\, {\\left(n_{x}^{2} + n_{y}^{2}\\right)} n_{y} - n_{y}\\right)} n_{x} f\\left(\\frac{\\pi {\\left(n_{x}^{2} + n_{y}^{2}\\right)}}{a k_{m}}\\right)}{{\\left({\\left(n_{x}^{2} + n_{y}^{2}\\right)}^{2} - n_{x}^{2} - n_{y}^{2}\\right)}^{\\frac{3}{2}}} - \\frac{8 \\, {\\left(n_{x}^{2} + n_{y}^{2}\\right)} n_{x} n_{y} f\\left(\\frac{\\pi {\\left(n_{x}^{2} + n_{y}^{2}\\right)}}{a k_{m}}\\right)}{\\sqrt{{\\left(n_{x}^{2} + n_{y}^{2}\\right)}^{2} - n_{x}^{2} - n_{y}^{2}}} - \\frac{4 \\, \\pi {\\left(n_{x}^{2} + n_{y}^{2}\\right)}^{2} n_{x} n_{y} \\mathrm{D}_{0}\\left(f\\right)\\left(\\frac{\\pi {\\left(n_{x}^{2} + n_{y}^{2}\\right)}}{a k_{m}}\\right)}{\\sqrt{{\\left(n_{x}^{2} + n_{y}^{2}\\right)}^{2} - n_{x}^{2} - n_{y}^{2}} a k_{m}} - {\\left(\\frac{2 \\, {\\left(n_{x}^{2} + n_{y}^{2}\\right)}^{2} n_{y} f\\left(\\frac{\\pi {\\left(n_{x}^{2} + n_{y}^{2}\\right)}}{a k_{m}}\\right)}{{\\left({\\left(n_{x}^{2} + n_{y}^{2}\\right)}^{2} - n_{x}^{2} - n_{y}^{2}\\right)}^{\\frac{3}{2}}} - 3 \\, n_{y} \\int_{n_{x}^{2} + n_{y}^{2}}^{+\\infty} \\frac{w^{2} f\\left(\\frac{\\pi w}{a k_{m}}\\right)}{{\\left(-n_{x}^{2} - n_{y}^{2} + w^{2}\\right)}^{\\frac{5}{2}}}\\,{d w}\\right)} n_{x}$"
      ],
      "text/plain": [
       "<IPython.core.display.Math object>"
      ]
     },
     "metadata": {},
     "output_type": "display_data"
    }
   ],
   "source": [
    "d2Fdnxdny = dFdnx(n_x, n_y).diff(n_y)\n",
    "display(Math(latex(d2Fdnxdny)))"
   ]
  },
  {
   "cell_type": "code",
   "execution_count": 20,
   "metadata": {},
   "outputs": [
    {
     "data": {
      "text/latex": [
       "$\\displaystyle -\\frac{\\left(6.92764844988402 \\times 10^{-51} - 1.13137084989849 \\times 10^{-34}i\\right) \\, \\pi \\mathrm{D}_{0}\\left(f\\right)\\left(\\frac{\\left(2.00000000000000 \\times 10^{-14}\\right) \\, \\pi}{a k_{m}}\\right)}{a k_{m}} + \\left(3.46382422494201 \\times 10^{-37} + 5.65685424949243 \\times 10^{-21}i\\right) \\, f\\left(\\frac{\\left(2.00000000000000 \\times 10^{-14}\\right) \\, \\pi}{a k_{m}}\\right) + \\left(3.00000000000000 \\times 10^{-14}\\right) \\, \\int_{2.00000000000000 \\times 10^{-14}}^{+\\infty} \\frac{w^{2} f\\left(\\frac{\\pi w}{a k_{m}}\\right)}{{\\left(1.00000000000000 \\, w^{2} - 2.00000000000000 \\times 10^{-14}\\right)}^{\\frac{5}{2}}}\\,{d w}$"
      ],
      "text/plain": [
       "<IPython.core.display.Math object>"
      ]
     },
     "metadata": {},
     "output_type": "display_data"
    }
   ],
   "source": [
    "display(Math(latex(d2Fdnxdny.subs(n_x == 0.0000001, n_y = 0.0000001))))"
   ]
  },
  {
   "cell_type": "code",
   "execution_count": 21,
   "metadata": {},
   "outputs": [
    {
     "data": {
      "text/latex": [
       "$\\displaystyle -\\frac{\\left(1.73191211247102 \\times 10^{-43} - 6.22253967444169 \\times 10^{-27}i\\right) \\, \\pi \\mathrm{D}_{0}\\left(f\\right)\\left(\\frac{\\left(2.00000000000000 \\times 10^{-14}\\right) \\, \\pi}{a k_{m}}\\right)}{a k_{m}} - \\frac{\\left(1.38552968997680 \\times 10^{-57} - 2.26274169979697 \\times 10^{-41}i\\right) \\, \\pi^{2} \\mathrm{D}_{0, 0}\\left(f\\right)\\left(\\frac{\\left(2.00000000000000 \\times 10^{-14}\\right) \\, \\pi}{a k_{m}}\\right)}{a^{2} k_{m}^{2}} - \\left(4.32978028117822 \\times 10^{-30} - 2.40416305603432 \\times 10^{-13}i\\right) \\, f\\left(\\frac{\\left(2.00000000000000 \\times 10^{-14}\\right) \\, \\pi}{a k_{m}}\\right) + \\left(9.00000000000000 \\times 10^{-7}\\right) \\, \\int_{2.00000000000000 \\times 10^{-14}}^{+\\infty} \\frac{w^{2} f\\left(\\frac{\\pi w}{a k_{m}}\\right)}{{\\left(1.00000000000000 \\, w^{2} - 2.00000000000000 \\times 10^{-14}\\right)}^{\\frac{5}{2}}}\\,{d w} + \\left(1.50000000000000 \\times 10^{-20}\\right) \\, \\int_{2.00000000000000 \\times 10^{-14}}^{+\\infty} \\frac{w^{2} f\\left(\\frac{\\pi w}{a k_{m}}\\right)}{{\\left(1.00000000000000 \\, w^{2} - 2.00000000000000 \\times 10^{-14}\\right)}^{\\frac{7}{2}}}\\,{d w}$"
      ],
      "text/plain": [
       "<IPython.core.display.Math object>"
      ]
     },
     "metadata": {},
     "output_type": "display_data"
    }
   ],
   "source": [
    "d3Fdnx3 = dFdnx(n_x, n_y).diff(n_x, 2)\n",
    "display(Math(latex(d3Fdnx3.subs(n_x == 0.0000001, n_y = 0.0000001))))"
   ]
  },
  {
   "cell_type": "code",
   "execution_count": null,
   "metadata": {},
   "outputs": [],
   "source": [
    "display(Math(latex(d3Fdnx3.subs(n_x == 0.0000001))))"
   ]
  },
  {
   "cell_type": "code",
   "execution_count": 23,
   "metadata": {},
   "outputs": [],
   "source": [
    "try:\n",
    "    display(Math(latex((d3Fdnx3).expand().subs(n_x == 0, n_y = 0))))\n",
    "except Exception as ex:\n",
    "    print(ex)\n",
    "    pass"
   ]
  },
  {
   "cell_type": "code",
   "execution_count": 25,
   "metadata": {},
   "outputs": [],
   "source": [
    "try:\n",
    "    int_d3Fdnx3 = integrate(d3Fdnx3, n_y, 0, Infinity)\n",
    "    display(Math(latex(int_d3Fdnx3)))\n",
    "except Exception as ex:\n",
    "    print(ex)\n",
    "    # Can't calculate derivative wrt pi*(n_x**2 + n_y**2)/(a*k_m).\n",
    "    pass"
   ]
  },
  {
   "cell_type": "code",
   "execution_count": 27,
   "metadata": {},
   "outputs": [],
   "source": [
    "#display(Math(latex(int_d3Fdnx3.expand().subs(n_x == 0.0000001, n_y = 0.0000001))))"
   ]
  },
  {
   "cell_type": "code",
   "execution_count": 28,
   "metadata": {},
   "outputs": [],
   "source": [
    "try:\n",
    "    display(Math(latex(int_d3Fdnx3.expand().subs(n_x == 0, n_y = 0))))\n",
    "except Exception as ex:\n",
    "    print(ex)\n",
    "    pass"
   ]
  },
  {
   "cell_type": "code",
   "execution_count": 29,
   "metadata": {},
   "outputs": [
    {
     "data": {
      "text/latex": [
       "$\\displaystyle -\\frac{\\left(1.73191211247102 \\times 10^{-43} - 6.22253967444169 \\times 10^{-27}i\\right) \\, \\pi \\mathrm{D}_{0}\\left(f\\right)\\left(\\frac{\\left(2.00000000000000 \\times 10^{-14}\\right) \\, \\pi}{a k_{m}}\\right)}{a k_{m}} - \\frac{\\left(1.38552968997680 \\times 10^{-57} - 2.26274169979697 \\times 10^{-41}i\\right) \\, \\pi^{2} \\mathrm{D}_{0, 0}\\left(f\\right)\\left(\\frac{\\left(2.00000000000000 \\times 10^{-14}\\right) \\, \\pi}{a k_{m}}\\right)}{a^{2} k_{m}^{2}} - \\left(4.32978028117822 \\times 10^{-30} - 2.40416305603432 \\times 10^{-13}i\\right) \\, f\\left(\\frac{\\left(2.00000000000000 \\times 10^{-14}\\right) \\, \\pi}{a k_{m}}\\right) + \\left(9.00000000000000 \\times 10^{-7}\\right) \\, \\int_{2.00000000000000 \\times 10^{-14}}^{+\\infty} \\frac{w^{2} f\\left(\\frac{\\pi w}{a k_{m}}\\right)}{{\\left(1.00000000000000 \\, w^{2} - 2.00000000000000 \\times 10^{-14}\\right)}^{\\frac{5}{2}}}\\,{d w} + \\left(1.50000000000000 \\times 10^{-20}\\right) \\, \\int_{2.00000000000000 \\times 10^{-14}}^{+\\infty} \\frac{w^{2} f\\left(\\frac{\\pi w}{a k_{m}}\\right)}{{\\left(1.00000000000000 \\, w^{2} - 2.00000000000000 \\times 10^{-14}\\right)}^{\\frac{7}{2}}}\\,{d w}$"
      ],
      "text/plain": [
       "<IPython.core.display.Math object>"
      ]
     },
     "metadata": {},
     "output_type": "display_data"
    }
   ],
   "source": [
    "display(Math(latex((d3Fdnx3).expand().subs(n_x == 0.0000001, n_y = 0.0000001))))"
   ]
  },
  {
   "cell_type": "code",
   "execution_count": 30,
   "metadata": {},
   "outputs": [],
   "source": [
    "d4Fdnx3dny1 = d3Fdnx3.diff(n_y, 1)\n",
    "try:\n",
    "    display(Math(latex(d4Fdnx3dny1.expand().subs(n_x == 0, n_y = 0))))\n",
    "except Exception as ex:\n",
    "    print(ex)\n",
    "    pass"
   ]
  },
  {
   "cell_type": "code",
   "execution_count": 31,
   "metadata": {},
   "outputs": [
    {
     "data": {
      "text/latex": [
       "$\\displaystyle -\\frac{\\left(2.07829453496547 \\times 10^{-36} - 1.13137084989850 \\times 10^{-19}i\\right) \\, \\pi \\mathrm{D}_{0}\\left(f\\right)\\left(\\frac{\\left(2.00000000000000 \\times 10^{-14}\\right) \\, \\pi}{a k_{m}}\\right)}{a k_{m}} - \\frac{\\left(4.15658906993049 \\times 10^{-50} - 1.58391918985789 \\times 10^{-33}i\\right) \\, \\pi^{2} \\mathrm{D}_{0, 0}\\left(f\\right)\\left(\\frac{\\left(2.00000000000000 \\times 10^{-14}\\right) \\, \\pi}{a k_{m}}\\right)}{a^{2} k_{m}^{2}} - \\frac{\\left(2.77105937995361 \\times 10^{-64} - 4.52548339959395 \\times 10^{-48}i\\right) \\, \\pi^{3} \\mathrm{D}_{0, 0, 0}\\left(f\\right)\\left(\\frac{\\left(2.00000000000000 \\times 10^{-14}\\right) \\, \\pi}{a k_{m}}\\right)}{a^{3} k_{m}^{3}} + \\left(2.33808135183566 \\times 10^{-22} + 7.07106781186670 \\times 10^{-7}i\\right) \\, f\\left(\\frac{\\left(2.00000000000000 \\times 10^{-14}\\right) \\, \\pi}{a k_{m}}\\right) + \\left(4.50000000000000 \\times 10^{-13}\\right) \\, \\int_{2.00000000000000 \\times 10^{-14}}^{+\\infty} \\frac{w^{2} f\\left(\\frac{\\pi w}{a k_{m}}\\right)}{{\\left(1.00000000000000 \\, w^{2} - 2.00000000000000 \\times 10^{-14}\\right)}^{\\frac{7}{2}}}\\,{d w} + \\left(1.05000000000000 \\times 10^{-26}\\right) \\, \\int_{2.00000000000000 \\times 10^{-14}}^{+\\infty} \\frac{w^{2} f\\left(\\frac{\\pi w}{a k_{m}}\\right)}{{\\left(1.00000000000000 \\, w^{2} - 2.00000000000000 \\times 10^{-14}\\right)}^{\\frac{9}{2}}}\\,{d w}$"
      ],
      "text/plain": [
       "<IPython.core.display.Math object>"
      ]
     },
     "metadata": {},
     "output_type": "display_data"
    }
   ],
   "source": [
    "d4Fdnx3dny1 = d3Fdnx3.diff(n_y, 1)\n",
    "display(Math(latex(d4Fdnx3dny1.expand().subs(n_x == 0.0000001, n_y = 0.0000001))))"
   ]
  },
  {
   "cell_type": "code",
   "execution_count": 32,
   "metadata": {},
   "outputs": [
    {
     "data": {
      "text/latex": [
       "$\\displaystyle -\\frac{\\left(3.90979159390557 \\times 10^{-21} - 0.0000180312229202637i\\right) \\, \\pi \\mathrm{D}_{0}\\left(f\\right)\\left(\\frac{\\left(2.00000000000000 \\times 10^{-14}\\right) \\, \\pi}{a k_{m}}\\right)}{a k_{m}} + \\frac{\\left(8.31317813985149 \\times 10^{-36} + 1.28976276888433 \\times 10^{-18}i\\right) \\, \\pi^{2} \\mathrm{D}_{0, 0}\\left(f\\right)\\left(\\frac{\\left(2.00000000000000 \\times 10^{-14}\\right) \\, \\pi}{a k_{m}}\\right)}{a^{2} k_{m}^{2}} - \\frac{\\left(4.50297149242493 \\times 10^{-49} - 2.22880057430004 \\times 10^{-32}i\\right) \\, \\pi^{3} \\mathrm{D}_{0, 0, 0}\\left(f\\right)\\left(\\frac{\\left(2.00000000000000 \\times 10^{-14}\\right) \\, \\pi}{a k_{m}}\\right)}{a^{3} k_{m}^{3}} - \\frac{\\left(3.87948313193511 \\times 10^{-63} - 1.17662568389443 \\times 10^{-46}i\\right) \\, \\pi^{4} \\mathrm{D}_{0, 0, 0, 0}\\left(f\\right)\\left(\\frac{\\left(2.00000000000000 \\times 10^{-14}\\right) \\, \\pi}{a k_{m}}\\right)}{a^{4} k_{m}^{4}} - \\frac{\\left(1.10842375198144 \\times 10^{-77} - 1.81019335983758 \\times 10^{-61}i\\right) \\, \\pi^{5} \\mathrm{D}_{0, 0, 0, 0, 0}\\left(f\\right)\\left(\\frac{\\left(2.00000000000000 \\times 10^{-14}\\right) \\, \\pi}{a k_{m}}\\right)}{a^{5} k_{m}^{5}} + \\left(0.0000186043424103934 - 9.01561146012479 \\times 10^{8}i\\right) \\, f\\left(\\frac{\\left(2.00000000000000 \\times 10^{-14}\\right) \\, \\pi}{a k_{m}}\\right) + \\left(9.45000000000000 \\times 10^{-12}\\right) \\, \\int_{2.00000000000000 \\times 10^{-14}}^{+\\infty} \\frac{w^{2} f\\left(\\frac{\\pi w}{a k_{m}}\\right)}{{\\left(1.00000000000000 \\, w^{2} - 2.00000000000000 \\times 10^{-14}\\right)}^{\\frac{9}{2}}}\\,{d w} + \\left(5.67000000000000 \\times 10^{-25}\\right) \\, \\int_{2.00000000000000 \\times 10^{-14}}^{+\\infty} \\frac{w^{2} f\\left(\\frac{\\pi w}{a k_{m}}\\right)}{{\\left(1.00000000000000 \\, w^{2} - 2.00000000000000 \\times 10^{-14}\\right)}^{\\frac{11}{2}}}\\,{d w} + \\left(1.03950000000000 \\times 10^{-38}\\right) \\, \\int_{2.00000000000000 \\times 10^{-14}}^{+\\infty} \\frac{w^{2} f\\left(\\frac{\\pi w}{a k_{m}}\\right)}{{\\left(1.00000000000000 \\, w^{2} - 2.00000000000000 \\times 10^{-14}\\right)}^{\\frac{13}{2}}}\\,{d w}$"
      ],
      "text/plain": [
       "<IPython.core.display.Math object>"
      ]
     },
     "metadata": {},
     "output_type": "display_data"
    }
   ],
   "source": [
    "d6Fdnx3dny3 = d3Fdnx3.diff(n_y, 3)\n",
    "display(Math(latex(d6Fdnx3dny3.expand().subs(n_x == 0.0000001, n_y = 0.0000001))))"
   ]
  },
  {
   "cell_type": "code",
   "execution_count": 33,
   "metadata": {},
   "outputs": [],
   "source": [
    "try:\n",
    "    display(Math(latex(d6Fdnx3dny3.expand().subs(n_x == 0, n_y = 0))))\n",
    "except Exception as ex:\n",
    "    print(ex)\n",
    "    pass"
   ]
  },
  {
   "cell_type": "code",
   "execution_count": null,
   "metadata": {},
   "outputs": [],
   "source": [
    "# https://ask.sagemath.org/question/10215/lazy-evaluation-of-derivatives-of-an-unknown-function/\n",
    "from sage.symbolic.operators import FDerivativeOperator\n",
    "class Dclass(object):\n",
    "    def __init__(self,L=None):\n",
    "        if L is None:\n",
    "            self.L=[]\n",
    "        else:\n",
    "            self.L=L\n",
    "    def __getitem__(self,index):\n",
    "        if isinstance(index,tuple):\n",
    "            index=list(index)\n",
    "        elif not(isinstance(index,list)):\n",
    "            index=[index]\n",
    "        return Dclass(self.L+index)\n",
    "    def __call__(self,arg):\n",
    "        return FDerivativeOperator(arg,self.L)\n",
    "    def __repr__(self):\n",
    "        return \"D\"+str(self.L)\n",
    "D=Dclass()"
   ]
  },
  {
   "cell_type": "code",
   "execution_count": null,
   "metadata": {},
   "outputs": [],
   "source": [
    "print(((n_x^2+n_y^2)*n_y^3/((n_x^2+n_y^2)^2-(n_x^2+n_y^2))^(5/2)).subs(n_x ==0.1, n_y==0.1))\n",
    "print(((n_x^2+n_y^2)*n_y^3/((n_x^2+n_y^2)^2-(n_x^2+n_y^2))^(5/2)).subs(n_x ==0.01, n_y==0.01))\n",
    "print(((n_x^2+n_y^2)*n_y^3/((n_x^2+n_y^2)^2-(n_x^2+n_y^2))^(5/2)).subs(n_x ==0.001, n_y==0.001))\n",
    "print(((n_x^2+n_y^2)*n_y^3/((n_x^2+n_y^2)^2-(n_x^2+n_y^2))^(5/2)).subs(n_x ==0.0001, n_y==0.0001))\n",
    "print(((n_x^2+n_y^2)*n_y^3/((n_x^2+n_y^2)^2-(n_x^2+n_y^2))^(5/2)).subs(n_x ==0.00001, n_y==0.00001))\n",
    "print(((n_x^2+n_y^2)*n_y^3/((n_x^2+n_y^2)^2-(n_x^2+n_y^2))^(5/2)).subs(n_x ==0.000001, n_y==0.000001))\n",
    "print(((n_x^2+n_y^2)*n_y^3/((n_x^2+n_y^2)^2-(n_x^2+n_y^2))^(5/2)).subs(n_x ==0.0000001, n_y==0.000001))\n",
    "print(((n_x^2+n_y^2)*n_y^3/((n_x^2+n_y^2)^2-(n_x^2+n_y^2))^(5/2)).subs(n_x ==0.00000001, n_y==0.0000001))\n",
    "print(((n_x^2+n_y^2)*n_y^3/((n_x^2+n_y^2)^2-(n_x^2+n_y^2))^(5/2)).subs(n_x ==0.000000001, n_y==0.00000001))\n",
    "print(((n_x^2+n_y^2)*n_y^3/((n_x^2+n_y^2)^2-(n_x^2+n_y^2))^(5/2)).subs(n_x ==0.0000000001, n_y==0.000000001))\n",
    "print(((n_x^2+n_y^2)*n_y^3/((n_x^2+n_y^2)^2-(n_x^2+n_y^2))^(5/2)).subs(n_x ==-0.0000000001, n_y==-0.000000001))\n",
    "print(((n_x^2+n_y^2)*n_y^3/((n_x^2+n_y^2)^2-(n_x^2+n_y^2))^(5/2)).subs(n_x ==0.0000000001, n_y==-0.000000001))\n",
    "print(((n_x^2+n_y^2)*n_y^3/((n_x^2+n_y^2)^2-(n_x^2+n_y^2))^(5/2)).subs(n_x ==-0.0000000001, n_y==0.000000001))\n",
    "\n",
    "\n",
    "#display(Math(latex(dFd6dnx3dny3.subs(n_x == 0, n_y == 0))))\n",
    "#str_dFd6dnx3dny3 = str(dFd6dnx3dny3)\n",
    "#str_dFd6dnx3dny3_nx0 = str_dFd6dnx3dny3.replace(\"n_x\", \"0\")"
   ]
  },
  {
   "cell_type": "code",
   "execution_count": null,
   "metadata": {},
   "outputs": [],
   "source": [
    "print(((n_x^2+n_y^2)*n_y^3/((n_x^2+n_y^2)^2-(n_x^2+n_y^2))^(5/2)).subs(n_x ==0.1, n_y==0.1))\n",
    "print(((n_x^2+n_y^2)*n_y^3/((n_x^2+n_y^2)^2-(n_x^2+n_y^2))^(5/2)).subs(n_x ==0.01, n_y==0.01))\n",
    "print(((n_x^2+n_y^2)*n_y^3/((n_x^2+n_y^2)^2-(n_x^2+n_y^2))^(5/2)).subs(n_x ==0.001, n_y==0.001))\n",
    "print(((n_x^2+n_y^2)*n_y^3/((n_x^2+n_y^2)^2-(n_x^2+n_y^2))^(5/2)).subs(n_x ==0.0001, n_y==0.0001))\n",
    "print(((n_x^2+n_y^2)*n_y^3/((n_x^2+n_y^2)^2-(n_x^2+n_y^2))^(5/2)).subs(n_x ==0.00001, n_y==0.00001))\n",
    "print(((n_x^2+n_y^2)*n_y^3/((n_x^2+n_y^2)^2-(n_x^2+n_y^2))^(5/2)).subs(n_x ==0.000001, n_y==0.000001))\n",
    "print(((n_x^2+n_y^2)*n_y^3/((n_x^2+n_y^2)^2-(n_x^2+n_y^2))^(5/2)).subs(n_x ==0.0000001, n_y==0.000001))\n",
    "print(((n_x^2+n_y^2)*n_y^3/((n_x^2+n_y^2)^2-(n_x^2+n_y^2))^(5/2)).subs(n_x ==0.00000001, n_y==0.0000001))\n",
    "print(((n_x^2+n_y^2)*n_y^3/((n_x^2+n_y^2)^2-(n_x^2+n_y^2))^(5/2)).subs(n_x ==0.000000001, n_y==0.00000001))\n",
    "print(((n_x^2+n_y^2)*n_y^3/((n_x^2+n_y^2)^2-(n_x^2+n_y^2))^(5/2)).subs(n_x ==0.0000000001, n_y==0.000000001))\n",
    "\n",
    "\n",
    "#display(Math(latex(dFd6dnx3dny3.subs(n_x == 0, n_y == 0))))\n",
    "#str_dFd6dnx3dny3 = str(dFd6dnx3dny3)\n",
    "#str_dFd6dnx3dny3_nx0 = str_dFd6dnx3dny3.replace(\"n_x\", \"0\")"
   ]
  }
 ],
 "metadata": {
  "kernelspec": {
   "display_name": "SageMath 9.4.rc2",
   "language": "sage",
   "name": "sagemath"
  },
  "language_info": {
   "codemirror_mode": {
    "name": "ipython",
    "version": 3
   },
   "file_extension": ".py",
   "mimetype": "text/x-python",
   "name": "python",
   "nbconvert_exporter": "python",
   "pygments_lexer": "ipython3",
   "version": "3.9.5"
  }
 },
 "nbformat": 4,
 "nbformat_minor": 2
}
