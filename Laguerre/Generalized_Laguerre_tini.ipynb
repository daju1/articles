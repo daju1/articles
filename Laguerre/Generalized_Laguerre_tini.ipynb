{
 "cells": [
  {
   "cell_type": "code",
   "execution_count": 1,
   "metadata": {},
   "outputs": [],
   "source": [
    "t, s = var(\"t, s\")"
   ]
  },
  {
   "cell_type": "code",
   "execution_count": 2,
   "metadata": {},
   "outputs": [],
   "source": [
    "R = lambda t : exp(-0.5*(t))"
   ]
  },
  {
   "cell_type": "code",
   "execution_count": 3,
   "metadata": {},
   "outputs": [],
   "source": [
    "R = lambda t : 0.8- 2.3*exp(-0.5*(t))"
   ]
  },
  {
   "cell_type": "code",
   "execution_count": 4,
   "metadata": {},
   "outputs": [],
   "source": [
    "R = lambda t : t^2 * exp(-2.5*(t))"
   ]
  },
  {
   "cell_type": "code",
   "execution_count": 5,
   "metadata": {},
   "outputs": [
    {
     "data": {
      "image/png": "[encoded data removed]",
      "text/plain": [
       "Graphics object consisting of 1 graphics primitive"
      ]
     },
     "execution_count": 5,
     "metadata": {},
     "output_type": "execute_result"
    }
   ],
   "source": [
    "plot([R(t)],(t, 0, 10))"
   ]
  },
  {
   "cell_type": "code",
   "execution_count": 6,
   "metadata": {},
   "outputs": [
    {
     "data": {
      "text/plain": [
       "0"
      ]
     },
     "execution_count": 6,
     "metadata": {},
     "output_type": "execute_result"
    }
   ],
   "source": [
    "limit(R(t), t = Infinity)"
   ]
  },
  {
   "cell_type": "code",
   "execution_count": 7,
   "metadata": {},
   "outputs": [
    {
     "data": {
      "text/plain": [
       "2/(s + 2.5)^3"
      ]
     },
     "execution_count": 7,
     "metadata": {},
     "output_type": "execute_result"
    }
   ],
   "source": [
    "laplace(R(t), t, s)"
   ]
  },
  {
   "cell_type": "code",
   "execution_count": 8,
   "metadata": {},
   "outputs": [
    {
     "data": {
      "text/plain": [
       "s^3 + 7.5*s^2 + 18.75*s + 15.625"
      ]
     },
     "execution_count": 8,
     "metadata": {},
     "output_type": "execute_result"
    }
   ],
   "source": [
    "laplace(R(t), t, s).denominator().expand()"
   ]
  },
  {
   "cell_type": "code",
   "execution_count": 9,
   "metadata": {},
   "outputs": [],
   "source": [
    "from IPython.display import display, Math, Latex"
   ]
  },
  {
   "cell_type": "code",
   "execution_count": 12,
   "metadata": {},
   "outputs": [
    {
     "name": "stdout",
     "output_type": "stream",
     "text": [
      "n 0\n",
      "M_Q [0.0932944606413994]\n",
      "det_M_Q 0.0932944606413994\n",
      "n 1\n",
      "M_Q [-0.226572261557684 0.0932944606413994]\n",
      "[ 0.184684952698280 -0.226572261557684]\n",
      "det_M_Q 0.0341049066567952\n",
      "n 2\n",
      "M_Q [  0.184684952698280  -0.226572261557684  0.0932944606413994]\n",
      "[-0.0655509184098459   0.184684952698280  -0.226572261557684]\n",
      "[ 0.0174465692744645 -0.0655509184098459   0.184684952698280]\n",
      "det_M_Q 0.00180933613477357\n",
      "n 3\n",
      "M_Q [ -0.0655509184098459    0.184684952698280   -0.226572261557684   0.0932944606413994]\n",
      "[  0.0174465692744645  -0.0655509184098459    0.184684952698280   -0.226572261557684]\n",
      "[-0.00400221967766079   0.0174465692744645  -0.0655509184098459    0.184684952698280]\n",
      "[0.000838190251490900 -0.00400221967766079   0.0174465692744645  -0.0655509184098459]\n",
      "det_M_Q 4.108109794183357e-18\n",
      "M_Q [ -0.0655509184098459    0.184684952698280   -0.226572261557684   0.0932944606413994]\n",
      "[  0.0174465692744645  -0.0655509184098459    0.184684952698280   -0.226572261557684]\n",
      "[-0.00400221967766079   0.0174465692744645  -0.0655509184098459    0.184684952698280]\n",
      "[0.000838190251490900 -0.00400221967766079   0.0174465692744645  -0.0655509184098459]\n",
      "0.0655509184098459\n",
      "-0.0174465692744645\n",
      "0.00400221967766079\n",
      "-0.000838190251490900\n",
      "eq_sys = [0.184684952698280*beta_i_1 - 0.226572261557684*beta_i_2 + 0.0932944606413994*beta_i_3 == 0.0655509184098459, -0.0655509184098459*beta_i_1 + 0.184684952698280*beta_i_2 - 0.226572261557684*beta_i_3 == -0.0174465692744645, 0.0174465692744645*beta_i_1 - 0.0655509184098459*beta_i_2 + 0.184684952698280*beta_i_3 == 0.00400221967766079, -0.00400221967766079*beta_i_1 + 0.0174465692744645*beta_i_2 - 0.0655509184098459*beta_i_3 == -0.000838190251490900]\n",
      "0.428571428571409\n",
      "0.0612244897959003\n",
      "0.00291545189503686\n",
      "coeffs_beta_i = [beta_i_0 == 1, beta_i_1 == 0.428571428571409, beta_i_2 == 0.0612244897959003, beta_i_3 == 0.00291545189503686]\n",
      "M_Q [ -0.0655509184098459    0.184684952698280   -0.226572261557684   0.0932944606413994]\n",
      "[  0.0174465692744645  -0.0655509184098459    0.184684952698280   -0.226572261557684]\n",
      "[-0.00400221967766079   0.0174465692744645  -0.0655509184098459    0.184684952698280]\n",
      "[0.000838190251490900 -0.00400221967766079   0.0174465692744645  -0.0655509184098459]\n",
      "0\n",
      "0 0.0932944606413994 0 beta_i_0\n",
      "1\n",
      "0 0.0932944606413994 1 beta_i_1\n",
      "1 -0.226572261557684 0 beta_i_0\n",
      "2\n",
      "0 0.0932944606413994 2 beta_i_2\n",
      "1 -0.226572261557684 1 beta_i_1\n",
      "2 0.184684952698280 0 beta_i_0\n",
      "valpha_i = [alpha_i_0 == 0.0932944606413994*sqrt(2)*sqrt(alpha)*beta_i_0, alpha_i_1 == sqrt(2)*sqrt(alpha)*(-0.226572261557684*beta_i_0 + 0.0932944606413994*beta_i_1), alpha_i_2 == sqrt(2)*sqrt(alpha)*(0.184684952698280*beta_i_0 - 0.226572261557684*beta_i_1 + 0.0932944606413994*beta_i_2)]\n",
      "coeffs_alpha_i = [alpha_i_0 == 0.186588921282799, alpha_i_1 == -0.373177842565601, alpha_i_2 == 0.186588921282804]\n",
      "F_delta_d_1_delta_2_alpha_d = -1/4*(0.186588921282804*delta^2 - 0.373177842565601*delta + 0.186588921282799)*(delta - 1)/(0.00291545189503686*delta^3 + 0.0612244897959003*delta^2 + 0.428571428571409*delta + 1)\n",
      "F_S_d = ((1.66533453693773e-15)*S^2 - (1.57651669496772e-14)*S + 2.98542274052480)/(1.49271137026235*S^3 + 11.1953352769678*S^2 + 27.9883381924198*S + 23.3236151603500)\n"
     ]
    },
    {
     "data": {
      "text/latex": [
       "$\\displaystyle \\frac{\\left(1.66533453693773 \\times 10^{-15}\\right) \\, S^{2} - \\left(1.57651669496772 \\times 10^{-14}\\right) \\, S + 2.98542274052480}{1.49271137026235 \\, S^{3} + 11.1953352769678 \\, S^{2} + 27.9883381924198 \\, S + 23.3236151603500}$"
      ],
      "text/plain": [
       "<IPython.core.display.Math object>"
      ]
     },
     "metadata": {},
     "output_type": "display_data"
    },
    {
     "name": "stdout",
     "output_type": "stream",
     "text": [
      "F_S_d_num = (1.66533453693773e-15)*S^2 - (1.57651669496772e-14)*S + 2.98542274052480\n"
     ]
    },
    {
     "data": {
      "text/latex": [
       "$\\displaystyle \\left(1.66533453693773 \\times 10^{-15}\\right) \\, S^{2} - \\left(1.57651669496772 \\times 10^{-14}\\right) \\, S + 2.98542274052480$"
      ],
      "text/plain": [
       "<IPython.core.display.Math object>"
      ]
     },
     "metadata": {},
     "output_type": "display_data"
    },
    {
     "name": "stdout",
     "output_type": "stream",
     "text": [
      "F_S_d_den = 1.49271137026235*S^3 + 11.1953352769678*S^2 + 27.9883381924198*S + 23.3236151603500\n"
     ]
    },
    {
     "data": {
      "text/latex": [
       "$\\displaystyle 1.49271137026235 \\, S^{3} + 11.1953352769678 \\, S^{2} + 27.9883381924198 \\, S + 23.3236151603500$"
      ],
      "text/plain": [
       "<IPython.core.display.Math object>"
      ]
     },
     "metadata": {},
     "output_type": "display_data"
    },
    {
     "name": "stdout",
     "output_type": "stream",
     "text": [
      "F_S_d_num_coefs = [[2.98542274052480, 0], [-1.57651669496772e-14, 1], [1.66533453693773e-15, 2]]\n",
      "F_S_d_den_coefs = [[23.3236151603500, 0], [27.9883381924198, 1], [11.1953352769678, 2], [1.49271137026235, 3]]\n",
      "F_S_d_num_rec = 2.98542274052480\n"
     ]
    },
    {
     "data": {
      "text/latex": [
       "$\\displaystyle 2.98542274052480$"
      ],
      "text/plain": [
       "<IPython.core.display.Math object>"
      ]
     },
     "metadata": {},
     "output_type": "display_data"
    },
    {
     "name": "stdout",
     "output_type": "stream",
     "text": [
      "F_S_d_den_rec = 1.49271137026235*S^3 + 11.1953352769678*S^2 + 27.9883381924198*S + 23.3236151603500\n"
     ]
    },
    {
     "data": {
      "text/latex": [
       "$\\displaystyle 1.49271137026235 \\, S^{3} + 11.1953352769678 \\, S^{2} + 27.9883381924198 \\, S + 23.3236151603500$"
      ],
      "text/plain": [
       "<IPython.core.display.Math object>"
      ]
     },
     "metadata": {},
     "output_type": "display_data"
    },
    {
     "name": "stdout",
     "output_type": "stream",
     "text": [
      "F_S_d_rec = 2.98542274052480/(1.49271137026235*S^3 + 11.1953352769678*S^2 + 27.9883381924198*S + 23.3236151603500)\n"
     ]
    },
    {
     "data": {
      "text/latex": [
       "$\\displaystyle \\frac{2.98542274052480}{1.49271137026235 \\, S^{3} + 11.1953352769678 \\, S^{2} + 27.9883381924198 \\, S + 23.3236151603500}$"
      ],
      "text/plain": [
       "<IPython.core.display.Math object>"
      ]
     },
     "metadata": {},
     "output_type": "display_data"
    },
    {
     "name": "stdout",
     "output_type": "stream",
     "text": [
      "\n",
      "name 'ilt' is not defined\n",
      "R(t) = t^2*e^(-2.50000000000000*t)\n"
     ]
    }
   ],
   "source": [
    "from sympy import integrate as sympy_integrate\n",
    "\n",
    "alpha,beta = var(\"alpha,beta\")\n",
    "\n",
    "\n",
    "assume(alpha>0)\n",
    "assume(alpha-beta>0)\n",
    "\n",
    "w = lambda t, beta : exp(2*beta*t)\n",
    "\n",
    "Generalized_Laguerre_Rodrigues = lambda n, alpha, beta, t : (sqrt(2*alpha) / factorial(n) * \\\n",
    "                                                             exp((alpha-beta)*t) * \\\n",
    "                                                             diff(exp(-2*alpha*t)*t^n, t, n)).factor()\n",
    "\n",
    "Q = lambda F,k,alpha,beta : sympy_integrate(F(t=t) * \\\n",
    "                                            Generalized_Laguerre_Rodrigues(k, alpha, beta, t) * \\\n",
    "                                            w(t, beta), (t, 0, Infinity))\n",
    "\n",
    "def det_Q(F, n, alpha, beta):\n",
    "    m = [[Q(F, n+k1-k2, alpha, beta) for k2 in range (n+1)] for k1 in range (n+1)]\n",
    "    return matrix(SR, m)\n",
    "\n",
    "# https://www.pythonpool.com/gaussian-elimination-python/\n",
    "\n",
    "#gaussian elimination of M_Q in symbolic form\n",
    "def gaussian_elimination(n, M_Q):\n",
    "    rows = n\n",
    "    cols = n\n",
    "    ma = [[] for _ in range(n)]\n",
    "\n",
    "    for i in range(rows):# row\n",
    "        for j in range(cols): # col\n",
    "            ma[i] += [M_Q[i][j]]\n",
    "\n",
    "    for i in range(cols):\n",
    "        row_to_change = -1\n",
    "        #ii_abs = abs(ma[i][i].subs(digit_values).subs(k_z_sol).n())\n",
    "        ii_abs = abs(ma[i][i].n())\n",
    "\n",
    "        for r in range(i+1, rows):\n",
    "            #ri_abs = abs(ma[r][i].subs(digit_values).subs(k_z_sol).n())\n",
    "            ri_abs = abs(ma[r][i].n())\n",
    "            if ri_abs > ii_abs:\n",
    "                row_to_change = r\n",
    "                cur_abs = ri_abs\n",
    "                print(\"row_to_change\", row_to_change)\n",
    "\n",
    "        if row_to_change > -1:\n",
    "            for col in range(i, cols):#+1):\n",
    "                tmp = ma[i][col]\n",
    "                ma[i][col] = ma[row_to_change][col]\n",
    "                ma[row_to_change][col] = tmp\n",
    "\n",
    "        for j in range(i+1, rows):\n",
    "            ratio = ma[j][i]/ma[i][i]\n",
    "\n",
    "            for k in range(cols):#+1):\n",
    "                ma[j][k] = ma[j][k] - ratio * ma[i][k]\n",
    "\n",
    "    # Формирование верхнетреугольной матрицы\n",
    "    # RU - Right Upper\n",
    "    M_RU = matrix(ma)\n",
    "    return M_RU\n",
    "\n",
    "alpha_d = 2\n",
    "beta_d = 1\n",
    "\n",
    "n = 0\n",
    "\n",
    "while(true):\n",
    "    print(\"n\", n)\n",
    "    M_Q = det_Q(R, n, alpha_d, beta_d)\n",
    "    print(\"M_Q\", M_Q)\n",
    "    det_M_Q = M_Q.det()\n",
    "    print(\"det_M_Q\", det_M_Q)\n",
    "    #M_Q_RU = gaussian_elimination(n+1, M_Q)\n",
    "    #display(Math(latex(M_Q_RU)))\n",
    "    if abs(det_M_Q) < 1e-7:\n",
    "        break\n",
    "    n = n + 1\n",
    "\n",
    "print(\"M_Q\", M_Q)\n",
    "\n",
    "beta_i = []\n",
    "for i in range(n+1):\n",
    "    exec(\"beta_i_\" + str(i) + \"= var('beta_i_\" + str(i) + \"')\")\n",
    "    exec(\"beta_i += [beta_i_\" + str(i) +\"]\")\n",
    "\n",
    "alpha_i = []\n",
    "for i in range(n):\n",
    "    exec(\"alpha_i_\" + str(i) + \"= var('alpha_i_\" + str(i) + \"')\")\n",
    "    exec(\"alpha_i += [alpha_i_\" + str(i) +\"]\")\n",
    "\n",
    "beta1_i = []\n",
    "for i in range(1, n+1):\n",
    "    exec(\"beta1_i += [beta_i_\" + str(i) +\"]\")\n",
    "\n",
    "vbeta_i = vector(beta_i)\n",
    "vbeta1_i = vector(beta1_i)\n",
    "\n",
    "#M_Q_RU_X = M_Q_RU*vbeta_i\n",
    "M_Q_X = M_Q*vbeta_i\n",
    "\n",
    "beta_i_0_d = 1\n",
    "\n",
    "#M_Q_RU_B = []\n",
    "#eq_sys_RU = []\n",
    "#for i in range(n+1):\n",
    "#    M_Q_RU_B_i = - (M_Q_RU_X[i]).coefficient(beta_i_0).n() * beta_i_0_d\n",
    "#    print(M_Q_RU_B_i)\n",
    "#    M_Q_RU_B += [M_Q_RU_B_i]\n",
    "#    eq_sys_RU += [M_Q_RU_X[i].subs(beta_i_0 == 0) == M_Q_RU_B_i]\n",
    "\n",
    "#print(\"eq_sys_RU =\", eq_sys_RU)\n",
    "    \n",
    "M_Q_B = []\n",
    "eq_sys = []\n",
    "for i in range(n+1):\n",
    "    M_Q_B_i = - (M_Q_X[i]).coefficient(beta_i_0).n() * beta_i_0_d\n",
    "    print(M_Q_B_i)\n",
    "    M_Q_B += [M_Q_B_i]\n",
    "    eq_sys += [M_Q_X[i].subs(beta_i_0 == 0) == M_Q_B_i]\n",
    "\n",
    "print(\"eq_sys =\", eq_sys)\n",
    "\n",
    "def GenerateMatrix(equsys, vars):\n",
    "    A=matrix(SR, [[(equ.lhs() - equ.rhs()).coefficient(v) for v in vars] for equ in equsys])\n",
    "    return A\n",
    "\n",
    "#eq_sys_RU_M = GenerateMatrix(eq_sys_RU, vbeta1_i)\n",
    "eq_sys_M = GenerateMatrix(eq_sys, vbeta1_i)\n",
    "\n",
    "#eq_sys_RU_M_sol = eq_sys_RU_M.solve_right(vector(M_Q_RU_B))\n",
    "eq_sys_M_sol = eq_sys_M.solve_right(vector(M_Q_B))\n",
    "\n",
    "#coeffs_beta_i = [beta_i_0 == beta_i_0_d]\n",
    "#for i in range(n):\n",
    "#    eq_sys_RU_M_sol_i = eq_sys_RU_M_sol[i]\n",
    "#    print(eq_sys_RU_M_sol_i)\n",
    "#    coeffs_beta_i += [vbeta1_i[i] == eq_sys_RU_M_sol_i]\n",
    "\n",
    "coeffs_beta_i = [beta_i_0 == beta_i_0_d]\n",
    "for i in range(n):\n",
    "    eq_sys_M_sol_i = eq_sys_M_sol[i]\n",
    "    print(eq_sys_M_sol_i)\n",
    "    coeffs_beta_i += [vbeta1_i[i] == eq_sys_M_sol_i]\n",
    "\n",
    "print(\"coeffs_beta_i =\", coeffs_beta_i)\n",
    "print(\"M_Q\", M_Q)\n",
    "\n",
    "valpha_i = []\n",
    "for i in range(n):\n",
    "    alpha__i = 0\n",
    "    print(i)\n",
    "    for j in range(0,i+1):\n",
    "        print(j, M_Q[0][n-j], i-j, beta_i[i-j])\n",
    "        alpha__i += M_Q[0][n-j] * beta_i[i-j]\n",
    "    alpha__i *= sqrt(2 * alpha)\n",
    "    valpha_i += [alpha_i[i] == alpha__i]\n",
    "\n",
    "print(\"valpha_i =\", valpha_i)\n",
    "\n",
    "coeffs_alpha_i = []\n",
    "for i in range(n):\n",
    "    coeffs_alpha_i += [alpha_i[i] == valpha_i[i].rhs().subs(coeffs_beta_i).subs(alpha == alpha_d)]\n",
    "print(\"coeffs_alpha_i =\", coeffs_alpha_i)\n",
    "\n",
    "delta, S = var(\"delta, S\")\n",
    "F_delta = sum([alpha_i[i]*delta^i for i in range(n)])/sum([beta_i[i]*delta^i for i in range(n+1)])\n",
    "F_delta_d = F_delta.subs(coeffs_alpha_i).subs(coeffs_beta_i)\n",
    "F_delta_d_1_delta_2_alpha = (1 - delta)/(2*alpha)*F_delta_d\n",
    "F_delta_d_1_delta_2_alpha_d = F_delta_d_1_delta_2_alpha.subs(alpha == alpha_d)\n",
    "print(\"F_delta_d_1_delta_2_alpha_d =\", F_delta_d_1_delta_2_alpha_d)\n",
    "\n",
    "F_S = F_delta_d_1_delta_2_alpha.subs(delta == (S - alpha + beta) / (S + alpha + beta)).factor()\n",
    "F_S_d = F_S.subs(alpha == alpha_d, beta == beta_d)\n",
    "print(\"F_S_d =\", F_S_d)\n",
    "display(Math(latex(F_S_d)))\n",
    "\n",
    "\n",
    "\n",
    "if True:\n",
    "\n",
    "    F_S_d_num = F_S_d.numerator()\n",
    "    F_S_d_den = F_S_d.denominator()\n",
    "\n",
    "\n",
    "    print(\"F_S_d_num =\", F_S_d_num)\n",
    "    display(Math(latex(F_S_d_num)))\n",
    "\n",
    "    print(\"F_S_d_den =\", F_S_d_den)\n",
    "    display(Math(latex(F_S_d_den)))\n",
    "\n",
    "\n",
    "    F_S_d_num_coefs = F_S_d_num.coefficients()\n",
    "    F_S_d_den_coefs = F_S_d_den.coefficients()\n",
    "\n",
    "    print(\"F_S_d_num_coefs =\", F_S_d_num_coefs)\n",
    "    print(\"F_S_d_den_coefs =\", F_S_d_den_coefs)\n",
    "    \n",
    "    F_S_d_num_rec = 0\n",
    "    for coef, pw in F_S_d_num_coefs:\n",
    "        if abs(coef) > 1e-8:\n",
    "            F_S_d_num_rec += coef * S^pw\n",
    "\n",
    "    F_S_d_den_rec = 0\n",
    "    for coef, pw in F_S_d_den_coefs:\n",
    "        if abs(coef) > 1e-8:\n",
    "            F_S_d_den_rec += coef * S^pw\n",
    "\n",
    "\n",
    "    print(\"F_S_d_num_rec =\", F_S_d_num_rec)\n",
    "    display(Math(latex(F_S_d_num_rec)))\n",
    "\n",
    "    print(\"F_S_d_den_rec =\", F_S_d_den_rec)\n",
    "    display(Math(latex(F_S_d_den_rec)))\n",
    "\n",
    "    F_S_d_rec = F_S_d_num_rec / F_S_d_den_rec\n",
    "    print(\"F_S_d_rec =\", F_S_d_rec)\n",
    "    display(Math(latex(F_S_d_rec)))\n",
    "    \n",
    "    exec(preparse(\"rec_R = lambda t :\" + str(inverse_laplace(F_S_d_rec, S, t))))\n",
    "else:\n",
    "    exec(preparse(\"rec_R = lambda t :\" + str(inverse_laplace(F_S_d, S, t))))\n",
    "    \n",
    "\n",
    "print(\"\")\n",
    "try:\n",
    "    print(\"rec_R(t) =\", rec_R(t))\n",
    "except Exception as ex:\n",
    "    print(ex)\n",
    "print(\"R(t) =\", R(t))"
   ]
  },
  {
   "cell_type": "code",
   "execution_count": 14,
   "metadata": {},
   "outputs": [
    {
     "name": "stdout",
     "output_type": "stream",
     "text": [
      "name 'ilt' is not defined\n"
     ]
    }
   ],
   "source": [
    "try:\n",
    "    print(limit(rec_R(t), t=Infinity))\n",
    "except Exception as ex:\n",
    "    print(ex)"
   ]
  },
  {
   "cell_type": "code",
   "execution_count": 15,
   "metadata": {},
   "outputs": [
    {
     "data": {
      "text/plain": [
       "1.49271137026240*s^3 + 11.195335276968*s^2 + 27.98833819242*s + 23.32361516035"
      ]
     },
     "execution_count": 15,
     "metadata": {},
     "output_type": "execute_result"
    }
   ],
   "source": [
    "laplace(R(t), t, s).denominator().expand()*2.98542274052480/2"
   ]
  },
  {
   "cell_type": "code",
   "execution_count": null,
   "metadata": {},
   "outputs": [],
   "source": [
    "n"
   ]
  },
  {
   "cell_type": "code",
   "execution_count": null,
   "metadata": {},
   "outputs": [],
   "source": [
    "plot([rec_R(t), R(t)],(t, 0, 10))"
   ]
  },
  {
   "cell_type": "code",
   "execution_count": null,
   "metadata": {},
   "outputs": [],
   "source": []
  },
  {
   "cell_type": "code",
   "execution_count": null,
   "metadata": {},
   "outputs": [],
   "source": []
  }
 ],
 "metadata": {
  "kernelspec": {
   "display_name": "SageMath 9.6.beta7",
   "language": "sage",
   "name": "sagemath"
  },
  "language_info": {
   "codemirror_mode": {
    "name": "ipython",
    "version": 3
   },
   "file_extension": ".py",
   "mimetype": "text/x-python",
   "name": "python",
   "nbconvert_exporter": "python",
   "pygments_lexer": "ipython3",
   "version": "3.10.3"
  }
 },
 "nbformat": 4,
 "nbformat_minor": 4
}
