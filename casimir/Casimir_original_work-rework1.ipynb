{
 "cells": [
  {
   "cell_type": "markdown",
   "metadata": {},
   "source": [
    "# К вопросу о зависимости силы Казимира от толщины пластин"
   ]
  },
  {
   "cell_type": "markdown",
   "metadata": {},
   "source": [
    "By A. Ju. Drozdov\n",
    "\n",
    "(Feb 14. 2021. - Sept 16 2022)\n",
    "\n",
    "Kharkov"
   ]
  },
  {
   "cell_type": "markdown",
   "metadata": {},
   "source": [
    "В данной работе я хочу проанализировав статью Казимира показать что выведенная им формула силы Казимира может быть усовершенствована таким образом, что сила Казимира на самом деле должна зависеть не только от расстояния между пластинами но так же и от удельной массы каждой из пластин."
   ]
  },
  {
   "cell_type": "markdown",
   "metadata": {},
   "source": [
    "https://www.dwc.knaw.nl/DL/publications/PU00018547.pdf\n",
    "\n",
    "Mathematics. - On the attraction between two perfectly conducting\n",
    "plates. By H . B. G. CASIMIR\n",
    "\n",
    "(Communicated at the meeting of May 29. 1948.) "
   ]
  },
  {
   "cell_type": "markdown",
   "metadata": {},
   "source": [
    "Let us consider a cubic cavity of volume $L^3$ bounded by perfectly conducting walls and let a perfectly conducting square plate with side $L$ be\n",
    "placed in this cavity parallel to the $xy$ face and let us compare the\n",
    "situation in which this plate is at a small distance a from the $xy$ face and the\n",
    "situation in which it is at a very large distance. say $L/2$. In both cases the\n",
    "expressions $\\frac{1}{2}\\sum\\,\\hbar\\omega$ where the summation extends over all possible\n",
    "resonance frequencies of the cavities are divergent and devoid of physical\n",
    "meaning but the difference between these sums in the two situations,\n",
    "$\\frac{1}{2\\,V_{I}}\\left(\\sum\\,\\,\\hbar\\omega\\right)_{I} - \\frac{1}{2\\,V_{II}}\\left(\\sum\\,\\,\\hbar\\omega\\right)_{II}$, will be shown to have a weIl defined value and this\n",
    "value will be interpreted as the interaction between the plate and the\n",
    "$xy$ face."
   ]
  },
  {
   "cell_type": "markdown",
   "metadata": {},
   "source": [
    "The possible vibrations of a cavity defined by "
   ]
  },
  {
   "cell_type": "markdown",
   "metadata": {},
   "source": [
    "$0<=x<=L$, $0<=y<=L$, $0<=z<=a$ "
   ]
  },
  {
   "cell_type": "markdown",
   "metadata": {},
   "source": [
    "have wave numbers "
   ]
  },
  {
   "cell_type": "markdown",
   "metadata": {},
   "source": [
    "$k_x = \\frac{\\pi}{L}\\,n_x$, $k_y = \\frac{\\pi}{L}\\,n_y$, $k_z = \\frac{\\pi}{a}\\,n_z$,\n",
    "\n",
    "where $n_x$. $n_y$, $n_z$:\n",
    "\n",
    "are positive integers;"
   ]
  },
  {
   "cell_type": "markdown",
   "metadata": {},
   "source": [
    "$k = \\sqrt{k_x^2+k_y^2+k_z^2} = \\sqrt{\\kappa^2+k_z^2}$. "
   ]
  },
  {
   "cell_type": "markdown",
   "metadata": {},
   "source": [
    "To every $k_x$, $k_y$, $k_z$ correspond two standing waves unless one of the $n_i$\n",
    "is zero, when there is only one. For $k_x$, $k_y$ this is without importance since\n",
    "for very large $L$ we may regard $k_x$, $k_y$ as continuous variables. Thus we\n",
    "find "
   ]
  },
  {
   "cell_type": "markdown",
   "metadata": {},
   "source": [
    "$\\frac{1}{2}\\sum\\,\\hbar\\omega = \\hbar\\,c\\frac{L^2}{\\pi^2}\\int\\limits_{0}^{\\infty}\\int\\limits_{0}^{\\infty}\\left[{\\frac{1}{2}\\sqrt{k_x^2+k_y^2}+\\sum\\limits_{n=1}^{\\infty}\\sqrt{n^2\\frac{\\pi^2}{a^2}+k_x^2+k_y^2}}\\right]d{k_x}d{k_y}$"
   ]
  },
  {
   "cell_type": "markdown",
   "metadata": {},
   "source": [
    "or, introducing polar coordinates in the $k_x$, $k_y$ plane. "
   ]
  },
  {
   "cell_type": "markdown",
   "metadata": {},
   "source": [
    "$\\frac{1}{2}\\sum\\,\\hbar\\omega = \\hbar\\,c\\frac{L^2}{\\pi^2}\\cdot\\frac{\\pi}{2}\\sum\\limits_{\\left(0\\right)\\,1}^{\\infty}\\int\\limits_{0}^{\\infty}{\\sqrt{n^2\\frac{\\pi^2}{a^2}+\\kappa^2}}\\kappa\\,d{\\kappa}$"
   ]
  },
  {
   "cell_type": "markdown",
   "metadata": {},
   "source": [
    "where the notation $\\left(0\\right) 1$ is meant to indicate that the term with $n = 0$\n",
    "has to be multiplied by $\\frac{1}{2}$. For very large $a$ also this last summation may\n",
    "be replaced by an integral and it is therefore easily seen that our interaction energy is given by "
   ]
  },
  {
   "cell_type": "markdown",
   "metadata": {},
   "source": [
    "$\\delta\\,E = \\hbar\\,c\\frac{L^2}{\\pi^2}\\cdot\\frac{\\pi}{2}\\left\\{\\sum\\limits_{\\left(0\\right)\\,1}^{\\infty}\\int\\limits_{0}^{\\infty}{\\sqrt{n^2\\frac{\\pi^2}{a^2}+\\kappa^2}}\\kappa\\,d{\\kappa}-\\int\\limits_{0}^{\\infty}\\int\\limits_{0}^{\\infty}{\\sqrt{k_z^2+\\kappa^2}}\\kappa\\,d{\\kappa}\\left(\\frac{a}{\\pi}d{k_z}\\right)\\right\\}$"
   ]
  },
  {
   "cell_type": "markdown",
   "metadata": {},
   "source": [
    "In order to obtain a finite result it is necessary to multiply the integrands\n",
    "by a function $f(k/k_m)$ which is unity for $k << k_m$ but tends to zero sufficiently rapidly for $(k/k_m)\\, \\rightarrow\\,\\infty$. where km may be defined by $f(1) = \\frac{1}{2}$.\n",
    "The physical meaning is obvious: for very short waves (X~rays e.g.)\n",
    "our plate is hardly an obstacle at all and therefore the zero point energy\n",
    "of these waves will not be influenced by the position of this plate. "
   ]
  },
  {
   "cell_type": "markdown",
   "metadata": {},
   "source": [
    "Introducing the variable $u = a^2\\,\\kappa^2/\\pi^2$"
   ]
  },
  {
   "cell_type": "markdown",
   "metadata": {},
   "source": [
    "$du = a^2/\\pi^2\\,\\kappa\\,d\\kappa$"
   ]
  },
  {
   "cell_type": "markdown",
   "metadata": {},
   "source": [
    "$\\delta\\,E = L^2\\,\\hbar\\,c\\frac{\\pi^2}{4\\,a^3}\\left\\{\\sum\\limits_{\\left(0\\right)\\,1}^{\\infty}\\int\\limits_{0}^{\\infty}{\\sqrt{n^2+u}}f\\left(\\pi\\sqrt{n^2+u}/\\left(a\\,k_m\\right)\\right)\\,d{u}-\\int\\limits_{0}^{\\infty}\\int\\limits_{0}^{\\infty}{\\sqrt{n^2+u}}f\\left(\\pi\\sqrt{n^2+u}/\\left(a\\,k_m\\right)\\right)\\,d{u}\\,d{n}\\right\\}$"
   ]
  },
  {
   "cell_type": "markdown",
   "metadata": {},
   "source": [
    "We apply the EULER-MACLAURIN formula: "
   ]
  },
  {
   "cell_type": "markdown",
   "metadata": {},
   "source": [
    "$\\sum\\limits_{\\left(0\\right)\\,1}^{\\infty}{F\\left(n\\right)}-\\int\\limits_{0}^{\\infty}{F\\left(n\\right)} = -\\,\\frac{1}{12}F'\\left(0\\right)\\,+\\,\\frac{1}{24\\times30}F'''\\left(0\\right)\\,+\\,...$"
   ]
  },
  {
   "cell_type": "markdown",
   "metadata": {},
   "source": [
    "Introducing $w = u + n^2$ we have "
   ]
  },
  {
   "cell_type": "markdown",
   "metadata": {},
   "source": [
    "$F\\left(n\\right) = \\int\\limits_{n^2}^{\\infty}{\\sqrt{w}}f\\left(\\pi\\sqrt{w}/\\left(a\\,k_m\\right)\\right)\\,d{w}$"
   ]
  },
  {
   "cell_type": "markdown",
   "metadata": {},
   "source": [
    "whence"
   ]
  },
  {
   "cell_type": "markdown",
   "metadata": {},
   "source": [
    "$F'\\left(n\\right) = -2\\,n^2f\\left(\\pi\\,n/\\left(a\\,k_m\\right)\\right)$"
   ]
  },
  {
   "cell_type": "markdown",
   "metadata": {},
   "source": [
    "$F'\\left(0\\right) = 0$"
   ]
  },
  {
   "cell_type": "markdown",
   "metadata": {},
   "source": [
    "$F'''\\left(0\\right) = -4$"
   ]
  },
  {
   "cell_type": "markdown",
   "metadata": {},
   "source": [
    "The higher derivatives will contain powers of $(\\pi/(a\\,k_m))$ . Thus we find"
   ]
  },
  {
   "cell_type": "markdown",
   "metadata": {},
   "source": [
    "$\\delta\\,E/L^2 = \\hbar\\,c\\frac{\\pi^2}{4\\,a^3}\\left\\{\\frac{-4}{24\\times30}\\right\\}$"
   ]
  },
  {
   "cell_type": "markdown",
   "metadata": {},
   "source": [
    "a formula which holds as long as $a\\,k_m\\,»\\,1$. For the force per $cm^2$ we find"
   ]
  },
  {
   "cell_type": "markdown",
   "metadata": {},
   "source": [
    "$F = \\hbar\\,c\\frac{\\pi^2}{240}\\frac{1}{a^4}\\,=\\,0.013\\,\\frac{1}{a_{\\mu}^4}\\,dyne/cm^2$"
   ]
  },
  {
   "cell_type": "markdown",
   "metadata": {},
   "source": [
    "where $a_{\\mu}$ is the distance measured in microns. "
   ]
  },
  {
   "cell_type": "markdown",
   "metadata": {},
   "source": [
    "We are thus led to the following conclusions. There exists an attractive\n",
    "force between two metal plates which is independent of the material of\n",
    "the plates as long as the distance is so large that for wave . lengths\n",
    "comparable with that distance the penetration depth is small compared with\n",
    "the distance. This force may be interpreted as a zero point pressure of\n",
    "electromagnetic waves."
   ]
  },
  {
   "cell_type": "markdown",
   "metadata": {},
   "source": [
    "Although the effect is smalI, an experimental confirmation seems not\n",
    "unfeasable and might be of a certain interest. "
   ]
  },
  {
   "cell_type": "markdown",
   "metadata": {},
   "source": [
    "Natuurkundig Laboratorium der N.V. Philips'\n",
    "Gloeilampenfabrieken. Eindhoven .) "
   ]
  },
  {
   "cell_type": "code",
   "execution_count": null,
   "metadata": {},
   "outputs": [],
   "source": []
  },
  {
   "cell_type": "markdown",
   "metadata": {},
   "source": [
    "Таким образом мы видим, что Казимир разлагая разность суммы и интеграла в ряд Эйлера Маклорена ограничился только лишь третьей производной, отбросив высшие производные на том основании, что \"The higher derivatives will contain powers of $(\\pi/(a\\,k_m))$\" при том что \"a formula which holds as long as $a\\,k_m\\,»\\,1$\""
   ]
  },
  {
   "cell_type": "code",
   "execution_count": 1,
   "metadata": {},
   "outputs": [],
   "source": [
    "from IPython.display import display, Math, Latex\n",
    "\n",
    "def disp(ex):\n",
    "    display(Math(latex(ex)))"
   ]
  },
  {
   "cell_type": "code",
   "execution_count": 2,
   "metadata": {},
   "outputs": [],
   "source": [
    "a = var(\"a\")\n",
    "L = var(\"L\")\n",
    "\n",
    "k_x = var(\"k_x\")\n",
    "k_y = var(\"k_y\")\n",
    "k_z = var(\"k_z\")\n",
    "\n",
    "n_x = var(\"n_x\")\n",
    "n_y = var(\"n_y\")\n",
    "n_z = var(\"n_z\")"
   ]
  },
  {
   "cell_type": "code",
   "execution_count": 3,
   "metadata": {},
   "outputs": [],
   "source": [
    "k_x = pi * n_x / L\n",
    "k_y = pi * n_y / L\n",
    "k_z = pi * n_z / a"
   ]
  },
  {
   "cell_type": "code",
   "execution_count": 4,
   "metadata": {},
   "outputs": [],
   "source": [
    "#kappa = sqrt(k_x^2+k_y^2)\n",
    "kappa = var(\"kappa\")"
   ]
  },
  {
   "cell_type": "code",
   "execution_count": 5,
   "metadata": {},
   "outputs": [],
   "source": [
    "k = sqrt(kappa^2+k_z^2)"
   ]
  },
  {
   "cell_type": "code",
   "execution_count": 6,
   "metadata": {},
   "outputs": [
    {
     "data": {
      "text/plain": [
       "sqrt(kappa^2 + pi^2*n_z^2/a^2)"
      ]
     },
     "execution_count": 6,
     "metadata": {},
     "output_type": "execute_result"
    }
   ],
   "source": [
    "k"
   ]
  },
  {
   "cell_type": "code",
   "execution_count": 7,
   "metadata": {},
   "outputs": [],
   "source": [
    "#n = n_z\n",
    "n = var(\"n\")\n",
    "assume (n, \"real\")\n",
    "assume (n > 0)"
   ]
  },
  {
   "cell_type": "code",
   "execution_count": 8,
   "metadata": {},
   "outputs": [],
   "source": [
    "u = var(\"u\")\n",
    "#u = a^2*kappa^2/(n^2)"
   ]
  },
  {
   "cell_type": "code",
   "execution_count": 9,
   "metadata": {},
   "outputs": [],
   "source": [
    "w = var(\"w\")\n",
    "#w = u + n^2\n",
    "w = a^2*kappa^2/n^2 + n^2"
   ]
  },
  {
   "cell_type": "markdown",
   "metadata": {},
   "source": [
    "для дальнейших исследований нужно выбрать явный вид функции регуляризации"
   ]
  },
  {
   "cell_type": "code",
   "execution_count": 10,
   "metadata": {},
   "outputs": [],
   "source": [
    "m = 4\n",
    "\n",
    "f = function('f')(var(\"k_km\"))\n",
    "fn = lambda k, km : 1 / (1 + (k/km)^m)"
   ]
  },
  {
   "cell_type": "markdown",
   "metadata": {},
   "source": [
    "Проверяем, что выбранная функция регуляризации соответствует Казимировскому условию $k_m$ may be defined by $f(1) = \\frac{1}{2}$."
   ]
  },
  {
   "cell_type": "code",
   "execution_count": 11,
   "metadata": {},
   "outputs": [
    {
     "data": {
      "text/plain": [
       "1/2"
      ]
     },
     "execution_count": 11,
     "metadata": {},
     "output_type": "execute_result"
    }
   ],
   "source": [
    "fn(1, 1)"
   ]
  },
  {
   "cell_type": "code",
   "execution_count": 12,
   "metadata": {},
   "outputs": [],
   "source": [
    "k_m = var(\"k_m\")"
   ]
  },
  {
   "cell_type": "code",
   "execution_count": 13,
   "metadata": {},
   "outputs": [
    {
     "data": {
      "image/png": "[encoded data removed]",
      "text/plain": [
       "Graphics object consisting of 2 graphics primitives"
      ]
     },
     "execution_count": 13,
     "metadata": {},
     "output_type": "execute_result"
    }
   ],
   "source": [
    "plot([fn(x, 1000), fn(x, 1000)], (x, 0, 2000))"
   ]
  },
  {
   "cell_type": "markdown",
   "metadata": {},
   "source": [
    "Поскольку частота выражается $\\omega = c\\,\\sqrt{n^2\\frac{\\pi^2}{a^2}+k_x^2+k_y^2} = c\\,\\sqrt{n^2\\frac{\\pi^2}{a^2}+\\kappa^2}$\n",
    "\n",
    "и\n",
    "\n",
    "$u = a^2\\,\\kappa^2/\\pi^2$\n",
    "\n",
    "$\\kappa^2 = u \\frac{\\pi^2}{a^2}$\n",
    "\n",
    "имеем\n",
    "\n",
    "$\\omega = c \\, \\frac{\\pi}{a} \\sqrt{n^2+u}$ \n",
    "\n",
    "Таким образом регуляризационная функция $f$ введённая Казимиром имеет вид\n",
    "\n",
    "$f\\left(\\frac{\\pi\\sqrt{n^2+u}}{a\\,k_m}\\right) = f\\left(\\frac{\\omega}{c\\,k_m}\\right)$\n",
    "\n",
    "и так называемая частота обрезания\n",
    "\n",
    "$\\omega_m = c\\,k_m$"
   ]
  },
  {
   "cell_type": "markdown",
   "metadata": {},
   "source": [
    "Физический смысл частоты обрезания Казимир определяет следующим образом\n",
    "\n",
    "The physical meaning is obvious: for very short waves (X~rays e.g.)\n",
    "our plate is hardly an obstacle at all and therefore the zero point energy\n",
    "of these waves will not be influenced by the position of this plate.\n",
    "\n",
    "Но что мы знаем про рентгеновские лучи из опыта рентгенографии: чем плотнее тело, через которое проходит рентгеновский луч, тем сильнее этот луч поглощается. Человеческая кость на рентгеновском снимке светлая, а мягкие ткани тёмные. \n",
    "\n",
    "Возвращаясь к эффекту Казимира мы можем сказать что частота обрезания для более плотной и массивной пластины будет выше. Иными слувами $k_m$ пропорционален удельной массе пластины"
   ]
  },
  {
   "cell_type": "code",
   "execution_count": 14,
   "metadata": {},
   "outputs": [
    {
     "data": {
      "image/png": "[encoded data removed]",
      "text/plain": [
       "Graphics object consisting of 2 graphics primitives"
      ]
     },
     "execution_count": 14,
     "metadata": {},
     "output_type": "execute_result"
    }
   ],
   "source": [
    "plot([fn(x, 1000), fn(x, 5000)], (x, 0, 10000))"
   ]
  },
  {
   "cell_type": "markdown",
   "metadata": {},
   "source": [
    "Теперь я попытаюсь оценить сумму ряда составленного из \"The higher derivatives will contain powers of $(\\pi/(a\\,k_m))$\""
   ]
  },
  {
   "cell_type": "code",
   "execution_count": 15,
   "metadata": {},
   "outputs": [],
   "source": [
    "integrand = sqrt(w)*fn(pi*sqrt(w)/(a),k_m)"
   ]
  },
  {
   "cell_type": "code",
   "execution_count": 16,
   "metadata": {},
   "outputs": [],
   "source": [
    "N = var (\"N\") # Infinity\n",
    "from sage.symbolic.integration.integral import definite_integral\n",
    "F(n) = definite_integral(integrand, w, n^2, N)"
   ]
  },
  {
   "cell_type": "code",
   "execution_count": 17,
   "metadata": {},
   "outputs": [
    {
     "data": {
      "text/latex": [
       "$\\displaystyle \\int_{n^{2}}^{N} \\frac{\\sqrt{\\frac{a^{2} \\kappa^{2}}{n^{2}} + n^{2}}}{\\frac{\\pi^{4} {\\left(\\frac{a^{2} \\kappa^{2}}{n^{2}} + n^{2}\\right)}^{2}}{a^{4} k_{m}^{4}} + 1}\\,{d \\left(\\frac{a^{2} \\kappa^{2}}{n^{2}} + n^{2}\\right)}$"
      ],
      "text/plain": [
       "<IPython.core.display.Math object>"
      ]
     },
     "metadata": {},
     "output_type": "display_data"
    }
   ],
   "source": [
    "display(Math(latex(F(n))))"
   ]
  },
  {
   "cell_type": "markdown",
   "metadata": {},
   "source": [
    "Для этого нужно применить формулу Эйлера-Маклорена\n",
    "\n",
    "$${\\displaystyle \\sum _{i=a}^{b}f(i)=\\int _{a}^{b}f(x)\\,dx+{\\frac {f(a)+f(b)}{2}}+\\sum _{k=1}^{\\lfloor p/2\\rfloor }{\\frac {B_{2k}}{(2k)!}}(f^{(2k-1)}(b)-f^{(2k-1)}(a))+R_{p},}$$"
   ]
  },
  {
   "cell_type": "markdown",
   "metadata": {},
   "source": [
    "$${\\displaystyle P_{k}(x)=B_{k}(x-\\lfloor x\\rfloor ),}$$\n",
    "\n",
    "$${\\displaystyle R_{p}=(-1)^{p+1}\\int _{a}^{b}f^{(p)}(x){\\frac {P_{p}(x)}{p!}}\\,dx.}$$"
   ]
  },
  {
   "cell_type": "markdown",
   "metadata": {},
   "source": [
    "Для начала посмотрим чему равны производные $f^{(2k-1)}(0)$"
   ]
  },
  {
   "cell_type": "code",
   "execution_count": 18,
   "metadata": {},
   "outputs": [
    {
     "data": {
      "text/latex": [
       "$\\displaystyle -\\frac{2 \\, n^{2}}{\\frac{\\pi^{4} n^{4}}{a^{4} k_{m}^{4}} + 1}$"
      ],
      "text/plain": [
       "<IPython.core.display.Math object>"
      ]
     },
     "metadata": {},
     "output_type": "display_data"
    },
    {
     "data": {
      "text/latex": [
       "$\\displaystyle 0$"
      ],
      "text/plain": [
       "<IPython.core.display.Math object>"
      ]
     },
     "metadata": {},
     "output_type": "display_data"
    }
   ],
   "source": [
    "F1 = F(n).diff(n, 1).expand()\n",
    "display(Math(latex(F1)))\n",
    "display(Math(latex(F1.subs(n == 0))))"
   ]
  },
  {
   "cell_type": "code",
   "execution_count": 19,
   "metadata": {},
   "outputs": [
    {
     "data": {
      "text/latex": [
       "$\\displaystyle -\\frac{64 \\, \\pi^{8} n^{8}}{a^{8} k_{m}^{8} {\\left(\\frac{3 \\, \\pi^{4} n^{4}}{a^{4} k_{m}^{4}} + \\frac{3 \\, \\pi^{8} n^{8}}{a^{8} k_{m}^{8}} + \\frac{\\pi^{12} n^{12}}{a^{12} k_{m}^{12}} + 1\\right)}} + \\frac{56 \\, \\pi^{4} n^{4}}{a^{4} k_{m}^{4} {\\left(\\frac{2 \\, \\pi^{4} n^{4}}{a^{4} k_{m}^{4}} + \\frac{\\pi^{8} n^{8}}{a^{8} k_{m}^{8}} + 1\\right)}} - \\frac{4}{\\frac{\\pi^{4} n^{4}}{a^{4} k_{m}^{4}} + 1}$"
      ],
      "text/plain": [
       "<IPython.core.display.Math object>"
      ]
     },
     "metadata": {},
     "output_type": "display_data"
    },
    {
     "data": {
      "text/latex": [
       "$\\displaystyle -4$"
      ],
      "text/plain": [
       "<IPython.core.display.Math object>"
      ]
     },
     "metadata": {},
     "output_type": "display_data"
    }
   ],
   "source": [
    "F3 = F(n).diff(n, 3).expand()\n",
    "display(Math(latex(F3)))\n",
    "display(Math(latex(F3.subs(n == 0))))"
   ]
  },
  {
   "cell_type": "code",
   "execution_count": 20,
   "metadata": {},
   "outputs": [
    {
     "data": {
      "text/latex": [
       "$\\displaystyle -\\frac{12288 \\, \\pi^{16} n^{14}}{a^{16} k_{m}^{16} {\\left(\\frac{5 \\, \\pi^{4} n^{4}}{a^{4} k_{m}^{4}} + \\frac{10 \\, \\pi^{8} n^{8}}{a^{8} k_{m}^{8}} + \\frac{10 \\, \\pi^{12} n^{12}}{a^{12} k_{m}^{12}} + \\frac{5 \\, \\pi^{16} n^{16}}{a^{16} k_{m}^{16}} + \\frac{\\pi^{20} n^{20}}{a^{20} k_{m}^{20}} + 1\\right)}} + \\frac{19968 \\, \\pi^{12} n^{10}}{a^{12} k_{m}^{12} {\\left(\\frac{4 \\, \\pi^{4} n^{4}}{a^{4} k_{m}^{4}} + \\frac{6 \\, \\pi^{8} n^{8}}{a^{8} k_{m}^{8}} + \\frac{4 \\, \\pi^{12} n^{12}}{a^{12} k_{m}^{12}} + \\frac{\\pi^{16} n^{16}}{a^{16} k_{m}^{16}} + 1\\right)}} - \\frac{8640 \\, \\pi^{8} n^{6}}{a^{8} k_{m}^{8} {\\left(\\frac{3 \\, \\pi^{4} n^{4}}{a^{4} k_{m}^{4}} + \\frac{3 \\, \\pi^{8} n^{8}}{a^{8} k_{m}^{8}} + \\frac{\\pi^{12} n^{12}}{a^{12} k_{m}^{12}} + 1\\right)}} + \\frac{720 \\, \\pi^{4} n^{2}}{a^{4} k_{m}^{4} {\\left(\\frac{2 \\, \\pi^{4} n^{4}}{a^{4} k_{m}^{4}} + \\frac{\\pi^{8} n^{8}}{a^{8} k_{m}^{8}} + 1\\right)}}$"
      ],
      "text/plain": [
       "<IPython.core.display.Math object>"
      ]
     },
     "metadata": {},
     "output_type": "display_data"
    },
    {
     "data": {
      "text/latex": [
       "$\\displaystyle 0$"
      ],
      "text/plain": [
       "<IPython.core.display.Math object>"
      ]
     },
     "metadata": {},
     "output_type": "display_data"
    }
   ],
   "source": [
    "F5 = F(n).diff(n, 5).expand()\n",
    "display(Math(latex(F5)))\n",
    "display(Math(latex(F5.subs(n == 0))))"
   ]
  },
  {
   "cell_type": "code",
   "execution_count": 21,
   "metadata": {},
   "outputs": [
    {
     "data": {
      "text/latex": [
       "$\\displaystyle -\\frac{5898240 \\, \\pi^{24} n^{20}}{a^{24} k_{m}^{24} {\\left(\\frac{7 \\, \\pi^{4} n^{4}}{a^{4} k_{m}^{4}} + \\frac{21 \\, \\pi^{8} n^{8}}{a^{8} k_{m}^{8}} + \\frac{35 \\, \\pi^{12} n^{12}}{a^{12} k_{m}^{12}} + \\frac{35 \\, \\pi^{16} n^{16}}{a^{16} k_{m}^{16}} + \\frac{21 \\, \\pi^{20} n^{20}}{a^{20} k_{m}^{20}} + \\frac{7 \\, \\pi^{24} n^{24}}{a^{24} k_{m}^{24}} + \\frac{\\pi^{28} n^{28}}{a^{28} k_{m}^{28}} + 1\\right)}} + \\frac{14008320 \\, \\pi^{20} n^{16}}{a^{20} k_{m}^{20} {\\left(\\frac{6 \\, \\pi^{4} n^{4}}{a^{4} k_{m}^{4}} + \\frac{15 \\, \\pi^{8} n^{8}}{a^{8} k_{m}^{8}} + \\frac{20 \\, \\pi^{12} n^{12}}{a^{12} k_{m}^{12}} + \\frac{15 \\, \\pi^{16} n^{16}}{a^{16} k_{m}^{16}} + \\frac{6 \\, \\pi^{20} n^{20}}{a^{20} k_{m}^{20}} + \\frac{\\pi^{24} n^{24}}{a^{24} k_{m}^{24}} + 1\\right)}} - \\frac{11243520 \\, \\pi^{16} n^{12}}{a^{16} k_{m}^{16} {\\left(\\frac{5 \\, \\pi^{4} n^{4}}{a^{4} k_{m}^{4}} + \\frac{10 \\, \\pi^{8} n^{8}}{a^{8} k_{m}^{8}} + \\frac{10 \\, \\pi^{12} n^{12}}{a^{12} k_{m}^{12}} + \\frac{5 \\, \\pi^{16} n^{16}}{a^{16} k_{m}^{16}} + \\frac{\\pi^{20} n^{20}}{a^{20} k_{m}^{20}} + 1\\right)}} + \\frac{3421440 \\, \\pi^{12} n^{8}}{a^{12} k_{m}^{12} {\\left(\\frac{4 \\, \\pi^{4} n^{4}}{a^{4} k_{m}^{4}} + \\frac{6 \\, \\pi^{8} n^{8}}{a^{8} k_{m}^{8}} + \\frac{4 \\, \\pi^{12} n^{12}}{a^{12} k_{m}^{12}} + \\frac{\\pi^{16} n^{16}}{a^{16} k_{m}^{16}} + 1\\right)}} - \\frac{299520 \\, \\pi^{8} n^{4}}{a^{8} k_{m}^{8} {\\left(\\frac{3 \\, \\pi^{4} n^{4}}{a^{4} k_{m}^{4}} + \\frac{3 \\, \\pi^{8} n^{8}}{a^{8} k_{m}^{8}} + \\frac{\\pi^{12} n^{12}}{a^{12} k_{m}^{12}} + 1\\right)}} + \\frac{1440 \\, \\pi^{4}}{a^{4} k_{m}^{4} {\\left(\\frac{2 \\, \\pi^{4} n^{4}}{a^{4} k_{m}^{4}} + \\frac{\\pi^{8} n^{8}}{a^{8} k_{m}^{8}} + 1\\right)}}$"
      ],
      "text/plain": [
       "<IPython.core.display.Math object>"
      ]
     },
     "metadata": {},
     "output_type": "display_data"
    },
    {
     "data": {
      "text/latex": [
       "$\\displaystyle \\frac{1440 \\, \\pi^{4}}{a^{4} k_{m}^{4}}$"
      ],
      "text/plain": [
       "<IPython.core.display.Math object>"
      ]
     },
     "metadata": {},
     "output_type": "display_data"
    }
   ],
   "source": [
    "F7 = F(n).diff(n, 7).expand()\n",
    "display(Math(latex(F7)))\n",
    "display(Math(latex(F7.subs(n == 0))))"
   ]
  },
  {
   "cell_type": "code",
   "execution_count": 22,
   "metadata": {},
   "outputs": [
    {
     "data": {
      "text/latex": [
       "$\\displaystyle 0$"
      ],
      "text/plain": [
       "<IPython.core.display.Math object>"
      ]
     },
     "metadata": {},
     "output_type": "display_data"
    }
   ],
   "source": [
    "F9 = F(n).diff(n, 9).expand()\n",
    "display(Math(latex(F9.subs(n == 0))))"
   ]
  },
  {
   "cell_type": "code",
   "execution_count": 23,
   "metadata": {},
   "outputs": [
    {
     "data": {
      "text/latex": [
       "$\\displaystyle 0$"
      ],
      "text/plain": [
       "<IPython.core.display.Math object>"
      ]
     },
     "metadata": {},
     "output_type": "display_data"
    }
   ],
   "source": [
    "F11 = F(n).diff(n, 11).expand()\n",
    "display(Math(latex(F9.subs(n == 0))))"
   ]
  },
  {
   "cell_type": "code",
   "execution_count": 24,
   "metadata": {},
   "outputs": [
    {
     "data": {
      "text/latex": [
       "$\\displaystyle 0$"
      ],
      "text/plain": [
       "<IPython.core.display.Math object>"
      ]
     },
     "metadata": {},
     "output_type": "display_data"
    }
   ],
   "source": [
    "F13 = F(n).diff(n, 13).expand()\n",
    "display(Math(latex(F13.subs(n == 0))))"
   ]
  },
  {
   "cell_type": "code",
   "execution_count": 25,
   "metadata": {},
   "outputs": [
    {
     "data": {
      "text/latex": [
       "$\\displaystyle \\frac{174356582400 \\, \\pi^{12}}{a^{12} k_{m}^{12}}$"
      ],
      "text/plain": [
       "<IPython.core.display.Math object>"
      ]
     },
     "metadata": {},
     "output_type": "display_data"
    }
   ],
   "source": [
    "F15 = F(n).diff(n, 15).expand()\n",
    "display(Math(latex(F15.subs(n == 0))))"
   ]
  },
  {
   "cell_type": "markdown",
   "metadata": {},
   "source": [
    "Для численных оценок выбираю характерные для наблюдения эффекта Казимира значения зазора и волнового вектора обрезания"
   ]
  },
  {
   "cell_type": "code",
   "execution_count": 26,
   "metadata": {},
   "outputs": [
    {
     "data": {
      "text/plain": [
       "1/1000000"
      ]
     },
     "execution_count": 26,
     "metadata": {},
     "output_type": "execute_result"
    }
   ],
   "source": [
    "# На расстояниях порядка 10 нм — сотни размеров типичного атома — давление, создаваемое эффектом Казимира, оказывается сравнимым с атмосферным.\n",
    "a_f = 10 * 10^-9 * 100\n",
    "a_f"
   ]
  },
  {
   "cell_type": "code",
   "execution_count": 27,
   "metadata": {},
   "outputs": [
    {
     "data": {
      "text/plain": [
       "20000000*pi"
      ]
     },
     "execution_count": 27,
     "metadata": {},
     "output_type": "execute_result"
    }
   ],
   "source": [
    "# Most X-rays have a wavelength ranging from 10 picometers to 10 nanometers,\n",
    "k_mf = 2*pi/(10 * 10^-9 * 100 * 10^-1)\n",
    "k_mf"
   ]
  },
  {
   "cell_type": "markdown",
   "metadata": {},
   "source": [
    "\"a formula which holds as long as $a\\,k_m\\,»\\,1$\""
   ]
  },
  {
   "cell_type": "code",
   "execution_count": 28,
   "metadata": {},
   "outputs": [
    {
     "data": {
      "text/plain": [
       "20*pi"
      ]
     },
     "execution_count": 28,
     "metadata": {},
     "output_type": "execute_result"
    }
   ],
   "source": [
    "a_f*k_mf"
   ]
  },
  {
   "cell_type": "markdown",
   "metadata": {},
   "source": [
    "Строю ряд с намерением показать, что полученный ряд можно с некоторой степенью точности преобразовать в ряд геометрической прогрессии. Любой член геометрической прогрессии может быть вычислен по формуле $b_n = b_1\\,q^{n-1}$"
   ]
  },
  {
   "cell_type": "code",
   "execution_count": 29,
   "metadata": {},
   "outputs": [],
   "source": [
    "def calc_sum_dE(a_f, k_mf, k_max = 32, logging=False):\n",
    "\n",
    "    vg = []\n",
    "    vq = []\n",
    "    \n",
    "    # Сумма слагаемых ряда в формуле Эйлера Маклорена\n",
    "    sum_dE_f = 0\n",
    "    v_sum_dE_f = []\n",
    "\n",
    "    for kk in range(1, int(k_max)):\n",
    "        # порядок производной\n",
    "        j = 2*kk-1\n",
    "        # показатель степени of $(\\pi/(a\\,k_m))$\n",
    "        pw = j - 3\n",
    "        # показатель степени геометрической прогрессии (n - 1)\n",
    "        n_1 = pw/m\n",
    "        # вычисляем производную в нуле\n",
    "        djF0 = F(n).diff(n, j).expand().subs(n == 0)\n",
    "        # число Бернулли делим на факториал\n",
    "        mBj = (bernoulli(2*kk)/factorial(2*kk))\n",
    "        # Умножаем производную на число Бернулли делённое на факториал, получаем слагаемое ряда\n",
    "        # берём со знаком минус потому что производную в нуле нужно вычитать\n",
    "        dE = - djF0*mBj\n",
    "\n",
    "        # Отделяем численный множитель от слагаемого ряда\n",
    "        p = dE * (a*k_m/pi)^(pw)\n",
    "\n",
    "        if pw > 0:\n",
    "            # Извлекаем корень степени соответствующий показателю степени of $(\\pi/(a\\,k_m))$ из численного множителя ряда\n",
    "            g = abs(p.n())^(1/pw)\n",
    "            # Извлекаем корень степени соответствующий показателю степени геометрической прогрессии из численного множителя ряда\n",
    "            q = abs(p.n())^(1/n_1)\n",
    "        else:\n",
    "            g = 0.0\n",
    "            q = 0.0\n",
    "\n",
    "        if logging:\n",
    "            print (\"j\", j, \"pw\", pw, \"n_1\", n_1, \"p\", p, \"g\", g, \"q\", q)\n",
    "\n",
    "\n",
    "        # Подставляем численные значения\n",
    "        dE_f = dE.subs(a == a_f, k_m == k_mf)\n",
    "        sum_dE_f += dE_f.n()\n",
    "\n",
    "        if j >= 3:\n",
    "            vg += [(j, g)]\n",
    "            vq += [(j, q)]\n",
    "\n",
    "            v_sum_dE_f += [(j, sum_dE_f)]\n",
    "\n",
    "        if j >= 3 and logging:\n",
    "            display(Math(latex( (j, djF0, mBj, dE, dE_f) )))\n",
    "    return sum_dE_f, vg, vq, v_sum_dE_f"
   ]
  },
  {
   "cell_type": "code",
   "execution_count": 30,
   "metadata": {},
   "outputs": [
    {
     "name": "stdout",
     "output_type": "stream",
     "text": [
      "j 1 pw -2 n_1 -1/2 p 0 g 0.000000000000000 q 0.000000000000000\n",
      "j 3 pw 0 n_1 0 p -1/180 g 0.000000000000000 q 0.000000000000000\n"
     ]
    },
    {
     "data": {
      "text/latex": [
       "$\\displaystyle \\left(3, -4, -\\frac{1}{720}, -\\frac{1}{180}, -\\frac{1}{180}\\right)$"
      ],
      "text/plain": [
       "<IPython.core.display.Math object>"
      ]
     },
     "metadata": {},
     "output_type": "display_data"
    },
    {
     "name": "stdout",
     "output_type": "stream",
     "text": [
      "j 5 pw 2 n_1 1/2 p 0 g 0.000000000000000 q 0.000000000000000\n"
     ]
    },
    {
     "data": {
      "text/latex": [
       "$\\displaystyle \\left(5, 0, \\frac{1}{30240}, 0, 0\\right)$"
      ],
      "text/plain": [
       "<IPython.core.display.Math object>"
      ]
     },
     "metadata": {},
     "output_type": "display_data"
    },
    {
     "name": "stdout",
     "output_type": "stream",
     "text": [
      "j 7 pw 4 n_1 1 p 1/840 g 0.185750579991336 q 0.00119047619047619\n"
     ]
    },
    {
     "data": {
      "text/latex": [
       "$\\displaystyle \\left(7, \\frac{1440 \\, \\pi^{4}}{a^{4} k_{m}^{4}}, -\\frac{1}{1209600}, \\frac{\\pi^{4}}{840 \\, a^{4} k_{m}^{4}}, \\frac{1}{134400000}\\right)$"
      ],
      "text/plain": [
       "<IPython.core.display.Math object>"
      ]
     },
     "metadata": {},
     "output_type": "display_data"
    },
    {
     "name": "stdout",
     "output_type": "stream",
     "text": [
      "j 9 pw 6 n_1 3/2 p 0 g 0.000000000000000 q 0.000000000000000\n"
     ]
    },
    {
     "data": {
      "text/latex": [
       "$\\displaystyle \\left(9, 0, \\frac{1}{47900160}, 0, 0\\right)$"
      ],
      "text/plain": [
       "<IPython.core.display.Math object>"
      ]
     },
     "metadata": {},
     "output_type": "display_data"
    },
    {
     "name": "stdout",
     "output_type": "stream",
     "text": [
      "j 11 pw 8 n_1 2 p -691/180180 g 0.498851673054865 q 0.0619278114828373\n"
     ]
    },
    {
     "data": {
      "text/latex": [
       "$\\displaystyle \\left(11, -\\frac{7257600 \\, \\pi^{8}}{a^{8} k_{m}^{8}}, -\\frac{691}{1307674368000}, -\\frac{691 \\, \\pi^{8}}{180180 \\, a^{8} k_{m}^{8}}, -\\frac{691}{4612608000000000}\\right)$"
      ],
      "text/plain": [
       "<IPython.core.display.Math object>"
      ]
     },
     "metadata": {},
     "output_type": "display_data"
    },
    {
     "name": "stdout",
     "output_type": "stream",
     "text": [
      "j 13 pw 10 n_1 5/2 p 0 g 0.000000000000000 q 0.000000000000000\n"
     ]
    },
    {
     "data": {
      "text/latex": [
       "$\\displaystyle \\left(13, 0, \\frac{1}{74724249600}, 0, 0\\right)$"
      ],
      "text/plain": [
       "<IPython.core.display.Math object>"
      ]
     },
     "metadata": {},
     "output_type": "display_data"
    },
    {
     "name": "stdout",
     "output_type": "stream",
     "text": [
      "j 15 pw 12 n_1 3 p 3617/61200 g 0.790010912984256 q 0.389522332553338\n"
     ]
    },
    {
     "data": {
      "text/latex": [
       "$\\displaystyle \\left(15, \\frac{174356582400 \\, \\pi^{12}}{a^{12} k_{m}^{12}}, -\\frac{3617}{10670622842880000}, \\frac{3617 \\, \\pi^{12}}{61200 \\, a^{12} k_{m}^{12}}, \\frac{3617}{250675200000000000000}\\right)$"
      ],
      "text/plain": [
       "<IPython.core.display.Math object>"
      ]
     },
     "metadata": {},
     "output_type": "display_data"
    },
    {
     "name": "stdout",
     "output_type": "stream",
     "text": [
      "j 17 pw 14 n_1 7/2 p 0 g 0.000000000000000 q 0.000000000000000\n"
     ]
    },
    {
     "data": {
      "text/latex": [
       "$\\displaystyle \\left(17, 0, \\frac{43867}{5109094217170944000}, 0, 0\\right)$"
      ],
      "text/plain": [
       "<IPython.core.display.Math object>"
      ]
     },
     "metadata": {},
     "output_type": "display_data"
    },
    {
     "name": "stdout",
     "output_type": "stream",
     "text": [
      "j 19 pw 16 n_1 4 p -174611/62700 g 1.06610567135651 q 1.29181705718923\n"
     ]
    },
    {
     "data": {
      "text/latex": [
       "$\\displaystyle \\left(19, -\\frac{12804747411456000 \\, \\pi^{16}}{a^{16} k_{m}^{16}}, -\\frac{174611}{802857662698291200000}, -\\frac{174611 \\, \\pi^{16}}{62700 \\, a^{16} k_{m}^{16}}, -\\frac{174611}{41091072000000000000000000}\\right)$"
      ],
      "text/plain": [
       "<IPython.core.display.Math object>"
      ]
     },
     "metadata": {},
     "output_type": "display_data"
    },
    {
     "name": "stdout",
     "output_type": "stream",
     "text": [
      "j 21 pw 18 n_1 9/2 p 0 g 0.000000000000000 q 0.000000000000000\n"
     ]
    },
    {
     "data": {
      "text/latex": [
       "$\\displaystyle \\left(21, 0, \\frac{77683}{14101100039391805440000}, 0, 0\\right)$"
      ],
      "text/plain": [
       "<IPython.core.display.Math object>"
      ]
     },
     "metadata": {},
     "output_type": "display_data"
    },
    {
     "name": "stdout",
     "output_type": "stream",
     "text": [
      "j 23 pw 20 n_1 5 p 236364091/753480 g 1.33298569397469 q 3.15719897989524\n"
     ]
    },
    {
     "data": {
      "text/latex": [
       "$\\displaystyle \\left(23, \\frac{2248001455555215360000 \\, \\pi^{20}}{a^{20} k_{m}^{20}}, -\\frac{236364091}{1693824136731743669452800000}, \\frac{236364091 \\, \\pi^{20}}{753480 \\, a^{20} k_{m}^{20}}, \\frac{236364091}{79008104448000000000000000000000}\\right)$"
      ],
      "text/plain": [
       "<IPython.core.display.Math object>"
      ]
     },
     "metadata": {},
     "output_type": "display_data"
    },
    {
     "name": "stdout",
     "output_type": "stream",
     "text": [
      "j 25 pw 22 n_1 11/2 p 0 g 0.000000000000000 q 0.000000000000000\n"
     ]
    },
    {
     "data": {
      "text/latex": [
       "$\\displaystyle \\left(25, 0, \\frac{657931}{186134520519971831808000000}, 0, 0\\right)$"
      ],
      "text/plain": [
       "<IPython.core.display.Math object>"
      ]
     },
     "metadata": {},
     "output_type": "display_data"
    },
    {
     "name": "stdout",
     "output_type": "stream",
     "text": [
      "j 27 pw 24 n_1 6 p -3392780147/46980 g 1.59383531759339 q 6.45318007634196\n"
     ]
    },
    {
     "data": {
      "text/latex": [
       "$\\displaystyle \\left(27, -\\frac{806582922253211271168000000 \\, \\pi^{24}}{a^{24} k_{m}^{24}}, -\\frac{3392780147}{37893265687455865519472640000000}, -\\frac{3392780147 \\, \\pi^{24}}{46980 \\, a^{24} k_{m}^{24}}, -\\frac{3392780147}{788193607680000000000000000000000000}\\right)$"
      ],
      "text/plain": [
       "<IPython.core.display.Math object>"
      ]
     },
     "metadata": {},
     "output_type": "display_data"
    },
    {
     "name": "stdout",
     "output_type": "stream",
     "text": [
      "j 29 pw 26 n_1 13/2 p 0 g 0.000000000000000 q 0.000000000000000\n"
     ]
    },
    {
     "data": {
      "text/latex": [
       "$\\displaystyle \\left(29, 0, \\frac{1723168255201}{759790291646040068357842010112000000}, 0, 0\\right)$"
      ],
      "text/plain": [
       "<IPython.core.display.Math object>"
      ]
     },
     "metadata": {},
     "output_type": "display_data"
    },
    {
     "name": "stdout",
     "output_type": "stream",
     "text": [
      "j 31 pw 28 n_1 7 p 7709321041217/252960 g 1.85048018293307 q 11.7256723387447\n"
     ]
    },
    {
     "data": {
      "text/latex": [
       "$\\displaystyle \\left(31, \\frac{530505719624382117272616960000000 \\, \\pi^{28}}{a^{28} k_{m}^{28}}, -\\frac{7709321041217}{134196726836183700385281186201600000000}, \\frac{7709321041217 \\, \\pi^{28}}{252960 \\, a^{28} k_{m}^{28}}, \\frac{7709321041217}{679034329497600000000000000000000000000000}\\right)$"
      ],
      "text/plain": [
       "<IPython.core.display.Math object>"
      ]
     },
     "metadata": {},
     "output_type": "display_data"
    },
    {
     "name": "stdout",
     "output_type": "stream",
     "text": [
      "j 33 pw 30 n_1 15/2 p 0 g 0.000000000000000 q 0.000000000000000\n"
     ]
    },
    {
     "data": {
      "text/latex": [
       "$\\displaystyle \\left(33, 0, \\frac{151628697551}{104199811425742637946218332815360000000}, 0, 0\\right)$"
      ],
      "text/plain": [
       "<IPython.core.display.Math object>"
      ]
     },
     "metadata": {},
     "output_type": "display_data"
    },
    {
     "name": "stdout",
     "output_type": "stream",
     "text": [
      "j 35 pw 32 n_1 8 p -26315271553053477373/1209089700 g 2.10404326898010 q 19.5983119803178\n"
     ]
    },
    {
     "data": {
      "text/latex": [
       "$\\displaystyle \\left(35, -\\frac{590465598079208281695237219287040000000 \\, \\pi^{32}}{a^{32} k_{m}^{32}}, -\\frac{26315271553053477373}{713925872841910517552409860896601407488000000000}, -\\frac{26315271553053477373 \\, \\pi^{32}}{1209089700 \\, a^{32} k_{m}^{32}}, -\\frac{26315271553053477373}{519300071943045120000000000000000000000000000000000}\\right)$"
      ],
      "text/plain": [
       "<IPython.core.display.Math object>"
      ]
     },
     "metadata": {},
     "output_type": "display_data"
    },
    {
     "name": "stdout",
     "output_type": "stream",
     "text": [
      "j 37 pw 34 n_1 17/2 p 0 g 0.000000000000000 q 0.000000000000000\n"
     ]
    },
    {
     "data": {
      "text/latex": [
       "$\\displaystyle \\left(37, 0, \\frac{154210205991661}{165165037094716140555791754978970828800000000}, 0, 0\\right)$"
      ],
      "text/plain": [
       "<IPython.core.display.Math object>"
      ]
     },
     "metadata": {},
     "output_type": "display_data"
    },
    {
     "name": "stdout",
     "output_type": "stream",
     "text": [
      "j 39 pw 36 n_1 9 p 261082718496449122051/10553400 g 2.35525802599791 q 30.7718757117689\n"
     ]
    },
    {
     "data": {
      "text/latex": [
       "$\\displaystyle \\left(39, \\frac{1046045234933202223520014448200148582400000000 \\, \\pi^{36}}{a^{36} k_{m}^{36}}, -\\frac{261082718496449122051}{11039333782344056345696120477635448049500160000000000}, \\frac{261082718496449122051 \\, \\pi^{36}}{10553400 \\, a^{36} k_{m}^{36}}, \\frac{261082718496449122051}{725224125785702400000000000000000000000000000000000000}\\right)$"
      ],
      "text/plain": [
       "<IPython.core.display.Math object>"
      ]
     },
     "metadata": {},
     "output_type": "display_data"
    },
    {
     "name": "stdout",
     "output_type": "stream",
     "text": [
      "j 41 pw 38 n_1 19/2 p 0 g 0.000000000000000 q 0.000000000000000\n"
     ]
    },
    {
     "data": {
      "text/latex": [
       "$\\displaystyle \\left(41, 0, \\frac{1520097643918070802691}{2537441048661701096768915546877587895305109504000000000}, 0, 0\\right)$"
      ],
      "text/plain": [
       "<IPython.core.display.Math object>"
      ]
     },
     "metadata": {},
     "output_type": "display_data"
    },
    {
     "name": "stdout",
     "output_type": "stream",
     "text": [
      "j 43 pw 40 n_1 10 p -2530297234481911294093/59340 g 2.60462737037423 q 46.0237921710150\n"
     ]
    },
    {
     "data": {
      "text/latex": [
       "$\\displaystyle \\left(43, -\\frac{2810012235505759797086285212489023139872768000000000 \\, \\pi^{40}}{a^{40} k_{m}^{40}}, -\\frac{2530297234481911294093}{166746126054911786359100164509098633120050053120000000000}, -\\frac{2530297234481911294093 \\, \\pi^{40}}{59340 \\, a^{40} k_{m}^{40}}, -\\frac{2530297234481911294093}{652450199922278400000000000000000000000000000000000000000}\\right)$"
      ],
      "text/plain": [
       "<IPython.core.display.Math object>"
      ]
     },
     "metadata": {},
     "output_type": "display_data"
    },
    {
     "name": "stdout",
     "output_type": "stream",
     "text": [
      "j 45 pw 42 n_1 21/2 p 0 g 0.000000000000000 q 0.000000000000000\n"
     ]
    },
    {
     "data": {
      "text/latex": [
       "$\\displaystyle \\left(45, 0, \\frac{25932657025822267968607}{67466932568130829732947223083550951296312425840640000000000}, 0, 0\\right)$"
      ],
      "text/plain": [
       "<IPython.core.display.Math object>"
      ]
     },
     "metadata": {},
     "output_type": "display_data"
    },
    {
     "name": "stdout",
     "output_type": "stream",
     "text": [
      "j 47 pw 44 n_1 11 p 5609403368997817686249127547/52350480 g 2.85251004133031 q 66.2077345178471\n"
     ]
    },
    {
     "data": {
      "text/latex": [
       "$\\displaystyle \\left(47, \\frac{11005244319624177899700610857600509785923303505920000000000 \\, \\pi^{44}}{a^{44} k_{m}^{44}}, -\\frac{5609403368997817686249127547}{576129822649599132654718834688598335537782181720594841600000000000}, \\frac{5609403368997817686249127547 \\, \\pi^{44}}{52350480 \\, a^{44} k_{m}^{44}}, \\frac{5609403368997817686249127547}{92095938367447891968000000000000000000000000000000000000000000000}\\right)$"
      ],
      "text/plain": [
       "<IPython.core.display.Math object>"
      ]
     },
     "metadata": {},
     "output_type": "display_data"
    },
    {
     "name": "stdout",
     "output_type": "stream",
     "text": [
      "j 49 pw 46 n_1 23/2 p 0 g 0.000000000000000 q 0.000000000000000\n"
     ]
    },
    {
     "data": {
      "text/latex": [
       "$\\displaystyle \\left(49, 0, \\frac{19802288209643185928499101}{80293206052523318035137285558410989749156973742055751680000000000}, 0, 0\\right)$"
      ],
      "text/plain": [
       "<IPython.core.display.Math object>"
      ]
     },
     "metadata": {},
     "output_type": "display_data"
    },
    {
     "name": "stdout",
     "output_type": "stream",
     "text": [
      "j 51 pw 48 n_1 12 p -61628132164268458257532691681/162180 g 3.09917037717562 q 92.2532785045563\n"
     ]
    },
    {
     "data": {
      "text/latex": [
       "$\\displaystyle \\left(51, -\\frac{60828186403426756087225216332129537688755283137921024000000000000 \\, \\pi^{48}}{a^{48} k_{m}^{48}}, -\\frac{61628132164268458257532691681}{9865115270907751302226185584744768422362331819308031672320000000000000}, -\\frac{61628132164268458257532691681 \\, \\pi^{48}}{162180 \\, a^{48} k_{m}^{48}}, -\\frac{61628132164268458257532691681}{45649611722934190080000000000000000000000000000000000000000000000000}\\right)$"
      ],
      "text/plain": [
       "<IPython.core.display.Math object>"
      ]
     },
     "metadata": {},
     "output_type": "display_data"
    },
    {
     "name": "stdout",
     "output_type": "stream",
     "text": [
      "j 53 pw 50 n_1 25/2 p 0 g 0.000000000000000 q 0.000000000000000\n"
     ]
    },
    {
     "data": {
      "text/latex": [
       "$\\displaystyle \\left(53, 0, \\frac{29149963634884862421418123812691}{184213270476714621616730008661056009704456294528302737023565824000000000000}, 0, 0\\right)$"
      ],
      "text/plain": [
       "<IPython.core.display.Math object>"
      ]
     },
     "metadata": {},
     "output_type": "display_data"
    },
    {
     "name": "stdout",
     "output_type": "stream",
     "text": [
      "j 55 pw 52 n_1 13 p 354198989901889536240773677094747/191400 g 3.34480849388984 q 125.165612694815\n"
     ]
    },
    {
     "data": {
      "text/latex": [
       "$\\displaystyle \\left(55, \\frac{461687394678482760944185485366055162166557129143615882264576000000000000 \\, \\pi^{52}}{a^{52} k_{m}^{52}}, -\\frac{354198989901889536240773677094747}{88366967341461600444717101899062958038679034518088079865439846400000000000000}, \\frac{354198989901889536240773677094747 \\, \\pi^{52}}{191400 \\, a^{52} k_{m}^{52}}, \\frac{354198989901889536240773677094747}{8619889686787129344000000000000000000000000000000000000000000000000000000}\\right)$"
      ],
      "text/plain": [
       "<IPython.core.display.Math object>"
      ]
     },
     "metadata": {},
     "output_type": "display_data"
    },
    {
     "name": "stdout",
     "output_type": "stream",
     "text": [
      "j 57 pw 54 n_1 27/2 p 0 g 0.000000000000000 q 0.000000000000000\n"
     ]
    },
    {
     "data": {
      "text/latex": [
       "$\\displaystyle \\left(57, 0, \\frac{2913228046513104891794716413587449}{28693059009453069463021866149046084071566112435728434318790612746240000000000000}, 0, 0\\right)$"
      ],
      "text/plain": [
       "<IPython.core.display.Math object>"
      ]
     },
     "metadata": {},
     "output_type": "display_data"
    },
    {
     "name": "stdout",
     "output_type": "stream",
     "text": [
      "j 59 pw 56 n_1 14 p -1215233140483755572040304994079820246041491/100512512100 g 3.58957938268158 q 166.025290332062\n"
     ]
    },
    {
     "data": {
      "text/latex": [
       "$\\displaystyle \\left(59, -\\frac{4701122662565757143658949821030149367657724636362285848841399828480000000000000 \\, \\pi^{56}}{a^{56} k_{m}^{56}}, -\\frac{1215233140483755572040304994079820246041491}{472521648504724881947681632159585722781504396170832356365329971241033924608000000000000000}, -\\frac{1215233140483755572040304994079820246041491 \\, \\pi^{56}}{100512512100 \\, a^{56} k_{m}^{56}}, -\\frac{1215233140483755572040304994079820246041491}{724268979263411952612802560000000000000000000000000000000000000000000000000000000000}\\right)$"
      ],
      "text/plain": [
       "<IPython.core.display.Math object>"
      ]
     },
     "metadata": {},
     "output_type": "display_data"
    },
    {
     "name": "stdout",
     "output_type": "stream",
     "text": [
      "j 61 pw 58 n_1 29/2 p 0 g 0.000000000000000 q 0.000000000000000\n"
     ]
    },
    {
     "data": {
      "text/latex": [
       "$\\displaystyle \\left(61, 0, \\frac{396793078518930920708162576045270521}{6090962566526697585610281746119502726712054347856432037192871273771827200000000000000}, 0, 0\\right)$"
      ],
      "text/plain": [
       "<IPython.core.display.Math object>"
      ]
     },
     "metadata": {},
     "output_type": "display_data"
    }
   ],
   "source": [
    "sum_dE_f, vg, vq, v_sum_dE_f = calc_sum_dE(a_f=a_f, k_mf=k_mf, logging = True)"
   ]
  },
  {
   "cell_type": "markdown",
   "metadata": {},
   "source": [
    "Сумма слагаемых ряда в формуле Эйлера Маклорена"
   ]
  },
  {
   "cell_type": "code",
   "execution_count": 31,
   "metadata": {},
   "outputs": [
    {
     "data": {
      "text/plain": [
       "-0.00555554811522916"
      ]
     },
     "execution_count": 31,
     "metadata": {},
     "output_type": "execute_result"
    }
   ],
   "source": [
    "(sum_dE_f).n()"
   ]
  },
  {
   "cell_type": "markdown",
   "metadata": {},
   "source": [
    "Сравниваем полученную сумму слагаемых с величиной $-\\frac{1}{180} = \\frac{-4}{24\\times30}$ из выкладок Казимира\n",
    "\n",
    "$\\delta\\,E/L^2 = \\hbar\\,c\\frac{\\pi^2}{4\\,a^3}\\left\\{\\frac{-4}{24\\times30}\\right\\}$"
   ]
  },
  {
   "cell_type": "code",
   "execution_count": 32,
   "metadata": {},
   "outputs": [
    {
     "data": {
      "text/plain": [
       "7.44032639925923e-9"
      ]
     },
     "execution_count": 32,
     "metadata": {},
     "output_type": "execute_result"
    }
   ],
   "source": [
    "(sum_dE_f-(-1/180)).n()"
   ]
  },
  {
   "cell_type": "code",
   "execution_count": 33,
   "metadata": {},
   "outputs": [
    {
     "data": {
      "text/plain": [
       "1.33925875186666e-6"
      ]
     },
     "execution_count": 33,
     "metadata": {},
     "output_type": "execute_result"
    }
   ],
   "source": [
    "180*(sum_dE_f-(-1/180)).n()"
   ]
  },
  {
   "cell_type": "code",
   "execution_count": 34,
   "metadata": {},
   "outputs": [
    {
     "name": "stderr",
     "output_type": "stream",
     "text": [
      "<>:3: DeprecationWarning: invalid escape sequence '\\p'\n",
      "<>:3: DeprecationWarning: invalid escape sequence '\\p'\n",
      "/tmp/ipykernel_404/4289556352.py:3: DeprecationWarning: invalid escape sequence '\\p'\n",
      "  plt.show (title=\"корень степени соответствующий показателю степени of $\\pi/(a k_m)$ из численного множителя ряда\")\n"
     ]
    },
    {
     "data": {
      "image/png": "[encoded data removed]",
      "text/plain": [
       "Graphics object consisting of 1 graphics primitive"
      ]
     },
     "metadata": {},
     "output_type": "display_data"
    }
   ],
   "source": [
    "plt = sage.plot.graphics.Graphics()\n",
    "plt += list_plot (vg)\n",
    "plt.show (title=\"корень степени соответствующий показателю степени of $\\pi/(a k_m)$ из численного множителя ряда\")"
   ]
  },
  {
   "cell_type": "code",
   "execution_count": 35,
   "metadata": {},
   "outputs": [
    {
     "data": {
      "image/png": "[encoded data removed]",
      "text/plain": [
       "Graphics object consisting of 1 graphics primitive"
      ]
     },
     "metadata": {},
     "output_type": "display_data"
    }
   ],
   "source": [
    "plt = sage.plot.graphics.Graphics()\n",
    "plt += list_plot (vq)\n",
    "plt.show (title=\"корень степени соответствующий показателю степени геометрической прогрессии из численного множителя ряда\")"
   ]
  },
  {
   "cell_type": "code",
   "execution_count": 36,
   "metadata": {},
   "outputs": [
    {
     "data": {
      "text/plain": [
       "[(3, -0.00555555555555556),\n",
       " (5, -0.00555555555555556),\n",
       " (7, -0.00555554811507936),\n",
       " (9, -0.00555554811507936),\n",
       " (11, -0.00555554811522917),\n",
       " (13, -0.00555554811522917),\n",
       " (15, -0.00555554811522916),\n",
       " (17, -0.00555554811522916),\n",
       " (19, -0.00555554811522916),\n",
       " (21, -0.00555554811522916),\n",
       " (23, -0.00555554811522916),\n",
       " (25, -0.00555554811522916),\n",
       " (27, -0.00555554811522916),\n",
       " (29, -0.00555554811522916),\n",
       " (31, -0.00555554811522916),\n",
       " (33, -0.00555554811522916),\n",
       " (35, -0.00555554811522916),\n",
       " (37, -0.00555554811522916),\n",
       " (39, -0.00555554811522916),\n",
       " (41, -0.00555554811522916),\n",
       " (43, -0.00555554811522916),\n",
       " (45, -0.00555554811522916),\n",
       " (47, -0.00555554811522916),\n",
       " (49, -0.00555554811522916),\n",
       " (51, -0.00555554811522916),\n",
       " (53, -0.00555554811522916),\n",
       " (55, -0.00555554811522916),\n",
       " (57, -0.00555554811522916),\n",
       " (59, -0.00555554811522916),\n",
       " (61, -0.00555554811522916)]"
      ]
     },
     "execution_count": 36,
     "metadata": {},
     "output_type": "execute_result"
    }
   ],
   "source": [
    "# Сумма слагаемых ряда в формуле Эйлера Маклорена в зависимости от числа слагаемых\n",
    "v_sum_dE_f"
   ]
  },
  {
   "cell_type": "code",
   "execution_count": 37,
   "metadata": {},
   "outputs": [
    {
     "data": {
      "image/png": "[encoded data removed]",
      "text/plain": [
       "Graphics object consisting of 1 graphics primitive"
      ]
     },
     "metadata": {},
     "output_type": "display_data"
    }
   ],
   "source": [
    "plt = sage.plot.graphics.Graphics()\n",
    "plt += list_plot (v_sum_dE_f)\n",
    "plt.show (title=\"Сумма слагаемых ряда в формуле Эйлера Маклорена в зависимости от числа слагаемых\")"
   ]
  },
  {
   "cell_type": "code",
   "execution_count": 38,
   "metadata": {},
   "outputs": [
    {
     "name": "stdout",
     "output_type": "stream",
     "text": [
      "(1, 20*pi, -0.00555554811522916)\n",
      "(2, 40*pi, -0.00555555509052638)\n",
      "(3, 60*pi, -0.00555555546369785)\n",
      "(4, 80*pi, -0.00555555552649120)\n",
      "(5, 100*pi, -0.00555555554365079)\n",
      "(6, 120*pi, -0.00555555554981445)\n",
      "(7, 140*pi, -0.00555555555245665)\n",
      "(8, 160*pi, -0.00555555555373903)\n",
      "(9, 180*pi, -0.00555555555442151)\n",
      "(10, 200*pi, -0.00555555555481151)\n",
      "(11, 220*pi, -0.00555555555504736)\n",
      "(12, 240*pi, -0.00555555555519674)\n",
      "(13, 260*pi, -0.00555555555529504)\n",
      "(14, 280*pi, -0.00555555555536187)\n",
      "(15, 300*pi, -0.00555555555540858)\n",
      "(16, 320*pi, -0.00555555555544202)\n",
      "(17, 340*pi, -0.00555555555546647)\n",
      "(18, 360*pi, -0.00555555555548468)\n",
      "(19, 380*pi, -0.00555555555549846)\n"
     ]
    },
    {
     "data": {
      "image/png": "[encoded data removed]",
      "text/plain": [
       "Graphics object consisting of 1 graphics primitive"
      ]
     },
     "metadata": {},
     "output_type": "display_data"
    }
   ],
   "source": [
    "# Сумма слагаемых ряда в формуле Эйлера Маклорена в зависимости от $k_m$, пропорциональной удельной массе пластины\n",
    "v_sum_E_f = []\n",
    "\n",
    "for nk in range(1, 20):\n",
    "    sum_dE_f, vg, vq, v_sum_dE_f = calc_sum_dE(a_f=a_f, k_mf=nk*k_mf)\n",
    "    print((nk, a_f*nk*k_mf, sum_dE_f))\n",
    "    v_sum_E_f += [(nk, sum_dE_f)]\n",
    "    \n",
    "plt = sage.plot.graphics.Graphics()\n",
    "plt += list_plot (v_sum_E_f)\n",
    "plt.show (title=\"Сумма слагаемых ряда в формуле Эйлера Маклорена в зависимости от $k_m$, пропорциональной удельной массе пластины\")"
   ]
  },
  {
   "cell_type": "markdown",
   "metadata": {},
   "source": [
    "Итак получается, что сила Казимира при увеличении удельной массе пластин стремится к значению данного самим Казимиром, а при более малой удельной массе пластин сила Казимира с учетом неучтенных Казимиром слагаемых ряда в формуле Эйлера Маклорена становится несколько меньшей"
   ]
  },
  {
   "cell_type": "markdown",
   "metadata": {},
   "source": [
    "Представлет интерес посмотреть более детально первоначальный отрезок графика, соответствующий более малым значениям частоты обрезания"
   ]
  },
  {
   "cell_type": "code",
   "execution_count": 39,
   "metadata": {},
   "outputs": [
    {
     "name": "stdout",
     "output_type": "stream",
     "text": [
      "(0.222500000000000, 4.45000000000000*pi, -0.00555815953736673)\n",
      "(0.225000000000000, 4.50000000000000*pi, -0.00555567072826804)\n",
      "(0.230000000000000, 4.60000000000000*pi, -0.00555378578548295)\n",
      "(0.240000000000000, 4.80000000000000*pi, -0.00555340557081570)\n",
      "(0.250000000000000, 5.00000000000000*pi, -0.00555366835530270)\n",
      "(0.300000000000000, 6.00000000000000*pi, -0.00555463923557226)\n",
      "(0.400000000000000, 8.00000000000000*pi, -0.00555526513969099)\n",
      "(0.500000000000000, 10.0000000000000*pi, -0.00555543654622822)\n",
      "(1, 20*pi, -0.00555554811522916)\n"
     ]
    },
    {
     "data": {
      "image/png": "[encoded data removed]",
      "text/plain": [
       "Graphics object consisting of 1 graphics primitive"
      ]
     },
     "metadata": {},
     "output_type": "display_data"
    }
   ],
   "source": [
    "# Сумма слагаемых ряда в формуле Эйлера Маклорена в зависимости от $k_m$, пропорциональной удельной массе пластины\n",
    "v_sum_E_f = []\n",
    "\n",
    "for nk in (0.2225, 0.225, 0.23, 0.24, 0.25, 0.3, 0.4, 0.5, 1):\n",
    "    sum_dE_f, vg, vq, v_sum_dE_f = calc_sum_dE(a_f=a_f, k_mf=nk*k_mf)\n",
    "    print((nk, a_f * nk*k_mf, sum_dE_f))\n",
    "    v_sum_E_f += [(a_f * nk*k_mf, sum_dE_f)]\n",
    "    \n",
    "plt = sage.plot.graphics.Graphics()\n",
    "plt += list_plot (v_sum_E_f)\n",
    "plt.show (title=\"Сумма слагаемых ряда в формуле Эйлера Маклорена в зависимости от $a k_m$, пропорциональной удельной массе пластины\")"
   ]
  },
  {
   "cell_type": "markdown",
   "metadata": {},
   "source": [
    "А не зависят ли эти осцилляции в начале графика от числа суммируемых слагаемых ряда? "
   ]
  },
  {
   "cell_type": "code",
   "execution_count": 40,
   "metadata": {},
   "outputs": [
    {
     "name": "stdout",
     "output_type": "stream",
     "text": [
      "(0.222500000000000, 4.45000000000000*pi, -0.00542788962186273)\n",
      "(0.225000000000000, 4.50000000000000*pi, -0.00548903702296233)\n",
      "(0.230000000000000, 4.60000000000000*pi, -0.00553596302833693)\n",
      "(0.240000000000000, 4.80000000000000*pi, -0.00555201890902824)\n",
      "(0.250000000000000, 5.00000000000000*pi, -0.00555354861384795)\n",
      "(0.300000000000000, 6.00000000000000*pi, -0.00555463923344721)\n",
      "(0.400000000000000, 8.00000000000000*pi, -0.00555526513969099)\n",
      "(0.500000000000000, 10.0000000000000*pi, -0.00555543654622822)\n",
      "(1, 20*pi, -0.00555554811522916)\n"
     ]
    },
    {
     "data": {
      "image/png": "[encoded data removed]",
      "text/plain": [
       "Graphics object consisting of 1 graphics primitive"
      ]
     },
     "metadata": {},
     "output_type": "display_data"
    }
   ],
   "source": [
    "# Сумма слагаемых ряда в формуле Эйлера Маклорена в зависимости от $k_m$, пропорциональной удельной массе пластины\n",
    "v_sum_E_f = []\n",
    "\n",
    "for nk in (0.2225, 0.225, 0.23, 0.24, 0.25, 0.3, 0.4, 0.5, 1):\n",
    "    sum_dE_f, vg, vq, v_sum_dE_f = calc_sum_dE(a_f=a_f, k_mf=nk*k_mf, k_max = 34)\n",
    "    print((nk, a_f * nk*k_mf, sum_dE_f))\n",
    "    v_sum_E_f += [(nk, sum_dE_f)]\n",
    "    \n",
    "plt = sage.plot.graphics.Graphics()\n",
    "plt += list_plot (v_sum_E_f)\n",
    "plt.show (title=\"Сумма слагаемых ряда в формуле Эйлера Маклорена в зависимости от $k_m$, пропорциональной удельной массе пластины\")"
   ]
  },
  {
   "cell_type": "code",
   "execution_count": 41,
   "metadata": {},
   "outputs": [
    {
     "name": "stdout",
     "output_type": "stream",
     "text": [
      "(0.222500000000000, 4.45000000000000*pi, -0.00911479871696129)\n",
      "(0.225000000000000, 4.50000000000000*pi, -0.00729247931871498)\n",
      "(0.230000000000000, 4.60000000000000*pi, -0.00597773881091317)\n",
      "(0.240000000000000, 4.80000000000000*pi, -0.00558100995872853)\n",
      "(0.250000000000000, 5.00000000000000*pi, -0.00555567490560217)\n",
      "(0.300000000000000, 6.00000000000000*pi, -0.00555463925164519)\n",
      "(0.400000000000000, 8.00000000000000*pi, -0.00555526513969099)\n",
      "(0.500000000000000, 10.0000000000000*pi, -0.00555543654622822)\n",
      "(1, 20*pi, -0.00555554811522916)\n"
     ]
    },
    {
     "data": {
      "image/png": "[encoded data removed]",
      "text/plain": [
       "Graphics object consisting of 1 graphics primitive"
      ]
     },
     "metadata": {},
     "output_type": "display_data"
    }
   ],
   "source": [
    "# Сумма слагаемых ряда в формуле Эйлера Маклорена в зависимости от $k_m$, пропорциональной удельной массе пластины\n",
    "v_sum_E_f = []\n",
    "\n",
    "for nk in (0.2225, 0.225, 0.23, 0.24, 0.25, 0.3, 0.4, 0.5, 1):\n",
    "    sum_dE_f, vg, vq, v_sum_dE_f = calc_sum_dE(a_f=a_f, k_mf=nk*k_mf, k_max = 36)\n",
    "    print((nk, a_f * nk*k_mf, sum_dE_f))\n",
    "    v_sum_E_f += [(nk, sum_dE_f)]\n",
    "    \n",
    "plt = sage.plot.graphics.Graphics()\n",
    "plt += list_plot (v_sum_E_f)\n",
    "plt.show (title=\"Сумма слагаемых ряда в формуле Эйлера Маклорена в зависимости от $k_m$, пропорциональной удельной массе пластины\")"
   ]
  },
  {
   "cell_type": "markdown",
   "metadata": {},
   "source": [
    "Очень даже зависят. Поэтому представляет интерес рассмотреть остаточный член в формуле Эйлера Маклорена"
   ]
  },
  {
   "cell_type": "markdown",
   "metadata": {},
   "source": [
    "$${\\displaystyle P_{k}(x)=B_{k}(x-\\lfloor x\\rfloor ),}$$\n",
    "\n",
    "$${\\displaystyle R_{p}=(-1)^{p+1}\\int _{a}^{b}f^{(p)}(x){\\frac {P_{p}(x)}{p!}}\\,dx.}$$"
   ]
  },
  {
   "cell_type": "markdown",
   "metadata": {},
   "source": [
    "Если ограничиться, как и Казимир, только лишь третьим членом ряда, то $p=4$ и $f^{(p)}(x) = F4$. Но в случае, если мы выберем $p=3$, тогда остаточный член должен включать в себя множитель $-\\frac{1}{180} = \\frac{-4}{24\\times30} = -0.00555(5)$, найденный Казимиром, а выражение для вычисления остаточного члена будет попроще"
   ]
  },
  {
   "cell_type": "code",
   "execution_count": 42,
   "metadata": {},
   "outputs": [],
   "source": [
    "B = lambda x, p : bernoulli_polynomial(x, p)\n",
    "P = lambda x, p : bernoulli_polynomial(x - floor(x), p)\n",
    "fact = lambda n : factorial(n)"
   ]
  },
  {
   "cell_type": "code",
   "execution_count": 43,
   "metadata": {},
   "outputs": [],
   "source": [
    "def euler_maclaurin_Rp(f,symb,a,b,p, f_diff_symb_p=None):\n",
    "    if logging:\n",
    "        print(\"f\", f)\n",
    "        print(\"symb,a,b\", symb, a, b)\n",
    "        if f_diff_symb_p is not None:\n",
    "            print(\"f_diff_symb_p\", f_diff_symb_p)\n",
    "        print(\"\")\n",
    "    if None == f_diff_symb_p:\n",
    "        f_diff_symb_p = diff(f,symb,p)\n",
    "    R_p = numerical_integral((-1)^(p+1)*f_diff_symb_p * P(x=symb,p=p)/fact(n=p), a, b)\n",
    "            \n",
    "    return R_p"
   ]
  },
  {
   "cell_type": "code",
   "execution_count": 44,
   "metadata": {},
   "outputs": [],
   "source": [
    "ak_m = var(\"ak_m\")"
   ]
  },
  {
   "cell_type": "code",
   "execution_count": 45,
   "metadata": {},
   "outputs": [],
   "source": [
    "p = 3"
   ]
  },
  {
   "cell_type": "markdown",
   "metadata": {},
   "source": [
    "В выражении производной степени $p$ делаем замену переменной $a \\cdot k_m \\rightarrow ak_m$"
   ]
  },
  {
   "cell_type": "code",
   "execution_count": 46,
   "metadata": {},
   "outputs": [
    {
     "data": {
      "text/latex": [
       "$\\displaystyle -\\frac{64 \\, \\pi^{8} n^{8}}{{\\left(\\frac{\\pi^{12} n^{12}}{\\mathit{ak}_{m}^{12}} + \\frac{3 \\, \\pi^{8} n^{8}}{\\mathit{ak}_{m}^{8}} + \\frac{3 \\, \\pi^{4} n^{4}}{\\mathit{ak}_{m}^{4}} + 1\\right)} \\mathit{ak}_{m}^{8}} + \\frac{56 \\, \\pi^{4} n^{4}}{{\\left(\\frac{\\pi^{8} n^{8}}{\\mathit{ak}_{m}^{8}} + \\frac{2 \\, \\pi^{4} n^{4}}{\\mathit{ak}_{m}^{4}} + 1\\right)} \\mathit{ak}_{m}^{4}} - \\frac{4}{\\frac{\\pi^{4} n^{4}}{\\mathit{ak}_{m}^{4}} + 1}$"
      ],
      "text/plain": [
       "<IPython.core.display.Math object>"
      ]
     },
     "metadata": {},
     "output_type": "display_data"
    }
   ],
   "source": [
    "exec(preparse(\"Fp = \" + str(F(n).subs(a == ak_m/k_m).diff(n, p).expand())))\n",
    "disp(Fp)"
   ]
  },
  {
   "cell_type": "code",
   "execution_count": 47,
   "metadata": {},
   "outputs": [
    {
     "data": {
      "text/plain": [
       "(ak_m, n)"
      ]
     },
     "execution_count": 47,
     "metadata": {},
     "output_type": "execute_result"
    }
   ],
   "source": [
    "Fp.variables()"
   ]
  },
  {
   "cell_type": "markdown",
   "metadata": {},
   "source": [
    "Вычисляем остаточный член"
   ]
  },
  {
   "cell_type": "code",
   "execution_count": 71,
   "metadata": {},
   "outputs": [
    {
     "data": {
      "text/latex": [
       "$\\displaystyle \\left(0.13551087509641813, 0.12824836843588477\\right)$"
      ],
      "text/plain": [
       "<IPython.core.display.Math object>"
      ]
     },
     "metadata": {},
     "output_type": "display_data"
    }
   ],
   "source": [
    "logging = False\n",
    "Rp = euler_maclaurin_Rp(F, n, 0, Infinity, p=p, f_diff_symb_p=Fp.subs(ak_m=a_f*k_mf))\n",
    "disp(Rp)"
   ]
  },
  {
   "cell_type": "markdown",
   "metadata": {},
   "source": [
    "Полученный результат очень сильно отличается от ожидаемого значения $-0.00555(5)$. Что неудивительно, если учесть какую величину ошибки численного интегрирования вернула функция $numerical\\_integral()$"
   ]
  },
  {
   "cell_type": "code",
   "execution_count": 70,
   "metadata": {},
   "outputs": [
    {
     "name": "stdout",
     "output_type": "stream",
     "text": [
      "(0.222500000000000, 4.45000000000000*pi, (-0.005551424919052372, 0.00044561252434572327))\n",
      "(0.225000000000000, 4.50000000000000*pi, (-0.005551567612163761, 0.0004679919656374811))\n",
      "(0.230000000000000, 4.60000000000000*pi, (-0.0055518176801136335, 0.0005150055147286022))\n",
      "(0.240000000000000, 4.80000000000000*pi, (-0.005552781218721177, 0.000650399292486025))\n",
      "(0.250000000000000, 5.00000000000000*pi, (-0.005552125164022048, 0.0007165735554003954))\n",
      "(0.300000000000000, 6.00000000000000*pi, (-0.0055762449168312335, 0.0015089391516493996))\n",
      "(0.400000000000000, 8.00000000000000*pi, (-0.005611893103023758, 0.004172291397637351))\n",
      "(0.500000000000000, 10.0000000000000*pi, (-0.00570118966538179, 0.008903136663679343))\n",
      "(0.600000000000000, 12.0000000000000*pi, (-0.005746898713676619, 0.012584040046625982))\n",
      "(0.700000000000000, 14.0000000000000*pi, (-0.005935745057700489, 0.025820431774923314))\n",
      "(0.800000000000000, 16.0000000000000*pi, (-0.006205034906876982, 0.019592119178478206))\n",
      "(0.900000000000000, 18.0000000000000*pi, (-0.006626439860226298, 0.0282713293559329))\n",
      "(0.910000000000000, 18.2000000000000*pi, (-0.0066656249798896896, 0.030664072006393074))\n",
      "(0.920000000000000, 18.4000000000000*pi, (-0.006706706896802438, 0.033462564581753174))\n",
      "(0.930000000000000, 18.6000000000000*pi, (-0.006750621482152312, 0.03677095608732426))\n",
      "(0.940000000000000, 18.8000000000000*pi, (-0.006794388997643332, 0.040791911572468025))\n",
      "(0.950000000000000, 19.0000000000000*pi, (-0.0068390974306825735, 0.04592421257867067))\n",
      "(0.960000000000000, 19.2000000000000*pi, (-0.006876640811862904, 0.052821007350509826))\n",
      "(0.970000000000000, 19.4000000000000*pi, (-0.006914758703997787, 0.06263542069831943))\n",
      "(0.980000000000000, 19.6000000000000*pi, (-0.00775503139972869, 0.070436652375553))\n",
      "(0.990000000000000, 19.8000000000000*pi, (-0.007861009371569427, 0.07251904660739347))\n",
      "(1.10000000000000, 22.0000000000000*pi, (-0.00769939074171184, 0.09127702510630814))\n",
      "(1.20000000000000, 24.0000000000000*pi, (-0.008240363590678295, 0.06312629274476442))\n"
     ]
    }
   ],
   "source": [
    "# Сумма слагаемых ряда в формуле Эйлера Маклорена в зависимости от $k_m$, пропорциональной удельной массе пластины\n",
    "v_Rp = []\n",
    "\n",
    "for nk in (0.2225, 0.225, 0.23, 0.24, 0.25, 0.3, 0.4, 0.5, 0.6, 0.7, 0.8, 0.9, 0.91, 0.92, 0.93, 0.94, 0.95, 0.96, 0.97, 0.98, 0.99, 1.1, 1.2):\n",
    "    akm = a_f*nk*k_mf\n",
    "    Rp = euler_maclaurin_Rp(F, n, 0, Infinity, p=p, f_diff_symb_p=Fp.subs(ak_m=akm))\n",
    "    print((nk, akm, Rp))\n",
    "    v_Rp += [(akm, Rp[0])]\n"
   ]
  },
  {
   "cell_type": "code",
   "execution_count": 72,
   "metadata": {},
   "outputs": [
    {
     "data": {
      "image/png": "[encoded data removed]",
      "text/plain": [
       "Graphics object consisting of 1 graphics primitive"
      ]
     },
     "metadata": {},
     "output_type": "display_data"
    }
   ],
   "source": [
    "plt = sage.plot.graphics.Graphics()\n",
    "plt += list_plot (v_Rp)\n",
    "plt.show (title=\"Остаточный член в формуле Эйлера Маклорена в зависимости от $a k_m$, пропорциональной удельной массе пластины\")"
   ]
  },
  {
   "cell_type": "markdown",
   "metadata": {},
   "source": [
    "Мы видим, что с ростом величины произведения $a k_m$ результат интегрирования все более отличается от $-0.00555(5)$, но параллельно с этим мы видим, что ошибка численного интегрирования тоже растет с увеличением $a k_m$"
   ]
  },
  {
   "cell_type": "code",
   "execution_count": 51,
   "metadata": {},
   "outputs": [
    {
     "name": "stdout",
     "output_type": "stream",
     "text": [
      "(0.001, 0.02*pi, (7.498612146517695e-06, 4.039255804975299e-09))\n",
      "(0.002, 0.04*pi, (5.2440578349011944e-05, 6.459582490355321e-08))\n",
      "(0.003, 0.06*pi, (0.00015603218829088209, 3.965341831179336e-07))\n",
      "(0.004, 0.08*pi, (0.0003271483255238634, 8.73749288874846e-07))\n",
      "(0.005, 0.1*pi, (0.0005656518040370267, 4.7128001223142207e-07))\n",
      "(0.006, 0.12*pi, (0.0008646725494071613, 8.951823007619631e-07))\n",
      "(0.007, 0.13999999999999999*pi, (0.001212351917984001, 7.958440503907179e-07))\n",
      "(0.008, 0.16*pi, (0.0015932375465768586, 5.591582200051712e-07))\n",
      "(0.009000000000000001, 0.18000000000000002*pi, (0.0019894593369210608, 9.018636068467442e-07))\n",
      "(0.010000000000000002, 0.20000000000000004*pi, (0.0023815295886182365, 6.271225617941289e-07))\n",
      "(0.011, 0.21999999999999997*pi, (0.0027499216952999467, 8.893333370623313e-07))\n",
      "(0.012, 0.24*pi, (0.0030748522963330214, 3.9087555916582015e-07))\n",
      "(0.013000000000000001, 0.26*pi, (0.003337542834769848, 4.924260218865453e-07))\n",
      "(0.014000000000000002, 0.28*pi, (0.0035208293673516127, 9.233631986827819e-07))\n",
      "(0.015, 0.3*pi, (0.00360856134506658, 4.16244063101371e-07))\n",
      "(0.016, 0.32*pi, (0.003588504586363699, 7.143520217756279e-07))\n",
      "(0.017, 0.34*pi, (0.0034495265185153982, 5.400868850905308e-07))\n",
      "(0.018000000000000002, 0.36000000000000004*pi, (0.0031838507312447616, 5.677234331470833e-07))\n",
      "(0.019000000000000003, 0.38*pi, (0.0027869477623815313, 6.217572407745536e-07))\n",
      "(0.02, 0.4*pi, (0.0022572919370679634, 7.742940897163819e-07))\n",
      "(0.021, 0.42*pi, (0.001596480561717065, 9.161411410440589e-07))\n",
      "(0.022000000000000002, 0.44000000000000006*pi, (0.0008094474153178317, 9.440800100164612e-07))\n",
      "(0.023, 0.45999999999999996*pi, (-9.638457916692136e-05, 8.848742750804724e-07))\n",
      "(0.024, 0.48*pi, (-0.0011103343825380654, 8.264174308089379e-07))\n",
      "(0.025, 0.5*pi, (-0.002219336395754777, 9.780906589652976e-07))\n",
      "(0.026000000000000002, 0.52*pi, (-0.0034081022694315605, 9.134030245843189e-07))\n",
      "(0.027000000000000003, 0.54*pi, (-0.004659396680368184, 8.590706035142991e-07))\n",
      "(0.028, 0.5599999999999999*pi, (-0.005954580776339345, 9.901404303466651e-07))\n",
      "(0.029, 0.5800000000000001*pi, (-0.007273954334604891, 8.370757148951789e-07))\n",
      "(0.030000000000000002, 0.6000000000000001*pi, (-0.00859725022064789, 9.563811178378834e-07))\n",
      "(0.031, 0.62*pi, (-0.009904226010528773, 9.887943121635382e-07))\n",
      "(0.032, 0.64*pi, (-0.011174564846681393, 9.87073674848339e-07))\n",
      "(0.033, 0.6599999999999999*pi, (-0.012389121504400812, 9.193393924799079e-07))\n",
      "(0.034, 0.68*pi, (-0.013529715370618757, 2.0684001746963665e-07))\n",
      "(0.035, 0.7000000000000001*pi, (-0.014580227987619345, 2.3237022848260347e-07))\n",
      "(0.036000000000000004, 0.7200000000000001*pi, (-0.015525941629295091, 2.6020871758854203e-07))\n",
      "(0.037000000000000005, 0.74*pi, (-0.016354484239962476, 2.9049368832634315e-07))\n",
      "(0.038, 0.7599999999999999*pi, (-0.017056165190281625, 9.274815775603407e-07))\n",
      "(0.039, 0.7799999999999999*pi, (-0.01762300372714429, 9.474839821055845e-07))\n",
      "(0.04, 0.8*pi, (-0.01805022685905059, 9.624003828115296e-07))\n",
      "(0.041, 0.8200000000000001*pi, (-0.018335583351662257, 9.664125897408212e-07))\n",
      "(0.042, 0.84*pi, (-0.0184792616129819, 9.732499627682733e-07))\n",
      "(0.043000000000000003, 0.86*pi, (-0.018483844772714454, 9.275236872244122e-07))\n",
      "(0.044000000000000004, 0.8800000000000001*pi, (-0.018354135694964524, 9.520113259787044e-07))\n",
      "(0.045, 0.9*pi, (-0.0180969459137237, 9.734401669117838e-07))\n",
      "(0.046, 0.9199999999999999*pi, (-0.017720840993032876, 9.380450362388199e-07))\n",
      "(0.047, 0.94*pi, (-0.017235879750866864, 9.442449340204078e-07))\n",
      "(0.048, 0.96*pi, (-0.01665332198726075, 9.527813086705377e-07))\n",
      "(0.049, 0.9800000000000001*pi, (-0.015985339663440085, 9.700082970039516e-07))\n",
      "(0.05, 1.0*pi, (-0.015244734883010995, 9.664326055709633e-07))\n",
      "(0.051000000000000004, 1.02*pi, (-0.014444660887767037, 1.0434458634472913e-06))\n",
      "(0.052000000000000005, 1.04*pi, (-0.013598355887700734, 1.1260328756253371e-06))\n",
      "(0.053000000000000005, 1.06*pi, (-0.012718911708571423, 1.2133081811141477e-06))\n",
      "(0.054, 1.0799999999999998*pi, (-0.011819052310400943, 1.3054301291894717e-06))\n",
      "(0.055, 1.0999999999999999*pi, (-0.010910946107090322, 1.402560183182153e-06))\n",
      "(0.056, 1.1199999999999999*pi, (-0.010006045125810962, 1.5048645193982322e-06))\n",
      "(0.057, 1.1400000000000001*pi, (-0.009114952862522884, 1.6125152794129407e-06))\n",
      "(0.058, 1.1600000000000001*pi, (-0.008247320518931211, 1.7256918212458068e-06))\n",
      "(0.059000000000000004, 1.18*pi, (-0.007411770640893317, 1.8445813549576237e-06))\n",
      "(0.060000000000000005, 1.2000000000000002*pi, (-0.006615846604746082, 1.8867938726671129e-06))\n",
      "(0.061, 1.2199999999999998*pi, (-0.005865986295600997, 1.9584634904052204e-06))\n",
      "(0.062, 1.24*pi, (-0.005167516875838768, 2.2138166564975634e-06))\n",
      "(0.063, 1.26*pi, (-0.004524670695954851, 2.3836277192150958e-06))\n",
      "(0.064, 1.28*pi, (-0.003940763825837999, 3.2564681155915667e-06))\n",
      "(0.065, 1.3*pi, (-0.0034176585506425264, 3.4813583202908858e-06))\n",
      "(0.066, 1.3199999999999998*pi, (-0.002956684203846582, 3.7074716409448065e-06))\n",
      "(0.067, 1.34*pi, (-0.002558138358081163, 3.934628907736968e-06))\n",
      "(0.068, 1.36*pi, (-0.002221489258160379, 4.353216527374581e-06))\n",
      "(0.069, 1.3800000000000001*pi, (-0.0019455037262341023, 4.531608819863193e-06))\n",
      "(0.07, 1.4000000000000001*pi, (-0.0017282603409289228, 4.712381974514972e-06))\n",
      "(0.07100000000000001, 1.42*pi, (-0.0015673038188538737, 4.102765600326345e-06))\n",
      "(0.07200000000000001, 1.4400000000000002*pi, (-0.0014596059725950654, 5.249299169170125e-06))\n",
      "(0.07300000000000001, 1.4600000000000002*pi, (-0.0014019822129813669, 4.969931454513073e-06))\n",
      "(0.074, 1.4799999999999998*pi, (-0.0013905277894841173, 5.318048340758808e-06))\n",
      "(0.075, 1.5*pi, (-0.0014214287204986267, 5.709814710947311e-06))\n",
      "(0.076, 1.5199999999999998*pi, (-0.0014906083406783998, 6.016244535399949e-06))\n",
      "(0.077, 1.54*pi, (-0.0015938924451044587, 6.337524044131818e-06))\n",
      "(0.078, 1.5599999999999998*pi, (-0.0017270757202776392, 6.673949822973443e-06))\n",
      "(0.079, 1.5799999999999998*pi, (-0.0018859788474566536, 7.025748037572255e-06))\n",
      "(0.08, 1.6*pi, (-0.002066499941594104, 2.8086438426540815e-06))\n",
      "(0.081, 1.6199999999999999*pi, (-0.002264637234594085, 2.919654817323293e-06))\n",
      "(0.082, 1.6400000000000001*pi, (-0.002476621178819306, 3.0926932877077366e-06))\n",
      "(0.083, 1.6600000000000001*pi, (-0.0026988089056446353, 3.2750730200913417e-06))\n",
      "(0.084, 1.68*pi, (-0.0029278032257096633, 3.4671725510663706e-06))\n",
      "(0.085, 1.7000000000000002*pi, (-0.003160451389731761, 3.6693639100682934e-06))\n",
      "(0.08600000000000001, 1.72*pi, (-0.0033938611308721818, 3.882010139480158e-06))\n",
      "(0.08700000000000001, 1.74*pi, (-0.0036254113809003016, 3.973052028905053e-06))\n",
      "(0.08800000000000001, 1.7600000000000002*pi, (-0.003852759331586664, 4.201514749928997e-06))\n",
      "(0.089, 1.7799999999999998*pi, (-0.004073841029827292, 4.441262388386186e-06))\n",
      "(0.09, 1.8*pi, (-0.004286870189642457, 4.0756358410986085e-06))\n",
      "(0.091, 1.8199999999999998*pi, (-0.004490332483924193, 4.314932002756275e-06))\n",
      "(0.092, 1.8399999999999999*pi, (-0.0046829770152403685, 8.501450556871494e-06))\n",
      "(0.093, 1.8599999999999999*pi, (-0.0048638051926905715, 8.734484141505357e-06))\n",
      "(0.094, 1.88*pi, (-0.0050320574411081755, 5.103149992274035e-06))\n",
      "(0.095, 1.9*pi, (-0.005187198154286604, 8.016626068772792e-06))\n",
      "(0.096, 1.92*pi, (-0.005328899284804245, 8.516621235107706e-06))\n",
      "(0.097, 1.94*pi, (-0.005457022940204146, 9.050089893687142e-06))\n",
      "(0.098, 1.9600000000000002*pi, (-0.005571603329497472, 9.619892592549993e-06))\n",
      "(0.099, 1.98*pi, (-0.005672792405680228, 1.0186894425188997e-05))\n",
      "(0.1, 2.0*pi, (-0.0057609852766639155, 1.0836799005150416e-05))\n",
      "(0.101, 2.02*pi, (-0.005836291795911697, 1.0963164874262799e-05))\n",
      "(0.10200000000000001, 2.04*pi, (-0.005899828775366061, 1.168876090680386e-05))\n",
      "(0.10300000000000001, 2.06*pi, (-0.005951934752751529, 1.2470207032210488e-05))\n",
      "(0.10400000000000001, 2.08*pi, (-0.005993297054240568, 1.3312938651244971e-05))\n",
      "(0.10500000000000001, 2.1*pi, (-0.006024653272405905, 1.42228302499681e-05))\n",
      "(0.106, 2.12*pi, (-0.006046776846656557, 1.520610710544542e-05))\n",
      "(0.107, 2.1399999999999997*pi, (-0.006060463755151719, 1.626918342035981e-05))\n",
      "(0.108, 2.1599999999999997*pi, (-0.00606652037373445, 1.741839960977317e-05))\n",
      "(0.109, 2.1799999999999997*pi, (-0.006065752534870481, 1.8735481254208118e-05))\n",
      "(0.11, 2.1999999999999997*pi, (-0.006058955799115845, 2.006339057360803e-05))\n",
      "(0.111, 2.22*pi, (-0.00604690693333947, 2.1487946324233106e-05))\n"
     ]
    },
    {
     "name": "stdout",
     "output_type": "stream",
     "text": [
      "(0.112, 2.2399999999999998*pi, (-0.006030356573817004, 2.300922411906884e-05))\n",
      "(0.113, 2.26*pi, (-0.006010023038379829, 2.4623675768907505e-05))\n",
      "(0.114, 2.2800000000000002*pi, (-0.005985152270682616, 2.4313719512259573e-05))\n",
      "(0.115, 2.3*pi, (-0.0059606886444467135, 2.809340709920404e-05))\n",
      "(0.116, 2.3200000000000003*pi, (-0.0059329222068623165, 2.9914423151030517e-05))\n",
      "(0.117, 2.34*pi, (-0.005903836216165876, 3.175929007005144e-05))\n",
      "(0.11800000000000001, 2.36*pi, (-0.005873933432000488, 3.35510373891212e-05))\n",
      "(0.11900000000000001, 2.3800000000000003*pi, (-0.005843660760356785, 3.4681954333049166e-05))\n",
      "(0.12000000000000001, 2.4000000000000004*pi, (-0.005813423869576386, 3.584088916387967e-05))\n",
      "(0.121, 2.4199999999999995*pi, (-0.005783578301853782, 3.7028320342912216e-05))\n",
      "(0.122, 2.4399999999999995*pi, (-0.005754433071891179, 3.8244730394874555e-05))\n",
      "(0.123, 2.46*pi, (-0.005726252329889721, 3.949060602797027e-05))\n",
      "(0.124, 2.48*pi, (-0.005699257393652653, 4.0766438146118734e-05))\n",
      "(0.125, 2.5*pi, (-0.00567362908039513, 4.207272190928238e-05))\n",
      "(0.126, 2.52*pi, (-0.005649510272999113, 4.3409957199497565e-05))\n",
      "(0.127, 2.5399999999999996*pi, (-0.005627005360225406, 4.4651073007040236e-05))\n",
      "(0.128, 2.56*pi, (-0.005606100632630837, 5.3346249771213675e-05))\n",
      "(0.129, 2.58*pi, (-0.005587027063974258, 5.500419397155896e-05))\n",
      "(0.13, 2.6*pi, (-0.005569711396442047, 5.6700334729613116e-05))\n",
      "(0.131, 2.62*pi, (-0.0055541495674984705, 5.84352409365729e-05))\n",
      "(0.132, 2.6399999999999997*pi, (-0.005540316849886406, 6.0209506050618726e-05))\n",
      "(0.133, 2.66*pi, (-0.005528170639637103, 6.202373223222798e-05))\n",
      "(0.134, 2.68*pi, (-0.005517653133509699, 6.38785307447878e-05))\n",
      "(0.135, 2.7*pi, (-0.005508693874745541, 6.57745254804854e-05))\n",
      "(0.136, 2.72*pi, (-0.005501212150308646, 6.771235984811023e-05))\n",
      "(0.137, 2.7399999999999998*pi, (-0.005495119226776845, 6.969271598636852e-05))\n",
      "(0.138, 2.7600000000000002*pi, (-0.005490320415729341, 7.171633138698764e-05))\n",
      "(0.139, 2.7800000000000002*pi, (-0.005486716962832, 7.378427783186117e-05))\n",
      "(0.14, 2.8000000000000003*pi, (-0.00548420775784575, 7.589683748852008e-05))\n",
      "(0.14100000000000001, 2.8200000000000003*pi, (-0.005482690865473479, 7.80522573745394e-05))\n",
      "(0.14200000000000002, 2.84*pi, (-0.005482064879323203, 8.025161551870851e-05))\n",
      "(0.14300000000000002, 2.86*pi, (-0.005481659945151661, 8.315543977155935e-05))\n",
      "(0.14400000000000002, 2.8800000000000003*pi, (-0.00548309993982487, 7.936674465119765e-05))\n",
      "(0.14500000000000002, 2.9000000000000004*pi, (-0.005484561591186274, 8.133780862634152e-05))\n",
      "(0.146, 2.9199999999999995*pi, (-0.0054865350357228525, 8.358747813133391e-05))\n",
      "(0.147, 2.9399999999999995*pi, (-0.005488936020854836, 8.602140995964174e-05))\n",
      "(0.148, 2.9599999999999995*pi, (-0.005491020983054255, 9.497615145353029e-05))\n",
      "(0.149, 2.98*pi, (-0.005494027601752038, 9.773271657926606e-05))\n"
     ]
    }
   ],
   "source": [
    "# Сумма слагаемых ряда в формуле Эйлера Маклорена в зависимости от $k_m$, пропорциональной удельной массе пластины\n",
    "v_Rp = []\n",
    "\n",
    "import numpy as np\n",
    "for nk in np.arange(0.001, 0.15, 0.001):\n",
    "    akm = a_f*nk*k_mf\n",
    "    Rp = euler_maclaurin_Rp(F, n, 0, Infinity, p=p, f_diff_symb_p=Fp.subs(ak_m=akm))\n",
    "    print((nk, akm, Rp))\n",
    "    v_Rp += [(akm, Rp[0])]\n"
   ]
  },
  {
   "cell_type": "code",
   "execution_count": 52,
   "metadata": {},
   "outputs": [
    {
     "data": {
      "image/png": "[encoded data removed]",
      "text/plain": [
       "Graphics object consisting of 1 graphics primitive"
      ]
     },
     "metadata": {},
     "output_type": "display_data"
    }
   ],
   "source": [
    "plt = sage.plot.graphics.Graphics()\n",
    "plt += list_plot (v_Rp)\n",
    "plt.show (title=\"Остаточный член в формуле Эйлера Маклорена в зависимости от $a k_m$\")"
   ]
  },
  {
   "cell_type": "markdown",
   "metadata": {},
   "source": [
    "При величине произведения $a k_m$ меньше 10 график получается покрасивее, и величина ошибки численного интегрирования тоже вполне вменяемая.\n",
    "\n",
    "Но тут поскольку мы имеем дело с математически весьма сложной задачей численного интегрирования довольно непростой, часто осциллирующей и терпящей разрывы в точках каждого целого значения аргумента благодаря наличию множителя $(x-\\lfloor x\\rfloor )$ функции, для контроля полученных результатов воспользуемся тем, что остаточный член можно выразить также в виде\n",
    "$${\\displaystyle R_{p}=(-1)^{p+1}\\sum_{j=a}^{b-1} \\int _{0}^{1}f^{(p)}(v+j){\\frac {B_{p}(v)}{p!}}\\,dv.}$$\n",
    "\n",
    "Превращая интеграл в сумму интеграллов мы делим интервал интегрирования функции с разрывами на множество интервалов без разрывов"
   ]
  },
  {
   "cell_type": "code",
   "execution_count": 53,
   "metadata": {},
   "outputs": [],
   "source": [
    "j, v = var(\"j, v\")"
   ]
  },
  {
   "cell_type": "code",
   "execution_count": 55,
   "metadata": {},
   "outputs": [],
   "source": [
    "p = 3"
   ]
  },
  {
   "cell_type": "markdown",
   "metadata": {},
   "source": [
    "Полином Бернулли степени $p$"
   ]
  },
  {
   "cell_type": "code",
   "execution_count": 54,
   "metadata": {},
   "outputs": [
    {
     "data": {
      "text/plain": [
       "n^3 - 3/2*n^2 + 1/2*n"
      ]
     },
     "execution_count": 54,
     "metadata": {},
     "output_type": "execute_result"
    }
   ],
   "source": [
    "B(x=n, p=p)"
   ]
  },
  {
   "cell_type": "markdown",
   "metadata": {},
   "source": [
    "В выражении производной степени $p$ делаем замену переменной $a \\cdot k_m \\rightarrow ak_m$"
   ]
  },
  {
   "cell_type": "code",
   "execution_count": 56,
   "metadata": {},
   "outputs": [
    {
     "data": {
      "text/latex": [
       "$\\displaystyle -\\frac{64 \\, \\pi^{8} n^{8}}{{\\left(\\frac{\\pi^{12} n^{12}}{\\mathit{ak}_{m}^{12}} + \\frac{3 \\, \\pi^{8} n^{8}}{\\mathit{ak}_{m}^{8}} + \\frac{3 \\, \\pi^{4} n^{4}}{\\mathit{ak}_{m}^{4}} + 1\\right)} \\mathit{ak}_{m}^{8}} + \\frac{56 \\, \\pi^{4} n^{4}}{{\\left(\\frac{\\pi^{8} n^{8}}{\\mathit{ak}_{m}^{8}} + \\frac{2 \\, \\pi^{4} n^{4}}{\\mathit{ak}_{m}^{4}} + 1\\right)} \\mathit{ak}_{m}^{4}} - \\frac{4}{\\frac{\\pi^{4} n^{4}}{\\mathit{ak}_{m}^{4}} + 1}$"
      ],
      "text/plain": [
       "<IPython.core.display.Math object>"
      ]
     },
     "metadata": {},
     "output_type": "display_data"
    }
   ],
   "source": [
    "exec(preparse(\"Fp = \" + str(F(n).subs(a == ak_m/k_m).diff(n, p).expand())))\n",
    "disp(Fp)"
   ]
  },
  {
   "cell_type": "markdown",
   "metadata": {},
   "source": [
    "Формируем подынтегральное выражение: в выражении производной делаем замену переменной $n \\rightarrow v+j$. Умножаем на полином Бернулли, делим на факториал, учитываем знак. "
   ]
  },
  {
   "cell_type": "code",
   "execution_count": 75,
   "metadata": {},
   "outputs": [
    {
     "data": {
      "text/latex": [
       "$\\displaystyle -\\frac{1}{3} \\, {\\left(\\frac{16 \\, \\pi^{8} {\\left(j + v\\right)}^{8}}{{\\left(\\frac{\\pi^{12} {\\left(j + v\\right)}^{12}}{\\mathit{ak}_{m}^{12}} + \\frac{3 \\, \\pi^{8} {\\left(j + v\\right)}^{8}}{\\mathit{ak}_{m}^{8}} + \\frac{3 \\, \\pi^{4} {\\left(j + v\\right)}^{4}}{\\mathit{ak}_{m}^{4}} + 1\\right)} \\mathit{ak}_{m}^{8}} - \\frac{14 \\, \\pi^{4} {\\left(j + v\\right)}^{4}}{{\\left(\\frac{\\pi^{8} {\\left(j + v\\right)}^{8}}{\\mathit{ak}_{m}^{8}} + \\frac{2 \\, \\pi^{4} {\\left(j + v\\right)}^{4}}{\\mathit{ak}_{m}^{4}} + 1\\right)} \\mathit{ak}_{m}^{4}} + \\frac{1}{\\frac{\\pi^{4} {\\left(j + v\\right)}^{4}}{\\mathit{ak}_{m}^{4}} + 1}\\right)} {\\left(2 \\, v^{3} - 3 \\, v^{2} + v\\right)}$"
      ],
      "text/plain": [
       "<IPython.core.display.Math object>"
      ]
     },
     "metadata": {},
     "output_type": "display_data"
    }
   ],
   "source": [
    "exec(preparse(\"sign_Fp_Bp_fact = \" + str((-1)^(p+1)*(Fp.subs(n=v+j)*B(x=v, p=p)/fact(n=p)))))\n",
    "disp(sign_Fp_Bp_fact)"
   ]
  },
  {
   "cell_type": "markdown",
   "metadata": {},
   "source": [
    "А для облегчения задачи дальнейшего интегрирования разлагаем полученное выражение с помощью функции .expand() на правильные дроби"
   ]
  },
  {
   "cell_type": "code",
   "execution_count": 80,
   "metadata": {},
   "outputs": [
    {
     "data": {
      "text/plain": [
       "-32/3*pi^8*j^8*v^3/((pi^12*j^12/ak_m^12 + 12*pi^12*j^11*v/ak_m^12 + 66*pi^12*j^10*v^2/ak_m^12 + 220*pi^12*j^9*v^3/ak_m^12 + 495*pi^12*j^8*v^4/ak_m^12 + 792*pi^12*j^7*v^5/ak_m^12 + 924*pi^12*j^6*v^6/ak_m^12 + 792*pi^12*j^5*v^7/ak_m^12 + 495*pi^12*j^4*v^8/ak_m^12 + 220*pi^12*j^3*v^9/ak_m^12 + 66*pi^12*j^2*v^10/ak_m^12 + 12*pi^12*j*v^11/ak_m^12 + pi^12*v^12/ak_m^12 + 3*pi^8*j^8/ak_m^8 + 24*pi^8*j^7*v/ak_m^8 + 84*pi^8*j^6*v^2/ak_m^8 + 168*pi^8*j^5*v^3/ak_m^8 + 210*pi^8*j^4*v^4/ak_m^8 + 168*pi^8*j^3*v^5/ak_m^8 + 84*pi^8*j^2*v^6/ak_m^8 + 24*pi^8*j*v^7/ak_m^8 + 3*pi^8*v^8/ak_m^8 + 3*pi^4*j^4/ak_m^4 + 12*pi^4*j^3*v/ak_m^4 + 18*pi^4*j^2*v^2/ak_m^4 + 12*pi^4*j*v^3/ak_m^4 + 3*pi^4*v^4/ak_m^4 + 1)*ak_m^8) - 256/3*pi^8*j^7*v^4/((pi^12*j^12/ak_m^12 + 12*pi^12*j^11*v/ak_m^12 + 66*pi^12*j^10*v^2/ak_m^12 + 220*pi^12*j^9*v^3/ak_m^12 + 495*pi^12*j^8*v^4/ak_m^12 + 792*pi^12*j^7*v^5/ak_m^12 + 924*pi^12*j^6*v^6/ak_m^12 + 792*pi^12*j^5*v^7/ak_m^12 + 495*pi^12*j^4*v^8/ak_m^12 + 220*pi^12*j^3*v^9/ak_m^12 + 66*pi^12*j^2*v^10/ak_m^12 + 12*pi^12*j*v^11/ak_m^12 + pi^12*v^12/ak_m^12 + 3*pi^8*j^8/ak_m^8 + 24*pi^8*j^7*v/ak_m^8 + 84*pi^8*j^6*v^2/ak_m^8 + 168*pi^8*j^5*v^3/ak_m^8 + 210*pi^8*j^4*v^4/ak_m^8 + 168*pi^8*j^3*v^5/ak_m^8 + 84*pi^8*j^2*v^6/ak_m^8 + 24*pi^8*j*v^7/ak_m^8 + 3*pi^8*v^8/ak_m^8 + 3*pi^4*j^4/ak_m^4 + 12*pi^4*j^3*v/ak_m^4 + 18*pi^4*j^2*v^2/ak_m^4 + 12*pi^4*j*v^3/ak_m^4 + 3*pi^4*v^4/ak_m^4 + 1)*ak_m^8) - 896/3*pi^8*j^6*v^5/((pi^12*j^12/ak_m^12 + 12*pi^12*j^11*v/ak_m^12 + 66*pi^12*j^10*v^2/ak_m^12 + 220*pi^12*j^9*v^3/ak_m^12 + 495*pi^12*j^8*v^4/ak_m^12 + 792*pi^12*j^7*v^5/ak_m^12 + 924*pi^12*j^6*v^6/ak_m^12 + 792*pi^12*j^5*v^7/ak_m^12 + 495*pi^12*j^4*v^8/ak_m^12 + 220*pi^12*j^3*v^9/ak_m^12 + 66*pi^12*j^2*v^10/ak_m^12 + 12*pi^12*j*v^11/ak_m^12 + pi^12*v^12/ak_m^12 + 3*pi^8*j^8/ak_m^8 + 24*pi^8*j^7*v/ak_m^8 + 84*pi^8*j^6*v^2/ak_m^8 + 168*pi^8*j^5*v^3/ak_m^8 + 210*pi^8*j^4*v^4/ak_m^8 + 168*pi^8*j^3*v^5/ak_m^8 + 84*pi^8*j^2*v^6/ak_m^8 + 24*pi^8*j*v^7/ak_m^8 + 3*pi^8*v^8/ak_m^8 + 3*pi^4*j^4/ak_m^4 + 12*pi^4*j^3*v/ak_m^4 + 18*pi^4*j^2*v^2/ak_m^4 + 12*pi^4*j*v^3/ak_m^4 + 3*pi^4*v^4/ak_m^4 + 1)*ak_m^8) - 1792/3*pi^8*j^5*v^6/((pi^12*j^12/ak_m^12 + 12*pi^12*j^11*v/ak_m^12 + 66*pi^12*j^10*v^2/ak_m^12 + 220*pi^12*j^9*v^3/ak_m^12 + 495*pi^12*j^8*v^4/ak_m^12 + 792*pi^12*j^7*v^5/ak_m^12 + 924*pi^12*j^6*v^6/ak_m^12 + 792*pi^12*j^5*v^7/ak_m^12 + 495*pi^12*j^4*v^8/ak_m^12 + 220*pi^12*j^3*v^9/ak_m^12 + 66*pi^12*j^2*v^10/ak_m^12 + 12*pi^12*j*v^11/ak_m^12 + pi^12*v^12/ak_m^12 + 3*pi^8*j^8/ak_m^8 + 24*pi^8*j^7*v/ak_m^8 + 84*pi^8*j^6*v^2/ak_m^8 + 168*pi^8*j^5*v^3/ak_m^8 + 210*pi^8*j^4*v^4/ak_m^8 + 168*pi^8*j^3*v^5/ak_m^8 + 84*pi^8*j^2*v^6/ak_m^8 + 24*pi^8*j*v^7/ak_m^8 + 3*pi^8*v^8/ak_m^8 + 3*pi^4*j^4/ak_m^4 + 12*pi^4*j^3*v/ak_m^4 + 18*pi^4*j^2*v^2/ak_m^4 + 12*pi^4*j*v^3/ak_m^4 + 3*pi^4*v^4/ak_m^4 + 1)*ak_m^8) - 2240/3*pi^8*j^4*v^7/((pi^12*j^12/ak_m^12 + 12*pi^12*j^11*v/ak_m^12 + 66*pi^12*j^10*v^2/ak_m^12 + 220*pi^12*j^9*v^3/ak_m^12 + 495*pi^12*j^8*v^4/ak_m^12 + 792*pi^12*j^7*v^5/ak_m^12 + 924*pi^12*j^6*v^6/ak_m^12 + 792*pi^12*j^5*v^7/ak_m^12 + 495*pi^12*j^4*v^8/ak_m^12 + 220*pi^12*j^3*v^9/ak_m^12 + 66*pi^12*j^2*v^10/ak_m^12 + 12*pi^12*j*v^11/ak_m^12 + pi^12*v^12/ak_m^12 + 3*pi^8*j^8/ak_m^8 + 24*pi^8*j^7*v/ak_m^8 + 84*pi^8*j^6*v^2/ak_m^8 + 168*pi^8*j^5*v^3/ak_m^8 + 210*pi^8*j^4*v^4/ak_m^8 + 168*pi^8*j^3*v^5/ak_m^8 + 84*pi^8*j^2*v^6/ak_m^8 + 24*pi^8*j*v^7/ak_m^8 + 3*pi^8*v^8/ak_m^8 + 3*pi^4*j^4/ak_m^4 + 12*pi^4*j^3*v/ak_m^4 + 18*pi^4*j^2*v^2/ak_m^4 + 12*pi^4*j*v^3/ak_m^4 + 3*pi^4*v^4/ak_m^4 + 1)*ak_m^8) - 1792/3*pi^8*j^3*v^8/((pi^12*j^12/ak_m^12 + 12*pi^12*j^11*v/ak_m^12 + 66*pi^12*j^10*v^2/ak_m^12 + 220*pi^12*j^9*v^3/ak_m^12 + 495*pi^12*j^8*v^4/ak_m^12 + 792*pi^12*j^7*v^5/ak_m^12 + 924*pi^12*j^6*v^6/ak_m^12 + 792*pi^12*j^5*v^7/ak_m^12 + 495*pi^12*j^4*v^8/ak_m^12 + 220*pi^12*j^3*v^9/ak_m^12 + 66*pi^12*j^2*v^10/ak_m^12 + 12*pi^12*j*v^11/ak_m^12 + pi^12*v^12/ak_m^12 + 3*pi^8*j^8/ak_m^8 + 24*pi^8*j^7*v/ak_m^8 + 84*pi^8*j^6*v^2/ak_m^8 + 168*pi^8*j^5*v^3/ak_m^8 + 210*pi^8*j^4*v^4/ak_m^8 + 168*pi^8*j^3*v^5/ak_m^8 + 84*pi^8*j^2*v^6/ak_m^8 + 24*pi^8*j*v^7/ak_m^8 + 3*pi^8*v^8/ak_m^8 + 3*pi^4*j^4/ak_m^4 + 12*pi^4*j^3*v/ak_m^4 + 18*pi^4*j^2*v^2/ak_m^4 + 12*pi^4*j*v^3/ak_m^4 + 3*pi^4*v^4/ak_m^4 + 1)*ak_m^8) - 896/3*pi^8*j^2*v^9/((pi^12*j^12/ak_m^12 + 12*pi^12*j^11*v/ak_m^12 + 66*pi^12*j^10*v^2/ak_m^12 + 220*pi^12*j^9*v^3/ak_m^12 + 495*pi^12*j^8*v^4/ak_m^12 + 792*pi^12*j^7*v^5/ak_m^12 + 924*pi^12*j^6*v^6/ak_m^12 + 792*pi^12*j^5*v^7/ak_m^12 + 495*pi^12*j^4*v^8/ak_m^12 + 220*pi^12*j^3*v^9/ak_m^12 + 66*pi^12*j^2*v^10/ak_m^12 + 12*pi^12*j*v^11/ak_m^12 + pi^12*v^12/ak_m^12 + 3*pi^8*j^8/ak_m^8 + 24*pi^8*j^7*v/ak_m^8 + 84*pi^8*j^6*v^2/ak_m^8 + 168*pi^8*j^5*v^3/ak_m^8 + 210*pi^8*j^4*v^4/ak_m^8 + 168*pi^8*j^3*v^5/ak_m^8 + 84*pi^8*j^2*v^6/ak_m^8 + 24*pi^8*j*v^7/ak_m^8 + 3*pi^8*v^8/ak_m^8 + 3*pi^4*j^4/ak_m^4 + 12*pi^4*j^3*v/ak_m^4 + 18*pi^4*j^2*v^2/ak_m^4 + 12*pi^4*j*v^3/ak_m^4 + 3*pi^4*v^4/ak_m^4 + 1)*ak_m^8) - 256/3*pi^8*j*v^10/((pi^12*j^12/ak_m^12 + 12*pi^12*j^11*v/ak_m^12 + 66*pi^12*j^10*v^2/ak_m^12 + 220*pi^12*j^9*v^3/ak_m^12 + 495*pi^12*j^8*v^4/ak_m^12 + 792*pi^12*j^7*v^5/ak_m^12 + 924*pi^12*j^6*v^6/ak_m^12 + 792*pi^12*j^5*v^7/ak_m^12 + 495*pi^12*j^4*v^8/ak_m^12 + 220*pi^12*j^3*v^9/ak_m^12 + 66*pi^12*j^2*v^10/ak_m^12 + 12*pi^12*j*v^11/ak_m^12 + pi^12*v^12/ak_m^12 + 3*pi^8*j^8/ak_m^8 + 24*pi^8*j^7*v/ak_m^8 + 84*pi^8*j^6*v^2/ak_m^8 + 168*pi^8*j^5*v^3/ak_m^8 + 210*pi^8*j^4*v^4/ak_m^8 + 168*pi^8*j^3*v^5/ak_m^8 + 84*pi^8*j^2*v^6/ak_m^8 + 24*pi^8*j*v^7/ak_m^8 + 3*pi^8*v^8/ak_m^8 + 3*pi^4*j^4/ak_m^4 + 12*pi^4*j^3*v/ak_m^4 + 18*pi^4*j^2*v^2/ak_m^4 + 12*pi^4*j*v^3/ak_m^4 + 3*pi^4*v^4/ak_m^4 + 1)*ak_m^8) - 32/3*pi^8*v^11/((pi^12*j^12/ak_m^12 + 12*pi^12*j^11*v/ak_m^12 + 66*pi^12*j^10*v^2/ak_m^12 + 220*pi^12*j^9*v^3/ak_m^12 + 495*pi^12*j^8*v^4/ak_m^12 + 792*pi^12*j^7*v^5/ak_m^12 + 924*pi^12*j^6*v^6/ak_m^12 + 792*pi^12*j^5*v^7/ak_m^12 + 495*pi^12*j^4*v^8/ak_m^12 + 220*pi^12*j^3*v^9/ak_m^12 + 66*pi^12*j^2*v^10/ak_m^12 + 12*pi^12*j*v^11/ak_m^12 + pi^12*v^12/ak_m^12 + 3*pi^8*j^8/ak_m^8 + 24*pi^8*j^7*v/ak_m^8 + 84*pi^8*j^6*v^2/ak_m^8 + 168*pi^8*j^5*v^3/ak_m^8 + 210*pi^8*j^4*v^4/ak_m^8 + 168*pi^8*j^3*v^5/ak_m^8 + 84*pi^8*j^2*v^6/ak_m^8 + 24*pi^8*j*v^7/ak_m^8 + 3*pi^8*v^8/ak_m^8 + 3*pi^4*j^4/ak_m^4 + 12*pi^4*j^3*v/ak_m^4 + 18*pi^4*j^2*v^2/ak_m^4 + 12*pi^4*j*v^3/ak_m^4 + 3*pi^4*v^4/ak_m^4 + 1)*ak_m^8) + 16*pi^8*j^8*v^2/((pi^12*j^12/ak_m^12 + 12*pi^12*j^11*v/ak_m^12 + 66*pi^12*j^10*v^2/ak_m^12 + 220*pi^12*j^9*v^3/ak_m^12 + 495*pi^12*j^8*v^4/ak_m^12 + 792*pi^12*j^7*v^5/ak_m^12 + 924*pi^12*j^6*v^6/ak_m^12 + 792*pi^12*j^5*v^7/ak_m^12 + 495*pi^12*j^4*v^8/ak_m^12 + 220*pi^12*j^3*v^9/ak_m^12 + 66*pi^12*j^2*v^10/ak_m^12 + 12*pi^12*j*v^11/ak_m^12 + pi^12*v^12/ak_m^12 + 3*pi^8*j^8/ak_m^8 + 24*pi^8*j^7*v/ak_m^8 + 84*pi^8*j^6*v^2/ak_m^8 + 168*pi^8*j^5*v^3/ak_m^8 + 210*pi^8*j^4*v^4/ak_m^8 + 168*pi^8*j^3*v^5/ak_m^8 + 84*pi^8*j^2*v^6/ak_m^8 + 24*pi^8*j*v^7/ak_m^8 + 3*pi^8*v^8/ak_m^8 + 3*pi^4*j^4/ak_m^4 + 12*pi^4*j^3*v/ak_m^4 + 18*pi^4*j^2*v^2/ak_m^4 + 12*pi^4*j*v^3/ak_m^4 + 3*pi^4*v^4/ak_m^4 + 1)*ak_m^8) + 128*pi^8*j^7*v^3/((pi^12*j^12/ak_m^12 + 12*pi^12*j^11*v/ak_m^12 + 66*pi^12*j^10*v^2/ak_m^12 + 220*pi^12*j^9*v^3/ak_m^12 + 495*pi^12*j^8*v^4/ak_m^12 + 792*pi^12*j^7*v^5/ak_m^12 + 924*pi^12*j^6*v^6/ak_m^12 + 792*pi^12*j^5*v^7/ak_m^12 + 495*pi^12*j^4*v^8/ak_m^12 + 220*pi^12*j^3*v^9/ak_m^12 + 66*pi^12*j^2*v^10/ak_m^12 + 12*pi^12*j*v^11/ak_m^12 + pi^12*v^12/ak_m^12 + 3*pi^8*j^8/ak_m^8 + 24*pi^8*j^7*v/ak_m^8 + 84*pi^8*j^6*v^2/ak_m^8 + 168*pi^8*j^5*v^3/ak_m^8 + 210*pi^8*j^4*v^4/ak_m^8 + 168*pi^8*j^3*v^5/ak_m^8 + 84*pi^8*j^2*v^6/ak_m^8 + 24*pi^8*j*v^7/ak_m^8 + 3*pi^8*v^8/ak_m^8 + 3*pi^4*j^4/ak_m^4 + 12*pi^4*j^3*v/ak_m^4 + 18*pi^4*j^2*v^2/ak_m^4 + 12*pi^4*j*v^3/ak_m^4 + 3*pi^4*v^4/ak_m^4 + 1)*ak_m^8) + 448*pi^8*j^6*v^4/((pi^12*j^12/ak_m^12 + 12*pi^12*j^11*v/ak_m^12 + 66*pi^12*j^10*v^2/ak_m^12 + 220*pi^12*j^9*v^3/ak_m^12 + 495*pi^12*j^8*v^4/ak_m^12 + 792*pi^12*j^7*v^5/ak_m^12 + 924*pi^12*j^6*v^6/ak_m^12 + 792*pi^12*j^5*v^7/ak_m^12 + 495*pi^12*j^4*v^8/ak_m^12 + 220*pi^12*j^3*v^9/ak_m^12 + 66*pi^12*j^2*v^10/ak_m^12 + 12*pi^12*j*v^11/ak_m^12 + pi^12*v^12/ak_m^12 + 3*pi^8*j^8/ak_m^8 + 24*pi^8*j^7*v/ak_m^8 + 84*pi^8*j^6*v^2/ak_m^8 + 168*pi^8*j^5*v^3/ak_m^8 + 210*pi^8*j^4*v^4/ak_m^8 + 168*pi^8*j^3*v^5/ak_m^8 + 84*pi^8*j^2*v^6/ak_m^8 + 24*pi^8*j*v^7/ak_m^8 + 3*pi^8*v^8/ak_m^8 + 3*pi^4*j^4/ak_m^4 + 12*pi^4*j^3*v/ak_m^4 + 18*pi^4*j^2*v^2/ak_m^4 + 12*pi^4*j*v^3/ak_m^4 + 3*pi^4*v^4/ak_m^4 + 1)*ak_m^8) + 896*pi^8*j^5*v^5/((pi^12*j^12/ak_m^12 + 12*pi^12*j^11*v/ak_m^12 + 66*pi^12*j^10*v^2/ak_m^12 + 220*pi^12*j^9*v^3/ak_m^12 + 495*pi^12*j^8*v^4/ak_m^12 + 792*pi^12*j^7*v^5/ak_m^12 + 924*pi^12*j^6*v^6/ak_m^12 + 792*pi^12*j^5*v^7/ak_m^12 + 495*pi^12*j^4*v^8/ak_m^12 + 220*pi^12*j^3*v^9/ak_m^12 + 66*pi^12*j^2*v^10/ak_m^12 + 12*pi^12*j*v^11/ak_m^12 + pi^12*v^12/ak_m^12 + 3*pi^8*j^8/ak_m^8 + 24*pi^8*j^7*v/ak_m^8 + 84*pi^8*j^6*v^2/ak_m^8 + 168*pi^8*j^5*v^3/ak_m^8 + 210*pi^8*j^4*v^4/ak_m^8 + 168*pi^8*j^3*v^5/ak_m^8 + 84*pi^8*j^2*v^6/ak_m^8 + 24*pi^8*j*v^7/ak_m^8 + 3*pi^8*v^8/ak_m^8 + 3*pi^4*j^4/ak_m^4 + 12*pi^4*j^3*v/ak_m^4 + 18*pi^4*j^2*v^2/ak_m^4 + 12*pi^4*j*v^3/ak_m^4 + 3*pi^4*v^4/ak_m^4 + 1)*ak_m^8) + 1120*pi^8*j^4*v^6/((pi^12*j^12/ak_m^12 + 12*pi^12*j^11*v/ak_m^12 + 66*pi^12*j^10*v^2/ak_m^12 + 220*pi^12*j^9*v^3/ak_m^12 + 495*pi^12*j^8*v^4/ak_m^12 + 792*pi^12*j^7*v^5/ak_m^12 + 924*pi^12*j^6*v^6/ak_m^12 + 792*pi^12*j^5*v^7/ak_m^12 + 495*pi^12*j^4*v^8/ak_m^12 + 220*pi^12*j^3*v^9/ak_m^12 + 66*pi^12*j^2*v^10/ak_m^12 + 12*pi^12*j*v^11/ak_m^12 + pi^12*v^12/ak_m^12 + 3*pi^8*j^8/ak_m^8 + 24*pi^8*j^7*v/ak_m^8 + 84*pi^8*j^6*v^2/ak_m^8 + 168*pi^8*j^5*v^3/ak_m^8 + 210*pi^8*j^4*v^4/ak_m^8 + 168*pi^8*j^3*v^5/ak_m^8 + 84*pi^8*j^2*v^6/ak_m^8 + 24*pi^8*j*v^7/ak_m^8 + 3*pi^8*v^8/ak_m^8 + 3*pi^4*j^4/ak_m^4 + 12*pi^4*j^3*v/ak_m^4 + 18*pi^4*j^2*v^2/ak_m^4 + 12*pi^4*j*v^3/ak_m^4 + 3*pi^4*v^4/ak_m^4 + 1)*ak_m^8) + 896*pi^8*j^3*v^7/((pi^12*j^12/ak_m^12 + 12*pi^12*j^11*v/ak_m^12 + 66*pi^12*j^10*v^2/ak_m^12 + 220*pi^12*j^9*v^3/ak_m^12 + 495*pi^12*j^8*v^4/ak_m^12 + 792*pi^12*j^7*v^5/ak_m^12 + 924*pi^12*j^6*v^6/ak_m^12 + 792*pi^12*j^5*v^7/ak_m^12 + 495*pi^12*j^4*v^8/ak_m^12 + 220*pi^12*j^3*v^9/ak_m^12 + 66*pi^12*j^2*v^10/ak_m^12 + 12*pi^12*j*v^11/ak_m^12 + pi^12*v^12/ak_m^12 + 3*pi^8*j^8/ak_m^8 + 24*pi^8*j^7*v/ak_m^8 + 84*pi^8*j^6*v^2/ak_m^8 + 168*pi^8*j^5*v^3/ak_m^8 + 210*pi^8*j^4*v^4/ak_m^8 + 168*pi^8*j^3*v^5/ak_m^8 + 84*pi^8*j^2*v^6/ak_m^8 + 24*pi^8*j*v^7/ak_m^8 + 3*pi^8*v^8/ak_m^8 + 3*pi^4*j^4/ak_m^4 + 12*pi^4*j^3*v/ak_m^4 + 18*pi^4*j^2*v^2/ak_m^4 + 12*pi^4*j*v^3/ak_m^4 + 3*pi^4*v^4/ak_m^4 + 1)*ak_m^8) + 448*pi^8*j^2*v^8/((pi^12*j^12/ak_m^12 + 12*pi^12*j^11*v/ak_m^12 + 66*pi^12*j^10*v^2/ak_m^12 + 220*pi^12*j^9*v^3/ak_m^12 + 495*pi^12*j^8*v^4/ak_m^12 + 792*pi^12*j^7*v^5/ak_m^12 + 924*pi^12*j^6*v^6/ak_m^12 + 792*pi^12*j^5*v^7/ak_m^12 + 495*pi^12*j^4*v^8/ak_m^12 + 220*pi^12*j^3*v^9/ak_m^12 + 66*pi^12*j^2*v^10/ak_m^12 + 12*pi^12*j*v^11/ak_m^12 + pi^12*v^12/ak_m^12 + 3*pi^8*j^8/ak_m^8 + 24*pi^8*j^7*v/ak_m^8 + 84*pi^8*j^6*v^2/ak_m^8 + 168*pi^8*j^5*v^3/ak_m^8 + 210*pi^8*j^4*v^4/ak_m^8 + 168*pi^8*j^3*v^5/ak_m^8 + 84*pi^8*j^2*v^6/ak_m^8 + 24*pi^8*j*v^7/ak_m^8 + 3*pi^8*v^8/ak_m^8 + 3*pi^4*j^4/ak_m^4 + 12*pi^4*j^3*v/ak_m^4 + 18*pi^4*j^2*v^2/ak_m^4 + 12*pi^4*j*v^3/ak_m^4 + 3*pi^4*v^4/ak_m^4 + 1)*ak_m^8) + 128*pi^8*j*v^9/((pi^12*j^12/ak_m^12 + 12*pi^12*j^11*v/ak_m^12 + 66*pi^12*j^10*v^2/ak_m^12 + 220*pi^12*j^9*v^3/ak_m^12 + 495*pi^12*j^8*v^4/ak_m^12 + 792*pi^12*j^7*v^5/ak_m^12 + 924*pi^12*j^6*v^6/ak_m^12 + 792*pi^12*j^5*v^7/ak_m^12 + 495*pi^12*j^4*v^8/ak_m^12 + 220*pi^12*j^3*v^9/ak_m^12 + 66*pi^12*j^2*v^10/ak_m^12 + 12*pi^12*j*v^11/ak_m^12 + pi^12*v^12/ak_m^12 + 3*pi^8*j^8/ak_m^8 + 24*pi^8*j^7*v/ak_m^8 + 84*pi^8*j^6*v^2/ak_m^8 + 168*pi^8*j^5*v^3/ak_m^8 + 210*pi^8*j^4*v^4/ak_m^8 + 168*pi^8*j^3*v^5/ak_m^8 + 84*pi^8*j^2*v^6/ak_m^8 + 24*pi^8*j*v^7/ak_m^8 + 3*pi^8*v^8/ak_m^8 + 3*pi^4*j^4/ak_m^4 + 12*pi^4*j^3*v/ak_m^4 + 18*pi^4*j^2*v^2/ak_m^4 + 12*pi^4*j*v^3/ak_m^4 + 3*pi^4*v^4/ak_m^4 + 1)*ak_m^8) + 16*pi^8*v^10/((pi^12*j^12/ak_m^12 + 12*pi^12*j^11*v/ak_m^12 + 66*pi^12*j^10*v^2/ak_m^12 + 220*pi^12*j^9*v^3/ak_m^12 + 495*pi^12*j^8*v^4/ak_m^12 + 792*pi^12*j^7*v^5/ak_m^12 + 924*pi^12*j^6*v^6/ak_m^12 + 792*pi^12*j^5*v^7/ak_m^12 + 495*pi^12*j^4*v^8/ak_m^12 + 220*pi^12*j^3*v^9/ak_m^12 + 66*pi^12*j^2*v^10/ak_m^12 + 12*pi^12*j*v^11/ak_m^12 + pi^12*v^12/ak_m^12 + 3*pi^8*j^8/ak_m^8 + 24*pi^8*j^7*v/ak_m^8 + 84*pi^8*j^6*v^2/ak_m^8 + 168*pi^8*j^5*v^3/ak_m^8 + 210*pi^8*j^4*v^4/ak_m^8 + 168*pi^8*j^3*v^5/ak_m^8 + 84*pi^8*j^2*v^6/ak_m^8 + 24*pi^8*j*v^7/ak_m^8 + 3*pi^8*v^8/ak_m^8 + 3*pi^4*j^4/ak_m^4 + 12*pi^4*j^3*v/ak_m^4 + 18*pi^4*j^2*v^2/ak_m^4 + 12*pi^4*j*v^3/ak_m^4 + 3*pi^4*v^4/ak_m^4 + 1)*ak_m^8) - 16/3*pi^8*j^8*v/((pi^12*j^12/ak_m^12 + 12*pi^12*j^11*v/ak_m^12 + 66*pi^12*j^10*v^2/ak_m^12 + 220*pi^12*j^9*v^3/ak_m^12 + 495*pi^12*j^8*v^4/ak_m^12 + 792*pi^12*j^7*v^5/ak_m^12 + 924*pi^12*j^6*v^6/ak_m^12 + 792*pi^12*j^5*v^7/ak_m^12 + 495*pi^12*j^4*v^8/ak_m^12 + 220*pi^12*j^3*v^9/ak_m^12 + 66*pi^12*j^2*v^10/ak_m^12 + 12*pi^12*j*v^11/ak_m^12 + pi^12*v^12/ak_m^12 + 3*pi^8*j^8/ak_m^8 + 24*pi^8*j^7*v/ak_m^8 + 84*pi^8*j^6*v^2/ak_m^8 + 168*pi^8*j^5*v^3/ak_m^8 + 210*pi^8*j^4*v^4/ak_m^8 + 168*pi^8*j^3*v^5/ak_m^8 + 84*pi^8*j^2*v^6/ak_m^8 + 24*pi^8*j*v^7/ak_m^8 + 3*pi^8*v^8/ak_m^8 + 3*pi^4*j^4/ak_m^4 + 12*pi^4*j^3*v/ak_m^4 + 18*pi^4*j^2*v^2/ak_m^4 + 12*pi^4*j*v^3/ak_m^4 + 3*pi^4*v^4/ak_m^4 + 1)*ak_m^8) - 128/3*pi^8*j^7*v^2/((pi^12*j^12/ak_m^12 + 12*pi^12*j^11*v/ak_m^12 + 66*pi^12*j^10*v^2/ak_m^12 + 220*pi^12*j^9*v^3/ak_m^12 + 495*pi^12*j^8*v^4/ak_m^12 + 792*pi^12*j^7*v^5/ak_m^12 + 924*pi^12*j^6*v^6/ak_m^12 + 792*pi^12*j^5*v^7/ak_m^12 + 495*pi^12*j^4*v^8/ak_m^12 + 220*pi^12*j^3*v^9/ak_m^12 + 66*pi^12*j^2*v^10/ak_m^12 + 12*pi^12*j*v^11/ak_m^12 + pi^12*v^12/ak_m^12 + 3*pi^8*j^8/ak_m^8 + 24*pi^8*j^7*v/ak_m^8 + 84*pi^8*j^6*v^2/ak_m^8 + 168*pi^8*j^5*v^3/ak_m^8 + 210*pi^8*j^4*v^4/ak_m^8 + 168*pi^8*j^3*v^5/ak_m^8 + 84*pi^8*j^2*v^6/ak_m^8 + 24*pi^8*j*v^7/ak_m^8 + 3*pi^8*v^8/ak_m^8 + 3*pi^4*j^4/ak_m^4 + 12*pi^4*j^3*v/ak_m^4 + 18*pi^4*j^2*v^2/ak_m^4 + 12*pi^4*j*v^3/ak_m^4 + 3*pi^4*v^4/ak_m^4 + 1)*ak_m^8) - 448/3*pi^8*j^6*v^3/((pi^12*j^12/ak_m^12 + 12*pi^12*j^11*v/ak_m^12 + 66*pi^12*j^10*v^2/ak_m^12 + 220*pi^12*j^9*v^3/ak_m^12 + 495*pi^12*j^8*v^4/ak_m^12 + 792*pi^12*j^7*v^5/ak_m^12 + 924*pi^12*j^6*v^6/ak_m^12 + 792*pi^12*j^5*v^7/ak_m^12 + 495*pi^12*j^4*v^8/ak_m^12 + 220*pi^12*j^3*v^9/ak_m^12 + 66*pi^12*j^2*v^10/ak_m^12 + 12*pi^12*j*v^11/ak_m^12 + pi^12*v^12/ak_m^12 + 3*pi^8*j^8/ak_m^8 + 24*pi^8*j^7*v/ak_m^8 + 84*pi^8*j^6*v^2/ak_m^8 + 168*pi^8*j^5*v^3/ak_m^8 + 210*pi^8*j^4*v^4/ak_m^8 + 168*pi^8*j^3*v^5/ak_m^8 + 84*pi^8*j^2*v^6/ak_m^8 + 24*pi^8*j*v^7/ak_m^8 + 3*pi^8*v^8/ak_m^8 + 3*pi^4*j^4/ak_m^4 + 12*pi^4*j^3*v/ak_m^4 + 18*pi^4*j^2*v^2/ak_m^4 + 12*pi^4*j*v^3/ak_m^4 + 3*pi^4*v^4/ak_m^4 + 1)*ak_m^8) - 896/3*pi^8*j^5*v^4/((pi^12*j^12/ak_m^12 + 12*pi^12*j^11*v/ak_m^12 + 66*pi^12*j^10*v^2/ak_m^12 + 220*pi^12*j^9*v^3/ak_m^12 + 495*pi^12*j^8*v^4/ak_m^12 + 792*pi^12*j^7*v^5/ak_m^12 + 924*pi^12*j^6*v^6/ak_m^12 + 792*pi^12*j^5*v^7/ak_m^12 + 495*pi^12*j^4*v^8/ak_m^12 + 220*pi^12*j^3*v^9/ak_m^12 + 66*pi^12*j^2*v^10/ak_m^12 + 12*pi^12*j*v^11/ak_m^12 + pi^12*v^12/ak_m^12 + 3*pi^8*j^8/ak_m^8 + 24*pi^8*j^7*v/ak_m^8 + 84*pi^8*j^6*v^2/ak_m^8 + 168*pi^8*j^5*v^3/ak_m^8 + 210*pi^8*j^4*v^4/ak_m^8 + 168*pi^8*j^3*v^5/ak_m^8 + 84*pi^8*j^2*v^6/ak_m^8 + 24*pi^8*j*v^7/ak_m^8 + 3*pi^8*v^8/ak_m^8 + 3*pi^4*j^4/ak_m^4 + 12*pi^4*j^3*v/ak_m^4 + 18*pi^4*j^2*v^2/ak_m^4 + 12*pi^4*j*v^3/ak_m^4 + 3*pi^4*v^4/ak_m^4 + 1)*ak_m^8) - 1120/3*pi^8*j^4*v^5/((pi^12*j^12/ak_m^12 + 12*pi^12*j^11*v/ak_m^12 + 66*pi^12*j^10*v^2/ak_m^12 + 220*pi^12*j^9*v^3/ak_m^12 + 495*pi^12*j^8*v^4/ak_m^12 + 792*pi^12*j^7*v^5/ak_m^12 + 924*pi^12*j^6*v^6/ak_m^12 + 792*pi^12*j^5*v^7/ak_m^12 + 495*pi^12*j^4*v^8/ak_m^12 + 220*pi^12*j^3*v^9/ak_m^12 + 66*pi^12*j^2*v^10/ak_m^12 + 12*pi^12*j*v^11/ak_m^12 + pi^12*v^12/ak_m^12 + 3*pi^8*j^8/ak_m^8 + 24*pi^8*j^7*v/ak_m^8 + 84*pi^8*j^6*v^2/ak_m^8 + 168*pi^8*j^5*v^3/ak_m^8 + 210*pi^8*j^4*v^4/ak_m^8 + 168*pi^8*j^3*v^5/ak_m^8 + 84*pi^8*j^2*v^6/ak_m^8 + 24*pi^8*j*v^7/ak_m^8 + 3*pi^8*v^8/ak_m^8 + 3*pi^4*j^4/ak_m^4 + 12*pi^4*j^3*v/ak_m^4 + 18*pi^4*j^2*v^2/ak_m^4 + 12*pi^4*j*v^3/ak_m^4 + 3*pi^4*v^4/ak_m^4 + 1)*ak_m^8) - 896/3*pi^8*j^3*v^6/((pi^12*j^12/ak_m^12 + 12*pi^12*j^11*v/ak_m^12 + 66*pi^12*j^10*v^2/ak_m^12 + 220*pi^12*j^9*v^3/ak_m^12 + 495*pi^12*j^8*v^4/ak_m^12 + 792*pi^12*j^7*v^5/ak_m^12 + 924*pi^12*j^6*v^6/ak_m^12 + 792*pi^12*j^5*v^7/ak_m^12 + 495*pi^12*j^4*v^8/ak_m^12 + 220*pi^12*j^3*v^9/ak_m^12 + 66*pi^12*j^2*v^10/ak_m^12 + 12*pi^12*j*v^11/ak_m^12 + pi^12*v^12/ak_m^12 + 3*pi^8*j^8/ak_m^8 + 24*pi^8*j^7*v/ak_m^8 + 84*pi^8*j^6*v^2/ak_m^8 + 168*pi^8*j^5*v^3/ak_m^8 + 210*pi^8*j^4*v^4/ak_m^8 + 168*pi^8*j^3*v^5/ak_m^8 + 84*pi^8*j^2*v^6/ak_m^8 + 24*pi^8*j*v^7/ak_m^8 + 3*pi^8*v^8/ak_m^8 + 3*pi^4*j^4/ak_m^4 + 12*pi^4*j^3*v/ak_m^4 + 18*pi^4*j^2*v^2/ak_m^4 + 12*pi^4*j*v^3/ak_m^4 + 3*pi^4*v^4/ak_m^4 + 1)*ak_m^8) - 448/3*pi^8*j^2*v^7/((pi^12*j^12/ak_m^12 + 12*pi^12*j^11*v/ak_m^12 + 66*pi^12*j^10*v^2/ak_m^12 + 220*pi^12*j^9*v^3/ak_m^12 + 495*pi^12*j^8*v^4/ak_m^12 + 792*pi^12*j^7*v^5/ak_m^12 + 924*pi^12*j^6*v^6/ak_m^12 + 792*pi^12*j^5*v^7/ak_m^12 + 495*pi^12*j^4*v^8/ak_m^12 + 220*pi^12*j^3*v^9/ak_m^12 + 66*pi^12*j^2*v^10/ak_m^12 + 12*pi^12*j*v^11/ak_m^12 + pi^12*v^12/ak_m^12 + 3*pi^8*j^8/ak_m^8 + 24*pi^8*j^7*v/ak_m^8 + 84*pi^8*j^6*v^2/ak_m^8 + 168*pi^8*j^5*v^3/ak_m^8 + 210*pi^8*j^4*v^4/ak_m^8 + 168*pi^8*j^3*v^5/ak_m^8 + 84*pi^8*j^2*v^6/ak_m^8 + 24*pi^8*j*v^7/ak_m^8 + 3*pi^8*v^8/ak_m^8 + 3*pi^4*j^4/ak_m^4 + 12*pi^4*j^3*v/ak_m^4 + 18*pi^4*j^2*v^2/ak_m^4 + 12*pi^4*j*v^3/ak_m^4 + 3*pi^4*v^4/ak_m^4 + 1)*ak_m^8) - 128/3*pi^8*j*v^8/((pi^12*j^12/ak_m^12 + 12*pi^12*j^11*v/ak_m^12 + 66*pi^12*j^10*v^2/ak_m^12 + 220*pi^12*j^9*v^3/ak_m^12 + 495*pi^12*j^8*v^4/ak_m^12 + 792*pi^12*j^7*v^5/ak_m^12 + 924*pi^12*j^6*v^6/ak_m^12 + 792*pi^12*j^5*v^7/ak_m^12 + 495*pi^12*j^4*v^8/ak_m^12 + 220*pi^12*j^3*v^9/ak_m^12 + 66*pi^12*j^2*v^10/ak_m^12 + 12*pi^12*j*v^11/ak_m^12 + pi^12*v^12/ak_m^12 + 3*pi^8*j^8/ak_m^8 + 24*pi^8*j^7*v/ak_m^8 + 84*pi^8*j^6*v^2/ak_m^8 + 168*pi^8*j^5*v^3/ak_m^8 + 210*pi^8*j^4*v^4/ak_m^8 + 168*pi^8*j^3*v^5/ak_m^8 + 84*pi^8*j^2*v^6/ak_m^8 + 24*pi^8*j*v^7/ak_m^8 + 3*pi^8*v^8/ak_m^8 + 3*pi^4*j^4/ak_m^4 + 12*pi^4*j^3*v/ak_m^4 + 18*pi^4*j^2*v^2/ak_m^4 + 12*pi^4*j*v^3/ak_m^4 + 3*pi^4*v^4/ak_m^4 + 1)*ak_m^8) - 16/3*pi^8*v^9/((pi^12*j^12/ak_m^12 + 12*pi^12*j^11*v/ak_m^12 + 66*pi^12*j^10*v^2/ak_m^12 + 220*pi^12*j^9*v^3/ak_m^12 + 495*pi^12*j^8*v^4/ak_m^12 + 792*pi^12*j^7*v^5/ak_m^12 + 924*pi^12*j^6*v^6/ak_m^12 + 792*pi^12*j^5*v^7/ak_m^12 + 495*pi^12*j^4*v^8/ak_m^12 + 220*pi^12*j^3*v^9/ak_m^12 + 66*pi^12*j^2*v^10/ak_m^12 + 12*pi^12*j*v^11/ak_m^12 + pi^12*v^12/ak_m^12 + 3*pi^8*j^8/ak_m^8 + 24*pi^8*j^7*v/ak_m^8 + 84*pi^8*j^6*v^2/ak_m^8 + 168*pi^8*j^5*v^3/ak_m^8 + 210*pi^8*j^4*v^4/ak_m^8 + 168*pi^8*j^3*v^5/ak_m^8 + 84*pi^8*j^2*v^6/ak_m^8 + 24*pi^8*j*v^7/ak_m^8 + 3*pi^8*v^8/ak_m^8 + 3*pi^4*j^4/ak_m^4 + 12*pi^4*j^3*v/ak_m^4 + 18*pi^4*j^2*v^2/ak_m^4 + 12*pi^4*j*v^3/ak_m^4 + 3*pi^4*v^4/ak_m^4 + 1)*ak_m^8) + 28/3*pi^4*j^4*v^3/((pi^8*j^8/ak_m^8 + 8*pi^8*j^7*v/ak_m^8 + 28*pi^8*j^6*v^2/ak_m^8 + 56*pi^8*j^5*v^3/ak_m^8 + 70*pi^8*j^4*v^4/ak_m^8 + 56*pi^8*j^3*v^5/ak_m^8 + 28*pi^8*j^2*v^6/ak_m^8 + 8*pi^8*j*v^7/ak_m^8 + pi^8*v^8/ak_m^8 + 2*pi^4*j^4/ak_m^4 + 8*pi^4*j^3*v/ak_m^4 + 12*pi^4*j^2*v^2/ak_m^4 + 8*pi^4*j*v^3/ak_m^4 + 2*pi^4*v^4/ak_m^4 + 1)*ak_m^4) + 112/3*pi^4*j^3*v^4/((pi^8*j^8/ak_m^8 + 8*pi^8*j^7*v/ak_m^8 + 28*pi^8*j^6*v^2/ak_m^8 + 56*pi^8*j^5*v^3/ak_m^8 + 70*pi^8*j^4*v^4/ak_m^8 + 56*pi^8*j^3*v^5/ak_m^8 + 28*pi^8*j^2*v^6/ak_m^8 + 8*pi^8*j*v^7/ak_m^8 + pi^8*v^8/ak_m^8 + 2*pi^4*j^4/ak_m^4 + 8*pi^4*j^3*v/ak_m^4 + 12*pi^4*j^2*v^2/ak_m^4 + 8*pi^4*j*v^3/ak_m^4 + 2*pi^4*v^4/ak_m^4 + 1)*ak_m^4) + 56*pi^4*j^2*v^5/((pi^8*j^8/ak_m^8 + 8*pi^8*j^7*v/ak_m^8 + 28*pi^8*j^6*v^2/ak_m^8 + 56*pi^8*j^5*v^3/ak_m^8 + 70*pi^8*j^4*v^4/ak_m^8 + 56*pi^8*j^3*v^5/ak_m^8 + 28*pi^8*j^2*v^6/ak_m^8 + 8*pi^8*j*v^7/ak_m^8 + pi^8*v^8/ak_m^8 + 2*pi^4*j^4/ak_m^4 + 8*pi^4*j^3*v/ak_m^4 + 12*pi^4*j^2*v^2/ak_m^4 + 8*pi^4*j*v^3/ak_m^4 + 2*pi^4*v^4/ak_m^4 + 1)*ak_m^4) + 112/3*pi^4*j*v^6/((pi^8*j^8/ak_m^8 + 8*pi^8*j^7*v/ak_m^8 + 28*pi^8*j^6*v^2/ak_m^8 + 56*pi^8*j^5*v^3/ak_m^8 + 70*pi^8*j^4*v^4/ak_m^8 + 56*pi^8*j^3*v^5/ak_m^8 + 28*pi^8*j^2*v^6/ak_m^8 + 8*pi^8*j*v^7/ak_m^8 + pi^8*v^8/ak_m^8 + 2*pi^4*j^4/ak_m^4 + 8*pi^4*j^3*v/ak_m^4 + 12*pi^4*j^2*v^2/ak_m^4 + 8*pi^4*j*v^3/ak_m^4 + 2*pi^4*v^4/ak_m^4 + 1)*ak_m^4) + 28/3*pi^4*v^7/((pi^8*j^8/ak_m^8 + 8*pi^8*j^7*v/ak_m^8 + 28*pi^8*j^6*v^2/ak_m^8 + 56*pi^8*j^5*v^3/ak_m^8 + 70*pi^8*j^4*v^4/ak_m^8 + 56*pi^8*j^3*v^5/ak_m^8 + 28*pi^8*j^2*v^6/ak_m^8 + 8*pi^8*j*v^7/ak_m^8 + pi^8*v^8/ak_m^8 + 2*pi^4*j^4/ak_m^4 + 8*pi^4*j^3*v/ak_m^4 + 12*pi^4*j^2*v^2/ak_m^4 + 8*pi^4*j*v^3/ak_m^4 + 2*pi^4*v^4/ak_m^4 + 1)*ak_m^4) - 14*pi^4*j^4*v^2/((pi^8*j^8/ak_m^8 + 8*pi^8*j^7*v/ak_m^8 + 28*pi^8*j^6*v^2/ak_m^8 + 56*pi^8*j^5*v^3/ak_m^8 + 70*pi^8*j^4*v^4/ak_m^8 + 56*pi^8*j^3*v^5/ak_m^8 + 28*pi^8*j^2*v^6/ak_m^8 + 8*pi^8*j*v^7/ak_m^8 + pi^8*v^8/ak_m^8 + 2*pi^4*j^4/ak_m^4 + 8*pi^4*j^3*v/ak_m^4 + 12*pi^4*j^2*v^2/ak_m^4 + 8*pi^4*j*v^3/ak_m^4 + 2*pi^4*v^4/ak_m^4 + 1)*ak_m^4) - 56*pi^4*j^3*v^3/((pi^8*j^8/ak_m^8 + 8*pi^8*j^7*v/ak_m^8 + 28*pi^8*j^6*v^2/ak_m^8 + 56*pi^8*j^5*v^3/ak_m^8 + 70*pi^8*j^4*v^4/ak_m^8 + 56*pi^8*j^3*v^5/ak_m^8 + 28*pi^8*j^2*v^6/ak_m^8 + 8*pi^8*j*v^7/ak_m^8 + pi^8*v^8/ak_m^8 + 2*pi^4*j^4/ak_m^4 + 8*pi^4*j^3*v/ak_m^4 + 12*pi^4*j^2*v^2/ak_m^4 + 8*pi^4*j*v^3/ak_m^4 + 2*pi^4*v^4/ak_m^4 + 1)*ak_m^4) - 84*pi^4*j^2*v^4/((pi^8*j^8/ak_m^8 + 8*pi^8*j^7*v/ak_m^8 + 28*pi^8*j^6*v^2/ak_m^8 + 56*pi^8*j^5*v^3/ak_m^8 + 70*pi^8*j^4*v^4/ak_m^8 + 56*pi^8*j^3*v^5/ak_m^8 + 28*pi^8*j^2*v^6/ak_m^8 + 8*pi^8*j*v^7/ak_m^8 + pi^8*v^8/ak_m^8 + 2*pi^4*j^4/ak_m^4 + 8*pi^4*j^3*v/ak_m^4 + 12*pi^4*j^2*v^2/ak_m^4 + 8*pi^4*j*v^3/ak_m^4 + 2*pi^4*v^4/ak_m^4 + 1)*ak_m^4) - 56*pi^4*j*v^5/((pi^8*j^8/ak_m^8 + 8*pi^8*j^7*v/ak_m^8 + 28*pi^8*j^6*v^2/ak_m^8 + 56*pi^8*j^5*v^3/ak_m^8 + 70*pi^8*j^4*v^4/ak_m^8 + 56*pi^8*j^3*v^5/ak_m^8 + 28*pi^8*j^2*v^6/ak_m^8 + 8*pi^8*j*v^7/ak_m^8 + pi^8*v^8/ak_m^8 + 2*pi^4*j^4/ak_m^4 + 8*pi^4*j^3*v/ak_m^4 + 12*pi^4*j^2*v^2/ak_m^4 + 8*pi^4*j*v^3/ak_m^4 + 2*pi^4*v^4/ak_m^4 + 1)*ak_m^4) - 14*pi^4*v^6/((pi^8*j^8/ak_m^8 + 8*pi^8*j^7*v/ak_m^8 + 28*pi^8*j^6*v^2/ak_m^8 + 56*pi^8*j^5*v^3/ak_m^8 + 70*pi^8*j^4*v^4/ak_m^8 + 56*pi^8*j^3*v^5/ak_m^8 + 28*pi^8*j^2*v^6/ak_m^8 + 8*pi^8*j*v^7/ak_m^8 + pi^8*v^8/ak_m^8 + 2*pi^4*j^4/ak_m^4 + 8*pi^4*j^3*v/ak_m^4 + 12*pi^4*j^2*v^2/ak_m^4 + 8*pi^4*j*v^3/ak_m^4 + 2*pi^4*v^4/ak_m^4 + 1)*ak_m^4) + 14/3*pi^4*j^4*v/((pi^8*j^8/ak_m^8 + 8*pi^8*j^7*v/ak_m^8 + 28*pi^8*j^6*v^2/ak_m^8 + 56*pi^8*j^5*v^3/ak_m^8 + 70*pi^8*j^4*v^4/ak_m^8 + 56*pi^8*j^3*v^5/ak_m^8 + 28*pi^8*j^2*v^6/ak_m^8 + 8*pi^8*j*v^7/ak_m^8 + pi^8*v^8/ak_m^8 + 2*pi^4*j^4/ak_m^4 + 8*pi^4*j^3*v/ak_m^4 + 12*pi^4*j^2*v^2/ak_m^4 + 8*pi^4*j*v^3/ak_m^4 + 2*pi^4*v^4/ak_m^4 + 1)*ak_m^4) + 56/3*pi^4*j^3*v^2/((pi^8*j^8/ak_m^8 + 8*pi^8*j^7*v/ak_m^8 + 28*pi^8*j^6*v^2/ak_m^8 + 56*pi^8*j^5*v^3/ak_m^8 + 70*pi^8*j^4*v^4/ak_m^8 + 56*pi^8*j^3*v^5/ak_m^8 + 28*pi^8*j^2*v^6/ak_m^8 + 8*pi^8*j*v^7/ak_m^8 + pi^8*v^8/ak_m^8 + 2*pi^4*j^4/ak_m^4 + 8*pi^4*j^3*v/ak_m^4 + 12*pi^4*j^2*v^2/ak_m^4 + 8*pi^4*j*v^3/ak_m^4 + 2*pi^4*v^4/ak_m^4 + 1)*ak_m^4) + 28*pi^4*j^2*v^3/((pi^8*j^8/ak_m^8 + 8*pi^8*j^7*v/ak_m^8 + 28*pi^8*j^6*v^2/ak_m^8 + 56*pi^8*j^5*v^3/ak_m^8 + 70*pi^8*j^4*v^4/ak_m^8 + 56*pi^8*j^3*v^5/ak_m^8 + 28*pi^8*j^2*v^6/ak_m^8 + 8*pi^8*j*v^7/ak_m^8 + pi^8*v^8/ak_m^8 + 2*pi^4*j^4/ak_m^4 + 8*pi^4*j^3*v/ak_m^4 + 12*pi^4*j^2*v^2/ak_m^4 + 8*pi^4*j*v^3/ak_m^4 + 2*pi^4*v^4/ak_m^4 + 1)*ak_m^4) + 56/3*pi^4*j*v^4/((pi^8*j^8/ak_m^8 + 8*pi^8*j^7*v/ak_m^8 + 28*pi^8*j^6*v^2/ak_m^8 + 56*pi^8*j^5*v^3/ak_m^8 + 70*pi^8*j^4*v^4/ak_m^8 + 56*pi^8*j^3*v^5/ak_m^8 + 28*pi^8*j^2*v^6/ak_m^8 + 8*pi^8*j*v^7/ak_m^8 + pi^8*v^8/ak_m^8 + 2*pi^4*j^4/ak_m^4 + 8*pi^4*j^3*v/ak_m^4 + 12*pi^4*j^2*v^2/ak_m^4 + 8*pi^4*j*v^3/ak_m^4 + 2*pi^4*v^4/ak_m^4 + 1)*ak_m^4) + 14/3*pi^4*v^5/((pi^8*j^8/ak_m^8 + 8*pi^8*j^7*v/ak_m^8 + 28*pi^8*j^6*v^2/ak_m^8 + 56*pi^8*j^5*v^3/ak_m^8 + 70*pi^8*j^4*v^4/ak_m^8 + 56*pi^8*j^3*v^5/ak_m^8 + 28*pi^8*j^2*v^6/ak_m^8 + 8*pi^8*j*v^7/ak_m^8 + pi^8*v^8/ak_m^8 + 2*pi^4*j^4/ak_m^4 + 8*pi^4*j^3*v/ak_m^4 + 12*pi^4*j^2*v^2/ak_m^4 + 8*pi^4*j*v^3/ak_m^4 + 2*pi^4*v^4/ak_m^4 + 1)*ak_m^4) - 2/3*v^3/(pi^4*j^4/ak_m^4 + 4*pi^4*j^3*v/ak_m^4 + 6*pi^4*j^2*v^2/ak_m^4 + 4*pi^4*j*v^3/ak_m^4 + pi^4*v^4/ak_m^4 + 1) + v^2/(pi^4*j^4/ak_m^4 + 4*pi^4*j^3*v/ak_m^4 + 6*pi^4*j^2*v^2/ak_m^4 + 4*pi^4*j*v^3/ak_m^4 + pi^4*v^4/ak_m^4 + 1) - 1/3*v/(pi^4*j^4/ak_m^4 + 4*pi^4*j^3*v/ak_m^4 + 6*pi^4*j^2*v^2/ak_m^4 + 4*pi^4*j*v^3/ak_m^4 + pi^4*v^4/ak_m^4 + 1)"
      ]
     },
     "execution_count": 80,
     "metadata": {},
     "output_type": "execute_result"
    }
   ],
   "source": [
    "exec(preparse(\"sign_Fp_Bp_fact = \" + str((-1)^(p+1)*(Fp.subs(n=v+j)*B(x=v, p=p)/fact(n=p)).expand())))\n",
    "sign_Fp_Bp_fact"
   ]
  },
  {
   "cell_type": "markdown",
   "metadata": {},
   "source": [
    "Теперь собственно интегрирование по $v$. Получаем неопределённый интеграл"
   ]
  },
  {
   "cell_type": "code",
   "execution_count": 74,
   "metadata": {},
   "outputs": [],
   "source": [
    "exec(preparse(\"int_sign_Fp_Bp_fact_v = \" + str(integrate(sign_Fp_Bp_fact, v, algorithm='fricas'))))"
   ]
  },
  {
   "cell_type": "code",
   "execution_count": 59,
   "metadata": {},
   "outputs": [
    {
     "data": {
      "text/plain": [
       "-1/24*sqrt(2)*pi^6*(3*(2*sqrt(2)*(pi^8*ak_m^4*j^8 + 56*pi^8*ak_m^4*j^3*v^5 + 28*pi^8*ak_m^4*j^2*v^6 + 8*pi^8*ak_m^4*j*v^7 + pi^8*ak_m^4*v^8 + 2*pi^4*ak_m^8*j^4 + ak_m^12 + 2*(35*pi^8*ak_m^4*j^4 + pi^4*ak_m^8)*v^4 + 8*(7*pi^8*ak_m^4*j^5 + pi^4*ak_m^8*j)*v^3 + 4*(7*pi^8*ak_m^4*j^6 + 3*pi^4*ak_m^8*j^2)*v^2 + 8*(pi^8*ak_m^4*j^7 + pi^4*ak_m^8*j^3)*v)*sqrt(16*ak_m^12*j^4 + 32*ak_m^12*j^3 + 24*ak_m^12*j^2 + 8*ak_m^12*j + ak_m^12)/pi^6 + (pi^12*j^8 + 56*pi^12*j^3*v^5 + 28*pi^12*j^2*v^6 + 8*pi^12*j*v^7 + pi^12*v^8 + 2*pi^8*ak_m^4*j^4 + pi^4*ak_m^8 + 2*(35*pi^12*j^4 + pi^8*ak_m^4)*v^4 + 8*(7*pi^12*j^5 + pi^8*ak_m^4*j)*v^3 + 4*(7*pi^12*j^6 + 3*pi^8*ak_m^4*j^2)*v^2 + 8*(pi^12*j^7 + pi^8*ak_m^4*j^3)*v)*(16*ak_m^12*j^4 + 32*ak_m^12*j^3 + 24*ak_m^12*j^2 + 8*ak_m^12*j + ak_m^12)^(3/4)/pi^9)*log(64*ak_m^16*j^8 + 192*ak_m^16*j^7 + 240*ak_m^16*j^6 + 160*ak_m^16*j^5 + 60*ak_m^16*j^4 + 12*ak_m^16*j^3 + ak_m^16*j^2 + (64*ak_m^16*j^6 + 192*ak_m^16*j^5 + 240*ak_m^16*j^4 + 160*ak_m^16*j^3 + 60*ak_m^16*j^2 + 12*ak_m^16*j + ak_m^16)*v^2 + 2*(64*ak_m^16*j^7 + 192*ak_m^16*j^6 + 240*ak_m^16*j^5 + 160*ak_m^16*j^4 + 60*ak_m^16*j^3 + 12*ak_m^16*j^2 + ak_m^16*j)*v + (16*ak_m^12*j^4 + 32*ak_m^12*j^3 + 24*ak_m^12*j^2 + 8*ak_m^12*j + ak_m^12)^(3/2)/pi^2 + sqrt(2)*(16*ak_m^12*j^4 + 32*ak_m^12*j^3 + 24*ak_m^12*j^2 + 8*ak_m^12*j + ak_m^12)^(3/4)*(pi^8*(8*ak_m^8*j^3 + 12*ak_m^8*j^2 + 6*ak_m^8*j + ak_m^8)*v + pi^8*(8*ak_m^8*j^4 + 12*ak_m^8*j^3 + 6*ak_m^8*j^2 + ak_m^8*j))/pi^9) + 3*(2*sqrt(2)*(pi^8*ak_m^4*j^8 + 56*pi^8*ak_m^4*j^3*v^5 + 28*pi^8*ak_m^4*j^2*v^6 + 8*pi^8*ak_m^4*j*v^7 + pi^8*ak_m^4*v^8 + 2*pi^4*ak_m^8*j^4 + ak_m^12 + 2*(35*pi^8*ak_m^4*j^4 + pi^4*ak_m^8)*v^4 + 8*(7*pi^8*ak_m^4*j^5 + pi^4*ak_m^8*j)*v^3 + 4*(7*pi^8*ak_m^4*j^6 + 3*pi^4*ak_m^8*j^2)*v^2 + 8*(pi^8*ak_m^4*j^7 + pi^4*ak_m^8*j^3)*v)*sqrt(16*ak_m^12*j^4 + 32*ak_m^12*j^3 + 24*ak_m^12*j^2 + 8*ak_m^12*j + ak_m^12)/pi^6 - (pi^12*j^8 + 56*pi^12*j^3*v^5 + 28*pi^12*j^2*v^6 + 8*pi^12*j*v^7 + pi^12*v^8 + 2*pi^8*ak_m^4*j^4 + pi^4*ak_m^8 + 2*(35*pi^12*j^4 + pi^8*ak_m^4)*v^4 + 8*(7*pi^12*j^5 + pi^8*ak_m^4*j)*v^3 + 4*(7*pi^12*j^6 + 3*pi^8*ak_m^4*j^2)*v^2 + 8*(pi^12*j^7 + pi^8*ak_m^4*j^3)*v)*(16*ak_m^12*j^4 + 32*ak_m^12*j^3 + 24*ak_m^12*j^2 + 8*ak_m^12*j + ak_m^12)^(3/4)/pi^9)*log(64*ak_m^16*j^8 + 192*ak_m^16*j^7 + 240*ak_m^16*j^6 + 160*ak_m^16*j^5 + 60*ak_m^16*j^4 + 12*ak_m^16*j^3 + ak_m^16*j^2 + (64*ak_m^16*j^6 + 192*ak_m^16*j^5 + 240*ak_m^16*j^4 + 160*ak_m^16*j^3 + 60*ak_m^16*j^2 + 12*ak_m^16*j + ak_m^16)*v^2 + 2*(64*ak_m^16*j^7 + 192*ak_m^16*j^6 + 240*ak_m^16*j^5 + 160*ak_m^16*j^4 + 60*ak_m^16*j^3 + 12*ak_m^16*j^2 + ak_m^16*j)*v + (16*ak_m^12*j^4 + 32*ak_m^12*j^3 + 24*ak_m^12*j^2 + 8*ak_m^12*j + ak_m^12)^(3/2)/pi^2 - sqrt(2)*(16*ak_m^12*j^4 + 32*ak_m^12*j^3 + 24*ak_m^12*j^2 + 8*ak_m^12*j + ak_m^12)^(3/4)*(pi^8*(8*ak_m^8*j^3 + 12*ak_m^8*j^2 + 6*ak_m^8*j + ak_m^8)*v + pi^8*(8*ak_m^8*j^4 + 12*ak_m^8*j^3 + 6*ak_m^8*j^2 + ak_m^8*j))/pi^9) + 2*sqrt(2)*sqrt(16*ak_m^12*j^4 + 32*ak_m^12*j^3 + 24*ak_m^12*j^2 + 8*ak_m^12*j + ak_m^12)*(12*pi^8*(2*ak_m^4*j + ak_m^4)*v^7 + 3*pi^8*(50*ak_m^4*j^2 + 22*ak_m^4*j - ak_m^4)*v^6 + 2*pi^8*(200*ak_m^4*j^3 + 75*ak_m^4*j^2 - 8*ak_m^4*j)*v^5 + 10*ak_m^12 + pi^8*(10*ak_m^4*j^8 - ak_m^4*j^6) + pi^4*(20*ak_m^8*j^4 - ak_m^8*j^2) + (18*pi^4*ak_m^8 + 5*pi^8*(118*ak_m^4*j^4 + 36*ak_m^4*j^3 - 7*ak_m^4*j^2))*v^4 + 8*(9*pi^4*ak_m^8*j + 5*pi^8*(13*ak_m^4*j^5 + 3*ak_m^4*j^4 - ak_m^4*j^3))*v^3 + (pi^8*(274*ak_m^4*j^6 + 42*ak_m^4*j^5 - 25*ak_m^4*j^4) + pi^4*(114*ak_m^8*j^2 + 6*ak_m^8*j + ak_m^8))*v^2 + 2*(pi^8*(40*ak_m^4*j^7 + 3*ak_m^4*j^6 - 4*ak_m^4*j^5) + pi^4*(40*ak_m^8*j^3 + 3*ak_m^8*j^2))*v)/pi^6 + 12*(pi^12*j^8 + 56*pi^12*j^3*v^5 + 28*pi^12*j^2*v^6 + 8*pi^12*j*v^7 + pi^12*v^8 + 2*pi^8*ak_m^4*j^4 + pi^4*ak_m^8 + 2*(35*pi^12*j^4 + pi^8*ak_m^4)*v^4 + 8*(7*pi^12*j^5 + pi^8*ak_m^4*j)*v^3 + 4*(7*pi^12*j^6 + 3*pi^8*ak_m^4*j^2)*v^2 + 8*(pi^12*j^7 + pi^8*ak_m^4*j^3)*v)*(16*ak_m^12*j^4 + 32*ak_m^12*j^3 + 24*ak_m^12*j^2 + 8*ak_m^12*j + ak_m^12)^(3/4)*arctan((16*ak_m^12*j^4 + 32*ak_m^12*j^3 + 24*ak_m^12*j^2 + 8*ak_m^12*j + ak_m^12)^(5/4)/(pi^3*(sqrt(2)*sqrt(64*ak_m^16*j^8 + 192*ak_m^16*j^7 + 240*ak_m^16*j^6 + 160*ak_m^16*j^5 + 60*ak_m^16*j^4 + 12*ak_m^16*j^3 + ak_m^16*j^2 + (64*ak_m^16*j^6 + 192*ak_m^16*j^5 + 240*ak_m^16*j^4 + 160*ak_m^16*j^3 + 60*ak_m^16*j^2 + 12*ak_m^16*j + ak_m^16)*v^2 + 2*(64*ak_m^16*j^7 + 192*ak_m^16*j^6 + 240*ak_m^16*j^5 + 160*ak_m^16*j^4 + 60*ak_m^16*j^3 + 12*ak_m^16*j^2 + ak_m^16*j)*v + (16*ak_m^12*j^4 + 32*ak_m^12*j^3 + 24*ak_m^12*j^2 + 8*ak_m^12*j + ak_m^12)^(3/2)/pi^2 + sqrt(2)*(16*ak_m^12*j^4 + 32*ak_m^12*j^3 + 24*ak_m^12*j^2 + 8*ak_m^12*j + ak_m^12)^(3/4)*(pi^8*(8*ak_m^8*j^3 + 12*ak_m^8*j^2 + 6*ak_m^8*j + ak_m^8)*v + pi^8*(8*ak_m^8*j^4 + 12*ak_m^8*j^3 + 6*ak_m^8*j^2 + ak_m^8*j))/pi^9)*sqrt(16*ak_m^12*j^4 + 32*ak_m^12*j^3 + 24*ak_m^12*j^2 + 8*ak_m^12*j + ak_m^12)/pi^2 + (16*ak_m^12*j^4 + 32*ak_m^12*j^3 + 24*ak_m^12*j^2 + 8*ak_m^12*j + ak_m^12)^(5/4)/pi^3 + sqrt(2)*sqrt(16*ak_m^12*j^4 + 32*ak_m^12*j^3 + 24*ak_m^12*j^2 + 8*ak_m^12*j + ak_m^12)*(pi^4*(8*ak_m^8*j^3 + 12*ak_m^8*j^2 + 6*ak_m^8*j + ak_m^8)*v + pi^4*(8*ak_m^8*j^4 + 12*ak_m^8*j^3 + 6*ak_m^8*j^2 + ak_m^8*j))/pi^6)))/pi^9 + 12*(pi^12*j^8 + 56*pi^12*j^3*v^5 + 28*pi^12*j^2*v^6 + 8*pi^12*j*v^7 + pi^12*v^8 + 2*pi^8*ak_m^4*j^4 + pi^4*ak_m^8 + 2*(35*pi^12*j^4 + pi^8*ak_m^4)*v^4 + 8*(7*pi^12*j^5 + pi^8*ak_m^4*j)*v^3 + 4*(7*pi^12*j^6 + 3*pi^8*ak_m^4*j^2)*v^2 + 8*(pi^12*j^7 + pi^8*ak_m^4*j^3)*v)*(16*ak_m^12*j^4 + 32*ak_m^12*j^3 + 24*ak_m^12*j^2 + 8*ak_m^12*j + ak_m^12)^(3/4)*arctan((16*ak_m^12*j^4 + 32*ak_m^12*j^3 + 24*ak_m^12*j^2 + 8*ak_m^12*j + ak_m^12)^(5/4)/(pi^3*(sqrt(2)*sqrt(64*ak_m^16*j^8 + 192*ak_m^16*j^7 + 240*ak_m^16*j^6 + 160*ak_m^16*j^5 + 60*ak_m^16*j^4 + 12*ak_m^16*j^3 + ak_m^16*j^2 + (64*ak_m^16*j^6 + 192*ak_m^16*j^5 + 240*ak_m^16*j^4 + 160*ak_m^16*j^3 + 60*ak_m^16*j^2 + 12*ak_m^16*j + ak_m^16)*v^2 + 2*(64*ak_m^16*j^7 + 192*ak_m^16*j^6 + 240*ak_m^16*j^5 + 160*ak_m^16*j^4 + 60*ak_m^16*j^3 + 12*ak_m^16*j^2 + ak_m^16*j)*v + (16*ak_m^12*j^4 + 32*ak_m^12*j^3 + 24*ak_m^12*j^2 + 8*ak_m^12*j + ak_m^12)^(3/2)/pi^2 - sqrt(2)*(16*ak_m^12*j^4 + 32*ak_m^12*j^3 + 24*ak_m^12*j^2 + 8*ak_m^12*j + ak_m^12)^(3/4)*(pi^8*(8*ak_m^8*j^3 + 12*ak_m^8*j^2 + 6*ak_m^8*j + ak_m^8)*v + pi^8*(8*ak_m^8*j^4 + 12*ak_m^8*j^3 + 6*ak_m^8*j^2 + ak_m^8*j))/pi^9)*sqrt(16*ak_m^12*j^4 + 32*ak_m^12*j^3 + 24*ak_m^12*j^2 + 8*ak_m^12*j + ak_m^12)/pi^2 - (16*ak_m^12*j^4 + 32*ak_m^12*j^3 + 24*ak_m^12*j^2 + 8*ak_m^12*j + ak_m^12)^(5/4)/pi^3 + sqrt(2)*sqrt(16*ak_m^12*j^4 + 32*ak_m^12*j^3 + 24*ak_m^12*j^2 + 8*ak_m^12*j + ak_m^12)*(pi^4*(8*ak_m^8*j^3 + 12*ak_m^8*j^2 + 6*ak_m^8*j + ak_m^8)*v + pi^4*(8*ak_m^8*j^4 + 12*ak_m^8*j^3 + 6*ak_m^8*j^2 + ak_m^8*j))/pi^6)))/pi^9)/((pi^12*j^8 + 56*pi^12*j^3*v^5 + 28*pi^12*j^2*v^6 + 8*pi^12*j*v^7 + pi^12*v^8 + 2*pi^8*ak_m^4*j^4 + pi^4*ak_m^8 + 2*(35*pi^12*j^4 + pi^8*ak_m^4)*v^4 + 8*(7*pi^12*j^5 + pi^8*ak_m^4*j)*v^3 + 4*(7*pi^12*j^6 + 3*pi^8*ak_m^4*j^2)*v^2 + 8*(pi^12*j^7 + pi^8*ak_m^4*j^3)*v)*sqrt(16*ak_m^12*j^4 + 32*ak_m^12*j^3 + 24*ak_m^12*j^2 + 8*ak_m^12*j + ak_m^12))"
      ]
     },
     "execution_count": 59,
     "metadata": {},
     "output_type": "execute_result"
    }
   ],
   "source": [
    "int_sign_Fp_Bp_fact_v"
   ]
  },
  {
   "cell_type": "markdown",
   "metadata": {},
   "source": [
    "Теперь неопределённый интеграл превращаем в определённый интеграл по переменной $v$ на участке от 0 до 1"
   ]
  },
  {
   "cell_type": "code",
   "execution_count": 60,
   "metadata": {},
   "outputs": [],
   "source": [
    "exec(preparse(\"int_sign_Fp_Bp_fact_v_0_1=\"+str(int_sign_Fp_Bp_fact_v.subs(v=1)-int_sign_Fp_Bp_fact_v.subs(v=0))))"
   ]
  },
  {
   "cell_type": "markdown",
   "metadata": {},
   "source": [
    "Полученное выражение определённого интеграла имеет теперь две свободные переменные"
   ]
  },
  {
   "cell_type": "code",
   "execution_count": 77,
   "metadata": {},
   "outputs": [
    {
     "data": {
      "text/plain": [
       "(ak_m, j)"
      ]
     },
     "execution_count": 77,
     "metadata": {},
     "output_type": "execute_result"
    }
   ],
   "source": [
    "int_sign_Fp_Bp_fact_v_0_1.variables()"
   ]
  },
  {
   "cell_type": "markdown",
   "metadata": {},
   "source": [
    "По одной из них мы будем производить суммирование и при этом исследовать зависимость полученной суммы от второй"
   ]
  },
  {
   "cell_type": "raw",
   "metadata": {},
   "source": [
    "sum(int_sign_Fp_Bp_fact_v_0_1, j, 0, Infinity)"
   ]
  },
  {
   "cell_type": "markdown",
   "metadata": {},
   "source": [
    "Поскольку получить символьное выражение суммы по $j$ от нуля до бесконечности не удаётся используем несложную собственную функцию численного суммирования ограничиваясь числом слагаемых достаточных для достижении заданной точности. В качестве критерия используется скользящее среднее нескольких крайних с конца слагаемых. Кроме того задаваемую точность пришлось ступеньчато уменьшать при увеличении текущего номера слагаемых"
   ]
  },
  {
   "cell_type": "code",
   "execution_count": null,
   "metadata": {},
   "outputs": [],
   "source": [
    "# Сумма слагаемых ряда в формуле Эйлера Маклорена в зависимости от произведения $a k_m$\n",
    "# при том что $k_m$ пропорциональна удельной массе пластины\n",
    "def calc_Rp(akm):\n",
    "\n",
    "    int_sign_Fp_Bp_fact_v_0_1_subs_akm = int_sign_Fp_Bp_fact_v_0_1.subs(ak_m=akm)\n",
    "    \n",
    "    criteria = [1,1,1,1,1,1,1]\n",
    "    len_criteria = len(criteria)\n",
    "    \n",
    "    _j = 0\n",
    "    epsilon = 1e-12\n",
    "    \n",
    "    Rp = 0\n",
    "    while(True):\n",
    "        dRpj = int_sign_Fp_Bp_fact_v_0_1_subs_akm.subs(j=_j).n()\n",
    "        ind = _j % len_criteria\n",
    "        criteria[ind] = abs(dRpj)\n",
    "        Rp += dRpj\n",
    "        \n",
    "        mean_criteria = sum(criteria)/len_criteria\n",
    "        \n",
    "        #print(_j, dRpj, Rp, mean_criteria)\n",
    "        _j += 1\n",
    "        \n",
    "        if _j == 200:\n",
    "            epsilon = 1e-11\n",
    "        if _j == 400:\n",
    "            epsilon = 1e-10\n",
    "        if _j == 800:\n",
    "            epsilon = 1e-9\n",
    "        \n",
    "        if mean_criteria < epsilon:\n",
    "            break\n",
    "\n",
    "        if _j > 1000:\n",
    "            break\n",
    "\n",
    "    print(nk, akm, Rp, dRpj, mean_criteria, _j)\n",
    "    \n",
    "    return Rp\n"
   ]
  },
  {
   "cell_type": "markdown",
   "metadata": {},
   "source": [
    "Начинаем:"
   ]
  },
  {
   "cell_type": "code",
   "execution_count": 63,
   "metadata": {},
   "outputs": [
    {
     "name": "stdout",
     "output_type": "stream",
     "text": [
      "0.005 0.1*pi 0.000565642704142560 -4.24211447219713e-13 8.35819044184283e-13 28\n",
      "0.01 0.2*pi 0.00238159378773787 -6.11476147494017e-13 8.97502310565861e-13 45\n",
      "0.015 0.3*pi 0.00360889872925091 -7.18591852688633e-13 9.53578486015009e-13 60\n",
      "0.02 0.4*pi 0.00225733014723570 -7.67164110015983e-13 9.85275353368057e-13 74\n",
      "0.025 0.5*pi -0.00221942579566858 -8.26450019530967e-13 9.87781285337925e-13 88\n",
      "0.030000000000000002 0.6000000000000001*pi -0.00859739621988775 -9.29034627006331e-13 9.77503792195681e-13 101\n",
      "0.034999999999999996 0.7*pi -0.0145805031958135 -7.10542735760100e-13 9.69637069049765e-13 115\n",
      "0.04 0.8*pi -0.0180502431646339 -6.85673740008497e-13 9.36901350152246e-13 125\n",
      "0.045 0.9*pi -0.0180969732971104 -2.27373675443232e-13 8.95283847057726e-13 142\n",
      "0.049999999999999996 0.9999999999999998*pi -0.0152447771219144 -3.97903932025656e-13 7.43024689394848e-13 144\n",
      "0.055 1.0999999999999999*pi -0.0109110061232940 -9.37916411203332e-13 8.89193480751211e-13 166\n",
      "0.06 1.2*pi -0.00661593194375598 -9.09494701772928e-13 8.20169329277373e-13 168\n",
      "0.065 1.3*pi -0.00341761888712711 -5.68434188608080e-14 8.77012748138181e-13 173\n",
      "0.07 1.4000000000000001*pi -0.00172822106911497 -5.22959453519434e-12 2.87465289667515e-12 200\n",
      "0.07500000000000001 1.5000000000000002*pi -0.00142125965447804 2.78532752417959e-12 3.34564122437899e-12 200\n",
      "0.08 1.6*pi -0.00206628309405232 4.94537744089030e-12 2.54171287191899e-12 200\n",
      "0.085 1.7000000000000002*pi -0.00316020665815131 -1.10276232589968e-11 4.87229304521212e-12 200\n",
      "0.09000000000000001 1.8000000000000003*pi -0.00428656664604432 -1.03455022326671e-11 6.59383658785373e-12 200\n",
      "0.095 1.9*pi -0.00518682637846268 9.77706804405898e-12 5.00222085975111e-12 200\n",
      "0.1 2.0*pi -0.00576057194518853 -5.22959453519434e-12 9.32232069317251e-12 200\n",
      "0.10500000000000001 2.1*pi -0.00602449481334588 -4.32009983342141e-12 9.80954999769373e-12 200\n",
      "0.11 2.1999999999999997*pi -0.00605876469410305 2.02362571144477e-11 8.73764552774706e-12 200\n",
      "0.115 2.3*pi -0.00596046066402778 -3.63797880709171e-12 9.87451390496322e-12 218\n",
      "0.12000000000000001 2.4000000000000004*pi -0.00581315092813384 -9.09494701772928e-13 7.79566887233938e-12 254\n",
      "0.125 2.5*pi -0.00567330808667066 4.54747350886464e-12 8.51027185230383e-12 226\n",
      "0.13 2.6*pi -0.00556944084155475 4.54747350886464e-13 9.41976655407676e-12 244\n",
      "0.135 2.7*pi -0.00550837939454141 0.000000000000000 4.04075503216258e-11 400\n",
      "0.14 2.8000000000000003*pi -0.00548384379635536 -8.36735125631094e-11 5.72981662116945e-11 400\n",
      "0.14500000000000002 2.9000000000000004*pi -0.00548412950274724 -2.45563569478691e-11 8.18545231595635e-12 262\n",
      "0.15 3.0*pi -0.00549744304498745 -1.63709046319127e-11 6.83420304475086e-11 400\n",
      "0.155 3.1*pi -0.00551468962976287 -5.45696821063757e-12 7.12004423673664e-11 400\n",
      "0.16 3.2*pi -0.00553029678212624 5.45696821063757e-12 3.94980556198529e-11 400\n",
      "0.165 3.3000000000000003*pi -0.00554178321726795 1.45519152283669e-11 9.22487483226827e-11 403\n",
      "0.17 3.4000000000000004*pi -0.00554881424613995 -2.18278728425503e-11 8.39333681921874e-11 401\n",
      "0.17500000000000002 3.5000000000000004*pi -0.00555222297953151 1.81898940354586e-12 9.92648503077882e-11 409\n",
      "0.18000000000000002 3.6000000000000005*pi -0.00555323239950667 -7.09405867382884e-11 5.11915589283620e-11 400\n",
      "0.185 3.7*pi -0.00555297763821727 -7.27595761418343e-12 9.45874489843845e-11 406\n",
      "0.19 3.8*pi -0.00555229052952200 1.05501385405660e-10 9.97845615659441e-11 415\n",
      "0.195 3.9*pi -0.00555166422054754 2.91038304567337e-11 9.87451390496322e-11 411\n",
      "0.2 4.0*pi -0.00555131062174041 -3.63797880709171e-11 9.19888926936047e-11 416\n",
      "0.20500000000000002 4.1*pi -0.00555125988284999 -2.54658516496420e-11 9.77057165333203e-11 438\n",
      "0.21000000000000002 4.2*pi -0.00555143714154838 1.49157131090760e-10 9.25086039517607e-11 419\n",
      "0.215 4.3*pi -0.00555176038324134 8.00355337560177e-11 3.59640190643924e-10 800\n",
      "0.22 4.3999999999999995*pi -0.00555212690233020 7.27595761418343e-12 8.41932238212654e-11 533\n",
      "0.225 4.5*pi -0.00555249386525247 3.92901711165905e-10 3.46127697931869e-10 800\n",
      "0.23 4.6*pi -0.00555282543791691 1.45519152283669e-11 9.56268715006965e-11 489\n",
      "0.23500000000000001 4.7*pi -0.00555311100106337 -1.89174897968769e-10 2.28672953588622e-10 800\n",
      "0.24000000000000002 4.800000000000001*pi -0.00555335219178232 3.05590219795704e-10 7.96197647494929e-10 800\n",
      "0.245 4.8999999999999995*pi -0.00555353026356897 -8.00355337560177e-11 5.08277610476528e-10 800\n",
      "0.25 5.0*pi -0.00555368800269207 -3.92901711165905e-10 4.19926696590015e-10 800\n",
      "0.255 5.1*pi -0.00555379747675033 -1.89174897968769e-10 6.38205425015518e-10 800\n",
      "0.26 5.2*pi -0.00555395205446985 -2.61934474110603e-10 9.68741785202708e-10 803\n",
      "0.265 5.3*pi -0.00555404619080946 1.25146470963955e-9 6.25732354819775e-10 800\n",
      "0.27 5.4*pi -0.00555418192379875 -1.30967237055302e-10 3.76270950904914e-10 800\n",
      "0.275 5.5*pi -0.00555426828213967 1.65891833603382e-9 9.12612969321864e-10 800\n",
      "0.28 5.6000000000000005*pi -0.00555434772832086 1.01863406598568e-10 9.54189869974341e-10 800\n",
      "0.28500000000000003 5.7*pi -0.00555440079187974 7.71251507103443e-10 7.10965001157352e-10 800\n",
      "0.29000000000000004 5.800000000000001*pi -0.00555452225671615 4.65661287307739e-10 6.92255395863737e-10 800\n",
      "0.295 5.8999999999999995*pi -0.00555458236340201 4.65661287307739e-10 7.85803422331810e-10 800\n",
      "0.3 6.0*pi -0.00555464130593464 -2.61934474110603e-10 9.85372545463698e-10 800\n",
      "0.305 6.1*pi -0.00555468183301855 3.49245965480804e-10 8.85587983897754e-10 807\n",
      "0.31 6.2*pi -0.00555474277643953 6.98491930961609e-10 9.60426405072212e-10 800\n",
      "0.315 6.3*pi -0.00555485664517619 -1.51339918375015e-9 8.56484153441020e-10 800\n",
      "0.32 6.4*pi -0.00555482515483163 1.28056854009628e-9 6.98491930961609e-10 800\n",
      "0.325 6.5*pi -0.00555494957370684 1.45519152283669e-10 9.97845615659441e-10 806\n",
      "0.33 6.6000000000000005*pi -0.00555488918325864 5.82076609134674e-10 7.81645732266562e-10 805\n",
      "0.335 6.7*pi -0.00555497605819255 4.65661287307739e-10 8.68957223636763e-10 815\n",
      "0.34 6.800000000000001*pi -0.00555504365183879 -8.73114913702011e-10 9.14691814354488e-10 833\n",
      "0.34500000000000003 6.9*pi -0.00555501664348412 1.10594555735588e-9 9.47953334876469e-10 828\n",
      "0.35000000000000003 7.000000000000001*pi -0.00555510469712317 -9.31322574615479e-10 8.89745673963002e-10 805\n",
      "0.35500000000000004 7.1000000000000005*pi -0.00555509948753752 0.000000000000000 9.47953334876469e-10 980\n",
      "0.36 7.2*pi -0.00555509951664135 -1.62981450557709e-9 9.39637954745974e-10 973\n",
      "0.365 7.3*pi -0.00555513237486593 -4.48198989033699e-9 2.44472175836563e-9 1001\n",
      "0.37 7.4*pi -0.00555530600831844 5.82076609134674e-10 2.75239082319396e-9 1001\n",
      "0.375 7.5*pi -0.00555512428400107 -1.16415321826935e-10 9.64584095137460e-10 827\n",
      "0.38 7.6*pi -0.00555519631598145 -8.73114913702011e-10 9.23007194484983e-10 820\n",
      "0.385 7.699999999999999*pi -0.00555513074505143 -6.98491930961609e-10 9.14691814354488e-10 818\n",
      "0.39 7.8*pi -0.00555523519869894 -2.32830643653870e-10 8.81430293832506e-10 896\n",
      "0.395 7.8999999999999995*pi -0.00555521112983115 -1.16415321826935e-10 3.27625977141517e-9 1001\n",
      "0.4 8.0*pi -0.00555525894742459 -5.64614310860634e-9 3.09332140854427e-9 1001\n",
      "0.405 8.1*pi -0.00555530434940010 1.33877620100975e-9 2.96027532645634e-9 1001\n",
      "0.41000000000000003 8.2*pi -0.00555538549087942 3.31783667206764e-9 5.33847404377801e-9 1001\n",
      "0.41500000000000004 8.3*pi -0.00555528968106955 -6.98491930961609e-10 5.12227416038513e-9 1001\n",
      "0.42000000000000004 8.4*pi -0.00555538700427860 7.79982656240463e-9 4.04127474342074e-9 1001\n",
      "0.425 8.499999999999998*pi -0.00555542879737914 8.73114913702011e-9 4.25747462681362e-9 1001\n",
      "0.43 8.6*pi -0.00555526633979753 8.96397978067398e-9 5.27195100273405e-9 1001\n",
      "0.435 8.7*pi -0.00555522053036839 8.73114913702011e-9 4.72313591412136e-9 1001\n",
      "0.44 8.799999999999999*pi -0.00555531110148877 -1.74622982740402e-9 4.73976667438235e-9 1001\n",
      "0.445 8.9*pi -0.00555530574638397 -4.65661287307739e-10 4.90607427699225e-9 1001\n",
      "0.45 9.0*pi -0.00555542117217556 -5.82076609134674e-10 2.87712152515139e-9 1001\n",
      "0.455 9.1*pi -0.00555539573542774 6.05359673500061e-9 4.57345907177244e-9 1001\n",
      "0.46 9.2*pi -0.00555532460566610 6.98491930961609e-10 4.52356679098947e-9 1001\n",
      "0.465 9.3*pi -0.00555543525842950 -4.65661287307739e-10 3.55898269585201e-9 1001\n",
      "0.47000000000000003 9.4*pi -0.00555555091705173 -2.09547579288483e-9 7.13459615196500e-9 1001\n"
     ]
    },
    {
     "name": "stdout",
     "output_type": "stream",
     "text": [
      "0.47500000000000003 9.5*pi -0.00555547809926793 2.32830643653870e-9 4.59008983203343e-9 1001\n",
      "0.48000000000000004 9.600000000000001*pi -0.00555517408065498 -2.91038304567337e-9 4.35725918837956e-9 1001\n",
      "0.485 9.700000000000001*pi -0.00555536744650453 -1.16415321826935e-10 3.60887497663498e-9 1001\n",
      "0.49 9.799999999999999*pi -0.00555545208044350 -1.39698386192322e-9 5.52141240664891e-9 1001\n",
      "0.495 9.9*pi -0.00555535964667797 3.25962901115417e-9 7.61688819953374e-9 1001\n",
      "0.5 10.0*pi -0.00555526046082377 2.32830643653870e-10 3.75855181898390e-9 1001\n",
      "0.505 10.099999999999998*pi -0.00555540365166962 6.98491930961609e-10 4.25747462681362e-9 1001\n",
      "0.51 10.2*pi -0.00555552088189870 -1.02445483207703e-8 6.51925802230835e-9 1001\n",
      "0.515 10.299999999999999*pi -0.00555551028810441 2.09547579288483e-8 1.22402395520891e-8 1001\n",
      "0.52 10.4*pi -0.00555567210540175 -8.84756445884705e-9 7.28427299431392e-9 1001\n",
      "0.525 10.499999999999998*pi -0.00555532332509756 4.42378222942352e-9 8.38190317153931e-9 1001\n",
      "0.53 10.6*pi -0.00555563741363585 -1.88592821359634e-8 9.24670270511082e-9 1001\n",
      "0.535 10.7*pi -0.00555523880757391 1.39698386192322e-9 5.58793544769287e-9 1001\n",
      "0.54 10.8*pi -0.00555544171947986 1.62981450557709e-9 6.88513474805015e-9 1001\n",
      "0.545 10.899999999999999*pi -0.00555569306015968 6.98491930961609e-9 7.55036515848977e-9 1001\n",
      "0.55 11.0*pi -0.00555540528148413 -3.72529029846191e-9 7.71667276109968e-9 1001\n",
      "0.555 11.1*pi -0.00555578118655831 3.02679836750031e-9 4.35725918837956e-9 1001\n",
      "0.56 11.200000000000001*pi -0.00555558106862009 -1.90921127796173e-8 1.07102096080780e-8 1001\n",
      "0.5650000000000001 11.299999999999999*pi -0.00555577699560672 -1.16415321826935e-9 9.21344118458884e-9 1001\n",
      "0.5700000000000001 11.4*pi -0.00555514171719551 3.49245965480804e-9 8.38190317153931e-9 1001\n",
      "0.5750000000000001 11.5*pi -0.00555600132793188 -2.42143869400024e-8 1.11093478543418e-8 1001\n",
      "0.5800000000000001 11.600000000000001*pi -0.00555530912242830 -2.98023223876953e-8 1.56994376863752e-8 1001\n",
      "0.585 11.699999999999998*pi -0.00555549957789481 5.12227416038513e-9 5.38836632456098e-9 1001\n",
      "0.59 11.799999999999999*pi -0.00555539992637932 1.39698386192322e-9 1.07102096080780e-8 1001\n",
      "0.595 11.899999999999999*pi -0.00555528886616230 -4.19095158576965e-9 1.19076243468693e-8 1001\n",
      "0.6 12.0*pi -0.00555487046949565 -8.38190317153931e-9 9.24670270511082e-9 1001\n",
      "0.605 12.099999999999998*pi -0.00555528933182359 -2.18860805034637e-8 8.58147229467119e-9 1001\n",
      "0.61 12.2*pi -0.00555527536198497 -8.38190317153931e-9 5.72098152978080e-9 1001\n",
      "0.615 12.299999999999999*pi -0.00555588235147297 2.79396772384644e-9 8.84756445884705e-9 1001\n",
      "0.62 12.4*pi -0.00555558549240232 6.05359673500061e-9 1.47015920707158e-8 1001\n",
      "0.625 12.499999999999998*pi -0.00555512751452625 9.77888703346252e-9 1.31715621267046e-8 1001\n",
      "0.63 12.6*pi -0.00555542041547596 -2.46800482273102e-8 7.84971884318760e-9 1001\n",
      "0.635 12.7*pi -0.00555551960133016 2.00234353542328e-8 1.64311911378588e-8 1001\n",
      "0.64 12.8*pi -0.00555541436187923 -5.35510480403900e-8 1.96242971079690e-8 1001\n",
      "0.645 12.899999999999999*pi -0.00555595126934350 0.000000000000000 9.11365662302290e-9 1001\n",
      "0.65 13.0*pi -0.00555525603704154 -9.31322574615479e-9 1.72959906714303e-8 1001\n",
      "0.655 13.1*pi -0.00555533985607326 4.65661287307739e-9 1.47681151117597e-8 1001\n",
      "0.66 13.200000000000001*pi -0.00555559084750712 -2.42143869400024e-8 1.19076243468693e-8 1001\n",
      "0.665 13.299999999999999*pi -0.00555499596521258 -1.58324837684631e-8 1.23732856341771e-8 1001\n",
      "0.67 13.4*pi -0.00555535452440381 -3.91155481338501e-8 2.60770320892334e-8 1001\n",
      "0.675 13.5*pi -0.00555552635341883 -2.79396772384644e-9 8.84756445884705e-9 1001\n",
      "0.68 13.600000000000001*pi -0.00555506814271212 -9.31322574615479e-9 1.41028847013201e-8 1001\n",
      "0.685 13.7*pi -0.00555550167337060 -1.30385160446167e-8 1.86264514923096e-8 1001\n",
      "0.6900000000000001 13.8*pi -0.00555551704019308 -3.72529029846191e-8 2.46135251862662e-8 1001\n",
      "0.6950000000000001 13.9*pi -0.00555639388039708 -9.31322574615479e-9 1.18411013058254e-8 1001\n",
      "0.7000000000000001 14.000000000000002*pi -0.00555554730817676 1.86264514923096e-9 1.11758708953857e-8 1001\n",
      "0.7050000000000001 14.1*pi -0.00555591378360987 3.53902578353882e-8 1.38367925371443e-8 1001\n",
      "0.71 14.2*pi -0.00555523345246911 -5.58793544769287e-9 1.90255897385733e-8 1001\n",
      "0.715 14.299999999999999*pi -0.00555606512352824 -9.31322574615479e-9 2.00899583952768e-8 1001\n",
      "0.72 14.4*pi -0.00555566186085343 -4.56348061561584e-8 2.20856496265956e-8 1001\n",
      "0.725 14.499999999999998*pi -0.00555609585717320 1.76951289176941e-8 2.42143869400024e-8 1001\n",
      "0.73 14.6*pi -0.00555458990857005 4.74974513053894e-8 3.16649675369263e-8 1001\n",
      "0.735 14.7*pi -0.00555662717670202 0.000000000000000 2.12873731340681e-8 1001\n",
      "0.74 14.8*pi -0.00555492145940661 1.11758708953857e-8 1.90255897385733e-8 1001\n",
      "0.745 14.899999999999999*pi -0.00555575033649802 -2.79396772384644e-8 1.29054699625288e-8 1001\n",
      "0.75 15.0*pi -0.00555528746917844 -1.76951289176941e-8 2.60770320892334e-8 1001\n",
      "0.755 15.1*pi -0.00555615220218897 9.77888703346252e-8 4.08451472009931e-8 1001\n",
      "0.76 15.2*pi -0.00555633800104260 -1.76951289176941e-8 1.90255897385733e-8 1001\n",
      "0.765 15.299999999999999*pi -0.00555557757616043 1.86264514923096e-9 1.94247279848371e-8 1001\n",
      "0.77 15.399999999999999*pi -0.00555514357984066 -4.37721610069275e-8 2.14204192161560e-8 1001\n",
      "0.775 15.5*pi -0.00555394496768713 -1.11758708953857e-8 1.91586358206613e-8 1001\n",
      "0.78 15.6*pi -0.00555574335157871 0.000000000000000 2.28839261191232e-8 1001\n",
      "0.785 15.7*pi -0.00555578805506229 3.44589352607727e-8 4.01799167905535e-8 1001\n",
      "0.79 15.799999999999999*pi -0.00555562134832144 -3.25962901115417e-8 2.86049076489040e-8 1001\n",
      "0.795 15.9*pi -0.00555546395480633 -6.51925802230835e-8 3.09997371264866e-8 1001\n",
      "0.8 16.0*pi -0.00555540528148413 -7.45058059692383e-9 1.95577740669250e-8 1001\n",
      "0.805 16.1*pi -0.00555572006851435 -3.16649675369263e-8 2.18195574624198e-8 1001\n",
      "0.81 16.2*pi -0.00555524975061417 1.26659870147705e-7 2.87379537309919e-8 1001\n",
      "0.8150000000000001 16.3*pi -0.00555345974862576 -2.60770320892334e-8 2.68753085817610e-8 1001\n",
      "0.8200000000000001 16.4*pi -0.00555532611906528 2.60770320892334e-8 2.50126634325300e-8 1001\n",
      "0.8250000000000001 16.5*pi -0.00555499549955130 2.79396772384644e-8 4.04460089547294e-8 1001\n",
      "0.8300000000000001 16.6*pi -0.00555739738047123 -1.49011611938477e-8 2.18195574624198e-8 1001\n",
      "0.8350000000000001 16.7*pi -0.00555625371634960 2.42143869400024e-8 3.43258891786848e-8 1001\n",
      "0.84 16.799999999999997*pi -0.00555476360023022 4.09781932830811e-8 2.20856496265956e-8 1001\n",
      "0.845 16.9*pi -0.00555552076548338 -3.72529029846191e-9 3.53902578353882e-8 1001\n",
      "0.85 16.999999999999996*pi -0.00555573683232069 4.09781932830811e-8 4.07121011189052e-8 1001\n",
      "0.855 17.099999999999998*pi -0.00555509328842163 2.60770320892334e-8 3.32615205219814e-8 1001\n",
      "0.86 17.2*pi -0.00555309467017651 -5.21540641784668e-8 3.59224421637399e-8 1001\n",
      "0.865 17.3*pi -0.00555577501654625 -9.31322574615479e-8 4.28408384323120e-8 1001\n",
      "0.87 17.4*pi -0.00555435288697481 -2.23517417907715e-8 6.75874097006662e-8 1001\n",
      "0.875 17.5*pi -0.00555565953254700 1.11758708953857e-8 5.08236033575875e-8 1001\n",
      "0.88 17.599999999999998*pi -0.00555538292974234 -4.65661287307739e-8 5.45488936560495e-8 1001\n",
      "0.885 17.7*pi -0.00555673148483038 8.00937414169312e-8 3.75189951487950e-8 1001\n",
      "0.89 17.8*pi -0.00555430911481380 -4.28408384323120e-8 6.17333820887974e-8 1001\n",
      "0.895 17.9*pi -0.00555390212684870 8.19563865661621e-8 4.12442854472569e-8 1001\n",
      "0.9 18.0*pi -0.00555576477199793 -5.02914190292358e-8 4.17764697756086e-8 1001\n",
      "0.905 18.1*pi -0.00555571261793375 -1.49011611938477e-8 2.28839261191232e-8 1001\n",
      "0.91 18.2*pi -0.00555595196783543 -3.72529029846191e-8 4.01799167905535e-8 1001\n",
      "0.915 18.3*pi -0.00555362086743116 4.84287738800049e-8 4.20425619397845e-8 1001\n",
      "0.92 18.4*pi -0.00555563345551491 -5.40167093276978e-8 5.05575111934117e-8 1001\n",
      "0.925 18.5*pi -0.00555661320686340 4.84287738800049e-8 2.74074929101127e-8 1001\n",
      "0.93 18.6*pi -0.00555548630654812 -9.31322574615479e-9 4.39052070890154e-8 1001\n",
      "0.935 18.7*pi -0.00555577501654625 -4.47034835815430e-8 4.31069305964879e-8 1001\n",
      "0.9400000000000001 18.8*pi -0.00555543601512909 -8.56816768646240e-8 4.92270503725324e-8 1001\n",
      "0.9450000000000001 18.900000000000002*pi -0.00555426068603992 3.35276126861572e-8 4.94931425367083e-8 1001\n"
     ]
    },
    {
     "name": "stdout",
     "output_type": "stream",
     "text": [
      "0.9500000000000001 19.0*pi -0.00555580668151379 4.47034835815430e-8 4.12442854472569e-8 1001\n",
      "0.9550000000000001 19.099999999999998*pi -0.00555528700351715 -1.11758708953857e-8 3.72529029846191e-8 1001\n",
      "0.9600000000000001 19.200000000000003*pi -0.00555593892931938 -5.96046447753906e-8 6.22655664171491e-8 1001\n",
      "0.965 19.299999999999997*pi -0.00555527210235596 -2.23517417907715e-8 3.67207186562674e-8 1001\n",
      "0.97 19.400000000000002*pi -0.00555258244276047 -3.35276126861572e-8 4.57678522382464e-8 1001\n",
      "0.975 19.5*pi -0.00555617548525333 2.60770320892334e-8 4.41712992531913e-8 1001\n",
      "0.98 19.599999999999998*pi -0.00555657409131527 1.00582838058472e-7 6.86517783573696e-8 1001\n",
      "0.985 19.7*pi -0.00555712170898914 -5.96046447753906e-8 6.65230410439628e-8 1001\n",
      "0.99 19.8*pi -0.00555485486984253 8.94069671630859e-8 6.70552253723145e-8 1001\n",
      "0.995 19.9*pi -0.00555636547505856 -1.86264514923096e-8 7.34414373125349e-8 1001\n",
      "1.0 20.0*pi -0.00555439665913582 5.58793544769287e-8 5.69437231336321e-8 1001\n",
      "1.005 20.099999999999998*pi -0.00555581040680408 -2.98023223876953e-8 4.94931425367083e-8 1001\n",
      "1.01 20.199999999999996*pi -0.00555754080414772 1.15483999252319e-7 6.70552253723145e-8 1001\n",
      "1.015 20.299999999999997*pi -0.00555444322526455 1.04308128356934e-7 6.22655664171491e-8 1001\n",
      "1.02 20.4*pi -0.00555344484746456 1.30385160446167e-7 8.24885708945138e-8 1001\n",
      "1.025 20.5*pi -0.00555793568491936 6.33299350738525e-8 5.21540641784668e-8 1001\n",
      "1.0299999999999998 20.599999999999994*pi -0.00555676035583019 0.000000000000000 4.68322208949498e-8 1001\n",
      "1.035 20.699999999999996*pi -0.00555678084492683 -5.96046447753906e-8 7.50379902975900e-8 1001\n",
      "1.0399999999999998 20.799999999999997*pi -0.00555741228163242 4.47034835815430e-8 5.42828014918736e-8 1001\n",
      "1.045 20.9*pi -0.00555554404854774 -3.72529029846191e-8 1.21870211192540e-7 1001\n",
      "1.0499999999999998 20.999999999999993*pi -0.00555575452744961 7.07805156707764e-8 6.12011977604457e-8 1001\n",
      "1.055 21.099999999999998*pi -0.00555701926350594 1.26659870147705e-7 6.49264880589076e-8 1001\n",
      "1.0599999999999998 21.199999999999996*pi -0.00555564463138580 1.49011611938477e-8 4.84287738800049e-8 1001\n",
      "1.065 21.3*pi -0.00555651821196079 -1.19209289550781e-7 1.10162155968802e-7 1001\n",
      "1.0699999999999998 21.399999999999995*pi -0.00555369257926941 -1.15483999252319e-7 6.54586723872594e-8 1001\n",
      "1.075 21.499999999999996*pi -0.00555193424224854 1.30385160446167e-7 8.35529395512172e-8 1001\n",
      "1.0799999999999998 21.599999999999998*pi -0.00555587373673916 -3.35276126861572e-8 6.59908567156111e-8 1001\n",
      "1.085 21.7*pi -0.00555785745382309 -1.04308128356934e-7 5.16218798501151e-8 1001\n",
      "1.0899999999999999 21.799999999999994*pi -0.00555476918816566 7.45058059692383e-8 8.56816768646240e-8 1001\n",
      "1.095 21.9*pi -0.00555788353085518 -1.71363353729248e-7 1.37303556714739e-7 1001\n",
      "1.0999999999999999 21.999999999999996*pi -0.00555717945098877 -3.72529029846191e-8 9.52609947749547e-8 1001\n",
      "1.105 22.1*pi -0.00555769354104996 -5.21540641784668e-8 5.74759074619838e-8 1001\n",
      "1.1099999999999999 22.199999999999996*pi -0.00555581226944923 1.56462192535400e-7 6.97161470140730e-8 1001\n",
      "1.115 22.299999999999997*pi -0.00555551797151566 1.75088644027710e-7 9.68575477600098e-8 1001\n",
      "1.1199999999999999 22.4*pi -0.00555421411991119 -1.86264514923096e-8 5.05575111934117e-8 1001\n",
      "1.125 22.5*pi -0.00555510073900223 4.47034835815430e-8 1.02179391043527e-7 1001\n",
      "1.13 22.599999999999994*pi -0.00555493310093880 5.21540641784668e-8 7.55701746259417e-8 1001\n",
      "1.135 22.7*pi -0.00555131211876869 5.21540641784668e-8 6.70552253723145e-8 1001\n",
      "1.14 22.799999999999997*pi -0.00555547326803207 -3.72529029846191e-8 6.91839626857213e-8 1001\n",
      "1.145 22.900000000000002*pi -0.00555458292365074 -7.45058059692383e-9 8.40851238795689e-8 1001\n",
      "1.15 22.999999999999996*pi -0.00555529817938805 1.04308128356934e-7 8.72782298496791e-8 1001\n",
      "1.155 23.099999999999998*pi -0.00555978715419769 -2.23517417907715e-8 1.02179391043527e-7 1001\n",
      "1.16 23.2*pi -0.00555301085114479 7.45058059692383e-8 1.01115022386823e-7 1001\n",
      "1.1649999999999998 23.299999999999997*pi -0.00555394962430000 -1.49011611938477e-7 1.21338026864188e-7 1001\n",
      "1.17 23.399999999999995*pi -0.00555877387523651 -1.63912773132324e-7 1.02179391043527e-7 1001\n",
      "1.1749999999999998 23.499999999999996*pi -0.00555609539151192 -4.47034835815430e-8 8.08920179094587e-8 1001\n",
      "1.18 23.599999999999998*pi -0.00555678457021713 1.78813934326172e-7 1.61784035818917e-7 1001\n",
      "1.1849999999999998 23.7*pi -0.00555588304996490 -3.72529029846191e-7 1.93715095520020e-7 1001\n",
      "1.19 23.799999999999997*pi -0.00555754452943802 1.86264514923096e-7 1.47947243281773e-7 1001\n",
      "1.1949999999999998 23.899999999999995*pi -0.00555409863591194 -2.30967998504639e-7 1.07501234327044e-7 1001\n"
     ]
    }
   ],
   "source": [
    "v_Rp1 = []\n",
    "\n",
    "import numpy as np\n",
    "for nk in np.arange(0.005, 1.2, 0.005):\n",
    "    akm=a_f*nk*k_mf\n",
    "    Rp = calc_Rp(akm=akm)\n",
    "    v_Rp1 += [(akm, Rp)]"
   ]
  },
  {
   "cell_type": "code",
   "execution_count": 64,
   "metadata": {},
   "outputs": [
    {
     "data": {
      "image/png": "[encoded data removed]",
      "text/plain": [
       "Graphics object consisting of 1 graphics primitive"
      ]
     },
     "metadata": {},
     "output_type": "display_data"
    }
   ],
   "source": [
    "plt = sage.plot.graphics.Graphics()\n",
    "plt += list_plot (v_Rp1)\n",
    "plt.show (title=\"Остаточный член в формуле Эйлера Маклорена в зависимости от $a k_m$\")"
   ]
  },
  {
   "cell_type": "markdown",
   "metadata": {},
   "source": [
    "Итак мы видим, что данный подход разбиения интервала интегрирования в состоянии обеспечить гораздо большую точность вычислений, чем численное интегрирование с использованием библиотечной в Sagemath функции numerical_integral() на всем интервале интегрирования."
   ]
  },
  {
   "cell_type": "code",
   "execution_count": 65,
   "metadata": {},
   "outputs": [
    {
     "name": "stdout",
     "output_type": "stream",
     "text": [
      "0.001 0.02*pi 7.49862764490837e-6 -5.32476449915844e-14 5.80058267624815e-13 12\n",
      "0.002 0.04*pi 0.0000524408249230986 -1.91187109953262e-13 8.30784466451042e-13 16\n",
      "0.003 0.06*pi 0.000156033434599643 -3.06868923717965e-13 8.84740720995091e-13 20\n",
      "0.004 0.08*pi 0.000327146139012046 -3.81387358760338e-13 8.72037390834452e-13 24\n",
      "0.005 0.1*pi 0.000565642704142560 -4.24211447219713e-13 8.35819044184283e-13 28\n",
      "0.006 0.12*pi 0.000864654787426549 -5.24181392735912e-13 9.52567390046154e-13 31\n",
      "0.007 0.13999999999999999*pi 0.00121231901084568 -5.24099860732541e-13 8.77895474569814e-13 35\n",
      "0.008 0.16*pi 0.00159318099386258 -5.89174542486859e-13 9.40649839766193e-13 38\n",
      "0.009000000000000001 0.18000000000000002*pi 0.00198936874833671 -6.42440961540203e-13 9.85282787897240e-13 41\n",
      "0.010000000000000002 0.20000000000000004*pi 0.00238159378774335 -6.10775319209722e-13 8.97080029308281e-13 45\n",
      "0.011 0.21999999999999997*pi 0.00275001568710300 -6.47329412295505e-13 9.23164322763625e-13 48\n",
      "0.012 0.24*pi 0.00307499291843092 -6.73169853193656e-13 9.40122979464775e-13 51\n",
      "0.013000000000000001 0.26*pi 0.00333773484483008 -6.96859236981595e-13 9.49454800494972e-13 54\n",
      "0.014000000000000002 0.28*pi 0.00352086455417242 -7.12735426233735e-13 9.54779905930942e-13 57\n",
      "0.015 0.3*pi 0.00360889872925091 -7.18591852688633e-13 9.53578486015009e-13 60\n",
      "0.016 0.32*pi 0.00358864835183302 -7.19646564562026e-13 9.47178843294491e-13 63\n",
      "0.017 0.34*pi 0.00344954241767147 -7.43183292684080e-13 9.48511110924041e-13 66\n",
      "0.018000000000000002 0.36000000000000004*pi 0.00318387580333900 -7.42184091961917e-13 9.44371565075081e-13 69\n",
      "0.019000000000000003 0.38*pi 0.00278698185926189 -7.45514761035793e-13 9.37202696401788e-13 72\n",
      "0.02 0.4*pi 0.00225733014723570 -7.67164110015983e-13 9.85275353368057e-13 74\n",
      "0.021 0.42*pi 0.00159654993156744 -7.89812659718336e-13 9.80675857980324e-13 77\n",
      "0.022000000000000002 0.44000000000000006*pi 0.000809380574639140 -7.69162511460308e-13 9.74522050358116e-13 80\n",
      "0.023 0.45999999999999996*pi -0.0000964492239345915 -8.30890911629467e-13 9.56314392754263e-13 83\n",
      "0.024 0.48*pi -0.00111041031217540 -8.12239164815765e-13 9.99581370056798e-13 85\n",
      "0.025 0.5*pi -0.00221942579566858 -8.26450019530967e-13 9.87781285337925e-13 88\n",
      "0.026000000000000002 0.52*pi -0.00340818184734848 -7.70050689880009e-13 9.46036899612019e-13 91\n",
      "0.027000000000000003 0.54*pi -0.00465948940203642 -8.56203996590921e-13 9.99962017950955e-13 93\n",
      "0.028 0.5599999999999999*pi -0.00595468801786336 -8.32223179259017e-13 9.59740223801678e-13 96\n",
      "0.029 0.5800000000000001*pi -0.00727408181798239 -7.91366971952812e-13 9.66338120633736e-13 99\n",
      "0.030000000000000002 0.6000000000000001*pi -0.00859739621988775 -9.29034627006331e-13 9.77503792195681e-13 101\n",
      "0.031 0.62*pi -0.00990424331532158 -7.62057084102707e-13 9.46036899612019e-13 104\n",
      "0.032 0.64*pi -0.0111745832106154 -9.16600129130529e-13 9.94506064801369e-13 106\n",
      "0.033 0.6599999999999999*pi -0.0123891686252287 -8.29558643999917e-13 9.57963866962278e-13 108\n",
      "0.034 0.68*pi -0.0135299604935697 -6.37712105344690e-13 9.98820074268484e-13 112\n",
      "0.035 0.7000000000000001*pi -0.0145805031930912 -4.03233002543857e-13 9.70652130100851e-13 114\n",
      "0.036000000000000004 0.7200000000000001*pi -0.0155262495997839 -8.63309423948522e-13 9.68875773261451e-13 116\n",
      "0.037000000000000005 0.74*pi -0.0163548278076773 -7.31859017832903e-13 9.67353181684822e-13 118\n",
      "0.038 0.7599999999999999*pi -0.0170562437495061 -7.17648163117701e-13 9.94252299538597e-13 120\n",
      "0.039 0.7799999999999999*pi -0.0176230161979802 -1.05160324892495e-12 9.91207116385340e-13 121\n",
      "0.04 0.8*pi -0.0180502431646339 -6.85673740008497e-13 9.36901350152246e-13 125\n",
      "0.041 0.8200000000000001*pi -0.0183356011930638 -4.76063632959267e-13 9.64307998531565e-13 131\n",
      "0.042 0.84*pi -0.0184792811737609 -5.47117906535277e-13 9.74458609042423e-13 130\n",
      "0.043000000000000003 0.86*pi -0.0184838665112697 -2.27373675443232e-13 9.54157388020706e-13 133\n",
      "0.044000000000000004 0.8800000000000001*pi -0.0183541607602642 -1.21502807814977e-12 9.97805013217398e-13 134\n",
      "0.045 0.9*pi -0.0180969732971104 -2.27373675443232e-13 8.95283847057726e-13 142\n",
      "0.046 0.9199999999999999*pi -0.0177208721731379 -6.18172180111287e-13 9.25735678590302e-13 139\n",
      "0.047 0.94*pi -0.0172359136750373 -5.54223333892878e-13 9.90699585859797e-13 137\n",
      "0.048 0.96*pi -0.0166533578082806 -1.15107923193136e-12 9.74458609042423e-13 144\n",
      "0.049 0.9800000000000001*pi -0.0159853785342321 -1.23634436022257e-12 9.07464579670756e-13 138\n",
      "0.05 1.0*pi -0.0152447771397384 -9.23705556488130e-13 9.54157388020706e-13 157\n",
      "0.051000000000000004 1.02*pi -0.0144447051439123 -5.96855898038484e-13 9.15585068079443e-13 145\n",
      "0.052000000000000005 1.04*pi -0.0135984037733579 1.98951966012828e-13 9.44006777509847e-13 166\n",
      "0.053000000000000005 1.06*pi -0.0127189633973757 -1.33582034322899e-12 9.90699585859797e-13 156\n",
      "0.054 1.0799999999999998*pi -0.0118191080461720 -9.37916411203332e-13 8.10018718766514e-13 157\n",
      "0.055 1.0999999999999999*pi -0.0109110061232940 -9.37916411203332e-13 8.89193480751211e-13 166\n",
      "0.056 1.1199999999999999*pi -0.0100061096623634 1.19371179607697e-12 9.96789952166312e-13 151\n",
      "0.057 1.1400000000000001*pi -0.00911502218953331 5.25801624462474e-13 9.72428486940251e-13 179\n",
      "0.058 1.1600000000000001*pi -0.00824739489763004 -1.42108547152020e-13 8.79042870240352e-13 171\n",
      "0.059000000000000004 1.18*pi -0.00741185031309755 5.40012479177676e-13 9.98820074268484e-13 163\n",
      "0.060000000000000005 1.2000000000000002*pi -0.00661593192297971 -3.41060513164848e-13 7.67386154620908e-13 160\n",
      "0.061 1.2199999999999998*pi -0.00586607757025348 1.13686837721616e-13 9.13554945977272e-13 190\n",
      "0.062 1.24*pi -0.00516761464854909 1.39266376208980e-12 2.04636307898909e-12 200\n",
      "0.063 1.26*pi -0.00452477495235826 2.84217094304040e-13 9.94759830064140e-13 178\n",
      "0.064 1.28*pi -0.00394072645764254 -2.10320649784990e-12 9.70398364838080e-13 200\n",
      "0.065 1.3*pi -0.00341761888712711 -5.68434188608080e-14 8.77012748138181e-13 173\n",
      "0.066 1.3199999999999998*pi -0.00295664216849900 -7.67386154620908e-13 2.58231531396242e-12 200\n",
      "0.067 1.34*pi -0.00255809381975780 1.98951966012828e-13 9.29795922794645e-13 193\n",
      "0.068 1.36*pi -0.00222145420505626 -9.37916411203332e-13 9.54157388020706e-13 179\n",
      "0.069 1.3800000000000001*pi -0.00194546661153083 -3.92219590139575e-12 2.01388112535434e-12 200\n",
      "0.07 1.4000000000000001*pi -0.00172822106911497 -5.22959453519434e-12 2.87465289667515e-12 200\n",
      "0.07100000000000001 1.42*pi -0.00156723971966244 -5.28643795405515e-12 3.45932806210060e-12 200\n",
      "0.07200000000000001 1.4400000000000002*pi -0.00145956201512831 1.08002495835535e-12 1.68906158900687e-12 200\n",
      "0.07300000000000001 1.4600000000000002*pi -0.00140182951166423 -9.09494701772928e-13 2.69600215168404e-12 200\n",
      "0.074 1.4799999999999998*pi -0.00139036670634596 -1.70530256582424e-13 2.60667677918848e-12 200\n",
      "0.075 1.5*pi -0.00142125972487861 2.84217094304040e-12 2.85841191985777e-12 200\n",
      "0.076 1.5199999999999998*pi -0.00149043038047125 -7.21911419532262e-12 4.66116034658626e-12 200\n",
      "0.077 1.54*pi -0.00159370524397673 -2.84217094304040e-12 2.67976117486666e-12 200\n",
      "0.078 1.5599999999999998*pi -0.00172687887550182 1.36424205265939e-12 2.99646022280545e-12 200\n",
      "0.079 1.5799999999999998*pi -0.00188577210877838 1.64845914696343e-12 3.49993050414404e-12 200\n",
      "0.08 1.6*pi -0.00206628309405232 4.94537744089030e-12 2.54171287191899e-12 200\n",
      "0.081 1.6199999999999999*pi -0.00226443366244666 -5.11590769747272e-12 4.49875057841252e-12 200\n",
      "0.082 1.6400000000000001*pi -0.00247640788609260 -1.18234311230481e-11 6.44766779649737e-12 200\n",
      "0.083 1.6600000000000001*pi -0.00269858540542600 -4.20641299569979e-12 4.43378667114303e-12 200\n",
      "0.084 1.68*pi -0.00292756933313854 1.48929757415317e-11 7.77942789552201e-12 200\n",
      "0.085 1.7000000000000002*pi -0.00316020665815131 -1.10276232589968e-11 4.87229304521212e-12 200\n",
      "0.08600000000000001 1.72*pi -0.00339360534763955 -1.93267624126747e-12 5.39200430336807e-12 200\n",
      "0.08700000000000001 1.74*pi -0.00362514432777061 -3.06954461848363e-12 5.50569114108969e-12 200\n",
      "0.08800000000000001 1.7600000000000002*pi -0.00385248048161202 -2.04636307898909e-12 4.70988327703838e-12 200\n",
      "0.089 1.7799999999999998*pi -0.00407354997383891 1.22781784739345e-11 7.35716249827029e-12 200\n",
      "0.09 1.8*pi -0.00428656670180771 -2.27373675443232e-12 6.02540239924565e-12 200\n"
     ]
    },
    {
     "name": "stdout",
     "output_type": "stream",
     "text": [
      "0.091 1.8199999999999998*pi -0.00449001608672006 -2.84217094304040e-12 7.97431961733050e-12 200\n",
      "0.092 1.8399999999999999*pi -0.00468264727510359 -7.95807864051312e-13 9.95571878905009e-12 202\n",
      "0.093 1.8599999999999999*pi -0.00486346184203512 2.84217094304040e-12 7.47084933599191e-12 200\n",
      "0.094 1.88*pi -0.00503170014502530 7.04858393874019e-12 4.77484718430787e-12 200\n",
      "0.095 1.9*pi -0.00518682637846268 9.77706804405898e-12 5.00222085975111e-12 200\n",
      "0.096 1.92*pi -0.00532851281320745 -8.18545231595635e-12 7.37340347508767e-12 200\n",
      "0.097 1.94*pi -0.00545662143179015 -9.09494701772928e-13 7.14602979964444e-12 200\n",
      "0.098 1.9600000000000002*pi -0.00557118623243014 7.04858393874019e-12 9.77706804405898e-12 203\n",
      "0.099 1.98*pi -0.00567239518204588 -8.86757334228605e-12 9.06246506409453e-12 200\n",
      "0.1 2.0*pi -0.00576057194518853 -5.22959453519434e-12 9.32232069317251e-12 200\n",
      "0.101 2.02*pi -0.00583615620496403 -1.59161572810262e-12 6.62631854148848e-12 200\n",
      "0.10200000000000001 2.04*pi -0.00589968765007143 -5.00222085975111e-12 5.58689602517656e-12 200\n",
      "0.10300000000000001 2.06*pi -0.00595178804621810 -1.40971678774804e-11 7.92559668687837e-12 200\n",
      "0.10400000000000001 2.08*pi -0.00599314462272105 -7.95807864051312e-12 6.20405314423676e-12 200\n",
      "0.10500000000000001 2.1*pi -0.00602449481334588 -4.32009983342141e-12 9.80954999769373e-12 200\n",
      "0.106 2.12*pi -0.00604661230067904 -1.36424205265939e-12 6.59383658785373e-12 202\n",
      "0.107 2.1399999999999997*pi -0.00606029297500754 -2.50111042987555e-12 7.21099370691393e-12 200\n",
      "0.108 2.1599999999999997*pi -0.00606634311577636 -2.27373675443232e-13 8.90005529592080e-12 200\n",
      "0.109 2.1799999999999997*pi -0.00606556855132112 -1.63709046319127e-11 7.37340347508767e-12 200\n",
      "0.11 2.1999999999999997*pi -0.00605876469410305 2.02362571144477e-11 8.73764552774706e-12 200\n",
      "0.111 2.22*pi -0.00604670902430371 -9.32232069317251e-12 7.24347566054868e-12 200\n",
      "0.112 2.2399999999999998*pi -0.00603015150954889 -5.00222085975111e-12 9.48473046134625e-12 207\n",
      "0.113 2.26*pi -0.00600981039019644 9.09494701772928e-13 3.24819536347474e-12 200\n",
      "0.114 2.2800000000000002*pi -0.00598636693291610 6.82121026329696e-12 7.99056059414787e-12 200\n",
      "0.115 2.3*pi -0.00596046066402778 -3.63797880709171e-12 9.87451390496322e-12 218\n",
      "0.116 2.3200000000000003*pi -0.00593268640955102 -1.81898940354586e-11 7.99056059414787e-12 204\n",
      "0.117 2.34*pi -0.00590359186844580 -1.04591890703887e-11 7.92559668687837e-12 203\n",
      "0.11800000000000001 2.36*pi -0.00587367831280972 4.54747350886464e-12 9.87451390496322e-12 202\n",
      "0.11900000000000001 2.3800000000000003*pi -0.00584339667079803 5.45696821063757e-12 9.54969436861575e-12 201\n",
      "0.12000000000000001 2.4000000000000004*pi -0.00581315092813384 -9.09494701772928e-13 7.79566887233938e-12 254\n",
      "0.121 2.4199999999999995*pi -0.00578329666973332 -2.27373675443232e-12 9.54969436861575e-12 234\n",
      "0.122 2.4399999999999995*pi -0.00575414162426569 1.45519152283669e-11 9.15991092499878e-12 203\n",
      "0.123 2.46*pi -0.00572595092808115 -1.40971678774804e-11 9.15991092499878e-12 200\n",
      "0.124 2.48*pi -0.00569894639556878 -2.27373675443232e-12 9.41976655407676e-12 240\n",
      "0.125 2.5*pi -0.00567330808667066 4.54747350886464e-12 8.51027185230383e-12 226\n",
      "0.126 2.52*pi -0.00564917889300887 -1.09139364212751e-11 9.15991092499878e-12 229\n",
      "0.127 2.5399999999999996*pi -0.00562666661335243 -2.27373675443232e-12 8.25041622322585e-12 228\n",
      "0.128 2.56*pi -0.00560584627487515 -5.91171556152403e-12 9.87451390496322e-12 206\n",
      "0.129 2.58*pi -0.00558676441346506 1.40971678774804e-11 8.77012748138181e-12 228\n",
      "0.13 2.6*pi -0.00556944084155475 4.54747350886464e-13 9.41976655407676e-12 244\n",
      "0.131 2.62*pi -0.00555387123858964 3.91082721762359e-11 2.63753463514149e-11 400\n",
      "0.132 2.6399999999999997*pi -0.00554002951798793 1.63709046319127e-11 8.96501920319029e-12 318\n",
      "0.133 2.66*pi -0.00552787453420933 -2.91038304567337e-11 9.09494701772928e-12 381\n",
      "0.134 2.68*pi -0.00551734785676672 3.09228198602796e-11 3.75491384017680e-11 400\n",
      "0.135 2.7*pi -0.00550837939454141 0.000000000000000 4.04075503216258e-11 400\n",
      "0.136 2.72*pi -0.00550088780801161 -2.72848410531878e-12 8.70516357411231e-12 207\n",
      "0.137 2.7399999999999998*pi -0.00549478520770208 0.000000000000000 9.48473046134625e-12 269\n",
      "0.138 2.7600000000000002*pi -0.00548997592841260 -1.47338141687214e-10 5.21010536301349e-11 400\n",
      "0.139 2.7800000000000002*pi -0.00548636208532116 3.63797880709171e-12 9.74458609042423e-12 204\n",
      "0.14 2.8000000000000003*pi -0.00548384379635536 -8.36735125631094e-11 5.72981662116945e-11 400\n",
      "0.14100000000000001 2.8200000000000003*pi -0.00548231581069558 -2.00088834390044e-11 9.09494701772928e-12 228\n",
      "0.14200000000000002 2.84*pi -0.00548167854230996 2.36468622460961e-11 9.87451390496322e-12 263\n",
      "0.14300000000000002 2.86*pi -0.00548183274258918 1.22781784739345e-10 6.75624635602747e-11 400\n",
      "0.14400000000000002 2.8800000000000003*pi -0.00548268121337969 5.36601874046028e-11 4.95024973393551e-11 400\n",
      "0.14500000000000002 2.9000000000000004*pi -0.00548412950274724 -2.45563569478691e-11 8.18545231595635e-12 262\n",
      "0.146 2.9199999999999995*pi -0.00548609098359520 -5.72981662116945e-11 4.20966119106327e-11 400\n",
      "0.147 2.9399999999999995*pi -0.00548847828804355 -3.36513039655983e-11 6.18456397205591e-11 400\n",
      "0.148 2.9599999999999995*pi -0.00549121365065730 8.36735125631094e-11 5.46996099209147e-11 400\n",
      "0.149 2.98*pi -0.00549422539461375 5.00222085975111e-11 4.36557456851006e-11 400\n"
     ]
    }
   ],
   "source": [
    "v_Rp1 = []\n",
    "\n",
    "import numpy as np\n",
    "for nk in np.arange(0.001, 0.15, 0.001):\n",
    "    akm=a_f*nk*k_mf\n",
    "    Rp = calc_Rp(akm=akm)\n",
    "    v_Rp1 += [(akm, Rp)]"
   ]
  },
  {
   "cell_type": "code",
   "execution_count": 66,
   "metadata": {},
   "outputs": [
    {
     "data": {
      "image/png": "[encoded data removed]",
      "text/plain": [
       "Graphics object consisting of 1 graphics primitive"
      ]
     },
     "metadata": {},
     "output_type": "display_data"
    }
   ],
   "source": [
    "plt = sage.plot.graphics.Graphics()\n",
    "plt += list_plot (v_Rp1)\n",
    "plt.show (title=\"Остаточный член в формуле Эйлера Маклорена в зависимости от $a k_m$\")"
   ]
  },
  {
   "cell_type": "markdown",
   "metadata": {},
   "source": [
    "Итак, Казимировская формула which holds as long as $a\\,k_m\\,»\\,1$ выполняется достаточно точно при $a\\,k_m\\,>\\,10$, но при меньших значениях $a\\,k_m$ коэффициент в выражении силы Казимира колеблется и даже меняет знак. \n",
    "\n",
    "При фиксированном расстоянии между пластинами $a$, сила Казимира должна таким образом зависеть от частоты опрезания $k_m$, пропорциональной удельной массе пластин"
   ]
  },
  {
   "cell_type": "code",
   "execution_count": null,
   "metadata": {},
   "outputs": [],
   "source": []
  }
 ],
 "metadata": {
  "kernelspec": {
   "display_name": "SageMath 9.6.beta7",
   "language": "sage",
   "name": "sagemath"
  },
  "language_info": {
   "codemirror_mode": {
    "name": "ipython",
    "version": 3
   },
   "file_extension": ".py",
   "mimetype": "text/x-python",
   "name": "python",
   "nbconvert_exporter": "python",
   "pygments_lexer": "ipython3",
   "version": "3.10.3"
  }
 },
 "nbformat": 4,
 "nbformat_minor": 2
}
