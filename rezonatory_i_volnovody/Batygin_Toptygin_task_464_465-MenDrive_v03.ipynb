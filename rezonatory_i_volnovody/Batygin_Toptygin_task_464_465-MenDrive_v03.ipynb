{
 "cells": [
  {
   "cell_type": "markdown",
   "metadata": {},
   "source": [
    "# Электродинамический расчёт волнового двигателя с внутренним расходом энергии Ф.Ф.Менде (MenDrive)\n",
    "\n",
    "А.Ю.Дроздов"
   ]
  },
  {
   "cell_type": "markdown",
   "metadata": {},
   "source": [
    "Основываясь на решении задач из задачника Батыгина Топтыгина\n",
    "\n",
    "Batygin_Toptygin_task_464_465.sage\n",
    "\n",
    "В. В. БАТЫГИН, И. Н. ТОПТЫГИН\n",
    "СБОРНИК ЗАДАЧ\n",
    "по\n",
    "ЭЛЕКТРОДИНАМИКЕ\n",
    "МОСКВА 1970\n",
    "\n",
    "512. Бесконечно протяженный диэлектрический слой заполняет в вакууме область $-a<=x<=a$ и имеет проницаемости $\\epsilon$ и $\\mu$.\n",
    "Показать, что такой слой может действовать как волновод (для этого нужно, чтобы поле бегущей электромагнитной волны концентрировалось, в основном, внутри слоя). Определить типы волн, которые могут распространяться в таком волноводе. Ограничиться случаем, когда векторы поля не зависят от координаты $y$.\n",
    "\n",
    "513. Диэлектрический слой с проницаемостями $\\epsilon$, $\\mu$, заполняющий область $0<=x<=a$, нанесен на поверхность идеального\n",
    "проводника. В области $x>a$ - вакуум. Какие типы электромагнитных волн с амплитудой, убывающей при удалении от слоя, могут распространяться вдоль слоя? Сравнить возможные типы волн с системой волн, полученной в предыдущей задаче.\n",
    "\n",
    "В издании 1962 года номера этих задач 464 и 465"
   ]
  },
  {
   "cell_type": "markdown",
   "metadata": {},
   "source": [
    "рассчитаем тягу в\n",
    "\n",
    "http://fmnauka.narod.ru/dvigatel_emdrive.pdf\n",
    "\n",
    "Ф.Ф. МЕНДЕ, ВОЛНОВОЙ ДВИГАТЕЛЬ С ВНУТРЕННИМ РАСХОДОМ ЭНЕРГИИ ЭЛЕКТРОМАГНИТНЫХ КОЛЕБАНИЙ"
   ]
  },
  {
   "cell_type": "markdown",
   "metadata": {},
   "source": [
    "геометрия задачи следующая: \n",
    "\n",
    "поверхность идеального проводника $x<=-a$\n",
    "\n",
    "вакуума внутри резонатора заполняет область $-a<=x<=0$\n",
    "\n",
    "В области $x>0$ - плохой проводник"
   ]
  },
  {
   "cell_type": "markdown",
   "metadata": {},
   "source": [
    "$$rot\\,\\vec{E} = \\mu\\,\\frac{i\\,\\omega}{c}\\,\\vec{H}$$\n",
    "\n",
    "$$rot\\,\\vec{H} = \\frac{1}{c}\\frac{\\partial \\vec D}{\\partial t} + \\frac{4\\pi}{c} \\vec j = - \\frac{i\\,\\omega}{c} \\epsilon \\vec{E} + \\frac{4\\pi}{c}\\sigma \\vec E$$\n",
    "\n",
    "$$rot\\,rot\\,\\vec{E} = \\mu\\,\\frac{i\\,\\omega}{c}rot\\,\\vec{H}$$\n",
    "\n",
    "$$rot\\,rot\\,\\vec{E} = \\mu\\,\\frac{i\\,\\omega}{c}\\left(- \\frac{i\\,\\omega}{c} \\epsilon \\vec{E} + \\frac{4\\pi}{c}\\sigma \\vec E\\right)$$\n",
    "\n",
    "$$rot\\,rot\\,\\vec{E} = \\epsilon \\mu\\,\\frac{\\omega^2}{c^2} \\vec{E} + i\\,\\omega\\,\\sigma\\,\\mu\\,\\frac{4\\pi}{c^2} \\vec E$$\n",
    "\n",
    "$$rot\\,rot\\,\\vec{E} = grad\\,div\\,\\vec{E} - Laplasian\\,\\vec{E}$$\n",
    "\n",
    "$$Laplasian\\,\\vec{E} + \\epsilon \\mu \\frac{\\omega^2}{c^2}\\,\\vec{E} + i\\,\\omega\\,\\sigma\\,\\mu\\,\\frac{4\\pi}{c^2} \\vec E - grad\\,div\\,\\vec{E} = 0$$\n"
   ]
  },
  {
   "cell_type": "markdown",
   "metadata": {},
   "source": [
    "$$div\\,\\vec{E} = - \\frac{\\vec{n}}{c} \\frac{\\partial \\vec E}{\\partial t}$$\n",
    "\n",
    "$$grad\\,div\\,\\vec{E} = - grad\\,\\frac{\\vec{n}}{c} \\frac{\\partial \\vec E}{\\partial t}$$\n",
    "\n",
    "для вакуума внутри резонатора ищем решение в виде\n",
    "\n",
    "$$\\vec{E} = \\vec{E}(x)\\,e^{i\\,k\\,z}\\,e^{-i\\,\\omega\\,t}$$"
   ]
  },
  {
   "cell_type": "markdown",
   "metadata": {},
   "source": [
    "подставляя в исходное уравнение приходим к обыкновенному дифференциальному уравнению\n",
    "\n",
    "$$\\frac{\\partial^{2}}{(\\partial {x})^{2}}\\vec{E}(x) + \\frac{\\partial^{2}}{(\\partial {y})^{2}}\\vec{E}(x) + \\left(\\epsilon  \\mu \\frac{\\omega^2}{c^2} + i\\,\\omega\\,\\sigma\\,\\mu\\,\\frac{4\\pi}{c^2} - {k'_z}^2\\right)\\,\\vec{E}(x) - grad\\,div\\,\\vec{E} = 0$$"
   ]
  },
  {
   "cell_type": "markdown",
   "metadata": {},
   "source": [
    "производим следующую замену переменных\n",
    "\n",
    "$$\\kappa^2 = \\epsilon \\mu \\frac{\\omega^2}{c^2} + i\\,\\omega\\,\\sigma\\,\\mu\\,\\frac{4\\pi}{c^2}$$\n",
    "\n",
    "теперь получаем дифференциальное уравнение\n",
    "\n",
    "$$\\frac{\\partial^{2}}{(\\partial {x})^{2}}\\vec{E}(x) + \\frac{\\partial^{2}}{(\\partial {y})^{2}}\\vec{E}(x) + \\left(\\kappa^2 - {k'_z}^2\\right)\\,\\vec{E}(x) = 0$$"
   ]
  },
  {
   "cell_type": "code",
   "execution_count": null,
   "metadata": {},
   "outputs": [],
   "source": []
  },
  {
   "cell_type": "markdown",
   "metadata": {},
   "source": [
    "для проводящего металла с потерями ищем решение в виде\n",
    "\n",
    "$$\\vec{E} = \\vec{E}\\,e^{i\\,k'_x\\,x}\\,e^{i\\,k'_z\\,z}\\,e^{-i\\,\\omega\\,t}$$\n",
    "\n",
    "в котором волновой вектор, направленный вдоль оси z комплексный $k'_z = k_z + i\\,s_z$, как и волновой вектор, направленный вдоль оси x может быть комплексным $k'_x = k_x + i\\,s_x$\n",
    "\n",
    "$$\\vec{E} = \\vec{E}\\,e^{i\\,(k_x + i\\,s_x)\\,(x-a)}\\,e^{i\\,(k_z + i\\,s_z)\\,z}\\,e^{-i\\,\\omega\\,t}$$"
   ]
  },
  {
   "cell_type": "code",
   "execution_count": null,
   "metadata": {},
   "outputs": [],
   "source": []
  },
  {
   "cell_type": "markdown",
   "metadata": {},
   "source": [
    "принимая модель комплексного представления диэлектрической проницаемости $\\epsilon' = \\epsilon + \\frac{4\\pi\\,\\sigma}{\\omega}\\,i$ (плохой проводник)"
   ]
  },
  {
   "cell_type": "markdown",
   "metadata": {},
   "source": [
    "подставляем решение в\n",
    "\n",
    "$$Laplasian\\,\\vec{E} + \\frac{\\mu \\omega^2}{c^2}\\left(\\epsilon + \\frac{4\\pi\\,\\sigma}{\\omega}\\,i\\right)\\,\\vec{E} - grad\\,div\\,\\vec{E} = 0$$\n",
    "\n",
    "и принимая\n",
    "\n",
    "$$div\\,\\vec{E} = - \\frac{\\vec{n}}{c} \\frac{\\partial \\vec E}{\\partial t}$$"
   ]
  },
  {
   "cell_type": "markdown",
   "metadata": {},
   "source": [
    "приходим к\n",
    "\n",
    "$$\\frac{\\partial^{2}}{(\\partial {x})^{2}}\\vec{E}(x) + \\frac{\\partial^{2}}{(\\partial {y})^{2}}\\vec{E}(x) + \\left(\\frac{\\mu \\omega^2}{c^2}\\left(\\epsilon + \\frac{4\\pi\\,\\sigma}{\\omega}\\,i\\right)  - {k'_z}^2\\right)\\,\\vec{E} - grad\\, \\left(\\frac{\\vec{n}}{c} \\frac{\\partial \\vec E}{\\partial t} \\right) = 0$$"
   ]
  },
  {
   "cell_type": "markdown",
   "metadata": {},
   "source": [
    "$$ k = \\frac{\\omega}{c}\\,\\sqrt{\\mu\\,\\left(\\epsilon  + \\frac{4\\pi\\,\\sigma}{\\omega}\\,i\\right)}$$"
   ]
  },
  {
   "cell_type": "markdown",
   "metadata": {},
   "source": [
    "$${k'_z}^2=\\left(k_z + i\\,s_z \\right)^2 = k_z^2 - s_z^2 + 2\\,i\\,k_z\\,s_z$$"
   ]
  },
  {
   "cell_type": "markdown",
   "metadata": {},
   "source": [
    "приходим к\n",
    "\n",
    "$$\\frac{\\partial^{2}}{(\\partial {x})^{2}}\\vec{E}(x) + \\frac{\\partial^{2}}{(\\partial {y})^{2}}\\vec{E}(x) + \\left(\\frac{\\mu \\omega^2}{c^2}\\epsilon + \\frac{\\mu \\omega^2}{c^2}\\frac{4\\pi\\,\\sigma}{\\omega}\\,i - {k'_z}^{2}\\right) = 0$$\n"
   ]
  },
  {
   "cell_type": "code",
   "execution_count": 1,
   "metadata": {},
   "outputs": [],
   "source": [
    "from IPython.display import display, Math, Latex\n",
    "\n",
    "mu = var('mu')\n",
    "assume(mu, 'real')\n",
    "assume(mu>0)\n",
    "\n",
    "epsilon = var('epsilon')\n",
    "assume(epsilon, 'real')\n",
    "assume(epsilon>0)\n",
    "\n",
    "mu_0 = 1\n",
    "epsilon_0 = 1\n",
    "\n",
    "sigma = var('sigma')\n",
    "assume(sigma, 'real')\n",
    "assume(sigma>0)\n",
    "\n",
    "sx = var ('sx')\n",
    "assume(sx, 'real')\n",
    "assume(sx>0)\n",
    "\n",
    "sy = var ('sy')\n",
    "assume(sy, 'real')\n",
    "assume(sy>0)\n",
    "\n",
    "sz = var ('sz')\n",
    "assume(sz, 'real')\n",
    "assume(sz>0)\n",
    "\n",
    "kappa_vacuum = var ('kappa_vacuum')\n",
    "assume(kappa_vacuum, 'real')\n",
    "assume(kappa_vacuum>0)\n",
    "\n",
    "#k, kappa = var('k, kappa')\n",
    "kappa = var('kappa')\n",
    "#assume(k, 'complex')\n",
    "assume(kappa, 'complex')\n",
    "\n",
    "kx = var ('kx')\n",
    "assume(kx, 'real')\n",
    "\n",
    "ky = var ('ky')\n",
    "assume(ky, 'real')\n",
    "\n",
    "kz = var ('kz')\n",
    "assume(kz, 'real')\n",
    "\n",
    "k__x = var ('k__x')\n",
    "assume(k__x, 'complex')\n",
    "\n",
    "k__y = var ('k__y')\n",
    "assume(k__x, 'complex')\n",
    "\n",
    "k__z = var ('k__z')\n",
    "assume(k__z, 'complex')\n",
    "\n",
    "k_x = var ('k_x')\n",
    "assume(k_x, 'complex')\n",
    "\n",
    "k_y = var ('k_y')\n",
    "assume(k_x, 'complex')\n",
    "\n",
    "k_z = var ('k_z')\n",
    "assume(k_z, 'complex')\n",
    "\n",
    "\n",
    "a = var('a')\n",
    "assume(a, 'real')\n",
    "assume(a>0)\n",
    "\n",
    "x = var('x')\n",
    "y = var('y')\n",
    "z = var('z')\n",
    "\n",
    "assume(x, 'real')\n",
    "assume(y, 'real')\n",
    "assume(z, 'real')\n",
    "\n",
    "c = var('c')\n",
    "assume(c, 'real')\n",
    "assume(c>0)\n",
    "\n",
    "omega = var('omega')\n",
    "assume(omega, 'real')\n",
    "\n",
    "good_conductor = False"
   ]
  },
  {
   "cell_type": "code",
   "execution_count": 2,
   "metadata": {},
   "outputs": [],
   "source": [
    "p = var(\"p\") # angle of phase shift of A1_z\n",
    "# k = var(\"k\") # wave vector along x\n",
    "\n",
    "assume(a, \"real\")\n",
    "assume(p, \"real\")\n",
    "\n",
    "# assume(k, \"complex\")"
   ]
  },
  {
   "cell_type": "markdown",
   "metadata": {},
   "source": [
    "$$\\kappa^2 = \\epsilon \\mu \\frac{\\omega^2}{c^2} + i\\,\\omega\\,\\sigma\\,\\mu\\,\\frac{4\\pi}{c^2}$$"
   ]
  },
  {
   "cell_type": "code",
   "execution_count": 3,
   "metadata": {},
   "outputs": [
    {
     "name": "stdout",
     "output_type": "stream",
     "text": [
      "eq_kappa =\n"
     ]
    },
    {
     "data": {
      "text/latex": [
       "$\\displaystyle \\kappa^{2} = \\frac{4 i \\, \\pi \\mu \\omega \\sigma}{c} + \\frac{\\epsilon \\mu \\omega^{2}}{c^{2}}$"
      ],
      "text/plain": [
       "<IPython.core.display.Math object>"
      ]
     },
     "metadata": {},
     "output_type": "display_data"
    },
    {
     "name": "stdout",
     "output_type": "stream",
     "text": [
      "eq_kappa_inner_vacuum =\n"
     ]
    },
    {
     "data": {
      "text/latex": [
       "$\\displaystyle \\kappa_{\\mathit{vacuum}}^{2} = \\frac{\\omega^{2}}{c^{2}}$"
      ],
      "text/plain": [
       "<IPython.core.display.Math object>"
      ]
     },
     "metadata": {},
     "output_type": "display_data"
    }
   ],
   "source": [
    "# исходя из вида дифференциальных уравнений для вакуума внутри резонатора и проводящего металла с потерями\n",
    "# записываем соотнощения для волнового вектора в виде уравнений\n",
    "\n",
    "if good_conductor:\n",
    "    eq_kappa              = kappa^2 == I*omega*sigma*mu*4*pi/c\n",
    "else:\n",
    "    eq_kappa              = kappa^2 == mu * epsilon * omega^2 / c^2 + I*omega*sigma*mu*4*pi/c\n",
    "eq_kappa_inner_vacuum = kappa_vacuum^2 == omega^2 / c^2\n",
    "\n",
    "kappa_sol = solve(eq_kappa, kappa)[1]\n",
    "#kappa_vacuum_sol = omega / c\n",
    "\n",
    "print(\"eq_kappa =\")\n",
    "display(Math(latex(eq_kappa)))\n",
    "\n",
    "print(\"eq_kappa_inner_vacuum =\")\n",
    "display(Math(latex(eq_kappa_inner_vacuum)))"
   ]
  },
  {
   "cell_type": "code",
   "execution_count": null,
   "metadata": {},
   "outputs": [],
   "source": []
  },
  {
   "cell_type": "markdown",
   "metadata": {},
   "source": [
    "принимая модель комплексного представления диэлектрической проницаемости $\\epsilon' = \\epsilon + \\frac{4\\pi\\,\\sigma}{\\omega}\\,i$ (плохой проводник)"
   ]
  },
  {
   "cell_type": "code",
   "execution_count": 4,
   "metadata": {},
   "outputs": [],
   "source": [
    "if good_conductor:\n",
    "    epsilon_complex = + I * 4 * pi * sigma / omega\n",
    "else:\n",
    "    epsilon_complex = epsilon + I * 4 * pi * sigma / omega"
   ]
  },
  {
   "cell_type": "code",
   "execution_count": null,
   "metadata": {},
   "outputs": [],
   "source": []
  },
  {
   "cell_type": "markdown",
   "metadata": {},
   "source": [
    "приходим к\n",
    "\n",
    "$$\\frac{\\partial^{2}}{(\\partial {x})^{2}}\\vec{E}(x) + \\frac{\\partial^{2}}{(\\partial {y})^{2}}\\vec{E}(x) +  \\left(\\frac{\\mu \\omega^2}{c^2}\\epsilon + \\frac{\\mu \\omega^2}{c^2}\\frac{4\\pi\\,\\sigma}{\\omega}\\,i - {k'_z}^{2}\\right) = 0$$\n"
   ]
  },
  {
   "cell_type": "markdown",
   "metadata": {},
   "source": [
    "$${k'_z}^2=\\left(k_z + i\\,s_z \\right)^2 = k_z^2 - s_z^2 + 2\\,i\\,k_z\\,s_z$$"
   ]
  },
  {
   "cell_type": "markdown",
   "metadata": {},
   "source": []
  },
  {
   "cell_type": "code",
   "execution_count": 5,
   "metadata": {},
   "outputs": [],
   "source": [
    "k__y_subs = k__y == 0 #ky + I * sy"
   ]
  },
  {
   "cell_type": "code",
   "execution_count": 6,
   "metadata": {},
   "outputs": [],
   "source": [
    "k__z_subs = k__z == kz + I * sz"
   ]
  },
  {
   "cell_type": "code",
   "execution_count": null,
   "metadata": {},
   "outputs": [],
   "source": []
  },
  {
   "cell_type": "markdown",
   "metadata": {},
   "source": [
    "$$\\frac{\\partial^{2}}{(\\partial {x})^{2}}\\vec{E}(x) + \\frac{\\partial^{2}}{(\\partial {y})^{2}}\\vec{E}(x) + \\left(\\frac{\\mu \\epsilon \\omega^2}{c^2} - {k'_z}^2\\right)\\,\\vec{E}(x) - grad\\,div\\,\\vec{E} = 0$$"
   ]
  },
  {
   "cell_type": "markdown",
   "metadata": {},
   "source": [
    "зависимость поля от $y$ отсутствует"
   ]
  },
  {
   "cell_type": "markdown",
   "metadata": {},
   "source": [
    "$$\\frac{\\partial^{2}}{(\\partial {x})^{2}}\\vec{E}(x) + \\left(\\frac{\\mu \\epsilon \\omega^2}{c^2} - {k'_z}^2\\right)\\,\\vec{E}(x) - grad\\,div\\,\\vec{E} = 0$$"
   ]
  },
  {
   "cell_type": "code",
   "execution_count": 7,
   "metadata": {},
   "outputs": [
    {
     "name": "stdout",
     "output_type": "stream",
     "text": [
      "de_inner_vacuum =\n"
     ]
    },
    {
     "data": {
      "text/latex": [
       "$\\displaystyle -{\\left(k_{z}^{2} - \\kappa^{2}\\right)} E\\left(x\\right) + \\frac{\\partial^{2}}{(\\partial x)^{2}}E\\left(x\\right) = 0$"
      ],
      "text/plain": [
       "<IPython.core.display.Math object>"
      ]
     },
     "metadata": {},
     "output_type": "display_data"
    }
   ],
   "source": [
    "# решаем полученные обыкновенные дифференциальные уравнения\n",
    "E = function('E')(x)\n",
    "\n",
    "\n",
    "de_inner_vacuum = diff (E, x, 2) + diff (E, y, 2) + (kappa^2 - k_z^2) * E == 0\n",
    "# diff (E, y, 2) == 0\n",
    "de_inner_vacuum = diff (E, x, 2) + (kappa^2 - k_z^2) * E == 0\n",
    "# получая таким образом выражения для электрического поля в вакуума внутри резонатора и внутри проводящего металла с потерями\n",
    "print(\"de_inner_vacuum =\")\n",
    "display(Math(latex(de_inner_vacuum)))"
   ]
  },
  {
   "cell_type": "code",
   "execution_count": 8,
   "metadata": {},
   "outputs": [
    {
     "name": "stdout",
     "output_type": "stream",
     "text": [
      "E_inner_vacuum =\n"
     ]
    },
    {
     "data": {
      "text/latex": [
       "$\\displaystyle K_{1} e^{\\left(i \\, \\sqrt{-k_{z}^{2} + \\kappa^{2}} x\\right)} + K_{2} e^{\\left(-i \\, \\sqrt{-k_{z}^{2} + \\kappa^{2}} x\\right)}$"
      ],
      "text/plain": [
       "<IPython.core.display.Math object>"
      ]
     },
     "metadata": {},
     "output_type": "display_data"
    }
   ],
   "source": [
    "assume(k_z^2-kappa^2 > 0)\n",
    "\n",
    "E_inner_vacuum = desolve(de_inner_vacuum, E, ivar = x)\n",
    "#E_inner_vacuum = desolve(de_inner_vacuum, E, ivar = [x, y], contrib_ode = True)\n",
    "\n",
    "# получая таким образом выражения для электрического поля в вакуума внутри резонатора и внутри проводящего металла с потерями\n",
    "print(\"E_inner_vacuum =\")\n",
    "display(Math(latex(E_inner_vacuum)))"
   ]
  },
  {
   "cell_type": "code",
   "execution_count": 9,
   "metadata": {},
   "outputs": [],
   "source": [
    "# eq_kx_vacuum = k_x = I*sqrt(kappa_vacuum^2-k_z^2)\n",
    "# eq_kx        = k_x = I*sqrt(kappa^2-k_z^2)"
   ]
  },
  {
   "cell_type": "code",
   "execution_count": null,
   "metadata": {},
   "outputs": [],
   "source": []
  },
  {
   "cell_type": "code",
   "execution_count": 10,
   "metadata": {},
   "outputs": [],
   "source": [
    "B1_x = var ('B1_x')\n",
    "B2_x = var ('B2_x')\n",
    "\n",
    "A1_x = var ('A1_x')\n",
    "A2_x = var ('A2_x')\n",
    "\n",
    "\n",
    "B1_y = var ('B1_y')\n",
    "B2_y = var ('B2_y')\n",
    "\n",
    "A1_y = var ('A1_y')\n",
    "A2_y = var ('A2_y')\n",
    "\n",
    "\n",
    "B1_z = var ('B1_z')\n",
    "B2_z = var ('B2_z')\n",
    "\n",
    "A1_z = var ('A1_z')\n",
    "A2_z = var ('A2_z')\n",
    "\n",
    "A1_x_re, A1_y_re, A1_z_re = var(\"A1_x_re, A1_y_re, A1_z_re\")\n",
    "A1_x_im, A1_y_im, A1_z_im = var(\"A1_x_im, A1_y_im, A1_z_im\")\n",
    "\n",
    "A2_x_re, A2_y_re, A2_z_re = var(\"A2_x_re, A2_y_re, A2_z_re\")\n",
    "A2_x_im, A2_y_im, A2_z_im = var(\"A2_x_im, A2_y_im, A2_z_im\")\n",
    "\n",
    "B1_x_re, B1_y_re, B1_z_re = var(\"B1_x_re, B1_y_re, B1_z_re\")\n",
    "B1_x_im, B1_y_im, B1_z_im = var(\"B1_x_im, B1_y_im, B1_z_im\")\n",
    "\n",
    "\n",
    "assume(A1_x_re, \"real\")\n",
    "assume(A1_x_im, \"real\")\n",
    "\n",
    "assume(A2_x_re, \"real\")\n",
    "assume(A2_x_im, \"real\")\n",
    "\n",
    "assume(A1_y_re, \"real\")\n",
    "assume(A1_y_im, \"real\")\n",
    "\n",
    "assume(A2_y_re, \"real\")\n",
    "assume(A2_y_im, \"real\")\n",
    "\n",
    "assume(A1_z_re, \"real\")\n",
    "assume(A1_z_im, \"real\")\n",
    "\n",
    "assume(A2_z_re, \"real\")\n",
    "assume(A2_z_im, \"real\")\n",
    "\n",
    "\n",
    "assume(B1_x_re, \"real\")\n",
    "assume(B1_x_im, \"real\")\n",
    "\n",
    "assume(B1_y_re, \"real\")\n",
    "assume(B1_y_im, \"real\")\n",
    "\n",
    "assume(B1_z_re, \"real\")\n",
    "assume(B1_z_im, \"real\")"
   ]
  },
  {
   "cell_type": "code",
   "execution_count": 11,
   "metadata": {},
   "outputs": [],
   "source": [
    "A1_x_re_im_subs = A1_x == A1_x_re + I * A1_x_im\n",
    "A2_x_re_im_subs = A2_x == A2_x_re + I * A2_x_im\n",
    "\n",
    "A1_y_re_im_subs = A1_y == A1_y_re + I * A1_y_im\n",
    "A2_y_re_im_subs = A2_y == A2_y_re + I * A2_y_im\n",
    "\n",
    "A1_z_re_im_subs = A1_z == A1_z_re + I * A1_z_im\n",
    "A2_z_re_im_subs = A2_z == A2_z_re + I * A2_z_im\n",
    "\n",
    "B1_x_re_im_subs = B1_x == B1_x_re + I * B1_x_im\n",
    "B1_y_re_im_subs = B1_y == B1_y_re + I * B1_y_im\n",
    "B1_z_re_im_subs = B1_z == B1_z_re + I * B1_z_im"
   ]
  },
  {
   "cell_type": "code",
   "execution_count": 12,
   "metadata": {},
   "outputs": [],
   "source": [
    "# 2D\n",
    "# отсутсвие изменения поля вдоль оси y\n",
    "set_Ey_0 = False"
   ]
  },
  {
   "cell_type": "code",
   "execution_count": 13,
   "metadata": {},
   "outputs": [],
   "source": [
    "if set_Ey_0:\n",
    "    B1_y = 0\n",
    "    B2_y = 0\n",
    "\n",
    "    A1_y = 0\n",
    "    A2_y = 0\n",
    "\n",
    "    ky   = 0"
   ]
  },
  {
   "cell_type": "code",
   "execution_count": 14,
   "metadata": {},
   "outputs": [],
   "source": [
    "# K_vacuum = sqrt(kappa_vacuum^2-k_z^2)\n",
    "# K_conductor = sqrt(kappa^2-k_z^2)\n",
    "\n",
    "K_vacuum    = var(\"K_vacuum\")\n",
    "K_conductor = var(\"K_conductor\")"
   ]
  },
  {
   "cell_type": "code",
   "execution_count": 15,
   "metadata": {},
   "outputs": [
    {
     "name": "stdout",
     "output_type": "stream",
     "text": [
      "E_inner_vacuum_sol_z (x) \n"
     ]
    },
    {
     "data": {
      "text/latex": [
       "$\\displaystyle \\mathit{A2}_{z} e^{\\left(i \\, K_{\\mathit{vacuum}} x\\right)} + \\mathit{A1}_{z} e^{\\left(-i \\, K_{\\mathit{vacuum}} x\\right)}$"
      ],
      "text/plain": [
       "<IPython.core.display.Math object>"
      ]
     },
     "metadata": {},
     "output_type": "display_data"
    },
    {
     "name": "stdout",
     "output_type": "stream",
     "text": [
      "E_inner_vacuum_sol_x (x) =\n"
     ]
    },
    {
     "data": {
      "text/latex": [
       "$\\displaystyle \\mathit{A2}_{x} e^{\\left(i \\, K_{\\mathit{vacuum}} x\\right)} + \\mathit{A1}_{x} e^{\\left(-i \\, K_{\\mathit{vacuum}} x\\right)}$"
      ],
      "text/plain": [
       "<IPython.core.display.Math object>"
      ]
     },
     "metadata": {},
     "output_type": "display_data"
    },
    {
     "name": "stdout",
     "output_type": "stream",
     "text": [
      "E_inner_vacuum_sol_y (x) =\n"
     ]
    },
    {
     "data": {
      "text/latex": [
       "$\\displaystyle \\mathit{A2}_{y} e^{\\left(i \\, K_{\\mathit{vacuum}} x\\right)} + \\mathit{A1}_{y} e^{\\left(-i \\, K_{\\mathit{vacuum}} x\\right)}$"
      ],
      "text/plain": [
       "<IPython.core.display.Math object>"
      ]
     },
     "metadata": {},
     "output_type": "display_data"
    }
   ],
   "source": [
    "if False:\n",
    "    # выражения для электрического поля\n",
    "    # в вакууме внутри резонатора\n",
    "    E_inner_vacuum_z (x) = (A1_z_re*cos(sqrt(kappa_vacuum^2-k_z^2)*x) + A1_z_im*sin(sqrt(kappa_vacuum^2-k_z^2)*x))\n",
    "    E_inner_vacuum_x (x) = (A1_x_re*cos(sqrt(kappa_vacuum^2-k_z^2)*x) + A1_x_im*sin(sqrt(kappa_vacuum^2-k_z^2)*x))\n",
    "    E_inner_vacuum_y (x) = (A1_y_re*cos(sqrt(kappa_vacuum^2-k_z^2)*x) + A1_y_im*sin(sqrt(kappa_vacuum^2-k_z^2)*x))\n",
    "\n",
    "    # знак перед корнем будем выбирать всегда так чтобы корень имел положительную мнимую часть\n",
    "    E_inner_vacuum_z (x) = (A1_z*exp(- I * sqrt(kappa_vacuum^2-k_z^2)*x))\n",
    "    E_inner_vacuum_x (x) = (A1_x*exp(- I * sqrt(kappa_vacuum^2-k_z^2)*x))\n",
    "    E_inner_vacuum_y (x) = (A1_y*exp(- I * sqrt(kappa_vacuum^2-k_z^2)*x))\n",
    "\n",
    "    print (\"E_inner_vacuum_z \")\n",
    "    display(Math(latex(E_inner_vacuum_z)))\n",
    "    print (\"E_inner_vacuum_x =\")\n",
    "    display(Math(latex(E_inner_vacuum_x)))\n",
    "    print (\"E_inner_vacuum_y =\")\n",
    "    display(Math(latex(E_inner_vacuum_y)))\n",
    "else:\n",
    "    # знак перед корнем (K_vacuum) будем выбирать всегда так чтобы корень имел положительную мнимую часть\n",
    "    E_inner_vacuum_sol_z (x) = A1_z*exp(- I * K_vacuum*x) + A2_z*exp( I * K_vacuum*x)\n",
    "    E_inner_vacuum_sol_x (x) = A1_x*exp(- I * K_vacuum*x) + A2_x*exp( I * K_vacuum*x)\n",
    "    E_inner_vacuum_sol_y (x) = A1_y*exp(- I * K_vacuum*x) + A2_y*exp( I * K_vacuum*x)\n",
    "\n",
    "    E_inner_vacuum_z = function(\"E_inner_vacuum_z\")\n",
    "    E_inner_vacuum_x = function(\"E_inner_vacuum_x\")\n",
    "    E_inner_vacuum_y = function(\"E_inner_vacuum_y\")\n",
    "\n",
    "\n",
    "\n",
    "print (\"E_inner_vacuum_sol_z (x) \")\n",
    "display(Math(latex(E_inner_vacuum_sol_z (x))))\n",
    "print (\"E_inner_vacuum_sol_x (x) =\")\n",
    "display(Math(latex(E_inner_vacuum_sol_x (x))))\n",
    "print (\"E_inner_vacuum_sol_y (x) =\")\n",
    "display(Math(latex(E_inner_vacuum_sol_y (x))))"
   ]
  },
  {
   "cell_type": "markdown",
   "metadata": {},
   "source": [
    "решение для проводящего металла с потерями\n",
    "\n",
    "$\\vec{E} = \\vec{E}\\,e^{i\\,k_x'\\,x}\\,e^{i\\,k_z\\,z}\\,e^{-i\\,\\omega\\,t}$\n",
    "\n",
    "$k_x' = k_x + i\\,s_x$\n",
    "\n",
    "$\\vec{E} = \\vec{E}\\,e^{-s_x\\,x}\\,e^{i\\,k_x\\,x}\\,e^{i\\,k_z\\,z}\\,e^{-i\\,\\omega\\,t}$"
   ]
  },
  {
   "cell_type": "code",
   "execution_count": 16,
   "metadata": {},
   "outputs": [
    {
     "name": "stdout",
     "output_type": "stream",
     "text": [
      "E_bad_conductor_sol_z (x) \n"
     ]
    },
    {
     "data": {
      "text/latex": [
       "$\\displaystyle \\mathit{B1}_{z} e^{\\left(i \\, K_{\\mathit{conductor}} x\\right)}$"
      ],
      "text/plain": [
       "<IPython.core.display.Math object>"
      ]
     },
     "metadata": {},
     "output_type": "display_data"
    },
    {
     "name": "stdout",
     "output_type": "stream",
     "text": [
      "E_bad_conductor_sol_x (x) =\n"
     ]
    },
    {
     "data": {
      "text/latex": [
       "$\\displaystyle \\mathit{B1}_{x} e^{\\left(i \\, K_{\\mathit{conductor}} x\\right)}$"
      ],
      "text/plain": [
       "<IPython.core.display.Math object>"
      ]
     },
     "metadata": {},
     "output_type": "display_data"
    },
    {
     "name": "stdout",
     "output_type": "stream",
     "text": [
      "E_bad_conductor_sol_y (x) =\n"
     ]
    },
    {
     "data": {
      "text/latex": [
       "$\\displaystyle \\mathit{B1}_{y} e^{\\left(i \\, K_{\\mathit{conductor}} x\\right)}$"
      ],
      "text/plain": [
       "<IPython.core.display.Math object>"
      ]
     },
     "metadata": {},
     "output_type": "display_data"
    }
   ],
   "source": [
    "if False:\n",
    "    # x > a-{k'_x}^{2}-{k'_y}^{2} +\n",
    "    # в проводящем металле с потерями\n",
    "    #if True:\n",
    "    #    E_bad_conductor_z (x) = A2_z * e^(-sx*x) * e^(I*kx*x)\n",
    "    #    E_bad_conductor_x (x) = A2_x * e^(-sx*x) * e^(I*kx*x)\n",
    "    #    E_bad_conductor_y (x) = A2_y * e^(-sx*x) * e^(I*kx*x)\n",
    "    #else:\n",
    "    #    E_bad_conductor_z (x) = A2_z * e^(-sx*(x-a)) * e^(I*kx*(x-a))\n",
    "    #    E_bad_conductor_x (x) = A2_x * e^(-sx*(x-a)) * e^(I*kx*(x-a))\n",
    "    #    E_bad_conductor_y (x) = A2_y * e^(-sx*(x-a)) * e^(I*kx*(x-a))\n",
    "\n",
    "    E_bad_conductor_z (x) = B1_z*cos(sqrt(kappa^2-k_z^2)*x) + B2_z*sin(sqrt(kappa^2-k_z^2)*x)\n",
    "    E_bad_conductor_x (x) = B1_x*cos(sqrt(kappa^2-k_z^2)*x) + B2_x*sin(sqrt(kappa^2-k_z^2)*x)\n",
    "    E_bad_conductor_y (x) = B1_y*cos(sqrt(kappa^2-k_z^2)*x) + B2_y*sin(sqrt(kappa^2-k_z^2)*x)\n",
    "\n",
    "    print (\"E_bad_conductor_z \")\n",
    "    display(Math(latex(E_bad_conductor_z)))\n",
    "    print (\"E_bad_conductor_x =\")\n",
    "    display(Math(latex(E_bad_conductor_x)))\n",
    "    print (\"E_bad_conductor_y =\")\n",
    "    display(Math(latex(E_bad_conductor_y)))\n",
    "else:\n",
    "    # знак перед корнем будем выбирать всегда так чтобы корень имел положительную мнимую часть\n",
    "    E_bad_conductor_sol_z (x) = B1_z*exp(I * K_conductor*x)\n",
    "    E_bad_conductor_sol_x (x) = B1_x*exp(I * K_conductor*x)\n",
    "    E_bad_conductor_sol_y (x) = B1_y*exp(I * K_conductor*x)\n",
    "\n",
    "    E_bad_conductor_z = function(\"E_bad_conductor_z\")\n",
    "    E_bad_conductor_x = function(\"E_bad_conductor_x\")\n",
    "    E_bad_conductor_y = function(\"E_bad_conductor_y\")\n",
    "\n",
    "\n",
    "print (\"E_bad_conductor_sol_z (x) \")\n",
    "display(Math(latex(E_bad_conductor_sol_z (x))))\n",
    "print (\"E_bad_conductor_sol_x (x) =\")\n",
    "display(Math(latex(E_bad_conductor_sol_x (x))))\n",
    "print (\"E_bad_conductor_sol_y (x) =\")\n",
    "display(Math(latex(E_bad_conductor_sol_y (x))))"
   ]
  },
  {
   "cell_type": "code",
   "execution_count": 17,
   "metadata": {},
   "outputs": [
    {
     "name": "stdout",
     "output_type": "stream",
     "text": [
      "H_inner_vacuum_s_y \n"
     ]
    },
    {
     "data": {
      "text/latex": [
       "$\\displaystyle x \\ {\\mapsto}\\ -\\frac{i \\, {\\left(i \\, k_{z} E_{{\\rm inner}_{{\\rm vacuum}_{x}}}\\left(x\\right) - \\frac{\\partial}{\\partial x}E_{{\\rm inner}_{{\\rm vacuum}_{z}}}\\left(x\\right)\\right)} c}{\\omega}$"
      ],
      "text/plain": [
       "<IPython.core.display.Math object>"
      ]
     },
     "metadata": {},
     "output_type": "display_data"
    },
    {
     "name": "stdout",
     "output_type": "stream",
     "text": [
      "H_bad_conductor_s_y =\n"
     ]
    },
    {
     "data": {
      "text/latex": [
       "$\\displaystyle x \\ {\\mapsto}\\ -\\frac{i \\, {\\left(i \\, k_{z} E_{{\\rm bad}_{{\\rm conductor}_{x}}}\\left(x\\right) - \\frac{\\partial}{\\partial x}E_{{\\rm bad}_{{\\rm conductor}_{z}}}\\left(x\\right)\\right)} c}{\\mu \\omega}$"
      ],
      "text/plain": [
       "<IPython.core.display.Math object>"
      ]
     },
     "metadata": {},
     "output_type": "display_data"
    },
    {
     "name": "stdout",
     "output_type": "stream",
     "text": [
      "H_inner_vacuum_sol_y (x) \n"
     ]
    },
    {
     "data": {
      "text/latex": [
       "$\\displaystyle -\\frac{i \\, {\\left(-i \\, \\mathit{A2}_{z} K_{\\mathit{vacuum}} e^{\\left(i \\, K_{\\mathit{vacuum}} x\\right)} + i \\, \\mathit{A1}_{z} K_{\\mathit{vacuum}} e^{\\left(-i \\, K_{\\mathit{vacuum}} x\\right)} + i \\, {\\left(\\mathit{A2}_{x} e^{\\left(i \\, K_{\\mathit{vacuum}} x\\right)} + \\mathit{A1}_{x} e^{\\left(-i \\, K_{\\mathit{vacuum}} x\\right)}\\right)} k_{z}\\right)} c}{\\omega}$"
      ],
      "text/plain": [
       "<IPython.core.display.Math object>"
      ]
     },
     "metadata": {},
     "output_type": "display_data"
    },
    {
     "name": "stdout",
     "output_type": "stream",
     "text": [
      "H_bad_conductor_sol_y (x) =\n"
     ]
    },
    {
     "data": {
      "text/latex": [
       "$\\displaystyle -\\frac{i \\, {\\left(-i \\, \\mathit{B1}_{z} K_{\\mathit{conductor}} e^{\\left(i \\, K_{\\mathit{conductor}} x\\right)} + i \\, \\mathit{B1}_{x} k_{z} e^{\\left(i \\, K_{\\mathit{conductor}} x\\right)}\\right)} c}{\\mu \\omega}$"
      ],
      "text/plain": [
       "<IPython.core.display.Math object>"
      ]
     },
     "metadata": {},
     "output_type": "display_data"
    }
   ],
   "source": [
    "# выражения для магнитного поля в вакууме внутри резонатора и в проводящем металле с потерями\n",
    "# rot E = -1/c dB/dt\n",
    "# H_y = c / (I * omega * mu) * (diff(E_x, z) - diff(E_z, x))\n",
    "\n",
    "# H_inner_vacuum_y  (x) = c / (I * omega)      * (I*k_z*E_inner_vacuum_x  (x) - diff(E_inner_vacuum_z  (x), x))\n",
    "# H_bad_conductor_y (x) = c / (I * omega * mu) * (I*k_z*E_bad_conductor_x (x) - diff(E_bad_conductor_z (x), x))\n",
    "\n",
    "H_inner_vacuum_y  = c/(I*omega)   *(I*k_z*E_inner_vacuum_x (x) - diff(E_inner_vacuum_z (x), x))\n",
    "H_bad_conductor_y = c/(I*omega*mu)*(I*k_z*E_bad_conductor_x(x) - diff(E_bad_conductor_z(x), x))\n",
    "\n",
    "H_inner_vacuum_f_y  = function(\"H_inner_vacuum_f_y\")\n",
    "H_bad_conductor_f_y = function(\"H_bad_conductor_f_y\")\n",
    "\n",
    "H_inner_vacuum_y  = var(\"H_inner_vacuum_y\")\n",
    "H_bad_conductor_y = var(\"H_bad_conductor_y\")\n",
    "\n",
    "H_inner_vacuum_s_y  (x) = c/(I*omega)   *(I*k_z*E_inner_vacuum_x (x) - diff(E_inner_vacuum_z (x), x))\n",
    "H_bad_conductor_s_y (x) = c/(I*omega*mu)*(I*k_z*E_bad_conductor_x(x) - diff(E_bad_conductor_z(x), x))\n",
    "\n",
    "H_inner_vacuum_sol_y  (x) = c/(I*omega)   *(I*k_z*E_inner_vacuum_sol_x (x) - diff(E_inner_vacuum_sol_z (x), x))\n",
    "H_bad_conductor_sol_y (x) = c/(I*omega*mu)*(I*k_z*E_bad_conductor_sol_x(x) - diff(E_bad_conductor_sol_z(x), x))\n",
    "\n",
    "print (\"H_inner_vacuum_s_y \")\n",
    "display(Math(latex(H_inner_vacuum_s_y.simplify())))\n",
    "print (\"H_bad_conductor_s_y =\")\n",
    "display(Math(latex(H_bad_conductor_s_y)))\n",
    "\n",
    "print (\"H_inner_vacuum_sol_y (x) \")\n",
    "display(Math(latex(H_inner_vacuum_sol_y (x).simplify())))\n",
    "print (\"H_bad_conductor_sol_y (x) =\")\n",
    "display(Math(latex(H_bad_conductor_sol_y (x))))"
   ]
  },
  {
   "cell_type": "code",
   "execution_count": 18,
   "metadata": {},
   "outputs": [
    {
     "name": "stdout",
     "output_type": "stream",
     "text": [
      "H_inner_vacuum_s_x \n"
     ]
    },
    {
     "data": {
      "text/latex": [
       "$\\displaystyle x \\ {\\mapsto}\\ -\\frac{i \\, {\\left(-i \\, k_{z} E_{{\\rm inner}_{{\\rm vacuum}_{y}}}\\left(x\\right) + i \\, k_{y} E_{{\\rm inner}_{{\\rm vacuum}_{z}}}\\left(x\\right)\\right)} c}{\\omega}$"
      ],
      "text/plain": [
       "<IPython.core.display.Math object>"
      ]
     },
     "metadata": {},
     "output_type": "display_data"
    },
    {
     "name": "stdout",
     "output_type": "stream",
     "text": [
      "H_bad_conductor_s_x (x) =\n"
     ]
    },
    {
     "data": {
      "text/latex": [
       "$\\displaystyle x \\ {\\mapsto}\\ -\\frac{i \\, {\\left(-i \\, k_{z} E_{{\\rm bad}_{{\\rm conductor}_{y}}}\\left(x\\right) + i \\, k_{y} E_{{\\rm bad}_{{\\rm conductor}_{z}}}\\left(x\\right)\\right)} c}{\\mu \\omega}$"
      ],
      "text/plain": [
       "<IPython.core.display.Math object>"
      ]
     },
     "metadata": {},
     "output_type": "display_data"
    },
    {
     "name": "stdout",
     "output_type": "stream",
     "text": [
      "H_inner_vacuum_sol_x (x) \n"
     ]
    },
    {
     "data": {
      "text/latex": [
       "$\\displaystyle -\\frac{i \\, {\\left(i \\, {\\left(\\mathit{A2}_{z} e^{\\left(i \\, K_{\\mathit{vacuum}} x\\right)} + \\mathit{A1}_{z} e^{\\left(-i \\, K_{\\mathit{vacuum}} x\\right)}\\right)} k_{y} - i \\, {\\left(\\mathit{A2}_{y} e^{\\left(i \\, K_{\\mathit{vacuum}} x\\right)} + \\mathit{A1}_{y} e^{\\left(-i \\, K_{\\mathit{vacuum}} x\\right)}\\right)} k_{z}\\right)} c}{\\omega}$"
      ],
      "text/plain": [
       "<IPython.core.display.Math object>"
      ]
     },
     "metadata": {},
     "output_type": "display_data"
    },
    {
     "name": "stdout",
     "output_type": "stream",
     "text": [
      "H_bad_conductor_sol_x (x) =\n"
     ]
    },
    {
     "data": {
      "text/latex": [
       "$\\displaystyle -\\frac{i \\, {\\left(i \\, \\mathit{B1}_{z} k_{y} e^{\\left(i \\, K_{\\mathit{conductor}} x\\right)} - i \\, \\mathit{B1}_{y} k_{z} e^{\\left(i \\, K_{\\mathit{conductor}} x\\right)}\\right)} c}{\\mu \\omega}$"
      ],
      "text/plain": [
       "<IPython.core.display.Math object>"
      ]
     },
     "metadata": {},
     "output_type": "display_data"
    }
   ],
   "source": [
    "# выражения для магнитного поля в вакууме внутри резонатора и в проводящем металле с потерями\n",
    "# rot E = -1/c dB/dt\n",
    "# H_x = c / (I * omega * mu) * (diff(E_z, y) - diff(E_y, z))\n",
    "\n",
    "H_inner_vacuum_f_x  = function(\"H_inner_vacuum_f_x\")\n",
    "H_bad_conductor_f_x = function(\"H_bad_conductor_f_x\")\n",
    "\n",
    "H_inner_vacuum_x  = var(\"H_inner_vacuum_x\")\n",
    "H_bad_conductor_x = var(\"H_bad_conductor_x\")\n",
    "\n",
    "H_inner_vacuum_s_x(x)  = c/(I*omega)   *(I*k_y*E_inner_vacuum_z (x) - I*k_z*E_inner_vacuum_y (x))\n",
    "H_bad_conductor_s_x(x) = c/(I*omega*mu)*(I*k_y*E_bad_conductor_z(x) - I*k_z*E_bad_conductor_y(x))\n",
    "\n",
    "H_inner_vacuum_sol_x (x) = c/(I*omega)   *(I*k_y*E_inner_vacuum_sol_z (x) - I*k_z*E_inner_vacuum_sol_y (x))\n",
    "H_bad_conductor_sol_x(x) = c/(I*omega*mu)*(I*k_y*E_bad_conductor_sol_z(x) - I*k_z*E_bad_conductor_sol_y(x))\n",
    "\n",
    "print (\"H_inner_vacuum_s_x \")\n",
    "display(Math(latex(H_inner_vacuum_s_x.simplify())))\n",
    "print (\"H_bad_conductor_s_x (x) =\")\n",
    "display(Math(latex(H_bad_conductor_s_x)))\n",
    "\n",
    "print (\"H_inner_vacuum_sol_x (x) \")\n",
    "display(Math(latex(H_inner_vacuum_sol_x (x).simplify())))\n",
    "print (\"H_bad_conductor_sol_x (x) =\")\n",
    "display(Math(latex(H_bad_conductor_sol_x (x))))"
   ]
  },
  {
   "cell_type": "code",
   "execution_count": 19,
   "metadata": {},
   "outputs": [
    {
     "name": "stdout",
     "output_type": "stream",
     "text": [
      "H_inner_vacuum_s_z \n"
     ]
    },
    {
     "data": {
      "text/latex": [
       "$\\displaystyle x \\ {\\mapsto}\\ -\\frac{i \\, {\\left(-i \\, k_{y} E_{{\\rm inner}_{{\\rm vacuum}_{x}}}\\left(x\\right) + \\frac{\\partial}{\\partial x}E_{{\\rm inner}_{{\\rm vacuum}_{y}}}\\left(x\\right)\\right)} c}{\\omega}$"
      ],
      "text/plain": [
       "<IPython.core.display.Math object>"
      ]
     },
     "metadata": {},
     "output_type": "display_data"
    },
    {
     "name": "stdout",
     "output_type": "stream",
     "text": [
      "H_bad_conductor_s_z =\n"
     ]
    },
    {
     "data": {
      "text/latex": [
       "$\\displaystyle x \\ {\\mapsto}\\ -\\frac{i \\, {\\left(-i \\, k_{y} E_{{\\rm bad}_{{\\rm conductor}_{x}}}\\left(x\\right) + \\frac{\\partial}{\\partial x}E_{{\\rm bad}_{{\\rm conductor}_{y}}}\\left(x\\right)\\right)} c}{\\mu \\omega}$"
      ],
      "text/plain": [
       "<IPython.core.display.Math object>"
      ]
     },
     "metadata": {},
     "output_type": "display_data"
    },
    {
     "name": "stdout",
     "output_type": "stream",
     "text": [
      "H_inner_vacuum_sol_z (x) \n"
     ]
    },
    {
     "data": {
      "text/latex": [
       "$\\displaystyle -\\frac{i \\, {\\left(i \\, \\mathit{A2}_{y} K_{\\mathit{vacuum}} e^{\\left(i \\, K_{\\mathit{vacuum}} x\\right)} - i \\, \\mathit{A1}_{y} K_{\\mathit{vacuum}} e^{\\left(-i \\, K_{\\mathit{vacuum}} x\\right)} - i \\, {\\left(\\mathit{A2}_{x} e^{\\left(i \\, K_{\\mathit{vacuum}} x\\right)} + \\mathit{A1}_{x} e^{\\left(-i \\, K_{\\mathit{vacuum}} x\\right)}\\right)} k_{y}\\right)} c}{\\omega}$"
      ],
      "text/plain": [
       "<IPython.core.display.Math object>"
      ]
     },
     "metadata": {},
     "output_type": "display_data"
    },
    {
     "name": "stdout",
     "output_type": "stream",
     "text": [
      "H_bad_conductor_sol_z (x) =\n"
     ]
    },
    {
     "data": {
      "text/latex": [
       "$\\displaystyle -\\frac{i \\, {\\left(i \\, \\mathit{B1}_{y} K_{\\mathit{conductor}} e^{\\left(i \\, K_{\\mathit{conductor}} x\\right)} - i \\, \\mathit{B1}_{x} k_{y} e^{\\left(i \\, K_{\\mathit{conductor}} x\\right)}\\right)} c}{\\mu \\omega}$"
      ],
      "text/plain": [
       "<IPython.core.display.Math object>"
      ]
     },
     "metadata": {},
     "output_type": "display_data"
    }
   ],
   "source": [
    "# выражения для магнитного поля в вакууме внутри резонатора и в проводящем металле с потерями\n",
    "# rot E = -1/c dB/dt\n",
    "# H_z = c / (I * omega * mu) * (diff(E_y, x) - diff(E_x, y))\n",
    "\n",
    "H_inner_vacuum_z  = c / (I*omega)   *(diff(E_inner_vacuum_y (x), x) - I*k_y*E_inner_vacuum_x (x))\n",
    "H_bad_conductor_z = c / (I*omega*mu)*(diff(E_bad_conductor_y(x), x) - I*k_y*E_bad_conductor_x(x))\n",
    "\n",
    "H_inner_vacuum_f_z  = function(\"H_inner_vacuum_f_z\")\n",
    "H_bad_conductor_f_z = function(\"H_bad_conductor_f_z\")\n",
    "\n",
    "H_inner_vacuum_z  = var(\"H_inner_vacuum_z\")\n",
    "H_bad_conductor_z = var(\"H_bad_conductor_z\")\n",
    "\n",
    "H_inner_vacuum_s_z(x)  = c / (I*omega)   * (diff(E_inner_vacuum_y (x), x) - I*k_y*E_inner_vacuum_x (x))\n",
    "H_bad_conductor_s_z(x) = c / (I*omega*mu)*(diff(E_bad_conductor_y(x), x) - I*k_y*E_bad_conductor_x(x))\n",
    "\n",
    "H_inner_vacuum_sol_z  (x) = c / (I*omega)   *(diff(E_inner_vacuum_sol_y (x), x) - I*k_y*E_inner_vacuum_sol_x (x))\n",
    "H_bad_conductor_sol_z (x) = c / (I*omega*mu)*(diff(E_bad_conductor_sol_y(x), x) - I*k_y*E_bad_conductor_sol_x(x))\n",
    "\n",
    "print (\"H_inner_vacuum_s_z \")\n",
    "display(Math(latex(H_inner_vacuum_s_z.simplify())))\n",
    "print (\"H_bad_conductor_s_z =\")\n",
    "display(Math(latex(H_bad_conductor_s_z)))\n",
    "\n",
    "print (\"H_inner_vacuum_sol_z (x) \")\n",
    "display(Math(latex(H_inner_vacuum_sol_z (x).simplify())))\n",
    "print (\"H_bad_conductor_sol_z (x) =\")\n",
    "display(Math(latex(H_bad_conductor_sol_z (x))))"
   ]
  },
  {
   "cell_type": "code",
   "execution_count": 20,
   "metadata": {},
   "outputs": [
    {
     "name": "stdout",
     "output_type": "stream",
     "text": [
      "rot_H_inner_vacuum_x =\n"
     ]
    },
    {
     "data": {
      "text/latex": [
       "$\\displaystyle -i \\, k_{z} H_{{\\rm inner}_{{\\rm vacuum}_{f_{y}}}}\\left(x\\right) + i \\, k_{y} H_{{\\rm inner}_{{\\rm vacuum}_{f_{z}}}}\\left(x\\right)$"
      ],
      "text/plain": [
       "<IPython.core.display.Math object>"
      ]
     },
     "metadata": {},
     "output_type": "display_data"
    },
    {
     "name": "stdout",
     "output_type": "stream",
     "text": [
      "rot_H_bad_conductor_x =\n"
     ]
    },
    {
     "data": {
      "text/latex": [
       "$\\displaystyle -i \\, k_{z} H_{{\\rm bad}_{{\\rm conductor}_{f_{y}}}}\\left(x\\right) + i \\, k_{y} H_{{\\rm bad}_{{\\rm conductor}_{f_{z}}}}\\left(x\\right)$"
      ],
      "text/plain": [
       "<IPython.core.display.Math object>"
      ]
     },
     "metadata": {},
     "output_type": "display_data"
    },
    {
     "name": "stdout",
     "output_type": "stream",
     "text": [
      "rot_H_inner_vacuum_y =\n"
     ]
    },
    {
     "data": {
      "text/latex": [
       "$\\displaystyle i \\, k_{z} H_{{\\rm inner}_{{\\rm vacuum}_{f_{x}}}}\\left(x\\right) - \\frac{\\partial}{\\partial x}H_{{\\rm inner}_{{\\rm vacuum}_{f_{z}}}}\\left(x\\right)$"
      ],
      "text/plain": [
       "<IPython.core.display.Math object>"
      ]
     },
     "metadata": {},
     "output_type": "display_data"
    },
    {
     "name": "stdout",
     "output_type": "stream",
     "text": [
      "rot_H_bad_conductor_y =\n"
     ]
    },
    {
     "data": {
      "text/latex": [
       "$\\displaystyle i \\, k_{z} H_{{\\rm bad}_{{\\rm conductor}_{f_{x}}}}\\left(x\\right) - \\frac{\\partial}{\\partial x}H_{{\\rm bad}_{{\\rm conductor}_{f_{z}}}}\\left(x\\right)$"
      ],
      "text/plain": [
       "<IPython.core.display.Math object>"
      ]
     },
     "metadata": {},
     "output_type": "display_data"
    },
    {
     "name": "stdout",
     "output_type": "stream",
     "text": [
      "rot_H_inner_vacuum_z =\n"
     ]
    },
    {
     "data": {
      "text/latex": [
       "$\\displaystyle -i \\, k_{y} H_{{\\rm inner}_{{\\rm vacuum}_{f_{x}}}}\\left(x\\right) + \\frac{\\partial}{\\partial x}H_{{\\rm inner}_{{\\rm vacuum}_{f_{y}}}}\\left(x\\right)$"
      ],
      "text/plain": [
       "<IPython.core.display.Math object>"
      ]
     },
     "metadata": {},
     "output_type": "display_data"
    },
    {
     "name": "stdout",
     "output_type": "stream",
     "text": [
      "rot_H_bad_conductor_z =\n"
     ]
    },
    {
     "data": {
      "text/latex": [
       "$\\displaystyle -i \\, k_{y} H_{{\\rm bad}_{{\\rm conductor}_{f_{x}}}}\\left(x\\right) + \\frac{\\partial}{\\partial x}H_{{\\rm bad}_{{\\rm conductor}_{f_{y}}}}\\left(x\\right)$"
      ],
      "text/plain": [
       "<IPython.core.display.Math object>"
      ]
     },
     "metadata": {},
     "output_type": "display_data"
    },
    {
     "name": "stdout",
     "output_type": "stream",
     "text": [
      "rot_H_inner_vacuum_s_x =\n"
     ]
    },
    {
     "data": {
      "text/latex": [
       "$\\displaystyle x \\ {\\mapsto}\\ \\frac{{\\left(-i \\, k_{y} E_{{\\rm inner}_{{\\rm vacuum}_{x}}}\\left(x\\right) + \\frac{\\partial}{\\partial x}E_{{\\rm inner}_{{\\rm vacuum}_{y}}}\\left(x\\right)\\right)} c k_{y}}{\\omega} - \\frac{{\\left(i \\, k_{z} E_{{\\rm inner}_{{\\rm vacuum}_{x}}}\\left(x\\right) - \\frac{\\partial}{\\partial x}E_{{\\rm inner}_{{\\rm vacuum}_{z}}}\\left(x\\right)\\right)} c k_{z}}{\\omega}$"
      ],
      "text/plain": [
       "<IPython.core.display.Math object>"
      ]
     },
     "metadata": {},
     "output_type": "display_data"
    },
    {
     "name": "stdout",
     "output_type": "stream",
     "text": [
      "rot_H_bad_conductor_s_x =\n"
     ]
    },
    {
     "data": {
      "text/latex": [
       "$\\displaystyle x \\ {\\mapsto}\\ \\frac{{\\left(-i \\, k_{y} E_{{\\rm bad}_{{\\rm conductor}_{x}}}\\left(x\\right) + \\frac{\\partial}{\\partial x}E_{{\\rm bad}_{{\\rm conductor}_{y}}}\\left(x\\right)\\right)} c k_{y}}{\\mu \\omega} - \\frac{{\\left(i \\, k_{z} E_{{\\rm bad}_{{\\rm conductor}_{x}}}\\left(x\\right) - \\frac{\\partial}{\\partial x}E_{{\\rm bad}_{{\\rm conductor}_{z}}}\\left(x\\right)\\right)} c k_{z}}{\\mu \\omega}$"
      ],
      "text/plain": [
       "<IPython.core.display.Math object>"
      ]
     },
     "metadata": {},
     "output_type": "display_data"
    },
    {
     "name": "stdout",
     "output_type": "stream",
     "text": [
      "rot_H_inner_vacuum_s_y =\n"
     ]
    },
    {
     "data": {
      "text/latex": [
       "$\\displaystyle x \\ {\\mapsto}\\ \\frac{{\\left(-i \\, k_{z} E_{{\\rm inner}_{{\\rm vacuum}_{y}}}\\left(x\\right) + i \\, k_{y} E_{{\\rm inner}_{{\\rm vacuum}_{z}}}\\left(x\\right)\\right)} c k_{z}}{\\omega} + \\frac{i \\, {\\left(-i \\, k_{y} \\frac{\\partial}{\\partial x}E_{{\\rm inner}_{{\\rm vacuum}_{x}}}\\left(x\\right) + \\frac{\\partial^{2}}{(\\partial x)^{2}}E_{{\\rm inner}_{{\\rm vacuum}_{y}}}\\left(x\\right)\\right)} c}{\\omega}$"
      ],
      "text/plain": [
       "<IPython.core.display.Math object>"
      ]
     },
     "metadata": {},
     "output_type": "display_data"
    },
    {
     "name": "stdout",
     "output_type": "stream",
     "text": [
      "rot_H_bad_conductor_s_y =\n"
     ]
    },
    {
     "data": {
      "text/latex": [
       "$\\displaystyle x \\ {\\mapsto}\\ \\frac{{\\left(-i \\, k_{z} E_{{\\rm bad}_{{\\rm conductor}_{y}}}\\left(x\\right) + i \\, k_{y} E_{{\\rm bad}_{{\\rm conductor}_{z}}}\\left(x\\right)\\right)} c k_{z}}{\\mu \\omega} + \\frac{i \\, {\\left(-i \\, k_{y} \\frac{\\partial}{\\partial x}E_{{\\rm bad}_{{\\rm conductor}_{x}}}\\left(x\\right) + \\frac{\\partial^{2}}{(\\partial x)^{2}}E_{{\\rm bad}_{{\\rm conductor}_{y}}}\\left(x\\right)\\right)} c}{\\mu \\omega}$"
      ],
      "text/plain": [
       "<IPython.core.display.Math object>"
      ]
     },
     "metadata": {},
     "output_type": "display_data"
    },
    {
     "name": "stdout",
     "output_type": "stream",
     "text": [
      "rot_H_inner_vacuum_s_z =\n"
     ]
    },
    {
     "data": {
      "text/latex": [
       "$\\displaystyle x \\ {\\mapsto}\\ -\\frac{{\\left(-i \\, k_{z} E_{{\\rm inner}_{{\\rm vacuum}_{y}}}\\left(x\\right) + i \\, k_{y} E_{{\\rm inner}_{{\\rm vacuum}_{z}}}\\left(x\\right)\\right)} c k_{y}}{\\omega} - \\frac{i \\, {\\left(i \\, k_{z} \\frac{\\partial}{\\partial x}E_{{\\rm inner}_{{\\rm vacuum}_{x}}}\\left(x\\right) - \\frac{\\partial^{2}}{(\\partial x)^{2}}E_{{\\rm inner}_{{\\rm vacuum}_{z}}}\\left(x\\right)\\right)} c}{\\omega}$"
      ],
      "text/plain": [
       "<IPython.core.display.Math object>"
      ]
     },
     "metadata": {},
     "output_type": "display_data"
    },
    {
     "name": "stdout",
     "output_type": "stream",
     "text": [
      "rot_H_bad_conductor_s_z =\n"
     ]
    },
    {
     "data": {
      "text/latex": [
       "$\\displaystyle x \\ {\\mapsto}\\ -\\frac{{\\left(-i \\, k_{z} E_{{\\rm bad}_{{\\rm conductor}_{y}}}\\left(x\\right) + i \\, k_{y} E_{{\\rm bad}_{{\\rm conductor}_{z}}}\\left(x\\right)\\right)} c k_{y}}{\\mu \\omega} - \\frac{i \\, {\\left(i \\, k_{z} \\frac{\\partial}{\\partial x}E_{{\\rm bad}_{{\\rm conductor}_{x}}}\\left(x\\right) - \\frac{\\partial^{2}}{(\\partial x)^{2}}E_{{\\rm bad}_{{\\rm conductor}_{z}}}\\left(x\\right)\\right)} c}{\\mu \\omega}$"
      ],
      "text/plain": [
       "<IPython.core.display.Math object>"
      ]
     },
     "metadata": {},
     "output_type": "display_data"
    },
    {
     "name": "stdout",
     "output_type": "stream",
     "text": [
      "rot_H_inner_vacuum_sol_x =\n"
     ]
    },
    {
     "data": {
      "text/latex": [
       "$\\displaystyle \\frac{{\\left(i \\, \\mathit{A2}_{y} K_{\\mathit{vacuum}} e^{\\left(i \\, K_{\\mathit{vacuum}} x\\right)} - i \\, \\mathit{A1}_{y} K_{\\mathit{vacuum}} e^{\\left(-i \\, K_{\\mathit{vacuum}} x\\right)} - i \\, {\\left(\\mathit{A2}_{x} e^{\\left(i \\, K_{\\mathit{vacuum}} x\\right)} + \\mathit{A1}_{x} e^{\\left(-i \\, K_{\\mathit{vacuum}} x\\right)}\\right)} k_{y}\\right)} c k_{y}}{\\omega} - \\frac{{\\left(-i \\, \\mathit{A2}_{z} K_{\\mathit{vacuum}} e^{\\left(i \\, K_{\\mathit{vacuum}} x\\right)} + i \\, \\mathit{A1}_{z} K_{\\mathit{vacuum}} e^{\\left(-i \\, K_{\\mathit{vacuum}} x\\right)} + i \\, {\\left(\\mathit{A2}_{x} e^{\\left(i \\, K_{\\mathit{vacuum}} x\\right)} + \\mathit{A1}_{x} e^{\\left(-i \\, K_{\\mathit{vacuum}} x\\right)}\\right)} k_{z}\\right)} c k_{z}}{\\omega}$"
      ],
      "text/plain": [
       "<IPython.core.display.Math object>"
      ]
     },
     "metadata": {},
     "output_type": "display_data"
    },
    {
     "name": "stdout",
     "output_type": "stream",
     "text": [
      "rot_H_bad_conductor_sol_x =\n"
     ]
    },
    {
     "data": {
      "text/latex": [
       "$\\displaystyle \\frac{{\\left(i \\, \\mathit{B1}_{y} K_{\\mathit{conductor}} e^{\\left(i \\, K_{\\mathit{conductor}} x\\right)} - i \\, \\mathit{B1}_{x} k_{y} e^{\\left(i \\, K_{\\mathit{conductor}} x\\right)}\\right)} c k_{y}}{\\mu \\omega} - \\frac{{\\left(-i \\, \\mathit{B1}_{z} K_{\\mathit{conductor}} e^{\\left(i \\, K_{\\mathit{conductor}} x\\right)} + i \\, \\mathit{B1}_{x} k_{z} e^{\\left(i \\, K_{\\mathit{conductor}} x\\right)}\\right)} c k_{z}}{\\mu \\omega}$"
      ],
      "text/plain": [
       "<IPython.core.display.Math object>"
      ]
     },
     "metadata": {},
     "output_type": "display_data"
    },
    {
     "name": "stdout",
     "output_type": "stream",
     "text": [
      "rot_H_inner_vacuum_sol_y =\n"
     ]
    },
    {
     "data": {
      "text/latex": [
       "$\\displaystyle \\frac{{\\left(i \\, {\\left(\\mathit{A2}_{z} e^{\\left(i \\, K_{\\mathit{vacuum}} x\\right)} + \\mathit{A1}_{z} e^{\\left(-i \\, K_{\\mathit{vacuum}} x\\right)}\\right)} k_{y} - i \\, {\\left(\\mathit{A2}_{y} e^{\\left(i \\, K_{\\mathit{vacuum}} x\\right)} + \\mathit{A1}_{y} e^{\\left(-i \\, K_{\\mathit{vacuum}} x\\right)}\\right)} k_{z}\\right)} c k_{z}}{\\omega} - \\frac{i \\, {\\left(\\mathit{A2}_{y} K_{\\mathit{vacuum}}^{2} e^{\\left(i \\, K_{\\mathit{vacuum}} x\\right)} + \\mathit{A1}_{y} K_{\\mathit{vacuum}}^{2} e^{\\left(-i \\, K_{\\mathit{vacuum}} x\\right)} + i \\, {\\left(i \\, \\mathit{A2}_{x} K_{\\mathit{vacuum}} e^{\\left(i \\, K_{\\mathit{vacuum}} x\\right)} - i \\, \\mathit{A1}_{x} K_{\\mathit{vacuum}} e^{\\left(-i \\, K_{\\mathit{vacuum}} x\\right)}\\right)} k_{y}\\right)} c}{\\omega}$"
      ],
      "text/plain": [
       "<IPython.core.display.Math object>"
      ]
     },
     "metadata": {},
     "output_type": "display_data"
    },
    {
     "name": "stdout",
     "output_type": "stream",
     "text": [
      "rot_H_bad_conductor_sol_y =\n"
     ]
    },
    {
     "data": {
      "text/latex": [
       "$\\displaystyle \\frac{{\\left(i \\, \\mathit{B1}_{z} k_{y} e^{\\left(i \\, K_{\\mathit{conductor}} x\\right)} - i \\, \\mathit{B1}_{y} k_{z} e^{\\left(i \\, K_{\\mathit{conductor}} x\\right)}\\right)} c k_{z}}{\\mu \\omega} - \\frac{i \\, {\\left(\\mathit{B1}_{y} K_{\\mathit{conductor}}^{2} e^{\\left(i \\, K_{\\mathit{conductor}} x\\right)} - \\mathit{B1}_{x} K_{\\mathit{conductor}} k_{y} e^{\\left(i \\, K_{\\mathit{conductor}} x\\right)}\\right)} c}{\\mu \\omega}$"
      ],
      "text/plain": [
       "<IPython.core.display.Math object>"
      ]
     },
     "metadata": {},
     "output_type": "display_data"
    },
    {
     "name": "stdout",
     "output_type": "stream",
     "text": [
      "rot_H_inner_vacuum_sol_z =\n"
     ]
    },
    {
     "data": {
      "text/latex": [
       "$\\displaystyle -\\frac{{\\left(i \\, {\\left(\\mathit{A2}_{z} e^{\\left(i \\, K_{\\mathit{vacuum}} x\\right)} + \\mathit{A1}_{z} e^{\\left(-i \\, K_{\\mathit{vacuum}} x\\right)}\\right)} k_{y} - i \\, {\\left(\\mathit{A2}_{y} e^{\\left(i \\, K_{\\mathit{vacuum}} x\\right)} + \\mathit{A1}_{y} e^{\\left(-i \\, K_{\\mathit{vacuum}} x\\right)}\\right)} k_{z}\\right)} c k_{y}}{\\omega} - \\frac{i \\, {\\left(\\mathit{A2}_{z} K_{\\mathit{vacuum}}^{2} e^{\\left(i \\, K_{\\mathit{vacuum}} x\\right)} + \\mathit{A1}_{z} K_{\\mathit{vacuum}}^{2} e^{\\left(-i \\, K_{\\mathit{vacuum}} x\\right)} + i \\, {\\left(i \\, \\mathit{A2}_{x} K_{\\mathit{vacuum}} e^{\\left(i \\, K_{\\mathit{vacuum}} x\\right)} - i \\, \\mathit{A1}_{x} K_{\\mathit{vacuum}} e^{\\left(-i \\, K_{\\mathit{vacuum}} x\\right)}\\right)} k_{z}\\right)} c}{\\omega}$"
      ],
      "text/plain": [
       "<IPython.core.display.Math object>"
      ]
     },
     "metadata": {},
     "output_type": "display_data"
    },
    {
     "name": "stdout",
     "output_type": "stream",
     "text": [
      "rot_H_bad_conductor_sol_z =\n"
     ]
    },
    {
     "data": {
      "text/latex": [
       "$\\displaystyle -\\frac{{\\left(i \\, \\mathit{B1}_{z} k_{y} e^{\\left(i \\, K_{\\mathit{conductor}} x\\right)} - i \\, \\mathit{B1}_{y} k_{z} e^{\\left(i \\, K_{\\mathit{conductor}} x\\right)}\\right)} c k_{y}}{\\mu \\omega} - \\frac{i \\, {\\left(\\mathit{B1}_{z} K_{\\mathit{conductor}}^{2} e^{\\left(i \\, K_{\\mathit{conductor}} x\\right)} - \\mathit{B1}_{x} K_{\\mathit{conductor}} k_{z} e^{\\left(i \\, K_{\\mathit{conductor}} x\\right)}\\right)} c}{\\mu \\omega}$"
      ],
      "text/plain": [
       "<IPython.core.display.Math object>"
      ]
     },
     "metadata": {},
     "output_type": "display_data"
    }
   ],
   "source": [
    "# уравнение Максвелла для тока смещения\n",
    "# rot_H   = - I * epsilon * omega / c * E\n",
    "# rot_H_x = diff(H_z, y) - diff(H_y, z)\n",
    "# rot_H_y = diff(H_x, z) - diff(H_z, x)\n",
    "# rot_H_z = diff(H_y, x) - diff(H_x, y)\n",
    "\n",
    "# rot_H_x = diff(H_z, y) - diff(H_y, z)\n",
    "rot_H_inner_vacuum_x  = I*k_y*H_inner_vacuum_f_z(x)  - I*k_z*H_inner_vacuum_f_y(x)\n",
    "rot_H_bad_conductor_x = I*k_y*H_bad_conductor_f_z(x) - I*k_z*H_bad_conductor_f_y(x)\n",
    "\n",
    "# rot_H_y = diff(H_x, z) - diff(H_z, x)\n",
    "rot_H_inner_vacuum_y  = I*k_z*H_inner_vacuum_f_x(x)  - diff(H_inner_vacuum_f_z(x), x)\n",
    "rot_H_bad_conductor_y = I*k_z*H_bad_conductor_f_x(x) - diff(H_bad_conductor_f_z(x), x)\n",
    "\n",
    "# rot_H_z = diff(H_y, x) - diff(H_x, y)\n",
    "rot_H_inner_vacuum_z  = diff(H_inner_vacuum_f_y(x) , x) - I*k_y*H_inner_vacuum_f_x(x)\n",
    "rot_H_bad_conductor_z = diff(H_bad_conductor_f_y(x), x) - I*k_y*H_bad_conductor_f_x(x)\n",
    "\n",
    "# rot_H_x = diff(H_z, y) - diff(H_y, z)\n",
    "rot_H_inner_vacuum_s_x  = I*k_y*H_inner_vacuum_s_z  - I*k_z*H_inner_vacuum_s_y\n",
    "rot_H_bad_conductor_s_x = I*k_y*H_bad_conductor_s_z - I*k_z*H_bad_conductor_s_y\n",
    "\n",
    "# rot_H_y = diff(H_x, z) - diff(H_z, x)\n",
    "rot_H_inner_vacuum_s_y  = I*k_z*H_inner_vacuum_s_x  - diff(H_inner_vacuum_s_z, x)\n",
    "rot_H_bad_conductor_s_y = I*k_z*H_bad_conductor_s_x - diff(H_bad_conductor_s_z, x)\n",
    "\n",
    "#H_inner_vacuum_s_z(x)  = c / (I*omega)   *(-I*sqrt(kappa_vacuum^2-k^2)*E_inner_vacuum_y (x) - I*k_y*E_inner_vacuum_x (x))\n",
    "#H_bad_conductor_s_z(x) = c / (I*omega*mu)*( I*sqrt(kappa       ^2-k^2)*E_bad_conductor_y(x) - I*k_y*E_bad_conductor_x(x))\n",
    "\n",
    "#print(diff(H_inner_vacuum_s_z, x) \\\n",
    "#      .substitute_function(diff(E_inner_vacuum_y(x), x), - I*sqrt(-k^2 + kappa_vacuum^2) * E_inner_vacuum_y(x)) \\\n",
    "#      .substitute_function(diff(E_inner_vacuum_x(x), x), - I*sqrt(-k^2 + kappa_vacuum^2) * E_inner_vacuum_x(x))) \\\n",
    "\n",
    "#rot_H_inner_vacuum_s_y  = I*k_z*H_inner_vacuum_s_x  - c / (I*omega)*(-I*sqrt(kappa_vacuum^2-k_z^2)*\n",
    "#                                                                     (-I*sqrt(kappa_vacuum^2-k_z^2))*\n",
    "#                                                                             E_inner_vacuum_y (x) \n",
    "#                                                                     - I*k_y*(-I*sqrt(kappa_vacuum^2-k_z^2))*\n",
    "#                                                                             E_inner_vacuum_x (x))\n",
    "#\n",
    "#rot_H_bad_conductor_s_y = I*k_z*H_bad_conductor_s_x - c / (I*omega*mu)*( I*sqrt(kappa^2-k_z^2)*\n",
    "#                                                                         I*sqrt(kappa^2-k_z^2)*\n",
    "#                                                                             E_bad_conductor_y(x) \n",
    "#                                                                       - I*k_y*\n",
    "#                                                                        I*sqrt(kappa^2-k_z^2)*\n",
    "#                                                                        E_bad_conductor_x(x))\n",
    "\n",
    "# rot_H_y = diff(H_x, z) - diff(H_z, x)\n",
    "rot_H_inner_vacuum_s_y  = I*k_z*H_inner_vacuum_s_x  - diff(H_inner_vacuum_s_z, x)\n",
    "rot_H_bad_conductor_s_y = I*k_z*H_bad_conductor_s_x - diff(H_bad_conductor_s_z, x)\n",
    "\n",
    "\n",
    "# rot_H_z = diff(H_y, x) - diff(H_x, y)\n",
    "rot_H_inner_vacuum_s_z  = diff(H_inner_vacuum_s_y , x) - I*k_y*H_inner_vacuum_s_x\n",
    "rot_H_bad_conductor_s_z = diff(H_bad_conductor_s_y, x) - I*k_y*H_bad_conductor_s_x\n",
    "\n",
    "rot_H_inner_vacuum_s_z  = diff(H_inner_vacuum_s_y, x)  - I*k_y*H_inner_vacuum_s_x\n",
    "rot_H_bad_conductor_s_z =  diff(H_bad_conductor_s_y, x) - I*k_y*H_bad_conductor_s_x\n",
    "\n",
    "\n",
    "# sol\n",
    "rot_H_inner_vacuum_sol_x  = I*k_y*H_inner_vacuum_sol_z (x) - I*k_z*H_inner_vacuum_sol_y (x)\n",
    "rot_H_bad_conductor_sol_x = I*k_y*H_bad_conductor_sol_z(x) - I*k_z*H_bad_conductor_sol_y(x)\n",
    "\n",
    "rot_H_inner_vacuum_sol_y  = I*k_z*H_inner_vacuum_sol_x (x) - diff(H_inner_vacuum_sol_z (x), x)\n",
    "rot_H_bad_conductor_sol_y = I*k_z*H_bad_conductor_sol_x(x) - diff(H_bad_conductor_sol_z(x), x)\n",
    "\n",
    "rot_H_inner_vacuum_sol_z  = diff(H_inner_vacuum_sol_y (x), x) - I*k_y*H_inner_vacuum_sol_x (x)\n",
    "rot_H_bad_conductor_sol_z = diff(H_bad_conductor_sol_y(x), x) - I*k_y*H_bad_conductor_sol_x(x)\n",
    "\n",
    "\n",
    "print (\"rot_H_inner_vacuum_x =\")\n",
    "display(Math(latex(rot_H_inner_vacuum_x)))\n",
    "print (\"rot_H_bad_conductor_x =\")\n",
    "display(Math(latex(rot_H_bad_conductor_x)))\n",
    "\n",
    "print (\"rot_H_inner_vacuum_y =\")\n",
    "display(Math(latex(rot_H_inner_vacuum_y)))\n",
    "print (\"rot_H_bad_conductor_y =\")\n",
    "display(Math(latex(rot_H_bad_conductor_y)))\n",
    "\n",
    "print (\"rot_H_inner_vacuum_z =\")\n",
    "display(Math(latex(rot_H_inner_vacuum_z)))\n",
    "print (\"rot_H_bad_conductor_z =\")\n",
    "display(Math(latex(rot_H_bad_conductor_z)))\n",
    "\n",
    "\n",
    "\n",
    "print (\"rot_H_inner_vacuum_s_x =\")\n",
    "display(Math(latex(rot_H_inner_vacuum_s_x)))\n",
    "print (\"rot_H_bad_conductor_s_x =\")\n",
    "display(Math(latex(rot_H_bad_conductor_s_x)))\n",
    "\n",
    "print (\"rot_H_inner_vacuum_s_y =\")\n",
    "display(Math(latex(rot_H_inner_vacuum_s_y)))\n",
    "print (\"rot_H_bad_conductor_s_y =\")\n",
    "display(Math(latex(rot_H_bad_conductor_s_y)))\n",
    "\n",
    "print (\"rot_H_inner_vacuum_s_z =\")\n",
    "display(Math(latex(rot_H_inner_vacuum_s_z)))\n",
    "print (\"rot_H_bad_conductor_s_z =\")\n",
    "display(Math(latex(rot_H_bad_conductor_s_z)))\n",
    "\n",
    "\n",
    "\n",
    "print (\"rot_H_inner_vacuum_sol_x =\")\n",
    "display(Math(latex(rot_H_inner_vacuum_sol_x)))\n",
    "print (\"rot_H_bad_conductor_sol_x =\")\n",
    "display(Math(latex(rot_H_bad_conductor_sol_x)))\n",
    "\n",
    "print (\"rot_H_inner_vacuum_sol_y =\")\n",
    "display(Math(latex(rot_H_inner_vacuum_sol_y)))\n",
    "print (\"rot_H_bad_conductor_sol_y =\")\n",
    "display(Math(latex(rot_H_bad_conductor_sol_y)))\n",
    "\n",
    "print (\"rot_H_inner_vacuum_sol_z =\")\n",
    "display(Math(latex(rot_H_inner_vacuum_sol_z)))\n",
    "print (\"rot_H_bad_conductor_sol_z =\")\n",
    "display(Math(latex(rot_H_bad_conductor_sol_z)))"
   ]
  },
  {
   "cell_type": "code",
   "execution_count": 21,
   "metadata": {},
   "outputs": [],
   "source": [
    "eq_rot_H_inner_vacuum_sol_x  = rot_H_inner_vacuum_sol_x  == -I*omega/c*E_inner_vacuum_sol_x(x)\n",
    "eq_rot_H_inner_vacuum_sol_y  = rot_H_inner_vacuum_sol_y  == -I*omega/c*E_inner_vacuum_sol_y(x)\n",
    "eq_rot_H_inner_vacuum_sol_z  = rot_H_inner_vacuum_sol_z  == -I*omega/c*E_inner_vacuum_sol_z(x)\n",
    "\n",
    "eq_rot_H_bad_conductor_sol_x = rot_H_bad_conductor_sol_x == -I*omega/c*epsilon*E_bad_conductor_sol_x(x)\n",
    "eq_rot_H_bad_conductor_sol_y = rot_H_bad_conductor_sol_y == -I*omega/c*epsilon*E_bad_conductor_sol_y(x)\n",
    "eq_rot_H_bad_conductor_sol_z = rot_H_bad_conductor_sol_z == -I*omega/c*epsilon*E_bad_conductor_sol_z(x)"
   ]
  },
  {
   "cell_type": "code",
   "execution_count": 22,
   "metadata": {},
   "outputs": [],
   "source": [
    "eq_rot_H_inner_vacuum_s_x  = rot_H_inner_vacuum_s_x  == -I*omega/c*E_inner_vacuum_x(x)\n",
    "eq_rot_H_inner_vacuum_s_y  = rot_H_inner_vacuum_s_y  == -I*omega/c*E_inner_vacuum_y(x)\n",
    "eq_rot_H_inner_vacuum_s_z  = rot_H_inner_vacuum_s_z  == -I*omega/c*E_inner_vacuum_z(x)\n",
    "\n",
    "eq_rot_H_bad_conductor_s_x = rot_H_bad_conductor_s_x == -I*omega/c*epsilon*E_bad_conductor_x(x)\n",
    "eq_rot_H_bad_conductor_s_y = rot_H_bad_conductor_s_y == -I*omega/c*epsilon*E_bad_conductor_y(x)\n",
    "eq_rot_H_bad_conductor_s_z = rot_H_bad_conductor_s_z == -I*omega/c*epsilon*E_bad_conductor_z(x)"
   ]
  },
  {
   "cell_type": "code",
   "execution_count": 23,
   "metadata": {},
   "outputs": [],
   "source": [
    "eq_rot_H_inner_vacuum_x  = rot_H_inner_vacuum_x  == -I*omega/c*E_inner_vacuum_x(x)\n",
    "eq_rot_H_inner_vacuum_y  = rot_H_inner_vacuum_y  == -I*omega/c*E_inner_vacuum_y(x)\n",
    "eq_rot_H_inner_vacuum_z  = rot_H_inner_vacuum_z  == -I*omega/c*E_inner_vacuum_z(x)\n",
    "\n",
    "eq_rot_H_bad_conductor_x = rot_H_bad_conductor_x == -I*omega/c*epsilon*E_bad_conductor_x(x)\n",
    "eq_rot_H_bad_conductor_y = rot_H_bad_conductor_y == -I*omega/c*epsilon*E_bad_conductor_y(x)\n",
    "eq_rot_H_bad_conductor_z = rot_H_bad_conductor_z == -I*omega/c*epsilon*E_bad_conductor_z(x)"
   ]
  },
  {
   "cell_type": "code",
   "execution_count": 24,
   "metadata": {},
   "outputs": [
    {
     "name": "stdout",
     "output_type": "stream",
     "text": [
      "eq_rot_H_inner_vacuum_s_x =\n"
     ]
    },
    {
     "data": {
      "text/latex": [
       "$\\displaystyle x \\ {\\mapsto}\\ \\frac{{\\left(-i \\, k_{y} E_{{\\rm inner}_{{\\rm vacuum}_{x}}}\\left(x\\right) + \\frac{\\partial}{\\partial x}E_{{\\rm inner}_{{\\rm vacuum}_{y}}}\\left(x\\right)\\right)} c k_{y}}{\\omega} - \\frac{{\\left(i \\, k_{z} E_{{\\rm inner}_{{\\rm vacuum}_{x}}}\\left(x\\right) - \\frac{\\partial}{\\partial x}E_{{\\rm inner}_{{\\rm vacuum}_{z}}}\\left(x\\right)\\right)} c k_{z}}{\\omega} = -\\frac{i \\, \\omega E_{{\\rm inner}_{{\\rm vacuum}_{x}}}\\left(x\\right)}{c}$"
      ],
      "text/plain": [
       "<IPython.core.display.Math object>"
      ]
     },
     "metadata": {},
     "output_type": "display_data"
    },
    {
     "name": "stdout",
     "output_type": "stream",
     "text": [
      "eq_rot_H_inner_vacuum_s_y =\n"
     ]
    },
    {
     "data": {
      "text/latex": [
       "$\\displaystyle x \\ {\\mapsto}\\ \\frac{{\\left(-i \\, k_{z} E_{{\\rm inner}_{{\\rm vacuum}_{y}}}\\left(x\\right) + i \\, k_{y} E_{{\\rm inner}_{{\\rm vacuum}_{z}}}\\left(x\\right)\\right)} c k_{z}}{\\omega} + \\frac{i \\, {\\left(-i \\, k_{y} \\frac{\\partial}{\\partial x}E_{{\\rm inner}_{{\\rm vacuum}_{x}}}\\left(x\\right) + \\frac{\\partial^{2}}{(\\partial x)^{2}}E_{{\\rm inner}_{{\\rm vacuum}_{y}}}\\left(x\\right)\\right)} c}{\\omega} = -\\frac{i \\, \\omega E_{{\\rm inner}_{{\\rm vacuum}_{y}}}\\left(x\\right)}{c}$"
      ],
      "text/plain": [
       "<IPython.core.display.Math object>"
      ]
     },
     "metadata": {},
     "output_type": "display_data"
    },
    {
     "name": "stdout",
     "output_type": "stream",
     "text": [
      "eq_rot_H_inner_vacuum_s_z =\n"
     ]
    },
    {
     "data": {
      "text/latex": [
       "$\\displaystyle x \\ {\\mapsto}\\ -\\frac{{\\left(-i \\, k_{z} E_{{\\rm inner}_{{\\rm vacuum}_{y}}}\\left(x\\right) + i \\, k_{y} E_{{\\rm inner}_{{\\rm vacuum}_{z}}}\\left(x\\right)\\right)} c k_{y}}{\\omega} - \\frac{i \\, {\\left(i \\, k_{z} \\frac{\\partial}{\\partial x}E_{{\\rm inner}_{{\\rm vacuum}_{x}}}\\left(x\\right) - \\frac{\\partial^{2}}{(\\partial x)^{2}}E_{{\\rm inner}_{{\\rm vacuum}_{z}}}\\left(x\\right)\\right)} c}{\\omega} = -\\frac{i \\, \\omega E_{{\\rm inner}_{{\\rm vacuum}_{z}}}\\left(x\\right)}{c}$"
      ],
      "text/plain": [
       "<IPython.core.display.Math object>"
      ]
     },
     "metadata": {},
     "output_type": "display_data"
    }
   ],
   "source": [
    "print (\"eq_rot_H_inner_vacuum_s_x =\")\n",
    "display(Math(latex(eq_rot_H_inner_vacuum_s_x.simplify())))\n",
    "\n",
    "print (\"eq_rot_H_inner_vacuum_s_y =\")\n",
    "display(Math(latex(eq_rot_H_inner_vacuum_s_y.simplify())))\n",
    "\n",
    "print (\"eq_rot_H_inner_vacuum_s_z =\")\n",
    "display(Math(latex(eq_rot_H_inner_vacuum_s_z.simplify())))"
   ]
  },
  {
   "cell_type": "code",
   "execution_count": 25,
   "metadata": {},
   "outputs": [
    {
     "name": "stdout",
     "output_type": "stream",
     "text": [
      "eq_rot_H_inner_vacuum_sol_x =\n"
     ]
    },
    {
     "data": {
      "text/latex": [
       "$\\displaystyle \\frac{{\\left(i \\, \\mathit{A2}_{y} K_{\\mathit{vacuum}} e^{\\left(i \\, K_{\\mathit{vacuum}} x\\right)} - i \\, \\mathit{A1}_{y} K_{\\mathit{vacuum}} e^{\\left(-i \\, K_{\\mathit{vacuum}} x\\right)} - i \\, {\\left(\\mathit{A2}_{x} e^{\\left(i \\, K_{\\mathit{vacuum}} x\\right)} + \\mathit{A1}_{x} e^{\\left(-i \\, K_{\\mathit{vacuum}} x\\right)}\\right)} k_{y}\\right)} c k_{y}}{\\omega} - \\frac{{\\left(-i \\, \\mathit{A2}_{z} K_{\\mathit{vacuum}} e^{\\left(i \\, K_{\\mathit{vacuum}} x\\right)} + i \\, \\mathit{A1}_{z} K_{\\mathit{vacuum}} e^{\\left(-i \\, K_{\\mathit{vacuum}} x\\right)} + i \\, {\\left(\\mathit{A2}_{x} e^{\\left(i \\, K_{\\mathit{vacuum}} x\\right)} + \\mathit{A1}_{x} e^{\\left(-i \\, K_{\\mathit{vacuum}} x\\right)}\\right)} k_{z}\\right)} c k_{z}}{\\omega} = -\\frac{i \\, {\\left(\\mathit{A2}_{x} e^{\\left(i \\, K_{\\mathit{vacuum}} x\\right)} + \\mathit{A1}_{x} e^{\\left(-i \\, K_{\\mathit{vacuum}} x\\right)}\\right)} \\omega}{c}$"
      ],
      "text/plain": [
       "<IPython.core.display.Math object>"
      ]
     },
     "metadata": {},
     "output_type": "display_data"
    },
    {
     "name": "stdout",
     "output_type": "stream",
     "text": [
      "eq_rot_H_inner_vacuum_sol_y =\n"
     ]
    },
    {
     "data": {
      "text/latex": [
       "$\\displaystyle \\frac{{\\left(i \\, {\\left(\\mathit{A2}_{z} e^{\\left(i \\, K_{\\mathit{vacuum}} x\\right)} + \\mathit{A1}_{z} e^{\\left(-i \\, K_{\\mathit{vacuum}} x\\right)}\\right)} k_{y} - i \\, {\\left(\\mathit{A2}_{y} e^{\\left(i \\, K_{\\mathit{vacuum}} x\\right)} + \\mathit{A1}_{y} e^{\\left(-i \\, K_{\\mathit{vacuum}} x\\right)}\\right)} k_{z}\\right)} c k_{z}}{\\omega} - \\frac{i \\, {\\left(\\mathit{A2}_{y} K_{\\mathit{vacuum}}^{2} e^{\\left(i \\, K_{\\mathit{vacuum}} x\\right)} + \\mathit{A1}_{y} K_{\\mathit{vacuum}}^{2} e^{\\left(-i \\, K_{\\mathit{vacuum}} x\\right)} + i \\, {\\left(i \\, \\mathit{A2}_{x} K_{\\mathit{vacuum}} e^{\\left(i \\, K_{\\mathit{vacuum}} x\\right)} - i \\, \\mathit{A1}_{x} K_{\\mathit{vacuum}} e^{\\left(-i \\, K_{\\mathit{vacuum}} x\\right)}\\right)} k_{y}\\right)} c}{\\omega} = -\\frac{i \\, {\\left(\\mathit{A2}_{y} e^{\\left(i \\, K_{\\mathit{vacuum}} x\\right)} + \\mathit{A1}_{y} e^{\\left(-i \\, K_{\\mathit{vacuum}} x\\right)}\\right)} \\omega}{c}$"
      ],
      "text/plain": [
       "<IPython.core.display.Math object>"
      ]
     },
     "metadata": {},
     "output_type": "display_data"
    },
    {
     "name": "stdout",
     "output_type": "stream",
     "text": [
      "eq_rot_H_inner_vacuum_sol_z =\n"
     ]
    },
    {
     "data": {
      "text/latex": [
       "$\\displaystyle -\\frac{{\\left(i \\, {\\left(\\mathit{A2}_{z} e^{\\left(i \\, K_{\\mathit{vacuum}} x\\right)} + \\mathit{A1}_{z} e^{\\left(-i \\, K_{\\mathit{vacuum}} x\\right)}\\right)} k_{y} - i \\, {\\left(\\mathit{A2}_{y} e^{\\left(i \\, K_{\\mathit{vacuum}} x\\right)} + \\mathit{A1}_{y} e^{\\left(-i \\, K_{\\mathit{vacuum}} x\\right)}\\right)} k_{z}\\right)} c k_{y}}{\\omega} - \\frac{i \\, {\\left(\\mathit{A2}_{z} K_{\\mathit{vacuum}}^{2} e^{\\left(i \\, K_{\\mathit{vacuum}} x\\right)} + \\mathit{A1}_{z} K_{\\mathit{vacuum}}^{2} e^{\\left(-i \\, K_{\\mathit{vacuum}} x\\right)} + i \\, {\\left(i \\, \\mathit{A2}_{x} K_{\\mathit{vacuum}} e^{\\left(i \\, K_{\\mathit{vacuum}} x\\right)} - i \\, \\mathit{A1}_{x} K_{\\mathit{vacuum}} e^{\\left(-i \\, K_{\\mathit{vacuum}} x\\right)}\\right)} k_{z}\\right)} c}{\\omega} = -\\frac{i \\, {\\left(\\mathit{A2}_{z} e^{\\left(i \\, K_{\\mathit{vacuum}} x\\right)} + \\mathit{A1}_{z} e^{\\left(-i \\, K_{\\mathit{vacuum}} x\\right)}\\right)} \\omega}{c}$"
      ],
      "text/plain": [
       "<IPython.core.display.Math object>"
      ]
     },
     "metadata": {},
     "output_type": "display_data"
    }
   ],
   "source": [
    "print (\"eq_rot_H_inner_vacuum_sol_x =\")\n",
    "display(Math(latex(eq_rot_H_inner_vacuum_sol_x.simplify())))\n",
    "\n",
    "print (\"eq_rot_H_inner_vacuum_sol_y =\")\n",
    "display(Math(latex(eq_rot_H_inner_vacuum_sol_y.simplify())))\n",
    "\n",
    "print (\"eq_rot_H_inner_vacuum_sol_z =\")\n",
    "display(Math(latex(eq_rot_H_inner_vacuum_sol_z.simplify())))"
   ]
  },
  {
   "cell_type": "raw",
   "metadata": {},
   "source": [
    "print (\"eq_rot_H_inner_vacuum_x =\")\n",
    "display(Math(latex(eq_rot_H_inner_vacuum_x.simplify())))\n",
    "\n",
    "print (\"eq_rot_H_inner_vacuum_y =\")\n",
    "display(Math(latex(eq_rot_H_inner_vacuum_y.simplify())))\n",
    "\n",
    "print (\"eq_rot_H_inner_vacuum_z =\")\n",
    "display(Math(latex(eq_rot_H_inner_vacuum_z.simplify())))"
   ]
  },
  {
   "cell_type": "code",
   "execution_count": 26,
   "metadata": {},
   "outputs": [
    {
     "name": "stdout",
     "output_type": "stream",
     "text": [
      "eq_rot_H_bad_conductor_sol_x =\n"
     ]
    },
    {
     "data": {
      "text/latex": [
       "$\\displaystyle \\frac{{\\left(i \\, \\mathit{B1}_{y} K_{\\mathit{conductor}} e^{\\left(i \\, K_{\\mathit{conductor}} x\\right)} - i \\, \\mathit{B1}_{x} k_{y} e^{\\left(i \\, K_{\\mathit{conductor}} x\\right)}\\right)} c k_{y}}{\\mu \\omega} - \\frac{{\\left(-i \\, \\mathit{B1}_{z} K_{\\mathit{conductor}} e^{\\left(i \\, K_{\\mathit{conductor}} x\\right)} + i \\, \\mathit{B1}_{x} k_{z} e^{\\left(i \\, K_{\\mathit{conductor}} x\\right)}\\right)} c k_{z}}{\\mu \\omega} = -\\frac{i \\, \\mathit{B1}_{x} \\epsilon \\omega e^{\\left(i \\, K_{\\mathit{conductor}} x\\right)}}{c}$"
      ],
      "text/plain": [
       "<IPython.core.display.Math object>"
      ]
     },
     "metadata": {},
     "output_type": "display_data"
    },
    {
     "name": "stdout",
     "output_type": "stream",
     "text": [
      "eq_rot_H_bad_conductor_sol_y =\n"
     ]
    },
    {
     "data": {
      "text/latex": [
       "$\\displaystyle \\frac{{\\left(i \\, \\mathit{B1}_{z} k_{y} e^{\\left(i \\, K_{\\mathit{conductor}} x\\right)} - i \\, \\mathit{B1}_{y} k_{z} e^{\\left(i \\, K_{\\mathit{conductor}} x\\right)}\\right)} c k_{z}}{\\mu \\omega} - \\frac{i \\, {\\left(\\mathit{B1}_{y} K_{\\mathit{conductor}}^{2} e^{\\left(i \\, K_{\\mathit{conductor}} x\\right)} - \\mathit{B1}_{x} K_{\\mathit{conductor}} k_{y} e^{\\left(i \\, K_{\\mathit{conductor}} x\\right)}\\right)} c}{\\mu \\omega} = -\\frac{i \\, \\mathit{B1}_{y} \\epsilon \\omega e^{\\left(i \\, K_{\\mathit{conductor}} x\\right)}}{c}$"
      ],
      "text/plain": [
       "<IPython.core.display.Math object>"
      ]
     },
     "metadata": {},
     "output_type": "display_data"
    },
    {
     "name": "stdout",
     "output_type": "stream",
     "text": [
      "eq_rot_H_bad_conductor_sol_z =\n"
     ]
    },
    {
     "data": {
      "text/latex": [
       "$\\displaystyle -\\frac{{\\left(i \\, \\mathit{B1}_{z} k_{y} e^{\\left(i \\, K_{\\mathit{conductor}} x\\right)} - i \\, \\mathit{B1}_{y} k_{z} e^{\\left(i \\, K_{\\mathit{conductor}} x\\right)}\\right)} c k_{y}}{\\mu \\omega} - \\frac{i \\, {\\left(\\mathit{B1}_{z} K_{\\mathit{conductor}}^{2} e^{\\left(i \\, K_{\\mathit{conductor}} x\\right)} - \\mathit{B1}_{x} K_{\\mathit{conductor}} k_{z} e^{\\left(i \\, K_{\\mathit{conductor}} x\\right)}\\right)} c}{\\mu \\omega} = -\\frac{i \\, \\mathit{B1}_{z} \\epsilon \\omega e^{\\left(i \\, K_{\\mathit{conductor}} x\\right)}}{c}$"
      ],
      "text/plain": [
       "<IPython.core.display.Math object>"
      ]
     },
     "metadata": {},
     "output_type": "display_data"
    }
   ],
   "source": [
    "print (\"eq_rot_H_bad_conductor_sol_x =\")\n",
    "display(Math(latex(eq_rot_H_bad_conductor_sol_x.simplify())))\n",
    "\n",
    "print (\"eq_rot_H_bad_conductor_sol_y =\")\n",
    "display(Math(latex(eq_rot_H_bad_conductor_sol_y.simplify())))\n",
    "\n",
    "print (\"eq_rot_H_bad_conductor_sol_z =\")\n",
    "display(Math(latex(eq_rot_H_bad_conductor_sol_z.simplify())))"
   ]
  },
  {
   "cell_type": "raw",
   "metadata": {},
   "source": [
    "print (\"eq_rot_H_bad_conductor_x =\")\n",
    "display(Math(latex(eq_rot_H_bad_conductor_x.simplify())))\n",
    "\n",
    "print (\"eq_rot_H_bad_conductor_y =\")\n",
    "display(Math(latex(eq_rot_H_bad_conductor_y.simplify())))\n",
    "\n",
    "print (\"eq_rot_H_bad_conductor_z =\")\n",
    "display(Math(latex(eq_rot_H_bad_conductor_z.simplify())))"
   ]
  },
  {
   "cell_type": "code",
   "execution_count": 27,
   "metadata": {},
   "outputs": [
    {
     "name": "stdout",
     "output_type": "stream",
     "text": [
      "eq_rot_H_inner_vacuum_x =\n"
     ]
    },
    {
     "data": {
      "text/latex": [
       "$\\displaystyle \\left[E_{{\\rm inner}_{{\\rm vacuum}_{x}}}\\left(x\\right) = \\frac{k_{z} H_{{\\rm inner}_{{\\rm vacuum}_{f_{y}}}}\\left(x\\right) - k_{y} H_{{\\rm inner}_{{\\rm vacuum}_{f_{z}}}}\\left(x\\right)}{\\kappa_{\\mathit{vacuum}}}\\right]$"
      ],
      "text/plain": [
       "<IPython.core.display.Math object>"
      ]
     },
     "metadata": {},
     "output_type": "display_data"
    },
    {
     "name": "stdout",
     "output_type": "stream",
     "text": [
      "H_inner_vacuum_y  (x) =\n"
     ]
    },
    {
     "data": {
      "text/latex": [
       "$\\displaystyle H_{\\mathit{inner}_{\\mathit{vacuum}_{y}}}$"
      ],
      "text/plain": [
       "<IPython.core.display.Math object>"
      ]
     },
     "metadata": {},
     "output_type": "display_data"
    },
    {
     "name": "stdout",
     "output_type": "stream",
     "text": [
      "eq_rot_H_bad_conductor_x =\n"
     ]
    },
    {
     "data": {
      "text/latex": [
       "$\\displaystyle \\left[E_{{\\rm bad}_{{\\rm conductor}_{x}}}\\left(x\\right) = \\frac{\\sqrt{\\epsilon \\mu} k_{z} H_{{\\rm bad}_{{\\rm conductor}_{f_{y}}}}\\left(x\\right) - \\sqrt{\\epsilon \\mu} k_{y} H_{{\\rm bad}_{{\\rm conductor}_{f_{z}}}}\\left(x\\right)}{\\epsilon \\kappa}\\right]$"
      ],
      "text/plain": [
       "<IPython.core.display.Math object>"
      ]
     },
     "metadata": {},
     "output_type": "display_data"
    },
    {
     "name": "stdout",
     "output_type": "stream",
     "text": [
      "H_bad_conductor_y (x) =\n"
     ]
    },
    {
     "data": {
      "text/latex": [
       "$\\displaystyle H_{\\mathit{bad}_{\\mathit{conductor}_{y}}}$"
      ],
      "text/plain": [
       "<IPython.core.display.Math object>"
      ]
     },
     "metadata": {},
     "output_type": "display_data"
    }
   ],
   "source": [
    "print (\"eq_rot_H_inner_vacuum_x =\")\n",
    "eq_rot_H_inner_vacuum_x_subs = eq_rot_H_inner_vacuum_x.subs(omega==c*kappa_vacuum/sqrt(epsilon_0*mu_0))\n",
    "eq_rot_H_inner_vacuum_x_subs_solve = solve(eq_rot_H_inner_vacuum_x_subs, E_inner_vacuum_x(x))\n",
    "display(Math(latex(eq_rot_H_inner_vacuum_x_subs_solve)))\n",
    "\n",
    "print (\"H_inner_vacuum_y  (x) =\")\n",
    "H_inner_vacuum_subs_y = H_inner_vacuum_y.subs(omega==c*kappa_vacuum/sqrt(epsilon_0*mu_0), eq_rot_H_inner_vacuum_x_subs_solve)\n",
    "display(Math(latex(H_inner_vacuum_subs_y)))\n",
    "\n",
    "print (\"eq_rot_H_bad_conductor_x =\")\n",
    "eq_rot_H_bad_conductor_x_subs = eq_rot_H_bad_conductor_x.subs(omega==c*kappa/sqrt(epsilon*mu))\n",
    "eq_rot_H_bad_conductor_x_subs_solve = solve(eq_rot_H_bad_conductor_x_subs, E_bad_conductor_x(x))\n",
    "display(Math(latex(eq_rot_H_bad_conductor_x_subs_solve)))\n",
    "\n",
    "print (\"H_bad_conductor_y (x) =\")\n",
    "H_bad_conductor_subs_y = H_bad_conductor_y.subs(omega==c*kappa/sqrt(epsilon*mu), eq_rot_H_bad_conductor_x_subs_solve)\n",
    "display(Math(latex(H_bad_conductor_subs_y)))"
   ]
  },
  {
   "cell_type": "code",
   "execution_count": 28,
   "metadata": {},
   "outputs": [
    {
     "data": {
      "text/latex": [
       "$\\displaystyle \\left[\\kappa_{\\mathit{vacuum}} = -\\frac{\\omega}{c}, \\kappa_{\\mathit{vacuum}} = \\frac{\\omega}{c}\\right]$"
      ],
      "text/plain": [
       "<IPython.core.display.Math object>"
      ]
     },
     "metadata": {},
     "output_type": "display_data"
    }
   ],
   "source": [
    "res = solve(eq_kappa_inner_vacuum, kappa_vacuum)\n",
    "display(Math(latex(res)))"
   ]
  },
  {
   "cell_type": "code",
   "execution_count": 29,
   "metadata": {},
   "outputs": [
    {
     "data": {
      "text/plain": [
       "A1_z*e^(I*K_vacuum*a) + A2_z*e^(-I*K_vacuum*a)"
      ]
     },
     "execution_count": 29,
     "metadata": {},
     "output_type": "execute_result"
    }
   ],
   "source": [
    "E_inner_vacuum_sol_z(-a)"
   ]
  },
  {
   "cell_type": "code",
   "execution_count": null,
   "metadata": {},
   "outputs": [],
   "source": []
  },
  {
   "cell_type": "code",
   "execution_count": 30,
   "metadata": {},
   "outputs": [],
   "source": [
    "# выражения для электрического поля\n",
    "# в вакууме внутри резонатора \n",
    "#    E_inner_vacuum_z (x) = A1_z_re*cos(sqrt(kappa_vacuum^2-k_z^2)*x) + A1_z_im*sin(sqrt(kappa_vacuum^2-k_z^2)*x)\n",
    "#    E_inner_vacuum_x (x) = A1_x_re*cos(sqrt(kappa_vacuum^2-k_z^2)*x) + A1_x_im*sin(sqrt(kappa_vacuum^2-k_z^2)*x)\n",
    "#    E_inner_vacuum_y (x) = A1_y_re*cos(sqrt(kappa_vacuum^2-k_z^2)*x) + A1_y_im*sin(sqrt(kappa_vacuum^2-k_z^2)*x)\n"
   ]
  },
  {
   "cell_type": "code",
   "execution_count": null,
   "metadata": {},
   "outputs": [],
   "source": []
  },
  {
   "cell_type": "code",
   "execution_count": 31,
   "metadata": {},
   "outputs": [
    {
     "name": "stdout",
     "output_type": "stream",
     "text": [
      "eqEz_0 = \n"
     ]
    },
    {
     "data": {
      "text/latex": [
       "$\\displaystyle \\mathit{A1}_{z} e^{\\left(i \\, K_{\\mathit{vacuum}} a\\right)} + \\mathit{A2}_{z} e^{\\left(-i \\, K_{\\mathit{vacuum}} a\\right)} = 0$"
      ],
      "text/plain": [
       "<IPython.core.display.Math object>"
      ]
     },
     "metadata": {},
     "output_type": "display_data"
    },
    {
     "name": "stdout",
     "output_type": "stream",
     "text": [
      "eqEy_0 = \n"
     ]
    },
    {
     "data": {
      "text/latex": [
       "$\\displaystyle \\mathit{A1}_{y} e^{\\left(i \\, K_{\\mathit{vacuum}} a\\right)} + \\mathit{A2}_{y} e^{\\left(-i \\, K_{\\mathit{vacuum}} a\\right)} = 0$"
      ],
      "text/plain": [
       "<IPython.core.display.Math object>"
      ]
     },
     "metadata": {},
     "output_type": "display_data"
    }
   ],
   "source": [
    "# граничные условия на границе идеального проводника и вакуума внутри резонатора\n",
    "# тангенциальная компонента электрического поля\n",
    "# eqEz_0 = solve(E_inner_vacuum_sol_z(-a) == 0, A1_z)\n",
    "eqEz_0 = E_inner_vacuum_sol_z(-a) == 0\n",
    "# E_inner_vacuum_z (x) = A1_z_re*cos(sqrt(kappa_vacuum^2-k_z^2)*x) + A1_z_im*sin(sqrt(kappa_vacuum^2-k^2)*x)\n",
    "# eqEz_0 = A1_z_re*cos(sqrt(kappa_vacuum^2-k_z^2)*x) + A1_z_im*sin(sqrt(kappa_vacuum^2-k_z^2)*x) == 0\n",
    "\n",
    "print (\"eqEz_0 = \")\n",
    "display(Math(latex(eqEz_0)))\n",
    "\n",
    "if 0 != A1_y:\n",
    "    #eqEy_0 = solve(E_inner_vacuum_sol_y(-a) == 0, A1_y)\n",
    "    eqEy_0 = E_inner_vacuum_sol_y(-a) == 0\n",
    "    print (\"eqEy_0 = \")\n",
    "    display(Math(latex(eqEy_0)))"
   ]
  },
  {
   "cell_type": "code",
   "execution_count": 32,
   "metadata": {},
   "outputs": [
    {
     "name": "stdout",
     "output_type": "stream",
     "text": [
      "eqEz_a = \n"
     ]
    },
    {
     "data": {
      "text/latex": [
       "$\\displaystyle \\mathit{B1}_{z} = \\mathit{A1}_{z} + \\mathit{A2}_{z}$"
      ],
      "text/plain": [
       "<IPython.core.display.Math object>"
      ]
     },
     "metadata": {},
     "output_type": "display_data"
    },
    {
     "name": "stdout",
     "output_type": "stream",
     "text": [
      "eqEy_a = \n"
     ]
    },
    {
     "data": {
      "text/latex": [
       "$\\displaystyle \\mathit{B1}_{y} = \\mathit{A1}_{y} + \\mathit{A2}_{y}$"
      ],
      "text/plain": [
       "<IPython.core.display.Math object>"
      ]
     },
     "metadata": {},
     "output_type": "display_data"
    }
   ],
   "source": [
    "# граничные условия на границе вакуума внутри резонатора и проводящего металла с потерями\n",
    "# тангенциальная компонента электрического поля\n",
    "eqEz_a = E_bad_conductor_sol_z(0) == E_inner_vacuum_sol_z(0)\n",
    "eqEy_a = E_bad_conductor_sol_y(0) == E_inner_vacuum_sol_y(0)\n",
    "\n",
    "print (\"eqEz_a = \")\n",
    "display(Math(latex(eqEz_a)))\n",
    "print (\"eqEy_a = \")\n",
    "display(Math(latex(eqEy_a)))"
   ]
  },
  {
   "cell_type": "code",
   "execution_count": 33,
   "metadata": {},
   "outputs": [
    {
     "name": "stdout",
     "output_type": "stream",
     "text": [
      "eqDx_a =\n"
     ]
    },
    {
     "data": {
      "text/latex": [
       "$\\displaystyle \\mathit{A1}_{x} + \\mathit{A2}_{x} = \\mathit{B1}_{x} {\\left(\\epsilon + \\frac{4 i \\, \\pi \\sigma}{\\omega}\\right)}$"
      ],
      "text/plain": [
       "<IPython.core.display.Math object>"
      ]
     },
     "metadata": {},
     "output_type": "display_data"
    }
   ],
   "source": [
    "# нормальная компонента электрического смещения\n",
    "eqDx_a = E_inner_vacuum_sol_x(0) == E_bad_conductor_sol_x(0) * epsilon_complex\n",
    "\n",
    "print (\"eqDx_a =\")\n",
    "display(Math(latex(eqDx_a)))"
   ]
  },
  {
   "cell_type": "code",
   "execution_count": 34,
   "metadata": {},
   "outputs": [
    {
     "name": "stdout",
     "output_type": "stream",
     "text": [
      "H_bad_conductor_sol_z (0), H_inner_vacuum_sol_z (x) =\n"
     ]
    },
    {
     "data": {
      "text/latex": [
       "$\\displaystyle \\left[-\\frac{i \\, {\\left(i \\, \\mathit{B1}_{y} K_{\\mathit{conductor}} e^{\\left(i \\, K_{\\mathit{conductor}} x\\right)} - i \\, \\mathit{B1}_{x} k_{y} e^{\\left(i \\, K_{\\mathit{conductor}} x\\right)}\\right)} c}{\\mu \\omega}, -\\frac{i \\, {\\left(i \\, \\mathit{A2}_{y} K_{\\mathit{vacuum}} e^{\\left(i \\, K_{\\mathit{vacuum}} x\\right)} - i \\, \\mathit{A1}_{y} K_{\\mathit{vacuum}} e^{\\left(-i \\, K_{\\mathit{vacuum}} x\\right)} - i \\, {\\left(\\mathit{A2}_{x} e^{\\left(i \\, K_{\\mathit{vacuum}} x\\right)} + \\mathit{A1}_{x} e^{\\left(-i \\, K_{\\mathit{vacuum}} x\\right)}\\right)} k_{y}\\right)} c}{\\omega}\\right]$"
      ],
      "text/plain": [
       "<IPython.core.display.Math object>"
      ]
     },
     "metadata": {},
     "output_type": "display_data"
    },
    {
     "name": "stdout",
     "output_type": "stream",
     "text": [
      "H_bad_conductor_sol_y (0), H_inner_vacuum_sol_y (x) =\n"
     ]
    },
    {
     "data": {
      "text/latex": [
       "$\\displaystyle \\left[-\\frac{i \\, {\\left(-i \\, \\mathit{B1}_{z} K_{\\mathit{conductor}} e^{\\left(i \\, K_{\\mathit{conductor}} x\\right)} + i \\, \\mathit{B1}_{x} k_{z} e^{\\left(i \\, K_{\\mathit{conductor}} x\\right)}\\right)} c}{\\mu \\omega}, -\\frac{i \\, {\\left(-i \\, \\mathit{A2}_{z} K_{\\mathit{vacuum}} e^{\\left(i \\, K_{\\mathit{vacuum}} x\\right)} + i \\, \\mathit{A1}_{z} K_{\\mathit{vacuum}} e^{\\left(-i \\, K_{\\mathit{vacuum}} x\\right)} + i \\, {\\left(\\mathit{A2}_{x} e^{\\left(i \\, K_{\\mathit{vacuum}} x\\right)} + \\mathit{A1}_{x} e^{\\left(-i \\, K_{\\mathit{vacuum}} x\\right)}\\right)} k_{z}\\right)} c}{\\omega}\\right]$"
      ],
      "text/plain": [
       "<IPython.core.display.Math object>"
      ]
     },
     "metadata": {},
     "output_type": "display_data"
    },
    {
     "name": "stdout",
     "output_type": "stream",
     "text": [
      "sqrt(mu/epsilon)*H_bad_conductor_sol_z (0), sqrt(mu/epsilon)*H_inner_vacuum_sol_z (x) =\n"
     ]
    },
    {
     "data": {
      "text/latex": [
       "$\\displaystyle \\left[-\\frac{i \\, {\\left(i \\, \\mathit{B1}_{y} K_{\\mathit{conductor}} e^{\\left(i \\, K_{\\mathit{conductor}} x\\right)} - i \\, \\mathit{B1}_{x} k_{y} e^{\\left(i \\, K_{\\mathit{conductor}} x\\right)}\\right)} c \\sqrt{\\frac{\\mu}{\\epsilon}}}{\\mu \\omega}, -\\frac{i \\, {\\left(i \\, \\mathit{A2}_{y} K_{\\mathit{vacuum}} e^{\\left(i \\, K_{\\mathit{vacuum}} x\\right)} - i \\, \\mathit{A1}_{y} K_{\\mathit{vacuum}} e^{\\left(-i \\, K_{\\mathit{vacuum}} x\\right)} - i \\, {\\left(\\mathit{A2}_{x} e^{\\left(i \\, K_{\\mathit{vacuum}} x\\right)} + \\mathit{A1}_{x} e^{\\left(-i \\, K_{\\mathit{vacuum}} x\\right)}\\right)} k_{y}\\right)} c}{\\omega}\\right]$"
      ],
      "text/plain": [
       "<IPython.core.display.Math object>"
      ]
     },
     "metadata": {},
     "output_type": "display_data"
    },
    {
     "name": "stdout",
     "output_type": "stream",
     "text": [
      "H_bad_conductor_y (0), H_inner_vacuum_y (0) =\n"
     ]
    },
    {
     "data": {
      "text/latex": [
       "$\\displaystyle \\left[-\\frac{i \\, {\\left(-i \\, \\mathit{B1}_{z} K_{\\mathit{conductor}} e^{\\left(i \\, K_{\\mathit{conductor}} x\\right)} + i \\, \\mathit{B1}_{x} k_{z} e^{\\left(i \\, K_{\\mathit{conductor}} x\\right)}\\right)} c \\sqrt{\\frac{\\mu}{\\epsilon}}}{\\mu \\omega}, -\\frac{i \\, {\\left(-i \\, \\mathit{A2}_{z} K_{\\mathit{vacuum}} e^{\\left(i \\, K_{\\mathit{vacuum}} x\\right)} + i \\, \\mathit{A1}_{z} K_{\\mathit{vacuum}} e^{\\left(-i \\, K_{\\mathit{vacuum}} x\\right)} + i \\, {\\left(\\mathit{A2}_{x} e^{\\left(i \\, K_{\\mathit{vacuum}} x\\right)} + \\mathit{A1}_{x} e^{\\left(-i \\, K_{\\mathit{vacuum}} x\\right)}\\right)} k_{z}\\right)} c}{\\omega}\\right]$"
      ],
      "text/plain": [
       "<IPython.core.display.Math object>"
      ]
     },
     "metadata": {},
     "output_type": "display_data"
    },
    {
     "name": "stdout",
     "output_type": "stream",
     "text": [
      "eqEz_0, eqEy_0 = \n"
     ]
    },
    {
     "data": {
      "text/latex": [
       "$\\displaystyle \\left[\\mathit{A1}_{z} e^{\\left(i \\, K_{\\mathit{vacuum}} a\\right)} + \\mathit{A2}_{z} e^{\\left(-i \\, K_{\\mathit{vacuum}} a\\right)} = 0, \\mathit{A1}_{y} e^{\\left(i \\, K_{\\mathit{vacuum}} a\\right)} + \\mathit{A2}_{y} e^{\\left(-i \\, K_{\\mathit{vacuum}} a\\right)} = 0\\right]$"
      ],
      "text/plain": [
       "<IPython.core.display.Math object>"
      ]
     },
     "metadata": {},
     "output_type": "display_data"
    },
    {
     "name": "stdout",
     "output_type": "stream",
     "text": [
      "eqHz_a =\n"
     ]
    },
    {
     "data": {
      "text/latex": [
       "$\\displaystyle -\\frac{i \\, {\\left(i \\, \\mathit{B1}_{y} K_{\\mathit{conductor}} - i \\, \\mathit{B1}_{x} k_{y}\\right)} c}{\\mu \\omega} = -\\frac{i \\, {\\left(-i \\, \\mathit{A1}_{y} K_{\\mathit{vacuum}} + i \\, \\mathit{A2}_{y} K_{\\mathit{vacuum}} - i \\, {\\left(\\mathit{A1}_{x} + \\mathit{A2}_{x}\\right)} k_{y}\\right)} c}{\\omega}$"
      ],
      "text/plain": [
       "<IPython.core.display.Math object>"
      ]
     },
     "metadata": {},
     "output_type": "display_data"
    },
    {
     "name": "stdout",
     "output_type": "stream",
     "text": [
      "eqHy_a =\n"
     ]
    },
    {
     "data": {
      "text/latex": [
       "$\\displaystyle -\\frac{i \\, {\\left(-i \\, \\mathit{B1}_{z} K_{\\mathit{conductor}} + i \\, \\mathit{B1}_{x} k_{z}\\right)} c}{\\mu \\omega} = -\\frac{i \\, {\\left(i \\, \\mathit{A1}_{z} K_{\\mathit{vacuum}} - i \\, \\mathit{A2}_{z} K_{\\mathit{vacuum}} + i \\, {\\left(\\mathit{A1}_{x} + \\mathit{A2}_{x}\\right)} k_{z}\\right)} c}{\\omega}$"
      ],
      "text/plain": [
       "<IPython.core.display.Math object>"
      ]
     },
     "metadata": {},
     "output_type": "display_data"
    }
   ],
   "source": [
    "# тангенциальная компонента напряженности магнитного поля\n",
    "eqHz_a  = (H_bad_conductor_sol_z(0)  == H_inner_vacuum_sol_z(0)).subs(eqEz_0, eqEy_0)\n",
    "eqHy_a  = (H_bad_conductor_sol_y(0)  == H_inner_vacuum_sol_y(0)).subs(eqEy_0, eqEz_0)\n",
    "\n",
    "print (\"H_bad_conductor_sol_z (0), H_inner_vacuum_sol_z (x) =\")\n",
    "display(Math(latex([H_bad_conductor_sol_z (x), H_inner_vacuum_sol_z (x)])))\n",
    "\n",
    "print (\"H_bad_conductor_sol_y (0), H_inner_vacuum_sol_y (x) =\")\n",
    "display(Math(latex([H_bad_conductor_sol_y (x), H_inner_vacuum_sol_y (x)])))\n",
    "\n",
    "print (\"sqrt(mu/epsilon)*H_bad_conductor_sol_z (0), sqrt(mu/epsilon)*H_inner_vacuum_sol_z (x) =\")\n",
    "display(Math(latex([sqrt(mu/epsilon)*H_bad_conductor_sol_z (x), sqrt(1/epsilon_0)*H_inner_vacuum_sol_z (x)])))\n",
    "\n",
    "print (\"H_bad_conductor_y (0), H_inner_vacuum_y (0) =\")\n",
    "display(Math(latex([sqrt(mu/epsilon)*H_bad_conductor_sol_y (x), sqrt(1/epsilon_0)*H_inner_vacuum_sol_y (x)])))\n",
    "\n",
    "print (\"eqEz_0, eqEy_0 = \")\n",
    "display(Math(latex([eqEz_0, eqEy_0])))\n",
    "\n",
    "\n",
    "print (\"eqHz_a =\")\n",
    "display(Math(latex(eqHz_a)))\n",
    "print (\"eqHy_a =\")\n",
    "display(Math(latex(eqHy_a)))"
   ]
  },
  {
   "cell_type": "code",
   "execution_count": 35,
   "metadata": {},
   "outputs": [
    {
     "name": "stdout",
     "output_type": "stream",
     "text": [
      "eqBx_a =\n"
     ]
    },
    {
     "data": {
      "text/latex": [
       "$\\displaystyle -\\frac{i \\, {\\left(i \\, \\mathit{B1}_{z} k_{y} - i \\, \\mathit{B1}_{y} k_{z}\\right)} c}{\\omega} = -\\frac{i \\, {\\left(i \\, {\\left(\\mathit{A1}_{z} + \\mathit{A2}_{z}\\right)} k_{y} - i \\, {\\left(\\mathit{A1}_{y} + \\mathit{A2}_{y}\\right)} k_{z}\\right)} c}{\\omega}$"
      ],
      "text/plain": [
       "<IPython.core.display.Math object>"
      ]
     },
     "metadata": {},
     "output_type": "display_data"
    }
   ],
   "source": [
    "# нормальная компонента индукции магнитного поля\n",
    "eqBx_a  = mu * H_bad_conductor_sol_x (0)  == H_inner_vacuum_sol_x (0)\n",
    "\n",
    "print (\"eqBx_a =\")\n",
    "display(Math(latex(eqBx_a)))"
   ]
  },
  {
   "cell_type": "code",
   "execution_count": 36,
   "metadata": {},
   "outputs": [
    {
     "name": "stdout",
     "output_type": "stream",
     "text": [
      "eq_rot_H_inner_vacuum_y rot H (E_y) =\n",
      "I*k_z*H_inner_vacuum_f_x(x) - diff(H_inner_vacuum_f_z(x), x) == -I*omega*E_inner_vacuum_y(x)/c\n"
     ]
    },
    {
     "data": {
      "text/latex": [
       "$\\displaystyle i \\, k_{z} H_{{\\rm inner}_{{\\rm vacuum}_{f_{x}}}}\\left(x\\right) - \\frac{\\partial}{\\partial x}H_{{\\rm inner}_{{\\rm vacuum}_{f_{z}}}}\\left(x\\right) = -\\frac{i \\, \\omega E_{{\\rm inner}_{{\\rm vacuum}_{y}}}\\left(x\\right)}{c}$"
      ],
      "text/plain": [
       "<IPython.core.display.Math object>"
      ]
     },
     "metadata": {},
     "output_type": "display_data"
    },
    {
     "name": "stdout",
     "output_type": "stream",
     "text": [
      "eq_rot_H_inner_vacuum_y_subs_solve rot H (E_y) =\n",
      "kappa_vacuum*E_inner_vacuum_y(x) == -k_z*H_inner_vacuum_f_x(x) - I*diff(H_inner_vacuum_f_z(x), x)\n"
     ]
    },
    {
     "data": {
      "text/latex": [
       "$\\displaystyle \\kappa_{\\mathit{vacuum}} E_{{\\rm inner}_{{\\rm vacuum}_{y}}}\\left(x\\right) = -k_{z} H_{{\\rm inner}_{{\\rm vacuum}_{f_{x}}}}\\left(x\\right) - i \\, \\frac{\\partial}{\\partial x}H_{{\\rm inner}_{{\\rm vacuum}_{f_{z}}}}\\left(x\\right)$"
      ],
      "text/plain": [
       "<IPython.core.display.Math object>"
      ]
     },
     "metadata": {},
     "output_type": "display_data"
    },
    {
     "name": "stdout",
     "output_type": "stream",
     "text": [
      "eq_rot_E_inner_vacuum_x_subs (x) rot E =\n",
      "kappa_vacuum*H_inner_vacuum_f_x(x) == -k_z*E_inner_vacuum_y(x) + k_y*E_inner_vacuum_z(x)\n"
     ]
    },
    {
     "data": {
      "text/latex": [
       "$\\displaystyle \\kappa_{\\mathit{vacuum}} H_{{\\rm inner}_{{\\rm vacuum}_{f_{x}}}}\\left(x\\right) = -k_{z} E_{{\\rm inner}_{{\\rm vacuum}_{y}}}\\left(x\\right) + k_{y} E_{{\\rm inner}_{{\\rm vacuum}_{z}}}\\left(x\\right)$"
      ],
      "text/plain": [
       "<IPython.core.display.Math object>"
      ]
     },
     "metadata": {},
     "output_type": "display_data"
    },
    {
     "name": "stdout",
     "output_type": "stream",
     "text": [
      "eq_rot_H_inner_vacuum_y_subs_solve_m =\n",
      "kappa_vacuum*E_inner_vacuum_y(x) + k_z*H_inner_vacuum_f_x(x) == -I*diff(H_inner_vacuum_f_z(x), x)\n"
     ]
    },
    {
     "data": {
      "text/latex": [
       "$\\displaystyle \\kappa_{\\mathit{vacuum}} E_{{\\rm inner}_{{\\rm vacuum}_{y}}}\\left(x\\right) + k_{z} H_{{\\rm inner}_{{\\rm vacuum}_{f_{x}}}}\\left(x\\right) = -i \\, \\frac{\\partial}{\\partial x}H_{{\\rm inner}_{{\\rm vacuum}_{f_{z}}}}\\left(x\\right)$"
      ],
      "text/plain": [
       "<IPython.core.display.Math object>"
      ]
     },
     "metadata": {},
     "output_type": "display_data"
    },
    {
     "name": "stdout",
     "output_type": "stream",
     "text": [
      "eq_rot_E_inner_vacuum_x_subs_m =\n",
      "k_z*E_inner_vacuum_y(x) + kappa_vacuum*H_inner_vacuum_f_x(x) == k_y*E_inner_vacuum_z(x)\n"
     ]
    },
    {
     "data": {
      "text/latex": [
       "$\\displaystyle k_{z} E_{{\\rm inner}_{{\\rm vacuum}_{y}}}\\left(x\\right) + \\kappa_{\\mathit{vacuum}} H_{{\\rm inner}_{{\\rm vacuum}_{f_{x}}}}\\left(x\\right) = k_{y} E_{{\\rm inner}_{{\\rm vacuum}_{z}}}\\left(x\\right)$"
      ],
      "text/plain": [
       "<IPython.core.display.Math object>"
      ]
     },
     "metadata": {},
     "output_type": "display_data"
    },
    {
     "name": "stdout",
     "output_type": "stream",
     "text": [
      "eq_1 =\n",
      "-(k_z^2 - kappa_vacuum^2)*E_inner_vacuum_y(x) == -k_y*k_z*E_inner_vacuum_z(x) - I*kappa_vacuum*diff(H_inner_vacuum_f_z(x), x)\n"
     ]
    },
    {
     "data": {
      "text/latex": [
       "$\\displaystyle -{\\left(k_{z}^{2} - \\kappa_{\\mathit{vacuum}}^{2}\\right)} E_{{\\rm inner}_{{\\rm vacuum}_{y}}}\\left(x\\right) = -k_{y} k_{z} E_{{\\rm inner}_{{\\rm vacuum}_{z}}}\\left(x\\right) - i \\, \\kappa_{\\mathit{vacuum}} \\frac{\\partial}{\\partial x}H_{{\\rm inner}_{{\\rm vacuum}_{f_{z}}}}\\left(x\\right)$"
      ],
      "text/plain": [
       "<IPython.core.display.Math object>"
      ]
     },
     "metadata": {},
     "output_type": "display_data"
    },
    {
     "name": "stdout",
     "output_type": "stream",
     "text": [
      "eq_2 =\n",
      "(k_z^2 - kappa_vacuum^2)*H_inner_vacuum_f_x(x) == -k_y*kappa_vacuum*E_inner_vacuum_z(x) - I*k_z*diff(H_inner_vacuum_f_z(x), x)\n"
     ]
    },
    {
     "data": {
      "text/latex": [
       "$\\displaystyle {\\left(k_{z}^{2} - \\kappa_{\\mathit{vacuum}}^{2}\\right)} H_{{\\rm inner}_{{\\rm vacuum}_{f_{x}}}}\\left(x\\right) = -k_{y} \\kappa_{\\mathit{vacuum}} E_{{\\rm inner}_{{\\rm vacuum}_{z}}}\\left(x\\right) - i \\, k_{z} \\frac{\\partial}{\\partial x}H_{{\\rm inner}_{{\\rm vacuum}_{f_{z}}}}\\left(x\\right)$"
      ],
      "text/plain": [
       "<IPython.core.display.Math object>"
      ]
     },
     "metadata": {},
     "output_type": "display_data"
    }
   ],
   "source": [
    "eq_rot_H_inner_vacuum_y_subs       = eq_rot_H_inner_vacuum_y.subs(omega==c*kappa_vacuum/sqrt(epsilon_0*mu_0))\n",
    "print (\"eq_rot_H_inner_vacuum_y rot H (E_y) =\")\n",
    "print(eq_rot_H_inner_vacuum_y)\n",
    "display(Math(latex(eq_rot_H_inner_vacuum_y)))\n",
    "\n",
    "eq_rot_H_inner_vacuum_y_subs_solve = solve(eq_rot_H_inner_vacuum_y_subs, E_inner_vacuum_y(x))[0] * kappa_vacuum\n",
    "print (\"eq_rot_H_inner_vacuum_y_subs_solve rot H (E_y) =\")\n",
    "print(eq_rot_H_inner_vacuum_y_subs_solve)\n",
    "display(Math(latex(eq_rot_H_inner_vacuum_y_subs_solve)))\n",
    "\n",
    "eq_rot_E_inner_vacuum_x = H_inner_vacuum_f_x(x) == H_inner_vacuum_s_x(x)\n",
    "eq_rot_E_inner_vacuum_x_subs = eq_rot_E_inner_vacuum_x.subs(omega==c*kappa_vacuum/sqrt(epsilon_0*mu_0)) * kappa_vacuum\n",
    "print (\"eq_rot_E_inner_vacuum_x_subs (x) rot E =\")\n",
    "print             (eq_rot_E_inner_vacuum_x_subs)\n",
    "display(Math(latex(eq_rot_E_inner_vacuum_x_subs)))\n",
    "\n",
    "eq_rot_H_inner_vacuum_y_subs_solve_m \\\n",
    "    =  eq_rot_H_inner_vacuum_y_subs_solve.lhs() \\\n",
    "    -  eq_rot_H_inner_vacuum_y_subs_solve.rhs().expand().operands()[0] \\\n",
    "    == eq_rot_H_inner_vacuum_y_subs_solve.rhs().expand().operands()[1]\n",
    "print (\"eq_rot_H_inner_vacuum_y_subs_solve_m =\")\n",
    "print             (eq_rot_H_inner_vacuum_y_subs_solve_m)\n",
    "display(Math(latex(eq_rot_H_inner_vacuum_y_subs_solve_m)))\n",
    "\n",
    "eq_rot_E_inner_vacuum_x_subs_m \\\n",
    "    =  eq_rot_E_inner_vacuum_x_subs.lhs() \\\n",
    "    -  eq_rot_E_inner_vacuum_x_subs.rhs().expand().operands()[0] \\\n",
    "    == eq_rot_E_inner_vacuum_x_subs.rhs().expand().operands()[1]\n",
    "print (\"eq_rot_E_inner_vacuum_x_subs_m =\")\n",
    "print             (eq_rot_E_inner_vacuum_x_subs_m)\n",
    "display(Math(latex(eq_rot_E_inner_vacuum_x_subs_m)))\n",
    "\n",
    "eq_1 = (eq_rot_H_inner_vacuum_y_subs_solve_m*kappa_vacuum - eq_rot_E_inner_vacuum_x_subs_m*k_z).full_simplify()\n",
    "print (\"eq_1 =\")\n",
    "print             (eq_1)\n",
    "display(Math(latex(eq_1)))\n",
    "\n",
    "eq_2 = (eq_rot_H_inner_vacuum_y_subs_solve_m*k_z - eq_rot_E_inner_vacuum_x_subs_m*kappa_vacuum).full_simplify()\n",
    "print (\"eq_2 =\")\n",
    "print             (eq_2)\n",
    "display(Math(latex(eq_2)))"
   ]
  },
  {
   "cell_type": "code",
   "execution_count": 37,
   "metadata": {},
   "outputs": [
    {
     "name": "stdout",
     "output_type": "stream",
     "text": [
      "eq_rot_H_bad_conductor_y rot_H = epsilon*d/dt(E_y) =\n",
      "I*k_z*H_bad_conductor_f_x(x) - diff(H_bad_conductor_f_z(x), x) == -I*epsilon*omega*E_bad_conductor_y(x)/c\n"
     ]
    },
    {
     "data": {
      "text/latex": [
       "$\\displaystyle i \\, k_{z} H_{{\\rm bad}_{{\\rm conductor}_{f_{x}}}}\\left(x\\right) - \\frac{\\partial}{\\partial x}H_{{\\rm bad}_{{\\rm conductor}_{f_{z}}}}\\left(x\\right) = -\\frac{i \\, \\epsilon \\omega E_{{\\rm bad}_{{\\rm conductor}_{y}}}\\left(x\\right)}{c}$"
      ],
      "text/plain": [
       "<IPython.core.display.Math object>"
      ]
     },
     "metadata": {},
     "output_type": "display_data"
    },
    {
     "name": "stdout",
     "output_type": "stream",
     "text": [
      "eq_rot_H_bad_conductor_y_subs_solve rot H = epsilon*d/dt(E_y) =\n",
      "kappa*E_bad_conductor_y(x) == -(sqrt(epsilon*mu)*k_z*H_bad_conductor_f_x(x) + I*sqrt(epsilon*mu)*diff(H_bad_conductor_f_z(x), x))/epsilon\n"
     ]
    },
    {
     "data": {
      "text/latex": [
       "$\\displaystyle \\kappa E_{{\\rm bad}_{{\\rm conductor}_{y}}}\\left(x\\right) = -\\frac{\\sqrt{\\epsilon \\mu} k_{z} H_{{\\rm bad}_{{\\rm conductor}_{f_{x}}}}\\left(x\\right) + i \\, \\sqrt{\\epsilon \\mu} \\frac{\\partial}{\\partial x}H_{{\\rm bad}_{{\\rm conductor}_{f_{z}}}}\\left(x\\right)}{\\epsilon}$"
      ],
      "text/plain": [
       "<IPython.core.display.Math object>"
      ]
     },
     "metadata": {},
     "output_type": "display_data"
    },
    {
     "name": "stdout",
     "output_type": "stream",
     "text": [
      "eq_rot_E_bad_conductor_x_subs (x) rot E =\n",
      "kappa*H_bad_conductor_f_x(x) == -I*sqrt(epsilon*mu)*(-I*k_z*E_bad_conductor_y(x) + I*k_y*E_bad_conductor_z(x))/mu\n"
     ]
    },
    {
     "data": {
      "text/latex": [
       "$\\displaystyle \\kappa H_{{\\rm bad}_{{\\rm conductor}_{f_{x}}}}\\left(x\\right) = -\\frac{i \\, \\sqrt{\\epsilon \\mu} {\\left(-i \\, k_{z} E_{{\\rm bad}_{{\\rm conductor}_{y}}}\\left(x\\right) + i \\, k_{y} E_{{\\rm bad}_{{\\rm conductor}_{z}}}\\left(x\\right)\\right)}}{\\mu}$"
      ],
      "text/plain": [
       "<IPython.core.display.Math object>"
      ]
     },
     "metadata": {},
     "output_type": "display_data"
    },
    {
     "name": "stdout",
     "output_type": "stream",
     "text": [
      "eq_rot_H_bad_conductor_y_subs_solve_m =\n",
      "kappa*E_bad_conductor_y(x) + k_z*sqrt(mu)*H_bad_conductor_f_x(x)/sqrt(epsilon) == -I*sqrt(mu)*diff(H_bad_conductor_f_z(x), x)/sqrt(epsilon)\n"
     ]
    },
    {
     "data": {
      "text/latex": [
       "$\\displaystyle \\kappa E_{{\\rm bad}_{{\\rm conductor}_{y}}}\\left(x\\right) + \\frac{k_{z} \\sqrt{\\mu} H_{{\\rm bad}_{{\\rm conductor}_{f_{x}}}}\\left(x\\right)}{\\sqrt{\\epsilon}} = -\\frac{i \\, \\sqrt{\\mu} \\frac{\\partial}{\\partial x}H_{{\\rm bad}_{{\\rm conductor}_{f_{z}}}}\\left(x\\right)}{\\sqrt{\\epsilon}}$"
      ],
      "text/plain": [
       "<IPython.core.display.Math object>"
      ]
     },
     "metadata": {},
     "output_type": "display_data"
    },
    {
     "name": "stdout",
     "output_type": "stream",
     "text": [
      "eq_rot_E_bad_conductor_x_subs_m =\n",
      "sqrt(epsilon)*k_z*E_bad_conductor_y(x)/sqrt(mu) + kappa*H_bad_conductor_f_x(x) == sqrt(epsilon)*k_y*E_bad_conductor_z(x)/sqrt(mu)\n"
     ]
    },
    {
     "data": {
      "text/latex": [
       "$\\displaystyle \\frac{\\sqrt{\\epsilon} k_{z} E_{{\\rm bad}_{{\\rm conductor}_{y}}}\\left(x\\right)}{\\sqrt{\\mu}} + \\kappa H_{{\\rm bad}_{{\\rm conductor}_{f_{x}}}}\\left(x\\right) = \\frac{\\sqrt{\\epsilon} k_{y} E_{{\\rm bad}_{{\\rm conductor}_{z}}}\\left(x\\right)}{\\sqrt{\\mu}}$"
      ],
      "text/plain": [
       "<IPython.core.display.Math object>"
      ]
     },
     "metadata": {},
     "output_type": "display_data"
    },
    {
     "name": "stdout",
     "output_type": "stream",
     "text": [
      "eq_3 =\n",
      "-(k_z^2 - kappa^2)*E_bad_conductor_y(x) == -(sqrt(epsilon)*k_y*k_z*E_bad_conductor_z(x) + I*kappa*sqrt(mu)*diff(H_bad_conductor_f_z(x), x))/sqrt(epsilon)\n"
     ]
    },
    {
     "data": {
      "text/latex": [
       "$\\displaystyle -{\\left(k_{z}^{2} - \\kappa^{2}\\right)} E_{{\\rm bad}_{{\\rm conductor}_{y}}}\\left(x\\right) = -\\frac{\\sqrt{\\epsilon} k_{y} k_{z} E_{{\\rm bad}_{{\\rm conductor}_{z}}}\\left(x\\right) + i \\, \\kappa \\sqrt{\\mu} \\frac{\\partial}{\\partial x}H_{{\\rm bad}_{{\\rm conductor}_{f_{z}}}}\\left(x\\right)}{\\sqrt{\\epsilon}}$"
      ],
      "text/plain": [
       "<IPython.core.display.Math object>"
      ]
     },
     "metadata": {},
     "output_type": "display_data"
    },
    {
     "name": "stdout",
     "output_type": "stream",
     "text": [
      "eq_4 =\n",
      "(k_z^2 - kappa^2)*sqrt(mu)*H_bad_conductor_f_x(x)/sqrt(epsilon) == -(sqrt(epsilon)*k_y*kappa*E_bad_conductor_z(x) + I*k_z*sqrt(mu)*diff(H_bad_conductor_f_z(x), x))/sqrt(epsilon)\n"
     ]
    },
    {
     "data": {
      "text/latex": [
       "$\\displaystyle \\frac{{\\left(k_{z}^{2} - \\kappa^{2}\\right)} \\sqrt{\\mu} H_{{\\rm bad}_{{\\rm conductor}_{f_{x}}}}\\left(x\\right)}{\\sqrt{\\epsilon}} = -\\frac{\\sqrt{\\epsilon} k_{y} \\kappa E_{{\\rm bad}_{{\\rm conductor}_{z}}}\\left(x\\right) + i \\, k_{z} \\sqrt{\\mu} \\frac{\\partial}{\\partial x}H_{{\\rm bad}_{{\\rm conductor}_{f_{z}}}}\\left(x\\right)}{\\sqrt{\\epsilon}}$"
      ],
      "text/plain": [
       "<IPython.core.display.Math object>"
      ]
     },
     "metadata": {},
     "output_type": "display_data"
    }
   ],
   "source": [
    "eq_rot_H_bad_conductor_y_subs       = eq_rot_H_bad_conductor_y.subs(omega==c*kappa/sqrt(epsilon*mu))\n",
    "print (\"eq_rot_H_bad_conductor_y rot_H = epsilon*d/dt(E_y) =\")\n",
    "print(eq_rot_H_bad_conductor_y)\n",
    "display(Math(latex(eq_rot_H_bad_conductor_y)))\n",
    "\n",
    "eq_rot_H_bad_conductor_y_subs_solve = solve(eq_rot_H_bad_conductor_y_subs, E_bad_conductor_y(x))[0] * kappa\n",
    "print (\"eq_rot_H_bad_conductor_y_subs_solve rot H = epsilon*d/dt(E_y) =\")\n",
    "print(eq_rot_H_bad_conductor_y_subs_solve)\n",
    "display(Math(latex(eq_rot_H_bad_conductor_y_subs_solve)))\n",
    "\n",
    "eq_rot_E_bad_conductor_x = H_bad_conductor_f_x(x) == H_bad_conductor_s_x(x)\n",
    "eq_rot_E_bad_conductor_x_subs = eq_rot_E_bad_conductor_x.subs(omega==c*kappa/sqrt(epsilon*mu)) * kappa\n",
    "print (\"eq_rot_E_bad_conductor_x_subs (x) rot E =\")\n",
    "print             (eq_rot_E_bad_conductor_x_subs)\n",
    "display(Math(latex(eq_rot_E_bad_conductor_x_subs)))\n",
    "\n",
    "eq_rot_H_bad_conductor_y_subs_solve_m \\\n",
    "    =  eq_rot_H_bad_conductor_y_subs_solve.lhs() \\\n",
    "    -  eq_rot_H_bad_conductor_y_subs_solve.rhs().expand().operands()[0] \\\n",
    "    == eq_rot_H_bad_conductor_y_subs_solve.rhs().expand().operands()[1]\n",
    "print (\"eq_rot_H_bad_conductor_y_subs_solve_m =\")\n",
    "print             (eq_rot_H_bad_conductor_y_subs_solve_m)\n",
    "display(Math(latex(eq_rot_H_bad_conductor_y_subs_solve_m)))\n",
    "\n",
    "eq_rot_E_bad_conductor_x_subs_m \\\n",
    "    =  eq_rot_E_bad_conductor_x_subs.lhs() \\\n",
    "    -  eq_rot_E_bad_conductor_x_subs.rhs().expand().operands()[0] \\\n",
    "    == eq_rot_E_bad_conductor_x_subs.rhs().expand().operands()[1]\n",
    "print (\"eq_rot_E_bad_conductor_x_subs_m =\")\n",
    "print             (eq_rot_E_bad_conductor_x_subs_m)\n",
    "display(Math(latex(eq_rot_E_bad_conductor_x_subs_m)))\n",
    "\n",
    "m3 = k_z*sqrt(mu)/sqrt(epsilon)\n",
    "m4 = sqrt(mu)*kappa/sqrt(epsilon)\n",
    "\n",
    "eq_3 = (eq_rot_H_bad_conductor_y_subs_solve_m*kappa - eq_rot_E_bad_conductor_x_subs_m * m3).full_simplify()\n",
    "print (\"eq_3 =\")\n",
    "print             (eq_3)\n",
    "display(Math(latex(eq_3)))\n",
    "\n",
    "eq_4 = (eq_rot_H_bad_conductor_y_subs_solve_m*k_z - eq_rot_E_bad_conductor_x_subs_m * m4).full_simplify()\n",
    "print (\"eq_4 =\")\n",
    "print             (eq_4)\n",
    "display(Math(latex(eq_4)))"
   ]
  },
  {
   "cell_type": "code",
   "execution_count": 38,
   "metadata": {},
   "outputs": [
    {
     "name": "stdout",
     "output_type": "stream",
     "text": [
      "eq_rot_H_inner_vacuum_y rot H (E_x) =\n",
      "-I*k_z*H_inner_vacuum_f_y(x) + I*k_y*H_inner_vacuum_f_z(x) == -I*omega*E_inner_vacuum_x(x)/c\n"
     ]
    },
    {
     "data": {
      "text/latex": [
       "$\\displaystyle -i \\, k_{z} H_{{\\rm inner}_{{\\rm vacuum}_{f_{y}}}}\\left(x\\right) + i \\, k_{y} H_{{\\rm inner}_{{\\rm vacuum}_{f_{z}}}}\\left(x\\right) = -\\frac{i \\, \\omega E_{{\\rm inner}_{{\\rm vacuum}_{x}}}\\left(x\\right)}{c}$"
      ],
      "text/plain": [
       "<IPython.core.display.Math object>"
      ]
     },
     "metadata": {},
     "output_type": "display_data"
    },
    {
     "name": "stdout",
     "output_type": "stream",
     "text": [
      "eq_rot_H_inner_vacuum_x_subs_solve rot H (E_x) =\n",
      "kappa_vacuum*E_inner_vacuum_x(x) == k_z*H_inner_vacuum_f_y(x) - k_y*H_inner_vacuum_f_z(x)\n"
     ]
    },
    {
     "data": {
      "text/latex": [
       "$\\displaystyle \\kappa_{\\mathit{vacuum}} E_{{\\rm inner}_{{\\rm vacuum}_{x}}}\\left(x\\right) = k_{z} H_{{\\rm inner}_{{\\rm vacuum}_{f_{y}}}}\\left(x\\right) - k_{y} H_{{\\rm inner}_{{\\rm vacuum}_{f_{z}}}}\\left(x\\right)$"
      ],
      "text/plain": [
       "<IPython.core.display.Math object>"
      ]
     },
     "metadata": {},
     "output_type": "display_data"
    },
    {
     "name": "stdout",
     "output_type": "stream",
     "text": [
      "eq_rot_E_inner_vacuum_y_subs (x) rot E =\n",
      "kappa_vacuum*H_inner_vacuum_f_y(x) == k_z*E_inner_vacuum_x(x) + I*diff(E_inner_vacuum_z(x), x)\n"
     ]
    },
    {
     "data": {
      "text/latex": [
       "$\\displaystyle \\kappa_{\\mathit{vacuum}} H_{{\\rm inner}_{{\\rm vacuum}_{f_{y}}}}\\left(x\\right) = k_{z} E_{{\\rm inner}_{{\\rm vacuum}_{x}}}\\left(x\\right) + i \\, \\frac{\\partial}{\\partial x}E_{{\\rm inner}_{{\\rm vacuum}_{z}}}\\left(x\\right)$"
      ],
      "text/plain": [
       "<IPython.core.display.Math object>"
      ]
     },
     "metadata": {},
     "output_type": "display_data"
    },
    {
     "name": "stdout",
     "output_type": "stream",
     "text": [
      "eq_rot_H_inner_vacuum_x_subs_solve_m =\n",
      "kappa_vacuum*E_inner_vacuum_x(x) - k_z*H_inner_vacuum_f_y(x) == -k_y*H_inner_vacuum_f_z(x)\n"
     ]
    },
    {
     "data": {
      "text/latex": [
       "$\\displaystyle \\kappa_{\\mathit{vacuum}} E_{{\\rm inner}_{{\\rm vacuum}_{x}}}\\left(x\\right) - k_{z} H_{{\\rm inner}_{{\\rm vacuum}_{f_{y}}}}\\left(x\\right) = -k_{y} H_{{\\rm inner}_{{\\rm vacuum}_{f_{z}}}}\\left(x\\right)$"
      ],
      "text/plain": [
       "<IPython.core.display.Math object>"
      ]
     },
     "metadata": {},
     "output_type": "display_data"
    },
    {
     "name": "stdout",
     "output_type": "stream",
     "text": [
      "eq_rot_E_inner_vacuum_y_subs_m =\n",
      "-k_z*E_inner_vacuum_x(x) + kappa_vacuum*H_inner_vacuum_f_y(x) == I*diff(E_inner_vacuum_z(x), x)\n"
     ]
    },
    {
     "data": {
      "text/latex": [
       "$\\displaystyle -k_{z} E_{{\\rm inner}_{{\\rm vacuum}_{x}}}\\left(x\\right) + \\kappa_{\\mathit{vacuum}} H_{{\\rm inner}_{{\\rm vacuum}_{f_{y}}}}\\left(x\\right) = i \\, \\frac{\\partial}{\\partial x}E_{{\\rm inner}_{{\\rm vacuum}_{z}}}\\left(x\\right)$"
      ],
      "text/plain": [
       "<IPython.core.display.Math object>"
      ]
     },
     "metadata": {},
     "output_type": "display_data"
    },
    {
     "name": "stdout",
     "output_type": "stream",
     "text": [
      "eq_5 =\n",
      "-(k_z^2 - kappa_vacuum^2)*E_inner_vacuum_x(x) == -k_y*kappa_vacuum*H_inner_vacuum_f_z(x) + I*k_z*diff(E_inner_vacuum_z(x), x)\n"
     ]
    },
    {
     "data": {
      "text/latex": [
       "$\\displaystyle -{\\left(k_{z}^{2} - \\kappa_{\\mathit{vacuum}}^{2}\\right)} E_{{\\rm inner}_{{\\rm vacuum}_{x}}}\\left(x\\right) = -k_{y} \\kappa_{\\mathit{vacuum}} H_{{\\rm inner}_{{\\rm vacuum}_{f_{z}}}}\\left(x\\right) + i \\, k_{z} \\frac{\\partial}{\\partial x}E_{{\\rm inner}_{{\\rm vacuum}_{z}}}\\left(x\\right)$"
      ],
      "text/plain": [
       "<IPython.core.display.Math object>"
      ]
     },
     "metadata": {},
     "output_type": "display_data"
    },
    {
     "name": "stdout",
     "output_type": "stream",
     "text": [
      "eq_6 =\n",
      "-(k_z^2 - kappa_vacuum^2)*H_inner_vacuum_f_y(x) == -k_y*k_z*H_inner_vacuum_f_z(x) + I*kappa_vacuum*diff(E_inner_vacuum_z(x), x)\n"
     ]
    },
    {
     "data": {
      "text/latex": [
       "$\\displaystyle -{\\left(k_{z}^{2} - \\kappa_{\\mathit{vacuum}}^{2}\\right)} H_{{\\rm inner}_{{\\rm vacuum}_{f_{y}}}}\\left(x\\right) = -k_{y} k_{z} H_{{\\rm inner}_{{\\rm vacuum}_{f_{z}}}}\\left(x\\right) + i \\, \\kappa_{\\mathit{vacuum}} \\frac{\\partial}{\\partial x}E_{{\\rm inner}_{{\\rm vacuum}_{z}}}\\left(x\\right)$"
      ],
      "text/plain": [
       "<IPython.core.display.Math object>"
      ]
     },
     "metadata": {},
     "output_type": "display_data"
    }
   ],
   "source": [
    "eq_rot_H_inner_vacuum_x_subs       = eq_rot_H_inner_vacuum_x.subs(omega==c*kappa_vacuum/sqrt(epsilon_0*mu_0))\n",
    "print (\"eq_rot_H_inner_vacuum_y rot H (E_x) =\")\n",
    "print(eq_rot_H_inner_vacuum_x)\n",
    "display(Math(latex(eq_rot_H_inner_vacuum_x)))\n",
    "\n",
    "eq_rot_H_inner_vacuum_x_subs_solve = solve(eq_rot_H_inner_vacuum_x_subs, E_inner_vacuum_x(x))[0] * kappa_vacuum\n",
    "print (\"eq_rot_H_inner_vacuum_x_subs_solve rot H (E_x) =\")\n",
    "print(eq_rot_H_inner_vacuum_x_subs_solve)\n",
    "display(Math(latex(eq_rot_H_inner_vacuum_x_subs_solve)))\n",
    "\n",
    "eq_rot_E_inner_vacuum_y = H_inner_vacuum_f_y(x) == H_inner_vacuum_s_y(x)\n",
    "eq_rot_E_inner_vacuum_y_subs = eq_rot_E_inner_vacuum_y.subs(omega==c*kappa_vacuum/sqrt(epsilon_0*mu_0)) * kappa_vacuum\n",
    "print (\"eq_rot_E_inner_vacuum_y_subs (x) rot E =\")\n",
    "print             (eq_rot_E_inner_vacuum_y_subs)\n",
    "display(Math(latex(eq_rot_E_inner_vacuum_y_subs)))\n",
    "\n",
    "eq_rot_H_inner_vacuum_x_subs_solve_m \\\n",
    "    =  eq_rot_H_inner_vacuum_x_subs_solve.lhs() \\\n",
    "    -  eq_rot_H_inner_vacuum_x_subs_solve.rhs().expand().operands()[0] \\\n",
    "    == eq_rot_H_inner_vacuum_x_subs_solve.rhs().expand().operands()[1]\n",
    "print (\"eq_rot_H_inner_vacuum_x_subs_solve_m =\")\n",
    "print             (eq_rot_H_inner_vacuum_x_subs_solve_m)\n",
    "display(Math(latex(eq_rot_H_inner_vacuum_x_subs_solve_m)))\n",
    "\n",
    "eq_rot_E_inner_vacuum_y_subs_m \\\n",
    "    =  eq_rot_E_inner_vacuum_y_subs.lhs() \\\n",
    "    -  eq_rot_E_inner_vacuum_y_subs.rhs().expand().operands()[0] \\\n",
    "    == eq_rot_E_inner_vacuum_y_subs.rhs().expand().operands()[1]\n",
    "print (\"eq_rot_E_inner_vacuum_y_subs_m =\")\n",
    "print             (eq_rot_E_inner_vacuum_y_subs_m)\n",
    "display(Math(latex(eq_rot_E_inner_vacuum_y_subs_m)))\n",
    "\n",
    "eq_5 = (eq_rot_H_inner_vacuum_x_subs_solve_m*kappa_vacuum + eq_rot_E_inner_vacuum_y_subs_m*k_z).full_simplify()\n",
    "print (\"eq_5 =\")\n",
    "print             (eq_5)\n",
    "display(Math(latex(eq_5)))\n",
    "\n",
    "eq_6 = (eq_rot_H_inner_vacuum_x_subs_solve_m*k_z + eq_rot_E_inner_vacuum_y_subs_m*kappa_vacuum).full_simplify()\n",
    "print (\"eq_6 =\")\n",
    "print             (eq_6)\n",
    "display(Math(latex(eq_6)))"
   ]
  },
  {
   "cell_type": "code",
   "execution_count": 39,
   "metadata": {},
   "outputs": [
    {
     "name": "stdout",
     "output_type": "stream",
     "text": [
      "eq_rot_H_bad_conductor_x rot_H = epsilon*d/dt(E_x) =\n",
      "-I*k_z*H_bad_conductor_f_y(x) + I*k_y*H_bad_conductor_f_z(x) == -I*epsilon*omega*E_bad_conductor_x(x)/c\n"
     ]
    },
    {
     "data": {
      "text/latex": [
       "$\\displaystyle -i \\, k_{z} H_{{\\rm bad}_{{\\rm conductor}_{f_{y}}}}\\left(x\\right) + i \\, k_{y} H_{{\\rm bad}_{{\\rm conductor}_{f_{z}}}}\\left(x\\right) = -\\frac{i \\, \\epsilon \\omega E_{{\\rm bad}_{{\\rm conductor}_{x}}}\\left(x\\right)}{c}$"
      ],
      "text/plain": [
       "<IPython.core.display.Math object>"
      ]
     },
     "metadata": {},
     "output_type": "display_data"
    },
    {
     "name": "stdout",
     "output_type": "stream",
     "text": [
      "eq_rot_H_bad_conductor_x_subs rot_H = epsilon*d/dt(E_x) =\n",
      "-I*k_z*H_bad_conductor_f_y(x) + I*k_y*H_bad_conductor_f_z(x) == -I*epsilon*kappa*E_bad_conductor_x(x)/sqrt(epsilon*mu)\n"
     ]
    },
    {
     "data": {
      "text/latex": [
       "$\\displaystyle -i \\, k_{z} H_{{\\rm bad}_{{\\rm conductor}_{f_{y}}}}\\left(x\\right) + i \\, k_{y} H_{{\\rm bad}_{{\\rm conductor}_{f_{z}}}}\\left(x\\right) = -\\frac{i \\, \\epsilon \\kappa E_{{\\rm bad}_{{\\rm conductor}_{x}}}\\left(x\\right)}{\\sqrt{\\epsilon \\mu}}$"
      ],
      "text/plain": [
       "<IPython.core.display.Math object>"
      ]
     },
     "metadata": {},
     "output_type": "display_data"
    },
    {
     "name": "stdout",
     "output_type": "stream",
     "text": [
      "eq_rot_H_bad_conductor_x_subs_solve rot H = epsilon*d/dt(E_x) =\n",
      "kappa*E_bad_conductor_x(x) == (sqrt(epsilon*mu)*k_z*H_bad_conductor_f_y(x) - sqrt(epsilon*mu)*k_y*H_bad_conductor_f_z(x))/epsilon\n"
     ]
    },
    {
     "data": {
      "text/latex": [
       "$\\displaystyle \\kappa E_{{\\rm bad}_{{\\rm conductor}_{x}}}\\left(x\\right) = \\frac{\\sqrt{\\epsilon \\mu} k_{z} H_{{\\rm bad}_{{\\rm conductor}_{f_{y}}}}\\left(x\\right) - \\sqrt{\\epsilon \\mu} k_{y} H_{{\\rm bad}_{{\\rm conductor}_{f_{z}}}}\\left(x\\right)}{\\epsilon}$"
      ],
      "text/plain": [
       "<IPython.core.display.Math object>"
      ]
     },
     "metadata": {},
     "output_type": "display_data"
    },
    {
     "name": "stdout",
     "output_type": "stream",
     "text": [
      "eq_rot_E_bad_conductor_y_subs (x) rot E =\n",
      "kappa*H_bad_conductor_f_y(x) == -I*sqrt(epsilon*mu)*(I*k_z*E_bad_conductor_x(x) - diff(E_bad_conductor_z(x), x))/mu\n"
     ]
    },
    {
     "data": {
      "text/latex": [
       "$\\displaystyle \\kappa H_{{\\rm bad}_{{\\rm conductor}_{f_{y}}}}\\left(x\\right) = -\\frac{i \\, \\sqrt{\\epsilon \\mu} {\\left(i \\, k_{z} E_{{\\rm bad}_{{\\rm conductor}_{x}}}\\left(x\\right) - \\frac{\\partial}{\\partial x}E_{{\\rm bad}_{{\\rm conductor}_{z}}}\\left(x\\right)\\right)}}{\\mu}$"
      ],
      "text/plain": [
       "<IPython.core.display.Math object>"
      ]
     },
     "metadata": {},
     "output_type": "display_data"
    },
    {
     "name": "stdout",
     "output_type": "stream",
     "text": [
      "eq_rot_H_bad_conductor_x_subs_solve_m =\n",
      "kappa*E_bad_conductor_x(x) - k_z*sqrt(mu)*H_bad_conductor_f_y(x)/sqrt(epsilon) == -k_y*sqrt(mu)*H_bad_conductor_f_z(x)/sqrt(epsilon)\n"
     ]
    },
    {
     "data": {
      "text/latex": [
       "$\\displaystyle \\kappa E_{{\\rm bad}_{{\\rm conductor}_{x}}}\\left(x\\right) - \\frac{k_{z} \\sqrt{\\mu} H_{{\\rm bad}_{{\\rm conductor}_{f_{y}}}}\\left(x\\right)}{\\sqrt{\\epsilon}} = -\\frac{k_{y} \\sqrt{\\mu} H_{{\\rm bad}_{{\\rm conductor}_{f_{z}}}}\\left(x\\right)}{\\sqrt{\\epsilon}}$"
      ],
      "text/plain": [
       "<IPython.core.display.Math object>"
      ]
     },
     "metadata": {},
     "output_type": "display_data"
    },
    {
     "name": "stdout",
     "output_type": "stream",
     "text": [
      "eq_rot_E_bad_conductor_y_subs_m =\n",
      "-sqrt(epsilon)*k_z*E_bad_conductor_x(x)/sqrt(mu) + kappa*H_bad_conductor_f_y(x) == I*sqrt(epsilon)*diff(E_bad_conductor_z(x), x)/sqrt(mu)\n"
     ]
    },
    {
     "data": {
      "text/latex": [
       "$\\displaystyle -\\frac{\\sqrt{\\epsilon} k_{z} E_{{\\rm bad}_{{\\rm conductor}_{x}}}\\left(x\\right)}{\\sqrt{\\mu}} + \\kappa H_{{\\rm bad}_{{\\rm conductor}_{f_{y}}}}\\left(x\\right) = \\frac{i \\, \\sqrt{\\epsilon} \\frac{\\partial}{\\partial x}E_{{\\rm bad}_{{\\rm conductor}_{z}}}\\left(x\\right)}{\\sqrt{\\mu}}$"
      ],
      "text/plain": [
       "<IPython.core.display.Math object>"
      ]
     },
     "metadata": {},
     "output_type": "display_data"
    },
    {
     "name": "stdout",
     "output_type": "stream",
     "text": [
      "eq_7 =\n",
      "-(k_z^2 - kappa^2)*E_bad_conductor_x(x) == -(k_y*kappa*sqrt(mu)*H_bad_conductor_f_z(x) - I*sqrt(epsilon)*k_z*diff(E_bad_conductor_z(x), x))/sqrt(epsilon)\n"
     ]
    },
    {
     "data": {
      "text/latex": [
       "$\\displaystyle -{\\left(k_{z}^{2} - \\kappa^{2}\\right)} E_{{\\rm bad}_{{\\rm conductor}_{x}}}\\left(x\\right) = -\\frac{k_{y} \\kappa \\sqrt{\\mu} H_{{\\rm bad}_{{\\rm conductor}_{f_{z}}}}\\left(x\\right) - i \\, \\sqrt{\\epsilon} k_{z} \\frac{\\partial}{\\partial x}E_{{\\rm bad}_{{\\rm conductor}_{z}}}\\left(x\\right)}{\\sqrt{\\epsilon}}$"
      ],
      "text/plain": [
       "<IPython.core.display.Math object>"
      ]
     },
     "metadata": {},
     "output_type": "display_data"
    },
    {
     "name": "stdout",
     "output_type": "stream",
     "text": [
      "eq_8 =\n",
      "-(k_z^2 - kappa^2)*sqrt(mu)*H_bad_conductor_f_y(x)/sqrt(epsilon) == -(k_y*k_z*sqrt(mu)*H_bad_conductor_f_z(x) - I*sqrt(epsilon)*kappa*diff(E_bad_conductor_z(x), x))/sqrt(epsilon)\n"
     ]
    },
    {
     "data": {
      "text/latex": [
       "$\\displaystyle -\\frac{{\\left(k_{z}^{2} - \\kappa^{2}\\right)} \\sqrt{\\mu} H_{{\\rm bad}_{{\\rm conductor}_{f_{y}}}}\\left(x\\right)}{\\sqrt{\\epsilon}} = -\\frac{k_{y} k_{z} \\sqrt{\\mu} H_{{\\rm bad}_{{\\rm conductor}_{f_{z}}}}\\left(x\\right) - i \\, \\sqrt{\\epsilon} \\kappa \\frac{\\partial}{\\partial x}E_{{\\rm bad}_{{\\rm conductor}_{z}}}\\left(x\\right)}{\\sqrt{\\epsilon}}$"
      ],
      "text/plain": [
       "<IPython.core.display.Math object>"
      ]
     },
     "metadata": {},
     "output_type": "display_data"
    }
   ],
   "source": [
    "eq_rot_H_bad_conductor_x_subs       = eq_rot_H_bad_conductor_x.subs(omega==c*kappa/sqrt(epsilon*mu))\n",
    "print (\"eq_rot_H_bad_conductor_x rot_H = epsilon*d/dt(E_x) =\")\n",
    "print(eq_rot_H_bad_conductor_x)\n",
    "display(Math(latex(eq_rot_H_bad_conductor_x)))\n",
    "\n",
    "print (\"eq_rot_H_bad_conductor_x_subs rot_H = epsilon*d/dt(E_x) =\")\n",
    "print(eq_rot_H_bad_conductor_x_subs)\n",
    "display(Math(latex(eq_rot_H_bad_conductor_x_subs)))\n",
    "\n",
    "\n",
    "eq_rot_H_bad_conductor_x_subs_solve = solve(eq_rot_H_bad_conductor_x_subs, E_bad_conductor_x(x))[0] * kappa\n",
    "print (\"eq_rot_H_bad_conductor_x_subs_solve rot H = epsilon*d/dt(E_x) =\")\n",
    "print(eq_rot_H_bad_conductor_x_subs_solve)\n",
    "display(Math(latex(eq_rot_H_bad_conductor_x_subs_solve)))\n",
    "\n",
    "eq_rot_E_bad_conductor_y = H_bad_conductor_f_y(x) == H_bad_conductor_s_y(x)\n",
    "eq_rot_E_bad_conductor_y_subs = eq_rot_E_bad_conductor_y.subs(omega==c*kappa/sqrt(epsilon*mu)) * kappa\n",
    "print (\"eq_rot_E_bad_conductor_y_subs (x) rot E =\")\n",
    "print             (eq_rot_E_bad_conductor_y_subs)\n",
    "display(Math(latex(eq_rot_E_bad_conductor_y_subs)))\n",
    "\n",
    "eq_rot_H_bad_conductor_x_subs_solve_m \\\n",
    "    =  eq_rot_H_bad_conductor_x_subs_solve.lhs() \\\n",
    "    -  eq_rot_H_bad_conductor_x_subs_solve.rhs().expand().operands()[0] \\\n",
    "    == eq_rot_H_bad_conductor_x_subs_solve.rhs().expand().operands()[1]\n",
    "print (\"eq_rot_H_bad_conductor_x_subs_solve_m =\")\n",
    "print             (eq_rot_H_bad_conductor_x_subs_solve_m)\n",
    "display(Math(latex(eq_rot_H_bad_conductor_x_subs_solve_m)))\n",
    "\n",
    "eq_rot_E_bad_conductor_y_subs_m \\\n",
    "    =  eq_rot_E_bad_conductor_y_subs.lhs() \\\n",
    "    -  eq_rot_E_bad_conductor_y_subs.rhs().expand().operands()[0] \\\n",
    "    == eq_rot_E_bad_conductor_y_subs.rhs().expand().operands()[1]\n",
    "print (\"eq_rot_E_bad_conductor_y_subs_m =\")\n",
    "print             (eq_rot_E_bad_conductor_y_subs_m)\n",
    "display(Math(latex(eq_rot_E_bad_conductor_y_subs_m)))\n",
    "\n",
    "m3 = k_z*sqrt(mu)/sqrt(epsilon)\n",
    "m4 = sqrt(mu)*kappa/sqrt(epsilon)\n",
    "\n",
    "eq_7 = (eq_rot_H_bad_conductor_x_subs_solve_m*kappa + eq_rot_E_bad_conductor_y_subs_m * m3).full_simplify()\n",
    "print (\"eq_7 =\")\n",
    "print             (eq_7)\n",
    "display(Math(latex(eq_7)))\n",
    "\n",
    "eq_8 = (eq_rot_H_bad_conductor_x_subs_solve_m*k_z + eq_rot_E_bad_conductor_y_subs_m * m4).full_simplify()\n",
    "print (\"eq_8 =\")\n",
    "print             (eq_8)\n",
    "display(Math(latex(eq_8)))"
   ]
  },
  {
   "cell_type": "code",
   "execution_count": null,
   "metadata": {},
   "outputs": [],
   "source": []
  },
  {
   "cell_type": "code",
   "execution_count": 40,
   "metadata": {},
   "outputs": [],
   "source": [
    "K_vacuum_subs = K_vacuum == sqrt(kappa_vacuum^2-k_z^2)\n",
    "K_conductor_subs = K_conductor == sqrt(kappa^2-k_z^2)"
   ]
  },
  {
   "cell_type": "code",
   "execution_count": null,
   "metadata": {},
   "outputs": [],
   "source": []
  },
  {
   "cell_type": "code",
   "execution_count": 41,
   "metadata": {},
   "outputs": [
    {
     "name": "stdout",
     "output_type": "stream",
     "text": [
      "eq_1 =\n",
      "-(k_z^2 - kappa_vacuum^2)*E_inner_vacuum_y(x) == -k_y*k_z*E_inner_vacuum_z(x) - I*kappa_vacuum*diff(H_inner_vacuum_f_z(x), x)\n"
     ]
    },
    {
     "data": {
      "text/latex": [
       "$\\displaystyle -{\\left(k_{z}^{2} - \\kappa_{\\mathit{vacuum}}^{2}\\right)} E_{{\\rm inner}_{{\\rm vacuum}_{y}}}\\left(x\\right) = -k_{y} k_{z} E_{{\\rm inner}_{{\\rm vacuum}_{z}}}\\left(x\\right) - i \\, \\kappa_{\\mathit{vacuum}} \\frac{\\partial}{\\partial x}H_{{\\rm inner}_{{\\rm vacuum}_{f_{z}}}}\\left(x\\right)$"
      ],
      "text/plain": [
       "<IPython.core.display.Math object>"
      ]
     },
     "metadata": {},
     "output_type": "display_data"
    },
    {
     "name": "stdout",
     "output_type": "stream",
     "text": [
      "eq_2 =\n",
      "(k_z^2 - kappa_vacuum^2)*H_inner_vacuum_f_x(x) == -k_y*kappa_vacuum*E_inner_vacuum_z(x) - I*k_z*diff(H_inner_vacuum_f_z(x), x)\n"
     ]
    },
    {
     "data": {
      "text/latex": [
       "$\\displaystyle {\\left(k_{z}^{2} - \\kappa_{\\mathit{vacuum}}^{2}\\right)} H_{{\\rm inner}_{{\\rm vacuum}_{f_{x}}}}\\left(x\\right) = -k_{y} \\kappa_{\\mathit{vacuum}} E_{{\\rm inner}_{{\\rm vacuum}_{z}}}\\left(x\\right) - i \\, k_{z} \\frac{\\partial}{\\partial x}H_{{\\rm inner}_{{\\rm vacuum}_{f_{z}}}}\\left(x\\right)$"
      ],
      "text/plain": [
       "<IPython.core.display.Math object>"
      ]
     },
     "metadata": {},
     "output_type": "display_data"
    },
    {
     "name": "stdout",
     "output_type": "stream",
     "text": [
      "eq_3 =\n",
      "-(k_z^2 - kappa^2)*E_bad_conductor_y(x) == -(sqrt(epsilon)*k_y*k_z*E_bad_conductor_z(x) + I*kappa*sqrt(mu)*diff(H_bad_conductor_f_z(x), x))/sqrt(epsilon)\n"
     ]
    },
    {
     "data": {
      "text/latex": [
       "$\\displaystyle -{\\left(k_{z}^{2} - \\kappa^{2}\\right)} E_{{\\rm bad}_{{\\rm conductor}_{y}}}\\left(x\\right) = -\\frac{\\sqrt{\\epsilon} k_{y} k_{z} E_{{\\rm bad}_{{\\rm conductor}_{z}}}\\left(x\\right) + i \\, \\kappa \\sqrt{\\mu} \\frac{\\partial}{\\partial x}H_{{\\rm bad}_{{\\rm conductor}_{f_{z}}}}\\left(x\\right)}{\\sqrt{\\epsilon}}$"
      ],
      "text/plain": [
       "<IPython.core.display.Math object>"
      ]
     },
     "metadata": {},
     "output_type": "display_data"
    },
    {
     "name": "stdout",
     "output_type": "stream",
     "text": [
      "eq_4 =\n",
      "(k_z^2 - kappa^2)*sqrt(mu)*H_bad_conductor_f_x(x)/sqrt(epsilon) == -(sqrt(epsilon)*k_y*kappa*E_bad_conductor_z(x) + I*k_z*sqrt(mu)*diff(H_bad_conductor_f_z(x), x))/sqrt(epsilon)\n"
     ]
    },
    {
     "data": {
      "text/latex": [
       "$\\displaystyle \\frac{{\\left(k_{z}^{2} - \\kappa^{2}\\right)} \\sqrt{\\mu} H_{{\\rm bad}_{{\\rm conductor}_{f_{x}}}}\\left(x\\right)}{\\sqrt{\\epsilon}} = -\\frac{\\sqrt{\\epsilon} k_{y} \\kappa E_{{\\rm bad}_{{\\rm conductor}_{z}}}\\left(x\\right) + i \\, k_{z} \\sqrt{\\mu} \\frac{\\partial}{\\partial x}H_{{\\rm bad}_{{\\rm conductor}_{f_{z}}}}\\left(x\\right)}{\\sqrt{\\epsilon}}$"
      ],
      "text/plain": [
       "<IPython.core.display.Math object>"
      ]
     },
     "metadata": {},
     "output_type": "display_data"
    }
   ],
   "source": [
    "print (\"eq_1 =\")\n",
    "print             (eq_1)\n",
    "display(Math(latex(eq_1)))\n",
    "\n",
    "print (\"eq_2 =\")\n",
    "print             (eq_2)\n",
    "display(Math(latex(eq_2)))\n",
    "\n",
    "print (\"eq_3 =\")\n",
    "print             (eq_3)\n",
    "display(Math(latex(eq_3)))\n",
    "\n",
    "print (\"eq_4 =\")\n",
    "print             (eq_4)\n",
    "display(Math(latex(eq_4)))"
   ]
  },
  {
   "cell_type": "code",
   "execution_count": 42,
   "metadata": {},
   "outputs": [
    {
     "name": "stdout",
     "output_type": "stream",
     "text": [
      "eq_1 =\n",
      "-(k_z^2 - kappa_vacuum^2)*E_inner_vacuum_y(x) == -k_y*k_z*E_inner_vacuum_z(x) - I*kappa_vacuum*diff(H_inner_vacuum_f_z(x), x)\n"
     ]
    },
    {
     "data": {
      "text/latex": [
       "$\\displaystyle -{\\left(k_{z}^{2} - \\kappa_{\\mathit{vacuum}}^{2}\\right)} E_{{\\rm inner}_{{\\rm vacuum}_{y}}}\\left(x\\right) = -k_{y} k_{z} E_{{\\rm inner}_{{\\rm vacuum}_{z}}}\\left(x\\right) - i \\, \\kappa_{\\mathit{vacuum}} \\frac{\\partial}{\\partial x}H_{{\\rm inner}_{{\\rm vacuum}_{f_{z}}}}\\left(x\\right)$"
      ],
      "text/plain": [
       "<IPython.core.display.Math object>"
      ]
     },
     "metadata": {},
     "output_type": "display_data"
    }
   ],
   "source": [
    "print (\"eq_1 =\")\n",
    "print             (eq_1)\n",
    "display(Math(latex(eq_1)))"
   ]
  },
  {
   "cell_type": "code",
   "execution_count": 43,
   "metadata": {
    "scrolled": true
   },
   "outputs": [
    {
     "name": "stdout",
     "output_type": "stream",
     "text": [
      "-(k_z^2 - kappa_vacuum^2)*E_inner_vacuum_y(x) == -I*kappa_vacuum*diff(H_inner_vacuum_f_z(x), x)\n"
     ]
    },
    {
     "data": {
      "text/latex": [
       "$\\displaystyle -{\\left(k_{z}^{2} - \\kappa_{\\mathit{vacuum}}^{2}\\right)} E_{{\\rm inner}_{{\\rm vacuum}_{y}}}\\left(x\\right) = -i \\, \\kappa_{\\mathit{vacuum}} \\frac{\\partial}{\\partial x}H_{{\\rm inner}_{{\\rm vacuum}_{f_{z}}}}\\left(x\\right)$"
      ],
      "text/plain": [
       "<IPython.core.display.Math object>"
      ]
     },
     "metadata": {},
     "output_type": "display_data"
    }
   ],
   "source": [
    "eq_1_subs1 = eq_1.subs(k_y == 0)\n",
    "print             (eq_1_subs1)\n",
    "display(Math(latex(eq_1_subs1)))"
   ]
  },
  {
   "cell_type": "code",
   "execution_count": 44,
   "metadata": {
    "scrolled": true
   },
   "outputs": [
    {
     "name": "stdout",
     "output_type": "stream",
     "text": [
      "E_inner_vacuum_y(x) == I*kappa_vacuum*diff(H_inner_vacuum_f_z(x), x)/(k_z^2 - kappa_vacuum^2)\n"
     ]
    },
    {
     "data": {
      "text/latex": [
       "$\\displaystyle E_{{\\rm inner}_{{\\rm vacuum}_{y}}}\\left(x\\right) = \\frac{i \\, \\kappa_{\\mathit{vacuum}} \\frac{\\partial}{\\partial x}H_{{\\rm inner}_{{\\rm vacuum}_{f_{z}}}}\\left(x\\right)}{k_{z}^{2} - \\kappa_{\\mathit{vacuum}}^{2}}$"
      ],
      "text/plain": [
       "<IPython.core.display.Math object>"
      ]
     },
     "metadata": {},
     "output_type": "display_data"
    }
   ],
   "source": [
    "eq_1_subs2 = (eq_1_subs1/(kappa_vacuum^2 - k_z^2)).full_simplify()\n",
    "print             (eq_1_subs2)\n",
    "display(Math(latex(eq_1_subs2)))"
   ]
  },
  {
   "cell_type": "code",
   "execution_count": 45,
   "metadata": {
    "scrolled": true
   },
   "outputs": [
    {
     "name": "stdout",
     "output_type": "stream",
     "text": [
      "E_inner_vacuum_y(x) == -(A2_y*K_vacuum^2*e^(I*K_vacuum*x) + A1_y*K_vacuum^2*e^(-I*K_vacuum*x) + I*(I*A2_x*K_vacuum*e^(I*K_vacuum*x) - I*A1_x*K_vacuum*e^(-I*K_vacuum*x))*k_y)*c*kappa_vacuum/((k_z^2 - kappa_vacuum^2)*omega)\n"
     ]
    },
    {
     "data": {
      "text/latex": [
       "$\\displaystyle E_{{\\rm inner}_{{\\rm vacuum}_{y}}}\\left(x\\right) = -\\frac{{\\left(\\mathit{A2}_{y} K_{\\mathit{vacuum}}^{2} e^{\\left(i \\, K_{\\mathit{vacuum}} x\\right)} + \\mathit{A1}_{y} K_{\\mathit{vacuum}}^{2} e^{\\left(-i \\, K_{\\mathit{vacuum}} x\\right)} + i \\, {\\left(i \\, \\mathit{A2}_{x} K_{\\mathit{vacuum}} e^{\\left(i \\, K_{\\mathit{vacuum}} x\\right)} - i \\, \\mathit{A1}_{x} K_{\\mathit{vacuum}} e^{\\left(-i \\, K_{\\mathit{vacuum}} x\\right)}\\right)} k_{y}\\right)} c \\kappa_{\\mathit{vacuum}}}{{\\left(k_{z}^{2} - \\kappa_{\\mathit{vacuum}}^{2}\\right)} \\omega}$"
      ],
      "text/plain": [
       "<IPython.core.display.Math object>"
      ]
     },
     "metadata": {},
     "output_type": "display_data"
    }
   ],
   "source": [
    "eq_1_subs3 = eq_1_subs2.substitute_function(H_inner_vacuum_f_z, H_inner_vacuum_sol_z)\n",
    "print             (eq_1_subs3)\n",
    "display(Math(latex(eq_1_subs3)))"
   ]
  },
  {
   "cell_type": "code",
   "execution_count": 46,
   "metadata": {},
   "outputs": [
    {
     "name": "stdout",
     "output_type": "stream",
     "text": [
      "E_inner_vacuum_y(x) == -(A2_y*K_vacuum^2*e^(I*K_vacuum*x) + A1_y*K_vacuum^2*e^(-I*K_vacuum*x) + I*(I*A2_x*K_vacuum*e^(I*K_vacuum*x) - I*A1_x*K_vacuum*e^(-I*K_vacuum*x))*k_y)/(k_z^2 - kappa_vacuum^2)\n"
     ]
    },
    {
     "data": {
      "text/latex": [
       "$\\displaystyle E_{{\\rm inner}_{{\\rm vacuum}_{y}}}\\left(x\\right) = -\\frac{\\mathit{A2}_{y} K_{\\mathit{vacuum}}^{2} e^{\\left(i \\, K_{\\mathit{vacuum}} x\\right)} + \\mathit{A1}_{y} K_{\\mathit{vacuum}}^{2} e^{\\left(-i \\, K_{\\mathit{vacuum}} x\\right)} + i \\, {\\left(i \\, \\mathit{A2}_{x} K_{\\mathit{vacuum}} e^{\\left(i \\, K_{\\mathit{vacuum}} x\\right)} - i \\, \\mathit{A1}_{x} K_{\\mathit{vacuum}} e^{\\left(-i \\, K_{\\mathit{vacuum}} x\\right)}\\right)} k_{y}}{k_{z}^{2} - \\kappa_{\\mathit{vacuum}}^{2}}$"
      ],
      "text/plain": [
       "<IPython.core.display.Math object>"
      ]
     },
     "metadata": {},
     "output_type": "display_data"
    }
   ],
   "source": [
    "eq_1_subs4 = eq_1_subs3.subs(omega==c*kappa_vacuum/sqrt(epsilon_0*mu_0))\n",
    "print             (eq_1_subs4)\n",
    "display(Math(latex(eq_1_subs4)))"
   ]
  },
  {
   "cell_type": "code",
   "execution_count": null,
   "metadata": {},
   "outputs": [],
   "source": []
  },
  {
   "cell_type": "code",
   "execution_count": 47,
   "metadata": {},
   "outputs": [
    {
     "name": "stdout",
     "output_type": "stream",
     "text": [
      "eq_2 =\n",
      "(k_z^2 - kappa_vacuum^2)*H_inner_vacuum_f_x(x) == -k_y*kappa_vacuum*E_inner_vacuum_z(x) - I*k_z*diff(H_inner_vacuum_f_z(x), x)\n"
     ]
    },
    {
     "data": {
      "text/latex": [
       "$\\displaystyle {\\left(k_{z}^{2} - \\kappa_{\\mathit{vacuum}}^{2}\\right)} H_{{\\rm inner}_{{\\rm vacuum}_{f_{x}}}}\\left(x\\right) = -k_{y} \\kappa_{\\mathit{vacuum}} E_{{\\rm inner}_{{\\rm vacuum}_{z}}}\\left(x\\right) - i \\, k_{z} \\frac{\\partial}{\\partial x}H_{{\\rm inner}_{{\\rm vacuum}_{f_{z}}}}\\left(x\\right)$"
      ],
      "text/plain": [
       "<IPython.core.display.Math object>"
      ]
     },
     "metadata": {},
     "output_type": "display_data"
    }
   ],
   "source": [
    "print (\"eq_2 =\")\n",
    "print             (eq_2)\n",
    "display(Math(latex(eq_2)))"
   ]
  },
  {
   "cell_type": "code",
   "execution_count": 48,
   "metadata": {
    "scrolled": true
   },
   "outputs": [
    {
     "name": "stdout",
     "output_type": "stream",
     "text": [
      "(k_z^2 - kappa_vacuum^2)*H_inner_vacuum_f_x(x) == -I*k_z*diff(H_inner_vacuum_f_z(x), x)\n"
     ]
    },
    {
     "data": {
      "text/latex": [
       "$\\displaystyle {\\left(k_{z}^{2} - \\kappa_{\\mathit{vacuum}}^{2}\\right)} H_{{\\rm inner}_{{\\rm vacuum}_{f_{x}}}}\\left(x\\right) = -i \\, k_{z} \\frac{\\partial}{\\partial x}H_{{\\rm inner}_{{\\rm vacuum}_{f_{z}}}}\\left(x\\right)$"
      ],
      "text/plain": [
       "<IPython.core.display.Math object>"
      ]
     },
     "metadata": {},
     "output_type": "display_data"
    }
   ],
   "source": [
    "eq_2_subs1 = eq_2.subs(k_y == 0)\n",
    "print             (eq_2_subs1)\n",
    "display(Math(latex(eq_2_subs1)))"
   ]
  },
  {
   "cell_type": "code",
   "execution_count": 49,
   "metadata": {
    "scrolled": true
   },
   "outputs": [
    {
     "name": "stdout",
     "output_type": "stream",
     "text": [
      "-H_inner_vacuum_f_x(x) == I*k_z*diff(H_inner_vacuum_f_z(x), x)/(k_z^2 - kappa_vacuum^2)\n"
     ]
    },
    {
     "data": {
      "text/latex": [
       "$\\displaystyle -H_{{\\rm inner}_{{\\rm vacuum}_{f_{x}}}}\\left(x\\right) = \\frac{i \\, k_{z} \\frac{\\partial}{\\partial x}H_{{\\rm inner}_{{\\rm vacuum}_{f_{z}}}}\\left(x\\right)}{k_{z}^{2} - \\kappa_{\\mathit{vacuum}}^{2}}$"
      ],
      "text/plain": [
       "<IPython.core.display.Math object>"
      ]
     },
     "metadata": {},
     "output_type": "display_data"
    }
   ],
   "source": [
    "eq_2_subs2 = (eq_2_subs1/(kappa_vacuum^2 - k_z^2)).full_simplify()\n",
    "print             (eq_2_subs2)\n",
    "display(Math(latex(eq_2_subs2)))"
   ]
  },
  {
   "cell_type": "code",
   "execution_count": 50,
   "metadata": {
    "scrolled": true
   },
   "outputs": [
    {
     "name": "stdout",
     "output_type": "stream",
     "text": [
      "-H_inner_vacuum_f_x(x) == -(A2_y*K_vacuum^2*e^(I*K_vacuum*x) + A1_y*K_vacuum^2*e^(-I*K_vacuum*x) + I*(I*A2_x*K_vacuum*e^(I*K_vacuum*x) - I*A1_x*K_vacuum*e^(-I*K_vacuum*x))*k_y)*c*k_z/((k_z^2 - kappa_vacuum^2)*omega)\n"
     ]
    },
    {
     "data": {
      "text/latex": [
       "$\\displaystyle -H_{{\\rm inner}_{{\\rm vacuum}_{f_{x}}}}\\left(x\\right) = -\\frac{{\\left(\\mathit{A2}_{y} K_{\\mathit{vacuum}}^{2} e^{\\left(i \\, K_{\\mathit{vacuum}} x\\right)} + \\mathit{A1}_{y} K_{\\mathit{vacuum}}^{2} e^{\\left(-i \\, K_{\\mathit{vacuum}} x\\right)} + i \\, {\\left(i \\, \\mathit{A2}_{x} K_{\\mathit{vacuum}} e^{\\left(i \\, K_{\\mathit{vacuum}} x\\right)} - i \\, \\mathit{A1}_{x} K_{\\mathit{vacuum}} e^{\\left(-i \\, K_{\\mathit{vacuum}} x\\right)}\\right)} k_{y}\\right)} c k_{z}}{{\\left(k_{z}^{2} - \\kappa_{\\mathit{vacuum}}^{2}\\right)} \\omega}$"
      ],
      "text/plain": [
       "<IPython.core.display.Math object>"
      ]
     },
     "metadata": {},
     "output_type": "display_data"
    }
   ],
   "source": [
    "eq_2_subs3 = eq_2_subs2.substitute_function(H_inner_vacuum_f_z, H_inner_vacuum_sol_z)\n",
    "print             (eq_2_subs3)\n",
    "display(Math(latex(eq_2_subs3)))"
   ]
  },
  {
   "cell_type": "code",
   "execution_count": 51,
   "metadata": {},
   "outputs": [
    {
     "name": "stdout",
     "output_type": "stream",
     "text": [
      "-H_inner_vacuum_f_x(x) == -(A2_y*K_vacuum^2*e^(I*K_vacuum*x) + A1_y*K_vacuum^2*e^(-I*K_vacuum*x) + I*(I*A2_x*K_vacuum*e^(I*K_vacuum*x) - I*A1_x*K_vacuum*e^(-I*K_vacuum*x))*k_y)*k_z/((k_z^2 - kappa_vacuum^2)*kappa_vacuum)\n"
     ]
    },
    {
     "data": {
      "text/latex": [
       "$\\displaystyle -H_{{\\rm inner}_{{\\rm vacuum}_{f_{x}}}}\\left(x\\right) = -\\frac{{\\left(\\mathit{A2}_{y} K_{\\mathit{vacuum}}^{2} e^{\\left(i \\, K_{\\mathit{vacuum}} x\\right)} + \\mathit{A1}_{y} K_{\\mathit{vacuum}}^{2} e^{\\left(-i \\, K_{\\mathit{vacuum}} x\\right)} + i \\, {\\left(i \\, \\mathit{A2}_{x} K_{\\mathit{vacuum}} e^{\\left(i \\, K_{\\mathit{vacuum}} x\\right)} - i \\, \\mathit{A1}_{x} K_{\\mathit{vacuum}} e^{\\left(-i \\, K_{\\mathit{vacuum}} x\\right)}\\right)} k_{y}\\right)} k_{z}}{{\\left(k_{z}^{2} - \\kappa_{\\mathit{vacuum}}^{2}\\right)} \\kappa_{\\mathit{vacuum}}}$"
      ],
      "text/plain": [
       "<IPython.core.display.Math object>"
      ]
     },
     "metadata": {},
     "output_type": "display_data"
    }
   ],
   "source": [
    "eq_2_subs4 = eq_2_subs3.subs(omega==c*kappa_vacuum/sqrt(epsilon_0*mu_0))\n",
    "print             (eq_2_subs4)\n",
    "display(Math(latex(eq_2_subs4)))"
   ]
  },
  {
   "cell_type": "code",
   "execution_count": null,
   "metadata": {},
   "outputs": [],
   "source": []
  },
  {
   "cell_type": "code",
   "execution_count": 52,
   "metadata": {},
   "outputs": [
    {
     "name": "stdout",
     "output_type": "stream",
     "text": [
      "eq_3 =\n",
      "-(k_z^2 - kappa^2)*E_bad_conductor_y(x) == -(sqrt(epsilon)*k_y*k_z*E_bad_conductor_z(x) + I*kappa*sqrt(mu)*diff(H_bad_conductor_f_z(x), x))/sqrt(epsilon)\n"
     ]
    },
    {
     "data": {
      "text/latex": [
       "$\\displaystyle -{\\left(k_{z}^{2} - \\kappa^{2}\\right)} E_{{\\rm bad}_{{\\rm conductor}_{y}}}\\left(x\\right) = -\\frac{\\sqrt{\\epsilon} k_{y} k_{z} E_{{\\rm bad}_{{\\rm conductor}_{z}}}\\left(x\\right) + i \\, \\kappa \\sqrt{\\mu} \\frac{\\partial}{\\partial x}H_{{\\rm bad}_{{\\rm conductor}_{f_{z}}}}\\left(x\\right)}{\\sqrt{\\epsilon}}$"
      ],
      "text/plain": [
       "<IPython.core.display.Math object>"
      ]
     },
     "metadata": {},
     "output_type": "display_data"
    }
   ],
   "source": [
    "print (\"eq_3 =\")\n",
    "print             (eq_3)\n",
    "display(Math(latex(eq_3)))"
   ]
  },
  {
   "cell_type": "code",
   "execution_count": 53,
   "metadata": {
    "scrolled": true
   },
   "outputs": [
    {
     "name": "stdout",
     "output_type": "stream",
     "text": [
      "-(k_z^2 - kappa^2)*E_bad_conductor_y(x) == -I*kappa*sqrt(mu)*diff(H_bad_conductor_f_z(x), x)/sqrt(epsilon)\n"
     ]
    },
    {
     "data": {
      "text/latex": [
       "$\\displaystyle -{\\left(k_{z}^{2} - \\kappa^{2}\\right)} E_{{\\rm bad}_{{\\rm conductor}_{y}}}\\left(x\\right) = -\\frac{i \\, \\kappa \\sqrt{\\mu} \\frac{\\partial}{\\partial x}H_{{\\rm bad}_{{\\rm conductor}_{f_{z}}}}\\left(x\\right)}{\\sqrt{\\epsilon}}$"
      ],
      "text/plain": [
       "<IPython.core.display.Math object>"
      ]
     },
     "metadata": {},
     "output_type": "display_data"
    }
   ],
   "source": [
    "eq_3_subs1 = eq_3.subs(k_y == 0)\n",
    "print             (eq_3_subs1)\n",
    "display(Math(latex(eq_3_subs1)))"
   ]
  },
  {
   "cell_type": "code",
   "execution_count": 54,
   "metadata": {
    "scrolled": true
   },
   "outputs": [
    {
     "name": "stdout",
     "output_type": "stream",
     "text": [
      "E_bad_conductor_y(x) == I*kappa*sqrt(mu)*diff(H_bad_conductor_f_z(x), x)/((k_z^2 - kappa^2)*sqrt(epsilon))\n"
     ]
    },
    {
     "data": {
      "text/latex": [
       "$\\displaystyle E_{{\\rm bad}_{{\\rm conductor}_{y}}}\\left(x\\right) = \\frac{i \\, \\kappa \\sqrt{\\mu} \\frac{\\partial}{\\partial x}H_{{\\rm bad}_{{\\rm conductor}_{f_{z}}}}\\left(x\\right)}{{\\left(k_{z}^{2} - \\kappa^{2}\\right)} \\sqrt{\\epsilon}}$"
      ],
      "text/plain": [
       "<IPython.core.display.Math object>"
      ]
     },
     "metadata": {},
     "output_type": "display_data"
    }
   ],
   "source": [
    "eq_3_subs2 = (eq_3_subs1/(kappa^2 - k_z^2)).full_simplify()\n",
    "print             (eq_3_subs2)\n",
    "display(Math(latex(eq_3_subs2)))"
   ]
  },
  {
   "cell_type": "code",
   "execution_count": 55,
   "metadata": {
    "scrolled": true
   },
   "outputs": [
    {
     "name": "stdout",
     "output_type": "stream",
     "text": [
      "E_bad_conductor_y(x) == -(B1_y*K_conductor^2*e^(I*K_conductor*x) - B1_x*K_conductor*k_y*e^(I*K_conductor*x))*c*kappa/((k_z^2 - kappa^2)*sqrt(epsilon)*sqrt(mu)*omega)\n"
     ]
    },
    {
     "data": {
      "text/latex": [
       "$\\displaystyle E_{{\\rm bad}_{{\\rm conductor}_{y}}}\\left(x\\right) = -\\frac{{\\left(\\mathit{B1}_{y} K_{\\mathit{conductor}}^{2} e^{\\left(i \\, K_{\\mathit{conductor}} x\\right)} - \\mathit{B1}_{x} K_{\\mathit{conductor}} k_{y} e^{\\left(i \\, K_{\\mathit{conductor}} x\\right)}\\right)} c \\kappa}{{\\left(k_{z}^{2} - \\kappa^{2}\\right)} \\sqrt{\\epsilon} \\sqrt{\\mu} \\omega}$"
      ],
      "text/plain": [
       "<IPython.core.display.Math object>"
      ]
     },
     "metadata": {},
     "output_type": "display_data"
    }
   ],
   "source": [
    "eq_3_subs3 = eq_3_subs2.substitute_function(H_bad_conductor_f_z, H_bad_conductor_sol_z)\n",
    "print             (eq_3_subs3)\n",
    "display(Math(latex(eq_3_subs3)))"
   ]
  },
  {
   "cell_type": "code",
   "execution_count": 56,
   "metadata": {},
   "outputs": [
    {
     "name": "stdout",
     "output_type": "stream",
     "text": [
      "E_bad_conductor_y(x) == -(B1_y*K_conductor^2*e^(I*K_conductor*x) - B1_x*K_conductor*k_y*e^(I*K_conductor*x))*sqrt(epsilon*mu)/((k_z^2 - kappa^2)*sqrt(epsilon)*sqrt(mu))\n"
     ]
    },
    {
     "data": {
      "text/latex": [
       "$\\displaystyle E_{{\\rm bad}_{{\\rm conductor}_{y}}}\\left(x\\right) = -\\frac{{\\left(\\mathit{B1}_{y} K_{\\mathit{conductor}}^{2} e^{\\left(i \\, K_{\\mathit{conductor}} x\\right)} - \\mathit{B1}_{x} K_{\\mathit{conductor}} k_{y} e^{\\left(i \\, K_{\\mathit{conductor}} x\\right)}\\right)} \\sqrt{\\epsilon \\mu}}{{\\left(k_{z}^{2} - \\kappa^{2}\\right)} \\sqrt{\\epsilon} \\sqrt{\\mu}}$"
      ],
      "text/plain": [
       "<IPython.core.display.Math object>"
      ]
     },
     "metadata": {},
     "output_type": "display_data"
    }
   ],
   "source": [
    "eq_3_subs4 = eq_3_subs3.subs(omega==c*kappa/sqrt(epsilon*mu))\n",
    "print             (eq_3_subs4)\n",
    "display(Math(latex(eq_3_subs4)))"
   ]
  },
  {
   "cell_type": "code",
   "execution_count": null,
   "metadata": {},
   "outputs": [],
   "source": []
  },
  {
   "cell_type": "code",
   "execution_count": 57,
   "metadata": {},
   "outputs": [
    {
     "name": "stdout",
     "output_type": "stream",
     "text": [
      "eq_4 =\n",
      "(k_z^2 - kappa^2)*sqrt(mu)*H_bad_conductor_f_x(x)/sqrt(epsilon) == -(sqrt(epsilon)*k_y*kappa*E_bad_conductor_z(x) + I*k_z*sqrt(mu)*diff(H_bad_conductor_f_z(x), x))/sqrt(epsilon)\n"
     ]
    },
    {
     "data": {
      "text/latex": [
       "$\\displaystyle \\frac{{\\left(k_{z}^{2} - \\kappa^{2}\\right)} \\sqrt{\\mu} H_{{\\rm bad}_{{\\rm conductor}_{f_{x}}}}\\left(x\\right)}{\\sqrt{\\epsilon}} = -\\frac{\\sqrt{\\epsilon} k_{y} \\kappa E_{{\\rm bad}_{{\\rm conductor}_{z}}}\\left(x\\right) + i \\, k_{z} \\sqrt{\\mu} \\frac{\\partial}{\\partial x}H_{{\\rm bad}_{{\\rm conductor}_{f_{z}}}}\\left(x\\right)}{\\sqrt{\\epsilon}}$"
      ],
      "text/plain": [
       "<IPython.core.display.Math object>"
      ]
     },
     "metadata": {},
     "output_type": "display_data"
    }
   ],
   "source": [
    "print (\"eq_4 =\")\n",
    "print             (eq_4)\n",
    "display(Math(latex(eq_4)))"
   ]
  },
  {
   "cell_type": "code",
   "execution_count": 58,
   "metadata": {
    "scrolled": true
   },
   "outputs": [
    {
     "name": "stdout",
     "output_type": "stream",
     "text": [
      "(k_z^2 - kappa^2)*sqrt(mu)*H_bad_conductor_f_x(x)/sqrt(epsilon) == -I*k_z*sqrt(mu)*diff(H_bad_conductor_f_z(x), x)/sqrt(epsilon)\n"
     ]
    },
    {
     "data": {
      "text/latex": [
       "$\\displaystyle \\frac{{\\left(k_{z}^{2} - \\kappa^{2}\\right)} \\sqrt{\\mu} H_{{\\rm bad}_{{\\rm conductor}_{f_{x}}}}\\left(x\\right)}{\\sqrt{\\epsilon}} = -\\frac{i \\, k_{z} \\sqrt{\\mu} \\frac{\\partial}{\\partial x}H_{{\\rm bad}_{{\\rm conductor}_{f_{z}}}}\\left(x\\right)}{\\sqrt{\\epsilon}}$"
      ],
      "text/plain": [
       "<IPython.core.display.Math object>"
      ]
     },
     "metadata": {},
     "output_type": "display_data"
    }
   ],
   "source": [
    "eq_4_subs1 = eq_4.subs(k_y == 0)\n",
    "print             (eq_4_subs1)\n",
    "display(Math(latex(eq_4_subs1)))"
   ]
  },
  {
   "cell_type": "code",
   "execution_count": 59,
   "metadata": {
    "scrolled": true
   },
   "outputs": [
    {
     "name": "stdout",
     "output_type": "stream",
     "text": [
      "-sqrt(mu)*H_bad_conductor_f_x(x)/sqrt(epsilon) == I*k_z*sqrt(mu)*diff(H_bad_conductor_f_z(x), x)/((k_z^2 - kappa^2)*sqrt(epsilon))\n"
     ]
    },
    {
     "data": {
      "text/latex": [
       "$\\displaystyle -\\frac{\\sqrt{\\mu} H_{{\\rm bad}_{{\\rm conductor}_{f_{x}}}}\\left(x\\right)}{\\sqrt{\\epsilon}} = \\frac{i \\, k_{z} \\sqrt{\\mu} \\frac{\\partial}{\\partial x}H_{{\\rm bad}_{{\\rm conductor}_{f_{z}}}}\\left(x\\right)}{{\\left(k_{z}^{2} - \\kappa^{2}\\right)} \\sqrt{\\epsilon}}$"
      ],
      "text/plain": [
       "<IPython.core.display.Math object>"
      ]
     },
     "metadata": {},
     "output_type": "display_data"
    }
   ],
   "source": [
    "eq_4_subs2 = (eq_4_subs1/(kappa^2 - k_z^2)).full_simplify()\n",
    "print             (eq_4_subs2)\n",
    "display(Math(latex(eq_4_subs2)))"
   ]
  },
  {
   "cell_type": "code",
   "execution_count": 60,
   "metadata": {
    "scrolled": true
   },
   "outputs": [
    {
     "name": "stdout",
     "output_type": "stream",
     "text": [
      "-sqrt(mu)*H_bad_conductor_f_x(x)/sqrt(epsilon) == -(B1_y*K_conductor^2*e^(I*K_conductor*x) - B1_x*K_conductor*k_y*e^(I*K_conductor*x))*c*k_z/((k_z^2 - kappa^2)*sqrt(epsilon)*sqrt(mu)*omega)\n"
     ]
    },
    {
     "data": {
      "text/latex": [
       "$\\displaystyle -\\frac{\\sqrt{\\mu} H_{{\\rm bad}_{{\\rm conductor}_{f_{x}}}}\\left(x\\right)}{\\sqrt{\\epsilon}} = -\\frac{{\\left(\\mathit{B1}_{y} K_{\\mathit{conductor}}^{2} e^{\\left(i \\, K_{\\mathit{conductor}} x\\right)} - \\mathit{B1}_{x} K_{\\mathit{conductor}} k_{y} e^{\\left(i \\, K_{\\mathit{conductor}} x\\right)}\\right)} c k_{z}}{{\\left(k_{z}^{2} - \\kappa^{2}\\right)} \\sqrt{\\epsilon} \\sqrt{\\mu} \\omega}$"
      ],
      "text/plain": [
       "<IPython.core.display.Math object>"
      ]
     },
     "metadata": {},
     "output_type": "display_data"
    }
   ],
   "source": [
    "eq_4_subs3 = eq_4_subs2.substitute_function(H_bad_conductor_f_z, H_bad_conductor_sol_z)\n",
    "print             (eq_4_subs3)\n",
    "display(Math(latex(eq_4_subs3)))"
   ]
  },
  {
   "cell_type": "code",
   "execution_count": 61,
   "metadata": {},
   "outputs": [
    {
     "name": "stdout",
     "output_type": "stream",
     "text": [
      "-sqrt(mu)*H_bad_conductor_f_x(x)/sqrt(epsilon) == -(B1_y*K_conductor^2*e^(I*K_conductor*x) - B1_x*K_conductor*k_y*e^(I*K_conductor*x))*sqrt(epsilon*mu)*k_z/((k_z^2 - kappa^2)*sqrt(epsilon)*kappa*sqrt(mu))\n"
     ]
    },
    {
     "data": {
      "text/latex": [
       "$\\displaystyle -\\frac{\\sqrt{\\mu} H_{{\\rm bad}_{{\\rm conductor}_{f_{x}}}}\\left(x\\right)}{\\sqrt{\\epsilon}} = -\\frac{{\\left(\\mathit{B1}_{y} K_{\\mathit{conductor}}^{2} e^{\\left(i \\, K_{\\mathit{conductor}} x\\right)} - \\mathit{B1}_{x} K_{\\mathit{conductor}} k_{y} e^{\\left(i \\, K_{\\mathit{conductor}} x\\right)}\\right)} \\sqrt{\\epsilon \\mu} k_{z}}{{\\left(k_{z}^{2} - \\kappa^{2}\\right)} \\sqrt{\\epsilon} \\kappa \\sqrt{\\mu}}$"
      ],
      "text/plain": [
       "<IPython.core.display.Math object>"
      ]
     },
     "metadata": {},
     "output_type": "display_data"
    }
   ],
   "source": [
    "eq_4_subs4 = eq_4_subs3.subs(omega==c*kappa/sqrt(epsilon*mu))\n",
    "print             (eq_4_subs4)\n",
    "display(Math(latex(eq_4_subs4)))"
   ]
  },
  {
   "cell_type": "code",
   "execution_count": null,
   "metadata": {},
   "outputs": [],
   "source": []
  },
  {
   "cell_type": "code",
   "execution_count": 62,
   "metadata": {},
   "outputs": [
    {
     "name": "stdout",
     "output_type": "stream",
     "text": [
      "eq_5 =\n",
      "-(k_z^2 - kappa_vacuum^2)*E_inner_vacuum_x(x) == -k_y*kappa_vacuum*H_inner_vacuum_f_z(x) + I*k_z*diff(E_inner_vacuum_z(x), x)\n"
     ]
    },
    {
     "data": {
      "text/latex": [
       "$\\displaystyle -{\\left(k_{z}^{2} - \\kappa_{\\mathit{vacuum}}^{2}\\right)} E_{{\\rm inner}_{{\\rm vacuum}_{x}}}\\left(x\\right) = -k_{y} \\kappa_{\\mathit{vacuum}} H_{{\\rm inner}_{{\\rm vacuum}_{f_{z}}}}\\left(x\\right) + i \\, k_{z} \\frac{\\partial}{\\partial x}E_{{\\rm inner}_{{\\rm vacuum}_{z}}}\\left(x\\right)$"
      ],
      "text/plain": [
       "<IPython.core.display.Math object>"
      ]
     },
     "metadata": {},
     "output_type": "display_data"
    },
    {
     "name": "stdout",
     "output_type": "stream",
     "text": [
      "eq_6 =\n",
      "-(k_z^2 - kappa_vacuum^2)*H_inner_vacuum_f_y(x) == -k_y*k_z*H_inner_vacuum_f_z(x) + I*kappa_vacuum*diff(E_inner_vacuum_z(x), x)\n"
     ]
    },
    {
     "data": {
      "text/latex": [
       "$\\displaystyle -{\\left(k_{z}^{2} - \\kappa_{\\mathit{vacuum}}^{2}\\right)} H_{{\\rm inner}_{{\\rm vacuum}_{f_{y}}}}\\left(x\\right) = -k_{y} k_{z} H_{{\\rm inner}_{{\\rm vacuum}_{f_{z}}}}\\left(x\\right) + i \\, \\kappa_{\\mathit{vacuum}} \\frac{\\partial}{\\partial x}E_{{\\rm inner}_{{\\rm vacuum}_{z}}}\\left(x\\right)$"
      ],
      "text/plain": [
       "<IPython.core.display.Math object>"
      ]
     },
     "metadata": {},
     "output_type": "display_data"
    },
    {
     "name": "stdout",
     "output_type": "stream",
     "text": [
      "eq_7 =\n",
      "-(k_z^2 - kappa^2)*E_bad_conductor_x(x) == -(k_y*kappa*sqrt(mu)*H_bad_conductor_f_z(x) - I*sqrt(epsilon)*k_z*diff(E_bad_conductor_z(x), x))/sqrt(epsilon)\n"
     ]
    },
    {
     "data": {
      "text/latex": [
       "$\\displaystyle -{\\left(k_{z}^{2} - \\kappa^{2}\\right)} E_{{\\rm bad}_{{\\rm conductor}_{x}}}\\left(x\\right) = -\\frac{k_{y} \\kappa \\sqrt{\\mu} H_{{\\rm bad}_{{\\rm conductor}_{f_{z}}}}\\left(x\\right) - i \\, \\sqrt{\\epsilon} k_{z} \\frac{\\partial}{\\partial x}E_{{\\rm bad}_{{\\rm conductor}_{z}}}\\left(x\\right)}{\\sqrt{\\epsilon}}$"
      ],
      "text/plain": [
       "<IPython.core.display.Math object>"
      ]
     },
     "metadata": {},
     "output_type": "display_data"
    },
    {
     "name": "stdout",
     "output_type": "stream",
     "text": [
      "eq_8 =\n",
      "-(k_z^2 - kappa^2)*sqrt(mu)*H_bad_conductor_f_y(x)/sqrt(epsilon) == -(k_y*k_z*sqrt(mu)*H_bad_conductor_f_z(x) - I*sqrt(epsilon)*kappa*diff(E_bad_conductor_z(x), x))/sqrt(epsilon)\n"
     ]
    },
    {
     "data": {
      "text/latex": [
       "$\\displaystyle -\\frac{{\\left(k_{z}^{2} - \\kappa^{2}\\right)} \\sqrt{\\mu} H_{{\\rm bad}_{{\\rm conductor}_{f_{y}}}}\\left(x\\right)}{\\sqrt{\\epsilon}} = -\\frac{k_{y} k_{z} \\sqrt{\\mu} H_{{\\rm bad}_{{\\rm conductor}_{f_{z}}}}\\left(x\\right) - i \\, \\sqrt{\\epsilon} \\kappa \\frac{\\partial}{\\partial x}E_{{\\rm bad}_{{\\rm conductor}_{z}}}\\left(x\\right)}{\\sqrt{\\epsilon}}$"
      ],
      "text/plain": [
       "<IPython.core.display.Math object>"
      ]
     },
     "metadata": {},
     "output_type": "display_data"
    }
   ],
   "source": [
    "print (\"eq_5 =\")\n",
    "print             (eq_5)\n",
    "display(Math(latex(eq_5)))\n",
    "\n",
    "print (\"eq_6 =\")\n",
    "print             (eq_6)\n",
    "display(Math(latex(eq_6)))\n",
    "\n",
    "print (\"eq_7 =\")\n",
    "print             (eq_7)\n",
    "display(Math(latex(eq_7)))\n",
    "\n",
    "print (\"eq_8 =\")\n",
    "print             (eq_8)\n",
    "display(Math(latex(eq_8)))"
   ]
  },
  {
   "cell_type": "code",
   "execution_count": null,
   "metadata": {},
   "outputs": [],
   "source": []
  },
  {
   "cell_type": "code",
   "execution_count": 63,
   "metadata": {},
   "outputs": [
    {
     "name": "stdout",
     "output_type": "stream",
     "text": [
      "eq_5 =\n",
      "-(k_z^2 - kappa_vacuum^2)*E_inner_vacuum_x(x) == -k_y*kappa_vacuum*H_inner_vacuum_f_z(x) + I*k_z*diff(E_inner_vacuum_z(x), x)\n"
     ]
    },
    {
     "data": {
      "text/latex": [
       "$\\displaystyle -{\\left(k_{z}^{2} - \\kappa_{\\mathit{vacuum}}^{2}\\right)} E_{{\\rm inner}_{{\\rm vacuum}_{x}}}\\left(x\\right) = -k_{y} \\kappa_{\\mathit{vacuum}} H_{{\\rm inner}_{{\\rm vacuum}_{f_{z}}}}\\left(x\\right) + i \\, k_{z} \\frac{\\partial}{\\partial x}E_{{\\rm inner}_{{\\rm vacuum}_{z}}}\\left(x\\right)$"
      ],
      "text/plain": [
       "<IPython.core.display.Math object>"
      ]
     },
     "metadata": {},
     "output_type": "display_data"
    }
   ],
   "source": [
    "print (\"eq_5 =\")\n",
    "print             (eq_5)\n",
    "display(Math(latex(eq_5)))"
   ]
  },
  {
   "cell_type": "code",
   "execution_count": 64,
   "metadata": {
    "scrolled": true
   },
   "outputs": [
    {
     "name": "stdout",
     "output_type": "stream",
     "text": [
      "-(k_z^2 - kappa_vacuum^2)*E_inner_vacuum_x(x) == I*k_z*diff(E_inner_vacuum_z(x), x)\n"
     ]
    },
    {
     "data": {
      "text/latex": [
       "$\\displaystyle -{\\left(k_{z}^{2} - \\kappa_{\\mathit{vacuum}}^{2}\\right)} E_{{\\rm inner}_{{\\rm vacuum}_{x}}}\\left(x\\right) = i \\, k_{z} \\frac{\\partial}{\\partial x}E_{{\\rm inner}_{{\\rm vacuum}_{z}}}\\left(x\\right)$"
      ],
      "text/plain": [
       "<IPython.core.display.Math object>"
      ]
     },
     "metadata": {},
     "output_type": "display_data"
    }
   ],
   "source": [
    "eq_5_subs1 = eq_5.subs(k_y == 0)\n",
    "print             (eq_5_subs1)\n",
    "display(Math(latex(eq_5_subs1)))"
   ]
  },
  {
   "cell_type": "code",
   "execution_count": 65,
   "metadata": {
    "scrolled": true
   },
   "outputs": [
    {
     "name": "stdout",
     "output_type": "stream",
     "text": [
      "E_inner_vacuum_x(x) == -I*k_z*diff(E_inner_vacuum_z(x), x)/(k_z^2 - kappa_vacuum^2)\n"
     ]
    },
    {
     "data": {
      "text/latex": [
       "$\\displaystyle E_{{\\rm inner}_{{\\rm vacuum}_{x}}}\\left(x\\right) = -\\frac{i \\, k_{z} \\frac{\\partial}{\\partial x}E_{{\\rm inner}_{{\\rm vacuum}_{z}}}\\left(x\\right)}{k_{z}^{2} - \\kappa_{\\mathit{vacuum}}^{2}}$"
      ],
      "text/plain": [
       "<IPython.core.display.Math object>"
      ]
     },
     "metadata": {},
     "output_type": "display_data"
    }
   ],
   "source": [
    "eq_5_subs2 = (eq_5_subs1/(kappa_vacuum^2 - k_z^2)).full_simplify()\n",
    "print             (eq_5_subs2)\n",
    "display(Math(latex(eq_5_subs2)))"
   ]
  },
  {
   "cell_type": "code",
   "execution_count": 66,
   "metadata": {
    "scrolled": true
   },
   "outputs": [
    {
     "name": "stdout",
     "output_type": "stream",
     "text": [
      "E_inner_vacuum_x(x) == -I*(I*A2_z*K_vacuum*e^(I*K_vacuum*x) - I*A1_z*K_vacuum*e^(-I*K_vacuum*x))*k_z/(k_z^2 - kappa_vacuum^2)\n"
     ]
    },
    {
     "data": {
      "text/latex": [
       "$\\displaystyle E_{{\\rm inner}_{{\\rm vacuum}_{x}}}\\left(x\\right) = -\\frac{i \\, {\\left(i \\, \\mathit{A2}_{z} K_{\\mathit{vacuum}} e^{\\left(i \\, K_{\\mathit{vacuum}} x\\right)} - i \\, \\mathit{A1}_{z} K_{\\mathit{vacuum}} e^{\\left(-i \\, K_{\\mathit{vacuum}} x\\right)}\\right)} k_{z}}{k_{z}^{2} - \\kappa_{\\mathit{vacuum}}^{2}}$"
      ],
      "text/plain": [
       "<IPython.core.display.Math object>"
      ]
     },
     "metadata": {},
     "output_type": "display_data"
    }
   ],
   "source": [
    "eq_5_subs3 = eq_5_subs2.substitute_function(E_inner_vacuum_z, E_inner_vacuum_sol_z)\n",
    "print             (eq_5_subs3)\n",
    "display(Math(latex(eq_5_subs3)))"
   ]
  },
  {
   "cell_type": "code",
   "execution_count": 67,
   "metadata": {},
   "outputs": [
    {
     "name": "stdout",
     "output_type": "stream",
     "text": [
      "E_inner_vacuum_x(x) == -(A2_z*k_z*e^(2*I*sqrt(-k_z^2 + kappa_vacuum^2)*x) - A1_z*k_z)*e^(-I*sqrt(-k_z^2 + kappa_vacuum^2)*x)/sqrt(-k_z^2 + kappa_vacuum^2)\n"
     ]
    },
    {
     "data": {
      "text/latex": [
       "$\\displaystyle E_{{\\rm inner}_{{\\rm vacuum}_{x}}}\\left(x\\right) = -\\frac{{\\left(\\mathit{A2}_{z} k_{z} e^{\\left(2 i \\, \\sqrt{-k_{z}^{2} + \\kappa_{\\mathit{vacuum}}^{2}} x\\right)} - \\mathit{A1}_{z} k_{z}\\right)} e^{\\left(-i \\, \\sqrt{-k_{z}^{2} + \\kappa_{\\mathit{vacuum}}^{2}} x\\right)}}{\\sqrt{-k_{z}^{2} + \\kappa_{\\mathit{vacuum}}^{2}}}$"
      ],
      "text/plain": [
       "<IPython.core.display.Math object>"
      ]
     },
     "metadata": {},
     "output_type": "display_data"
    }
   ],
   "source": [
    "eq_5_subs4 = eq_5_subs3.subs(K_vacuum_subs).full_simplify()\n",
    "print             (eq_5_subs4)\n",
    "display(Math(latex(eq_5_subs4)))"
   ]
  },
  {
   "cell_type": "code",
   "execution_count": null,
   "metadata": {},
   "outputs": [],
   "source": []
  },
  {
   "cell_type": "code",
   "execution_count": 68,
   "metadata": {},
   "outputs": [
    {
     "name": "stdout",
     "output_type": "stream",
     "text": [
      "eq_6 =\n",
      "-(k_z^2 - kappa_vacuum^2)*H_inner_vacuum_f_y(x) == -k_y*k_z*H_inner_vacuum_f_z(x) + I*kappa_vacuum*diff(E_inner_vacuum_z(x), x)\n"
     ]
    },
    {
     "data": {
      "text/latex": [
       "$\\displaystyle -{\\left(k_{z}^{2} - \\kappa_{\\mathit{vacuum}}^{2}\\right)} H_{{\\rm inner}_{{\\rm vacuum}_{f_{y}}}}\\left(x\\right) = -k_{y} k_{z} H_{{\\rm inner}_{{\\rm vacuum}_{f_{z}}}}\\left(x\\right) + i \\, \\kappa_{\\mathit{vacuum}} \\frac{\\partial}{\\partial x}E_{{\\rm inner}_{{\\rm vacuum}_{z}}}\\left(x\\right)$"
      ],
      "text/plain": [
       "<IPython.core.display.Math object>"
      ]
     },
     "metadata": {},
     "output_type": "display_data"
    }
   ],
   "source": [
    "print (\"eq_6 =\")\n",
    "print             (eq_6)\n",
    "display(Math(latex(eq_6)))"
   ]
  },
  {
   "cell_type": "code",
   "execution_count": 69,
   "metadata": {
    "scrolled": true
   },
   "outputs": [
    {
     "name": "stdout",
     "output_type": "stream",
     "text": [
      "-(k_z^2 - kappa_vacuum^2)*H_inner_vacuum_f_y(x) == I*kappa_vacuum*diff(E_inner_vacuum_z(x), x)\n"
     ]
    },
    {
     "data": {
      "text/latex": [
       "$\\displaystyle -{\\left(k_{z}^{2} - \\kappa_{\\mathit{vacuum}}^{2}\\right)} H_{{\\rm inner}_{{\\rm vacuum}_{f_{y}}}}\\left(x\\right) = i \\, \\kappa_{\\mathit{vacuum}} \\frac{\\partial}{\\partial x}E_{{\\rm inner}_{{\\rm vacuum}_{z}}}\\left(x\\right)$"
      ],
      "text/plain": [
       "<IPython.core.display.Math object>"
      ]
     },
     "metadata": {},
     "output_type": "display_data"
    }
   ],
   "source": [
    "eq_6_subs1 = eq_6.subs(k_y == 0)\n",
    "print             (eq_6_subs1)\n",
    "display(Math(latex(eq_6_subs1)))"
   ]
  },
  {
   "cell_type": "code",
   "execution_count": 70,
   "metadata": {
    "scrolled": true
   },
   "outputs": [
    {
     "name": "stdout",
     "output_type": "stream",
     "text": [
      "H_inner_vacuum_f_y(x) == -I*kappa_vacuum*diff(E_inner_vacuum_z(x), x)/(k_z^2 - kappa_vacuum^2)\n"
     ]
    },
    {
     "data": {
      "text/latex": [
       "$\\displaystyle H_{{\\rm inner}_{{\\rm vacuum}_{f_{y}}}}\\left(x\\right) = -\\frac{i \\, \\kappa_{\\mathit{vacuum}} \\frac{\\partial}{\\partial x}E_{{\\rm inner}_{{\\rm vacuum}_{z}}}\\left(x\\right)}{k_{z}^{2} - \\kappa_{\\mathit{vacuum}}^{2}}$"
      ],
      "text/plain": [
       "<IPython.core.display.Math object>"
      ]
     },
     "metadata": {},
     "output_type": "display_data"
    }
   ],
   "source": [
    "eq_6_subs2 = (eq_6_subs1/(kappa_vacuum^2 - k_z^2)).full_simplify()\n",
    "print             (eq_6_subs2)\n",
    "display(Math(latex(eq_6_subs2)))"
   ]
  },
  {
   "cell_type": "code",
   "execution_count": 71,
   "metadata": {
    "scrolled": true
   },
   "outputs": [
    {
     "name": "stdout",
     "output_type": "stream",
     "text": [
      "H_inner_vacuum_f_y(x) == -I*(I*A2_z*K_vacuum*e^(I*K_vacuum*x) - I*A1_z*K_vacuum*e^(-I*K_vacuum*x))*kappa_vacuum/(k_z^2 - kappa_vacuum^2)\n"
     ]
    },
    {
     "data": {
      "text/latex": [
       "$\\displaystyle H_{{\\rm inner}_{{\\rm vacuum}_{f_{y}}}}\\left(x\\right) = -\\frac{i \\, {\\left(i \\, \\mathit{A2}_{z} K_{\\mathit{vacuum}} e^{\\left(i \\, K_{\\mathit{vacuum}} x\\right)} - i \\, \\mathit{A1}_{z} K_{\\mathit{vacuum}} e^{\\left(-i \\, K_{\\mathit{vacuum}} x\\right)}\\right)} \\kappa_{\\mathit{vacuum}}}{k_{z}^{2} - \\kappa_{\\mathit{vacuum}}^{2}}$"
      ],
      "text/plain": [
       "<IPython.core.display.Math object>"
      ]
     },
     "metadata": {},
     "output_type": "display_data"
    }
   ],
   "source": [
    "eq_6_subs3 = eq_6_subs2.substitute_function(E_inner_vacuum_z, E_inner_vacuum_sol_z)\n",
    "print             (eq_6_subs3)\n",
    "display(Math(latex(eq_6_subs3)))"
   ]
  },
  {
   "cell_type": "code",
   "execution_count": null,
   "metadata": {},
   "outputs": [],
   "source": []
  },
  {
   "cell_type": "code",
   "execution_count": 72,
   "metadata": {},
   "outputs": [
    {
     "name": "stdout",
     "output_type": "stream",
     "text": [
      "eq_7 =\n",
      "-(k_z^2 - kappa^2)*E_bad_conductor_x(x) == -(k_y*kappa*sqrt(mu)*H_bad_conductor_f_z(x) - I*sqrt(epsilon)*k_z*diff(E_bad_conductor_z(x), x))/sqrt(epsilon)\n"
     ]
    },
    {
     "data": {
      "text/latex": [
       "$\\displaystyle -{\\left(k_{z}^{2} - \\kappa^{2}\\right)} E_{{\\rm bad}_{{\\rm conductor}_{x}}}\\left(x\\right) = -\\frac{k_{y} \\kappa \\sqrt{\\mu} H_{{\\rm bad}_{{\\rm conductor}_{f_{z}}}}\\left(x\\right) - i \\, \\sqrt{\\epsilon} k_{z} \\frac{\\partial}{\\partial x}E_{{\\rm bad}_{{\\rm conductor}_{z}}}\\left(x\\right)}{\\sqrt{\\epsilon}}$"
      ],
      "text/plain": [
       "<IPython.core.display.Math object>"
      ]
     },
     "metadata": {},
     "output_type": "display_data"
    }
   ],
   "source": [
    "print (\"eq_7 =\")\n",
    "print             (eq_7)\n",
    "display(Math(latex(eq_7)))"
   ]
  },
  {
   "cell_type": "code",
   "execution_count": 73,
   "metadata": {
    "scrolled": true
   },
   "outputs": [
    {
     "name": "stdout",
     "output_type": "stream",
     "text": [
      "-(k_z^2 - kappa^2)*E_bad_conductor_x(x) == I*k_z*diff(E_bad_conductor_z(x), x)\n"
     ]
    },
    {
     "data": {
      "text/latex": [
       "$\\displaystyle -{\\left(k_{z}^{2} - \\kappa^{2}\\right)} E_{{\\rm bad}_{{\\rm conductor}_{x}}}\\left(x\\right) = i \\, k_{z} \\frac{\\partial}{\\partial x}E_{{\\rm bad}_{{\\rm conductor}_{z}}}\\left(x\\right)$"
      ],
      "text/plain": [
       "<IPython.core.display.Math object>"
      ]
     },
     "metadata": {},
     "output_type": "display_data"
    }
   ],
   "source": [
    "eq_7_subs1 = eq_7.subs(k_y == 0)\n",
    "print             (eq_7_subs1)\n",
    "display(Math(latex(eq_7_subs1)))"
   ]
  },
  {
   "cell_type": "code",
   "execution_count": 74,
   "metadata": {
    "scrolled": true
   },
   "outputs": [
    {
     "name": "stdout",
     "output_type": "stream",
     "text": [
      "E_bad_conductor_x(x) == -I*k_z*diff(E_bad_conductor_z(x), x)/(k_z^2 - kappa^2)\n"
     ]
    },
    {
     "data": {
      "text/latex": [
       "$\\displaystyle E_{{\\rm bad}_{{\\rm conductor}_{x}}}\\left(x\\right) = -\\frac{i \\, k_{z} \\frac{\\partial}{\\partial x}E_{{\\rm bad}_{{\\rm conductor}_{z}}}\\left(x\\right)}{k_{z}^{2} - \\kappa^{2}}$"
      ],
      "text/plain": [
       "<IPython.core.display.Math object>"
      ]
     },
     "metadata": {},
     "output_type": "display_data"
    }
   ],
   "source": [
    "eq_7_subs2 = (eq_7_subs1/(kappa^2 - k_z^2)).full_simplify()\n",
    "print             (eq_7_subs2)\n",
    "display(Math(latex(eq_7_subs2)))"
   ]
  },
  {
   "cell_type": "code",
   "execution_count": 75,
   "metadata": {
    "scrolled": true
   },
   "outputs": [
    {
     "name": "stdout",
     "output_type": "stream",
     "text": [
      "E_bad_conductor_x(x) == B1_z*K_conductor*k_z*e^(I*K_conductor*x)/(k_z^2 - kappa^2)\n"
     ]
    },
    {
     "data": {
      "text/latex": [
       "$\\displaystyle E_{{\\rm bad}_{{\\rm conductor}_{x}}}\\left(x\\right) = \\frac{\\mathit{B1}_{z} K_{\\mathit{conductor}} k_{z} e^{\\left(i \\, K_{\\mathit{conductor}} x\\right)}}{k_{z}^{2} - \\kappa^{2}}$"
      ],
      "text/plain": [
       "<IPython.core.display.Math object>"
      ]
     },
     "metadata": {},
     "output_type": "display_data"
    }
   ],
   "source": [
    "eq_7_subs3 = eq_7_subs2.substitute_function(E_bad_conductor_z, E_bad_conductor_sol_z)\n",
    "print             (eq_7_subs3)\n",
    "display(Math(latex(eq_7_subs3)))"
   ]
  },
  {
   "cell_type": "code",
   "execution_count": 76,
   "metadata": {},
   "outputs": [
    {
     "name": "stdout",
     "output_type": "stream",
     "text": [
      "E_bad_conductor_x(x) == -B1_z*k_z*e^(I*sqrt(-k_z^2 + kappa^2)*x)/sqrt(-k_z^2 + kappa^2)\n"
     ]
    },
    {
     "data": {
      "text/latex": [
       "$\\displaystyle E_{{\\rm bad}_{{\\rm conductor}_{x}}}\\left(x\\right) = -\\frac{\\mathit{B1}_{z} k_{z} e^{\\left(i \\, \\sqrt{-k_{z}^{2} + \\kappa^{2}} x\\right)}}{\\sqrt{-k_{z}^{2} + \\kappa^{2}}}$"
      ],
      "text/plain": [
       "<IPython.core.display.Math object>"
      ]
     },
     "metadata": {},
     "output_type": "display_data"
    }
   ],
   "source": [
    "eq_7_subs4 = eq_7_subs3.subs(K_conductor_subs).full_simplify()\n",
    "print             (eq_7_subs4)\n",
    "display(Math(latex(eq_7_subs4)))"
   ]
  },
  {
   "cell_type": "code",
   "execution_count": null,
   "metadata": {},
   "outputs": [],
   "source": []
  },
  {
   "cell_type": "code",
   "execution_count": 77,
   "metadata": {},
   "outputs": [
    {
     "name": "stdout",
     "output_type": "stream",
     "text": [
      "eq_8 =\n",
      "-(k_z^2 - kappa^2)*sqrt(mu)*H_bad_conductor_f_y(x)/sqrt(epsilon) == -(k_y*k_z*sqrt(mu)*H_bad_conductor_f_z(x) - I*sqrt(epsilon)*kappa*diff(E_bad_conductor_z(x), x))/sqrt(epsilon)\n"
     ]
    },
    {
     "data": {
      "text/latex": [
       "$\\displaystyle -\\frac{{\\left(k_{z}^{2} - \\kappa^{2}\\right)} \\sqrt{\\mu} H_{{\\rm bad}_{{\\rm conductor}_{f_{y}}}}\\left(x\\right)}{\\sqrt{\\epsilon}} = -\\frac{k_{y} k_{z} \\sqrt{\\mu} H_{{\\rm bad}_{{\\rm conductor}_{f_{z}}}}\\left(x\\right) - i \\, \\sqrt{\\epsilon} \\kappa \\frac{\\partial}{\\partial x}E_{{\\rm bad}_{{\\rm conductor}_{z}}}\\left(x\\right)}{\\sqrt{\\epsilon}}$"
      ],
      "text/plain": [
       "<IPython.core.display.Math object>"
      ]
     },
     "metadata": {},
     "output_type": "display_data"
    }
   ],
   "source": [
    "print (\"eq_8 =\")\n",
    "print             (eq_8)\n",
    "display(Math(latex(eq_8)))"
   ]
  },
  {
   "cell_type": "code",
   "execution_count": 78,
   "metadata": {
    "scrolled": true
   },
   "outputs": [
    {
     "name": "stdout",
     "output_type": "stream",
     "text": [
      "-(k_z^2 - kappa^2)*sqrt(mu)*H_bad_conductor_f_y(x)/sqrt(epsilon) == I*kappa*diff(E_bad_conductor_z(x), x)\n"
     ]
    },
    {
     "data": {
      "text/latex": [
       "$\\displaystyle -\\frac{{\\left(k_{z}^{2} - \\kappa^{2}\\right)} \\sqrt{\\mu} H_{{\\rm bad}_{{\\rm conductor}_{f_{y}}}}\\left(x\\right)}{\\sqrt{\\epsilon}} = i \\, \\kappa \\frac{\\partial}{\\partial x}E_{{\\rm bad}_{{\\rm conductor}_{z}}}\\left(x\\right)$"
      ],
      "text/plain": [
       "<IPython.core.display.Math object>"
      ]
     },
     "metadata": {},
     "output_type": "display_data"
    }
   ],
   "source": [
    "eq_8_subs1 = eq_8.subs(k_y == 0)\n",
    "print             (eq_8_subs1)\n",
    "display(Math(latex(eq_8_subs1)))"
   ]
  },
  {
   "cell_type": "code",
   "execution_count": 79,
   "metadata": {
    "scrolled": true
   },
   "outputs": [
    {
     "name": "stdout",
     "output_type": "stream",
     "text": [
      "sqrt(mu)*H_bad_conductor_f_y(x)/sqrt(epsilon) == -I*kappa*diff(E_bad_conductor_z(x), x)/(k_z^2 - kappa^2)\n"
     ]
    },
    {
     "data": {
      "text/latex": [
       "$\\displaystyle \\frac{\\sqrt{\\mu} H_{{\\rm bad}_{{\\rm conductor}_{f_{y}}}}\\left(x\\right)}{\\sqrt{\\epsilon}} = -\\frac{i \\, \\kappa \\frac{\\partial}{\\partial x}E_{{\\rm bad}_{{\\rm conductor}_{z}}}\\left(x\\right)}{k_{z}^{2} - \\kappa^{2}}$"
      ],
      "text/plain": [
       "<IPython.core.display.Math object>"
      ]
     },
     "metadata": {},
     "output_type": "display_data"
    }
   ],
   "source": [
    "eq_8_subs2 = (eq_8_subs1/(kappa^2 - k_z^2)).full_simplify()\n",
    "print             (eq_8_subs2)\n",
    "display(Math(latex(eq_8_subs2)))"
   ]
  },
  {
   "cell_type": "code",
   "execution_count": 80,
   "metadata": {
    "scrolled": true
   },
   "outputs": [
    {
     "name": "stdout",
     "output_type": "stream",
     "text": [
      "sqrt(mu)*H_bad_conductor_f_y(x)/sqrt(epsilon) == B1_z*K_conductor*kappa*e^(I*K_conductor*x)/(k_z^2 - kappa^2)\n"
     ]
    },
    {
     "data": {
      "text/latex": [
       "$\\displaystyle \\frac{\\sqrt{\\mu} H_{{\\rm bad}_{{\\rm conductor}_{f_{y}}}}\\left(x\\right)}{\\sqrt{\\epsilon}} = \\frac{\\mathit{B1}_{z} K_{\\mathit{conductor}} \\kappa e^{\\left(i \\, K_{\\mathit{conductor}} x\\right)}}{k_{z}^{2} - \\kappa^{2}}$"
      ],
      "text/plain": [
       "<IPython.core.display.Math object>"
      ]
     },
     "metadata": {},
     "output_type": "display_data"
    }
   ],
   "source": [
    "eq_8_subs3 = eq_8_subs2.substitute_function(E_bad_conductor_z, E_bad_conductor_sol_z)\n",
    "print             (eq_8_subs3)\n",
    "display(Math(latex(eq_8_subs3)))"
   ]
  },
  {
   "cell_type": "code",
   "execution_count": null,
   "metadata": {},
   "outputs": [],
   "source": []
  },
  {
   "cell_type": "code",
   "execution_count": 81,
   "metadata": {},
   "outputs": [
    {
     "name": "stdout",
     "output_type": "stream",
     "text": [
      "H_inner_vacuum_f_y(x) == -I*(I*A2_z*K_vacuum*e^(I*K_vacuum*x) - I*A1_z*K_vacuum*e^(-I*K_vacuum*x))*kappa_vacuum/(k_z^2 - kappa_vacuum^2)\n"
     ]
    },
    {
     "data": {
      "text/latex": [
       "$\\displaystyle H_{{\\rm inner}_{{\\rm vacuum}_{f_{y}}}}\\left(x\\right) = -\\frac{i \\, {\\left(i \\, \\mathit{A2}_{z} K_{\\mathit{vacuum}} e^{\\left(i \\, K_{\\mathit{vacuum}} x\\right)} - i \\, \\mathit{A1}_{z} K_{\\mathit{vacuum}} e^{\\left(-i \\, K_{\\mathit{vacuum}} x\\right)}\\right)} \\kappa_{\\mathit{vacuum}}}{k_{z}^{2} - \\kappa_{\\mathit{vacuum}}^{2}}$"
      ],
      "text/plain": [
       "<IPython.core.display.Math object>"
      ]
     },
     "metadata": {},
     "output_type": "display_data"
    }
   ],
   "source": [
    "#eq_6_subs3 = eq_6_subs2.substitute_function(E_inner_vacuum_z, E_inner_vacuum_sol_z)\n",
    "print             (eq_6_subs3)\n",
    "display(Math(latex(eq_6_subs3)))"
   ]
  },
  {
   "cell_type": "code",
   "execution_count": null,
   "metadata": {},
   "outputs": [],
   "source": []
  },
  {
   "cell_type": "code",
   "execution_count": 82,
   "metadata": {},
   "outputs": [
    {
     "name": "stdout",
     "output_type": "stream",
     "text": [
      "E_inner_vacuum_x(0) == (A1_z*k_z - A2_z*k_z)/sqrt(-k_z^2 + kappa_vacuum^2)\n"
     ]
    },
    {
     "data": {
      "text/latex": [
       "$\\displaystyle E_{{\\rm inner}_{{\\rm vacuum}_{x}}}\\left(0\\right) = \\frac{\\mathit{A1}_{z} k_{z} - \\mathit{A2}_{z} k_{z}}{\\sqrt{-k_{z}^{2} + \\kappa_{\\mathit{vacuum}}^{2}}}$"
      ],
      "text/plain": [
       "<IPython.core.display.Math object>"
      ]
     },
     "metadata": {},
     "output_type": "display_data"
    },
    {
     "name": "stdout",
     "output_type": "stream",
     "text": [
      "\n",
      "E_bad_conductor_x(0) == -B1_z*k_z/sqrt(-k_z^2 + kappa^2)\n"
     ]
    },
    {
     "data": {
      "text/latex": [
       "$\\displaystyle E_{{\\rm bad}_{{\\rm conductor}_{x}}}\\left(0\\right) = -\\frac{\\mathit{B1}_{z} k_{z}}{\\sqrt{-k_{z}^{2} + \\kappa^{2}}}$"
      ],
      "text/plain": [
       "<IPython.core.display.Math object>"
      ]
     },
     "metadata": {},
     "output_type": "display_data"
    },
    {
     "name": "stdout",
     "output_type": "stream",
     "text": [
      "\n"
     ]
    }
   ],
   "source": [
    "# нормальная компонента электрического смещения\n",
    "eq_5_subs5 = eq_5_subs4.subs(x == 0)\n",
    "print(eq_5_subs5)\n",
    "display(Math(latex(eq_5_subs5)))\n",
    "\n",
    "print(\"\")\n",
    "\n",
    "eq_7_subs5 = eq_7_subs4.subs(x == 0)\n",
    "print(eq_7_subs5)\n",
    "display(Math(latex(eq_7_subs5)))\n",
    "print(\"\")"
   ]
  },
  {
   "cell_type": "code",
   "execution_count": 83,
   "metadata": {},
   "outputs": [],
   "source": [
    "fix_c_epsilon_complex = True"
   ]
  },
  {
   "cell_type": "code",
   "execution_count": 84,
   "metadata": {},
   "outputs": [
    {
     "name": "stdout",
     "output_type": "stream",
     "text": [
      "sqrt(mu)*H_bad_conductor_f_y(x)/sqrt(epsilon) == B1_z*K_conductor*kappa*e^(I*K_conductor*x)/(k_z^2 - kappa^2)\n",
      "\n",
      "H_inner_vacuum_f_y(x) == -I*(I*A2_z*K_vacuum*e^(I*K_vacuum*x) - I*A1_z*K_vacuum*e^(-I*K_vacuum*x))*kappa_vacuum/(k_z^2 - kappa_vacuum^2)\n",
      "\n"
     ]
    },
    {
     "data": {
      "text/latex": [
       "$\\displaystyle -\\frac{\\mathit{B1}_{z} {\\left(\\epsilon + \\frac{4 i \\, \\pi \\sigma}{\\omega}\\right)} \\kappa^{2}}{\\sqrt{-k_{z}^{2} + \\kappa^{2}} \\mu} = \\frac{{\\left(\\mathit{A1}_{z} - \\mathit{A2}_{z}\\right)} {\\left(\\epsilon + \\frac{4 i \\, \\pi \\sigma}{\\omega}\\right)} \\kappa_{\\mathit{vacuum}}^{2}}{\\sqrt{-k_{z}^{2} + \\kappa_{\\mathit{vacuum}}^{2}}}$"
      ],
      "text/plain": [
       "<IPython.core.display.Math object>"
      ]
     },
     "metadata": {},
     "output_type": "display_data"
    }
   ],
   "source": [
    "# тангенциальная компонента напряженности магнитного поля\n",
    "# eqHz_a  = (H_bad_conductor_sol_z(0)  == H_inner_vacuum_sol_z(0)).subs(eqEz_0, eqEy_0)\n",
    "# eqHy_a  = (H_bad_conductor_sol_y(0)  == H_inner_vacuum_sol_y(0)).subs(eqEy_0, eqEz_0)\n",
    "print(eq_8_subs3)\n",
    "print(\"\")\n",
    "print(eq_6_subs3)\n",
    "print(\"\")\n",
    "\n",
    "#8 sqrt(mu)*H_bad_conductor_f_y(x)/sqrt(epsilon) == B1_z*K_conductor*kappa*e^(I*K_conductor*x)/(k_z^2 - kappa^2)\n",
    "#6 H_inner_vacuum_f_y(x) == -I*(I*A2_z*K_vacuum*e^(I*K_vacuum*x) - I*A1_z*K_vacuum*e^(-I*K_vacuum*x))*kappa_vacuum/(k_z^2 - kappa_vacuum^2)\n",
    "\n",
    "# eq_Hy_0 = eq_8_subs3.rhs().subs(x == 0)*sqrt(epsilon_complex)/sqrt(mu) == eq_6_subs3.rhs().subs(x == 0)\n",
    "eq_Hy_0 = (eq_8_subs3.rhs().subs(x == 0).subs(K_conductor_subs)*sqrt(epsilon_complex)/sqrt(mu)) \\\n",
    "        == eq_6_subs3.rhs().subs(x == 0).subs(K_vacuum_subs)\n",
    "\n",
    "# sqrt(mu / epsilon_complex) = omega * mu / kappa\n",
    "# sqrt(mu / epsilon_complex) = omega * mu_rel * mu_0 / kappa\n",
    "\n",
    "# kappa/mu == omega * sqrt(epsilon_complex/mu)\n",
    "# sqrt(mu_0 / epsilon_0) = omega * mu_0 / kappa_vacuum\n",
    "\n",
    "# kappa_vacuum == omega/c\n",
    "# sqrt(mu_0 / epsilon_0) = c * mu_0\n",
    "# c = 1 / sqrt(mu_0 * epsilon_0)\n",
    "\n",
    "# kappa = omega * sqrt(epsilon_comlex*mu)\n",
    "# kappa_vacuum = omega * sqrt(epsilon_0*mu_0) = omega/c\n",
    "\n",
    "# sqrt(mu_0 / epsilon_0) = 1/(c*epsilon_0) = omega * mu_0 / kappa_vacuum\n",
    "# sqrt(mu / epsilon_complex) = 1/(c*epsilon_complex) = omega * mu / kappa\n",
    "\n",
    "# 1/mu_0 = c^2*epsolon_0\n",
    "\n",
    "#eq_Hy_0 = (eq_8_subs3.rhs().subs(x == 0).subs(K_conductor_subs)*kappa/(mu_rel * mu_0 * omega)) \\\n",
    "#        == eq_6_subs3.rhs().subs(x == 0).subs(K_vacuum_subs)*kappa_vacuum/(mu_0 * omega)\n",
    "\n",
    "# 1/mu_0 = c^2 * epsilon_0\n",
    "if not fix_c_epsilon_complex:\n",
    "    eq_Hy_0 =((eq_8_subs3.rhs().subs(x == 0).subs(K_conductor_subs)*kappa/(mu)) \\\n",
    "            == eq_6_subs3.rhs().subs(x == 0).subs(K_vacuum_subs)*kappa_vacuum/(mu_0)) \\\n",
    "              .full_simplify()\n",
    "else:\n",
    "    \n",
    "    eq_Hy_0 = epsilon_complex * ((eq_8_subs3.rhs().subs(x == 0).subs(K_conductor_subs)*kappa/(mu)) \\\n",
    "            ==                    eq_6_subs3.rhs().subs(x == 0).subs(K_vacuum_subs)*kappa_vacuum/(mu_0)) \\\n",
    "              .full_simplify()\n",
    "\n",
    "display(Math(latex(eq_Hy_0)))"
   ]
  },
  {
   "cell_type": "code",
   "execution_count": 85,
   "metadata": {},
   "outputs": [
    {
     "data": {
      "text/latex": [
       "$\\displaystyle -\\frac{{\\left(\\mathit{A1}_{z} + \\mathit{A2}_{z}\\right)} \\epsilon \\kappa^{2} \\omega + 4 \\, {\\left(i \\, \\pi \\mathit{A1}_{z} + i \\, \\pi \\mathit{A2}_{z}\\right)} \\kappa^{2} \\sigma}{\\sqrt{-k_{z}^{2} + \\kappa^{2}} \\mu \\omega} = \\frac{{\\left(\\mathit{A1}_{z} - \\mathit{A2}_{z}\\right)} \\epsilon \\kappa_{\\mathit{vacuum}}^{2} \\omega - 4 \\, {\\left(-i \\, \\pi \\mathit{A1}_{z} + i \\, \\pi \\mathit{A2}_{z}\\right)} \\kappa_{\\mathit{vacuum}}^{2} \\sigma}{\\sqrt{-k_{z}^{2} + \\kappa_{\\mathit{vacuum}}^{2}} \\omega}$"
      ],
      "text/plain": [
       "<IPython.core.display.Math object>"
      ]
     },
     "metadata": {},
     "output_type": "display_data"
    }
   ],
   "source": [
    "eq_Hy_0 = eq_Hy_0.subs(eqEz_a).full_simplify()\n",
    "display(Math(latex(eq_Hy_0)))"
   ]
  },
  {
   "cell_type": "code",
   "execution_count": null,
   "metadata": {},
   "outputs": [],
   "source": []
  },
  {
   "cell_type": "code",
   "execution_count": 86,
   "metadata": {},
   "outputs": [],
   "source": [
    "eq_Hy_0_lhs_num = eq_Hy_0.lhs().numerator()\n",
    "eq_Hy_0_lhs_den = eq_Hy_0.lhs().denominator()\n",
    "\n",
    "eq_Hy_0_rhs_num = eq_Hy_0.rhs().numerator()\n",
    "eq_Hy_0_rhs_den = eq_Hy_0.rhs().denominator()"
   ]
  },
  {
   "cell_type": "code",
   "execution_count": 87,
   "metadata": {},
   "outputs": [
    {
     "data": {
      "text/latex": [
       "$\\displaystyle -\\mathit{A1}_{z} \\epsilon \\kappa^{2} \\omega - \\mathit{A2}_{z} \\epsilon \\kappa^{2} \\omega - 4 i \\, \\pi \\mathit{A1}_{z} \\kappa^{2} \\sigma - 4 i \\, \\pi \\mathit{A2}_{z} \\kappa^{2} \\sigma$"
      ],
      "text/plain": [
       "<IPython.core.display.Math object>"
      ]
     },
     "metadata": {},
     "output_type": "display_data"
    },
    {
     "data": {
      "text/latex": [
       "$\\displaystyle \\sqrt{-k_{z}^{2} + \\kappa^{2}} \\mu \\omega$"
      ],
      "text/plain": [
       "<IPython.core.display.Math object>"
      ]
     },
     "metadata": {},
     "output_type": "display_data"
    },
    {
     "data": {
      "text/latex": [
       "$\\displaystyle \\mathit{A1}_{z} \\epsilon \\kappa_{\\mathit{vacuum}}^{2} \\omega - \\mathit{A2}_{z} \\epsilon \\kappa_{\\mathit{vacuum}}^{2} \\omega + 4 i \\, \\pi \\mathit{A1}_{z} \\kappa_{\\mathit{vacuum}}^{2} \\sigma - 4 i \\, \\pi \\mathit{A2}_{z} \\kappa_{\\mathit{vacuum}}^{2} \\sigma$"
      ],
      "text/plain": [
       "<IPython.core.display.Math object>"
      ]
     },
     "metadata": {},
     "output_type": "display_data"
    },
    {
     "data": {
      "text/latex": [
       "$\\displaystyle \\sqrt{-k_{z}^{2} + \\kappa_{\\mathit{vacuum}}^{2}} \\omega$"
      ],
      "text/plain": [
       "<IPython.core.display.Math object>"
      ]
     },
     "metadata": {},
     "output_type": "display_data"
    }
   ],
   "source": [
    "display(Math(latex(eq_Hy_0_lhs_num)))\n",
    "display(Math(latex(eq_Hy_0_lhs_den)))\n",
    "\n",
    "display(Math(latex(eq_Hy_0_rhs_num)))\n",
    "display(Math(latex(eq_Hy_0_rhs_den)))"
   ]
  },
  {
   "cell_type": "code",
   "execution_count": 88,
   "metadata": {},
   "outputs": [
    {
     "data": {
      "text/plain": [
       "kappa_vacuum^2 == omega^2/c^2"
      ]
     },
     "execution_count": 88,
     "metadata": {},
     "output_type": "execute_result"
    }
   ],
   "source": [
    "eq_kappa_inner_vacuum"
   ]
  },
  {
   "cell_type": "code",
   "execution_count": 89,
   "metadata": {},
   "outputs": [
    {
     "data": {
      "text/latex": [
       "$\\displaystyle -\\frac{\\sqrt{-k_{z}^{2} + \\kappa^{2}} \\mu \\omega}{\\mathit{A1}_{z} \\epsilon \\kappa^{2} \\omega + \\mathit{A2}_{z} \\epsilon \\kappa^{2} \\omega + 4 i \\, \\pi \\mathit{A1}_{z} \\kappa^{2} \\sigma + 4 i \\, \\pi \\mathit{A2}_{z} \\kappa^{2} \\sigma} = \\frac{\\sqrt{-k_{z}^{2} + \\kappa_{\\mathit{vacuum}}^{2}} \\omega}{\\mathit{A1}_{z} \\epsilon \\kappa_{\\mathit{vacuum}}^{2} \\omega - \\mathit{A2}_{z} \\epsilon \\kappa_{\\mathit{vacuum}}^{2} \\omega + 4 i \\, \\pi \\mathit{A1}_{z} \\kappa_{\\mathit{vacuum}}^{2} \\sigma - 4 i \\, \\pi \\mathit{A2}_{z} \\kappa_{\\mathit{vacuum}}^{2} \\sigma}$"
      ],
      "text/plain": [
       "<IPython.core.display.Math object>"
      ]
     },
     "metadata": {},
     "output_type": "display_data"
    }
   ],
   "source": [
    "eq_Hy_0_inv = eq_Hy_0_lhs_den / eq_Hy_0_lhs_num == eq_Hy_0_rhs_den / eq_Hy_0_rhs_num\n",
    "display(Math(latex(eq_Hy_0_inv)))"
   ]
  },
  {
   "cell_type": "code",
   "execution_count": 90,
   "metadata": {},
   "outputs": [
    {
     "data": {
      "text/latex": [
       "$\\displaystyle -\\frac{k_{z}^{2} \\mu^{2} \\omega^{2}}{\\mathit{A1}_{z}^{2} \\epsilon^{2} \\kappa^{4} \\omega^{2} + 2 \\, \\mathit{A1}_{z} \\mathit{A2}_{z} \\epsilon^{2} \\kappa^{4} \\omega^{2} + \\mathit{A2}_{z}^{2} \\epsilon^{2} \\kappa^{4} \\omega^{2} + 8 i \\, \\pi \\mathit{A1}_{z}^{2} \\epsilon \\kappa^{4} \\omega \\sigma + 16 i \\, \\pi \\mathit{A1}_{z} \\mathit{A2}_{z} \\epsilon \\kappa^{4} \\omega \\sigma + 8 i \\, \\pi \\mathit{A2}_{z}^{2} \\epsilon \\kappa^{4} \\omega \\sigma - 16 \\, \\pi^{2} \\mathit{A1}_{z}^{2} \\kappa^{4} \\sigma^{2} - 32 \\, \\pi^{2} \\mathit{A1}_{z} \\mathit{A2}_{z} \\kappa^{4} \\sigma^{2} - 16 \\, \\pi^{2} \\mathit{A2}_{z}^{2} \\kappa^{4} \\sigma^{2}} + \\frac{\\kappa^{2} \\mu^{2} \\omega^{2}}{\\mathit{A1}_{z}^{2} \\epsilon^{2} \\kappa^{4} \\omega^{2} + 2 \\, \\mathit{A1}_{z} \\mathit{A2}_{z} \\epsilon^{2} \\kappa^{4} \\omega^{2} + \\mathit{A2}_{z}^{2} \\epsilon^{2} \\kappa^{4} \\omega^{2} + 8 i \\, \\pi \\mathit{A1}_{z}^{2} \\epsilon \\kappa^{4} \\omega \\sigma + 16 i \\, \\pi \\mathit{A1}_{z} \\mathit{A2}_{z} \\epsilon \\kappa^{4} \\omega \\sigma + 8 i \\, \\pi \\mathit{A2}_{z}^{2} \\epsilon \\kappa^{4} \\omega \\sigma - 16 \\, \\pi^{2} \\mathit{A1}_{z}^{2} \\kappa^{4} \\sigma^{2} - 32 \\, \\pi^{2} \\mathit{A1}_{z} \\mathit{A2}_{z} \\kappa^{4} \\sigma^{2} - 16 \\, \\pi^{2} \\mathit{A2}_{z}^{2} \\kappa^{4} \\sigma^{2}} = -\\frac{k_{z}^{2} \\omega^{2}}{\\mathit{A1}_{z}^{2} \\epsilon^{2} \\kappa_{\\mathit{vacuum}}^{4} \\omega^{2} - 2 \\, \\mathit{A1}_{z} \\mathit{A2}_{z} \\epsilon^{2} \\kappa_{\\mathit{vacuum}}^{4} \\omega^{2} + \\mathit{A2}_{z}^{2} \\epsilon^{2} \\kappa_{\\mathit{vacuum}}^{4} \\omega^{2} + 8 i \\, \\pi \\mathit{A1}_{z}^{2} \\epsilon \\kappa_{\\mathit{vacuum}}^{4} \\omega \\sigma - 16 i \\, \\pi \\mathit{A1}_{z} \\mathit{A2}_{z} \\epsilon \\kappa_{\\mathit{vacuum}}^{4} \\omega \\sigma + 8 i \\, \\pi \\mathit{A2}_{z}^{2} \\epsilon \\kappa_{\\mathit{vacuum}}^{4} \\omega \\sigma - 16 \\, \\pi^{2} \\mathit{A1}_{z}^{2} \\kappa_{\\mathit{vacuum}}^{4} \\sigma^{2} + 32 \\, \\pi^{2} \\mathit{A1}_{z} \\mathit{A2}_{z} \\kappa_{\\mathit{vacuum}}^{4} \\sigma^{2} - 16 \\, \\pi^{2} \\mathit{A2}_{z}^{2} \\kappa_{\\mathit{vacuum}}^{4} \\sigma^{2}} + \\frac{\\kappa_{\\mathit{vacuum}}^{2} \\omega^{2}}{\\mathit{A1}_{z}^{2} \\epsilon^{2} \\kappa_{\\mathit{vacuum}}^{4} \\omega^{2} - 2 \\, \\mathit{A1}_{z} \\mathit{A2}_{z} \\epsilon^{2} \\kappa_{\\mathit{vacuum}}^{4} \\omega^{2} + \\mathit{A2}_{z}^{2} \\epsilon^{2} \\kappa_{\\mathit{vacuum}}^{4} \\omega^{2} + 8 i \\, \\pi \\mathit{A1}_{z}^{2} \\epsilon \\kappa_{\\mathit{vacuum}}^{4} \\omega \\sigma - 16 i \\, \\pi \\mathit{A1}_{z} \\mathit{A2}_{z} \\epsilon \\kappa_{\\mathit{vacuum}}^{4} \\omega \\sigma + 8 i \\, \\pi \\mathit{A2}_{z}^{2} \\epsilon \\kappa_{\\mathit{vacuum}}^{4} \\omega \\sigma - 16 \\, \\pi^{2} \\mathit{A1}_{z}^{2} \\kappa_{\\mathit{vacuum}}^{4} \\sigma^{2} + 32 \\, \\pi^{2} \\mathit{A1}_{z} \\mathit{A2}_{z} \\kappa_{\\mathit{vacuum}}^{4} \\sigma^{2} - 16 \\, \\pi^{2} \\mathit{A2}_{z}^{2} \\kappa_{\\mathit{vacuum}}^{4} \\sigma^{2}}$"
      ],
      "text/plain": [
       "<IPython.core.display.Math object>"
      ]
     },
     "metadata": {},
     "output_type": "display_data"
    }
   ],
   "source": [
    "eq_Hy_0_inv_2 = (eq_Hy_0_inv.lhs()^2).expand() == (eq_Hy_0_inv.rhs()^2).expand()\n",
    "display(Math(latex(eq_Hy_0_inv_2)))"
   ]
  },
  {
   "cell_type": "code",
   "execution_count": 91,
   "metadata": {},
   "outputs": [
    {
     "data": {
      "text/latex": [
       "$\\displaystyle \\frac{\\kappa^{2} \\mu^{2} \\omega^{2}}{\\mathit{A1}_{z}^{2} \\epsilon^{2} \\kappa^{4} \\omega^{2} + 2 \\, \\mathit{A1}_{z} \\mathit{A2}_{z} \\epsilon^{2} \\kappa^{4} \\omega^{2} + \\mathit{A2}_{z}^{2} \\epsilon^{2} \\kappa^{4} \\omega^{2} + 8 i \\, \\pi \\mathit{A1}_{z}^{2} \\epsilon \\kappa^{4} \\omega \\sigma + 16 i \\, \\pi \\mathit{A1}_{z} \\mathit{A2}_{z} \\epsilon \\kappa^{4} \\omega \\sigma + 8 i \\, \\pi \\mathit{A2}_{z}^{2} \\epsilon \\kappa^{4} \\omega \\sigma - 16 \\, \\pi^{2} \\mathit{A1}_{z}^{2} \\kappa^{4} \\sigma^{2} - 32 \\, \\pi^{2} \\mathit{A1}_{z} \\mathit{A2}_{z} \\kappa^{4} \\sigma^{2} - 16 \\, \\pi^{2} \\mathit{A2}_{z}^{2} \\kappa^{4} \\sigma^{2}} - {\\left(\\frac{\\mu^{2} \\omega^{2}}{\\mathit{A1}_{z}^{2} \\epsilon^{2} \\kappa^{4} \\omega^{2} + 2 \\, \\mathit{A1}_{z} \\mathit{A2}_{z} \\epsilon^{2} \\kappa^{4} \\omega^{2} + \\mathit{A2}_{z}^{2} \\epsilon^{2} \\kappa^{4} \\omega^{2} + 8 i \\, \\pi \\mathit{A1}_{z}^{2} \\epsilon \\kappa^{4} \\omega \\sigma + 16 i \\, \\pi \\mathit{A1}_{z} \\mathit{A2}_{z} \\epsilon \\kappa^{4} \\omega \\sigma + 8 i \\, \\pi \\mathit{A2}_{z}^{2} \\epsilon \\kappa^{4} \\omega \\sigma - 16 \\, \\pi^{2} \\mathit{A1}_{z}^{2} \\kappa^{4} \\sigma^{2} - 32 \\, \\pi^{2} \\mathit{A1}_{z} \\mathit{A2}_{z} \\kappa^{4} \\sigma^{2} - 16 \\, \\pi^{2} \\mathit{A2}_{z}^{2} \\kappa^{4} \\sigma^{2}} - \\frac{\\omega^{2}}{\\mathit{A1}_{z}^{2} \\epsilon^{2} \\kappa_{\\mathit{vacuum}}^{4} \\omega^{2} - 2 \\, \\mathit{A1}_{z} \\mathit{A2}_{z} \\epsilon^{2} \\kappa_{\\mathit{vacuum}}^{4} \\omega^{2} + \\mathit{A2}_{z}^{2} \\epsilon^{2} \\kappa_{\\mathit{vacuum}}^{4} \\omega^{2} + 8 i \\, \\pi \\mathit{A1}_{z}^{2} \\epsilon \\kappa_{\\mathit{vacuum}}^{4} \\omega \\sigma - 16 i \\, \\pi \\mathit{A1}_{z} \\mathit{A2}_{z} \\epsilon \\kappa_{\\mathit{vacuum}}^{4} \\omega \\sigma + 8 i \\, \\pi \\mathit{A2}_{z}^{2} \\epsilon \\kappa_{\\mathit{vacuum}}^{4} \\omega \\sigma - 16 \\, \\pi^{2} \\mathit{A1}_{z}^{2} \\kappa_{\\mathit{vacuum}}^{4} \\sigma^{2} + 32 \\, \\pi^{2} \\mathit{A1}_{z} \\mathit{A2}_{z} \\kappa_{\\mathit{vacuum}}^{4} \\sigma^{2} - 16 \\, \\pi^{2} \\mathit{A2}_{z}^{2} \\kappa_{\\mathit{vacuum}}^{4} \\sigma^{2}}\\right)} k_{z}^{2} - \\frac{\\kappa_{\\mathit{vacuum}}^{2} \\omega^{2}}{\\mathit{A1}_{z}^{2} \\epsilon^{2} \\kappa_{\\mathit{vacuum}}^{4} \\omega^{2} - 2 \\, \\mathit{A1}_{z} \\mathit{A2}_{z} \\epsilon^{2} \\kappa_{\\mathit{vacuum}}^{4} \\omega^{2} + \\mathit{A2}_{z}^{2} \\epsilon^{2} \\kappa_{\\mathit{vacuum}}^{4} \\omega^{2} + 8 i \\, \\pi \\mathit{A1}_{z}^{2} \\epsilon \\kappa_{\\mathit{vacuum}}^{4} \\omega \\sigma - 16 i \\, \\pi \\mathit{A1}_{z} \\mathit{A2}_{z} \\epsilon \\kappa_{\\mathit{vacuum}}^{4} \\omega \\sigma + 8 i \\, \\pi \\mathit{A2}_{z}^{2} \\epsilon \\kappa_{\\mathit{vacuum}}^{4} \\omega \\sigma - 16 \\, \\pi^{2} \\mathit{A1}_{z}^{2} \\kappa_{\\mathit{vacuum}}^{4} \\sigma^{2} + 32 \\, \\pi^{2} \\mathit{A1}_{z} \\mathit{A2}_{z} \\kappa_{\\mathit{vacuum}}^{4} \\sigma^{2} - 16 \\, \\pi^{2} \\mathit{A2}_{z}^{2} \\kappa_{\\mathit{vacuum}}^{4} \\sigma^{2}} = 0$"
      ],
      "text/plain": [
       "<IPython.core.display.Math object>"
      ]
     },
     "metadata": {},
     "output_type": "display_data"
    }
   ],
   "source": [
    "eq_Hy_0_inv_2_collect = (eq_Hy_0_inv_2.lhs() - eq_Hy_0_inv_2.rhs()).collect(k_z) == 0\n",
    "display(Math(latex(eq_Hy_0_inv_2_collect)))"
   ]
  },
  {
   "cell_type": "code",
   "execution_count": 92,
   "metadata": {},
   "outputs": [
    {
     "data": {
      "text/latex": [
       "$\\displaystyle \\frac{1}{k_{z}^{2}} = \\frac{{\\left(\\mathit{A1}_{z}^{2} - 2 \\, \\mathit{A1}_{z} \\mathit{A2}_{z} + \\mathit{A2}_{z}^{2}\\right)} \\kappa_{\\mathit{vacuum}}^{4} \\mu^{2} - {\\left(\\mathit{A1}_{z}^{2} + 2 \\, \\mathit{A1}_{z} \\mathit{A2}_{z} + \\mathit{A2}_{z}^{2}\\right)} \\kappa^{4}}{{\\left(\\mathit{A1}_{z}^{2} - 2 \\, \\mathit{A1}_{z} \\mathit{A2}_{z} + \\mathit{A2}_{z}^{2}\\right)} \\kappa^{2} \\kappa_{\\mathit{vacuum}}^{4} \\mu^{2} - {\\left(\\mathit{A1}_{z}^{2} + 2 \\, \\mathit{A1}_{z} \\mathit{A2}_{z} + \\mathit{A2}_{z}^{2}\\right)} \\kappa^{4} \\kappa_{\\mathit{vacuum}}^{2}}$"
      ],
      "text/plain": [
       "<IPython.core.display.Math object>"
      ]
     },
     "metadata": {},
     "output_type": "display_data"
    },
    {
     "data": {
      "text/latex": [
       "$\\displaystyle \\frac{1}{k_{z}^{2}} = \\frac{\\frac{\\mathit{A1}_{z}^{2} \\kappa_{\\mathit{vacuum}}^{2} \\mu^{2}}{\\kappa^{2}} - \\frac{2 \\, \\mathit{A1}_{z} \\mathit{A2}_{z} \\kappa_{\\mathit{vacuum}}^{2} \\mu^{2}}{\\kappa^{2}} + \\frac{\\mathit{A2}_{z}^{2} \\kappa_{\\mathit{vacuum}}^{2} \\mu^{2}}{\\kappa^{2}} - \\frac{\\mathit{A1}_{z}^{2} \\kappa^{2}}{\\kappa_{\\mathit{vacuum}}^{2}} - \\frac{2 \\, \\mathit{A1}_{z} \\mathit{A2}_{z} \\kappa^{2}}{\\kappa_{\\mathit{vacuum}}^{2}} - \\frac{\\mathit{A2}_{z}^{2} \\kappa^{2}}{\\kappa_{\\mathit{vacuum}}^{2}}}{\\mathit{A1}_{z}^{2} \\kappa_{\\mathit{vacuum}}^{2} \\mu^{2} - 2 \\, \\mathit{A1}_{z} \\mathit{A2}_{z} \\kappa_{\\mathit{vacuum}}^{2} \\mu^{2} + \\mathit{A2}_{z}^{2} \\kappa_{\\mathit{vacuum}}^{2} \\mu^{2} - \\mathit{A1}_{z}^{2} \\kappa^{2} - 2 \\, \\mathit{A1}_{z} \\mathit{A2}_{z} \\kappa^{2} - \\mathit{A2}_{z}^{2} \\kappa^{2}}$"
      ],
      "text/plain": [
       "<IPython.core.display.Math object>"
      ]
     },
     "metadata": {},
     "output_type": "display_data"
    }
   ],
   "source": [
    "one_per_k_z = var(\"one_per_k_z\")\n",
    "one_per_k_z_sol = solve(eq_Hy_0_inv_2_collect.subs(k_z == 1/one_per_k_z), one_per_k_z^2)[0].subs(one_per_k_z == 1/k_z)\n",
    "display(Math(latex(one_per_k_z_sol)))\n",
    "\n",
    "\n",
    "one_per_k_z_sol_num = one_per_k_z_sol.rhs().numerator()\n",
    "one_per_k_z_sol_den = one_per_k_z_sol.rhs().denominator()\n",
    "\n",
    "one_per_k_z_sol_2 = 1/k_z^2 == (one_per_k_z_sol_num/kappa^2/kappa_vacuum^2).expand() / \\\n",
    "                               (one_per_k_z_sol_den/kappa^2/kappa_vacuum^2).expand()\n",
    "\n",
    "display(Math(latex(one_per_k_z_sol_2)))"
   ]
  },
  {
   "cell_type": "code",
   "execution_count": null,
   "metadata": {},
   "outputs": [],
   "source": []
  },
  {
   "cell_type": "code",
   "execution_count": 93,
   "metadata": {},
   "outputs": [
    {
     "name": "stdout",
     "output_type": "stream",
     "text": [
      "kappa_vacuum == omega/c\n"
     ]
    }
   ],
   "source": [
    "kappa_vacuum_sol = solve(eq_kappa_inner_vacuum, kappa_vacuum)[1]\n",
    "print(kappa_vacuum_sol)"
   ]
  },
  {
   "cell_type": "code",
   "execution_count": 94,
   "metadata": {},
   "outputs": [
    {
     "name": "stdout",
     "output_type": "stream",
     "text": [
      "kappa == sqrt(4*I*pi*c*mu*omega*sigma + epsilon*mu*omega^2)/c\n"
     ]
    }
   ],
   "source": [
    "kappa_sol = solve(eq_kappa, kappa)[1]\n",
    "print(kappa_sol)"
   ]
  },
  {
   "cell_type": "code",
   "execution_count": null,
   "metadata": {},
   "outputs": [],
   "source": []
  },
  {
   "cell_type": "code",
   "execution_count": 95,
   "metadata": {},
   "outputs": [
    {
     "data": {
      "text/latex": [
       "$\\displaystyle \\frac{1}{k_{z}^{2}} = \\frac{\\frac{\\mathit{A1}_{z}^{2} \\mu^{2} \\omega^{2}}{4 i \\, \\pi c \\mu \\omega \\sigma + \\epsilon \\mu \\omega^{2}} - \\frac{2 \\, \\mathit{A1}_{z} \\mathit{A2}_{z} \\mu^{2} \\omega^{2}}{4 i \\, \\pi c \\mu \\omega \\sigma + \\epsilon \\mu \\omega^{2}} + \\frac{\\mathit{A2}_{z}^{2} \\mu^{2} \\omega^{2}}{4 i \\, \\pi c \\mu \\omega \\sigma + \\epsilon \\mu \\omega^{2}} - \\frac{{\\left(4 i \\, \\pi c \\mu \\omega \\sigma + \\epsilon \\mu \\omega^{2}\\right)} \\mathit{A1}_{z}^{2}}{\\omega^{2}} - \\frac{2 \\, {\\left(4 i \\, \\pi c \\mu \\omega \\sigma + \\epsilon \\mu \\omega^{2}\\right)} \\mathit{A1}_{z} \\mathit{A2}_{z}}{\\omega^{2}} - \\frac{{\\left(4 i \\, \\pi c \\mu \\omega \\sigma + \\epsilon \\mu \\omega^{2}\\right)} \\mathit{A2}_{z}^{2}}{\\omega^{2}}}{\\frac{\\mathit{A1}_{z}^{2} \\mu^{2} \\omega^{2}}{c^{2}} - \\frac{2 \\, \\mathit{A1}_{z} \\mathit{A2}_{z} \\mu^{2} \\omega^{2}}{c^{2}} + \\frac{\\mathit{A2}_{z}^{2} \\mu^{2} \\omega^{2}}{c^{2}} - \\frac{{\\left(4 i \\, \\pi c \\mu \\omega \\sigma + \\epsilon \\mu \\omega^{2}\\right)} \\mathit{A1}_{z}^{2}}{c^{2}} - \\frac{2 \\, {\\left(4 i \\, \\pi c \\mu \\omega \\sigma + \\epsilon \\mu \\omega^{2}\\right)} \\mathit{A1}_{z} \\mathit{A2}_{z}}{c^{2}} - \\frac{{\\left(4 i \\, \\pi c \\mu \\omega \\sigma + \\epsilon \\mu \\omega^{2}\\right)} \\mathit{A2}_{z}^{2}}{c^{2}}}$"
      ],
      "text/plain": [
       "<IPython.core.display.Math object>"
      ]
     },
     "metadata": {},
     "output_type": "display_data"
    }
   ],
   "source": [
    "one_per_k_z_sol_2_subs = one_per_k_z_sol_2.subs(kappa_vacuum_sol).subs(kappa_sol)\n",
    "display(Math(latex(one_per_k_z_sol_2_subs)))"
   ]
  },
  {
   "cell_type": "code",
   "execution_count": null,
   "metadata": {},
   "outputs": [],
   "source": []
  },
  {
   "cell_type": "code",
   "execution_count": 96,
   "metadata": {},
   "outputs": [
    {
     "data": {
      "text/latex": [
       "$\\displaystyle k_{z} = -\\sqrt{\\frac{\\mathit{A1}_{z}^{2} \\kappa_{\\mathit{vacuum}}^{2} \\mu^{2}}{\\mathit{A1}_{z}^{2} \\kappa_{\\mathit{vacuum}}^{4} \\mu^{2} - 2 \\, \\mathit{A1}_{z} \\mathit{A2}_{z} \\kappa_{\\mathit{vacuum}}^{4} \\mu^{2} + \\mathit{A2}_{z}^{2} \\kappa_{\\mathit{vacuum}}^{4} \\mu^{2} - \\mathit{A1}_{z}^{2} \\kappa^{4} - 2 \\, \\mathit{A1}_{z} \\mathit{A2}_{z} \\kappa^{4} - \\mathit{A2}_{z}^{2} \\kappa^{4}} - \\frac{2 \\, \\mathit{A1}_{z} \\mathit{A2}_{z} \\kappa_{\\mathit{vacuum}}^{2} \\mu^{2}}{\\mathit{A1}_{z}^{2} \\kappa_{\\mathit{vacuum}}^{4} \\mu^{2} - 2 \\, \\mathit{A1}_{z} \\mathit{A2}_{z} \\kappa_{\\mathit{vacuum}}^{4} \\mu^{2} + \\mathit{A2}_{z}^{2} \\kappa_{\\mathit{vacuum}}^{4} \\mu^{2} - \\mathit{A1}_{z}^{2} \\kappa^{4} - 2 \\, \\mathit{A1}_{z} \\mathit{A2}_{z} \\kappa^{4} - \\mathit{A2}_{z}^{2} \\kappa^{4}} + \\frac{\\mathit{A2}_{z}^{2} \\kappa_{\\mathit{vacuum}}^{2} \\mu^{2}}{\\mathit{A1}_{z}^{2} \\kappa_{\\mathit{vacuum}}^{4} \\mu^{2} - 2 \\, \\mathit{A1}_{z} \\mathit{A2}_{z} \\kappa_{\\mathit{vacuum}}^{4} \\mu^{2} + \\mathit{A2}_{z}^{2} \\kappa_{\\mathit{vacuum}}^{4} \\mu^{2} - \\mathit{A1}_{z}^{2} \\kappa^{4} - 2 \\, \\mathit{A1}_{z} \\mathit{A2}_{z} \\kappa^{4} - \\mathit{A2}_{z}^{2} \\kappa^{4}} - \\frac{\\mathit{A1}_{z}^{2} \\kappa^{2}}{\\mathit{A1}_{z}^{2} \\kappa_{\\mathit{vacuum}}^{4} \\mu^{2} - 2 \\, \\mathit{A1}_{z} \\mathit{A2}_{z} \\kappa_{\\mathit{vacuum}}^{4} \\mu^{2} + \\mathit{A2}_{z}^{2} \\kappa_{\\mathit{vacuum}}^{4} \\mu^{2} - \\mathit{A1}_{z}^{2} \\kappa^{4} - 2 \\, \\mathit{A1}_{z} \\mathit{A2}_{z} \\kappa^{4} - \\mathit{A2}_{z}^{2} \\kappa^{4}} - \\frac{2 \\, \\mathit{A1}_{z} \\mathit{A2}_{z} \\kappa^{2}}{\\mathit{A1}_{z}^{2} \\kappa_{\\mathit{vacuum}}^{4} \\mu^{2} - 2 \\, \\mathit{A1}_{z} \\mathit{A2}_{z} \\kappa_{\\mathit{vacuum}}^{4} \\mu^{2} + \\mathit{A2}_{z}^{2} \\kappa_{\\mathit{vacuum}}^{4} \\mu^{2} - \\mathit{A1}_{z}^{2} \\kappa^{4} - 2 \\, \\mathit{A1}_{z} \\mathit{A2}_{z} \\kappa^{4} - \\mathit{A2}_{z}^{2} \\kappa^{4}} - \\frac{\\mathit{A2}_{z}^{2} \\kappa^{2}}{\\mathit{A1}_{z}^{2} \\kappa_{\\mathit{vacuum}}^{4} \\mu^{2} - 2 \\, \\mathit{A1}_{z} \\mathit{A2}_{z} \\kappa_{\\mathit{vacuum}}^{4} \\mu^{2} + \\mathit{A2}_{z}^{2} \\kappa_{\\mathit{vacuum}}^{4} \\mu^{2} - \\mathit{A1}_{z}^{2} \\kappa^{4} - 2 \\, \\mathit{A1}_{z} \\mathit{A2}_{z} \\kappa^{4} - \\mathit{A2}_{z}^{2} \\kappa^{4}}} \\kappa \\kappa_{\\mathit{vacuum}}$"
      ],
      "text/plain": [
       "<IPython.core.display.Math object>"
      ]
     },
     "metadata": {},
     "output_type": "display_data"
    },
    {
     "name": "stdout",
     "output_type": "stream",
     "text": [
      "\n"
     ]
    },
    {
     "data": {
      "text/latex": [
       "$\\displaystyle k_{z} = \\sqrt{\\frac{\\mathit{A1}_{z}^{2} \\kappa_{\\mathit{vacuum}}^{2} \\mu^{2}}{\\mathit{A1}_{z}^{2} \\kappa_{\\mathit{vacuum}}^{4} \\mu^{2} - 2 \\, \\mathit{A1}_{z} \\mathit{A2}_{z} \\kappa_{\\mathit{vacuum}}^{4} \\mu^{2} + \\mathit{A2}_{z}^{2} \\kappa_{\\mathit{vacuum}}^{4} \\mu^{2} - \\mathit{A1}_{z}^{2} \\kappa^{4} - 2 \\, \\mathit{A1}_{z} \\mathit{A2}_{z} \\kappa^{4} - \\mathit{A2}_{z}^{2} \\kappa^{4}} - \\frac{2 \\, \\mathit{A1}_{z} \\mathit{A2}_{z} \\kappa_{\\mathit{vacuum}}^{2} \\mu^{2}}{\\mathit{A1}_{z}^{2} \\kappa_{\\mathit{vacuum}}^{4} \\mu^{2} - 2 \\, \\mathit{A1}_{z} \\mathit{A2}_{z} \\kappa_{\\mathit{vacuum}}^{4} \\mu^{2} + \\mathit{A2}_{z}^{2} \\kappa_{\\mathit{vacuum}}^{4} \\mu^{2} - \\mathit{A1}_{z}^{2} \\kappa^{4} - 2 \\, \\mathit{A1}_{z} \\mathit{A2}_{z} \\kappa^{4} - \\mathit{A2}_{z}^{2} \\kappa^{4}} + \\frac{\\mathit{A2}_{z}^{2} \\kappa_{\\mathit{vacuum}}^{2} \\mu^{2}}{\\mathit{A1}_{z}^{2} \\kappa_{\\mathit{vacuum}}^{4} \\mu^{2} - 2 \\, \\mathit{A1}_{z} \\mathit{A2}_{z} \\kappa_{\\mathit{vacuum}}^{4} \\mu^{2} + \\mathit{A2}_{z}^{2} \\kappa_{\\mathit{vacuum}}^{4} \\mu^{2} - \\mathit{A1}_{z}^{2} \\kappa^{4} - 2 \\, \\mathit{A1}_{z} \\mathit{A2}_{z} \\kappa^{4} - \\mathit{A2}_{z}^{2} \\kappa^{4}} - \\frac{\\mathit{A1}_{z}^{2} \\kappa^{2}}{\\mathit{A1}_{z}^{2} \\kappa_{\\mathit{vacuum}}^{4} \\mu^{2} - 2 \\, \\mathit{A1}_{z} \\mathit{A2}_{z} \\kappa_{\\mathit{vacuum}}^{4} \\mu^{2} + \\mathit{A2}_{z}^{2} \\kappa_{\\mathit{vacuum}}^{4} \\mu^{2} - \\mathit{A1}_{z}^{2} \\kappa^{4} - 2 \\, \\mathit{A1}_{z} \\mathit{A2}_{z} \\kappa^{4} - \\mathit{A2}_{z}^{2} \\kappa^{4}} - \\frac{2 \\, \\mathit{A1}_{z} \\mathit{A2}_{z} \\kappa^{2}}{\\mathit{A1}_{z}^{2} \\kappa_{\\mathit{vacuum}}^{4} \\mu^{2} - 2 \\, \\mathit{A1}_{z} \\mathit{A2}_{z} \\kappa_{\\mathit{vacuum}}^{4} \\mu^{2} + \\mathit{A2}_{z}^{2} \\kappa_{\\mathit{vacuum}}^{4} \\mu^{2} - \\mathit{A1}_{z}^{2} \\kappa^{4} - 2 \\, \\mathit{A1}_{z} \\mathit{A2}_{z} \\kappa^{4} - \\mathit{A2}_{z}^{2} \\kappa^{4}} - \\frac{\\mathit{A2}_{z}^{2} \\kappa^{2}}{\\mathit{A1}_{z}^{2} \\kappa_{\\mathit{vacuum}}^{4} \\mu^{2} - 2 \\, \\mathit{A1}_{z} \\mathit{A2}_{z} \\kappa_{\\mathit{vacuum}}^{4} \\mu^{2} + \\mathit{A2}_{z}^{2} \\kappa_{\\mathit{vacuum}}^{4} \\mu^{2} - \\mathit{A1}_{z}^{2} \\kappa^{4} - 2 \\, \\mathit{A1}_{z} \\mathit{A2}_{z} \\kappa^{4} - \\mathit{A2}_{z}^{2} \\kappa^{4}}} \\kappa \\kappa_{\\mathit{vacuum}}$"
      ],
      "text/plain": [
       "<IPython.core.display.Math object>"
      ]
     },
     "metadata": {},
     "output_type": "display_data"
    },
    {
     "name": "stdout",
     "output_type": "stream",
     "text": [
      "\n"
     ]
    }
   ],
   "source": [
    "one_per_k_z_sol = solve(eq_Hy_0_inv_2, k_z)\n",
    "\n",
    "for i in range(len(one_per_k_z_sol)):\n",
    "    #print(one_per_k_z_sol[i])\n",
    "    display(Math(latex(one_per_k_z_sol[i])))\n",
    "    print(\"\")"
   ]
  },
  {
   "cell_type": "code",
   "execution_count": null,
   "metadata": {},
   "outputs": [],
   "source": []
  },
  {
   "cell_type": "code",
   "execution_count": 97,
   "metadata": {},
   "outputs": [],
   "source": [
    "eq_Hy_0_2 = \\\n",
    "    (eq_Hy_0_rhs_den * eq_Hy_0_lhs_num)^2 - \\\n",
    "    (eq_Hy_0_rhs_num * eq_Hy_0_lhs_den)^2 == 0"
   ]
  },
  {
   "cell_type": "code",
   "execution_count": 98,
   "metadata": {},
   "outputs": [
    {
     "name": "stdout",
     "output_type": "stream",
     "text": [
      "(A1_z*epsilon*kappa_vacuum^2*omega - A2_z*epsilon*kappa_vacuum^2*omega + 4*I*pi*A1_z*kappa_vacuum^2*sigma - 4*I*pi*A2_z*kappa_vacuum^2*sigma)^2*(k_z^2 - kappa^2)*mu^2*omega^2 - (A1_z*epsilon*kappa^2*omega + A2_z*epsilon*kappa^2*omega + 4*I*pi*A1_z*kappa^2*sigma + 4*I*pi*A2_z*kappa^2*sigma)^2*(k_z^2 - kappa_vacuum^2)*omega^2 == 0\n"
     ]
    },
    {
     "data": {
      "text/latex": [
       "$\\displaystyle {\\left(\\mathit{A1}_{z} \\epsilon \\kappa_{\\mathit{vacuum}}^{2} \\omega - \\mathit{A2}_{z} \\epsilon \\kappa_{\\mathit{vacuum}}^{2} \\omega + 4 i \\, \\pi \\mathit{A1}_{z} \\kappa_{\\mathit{vacuum}}^{2} \\sigma - 4 i \\, \\pi \\mathit{A2}_{z} \\kappa_{\\mathit{vacuum}}^{2} \\sigma\\right)}^{2} {\\left(k_{z}^{2} - \\kappa^{2}\\right)} \\mu^{2} \\omega^{2} - {\\left(\\mathit{A1}_{z} \\epsilon \\kappa^{2} \\omega + \\mathit{A2}_{z} \\epsilon \\kappa^{2} \\omega + 4 i \\, \\pi \\mathit{A1}_{z} \\kappa^{2} \\sigma + 4 i \\, \\pi \\mathit{A2}_{z} \\kappa^{2} \\sigma\\right)}^{2} {\\left(k_{z}^{2} - \\kappa_{\\mathit{vacuum}}^{2}\\right)} \\omega^{2} = 0$"
      ],
      "text/plain": [
       "<IPython.core.display.Math object>"
      ]
     },
     "metadata": {},
     "output_type": "display_data"
    }
   ],
   "source": [
    "print(eq_Hy_0_2)\n",
    "display(Math(latex(eq_Hy_0_2)))"
   ]
  },
  {
   "cell_type": "code",
   "execution_count": 99,
   "metadata": {},
   "outputs": [
    {
     "data": {
      "text/latex": [
       "$\\displaystyle {\\left(\\mathit{A1}_{z} \\epsilon \\kappa_{\\mathit{vacuum}}^{2} \\omega - \\mathit{A2}_{z} \\epsilon \\kappa_{\\mathit{vacuum}}^{2} \\omega + 4 i \\, \\pi \\mathit{A1}_{z} \\kappa_{\\mathit{vacuum}}^{2} \\sigma - 4 i \\, \\pi \\mathit{A2}_{z} \\kappa_{\\mathit{vacuum}}^{2} \\sigma\\right)}^{2} {\\left(k_{z}^{2} - \\kappa^{2}\\right)} \\mu^{2} \\omega^{2} - {\\left(\\mathit{A1}_{z} \\epsilon \\kappa^{2} \\omega + \\mathit{A2}_{z} \\epsilon \\kappa^{2} \\omega + 4 i \\, \\pi \\mathit{A1}_{z} \\kappa^{2} \\sigma + 4 i \\, \\pi \\mathit{A2}_{z} \\kappa^{2} \\sigma\\right)}^{2} {\\left(k_{z}^{2} - \\kappa_{\\mathit{vacuum}}^{2}\\right)} \\omega^{2} = 0$"
      ],
      "text/plain": [
       "<IPython.core.display.Math object>"
      ]
     },
     "metadata": {},
     "output_type": "display_data"
    }
   ],
   "source": [
    "display(Math(latex(eq_Hy_0_2)))"
   ]
  },
  {
   "cell_type": "code",
   "execution_count": 100,
   "metadata": {},
   "outputs": [],
   "source": [
    "eq_Hy_0_2_expand = eq_Hy_0_2.expand()"
   ]
  },
  {
   "cell_type": "code",
   "execution_count": null,
   "metadata": {},
   "outputs": [],
   "source": []
  },
  {
   "cell_type": "code",
   "execution_count": 101,
   "metadata": {},
   "outputs": [
    {
     "data": {
      "text/latex": [
       "$\\displaystyle -\\mathit{A1}_{z}^{2} \\epsilon^{2} k_{z}^{2} \\kappa^{4} \\omega^{4} - 2 \\, \\mathit{A1}_{z} \\mathit{A2}_{z} \\epsilon^{2} k_{z}^{2} \\kappa^{4} \\omega^{4} - \\mathit{A2}_{z}^{2} \\epsilon^{2} k_{z}^{2} \\kappa^{4} \\omega^{4} - 8 i \\, \\pi \\mathit{A1}_{z}^{2} \\epsilon k_{z}^{2} \\kappa^{4} \\omega^{3} \\sigma - 16 i \\, \\pi \\mathit{A1}_{z} \\mathit{A2}_{z} \\epsilon k_{z}^{2} \\kappa^{4} \\omega^{3} \\sigma - 8 i \\, \\pi \\mathit{A2}_{z}^{2} \\epsilon k_{z}^{2} \\kappa^{4} \\omega^{3} \\sigma + 16 \\, \\pi^{2} \\mathit{A1}_{z}^{2} k_{z}^{2} \\kappa^{4} \\omega^{2} \\sigma^{2} + 32 \\, \\pi^{2} \\mathit{A1}_{z} \\mathit{A2}_{z} k_{z}^{2} \\kappa^{4} \\omega^{2} \\sigma^{2} + 16 \\, \\pi^{2} \\mathit{A2}_{z}^{2} k_{z}^{2} \\kappa^{4} \\omega^{2} \\sigma^{2} + \\frac{\\mathit{A1}_{z}^{2} \\epsilon^{2} \\kappa^{4} \\omega^{6}}{c^{2}} + \\frac{2 \\, \\mathit{A1}_{z} \\mathit{A2}_{z} \\epsilon^{2} \\kappa^{4} \\omega^{6}}{c^{2}} + \\frac{\\mathit{A2}_{z}^{2} \\epsilon^{2} \\kappa^{4} \\omega^{6}}{c^{2}} + \\frac{\\mathit{A1}_{z}^{2} \\epsilon^{2} k_{z}^{2} \\mu^{2} \\omega^{8}}{c^{4}} - \\frac{2 \\, \\mathit{A1}_{z} \\mathit{A2}_{z} \\epsilon^{2} k_{z}^{2} \\mu^{2} \\omega^{8}}{c^{4}} + \\frac{\\mathit{A2}_{z}^{2} \\epsilon^{2} k_{z}^{2} \\mu^{2} \\omega^{8}}{c^{4}} - \\frac{\\mathit{A1}_{z}^{2} \\epsilon^{2} \\kappa^{2} \\mu^{2} \\omega^{8}}{c^{4}} + \\frac{2 \\, \\mathit{A1}_{z} \\mathit{A2}_{z} \\epsilon^{2} \\kappa^{2} \\mu^{2} \\omega^{8}}{c^{4}} - \\frac{\\mathit{A2}_{z}^{2} \\epsilon^{2} \\kappa^{2} \\mu^{2} \\omega^{8}}{c^{4}} + \\frac{8 i \\, \\pi \\mathit{A1}_{z}^{2} \\epsilon \\kappa^{4} \\omega^{5} \\sigma}{c^{2}} + \\frac{16 i \\, \\pi \\mathit{A1}_{z} \\mathit{A2}_{z} \\epsilon \\kappa^{4} \\omega^{5} \\sigma}{c^{2}} + \\frac{8 i \\, \\pi \\mathit{A2}_{z}^{2} \\epsilon \\kappa^{4} \\omega^{5} \\sigma}{c^{2}} + \\frac{8 i \\, \\pi \\mathit{A1}_{z}^{2} \\epsilon k_{z}^{2} \\mu^{2} \\omega^{7} \\sigma}{c^{4}} - \\frac{16 i \\, \\pi \\mathit{A1}_{z} \\mathit{A2}_{z} \\epsilon k_{z}^{2} \\mu^{2} \\omega^{7} \\sigma}{c^{4}} + \\frac{8 i \\, \\pi \\mathit{A2}_{z}^{2} \\epsilon k_{z}^{2} \\mu^{2} \\omega^{7} \\sigma}{c^{4}} - \\frac{8 i \\, \\pi \\mathit{A1}_{z}^{2} \\epsilon \\kappa^{2} \\mu^{2} \\omega^{7} \\sigma}{c^{4}} + \\frac{16 i \\, \\pi \\mathit{A1}_{z} \\mathit{A2}_{z} \\epsilon \\kappa^{2} \\mu^{2} \\omega^{7} \\sigma}{c^{4}} - \\frac{8 i \\, \\pi \\mathit{A2}_{z}^{2} \\epsilon \\kappa^{2} \\mu^{2} \\omega^{7} \\sigma}{c^{4}} - \\frac{16 \\, \\pi^{2} \\mathit{A1}_{z}^{2} \\kappa^{4} \\omega^{4} \\sigma^{2}}{c^{2}} - \\frac{32 \\, \\pi^{2} \\mathit{A1}_{z} \\mathit{A2}_{z} \\kappa^{4} \\omega^{4} \\sigma^{2}}{c^{2}} - \\frac{16 \\, \\pi^{2} \\mathit{A2}_{z}^{2} \\kappa^{4} \\omega^{4} \\sigma^{2}}{c^{2}} - \\frac{16 \\, \\pi^{2} \\mathit{A1}_{z}^{2} k_{z}^{2} \\mu^{2} \\omega^{6} \\sigma^{2}}{c^{4}} + \\frac{32 \\, \\pi^{2} \\mathit{A1}_{z} \\mathit{A2}_{z} k_{z}^{2} \\mu^{2} \\omega^{6} \\sigma^{2}}{c^{4}} - \\frac{16 \\, \\pi^{2} \\mathit{A2}_{z}^{2} k_{z}^{2} \\mu^{2} \\omega^{6} \\sigma^{2}}{c^{4}} + \\frac{16 \\, \\pi^{2} \\mathit{A1}_{z}^{2} \\kappa^{2} \\mu^{2} \\omega^{6} \\sigma^{2}}{c^{4}} - \\frac{32 \\, \\pi^{2} \\mathit{A1}_{z} \\mathit{A2}_{z} \\kappa^{2} \\mu^{2} \\omega^{6} \\sigma^{2}}{c^{4}} + \\frac{16 \\, \\pi^{2} \\mathit{A2}_{z}^{2} \\kappa^{2} \\mu^{2} \\omega^{6} \\sigma^{2}}{c^{4}} = 0$"
      ],
      "text/plain": [
       "<IPython.core.display.Math object>"
      ]
     },
     "metadata": {},
     "output_type": "display_data"
    }
   ],
   "source": [
    "eq_Hy_0_2_expand = eq_Hy_0_2_expand.subs(kappa_vacuum_sol)#.subs(kappa_sol)\n",
    "display(Math(latex(eq_Hy_0_2_expand)))"
   ]
  },
  {
   "cell_type": "code",
   "execution_count": 102,
   "metadata": {},
   "outputs": [
    {
     "data": {
      "text/latex": [
       "$\\displaystyle k_{z} = -\\sqrt{\\frac{\\mathit{A1}_{z}^{2} c^{2} \\kappa^{2}}{\\mathit{A1}_{z}^{2} c^{4} \\kappa^{4} + 2 \\, \\mathit{A1}_{z} \\mathit{A2}_{z} c^{4} \\kappa^{4} + \\mathit{A2}_{z}^{2} c^{4} \\kappa^{4} - \\mathit{A1}_{z}^{2} \\mu^{2} \\omega^{4} + 2 \\, \\mathit{A1}_{z} \\mathit{A2}_{z} \\mu^{2} \\omega^{4} - \\mathit{A2}_{z}^{2} \\mu^{2} \\omega^{4}} + \\frac{2 \\, \\mathit{A1}_{z} \\mathit{A2}_{z} c^{2} \\kappa^{2}}{\\mathit{A1}_{z}^{2} c^{4} \\kappa^{4} + 2 \\, \\mathit{A1}_{z} \\mathit{A2}_{z} c^{4} \\kappa^{4} + \\mathit{A2}_{z}^{2} c^{4} \\kappa^{4} - \\mathit{A1}_{z}^{2} \\mu^{2} \\omega^{4} + 2 \\, \\mathit{A1}_{z} \\mathit{A2}_{z} \\mu^{2} \\omega^{4} - \\mathit{A2}_{z}^{2} \\mu^{2} \\omega^{4}} + \\frac{\\mathit{A2}_{z}^{2} c^{2} \\kappa^{2}}{\\mathit{A1}_{z}^{2} c^{4} \\kappa^{4} + 2 \\, \\mathit{A1}_{z} \\mathit{A2}_{z} c^{4} \\kappa^{4} + \\mathit{A2}_{z}^{2} c^{4} \\kappa^{4} - \\mathit{A1}_{z}^{2} \\mu^{2} \\omega^{4} + 2 \\, \\mathit{A1}_{z} \\mathit{A2}_{z} \\mu^{2} \\omega^{4} - \\mathit{A2}_{z}^{2} \\mu^{2} \\omega^{4}} - \\frac{\\mathit{A1}_{z}^{2} \\mu^{2} \\omega^{2}}{\\mathit{A1}_{z}^{2} c^{4} \\kappa^{4} + 2 \\, \\mathit{A1}_{z} \\mathit{A2}_{z} c^{4} \\kappa^{4} + \\mathit{A2}_{z}^{2} c^{4} \\kappa^{4} - \\mathit{A1}_{z}^{2} \\mu^{2} \\omega^{4} + 2 \\, \\mathit{A1}_{z} \\mathit{A2}_{z} \\mu^{2} \\omega^{4} - \\mathit{A2}_{z}^{2} \\mu^{2} \\omega^{4}} + \\frac{2 \\, \\mathit{A1}_{z} \\mathit{A2}_{z} \\mu^{2} \\omega^{2}}{\\mathit{A1}_{z}^{2} c^{4} \\kappa^{4} + 2 \\, \\mathit{A1}_{z} \\mathit{A2}_{z} c^{4} \\kappa^{4} + \\mathit{A2}_{z}^{2} c^{4} \\kappa^{4} - \\mathit{A1}_{z}^{2} \\mu^{2} \\omega^{4} + 2 \\, \\mathit{A1}_{z} \\mathit{A2}_{z} \\mu^{2} \\omega^{4} - \\mathit{A2}_{z}^{2} \\mu^{2} \\omega^{4}} - \\frac{\\mathit{A2}_{z}^{2} \\mu^{2} \\omega^{2}}{\\mathit{A1}_{z}^{2} c^{4} \\kappa^{4} + 2 \\, \\mathit{A1}_{z} \\mathit{A2}_{z} c^{4} \\kappa^{4} + \\mathit{A2}_{z}^{2} c^{4} \\kappa^{4} - \\mathit{A1}_{z}^{2} \\mu^{2} \\omega^{4} + 2 \\, \\mathit{A1}_{z} \\mathit{A2}_{z} \\mu^{2} \\omega^{4} - \\mathit{A2}_{z}^{2} \\mu^{2} \\omega^{4}}} \\kappa \\omega$"
      ],
      "text/plain": [
       "<IPython.core.display.Math object>"
      ]
     },
     "metadata": {},
     "output_type": "display_data"
    },
    {
     "name": "stdout",
     "output_type": "stream",
     "text": [
      "\n"
     ]
    },
    {
     "data": {
      "text/latex": [
       "$\\displaystyle k_{z} = \\sqrt{\\frac{\\mathit{A1}_{z}^{2} c^{2} \\kappa^{2}}{\\mathit{A1}_{z}^{2} c^{4} \\kappa^{4} + 2 \\, \\mathit{A1}_{z} \\mathit{A2}_{z} c^{4} \\kappa^{4} + \\mathit{A2}_{z}^{2} c^{4} \\kappa^{4} - \\mathit{A1}_{z}^{2} \\mu^{2} \\omega^{4} + 2 \\, \\mathit{A1}_{z} \\mathit{A2}_{z} \\mu^{2} \\omega^{4} - \\mathit{A2}_{z}^{2} \\mu^{2} \\omega^{4}} + \\frac{2 \\, \\mathit{A1}_{z} \\mathit{A2}_{z} c^{2} \\kappa^{2}}{\\mathit{A1}_{z}^{2} c^{4} \\kappa^{4} + 2 \\, \\mathit{A1}_{z} \\mathit{A2}_{z} c^{4} \\kappa^{4} + \\mathit{A2}_{z}^{2} c^{4} \\kappa^{4} - \\mathit{A1}_{z}^{2} \\mu^{2} \\omega^{4} + 2 \\, \\mathit{A1}_{z} \\mathit{A2}_{z} \\mu^{2} \\omega^{4} - \\mathit{A2}_{z}^{2} \\mu^{2} \\omega^{4}} + \\frac{\\mathit{A2}_{z}^{2} c^{2} \\kappa^{2}}{\\mathit{A1}_{z}^{2} c^{4} \\kappa^{4} + 2 \\, \\mathit{A1}_{z} \\mathit{A2}_{z} c^{4} \\kappa^{4} + \\mathit{A2}_{z}^{2} c^{4} \\kappa^{4} - \\mathit{A1}_{z}^{2} \\mu^{2} \\omega^{4} + 2 \\, \\mathit{A1}_{z} \\mathit{A2}_{z} \\mu^{2} \\omega^{4} - \\mathit{A2}_{z}^{2} \\mu^{2} \\omega^{4}} - \\frac{\\mathit{A1}_{z}^{2} \\mu^{2} \\omega^{2}}{\\mathit{A1}_{z}^{2} c^{4} \\kappa^{4} + 2 \\, \\mathit{A1}_{z} \\mathit{A2}_{z} c^{4} \\kappa^{4} + \\mathit{A2}_{z}^{2} c^{4} \\kappa^{4} - \\mathit{A1}_{z}^{2} \\mu^{2} \\omega^{4} + 2 \\, \\mathit{A1}_{z} \\mathit{A2}_{z} \\mu^{2} \\omega^{4} - \\mathit{A2}_{z}^{2} \\mu^{2} \\omega^{4}} + \\frac{2 \\, \\mathit{A1}_{z} \\mathit{A2}_{z} \\mu^{2} \\omega^{2}}{\\mathit{A1}_{z}^{2} c^{4} \\kappa^{4} + 2 \\, \\mathit{A1}_{z} \\mathit{A2}_{z} c^{4} \\kappa^{4} + \\mathit{A2}_{z}^{2} c^{4} \\kappa^{4} - \\mathit{A1}_{z}^{2} \\mu^{2} \\omega^{4} + 2 \\, \\mathit{A1}_{z} \\mathit{A2}_{z} \\mu^{2} \\omega^{4} - \\mathit{A2}_{z}^{2} \\mu^{2} \\omega^{4}} - \\frac{\\mathit{A2}_{z}^{2} \\mu^{2} \\omega^{2}}{\\mathit{A1}_{z}^{2} c^{4} \\kappa^{4} + 2 \\, \\mathit{A1}_{z} \\mathit{A2}_{z} c^{4} \\kappa^{4} + \\mathit{A2}_{z}^{2} c^{4} \\kappa^{4} - \\mathit{A1}_{z}^{2} \\mu^{2} \\omega^{4} + 2 \\, \\mathit{A1}_{z} \\mathit{A2}_{z} \\mu^{2} \\omega^{4} - \\mathit{A2}_{z}^{2} \\mu^{2} \\omega^{4}}} \\kappa \\omega$"
      ],
      "text/plain": [
       "<IPython.core.display.Math object>"
      ]
     },
     "metadata": {},
     "output_type": "display_data"
    },
    {
     "name": "stdout",
     "output_type": "stream",
     "text": [
      "\n"
     ]
    }
   ],
   "source": [
    "k_z_sol = solve(eq_Hy_0_2_expand, k_z)\n",
    "\n",
    "for i in range(len(k_z_sol)):\n",
    "    #print(k_z_sol[i])\n",
    "    display(Math(latex(k_z_sol[i])))\n",
    "    print(\"\")"
   ]
  },
  {
   "cell_type": "code",
   "execution_count": null,
   "metadata": {},
   "outputs": [],
   "source": []
  },
  {
   "cell_type": "code",
   "execution_count": null,
   "metadata": {},
   "outputs": [],
   "source": []
  },
  {
   "cell_type": "code",
   "execution_count": 103,
   "metadata": {},
   "outputs": [],
   "source": [
    "#E_vacuum_z = A1_z_im*sin(sqrt(kappa_vacuum^2-k_z^2)*(x+a))\n",
    "#E_vacuum_z"
   ]
  },
  {
   "cell_type": "code",
   "execution_count": 104,
   "metadata": {},
   "outputs": [
    {
     "data": {
      "text/plain": [
       "A2_z*e^(I*K_vacuum*x) + A1_z*e^(-I*K_vacuum*x)"
      ]
     },
     "execution_count": 104,
     "metadata": {},
     "output_type": "execute_result"
    }
   ],
   "source": [
    "E_inner_vacuum_sol_z(x)"
   ]
  },
  {
   "cell_type": "code",
   "execution_count": 105,
   "metadata": {},
   "outputs": [
    {
     "data": {
      "text/plain": [
       "A1_z + A2_z == B1_z"
      ]
     },
     "execution_count": 105,
     "metadata": {},
     "output_type": "execute_result"
    }
   ],
   "source": [
    "eqEz_a.rhs() == eqEz_a.lhs()"
   ]
  },
  {
   "cell_type": "code",
   "execution_count": 106,
   "metadata": {},
   "outputs": [
    {
     "data": {
      "text/plain": [
       "B1_z == A1_z + A2_z"
      ]
     },
     "execution_count": 106,
     "metadata": {},
     "output_type": "execute_result"
    }
   ],
   "source": [
    "eqEz_a"
   ]
  },
  {
   "cell_type": "code",
   "execution_count": 107,
   "metadata": {
    "scrolled": true
   },
   "outputs": [
    {
     "data": {
      "text/plain": [
       "(A1_z, A2_z, c, k_z, kappa, mu, omega)"
      ]
     },
     "execution_count": 107,
     "metadata": {},
     "output_type": "execute_result"
    }
   ],
   "source": [
    "k_z_sol_subs = k_z_sol[1].subs(eqEz_a).full_simplify()\n",
    "k_z_sol_subs.variables()"
   ]
  },
  {
   "cell_type": "code",
   "execution_count": 108,
   "metadata": {},
   "outputs": [],
   "source": [
    "# display(Math(latex(k_z_sol)))"
   ]
  },
  {
   "cell_type": "code",
   "execution_count": null,
   "metadata": {},
   "outputs": [],
   "source": []
  },
  {
   "cell_type": "code",
   "execution_count": 109,
   "metadata": {},
   "outputs": [
    {
     "name": "stdout",
     "output_type": "stream",
     "text": [
      "E_inner_vacuum_x(0) == (A1_z*k_z - A2_z*k_z)/sqrt(-k_z^2 + kappa_vacuum^2)\n"
     ]
    },
    {
     "data": {
      "text/latex": [
       "$\\displaystyle E_{{\\rm inner}_{{\\rm vacuum}_{x}}}\\left(0\\right) = \\frac{\\mathit{A1}_{z} k_{z} - \\mathit{A2}_{z} k_{z}}{\\sqrt{-k_{z}^{2} + \\kappa_{\\mathit{vacuum}}^{2}}}$"
      ],
      "text/plain": [
       "<IPython.core.display.Math object>"
      ]
     },
     "metadata": {},
     "output_type": "display_data"
    },
    {
     "name": "stdout",
     "output_type": "stream",
     "text": [
      "\n",
      "E_bad_conductor_x(0) == -(A1_z + A2_z)*k_z/sqrt(-k_z^2 + kappa^2)\n"
     ]
    },
    {
     "data": {
      "text/latex": [
       "$\\displaystyle E_{{\\rm bad}_{{\\rm conductor}_{x}}}\\left(0\\right) = -\\frac{{\\left(\\mathit{A1}_{z} + \\mathit{A2}_{z}\\right)} k_{z}}{\\sqrt{-k_{z}^{2} + \\kappa^{2}}}$"
      ],
      "text/plain": [
       "<IPython.core.display.Math object>"
      ]
     },
     "metadata": {},
     "output_type": "display_data"
    },
    {
     "name": "stdout",
     "output_type": "stream",
     "text": [
      "\n",
      "epsilon + 4*I*pi*sigma/omega == -sqrt(-k_z^2 + kappa^2)*(A1_z - A2_z)/(sqrt(-k_z^2 + kappa_vacuum^2)*(A1_z + A2_z))\n"
     ]
    },
    {
     "data": {
      "text/latex": [
       "$\\displaystyle \\epsilon + \\frac{4 i \\, \\pi \\sigma}{\\omega} = -\\frac{\\sqrt{-k_{z}^{2} + \\kappa^{2}} {\\left(\\mathit{A1}_{z} - \\mathit{A2}_{z}\\right)}}{\\sqrt{-k_{z}^{2} + \\kappa_{\\mathit{vacuum}}^{2}} {\\left(\\mathit{A1}_{z} + \\mathit{A2}_{z}\\right)}}$"
      ],
      "text/plain": [
       "<IPython.core.display.Math object>"
      ]
     },
     "metadata": {},
     "output_type": "display_data"
    },
    {
     "name": "stdout",
     "output_type": "stream",
     "text": [
      "\n"
     ]
    }
   ],
   "source": [
    "# нормальная компонента электрического смещения\n",
    "eq_5_subs5 = eq_5_subs4.subs(x == 0)\n",
    "print(eq_5_subs5)\n",
    "display(Math(latex(eq_5_subs5)))\n",
    "\n",
    "print(\"\")\n",
    "\n",
    "eq_7_subs5 = eq_7_subs4.subs(x == 0).subs(eqEz_a)\n",
    "print(eq_7_subs5)\n",
    "display(Math(latex(eq_7_subs5)))\n",
    "print(\"\")\n",
    "\n",
    "# eqDx_a = E_inner_vacuum_sol_x(0) == E_bad_conductor_sol_x(0) * epsilon\n",
    "eq_Dx_a = epsilon_complex == (eq_5_subs5.rhs() / eq_7_subs5.rhs()).full_simplify()\n",
    "\n",
    "print(eq_Dx_a)\n",
    "display(Math(latex(eq_Dx_a)))\n",
    "print(\"\")"
   ]
  },
  {
   "cell_type": "code",
   "execution_count": 110,
   "metadata": {},
   "outputs": [
    {
     "name": "stdout",
     "output_type": "stream",
     "text": [
      "epsilon + 4*I*pi*sigma/omega == -sqrt(4*I*pi*mu*omega*sigma/c - k_z^2 + epsilon*mu*omega^2/c^2)*(A1_z - A2_z)/(sqrt(-k_z^2 + omega^2/c^2)*(A1_z + A2_z))\n"
     ]
    },
    {
     "data": {
      "text/latex": [
       "$\\displaystyle \\epsilon + \\frac{4 i \\, \\pi \\sigma}{\\omega} = -\\frac{\\sqrt{\\frac{4 i \\, \\pi \\mu \\omega \\sigma}{c} - k_{z}^{2} + \\frac{\\epsilon \\mu \\omega^{2}}{c^{2}}} {\\left(\\mathit{A1}_{z} - \\mathit{A2}_{z}\\right)}}{\\sqrt{-k_{z}^{2} + \\frac{\\omega^{2}}{c^{2}}} {\\left(\\mathit{A1}_{z} + \\mathit{A2}_{z}\\right)}}$"
      ],
      "text/plain": [
       "<IPython.core.display.Math object>"
      ]
     },
     "metadata": {},
     "output_type": "display_data"
    }
   ],
   "source": [
    "eq_Dx_a_subs = eq_Dx_a.subs(eq_kappa).subs(eq_kappa_inner_vacuum)\n",
    "\n",
    "print(eq_Dx_a_subs)\n",
    "display(Math(latex(eq_Dx_a_subs)))"
   ]
  },
  {
   "cell_type": "code",
   "execution_count": 111,
   "metadata": {},
   "outputs": [
    {
     "name": "stdout",
     "output_type": "stream",
     "text": [
      "(epsilon + 4*I*pi*sigma/omega)^2 == -(4*I*pi*mu*omega*sigma/c - k_z^2 + epsilon*mu*omega^2/c^2)*(A1_z - A2_z)^2/((k_z^2 - omega^2/c^2)*(A1_z + A2_z)^2)\n"
     ]
    },
    {
     "data": {
      "text/latex": [
       "$\\displaystyle {\\left(\\epsilon + \\frac{4 i \\, \\pi \\sigma}{\\omega}\\right)}^{2} = -\\frac{{\\left(\\frac{4 i \\, \\pi \\mu \\omega \\sigma}{c} - k_{z}^{2} + \\frac{\\epsilon \\mu \\omega^{2}}{c^{2}}\\right)} {\\left(\\mathit{A1}_{z} - \\mathit{A2}_{z}\\right)}^{2}}{{\\left(k_{z}^{2} - \\frac{\\omega^{2}}{c^{2}}\\right)} {\\left(\\mathit{A1}_{z} + \\mathit{A2}_{z}\\right)}^{2}}$"
      ],
      "text/plain": [
       "<IPython.core.display.Math object>"
      ]
     },
     "metadata": {},
     "output_type": "display_data"
    }
   ],
   "source": [
    "eq_Dx_a_subs2 = eq_Dx_a_subs.lhs()^2 == eq_Dx_a_subs.rhs()^2\n",
    "\n",
    "print(eq_Dx_a_subs2)\n",
    "display(Math(latex(eq_Dx_a_subs2)))"
   ]
  },
  {
   "cell_type": "code",
   "execution_count": 112,
   "metadata": {},
   "outputs": [
    {
     "data": {
      "text/latex": [
       "$\\displaystyle \\left[k_{z} = -\\frac{\\sqrt{-\\frac{4 i \\, \\pi \\mathit{A1}_{z}^{2} c \\mu \\omega \\sigma}{\\mathit{A1}_{z}^{2} \\epsilon^{2} \\omega^{2} + 2 \\, \\mathit{A1}_{z} \\mathit{A2}_{z} \\epsilon^{2} \\omega^{2} + \\mathit{A2}_{z}^{2} \\epsilon^{2} \\omega^{2} + 8 i \\, \\pi \\mathit{A1}_{z}^{2} \\epsilon \\omega \\sigma + 16 i \\, \\pi \\mathit{A1}_{z} \\mathit{A2}_{z} \\epsilon \\omega \\sigma + 8 i \\, \\pi \\mathit{A2}_{z}^{2} \\epsilon \\omega \\sigma - 16 \\, \\pi^{2} \\mathit{A1}_{z}^{2} \\sigma^{2} - 32 \\, \\pi^{2} \\mathit{A1}_{z} \\mathit{A2}_{z} \\sigma^{2} - 16 \\, \\pi^{2} \\mathit{A2}_{z}^{2} \\sigma^{2} - \\mathit{A1}_{z}^{2} \\omega^{2} + 2 \\, \\mathit{A1}_{z} \\mathit{A2}_{z} \\omega^{2} - \\mathit{A2}_{z}^{2} \\omega^{2}} + \\frac{8 i \\, \\pi \\mathit{A1}_{z} \\mathit{A2}_{z} c \\mu \\omega \\sigma}{\\mathit{A1}_{z}^{2} \\epsilon^{2} \\omega^{2} + 2 \\, \\mathit{A1}_{z} \\mathit{A2}_{z} \\epsilon^{2} \\omega^{2} + \\mathit{A2}_{z}^{2} \\epsilon^{2} \\omega^{2} + 8 i \\, \\pi \\mathit{A1}_{z}^{2} \\epsilon \\omega \\sigma + 16 i \\, \\pi \\mathit{A1}_{z} \\mathit{A2}_{z} \\epsilon \\omega \\sigma + 8 i \\, \\pi \\mathit{A2}_{z}^{2} \\epsilon \\omega \\sigma - 16 \\, \\pi^{2} \\mathit{A1}_{z}^{2} \\sigma^{2} - 32 \\, \\pi^{2} \\mathit{A1}_{z} \\mathit{A2}_{z} \\sigma^{2} - 16 \\, \\pi^{2} \\mathit{A2}_{z}^{2} \\sigma^{2} - \\mathit{A1}_{z}^{2} \\omega^{2} + 2 \\, \\mathit{A1}_{z} \\mathit{A2}_{z} \\omega^{2} - \\mathit{A2}_{z}^{2} \\omega^{2}} - \\frac{4 i \\, \\pi \\mathit{A2}_{z}^{2} c \\mu \\omega \\sigma}{\\mathit{A1}_{z}^{2} \\epsilon^{2} \\omega^{2} + 2 \\, \\mathit{A1}_{z} \\mathit{A2}_{z} \\epsilon^{2} \\omega^{2} + \\mathit{A2}_{z}^{2} \\epsilon^{2} \\omega^{2} + 8 i \\, \\pi \\mathit{A1}_{z}^{2} \\epsilon \\omega \\sigma + 16 i \\, \\pi \\mathit{A1}_{z} \\mathit{A2}_{z} \\epsilon \\omega \\sigma + 8 i \\, \\pi \\mathit{A2}_{z}^{2} \\epsilon \\omega \\sigma - 16 \\, \\pi^{2} \\mathit{A1}_{z}^{2} \\sigma^{2} - 32 \\, \\pi^{2} \\mathit{A1}_{z} \\mathit{A2}_{z} \\sigma^{2} - 16 \\, \\pi^{2} \\mathit{A2}_{z}^{2} \\sigma^{2} - \\mathit{A1}_{z}^{2} \\omega^{2} + 2 \\, \\mathit{A1}_{z} \\mathit{A2}_{z} \\omega^{2} - \\mathit{A2}_{z}^{2} \\omega^{2}} + \\frac{\\mathit{A1}_{z}^{2} \\epsilon^{2} \\omega^{2}}{\\mathit{A1}_{z}^{2} \\epsilon^{2} \\omega^{2} + 2 \\, \\mathit{A1}_{z} \\mathit{A2}_{z} \\epsilon^{2} \\omega^{2} + \\mathit{A2}_{z}^{2} \\epsilon^{2} \\omega^{2} + 8 i \\, \\pi \\mathit{A1}_{z}^{2} \\epsilon \\omega \\sigma + 16 i \\, \\pi \\mathit{A1}_{z} \\mathit{A2}_{z} \\epsilon \\omega \\sigma + 8 i \\, \\pi \\mathit{A2}_{z}^{2} \\epsilon \\omega \\sigma - 16 \\, \\pi^{2} \\mathit{A1}_{z}^{2} \\sigma^{2} - 32 \\, \\pi^{2} \\mathit{A1}_{z} \\mathit{A2}_{z} \\sigma^{2} - 16 \\, \\pi^{2} \\mathit{A2}_{z}^{2} \\sigma^{2} - \\mathit{A1}_{z}^{2} \\omega^{2} + 2 \\, \\mathit{A1}_{z} \\mathit{A2}_{z} \\omega^{2} - \\mathit{A2}_{z}^{2} \\omega^{2}} + \\frac{2 \\, \\mathit{A1}_{z} \\mathit{A2}_{z} \\epsilon^{2} \\omega^{2}}{\\mathit{A1}_{z}^{2} \\epsilon^{2} \\omega^{2} + 2 \\, \\mathit{A1}_{z} \\mathit{A2}_{z} \\epsilon^{2} \\omega^{2} + \\mathit{A2}_{z}^{2} \\epsilon^{2} \\omega^{2} + 8 i \\, \\pi \\mathit{A1}_{z}^{2} \\epsilon \\omega \\sigma + 16 i \\, \\pi \\mathit{A1}_{z} \\mathit{A2}_{z} \\epsilon \\omega \\sigma + 8 i \\, \\pi \\mathit{A2}_{z}^{2} \\epsilon \\omega \\sigma - 16 \\, \\pi^{2} \\mathit{A1}_{z}^{2} \\sigma^{2} - 32 \\, \\pi^{2} \\mathit{A1}_{z} \\mathit{A2}_{z} \\sigma^{2} - 16 \\, \\pi^{2} \\mathit{A2}_{z}^{2} \\sigma^{2} - \\mathit{A1}_{z}^{2} \\omega^{2} + 2 \\, \\mathit{A1}_{z} \\mathit{A2}_{z} \\omega^{2} - \\mathit{A2}_{z}^{2} \\omega^{2}} + \\frac{\\mathit{A2}_{z}^{2} \\epsilon^{2} \\omega^{2}}{\\mathit{A1}_{z}^{2} \\epsilon^{2} \\omega^{2} + 2 \\, \\mathit{A1}_{z} \\mathit{A2}_{z} \\epsilon^{2} \\omega^{2} + \\mathit{A2}_{z}^{2} \\epsilon^{2} \\omega^{2} + 8 i \\, \\pi \\mathit{A1}_{z}^{2} \\epsilon \\omega \\sigma + 16 i \\, \\pi \\mathit{A1}_{z} \\mathit{A2}_{z} \\epsilon \\omega \\sigma + 8 i \\, \\pi \\mathit{A2}_{z}^{2} \\epsilon \\omega \\sigma - 16 \\, \\pi^{2} \\mathit{A1}_{z}^{2} \\sigma^{2} - 32 \\, \\pi^{2} \\mathit{A1}_{z} \\mathit{A2}_{z} \\sigma^{2} - 16 \\, \\pi^{2} \\mathit{A2}_{z}^{2} \\sigma^{2} - \\mathit{A1}_{z}^{2} \\omega^{2} + 2 \\, \\mathit{A1}_{z} \\mathit{A2}_{z} \\omega^{2} - \\mathit{A2}_{z}^{2} \\omega^{2}} - \\frac{\\mathit{A1}_{z}^{2} \\epsilon \\mu \\omega^{2}}{\\mathit{A1}_{z}^{2} \\epsilon^{2} \\omega^{2} + 2 \\, \\mathit{A1}_{z} \\mathit{A2}_{z} \\epsilon^{2} \\omega^{2} + \\mathit{A2}_{z}^{2} \\epsilon^{2} \\omega^{2} + 8 i \\, \\pi \\mathit{A1}_{z}^{2} \\epsilon \\omega \\sigma + 16 i \\, \\pi \\mathit{A1}_{z} \\mathit{A2}_{z} \\epsilon \\omega \\sigma + 8 i \\, \\pi \\mathit{A2}_{z}^{2} \\epsilon \\omega \\sigma - 16 \\, \\pi^{2} \\mathit{A1}_{z}^{2} \\sigma^{2} - 32 \\, \\pi^{2} \\mathit{A1}_{z} \\mathit{A2}_{z} \\sigma^{2} - 16 \\, \\pi^{2} \\mathit{A2}_{z}^{2} \\sigma^{2} - \\mathit{A1}_{z}^{2} \\omega^{2} + 2 \\, \\mathit{A1}_{z} \\mathit{A2}_{z} \\omega^{2} - \\mathit{A2}_{z}^{2} \\omega^{2}} + \\frac{2 \\, \\mathit{A1}_{z} \\mathit{A2}_{z} \\epsilon \\mu \\omega^{2}}{\\mathit{A1}_{z}^{2} \\epsilon^{2} \\omega^{2} + 2 \\, \\mathit{A1}_{z} \\mathit{A2}_{z} \\epsilon^{2} \\omega^{2} + \\mathit{A2}_{z}^{2} \\epsilon^{2} \\omega^{2} + 8 i \\, \\pi \\mathit{A1}_{z}^{2} \\epsilon \\omega \\sigma + 16 i \\, \\pi \\mathit{A1}_{z} \\mathit{A2}_{z} \\epsilon \\omega \\sigma + 8 i \\, \\pi \\mathit{A2}_{z}^{2} \\epsilon \\omega \\sigma - 16 \\, \\pi^{2} \\mathit{A1}_{z}^{2} \\sigma^{2} - 32 \\, \\pi^{2} \\mathit{A1}_{z} \\mathit{A2}_{z} \\sigma^{2} - 16 \\, \\pi^{2} \\mathit{A2}_{z}^{2} \\sigma^{2} - \\mathit{A1}_{z}^{2} \\omega^{2} + 2 \\, \\mathit{A1}_{z} \\mathit{A2}_{z} \\omega^{2} - \\mathit{A2}_{z}^{2} \\omega^{2}} - \\frac{\\mathit{A2}_{z}^{2} \\epsilon \\mu \\omega^{2}}{\\mathit{A1}_{z}^{2} \\epsilon^{2} \\omega^{2} + 2 \\, \\mathit{A1}_{z} \\mathit{A2}_{z} \\epsilon^{2} \\omega^{2} + \\mathit{A2}_{z}^{2} \\epsilon^{2} \\omega^{2} + 8 i \\, \\pi \\mathit{A1}_{z}^{2} \\epsilon \\omega \\sigma + 16 i \\, \\pi \\mathit{A1}_{z} \\mathit{A2}_{z} \\epsilon \\omega \\sigma + 8 i \\, \\pi \\mathit{A2}_{z}^{2} \\epsilon \\omega \\sigma - 16 \\, \\pi^{2} \\mathit{A1}_{z}^{2} \\sigma^{2} - 32 \\, \\pi^{2} \\mathit{A1}_{z} \\mathit{A2}_{z} \\sigma^{2} - 16 \\, \\pi^{2} \\mathit{A2}_{z}^{2} \\sigma^{2} - \\mathit{A1}_{z}^{2} \\omega^{2} + 2 \\, \\mathit{A1}_{z} \\mathit{A2}_{z} \\omega^{2} - \\mathit{A2}_{z}^{2} \\omega^{2}} + \\frac{8 i \\, \\pi \\mathit{A1}_{z}^{2} \\epsilon \\omega \\sigma}{\\mathit{A1}_{z}^{2} \\epsilon^{2} \\omega^{2} + 2 \\, \\mathit{A1}_{z} \\mathit{A2}_{z} \\epsilon^{2} \\omega^{2} + \\mathit{A2}_{z}^{2} \\epsilon^{2} \\omega^{2} + 8 i \\, \\pi \\mathit{A1}_{z}^{2} \\epsilon \\omega \\sigma + 16 i \\, \\pi \\mathit{A1}_{z} \\mathit{A2}_{z} \\epsilon \\omega \\sigma + 8 i \\, \\pi \\mathit{A2}_{z}^{2} \\epsilon \\omega \\sigma - 16 \\, \\pi^{2} \\mathit{A1}_{z}^{2} \\sigma^{2} - 32 \\, \\pi^{2} \\mathit{A1}_{z} \\mathit{A2}_{z} \\sigma^{2} - 16 \\, \\pi^{2} \\mathit{A2}_{z}^{2} \\sigma^{2} - \\mathit{A1}_{z}^{2} \\omega^{2} + 2 \\, \\mathit{A1}_{z} \\mathit{A2}_{z} \\omega^{2} - \\mathit{A2}_{z}^{2} \\omega^{2}} + \\frac{16 i \\, \\pi \\mathit{A1}_{z} \\mathit{A2}_{z} \\epsilon \\omega \\sigma}{\\mathit{A1}_{z}^{2} \\epsilon^{2} \\omega^{2} + 2 \\, \\mathit{A1}_{z} \\mathit{A2}_{z} \\epsilon^{2} \\omega^{2} + \\mathit{A2}_{z}^{2} \\epsilon^{2} \\omega^{2} + 8 i \\, \\pi \\mathit{A1}_{z}^{2} \\epsilon \\omega \\sigma + 16 i \\, \\pi \\mathit{A1}_{z} \\mathit{A2}_{z} \\epsilon \\omega \\sigma + 8 i \\, \\pi \\mathit{A2}_{z}^{2} \\epsilon \\omega \\sigma - 16 \\, \\pi^{2} \\mathit{A1}_{z}^{2} \\sigma^{2} - 32 \\, \\pi^{2} \\mathit{A1}_{z} \\mathit{A2}_{z} \\sigma^{2} - 16 \\, \\pi^{2} \\mathit{A2}_{z}^{2} \\sigma^{2} - \\mathit{A1}_{z}^{2} \\omega^{2} + 2 \\, \\mathit{A1}_{z} \\mathit{A2}_{z} \\omega^{2} - \\mathit{A2}_{z}^{2} \\omega^{2}} + \\frac{8 i \\, \\pi \\mathit{A2}_{z}^{2} \\epsilon \\omega \\sigma}{\\mathit{A1}_{z}^{2} \\epsilon^{2} \\omega^{2} + 2 \\, \\mathit{A1}_{z} \\mathit{A2}_{z} \\epsilon^{2} \\omega^{2} + \\mathit{A2}_{z}^{2} \\epsilon^{2} \\omega^{2} + 8 i \\, \\pi \\mathit{A1}_{z}^{2} \\epsilon \\omega \\sigma + 16 i \\, \\pi \\mathit{A1}_{z} \\mathit{A2}_{z} \\epsilon \\omega \\sigma + 8 i \\, \\pi \\mathit{A2}_{z}^{2} \\epsilon \\omega \\sigma - 16 \\, \\pi^{2} \\mathit{A1}_{z}^{2} \\sigma^{2} - 32 \\, \\pi^{2} \\mathit{A1}_{z} \\mathit{A2}_{z} \\sigma^{2} - 16 \\, \\pi^{2} \\mathit{A2}_{z}^{2} \\sigma^{2} - \\mathit{A1}_{z}^{2} \\omega^{2} + 2 \\, \\mathit{A1}_{z} \\mathit{A2}_{z} \\omega^{2} - \\mathit{A2}_{z}^{2} \\omega^{2}} - \\frac{16 \\, \\pi^{2} \\mathit{A1}_{z}^{2} \\sigma^{2}}{\\mathit{A1}_{z}^{2} \\epsilon^{2} \\omega^{2} + 2 \\, \\mathit{A1}_{z} \\mathit{A2}_{z} \\epsilon^{2} \\omega^{2} + \\mathit{A2}_{z}^{2} \\epsilon^{2} \\omega^{2} + 8 i \\, \\pi \\mathit{A1}_{z}^{2} \\epsilon \\omega \\sigma + 16 i \\, \\pi \\mathit{A1}_{z} \\mathit{A2}_{z} \\epsilon \\omega \\sigma + 8 i \\, \\pi \\mathit{A2}_{z}^{2} \\epsilon \\omega \\sigma - 16 \\, \\pi^{2} \\mathit{A1}_{z}^{2} \\sigma^{2} - 32 \\, \\pi^{2} \\mathit{A1}_{z} \\mathit{A2}_{z} \\sigma^{2} - 16 \\, \\pi^{2} \\mathit{A2}_{z}^{2} \\sigma^{2} - \\mathit{A1}_{z}^{2} \\omega^{2} + 2 \\, \\mathit{A1}_{z} \\mathit{A2}_{z} \\omega^{2} - \\mathit{A2}_{z}^{2} \\omega^{2}} - \\frac{32 \\, \\pi^{2} \\mathit{A1}_{z} \\mathit{A2}_{z} \\sigma^{2}}{\\mathit{A1}_{z}^{2} \\epsilon^{2} \\omega^{2} + 2 \\, \\mathit{A1}_{z} \\mathit{A2}_{z} \\epsilon^{2} \\omega^{2} + \\mathit{A2}_{z}^{2} \\epsilon^{2} \\omega^{2} + 8 i \\, \\pi \\mathit{A1}_{z}^{2} \\epsilon \\omega \\sigma + 16 i \\, \\pi \\mathit{A1}_{z} \\mathit{A2}_{z} \\epsilon \\omega \\sigma + 8 i \\, \\pi \\mathit{A2}_{z}^{2} \\epsilon \\omega \\sigma - 16 \\, \\pi^{2} \\mathit{A1}_{z}^{2} \\sigma^{2} - 32 \\, \\pi^{2} \\mathit{A1}_{z} \\mathit{A2}_{z} \\sigma^{2} - 16 \\, \\pi^{2} \\mathit{A2}_{z}^{2} \\sigma^{2} - \\mathit{A1}_{z}^{2} \\omega^{2} + 2 \\, \\mathit{A1}_{z} \\mathit{A2}_{z} \\omega^{2} - \\mathit{A2}_{z}^{2} \\omega^{2}} - \\frac{16 \\, \\pi^{2} \\mathit{A2}_{z}^{2} \\sigma^{2}}{\\mathit{A1}_{z}^{2} \\epsilon^{2} \\omega^{2} + 2 \\, \\mathit{A1}_{z} \\mathit{A2}_{z} \\epsilon^{2} \\omega^{2} + \\mathit{A2}_{z}^{2} \\epsilon^{2} \\omega^{2} + 8 i \\, \\pi \\mathit{A1}_{z}^{2} \\epsilon \\omega \\sigma + 16 i \\, \\pi \\mathit{A1}_{z} \\mathit{A2}_{z} \\epsilon \\omega \\sigma + 8 i \\, \\pi \\mathit{A2}_{z}^{2} \\epsilon \\omega \\sigma - 16 \\, \\pi^{2} \\mathit{A1}_{z}^{2} \\sigma^{2} - 32 \\, \\pi^{2} \\mathit{A1}_{z} \\mathit{A2}_{z} \\sigma^{2} - 16 \\, \\pi^{2} \\mathit{A2}_{z}^{2} \\sigma^{2} - \\mathit{A1}_{z}^{2} \\omega^{2} + 2 \\, \\mathit{A1}_{z} \\mathit{A2}_{z} \\omega^{2} - \\mathit{A2}_{z}^{2} \\omega^{2}}} \\omega}{c}, k_{z} = \\frac{\\sqrt{-\\frac{4 i \\, \\pi \\mathit{A1}_{z}^{2} c \\mu \\omega \\sigma}{\\mathit{A1}_{z}^{2} \\epsilon^{2} \\omega^{2} + 2 \\, \\mathit{A1}_{z} \\mathit{A2}_{z} \\epsilon^{2} \\omega^{2} + \\mathit{A2}_{z}^{2} \\epsilon^{2} \\omega^{2} + 8 i \\, \\pi \\mathit{A1}_{z}^{2} \\epsilon \\omega \\sigma + 16 i \\, \\pi \\mathit{A1}_{z} \\mathit{A2}_{z} \\epsilon \\omega \\sigma + 8 i \\, \\pi \\mathit{A2}_{z}^{2} \\epsilon \\omega \\sigma - 16 \\, \\pi^{2} \\mathit{A1}_{z}^{2} \\sigma^{2} - 32 \\, \\pi^{2} \\mathit{A1}_{z} \\mathit{A2}_{z} \\sigma^{2} - 16 \\, \\pi^{2} \\mathit{A2}_{z}^{2} \\sigma^{2} - \\mathit{A1}_{z}^{2} \\omega^{2} + 2 \\, \\mathit{A1}_{z} \\mathit{A2}_{z} \\omega^{2} - \\mathit{A2}_{z}^{2} \\omega^{2}} + \\frac{8 i \\, \\pi \\mathit{A1}_{z} \\mathit{A2}_{z} c \\mu \\omega \\sigma}{\\mathit{A1}_{z}^{2} \\epsilon^{2} \\omega^{2} + 2 \\, \\mathit{A1}_{z} \\mathit{A2}_{z} \\epsilon^{2} \\omega^{2} + \\mathit{A2}_{z}^{2} \\epsilon^{2} \\omega^{2} + 8 i \\, \\pi \\mathit{A1}_{z}^{2} \\epsilon \\omega \\sigma + 16 i \\, \\pi \\mathit{A1}_{z} \\mathit{A2}_{z} \\epsilon \\omega \\sigma + 8 i \\, \\pi \\mathit{A2}_{z}^{2} \\epsilon \\omega \\sigma - 16 \\, \\pi^{2} \\mathit{A1}_{z}^{2} \\sigma^{2} - 32 \\, \\pi^{2} \\mathit{A1}_{z} \\mathit{A2}_{z} \\sigma^{2} - 16 \\, \\pi^{2} \\mathit{A2}_{z}^{2} \\sigma^{2} - \\mathit{A1}_{z}^{2} \\omega^{2} + 2 \\, \\mathit{A1}_{z} \\mathit{A2}_{z} \\omega^{2} - \\mathit{A2}_{z}^{2} \\omega^{2}} - \\frac{4 i \\, \\pi \\mathit{A2}_{z}^{2} c \\mu \\omega \\sigma}{\\mathit{A1}_{z}^{2} \\epsilon^{2} \\omega^{2} + 2 \\, \\mathit{A1}_{z} \\mathit{A2}_{z} \\epsilon^{2} \\omega^{2} + \\mathit{A2}_{z}^{2} \\epsilon^{2} \\omega^{2} + 8 i \\, \\pi \\mathit{A1}_{z}^{2} \\epsilon \\omega \\sigma + 16 i \\, \\pi \\mathit{A1}_{z} \\mathit{A2}_{z} \\epsilon \\omega \\sigma + 8 i \\, \\pi \\mathit{A2}_{z}^{2} \\epsilon \\omega \\sigma - 16 \\, \\pi^{2} \\mathit{A1}_{z}^{2} \\sigma^{2} - 32 \\, \\pi^{2} \\mathit{A1}_{z} \\mathit{A2}_{z} \\sigma^{2} - 16 \\, \\pi^{2} \\mathit{A2}_{z}^{2} \\sigma^{2} - \\mathit{A1}_{z}^{2} \\omega^{2} + 2 \\, \\mathit{A1}_{z} \\mathit{A2}_{z} \\omega^{2} - \\mathit{A2}_{z}^{2} \\omega^{2}} + \\frac{\\mathit{A1}_{z}^{2} \\epsilon^{2} \\omega^{2}}{\\mathit{A1}_{z}^{2} \\epsilon^{2} \\omega^{2} + 2 \\, \\mathit{A1}_{z} \\mathit{A2}_{z} \\epsilon^{2} \\omega^{2} + \\mathit{A2}_{z}^{2} \\epsilon^{2} \\omega^{2} + 8 i \\, \\pi \\mathit{A1}_{z}^{2} \\epsilon \\omega \\sigma + 16 i \\, \\pi \\mathit{A1}_{z} \\mathit{A2}_{z} \\epsilon \\omega \\sigma + 8 i \\, \\pi \\mathit{A2}_{z}^{2} \\epsilon \\omega \\sigma - 16 \\, \\pi^{2} \\mathit{A1}_{z}^{2} \\sigma^{2} - 32 \\, \\pi^{2} \\mathit{A1}_{z} \\mathit{A2}_{z} \\sigma^{2} - 16 \\, \\pi^{2} \\mathit{A2}_{z}^{2} \\sigma^{2} - \\mathit{A1}_{z}^{2} \\omega^{2} + 2 \\, \\mathit{A1}_{z} \\mathit{A2}_{z} \\omega^{2} - \\mathit{A2}_{z}^{2} \\omega^{2}} + \\frac{2 \\, \\mathit{A1}_{z} \\mathit{A2}_{z} \\epsilon^{2} \\omega^{2}}{\\mathit{A1}_{z}^{2} \\epsilon^{2} \\omega^{2} + 2 \\, \\mathit{A1}_{z} \\mathit{A2}_{z} \\epsilon^{2} \\omega^{2} + \\mathit{A2}_{z}^{2} \\epsilon^{2} \\omega^{2} + 8 i \\, \\pi \\mathit{A1}_{z}^{2} \\epsilon \\omega \\sigma + 16 i \\, \\pi \\mathit{A1}_{z} \\mathit{A2}_{z} \\epsilon \\omega \\sigma + 8 i \\, \\pi \\mathit{A2}_{z}^{2} \\epsilon \\omega \\sigma - 16 \\, \\pi^{2} \\mathit{A1}_{z}^{2} \\sigma^{2} - 32 \\, \\pi^{2} \\mathit{A1}_{z} \\mathit{A2}_{z} \\sigma^{2} - 16 \\, \\pi^{2} \\mathit{A2}_{z}^{2} \\sigma^{2} - \\mathit{A1}_{z}^{2} \\omega^{2} + 2 \\, \\mathit{A1}_{z} \\mathit{A2}_{z} \\omega^{2} - \\mathit{A2}_{z}^{2} \\omega^{2}} + \\frac{\\mathit{A2}_{z}^{2} \\epsilon^{2} \\omega^{2}}{\\mathit{A1}_{z}^{2} \\epsilon^{2} \\omega^{2} + 2 \\, \\mathit{A1}_{z} \\mathit{A2}_{z} \\epsilon^{2} \\omega^{2} + \\mathit{A2}_{z}^{2} \\epsilon^{2} \\omega^{2} + 8 i \\, \\pi \\mathit{A1}_{z}^{2} \\epsilon \\omega \\sigma + 16 i \\, \\pi \\mathit{A1}_{z} \\mathit{A2}_{z} \\epsilon \\omega \\sigma + 8 i \\, \\pi \\mathit{A2}_{z}^{2} \\epsilon \\omega \\sigma - 16 \\, \\pi^{2} \\mathit{A1}_{z}^{2} \\sigma^{2} - 32 \\, \\pi^{2} \\mathit{A1}_{z} \\mathit{A2}_{z} \\sigma^{2} - 16 \\, \\pi^{2} \\mathit{A2}_{z}^{2} \\sigma^{2} - \\mathit{A1}_{z}^{2} \\omega^{2} + 2 \\, \\mathit{A1}_{z} \\mathit{A2}_{z} \\omega^{2} - \\mathit{A2}_{z}^{2} \\omega^{2}} - \\frac{\\mathit{A1}_{z}^{2} \\epsilon \\mu \\omega^{2}}{\\mathit{A1}_{z}^{2} \\epsilon^{2} \\omega^{2} + 2 \\, \\mathit{A1}_{z} \\mathit{A2}_{z} \\epsilon^{2} \\omega^{2} + \\mathit{A2}_{z}^{2} \\epsilon^{2} \\omega^{2} + 8 i \\, \\pi \\mathit{A1}_{z}^{2} \\epsilon \\omega \\sigma + 16 i \\, \\pi \\mathit{A1}_{z} \\mathit{A2}_{z} \\epsilon \\omega \\sigma + 8 i \\, \\pi \\mathit{A2}_{z}^{2} \\epsilon \\omega \\sigma - 16 \\, \\pi^{2} \\mathit{A1}_{z}^{2} \\sigma^{2} - 32 \\, \\pi^{2} \\mathit{A1}_{z} \\mathit{A2}_{z} \\sigma^{2} - 16 \\, \\pi^{2} \\mathit{A2}_{z}^{2} \\sigma^{2} - \\mathit{A1}_{z}^{2} \\omega^{2} + 2 \\, \\mathit{A1}_{z} \\mathit{A2}_{z} \\omega^{2} - \\mathit{A2}_{z}^{2} \\omega^{2}} + \\frac{2 \\, \\mathit{A1}_{z} \\mathit{A2}_{z} \\epsilon \\mu \\omega^{2}}{\\mathit{A1}_{z}^{2} \\epsilon^{2} \\omega^{2} + 2 \\, \\mathit{A1}_{z} \\mathit{A2}_{z} \\epsilon^{2} \\omega^{2} + \\mathit{A2}_{z}^{2} \\epsilon^{2} \\omega^{2} + 8 i \\, \\pi \\mathit{A1}_{z}^{2} \\epsilon \\omega \\sigma + 16 i \\, \\pi \\mathit{A1}_{z} \\mathit{A2}_{z} \\epsilon \\omega \\sigma + 8 i \\, \\pi \\mathit{A2}_{z}^{2} \\epsilon \\omega \\sigma - 16 \\, \\pi^{2} \\mathit{A1}_{z}^{2} \\sigma^{2} - 32 \\, \\pi^{2} \\mathit{A1}_{z} \\mathit{A2}_{z} \\sigma^{2} - 16 \\, \\pi^{2} \\mathit{A2}_{z}^{2} \\sigma^{2} - \\mathit{A1}_{z}^{2} \\omega^{2} + 2 \\, \\mathit{A1}_{z} \\mathit{A2}_{z} \\omega^{2} - \\mathit{A2}_{z}^{2} \\omega^{2}} - \\frac{\\mathit{A2}_{z}^{2} \\epsilon \\mu \\omega^{2}}{\\mathit{A1}_{z}^{2} \\epsilon^{2} \\omega^{2} + 2 \\, \\mathit{A1}_{z} \\mathit{A2}_{z} \\epsilon^{2} \\omega^{2} + \\mathit{A2}_{z}^{2} \\epsilon^{2} \\omega^{2} + 8 i \\, \\pi \\mathit{A1}_{z}^{2} \\epsilon \\omega \\sigma + 16 i \\, \\pi \\mathit{A1}_{z} \\mathit{A2}_{z} \\epsilon \\omega \\sigma + 8 i \\, \\pi \\mathit{A2}_{z}^{2} \\epsilon \\omega \\sigma - 16 \\, \\pi^{2} \\mathit{A1}_{z}^{2} \\sigma^{2} - 32 \\, \\pi^{2} \\mathit{A1}_{z} \\mathit{A2}_{z} \\sigma^{2} - 16 \\, \\pi^{2} \\mathit{A2}_{z}^{2} \\sigma^{2} - \\mathit{A1}_{z}^{2} \\omega^{2} + 2 \\, \\mathit{A1}_{z} \\mathit{A2}_{z} \\omega^{2} - \\mathit{A2}_{z}^{2} \\omega^{2}} + \\frac{8 i \\, \\pi \\mathit{A1}_{z}^{2} \\epsilon \\omega \\sigma}{\\mathit{A1}_{z}^{2} \\epsilon^{2} \\omega^{2} + 2 \\, \\mathit{A1}_{z} \\mathit{A2}_{z} \\epsilon^{2} \\omega^{2} + \\mathit{A2}_{z}^{2} \\epsilon^{2} \\omega^{2} + 8 i \\, \\pi \\mathit{A1}_{z}^{2} \\epsilon \\omega \\sigma + 16 i \\, \\pi \\mathit{A1}_{z} \\mathit{A2}_{z} \\epsilon \\omega \\sigma + 8 i \\, \\pi \\mathit{A2}_{z}^{2} \\epsilon \\omega \\sigma - 16 \\, \\pi^{2} \\mathit{A1}_{z}^{2} \\sigma^{2} - 32 \\, \\pi^{2} \\mathit{A1}_{z} \\mathit{A2}_{z} \\sigma^{2} - 16 \\, \\pi^{2} \\mathit{A2}_{z}^{2} \\sigma^{2} - \\mathit{A1}_{z}^{2} \\omega^{2} + 2 \\, \\mathit{A1}_{z} \\mathit{A2}_{z} \\omega^{2} - \\mathit{A2}_{z}^{2} \\omega^{2}} + \\frac{16 i \\, \\pi \\mathit{A1}_{z} \\mathit{A2}_{z} \\epsilon \\omega \\sigma}{\\mathit{A1}_{z}^{2} \\epsilon^{2} \\omega^{2} + 2 \\, \\mathit{A1}_{z} \\mathit{A2}_{z} \\epsilon^{2} \\omega^{2} + \\mathit{A2}_{z}^{2} \\epsilon^{2} \\omega^{2} + 8 i \\, \\pi \\mathit{A1}_{z}^{2} \\epsilon \\omega \\sigma + 16 i \\, \\pi \\mathit{A1}_{z} \\mathit{A2}_{z} \\epsilon \\omega \\sigma + 8 i \\, \\pi \\mathit{A2}_{z}^{2} \\epsilon \\omega \\sigma - 16 \\, \\pi^{2} \\mathit{A1}_{z}^{2} \\sigma^{2} - 32 \\, \\pi^{2} \\mathit{A1}_{z} \\mathit{A2}_{z} \\sigma^{2} - 16 \\, \\pi^{2} \\mathit{A2}_{z}^{2} \\sigma^{2} - \\mathit{A1}_{z}^{2} \\omega^{2} + 2 \\, \\mathit{A1}_{z} \\mathit{A2}_{z} \\omega^{2} - \\mathit{A2}_{z}^{2} \\omega^{2}} + \\frac{8 i \\, \\pi \\mathit{A2}_{z}^{2} \\epsilon \\omega \\sigma}{\\mathit{A1}_{z}^{2} \\epsilon^{2} \\omega^{2} + 2 \\, \\mathit{A1}_{z} \\mathit{A2}_{z} \\epsilon^{2} \\omega^{2} + \\mathit{A2}_{z}^{2} \\epsilon^{2} \\omega^{2} + 8 i \\, \\pi \\mathit{A1}_{z}^{2} \\epsilon \\omega \\sigma + 16 i \\, \\pi \\mathit{A1}_{z} \\mathit{A2}_{z} \\epsilon \\omega \\sigma + 8 i \\, \\pi \\mathit{A2}_{z}^{2} \\epsilon \\omega \\sigma - 16 \\, \\pi^{2} \\mathit{A1}_{z}^{2} \\sigma^{2} - 32 \\, \\pi^{2} \\mathit{A1}_{z} \\mathit{A2}_{z} \\sigma^{2} - 16 \\, \\pi^{2} \\mathit{A2}_{z}^{2} \\sigma^{2} - \\mathit{A1}_{z}^{2} \\omega^{2} + 2 \\, \\mathit{A1}_{z} \\mathit{A2}_{z} \\omega^{2} - \\mathit{A2}_{z}^{2} \\omega^{2}} - \\frac{16 \\, \\pi^{2} \\mathit{A1}_{z}^{2} \\sigma^{2}}{\\mathit{A1}_{z}^{2} \\epsilon^{2} \\omega^{2} + 2 \\, \\mathit{A1}_{z} \\mathit{A2}_{z} \\epsilon^{2} \\omega^{2} + \\mathit{A2}_{z}^{2} \\epsilon^{2} \\omega^{2} + 8 i \\, \\pi \\mathit{A1}_{z}^{2} \\epsilon \\omega \\sigma + 16 i \\, \\pi \\mathit{A1}_{z} \\mathit{A2}_{z} \\epsilon \\omega \\sigma + 8 i \\, \\pi \\mathit{A2}_{z}^{2} \\epsilon \\omega \\sigma - 16 \\, \\pi^{2} \\mathit{A1}_{z}^{2} \\sigma^{2} - 32 \\, \\pi^{2} \\mathit{A1}_{z} \\mathit{A2}_{z} \\sigma^{2} - 16 \\, \\pi^{2} \\mathit{A2}_{z}^{2} \\sigma^{2} - \\mathit{A1}_{z}^{2} \\omega^{2} + 2 \\, \\mathit{A1}_{z} \\mathit{A2}_{z} \\omega^{2} - \\mathit{A2}_{z}^{2} \\omega^{2}} - \\frac{32 \\, \\pi^{2} \\mathit{A1}_{z} \\mathit{A2}_{z} \\sigma^{2}}{\\mathit{A1}_{z}^{2} \\epsilon^{2} \\omega^{2} + 2 \\, \\mathit{A1}_{z} \\mathit{A2}_{z} \\epsilon^{2} \\omega^{2} + \\mathit{A2}_{z}^{2} \\epsilon^{2} \\omega^{2} + 8 i \\, \\pi \\mathit{A1}_{z}^{2} \\epsilon \\omega \\sigma + 16 i \\, \\pi \\mathit{A1}_{z} \\mathit{A2}_{z} \\epsilon \\omega \\sigma + 8 i \\, \\pi \\mathit{A2}_{z}^{2} \\epsilon \\omega \\sigma - 16 \\, \\pi^{2} \\mathit{A1}_{z}^{2} \\sigma^{2} - 32 \\, \\pi^{2} \\mathit{A1}_{z} \\mathit{A2}_{z} \\sigma^{2} - 16 \\, \\pi^{2} \\mathit{A2}_{z}^{2} \\sigma^{2} - \\mathit{A1}_{z}^{2} \\omega^{2} + 2 \\, \\mathit{A1}_{z} \\mathit{A2}_{z} \\omega^{2} - \\mathit{A2}_{z}^{2} \\omega^{2}} - \\frac{16 \\, \\pi^{2} \\mathit{A2}_{z}^{2} \\sigma^{2}}{\\mathit{A1}_{z}^{2} \\epsilon^{2} \\omega^{2} + 2 \\, \\mathit{A1}_{z} \\mathit{A2}_{z} \\epsilon^{2} \\omega^{2} + \\mathit{A2}_{z}^{2} \\epsilon^{2} \\omega^{2} + 8 i \\, \\pi \\mathit{A1}_{z}^{2} \\epsilon \\omega \\sigma + 16 i \\, \\pi \\mathit{A1}_{z} \\mathit{A2}_{z} \\epsilon \\omega \\sigma + 8 i \\, \\pi \\mathit{A2}_{z}^{2} \\epsilon \\omega \\sigma - 16 \\, \\pi^{2} \\mathit{A1}_{z}^{2} \\sigma^{2} - 32 \\, \\pi^{2} \\mathit{A1}_{z} \\mathit{A2}_{z} \\sigma^{2} - 16 \\, \\pi^{2} \\mathit{A2}_{z}^{2} \\sigma^{2} - \\mathit{A1}_{z}^{2} \\omega^{2} + 2 \\, \\mathit{A1}_{z} \\mathit{A2}_{z} \\omega^{2} - \\mathit{A2}_{z}^{2} \\omega^{2}}} \\omega}{c}\\right]$"
      ],
      "text/plain": [
       "<IPython.core.display.Math object>"
      ]
     },
     "metadata": {},
     "output_type": "display_data"
    }
   ],
   "source": [
    "sol_eq_Dx_a_subs2_kz = solve(eq_Dx_a_subs2, k_z)\n",
    "\n",
    "#print(sol_eq_Dx_a_subs2_kz)\n",
    "display(Math(latex(sol_eq_Dx_a_subs2_kz)))"
   ]
  },
  {
   "cell_type": "code",
   "execution_count": null,
   "metadata": {},
   "outputs": [],
   "source": []
  },
  {
   "cell_type": "code",
   "execution_count": 113,
   "metadata": {},
   "outputs": [
    {
     "data": {
      "text/plain": [
       "A1_x + A2_x == B1_x*(epsilon + 4*I*pi*sigma/omega)"
      ]
     },
     "execution_count": 113,
     "metadata": {},
     "output_type": "execute_result"
    }
   ],
   "source": [
    "# нормальная компонента электрического смещения\n",
    "# eqDx_a = E_inner_vacuum_sol_x(0) == E_bad_conductor_sol_x(0) * epsilon\n",
    "eqDx_a"
   ]
  },
  {
   "cell_type": "code",
   "execution_count": 114,
   "metadata": {},
   "outputs": [
    {
     "name": "stdout",
     "output_type": "stream",
     "text": [
      "E_inner_vacuum_x(x) == -(A2_z*k_z*e^(2*I*sqrt(-k_z^2 + kappa_vacuum^2)*x) - A1_z*k_z)*e^(-I*sqrt(-k_z^2 + kappa_vacuum^2)*x)/sqrt(-k_z^2 + kappa_vacuum^2)\n"
     ]
    },
    {
     "data": {
      "text/latex": [
       "$\\displaystyle E_{{\\rm inner}_{{\\rm vacuum}_{x}}}\\left(x\\right) = -\\frac{{\\left(\\mathit{A2}_{z} k_{z} e^{\\left(2 i \\, \\sqrt{-k_{z}^{2} + \\kappa_{\\mathit{vacuum}}^{2}} x\\right)} - \\mathit{A1}_{z} k_{z}\\right)} e^{\\left(-i \\, \\sqrt{-k_{z}^{2} + \\kappa_{\\mathit{vacuum}}^{2}} x\\right)}}{\\sqrt{-k_{z}^{2} + \\kappa_{\\mathit{vacuum}}^{2}}}$"
      ],
      "text/plain": [
       "<IPython.core.display.Math object>"
      ]
     },
     "metadata": {},
     "output_type": "display_data"
    }
   ],
   "source": [
    "print             (eq_5_subs4)\n",
    "display(Math(latex(eq_5_subs4)))"
   ]
  },
  {
   "cell_type": "code",
   "execution_count": 115,
   "metadata": {},
   "outputs": [
    {
     "name": "stdout",
     "output_type": "stream",
     "text": [
      "E_bad_conductor_x(x) == -B1_z*k_z*e^(I*sqrt(-k_z^2 + kappa^2)*x)/sqrt(-k_z^2 + kappa^2)\n"
     ]
    },
    {
     "data": {
      "text/latex": [
       "$\\displaystyle E_{{\\rm bad}_{{\\rm conductor}_{x}}}\\left(x\\right) = -\\frac{\\mathit{B1}_{z} k_{z} e^{\\left(i \\, \\sqrt{-k_{z}^{2} + \\kappa^{2}} x\\right)}}{\\sqrt{-k_{z}^{2} + \\kappa^{2}}}$"
      ],
      "text/plain": [
       "<IPython.core.display.Math object>"
      ]
     },
     "metadata": {},
     "output_type": "display_data"
    }
   ],
   "source": [
    "print             (eq_7_subs4)\n",
    "display(Math(latex(eq_7_subs4)))"
   ]
  },
  {
   "cell_type": "code",
   "execution_count": 116,
   "metadata": {},
   "outputs": [
    {
     "name": "stdout",
     "output_type": "stream",
     "text": [
      "(A1_z*k_z - A2_z*k_z)/sqrt(-k_z^2 + kappa_vacuum^2) == -B1_z*(epsilon + 4*I*pi*sigma/omega)*k_z/sqrt(-k_z^2 + kappa^2)\n"
     ]
    },
    {
     "data": {
      "text/latex": [
       "$\\displaystyle \\frac{\\mathit{A1}_{z} k_{z} - \\mathit{A2}_{z} k_{z}}{\\sqrt{-k_{z}^{2} + \\kappa_{\\mathit{vacuum}}^{2}}} = -\\frac{\\mathit{B1}_{z} {\\left(\\epsilon + \\frac{4 i \\, \\pi \\sigma}{\\omega}\\right)} k_{z}}{\\sqrt{-k_{z}^{2} + \\kappa^{2}}}$"
      ],
      "text/plain": [
       "<IPython.core.display.Math object>"
      ]
     },
     "metadata": {},
     "output_type": "display_data"
    }
   ],
   "source": [
    "eq_eqDx_a = eq_5_subs4.rhs().subs(x == 0).subs(K_vacuum_subs) \\\n",
    "         == (eq_7_subs4.rhs().subs(x == 0)*epsilon_complex).subs(K_conductor_subs)\n",
    "print             (eq_eqDx_a)\n",
    "display(Math(latex(eq_eqDx_a)))"
   ]
  },
  {
   "cell_type": "code",
   "execution_count": null,
   "metadata": {},
   "outputs": [],
   "source": []
  },
  {
   "cell_type": "code",
   "execution_count": 117,
   "metadata": {},
   "outputs": [
    {
     "name": "stdout",
     "output_type": "stream",
     "text": [
      "eqEz_0 = \n"
     ]
    },
    {
     "data": {
      "text/latex": [
       "$\\displaystyle \\mathit{A1}_{z} e^{\\left(i \\, K_{\\mathit{vacuum}} a\\right)} + \\mathit{A2}_{z} e^{\\left(-i \\, K_{\\mathit{vacuum}} a\\right)} = 0$"
      ],
      "text/plain": [
       "<IPython.core.display.Math object>"
      ]
     },
     "metadata": {},
     "output_type": "display_data"
    },
    {
     "name": "stdout",
     "output_type": "stream",
     "text": [
      "eqEz_0_ = \n"
     ]
    },
    {
     "data": {
      "text/latex": [
       "$\\displaystyle {\\left(i \\, \\mathit{A1}_{z_{\\mathit{im}}} + \\mathit{A1}_{z_{\\mathit{re}}}\\right)} e^{\\left(i \\, K_{\\mathit{vacuum}} a\\right)} + {\\left(i \\, \\mathit{A2}_{z_{\\mathit{im}}} + \\mathit{A2}_{z_{\\mathit{re}}}\\right)} e^{\\left(-i \\, K_{\\mathit{vacuum}} a\\right)} = 0$"
      ],
      "text/plain": [
       "<IPython.core.display.Math object>"
      ]
     },
     "metadata": {},
     "output_type": "display_data"
    },
    {
     "name": "stdout",
     "output_type": "stream",
     "text": [
      "eqEz_0, eqEy_0 = \n"
     ]
    },
    {
     "data": {
      "text/latex": [
       "$\\displaystyle \\left[\\mathit{A1}_{z} e^{\\left(i \\, K_{\\mathit{vacuum}} a\\right)} + \\mathit{A2}_{z} e^{\\left(-i \\, K_{\\mathit{vacuum}} a\\right)} = 0, \\mathit{A1}_{y} e^{\\left(i \\, K_{\\mathit{vacuum}} a\\right)} + \\mathit{A2}_{y} e^{\\left(-i \\, K_{\\mathit{vacuum}} a\\right)} = 0\\right]$"
      ],
      "text/plain": [
       "<IPython.core.display.Math object>"
      ]
     },
     "metadata": {},
     "output_type": "display_data"
    },
    {
     "name": "stdout",
     "output_type": "stream",
     "text": [
      "eqHz_a =\n"
     ]
    },
    {
     "data": {
      "text/latex": [
       "$\\displaystyle -\\frac{i \\, {\\left(i \\, \\mathit{B1}_{y} K_{\\mathit{conductor}} - i \\, \\mathit{B1}_{x} k_{y}\\right)} c}{\\mu \\omega} = -\\frac{i \\, {\\left(-i \\, \\mathit{A1}_{y} K_{\\mathit{vacuum}} + i \\, \\mathit{A2}_{y} K_{\\mathit{vacuum}} - i \\, {\\left(\\mathit{A1}_{x} + \\mathit{A2}_{x}\\right)} k_{y}\\right)} c}{\\omega}$"
      ],
      "text/plain": [
       "<IPython.core.display.Math object>"
      ]
     },
     "metadata": {},
     "output_type": "display_data"
    },
    {
     "name": "stdout",
     "output_type": "stream",
     "text": [
      "eqHy_a =\n"
     ]
    },
    {
     "data": {
      "text/latex": [
       "$\\displaystyle -\\frac{i \\, {\\left(-i \\, \\mathit{B1}_{z} K_{\\mathit{conductor}} + i \\, \\mathit{B1}_{x} k_{z}\\right)} c}{\\mu \\omega} = -\\frac{i \\, {\\left(i \\, \\mathit{A1}_{z} K_{\\mathit{vacuum}} - i \\, \\mathit{A2}_{z} K_{\\mathit{vacuum}} + i \\, {\\left(\\mathit{A1}_{x} + \\mathit{A2}_{x}\\right)} k_{z}\\right)} c}{\\omega}$"
      ],
      "text/plain": [
       "<IPython.core.display.Math object>"
      ]
     },
     "metadata": {},
     "output_type": "display_data"
    },
    {
     "name": "stdout",
     "output_type": "stream",
     "text": [
      "eqHz_a =\n"
     ]
    },
    {
     "data": {
      "text/latex": [
       "$\\displaystyle -\\frac{i \\, {\\left(i \\, {\\left(i \\, \\mathit{B1}_{y_{\\mathit{im}}} + \\mathit{B1}_{y_{\\mathit{re}}}\\right)} K_{\\mathit{conductor}} - i \\, {\\left(i \\, \\mathit{B1}_{x_{\\mathit{im}}} + \\mathit{B1}_{x_{\\mathit{re}}}\\right)} k_{y}\\right)} c}{\\mu \\omega} = -\\frac{i \\, {\\left(-i \\, {\\left(i \\, \\mathit{A1}_{y_{\\mathit{im}}} + \\mathit{A1}_{y_{\\mathit{re}}}\\right)} K_{\\mathit{vacuum}} + i \\, {\\left(i \\, \\mathit{A2}_{y_{\\mathit{im}}} + \\mathit{A2}_{y_{\\mathit{re}}}\\right)} K_{\\mathit{vacuum}} - i \\, {\\left(i \\, \\mathit{A1}_{x_{\\mathit{im}}} + \\mathit{A1}_{x_{\\mathit{re}}} + i \\, \\mathit{A2}_{x_{\\mathit{im}}} + \\mathit{A2}_{x_{\\mathit{re}}}\\right)} k_{y}\\right)} c}{\\omega}$"
      ],
      "text/plain": [
       "<IPython.core.display.Math object>"
      ]
     },
     "metadata": {},
     "output_type": "display_data"
    },
    {
     "name": "stdout",
     "output_type": "stream",
     "text": [
      "eqHy_a =\n"
     ]
    },
    {
     "data": {
      "text/latex": [
       "$\\displaystyle -\\frac{\\frac{{\\left(4 i \\, \\pi c \\mu \\omega \\sigma + \\epsilon \\mu \\omega^{2}\\right)} {\\left(i \\, \\mathit{A1}_{z_{\\mathit{im}}} + \\mathit{A1}_{z_{\\mathit{re}}} + i \\, \\mathit{A2}_{z_{\\mathit{im}}} + \\mathit{A2}_{z_{\\mathit{re}}}\\right)} \\epsilon \\omega}{c^{2}} + \\frac{4 \\, {\\left(4 i \\, \\pi c \\mu \\omega \\sigma + \\epsilon \\mu \\omega^{2}\\right)} {\\left(i \\, \\pi {\\left(i \\, \\mathit{A1}_{z_{\\mathit{im}}} + \\mathit{A1}_{z_{\\mathit{re}}}\\right)} + i \\, \\pi {\\left(i \\, \\mathit{A2}_{z_{\\mathit{im}}} + \\mathit{A2}_{z_{\\mathit{re}}}\\right)}\\right)} \\sigma}{c^{2}}}{\\sqrt{-k_{z}^{2} + \\frac{4 i \\, \\pi c \\mu \\omega \\sigma + \\epsilon \\mu \\omega^{2}}{c^{2}}} \\mu \\omega} = \\frac{\\frac{{\\left(i \\, \\mathit{A1}_{z_{\\mathit{im}}} + \\mathit{A1}_{z_{\\mathit{re}}} - i \\, \\mathit{A2}_{z_{\\mathit{im}}} - \\mathit{A2}_{z_{\\mathit{re}}}\\right)} \\epsilon \\omega^{3}}{c^{2}} - \\frac{4 \\, {\\left(-i \\, \\pi {\\left(i \\, \\mathit{A1}_{z_{\\mathit{im}}} + \\mathit{A1}_{z_{\\mathit{re}}}\\right)} + i \\, \\pi {\\left(i \\, \\mathit{A2}_{z_{\\mathit{im}}} + \\mathit{A2}_{z_{\\mathit{re}}}\\right)}\\right)} \\omega^{2} \\sigma}{c^{2}}}{\\sqrt{-k_{z}^{2} + \\frac{\\omega^{2}}{c^{2}}} \\omega}$"
      ],
      "text/plain": [
       "<IPython.core.display.Math object>"
      ]
     },
     "metadata": {},
     "output_type": "display_data"
    },
    {
     "name": "stdout",
     "output_type": "stream",
     "text": [
      "eqEz_a = \n"
     ]
    },
    {
     "data": {
      "text/latex": [
       "$\\displaystyle \\mathit{B1}_{z} = \\mathit{A1}_{z} + \\mathit{A2}_{z}$"
      ],
      "text/plain": [
       "<IPython.core.display.Math object>"
      ]
     },
     "metadata": {},
     "output_type": "display_data"
    },
    {
     "name": "stdout",
     "output_type": "stream",
     "text": [
      "eqEy_a = \n"
     ]
    },
    {
     "data": {
      "text/latex": [
       "$\\displaystyle \\mathit{B1}_{y} = \\mathit{A1}_{y} + \\mathit{A2}_{y}$"
      ],
      "text/plain": [
       "<IPython.core.display.Math object>"
      ]
     },
     "metadata": {},
     "output_type": "display_data"
    },
    {
     "name": "stdout",
     "output_type": "stream",
     "text": [
      "eqBx_a =\n"
     ]
    },
    {
     "data": {
      "text/latex": [
       "$\\displaystyle -\\frac{i \\, {\\left(i \\, \\mathit{B1}_{z} k_{y} - i \\, \\mathit{B1}_{y} k_{z}\\right)} c}{\\omega} = -\\frac{i \\, {\\left(i \\, {\\left(\\mathit{A1}_{z} + \\mathit{A2}_{z}\\right)} k_{y} - i \\, {\\left(\\mathit{A1}_{y} + \\mathit{A2}_{y}\\right)} k_{z}\\right)} c}{\\omega}$"
      ],
      "text/plain": [
       "<IPython.core.display.Math object>"
      ]
     },
     "metadata": {},
     "output_type": "display_data"
    },
    {
     "name": "stdout",
     "output_type": "stream",
     "text": [
      "eqBx_a_ =\n"
     ]
    },
    {
     "data": {
      "text/latex": [
       "$\\displaystyle -\\frac{i \\, {\\left(i \\, {\\left(i \\, \\mathit{B1}_{z_{\\mathit{im}}} + \\mathit{B1}_{z_{\\mathit{re}}}\\right)} k_{y} - i \\, {\\left(i \\, \\mathit{B1}_{y_{\\mathit{im}}} + \\mathit{B1}_{y_{\\mathit{re}}}\\right)} k_{z}\\right)} c}{\\omega} = -\\frac{i \\, {\\left(i \\, {\\left(i \\, \\mathit{A1}_{z_{\\mathit{im}}} + \\mathit{A1}_{z_{\\mathit{re}}} + i \\, \\mathit{A2}_{z_{\\mathit{im}}} + \\mathit{A2}_{z_{\\mathit{re}}}\\right)} k_{y} - i \\, {\\left(i \\, \\mathit{A1}_{y_{\\mathit{im}}} + \\mathit{A1}_{y_{\\mathit{re}}} + i \\, \\mathit{A2}_{y_{\\mathit{im}}} + \\mathit{A2}_{y_{\\mathit{re}}}\\right)} k_{z}\\right)} c}{\\omega}$"
      ],
      "text/plain": [
       "<IPython.core.display.Math object>"
      ]
     },
     "metadata": {},
     "output_type": "display_data"
    },
    {
     "name": "stdout",
     "output_type": "stream",
     "text": [
      "eqDx_a =\n"
     ]
    },
    {
     "data": {
      "text/latex": [
       "$\\displaystyle \\mathit{A1}_{x} + \\mathit{A2}_{x} = \\mathit{B1}_{x} {\\left(\\epsilon + \\frac{4 i \\, \\pi \\sigma}{\\omega}\\right)}$"
      ],
      "text/plain": [
       "<IPython.core.display.Math object>"
      ]
     },
     "metadata": {},
     "output_type": "display_data"
    },
    {
     "name": "stdout",
     "output_type": "stream",
     "text": [
      "eqDx_a_ =\n"
     ]
    },
    {
     "data": {
      "text/latex": [
       "$\\displaystyle i \\, \\mathit{A1}_{x_{\\mathit{im}}} + \\mathit{A1}_{x_{\\mathit{re}}} + i \\, \\mathit{A2}_{x_{\\mathit{im}}} + \\mathit{A2}_{x_{\\mathit{re}}} = {\\left(i \\, \\mathit{B1}_{x_{\\mathit{im}}} + \\mathit{B1}_{x_{\\mathit{re}}}\\right)} {\\left(\\epsilon + \\frac{4 i \\, \\pi \\sigma}{\\omega}\\right)}$"
      ],
      "text/plain": [
       "<IPython.core.display.Math object>"
      ]
     },
     "metadata": {},
     "output_type": "display_data"
    }
   ],
   "source": [
    "# граничные условия на границе идеального проводника и вакуума внутри резонатора\n",
    "# тангенциальная компонента электрического поля\n",
    "\n",
    "print (\"eqEz_0 = \")\n",
    "display(Math(latex(eqEz_0)))\n",
    "\n",
    "eqEz_0_ = eqEz_0.subs(A1_z_re_im_subs).subs(A2_z_re_im_subs)\n",
    "eqEy_0_ = eqEy_0.subs(A1_y_re_im_subs).subs(A2_y_re_im_subs)\n",
    "\n",
    "print (\"eqEz_0_ = \")\n",
    "display(Math(latex(eqEz_0_)))\n",
    "\n",
    "\n",
    "print (\"eqEz_0, eqEy_0 = \")\n",
    "display(Math(latex([eqEz_0, eqEy_0])))\n",
    "\n",
    "# тангенциальная компонента напряженности магнитного поля\n",
    "print (\"eqHz_a =\")\n",
    "display(Math(latex(eqHz_a)))\n",
    "print (\"eqHy_a =\")\n",
    "display(Math(latex(eqHy_a)))\n",
    "\n",
    "eqHz_a_ = eqHz_a \\\n",
    "        .subs(A1_x_re_im_subs).subs(A2_x_re_im_subs) \\\n",
    "        .subs(A1_y_re_im_subs).subs(A2_y_re_im_subs) \\\n",
    "        .subs(A1_z_re_im_subs).subs(A2_z_re_im_subs) \\\n",
    "        .subs(B1_x_re_im_subs) \\\n",
    "        .subs(B1_y_re_im_subs) \\\n",
    "        .subs(B1_z_re_im_subs)\n",
    "\n",
    "\n",
    "# eqHy_a_ = eqHy_a \\\n",
    "eqHy_a_ = eq_Hy_0.subs(kappa_vacuum_sol).subs(kappa_sol) \\\n",
    "        .subs(A1_x_re_im_subs).subs(A2_x_re_im_subs) \\\n",
    "        .subs(A1_y_re_im_subs).subs(A2_y_re_im_subs) \\\n",
    "        .subs(A1_z_re_im_subs).subs(A2_z_re_im_subs) \\\n",
    "        .subs(B1_x_re_im_subs) \\\n",
    "        .subs(B1_y_re_im_subs) \\\n",
    "        .subs(B1_z_re_im_subs)\n",
    "\n",
    "print (\"eqHz_a =\")\n",
    "display(Math(latex(eqHz_a_)))\n",
    "print (\"eqHy_a =\")\n",
    "display(Math(latex(eqHy_a_)))\n",
    "\n",
    "# граничные условия на границе вакуума внутри резонатора и проводящего металла с потерями\n",
    "# тангенциальная компонента электрического поля\n",
    "print (\"eqEz_a = \")\n",
    "display(Math(latex(eqEz_a)))\n",
    "print (\"eqEy_a = \")\n",
    "display(Math(latex(eqEy_a)))\n",
    "\n",
    "eqEz_a_ = eqEz_a \\\n",
    "        .subs(A1_z_re_im_subs).subs(A2_z_re_im_subs) \\\n",
    "        .subs(B1_z_re_im_subs)\n",
    "\n",
    "eqEy_a_ = eqEy_a \\\n",
    "        .subs(A1_y_re_im_subs).subs(A2_y_re_im_subs) \\\n",
    "        .subs(B1_y_re_im_subs)\n",
    "\n",
    "# нормальная компонента индукции магнитного поля\n",
    "#eqBx_a  = mu * H_bad_conductor_sol_x (0)  == H_inner_vacuum_sol_x (0)\n",
    "\n",
    "print (\"eqBx_a =\")\n",
    "display(Math(latex(eqBx_a)))\n",
    "\n",
    "eqBx_a_ = eqBx_a \\\n",
    "        .subs(A1_x_re_im_subs).subs(A2_x_re_im_subs) \\\n",
    "        .subs(A1_y_re_im_subs).subs(A2_y_re_im_subs) \\\n",
    "        .subs(A1_z_re_im_subs).subs(A2_z_re_im_subs) \\\n",
    "        .subs(B1_x_re_im_subs) \\\n",
    "        .subs(B1_y_re_im_subs) \\\n",
    "        .subs(B1_z_re_im_subs)\n",
    "\n",
    "print (\"eqBx_a_ =\")\n",
    "display(Math(latex(eqBx_a_)))\n",
    "\n",
    "# нормальная компонента электрического смещения\n",
    "\n",
    "print (\"eqDx_a =\")\n",
    "display(Math(latex(eqDx_a)))\n",
    "\n",
    "eqDx_a_ = eqDx_a \\\n",
    "        .subs(A1_x_re_im_subs).subs(A2_x_re_im_subs) \\\n",
    "        .subs(A1_y_re_im_subs).subs(A2_y_re_im_subs) \\\n",
    "        .subs(A1_z_re_im_subs).subs(A2_z_re_im_subs) \\\n",
    "        .subs(B1_x_re_im_subs) \\\n",
    "        .subs(B1_y_re_im_subs) \\\n",
    "        .subs(B1_z_re_im_subs)\n",
    "\n",
    "print (\"eqDx_a_ =\")\n",
    "display(Math(latex(eqDx_a_)))"
   ]
  },
  {
   "cell_type": "code",
   "execution_count": 118,
   "metadata": {},
   "outputs": [],
   "source": [
    "# граничные условия на границе идеального проводника и вакуума внутри резонатора\n",
    "# тангенциальная компонента электрического поля"
   ]
  },
  {
   "cell_type": "code",
   "execution_count": 119,
   "metadata": {},
   "outputs": [],
   "source": [
    "eqEz_0_re = eqEz_0_.lhs().real() == 0\n",
    "eqEz_0_im = eqEz_0_.lhs().imag() == 0"
   ]
  },
  {
   "cell_type": "code",
   "execution_count": 120,
   "metadata": {},
   "outputs": [],
   "source": [
    "eqEy_0_re = eqEy_0_.lhs().real() == 0\n",
    "eqEy_0_im = eqEy_0_.lhs().imag() == 0"
   ]
  },
  {
   "cell_type": "code",
   "execution_count": 121,
   "metadata": {},
   "outputs": [],
   "source": [
    "# тангенциальная компонента напряженности магнитного поля"
   ]
  },
  {
   "cell_type": "code",
   "execution_count": 122,
   "metadata": {},
   "outputs": [],
   "source": [
    "#eqHz_a"
   ]
  },
  {
   "cell_type": "code",
   "execution_count": 123,
   "metadata": {},
   "outputs": [],
   "source": [
    "#eqHy_a"
   ]
  },
  {
   "cell_type": "code",
   "execution_count": 124,
   "metadata": {},
   "outputs": [],
   "source": [
    "eqHz_a_re = eqHz_a_.lhs().real() == eqHz_a_.rhs().real()\n",
    "eqHz_a_im = eqHz_a_.lhs().imag() == eqHz_a_.rhs().imag()"
   ]
  },
  {
   "cell_type": "code",
   "execution_count": 125,
   "metadata": {},
   "outputs": [],
   "source": [
    "eqHy_a_re = eqHy_a_.lhs().real() == eqHy_a_.rhs().real()\n",
    "eqHy_a_im = eqHy_a_.lhs().imag() == eqHy_a_.rhs().imag()"
   ]
  },
  {
   "cell_type": "code",
   "execution_count": 126,
   "metadata": {},
   "outputs": [],
   "source": [
    "# граничные условия на границе вакуума внутри резонатора и проводящего металла с потерями\n",
    "# тангенциальная компонента электрического поля"
   ]
  },
  {
   "cell_type": "code",
   "execution_count": 127,
   "metadata": {},
   "outputs": [],
   "source": [
    "#eqEz_a"
   ]
  },
  {
   "cell_type": "code",
   "execution_count": 128,
   "metadata": {},
   "outputs": [],
   "source": [
    "eqEz_a_re = eqEz_a_.lhs().real() == eqEz_a_.rhs().real()\n",
    "eqEz_a_im = eqEz_a_.lhs().imag() == eqEz_a_.rhs().imag()"
   ]
  },
  {
   "cell_type": "code",
   "execution_count": 129,
   "metadata": {},
   "outputs": [],
   "source": [
    "#eqEy_a"
   ]
  },
  {
   "cell_type": "code",
   "execution_count": 130,
   "metadata": {},
   "outputs": [],
   "source": [
    "eqEy_a_re = eqEy_a_.lhs().real() == eqEy_a_.rhs().real()\n",
    "eqEy_a_im = eqEy_a_.lhs().imag() == eqEy_a_.rhs().imag()"
   ]
  },
  {
   "cell_type": "code",
   "execution_count": 131,
   "metadata": {},
   "outputs": [],
   "source": [
    "# нормальная компонента индукции магнитного поля\n",
    "# на границе вакуума внутри резонатора и проводящего металла с потерями"
   ]
  },
  {
   "cell_type": "code",
   "execution_count": 132,
   "metadata": {},
   "outputs": [],
   "source": [
    "#eqBx_a"
   ]
  },
  {
   "cell_type": "code",
   "execution_count": 133,
   "metadata": {},
   "outputs": [],
   "source": [
    "eqBx_a_re = eqBx_a_.lhs().real() == eqBx_a_.rhs().real()\n",
    "eqBx_a_im = eqBx_a_.lhs().imag() == eqBx_a_.rhs().imag()"
   ]
  },
  {
   "cell_type": "code",
   "execution_count": 134,
   "metadata": {},
   "outputs": [],
   "source": [
    "# нормальная компонента электрического смещения\n",
    "# на границе вакуума внутри резонатора и проводящего металла с потерями"
   ]
  },
  {
   "cell_type": "code",
   "execution_count": 135,
   "metadata": {},
   "outputs": [],
   "source": [
    "#eqDx_a"
   ]
  },
  {
   "cell_type": "code",
   "execution_count": 136,
   "metadata": {},
   "outputs": [],
   "source": [
    "eqDx_a_re = eqDx_a_.lhs().real() == eqDx_a_.rhs().real()\n",
    "eqDx_a_im = eqDx_a_.lhs().imag() == eqDx_a_.rhs().imag()"
   ]
  },
  {
   "cell_type": "code",
   "execution_count": 137,
   "metadata": {},
   "outputs": [
    {
     "data": {
      "text/latex": [
       "$\\displaystyle k_{z} = \\kappa \\omega \\sqrt{\\frac{{\\left(\\mathit{A1}_{z}^{2} + 2 \\, \\mathit{A1}_{z} \\mathit{A2}_{z} + \\mathit{A2}_{z}^{2}\\right)} c^{2} \\kappa^{2} - {\\left(\\mathit{A1}_{z}^{2} - 2 \\, \\mathit{A1}_{z} \\mathit{A2}_{z} + \\mathit{A2}_{z}^{2}\\right)} \\mu^{2} \\omega^{2}}{{\\left(\\mathit{A1}_{z}^{2} + 2 \\, \\mathit{A1}_{z} \\mathit{A2}_{z} + \\mathit{A2}_{z}^{2}\\right)} c^{4} \\kappa^{4} - {\\left(\\mathit{A1}_{z}^{2} - 2 \\, \\mathit{A1}_{z} \\mathit{A2}_{z} + \\mathit{A2}_{z}^{2}\\right)} \\mu^{2} \\omega^{4}}}$"
      ],
      "text/plain": [
       "<IPython.core.display.Math object>"
      ]
     },
     "metadata": {},
     "output_type": "display_data"
    }
   ],
   "source": [
    "display(Math(latex(k_z_sol_subs)))"
   ]
  },
  {
   "cell_type": "code",
   "execution_count": 138,
   "metadata": {},
   "outputs": [],
   "source": [
    "k_z_sol_subs = k_z_sol_subs.subs(K_vacuum_subs).subs(K_conductor_subs).subs(kappa_vacuum_sol).subs(kappa_sol) \\\n",
    "    .subs(A1_z == A1_z_re + I * A1_z_im) \\\n",
    "    .subs(A2_z == A2_z_re + I * A2_z_im)"
   ]
  },
  {
   "cell_type": "code",
   "execution_count": 139,
   "metadata": {},
   "outputs": [
    {
     "data": {
      "text/latex": [
       "$\\displaystyle k_{z} = \\frac{\\sqrt{4 i \\, \\pi c \\mu \\omega \\sigma + \\epsilon \\mu \\omega^{2}} \\omega \\sqrt{\\frac{{\\left({\\left(i \\, \\mathit{A1}_{z_{\\mathit{im}}} + \\mathit{A1}_{z_{\\mathit{re}}}\\right)}^{2} - 2 \\, {\\left(i \\, \\mathit{A1}_{z_{\\mathit{im}}} + \\mathit{A1}_{z_{\\mathit{re}}}\\right)} {\\left(i \\, \\mathit{A2}_{z_{\\mathit{im}}} + \\mathit{A2}_{z_{\\mathit{re}}}\\right)} + {\\left(i \\, \\mathit{A2}_{z_{\\mathit{im}}} + \\mathit{A2}_{z_{\\mathit{re}}}\\right)}^{2}\\right)} \\mu^{2} \\omega^{2} - {\\left(4 i \\, \\pi c \\mu \\omega \\sigma + \\epsilon \\mu \\omega^{2}\\right)} {\\left({\\left(i \\, \\mathit{A1}_{z_{\\mathit{im}}} + \\mathit{A1}_{z_{\\mathit{re}}}\\right)}^{2} + 2 \\, {\\left(i \\, \\mathit{A1}_{z_{\\mathit{im}}} + \\mathit{A1}_{z_{\\mathit{re}}}\\right)} {\\left(i \\, \\mathit{A2}_{z_{\\mathit{im}}} + \\mathit{A2}_{z_{\\mathit{re}}}\\right)} + {\\left(i \\, \\mathit{A2}_{z_{\\mathit{im}}} + \\mathit{A2}_{z_{\\mathit{re}}}\\right)}^{2}\\right)}}{{\\left({\\left(i \\, \\mathit{A1}_{z_{\\mathit{im}}} + \\mathit{A1}_{z_{\\mathit{re}}}\\right)}^{2} - 2 \\, {\\left(i \\, \\mathit{A1}_{z_{\\mathit{im}}} + \\mathit{A1}_{z_{\\mathit{re}}}\\right)} {\\left(i \\, \\mathit{A2}_{z_{\\mathit{im}}} + \\mathit{A2}_{z_{\\mathit{re}}}\\right)} + {\\left(i \\, \\mathit{A2}_{z_{\\mathit{im}}} + \\mathit{A2}_{z_{\\mathit{re}}}\\right)}^{2}\\right)} \\mu^{2} \\omega^{4} - {\\left(4 i \\, \\pi c \\mu \\omega \\sigma + \\epsilon \\mu \\omega^{2}\\right)}^{2} {\\left({\\left(i \\, \\mathit{A1}_{z_{\\mathit{im}}} + \\mathit{A1}_{z_{\\mathit{re}}}\\right)}^{2} + 2 \\, {\\left(i \\, \\mathit{A1}_{z_{\\mathit{im}}} + \\mathit{A1}_{z_{\\mathit{re}}}\\right)} {\\left(i \\, \\mathit{A2}_{z_{\\mathit{im}}} + \\mathit{A2}_{z_{\\mathit{re}}}\\right)} + {\\left(i \\, \\mathit{A2}_{z_{\\mathit{im}}} + \\mathit{A2}_{z_{\\mathit{re}}}\\right)}^{2}\\right)}}}}{c}$"
      ],
      "text/plain": [
       "<IPython.core.display.Math object>"
      ]
     },
     "metadata": {},
     "output_type": "display_data"
    }
   ],
   "source": [
    "display(Math(latex(k_z_sol_subs)))"
   ]
  },
  {
   "cell_type": "code",
   "execution_count": 140,
   "metadata": {},
   "outputs": [
    {
     "data": {
      "text/plain": [
       "(A1_z_im, A1_z_re, A2_z_im, A2_z_re, c, epsilon, mu, omega, sigma)"
      ]
     },
     "execution_count": 140,
     "metadata": {},
     "output_type": "execute_result"
    }
   ],
   "source": [
    "K_vacuum_s = K_vacuum_subs.subs(k_z_sol_subs).subs(kappa_vacuum_sol).subs(kappa_sol)\n",
    "K_vacuum_s.rhs().variables()"
   ]
  },
  {
   "cell_type": "code",
   "execution_count": 141,
   "metadata": {},
   "outputs": [
    {
     "data": {
      "text/plain": [
       "(A1_z_im, A1_z_re, A2_z_im, A2_z_re, c, epsilon, mu, omega, sigma)"
      ]
     },
     "execution_count": 141,
     "metadata": {},
     "output_type": "execute_result"
    }
   ],
   "source": [
    "K_conductor_s = K_conductor_subs.subs(k_z_sol_subs).subs(kappa_vacuum_sol).subs(kappa_sol)\n",
    "K_conductor_s.rhs().variables()"
   ]
  },
  {
   "cell_type": "code",
   "execution_count": 142,
   "metadata": {},
   "outputs": [],
   "source": [
    "#k_z_sol_subs"
   ]
  },
  {
   "cell_type": "code",
   "execution_count": 143,
   "metadata": {},
   "outputs": [
    {
     "data": {
      "text/plain": [
       "(A1_z_im, A1_z_re, A2_z_im, A2_z_re, c, epsilon, mu, omega, sigma)"
      ]
     },
     "execution_count": 143,
     "metadata": {},
     "output_type": "execute_result"
    }
   ],
   "source": [
    "K_vacuum_s = K_vacuum_subs.subs(k_z_sol_subs).subs(kappa_vacuum_sol).subs(kappa_sol) \\\n",
    "    .subs(A1_z == A1_z_re + I * A1_z_im) \\\n",
    "    .subs(A2_z == A2_z_re + I * A2_z_im)\n",
    "\n",
    "K_vacuum_s.rhs().variables()"
   ]
  },
  {
   "cell_type": "code",
   "execution_count": 144,
   "metadata": {},
   "outputs": [
    {
     "data": {
      "text/plain": [
       "(A1_z_im, A1_z_re, A2_z_im, A2_z_re, c, epsilon, mu, omega, sigma)"
      ]
     },
     "execution_count": 144,
     "metadata": {},
     "output_type": "execute_result"
    }
   ],
   "source": [
    "K_conductor_s = K_conductor_subs.subs(k_z_sol_subs).subs(kappa_vacuum_sol).subs(kappa_sol) \\\n",
    "    .subs(A1_z == A1_z_re + I * A1_z_im) \\\n",
    "    .subs(A2_z == A2_z_re + I * A2_z_im)\n",
    "\n",
    "K_conductor_s.rhs().variables()"
   ]
  },
  {
   "cell_type": "code",
   "execution_count": 145,
   "metadata": {},
   "outputs": [],
   "source": [
    "#im00"
   ]
  },
  {
   "cell_type": "code",
   "execution_count": 146,
   "metadata": {},
   "outputs": [],
   "source": [
    "K_vacuum_s_A_re11_im00 = K_vacuum_s.subs(A1_z_re==1,A1_z_im==0).subs(A2_z_re==1,A2_z_im==0)"
   ]
  },
  {
   "cell_type": "code",
   "execution_count": 147,
   "metadata": {},
   "outputs": [],
   "source": [
    "K_vacuum_s_A_re01_im00 = K_vacuum_s.subs(A1_z_re==0,A1_z_im==0).subs(A2_z_re==1,A2_z_im==0)"
   ]
  },
  {
   "cell_type": "code",
   "execution_count": 148,
   "metadata": {},
   "outputs": [],
   "source": [
    "K_vacuum_s_A_re10_im00 = K_vacuum_s.subs(A1_z_re==1,A1_z_im==0).subs(A2_z_re==0,A2_z_im==0)"
   ]
  },
  {
   "cell_type": "code",
   "execution_count": 149,
   "metadata": {},
   "outputs": [],
   "source": [
    "#re00"
   ]
  },
  {
   "cell_type": "code",
   "execution_count": 150,
   "metadata": {},
   "outputs": [],
   "source": [
    "K_vacuum_s_A_re00_im11 = K_vacuum_s.subs(A1_z_re==0,A1_z_im==1).subs(A2_z_re==0,A2_z_im==1)"
   ]
  },
  {
   "cell_type": "code",
   "execution_count": 151,
   "metadata": {},
   "outputs": [],
   "source": [
    "K_vacuum_s_A_re00_im10 = K_vacuum_s.subs(A1_z_re==0,A1_z_im==1).subs(A2_z_re==0,A2_z_im==0)"
   ]
  },
  {
   "cell_type": "code",
   "execution_count": 152,
   "metadata": {},
   "outputs": [],
   "source": [
    "K_vacuum_s_A_re00_im01 = K_vacuum_s.subs(A1_z_re==0,A1_z_im==0).subs(A2_z_re==0,A2_z_im==1)"
   ]
  },
  {
   "cell_type": "code",
   "execution_count": 153,
   "metadata": {},
   "outputs": [],
   "source": [
    "#re11"
   ]
  },
  {
   "cell_type": "code",
   "execution_count": 154,
   "metadata": {},
   "outputs": [],
   "source": [
    "K_vacuum_s_A_re11_im11 = K_vacuum_s.subs(A1_z_re==1,A1_z_im==1).subs(A2_z_re==1,A2_z_im==1)"
   ]
  },
  {
   "cell_type": "code",
   "execution_count": 155,
   "metadata": {},
   "outputs": [],
   "source": [
    "K_vacuum_s_A_re11_im10 = K_vacuum_s.subs(A1_z_re==1,A1_z_im==1).subs(A2_z_re==1,A2_z_im==0)"
   ]
  },
  {
   "cell_type": "code",
   "execution_count": 156,
   "metadata": {},
   "outputs": [],
   "source": [
    "K_vacuum_s_A_re11_im01 = K_vacuum_s.subs(A1_z_re==1,A1_z_im==0).subs(A2_z_re==1,A2_z_im==1)"
   ]
  },
  {
   "cell_type": "code",
   "execution_count": null,
   "metadata": {},
   "outputs": [],
   "source": []
  },
  {
   "cell_type": "code",
   "execution_count": 157,
   "metadata": {},
   "outputs": [],
   "source": [
    "#im00"
   ]
  },
  {
   "cell_type": "code",
   "execution_count": 158,
   "metadata": {},
   "outputs": [],
   "source": [
    "K_conductor_s_A_re11_im00=K_conductor_s.subs(A1_z_re==1,A1_z_im==0,A2_z_re==1,A2_z_im==0)"
   ]
  },
  {
   "cell_type": "code",
   "execution_count": 159,
   "metadata": {},
   "outputs": [],
   "source": [
    "K_conductor_s_A_re01_im00=K_conductor_s.subs(A1_z_re==0,A1_z_im==0,A2_z_re==1,A2_z_im==0)"
   ]
  },
  {
   "cell_type": "code",
   "execution_count": 160,
   "metadata": {},
   "outputs": [],
   "source": [
    "K_conductor_s_A_re10_im00=K_conductor_s.subs(A1_z_re==1,A1_z_im==0,A2_z_re==0,A2_z_im==0)"
   ]
  },
  {
   "cell_type": "code",
   "execution_count": 161,
   "metadata": {},
   "outputs": [],
   "source": [
    "#im11"
   ]
  },
  {
   "cell_type": "code",
   "execution_count": 162,
   "metadata": {},
   "outputs": [],
   "source": [
    "K_conductor_s_A_re00_im11=K_conductor_s.subs(A1_z_re==0,A1_z_im==1,A2_z_re==0,A2_z_im==1)"
   ]
  },
  {
   "cell_type": "code",
   "execution_count": 163,
   "metadata": {},
   "outputs": [],
   "source": [
    "K_conductor_s_A_re10_im11=K_conductor_s.subs(A1_z_re==1,A1_z_im==1,A2_z_re==0,A2_z_im==1)"
   ]
  },
  {
   "cell_type": "code",
   "execution_count": 164,
   "metadata": {},
   "outputs": [],
   "source": [
    "K_conductor_s_A_re01_im11=K_conductor_s.subs(A1_z_re==0,A1_z_im==1,A2_z_re==1,A2_z_im==1)"
   ]
  },
  {
   "cell_type": "code",
   "execution_count": 165,
   "metadata": {},
   "outputs": [],
   "source": [
    "#re11"
   ]
  },
  {
   "cell_type": "code",
   "execution_count": 166,
   "metadata": {},
   "outputs": [],
   "source": [
    "K_conductor_s_A_re11_im11=K_conductor_s.subs(A1_z_re==1,A1_z_im==1,A2_z_re==1,A2_z_im==1)"
   ]
  },
  {
   "cell_type": "code",
   "execution_count": 167,
   "metadata": {},
   "outputs": [],
   "source": [
    "K_conductor_s_A_re11_im10=K_conductor_s.subs(A1_z_re==1,A1_z_im==1,A2_z_re==1,A2_z_im==0)"
   ]
  },
  {
   "cell_type": "code",
   "execution_count": 168,
   "metadata": {},
   "outputs": [],
   "source": [
    "K_conductor_s_A_re11_im01=K_conductor_s.subs(A1_z_re==1,A1_z_im==0,A2_z_re==1,A2_z_im==1)"
   ]
  },
  {
   "cell_type": "code",
   "execution_count": null,
   "metadata": {},
   "outputs": [],
   "source": []
  },
  {
   "cell_type": "code",
   "execution_count": 169,
   "metadata": {},
   "outputs": [
    {
     "data": {
      "text/plain": [
       "([mu == 1, c == 29979245800, sigma == 1000, epsilon == 1000, a == 1],\n",
       " 2.98046134067857e7)"
      ]
     },
     "execution_count": 169,
     "metadata": {},
     "output_type": "execute_result"
    }
   ],
   "source": [
    "# sgs\n",
    "A = 1\n",
    "kappa_A_max = 13*pi.n()/2\n",
    "s_A_max = 20\n",
    "epsilon_d = 1000\n",
    "# на низких частотах ферриты обладают высокой относительной диэлектрической проницаемостью, примерно 10^5\n",
    "\n",
    "lambda_d = 632*100*10^-9\n",
    "# 632 nm\n",
    "\n",
    "lambda_d = 632*100*10^-6\n",
    "# 0.632 mm\n",
    "\n",
    "lambda_d = 632*100*10^-4*1000\n",
    "# 63.2 mm\n",
    "# 6.32 sm\n",
    "\n",
    "c_value  = [ c == 299792458 * 100]\n",
    "omega_value = [ omega  == ((2*pi * c)/ lambda_d).subs (c_value) ]\n",
    "digit_values_init = [mu == 1, c == 299792458 * 100, sigma == 1000, epsilon == epsilon_d, a == A]\n",
    "digit_values = digit_values_init\n",
    "digit_values, omega_value[0].rhs().n()"
   ]
  },
  {
   "cell_type": "code",
   "execution_count": 170,
   "metadata": {},
   "outputs": [
    {
     "data": {
      "text/plain": [
       "(A1_z_im, A1_z_re, A2_z_im, A2_z_re, omega)"
      ]
     },
     "execution_count": 170,
     "metadata": {},
     "output_type": "execute_result"
    }
   ],
   "source": [
    "K_vacuum_s_d = K_vacuum_s.subs(digit_values)\n",
    "K_vacuum_s_d.rhs().variables()"
   ]
  },
  {
   "cell_type": "code",
   "execution_count": 171,
   "metadata": {},
   "outputs": [
    {
     "data": {
      "text/plain": [
       "(A1_z_im, A1_z_re, A2_z_im, A2_z_re, omega)"
      ]
     },
     "execution_count": 171,
     "metadata": {},
     "output_type": "execute_result"
    }
   ],
   "source": [
    "K_conductor_s_d = K_conductor_s.subs(digit_values)\n",
    "K_conductor_s_d.rhs().variables()"
   ]
  },
  {
   "cell_type": "code",
   "execution_count": 172,
   "metadata": {},
   "outputs": [],
   "source": [
    "#re11"
   ]
  },
  {
   "cell_type": "code",
   "execution_count": 173,
   "metadata": {},
   "outputs": [
    {
     "data": {
      "text/plain": [
       "K_vacuum == 0"
      ]
     },
     "execution_count": 173,
     "metadata": {},
     "output_type": "execute_result"
    }
   ],
   "source": [
    "K_vacuum_s_A_re11_im00_d = K_vacuum_s_A_re11_im00.subs(digit_values)\n",
    "K_vacuum_s_A_re11_im00_d"
   ]
  },
  {
   "cell_type": "code",
   "execution_count": 174,
   "metadata": {},
   "outputs": [
    {
     "data": {
      "text/plain": [
       "K_vacuum == sqrt(-1/898755178736817640*(-(359750949600000*I - 479667932800000)*pi*omega - (4000*I + 3001)*omega^2)*(-119916983200*I*pi*omega - omega^2)*omega^2/(omega^4 + (4*I + 3)*(119916983200000*I*pi*omega + 1000*omega^2)^2) + 1/898755178736817640000*omega^2)"
      ]
     },
     "execution_count": 174,
     "metadata": {},
     "output_type": "execute_result"
    }
   ],
   "source": [
    "K_vacuum_s_A_re11_im10_d = K_vacuum_s_A_re11_im10.subs(digit_values)\n",
    "K_vacuum_s_A_re11_im10_d"
   ]
  },
  {
   "cell_type": "code",
   "execution_count": 175,
   "metadata": {},
   "outputs": [
    {
     "data": {
      "text/plain": [
       "K_vacuum == sqrt(-1/898755178736817640*(-(359750949600000*I - 479667932800000)*pi*omega - (4000*I + 3001)*omega^2)*(-119916983200*I*pi*omega - omega^2)*omega^2/(omega^4 + (4*I + 3)*(119916983200000*I*pi*omega + 1000*omega^2)^2) + 1/898755178736817640000*omega^2)"
      ]
     },
     "execution_count": 175,
     "metadata": {},
     "output_type": "execute_result"
    }
   ],
   "source": [
    "K_vacuum_s_A_re11_im01_d = K_vacuum_s_A_re11_im01.subs(digit_values)\n",
    "K_vacuum_s_A_re11_im01_d"
   ]
  },
  {
   "cell_type": "code",
   "execution_count": 176,
   "metadata": {},
   "outputs": [],
   "source": [
    "#re00"
   ]
  },
  {
   "cell_type": "code",
   "execution_count": 177,
   "metadata": {},
   "outputs": [
    {
     "data": {
      "text/plain": [
       "K_vacuum == sqrt(-1/898755178736817640*(119916983200*I*pi*omega + omega^2)*omega^2/(119916983200000*I*pi*omega + 1000*omega^2) + 1/898755178736817640000*omega^2)"
      ]
     },
     "execution_count": 177,
     "metadata": {},
     "output_type": "execute_result"
    }
   ],
   "source": [
    "K_vacuum_s_A_re00_im11_d = K_vacuum_s_A_re00_im11.subs(digit_values)\n",
    "K_vacuum_s_A_re00_im11_d"
   ]
  },
  {
   "cell_type": "code",
   "execution_count": 178,
   "metadata": {},
   "outputs": [
    {
     "data": {
      "text/plain": [
       "K_vacuum == sqrt(-1/898755178736817640*(119916983200000*I*pi*omega + 999*omega^2)*(-119916983200*I*pi*omega - omega^2)*omega^2/(omega^4 - (119916983200000*I*pi*omega + 1000*omega^2)^2) + 1/898755178736817640000*omega^2)"
      ]
     },
     "execution_count": 178,
     "metadata": {},
     "output_type": "execute_result"
    }
   ],
   "source": [
    "K_vacuum_s_A_re00_im10_d = K_vacuum_s_A_re00_im10.subs(digit_values)\n",
    "K_vacuum_s_A_re00_im10_d"
   ]
  },
  {
   "cell_type": "code",
   "execution_count": 179,
   "metadata": {},
   "outputs": [
    {
     "data": {
      "text/plain": [
       "K_vacuum == sqrt(-1/898755178736817640*(119916983200000*I*pi*omega + 999*omega^2)*(-119916983200*I*pi*omega - omega^2)*omega^2/(omega^4 - (119916983200000*I*pi*omega + 1000*omega^2)^2) + 1/898755178736817640000*omega^2)"
      ]
     },
     "execution_count": 179,
     "metadata": {},
     "output_type": "execute_result"
    }
   ],
   "source": [
    "K_vacuum_s_A_re00_im01_d = K_vacuum_s_A_re00_im01.subs(digit_values)\n",
    "K_vacuum_s_A_re00_im01_d"
   ]
  },
  {
   "cell_type": "code",
   "execution_count": 180,
   "metadata": {},
   "outputs": [],
   "source": [
    "#re11"
   ]
  },
  {
   "cell_type": "code",
   "execution_count": 181,
   "metadata": {},
   "outputs": [
    {
     "data": {
      "text/plain": [
       "K_vacuum == sqrt(-1/898755178736817640*I*(119916983200*pi*omega - I*omega^2)*omega^2/(119916983200000*I*pi*omega + 1000*omega^2) + 1/898755178736817640000*omega^2)"
      ]
     },
     "execution_count": 181,
     "metadata": {},
     "output_type": "execute_result"
    }
   ],
   "source": [
    "K_vacuum_s_A_re11_im11_d = K_vacuum_s_A_re11_im11.subs(digit_values)\n",
    "K_vacuum_s_A_re11_im11_d"
   ]
  },
  {
   "cell_type": "code",
   "execution_count": 182,
   "metadata": {},
   "outputs": [
    {
     "data": {
      "text/plain": [
       "K_vacuum == sqrt(-1/898755178736817640*(-(359750949600000*I - 479667932800000)*pi*omega - (4000*I + 3001)*omega^2)*(-119916983200*I*pi*omega - omega^2)*omega^2/(omega^4 + (4*I + 3)*(119916983200000*I*pi*omega + 1000*omega^2)^2) + 1/898755178736817640000*omega^2)"
      ]
     },
     "execution_count": 182,
     "metadata": {},
     "output_type": "execute_result"
    }
   ],
   "source": [
    "K_vacuum_s_A_re11_im10_d = K_vacuum_s_A_re11_im10.subs(digit_values)\n",
    "K_vacuum_s_A_re11_im10_d"
   ]
  },
  {
   "cell_type": "code",
   "execution_count": 183,
   "metadata": {},
   "outputs": [
    {
     "data": {
      "text/plain": [
       "K_vacuum == sqrt(-1/898755178736817640*(-(359750949600000*I - 479667932800000)*pi*omega - (4000*I + 3001)*omega^2)*(-119916983200*I*pi*omega - omega^2)*omega^2/(omega^4 + (4*I + 3)*(119916983200000*I*pi*omega + 1000*omega^2)^2) + 1/898755178736817640000*omega^2)"
      ]
     },
     "execution_count": 183,
     "metadata": {},
     "output_type": "execute_result"
    }
   ],
   "source": [
    "K_vacuum_s_A_re11_im01_d = K_vacuum_s_A_re11_im01.subs(digit_values)\n",
    "K_vacuum_s_A_re11_im01_d"
   ]
  },
  {
   "cell_type": "code",
   "execution_count": null,
   "metadata": {},
   "outputs": [],
   "source": []
  },
  {
   "cell_type": "code",
   "execution_count": 184,
   "metadata": {},
   "outputs": [],
   "source": [
    "#re11"
   ]
  },
  {
   "cell_type": "code",
   "execution_count": 185,
   "metadata": {},
   "outputs": [
    {
     "data": {
      "text/plain": [
       "K_conductor == sqrt(20/149896229*I*pi*omega + 999/898755178736817640000*omega^2)"
      ]
     },
     "execution_count": 185,
     "metadata": {},
     "output_type": "execute_result"
    }
   ],
   "source": [
    "K_conductor_s_A_re11_im00_d = K_conductor_s_A_re11_im00.subs(digit_values)\n",
    "K_conductor_s_A_re11_im00_d"
   ]
  },
  {
   "cell_type": "code",
   "execution_count": 186,
   "metadata": {},
   "outputs": [
    {
     "data": {
      "text/plain": [
       "K_conductor == sqrt(-1/898755178736817640*(-(359750949600000*I - 479667932800000)*pi*omega - (4000*I + 3001)*omega^2)*(-119916983200*I*pi*omega - omega^2)*omega^2/(omega^4 + (4*I + 3)*(119916983200000*I*pi*omega + 1000*omega^2)^2) + 20/149896229*I*pi*omega + 1/898755178736817640*omega^2)"
      ]
     },
     "execution_count": 186,
     "metadata": {},
     "output_type": "execute_result"
    }
   ],
   "source": [
    "K_conductor_s_A_re11_im10_d = K_conductor_s_A_re11_im10.subs(digit_values)\n",
    "K_conductor_s_A_re11_im10_d"
   ]
  },
  {
   "cell_type": "code",
   "execution_count": 187,
   "metadata": {},
   "outputs": [
    {
     "data": {
      "text/plain": [
       "K_conductor == sqrt(-1/898755178736817640*(-(359750949600000*I - 479667932800000)*pi*omega - (4000*I + 3001)*omega^2)*(-119916983200*I*pi*omega - omega^2)*omega^2/(omega^4 + (4*I + 3)*(119916983200000*I*pi*omega + 1000*omega^2)^2) + 20/149896229*I*pi*omega + 1/898755178736817640*omega^2)"
      ]
     },
     "execution_count": 187,
     "metadata": {},
     "output_type": "execute_result"
    }
   ],
   "source": [
    "K_conductor_s_A_re11_im01_d = K_conductor_s_A_re11_im01.subs(digit_values)\n",
    "K_conductor_s_A_re11_im01_d"
   ]
  },
  {
   "cell_type": "code",
   "execution_count": 188,
   "metadata": {},
   "outputs": [],
   "source": [
    "#im11"
   ]
  },
  {
   "cell_type": "code",
   "execution_count": 189,
   "metadata": {},
   "outputs": [
    {
     "data": {
      "text/plain": [
       "K_conductor == sqrt(20/149896229*I*pi*omega - 1/898755178736817640*(119916983200*I*pi*omega + omega^2)*omega^2/(119916983200000*I*pi*omega + 1000*omega^2) + 1/898755178736817640*omega^2)"
      ]
     },
     "execution_count": 189,
     "metadata": {},
     "output_type": "execute_result"
    }
   ],
   "source": [
    "K_conductor_s_A_re00_im11_d = K_conductor_s_A_re00_im11.subs(digit_values)\n",
    "K_conductor_s_A_re00_im11_d"
   ]
  },
  {
   "cell_type": "code",
   "execution_count": 190,
   "metadata": {},
   "outputs": [
    {
     "data": {
      "text/plain": [
       "K_conductor == 1/299792458*sqrt(1/10)*sqrt(((359750949600000*I + 479667932800000)*pi*omega - (4000*I - 3001)*omega^2)*(-119916983200*I*pi*omega - omega^2)*omega^2/(omega^4 - (4*I - 3)*(119916983200000*I*pi*omega + 1000*omega^2)^2) + 119916983200*I*pi*omega + omega^2)"
      ]
     },
     "execution_count": 190,
     "metadata": {},
     "output_type": "execute_result"
    }
   ],
   "source": [
    "K_conductor_s_A_re10_im11_d = K_conductor_s_A_re10_im11.subs(digit_values)\n",
    "K_conductor_s_A_re10_im11_d"
   ]
  },
  {
   "cell_type": "code",
   "execution_count": 191,
   "metadata": {},
   "outputs": [
    {
     "data": {
      "text/plain": [
       "K_conductor == 1/299792458*sqrt(1/10)*sqrt(((359750949600000*I + 479667932800000)*pi*omega - (4000*I - 3001)*omega^2)*(-119916983200*I*pi*omega - omega^2)*omega^2/(omega^4 - (4*I - 3)*(119916983200000*I*pi*omega + 1000*omega^2)^2) + 119916983200*I*pi*omega + omega^2)"
      ]
     },
     "execution_count": 191,
     "metadata": {},
     "output_type": "execute_result"
    }
   ],
   "source": [
    "K_conductor_s_A_re01_im11_d = K_conductor_s_A_re01_im11.subs(digit_values)\n",
    "K_conductor_s_A_re01_im11_d"
   ]
  },
  {
   "cell_type": "code",
   "execution_count": 192,
   "metadata": {},
   "outputs": [],
   "source": [
    "#im00"
   ]
  },
  {
   "cell_type": "code",
   "execution_count": 193,
   "metadata": {},
   "outputs": [
    {
     "data": {
      "text/plain": [
       "K_conductor == 1/299792458*sqrt(1/10)*sqrt((-119916983200*I*pi*omega - omega^2)*(-119916983200000*I*pi*omega - 999*omega^2)*omega^2/(omega^4 - (119916983200000*I*pi*omega + 1000*omega^2)^2) + 119916983200*I*pi*omega + omega^2)"
      ]
     },
     "execution_count": 193,
     "metadata": {},
     "output_type": "execute_result"
    }
   ],
   "source": [
    "K_conductor_s_A_re10_im00_d = K_conductor_s_A_re10_im00.subs(digit_values)\n",
    "K_conductor_s_A_re10_im00_d"
   ]
  },
  {
   "cell_type": "code",
   "execution_count": 194,
   "metadata": {},
   "outputs": [
    {
     "data": {
      "text/plain": [
       "K_conductor == 1/299792458*sqrt(1/10)*sqrt((-119916983200*I*pi*omega - omega^2)*(-119916983200000*I*pi*omega - 999*omega^2)*omega^2/(omega^4 - (119916983200000*I*pi*omega + 1000*omega^2)^2) + 119916983200*I*pi*omega + omega^2)"
      ]
     },
     "execution_count": 194,
     "metadata": {},
     "output_type": "execute_result"
    }
   ],
   "source": [
    "K_conductor_s_A_re01_im00_d = K_conductor_s_A_re01_im00.subs(digit_values)\n",
    "K_conductor_s_A_re01_im00_d"
   ]
  },
  {
   "cell_type": "code",
   "execution_count": 195,
   "metadata": {},
   "outputs": [
    {
     "data": {
      "text/plain": [
       "K_conductor == 1/299792458*sqrt(1/10)*sqrt((-119916983200*I*pi*omega - omega^2)*(-119916983200000*I*pi*omega - 999*omega^2)*omega^2/(omega^4 - (119916983200000*I*pi*omega + 1000*omega^2)^2) + 119916983200*I*pi*omega + omega^2)"
      ]
     },
     "execution_count": 195,
     "metadata": {},
     "output_type": "execute_result"
    }
   ],
   "source": [
    "K_conductor_s_A_re10_im00_d = K_conductor_s_A_re10_im00.subs(digit_values)\n",
    "K_conductor_s_A_re10_im00_d"
   ]
  },
  {
   "cell_type": "code",
   "execution_count": 196,
   "metadata": {},
   "outputs": [],
   "source": [
    "#re11"
   ]
  },
  {
   "cell_type": "code",
   "execution_count": 197,
   "metadata": {},
   "outputs": [
    {
     "data": {
      "text/plain": [
       "K_conductor == sqrt(20/149896229*I*pi*omega - 1/898755178736817640*I*(119916983200*pi*omega - I*omega^2)*omega^2/(119916983200000*I*pi*omega + 1000*omega^2) + 1/898755178736817640*omega^2)"
      ]
     },
     "execution_count": 197,
     "metadata": {},
     "output_type": "execute_result"
    }
   ],
   "source": [
    "K_conductor_s_A_re11_im11_d = K_conductor_s_A_re11_im11.subs(digit_values)\n",
    "K_conductor_s_A_re11_im11_d"
   ]
  },
  {
   "cell_type": "code",
   "execution_count": null,
   "metadata": {},
   "outputs": [],
   "source": []
  },
  {
   "cell_type": "code",
   "execution_count": 198,
   "metadata": {},
   "outputs": [
    {
     "data": {
      "image/png": "[encoded data removed]",
      "text/plain": [
       "Graphics object consisting of 1 graphics primitive"
      ]
     },
     "execution_count": 198,
     "metadata": {},
     "output_type": "execute_result"
    }
   ],
   "source": [
    "plot(K_vacuum_s_A_re11_im10_d.rhs().real()/omega/pi, (omega, 0, 1e13))"
   ]
  },
  {
   "cell_type": "code",
   "execution_count": 199,
   "metadata": {},
   "outputs": [
    {
     "data": {
      "image/png": "[encoded data removed]",
      "text/plain": [
       "Graphics object consisting of 1 graphics primitive"
      ]
     },
     "execution_count": 199,
     "metadata": {},
     "output_type": "execute_result"
    }
   ],
   "source": [
    "plot(K_vacuum_s_A_re11_im10_d.rhs().imag()/omega/pi, (omega, 0, 1e13))"
   ]
  },
  {
   "cell_type": "code",
   "execution_count": 200,
   "metadata": {},
   "outputs": [
    {
     "data": {
      "image/png": "[encoded data removed]",
      "text/plain": [
       "Graphics object consisting of 1 graphics primitive"
      ]
     },
     "execution_count": 200,
     "metadata": {},
     "output_type": "execute_result"
    }
   ],
   "source": [
    "plot(K_vacuum_s_A_re11_im10_d.rhs().abs()/omega/pi, (omega, 0, 1e13))"
   ]
  },
  {
   "cell_type": "code",
   "execution_count": null,
   "metadata": {},
   "outputs": [],
   "source": []
  },
  {
   "cell_type": "code",
   "execution_count": 201,
   "metadata": {},
   "outputs": [
    {
     "data": {
      "image/png": "[encoded data removed]",
      "text/plain": [
       "Graphics object consisting of 1 graphics primitive"
      ]
     },
     "execution_count": 201,
     "metadata": {},
     "output_type": "execute_result"
    }
   ],
   "source": [
    "plot(K_vacuum_s_A_re11_im11_d.rhs().abs()/omega/pi, (omega, 0, 1e13))"
   ]
  },
  {
   "cell_type": "code",
   "execution_count": 202,
   "metadata": {},
   "outputs": [
    {
     "data": {
      "image/png": "[encoded data removed]",
      "text/plain": [
       "Graphics object consisting of 1 graphics primitive"
      ]
     },
     "execution_count": 202,
     "metadata": {},
     "output_type": "execute_result"
    }
   ],
   "source": [
    "plot(K_vacuum_s_A_re00_im11_d.rhs().abs()/omega/pi, (omega, 0, 1e13))"
   ]
  },
  {
   "cell_type": "code",
   "execution_count": 203,
   "metadata": {},
   "outputs": [
    {
     "name": "stdout",
     "output_type": "stream",
     "text": [
      "[mu == 1, c == 29979245800, sigma == 1000, epsilon == 1000, a == 1, omega == 749481145/79*pi]\n"
     ]
    }
   ],
   "source": [
    "digit_values = digit_values_init\n",
    "digit_values += omega_value\n",
    "#digit_values += A1_z_subs\n",
    "print (digit_values)"
   ]
  },
  {
   "cell_type": "code",
   "execution_count": 204,
   "metadata": {},
   "outputs": [
    {
     "data": {
      "text/plain": [
       "[k_y == 0]"
      ]
     },
     "execution_count": 204,
     "metadata": {},
     "output_type": "execute_result"
    }
   ],
   "source": [
    "# отсутсвие изменения поля вдоль оси y\n",
    "k_y0_subs = [k_y == 0]\n",
    "\n",
    "#            A1_y_im == 0, \\\n",
    "#            A1_y_re == 0, \\\n",
    "#            A2_y_im == 0, \\\n",
    "#            A2_y_re == 0]\n",
    "k_y0_subs"
   ]
  },
  {
   "cell_type": "code",
   "execution_count": 205,
   "metadata": {},
   "outputs": [],
   "source": [
    "K_vacuum_subs_2 = K_vacuum_subs.subs(kappa_vacuum_sol)"
   ]
  },
  {
   "cell_type": "code",
   "execution_count": 206,
   "metadata": {},
   "outputs": [],
   "source": [
    "K_conductor_subs_2 = K_conductor_subs.subs(kappa_sol)"
   ]
  },
  {
   "cell_type": "code",
   "execution_count": 207,
   "metadata": {},
   "outputs": [],
   "source": [
    "K_vacuum_subs_3 = K_vacuum_subs.subs(kappa_vacuum_sol)"
   ]
  },
  {
   "cell_type": "code",
   "execution_count": 208,
   "metadata": {},
   "outputs": [],
   "source": [
    "K_conductor_subs_3 = K_conductor_subs.subs(kappa_sol)"
   ]
  },
  {
   "cell_type": "code",
   "execution_count": 209,
   "metadata": {},
   "outputs": [],
   "source": [
    "K_vacuum_subs_4 = K_vacuum_subs_3.subs(k_z = kz + I * sz)"
   ]
  },
  {
   "cell_type": "code",
   "execution_count": 210,
   "metadata": {},
   "outputs": [],
   "source": [
    "K_conductor_subs_4 = K_conductor_subs_3.subs(k_z = kz + I * sz)"
   ]
  },
  {
   "cell_type": "code",
   "execution_count": 211,
   "metadata": {},
   "outputs": [],
   "source": [
    "# граничные условия на границе идеального проводника и вакуума внутри резонатора\n",
    "# тангенциальная компонента электрического поля"
   ]
  },
  {
   "cell_type": "code",
   "execution_count": 212,
   "metadata": {},
   "outputs": [],
   "source": [
    "eqEz_0_subs = eqEz_0.subs(K_vacuum_subs_3)"
   ]
  },
  {
   "cell_type": "code",
   "execution_count": 213,
   "metadata": {},
   "outputs": [],
   "source": [
    "eqEz_0_re_subs = eqEz_0_re.subs(K_vacuum_subs_3)\n",
    "eqEz_0_im_subs = eqEz_0_im.subs(K_vacuum_subs_3)"
   ]
  },
  {
   "cell_type": "code",
   "execution_count": 214,
   "metadata": {},
   "outputs": [],
   "source": [
    "eqEy_0_re_subs = eqEy_0_re.subs(K_vacuum_subs_3)\n",
    "eqEy_0_im_subs = eqEy_0_im.subs(K_vacuum_subs_3)"
   ]
  },
  {
   "cell_type": "code",
   "execution_count": 215,
   "metadata": {},
   "outputs": [
    {
     "data": {
      "text/plain": [
       "(A1_z_im, A1_z_re, A2_z_im, A2_z_re, a, c, k_z, omega)"
      ]
     },
     "execution_count": 215,
     "metadata": {},
     "output_type": "execute_result"
    }
   ],
   "source": [
    "eqEz_0_re_subs.variables()"
   ]
  },
  {
   "cell_type": "code",
   "execution_count": 216,
   "metadata": {},
   "outputs": [],
   "source": [
    "# тангенциальная компонента напряженности магнитного поля\n",
    "# на границе вакуума внутри резонатора и проводящего металла с потерями"
   ]
  },
  {
   "cell_type": "code",
   "execution_count": 217,
   "metadata": {},
   "outputs": [],
   "source": [
    "eqHy_a_subs = eqHy_a.subs(K_vacuum_subs_3).subs(K_conductor_subs_3)"
   ]
  },
  {
   "cell_type": "code",
   "execution_count": 218,
   "metadata": {},
   "outputs": [],
   "source": [
    "eqHy_a_re_subs = eqHy_a_re.subs(K_vacuum_subs_3).subs(K_conductor_subs_3)\n",
    "eqHy_a_im_subs = eqHy_a_im.subs(K_vacuum_subs_3).subs(K_conductor_subs_3)"
   ]
  },
  {
   "cell_type": "code",
   "execution_count": 219,
   "metadata": {},
   "outputs": [],
   "source": [
    "eqHz_a_re_subs = eqHz_a_re.subs(K_vacuum_subs_3).subs(K_conductor_subs_3)\n",
    "eqHz_a_im_subs = eqHz_a_im.subs(K_vacuum_subs_3).subs(K_conductor_subs_3)"
   ]
  },
  {
   "cell_type": "code",
   "execution_count": 220,
   "metadata": {},
   "outputs": [],
   "source": [
    "# граничные условия на границе идеального проводника и вакуума внутри резонатора\n",
    "# тангенциальная компонента электрического поля"
   ]
  },
  {
   "cell_type": "code",
   "execution_count": 221,
   "metadata": {},
   "outputs": [],
   "source": [
    "eqEz_a_subs = eqEz_a"
   ]
  },
  {
   "cell_type": "code",
   "execution_count": 222,
   "metadata": {},
   "outputs": [],
   "source": [
    "eqEz_a_re_subs = eqEz_a_re\n",
    "eqEz_a_im_subs = eqEz_a_im"
   ]
  },
  {
   "cell_type": "code",
   "execution_count": 223,
   "metadata": {},
   "outputs": [],
   "source": [
    "eqEy_a_re_subs = eqEy_a_re\n",
    "eqEy_a_im_subs = eqEy_a_im"
   ]
  },
  {
   "cell_type": "code",
   "execution_count": 224,
   "metadata": {},
   "outputs": [],
   "source": [
    "# нормальная компонента индукции магнитного поля\n",
    "# на границе вакуума внутри резонатора и проводящего металла с потерями"
   ]
  },
  {
   "cell_type": "code",
   "execution_count": 225,
   "metadata": {},
   "outputs": [],
   "source": [
    "eqBx_a_re_subs = eqBx_a_re.subs(kappa_vacuum_sol)\n",
    "eqBx_a_im_subs = eqBx_a_im.subs(kappa_vacuum_sol)"
   ]
  },
  {
   "cell_type": "code",
   "execution_count": 226,
   "metadata": {},
   "outputs": [],
   "source": [
    "# нормальная компонента электрического смещения\n",
    "# на границе вакуума внутри резонатора и проводящего металла с потерями"
   ]
  },
  {
   "cell_type": "code",
   "execution_count": 227,
   "metadata": {},
   "outputs": [],
   "source": [
    "eqDx_a_re_subs = eqDx_a_re.subs(kappa_vacuum_sol)\n",
    "eqDx_a_im_subs = eqDx_a_im.subs(kappa_vacuum_sol)"
   ]
  },
  {
   "cell_type": "code",
   "execution_count": 228,
   "metadata": {},
   "outputs": [
    {
     "name": "stdout",
     "output_type": "stream",
     "text": [
      "A2_z_re*cos(-a*real_part(K_vacuum))*e^(a*imag_part(K_vacuum)) + A1_z_re*cos(a*real_part(K_vacuum))*e^(-a*imag_part(K_vacuum)) - A1_z_im*e^(-a*imag_part(K_vacuum))*sin(a*real_part(K_vacuum)) - A2_z_im*e^(a*imag_part(K_vacuum))*sin(-a*real_part(K_vacuum)) == 0\n",
      "A2_z_im*cos(-a*real_part(K_vacuum))*e^(a*imag_part(K_vacuum)) + A1_z_im*cos(a*real_part(K_vacuum))*e^(-a*imag_part(K_vacuum)) + A1_z_re*e^(-a*imag_part(K_vacuum))*sin(a*real_part(K_vacuum)) + A2_z_re*e^(a*imag_part(K_vacuum))*sin(-a*real_part(K_vacuum)) == 0\n",
      "A2_y_re*cos(-a*real_part(K_vacuum))*e^(a*imag_part(K_vacuum)) + A1_y_re*cos(a*real_part(K_vacuum))*e^(-a*imag_part(K_vacuum)) - A1_y_im*e^(-a*imag_part(K_vacuum))*sin(a*real_part(K_vacuum)) - A2_y_im*e^(a*imag_part(K_vacuum))*sin(-a*real_part(K_vacuum)) == 0\n",
      "A2_y_im*cos(-a*real_part(K_vacuum))*e^(a*imag_part(K_vacuum)) + A1_y_im*cos(a*real_part(K_vacuum))*e^(-a*imag_part(K_vacuum)) + A1_y_re*e^(-a*imag_part(K_vacuum))*sin(a*real_part(K_vacuum)) + A2_y_re*e^(a*imag_part(K_vacuum))*sin(-a*real_part(K_vacuum)) == 0\n",
      "4*pi*A1_z_im*epsilon*omega*sigma*cos(-1/2*arctan2(4*pi*mu*omega*sigma/c - 2*imag_part(k_z)*real_part(k_z), epsilon*mu*omega^2/c^2 + imag_part(k_z)^2 - real_part(k_z)^2))/(c*sqrt(abs(4*I*pi*mu*omega*sigma/c - k_z^2 + epsilon*mu*omega^2/c^2))) + 4*pi*A2_z_im*epsilon*omega*sigma*cos(-1/2*arctan2(4*pi*mu*omega*sigma/c - 2*imag_part(k_z)*real_part(k_z), epsilon*mu*omega^2/c^2 + imag_part(k_z)^2 - real_part(k_z)^2))/(c*sqrt(abs(4*I*pi*mu*omega*sigma/c - k_z^2 + epsilon*mu*omega^2/c^2))) + 16*pi^2*A1_z_re*sigma^2*cos(-1/2*arctan2(4*pi*mu*omega*sigma/c - 2*imag_part(k_z)*real_part(k_z), epsilon*mu*omega^2/c^2 + imag_part(k_z)^2 - real_part(k_z)^2))/(c*sqrt(abs(4*I*pi*mu*omega*sigma/c - k_z^2 + epsilon*mu*omega^2/c^2))) + 16*pi^2*A2_z_re*sigma^2*cos(-1/2*arctan2(4*pi*mu*omega*sigma/c - 2*imag_part(k_z)*real_part(k_z), epsilon*mu*omega^2/c^2 + imag_part(k_z)^2 - real_part(k_z)^2))/(c*sqrt(abs(4*I*pi*mu*omega*sigma/c - k_z^2 + epsilon*mu*omega^2/c^2))) + 4*pi*A1_z_re*epsilon*omega*sigma*sin(-1/2*arctan2(4*pi*mu*omega*sigma/c - 2*imag_part(k_z)*real_part(k_z), epsilon*mu*omega^2/c^2 + imag_part(k_z)^2 - real_part(k_z)^2))/(c*sqrt(abs(4*I*pi*mu*omega*sigma/c - k_z^2 + epsilon*mu*omega^2/c^2))) + 4*pi*A2_z_re*epsilon*omega*sigma*sin(-1/2*arctan2(4*pi*mu*omega*sigma/c - 2*imag_part(k_z)*real_part(k_z), epsilon*mu*omega^2/c^2 + imag_part(k_z)^2 - real_part(k_z)^2))/(c*sqrt(abs(4*I*pi*mu*omega*sigma/c - k_z^2 + epsilon*mu*omega^2/c^2))) - 16*pi^2*A1_z_im*sigma^2*sin(-1/2*arctan2(4*pi*mu*omega*sigma/c - 2*imag_part(k_z)*real_part(k_z), epsilon*mu*omega^2/c^2 + imag_part(k_z)^2 - real_part(k_z)^2))/(c*sqrt(abs(4*I*pi*mu*omega*sigma/c - k_z^2 + epsilon*mu*omega^2/c^2))) - 16*pi^2*A2_z_im*sigma^2*sin(-1/2*arctan2(4*pi*mu*omega*sigma/c - 2*imag_part(k_z)*real_part(k_z), epsilon*mu*omega^2/c^2 + imag_part(k_z)^2 - real_part(k_z)^2))/(c*sqrt(abs(4*I*pi*mu*omega*sigma/c - k_z^2 + epsilon*mu*omega^2/c^2))) - A1_z_re*epsilon^2*omega^2*cos(-1/2*arctan2(4*pi*mu*omega*sigma/c - 2*imag_part(k_z)*real_part(k_z), epsilon*mu*omega^2/c^2 + imag_part(k_z)^2 - real_part(k_z)^2))/(c^2*sqrt(abs(4*I*pi*mu*omega*sigma/c - k_z^2 + epsilon*mu*omega^2/c^2))) - A2_z_re*epsilon^2*omega^2*cos(-1/2*arctan2(4*pi*mu*omega*sigma/c - 2*imag_part(k_z)*real_part(k_z), epsilon*mu*omega^2/c^2 + imag_part(k_z)^2 - real_part(k_z)^2))/(c^2*sqrt(abs(4*I*pi*mu*omega*sigma/c - k_z^2 + epsilon*mu*omega^2/c^2))) + 4*pi*A1_z_im*epsilon*omega*sigma*cos(-1/2*arctan2(4*pi*mu*omega*sigma/c - 2*imag_part(k_z)*real_part(k_z), epsilon*mu*omega^2/c^2 + imag_part(k_z)^2 - real_part(k_z)^2))/(c^2*sqrt(abs(4*I*pi*mu*omega*sigma/c - k_z^2 + epsilon*mu*omega^2/c^2))) + 4*pi*A2_z_im*epsilon*omega*sigma*cos(-1/2*arctan2(4*pi*mu*omega*sigma/c - 2*imag_part(k_z)*real_part(k_z), epsilon*mu*omega^2/c^2 + imag_part(k_z)^2 - real_part(k_z)^2))/(c^2*sqrt(abs(4*I*pi*mu*omega*sigma/c - k_z^2 + epsilon*mu*omega^2/c^2))) + A1_z_im*epsilon^2*omega^2*sin(-1/2*arctan2(4*pi*mu*omega*sigma/c - 2*imag_part(k_z)*real_part(k_z), epsilon*mu*omega^2/c^2 + imag_part(k_z)^2 - real_part(k_z)^2))/(c^2*sqrt(abs(4*I*pi*mu*omega*sigma/c - k_z^2 + epsilon*mu*omega^2/c^2))) + A2_z_im*epsilon^2*omega^2*sin(-1/2*arctan2(4*pi*mu*omega*sigma/c - 2*imag_part(k_z)*real_part(k_z), epsilon*mu*omega^2/c^2 + imag_part(k_z)^2 - real_part(k_z)^2))/(c^2*sqrt(abs(4*I*pi*mu*omega*sigma/c - k_z^2 + epsilon*mu*omega^2/c^2))) + 4*pi*A1_z_re*epsilon*omega*sigma*sin(-1/2*arctan2(4*pi*mu*omega*sigma/c - 2*imag_part(k_z)*real_part(k_z), epsilon*mu*omega^2/c^2 + imag_part(k_z)^2 - real_part(k_z)^2))/(c^2*sqrt(abs(4*I*pi*mu*omega*sigma/c - k_z^2 + epsilon*mu*omega^2/c^2))) + 4*pi*A2_z_re*epsilon*omega*sigma*sin(-1/2*arctan2(4*pi*mu*omega*sigma/c - 2*imag_part(k_z)*real_part(k_z), epsilon*mu*omega^2/c^2 + imag_part(k_z)^2 - real_part(k_z)^2))/(c^2*sqrt(abs(4*I*pi*mu*omega*sigma/c - k_z^2 + epsilon*mu*omega^2/c^2))) == A1_z_re*epsilon*omega^2*cos(-1/2*arctan2(-2*imag_part(k_z)*real_part(k_z), imag_part(k_z)^2 - real_part(k_z)^2 + omega^2/c^2))/(c^2*sqrt(abs(-k_z^2 + omega^2/c^2))) - A2_z_re*epsilon*omega^2*cos(-1/2*arctan2(-2*imag_part(k_z)*real_part(k_z), imag_part(k_z)^2 - real_part(k_z)^2 + omega^2/c^2))/(c^2*sqrt(abs(-k_z^2 + omega^2/c^2))) - 4*pi*A1_z_im*omega*sigma*cos(-1/2*arctan2(-2*imag_part(k_z)*real_part(k_z), imag_part(k_z)^2 - real_part(k_z)^2 + omega^2/c^2))/(c^2*sqrt(abs(-k_z^2 + omega^2/c^2))) + 4*pi*A2_z_im*omega*sigma*cos(-1/2*arctan2(-2*imag_part(k_z)*real_part(k_z), imag_part(k_z)^2 - real_part(k_z)^2 + omega^2/c^2))/(c^2*sqrt(abs(-k_z^2 + omega^2/c^2))) - A1_z_im*epsilon*omega^2*sin(-1/2*arctan2(-2*imag_part(k_z)*real_part(k_z), imag_part(k_z)^2 - real_part(k_z)^2 + omega^2/c^2))/(c^2*sqrt(abs(-k_z^2 + omega^2/c^2))) + A2_z_im*epsilon*omega^2*sin(-1/2*arctan2(-2*imag_part(k_z)*real_part(k_z), imag_part(k_z)^2 - real_part(k_z)^2 + omega^2/c^2))/(c^2*sqrt(abs(-k_z^2 + omega^2/c^2))) - 4*pi*A1_z_re*omega*sigma*sin(-1/2*arctan2(-2*imag_part(k_z)*real_part(k_z), imag_part(k_z)^2 - real_part(k_z)^2 + omega^2/c^2))/(c^2*sqrt(abs(-k_z^2 + omega^2/c^2))) + 4*pi*A2_z_re*omega*sigma*sin(-1/2*arctan2(-2*imag_part(k_z)*real_part(k_z), imag_part(k_z)^2 - real_part(k_z)^2 + omega^2/c^2))/(c^2*sqrt(abs(-k_z^2 + omega^2/c^2)))\n",
      "-4*pi*A1_z_re*epsilon*omega*sigma*cos(-1/2*arctan2(4*pi*mu*omega*sigma/c - 2*imag_part(k_z)*real_part(k_z), epsilon*mu*omega^2/c^2 + imag_part(k_z)^2 - real_part(k_z)^2))/(c*sqrt(abs(4*I*pi*mu*omega*sigma/c - k_z^2 + epsilon*mu*omega^2/c^2))) - 4*pi*A2_z_re*epsilon*omega*sigma*cos(-1/2*arctan2(4*pi*mu*omega*sigma/c - 2*imag_part(k_z)*real_part(k_z), epsilon*mu*omega^2/c^2 + imag_part(k_z)^2 - real_part(k_z)^2))/(c*sqrt(abs(4*I*pi*mu*omega*sigma/c - k_z^2 + epsilon*mu*omega^2/c^2))) + 16*pi^2*A1_z_im*sigma^2*cos(-1/2*arctan2(4*pi*mu*omega*sigma/c - 2*imag_part(k_z)*real_part(k_z), epsilon*mu*omega^2/c^2 + imag_part(k_z)^2 - real_part(k_z)^2))/(c*sqrt(abs(4*I*pi*mu*omega*sigma/c - k_z^2 + epsilon*mu*omega^2/c^2))) + 16*pi^2*A2_z_im*sigma^2*cos(-1/2*arctan2(4*pi*mu*omega*sigma/c - 2*imag_part(k_z)*real_part(k_z), epsilon*mu*omega^2/c^2 + imag_part(k_z)^2 - real_part(k_z)^2))/(c*sqrt(abs(4*I*pi*mu*omega*sigma/c - k_z^2 + epsilon*mu*omega^2/c^2))) + 4*pi*A1_z_im*epsilon*omega*sigma*sin(-1/2*arctan2(4*pi*mu*omega*sigma/c - 2*imag_part(k_z)*real_part(k_z), epsilon*mu*omega^2/c^2 + imag_part(k_z)^2 - real_part(k_z)^2))/(c*sqrt(abs(4*I*pi*mu*omega*sigma/c - k_z^2 + epsilon*mu*omega^2/c^2))) + 4*pi*A2_z_im*epsilon*omega*sigma*sin(-1/2*arctan2(4*pi*mu*omega*sigma/c - 2*imag_part(k_z)*real_part(k_z), epsilon*mu*omega^2/c^2 + imag_part(k_z)^2 - real_part(k_z)^2))/(c*sqrt(abs(4*I*pi*mu*omega*sigma/c - k_z^2 + epsilon*mu*omega^2/c^2))) + 16*pi^2*A1_z_re*sigma^2*sin(-1/2*arctan2(4*pi*mu*omega*sigma/c - 2*imag_part(k_z)*real_part(k_z), epsilon*mu*omega^2/c^2 + imag_part(k_z)^2 - real_part(k_z)^2))/(c*sqrt(abs(4*I*pi*mu*omega*sigma/c - k_z^2 + epsilon*mu*omega^2/c^2))) + 16*pi^2*A2_z_re*sigma^2*sin(-1/2*arctan2(4*pi*mu*omega*sigma/c - 2*imag_part(k_z)*real_part(k_z), epsilon*mu*omega^2/c^2 + imag_part(k_z)^2 - real_part(k_z)^2))/(c*sqrt(abs(4*I*pi*mu*omega*sigma/c - k_z^2 + epsilon*mu*omega^2/c^2))) - A1_z_im*epsilon^2*omega^2*cos(-1/2*arctan2(4*pi*mu*omega*sigma/c - 2*imag_part(k_z)*real_part(k_z), epsilon*mu*omega^2/c^2 + imag_part(k_z)^2 - real_part(k_z)^2))/(c^2*sqrt(abs(4*I*pi*mu*omega*sigma/c - k_z^2 + epsilon*mu*omega^2/c^2))) - A2_z_im*epsilon^2*omega^2*cos(-1/2*arctan2(4*pi*mu*omega*sigma/c - 2*imag_part(k_z)*real_part(k_z), epsilon*mu*omega^2/c^2 + imag_part(k_z)^2 - real_part(k_z)^2))/(c^2*sqrt(abs(4*I*pi*mu*omega*sigma/c - k_z^2 + epsilon*mu*omega^2/c^2))) - 4*pi*A1_z_re*epsilon*omega*sigma*cos(-1/2*arctan2(4*pi*mu*omega*sigma/c - 2*imag_part(k_z)*real_part(k_z), epsilon*mu*omega^2/c^2 + imag_part(k_z)^2 - real_part(k_z)^2))/(c^2*sqrt(abs(4*I*pi*mu*omega*sigma/c - k_z^2 + epsilon*mu*omega^2/c^2))) - 4*pi*A2_z_re*epsilon*omega*sigma*cos(-1/2*arctan2(4*pi*mu*omega*sigma/c - 2*imag_part(k_z)*real_part(k_z), epsilon*mu*omega^2/c^2 + imag_part(k_z)^2 - real_part(k_z)^2))/(c^2*sqrt(abs(4*I*pi*mu*omega*sigma/c - k_z^2 + epsilon*mu*omega^2/c^2))) - A1_z_re*epsilon^2*omega^2*sin(-1/2*arctan2(4*pi*mu*omega*sigma/c - 2*imag_part(k_z)*real_part(k_z), epsilon*mu*omega^2/c^2 + imag_part(k_z)^2 - real_part(k_z)^2))/(c^2*sqrt(abs(4*I*pi*mu*omega*sigma/c - k_z^2 + epsilon*mu*omega^2/c^2))) - A2_z_re*epsilon^2*omega^2*sin(-1/2*arctan2(4*pi*mu*omega*sigma/c - 2*imag_part(k_z)*real_part(k_z), epsilon*mu*omega^2/c^2 + imag_part(k_z)^2 - real_part(k_z)^2))/(c^2*sqrt(abs(4*I*pi*mu*omega*sigma/c - k_z^2 + epsilon*mu*omega^2/c^2))) + 4*pi*A1_z_im*epsilon*omega*sigma*sin(-1/2*arctan2(4*pi*mu*omega*sigma/c - 2*imag_part(k_z)*real_part(k_z), epsilon*mu*omega^2/c^2 + imag_part(k_z)^2 - real_part(k_z)^2))/(c^2*sqrt(abs(4*I*pi*mu*omega*sigma/c - k_z^2 + epsilon*mu*omega^2/c^2))) + 4*pi*A2_z_im*epsilon*omega*sigma*sin(-1/2*arctan2(4*pi*mu*omega*sigma/c - 2*imag_part(k_z)*real_part(k_z), epsilon*mu*omega^2/c^2 + imag_part(k_z)^2 - real_part(k_z)^2))/(c^2*sqrt(abs(4*I*pi*mu*omega*sigma/c - k_z^2 + epsilon*mu*omega^2/c^2))) == A1_z_im*epsilon*omega^2*cos(-1/2*arctan2(-2*imag_part(k_z)*real_part(k_z), imag_part(k_z)^2 - real_part(k_z)^2 + omega^2/c^2))/(c^2*sqrt(abs(-k_z^2 + omega^2/c^2))) - A2_z_im*epsilon*omega^2*cos(-1/2*arctan2(-2*imag_part(k_z)*real_part(k_z), imag_part(k_z)^2 - real_part(k_z)^2 + omega^2/c^2))/(c^2*sqrt(abs(-k_z^2 + omega^2/c^2))) + 4*pi*A1_z_re*omega*sigma*cos(-1/2*arctan2(-2*imag_part(k_z)*real_part(k_z), imag_part(k_z)^2 - real_part(k_z)^2 + omega^2/c^2))/(c^2*sqrt(abs(-k_z^2 + omega^2/c^2))) - 4*pi*A2_z_re*omega*sigma*cos(-1/2*arctan2(-2*imag_part(k_z)*real_part(k_z), imag_part(k_z)^2 - real_part(k_z)^2 + omega^2/c^2))/(c^2*sqrt(abs(-k_z^2 + omega^2/c^2))) + A1_z_re*epsilon*omega^2*sin(-1/2*arctan2(-2*imag_part(k_z)*real_part(k_z), imag_part(k_z)^2 - real_part(k_z)^2 + omega^2/c^2))/(c^2*sqrt(abs(-k_z^2 + omega^2/c^2))) - A2_z_re*epsilon*omega^2*sin(-1/2*arctan2(-2*imag_part(k_z)*real_part(k_z), imag_part(k_z)^2 - real_part(k_z)^2 + omega^2/c^2))/(c^2*sqrt(abs(-k_z^2 + omega^2/c^2))) - 4*pi*A1_z_im*omega*sigma*sin(-1/2*arctan2(-2*imag_part(k_z)*real_part(k_z), imag_part(k_z)^2 - real_part(k_z)^2 + omega^2/c^2))/(c^2*sqrt(abs(-k_z^2 + omega^2/c^2))) + 4*pi*A2_z_im*omega*sigma*sin(-1/2*arctan2(-2*imag_part(k_z)*real_part(k_z), imag_part(k_z)^2 - real_part(k_z)^2 + omega^2/c^2))/(c^2*sqrt(abs(-k_z^2 + omega^2/c^2)))\n",
      "-B1_y_im*c*imag_part(K_conductor)/(mu*omega) + B1_x_im*c*imag_part(k_y)/(mu*omega) + B1_y_re*c*real_part(K_conductor)/(mu*omega) - B1_x_re*c*real_part(k_y)/(mu*omega) == A1_y_im*c*imag_part(K_vacuum)/omega - A2_y_im*c*imag_part(K_vacuum)/omega + A1_x_im*c*imag_part(k_y)/omega + A2_x_im*c*imag_part(k_y)/omega - A1_y_re*c*real_part(K_vacuum)/omega + A2_y_re*c*real_part(K_vacuum)/omega - A1_x_re*c*real_part(k_y)/omega - A2_x_re*c*real_part(k_y)/omega\n",
      "B1_y_re*c*imag_part(K_conductor)/(mu*omega) - B1_x_re*c*imag_part(k_y)/(mu*omega) + B1_y_im*c*real_part(K_conductor)/(mu*omega) - B1_x_im*c*real_part(k_y)/(mu*omega) == -A1_y_re*c*imag_part(K_vacuum)/omega + A2_y_re*c*imag_part(K_vacuum)/omega - A1_x_re*c*imag_part(k_y)/omega - A2_x_re*c*imag_part(k_y)/omega - A1_y_im*c*real_part(K_vacuum)/omega + A2_y_im*c*real_part(K_vacuum)/omega - A1_x_im*c*real_part(k_y)/omega - A2_x_im*c*real_part(k_y)/omega\n",
      "B1_z_re == A1_z_re + A2_z_re\n",
      "B1_z_im == A1_z_im + A2_z_im\n",
      "B1_y_re == A1_y_re + A2_y_re\n",
      "B1_y_im == A1_y_im + A2_y_im\n",
      "-B1_z_im*c*imag_part(k_y)/omega + B1_y_im*c*imag_part(k_z)/omega + B1_z_re*c*real_part(k_y)/omega - B1_y_re*c*real_part(k_z)/omega == -A1_z_im*c*imag_part(k_y)/omega - A2_z_im*c*imag_part(k_y)/omega + A1_y_im*c*imag_part(k_z)/omega + A2_y_im*c*imag_part(k_z)/omega + A1_z_re*c*real_part(k_y)/omega + A2_z_re*c*real_part(k_y)/omega - A1_y_re*c*real_part(k_z)/omega - A2_y_re*c*real_part(k_z)/omega\n",
      "B1_z_re*c*imag_part(k_y)/omega - B1_y_re*c*imag_part(k_z)/omega + B1_z_im*c*real_part(k_y)/omega - B1_y_im*c*real_part(k_z)/omega == A1_z_re*c*imag_part(k_y)/omega + A2_z_re*c*imag_part(k_y)/omega - A1_y_re*c*imag_part(k_z)/omega - A2_y_re*c*imag_part(k_z)/omega + A1_z_im*c*real_part(k_y)/omega + A2_z_im*c*real_part(k_y)/omega - A1_y_im*c*real_part(k_z)/omega - A2_y_im*c*real_part(k_z)/omega\n"
     ]
    }
   ],
   "source": [
    "print(eqEz_0_re)\n",
    "print(eqEz_0_im)\n",
    "\n",
    "print(eqEy_0_re)\n",
    "print(eqEy_0_im)\n",
    "\n",
    "print(eqHy_a_re)\n",
    "print(eqHy_a_im)\n",
    "\n",
    "print(eqHz_a_re)\n",
    "print(eqHz_a_im)\n",
    "\n",
    "print(eqEz_a_re)\n",
    "print(eqEz_a_im)\n",
    "\n",
    "print(eqEy_a_re)\n",
    "print(eqEy_a_im)\n",
    "\n",
    "print(eqBx_a_re)\n",
    "print(eqBx_a_im)\n",
    "\n",
    "#print(eqDx_a_re)\n",
    "#print(eqDx_a_im)"
   ]
  },
  {
   "cell_type": "code",
   "execution_count": 229,
   "metadata": {},
   "outputs": [],
   "source": [
    "def GenerateMatrix(equsys, vars):\n",
    "    A=matrix(SR, [[(equ.lhs() - equ.rhs()).coefficient(v) for v in vars] for equ in equsys])\n",
    "    return A"
   ]
  },
  {
   "cell_type": "code",
   "execution_count": 230,
   "metadata": {},
   "outputs": [],
   "source": [
    "def reduceDependedRows(M):\n",
    "    print (\"\")\n",
    "    print (\"M.nrows()\", M.nrows())\n",
    "    print (\"M.ncols()\", M.ncols())\n",
    "    #print (\"M.rank()\", M.rank())\n",
    "\n",
    "    M_pivot_rows = M.pivot_rows()\n",
    "    print (\"M.pivot_rows() =\", M_pivot_rows)\n",
    "\n",
    "    M_rows = M.rows()\n",
    "    for row in M_rows:\n",
    "        print (\"row =\", row)\n",
    "\n",
    "    reduced_list = []\n",
    "    for r in M_pivot_rows:\n",
    "        print (\"M_rows[\", r, \"] =\")\n",
    "        display(Math(latex(M_rows[r])))\n",
    "        reduced_list.append(M_rows[r])\n",
    "\n",
    "    reduced_M = matrix(SR, len(M_pivot_rows), M.ncols(), reduced_list)\n",
    "    #reduced_M_det = reduced_M.det()\n",
    "    \n",
    "    print (\"reduced_M.nrows()\", reduced_M.nrows())\n",
    "    print (\"reduced_M.ncols()\", reduced_M.ncols())\n",
    "    \n",
    "    #print (\"\")\n",
    "    #print(\"reduced_M.det() =\", reduced_M_det)\n",
    "    return reduced_M"
   ]
  },
  {
   "cell_type": "code",
   "execution_count": 231,
   "metadata": {},
   "outputs": [],
   "source": [
    "def reduceRows(M, M_pivot_rows):\n",
    "    print (\"\")\n",
    "    print (\"M.nrows()\", M.nrows())\n",
    "    print (\"M.ncols()\", M.ncols())\n",
    "    #print (\"M.rank()\", M.rank())\n",
    "\n",
    "    print (\"M.pivot_rows() =\", M_pivot_rows)\n",
    "\n",
    "    M_rows = M.rows()\n",
    "    for row in M_rows:\n",
    "        print (\"row =\", row)\n",
    "\n",
    "    reduced_list = []\n",
    "    for r in M_pivot_rows:\n",
    "        print (\"M_rows[\", r, \"] =\")\n",
    "        display(Math(latex(M_rows[r])))\n",
    "        reduced_list.append(M_rows[r])\n",
    "\n",
    "    reduced_M = matrix(SR, len(M_pivot_rows), M.ncols(), reduced_list)\n",
    "    #reduced_M_det = reduced_M.det()\n",
    "    #print (\"\")\n",
    "    #print(\"reduced_M.det() =\", reduced_M_det)\n",
    "    \n",
    "    print (\"reduced_M.nrows()\", reduced_M.nrows())\n",
    "    print (\"reduced_M.ncols()\", reduced_M.ncols())\n",
    "\n",
    "    return reduced_M"
   ]
  },
  {
   "cell_type": "code",
   "execution_count": 232,
   "metadata": {},
   "outputs": [],
   "source": [
    "sys6_subs = [eqEz_0_re_subs.subs(k_z = kz + I * sz), \\\n",
    "             eqEz_0_im_subs.subs(k_z = kz + I * sz), \\\n",
    "             eqHy_a_re_subs.subs(k_z = kz + I * sz), \\\n",
    "             eqHy_a_im_subs.subs(k_z = kz + I * sz), \\\n",
    "             eqEz_a_re_subs.subs(k_z = kz + I * sz), \\\n",
    "             eqEz_a_im_subs.subs(k_z = kz + I * sz), \\\n",
    "            ]\n",
    "\n",
    "# 6 equations"
   ]
  },
  {
   "cell_type": "code",
   "execution_count": 233,
   "metadata": {},
   "outputs": [],
   "source": [
    "sys6 = [eqEz_0_re, eqEz_0_im, \\\n",
    "        eqHy_a_re, eqHy_a_im, \\\n",
    "        eqEz_a_re, eqEz_a_im, \\\n",
    "        ]\n",
    "\n",
    "# 6 equations"
   ]
  },
  {
   "cell_type": "code",
   "execution_count": 234,
   "metadata": {},
   "outputs": [],
   "source": [
    "sys3_subs = [eqEz_0_subs, \\\n",
    "             eqHy_a_subs, \\\n",
    "             eqEz_a_subs, \\\n",
    "            ]\n",
    "\n",
    "# 3 equations"
   ]
  },
  {
   "cell_type": "code",
   "execution_count": 235,
   "metadata": {},
   "outputs": [],
   "source": [
    "sys3_subs = [eqEz_0_subs, \\\n",
    "             eq_Hy_0.subs(kappa_vacuum_sol).subs(kappa_sol), \\\n",
    "             eqEz_a_subs, \\\n",
    "            ]\n",
    "\n",
    "# 3 equations"
   ]
  },
  {
   "cell_type": "code",
   "execution_count": 236,
   "metadata": {},
   "outputs": [],
   "source": [
    "sys3 = [eqEz_0, \\\n",
    "        eqHy_a, \\\n",
    "        eqEz_a, \\\n",
    "       ]\n",
    "\n",
    "# 6 equations"
   ]
  },
  {
   "cell_type": "code",
   "execution_count": 237,
   "metadata": {},
   "outputs": [],
   "source": [
    "vars6 = [A1_z_re, A1_z_im, \\\n",
    "         A2_z_re, A2_z_im, \\\n",
    "         B1_z_re, B1_z_im,\n",
    "]\n",
    "# 6 variables"
   ]
  },
  {
   "cell_type": "code",
   "execution_count": 238,
   "metadata": {},
   "outputs": [],
   "source": [
    "vars3 = [A1_z, \\\n",
    "         A2_z, \\\n",
    "         B1_z,\n",
    "]\n",
    "# 3 variables"
   ]
  },
  {
   "cell_type": "code",
   "execution_count": 239,
   "metadata": {},
   "outputs": [],
   "source": [
    "M6_subs = GenerateMatrix(sys6_subs, vars6)"
   ]
  },
  {
   "cell_type": "code",
   "execution_count": 240,
   "metadata": {},
   "outputs": [],
   "source": [
    "M6 = GenerateMatrix(sys6, vars6)"
   ]
  },
  {
   "cell_type": "code",
   "execution_count": 241,
   "metadata": {},
   "outputs": [],
   "source": [
    "M3_subs = GenerateMatrix(sys3_subs, vars3)"
   ]
  },
  {
   "cell_type": "code",
   "execution_count": 242,
   "metadata": {},
   "outputs": [],
   "source": [
    "M3 = GenerateMatrix(sys3, vars3)"
   ]
  },
  {
   "cell_type": "code",
   "execution_count": 243,
   "metadata": {},
   "outputs": [
    {
     "data": {
      "text/plain": [
       "(6, 6)"
      ]
     },
     "execution_count": 243,
     "metadata": {},
     "output_type": "execute_result"
    }
   ],
   "source": [
    "M6.nrows(), M6.ncols()"
   ]
  },
  {
   "cell_type": "code",
   "execution_count": 244,
   "metadata": {},
   "outputs": [
    {
     "data": {
      "text/plain": [
       "(3, 3)"
      ]
     },
     "execution_count": 244,
     "metadata": {},
     "output_type": "execute_result"
    }
   ],
   "source": [
    "M3.nrows(), M3.ncols()"
   ]
  },
  {
   "cell_type": "code",
   "execution_count": 245,
   "metadata": {},
   "outputs": [
    {
     "data": {
      "text/plain": [
       "(K_vacuum, a, c, epsilon, k_z, mu, omega, sigma)"
      ]
     },
     "execution_count": 245,
     "metadata": {},
     "output_type": "execute_result"
    }
   ],
   "source": [
    "M6.variables()"
   ]
  },
  {
   "cell_type": "code",
   "execution_count": 246,
   "metadata": {},
   "outputs": [
    {
     "data": {
      "text/plain": [
       "(K_conductor, K_vacuum, a, c, mu, omega)"
      ]
     },
     "execution_count": 246,
     "metadata": {},
     "output_type": "execute_result"
    }
   ],
   "source": [
    "M3.variables()"
   ]
  },
  {
   "cell_type": "code",
   "execution_count": 247,
   "metadata": {},
   "outputs": [
    {
     "data": {
      "text/plain": [
       "[                                                                                                                                                                                                                                                                                                                                                                                                                                                                                                                                                                                                                                                                                                                                                                                                                                            cos(a*sqrt(abs(-(kz + I*sz)^2 + omega^2/c^2))*cos(1/2*arctan2(-2*kz*sz, -kz^2 + sz^2 + omega^2/c^2)))*e^(-a*sqrt(abs(-(kz + I*sz)^2 + omega^2/c^2))*sin(1/2*arctan2(-2*kz*sz, -kz^2 + sz^2 + omega^2/c^2)))                                                                                                                                                                                                                                                                                                                                                                                                                                                                                                                                                                                                                                                                                                                                                                                                                                            -e^(-a*sqrt(abs(-(kz + I*sz)^2 + omega^2/c^2))*sin(1/2*arctan2(-2*kz*sz, -kz^2 + sz^2 + omega^2/c^2)))*sin(a*sqrt(abs(-(kz + I*sz)^2 + omega^2/c^2))*cos(1/2*arctan2(-2*kz*sz, -kz^2 + sz^2 + omega^2/c^2)))                                                                                                                                                                                                                                                                                                                                                                                                                                                                                                                                                                                                                                                                                                                                                                                                                                             cos(-a*sqrt(abs(-(kz + I*sz)^2 + omega^2/c^2))*cos(1/2*arctan2(-2*kz*sz, -kz^2 + sz^2 + omega^2/c^2)))*e^(a*sqrt(abs(-(kz + I*sz)^2 + omega^2/c^2))*sin(1/2*arctan2(-2*kz*sz, -kz^2 + sz^2 + omega^2/c^2)))                                                                                                                                                                                                                                                                                                                                                                                                                                                                                                                                                                                                                                                                                                                                                                                                                                            -e^(a*sqrt(abs(-(kz + I*sz)^2 + omega^2/c^2))*sin(1/2*arctan2(-2*kz*sz, -kz^2 + sz^2 + omega^2/c^2)))*sin(-a*sqrt(abs(-(kz + I*sz)^2 + omega^2/c^2))*cos(1/2*arctan2(-2*kz*sz, -kz^2 + sz^2 + omega^2/c^2)))                                                                                                                                                                                                                                                                                                                                                                                                                                                                                                                                                                                                                                                                                                                                                                                                                                                                                                                                                                                                                                                       0                                                                                                                                                                                                                                                                                                                                                                                                                                                                                                                                                                                                                                                                                                                                                                                                                                                                                                                                                                                                                                                       0]\n",
       "[                                                                                                                                                                                                                                                                                                                                                                                                                                                                                                                                                                                                                                                                                                                                                                                                                                            e^(-a*sqrt(abs(-(kz + I*sz)^2 + omega^2/c^2))*sin(1/2*arctan2(-2*kz*sz, -kz^2 + sz^2 + omega^2/c^2)))*sin(a*sqrt(abs(-(kz + I*sz)^2 + omega^2/c^2))*cos(1/2*arctan2(-2*kz*sz, -kz^2 + sz^2 + omega^2/c^2)))                                                                                                                                                                                                                                                                                                                                                                                                                                                                                                                                                                                                                                                                                                                                                                                                                                             cos(a*sqrt(abs(-(kz + I*sz)^2 + omega^2/c^2))*cos(1/2*arctan2(-2*kz*sz, -kz^2 + sz^2 + omega^2/c^2)))*e^(-a*sqrt(abs(-(kz + I*sz)^2 + omega^2/c^2))*sin(1/2*arctan2(-2*kz*sz, -kz^2 + sz^2 + omega^2/c^2)))                                                                                                                                                                                                                                                                                                                                                                                                                                                                                                                                                                                                                                                                                                                                                                                                                                             e^(a*sqrt(abs(-(kz + I*sz)^2 + omega^2/c^2))*sin(1/2*arctan2(-2*kz*sz, -kz^2 + sz^2 + omega^2/c^2)))*sin(-a*sqrt(abs(-(kz + I*sz)^2 + omega^2/c^2))*cos(1/2*arctan2(-2*kz*sz, -kz^2 + sz^2 + omega^2/c^2)))                                                                                                                                                                                                                                                                                                                                                                                                                                                                                                                                                                                                                                                                                                                                                                                                                                             cos(-a*sqrt(abs(-(kz + I*sz)^2 + omega^2/c^2))*cos(1/2*arctan2(-2*kz*sz, -kz^2 + sz^2 + omega^2/c^2)))*e^(a*sqrt(abs(-(kz + I*sz)^2 + omega^2/c^2))*sin(1/2*arctan2(-2*kz*sz, -kz^2 + sz^2 + omega^2/c^2)))                                                                                                                                                                                                                                                                                                                                                                                                                                                                                                                                                                                                                                                                                                                                                                                                                                                                                                                                                                                                                                                       0                                                                                                                                                                                                                                                                                                                                                                                                                                                                                                                                                                                                                                                                                                                                                                                                                                                                                                                                                                                                                                                       0]\n",
       "[ 16*pi^2*sigma^2*cos(-1/2*arctan2(4*pi*mu*omega*sigma/c - 2*kz*sz, -kz^2 + epsilon*mu*omega^2/c^2 + sz^2))/(c*sqrt(abs(4*I*pi*mu*omega*sigma/c - (kz + I*sz)^2 + epsilon*mu*omega^2/c^2))) + 4*pi*epsilon*omega*sigma*sin(-1/2*arctan2(4*pi*mu*omega*sigma/c - 2*kz*sz, -kz^2 + epsilon*mu*omega^2/c^2 + sz^2))/(c*sqrt(abs(4*I*pi*mu*omega*sigma/c - (kz + I*sz)^2 + epsilon*mu*omega^2/c^2))) - epsilon^2*omega^2*cos(-1/2*arctan2(4*pi*mu*omega*sigma/c - 2*kz*sz, -kz^2 + epsilon*mu*omega^2/c^2 + sz^2))/(c^2*sqrt(abs(4*I*pi*mu*omega*sigma/c - (kz + I*sz)^2 + epsilon*mu*omega^2/c^2))) + 4*pi*epsilon*omega*sigma*sin(-1/2*arctan2(4*pi*mu*omega*sigma/c - 2*kz*sz, -kz^2 + epsilon*mu*omega^2/c^2 + sz^2))/(c^2*sqrt(abs(4*I*pi*mu*omega*sigma/c - (kz + I*sz)^2 + epsilon*mu*omega^2/c^2))) - epsilon*omega^2*cos(-1/2*arctan2(-2*kz*sz, -kz^2 + sz^2 + omega^2/c^2))/(c^2*sqrt(abs(-(kz + I*sz)^2 + omega^2/c^2))) + 4*pi*omega*sigma*sin(-1/2*arctan2(-2*kz*sz, -kz^2 + sz^2 + omega^2/c^2))/(c^2*sqrt(abs(-(kz + I*sz)^2 + omega^2/c^2)))  4*pi*epsilon*omega*sigma*cos(-1/2*arctan2(4*pi*mu*omega*sigma/c - 2*kz*sz, -kz^2 + epsilon*mu*omega^2/c^2 + sz^2))/(c*sqrt(abs(4*I*pi*mu*omega*sigma/c - (kz + I*sz)^2 + epsilon*mu*omega^2/c^2))) - 16*pi^2*sigma^2*sin(-1/2*arctan2(4*pi*mu*omega*sigma/c - 2*kz*sz, -kz^2 + epsilon*mu*omega^2/c^2 + sz^2))/(c*sqrt(abs(4*I*pi*mu*omega*sigma/c - (kz + I*sz)^2 + epsilon*mu*omega^2/c^2))) + 4*pi*epsilon*omega*sigma*cos(-1/2*arctan2(4*pi*mu*omega*sigma/c - 2*kz*sz, -kz^2 + epsilon*mu*omega^2/c^2 + sz^2))/(c^2*sqrt(abs(4*I*pi*mu*omega*sigma/c - (kz + I*sz)^2 + epsilon*mu*omega^2/c^2))) + epsilon^2*omega^2*sin(-1/2*arctan2(4*pi*mu*omega*sigma/c - 2*kz*sz, -kz^2 + epsilon*mu*omega^2/c^2 + sz^2))/(c^2*sqrt(abs(4*I*pi*mu*omega*sigma/c - (kz + I*sz)^2 + epsilon*mu*omega^2/c^2))) + 4*pi*omega*sigma*cos(-1/2*arctan2(-2*kz*sz, -kz^2 + sz^2 + omega^2/c^2))/(c^2*sqrt(abs(-(kz + I*sz)^2 + omega^2/c^2))) + epsilon*omega^2*sin(-1/2*arctan2(-2*kz*sz, -kz^2 + sz^2 + omega^2/c^2))/(c^2*sqrt(abs(-(kz + I*sz)^2 + omega^2/c^2)))  16*pi^2*sigma^2*cos(-1/2*arctan2(4*pi*mu*omega*sigma/c - 2*kz*sz, -kz^2 + epsilon*mu*omega^2/c^2 + sz^2))/(c*sqrt(abs(4*I*pi*mu*omega*sigma/c - (kz + I*sz)^2 + epsilon*mu*omega^2/c^2))) + 4*pi*epsilon*omega*sigma*sin(-1/2*arctan2(4*pi*mu*omega*sigma/c - 2*kz*sz, -kz^2 + epsilon*mu*omega^2/c^2 + sz^2))/(c*sqrt(abs(4*I*pi*mu*omega*sigma/c - (kz + I*sz)^2 + epsilon*mu*omega^2/c^2))) - epsilon^2*omega^2*cos(-1/2*arctan2(4*pi*mu*omega*sigma/c - 2*kz*sz, -kz^2 + epsilon*mu*omega^2/c^2 + sz^2))/(c^2*sqrt(abs(4*I*pi*mu*omega*sigma/c - (kz + I*sz)^2 + epsilon*mu*omega^2/c^2))) + 4*pi*epsilon*omega*sigma*sin(-1/2*arctan2(4*pi*mu*omega*sigma/c - 2*kz*sz, -kz^2 + epsilon*mu*omega^2/c^2 + sz^2))/(c^2*sqrt(abs(4*I*pi*mu*omega*sigma/c - (kz + I*sz)^2 + epsilon*mu*omega^2/c^2))) + epsilon*omega^2*cos(-1/2*arctan2(-2*kz*sz, -kz^2 + sz^2 + omega^2/c^2))/(c^2*sqrt(abs(-(kz + I*sz)^2 + omega^2/c^2))) - 4*pi*omega*sigma*sin(-1/2*arctan2(-2*kz*sz, -kz^2 + sz^2 + omega^2/c^2))/(c^2*sqrt(abs(-(kz + I*sz)^2 + omega^2/c^2)))  4*pi*epsilon*omega*sigma*cos(-1/2*arctan2(4*pi*mu*omega*sigma/c - 2*kz*sz, -kz^2 + epsilon*mu*omega^2/c^2 + sz^2))/(c*sqrt(abs(4*I*pi*mu*omega*sigma/c - (kz + I*sz)^2 + epsilon*mu*omega^2/c^2))) - 16*pi^2*sigma^2*sin(-1/2*arctan2(4*pi*mu*omega*sigma/c - 2*kz*sz, -kz^2 + epsilon*mu*omega^2/c^2 + sz^2))/(c*sqrt(abs(4*I*pi*mu*omega*sigma/c - (kz + I*sz)^2 + epsilon*mu*omega^2/c^2))) + 4*pi*epsilon*omega*sigma*cos(-1/2*arctan2(4*pi*mu*omega*sigma/c - 2*kz*sz, -kz^2 + epsilon*mu*omega^2/c^2 + sz^2))/(c^2*sqrt(abs(4*I*pi*mu*omega*sigma/c - (kz + I*sz)^2 + epsilon*mu*omega^2/c^2))) + epsilon^2*omega^2*sin(-1/2*arctan2(4*pi*mu*omega*sigma/c - 2*kz*sz, -kz^2 + epsilon*mu*omega^2/c^2 + sz^2))/(c^2*sqrt(abs(4*I*pi*mu*omega*sigma/c - (kz + I*sz)^2 + epsilon*mu*omega^2/c^2))) - 4*pi*omega*sigma*cos(-1/2*arctan2(-2*kz*sz, -kz^2 + sz^2 + omega^2/c^2))/(c^2*sqrt(abs(-(kz + I*sz)^2 + omega^2/c^2))) - epsilon*omega^2*sin(-1/2*arctan2(-2*kz*sz, -kz^2 + sz^2 + omega^2/c^2))/(c^2*sqrt(abs(-(kz + I*sz)^2 + omega^2/c^2)))                                                                                                                                                                                                                                                                                                                                                                                                                                                                                                                                                                                                                                                                                                                                                                                                                                                                                                                                                                                                                                                       0                                                                                                                                                                                                                                                                                                                                                                                                                                                                                                                                                                                                                                                                                                                                                                                                                                                                                                                                                                                                                                                       0]\n",
       "[-4*pi*epsilon*omega*sigma*cos(-1/2*arctan2(4*pi*mu*omega*sigma/c - 2*kz*sz, -kz^2 + epsilon*mu*omega^2/c^2 + sz^2))/(c*sqrt(abs(4*I*pi*mu*omega*sigma/c - (kz + I*sz)^2 + epsilon*mu*omega^2/c^2))) + 16*pi^2*sigma^2*sin(-1/2*arctan2(4*pi*mu*omega*sigma/c - 2*kz*sz, -kz^2 + epsilon*mu*omega^2/c^2 + sz^2))/(c*sqrt(abs(4*I*pi*mu*omega*sigma/c - (kz + I*sz)^2 + epsilon*mu*omega^2/c^2))) - 4*pi*epsilon*omega*sigma*cos(-1/2*arctan2(4*pi*mu*omega*sigma/c - 2*kz*sz, -kz^2 + epsilon*mu*omega^2/c^2 + sz^2))/(c^2*sqrt(abs(4*I*pi*mu*omega*sigma/c - (kz + I*sz)^2 + epsilon*mu*omega^2/c^2))) - epsilon^2*omega^2*sin(-1/2*arctan2(4*pi*mu*omega*sigma/c - 2*kz*sz, -kz^2 + epsilon*mu*omega^2/c^2 + sz^2))/(c^2*sqrt(abs(4*I*pi*mu*omega*sigma/c - (kz + I*sz)^2 + epsilon*mu*omega^2/c^2))) - 4*pi*omega*sigma*cos(-1/2*arctan2(-2*kz*sz, -kz^2 + sz^2 + omega^2/c^2))/(c^2*sqrt(abs(-(kz + I*sz)^2 + omega^2/c^2))) - epsilon*omega^2*sin(-1/2*arctan2(-2*kz*sz, -kz^2 + sz^2 + omega^2/c^2))/(c^2*sqrt(abs(-(kz + I*sz)^2 + omega^2/c^2)))  16*pi^2*sigma^2*cos(-1/2*arctan2(4*pi*mu*omega*sigma/c - 2*kz*sz, -kz^2 + epsilon*mu*omega^2/c^2 + sz^2))/(c*sqrt(abs(4*I*pi*mu*omega*sigma/c - (kz + I*sz)^2 + epsilon*mu*omega^2/c^2))) + 4*pi*epsilon*omega*sigma*sin(-1/2*arctan2(4*pi*mu*omega*sigma/c - 2*kz*sz, -kz^2 + epsilon*mu*omega^2/c^2 + sz^2))/(c*sqrt(abs(4*I*pi*mu*omega*sigma/c - (kz + I*sz)^2 + epsilon*mu*omega^2/c^2))) - epsilon^2*omega^2*cos(-1/2*arctan2(4*pi*mu*omega*sigma/c - 2*kz*sz, -kz^2 + epsilon*mu*omega^2/c^2 + sz^2))/(c^2*sqrt(abs(4*I*pi*mu*omega*sigma/c - (kz + I*sz)^2 + epsilon*mu*omega^2/c^2))) + 4*pi*epsilon*omega*sigma*sin(-1/2*arctan2(4*pi*mu*omega*sigma/c - 2*kz*sz, -kz^2 + epsilon*mu*omega^2/c^2 + sz^2))/(c^2*sqrt(abs(4*I*pi*mu*omega*sigma/c - (kz + I*sz)^2 + epsilon*mu*omega^2/c^2))) - epsilon*omega^2*cos(-1/2*arctan2(-2*kz*sz, -kz^2 + sz^2 + omega^2/c^2))/(c^2*sqrt(abs(-(kz + I*sz)^2 + omega^2/c^2))) + 4*pi*omega*sigma*sin(-1/2*arctan2(-2*kz*sz, -kz^2 + sz^2 + omega^2/c^2))/(c^2*sqrt(abs(-(kz + I*sz)^2 + omega^2/c^2))) -4*pi*epsilon*omega*sigma*cos(-1/2*arctan2(4*pi*mu*omega*sigma/c - 2*kz*sz, -kz^2 + epsilon*mu*omega^2/c^2 + sz^2))/(c*sqrt(abs(4*I*pi*mu*omega*sigma/c - (kz + I*sz)^2 + epsilon*mu*omega^2/c^2))) + 16*pi^2*sigma^2*sin(-1/2*arctan2(4*pi*mu*omega*sigma/c - 2*kz*sz, -kz^2 + epsilon*mu*omega^2/c^2 + sz^2))/(c*sqrt(abs(4*I*pi*mu*omega*sigma/c - (kz + I*sz)^2 + epsilon*mu*omega^2/c^2))) - 4*pi*epsilon*omega*sigma*cos(-1/2*arctan2(4*pi*mu*omega*sigma/c - 2*kz*sz, -kz^2 + epsilon*mu*omega^2/c^2 + sz^2))/(c^2*sqrt(abs(4*I*pi*mu*omega*sigma/c - (kz + I*sz)^2 + epsilon*mu*omega^2/c^2))) - epsilon^2*omega^2*sin(-1/2*arctan2(4*pi*mu*omega*sigma/c - 2*kz*sz, -kz^2 + epsilon*mu*omega^2/c^2 + sz^2))/(c^2*sqrt(abs(4*I*pi*mu*omega*sigma/c - (kz + I*sz)^2 + epsilon*mu*omega^2/c^2))) + 4*pi*omega*sigma*cos(-1/2*arctan2(-2*kz*sz, -kz^2 + sz^2 + omega^2/c^2))/(c^2*sqrt(abs(-(kz + I*sz)^2 + omega^2/c^2))) + epsilon*omega^2*sin(-1/2*arctan2(-2*kz*sz, -kz^2 + sz^2 + omega^2/c^2))/(c^2*sqrt(abs(-(kz + I*sz)^2 + omega^2/c^2)))  16*pi^2*sigma^2*cos(-1/2*arctan2(4*pi*mu*omega*sigma/c - 2*kz*sz, -kz^2 + epsilon*mu*omega^2/c^2 + sz^2))/(c*sqrt(abs(4*I*pi*mu*omega*sigma/c - (kz + I*sz)^2 + epsilon*mu*omega^2/c^2))) + 4*pi*epsilon*omega*sigma*sin(-1/2*arctan2(4*pi*mu*omega*sigma/c - 2*kz*sz, -kz^2 + epsilon*mu*omega^2/c^2 + sz^2))/(c*sqrt(abs(4*I*pi*mu*omega*sigma/c - (kz + I*sz)^2 + epsilon*mu*omega^2/c^2))) - epsilon^2*omega^2*cos(-1/2*arctan2(4*pi*mu*omega*sigma/c - 2*kz*sz, -kz^2 + epsilon*mu*omega^2/c^2 + sz^2))/(c^2*sqrt(abs(4*I*pi*mu*omega*sigma/c - (kz + I*sz)^2 + epsilon*mu*omega^2/c^2))) + 4*pi*epsilon*omega*sigma*sin(-1/2*arctan2(4*pi*mu*omega*sigma/c - 2*kz*sz, -kz^2 + epsilon*mu*omega^2/c^2 + sz^2))/(c^2*sqrt(abs(4*I*pi*mu*omega*sigma/c - (kz + I*sz)^2 + epsilon*mu*omega^2/c^2))) + epsilon*omega^2*cos(-1/2*arctan2(-2*kz*sz, -kz^2 + sz^2 + omega^2/c^2))/(c^2*sqrt(abs(-(kz + I*sz)^2 + omega^2/c^2))) - 4*pi*omega*sigma*sin(-1/2*arctan2(-2*kz*sz, -kz^2 + sz^2 + omega^2/c^2))/(c^2*sqrt(abs(-(kz + I*sz)^2 + omega^2/c^2)))                                                                                                                                                                                                                                                                                                                                                                                                                                                                                                                                                                                                                                                                                                                                                                                                                                                                                                                                                                                                                                                       0                                                                                                                                                                                                                                                                                                                                                                                                                                                                                                                                                                                                                                                                                                                                                                                                                                                                                                                                                                                                                                                       0]\n",
       "[                                                                                                                                                                                                                                                                                                                                                                                                                                                                                                                                                                                                                                                                                                                                                                                                                                                                                                                                                                                                                                                     -1                                                                                                                                                                                                                                                                                                                                                                                                                                                                                                                                                                                                                                                                                                                                                                                                                                                                                                                                                                                                                                                       0                                                                                                                                                                                                                                                                                                                                                                                                                                                                                                                                                                                                                                                                                                                                                                                                                                                                                                                                                                                                                                                      -1                                                                                                                                                                                                                                                                                                                                                                                                                                                                                                                                                                                                                                                                                                                                                                                                                                                                                                                                                                                                                                                       0                                                                                                                                                                                                                                                                                                                                                                                                                                                                                                                                                                                                                                                                                                                                                                                                                                                                                                                                                                                                                                                       1                                                                                                                                                                                                                                                                                                                                                                                                                                                                                                                                                                                                                                                                                                                                                                                                                                                                                                                                                                                                                                                       0]\n",
       "[                                                                                                                                                                                                                                                                                                                                                                                                                                                                                                                                                                                                                                                                                                                                                                                                                                                                                                                                                                                                                                                      0                                                                                                                                                                                                                                                                                                                                                                                                                                                                                                                                                                                                                                                                                                                                                                                                                                                                                                                                                                                                                                                      -1                                                                                                                                                                                                                                                                                                                                                                                                                                                                                                                                                                                                                                                                                                                                                                                                                                                                                                                                                                                                                                                       0                                                                                                                                                                                                                                                                                                                                                                                                                                                                                                                                                                                                                                                                                                                                                                                                                                                                                                                                                                                                                                                      -1                                                                                                                                                                                                                                                                                                                                                                                                                                                                                                                                                                                                                                                                                                                                                                                                                                                                                                                                                                                                                                                       0                                                                                                                                                                                                                                                                                                                                                                                                                                                                                                                                                                                                                                                                                                                                                                                                                                                                                                                                                                                                                                                       1]"
      ]
     },
     "execution_count": 247,
     "metadata": {},
     "output_type": "execute_result"
    }
   ],
   "source": [
    "M6_subs"
   ]
  },
  {
   "cell_type": "code",
   "execution_count": 248,
   "metadata": {},
   "outputs": [
    {
     "data": {
      "text/plain": [
       "(a, c, epsilon, kz, mu, omega, sigma, sz)"
      ]
     },
     "execution_count": 248,
     "metadata": {},
     "output_type": "execute_result"
    }
   ],
   "source": [
    "M6_subs.variables()"
   ]
  },
  {
   "cell_type": "code",
   "execution_count": 249,
   "metadata": {},
   "outputs": [
    {
     "data": {
      "text/latex": [
       "$\\displaystyle \\left(\\begin{array}{rrr}\n",
       "e^{\\left(i \\, K_{\\mathit{vacuum}} a\\right)} & e^{\\left(-i \\, K_{\\mathit{vacuum}} a\\right)} & 0 \\\\\n",
       "-\\frac{K_{\\mathit{vacuum}} c}{\\omega} & \\frac{K_{\\mathit{vacuum}} c}{\\omega} & -\\frac{K_{\\mathit{conductor}} c}{\\mu \\omega} \\\\\n",
       "-1 & -1 & 1\n",
       "\\end{array}\\right)$"
      ],
      "text/plain": [
       "<IPython.core.display.Math object>"
      ]
     },
     "metadata": {},
     "output_type": "display_data"
    }
   ],
   "source": [
    "display(Math(latex(M3)))"
   ]
  },
  {
   "cell_type": "code",
   "execution_count": 250,
   "metadata": {},
   "outputs": [
    {
     "data": {
      "text/latex": [
       "$\\displaystyle \\left(\\begin{array}{rrr}\n",
       "e^{\\left(i \\, \\sqrt{-k_{z}^{2} + \\frac{\\omega^{2}}{c^{2}}} a\\right)} & e^{\\left(-i \\, \\sqrt{-k_{z}^{2} + \\frac{\\omega^{2}}{c^{2}}} a\\right)} & 0 \\\\\n",
       "-\\frac{\\frac{\\epsilon \\omega^{3}}{c^{2}} + \\frac{4 i \\, \\pi \\omega^{2} \\sigma}{c^{2}}}{\\sqrt{-k_{z}^{2} + \\frac{\\omega^{2}}{c^{2}}} \\omega} - \\frac{\\frac{{\\left(4 i \\, \\pi c \\mu \\omega \\sigma + \\epsilon \\mu \\omega^{2}\\right)} \\epsilon \\omega}{c^{2}} + \\frac{4 i \\, \\pi {\\left(4 i \\, \\pi c \\mu \\omega \\sigma + \\epsilon \\mu \\omega^{2}\\right)} \\sigma}{c^{2}}}{\\sqrt{-k_{z}^{2} + \\frac{4 i \\, \\pi c \\mu \\omega \\sigma + \\epsilon \\mu \\omega^{2}}{c^{2}}} \\mu \\omega} & \\frac{\\frac{\\epsilon \\omega^{3}}{c^{2}} + \\frac{4 i \\, \\pi \\omega^{2} \\sigma}{c^{2}}}{\\sqrt{-k_{z}^{2} + \\frac{\\omega^{2}}{c^{2}}} \\omega} - \\frac{\\frac{{\\left(4 i \\, \\pi c \\mu \\omega \\sigma + \\epsilon \\mu \\omega^{2}\\right)} \\epsilon \\omega}{c^{2}} + \\frac{4 i \\, \\pi {\\left(4 i \\, \\pi c \\mu \\omega \\sigma + \\epsilon \\mu \\omega^{2}\\right)} \\sigma}{c^{2}}}{\\sqrt{-k_{z}^{2} + \\frac{4 i \\, \\pi c \\mu \\omega \\sigma + \\epsilon \\mu \\omega^{2}}{c^{2}}} \\mu \\omega} & 0 \\\\\n",
       "-1 & -1 & 1\n",
       "\\end{array}\\right)$"
      ],
      "text/plain": [
       "<IPython.core.display.Math object>"
      ]
     },
     "metadata": {},
     "output_type": "display_data"
    }
   ],
   "source": [
    "display(Math(latex(M3_subs)))"
   ]
  },
  {
   "cell_type": "code",
   "execution_count": 251,
   "metadata": {},
   "outputs": [],
   "source": [
    "M3_det = M3.det()"
   ]
  },
  {
   "cell_type": "code",
   "execution_count": 252,
   "metadata": {},
   "outputs": [],
   "source": [
    "M3_subs_det = M3_subs.det()"
   ]
  },
  {
   "cell_type": "code",
   "execution_count": 253,
   "metadata": {},
   "outputs": [],
   "source": [
    "M6_subs_det = M6_subs.det()"
   ]
  },
  {
   "cell_type": "code",
   "execution_count": 254,
   "metadata": {},
   "outputs": [
    {
     "data": {
      "text/latex": [
       "$\\displaystyle {\\left(\\frac{K_{\\mathit{vacuum}} c}{\\omega} - \\frac{K_{\\mathit{conductor}} c}{\\mu \\omega}\\right)} e^{\\left(i \\, K_{\\mathit{vacuum}} a\\right)} + \\frac{K_{\\mathit{vacuum}} c e^{\\left(-i \\, K_{\\mathit{vacuum}} a\\right)}}{\\omega} + \\frac{K_{\\mathit{conductor}} c e^{\\left(-i \\, K_{\\mathit{vacuum}} a\\right)}}{\\mu \\omega}$"
      ],
      "text/plain": [
       "<IPython.core.display.Math object>"
      ]
     },
     "metadata": {},
     "output_type": "display_data"
    }
   ],
   "source": [
    "display(Math(latex(M3_det)))"
   ]
  },
  {
   "cell_type": "code",
   "execution_count": 255,
   "metadata": {},
   "outputs": [
    {
     "data": {
      "text/latex": [
       "$\\displaystyle {\\left(\\frac{\\frac{\\epsilon \\omega^{3}}{c^{2}} + \\frac{4 i \\, \\pi \\omega^{2} \\sigma}{c^{2}}}{\\sqrt{-k_{z}^{2} + \\frac{\\omega^{2}}{c^{2}}} \\omega} - \\frac{\\frac{{\\left(4 i \\, \\pi c \\mu \\omega \\sigma + \\epsilon \\mu \\omega^{2}\\right)} \\epsilon \\omega}{c^{2}} + \\frac{4 i \\, \\pi {\\left(4 i \\, \\pi c \\mu \\omega \\sigma + \\epsilon \\mu \\omega^{2}\\right)} \\sigma}{c^{2}}}{\\sqrt{-k_{z}^{2} + \\frac{4 i \\, \\pi c \\mu \\omega \\sigma + \\epsilon \\mu \\omega^{2}}{c^{2}}} \\mu \\omega}\\right)} e^{\\left(i \\, \\sqrt{-k_{z}^{2} + \\frac{\\omega^{2}}{c^{2}}} a\\right)} + {\\left(\\frac{\\frac{\\epsilon \\omega^{3}}{c^{2}} + \\frac{4 i \\, \\pi \\omega^{2} \\sigma}{c^{2}}}{\\sqrt{-k_{z}^{2} + \\frac{\\omega^{2}}{c^{2}}} \\omega} + \\frac{\\frac{{\\left(4 i \\, \\pi c \\mu \\omega \\sigma + \\epsilon \\mu \\omega^{2}\\right)} \\epsilon \\omega}{c^{2}} + \\frac{4 i \\, \\pi {\\left(4 i \\, \\pi c \\mu \\omega \\sigma + \\epsilon \\mu \\omega^{2}\\right)} \\sigma}{c^{2}}}{\\sqrt{-k_{z}^{2} + \\frac{4 i \\, \\pi c \\mu \\omega \\sigma + \\epsilon \\mu \\omega^{2}}{c^{2}}} \\mu \\omega}\\right)} e^{\\left(-i \\, \\sqrt{-k_{z}^{2} + \\frac{\\omega^{2}}{c^{2}}} a\\right)}$"
      ],
      "text/plain": [
       "<IPython.core.display.Math object>"
      ]
     },
     "metadata": {},
     "output_type": "display_data"
    }
   ],
   "source": [
    "display(Math(latex(M3_subs_det)))"
   ]
  },
  {
   "cell_type": "code",
   "execution_count": 256,
   "metadata": {},
   "outputs": [
    {
     "data": {
      "text/plain": [
       "(K_vacuum == sqrt(-k_z^2 + kappa_vacuum^2),\n",
       " K_conductor == sqrt(-k_z^2 + kappa^2))"
      ]
     },
     "execution_count": 256,
     "metadata": {},
     "output_type": "execute_result"
    }
   ],
   "source": [
    "K_vacuum_subs, K_conductor_subs"
   ]
  },
  {
   "cell_type": "code",
   "execution_count": 257,
   "metadata": {},
   "outputs": [],
   "source": [
    "M3_subs_det_den = K_vacuum_subs.rhs().subs(kappa_vacuum_sol).subs(kappa_sol) * \\\n",
    "K_conductor_subs.rhs().subs(kappa_vacuum_sol).subs(kappa_sol)"
   ]
  },
  {
   "cell_type": "code",
   "execution_count": 258,
   "metadata": {},
   "outputs": [],
   "source": [
    "M3_subs_det_num = (M3_subs_det*M3_subs_det_den).expand()"
   ]
  },
  {
   "cell_type": "code",
   "execution_count": 259,
   "metadata": {},
   "outputs": [
    {
     "data": {
      "text/latex": [
       "$\\displaystyle -\\frac{4 i \\, \\pi \\sqrt{-k_{z}^{2} + \\frac{\\omega^{2}}{c^{2}}} \\epsilon \\omega \\sigma e^{\\left(i \\, \\sqrt{-k_{z}^{2} + \\frac{\\omega^{2}}{c^{2}}} a\\right)}}{c} + \\frac{16 \\, \\pi^{2} \\sqrt{-k_{z}^{2} + \\frac{\\omega^{2}}{c^{2}}} \\sigma^{2} e^{\\left(i \\, \\sqrt{-k_{z}^{2} + \\frac{\\omega^{2}}{c^{2}}} a\\right)}}{c} + \\frac{4 i \\, \\pi \\sqrt{-k_{z}^{2} + \\frac{\\omega^{2}}{c^{2}}} \\epsilon \\omega \\sigma e^{\\left(-i \\, \\sqrt{-k_{z}^{2} + \\frac{\\omega^{2}}{c^{2}}} a\\right)}}{c} - \\frac{16 \\, \\pi^{2} \\sqrt{-k_{z}^{2} + \\frac{\\omega^{2}}{c^{2}}} \\sigma^{2} e^{\\left(-i \\, \\sqrt{-k_{z}^{2} + \\frac{\\omega^{2}}{c^{2}}} a\\right)}}{c} - \\frac{\\sqrt{-k_{z}^{2} + \\frac{\\omega^{2}}{c^{2}}} \\epsilon^{2} \\omega^{2} e^{\\left(i \\, \\sqrt{-k_{z}^{2} + \\frac{\\omega^{2}}{c^{2}}} a\\right)}}{c^{2}} - \\frac{4 i \\, \\pi \\sqrt{-k_{z}^{2} + \\frac{\\omega^{2}}{c^{2}}} \\epsilon \\omega \\sigma e^{\\left(i \\, \\sqrt{-k_{z}^{2} + \\frac{\\omega^{2}}{c^{2}}} a\\right)}}{c^{2}} + \\frac{\\sqrt{-k_{z}^{2} + \\frac{\\omega^{2}}{c^{2}}} \\epsilon^{2} \\omega^{2} e^{\\left(-i \\, \\sqrt{-k_{z}^{2} + \\frac{\\omega^{2}}{c^{2}}} a\\right)}}{c^{2}} + \\frac{4 i \\, \\pi \\sqrt{-k_{z}^{2} + \\frac{\\omega^{2}}{c^{2}}} \\epsilon \\omega \\sigma e^{\\left(-i \\, \\sqrt{-k_{z}^{2} + \\frac{\\omega^{2}}{c^{2}}} a\\right)}}{c^{2}} + \\frac{\\sqrt{\\frac{4 i \\, \\pi \\mu \\omega \\sigma}{c} - k_{z}^{2} + \\frac{\\epsilon \\mu \\omega^{2}}{c^{2}}} \\epsilon \\omega^{2} e^{\\left(i \\, \\sqrt{-k_{z}^{2} + \\frac{\\omega^{2}}{c^{2}}} a\\right)}}{c^{2}} + \\frac{4 i \\, \\pi \\sqrt{\\frac{4 i \\, \\pi \\mu \\omega \\sigma}{c} - k_{z}^{2} + \\frac{\\epsilon \\mu \\omega^{2}}{c^{2}}} \\omega \\sigma e^{\\left(i \\, \\sqrt{-k_{z}^{2} + \\frac{\\omega^{2}}{c^{2}}} a\\right)}}{c^{2}} + \\frac{\\sqrt{\\frac{4 i \\, \\pi \\mu \\omega \\sigma}{c} - k_{z}^{2} + \\frac{\\epsilon \\mu \\omega^{2}}{c^{2}}} \\epsilon \\omega^{2} e^{\\left(-i \\, \\sqrt{-k_{z}^{2} + \\frac{\\omega^{2}}{c^{2}}} a\\right)}}{c^{2}} + \\frac{4 i \\, \\pi \\sqrt{\\frac{4 i \\, \\pi \\mu \\omega \\sigma}{c} - k_{z}^{2} + \\frac{\\epsilon \\mu \\omega^{2}}{c^{2}}} \\omega \\sigma e^{\\left(-i \\, \\sqrt{-k_{z}^{2} + \\frac{\\omega^{2}}{c^{2}}} a\\right)}}{c^{2}}$"
      ],
      "text/plain": [
       "<IPython.core.display.Math object>"
      ]
     },
     "metadata": {},
     "output_type": "display_data"
    }
   ],
   "source": [
    "display(Math(latex(M3_subs_det_num)))"
   ]
  },
  {
   "cell_type": "code",
   "execution_count": 260,
   "metadata": {},
   "outputs": [],
   "source": [
    "M3_subs_det_sigma0 = M3_subs_det_num.subs(sigma == 0)"
   ]
  },
  {
   "cell_type": "code",
   "execution_count": 261,
   "metadata": {},
   "outputs": [
    {
     "data": {
      "text/latex": [
       "$\\displaystyle -\\frac{\\sqrt{-k_{z}^{2} + \\frac{\\omega^{2}}{c^{2}}} \\epsilon^{2} \\omega^{2} e^{\\left(i \\, \\sqrt{-k_{z}^{2} + \\frac{\\omega^{2}}{c^{2}}} a\\right)}}{c^{2}} + \\frac{\\sqrt{-k_{z}^{2} + \\frac{\\omega^{2}}{c^{2}}} \\epsilon^{2} \\omega^{2} e^{\\left(-i \\, \\sqrt{-k_{z}^{2} + \\frac{\\omega^{2}}{c^{2}}} a\\right)}}{c^{2}} + \\frac{\\sqrt{-k_{z}^{2} + \\frac{\\epsilon \\mu \\omega^{2}}{c^{2}}} \\epsilon \\omega^{2} e^{\\left(i \\, \\sqrt{-k_{z}^{2} + \\frac{\\omega^{2}}{c^{2}}} a\\right)}}{c^{2}} + \\frac{\\sqrt{-k_{z}^{2} + \\frac{\\epsilon \\mu \\omega^{2}}{c^{2}}} \\epsilon \\omega^{2} e^{\\left(-i \\, \\sqrt{-k_{z}^{2} + \\frac{\\omega^{2}}{c^{2}}} a\\right)}}{c^{2}}$"
      ],
      "text/plain": [
       "<IPython.core.display.Math object>"
      ]
     },
     "metadata": {},
     "output_type": "display_data"
    }
   ],
   "source": [
    "display(Math(latex(M3_subs_det_sigma0)))"
   ]
  },
  {
   "cell_type": "code",
   "execution_count": 262,
   "metadata": {},
   "outputs": [],
   "source": [
    "M3_subs_det_sigma0_a0 = M3_subs_det_sigma0.subs(a == 0)"
   ]
  },
  {
   "cell_type": "code",
   "execution_count": 263,
   "metadata": {},
   "outputs": [
    {
     "data": {
      "text/latex": [
       "$\\displaystyle \\frac{2 \\, \\sqrt{-k_{z}^{2} + \\frac{\\epsilon \\mu \\omega^{2}}{c^{2}}} \\epsilon \\omega^{2}}{c^{2}} = 0$"
      ],
      "text/plain": [
       "<IPython.core.display.Math object>"
      ]
     },
     "metadata": {},
     "output_type": "display_data"
    }
   ],
   "source": [
    "display(Math(latex(M3_subs_det_sigma0_a0  == 0)))"
   ]
  },
  {
   "cell_type": "code",
   "execution_count": 264,
   "metadata": {},
   "outputs": [],
   "source": [
    "kz_init_a0 = solve(M3_subs_det_sigma0_a0 == 0, k_z)"
   ]
  },
  {
   "cell_type": "code",
   "execution_count": 265,
   "metadata": {},
   "outputs": [
    {
     "data": {
      "text/plain": [
       "[k_z == -sqrt(epsilon*mu)*omega/c, k_z == sqrt(epsilon*mu)*omega/c]"
      ]
     },
     "execution_count": 265,
     "metadata": {},
     "output_type": "execute_result"
    }
   ],
   "source": [
    "kz_init_a0"
   ]
  },
  {
   "cell_type": "code",
   "execution_count": 266,
   "metadata": {},
   "outputs": [
    {
     "data": {
      "text/plain": [
       "1/3160*pi"
      ]
     },
     "execution_count": 266,
     "metadata": {},
     "output_type": "execute_result"
    }
   ],
   "source": [
    "#kz_init_a0_d = kz_init_a0[1].subs(digit_values).rhs()\n",
    "kz_init_a0_d = (omega/c).subs(digit_values)\n",
    "kz_init_a0_d"
   ]
  },
  {
   "cell_type": "code",
   "execution_count": null,
   "metadata": {},
   "outputs": [],
   "source": []
  },
  {
   "cell_type": "raw",
   "metadata": {},
   "source": [
    "M3_subs_det_sigma0_diff_k_z   = M3_subs_det_sigma0.diff(k_z)\n",
    "M3_subs_det_sigma0_diff_k_z_d = M3_subs_det_sigma0_diff_k_z.subs(digit_values)\n",
    "M3_subs_det_sigma0_diff_k_z_d"
   ]
  },
  {
   "cell_type": "raw",
   "metadata": {},
   "source": [
    "M3_subs_det_sigma0_d = M3_subs_det_sigma0.subs(digit_values)\n",
    "M3_subs_det_sigma0_d"
   ]
  },
  {
   "cell_type": "raw",
   "metadata": {},
   "source": [
    "M3_subs_det_sigma0_div_diff_k_z   = (M3_subs_det_sigma0/M3_subs_det_sigma0_diff_k_z).full_simplify()\n",
    "M3_subs_det_sigma0_div_diff_k_z_d = M3_subs_det_sigma0_div_diff_k_z.subs(digit_values)\n",
    "M3_subs_det_sigma0_div_diff_k_z_d"
   ]
  },
  {
   "cell_type": "code",
   "execution_count": null,
   "metadata": {},
   "outputs": [],
   "source": []
  },
  {
   "cell_type": "raw",
   "metadata": {},
   "source": [
    "M3_subs_det_diff_k_z   = M3_subs_det.diff(k_z)\n",
    "M3_subs_det_diff_k_z_d = M3_subs_det_diff_k_z.subs(digit_values)\n",
    "M3_subs_det_diff_k_z_d"
   ]
  },
  {
   "cell_type": "raw",
   "metadata": {
    "scrolled": true
   },
   "source": [
    "M3_subs_det_d = M3_subs_det.subs(digit_values)\n",
    "M3_subs_det_d"
   ]
  },
  {
   "cell_type": "raw",
   "metadata": {},
   "source": [
    "M3_subs_det_div_diff_k_z   = (M3_subs_det/M3_subs_det_diff_k_z).full_simplify()\n",
    "M3_subs_det_div_diff_k_z_d = M3_subs_det_div_diff_k_z.subs(digit_values)\n",
    "M3_subs_det_div_diff_k_z_d"
   ]
  },
  {
   "cell_type": "code",
   "execution_count": null,
   "metadata": {},
   "outputs": [],
   "source": []
  },
  {
   "cell_type": "code",
   "execution_count": 267,
   "metadata": {},
   "outputs": [],
   "source": [
    "def NewtonIt(f_div_df, x, xn, step):\n",
    "    print(\"xn\", xn)\n",
    "    #print(\"df\", df)\n",
    "    #print(\"(f/df)\", (f/df))\n",
    "    #delta = (f/df).subs(x == xn)\n",
    "    delta = f_div_df.subs(x == xn).n()\n",
    "    print(\"delta\", delta)\n",
    "    #print(\"step\", step)\n",
    "    step_delta = step*delta\n",
    "    #print(\"step_delta\", step_delta)\n",
    "\n",
    "    res = xn-step_delta\n",
    "    #print (\"_x-step_delta\", _x-step_delta)\n",
    "    #print (\"res\", res)\n",
    "    return res, delta\n",
    "\n",
    "def find_newton_root(f, f_div_df, x, xn):\n",
    "    #df = f.diff(x)\n",
    "    #print (\"f\", f)\n",
    "    #print (\"df\", df)\n",
    "    #print (\"f/df\", f/df)\n",
    "    step = 1.0\n",
    "\n",
    "    for i in range(20):\n",
    "        #xn=N(NewtonIt(xn, step), digits=32)\n",
    "        xn, delta = NewtonIt(f_div_df, x, xn, step)\n",
    "        #print (\"xn\", xn)\n",
    "        \n",
    "        f_n = f.subs(x == xn)\n",
    "        print (\"f_n\",f_n)\n",
    "        #step *= 0.999\n",
    "        if 0 == delta:\n",
    "            break\n",
    "\n",
    "    return xn"
   ]
  },
  {
   "cell_type": "raw",
   "metadata": {},
   "source": [
    "M3_subs_det_sigma0_d"
   ]
  },
  {
   "cell_type": "raw",
   "metadata": {},
   "source": [
    "kz_init_sigma0_d = find_newton_root(M3_subs_det_sigma0_d, M3_subs_det_sigma0_div_diff_k_z_d, k_z, kz_init_a0_d)\n",
    "kz_init_sigma0_d"
   ]
  },
  {
   "cell_type": "raw",
   "metadata": {},
   "source": [
    "M3_subs_det"
   ]
  },
  {
   "cell_type": "code",
   "execution_count": 268,
   "metadata": {},
   "outputs": [
    {
     "data": {
      "text/plain": [
       "1/3160*pi"
      ]
     },
     "execution_count": 268,
     "metadata": {},
     "output_type": "execute_result"
    }
   ],
   "source": [
    "#kz_init_d = find_newton_root(M3_subs_det_d, M3_subs_det_div_diff_k_z_d, k_z, kz_init_a0_d)\n",
    "kz_init_d = (omega/c).subs(digit_values)\n",
    "kz_init_d"
   ]
  },
  {
   "cell_type": "code",
   "execution_count": null,
   "metadata": {},
   "outputs": [],
   "source": []
  },
  {
   "cell_type": "code",
   "execution_count": 269,
   "metadata": {},
   "outputs": [],
   "source": [
    "M3_subs_det_kz_sz = M3_subs_det_num.subs(k_z == kz + I * sz)"
   ]
  },
  {
   "cell_type": "code",
   "execution_count": null,
   "metadata": {},
   "outputs": [],
   "source": []
  },
  {
   "cell_type": "code",
   "execution_count": null,
   "metadata": {},
   "outputs": [],
   "source": []
  },
  {
   "cell_type": "code",
   "execution_count": 270,
   "metadata": {},
   "outputs": [],
   "source": [
    "M3_subs_det_re = M3_subs_det_kz_sz.real()"
   ]
  },
  {
   "cell_type": "code",
   "execution_count": 271,
   "metadata": {},
   "outputs": [],
   "source": [
    "M3_subs_det_im = M3_subs_det_kz_sz.imag()"
   ]
  },
  {
   "cell_type": "code",
   "execution_count": null,
   "metadata": {},
   "outputs": [],
   "source": []
  },
  {
   "cell_type": "code",
   "execution_count": 272,
   "metadata": {},
   "outputs": [
    {
     "data": {
      "text/latex": [
       "$\\displaystyle -\\frac{4 i \\, \\pi \\sqrt{-{\\left(\\mathit{kz} + i \\, \\mathit{sz}\\right)}^{2} + \\frac{\\omega^{2}}{c^{2}}} \\epsilon \\omega \\sigma e^{\\left(i \\, \\sqrt{-{\\left(\\mathit{kz} + i \\, \\mathit{sz}\\right)}^{2} + \\frac{\\omega^{2}}{c^{2}}} a\\right)}}{c} + \\frac{16 \\, \\pi^{2} \\sqrt{-{\\left(\\mathit{kz} + i \\, \\mathit{sz}\\right)}^{2} + \\frac{\\omega^{2}}{c^{2}}} \\sigma^{2} e^{\\left(i \\, \\sqrt{-{\\left(\\mathit{kz} + i \\, \\mathit{sz}\\right)}^{2} + \\frac{\\omega^{2}}{c^{2}}} a\\right)}}{c} + \\frac{4 i \\, \\pi \\sqrt{-{\\left(\\mathit{kz} + i \\, \\mathit{sz}\\right)}^{2} + \\frac{\\omega^{2}}{c^{2}}} \\epsilon \\omega \\sigma e^{\\left(-i \\, \\sqrt{-{\\left(\\mathit{kz} + i \\, \\mathit{sz}\\right)}^{2} + \\frac{\\omega^{2}}{c^{2}}} a\\right)}}{c} - \\frac{16 \\, \\pi^{2} \\sqrt{-{\\left(\\mathit{kz} + i \\, \\mathit{sz}\\right)}^{2} + \\frac{\\omega^{2}}{c^{2}}} \\sigma^{2} e^{\\left(-i \\, \\sqrt{-{\\left(\\mathit{kz} + i \\, \\mathit{sz}\\right)}^{2} + \\frac{\\omega^{2}}{c^{2}}} a\\right)}}{c} - \\frac{\\sqrt{-{\\left(\\mathit{kz} + i \\, \\mathit{sz}\\right)}^{2} + \\frac{\\omega^{2}}{c^{2}}} \\epsilon^{2} \\omega^{2} e^{\\left(i \\, \\sqrt{-{\\left(\\mathit{kz} + i \\, \\mathit{sz}\\right)}^{2} + \\frac{\\omega^{2}}{c^{2}}} a\\right)}}{c^{2}} - \\frac{4 i \\, \\pi \\sqrt{-{\\left(\\mathit{kz} + i \\, \\mathit{sz}\\right)}^{2} + \\frac{\\omega^{2}}{c^{2}}} \\epsilon \\omega \\sigma e^{\\left(i \\, \\sqrt{-{\\left(\\mathit{kz} + i \\, \\mathit{sz}\\right)}^{2} + \\frac{\\omega^{2}}{c^{2}}} a\\right)}}{c^{2}} + \\frac{\\sqrt{-{\\left(\\mathit{kz} + i \\, \\mathit{sz}\\right)}^{2} + \\frac{\\omega^{2}}{c^{2}}} \\epsilon^{2} \\omega^{2} e^{\\left(-i \\, \\sqrt{-{\\left(\\mathit{kz} + i \\, \\mathit{sz}\\right)}^{2} + \\frac{\\omega^{2}}{c^{2}}} a\\right)}}{c^{2}} + \\frac{4 i \\, \\pi \\sqrt{-{\\left(\\mathit{kz} + i \\, \\mathit{sz}\\right)}^{2} + \\frac{\\omega^{2}}{c^{2}}} \\epsilon \\omega \\sigma e^{\\left(-i \\, \\sqrt{-{\\left(\\mathit{kz} + i \\, \\mathit{sz}\\right)}^{2} + \\frac{\\omega^{2}}{c^{2}}} a\\right)}}{c^{2}} + \\frac{\\sqrt{\\frac{4 i \\, \\pi \\mu \\omega \\sigma}{c} - {\\left(\\mathit{kz} + i \\, \\mathit{sz}\\right)}^{2} + \\frac{\\epsilon \\mu \\omega^{2}}{c^{2}}} \\epsilon \\omega^{2} e^{\\left(i \\, \\sqrt{-{\\left(\\mathit{kz} + i \\, \\mathit{sz}\\right)}^{2} + \\frac{\\omega^{2}}{c^{2}}} a\\right)}}{c^{2}} + \\frac{4 i \\, \\pi \\sqrt{\\frac{4 i \\, \\pi \\mu \\omega \\sigma}{c} - {\\left(\\mathit{kz} + i \\, \\mathit{sz}\\right)}^{2} + \\frac{\\epsilon \\mu \\omega^{2}}{c^{2}}} \\omega \\sigma e^{\\left(i \\, \\sqrt{-{\\left(\\mathit{kz} + i \\, \\mathit{sz}\\right)}^{2} + \\frac{\\omega^{2}}{c^{2}}} a\\right)}}{c^{2}} + \\frac{\\sqrt{\\frac{4 i \\, \\pi \\mu \\omega \\sigma}{c} - {\\left(\\mathit{kz} + i \\, \\mathit{sz}\\right)}^{2} + \\frac{\\epsilon \\mu \\omega^{2}}{c^{2}}} \\epsilon \\omega^{2} e^{\\left(-i \\, \\sqrt{-{\\left(\\mathit{kz} + i \\, \\mathit{sz}\\right)}^{2} + \\frac{\\omega^{2}}{c^{2}}} a\\right)}}{c^{2}} + \\frac{4 i \\, \\pi \\sqrt{\\frac{4 i \\, \\pi \\mu \\omega \\sigma}{c} - {\\left(\\mathit{kz} + i \\, \\mathit{sz}\\right)}^{2} + \\frac{\\epsilon \\mu \\omega^{2}}{c^{2}}} \\omega \\sigma e^{\\left(-i \\, \\sqrt{-{\\left(\\mathit{kz} + i \\, \\mathit{sz}\\right)}^{2} + \\frac{\\omega^{2}}{c^{2}}} a\\right)}}{c^{2}}$"
      ],
      "text/plain": [
       "<IPython.core.display.Math object>"
      ]
     },
     "metadata": {},
     "output_type": "display_data"
    }
   ],
   "source": [
    "display(Math(latex(M3_subs_det_kz_sz)))"
   ]
  },
  {
   "cell_type": "code",
   "execution_count": 273,
   "metadata": {},
   "outputs": [
    {
     "data": {
      "text/latex": [
       "$\\displaystyle \\frac{{\\left({\\left(\\sqrt{4 i \\, \\pi c \\mu \\omega \\sigma - c^{2} \\mathit{kz}^{2} + \\epsilon \\mu \\omega^{2} - 2 i \\, c^{2} \\mathit{kz} \\mathit{sz} + c^{2} \\mathit{sz}^{2}} {\\left(\\epsilon \\omega^{2} + 4 i \\, \\pi \\omega \\sigma\\right)} + {\\left(16 \\, \\pi^{2} c^{2} \\sigma^{2} - c \\epsilon^{2} \\omega^{2} + 4 \\, {\\left(-i \\, \\pi c^{2} - i \\, \\pi c\\right)} \\epsilon \\omega \\sigma\\right)} \\sqrt{-\\frac{c^{2} \\mathit{kz}^{2} + 2 i \\, c^{2} \\mathit{kz} \\mathit{sz} - c^{2} \\mathit{sz}^{2} - \\omega^{2}}{c^{2}}}\\right)} e^{\\left(2 i \\, a \\sqrt{-\\frac{c^{2} \\mathit{kz}^{2} + 2 i \\, c^{2} \\mathit{kz} \\mathit{sz} - c^{2} \\mathit{sz}^{2} - \\omega^{2}}{c^{2}}}\\right)} + \\sqrt{4 i \\, \\pi c \\mu \\omega \\sigma - c^{2} \\mathit{kz}^{2} + \\epsilon \\mu \\omega^{2} - 2 i \\, c^{2} \\mathit{kz} \\mathit{sz} + c^{2} \\mathit{sz}^{2}} {\\left(\\epsilon \\omega^{2} + 4 i \\, \\pi \\omega \\sigma\\right)} - {\\left(16 \\, \\pi^{2} c^{2} \\sigma^{2} - c \\epsilon^{2} \\omega^{2} - 4 \\, {\\left(i \\, \\pi c^{2} + i \\, \\pi c\\right)} \\epsilon \\omega \\sigma\\right)} \\sqrt{-\\frac{c^{2} \\mathit{kz}^{2} + 2 i \\, c^{2} \\mathit{kz} \\mathit{sz} - c^{2} \\mathit{sz}^{2} - \\omega^{2}}{c^{2}}}\\right)} e^{\\left(-i \\, a \\sqrt{-\\frac{c^{2} \\mathit{kz}^{2} + 2 i \\, c^{2} \\mathit{kz} \\mathit{sz} - c^{2} \\mathit{sz}^{2} - \\omega^{2}}{c^{2}}}\\right)}}{c^{3}}$"
      ],
      "text/plain": [
       "<IPython.core.display.Math object>"
      ]
     },
     "metadata": {},
     "output_type": "display_data"
    }
   ],
   "source": [
    "display(Math(latex(M3_subs_det_kz_sz.full_simplify())))"
   ]
  },
  {
   "cell_type": "code",
   "execution_count": null,
   "metadata": {},
   "outputs": [],
   "source": []
  },
  {
   "cell_type": "code",
   "execution_count": null,
   "metadata": {},
   "outputs": [],
   "source": []
  },
  {
   "cell_type": "code",
   "execution_count": 274,
   "metadata": {},
   "outputs": [],
   "source": [
    "M3_subs_det_re_diff_kz = M3_subs_det_re.diff(kz)"
   ]
  },
  {
   "cell_type": "code",
   "execution_count": 275,
   "metadata": {},
   "outputs": [],
   "source": [
    "M3_subs_det_im_diff_kz = M3_subs_det_im.diff(kz)"
   ]
  },
  {
   "cell_type": "code",
   "execution_count": 276,
   "metadata": {},
   "outputs": [],
   "source": [
    "M3_subs_det_re_diff_sz = M3_subs_det_re.diff(sz)"
   ]
  },
  {
   "cell_type": "code",
   "execution_count": 277,
   "metadata": {},
   "outputs": [],
   "source": [
    "M3_subs_det_im_diff_sz = M3_subs_det_im.diff(sz)"
   ]
  },
  {
   "cell_type": "code",
   "execution_count": null,
   "metadata": {},
   "outputs": [],
   "source": []
  },
  {
   "cell_type": "code",
   "execution_count": 278,
   "metadata": {},
   "outputs": [],
   "source": [
    "M3_subs_det_re_div_diff_kz = (M3_subs_det_re / M3_subs_det_re_diff_kz)"
   ]
  },
  {
   "cell_type": "code",
   "execution_count": 279,
   "metadata": {},
   "outputs": [],
   "source": [
    "M3_subs_det_im_div_diff_kz = (M3_subs_det_im / M3_subs_det_im_diff_kz)"
   ]
  },
  {
   "cell_type": "code",
   "execution_count": 280,
   "metadata": {},
   "outputs": [],
   "source": [
    "M3_subs_det_re_div_diff_sz = (M3_subs_det_re / M3_subs_det_re_diff_sz)"
   ]
  },
  {
   "cell_type": "code",
   "execution_count": 281,
   "metadata": {},
   "outputs": [],
   "source": [
    "M3_subs_det_im_div_diff_sz = (M3_subs_det_im / M3_subs_det_im_diff_sz)"
   ]
  },
  {
   "cell_type": "code",
   "execution_count": null,
   "metadata": {},
   "outputs": [],
   "source": []
  },
  {
   "cell_type": "code",
   "execution_count": 282,
   "metadata": {},
   "outputs": [],
   "source": [
    "M3_subs_det_re_d = M3_subs_det_re.subs(digit_values)"
   ]
  },
  {
   "cell_type": "code",
   "execution_count": 283,
   "metadata": {},
   "outputs": [],
   "source": [
    "M3_subs_det_im_d = M3_subs_det_im.subs(digit_values)"
   ]
  },
  {
   "cell_type": "code",
   "execution_count": null,
   "metadata": {},
   "outputs": [],
   "source": []
  },
  {
   "cell_type": "code",
   "execution_count": 284,
   "metadata": {},
   "outputs": [
    {
     "data": {
      "text/latex": [
       "$\\displaystyle \\left(\\mathit{kz}, \\mathit{sz}\\right)$"
      ],
      "text/plain": [
       "<IPython.core.display.Math object>"
      ]
     },
     "metadata": {},
     "output_type": "display_data"
    }
   ],
   "source": [
    "display(Math(latex(M3_subs_det_re_d.variables())))"
   ]
  },
  {
   "cell_type": "code",
   "execution_count": 285,
   "metadata": {},
   "outputs": [
    {
     "data": {
      "text/plain": [
       "3.93265384450101e-11"
      ]
     },
     "execution_count": 285,
     "metadata": {},
     "output_type": "execute_result"
    }
   ],
   "source": [
    "k_z_02 = 2*sqrt(I*pi*mu*omega*sigma/c)*omega*sqrt(-(4*I*pi*c*mu*omega*sigma - mu^2*omega^2)/(16*pi^2*c^2*mu^2*omega^2*sigma^2 + mu^2*omega^4))\n",
    "kz_init_im = k_z_02.subs(digit_values).imag().n()\n",
    "kz_init_im"
   ]
  },
  {
   "cell_type": "code",
   "execution_count": 286,
   "metadata": {},
   "outputs": [],
   "source": [
    "make_investigation_plots = True"
   ]
  },
  {
   "cell_type": "code",
   "execution_count": 287,
   "metadata": {},
   "outputs": [],
   "source": [
    "if make_investigation_plots:\n",
    "    import numpy as np\n",
    "    import matplotlib.pyplot as plt\n",
    "    %matplotlib inline\n",
    "\n",
    "    kz_linspace = np.linspace(0.9, 2.1, 10)\n",
    "    sz_linspace = np.linspace(0, 2e-1, 10)\n",
    "\n",
    "    kz_list = kz_linspace.tolist()\n",
    "    sz_list = sz_linspace.tolist()\n",
    "\n",
    "    kz_grid, sz_grid = np.meshgrid(kz_linspace, sz_linspace)\n",
    "\n",
    "    u = kz_grid * np.nan\n",
    "    v = sz_grid * np.nan\n",
    "\n",
    "    for ikz in np.arange(0, len(kz_linspace), 1):\n",
    "        for isz in np.arange(0, len(sz_linspace), 1):\n",
    "            kz_i = kz_list[ikz]\n",
    "            sz_i = sz_list[isz]\n",
    "            u[isz][ikz] = M3_subs_det_re_d.subs(kz == kz_i).subs(sz == sz_i).n()\n",
    "            v[isz][ikz] = M3_subs_det_im_d.subs(kz == kz_i).subs(sz == sz_i).n()"
   ]
  },
  {
   "cell_type": "markdown",
   "metadata": {},
   "source": [
    "Искомый волновой вектор можно найти графическим методом как точку пересечения двух нулевых изолиний на контурных графиках зависимости действительной и мнимой компонент детерминанта от действительной и мнимой компонент волнового вектора"
   ]
  },
  {
   "cell_type": "code",
   "execution_count": 288,
   "metadata": {},
   "outputs": [
    {
     "data": {
      "image/png": "[encoded data removed]",
      "text/plain": [
       "<Figure size 432x288 with 2 Axes>"
      ]
     },
     "metadata": {
      "needs_background": "light"
     },
     "output_type": "display_data"
    }
   ],
   "source": [
    "if make_investigation_plots:\n",
    "    fig,ax=plt.subplots(1,1)\n",
    "\n",
    "    cp = ax.contourf(kz_grid,sz_grid, u)\n",
    "    fig.colorbar(cp) # Add a colorbar to a plot\n",
    "    ax.set_title('M3_subs_det_re')\n",
    "    ax.set_xlabel('kz')\n",
    "    ax.set_ylabel('sz')\n",
    "    plt.show()"
   ]
  },
  {
   "cell_type": "code",
   "execution_count": 289,
   "metadata": {},
   "outputs": [
    {
     "data": {
      "image/png": "[encoded data removed]",
      "text/plain": [
       "<Figure size 432x288 with 2 Axes>"
      ]
     },
     "metadata": {
      "needs_background": "light"
     },
     "output_type": "display_data"
    }
   ],
   "source": [
    "if make_investigation_plots:\n",
    "    fig,ax=plt.subplots(1,1)\n",
    "\n",
    "    cp = ax.contourf(kz_grid,sz_grid, v)\n",
    "    fig.colorbar(cp) # Add a colorbar to a plot\n",
    "    ax.set_title('M3_subs_det_im')\n",
    "    ax.set_xlabel('kz')\n",
    "    ax.set_ylabel('sz')\n",
    "    plt.show()"
   ]
  },
  {
   "cell_type": "code",
   "execution_count": 290,
   "metadata": {},
   "outputs": [
    {
     "data": {
      "text/plain": [
       "(10.1118680090765, 0.0191585812708410)"
      ]
     },
     "execution_count": 290,
     "metadata": {},
     "output_type": "execute_result"
    }
   ],
   "source": [
    "(250/79*pi + 0.170119105311316).n(), 0.0191585812708410"
   ]
  },
  {
   "cell_type": "code",
   "execution_count": 291,
   "metadata": {},
   "outputs": [
    {
     "data": {
      "image/png": "[encoded data removed]",
      "text/plain": [
       "<Figure size 432x288 with 1 Axes>"
      ]
     },
     "metadata": {
      "needs_background": "light"
     },
     "output_type": "display_data"
    }
   ],
   "source": [
    "if make_investigation_plots:\n",
    "    from mpl_toolkits import mplot3d\n",
    "    import numpy as np\n",
    "    import matplotlib.pyplot as plt\n",
    "    fig = plt.figure()\n",
    "\n",
    "    ax = plt.axes(projection='3d')\n",
    "    ax.set_xlabel('kz')\n",
    "    ax.set_ylabel('sz')\n",
    "    ax.plot_surface(kz_grid, sz_grid, u, cmap='viridis', edgecolor='none')\n",
    "    ax.set_title('M3_subs_det_re')\n",
    "    plt.show()"
   ]
  },
  {
   "cell_type": "code",
   "execution_count": 292,
   "metadata": {},
   "outputs": [
    {
     "data": {
      "image/png": "[encoded data removed]",
      "text/plain": [
       "<Figure size 432x288 with 1 Axes>"
      ]
     },
     "metadata": {
      "needs_background": "light"
     },
     "output_type": "display_data"
    }
   ],
   "source": [
    "if make_investigation_plots:\n",
    "    from mpl_toolkits import mplot3d\n",
    "    import numpy as np\n",
    "    import matplotlib.pyplot as plt\n",
    "    fig = plt.figure()\n",
    "\n",
    "    ax = plt.axes(projection='3d')\n",
    "    ax.set_xlabel('kz')\n",
    "    ax.set_ylabel('sz')\n",
    "    ax.plot_surface(kz_grid, sz_grid, v, cmap='viridis', edgecolor='none')\n",
    "    ax.set_title('M3_subs_det_im')\n",
    "    plt.show()"
   ]
  },
  {
   "cell_type": "code",
   "execution_count": null,
   "metadata": {},
   "outputs": [],
   "source": []
  },
  {
   "cell_type": "code",
   "execution_count": null,
   "metadata": {},
   "outputs": [],
   "source": []
  },
  {
   "cell_type": "code",
   "execution_count": 293,
   "metadata": {},
   "outputs": [],
   "source": [
    "M3_subs_det_re_div_diff_kz_d = M3_subs_det_re_div_diff_kz.subs(digit_values)"
   ]
  },
  {
   "cell_type": "code",
   "execution_count": 294,
   "metadata": {},
   "outputs": [],
   "source": [
    "M3_subs_det_im_div_diff_kz_d = M3_subs_det_im_div_diff_kz.subs(digit_values)"
   ]
  },
  {
   "cell_type": "code",
   "execution_count": 295,
   "metadata": {},
   "outputs": [],
   "source": [
    "M3_subs_det_re_div_diff_sz_d = M3_subs_det_re_div_diff_sz.subs(digit_values)"
   ]
  },
  {
   "cell_type": "code",
   "execution_count": 296,
   "metadata": {},
   "outputs": [],
   "source": [
    "M3_subs_det_im_div_diff_sz_d = M3_subs_det_im_div_diff_sz.subs(digit_values)"
   ]
  },
  {
   "cell_type": "markdown",
   "metadata": {},
   "source": [
    "метод ньютона для комплексной функции от комплексного аргумента\n",
    "комплексная функция представляется в виде двух функций: ее действительной и мнимой частей\n",
    "также мы предварительно должны посчитать все четыре варианта первых производных: действительной компоненты функции от обоих компонент аргумента и также и для мнимой части\n",
    "\n",
    "на вход метода find_newton_complex_root() подается:\n",
    "\n",
    "- выражения для действительной и мнимой частей исследуемой комплексной функции\n",
    "\n",
    "- четыре выражения для отношения каждой компоненты комплексной функции к ее производной по каждой компоненте аргумента\n",
    "\n",
    "- символьное представление действительной и мнимой части аргумента\n",
    "\n",
    "- начальные значения действительной и мнимой части аргумента"
   ]
  },
  {
   "cell_type": "code",
   "execution_count": 297,
   "metadata": {},
   "outputs": [],
   "source": [
    "def find_newton_complex_root(f_re, f_im,\n",
    "                             f_re_div_df_re,\n",
    "                             f_im_div_df_re,\n",
    "                             f_re_div_df_im,\n",
    "                             f_im_div_df_im,\n",
    "                             xre, xim,\n",
    "                             xn_re, xn_im):\n",
    "    print (\"xre\", xre)\n",
    "    print (\"xim\", xim)\n",
    "    print (\"xn_re\", xn_re)\n",
    "    print (\"xn_im\", xn_re)\n",
    "\n",
    "    step_re_im = 0.95\n",
    "    step_im_im = 0.95\n",
    "    step_re_re = 0.95\n",
    "    step_im_re = 0.95\n",
    "    \n",
    "    step_m = 0.8\n",
    "    abs_m = 1.1\n",
    "    \n",
    "    delta_epsilon = 1e-32\n",
    "\n",
    "    f_re_new = f_re.subs(xre == xn_re).subs(xim == xn_im).n()\n",
    "    print(\"\\nf_re_new = \", f_re_new)\n",
    "    \n",
    "    f_im_new = f_im.subs(xre == xn_re).subs(xim == xn_im).n()\n",
    "    print(\"\\nf_im_new = \", f_im_new)\n",
    "\n",
    "    f_abs_2 = f_re_new^2+f_im_new^2\n",
    "            \n",
    "    for i in range(100):\n",
    "        try:\n",
    "            print(\"\\nre_d_re xn = \", xn_re, xn_im, \"step = \", step_re_re)\n",
    "            xn_re_new, delta_re_re = NewtonIt(f_re_div_df_re.subs(xim == xn_im), xre, xn_re, step_re_re)\n",
    "            f_re_new = f_re.subs(xre == xn_re_new).subs(xim == xn_im).n()\n",
    "            f_im_new = f_im.subs(xre == xn_re_new).subs(xim == xn_im).n()\n",
    "            f_abs_2_new = f_re_new^2+f_im_new^2\n",
    "            print(\"f_abs_2_new\", f_abs_2_new)\n",
    "            if f_abs_2_new > abs_m*f_abs_2:\n",
    "                step_re_re *= step_m\n",
    "            else:\n",
    "                xn_re = xn_re_new\n",
    "                f_abs_2 = f_abs_2_new\n",
    "                if step_re_re < 0.9:\n",
    "                    step_re_re /= step_m\n",
    "                print (\"f_new\",f_re_new, f_im_new)\n",
    "        except Exception as ex:\n",
    "            print(ex)\n",
    "\n",
    "        try:\n",
    "            print(\"\\nim_d_re xn = \", xn_re, xn_im, \"step = \", step_im_re)\n",
    "            xn_re_new, delta_im_re = NewtonIt(f_im_div_df_re.subs(xim == xn_im), xre, xn_re, step_im_re)\n",
    "            f_re_new = f_re.subs(xre == xn_re_new).subs(xim == xn_im).n()\n",
    "            f_im_new = f_im.subs(xre == xn_re_new).subs(xim == xn_im).n()\n",
    "            f_abs_2_new = f_re_new^2+f_im_new^2\n",
    "            print(\"f_abs_2_new\", f_abs_2_new)\n",
    "            if f_abs_2_new > abs_m*f_abs_2:\n",
    "                step_im_re *= step_m\n",
    "            else:\n",
    "                xn_re = xn_re_new\n",
    "                f_abs_2 = f_abs_2_new\n",
    "                if step_im_re < 0.9:\n",
    "                    step_im_re /= step_m\n",
    "                print (\"f_new\",f_re_new, f_im_new)\n",
    "        except Exception as ex:\n",
    "            print(ex)\n",
    "\n",
    "        try:\n",
    "            print(\"\\nre_d_im xn = \", xn_re, xn_im, \"step = \", step_re_im)\n",
    "            xn_im_new, delta_re_im = NewtonIt(f_re_div_df_im.subs(xre == xn_re), xim, xn_im, step_re_im)\n",
    "            f_re_new = f_re.subs(xre == xn_re).subs(xim == xn_im_new).n()\n",
    "            f_im_new = f_im.subs(xre == xn_re).subs(xim == xn_im_new).n()\n",
    "            f_abs_2_new = f_re_new^2+f_im_new^2\n",
    "            print(\"f_abs_2_new\", f_abs_2_new)\n",
    "            if f_abs_2_new > abs_m*f_abs_2:\n",
    "                step_re_im *= step_m\n",
    "            else:\n",
    "                xn_im = xn_im_new\n",
    "                f_abs_2 = f_abs_2_new\n",
    "                if step_re_im < 0.9:\n",
    "                    step_re_im /= step_m\n",
    "                print (\"f_new\",f_re_new, f_im_new)\n",
    "        except Exception as ex:\n",
    "            print(ex)\n",
    "\n",
    "        try:\n",
    "            print(\"\\nim_d_im xn = \", xn_re, xn_im, \"step = \", step_im_im)\n",
    "            xn_im_new, delta_im_im = NewtonIt(f_im_div_df_im.subs(xre == xn_re), xim, xn_im, step_im_im)\n",
    "            f_re_new = f_re.subs(xre == xn_re).subs(xim == xn_im_new).n()\n",
    "            f_im_new = f_im.subs(xre == xn_re).subs(xim == xn_im_new).n()\n",
    "            f_abs_2_new = f_re_new^2+f_im_new^2\n",
    "            print(\"f_abs_2_new\", f_abs_2_new)\n",
    "            if f_abs_2_new > abs_m*f_abs_2:\n",
    "                step_im_im *= step_m\n",
    "            else:\n",
    "                xn_im = xn_im_new\n",
    "                f_abs_2 = f_abs_2_new\n",
    "                if step_im_im < 0.9:\n",
    "                    step_im_im /= step_m\n",
    "                print (\"f_new\",f_re_new, f_im_new)\n",
    "            \n",
    "        except Exception as ex:\n",
    "            print(ex)\n",
    "\n",
    "        if abs(delta_re_re) < delta_epsilon and \\\n",
    "           abs(delta_re_im) < delta_epsilon and \\\n",
    "           abs(delta_im_re) < delta_epsilon and \\\n",
    "           abs(delta_im_im) < delta_epsilon:\n",
    "            break\n",
    "\n",
    "    return xn_re, xn_im, f_re_new, f_im_new"
   ]
  },
  {
   "cell_type": "code",
   "execution_count": null,
   "metadata": {},
   "outputs": [],
   "source": []
  },
  {
   "cell_type": "raw",
   "metadata": {},
   "source": [
    "k_z_root = find_newton_complex_root(\n",
    "    M3_subs_det_re_d,\\\n",
    "    M3_subs_det_im_d,\\\n",
    "    M3_subs_det_re_div_diff_kz_d,\\\n",
    "    M3_subs_det_im_div_diff_kz_d,\\\n",
    "    M3_subs_det_re_div_diff_sz_d,\\\n",
    "    M3_subs_det_im_div_diff_sz_d,\\\n",
    "    xre = kz, xim = sz,\\\n",
    "    xn_re = kz_init_sigma0_d, xn_im = kz_init_im)"
   ]
  },
  {
   "cell_type": "markdown",
   "metadata": {},
   "source": [
    "инициализируем метод ньютона значениями найденными на глаз графическим методом"
   ]
  },
  {
   "cell_type": "code",
   "execution_count": 298,
   "metadata": {},
   "outputs": [
    {
     "name": "stdout",
     "output_type": "stream",
     "text": [
      "xre kz\n",
      "xim sz\n",
      "xn_re 1.10000000000000\n",
      "xn_im 1.10000000000000\n",
      "\n",
      "f_re_new =  -35789.7101387305\n",
      "\n",
      "f_im_new =  -9775.62049323455\n",
      "\n",
      "re_d_re xn =  1.10000000000000 0.124000000000000 step =  0.950000000000000\n",
      "xn 1.10000000000000\n",
      "delta 0.458178150719778\n",
      "f_abs_2_new 1.50211879806935e8\n",
      "f_new -11310.0256194298 -4721.77935685010\n",
      "\n",
      "im_d_re xn =  0.664730756816211 0.124000000000000 step =  0.950000000000000\n",
      "xn 0.664730756816211\n",
      "delta 0.522136710447418\n",
      "f_abs_2_new 1.20491842638317e6\n",
      "f_new -320.383635026582 -1049.89178146623\n",
      "\n",
      "re_d_im xn =  0.168700881891164 0.124000000000000 step =  0.950000000000000\n",
      "xn 0.124000000000000\n",
      "delta -0.0505294673123854\n",
      "f_abs_2_new 2.10274093640237e6\n",
      "\n",
      "im_d_im xn =  0.168700881891164 0.124000000000000 step =  0.950000000000000\n",
      "xn 0.124000000000000\n",
      "delta 0.125273768495685\n",
      "f_abs_2_new 511340.467727050\n",
      "f_new -713.822271635041 -42.4055685593248\n",
      "\n",
      "re_d_re xn =  0.168700881891164 0.00498991992909907 step =  0.950000000000000\n",
      "xn 0.168700881891164\n",
      "delta 0.0838765829774110\n",
      "f_abs_2_new 39541.7556584687\n",
      "f_new -197.603994110687 -22.2354934726498\n",
      "\n",
      "im_d_re xn =  0.0890181280626235 0.00498991992909907 step =  0.950000000000000\n",
      "xn 0.0890181280626235\n",
      "delta 0.0885932795814691\n",
      "f_abs_2_new 1.45738103675936\n",
      "f_new 0.0628582453367103 -1.20558279589274\n",
      "\n",
      "re_d_im xn =  0.00485451246022783 0.00498991992909907 step =  0.760000000000000\n",
      "xn 0.00498991992909907\n",
      "delta 0.000252094213742700\n",
      "f_abs_2_new 1.34377143719660\n",
      "f_new 0.0160031599950718 -1.15910108966680\n",
      "\n",
      "im_d_im xn =  0.00485451246022783 0.00479832832665462 step =  0.950000000000000\n",
      "xn 0.00479832832665462\n",
      "delta 0.00477766828352547\n",
      "f_abs_2_new 0.314192771451532\n",
      "f_new -0.557522362094234 -0.0579791964104186\n",
      "\n",
      "re_d_re xn =  0.00485451246022783 0.000259543457305424 step =  0.950000000000000\n",
      "xn 0.00485451246022783\n",
      "delta 0.00229815330678641\n",
      "f_abs_2_new 0.0224840024376459\n",
      "f_new -0.146977048115517 -0.0296942715838382\n",
      "\n",
      "im_d_re xn =  0.00267126681878074 0.000259543457305424 step =  0.950000000000000\n",
      "xn 0.00267126681878074\n",
      "delta 0.00229128651343762\n",
      "f_abs_2_new 0.000637644296827591\n",
      "f_new 0.0252084744499838 -0.00147550422978249\n",
      "\n",
      "re_d_im xn =  0.000494544631015004 0.000259543457305424 step =  0.950000000000000\n",
      "xn 0.000259543457305424\n",
      "delta 0.00194387857113488\n",
      "f_abs_2_new 0.00942697916798108\n",
      "\n",
      "im_d_im xn =  0.000494544631015004 0.000259543457305424 step =  0.950000000000000\n",
      "xn 0.000259543457305424\n",
      "delta 0.0000597014031910967\n",
      "f_abs_2_new 0.000602872152310122\n",
      "f_new 0.0245533441428367 -0.0000737815258062297\n",
      "\n",
      "re_d_re xn =  0.000494544631015004 0.000202827124273882 step =  0.950000000000000\n",
      "xn 0.000494544631015004\n",
      "delta -0.000993478891453352\n",
      "f_abs_2_new 0.000535094928607508\n",
      "f_new -0.0210293649788629 -0.00963642761573416\n",
      "\n",
      "im_d_re xn =  0.00143834957789569 0.000202827124273882 step =  0.950000000000000\n",
      "xn 0.00143834957789569\n",
      "delta 0.000951260422125461\n",
      "f_abs_2_new 0.000553510976671564\n",
      "f_new 0.0235219123942783 -0.000480222851872915\n",
      "\n",
      "re_d_im xn =  0.000534652176876501 0.000202827124273882 step =  0.760000000000000\n",
      "xn 0.000202827124273882\n",
      "delta 0.00232115548157137\n",
      "f_abs_2_new 0.00913189879387542\n",
      "\n",
      "im_d_im xn =  0.000534652176876501 0.000202827124273882 step =  0.950000000000000\n",
      "xn 0.000202827124273882\n",
      "delta 0.0000179732251353217\n",
      "f_abs_2_new 0.000545511173310698\n",
      "f_new 0.0233561682805258 -0.0000240117150731877\n",
      "\n",
      "re_d_re xn =  0.000534652176876501 0.000185752560395326 step =  0.950000000000000\n",
      "xn 0.000534652176876501\n",
      "delta -0.000874149830120498\n",
      "f_abs_2_new 0.000317786158542944\n",
      "f_new -0.0160636374683380 -0.00772953490377994\n",
      "\n",
      "im_d_re xn =  0.00136509451549097 0.000185752560395326 step =  0.950000000000000\n",
      "xn 0.00136509451549097\n",
      "delta 0.000833176201775032\n",
      "f_abs_2_new 0.000496470411917364\n",
      "\n",
      "re_d_im xn =  0.00136509451549097 0.000185752560395326 step =  0.608000000000000\n",
      "xn 0.000185752560395326\n",
      "delta -0.00173151950527118\n",
      "f_abs_2_new 0.00678586964948523\n",
      "\n",
      "im_d_im xn =  0.00136509451549097 0.000185752560395326 step =  0.950000000000000\n",
      "xn 0.000185752560395326\n",
      "delta 0.000113306093516306\n",
      "f_abs_2_new 0.000281474055306523\n",
      "f_new -0.0167727360168156 -0.000386499439507748\n",
      "\n",
      "re_d_re xn =  0.00136509451549097 0.0000781117715548350 step =  0.950000000000000\n",
      "xn 0.00136509451549097\n",
      "delta 0.000245870543794186\n",
      "f_abs_2_new 5.12283017094118e-6\n",
      "f_new -0.00220184879819622 0.000524110714279935\n",
      "\n",
      "im_d_re xn =  0.00113151749888650 0.0000781117715548350 step =  0.760000000000000\n",
      "xn 0.00113151749888650\n",
      "delta -0.000134421751791050\n",
      "f_abs_2_new 0.0000679022324955366\n",
      "\n",
      "re_d_im xn =  0.00113151749888650 0.0000781117715548350 step =  0.486400000000000\n",
      "xn 0.0000781117715548350\n",
      "delta -0.000564721087680976\n",
      "f_abs_2_new 0.000225806410414080\n",
      "\n",
      "im_d_im xn =  0.00113151749888650 0.0000781117715548350 step =  0.950000000000000\n",
      "xn 0.0000781117715548350\n",
      "delta -9.26886923738609e-6\n",
      "f_abs_2_new 4.69041952827528e-6\n",
      "f_new -0.00216557909256522 0.0000262053834099831\n",
      "\n",
      "re_d_re xn =  0.00113151749888650 0.0000869171973303518 step =  0.950000000000000\n",
      "xn 0.00113151749888650\n",
      "delta 0.0000382981240526321\n",
      "f_abs_2_new 5.38650223187984e-8\n",
      "f_new -0.000141354363518893 0.000184075979511089\n",
      "\n",
      "im_d_re xn =  0.00109513428103650 0.0000869171973303518 step =  0.608000000000000\n",
      "xn 0.00109513428103650\n",
      "delta -0.0000424218716742487\n",
      "f_abs_2_new 2.46861931613392e-6\n",
      "\n",
      "re_d_im xn =  0.00109513428103650 0.0000869171973303518 step =  0.389120000000000\n",
      "xn 0.0000869171973303518\n",
      "delta -0.0000325763127032640\n",
      "f_abs_2_new 2.66523000571750e-7\n",
      "\n",
      "im_d_im xn =  0.00109513428103650 0.0000869171973303518 step =  0.950000000000000\n",
      "xn 0.0000869171973303518\n",
      "delta -3.36352296270374e-6\n",
      "f_abs_2_new 1.62732190416703e-8\n",
      "f_new -0.000127234073640727 9.20377892261358e-6\n",
      "\n",
      "re_d_re xn =  0.00109513428103650 0.0000901125441449204 step =  0.950000000000000\n",
      "xn 0.00109513428103650\n",
      "delta 2.32488036359732e-6\n",
      "f_abs_2_new 4.08381364158000e-10\n",
      "f_new -6.48358900490006e-6 0.0000191401263782019\n",
      "\n",
      "im_d_re xn =  0.00109292564469108 0.0000901125441449204 step =  0.486400000000000\n",
      "xn 0.00109292564469108\n",
      "delta -4.25443435852647e-6\n",
      "f_abs_2_new 1.44037122849255e-8\n",
      "\n",
      "re_d_im xn =  0.00109292564469108 0.0000901125441449204 step =  0.311296000000000\n",
      "xn 0.0000901125441449204\n",
      "delta -1.44116100848535e-6\n",
      "f_abs_2_new 4.86498768831088e-11\n",
      "f_new -4.46024475847200e-6 -5.36247084632000e-6\n",
      "\n",
      "im_d_im xn =  0.00109292564469108 0.0000905611718022178 step =  0.950000000000000\n",
      "xn 0.0000905611718022178\n",
      "delta 9.81835791687144e-8\n",
      "f_abs_2_new 2.39033484493008e-11\n",
      "f_new -4.88174745414000e-6 -2.68123559760180e-7\n",
      "\n",
      "re_d_re xn =  0.00109292564469108 0.0000904678974020075 step =  0.950000000000000\n",
      "xn 0.00109292564469108\n",
      "delta 8.93818268692691e-8\n",
      "f_abs_2_new 7.29826952234182e-14\n",
      "f_new -2.44267528074827e-7 1.15395276990143e-7\n",
      "\n",
      "im_d_re xn =  0.00109284073195555 0.0000904678974020075 step =  0.389120000000000\n",
      "xn 0.00109284073195555\n",
      "delta -2.55490146370957e-8\n",
      "f_abs_2_new 6.24665270655187e-13\n",
      "\n",
      "re_d_im xn =  0.00109284073195555 0.0000904678974020075 step =  0.389120000000000\n",
      "xn 0.0000904678974020075\n",
      "delta -5.40818889044699e-8\n",
      "f_abs_2_new 1.09119074112298e-12\n",
      "\n",
      "im_d_im xn =  0.00109284073195555 0.0000904678974020075 step =  0.950000000000000\n",
      "xn 0.0000904678974020075\n",
      "delta -2.11298152407759e-9\n",
      "f_abs_2_new 5.53528302391787e-14\n",
      "f_new -2.35201063070178e-7 5.76976341254117e-9\n",
      "\n",
      "re_d_re xn =  0.00109284073195555 0.0000904699047344554 step =  0.950000000000000\n",
      "xn 0.00109284073195555\n",
      "delta 4.30672301117962e-9\n",
      "f_abs_2_new 7.26343435615312e-16\n",
      "f_new -1.17604707805943e-8 2.42494280888045e-8\n",
      "\n",
      "im_d_re xn =  0.00109283664056869 0.0000904699047344554 step =  0.311296000000000\n",
      "xn 0.00109283664056869\n",
      "delta -5.36880906523564e-9\n",
      "f_abs_2_new 1.08948180412921e-14\n",
      "\n",
      "re_d_im xn =  0.00109283664056869 0.0000904699047344554 step =  0.311296000000000\n",
      "xn 0.0000904699047344554\n",
      "delta -2.60376123431757e-9\n",
      "f_abs_2_new 4.66244707559193e-16\n",
      "f_new -8.09946881175842e-9 -2.00160763519364e-8\n",
      "\n",
      "im_d_im xn =  0.00109283664056869 0.0000904707152749126 step =  0.950000000000000\n",
      "xn 0.0000904707152749126\n",
      "delta 3.66512025059161e-10\n",
      "f_abs_2_new 9.45519261209218e-17\n",
      "f_new -9.67214125075261e-9 -1.00080454955581e-9\n",
      "\n",
      "re_d_re xn =  0.00109283664056869 0.0000904703670884888 step =  0.950000000000000\n",
      "xn 0.00109283664056869\n",
      "delta 1.77105407904738e-10\n",
      "f_abs_2_new 2.91891621294544e-19\n",
      "f_new -4.83609112391509e-10 -2.40860639595681e-10\n",
      "\n",
      "im_d_re xn =  0.00109283647231856 0.0000904703670884888 step =  0.249036800000000\n"
     ]
    },
    {
     "name": "stdout",
     "output_type": "stream",
     "text": [
      "xn 0.00109283647231856\n",
      "delta 5.33259449579605e-11\n",
      "f_abs_2_new 9.11115666393343e-20\n",
      "f_new 2.41650207659137e-10 -1.80877703926244e-10\n",
      "\n",
      "re_d_im xn =  0.00109283645903843 0.0000904703670884888 step =  0.389120000000000\n",
      "xn 0.0000904703670884888\n",
      "delta 5.35003852210956e-11\n",
      "f_abs_2_new 9.35815820599783e-19\n",
      "\n",
      "im_d_im xn =  0.00109283645903843 0.0000904703670884888 step =  0.950000000000000\n",
      "xn 0.0000904703670884888\n",
      "delta 3.31204133095947e-12\n",
      "f_abs_2_new 5.18098936234951e-20\n",
      "f_new 2.27438159642225e-10 -9.04307260021677e-12\n",
      "\n",
      "re_d_re xn =  0.00109283645903843 0.0000904703639420495 step =  0.950000000000000\n",
      "xn 0.00109283645903843\n",
      "delta -4.16459003447273e-12\n",
      "f_abs_2_new 8.53653618919365e-22\n",
      "f_new 1.13729602703058e-11 -2.69129967415264e-11\n",
      "\n",
      "im_d_re xn =  0.00109283646299479 0.0000904703639420495 step =  0.311296000000000\n",
      "xn 0.00109283646299479\n",
      "delta 5.95865170440031e-12\n",
      "f_abs_2_new 1.30386997565261e-20\n",
      "\n",
      "re_d_im xn =  0.00109283646299479 0.0000904703639420495 step =  0.311296000000000\n",
      "xn 0.0000904703639420495\n",
      "delta 2.51733054809114e-12\n",
      "f_abs_2_new 3.13592058365046e-22\n",
      "f_new 7.83195730491570e-12 1.58824589764628e-11\n",
      "\n",
      "im_d_im xn =  0.00109283646299479 0.0000904703631584146 step =  0.950000000000000\n",
      "xn 0.0000904703631584146\n",
      "delta -2.90833678385513e-13\n",
      "f_abs_2_new 8.31117214630530e-23\n",
      "f_new 9.08187921025948e-12 7.94475596421762e-13\n",
      "\n",
      "re_d_re xn =  0.00109283646299479 0.0000904703634347066 step =  0.950000000000000\n",
      "xn 0.00109283646299479\n",
      "delta -1.66281482732782e-13\n",
      "f_abs_2_new 2.12997260388120e-25\n",
      "f_new 4.54383872108138e-13 8.08242361927114e-14\n",
      "\n",
      "im_d_re xn =  0.00109283646315276 0.0000904703634347066 step =  0.249036800000000\n",
      "xn 0.00109283646315276\n",
      "delta -1.80270233826841e-14\n",
      "f_abs_2_new 4.68124098961644e-26\n",
      "f_new 2.07833750209829e-13 6.01460070984161e-14\n",
      "\n",
      "re_d_im xn =  0.00109283646315725 0.0000904703634347066 step =  0.389120000000000\n",
      "xn 0.0000904703634347066\n",
      "delta 4.57609055098259e-14\n",
      "f_abs_2_new 1.08334554128149e-24\n",
      "\n",
      "im_d_im xn =  0.00109283646315725 0.0000904703634347066 step =  0.950000000000000\n",
      "xn 0.0000904703634347066\n",
      "delta -1.09774606096769e-15\n",
      "f_abs_2_new 4.56504560347145e-26\n",
      "f_new 2.13633620116020e-13 3.33652376560689e-15\n",
      "\n",
      "re_d_re xn =  0.00109283646315725 0.0000904703634357495 step =  0.950000000000000\n",
      "xn 0.00109283646315725\n",
      "delta -3.87265407288118e-15\n",
      "f_abs_2_new 3.07941386522794e-28\n",
      "f_new 1.14977471987743e-14 -1.32568169586772e-14\n",
      "\n",
      "im_d_re xn =  0.00109283646316093 0.0000904703634357495 step =  0.311296000000000\n",
      "xn 0.00109283646316093\n",
      "delta 3.03355833248800e-15\n",
      "f_abs_2_new 4.16946520763054e-27\n",
      "\n",
      "re_d_im xn =  0.00109283646316093 0.0000904703634357495 step =  0.311296000000000\n",
      "xn 0.0000904703634357495\n",
      "delta 2.38180060290042e-15\n",
      "f_abs_2_new 8.11713952513371e-28\n",
      "\n",
      "im_d_im xn =  0.00109283646316093 0.0000904703634357495 step =  0.950000000000000\n",
      "xn 0.0000904703634357495\n",
      "delta 2.50892363223887e-16\n",
      "f_abs_2_new 1.38426480264261e-28\n",
      "f_new 1.17651897821026e-14 8.23993651088983e-17\n",
      "\n",
      "re_d_re xn =  0.00109283646316093 0.0000904703634355111 step =  0.950000000000000\n",
      "xn 0.00109283646316093\n",
      "delta -2.09663948623724e-16\n",
      "f_abs_2_new 1.05652344409346e-30\n",
      "f_new -4.81385764583564e-17 -1.02674540249763e-15\n",
      "\n",
      "im_d_re xn =  0.00109283646316113 0.0000904703634355111 step =  0.249036800000000\n",
      "xn 0.00109283646316113\n",
      "delta 3.22632293211207e-16\n",
      "f_abs_2_new 1.49338137055298e-29\n",
      "\n",
      "re_d_im xn =  0.00109283646316113 0.0000904703634355111 step =  0.249036800000000\n",
      "xn 0.0000904703634355111\n",
      "delta -1.60246226481896e-16\n",
      "f_abs_2_new 1.00484642381972e-29\n",
      "\n",
      "im_d_im xn =  0.00109283646316113 0.0000904703634355111 step =  0.950000000000000\n",
      "xn 0.0000904703634355111\n",
      "delta 2.66835081524618e-17\n",
      "f_abs_2_new 1.73790007551318e-30\n",
      "\n",
      "re_d_re xn =  0.00109283646316113 0.0000904703634355111 step =  0.950000000000000\n",
      "xn 0.00109283646316113\n",
      "delta 1.32532656547775e-17\n",
      "f_abs_2_new 1.10766842623487e-30\n",
      "f_new -4.81385764583564e-17 -1.05135679181305e-15\n",
      "\n",
      "im_d_re xn =  0.00109283646316112 0.0000904703634355111 step =  0.199229440000000\n",
      "xn 0.00109283646316112\n",
      "delta 2.12491224868324e-16\n",
      "f_abs_2_new 1.93456435172628e-29\n",
      "\n",
      "re_d_im xn =  0.00109283646316112 0.0000904703634355111 step =  0.199229440000000\n",
      "xn 0.0000904703634355111\n",
      "delta -1.60246226482086e-16\n",
      "f_abs_2_new 9.46101121087871e-30\n",
      "\n",
      "im_d_im xn =  0.00109283646316112 0.0000904703634355111 step =  0.760000000000000\n",
      "xn 0.0000904703634355111\n",
      "delta 1.75742213362152e-17\n",
      "f_abs_2_new 1.10838440588229e-30\n",
      "f_new 4.70652666001770e-16 -9.41738007020909e-16\n",
      "\n",
      "re_d_re xn =  0.00109283646316112 0.0000904703634354978 step =  0.950000000000000\n",
      "xn 0.00109283646316112\n",
      "delta 7.60613222005086e-18\n",
      "f_abs_2_new 9.52613405800020e-31\n",
      "f_new 2.19303900577219e-16 -9.51062145704284e-16\n",
      "\n",
      "im_d_re xn =  0.00109283646316111 0.0000904703634354978 step =  0.159383552000000\n",
      "xn 0.00109283646316111\n",
      "delta -2.68581703540052e-17\n",
      "f_abs_2_new 1.13634918017071e-30\n",
      "\n",
      "re_d_im xn =  0.00109283646316111 0.0000904703634354978 step =  0.159383552000000\n",
      "xn 0.0000904703634354978\n",
      "delta -7.32286293906192e-18\n",
      "f_abs_2_new 1.10070174484710e-30\n",
      "\n",
      "im_d_im xn =  0.00109283646316111 0.0000904703634354978 step =  0.950000000000000\n",
      "xn 0.0000904703634354978\n",
      "delta -2.22132199002614e-18\n",
      "f_abs_2_new 1.15187327987361e-30\n",
      "\n",
      "re_d_re xn =  0.00109283646316111 0.0000904703634354978 step =  0.950000000000000\n",
      "xn 0.00109283646316111\n",
      "delta 6.05642017384833e-19\n",
      "f_abs_2_new 2.09235642862810e-30\n",
      "\n",
      "im_d_re xn =  0.00109283646316111 0.0000904703634354978 step =  0.127506841600000\n",
      "xn 0.00109283646316111\n",
      "delta -2.68581703540052e-17\n",
      "f_abs_2_new 1.13993119298698e-30\n",
      "\n",
      "re_d_im xn =  0.00109283646316111 0.0000904703634354978 step =  0.127506841600000\n",
      "xn 0.0000904703634354978\n",
      "delta -7.32286293906192e-18\n",
      "f_abs_2_new 1.10104253857596e-30\n",
      "\n",
      "im_d_im xn =  0.00109283646316111 0.0000904703634354978 step =  0.760000000000000\n",
      "xn 0.0000904703634354978\n",
      "delta -2.22132199002614e-18\n",
      "f_abs_2_new 1.15222204216502e-30\n",
      "\n",
      "re_d_re xn =  0.00109283646316111 0.0000904703634354978 step =  0.760000000000000\n",
      "xn 0.00109283646316111\n",
      "delta 6.05642017384833e-19\n",
      "f_abs_2_new 1.10325099985566e-30\n",
      "\n",
      "im_d_re xn =  0.00109283646316111 0.0000904703634354978 step =  0.102005473280000\n",
      "xn 0.00109283646316111\n",
      "delta -2.68581703540052e-17\n",
      "f_abs_2_new 9.52613452239439e-31\n",
      "f_new 2.19304006456338e-16 -9.51062145704284e-16\n",
      "\n",
      "re_d_im xn =  0.00109283646316111 0.0000904703634354978 step =  0.102005473280000\n",
      "xn 0.0000904703634354978\n",
      "delta 2.23792835227511e-16\n",
      "f_abs_2_new 1.99856345553961e-30\n",
      "\n",
      "im_d_im xn =  0.00109283646316111 0.0000904703634354978 step =  0.608000000000000\n",
      "xn 0.0000904703634354978\n",
      "delta -2.20265541868138e-18\n",
      "f_abs_2_new 1.17577942821937e-30\n",
      "\n",
      "re_d_re xn =  0.00109283646316111 0.0000904703634354978 step =  0.608000000000000\n",
      "xn 0.00109283646316111\n",
      "delta -1.85089281789639e-17\n",
      "f_abs_2_new 3.64471368291687e-31\n",
      "f_new -4.81385764583564e-17 -6.01792360991937e-16\n",
      "\n",
      "im_d_re xn =  0.00109283646316112 0.0000904703634354978 step =  0.127506841600000\n",
      "xn 0.00109283646316112\n",
      "delta 9.57484633925563e-17\n",
      "f_abs_2_new 1.14606836266692e-30\n",
      "\n",
      "re_d_im xn =  0.00109283646316112 0.0000904703634354978 step =  0.0816043786240001\n",
      "xn 0.0000904703634354978\n",
      "delta -1.60246226482183e-16\n",
      "f_abs_2_new 3.54814888847821e-31\n",
      "f_new -4.81385764583564e-17 -5.93715054806920e-16\n",
      "\n",
      "im_d_im xn =  0.00109283646316112 0.0000904703634355108 step =  0.486400000000000\n",
      "xn 0.0000904703634355108\n",
      "delta 1.73280559266090e-17\n",
      "f_abs_2_new 1.06443611448082e-30\n",
      "\n",
      "re_d_re xn =  0.00109283646316112 0.0000904703634355108 step =  0.760000000000000\n",
      "xn 0.00109283646316112\n",
      "delta 1.32532656547778e-17\n",
      "f_abs_2_new 1.11989882332175e-30\n",
      "\n",
      "im_d_re xn =  0.00109283646316112 0.0000904703634355108 step =  0.102005473280000\n",
      "xn 0.00109283646316112\n",
      "delta 2.09514820485769e-16\n",
      "f_abs_2_new 9.98688065055540e-30\n",
      "\n",
      "re_d_im xn =  0.00109283646316112 0.0000904703634355108 step =  0.102005473280000\n",
      "xn 0.0000904703634355108\n",
      "delta -1.60246226481936e-16\n",
      "f_abs_2_new 7.07265947263865e-30\n",
      "\n",
      "im_d_im xn =  0.00109283646316112 0.0000904703634355108 step =  0.389120000000000\n",
      "xn 0.0000904703634355108\n",
      "delta 1.73280559266090e-17\n",
      "f_abs_2_new 6.70449483636730e-31\n",
      "\n",
      "re_d_re xn =  0.00109283646316112 0.0000904703634355108 step =  0.608000000000000\n",
      "xn 0.00109283646316112\n",
      "delta 1.32532656547778e-17\n",
      "f_abs_2_new 1.88946408858170e-30\n",
      "\n",
      "im_d_re xn =  0.00109283646316112 0.0000904703634355108 step =  0.0816043786240001\n"
     ]
    },
    {
     "name": "stdout",
     "output_type": "stream",
     "text": [
      "xn 0.00109283646316112\n",
      "delta 2.09514820485769e-16\n",
      "f_abs_2_new 1.14954954974941e-30\n",
      "\n",
      "re_d_im xn =  0.00109283646316112 0.0000904703634355108 step =  0.0816043786240001\n",
      "xn 0.0000904703634355108\n",
      "delta -1.60246226481936e-16\n",
      "f_abs_2_new 2.78543968370382e-30\n",
      "\n",
      "im_d_im xn =  0.00109283646316112 0.0000904703634355108 step =  0.311296000000000\n",
      "xn 0.0000904703634355108\n",
      "delta 1.73280559266090e-17\n",
      "f_abs_2_new 1.08645537284799e-30\n",
      "\n",
      "re_d_re xn =  0.00109283646316112 0.0000904703634355108 step =  0.486400000000000\n",
      "xn 0.00109283646316112\n",
      "delta 1.32532656547778e-17\n",
      "f_abs_2_new 1.89170498994462e-30\n",
      "\n",
      "im_d_re xn =  0.00109283646316112 0.0000904703634355108 step =  0.0652835028992001\n",
      "xn 0.00109283646316112\n",
      "delta 2.09514820485769e-16\n",
      "f_abs_2_new 1.88330965461631e-30\n",
      "\n",
      "re_d_im xn =  0.00109283646316112 0.0000904703634355108 step =  0.0652835028992001\n",
      "xn 0.0000904703634355108\n",
      "delta -1.60246226481936e-16\n",
      "f_abs_2_new 4.56501662682291e-30\n",
      "\n",
      "im_d_im xn =  0.00109283646316112 0.0000904703634355108 step =  0.249036800000000\n",
      "xn 0.0000904703634355108\n",
      "delta 1.73280559266090e-17\n",
      "f_abs_2_new 1.08510112509129e-30\n",
      "\n",
      "re_d_re xn =  0.00109283646316112 0.0000904703634355108 step =  0.389120000000000\n",
      "xn 0.00109283646316112\n",
      "delta 1.32532656547778e-17\n",
      "f_abs_2_new 1.07030459294017e-30\n",
      "\n",
      "im_d_re xn =  0.00109283646316112 0.0000904703634355108 step =  0.0522268023193600\n",
      "xn 0.00109283646316112\n",
      "delta 2.09514820485769e-16\n",
      "f_abs_2_new 3.18211173747596e-30\n",
      "\n",
      "re_d_im xn =  0.00109283646316112 0.0000904703634355108 step =  0.0522268023193600\n",
      "xn 0.0000904703634355108\n",
      "delta -1.60246226481936e-16\n",
      "f_abs_2_new 1.47370416054582e-30\n",
      "\n",
      "im_d_im xn =  0.00109283646316112 0.0000904703634355108 step =  0.199229440000000\n",
      "xn 0.0000904703634355108\n",
      "delta 1.73280559266090e-17\n",
      "f_abs_2_new 1.61745816504713e-30\n",
      "\n",
      "re_d_re xn =  0.00109283646316112 0.0000904703634355108 step =  0.311296000000000\n",
      "xn 0.00109283646316112\n",
      "delta 1.32532656547778e-17\n",
      "f_abs_2_new 1.09595880511105e-30\n",
      "\n",
      "im_d_re xn =  0.00109283646316112 0.0000904703634355108 step =  0.0417814418554880\n",
      "xn 0.00109283646316112\n",
      "delta 2.09514820485769e-16\n",
      "f_abs_2_new 1.88722460465032e-30\n",
      "\n",
      "re_d_im xn =  0.00109283646316112 0.0000904703634355108 step =  0.0417814418554880\n",
      "xn 0.0000904703634355108\n",
      "delta -1.60246226481936e-16\n",
      "f_abs_2_new 1.77405809352355e-30\n",
      "\n",
      "im_d_im xn =  0.00109283646316112 0.0000904703634355108 step =  0.159383552000000\n",
      "xn 0.0000904703634355108\n",
      "delta 1.73280559266090e-17\n",
      "f_abs_2_new 1.66314047696399e-30\n",
      "\n",
      "re_d_re xn =  0.00109283646316112 0.0000904703634355108 step =  0.249036800000000\n",
      "xn 0.00109283646316112\n",
      "delta 1.32532656547778e-17\n",
      "f_abs_2_new 1.09255996140784e-30\n",
      "\n",
      "im_d_re xn =  0.00109283646316112 0.0000904703634355108 step =  0.0334251534843904\n",
      "xn 0.00109283646316112\n",
      "delta 2.09514820485769e-16\n",
      "f_abs_2_new 3.49742071322277e-30\n",
      "\n",
      "re_d_im xn =  0.00109283646316112 0.0000904703634355108 step =  0.0334251534843904\n",
      "xn 0.0000904703634355108\n",
      "delta -1.60246226481936e-16\n",
      "f_abs_2_new 1.07272662515695e-30\n",
      "\n",
      "im_d_im xn =  0.00109283646316112 0.0000904703634355108 step =  0.127506841600000\n",
      "xn 0.0000904703634355108\n",
      "delta 1.73280559266090e-17\n",
      "f_abs_2_new 8.47225399537429e-31\n",
      "\n",
      "re_d_re xn =  0.00109283646316112 0.0000904703634355108 step =  0.199229440000000\n",
      "xn 0.00109283646316112\n",
      "delta 1.32532656547778e-17\n",
      "f_abs_2_new 1.84625133753170e-30\n",
      "\n",
      "im_d_re xn =  0.00109283646316112 0.0000904703634355108 step =  0.0267401227875124\n",
      "xn 0.00109283646316112\n",
      "delta 2.09514820485769e-16\n",
      "f_abs_2_new 1.88890369970534e-30\n",
      "\n",
      "re_d_im xn =  0.00109283646316112 0.0000904703634355108 step =  0.0267401227875124\n",
      "xn 0.0000904703634355108\n",
      "delta -1.60246226481936e-16\n",
      "f_abs_2_new 3.92012486183623e-30\n",
      "\n",
      "im_d_im xn =  0.00109283646316112 0.0000904703634355108 step =  0.102005473280000\n",
      "xn 0.0000904703634355108\n",
      "delta 1.73280559266090e-17\n",
      "f_abs_2_new 1.08171920850673e-30\n",
      "\n",
      "re_d_re xn =  0.00109283646316112 0.0000904703634355108 step =  0.159383552000000\n",
      "xn 0.00109283646316112\n",
      "delta 1.32532656547778e-17\n",
      "f_abs_2_new 1.45059675859210e-30\n",
      "\n",
      "im_d_re xn =  0.00109283646316112 0.0000904703634355108 step =  0.0213920982300099\n",
      "xn 0.00109283646316112\n",
      "delta 2.09514820485769e-16\n",
      "f_abs_2_new 9.41065645504728e-31\n",
      "\n",
      "re_d_im xn =  0.00109283646316112 0.0000904703634355108 step =  0.0213920982300099\n",
      "xn 0.0000904703634355108\n",
      "delta -1.60246226481936e-16\n",
      "f_abs_2_new 1.07485895770764e-30\n",
      "\n",
      "im_d_im xn =  0.00109283646316112 0.0000904703634355108 step =  0.0816043786240001\n",
      "xn 0.0000904703634355108\n",
      "delta 1.73280559266090e-17\n",
      "f_abs_2_new 1.05919518829804e-30\n",
      "\n",
      "re_d_re xn =  0.00109283646316112 0.0000904703634355108 step =  0.127506841600000\n",
      "xn 0.00109283646316112\n",
      "delta 1.32532656547778e-17\n",
      "f_abs_2_new 9.42537430376859e-31\n",
      "\n",
      "im_d_re xn =  0.00109283646316112 0.0000904703634355108 step =  0.0171136785840079\n",
      "xn 0.00109283646316112\n",
      "delta 2.09514820485769e-16\n",
      "f_abs_2_new 3.63297884188800e-31\n",
      "f_new -4.81385764583564e-17 -6.00816579036700e-16\n",
      "\n",
      "re_d_im xn =  0.00109283646316112 0.0000904703634355108 step =  0.0171136785840079\n",
      "xn 0.0000904703634355108\n",
      "delta -1.60246226481970e-16\n",
      "f_abs_2_new 2.24132181714482e-30\n",
      "\n",
      "im_d_im xn =  0.00109283646316112 0.0000904703634355108 step =  0.0652835028992001\n",
      "xn 0.0000904703634355108\n",
      "delta 1.74575552653126e-17\n",
      "f_abs_2_new 1.09550532032210e-30\n",
      "\n",
      "re_d_re xn =  0.00109283646316112 0.0000904703634355108 step =  0.102005473280000\n",
      "xn 0.00109283646316112\n",
      "delta 1.32532656547784e-17\n",
      "f_abs_2_new 1.89058400237896e-30\n",
      "\n",
      "im_d_re xn =  0.00109283646316112 0.0000904703634355108 step =  0.0213920982300099\n",
      "xn 0.00109283646316112\n",
      "delta 2.11080606677586e-16\n",
      "f_abs_2_new 3.18436893240933e-30\n",
      "\n",
      "re_d_im xn =  0.00109283646316112 0.0000904703634355108 step =  0.0136909428672063\n",
      "xn 0.0000904703634355108\n",
      "delta -1.60246226481970e-16\n",
      "f_abs_2_new 1.09154133979317e-30\n",
      "\n",
      "im_d_im xn =  0.00109283646316112 0.0000904703634355108 step =  0.0522268023193600\n",
      "xn 0.0000904703634355108\n",
      "delta 1.74575552653126e-17\n",
      "f_abs_2_new 1.09539196381853e-30\n",
      "\n",
      "re_d_re xn =  0.00109283646316112 0.0000904703634355108 step =  0.0816043786240001\n",
      "xn 0.00109283646316112\n",
      "delta 1.32532656547784e-17\n",
      "f_abs_2_new 1.09856816760255e-30\n",
      "\n",
      "im_d_re xn =  0.00109283646316112 0.0000904703634355108 step =  0.0171136785840079\n",
      "xn 0.00109283646316112\n",
      "delta 2.11080606677586e-16\n",
      "f_abs_2_new 2.50604610459976e-30\n",
      "\n",
      "re_d_im xn =  0.00109283646316112 0.0000904703634355108 step =  0.0109527542937651\n",
      "xn 0.0000904703634355108\n",
      "delta -1.60246226481970e-16\n",
      "f_abs_2_new 1.06590748558943e-30\n",
      "\n",
      "im_d_im xn =  0.00109283646316112 0.0000904703634355108 step =  0.0417814418554880\n",
      "xn 0.0000904703634355108\n",
      "delta 1.74575552653126e-17\n",
      "f_abs_2_new 1.79174711227496e-30\n",
      "\n",
      "re_d_re xn =  0.00109283646316112 0.0000904703634355108 step =  0.0652835028992001\n",
      "xn 0.00109283646316112\n",
      "delta 1.32532656547784e-17\n",
      "f_abs_2_new 9.41065645504728e-31\n",
      "\n",
      "im_d_re xn =  0.00109283646316112 0.0000904703634355108 step =  0.0136909428672063\n",
      "xn 0.00109283646316112\n",
      "delta 2.11080606677586e-16\n",
      "f_abs_2_new 1.89170498994462e-30\n",
      "\n",
      "re_d_im xn =  0.00109283646316112 0.0000904703634355108 step =  0.00876220343501205\n",
      "xn 0.0000904703634355108\n",
      "delta -1.60246226481970e-16\n",
      "f_abs_2_new 1.09278638641885e-30\n",
      "\n",
      "im_d_im xn =  0.00109283646316112 0.0000904703634355108 step =  0.0334251534843904\n",
      "xn 0.0000904703634355108\n",
      "delta 1.74575552653126e-17\n",
      "f_abs_2_new 1.09493859657901e-30\n",
      "\n",
      "re_d_re xn =  0.00109283646316112 0.0000904703634355108 step =  0.0522268023193600\n",
      "xn 0.00109283646316112\n",
      "delta 1.32532656547784e-17\n",
      "f_abs_2_new 1.06821256852750e-30\n",
      "\n",
      "im_d_re xn =  0.00109283646316112 0.0000904703634355108 step =  0.0109527542937651\n",
      "xn 0.00109283646316112\n",
      "delta 2.11080606677586e-16\n",
      "f_abs_2_new 2.50573777327794e-30\n",
      "\n",
      "re_d_im xn =  0.00109283646316112 0.0000904703634355108 step =  0.00700976274800964\n",
      "xn 0.0000904703634355108\n",
      "delta -1.60246226481970e-16\n",
      "f_abs_2_new 1.83112931275840e-30\n",
      "\n",
      "im_d_im xn =  0.00109283646316112 0.0000904703634355108 step =  0.0267401227875124\n",
      "xn 0.0000904703634355108\n",
      "delta 1.74575552653126e-17\n",
      "f_abs_2_new 1.79817488515303e-30\n",
      "\n",
      "re_d_re xn =  0.00109283646316112 0.0000904703634355108 step =  0.0417814418554880\n",
      "xn 0.00109283646316112\n",
      "delta 1.32532656547784e-17\n",
      "f_abs_2_new 1.06821256852750e-30\n",
      "\n",
      "im_d_re xn =  0.00109283646316112 0.0000904703634355108 step =  0.00876220343501205\n",
      "xn 0.00109283646316112\n",
      "delta 2.11080606677586e-16\n",
      "f_abs_2_new 1.88890369970534e-30\n",
      "\n",
      "re_d_im xn =  0.00109283646316112 0.0000904703634355108 step =  0.00560781019840771\n"
     ]
    },
    {
     "name": "stdout",
     "output_type": "stream",
     "text": [
      "xn 0.0000904703634355108\n",
      "delta -1.60246226481970e-16\n",
      "f_abs_2_new 1.80804076935669e-30\n",
      "\n",
      "im_d_im xn =  0.00109283646316112 0.0000904703634355108 step =  0.0213920982300099\n",
      "xn 0.0000904703634355108\n",
      "delta 1.74575552653126e-17\n",
      "f_abs_2_new 1.06710362852526e-30\n",
      "\n",
      "re_d_re xn =  0.00109283646316112 0.0000904703634355108 step =  0.0334251534843904\n",
      "xn 0.00109283646316112\n",
      "delta 1.32532656547784e-17\n",
      "f_abs_2_new 1.09595880511105e-30\n",
      "\n",
      "im_d_re xn =  0.00109283646316112 0.0000904703634355108 step =  0.00700976274800964\n",
      "xn 0.00109283646316112\n",
      "delta 2.11080606677586e-16\n",
      "f_abs_2_new 1.07030459294017e-30\n",
      "\n",
      "re_d_im xn =  0.00109283646316112 0.0000904703634355108 step =  0.00448624815872617\n",
      "xn 0.0000904703634355108\n",
      "delta -1.60246226481970e-16\n",
      "f_abs_2_new 1.94252675773003e-30\n",
      "\n",
      "im_d_im xn =  0.00109283646316112 0.0000904703634355108 step =  0.0171136785840079\n",
      "xn 0.0000904703634355108\n",
      "delta 1.74575552653126e-17\n",
      "f_abs_2_new 9.60609924834488e-31\n",
      "\n",
      "re_d_re xn =  0.00109283646316112 0.0000904703634355108 step =  0.0267401227875124\n",
      "xn 0.00109283646316112\n",
      "delta 1.32532656547784e-17\n",
      "f_abs_2_new 1.09595880511105e-30\n",
      "\n",
      "im_d_re xn =  0.00109283646316112 0.0000904703634355108 step =  0.00560781019840771\n",
      "xn 0.00109283646316112\n",
      "delta 2.11080606677586e-16\n",
      "f_abs_2_new 1.09856816760255e-30\n",
      "\n",
      "re_d_im xn =  0.00109283646316112 0.0000904703634355108 step =  0.00358899852698094\n",
      "xn 0.0000904703634355108\n",
      "delta -1.60246226481970e-16\n",
      "f_abs_2_new 1.93060006784325e-30\n",
      "\n",
      "im_d_im xn =  0.00109283646316112 0.0000904703634355108 step =  0.0136909428672063\n",
      "xn 0.0000904703634355108\n",
      "delta 1.74575552653126e-17\n",
      "f_abs_2_new 3.16783890380657e-30\n",
      "\n",
      "re_d_re xn =  0.00109283646316112 0.0000904703634355108 step =  0.0213920982300099\n",
      "xn 0.00109283646316112\n",
      "delta 1.32532656547784e-17\n",
      "f_abs_2_new 1.09482526946281e-30\n",
      "\n",
      "im_d_re xn =  0.00109283646316112 0.0000904703634355108 step =  0.00448624815872617\n",
      "xn 0.00109283646316112\n",
      "delta 2.11080606677586e-16\n",
      "f_abs_2_new 9.41065645504728e-31\n",
      "\n",
      "re_d_im xn =  0.00109283646316112 0.0000904703634355108 step =  0.00287119882158475\n",
      "xn 0.0000904703634355108\n",
      "delta -1.60246226481970e-16\n",
      "f_abs_2_new 1.09357905909772e-30\n",
      "\n",
      "im_d_im xn =  0.00109283646316112 0.0000904703634355108 step =  0.0109527542937651\n",
      "xn 0.0000904703634355108\n",
      "delta 1.74575552653126e-17\n",
      "f_abs_2_new 1.09437201977272e-30\n",
      "\n",
      "re_d_re xn =  0.00109283646316112 0.0000904703634355108 step =  0.0171136785840079\n",
      "xn 0.00109283646316112\n",
      "delta 1.32532656547784e-17\n",
      "f_abs_2_new 1.09482526946281e-30\n",
      "\n",
      "im_d_re xn =  0.00109283646316112 0.0000904703634355108 step =  0.00358899852698094\n",
      "xn 0.00109283646316112\n",
      "delta 2.11080606677586e-16\n",
      "f_abs_2_new 1.06821256852750e-30\n",
      "\n",
      "re_d_im xn =  0.00109283646316112 0.0000904703634355108 step =  0.00229695905726780\n",
      "xn 0.0000904703634355108\n",
      "delta -1.60246226481970e-16\n",
      "f_abs_2_new 3.63297884188800e-31\n",
      "f_new -4.81385764583564e-17 -6.00816579036700e-16\n",
      "\n",
      "im_d_im xn =  0.00109283646316112 0.0000904703634355112 step =  0.00876220343501205\n",
      "xn 0.0000904703634355112\n",
      "delta 2.70125064724064e-17\n",
      "f_abs_2_new 1.09369232156174e-30\n",
      "\n",
      "re_d_re xn =  0.00109283646316112 0.0000904703634355112 step =  0.0136909428672063\n",
      "xn 0.00109283646316112\n",
      "delta 1.32532656547774e-17\n",
      "f_abs_2_new 1.09482526946281e-30\n",
      "\n",
      "im_d_re xn =  0.00109283646316112 0.0000904703634355112 step =  0.00287119882158475\n",
      "xn 0.00109283646316112\n",
      "delta 3.26610236509340e-16\n",
      "f_abs_2_new 1.06860436466208e-30\n",
      "\n",
      "re_d_im xn =  0.00109283646316112 0.0000904703634355112 step =  0.00287119882158475\n",
      "xn 0.0000904703634355112\n",
      "delta -1.60246226482035e-16\n",
      "f_abs_2_new 1.09335255180211e-30\n",
      "\n",
      "im_d_im xn =  0.00109283646316112 0.0000904703634355112 step =  0.00700976274800964\n",
      "xn 0.0000904703634355112\n",
      "delta 2.70125064724064e-17\n",
      "f_abs_2_new 1.06677779296201e-30\n",
      "\n",
      "re_d_re xn =  0.00109283646316112 0.0000904703634355112 step =  0.0109527542937651\n",
      "xn 0.00109283646316112\n",
      "delta 1.32532656547774e-17\n",
      "f_abs_2_new 1.09482526946281e-30\n",
      "\n",
      "im_d_re xn =  0.00109283646316112 0.0000904703634355112 step =  0.00229695905726780\n",
      "xn 0.00109283646316112\n",
      "delta 3.26610236509340e-16\n",
      "f_abs_2_new 1.09675262977440e-30\n",
      "\n",
      "re_d_im xn =  0.00109283646316112 0.0000904703634355112 step =  0.00229695905726780\n",
      "xn 0.0000904703634355112\n",
      "delta -1.60246226482035e-16\n",
      "f_abs_2_new 1.09346580251118e-30\n",
      "\n",
      "im_d_im xn =  0.00109283646316112 0.0000904703634355112 step =  0.00560781019840771\n",
      "xn 0.0000904703634355112\n",
      "delta 2.70125064724064e-17\n",
      "f_abs_2_new 2.05465120323717e-30\n",
      "\n",
      "re_d_re xn =  0.00109283646316112 0.0000904703634355112 step =  0.00876220343501205\n",
      "xn 0.00109283646316112\n",
      "delta 1.32532656547774e-17\n",
      "f_abs_2_new 1.09482526946281e-30\n",
      "\n",
      "im_d_re xn =  0.00109283646316112 0.0000904703634355112 step =  0.00183756724581424\n",
      "xn 0.00109283646316112\n",
      "delta 3.26610236509340e-16\n",
      "f_abs_2_new 1.09675262977440e-30\n",
      "\n",
      "re_d_im xn =  0.00109283646316112 0.0000904703634355112 step =  0.00183756724581424\n",
      "xn 0.0000904703634355112\n",
      "delta -1.60246226482035e-16\n",
      "f_abs_2_new 1.09335255180211e-30\n",
      "\n",
      "im_d_im xn =  0.00109283646316112 0.0000904703634355112 step =  0.00448624815872617\n",
      "xn 0.0000904703634355112\n",
      "delta 2.70125064724064e-17\n",
      "f_abs_2_new 3.21302956349262e-30\n",
      "\n",
      "re_d_re xn =  0.00109283646316112 0.0000904703634355112 step =  0.00700976274800964\n",
      "xn 0.00109283646316112\n",
      "delta 1.32532656547774e-17\n",
      "f_abs_2_new 3.63297884188800e-31\n",
      "f_new -4.81385764583564e-17 -6.00816579036700e-16\n",
      "\n",
      "im_d_re xn =  0.00109283646316112 0.0000904703634355112 step =  0.00147005379665139\n",
      "xn 0.00109283646316112\n",
      "delta 3.26610236509340e-16\n",
      "f_abs_2_new 1.09595880511105e-30\n",
      "\n",
      "re_d_im xn =  0.00109283646316112 0.0000904703634355112 step =  0.00147005379665139\n",
      "xn 0.0000904703634355112\n",
      "delta -1.60246226482035e-16\n",
      "f_abs_2_new 1.79670216749233e-30\n",
      "\n",
      "im_d_im xn =  0.00109283646316112 0.0000904703634355112 step =  0.00358899852698094\n",
      "xn 0.0000904703634355112\n",
      "delta 2.70125064724064e-17\n",
      "f_abs_2_new 1.09403214421860e-30\n",
      "\n",
      "re_d_re xn =  0.00109283646316112 0.0000904703634355112 step =  0.00876220343501205\n",
      "xn 0.00109283646316112\n",
      "delta 1.32532656547774e-17\n",
      "f_abs_2_new 1.09482526946281e-30\n",
      "\n",
      "im_d_re xn =  0.00109283646316112 0.0000904703634355112 step =  0.00117604303732111\n",
      "xn 0.00109283646316112\n",
      "delta 3.26610236509340e-16\n",
      "f_abs_2_new 1.09595880511105e-30\n",
      "\n",
      "re_d_im xn =  0.00109283646316112 0.0000904703634355112 step =  0.00117604303732111\n",
      "xn 0.0000904703634355112\n",
      "delta -1.60246226482035e-16\n",
      "f_abs_2_new 1.09380558990322e-30\n",
      "\n",
      "im_d_im xn =  0.00109283646316112 0.0000904703634355112 step =  0.00287119882158475\n",
      "xn 0.0000904703634355112\n",
      "delta 2.70125064724064e-17\n",
      "f_abs_2_new 3.21302956349262e-30\n",
      "\n",
      "re_d_re xn =  0.00109283646316112 0.0000904703634355112 step =  0.00700976274800964\n",
      "xn 0.00109283646316112\n",
      "delta 1.32532656547774e-17\n",
      "f_abs_2_new 3.63297884188800e-31\n",
      "f_new -4.81385764583564e-17 -6.00816579036700e-16\n",
      "\n",
      "im_d_re xn =  0.00109283646316112 0.0000904703634355112 step =  0.000940834429856891\n",
      "xn 0.00109283646316112\n",
      "delta 3.26610236509340e-16\n",
      "f_abs_2_new 1.09482526946281e-30\n",
      "\n",
      "re_d_im xn =  0.00109283646316112 0.0000904703634355112 step =  0.000940834429856891\n",
      "xn 0.0000904703634355112\n",
      "delta -1.60246226482035e-16\n",
      "f_abs_2_new 1.92493528741245e-30\n",
      "\n",
      "im_d_im xn =  0.00109283646316112 0.0000904703634355112 step =  0.00229695905726780\n",
      "xn 0.0000904703634355112\n",
      "delta 2.70125064724064e-17\n",
      "f_abs_2_new 1.09403214421860e-30\n",
      "\n",
      "re_d_re xn =  0.00109283646316112 0.0000904703634355112 step =  0.00876220343501205\n",
      "xn 0.00109283646316112\n",
      "delta 1.32532656547774e-17\n",
      "f_abs_2_new 1.09482526946281e-30\n",
      "\n",
      "im_d_re xn =  0.00109283646316112 0.0000904703634355112 step =  0.000752667543885513\n",
      "xn 0.00109283646316112\n",
      "delta 3.26610236509340e-16\n",
      "f_abs_2_new 1.09482526946281e-30\n",
      "\n",
      "re_d_im xn =  0.00109283646316112 0.0000904703634355112 step =  0.000752667543885513\n",
      "xn 0.0000904703634355112\n",
      "delta -1.60246226482035e-16\n",
      "f_abs_2_new 1.92493528741245e-30\n",
      "\n",
      "im_d_im xn =  0.00109283646316112 0.0000904703634355112 step =  0.00183756724581424\n",
      "xn 0.0000904703634355112\n",
      "delta 2.70125064724064e-17\n",
      "f_abs_2_new 3.63232746463510e-31\n",
      "f_new -4.81385764583564e-17 -6.00762368928076e-16\n",
      "\n",
      "re_d_re xn =  0.00109283646316112 0.0000904703634355111 step =  0.00700976274800964\n",
      "xn 0.00109283646316112\n",
      "delta 1.32532656547772e-17\n",
      "f_abs_2_new 3.63232746463510e-31\n",
      "f_new -4.81385764583564e-17 -6.00762368928076e-16\n",
      "\n",
      "im_d_re xn =  0.00109283646316112 0.0000904703634355111 step =  0.000602134035108410\n"
     ]
    },
    {
     "name": "stdout",
     "output_type": "stream",
     "text": [
      "xn 0.00109283646316112\n",
      "delta 2.11080606677755e-16\n",
      "f_abs_2_new 1.09471194822408e-30\n",
      "\n",
      "re_d_im xn =  0.00109283646316112 0.0000904703634355111 step =  0.000602134035108410\n",
      "xn 0.0000904703634355111\n",
      "delta -1.60246226481958e-16\n",
      "f_abs_2_new 1.06645210433556e-30\n",
      "\n",
      "im_d_im xn =  0.00109283646316112 0.0000904703634355111 step =  0.00229695905726780\n",
      "xn 0.0000904703634355111\n",
      "delta 1.74575552653111e-17\n",
      "f_abs_2_new 1.09403214421860e-30\n",
      "\n",
      "re_d_re xn =  0.00109283646316112 0.0000904703634355111 step =  0.00876220343501205\n",
      "xn 0.00109283646316112\n",
      "delta 1.32532656547772e-17\n",
      "f_abs_2_new 1.09471194822408e-30\n",
      "\n",
      "im_d_re xn =  0.00109283646316112 0.0000904703634355111 step =  0.000481707228086728\n",
      "xn 0.00109283646316112\n",
      "delta 2.11080606677755e-16\n",
      "f_abs_2_new 3.63232746463510e-31\n",
      "f_new -4.81385764583564e-17 -6.00762368928076e-16\n",
      "\n",
      "re_d_im xn =  0.00109283646316112 0.0000904703634355111 step =  0.000481707228086728\n",
      "xn 0.0000904703634355111\n",
      "delta -1.60246226481958e-16\n",
      "f_abs_2_new 3.22816832625508e-30\n",
      "\n",
      "im_d_im xn =  0.00109283646316112 0.0000904703634355111 step =  0.00183756724581424\n",
      "xn 0.0000904703634355111\n",
      "delta 1.74575552653111e-17\n",
      "f_abs_2_new 3.21302956349262e-30\n",
      "\n",
      "re_d_re xn =  0.00109283646316112 0.0000904703634355111 step =  0.00700976274800964\n",
      "xn 0.00109283646316112\n",
      "delta 1.32532656547772e-17\n",
      "f_abs_2_new 3.63232746463510e-31\n",
      "f_new -4.81385764583564e-17 -6.00762368928076e-16\n",
      "\n",
      "im_d_re xn =  0.00109283646316112 0.0000904703634355111 step =  0.000602134035108410\n",
      "xn 0.00109283646316112\n",
      "delta 2.11080606677755e-16\n",
      "f_abs_2_new 1.09471194822408e-30\n",
      "\n",
      "re_d_im xn =  0.00109283646316112 0.0000904703634355111 step =  0.000385365782469383\n",
      "xn 0.0000904703634355111\n",
      "delta -1.60246226481958e-16\n",
      "f_abs_2_new 8.04176915674100e-31\n",
      "\n",
      "im_d_im xn =  0.00109283646316112 0.0000904703634355111 step =  0.00147005379665139\n",
      "xn 0.0000904703634355111\n",
      "delta 1.74575552653111e-17\n",
      "f_abs_2_new 3.21302956349262e-30\n",
      "\n",
      "re_d_re xn =  0.00109283646316112 0.0000904703634355111 step =  0.00876220343501205\n",
      "xn 0.00109283646316112\n",
      "delta 1.32532656547772e-17\n",
      "f_abs_2_new 1.09471194822408e-30\n",
      "\n",
      "im_d_re xn =  0.00109283646316112 0.0000904703634355111 step =  0.000481707228086728\n",
      "xn 0.00109283646316112\n",
      "delta 2.11080606677755e-16\n",
      "f_abs_2_new 3.63232746463510e-31\n",
      "f_new -4.81385764583564e-17 -6.00762368928076e-16\n",
      "\n",
      "re_d_im xn =  0.00109283646316112 0.0000904703634355111 step =  0.000308292625975506\n",
      "xn 0.0000904703634355111\n",
      "delta -1.60246226481958e-16\n",
      "f_abs_2_new 3.63297884188800e-31\n",
      "f_new -4.81385764583564e-17 -6.00816579036700e-16\n",
      "\n",
      "im_d_im xn =  0.00109283646316112 0.0000904703634355112 step =  0.00117604303732111\n",
      "xn 0.0000904703634355112\n",
      "delta 2.70125064724064e-17\n",
      "f_abs_2_new 1.09403214421860e-30\n",
      "\n",
      "re_d_re xn =  0.00109283646316112 0.0000904703634355112 step =  0.00700976274800964\n",
      "xn 0.00109283646316112\n",
      "delta 1.32532656547774e-17\n",
      "f_abs_2_new 3.63297884188800e-31\n",
      "f_new -4.81385764583564e-17 -6.00816579036700e-16\n",
      "\n",
      "im_d_re xn =  0.00109283646316112 0.0000904703634355112 step =  0.000602134035108410\n",
      "xn 0.00109283646316112\n",
      "delta 3.26610236509340e-16\n",
      "f_abs_2_new 1.09482526946281e-30\n",
      "\n",
      "re_d_im xn =  0.00109283646316112 0.0000904703634355112 step =  0.000385365782469383\n",
      "xn 0.0000904703634355112\n",
      "delta -1.60246226482035e-16\n",
      "f_abs_2_new 1.06645210433556e-30\n",
      "\n",
      "im_d_im xn =  0.00109283646316112 0.0000904703634355112 step =  0.000940834429856891\n",
      "xn 0.0000904703634355112\n",
      "delta 2.70125064724064e-17\n",
      "f_abs_2_new 1.09403214421860e-30\n",
      "\n",
      "re_d_re xn =  0.00109283646316112 0.0000904703634355112 step =  0.00876220343501205\n",
      "xn 0.00109283646316112\n",
      "delta 1.32532656547774e-17\n",
      "f_abs_2_new 1.09482526946281e-30\n",
      "\n",
      "im_d_re xn =  0.00109283646316112 0.0000904703634355112 step =  0.000481707228086728\n",
      "xn 0.00109283646316112\n",
      "delta 3.26610236509340e-16\n",
      "f_abs_2_new 1.09482526946281e-30\n",
      "\n",
      "re_d_im xn =  0.00109283646316112 0.0000904703634355112 step =  0.000308292625975506\n",
      "xn 0.0000904703634355112\n",
      "delta -1.60246226482035e-16\n",
      "f_abs_2_new 3.22816832625508e-30\n",
      "\n",
      "im_d_im xn =  0.00109283646316112 0.0000904703634355112 step =  0.000752667543885513\n",
      "xn 0.0000904703634355112\n",
      "delta 2.70125064724064e-17\n",
      "f_abs_2_new 1.09403214421860e-30\n",
      "\n",
      "re_d_re xn =  0.00109283646316112 0.0000904703634355112 step =  0.00700976274800964\n",
      "xn 0.00109283646316112\n",
      "delta 1.32532656547774e-17\n",
      "f_abs_2_new 3.63297884188800e-31\n",
      "f_new -4.81385764583564e-17 -6.00816579036700e-16\n",
      "\n",
      "im_d_re xn =  0.00109283646316112 0.0000904703634355112 step =  0.000385365782469383\n",
      "xn 0.00109283646316112\n",
      "delta 3.26610236509340e-16\n",
      "f_abs_2_new 1.09482526946281e-30\n",
      "\n",
      "re_d_im xn =  0.00109283646316112 0.0000904703634355112 step =  0.000246634100780405\n",
      "xn 0.0000904703634355112\n",
      "delta -1.60246226482035e-16\n",
      "f_abs_2_new 1.06645210433556e-30\n",
      "\n",
      "im_d_im xn =  0.00109283646316112 0.0000904703634355112 step =  0.000602134035108410\n",
      "xn 0.0000904703634355112\n",
      "delta 2.70125064724064e-17\n",
      "f_abs_2_new 2.54378379540060e-30\n",
      "\n",
      "re_d_re xn =  0.00109283646316112 0.0000904703634355112 step =  0.00876220343501205\n",
      "xn 0.00109283646316112\n",
      "delta 1.32532656547774e-17\n",
      "f_abs_2_new 1.09482526946281e-30\n",
      "\n",
      "im_d_re xn =  0.00109283646316112 0.0000904703634355112 step =  0.000308292625975506\n",
      "xn 0.00109283646316112\n",
      "delta 3.26610236509340e-16\n",
      "f_abs_2_new 3.63297884188800e-31\n",
      "f_new -4.81385764583564e-17 -6.00816579036700e-16\n",
      "\n",
      "re_d_im xn =  0.00109283646316112 0.0000904703634355112 step =  0.000197307280624324\n",
      "xn 0.0000904703634355112\n",
      "delta -1.60246226482035e-16\n",
      "f_abs_2_new 3.22816832625508e-30\n",
      "\n",
      "im_d_im xn =  0.00109283646316112 0.0000904703634355112 step =  0.000481707228086728\n",
      "xn 0.0000904703634355112\n",
      "delta 2.70125064724064e-17\n",
      "f_abs_2_new 2.54378379540060e-30\n",
      "\n",
      "re_d_re xn =  0.00109283646316112 0.0000904703634355112 step =  0.00700976274800964\n",
      "xn 0.00109283646316112\n",
      "delta 1.32532656547774e-17\n",
      "f_abs_2_new 3.63297884188800e-31\n",
      "f_new -4.81385764583564e-17 -6.00816579036700e-16\n",
      "\n",
      "im_d_re xn =  0.00109283646316112 0.0000904703634355112 step =  0.000385365782469383\n",
      "xn 0.00109283646316112\n",
      "delta 3.26610236509340e-16\n",
      "f_abs_2_new 1.09482526946281e-30\n",
      "\n",
      "re_d_im xn =  0.00109283646316112 0.0000904703634355112 step =  0.000157845824499459\n",
      "xn 0.0000904703634355112\n",
      "delta -1.60246226482035e-16\n",
      "f_abs_2_new 3.22816832625508e-30\n",
      "\n",
      "im_d_im xn =  0.00109283646316112 0.0000904703634355112 step =  0.000385365782469383\n",
      "xn 0.0000904703634355112\n",
      "delta 2.70125064724064e-17\n",
      "f_abs_2_new 2.54378379540060e-30\n",
      "\n",
      "re_d_re xn =  0.00109283646316112 0.0000904703634355112 step =  0.00876220343501205\n",
      "xn 0.00109283646316112\n",
      "delta 1.32532656547774e-17\n",
      "f_abs_2_new 1.09482526946281e-30\n",
      "\n",
      "im_d_re xn =  0.00109283646316112 0.0000904703634355112 step =  0.000308292625975506\n",
      "xn 0.00109283646316112\n",
      "delta 3.26610236509340e-16\n",
      "f_abs_2_new 3.63297884188800e-31\n",
      "f_new -4.81385764583564e-17 -6.00816579036700e-16\n",
      "\n",
      "re_d_im xn =  0.00109283646316112 0.0000904703634355112 step =  0.000126276659599567\n",
      "xn 0.0000904703634355112\n",
      "delta -1.60246226482035e-16\n",
      "f_abs_2_new 8.04176915674100e-31\n",
      "\n",
      "im_d_im xn =  0.00109283646316112 0.0000904703634355112 step =  0.000308292625975506\n",
      "xn 0.0000904703634355112\n",
      "delta 2.70125064724064e-17\n",
      "f_abs_2_new 2.54378379540060e-30\n",
      "\n",
      "re_d_re xn =  0.00109283646316112 0.0000904703634355112 step =  0.00700976274800964\n",
      "xn 0.00109283646316112\n",
      "delta 1.32532656547774e-17\n",
      "f_abs_2_new 3.63297884188800e-31\n",
      "f_new -4.81385764583564e-17 -6.00816579036700e-16\n",
      "\n",
      "im_d_re xn =  0.00109283646316112 0.0000904703634355112 step =  0.000385365782469383\n",
      "xn 0.00109283646316112\n",
      "delta 3.26610236509340e-16\n",
      "f_abs_2_new 1.09482526946281e-30\n",
      "\n",
      "re_d_im xn =  0.00109283646316112 0.0000904703634355112 step =  0.000101021327679654\n",
      "xn 0.0000904703634355112\n",
      "delta -1.60246226482035e-16\n",
      "f_abs_2_new 8.04176915674100e-31\n",
      "\n",
      "im_d_im xn =  0.00109283646316112 0.0000904703634355112 step =  0.000246634100780405\n",
      "xn 0.0000904703634355112\n",
      "delta 2.70125064724064e-17\n",
      "f_abs_2_new 3.63297884188800e-31\n",
      "f_new -4.81385764583564e-17 -6.00816579036700e-16\n",
      "\n",
      "re_d_re xn =  0.00109283646316112 0.0000904703634355112 step =  0.00876220343501205\n",
      "xn 0.00109283646316112\n",
      "delta 1.32532656547774e-17\n",
      "f_abs_2_new 1.09482526946281e-30\n",
      "\n",
      "im_d_re xn =  0.00109283646316112 0.0000904703634355112 step =  0.000308292625975506\n",
      "xn 0.00109283646316112\n",
      "delta 3.26610236509340e-16\n",
      "f_abs_2_new 3.63297884188800e-31\n",
      "f_new -4.81385764583564e-17 -6.00816579036700e-16\n",
      "\n",
      "re_d_im xn =  0.00109283646316112 0.0000904703634355112 step =  0.0000808170621437231\n"
     ]
    },
    {
     "name": "stdout",
     "output_type": "stream",
     "text": [
      "xn 0.0000904703634355112\n",
      "delta -1.60246226482035e-16\n",
      "f_abs_2_new 8.04176915674100e-31\n",
      "\n",
      "im_d_im xn =  0.00109283646316112 0.0000904703634355112 step =  0.000308292625975506\n",
      "xn 0.0000904703634355112\n",
      "delta 2.70125064724064e-17\n",
      "f_abs_2_new 2.54378379540060e-30\n",
      "\n",
      "re_d_re xn =  0.00109283646316112 0.0000904703634355112 step =  0.00700976274800964\n",
      "xn 0.00109283646316112\n",
      "delta 1.32532656547774e-17\n",
      "f_abs_2_new 3.63297884188800e-31\n",
      "f_new -4.81385764583564e-17 -6.00816579036700e-16\n",
      "\n",
      "im_d_re xn =  0.00109283646316112 0.0000904703634355112 step =  0.000385365782469383\n",
      "xn 0.00109283646316112\n",
      "delta 3.26610236509340e-16\n",
      "f_abs_2_new 1.09482526946281e-30\n",
      "\n",
      "re_d_im xn =  0.00109283646316112 0.0000904703634355112 step =  0.0000646536497149785\n",
      "xn 0.0000904703634355112\n",
      "delta -1.60246226482035e-16\n",
      "f_abs_2_new 8.04176915674100e-31\n",
      "\n",
      "im_d_im xn =  0.00109283646316112 0.0000904703634355112 step =  0.000246634100780405\n",
      "xn 0.0000904703634355112\n",
      "delta 2.70125064724064e-17\n",
      "f_abs_2_new 3.63297884188800e-31\n",
      "f_new -4.81385764583564e-17 -6.00816579036700e-16\n",
      "\n",
      "re_d_re xn =  0.00109283646316112 0.0000904703634355112 step =  0.00876220343501205\n",
      "xn 0.00109283646316112\n",
      "delta 1.32532656547774e-17\n",
      "f_abs_2_new 1.09482526946281e-30\n",
      "\n",
      "im_d_re xn =  0.00109283646316112 0.0000904703634355112 step =  0.000308292625975506\n",
      "xn 0.00109283646316112\n",
      "delta 3.26610236509340e-16\n",
      "f_abs_2_new 3.63297884188800e-31\n",
      "f_new -4.81385764583564e-17 -6.00816579036700e-16\n",
      "\n",
      "re_d_im xn =  0.00109283646316112 0.0000904703634355112 step =  0.0000517229197719828\n",
      "xn 0.0000904703634355112\n",
      "delta -1.60246226482035e-16\n",
      "f_abs_2_new 8.04176915674100e-31\n",
      "\n",
      "im_d_im xn =  0.00109283646316112 0.0000904703634355112 step =  0.000308292625975506\n",
      "xn 0.0000904703634355112\n",
      "delta 2.70125064724064e-17\n",
      "f_abs_2_new 2.54378379540060e-30\n",
      "\n",
      "re_d_re xn =  0.00109283646316112 0.0000904703634355112 step =  0.00700976274800964\n",
      "xn 0.00109283646316112\n",
      "delta 1.32532656547774e-17\n",
      "f_abs_2_new 3.63297884188800e-31\n",
      "f_new -4.81385764583564e-17 -6.00816579036700e-16\n",
      "\n",
      "im_d_re xn =  0.00109283646316112 0.0000904703634355112 step =  0.000385365782469383\n",
      "xn 0.00109283646316112\n",
      "delta 3.26610236509340e-16\n",
      "f_abs_2_new 1.09482526946281e-30\n",
      "\n",
      "re_d_im xn =  0.00109283646316112 0.0000904703634355112 step =  0.0000413783358175862\n",
      "xn 0.0000904703634355112\n",
      "delta -1.60246226482035e-16\n",
      "f_abs_2_new 3.63297884188800e-31\n",
      "f_new -4.81385764583564e-17 -6.00816579036700e-16\n",
      "\n",
      "im_d_im xn =  0.00109283646316112 0.0000904703634355112 step =  0.000246634100780405\n",
      "xn 0.0000904703634355112\n",
      "delta 2.70125064724064e-17\n",
      "f_abs_2_new 3.63297884188800e-31\n",
      "f_new -4.81385764583564e-17 -6.00816579036700e-16\n",
      "\n",
      "re_d_re xn =  0.00109283646316112 0.0000904703634355112 step =  0.00876220343501205\n",
      "xn 0.00109283646316112\n",
      "delta 1.32532656547774e-17\n",
      "f_abs_2_new 1.09482526946281e-30\n",
      "\n",
      "im_d_re xn =  0.00109283646316112 0.0000904703634355112 step =  0.000308292625975506\n",
      "xn 0.00109283646316112\n",
      "delta 3.26610236509340e-16\n",
      "f_abs_2_new 3.63297884188800e-31\n",
      "f_new -4.81385764583564e-17 -6.00816579036700e-16\n",
      "\n",
      "re_d_im xn =  0.00109283646316112 0.0000904703634355112 step =  0.0000517229197719828\n",
      "xn 0.0000904703634355112\n",
      "delta -1.60246226482035e-16\n",
      "f_abs_2_new 8.04176915674100e-31\n",
      "\n",
      "im_d_im xn =  0.00109283646316112 0.0000904703634355112 step =  0.000308292625975506\n",
      "xn 0.0000904703634355112\n",
      "delta 2.70125064724064e-17\n",
      "f_abs_2_new 2.54378379540060e-30\n",
      "\n",
      "re_d_re xn =  0.00109283646316112 0.0000904703634355112 step =  0.00700976274800964\n",
      "xn 0.00109283646316112\n",
      "delta 1.32532656547774e-17\n",
      "f_abs_2_new 3.63297884188800e-31\n",
      "f_new -4.81385764583564e-17 -6.00816579036700e-16\n",
      "\n",
      "im_d_re xn =  0.00109283646316112 0.0000904703634355112 step =  0.000385365782469383\n",
      "xn 0.00109283646316112\n",
      "delta 3.26610236509340e-16\n",
      "f_abs_2_new 1.09482526946281e-30\n",
      "\n",
      "re_d_im xn =  0.00109283646316112 0.0000904703634355112 step =  0.0000413783358175862\n",
      "xn 0.0000904703634355112\n",
      "delta -1.60246226482035e-16\n",
      "f_abs_2_new 3.63297884188800e-31\n",
      "f_new -4.81385764583564e-17 -6.00816579036700e-16\n",
      "\n",
      "im_d_im xn =  0.00109283646316112 0.0000904703634355112 step =  0.000246634100780405\n",
      "xn 0.0000904703634355112\n",
      "delta 2.70125064724064e-17\n",
      "f_abs_2_new 3.63297884188800e-31\n",
      "f_new -4.81385764583564e-17 -6.00816579036700e-16\n",
      "\n",
      "re_d_re xn =  0.00109283646316112 0.0000904703634355112 step =  0.00876220343501205\n",
      "xn 0.00109283646316112\n",
      "delta 1.32532656547774e-17\n",
      "f_abs_2_new 1.09482526946281e-30\n",
      "\n",
      "im_d_re xn =  0.00109283646316112 0.0000904703634355112 step =  0.000308292625975506\n",
      "xn 0.00109283646316112\n",
      "delta 3.26610236509340e-16\n",
      "f_abs_2_new 3.63297884188800e-31\n",
      "f_new -4.81385764583564e-17 -6.00816579036700e-16\n",
      "\n",
      "re_d_im xn =  0.00109283646316112 0.0000904703634355112 step =  0.0000517229197719828\n",
      "xn 0.0000904703634355112\n",
      "delta -1.60246226482035e-16\n",
      "f_abs_2_new 8.04176915674100e-31\n",
      "\n",
      "im_d_im xn =  0.00109283646316112 0.0000904703634355112 step =  0.000308292625975506\n",
      "xn 0.0000904703634355112\n",
      "delta 2.70125064724064e-17\n",
      "f_abs_2_new 2.54378379540060e-30\n",
      "\n",
      "re_d_re xn =  0.00109283646316112 0.0000904703634355112 step =  0.00700976274800964\n",
      "xn 0.00109283646316112\n",
      "delta 1.32532656547774e-17\n",
      "f_abs_2_new 3.63297884188800e-31\n",
      "f_new -4.81385764583564e-17 -6.00816579036700e-16\n",
      "\n",
      "im_d_re xn =  0.00109283646316112 0.0000904703634355112 step =  0.000385365782469383\n",
      "xn 0.00109283646316112\n",
      "delta 3.26610236509340e-16\n",
      "f_abs_2_new 1.09482526946281e-30\n",
      "\n",
      "re_d_im xn =  0.00109283646316112 0.0000904703634355112 step =  0.0000413783358175862\n",
      "xn 0.0000904703634355112\n",
      "delta -1.60246226482035e-16\n",
      "f_abs_2_new 3.63297884188800e-31\n",
      "f_new -4.81385764583564e-17 -6.00816579036700e-16\n",
      "\n",
      "im_d_im xn =  0.00109283646316112 0.0000904703634355112 step =  0.000246634100780405\n",
      "xn 0.0000904703634355112\n",
      "delta 2.70125064724064e-17\n",
      "f_abs_2_new 3.63297884188800e-31\n",
      "f_new -4.81385764583564e-17 -6.00816579036700e-16\n",
      "\n",
      "re_d_re xn =  0.00109283646316112 0.0000904703634355112 step =  0.00876220343501205\n",
      "xn 0.00109283646316112\n",
      "delta 1.32532656547774e-17\n",
      "f_abs_2_new 1.09482526946281e-30\n",
      "\n",
      "im_d_re xn =  0.00109283646316112 0.0000904703634355112 step =  0.000308292625975506\n",
      "xn 0.00109283646316112\n",
      "delta 3.26610236509340e-16\n",
      "f_abs_2_new 3.63297884188800e-31\n",
      "f_new -4.81385764583564e-17 -6.00816579036700e-16\n",
      "\n",
      "re_d_im xn =  0.00109283646316112 0.0000904703634355112 step =  0.0000517229197719828\n",
      "xn 0.0000904703634355112\n",
      "delta -1.60246226482035e-16\n",
      "f_abs_2_new 8.04176915674100e-31\n",
      "\n",
      "im_d_im xn =  0.00109283646316112 0.0000904703634355112 step =  0.000308292625975506\n",
      "xn 0.0000904703634355112\n",
      "delta 2.70125064724064e-17\n",
      "f_abs_2_new 2.54378379540060e-30\n",
      "\n",
      "re_d_re xn =  0.00109283646316112 0.0000904703634355112 step =  0.00700976274800964\n",
      "xn 0.00109283646316112\n",
      "delta 1.32532656547774e-17\n",
      "f_abs_2_new 3.63297884188800e-31\n",
      "f_new -4.81385764583564e-17 -6.00816579036700e-16\n",
      "\n",
      "im_d_re xn =  0.00109283646316112 0.0000904703634355112 step =  0.000385365782469383\n",
      "xn 0.00109283646316112\n",
      "delta 3.26610236509340e-16\n",
      "f_abs_2_new 1.09482526946281e-30\n",
      "\n",
      "re_d_im xn =  0.00109283646316112 0.0000904703634355112 step =  0.0000413783358175862\n",
      "xn 0.0000904703634355112\n",
      "delta -1.60246226482035e-16\n",
      "f_abs_2_new 3.63297884188800e-31\n",
      "f_new -4.81385764583564e-17 -6.00816579036700e-16\n",
      "\n",
      "im_d_im xn =  0.00109283646316112 0.0000904703634355112 step =  0.000246634100780405\n",
      "xn 0.0000904703634355112\n",
      "delta 2.70125064724064e-17\n",
      "f_abs_2_new 3.63297884188800e-31\n",
      "f_new -4.81385764583564e-17 -6.00816579036700e-16\n",
      "\n",
      "re_d_re xn =  0.00109283646316112 0.0000904703634355112 step =  0.00876220343501205\n",
      "xn 0.00109283646316112\n",
      "delta 1.32532656547774e-17\n",
      "f_abs_2_new 1.09482526946281e-30\n",
      "\n",
      "im_d_re xn =  0.00109283646316112 0.0000904703634355112 step =  0.000308292625975506\n",
      "xn 0.00109283646316112\n",
      "delta 3.26610236509340e-16\n",
      "f_abs_2_new 3.63297884188800e-31\n",
      "f_new -4.81385764583564e-17 -6.00816579036700e-16\n",
      "\n",
      "re_d_im xn =  0.00109283646316112 0.0000904703634355112 step =  0.0000517229197719828\n",
      "xn 0.0000904703634355112\n",
      "delta -1.60246226482035e-16\n",
      "f_abs_2_new 8.04176915674100e-31\n",
      "\n",
      "im_d_im xn =  0.00109283646316112 0.0000904703634355112 step =  0.000308292625975506\n",
      "xn 0.0000904703634355112\n",
      "delta 2.70125064724064e-17\n",
      "f_abs_2_new 2.54378379540060e-30\n",
      "\n",
      "re_d_re xn =  0.00109283646316112 0.0000904703634355112 step =  0.00700976274800964\n",
      "xn 0.00109283646316112\n",
      "delta 1.32532656547774e-17\n",
      "f_abs_2_new 3.63297884188800e-31\n",
      "f_new -4.81385764583564e-17 -6.00816579036700e-16\n",
      "\n",
      "im_d_re xn =  0.00109283646316112 0.0000904703634355112 step =  0.000385365782469383\n"
     ]
    },
    {
     "name": "stdout",
     "output_type": "stream",
     "text": [
      "xn 0.00109283646316112\n",
      "delta 3.26610236509340e-16\n",
      "f_abs_2_new 1.09482526946281e-30\n",
      "\n",
      "re_d_im xn =  0.00109283646316112 0.0000904703634355112 step =  0.0000413783358175862\n",
      "xn 0.0000904703634355112\n",
      "delta -1.60246226482035e-16\n",
      "f_abs_2_new 3.63297884188800e-31\n",
      "f_new -4.81385764583564e-17 -6.00816579036700e-16\n",
      "\n",
      "im_d_im xn =  0.00109283646316112 0.0000904703634355112 step =  0.000246634100780405\n",
      "xn 0.0000904703634355112\n",
      "delta 2.70125064724064e-17\n",
      "f_abs_2_new 3.63297884188800e-31\n",
      "f_new -4.81385764583564e-17 -6.00816579036700e-16\n",
      "\n",
      "re_d_re xn =  0.00109283646316112 0.0000904703634355112 step =  0.00876220343501205\n",
      "xn 0.00109283646316112\n",
      "delta 1.32532656547774e-17\n",
      "f_abs_2_new 1.09482526946281e-30\n",
      "\n",
      "im_d_re xn =  0.00109283646316112 0.0000904703634355112 step =  0.000308292625975506\n",
      "xn 0.00109283646316112\n",
      "delta 3.26610236509340e-16\n",
      "f_abs_2_new 3.63297884188800e-31\n",
      "f_new -4.81385764583564e-17 -6.00816579036700e-16\n",
      "\n",
      "re_d_im xn =  0.00109283646316112 0.0000904703634355112 step =  0.0000517229197719828\n",
      "xn 0.0000904703634355112\n",
      "delta -1.60246226482035e-16\n",
      "f_abs_2_new 8.04176915674100e-31\n",
      "\n",
      "im_d_im xn =  0.00109283646316112 0.0000904703634355112 step =  0.000308292625975506\n",
      "xn 0.0000904703634355112\n",
      "delta 2.70125064724064e-17\n",
      "f_abs_2_new 2.54378379540060e-30\n",
      "\n",
      "re_d_re xn =  0.00109283646316112 0.0000904703634355112 step =  0.00700976274800964\n",
      "xn 0.00109283646316112\n",
      "delta 1.32532656547774e-17\n",
      "f_abs_2_new 3.63297884188800e-31\n",
      "f_new -4.81385764583564e-17 -6.00816579036700e-16\n",
      "\n",
      "im_d_re xn =  0.00109283646316112 0.0000904703634355112 step =  0.000385365782469383\n",
      "xn 0.00109283646316112\n",
      "delta 3.26610236509340e-16\n",
      "f_abs_2_new 1.09482526946281e-30\n",
      "\n",
      "re_d_im xn =  0.00109283646316112 0.0000904703634355112 step =  0.0000413783358175862\n",
      "xn 0.0000904703634355112\n",
      "delta -1.60246226482035e-16\n",
      "f_abs_2_new 3.63297884188800e-31\n",
      "f_new -4.81385764583564e-17 -6.00816579036700e-16\n",
      "\n",
      "im_d_im xn =  0.00109283646316112 0.0000904703634355112 step =  0.000246634100780405\n",
      "xn 0.0000904703634355112\n",
      "delta 2.70125064724064e-17\n",
      "f_abs_2_new 3.63297884188800e-31\n",
      "f_new -4.81385764583564e-17 -6.00816579036700e-16\n",
      "\n",
      "re_d_re xn =  0.00109283646316112 0.0000904703634355112 step =  0.00876220343501205\n",
      "xn 0.00109283646316112\n",
      "delta 1.32532656547774e-17\n",
      "f_abs_2_new 1.09482526946281e-30\n",
      "\n",
      "im_d_re xn =  0.00109283646316112 0.0000904703634355112 step =  0.000308292625975506\n",
      "xn 0.00109283646316112\n",
      "delta 3.26610236509340e-16\n",
      "f_abs_2_new 3.63297884188800e-31\n",
      "f_new -4.81385764583564e-17 -6.00816579036700e-16\n",
      "\n",
      "re_d_im xn =  0.00109283646316112 0.0000904703634355112 step =  0.0000517229197719828\n",
      "xn 0.0000904703634355112\n",
      "delta -1.60246226482035e-16\n",
      "f_abs_2_new 8.04176915674100e-31\n",
      "\n",
      "im_d_im xn =  0.00109283646316112 0.0000904703634355112 step =  0.000308292625975506\n",
      "xn 0.0000904703634355112\n",
      "delta 2.70125064724064e-17\n",
      "f_abs_2_new 2.54378379540060e-30\n",
      "\n",
      "re_d_re xn =  0.00109283646316112 0.0000904703634355112 step =  0.00700976274800964\n",
      "xn 0.00109283646316112\n",
      "delta 1.32532656547774e-17\n",
      "f_abs_2_new 3.63297884188800e-31\n",
      "f_new -4.81385764583564e-17 -6.00816579036700e-16\n",
      "\n",
      "im_d_re xn =  0.00109283646316112 0.0000904703634355112 step =  0.000385365782469383\n",
      "xn 0.00109283646316112\n",
      "delta 3.26610236509340e-16\n",
      "f_abs_2_new 1.09482526946281e-30\n",
      "\n",
      "re_d_im xn =  0.00109283646316112 0.0000904703634355112 step =  0.0000413783358175862\n",
      "xn 0.0000904703634355112\n",
      "delta -1.60246226482035e-16\n",
      "f_abs_2_new 3.63297884188800e-31\n",
      "f_new -4.81385764583564e-17 -6.00816579036700e-16\n",
      "\n",
      "im_d_im xn =  0.00109283646316112 0.0000904703634355112 step =  0.000246634100780405\n",
      "xn 0.0000904703634355112\n",
      "delta 2.70125064724064e-17\n",
      "f_abs_2_new 3.63297884188800e-31\n",
      "f_new -4.81385764583564e-17 -6.00816579036700e-16\n",
      "\n",
      "re_d_re xn =  0.00109283646316112 0.0000904703634355112 step =  0.00876220343501205\n",
      "xn 0.00109283646316112\n",
      "delta 1.32532656547774e-17\n",
      "f_abs_2_new 1.09482526946281e-30\n",
      "\n",
      "im_d_re xn =  0.00109283646316112 0.0000904703634355112 step =  0.000308292625975506\n",
      "xn 0.00109283646316112\n",
      "delta 3.26610236509340e-16\n",
      "f_abs_2_new 3.63297884188800e-31\n",
      "f_new -4.81385764583564e-17 -6.00816579036700e-16\n",
      "\n",
      "re_d_im xn =  0.00109283646316112 0.0000904703634355112 step =  0.0000517229197719828\n",
      "xn 0.0000904703634355112\n",
      "delta -1.60246226482035e-16\n",
      "f_abs_2_new 8.04176915674100e-31\n",
      "\n",
      "im_d_im xn =  0.00109283646316112 0.0000904703634355112 step =  0.000308292625975506\n",
      "xn 0.0000904703634355112\n",
      "delta 2.70125064724064e-17\n",
      "f_abs_2_new 2.54378379540060e-30\n",
      "\n",
      "re_d_re xn =  0.00109283646316112 0.0000904703634355112 step =  0.00700976274800964\n",
      "xn 0.00109283646316112\n",
      "delta 1.32532656547774e-17\n",
      "f_abs_2_new 3.63297884188800e-31\n",
      "f_new -4.81385764583564e-17 -6.00816579036700e-16\n",
      "\n",
      "im_d_re xn =  0.00109283646316112 0.0000904703634355112 step =  0.000385365782469383\n",
      "xn 0.00109283646316112\n",
      "delta 3.26610236509340e-16\n",
      "f_abs_2_new 1.09482526946281e-30\n",
      "\n",
      "re_d_im xn =  0.00109283646316112 0.0000904703634355112 step =  0.0000413783358175862\n",
      "xn 0.0000904703634355112\n",
      "delta -1.60246226482035e-16\n",
      "f_abs_2_new 3.63297884188800e-31\n",
      "f_new -4.81385764583564e-17 -6.00816579036700e-16\n",
      "\n",
      "im_d_im xn =  0.00109283646316112 0.0000904703634355112 step =  0.000246634100780405\n",
      "xn 0.0000904703634355112\n",
      "delta 2.70125064724064e-17\n",
      "f_abs_2_new 3.63297884188800e-31\n",
      "f_new -4.81385764583564e-17 -6.00816579036700e-16\n",
      "\n",
      "re_d_re xn =  0.00109283646316112 0.0000904703634355112 step =  0.00876220343501205\n",
      "xn 0.00109283646316112\n",
      "delta 1.32532656547774e-17\n",
      "f_abs_2_new 1.09482526946281e-30\n",
      "\n",
      "im_d_re xn =  0.00109283646316112 0.0000904703634355112 step =  0.000308292625975506\n",
      "xn 0.00109283646316112\n",
      "delta 3.26610236509340e-16\n",
      "f_abs_2_new 3.63297884188800e-31\n",
      "f_new -4.81385764583564e-17 -6.00816579036700e-16\n",
      "\n",
      "re_d_im xn =  0.00109283646316112 0.0000904703634355112 step =  0.0000517229197719828\n",
      "xn 0.0000904703634355112\n",
      "delta -1.60246226482035e-16\n",
      "f_abs_2_new 8.04176915674100e-31\n",
      "\n",
      "im_d_im xn =  0.00109283646316112 0.0000904703634355112 step =  0.000308292625975506\n",
      "xn 0.0000904703634355112\n",
      "delta 2.70125064724064e-17\n",
      "f_abs_2_new 2.54378379540060e-30\n",
      "\n",
      "re_d_re xn =  0.00109283646316112 0.0000904703634355112 step =  0.00700976274800964\n",
      "xn 0.00109283646316112\n",
      "delta 1.32532656547774e-17\n",
      "f_abs_2_new 3.63297884188800e-31\n",
      "f_new -4.81385764583564e-17 -6.00816579036700e-16\n",
      "\n",
      "im_d_re xn =  0.00109283646316112 0.0000904703634355112 step =  0.000385365782469383\n",
      "xn 0.00109283646316112\n",
      "delta 3.26610236509340e-16\n",
      "f_abs_2_new 1.09482526946281e-30\n",
      "\n",
      "re_d_im xn =  0.00109283646316112 0.0000904703634355112 step =  0.0000413783358175862\n",
      "xn 0.0000904703634355112\n",
      "delta -1.60246226482035e-16\n",
      "f_abs_2_new 3.63297884188800e-31\n",
      "f_new -4.81385764583564e-17 -6.00816579036700e-16\n",
      "\n",
      "im_d_im xn =  0.00109283646316112 0.0000904703634355112 step =  0.000246634100780405\n",
      "xn 0.0000904703634355112\n",
      "delta 2.70125064724064e-17\n",
      "f_abs_2_new 3.63297884188800e-31\n",
      "f_new -4.81385764583564e-17 -6.00816579036700e-16\n",
      "\n",
      "re_d_re xn =  0.00109283646316112 0.0000904703634355112 step =  0.00876220343501205\n",
      "xn 0.00109283646316112\n",
      "delta 1.32532656547774e-17\n",
      "f_abs_2_new 1.09482526946281e-30\n",
      "\n",
      "im_d_re xn =  0.00109283646316112 0.0000904703634355112 step =  0.000308292625975506\n",
      "xn 0.00109283646316112\n",
      "delta 3.26610236509340e-16\n",
      "f_abs_2_new 3.63297884188800e-31\n",
      "f_new -4.81385764583564e-17 -6.00816579036700e-16\n",
      "\n",
      "re_d_im xn =  0.00109283646316112 0.0000904703634355112 step =  0.0000517229197719828\n",
      "xn 0.0000904703634355112\n",
      "delta -1.60246226482035e-16\n",
      "f_abs_2_new 8.04176915674100e-31\n",
      "\n",
      "im_d_im xn =  0.00109283646316112 0.0000904703634355112 step =  0.000308292625975506\n",
      "xn 0.0000904703634355112\n",
      "delta 2.70125064724064e-17\n",
      "f_abs_2_new 2.54378379540060e-30\n",
      "\n",
      "re_d_re xn =  0.00109283646316112 0.0000904703634355112 step =  0.00700976274800964\n",
      "xn 0.00109283646316112\n",
      "delta 1.32532656547774e-17\n",
      "f_abs_2_new 3.63297884188800e-31\n",
      "f_new -4.81385764583564e-17 -6.00816579036700e-16\n",
      "\n",
      "im_d_re xn =  0.00109283646316112 0.0000904703634355112 step =  0.000385365782469383\n",
      "xn 0.00109283646316112\n",
      "delta 3.26610236509340e-16\n",
      "f_abs_2_new 1.09482526946281e-30\n",
      "\n",
      "re_d_im xn =  0.00109283646316112 0.0000904703634355112 step =  0.0000413783358175862\n",
      "xn 0.0000904703634355112\n",
      "delta -1.60246226482035e-16\n",
      "f_abs_2_new 3.63297884188800e-31\n",
      "f_new -4.81385764583564e-17 -6.00816579036700e-16\n",
      "\n",
      "im_d_im xn =  0.00109283646316112 0.0000904703634355112 step =  0.000246634100780405\n"
     ]
    },
    {
     "name": "stdout",
     "output_type": "stream",
     "text": [
      "xn 0.0000904703634355112\n",
      "delta 2.70125064724064e-17\n",
      "f_abs_2_new 3.63297884188800e-31\n",
      "f_new -4.81385764583564e-17 -6.00816579036700e-16\n",
      "\n",
      "re_d_re xn =  0.00109283646316112 0.0000904703634355112 step =  0.00876220343501205\n",
      "xn 0.00109283646316112\n",
      "delta 1.32532656547774e-17\n",
      "f_abs_2_new 1.09482526946281e-30\n",
      "\n",
      "im_d_re xn =  0.00109283646316112 0.0000904703634355112 step =  0.000308292625975506\n",
      "xn 0.00109283646316112\n",
      "delta 3.26610236509340e-16\n",
      "f_abs_2_new 3.63297884188800e-31\n",
      "f_new -4.81385764583564e-17 -6.00816579036700e-16\n",
      "\n",
      "re_d_im xn =  0.00109283646316112 0.0000904703634355112 step =  0.0000517229197719828\n",
      "xn 0.0000904703634355112\n",
      "delta -1.60246226482035e-16\n",
      "f_abs_2_new 8.04176915674100e-31\n",
      "\n",
      "im_d_im xn =  0.00109283646316112 0.0000904703634355112 step =  0.000308292625975506\n",
      "xn 0.0000904703634355112\n",
      "delta 2.70125064724064e-17\n",
      "f_abs_2_new 2.54378379540060e-30\n",
      "\n",
      "re_d_re xn =  0.00109283646316112 0.0000904703634355112 step =  0.00700976274800964\n",
      "xn 0.00109283646316112\n",
      "delta 1.32532656547774e-17\n",
      "f_abs_2_new 3.63297884188800e-31\n",
      "f_new -4.81385764583564e-17 -6.00816579036700e-16\n",
      "\n",
      "im_d_re xn =  0.00109283646316112 0.0000904703634355112 step =  0.000385365782469383\n",
      "xn 0.00109283646316112\n",
      "delta 3.26610236509340e-16\n",
      "f_abs_2_new 1.09482526946281e-30\n",
      "\n",
      "re_d_im xn =  0.00109283646316112 0.0000904703634355112 step =  0.0000413783358175862\n",
      "xn 0.0000904703634355112\n",
      "delta -1.60246226482035e-16\n",
      "f_abs_2_new 3.63297884188800e-31\n",
      "f_new -4.81385764583564e-17 -6.00816579036700e-16\n",
      "\n",
      "im_d_im xn =  0.00109283646316112 0.0000904703634355112 step =  0.000246634100780405\n",
      "xn 0.0000904703634355112\n",
      "delta 2.70125064724064e-17\n",
      "f_abs_2_new 3.63297884188800e-31\n",
      "f_new -4.81385764583564e-17 -6.00816579036700e-16\n",
      "\n",
      "re_d_re xn =  0.00109283646316112 0.0000904703634355112 step =  0.00876220343501205\n",
      "xn 0.00109283646316112\n",
      "delta 1.32532656547774e-17\n",
      "f_abs_2_new 1.09482526946281e-30\n",
      "\n",
      "im_d_re xn =  0.00109283646316112 0.0000904703634355112 step =  0.000308292625975506\n",
      "xn 0.00109283646316112\n",
      "delta 3.26610236509340e-16\n",
      "f_abs_2_new 3.63297884188800e-31\n",
      "f_new -4.81385764583564e-17 -6.00816579036700e-16\n",
      "\n",
      "re_d_im xn =  0.00109283646316112 0.0000904703634355112 step =  0.0000517229197719828\n",
      "xn 0.0000904703634355112\n",
      "delta -1.60246226482035e-16\n",
      "f_abs_2_new 8.04176915674100e-31\n",
      "\n",
      "im_d_im xn =  0.00109283646316112 0.0000904703634355112 step =  0.000308292625975506\n",
      "xn 0.0000904703634355112\n",
      "delta 2.70125064724064e-17\n",
      "f_abs_2_new 2.54378379540060e-30\n",
      "\n",
      "re_d_re xn =  0.00109283646316112 0.0000904703634355112 step =  0.00700976274800964\n",
      "xn 0.00109283646316112\n",
      "delta 1.32532656547774e-17\n",
      "f_abs_2_new 3.63297884188800e-31\n",
      "f_new -4.81385764583564e-17 -6.00816579036700e-16\n",
      "\n",
      "im_d_re xn =  0.00109283646316112 0.0000904703634355112 step =  0.000385365782469383\n",
      "xn 0.00109283646316112\n",
      "delta 3.26610236509340e-16\n",
      "f_abs_2_new 1.09482526946281e-30\n",
      "\n",
      "re_d_im xn =  0.00109283646316112 0.0000904703634355112 step =  0.0000413783358175862\n",
      "xn 0.0000904703634355112\n",
      "delta -1.60246226482035e-16\n",
      "f_abs_2_new 3.63297884188800e-31\n",
      "f_new -4.81385764583564e-17 -6.00816579036700e-16\n",
      "\n",
      "im_d_im xn =  0.00109283646316112 0.0000904703634355112 step =  0.000246634100780405\n",
      "xn 0.0000904703634355112\n",
      "delta 2.70125064724064e-17\n",
      "f_abs_2_new 3.63297884188800e-31\n",
      "f_new -4.81385764583564e-17 -6.00816579036700e-16\n",
      "\n",
      "re_d_re xn =  0.00109283646316112 0.0000904703634355112 step =  0.00876220343501205\n",
      "xn 0.00109283646316112\n",
      "delta 1.32532656547774e-17\n",
      "f_abs_2_new 1.09482526946281e-30\n",
      "\n",
      "im_d_re xn =  0.00109283646316112 0.0000904703634355112 step =  0.000308292625975506\n",
      "xn 0.00109283646316112\n",
      "delta 3.26610236509340e-16\n",
      "f_abs_2_new 3.63297884188800e-31\n",
      "f_new -4.81385764583564e-17 -6.00816579036700e-16\n",
      "\n",
      "re_d_im xn =  0.00109283646316112 0.0000904703634355112 step =  0.0000517229197719828\n",
      "xn 0.0000904703634355112\n",
      "delta -1.60246226482035e-16\n",
      "f_abs_2_new 8.04176915674100e-31\n",
      "\n",
      "im_d_im xn =  0.00109283646316112 0.0000904703634355112 step =  0.000308292625975506\n",
      "xn 0.0000904703634355112\n",
      "delta 2.70125064724064e-17\n",
      "f_abs_2_new 2.54378379540060e-30\n",
      "\n",
      "re_d_re xn =  0.00109283646316112 0.0000904703634355112 step =  0.00700976274800964\n",
      "xn 0.00109283646316112\n",
      "delta 1.32532656547774e-17\n",
      "f_abs_2_new 3.63297884188800e-31\n",
      "f_new -4.81385764583564e-17 -6.00816579036700e-16\n",
      "\n",
      "im_d_re xn =  0.00109283646316112 0.0000904703634355112 step =  0.000385365782469383\n",
      "xn 0.00109283646316112\n",
      "delta 3.26610236509340e-16\n",
      "f_abs_2_new 1.09482526946281e-30\n",
      "\n",
      "re_d_im xn =  0.00109283646316112 0.0000904703634355112 step =  0.0000413783358175862\n",
      "xn 0.0000904703634355112\n",
      "delta -1.60246226482035e-16\n",
      "f_abs_2_new 3.63297884188800e-31\n",
      "f_new -4.81385764583564e-17 -6.00816579036700e-16\n",
      "\n",
      "im_d_im xn =  0.00109283646316112 0.0000904703634355112 step =  0.000246634100780405\n",
      "xn 0.0000904703634355112\n",
      "delta 2.70125064724064e-17\n",
      "f_abs_2_new 3.63297884188800e-31\n",
      "f_new -4.81385764583564e-17 -6.00816579036700e-16\n",
      "\n",
      "re_d_re xn =  0.00109283646316112 0.0000904703634355112 step =  0.00876220343501205\n",
      "xn 0.00109283646316112\n",
      "delta 1.32532656547774e-17\n",
      "f_abs_2_new 1.09482526946281e-30\n",
      "\n",
      "im_d_re xn =  0.00109283646316112 0.0000904703634355112 step =  0.000308292625975506\n",
      "xn 0.00109283646316112\n",
      "delta 3.26610236509340e-16\n",
      "f_abs_2_new 3.63297884188800e-31\n",
      "f_new -4.81385764583564e-17 -6.00816579036700e-16\n",
      "\n",
      "re_d_im xn =  0.00109283646316112 0.0000904703634355112 step =  0.0000517229197719828\n",
      "xn 0.0000904703634355112\n",
      "delta -1.60246226482035e-16\n",
      "f_abs_2_new 8.04176915674100e-31\n",
      "\n",
      "im_d_im xn =  0.00109283646316112 0.0000904703634355112 step =  0.000308292625975506\n",
      "xn 0.0000904703634355112\n",
      "delta 2.70125064724064e-17\n",
      "f_abs_2_new 2.54378379540060e-30\n",
      "\n",
      "re_d_re xn =  0.00109283646316112 0.0000904703634355112 step =  0.00700976274800964\n",
      "xn 0.00109283646316112\n",
      "delta 1.32532656547774e-17\n",
      "f_abs_2_new 3.63297884188800e-31\n",
      "f_new -4.81385764583564e-17 -6.00816579036700e-16\n",
      "\n",
      "im_d_re xn =  0.00109283646316112 0.0000904703634355112 step =  0.000385365782469383\n",
      "xn 0.00109283646316112\n",
      "delta 3.26610236509340e-16\n",
      "f_abs_2_new 1.09482526946281e-30\n",
      "\n",
      "re_d_im xn =  0.00109283646316112 0.0000904703634355112 step =  0.0000413783358175862\n",
      "xn 0.0000904703634355112\n",
      "delta -1.60246226482035e-16\n",
      "f_abs_2_new 3.63297884188800e-31\n",
      "f_new -4.81385764583564e-17 -6.00816579036700e-16\n",
      "\n",
      "im_d_im xn =  0.00109283646316112 0.0000904703634355112 step =  0.000246634100780405\n",
      "xn 0.0000904703634355112\n",
      "delta 2.70125064724064e-17\n",
      "f_abs_2_new 3.63297884188800e-31\n",
      "f_new -4.81385764583564e-17 -6.00816579036700e-16\n",
      "\n",
      "re_d_re xn =  0.00109283646316112 0.0000904703634355112 step =  0.00876220343501205\n",
      "xn 0.00109283646316112\n",
      "delta 1.32532656547774e-17\n",
      "f_abs_2_new 1.09482526946281e-30\n",
      "\n",
      "im_d_re xn =  0.00109283646316112 0.0000904703634355112 step =  0.000308292625975506\n",
      "xn 0.00109283646316112\n",
      "delta 3.26610236509340e-16\n",
      "f_abs_2_new 3.63297884188800e-31\n",
      "f_new -4.81385764583564e-17 -6.00816579036700e-16\n",
      "\n",
      "re_d_im xn =  0.00109283646316112 0.0000904703634355112 step =  0.0000517229197719828\n",
      "xn 0.0000904703634355112\n",
      "delta -1.60246226482035e-16\n",
      "f_abs_2_new 8.04176915674100e-31\n",
      "\n",
      "im_d_im xn =  0.00109283646316112 0.0000904703634355112 step =  0.000308292625975506\n",
      "xn 0.0000904703634355112\n",
      "delta 2.70125064724064e-17\n",
      "f_abs_2_new 2.54378379540060e-30\n",
      "\n",
      "re_d_re xn =  0.00109283646316112 0.0000904703634355112 step =  0.00700976274800964\n",
      "xn 0.00109283646316112\n",
      "delta 1.32532656547774e-17\n",
      "f_abs_2_new 3.63297884188800e-31\n",
      "f_new -4.81385764583564e-17 -6.00816579036700e-16\n",
      "\n",
      "im_d_re xn =  0.00109283646316112 0.0000904703634355112 step =  0.000385365782469383\n",
      "xn 0.00109283646316112\n",
      "delta 3.26610236509340e-16\n",
      "f_abs_2_new 1.09482526946281e-30\n",
      "\n",
      "re_d_im xn =  0.00109283646316112 0.0000904703634355112 step =  0.0000413783358175862\n",
      "xn 0.0000904703634355112\n",
      "delta -1.60246226482035e-16\n",
      "f_abs_2_new 3.63297884188800e-31\n",
      "f_new -4.81385764583564e-17 -6.00816579036700e-16\n",
      "\n",
      "im_d_im xn =  0.00109283646316112 0.0000904703634355112 step =  0.000246634100780405\n",
      "xn 0.0000904703634355112\n",
      "delta 2.70125064724064e-17\n",
      "f_abs_2_new 3.63297884188800e-31\n",
      "f_new -4.81385764583564e-17 -6.00816579036700e-16\n",
      "\n",
      "re_d_re xn =  0.00109283646316112 0.0000904703634355112 step =  0.00876220343501205\n",
      "xn 0.00109283646316112\n",
      "delta 1.32532656547774e-17\n",
      "f_abs_2_new 1.09482526946281e-30\n",
      "\n",
      "im_d_re xn =  0.00109283646316112 0.0000904703634355112 step =  0.000308292625975506\n"
     ]
    },
    {
     "name": "stdout",
     "output_type": "stream",
     "text": [
      "xn 0.00109283646316112\n",
      "delta 3.26610236509340e-16\n",
      "f_abs_2_new 3.63297884188800e-31\n",
      "f_new -4.81385764583564e-17 -6.00816579036700e-16\n",
      "\n",
      "re_d_im xn =  0.00109283646316112 0.0000904703634355112 step =  0.0000517229197719828\n",
      "xn 0.0000904703634355112\n",
      "delta -1.60246226482035e-16\n",
      "f_abs_2_new 8.04176915674100e-31\n",
      "\n",
      "im_d_im xn =  0.00109283646316112 0.0000904703634355112 step =  0.000308292625975506\n",
      "xn 0.0000904703634355112\n",
      "delta 2.70125064724064e-17\n",
      "f_abs_2_new 2.54378379540060e-30\n",
      "\n",
      "re_d_re xn =  0.00109283646316112 0.0000904703634355112 step =  0.00700976274800964\n",
      "xn 0.00109283646316112\n",
      "delta 1.32532656547774e-17\n",
      "f_abs_2_new 3.63297884188800e-31\n",
      "f_new -4.81385764583564e-17 -6.00816579036700e-16\n",
      "\n",
      "im_d_re xn =  0.00109283646316112 0.0000904703634355112 step =  0.000385365782469383\n",
      "xn 0.00109283646316112\n",
      "delta 3.26610236509340e-16\n",
      "f_abs_2_new 1.09482526946281e-30\n",
      "\n",
      "re_d_im xn =  0.00109283646316112 0.0000904703634355112 step =  0.0000413783358175862\n",
      "xn 0.0000904703634355112\n",
      "delta -1.60246226482035e-16\n",
      "f_abs_2_new 3.63297884188800e-31\n",
      "f_new -4.81385764583564e-17 -6.00816579036700e-16\n",
      "\n",
      "im_d_im xn =  0.00109283646316112 0.0000904703634355112 step =  0.000246634100780405\n",
      "xn 0.0000904703634355112\n",
      "delta 2.70125064724064e-17\n",
      "f_abs_2_new 3.63297884188800e-31\n",
      "f_new -4.81385764583564e-17 -6.00816579036700e-16\n",
      "\n",
      "re_d_re xn =  0.00109283646316112 0.0000904703634355112 step =  0.00876220343501205\n",
      "xn 0.00109283646316112\n",
      "delta 1.32532656547774e-17\n",
      "f_abs_2_new 1.09482526946281e-30\n",
      "\n",
      "im_d_re xn =  0.00109283646316112 0.0000904703634355112 step =  0.000308292625975506\n",
      "xn 0.00109283646316112\n",
      "delta 3.26610236509340e-16\n",
      "f_abs_2_new 3.63297884188800e-31\n",
      "f_new -4.81385764583564e-17 -6.00816579036700e-16\n",
      "\n",
      "re_d_im xn =  0.00109283646316112 0.0000904703634355112 step =  0.0000517229197719828\n",
      "xn 0.0000904703634355112\n",
      "delta -1.60246226482035e-16\n",
      "f_abs_2_new 8.04176915674100e-31\n",
      "\n",
      "im_d_im xn =  0.00109283646316112 0.0000904703634355112 step =  0.000308292625975506\n",
      "xn 0.0000904703634355112\n",
      "delta 2.70125064724064e-17\n",
      "f_abs_2_new 2.54378379540060e-30\n",
      "\n",
      "re_d_re xn =  0.00109283646316112 0.0000904703634355112 step =  0.00700976274800964\n",
      "xn 0.00109283646316112\n",
      "delta 1.32532656547774e-17\n",
      "f_abs_2_new 3.63297884188800e-31\n",
      "f_new -4.81385764583564e-17 -6.00816579036700e-16\n",
      "\n",
      "im_d_re xn =  0.00109283646316112 0.0000904703634355112 step =  0.000385365782469383\n",
      "xn 0.00109283646316112\n",
      "delta 3.26610236509340e-16\n",
      "f_abs_2_new 1.09482526946281e-30\n",
      "\n",
      "re_d_im xn =  0.00109283646316112 0.0000904703634355112 step =  0.0000413783358175862\n",
      "xn 0.0000904703634355112\n",
      "delta -1.60246226482035e-16\n",
      "f_abs_2_new 3.63297884188800e-31\n",
      "f_new -4.81385764583564e-17 -6.00816579036700e-16\n",
      "\n",
      "im_d_im xn =  0.00109283646316112 0.0000904703634355112 step =  0.000246634100780405\n",
      "xn 0.0000904703634355112\n",
      "delta 2.70125064724064e-17\n",
      "f_abs_2_new 3.63297884188800e-31\n",
      "f_new -4.81385764583564e-17 -6.00816579036700e-16\n",
      "\n",
      "re_d_re xn =  0.00109283646316112 0.0000904703634355112 step =  0.00876220343501205\n",
      "xn 0.00109283646316112\n",
      "delta 1.32532656547774e-17\n",
      "f_abs_2_new 1.09482526946281e-30\n",
      "\n",
      "im_d_re xn =  0.00109283646316112 0.0000904703634355112 step =  0.000308292625975506\n",
      "xn 0.00109283646316112\n",
      "delta 3.26610236509340e-16\n",
      "f_abs_2_new 3.63297884188800e-31\n",
      "f_new -4.81385764583564e-17 -6.00816579036700e-16\n",
      "\n",
      "re_d_im xn =  0.00109283646316112 0.0000904703634355112 step =  0.0000517229197719828\n",
      "xn 0.0000904703634355112\n",
      "delta -1.60246226482035e-16\n",
      "f_abs_2_new 8.04176915674100e-31\n",
      "\n",
      "im_d_im xn =  0.00109283646316112 0.0000904703634355112 step =  0.000308292625975506\n",
      "xn 0.0000904703634355112\n",
      "delta 2.70125064724064e-17\n",
      "f_abs_2_new 2.54378379540060e-30\n",
      "\n",
      "re_d_re xn =  0.00109283646316112 0.0000904703634355112 step =  0.00700976274800964\n",
      "xn 0.00109283646316112\n",
      "delta 1.32532656547774e-17\n",
      "f_abs_2_new 3.63297884188800e-31\n",
      "f_new -4.81385764583564e-17 -6.00816579036700e-16\n",
      "\n",
      "im_d_re xn =  0.00109283646316112 0.0000904703634355112 step =  0.000385365782469383\n",
      "xn 0.00109283646316112\n",
      "delta 3.26610236509340e-16\n",
      "f_abs_2_new 1.09482526946281e-30\n",
      "\n",
      "re_d_im xn =  0.00109283646316112 0.0000904703634355112 step =  0.0000413783358175862\n",
      "xn 0.0000904703634355112\n",
      "delta -1.60246226482035e-16\n",
      "f_abs_2_new 3.63297884188800e-31\n",
      "f_new -4.81385764583564e-17 -6.00816579036700e-16\n",
      "\n",
      "im_d_im xn =  0.00109283646316112 0.0000904703634355112 step =  0.000246634100780405\n",
      "xn 0.0000904703634355112\n",
      "delta 2.70125064724064e-17\n",
      "f_abs_2_new 3.63297884188800e-31\n",
      "f_new -4.81385764583564e-17 -6.00816579036700e-16\n",
      "\n",
      "re_d_re xn =  0.00109283646316112 0.0000904703634355112 step =  0.00876220343501205\n",
      "xn 0.00109283646316112\n",
      "delta 1.32532656547774e-17\n",
      "f_abs_2_new 1.09482526946281e-30\n",
      "\n",
      "im_d_re xn =  0.00109283646316112 0.0000904703634355112 step =  0.000308292625975506\n",
      "xn 0.00109283646316112\n",
      "delta 3.26610236509340e-16\n",
      "f_abs_2_new 3.63297884188800e-31\n",
      "f_new -4.81385764583564e-17 -6.00816579036700e-16\n",
      "\n",
      "re_d_im xn =  0.00109283646316112 0.0000904703634355112 step =  0.0000517229197719828\n",
      "xn 0.0000904703634355112\n",
      "delta -1.60246226482035e-16\n",
      "f_abs_2_new 8.04176915674100e-31\n",
      "\n",
      "im_d_im xn =  0.00109283646316112 0.0000904703634355112 step =  0.000308292625975506\n",
      "xn 0.0000904703634355112\n",
      "delta 2.70125064724064e-17\n",
      "f_abs_2_new 2.54378379540060e-30\n",
      "\n",
      "re_d_re xn =  0.00109283646316112 0.0000904703634355112 step =  0.00700976274800964\n",
      "xn 0.00109283646316112\n",
      "delta 1.32532656547774e-17\n",
      "f_abs_2_new 3.63297884188800e-31\n",
      "f_new -4.81385764583564e-17 -6.00816579036700e-16\n",
      "\n",
      "im_d_re xn =  0.00109283646316112 0.0000904703634355112 step =  0.000385365782469383\n",
      "xn 0.00109283646316112\n",
      "delta 3.26610236509340e-16\n",
      "f_abs_2_new 1.09482526946281e-30\n",
      "\n",
      "re_d_im xn =  0.00109283646316112 0.0000904703634355112 step =  0.0000413783358175862\n",
      "xn 0.0000904703634355112\n",
      "delta -1.60246226482035e-16\n",
      "f_abs_2_new 3.63297884188800e-31\n",
      "f_new -4.81385764583564e-17 -6.00816579036700e-16\n",
      "\n",
      "im_d_im xn =  0.00109283646316112 0.0000904703634355112 step =  0.000246634100780405\n",
      "xn 0.0000904703634355112\n",
      "delta 2.70125064724064e-17\n",
      "f_abs_2_new 3.63297884188800e-31\n",
      "f_new -4.81385764583564e-17 -6.00816579036700e-16\n",
      "\n",
      "re_d_re xn =  0.00109283646316112 0.0000904703634355112 step =  0.00876220343501205\n",
      "xn 0.00109283646316112\n",
      "delta 1.32532656547774e-17\n",
      "f_abs_2_new 1.09482526946281e-30\n",
      "\n",
      "im_d_re xn =  0.00109283646316112 0.0000904703634355112 step =  0.000308292625975506\n",
      "xn 0.00109283646316112\n",
      "delta 3.26610236509340e-16\n",
      "f_abs_2_new 3.63297884188800e-31\n",
      "f_new -4.81385764583564e-17 -6.00816579036700e-16\n",
      "\n",
      "re_d_im xn =  0.00109283646316112 0.0000904703634355112 step =  0.0000517229197719828\n",
      "xn 0.0000904703634355112\n",
      "delta -1.60246226482035e-16\n",
      "f_abs_2_new 8.04176915674100e-31\n",
      "\n",
      "im_d_im xn =  0.00109283646316112 0.0000904703634355112 step =  0.000308292625975506\n",
      "xn 0.0000904703634355112\n",
      "delta 2.70125064724064e-17\n",
      "f_abs_2_new 2.54378379540060e-30\n",
      "\n",
      "re_d_re xn =  0.00109283646316112 0.0000904703634355112 step =  0.00700976274800964\n",
      "xn 0.00109283646316112\n",
      "delta 1.32532656547774e-17\n",
      "f_abs_2_new 3.63297884188800e-31\n",
      "f_new -4.81385764583564e-17 -6.00816579036700e-16\n",
      "\n",
      "im_d_re xn =  0.00109283646316112 0.0000904703634355112 step =  0.000385365782469383\n",
      "xn 0.00109283646316112\n",
      "delta 3.26610236509340e-16\n",
      "f_abs_2_new 1.09482526946281e-30\n",
      "\n",
      "re_d_im xn =  0.00109283646316112 0.0000904703634355112 step =  0.0000413783358175862\n",
      "xn 0.0000904703634355112\n",
      "delta -1.60246226482035e-16\n",
      "f_abs_2_new 3.63297884188800e-31\n",
      "f_new -4.81385764583564e-17 -6.00816579036700e-16\n",
      "\n",
      "im_d_im xn =  0.00109283646316112 0.0000904703634355112 step =  0.000246634100780405\n",
      "xn 0.0000904703634355112\n",
      "delta 2.70125064724064e-17\n",
      "f_abs_2_new 3.63297884188800e-31\n",
      "f_new -4.81385764583564e-17 -6.00816579036700e-16\n",
      "\n",
      "re_d_re xn =  0.00109283646316112 0.0000904703634355112 step =  0.00876220343501205\n",
      "xn 0.00109283646316112\n",
      "delta 1.32532656547774e-17\n",
      "f_abs_2_new 1.09482526946281e-30\n",
      "\n",
      "im_d_re xn =  0.00109283646316112 0.0000904703634355112 step =  0.000308292625975506\n",
      "xn 0.00109283646316112\n",
      "delta 3.26610236509340e-16\n",
      "f_abs_2_new 3.63297884188800e-31\n",
      "f_new -4.81385764583564e-17 -6.00816579036700e-16\n",
      "\n",
      "re_d_im xn =  0.00109283646316112 0.0000904703634355112 step =  0.0000517229197719828\n",
      "xn 0.0000904703634355112\n",
      "delta -1.60246226482035e-16\n",
      "f_abs_2_new 8.04176915674100e-31\n",
      "\n",
      "im_d_im xn =  0.00109283646316112 0.0000904703634355112 step =  0.000308292625975506\n"
     ]
    },
    {
     "name": "stdout",
     "output_type": "stream",
     "text": [
      "xn 0.0000904703634355112\n",
      "delta 2.70125064724064e-17\n",
      "f_abs_2_new 2.54378379540060e-30\n",
      "\n",
      "re_d_re xn =  0.00109283646316112 0.0000904703634355112 step =  0.00700976274800964\n",
      "xn 0.00109283646316112\n",
      "delta 1.32532656547774e-17\n",
      "f_abs_2_new 3.63297884188800e-31\n",
      "f_new -4.81385764583564e-17 -6.00816579036700e-16\n",
      "\n",
      "im_d_re xn =  0.00109283646316112 0.0000904703634355112 step =  0.000385365782469383\n",
      "xn 0.00109283646316112\n",
      "delta 3.26610236509340e-16\n",
      "f_abs_2_new 1.09482526946281e-30\n",
      "\n",
      "re_d_im xn =  0.00109283646316112 0.0000904703634355112 step =  0.0000413783358175862\n",
      "xn 0.0000904703634355112\n",
      "delta -1.60246226482035e-16\n",
      "f_abs_2_new 3.63297884188800e-31\n",
      "f_new -4.81385764583564e-17 -6.00816579036700e-16\n",
      "\n",
      "im_d_im xn =  0.00109283646316112 0.0000904703634355112 step =  0.000246634100780405\n",
      "xn 0.0000904703634355112\n",
      "delta 2.70125064724064e-17\n",
      "f_abs_2_new 3.63297884188800e-31\n",
      "f_new -4.81385764583564e-17 -6.00816579036700e-16\n"
     ]
    }
   ],
   "source": [
    "k_z_root = find_newton_complex_root(\n",
    "    M3_subs_det_re_d,\\\n",
    "    M3_subs_det_im_d,\\\n",
    "    M3_subs_det_re_div_diff_kz_d,\\\n",
    "    M3_subs_det_im_div_diff_kz_d,\\\n",
    "    M3_subs_det_re_div_diff_sz_d,\\\n",
    "    M3_subs_det_im_div_diff_sz_d,\\\n",
    "    xre = kz, xim = sz,\\\n",
    "    xn_re = 1.1, xn_im = 0.124)"
   ]
  },
  {
   "cell_type": "code",
   "execution_count": 299,
   "metadata": {},
   "outputs": [
    {
     "data": {
      "text/plain": [
       "(0.00109283646316112,\n",
       " 0.0000904703634355112,\n",
       " -4.81385764583564e-17,\n",
       " -6.00816579036700e-16)"
      ]
     },
     "execution_count": 299,
     "metadata": {},
     "output_type": "execute_result"
    }
   ],
   "source": [
    "k_z_root"
   ]
  },
  {
   "cell_type": "code",
   "execution_count": 300,
   "metadata": {},
   "outputs": [],
   "source": [
    "#(1.12484012576918, 0.117839577439914, 0.000000000000000, -3.55271367880050e-14)"
   ]
  },
  {
   "cell_type": "raw",
   "metadata": {},
   "source": [
    "k_z_root = find_newton_complex_root(\n",
    "    M3_subs_det_re_d,\\\n",
    "    M3_subs_det_im_d,\\\n",
    "    M3_subs_det_re_div_diff_kz_d,\\\n",
    "    M3_subs_det_im_div_diff_kz_d,\\\n",
    "    M3_subs_det_re_div_diff_sz_d,\\\n",
    "    M3_subs_det_im_div_diff_sz_d,\\\n",
    "    xre = kz, xim = sz,\\\n",
    "    xn_re = k_z_root[0], xn_im = k_z_root[1])"
   ]
  },
  {
   "cell_type": "code",
   "execution_count": 301,
   "metadata": {},
   "outputs": [
    {
     "data": {
      "text/plain": [
       "(0.00109283646316112,\n",
       " 0.0000904703634355112,\n",
       " -4.81385764583564e-17,\n",
       " -6.00816579036700e-16)"
      ]
     },
     "execution_count": 301,
     "metadata": {},
     "output_type": "execute_result"
    }
   ],
   "source": [
    "k_z_root"
   ]
  },
  {
   "cell_type": "code",
   "execution_count": 302,
   "metadata": {},
   "outputs": [],
   "source": [
    "test_M6 = False"
   ]
  },
  {
   "cell_type": "code",
   "execution_count": 303,
   "metadata": {},
   "outputs": [],
   "source": [
    "\n",
    "if test_M6:\n",
    "    M6_subs_det_re_diff_kz = M6_subs_det_re.diff(kz)\n",
    "    M6_subs_det_im_diff_kz = M6_subs_det_im.diff(kz)\n",
    "    M6_subs_det_re_diff_sz = M6_subs_det_re.diff(sz)\n",
    "    M6_subs_det_im_diff_sz = M6_subs_det_im.diff(sz)\n",
    "\n",
    "    M6_subs_det_re_div_diff_kz = (M6_subs_det_re / M6_subs_det_re_diff_kz)\n",
    "    M6_subs_det_im_div_diff_kz = (M6_subs_det_im / M6_subs_det_im_diff_kz)\n",
    "    M6_subs_det_re_div_diff_sz = (M6_subs_det_re / M6_subs_det_re_diff_sz)\n",
    "    M6_subs_det_im_div_diff_sz = (M6_subs_det_im / M6_subs_det_im_diff_sz)\n",
    "\n",
    "    M6_subs_det_re_d = M6_subs_det_re.subs(digit_values)\n",
    "    M6_subs_det_im_d = M6_subs_det_im.subs(digit_values)"
   ]
  },
  {
   "cell_type": "code",
   "execution_count": null,
   "metadata": {},
   "outputs": [],
   "source": []
  },
  {
   "cell_type": "code",
   "execution_count": 304,
   "metadata": {},
   "outputs": [],
   "source": [
    "if test_M6 and make_investigation_plots:\n",
    "    import numpy as np\n",
    "    import matplotlib.pyplot as plt\n",
    "    %matplotlib inline\n",
    "\n",
    "    kz_linspace = np.linspace(0.9, 2.1, 10)\n",
    "    sz_linspace = np.linspace(0, 2e-1, 10)\n",
    "\n",
    "    kz_list = kz_linspace.tolist()\n",
    "    sz_list = sz_linspace.tolist()\n",
    "\n",
    "    kz_grid, sz_grid = np.meshgrid(kz_linspace, sz_linspace)\n",
    "\n",
    "    u = kz_grid * np.nan\n",
    "    v = sz_grid * np.nan\n",
    "\n",
    "    for ikz in np.arange(0, len(kz_linspace), 1):\n",
    "        for isz in np.arange(0, len(sz_linspace), 1):\n",
    "            kz_i = kz_list[ikz]\n",
    "            sz_i = sz_list[isz]\n",
    "            u[isz][ikz] = M6_subs_det_re_d.subs(kz == kz_i).subs(sz == sz_i).n()\n",
    "            v[isz][ikz] = M6_subs_det_im_d.subs(kz == kz_i).subs(sz == sz_i).n()"
   ]
  },
  {
   "cell_type": "markdown",
   "metadata": {},
   "source": [
    "Искомый волновой вектор можно найти графическим методом как точку пересечения двух нулевых изолиний на контурных графиках зависимости действительной и мнимой компонент детерминанта от действительной и мнимой компонент волнового вектора"
   ]
  },
  {
   "cell_type": "code",
   "execution_count": 305,
   "metadata": {},
   "outputs": [],
   "source": [
    "if test_M6 and make_investigation_plots:\n",
    "    fig,ax=plt.subplots(1,1)\n",
    "\n",
    "    cp = ax.contourf(kz_grid,sz_grid, u)\n",
    "    fig.colorbar(cp) # Add a colorbar to a plot\n",
    "    ax.set_title('M3_subs_det_re')\n",
    "    ax.set_xlabel('kz')\n",
    "    ax.set_ylabel('sz')\n",
    "    plt.show()"
   ]
  },
  {
   "cell_type": "code",
   "execution_count": 306,
   "metadata": {},
   "outputs": [],
   "source": [
    "if test_M6 and make_investigation_plots:\n",
    "    fig,ax=plt.subplots(1,1)\n",
    "\n",
    "    cp = ax.contourf(kz_grid,sz_grid, v)\n",
    "    fig.colorbar(cp) # Add a colorbar to a plot\n",
    "    ax.set_title('M3_subs_det_im')\n",
    "    ax.set_xlabel('kz')\n",
    "    ax.set_ylabel('sz')\n",
    "    plt.show()"
   ]
  },
  {
   "cell_type": "code",
   "execution_count": null,
   "metadata": {},
   "outputs": [],
   "source": []
  },
  {
   "cell_type": "code",
   "execution_count": 307,
   "metadata": {},
   "outputs": [],
   "source": [
    "if test_M6:\n",
    "    M6_subs_det_re_div_diff_kz_d = M6_subs_det_re_div_diff_kz.subs(digit_values)\n",
    "    M6_subs_det_im_div_diff_kz_d = M6_subs_det_im_div_diff_kz.subs(digit_values)\n",
    "    M6_subs_det_re_div_diff_sz_d = M6_subs_det_re_div_diff_sz.subs(digit_values)\n",
    "    M6_subs_det_im_div_diff_sz_d = M6_subs_det_im_div_diff_sz.subs(digit_values)"
   ]
  },
  {
   "cell_type": "code",
   "execution_count": null,
   "metadata": {},
   "outputs": [],
   "source": []
  },
  {
   "cell_type": "code",
   "execution_count": null,
   "metadata": {},
   "outputs": [],
   "source": []
  },
  {
   "cell_type": "code",
   "execution_count": null,
   "metadata": {},
   "outputs": [],
   "source": []
  },
  {
   "cell_type": "code",
   "execution_count": null,
   "metadata": {},
   "outputs": [],
   "source": []
  },
  {
   "cell_type": "code",
   "execution_count": 308,
   "metadata": {},
   "outputs": [],
   "source": [
    "if test_M6:\n",
    "    k_z_root6 = find_newton_complex_root(\n",
    "        M6_subs_det_re_d,\\\n",
    "        M6_subs_det_im_d,\\\n",
    "        M6_subs_det_re_div_diff_kz_d,\\\n",
    "        M6_subs_det_im_div_diff_kz_d,\\\n",
    "        M6_subs_det_re_div_diff_sz_d,\\\n",
    "        M6_subs_det_im_div_diff_sz_d,\\\n",
    "        xre = kz, xim = sz,\\\n",
    "        xn_re = 1.1, xn_im = 0.124)"
   ]
  },
  {
   "cell_type": "code",
   "execution_count": 309,
   "metadata": {},
   "outputs": [
    {
     "data": {
      "text/plain": [
       "[kz == 0.00109283646316112, sz == 0.0000904703634355112]"
      ]
     },
     "execution_count": 309,
     "metadata": {},
     "output_type": "execute_result"
    }
   ],
   "source": [
    "k_z_sol = [kz == k_z_root[0], sz ==  k_z_root[1]]\n",
    "k_z_sol"
   ]
  },
  {
   "cell_type": "code",
   "execution_count": 310,
   "metadata": {},
   "outputs": [],
   "source": [
    "M3_subs_d = M3_subs.subs(digit_values).subs(k_z == k_z_root[0] + I * k_z_root[1])"
   ]
  },
  {
   "cell_type": "code",
   "execution_count": 311,
   "metadata": {},
   "outputs": [
    {
     "data": {
      "text/plain": [
       "[ 1.00048864594479 + 0.000202473069070399*I 0.999511551778145 - 0.000202275330439887*I                          0.000000000000000]\n",
       "[    -2500.13017600770 - 2500.94581400672*I     -2498.69956701143 - 2497.49220800381*I                          0.000000000000000]\n",
       "[                         -1.00000000000000                          -1.00000000000000                           1.00000000000000]"
      ]
     },
     "execution_count": 311,
     "metadata": {},
     "output_type": "execute_result"
    }
   ],
   "source": [
    "M3_subs_d.n()"
   ]
  },
  {
   "cell_type": "code",
   "execution_count": 312,
   "metadata": {},
   "outputs": [
    {
     "data": {
      "text/plain": [
       "9.09494701772928e-13"
      ]
     },
     "execution_count": 312,
     "metadata": {},
     "output_type": "execute_result"
    }
   ],
   "source": [
    "M3_subs_d.det().n()"
   ]
  },
  {
   "cell_type": "code",
   "execution_count": 313,
   "metadata": {},
   "outputs": [
    {
     "data": {
      "text/plain": [
       "(I*A1_z_im + 1, I*A2_z_im + A2_z_re, I*B1_z_im + B1_z_re)"
      ]
     },
     "execution_count": 313,
     "metadata": {},
     "output_type": "execute_result"
    }
   ],
   "source": [
    "X = vector([A1_z_re+I*A1_z_im, A2_z_re+I*A2_z_im, B1_z_re+I*B1_z_im]).subs(A1_z_re == 1)\n",
    "X"
   ]
  },
  {
   "cell_type": "code",
   "execution_count": 314,
   "metadata": {},
   "outputs": [
    {
     "data": {
      "text/latex": [
       "$\\displaystyle \\left({\\left(i \\, \\mathit{A1}_{z_{\\mathit{im}}} + 1\\right)} e^{\\left(\\frac{1}{3160} i \\, \\sqrt{\\pi^{2} - 11.8439865498043 - 1.97453880376977i}\\right)} + {\\left(i \\, \\mathit{A2}_{z_{\\mathit{im}}} + \\mathit{A2}_{z_{\\mathit{re}}}\\right)} e^{\\left(-\\frac{1}{3160} i \\, \\sqrt{\\pi^{2} - 11.8439865498043 - 1.97453880376977i}\\right)},\\,-\\frac{5}{935502365189} \\, {\\left(\\frac{\\left(24964 i + 59209010455\\right) \\, \\pi^{2}}{\\sqrt{\\pi^{2} - 11.8439865498043 - 1.97453880376977i}} + \\frac{\\left(236836041827900 i + 18637172625\\right) \\, \\pi^{2}}{\\sqrt{\\left(\\frac{100}{79} i + \\frac{5}{49928}\\right) \\, \\pi^{2} - 1.18610664855435 \\times 10^{-6} - 1.97738623995530 \\times 10^{-7}i}}\\right)} {\\left(i \\, \\mathit{A1}_{z_{\\mathit{im}}} + 1\\right)} - \\frac{5}{935502365189} \\, {\\left(-\\frac{\\left(24964 i + 59209010455\\right) \\, \\pi^{2}}{\\sqrt{\\pi^{2} - 11.8439865498043 - 1.97453880376977i}} + \\frac{\\left(236836041827900 i + 18637172625\\right) \\, \\pi^{2}}{\\sqrt{\\left(\\frac{100}{79} i + \\frac{5}{49928}\\right) \\, \\pi^{2} - 1.18610664855435 \\times 10^{-6} - 1.97738623995530 \\times 10^{-7}i}}\\right)} {\\left(i \\, \\mathit{A2}_{z_{\\mathit{im}}} + \\mathit{A2}_{z_{\\mathit{re}}}\\right)},\\,-i \\, \\mathit{A1}_{z_{\\mathit{im}}} - i \\, \\mathit{A2}_{z_{\\mathit{im}}} - \\mathit{A2}_{z_{\\mathit{re}}} + i \\, \\mathit{B1}_{z_{\\mathit{im}}} + \\mathit{B1}_{z_{\\mathit{re}}} - 1\\right)$"
      ],
      "text/plain": [
       "<IPython.core.display.Math object>"
      ]
     },
     "metadata": {},
     "output_type": "display_data"
    }
   ],
   "source": [
    "M3_subs_d_X = M3_subs_d * X\n",
    "display(Math(latex(M3_subs_d_X)))"
   ]
  },
  {
   "cell_type": "code",
   "execution_count": 315,
   "metadata": {},
   "outputs": [],
   "source": [
    "A1_z_re_d = 1\n",
    "\n",
    "eq_sys_M3X = []\n",
    "for i in range(len(M3_subs_d_X)):\n",
    "    eq_sys_M3X += [M3_subs_d_X[i].real().subs(A1_z_re == A1_z_re_d) == 0]\n",
    "    eq_sys_M3X += [M3_subs_d_X[i].imag().subs(A1_z_re == A1_z_re_d) == 0]    "
   ]
  },
  {
   "cell_type": "code",
   "execution_count": 316,
   "metadata": {},
   "outputs": [
    {
     "name": "stdout",
     "output_type": "stream",
     "text": [
      "-1.00048864594479\n",
      "\n",
      "-0.000202473069070399\n",
      "\n",
      "2500.13017600770\n",
      "\n",
      "2500.94581400672\n",
      "\n",
      "1.00000000000000\n",
      "\n",
      "0.000000000000000\n",
      "\n"
     ]
    }
   ],
   "source": [
    "M3X_B = []\n",
    "for i in range(len(eq_sys_M3X)):\n",
    "    eq_sys_M3X_i_subs_vars_0 = eq_sys_M3X[i].subs([A1_z_im == 0, A2_z_re == 0, A2_z_im == 0, B1_z_re == 0, B1_z_im == 0])\n",
    "    M3X_B_i = - eq_sys_M3X_i_subs_vars_0.lhs()\n",
    "    M3X_B += [M3X_B_i.n()]\n",
    "    print (M3X_B_i.n())\n",
    "    print (\"\")"
   ]
  },
  {
   "cell_type": "code",
   "execution_count": 317,
   "metadata": {},
   "outputs": [
    {
     "data": {
      "text/plain": [
       "[-1.00048864594479,\n",
       " -0.000202473069070399,\n",
       " 2500.13017600770,\n",
       " 2500.94581400672,\n",
       " 1.00000000000000,\n",
       " 0.000000000000000]"
      ]
     },
     "execution_count": 317,
     "metadata": {},
     "output_type": "execute_result"
    }
   ],
   "source": [
    "M3X_B"
   ]
  },
  {
   "cell_type": "code",
   "execution_count": 318,
   "metadata": {},
   "outputs": [],
   "source": [
    "eq_sys_M3X_vars5 = [A1_z_im, A2_z_re, A2_z_im, B1_z_re, B1_z_im]"
   ]
  },
  {
   "cell_type": "code",
   "execution_count": 319,
   "metadata": {},
   "outputs": [
    {
     "data": {
      "text/latex": [
       "$\\displaystyle \\left(\\begin{array}{rrrrr}\n",
       "-0.000202473069070399 & 0.999511551778145 & 0.000202275330439887 & 0.000000000000000 & 0.000000000000000 \\\\\n",
       "1.00048864594479 & -0.000202275330439887 & 0.999511551778145 & 0.000000000000000 & 0.000000000000000 \\\\\n",
       "2500.94581400672 & -2498.69956701143 & 2497.49220800381 & 0.000000000000000 & 0.000000000000000 \\\\\n",
       "-2500.13017600770 & -2497.49220800381 & -2498.69956701143 & 0.000000000000000 & 0.000000000000000 \\\\\n",
       "0.000000000000000 & -1.00000000000000 & 0.000000000000000 & 1.00000000000000 & 0.000000000000000 \\\\\n",
       "-1.00000000000000 & 0.000000000000000 & -1.00000000000000 & 0.000000000000000 & 1.00000000000000\n",
       "\\end{array}\\right)$"
      ],
      "text/plain": [
       "<IPython.core.display.Math object>"
      ]
     },
     "metadata": {},
     "output_type": "display_data"
    }
   ],
   "source": [
    "eq_sys_M3X_M = GenerateMatrix(eq_sys_M3X, eq_sys_M3X_vars5)\n",
    "\n",
    "display(Math(latex(eq_sys_M3X_M.n())))"
   ]
  },
  {
   "cell_type": "code",
   "execution_count": 331,
   "metadata": {},
   "outputs": [
    {
     "name": "stdout",
     "output_type": "stream",
     "text": [
      "\n",
      "M.nrows() 6\n",
      "M.ncols() 5\n",
      "M.pivot_rows() = (0, 1, 2, 4, 5)\n",
      "row = (-cosh(1/3160*sqrt(abs(pi^2 - 11.8439865498043 - 1.97453880376977*I))*sin(1/2*arctan2(-1.97453880376977, pi^2 - 11.8439865498043)))*sin(1/3160*sqrt(abs(pi^2 - 11.8439865498043 - 1.97453880376977*I))*cos(1/2*arctan2(-1.97453880376977, pi^2 - 11.8439865498043))) + sin(1/3160*sqrt(abs(pi^2 - 11.8439865498043 - 1.97453880376977*I))*cos(1/2*arctan2(-1.97453880376977, pi^2 - 11.8439865498043)))*sinh(1/3160*sqrt(abs(pi^2 - 11.8439865498043 - 1.97453880376977*I))*sin(1/2*arctan2(-1.97453880376977, pi^2 - 11.8439865498043))), cos(-1/3160*sqrt(abs(pi^2 - 11.8439865498043 - 1.97453880376977*I))*cos(1/2*arctan2(-1.97453880376977, pi^2 - 11.8439865498043)))*cosh(-1/3160*sqrt(abs(pi^2 - 11.8439865498043 - 1.97453880376977*I))*sin(1/2*arctan2(-1.97453880376977, pi^2 - 11.8439865498043))) - cos(-1/3160*sqrt(abs(pi^2 - 11.8439865498043 - 1.97453880376977*I))*cos(1/2*arctan2(-1.97453880376977, pi^2 - 11.8439865498043)))*sinh(-1/3160*sqrt(abs(pi^2 - 11.8439865498043 - 1.97453880376977*I))*sin(1/2*arctan2(-1.97453880376977, pi^2 - 11.8439865498043))), -cosh(-1/3160*sqrt(abs(pi^2 - 11.8439865498043 - 1.97453880376977*I))*sin(1/2*arctan2(-1.97453880376977, pi^2 - 11.8439865498043)))*sin(-1/3160*sqrt(abs(pi^2 - 11.8439865498043 - 1.97453880376977*I))*cos(1/2*arctan2(-1.97453880376977, pi^2 - 11.8439865498043))) + sin(-1/3160*sqrt(abs(pi^2 - 11.8439865498043 - 1.97453880376977*I))*cos(1/2*arctan2(-1.97453880376977, pi^2 - 11.8439865498043)))*sinh(-1/3160*sqrt(abs(pi^2 - 11.8439865498043 - 1.97453880376977*I))*sin(1/2*arctan2(-1.97453880376977, pi^2 - 11.8439865498043))), 0, 0)\n",
      "row = (cos(1/3160*sqrt(abs(pi^2 - 11.8439865498043 - 1.97453880376977*I))*cos(1/2*arctan2(-1.97453880376977, pi^2 - 11.8439865498043)))*cosh(1/3160*sqrt(abs(pi^2 - 11.8439865498043 - 1.97453880376977*I))*sin(1/2*arctan2(-1.97453880376977, pi^2 - 11.8439865498043))) - cos(1/3160*sqrt(abs(pi^2 - 11.8439865498043 - 1.97453880376977*I))*cos(1/2*arctan2(-1.97453880376977, pi^2 - 11.8439865498043)))*sinh(1/3160*sqrt(abs(pi^2 - 11.8439865498043 - 1.97453880376977*I))*sin(1/2*arctan2(-1.97453880376977, pi^2 - 11.8439865498043))), cosh(-1/3160*sqrt(abs(pi^2 - 11.8439865498043 - 1.97453880376977*I))*sin(1/2*arctan2(-1.97453880376977, pi^2 - 11.8439865498043)))*sin(-1/3160*sqrt(abs(pi^2 - 11.8439865498043 - 1.97453880376977*I))*cos(1/2*arctan2(-1.97453880376977, pi^2 - 11.8439865498043))) - sin(-1/3160*sqrt(abs(pi^2 - 11.8439865498043 - 1.97453880376977*I))*cos(1/2*arctan2(-1.97453880376977, pi^2 - 11.8439865498043)))*sinh(-1/3160*sqrt(abs(pi^2 - 11.8439865498043 - 1.97453880376977*I))*sin(1/2*arctan2(-1.97453880376977, pi^2 - 11.8439865498043))), cos(-1/3160*sqrt(abs(pi^2 - 11.8439865498043 - 1.97453880376977*I))*cos(1/2*arctan2(-1.97453880376977, pi^2 - 11.8439865498043)))*cosh(-1/3160*sqrt(abs(pi^2 - 11.8439865498043 - 1.97453880376977*I))*sin(1/2*arctan2(-1.97453880376977, pi^2 - 11.8439865498043))) - cos(-1/3160*sqrt(abs(pi^2 - 11.8439865498043 - 1.97453880376977*I))*cos(1/2*arctan2(-1.97453880376977, pi^2 - 11.8439865498043)))*sinh(-1/3160*sqrt(abs(pi^2 - 11.8439865498043 - 1.97453880376977*I))*sin(1/2*arctan2(-1.97453880376977, pi^2 - 11.8439865498043))), 0, 0)\n",
      "row = (20/149896229*pi^2*cos(-1/2*arctan2(-1.97453880376977, pi^2 - 11.8439865498043))/sqrt(abs(pi^2 - 11.8439865498043 - 1.97453880376977*I)) + 14989622900500/11841802091*pi^2*cos(-1/2*arctan2(100/79*pi^2 - 1.97738623995530e-7, 5/49928*pi^2 - 1.18610664855435e-6))/sqrt(abs((100/79*I + 5/49928)*pi^2 - 1.18610664855435e-6 - 1.97738623995530e-7*I)) + 25/79*pi^2*sin(-1/2*arctan2(-1.97453880376977, pi^2 - 11.8439865498043))/sqrt(abs(pi^2 - 11.8439865498043 - 1.97453880376977*I)) + 93185863125/935502365189*pi^2*sin(-1/2*arctan2(100/79*pi^2 - 1.97738623995530e-7, 5/49928*pi^2 - 1.18610664855435e-6))/sqrt(abs((100/79*I + 5/49928)*pi^2 - 1.18610664855435e-6 - 1.97738623995530e-7*I)), 25/79*pi^2*cos(-1/2*arctan2(-1.97453880376977, pi^2 - 11.8439865498043))/sqrt(abs(pi^2 - 11.8439865498043 - 1.97453880376977*I)) - 93185863125/935502365189*pi^2*cos(-1/2*arctan2(100/79*pi^2 - 1.97738623995530e-7, 5/49928*pi^2 - 1.18610664855435e-6))/sqrt(abs((100/79*I + 5/49928)*pi^2 - 1.18610664855435e-6 - 1.97738623995530e-7*I)) - 20/149896229*pi^2*sin(-1/2*arctan2(-1.97453880376977, pi^2 - 11.8439865498043))/sqrt(abs(pi^2 - 11.8439865498043 - 1.97453880376977*I)) + 14989622900500/11841802091*pi^2*sin(-1/2*arctan2(100/79*pi^2 - 1.97738623995530e-7, 5/49928*pi^2 - 1.18610664855435e-6))/sqrt(abs((100/79*I + 5/49928)*pi^2 - 1.18610664855435e-6 - 1.97738623995530e-7*I)), -20/149896229*pi^2*cos(-1/2*arctan2(-1.97453880376977, pi^2 - 11.8439865498043))/sqrt(abs(pi^2 - 11.8439865498043 - 1.97453880376977*I)) + 14989622900500/11841802091*pi^2*cos(-1/2*arctan2(100/79*pi^2 - 1.97738623995530e-7, 5/49928*pi^2 - 1.18610664855435e-6))/sqrt(abs((100/79*I + 5/49928)*pi^2 - 1.18610664855435e-6 - 1.97738623995530e-7*I)) - 25/79*pi^2*sin(-1/2*arctan2(-1.97453880376977, pi^2 - 11.8439865498043))/sqrt(abs(pi^2 - 11.8439865498043 - 1.97453880376977*I)) + 93185863125/935502365189*pi^2*sin(-1/2*arctan2(100/79*pi^2 - 1.97738623995530e-7, 5/49928*pi^2 - 1.18610664855435e-6))/sqrt(abs((100/79*I + 5/49928)*pi^2 - 1.18610664855435e-6 - 1.97738623995530e-7*I)), 0, 0)\n",
      "row = (-25/79*pi^2*cos(-1/2*arctan2(-1.97453880376977, pi^2 - 11.8439865498043))/sqrt(abs(pi^2 - 11.8439865498043 - 1.97453880376977*I)) - 93185863125/935502365189*pi^2*cos(-1/2*arctan2(100/79*pi^2 - 1.97738623995530e-7, 5/49928*pi^2 - 1.18610664855435e-6))/sqrt(abs((100/79*I + 5/49928)*pi^2 - 1.18610664855435e-6 - 1.97738623995530e-7*I)) + 20/149896229*pi^2*sin(-1/2*arctan2(-1.97453880376977, pi^2 - 11.8439865498043))/sqrt(abs(pi^2 - 11.8439865498043 - 1.97453880376977*I)) + 14989622900500/11841802091*pi^2*sin(-1/2*arctan2(100/79*pi^2 - 1.97738623995530e-7, 5/49928*pi^2 - 1.18610664855435e-6))/sqrt(abs((100/79*I + 5/49928)*pi^2 - 1.18610664855435e-6 - 1.97738623995530e-7*I)), 20/149896229*pi^2*cos(-1/2*arctan2(-1.97453880376977, pi^2 - 11.8439865498043))/sqrt(abs(pi^2 - 11.8439865498043 - 1.97453880376977*I)) - 14989622900500/11841802091*pi^2*cos(-1/2*arctan2(100/79*pi^2 - 1.97738623995530e-7, 5/49928*pi^2 - 1.18610664855435e-6))/sqrt(abs((100/79*I + 5/49928)*pi^2 - 1.18610664855435e-6 - 1.97738623995530e-7*I)) + 25/79*pi^2*sin(-1/2*arctan2(-1.97453880376977, pi^2 - 11.8439865498043))/sqrt(abs(pi^2 - 11.8439865498043 - 1.97453880376977*I)) - 93185863125/935502365189*pi^2*sin(-1/2*arctan2(100/79*pi^2 - 1.97738623995530e-7, 5/49928*pi^2 - 1.18610664855435e-6))/sqrt(abs((100/79*I + 5/49928)*pi^2 - 1.18610664855435e-6 - 1.97738623995530e-7*I)), 25/79*pi^2*cos(-1/2*arctan2(-1.97453880376977, pi^2 - 11.8439865498043))/sqrt(abs(pi^2 - 11.8439865498043 - 1.97453880376977*I)) - 93185863125/935502365189*pi^2*cos(-1/2*arctan2(100/79*pi^2 - 1.97738623995530e-7, 5/49928*pi^2 - 1.18610664855435e-6))/sqrt(abs((100/79*I + 5/49928)*pi^2 - 1.18610664855435e-6 - 1.97738623995530e-7*I)) - 20/149896229*pi^2*sin(-1/2*arctan2(-1.97453880376977, pi^2 - 11.8439865498043))/sqrt(abs(pi^2 - 11.8439865498043 - 1.97453880376977*I)) + 14989622900500/11841802091*pi^2*sin(-1/2*arctan2(100/79*pi^2 - 1.97738623995530e-7, 5/49928*pi^2 - 1.18610664855435e-6))/sqrt(abs((100/79*I + 5/49928)*pi^2 - 1.18610664855435e-6 - 1.97738623995530e-7*I)), 0, 0)\n",
      "row = (0, -1, 0, 1, 0)\n",
      "row = (-1, 0, -1, 0, 1)\n",
      "M_rows[ 0 ] =\n"
     ]
    },
    {
     "data": {
      "text/latex": [
       "$\\displaystyle \\left(-\\cosh\\left(\\frac{1}{3160} \\, \\sqrt{{\\left| \\pi^{2} - 11.8439865498043 - 1.97453880376977i \\right|}} \\sin\\left(\\frac{1}{2} \\, \\arctan\\left(-1.97453880376977, \\pi^{2} - 11.8439865498043\\right)\\right)\\right) \\sin\\left(\\frac{1}{3160} \\, \\sqrt{{\\left| \\pi^{2} - 11.8439865498043 - 1.97453880376977i \\right|}} \\cos\\left(\\frac{1}{2} \\, \\arctan\\left(-1.97453880376977, \\pi^{2} - 11.8439865498043\\right)\\right)\\right) + \\sin\\left(\\frac{1}{3160} \\, \\sqrt{{\\left| \\pi^{2} - 11.8439865498043 - 1.97453880376977i \\right|}} \\cos\\left(\\frac{1}{2} \\, \\arctan\\left(-1.97453880376977, \\pi^{2} - 11.8439865498043\\right)\\right)\\right) \\sinh\\left(\\frac{1}{3160} \\, \\sqrt{{\\left| \\pi^{2} - 11.8439865498043 - 1.97453880376977i \\right|}} \\sin\\left(\\frac{1}{2} \\, \\arctan\\left(-1.97453880376977, \\pi^{2} - 11.8439865498043\\right)\\right)\\right),\\,\\cos\\left(-\\frac{1}{3160} \\, \\sqrt{{\\left| \\pi^{2} - 11.8439865498043 - 1.97453880376977i \\right|}} \\cos\\left(\\frac{1}{2} \\, \\arctan\\left(-1.97453880376977, \\pi^{2} - 11.8439865498043\\right)\\right)\\right) \\cosh\\left(-\\frac{1}{3160} \\, \\sqrt{{\\left| \\pi^{2} - 11.8439865498043 - 1.97453880376977i \\right|}} \\sin\\left(\\frac{1}{2} \\, \\arctan\\left(-1.97453880376977, \\pi^{2} - 11.8439865498043\\right)\\right)\\right) - \\cos\\left(-\\frac{1}{3160} \\, \\sqrt{{\\left| \\pi^{2} - 11.8439865498043 - 1.97453880376977i \\right|}} \\cos\\left(\\frac{1}{2} \\, \\arctan\\left(-1.97453880376977, \\pi^{2} - 11.8439865498043\\right)\\right)\\right) \\sinh\\left(-\\frac{1}{3160} \\, \\sqrt{{\\left| \\pi^{2} - 11.8439865498043 - 1.97453880376977i \\right|}} \\sin\\left(\\frac{1}{2} \\, \\arctan\\left(-1.97453880376977, \\pi^{2} - 11.8439865498043\\right)\\right)\\right),\\,-\\cosh\\left(-\\frac{1}{3160} \\, \\sqrt{{\\left| \\pi^{2} - 11.8439865498043 - 1.97453880376977i \\right|}} \\sin\\left(\\frac{1}{2} \\, \\arctan\\left(-1.97453880376977, \\pi^{2} - 11.8439865498043\\right)\\right)\\right) \\sin\\left(-\\frac{1}{3160} \\, \\sqrt{{\\left| \\pi^{2} - 11.8439865498043 - 1.97453880376977i \\right|}} \\cos\\left(\\frac{1}{2} \\, \\arctan\\left(-1.97453880376977, \\pi^{2} - 11.8439865498043\\right)\\right)\\right) + \\sin\\left(-\\frac{1}{3160} \\, \\sqrt{{\\left| \\pi^{2} - 11.8439865498043 - 1.97453880376977i \\right|}} \\cos\\left(\\frac{1}{2} \\, \\arctan\\left(-1.97453880376977, \\pi^{2} - 11.8439865498043\\right)\\right)\\right) \\sinh\\left(-\\frac{1}{3160} \\, \\sqrt{{\\left| \\pi^{2} - 11.8439865498043 - 1.97453880376977i \\right|}} \\sin\\left(\\frac{1}{2} \\, \\arctan\\left(-1.97453880376977, \\pi^{2} - 11.8439865498043\\right)\\right)\\right),\\,0,\\,0\\right)$"
      ],
      "text/plain": [
       "<IPython.core.display.Math object>"
      ]
     },
     "metadata": {},
     "output_type": "display_data"
    },
    {
     "name": "stdout",
     "output_type": "stream",
     "text": [
      "M_rows[ 1 ] =\n"
     ]
    },
    {
     "data": {
      "text/latex": [
       "$\\displaystyle \\left(\\cos\\left(\\frac{1}{3160} \\, \\sqrt{{\\left| \\pi^{2} - 11.8439865498043 - 1.97453880376977i \\right|}} \\cos\\left(\\frac{1}{2} \\, \\arctan\\left(-1.97453880376977, \\pi^{2} - 11.8439865498043\\right)\\right)\\right) \\cosh\\left(\\frac{1}{3160} \\, \\sqrt{{\\left| \\pi^{2} - 11.8439865498043 - 1.97453880376977i \\right|}} \\sin\\left(\\frac{1}{2} \\, \\arctan\\left(-1.97453880376977, \\pi^{2} - 11.8439865498043\\right)\\right)\\right) - \\cos\\left(\\frac{1}{3160} \\, \\sqrt{{\\left| \\pi^{2} - 11.8439865498043 - 1.97453880376977i \\right|}} \\cos\\left(\\frac{1}{2} \\, \\arctan\\left(-1.97453880376977, \\pi^{2} - 11.8439865498043\\right)\\right)\\right) \\sinh\\left(\\frac{1}{3160} \\, \\sqrt{{\\left| \\pi^{2} - 11.8439865498043 - 1.97453880376977i \\right|}} \\sin\\left(\\frac{1}{2} \\, \\arctan\\left(-1.97453880376977, \\pi^{2} - 11.8439865498043\\right)\\right)\\right),\\,\\cosh\\left(-\\frac{1}{3160} \\, \\sqrt{{\\left| \\pi^{2} - 11.8439865498043 - 1.97453880376977i \\right|}} \\sin\\left(\\frac{1}{2} \\, \\arctan\\left(-1.97453880376977, \\pi^{2} - 11.8439865498043\\right)\\right)\\right) \\sin\\left(-\\frac{1}{3160} \\, \\sqrt{{\\left| \\pi^{2} - 11.8439865498043 - 1.97453880376977i \\right|}} \\cos\\left(\\frac{1}{2} \\, \\arctan\\left(-1.97453880376977, \\pi^{2} - 11.8439865498043\\right)\\right)\\right) - \\sin\\left(-\\frac{1}{3160} \\, \\sqrt{{\\left| \\pi^{2} - 11.8439865498043 - 1.97453880376977i \\right|}} \\cos\\left(\\frac{1}{2} \\, \\arctan\\left(-1.97453880376977, \\pi^{2} - 11.8439865498043\\right)\\right)\\right) \\sinh\\left(-\\frac{1}{3160} \\, \\sqrt{{\\left| \\pi^{2} - 11.8439865498043 - 1.97453880376977i \\right|}} \\sin\\left(\\frac{1}{2} \\, \\arctan\\left(-1.97453880376977, \\pi^{2} - 11.8439865498043\\right)\\right)\\right),\\,\\cos\\left(-\\frac{1}{3160} \\, \\sqrt{{\\left| \\pi^{2} - 11.8439865498043 - 1.97453880376977i \\right|}} \\cos\\left(\\frac{1}{2} \\, \\arctan\\left(-1.97453880376977, \\pi^{2} - 11.8439865498043\\right)\\right)\\right) \\cosh\\left(-\\frac{1}{3160} \\, \\sqrt{{\\left| \\pi^{2} - 11.8439865498043 - 1.97453880376977i \\right|}} \\sin\\left(\\frac{1}{2} \\, \\arctan\\left(-1.97453880376977, \\pi^{2} - 11.8439865498043\\right)\\right)\\right) - \\cos\\left(-\\frac{1}{3160} \\, \\sqrt{{\\left| \\pi^{2} - 11.8439865498043 - 1.97453880376977i \\right|}} \\cos\\left(\\frac{1}{2} \\, \\arctan\\left(-1.97453880376977, \\pi^{2} - 11.8439865498043\\right)\\right)\\right) \\sinh\\left(-\\frac{1}{3160} \\, \\sqrt{{\\left| \\pi^{2} - 11.8439865498043 - 1.97453880376977i \\right|}} \\sin\\left(\\frac{1}{2} \\, \\arctan\\left(-1.97453880376977, \\pi^{2} - 11.8439865498043\\right)\\right)\\right),\\,0,\\,0\\right)$"
      ],
      "text/plain": [
       "<IPython.core.display.Math object>"
      ]
     },
     "metadata": {},
     "output_type": "display_data"
    },
    {
     "name": "stdout",
     "output_type": "stream",
     "text": [
      "M_rows[ 2 ] =\n"
     ]
    },
    {
     "data": {
      "text/latex": [
       "$\\displaystyle \\left(\\frac{20 \\, \\pi^{2} \\cos\\left(-\\frac{1}{2} \\, \\arctan\\left(-1.97453880376977, \\pi^{2} - 11.8439865498043\\right)\\right)}{149896229 \\, \\sqrt{{\\left| \\pi^{2} - 11.8439865498043 - 1.97453880376977i \\right|}}} + \\frac{14989622900500 \\, \\pi^{2} \\cos\\left(-\\frac{1}{2} \\, \\arctan\\left(\\frac{100}{79} \\, \\pi^{2} - 1.97738623995530 \\times 10^{-7}, \\frac{5}{49928} \\, \\pi^{2} - 1.18610664855435 \\times 10^{-6}\\right)\\right)}{11841802091 \\, \\sqrt{{\\left| \\left(\\frac{100}{79} i + \\frac{5}{49928}\\right) \\, \\pi^{2} - 1.18610664855435 \\times 10^{-6} - 1.97738623995530 \\times 10^{-7}i \\right|}}} + \\frac{25 \\, \\pi^{2} \\sin\\left(-\\frac{1}{2} \\, \\arctan\\left(-1.97453880376977, \\pi^{2} - 11.8439865498043\\right)\\right)}{79 \\, \\sqrt{{\\left| \\pi^{2} - 11.8439865498043 - 1.97453880376977i \\right|}}} + \\frac{93185863125 \\, \\pi^{2} \\sin\\left(-\\frac{1}{2} \\, \\arctan\\left(\\frac{100}{79} \\, \\pi^{2} - 1.97738623995530 \\times 10^{-7}, \\frac{5}{49928} \\, \\pi^{2} - 1.18610664855435 \\times 10^{-6}\\right)\\right)}{935502365189 \\, \\sqrt{{\\left| \\left(\\frac{100}{79} i + \\frac{5}{49928}\\right) \\, \\pi^{2} - 1.18610664855435 \\times 10^{-6} - 1.97738623995530 \\times 10^{-7}i \\right|}}},\\,\\frac{25 \\, \\pi^{2} \\cos\\left(-\\frac{1}{2} \\, \\arctan\\left(-1.97453880376977, \\pi^{2} - 11.8439865498043\\right)\\right)}{79 \\, \\sqrt{{\\left| \\pi^{2} - 11.8439865498043 - 1.97453880376977i \\right|}}} - \\frac{93185863125 \\, \\pi^{2} \\cos\\left(-\\frac{1}{2} \\, \\arctan\\left(\\frac{100}{79} \\, \\pi^{2} - 1.97738623995530 \\times 10^{-7}, \\frac{5}{49928} \\, \\pi^{2} - 1.18610664855435 \\times 10^{-6}\\right)\\right)}{935502365189 \\, \\sqrt{{\\left| \\left(\\frac{100}{79} i + \\frac{5}{49928}\\right) \\, \\pi^{2} - 1.18610664855435 \\times 10^{-6} - 1.97738623995530 \\times 10^{-7}i \\right|}}} - \\frac{20 \\, \\pi^{2} \\sin\\left(-\\frac{1}{2} \\, \\arctan\\left(-1.97453880376977, \\pi^{2} - 11.8439865498043\\right)\\right)}{149896229 \\, \\sqrt{{\\left| \\pi^{2} - 11.8439865498043 - 1.97453880376977i \\right|}}} + \\frac{14989622900500 \\, \\pi^{2} \\sin\\left(-\\frac{1}{2} \\, \\arctan\\left(\\frac{100}{79} \\, \\pi^{2} - 1.97738623995530 \\times 10^{-7}, \\frac{5}{49928} \\, \\pi^{2} - 1.18610664855435 \\times 10^{-6}\\right)\\right)}{11841802091 \\, \\sqrt{{\\left| \\left(\\frac{100}{79} i + \\frac{5}{49928}\\right) \\, \\pi^{2} - 1.18610664855435 \\times 10^{-6} - 1.97738623995530 \\times 10^{-7}i \\right|}}},\\,-\\frac{20 \\, \\pi^{2} \\cos\\left(-\\frac{1}{2} \\, \\arctan\\left(-1.97453880376977, \\pi^{2} - 11.8439865498043\\right)\\right)}{149896229 \\, \\sqrt{{\\left| \\pi^{2} - 11.8439865498043 - 1.97453880376977i \\right|}}} + \\frac{14989622900500 \\, \\pi^{2} \\cos\\left(-\\frac{1}{2} \\, \\arctan\\left(\\frac{100}{79} \\, \\pi^{2} - 1.97738623995530 \\times 10^{-7}, \\frac{5}{49928} \\, \\pi^{2} - 1.18610664855435 \\times 10^{-6}\\right)\\right)}{11841802091 \\, \\sqrt{{\\left| \\left(\\frac{100}{79} i + \\frac{5}{49928}\\right) \\, \\pi^{2} - 1.18610664855435 \\times 10^{-6} - 1.97738623995530 \\times 10^{-7}i \\right|}}} - \\frac{25 \\, \\pi^{2} \\sin\\left(-\\frac{1}{2} \\, \\arctan\\left(-1.97453880376977, \\pi^{2} - 11.8439865498043\\right)\\right)}{79 \\, \\sqrt{{\\left| \\pi^{2} - 11.8439865498043 - 1.97453880376977i \\right|}}} + \\frac{93185863125 \\, \\pi^{2} \\sin\\left(-\\frac{1}{2} \\, \\arctan\\left(\\frac{100}{79} \\, \\pi^{2} - 1.97738623995530 \\times 10^{-7}, \\frac{5}{49928} \\, \\pi^{2} - 1.18610664855435 \\times 10^{-6}\\right)\\right)}{935502365189 \\, \\sqrt{{\\left| \\left(\\frac{100}{79} i + \\frac{5}{49928}\\right) \\, \\pi^{2} - 1.18610664855435 \\times 10^{-6} - 1.97738623995530 \\times 10^{-7}i \\right|}}},\\,0,\\,0\\right)$"
      ],
      "text/plain": [
       "<IPython.core.display.Math object>"
      ]
     },
     "metadata": {},
     "output_type": "display_data"
    },
    {
     "name": "stdout",
     "output_type": "stream",
     "text": [
      "M_rows[ 4 ] =\n"
     ]
    },
    {
     "data": {
      "text/latex": [
       "$\\displaystyle \\left(0,\\,-1,\\,0,\\,1,\\,0\\right)$"
      ],
      "text/plain": [
       "<IPython.core.display.Math object>"
      ]
     },
     "metadata": {},
     "output_type": "display_data"
    },
    {
     "name": "stdout",
     "output_type": "stream",
     "text": [
      "M_rows[ 5 ] =\n"
     ]
    },
    {
     "data": {
      "text/latex": [
       "$\\displaystyle \\left(-1,\\,0,\\,-1,\\,0,\\,1\\right)$"
      ],
      "text/plain": [
       "<IPython.core.display.Math object>"
      ]
     },
     "metadata": {},
     "output_type": "display_data"
    },
    {
     "name": "stdout",
     "output_type": "stream",
     "text": [
      "reduced_M.nrows() 5\n",
      "reduced_M.ncols() 5\n"
     ]
    }
   ],
   "source": [
    "if not fix_c_epsilon_complex:\n",
    "    eq_sys_M3X_M_sol = eq_sys_M3X_M.solve_right(vector(M3X_B))\n",
    "else:\n",
    "    eq_sys_M3X_M_reduced = reduceDependedRows(eq_sys_M3X_M)\n",
    "    eq_sys_M3X_M_pivot_rows = eq_sys_M3X_M.pivot_rows()\n",
    "    M3X_B_reduced = [M3X_B [i] for i in eq_sys_M3X_M_pivot_rows]\n",
    "    eq_sys_M3X_M_sol = eq_sys_M3X_M_reduced.solve_right(vector(M3X_B_reduced))"
   ]
  },
  {
   "cell_type": "code",
   "execution_count": 327,
   "metadata": {},
   "outputs": [
    {
     "data": {
      "text/plain": [
       "-6.49675917801141e-13"
      ]
     },
     "execution_count": 327,
     "metadata": {},
     "output_type": "execute_result"
    }
   ],
   "source": [
    "eq_sys_M3X_M_reduced.det().n()"
   ]
  },
  {
   "cell_type": "code",
   "execution_count": 333,
   "metadata": {},
   "outputs": [
    {
     "ename": "ValueError",
     "evalue": "power::eval(): division by zero",
     "output_type": "error",
     "traceback": [
      "\u001b[0;31m---------------------------------------------------------------------------\u001b[0m",
      "\u001b[0;31mValueError\u001b[0m                                Traceback (most recent call last)",
      "\u001b[0;32m<ipython-input-333-073730e6d55b>\u001b[0m in \u001b[0;36m<module>\u001b[0;34m\u001b[0m\n\u001b[1;32m      7\u001b[0m     \u001b[0mcoeffs_subs\u001b[0m \u001b[0;34m=\u001b[0m \u001b[0;34m[\u001b[0m\u001b[0mA1_z_re\u001b[0m \u001b[0;34m==\u001b[0m \u001b[0mA1_z_re_d\u001b[0m\u001b[0;34m]\u001b[0m\u001b[0;34m\u001b[0m\u001b[0;34m\u001b[0m\u001b[0m\n\u001b[1;32m      8\u001b[0m     \u001b[0;32mfor\u001b[0m \u001b[0mi\u001b[0m \u001b[0;32min\u001b[0m \u001b[0mrange\u001b[0m\u001b[0;34m(\u001b[0m\u001b[0mlen\u001b[0m\u001b[0;34m(\u001b[0m\u001b[0meq_sys_M3X_M_sol\u001b[0m\u001b[0;34m)\u001b[0m\u001b[0;34m)\u001b[0m\u001b[0;34m:\u001b[0m\u001b[0;34m\u001b[0m\u001b[0;34m\u001b[0m\u001b[0m\n\u001b[0;32m----> 9\u001b[0;31m         \u001b[0mprint\u001b[0m\u001b[0;34m(\u001b[0m\u001b[0meq_sys_M3X_M_sol\u001b[0m\u001b[0;34m[\u001b[0m\u001b[0mi\u001b[0m\u001b[0;34m]\u001b[0m\u001b[0;34m.\u001b[0m\u001b[0mn\u001b[0m\u001b[0;34m(\u001b[0m\u001b[0;34m)\u001b[0m\u001b[0;34m)\u001b[0m\u001b[0;31m#.variables())\u001b[0m\u001b[0;34m\u001b[0m\u001b[0;34m\u001b[0m\u001b[0m\n\u001b[0m\u001b[1;32m     10\u001b[0m         \u001b[0mcoeffs_subs\u001b[0m \u001b[0;34m+=\u001b[0m \u001b[0;34m[\u001b[0m\u001b[0meq_sys_M3X_vars5\u001b[0m\u001b[0;34m[\u001b[0m\u001b[0mi\u001b[0m\u001b[0;34m]\u001b[0m \u001b[0;34m==\u001b[0m \u001b[0meq_sys_M3X_M_sol\u001b[0m\u001b[0;34m[\u001b[0m\u001b[0mi\u001b[0m\u001b[0;34m]\u001b[0m\u001b[0;34m.\u001b[0m\u001b[0mn\u001b[0m\u001b[0;34m(\u001b[0m\u001b[0;34m)\u001b[0m\u001b[0;34m]\u001b[0m\u001b[0;34m\u001b[0m\u001b[0;34m\u001b[0m\u001b[0m\n",
      "\u001b[0;32m/usr3/articles/sagemath_docker_build/sage/local/lib/python3.9/site-packages/sage/structure/element.pyx\u001b[0m in \u001b[0;36msage.structure.element.Element.n (build/cythonized/sage/structure/element.c:8381)\u001b[0;34m()\u001b[0m\n\u001b[1;32m    883\u001b[0m             \u001b[0;36m0.666666666666667\u001b[0m\u001b[0;34m\u001b[0m\u001b[0;34m\u001b[0m\u001b[0m\n\u001b[1;32m    884\u001b[0m         \"\"\"\n\u001b[0;32m--> 885\u001b[0;31m         \u001b[0;32mreturn\u001b[0m \u001b[0mself\u001b[0m\u001b[0;34m.\u001b[0m\u001b[0mnumerical_approx\u001b[0m\u001b[0;34m(\u001b[0m\u001b[0mprec\u001b[0m\u001b[0;34m,\u001b[0m \u001b[0mdigits\u001b[0m\u001b[0;34m,\u001b[0m \u001b[0malgorithm\u001b[0m\u001b[0;34m)\u001b[0m\u001b[0;34m\u001b[0m\u001b[0;34m\u001b[0m\u001b[0m\n\u001b[0m\u001b[1;32m    886\u001b[0m \u001b[0;34m\u001b[0m\u001b[0m\n\u001b[1;32m    887\u001b[0m     \u001b[0;32mdef\u001b[0m \u001b[0m_mpmath_\u001b[0m\u001b[0;34m(\u001b[0m\u001b[0mself\u001b[0m\u001b[0;34m,\u001b[0m \u001b[0mprec\u001b[0m\u001b[0;34m=\u001b[0m\u001b[0;36m53\u001b[0m\u001b[0;34m,\u001b[0m \u001b[0mrounding\u001b[0m\u001b[0;34m=\u001b[0m\u001b[0;32mNone\u001b[0m\u001b[0;34m)\u001b[0m\u001b[0;34m:\u001b[0m\u001b[0;34m\u001b[0m\u001b[0;34m\u001b[0m\u001b[0m\n",
      "\u001b[0;32m/usr3/articles/sagemath_docker_build/sage/local/lib/python3.9/site-packages/sage/symbolic/expression.pyx\u001b[0m in \u001b[0;36msage.symbolic.expression.Expression.numerical_approx (build/cythonized/sage/symbolic/expression.cpp:36247)\u001b[0;34m()\u001b[0m\n\u001b[1;32m   6285\u001b[0m         \u001b[0mkwds\u001b[0m \u001b[0;34m=\u001b[0m \u001b[0;34m{\u001b[0m\u001b[0;34m'parent'\u001b[0m\u001b[0;34m:\u001b[0m \u001b[0mR\u001b[0m\u001b[0;34m,\u001b[0m \u001b[0;34m'algorithm'\u001b[0m\u001b[0;34m:\u001b[0m \u001b[0malgorithm\u001b[0m\u001b[0;34m}\u001b[0m\u001b[0;34m\u001b[0m\u001b[0;34m\u001b[0m\u001b[0m\n\u001b[1;32m   6286\u001b[0m         \u001b[0;32mtry\u001b[0m\u001b[0;34m:\u001b[0m\u001b[0;34m\u001b[0m\u001b[0;34m\u001b[0m\u001b[0m\n\u001b[0;32m-> 6287\u001b[0;31m             \u001b[0mx\u001b[0m \u001b[0;34m=\u001b[0m \u001b[0mx\u001b[0m\u001b[0;34m.\u001b[0m\u001b[0m_convert\u001b[0m\u001b[0;34m(\u001b[0m\u001b[0mkwds\u001b[0m\u001b[0;34m)\u001b[0m\u001b[0;34m\u001b[0m\u001b[0;34m\u001b[0m\u001b[0m\n\u001b[0m\u001b[1;32m   6288\u001b[0m         \u001b[0;32mexcept\u001b[0m \u001b[0mTypeError\u001b[0m\u001b[0;34m:\u001b[0m \u001b[0;31m# numerical approximation for real number failed\u001b[0m\u001b[0;34m\u001b[0m\u001b[0;34m\u001b[0m\u001b[0m\n\u001b[1;32m   6289\u001b[0m             \u001b[0;32mpass\u001b[0m          \u001b[0;31m# try again with complex\u001b[0m\u001b[0;34m\u001b[0m\u001b[0;34m\u001b[0m\u001b[0m\n",
      "\u001b[0;32m/usr3/articles/sagemath_docker_build/sage/local/lib/python3.9/site-packages/sage/symbolic/expression.pyx\u001b[0m in \u001b[0;36msage.symbolic.expression.Expression._convert (build/cythonized/sage/symbolic/expression.cpp:10524)\u001b[0;34m()\u001b[0m\n\u001b[1;32m   1516\u001b[0m             \u001b[0;34m<\u001b[0m\u001b[0mtype\u001b[0m \u001b[0;34m'sage.rings.real_double.RealDoubleElement'\u001b[0m\u001b[0;34m>\u001b[0m\u001b[0;34m\u001b[0m\u001b[0;34m\u001b[0m\u001b[0m\n\u001b[1;32m   1517\u001b[0m         \"\"\"\n\u001b[0;32m-> 1518\u001b[0;31m         \u001b[0mcdef\u001b[0m \u001b[0mGEx\u001b[0m \u001b[0mres\u001b[0m \u001b[0;34m=\u001b[0m \u001b[0mself\u001b[0m\u001b[0;34m.\u001b[0m\u001b[0m_gobj\u001b[0m\u001b[0;34m.\u001b[0m\u001b[0mevalf\u001b[0m\u001b[0;34m(\u001b[0m\u001b[0;36m0\u001b[0m\u001b[0;34m,\u001b[0m \u001b[0mkwds\u001b[0m\u001b[0;34m)\u001b[0m\u001b[0;34m\u001b[0m\u001b[0;34m\u001b[0m\u001b[0m\n\u001b[0m\u001b[1;32m   1519\u001b[0m         \u001b[0;32mreturn\u001b[0m \u001b[0mnew_Expression_from_GEx\u001b[0m\u001b[0;34m(\u001b[0m\u001b[0mself\u001b[0m\u001b[0;34m.\u001b[0m\u001b[0m_parent\u001b[0m\u001b[0;34m,\u001b[0m \u001b[0mres\u001b[0m\u001b[0;34m)\u001b[0m\u001b[0;34m\u001b[0m\u001b[0;34m\u001b[0m\u001b[0m\n\u001b[1;32m   1520\u001b[0m \u001b[0;34m\u001b[0m\u001b[0m\n",
      "\u001b[0;31mValueError\u001b[0m: power::eval(): division by zero"
     ]
    }
   ],
   "source": [
    "if not fix_c_epsilon_complex:\n",
    "    coeffs_subs = [A1_z_re == A1_z_re_d]\n",
    "    for i in range(len(eq_sys_M3X_M_sol)):\n",
    "        print(eq_sys_M3X_M_sol[i].n())#.variables())\n",
    "        coeffs_subs += [eq_sys_M3X_vars5[i] == eq_sys_M3X_M_sol[i].n()]\n",
    "else:\n",
    "    coeffs_subs = [A1_z_re == A1_z_re_d]\n",
    "    for i in range(len(eq_sys_M3X_M_sol)):\n",
    "        print(eq_sys_M3X_M_sol[i].n())#.variables())\n",
    "        coeffs_subs += [eq_sys_M3X_vars5[i] == eq_sys_M3X_M_sol[i].n()]"
   ]
  },
  {
   "cell_type": "code",
   "execution_count": null,
   "metadata": {},
   "outputs": [],
   "source": [
    "coeffs_subs"
   ]
  },
  {
   "cell_type": "code",
   "execution_count": null,
   "metadata": {},
   "outputs": [],
   "source": []
  },
  {
   "cell_type": "code",
   "execution_count": null,
   "metadata": {},
   "outputs": [],
   "source": [
    "K_vacuum_subs_d = K_vacuum_subs.subs(kappa_vacuum_sol).subs(kappa_sol).subs(k_z_sol_subs).subs(eqEz_a).subs(A1_x_re_im_subs, A2_x_re_im_subs) \\\n",
    ".subs(digit_values).subs([A1_z_re_im_subs,A2_z_re_im_subs]).subs(coeffs_subs)\n",
    "\n",
    "K_vacuum_subs_d"
   ]
  },
  {
   "cell_type": "code",
   "execution_count": null,
   "metadata": {},
   "outputs": [],
   "source": [
    "K_vacuum_subs_d.rhs().n()"
   ]
  },
  {
   "cell_type": "code",
   "execution_count": null,
   "metadata": {},
   "outputs": [],
   "source": [
    "K_conductor_subs_d = K_conductor_subs.subs(kappa_vacuum_sol).subs(kappa_sol).subs(k_z_sol_subs).subs(eqEz_a).subs(A1_x_re_im_subs, A2_x_re_im_subs) \\\n",
    ".subs(digit_values).subs([A1_z_re_im_subs,A2_z_re_im_subs]).subs(coeffs_subs)\n",
    "\n",
    "K_conductor_subs_d"
   ]
  },
  {
   "cell_type": "code",
   "execution_count": null,
   "metadata": {},
   "outputs": [],
   "source": [
    "K_conductor_subs_d.rhs().n()"
   ]
  },
  {
   "cell_type": "markdown",
   "metadata": {},
   "source": [
    "знак перед корнем будем всегда выбирать так, чтобы корень имел положительнею мнимую часть (Зоммерфельд, Электродинамика, параграф 20, Б)"
   ]
  },
  {
   "cell_type": "code",
   "execution_count": null,
   "metadata": {},
   "outputs": [],
   "source": [
    "if K_conductor_subs_d.rhs().n().imag() < 0:\n",
    "    K_conductor_subs_d = K_conductor_subs_d.lhs() == - K_conductor_subs_d.rhs()"
   ]
  },
  {
   "cell_type": "raw",
   "metadata": {},
   "source": [
    "if K_vacuum_subs_d.rhs().n().imag() < 0:\n",
    "    K_vacuum_subs_d = K_vacuum_subs_d.lhs() == - K_vacuum_subs_d.rhs()"
   ]
  },
  {
   "cell_type": "code",
   "execution_count": null,
   "metadata": {},
   "outputs": [],
   "source": []
  },
  {
   "cell_type": "code",
   "execution_count": null,
   "metadata": {},
   "outputs": [],
   "source": [
    "eq_7_subs3.rhs(), eq_7_subs4.rhs()"
   ]
  },
  {
   "cell_type": "code",
   "execution_count": null,
   "metadata": {},
   "outputs": [],
   "source": [
    "eq_5_subs3.rhs(), eq_5_subs4.rhs()"
   ]
  },
  {
   "cell_type": "code",
   "execution_count": null,
   "metadata": {},
   "outputs": [],
   "source": []
  },
  {
   "cell_type": "code",
   "execution_count": null,
   "metadata": {},
   "outputs": [],
   "source": [
    "Ex_bad_conductor = (eq_7_subs3.rhs()).subs(K_conductor_subs_d).subs(kappa_vacuum_sol).subs(kappa_sol).subs(k_z_sol_subs).subs(eqEz_a).subs(A1_x_re_im_subs, A2_x_re_im_subs)\n",
    "Ex_vacuum        = (eq_5_subs3.rhs()).subs(K_vacuum_subs_d).subs(kappa_vacuum_sol).subs(kappa_sol).subs(k_z_sol_subs).subs(eqEz_a).subs(A1_x_re_im_subs, A2_x_re_im_subs)"
   ]
  },
  {
   "cell_type": "raw",
   "metadata": {},
   "source": [
    "print             (Ex_vacuum)\n",
    "display(Math(latex(Ex_vacuum)))"
   ]
  },
  {
   "cell_type": "raw",
   "metadata": {},
   "source": [
    "print             (Ex_bad_conductor)\n",
    "display(Math(latex(Ex_bad_conductor)))"
   ]
  },
  {
   "cell_type": "code",
   "execution_count": null,
   "metadata": {},
   "outputs": [],
   "source": [
    "eq_6_subs3.rhs()"
   ]
  },
  {
   "cell_type": "code",
   "execution_count": null,
   "metadata": {},
   "outputs": [],
   "source": [
    "eq_8_subs3.rhs()"
   ]
  },
  {
   "cell_type": "code",
   "execution_count": null,
   "metadata": {},
   "outputs": [],
   "source": []
  },
  {
   "cell_type": "code",
   "execution_count": null,
   "metadata": {},
   "outputs": [],
   "source": [
    "#Hy_bad_conductor = (eq_8_subs3.rhs()*sqrt(epsilon_complex)/sqrt(mu)).subs(K_conductor_subs_d).subs(kappa_vacuum_sol).subs(kappa_sol).subs(k_z_sol_subs).subs(eqEz_a).subs(A1_x_re_im_subs, A2_x_re_im_subs)\n",
    "#Hy_vacuum        = (eq_6_subs3.rhs()).subs(K_vacuum_subs_d).subs(kappa_vacuum_sol).subs(kappa_sol).subs(k_z_sol_subs).subs(eqEz_a).subs(A1_x_re_im_subs, A2_x_re_im_subs)"
   ]
  },
  {
   "cell_type": "code",
   "execution_count": null,
   "metadata": {},
   "outputs": [],
   "source": [
    "# sqrt(mu / epsilon_complex) = omega * mu / kappa\n",
    "# sqrt(mu / epsilon_complex) = omega * mu_rel * mu_0 / kappa\n",
    "\n",
    "# kappa/mu == omega * sqrt(epsilon_complex/mu)\n",
    "# sqrt(mu_0 / epsilon_0) = omega * mu_0 / kappa_vacuum\n",
    "\n",
    "# kappa_vacuum == omega/c\n",
    "# sqrt(mu_0 / epsilon_0) = c * mu_0\n",
    "# c = 1 / sqrt(mu_0 * epsilon_0)\n",
    "\n",
    "# kappa = omega * sqrt(epsilon_comlex*mu)\n",
    "# kappa_vacuum = omega * sqrt(epsilon_0*mu_0) = omega/c\n",
    "\n",
    "# sqrt(mu_0 / epsilon_0) = 1/(c*epsilon_0) = omega * mu_0 / kappa_vacuum\n",
    "# sqrt(mu / epsilon_complex) = 1/(c*epsilon_complex) = omega * mu / kappa\n",
    "\n",
    "# 1/mu_0 = c^2*epsolon_0"
   ]
  },
  {
   "cell_type": "code",
   "execution_count": null,
   "metadata": {},
   "outputs": [],
   "source": [
    "if not fix_c_epsilon_complex:\n",
    "    Hy_bad_conductor = (eq_8_subs3.rhs()*kappa/(mu*omega)).subs(K_conductor_subs_d).subs(kappa_vacuum_sol).subs(kappa_sol).subs(k_z_sol_subs).subs(eqEz_a).subs(A1_x_re_im_subs, A2_x_re_im_subs)\n",
    "    Hy_vacuum        = (eq_6_subs3.rhs()*kappa_vacuum/(mu_0*omega)).subs(K_vacuum_subs_d).subs(kappa_vacuum_sol).subs(kappa_sol).subs(k_z_sol_subs).subs(eqEz_a).subs(A1_x_re_im_subs, A2_x_re_im_subs)\n",
    "else:\n",
    "    Hy_bad_conductor = (c*epsilon_complex)*(eq_8_subs3.rhs()*kappa/(mu*omega))         .subs(K_conductor_subs_d).subs(kappa_vacuum_sol).subs(kappa_sol).subs(k_z_sol_subs).subs(eqEz_a).subs(A1_x_re_im_subs, A2_x_re_im_subs)\n",
    "    Hy_vacuum        = c*                  (eq_6_subs3.rhs()*kappa_vacuum/(mu_0*omega)).subs(K_vacuum_subs_d)   .subs(kappa_vacuum_sol).subs(kappa_sol).subs(k_z_sol_subs).subs(eqEz_a).subs(A1_x_re_im_subs, A2_x_re_im_subs)"
   ]
  },
  {
   "cell_type": "code",
   "execution_count": null,
   "metadata": {},
   "outputs": [],
   "source": []
  },
  {
   "cell_type": "raw",
   "metadata": {},
   "source": [
    "print             (Hy_bad_conductor)\n",
    "display(Math(latex(Hy_bad_conductor)))"
   ]
  },
  {
   "cell_type": "raw",
   "metadata": {},
   "source": [
    "print             (Hy_vacuum)\n",
    "display(Math(latex(Hy_vacuum)))"
   ]
  },
  {
   "cell_type": "code",
   "execution_count": null,
   "metadata": {},
   "outputs": [],
   "source": [
    "Ex_bad_conductor_d = Ex_bad_conductor.subs(digit_values).subs([A1_z_re_im_subs,A2_z_re_im_subs]).subs(coeffs_subs)\n",
    "Ex_vacuum_d        = Ex_vacuum.subs(digit_values).subs([A1_z_re_im_subs,A2_z_re_im_subs]).subs(coeffs_subs)"
   ]
  },
  {
   "cell_type": "code",
   "execution_count": null,
   "metadata": {},
   "outputs": [],
   "source": [
    "print             (Ex_bad_conductor_d)\n",
    "display(Math(latex(Ex_bad_conductor_d)))"
   ]
  },
  {
   "cell_type": "code",
   "execution_count": null,
   "metadata": {
    "scrolled": true
   },
   "outputs": [],
   "source": [
    "print             (Ex_vacuum_d)\n",
    "display(Math(latex(Ex_vacuum_d)))"
   ]
  },
  {
   "cell_type": "code",
   "execution_count": null,
   "metadata": {},
   "outputs": [],
   "source": []
  },
  {
   "cell_type": "code",
   "execution_count": null,
   "metadata": {},
   "outputs": [],
   "source": [
    "Hy_bad_conductor_d = Hy_bad_conductor.subs(digit_values).subs([A1_z_re_im_subs,A2_z_re_im_subs]).subs(coeffs_subs)\n",
    "Hy_vacuum_d        = Hy_vacuum.subs(digit_values).subs([A1_z_re_im_subs,A2_z_re_im_subs]).subs(coeffs_subs)"
   ]
  },
  {
   "cell_type": "code",
   "execution_count": null,
   "metadata": {},
   "outputs": [],
   "source": [
    "print             (Hy_bad_conductor_d)\n",
    "display(Math(latex(Hy_bad_conductor_d)))"
   ]
  },
  {
   "cell_type": "code",
   "execution_count": null,
   "metadata": {
    "scrolled": true
   },
   "outputs": [],
   "source": [
    "print             (Hy_vacuum_d)\n",
    "display(Math(latex(Hy_vacuum_d)))"
   ]
  },
  {
   "cell_type": "code",
   "execution_count": null,
   "metadata": {},
   "outputs": [],
   "source": []
  },
  {
   "cell_type": "code",
   "execution_count": null,
   "metadata": {},
   "outputs": [],
   "source": [
    "Hy_vacuum_d.subs(x == -A).n(), Ex_vacuum_d.subs(x == -A).n()"
   ]
  },
  {
   "cell_type": "code",
   "execution_count": null,
   "metadata": {},
   "outputs": [],
   "source": [
    "Hy_vacuum_d.subs(x == 0).n(), Ex_vacuum_d.subs(x == 0).n()"
   ]
  },
  {
   "cell_type": "code",
   "execution_count": null,
   "metadata": {},
   "outputs": [],
   "source": [
    "Hy_bad_conductor_d.subs(x == 0).n(), epsilon_d * Ex_bad_conductor_d.subs(x == 0).n()"
   ]
  },
  {
   "cell_type": "code",
   "execution_count": null,
   "metadata": {},
   "outputs": [],
   "source": [
    "Hy_bad_conductor_d.subs(x == A).n(), Ex_bad_conductor_d.subs(x == A).n()"
   ]
  },
  {
   "cell_type": "code",
   "execution_count": null,
   "metadata": {},
   "outputs": [],
   "source": []
  },
  {
   "cell_type": "code",
   "execution_count": null,
   "metadata": {},
   "outputs": [],
   "source": []
  },
  {
   "cell_type": "code",
   "execution_count": null,
   "metadata": {},
   "outputs": [],
   "source": []
  },
  {
   "cell_type": "code",
   "execution_count": null,
   "metadata": {},
   "outputs": [],
   "source": [
    "E_inner_vacuum_sol_z(x).subs(K_vacuum_subs_d)"
   ]
  },
  {
   "cell_type": "code",
   "execution_count": null,
   "metadata": {},
   "outputs": [],
   "source": [
    "Ez_vacuum        = E_inner_vacuum_sol_z(x).subs(K_vacuum_subs_d)\n",
    "Ez_bad_conductor = E_bad_conductor_sol_z(x).subs(K_conductor_subs_d).subs(eqEz_a)"
   ]
  },
  {
   "cell_type": "raw",
   "metadata": {},
   "source": [
    "print             (Ez_vacuum)\n",
    "display(Math(latex(Ez_vacuum)))"
   ]
  },
  {
   "cell_type": "code",
   "execution_count": null,
   "metadata": {},
   "outputs": [],
   "source": [
    "Ez_bad_conductor_d = Ez_bad_conductor.subs(digit_values).subs([A1_z_re_im_subs,A2_z_re_im_subs]).subs(coeffs_subs)\n",
    "Ez_vacuum_d        = Ez_vacuum.subs(digit_values).subs([A1_z_re_im_subs,A2_z_re_im_subs]).subs(coeffs_subs)"
   ]
  },
  {
   "cell_type": "code",
   "execution_count": null,
   "metadata": {},
   "outputs": [],
   "source": [
    "print             (Ez_vacuum_d)\n",
    "display(Math(latex(Ez_vacuum_d)))"
   ]
  },
  {
   "cell_type": "code",
   "execution_count": null,
   "metadata": {},
   "outputs": [],
   "source": [
    "print             (Ez_bad_conductor_d)\n",
    "display(Math(latex(Ez_bad_conductor_d)))"
   ]
  },
  {
   "cell_type": "code",
   "execution_count": null,
   "metadata": {},
   "outputs": [],
   "source": [
    "Ez_vacuum_d.subs(x == -A).n(), Ez_vacuum_d.subs(x == -A/2).n(), Ez_vacuum_d.subs(x == 0)"
   ]
  },
  {
   "cell_type": "code",
   "execution_count": null,
   "metadata": {},
   "outputs": [],
   "source": [
    "Ez_bad_conductor"
   ]
  },
  {
   "cell_type": "code",
   "execution_count": null,
   "metadata": {},
   "outputs": [],
   "source": [
    "print             (Ex_vacuum_d.variables())\n",
    "print             (Ex_bad_conductor_d.variables())"
   ]
  },
  {
   "cell_type": "code",
   "execution_count": null,
   "metadata": {},
   "outputs": [],
   "source": [
    "print             (Ez_vacuum_d.variables())\n",
    "print             (Ez_bad_conductor_d.variables())"
   ]
  },
  {
   "cell_type": "code",
   "execution_count": null,
   "metadata": {},
   "outputs": [],
   "source": [
    "print             (Hy_vacuum_d.variables())\n",
    "print             (Hy_bad_conductor_d.variables())"
   ]
  },
  {
   "cell_type": "code",
   "execution_count": null,
   "metadata": {},
   "outputs": [],
   "source": []
  },
  {
   "cell_type": "code",
   "execution_count": null,
   "metadata": {},
   "outputs": [],
   "source": [
    "eq_Hy_d = Hy_bad_conductor_d.subs(x == 0) == Hy_vacuum_d.subs(x == 0)\n",
    "\n",
    "eq_Hy_d.lhs().n(), eq_Hy_d.rhs().n()"
   ]
  },
  {
   "cell_type": "code",
   "execution_count": null,
   "metadata": {},
   "outputs": [],
   "source": []
  },
  {
   "cell_type": "code",
   "execution_count": null,
   "metadata": {},
   "outputs": [],
   "source": [
    "Ez_vacuum_d.subs(x == 0) == Ez_bad_conductor_d.subs(x == 0)"
   ]
  },
  {
   "cell_type": "code",
   "execution_count": null,
   "metadata": {},
   "outputs": [],
   "source": [
    "eq_Ex_d = Ex_vacuum_d.subs(x == 0) == epsilon_complex.subs(digit_values) * Ex_bad_conductor_d.subs(x == 0)\n",
    "eq_Ex_d.lhs().n(), eq_Ex_d.rhs().n()"
   ]
  },
  {
   "cell_type": "code",
   "execution_count": null,
   "metadata": {},
   "outputs": [],
   "source": [
    "eq_Ex_d = Ex_vacuum_d.subs(x == 0) == epsilon_d * Ex_bad_conductor_d.subs(x == 0)\n",
    "eq_Ex_d.lhs().n(), eq_Ex_d.rhs().n()"
   ]
  },
  {
   "cell_type": "code",
   "execution_count": null,
   "metadata": {},
   "outputs": [],
   "source": [
    "h_conductor = 1*A"
   ]
  },
  {
   "cell_type": "code",
   "execution_count": null,
   "metadata": {},
   "outputs": [],
   "source": [
    "Ez_bad_conductor_d"
   ]
  },
  {
   "cell_type": "code",
   "execution_count": null,
   "metadata": {},
   "outputs": [],
   "source": [
    "plt =  plot(Ez_vacuum_d.real(), (x, -A, 0))\n",
    "plt += plot(Ez_bad_conductor_d.real(), (x, 0, h_conductor))\n",
    "plt.show(title=\"График тангенциальной компоненты электрического поля\")"
   ]
  },
  {
   "cell_type": "code",
   "execution_count": null,
   "metadata": {},
   "outputs": [],
   "source": [
    "plt =  plot(Ez_vacuum_d.imag(), (x, -A, 0))\n",
    "plt += plot(Ez_bad_conductor_d.imag(), (x, 0, h_conductor))\n",
    "plt.show(title=\"График тангенциальной компоненты электрического поля\")"
   ]
  },
  {
   "cell_type": "code",
   "execution_count": null,
   "metadata": {},
   "outputs": [],
   "source": [
    "plt =  plot(Ez_vacuum_d.abs(), (x, -A, 0))\n",
    "plt += plot(Ez_bad_conductor_d.abs(), (x, 0, h_conductor))\n",
    "plt.show(title=\"График тангенциальной компоненты электрического поля\")"
   ]
  },
  {
   "cell_type": "code",
   "execution_count": null,
   "metadata": {},
   "outputs": [],
   "source": []
  },
  {
   "cell_type": "code",
   "execution_count": null,
   "metadata": {},
   "outputs": [],
   "source": [
    "plt =  plot(Ex_vacuum_d.real(), (x, -A, 0))\n",
    "plt += plot(Ex_bad_conductor_d.real(), (x, 0, h_conductor))\n",
    "plt.show(title=\"График нормальной компоненты электрического поля\")"
   ]
  },
  {
   "cell_type": "code",
   "execution_count": null,
   "metadata": {},
   "outputs": [],
   "source": [
    "plt =  plot(Ex_vacuum_d.imag(), (x, -A, 0))\n",
    "plt+= plot(Ex_bad_conductor_d.imag(), (x, 0, h_conductor))\n",
    "plt.show(title=\"График нормальной компоненты электрического поля\")"
   ]
  },
  {
   "cell_type": "code",
   "execution_count": null,
   "metadata": {
    "scrolled": true
   },
   "outputs": [],
   "source": [
    "plt =  plot(Ex_vacuum_d.abs(), (x, -A, 0))\n",
    "plt += plot(Ex_bad_conductor_d.abs(), (x, 0, h_conductor))\n",
    "plt.show(title=\"График нормальной компоненты электрического поля\")"
   ]
  },
  {
   "cell_type": "code",
   "execution_count": null,
   "metadata": {},
   "outputs": [],
   "source": []
  },
  {
   "cell_type": "code",
   "execution_count": null,
   "metadata": {},
   "outputs": [],
   "source": [
    "plt =  plot(Ex_vacuum_d.real(), (x, -A, 0))\n",
    "plt += plot(Ex_bad_conductor_d.real() * epsilon_d, (x, 0, h_conductor))\n",
    "plt.show(title=\"График нормальной компоненты электрического смещения\")"
   ]
  },
  {
   "cell_type": "code",
   "execution_count": null,
   "metadata": {},
   "outputs": [],
   "source": [
    "plt =  plot(Ex_vacuum_d.imag(), (x, -A, 0))\n",
    "plt += plot(Ex_bad_conductor_d.imag() * epsilon_d, (x, 0, h_conductor))\n",
    "plt.show(title=\"График нормальной компоненты электрического смещения\")"
   ]
  },
  {
   "cell_type": "code",
   "execution_count": null,
   "metadata": {
    "scrolled": true
   },
   "outputs": [],
   "source": [
    "plt =  plot(Ex_vacuum_d.abs(), (x, -A, 0))\n",
    "plt += plot(Ex_bad_conductor_d.abs() * epsilon_d, (x, 0, h_conductor))\n",
    "plt.show(title=\"График нормальной компоненты электрического смещения\")"
   ]
  },
  {
   "cell_type": "code",
   "execution_count": null,
   "metadata": {},
   "outputs": [],
   "source": []
  },
  {
   "cell_type": "code",
   "execution_count": null,
   "metadata": {},
   "outputs": [],
   "source": [
    "plt =  plot(Hy_vacuum_d.real(), (x, -A, 0))\n",
    "plt += plot(Hy_bad_conductor_d.real(), (x, 0, h_conductor))\n",
    "plt.show(title=\"График тангенциальной компоненты напряженности магнитного поля H\")"
   ]
  },
  {
   "cell_type": "code",
   "execution_count": null,
   "metadata": {},
   "outputs": [],
   "source": [
    "plt =  plot(Hy_vacuum_d.imag(), (x, -A, 0))\n",
    "plt += plot(Hy_bad_conductor_d.imag(), (x, 0, h_conductor))\n",
    "plt.show(title=\"График тангенциальной компоненты напряженности магнитного поля H\")"
   ]
  },
  {
   "cell_type": "code",
   "execution_count": null,
   "metadata": {},
   "outputs": [],
   "source": [
    "plt =  plot(Hy_vacuum_d.abs(), (x, -A, 0))\n",
    "plt += plot(Hy_bad_conductor_d.abs(), (x, 0, h_conductor))\n",
    "plt.show(title=\"График тангенциальной компоненты напряженности магнитного поля H\")"
   ]
  },
  {
   "cell_type": "code",
   "execution_count": null,
   "metadata": {},
   "outputs": [],
   "source": []
  },
  {
   "cell_type": "code",
   "execution_count": null,
   "metadata": {},
   "outputs": [],
   "source": [
    "#even_disp_eq_fa(x)"
   ]
  },
  {
   "cell_type": "markdown",
   "metadata": {},
   "source": [
    "Решение получено и соответствует приведенному в решебнике ответу.\n",
    "\n",
    "Теперь посчитаем:\n",
    "\n",
    "1) пондеромоторную силу, приложенную к идеальному проводнику\n",
    "\n",
    "2) пондеромоторную силу, приложенную к границе диэлектрика и вакуума\n"
   ]
  },
  {
   "cell_type": "code",
   "execution_count": null,
   "metadata": {},
   "outputs": [],
   "source": []
  },
  {
   "cell_type": "markdown",
   "metadata": {},
   "source": [
    "1) пондеромоторная сила, приложенная к идеальному проводнику"
   ]
  },
  {
   "cell_type": "code",
   "execution_count": null,
   "metadata": {},
   "outputs": [],
   "source": [
    "# superconductor force\n",
    "# additional 1/2 arises as result of integration on period\n",
    "#f_superconductor = - abs((even_H_inner_vacuum_y (0)^2) / (2*8*pi))\n",
    "f_superconductor = - (Hy_vacuum_d (x=-A).real()^2 + Hy_vacuum_d (x=-A).imag()^2) / (2*8*pi)\n",
    "print(\"f_superconductor =\", f_superconductor.n())"
   ]
  },
  {
   "cell_type": "markdown",
   "metadata": {},
   "source": [
    "2) пондеромоторная сила, приложенная к плохому проводнику"
   ]
  },
  {
   "cell_type": "code",
   "execution_count": null,
   "metadata": {},
   "outputs": [],
   "source": [
    "# bad conductor force\n",
    "# additional 1/2 arises as result of integration on period\n",
    "#f_bad_conductor = abs((even_H_inner_vacuum_y (a)^2) / (2*8*pi))\n",
    "f_bad_conductor = (Hy_vacuum_d (x=0).real()^2 + Hy_vacuum_d (x=0).imag()^2) / (2*8*pi)\n",
    "\n",
    "print(\"f_bad_conductor =\", f_bad_conductor.n())"
   ]
  },
  {
   "cell_type": "code",
   "execution_count": null,
   "metadata": {},
   "outputs": [],
   "source": []
  },
  {
   "cell_type": "code",
   "execution_count": null,
   "metadata": {},
   "outputs": [],
   "source": [
    "(f_superconductor + f_bad_conductor).n()"
   ]
  },
  {
   "cell_type": "code",
   "execution_count": null,
   "metadata": {},
   "outputs": [],
   "source": []
  },
  {
   "cell_type": "code",
   "execution_count": null,
   "metadata": {},
   "outputs": [],
   "source": [
    "# bad conductor force\n",
    "# additional 1/2 arises as result of integration on period\n",
    "# _bad_conductor = (1.0 - epsilon) *(even_E_inner_vacuum_z (a)^2) / (2*8*pi)\n",
    "p_bad_conductor = (1.0 - epsilon_d) * (Ez_vacuum_d (x=0).real()^2 + Ez_vacuum_d (x=0).imag()^2) / (2*8*pi)\n",
    "#p_bad_conductor = (1.0 - epsilon_complex) * (Ez_vacuum_d (x=0).real()^2 + Ez_vacuum_d (x=0).imag()^2) / (2*8*pi)\n",
    "\n",
    "print(\"p_bad_conductor =\", p_bad_conductor)"
   ]
  },
  {
   "cell_type": "code",
   "execution_count": null,
   "metadata": {},
   "outputs": [],
   "source": []
  },
  {
   "cell_type": "code",
   "execution_count": null,
   "metadata": {
    "scrolled": true
   },
   "outputs": [],
   "source": [
    "# super conductor tension\n",
    "# additional 1/2 arises as result of integration on period\n",
    "#t_super_conductor = (0.0 - 1/1.) *(even_E_inner_vacuum_x (0).imag()^2 + even_E_inner_vacuum_x(0).real()^2) / (2*8*pi)\n",
    "t_super_conductor = (0.0 - 1/1.) *(Ex_vacuum_d (x=-A).imag()^2 + Ex_vacuum_d(x=-A).real()^2) / (2*8*pi)\n",
    "print(\"t_super_conductor =\", t_super_conductor.n())"
   ]
  },
  {
   "cell_type": "code",
   "execution_count": null,
   "metadata": {},
   "outputs": [],
   "source": [
    "# bad conductor force\n",
    "# additional 1/2 arises as result of integration on period\n",
    "#t_bad_conductor = (1.0/1.0 - 1/epsilon) *(even_E_inner_vacuum_x (a).imag()^2 + even_E_inner_vacuum_x(a).real()^2) / (2*8*pi)\n",
    "t_bad_conductor = (1.0/1.0 - 1/epsilon_d) *(Ex_vacuum_d (x=0).imag()^2 + Ex_vacuum_d(x=0).real()^2) / (2*8*pi)\n",
    "print(\"t_bad_conductor =\", t_bad_conductor.n())"
   ]
  },
  {
   "cell_type": "code",
   "execution_count": null,
   "metadata": {},
   "outputs": [],
   "source": []
  },
  {
   "cell_type": "markdown",
   "metadata": {},
   "source": [
    "Результаты вычислений показывают, что тяга в волновом двигателе с внутренним расходом энергии Ф.Ф.Менде (MenDrive) ненулевая и равна"
   ]
  },
  {
   "cell_type": "code",
   "execution_count": null,
   "metadata": {},
   "outputs": [],
   "source": [
    "(f_superconductor + f_bad_conductor + t_super_conductor + t_bad_conductor - p_bad_conductor).n()"
   ]
  },
  {
   "cell_type": "code",
   "execution_count": null,
   "metadata": {},
   "outputs": [],
   "source": [
    "(f_superconductor + f_bad_conductor).n()# * ((c*epsilon_complex).subs(digit_values).real()^2+(c*epsilon_complex).subs(digit_values).imag()^2)"
   ]
  },
  {
   "cell_type": "code",
   "execution_count": null,
   "metadata": {},
   "outputs": [],
   "source": [
    "(t_super_conductor + t_bad_conductor).n()"
   ]
  },
  {
   "cell_type": "code",
   "execution_count": null,
   "metadata": {},
   "outputs": [],
   "source": [
    "-p_bad_conductor.n()"
   ]
  },
  {
   "cell_type": "markdown",
   "metadata": {},
   "source": [
    "положительный знак соответствует направлению тяги в сторону увеличения значений x"
   ]
  },
  {
   "cell_type": "code",
   "execution_count": null,
   "metadata": {},
   "outputs": [],
   "source": []
  },
  {
   "cell_type": "code",
   "execution_count": null,
   "metadata": {},
   "outputs": [],
   "source": []
  },
  {
   "cell_type": "code",
   "execution_count": null,
   "metadata": {},
   "outputs": [],
   "source": []
  },
  {
   "cell_type": "code",
   "execution_count": null,
   "metadata": {},
   "outputs": [],
   "source": [
    "# test found solution with Maxwell equations"
   ]
  },
  {
   "cell_type": "markdown",
   "metadata": {},
   "source": [
    "$$rot\\,\\vec{E} = \\mu\\,\\frac{i\\,\\omega}{c}\\,\\vec{H}$$\n",
    "\n",
    "$$rot\\,\\vec{H} = \\frac{1}{c}\\frac{\\partial \\vec D}{\\partial t} + \\frac{4\\pi}{c} \\vec j = - \\frac{i\\,\\omega}{c} \\epsilon \\vec{E} + \\frac{4\\pi}{c}\\sigma \\vec E$$\n",
    "\n",
    "$$rot\\,rot\\,\\vec{E} = \\mu\\,\\frac{i\\,\\omega}{c}rot\\,\\vec{H}$$\n",
    "\n",
    "$$rot\\,rot\\,\\vec{E} = \\mu\\,\\frac{i\\,\\omega}{c}\\left(- \\frac{i\\,\\omega}{c} \\epsilon \\vec{E} + \\frac{4\\pi}{c}\\sigma \\vec E\\right)$$\n",
    "\n",
    "$$rot\\,rot\\,\\vec{E} = \\epsilon \\mu\\,\\frac{\\omega^2}{c^2} \\vec{E} + i\\,\\omega\\,\\sigma\\,\\mu\\,\\frac{4\\pi}{c^2} \\vec E$$\n",
    "\n",
    "$$rot\\,rot\\,\\vec{E} = grad\\,div\\,\\vec{E} - Laplasian\\,\\vec{E}$$\n",
    "\n",
    "$$Laplasian\\,\\vec{E} + \\epsilon \\mu \\frac{\\omega^2}{c^2}\\,\\vec{E} + i\\,\\omega\\,\\sigma\\,\\mu\\,\\frac{4\\pi}{c^2} \\vec E - grad\\,div\\,\\vec{E} = 0$$"
   ]
  },
  {
   "cell_type": "code",
   "execution_count": null,
   "metadata": {},
   "outputs": [],
   "source": [
    "Hy_vacuum_d(x=x)*e^(I*k_z*z), Hy_bad_conductor_d(x=x)"
   ]
  },
  {
   "cell_type": "code",
   "execution_count": null,
   "metadata": {},
   "outputs": [],
   "source": [
    "# уравнение Максвелла для тока смещения\n",
    "# rot_H   = - I * epsilon * omega / c * E\n",
    "# rot_H_x = diff(H_z, y) - diff(H_y, z)\n",
    "# rot_H_y = diff(H_x, z) - diff(H_z, x)\n",
    "# rot_H_z = diff(H_y, x) - diff(H_x, y)"
   ]
  },
  {
   "cell_type": "code",
   "execution_count": null,
   "metadata": {},
   "outputs": [],
   "source": [
    "rot_H_x_d = - diff(Hy_vacuum_d(x=x)*e^(I*k_z*z), z).subs(k_z == kz + I * sz).subs(k_z_sol)\n",
    "rot_H_y_d =   0\n",
    "rot_H_z_d =   diff(Hy_vacuum_d(x=x)*e^(I*k_z*z), x).subs(k_z == kz + I * sz).subs(k_z_sol)"
   ]
  },
  {
   "cell_type": "code",
   "execution_count": null,
   "metadata": {},
   "outputs": [],
   "source": [
    "eq_rot_H_x_d = rot_H_x_d == \\\n",
    "(-I*epsilon_complex*omega/c*Ex_vacuum_d(x=x)*e^(I*k_z*z)).subs(k_z == kz + I * sz).subs(k_z_sol).subs(digit_values)"
   ]
  },
  {
   "cell_type": "code",
   "execution_count": null,
   "metadata": {},
   "outputs": [],
   "source": [
    "eq_rot_H_z_d = rot_H_z_d == \\\n",
    "(-I*epsilon_complex*omega/c*Ez_vacuum_d(x=x)*e^(I*k_z*z)).subs(k_z == kz + I * sz).subs(k_z_sol).subs(digit_values)"
   ]
  },
  {
   "cell_type": "code",
   "execution_count": null,
   "metadata": {},
   "outputs": [],
   "source": []
  },
  {
   "cell_type": "code",
   "execution_count": null,
   "metadata": {},
   "outputs": [],
   "source": [
    "eq_rot_H_x_d"
   ]
  },
  {
   "cell_type": "code",
   "execution_count": null,
   "metadata": {},
   "outputs": [],
   "source": [
    "eq_rot_H_z_d"
   ]
  },
  {
   "cell_type": "code",
   "execution_count": null,
   "metadata": {},
   "outputs": [],
   "source": []
  },
  {
   "cell_type": "code",
   "execution_count": null,
   "metadata": {},
   "outputs": [],
   "source": [
    "(eq_rot_H_x_d.rhs() / eq_rot_H_x_d.lhs()).n()"
   ]
  },
  {
   "cell_type": "code",
   "execution_count": null,
   "metadata": {},
   "outputs": [],
   "source": [
    "(epsilon_complex).subs(digit_values).n()"
   ]
  },
  {
   "cell_type": "code",
   "execution_count": null,
   "metadata": {},
   "outputs": [],
   "source": [
    "(c*epsilon_complex).subs(digit_values)"
   ]
  },
  {
   "cell_type": "code",
   "execution_count": null,
   "metadata": {},
   "outputs": [],
   "source": [
    "(eq_rot_H_z_d.rhs() / eq_rot_H_z_d.lhs()).variables()"
   ]
  },
  {
   "cell_type": "code",
   "execution_count": null,
   "metadata": {},
   "outputs": [],
   "source": [
    "#plot((eq_rot_H_z_d.rhs() / eq_rot_H_z_d.lhs()).real(),x)"
   ]
  },
  {
   "cell_type": "code",
   "execution_count": null,
   "metadata": {},
   "outputs": [],
   "source": [
    "#plot((eq_rot_H_z_d.rhs() / eq_rot_H_z_d.lhs()).imag(),x)"
   ]
  },
  {
   "cell_type": "code",
   "execution_count": null,
   "metadata": {},
   "outputs": [],
   "source": []
  },
  {
   "cell_type": "code",
   "execution_count": null,
   "metadata": {},
   "outputs": [],
   "source": [
    "Ez_vacuum_d (x=x), Ez_bad_conductor_d (x=x)"
   ]
  },
  {
   "cell_type": "code",
   "execution_count": null,
   "metadata": {},
   "outputs": [],
   "source": [
    "even_E_inner_vacuum_x_d (x), even_E_bad_conductor_x_d (x)"
   ]
  },
  {
   "cell_type": "markdown",
   "metadata": {},
   "source": [
    "$$rot\\,\\vec{E} = \\mu\\,\\frac{i\\,\\omega}{c}\\,\\vec{H}$$"
   ]
  },
  {
   "cell_type": "code",
   "execution_count": null,
   "metadata": {},
   "outputs": [],
   "source": [
    "# уравнение Максвелла для\n",
    "# rot_E   = I * mu * omega / c * H\n",
    "# rot_E_x = diff(Eeq_rot_E_y_d_z, y) - diff(E_y, z)\n",
    "# rot_E_y = diff(E_x, z) - diff(E_z, x)\n",
    "# rot_E_z = diff(E_y, x) - diff(E_x, y)"
   ]
  },
  {
   "cell_type": "code",
   "execution_count": null,
   "metadata": {},
   "outputs": [],
   "source": [
    "rot_E_x_d = diff(even_E_inner_vacuum_z_d(x)*e^(I*k_z*z), y)\n",
    "rot_E_y_d = diff(even_E_inner_vacuum_x_d(x)*e^(I*k_z*z), z) - diff(even_E_inner_vacuum_z_d(x)*e^(I*k_z*z), x)\n",
    "rot_E_z_d = - diff(even_E_inner_vacuum_x_d(x)*e^(I*k_z*z), y)"
   ]
  },
  {
   "cell_type": "code",
   "execution_count": null,
   "metadata": {},
   "outputs": [],
   "source": [
    "eq_rot_E_x_d = rot_E_x_d == \\\n",
    "(I * mu * omega / c * 0)"
   ]
  },
  {
   "cell_type": "code",
   "execution_count": null,
   "metadata": {},
   "outputs": [],
   "source": [
    "eq_rot_E_y_d = (rot_E_y_d == \\\n",
    "I * mu * omega / c * even_H_inner_vacuum_y_d(x)*e^(I*k_z*z)).subs(k_z == even_kz_sol).subs(digit_values)"
   ]
  },
  {
   "cell_type": "code",
   "execution_count": null,
   "metadata": {},
   "outputs": [],
   "source": [
    "eq_rot_E_z_d = rot_E_z_d == \\\n",
    "(I * mu * omega / c * 0)"
   ]
  },
  {
   "cell_type": "code",
   "execution_count": null,
   "metadata": {},
   "outputs": [],
   "source": []
  },
  {
   "cell_type": "code",
   "execution_count": null,
   "metadata": {},
   "outputs": [],
   "source": [
    "eq_rot_E_x_d"
   ]
  },
  {
   "cell_type": "code",
   "execution_count": null,
   "metadata": {},
   "outputs": [],
   "source": [
    "eq_rot_E_y_d"
   ]
  },
  {
   "cell_type": "code",
   "execution_count": null,
   "metadata": {},
   "outputs": [],
   "source": [
    "eq_rot_E_z_d"
   ]
  },
  {
   "cell_type": "code",
   "execution_count": null,
   "metadata": {},
   "outputs": [],
   "source": [
    "eq_rot_H_x_d.rhs() / eq_rot_H_x_d.lhs()"
   ]
  },
  {
   "cell_type": "code",
   "execution_count": null,
   "metadata": {},
   "outputs": [],
   "source": []
  },
  {
   "cell_type": "code",
   "execution_count": null,
   "metadata": {},
   "outputs": [],
   "source": [
    "#test found solution with boundary conditions"
   ]
  },
  {
   "cell_type": "code",
   "execution_count": null,
   "metadata": {},
   "outputs": [],
   "source": []
  },
  {
   "cell_type": "code",
   "execution_count": null,
   "metadata": {},
   "outputs": [],
   "source": [
    "# граничные условия на границе идеального проводника и вакуума внутри резонатора\n",
    "# тангенциальная компонента электрического поля\n",
    "eqEz_0_d  = even_E_inner_vacuum_z_d (0) == 0\n",
    "#eqEy_0_d  = even_E_inner_vacuum_y_d (0) == 0\n",
    "\n",
    "print (\"eqEz_0_d = \")\n",
    "display(Math(latex(eqEz_0_d)))\n",
    "#print (\"eqEy_0_d = \")\n",
    "#display(Math(latex(eqEy_0_d)))"
   ]
  },
  {
   "cell_type": "code",
   "execution_count": null,
   "metadata": {},
   "outputs": [],
   "source": [
    "# граничные условия на границе вакуума внутри резонатора и проводящего металла с потерями\n",
    "# тангенциальная компонента электрического поля\n",
    "eqEz_a_d  = even_E_inner_vacuum_z_d (A) == even_E_bad_conductor_z_d (A)\n",
    "#eqEy_a  = E_inner_vacuum_y (a) == E_bad_conductor_y (a)\n",
    "\n",
    "print (\"eqEz_a_d = \")\n",
    "display(Math(latex(eqEz_a_d)))\n",
    "#print (\"eqEy_a = \")\n",
    "#display(Math(latex(eqEy_a)))"
   ]
  },
  {
   "cell_type": "code",
   "execution_count": null,
   "metadata": {},
   "outputs": [],
   "source": [
    "# нормальная компонента электрического смещения\n",
    "eqDx_a_d  = even_E_inner_vacuum_x_d (A) == even_E_bad_conductor_x_d (A) * epsilon.subs(digit_values)\n",
    "\n",
    "print (\"eqDx_a_d =\")\n",
    "display(Math(latex(eqDx_a_d)))"
   ]
  },
  {
   "cell_type": "code",
   "execution_count": null,
   "metadata": {},
   "outputs": [],
   "source": [
    "# тангенциальная компонента напряженности магнитного поля\n",
    "#eqHz_a_d  = even_H_bad_conductor_z_d (A)  == even_H_inner_vacuum_z_d (A)\n",
    "eqHy_a_d  = even_H_bad_conductor_y_d (A)  == even_H_inner_vacuum_y_d (A)\n",
    "\n",
    "#print (\"eqHz_a_d =\")\n",
    "#display(Math(latex(eqHz_a_d)))\n",
    "print (\"eqHy_a_d =\")\n",
    "display(Math(latex(eqHy_a_d)))"
   ]
  },
  {
   "cell_type": "code",
   "execution_count": null,
   "metadata": {},
   "outputs": [],
   "source": [
    "# нормальная компонента индукции магнитного поля\n",
    "eqBx_a  = mu * H_bad_conductor_x (a)  == H_inner_vacuum_x (a)\n",
    "\n",
    "print (\"eqBx_a =\")\n",
    "display(Math(latex(eqBx_a)))"
   ]
  }
 ],
 "metadata": {
  "kernelspec": {
   "display_name": "SageMath 9.4.rc2",
   "language": "sage",
   "name": "sagemath"
  },
  "language_info": {
   "codemirror_mode": {
    "name": "ipython",
    "version": 3
   },
   "file_extension": ".py",
   "mimetype": "text/x-python",
   "name": "python",
   "nbconvert_exporter": "python",
   "pygments_lexer": "ipython3",
   "version": "3.9.5"
  }
 },
 "nbformat": 4,
 "nbformat_minor": 4
}
