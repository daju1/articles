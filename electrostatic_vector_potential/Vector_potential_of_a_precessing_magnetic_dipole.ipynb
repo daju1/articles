{
 "cells": [
  {
   "cell_type": "markdown",
   "id": "8e36bf5e",
   "metadata": {},
   "source": [
    "# Векторный потенциал кольцевого тока"
   ]
  },
  {
   "cell_type": "markdown",
   "id": "512c7461",
   "metadata": {},
   "source": [
    "Вслед за\n",
    "\n",
    "SCIENCE TIME.\n",
    "ПОТЕНЦИАЛЫ – ИСТОЧНИКИ\n",
    "ЭЛЕКТРИЧЕСКИХ, МАГНИТНЫХ И\n",
    "ЭЛЕКТРОМАГНИТНЫХ ПОЛЕЙ.\n",
    "Черкашин Юрий Семёнович"
   ]
  },
  {
   "cell_type": "markdown",
   "id": "5ed1f88a",
   "metadata": {},
   "source": [
    "Выберем ортогональную цилиндрическую систему координат. Вектор тока в этой системе\n",
    "имеет только одну альфовую проекцию. Такую же составляющую должен иметь\n",
    "и вектор А\n",
    "\n",
    "$d\\vec{A} = \\frac{\\mu}{4 \\pi}\\int\\limits_{\\varphi}^{}\\frac{d\\vec{I}}{R}$\n",
    "\n",
    "Элемент интегрирования\n",
    "\n",
    "$d\\vec{l} = r d \\varphi \\,{\\vec {e}}_{\\varphi }$\n",
    "\n",
    "Его проекции на направления ${\\vec {e}}_{r}$  и на ${\\vec {e}}_{\\varphi }$: \n",
    "\n",
    "$dl_r = r \\, d \\varphi \\,sin\\,{\\varphi }$\n",
    "\n",
    "$dl_{\\varphi} = r \\, d \\varphi \\,cos\\,{\\varphi }$\n",
    "\n",
    "радиус-вектор интегрирования\n",
    "\n",
    "$R=\\sqrt{r_j^2+r_a^2-2\\,r_j\\,r_a\\,cos(\\varphi_j)+(z_j-z_a)^2}$\n",
    "\n",
    "Выразим подкоренное выражение в относительных единицах - вынесем $r_j$ за знак радикала.\n",
    "\n",
    "$R=r_j\\sqrt{1+\\frac{r_a^2}{r_j^2}-2\\,\\frac{r_a}{r_j}\\,cos(\\varphi_j)+\\frac{(z_j-z_a)^2}{r_j^2}}$\n",
    "\n",
    "$\\vec{A} = \\frac{\\mu}{4 \\pi}\\int\\limits_{\\varphi}^{}\\frac{I \\, r_j \\, d \\varphi \\,{\\vec {e}}_{\\varphi }}{R}$\n",
    "\n",
    "$dl_{\\varphi} = r_j \\, d \\varphi \\,cos\\,{\\varphi }$"
   ]
  },
  {
   "cell_type": "markdown",
   "id": "f1eab088",
   "metadata": {},
   "source": [
    "$A_{\\varphi} = \\frac{\\mu}{4 \\pi}\\int\\limits_{\\varphi}^{}\\frac{I \\, r_j \\,cos\\,{\\varphi } \\, d \\varphi}{R}$"
   ]
  },
  {
   "cell_type": "markdown",
   "id": "5fe3b6d9",
   "metadata": {},
   "source": [
    "$A_{\\varphi} = \\frac{\\mu \\, I}{4 \\pi}\\int\\limits_{\\varphi_j}^{}\\frac{cos\\,{\\varphi_j } \\, d \\varphi_j}{\\sqrt{1+\\frac{r_a^2}{r_j^2}+\\frac{(z_j-z_a)^2}{r_j^2}-2\\,\\frac{r_a}{r_j}\\,cos(\\varphi_j) }}$"
   ]
  },
  {
   "cell_type": "markdown",
   "id": "0feaa0ee",
   "metadata": {},
   "source": [
    "$A_{\\varphi} = \\frac{\\mu \\, I}{4 \\pi}\\int\\limits_{\\varphi_j}^{}\\frac{cos\\,{\\varphi_j } \\, d \\varphi_j}{\\sqrt{a-b\\,cos(\\varphi_j) }}$,\n",
    "\n",
    "где $a = 1+\\frac{r_a^2}{r_j^2}+\\frac{(z_j-z_a)^2}{r_j^2}$, $b = 2\\,\\frac{r_a}{r_j}$"
   ]
  },
  {
   "cell_type": "markdown",
   "id": "da5e7122",
   "metadata": {},
   "source": [
    "преобразуем этот интеграл:\n",
    "    \n",
    "$A_{\\varphi} = \\frac{\\mu \\, I}{4 \\pi}\\int\\limits_{\\varphi_j}^{}\\frac{cos\\,{\\varphi_j} \\, d \\varphi_j}{\\sqrt{a-b\\,cos(\\varphi_j) }}$"
   ]
  },
  {
   "cell_type": "markdown",
   "id": "7a2f1306",
   "metadata": {},
   "source": [
    "$A_{\\varphi} = -\\frac{\\mu \\, I}{4 \\pi b}\\int\\limits_{\\varphi_j}^{}\\frac{-\\,b\\,cos\\,{\\varphi_j} \\, d \\varphi_j}{\\sqrt{a-b\\,cos(\\varphi_j) }}$"
   ]
  },
  {
   "cell_type": "markdown",
   "id": "07fc03c5",
   "metadata": {},
   "source": [
    "$A_{\\varphi} = -\\frac{\\mu \\, I}{4 \\pi b}\\int\\limits_{\\varphi_j}^{}\\frac{a \\,-\\,b\\,cos\\,{\\varphi_j} \\,-\\, a }{\\sqrt{a-b\\,cos(\\varphi_j) }}\\, d \\varphi_j$"
   ]
  },
  {
   "cell_type": "markdown",
   "id": "1ee5b96e",
   "metadata": {},
   "source": [
    "$A_{\\varphi} = -\\frac{\\mu \\, I}{4 \\pi b}\\int\\limits_{\\varphi_j}^{}\\frac{a \\,-\\,b\\,cos\\,{\\varphi_j} }{\\sqrt{a-b\\,cos(\\varphi_j) }}\\, d \\varphi_j + \\frac{\\mu \\, I}{4 \\pi b}\\int\\limits_{\\varphi}^{}\\frac{a}{\\sqrt{a-b\\,cos(\\varphi_j) }}\\, d \\varphi_j$"
   ]
  },
  {
   "cell_type": "markdown",
   "id": "73b47bf0",
   "metadata": {},
   "source": [
    "$A_{\\varphi} = \\frac{\\mu \\, I}{4 \\pi b}\\int\\limits_{\\varphi_j}^{}\\frac{a}{\\sqrt{a-b\\,cos(\\varphi_j) }}\\, d \\varphi_j -\\frac{\\mu \\, I}{4 \\pi b}\\int\\limits_{\\varphi_j}^{}{\\sqrt{a-b\\,cos(\\varphi_j) }}\\, d \\varphi_j $"
   ]
  },
  {
   "cell_type": "markdown",
   "id": "1efbe504",
   "metadata": {},
   "source": [
    "Он свёлся к двум интегралам, напоминающим об эллиптической форме.\n",
    "\n",
    "Далее воспользуемся тригонометрической формулой косинус двойного угла:\n",
    "\n",
    "$cos 2 \\alpha = cos^{~2} \\alpha - sin^{~2} \\alpha$\n",
    "\n",
    "$cos(\\varphi_j) = cos^{~2} \\left(\\frac{\\varphi_j}{2}\\right) - sin^{~2} \\left(\\frac{\\varphi_j}{2}\\right)$\n",
    "\n",
    "$cos(\\varphi_j) = 1 - 2\\,sin^{~2} \\left(\\frac{\\varphi_j}{2}\\right)$"
   ]
  },
  {
   "cell_type": "markdown",
   "id": "1ac55ad7",
   "metadata": {},
   "source": [
    "$A_{\\varphi} = \\frac{\\mu \\, I}{4 \\pi b}\\int\\limits_{\\varphi_j}^{}\\frac{a}{\\sqrt{a\\,-\\,b\\,\\left(1 - 2\\,sin^{~2} \\left(\\frac{\\varphi_j}{2}\\right) \\right) }}\\, d \\varphi_j -\\frac{\\mu \\, I}{4 \\pi b}\\int\\limits_{\\varphi_j}^{}{\\sqrt{a-b\\,\\left(1 - 2\\,sin^{~2} \\left(\\frac{\\varphi_j}{2}\\right) \\right) }}\\, d \\varphi_j $"
   ]
  },
  {
   "cell_type": "markdown",
   "id": "70aa7ec9",
   "metadata": {},
   "source": [
    "$A_{\\varphi} = \\frac{\\mu \\, I}{4 \\pi b}\\int\\limits_{\\varphi_j}^{}\\frac{a}{\\sqrt{a\\,-\\,b\\,+\\,2\\,b\\,sin^{~2} \\left(\\frac{\\varphi_j}{2}\\right) }}\\, d \\varphi_j -\\frac{\\mu \\, I}{4 \\pi b}\\int\\limits_{\\varphi_j}^{}{\\sqrt{a-b + 2\\,b\\,sin^{~2} \\left(\\frac{\\varphi_j}{2}\\right) }}\\, d \\varphi_j $"
   ]
  },
  {
   "cell_type": "markdown",
   "id": "1eb9544b",
   "metadata": {},
   "source": [
    "Это эллиптические интегралы, однако, перед $sin^2x$ стоит знак плюс. Сделаем замену переменных:\n",
    "\n",
    "$\\frac{\\varphi_j}{2} = \\psi \\pm \\frac{\\pi}{2}$\n",
    "\n",
    "$\\psi = \\frac{\\varphi_j}{2} \\pm \\frac{\\pi}{2}$\n",
    "\n",
    "$d\\varphi_j = 2 \\, d \\psi$\n",
    "\n",
    "$sin^{~2} \\left(\\frac{\\varphi_j}{2}\\right) = 1-cos^{~2} \\left(\\frac{\\varphi_j}{2}\\right) = 1-sin^{~2} \\psi$"
   ]
  },
  {
   "cell_type": "markdown",
   "id": "e7288dc5",
   "metadata": {},
   "source": [
    "Пределы \n",
    "\n",
    "$\\varphi_j = 0$, $\\psi = \\frac{\\pi}{2}$\n",
    "\n",
    "$\\varphi_j = 2 \\pi$, $\\frac{\\varphi_j}{2} = \\pi$, $\\psi = -\\frac{\\pi}{2}$\n",
    "\n",
    "$\\left\\{cos \\,\\alpha = sin \\left(\\frac{\\pi}{2} \\pm \\alpha \\right)\\right\\}$"
   ]
  },
  {
   "cell_type": "markdown",
   "id": "679e532c",
   "metadata": {},
   "source": [
    "$A_{\\varphi} = \\frac{2\\,\\mu \\, I}{4 \\pi b}\\int\\limits_{\\psi}^{}\\frac{a}{\\sqrt{a\\,-\\,b\\,+\\,2\\,b\\,\\left(1-sin^{~2} \\psi\\right) }}\\, d \\psi -\\frac{2\\,\\mu \\, I}{4 \\pi b}\\int\\limits_{\\psi}^{}{\\sqrt{a-b + 2\\,b\\,\\left(1-sin^{~2} \\psi\\right) }}\\, d \\psi$"
   ]
  },
  {
   "cell_type": "markdown",
   "id": "d7f0b0f3",
   "metadata": {},
   "source": [
    "$A_{\\varphi} = \\frac{2\\,\\mu \\, I}{4 \\pi b}\\int\\limits_{\\psi}^{}\\frac{a}{\\sqrt{a\\,+\\,b\\,-\\,2\\,b\\,sin^{~2} \\psi }}\\, d \\psi -\\frac{2\\,\\mu \\, I}{4 \\pi b}\\int\\limits_{\\psi}^{}{\\sqrt{a\\,+\\,b\\,-\\,2\\,b\\,sin^{~2} \\psi }}\\, d \\psi$"
   ]
  },
  {
   "cell_type": "markdown",
   "id": "4fb5e72f",
   "metadata": {},
   "source": [
    "вынесем из под корня $\\left(a\\,+\\,b\\right)$, "
   ]
  },
  {
   "cell_type": "markdown",
   "id": "df02fc63",
   "metadata": {},
   "source": [
    "$A_{\\varphi} = \\frac{2\\,\\mu \\, I}{4 \\pi b}\\frac{1}{\\sqrt{a+b}}\\int\\limits_{\\psi}^{}\\frac{a}{\\sqrt{1\\,-\\,\\frac{2\\,b}{a+b}\\,sin^{~2} \\psi }}\\, d \\psi -\\frac{2\\,\\mu \\, I}{4 \\pi b}\\sqrt{a+b}\\int\\limits_{\\psi}^{}{\\sqrt{1\\,-\\,\\frac{2\\,b}{a+b}\\,sin^{~2} \\psi }}\\, d \\psi$\n",
    "\n",
    "обозначив $m=\\frac{2\\,b}{a\\,+\\,b}$ получим: "
   ]
  },
  {
   "cell_type": "markdown",
   "id": "532e79ef",
   "metadata": {},
   "source": [
    "$A_{\\varphi} = \\frac{\\mu \\, I}{4 \\pi} \\left(\\frac{a}{b}\\frac{2}{\\sqrt{a+b}}\\int\\limits_{\\psi}^{}\\frac{d \\psi}{\\sqrt{1\\,-\\,m\\,sin^{~2} \\psi }} - \\frac{2\\sqrt{a+b}}{b}\\int\\limits_{\\psi}^{}{\\sqrt{1\\,-\\,m\\,sin^{~2} \\psi }}\\, d \\psi \\right)$\n",
    "\n",
    "Имеем два стандартных эллиптических интеграла.\n",
    "\n",
    "Окончательно имеем\n",
    "\n",
    "$A_{\\varphi} = \\frac{\\mu \\, I}{4 \\pi} \\left(\\frac{a}{b}\\frac{2}{\\sqrt{a+b}}\\int\\limits_{0}^{\\pi/2}\\frac{d \\psi}{\\sqrt{1\\,-\\,m\\,sin^{~2} \\psi }} - \\frac{2\\sqrt{a+b}}{b}\\int\\limits_{0}^{\\pi/2}{\\sqrt{1\\,-\\,m\\,sin^{~2} \\psi }}\\, d \\psi \\right)$"
   ]
  },
  {
   "cell_type": "markdown",
   "id": "fb3f61ee",
   "metadata": {},
   "source": [
    "$A_{\\varphi} = \\frac{\\mu \\, I}{4 \\pi} \\left(k_K\\int\\limits_{0}^{\\pi/2}\\frac{d \\psi}{\\sqrt{1\\,-\\,m\\,sin^{~2} \\psi }} - k_E\\int\\limits_{0}^{\\pi/2}{\\sqrt{1\\,-\\,m\\,sin^{~2} \\psi }}\\, d \\psi \\right)$\n",
    "\n",
    "$k_K = \\frac{a}{b}\\frac{2}{\\sqrt{a+b}}$\n",
    "\n",
    "$k_E = \\frac{2\\sqrt{a+b}}{b}$"
   ]
  },
  {
   "cell_type": "markdown",
   "id": "ba1fcf7b",
   "metadata": {},
   "source": [
    "$A_{\\varphi} = \\frac{\\mu \\, I}{4 \\pi} \\left(k_K\\,K(m) - k_E\\,E(m) \\right)$"
   ]
  },
  {
   "cell_type": "markdown",
   "id": "3f1e74c1",
   "metadata": {},
   "source": [
    "где при принятых обозначениях\n",
    "\n",
    "$K = \\int\\limits_{0}^{\\pi/2}\\frac{d \\psi}{\\sqrt{1\\,-\\,k^2\\,sin^{~2} \\psi }}$\n",
    "\n",
    "$E = \\int\\limits_{0}^{\\pi/2}{\\sqrt{1\\,-\\,k^2\\,sin^{~2} \\psi }}\\, d \\psi$"
   ]
  },
  {
   "cell_type": "markdown",
   "id": "157514c4",
   "metadata": {},
   "source": [
    "есть полные эллиптические интегралы первого и второго рода"
   ]
  },
  {
   "cell_type": "markdown",
   "id": "4935c24f",
   "metadata": {},
   "source": [
    "Полный нормальный эллиптический интеграл Лежандра 1-го рода\n",
    "\n",
    "Complete elliptic integral of the first kind\n",
    "\n",
    "class sage.functions.special.EllipticKC\n",
    "\n",
    "Return the complete elliptic integral of the first kind:\n",
    "\n",
    "$K(m) = \\int\\limits_{0}^{\\pi/2}\\frac{d \\psi}{\\sqrt{1\\,-\\,m\\,sin^{~2} \\psi }}$\n",
    "\n",
    "sage: elliptic_kc(m)     "
   ]
  },
  {
   "cell_type": "markdown",
   "id": "4d2bc8b8",
   "metadata": {},
   "source": [
    "Полный нормальный эллиптический интеграл Лежандра 2-го рода\n",
    "\n",
    "Complete elliptic integral of the second kind\n",
    "\n",
    "class sage.functions.special.EllipticEC\n",
    "\n",
    "$E(m) = \\int\\limits_{0}^{\\pi/2}{\\sqrt{1\\,-\\,m\\,sin^{~2} \\psi }}\\, d \\psi$\n",
    "\n",
    "sage: elliptic_ec(m)"
   ]
  },
  {
   "cell_type": "code",
   "execution_count": 267,
   "id": "f92423f4",
   "metadata": {},
   "outputs": [],
   "source": [
    "from IPython.display import display, Math, Latex\n",
    "\n",
    "def disp(ex):\n",
    "    display(Math(latex(ex)))"
   ]
  },
  {
   "cell_type": "code",
   "execution_count": 140,
   "id": "3b3a03ec",
   "metadata": {},
   "outputs": [],
   "source": [
    "z_j = var(\"z_j\")\n",
    "z_a = var(\"z_a\")\n",
    "r_j = var(\"r_j\")\n",
    "r_a = var(\"r_a\")\n",
    "\n",
    "assume(r_j>0)\n",
    "assume(r_a>0)"
   ]
  },
  {
   "cell_type": "markdown",
   "id": "62fe04bf",
   "metadata": {},
   "source": [
    "$a = 1+\\frac{r_a^2}{r_j^2}+\\frac{(z_j-z_a)^2}{r_j^2}$, $b = 2\\,\\frac{r_a}{r_j}$"
   ]
  },
  {
   "cell_type": "code",
   "execution_count": 3,
   "id": "577c194f",
   "metadata": {},
   "outputs": [],
   "source": [
    "a = lambda rj, ra, zj, za : 1 + (ra/rj)^2 + ((zj-za)/rj)^2\n",
    "b = lambda rj, ra : 2 * (ra/rj)"
   ]
  },
  {
   "cell_type": "markdown",
   "id": "a3574bda",
   "metadata": {},
   "source": [
    "$m = \\frac{2\\,b}{a\\,+\\,b}$"
   ]
  },
  {
   "cell_type": "code",
   "execution_count": 4,
   "id": "7e03cd2c",
   "metadata": {},
   "outputs": [],
   "source": [
    "m = lambda rj, ra, zj, za : 2 * b (rj, ra) / (a(rj, ra, zj, za) + b(rj, ra))"
   ]
  },
  {
   "cell_type": "markdown",
   "id": "232d1b15",
   "metadata": {},
   "source": [
    "$k_K = \\frac{a}{b}\\frac{2}{\\sqrt{a+b}}$\n",
    "\n",
    "$k_E = \\frac{2\\sqrt{a+b}}{b}$"
   ]
  },
  {
   "cell_type": "code",
   "execution_count": 5,
   "id": "cdc6c282",
   "metadata": {},
   "outputs": [],
   "source": [
    "k_K = lambda rj, ra, zj, za : 2 * a(rj, ra, zj, za) / b(rj, ra) / sqrt(a(rj, ra, zj, za) + b(rj, ra))\n",
    "k_E = lambda rj, ra, zj, za : 2 * sqrt(a(rj, ra, zj, za) + b(rj, ra)) / b(rj, ra)"
   ]
  },
  {
   "cell_type": "markdown",
   "id": "a98773b7",
   "metadata": {},
   "source": [
    "$A_{\\varphi} = \\frac{\\mu \\, I}{4 \\pi} \\left(k_K\\,K - k_E\\,E \\right)$"
   ]
  },
  {
   "cell_type": "code",
   "execution_count": 7,
   "id": "a5cf549c",
   "metadata": {},
   "outputs": [],
   "source": [
    "A_phi = lambda rj, ra, zj, za : \\\n",
    "      + k_K(rj, ra, zj, za) * elliptic_kc(m(rj, ra, zj, za)) \\\n",
    "      - k_E(rj, ra, zj, za) * elliptic_ec(m(rj, ra, zj, za))"
   ]
  },
  {
   "cell_type": "markdown",
   "id": "fd666ccf",
   "metadata": {},
   "source": [
    "Векторный потенциал токового кольца на высоте z=0,2r"
   ]
  },
  {
   "cell_type": "code",
   "execution_count": 65,
   "id": "acd2d0a6",
   "metadata": {},
   "outputs": [],
   "source": [
    "plot_data_A_ring_r = []\n",
    "for ir in range(1,200):\n",
    "    # Расстояние от оси R/r (лин шкала)\n",
    "    ra = 0.01 * ir\n",
    "    A_phi_ring = A_phi(rj = 1, ra = ra, zj = 0, za = 0.2)\n",
    "    plot_data_A_ring_r += [(ra, A_phi_ring)]"
   ]
  },
  {
   "cell_type": "code",
   "execution_count": 66,
   "id": "ad31f2f6",
   "metadata": {},
   "outputs": [
    {
     "data": {
      "image/png": "[encoded data removed]",
      "text/plain": [
       "Graphics object consisting of 1 graphics primitive"
      ]
     },
     "metadata": {},
     "output_type": "display_data"
    }
   ],
   "source": [
    "p = list_plot(plot_data_A_ring_r)\n",
    "p.show(title=\"Векторный потенциал токового кольца на высоте za=0.2rj\",\n",
    "       axes_labels=[\"Расстояние от оси ra\", \"\"])"
   ]
  },
  {
   "cell_type": "markdown",
   "id": "20f4864b",
   "metadata": {},
   "source": [
    "Измерительный контур равного с кольцом диаметра приподнятый на z/r"
   ]
  },
  {
   "cell_type": "code",
   "execution_count": 67,
   "id": "427bbda1",
   "metadata": {},
   "outputs": [],
   "source": [
    "plot_data_A_ring_z = []\n",
    "for iz in range(1,100):\n",
    "    za = 0.01 * iz\n",
    "    A_phi_ring = A_phi(rj = 1, ra = 1, zj = 0, za = za)\n",
    "    plot_data_A_ring_z += [(za, A_phi_ring)]"
   ]
  },
  {
   "cell_type": "code",
   "execution_count": 68,
   "id": "d3ade4db",
   "metadata": {},
   "outputs": [
    {
     "data": {
      "image/png": "[encoded data removed]",
      "text/plain": [
       "Graphics object consisting of 1 graphics primitive"
      ]
     },
     "metadata": {},
     "output_type": "display_data"
    }
   ],
   "source": [
    "p = list_plot(plot_data_A_ring_z)\n",
    "p.show(title=\"Векторный потенциал Измерительного контура равного с токовым кольцом диаметра приподнятого на z/r\",\n",
    "       axes_labels=[\"Высота подъема za/rj\", \"\"])"
   ]
  },
  {
   "cell_type": "markdown",
   "id": "c7bdb9ee",
   "metadata": {},
   "source": [
    "# Векторный потенциал электростатического поля точечного заряда\n",
    "\n",
    "$$\\vec A = -\\frac{ z}{{\\rho}\\sqrt{\\rho^{2} + z^{2}} }\\,{\\vec {e}}_{\\varphi }$$"
   ]
  },
  {
   "cell_type": "code",
   "execution_count": 119,
   "id": "5cf721bb",
   "metadata": {},
   "outputs": [],
   "source": [
    "A_q = lambda ra, za : za /(ra * sqrt(ra^2 + za^2))"
   ]
  },
  {
   "cell_type": "code",
   "execution_count": 128,
   "id": "719093d0",
   "metadata": {},
   "outputs": [],
   "source": [
    "plot_data_A_q_r = []\n",
    "for ir in range(1,100):\n",
    "    # Расстояние от оси R/r (лин шкала)\n",
    "    ra = 0.1 * ir\n",
    "    A_phi_q = A_q(ra = ra, za = 1)\n",
    "    plot_data_A_q_r += [(ra, A_phi_q)]"
   ]
  },
  {
   "cell_type": "code",
   "execution_count": 261,
   "id": "e85a3442",
   "metadata": {},
   "outputs": [
    {
     "data": {
      "image/png": "[encoded data removed]",
      "text/plain": [
       "Graphics object consisting of 1 graphics primitive"
      ]
     },
     "metadata": {},
     "output_type": "display_data"
    }
   ],
   "source": [
    "p = list_plot(plot_data_A_q_r)\n",
    "p.show(title=\"Векторный потенциал электростатического поля точечного заряда на высоте za=1\",\n",
    "       axes_labels=[\"Расстояние от оси ra\", \"\"])"
   ]
  },
  {
   "cell_type": "markdown",
   "id": "7a951f4e",
   "metadata": {},
   "source": [
    "Измерительный контур заданного диаметра приподнятый на высоту z"
   ]
  },
  {
   "cell_type": "code",
   "execution_count": 242,
   "id": "27d9cc96",
   "metadata": {},
   "outputs": [],
   "source": [
    "plot_data_A_q_z = []\n",
    "for iz in range(1,100):\n",
    "    za = 0.1 * iz\n",
    "    A_phi_q = A_q(ra = 1, za = za)\n",
    "    plot_data_A_q_z += [(za, A_phi_q)]"
   ]
  },
  {
   "cell_type": "code",
   "execution_count": 243,
   "id": "73f78a06",
   "metadata": {},
   "outputs": [
    {
     "data": {
      "image/png": "[encoded data removed]",
      "text/plain": [
       "Graphics object consisting of 1 graphics primitive"
      ]
     },
     "metadata": {},
     "output_type": "display_data"
    }
   ],
   "source": [
    "p = list_plot(plot_data_A_q_z)\n",
    "p.show(title=\"Векторный потенциал электростатического поля точечного заряда Измерительного контура заданного диаметра приподнятого на высоту z\",\n",
    "       axes_labels=[\"Высота подъема za\", \"\"])"
   ]
  },
  {
   "cell_type": "markdown",
   "id": "8269b53d",
   "metadata": {},
   "source": [
    "# Векторный потенциал прецессирующего магнитного диполя"
   ]
  },
  {
   "cell_type": "code",
   "execution_count": 148,
   "id": "d800b508",
   "metadata": {},
   "outputs": [],
   "source": [
    "A_dipol = lambda rj, ra, zj, za : \\\n",
    "        + A_phi(rj, ra, +zj, za) \\\n",
    "        - A_phi(rj, ra, -zj, za)"
   ]
  },
  {
   "cell_type": "markdown",
   "id": "21e82e74",
   "metadata": {},
   "source": [
    "Векторный потенциал прецессирующего магнитного диполя на высоте za в зависимости от Расстояние от оси ra"
   ]
  },
  {
   "cell_type": "code",
   "execution_count": 253,
   "id": "4122bd57",
   "metadata": {},
   "outputs": [],
   "source": [
    "plot_data_A_dipol_r = []\n",
    "for ir in range(1,200):\n",
    "    # Расстояние от оси R/r (лин шкала)\n",
    "    ra = 0.1 * ir\n",
    "    d = .1\n",
    "    A_phi_dipol = A_dipol(rj = 1*d, ra = ra, zj = d, za = 1)\n",
    "    plot_data_A_dipol_r += [(ra, A_phi_dipol)]"
   ]
  },
  {
   "cell_type": "code",
   "execution_count": 254,
   "id": "a9dcb37a",
   "metadata": {},
   "outputs": [
    {
     "data": {
      "image/png": "[encoded data removed]",
      "text/plain": [
       "Graphics object consisting of 1 graphics primitive"
      ]
     },
     "metadata": {},
     "output_type": "display_data"
    }
   ],
   "source": [
    "p = list_plot(plot_data_A_dipol_r)\n",
    "p.show(title=\"Векторный потенциал прецессирующего магнитного диполя на высоте za\",\n",
    "       axes_labels=[\"Расстояние от оси ra\", \"\"])"
   ]
  },
  {
   "cell_type": "markdown",
   "id": "ae69d47a",
   "metadata": {},
   "source": [
    "Измерительный контур равного с кольцом диаметра приподнятый на z/r"
   ]
  },
  {
   "cell_type": "code",
   "execution_count": 259,
   "id": "31f18a25",
   "metadata": {},
   "outputs": [],
   "source": [
    "plot_data_A_dipol_z = []\n",
    "for iz in range(1,100):\n",
    "    za = 0.1 * iz\n",
    "    d=1\n",
    "    if (za != 1):\n",
    "        A_phi_dipol = A_dipol(rj = 1*d, ra = 2, zj = 1*d, za = za)\n",
    "        #print(za, A_phi_dipol)\n",
    "        plot_data_A_dipol_z += [(za, A_phi_dipol)]"
   ]
  },
  {
   "cell_type": "code",
   "execution_count": 260,
   "id": "b3f1f9ef",
   "metadata": {},
   "outputs": [
    {
     "data": {
      "image/png": "[encoded data removed]",
      "text/plain": [
       "Graphics object consisting of 1 graphics primitive"
      ]
     },
     "metadata": {},
     "output_type": "display_data"
    }
   ],
   "source": [
    "p = list_plot(plot_data_A_dipol_z)\n",
    "p.show(title=\"Векторный потенциал Измерительного контура равного с прецессирующего магнитного диполя диаметра приподнятого на z/r\",\n",
    "       axes_labels=[\"Высота подъема za/rj\", \"\"])"
   ]
  },
  {
   "cell_type": "markdown",
   "id": "5d8d0b29",
   "metadata": {},
   "source": [
    "# Интегральное уравнение для векторного потенциала кулоновского заряда \n",
    "\n",
    "в цилиндрической системе координат\n",
    "\n",
    "$r_a$, $z_a$ - координаты наблюдения\n",
    "\n",
    "$r_m$, $z_m$, $\\varphi_m$ - координаты интегрирования, координаты магнитных зарядов"
   ]
  },
  {
   "cell_type": "markdown",
   "id": "228b7f35",
   "metadata": {},
   "source": [
    "$-\\frac{z_a}{{r_a}\\sqrt{r_a^{2} + z_a^{2}} } = \\int\\limits_{z_m=-\\infty}^{\\infty}\\,\\,\\int\\limits_{r_m=0}^{\\infty}\\frac{q_m(r_m, z_m)\\, \\omega_m (r_m, z_m)}{c} r_m \\left(\\int\\limits_{\\varphi_m=0}^{2\\pi}\\frac{cos\\,{\\varphi_m } \\, d \\varphi_m}{\\sqrt{1+\\frac{r_a^2}{r_m^2}+\\frac{(z_m-z_a)^2}{r_m^2}-2\\,\\frac{r_a}{r_m}\\,cos(\\varphi_m) }}\\right)d r_m \\, d z_m$"
   ]
  },
  {
   "cell_type": "markdown",
   "id": "6e6a0308",
   "metadata": {},
   "source": [
    "Неизвестные функции\n",
    "\n",
    "$q_m(r_m, z_m)$ - плотность магнитного заряда в зависимости от цилиндрических координат\n",
    "\n",
    "$\\omega_m (r_m, z_m)$ - круговая частота вращения"
   ]
  },
  {
   "cell_type": "markdown",
   "id": "72b8614d",
   "metadata": {},
   "source": [
    "$-1 = \\int\\limits_{z_m=-\\infty}^{\\infty}\\,\\,\\int\\limits_{r_m=0}^{\\infty}\\frac{q_m(r_m, z_m)\\, \\omega_m (r_m, z_m)}{c} r_m \\left(\\int\\limits_{\\varphi_m=0}^{2\\pi}\\frac{1}{\\frac{z_a}{{r_a}\\sqrt{r_a^{2} + z_a^{2}}}}\\frac{cos\\,{\\varphi_m} \\, d \\varphi_m}{\\sqrt{1+\\frac{r_a^2}{r_m^2}+\\frac{(z_m-z_a)^2}{r_m^2}-2\\,\\frac{r_a}{r_m}\\,cos(\\varphi_m) }}\\right)d r_m \\, d z_m$"
   ]
  },
  {
   "cell_type": "markdown",
   "id": "6607ae16",
   "metadata": {},
   "source": [
    "$-1 = \\int\\limits_{z_m=-\\infty}^{\\infty}\\,\\,\\int\\limits_{r_m=0}^{\\infty}\\frac{q_m(r_m, z_m)\\, \\omega_m (r_m, z_m)}{c} r_m \\left(\\int\\limits_{\\varphi_m=0}^{2\\pi}\\frac{1}{\\sqrt{\\frac{z_a^2}{r_a^2 \\left(r_a^{2} + z_a^{2}\\right)}}}\\frac{cos\\,{\\varphi_m} \\, d \\varphi_m}{\\sqrt{1+\\frac{r_a^2}{r_m^2}+\\frac{\\left(z_m-z_a\\right)^2}{r_m^2}-2\\,\\frac{r_a}{r_m}\\,cos(\\varphi_m) }}\\right)d r_m \\, d z_m$"
   ]
  },
  {
   "cell_type": "markdown",
   "id": "2ece4b27",
   "metadata": {},
   "source": [
    "$-1 = \\int\\limits_{z_m=-\\infty}^{\\infty}\\,\\,\\int\\limits_{r_m=0}^{\\infty}\\frac{q_m(r_m, z_m)\\, \\omega_m (r_m, z_m)}{c} r_m \\left(\\int\\limits_{\\varphi_m=0}^{2\\pi}\\frac{cos\\,{\\varphi_m} \\, d \\varphi_m}{\\sqrt{\\frac{z_a^2}{r_a^2 \\left(r_a^{2} + z_a^{2}\\right)}\\left(1+\\frac{r_a^2}{r_m^2}+\\frac{(z_m-z_a)^2}{r_m^2}-2\\,\\frac{r_a}{r_m}\\,cos(\\varphi_m)\\right) }}\\right)d r_m \\, d z_m$"
   ]
  },
  {
   "cell_type": "markdown",
   "id": "34663743",
   "metadata": {},
   "source": [
    "$-1 = \\int\\limits_{z_m=-\\infty}^{\\infty}\\,\\,\\int\\limits_{r_m=0}^{\\infty}\\frac{q_m(r_m, z_m)\\, \\omega_m (r_m, z_m)}{c} r_m \\left(\\int\\limits_{\\varphi_m=0}^{2\\pi}\\frac{cos\\,{\\varphi_m} \\, d \\varphi_m}{\\sqrt{\\frac{z_a^2}{r_a^2 \\left(r_a^{2} + z_a^{2}\\right)}\\left(1+\\frac{r_a^2}{r_m^2}+\\frac{(z_m-z_a)^2}{r_m^2}\\right)-\\left(2\\,\\frac{r_a}{r_m}\\frac{z_a^2}{r_a^2 \\left(r_a^{2} + z_a^{2}\\right)}\\right)\\,cos(\\varphi_m) }}\\right)d r_m \\, d z_m$"
   ]
  },
  {
   "cell_type": "markdown",
   "id": "600198fb",
   "metadata": {},
   "source": [
    "$-1 = \\int\\limits_{z_m=-\\infty}^{\\infty}\\,\\,\\int\\limits_{r_m=0}^{\\infty}\\frac{q_m(r_m, z_m)\\, \\omega_m (r_m, z_m)}{c} r_m \\left(\\int\\limits_{\\varphi_m=0}^{2\\pi}\\frac{cos\\,{\\varphi_m} \\, d \\varphi_m}{\\sqrt{a-b\\,cos(\\varphi_m) }}\\right)d r_m \\, d z_m$"
   ]
  },
  {
   "cell_type": "markdown",
   "id": "aafb15c1",
   "metadata": {},
   "source": [
    "где теперь уже\n",
    "$a = \\frac{z_a^2}{r_a^2 \\left(r_a^{2} + z_a^{2}\\right)}\\left(1+\\frac{r_a^2}{r_m^2}+\\frac{(z_m-z_a)^2}{r_m^2}\\right)$\n",
    "\n",
    "$b = \\left(2\\,\\frac{r_a}{r_m}\\frac{z_a^2}{r_a^2 \\left(r_a^{2} + z_a^{2}\\right)}\\right)$"
   ]
  },
  {
   "cell_type": "markdown",
   "id": "bd4dfd7b",
   "metadata": {},
   "source": [
    "Произведя аналогичные преобразования к эллиптическим интегралам (аналогичные рассмотренным в перврй части данной работы) получим следующий вид интегрального уравнения"
   ]
  },
  {
   "cell_type": "markdown",
   "id": "42163e71",
   "metadata": {},
   "source": [
    "$-1 = \\int\\limits_{z_m=-\\infty}^{\\infty}\\,\\,\\int\\limits_{r_m=0}^{\\infty}\\frac{q_m(r_m, z_m)\\, \\omega_m (r_m, z_m)}{c} r_m \\left(\\frac{a}{b}\\frac{2}{\\sqrt{a+b}}\\int\\limits_{0}^{\\pi/2}\\frac{d \\psi}{\\sqrt{1\\,-\\,m\\,sin^{~2} \\psi }} - \\frac{2\\sqrt{a+b}}{b}\\int\\limits_{0}^{\\pi/2}{\\sqrt{1\\,-\\,m\\,sin^{~2} \\psi }}\\, d \\psi\\right)d r_m \\, d z_m$"
   ]
  },
  {
   "cell_type": "markdown",
   "id": "fd10cd23",
   "metadata": {},
   "source": [
    "принимая тот же вид для\n",
    "\n",
    "$m=\\frac{2\\,b}{a\\,+\\,b}$\n",
    "\n",
    "$k_K = \\frac{a}{b}\\frac{2}{\\sqrt{a+b}}$\n",
    "\n",
    "$k_E = \\frac{2\\sqrt{a+b}}{b}$"
   ]
  },
  {
   "cell_type": "markdown",
   "id": "5c1d538b",
   "metadata": {},
   "source": [
    "Перепишем теперь\n",
    "\n",
    "$-1 = \\int\\limits_{z_m=-\\infty}^{\\infty}\\,\\,\\int\\limits_{r_m=0}^{\\infty}\\frac{q_m(r_m, z_m)\\, \\omega_m (r_m, z_m)}{c} r_m \\left(k_K\\,K(m) - k_E\\,E(m)\\right)d r_m \\, d z_m$"
   ]
  },
  {
   "cell_type": "code",
   "execution_count": 262,
   "id": "9509800e",
   "metadata": {},
   "outputs": [],
   "source": [
    "z_m = var(\"z_m\")\n",
    "z_a = var(\"z_a\")\n",
    "r_m = var(\"r_m\")\n",
    "r_a = var(\"r_a\")\n",
    "\n",
    "assume(r_m>0)\n",
    "assume(r_a>0)"
   ]
  },
  {
   "cell_type": "markdown",
   "id": "b1f5debc",
   "metadata": {},
   "source": [
    "$a = \\frac{z_a^2}{r_a^2 \\left(r_a^{2} + z_a^{2}\\right)}\\left(1+\\frac{r_a^2}{r_m^2}+\\frac{(z_m-z_a)^2}{r_m^2}\\right)$\n",
    "\n",
    "$b = \\left(2\\,\\frac{r_a}{r_m}\\frac{z_a^2}{r_a^2 \\left(r_a^{2} + z_a^{2}\\right)}\\right)$"
   ]
  },
  {
   "cell_type": "code",
   "execution_count": 269,
   "id": "bc7f54fc",
   "metadata": {},
   "outputs": [],
   "source": [
    "am = lambda rm, ra, zm, za : (1 + (ra/rm)^2 + ((zm-za)/rm)^2) * za^2/(ra^2*(ra^2 + za^2))\n",
    "bm = lambda rm, ra, zm, za : 2 * (ra/rm) * za^2/(ra^2*(ra^2 + za^2))"
   ]
  },
  {
   "cell_type": "code",
   "execution_count": 270,
   "id": "15719162",
   "metadata": {},
   "outputs": [
    {
     "data": {
      "text/latex": [
       "$\\displaystyle \\frac{z_{a}^{2} {\\left(\\frac{r_{a}^{2}}{r_{m}^{2}} + \\frac{{\\left(z_{a} - z_{m}\\right)}^{2}}{r_{m}^{2}} + 1\\right)}}{{\\left(r_{a}^{2} + z_{a}^{2}\\right)} r_{a}^{2}}$"
      ],
      "text/plain": [
       "<IPython.core.display.Math object>"
      ]
     },
     "metadata": {},
     "output_type": "display_data"
    }
   ],
   "source": [
    "disp(am(r_m, r_a, z_m, z_a))"
   ]
  },
  {
   "cell_type": "code",
   "execution_count": 271,
   "id": "558455c2",
   "metadata": {},
   "outputs": [
    {
     "data": {
      "text/latex": [
       "$\\displaystyle \\frac{2 \\, z_{a}^{2}}{{\\left(r_{a}^{2} + z_{a}^{2}\\right)} r_{a} r_{m}}$"
      ],
      "text/plain": [
       "<IPython.core.display.Math object>"
      ]
     },
     "metadata": {},
     "output_type": "display_data"
    }
   ],
   "source": [
    "disp(bm(r_m, r_a, z_m, z_a))"
   ]
  },
  {
   "cell_type": "markdown",
   "id": "86002d14",
   "metadata": {},
   "source": [
    "$m = \\frac{2\\,b}{a\\,+\\,b}$"
   ]
  },
  {
   "cell_type": "code",
   "execution_count": 275,
   "id": "b260e878",
   "metadata": {},
   "outputs": [],
   "source": [
    "mm = lambda rm, ra, zm, za : 2 * bm (rm, ra, zm, za) / (am(rm, ra, zm, za) + bm(rm, ra, zm, za))"
   ]
  },
  {
   "cell_type": "code",
   "execution_count": 276,
   "id": "1a583ad5",
   "metadata": {},
   "outputs": [
    {
     "data": {
      "text/latex": [
       "$\\displaystyle \\frac{4 \\, z_{a}^{2}}{{\\left(r_{a}^{2} + z_{a}^{2}\\right)} r_{a} r_{m} {\\left(\\frac{z_{a}^{2} {\\left(\\frac{r_{a}^{2}}{r_{m}^{2}} + \\frac{{\\left(z_{a} - z_{m}\\right)}^{2}}{r_{m}^{2}} + 1\\right)}}{{\\left(r_{a}^{2} + z_{a}^{2}\\right)} r_{a}^{2}} + \\frac{2 \\, z_{a}^{2}}{{\\left(r_{a}^{2} + z_{a}^{2}\\right)} r_{a} r_{m}}\\right)}}$"
      ],
      "text/plain": [
       "<IPython.core.display.Math object>"
      ]
     },
     "metadata": {},
     "output_type": "display_data"
    }
   ],
   "source": [
    "disp(mm(r_m, r_a, z_m, z_a))"
   ]
  },
  {
   "cell_type": "markdown",
   "id": "723b1228",
   "metadata": {},
   "source": [
    "$k_K = \\frac{a}{b}\\frac{2}{\\sqrt{a+b}}$\n",
    "\n",
    "$k_E = \\frac{2\\sqrt{a+b}}{b}$"
   ]
  },
  {
   "cell_type": "code",
   "execution_count": 281,
   "id": "f8e3ae21",
   "metadata": {},
   "outputs": [],
   "source": [
    "km_K = lambda rm, ra, zm, za : 2 * am(rm, ra, zm, za) / bm(rm, ra, zm, za) / sqrt(am(rm, ra, zm, za) + bm(rm, ra, zm, za))\n",
    "km_E = lambda rm, ra, zm, za : 2 * sqrt(am(rm, ra, zm, za) + bm(rm, ra, zm, za)) / bm(rm, ra, zm, za)"
   ]
  },
  {
   "cell_type": "code",
   "execution_count": 282,
   "id": "82928a88",
   "metadata": {},
   "outputs": [
    {
     "data": {
      "text/latex": [
       "$\\displaystyle \\frac{r_{m} {\\left(\\frac{r_{a}^{2}}{r_{m}^{2}} + \\frac{{\\left(z_{a} - z_{m}\\right)}^{2}}{r_{m}^{2}} + 1\\right)}}{r_{a} \\sqrt{\\frac{z_{a}^{2} {\\left(\\frac{r_{a}^{2}}{r_{m}^{2}} + \\frac{{\\left(z_{a} - z_{m}\\right)}^{2}}{r_{m}^{2}} + 1\\right)}}{{\\left(r_{a}^{2} + z_{a}^{2}\\right)} r_{a}^{2}} + \\frac{2 \\, z_{a}^{2}}{{\\left(r_{a}^{2} + z_{a}^{2}\\right)} r_{a} r_{m}}}}$"
      ],
      "text/plain": [
       "<IPython.core.display.Math object>"
      ]
     },
     "metadata": {},
     "output_type": "display_data"
    }
   ],
   "source": [
    "disp(km_K(r_m, r_a, z_m, z_a))"
   ]
  },
  {
   "cell_type": "code",
   "execution_count": 283,
   "id": "68339d45",
   "metadata": {},
   "outputs": [
    {
     "data": {
      "text/latex": [
       "$\\displaystyle \\frac{{\\left(r_{a}^{2} + z_{a}^{2}\\right)} r_{a} r_{m} \\sqrt{\\frac{z_{a}^{2} {\\left(\\frac{r_{a}^{2}}{r_{m}^{2}} + \\frac{{\\left(z_{a} - z_{m}\\right)}^{2}}{r_{m}^{2}} + 1\\right)}}{{\\left(r_{a}^{2} + z_{a}^{2}\\right)} r_{a}^{2}} + \\frac{2 \\, z_{a}^{2}}{{\\left(r_{a}^{2} + z_{a}^{2}\\right)} r_{a} r_{m}}}}{z_{a}^{2}}$"
      ],
      "text/plain": [
       "<IPython.core.display.Math object>"
      ]
     },
     "metadata": {},
     "output_type": "display_data"
    }
   ],
   "source": [
    "disp(km_E(r_m, r_a, z_m, z_a))"
   ]
  },
  {
   "cell_type": "markdown",
   "id": "3d4c793f",
   "metadata": {},
   "source": [
    "ядро интегрального уравнения (в круглых скобках)"
   ]
  },
  {
   "cell_type": "code",
   "execution_count": 284,
   "id": "17186bcf",
   "metadata": {},
   "outputs": [],
   "source": [
    "Jm_phi = lambda rm, ra, zm, za : \\\n",
    "      + k_K(rm, ra, zm, za) * elliptic_kc(m(rm, ra, zm, za)) \\\n",
    "      - k_E(rm, ra, zm, za) * elliptic_ec(m(rm, ra, zm, za))"
   ]
  },
  {
   "cell_type": "code",
   "execution_count": 287,
   "id": "cd5b824f",
   "metadata": {},
   "outputs": [
    {
     "data": {
      "text/latex": [
       "$\\displaystyle -\\frac{r_{m} \\sqrt{\\frac{r_{a}^{2}}{r_{m}^{2}} + \\frac{2 \\, r_{a}}{r_{m}} + \\frac{{\\left(z_{a} - z_{m}\\right)}^{2}}{r_{m}^{2}} + 1} E\\left(\\frac{4 \\, r_{a}}{r_{m} {\\left(\\frac{r_{a}^{2}}{r_{m}^{2}} + \\frac{2 \\, r_{a}}{r_{m}} + \\frac{{\\left(z_{a} - z_{m}\\right)}^{2}}{r_{m}^{2}} + 1\\right)}}\\right)}{r_{a}} + \\frac{r_{m} {\\left(\\frac{r_{a}^{2}}{r_{m}^{2}} + \\frac{{\\left(z_{a} - z_{m}\\right)}^{2}}{r_{m}^{2}} + 1\\right)} K\\left(\\frac{4 \\, r_{a}}{r_{m} {\\left(\\frac{r_{a}^{2}}{r_{m}^{2}} + \\frac{2 \\, r_{a}}{r_{m}} + \\frac{{\\left(z_{a} - z_{m}\\right)}^{2}}{r_{m}^{2}} + 1\\right)}}\\right)}{r_{a} \\sqrt{\\frac{r_{a}^{2}}{r_{m}^{2}} + \\frac{2 \\, r_{a}}{r_{m}} + \\frac{{\\left(z_{a} - z_{m}\\right)}^{2}}{r_{m}^{2}} + 1}}$"
      ],
      "text/plain": [
       "<IPython.core.display.Math object>"
      ]
     },
     "metadata": {},
     "output_type": "display_data"
    }
   ],
   "source": [
    "disp(Jm_phi(r_m, r_a, z_m, z_a))"
   ]
  },
  {
   "cell_type": "markdown",
   "id": "d086ac4d",
   "metadata": {},
   "source": [
    "ядро интегрального уравнения (с учётом также и множителя $r_m$)"
   ]
  },
  {
   "cell_type": "code",
   "execution_count": 290,
   "id": "a85464e6",
   "metadata": {},
   "outputs": [],
   "source": [
    "Kerm = lambda rm, ra, zm, za : rm * Jm_phi(rm, ra, zm, za)"
   ]
  },
  {
   "cell_type": "code",
   "execution_count": 291,
   "id": "53f4c335",
   "metadata": {},
   "outputs": [
    {
     "data": {
      "text/latex": [
       "$\\displaystyle -{\\left(\\frac{r_{m} \\sqrt{\\frac{r_{a}^{2}}{r_{m}^{2}} + \\frac{2 \\, r_{a}}{r_{m}} + \\frac{{\\left(z_{a} - z_{m}\\right)}^{2}}{r_{m}^{2}} + 1} E\\left(\\frac{4 \\, r_{a}}{r_{m} {\\left(\\frac{r_{a}^{2}}{r_{m}^{2}} + \\frac{2 \\, r_{a}}{r_{m}} + \\frac{{\\left(z_{a} - z_{m}\\right)}^{2}}{r_{m}^{2}} + 1\\right)}}\\right)}{r_{a}} - \\frac{r_{m} {\\left(\\frac{r_{a}^{2}}{r_{m}^{2}} + \\frac{{\\left(z_{a} - z_{m}\\right)}^{2}}{r_{m}^{2}} + 1\\right)} K\\left(\\frac{4 \\, r_{a}}{r_{m} {\\left(\\frac{r_{a}^{2}}{r_{m}^{2}} + \\frac{2 \\, r_{a}}{r_{m}} + \\frac{{\\left(z_{a} - z_{m}\\right)}^{2}}{r_{m}^{2}} + 1\\right)}}\\right)}{r_{a} \\sqrt{\\frac{r_{a}^{2}}{r_{m}^{2}} + \\frac{2 \\, r_{a}}{r_{m}} + \\frac{{\\left(z_{a} - z_{m}\\right)}^{2}}{r_{m}^{2}} + 1}}\\right)} r_{m}$"
      ],
      "text/plain": [
       "<IPython.core.display.Math object>"
      ]
     },
     "metadata": {},
     "output_type": "display_data"
    }
   ],
   "source": [
    "disp(Kerm(r_m, r_a, z_m, z_a))"
   ]
  },
  {
   "cell_type": "markdown",
   "id": "0cd7f84b",
   "metadata": {},
   "source": [
    "ядро интегрального уравнения (с учётом также и множителя $r_m$) - в дипольной форме (учитывая симметричность распределения магнитных зарядов относительно плоскости $z = 0$)"
   ]
  },
  {
   "cell_type": "markdown",
   "id": "b3892448",
   "metadata": {},
   "source": [
    "$-1 = \\int\\limits_{z_m=0}^{\\infty}\\,\\,\\int\\limits_{r_m=0}^{\\infty}\\frac{q_m(r_m, z_m)\\, \\omega_m (r_m, z_m)}{c} Kerm\\_dipol(r_m, r_a, z_m, z_a) \\,\\, d r_m \\, d z_m$"
   ]
  },
  {
   "cell_type": "code",
   "execution_count": 294,
   "id": "7cdf8479",
   "metadata": {},
   "outputs": [],
   "source": [
    "Kerm_dipol = lambda rm, ra, zm, za : \\\n",
    "           + Kerm(rm, ra, +zm, za) \\\n",
    "           - Kerm(rm, ra, -zm, za)"
   ]
  },
  {
   "cell_type": "code",
   "execution_count": 295,
   "id": "8a217cdc",
   "metadata": {},
   "outputs": [
    {
     "data": {
      "text/latex": [
       "$\\displaystyle {\\left(\\frac{r_{m} \\sqrt{\\frac{r_{a}^{2}}{r_{m}^{2}} + \\frac{2 \\, r_{a}}{r_{m}} + \\frac{{\\left(z_{a} + z_{m}\\right)}^{2}}{r_{m}^{2}} + 1} E\\left(\\frac{4 \\, r_{a}}{r_{m} {\\left(\\frac{r_{a}^{2}}{r_{m}^{2}} + \\frac{2 \\, r_{a}}{r_{m}} + \\frac{{\\left(z_{a} + z_{m}\\right)}^{2}}{r_{m}^{2}} + 1\\right)}}\\right)}{r_{a}} - \\frac{r_{m} {\\left(\\frac{r_{a}^{2}}{r_{m}^{2}} + \\frac{{\\left(z_{a} + z_{m}\\right)}^{2}}{r_{m}^{2}} + 1\\right)} K\\left(\\frac{4 \\, r_{a}}{r_{m} {\\left(\\frac{r_{a}^{2}}{r_{m}^{2}} + \\frac{2 \\, r_{a}}{r_{m}} + \\frac{{\\left(z_{a} + z_{m}\\right)}^{2}}{r_{m}^{2}} + 1\\right)}}\\right)}{r_{a} \\sqrt{\\frac{r_{a}^{2}}{r_{m}^{2}} + \\frac{2 \\, r_{a}}{r_{m}} + \\frac{{\\left(z_{a} + z_{m}\\right)}^{2}}{r_{m}^{2}} + 1}}\\right)} r_{m} - {\\left(\\frac{r_{m} \\sqrt{\\frac{r_{a}^{2}}{r_{m}^{2}} + \\frac{2 \\, r_{a}}{r_{m}} + \\frac{{\\left(z_{a} - z_{m}\\right)}^{2}}{r_{m}^{2}} + 1} E\\left(\\frac{4 \\, r_{a}}{r_{m} {\\left(\\frac{r_{a}^{2}}{r_{m}^{2}} + \\frac{2 \\, r_{a}}{r_{m}} + \\frac{{\\left(z_{a} - z_{m}\\right)}^{2}}{r_{m}^{2}} + 1\\right)}}\\right)}{r_{a}} - \\frac{r_{m} {\\left(\\frac{r_{a}^{2}}{r_{m}^{2}} + \\frac{{\\left(z_{a} - z_{m}\\right)}^{2}}{r_{m}^{2}} + 1\\right)} K\\left(\\frac{4 \\, r_{a}}{r_{m} {\\left(\\frac{r_{a}^{2}}{r_{m}^{2}} + \\frac{2 \\, r_{a}}{r_{m}} + \\frac{{\\left(z_{a} - z_{m}\\right)}^{2}}{r_{m}^{2}} + 1\\right)}}\\right)}{r_{a} \\sqrt{\\frac{r_{a}^{2}}{r_{m}^{2}} + \\frac{2 \\, r_{a}}{r_{m}} + \\frac{{\\left(z_{a} - z_{m}\\right)}^{2}}{r_{m}^{2}} + 1}}\\right)} r_{m}$"
      ],
      "text/plain": [
       "<IPython.core.display.Math object>"
      ]
     },
     "metadata": {},
     "output_type": "display_data"
    }
   ],
   "source": [
    "disp(Kerm_dipol(r_m, r_a, z_m, z_a))"
   ]
  },
  {
   "cell_type": "code",
   "execution_count": 310,
   "id": "95699c8e",
   "metadata": {},
   "outputs": [
    {
     "data": {
      "image/png": "[encoded data removed]",
      "text/plain": [
       "Graphics object consisting of 1 graphics primitive"
      ]
     },
     "execution_count": 310,
     "metadata": {},
     "output_type": "execute_result"
    }
   ],
   "source": [
    "contour_plot(Kerm_dipol(rm = 2, ra=r_a, zm = 2, za=z_a), (r_a,0,4), (z_a,0,4), fill=False, cmap='hsv', labels=True)"
   ]
  },
  {
   "cell_type": "code",
   "execution_count": 303,
   "id": "d7ad1bf4",
   "metadata": {},
   "outputs": [],
   "source": [
    "Kern_dipol = lambda rm, ra, zm, za : \\\n",
    "           + Jm_phi(rm, ra, +zm, za) \\\n",
    "           - Jm_phi(rm, ra, -zm, za)"
   ]
  },
  {
   "cell_type": "code",
   "execution_count": 309,
   "id": "8f948afe",
   "metadata": {},
   "outputs": [
    {
     "data": {
      "image/png": "[encoded data removed]",
      "text/plain": [
       "Graphics object consisting of 1 graphics primitive"
      ]
     },
     "execution_count": 309,
     "metadata": {},
     "output_type": "execute_result"
    }
   ],
   "source": [
    "contour_plot(Kern_dipol(rm = 2, ra=r_a, zm = 2, za=z_a), (r_a,0,4), (z_a,0,4), fill=False, cmap='hsv', labels=True)"
   ]
  },
  {
   "cell_type": "code",
   "execution_count": null,
   "id": "d26323b1",
   "metadata": {},
   "outputs": [],
   "source": []
  },
  {
   "cell_type": "code",
   "execution_count": null,
   "id": "f1aed078",
   "metadata": {},
   "outputs": [],
   "source": []
  },
  {
   "cell_type": "code",
   "execution_count": null,
   "id": "930172a4",
   "metadata": {},
   "outputs": [],
   "source": []
  },
  {
   "cell_type": "code",
   "execution_count": null,
   "id": "4b503532",
   "metadata": {},
   "outputs": [],
   "source": []
  },
  {
   "cell_type": "code",
   "execution_count": null,
   "id": "34b07f9c",
   "metadata": {},
   "outputs": [],
   "source": []
  },
  {
   "cell_type": "code",
   "execution_count": null,
   "id": "31b83bd0",
   "metadata": {},
   "outputs": [],
   "source": []
  },
  {
   "cell_type": "code",
   "execution_count": null,
   "id": "2c709cad",
   "metadata": {},
   "outputs": [],
   "source": []
  },
  {
   "cell_type": "code",
   "execution_count": null,
   "id": "942c872e",
   "metadata": {},
   "outputs": [],
   "source": []
  },
  {
   "cell_type": "code",
   "execution_count": null,
   "id": "2bd78b29",
   "metadata": {},
   "outputs": [],
   "source": []
  },
  {
   "cell_type": "code",
   "execution_count": null,
   "id": "6f96f9c3",
   "metadata": {},
   "outputs": [],
   "source": []
  },
  {
   "cell_type": "code",
   "execution_count": null,
   "id": "9f337e77",
   "metadata": {},
   "outputs": [],
   "source": []
  },
  {
   "cell_type": "code",
   "execution_count": null,
   "id": "9ffadd2f",
   "metadata": {},
   "outputs": [],
   "source": []
  },
  {
   "cell_type": "markdown",
   "id": "90fcf426",
   "metadata": {},
   "source": [
    "нам потребуются интегралы по координатному углу $\\varphi$ точек истока от нуля до $2\\pi$ и $\\int\\limits_{0}^{2\\pi}{\\frac{cos\\left(\\varphi\\right)}{R}}d{\\varphi} = 0$\n",
    "\n",
    "$\\int\\limits_{0}^{2\\pi}{\\frac{sin\\left(\\varphi\\right)}{R}}d{\\varphi} = 0$\n",
    "\n",
    "$R=\\sqrt{(r_j\\,sin(\\varphi_j)-r_a\\,sin(\\varphi_a))^2+(r_j\\,cos(\\varphi_j)-r_a\\,cos(\\varphi_a))^2+(z_j-z_a)^2}$\n",
    "\n",
    "Ввиду цилиндрической симметрии и ввиду того что\n",
    "\n",
    "$\\frac{\\partial A}{\\partial \\varphi_a} = 0$\n",
    "\n",
    "нам не потребуется дифференцирование векторного потенциала по $\\varphi_a$ координате точек наблюдения, можно упростить расчёт полагая, что $\\varphi_a = 0$, тогда \n",
    "\n",
    "$R=\\sqrt{r_j^2+r_a^2-2\\,r_j\\,r_a\\,cos(\\varphi_j)+(z_j-z_a)^2}$"
   ]
  },
  {
   "cell_type": "code",
   "execution_count": 1,
   "id": "5f229a4d",
   "metadata": {},
   "outputs": [],
   "source": [
    "phi_j = var(\"phi_j\")\n",
    "Rja2       = lambda rj, ra, zj, za, phi_j : rj^2 + ra^2 - 2*rj*ra*cos(phi_j) + (zj-za)^2\n",
    "one_per_R  = lambda rj, ra, zj, za, phi_j : 1 / sqrt(Rja2(rj, ra, zj, za, phi_j))\n",
    "a_phi      = lambda rj, ra, zj, za, phi_j : cos(phi_j) * one_per_R(rj, ra, zj, za, phi_j)"
   ]
  },
  {
   "cell_type": "code",
   "execution_count": null,
   "id": "7b6d39ab",
   "metadata": {},
   "outputs": [],
   "source": [
    "phi = var(\"phi\")"
   ]
  },
  {
   "cell_type": "code",
   "execution_count": 2,
   "id": "d5270f3b",
   "metadata": {},
   "outputs": [],
   "source": [
    "a_phi_dipol = lambda rj, ra, zj, za, phi_j : a_phi(rj, ra, zj, za, phi_j) - a_phi(rj, ra, -zj, za, phi_j)\n"
   ]
  },
  {
   "cell_type": "code",
   "execution_count": 142,
   "id": "45356c05",
   "metadata": {},
   "outputs": [
    {
     "data": {
      "text/latex": [
       "$\\displaystyle -2 \\, r_{a} r_{j} \\cos\\left(\\phi_{j}\\right) + r_{a}^{2} + r_{j}^{2} + {\\left(z_{a} - z_{j}\\right)}^{2}$"
      ],
      "text/plain": [
       "<IPython.core.display.Math object>"
      ]
     },
     "metadata": {},
     "output_type": "display_data"
    }
   ],
   "source": [
    "disp(Rja2(r_j, r_a, z_j, z_a, phi_j))"
   ]
  },
  {
   "cell_type": "code",
   "execution_count": 143,
   "id": "3bc7edeb",
   "metadata": {},
   "outputs": [
    {
     "data": {
      "text/latex": [
       "$\\displaystyle \\frac{\\cos\\left(\\phi_{j}\\right)}{\\sqrt{-2 \\, r_{a} r_{j} \\cos\\left(\\phi_{j}\\right) + r_{a}^{2} + r_{j}^{2} + {\\left(z_{a} - z_{j}\\right)}^{2}}}$"
      ],
      "text/plain": [
       "<IPython.core.display.Math object>"
      ]
     },
     "metadata": {},
     "output_type": "display_data"
    }
   ],
   "source": [
    "disp(a_phi(r_j, r_a, z_j, z_a, phi_j))"
   ]
  },
  {
   "cell_type": "code",
   "execution_count": 150,
   "id": "0466c15a",
   "metadata": {},
   "outputs": [
    {
     "data": {
      "image/png": "[encoded data removed]",
      "text/plain": [
       "Graphics object consisting of 1 graphics primitive"
      ]
     },
     "execution_count": 150,
     "metadata": {},
     "output_type": "execute_result"
    }
   ],
   "source": [
    "plot(a_phi(rj = 10, ra = 10.25, zj = 0, za = 0, phi_j = phi_j), phi_j, 0, 2*pi)"
   ]
  },
  {
   "cell_type": "code",
   "execution_count": 146,
   "id": "4e20b42f",
   "metadata": {},
   "outputs": [],
   "source": [
    "def get_integrand_view(f):\n",
    "    return f(x)\n",
    "\n",
    "class my_dummy_integral:\n",
    "    f = None\n",
    "    a = None\n",
    "    b = None\n",
    "    def __init__(self, f, a, b):\n",
    "        print (\"my_dummy_integral \", f, a, b)\n",
    "        self.f = f\n",
    "        self.a = a\n",
    "        self.b = b\n",
    "\n",
    "def num_int(f, a, b):\n",
    "    from scipy import integrate\n",
    "\n",
    "    to_call_integration = True\n",
    "\n",
    "    if type(f) is my_dummy_integral:\n",
    "        to_call_integration = False\n",
    "\n",
    "    import inspect\n",
    "    stack = inspect.stack()\n",
    "    for frame in stack:\n",
    "        func_name = frame[3]\n",
    "        # print (\"func_name = \", func_name)\n",
    "        if ('get_integrand_view' == func_name):\n",
    "            to_call_integration = False\n",
    "            break;\n",
    "\n",
    "    if not to_call_integration:\n",
    "        return my_dummy_integral(f,a,b)\n",
    "\n",
    "    try:\n",
    "        integral = integrate.quad(f, a, b)\n",
    "\n",
    "        result = integral[0]\n",
    "        return result\n",
    "\n",
    "    except Exception as ex:\n",
    "\n",
    "        print (\"Exception ex = \", str(ex))\n",
    "        print (\"f = \", f)\n",
    "        try:\n",
    "            print (\"integrand = \", get_integrand_view(f))\n",
    "        except Exception as ex2:\n",
    "            print (\"Exception ex2 = \", ex2)\n",
    "        print (\"a = \", a)\n",
    "        print (\"b = \", b)\n",
    "\n",
    "        raise ex\n",
    "\n",
    "        integral = numerical_integral(f, a, b)\n",
    "\n",
    "        print (\"integral = \", integral)\n",
    "\n",
    "        result = integral[0]\n",
    "        print (\"result = \", result)\n",
    "        return result\n"
   ]
  },
  {
   "cell_type": "code",
   "execution_count": 16,
   "id": "0be4d947",
   "metadata": {},
   "outputs": [],
   "source": [
    "x, y, z = var(\"x,y,z\")"
   ]
  },
  {
   "cell_type": "code",
   "execution_count": 18,
   "id": "3e68ce49",
   "metadata": {},
   "outputs": [],
   "source": [
    "A_E = \\\n",
    "(y*z/(sqrt(x^2 + y^2 + z^2)*(x^2 + y^2)),\n",
    " -x*z/(sqrt(x^2 + y^2 + z^2)*(x^2 + y^2)),\n",
    " 0)"
   ]
  },
  {
   "cell_type": "code",
   "execution_count": 127,
   "id": "16a58836",
   "metadata": {},
   "outputs": [
    {
     "data": {
      "text/latex": [
       "$\\displaystyle \\frac{z \\sin\\left(\\phi\\right)}{\\sqrt{r_{a}^{2} + z^{2}} r_{a}}$"
      ],
      "text/plain": [
       "<IPython.core.display.Math object>"
      ]
     },
     "metadata": {},
     "output_type": "display_data"
    },
    {
     "data": {
      "text/latex": [
       "$\\displaystyle -\\frac{z \\cos\\left(\\phi\\right)}{\\sqrt{r_{a}^{2} + z^{2}} r_{a}}$"
      ],
      "text/plain": [
       "<IPython.core.display.Math object>"
      ]
     },
     "metadata": {},
     "output_type": "display_data"
    },
    {
     "ename": "TypeError",
     "evalue": "subs() takes at most 1 positional argument (2 given)",
     "output_type": "error",
     "traceback": [
      "\u001b[0;31m---------------------------------------------------------------------------\u001b[0m",
      "\u001b[0;31mTypeError\u001b[0m                                 Traceback (most recent call last)",
      "\u001b[0;32m/tmp/ipykernel_4757/2432229298.py\u001b[0m in \u001b[0;36m<module>\u001b[0;34m\u001b[0m\n\u001b[1;32m      1\u001b[0m \u001b[0;32mfor\u001b[0m \u001b[0mAEi\u001b[0m \u001b[0;32min\u001b[0m \u001b[0mA_E\u001b[0m\u001b[0;34m:\u001b[0m\u001b[0;34m\u001b[0m\u001b[0;34m\u001b[0m\u001b[0m\n\u001b[0;32m----> 2\u001b[0;31m     \u001b[0mdisp\u001b[0m\u001b[0;34m(\u001b[0m\u001b[0mAEi\u001b[0m\u001b[0;34m.\u001b[0m\u001b[0msubs\u001b[0m\u001b[0;34m(\u001b[0m\u001b[0mx\u001b[0m \u001b[0;34m==\u001b[0m \u001b[0mr_a\u001b[0m\u001b[0;34m*\u001b[0m\u001b[0mcos\u001b[0m\u001b[0;34m(\u001b[0m\u001b[0mphi\u001b[0m\u001b[0;34m)\u001b[0m\u001b[0;34m,\u001b[0m \u001b[0my\u001b[0m \u001b[0;34m==\u001b[0m \u001b[0mr_a\u001b[0m\u001b[0;34m*\u001b[0m\u001b[0msin\u001b[0m\u001b[0;34m(\u001b[0m\u001b[0mphi\u001b[0m\u001b[0;34m)\u001b[0m\u001b[0;34m)\u001b[0m\u001b[0;34m.\u001b[0m\u001b[0mfull_simplify\u001b[0m\u001b[0;34m(\u001b[0m\u001b[0;34m)\u001b[0m\u001b[0;34m)\u001b[0m\u001b[0;34m\u001b[0m\u001b[0;34m\u001b[0m\u001b[0m\n\u001b[0m",
      "\u001b[0;32m/usr3/articles/sagemath_docker_build/sage/local/lib/python3.10/site-packages/sage/structure/element.pyx\u001b[0m in \u001b[0;36msage.structure.element.Element.subs (build/cythonized/sage/structure/element.c:7647)\u001b[0;34m()\u001b[0m\n\u001b[1;32m    782\u001b[0m \u001b[0;34m\u001b[0m\u001b[0m\n\u001b[1;32m    783\u001b[0m \u001b[0;34m\u001b[0m\u001b[0m\n\u001b[0;32m--> 784\u001b[0;31m     \u001b[0;32mdef\u001b[0m \u001b[0msubs\u001b[0m\u001b[0;34m(\u001b[0m\u001b[0mself\u001b[0m\u001b[0;34m,\u001b[0m \u001b[0min_dict\u001b[0m\u001b[0;34m=\u001b[0m\u001b[0;32mNone\u001b[0m\u001b[0;34m,\u001b[0m \u001b[0;34m**\u001b[0m\u001b[0mkwds\u001b[0m\u001b[0;34m)\u001b[0m\u001b[0;34m:\u001b[0m\u001b[0;34m\u001b[0m\u001b[0;34m\u001b[0m\u001b[0m\n\u001b[0m\u001b[1;32m    785\u001b[0m         \"\"\"\n\u001b[1;32m    786\u001b[0m         \u001b[0mSubstitutes\u001b[0m \u001b[0mgiven\u001b[0m \u001b[0mgenerators\u001b[0m \u001b[0;32mwith\u001b[0m \u001b[0mgiven\u001b[0m \u001b[0mvalues\u001b[0m \u001b[0;32mwhile\u001b[0m \u001b[0;32mnot\u001b[0m \u001b[0mtouching\u001b[0m\u001b[0;34m\u001b[0m\u001b[0;34m\u001b[0m\u001b[0m\n",
      "\u001b[0;31mTypeError\u001b[0m: subs() takes at most 1 positional argument (2 given)"
     ]
    }
   ],
   "source": [
    "for AEi in A_E:\n",
    "    disp(AEi.subs(x == r_a*cos(phi), y == r_a*sin(phi)).full_simplify())"
   ]
  },
  {
   "cell_type": "code",
   "execution_count": 128,
   "id": "c5c7b331",
   "metadata": {},
   "outputs": [],
   "source": [
    "A_y = -x*z/(sqrt(x^2 + y^2 + z^2)*(x^2 + y^2))"
   ]
  },
  {
   "cell_type": "code",
   "execution_count": 44,
   "id": "a5bedd45",
   "metadata": {},
   "outputs": [
    {
     "data": {
      "text/plain": [
       "-z/(sqrt(x^2 + z^2)*x)"
      ]
     },
     "execution_count": 44,
     "metadata": {},
     "output_type": "execute_result"
    }
   ],
   "source": [
    "A_y0 = A_y.subs(y == 0)\n",
    "A_y0"
   ]
  },
  {
   "cell_type": "code",
   "execution_count": 10,
   "id": "c1f0d78b",
   "metadata": {},
   "outputs": [
    {
     "data": {
      "text/plain": [
       "0.6015764178209648"
      ]
     },
     "execution_count": 10,
     "metadata": {},
     "output_type": "execute_result"
    }
   ],
   "source": [
    "num_int( lambda phi_j : a_phi(rj = 10, ra = 10.5, zj = 1, za = 1.1, phi_j = phi_j), 0, 2*pi)"
   ]
  },
  {
   "cell_type": "code",
   "execution_count": 11,
   "id": "32ad320a",
   "metadata": {},
   "outputs": [
    {
     "data": {
      "text/plain": [
       "0.3248439223023958"
      ]
     },
     "execution_count": 11,
     "metadata": {},
     "output_type": "execute_result"
    }
   ],
   "source": [
    "num_int( lambda phi_j : a_phi(rj = 10, ra = 10.5, zj = -1, za = 1.1, phi_j = phi_j), 0, 2*pi)"
   ]
  },
  {
   "cell_type": "code",
   "execution_count": 12,
   "id": "b29394cf",
   "metadata": {},
   "outputs": [
    {
     "data": {
      "text/plain": [
       "0.27673249551856066"
      ]
     },
     "execution_count": 12,
     "metadata": {},
     "output_type": "execute_result"
    }
   ],
   "source": [
    "num_int( lambda phi_j : a_phi_dipol(rj = 10, ra = 10.5, zj = 1, za = 1.1, phi_j = phi_j), 0, 2*pi)"
   ]
  },
  {
   "cell_type": "code",
   "execution_count": 19,
   "id": "dcc38bc8",
   "metadata": {},
   "outputs": [],
   "source": [
    "A_dipol = lambda rj, ra, zj, za : num_int( lambda phi_j : a_phi_dipol(rj = rj, ra = ra, zj = zj, za = za, phi_j = phi_j), 0, 2*pi)"
   ]
  },
  {
   "cell_type": "code",
   "execution_count": 21,
   "id": "173a17ec",
   "metadata": {},
   "outputs": [
    {
     "data": {
      "text/plain": [
       "4.576202476449963"
      ]
     },
     "execution_count": 21,
     "metadata": {},
     "output_type": "execute_result"
    }
   ],
   "source": [
    "A_dipol(rj = 1, ra = 1, zj = 1, za = 1.1)"
   ]
  },
  {
   "cell_type": "code",
   "execution_count": 97,
   "id": "38186c37",
   "metadata": {},
   "outputs": [],
   "source": [
    "plot_data_A_phi_dipol_r = []\n",
    "for ir in range(100):\n",
    "    ra = 0.1 * ir\n",
    "    A_phi_dipol = A_dipol(rj = 0.0001, ra = ra, zj = 0.0001, za = 1)\n",
    "    plot_data_A_phi_dipol_r += [(ra, A_phi_dipol)]"
   ]
  },
  {
   "cell_type": "code",
   "execution_count": 98,
   "id": "f20e83cb",
   "metadata": {},
   "outputs": [
    {
     "name": "stdout",
     "output_type": "stream",
     "text": [
      "-3.00000000000000e-8\n",
      "-4.00000000000000e-8\n"
     ]
    },
    {
     "data": {
      "image/png": "[encoded data removed]",
      "text/plain": [
       "Graphics object consisting of 3 graphics primitives"
      ]
     },
     "metadata": {},
     "output_type": "display_data"
    }
   ],
   "source": [
    "p = list_plot(plot_data_A_phi_dipol_r)\n",
    "for ik in range(2):\n",
    "    k = -0.00000001*(ik+3)\n",
    "    print(k)\n",
    "    p += plot(k*A_y0.subs(z == 1), x, 0.3, 10)\n",
    "p.show()"
   ]
  },
  {
   "cell_type": "code",
   "execution_count": 132,
   "id": "ec0b8304",
   "metadata": {},
   "outputs": [],
   "source": [
    "plot_data_A_phi_dipol_z = []\n",
    "for iz in range(100):\n",
    "    za = 1 + 0.1 * iz\n",
    "    A_phi_dipol = A_dipol(rj = 0.0001, ra = 1, zj = 0.0001, za = za)\n",
    "    plot_data_A_phi_dipol_z += [(za, A_phi_dipol)]"
   ]
  },
  {
   "cell_type": "code",
   "execution_count": 133,
   "id": "a8416c01",
   "metadata": {},
   "outputs": [
    {
     "data": {
      "text/plain": [
       "-1/4*z/sqrt(z^2 + 16)"
      ]
     },
     "execution_count": 133,
     "metadata": {},
     "output_type": "execute_result"
    }
   ],
   "source": [
    "A_y0.subs(x == 4)"
   ]
  },
  {
   "cell_type": "code",
   "execution_count": 134,
   "id": "f73c3d7b",
   "metadata": {},
   "outputs": [
    {
     "data": {
      "image/png": "[encoded data removed]",
      "text/plain": [
       "Graphics object consisting of 1 graphics primitive"
      ]
     },
     "execution_count": 134,
     "metadata": {},
     "output_type": "execute_result"
    }
   ],
   "source": [
    "list_plot(plot_data_A_phi_dipol_z)"
   ]
  },
  {
   "cell_type": "code",
   "execution_count": 137,
   "id": "805760ca",
   "metadata": {},
   "outputs": [
    {
     "name": "stdout",
     "output_type": "stream",
     "text": [
      "-3.00000000000000e-9\n",
      "-4.00000000000000e-9\n"
     ]
    },
    {
     "data": {
      "image/png": "[encoded data removed]",
      "text/plain": [
       "Graphics object consisting of 3 graphics primitives"
      ]
     },
     "metadata": {},
     "output_type": "display_data"
    }
   ],
   "source": [
    "p = list_plot(plot_data_A_phi_dipol_z)\n",
    "for ik in range(2):\n",
    "    k = -0.000000001*(ik+3)\n",
    "    print(k)\n",
    "    p += plot(k*A_y0.subs(x == 1), z, 0.3, 10)\n",
    "p.show()"
   ]
  },
  {
   "cell_type": "code",
   "execution_count": null,
   "id": "9b732303",
   "metadata": {},
   "outputs": [],
   "source": []
  }
 ],
 "metadata": {
  "kernelspec": {
   "display_name": "SageMath 9.6.beta7",
   "language": "sage",
   "name": "sagemath"
  },
  "language_info": {
   "codemirror_mode": {
    "name": "ipython",
    "version": 3
   },
   "file_extension": ".py",
   "mimetype": "text/x-python",
   "name": "python",
   "nbconvert_exporter": "python",
   "pygments_lexer": "ipython3",
   "version": "3.10.3"
  }
 },
 "nbformat": 4,
 "nbformat_minor": 5
}
