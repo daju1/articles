{
 "cells": [
  {
   "cell_type": "markdown",
   "metadata": {},
   "source": [
    "# Электродинамический расчёт волнового двигателя с внутренним расходом энергии Ф.Ф.Менде (MenDrive)\n",
    "\n",
    "А.Ю.Дроздов"
   ]
  },
  {
   "cell_type": "markdown",
   "metadata": {},
   "source": [
    "Основываясь на решении задач из задачника Батыгина Топтыгина\n",
    "\n",
    "Batygin_Toptygin_task_464_465.sage\n",
    "\n",
    "В. В. БАТЫГИН, И. Н. ТОПТЫГИН\n",
    "СБОРНИК ЗАДАЧ\n",
    "по\n",
    "ЭЛЕКТРОДИНАМИКЕ\n",
    "МОСКВА 1970\n",
    "\n",
    "512. Бесконечно протяженный диэлектрический слой заполняет в вакууме область $-a<=x<=a$ и имеет проницаемости $\\epsilon$ и $\\mu$.\n",
    "Показать, что такой слой может действовать как волновод (для этого нужно, чтобы поле бегущей электромагнитной волны концентрировалось, в основном, внутри слоя). Определить типы волн, которые могут распространяться в таком волноводе. Ограничиться случаем, когда векторы поля не зависят от координаты $y$.\n",
    "\n",
    "513. Диэлектрический слой с проницаемостями $\\epsilon$, $\\mu$, заполняющий область $0<=x<=a$, нанесен на поверхность идеального\n",
    "проводника. В области $x>a$ - вакуум. Какие типы электромагнитных волн с амплитудой, убывающей при удалении от слоя, могут распространяться вдоль слоя? Сравнить возможные типы волн с системой волн, полученной в предыдущей задаче.\n",
    "\n",
    "В издании 1962 года номера этих задач 464 и 465"
   ]
  },
  {
   "cell_type": "markdown",
   "metadata": {},
   "source": [
    "рассчитаем тягу в\n",
    "\n",
    "http://fmnauka.narod.ru/dvigatel_emdrive.pdf\n",
    "\n",
    "Ф.Ф. МЕНДЕ, ВОЛНОВОЙ ДВИГАТЕЛЬ С ВНУТРЕННИМ РАСХОДОМ ЭНЕРГИИ ЭЛЕКТРОМАГНИТНЫХ КОЛЕБАНИЙ"
   ]
  },
  {
   "cell_type": "markdown",
   "metadata": {},
   "source": [
    "геометрия задачи следующая: \n",
    "\n",
    "поверхность идеального проводника $x<=-a$\n",
    "\n",
    "вакуума внутри резонатора заполняет область $-a<=x<=0$\n",
    "\n",
    "В области $x>0$ - плохой проводник"
   ]
  },
  {
   "cell_type": "markdown",
   "metadata": {},
   "source": [
    "$$rot\\,\\vec{E} = \\mu\\,\\frac{i\\,\\omega}{c}\\,\\vec{H}$$\n",
    "\n",
    "$$rot\\,\\vec{H} = \\frac{1}{c}\\frac{\\partial \\vec D}{\\partial t} + \\frac{4\\pi}{c} \\vec j = - \\frac{i\\,\\omega}{c} \\epsilon \\vec{E} + \\frac{4\\pi}{c}\\sigma \\vec E$$\n",
    "\n",
    "$$rot\\,rot\\,\\vec{E} = \\mu\\,\\frac{i\\,\\omega}{c}rot\\,\\vec{H}$$\n",
    "\n",
    "$$rot\\,rot\\,\\vec{E} = \\mu\\,\\frac{i\\,\\omega}{c}\\left(- \\frac{i\\,\\omega}{c} \\epsilon \\vec{E} + \\frac{4\\pi}{c}\\sigma \\vec E\\right)$$\n",
    "\n",
    "$$rot\\,rot\\,\\vec{E} = \\epsilon \\mu\\,\\frac{\\omega^2}{c^2} \\vec{E} + i\\,\\omega\\,\\sigma\\,\\mu\\,\\frac{4\\pi}{c^2} \\vec E$$\n",
    "\n",
    "$$rot\\,rot\\,\\vec{E} = grad\\,div\\,\\vec{E} - Laplasian\\,\\vec{E}$$\n",
    "\n",
    "$$Laplasian\\,\\vec{E} + \\epsilon \\mu \\frac{\\omega^2}{c^2}\\,\\vec{E} + i\\,\\omega\\,\\sigma\\,\\mu\\,\\frac{4\\pi}{c^2} \\vec E - grad\\,div\\,\\vec{E} = 0$$\n"
   ]
  },
  {
   "cell_type": "markdown",
   "metadata": {},
   "source": [
    "$$div\\,\\vec{E} = - \\frac{\\vec{n}}{c} \\frac{\\partial \\vec E}{\\partial t}$$\n",
    "\n",
    "$$grad\\,div\\,\\vec{E} = - grad\\,\\frac{\\vec{n}}{c} \\frac{\\partial \\vec E}{\\partial t}$$\n",
    "\n",
    "для вакуума внутри резонатора ищем решение в виде\n",
    "\n",
    "$$\\vec{E} = \\vec{E}(x)\\,e^{i\\,k\\,z}\\,e^{-i\\,\\omega\\,t}$$"
   ]
  },
  {
   "cell_type": "markdown",
   "metadata": {},
   "source": [
    "подставляя в исходное уравнение приходим к обыкновенному дифференциальному уравнению\n",
    "\n",
    "$$\\frac{\\partial^{2}}{(\\partial {x})^{2}}\\vec{E}(x) + \\frac{\\partial^{2}}{(\\partial {y})^{2}}\\vec{E}(x) + \\left(\\epsilon  \\mu \\frac{\\omega^2}{c^2} + i\\,\\omega\\,\\sigma\\,\\mu\\,\\frac{4\\pi}{c^2} - {k'_z}^2\\right)\\,\\vec{E}(x) - grad\\,div\\,\\vec{E} = 0$$"
   ]
  },
  {
   "cell_type": "markdown",
   "metadata": {},
   "source": [
    "производим следующую замену переменных\n",
    "\n",
    "$$\\kappa^2 = \\epsilon \\mu \\frac{\\omega^2}{c^2} + i\\,\\omega\\,\\sigma\\,\\mu\\,\\frac{4\\pi}{c^2}$$\n",
    "\n",
    "теперь получаем дифференциальное уравнение\n",
    "\n",
    "$$\\frac{\\partial^{2}}{(\\partial {x})^{2}}\\vec{E}(x) + \\frac{\\partial^{2}}{(\\partial {y})^{2}}\\vec{E}(x) + \\left(\\kappa^2 - {k'_z}^2\\right)\\,\\vec{E}(x) = 0$$"
   ]
  },
  {
   "cell_type": "code",
   "execution_count": null,
   "metadata": {},
   "outputs": [],
   "source": []
  },
  {
   "cell_type": "markdown",
   "metadata": {},
   "source": [
    "для проводящего металла с потерями ищем решение в виде\n",
    "\n",
    "$$\\vec{E} = \\vec{E}\\,e^{i\\,k'_x\\,x}\\,e^{i\\,k'_z\\,z}\\,e^{-i\\,\\omega\\,t}$$\n",
    "\n",
    "в котором волновой вектор, направленный вдоль оси z комплексный $k'_z = k_z + i\\,s_z$, как и волновой вектор, направленный вдоль оси x может быть комплексным $k'_x = k_x + i\\,s_x$\n",
    "\n",
    "$$\\vec{E} = \\vec{E}\\,e^{i\\,(k_x + i\\,s_x)\\,(x-a)}\\,e^{i\\,(k_z + i\\,s_z)\\,z}\\,e^{-i\\,\\omega\\,t}$$"
   ]
  },
  {
   "cell_type": "code",
   "execution_count": null,
   "metadata": {},
   "outputs": [],
   "source": []
  },
  {
   "cell_type": "markdown",
   "metadata": {},
   "source": [
    "принимая модель комплексного представления диэлектрической проницаемости $\\epsilon' = \\epsilon + \\frac{4\\pi\\,\\sigma}{\\omega}\\,i$ (плохой проводник)"
   ]
  },
  {
   "cell_type": "markdown",
   "metadata": {},
   "source": [
    "подставляем решение в\n",
    "\n",
    "$$Laplasian\\,\\vec{E} + \\frac{\\mu \\omega^2}{c^2}\\left(\\epsilon + \\frac{4\\pi\\,\\sigma}{\\omega}\\,i\\right)\\,\\vec{E} - grad\\,div\\,\\vec{E} = 0$$\n",
    "\n",
    "и принимая\n",
    "\n",
    "$$div\\,\\vec{E} = - \\frac{\\vec{n}}{c} \\frac{\\partial \\vec E}{\\partial t}$$"
   ]
  },
  {
   "cell_type": "markdown",
   "metadata": {},
   "source": [
    "приходим к\n",
    "\n",
    "$$-{k'_x}^{2}\\vec{E} -{k'_y}^{2}\\vec{E} + \\left(\\frac{\\mu \\omega^2}{c^2}\\left(\\epsilon + \\frac{4\\pi\\,\\sigma}{\\omega}\\,i\\right)  - {k'_z}^2\\right)\\,\\vec{E} - grad\\, \\left(\\frac{\\vec{n}}{c} \\frac{\\partial \\vec E}{\\partial t} \\right) = 0$$"
   ]
  },
  {
   "cell_type": "markdown",
   "metadata": {},
   "source": [
    "$$ \\left(\\frac{\\mu \\omega^2}{c^2}\\left(\\epsilon + \\frac{4\\pi\\,\\sigma}{\\omega}\\,i\\right) - {k'_x}^{2} - {k'_y}^{2} - {k'_z}^2\\right) = 0$$"
   ]
  },
  {
   "cell_type": "markdown",
   "metadata": {},
   "source": [
    "$$ \\left(\\frac{\\mu \\omega^2}{c^2}\\epsilon + {4\\pi\\,\\sigma}\\,i\\,\\frac{\\mu \\omega}{c^2} = {k'_x}^{2} + {k'_y}^{2} + {k'_z}^2\\right)$$"
   ]
  },
  {
   "cell_type": "markdown",
   "metadata": {},
   "source": [
    "$$ k = \\frac{\\omega}{c}\\,\\sqrt{\\mu\\,\\left(\\epsilon  + \\frac{4\\pi\\,\\sigma}{\\omega}\\,i\\right)}$$"
   ]
  },
  {
   "cell_type": "markdown",
   "metadata": {},
   "source": [
    "$${k'_x}^2=\\left(k_x + i\\,s_x \\right)^2 = k_x^2 - s_x^2 + 2\\,i\\,k_x\\,s_x$$"
   ]
  },
  {
   "cell_type": "markdown",
   "metadata": {},
   "source": [
    "$${k'_y}^2=\\left(k_y + i\\,s_y \\right)^2 = k_y^2 - s_y^2 + 2\\,i\\,k_y\\,s_y$$"
   ]
  },
  {
   "cell_type": "markdown",
   "metadata": {},
   "source": [
    "$${k'_z}^2=\\left(k_z + i\\,s_z \\right)^2 = k_z^2 - s_z^2 + 2\\,i\\,k_z\\,s_z$$"
   ]
  },
  {
   "cell_type": "markdown",
   "metadata": {},
   "source": [
    "приходим к\n",
    "\n",
    "$$-{k'_x}^{2} - {k'_y}^{2} + \\left(\\frac{\\mu \\omega^2}{c^2}\\epsilon + \\frac{\\mu \\omega^2}{c^2}\\frac{4\\pi\\,\\sigma}{\\omega}\\,i - {k'_z}^{2}\\right) = 0$$\n"
   ]
  },
  {
   "cell_type": "markdown",
   "metadata": {},
   "source": [
    "приходим к\n",
    "\n",
    "$$-\\left(k_x^2 - s_x^2 + 2\\,i\\,k_x\\,s_x\\right) -\\left(k_y^2 - s_y^2 + 2\\,i\\,k_y\\,s_y\\right) + \\left(\\frac{\\mu \\omega^2}{c^2}\\epsilon + \\frac{\\mu \\omega^2}{c^2}\\frac{4\\pi\\,\\sigma}{\\omega}\\,i - \\left(k_z^2 - s_z^2 + 2\\,i\\,k_z\\,s_z\\right)\\right) = 0$$\n"
   ]
  },
  {
   "cell_type": "markdown",
   "metadata": {},
   "source": [
    "поскольку должны быть равны нулю как действительная так и мнимая части этого равенства, то\n",
    "\n",
    "$$\\frac{\\mu \\omega^2}{c^2}\\frac{4\\pi\\,\\sigma}{\\omega}\\,i - 2\\,i\\,k_x\\,s_x - 2\\,i\\,k_y\\,s_y - 2\\,i\\,k_z\\,s_z = 0$$"
   ]
  },
  {
   "cell_type": "markdown",
   "metadata": {},
   "source": [
    "и\n",
    "\n",
    "$$\\left(\\frac{\\mu \\omega^2}{c^2}\\epsilon - \\left(k_z^2 - s_z^2\\right)\\right) - \\left(k_x^2 - s_x^2 \\right) - \\left(k_y^2 - s_y^2 \\right)= 0$$"
   ]
  },
  {
   "cell_type": "markdown",
   "metadata": {},
   "source": [
    "откуда"
   ]
  },
  {
   "cell_type": "markdown",
   "metadata": {},
   "source": [
    "$$ 2\\,i\\,\\left(k_x\\,s_x + k_y\\,s_y + k_z\\,s_z\\right) = \\frac{\\mu \\omega}{c^2}{4\\pi\\,\\sigma}\\,i$$"
   ]
  },
  {
   "cell_type": "markdown",
   "metadata": {},
   "source": [
    "и\n",
    "\n",
    "$$\\frac{\\mu \\omega^2}{c^2}\\epsilon - \\left(k_x^2 + k_y^2 + k_z^2\\right) + \\left(s_x^2 + s_y^2 + s_z^2\\right) = 0$$"
   ]
  },
  {
   "cell_type": "code",
   "execution_count": 1,
   "metadata": {},
   "outputs": [],
   "source": [
    "from IPython.display import display, Math, Latex\n",
    "\n",
    "mu = var('mu')\n",
    "assume(mu, 'real')\n",
    "assume(mu>0)\n",
    "\n",
    "epsilon = var('epsilon')\n",
    "assume(epsilon, 'real')\n",
    "assume(epsilon>0)\n",
    "\n",
    "mu_0 = 1\n",
    "epsilon_0 = 1\n",
    "\n",
    "sigma = var('sigma')\n",
    "assume(sigma, 'real')\n",
    "assume(sigma>0)\n",
    "\n",
    "sx = var ('sx')\n",
    "assume(sx, 'real')\n",
    "assume(sx>0)\n",
    "\n",
    "sy = var ('sy')\n",
    "assume(sy, 'real')\n",
    "assume(sy>0)\n",
    "\n",
    "sz = var ('sz')\n",
    "assume(sz, 'real')\n",
    "assume(sz>0)\n",
    "\n",
    "kappa_vacuum = var ('kappa_vacuum')\n",
    "assume(kappa_vacuum, 'real')\n",
    "assume(kappa_vacuum>0)\n",
    "\n",
    "k, kappa = var('k, kappa')\n",
    "assume(k, 'complex')\n",
    "assume(kappa, 'complex')\n",
    "\n",
    "kx = var ('kx')\n",
    "assume(kx, 'real')\n",
    "\n",
    "ky = var ('ky')\n",
    "assume(ky, 'real')\n",
    "\n",
    "kz = var ('kz')\n",
    "assume(kz, 'real')\n",
    "\n",
    "k__x = var ('k__x')\n",
    "assume(k__x, 'complex')\n",
    "\n",
    "k__y = var ('k__y')\n",
    "assume(k__x, 'complex')\n",
    "\n",
    "k__z = var ('k__z')\n",
    "assume(k__z, 'complex')\n",
    "\n",
    "k_x = var ('k_x')\n",
    "assume(k_x, 'complex')\n",
    "\n",
    "k_y = var ('k_y')\n",
    "assume(k_x, 'complex')\n",
    "\n",
    "k_z = var ('k_z')\n",
    "assume(k_z, 'complex')\n",
    "\n",
    "\n",
    "a = var('a')\n",
    "assume(a, 'real')\n",
    "assume(a>0)\n",
    "\n",
    "x = var('x')\n",
    "y = var('y')\n",
    "z = var('z')\n",
    "\n",
    "assume(x, 'real')\n",
    "assume(y, 'real')\n",
    "assume(z, 'real')\n",
    "\n",
    "c = var('c')\n",
    "assume(c, 'real')\n",
    "assume(c>0)\n",
    "\n",
    "omega = var('omega')\n",
    "assume(omega, 'real')"
   ]
  },
  {
   "cell_type": "markdown",
   "metadata": {},
   "source": [
    "$$\\kappa^2 = \\epsilon \\mu \\frac{\\omega^2}{c^2} + i\\,\\omega\\,\\sigma\\,\\mu\\,\\frac{4\\pi}{c^2}$$"
   ]
  },
  {
   "cell_type": "code",
   "execution_count": 2,
   "metadata": {},
   "outputs": [
    {
     "name": "stdout",
     "output_type": "stream",
     "text": [
      "kappa =\n"
     ]
    },
    {
     "data": {
      "text/latex": [
       "$\\displaystyle \\kappa$"
      ],
      "text/plain": [
       "<IPython.core.display.Math object>"
      ]
     },
     "metadata": {},
     "output_type": "display_data"
    },
    {
     "name": "stdout",
     "output_type": "stream",
     "text": [
      "eq_kappa =\n"
     ]
    },
    {
     "data": {
      "text/latex": [
       "$\\displaystyle \\kappa^{2} = \\frac{4 i \\, \\pi \\mu \\omega \\sigma}{c} + \\frac{\\epsilon \\mu \\omega^{2}}{c^{2}}$"
      ],
      "text/plain": [
       "<IPython.core.display.Math object>"
      ]
     },
     "metadata": {},
     "output_type": "display_data"
    },
    {
     "name": "stdout",
     "output_type": "stream",
     "text": [
      "eq_kappa_inner_vacuum =\n"
     ]
    },
    {
     "data": {
      "text/latex": [
       "$\\displaystyle \\kappa_{\\mathit{vacuum}}^{2} = \\frac{\\omega^{2}}{c^{2}}$"
      ],
      "text/plain": [
       "<IPython.core.display.Math object>"
      ]
     },
     "metadata": {},
     "output_type": "display_data"
    }
   ],
   "source": [
    "# исходя из вида дифференциальных уравнений для вакуума внутри резонатора и проводящего металла с потерями\n",
    "# записываем соотнощения для волнового вектора в виде уравнений\n",
    "\n",
    "\n",
    "eq_kappa              = kappa^2 == mu * epsilon * omega^2 / c^2 + I*omega*sigma*mu*4*pi/c\n",
    "eq_kappa_inner_vacuum = kappa_vacuum^2 == omega^2 / c^2\n",
    "\n",
    "kappa_sol = solve(eq_kappa, kappa)[1]\n",
    "kappa_vacuum_sol = omega / c\n",
    "\n",
    "print(\"kappa =\")\n",
    "display(Math(latex(kappa)))\n",
    "\n",
    "print(\"eq_kappa =\")\n",
    "display(Math(latex(eq_kappa)))\n",
    "\n",
    "print(\"eq_kappa_inner_vacuum =\")\n",
    "display(Math(latex(eq_kappa_inner_vacuum)))"
   ]
  },
  {
   "cell_type": "code",
   "execution_count": null,
   "metadata": {},
   "outputs": [],
   "source": []
  },
  {
   "cell_type": "markdown",
   "metadata": {},
   "source": [
    "принимая модель комплексного представления диэлектрической проницаемости $\\epsilon' = \\epsilon + \\frac{4\\pi\\,\\sigma}{\\omega}\\,i$ (плохой проводник)"
   ]
  },
  {
   "cell_type": "code",
   "execution_count": 3,
   "metadata": {},
   "outputs": [],
   "source": [
    "epsilon_complex = epsilon + I * 4 * pi * sigma / omega"
   ]
  },
  {
   "cell_type": "markdown",
   "metadata": {},
   "source": [
    "приходим к\n",
    "\n",
    "$$-{k'_x}^{2}-{k'_y}^{2} + \\left(\\frac{\\mu \\omega^2}{c^2}\\epsilon + \\frac{\\mu \\omega^2}{c^2}\\frac{4\\pi\\,\\sigma}{\\omega}\\,i - {k'_z}^{2}\\right) = 0$$\n"
   ]
  },
  {
   "cell_type": "markdown",
   "metadata": {},
   "source": [
    "$$\\frac{\\mu \\omega^2}{c^2}\\epsilon - \\left(k_x^2 + k_y^2 + k_z^2\\right) + \\left(s_x^2+s_y^2+s_z^2\\right) = 0$$"
   ]
  },
  {
   "cell_type": "markdown",
   "metadata": {},
   "source": [
    "$$ \\left(k_x\\,s_x + k_y\\,s_y + k_z\\,s_z\\right) = {2\\pi\\,\\sigma}\\frac{\\mu \\omega}{c^2}$$"
   ]
  },
  {
   "cell_type": "code",
   "execution_count": 4,
   "metadata": {},
   "outputs": [
    {
     "name": "stdout",
     "output_type": "stream",
     "text": [
      "eq_bad_conductor =\n"
     ]
    },
    {
     "data": {
      "text/latex": [
       "$\\displaystyle -k_{_{x}}^{2} - k_{_{y}}^{2} - k_{_{z}}^{2} + \\frac{\\epsilon \\mu \\omega^{2}}{c^{2}} + \\frac{4 i \\, \\pi \\mu \\omega \\sigma}{c^{2}} = 0$"
      ],
      "text/plain": [
       "<IPython.core.display.Math object>"
      ]
     },
     "metadata": {},
     "output_type": "display_data"
    },
    {
     "name": "stdout",
     "output_type": "stream",
     "text": [
      "eq_k_bad_conductor =\n"
     ]
    },
    {
     "data": {
      "text/latex": [
       "$\\displaystyle -\\mathit{kx}^{2} - \\mathit{ky}^{2} - \\mathit{kz}^{2} + \\frac{\\epsilon \\mu \\omega^{2}}{c^{2}} + \\mathit{sx}^{2} + \\mathit{sy}^{2} + \\mathit{sz}^{2} = 0$"
      ],
      "text/plain": [
       "<IPython.core.display.Math object>"
      ]
     },
     "metadata": {},
     "output_type": "display_data"
    },
    {
     "name": "stdout",
     "output_type": "stream",
     "text": [
      "eq_s_bad_conductor =\n"
     ]
    },
    {
     "data": {
      "text/latex": [
       "$\\displaystyle \\mathit{kx} \\mathit{sx} + \\mathit{ky} \\mathit{sy} + \\mathit{kz} \\mathit{sz} = \\frac{2 \\, \\pi \\mu \\omega \\sigma}{c^{2}}$"
      ],
      "text/plain": [
       "<IPython.core.display.Math object>"
      ]
     },
     "metadata": {},
     "output_type": "display_data"
    }
   ],
   "source": [
    "eq_bad_conductor   = mu * epsilon * omega^2 / c^2 + 4*pi*sigma * mu * omega / c^2 * I - k__x^2 - k__y^2 - k__z^2 == 0\n",
    "eq_k_bad_conductor = mu * epsilon * omega^2 / c^2 - (kx^2 + ky^2 + kz^2) + (sx^2 + sy^2 + sz^2) == 0\n",
    "eq_s_bad_conductor = kx * sx + ky * sy + kz * sz == 2*pi*sigma * mu * omega / c^2\n",
    "\n",
    "print(\"eq_bad_conductor =\")\n",
    "display(Math(latex(eq_bad_conductor)))\n",
    "\n",
    "print(\"eq_k_bad_conductor =\")\n",
    "display(Math(latex(eq_k_bad_conductor)))\n",
    "\n",
    "print(\"eq_s_bad_conductor =\")\n",
    "display(Math(latex(eq_s_bad_conductor)))"
   ]
  },
  {
   "cell_type": "code",
   "execution_count": null,
   "metadata": {},
   "outputs": [],
   "source": []
  },
  {
   "cell_type": "markdown",
   "metadata": {},
   "source": [
    "$${k'_x}^2=\\left(k_x + i\\,s_x \\right)^2 = k_x^2 - s_x^2 + 2\\,i\\,k_x\\,s_x$$"
   ]
  },
  {
   "cell_type": "markdown",
   "metadata": {},
   "source": [
    "$${k'_y}^2=\\left(k_y + i\\,s_y \\right)^2 = k_y^2 - s_y^2 + 2\\,i\\,k_y\\,s_y$$"
   ]
  },
  {
   "cell_type": "markdown",
   "metadata": {},
   "source": [
    "$${k'_z}^2=\\left(k_z + i\\,s_z \\right)^2 = k_z^2 - s_z^2 + 2\\,i\\,k_z\\,s_z$$"
   ]
  },
  {
   "cell_type": "markdown",
   "metadata": {},
   "source": []
  },
  {
   "cell_type": "code",
   "execution_count": 5,
   "metadata": {},
   "outputs": [],
   "source": [
    "k__x_subs = k__x == kx + I * sx"
   ]
  },
  {
   "cell_type": "code",
   "execution_count": 6,
   "metadata": {},
   "outputs": [],
   "source": [
    "k__y_subs = k__y == ky + I * sy"
   ]
  },
  {
   "cell_type": "code",
   "execution_count": 7,
   "metadata": {},
   "outputs": [],
   "source": [
    "k__z_subs = k__z == kz + I * sz"
   ]
  },
  {
   "cell_type": "code",
   "execution_count": null,
   "metadata": {},
   "outputs": [],
   "source": []
  },
  {
   "cell_type": "code",
   "execution_count": 8,
   "metadata": {},
   "outputs": [
    {
     "name": "stdout",
     "output_type": "stream",
     "text": [
      "omega_sol_k =\n"
     ]
    },
    {
     "data": {
      "text/latex": [
       "$\\displaystyle \\left[\\omega = -c \\sqrt{\\frac{\\mathit{kx}^{2}}{\\epsilon \\mu} + \\frac{\\mathit{ky}^{2}}{\\epsilon \\mu} + \\frac{\\mathit{kz}^{2}}{\\epsilon \\mu} - \\frac{\\mathit{sx}^{2}}{\\epsilon \\mu} - \\frac{\\mathit{sy}^{2}}{\\epsilon \\mu} - \\frac{\\mathit{sz}^{2}}{\\epsilon \\mu}}, \\omega = c \\sqrt{\\frac{\\mathit{kx}^{2}}{\\epsilon \\mu} + \\frac{\\mathit{ky}^{2}}{\\epsilon \\mu} + \\frac{\\mathit{kz}^{2}}{\\epsilon \\mu} - \\frac{\\mathit{sx}^{2}}{\\epsilon \\mu} - \\frac{\\mathit{sy}^{2}}{\\epsilon \\mu} - \\frac{\\mathit{sz}^{2}}{\\epsilon \\mu}}\\right]$"
      ],
      "text/plain": [
       "<IPython.core.display.Math object>"
      ]
     },
     "metadata": {},
     "output_type": "display_data"
    },
    {
     "name": "stdout",
     "output_type": "stream",
     "text": [
      "omega_sol_s =\n"
     ]
    },
    {
     "data": {
      "text/latex": [
       "$\\displaystyle \\left[\\omega = \\frac{c^{2} \\mathit{kx} \\mathit{sx} + c^{2} \\mathit{ky} \\mathit{sy} + c^{2} \\mathit{kz} \\mathit{sz}}{2 \\, \\pi \\mu \\sigma}\\right]$"
      ],
      "text/plain": [
       "<IPython.core.display.Math object>"
      ]
     },
     "metadata": {},
     "output_type": "display_data"
    },
    {
     "name": "stdout",
     "output_type": "stream",
     "text": [
      "omega2_sol =\n"
     ]
    },
    {
     "data": {
      "text/latex": [
       "$\\displaystyle \\left[\\omega^{2} = \\frac{c^{2} k_{_{x}}^{2} + c^{2} k_{_{y}}^{2} + c^{2} k_{_{z}}^{2} - 4 i \\, \\pi \\mu \\omega \\sigma}{\\epsilon \\mu}\\right]$"
      ],
      "text/plain": [
       "<IPython.core.display.Math object>"
      ]
     },
     "metadata": {},
     "output_type": "display_data"
    }
   ],
   "source": [
    "omega_sol_k = solve(eq_k_bad_conductor, omega)\n",
    "print(\"omega_sol_k =\")\n",
    "display(Math(latex(omega_sol_k)))\n",
    "\n",
    "omega_sol_s = solve(eq_s_bad_conductor, omega)\n",
    "print(\"omega_sol_s =\")\n",
    "display(Math(latex(omega_sol_s)))\n",
    "\n",
    "omega2_sol = solve(eq_bad_conductor, omega^2)\n",
    "print(\"omega2_sol =\")\n",
    "display(Math(latex(omega2_sol)))"
   ]
  },
  {
   "cell_type": "code",
   "execution_count": null,
   "metadata": {},
   "outputs": [],
   "source": []
  },
  {
   "cell_type": "code",
   "execution_count": 9,
   "metadata": {},
   "outputs": [],
   "source": [
    "omega2_sol = [omega2_sol[0].subs(k__x_subs).subs(k__y_subs).subs(k__z_subs)]"
   ]
  },
  {
   "cell_type": "code",
   "execution_count": null,
   "metadata": {},
   "outputs": [],
   "source": []
  },
  {
   "cell_type": "code",
   "execution_count": 10,
   "metadata": {},
   "outputs": [
    {
     "name": "stdout",
     "output_type": "stream",
     "text": [
      "eq2_s_omega =\n"
     ]
    },
    {
     "data": {
      "text/latex": [
       "$\\displaystyle \\frac{c^{2} {\\left(\\mathit{kx} + i \\, \\mathit{sx}\\right)}^{2} + c^{2} {\\left(\\mathit{ky} + i \\, \\mathit{sy}\\right)}^{2} + c^{2} {\\left(\\mathit{kz} + i \\, \\mathit{sz}\\right)}^{2} - 4 i \\, \\pi \\mu \\omega \\sigma}{\\epsilon \\mu} = \\frac{{\\left(c^{2} \\mathit{kx} \\mathit{sx} + c^{2} \\mathit{ky} \\mathit{sy} + c^{2} \\mathit{kz} \\mathit{sz}\\right)}^{2}}{4 \\, \\pi^{2} \\mu^{2} \\sigma^{2}}$"
      ],
      "text/plain": [
       "<IPython.core.display.Math object>"
      ]
     },
     "metadata": {},
     "output_type": "display_data"
    }
   ],
   "source": [
    "eq2_s_omega = omega2_sol[0].rhs() == omega_sol_s[0].rhs()^2\n",
    "print(\"eq2_s_omega =\")\n",
    "display(Math(latex(eq2_s_omega)))"
   ]
  },
  {
   "cell_type": "code",
   "execution_count": 11,
   "metadata": {},
   "outputs": [
    {
     "name": "stdout",
     "output_type": "stream",
     "text": [
      "eq2_k_omega =\n"
     ]
    },
    {
     "data": {
      "text/latex": [
       "$\\displaystyle \\frac{c^{2} {\\left(\\mathit{kx} + i \\, \\mathit{sx}\\right)}^{2} + c^{2} {\\left(\\mathit{ky} + i \\, \\mathit{sy}\\right)}^{2} + c^{2} {\\left(\\mathit{kz} + i \\, \\mathit{sz}\\right)}^{2} - 4 i \\, \\pi \\mu \\omega \\sigma}{\\epsilon \\mu} = c^{2} {\\left(\\frac{\\mathit{kx}^{2}}{\\epsilon \\mu} + \\frac{\\mathit{ky}^{2}}{\\epsilon \\mu} + \\frac{\\mathit{kz}^{2}}{\\epsilon \\mu} - \\frac{\\mathit{sx}^{2}}{\\epsilon \\mu} - \\frac{\\mathit{sy}^{2}}{\\epsilon \\mu} - \\frac{\\mathit{sz}^{2}}{\\epsilon \\mu}\\right)}$"
      ],
      "text/plain": [
       "<IPython.core.display.Math object>"
      ]
     },
     "metadata": {},
     "output_type": "display_data"
    }
   ],
   "source": [
    "eq2_k_omega = omega2_sol[0].rhs() == omega_sol_k[0].rhs()^2\n",
    "print(\"eq2_k_omega =\")\n",
    "display(Math(latex(eq2_k_omega)))"
   ]
  },
  {
   "cell_type": "code",
   "execution_count": null,
   "metadata": {},
   "outputs": [],
   "source": []
  },
  {
   "cell_type": "code",
   "execution_count": 12,
   "metadata": {},
   "outputs": [
    {
     "name": "stdout",
     "output_type": "stream",
     "text": [
      "eq0_omega =\n"
     ]
    },
    {
     "data": {
      "text/latex": [
       "$\\displaystyle -c \\sqrt{\\frac{\\mathit{kx}^{2}}{\\epsilon \\mu} + \\frac{\\mathit{ky}^{2}}{\\epsilon \\mu} + \\frac{\\mathit{kz}^{2}}{\\epsilon \\mu} - \\frac{\\mathit{sx}^{2}}{\\epsilon \\mu} - \\frac{\\mathit{sy}^{2}}{\\epsilon \\mu} - \\frac{\\mathit{sz}^{2}}{\\epsilon \\mu}} = \\frac{c^{2} \\mathit{kx} \\mathit{sx} + c^{2} \\mathit{ky} \\mathit{sy} + c^{2} \\mathit{kz} \\mathit{sz}}{2 \\, \\pi \\mu \\sigma}$"
      ],
      "text/plain": [
       "<IPython.core.display.Math object>"
      ]
     },
     "metadata": {},
     "output_type": "display_data"
    }
   ],
   "source": [
    "eq0_omega = omega_sol_k[0].rhs() == omega_sol_s[0].rhs()\n",
    "print(\"eq0_omega =\")\n",
    "display(Math(latex(eq0_omega)))"
   ]
  },
  {
   "cell_type": "code",
   "execution_count": 13,
   "metadata": {},
   "outputs": [
    {
     "name": "stdout",
     "output_type": "stream",
     "text": [
      "eq1_omega =\n"
     ]
    },
    {
     "data": {
      "text/latex": [
       "$\\displaystyle c \\sqrt{\\frac{\\mathit{kx}^{2}}{\\epsilon \\mu} + \\frac{\\mathit{ky}^{2}}{\\epsilon \\mu} + \\frac{\\mathit{kz}^{2}}{\\epsilon \\mu} - \\frac{\\mathit{sx}^{2}}{\\epsilon \\mu} - \\frac{\\mathit{sy}^{2}}{\\epsilon \\mu} - \\frac{\\mathit{sz}^{2}}{\\epsilon \\mu}} = \\frac{c^{2} \\mathit{kx} \\mathit{sx} + c^{2} \\mathit{ky} \\mathit{sy} + c^{2} \\mathit{kz} \\mathit{sz}}{2 \\, \\pi \\mu \\sigma}$"
      ],
      "text/plain": [
       "<IPython.core.display.Math object>"
      ]
     },
     "metadata": {},
     "output_type": "display_data"
    }
   ],
   "source": [
    "eq1_omega = omega_sol_k[1].rhs() == omega_sol_s[0].rhs()\n",
    "print(\"eq1_omega =\")\n",
    "display(Math(latex(eq1_omega)))"
   ]
  },
  {
   "cell_type": "code",
   "execution_count": null,
   "metadata": {},
   "outputs": [],
   "source": []
  },
  {
   "cell_type": "code",
   "execution_count": 14,
   "metadata": {},
   "outputs": [
    {
     "data": {
      "text/latex": [
       "$\\displaystyle \\frac{c^{2} \\mathit{kx}^{2}}{\\epsilon \\mu} + \\frac{c^{2} \\mathit{ky}^{2}}{\\epsilon \\mu} + \\frac{c^{2} \\mathit{kz}^{2}}{\\epsilon \\mu} - \\frac{4 i \\, \\pi \\omega \\sigma}{\\epsilon} + \\frac{2 i \\, c^{2} \\mathit{kx} \\mathit{sx}}{\\epsilon \\mu} - \\frac{c^{2} \\mathit{sx}^{2}}{\\epsilon \\mu} + \\frac{2 i \\, c^{2} \\mathit{ky} \\mathit{sy}}{\\epsilon \\mu} - \\frac{c^{2} \\mathit{sy}^{2}}{\\epsilon \\mu} + \\frac{2 i \\, c^{2} \\mathit{kz} \\mathit{sz}}{\\epsilon \\mu} - \\frac{c^{2} \\mathit{sz}^{2}}{\\epsilon \\mu} = \\frac{c^{4} \\mathit{kx}^{2} \\mathit{sx}^{2}}{4 \\, \\pi^{2} \\mu^{2} \\sigma^{2}} + \\frac{c^{4} \\mathit{kx} \\mathit{ky} \\mathit{sx} \\mathit{sy}}{2 \\, \\pi^{2} \\mu^{2} \\sigma^{2}} + \\frac{c^{4} \\mathit{ky}^{2} \\mathit{sy}^{2}}{4 \\, \\pi^{2} \\mu^{2} \\sigma^{2}} + \\frac{c^{4} \\mathit{kx} \\mathit{kz} \\mathit{sx} \\mathit{sz}}{2 \\, \\pi^{2} \\mu^{2} \\sigma^{2}} + \\frac{c^{4} \\mathit{ky} \\mathit{kz} \\mathit{sy} \\mathit{sz}}{2 \\, \\pi^{2} \\mu^{2} \\sigma^{2}} + \\frac{c^{4} \\mathit{kz}^{2} \\mathit{sz}^{2}}{4 \\, \\pi^{2} \\mu^{2} \\sigma^{2}}$"
      ],
      "text/plain": [
       "<IPython.core.display.Math object>"
      ]
     },
     "metadata": {},
     "output_type": "display_data"
    },
    {
     "data": {
      "text/latex": [
       "$\\displaystyle \\frac{c^{2} \\mathit{kx}^{2}}{\\epsilon \\mu} + \\frac{c^{2} \\mathit{ky}^{2}}{\\epsilon \\mu} + \\frac{c^{2} \\mathit{kz}^{2}}{\\epsilon \\mu} - \\frac{4 i \\, \\pi \\omega \\sigma}{\\epsilon} + \\frac{2 i \\, c^{2} \\mathit{kx} \\mathit{sx}}{\\epsilon \\mu} - \\frac{c^{2} \\mathit{sx}^{2}}{\\epsilon \\mu} + \\frac{2 i \\, c^{2} \\mathit{ky} \\mathit{sy}}{\\epsilon \\mu} - \\frac{c^{2} \\mathit{sy}^{2}}{\\epsilon \\mu} + \\frac{2 i \\, c^{2} \\mathit{kz} \\mathit{sz}}{\\epsilon \\mu} - \\frac{c^{2} \\mathit{sz}^{2}}{\\epsilon \\mu} = \\frac{c^{2} \\mathit{kx}^{2}}{\\epsilon \\mu} + \\frac{c^{2} \\mathit{ky}^{2}}{\\epsilon \\mu} + \\frac{c^{2} \\mathit{kz}^{2}}{\\epsilon \\mu} - \\frac{c^{2} \\mathit{sx}^{2}}{\\epsilon \\mu} - \\frac{c^{2} \\mathit{sy}^{2}}{\\epsilon \\mu} - \\frac{c^{2} \\mathit{sz}^{2}}{\\epsilon \\mu}$"
      ],
      "text/plain": [
       "<IPython.core.display.Math object>"
      ]
     },
     "metadata": {},
     "output_type": "display_data"
    },
    {
     "data": {
      "text/latex": [
       "$\\displaystyle -\\frac{4 i \\, \\pi \\omega \\sigma}{\\epsilon} + \\frac{2 i \\, c^{2} \\mathit{kx} \\mathit{sx}}{\\epsilon \\mu} + \\frac{2 i \\, c^{2} \\mathit{ky} \\mathit{sy}}{\\epsilon \\mu} + \\frac{2 i \\, c^{2} \\mathit{kz} \\mathit{sz}}{\\epsilon \\mu} = 0$"
      ],
      "text/plain": [
       "<IPython.core.display.Math object>"
      ]
     },
     "metadata": {},
     "output_type": "display_data"
    },
    {
     "data": {
      "text/latex": [
       "$\\displaystyle -\\mathit{kx}^{2} - \\mathit{ky}^{2} - \\mathit{kz}^{2} + \\frac{\\epsilon \\mu \\omega^{2}}{c^{2}} + \\mathit{sx}^{2} + \\mathit{sy}^{2} + \\mathit{sz}^{2} = 0$"
      ],
      "text/plain": [
       "<IPython.core.display.Math object>"
      ]
     },
     "metadata": {},
     "output_type": "display_data"
    },
    {
     "data": {
      "text/latex": [
       "$\\displaystyle \\mathit{kx} \\mathit{sx} + \\mathit{ky} \\mathit{sy} + \\mathit{kz} \\mathit{sz} = \\frac{2 \\, \\pi \\mu \\omega \\sigma}{c^{2}}$"
      ],
      "text/plain": [
       "<IPython.core.display.Math object>"
      ]
     },
     "metadata": {},
     "output_type": "display_data"
    }
   ],
   "source": [
    "display(Math(latex(eq2_s_omega.expand())))\n",
    "display(Math(latex(eq2_k_omega.expand())))\n",
    "\n",
    "eq2_k_omega_simp = (eq2_k_omega.expand().lhs() - eq2_k_omega.expand().rhs() == 0).simplify()\n",
    "display(Math(latex(eq2_k_omega_simp)))\n",
    "\n",
    "display(Math(latex(eq_k_bad_conductor)))\n",
    "#display(Math(latex(eq_bad_conductor)))\n",
    "display(Math(latex(eq_s_bad_conductor)))"
   ]
  },
  {
   "cell_type": "code",
   "execution_count": 15,
   "metadata": {},
   "outputs": [
    {
     "data": {
      "text/plain": [
       "[c^2*kx^2/(epsilon*mu) + c^2*ky^2/(epsilon*mu) + c^2*kz^2/(epsilon*mu) - 4*I*pi*omega*sigma/epsilon + 2*I*c^2*kx*sx/(epsilon*mu) - c^2*sx^2/(epsilon*mu) + 2*I*c^2*ky*sy/(epsilon*mu) - c^2*sy^2/(epsilon*mu) + 2*I*c^2*kz*sz/(epsilon*mu) - c^2*sz^2/(epsilon*mu) == 1/4*c^4*kx^2*sx^2/(pi^2*mu^2*sigma^2) + 1/2*c^4*kx*ky*sx*sy/(pi^2*mu^2*sigma^2) + 1/4*c^4*ky^2*sy^2/(pi^2*mu^2*sigma^2) + 1/2*c^4*kx*kz*sx*sz/(pi^2*mu^2*sigma^2) + 1/2*c^4*ky*kz*sy*sz/(pi^2*mu^2*sigma^2) + 1/4*c^4*kz^2*sz^2/(pi^2*mu^2*sigma^2),\n",
       " c^2*kx^2/(epsilon*mu) + c^2*ky^2/(epsilon*mu) + c^2*kz^2/(epsilon*mu) - 4*I*pi*omega*sigma/epsilon + 2*I*c^2*kx*sx/(epsilon*mu) - c^2*sx^2/(epsilon*mu) + 2*I*c^2*ky*sy/(epsilon*mu) - c^2*sy^2/(epsilon*mu) + 2*I*c^2*kz*sz/(epsilon*mu) - c^2*sz^2/(epsilon*mu) == c^2*kx^2/(epsilon*mu) + c^2*ky^2/(epsilon*mu) + c^2*kz^2/(epsilon*mu) - c^2*sx^2/(epsilon*mu) - c^2*sy^2/(epsilon*mu) - c^2*sz^2/(epsilon*mu),\n",
       " -kx^2 - ky^2 - kz^2 + epsilon*mu*omega^2/c^2 + sx^2 + sy^2 + sz^2 == 0,\n",
       " kx*sx + ky*sy + kz*sz == 2*pi*mu*omega*sigma/c^2,\n",
       " c*sqrt(kx^2/(epsilon*mu) + ky^2/(epsilon*mu) + kz^2/(epsilon*mu) - sx^2/(epsilon*mu) - sy^2/(epsilon*mu) - sz^2/(epsilon*mu)) == 1/2*(c^2*kx*sx + c^2*ky*sy + c^2*kz*sz)/(pi*mu*sigma)]"
      ]
     },
     "execution_count": 15,
     "metadata": {},
     "output_type": "execute_result"
    }
   ],
   "source": [
    "#eq_sys_kxkykz = [eq2_s_omega.expand(), eq2_k_omega_simp.expand(), eq_k_bad_conductor, eq_s_bad_conductor]\n",
    "eq_sys_kxkykz = [eq2_s_omega.expand(), eq2_k_omega.expand(), eq_k_bad_conductor, eq_s_bad_conductor, eq1_omega]\n",
    "eq_sys_kxkykz"
   ]
  },
  {
   "cell_type": "code",
   "execution_count": null,
   "metadata": {},
   "outputs": [],
   "source": []
  },
  {
   "cell_type": "code",
   "execution_count": 16,
   "metadata": {},
   "outputs": [
    {
     "name": "stdout",
     "output_type": "stream",
     "text": [
      "kx*sx + ky*sy + kz*sz == 2*pi*mu*omega*sigma/c^2\n",
      "\n",
      "-kx^2 - ky^2 - kz^2 + epsilon*mu*omega^2/c^2 + sx^2 + sy^2 + sz^2 == 0\n",
      "\n",
      "c^2*kx^2/(epsilon*mu) + c^2*ky^2/(epsilon*mu) + c^2*kz^2/(epsilon*mu) - 4*I*pi*omega*sigma/epsilon + 2*I*c^2*kx*sx/(epsilon*mu) - c^2*sx^2/(epsilon*mu) + 2*I*c^2*ky*sy/(epsilon*mu) - c^2*sy^2/(epsilon*mu) + 2*I*c^2*kz*sz/(epsilon*mu) - c^2*sz^2/(epsilon*mu) == c^2*kx^2/(epsilon*mu) + c^2*ky^2/(epsilon*mu) + c^2*kz^2/(epsilon*mu) - c^2*sx^2/(epsilon*mu) - c^2*sy^2/(epsilon*mu) - c^2*sz^2/(epsilon*mu)\n",
      "\n",
      "c^2*kx^2/(epsilon*mu) + c^2*ky^2/(epsilon*mu) + c^2*kz^2/(epsilon*mu) - 4*I*pi*omega*sigma/epsilon + 2*I*c^2*kx*sx/(epsilon*mu) - c^2*sx^2/(epsilon*mu) + 2*I*c^2*ky*sy/(epsilon*mu) - c^2*sy^2/(epsilon*mu) + 2*I*c^2*kz*sz/(epsilon*mu) - c^2*sz^2/(epsilon*mu) == 1/4*c^4*kx^2*sx^2/(pi^2*mu^2*sigma^2) + 1/2*c^4*kx*ky*sx*sy/(pi^2*mu^2*sigma^2) + 1/4*c^4*ky^2*sy^2/(pi^2*mu^2*sigma^2) + 1/2*c^4*kx*kz*sx*sz/(pi^2*mu^2*sigma^2) + 1/2*c^4*ky*kz*sy*sz/(pi^2*mu^2*sigma^2) + 1/4*c^4*kz^2*sz^2/(pi^2*mu^2*sigma^2)\n",
      "\n",
      "c*sqrt(kx^2/(epsilon*mu) + ky^2/(epsilon*mu) + kz^2/(epsilon*mu) - sx^2/(epsilon*mu) - sy^2/(epsilon*mu) - sz^2/(epsilon*mu)) == 1/2*(c^2*kx*sx + c^2*ky*sy + c^2*kz*sz)/(pi*mu*sigma)\n",
      "\n"
     ]
    }
   ],
   "source": [
    "eq_sys_sol = solve(eq_sys_kxkykz, [kx, ky, kz, sx, sy, sz])\n",
    "#print(eq_sys_sol)\n",
    "\n",
    "for i in range(len(eq_sys_sol)):\n",
    "    print(eq_sys_sol[i])\n",
    "    print(\"\")"
   ]
  },
  {
   "cell_type": "code",
   "execution_count": null,
   "metadata": {},
   "outputs": [],
   "source": []
  },
  {
   "cell_type": "markdown",
   "metadata": {},
   "source": [
    "$$\\frac{\\partial^{2}}{(\\partial {x})^{2}}\\vec{E}(x) + \\frac{\\partial^{2}}{(\\partial {y})^{2}}\\vec{E}(x) + \\left(\\frac{\\mu \\epsilon \\omega^2}{c^2} - {k'_z}^2\\right)\\,\\vec{E}(x) - grad\\,div\\,\\vec{E} = 0$$"
   ]
  },
  {
   "cell_type": "code",
   "execution_count": 17,
   "metadata": {},
   "outputs": [
    {
     "name": "stdout",
     "output_type": "stream",
     "text": [
      "de_inner_vacuum =\n"
     ]
    },
    {
     "data": {
      "text/latex": [
       "$\\displaystyle -{\\left(k^{2} - \\kappa^{2}\\right)} E\\left(x\\right) + \\frac{\\partial^{2}}{(\\partial x)^{2}}E\\left(x\\right) = 0$"
      ],
      "text/plain": [
       "<IPython.core.display.Math object>"
      ]
     },
     "metadata": {},
     "output_type": "display_data"
    }
   ],
   "source": [
    "# решаем полученные обыкновенные дифференциальные уравнения\n",
    "E = function('E')(x)\n",
    "\n",
    "\n",
    "de_inner_vacuum = diff (E, x, 2) + diff (E, y, 2) + (kappa^2 - k^2) * E == 0\n",
    "de_inner_vacuum = diff (E, x, 2) + (kappa^2 - k^2) * E == 0\n",
    "# получая таким образом выражения для электрического поля в вакуума внутри резонатора и внутри проводящего металла с потерями\n",
    "print(\"de_inner_vacuum =\")\n",
    "display(Math(latex(de_inner_vacuum)))"
   ]
  },
  {
   "cell_type": "code",
   "execution_count": 18,
   "metadata": {},
   "outputs": [
    {
     "name": "stdout",
     "output_type": "stream",
     "text": [
      "E_inner_vacuum =\n"
     ]
    },
    {
     "data": {
      "text/latex": [
       "$\\displaystyle K_{1} e^{\\left(i \\, \\sqrt{-k^{2} + \\kappa^{2}} x\\right)} + K_{2} e^{\\left(-i \\, \\sqrt{-k^{2} + \\kappa^{2}} x\\right)}$"
      ],
      "text/plain": [
       "<IPython.core.display.Math object>"
      ]
     },
     "metadata": {},
     "output_type": "display_data"
    }
   ],
   "source": [
    "assume(k^2-kappa^2 > 0)\n",
    "\n",
    "E_inner_vacuum = desolve(de_inner_vacuum, E, ivar = x)\n",
    "#E_inner_vacuum = desolve(de_inner_vacuum, E, ivar = [x, y], contrib_ode = True)\n",
    "\n",
    "# получая таким образом выражения для электрического поля в вакуума внутри резонатора и внутри проводящего металла с потерями\n",
    "print(\"E_inner_vacuum =\")\n",
    "display(Math(latex(E_inner_vacuum)))"
   ]
  },
  {
   "cell_type": "code",
   "execution_count": 19,
   "metadata": {},
   "outputs": [],
   "source": [
    "# k = sqrt(k__x^2+k__y^2+k__z^2)\n",
    "#.subs(k__x_subs).subs(k__y_subs).subs(k__z_subs)"
   ]
  },
  {
   "cell_type": "code",
   "execution_count": 20,
   "metadata": {},
   "outputs": [],
   "source": [
    "B1_x = var ('B1_x')\n",
    "B2_x = var ('B2_x')\n",
    "\n",
    "A1_x = var ('A1_x')\n",
    "A2_x = var ('A2_x')\n",
    "\n",
    "\n",
    "B1_y = var ('B1_y')\n",
    "B2_y = var ('B2_y')\n",
    "\n",
    "A1_y = var ('A1_y')\n",
    "A2_y = var ('A2_y')\n",
    "\n",
    "\n",
    "B1_z = var ('B1_z')\n",
    "B2_z = var ('B2_z')\n",
    "\n",
    "A1_z = var ('A1_z')\n",
    "A2_z = var ('A2_z')"
   ]
  },
  {
   "cell_type": "code",
   "execution_count": 21,
   "metadata": {},
   "outputs": [],
   "source": [
    "# 2D\n",
    "set_Ey_0 = False"
   ]
  },
  {
   "cell_type": "code",
   "execution_count": 22,
   "metadata": {},
   "outputs": [],
   "source": [
    "if set_Ey_0:\n",
    "    B1_y = 0\n",
    "    B2_y = 0\n",
    "    \n",
    "    A1_y = 0\n",
    "    A2_y = 0\n",
    "    \n",
    "    ky   = 0"
   ]
  },
  {
   "cell_type": "code",
   "execution_count": 23,
   "metadata": {},
   "outputs": [
    {
     "name": "stdout",
     "output_type": "stream",
     "text": [
      "E_inner_vacuum_z \n"
     ]
    },
    {
     "data": {
      "text/latex": [
       "$\\displaystyle E_inner_vacuum_z$"
      ],
      "text/plain": [
       "<IPython.core.display.Math object>"
      ]
     },
     "metadata": {},
     "output_type": "display_data"
    },
    {
     "name": "stdout",
     "output_type": "stream",
     "text": [
      "E_inner_vacuum_x =\n"
     ]
    },
    {
     "data": {
      "text/latex": [
       "$\\displaystyle E_inner_vacuum_x$"
      ],
      "text/plain": [
       "<IPython.core.display.Math object>"
      ]
     },
     "metadata": {},
     "output_type": "display_data"
    },
    {
     "name": "stdout",
     "output_type": "stream",
     "text": [
      "E_inner_vacuum_y =\n"
     ]
    },
    {
     "data": {
      "text/latex": [
       "$\\displaystyle E_inner_vacuum_y$"
      ],
      "text/plain": [
       "<IPython.core.display.Math object>"
      ]
     },
     "metadata": {},
     "output_type": "display_data"
    },
    {
     "name": "stdout",
     "output_type": "stream",
     "text": [
      "E_inner_vacuum_sol_z (x) \n"
     ]
    },
    {
     "data": {
      "text/latex": [
       "$\\displaystyle \\mathit{A1}_{z} e^{\\left(-i \\, \\sqrt{-k^{2} + \\kappa_{\\mathit{vacuum}}^{2}} x\\right)}$"
      ],
      "text/plain": [
       "<IPython.core.display.Math object>"
      ]
     },
     "metadata": {},
     "output_type": "display_data"
    },
    {
     "name": "stdout",
     "output_type": "stream",
     "text": [
      "E_inner_vacuum_sol_x (x) =\n"
     ]
    },
    {
     "data": {
      "text/latex": [
       "$\\displaystyle \\mathit{A1}_{x} e^{\\left(-i \\, \\sqrt{-k^{2} + \\kappa_{\\mathit{vacuum}}^{2}} x\\right)}$"
      ],
      "text/plain": [
       "<IPython.core.display.Math object>"
      ]
     },
     "metadata": {},
     "output_type": "display_data"
    },
    {
     "name": "stdout",
     "output_type": "stream",
     "text": [
      "E_inner_vacuum_sol_y (x) =\n"
     ]
    },
    {
     "data": {
      "text/latex": [
       "$\\displaystyle \\mathit{A1}_{y} e^{\\left(-i \\, \\sqrt{-k^{2} + \\kappa_{\\mathit{vacuum}}^{2}} x\\right)}$"
      ],
      "text/plain": [
       "<IPython.core.display.Math object>"
      ]
     },
     "metadata": {},
     "output_type": "display_data"
    }
   ],
   "source": [
    "if False:\n",
    "    # выражения для электрического поля\n",
    "    # в вакууме внутри резонатора \n",
    "    E_inner_vacuum_z (x) = (B1_z*cos(sqrt(kappa_vacuum^2-k^2)*x) + B2_z*sin(sqrt(kappa_vacuum^2-k^2)*x)).subs(B1_z == A1_z, A1_z == A2_z)\n",
    "    E_inner_vacuum_x (x) = (B1_x*cos(sqrt(kappa_vacuum^2-k^2)*x) + B2_x*sin(sqrt(kappa_vacuum^2-k^2)*x)).subs(B1_x == A1_x, B2_x == A2_z)\n",
    "    E_inner_vacuum_y (x) = (B1_y*cos(sqrt(kappa_vacuum^2-k^2)*x) + B2_y*sin(sqrt(kappa_vacuum^2-k^2)*x)).subs(B1_y == A1_y, B2_y == A2_y)\n",
    "\n",
    "    # знак перед корнем будем выбирать всегда так чтобы корень имел положительную мнимую часть\n",
    "    E_inner_vacuum_z (x) = (B1_z*exp(- I * sqrt(kappa_vacuum^2-k^2)*x)).subs(B1_z == A1_z, A1_z == A2_z)\n",
    "    E_inner_vacuum_x (x) = (B1_x*exp(- I * sqrt(kappa_vacuum^2-k^2)*x)).subs(B1_x == A1_x, B2_x == A2_z)\n",
    "    E_inner_vacuum_y (x) = (B1_y*exp(- I * sqrt(kappa_vacuum^2-k^2)*x)).subs(B1_y == A1_y, B2_y == A2_y)\n",
    "else:\n",
    "    # знак перед корнем будем выбирать всегда так чтобы корень имел положительную мнимую часть\n",
    "    E_inner_vacuum_sol_z (x) = (B1_z*exp(- I * sqrt(kappa_vacuum^2-k^2)*x)).subs(B1_z == A1_z, A1_z == A2_z)\n",
    "    E_inner_vacuum_sol_x (x) = (B1_x*exp(- I * sqrt(kappa_vacuum^2-k^2)*x)).subs(B1_x == A1_x, B2_x == A2_z)\n",
    "    E_inner_vacuum_sol_y (x) = (B1_y*exp(- I * sqrt(kappa_vacuum^2-k^2)*x)).subs(B1_y == A1_y, B2_y == A2_y)\n",
    "\n",
    "    E_inner_vacuum_z = function(\"E_inner_vacuum_z\")\n",
    "    E_inner_vacuum_x = function(\"E_inner_vacuum_x\")\n",
    "    E_inner_vacuum_y = function(\"E_inner_vacuum_y\")\n",
    "\n",
    "print (\"E_inner_vacuum_z \")\n",
    "display(Math(latex(E_inner_vacuum_z)))\n",
    "print (\"E_inner_vacuum_x =\")\n",
    "display(Math(latex(E_inner_vacuum_x)))\n",
    "print (\"E_inner_vacuum_y =\")\n",
    "display(Math(latex(E_inner_vacuum_y)))    \n",
    "\n",
    "print (\"E_inner_vacuum_sol_z (x) \")\n",
    "display(Math(latex(E_inner_vacuum_sol_z (x))))\n",
    "print (\"E_inner_vacuum_sol_x (x) =\")\n",
    "display(Math(latex(E_inner_vacuum_sol_x (x))))\n",
    "print (\"E_inner_vacuum_sol_y (x) =\")\n",
    "display(Math(latex(E_inner_vacuum_sol_y (x))))    \n"
   ]
  },
  {
   "cell_type": "markdown",
   "metadata": {},
   "source": [
    "решение для проводящего металла с потерями\n",
    "\n",
    "$\\vec{E} = \\vec{E}\\,e^{i\\,k_x'\\,x}\\,e^{i\\,k_z\\,z}\\,e^{-i\\,\\omega\\,t}$\n",
    "\n",
    "$k_x' = k_x + i\\,s_x$\n",
    "\n",
    "$\\vec{E} = \\vec{E}\\,e^{-s_x\\,x}\\,e^{i\\,k_x\\,x}\\,e^{i\\,k_z\\,z}\\,e^{-i\\,\\omega\\,t}$"
   ]
  },
  {
   "cell_type": "code",
   "execution_count": 24,
   "metadata": {},
   "outputs": [
    {
     "name": "stdout",
     "output_type": "stream",
     "text": [
      "E_bad_conductor_z \n"
     ]
    },
    {
     "data": {
      "text/latex": [
       "$\\displaystyle E_bad_conductor_z$"
      ],
      "text/plain": [
       "<IPython.core.display.Math object>"
      ]
     },
     "metadata": {},
     "output_type": "display_data"
    },
    {
     "name": "stdout",
     "output_type": "stream",
     "text": [
      "E_bad_conductor_x =\n"
     ]
    },
    {
     "data": {
      "text/latex": [
       "$\\displaystyle E_bad_conductor_x$"
      ],
      "text/plain": [
       "<IPython.core.display.Math object>"
      ]
     },
     "metadata": {},
     "output_type": "display_data"
    },
    {
     "name": "stdout",
     "output_type": "stream",
     "text": [
      "E_bad_conductor_y =\n"
     ]
    },
    {
     "data": {
      "text/latex": [
       "$\\displaystyle E_bad_conductor_y$"
      ],
      "text/plain": [
       "<IPython.core.display.Math object>"
      ]
     },
     "metadata": {},
     "output_type": "display_data"
    },
    {
     "name": "stdout",
     "output_type": "stream",
     "text": [
      "E_bad_conductor_sol_z (x) \n"
     ]
    },
    {
     "data": {
      "text/latex": [
       "$\\displaystyle \\mathit{A1}_{z} e^{\\left(i \\, \\sqrt{-k^{2} + \\kappa^{2}} x\\right)}$"
      ],
      "text/plain": [
       "<IPython.core.display.Math object>"
      ]
     },
     "metadata": {},
     "output_type": "display_data"
    },
    {
     "name": "stdout",
     "output_type": "stream",
     "text": [
      "E_bad_conductor_sol_x (x) =\n"
     ]
    },
    {
     "data": {
      "text/latex": [
       "$\\displaystyle \\mathit{A1}_{x} e^{\\left(i \\, \\sqrt{-k^{2} + \\kappa^{2}} x\\right)}$"
      ],
      "text/plain": [
       "<IPython.core.display.Math object>"
      ]
     },
     "metadata": {},
     "output_type": "display_data"
    },
    {
     "name": "stdout",
     "output_type": "stream",
     "text": [
      "E_bad_conductor_sol_y (x) =\n"
     ]
    },
    {
     "data": {
      "text/latex": [
       "$\\displaystyle \\mathit{A1}_{y} e^{\\left(i \\, \\sqrt{-k^{2} + \\kappa^{2}} x\\right)}$"
      ],
      "text/plain": [
       "<IPython.core.display.Math object>"
      ]
     },
     "metadata": {},
     "output_type": "display_data"
    }
   ],
   "source": [
    "if False:\n",
    "    # x > a\n",
    "    # в проводящем металле с потерями\n",
    "    #if True:\n",
    "    #    E_bad_conductor_z (x) = A2_z * e^(-sx*x) * e^(I*kx*x)\n",
    "    #    E_bad_conductor_x (x) = A2_x * e^(-sx*x) * e^(I*kx*x)\n",
    "    #    E_bad_conductor_y (x) = A2_y * e^(-sx*x) * e^(I*kx*x)\n",
    "    #else:\n",
    "    #    E_bad_conductor_z (x) = A2_z * e^(-sx*(x-a)) * e^(I*kx*(x-a))\n",
    "    #    E_bad_conductor_x (x) = A2_x * e^(-sx*(x-a)) * e^(I*kx*(x-a))\n",
    "    #    E_bad_conductor_y (x) = A2_y * e^(-sx*(x-a)) * e^(I*kx*(x-a))\n",
    "\n",
    "    E_bad_conductor_z (x) = A1_z*cos(sqrt(kappa^2-k^2)*x) + A2_z*sin(sqrt(kappa^2-k^2)*x)\n",
    "    E_bad_conductor_x (x) = A1_x*cos(sqrt(kappa^2-k^2)*x) + A2_x*sin(sqrt(kappa^2-k^2)*x)\n",
    "    E_bad_conductor_y (x) = A1_y*cos(sqrt(kappa^2-k^2)*x) + A2_y*sin(sqrt(kappa^2-k^2)*x)\n",
    "else:\n",
    "    # знак перед корнем будем выбирать всегда так чтобы корень имел положительную мнимую часть\n",
    "    E_bad_conductor_sol_z (x) = A1_z*exp(I * sqrt(kappa^2-k^2)*x)\n",
    "    E_bad_conductor_sol_x (x) = A1_x*exp(I * sqrt(kappa^2-k^2)*x)\n",
    "    E_bad_conductor_sol_y (x) = A1_y*exp(I * sqrt(kappa^2-k^2)*x)\n",
    "\n",
    "    E_bad_conductor_z = function(\"E_bad_conductor_z\")\n",
    "    E_bad_conductor_x = function(\"E_bad_conductor_x\")\n",
    "    E_bad_conductor_y = function(\"E_bad_conductor_y\")\n",
    "\n",
    "print (\"E_bad_conductor_z \")\n",
    "display(Math(latex(E_bad_conductor_z)))\n",
    "print (\"E_bad_conductor_x =\")\n",
    "display(Math(latex(E_bad_conductor_x)))\n",
    "print (\"E_bad_conductor_y =\")\n",
    "display(Math(latex(E_bad_conductor_y)))\n",
    "\n",
    "print (\"E_bad_conductor_sol_z (x) \")\n",
    "display(Math(latex(E_bad_conductor_sol_z (x))))\n",
    "print (\"E_bad_conductor_sol_x (x) =\")\n",
    "display(Math(latex(E_bad_conductor_sol_x (x))))\n",
    "print (\"E_bad_conductor_sol_y (x) =\")\n",
    "display(Math(latex(E_bad_conductor_sol_y (x))))"
   ]
  },
  {
   "cell_type": "code",
   "execution_count": 25,
   "metadata": {},
   "outputs": [
    {
     "name": "stdout",
     "output_type": "stream",
     "text": [
      "H_inner_vacuum_y \n"
     ]
    },
    {
     "data": {
      "text/latex": [
       "$\\displaystyle -\\frac{i \\, {\\left(i \\, k_{z} E_{{\\rm inner}_{{\\rm vacuum}_{x}}}\\left(x\\right) - i \\, \\sqrt{-k^{2} + \\kappa_{\\mathit{vacuum}}^{2}} E_{{\\rm inner}_{{\\rm vacuum}_{z}}}\\left(x\\right)\\right)} c}{\\omega}$"
      ],
      "text/plain": [
       "<IPython.core.display.Math object>"
      ]
     },
     "metadata": {},
     "output_type": "display_data"
    },
    {
     "name": "stdout",
     "output_type": "stream",
     "text": [
      "H_bad_conductor_y =\n"
     ]
    },
    {
     "data": {
      "text/latex": [
       "$\\displaystyle -\\frac{i \\, {\\left(i \\, k_{z} E_{{\\rm bad}_{{\\rm conductor}_{x}}}\\left(x\\right) - i \\, \\sqrt{-k^{2} + \\kappa^{2}} E_{{\\rm bad}_{{\\rm conductor}_{z}}}\\left(x\\right)\\right)} c}{\\mu \\omega}$"
      ],
      "text/plain": [
       "<IPython.core.display.Math object>"
      ]
     },
     "metadata": {},
     "output_type": "display_data"
    },
    {
     "name": "stdout",
     "output_type": "stream",
     "text": [
      "H_inner_vacuum_sol_y (x) \n"
     ]
    },
    {
     "data": {
      "text/latex": [
       "$\\displaystyle -\\frac{i \\, {\\left(i \\, \\mathit{A1}_{x} k_{z} e^{\\left(-i \\, \\sqrt{-k^{2} + \\kappa_{\\mathit{vacuum}}^{2}} x\\right)} + i \\, \\sqrt{-k^{2} + \\kappa_{\\mathit{vacuum}}^{2}} \\mathit{A1}_{z} e^{\\left(-i \\, \\sqrt{-k^{2} + \\kappa_{\\mathit{vacuum}}^{2}} x\\right)}\\right)} c}{\\omega}$"
      ],
      "text/plain": [
       "<IPython.core.display.Math object>"
      ]
     },
     "metadata": {},
     "output_type": "display_data"
    },
    {
     "name": "stdout",
     "output_type": "stream",
     "text": [
      "H_bad_conductor_sol_y (x) =\n"
     ]
    },
    {
     "data": {
      "text/latex": [
       "$\\displaystyle -\\frac{i \\, {\\left(i \\, \\mathit{A1}_{x} k_{z} e^{\\left(i \\, \\sqrt{-k^{2} + \\kappa^{2}} x\\right)} - i \\, \\sqrt{-k^{2} + \\kappa^{2}} \\mathit{A1}_{z} e^{\\left(i \\, \\sqrt{-k^{2} + \\kappa^{2}} x\\right)}\\right)} c}{\\mu \\omega}$"
      ],
      "text/plain": [
       "<IPython.core.display.Math object>"
      ]
     },
     "metadata": {},
     "output_type": "display_data"
    }
   ],
   "source": [
    "# выражения для магнитного поля в вакууме внутри резонатора и в проводящем металле с потерями\n",
    "# rot E = -1/c dB/dt\n",
    "# H_y = c / (I * omega * mu) * (diff(E_x, z) - diff(E_z, x))\n",
    "\n",
    "# H_inner_vacuum_y  (x) = c / (I * omega)      * (I*k_z*E_inner_vacuum_x  (x) - diff(E_inner_vacuum_z  (x), x))\n",
    "# H_bad_conductor_y (x) = c / (I * omega * mu) * (I*k_z*E_bad_conductor_x (x) - diff(E_bad_conductor_z (x), x))\n",
    "\n",
    "H_inner_vacuum_y  = c/(I*omega)   *(I*k_z*E_inner_vacuum_x (x) - diff(E_inner_vacuum_z (x), x))\n",
    "H_bad_conductor_y = c/(I*omega*mu)*(I*k_z*E_bad_conductor_x(x) - diff(E_bad_conductor_z(x), x))\n",
    "\n",
    "H_inner_vacuum_y  = c/(I*omega)   *(I*k_z*E_inner_vacuum_x (x) - I*sqrt(kappa_vacuum^2-k^2)*E_inner_vacuum_z (x))\n",
    "H_bad_conductor_y = c/(I*omega*mu)*(I*k_z*E_bad_conductor_x(x) - I*sqrt(kappa       ^2-k^2)*E_bad_conductor_z(x))\n",
    "\n",
    "H_inner_vacuum_sol_y  (x) = c/(I*omega)   *(I*k_z*E_inner_vacuum_sol_x (x) - diff(E_inner_vacuum_sol_z (x), x))\n",
    "H_bad_conductor_sol_y (x) = c/(I*omega*mu)*(I*k_z*E_bad_conductor_sol_x(x) - diff(E_bad_conductor_sol_z(x), x))\n",
    "\n",
    "print (\"H_inner_vacuum_y \")\n",
    "display(Math(latex(H_inner_vacuum_y.simplify())))\n",
    "print (\"H_bad_conductor_y =\")\n",
    "display(Math(latex(H_bad_conductor_y)))\n",
    "\n",
    "print (\"H_inner_vacuum_sol_y (x) \")\n",
    "display(Math(latex(H_inner_vacuum_sol_y (x).simplify())))\n",
    "print (\"H_bad_conductor_sol_y (x) =\")\n",
    "display(Math(latex(H_bad_conductor_sol_y (x))))"
   ]
  },
  {
   "cell_type": "code",
   "execution_count": 26,
   "metadata": {},
   "outputs": [
    {
     "name": "stdout",
     "output_type": "stream",
     "text": [
      "H_inner_vacuum_x \n"
     ]
    },
    {
     "data": {
      "text/latex": [
       "$\\displaystyle -\\frac{i \\, {\\left(-i \\, k_{z} E_{{\\rm inner}_{{\\rm vacuum}_{y}}}\\left(x\\right) + i \\, k_{y} E_{{\\rm inner}_{{\\rm vacuum}_{z}}}\\left(x\\right)\\right)} c}{\\omega}$"
      ],
      "text/plain": [
       "<IPython.core.display.Math object>"
      ]
     },
     "metadata": {},
     "output_type": "display_data"
    },
    {
     "name": "stdout",
     "output_type": "stream",
     "text": [
      "H_bad_conductor_x (x) =\n"
     ]
    },
    {
     "data": {
      "text/latex": [
       "$\\displaystyle -\\frac{i \\, {\\left(-i \\, k_{z} E_{{\\rm bad}_{{\\rm conductor}_{y}}}\\left(x\\right) + i \\, k_{y} E_{{\\rm bad}_{{\\rm conductor}_{z}}}\\left(x\\right)\\right)} c}{\\mu \\omega}$"
      ],
      "text/plain": [
       "<IPython.core.display.Math object>"
      ]
     },
     "metadata": {},
     "output_type": "display_data"
    },
    {
     "name": "stdout",
     "output_type": "stream",
     "text": [
      "H_inner_vacuum_sol_x (x) \n"
     ]
    },
    {
     "data": {
      "text/latex": [
       "$\\displaystyle -\\frac{i \\, {\\left(i \\, \\mathit{A1}_{z} k_{y} e^{\\left(-i \\, \\sqrt{-k^{2} + \\kappa_{\\mathit{vacuum}}^{2}} x\\right)} - i \\, \\mathit{A1}_{y} k_{z} e^{\\left(-i \\, \\sqrt{-k^{2} + \\kappa_{\\mathit{vacuum}}^{2}} x\\right)}\\right)} c}{\\omega}$"
      ],
      "text/plain": [
       "<IPython.core.display.Math object>"
      ]
     },
     "metadata": {},
     "output_type": "display_data"
    },
    {
     "name": "stdout",
     "output_type": "stream",
     "text": [
      "H_bad_conductor_sol_x (x) =\n"
     ]
    },
    {
     "data": {
      "text/latex": [
       "$\\displaystyle -\\frac{i \\, {\\left(i \\, \\mathit{A1}_{z} k_{y} e^{\\left(i \\, \\sqrt{-k^{2} + \\kappa^{2}} x\\right)} - i \\, \\mathit{A1}_{y} k_{z} e^{\\left(i \\, \\sqrt{-k^{2} + \\kappa^{2}} x\\right)}\\right)} c}{\\mu \\omega}$"
      ],
      "text/plain": [
       "<IPython.core.display.Math object>"
      ]
     },
     "metadata": {},
     "output_type": "display_data"
    }
   ],
   "source": [
    "# выражения для магнитного поля в вакууме внутри резонатора и в проводящем металле с потерями\n",
    "# rot E = -1/c dB/dt\n",
    "# H_x = c / (I * omega * mu) * (diff(E_z, y) - diff(E_y, z))\n",
    "\n",
    "H_inner_vacuum_x  = c/(I*omega)   *(I*k_y*E_inner_vacuum_z (x) - I*k_z*E_inner_vacuum_y (x))\n",
    "H_bad_conductor_x = c/(I*omega*mu)*(I*k_y*E_bad_conductor_z(x) - I*k_z*E_bad_conductor_y(x))\n",
    "\n",
    "H_inner_vacuum_sol_x (x) = c/(I*omega)   *(I*k_y*E_inner_vacuum_sol_z (x) - I*k_z*E_inner_vacuum_sol_y (x))\n",
    "H_bad_conductor_sol_x(x) = c/(I*omega*mu)*(I*k_y*E_bad_conductor_sol_z(x) - I*k_z*E_bad_conductor_sol_y(x))\n",
    "\n",
    "print (\"H_inner_vacuum_x \")\n",
    "display(Math(latex(H_inner_vacuum_x.simplify())))\n",
    "print (\"H_bad_conductor_x (x) =\")\n",
    "display(Math(latex(H_bad_conductor_x)))\n",
    "\n",
    "print (\"H_inner_vacuum_sol_x (x) \")\n",
    "display(Math(latex(H_inner_vacuum_sol_x (x).simplify())))\n",
    "print (\"H_bad_conductor_sol_x (x) =\")\n",
    "display(Math(latex(H_bad_conductor_sol_x (x))))"
   ]
  },
  {
   "cell_type": "code",
   "execution_count": 27,
   "metadata": {},
   "outputs": [
    {
     "name": "stdout",
     "output_type": "stream",
     "text": [
      "H_inner_vacuum_z \n"
     ]
    },
    {
     "data": {
      "text/latex": [
       "$\\displaystyle -\\frac{i \\, {\\left(-i \\, k_{y} E_{{\\rm inner}_{{\\rm vacuum}_{x}}}\\left(x\\right) + i \\, \\sqrt{-k^{2} + \\kappa_{\\mathit{vacuum}}^{2}} E_{{\\rm inner}_{{\\rm vacuum}_{y}}}\\left(x\\right)\\right)} c}{\\omega}$"
      ],
      "text/plain": [
       "<IPython.core.display.Math object>"
      ]
     },
     "metadata": {},
     "output_type": "display_data"
    },
    {
     "name": "stdout",
     "output_type": "stream",
     "text": [
      "H_bad_conductor_z =\n"
     ]
    },
    {
     "data": {
      "text/latex": [
       "$\\displaystyle -\\frac{i \\, {\\left(-i \\, k_{y} E_{{\\rm bad}_{{\\rm conductor}_{x}}}\\left(x\\right) + i \\, \\sqrt{-k^{2} + \\kappa^{2}} E_{{\\rm bad}_{{\\rm conductor}_{y}}}\\left(x\\right)\\right)} c}{\\mu \\omega}$"
      ],
      "text/plain": [
       "<IPython.core.display.Math object>"
      ]
     },
     "metadata": {},
     "output_type": "display_data"
    },
    {
     "name": "stdout",
     "output_type": "stream",
     "text": [
      "H_inner_vacuum_sol_z (x) \n"
     ]
    },
    {
     "data": {
      "text/latex": [
       "$\\displaystyle -\\frac{i \\, {\\left(-i \\, \\mathit{A1}_{x} k_{y} e^{\\left(-i \\, \\sqrt{-k^{2} + \\kappa_{\\mathit{vacuum}}^{2}} x\\right)} - i \\, \\sqrt{-k^{2} + \\kappa_{\\mathit{vacuum}}^{2}} \\mathit{A1}_{y} e^{\\left(-i \\, \\sqrt{-k^{2} + \\kappa_{\\mathit{vacuum}}^{2}} x\\right)}\\right)} c}{\\omega}$"
      ],
      "text/plain": [
       "<IPython.core.display.Math object>"
      ]
     },
     "metadata": {},
     "output_type": "display_data"
    },
    {
     "name": "stdout",
     "output_type": "stream",
     "text": [
      "H_bad_conductor_sol_z (x) =\n"
     ]
    },
    {
     "data": {
      "text/latex": [
       "$\\displaystyle -\\frac{i \\, {\\left(-i \\, \\mathit{A1}_{x} k_{y} e^{\\left(i \\, \\sqrt{-k^{2} + \\kappa^{2}} x\\right)} + i \\, \\sqrt{-k^{2} + \\kappa^{2}} \\mathit{A1}_{y} e^{\\left(i \\, \\sqrt{-k^{2} + \\kappa^{2}} x\\right)}\\right)} c}{\\mu \\omega}$"
      ],
      "text/plain": [
       "<IPython.core.display.Math object>"
      ]
     },
     "metadata": {},
     "output_type": "display_data"
    }
   ],
   "source": [
    "# выражения для магнитного поля в вакууме внутри резонатора и в проводящем металле с потерями\n",
    "# rot E = -1/c dB/dt\n",
    "# H_z = c / (I * omega * mu) * (diff(E_y, x) - diff(E_x, y))\n",
    "\n",
    "H_inner_vacuum_z  = c / (I*omega)   *(diff(E_inner_vacuum_y (x), x) - I*k_y*E_inner_vacuum_x (x))\n",
    "H_bad_conductor_z = c / (I*omega*mu)*(diff(E_bad_conductor_y(x), x) - I*k_y*E_bad_conductor_x(x))\n",
    "\n",
    "H_inner_vacuum_z  = c / (I*omega)   *(I*sqrt(kappa_vacuum^2-k^2)*E_inner_vacuum_y (x) - I*k_y*E_inner_vacuum_x (x))\n",
    "H_bad_conductor_z = c / (I*omega*mu)*(I*sqrt(kappa       ^2-k^2)*E_bad_conductor_y(x) - I*k_y*E_bad_conductor_x(x))\n",
    "\n",
    "H_inner_vacuum_sol_z  (x) = c / (I*omega)   *(diff(E_inner_vacuum_sol_y (x), x) - I*k_y*E_inner_vacuum_sol_x (x))\n",
    "H_bad_conductor_sol_z (x) = c / (I*omega*mu)*(diff(E_bad_conductor_sol_y(x), x) - I*k_y*E_bad_conductor_sol_x(x))\n",
    "\n",
    "print (\"H_inner_vacuum_z \")\n",
    "display(Math(latex(H_inner_vacuum_z.simplify())))\n",
    "print (\"H_bad_conductor_z =\")\n",
    "display(Math(latex(H_bad_conductor_z)))\n",
    "\n",
    "print (\"H_inner_vacuum_sol_z (x) \")\n",
    "display(Math(latex(H_inner_vacuum_sol_z (x).simplify())))\n",
    "print (\"H_bad_conductor_sol_z (x) =\")\n",
    "display(Math(latex(H_bad_conductor_sol_z (x))))"
   ]
  },
  {
   "cell_type": "code",
   "execution_count": 28,
   "metadata": {},
   "outputs": [
    {
     "name": "stdout",
     "output_type": "stream",
     "text": [
      "rot_H_inner_vacuum_x =\n"
     ]
    },
    {
     "data": {
      "text/latex": [
       "$\\displaystyle \\frac{{\\left(-i \\, k_{y} E_{{\\rm inner}_{{\\rm vacuum}_{x}}}\\left(x\\right) + i \\, \\sqrt{-k^{2} + \\kappa_{\\mathit{vacuum}}^{2}} E_{{\\rm inner}_{{\\rm vacuum}_{y}}}\\left(x\\right)\\right)} c k_{y}}{\\omega} - \\frac{{\\left(i \\, k_{z} E_{{\\rm inner}_{{\\rm vacuum}_{x}}}\\left(x\\right) - i \\, \\sqrt{-k^{2} + \\kappa_{\\mathit{vacuum}}^{2}} E_{{\\rm inner}_{{\\rm vacuum}_{z}}}\\left(x\\right)\\right)} c k_{z}}{\\omega}$"
      ],
      "text/plain": [
       "<IPython.core.display.Math object>"
      ]
     },
     "metadata": {},
     "output_type": "display_data"
    },
    {
     "name": "stdout",
     "output_type": "stream",
     "text": [
      "rot_H_bad_conductor_x =\n"
     ]
    },
    {
     "data": {
      "text/latex": [
       "$\\displaystyle \\frac{{\\left(-i \\, k_{y} E_{{\\rm bad}_{{\\rm conductor}_{x}}}\\left(x\\right) + i \\, \\sqrt{-k^{2} + \\kappa^{2}} E_{{\\rm bad}_{{\\rm conductor}_{y}}}\\left(x\\right)\\right)} c k_{y}}{\\mu \\omega} - \\frac{{\\left(i \\, k_{z} E_{{\\rm bad}_{{\\rm conductor}_{x}}}\\left(x\\right) - i \\, \\sqrt{-k^{2} + \\kappa^{2}} E_{{\\rm bad}_{{\\rm conductor}_{z}}}\\left(x\\right)\\right)} c k_{z}}{\\mu \\omega}$"
      ],
      "text/plain": [
       "<IPython.core.display.Math object>"
      ]
     },
     "metadata": {},
     "output_type": "display_data"
    },
    {
     "name": "stdout",
     "output_type": "stream",
     "text": [
      "rot_H_inner_vacuum_y =\n"
     ]
    },
    {
     "data": {
      "text/latex": [
       "$\\displaystyle \\frac{{\\left(-i \\, k_{z} E_{{\\rm inner}_{{\\rm vacuum}_{y}}}\\left(x\\right) + i \\, k_{y} E_{{\\rm inner}_{{\\rm vacuum}_{z}}}\\left(x\\right)\\right)} c k_{z}}{\\omega} - \\frac{\\sqrt{-k^{2} + \\kappa_{\\mathit{vacuum}}^{2}} {\\left(-i \\, k_{y} E_{{\\rm inner}_{{\\rm vacuum}_{x}}}\\left(x\\right) + i \\, \\sqrt{-k^{2} + \\kappa_{\\mathit{vacuum}}^{2}} E_{{\\rm inner}_{{\\rm vacuum}_{y}}}\\left(x\\right)\\right)} c}{\\omega}$"
      ],
      "text/plain": [
       "<IPython.core.display.Math object>"
      ]
     },
     "metadata": {},
     "output_type": "display_data"
    },
    {
     "name": "stdout",
     "output_type": "stream",
     "text": [
      "rot_H_bad_conductor_y =\n"
     ]
    },
    {
     "data": {
      "text/latex": [
       "$\\displaystyle \\frac{{\\left(-i \\, k_{z} E_{{\\rm bad}_{{\\rm conductor}_{y}}}\\left(x\\right) + i \\, k_{y} E_{{\\rm bad}_{{\\rm conductor}_{z}}}\\left(x\\right)\\right)} c k_{z}}{\\mu \\omega} - \\frac{\\sqrt{-k^{2} + \\kappa^{2}} {\\left(-i \\, k_{y} E_{{\\rm bad}_{{\\rm conductor}_{x}}}\\left(x\\right) + i \\, \\sqrt{-k^{2} + \\kappa^{2}} E_{{\\rm bad}_{{\\rm conductor}_{y}}}\\left(x\\right)\\right)} c}{\\mu \\omega}$"
      ],
      "text/plain": [
       "<IPython.core.display.Math object>"
      ]
     },
     "metadata": {},
     "output_type": "display_data"
    },
    {
     "name": "stdout",
     "output_type": "stream",
     "text": [
      "rot_H_inner_vacuum_z =\n"
     ]
    },
    {
     "data": {
      "text/latex": [
       "$\\displaystyle -\\frac{{\\left(-i \\, k_{z} E_{{\\rm inner}_{{\\rm vacuum}_{y}}}\\left(x\\right) + i \\, k_{y} E_{{\\rm inner}_{{\\rm vacuum}_{z}}}\\left(x\\right)\\right)} c k_{y}}{\\omega} + \\frac{\\sqrt{-k^{2} + \\kappa_{\\mathit{vacuum}}^{2}} {\\left(i \\, k_{z} E_{{\\rm inner}_{{\\rm vacuum}_{x}}}\\left(x\\right) - i \\, \\sqrt{-k^{2} + \\kappa_{\\mathit{vacuum}}^{2}} E_{{\\rm inner}_{{\\rm vacuum}_{z}}}\\left(x\\right)\\right)} c}{\\omega}$"
      ],
      "text/plain": [
       "<IPython.core.display.Math object>"
      ]
     },
     "metadata": {},
     "output_type": "display_data"
    },
    {
     "name": "stdout",
     "output_type": "stream",
     "text": [
      "rot_H_bad_conductor_z =\n"
     ]
    },
    {
     "data": {
      "text/latex": [
       "$\\displaystyle -\\frac{{\\left(-i \\, k_{z} E_{{\\rm bad}_{{\\rm conductor}_{y}}}\\left(x\\right) + i \\, k_{y} E_{{\\rm bad}_{{\\rm conductor}_{z}}}\\left(x\\right)\\right)} c k_{y}}{\\mu \\omega} + \\frac{\\sqrt{-k^{2} + \\kappa^{2}} {\\left(i \\, k_{z} E_{{\\rm bad}_{{\\rm conductor}_{x}}}\\left(x\\right) - i \\, \\sqrt{-k^{2} + \\kappa^{2}} E_{{\\rm bad}_{{\\rm conductor}_{z}}}\\left(x\\right)\\right)} c}{\\mu \\omega}$"
      ],
      "text/plain": [
       "<IPython.core.display.Math object>"
      ]
     },
     "metadata": {},
     "output_type": "display_data"
    },
    {
     "name": "stdout",
     "output_type": "stream",
     "text": [
      "rot_H_inner_vacuum_sol_x =\n"
     ]
    },
    {
     "data": {
      "text/latex": [
       "$\\displaystyle \\frac{{\\left(-i \\, \\mathit{A1}_{x} k_{y} e^{\\left(-i \\, \\sqrt{-k^{2} + \\kappa_{\\mathit{vacuum}}^{2}} x\\right)} - i \\, \\sqrt{-k^{2} + \\kappa_{\\mathit{vacuum}}^{2}} \\mathit{A1}_{y} e^{\\left(-i \\, \\sqrt{-k^{2} + \\kappa_{\\mathit{vacuum}}^{2}} x\\right)}\\right)} c k_{y}}{\\omega} - \\frac{{\\left(i \\, \\mathit{A1}_{x} k_{z} e^{\\left(-i \\, \\sqrt{-k^{2} + \\kappa_{\\mathit{vacuum}}^{2}} x\\right)} + i \\, \\sqrt{-k^{2} + \\kappa_{\\mathit{vacuum}}^{2}} \\mathit{A1}_{z} e^{\\left(-i \\, \\sqrt{-k^{2} + \\kappa_{\\mathit{vacuum}}^{2}} x\\right)}\\right)} c k_{z}}{\\omega}$"
      ],
      "text/plain": [
       "<IPython.core.display.Math object>"
      ]
     },
     "metadata": {},
     "output_type": "display_data"
    },
    {
     "name": "stdout",
     "output_type": "stream",
     "text": [
      "rot_H_bad_conductor_sol_x =\n"
     ]
    },
    {
     "data": {
      "text/latex": [
       "$\\displaystyle \\frac{{\\left(-i \\, \\mathit{A1}_{x} k_{y} e^{\\left(i \\, \\sqrt{-k^{2} + \\kappa^{2}} x\\right)} + i \\, \\sqrt{-k^{2} + \\kappa^{2}} \\mathit{A1}_{y} e^{\\left(i \\, \\sqrt{-k^{2} + \\kappa^{2}} x\\right)}\\right)} c k_{y}}{\\mu \\omega} - \\frac{{\\left(i \\, \\mathit{A1}_{x} k_{z} e^{\\left(i \\, \\sqrt{-k^{2} + \\kappa^{2}} x\\right)} - i \\, \\sqrt{-k^{2} + \\kappa^{2}} \\mathit{A1}_{z} e^{\\left(i \\, \\sqrt{-k^{2} + \\kappa^{2}} x\\right)}\\right)} c k_{z}}{\\mu \\omega}$"
      ],
      "text/plain": [
       "<IPython.core.display.Math object>"
      ]
     },
     "metadata": {},
     "output_type": "display_data"
    },
    {
     "name": "stdout",
     "output_type": "stream",
     "text": [
      "rot_H_inner_vacuum_sol_y =\n"
     ]
    },
    {
     "data": {
      "text/latex": [
       "$\\displaystyle \\frac{{\\left(i \\, \\mathit{A1}_{z} k_{y} e^{\\left(-i \\, \\sqrt{-k^{2} + \\kappa_{\\mathit{vacuum}}^{2}} x\\right)} - i \\, \\mathit{A1}_{y} k_{z} e^{\\left(-i \\, \\sqrt{-k^{2} + \\kappa_{\\mathit{vacuum}}^{2}} x\\right)}\\right)} c k_{z}}{\\omega} - \\frac{i \\, {\\left(\\sqrt{-k^{2} + \\kappa_{\\mathit{vacuum}}^{2}} \\mathit{A1}_{x} k_{y} e^{\\left(-i \\, \\sqrt{-k^{2} + \\kappa_{\\mathit{vacuum}}^{2}} x\\right)} - {\\left(k^{2} - \\kappa_{\\mathit{vacuum}}^{2}\\right)} \\mathit{A1}_{y} e^{\\left(-i \\, \\sqrt{-k^{2} + \\kappa_{\\mathit{vacuum}}^{2}} x\\right)}\\right)} c}{\\omega}$"
      ],
      "text/plain": [
       "<IPython.core.display.Math object>"
      ]
     },
     "metadata": {},
     "output_type": "display_data"
    },
    {
     "name": "stdout",
     "output_type": "stream",
     "text": [
      "rot_H_bad_conductor_sol_y =\n"
     ]
    },
    {
     "data": {
      "text/latex": [
       "$\\displaystyle \\frac{{\\left(i \\, \\mathit{A1}_{z} k_{y} e^{\\left(i \\, \\sqrt{-k^{2} + \\kappa^{2}} x\\right)} - i \\, \\mathit{A1}_{y} k_{z} e^{\\left(i \\, \\sqrt{-k^{2} + \\kappa^{2}} x\\right)}\\right)} c k_{z}}{\\mu \\omega} + \\frac{i \\, {\\left(\\sqrt{-k^{2} + \\kappa^{2}} \\mathit{A1}_{x} k_{y} e^{\\left(i \\, \\sqrt{-k^{2} + \\kappa^{2}} x\\right)} + {\\left(k^{2} - \\kappa^{2}\\right)} \\mathit{A1}_{y} e^{\\left(i \\, \\sqrt{-k^{2} + \\kappa^{2}} x\\right)}\\right)} c}{\\mu \\omega}$"
      ],
      "text/plain": [
       "<IPython.core.display.Math object>"
      ]
     },
     "metadata": {},
     "output_type": "display_data"
    },
    {
     "name": "stdout",
     "output_type": "stream",
     "text": [
      "rot_H_inner_vacuum_sol_z =\n"
     ]
    },
    {
     "data": {
      "text/latex": [
       "$\\displaystyle -\\frac{{\\left(i \\, \\mathit{A1}_{z} k_{y} e^{\\left(-i \\, \\sqrt{-k^{2} + \\kappa_{\\mathit{vacuum}}^{2}} x\\right)} - i \\, \\mathit{A1}_{y} k_{z} e^{\\left(-i \\, \\sqrt{-k^{2} + \\kappa_{\\mathit{vacuum}}^{2}} x\\right)}\\right)} c k_{y}}{\\omega} - \\frac{i \\, {\\left(\\sqrt{-k^{2} + \\kappa_{\\mathit{vacuum}}^{2}} \\mathit{A1}_{x} k_{z} e^{\\left(-i \\, \\sqrt{-k^{2} + \\kappa_{\\mathit{vacuum}}^{2}} x\\right)} - {\\left(k^{2} - \\kappa_{\\mathit{vacuum}}^{2}\\right)} \\mathit{A1}_{z} e^{\\left(-i \\, \\sqrt{-k^{2} + \\kappa_{\\mathit{vacuum}}^{2}} x\\right)}\\right)} c}{\\omega}$"
      ],
      "text/plain": [
       "<IPython.core.display.Math object>"
      ]
     },
     "metadata": {},
     "output_type": "display_data"
    },
    {
     "name": "stdout",
     "output_type": "stream",
     "text": [
      "rot_H_bad_conductor_sol_z =\n"
     ]
    },
    {
     "data": {
      "text/latex": [
       "$\\displaystyle -\\frac{{\\left(i \\, \\mathit{A1}_{z} k_{y} e^{\\left(i \\, \\sqrt{-k^{2} + \\kappa^{2}} x\\right)} - i \\, \\mathit{A1}_{y} k_{z} e^{\\left(i \\, \\sqrt{-k^{2} + \\kappa^{2}} x\\right)}\\right)} c k_{y}}{\\mu \\omega} + \\frac{i \\, {\\left(\\sqrt{-k^{2} + \\kappa^{2}} \\mathit{A1}_{x} k_{z} e^{\\left(i \\, \\sqrt{-k^{2} + \\kappa^{2}} x\\right)} + {\\left(k^{2} - \\kappa^{2}\\right)} \\mathit{A1}_{z} e^{\\left(i \\, \\sqrt{-k^{2} + \\kappa^{2}} x\\right)}\\right)} c}{\\mu \\omega}$"
      ],
      "text/plain": [
       "<IPython.core.display.Math object>"
      ]
     },
     "metadata": {},
     "output_type": "display_data"
    }
   ],
   "source": [
    "# уравнение Максвелла для тока смещения\n",
    "# rot_H   = - I * epsilon * omega / c * E\n",
    "# rot_H_x = diff(H_z, y) - diff(H_y, z)\n",
    "# rot_H_y = diff(H_x, z) - diff(H_z, x)\n",
    "# rot_H_z = diff(H_y, x) - diff(H_x, y)\n",
    "\n",
    "rot_H_inner_vacuum_x  = I*k_y*H_inner_vacuum_z  - I*k_z*H_inner_vacuum_y\n",
    "rot_H_bad_conductor_x = I*k_y*H_bad_conductor_z - I*k_z*H_bad_conductor_y\n",
    "\n",
    "rot_H_inner_vacuum_y  = I*k_z*H_inner_vacuum_x  - diff(H_inner_vacuum_z, x)\n",
    "rot_H_bad_conductor_y = I*k_z*H_bad_conductor_x - diff(H_bad_conductor_z, x)\n",
    "\n",
    "rot_H_inner_vacuum_y  = I*k_z*H_inner_vacuum_x  - I*sqrt(kappa_vacuum^2-k^2)*H_inner_vacuum_z\n",
    "rot_H_bad_conductor_y = I*k_z*H_bad_conductor_x - I*sqrt(kappa       ^2-k^2)*H_bad_conductor_z\n",
    "\n",
    "rot_H_inner_vacuum_z  = diff(H_inner_vacuum_y , x) - I*k_y*H_inner_vacuum_x\n",
    "rot_H_bad_conductor_z = diff(H_bad_conductor_y, x) - I*k_y*H_bad_conductor_x\n",
    "\n",
    "rot_H_inner_vacuum_z  = I*sqrt(kappa_vacuum^2-k^2)*H_inner_vacuum_y  - I*k_y*H_inner_vacuum_x\n",
    "rot_H_bad_conductor_z = I*sqrt(kappa       ^2-k^2)*H_bad_conductor_y - I*k_y*H_bad_conductor_x\n",
    "\n",
    "\n",
    "\n",
    "# sol\n",
    "rot_H_inner_vacuum_sol_x  = I*k_y*H_inner_vacuum_sol_z (x) - I*k_z*H_inner_vacuum_sol_y (x)\n",
    "rot_H_bad_conductor_sol_x = I*k_y*H_bad_conductor_sol_z(x) - I*k_z*H_bad_conductor_sol_y(x)\n",
    "\n",
    "rot_H_inner_vacuum_sol_y  = I*k_z*H_inner_vacuum_sol_x (x) - diff(H_inner_vacuum_sol_z (x), x)\n",
    "rot_H_bad_conductor_sol_y = I*k_z*H_bad_conductor_sol_x(x) - diff(H_bad_conductor_sol_z(x), x)\n",
    "\n",
    "rot_H_inner_vacuum_sol_z  = diff(H_inner_vacuum_sol_y (x), x) - I*k_y*H_inner_vacuum_sol_x (x)\n",
    "rot_H_bad_conductor_sol_z = diff(H_bad_conductor_sol_y(x), x) - I*k_y*H_bad_conductor_sol_x(x)\n",
    "\n",
    "print (\"rot_H_inner_vacuum_x =\")\n",
    "display(Math(latex(rot_H_inner_vacuum_x)))\n",
    "print (\"rot_H_bad_conductor_x =\")\n",
    "display(Math(latex(rot_H_bad_conductor_x)))\n",
    "\n",
    "print (\"rot_H_inner_vacuum_y =\")\n",
    "display(Math(latex(rot_H_inner_vacuum_y)))\n",
    "print (\"rot_H_bad_conductor_y =\")\n",
    "display(Math(latex(rot_H_bad_conductor_y)))\n",
    "\n",
    "print (\"rot_H_inner_vacuum_z =\")\n",
    "display(Math(latex(rot_H_inner_vacuum_z)))\n",
    "print (\"rot_H_bad_conductor_z =\")\n",
    "display(Math(latex(rot_H_bad_conductor_z)))\n",
    "\n",
    "\n",
    "\n",
    "print (\"rot_H_inner_vacuum_sol_x =\")\n",
    "display(Math(latex(rot_H_inner_vacuum_sol_x)))\n",
    "print (\"rot_H_bad_conductor_sol_x =\")\n",
    "display(Math(latex(rot_H_bad_conductor_sol_x)))\n",
    "\n",
    "print (\"rot_H_inner_vacuum_sol_y =\")\n",
    "display(Math(latex(rot_H_inner_vacuum_sol_y)))\n",
    "print (\"rot_H_bad_conductor_sol_y =\")\n",
    "display(Math(latex(rot_H_bad_conductor_sol_y)))\n",
    "\n",
    "print (\"rot_H_inner_vacuum_sol_z =\")\n",
    "display(Math(latex(rot_H_inner_vacuum_sol_z)))\n",
    "print (\"rot_H_bad_conductor_sol_z =\")\n",
    "display(Math(latex(rot_H_bad_conductor_sol_z)))"
   ]
  },
  {
   "cell_type": "code",
   "execution_count": 29,
   "metadata": {},
   "outputs": [],
   "source": [
    "eq_rot_H_inner_vacuum_sol_x  = rot_H_inner_vacuum_sol_x  == -I*omega/c*E_inner_vacuum_sol_x(x)\n",
    "eq_rot_H_inner_vacuum_sol_y  = rot_H_inner_vacuum_sol_y  == -I*omega/c*E_inner_vacuum_sol_y(x)\n",
    "eq_rot_H_inner_vacuum_sol_z  = rot_H_inner_vacuum_sol_z  == -I*omega/c*E_inner_vacuum_sol_z(x)\n",
    "\n",
    "eq_rot_H_bad_conductor_sol_x = rot_H_bad_conductor_sol_x == -I*omega/c*epsilon*E_bad_conductor_sol_x(x)\n",
    "eq_rot_H_bad_conductor_sol_y = rot_H_bad_conductor_sol_y == -I*omega/c*epsilon*E_bad_conductor_sol_y(x)\n",
    "eq_rot_H_bad_conductor_sol_z = rot_H_bad_conductor_sol_z == -I*omega/c*epsilon*E_bad_conductor_sol_z(x)"
   ]
  },
  {
   "cell_type": "code",
   "execution_count": 30,
   "metadata": {},
   "outputs": [],
   "source": [
    "eq_rot_H_inner_vacuum_x  = rot_H_inner_vacuum_x  == -I*omega/c*E_inner_vacuum_x(x)\n",
    "eq_rot_H_inner_vacuum_y  = rot_H_inner_vacuum_y  == -I*omega/c*E_inner_vacuum_y(x)\n",
    "eq_rot_H_inner_vacuum_z  = rot_H_inner_vacuum_z  == -I*omega/c*E_inner_vacuum_z(x)\n",
    "\n",
    "eq_rot_H_bad_conductor_x = rot_H_bad_conductor_x == -I*omega/c*epsilon*E_bad_conductor_x(x)\n",
    "eq_rot_H_bad_conductor_y = rot_H_bad_conductor_y == -I*omega/c*epsilon*E_bad_conductor_y(x)\n",
    "eq_rot_H_bad_conductor_z = rot_H_bad_conductor_z == -I*omega/c*epsilon*E_bad_conductor_z(x)"
   ]
  },
  {
   "cell_type": "code",
   "execution_count": 31,
   "metadata": {},
   "outputs": [
    {
     "name": "stdout",
     "output_type": "stream",
     "text": [
      "eq_rot_H_inner_vacuum_sol_x =\n"
     ]
    },
    {
     "data": {
      "text/latex": [
       "$\\displaystyle \\frac{{\\left(-i \\, \\mathit{A1}_{x} k_{y} e^{\\left(-i \\, \\sqrt{-k^{2} + \\kappa_{\\mathit{vacuum}}^{2}} x\\right)} - i \\, \\sqrt{-k^{2} + \\kappa_{\\mathit{vacuum}}^{2}} \\mathit{A1}_{y} e^{\\left(-i \\, \\sqrt{-k^{2} + \\kappa_{\\mathit{vacuum}}^{2}} x\\right)}\\right)} c k_{y}}{\\omega} - \\frac{{\\left(i \\, \\mathit{A1}_{x} k_{z} e^{\\left(-i \\, \\sqrt{-k^{2} + \\kappa_{\\mathit{vacuum}}^{2}} x\\right)} + i \\, \\sqrt{-k^{2} + \\kappa_{\\mathit{vacuum}}^{2}} \\mathit{A1}_{z} e^{\\left(-i \\, \\sqrt{-k^{2} + \\kappa_{\\mathit{vacuum}}^{2}} x\\right)}\\right)} c k_{z}}{\\omega} = -\\frac{i \\, \\mathit{A1}_{x} \\omega e^{\\left(-i \\, \\sqrt{-k^{2} + \\kappa_{\\mathit{vacuum}}^{2}} x\\right)}}{c}$"
      ],
      "text/plain": [
       "<IPython.core.display.Math object>"
      ]
     },
     "metadata": {},
     "output_type": "display_data"
    },
    {
     "name": "stdout",
     "output_type": "stream",
     "text": [
      "eq_rot_H_inner_vacuum_sol_y =\n"
     ]
    },
    {
     "data": {
      "text/latex": [
       "$\\displaystyle \\frac{{\\left(i \\, \\mathit{A1}_{z} k_{y} e^{\\left(-i \\, \\sqrt{-k^{2} + \\kappa_{\\mathit{vacuum}}^{2}} x\\right)} - i \\, \\mathit{A1}_{y} k_{z} e^{\\left(-i \\, \\sqrt{-k^{2} + \\kappa_{\\mathit{vacuum}}^{2}} x\\right)}\\right)} c k_{z}}{\\omega} - \\frac{i \\, {\\left(\\sqrt{-k^{2} + \\kappa_{\\mathit{vacuum}}^{2}} \\mathit{A1}_{x} k_{y} e^{\\left(-i \\, \\sqrt{-k^{2} + \\kappa_{\\mathit{vacuum}}^{2}} x\\right)} - {\\left(k^{2} - \\kappa_{\\mathit{vacuum}}^{2}\\right)} \\mathit{A1}_{y} e^{\\left(-i \\, \\sqrt{-k^{2} + \\kappa_{\\mathit{vacuum}}^{2}} x\\right)}\\right)} c}{\\omega} = -\\frac{i \\, \\mathit{A1}_{y} \\omega e^{\\left(-i \\, \\sqrt{-k^{2} + \\kappa_{\\mathit{vacuum}}^{2}} x\\right)}}{c}$"
      ],
      "text/plain": [
       "<IPython.core.display.Math object>"
      ]
     },
     "metadata": {},
     "output_type": "display_data"
    },
    {
     "name": "stdout",
     "output_type": "stream",
     "text": [
      "eq_rot_H_inner_vacuum_sol_z =\n"
     ]
    },
    {
     "data": {
      "text/latex": [
       "$\\displaystyle -\\frac{{\\left(i \\, \\mathit{A1}_{z} k_{y} e^{\\left(-i \\, \\sqrt{-k^{2} + \\kappa_{\\mathit{vacuum}}^{2}} x\\right)} - i \\, \\mathit{A1}_{y} k_{z} e^{\\left(-i \\, \\sqrt{-k^{2} + \\kappa_{\\mathit{vacuum}}^{2}} x\\right)}\\right)} c k_{y}}{\\omega} - \\frac{i \\, {\\left(\\sqrt{-k^{2} + \\kappa_{\\mathit{vacuum}}^{2}} \\mathit{A1}_{x} k_{z} e^{\\left(-i \\, \\sqrt{-k^{2} + \\kappa_{\\mathit{vacuum}}^{2}} x\\right)} - {\\left(k^{2} - \\kappa_{\\mathit{vacuum}}^{2}\\right)} \\mathit{A1}_{z} e^{\\left(-i \\, \\sqrt{-k^{2} + \\kappa_{\\mathit{vacuum}}^{2}} x\\right)}\\right)} c}{\\omega} = -\\frac{i \\, \\mathit{A1}_{z} \\omega e^{\\left(-i \\, \\sqrt{-k^{2} + \\kappa_{\\mathit{vacuum}}^{2}} x\\right)}}{c}$"
      ],
      "text/plain": [
       "<IPython.core.display.Math object>"
      ]
     },
     "metadata": {},
     "output_type": "display_data"
    }
   ],
   "source": [
    "print (\"eq_rot_H_inner_vacuum_sol_x =\")\n",
    "display(Math(latex(eq_rot_H_inner_vacuum_sol_x.simplify())))\n",
    "\n",
    "print (\"eq_rot_H_inner_vacuum_sol_y =\")\n",
    "display(Math(latex(eq_rot_H_inner_vacuum_sol_y.simplify())))\n",
    "\n",
    "print (\"eq_rot_H_inner_vacuum_sol_z =\")\n",
    "display(Math(latex(eq_rot_H_inner_vacuum_sol_z.simplify())))"
   ]
  },
  {
   "cell_type": "code",
   "execution_count": 32,
   "metadata": {},
   "outputs": [
    {
     "name": "stdout",
     "output_type": "stream",
     "text": [
      "eq_rot_H_inner_vacuum_x =\n"
     ]
    },
    {
     "data": {
      "text/latex": [
       "$\\displaystyle \\frac{{\\left(-i \\, k_{y} E_{{\\rm inner}_{{\\rm vacuum}_{x}}}\\left(x\\right) + i \\, \\sqrt{-k^{2} + \\kappa_{\\mathit{vacuum}}^{2}} E_{{\\rm inner}_{{\\rm vacuum}_{y}}}\\left(x\\right)\\right)} c k_{y}}{\\omega} - \\frac{{\\left(i \\, k_{z} E_{{\\rm inner}_{{\\rm vacuum}_{x}}}\\left(x\\right) - i \\, \\sqrt{-k^{2} + \\kappa_{\\mathit{vacuum}}^{2}} E_{{\\rm inner}_{{\\rm vacuum}_{z}}}\\left(x\\right)\\right)} c k_{z}}{\\omega} = -\\frac{i \\, \\omega E_{{\\rm inner}_{{\\rm vacuum}_{x}}}\\left(x\\right)}{c}$"
      ],
      "text/plain": [
       "<IPython.core.display.Math object>"
      ]
     },
     "metadata": {},
     "output_type": "display_data"
    },
    {
     "name": "stdout",
     "output_type": "stream",
     "text": [
      "eq_rot_H_inner_vacuum_y =\n"
     ]
    },
    {
     "data": {
      "text/latex": [
       "$\\displaystyle \\frac{{\\left(-i \\, k_{z} E_{{\\rm inner}_{{\\rm vacuum}_{y}}}\\left(x\\right) + i \\, k_{y} E_{{\\rm inner}_{{\\rm vacuum}_{z}}}\\left(x\\right)\\right)} c k_{z}}{\\omega} - \\frac{\\sqrt{-k^{2} + \\kappa_{\\mathit{vacuum}}^{2}} {\\left(-i \\, k_{y} E_{{\\rm inner}_{{\\rm vacuum}_{x}}}\\left(x\\right) + i \\, \\sqrt{-k^{2} + \\kappa_{\\mathit{vacuum}}^{2}} E_{{\\rm inner}_{{\\rm vacuum}_{y}}}\\left(x\\right)\\right)} c}{\\omega} = -\\frac{i \\, \\omega E_{{\\rm inner}_{{\\rm vacuum}_{y}}}\\left(x\\right)}{c}$"
      ],
      "text/plain": [
       "<IPython.core.display.Math object>"
      ]
     },
     "metadata": {},
     "output_type": "display_data"
    },
    {
     "name": "stdout",
     "output_type": "stream",
     "text": [
      "eq_rot_H_inner_vacuum_z =\n"
     ]
    },
    {
     "data": {
      "text/latex": [
       "$\\displaystyle -\\frac{{\\left(-i \\, k_{z} E_{{\\rm inner}_{{\\rm vacuum}_{y}}}\\left(x\\right) + i \\, k_{y} E_{{\\rm inner}_{{\\rm vacuum}_{z}}}\\left(x\\right)\\right)} c k_{y}}{\\omega} + \\frac{\\sqrt{-k^{2} + \\kappa_{\\mathit{vacuum}}^{2}} {\\left(i \\, k_{z} E_{{\\rm inner}_{{\\rm vacuum}_{x}}}\\left(x\\right) - i \\, \\sqrt{-k^{2} + \\kappa_{\\mathit{vacuum}}^{2}} E_{{\\rm inner}_{{\\rm vacuum}_{z}}}\\left(x\\right)\\right)} c}{\\omega} = -\\frac{i \\, \\omega E_{{\\rm inner}_{{\\rm vacuum}_{z}}}\\left(x\\right)}{c}$"
      ],
      "text/plain": [
       "<IPython.core.display.Math object>"
      ]
     },
     "metadata": {},
     "output_type": "display_data"
    }
   ],
   "source": [
    "print (\"eq_rot_H_inner_vacuum_x =\")\n",
    "display(Math(latex(eq_rot_H_inner_vacuum_x.simplify())))\n",
    "\n",
    "print (\"eq_rot_H_inner_vacuum_y =\")\n",
    "display(Math(latex(eq_rot_H_inner_vacuum_y.simplify())))\n",
    "\n",
    "print (\"eq_rot_H_inner_vacuum_z =\")\n",
    "display(Math(latex(eq_rot_H_inner_vacuum_z.simplify())))"
   ]
  },
  {
   "cell_type": "code",
   "execution_count": 33,
   "metadata": {},
   "outputs": [
    {
     "name": "stdout",
     "output_type": "stream",
     "text": [
      "eq_rot_H_bad_conductor_sol_x =\n"
     ]
    },
    {
     "data": {
      "text/latex": [
       "$\\displaystyle \\frac{{\\left(-i \\, \\mathit{A1}_{x} k_{y} e^{\\left(i \\, \\sqrt{-k^{2} + \\kappa^{2}} x\\right)} + i \\, \\sqrt{-k^{2} + \\kappa^{2}} \\mathit{A1}_{y} e^{\\left(i \\, \\sqrt{-k^{2} + \\kappa^{2}} x\\right)}\\right)} c k_{y}}{\\mu \\omega} - \\frac{{\\left(i \\, \\mathit{A1}_{x} k_{z} e^{\\left(i \\, \\sqrt{-k^{2} + \\kappa^{2}} x\\right)} - i \\, \\sqrt{-k^{2} + \\kappa^{2}} \\mathit{A1}_{z} e^{\\left(i \\, \\sqrt{-k^{2} + \\kappa^{2}} x\\right)}\\right)} c k_{z}}{\\mu \\omega} = -\\frac{i \\, \\mathit{A1}_{x} \\epsilon \\omega e^{\\left(i \\, \\sqrt{-k^{2} + \\kappa^{2}} x\\right)}}{c}$"
      ],
      "text/plain": [
       "<IPython.core.display.Math object>"
      ]
     },
     "metadata": {},
     "output_type": "display_data"
    },
    {
     "name": "stdout",
     "output_type": "stream",
     "text": [
      "eq_rot_H_bad_conductor_sol_y =\n"
     ]
    },
    {
     "data": {
      "text/latex": [
       "$\\displaystyle \\frac{{\\left(i \\, \\mathit{A1}_{z} k_{y} e^{\\left(i \\, \\sqrt{-k^{2} + \\kappa^{2}} x\\right)} - i \\, \\mathit{A1}_{y} k_{z} e^{\\left(i \\, \\sqrt{-k^{2} + \\kappa^{2}} x\\right)}\\right)} c k_{z}}{\\mu \\omega} + \\frac{i \\, {\\left(\\sqrt{-k^{2} + \\kappa^{2}} \\mathit{A1}_{x} k_{y} e^{\\left(i \\, \\sqrt{-k^{2} + \\kappa^{2}} x\\right)} + {\\left(k^{2} - \\kappa^{2}\\right)} \\mathit{A1}_{y} e^{\\left(i \\, \\sqrt{-k^{2} + \\kappa^{2}} x\\right)}\\right)} c}{\\mu \\omega} = -\\frac{i \\, \\mathit{A1}_{y} \\epsilon \\omega e^{\\left(i \\, \\sqrt{-k^{2} + \\kappa^{2}} x\\right)}}{c}$"
      ],
      "text/plain": [
       "<IPython.core.display.Math object>"
      ]
     },
     "metadata": {},
     "output_type": "display_data"
    },
    {
     "name": "stdout",
     "output_type": "stream",
     "text": [
      "eq_rot_H_bad_conductor_sol_z =\n"
     ]
    },
    {
     "data": {
      "text/latex": [
       "$\\displaystyle -\\frac{{\\left(i \\, \\mathit{A1}_{z} k_{y} e^{\\left(i \\, \\sqrt{-k^{2} + \\kappa^{2}} x\\right)} - i \\, \\mathit{A1}_{y} k_{z} e^{\\left(i \\, \\sqrt{-k^{2} + \\kappa^{2}} x\\right)}\\right)} c k_{y}}{\\mu \\omega} + \\frac{i \\, {\\left(\\sqrt{-k^{2} + \\kappa^{2}} \\mathit{A1}_{x} k_{z} e^{\\left(i \\, \\sqrt{-k^{2} + \\kappa^{2}} x\\right)} + {\\left(k^{2} - \\kappa^{2}\\right)} \\mathit{A1}_{z} e^{\\left(i \\, \\sqrt{-k^{2} + \\kappa^{2}} x\\right)}\\right)} c}{\\mu \\omega} = -\\frac{i \\, \\mathit{A1}_{z} \\epsilon \\omega e^{\\left(i \\, \\sqrt{-k^{2} + \\kappa^{2}} x\\right)}}{c}$"
      ],
      "text/plain": [
       "<IPython.core.display.Math object>"
      ]
     },
     "metadata": {},
     "output_type": "display_data"
    }
   ],
   "source": [
    "print (\"eq_rot_H_bad_conductor_sol_x =\")\n",
    "display(Math(latex(eq_rot_H_bad_conductor_sol_x.simplify())))\n",
    "\n",
    "print (\"eq_rot_H_bad_conductor_sol_y =\")\n",
    "display(Math(latex(eq_rot_H_bad_conductor_sol_y.simplify())))\n",
    "\n",
    "print (\"eq_rot_H_bad_conductor_sol_z =\")\n",
    "display(Math(latex(eq_rot_H_bad_conductor_sol_z.simplify())))"
   ]
  },
  {
   "cell_type": "code",
   "execution_count": 34,
   "metadata": {},
   "outputs": [
    {
     "name": "stdout",
     "output_type": "stream",
     "text": [
      "eq_rot_H_bad_conductor_x =\n"
     ]
    },
    {
     "data": {
      "text/latex": [
       "$\\displaystyle \\frac{{\\left(-i \\, k_{y} E_{{\\rm bad}_{{\\rm conductor}_{x}}}\\left(x\\right) + i \\, \\sqrt{-k^{2} + \\kappa^{2}} E_{{\\rm bad}_{{\\rm conductor}_{y}}}\\left(x\\right)\\right)} c k_{y}}{\\mu \\omega} - \\frac{{\\left(i \\, k_{z} E_{{\\rm bad}_{{\\rm conductor}_{x}}}\\left(x\\right) - i \\, \\sqrt{-k^{2} + \\kappa^{2}} E_{{\\rm bad}_{{\\rm conductor}_{z}}}\\left(x\\right)\\right)} c k_{z}}{\\mu \\omega} = -\\frac{i \\, \\epsilon \\omega E_{{\\rm bad}_{{\\rm conductor}_{x}}}\\left(x\\right)}{c}$"
      ],
      "text/plain": [
       "<IPython.core.display.Math object>"
      ]
     },
     "metadata": {},
     "output_type": "display_data"
    },
    {
     "name": "stdout",
     "output_type": "stream",
     "text": [
      "eq_rot_H_bad_conductor_y =\n"
     ]
    },
    {
     "data": {
      "text/latex": [
       "$\\displaystyle \\frac{{\\left(-i \\, k_{z} E_{{\\rm bad}_{{\\rm conductor}_{y}}}\\left(x\\right) + i \\, k_{y} E_{{\\rm bad}_{{\\rm conductor}_{z}}}\\left(x\\right)\\right)} c k_{z}}{\\mu \\omega} - \\frac{\\sqrt{-k^{2} + \\kappa^{2}} {\\left(-i \\, k_{y} E_{{\\rm bad}_{{\\rm conductor}_{x}}}\\left(x\\right) + i \\, \\sqrt{-k^{2} + \\kappa^{2}} E_{{\\rm bad}_{{\\rm conductor}_{y}}}\\left(x\\right)\\right)} c}{\\mu \\omega} = -\\frac{i \\, \\epsilon \\omega E_{{\\rm bad}_{{\\rm conductor}_{y}}}\\left(x\\right)}{c}$"
      ],
      "text/plain": [
       "<IPython.core.display.Math object>"
      ]
     },
     "metadata": {},
     "output_type": "display_data"
    },
    {
     "name": "stdout",
     "output_type": "stream",
     "text": [
      "eq_rot_H_bad_conductor_z =\n"
     ]
    },
    {
     "data": {
      "text/latex": [
       "$\\displaystyle -\\frac{{\\left(-i \\, k_{z} E_{{\\rm bad}_{{\\rm conductor}_{y}}}\\left(x\\right) + i \\, k_{y} E_{{\\rm bad}_{{\\rm conductor}_{z}}}\\left(x\\right)\\right)} c k_{y}}{\\mu \\omega} + \\frac{\\sqrt{-k^{2} + \\kappa^{2}} {\\left(i \\, k_{z} E_{{\\rm bad}_{{\\rm conductor}_{x}}}\\left(x\\right) - i \\, \\sqrt{-k^{2} + \\kappa^{2}} E_{{\\rm bad}_{{\\rm conductor}_{z}}}\\left(x\\right)\\right)} c}{\\mu \\omega} = -\\frac{i \\, \\epsilon \\omega E_{{\\rm bad}_{{\\rm conductor}_{z}}}\\left(x\\right)}{c}$"
      ],
      "text/plain": [
       "<IPython.core.display.Math object>"
      ]
     },
     "metadata": {},
     "output_type": "display_data"
    }
   ],
   "source": [
    "print (\"eq_rot_H_bad_conductor_x =\")\n",
    "display(Math(latex(eq_rot_H_bad_conductor_x.simplify())))\n",
    "\n",
    "print (\"eq_rot_H_bad_conductor_y =\")\n",
    "display(Math(latex(eq_rot_H_bad_conductor_y.simplify())))\n",
    "\n",
    "print (\"eq_rot_H_bad_conductor_z =\")\n",
    "display(Math(latex(eq_rot_H_bad_conductor_z.simplify())))"
   ]
  },
  {
   "cell_type": "code",
   "execution_count": 35,
   "metadata": {},
   "outputs": [
    {
     "name": "stdout",
     "output_type": "stream",
     "text": [
      "eq_rot_H_inner_vacuum_x =\n"
     ]
    },
    {
     "data": {
      "text/latex": [
       "$\\displaystyle \\left[E_{{\\rm inner}_{{\\rm vacuum}_{x}}}\\left(x\\right) = \\frac{\\sqrt{-k^{2} + \\kappa_{\\mathit{vacuum}}^{2}} c^{2} k_{y} E_{{\\rm inner}_{{\\rm vacuum}_{y}}}\\left(x\\right) + \\sqrt{-k^{2} + \\kappa_{\\mathit{vacuum}}^{2}} c^{2} k_{z} E_{{\\rm inner}_{{\\rm vacuum}_{z}}}\\left(x\\right)}{c^{2} k_{y}^{2} + c^{2} k_{z}^{2} - k^{2}}\\right]$"
      ],
      "text/plain": [
       "<IPython.core.display.Math object>"
      ]
     },
     "metadata": {},
     "output_type": "display_data"
    },
    {
     "name": "stdout",
     "output_type": "stream",
     "text": [
      "H_inner_vacuum_y  (x) =\n"
     ]
    },
    {
     "data": {
      "text/latex": [
       "$\\displaystyle -\\frac{i \\, {\\left(-i \\, \\sqrt{-k^{2} + \\kappa_{\\mathit{vacuum}}^{2}} E_{{\\rm inner}_{{\\rm vacuum}_{z}}}\\left(x\\right) + \\frac{i \\, {\\left(\\sqrt{-k^{2} + \\kappa_{\\mathit{vacuum}}^{2}} c^{2} k_{y} E_{{\\rm inner}_{{\\rm vacuum}_{y}}}\\left(x\\right) + \\sqrt{-k^{2} + \\kappa_{\\mathit{vacuum}}^{2}} c^{2} k_{z} E_{{\\rm inner}_{{\\rm vacuum}_{z}}}\\left(x\\right)\\right)} k_{z}}{c^{2} k_{y}^{2} + c^{2} k_{z}^{2} - k^{2}}\\right)} c}{k}$"
      ],
      "text/plain": [
       "<IPython.core.display.Math object>"
      ]
     },
     "metadata": {},
     "output_type": "display_data"
    },
    {
     "name": "stdout",
     "output_type": "stream",
     "text": [
      "eq_rot_H_bad_conductor_x =\n"
     ]
    },
    {
     "data": {
      "text/latex": [
       "$\\displaystyle \\left[E_{{\\rm bad}_{{\\rm conductor}_{x}}}\\left(x\\right) = \\frac{\\sqrt{-k^{2} + \\kappa^{2}} c^{2} k_{y} E_{{\\rm bad}_{{\\rm conductor}_{y}}}\\left(x\\right) + \\sqrt{-k^{2} + \\kappa^{2}} c^{2} k_{z} E_{{\\rm bad}_{{\\rm conductor}_{z}}}\\left(x\\right)}{c^{2} k_{y}^{2} + c^{2} k_{z}^{2} - k^{2}}\\right]$"
      ],
      "text/plain": [
       "<IPython.core.display.Math object>"
      ]
     },
     "metadata": {},
     "output_type": "display_data"
    },
    {
     "name": "stdout",
     "output_type": "stream",
     "text": [
      "H_bad_conductor_y (x) =\n"
     ]
    },
    {
     "data": {
      "text/latex": [
       "$\\displaystyle -\\frac{i \\, \\sqrt{\\epsilon \\mu} {\\left(-i \\, \\sqrt{-k^{2} + \\kappa^{2}} E_{{\\rm bad}_{{\\rm conductor}_{z}}}\\left(x\\right) + \\frac{i \\, {\\left(\\sqrt{-k^{2} + \\kappa^{2}} c^{2} k_{y} E_{{\\rm bad}_{{\\rm conductor}_{y}}}\\left(x\\right) + \\sqrt{-k^{2} + \\kappa^{2}} c^{2} k_{z} E_{{\\rm bad}_{{\\rm conductor}_{z}}}\\left(x\\right)\\right)} k_{z}}{c^{2} k_{y}^{2} + c^{2} k_{z}^{2} - k^{2}}\\right)} c}{k \\mu}$"
      ],
      "text/plain": [
       "<IPython.core.display.Math object>"
      ]
     },
     "metadata": {},
     "output_type": "display_data"
    }
   ],
   "source": [
    "print (\"eq_rot_H_inner_vacuum_x =\")\n",
    "eq_rot_H_inner_vacuum_x_subs = eq_rot_H_inner_vacuum_x.subs(omega==k/sqrt(epsilon_0*mu_0))\n",
    "eq_rot_H_inner_vacuum_x_subs_solve = solve(eq_rot_H_inner_vacuum_x_subs, E_inner_vacuum_x(x))\n",
    "display(Math(latex(eq_rot_H_inner_vacuum_x_subs_solve)))\n",
    "\n",
    "print (\"H_inner_vacuum_y  (x) =\")\n",
    "H_inner_vacuum_subs_y = H_inner_vacuum_y.subs(omega==k/sqrt(epsilon_0*mu_0), eq_rot_H_inner_vacuum_x_subs_solve)\n",
    "display(Math(latex(H_inner_vacuum_subs_y)))\n",
    "\n",
    "print (\"eq_rot_H_bad_conductor_x =\")\n",
    "eq_rot_H_bad_conductor_x_subs = eq_rot_H_bad_conductor_x.subs(omega==k/sqrt(epsilon*mu))\n",
    "eq_rot_H_bad_conductor_x_subs_solve = solve(eq_rot_H_bad_conductor_x_subs, E_bad_conductor_x(x))\n",
    "display(Math(latex(eq_rot_H_bad_conductor_x_subs_solve)))\n",
    "\n",
    "print (\"H_bad_conductor_y (x) =\")\n",
    "H_bad_conductor_subs_y = H_bad_conductor_y.subs(omega==k/sqrt(epsilon*mu), eq_rot_H_bad_conductor_x_subs_solve)\n",
    "display(Math(latex(H_bad_conductor_subs_y)))"
   ]
  },
  {
   "cell_type": "code",
   "execution_count": 37,
   "metadata": {},
   "outputs": [
    {
     "data": {
      "text/latex": [
       "$\\displaystyle \\left[\\kappa_{\\mathit{vacuum}} = -\\frac{\\omega}{c}, \\kappa_{\\mathit{vacuum}} = \\frac{\\omega}{c}\\right]$"
      ],
      "text/plain": [
       "<IPython.core.display.Math object>"
      ]
     },
     "metadata": {},
     "output_type": "display_data"
    }
   ],
   "source": [
    "res = solve(eq_kappa_inner_vacuum, kappa_vacuum)\n",
    "display(Math(latex(res)))"
   ]
  },
  {
   "cell_type": "code",
   "execution_count": 39,
   "metadata": {},
   "outputs": [
    {
     "name": "stdout",
     "output_type": "stream",
     "text": [
      "eqEz_0 = \n"
     ]
    },
    {
     "data": {
      "text/latex": [
       "$\\displaystyle \\left[\\mathit{A1}_{z} = 0\\right]$"
      ],
      "text/plain": [
       "<IPython.core.display.Math object>"
      ]
     },
     "metadata": {},
     "output_type": "display_data"
    },
    {
     "name": "stdout",
     "output_type": "stream",
     "text": [
      "eqEy_0 = \n"
     ]
    },
    {
     "data": {
      "text/latex": [
       "$\\displaystyle \\left[\\mathit{A1}_{y} = 0\\right]$"
      ],
      "text/plain": [
       "<IPython.core.display.Math object>"
      ]
     },
     "metadata": {},
     "output_type": "display_data"
    }
   ],
   "source": [
    "# граничные условия на границе идеального проводника и вакуума внутри резонатора\n",
    "# тангенциальная компонента электрического поля\n",
    "eqEz_0 = solve(E_inner_vacuum_sol_z(-a) == 0, A1_z)\n",
    "eqEy_0 = solve(E_inner_vacuum_sol_y(-a) == 0, A1_y)\n",
    "\n",
    "print (\"eqEz_0 = \")\n",
    "display(Math(latex(eqEz_0)))\n",
    "print (\"eqEy_0 = \")\n",
    "display(Math(latex(eqEy_0)))"
   ]
  },
  {
   "cell_type": "code",
   "execution_count": 40,
   "metadata": {},
   "outputs": [
    {
     "name": "stdout",
     "output_type": "stream",
     "text": [
      "eqEz_a = \n"
     ]
    },
    {
     "data": {
      "text/latex": [
       "$\\displaystyle \\mathit{A1}_{z} = \\mathit{A1}_{z}$"
      ],
      "text/plain": [
       "<IPython.core.display.Math object>"
      ]
     },
     "metadata": {},
     "output_type": "display_data"
    },
    {
     "name": "stdout",
     "output_type": "stream",
     "text": [
      "eqEy_a = \n"
     ]
    },
    {
     "data": {
      "text/latex": [
       "$\\displaystyle \\mathit{A1}_{y} = \\mathit{A1}_{y}$"
      ],
      "text/plain": [
       "<IPython.core.display.Math object>"
      ]
     },
     "metadata": {},
     "output_type": "display_data"
    }
   ],
   "source": [
    "# граничные условия на границе вакуума внутри резонатора и проводящего металла с потерями\n",
    "# тангенциальная компонента электрического поля\n",
    "eqEz_a = E_inner_vacuum_sol_z(0) == E_bad_conductor_sol_z(0)\n",
    "eqEy_a = E_inner_vacuum_sol_y(0) == E_bad_conductor_sol_y(0)\n",
    "\n",
    "print (\"eqEz_a = \")\n",
    "display(Math(latex(eqEz_a)))\n",
    "print (\"eqEy_a = \")\n",
    "display(Math(latex(eqEy_a)))"
   ]
  },
  {
   "cell_type": "code",
   "execution_count": 41,
   "metadata": {},
   "outputs": [
    {
     "name": "stdout",
     "output_type": "stream",
     "text": [
      "eqDx_a =\n"
     ]
    },
    {
     "data": {
      "text/latex": [
       "$\\displaystyle \\mathit{A1}_{x} = \\mathit{A1}_{x} \\epsilon$"
      ],
      "text/plain": [
       "<IPython.core.display.Math object>"
      ]
     },
     "metadata": {},
     "output_type": "display_data"
    }
   ],
   "source": [
    "# нормальная компонента электрического смещения\n",
    "eqDx_a = E_inner_vacuum_sol_x(0) == E_bad_conductor_sol_x(0) * epsilon\n",
    "\n",
    "print (\"eqDx_a =\")\n",
    "display(Math(latex(eqDx_a)))"
   ]
  },
  {
   "cell_type": "code",
   "execution_count": 42,
   "metadata": {},
   "outputs": [
    {
     "name": "stdout",
     "output_type": "stream",
     "text": [
      "H_bad_conductor_sol_z (0), H_inner_vacuum_sol_z (x) =\n"
     ]
    },
    {
     "data": {
      "text/latex": [
       "$\\displaystyle \\left[-\\frac{i \\, {\\left(-i \\, \\mathit{A1}_{x} k_{y} e^{\\left(i \\, \\sqrt{-k^{2} + \\kappa^{2}} x\\right)} + i \\, \\sqrt{-k^{2} + \\kappa^{2}} \\mathit{A1}_{y} e^{\\left(i \\, \\sqrt{-k^{2} + \\kappa^{2}} x\\right)}\\right)} c}{\\mu \\omega}, -\\frac{i \\, {\\left(-i \\, \\mathit{A1}_{x} k_{y} e^{\\left(-i \\, \\sqrt{-k^{2} + \\kappa_{\\mathit{vacuum}}^{2}} x\\right)} - i \\, \\sqrt{-k^{2} + \\kappa_{\\mathit{vacuum}}^{2}} \\mathit{A1}_{y} e^{\\left(-i \\, \\sqrt{-k^{2} + \\kappa_{\\mathit{vacuum}}^{2}} x\\right)}\\right)} c}{\\omega}\\right]$"
      ],
      "text/plain": [
       "<IPython.core.display.Math object>"
      ]
     },
     "metadata": {},
     "output_type": "display_data"
    },
    {
     "name": "stdout",
     "output_type": "stream",
     "text": [
      "H_bad_conductor_sol_y (0), H_inner_vacuum_sol_y (x) =\n"
     ]
    },
    {
     "data": {
      "text/latex": [
       "$\\displaystyle \\left[-\\frac{i \\, {\\left(i \\, \\mathit{A1}_{x} k_{z} e^{\\left(i \\, \\sqrt{-k^{2} + \\kappa^{2}} x\\right)} - i \\, \\sqrt{-k^{2} + \\kappa^{2}} \\mathit{A1}_{z} e^{\\left(i \\, \\sqrt{-k^{2} + \\kappa^{2}} x\\right)}\\right)} c}{\\mu \\omega}, -\\frac{i \\, {\\left(i \\, \\mathit{A1}_{x} k_{z} e^{\\left(-i \\, \\sqrt{-k^{2} + \\kappa_{\\mathit{vacuum}}^{2}} x\\right)} + i \\, \\sqrt{-k^{2} + \\kappa_{\\mathit{vacuum}}^{2}} \\mathit{A1}_{z} e^{\\left(-i \\, \\sqrt{-k^{2} + \\kappa_{\\mathit{vacuum}}^{2}} x\\right)}\\right)} c}{\\omega}\\right]$"
      ],
      "text/plain": [
       "<IPython.core.display.Math object>"
      ]
     },
     "metadata": {},
     "output_type": "display_data"
    },
    {
     "name": "stdout",
     "output_type": "stream",
     "text": [
      "sqrt(mu/epsilon_complex)*H_bad_conductor_sol_z (0), sqrt(mu/epsilon_complex)*H_inner_vacuum_sol_z (x) =\n"
     ]
    },
    {
     "data": {
      "text/latex": [
       "$\\displaystyle \\left[-\\frac{i \\, {\\left(-i \\, \\mathit{A1}_{x} k_{y} e^{\\left(i \\, \\sqrt{-k^{2} + \\kappa^{2}} x\\right)} + i \\, \\sqrt{-k^{2} + \\kappa^{2}} \\mathit{A1}_{y} e^{\\left(i \\, \\sqrt{-k^{2} + \\kappa^{2}} x\\right)}\\right)} c \\sqrt{\\frac{\\mu}{\\epsilon + \\frac{4 i \\, \\pi \\sigma}{\\omega}}}}{\\mu \\omega}, -\\frac{i \\, {\\left(-i \\, \\mathit{A1}_{x} k_{y} e^{\\left(-i \\, \\sqrt{-k^{2} + \\kappa_{\\mathit{vacuum}}^{2}} x\\right)} - i \\, \\sqrt{-k^{2} + \\kappa_{\\mathit{vacuum}}^{2}} \\mathit{A1}_{y} e^{\\left(-i \\, \\sqrt{-k^{2} + \\kappa_{\\mathit{vacuum}}^{2}} x\\right)}\\right)} c}{\\sqrt{\\epsilon} \\omega}\\right]$"
      ],
      "text/plain": [
       "<IPython.core.display.Math object>"
      ]
     },
     "metadata": {},
     "output_type": "display_data"
    },
    {
     "name": "stdout",
     "output_type": "stream",
     "text": [
      "H_bad_conductor_y (0), H_inner_vacuum_y (0) =\n"
     ]
    },
    {
     "data": {
      "text/latex": [
       "$\\displaystyle \\left[-\\frac{i \\, {\\left(i \\, \\mathit{A1}_{x} k_{z} e^{\\left(i \\, \\sqrt{-k^{2} + \\kappa^{2}} x\\right)} - i \\, \\sqrt{-k^{2} + \\kappa^{2}} \\mathit{A1}_{z} e^{\\left(i \\, \\sqrt{-k^{2} + \\kappa^{2}} x\\right)}\\right)} c \\sqrt{\\frac{\\mu}{\\epsilon + \\frac{4 i \\, \\pi \\sigma}{\\omega}}}}{\\mu \\omega}, -\\frac{i \\, {\\left(i \\, \\mathit{A1}_{x} k_{z} e^{\\left(-i \\, \\sqrt{-k^{2} + \\kappa_{\\mathit{vacuum}}^{2}} x\\right)} + i \\, \\sqrt{-k^{2} + \\kappa_{\\mathit{vacuum}}^{2}} \\mathit{A1}_{z} e^{\\left(-i \\, \\sqrt{-k^{2} + \\kappa_{\\mathit{vacuum}}^{2}} x\\right)}\\right)} c}{\\sqrt{\\epsilon} \\omega}\\right]$"
      ],
      "text/plain": [
       "<IPython.core.display.Math object>"
      ]
     },
     "metadata": {},
     "output_type": "display_data"
    },
    {
     "name": "stdout",
     "output_type": "stream",
     "text": [
      "eqEz_0, eqEy_0 = \n"
     ]
    },
    {
     "data": {
      "text/latex": [
       "$\\displaystyle \\left[\\left[\\mathit{A1}_{z} = 0\\right], \\left[\\mathit{A1}_{y} = 0\\right]\\right]$"
      ],
      "text/plain": [
       "<IPython.core.display.Math object>"
      ]
     },
     "metadata": {},
     "output_type": "display_data"
    },
    {
     "name": "stdout",
     "output_type": "stream",
     "text": [
      "eqHz_a =\n"
     ]
    },
    {
     "data": {
      "text/latex": [
       "$\\displaystyle -\\frac{\\mathit{A1}_{x} c k_{y}}{\\mu \\omega} = -\\frac{\\mathit{A1}_{x} c k_{y}}{\\omega}$"
      ],
      "text/plain": [
       "<IPython.core.display.Math object>"
      ]
     },
     "metadata": {},
     "output_type": "display_data"
    },
    {
     "name": "stdout",
     "output_type": "stream",
     "text": [
      "eqHy_a =\n"
     ]
    },
    {
     "data": {
      "text/latex": [
       "$\\displaystyle \\frac{\\mathit{A1}_{x} c k_{z}}{\\mu \\omega} = \\frac{\\mathit{A1}_{x} c k_{z}}{\\omega}$"
      ],
      "text/plain": [
       "<IPython.core.display.Math object>"
      ]
     },
     "metadata": {},
     "output_type": "display_data"
    }
   ],
   "source": [
    "# тангенциальная компонента напряженности магнитного поля\n",
    "eqHz_a  = (H_bad_conductor_sol_z(0)  == H_inner_vacuum_sol_z(0)).subs(eqEz_0, eqEy_0)\n",
    "eqHy_a  = (H_bad_conductor_sol_y(0)  == H_inner_vacuum_sol_y(0)).subs(eqEy_0, eqEz_0)\n",
    "\n",
    "print (\"H_bad_conductor_sol_z (0), H_inner_vacuum_sol_z (x) =\")\n",
    "display(Math(latex([H_bad_conductor_sol_z (x), H_inner_vacuum_sol_z (x)])))\n",
    "\n",
    "print (\"H_bad_conductor_sol_y (0), H_inner_vacuum_sol_y (x) =\")\n",
    "display(Math(latex([H_bad_conductor_sol_y (x), H_inner_vacuum_sol_y (x)])))\n",
    "\n",
    "print (\"sqrt(mu/epsilon_complex)*H_bad_conductor_sol_z (0), sqrt(mu/epsilon_complex)*H_inner_vacuum_sol_z (x) =\")\n",
    "display(Math(latex([sqrt(mu/epsilon_complex)*H_bad_conductor_sol_z (x), sqrt(1/epsilon)*H_inner_vacuum_sol_z (x)])))\n",
    "\n",
    "print (\"H_bad_conductor_y (0), H_inner_vacuum_y (0) =\")\n",
    "display(Math(latex([sqrt(mu/epsilon_complex)*H_bad_conductor_sol_y (x), sqrt(1/epsilon)*H_inner_vacuum_sol_y (x)])))\n",
    "\n",
    "print (\"eqEz_0, eqEy_0 = \")\n",
    "display(Math(latex([eqEz_0, eqEy_0])))\n",
    "\n",
    "\n",
    "print (\"eqHz_a =\")\n",
    "display(Math(latex(eqHz_a)))\n",
    "print (\"eqHy_a =\")\n",
    "display(Math(latex(eqHy_a)))\n",
    "\n",
    "#eqHz_a_subs = (eqHz_a.lhs().subs(omega == k/sqrt(epsilon_complex*mu))/k_y/A1_x == eqHz_a.rhs().subs(omega == k/sqrt(epsilon*mu))/k_y/A1_x)\n",
    "#eqHy_a_subs = (eqHy_a.lhs().subs(omega == k/sqrt(epsilon_complex*mu))/k_z/A1_x == eqHy_a.rhs().subs(omega == k/sqrt(epsilon*mu))/k_z/A1_x)\n",
    "\n",
    "#print (\"eqHz_a_subs =\")\n",
    "#display(Math(latex(eqHz_a_subs)))\n",
    "#print (\"eqHy_a_subs =\")\n",
    "#display(Math(latex(eqHy_a_subs)))"
   ]
  },
  {
   "cell_type": "code",
   "execution_count": 43,
   "metadata": {},
   "outputs": [
    {
     "name": "stdout",
     "output_type": "stream",
     "text": [
      "eqBx_a =\n"
     ]
    },
    {
     "data": {
      "text/latex": [
       "$\\displaystyle -\\frac{i \\, {\\left(i \\, \\mathit{A1}_{z} k_{y} e^{\\left(i \\, \\sqrt{-k^{2} + \\kappa^{2}} a\\right)} - i \\, \\mathit{A1}_{y} k_{z} e^{\\left(i \\, \\sqrt{-k^{2} + \\kappa^{2}} a\\right)}\\right)} c}{\\omega} = -\\frac{i \\, {\\left(i \\, \\mathit{A1}_{z} k_{y} e^{\\left(-i \\, \\sqrt{-k^{2} + \\kappa_{\\mathit{vacuum}}^{2}} a\\right)} - i \\, \\mathit{A1}_{y} k_{z} e^{\\left(-i \\, \\sqrt{-k^{2} + \\kappa_{\\mathit{vacuum}}^{2}} a\\right)}\\right)} c}{\\omega}$"
      ],
      "text/plain": [
       "<IPython.core.display.Math object>"
      ]
     },
     "metadata": {},
     "output_type": "display_data"
    }
   ],
   "source": [
    "# нормальная компонента индукции магнитного поля\n",
    "eqBx_a  = mu * H_bad_conductor_sol_x (a)  == H_inner_vacuum_sol_x (a)\n",
    "\n",
    "print (\"eqBx_a =\")\n",
    "display(Math(latex(eqBx_a)))"
   ]
  },
  {
   "cell_type": "code",
   "execution_count": 44,
   "metadata": {},
   "outputs": [
    {
     "name": "stdout",
     "output_type": "stream",
     "text": [
      "eq_rot_H_inner_vacuum_y_subs_solve (E_y) =\n",
      "[\n",
      "E_inner_vacuum_y(x) == (c^2*k_y*k_z*E_inner_vacuum_z(x) + sqrt(-k^2 + kappa_vacuum^2)*c^2*k_y*E_inner_vacuum_x(x))/(c^2*k_z^2 + c^2*kappa_vacuum^2 - (c^2 + 1)*k^2)\n",
      "]\n"
     ]
    },
    {
     "data": {
      "text/latex": [
       "$\\displaystyle \\left[E_{{\\rm inner}_{{\\rm vacuum}_{y}}}\\left(x\\right) = \\frac{c^{2} k_{y} k_{z} E_{{\\rm inner}_{{\\rm vacuum}_{z}}}\\left(x\\right) + \\sqrt{-k^{2} + \\kappa_{\\mathit{vacuum}}^{2}} c^{2} k_{y} E_{{\\rm inner}_{{\\rm vacuum}_{x}}}\\left(x\\right)}{c^{2} k_{z}^{2} + c^{2} \\kappa_{\\mathit{vacuum}}^{2} - {\\left(c^{2} + 1\\right)} k^{2}}\\right]$"
      ],
      "text/plain": [
       "<IPython.core.display.Math object>"
      ]
     },
     "metadata": {},
     "output_type": "display_data"
    },
    {
     "name": "stdout",
     "output_type": "stream",
     "text": [
      "H_inner_vacuum_subs_x (x) =\n",
      "-I*(-I*k_z*E_inner_vacuum_y(x) + I*k_y*E_inner_vacuum_z(x))*c/k\n"
     ]
    },
    {
     "data": {
      "text/latex": [
       "$\\displaystyle -\\frac{i \\, {\\left(-i \\, k_{z} E_{{\\rm inner}_{{\\rm vacuum}_{y}}}\\left(x\\right) + i \\, k_{y} E_{{\\rm inner}_{{\\rm vacuum}_{z}}}\\left(x\\right)\\right)} c}{k}$"
      ],
      "text/plain": [
       "<IPython.core.display.Math object>"
      ]
     },
     "metadata": {},
     "output_type": "display_data"
    },
    {
     "name": "stdout",
     "output_type": "stream",
     "text": [
      "E_inner_vacuum_y_fun(x) =\n",
      "(c^2*k_y*k_z*E_inner_vacuum_z(x) + sqrt(-k^2 + kappa_vacuum^2)*c^2*k_y*E_inner_vacuum_x(x))/(c^2*k_z^2 + c^2*kappa_vacuum^2 - (c^2 + 1)*k^2)\n"
     ]
    },
    {
     "data": {
      "text/latex": [
       "$\\displaystyle \\frac{c^{2} k_{y} k_{z} E_{{\\rm inner}_{{\\rm vacuum}_{z}}}\\left(x\\right) + \\sqrt{-k^{2} + \\kappa_{\\mathit{vacuum}}^{2}} c^{2} k_{y} E_{{\\rm inner}_{{\\rm vacuum}_{x}}}\\left(x\\right)}{c^{2} k_{z}^{2} + c^{2} \\kappa_{\\mathit{vacuum}}^{2} - {\\left(c^{2} + 1\\right)} k^{2}}$"
      ],
      "text/plain": [
       "<IPython.core.display.Math object>"
      ]
     },
     "metadata": {},
     "output_type": "display_data"
    },
    {
     "name": "stdout",
     "output_type": "stream",
     "text": [
      "H_inner_vacuum_subs_fun_x (x) =\n",
      "-I*(I*k_y*E_inner_vacuum_z(x) - I*(c^2*k_y*k_z*E_inner_vacuum_z(x) + sqrt(-k^2 + kappa_vacuum^2)*c^2*k_y*E_inner_vacuum_x(x))*k_z/(c^2*k_z^2 + c^2*kappa_vacuum^2 - (c^2 + 1)*k^2))*c/k\n"
     ]
    },
    {
     "data": {
      "text/latex": [
       "$\\displaystyle -\\frac{i \\, {\\left(i \\, k_{y} E_{{\\rm inner}_{{\\rm vacuum}_{z}}}\\left(x\\right) - \\frac{i \\, {\\left(c^{2} k_{y} k_{z} E_{{\\rm inner}_{{\\rm vacuum}_{z}}}\\left(x\\right) + \\sqrt{-k^{2} + \\kappa_{\\mathit{vacuum}}^{2}} c^{2} k_{y} E_{{\\rm inner}_{{\\rm vacuum}_{x}}}\\left(x\\right)\\right)} k_{z}}{c^{2} k_{z}^{2} + c^{2} \\kappa_{\\mathit{vacuum}}^{2} - {\\left(c^{2} + 1\\right)} k^{2}}\\right)} c}{k}$"
      ],
      "text/plain": [
       "<IPython.core.display.Math object>"
      ]
     },
     "metadata": {},
     "output_type": "display_data"
    },
    {
     "name": "stdout",
     "output_type": "stream",
     "text": [
      "H_inner_vacuum_subs_fun_sol_x (x) =\n",
      "-sqrt(-k^2 + kappa_vacuum^2)*A1_x*c^3*k_y*k_z*e^(-I*sqrt(-k^2 + kappa_vacuum^2)*x)/(c^2*k*k_z^2 + c^2*k*kappa_vacuum^2 - (c^2 + 1)*k^3)\n"
     ]
    },
    {
     "data": {
      "text/latex": [
       "$\\displaystyle -\\frac{\\sqrt{-k^{2} + \\kappa_{\\mathit{vacuum}}^{2}} \\mathit{A1}_{x} c^{3} k_{y} k_{z} e^{\\left(-i \\, \\sqrt{-k^{2} + \\kappa_{\\mathit{vacuum}}^{2}} x\\right)}}{c^{2} k k_{z}^{2} + c^{2} k \\kappa_{\\mathit{vacuum}}^{2} - {\\left(c^{2} + 1\\right)} k^{3}}$"
      ],
      "text/plain": [
       "<IPython.core.display.Math object>"
      ]
     },
     "metadata": {},
     "output_type": "display_data"
    },
    {
     "name": "stdout",
     "output_type": "stream",
     "text": [
      "\n",
      "\n",
      "\n",
      "\n",
      "\n",
      "eq_rot_H_bad_conductor_y (E_y) =\n",
      "[\n",
      "E_bad_conductor_y(x) == (c^2*k_y*k_z*E_bad_conductor_z(x) + sqrt(-k^2 + kappa^2)*c^2*k_y*E_bad_conductor_x(x))/(c^2*k_z^2 + c^2*kappa^2 - (c^2 + 1)*k^2)\n",
      "]\n",
      "[\n",
      "E_bad_conductor_y(x) == (c^2*k_y*k_z*E_bad_conductor_z(x) + sqrt(-k^2 + kappa^2)*c^2*k_y*E_bad_conductor_x(x))/(c^2*k_z^2 + c^2*kappa^2 - (c^2 + 1)*k^2)\n",
      "]\n"
     ]
    },
    {
     "data": {
      "text/latex": [
       "$\\displaystyle \\left[E_{{\\rm bad}_{{\\rm conductor}_{y}}}\\left(x\\right) = \\frac{c^{2} k_{y} k_{z} E_{{\\rm bad}_{{\\rm conductor}_{z}}}\\left(x\\right) + \\sqrt{-k^{2} + \\kappa^{2}} c^{2} k_{y} E_{{\\rm bad}_{{\\rm conductor}_{x}}}\\left(x\\right)}{c^{2} k_{z}^{2} + c^{2} \\kappa^{2} - {\\left(c^{2} + 1\\right)} k^{2}}\\right]$"
      ],
      "text/plain": [
       "<IPython.core.display.Math object>"
      ]
     },
     "metadata": {},
     "output_type": "display_data"
    },
    {
     "name": "stdout",
     "output_type": "stream",
     "text": [
      "H_bad_conductor_subs_x (x) =\n",
      "-I*sqrt(epsilon*mu)*(-I*k_z*E_bad_conductor_y(x) + I*k_y*E_bad_conductor_z(x))*c/(k*mu)\n"
     ]
    },
    {
     "data": {
      "text/latex": [
       "$\\displaystyle -\\frac{i \\, \\sqrt{\\epsilon \\mu} {\\left(-i \\, k_{z} E_{{\\rm bad}_{{\\rm conductor}_{y}}}\\left(x\\right) + i \\, k_{y} E_{{\\rm bad}_{{\\rm conductor}_{z}}}\\left(x\\right)\\right)} c}{k \\mu}$"
      ],
      "text/plain": [
       "<IPython.core.display.Math object>"
      ]
     },
     "metadata": {},
     "output_type": "display_data"
    },
    {
     "name": "stdout",
     "output_type": "stream",
     "text": [
      "E_bad_conductor_y_fun(x) =\n",
      "(c^2*k_y*k_z*E_bad_conductor_z(x) + sqrt(-k^2 + kappa^2)*c^2*k_y*E_bad_conductor_x(x))/(c^2*k_z^2 + c^2*kappa^2 - (c^2 + 1)*k^2)\n"
     ]
    },
    {
     "data": {
      "text/latex": [
       "$\\displaystyle \\frac{c^{2} k_{y} k_{z} E_{{\\rm bad}_{{\\rm conductor}_{z}}}\\left(x\\right) + \\sqrt{-k^{2} + \\kappa^{2}} c^{2} k_{y} E_{{\\rm bad}_{{\\rm conductor}_{x}}}\\left(x\\right)}{c^{2} k_{z}^{2} + c^{2} \\kappa^{2} - {\\left(c^{2} + 1\\right)} k^{2}}$"
      ],
      "text/plain": [
       "<IPython.core.display.Math object>"
      ]
     },
     "metadata": {},
     "output_type": "display_data"
    },
    {
     "name": "stdout",
     "output_type": "stream",
     "text": [
      "H_bad_conductor_subs_fun_x (x) =\n",
      "-I*sqrt(epsilon*mu)*(I*k_y*E_bad_conductor_z(x) - I*(c^2*k_y*k_z*E_bad_conductor_z(x) + sqrt(-k^2 + kappa^2)*c^2*k_y*E_bad_conductor_x(x))*k_z/(c^2*k_z^2 + c^2*kappa^2 - (c^2 + 1)*k^2))*c/(k*mu)\n"
     ]
    },
    {
     "data": {
      "text/latex": [
       "$\\displaystyle -\\frac{i \\, \\sqrt{\\epsilon \\mu} {\\left(i \\, k_{y} E_{{\\rm bad}_{{\\rm conductor}_{z}}}\\left(x\\right) - \\frac{i \\, {\\left(c^{2} k_{y} k_{z} E_{{\\rm bad}_{{\\rm conductor}_{z}}}\\left(x\\right) + \\sqrt{-k^{2} + \\kappa^{2}} c^{2} k_{y} E_{{\\rm bad}_{{\\rm conductor}_{x}}}\\left(x\\right)\\right)} k_{z}}{c^{2} k_{z}^{2} + c^{2} \\kappa^{2} - {\\left(c^{2} + 1\\right)} k^{2}}\\right)} c}{k \\mu}$"
      ],
      "text/plain": [
       "<IPython.core.display.Math object>"
      ]
     },
     "metadata": {},
     "output_type": "display_data"
    },
    {
     "name": "stdout",
     "output_type": "stream",
     "text": [
      "A1_z*e^(I*sqrt(-k^2 + kappa^2)*x)\n",
      "H_bad_conductor_subs_fun_sol_x (x) =\n",
      "-sqrt(-k^2 + kappa^2)*sqrt(epsilon*mu)*A1_x*c^3*k_y*k_z*e^(I*sqrt(-k^2 + kappa^2)*x)/((c^2*k*k_z^2 + c^2*k*kappa^2 - (c^2 + 1)*k^3)*mu)\n"
     ]
    },
    {
     "data": {
      "text/latex": [
       "$\\displaystyle -\\frac{\\sqrt{-k^{2} + \\kappa^{2}} \\sqrt{\\epsilon \\mu} \\mathit{A1}_{x} c^{3} k_{y} k_{z} e^{\\left(i \\, \\sqrt{-k^{2} + \\kappa^{2}} x\\right)}}{{\\left(c^{2} k k_{z}^{2} + c^{2} k \\kappa^{2} - {\\left(c^{2} + 1\\right)} k^{3}\\right)} \\mu}$"
      ],
      "text/plain": [
       "<IPython.core.display.Math object>"
      ]
     },
     "metadata": {},
     "output_type": "display_data"
    }
   ],
   "source": [
    "eq_rot_H_inner_vacuum_y_subs       = eq_rot_H_inner_vacuum_y.subs(omega==k/sqrt(epsilon_0*mu_0))\n",
    "eq_rot_H_inner_vacuum_y_subs_solve = solve(eq_rot_H_inner_vacuum_y_subs, E_inner_vacuum_y(x))\n",
    "print (\"eq_rot_H_inner_vacuum_y_subs_solve (E_y) =\")\n",
    "print(eq_rot_H_inner_vacuum_y_subs_solve)\n",
    "display(Math(latex(eq_rot_H_inner_vacuum_y_subs_solve)))\n",
    "\n",
    "print (\"H_inner_vacuum_subs_x (x) rot E =\")\n",
    "H_inner_vacuum_subs_x = H_inner_vacuum_x.subs(omega==k/sqrt(epsilon_0*mu_0))\n",
    "print             (H_inner_vacuum_subs_x)\n",
    "display(Math(latex(H_inner_vacuum_subs_x)))\n",
    "\n",
    "print (\"E_inner_vacuum_y_fun(x) =\")\n",
    "E_inner_vacuum_y_fun(x) = eq_rot_H_inner_vacuum_y_subs_solve[0].rhs()\n",
    "print(E_inner_vacuum_y_fun(x))\n",
    "display(Math(latex(E_inner_vacuum_y_fun(x))))\n",
    "\n",
    "print (\"H_inner_vacuum_subs_fun_x (x) =\")\n",
    "H_inner_vacuum_subs_fun_x = H_inner_vacuum_subs_x.\\\n",
    "    substitute_function(E_inner_vacuum_y, E_inner_vacuum_y_fun)\n",
    "print (H_inner_vacuum_subs_fun_x)\n",
    "display(Math(latex(H_inner_vacuum_subs_fun_x)))\n",
    "\n",
    "print (\"H_inner_vacuum_subs_fun_sol_x (x) =\")\n",
    "H_inner_vacuum_subs_fun_sol_x = H_inner_vacuum_subs_fun_x.\\\n",
    "    substitute_function(E_inner_vacuum_z, E_inner_vacuum_sol_z). \\\n",
    "    substitute_function(E_inner_vacuum_x, E_inner_vacuum_sol_x). \\\n",
    "    subs(eqEz_0, eqEy_0).full_simplify()\n",
    "print (H_inner_vacuum_subs_fun_sol_x)\n",
    "display(Math(latex(H_inner_vacuum_subs_fun_sol_x)))\n",
    "\n",
    "print (\"\")\n",
    "print (\"\")\n",
    "print (\"\")\n",
    "print (\"\")\n",
    "print (\"\")\n",
    "\n",
    "print (\"eq_rot_H_bad_conductor_y (E_y) =\")\n",
    "eq_rot_H_bad_conductor_y_subs       = eq_rot_H_bad_conductor_y.subs(omega==k/sqrt(epsilon*mu)).simplify()\n",
    "eq_rot_H_bad_conductor_y_subs_solve = solve(eq_rot_H_bad_conductor_y_subs, E_bad_conductor_y(x))\n",
    "print(eq_rot_H_bad_conductor_y_subs_solve)\n",
    "print(eq_rot_H_bad_conductor_y_subs_solve)\n",
    "display(Math(latex(eq_rot_H_bad_conductor_y_subs_solve)))\n",
    "\n",
    "print (\"H_bad_conductor_subs_x (x) =\")\n",
    "H_bad_conductor_subs_x = H_bad_conductor_x.subs(omega==k/sqrt(epsilon*mu))\n",
    "print(H_bad_conductor_subs_x)\n",
    "display(Math(latex(H_bad_conductor_subs_x)))\n",
    "\n",
    "print (\"E_bad_conductor_y_fun(x) =\")\n",
    "E_bad_conductor_y_fun(x) = eq_rot_H_bad_conductor_y_subs_solve[0].rhs()\n",
    "print(E_bad_conductor_y_fun(x))\n",
    "display(Math(latex(E_bad_conductor_y_fun(x))))\n",
    "\n",
    "print (\"H_bad_conductor_subs_fun_x (x) =\")\n",
    "H_bad_conductor_subs_fun_x = H_bad_conductor_subs_x.\\\n",
    "    substitute_function(E_bad_conductor_y, E_bad_conductor_y_fun)\n",
    "print (H_bad_conductor_subs_fun_x)\n",
    "display(Math(latex(H_bad_conductor_subs_fun_x)))\n",
    "\n",
    "print(E_bad_conductor_sol_z(x))\n",
    "print (\"H_bad_conductor_subs_fun_sol_x (x) =\")\n",
    "H_bad_conductor_subs_fun_sol_x = H_bad_conductor_subs_fun_x.\\\n",
    "    substitute_function(E_bad_conductor_z, E_bad_conductor_sol_z). \\\n",
    "    substitute_function(E_bad_conductor_x, E_bad_conductor_sol_x). \\\n",
    "    subs(eqEz_0, eqEy_0).full_simplify()\n",
    "print (H_bad_conductor_subs_fun_sol_x)\n",
    "display(Math(latex(H_bad_conductor_subs_fun_sol_x)))"
   ]
  },
  {
   "cell_type": "code",
   "execution_count": 45,
   "metadata": {},
   "outputs": [
    {
     "name": "stdout",
     "output_type": "stream",
     "text": [
      "eq_rot_H_inner_vacuum_y (-I*k_z*E_inner_vacuum_y(x) + I*k_y*E_inner_vacuum_z(x))*c*k_z/omega - sqrt(-k^2 + kappa_vacuum^2)*(-I*k_y*E_inner_vacuum_x(x) + I*sqrt(-k^2 + kappa_vacuum^2)*E_inner_vacuum_y(x))*c/omega == -I*omega*E_inner_vacuum_y(x)/c\n",
      "eq_rot_H_bad_conductor_y (-I*k_z*E_bad_conductor_y(x) + I*k_y*E_bad_conductor_z(x))*c*k_z/(mu*omega) - sqrt(-k^2 + kappa^2)*(-I*k_y*E_bad_conductor_x(x) + I*sqrt(-k^2 + kappa^2)*E_bad_conductor_y(x))*c/(mu*omega) == -I*epsilon*omega*E_bad_conductor_y(x)/c\n",
      "\n",
      "\n",
      "eq_rot_H_inner_vacuum_y_subs_solve (E_y) = (c^2*k_y*k_z*E_inner_vacuum_z(x) + sqrt(-k^2 + kappa_vacuum^2)*c^2*k_y*E_inner_vacuum_x(x))/(c^2*k_z^2 + c^2*kappa_vacuum^2 - (c^2 + 1)*k^2)\n",
      "eq_rot_H_bad_conductor_y (E_y) = (c^2*k_y*k_z*E_bad_conductor_z(x) + sqrt(-k^2 + kappa^2)*c^2*k_y*E_bad_conductor_x(x))/(c^2*k_z^2 + c^2*kappa^2 - (c^2 + 1)*k^2)\n",
      "\n",
      "\n"
     ]
    },
    {
     "data": {
      "text/latex": [
       "$\\displaystyle \\frac{c^{2} k_{y} k_{z} E_{{\\rm inner}_{{\\rm vacuum}_{z}}}\\left(x\\right) + \\sqrt{-k^{2} + \\kappa_{\\mathit{vacuum}}^{2}} c^{2} k_{y} E_{{\\rm inner}_{{\\rm vacuum}_{x}}}\\left(x\\right)}{c^{2} k_{z}^{2} + c^{2} \\kappa_{\\mathit{vacuum}}^{2} - {\\left(c^{2} + 1\\right)} k^{2}}$"
      ],
      "text/plain": [
       "<IPython.core.display.Math object>"
      ]
     },
     "metadata": {},
     "output_type": "display_data"
    },
    {
     "data": {
      "text/latex": [
       "$\\displaystyle \\frac{c^{2} k_{y} k_{z} E_{{\\rm bad}_{{\\rm conductor}_{z}}}\\left(x\\right) + \\sqrt{-k^{2} + \\kappa^{2}} c^{2} k_{y} E_{{\\rm bad}_{{\\rm conductor}_{x}}}\\left(x\\right)}{c^{2} k_{z}^{2} + c^{2} \\kappa^{2} - {\\left(c^{2} + 1\\right)} k^{2}}$"
      ],
      "text/plain": [
       "<IPython.core.display.Math object>"
      ]
     },
     "metadata": {},
     "output_type": "display_data"
    },
    {
     "name": "stdout",
     "output_type": "stream",
     "text": [
      "H_inner_vacuum_subs_x (x) =\n",
      "-I*(-I*k_z*E_inner_vacuum_y(x) + I*k_y*E_inner_vacuum_z(x))*c/k\n"
     ]
    },
    {
     "data": {
      "text/latex": [
       "$\\displaystyle -\\frac{i \\, {\\left(-i \\, k_{z} E_{{\\rm inner}_{{\\rm vacuum}_{y}}}\\left(x\\right) + i \\, k_{y} E_{{\\rm inner}_{{\\rm vacuum}_{z}}}\\left(x\\right)\\right)} c}{k}$"
      ],
      "text/plain": [
       "<IPython.core.display.Math object>"
      ]
     },
     "metadata": {},
     "output_type": "display_data"
    },
    {
     "name": "stdout",
     "output_type": "stream",
     "text": [
      "H_bad_conductor_subs_x (x) =\n",
      "-I*sqrt(epsilon*mu)*(-I*k_z*E_bad_conductor_y(x) + I*k_y*E_bad_conductor_z(x))*c/(k*mu)\n"
     ]
    },
    {
     "data": {
      "text/latex": [
       "$\\displaystyle -\\frac{i \\, \\sqrt{\\epsilon \\mu} {\\left(-i \\, k_{z} E_{{\\rm bad}_{{\\rm conductor}_{y}}}\\left(x\\right) + i \\, k_{y} E_{{\\rm bad}_{{\\rm conductor}_{z}}}\\left(x\\right)\\right)} c}{k \\mu}$"
      ],
      "text/plain": [
       "<IPython.core.display.Math object>"
      ]
     },
     "metadata": {},
     "output_type": "display_data"
    },
    {
     "name": "stdout",
     "output_type": "stream",
     "text": [
      "E_inner_vacuum_y_fun(x) =\n",
      "(c^2*k_y*k_z*E_inner_vacuum_z(x) + sqrt(-k^2 + kappa_vacuum^2)*c^2*k_y*E_inner_vacuum_x(x))/(c^2*k_z^2 + c^2*kappa_vacuum^2 - (c^2 + 1)*k^2)\n"
     ]
    },
    {
     "data": {
      "text/latex": [
       "$\\displaystyle \\frac{c^{2} k_{y} k_{z} E_{{\\rm inner}_{{\\rm vacuum}_{z}}}\\left(x\\right) + \\sqrt{-k^{2} + \\kappa_{\\mathit{vacuum}}^{2}} c^{2} k_{y} E_{{\\rm inner}_{{\\rm vacuum}_{x}}}\\left(x\\right)}{c^{2} k_{z}^{2} + c^{2} \\kappa_{\\mathit{vacuum}}^{2} - {\\left(c^{2} + 1\\right)} k^{2}}$"
      ],
      "text/plain": [
       "<IPython.core.display.Math object>"
      ]
     },
     "metadata": {},
     "output_type": "display_data"
    },
    {
     "name": "stdout",
     "output_type": "stream",
     "text": [
      "E_bad_conductor_y_fun(x) =\n",
      "(c^2*k_y*k_z*E_bad_conductor_z(x) + sqrt(-k^2 + kappa^2)*c^2*k_y*E_bad_conductor_x(x))/(c^2*k_z^2 + c^2*kappa^2 - (c^2 + 1)*k^2)\n"
     ]
    },
    {
     "data": {
      "text/latex": [
       "$\\displaystyle \\frac{c^{2} k_{y} k_{z} E_{{\\rm bad}_{{\\rm conductor}_{z}}}\\left(x\\right) + \\sqrt{-k^{2} + \\kappa^{2}} c^{2} k_{y} E_{{\\rm bad}_{{\\rm conductor}_{x}}}\\left(x\\right)}{c^{2} k_{z}^{2} + c^{2} \\kappa^{2} - {\\left(c^{2} + 1\\right)} k^{2}}$"
      ],
      "text/plain": [
       "<IPython.core.display.Math object>"
      ]
     },
     "metadata": {},
     "output_type": "display_data"
    },
    {
     "name": "stdout",
     "output_type": "stream",
     "text": [
      "H_inner_vacuum_subs_fun_x (x) =\n",
      "-I*(I*k_y*E_inner_vacuum_z(x) - I*(c^2*k_y*k_z*E_inner_vacuum_z(x) + sqrt(-k^2 + kappa_vacuum^2)*c^2*k_y*E_inner_vacuum_x(x))*k_z/(c^2*k_z^2 + c^2*kappa_vacuum^2 - (c^2 + 1)*k^2))*c/k\n"
     ]
    },
    {
     "data": {
      "text/latex": [
       "$\\displaystyle -\\frac{i \\, {\\left(i \\, k_{y} E_{{\\rm inner}_{{\\rm vacuum}_{z}}}\\left(x\\right) - \\frac{i \\, {\\left(c^{2} k_{y} k_{z} E_{{\\rm inner}_{{\\rm vacuum}_{z}}}\\left(x\\right) + \\sqrt{-k^{2} + \\kappa_{\\mathit{vacuum}}^{2}} c^{2} k_{y} E_{{\\rm inner}_{{\\rm vacuum}_{x}}}\\left(x\\right)\\right)} k_{z}}{c^{2} k_{z}^{2} + c^{2} \\kappa_{\\mathit{vacuum}}^{2} - {\\left(c^{2} + 1\\right)} k^{2}}\\right)} c}{k}$"
      ],
      "text/plain": [
       "<IPython.core.display.Math object>"
      ]
     },
     "metadata": {},
     "output_type": "display_data"
    },
    {
     "name": "stdout",
     "output_type": "stream",
     "text": [
      "H_bad_conductor_subs_fun_x (x) =\n",
      "-I*sqrt(epsilon*mu)*(I*k_y*E_bad_conductor_z(x) - I*(c^2*k_y*k_z*E_bad_conductor_z(x) + sqrt(-k^2 + kappa^2)*c^2*k_y*E_bad_conductor_x(x))*k_z/(c^2*k_z^2 + c^2*kappa^2 - (c^2 + 1)*k^2))*c/(k*mu)\n"
     ]
    },
    {
     "data": {
      "text/latex": [
       "$\\displaystyle -\\frac{i \\, \\sqrt{\\epsilon \\mu} {\\left(i \\, k_{y} E_{{\\rm bad}_{{\\rm conductor}_{z}}}\\left(x\\right) - \\frac{i \\, {\\left(c^{2} k_{y} k_{z} E_{{\\rm bad}_{{\\rm conductor}_{z}}}\\left(x\\right) + \\sqrt{-k^{2} + \\kappa^{2}} c^{2} k_{y} E_{{\\rm bad}_{{\\rm conductor}_{x}}}\\left(x\\right)\\right)} k_{z}}{c^{2} k_{z}^{2} + c^{2} \\kappa^{2} - {\\left(c^{2} + 1\\right)} k^{2}}\\right)} c}{k \\mu}$"
      ],
      "text/plain": [
       "<IPython.core.display.Math object>"
      ]
     },
     "metadata": {},
     "output_type": "display_data"
    },
    {
     "name": "stdout",
     "output_type": "stream",
     "text": [
      "H_inner_vacuum_subs_fun_sol_x (x) =\n",
      "-sqrt(-k^2 + kappa_vacuum^2)*A1_x*c^3*k_y*k_z*e^(-I*sqrt(-k^2 + kappa_vacuum^2)*x)/(c^2*k*k_z^2 + c^2*k*kappa_vacuum^2 - (c^2 + 1)*k^3)\n"
     ]
    },
    {
     "data": {
      "text/latex": [
       "$\\displaystyle -\\frac{\\sqrt{-k^{2} + \\kappa_{\\mathit{vacuum}}^{2}} \\mathit{A1}_{x} c^{3} k_{y} k_{z} e^{\\left(-i \\, \\sqrt{-k^{2} + \\kappa_{\\mathit{vacuum}}^{2}} x\\right)}}{c^{2} k k_{z}^{2} + c^{2} k \\kappa_{\\mathit{vacuum}}^{2} - {\\left(c^{2} + 1\\right)} k^{3}}$"
      ],
      "text/plain": [
       "<IPython.core.display.Math object>"
      ]
     },
     "metadata": {},
     "output_type": "display_data"
    },
    {
     "name": "stdout",
     "output_type": "stream",
     "text": [
      "H_bad_conductor_subs_fun_sol_x (x) =\n",
      "-sqrt(-k^2 + kappa^2)*sqrt(epsilon*mu)*A1_x*c^3*k_y*k_z*e^(I*sqrt(-k^2 + kappa^2)*x)/((c^2*k*k_z^2 + c^2*k*kappa^2 - (c^2 + 1)*k^3)*mu)\n"
     ]
    },
    {
     "data": {
      "text/latex": [
       "$\\displaystyle -\\frac{\\sqrt{-k^{2} + \\kappa^{2}} \\sqrt{\\epsilon \\mu} \\mathit{A1}_{x} c^{3} k_{y} k_{z} e^{\\left(i \\, \\sqrt{-k^{2} + \\kappa^{2}} x\\right)}}{{\\left(c^{2} k k_{z}^{2} + c^{2} k \\kappa^{2} - {\\left(c^{2} + 1\\right)} k^{3}\\right)} \\mu}$"
      ],
      "text/plain": [
       "<IPython.core.display.Math object>"
      ]
     },
     "metadata": {},
     "output_type": "display_data"
    }
   ],
   "source": [
    "print(\"eq_rot_H_inner_vacuum_y\", eq_rot_H_inner_vacuum_y)\n",
    "print(\"eq_rot_H_bad_conductor_y\", eq_rot_H_bad_conductor_y)\n",
    "\n",
    "print(\"\")\n",
    "print(\"\")\n",
    "\n",
    "eq_rot_H_inner_vacuum_y_subs       = eq_rot_H_inner_vacuum_y.subs(omega==k/sqrt(epsilon_0*mu_0))\n",
    "eq_rot_H_inner_vacuum_y_subs_solve = solve(eq_rot_H_inner_vacuum_y_subs, E_inner_vacuum_y(x))[0].rhs().full_simplify()\n",
    "\n",
    "eq_rot_H_bad_conductor_y_subs       = eq_rot_H_bad_conductor_y.subs(omega==k/sqrt(epsilon*mu))\n",
    "eq_rot_H_bad_conductor_y_subs_solve = solve(eq_rot_H_bad_conductor_y_subs, E_bad_conductor_y(x))[0].rhs().full_simplify()\n",
    "\n",
    "print (\"eq_rot_H_inner_vacuum_y_subs_solve (E_y) =\", eq_rot_H_inner_vacuum_y_subs_solve)\n",
    "print (\"eq_rot_H_bad_conductor_y (E_y) =\",           eq_rot_H_bad_conductor_y_subs_solve)\n",
    "\n",
    "print(\"\")\n",
    "print(\"\")\n",
    "\n",
    "display(Math(latex(eq_rot_H_inner_vacuum_y_subs_solve)))\n",
    "display(Math(latex(eq_rot_H_bad_conductor_y_subs_solve)))\n",
    "\n",
    "print (\"H_inner_vacuum_subs_x (x) =\")\n",
    "H_inner_vacuum_subs_x = H_inner_vacuum_x.subs(omega==k/sqrt(epsilon_0*mu_0))\n",
    "print             (H_inner_vacuum_subs_x)\n",
    "display(Math(latex(H_inner_vacuum_subs_x)))\n",
    "\n",
    "print (\"H_bad_conductor_subs_x (x) =\")\n",
    "H_bad_conductor_subs_x = H_bad_conductor_x.subs(omega==k/sqrt(epsilon*mu))\n",
    "print(H_bad_conductor_subs_x)\n",
    "display(Math(latex(H_bad_conductor_subs_x)))\n",
    "\n",
    "\n",
    "\n",
    "print (\"E_inner_vacuum_y_fun(x) =\")\n",
    "E_inner_vacuum_y_fun(x) = eq_rot_H_inner_vacuum_y_subs_solve\n",
    "print(E_inner_vacuum_y_fun(x))\n",
    "display(Math(latex(E_inner_vacuum_y_fun(x))))\n",
    "\n",
    "print (\"E_bad_conductor_y_fun(x) =\")\n",
    "E_bad_conductor_y_fun(x) = eq_rot_H_bad_conductor_y_subs_solve\n",
    "print(E_bad_conductor_y_fun(x))\n",
    "display(Math(latex(E_bad_conductor_y_fun(x))))\n",
    "\n",
    "\n",
    "\n",
    "print (\"H_inner_vacuum_subs_fun_x (x) =\")\n",
    "H_inner_vacuum_subs_fun_x  = H_inner_vacuum_subs_x.substitute_function (E_inner_vacuum_y, E_inner_vacuum_y_fun)\n",
    "print (H_inner_vacuum_subs_fun_x)\n",
    "display(Math(latex(H_inner_vacuum_subs_fun_x)))\n",
    "\n",
    "print (\"H_bad_conductor_subs_fun_x (x) =\")\n",
    "H_bad_conductor_subs_fun_x = H_bad_conductor_subs_x.substitute_function(E_bad_conductor_y, E_bad_conductor_y_fun)\n",
    "print (H_bad_conductor_subs_fun_x)\n",
    "display(Math(latex(H_bad_conductor_subs_fun_x)))\n",
    "\n",
    "\n",
    "\n",
    "print (\"H_inner_vacuum_subs_fun_sol_x (x) =\")\n",
    "H_inner_vacuum_subs_fun_sol_x = H_inner_vacuum_subs_fun_x.\\\n",
    "    substitute_function(E_inner_vacuum_z, E_inner_vacuum_sol_z). \\\n",
    "    substitute_function(E_inner_vacuum_x, E_inner_vacuum_sol_x). \\\n",
    "    subs(eqEz_0, eqEy_0).full_simplify()\n",
    "print (H_inner_vacuum_subs_fun_sol_x)\n",
    "display(Math(latex(H_inner_vacuum_subs_fun_sol_x)))\n",
    "\n",
    "print (\"H_bad_conductor_subs_fun_sol_x (x) =\")\n",
    "H_bad_conductor_subs_fun_sol_x = H_bad_conductor_subs_fun_x.\\\n",
    "    substitute_function(E_bad_conductor_z, E_bad_conductor_sol_z). \\\n",
    "    substitute_function(E_bad_conductor_x, E_bad_conductor_sol_x). \\\n",
    "    subs(eqEz_0, eqEy_0).full_simplify()\n",
    "print (H_bad_conductor_subs_fun_sol_x)\n",
    "display(Math(latex(H_bad_conductor_subs_fun_sol_x)))"
   ]
  },
  {
   "cell_type": "code",
   "execution_count": 47,
   "metadata": {},
   "outputs": [
    {
     "name": "stdout",
     "output_type": "stream",
     "text": [
      "boundary_H_x =\n"
     ]
    },
    {
     "data": {
      "text/latex": [
       "$\\displaystyle -\\frac{\\sqrt{-k^{2} + \\kappa_{\\mathit{vacuum}}^{2}}}{c^{2} k k_{z}^{2} + c^{2} k \\kappa_{\\mathit{vacuum}}^{2} - {\\left(c^{2} + 1\\right)} k^{3}} = -\\frac{\\sqrt{-k^{2} + \\kappa^{2}} \\sqrt{\\epsilon \\mu}}{{\\left(c^{2} k k_{z}^{2} + c^{2} k \\kappa^{2} - {\\left(c^{2} + 1\\right)} k^{3}\\right)} \\mu}$"
      ],
      "text/plain": [
       "<IPython.core.display.Math object>"
      ]
     },
     "metadata": {},
     "output_type": "display_data"
    }
   ],
   "source": [
    "print (\"boundary_H_x =\")\n",
    "mult = c^3*A1_x*k_y*k_z\n",
    "boundary_H_x = H_inner_vacuum_subs_fun_sol_x(x = 0)/mult == H_bad_conductor_subs_fun_sol_x(x = 0)/mult\n",
    "display(Math(latex(boundary_H_x)))"
   ]
  },
  {
   "cell_type": "code",
   "execution_count": 48,
   "metadata": {},
   "outputs": [
    {
     "name": "stdout",
     "output_type": "stream",
     "text": [
      "boundary_H_x =\n"
     ]
    },
    {
     "data": {
      "text/latex": [
       "$\\displaystyle -\\frac{\\sqrt{-k^{2} + \\kappa_{\\mathit{vacuum}}^{2}}}{c^{2} k_{z}^{2} + c^{2} \\kappa_{\\mathit{vacuum}}^{2} - {\\left(c^{2} + 1\\right)} k^{2}} = -\\frac{\\sqrt{-k^{2} + \\kappa^{2}} \\sqrt{\\epsilon \\mu}}{{\\left(c^{2} k_{z}^{2} + c^{2} \\kappa^{2} - {\\left(c^{2} + 1\\right)} k^{2}\\right)} \\mu}$"
      ],
      "text/plain": [
       "<IPython.core.display.Math object>"
      ]
     },
     "metadata": {},
     "output_type": "display_data"
    }
   ],
   "source": [
    "print (\"boundary_H_x =\")\n",
    "mult = k\n",
    "eq_boundary_H_x = (boundary_H_x.lhs()*mult).full_simplify() == (boundary_H_x.rhs()*mult).full_simplify()\n",
    "display(Math(latex(eq_boundary_H_x)))"
   ]
  },
  {
   "cell_type": "code",
   "execution_count": 49,
   "metadata": {},
   "outputs": [
    {
     "name": "stdout",
     "output_type": "stream",
     "text": [
      "boundary_H_x =\n"
     ]
    },
    {
     "data": {
      "text/latex": [
       "$\\displaystyle -\\frac{\\sqrt{-k_{z}^{2} + \\kappa_{\\mathit{vacuum}}^{2}}}{c^{2} k_{z}^{2} + c^{2} \\kappa_{\\mathit{vacuum}}^{2} - {\\left(c^{2} + 1\\right)} k_{z}^{2}} = -\\frac{\\sqrt{-k_{z}^{2} + \\kappa^{2}} \\sqrt{\\epsilon \\mu}}{{\\left(c^{2} k_{z}^{2} + c^{2} \\kappa^{2} - {\\left(c^{2} + 1\\right)} k_{z}^{2}\\right)} \\mu}$"
      ],
      "text/plain": [
       "<IPython.core.display.Math object>"
      ]
     },
     "metadata": {},
     "output_type": "display_data"
    }
   ],
   "source": [
    "print (\"boundary_H_x =\")\n",
    "mult = k\n",
    "eq_boundary_H_x_k_z = eq_boundary_H_x.subs(k == k_z)\n",
    "display(Math(latex(eq_boundary_H_x_k_z)))"
   ]
  },
  {
   "cell_type": "code",
   "execution_count": 50,
   "metadata": {},
   "outputs": [
    {
     "data": {
      "text/latex": [
       "$\\displaystyle -\\sqrt{-k_{z}^{2} + \\kappa_{\\mathit{vacuum}}^{2}}$"
      ],
      "text/plain": [
       "<IPython.core.display.Math object>"
      ]
     },
     "metadata": {},
     "output_type": "display_data"
    },
    {
     "data": {
      "text/latex": [
       "$\\displaystyle -\\sqrt{-k_{z}^{2} + \\kappa^{2}} \\sqrt{\\epsilon \\mu}$"
      ],
      "text/plain": [
       "<IPython.core.display.Math object>"
      ]
     },
     "metadata": {},
     "output_type": "display_data"
    },
    {
     "data": {
      "text/latex": [
       "$\\displaystyle c^{2} \\kappa_{\\mathit{vacuum}}^{2} - k_{z}^{2}$"
      ],
      "text/plain": [
       "<IPython.core.display.Math object>"
      ]
     },
     "metadata": {},
     "output_type": "display_data"
    },
    {
     "data": {
      "text/latex": [
       "$\\displaystyle c^{2} \\kappa^{2} \\mu - k_{z}^{2} \\mu$"
      ],
      "text/plain": [
       "<IPython.core.display.Math object>"
      ]
     },
     "metadata": {},
     "output_type": "display_data"
    }
   ],
   "source": [
    "lhs_num = eq_boundary_H_x_k_z.lhs().numerator()\n",
    "rhs_num = eq_boundary_H_x_k_z.rhs().numerator()\n",
    "lhs_den = eq_boundary_H_x_k_z.lhs().denominator().expand()\n",
    "rhs_den = eq_boundary_H_x_k_z.rhs().denominator().expand()\n",
    "\n",
    "display(Math(latex(lhs_num)))\n",
    "display(Math(latex(rhs_num)))\n",
    "display(Math(latex(lhs_den)))\n",
    "display(Math(latex(rhs_den)))"
   ]
  },
  {
   "cell_type": "code",
   "execution_count": 51,
   "metadata": {},
   "outputs": [
    {
     "data": {
      "text/latex": [
       "$\\displaystyle -\\frac{k_{z}^{2} - \\kappa_{\\mathit{vacuum}}^{2}}{{\\left(c^{2} \\kappa_{\\mathit{vacuum}}^{2} - k_{z}^{2}\\right)}^{2}} = -\\frac{{\\left(k_{z}^{2} - \\kappa^{2}\\right)} \\epsilon \\mu}{{\\left(c^{2} \\kappa^{2} \\mu - k_{z}^{2} \\mu\\right)}^{2}}$"
      ],
      "text/plain": [
       "<IPython.core.display.Math object>"
      ]
     },
     "metadata": {},
     "output_type": "display_data"
    }
   ],
   "source": [
    "eq_boundary_H_x_k_z_2 = (lhs_num / lhs_den)^2 == (rhs_num / rhs_den)^2\n",
    "display(Math(latex(eq_boundary_H_x_k_z_2)))"
   ]
  },
  {
   "cell_type": "code",
   "execution_count": 54,
   "metadata": {},
   "outputs": [
    {
     "data": {
      "text/latex": [
       "$\\displaystyle -\\frac{k_{z}^{2} - \\frac{\\omega^{2}}{c^{2}}}{{\\left(k_{z}^{2} - \\omega^{2}\\right)}^{2}} = -\\frac{{\\left(-\\frac{4 i \\, \\pi \\mu \\omega \\sigma}{c} + k_{z}^{2} - \\frac{\\epsilon \\mu \\omega^{2}}{c^{2}}\\right)} \\epsilon \\mu}{{\\left({\\left(\\frac{4 i \\, \\pi \\mu \\omega \\sigma}{c} + \\frac{\\epsilon \\mu \\omega^{2}}{c^{2}}\\right)} c^{2} \\mu - k_{z}^{2} \\mu\\right)}^{2}}$"
      ],
      "text/plain": [
       "<IPython.core.display.Math object>"
      ]
     },
     "metadata": {},
     "output_type": "display_data"
    }
   ],
   "source": [
    "#eq_kappa              = kappa^2 == mu * epsilon * omega^2 / c^2 + I*omega*sigma*mu*4*pi/c\n",
    "#eq_kappa_inner_vacuum = kappa_vacuum^2 == omega^2 / c^2\n",
    "\n",
    "eq_boundary_H_x_k_z_2_subs = eq_boundary_H_x_k_z_2.subs(eq_kappa, eq_kappa_inner_vacuum)\n",
    "display(Math(latex(eq_boundary_H_x_k_z_2_subs)))"
   ]
  },
  {
   "cell_type": "code",
   "execution_count": 55,
   "metadata": {},
   "outputs": [
    {
     "ename": "RuntimeError",
     "evalue": "ECL says: Console interrupt.",
     "output_type": "error",
     "traceback": [
      "\u001b[0;31m---------------------------------------------------------------------------\u001b[0m",
      "\u001b[0;31mRuntimeError\u001b[0m                              Traceback (most recent call last)",
      "\u001b[0;32m<ipython-input-55-c1b98eea910e>\u001b[0m in \u001b[0;36m<module>\u001b[0;34m\u001b[0m\n\u001b[0;32m----> 1\u001b[0;31m \u001b[0msolve\u001b[0m\u001b[0;34m(\u001b[0m\u001b[0meq_boundary_H_x_k_z_2_subs\u001b[0m\u001b[0;34m,\u001b[0m \u001b[0mk_z\u001b[0m\u001b[0;34m)\u001b[0m\u001b[0;34m\u001b[0m\u001b[0;34m\u001b[0m\u001b[0m\n\u001b[0m",
      "\u001b[0;32m/usr3/articles/sagemath_docker_build/sage/local/lib/python3.9/site-packages/sage/symbolic/relation.py\u001b[0m in \u001b[0;36msolve\u001b[0;34m(f, *args, **kwds)\u001b[0m\n\u001b[1;32m   1050\u001b[0m \u001b[0;34m\u001b[0m\u001b[0m\n\u001b[1;32m   1051\u001b[0m     \u001b[0;32mif\u001b[0m \u001b[0mis_Expression\u001b[0m\u001b[0;34m(\u001b[0m\u001b[0mf\u001b[0m\u001b[0;34m)\u001b[0m\u001b[0;34m:\u001b[0m \u001b[0;31m# f is a single expression\u001b[0m\u001b[0;34m\u001b[0m\u001b[0;34m\u001b[0m\u001b[0m\n\u001b[0;32m-> 1052\u001b[0;31m         \u001b[0;32mreturn\u001b[0m \u001b[0m_solve_expression\u001b[0m\u001b[0;34m(\u001b[0m\u001b[0mf\u001b[0m\u001b[0;34m,\u001b[0m \u001b[0mx\u001b[0m\u001b[0;34m,\u001b[0m \u001b[0mexplicit_solutions\u001b[0m\u001b[0;34m,\u001b[0m \u001b[0mmultiplicities\u001b[0m\u001b[0;34m,\u001b[0m \u001b[0mto_poly_solve\u001b[0m\u001b[0;34m,\u001b[0m \u001b[0msolution_dict\u001b[0m\u001b[0;34m,\u001b[0m \u001b[0malgorithm\u001b[0m\u001b[0;34m,\u001b[0m \u001b[0mdomain\u001b[0m\u001b[0;34m)\u001b[0m\u001b[0;34m\u001b[0m\u001b[0;34m\u001b[0m\u001b[0m\n\u001b[0m\u001b[1;32m   1053\u001b[0m \u001b[0;34m\u001b[0m\u001b[0m\n\u001b[1;32m   1054\u001b[0m     \u001b[0;32mif\u001b[0m \u001b[0;32mnot\u001b[0m \u001b[0misinstance\u001b[0m\u001b[0;34m(\u001b[0m\u001b[0mf\u001b[0m\u001b[0;34m,\u001b[0m \u001b[0;34m(\u001b[0m\u001b[0mlist\u001b[0m\u001b[0;34m,\u001b[0m \u001b[0mtuple\u001b[0m\u001b[0;34m)\u001b[0m\u001b[0;34m)\u001b[0m\u001b[0;34m:\u001b[0m\u001b[0;34m\u001b[0m\u001b[0;34m\u001b[0m\u001b[0m\n",
      "\u001b[0;32m/usr3/articles/sagemath_docker_build/sage/local/lib/python3.9/site-packages/sage/symbolic/relation.py\u001b[0m in \u001b[0;36m_solve_expression\u001b[0;34m(f, x, explicit_solutions, multiplicities, to_poly_solve, solution_dict, algorithm, domain)\u001b[0m\n\u001b[1;32m   1326\u001b[0m             \u001b[0;32mreturn\u001b[0m \u001b[0mans\u001b[0m\u001b[0;34m\u001b[0m\u001b[0;34m\u001b[0m\u001b[0m\n\u001b[1;32m   1327\u001b[0m \u001b[0;34m\u001b[0m\u001b[0m\n\u001b[0;32m-> 1328\u001b[0;31m     \u001b[0mX\u001b[0m \u001b[0;34m=\u001b[0m \u001b[0mstring_to_list_of_solutions\u001b[0m\u001b[0;34m(\u001b[0m\u001b[0ms\u001b[0m\u001b[0;34m)\u001b[0m \u001b[0;31m# our initial list of solutions\u001b[0m\u001b[0;34m\u001b[0m\u001b[0;34m\u001b[0m\u001b[0m\n\u001b[0m\u001b[1;32m   1329\u001b[0m \u001b[0;34m\u001b[0m\u001b[0m\n\u001b[1;32m   1330\u001b[0m     \u001b[0;32mif\u001b[0m \u001b[0mmultiplicities\u001b[0m\u001b[0;34m:\u001b[0m \u001b[0;31m# to_poly_solve does not return multiplicities, so in this case we end here\u001b[0m\u001b[0;34m\u001b[0m\u001b[0;34m\u001b[0m\u001b[0m\n",
      "\u001b[0;32m/usr3/articles/sagemath_docker_build/sage/local/lib/python3.9/site-packages/sage/symbolic/relation.py\u001b[0m in \u001b[0;36mstring_to_list_of_solutions\u001b[0;34m(s)\u001b[0m\n\u001b[1;32m    574\u001b[0m     \u001b[0;32mfrom\u001b[0m \u001b[0msage\u001b[0m\u001b[0;34m.\u001b[0m\u001b[0mstructure\u001b[0m\u001b[0;34m.\u001b[0m\u001b[0msequence\u001b[0m \u001b[0;32mimport\u001b[0m \u001b[0mSequence\u001b[0m\u001b[0;34m\u001b[0m\u001b[0;34m\u001b[0m\u001b[0m\n\u001b[1;32m    575\u001b[0m     \u001b[0;32mfrom\u001b[0m \u001b[0msage\u001b[0m\u001b[0;34m.\u001b[0m\u001b[0mcalculus\u001b[0m\u001b[0;34m.\u001b[0m\u001b[0mcalculus\u001b[0m \u001b[0;32mimport\u001b[0m \u001b[0msymbolic_expression_from_maxima_string\u001b[0m\u001b[0;34m\u001b[0m\u001b[0;34m\u001b[0m\u001b[0m\n\u001b[0;32m--> 576\u001b[0;31m     \u001b[0mv\u001b[0m \u001b[0;34m=\u001b[0m \u001b[0msymbolic_expression_from_maxima_string\u001b[0m\u001b[0;34m(\u001b[0m\u001b[0ms\u001b[0m\u001b[0;34m,\u001b[0m \u001b[0mequals_sub\u001b[0m\u001b[0;34m=\u001b[0m\u001b[0;32mTrue\u001b[0m\u001b[0;34m)\u001b[0m\u001b[0;34m\u001b[0m\u001b[0;34m\u001b[0m\u001b[0m\n\u001b[0m\u001b[1;32m    577\u001b[0m     \u001b[0;32mreturn\u001b[0m \u001b[0mSequence\u001b[0m\u001b[0;34m(\u001b[0m\u001b[0mv\u001b[0m\u001b[0;34m,\u001b[0m \u001b[0muniverse\u001b[0m\u001b[0;34m=\u001b[0m\u001b[0mObjects\u001b[0m\u001b[0;34m(\u001b[0m\u001b[0;34m)\u001b[0m\u001b[0;34m,\u001b[0m \u001b[0mcr_str\u001b[0m\u001b[0;34m=\u001b[0m\u001b[0;32mTrue\u001b[0m\u001b[0;34m)\u001b[0m\u001b[0;34m\u001b[0m\u001b[0;34m\u001b[0m\u001b[0m\n\u001b[1;32m    578\u001b[0m \u001b[0;34m\u001b[0m\u001b[0m\n",
      "\u001b[0;32m/usr3/articles/sagemath_docker_build/sage/local/lib/python3.9/site-packages/sage/calculus/calculus.py\u001b[0m in \u001b[0;36msymbolic_expression_from_maxima_string\u001b[0;34m(x, equals_sub, maxima)\u001b[0m\n\u001b[1;32m   2255\u001b[0m     \u001b[0;32mif\u001b[0m \u001b[0;32mnot\u001b[0m \u001b[0mlen\u001b[0m\u001b[0;34m(\u001b[0m\u001b[0mx\u001b[0m\u001b[0;34m)\u001b[0m\u001b[0;34m:\u001b[0m\u001b[0;34m\u001b[0m\u001b[0;34m\u001b[0m\u001b[0m\n\u001b[1;32m   2256\u001b[0m         \u001b[0;32mraise\u001b[0m \u001b[0mRuntimeError\u001b[0m\u001b[0;34m(\u001b[0m\u001b[0;34m\"invalid symbolic expression -- ''\"\u001b[0m\u001b[0;34m)\u001b[0m\u001b[0;34m\u001b[0m\u001b[0;34m\u001b[0m\u001b[0m\n\u001b[0;32m-> 2257\u001b[0;31m     \u001b[0mmaxima\u001b[0m\u001b[0;34m.\u001b[0m\u001b[0mset\u001b[0m\u001b[0;34m(\u001b[0m\u001b[0;34m'_tmp_'\u001b[0m\u001b[0;34m,\u001b[0m \u001b[0mx\u001b[0m\u001b[0;34m)\u001b[0m\u001b[0;34m\u001b[0m\u001b[0;34m\u001b[0m\u001b[0m\n\u001b[0m\u001b[1;32m   2258\u001b[0m \u001b[0;34m\u001b[0m\u001b[0m\n\u001b[1;32m   2259\u001b[0m     \u001b[0;31m# This is inefficient since it so rarely is needed:\u001b[0m\u001b[0;34m\u001b[0m\u001b[0;34m\u001b[0m\u001b[0;34m\u001b[0m\u001b[0m\n",
      "\u001b[0;32m/usr3/articles/sagemath_docker_build/sage/local/lib/python3.9/site-packages/sage/interfaces/maxima_lib.py\u001b[0m in \u001b[0;36mset\u001b[0;34m(self, var, value)\u001b[0m\n\u001b[1;32m    510\u001b[0m             \u001b[0;32mraise\u001b[0m \u001b[0mTypeError\u001b[0m\u001b[0;34m\u001b[0m\u001b[0;34m\u001b[0m\u001b[0m\n\u001b[1;32m    511\u001b[0m         \u001b[0mcmd\u001b[0m \u001b[0;34m=\u001b[0m \u001b[0;34m'%s : %s$'\u001b[0m\u001b[0;34m%\u001b[0m\u001b[0;34m(\u001b[0m\u001b[0mvar\u001b[0m\u001b[0;34m,\u001b[0m \u001b[0mvalue\u001b[0m\u001b[0;34m.\u001b[0m\u001b[0mrstrip\u001b[0m\u001b[0;34m(\u001b[0m\u001b[0;34m';'\u001b[0m\u001b[0;34m)\u001b[0m\u001b[0;34m)\u001b[0m\u001b[0;34m\u001b[0m\u001b[0;34m\u001b[0m\u001b[0m\n\u001b[0;32m--> 512\u001b[0;31m         \u001b[0mself\u001b[0m\u001b[0;34m.\u001b[0m\u001b[0meval\u001b[0m\u001b[0;34m(\u001b[0m\u001b[0mcmd\u001b[0m\u001b[0;34m)\u001b[0m\u001b[0;34m\u001b[0m\u001b[0;34m\u001b[0m\u001b[0m\n\u001b[0m\u001b[1;32m    513\u001b[0m \u001b[0;34m\u001b[0m\u001b[0m\n\u001b[1;32m    514\u001b[0m     \u001b[0;32mdef\u001b[0m \u001b[0mclear\u001b[0m\u001b[0;34m(\u001b[0m\u001b[0mself\u001b[0m\u001b[0;34m,\u001b[0m \u001b[0mvar\u001b[0m\u001b[0;34m)\u001b[0m\u001b[0;34m:\u001b[0m\u001b[0;34m\u001b[0m\u001b[0;34m\u001b[0m\u001b[0m\n",
      "\u001b[0;32m/usr3/articles/sagemath_docker_build/sage/local/lib/python3.9/site-packages/sage/interfaces/maxima_lib.py\u001b[0m in \u001b[0;36m_eval_line\u001b[0;34m(self, line, locals, reformat, **kwds)\u001b[0m\n\u001b[1;32m    456\u001b[0m                 \u001b[0mline\u001b[0m \u001b[0;34m=\u001b[0m \u001b[0mline\u001b[0m\u001b[0;34m[\u001b[0m\u001b[0mind_dollar\u001b[0m\u001b[0;34m+\u001b[0m\u001b[0;36m1\u001b[0m\u001b[0;34m:\u001b[0m\u001b[0;34m]\u001b[0m\u001b[0;34m\u001b[0m\u001b[0;34m\u001b[0m\u001b[0m\n\u001b[1;32m    457\u001b[0m                 \u001b[0;32mif\u001b[0m \u001b[0mstatement\u001b[0m\u001b[0;34m:\u001b[0m\u001b[0;34m\u001b[0m\u001b[0;34m\u001b[0m\u001b[0m\n\u001b[0;32m--> 458\u001b[0;31m                     \u001b[0mmaxima_eval\u001b[0m\u001b[0;34m(\u001b[0m\u001b[0;34m\"#$%s$\"\u001b[0m \u001b[0;34m%\u001b[0m \u001b[0mstatement\u001b[0m\u001b[0;34m)\u001b[0m\u001b[0;34m\u001b[0m\u001b[0;34m\u001b[0m\u001b[0m\n\u001b[0m\u001b[1;32m    459\u001b[0m         \u001b[0;32mif\u001b[0m \u001b[0;32mnot\u001b[0m \u001b[0mreformat\u001b[0m\u001b[0;34m:\u001b[0m\u001b[0;34m\u001b[0m\u001b[0;34m\u001b[0m\u001b[0m\n\u001b[1;32m    460\u001b[0m             \u001b[0;32mreturn\u001b[0m \u001b[0mresult\u001b[0m\u001b[0;34m\u001b[0m\u001b[0;34m\u001b[0m\u001b[0m\n",
      "\u001b[0;32m/usr3/articles/sagemath_docker_build/sage/local/lib/python3.9/site-packages/sage/libs/ecl.pyx\u001b[0m in \u001b[0;36msage.libs.ecl.EclObject.__call__ (build/cythonized/sage/libs/ecl.c:8625)\u001b[0;34m()\u001b[0m\n\u001b[1;32m    852\u001b[0m         \"\"\"\n\u001b[1;32m    853\u001b[0m         \u001b[0mlispargs\u001b[0m \u001b[0;34m=\u001b[0m \u001b[0mEclObject\u001b[0m\u001b[0;34m(\u001b[0m\u001b[0mlist\u001b[0m\u001b[0;34m(\u001b[0m\u001b[0margs\u001b[0m\u001b[0;34m)\u001b[0m\u001b[0;34m)\u001b[0m\u001b[0;34m\u001b[0m\u001b[0;34m\u001b[0m\u001b[0m\n\u001b[0;32m--> 854\u001b[0;31m         \u001b[0;32mreturn\u001b[0m \u001b[0mecl_wrap\u001b[0m\u001b[0;34m(\u001b[0m\u001b[0mecl_safe_apply\u001b[0m\u001b[0;34m(\u001b[0m\u001b[0mself\u001b[0m\u001b[0;34m.\u001b[0m\u001b[0mobj\u001b[0m\u001b[0;34m,\u001b[0m\u001b[0;34m(\u001b[0m\u001b[0;34m<\u001b[0m\u001b[0mEclObject\u001b[0m\u001b[0;34m>\u001b[0m\u001b[0mlispargs\u001b[0m\u001b[0;34m)\u001b[0m\u001b[0;34m.\u001b[0m\u001b[0mobj\u001b[0m\u001b[0;34m)\u001b[0m\u001b[0;34m)\u001b[0m\u001b[0;34m\u001b[0m\u001b[0;34m\u001b[0m\u001b[0m\n\u001b[0m\u001b[1;32m    855\u001b[0m \u001b[0;34m\u001b[0m\u001b[0m\n\u001b[1;32m    856\u001b[0m     \u001b[0;32mdef\u001b[0m \u001b[0m__richcmp__\u001b[0m\u001b[0;34m(\u001b[0m\u001b[0mleft\u001b[0m\u001b[0;34m,\u001b[0m \u001b[0mright\u001b[0m\u001b[0;34m,\u001b[0m \u001b[0mint\u001b[0m \u001b[0mop\u001b[0m\u001b[0;34m)\u001b[0m\u001b[0;34m:\u001b[0m\u001b[0;34m\u001b[0m\u001b[0;34m\u001b[0m\u001b[0m\n",
      "\u001b[0;32m/usr3/articles/sagemath_docker_build/sage/local/lib/python3.9/site-packages/sage/libs/ecl.pyx\u001b[0m in \u001b[0;36msage.libs.ecl.ecl_safe_apply (build/cythonized/sage/libs/ecl.c:5907)\u001b[0;34m()\u001b[0m\n\u001b[1;32m    363\u001b[0m \u001b[0;34m\u001b[0m\u001b[0m\n\u001b[1;32m    364\u001b[0m     \u001b[0;32mif\u001b[0m \u001b[0merror\u001b[0m \u001b[0;34m!=\u001b[0m \u001b[0mNULL\u001b[0m\u001b[0;34m:\u001b[0m\u001b[0;34m\u001b[0m\u001b[0;34m\u001b[0m\u001b[0m\n\u001b[0;32m--> 365\u001b[0;31m         raise RuntimeError(\"ECL says: {}\".format(\n\u001b[0m\u001b[1;32m    366\u001b[0m             ecl_string_to_python(error)))\n\u001b[1;32m    367\u001b[0m     \u001b[0;32melse\u001b[0m\u001b[0;34m:\u001b[0m\u001b[0;34m\u001b[0m\u001b[0;34m\u001b[0m\u001b[0m\n",
      "\u001b[0;31mRuntimeError\u001b[0m: ECL says: Console interrupt."
     ]
    }
   ],
   "source": [
    "solve(eq_boundary_H_x_k_z_2_subs, k_z)"
   ]
  },
  {
   "cell_type": "code",
   "execution_count": null,
   "metadata": {},
   "outputs": [],
   "source": [
    "def GenerateMatrix(equsys, vars):\n",
    "    A=matrix(SR, [[(equ.lhs() - equ.rhs()).coefficient(v) for v in vars] for equ in equsys])\n",
    "    return A\n",
    "\n",
    "def GenerateMatrixSubs(equsys, vars, vars_subs):\n",
    "    A=matrix(SR, [[(equ.lhs() - equ.rhs()).subs(vars_subs).coefficient(v) for v in vars] for equ in equsys])\n",
    "    return A\n",
    "\n",
    "def GenerateMatrixMult(equsys, vars):\n",
    "    A=matrix(SR, [[(equ.lhs() - equ.rhs()).coefficient(v) * v for v in vars] for equ in equsys])\n",
    "    return A\n",
    "\n",
    "def reduceDependedRows(M):\n",
    "    print (\"\")\n",
    "    print (\"M.nrows()\", M.nrows())\n",
    "    print (\"M.ncols()\", M.ncols())\n",
    "    #print (\"M.rank()\", M.rank())\n",
    "\n",
    "    M_pivot_rows = M.pivot_rows()\n",
    "    print (\"M.pivot_rows() =\", M_pivot_rows)\n",
    "\n",
    "    M_rows = M.rows()\n",
    "    #for row in M_rows:\n",
    "    #    print (\"row =\", row)\n",
    "\n",
    "    reduced_list = []\n",
    "    for r in M_pivot_rows:\n",
    "        #print (\"M_rows[\", r, \"] =\")\n",
    "        #display(Math(latex(M_rows[r])))\n",
    "        if r >= len(M_rows):\n",
    "            continue\n",
    "        reduced_list.append(M_rows[r])\n",
    "\n",
    "    reduced_M = matrix(SR, len(M_pivot_rows), M.ncols(), reduced_list)\n",
    "    #reduced_M_det = reduced_M.det()\n",
    "    #print (\"\")\n",
    "    #print(\"reduced_M.det() =\", reduced_M_det)\n",
    "    return reduced_M\n",
    "\n",
    "\n",
    "def reduceRows(M, M_pivot_rows):\n",
    "    print (\"\")\n",
    "    print (\"M.nrows()\", M.nrows())\n",
    "    print (\"M.ncols()\", M.ncols())\n",
    "    #print (\"M.rank()\", M.rank())\n",
    "\n",
    "    print (\"M.pivot_rows() =\", M_pivot_rows)\n",
    "\n",
    "    M_rows = M.rows()\n",
    "    #for row in M_rows:\n",
    "    #    print (\"row =\", row)\n",
    "\n",
    "    reduced_list = []\n",
    "    for r in M_pivot_rows:\n",
    "        #print (\"M_rows[\", r, \"] =\")\n",
    "        #display(Math(latex(M_rows[r])))\n",
    "        if r >= len(M_rows):\n",
    "            continue\n",
    "        reduced_list.append(M_rows[r])\n",
    "\n",
    "    reduced_M = matrix(SR, len(M_pivot_rows), M.ncols(), reduced_list)\n",
    "    #reduced_M_det = reduced_M.det()\n",
    "    #print (\"\")\n",
    "    #print(\"reduced_M.det() =\", reduced_M_det)\n",
    "    return reduced_M"
   ]
  },
  {
   "cell_type": "code",
   "execution_count": null,
   "metadata": {},
   "outputs": [],
   "source": [
    "def rot_H_solve(M_rotH, vars, eq_s_or_kappa, s_or_kappa):\n",
    "    logging = False\n",
    "    if (M_rotH.ncols() != len(vars)):\n",
    "        return\n",
    "    n = M_rotH.nrows()\n",
    "    xx = vector(SR, vars)\n",
    "    yy = zero_vector(SR, n)\n",
    "    eqns = [(M_rotH*xx)[index] == yy[index] for index in range(n)]\n",
    "    if logging:\n",
    "        print(\"eqns =\")\n",
    "        display(Math(latex(eqns)))\n",
    "    res = []\n",
    "\n",
    "    for index in range(n):\n",
    "        eq = eqns[index]\n",
    "        if logging:\n",
    "            print(\"eq =\")\n",
    "            print(eq)\n",
    "\n",
    "        if 0 == eq.lhs() and 0 == eq.rhs():\n",
    "            continue\n",
    "\n",
    "        for var in vars:\n",
    "            if logging:\n",
    "                print(\"solve([eq, var])\")\n",
    "                display(Math(latex([eq, var])))\n",
    "                print(\"\")\n",
    "\n",
    "            sol = solve(eq, var)\n",
    "            if logging:\n",
    "                print(\"sol=\")\n",
    "                display(Math(latex(sol)))\n",
    "\n",
    "            if 0 == len(sol):\n",
    "                continue\n",
    "\n",
    "            if logging:\n",
    "                print(\"eq_s_or_kappa =\")\n",
    "                display(Math(latex(eq_s_or_kappa)))\n",
    "            sol_s_or_kappa_2 = solve(eq_s_or_kappa, s_or_kappa^2)\n",
    "\n",
    "            if logging:\n",
    "                print(\"sol_s_or_kappa_2[0].rhs()=\")\n",
    "                display(Math(latex(sol_s_or_kappa_2[0].rhs())))\n",
    "                print(\"\")\n",
    "\n",
    "            if 0 == len(sol_s_or_kappa_2):\n",
    "                continue\n",
    "\n",
    "            vars_for_collect = vars\n",
    "            vars_for_collect.remove(var)\n",
    "\n",
    "            sl = sol[0].rhs()\n",
    "\n",
    "            for var_for_collect in vars_for_collect:\n",
    "                sl = sl.collect(var_for_collect)\n",
    "\n",
    "            if logging:\n",
    "                print(\"sl =\")\n",
    "                display(Math(latex(sl)))\n",
    "                print(\"\")\n",
    "\n",
    "            ans1 = sl.subs( sol_s_or_kappa_2[0].rhs()*c^2 ==  sol_s_or_kappa_2[0].lhs()*c^2)\n",
    "            ans2 = sl.subs(-sol_s_or_kappa_2[0].rhs()*c^2 == -sol_s_or_kappa_2[0].lhs()*c^2)\n",
    "\n",
    "            ans = ans1\n",
    "            if ans1.number_of_operands() > ans2.number_of_operands():\n",
    "                ans = ans2\n",
    "                \n",
    "            if logging:\n",
    "                print(\"ans =\")\n",
    "                display(Math(latex(ans)))\n",
    "                print(ans.arguments())\n",
    "\n",
    "            if omega in ans.arguments():\n",
    "                sol_omega_2 = solve(eq_s_or_kappa, omega^2)\n",
    "                if logging:\n",
    "                    print(\"sol_omega_2 =\")\n",
    "                    display(Math(latex(sol_omega_2[0].rhs())))\n",
    "                som = ans.subs(omega^2 == sol_omega_2[0].rhs())\n",
    "                if logging:\n",
    "                    print(\"som =\")\n",
    "                    display(Math(latex(som)))\n",
    "                som = som.full_simplify()\n",
    "                if logging:\n",
    "                    print(\"som =\")\n",
    "                    display(Math(latex(som)))\n",
    "                res.append(var == som)\n",
    "            else:\n",
    "                res.append(var == ans)\n",
    "\n",
    "            if logging:\n",
    "                print(\"\")\n",
    "    return res"
   ]
  },
  {
   "cell_type": "code",
   "execution_count": null,
   "metadata": {},
   "outputs": [],
   "source": [
    "def rot_H_solve_s(M_rotH, vars):\n",
    "    logging = False\n",
    "    if (M_rotH.ncols() != len(vars)):\n",
    "        return\n",
    "    n = M_rotH.nrows()\n",
    "    xx = vector(SR, vars)\n",
    "    yy = zero_vector(SR, n)\n",
    "    eqns = [(M_rotH*xx)[index] == yy[index] for index in range(n)]\n",
    "    if logging:\n",
    "        display(Math(latex(eqns)))\n",
    "    res = []\n",
    "\n",
    "    for index in range(n):\n",
    "        eq = eqns[index]\n",
    "        \n",
    "        if 0 == eq.lhs() and 0 == eq.rhs():\n",
    "            continue\n",
    "            \n",
    "        for var in vars:\n",
    "            if logging:\n",
    "                print(\"solve([eq, var])\")\n",
    "                display(Math(latex([eq, var])))\n",
    "                print(\"\")\n",
    "            \n",
    "            sol = solve(eq, var)\n",
    "            if len(sol) > 0:\n",
    "                if logging:\n",
    "                    print(\"sol=\")\n",
    "                    display(Math(latex(sol[0])))\n",
    "                \n",
    "                vars_for_collect = vars\n",
    "                vars_for_collect.remove(var)\n",
    "                \n",
    "                sl = sol[0].rhs()\n",
    "                \n",
    "                for var_for_collect in vars_for_collect:\n",
    "                    sl = sl.collect(var_for_collect)\n",
    "                \n",
    "                if logging:\n",
    "                    print(\"sl =\")\n",
    "                    display(Math(latex(sl)))\n",
    "                    print(\"\")\n",
    "\n",
    "                res.append(var == sl)\n",
    "        if logging:\n",
    "            print(\"\")\n",
    "    return res"
   ]
  },
  {
   "cell_type": "code",
   "execution_count": null,
   "metadata": {},
   "outputs": [],
   "source": [
    "if set_Ey_0:\n",
    "    eqsys_rotH_inner_vacuum = [eq_rot_H_inner_vacuum_sol_x*(-I)*omega/c,\n",
    "                               #eq_rot_H_inner_vacuum_sol_y*(-I)*omega/c,\n",
    "                               eq_rot_H_inner_vacuum_sol_z*(-I)*omega/c,\n",
    "                              ]\n",
    "\n",
    "    eqsys_rotH_bad_conductor = [eq_rot_H_bad_conductor_sol_x*(-I)*omega/c,\n",
    "                                #eq_rot_H_bad_conductor_sol_y*(-I)*omega/c,\n",
    "                                eq_rot_H_bad_conductor_sol_z*(-I)*omega/c,\n",
    "                               ]\n",
    "\n",
    "    eqsys_boundary_conditions = [#eqEz_0,\n",
    "                                 #eqEy_0,\n",
    "                                 eqDx_a,\n",
    "                                 #eqEy_a,\n",
    "                                 eqEz_a,\n",
    "                                 #eqBx_a*(-I)*omega/c,\n",
    "                                 #eqHz_a*(-I)*omega/c,\n",
    "                                 #eqHy_a*(-I)*omega/c,\n",
    "                                ]    \n",
    "else:\n",
    "    eqsys_rotH_inner_vacuum = [eq_rot_H_inner_vacuum_sol_x*(-I)*omega/c,\n",
    "                               eq_rot_H_inner_vacuum_sol_y*(-I)*omega/c,\n",
    "                               eq_rot_H_inner_vacuum_sol_z*(-I)*omega/c,\n",
    "                              ]\n",
    "\n",
    "    eqsys_rotH_bad_conductor = [eq_rot_H_bad_conductor_sol_x*(-I)*omega/c,\n",
    "                                eq_rot_H_bad_conductor_sol_y*(-I)*omega/c,\n",
    "                                eq_rot_H_bad_conductor_sol_z*(-I)*omega/c,\n",
    "                               ]\n",
    "\n",
    "    eqsys_boundary_conditions = [#eqEz_0,\n",
    "                                 #eqEy_0,\n",
    "                                 eqDx_a,\n",
    "                                 eqEy_a,\n",
    "                                 eqEz_a,\n",
    "                                 #eqBx_a*(-I)*omega/c,\n",
    "                                 #eqHz_a*(-I)*omega/c,\n",
    "                                 #eqHy_a*(-I)*omega/c,\n",
    "                                ]"
   ]
  },
  {
   "cell_type": "code",
   "execution_count": null,
   "metadata": {},
   "outputs": [],
   "source": [
    "eqEz_0"
   ]
  },
  {
   "cell_type": "code",
   "execution_count": null,
   "metadata": {},
   "outputs": [],
   "source": [
    "# чётные\n",
    "even_vars     = [B1_x, B1_y, B1_z, B2_x, B2_y, B2_z, A2_x, A2_y, A2_z]\n",
    "if set_Ey_0:\n",
    "    even_vars = [B1_x,       B1_z, B2_x,       B2_z, A2_x,       A2_z] #2d -> E_y = 0\n",
    "\n",
    "even_vars_inner_vacuum     = [B1_x, B1_y, B1_z, B2_x, B2_y, B2_z]\n",
    "even_vars_inner_vacuum     = [                  B2_x, B2_y, B2_z]\n",
    "if set_Ey_0:\n",
    "    even_vars_inner_vacuum = [B1_x,       B1_z, B2_x,       B2_z] #2d -> E_y = 0\n",
    "\n",
    "# выражения для электрического поля в диэлектрике\n",
    "#   E_dielectric_z (x) = B1_z*cos(kappa*x) + B2_z*sin(kappa*x)\n",
    "#   E_dielectric_x (x) = B1_x*cos(kappa*x) + B2_x*sin(kappa*x)\n",
    "\n",
    "# граничные условия на границе идеального проводника и вакуума внутри резонатора\n",
    "# тангенциальная компонента электрического поля\n",
    "# B1_z == 0\n",
    "\n",
    "# условие отражающие выбор именно чётного характера решения\n",
    "# B2_x == 0\n",
    "\n",
    "even_eqs_inner_vacuum = [B2_x == 0, B1_z == 0]\n",
    "\n",
    "if set_Ey_0:\n",
    "    for even_eq_inner_vacuum in even_eqs_inner_vacuum:\n",
    "        even_vars.remove(even_eq_inner_vacuum.lhs())\n",
    "        even_vars_inner_vacuum.remove(even_eq_inner_vacuum.lhs())\n",
    "    \n",
    "print (\"even_vars =\")\n",
    "display(Math(latex(even_vars)))\n",
    "\n",
    "print (\"even_vars_inner_vacuum =\")\n",
    "display(Math(latex(even_vars_inner_vacuum)))\n",
    "\n",
    "even_M_rotH_inner_vacuum = GenerateMatrix(eqsys_rotH_inner_vacuum, even_vars_inner_vacuum)\n",
    "\n",
    "#print (\"eqsys_rotH_inner_vacuum =\")\n",
    "#display(Math(latex(eqsys_rotH_inner_vacuum)))\n",
    "\n",
    "print (\"even_M_rotH_inner_vacuum =\")\n",
    "display(Math(latex(even_M_rotH_inner_vacuum)))"
   ]
  },
  {
   "cell_type": "code",
   "execution_count": null,
   "metadata": {},
   "outputs": [],
   "source": [
    "even_res_rotH_inner_vacuum = rot_H_solve(even_M_rotH_inner_vacuum, even_vars_inner_vacuum, eq_kappa_inner_vacuum, kappa_vacuum)"
   ]
  },
  {
   "cell_type": "code",
   "execution_count": null,
   "metadata": {},
   "outputs": [],
   "source": [
    "for i in range (len(even_res_rotH_inner_vacuum)):\n",
    "    #display(Math(latex(even_res_rotH_inner_vacuum[i])))\n",
    "    print(even_res_rotH_inner_vacuum[i])\n",
    "    print(\"\")"
   ]
  },
  {
   "cell_type": "code",
   "execution_count": null,
   "metadata": {},
   "outputs": [],
   "source": [
    "even_vars_bad_conductor     = [A2_x, A2_y, A2_z]\n",
    "if set_Ey_0:\n",
    "    even_vars_bad_conductor = [A2_x,       A2_z] #2d\n",
    "\n",
    "even_M_rotH_bad_conductor = GenerateMatrix(eqsys_rotH_bad_conductor, even_vars_bad_conductor)\n",
    "\n",
    "#print (\"eqsys_rotH_bad_conductor =\")\n",
    "#display(Math(latex(eqsys_rotH_bad_conductor)))\n",
    "\n",
    "print (\"even_M_rotH_bad_conductor =\")\n",
    "display(Math(latex(even_M_rotH_bad_conductor)))"
   ]
  },
  {
   "cell_type": "code",
   "execution_count": null,
   "metadata": {},
   "outputs": [],
   "source": [
    "even_res_rotH_bad_conductor = rot_H_solve_s(even_M_rotH_bad_conductor, even_vars_bad_conductor)"
   ]
  },
  {
   "cell_type": "code",
   "execution_count": null,
   "metadata": {},
   "outputs": [],
   "source": [
    "print (\"even_res_rotH_bad_conductor =\")\n",
    "display(Math(latex(even_res_rotH_bad_conductor)))"
   ]
  },
  {
   "cell_type": "code",
   "execution_count": null,
   "metadata": {},
   "outputs": [],
   "source": [
    "#display(Math(latex(even_res_rotH_bad_conductor[0])))"
   ]
  },
  {
   "cell_type": "code",
   "execution_count": null,
   "metadata": {},
   "outputs": [],
   "source": [
    "eqsys_boundary_conditions"
   ]
  },
  {
   "cell_type": "code",
   "execution_count": null,
   "metadata": {},
   "outputs": [],
   "source": [
    "#eqsys_rotH_inner_vacuum"
   ]
  },
  {
   "cell_type": "code",
   "execution_count": null,
   "metadata": {},
   "outputs": [],
   "source": [
    "#eqsys_rotH_bad_conductor"
   ]
  },
  {
   "cell_type": "code",
   "execution_count": null,
   "metadata": {},
   "outputs": [],
   "source": []
  },
  {
   "cell_type": "code",
   "execution_count": null,
   "metadata": {},
   "outputs": [],
   "source": [
    "len(even_res_rotH_inner_vacuum)"
   ]
  },
  {
   "cell_type": "code",
   "execution_count": null,
   "metadata": {},
   "outputs": [],
   "source": [
    "for i in range (len(even_res_rotH_inner_vacuum)):\n",
    "    #display(Math(latex(even_res_rotH_inner_vacuum[i])))\n",
    "    #print(even_res_rotH_inner_vacuum[i])\n",
    "    print(\"\")"
   ]
  },
  {
   "cell_type": "code",
   "execution_count": null,
   "metadata": {},
   "outputs": [],
   "source": [
    "#even_res_rotH_bad_conductor"
   ]
  },
  {
   "cell_type": "code",
   "execution_count": null,
   "metadata": {},
   "outputs": [],
   "source": [
    "even_vars"
   ]
  },
  {
   "cell_type": "code",
   "execution_count": null,
   "metadata": {},
   "outputs": [],
   "source": [
    "eq_sys = eqsys_boundary_conditions + even_res_rotH_inner_vacuum + even_res_rotH_bad_conductor\n",
    "#eq_sys"
   ]
  },
  {
   "cell_type": "code",
   "execution_count": null,
   "metadata": {},
   "outputs": [],
   "source": [
    "eqsys_boundary_conditions"
   ]
  },
  {
   "cell_type": "code",
   "execution_count": null,
   "metadata": {},
   "outputs": [],
   "source": [
    "even_vars"
   ]
  },
  {
   "cell_type": "code",
   "execution_count": null,
   "metadata": {},
   "outputs": [],
   "source": [
    "even_M = GenerateMatrix(eq_sys, even_vars)\n",
    "print (\"even_M =\")\n",
    "display(Math(latex(even_M)))"
   ]
  },
  {
   "cell_type": "code",
   "execution_count": null,
   "metadata": {},
   "outputs": [],
   "source": [
    "even_M.nrows(), even_M.ncols()"
   ]
  },
  {
   "cell_type": "raw",
   "metadata": {},
   "source": [
    "if set_Ey_0:\n",
    "    try:\n",
    "        even_reduced_M = reduceDependedRows(even_M)\n",
    "    except:\n",
    "        M_pivot_rows = (0, 1, 2, 3, 4, 6)\n",
    "        even_reduced_M = reduceRows(even_M, M_pivot_rows)\n",
    "    even_reduced_M_det = even_reduced_M.det()\n",
    "    #display(Math(latex(even_reduced_M)))"
   ]
  },
  {
   "cell_type": "code",
   "execution_count": null,
   "metadata": {},
   "outputs": [],
   "source": [
    "if set_Ey_0:\n",
    "    M_pivot_rows = (0, 1, 2, 4)\n",
    "    even_reduced_M = reduceRows(even_M, M_pivot_rows)\n",
    "else:\n",
    "    #M_pivot_rows = (0, 1, 2, 5, 6, 7, 8, 9, 10)\n",
    "    even_reduced_M = even_M #reduceRows(even_M, M_pivot_rows)"
   ]
  },
  {
   "cell_type": "code",
   "execution_count": null,
   "metadata": {},
   "outputs": [],
   "source": [
    "display(Math(latex(even_reduced_M)))"
   ]
  },
  {
   "cell_type": "code",
   "execution_count": null,
   "metadata": {},
   "outputs": [],
   "source": [
    "even_reduced_M_det = even_reduced_M.det()"
   ]
  },
  {
   "cell_type": "code",
   "execution_count": null,
   "metadata": {},
   "outputs": [],
   "source": [
    "#print(even_reduced_M_det)"
   ]
  },
  {
   "cell_type": "code",
   "execution_count": null,
   "metadata": {},
   "outputs": [],
   "source": [
    "even_reduced_M_det_numerator = even_reduced_M_det.numerator()"
   ]
  },
  {
   "cell_type": "code",
   "execution_count": null,
   "metadata": {},
   "outputs": [],
   "source": [
    "#even_reduced_M_det_numerator"
   ]
  },
  {
   "cell_type": "code",
   "execution_count": null,
   "metadata": {},
   "outputs": [],
   "source": [
    "#print (\"even_reduced_M_det =\")\n",
    "#display(Math(latex(even_reduced_M_det)))"
   ]
  },
  {
   "cell_type": "code",
   "execution_count": null,
   "metadata": {},
   "outputs": [],
   "source": []
  },
  {
   "cell_type": "code",
   "execution_count": null,
   "metadata": {},
   "outputs": [],
   "source": [
    "even_disp_eq = (even_reduced_M_det_numerator == 0)"
   ]
  },
  {
   "cell_type": "code",
   "execution_count": null,
   "metadata": {},
   "outputs": [],
   "source": [
    "print (\"even_disp_eq =\")\n",
    "print(even_disp_eq)"
   ]
  },
  {
   "cell_type": "code",
   "execution_count": null,
   "metadata": {},
   "outputs": [],
   "source": [
    "even_disp_eq_re = (even_reduced_M_det.real() == 0)\n",
    "#print (\"even_disp_eq_re =\")\n",
    "#display(Math(latex(even_disp_eq_re)))"
   ]
  },
  {
   "cell_type": "code",
   "execution_count": null,
   "metadata": {},
   "outputs": [],
   "source": [
    "even_disp_eq_im = (even_reduced_M_det.imag() == 0)\n",
    "#print (\"even_disp_eq_im =\")\n",
    "#display(Math(latex(even_disp_eq_im)))"
   ]
  },
  {
   "cell_type": "code",
   "execution_count": null,
   "metadata": {},
   "outputs": [],
   "source": [
    "eq_s_bad_conductor"
   ]
  },
  {
   "cell_type": "code",
   "execution_count": null,
   "metadata": {},
   "outputs": [],
   "source": [
    "eq_k_x_bad_conductor = solve(eq_s_bad_conductor,kx)[0]\n",
    "eq_k_x_bad_conductor"
   ]
  },
  {
   "cell_type": "code",
   "execution_count": null,
   "metadata": {},
   "outputs": [],
   "source": [
    "H_bad_conductor_y(x).subs(even_res_rotH_bad_conductor[0]).subs(eq_k_x_bad_conductor)"
   ]
  },
  {
   "cell_type": "code",
   "execution_count": null,
   "metadata": {},
   "outputs": [],
   "source": [
    "even_H_inner_vacuum_y (x) = H_inner_vacuum_y (x).subs(even_res_rotH_inner_vacuum[0]).subs(even_eqs_inner_vacuum).subs(solve(eq_kappa_inner_vacuum,kz^2)).full_simplify()\n",
    "#print (\"even_H_inner_vacuum_y (x) \", even_H_inner_vacuum_y (x))"
   ]
  },
  {
   "cell_type": "code",
   "execution_count": null,
   "metadata": {},
   "outputs": [],
   "source": [
    "even_H_bad_conductor_y(x) = H_bad_conductor_y(x).subs(even_res_rotH_bad_conductor[0]).subs(solve(eq_s_bad_conductor,kx)).full_simplify()\n",
    "#print (\"even_H_bad_conductor_y (x) =\", even_H_bad_conductor_y (x))"
   ]
  },
  {
   "cell_type": "code",
   "execution_count": null,
   "metadata": {},
   "outputs": [],
   "source": [
    "even_E_inner_vacuum_z (x) = E_inner_vacuum_z (x).subs(even_res_rotH_inner_vacuum[0]).subs(even_eqs_inner_vacuum).subs(solve(eq_kappa_inner_vacuum,kz^2)).full_simplify()\n",
    "even_E_inner_vacuum_x (x) = E_inner_vacuum_x (x).subs(even_res_rotH_inner_vacuum[0]).subs(even_eqs_inner_vacuum).subs(solve(eq_kappa_inner_vacuum,kz^2)).full_simplify()\n",
    "\n",
    "# x > a\n",
    "even_E_bad_conductor_z (x) = E_bad_conductor_z (x).subs(even_res_rotH_bad_conductor[0])#.subs(solve(eq_s_bad_conductor,k_z)).full_simplify()\n",
    "even_E_bad_conductor_x (x) = E_bad_conductor_x (x).subs(even_res_rotH_bad_conductor[0])#.subs(solve(eq_s_bad_conductor,k_z)).full_simplify()\n",
    "\n",
    "#print (\"even_E_inner_vacuum_z (x) =\", even_E_inner_vacuum_z (x))\n",
    "#print (\"even_E_inner_vacuum_x (x) =\", even_E_inner_vacuum_x (x))\n",
    "#print (\"\")\n",
    "\n",
    "#print (\"even_E_bad_conductor_z (x) =\", even_E_bad_conductor_z (x))\n",
    "#print (\"even_E_bad_conductor_x (x) =\", even_E_bad_conductor_x (x))"
   ]
  },
  {
   "cell_type": "code",
   "execution_count": null,
   "metadata": {},
   "outputs": [],
   "source": [
    "# тангенциальная компонента напряженности магнитного поля\n",
    "even_eqHy_a  = even_H_bad_conductor_y (a)  == even_H_inner_vacuum_y (a)\n",
    "#even_eqHy_a"
   ]
  },
  {
   "cell_type": "code",
   "execution_count": null,
   "metadata": {},
   "outputs": [],
   "source": [
    "even_A = solve (even_eqHy_a, A2_z)\n",
    "#print (\"even_A =\")\n",
    "#display(Math(latex(even_A)))\n",
    "even_A = ((even_A[0].rhs()/e^(a*sx)).subs(even_disp_eq).full_simplify())*e^(a*sx)\n",
    "#print (\"even_A =\")\n",
    "#display(Math(latex(even_A)))"
   ]
  },
  {
   "cell_type": "code",
   "execution_count": null,
   "metadata": {},
   "outputs": [],
   "source": [
    "even_eq_kappa = eq_kappa_inner_vacuum.subs(even_disp_eq).full_simplify()\n",
    "#print(\"even_eq_kappa =\")\n",
    "#display(Math(latex(even_eq_kappa)))"
   ]
  },
  {
   "cell_type": "code",
   "execution_count": null,
   "metadata": {},
   "outputs": [],
   "source": [
    "even_sol_kappa = solve(even_eq_kappa, kappa)\n",
    "#print(\"even_sol_kappa =\")\n",
    "#display(Math(latex(even_sol_kappa)))"
   ]
  },
  {
   "cell_type": "code",
   "execution_count": null,
   "metadata": {},
   "outputs": [],
   "source": [
    "# sgs\n",
    "A = 0.1\n",
    "kappa_A_max = 13*pi.n()/2\n",
    "s_A_max = 20\n",
    "digit_values = [omega == 2*pi.n()*10^11, mu == 1, c == 299792458 * 100, epsilon == 5, sigma == 25]\n",
    "print (digit_values)"
   ]
  },
  {
   "cell_type": "code",
   "execution_count": null,
   "metadata": {},
   "outputs": [],
   "source": [
    "even_sol_kappa_d = even_sol_kappa[0].subs(digit_values)\n",
    "print(\"even_sol_kappa_d =\", even_sol_kappa_d)"
   ]
  },
  {
   "cell_type": "code",
   "execution_count": null,
   "metadata": {},
   "outputs": [],
   "source": [
    "r = omega / c * sqrt(epsilon * mu - 1)\n",
    "print (\"r =\", r)\n",
    "\n",
    "r = r.subs(digit_values)\n",
    "print (\"r =\", r)"
   ]
  },
  {
   "cell_type": "raw",
   "metadata": {},
   "source": [
    "even_disp_eq_fa = lambda x : even_disp_eq_s_d.rhs().subs(a == 1).subs(kappa == x)#.subs(kz == 1, kx == 1, sx == sx_subs, sz == sz_subs).subs(digit_values)\n",
    "even_disp_eq_fa(x)"
   ]
  },
  {
   "cell_type": "code",
   "execution_count": null,
   "metadata": {},
   "outputs": [],
   "source": [
    "len(eq_sys_sol)"
   ]
  },
  {
   "cell_type": "code",
   "execution_count": null,
   "metadata": {},
   "outputs": [],
   "source": [
    "for i in range(len(eq_sys_sol)):\n",
    "    print(eq_sys_sol[i])\n",
    "    print(\"\")\n",
    "    #even_disp_eq_fa_subs = even_disp_eq_fa(x).subs(eq_sys_sol[i])\n",
    "    #print(even_disp_eq_fa_subs)\n",
    "    #print(\"\")"
   ]
  },
  {
   "cell_type": "code",
   "execution_count": null,
   "metadata": {},
   "outputs": [],
   "source": []
  },
  {
   "cell_type": "code",
   "execution_count": null,
   "metadata": {},
   "outputs": [],
   "source": [
    "#even_disp_eq_fa(x)"
   ]
  },
  {
   "cell_type": "code",
   "execution_count": null,
   "metadata": {},
   "outputs": [],
   "source": [
    "p = plot([even_disp_eq_fa(x).real(), sqrt((r * A)^2 - x^2)], (x, 0, kappa_A_max), ymin = 0, ymax = s_A_max)\n",
    "p.show()"
   ]
  },
  {
   "cell_type": "code",
   "execution_count": null,
   "metadata": {},
   "outputs": [],
   "source": [
    "p = plot([even_disp_eq_fa(x).imag()], (x, 0, kappa_A_max))\n",
    "p.show()"
   ]
  },
  {
   "cell_type": "code",
   "execution_count": null,
   "metadata": {},
   "outputs": [],
   "source": [
    "even_disp_eq_f = lambda x : even_disp_eq_s_d.rhs().subs(kappa == x).subs(a == A).subs(kz == 1, kx == 1)\n",
    "even_disp_eq_f(x)"
   ]
  },
  {
   "cell_type": "code",
   "execution_count": null,
   "metadata": {},
   "outputs": [],
   "source": [
    "p = plot([even_disp_eq_f(x).real(), sqrt((r)^2 - x^2)], (x, 0, kappa_A_max / A), ymin = 0, ymax = s_A_max / A)\n",
    "p.show()"
   ]
  },
  {
   "cell_type": "code",
   "execution_count": null,
   "metadata": {
    "scrolled": true
   },
   "outputs": [],
   "source": [
    "even_f = lambda x : even_disp_eq_f(x).real() - sqrt((r)^2 - x^2)\n",
    "print (\"even_f(x) =\",even_f(x))\n",
    "p = plot(even_f, (0, kappa_A_max / A), ymin = - s_A_max / A, ymax = s_A_max / A)\n",
    "p.show()"
   ]
  },
  {
   "cell_type": "code",
   "execution_count": null,
   "metadata": {},
   "outputs": [],
   "source": [
    "even_kappa_sol = find_root(even_f(x) == 0, 0, 30)#pi/2/A)\n",
    "print(\"even_kappa_sol\", even_kappa_sol)"
   ]
  },
  {
   "cell_type": "code",
   "execution_count": null,
   "metadata": {},
   "outputs": [],
   "source": [
    "sin(even_kappa_sol*A)"
   ]
  },
  {
   "cell_type": "code",
   "execution_count": null,
   "metadata": {},
   "outputs": [],
   "source": [
    "even_kz_sol = solve(eq_kappa_inner_vacuum, kz)\n",
    "print(\"even_kz_sol =\", even_kz_sol)"
   ]
  },
  {
   "cell_type": "code",
   "execution_count": null,
   "metadata": {},
   "outputs": [],
   "source": [
    "even_kz_sol = abs(even_kz_sol[0].rhs()).subs(digit_values).subs(kappa == even_kappa_sol)\n",
    "print(\"even_kz_sol =\", even_kz_sol)"
   ]
  },
  {
   "cell_type": "code",
   "execution_count": null,
   "metadata": {},
   "outputs": [],
   "source": [
    "even_s_sol = even_disp_eq_s_d.rhs()\n",
    "print(\"even_s_sol =\", even_s_sol)"
   ]
  },
  {
   "cell_type": "code",
   "execution_count": null,
   "metadata": {},
   "outputs": [],
   "source": [
    "even_s_sol = even_s_sol.subs(kappa == even_kappa_sol)\n",
    "print(\"even_s_sol =\", even_s_sol)"
   ]
  },
  {
   "cell_type": "code",
   "execution_count": null,
   "metadata": {},
   "outputs": [],
   "source": [
    "even_s_sol = even_s_sol.subs(a == A).subs(kz == even_kz_sol)\n",
    "print(\"even_s_sol =\", even_s_sol)"
   ]
  },
  {
   "cell_type": "code",
   "execution_count": null,
   "metadata": {},
   "outputs": [],
   "source": [
    "even_s_sol"
   ]
  },
  {
   "cell_type": "code",
   "execution_count": null,
   "metadata": {},
   "outputs": [],
   "source": [
    "even_E_inner_vacuum_z_d (x) = even_E_inner_vacuum_z (x).subs(B2_z == 1, kappa == even_kappa_sol)\n",
    "print (\"even_E_inner_vacuum_z_d (x) =\", even_E_inner_vacuum_z_d (x))\n",
    "even_E_bad_conductor_z_d (x) = even_E_bad_conductor_z (x).subs(A2_z == even_A).subs(B2_z == 1, s_x == even_s_sol, kappa == even_kappa_sol, k_z == even_kz_sol, k_x == 0, a == A).subs(digit_values)\n",
    "print (\"even_E_bad_conductor_z_d (x) =\", even_E_bad_conductor_z_d (x))"
   ]
  },
  {
   "cell_type": "code",
   "execution_count": null,
   "metadata": {
    "scrolled": true
   },
   "outputs": [],
   "source": [
    "even_E_inner_vacuum_x_d (x) = even_E_inner_vacuum_x (x).subs(B2_z == 1, kappa == even_kappa_sol, k_z = even_kz_sol)\n",
    "print (\"even_E_inner_vacuum_x_d (x) =\", even_E_inner_vacuum_x_d (x))\n",
    "even_E_bad_conductor_x_d (x) = even_E_bad_conductor_x (x).subs(A2_z == even_A).subs(B2_z == 1, s_x == even_s_sol, kappa == even_kappa_sol, k_z == even_kz_sol, k_x == 0, a == A).subs(digit_values)\n",
    "print (\"even_E_bad_conductor_x_d (x) =\", even_E_bad_conductor_x_d (x))"
   ]
  },
  {
   "cell_type": "code",
   "execution_count": null,
   "metadata": {},
   "outputs": [],
   "source": [
    "even_H_inner_vacuum_y_d (x) = even_H_inner_vacuum_y (x).subs(B2_z == 1, kappa == even_kappa_sol).subs(digit_values)\n",
    "print (\"even_H_inner_vacuum_y_d (x) =\", even_H_inner_vacuum_y_d (x))\n",
    "even_H_bad_conductor_y_d (x) = even_H_bad_conductor_y (x).subs(A2_z == even_A).subs(B2_z == 1, s_x == even_s_sol, kappa == even_kappa_sol, k_z == even_kz_sol, k_x == 0, a == A).subs(digit_values)\n",
    "print (\"even_H_bad_conductor_y_d (x) =\", even_H_bad_conductor_y_d (x))"
   ]
  },
  {
   "cell_type": "code",
   "execution_count": null,
   "metadata": {},
   "outputs": [],
   "source": [
    "p = plot(even_E_inner_vacuum_z_d (x), (x, 0, A))\n",
    "p += plot(even_E_bad_conductor_z_d (x), (x, A, 3*A))\n",
    "p.show(title=\"График тангенциальной компоненты электрического поля\")"
   ]
  },
  {
   "cell_type": "code",
   "execution_count": null,
   "metadata": {},
   "outputs": [],
   "source": [
    "p = plot(even_E_inner_vacuum_x_d (x).imag(), (x, 0, A))\n",
    "p += plot(even_E_bad_conductor_x_d (x).imag(), (x, A, 3*A))\n",
    "p.show(title=\"График нормальной компоненты электрического поля\")"
   ]
  },
  {
   "cell_type": "code",
   "execution_count": null,
   "metadata": {},
   "outputs": [],
   "source": [
    "p = plot(even_E_inner_vacuum_x_d (x).imag(), (x, 0, A))\n",
    "p += plot(even_E_bad_conductor_x_d (x).imag()*epsilon.subs(digit_values), (x, A, 3*A))\n",
    "p.show(title=\"График нормальной компоненты электрического смещения\")"
   ]
  },
  {
   "cell_type": "code",
   "execution_count": null,
   "metadata": {},
   "outputs": [],
   "source": [
    "p = plot(even_H_inner_vacuum_y_d (x).imag(), (x, 0, A))\n",
    "p += plot(even_H_bad_conductor_y_d (x).imag(), (x, A, 3*A))\n",
    "p.show(title=\"График тангенциальной компоненты напряженности магнитного поля H\")"
   ]
  },
  {
   "cell_type": "markdown",
   "metadata": {},
   "source": [
    "Решение получено и соответствует приведенному в решебнике ответу.\n",
    "\n",
    "Теперь посчитаем:\n",
    "\n",
    "1) пондеромоторную силу, приложенную к идеальному проводнику\n",
    "\n",
    "2) пондеромоторную силу, приложенную к границе диэлектрика и вакуума\n"
   ]
  },
  {
   "cell_type": "code",
   "execution_count": null,
   "metadata": {},
   "outputs": [],
   "source": []
  },
  {
   "cell_type": "markdown",
   "metadata": {},
   "source": [
    "1) пондеромоторная сила, приложенная к идеальному проводнику"
   ]
  },
  {
   "cell_type": "code",
   "execution_count": null,
   "metadata": {},
   "outputs": [],
   "source": [
    "# superconductor force\n",
    "# additional 1/2 arises as result of integration on period\n",
    "f_superconductor = - abs((even_H_inner_vacuum_y (0)^2) / (2*8*pi))\n",
    "print(\"f_superconductor =\", f_superconductor)"
   ]
  },
  {
   "cell_type": "code",
   "execution_count": null,
   "metadata": {},
   "outputs": [],
   "source": [
    "f_superconductor_d = f_superconductor.subs(digit_values).subs(B2_z == 1, kappa == even_kappa_sol)\n",
    "print(\"f_superconductor_d =\", f_superconductor_d)"
   ]
  },
  {
   "cell_type": "markdown",
   "metadata": {},
   "source": [
    "2) пондеромоторная сила, приложенная к плохому проводнику"
   ]
  },
  {
   "cell_type": "code",
   "execution_count": null,
   "metadata": {},
   "outputs": [],
   "source": [
    "# bad conductor force\n",
    "# additional 1/2 arises as result of integration on period\n",
    "f_bad_conductor = abs((even_H_inner_vacuum_y (a)^2) / (2*8*pi))\n",
    "print(\"f_bad_conductor =\", f_bad_conductor)"
   ]
  },
  {
   "cell_type": "code",
   "execution_count": null,
   "metadata": {},
   "outputs": [],
   "source": [
    "f_bad_conductor_d  = f_bad_conductor .subs(digit_values).subs(B2_z == 1, kappa == even_kappa_sol, a == A)\n",
    "print(\"f_bad_conductor_d  =\", f_bad_conductor_d )"
   ]
  },
  {
   "cell_type": "code",
   "execution_count": null,
   "metadata": {},
   "outputs": [],
   "source": []
  },
  {
   "cell_type": "code",
   "execution_count": null,
   "metadata": {},
   "outputs": [],
   "source": [
    "# bad conductor force\n",
    "# additional 1/2 arises as result of integration on period\n",
    "p_bad_conductor = (1.0 - epsilon) *(even_E_inner_vacuum_z (a)^2) / (2*8*pi)\n",
    "print(\"p_bad_conductor =\", p_bad_conductor)"
   ]
  },
  {
   "cell_type": "code",
   "execution_count": null,
   "metadata": {},
   "outputs": [],
   "source": [
    "p_bad_conductor_d  = p_bad_conductor .subs(digit_values).subs(B2_z == 1, kappa == even_kappa_sol, a == A)\n",
    "print(\"p_bad_conductor_d  =\", p_bad_conductor_d )"
   ]
  },
  {
   "cell_type": "code",
   "execution_count": null,
   "metadata": {},
   "outputs": [],
   "source": []
  },
  {
   "cell_type": "code",
   "execution_count": null,
   "metadata": {
    "scrolled": true
   },
   "outputs": [],
   "source": [
    "# super conductor tension\n",
    "# additional 1/2 arises as result of integration on period\n",
    "t_super_conductor = (0.0 - 1/1.) *(even_E_inner_vacuum_x (0).imag()^2 + even_E_inner_vacuum_x(0).real()^2) / (2*8*pi)\n",
    "print(\"t_super_conductor =\", t_super_conductor)"
   ]
  },
  {
   "cell_type": "code",
   "execution_count": null,
   "metadata": {},
   "outputs": [],
   "source": [
    "t_super_conductor_d  = t_super_conductor .subs(digit_values).subs(B2_z == 1, kappa == even_kappa_sol, k_z == even_kz_sol, a == A)\n",
    "print(\"t_super_conductor_d  =\", t_super_conductor_d )"
   ]
  },
  {
   "cell_type": "code",
   "execution_count": null,
   "metadata": {},
   "outputs": [],
   "source": [
    "# bad conductor force\n",
    "# additional 1/2 arises as result of integration on period\n",
    "t_bad_conductor = (1.0/1.0 - 1/epsilon) *(even_E_inner_vacuum_x (a).imag()^2 + even_E_inner_vacuum_x(a).real()^2) / (2*8*pi)\n",
    "print(\"t_bad_conductor =\", t_bad_conductor)"
   ]
  },
  {
   "cell_type": "code",
   "execution_count": null,
   "metadata": {},
   "outputs": [],
   "source": [
    "t_bad_conductor_d  = t_bad_conductor .subs(digit_values).subs(B2_z == 1, kappa == even_kappa_sol, k_z == even_kz_sol, a == A)\n",
    "print(\"t_bad_conductor_d  =\", t_bad_conductor_d )"
   ]
  },
  {
   "cell_type": "code",
   "execution_count": null,
   "metadata": {},
   "outputs": [],
   "source": []
  },
  {
   "cell_type": "markdown",
   "metadata": {},
   "source": [
    "Результаты вычислений показывают, что тяга в волновом двигателе с внутренним расходом энергии Ф.Ф.Менде (MenDrive) ненулевая и равна"
   ]
  },
  {
   "cell_type": "code",
   "execution_count": null,
   "metadata": {},
   "outputs": [],
   "source": [
    "(f_superconductor + f_bad_conductor).full_simplify()"
   ]
  },
  {
   "cell_type": "code",
   "execution_count": null,
   "metadata": {},
   "outputs": [],
   "source": [
    "f_superconductor_d + f_bad_conductor_d + t_super_conductor_d + t_bad_conductor_d - p_bad_conductor_d"
   ]
  },
  {
   "cell_type": "code",
   "execution_count": null,
   "metadata": {},
   "outputs": [],
   "source": [
    "(f_superconductor_d + f_bad_conductor_d)"
   ]
  },
  {
   "cell_type": "code",
   "execution_count": null,
   "metadata": {},
   "outputs": [],
   "source": [
    "(t_super_conductor_d + t_bad_conductor_d)"
   ]
  },
  {
   "cell_type": "code",
   "execution_count": null,
   "metadata": {},
   "outputs": [],
   "source": [
    "-p_bad_conductor_d"
   ]
  },
  {
   "cell_type": "markdown",
   "metadata": {},
   "source": [
    "положительный знак соответствует направлению тяги в сторону увеличения значений x"
   ]
  },
  {
   "cell_type": "code",
   "execution_count": null,
   "metadata": {},
   "outputs": [],
   "source": []
  },
  {
   "cell_type": "code",
   "execution_count": null,
   "metadata": {},
   "outputs": [],
   "source": []
  },
  {
   "cell_type": "code",
   "execution_count": null,
   "metadata": {},
   "outputs": [],
   "source": []
  }
 ],
 "metadata": {
  "kernelspec": {
   "display_name": "SageMath 9.4.rc2",
   "language": "sage",
   "name": "sagemath"
  },
  "language_info": {
   "codemirror_mode": {
    "name": "ipython",
    "version": 3
   },
   "file_extension": ".py",
   "mimetype": "text/x-python",
   "name": "python",
   "nbconvert_exporter": "python",
   "pygments_lexer": "ipython3",
   "version": "3.9.5"
  }
 },
 "nbformat": 4,
 "nbformat_minor": 4
}
